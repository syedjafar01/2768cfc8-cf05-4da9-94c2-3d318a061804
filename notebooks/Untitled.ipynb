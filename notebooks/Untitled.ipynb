{
 "cells": [
  {
   "cell_type": "code",
   "execution_count": 16,
   "id": "independent-cincinnati",
   "metadata": {},
   "outputs": [
    {
     "name": "stdout",
     "output_type": "stream",
     "text": [
      "Tenant-Repo Categories \n",
      "├── Spark\n",
      "│   ├── Dataframe\n",
      "│   └── DS_blocks\n",
      "├── Math\n",
      "│   ├── Basic\n",
      "│   └── Advanced\n",
      "├── Nest_1\n",
      "│   └── Nest_2\n",
      "│       └── Nest_3\n",
      "├── Category1\n",
      "├── DLBlock\n",
      "├── DLBlocks\n",
      "├── Sub_Market\n",
      "├── Batman\n",
      "├── xcx\n",
      "├── Sub_category\n",
      "├── Utils\n",
      "├── My_Test_Category\n",
      "│   └── Sub_Categ\n",
      "├── help\n",
      "├── category121\n",
      "└── rv_test\n",
      "\n",
      "Marketplace Categories \n",
      "├── my_category\n",
      "├── Test1\n",
      "│   └── Sub-Test1\n",
      "├── Rukh_1\n",
      "├── Marketplace_1\n",
      "└── my_category1\n",
      "\n"
     ]
    }
   ],
   "source": [
    "from razor.api import blocks\n",
    "blocks.categories()"
   ]
  },
  {
   "cell_type": "code",
   "execution_count": 25,
   "id": "faced-south",
   "metadata": {},
   "outputs": [],
   "source": [
    "blocks.init_bundle(bundle=\"./test3\", category=\"Batman\")"
   ]
  },
  {
   "cell_type": "code",
   "execution_count": 26,
   "id": "political-italic",
   "metadata": {},
   "outputs": [],
   "source": [
    "from razor.api.core import BlockScope\n",
    "blocks.publish(bundle=\"./test3\", scope=BlockScope.PROJECT, overwrite=True)"
   ]
  },
  {
   "cell_type": "code",
   "execution_count": null,
   "id": "prompt-weekly",
   "metadata": {},
   "outputs": [],
   "source": []
  }
 ],
 "metadata": {
  "kernelspec": {
   "display_name": "Python 3",
   "language": "python",
   "name": "python3"
  },
  "language_info": {
   "codemirror_mode": {
    "name": "ipython",
    "version": 3
   },
   "file_extension": ".py",
   "mimetype": "text/x-python",
   "name": "python",
   "nbconvert_exporter": "python",
   "pygments_lexer": "ipython3",
   "version": "3.7.10"
  }
 },
 "nbformat": 4,
 "nbformat_minor": 5
}
