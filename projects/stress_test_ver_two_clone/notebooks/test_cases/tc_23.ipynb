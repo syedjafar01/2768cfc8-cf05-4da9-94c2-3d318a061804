{
 "cells": [
  {
   "cell_type": "code",
   "execution_count": 1,
   "metadata": {},
   "outputs": [],
   "source": [
    "import razor.flow as rf\n",
    "from razor.api import datasources, engines, project_space_path\n",
    "import logging\n",
    "import time\n",
    "import typing as typ\n",
    "import numpy as np\n",
    "import pandas as pd\n",
    "\n",
    "logger = logging.getLogger()"
   ]
  },
  {
   "cell_type": "code",
   "execution_count": 2,
   "metadata": {},
   "outputs": [],
   "source": [
    "config = {'cores': 1, 'ram': 4096}"
   ]
  },
  {
   "cell_type": "code",
   "execution_count": 3,
   "metadata": {},
   "outputs": [],
   "source": [
    "@rf.block(executor=rf.ContainerExecutor(cores=config['cores'], memory=config['ram']))\n",
    "class STDIn:\n",
    "    filename: str\n",
    "    records: int\n",
    "    out_ds: rf.SeriesOutput[typ.Any] = rf.Output(transport=rf.KafkaTransport)\n",
    "\n",
    "    def run(self):\n",
    "        with open(project_space_path(self.filename), 'r') as f:\n",
    "            text_str = f.read()\n",
    "\n",
    "        logger.info(len(text_str))\n",
    "        for _ in range(self.records):\n",
    "            self.out_ds.put(text_str)\n",
    "\n",
    "            \n",
    "@rf.block(executor=rf.ContainerExecutor(cores=config['cores'], memory=config['ram']))\n",
    "class ReplaceChar:\n",
    "    in_ds: rf.SeriesInput[typ.Any]\n",
    "    out_ds: rf.SeriesOutput[typ.Any] = rf.Output(transport=rf.KafkaTransport)\n",
    "\n",
    "    def run(self):\n",
    "        for i in self.in_ds:\n",
    "            text_str = i.replace('r', '!!!R!!!')\n",
    "            self.out_ds.put(text_str)\n",
    "            \n",
    "            \n",
    "@rf.block(executor=rf.ContainerExecutor(cores=config['cores'], memory=config['ram']))            \n",
    "class PrintReplaceFreq:\n",
    "    s_in_ds: rf.SeriesInput[typ.Any]\n",
    "    l_in_ds: rf.SeriesInput[typ.Any]\n",
    "    s_out_ds: rf.SeriesOutput[typ.Any] = rf.Output(transport=rf.KafkaTransport)\n",
    "    l_out_ds: rf.SeriesOutput[typ.Any] = rf.Output(transport=rf.KafkaTransport)\n",
    "\n",
    "    def run(self):\n",
    "        logger.info('small')\n",
    "        for i in self.s_in_ds:\n",
    "            logger.info(i.count('!!!R!!!'))\n",
    "            self.s_out_ds.put(i)\n",
    "            \n",
    "        logger.info('big')\n",
    "        for i in self.l_in_ds:\n",
    "            logger.info(i.count('!!!R!!!'))\n",
    "            self.l_out_ds.put(i)\n",
    "            \n",
    "            \n",
    "@rf.block(executor=rf.ContainerExecutor(cores=config['cores'], memory=config['ram']))\n",
    "class DeReplaceChar:\n",
    "    in_ds: rf.SeriesInput[typ.Any]\n",
    "    out_ds: rf.SeriesOutput[typ.Any] = rf.Output(transport=rf.KafkaTransport)\n",
    "\n",
    "    def run(self):\n",
    "        for i in self.in_ds:\n",
    "            text_str = i.replace('!!!R!!!', 'r')\n",
    "            self.out_ds.put(text_str)\n",
    "\n",
    "\n",
    "@rf.block(executor=rf.ContainerExecutor(cores=config['cores'], memory=config['ram']))\n",
    "class STDOut:\n",
    "    in_ds: rf.SeriesInput[typ.Any]\n",
    "    out_filename: str\n",
    "\n",
    "    def run(self):\n",
    "        text_str = ''\n",
    "        for i in self.in_ds:\n",
    "            if len(text_str) == 0:\n",
    "                text_str = i\n",
    "            else:\n",
    "                continue\n",
    "        logger.info(len(text_str))\n",
    "        with open(project_space_path(self.out_filename), 'w') as f:\n",
    "            f.write(text_str)\n",
    "            "
   ]
  },
  {
   "cell_type": "code",
   "execution_count": 4,
   "metadata": {},
   "outputs": [
    {
     "data": {
      "application/vnd.razorthink.interactive+pipeline+view+json": {
       "blocks": [
        {
         "class_name": "STDIn",
         "id": "efd0778b-5edf-4d0a-a3d1-dd2a12013ff3",
         "inputs": [
          {
           "default": null,
           "flow": "atomic",
           "help": null,
           "label": "filename",
           "name": "filename",
           "series": false,
           "type": "str",
           "type_check": true
          },
          {
           "default": null,
           "flow": "atomic",
           "help": null,
           "label": "records",
           "name": "records",
           "series": false,
           "type": "int",
           "type_check": true
          }
         ],
         "outputs": [
          {
           "flow": "series",
           "help": null,
           "label": "out_ds",
           "name": "out_ds",
           "series": true,
           "type": "Any",
           "type_check": true
          }
         ],
         "overwritten": false,
         "var_names": [
          "STDIn"
         ]
        },
        {
         "class_name": "STDOut",
         "id": "c64fa13a-59b8-4ae0-9411-47f404c7f581",
         "inputs": [
          {
           "default": null,
           "flow": "series",
           "help": null,
           "label": "in_ds",
           "name": "in_ds",
           "series": true,
           "type": "Any",
           "type_check": true
          },
          {
           "default": null,
           "flow": "atomic",
           "help": null,
           "label": "out_filename",
           "name": "out_filename",
           "series": false,
           "type": "str",
           "type_check": true
          }
         ],
         "outputs": [],
         "overwritten": false,
         "var_names": [
          "STDOut"
         ]
        },
        {
         "class_name": "ReplaceChar",
         "id": "0d1a972a-5e22-470f-9261-9736a77ee9be",
         "inputs": [
          {
           "default": null,
           "flow": "series",
           "help": null,
           "label": "in_ds",
           "name": "in_ds",
           "series": true,
           "type": "Any",
           "type_check": true
          }
         ],
         "outputs": [
          {
           "flow": "series",
           "help": null,
           "label": "out_ds",
           "name": "out_ds",
           "series": true,
           "type": "Any",
           "type_check": true
          }
         ],
         "overwritten": false,
         "var_names": [
          "ReplaceChar"
         ]
        },
        {
         "class_name": "PrintReplaceFreq",
         "id": "6e3b3ad2-bb81-46a4-983c-2952ab8e82f7",
         "inputs": [
          {
           "default": null,
           "flow": "series",
           "help": null,
           "label": "s_in_ds",
           "name": "s_in_ds",
           "series": true,
           "type": "Any",
           "type_check": true
          },
          {
           "default": null,
           "flow": "series",
           "help": null,
           "label": "l_in_ds",
           "name": "l_in_ds",
           "series": true,
           "type": "Any",
           "type_check": true
          }
         ],
         "outputs": [
          {
           "flow": "series",
           "help": null,
           "label": "s_out_ds",
           "name": "s_out_ds",
           "series": true,
           "type": "Any",
           "type_check": true
          },
          {
           "flow": "series",
           "help": null,
           "label": "l_out_ds",
           "name": "l_out_ds",
           "series": true,
           "type": "Any",
           "type_check": true
          }
         ],
         "overwritten": false,
         "var_names": [
          "PrintReplaceFreq"
         ]
        },
        {
         "class_name": "DeReplaceChar",
         "id": "8e9cc634-ec60-4e15-b266-092ac2bb7226",
         "inputs": [
          {
           "default": null,
           "flow": "series",
           "help": null,
           "label": "in_ds",
           "name": "in_ds",
           "series": true,
           "type": "Any",
           "type_check": true
          }
         ],
         "outputs": [
          {
           "flow": "series",
           "help": null,
           "label": "out_ds",
           "name": "out_ds",
           "series": true,
           "type": "Any",
           "type_check": true
          }
         ],
         "overwritten": false,
         "var_names": [
          "DeReplaceChar"
         ]
        }
       ],
       "connections": [
        {
         "id": "bed6d7f2-c971-48ec-be11-05c69ec407d8",
         "source": {
          "adapter": false,
          "instance_id": "6e72d4f1-ae8c-479c-b967-2129c2a7fd62",
          "name": "out_ds"
         },
         "target": {
          "adapter": false,
          "instance_id": "d1d0ded2-cc15-4de0-a643-2c20c736094d",
          "name": "in_ds"
         }
        },
        {
         "id": "fec58a29-2249-4064-9847-7188e8a7b855",
         "source": {
          "adapter": false,
          "instance_id": "77689124-6623-4587-abfb-9366192a378e",
          "name": "out_ds"
         },
         "target": {
          "adapter": false,
          "instance_id": "cf16c571-488d-4c36-b232-bd301bddcd2e",
          "name": "in_ds"
         }
        },
        {
         "id": "86210d50-8746-4c7d-825e-f996fd3f831e",
         "source": {
          "adapter": false,
          "instance_id": "d1d0ded2-cc15-4de0-a643-2c20c736094d",
          "name": "out_ds"
         },
         "target": {
          "adapter": false,
          "instance_id": "89311314-1db7-4878-84e2-2df8f78bd732",
          "name": "s_in_ds"
         }
        },
        {
         "id": "18d3d232-78dd-46a1-baf0-54d557296a59",
         "source": {
          "adapter": false,
          "instance_id": "3a912410-4486-4cb1-8b93-398def8a9c4f",
          "name": "out_ds"
         },
         "target": {
          "adapter": false,
          "instance_id": "4c7ddf52-ced9-4ae3-b28f-fe423dcde9e4",
          "name": "in_ds"
         }
        },
        {
         "id": "95ca3ad6-7757-4f50-b0da-4f57f2724edb",
         "source": {
          "adapter": false,
          "instance_id": "89311314-1db7-4878-84e2-2df8f78bd732",
          "name": "l_out_ds"
         },
         "target": {
          "adapter": false,
          "instance_id": "60175709-47e1-4470-91ca-e5268d2fe0b6",
          "name": "in_ds"
         }
        },
        {
         "id": "7a5af994-220a-4c56-a4c3-306ed7c1bc53",
         "source": {
          "adapter": false,
          "instance_id": "60175709-47e1-4470-91ca-e5268d2fe0b6",
          "name": "out_ds"
         },
         "target": {
          "adapter": false,
          "instance_id": "6a418315-96c0-42cd-955b-bf08ec968d79",
          "name": "in_ds"
         }
        },
        {
         "id": "9aa40bdb-bfbe-4eae-8dfb-9b84ba2dee59",
         "source": {
          "adapter": false,
          "instance_id": "4c7ddf52-ced9-4ae3-b28f-fe423dcde9e4",
          "name": "out_ds"
         },
         "target": {
          "adapter": false,
          "instance_id": "89311314-1db7-4878-84e2-2df8f78bd732",
          "name": "l_in_ds"
         }
        },
        {
         "id": "d8195a98-a2c3-4e70-a96f-0621b5daa505",
         "source": {
          "adapter": false,
          "instance_id": "89311314-1db7-4878-84e2-2df8f78bd732",
          "name": "s_out_ds"
         },
         "target": {
          "adapter": false,
          "instance_id": "77689124-6623-4587-abfb-9366192a378e",
          "name": "in_ds"
         }
        }
       ],
       "id": "a5287fac-9e6a-4bb7-be67-7729318cbdf4",
       "instances": [
        {
         "block_class": "c64fa13a-59b8-4ae0-9411-47f404c7f581",
         "id": "cf16c571-488d-4c36-b232-bd301bddcd2e",
         "name": "STDOut_1",
         "var_names": [
          "s_stdout"
         ]
        },
        {
         "block_class": "8e9cc634-ec60-4e15-b266-092ac2bb7226",
         "id": "77689124-6623-4587-abfb-9366192a378e",
         "name": "DeReplaceChar_1",
         "var_names": [
          "s_derep_char"
         ]
        },
        {
         "block_class": "6e3b3ad2-bb81-46a4-983c-2952ab8e82f7",
         "id": "89311314-1db7-4878-84e2-2df8f78bd732",
         "name": "PrintReplaceFreq_1",
         "var_names": [
          "print_rep_freq"
         ]
        },
        {
         "block_class": "0d1a972a-5e22-470f-9261-9736a77ee9be",
         "id": "d1d0ded2-cc15-4de0-a643-2c20c736094d",
         "name": "ReplaceChar_1",
         "var_names": [
          "s_rep_char"
         ]
        },
        {
         "block_class": "efd0778b-5edf-4d0a-a3d1-dd2a12013ff3",
         "id": "6e72d4f1-ae8c-479c-b967-2129c2a7fd62",
         "name": "STDIn_1",
         "var_names": [
          "s_std_in"
         ]
        },
        {
         "block_class": "0d1a972a-5e22-470f-9261-9736a77ee9be",
         "id": "4c7ddf52-ced9-4ae3-b28f-fe423dcde9e4",
         "name": "ReplaceChar_2",
         "var_names": [
          "l_rep_char"
         ]
        },
        {
         "block_class": "efd0778b-5edf-4d0a-a3d1-dd2a12013ff3",
         "id": "3a912410-4486-4cb1-8b93-398def8a9c4f",
         "name": "STDIn_2",
         "var_names": [
          "l_std_in"
         ]
        },
        {
         "block_class": "c64fa13a-59b8-4ae0-9411-47f404c7f581",
         "id": "6a418315-96c0-42cd-955b-bf08ec968d79",
         "name": "STDOut_2",
         "var_names": [
          "l_stdout"
         ]
        },
        {
         "block_class": "8e9cc634-ec60-4e15-b266-092ac2bb7226",
         "id": "60175709-47e1-4470-91ca-e5268d2fe0b6",
         "name": "DeReplaceChar_2",
         "var_names": [
          "l_derep_char"
         ]
        }
       ],
       "name": "mix_series_parallel",
       "var_names": []
      },
      "image/svg+xml": [
       "<?xml version=\"1.0\" encoding=\"UTF-8\" standalone=\"no\"?>\n",
       "<!DOCTYPE svg PUBLIC \"-//W3C//DTD SVG 1.1//EN\"\n",
       " \"http://www.w3.org/Graphics/SVG/1.1/DTD/svg11.dtd\">\n",
       "<!-- Generated by graphviz version 2.43.0 (0)\n",
       " -->\n",
       "<!-- Title: %3 Pages: 1 -->\n",
       "<svg width=\"476pt\" height=\"376pt\"\n",
       " viewBox=\"0.00 0.00 475.87 376.00\" xmlns=\"http://www.w3.org/2000/svg\" xmlns:xlink=\"http://www.w3.org/1999/xlink\">\n",
       "<g id=\"graph0\" class=\"graph\" transform=\"scale(1 1) rotate(0) translate(4 372)\">\n",
       "<title>%3</title>\n",
       "<polygon fill=\"white\" stroke=\"transparent\" points=\"-4,4 -4,-372 471.87,-372 471.87,4 -4,4\"/>\n",
       "<!-- STDOut(&#39;STDOut_1&#39;) -->\n",
       "<g id=\"node1\" class=\"node\">\n",
       "<title>STDOut(&#39;STDOut_1&#39;)</title>\n",
       "<ellipse fill=\"none\" stroke=\"black\" cx=\"112.43\" cy=\"-18\" rx=\"67.89\" ry=\"18\"/>\n",
       "<text text-anchor=\"middle\" x=\"112.43\" y=\"-15.5\" font-family=\"Helvetica,sans-Serif\" font-size=\"10.00\">STDOut(&#39;STDOut_1&#39;)</text>\n",
       "</g>\n",
       "<!-- DeReplaceChar(&#39;DeReplaceChar_1&#39;) -->\n",
       "<g id=\"node2\" class=\"node\">\n",
       "<title>DeReplaceChar(&#39;DeReplaceChar_1&#39;)</title>\n",
       "<ellipse fill=\"none\" stroke=\"black\" cx=\"112.43\" cy=\"-101\" rx=\"112.37\" ry=\"18\"/>\n",
       "<text text-anchor=\"middle\" x=\"112.43\" y=\"-98.5\" font-family=\"Helvetica,sans-Serif\" font-size=\"10.00\">DeReplaceChar(&#39;DeReplaceChar_1&#39;)</text>\n",
       "</g>\n",
       "<!-- DeReplaceChar(&#39;DeReplaceChar_1&#39;)&#45;&gt;STDOut(&#39;STDOut_1&#39;) -->\n",
       "<g id=\"edge1\" class=\"edge\">\n",
       "<title>DeReplaceChar(&#39;DeReplaceChar_1&#39;)&#45;&gt;STDOut(&#39;STDOut_1&#39;)</title>\n",
       "<path fill=\"none\" stroke=\"black\" d=\"M112.43,-82.82C112.43,-72.19 112.43,-58.31 112.43,-46.2\"/>\n",
       "<polygon fill=\"black\" stroke=\"black\" points=\"115.93,-46.15 112.43,-36.15 108.93,-46.15 115.93,-46.15\"/>\n",
       "<text text-anchor=\"middle\" x=\"147.43\" y=\"-57\" font-family=\"Helvetica,sans-Serif\" font-size=\"10.00\">out_ds&#45;&gt;in_ds</text>\n",
       "</g>\n",
       "<!-- PrintReplaceFreq(&#39;PrintReplaceFreq_1&#39;) -->\n",
       "<g id=\"node3\" class=\"node\">\n",
       "<title>PrintReplaceFreq(&#39;PrintReplaceFreq_1&#39;)</title>\n",
       "<ellipse fill=\"none\" stroke=\"black\" cx=\"233.43\" cy=\"-184\" rx=\"121.03\" ry=\"18\"/>\n",
       "<text text-anchor=\"middle\" x=\"233.43\" y=\"-181.5\" font-family=\"Helvetica,sans-Serif\" font-size=\"10.00\">PrintReplaceFreq(&#39;PrintReplaceFreq_1&#39;)</text>\n",
       "</g>\n",
       "<!-- PrintReplaceFreq(&#39;PrintReplaceFreq_1&#39;)&#45;&gt;DeReplaceChar(&#39;DeReplaceChar_1&#39;) -->\n",
       "<g id=\"edge2\" class=\"edge\">\n",
       "<title>PrintReplaceFreq(&#39;PrintReplaceFreq_1&#39;)&#45;&gt;DeReplaceChar(&#39;DeReplaceChar_1&#39;)</title>\n",
       "<path fill=\"none\" stroke=\"black\" d=\"M208.36,-166.22C190.27,-154.11 165.66,-137.63 145.89,-124.4\"/>\n",
       "<polygon fill=\"black\" stroke=\"black\" points=\"147.73,-121.42 137.47,-118.76 143.84,-127.23 147.73,-121.42\"/>\n",
       "<text text-anchor=\"middle\" x=\"220.93\" y=\"-140\" font-family=\"Helvetica,sans-Serif\" font-size=\"10.00\">s_out_ds&#45;&gt;in_ds</text>\n",
       "</g>\n",
       "<!-- DeReplaceChar(&#39;DeReplaceChar_2&#39;) -->\n",
       "<g id=\"node9\" class=\"node\">\n",
       "<title>DeReplaceChar(&#39;DeReplaceChar_2&#39;)</title>\n",
       "<ellipse fill=\"none\" stroke=\"black\" cx=\"355.43\" cy=\"-101\" rx=\"112.37\" ry=\"18\"/>\n",
       "<text text-anchor=\"middle\" x=\"355.43\" y=\"-98.5\" font-family=\"Helvetica,sans-Serif\" font-size=\"10.00\">DeReplaceChar(&#39;DeReplaceChar_2&#39;)</text>\n",
       "</g>\n",
       "<!-- PrintReplaceFreq(&#39;PrintReplaceFreq_1&#39;)&#45;&gt;DeReplaceChar(&#39;DeReplaceChar_2&#39;) -->\n",
       "<g id=\"edge3\" class=\"edge\">\n",
       "<title>PrintReplaceFreq(&#39;PrintReplaceFreq_1&#39;)&#45;&gt;DeReplaceChar(&#39;DeReplaceChar_2&#39;)</title>\n",
       "<path fill=\"none\" stroke=\"black\" d=\"M258.71,-166.22C276.95,-154.11 301.77,-137.63 321.7,-124.4\"/>\n",
       "<polygon fill=\"black\" stroke=\"black\" points=\"323.79,-127.21 330.19,-118.76 319.92,-121.38 323.79,-127.21\"/>\n",
       "<text text-anchor=\"middle\" x=\"341.93\" y=\"-140\" font-family=\"Helvetica,sans-Serif\" font-size=\"10.00\">l_out_ds&#45;&gt;in_ds</text>\n",
       "</g>\n",
       "<!-- ReplaceChar(&#39;ReplaceChar_1&#39;) -->\n",
       "<g id=\"node4\" class=\"node\">\n",
       "<title>ReplaceChar(&#39;ReplaceChar_1&#39;)</title>\n",
       "<ellipse fill=\"none\" stroke=\"black\" cx=\"128.43\" cy=\"-267\" rx=\"96.58\" ry=\"18\"/>\n",
       "<text text-anchor=\"middle\" x=\"128.43\" y=\"-264.5\" font-family=\"Helvetica,sans-Serif\" font-size=\"10.00\">ReplaceChar(&#39;ReplaceChar_1&#39;)</text>\n",
       "</g>\n",
       "<!-- ReplaceChar(&#39;ReplaceChar_1&#39;)&#45;&gt;PrintReplaceFreq(&#39;PrintReplaceFreq_1&#39;) -->\n",
       "<g id=\"edge4\" class=\"edge\">\n",
       "<title>ReplaceChar(&#39;ReplaceChar_1&#39;)&#45;&gt;PrintReplaceFreq(&#39;PrintReplaceFreq_1&#39;)</title>\n",
       "<path fill=\"none\" stroke=\"black\" d=\"M149.94,-249.41C165.4,-237.48 186.47,-221.23 203.57,-208.04\"/>\n",
       "<polygon fill=\"black\" stroke=\"black\" points=\"205.82,-210.72 211.6,-201.84 201.55,-205.18 205.82,-210.72\"/>\n",
       "<text text-anchor=\"middle\" x=\"227.93\" y=\"-223\" font-family=\"Helvetica,sans-Serif\" font-size=\"10.00\">out_ds&#45;&gt;s_in_ds</text>\n",
       "</g>\n",
       "<!-- STDIn(&#39;STDIn_1&#39;) -->\n",
       "<g id=\"node5\" class=\"node\">\n",
       "<title>STDIn(&#39;STDIn_1&#39;)</title>\n",
       "<ellipse fill=\"none\" stroke=\"black\" cx=\"128.43\" cy=\"-350\" rx=\"57.88\" ry=\"18\"/>\n",
       "<text text-anchor=\"middle\" x=\"128.43\" y=\"-347.5\" font-family=\"Helvetica,sans-Serif\" font-size=\"10.00\">STDIn(&#39;STDIn_1&#39;)</text>\n",
       "</g>\n",
       "<!-- STDIn(&#39;STDIn_1&#39;)&#45;&gt;ReplaceChar(&#39;ReplaceChar_1&#39;) -->\n",
       "<g id=\"edge5\" class=\"edge\">\n",
       "<title>STDIn(&#39;STDIn_1&#39;)&#45;&gt;ReplaceChar(&#39;ReplaceChar_1&#39;)</title>\n",
       "<path fill=\"none\" stroke=\"black\" d=\"M128.43,-331.82C128.43,-321.19 128.43,-307.31 128.43,-295.2\"/>\n",
       "<polygon fill=\"black\" stroke=\"black\" points=\"131.93,-295.15 128.43,-285.15 124.93,-295.15 131.93,-295.15\"/>\n",
       "<text text-anchor=\"middle\" x=\"163.43\" y=\"-306\" font-family=\"Helvetica,sans-Serif\" font-size=\"10.00\">out_ds&#45;&gt;in_ds</text>\n",
       "</g>\n",
       "<!-- ReplaceChar(&#39;ReplaceChar_2&#39;) -->\n",
       "<g id=\"node6\" class=\"node\">\n",
       "<title>ReplaceChar(&#39;ReplaceChar_2&#39;)</title>\n",
       "<ellipse fill=\"none\" stroke=\"black\" cx=\"339.43\" cy=\"-267\" rx=\"96.58\" ry=\"18\"/>\n",
       "<text text-anchor=\"middle\" x=\"339.43\" y=\"-264.5\" font-family=\"Helvetica,sans-Serif\" font-size=\"10.00\">ReplaceChar(&#39;ReplaceChar_2&#39;)</text>\n",
       "</g>\n",
       "<!-- ReplaceChar(&#39;ReplaceChar_2&#39;)&#45;&gt;PrintReplaceFreq(&#39;PrintReplaceFreq_1&#39;) -->\n",
       "<g id=\"edge6\" class=\"edge\">\n",
       "<title>ReplaceChar(&#39;ReplaceChar_2&#39;)&#45;&gt;PrintReplaceFreq(&#39;PrintReplaceFreq_1&#39;)</title>\n",
       "<path fill=\"none\" stroke=\"black\" d=\"M317.73,-249.41C302.11,-237.48 280.85,-221.23 263.59,-208.04\"/>\n",
       "<polygon fill=\"black\" stroke=\"black\" points=\"265.55,-205.13 255.48,-201.84 261.3,-210.7 265.55,-205.13\"/>\n",
       "<text text-anchor=\"middle\" x=\"332.93\" y=\"-223\" font-family=\"Helvetica,sans-Serif\" font-size=\"10.00\">out_ds&#45;&gt;l_in_ds</text>\n",
       "</g>\n",
       "<!-- STDIn(&#39;STDIn_2&#39;) -->\n",
       "<g id=\"node7\" class=\"node\">\n",
       "<title>STDIn(&#39;STDIn_2&#39;)</title>\n",
       "<ellipse fill=\"none\" stroke=\"black\" cx=\"339.43\" cy=\"-350\" rx=\"57.88\" ry=\"18\"/>\n",
       "<text text-anchor=\"middle\" x=\"339.43\" y=\"-347.5\" font-family=\"Helvetica,sans-Serif\" font-size=\"10.00\">STDIn(&#39;STDIn_2&#39;)</text>\n",
       "</g>\n",
       "<!-- STDIn(&#39;STDIn_2&#39;)&#45;&gt;ReplaceChar(&#39;ReplaceChar_2&#39;) -->\n",
       "<g id=\"edge7\" class=\"edge\">\n",
       "<title>STDIn(&#39;STDIn_2&#39;)&#45;&gt;ReplaceChar(&#39;ReplaceChar_2&#39;)</title>\n",
       "<path fill=\"none\" stroke=\"black\" d=\"M339.43,-331.82C339.43,-321.19 339.43,-307.31 339.43,-295.2\"/>\n",
       "<polygon fill=\"black\" stroke=\"black\" points=\"342.93,-295.15 339.43,-285.15 335.93,-295.15 342.93,-295.15\"/>\n",
       "<text text-anchor=\"middle\" x=\"374.43\" y=\"-306\" font-family=\"Helvetica,sans-Serif\" font-size=\"10.00\">out_ds&#45;&gt;in_ds</text>\n",
       "</g>\n",
       "<!-- STDOut(&#39;STDOut_2&#39;) -->\n",
       "<g id=\"node8\" class=\"node\">\n",
       "<title>STDOut(&#39;STDOut_2&#39;)</title>\n",
       "<ellipse fill=\"none\" stroke=\"black\" cx=\"355.43\" cy=\"-18\" rx=\"67.89\" ry=\"18\"/>\n",
       "<text text-anchor=\"middle\" x=\"355.43\" y=\"-15.5\" font-family=\"Helvetica,sans-Serif\" font-size=\"10.00\">STDOut(&#39;STDOut_2&#39;)</text>\n",
       "</g>\n",
       "<!-- DeReplaceChar(&#39;DeReplaceChar_2&#39;)&#45;&gt;STDOut(&#39;STDOut_2&#39;) -->\n",
       "<g id=\"edge8\" class=\"edge\">\n",
       "<title>DeReplaceChar(&#39;DeReplaceChar_2&#39;)&#45;&gt;STDOut(&#39;STDOut_2&#39;)</title>\n",
       "<path fill=\"none\" stroke=\"black\" d=\"M355.43,-82.82C355.43,-72.19 355.43,-58.31 355.43,-46.2\"/>\n",
       "<polygon fill=\"black\" stroke=\"black\" points=\"358.93,-46.15 355.43,-36.15 351.93,-46.15 358.93,-46.15\"/>\n",
       "<text text-anchor=\"middle\" x=\"390.43\" y=\"-57\" font-family=\"Helvetica,sans-Serif\" font-size=\"10.00\">out_ds&#45;&gt;in_ds</text>\n",
       "</g>\n",
       "</g>\n",
       "</svg>\n"
      ],
      "text/plain": [
       "<razor.flow.pipeline.Pipeline at 0x7f349c6c8510>"
      ]
     },
     "metadata": {},
     "output_type": "display_data"
    }
   ],
   "source": [
    "records = 10\n",
    "s_size = '10MB'\n",
    "l_size = '100MB'\n",
    "s_ip_filename = \"/data/sdk_testbench/input_data/file\" + s_size + \".txt\"\n",
    "l_ip_filename = \"/data/sdk_testbench/input_data/file\" + l_size + \".txt\"\n",
    "s_op_filename = \"/data/sdk_testbench/output_data/s_tc_23.txt\"\n",
    "l_op_filename = \"/data/sdk_testbench/output_data/l_tc_23.txt\"\n",
    "\n",
    "s_std_in = STDIn(records=records, filename=s_ip_filename)\n",
    "l_std_in = STDIn(records=records, filename=l_ip_filename)\n",
    "l_std_in.out_ds = rf.Output.set(transport=rf.FileTransport)\n",
    "\n",
    "s_rep_char = ReplaceChar(in_ds=s_std_in.out_ds)\n",
    "l_rep_char = ReplaceChar(in_ds=l_std_in.out_ds)\n",
    "l_rep_char.out_ds = rf.Output.set(transport=rf.FileTransport)\n",
    "\n",
    "print_rep_freq = PrintReplaceFreq(s_in_ds=s_rep_char.out_ds, l_in_ds=l_rep_char.out_ds)\n",
    "print_rep_freq.l_out_ds = rf.Output.set(transport=rf.FileTransport)\n",
    "\n",
    "s_derep_char = DeReplaceChar(in_ds=print_rep_freq.s_out_ds)\n",
    "l_derep_char = DeReplaceChar(in_ds=print_rep_freq.l_out_ds)\n",
    "l_derep_char.out_ds = rf.Output.set(transport=rf.FileTransport)\n",
    "\n",
    "s_stdout = STDOut(in_ds=s_derep_char.out_ds, out_filename=s_op_filename)\n",
    "l_stdout = STDOut(in_ds=l_derep_char.out_ds, out_filename=l_op_filename)\n",
    "\n",
    "pipeline = rf.Pipeline(name='mix_series_parallel', targets=[s_stdout, l_stdout])\n",
    "pipeline.show()"
   ]
  },
  {
   "cell_type": "code",
   "execution_count": 5,
   "metadata": {},
   "outputs": [],
   "source": [
    "def create_pipeline():\n",
    "    return pipeline"
   ]
  },
  {
   "cell_type": "code",
   "execution_count": 6,
   "metadata": {},
   "outputs": [],
   "source": []
  }
 ],
 "metadata": {
  "kernelspec": {
   "display_name": "Python 3",
   "language": "python",
   "name": "python3"
  },
  "language_info": {
   "codemirror_mode": {
    "name": "ipython",
    "version": 3
   },
   "file_extension": ".py",
   "mimetype": "text/x-python",
   "name": "python",
   "nbconvert_exporter": "python",
   "pygments_lexer": "ipython3",
   "version": "3.7.10"
  }
 },
 "nbformat": 4,
 "nbformat_minor": 4
}
