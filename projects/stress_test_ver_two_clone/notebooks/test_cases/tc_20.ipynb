{
 "cells": [
  {
   "cell_type": "code",
   "execution_count": 1,
   "metadata": {},
   "outputs": [],
   "source": [
    "import razor.flow as rf\n",
    "from razor.api import datasources, engines, project_space_path\n",
    "import logging\n",
    "import time\n",
    "import typing as typ\n",
    "import numpy as np\n",
    "import pandas as pd\n",
    "\n",
    "logger = logging.getLogger()"
   ]
  },
  {
   "cell_type": "code",
   "execution_count": 2,
   "metadata": {},
   "outputs": [],
   "source": [
    "config = {'cores': 1, 'ram': 4096}"
   ]
  },
  {
   "cell_type": "code",
   "execution_count": 3,
   "metadata": {},
   "outputs": [],
   "source": [
    "@rf.block(executor=rf.ContainerExecutor(cores=config['cores'], memory=config['ram']))\n",
    "class STDIn:\n",
    "    filename: str\n",
    "    out_ds: rf.Output[typ.Any] = rf.Output(transport=rf.KafkaTransport)\n",
    "\n",
    "    def run(self):\n",
    "        df = pd.read_parquet(project_space_path(self.filename))\n",
    "\n",
    "        logger.info(df.shape)\n",
    "        self.out_ds.put(df)\n",
    "        \n",
    "@rf.block(executor=rf.ContainerExecutor(cores=config['cores'], memory=config['ram']))\n",
    "class AxisSum:\n",
    "    in_ds: typ.Any\n",
    "    out_ds: rf.Output[typ.Any] = rf.Output(transport=rf.KafkaTransport)\n",
    "\n",
    "    def run(self):\n",
    "        df = self.in_ds.copy()\n",
    "        df['x_temp'] = df.sum(axis=1)\n",
    "        self.out_ds.put(df)\n",
    "\n",
    "        \n",
    "@rf.block(executor=rf.ContainerExecutor(cores=config['cores'], memory=config['ram']))\n",
    "class SumAxisSum:\n",
    "    s_in_ds: typ.Any\n",
    "    l_in_ds: typ.Any\n",
    "    s_out_ds: rf.Output[typ.Any] = rf.Output(transport=rf.KafkaTransport)\n",
    "    l_out_ds: rf.Output[typ.Any] = rf.Output(transport=rf.KafkaTransport)\n",
    "\n",
    "    def run(self):\n",
    "        s_df = self.s_in_ds.copy()\n",
    "        logger.info('small df')\n",
    "        logger.info(s_df['x_temp'].sum())\n",
    "        \n",
    "        self.s_out_ds.put(s_df)\n",
    "        del(s_df)\n",
    "        \n",
    "        l_df = self.l_in_ds.copy()\n",
    "        logger.info('large df')\n",
    "        logger.info(l_df['x_temp'].sum())\n",
    "        \n",
    "        self.l_out_ds.put(l_df)\n",
    "        \n",
    "        \n",
    "@rf.block(executor=rf.ContainerExecutor(cores=config['cores'], memory=config['ram']))\n",
    "class DropAxisSum:\n",
    "    in_ds: typ.Any\n",
    "    out_ds: rf.Output[typ.Any] = rf.Output(transport=rf.KafkaTransport)\n",
    "\n",
    "    def run(self):\n",
    "        df = self.in_ds.copy()\n",
    "        df.drop(['x_temp'], axis=1, inplace=True)\n",
    "        self.out_ds.put(df)\n",
    "        \n",
    "        \n",
    "@rf.block(executor=rf.ContainerExecutor(cores=config['cores'], memory=config['ram']))\n",
    "class STDOut:\n",
    "    in_ds: typ.Any\n",
    "    out_filename: str\n",
    "\n",
    "    def run(self):\n",
    "        logger.info(self.in_ds.shape)\n",
    "        self.in_ds.to_parquet(project_space_path(self.out_filename), index=False)\n",
    "            "
   ]
  },
  {
   "cell_type": "code",
   "execution_count": 4,
   "metadata": {},
   "outputs": [
    {
     "data": {
      "application/vnd.razorthink.interactive+pipeline+view+json": {
       "blocks": [
        {
         "class_name": "AxisSum",
         "id": "fb5fb594-7109-44d6-8eaa-1727ee86b653",
         "inputs": [
          {
           "default": null,
           "flow": "atomic",
           "help": null,
           "label": "in_ds",
           "name": "in_ds",
           "series": false,
           "type": "Any",
           "type_check": true
          }
         ],
         "outputs": [
          {
           "flow": "atomic",
           "help": null,
           "label": "out_ds",
           "name": "out_ds",
           "series": false,
           "type": "Any",
           "type_check": true
          }
         ],
         "overwritten": false,
         "var_names": [
          "AxisSum"
         ]
        },
        {
         "class_name": "DropAxisSum",
         "id": "c3053461-7e32-4310-91a9-433a55204a4a",
         "inputs": [
          {
           "default": null,
           "flow": "atomic",
           "help": null,
           "label": "in_ds",
           "name": "in_ds",
           "series": false,
           "type": "Any",
           "type_check": true
          }
         ],
         "outputs": [
          {
           "flow": "atomic",
           "help": null,
           "label": "out_ds",
           "name": "out_ds",
           "series": false,
           "type": "Any",
           "type_check": true
          }
         ],
         "overwritten": false,
         "var_names": [
          "DropAxisSum"
         ]
        },
        {
         "class_name": "STDIn",
         "id": "8da86113-4167-4ee2-99f9-e0e96d09f907",
         "inputs": [
          {
           "default": null,
           "flow": "atomic",
           "help": null,
           "label": "filename",
           "name": "filename",
           "series": false,
           "type": "str",
           "type_check": true
          }
         ],
         "outputs": [
          {
           "flow": "atomic",
           "help": null,
           "label": "out_ds",
           "name": "out_ds",
           "series": false,
           "type": "Any",
           "type_check": true
          }
         ],
         "overwritten": false,
         "var_names": [
          "STDIn"
         ]
        },
        {
         "class_name": "STDOut",
         "id": "a91a806f-d837-4e0a-9433-d1222bf02f54",
         "inputs": [
          {
           "default": null,
           "flow": "atomic",
           "help": null,
           "label": "in_ds",
           "name": "in_ds",
           "series": false,
           "type": "Any",
           "type_check": true
          },
          {
           "default": null,
           "flow": "atomic",
           "help": null,
           "label": "out_filename",
           "name": "out_filename",
           "series": false,
           "type": "str",
           "type_check": true
          }
         ],
         "outputs": [],
         "overwritten": false,
         "var_names": [
          "STDOut"
         ]
        },
        {
         "class_name": "SumAxisSum",
         "id": "690ca35b-34ef-46c9-b4ab-965ff4575783",
         "inputs": [
          {
           "default": null,
           "flow": "atomic",
           "help": null,
           "label": "s_in_ds",
           "name": "s_in_ds",
           "series": false,
           "type": "Any",
           "type_check": true
          },
          {
           "default": null,
           "flow": "atomic",
           "help": null,
           "label": "l_in_ds",
           "name": "l_in_ds",
           "series": false,
           "type": "Any",
           "type_check": true
          }
         ],
         "outputs": [
          {
           "flow": "atomic",
           "help": null,
           "label": "s_out_ds",
           "name": "s_out_ds",
           "series": false,
           "type": "Any",
           "type_check": true
          },
          {
           "flow": "atomic",
           "help": null,
           "label": "l_out_ds",
           "name": "l_out_ds",
           "series": false,
           "type": "Any",
           "type_check": true
          }
         ],
         "overwritten": false,
         "var_names": [
          "SumAxisSum"
         ]
        }
       ],
       "connections": [
        {
         "id": "47922a04-c02e-4bf3-b85e-381fbdf61904",
         "source": {
          "adapter": false,
          "instance_id": "42500f99-5f74-4844-bfc5-93fb454c623a",
          "name": "s_out_ds"
         },
         "target": {
          "adapter": false,
          "instance_id": "e9ce7b25-45d8-4b74-8be5-bdab03e40f0d",
          "name": "in_ds"
         }
        },
        {
         "id": "d1cc409f-9bd4-4143-be18-a0b9ef603cc6",
         "source": {
          "adapter": false,
          "instance_id": "6927acf4-6ed8-4f6b-9260-6f5043dea7ea",
          "name": "out_ds"
         },
         "target": {
          "adapter": false,
          "instance_id": "bef61b27-d9ca-4d59-b364-81abd4f85a70",
          "name": "in_ds"
         }
        },
        {
         "id": "af87dd91-28b5-4705-8783-98f787004587",
         "source": {
          "adapter": false,
          "instance_id": "c0ba1750-8214-4af7-b1ca-785ae6ab5094",
          "name": "out_ds"
         },
         "target": {
          "adapter": false,
          "instance_id": "b88f5c82-f4fd-4e95-a0f8-8d18edfa7197",
          "name": "in_ds"
         }
        },
        {
         "id": "3058a425-d937-4796-80b7-7fc2833d1246",
         "source": {
          "adapter": false,
          "instance_id": "f4c30985-1ad8-4e30-b6b7-2f33931a3065",
          "name": "out_ds"
         },
         "target": {
          "adapter": false,
          "instance_id": "0c8bd018-d1a5-401a-9e6e-cca58694955a",
          "name": "in_ds"
         }
        },
        {
         "id": "849fe90d-dc2e-4d6d-9f60-87c80476d525",
         "source": {
          "adapter": false,
          "instance_id": "42500f99-5f74-4844-bfc5-93fb454c623a",
          "name": "l_out_ds"
         },
         "target": {
          "adapter": false,
          "instance_id": "6927acf4-6ed8-4f6b-9260-6f5043dea7ea",
          "name": "in_ds"
         }
        },
        {
         "id": "cbd6c3c9-c79f-4ed3-9fc8-d382781f71e0",
         "source": {
          "adapter": false,
          "instance_id": "b88f5c82-f4fd-4e95-a0f8-8d18edfa7197",
          "name": "out_ds"
         },
         "target": {
          "adapter": false,
          "instance_id": "42500f99-5f74-4844-bfc5-93fb454c623a",
          "name": "s_in_ds"
         }
        },
        {
         "id": "38485bc7-0b1c-42f5-8ed7-54c57dafbb32",
         "source": {
          "adapter": false,
          "instance_id": "e9ce7b25-45d8-4b74-8be5-bdab03e40f0d",
          "name": "out_ds"
         },
         "target": {
          "adapter": false,
          "instance_id": "6d3f785e-bad3-428b-9acb-b854ce3af318",
          "name": "in_ds"
         }
        },
        {
         "id": "849907b3-450a-45f0-87d5-66688de4d1d3",
         "source": {
          "adapter": false,
          "instance_id": "0c8bd018-d1a5-401a-9e6e-cca58694955a",
          "name": "out_ds"
         },
         "target": {
          "adapter": false,
          "instance_id": "42500f99-5f74-4844-bfc5-93fb454c623a",
          "name": "l_in_ds"
         }
        }
       ],
       "id": "cf5122ce-d50c-4668-9d13-b5b4e4e1f35a",
       "instances": [
        {
         "block_class": "a91a806f-d837-4e0a-9433-d1222bf02f54",
         "id": "6d3f785e-bad3-428b-9acb-b854ce3af318",
         "name": "STDOut_1",
         "var_names": [
          "s_stdout"
         ]
        },
        {
         "block_class": "c3053461-7e32-4310-91a9-433a55204a4a",
         "id": "e9ce7b25-45d8-4b74-8be5-bdab03e40f0d",
         "name": "DropAxisSum_1",
         "var_names": [
          "s_drop_axis_sum"
         ]
        },
        {
         "block_class": "690ca35b-34ef-46c9-b4ab-965ff4575783",
         "id": "42500f99-5f74-4844-bfc5-93fb454c623a",
         "name": "SumAxisSum_1",
         "var_names": [
          "sum_axis_sum"
         ]
        },
        {
         "block_class": "fb5fb594-7109-44d6-8eaa-1727ee86b653",
         "id": "b88f5c82-f4fd-4e95-a0f8-8d18edfa7197",
         "name": "AxisSum_1",
         "var_names": [
          "s_axis_sum"
         ]
        },
        {
         "block_class": "8da86113-4167-4ee2-99f9-e0e96d09f907",
         "id": "c0ba1750-8214-4af7-b1ca-785ae6ab5094",
         "name": "STDIn_1",
         "var_names": [
          "s_std_in"
         ]
        },
        {
         "block_class": "fb5fb594-7109-44d6-8eaa-1727ee86b653",
         "id": "0c8bd018-d1a5-401a-9e6e-cca58694955a",
         "name": "AxisSum_2",
         "var_names": [
          "l_axis_sum"
         ]
        },
        {
         "block_class": "8da86113-4167-4ee2-99f9-e0e96d09f907",
         "id": "f4c30985-1ad8-4e30-b6b7-2f33931a3065",
         "name": "STDIn_2",
         "var_names": [
          "l_std_in"
         ]
        },
        {
         "block_class": "a91a806f-d837-4e0a-9433-d1222bf02f54",
         "id": "bef61b27-d9ca-4d59-b364-81abd4f85a70",
         "name": "STDOut_2",
         "var_names": [
          "l_stdout"
         ]
        },
        {
         "block_class": "c3053461-7e32-4310-91a9-433a55204a4a",
         "id": "6927acf4-6ed8-4f6b-9260-6f5043dea7ea",
         "name": "DropAxisSum_2",
         "var_names": [
          "l_drop_axis_sum"
         ]
        }
       ],
       "name": "mix_atomic_parallel",
       "var_names": []
      },
      "image/svg+xml": [
       "<?xml version=\"1.0\" encoding=\"UTF-8\" standalone=\"no\"?>\n",
       "<!DOCTYPE svg PUBLIC \"-//W3C//DTD SVG 1.1//EN\"\n",
       " \"http://www.w3.org/Graphics/SVG/1.1/DTD/svg11.dtd\">\n",
       "<!-- Generated by graphviz version 2.43.0 (0)\n",
       " -->\n",
       "<!-- Title: %3 Pages: 1 -->\n",
       "<svg width=\"434pt\" height=\"376pt\"\n",
       " viewBox=\"0.00 0.00 433.68 376.00\" xmlns=\"http://www.w3.org/2000/svg\" xmlns:xlink=\"http://www.w3.org/1999/xlink\">\n",
       "<g id=\"graph0\" class=\"graph\" transform=\"scale(1 1) rotate(0) translate(4 372)\">\n",
       "<title>%3</title>\n",
       "<polygon fill=\"white\" stroke=\"transparent\" points=\"-4,4 -4,-372 429.68,-372 429.68,4 -4,4\"/>\n",
       "<!-- STDOut(&#39;STDOut_1&#39;) -->\n",
       "<g id=\"node1\" class=\"node\">\n",
       "<title>STDOut(&#39;STDOut_1&#39;)</title>\n",
       "<ellipse fill=\"none\" stroke=\"black\" cx=\"101.84\" cy=\"-18\" rx=\"67.89\" ry=\"18\"/>\n",
       "<text text-anchor=\"middle\" x=\"101.84\" y=\"-15.5\" font-family=\"Helvetica,sans-Serif\" font-size=\"10.00\">STDOut(&#39;STDOut_1&#39;)</text>\n",
       "</g>\n",
       "<!-- DropAxisSum(&#39;DropAxisSum_1&#39;) -->\n",
       "<g id=\"node2\" class=\"node\">\n",
       "<title>DropAxisSum(&#39;DropAxisSum_1&#39;)</title>\n",
       "<ellipse fill=\"none\" stroke=\"black\" cx=\"101.84\" cy=\"-101\" rx=\"101.68\" ry=\"18\"/>\n",
       "<text text-anchor=\"middle\" x=\"101.84\" y=\"-98.5\" font-family=\"Helvetica,sans-Serif\" font-size=\"10.00\">DropAxisSum(&#39;DropAxisSum_1&#39;)</text>\n",
       "</g>\n",
       "<!-- DropAxisSum(&#39;DropAxisSum_1&#39;)&#45;&gt;STDOut(&#39;STDOut_1&#39;) -->\n",
       "<g id=\"edge1\" class=\"edge\">\n",
       "<title>DropAxisSum(&#39;DropAxisSum_1&#39;)&#45;&gt;STDOut(&#39;STDOut_1&#39;)</title>\n",
       "<path fill=\"none\" stroke=\"black\" d=\"M101.84,-82.82C101.84,-72.19 101.84,-58.31 101.84,-46.2\"/>\n",
       "<polygon fill=\"black\" stroke=\"black\" points=\"105.34,-46.15 101.84,-36.15 98.34,-46.15 105.34,-46.15\"/>\n",
       "<text text-anchor=\"middle\" x=\"136.84\" y=\"-57\" font-family=\"Helvetica,sans-Serif\" font-size=\"10.00\">out_ds&#45;&gt;in_ds</text>\n",
       "</g>\n",
       "<!-- SumAxisSum(&#39;SumAxisSum_1&#39;) -->\n",
       "<g id=\"node3\" class=\"node\">\n",
       "<title>SumAxisSum(&#39;SumAxisSum_1&#39;)</title>\n",
       "<ellipse fill=\"none\" stroke=\"black\" cx=\"212.84\" cy=\"-184\" rx=\"100.15\" ry=\"18\"/>\n",
       "<text text-anchor=\"middle\" x=\"212.84\" y=\"-181.5\" font-family=\"Helvetica,sans-Serif\" font-size=\"10.00\">SumAxisSum(&#39;SumAxisSum_1&#39;)</text>\n",
       "</g>\n",
       "<!-- SumAxisSum(&#39;SumAxisSum_1&#39;)&#45;&gt;DropAxisSum(&#39;DropAxisSum_1&#39;) -->\n",
       "<g id=\"edge2\" class=\"edge\">\n",
       "<title>SumAxisSum(&#39;SumAxisSum_1&#39;)&#45;&gt;DropAxisSum(&#39;DropAxisSum_1&#39;)</title>\n",
       "<path fill=\"none\" stroke=\"black\" d=\"M190.11,-166.41C173.65,-154.4 151.19,-138.02 133.05,-124.78\"/>\n",
       "<polygon fill=\"black\" stroke=\"black\" points=\"134.68,-121.63 124.54,-118.56 130.55,-127.29 134.68,-121.63\"/>\n",
       "<text text-anchor=\"middle\" x=\"205.34\" y=\"-140\" font-family=\"Helvetica,sans-Serif\" font-size=\"10.00\">s_out_ds&#45;&gt;in_ds</text>\n",
       "</g>\n",
       "<!-- DropAxisSum(&#39;DropAxisSum_2&#39;) -->\n",
       "<g id=\"node9\" class=\"node\">\n",
       "<title>DropAxisSum(&#39;DropAxisSum_2&#39;)</title>\n",
       "<ellipse fill=\"none\" stroke=\"black\" cx=\"323.84\" cy=\"-101\" rx=\"101.68\" ry=\"18\"/>\n",
       "<text text-anchor=\"middle\" x=\"323.84\" y=\"-98.5\" font-family=\"Helvetica,sans-Serif\" font-size=\"10.00\">DropAxisSum(&#39;DropAxisSum_2&#39;)</text>\n",
       "</g>\n",
       "<!-- SumAxisSum(&#39;SumAxisSum_1&#39;)&#45;&gt;DropAxisSum(&#39;DropAxisSum_2&#39;) -->\n",
       "<g id=\"edge3\" class=\"edge\">\n",
       "<title>SumAxisSum(&#39;SumAxisSum_1&#39;)&#45;&gt;DropAxisSum(&#39;DropAxisSum_2&#39;)</title>\n",
       "<path fill=\"none\" stroke=\"black\" d=\"M235.57,-166.41C252.03,-154.4 274.48,-138.02 292.62,-124.78\"/>\n",
       "<polygon fill=\"black\" stroke=\"black\" points=\"295.12,-127.29 301.14,-118.56 291,-121.63 295.12,-127.29\"/>\n",
       "<text text-anchor=\"middle\" x=\"315.34\" y=\"-140\" font-family=\"Helvetica,sans-Serif\" font-size=\"10.00\">l_out_ds&#45;&gt;in_ds</text>\n",
       "</g>\n",
       "<!-- AxisSum(&#39;AxisSum_1&#39;) -->\n",
       "<g id=\"node4\" class=\"node\">\n",
       "<title>AxisSum(&#39;AxisSum_1&#39;)</title>\n",
       "<ellipse fill=\"none\" stroke=\"black\" cx=\"128.84\" cy=\"-267\" rx=\"74.52\" ry=\"18\"/>\n",
       "<text text-anchor=\"middle\" x=\"128.84\" y=\"-264.5\" font-family=\"Helvetica,sans-Serif\" font-size=\"10.00\">AxisSum(&#39;AxisSum_1&#39;)</text>\n",
       "</g>\n",
       "<!-- AxisSum(&#39;AxisSum_1&#39;)&#45;&gt;SumAxisSum(&#39;SumAxisSum_1&#39;) -->\n",
       "<g id=\"edge4\" class=\"edge\">\n",
       "<title>AxisSum(&#39;AxisSum_1&#39;)&#45;&gt;SumAxisSum(&#39;SumAxisSum_1&#39;)</title>\n",
       "<path fill=\"none\" stroke=\"black\" d=\"M146.24,-249.22C158.29,-237.6 174.52,-221.95 187.93,-209.02\"/>\n",
       "<polygon fill=\"black\" stroke=\"black\" points=\"190.69,-211.22 195.46,-201.76 185.83,-206.18 190.69,-211.22\"/>\n",
       "<text text-anchor=\"middle\" x=\"217.34\" y=\"-223\" font-family=\"Helvetica,sans-Serif\" font-size=\"10.00\">out_ds&#45;&gt;s_in_ds</text>\n",
       "</g>\n",
       "<!-- STDIn(&#39;STDIn_1&#39;) -->\n",
       "<g id=\"node5\" class=\"node\">\n",
       "<title>STDIn(&#39;STDIn_1&#39;)</title>\n",
       "<ellipse fill=\"none\" stroke=\"black\" cx=\"128.84\" cy=\"-350\" rx=\"57.88\" ry=\"18\"/>\n",
       "<text text-anchor=\"middle\" x=\"128.84\" y=\"-347.5\" font-family=\"Helvetica,sans-Serif\" font-size=\"10.00\">STDIn(&#39;STDIn_1&#39;)</text>\n",
       "</g>\n",
       "<!-- STDIn(&#39;STDIn_1&#39;)&#45;&gt;AxisSum(&#39;AxisSum_1&#39;) -->\n",
       "<g id=\"edge5\" class=\"edge\">\n",
       "<title>STDIn(&#39;STDIn_1&#39;)&#45;&gt;AxisSum(&#39;AxisSum_1&#39;)</title>\n",
       "<path fill=\"none\" stroke=\"black\" d=\"M128.84,-331.82C128.84,-321.19 128.84,-307.31 128.84,-295.2\"/>\n",
       "<polygon fill=\"black\" stroke=\"black\" points=\"132.34,-295.15 128.84,-285.15 125.34,-295.15 132.34,-295.15\"/>\n",
       "<text text-anchor=\"middle\" x=\"163.84\" y=\"-306\" font-family=\"Helvetica,sans-Serif\" font-size=\"10.00\">out_ds&#45;&gt;in_ds</text>\n",
       "</g>\n",
       "<!-- AxisSum(&#39;AxisSum_2&#39;) -->\n",
       "<g id=\"node6\" class=\"node\">\n",
       "<title>AxisSum(&#39;AxisSum_2&#39;)</title>\n",
       "<ellipse fill=\"none\" stroke=\"black\" cx=\"296.84\" cy=\"-267\" rx=\"74.52\" ry=\"18\"/>\n",
       "<text text-anchor=\"middle\" x=\"296.84\" y=\"-264.5\" font-family=\"Helvetica,sans-Serif\" font-size=\"10.00\">AxisSum(&#39;AxisSum_2&#39;)</text>\n",
       "</g>\n",
       "<!-- AxisSum(&#39;AxisSum_2&#39;)&#45;&gt;SumAxisSum(&#39;SumAxisSum_1&#39;) -->\n",
       "<g id=\"edge6\" class=\"edge\">\n",
       "<title>AxisSum(&#39;AxisSum_2&#39;)&#45;&gt;SumAxisSum(&#39;SumAxisSum_1&#39;)</title>\n",
       "<path fill=\"none\" stroke=\"black\" d=\"M284.34,-249.02C277.31,-239.97 268.1,-228.9 258.84,-220 254.57,-215.9 249.83,-211.84 245.07,-208\"/>\n",
       "<polygon fill=\"black\" stroke=\"black\" points=\"247.13,-205.18 237.09,-201.81 242.84,-210.71 247.13,-205.18\"/>\n",
       "<text text-anchor=\"middle\" x=\"309.34\" y=\"-223\" font-family=\"Helvetica,sans-Serif\" font-size=\"10.00\">out_ds&#45;&gt;l_in_ds</text>\n",
       "</g>\n",
       "<!-- STDIn(&#39;STDIn_2&#39;) -->\n",
       "<g id=\"node7\" class=\"node\">\n",
       "<title>STDIn(&#39;STDIn_2&#39;)</title>\n",
       "<ellipse fill=\"none\" stroke=\"black\" cx=\"296.84\" cy=\"-350\" rx=\"57.88\" ry=\"18\"/>\n",
       "<text text-anchor=\"middle\" x=\"296.84\" y=\"-347.5\" font-family=\"Helvetica,sans-Serif\" font-size=\"10.00\">STDIn(&#39;STDIn_2&#39;)</text>\n",
       "</g>\n",
       "<!-- STDIn(&#39;STDIn_2&#39;)&#45;&gt;AxisSum(&#39;AxisSum_2&#39;) -->\n",
       "<g id=\"edge7\" class=\"edge\">\n",
       "<title>STDIn(&#39;STDIn_2&#39;)&#45;&gt;AxisSum(&#39;AxisSum_2&#39;)</title>\n",
       "<path fill=\"none\" stroke=\"black\" d=\"M296.84,-331.82C296.84,-321.19 296.84,-307.31 296.84,-295.2\"/>\n",
       "<polygon fill=\"black\" stroke=\"black\" points=\"300.34,-295.15 296.84,-285.15 293.34,-295.15 300.34,-295.15\"/>\n",
       "<text text-anchor=\"middle\" x=\"331.84\" y=\"-306\" font-family=\"Helvetica,sans-Serif\" font-size=\"10.00\">out_ds&#45;&gt;in_ds</text>\n",
       "</g>\n",
       "<!-- STDOut(&#39;STDOut_2&#39;) -->\n",
       "<g id=\"node8\" class=\"node\">\n",
       "<title>STDOut(&#39;STDOut_2&#39;)</title>\n",
       "<ellipse fill=\"none\" stroke=\"black\" cx=\"323.84\" cy=\"-18\" rx=\"67.89\" ry=\"18\"/>\n",
       "<text text-anchor=\"middle\" x=\"323.84\" y=\"-15.5\" font-family=\"Helvetica,sans-Serif\" font-size=\"10.00\">STDOut(&#39;STDOut_2&#39;)</text>\n",
       "</g>\n",
       "<!-- DropAxisSum(&#39;DropAxisSum_2&#39;)&#45;&gt;STDOut(&#39;STDOut_2&#39;) -->\n",
       "<g id=\"edge8\" class=\"edge\">\n",
       "<title>DropAxisSum(&#39;DropAxisSum_2&#39;)&#45;&gt;STDOut(&#39;STDOut_2&#39;)</title>\n",
       "<path fill=\"none\" stroke=\"black\" d=\"M323.84,-82.82C323.84,-72.19 323.84,-58.31 323.84,-46.2\"/>\n",
       "<polygon fill=\"black\" stroke=\"black\" points=\"327.34,-46.15 323.84,-36.15 320.34,-46.15 327.34,-46.15\"/>\n",
       "<text text-anchor=\"middle\" x=\"358.84\" y=\"-57\" font-family=\"Helvetica,sans-Serif\" font-size=\"10.00\">out_ds&#45;&gt;in_ds</text>\n",
       "</g>\n",
       "</g>\n",
       "</svg>\n"
      ],
      "text/plain": [
       "<razor.flow.pipeline.Pipeline at 0x7fb5168fe410>"
      ]
     },
     "metadata": {},
     "output_type": "display_data"
    }
   ],
   "source": [
    "s_size = '10MB'\n",
    "l_size = '300MB'\n",
    "s_ip_filename = \"/data/sdk_testbench/input_data/dummy_\"+s_size+\"_df.parquet\"\n",
    "l_ip_filename = \"/data/sdk_testbench/input_data/dummy_\"+l_size+\"_df.parquet\"\n",
    "s_op_filename = \"/data/sdk_testbench/output_data/s_tc_20.parquet\"\n",
    "l_op_filename = \"/data/sdk_testbench/output_data/l_tc_20.parquet\"\n",
    "\n",
    "s_std_in = STDIn(filename=s_ip_filename)\n",
    "l_std_in = STDIn(filename=l_ip_filename)\n",
    "l_std_in.out_ds = rf.Output.set(transport=rf.FileTransport)\n",
    "\n",
    "s_axis_sum = AxisSum(in_ds=s_std_in.out_ds)\n",
    "l_axis_sum = AxisSum(in_ds=l_std_in.out_ds)\n",
    "l_axis_sum.out_ds = rf.Output.set(transport=rf.FileTransport)\n",
    "\n",
    "sum_axis_sum = SumAxisSum(s_in_ds=s_axis_sum.out_ds, l_in_ds=l_axis_sum.out_ds)\n",
    "sum_axis_sum.l_out_ds = rf.Output.set(transport=rf.FileTransport)\n",
    "\n",
    "s_drop_axis_sum = DropAxisSum(in_ds=sum_axis_sum.s_out_ds)\n",
    "l_drop_axis_sum = DropAxisSum(in_ds=sum_axis_sum.l_out_ds)\n",
    "l_drop_axis_sum.out_ds = rf.Output.set(transport=rf.FileTransport)\n",
    "\n",
    "s_stdout = STDOut(in_ds=s_drop_axis_sum.out_ds, out_filename=s_op_filename)\n",
    "l_stdout = STDOut(in_ds=l_drop_axis_sum.out_ds, out_filename=l_op_filename)\n",
    "\n",
    "pipeline = rf.Pipeline(name='mix_atomic_parallel', targets=[s_stdout, l_stdout])\n",
    "pipeline.show()"
   ]
  },
  {
   "cell_type": "code",
   "execution_count": 5,
   "metadata": {},
   "outputs": [],
   "source": [
    "def create_pipeline():\n",
    "    return pipeline"
   ]
  },
  {
   "cell_type": "code",
   "execution_count": 6,
   "metadata": {},
   "outputs": [],
   "source": []
  }
 ],
 "metadata": {
  "kernelspec": {
   "display_name": "Python 3",
   "language": "python",
   "name": "python3"
  },
  "language_info": {
   "codemirror_mode": {
    "name": "ipython",
    "version": 3
   },
   "file_extension": ".py",
   "mimetype": "text/x-python",
   "name": "python",
   "nbconvert_exporter": "python",
   "pygments_lexer": "ipython3",
   "version": "3.7.10"
  }
 },
 "nbformat": 4,
 "nbformat_minor": 4
}
