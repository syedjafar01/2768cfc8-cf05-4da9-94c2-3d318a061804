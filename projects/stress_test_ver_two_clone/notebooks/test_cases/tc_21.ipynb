{
 "cells": [
  {
   "cell_type": "code",
   "execution_count": 1,
   "metadata": {},
   "outputs": [],
   "source": [
    "import razor.flow as rf\n",
    "from razor.api import datasources, engines, project_space_path\n",
    "import logging\n",
    "import time\n",
    "import typing as typ\n",
    "import numpy as np\n",
    "import pandas as pd\n",
    "\n",
    "logger = logging.getLogger()"
   ]
  },
  {
   "cell_type": "code",
   "execution_count": 2,
   "metadata": {},
   "outputs": [],
   "source": [
    "@rf.block\n",
    "class STDIn:\n",
    "    filename: str\n",
    "    out_ds: rf.Output[typ.Any] = rf.Output(transport=rf.KafkaTransport)\n",
    "\n",
    "    def run(self):\n",
    "        df = pd.read_parquet(project_space_path(self.filename))\n",
    "\n",
    "        logger.info(df.shape)\n",
    "        self.out_ds.put(df)\n",
    "        \n",
    "        \n",
    "@rf.block\n",
    "class AxisSum:\n",
    "    in_ds: typ.Any\n",
    "    out_ds: rf.Output[typ.Any] = rf.Output(transport=rf.KafkaTransport)\n",
    "\n",
    "    def run(self):\n",
    "        df = self.in_ds.copy()\n",
    "        df['x_temp'] = df.sum(axis=1)\n",
    "        self.out_ds.put(df)\n",
    "        \n",
    "        \n",
    "@rf.block\n",
    "class SumAxisSum:\n",
    "    in_ds: typ.Any\n",
    "    out_ds: rf.Output[typ.Any] = rf.Output(transport=rf.KafkaTransport)\n",
    "\n",
    "    def run(self):        \n",
    "        df = self.in_ds.copy()\n",
    "        logger.info(df['x_temp'].sum())\n",
    "        self.out_ds.put(df)\n",
    "        \n",
    "        \n",
    "@rf.block\n",
    "class DropAxisSum:\n",
    "    in_ds: typ.Any\n",
    "    out_ds: rf.Output[typ.Any] = rf.Output(transport=rf.KafkaTransport)\n",
    "\n",
    "    def run(self):\n",
    "        df = self.in_ds.copy()\n",
    "        df.drop(['x_temp'], axis=1, inplace=True)\n",
    "        self.out_ds.put(df)\n",
    "        \n",
    "        \n",
    "@rf.block\n",
    "class STDOut:\n",
    "    in_ds: typ.Any\n",
    "    out_filename: str\n",
    "\n",
    "    def run(self):\n",
    "        logger.info(self.in_ds.shape)\n",
    "        self.in_ds.to_parquet(project_space_path(self.out_filename), index=False)\n",
    "        "
   ]
  },
  {
   "cell_type": "code",
   "execution_count": 3,
   "metadata": {},
   "outputs": [
    {
     "data": {
      "application/vnd.razorthink.interactive+pipeline+view+json": {
       "blocks": [
        {
         "class_name": "AxisSum",
         "id": "724dc345-b47a-4aad-a019-b1df64029696",
         "inputs": [
          {
           "default": null,
           "flow": "atomic",
           "help": null,
           "label": "in_ds",
           "name": "in_ds",
           "series": false,
           "type": "Any",
           "type_check": true
          }
         ],
         "outputs": [
          {
           "flow": "atomic",
           "help": null,
           "label": "out_ds",
           "name": "out_ds",
           "series": false,
           "type": "Any",
           "type_check": true
          }
         ],
         "overwritten": false,
         "var_names": [
          "AxisSum"
         ]
        },
        {
         "class_name": "DropAxisSum",
         "id": "b2cec478-49b2-49d0-8a0d-32254421d51b",
         "inputs": [
          {
           "default": null,
           "flow": "atomic",
           "help": null,
           "label": "in_ds",
           "name": "in_ds",
           "series": false,
           "type": "Any",
           "type_check": true
          }
         ],
         "outputs": [
          {
           "flow": "atomic",
           "help": null,
           "label": "out_ds",
           "name": "out_ds",
           "series": false,
           "type": "Any",
           "type_check": true
          }
         ],
         "overwritten": false,
         "var_names": [
          "DropAxisSum"
         ]
        },
        {
         "class_name": "STDIn",
         "id": "bd02eee7-5fee-42af-a3e7-e70a80472096",
         "inputs": [
          {
           "default": null,
           "flow": "atomic",
           "help": null,
           "label": "filename",
           "name": "filename",
           "series": false,
           "type": "str",
           "type_check": true
          }
         ],
         "outputs": [
          {
           "flow": "atomic",
           "help": null,
           "label": "out_ds",
           "name": "out_ds",
           "series": false,
           "type": "Any",
           "type_check": true
          }
         ],
         "overwritten": false,
         "var_names": [
          "STDIn"
         ]
        },
        {
         "class_name": "SumAxisSum",
         "id": "ff3303e6-7527-462d-a7e6-10d84a814f4e",
         "inputs": [
          {
           "default": null,
           "flow": "atomic",
           "help": null,
           "label": "in_ds",
           "name": "in_ds",
           "series": false,
           "type": "Any",
           "type_check": true
          }
         ],
         "outputs": [
          {
           "flow": "atomic",
           "help": null,
           "label": "out_ds",
           "name": "out_ds",
           "series": false,
           "type": "Any",
           "type_check": true
          }
         ],
         "overwritten": false,
         "var_names": [
          "SumAxisSum"
         ]
        },
        {
         "class_name": "STDOut",
         "id": "0488ef55-0332-441f-bbf2-b38eb93052b5",
         "inputs": [
          {
           "default": null,
           "flow": "atomic",
           "help": null,
           "label": "in_ds",
           "name": "in_ds",
           "series": false,
           "type": "Any",
           "type_check": true
          },
          {
           "default": null,
           "flow": "atomic",
           "help": null,
           "label": "out_filename",
           "name": "out_filename",
           "series": false,
           "type": "str",
           "type_check": true
          }
         ],
         "outputs": [],
         "overwritten": false,
         "var_names": [
          "STDOut"
         ]
        }
       ],
       "connections": [
        {
         "id": "5b2b54a1-7304-4c26-a337-6f3584dc4d17",
         "source": {
          "adapter": false,
          "instance_id": "ef6b46aa-481e-4de7-8708-02e8c5b840c4",
          "name": "out_ds"
         },
         "target": {
          "adapter": false,
          "instance_id": "0c612097-bbe7-4004-971e-3390fce0ae08",
          "name": "in_ds"
         }
        },
        {
         "id": "20d166f5-9de6-471f-98f3-f14249feb64b",
         "source": {
          "adapter": false,
          "instance_id": "3f17d0c4-eb41-4c62-bf97-e65377218c07",
          "name": "out_ds"
         },
         "target": {
          "adapter": false,
          "instance_id": "186b4c9f-5c18-4a37-a7a7-08aec3869f04",
          "name": "in_ds"
         }
        },
        {
         "id": "bf5e0e89-8f55-45f9-bc0d-5b5beca736ce",
         "source": {
          "adapter": false,
          "instance_id": "0c612097-bbe7-4004-971e-3390fce0ae08",
          "name": "out_ds"
         },
         "target": {
          "adapter": false,
          "instance_id": "8b4b4ccc-d982-4edd-b48a-68315ee6b8ad",
          "name": "in_ds"
         }
        },
        {
         "id": "9861fcfa-ca77-436c-89a7-9c7a708dac8f",
         "source": {
          "adapter": false,
          "instance_id": "186b4c9f-5c18-4a37-a7a7-08aec3869f04",
          "name": "out_ds"
         },
         "target": {
          "adapter": false,
          "instance_id": "ef6b46aa-481e-4de7-8708-02e8c5b840c4",
          "name": "in_ds"
         }
        }
       ],
       "id": "8a68e917-29db-43ec-b930-a02d6e2b4ec3",
       "instances": [
        {
         "block_class": "0488ef55-0332-441f-bbf2-b38eb93052b5",
         "id": "8b4b4ccc-d982-4edd-b48a-68315ee6b8ad",
         "name": "STDOut_1",
         "var_names": [
          "stdout"
         ]
        },
        {
         "block_class": "b2cec478-49b2-49d0-8a0d-32254421d51b",
         "id": "0c612097-bbe7-4004-971e-3390fce0ae08",
         "name": "DropAxisSum_1",
         "var_names": [
          "drop_axis_sum"
         ]
        },
        {
         "block_class": "ff3303e6-7527-462d-a7e6-10d84a814f4e",
         "id": "ef6b46aa-481e-4de7-8708-02e8c5b840c4",
         "name": "SumAxisSum_1",
         "var_names": [
          "sum_axis_sum"
         ]
        },
        {
         "block_class": "724dc345-b47a-4aad-a019-b1df64029696",
         "id": "186b4c9f-5c18-4a37-a7a7-08aec3869f04",
         "name": "AxisSum_1",
         "var_names": [
          "axis_sum"
         ]
        },
        {
         "block_class": "bd02eee7-5fee-42af-a3e7-e70a80472096",
         "id": "3f17d0c4-eb41-4c62-bf97-e65377218c07",
         "name": "STDIn_1",
         "var_names": [
          "std_in"
         ]
        }
       ],
       "name": "kafka_atomic_quad_pipeline",
       "var_names": []
      },
      "image/svg+xml": [
       "<?xml version=\"1.0\" encoding=\"UTF-8\" standalone=\"no\"?>\n",
       "<!DOCTYPE svg PUBLIC \"-//W3C//DTD SVG 1.1//EN\"\n",
       " \"http://www.w3.org/Graphics/SVG/1.1/DTD/svg11.dtd\">\n",
       "<!-- Generated by graphviz version 2.43.0 (0)\n",
       " -->\n",
       "<!-- Title: %3 Pages: 1 -->\n",
       "<svg width=\"212pt\" height=\"376pt\"\n",
       " viewBox=\"0.00 0.00 211.68 376.00\" xmlns=\"http://www.w3.org/2000/svg\" xmlns:xlink=\"http://www.w3.org/1999/xlink\">\n",
       "<g id=\"graph0\" class=\"graph\" transform=\"scale(1 1) rotate(0) translate(4 372)\">\n",
       "<title>%3</title>\n",
       "<polygon fill=\"white\" stroke=\"transparent\" points=\"-4,4 -4,-372 207.68,-372 207.68,4 -4,4\"/>\n",
       "<!-- STDOut(&#39;STDOut_1&#39;) -->\n",
       "<g id=\"node1\" class=\"node\">\n",
       "<title>STDOut(&#39;STDOut_1&#39;)</title>\n",
       "<ellipse fill=\"none\" stroke=\"black\" cx=\"101.84\" cy=\"-18\" rx=\"67.89\" ry=\"18\"/>\n",
       "<text text-anchor=\"middle\" x=\"101.84\" y=\"-15.5\" font-family=\"Helvetica,sans-Serif\" font-size=\"10.00\">STDOut(&#39;STDOut_1&#39;)</text>\n",
       "</g>\n",
       "<!-- DropAxisSum(&#39;DropAxisSum_1&#39;) -->\n",
       "<g id=\"node2\" class=\"node\">\n",
       "<title>DropAxisSum(&#39;DropAxisSum_1&#39;)</title>\n",
       "<ellipse fill=\"none\" stroke=\"black\" cx=\"101.84\" cy=\"-101\" rx=\"101.68\" ry=\"18\"/>\n",
       "<text text-anchor=\"middle\" x=\"101.84\" y=\"-98.5\" font-family=\"Helvetica,sans-Serif\" font-size=\"10.00\">DropAxisSum(&#39;DropAxisSum_1&#39;)</text>\n",
       "</g>\n",
       "<!-- DropAxisSum(&#39;DropAxisSum_1&#39;)&#45;&gt;STDOut(&#39;STDOut_1&#39;) -->\n",
       "<g id=\"edge1\" class=\"edge\">\n",
       "<title>DropAxisSum(&#39;DropAxisSum_1&#39;)&#45;&gt;STDOut(&#39;STDOut_1&#39;)</title>\n",
       "<path fill=\"none\" stroke=\"black\" d=\"M101.84,-82.82C101.84,-72.19 101.84,-58.31 101.84,-46.2\"/>\n",
       "<polygon fill=\"black\" stroke=\"black\" points=\"105.34,-46.15 101.84,-36.15 98.34,-46.15 105.34,-46.15\"/>\n",
       "<text text-anchor=\"middle\" x=\"136.84\" y=\"-57\" font-family=\"Helvetica,sans-Serif\" font-size=\"10.00\">out_ds&#45;&gt;in_ds</text>\n",
       "</g>\n",
       "<!-- SumAxisSum(&#39;SumAxisSum_1&#39;) -->\n",
       "<g id=\"node3\" class=\"node\">\n",
       "<title>SumAxisSum(&#39;SumAxisSum_1&#39;)</title>\n",
       "<ellipse fill=\"none\" stroke=\"black\" cx=\"101.84\" cy=\"-184\" rx=\"100.15\" ry=\"18\"/>\n",
       "<text text-anchor=\"middle\" x=\"101.84\" y=\"-181.5\" font-family=\"Helvetica,sans-Serif\" font-size=\"10.00\">SumAxisSum(&#39;SumAxisSum_1&#39;)</text>\n",
       "</g>\n",
       "<!-- SumAxisSum(&#39;SumAxisSum_1&#39;)&#45;&gt;DropAxisSum(&#39;DropAxisSum_1&#39;) -->\n",
       "<g id=\"edge2\" class=\"edge\">\n",
       "<title>SumAxisSum(&#39;SumAxisSum_1&#39;)&#45;&gt;DropAxisSum(&#39;DropAxisSum_1&#39;)</title>\n",
       "<path fill=\"none\" stroke=\"black\" d=\"M101.84,-165.82C101.84,-155.19 101.84,-141.31 101.84,-129.2\"/>\n",
       "<polygon fill=\"black\" stroke=\"black\" points=\"105.34,-129.15 101.84,-119.15 98.34,-129.15 105.34,-129.15\"/>\n",
       "<text text-anchor=\"middle\" x=\"136.84\" y=\"-140\" font-family=\"Helvetica,sans-Serif\" font-size=\"10.00\">out_ds&#45;&gt;in_ds</text>\n",
       "</g>\n",
       "<!-- AxisSum(&#39;AxisSum_1&#39;) -->\n",
       "<g id=\"node4\" class=\"node\">\n",
       "<title>AxisSum(&#39;AxisSum_1&#39;)</title>\n",
       "<ellipse fill=\"none\" stroke=\"black\" cx=\"101.84\" cy=\"-267\" rx=\"74.52\" ry=\"18\"/>\n",
       "<text text-anchor=\"middle\" x=\"101.84\" y=\"-264.5\" font-family=\"Helvetica,sans-Serif\" font-size=\"10.00\">AxisSum(&#39;AxisSum_1&#39;)</text>\n",
       "</g>\n",
       "<!-- AxisSum(&#39;AxisSum_1&#39;)&#45;&gt;SumAxisSum(&#39;SumAxisSum_1&#39;) -->\n",
       "<g id=\"edge3\" class=\"edge\">\n",
       "<title>AxisSum(&#39;AxisSum_1&#39;)&#45;&gt;SumAxisSum(&#39;SumAxisSum_1&#39;)</title>\n",
       "<path fill=\"none\" stroke=\"black\" d=\"M101.84,-248.82C101.84,-238.19 101.84,-224.31 101.84,-212.2\"/>\n",
       "<polygon fill=\"black\" stroke=\"black\" points=\"105.34,-212.15 101.84,-202.15 98.34,-212.15 105.34,-212.15\"/>\n",
       "<text text-anchor=\"middle\" x=\"136.84\" y=\"-223\" font-family=\"Helvetica,sans-Serif\" font-size=\"10.00\">out_ds&#45;&gt;in_ds</text>\n",
       "</g>\n",
       "<!-- STDIn(&#39;STDIn_1&#39;) -->\n",
       "<g id=\"node5\" class=\"node\">\n",
       "<title>STDIn(&#39;STDIn_1&#39;)</title>\n",
       "<ellipse fill=\"none\" stroke=\"black\" cx=\"101.84\" cy=\"-350\" rx=\"57.88\" ry=\"18\"/>\n",
       "<text text-anchor=\"middle\" x=\"101.84\" y=\"-347.5\" font-family=\"Helvetica,sans-Serif\" font-size=\"10.00\">STDIn(&#39;STDIn_1&#39;)</text>\n",
       "</g>\n",
       "<!-- STDIn(&#39;STDIn_1&#39;)&#45;&gt;AxisSum(&#39;AxisSum_1&#39;) -->\n",
       "<g id=\"edge4\" class=\"edge\">\n",
       "<title>STDIn(&#39;STDIn_1&#39;)&#45;&gt;AxisSum(&#39;AxisSum_1&#39;)</title>\n",
       "<path fill=\"none\" stroke=\"black\" d=\"M101.84,-331.82C101.84,-321.19 101.84,-307.31 101.84,-295.2\"/>\n",
       "<polygon fill=\"black\" stroke=\"black\" points=\"105.34,-295.15 101.84,-285.15 98.34,-295.15 105.34,-295.15\"/>\n",
       "<text text-anchor=\"middle\" x=\"136.84\" y=\"-306\" font-family=\"Helvetica,sans-Serif\" font-size=\"10.00\">out_ds&#45;&gt;in_ds</text>\n",
       "</g>\n",
       "</g>\n",
       "</svg>\n"
      ],
      "text/plain": [
       "<razor.flow.pipeline.Pipeline at 0x7fdbf0618110>"
      ]
     },
     "metadata": {},
     "output_type": "display_data"
    }
   ],
   "source": [
    "config = {'cores': 1, 'ram': 4096}\n",
    "\n",
    "size = '10MB'\n",
    "ip_filename = \"/data/sdk_testbench/input_data/dummy_\"+size+\"_df.parquet\"\n",
    "op_filename = \"/data/sdk_testbench/output_data/s_tc_21.parquet\"\n",
    "\n",
    "\n",
    "std_in = STDIn(filename=ip_filename)\n",
    "std_in.executor = rf.ContainerExecutor(cores=config['cores'], memory=config['ram'])\n",
    "\n",
    "axis_sum = AxisSum(in_ds=std_in.out_ds)\n",
    "axis_sum.executor = rf.ContainerExecutor(cores=config['cores'], memory=config['ram'])\n",
    "\n",
    "sum_axis_sum = SumAxisSum(in_ds=axis_sum.out_ds)\n",
    "sum_axis_sum.executor = rf.ContainerExecutor(cores=config['cores'], memory=config['ram'])\n",
    "\n",
    "drop_axis_sum = DropAxisSum(in_ds=sum_axis_sum.out_ds)\n",
    "drop_axis_sum.executor = rf.ContainerExecutor(cores=config['cores'], memory=config['ram'])\n",
    "\n",
    "stdout = STDOut(in_ds=drop_axis_sum.out_ds, out_filename=op_filename)\n",
    "\n",
    "pipeline = rf.Pipeline(name='kafka_atomic_quad_pipeline', targets=[stdout])\n",
    "pipeline.show()"
   ]
  },
  {
   "cell_type": "code",
   "execution_count": 4,
   "metadata": {},
   "outputs": [],
   "source": [
    "def create_pipeline():\n",
    "    return pipeline"
   ]
  },
  {
   "cell_type": "code",
   "execution_count": 5,
   "metadata": {},
   "outputs": [],
   "source": []
  }
 ],
 "metadata": {
  "kernelspec": {
   "display_name": "Python 3",
   "language": "python",
   "name": "python3"
  },
  "language_info": {
   "codemirror_mode": {
    "name": "ipython",
    "version": 3
   },
   "file_extension": ".py",
   "mimetype": "text/x-python",
   "name": "python",
   "nbconvert_exporter": "python",
   "pygments_lexer": "ipython3",
   "version": "3.7.10"
  }
 },
 "nbformat": 4,
 "nbformat_minor": 4
}
