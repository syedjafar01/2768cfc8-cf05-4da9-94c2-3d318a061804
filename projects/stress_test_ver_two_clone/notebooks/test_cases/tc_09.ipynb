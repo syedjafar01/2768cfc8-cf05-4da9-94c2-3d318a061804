{
 "cells": [
  {
   "cell_type": "code",
   "execution_count": 3,
   "metadata": {},
   "outputs": [
    {
     "name": "stderr",
     "output_type": "stream",
     "text": [
      "/usr/local/lib/python3.7/dist-packages/snowflake/connector/options.py:78: UserWarning: You have an incompatible version of 'pyarrow' installed (3.0.0), please install a version that adheres to: 'pyarrow<0.18.0,>=0.17.0; extra == \"pandas\"'\n",
      "  warn_incompatible_dep('pyarrow', _installed_pyarrow_version.version, _expected_pyarrow_version)\n"
     ]
    },
    {
     "ename": "ImportError",
     "evalue": "cannot import name 'engines' from 'razor.api' (/usr/local/lib/python3.7/dist-packages/razor/api/__init__.py)",
     "output_type": "error",
     "traceback": [
      "\u001b[0;31m---------------------------------------------------------------------------\u001b[0m",
      "\u001b[0;31mImportError\u001b[0m                               Traceback (most recent call last)",
      "\u001b[0;32m<ipython-input-3-840e80559d46>\u001b[0m in \u001b[0;36m<module>\u001b[0;34m\u001b[0m\n\u001b[1;32m      1\u001b[0m \u001b[0;32mimport\u001b[0m \u001b[0mrazor\u001b[0m\u001b[0;34m.\u001b[0m\u001b[0mflow\u001b[0m \u001b[0;32mas\u001b[0m \u001b[0mrf\u001b[0m\u001b[0;34m\u001b[0m\u001b[0;34m\u001b[0m\u001b[0m\n\u001b[0;32m----> 2\u001b[0;31m \u001b[0;32mfrom\u001b[0m \u001b[0mrazor\u001b[0m\u001b[0;34m.\u001b[0m\u001b[0mapi\u001b[0m \u001b[0;32mimport\u001b[0m \u001b[0mdatasources\u001b[0m\u001b[0;34m,\u001b[0m \u001b[0mengines\u001b[0m\u001b[0;34m,\u001b[0m \u001b[0mproject_space_path\u001b[0m\u001b[0;34m\u001b[0m\u001b[0;34m\u001b[0m\u001b[0m\n\u001b[0m\u001b[1;32m      3\u001b[0m \u001b[0;32mimport\u001b[0m \u001b[0mlogging\u001b[0m\u001b[0;34m\u001b[0m\u001b[0;34m\u001b[0m\u001b[0m\n\u001b[1;32m      4\u001b[0m \u001b[0;32mimport\u001b[0m \u001b[0mtime\u001b[0m\u001b[0;34m\u001b[0m\u001b[0;34m\u001b[0m\u001b[0m\n\u001b[1;32m      5\u001b[0m \u001b[0;32mimport\u001b[0m \u001b[0mtyping\u001b[0m \u001b[0;32mas\u001b[0m \u001b[0mtyp\u001b[0m\u001b[0;34m\u001b[0m\u001b[0;34m\u001b[0m\u001b[0m\n",
      "\u001b[0;31mImportError\u001b[0m: cannot import name 'engines' from 'razor.api' (/usr/local/lib/python3.7/dist-packages/razor/api/__init__.py)"
     ]
    }
   ],
   "source": [
    "import razor.flow as rf\n",
    "from razor.api import datasources, engines, project_space_path\n",
    "import logging\n",
    "import time\n",
    "import typing as typ\n",
    "import numpy as np\n",
    "import pandas as pd\n",
    "\n",
    "logger = logging.getLogger()\n"
   ]
  },
  {
   "cell_type": "code",
   "execution_count": 2,
   "metadata": {},
   "outputs": [],
   "source": [
    "def drop_col(df):\n",
    "    return df.drop(['x_temp'], axis=1)\n",
    "\n",
    "@rf.block\n",
    "class STDIn:\n",
    "    filename: str\n",
    "    out_ds: rf.Output[typ.Any] = rf.Output(transport=rf.KafkaTransport)\n",
    "\n",
    "    def run(self):\n",
    "        df = pd.read_parquet(project_space_path(self.filename))\n",
    "\n",
    "        df['x_temp'] = np.nan\n",
    "        logger.info(df.head())\n",
    "        self.out_ds.put(df)\n",
    "\n",
    "\n",
    "@rf.block\n",
    "class STDOut:\n",
    "    in_ds: typ.Any\n",
    "    out_filename: str\n",
    "\n",
    "    def run(self):\n",
    "        logger.info(self.in_ds.shape)\n",
    "        self.in_ds.to_parquet(project_space_path(self.out_filename), index=False)\n",
    "        "
   ]
  },
  {
   "cell_type": "code",
   "execution_count": 3,
   "metadata": {},
   "outputs": [
    {
     "data": {
      "application/vnd.razorthink.interactive+pipeline+view+json": {
       "blocks": [
        {
         "class_name": "STDOut",
         "id": "9a4622f8-5325-4e40-9dd6-2ebd632db63c",
         "inputs": [
          {
           "default": null,
           "flow": "atomic",
           "help": null,
           "label": "in_ds",
           "name": "in_ds",
           "series": false,
           "type": "Any",
           "type_check": true
          },
          {
           "default": null,
           "flow": "atomic",
           "help": null,
           "label": "out_filename",
           "name": "out_filename",
           "series": false,
           "type": "str",
           "type_check": true
          }
         ],
         "outputs": [],
         "overwritten": false,
         "var_names": [
          "STDOut"
         ]
        },
        {
         "class_name": "STDIn",
         "id": "e2643598-5d73-4598-acdd-1ce4773c9aac",
         "inputs": [
          {
           "default": null,
           "flow": "atomic",
           "help": null,
           "label": "filename",
           "name": "filename",
           "series": false,
           "type": "str",
           "type_check": true
          }
         ],
         "outputs": [
          {
           "flow": "atomic",
           "help": null,
           "label": "out_ds",
           "name": "out_ds",
           "series": false,
           "type": "Any",
           "type_check": true
          }
         ],
         "overwritten": false,
         "var_names": [
          "STDIn"
         ]
        }
       ],
       "connections": [
        {
         "id": "50ce2c4d-5764-4ba0-8a07-8dc9079a908b",
         "source": {
          "adapter": true,
          "instance_id": "5a6b1acb-ecf8-42bf-a093-61fc7aa498a1",
          "name": "out_ds"
         },
         "target": {
          "adapter": false,
          "instance_id": "aa192b0a-7806-4f20-b7c4-1493350cebe8",
          "name": "in_ds"
         }
        }
       ],
       "id": "407af889-ca1a-4574-b4e7-a8004cbd1950",
       "instances": [
        {
         "block_class": "9a4622f8-5325-4e40-9dd6-2ebd632db63c",
         "id": "aa192b0a-7806-4f20-b7c4-1493350cebe8",
         "name": "STDOut_1",
         "var_names": [
          "std_out"
         ]
        },
        {
         "block_class": "e2643598-5d73-4598-acdd-1ce4773c9aac",
         "id": "5a6b1acb-ecf8-42bf-a093-61fc7aa498a1",
         "name": "STDIn_1",
         "var_names": [
          "std_in"
         ]
        }
       ],
       "name": "adapter_atomic_kafka_transport",
       "var_names": []
      },
      "image/svg+xml": [
       "<?xml version=\"1.0\" encoding=\"UTF-8\" standalone=\"no\"?>\n",
       "<!DOCTYPE svg PUBLIC \"-//W3C//DTD SVG 1.1//EN\"\n",
       " \"http://www.w3.org/Graphics/SVG/1.1/DTD/svg11.dtd\">\n",
       "<!-- Generated by graphviz version 2.43.0 (0)\n",
       " -->\n",
       "<!-- Title: %3 Pages: 1 -->\n",
       "<svg width=\"146pt\" height=\"127pt\"\n",
       " viewBox=\"0.00 0.00 145.70 127.00\" xmlns=\"http://www.w3.org/2000/svg\" xmlns:xlink=\"http://www.w3.org/1999/xlink\">\n",
       "<g id=\"graph0\" class=\"graph\" transform=\"scale(1 1) rotate(0) translate(4 123)\">\n",
       "<title>%3</title>\n",
       "<polygon fill=\"white\" stroke=\"transparent\" points=\"-4,4 -4,-123 141.7,-123 141.7,4 -4,4\"/>\n",
       "<!-- STDOut(&#39;STDOut_1&#39;) -->\n",
       "<g id=\"node1\" class=\"node\">\n",
       "<title>STDOut(&#39;STDOut_1&#39;)</title>\n",
       "<ellipse fill=\"none\" stroke=\"black\" cx=\"67.7\" cy=\"-18\" rx=\"67.89\" ry=\"18\"/>\n",
       "<text text-anchor=\"middle\" x=\"67.7\" y=\"-15.5\" font-family=\"Helvetica,sans-Serif\" font-size=\"10.00\">STDOut(&#39;STDOut_1&#39;)</text>\n",
       "</g>\n",
       "<!-- STDIn(&#39;STDIn_1&#39;) -->\n",
       "<g id=\"node2\" class=\"node\">\n",
       "<title>STDIn(&#39;STDIn_1&#39;)</title>\n",
       "<ellipse fill=\"none\" stroke=\"black\" cx=\"67.7\" cy=\"-101\" rx=\"57.88\" ry=\"18\"/>\n",
       "<text text-anchor=\"middle\" x=\"67.7\" y=\"-98.5\" font-family=\"Helvetica,sans-Serif\" font-size=\"10.00\">STDIn(&#39;STDIn_1&#39;)</text>\n",
       "</g>\n",
       "<!-- STDIn(&#39;STDIn_1&#39;)&#45;&gt;STDOut(&#39;STDOut_1&#39;) -->\n",
       "<g id=\"edge1\" class=\"edge\">\n",
       "<title>STDIn(&#39;STDIn_1&#39;)&#45;&gt;STDOut(&#39;STDOut_1&#39;)</title>\n",
       "<path fill=\"none\" stroke=\"black\" d=\"M67.7,-82.82C67.7,-72.19 67.7,-58.31 67.7,-46.2\"/>\n",
       "<polygon fill=\"black\" stroke=\"black\" points=\"71.2,-46.15 67.7,-36.15 64.2,-46.15 71.2,-46.15\"/>\n",
       "<text text-anchor=\"middle\" x=\"102.7\" y=\"-57\" font-family=\"Helvetica,sans-Serif\" font-size=\"10.00\">out_ds&#45;&gt;in_ds</text>\n",
       "</g>\n",
       "</g>\n",
       "</svg>\n"
      ],
      "text/plain": [
       "<razor.flow.pipeline.Pipeline at 0x7fb5cbcb6bd0>"
      ]
     },
     "metadata": {},
     "output_type": "display_data"
    }
   ],
   "source": [
    "config = {'cores': 1, 'ram': 4096}\n",
    "\n",
    "\n",
    "size = '10MB'\n",
    "ip_filename = \"/data/sdk_testbench/input_data/dummy_\"+size+\"_df.parquet\"\n",
    "op_filename = \"/data/sdk_testbench/output_data/tc_09.parquet\"\n",
    "\n",
    "std_in = STDIn(filename=ip_filename)\n",
    "# std_in.executor = rf.ContainerExecutor(cores=config['cores'], memory=config['ram'])\n",
    "std_in.out_ds = rf.Output.set(adapter=drop_col)\n",
    "\n",
    "std_out = STDOut(in_ds=std_in.out_ds, out_filename=op_filename)\n",
    "# std_out.executor = rf.ContainerExecutor(cores=config['cores'], memory=config['ram'])\n",
    "\n",
    "pipeline = rf.Pipeline(name='adapter_atomic_kafka_transport', targets=[std_out])\n",
    "pipeline.show()"
   ]
  },
  {
   "cell_type": "code",
   "execution_count": 4,
   "metadata": {},
   "outputs": [],
   "source": [
    "def create_pipeline():\n",
    "    return pipeline"
   ]
  },
  {
   "cell_type": "code",
   "execution_count": null,
   "metadata": {},
   "outputs": [],
   "source": []
  },
  {
   "cell_type": "code",
   "execution_count": null,
   "metadata": {},
   "outputs": [],
   "source": []
  }
 ],
 "metadata": {
  "kernelspec": {
   "display_name": "Python 3",
   "language": "python",
   "name": "python3"
  },
  "language_info": {
   "codemirror_mode": {
    "name": "ipython",
    "version": 3
   },
   "file_extension": ".py",
   "mimetype": "text/x-python",
   "name": "python",
   "nbconvert_exporter": "python",
   "pygments_lexer": "ipython3",
   "version": "3.7.10"
  }
 },
 "nbformat": 4,
 "nbformat_minor": 4
}
