{
 "cells": [
  {
   "cell_type": "code",
   "execution_count": 1,
   "metadata": {},
   "outputs": [],
   "source": [
    "import razor.flow as rf\n",
    "from razor.api import datasources, engines, project_space_path\n",
    "import logging\n",
    "import time\n",
    "import typing as typ\n",
    "import numpy as np\n",
    "import pandas as pd\n",
    "\n",
    "logger = logging.getLogger()"
   ]
  },
  {
   "cell_type": "code",
   "execution_count": 2,
   "metadata": {},
   "outputs": [],
   "source": [
    "@rf.block\n",
    "class STDIn:\n",
    "    filename: str\n",
    "    records: int\n",
    "    out_ds: rf.SeriesOutput[typ.Any]\n",
    "\n",
    "    def run(self):\n",
    "        with open(project_space_path(self.filename), 'r') as f:\n",
    "            text_str = f.read()\n",
    "\n",
    "        logger.info(len(text_str))\n",
    "        for _ in range(self.records):\n",
    "            self.out_ds.put(text_str)\n",
    "\n",
    "            \n",
    "@rf.block\n",
    "class ReplaceChar:\n",
    "    in_ds: rf.SeriesInput[typ.Any]\n",
    "    out_ds: rf.SeriesOutput[typ.Any]\n",
    "\n",
    "    def run(self):\n",
    "        for i in self.in_ds:\n",
    "            text_str = i.replace('r', '!!!R!!!')\n",
    "            self.out_ds.put(text_str)\n",
    "            \n",
    "            \n",
    "@rf.block\n",
    "class PrintReplaceFreq:\n",
    "    in_ds: rf.SeriesInput[typ.Any]\n",
    "    out_ds: rf.SeriesOutput[typ.Any]\n",
    "\n",
    "    def run(self):\n",
    "        for i in self.in_ds:\n",
    "            logger.info(i.count('!!!R!!!'))\n",
    "            self.out_ds.put(i)\n",
    "            \n",
    "            \n",
    "@rf.block\n",
    "class DeReplaceChar:\n",
    "    in_ds: rf.SeriesInput[typ.Any]\n",
    "    out_ds: rf.SeriesOutput[typ.Any]\n",
    "\n",
    "    def run(self):\n",
    "        for i in self.in_ds:\n",
    "            text_str = i.replace('!!!R!!!', 'r')\n",
    "            self.out_ds.put(text_str)\n",
    "\n",
    "\n",
    "@rf.block\n",
    "class STDOut:\n",
    "    in_ds: rf.SeriesInput[typ.Any]\n",
    "    out_filename: str\n",
    "\n",
    "    def run(self):\n",
    "        text_str = ''\n",
    "        for i in self.in_ds:\n",
    "            if len(text_str) == 0:\n",
    "                text_str = i\n",
    "            else:\n",
    "                continue\n",
    "        logger.info(len(text_str))\n",
    "        sftp_c = datasources('test_source').client()\n",
    "        with open(project_space_path(self.out_filename), 'w') as f:\n",
    "            f.write(text_str)\n",
    "            "
   ]
  },
  {
   "cell_type": "code",
   "execution_count": 3,
   "metadata": {},
   "outputs": [
    {
     "data": {
      "application/vnd.razorthink.interactive+pipeline+view+json": {
       "blocks": [
        {
         "class_name": "STDOut",
         "id": "9c6214f9-9650-4dba-8f58-c0100501408f",
         "inputs": [
          {
           "default": null,
           "flow": "series",
           "help": null,
           "label": "in_ds",
           "name": "in_ds",
           "series": true,
           "type": "Any",
           "type_check": true
          },
          {
           "default": null,
           "flow": "atomic",
           "help": null,
           "label": "out_filename",
           "name": "out_filename",
           "series": false,
           "type": "str",
           "type_check": true
          }
         ],
         "outputs": [],
         "overwritten": false,
         "var_names": [
          "STDOut"
         ]
        },
        {
         "class_name": "PrintReplaceFreq",
         "id": "423632f4-39f4-436c-bcfa-1fca72d4a9cb",
         "inputs": [
          {
           "default": null,
           "flow": "series",
           "help": null,
           "label": "in_ds",
           "name": "in_ds",
           "series": true,
           "type": "Any",
           "type_check": true
          }
         ],
         "outputs": [
          {
           "flow": "series",
           "help": null,
           "label": "out_ds",
           "name": "out_ds",
           "series": true,
           "type": "Any",
           "type_check": true
          }
         ],
         "overwritten": false,
         "var_names": [
          "PrintReplaceFreq"
         ]
        },
        {
         "class_name": "DeReplaceChar",
         "id": "ae7faa1e-afd3-4a68-ae65-ca99e4777fd8",
         "inputs": [
          {
           "default": null,
           "flow": "series",
           "help": null,
           "label": "in_ds",
           "name": "in_ds",
           "series": true,
           "type": "Any",
           "type_check": true
          }
         ],
         "outputs": [
          {
           "flow": "series",
           "help": null,
           "label": "out_ds",
           "name": "out_ds",
           "series": true,
           "type": "Any",
           "type_check": true
          }
         ],
         "overwritten": false,
         "var_names": [
          "DeReplaceChar"
         ]
        },
        {
         "class_name": "ReplaceChar",
         "id": "89b70066-7fa5-4e8f-aaf9-6719790bcf81",
         "inputs": [
          {
           "default": null,
           "flow": "series",
           "help": null,
           "label": "in_ds",
           "name": "in_ds",
           "series": true,
           "type": "Any",
           "type_check": true
          }
         ],
         "outputs": [
          {
           "flow": "series",
           "help": null,
           "label": "out_ds",
           "name": "out_ds",
           "series": true,
           "type": "Any",
           "type_check": true
          }
         ],
         "overwritten": false,
         "var_names": [
          "ReplaceChar"
         ]
        },
        {
         "class_name": "STDIn",
         "id": "1802137e-c769-446a-aed0-682a66877354",
         "inputs": [
          {
           "default": null,
           "flow": "atomic",
           "help": null,
           "label": "filename",
           "name": "filename",
           "series": false,
           "type": "str",
           "type_check": true
          },
          {
           "default": null,
           "flow": "atomic",
           "help": null,
           "label": "records",
           "name": "records",
           "series": false,
           "type": "int",
           "type_check": true
          }
         ],
         "outputs": [
          {
           "flow": "series",
           "help": null,
           "label": "out_ds",
           "name": "out_ds",
           "series": true,
           "type": "Any",
           "type_check": true
          }
         ],
         "overwritten": false,
         "var_names": [
          "STDIn"
         ]
        }
       ],
       "connections": [
        {
         "id": "31183b1a-fb61-4632-8f49-4ecd4da73f96",
         "source": {
          "adapter": false,
          "instance_id": "114a8ed2-b6e5-4088-829b-9a415cfd0ae1",
          "name": "out_ds"
         },
         "target": {
          "adapter": false,
          "instance_id": "b9ac7434-c293-4c8f-807c-02f749d35ab1",
          "name": "in_ds"
         }
        },
        {
         "id": "7059071f-834b-49bf-ab6e-a851e0d0f419",
         "source": {
          "adapter": false,
          "instance_id": "1f30be17-22e8-4b08-98f0-e8e0f7502577",
          "name": "out_ds"
         },
         "target": {
          "adapter": false,
          "instance_id": "9b8b2090-611c-46b5-bb54-5c114c6f5800",
          "name": "in_ds"
         }
        },
        {
         "id": "798dd746-b2e3-410b-a5f3-d6ad752e152c",
         "source": {
          "adapter": false,
          "instance_id": "edfbfff9-57ba-4356-804d-f5428ebc4a01",
          "name": "out_ds"
         },
         "target": {
          "adapter": false,
          "instance_id": "114a8ed2-b6e5-4088-829b-9a415cfd0ae1",
          "name": "in_ds"
         }
        },
        {
         "id": "24085e58-81c8-42b9-898c-1f525d07aa3d",
         "source": {
          "adapter": false,
          "instance_id": "9b8b2090-611c-46b5-bb54-5c114c6f5800",
          "name": "out_ds"
         },
         "target": {
          "adapter": false,
          "instance_id": "edfbfff9-57ba-4356-804d-f5428ebc4a01",
          "name": "in_ds"
         }
        }
       ],
       "id": "82eed7c4-61ea-41a1-8796-6063091d09e4",
       "instances": [
        {
         "block_class": "9c6214f9-9650-4dba-8f58-c0100501408f",
         "id": "b9ac7434-c293-4c8f-807c-02f749d35ab1",
         "name": "STDOut_1",
         "var_names": [
          "stdout"
         ]
        },
        {
         "block_class": "ae7faa1e-afd3-4a68-ae65-ca99e4777fd8",
         "id": "114a8ed2-b6e5-4088-829b-9a415cfd0ae1",
         "name": "DeReplaceChar_1",
         "var_names": [
          "derep_char"
         ]
        },
        {
         "block_class": "423632f4-39f4-436c-bcfa-1fca72d4a9cb",
         "id": "edfbfff9-57ba-4356-804d-f5428ebc4a01",
         "name": "PrintReplaceFreq_1",
         "var_names": [
          "print_rep_freq"
         ]
        },
        {
         "block_class": "89b70066-7fa5-4e8f-aaf9-6719790bcf81",
         "id": "9b8b2090-611c-46b5-bb54-5c114c6f5800",
         "name": "ReplaceChar_1",
         "var_names": [
          "rep_char"
         ]
        },
        {
         "block_class": "1802137e-c769-446a-aed0-682a66877354",
         "id": "1f30be17-22e8-4b08-98f0-e8e0f7502577",
         "name": "STDIn_1",
         "var_names": [
          "std_in"
         ]
        }
       ],
       "name": "file_series_parallel",
       "var_names": []
      },
      "image/svg+xml": [
       "<?xml version=\"1.0\" encoding=\"UTF-8\" standalone=\"no\"?>\n",
       "<!DOCTYPE svg PUBLIC \"-//W3C//DTD SVG 1.1//EN\"\n",
       " \"http://www.w3.org/Graphics/SVG/1.1/DTD/svg11.dtd\">\n",
       "<!-- Generated by graphviz version 2.43.0 (0)\n",
       " -->\n",
       "<!-- Title: %3 Pages: 1 -->\n",
       "<svg width=\"251pt\" height=\"376pt\"\n",
       " viewBox=\"0.00 0.00 250.53 376.00\" xmlns=\"http://www.w3.org/2000/svg\" xmlns:xlink=\"http://www.w3.org/1999/xlink\">\n",
       "<g id=\"graph0\" class=\"graph\" transform=\"scale(1 1) rotate(0) translate(4 372)\">\n",
       "<title>%3</title>\n",
       "<polygon fill=\"white\" stroke=\"transparent\" points=\"-4,4 -4,-372 246.53,-372 246.53,4 -4,4\"/>\n",
       "<!-- STDOut(&#39;STDOut_1&#39;) -->\n",
       "<g id=\"node1\" class=\"node\">\n",
       "<title>STDOut(&#39;STDOut_1&#39;)</title>\n",
       "<ellipse fill=\"none\" stroke=\"black\" cx=\"121.26\" cy=\"-18\" rx=\"67.89\" ry=\"18\"/>\n",
       "<text text-anchor=\"middle\" x=\"121.26\" y=\"-15.5\" font-family=\"Helvetica,sans-Serif\" font-size=\"10.00\">STDOut(&#39;STDOut_1&#39;)</text>\n",
       "</g>\n",
       "<!-- DeReplaceChar(&#39;DeReplaceChar_1&#39;) -->\n",
       "<g id=\"node2\" class=\"node\">\n",
       "<title>DeReplaceChar(&#39;DeReplaceChar_1&#39;)</title>\n",
       "<ellipse fill=\"none\" stroke=\"black\" cx=\"121.26\" cy=\"-101\" rx=\"112.37\" ry=\"18\"/>\n",
       "<text text-anchor=\"middle\" x=\"121.26\" y=\"-98.5\" font-family=\"Helvetica,sans-Serif\" font-size=\"10.00\">DeReplaceChar(&#39;DeReplaceChar_1&#39;)</text>\n",
       "</g>\n",
       "<!-- DeReplaceChar(&#39;DeReplaceChar_1&#39;)&#45;&gt;STDOut(&#39;STDOut_1&#39;) -->\n",
       "<g id=\"edge1\" class=\"edge\">\n",
       "<title>DeReplaceChar(&#39;DeReplaceChar_1&#39;)&#45;&gt;STDOut(&#39;STDOut_1&#39;)</title>\n",
       "<path fill=\"none\" stroke=\"black\" d=\"M121.26,-82.82C121.26,-72.19 121.26,-58.31 121.26,-46.2\"/>\n",
       "<polygon fill=\"black\" stroke=\"black\" points=\"124.76,-46.15 121.26,-36.15 117.76,-46.15 124.76,-46.15\"/>\n",
       "<text text-anchor=\"middle\" x=\"156.26\" y=\"-57\" font-family=\"Helvetica,sans-Serif\" font-size=\"10.00\">out_ds&#45;&gt;in_ds</text>\n",
       "</g>\n",
       "<!-- PrintReplaceFreq(&#39;PrintReplaceFreq_1&#39;) -->\n",
       "<g id=\"node3\" class=\"node\">\n",
       "<title>PrintReplaceFreq(&#39;PrintReplaceFreq_1&#39;)</title>\n",
       "<ellipse fill=\"none\" stroke=\"black\" cx=\"121.26\" cy=\"-184\" rx=\"121.03\" ry=\"18\"/>\n",
       "<text text-anchor=\"middle\" x=\"121.26\" y=\"-181.5\" font-family=\"Helvetica,sans-Serif\" font-size=\"10.00\">PrintReplaceFreq(&#39;PrintReplaceFreq_1&#39;)</text>\n",
       "</g>\n",
       "<!-- PrintReplaceFreq(&#39;PrintReplaceFreq_1&#39;)&#45;&gt;DeReplaceChar(&#39;DeReplaceChar_1&#39;) -->\n",
       "<g id=\"edge2\" class=\"edge\">\n",
       "<title>PrintReplaceFreq(&#39;PrintReplaceFreq_1&#39;)&#45;&gt;DeReplaceChar(&#39;DeReplaceChar_1&#39;)</title>\n",
       "<path fill=\"none\" stroke=\"black\" d=\"M121.26,-165.82C121.26,-155.19 121.26,-141.31 121.26,-129.2\"/>\n",
       "<polygon fill=\"black\" stroke=\"black\" points=\"124.76,-129.15 121.26,-119.15 117.76,-129.15 124.76,-129.15\"/>\n",
       "<text text-anchor=\"middle\" x=\"156.26\" y=\"-140\" font-family=\"Helvetica,sans-Serif\" font-size=\"10.00\">out_ds&#45;&gt;in_ds</text>\n",
       "</g>\n",
       "<!-- ReplaceChar(&#39;ReplaceChar_1&#39;) -->\n",
       "<g id=\"node4\" class=\"node\">\n",
       "<title>ReplaceChar(&#39;ReplaceChar_1&#39;)</title>\n",
       "<ellipse fill=\"none\" stroke=\"black\" cx=\"121.26\" cy=\"-267\" rx=\"96.58\" ry=\"18\"/>\n",
       "<text text-anchor=\"middle\" x=\"121.26\" y=\"-264.5\" font-family=\"Helvetica,sans-Serif\" font-size=\"10.00\">ReplaceChar(&#39;ReplaceChar_1&#39;)</text>\n",
       "</g>\n",
       "<!-- ReplaceChar(&#39;ReplaceChar_1&#39;)&#45;&gt;PrintReplaceFreq(&#39;PrintReplaceFreq_1&#39;) -->\n",
       "<g id=\"edge3\" class=\"edge\">\n",
       "<title>ReplaceChar(&#39;ReplaceChar_1&#39;)&#45;&gt;PrintReplaceFreq(&#39;PrintReplaceFreq_1&#39;)</title>\n",
       "<path fill=\"none\" stroke=\"black\" d=\"M121.26,-248.82C121.26,-238.19 121.26,-224.31 121.26,-212.2\"/>\n",
       "<polygon fill=\"black\" stroke=\"black\" points=\"124.76,-212.15 121.26,-202.15 117.76,-212.15 124.76,-212.15\"/>\n",
       "<text text-anchor=\"middle\" x=\"156.26\" y=\"-223\" font-family=\"Helvetica,sans-Serif\" font-size=\"10.00\">out_ds&#45;&gt;in_ds</text>\n",
       "</g>\n",
       "<!-- STDIn(&#39;STDIn_1&#39;) -->\n",
       "<g id=\"node5\" class=\"node\">\n",
       "<title>STDIn(&#39;STDIn_1&#39;)</title>\n",
       "<ellipse fill=\"none\" stroke=\"black\" cx=\"121.26\" cy=\"-350\" rx=\"57.88\" ry=\"18\"/>\n",
       "<text text-anchor=\"middle\" x=\"121.26\" y=\"-347.5\" font-family=\"Helvetica,sans-Serif\" font-size=\"10.00\">STDIn(&#39;STDIn_1&#39;)</text>\n",
       "</g>\n",
       "<!-- STDIn(&#39;STDIn_1&#39;)&#45;&gt;ReplaceChar(&#39;ReplaceChar_1&#39;) -->\n",
       "<g id=\"edge4\" class=\"edge\">\n",
       "<title>STDIn(&#39;STDIn_1&#39;)&#45;&gt;ReplaceChar(&#39;ReplaceChar_1&#39;)</title>\n",
       "<path fill=\"none\" stroke=\"black\" d=\"M121.26,-331.82C121.26,-321.19 121.26,-307.31 121.26,-295.2\"/>\n",
       "<polygon fill=\"black\" stroke=\"black\" points=\"124.76,-295.15 121.26,-285.15 117.76,-295.15 124.76,-295.15\"/>\n",
       "<text text-anchor=\"middle\" x=\"156.26\" y=\"-306\" font-family=\"Helvetica,sans-Serif\" font-size=\"10.00\">out_ds&#45;&gt;in_ds</text>\n",
       "</g>\n",
       "</g>\n",
       "</svg>\n"
      ],
      "text/plain": [
       "<razor.flow.pipeline.Pipeline at 0x7f55d47e6f90>"
      ]
     },
     "metadata": {},
     "output_type": "display_data"
    }
   ],
   "source": [
    "config = {'cores': 1, 'ram': 4096}\n",
    "records = 1000\n",
    "size = '1KB'\n",
    "ip_filename = \"/data/sdk_testbench/input_data/file\" + size + \".txt\"\n",
    "op_filename = \"/data/sdk_testbench/output_data/tc_25.txt\"\n",
    "\n",
    "std_in = STDIn(records=records, filename=ip_filename)\n",
    "std_in.executor = rf.ContainerExecutor(cores=config['cores'], memory=config['ram'])\n",
    "std_in.out_ds = rf.Output.set(transport=rf.FileTransport)\n",
    "\n",
    "rep_char = ReplaceChar(in_ds=std_in.out_ds)\n",
    "rep_char.executor = rf.ContainerExecutor(cores=config['cores'], memory=config['ram'])\n",
    "rep_char.out_ds = rf.Output.set(transport=rf.FileTransport)\n",
    "\n",
    "print_rep_freq = PrintReplaceFreq(in_ds=rep_char.out_ds)\n",
    "print_rep_freq.executor = rf.ContainerExecutor(cores=config['cores'], memory=config['ram'])\n",
    "print_rep_freq.out_ds = rf.Output.set(transport=rf.FileTransport)\n",
    "\n",
    "derep_char = DeReplaceChar(in_ds=print_rep_freq.out_ds)\n",
    "derep_char.executor = rf.ContainerExecutor(cores=config['cores'], memory=config['ram'])\n",
    "derep_char.out_ds = rf.Output.set(transport=rf.FileTransport)\n",
    "\n",
    "stdout = STDOut(in_ds=derep_char.out_ds, out_filename=op_filename)\n",
    "stdout.executor = rf.ContainerExecutor(cores=config['cores'], memory=config['ram'])\n",
    "\n",
    "pipeline = rf.Pipeline(name='file_series_parallel', targets=[stdout])\n",
    "pipeline.show()"
   ]
  },
  {
   "cell_type": "code",
   "execution_count": 4,
   "metadata": {},
   "outputs": [],
   "source": [
    "def create_pipeline():\n",
    "    return pipeline"
   ]
  },
  {
   "cell_type": "code",
   "execution_count": 5,
   "metadata": {},
   "outputs": [],
   "source": [
    "prun = razor.api.engines('DS-engine').execute(pipeline)"
   ]
  }
 ],
 "metadata": {
  "kernelspec": {
   "display_name": "Python 3",
   "language": "python",
   "name": "python3"
  },
  "language_info": {
   "codemirror_mode": {
    "name": "ipython",
    "version": 3
   },
   "file_extension": ".py",
   "mimetype": "text/x-python",
   "name": "python",
   "nbconvert_exporter": "python",
   "pygments_lexer": "ipython3",
   "version": "3.7.6"
  }
 },
 "nbformat": 4,
 "nbformat_minor": 4
}
