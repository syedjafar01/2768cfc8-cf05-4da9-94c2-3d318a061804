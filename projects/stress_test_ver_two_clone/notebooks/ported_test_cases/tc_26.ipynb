{
 "cells": [
  {
   "cell_type": "code",
   "execution_count": 1,
   "metadata": {},
   "outputs": [],
   "source": [
    "import os\n",
    "import razor.flow as rf\n",
    "import logging\n",
    "import time\n",
    "import typing as typ\n",
    "import numpy as np\n",
    "import pandas as pd\n",
    "\n",
    "logger = logging.getLogger()"
   ]
  },
  {
   "cell_type": "code",
   "execution_count": 2,
   "metadata": {},
   "outputs": [],
   "source": [
    "import razor.flow as rf\n",
    "from razor import api"
   ]
  },
  {
   "cell_type": "code",
   "execution_count": 3,
   "metadata": {},
   "outputs": [],
   "source": [
    "def project_space_path(path):\n",
    "    ps = api.datasources('Project Space')\n",
    "    return os.path.join(ps.abspath(), path)"
   ]
  },
  {
   "cell_type": "code",
   "execution_count": 4,
   "metadata": {},
   "outputs": [],
   "source": [
    "@rf.block\n",
    "class CreateData:\n",
    "    filename: str\n",
    "    size: int\n",
    "    out_filename: rf.Output[str]\n",
    "    \n",
    "    def run(self):\n",
    "        arr = list(np.random.randint(1, 11, size=self.size))\n",
    "        text_str = ', '.join([str(i) for i in arr])\n",
    "        \n",
    "        logger.info(sum(arr))\n",
    "        \n",
    "        with open(project_space_path(self.filename), 'w') as f:\n",
    "            f.write(text_str)\n",
    "        self.out_filename.put(self.filename)\n",
    "        \n",
    "        \n",
    "@rf.block\n",
    "class STDIn:\n",
    "    s_file: str\n",
    "    l_file: str\n",
    "    s_val: rf.SeriesOutput[int]\n",
    "    l_val: rf.SeriesOutput[int]\n",
    "    \n",
    "    def run(self):\n",
    "        with open(project_space_path(self.s_file), 'r') as f:\n",
    "            l = f.read()\n",
    "            \n",
    "        with open(project_space_path(self.l_file), 'r') as f:\n",
    "            m = f.read()\n",
    "            \n",
    "        for i in l.split(', '):\n",
    "            self.s_val.put(int(i))\n",
    "            \n",
    "        for i in m.split(', '):\n",
    "            self.l_val.put(int(i))\n",
    "\n",
    "        \n",
    "@rf.block\n",
    "class ArrayMul:\n",
    "    array: rf.SeriesInput[int]\n",
    "    array_out: rf.SeriesOutput[int]\n",
    "    \n",
    "    def run(self):\n",
    "        l = 2 * np.array([i for i in self.array])\n",
    "        for i in l:\n",
    "            self.array_out.put(int(i))\n",
    "        \n",
    "        \n",
    "@rf.block\n",
    "class ArrayAdd:\n",
    "    s_array: rf.SeriesInput[int]\n",
    "    l_array: rf.SeriesInput[int]\n",
    "    s_array_out: rf.SeriesOutput[int]\n",
    "    l_array_out: rf.SeriesOutput[int]\n",
    "    \n",
    "    def run(self):\n",
    "        for i in self.s_array:\n",
    "            self.s_array_out.put(int(i+1))\n",
    "        for j in self.l_array:\n",
    "            self.l_array_out.put(int(j+2))\n",
    "        \n",
    "        \n",
    "@rf.block\n",
    "class ArrayDeOp:\n",
    "    array: rf.SeriesInput[int]\n",
    "    k: int\n",
    "    out_array: rf.Output[np.ndarray]\n",
    "    \n",
    "    def run(self):\n",
    "        l = np.array([i for i in self.array])\n",
    "        self.out_array.put((l-self.k)//2)\n",
    "        \n",
    "\n",
    "@rf.block\n",
    "class STDOut:\n",
    "    in_array: np.ndarray\n",
    "    out_file: str\n",
    "    \n",
    "    def run(self):\n",
    "        logger.info(sum(self.in_array))\n",
    "        text_str = ', '.join([str(i) for i in self.in_array])\n",
    "        with open(project_space_path(self.out_file), 'w') as f:\n",
    "            f.write(text_str)\n",
    "            "
   ]
  },
  {
   "cell_type": "code",
   "execution_count": 5,
   "metadata": {},
   "outputs": [
    {
     "data": {
      "application/vnd.razorthink.interactive+pipeline+view+json": {
       "blocks": [
        {
         "class_name": "ArrayDeOp",
         "fullname": ".ArrayDeOp",
         "id": "c7fe85c0-de51-4681-b197-5a9abb7c29bf",
         "inputs": [
          {
           "dataType": "integer",
           "default": 0,
           "flow": "series",
           "help": null,
           "isdict": false,
           "islist": false,
           "label": "array",
           "meta": {},
           "name": "array",
           "series": true,
           "type": "int",
           "type_check": true
          },
          {
           "dataType": "integer",
           "default": 0,
           "flow": "atomic",
           "help": null,
           "isdict": false,
           "islist": false,
           "label": "k",
           "meta": {},
           "name": "k",
           "series": false,
           "type": "int",
           "type_check": true
          }
         ],
         "outputs": [
          {
           "flow": "atomic",
           "help": null,
           "label": "out_array",
           "meta": {},
           "name": "out_array",
           "series": false,
           "type": "ndarray",
           "type_check": true
          }
         ],
         "overwritten": false,
         "published": false,
         "var_names": [
          "ArrayDeOp"
         ]
        },
        {
         "class_name": "ArrayAdd",
         "fullname": ".ArrayAdd",
         "id": "ff4f86ec-78d5-44d5-8a22-674fb3fa4626",
         "inputs": [
          {
           "dataType": "integer",
           "default": 0,
           "flow": "series",
           "help": null,
           "isdict": false,
           "islist": false,
           "label": "s_array",
           "meta": {},
           "name": "s_array",
           "series": true,
           "type": "int",
           "type_check": true
          },
          {
           "dataType": "integer",
           "default": 0,
           "flow": "series",
           "help": null,
           "isdict": false,
           "islist": false,
           "label": "l_array",
           "meta": {},
           "name": "l_array",
           "series": true,
           "type": "int",
           "type_check": true
          }
         ],
         "outputs": [
          {
           "flow": "series",
           "help": null,
           "label": "s_array_out",
           "meta": {},
           "name": "s_array_out",
           "series": true,
           "type": "int",
           "type_check": true
          },
          {
           "flow": "series",
           "help": null,
           "label": "l_array_out",
           "meta": {},
           "name": "l_array_out",
           "series": true,
           "type": "int",
           "type_check": true
          }
         ],
         "overwritten": false,
         "published": false,
         "var_names": [
          "ArrayAdd"
         ]
        },
        {
         "class_name": "ArrayMul",
         "fullname": ".ArrayMul",
         "id": "0e2a5387-a780-4f83-a41d-a37340c111f1",
         "inputs": [
          {
           "dataType": "integer",
           "default": 0,
           "flow": "series",
           "help": null,
           "isdict": false,
           "islist": false,
           "label": "array",
           "meta": {},
           "name": "array",
           "series": true,
           "type": "int",
           "type_check": true
          }
         ],
         "outputs": [
          {
           "flow": "series",
           "help": null,
           "label": "array_out",
           "meta": {},
           "name": "array_out",
           "series": true,
           "type": "int",
           "type_check": true
          }
         ],
         "overwritten": false,
         "published": false,
         "var_names": [
          "ArrayMul"
         ]
        },
        {
         "class_name": "STDOut",
         "fullname": ".STDOut",
         "id": "aa225d7d-b245-48ab-b44c-18fa264c1d59",
         "inputs": [
          {
           "dataType": null,
           "default": null,
           "flow": "atomic",
           "help": null,
           "isdict": false,
           "islist": false,
           "label": "in_array",
           "meta": {},
           "name": "in_array",
           "series": false,
           "type": "ndarray",
           "type_check": true
          },
          {
           "dataType": "string",
           "default": "",
           "flow": "atomic",
           "help": null,
           "isdict": false,
           "islist": false,
           "label": "out_file",
           "meta": {},
           "name": "out_file",
           "series": false,
           "type": "str",
           "type_check": true
          }
         ],
         "outputs": [],
         "overwritten": false,
         "published": false,
         "var_names": [
          "STDOut"
         ]
        },
        {
         "class_name": "STDIn",
         "fullname": ".STDIn",
         "id": "4b0a460a-ed28-4f9e-bc57-9f3a50b1a042",
         "inputs": [
          {
           "dataType": "string",
           "default": "",
           "flow": "atomic",
           "help": null,
           "isdict": false,
           "islist": false,
           "label": "s_file",
           "meta": {},
           "name": "s_file",
           "series": false,
           "type": "str",
           "type_check": true
          },
          {
           "dataType": "string",
           "default": "",
           "flow": "atomic",
           "help": null,
           "isdict": false,
           "islist": false,
           "label": "l_file",
           "meta": {},
           "name": "l_file",
           "series": false,
           "type": "str",
           "type_check": true
          }
         ],
         "outputs": [
          {
           "flow": "series",
           "help": null,
           "label": "s_val",
           "meta": {},
           "name": "s_val",
           "series": true,
           "type": "int",
           "type_check": true
          },
          {
           "flow": "series",
           "help": null,
           "label": "l_val",
           "meta": {},
           "name": "l_val",
           "series": true,
           "type": "int",
           "type_check": true
          }
         ],
         "overwritten": false,
         "published": false,
         "var_names": [
          "STDIn"
         ]
        },
        {
         "class_name": "CreateData",
         "fullname": ".CreateData",
         "id": "981975c6-6227-48a1-966f-f2ef84a6ae23",
         "inputs": [
          {
           "dataType": "string",
           "default": "",
           "flow": "atomic",
           "help": null,
           "isdict": false,
           "islist": false,
           "label": "filename",
           "meta": {},
           "name": "filename",
           "series": false,
           "type": "str",
           "type_check": true
          },
          {
           "dataType": "integer",
           "default": 0,
           "flow": "atomic",
           "help": null,
           "isdict": false,
           "islist": false,
           "label": "size",
           "meta": {},
           "name": "size",
           "series": false,
           "type": "int",
           "type_check": true
          }
         ],
         "outputs": [
          {
           "flow": "atomic",
           "help": null,
           "label": "out_filename",
           "meta": {},
           "name": "out_filename",
           "series": false,
           "type": "str",
           "type_check": true
          }
         ],
         "overwritten": false,
         "published": false,
         "var_names": [
          "CreateData"
         ]
        }
       ],
       "connections": [
        {
         "id": "e7c5fb85-7703-4de6-859c-2dbe74ebcf00",
         "source": {
          "adapter": false,
          "instance_id": "76796d58-7f3e-4a2a-90c3-873f23e53100",
          "name": "out_array"
         },
         "target": {
          "adapter": false,
          "instance_id": "08a7867d-21a2-4b0e-956c-ab46d8a9ed79",
          "name": "in_array"
         }
        },
        {
         "id": "cfbc20f0-3268-41dd-9b90-59061dd352ef",
         "source": {
          "adapter": false,
          "instance_id": "e611eb53-e696-466e-a8df-967a66a59142",
          "name": "array_out"
         },
         "target": {
          "adapter": false,
          "instance_id": "716b7cb0-93df-4ead-8137-7602e9577f65",
          "name": "s_array"
         }
        },
        {
         "id": "ae28d1bd-89e4-427d-886c-f25ddc456277",
         "source": {
          "adapter": false,
          "instance_id": "9980a287-f801-4dc1-b902-c4d5af947f0d",
          "name": "out_filename"
         },
         "target": {
          "adapter": false,
          "instance_id": "5d5a02b0-31ad-4e79-ba36-753c51bc73ef",
          "name": "s_file"
         }
        },
        {
         "id": "bba73c28-df42-4949-bb78-69288aba77e4",
         "source": {
          "adapter": false,
          "instance_id": "716b7cb0-93df-4ead-8137-7602e9577f65",
          "name": "s_array_out"
         },
         "target": {
          "adapter": false,
          "instance_id": "489583d6-2a01-4eca-a541-dfded5921b54",
          "name": "array"
         }
        },
        {
         "id": "c2d4a6d6-7620-4fdc-ac48-cff4ba58c443",
         "source": {
          "adapter": false,
          "instance_id": "5d5a02b0-31ad-4e79-ba36-753c51bc73ef",
          "name": "s_val"
         },
         "target": {
          "adapter": false,
          "instance_id": "e611eb53-e696-466e-a8df-967a66a59142",
          "name": "array"
         }
        },
        {
         "id": "9b19e295-48bc-446b-8854-94048184090c",
         "source": {
          "adapter": false,
          "instance_id": "716b7cb0-93df-4ead-8137-7602e9577f65",
          "name": "l_array_out"
         },
         "target": {
          "adapter": false,
          "instance_id": "76796d58-7f3e-4a2a-90c3-873f23e53100",
          "name": "array"
         }
        },
        {
         "id": "9f895714-d7cf-4eb7-8a5b-c222efd719ad",
         "source": {
          "adapter": false,
          "instance_id": "5d5a02b0-31ad-4e79-ba36-753c51bc73ef",
          "name": "l_val"
         },
         "target": {
          "adapter": false,
          "instance_id": "48e547ba-703e-43be-a24d-d59b9a1ff13a",
          "name": "array"
         }
        },
        {
         "id": "69744f45-8e60-4504-8a74-7dd33e8ac04d",
         "source": {
          "adapter": false,
          "instance_id": "34ddc5f2-4d28-4ced-8493-a4c893055e08",
          "name": "out_filename"
         },
         "target": {
          "adapter": false,
          "instance_id": "5d5a02b0-31ad-4e79-ba36-753c51bc73ef",
          "name": "l_file"
         }
        },
        {
         "id": "8bd2cd2d-c331-4875-bcee-8fc9e947a00d",
         "source": {
          "adapter": false,
          "instance_id": "48e547ba-703e-43be-a24d-d59b9a1ff13a",
          "name": "array_out"
         },
         "target": {
          "adapter": false,
          "instance_id": "716b7cb0-93df-4ead-8137-7602e9577f65",
          "name": "l_array"
         }
        },
        {
         "id": "6cecc1b5-8317-411b-8340-19229c50ba0b",
         "source": {
          "adapter": false,
          "instance_id": "489583d6-2a01-4eca-a541-dfded5921b54",
          "name": "out_array"
         },
         "target": {
          "adapter": false,
          "instance_id": "bdeaf0ce-e041-4ef4-b8d2-5acb1188130a",
          "name": "in_array"
         }
        }
       ],
       "id": "98391a0b-e1c9-4223-abdb-721e9ee800c2",
       "instances": [
        {
         "block_class": "aa225d7d-b245-48ab-b44c-18fa264c1d59",
         "id": "bdeaf0ce-e041-4ef4-b8d2-5acb1188130a",
         "name": "STDOut_1",
         "var_names": [
          "s_stdout"
         ]
        },
        {
         "block_class": "c7fe85c0-de51-4681-b197-5a9abb7c29bf",
         "id": "489583d6-2a01-4eca-a541-dfded5921b54",
         "name": "ArrayDeOp_1",
         "var_names": [
          "s_arr_deop"
         ]
        },
        {
         "block_class": "ff4f86ec-78d5-44d5-8a22-674fb3fa4626",
         "id": "716b7cb0-93df-4ead-8137-7602e9577f65",
         "name": "ArrayAdd_1",
         "var_names": [
          "arr_add"
         ]
        },
        {
         "block_class": "0e2a5387-a780-4f83-a41d-a37340c111f1",
         "id": "e611eb53-e696-466e-a8df-967a66a59142",
         "name": "ArrayMul_1",
         "var_names": [
          "s_arr_mul"
         ]
        },
        {
         "block_class": "4b0a460a-ed28-4f9e-bc57-9f3a50b1a042",
         "id": "5d5a02b0-31ad-4e79-ba36-753c51bc73ef",
         "name": "STDIn_1",
         "var_names": [
          "std_in"
         ]
        },
        {
         "block_class": "981975c6-6227-48a1-966f-f2ef84a6ae23",
         "id": "9980a287-f801-4dc1-b902-c4d5af947f0d",
         "name": "CreateData_1",
         "var_names": [
          "s_create_data"
         ]
        },
        {
         "block_class": "981975c6-6227-48a1-966f-f2ef84a6ae23",
         "id": "34ddc5f2-4d28-4ced-8493-a4c893055e08",
         "name": "CreateData_2",
         "var_names": [
          "l_create_data"
         ]
        },
        {
         "block_class": "0e2a5387-a780-4f83-a41d-a37340c111f1",
         "id": "48e547ba-703e-43be-a24d-d59b9a1ff13a",
         "name": "ArrayMul_2",
         "var_names": [
          "l_arr_mul"
         ]
        },
        {
         "block_class": "aa225d7d-b245-48ab-b44c-18fa264c1d59",
         "id": "08a7867d-21a2-4b0e-956c-ab46d8a9ed79",
         "name": "STDOut_2",
         "var_names": [
          "l_stdout"
         ]
        },
        {
         "block_class": "c7fe85c0-de51-4681-b197-5a9abb7c29bf",
         "id": "76796d58-7f3e-4a2a-90c3-873f23e53100",
         "name": "ArrayDeOp_2",
         "var_names": [
          "l_arr_deop"
         ]
        }
       ],
       "name": "mix_series_atomic",
       "var_names": []
      },
      "image/svg+xml": [
       "<?xml version=\"1.0\" encoding=\"UTF-8\" standalone=\"no\"?>\n",
       "<!DOCTYPE svg PUBLIC \"-//W3C//DTD SVG 1.1//EN\"\n",
       " \"http://www.w3.org/Graphics/SVG/1.1/DTD/svg11.dtd\">\n",
       "<!-- Generated by graphviz version 2.43.0 (0)\n",
       " -->\n",
       "<!-- Title: %3 Pages: 1 -->\n",
       "<svg width=\"390pt\" height=\"459pt\"\n",
       " viewBox=\"0.00 0.00 390.48 459.00\" xmlns=\"http://www.w3.org/2000/svg\" xmlns:xlink=\"http://www.w3.org/1999/xlink\">\n",
       "<g id=\"graph0\" class=\"graph\" transform=\"scale(1 1) rotate(0) translate(4 455)\">\n",
       "<title>%3</title>\n",
       "<polygon fill=\"white\" stroke=\"transparent\" points=\"-4,4 -4,-455 386.48,-455 386.48,4 -4,4\"/>\n",
       "<!-- STDOut(&#39;STDOut_1&#39;) -->\n",
       "<g id=\"node1\" class=\"node\">\n",
       "<title>STDOut(&#39;STDOut_1&#39;)</title>\n",
       "<ellipse fill=\"none\" stroke=\"black\" cx=\"91.48\" cy=\"-18\" rx=\"67.89\" ry=\"18\"/>\n",
       "<text text-anchor=\"middle\" x=\"91.48\" y=\"-15.5\" font-family=\"Helvetica,sans-Serif\" font-size=\"10.00\">STDOut(&#39;STDOut_1&#39;)</text>\n",
       "</g>\n",
       "<!-- ArrayDeOp(&#39;ArrayDeOp_1&#39;) -->\n",
       "<g id=\"node2\" class=\"node\">\n",
       "<title>ArrayDeOp(&#39;ArrayDeOp_1&#39;)</title>\n",
       "<ellipse fill=\"none\" stroke=\"black\" cx=\"91.48\" cy=\"-101\" rx=\"87.24\" ry=\"18\"/>\n",
       "<text text-anchor=\"middle\" x=\"91.48\" y=\"-98.5\" font-family=\"Helvetica,sans-Serif\" font-size=\"10.00\">ArrayDeOp(&#39;ArrayDeOp_1&#39;)</text>\n",
       "</g>\n",
       "<!-- ArrayDeOp(&#39;ArrayDeOp_1&#39;)&#45;&gt;STDOut(&#39;STDOut_1&#39;) -->\n",
       "<g id=\"edge1\" class=\"edge\">\n",
       "<title>ArrayDeOp(&#39;ArrayDeOp_1&#39;)&#45;&gt;STDOut(&#39;STDOut_1&#39;)</title>\n",
       "<path fill=\"none\" stroke=\"black\" d=\"M91.48,-82.82C91.48,-72.19 91.48,-58.31 91.48,-46.2\"/>\n",
       "<polygon fill=\"black\" stroke=\"black\" points=\"94.98,-46.15 91.48,-36.15 87.98,-46.15 94.98,-46.15\"/>\n",
       "<text text-anchor=\"middle\" x=\"140.98\" y=\"-57\" font-family=\"Helvetica,sans-Serif\" font-size=\"10.00\">out_array&#45;&gt;in_array</text>\n",
       "</g>\n",
       "<!-- ArrayAdd(&#39;ArrayAdd_1&#39;) -->\n",
       "<g id=\"node3\" class=\"node\">\n",
       "<title>ArrayAdd(&#39;ArrayAdd_1&#39;)</title>\n",
       "<ellipse fill=\"none\" stroke=\"black\" cx=\"187.48\" cy=\"-184\" rx=\"77.23\" ry=\"18\"/>\n",
       "<text text-anchor=\"middle\" x=\"187.48\" y=\"-181.5\" font-family=\"Helvetica,sans-Serif\" font-size=\"10.00\">ArrayAdd(&#39;ArrayAdd_1&#39;)</text>\n",
       "</g>\n",
       "<!-- ArrayAdd(&#39;ArrayAdd_1&#39;)&#45;&gt;ArrayDeOp(&#39;ArrayDeOp_1&#39;) -->\n",
       "<g id=\"edge2\" class=\"edge\">\n",
       "<title>ArrayAdd(&#39;ArrayAdd_1&#39;)&#45;&gt;ArrayDeOp(&#39;ArrayDeOp_1&#39;)</title>\n",
       "<path fill=\"none\" stroke=\"black\" d=\"M167.59,-166.22C153.56,-154.38 134.58,-138.37 119.08,-125.29\"/>\n",
       "<polygon fill=\"black\" stroke=\"black\" points=\"121.24,-122.54 111.34,-118.76 116.73,-127.89 121.24,-122.54\"/>\n",
       "<text text-anchor=\"middle\" x=\"192.98\" y=\"-140\" font-family=\"Helvetica,sans-Serif\" font-size=\"10.00\">s_array_out&#45;&gt;array</text>\n",
       "</g>\n",
       "<!-- ArrayDeOp(&#39;ArrayDeOp_2&#39;) -->\n",
       "<g id=\"node10\" class=\"node\">\n",
       "<title>ArrayDeOp(&#39;ArrayDeOp_2&#39;)</title>\n",
       "<ellipse fill=\"none\" stroke=\"black\" cx=\"283.48\" cy=\"-101\" rx=\"87.24\" ry=\"18\"/>\n",
       "<text text-anchor=\"middle\" x=\"283.48\" y=\"-98.5\" font-family=\"Helvetica,sans-Serif\" font-size=\"10.00\">ArrayDeOp(&#39;ArrayDeOp_2&#39;)</text>\n",
       "</g>\n",
       "<!-- ArrayAdd(&#39;ArrayAdd_1&#39;)&#45;&gt;ArrayDeOp(&#39;ArrayDeOp_2&#39;) -->\n",
       "<g id=\"edge3\" class=\"edge\">\n",
       "<title>ArrayAdd(&#39;ArrayAdd_1&#39;)&#45;&gt;ArrayDeOp(&#39;ArrayDeOp_2&#39;)</title>\n",
       "<path fill=\"none\" stroke=\"black\" d=\"M215.66,-167.15C224.6,-161.58 234.29,-154.97 242.48,-148 249.74,-141.82 256.92,-134.37 263.18,-127.28\"/>\n",
       "<polygon fill=\"black\" stroke=\"black\" points=\"266.24,-129.1 270.08,-119.22 260.92,-124.55 266.24,-129.1\"/>\n",
       "<text text-anchor=\"middle\" x=\"299.98\" y=\"-140\" font-family=\"Helvetica,sans-Serif\" font-size=\"10.00\">l_array_out&#45;&gt;array</text>\n",
       "</g>\n",
       "<!-- ArrayMul(&#39;ArrayMul_1&#39;) -->\n",
       "<g id=\"node4\" class=\"node\">\n",
       "<title>ArrayMul(&#39;ArrayMul_1&#39;)</title>\n",
       "<ellipse fill=\"none\" stroke=\"black\" cx=\"102.48\" cy=\"-267\" rx=\"76.55\" ry=\"18\"/>\n",
       "<text text-anchor=\"middle\" x=\"102.48\" y=\"-264.5\" font-family=\"Helvetica,sans-Serif\" font-size=\"10.00\">ArrayMul(&#39;ArrayMul_1&#39;)</text>\n",
       "</g>\n",
       "<!-- ArrayMul(&#39;ArrayMul_1&#39;)&#45;&gt;ArrayAdd(&#39;ArrayAdd_1&#39;) -->\n",
       "<g id=\"edge4\" class=\"edge\">\n",
       "<title>ArrayMul(&#39;ArrayMul_1&#39;)&#45;&gt;ArrayAdd(&#39;ArrayAdd_1&#39;)</title>\n",
       "<path fill=\"none\" stroke=\"black\" d=\"M115.81,-249.12C123.26,-240.1 132.95,-229.02 142.48,-220 146.9,-215.82 151.79,-211.62 156.67,-207.66\"/>\n",
       "<polygon fill=\"black\" stroke=\"black\" points=\"159.11,-210.2 164.8,-201.27 154.78,-204.7 159.11,-210.2\"/>\n",
       "<text text-anchor=\"middle\" x=\"189.98\" y=\"-223\" font-family=\"Helvetica,sans-Serif\" font-size=\"10.00\">array_out&#45;&gt;s_array</text>\n",
       "</g>\n",
       "<!-- STDIn(&#39;STDIn_1&#39;) -->\n",
       "<g id=\"node5\" class=\"node\">\n",
       "<title>STDIn(&#39;STDIn_1&#39;)</title>\n",
       "<ellipse fill=\"none\" stroke=\"black\" cx=\"187.48\" cy=\"-350\" rx=\"57.88\" ry=\"18\"/>\n",
       "<text text-anchor=\"middle\" x=\"187.48\" y=\"-347.5\" font-family=\"Helvetica,sans-Serif\" font-size=\"10.00\">STDIn(&#39;STDIn_1&#39;)</text>\n",
       "</g>\n",
       "<!-- STDIn(&#39;STDIn_1&#39;)&#45;&gt;ArrayMul(&#39;ArrayMul_1&#39;) -->\n",
       "<g id=\"edge5\" class=\"edge\">\n",
       "<title>STDIn(&#39;STDIn_1&#39;)&#45;&gt;ArrayMul(&#39;ArrayMul_1&#39;)</title>\n",
       "<path fill=\"none\" stroke=\"black\" d=\"M170.28,-332.61C157.91,-320.83 141.06,-304.77 127.26,-291.61\"/>\n",
       "<polygon fill=\"black\" stroke=\"black\" points=\"129.6,-289.01 119.94,-284.65 124.77,-294.08 129.6,-289.01\"/>\n",
       "<text text-anchor=\"middle\" x=\"182.48\" y=\"-306\" font-family=\"Helvetica,sans-Serif\" font-size=\"10.00\">s_val&#45;&gt;array</text>\n",
       "</g>\n",
       "<!-- ArrayMul(&#39;ArrayMul_2&#39;) -->\n",
       "<g id=\"node8\" class=\"node\">\n",
       "<title>ArrayMul(&#39;ArrayMul_2&#39;)</title>\n",
       "<ellipse fill=\"none\" stroke=\"black\" cx=\"273.48\" cy=\"-267\" rx=\"76.55\" ry=\"18\"/>\n",
       "<text text-anchor=\"middle\" x=\"273.48\" y=\"-264.5\" font-family=\"Helvetica,sans-Serif\" font-size=\"10.00\">ArrayMul(&#39;ArrayMul_2&#39;)</text>\n",
       "</g>\n",
       "<!-- STDIn(&#39;STDIn_1&#39;)&#45;&gt;ArrayMul(&#39;ArrayMul_2&#39;) -->\n",
       "<g id=\"edge6\" class=\"edge\">\n",
       "<title>STDIn(&#39;STDIn_1&#39;)&#45;&gt;ArrayMul(&#39;ArrayMul_2&#39;)</title>\n",
       "<path fill=\"none\" stroke=\"black\" d=\"M204.88,-332.61C217.39,-320.83 234.44,-304.77 248.41,-291.61\"/>\n",
       "<polygon fill=\"black\" stroke=\"black\" points=\"250.92,-294.05 255.8,-284.65 246.12,-288.95 250.92,-294.05\"/>\n",
       "<text text-anchor=\"middle\" x=\"265.98\" y=\"-306\" font-family=\"Helvetica,sans-Serif\" font-size=\"10.00\">l_val&#45;&gt;array</text>\n",
       "</g>\n",
       "<!-- CreateData(&#39;CreateData_1&#39;) -->\n",
       "<g id=\"node6\" class=\"node\">\n",
       "<title>CreateData(&#39;CreateData_1&#39;)</title>\n",
       "<ellipse fill=\"none\" stroke=\"black\" cx=\"89.48\" cy=\"-433\" rx=\"89.45\" ry=\"18\"/>\n",
       "<text text-anchor=\"middle\" x=\"89.48\" y=\"-430.5\" font-family=\"Helvetica,sans-Serif\" font-size=\"10.00\">CreateData(&#39;CreateData_1&#39;)</text>\n",
       "</g>\n",
       "<!-- CreateData(&#39;CreateData_1&#39;)&#45;&gt;STDIn(&#39;STDIn_1&#39;) -->\n",
       "<g id=\"edge7\" class=\"edge\">\n",
       "<title>CreateData(&#39;CreateData_1&#39;)&#45;&gt;STDIn(&#39;STDIn_1&#39;)</title>\n",
       "<path fill=\"none\" stroke=\"black\" d=\"M109.78,-415.22C124.3,-403.22 144,-386.94 159.93,-373.77\"/>\n",
       "<polygon fill=\"black\" stroke=\"black\" points=\"162.39,-376.28 167.87,-367.21 157.93,-370.88 162.39,-376.28\"/>\n",
       "<text text-anchor=\"middle\" x=\"195.48\" y=\"-389\" font-family=\"Helvetica,sans-Serif\" font-size=\"10.00\">out_filename&#45;&gt;s_file</text>\n",
       "</g>\n",
       "<!-- CreateData(&#39;CreateData_2&#39;) -->\n",
       "<g id=\"node7\" class=\"node\">\n",
       "<title>CreateData(&#39;CreateData_2&#39;)</title>\n",
       "<ellipse fill=\"none\" stroke=\"black\" cx=\"286.48\" cy=\"-433\" rx=\"89.45\" ry=\"18\"/>\n",
       "<text text-anchor=\"middle\" x=\"286.48\" y=\"-430.5\" font-family=\"Helvetica,sans-Serif\" font-size=\"10.00\">CreateData(&#39;CreateData_2&#39;)</text>\n",
       "</g>\n",
       "<!-- CreateData(&#39;CreateData_2&#39;)&#45;&gt;STDIn(&#39;STDIn_1&#39;) -->\n",
       "<g id=\"edge8\" class=\"edge\">\n",
       "<title>CreateData(&#39;CreateData_2&#39;)&#45;&gt;STDIn(&#39;STDIn_1&#39;)</title>\n",
       "<path fill=\"none\" stroke=\"black\" d=\"M275.57,-414.88C269.07,-405.57 260.19,-394.3 250.48,-386 243.63,-380.15 235.66,-374.83 227.74,-370.2\"/>\n",
       "<polygon fill=\"black\" stroke=\"black\" points=\"229.31,-367.07 218.87,-365.27 225.91,-373.19 229.31,-367.07\"/>\n",
       "<text text-anchor=\"middle\" x=\"310.48\" y=\"-389\" font-family=\"Helvetica,sans-Serif\" font-size=\"10.00\">out_filename&#45;&gt;l_file</text>\n",
       "</g>\n",
       "<!-- ArrayMul(&#39;ArrayMul_2&#39;)&#45;&gt;ArrayAdd(&#39;ArrayAdd_1&#39;) -->\n",
       "<g id=\"edge9\" class=\"edge\">\n",
       "<title>ArrayMul(&#39;ArrayMul_2&#39;)&#45;&gt;ArrayAdd(&#39;ArrayAdd_1&#39;)</title>\n",
       "<path fill=\"none\" stroke=\"black\" d=\"M261.91,-248.82C255.33,-239.71 246.6,-228.65 237.48,-220 232.73,-215.5 227.37,-211.14 221.97,-207.11\"/>\n",
       "<polygon fill=\"black\" stroke=\"black\" points=\"223.69,-204.04 213.52,-201.08 219.62,-209.74 223.69,-204.04\"/>\n",
       "<text text-anchor=\"middle\" x=\"292.98\" y=\"-223\" font-family=\"Helvetica,sans-Serif\" font-size=\"10.00\">array_out&#45;&gt;l_array</text>\n",
       "</g>\n",
       "<!-- STDOut(&#39;STDOut_2&#39;) -->\n",
       "<g id=\"node9\" class=\"node\">\n",
       "<title>STDOut(&#39;STDOut_2&#39;)</title>\n",
       "<ellipse fill=\"none\" stroke=\"black\" cx=\"283.48\" cy=\"-18\" rx=\"67.89\" ry=\"18\"/>\n",
       "<text text-anchor=\"middle\" x=\"283.48\" y=\"-15.5\" font-family=\"Helvetica,sans-Serif\" font-size=\"10.00\">STDOut(&#39;STDOut_2&#39;)</text>\n",
       "</g>\n",
       "<!-- ArrayDeOp(&#39;ArrayDeOp_2&#39;)&#45;&gt;STDOut(&#39;STDOut_2&#39;) -->\n",
       "<g id=\"edge10\" class=\"edge\">\n",
       "<title>ArrayDeOp(&#39;ArrayDeOp_2&#39;)&#45;&gt;STDOut(&#39;STDOut_2&#39;)</title>\n",
       "<path fill=\"none\" stroke=\"black\" d=\"M283.48,-82.82C283.48,-72.19 283.48,-58.31 283.48,-46.2\"/>\n",
       "<polygon fill=\"black\" stroke=\"black\" points=\"286.98,-46.15 283.48,-36.15 279.98,-46.15 286.98,-46.15\"/>\n",
       "<text text-anchor=\"middle\" x=\"332.98\" y=\"-57\" font-family=\"Helvetica,sans-Serif\" font-size=\"10.00\">out_array&#45;&gt;in_array</text>\n",
       "</g>\n",
       "</g>\n",
       "</svg>\n"
      ],
      "text/plain": [
       "<razor.flow.pipeline.Pipeline at 0x7ff488537190>"
      ]
     },
     "execution_count": 5,
     "metadata": {},
     "output_type": "execute_result"
    }
   ],
   "source": [
    "s_filename = \"sdk_testbench/input_data/tc_26_small.txt\"\n",
    "l_filename = \"sdk_testbench/input_data/tc_26_large.txt\"\n",
    "s_size = 10\n",
    "l_size = 20\n",
    "s_output_filename = \"sdk_testbench/output_data/tc_26_small_out.txt\"\n",
    "l_output_filename = \"sdk_testbench/output_data/tc_26_large_out.txt\"\n",
    "\n",
    "s_create_data = CreateData(filename=s_filename, size=s_size)\n",
    "l_create_data = CreateData(filename=l_filename, size=l_size)\n",
    "# s_create_data.out_filename = rf.Output.set(transport=rf.KafkaTransport) \n",
    "# l_create_data.out_filename = rf.Output.set(transport=rf.KafkaTransport) \n",
    "\n",
    "std_in = STDIn(s_file=s_create_data.out_filename, l_file=l_create_data.out_filename)\n",
    "# std_in.s_val = rf.Output.set(transport=rf.KafkaTransport) \n",
    "# std_in.l_val = rf.Output.set(transport=rf.FileTransport)\n",
    "\n",
    "s_arr_mul = ArrayMul(array=std_in.s_val)\n",
    "l_arr_mul = ArrayMul(array=std_in.l_val)\n",
    "# s_arr_mul.array_out = rf.Output.set(transport=rf.KafkaTransport)\n",
    "# l_arr_mul.array_out = rf.Output.set(transport=rf.FileTransport)\n",
    "\n",
    "arr_add = ArrayAdd(s_array=s_arr_mul.array_out, l_array=l_arr_mul.array_out)\n",
    "# arr_add.s_array_out = rf.Output.set(transport=rf.KafkaTransport)\n",
    "# arr_add.l_array_out = rf.Output.set(transport=rf.FileTransport)\n",
    "\n",
    "s_arr_deop = ArrayDeOp(array=arr_add.s_array_out, k=1)\n",
    "l_arr_deop = ArrayDeOp(array=arr_add.l_array_out, k=2)\n",
    "# s_arr_deop.out_array = rf.Output.set(transport=rf.FileTransport)\n",
    "# l_arr_deop.out_array = rf.Output.set(transport=rf.FileTransport)\n",
    "\n",
    "s_stdout = STDOut(in_array=s_arr_deop.out_array, out_file=s_output_filename)\n",
    "l_stdout = STDOut(in_array=l_arr_deop.out_array, out_file=l_output_filename)\n",
    "\n",
    "pipeline = rf.Pipeline(name='mix_series_atomic', targets=[s_stdout, l_stdout])\n",
    "pipeline"
   ]
  },
  {
   "cell_type": "code",
   "execution_count": 6,
   "metadata": {},
   "outputs": [
    {
     "data": {
      "application/vnd.razorthink.run+monitor+json": "/tmp/tmpv1e_9rir/mix_series_atomic",
      "text/plain": [
       "<razor_tools.backend.ipython.mime.run_monitor.RunMonitor at 0x7ff4054aadd0>"
      ]
     },
     "metadata": {
      "application/vnd.razorthink.run+monitor+json": {
       "run_data": {
        "apm": [
         {
          "cpu_percent": 0,
          "cpu_time": 0,
          "name": "STDOut_1",
          "real_mem": 149868544,
          "time": 1615899679.7841654
         },
         {
          "cpu_percent": 0,
          "cpu_time": 0,
          "name": "ArrayDeOp_1",
          "real_mem": 150016000,
          "time": 1615899679.7965393
         },
         {
          "cpu_percent": 0,
          "cpu_time": 0,
          "name": "STDOut_2",
          "real_mem": 147857408,
          "time": 1615899679.8087661
         },
         {
          "cpu_percent": 0,
          "cpu_time": 0,
          "name": "ArrayDeOp_2",
          "real_mem": 150024192,
          "time": 1615899679.8592472
         },
         {
          "cpu_percent": 0,
          "cpu_time": 0.01,
          "name": "ArrayAdd_1",
          "real_mem": 150028288,
          "time": 1615899679.8710961
         },
         {
          "cpu_percent": 0,
          "cpu_time": 0,
          "name": "ArrayMul_1",
          "real_mem": 147881984,
          "time": 1615899679.8840535
         },
         {
          "cpu_percent": 0,
          "cpu_time": 0,
          "name": "ArrayMul_2",
          "real_mem": 147881984,
          "time": 1615899679.8972747
         },
         {
          "cpu_percent": 0,
          "cpu_time": 0,
          "name": "STDIn_1",
          "real_mem": 150048768,
          "time": 1615899679.910431
         },
         {
          "cpu_percent": 0,
          "cpu_time": 0,
          "name": "CreateData_1",
          "real_mem": 147894272,
          "time": 1615899679.9226232
         },
         {
          "cpu_percent": 0,
          "cpu_time": 0.01,
          "name": "CreateData_2",
          "real_mem": 147902464,
          "time": 1615899679.935121
         },
         {
          "cpu_percent": 0,
          "cpu_time": 0.01,
          "name": "STDOut_1",
          "real_mem": 149966848,
          "time": 1615899680.0526602
         },
         {
          "cpu_percent": 0,
          "cpu_time": 0.01,
          "name": "ArrayDeOp_1",
          "real_mem": 150081536,
          "time": 1615899680.0732596
         },
         {
          "cpu_percent": 0,
          "cpu_time": 0.01,
          "name": "STDOut_2",
          "real_mem": 150081536,
          "time": 1615899680.0866141
         },
         {
          "cpu_percent": 0,
          "cpu_time": 0.01,
          "name": "ArrayDeOp_2",
          "real_mem": 150208512,
          "time": 1615899680.098723
         },
         {
          "cpu_percent": 0,
          "cpu_time": 0.01,
          "name": "ArrayAdd_1",
          "real_mem": 150093824,
          "time": 1615899680.1162956
         },
         {
          "cpu_percent": 0,
          "cpu_time": 0.01,
          "name": "ArrayMul_1",
          "real_mem": 150106112,
          "time": 1615899680.161017
         },
         {
          "cpu_percent": 0,
          "cpu_time": 0.01,
          "name": "ArrayMul_2",
          "real_mem": 150106112,
          "time": 1615899680.1730812
         },
         {
          "cpu_percent": 0,
          "cpu_time": 0.01,
          "name": "STDIn_1",
          "real_mem": 150114304,
          "time": 1615899680.1847036
         },
         {
          "cpu_percent": 0,
          "cpu_time": 0.05,
          "name": "CreateData_1",
          "real_mem": 154292224,
          "time": 1615899680.1966207
         },
         {
          "cpu_percent": 0,
          "cpu_time": 0.04,
          "name": "CreateData_2",
          "real_mem": 154296320,
          "time": 1615899680.208552
         },
         {
          "cpu_percent": 0,
          "cpu_time": 0.01,
          "name": "STDOut_1",
          "real_mem": 149966848,
          "time": 1615899680.3208642
         },
         {
          "cpu_percent": 0,
          "cpu_time": 0.01,
          "name": "ArrayDeOp_1",
          "real_mem": 150200320,
          "time": 1615899680.3334987
         },
         {
          "cpu_percent": 0,
          "cpu_time": 0.01,
          "name": "STDOut_2",
          "real_mem": 150081536,
          "time": 1615899680.3454702
         },
         {
          "cpu_percent": 0,
          "cpu_time": 0.01,
          "name": "ArrayDeOp_2",
          "real_mem": 150208512,
          "time": 1615899680.3571446
         },
         {
          "cpu_percent": 0,
          "cpu_time": 0.01,
          "name": "ArrayAdd_1",
          "real_mem": 150093824,
          "time": 1615899680.3706355
         },
         {
          "cpu_percent": 0,
          "cpu_time": 0.01,
          "name": "ArrayMul_1",
          "real_mem": 150106112,
          "time": 1615899680.382346
         },
         {
          "cpu_percent": 0,
          "cpu_time": 0.01,
          "name": "ArrayMul_2",
          "real_mem": 150106112,
          "time": 1615899680.3946161
         },
         {
          "cpu_percent": 0,
          "cpu_time": 0.01,
          "name": "STDIn_1",
          "real_mem": 150114304,
          "time": 1615899680.4092562
         },
         {
          "cpu_percent": 0,
          "cpu_time": 0.06,
          "name": "CreateData_1",
          "real_mem": 154554368,
          "time": 1615899680.4214082
         },
         {
          "cpu_percent": 0,
          "cpu_time": 0.05,
          "name": "CreateData_2",
          "real_mem": 154558464,
          "time": 1615899680.4336607
         },
         {
          "cpu_percent": 0,
          "cpu_time": 0.01,
          "name": "STDOut_1",
          "real_mem": 149966848,
          "time": 1615899680.5460992
         },
         {
          "cpu_percent": 0,
          "cpu_time": 0.01,
          "name": "ArrayDeOp_1",
          "real_mem": 150200320,
          "time": 1615899680.5579708
         },
         {
          "cpu_percent": 0,
          "cpu_time": 0.01,
          "name": "STDOut_2",
          "real_mem": 150081536,
          "time": 1615899680.569648
         },
         {
          "cpu_percent": 0,
          "cpu_time": 0.01,
          "name": "ArrayDeOp_2",
          "real_mem": 150208512,
          "time": 1615899680.5814266
         },
         {
          "cpu_percent": 0,
          "cpu_time": 0.01,
          "name": "ArrayAdd_1",
          "real_mem": 150093824,
          "time": 1615899680.593149
         },
         {
          "cpu_percent": 0,
          "cpu_time": 0.01,
          "name": "ArrayMul_1",
          "real_mem": 150106112,
          "time": 1615899680.6051338
         },
         {
          "cpu_percent": 0,
          "cpu_time": 0.01,
          "name": "ArrayMul_2",
          "real_mem": 150106112,
          "time": 1615899680.6167765
         },
         {
          "cpu_percent": 0,
          "cpu_time": 0.01,
          "name": "STDIn_1",
          "real_mem": 150114304,
          "time": 1615899680.6291285
         },
         {
          "cpu_percent": 0,
          "cpu_time": 0.06,
          "name": "CreateData_1",
          "real_mem": 154554368,
          "time": 1615899680.640993
         },
         {
          "cpu_percent": 0,
          "cpu_time": 0.05,
          "name": "CreateData_2",
          "real_mem": 154558464,
          "time": 1615899680.6528704
         },
         {
          "cpu_percent": 0,
          "cpu_time": 0.01,
          "name": "STDOut_1",
          "real_mem": 149966848,
          "time": 1615899680.7651308
         },
         {
          "cpu_percent": 0,
          "cpu_time": 0.01,
          "name": "ArrayDeOp_1",
          "real_mem": 150200320,
          "time": 1615899680.7770243
         },
         {
          "cpu_percent": 0,
          "cpu_time": 0.01,
          "name": "STDOut_2",
          "real_mem": 150081536,
          "time": 1615899680.7888327
         },
         {
          "cpu_percent": 0,
          "cpu_time": 0.01,
          "name": "ArrayDeOp_2",
          "real_mem": 150208512,
          "time": 1615899680.8005335
         },
         {
          "cpu_percent": 0,
          "cpu_time": 0.01,
          "name": "ArrayAdd_1",
          "real_mem": 150093824,
          "time": 1615899680.8128002
         },
         {
          "cpu_percent": 0,
          "cpu_time": 0.01,
          "name": "ArrayMul_1",
          "real_mem": 150106112,
          "time": 1615899680.8244789
         },
         {
          "cpu_percent": 0,
          "cpu_time": 0.01,
          "name": "ArrayMul_2",
          "real_mem": 150106112,
          "time": 1615899680.836448
         },
         {
          "cpu_percent": 0,
          "cpu_time": 0.01,
          "name": "STDIn_1",
          "real_mem": 150114304,
          "time": 1615899680.8486805
         },
         {
          "cpu_percent": 0,
          "cpu_time": 0.06,
          "name": "CreateData_1",
          "real_mem": 154554368,
          "time": 1615899680.8606734
         },
         {
          "cpu_percent": 0,
          "cpu_time": 0.05,
          "name": "CreateData_2",
          "real_mem": 154558464,
          "time": 1615899680.8724031
         },
         {
          "cpu_percent": 0,
          "cpu_time": 0.01,
          "name": "STDOut_1",
          "real_mem": 149966848,
          "time": 1615899680.98503
         },
         {
          "cpu_percent": 0,
          "cpu_time": 0.01,
          "name": "ArrayDeOp_1",
          "real_mem": 150200320,
          "time": 1615899680.9972034
         },
         {
          "cpu_percent": 0,
          "cpu_time": 0.01,
          "name": "STDOut_2",
          "real_mem": 150081536,
          "time": 1615899681.0102649
         },
         {
          "cpu_percent": 0,
          "cpu_time": 0.01,
          "name": "ArrayDeOp_2",
          "real_mem": 150208512,
          "time": 1615899681.0227184
         },
         {
          "cpu_percent": 0,
          "cpu_time": 0.01,
          "name": "ArrayAdd_1",
          "real_mem": 150093824,
          "time": 1615899681.0344422
         },
         {
          "cpu_percent": 0,
          "cpu_time": 0.01,
          "name": "ArrayMul_1",
          "real_mem": 150106112,
          "time": 1615899681.046629
         },
         {
          "cpu_percent": 0,
          "cpu_time": 0.01,
          "name": "ArrayMul_2",
          "real_mem": 150106112,
          "time": 1615899681.0584972
         },
         {
          "cpu_percent": 0,
          "cpu_time": 0.05,
          "name": "STDIn_1",
          "real_mem": 152821760,
          "time": 1615899681.0701652
         },
         {
          "cpu_percent": 0,
          "cpu_time": 0.06,
          "name": "CreateData_1",
          "real_mem": 155389952,
          "time": 1615899681.0820093
         },
         {
          "cpu_percent": 0,
          "cpu_time": 0.06,
          "name": "CreateData_2",
          "real_mem": 155389952,
          "time": 1615899681.0938234
         },
         {
          "cpu_percent": 0,
          "cpu_time": 0.01,
          "name": "STDOut_1",
          "real_mem": 149966848,
          "time": 1615899681.206933
         },
         {
          "cpu_percent": 0,
          "cpu_time": 0.01,
          "name": "ArrayDeOp_1",
          "real_mem": 150200320,
          "time": 1615899681.2190533
         },
         {
          "cpu_percent": 0,
          "cpu_time": 0.01,
          "name": "STDOut_2",
          "real_mem": 150081536,
          "time": 1615899681.2313118
         },
         {
          "cpu_percent": 0,
          "cpu_time": 0.01,
          "name": "ArrayDeOp_2",
          "real_mem": 150208512,
          "time": 1615899681.2435555
         },
         {
          "cpu_percent": 0,
          "cpu_time": 0.01,
          "name": "ArrayAdd_1",
          "real_mem": 150093824,
          "time": 1615899681.255465
         },
         {
          "cpu_percent": 86.8,
          "cpu_time": 0.02,
          "name": "ArrayMul_1",
          "real_mem": 153153536,
          "time": 1615899681.2686787
         },
         {
          "cpu_percent": 0,
          "cpu_time": 0.02,
          "name": "ArrayMul_2",
          "real_mem": 153161728,
          "time": 1615899681.2896743
         },
         {
          "cpu_percent": 0,
          "cpu_time": 0.1,
          "name": "STDIn_1",
          "real_mem": 153182208,
          "time": 1615899681.3015199
         },
         {
          "cpu_percent": 0,
          "cpu_time": 0.04,
          "name": "STDOut_1",
          "real_mem": 154079232,
          "time": 1615899681.4140756
         },
         {
          "cpu_percent": 0,
          "cpu_time": 0.02,
          "name": "ArrayDeOp_1",
          "real_mem": 153223168,
          "time": 1615899681.425619
         },
         {
          "cpu_percent": 0,
          "cpu_time": 0.04,
          "name": "STDOut_2",
          "real_mem": 154136576,
          "time": 1615899681.4374158
         },
         {
          "cpu_percent": 0,
          "cpu_time": 0.02,
          "name": "ArrayDeOp_2",
          "real_mem": 151957504,
          "time": 1615899681.4597855
         },
         {
          "cpu_percent": 0,
          "cpu_time": 0.03,
          "name": "ArrayAdd_1",
          "real_mem": 151818240,
          "time": 1615899681.4712772
         },
         {
          "cpu_percent": 0,
          "cpu_time": 0.02,
          "name": "ArrayMul_1",
          "real_mem": 153153536,
          "time": 1615899681.483099
         },
         {
          "cpu_percent": 0,
          "cpu_time": 0.02,
          "name": "ArrayMul_2",
          "real_mem": 0,
          "time": 1615899681.4951563
         },
         {
          "cpu_percent": 0,
          "cpu_time": 0.06,
          "name": "STDOut_1",
          "real_mem": 154370048,
          "time": 1615899681.6075816
         },
         {
          "cpu_percent": 0,
          "cpu_time": 0.05,
          "name": "STDOut_2",
          "real_mem": 154398720,
          "time": 1615899681.6192827
         },
         {
          "cpu_percent": 0,
          "cpu_time": 0.06,
          "name": "STDOut_1",
          "real_mem": 154370048,
          "time": 1615899681.731393
         },
         {
          "cpu_percent": 0,
          "cpu_time": 0.05,
          "name": "STDOut_2",
          "real_mem": 154398720,
          "time": 1615899681.7432318
         },
         {
          "cpu_percent": 0,
          "cpu_time": 0.06,
          "name": "STDOut_1",
          "real_mem": 154370048,
          "time": 1615899681.8557255
         },
         {
          "cpu_percent": 0,
          "cpu_time": 0.05,
          "name": "STDOut_2",
          "real_mem": 154398720,
          "time": 1615899681.867753
         },
         {
          "cpu_percent": 0,
          "cpu_time": 0.06,
          "name": "STDOut_1",
          "real_mem": 154370048,
          "time": 1615899681.9801521
         },
         {
          "cpu_percent": 0,
          "cpu_time": 0.05,
          "name": "STDOut_2",
          "real_mem": 154398720,
          "time": 1615899681.9918807
         },
         {
          "cpu_percent": 0,
          "cpu_time": 0.06,
          "name": "STDOut_1",
          "real_mem": 154370048,
          "time": 1615899682.1049054
         },
         {
          "cpu_percent": 0,
          "cpu_time": 0.05,
          "name": "STDOut_2",
          "real_mem": 154398720,
          "time": 1615899682.1166203
         },
         {
          "cpu_percent": 0,
          "cpu_time": 0.06,
          "name": "STDOut_1",
          "real_mem": 154370048,
          "time": 1615899682.229557
         },
         {
          "cpu_percent": 0,
          "cpu_time": 0.05,
          "name": "STDOut_2",
          "real_mem": 154398720,
          "time": 1615899682.2412825
         },
         {
          "cpu_percent": 0,
          "cpu_time": 0.05,
          "name": "STDOut_2",
          "real_mem": 154398720,
          "time": 1615899682.3537824
         },
         {
          "cpu_percent": 0,
          "cpu_time": 0.05,
          "name": "STDOut_2",
          "real_mem": 154398720,
          "time": 1615899682.467094
         }
        ],
        "logs": [
         {
          "asctime": "2021-03-16 13:01:18,715",
          "exc_info": null,
          "extra": {},
          "filename": "pipeline.py",
          "funcName": "_log_manager",
          "levelname": "INFO",
          "lineno": 413,
          "message": "writing logs to: /tmp/tmpv1e_9rir/mix_series_atomic",
          "name": "razor.flow.pipeline:mix_series_atomic",
          "pathname": "/usr/local/lib/python3.7/dist-packages/razor/flow/pipeline.py",
          "process": 3243,
          "processName": "MainProcess",
          "thread": 140688351307584,
          "threadName": "MainThread"
         }
        ],
        "meta": {
         "block_status": {
          "ArrayAdd_1": "SUCCESS",
          "ArrayDeOp_1": "SUCCESS",
          "ArrayDeOp_2": "SUCCESS",
          "ArrayMul_1": "SUCCESS",
          "ArrayMul_2": "SUCCESS",
          "CreateData_1": "SUCCESS",
          "CreateData_2": "SUCCESS",
          "STDIn_1": "SUCCESS",
          "STDOut_1": "SUCCESS",
          "STDOut_2": "SUCCESS"
         },
         "blocks": [
          {
           "class_name": "ArrayDeOp",
           "fullname": ".ArrayDeOp",
           "id": "c7fe85c0-de51-4681-b197-5a9abb7c29bf",
           "inputs": [
            {
             "dataType": "integer",
             "default": 0,
             "flow": "series",
             "help": null,
             "isdict": false,
             "islist": false,
             "label": "array",
             "meta": {},
             "name": "array",
             "series": true,
             "type": "int",
             "type_check": true
            },
            {
             "dataType": "integer",
             "default": 0,
             "flow": "atomic",
             "help": null,
             "isdict": false,
             "islist": false,
             "label": "k",
             "meta": {},
             "name": "k",
             "series": false,
             "type": "int",
             "type_check": true
            }
           ],
           "outputs": [
            {
             "flow": "atomic",
             "help": null,
             "label": "out_array",
             "meta": {},
             "name": "out_array",
             "series": false,
             "type": "ndarray",
             "type_check": true
            }
           ],
           "overwritten": false,
           "published": false,
           "var_names": [
            "ArrayDeOp"
           ]
          },
          {
           "class_name": "ArrayAdd",
           "fullname": ".ArrayAdd",
           "id": "ff4f86ec-78d5-44d5-8a22-674fb3fa4626",
           "inputs": [
            {
             "dataType": "integer",
             "default": 0,
             "flow": "series",
             "help": null,
             "isdict": false,
             "islist": false,
             "label": "s_array",
             "meta": {},
             "name": "s_array",
             "series": true,
             "type": "int",
             "type_check": true
            },
            {
             "dataType": "integer",
             "default": 0,
             "flow": "series",
             "help": null,
             "isdict": false,
             "islist": false,
             "label": "l_array",
             "meta": {},
             "name": "l_array",
             "series": true,
             "type": "int",
             "type_check": true
            }
           ],
           "outputs": [
            {
             "flow": "series",
             "help": null,
             "label": "s_array_out",
             "meta": {},
             "name": "s_array_out",
             "series": true,
             "type": "int",
             "type_check": true
            },
            {
             "flow": "series",
             "help": null,
             "label": "l_array_out",
             "meta": {},
             "name": "l_array_out",
             "series": true,
             "type": "int",
             "type_check": true
            }
           ],
           "overwritten": false,
           "published": false,
           "var_names": [
            "ArrayAdd"
           ]
          },
          {
           "class_name": "ArrayMul",
           "fullname": ".ArrayMul",
           "id": "0e2a5387-a780-4f83-a41d-a37340c111f1",
           "inputs": [
            {
             "dataType": "integer",
             "default": 0,
             "flow": "series",
             "help": null,
             "isdict": false,
             "islist": false,
             "label": "array",
             "meta": {},
             "name": "array",
             "series": true,
             "type": "int",
             "type_check": true
            }
           ],
           "outputs": [
            {
             "flow": "series",
             "help": null,
             "label": "array_out",
             "meta": {},
             "name": "array_out",
             "series": true,
             "type": "int",
             "type_check": true
            }
           ],
           "overwritten": false,
           "published": false,
           "var_names": [
            "ArrayMul"
           ]
          },
          {
           "class_name": "STDOut",
           "fullname": ".STDOut",
           "id": "aa225d7d-b245-48ab-b44c-18fa264c1d59",
           "inputs": [
            {
             "dataType": null,
             "default": null,
             "flow": "atomic",
             "help": null,
             "isdict": false,
             "islist": false,
             "label": "in_array",
             "meta": {},
             "name": "in_array",
             "series": false,
             "type": "ndarray",
             "type_check": true
            },
            {
             "dataType": "string",
             "default": "",
             "flow": "atomic",
             "help": null,
             "isdict": false,
             "islist": false,
             "label": "out_file",
             "meta": {},
             "name": "out_file",
             "series": false,
             "type": "str",
             "type_check": true
            }
           ],
           "outputs": [],
           "overwritten": false,
           "published": false,
           "var_names": [
            "STDOut"
           ]
          },
          {
           "class_name": "STDIn",
           "fullname": ".STDIn",
           "id": "4b0a460a-ed28-4f9e-bc57-9f3a50b1a042",
           "inputs": [
            {
             "dataType": "string",
             "default": "",
             "flow": "atomic",
             "help": null,
             "isdict": false,
             "islist": false,
             "label": "s_file",
             "meta": {},
             "name": "s_file",
             "series": false,
             "type": "str",
             "type_check": true
            },
            {
             "dataType": "string",
             "default": "",
             "flow": "atomic",
             "help": null,
             "isdict": false,
             "islist": false,
             "label": "l_file",
             "meta": {},
             "name": "l_file",
             "series": false,
             "type": "str",
             "type_check": true
            }
           ],
           "outputs": [
            {
             "flow": "series",
             "help": null,
             "label": "s_val",
             "meta": {},
             "name": "s_val",
             "series": true,
             "type": "int",
             "type_check": true
            },
            {
             "flow": "series",
             "help": null,
             "label": "l_val",
             "meta": {},
             "name": "l_val",
             "series": true,
             "type": "int",
             "type_check": true
            }
           ],
           "overwritten": false,
           "published": false,
           "var_names": [
            "STDIn"
           ]
          },
          {
           "class_name": "CreateData",
           "fullname": ".CreateData",
           "id": "981975c6-6227-48a1-966f-f2ef84a6ae23",
           "inputs": [
            {
             "dataType": "string",
             "default": "",
             "flow": "atomic",
             "help": null,
             "isdict": false,
             "islist": false,
             "label": "filename",
             "meta": {},
             "name": "filename",
             "series": false,
             "type": "str",
             "type_check": true
            },
            {
             "dataType": "integer",
             "default": 0,
             "flow": "atomic",
             "help": null,
             "isdict": false,
             "islist": false,
             "label": "size",
             "meta": {},
             "name": "size",
             "series": false,
             "type": "int",
             "type_check": true
            }
           ],
           "outputs": [
            {
             "flow": "atomic",
             "help": null,
             "label": "out_filename",
             "meta": {},
             "name": "out_filename",
             "series": false,
             "type": "str",
             "type_check": true
            }
           ],
           "overwritten": false,
           "published": false,
           "var_names": [
            "CreateData"
           ]
          }
         ],
         "connections": [
          {
           "id": "e7c5fb85-7703-4de6-859c-2dbe74ebcf00",
           "source": {
            "adapter": false,
            "instance_id": "76796d58-7f3e-4a2a-90c3-873f23e53100",
            "name": "out_array"
           },
           "target": {
            "adapter": false,
            "instance_id": "08a7867d-21a2-4b0e-956c-ab46d8a9ed79",
            "name": "in_array"
           }
          },
          {
           "id": "cfbc20f0-3268-41dd-9b90-59061dd352ef",
           "source": {
            "adapter": false,
            "instance_id": "e611eb53-e696-466e-a8df-967a66a59142",
            "name": "array_out"
           },
           "target": {
            "adapter": false,
            "instance_id": "716b7cb0-93df-4ead-8137-7602e9577f65",
            "name": "s_array"
           }
          },
          {
           "id": "ae28d1bd-89e4-427d-886c-f25ddc456277",
           "source": {
            "adapter": false,
            "instance_id": "9980a287-f801-4dc1-b902-c4d5af947f0d",
            "name": "out_filename"
           },
           "target": {
            "adapter": false,
            "instance_id": "5d5a02b0-31ad-4e79-ba36-753c51bc73ef",
            "name": "s_file"
           }
          },
          {
           "id": "bba73c28-df42-4949-bb78-69288aba77e4",
           "source": {
            "adapter": false,
            "instance_id": "716b7cb0-93df-4ead-8137-7602e9577f65",
            "name": "s_array_out"
           },
           "target": {
            "adapter": false,
            "instance_id": "489583d6-2a01-4eca-a541-dfded5921b54",
            "name": "array"
           }
          },
          {
           "id": "c2d4a6d6-7620-4fdc-ac48-cff4ba58c443",
           "source": {
            "adapter": false,
            "instance_id": "5d5a02b0-31ad-4e79-ba36-753c51bc73ef",
            "name": "s_val"
           },
           "target": {
            "adapter": false,
            "instance_id": "e611eb53-e696-466e-a8df-967a66a59142",
            "name": "array"
           }
          },
          {
           "id": "9b19e295-48bc-446b-8854-94048184090c",
           "source": {
            "adapter": false,
            "instance_id": "716b7cb0-93df-4ead-8137-7602e9577f65",
            "name": "l_array_out"
           },
           "target": {
            "adapter": false,
            "instance_id": "76796d58-7f3e-4a2a-90c3-873f23e53100",
            "name": "array"
           }
          },
          {
           "id": "9f895714-d7cf-4eb7-8a5b-c222efd719ad",
           "source": {
            "adapter": false,
            "instance_id": "5d5a02b0-31ad-4e79-ba36-753c51bc73ef",
            "name": "l_val"
           },
           "target": {
            "adapter": false,
            "instance_id": "48e547ba-703e-43be-a24d-d59b9a1ff13a",
            "name": "array"
           }
          },
          {
           "id": "69744f45-8e60-4504-8a74-7dd33e8ac04d",
           "source": {
            "adapter": false,
            "instance_id": "34ddc5f2-4d28-4ced-8493-a4c893055e08",
            "name": "out_filename"
           },
           "target": {
            "adapter": false,
            "instance_id": "5d5a02b0-31ad-4e79-ba36-753c51bc73ef",
            "name": "l_file"
           }
          },
          {
           "id": "8bd2cd2d-c331-4875-bcee-8fc9e947a00d",
           "source": {
            "adapter": false,
            "instance_id": "48e547ba-703e-43be-a24d-d59b9a1ff13a",
            "name": "array_out"
           },
           "target": {
            "adapter": false,
            "instance_id": "716b7cb0-93df-4ead-8137-7602e9577f65",
            "name": "l_array"
           }
          },
          {
           "id": "6cecc1b5-8317-411b-8340-19229c50ba0b",
           "source": {
            "adapter": false,
            "instance_id": "489583d6-2a01-4eca-a541-dfded5921b54",
            "name": "out_array"
           },
           "target": {
            "adapter": false,
            "instance_id": "bdeaf0ce-e041-4ef4-b8d2-5acb1188130a",
            "name": "in_array"
           }
          }
         ],
         "end": 1615899682.5873024,
         "id": "98391a0b-e1c9-4223-abdb-721e9ee800c2",
         "instances": [
          {
           "block_class": "aa225d7d-b245-48ab-b44c-18fa264c1d59",
           "id": "bdeaf0ce-e041-4ef4-b8d2-5acb1188130a",
           "name": "STDOut_1",
           "var_names": [
            "s_stdout"
           ]
          },
          {
           "block_class": "c7fe85c0-de51-4681-b197-5a9abb7c29bf",
           "id": "489583d6-2a01-4eca-a541-dfded5921b54",
           "name": "ArrayDeOp_1",
           "var_names": [
            "s_arr_deop"
           ]
          },
          {
           "block_class": "ff4f86ec-78d5-44d5-8a22-674fb3fa4626",
           "id": "716b7cb0-93df-4ead-8137-7602e9577f65",
           "name": "ArrayAdd_1",
           "var_names": [
            "arr_add"
           ]
          },
          {
           "block_class": "0e2a5387-a780-4f83-a41d-a37340c111f1",
           "id": "e611eb53-e696-466e-a8df-967a66a59142",
           "name": "ArrayMul_1",
           "var_names": [
            "s_arr_mul"
           ]
          },
          {
           "block_class": "4b0a460a-ed28-4f9e-bc57-9f3a50b1a042",
           "id": "5d5a02b0-31ad-4e79-ba36-753c51bc73ef",
           "name": "STDIn_1",
           "var_names": [
            "std_in"
           ]
          },
          {
           "block_class": "981975c6-6227-48a1-966f-f2ef84a6ae23",
           "id": "9980a287-f801-4dc1-b902-c4d5af947f0d",
           "name": "CreateData_1",
           "var_names": [
            "s_create_data"
           ]
          },
          {
           "block_class": "981975c6-6227-48a1-966f-f2ef84a6ae23",
           "id": "34ddc5f2-4d28-4ced-8493-a4c893055e08",
           "name": "CreateData_2",
           "var_names": [
            "l_create_data"
           ]
          },
          {
           "block_class": "0e2a5387-a780-4f83-a41d-a37340c111f1",
           "id": "48e547ba-703e-43be-a24d-d59b9a1ff13a",
           "name": "ArrayMul_2",
           "var_names": [
            "l_arr_mul"
           ]
          },
          {
           "block_class": "aa225d7d-b245-48ab-b44c-18fa264c1d59",
           "id": "08a7867d-21a2-4b0e-956c-ab46d8a9ed79",
           "name": "STDOut_2",
           "var_names": [
            "l_stdout"
           ]
          },
          {
           "block_class": "c7fe85c0-de51-4681-b197-5a9abb7c29bf",
           "id": "76796d58-7f3e-4a2a-90c3-873f23e53100",
           "name": "ArrayDeOp_2",
           "var_names": [
            "l_arr_deop"
           ]
          }
         ],
         "log_level": 20,
         "name": "mix_series_atomic",
         "start": 1615899679.0207071,
         "status": "SUCCESS",
         "system_logs": true,
         "var_names": []
        },
        "metrics": {},
        "runtime": {
         "ArrayAdd_1": {
          "end": 1615899681.2847974,
          "load": 1615899679.605596,
          "start": 1615899680.0494702
         },
         "ArrayDeOp_1": {
          "end": 1615899681.3491104,
          "load": 1615899679.5577726,
          "start": 1615899680.035174
         },
         "ArrayDeOp_2": {
          "end": 1615899681.3538167,
          "load": 1615899679.5873463,
          "start": 1615899680.0424159
         },
         "ArrayMul_1": {
          "end": 1615899681.2692888,
          "load": 1615899679.6566155,
          "start": 1615899680.0739887
         },
         "ArrayMul_2": {
          "end": 1615899681.2734282,
          "load": 1615899679.6711025,
          "start": 1615899680.05547
         },
         "CreateData_1": {
          "end": 1615899680.9885786,
          "load": 1615899679.6981676,
          "start": 1615899680.0779111
         },
         "CreateData_2": {
          "end": 1615899680.9360933,
          "load": 1615899679.7619684,
          "start": 1615899680.081124
         },
         "STDIn_1": {
          "end": 1615899681.2647853,
          "load": 1615899679.6824296,
          "start": 1615899680.069664
         },
         "STDOut_1": {
          "end": 1615899682.069872,
          "load": 1615899679.5442402,
          "start": 1615899680.03822
         },
         "STDOut_2": {
          "end": 1615899682.3927794,
          "load": 1615899679.5730352,
          "start": 1615899680.0518265
         }
        }
       },
       "store_in_notebook": true
      }
     },
     "output_type": "display_data"
    },
    {
     "data": {
      "text/plain": [
       "<Process(Pipeline Manager('mix_series_atomic'), stopped)>"
      ]
     },
     "execution_count": 6,
     "metadata": {},
     "output_type": "execute_result"
    }
   ],
   "source": [
    "pipeline.execute()"
   ]
  },
  {
   "cell_type": "code",
   "execution_count": null,
   "metadata": {},
   "outputs": [],
   "source": []
  },
  {
   "cell_type": "code",
   "execution_count": null,
   "metadata": {},
   "outputs": [],
   "source": []
  }
 ],
 "metadata": {
  "kernelspec": {
   "display_name": "Python 3",
   "language": "python",
   "name": "python3"
  },
  "language_info": {
   "codemirror_mode": {
    "name": "ipython",
    "version": 3
   },
   "file_extension": ".py",
   "mimetype": "text/x-python",
   "name": "python",
   "nbconvert_exporter": "python",
   "pygments_lexer": "ipython3",
   "version": "3.7.10"
  }
 },
 "nbformat": 4,
 "nbformat_minor": 4
}
