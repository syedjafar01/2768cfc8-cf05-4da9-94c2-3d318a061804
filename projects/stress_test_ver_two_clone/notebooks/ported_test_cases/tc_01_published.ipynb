{
 "cells": [
  {
   "cell_type": "code",
   "execution_count": 1,
   "metadata": {},
   "outputs": [
    {
     "name": "stderr",
     "output_type": "stream",
     "text": [
      "/usr/local/lib/python3.7/dist-packages/snowflake/connector/options.py:78: UserWarning: You have an incompatible version of 'pyarrow' installed (3.0.0), please install a version that adheres to: 'pyarrow<0.18.0,>=0.17.0; extra == \"pandas\"'\n",
      "  warn_incompatible_dep('pyarrow', _installed_pyarrow_version.version, _expected_pyarrow_version)\n"
     ]
    }
   ],
   "source": [
    "import razor.flow as rf\n",
    "from razor import api\n",
    "\n",
    "import logging\n",
    "import time\n",
    "import typing as typ\n",
    "import pandas as pd\n",
    "import os\n",
    "\n",
    "from razor.api.core import BlockScope\n",
    "from razor.api import blocks\n",
    "\n",
    "from razor.project.blocks.socket1 import STDIn\n",
    "from razor.project.blocks.socket1 import STDOut\n"
   ]
  },
  {
   "cell_type": "code",
   "execution_count": 2,
   "metadata": {},
   "outputs": [],
   "source": [
    "def project_space_path(path):\n",
    "    ps = api.datasources('Project Space')\n",
    "    return os.path.join(ps.abspath(), path)\n",
    "\n"
   ]
  },
  {
   "cell_type": "code",
   "execution_count": 3,
   "metadata": {},
   "outputs": [],
   "source": [
    "# lib1 = razor.api.libraries('pyarrow')"
   ]
  },
  {
   "cell_type": "code",
   "execution_count": 4,
   "metadata": {},
   "outputs": [],
   "source": [
    "# razor.api.libraries('pyarrow')"
   ]
  },
  {
   "cell_type": "code",
   "execution_count": 5,
   "metadata": {},
   "outputs": [
    {
     "data": {
      "application/vnd.razorthink.interactive+pipeline+view+json": {
       "blocks": [
        {
         "class_name": "STDIn",
         "fullname": "razor.project.blocks.socket1.STDIn",
         "id": "aac59c10-ff4a-460b-8791-ffb292d69d1f",
         "inputs": [
          {
           "dataType": "string",
           "default": "",
           "flow": "atomic",
           "help": null,
           "isdict": false,
           "islist": false,
           "label": "filename",
           "meta": {},
           "name": "filename",
           "series": false,
           "type": "str",
           "type_check": true
          }
         ],
         "outputs": [
          {
           "flow": "atomic",
           "help": null,
           "label": "out_ds",
           "meta": {},
           "name": "out_ds",
           "series": false,
           "type": "Any",
           "type_check": true
          }
         ],
         "overwritten": false,
         "published": true,
         "var_names": [
          "STDIn"
         ]
        },
        {
         "class_name": "STDOut",
         "fullname": "razor.project.blocks.socket1.STDOut",
         "id": "7807ca7f-e62c-4cbe-885f-8031363c9ae2",
         "inputs": [
          {
           "dataType": null,
           "default": null,
           "flow": "atomic",
           "help": null,
           "isdict": false,
           "islist": false,
           "label": "in_ds",
           "meta": {},
           "name": "in_ds",
           "series": false,
           "type": "Any",
           "type_check": true
          },
          {
           "dataType": "string",
           "default": "",
           "flow": "atomic",
           "help": null,
           "isdict": false,
           "islist": false,
           "label": "out_filename",
           "meta": {},
           "name": "out_filename",
           "series": false,
           "type": "str",
           "type_check": true
          }
         ],
         "outputs": [],
         "overwritten": false,
         "published": true,
         "var_names": [
          "STDOut"
         ]
        }
       ],
       "connections": [
        {
         "id": "2debf267-7d03-40c5-a80b-46e948027f0e",
         "source": {
          "adapter": false,
          "instance_id": "fcda355e-a3ed-457f-8cba-da7f58282bd7",
          "name": "out_ds"
         },
         "target": {
          "adapter": false,
          "instance_id": "b848b762-b917-4da2-96af-b5dd54512d45",
          "name": "in_ds"
         }
        }
       ],
       "id": "73104beb-69eb-44a6-89ae-6e1bbf827fef",
       "instances": [
        {
         "block_class": "7807ca7f-e62c-4cbe-885f-8031363c9ae2",
         "id": "b848b762-b917-4da2-96af-b5dd54512d45",
         "name": "STDOut_1",
         "var_names": [
          "std_out"
         ]
        },
        {
         "block_class": "aac59c10-ff4a-460b-8791-ffb292d69d1f",
         "id": "fcda355e-a3ed-457f-8cba-da7f58282bd7",
         "name": "STDIn_1",
         "var_names": [
          "std_in"
         ]
        }
       ],
       "name": "test_pipeline",
       "var_names": []
      },
      "image/svg+xml": [
       "<?xml version=\"1.0\" encoding=\"UTF-8\" standalone=\"no\"?>\n",
       "<!DOCTYPE svg PUBLIC \"-//W3C//DTD SVG 1.1//EN\"\n",
       " \"http://www.w3.org/Graphics/SVG/1.1/DTD/svg11.dtd\">\n",
       "<!-- Generated by graphviz version 2.43.0 (0)\n",
       " -->\n",
       "<!-- Title: %3 Pages: 1 -->\n",
       "<svg width=\"146pt\" height=\"127pt\"\n",
       " viewBox=\"0.00 0.00 145.70 127.00\" xmlns=\"http://www.w3.org/2000/svg\" xmlns:xlink=\"http://www.w3.org/1999/xlink\">\n",
       "<g id=\"graph0\" class=\"graph\" transform=\"scale(1 1) rotate(0) translate(4 123)\">\n",
       "<title>%3</title>\n",
       "<polygon fill=\"white\" stroke=\"transparent\" points=\"-4,4 -4,-123 141.7,-123 141.7,4 -4,4\"/>\n",
       "<!-- STDOut(&#39;STDOut_1&#39;) -->\n",
       "<g id=\"node1\" class=\"node\">\n",
       "<title>STDOut(&#39;STDOut_1&#39;)</title>\n",
       "<ellipse fill=\"none\" stroke=\"black\" cx=\"67.7\" cy=\"-18\" rx=\"67.89\" ry=\"18\"/>\n",
       "<text text-anchor=\"middle\" x=\"67.7\" y=\"-15.5\" font-family=\"Helvetica,sans-Serif\" font-size=\"10.00\">STDOut(&#39;STDOut_1&#39;)</text>\n",
       "</g>\n",
       "<!-- STDIn(&#39;STDIn_1&#39;) -->\n",
       "<g id=\"node2\" class=\"node\">\n",
       "<title>STDIn(&#39;STDIn_1&#39;)</title>\n",
       "<ellipse fill=\"none\" stroke=\"black\" cx=\"67.7\" cy=\"-101\" rx=\"57.88\" ry=\"18\"/>\n",
       "<text text-anchor=\"middle\" x=\"67.7\" y=\"-98.5\" font-family=\"Helvetica,sans-Serif\" font-size=\"10.00\">STDIn(&#39;STDIn_1&#39;)</text>\n",
       "</g>\n",
       "<!-- STDIn(&#39;STDIn_1&#39;)&#45;&gt;STDOut(&#39;STDOut_1&#39;) -->\n",
       "<g id=\"edge1\" class=\"edge\">\n",
       "<title>STDIn(&#39;STDIn_1&#39;)&#45;&gt;STDOut(&#39;STDOut_1&#39;)</title>\n",
       "<path fill=\"none\" stroke=\"black\" d=\"M67.7,-82.82C67.7,-72.19 67.7,-58.31 67.7,-46.2\"/>\n",
       "<polygon fill=\"black\" stroke=\"black\" points=\"71.2,-46.15 67.7,-36.15 64.2,-46.15 71.2,-46.15\"/>\n",
       "<text text-anchor=\"middle\" x=\"102.7\" y=\"-57\" font-family=\"Helvetica,sans-Serif\" font-size=\"10.00\">out_ds&#45;&gt;in_ds</text>\n",
       "</g>\n",
       "</g>\n",
       "</svg>\n"
      ],
      "text/plain": [
       "<razor.flow.pipeline.Pipeline at 0x7fae5fbcf150>"
      ]
     },
     "execution_count": 5,
     "metadata": {},
     "output_type": "execute_result"
    }
   ],
   "source": [
    "config = {'cores': 1, 'ram': 4096}\n",
    "\n",
    "\n",
    "size = '10MB'\n",
    "ip_filename = project_space_path(\"sdk_testbench/input_data/dummy_\"+size+\"_df.parquet\")\n",
    "op_filename = project_space_path(\"sdk_testbench/output_data/tc_01.parquet\")\n",
    "\n",
    "std_in = STDIn(filename=ip_filename)\n",
    "# std_in.executor = rf.ContainerExecutor(cores=config['cores'], memory=config['ram'])\n",
    "# std_in.out_ds = rf.Output.set(transport=rf.KafkaTransport)\n",
    "\n",
    "std_out = STDOut(in_ds=std_in.out_ds, out_filename=op_filename)\n",
    "# std_out.executor = rf.ContainerExecutor(cores=config['cores'], memory=config['ram'])\n",
    "\n",
    "pipeline = rf.Pipeline(name='test_pipeline', targets=[std_out])\n",
    "pipeline"
   ]
  },
  {
   "cell_type": "code",
   "execution_count": 6,
   "metadata": {},
   "outputs": [
    {
     "data": {
      "application/vnd.razorthink.run+monitor+json": "/tmp/tmp559e86nw/test_pipeline",
      "text/plain": [
       "<razor_tools.backend.ipython.mime.run_monitor.RunMonitor at 0x7fae07c87d90>"
      ]
     },
     "metadata": {
      "application/vnd.razorthink.run+monitor+json": {
       "run_data": {
        "apm": [
         {
          "cpu_percent": 0,
          "cpu_time": 0,
          "name": "STDOut_1",
          "real_mem": 149041152,
          "time": 1614943819.1561618
         },
         {
          "cpu_percent": 0,
          "cpu_time": 0,
          "name": "STDIn_1",
          "real_mem": 149102592,
          "time": 1614943819.1672752
         },
         {
          "cpu_percent": 0,
          "cpu_time": 0,
          "name": "STDOut_1",
          "real_mem": 149041152,
          "time": 1614943819.278888
         },
         {
          "cpu_percent": 0,
          "cpu_time": 0,
          "name": "STDIn_1",
          "real_mem": 149102592,
          "time": 1614943819.2900846
         },
         {
          "cpu_percent": 0,
          "cpu_time": 0,
          "name": "STDOut_1",
          "real_mem": 151257088,
          "time": 1614943819.4015276
         },
         {
          "cpu_percent": 0,
          "cpu_time": 0.02,
          "name": "STDIn_1",
          "real_mem": 151838720,
          "time": 1614943819.4125662
         },
         {
          "cpu_percent": 0,
          "cpu_time": 0,
          "name": "STDOut_1",
          "real_mem": 151257088,
          "time": 1614943819.5240903
         },
         {
          "cpu_percent": 98.8,
          "cpu_time": 0.11,
          "name": "STDIn_1",
          "real_mem": 212402176,
          "time": 1614943819.5350065
         },
         {
          "cpu_percent": 0,
          "cpu_time": 0.05,
          "name": "STDOut_1",
          "real_mem": 166846464,
          "time": 1614943819.6465518
         },
         {
          "cpu_percent": 0,
          "cpu_time": 0.14,
          "name": "STDIn_1",
          "real_mem": 216633344,
          "time": 1614943819.6575613
         },
         {
          "cpu_percent": 0,
          "cpu_time": 0.08,
          "name": "STDOut_1",
          "real_mem": 179843072,
          "time": 1614943819.7690735
         },
         {
          "cpu_percent": 0,
          "cpu_time": 0.08,
          "name": "STDOut_1",
          "real_mem": 179843072,
          "time": 1614943819.880865
         },
         {
          "cpu_percent": 0,
          "cpu_time": 0.12,
          "name": "STDOut_1",
          "real_mem": 186925056,
          "time": 1614943819.9924939
         },
         {
          "cpu_percent": 0,
          "cpu_time": 0.12,
          "name": "STDOut_1",
          "real_mem": 186925056,
          "time": 1614943820.1040993
         },
         {
          "cpu_percent": 0,
          "cpu_time": 0.12,
          "name": "STDOut_1",
          "real_mem": 186925056,
          "time": 1614943820.2156074
         },
         {
          "cpu_percent": 0,
          "cpu_time": 0.12,
          "name": "STDOut_1",
          "real_mem": 186925056,
          "time": 1614943820.3272302
         },
         {
          "cpu_percent": 0,
          "cpu_time": 0.12,
          "name": "STDOut_1",
          "real_mem": 186925056,
          "time": 1614943820.4393806
         }
        ],
        "logs": [
         {
          "asctime": "2021-03-05 11:30:18,362",
          "exc_info": null,
          "extra": {},
          "filename": "pipeline.py",
          "funcName": "_log_manager",
          "levelname": "INFO",
          "lineno": 413,
          "message": "writing logs to: /tmp/tmp559e86nw/test_pipeline",
          "name": "razor.flow.pipeline:test_pipeline",
          "pathname": "/usr/local/lib/python3.7/dist-packages/razor/flow/pipeline.py",
          "process": 1906,
          "processName": "MainProcess",
          "thread": 140387492837184,
          "threadName": "MainThread"
         },
         {
          "asctime": "2021-03-05 11:30:19,525",
          "exc_info": null,
          "extra": {},
          "filename": null,
          "funcName": null,
          "levelname": "STDOUT",
          "lineno": null,
          "message": "(100000, 14)\n",
          "name": "block.stdout:STDIn_1",
          "pathname": null,
          "process": null,
          "processName": null,
          "thread": null,
          "threadName": null
         },
         {
          "asctime": "2021-03-05 11:30:19,594",
          "exc_info": null,
          "extra": {},
          "filename": null,
          "funcName": null,
          "levelname": "STDOUT",
          "lineno": null,
          "message": "(100000, 14)\n",
          "name": "block.stdout:STDOut_1",
          "pathname": null,
          "process": null,
          "processName": null,
          "thread": null,
          "threadName": null
         }
        ],
        "meta": {
         "block_status": {
          "STDIn_1": "SUCCESS",
          "STDOut_1": "SUCCESS"
         },
         "blocks": [
          {
           "class_name": "STDIn",
           "fullname": "razor.project.blocks.socket1.STDIn",
           "id": "aac59c10-ff4a-460b-8791-ffb292d69d1f",
           "inputs": [
            {
             "dataType": "string",
             "default": "",
             "flow": "atomic",
             "help": null,
             "isdict": false,
             "islist": false,
             "label": "filename",
             "meta": {},
             "name": "filename",
             "series": false,
             "type": "str",
             "type_check": true
            }
           ],
           "outputs": [
            {
             "flow": "atomic",
             "help": null,
             "label": "out_ds",
             "meta": {},
             "name": "out_ds",
             "series": false,
             "type": "Any",
             "type_check": true
            }
           ],
           "overwritten": false,
           "published": true,
           "var_names": [
            "STDIn"
           ]
          },
          {
           "class_name": "STDOut",
           "fullname": "razor.project.blocks.socket1.STDOut",
           "id": "7807ca7f-e62c-4cbe-885f-8031363c9ae2",
           "inputs": [
            {
             "dataType": null,
             "default": null,
             "flow": "atomic",
             "help": null,
             "isdict": false,
             "islist": false,
             "label": "in_ds",
             "meta": {},
             "name": "in_ds",
             "series": false,
             "type": "Any",
             "type_check": true
            },
            {
             "dataType": "string",
             "default": "",
             "flow": "atomic",
             "help": null,
             "isdict": false,
             "islist": false,
             "label": "out_filename",
             "meta": {},
             "name": "out_filename",
             "series": false,
             "type": "str",
             "type_check": true
            }
           ],
           "outputs": [],
           "overwritten": false,
           "published": true,
           "var_names": [
            "STDOut"
           ]
          }
         ],
         "connections": [
          {
           "id": "2debf267-7d03-40c5-a80b-46e948027f0e",
           "source": {
            "adapter": false,
            "instance_id": "fcda355e-a3ed-457f-8cba-da7f58282bd7",
            "name": "out_ds"
           },
           "target": {
            "adapter": false,
            "instance_id": "b848b762-b917-4da2-96af-b5dd54512d45",
            "name": "in_ds"
           }
          }
         ],
         "end": 1614943820.524921,
         "id": "73104beb-69eb-44a6-89ae-6e1bbf827fef",
         "instances": [
          {
           "block_class": "7807ca7f-e62c-4cbe-885f-8031363c9ae2",
           "id": "b848b762-b917-4da2-96af-b5dd54512d45",
           "name": "STDOut_1",
           "var_names": [
            "std_out"
           ]
          },
          {
           "block_class": "aac59c10-ff4a-460b-8791-ffb292d69d1f",
           "id": "fcda355e-a3ed-457f-8cba-da7f58282bd7",
           "name": "STDIn_1",
           "var_names": [
            "std_in"
           ]
          }
         ],
         "log_level": 20,
         "name": "test_pipeline",
         "start": 1614943818.6172044,
         "status": "SUCCESS",
         "system_logs": true,
         "var_names": []
        },
        "metrics": {},
        "runtime": {
         "STDIn_1": {
          "end": 1614943819.5570302,
          "load": 1614943819.1390855,
          "start": 1614943819.3593538
         },
         "STDOut_1": {
          "end": 1614943820.3420336,
          "load": 1614943819.131384,
          "start": 1614943819.3577988
         }
        }
       },
       "store_in_notebook": true
      }
     },
     "output_type": "display_data"
    },
    {
     "data": {
      "text/plain": [
       "<Process(Pipeline Manager('test_pipeline'), stopped)>"
      ]
     },
     "execution_count": 6,
     "metadata": {},
     "output_type": "execute_result"
    }
   ],
   "source": [
    "pipeline.execute()"
   ]
  },
  {
   "cell_type": "code",
   "execution_count": null,
   "metadata": {},
   "outputs": [],
   "source": []
  },
  {
   "cell_type": "code",
   "execution_count": 12,
   "metadata": {},
   "outputs": [
    {
     "data": {
      "application/vnd.razorthink.run+monitor+json": "/tmp/tmporj7qboz/test_pipeline",
      "text/plain": [
       "<razor_tools.backend.ipython.mime.run_monitor.RunMonitor at 0x7f9e34715850>"
      ]
     },
     "metadata": {
      "application/vnd.razorthink.run+monitor+json": {
       "store_in_notebook": true
      }
     },
     "output_type": "display_data"
    },
    {
     "data": {
      "text/plain": [
       "<Process(Pipeline Manager('test_pipeline'), stopped)>"
      ]
     },
     "execution_count": 12,
     "metadata": {},
     "output_type": "execute_result"
    }
   ],
   "source": [
    "pipeline.execute()"
   ]
  },
  {
   "cell_type": "code",
   "execution_count": 7,
   "metadata": {},
   "outputs": [
    {
     "ename": "RuntimeError",
     "evalue": "('Failed to save pipeline! \\n', 'Oops! Something went wrong. Please try again or contact support if the problem persists.')",
     "output_type": "error",
     "traceback": [
      "\u001b[0;31m---------------------------------------------------------------------------\u001b[0m",
      "\u001b[0;31mAPIError\u001b[0m                                  Traceback (most recent call last)",
      "\u001b[0;32m/usr/local/lib/python3.7/dist-packages/razor/api/impl/pipeline_manager_impl.py\u001b[0m in \u001b[0;36msave_pipeline\u001b[0;34m(pipeline, pipeline_vars, resources, overwrite)\u001b[0m\n\u001b[1;32m    171\u001b[0m                                                                \u001b[0mproject_id\u001b[0m\u001b[0;34m=\u001b[0m\u001b[0mUserContext\u001b[0m\u001b[0;34m.\u001b[0m\u001b[0mproject_id\u001b[0m\u001b[0;34m,\u001b[0m\u001b[0;34m\u001b[0m\u001b[0;34m\u001b[0m\u001b[0m\n\u001b[0;32m--> 172\u001b[0;31m                                                                pipeline_name=pipeline.name)[\"data\"]\n\u001b[0m\u001b[1;32m    173\u001b[0m             \u001b[0mlogger\u001b[0m\u001b[0;34m.\u001b[0m\u001b[0mdebug\u001b[0m\u001b[0;34m(\u001b[0m\u001b[0mstr\u001b[0m\u001b[0;34m.\u001b[0m\u001b[0mformat\u001b[0m\u001b[0;34m(\u001b[0m\u001b[0mLogMessages\u001b[0m\u001b[0;34m.\u001b[0m\u001b[0mSAVE_PIPELINE_RESPONSE\u001b[0m\u001b[0;34m,\u001b[0m \u001b[0mstr\u001b[0m\u001b[0;34m(\u001b[0m\u001b[0mjson\u001b[0m\u001b[0;34m.\u001b[0m\u001b[0mdumps\u001b[0m\u001b[0;34m(\u001b[0m\u001b[0msave_res\u001b[0m\u001b[0;34m,\u001b[0m \u001b[0mindent\u001b[0m\u001b[0;34m=\u001b[0m\u001b[0;36m4\u001b[0m\u001b[0;34m)\u001b[0m\u001b[0;34m)\u001b[0m\u001b[0;34m)\u001b[0m\u001b[0;34m)\u001b[0m\u001b[0;34m\u001b[0m\u001b[0;34m\u001b[0m\u001b[0m\n",
      "\u001b[0;32m/usr/local/lib/python3.7/dist-packages/razor/api/rest_api/rest_api_impl.py\u001b[0m in \u001b[0;36mupdate_pipeline\u001b[0;34m(pipeline_json, project_id, pipeline_name)\u001b[0m\n\u001b[1;32m    361\u001b[0m                           \u001b[0mdata\u001b[0m\u001b[0;34m=\u001b[0m\u001b[0mpipeline_json\u001b[0m\u001b[0;34m,\u001b[0m\u001b[0;34m\u001b[0m\u001b[0;34m\u001b[0m\u001b[0m\n\u001b[0;32m--> 362\u001b[0;31m                           user_id=UserContext.consumer_id, query_params=query_params).json()\n\u001b[0m\u001b[1;32m    363\u001b[0m         \u001b[0;32mreturn\u001b[0m \u001b[0mres\u001b[0m\u001b[0;34m\u001b[0m\u001b[0;34m\u001b[0m\u001b[0m\n",
      "\u001b[0;32m/usr/local/lib/python3.7/dist-packages/razor/api/rest_api/request.py\u001b[0m in \u001b[0;36mput\u001b[0;34m(url, data, user_id, query_params)\u001b[0m\n\u001b[1;32m    220\u001b[0m             \u001b[0;31m# Raise bad response\u001b[0m\u001b[0;34m\u001b[0m\u001b[0;34m\u001b[0m\u001b[0;34m\u001b[0m\u001b[0m\n\u001b[0;32m--> 221\u001b[0;31m             \u001b[0;32mraise\u001b[0m \u001b[0mCommsErrorHandler\u001b[0m\u001b[0;34m.\u001b[0m\u001b[0mhandle\u001b[0m\u001b[0;34m(\u001b[0m\u001b[0mAPIError\u001b[0m\u001b[0;34m(\u001b[0m\u001b[0mr\u001b[0m\u001b[0;34m.\u001b[0m\u001b[0mtext\u001b[0m\u001b[0;34m)\u001b[0m\u001b[0;34m)\u001b[0m\u001b[0;34m\u001b[0m\u001b[0;34m\u001b[0m\u001b[0m\n\u001b[0m\u001b[1;32m    222\u001b[0m \u001b[0;34m\u001b[0m\u001b[0m\n",
      "\u001b[0;32m/usr/local/lib/python3.7/dist-packages/razor/api/utils/error_handler.py\u001b[0m in \u001b[0;36mhandle\u001b[0;34m(e)\u001b[0m\n\u001b[1;32m     29\u001b[0m             \u001b[0mres\u001b[0m \u001b[0;34m=\u001b[0m \u001b[0mjson\u001b[0m\u001b[0;34m.\u001b[0m\u001b[0mloads\u001b[0m\u001b[0;34m(\u001b[0m\u001b[0me\u001b[0m\u001b[0;34m)\u001b[0m\u001b[0;34m[\u001b[0m\u001b[0;34m'data'\u001b[0m\u001b[0;34m]\u001b[0m\u001b[0;34m\u001b[0m\u001b[0;34m\u001b[0m\u001b[0m\n\u001b[0;32m---> 30\u001b[0;31m             \u001b[0;32mraise\u001b[0m \u001b[0mAPIError\u001b[0m\u001b[0;34m(\u001b[0m\u001b[0mres\u001b[0m\u001b[0;34m)\u001b[0m \u001b[0;32mfrom\u001b[0m \u001b[0;32mNone\u001b[0m\u001b[0;34m\u001b[0m\u001b[0;34m\u001b[0m\u001b[0m\n\u001b[0m\u001b[1;32m     31\u001b[0m         \u001b[0;32melif\u001b[0m \u001b[0;34m'\"result\"'\u001b[0m \u001b[0;32min\u001b[0m \u001b[0mstr\u001b[0m\u001b[0;34m(\u001b[0m\u001b[0me\u001b[0m\u001b[0;34m)\u001b[0m\u001b[0;34m:\u001b[0m\u001b[0;34m\u001b[0m\u001b[0;34m\u001b[0m\u001b[0m\n",
      "\u001b[0;31mAPIError\u001b[0m: Oops! Something went wrong. Please try again or contact support if the problem persists.",
      "\nDuring handling of the above exception, another exception occurred:\n",
      "\u001b[0;31mRuntimeError\u001b[0m                              Traceback (most recent call last)",
      "\u001b[0;32m<ipython-input-7-a4f916ae843f>\u001b[0m in \u001b[0;36m<module>\u001b[0;34m\u001b[0m\n\u001b[1;32m      1\u001b[0m \u001b[0;32mimport\u001b[0m \u001b[0mrazor\u001b[0m\u001b[0;34m\u001b[0m\u001b[0;34m\u001b[0m\u001b[0m\n\u001b[0;32m----> 2\u001b[0;31m \u001b[0mrazor\u001b[0m\u001b[0;34m.\u001b[0m\u001b[0mapi\u001b[0m\u001b[0;34m.\u001b[0m\u001b[0mpipelines\u001b[0m\u001b[0;34m.\u001b[0m\u001b[0msave\u001b[0m\u001b[0;34m(\u001b[0m\u001b[0mpipeline\u001b[0m\u001b[0;34m)\u001b[0m\u001b[0;34m\u001b[0m\u001b[0;34m\u001b[0m\u001b[0m\n\u001b[0m",
      "\u001b[0;32m/usr/local/lib/python3.7/dist-packages/razor/api/core/pipeline_manager.py\u001b[0m in \u001b[0;36msave\u001b[0;34m(self, pipeline, pipeline_vars, resources, overwrite)\u001b[0m\n\u001b[1;32m     65\u001b[0m                                                  \u001b[0mpipeline_vars\u001b[0m\u001b[0;34m=\u001b[0m\u001b[0mpipeline_vars\u001b[0m\u001b[0;34m,\u001b[0m\u001b[0;34m\u001b[0m\u001b[0;34m\u001b[0m\u001b[0m\n\u001b[1;32m     66\u001b[0m                                                  \u001b[0mresources\u001b[0m\u001b[0;34m=\u001b[0m\u001b[0mresources\u001b[0m\u001b[0;34m,\u001b[0m\u001b[0;34m\u001b[0m\u001b[0;34m\u001b[0m\u001b[0m\n\u001b[0;32m---> 67\u001b[0;31m                                                  overwrite=overwrite)\n\u001b[0m",
      "\u001b[0;32m/usr/local/lib/python3.7/dist-packages/razor/api/impl/pipeline_manager_impl.py\u001b[0m in \u001b[0;36msave_pipeline\u001b[0;34m(pipeline, pipeline_vars, resources, overwrite)\u001b[0m\n\u001b[1;32m    174\u001b[0m \u001b[0;34m\u001b[0m\u001b[0m\n\u001b[1;32m    175\u001b[0m         \u001b[0;32mexcept\u001b[0m \u001b[0mException\u001b[0m \u001b[0;32mas\u001b[0m \u001b[0me\u001b[0m\u001b[0;34m:\u001b[0m\u001b[0;34m\u001b[0m\u001b[0;34m\u001b[0m\u001b[0m\n\u001b[0;32m--> 176\u001b[0;31m             \u001b[0;32mraise\u001b[0m \u001b[0mRuntimeError\u001b[0m\u001b[0;34m(\u001b[0m\u001b[0;34m\"Failed to save pipeline! \\n\"\u001b[0m\u001b[0;34m,\u001b[0m \u001b[0mstr\u001b[0m\u001b[0;34m(\u001b[0m\u001b[0me\u001b[0m\u001b[0;34m)\u001b[0m\u001b[0;34m)\u001b[0m\u001b[0;34m\u001b[0m\u001b[0;34m\u001b[0m\u001b[0m\n\u001b[0m\u001b[1;32m    177\u001b[0m \u001b[0;34m\u001b[0m\u001b[0m\n\u001b[1;32m    178\u001b[0m         \u001b[0;31m# TODO: Fix the response object of validateResponse from backend\u001b[0m\u001b[0;34m\u001b[0m\u001b[0;34m\u001b[0m\u001b[0;34m\u001b[0m\u001b[0m\n",
      "\u001b[0;31mRuntimeError\u001b[0m: ('Failed to save pipeline! \\n', 'Oops! Something went wrong. Please try again or contact support if the problem persists.')"
     ]
    }
   ],
   "source": [
    "import razor\n",
    "razor.api.pipelines.save(pipeline)"
   ]
  },
  {
   "cell_type": "code",
   "execution_count": null,
   "metadata": {},
   "outputs": [],
   "source": []
  },
  {
   "cell_type": "code",
   "execution_count": null,
   "metadata": {},
   "outputs": [],
   "source": []
  }
 ],
 "metadata": {
  "kernelspec": {
   "display_name": "Python 3",
   "language": "python",
   "name": "python3"
  },
  "language_info": {
   "codemirror_mode": {
    "name": "ipython",
    "version": 3
   },
   "file_extension": ".py",
   "mimetype": "text/x-python",
   "name": "python",
   "nbconvert_exporter": "python",
   "pygments_lexer": "ipython3",
   "version": "3.7.10"
  }
 },
 "nbformat": 4,
 "nbformat_minor": 4
}
