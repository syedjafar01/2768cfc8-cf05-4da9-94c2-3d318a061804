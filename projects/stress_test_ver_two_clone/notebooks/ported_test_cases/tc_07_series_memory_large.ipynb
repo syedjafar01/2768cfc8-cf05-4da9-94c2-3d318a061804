{
 "cells": [
  {
   "cell_type": "code",
   "execution_count": 1,
   "metadata": {},
   "outputs": [],
   "source": [
    "import razor.flow as rf\n",
    "from razor import api\n",
    "import logging, os\n",
    "import time\n",
    "import typing as typ\n",
    "import numpy as np\n",
    "import pandas as pd\n",
    "\n",
    "logger = logging.getLogger()"
   ]
  },
  {
   "cell_type": "code",
   "execution_count": 2,
   "metadata": {},
   "outputs": [],
   "source": [
    "def project_space_path(path):\n",
    "    ps = api.datasources('Project Space')\n",
    "    return os.path.join(ps.abspath(), path)\n",
    "\n"
   ]
  },
  {
   "cell_type": "code",
   "execution_count": 3,
   "metadata": {},
   "outputs": [],
   "source": [
    "from razor.project.blocks.series_memory import STDIn_series\n",
    "from razor.project.blocks.series_memory import STDOut_series\n"
   ]
  },
  {
   "cell_type": "code",
   "execution_count": 4,
   "metadata": {},
   "outputs": [],
   "source": [
    "# @rf.block\n",
    "# class STDIn:\n",
    "#     filename: str\n",
    "#     records: int\n",
    "#     out_ds: rf.SeriesOutput[typ.Any] = rf.Output(transport=rf.KafkaTransport)\n",
    "\n",
    "#     def run(self):\n",
    "#         with open(project_space_path(self.filename), 'r') as f:\n",
    "#             text_str = f.read()\n",
    "\n",
    "#         logger.info(len(text_str))\n",
    "#         for _ in range(self.records):\n",
    "#             self.out_ds.put(text_str)\n",
    "\n",
    "\n",
    "# @rf.block\n",
    "# class STDOut:\n",
    "#     in_ds: rf.SeriesInput[typ.Any]\n",
    "#     out_filename: str\n",
    "\n",
    "#     def run(self):\n",
    "#         text_str = [str(i) for i in self.in_ds][0]\n",
    "#         logger.info(len(text_str))\n",
    "#         with open(project_space_path(self.out_filename), 'w') as f:\n",
    "#             f.write(text_str)\n",
    "            "
   ]
  },
  {
   "cell_type": "code",
   "execution_count": 5,
   "metadata": {},
   "outputs": [
    {
     "data": {
      "application/vnd.razorthink.interactive+pipeline+view+json": {
       "blocks": [
        {
         "class_name": "STDIn_series",
         "fullname": "razor.project.blocks.series_memory.STDIn_series",
         "id": "31e96f63-a888-4ad3-89d2-706a4fb0a2af",
         "inputs": [
          {
           "dataType": "string",
           "default": "",
           "flow": "atomic",
           "help": null,
           "isdict": false,
           "islist": false,
           "label": "filename",
           "meta": {},
           "name": "filename",
           "series": false,
           "type": "str",
           "type_check": true
          },
          {
           "dataType": "integer",
           "default": 0,
           "flow": "atomic",
           "help": null,
           "isdict": false,
           "islist": false,
           "label": "records",
           "meta": {},
           "name": "records",
           "series": false,
           "type": "int",
           "type_check": true
          }
         ],
         "outputs": [
          {
           "flow": "series",
           "help": null,
           "label": "out_ds",
           "meta": {},
           "name": "out_ds",
           "series": true,
           "type": "Any",
           "type_check": true
          }
         ],
         "overwritten": false,
         "published": true,
         "var_names": [
          "STDIn_series"
         ]
        },
        {
         "class_name": "STDOut_series",
         "fullname": "razor.project.blocks.series_memory.STDOut_series",
         "id": "ae025d7b-c91b-4cdf-8d55-c2ca59d3cbd1",
         "inputs": [
          {
           "dataType": null,
           "default": null,
           "flow": "series",
           "help": null,
           "isdict": false,
           "islist": false,
           "label": "in_ds",
           "meta": {},
           "name": "in_ds",
           "series": true,
           "type": "Any",
           "type_check": true
          },
          {
           "dataType": "string",
           "default": "",
           "flow": "atomic",
           "help": null,
           "isdict": false,
           "islist": false,
           "label": "out_filename",
           "meta": {},
           "name": "out_filename",
           "series": false,
           "type": "str",
           "type_check": true
          }
         ],
         "outputs": [],
         "overwritten": false,
         "published": true,
         "var_names": [
          "STDOut_series"
         ]
        }
       ],
       "connections": [
        {
         "id": "387b2b41-a2fd-4a39-888a-39d8c2009cd0",
         "source": {
          "adapter": false,
          "instance_id": "36b48a26-45e5-4269-a61e-12b8c2a45e9d",
          "name": "out_ds"
         },
         "target": {
          "adapter": false,
          "instance_id": "6a0f82da-4960-43fc-b39c-783876249830",
          "name": "in_ds"
         }
        }
       ],
       "id": "cfeff802-e5de-42c6-8ccb-f3f0cdc3abd5",
       "instances": [
        {
         "block_class": "ae025d7b-c91b-4cdf-8d55-c2ca59d3cbd1",
         "id": "6a0f82da-4960-43fc-b39c-783876249830",
         "name": "STDOut_series_1",
         "var_names": [
          "std_out"
         ]
        },
        {
         "block_class": "31e96f63-a888-4ad3-89d2-706a4fb0a2af",
         "id": "36b48a26-45e5-4269-a61e-12b8c2a45e9d",
         "name": "STDIn_series_1",
         "var_names": [
          "std_in"
         ]
        }
       ],
       "name": "series_socket_transport",
       "var_names": []
      },
      "image/svg+xml": [
       "<?xml version=\"1.0\" encoding=\"UTF-8\" standalone=\"no\"?>\n",
       "<!DOCTYPE svg PUBLIC \"-//W3C//DTD SVG 1.1//EN\"\n",
       " \"http://www.w3.org/Graphics/SVG/1.1/DTD/svg11.dtd\">\n",
       "<!-- Generated by graphviz version 2.43.0 (0)\n",
       " -->\n",
       "<!-- Title: %3 Pages: 1 -->\n",
       "<svg width=\"225pt\" height=\"127pt\"\n",
       " viewBox=\"0.00 0.00 224.63 127.00\" xmlns=\"http://www.w3.org/2000/svg\" xmlns:xlink=\"http://www.w3.org/1999/xlink\">\n",
       "<g id=\"graph0\" class=\"graph\" transform=\"scale(1 1) rotate(0) translate(4 123)\">\n",
       "<title>%3</title>\n",
       "<polygon fill=\"white\" stroke=\"transparent\" points=\"-4,4 -4,-123 220.63,-123 220.63,4 -4,4\"/>\n",
       "<!-- STDOut_series(&#39;STDOut_series_1&#39;) -->\n",
       "<g id=\"node1\" class=\"node\">\n",
       "<title>STDOut_series(&#39;STDOut_series_1&#39;)</title>\n",
       "<ellipse fill=\"none\" stroke=\"black\" cx=\"108.31\" cy=\"-18\" rx=\"108.13\" ry=\"18\"/>\n",
       "<text text-anchor=\"middle\" x=\"108.31\" y=\"-15.5\" font-family=\"Helvetica,sans-Serif\" font-size=\"10.00\">STDOut_series(&#39;STDOut_series_1&#39;)</text>\n",
       "</g>\n",
       "<!-- STDIn_series(&#39;STDIn_series_1&#39;) -->\n",
       "<g id=\"node2\" class=\"node\">\n",
       "<title>STDIn_series(&#39;STDIn_series_1&#39;)</title>\n",
       "<ellipse fill=\"none\" stroke=\"black\" cx=\"108.31\" cy=\"-101\" rx=\"98.11\" ry=\"18\"/>\n",
       "<text text-anchor=\"middle\" x=\"108.31\" y=\"-98.5\" font-family=\"Helvetica,sans-Serif\" font-size=\"10.00\">STDIn_series(&#39;STDIn_series_1&#39;)</text>\n",
       "</g>\n",
       "<!-- STDIn_series(&#39;STDIn_series_1&#39;)&#45;&gt;STDOut_series(&#39;STDOut_series_1&#39;) -->\n",
       "<g id=\"edge1\" class=\"edge\">\n",
       "<title>STDIn_series(&#39;STDIn_series_1&#39;)&#45;&gt;STDOut_series(&#39;STDOut_series_1&#39;)</title>\n",
       "<path fill=\"none\" stroke=\"black\" d=\"M108.31,-82.82C108.31,-72.19 108.31,-58.31 108.31,-46.2\"/>\n",
       "<polygon fill=\"black\" stroke=\"black\" points=\"111.81,-46.15 108.31,-36.15 104.81,-46.15 111.81,-46.15\"/>\n",
       "<text text-anchor=\"middle\" x=\"143.31\" y=\"-57\" font-family=\"Helvetica,sans-Serif\" font-size=\"10.00\">out_ds&#45;&gt;in_ds</text>\n",
       "</g>\n",
       "</g>\n",
       "</svg>\n"
      ],
      "text/plain": [
       "<razor.flow.async_pipeline.Pipeline at 0x7f8dd7f5d950>"
      ]
     },
     "execution_count": 5,
     "metadata": {},
     "output_type": "execute_result"
    }
   ],
   "source": [
    "config = {'cores': 1, 'ram': 4096}\n",
    "records = 100\n",
    "size = '100MB'\n",
    "ip_filename = project_space_path(\"sdk_testbench/input_data/file\" + size + \".txt\")\n",
    "op_filename = project_space_path(\"sdk_testbench/output_data/tc_06.txt\")\n",
    "\n",
    "std_in = STDIn_series(records=records, filename=ip_filename)\n",
    "# std_in.executor = rf.ContainerExecutor(cores=config['cores'], memory=config['ram'])\n",
    "# std_in.out_ds = rf.Output.set(transport=rf.SocketTransport)\n",
    "\n",
    "std_out = STDOut_series(in_ds=std_in.out_ds, out_filename=op_filename)\n",
    "# std_out.executor = rf.ContainerExecutor(cores=config['cores'], memory=config['ram'])\n",
    "\n",
    "pipeline = rf.Pipeline(name='series_socket_transport', targets=[std_out])\n",
    "pipeline"
   ]
  },
  {
   "cell_type": "code",
   "execution_count": null,
   "metadata": {},
   "outputs": [
    {
     "name": "stdout",
     "output_type": "stream",
     "text": [
      "log path: /tmp/tmpof5ghvrq/series_socket_transport\n"
     ]
    },
    {
     "data": {
      "application/vnd.razorthink.run+monitor+json": "/tmp/tmpof5ghvrq/series_socket_transport",
      "text/plain": [
       "<razor_tools.backend.ipython.mime.run_monitor.RunMonitor at 0x7f8d64c9d310>"
      ]
     },
     "metadata": {
      "application/vnd.razorthink.run+monitor+json": {
       "run_data": {
        "apm": [
         {
          "cpu_percent": 0,
          "cpu_time": 0.01,
          "name": "STDOut_series_1",
          "real_mem": 153382912,
          "time": 1616482542.4654777
         },
         {
          "cpu_percent": 0,
          "cpu_time": 0.01,
          "name": "STDIn_series_1",
          "real_mem": 153436160,
          "time": 1616482542.481957
         },
         {
          "cpu_percent": 0,
          "cpu_time": 0.04,
          "name": "STDOut_series_1",
          "real_mem": 153694208,
          "time": 1616482542.577756
         },
         {
          "cpu_percent": 0,
          "cpu_time": 0.04,
          "name": "STDIn_series_1",
          "real_mem": 153694208,
          "time": 1616482542.5937905
         },
         {
          "cpu_percent": 0,
          "cpu_time": 0.05,
          "name": "STDOut_series_1",
          "real_mem": 153980928,
          "time": 1616482542.689497
         },
         {
          "cpu_percent": 0,
          "cpu_time": 0.05,
          "name": "STDIn_series_1",
          "real_mem": 153989120,
          "time": 1616482542.7054477
         },
         {
          "cpu_percent": 0,
          "cpu_time": 0.05,
          "name": "STDOut_series_1",
          "real_mem": 153989120,
          "time": 1616482542.8015804
         },
         {
          "cpu_percent": 0,
          "cpu_time": 0.07,
          "name": "STDIn_series_1",
          "real_mem": 153989120,
          "time": 1616482542.8175213
         },
         {
          "cpu_percent": 0,
          "cpu_time": 0.07,
          "name": "STDOut_series_1",
          "real_mem": 153989120,
          "time": 1616482542.913369
         },
         {
          "cpu_percent": 0,
          "cpu_time": 0.07,
          "name": "STDIn_series_1",
          "real_mem": 153989120,
          "time": 1616482542.9292839
         },
         {
          "cpu_percent": 0,
          "cpu_time": 0.08,
          "name": "STDOut_series_1",
          "real_mem": 157933568,
          "time": 1616482543.0254898
         },
         {
          "cpu_percent": 0,
          "cpu_time": 0.08,
          "name": "STDIn_series_1",
          "real_mem": 159825920,
          "time": 1616482543.0417006
         },
         {
          "cpu_percent": 64.6,
          "cpu_time": 0.12,
          "name": "STDOut_series_1",
          "real_mem": 170639360,
          "time": 1616482543.158729
         },
         {
          "cpu_percent": 0,
          "cpu_time": 0.12,
          "name": "STDIn_series_1",
          "real_mem": 172531712,
          "time": 1616482543.1702008
         },
         {
          "cpu_percent": 0,
          "cpu_time": 0.15,
          "name": "STDOut_series_1",
          "real_mem": 181723136,
          "time": 1616482543.2705433
         },
         {
          "cpu_percent": 98.3,
          "cpu_time": 0.16,
          "name": "STDIn_series_1",
          "real_mem": 182804480,
          "time": 1616482543.281912
         },
         {
          "cpu_percent": 98.5,
          "cpu_time": 0.19,
          "name": "STDOut_series_1",
          "real_mem": 188481536,
          "time": 1616482543.383248
         },
         {
          "cpu_percent": 0,
          "cpu_time": 0.19,
          "name": "STDIn_series_1",
          "real_mem": 189022208,
          "time": 1616482543.3943844
         },
         {
          "cpu_percent": 97.9,
          "cpu_time": 0.23,
          "name": "STDIn_series_1",
          "real_mem": 196050944,
          "time": 1616482543.5076342
         },
         {
          "cpu_percent": 0,
          "cpu_time": 0.22,
          "name": "STDOut_series_1",
          "real_mem": 194969600,
          "time": 1616482543.4957938
         },
         {
          "cpu_percent": 96.5,
          "cpu_time": 0.27,
          "name": "STDOut_series_1",
          "real_mem": 200916992,
          "time": 1616482543.608027
         },
         {
          "cpu_percent": 0,
          "cpu_time": 0.27,
          "name": "STDIn_series_1",
          "real_mem": 201728000,
          "time": 1616482543.619792
         },
         {
          "cpu_percent": 97.3,
          "cpu_time": 0.31,
          "name": "STDOut_series_1",
          "real_mem": 210649088,
          "time": 1616482543.7199636
         },
         {
          "cpu_percent": 0,
          "cpu_time": 0.31,
          "name": "STDIn_series_1",
          "real_mem": 212271104,
          "time": 1616482543.758826
         },
         {
          "cpu_percent": 0,
          "cpu_time": 0.34,
          "name": "STDOut_series_1",
          "real_mem": 220381184,
          "time": 1616482543.8593671
         },
         {
          "cpu_percent": 0,
          "cpu_time": 0.34,
          "name": "STDIn_series_1",
          "real_mem": 221732864,
          "time": 1616482543.8706837
         },
         {
          "cpu_percent": 98.3,
          "cpu_time": 0.38,
          "name": "STDOut_series_1",
          "real_mem": 229842944,
          "time": 1616482543.9714942
         },
         {
          "cpu_percent": 0,
          "cpu_time": 0.38,
          "name": "STDIn_series_1",
          "real_mem": 231194624,
          "time": 1616482543.9827929
         },
         {
          "cpu_percent": 0,
          "cpu_time": 0.43,
          "name": "STDIn_series_1",
          "real_mem": 239845376,
          "time": 1616482544.0963886
         },
         {
          "cpu_percent": 0,
          "cpu_time": 0.42,
          "name": "STDOut_series_1",
          "real_mem": 238493696,
          "time": 1616482544.084474
         },
         {
          "cpu_percent": 98.2,
          "cpu_time": 0.46,
          "name": "STDOut_series_1",
          "real_mem": 247955456,
          "time": 1616482544.1968715
         },
         {
          "cpu_percent": 0,
          "cpu_time": 0.46,
          "name": "STDIn_series_1",
          "real_mem": 249036800,
          "time": 1616482544.2081485
         }
        ],
        "logs": [
         {
          "asctime": "2021-03-23 06:55:42,447",
          "created": 1616482542.447203,
          "extra": {},
          "filename": "async_executors.py",
          "funcName": "main",
          "levelname": "DEBUG",
          "lineno": 114,
          "message": "STDOut_series_1: started async block execution\n",
          "name": "engine.logs:STDOut_series_1",
          "pathname": "/usr/local/lib/python3.7/dist-packages/razor/flow/async_executors.py",
          "process": 343,
          "processName": "ForkProcess-1:1",
          "thread": 140247711946560,
          "threadName": "MainThread"
         },
         {
          "asctime": "2021-03-23 06:55:42,448",
          "created": 1616482542.4486344,
          "extra": {},
          "filename": "async_executors.py",
          "funcName": "main",
          "levelname": "DEBUG",
          "lineno": 114,
          "message": "STDIn_series_1: started async block execution\n",
          "name": "engine.logs:STDIn_series_1",
          "pathname": "/usr/local/lib/python3.7/dist-packages/razor/flow/async_executors.py",
          "process": 343,
          "processName": "ForkProcess-1:1",
          "thread": 140247711946560,
          "threadName": "MainThread"
         },
         {
          "asctime": "2021-03-23 06:55:42,465",
          "created": 1616482542.4656687,
          "extra": {},
          "filename": "async_executors.py",
          "funcName": "fill_atomic_inputs",
          "levelname": "INFO",
          "lineno": 250,
          "message": "STDOut_series_1: waiting for atomic input: out_filename",
          "name": "engine.logs:STDOut_series_1",
          "pathname": "/usr/local/lib/python3.7/dist-packages/razor/flow/async_executors.py",
          "process": 343,
          "processName": "ForkProcess-1:1",
          "thread": 140247711946560,
          "threadName": "MainThread"
         },
         {
          "asctime": "2021-03-23 06:55:42,482",
          "created": 1616482542.4821434,
          "extra": {},
          "filename": "async_executors.py",
          "funcName": "fill_atomic_inputs",
          "levelname": "INFO",
          "lineno": 250,
          "message": "STDIn_series_1: waiting for atomic input: filename",
          "name": "engine.logs:STDIn_series_1",
          "pathname": "/usr/local/lib/python3.7/dist-packages/razor/flow/async_executors.py",
          "process": 343,
          "processName": "ForkProcess-1:1",
          "thread": 140247711946560,
          "threadName": "MainThread"
         },
         {
          "asctime": "2021-03-23 06:55:42,466",
          "created": 1616482542.4663675,
          "extra": {},
          "filename": "async_executors.py",
          "funcName": "fill_atomic_inputs",
          "levelname": "DEBUG",
          "lineno": 253,
          "message": "STDOut_series_1: got atomic input: /home/aios/projectspace/sdk_testbench/output_data/tc_06.txt",
          "name": "engine.logs:STDOut_series_1",
          "pathname": "/usr/local/lib/python3.7/dist-packages/razor/flow/async_executors.py",
          "process": 343,
          "processName": "ForkProcess-1:1",
          "thread": 140247711946560,
          "threadName": "MainThread"
         },
         {
          "asctime": "2021-03-23 06:55:42,482",
          "created": 1616482542.4823205,
          "extra": {},
          "filename": "async_executors.py",
          "funcName": "fill_atomic_inputs",
          "levelname": "DEBUG",
          "lineno": 253,
          "message": "STDIn_series_1: got atomic input: /home/aios/projectspace/sdk_testbench/input_data/file100MB.txt",
          "name": "engine.logs:STDIn_series_1",
          "pathname": "/usr/local/lib/python3.7/dist-packages/razor/flow/async_executors.py",
          "process": 343,
          "processName": "ForkProcess-1:1",
          "thread": 140247711946560,
          "threadName": "MainThread"
         },
         {
          "asctime": "2021-03-23 06:55:42,466",
          "created": 1616482542.4664297,
          "extra": {},
          "filename": "async_executors.py",
          "funcName": "main",
          "levelname": "DEBUG",
          "lineno": 130,
          "message": "STDOut_series_1: triggering block run",
          "name": "engine.logs:STDOut_series_1",
          "pathname": "/usr/local/lib/python3.7/dist-packages/razor/flow/async_executors.py",
          "process": 343,
          "processName": "ForkProcess-1:1",
          "thread": 140247711946560,
          "threadName": "MainThread"
         },
         {
          "asctime": "2021-03-23 06:55:42,482",
          "created": 1616482542.4823723,
          "extra": {},
          "filename": "async_executors.py",
          "funcName": "fill_atomic_inputs",
          "levelname": "INFO",
          "lineno": 250,
          "message": "STDIn_series_1: waiting for atomic input: records",
          "name": "engine.logs:STDIn_series_1",
          "pathname": "/usr/local/lib/python3.7/dist-packages/razor/flow/async_executors.py",
          "process": 343,
          "processName": "ForkProcess-1:1",
          "thread": 140247711946560,
          "threadName": "MainThread"
         },
         {
          "asctime": "2021-03-23 06:55:42,482",
          "created": 1616482542.4824445,
          "extra": {},
          "filename": "async_executors.py",
          "funcName": "fill_atomic_inputs",
          "levelname": "DEBUG",
          "lineno": 253,
          "message": "STDIn_series_1: got atomic input: 100",
          "name": "engine.logs:STDIn_series_1",
          "pathname": "/usr/local/lib/python3.7/dist-packages/razor/flow/async_executors.py",
          "process": 343,
          "processName": "ForkProcess-1:1",
          "thread": 140247711946560,
          "threadName": "MainThread"
         },
         {
          "asctime": "2021-03-23 06:55:42,482",
          "created": 1616482542.4824953,
          "extra": {},
          "filename": "async_executors.py",
          "funcName": "main",
          "levelname": "DEBUG",
          "lineno": 130,
          "message": "STDIn_series_1: triggering block run",
          "name": "engine.logs:STDIn_series_1",
          "pathname": "/usr/local/lib/python3.7/dist-packages/razor/flow/async_executors.py",
          "process": 343,
          "processName": "ForkProcess-1:1",
          "thread": 140247711946560,
          "threadName": "MainThread"
         }
        ],
        "meta": {
         "block_status": {
          "STDIn_series_1": "RUNNING",
          "STDOut_series_1": "RUNNING"
         },
         "blocks": [
          {
           "class_name": "STDIn_series",
           "fullname": "razor.project.blocks.series_memory.STDIn_series",
           "id": "31e96f63-a888-4ad3-89d2-706a4fb0a2af",
           "inputs": [
            {
             "dataType": "string",
             "default": "",
             "flow": "atomic",
             "help": null,
             "isdict": false,
             "islist": false,
             "label": "filename",
             "meta": {},
             "name": "filename",
             "series": false,
             "type": "str",
             "type_check": true
            },
            {
             "dataType": "integer",
             "default": 0,
             "flow": "atomic",
             "help": null,
             "isdict": false,
             "islist": false,
             "label": "records",
             "meta": {},
             "name": "records",
             "series": false,
             "type": "int",
             "type_check": true
            }
           ],
           "outputs": [
            {
             "flow": "series",
             "help": null,
             "label": "out_ds",
             "meta": {},
             "name": "out_ds",
             "series": true,
             "type": "Any",
             "type_check": true
            }
           ],
           "overwritten": false,
           "published": true,
           "var_names": [
            "STDIn_series"
           ]
          },
          {
           "class_name": "STDOut_series",
           "fullname": "razor.project.blocks.series_memory.STDOut_series",
           "id": "ae025d7b-c91b-4cdf-8d55-c2ca59d3cbd1",
           "inputs": [
            {
             "dataType": null,
             "default": null,
             "flow": "series",
             "help": null,
             "isdict": false,
             "islist": false,
             "label": "in_ds",
             "meta": {},
             "name": "in_ds",
             "series": true,
             "type": "Any",
             "type_check": true
            },
            {
             "dataType": "string",
             "default": "",
             "flow": "atomic",
             "help": null,
             "isdict": false,
             "islist": false,
             "label": "out_filename",
             "meta": {},
             "name": "out_filename",
             "series": false,
             "type": "str",
             "type_check": true
            }
           ],
           "outputs": [],
           "overwritten": false,
           "published": true,
           "var_names": [
            "STDOut_series"
           ]
          }
         ],
         "connections": [
          {
           "id": "387b2b41-a2fd-4a39-888a-39d8c2009cd0",
           "source": {
            "adapter": false,
            "instance_id": "36b48a26-45e5-4269-a61e-12b8c2a45e9d",
            "name": "out_ds"
           },
           "target": {
            "adapter": false,
            "instance_id": "6a0f82da-4960-43fc-b39c-783876249830",
            "name": "in_ds"
           }
          }
         ],
         "end": null,
         "id": "cfeff802-e5de-42c6-8ccb-f3f0cdc3abd5",
         "instances": [
          {
           "block_class": "ae025d7b-c91b-4cdf-8d55-c2ca59d3cbd1",
           "id": "6a0f82da-4960-43fc-b39c-783876249830",
           "name": "STDOut_series_1",
           "var_names": [
            "std_out"
           ]
          },
          {
           "block_class": "31e96f63-a888-4ad3-89d2-706a4fb0a2af",
           "id": "36b48a26-45e5-4269-a61e-12b8c2a45e9d",
           "name": "STDIn_series_1",
           "var_names": [
            "std_in"
           ]
          }
         ],
         "log_level": 20,
         "name": "series_socket_transport",
         "start": 1616482542.430278,
         "status": "RUNNING",
         "system_logs": false,
         "var_names": []
        },
        "metrics": {},
        "runtime": {
         "STDIn_series_1": {
          "end": null,
          "load": 1616482542.4319096,
          "start": 1616482542.4411747
         },
         "STDOut_series_1": {
          "end": null,
          "load": 1616482542.4319096,
          "start": 1616482542.4411747
         }
        }
       },
       "store_in_notebook": true
      }
     },
     "output_type": "display_data"
    }
   ],
   "source": [
    "pipeline.execute()"
   ]
  },
  {
   "cell_type": "code",
   "execution_count": null,
   "metadata": {},
   "outputs": [],
   "source": []
  },
  {
   "cell_type": "code",
   "execution_count": null,
   "metadata": {},
   "outputs": [],
   "source": []
  }
 ],
 "metadata": {
  "kernelspec": {
   "display_name": "Python 3",
   "language": "python",
   "name": "python3"
  },
  "language_info": {
   "codemirror_mode": {
    "name": "ipython",
    "version": 3
   },
   "file_extension": ".py",
   "mimetype": "text/x-python",
   "name": "python",
   "nbconvert_exporter": "python",
   "pygments_lexer": "ipython3",
   "version": "3.7.10"
  }
 },
 "nbformat": 4,
 "nbformat_minor": 4
}
