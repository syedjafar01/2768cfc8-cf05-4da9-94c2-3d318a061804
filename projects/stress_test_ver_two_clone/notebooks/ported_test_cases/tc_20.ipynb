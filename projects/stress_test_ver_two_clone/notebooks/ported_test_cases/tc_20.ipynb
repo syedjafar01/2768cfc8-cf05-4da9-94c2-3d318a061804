{
 "cells": [
  {
   "cell_type": "code",
   "execution_count": 1,
   "metadata": {},
   "outputs": [],
   "source": [
    "import razor.flow as rf\n",
    "from razor import api\n",
    "import logging\n",
    "import time\n",
    "import typing as typ\n",
    "import numpy as np\n",
    "import pandas as pd\n",
    "\n",
    "logger = logging.getLogger()"
   ]
  },
  {
   "cell_type": "code",
   "execution_count": 2,
   "metadata": {},
   "outputs": [],
   "source": [
    "def project_space_path(path):\n",
    "    ps = api.datasources('Project Space')\n",
    "    return os.path.join(ps.abspath(), path)\n"
   ]
  },
  {
   "cell_type": "code",
   "execution_count": 3,
   "metadata": {},
   "outputs": [],
   "source": [
    "@rf.block\n",
    "class STDIn:\n",
    "    filename: str\n",
    "    out_ds: rf.Output[typ.Any] = rf.Output(transport=rf.KafkaTransport)\n",
    "\n",
    "    def run(self):\n",
    "        df = pd.read_parquet(project_space_path(self.filename))\n",
    "\n",
    "        logger.info(df.shape)\n",
    "        self.out_ds.put(df)\n",
    "        \n",
    "@rf.block\n",
    "class AxisSum:\n",
    "    in_ds: typ.Any\n",
    "    out_ds: rf.Output[typ.Any] = rf.Output(transport=rf.KafkaTransport)\n",
    "\n",
    "    def run(self):\n",
    "        df = self.in_ds.copy()\n",
    "        df['x_temp'] = df.sum(axis=1)\n",
    "        self.out_ds.put(df)\n",
    "\n",
    "        \n",
    "@rf.block\n",
    "class SumAxisSum:\n",
    "    s_in_ds: typ.Any\n",
    "    l_in_ds: typ.Any\n",
    "    s_out_ds: rf.Output[typ.Any] = rf.Output(transport=rf.KafkaTransport)\n",
    "    l_out_ds: rf.Output[typ.Any] = rf.Output(transport=rf.KafkaTransport)\n",
    "\n",
    "    def run(self):\n",
    "        s_df = self.s_in_ds.copy()\n",
    "        logger.info('small df')\n",
    "        logger.info(s_df['x_temp'].sum())\n",
    "        \n",
    "        self.s_out_ds.put(s_df)\n",
    "        del(s_df)\n",
    "        \n",
    "        l_df = self.l_in_ds.copy()\n",
    "        logger.info('large df')\n",
    "        logger.info(l_df['x_temp'].sum())\n",
    "        \n",
    "        self.l_out_ds.put(l_df)\n",
    "        \n",
    "        \n",
    "@rf.block\n",
    "class DropAxisSum:\n",
    "    in_ds: typ.Any\n",
    "    out_ds: rf.Output[typ.Any] = rf.Output(transport=rf.KafkaTransport)\n",
    "\n",
    "    def run(self):\n",
    "        df = self.in_ds.copy()\n",
    "        df.drop(['x_temp'], axis=1, inplace=True)\n",
    "        self.out_ds.put(df)\n",
    "        \n",
    "        \n",
    "@rf.block\n",
    "class STDOut:\n",
    "    in_ds: typ.Any\n",
    "    out_filename: str\n",
    "\n",
    "    def run(self):\n",
    "        logger.info(self.in_ds.shape)\n",
    "        self.in_ds.to_parquet(project_space_path(self.out_filename), index=False)\n",
    "            "
   ]
  },
  {
   "cell_type": "code",
   "execution_count": 4,
   "metadata": {},
   "outputs": [
    {
     "data": {
      "application/vnd.razorthink.interactive+pipeline+view+json": {
       "blocks": [
        {
         "class_name": "STDOut",
         "fullname": ".STDOut",
         "id": "132f3515-5a1e-4568-ac64-e1b76abdef76",
         "inputs": [
          {
           "dataType": null,
           "default": null,
           "flow": "atomic",
           "help": null,
           "isdict": false,
           "islist": false,
           "label": "in_ds",
           "meta": {},
           "name": "in_ds",
           "series": false,
           "type": "Any",
           "type_check": true
          },
          {
           "dataType": "string",
           "default": "",
           "flow": "atomic",
           "help": null,
           "isdict": false,
           "islist": false,
           "label": "out_filename",
           "meta": {},
           "name": "out_filename",
           "series": false,
           "type": "str",
           "type_check": true
          }
         ],
         "outputs": [],
         "overwritten": false,
         "published": false,
         "var_names": [
          "STDOut"
         ]
        },
        {
         "class_name": "AxisSum",
         "fullname": ".AxisSum",
         "id": "40297ce4-073c-439e-bfe8-013038eec072",
         "inputs": [
          {
           "dataType": null,
           "default": null,
           "flow": "atomic",
           "help": null,
           "isdict": false,
           "islist": false,
           "label": "in_ds",
           "meta": {},
           "name": "in_ds",
           "series": false,
           "type": "Any",
           "type_check": true
          }
         ],
         "outputs": [
          {
           "flow": "atomic",
           "help": null,
           "label": "out_ds",
           "meta": {},
           "name": "out_ds",
           "series": false,
           "type": "Any",
           "type_check": true
          }
         ],
         "overwritten": false,
         "published": false,
         "var_names": [
          "AxisSum"
         ]
        },
        {
         "class_name": "DropAxisSum",
         "fullname": ".DropAxisSum",
         "id": "874a0853-a8b7-491b-9751-3c67c42da35b",
         "inputs": [
          {
           "dataType": null,
           "default": null,
           "flow": "atomic",
           "help": null,
           "isdict": false,
           "islist": false,
           "label": "in_ds",
           "meta": {},
           "name": "in_ds",
           "series": false,
           "type": "Any",
           "type_check": true
          }
         ],
         "outputs": [
          {
           "flow": "atomic",
           "help": null,
           "label": "out_ds",
           "meta": {},
           "name": "out_ds",
           "series": false,
           "type": "Any",
           "type_check": true
          }
         ],
         "overwritten": false,
         "published": false,
         "var_names": [
          "DropAxisSum"
         ]
        },
        {
         "class_name": "STDIn",
         "fullname": ".STDIn",
         "id": "5251da6c-bff1-49b0-b200-598bd68b599c",
         "inputs": [
          {
           "dataType": "string",
           "default": "",
           "flow": "atomic",
           "help": null,
           "isdict": false,
           "islist": false,
           "label": "filename",
           "meta": {},
           "name": "filename",
           "series": false,
           "type": "str",
           "type_check": true
          }
         ],
         "outputs": [
          {
           "flow": "atomic",
           "help": null,
           "label": "out_ds",
           "meta": {},
           "name": "out_ds",
           "series": false,
           "type": "Any",
           "type_check": true
          }
         ],
         "overwritten": false,
         "published": false,
         "var_names": [
          "STDIn"
         ]
        },
        {
         "class_name": "SumAxisSum",
         "fullname": ".SumAxisSum",
         "id": "75e23991-b9ff-4186-a8db-552857c77dbe",
         "inputs": [
          {
           "dataType": null,
           "default": null,
           "flow": "atomic",
           "help": null,
           "isdict": false,
           "islist": false,
           "label": "s_in_ds",
           "meta": {},
           "name": "s_in_ds",
           "series": false,
           "type": "Any",
           "type_check": true
          },
          {
           "dataType": null,
           "default": null,
           "flow": "atomic",
           "help": null,
           "isdict": false,
           "islist": false,
           "label": "l_in_ds",
           "meta": {},
           "name": "l_in_ds",
           "series": false,
           "type": "Any",
           "type_check": true
          }
         ],
         "outputs": [
          {
           "flow": "atomic",
           "help": null,
           "label": "s_out_ds",
           "meta": {},
           "name": "s_out_ds",
           "series": false,
           "type": "Any",
           "type_check": true
          },
          {
           "flow": "atomic",
           "help": null,
           "label": "l_out_ds",
           "meta": {},
           "name": "l_out_ds",
           "series": false,
           "type": "Any",
           "type_check": true
          }
         ],
         "overwritten": false,
         "published": false,
         "var_names": [
          "SumAxisSum"
         ]
        }
       ],
       "connections": [
        {
         "id": "921c6b45-335e-4356-9d8d-4d676b473e56",
         "source": {
          "adapter": false,
          "instance_id": "5e092887-4e5c-4a5f-8843-0c0b48c423ce",
          "name": "out_ds"
         },
         "target": {
          "adapter": false,
          "instance_id": "99dffb02-c519-4604-a7a5-f06d9897ac14",
          "name": "in_ds"
         }
        },
        {
         "id": "4cfd73f6-9a8e-4848-97e4-203c0baed5c1",
         "source": {
          "adapter": false,
          "instance_id": "9a6b5d03-c520-4a34-b09c-669ca8057162",
          "name": "l_out_ds"
         },
         "target": {
          "adapter": false,
          "instance_id": "9f51e67b-e8fa-4278-af38-23788b3c9887",
          "name": "in_ds"
         }
        },
        {
         "id": "a1b813d9-aaef-4cea-a81f-4f61a959afdc",
         "source": {
          "adapter": false,
          "instance_id": "9f51e67b-e8fa-4278-af38-23788b3c9887",
          "name": "out_ds"
         },
         "target": {
          "adapter": false,
          "instance_id": "b3de9e8a-0a1a-4408-9b19-3eae71000571",
          "name": "in_ds"
         }
        },
        {
         "id": "e8aaf6c8-6fd2-45bb-b5cf-44e301445789",
         "source": {
          "adapter": false,
          "instance_id": "a66032fc-f5e7-473c-9760-d0bfbf1b6f2b",
          "name": "out_ds"
         },
         "target": {
          "adapter": false,
          "instance_id": "9a6b5d03-c520-4a34-b09c-669ca8057162",
          "name": "s_in_ds"
         }
        },
        {
         "id": "3bf43b72-2810-4b72-ad3a-4cb2b62b56d2",
         "source": {
          "adapter": false,
          "instance_id": "90131161-fb72-4857-8276-18bdf671dc91",
          "name": "out_ds"
         },
         "target": {
          "adapter": false,
          "instance_id": "a66032fc-f5e7-473c-9760-d0bfbf1b6f2b",
          "name": "in_ds"
         }
        },
        {
         "id": "198b6174-4e39-408f-bdfa-280a9964d692",
         "source": {
          "adapter": false,
          "instance_id": "1c2a92d1-65e7-42db-830d-567841f3182e",
          "name": "out_ds"
         },
         "target": {
          "adapter": false,
          "instance_id": "7c9deac0-0483-4743-b29f-fb899a26d77b",
          "name": "in_ds"
         }
        },
        {
         "id": "2a79c1c7-8315-4d7d-aaa8-06a79a59a033",
         "source": {
          "adapter": false,
          "instance_id": "9a6b5d03-c520-4a34-b09c-669ca8057162",
          "name": "s_out_ds"
         },
         "target": {
          "adapter": false,
          "instance_id": "5e092887-4e5c-4a5f-8843-0c0b48c423ce",
          "name": "in_ds"
         }
        },
        {
         "id": "e2d0058b-f8fa-4c83-9c64-cfb4c0446cce",
         "source": {
          "adapter": false,
          "instance_id": "7c9deac0-0483-4743-b29f-fb899a26d77b",
          "name": "out_ds"
         },
         "target": {
          "adapter": false,
          "instance_id": "9a6b5d03-c520-4a34-b09c-669ca8057162",
          "name": "l_in_ds"
         }
        }
       ],
       "id": "d636cf1f-63bf-4476-bd49-1fca55051910",
       "instances": [
        {
         "block_class": "132f3515-5a1e-4568-ac64-e1b76abdef76",
         "id": "99dffb02-c519-4604-a7a5-f06d9897ac14",
         "name": "STDOut_1",
         "var_names": [
          "s_stdout"
         ]
        },
        {
         "block_class": "874a0853-a8b7-491b-9751-3c67c42da35b",
         "id": "5e092887-4e5c-4a5f-8843-0c0b48c423ce",
         "name": "DropAxisSum_1",
         "var_names": [
          "s_drop_axis_sum"
         ]
        },
        {
         "block_class": "75e23991-b9ff-4186-a8db-552857c77dbe",
         "id": "9a6b5d03-c520-4a34-b09c-669ca8057162",
         "name": "SumAxisSum_1",
         "var_names": [
          "sum_axis_sum"
         ]
        },
        {
         "block_class": "40297ce4-073c-439e-bfe8-013038eec072",
         "id": "a66032fc-f5e7-473c-9760-d0bfbf1b6f2b",
         "name": "AxisSum_1",
         "var_names": [
          "s_axis_sum"
         ]
        },
        {
         "block_class": "5251da6c-bff1-49b0-b200-598bd68b599c",
         "id": "90131161-fb72-4857-8276-18bdf671dc91",
         "name": "STDIn_1",
         "var_names": [
          "s_std_in"
         ]
        },
        {
         "block_class": "40297ce4-073c-439e-bfe8-013038eec072",
         "id": "7c9deac0-0483-4743-b29f-fb899a26d77b",
         "name": "AxisSum_2",
         "var_names": [
          "l_axis_sum"
         ]
        },
        {
         "block_class": "5251da6c-bff1-49b0-b200-598bd68b599c",
         "id": "1c2a92d1-65e7-42db-830d-567841f3182e",
         "name": "STDIn_2",
         "var_names": [
          "l_std_in"
         ]
        },
        {
         "block_class": "132f3515-5a1e-4568-ac64-e1b76abdef76",
         "id": "b3de9e8a-0a1a-4408-9b19-3eae71000571",
         "name": "STDOut_2",
         "var_names": [
          "l_stdout"
         ]
        },
        {
         "block_class": "874a0853-a8b7-491b-9751-3c67c42da35b",
         "id": "9f51e67b-e8fa-4278-af38-23788b3c9887",
         "name": "DropAxisSum_2",
         "var_names": [
          "l_drop_axis_sum"
         ]
        }
       ],
       "name": "mix_atomic_parallel",
       "var_names": []
      },
      "image/svg+xml": [
       "<?xml version=\"1.0\" encoding=\"UTF-8\" standalone=\"no\"?>\n",
       "<!DOCTYPE svg PUBLIC \"-//W3C//DTD SVG 1.1//EN\"\n",
       " \"http://www.w3.org/Graphics/SVG/1.1/DTD/svg11.dtd\">\n",
       "<!-- Generated by graphviz version 2.43.0 (0)\n",
       " -->\n",
       "<!-- Title: %3 Pages: 1 -->\n",
       "<svg width=\"434pt\" height=\"376pt\"\n",
       " viewBox=\"0.00 0.00 433.68 376.00\" xmlns=\"http://www.w3.org/2000/svg\" xmlns:xlink=\"http://www.w3.org/1999/xlink\">\n",
       "<g id=\"graph0\" class=\"graph\" transform=\"scale(1 1) rotate(0) translate(4 372)\">\n",
       "<title>%3</title>\n",
       "<polygon fill=\"white\" stroke=\"transparent\" points=\"-4,4 -4,-372 429.68,-372 429.68,4 -4,4\"/>\n",
       "<!-- STDOut(&#39;STDOut_1&#39;) -->\n",
       "<g id=\"node1\" class=\"node\">\n",
       "<title>STDOut(&#39;STDOut_1&#39;)</title>\n",
       "<ellipse fill=\"none\" stroke=\"black\" cx=\"101.84\" cy=\"-18\" rx=\"67.89\" ry=\"18\"/>\n",
       "<text text-anchor=\"middle\" x=\"101.84\" y=\"-15.5\" font-family=\"Helvetica,sans-Serif\" font-size=\"10.00\">STDOut(&#39;STDOut_1&#39;)</text>\n",
       "</g>\n",
       "<!-- DropAxisSum(&#39;DropAxisSum_1&#39;) -->\n",
       "<g id=\"node2\" class=\"node\">\n",
       "<title>DropAxisSum(&#39;DropAxisSum_1&#39;)</title>\n",
       "<ellipse fill=\"none\" stroke=\"black\" cx=\"101.84\" cy=\"-101\" rx=\"101.68\" ry=\"18\"/>\n",
       "<text text-anchor=\"middle\" x=\"101.84\" y=\"-98.5\" font-family=\"Helvetica,sans-Serif\" font-size=\"10.00\">DropAxisSum(&#39;DropAxisSum_1&#39;)</text>\n",
       "</g>\n",
       "<!-- DropAxisSum(&#39;DropAxisSum_1&#39;)&#45;&gt;STDOut(&#39;STDOut_1&#39;) -->\n",
       "<g id=\"edge1\" class=\"edge\">\n",
       "<title>DropAxisSum(&#39;DropAxisSum_1&#39;)&#45;&gt;STDOut(&#39;STDOut_1&#39;)</title>\n",
       "<path fill=\"none\" stroke=\"black\" d=\"M101.84,-82.82C101.84,-72.19 101.84,-58.31 101.84,-46.2\"/>\n",
       "<polygon fill=\"black\" stroke=\"black\" points=\"105.34,-46.15 101.84,-36.15 98.34,-46.15 105.34,-46.15\"/>\n",
       "<text text-anchor=\"middle\" x=\"136.84\" y=\"-57\" font-family=\"Helvetica,sans-Serif\" font-size=\"10.00\">out_ds&#45;&gt;in_ds</text>\n",
       "</g>\n",
       "<!-- SumAxisSum(&#39;SumAxisSum_1&#39;) -->\n",
       "<g id=\"node3\" class=\"node\">\n",
       "<title>SumAxisSum(&#39;SumAxisSum_1&#39;)</title>\n",
       "<ellipse fill=\"none\" stroke=\"black\" cx=\"212.84\" cy=\"-184\" rx=\"100.15\" ry=\"18\"/>\n",
       "<text text-anchor=\"middle\" x=\"212.84\" y=\"-181.5\" font-family=\"Helvetica,sans-Serif\" font-size=\"10.00\">SumAxisSum(&#39;SumAxisSum_1&#39;)</text>\n",
       "</g>\n",
       "<!-- SumAxisSum(&#39;SumAxisSum_1&#39;)&#45;&gt;DropAxisSum(&#39;DropAxisSum_1&#39;) -->\n",
       "<g id=\"edge2\" class=\"edge\">\n",
       "<title>SumAxisSum(&#39;SumAxisSum_1&#39;)&#45;&gt;DropAxisSum(&#39;DropAxisSum_1&#39;)</title>\n",
       "<path fill=\"none\" stroke=\"black\" d=\"M190.11,-166.41C173.65,-154.4 151.19,-138.02 133.05,-124.78\"/>\n",
       "<polygon fill=\"black\" stroke=\"black\" points=\"134.68,-121.63 124.54,-118.56 130.55,-127.29 134.68,-121.63\"/>\n",
       "<text text-anchor=\"middle\" x=\"205.34\" y=\"-140\" font-family=\"Helvetica,sans-Serif\" font-size=\"10.00\">s_out_ds&#45;&gt;in_ds</text>\n",
       "</g>\n",
       "<!-- DropAxisSum(&#39;DropAxisSum_2&#39;) -->\n",
       "<g id=\"node9\" class=\"node\">\n",
       "<title>DropAxisSum(&#39;DropAxisSum_2&#39;)</title>\n",
       "<ellipse fill=\"none\" stroke=\"black\" cx=\"323.84\" cy=\"-101\" rx=\"101.68\" ry=\"18\"/>\n",
       "<text text-anchor=\"middle\" x=\"323.84\" y=\"-98.5\" font-family=\"Helvetica,sans-Serif\" font-size=\"10.00\">DropAxisSum(&#39;DropAxisSum_2&#39;)</text>\n",
       "</g>\n",
       "<!-- SumAxisSum(&#39;SumAxisSum_1&#39;)&#45;&gt;DropAxisSum(&#39;DropAxisSum_2&#39;) -->\n",
       "<g id=\"edge3\" class=\"edge\">\n",
       "<title>SumAxisSum(&#39;SumAxisSum_1&#39;)&#45;&gt;DropAxisSum(&#39;DropAxisSum_2&#39;)</title>\n",
       "<path fill=\"none\" stroke=\"black\" d=\"M235.57,-166.41C252.03,-154.4 274.48,-138.02 292.62,-124.78\"/>\n",
       "<polygon fill=\"black\" stroke=\"black\" points=\"295.12,-127.29 301.14,-118.56 291,-121.63 295.12,-127.29\"/>\n",
       "<text text-anchor=\"middle\" x=\"315.34\" y=\"-140\" font-family=\"Helvetica,sans-Serif\" font-size=\"10.00\">l_out_ds&#45;&gt;in_ds</text>\n",
       "</g>\n",
       "<!-- AxisSum(&#39;AxisSum_1&#39;) -->\n",
       "<g id=\"node4\" class=\"node\">\n",
       "<title>AxisSum(&#39;AxisSum_1&#39;)</title>\n",
       "<ellipse fill=\"none\" stroke=\"black\" cx=\"128.84\" cy=\"-267\" rx=\"74.52\" ry=\"18\"/>\n",
       "<text text-anchor=\"middle\" x=\"128.84\" y=\"-264.5\" font-family=\"Helvetica,sans-Serif\" font-size=\"10.00\">AxisSum(&#39;AxisSum_1&#39;)</text>\n",
       "</g>\n",
       "<!-- AxisSum(&#39;AxisSum_1&#39;)&#45;&gt;SumAxisSum(&#39;SumAxisSum_1&#39;) -->\n",
       "<g id=\"edge4\" class=\"edge\">\n",
       "<title>AxisSum(&#39;AxisSum_1&#39;)&#45;&gt;SumAxisSum(&#39;SumAxisSum_1&#39;)</title>\n",
       "<path fill=\"none\" stroke=\"black\" d=\"M146.24,-249.22C158.29,-237.6 174.52,-221.95 187.93,-209.02\"/>\n",
       "<polygon fill=\"black\" stroke=\"black\" points=\"190.69,-211.22 195.46,-201.76 185.83,-206.18 190.69,-211.22\"/>\n",
       "<text text-anchor=\"middle\" x=\"217.34\" y=\"-223\" font-family=\"Helvetica,sans-Serif\" font-size=\"10.00\">out_ds&#45;&gt;s_in_ds</text>\n",
       "</g>\n",
       "<!-- STDIn(&#39;STDIn_1&#39;) -->\n",
       "<g id=\"node5\" class=\"node\">\n",
       "<title>STDIn(&#39;STDIn_1&#39;)</title>\n",
       "<ellipse fill=\"none\" stroke=\"black\" cx=\"128.84\" cy=\"-350\" rx=\"57.88\" ry=\"18\"/>\n",
       "<text text-anchor=\"middle\" x=\"128.84\" y=\"-347.5\" font-family=\"Helvetica,sans-Serif\" font-size=\"10.00\">STDIn(&#39;STDIn_1&#39;)</text>\n",
       "</g>\n",
       "<!-- STDIn(&#39;STDIn_1&#39;)&#45;&gt;AxisSum(&#39;AxisSum_1&#39;) -->\n",
       "<g id=\"edge5\" class=\"edge\">\n",
       "<title>STDIn(&#39;STDIn_1&#39;)&#45;&gt;AxisSum(&#39;AxisSum_1&#39;)</title>\n",
       "<path fill=\"none\" stroke=\"black\" d=\"M128.84,-331.82C128.84,-321.19 128.84,-307.31 128.84,-295.2\"/>\n",
       "<polygon fill=\"black\" stroke=\"black\" points=\"132.34,-295.15 128.84,-285.15 125.34,-295.15 132.34,-295.15\"/>\n",
       "<text text-anchor=\"middle\" x=\"163.84\" y=\"-306\" font-family=\"Helvetica,sans-Serif\" font-size=\"10.00\">out_ds&#45;&gt;in_ds</text>\n",
       "</g>\n",
       "<!-- AxisSum(&#39;AxisSum_2&#39;) -->\n",
       "<g id=\"node6\" class=\"node\">\n",
       "<title>AxisSum(&#39;AxisSum_2&#39;)</title>\n",
       "<ellipse fill=\"none\" stroke=\"black\" cx=\"296.84\" cy=\"-267\" rx=\"74.52\" ry=\"18\"/>\n",
       "<text text-anchor=\"middle\" x=\"296.84\" y=\"-264.5\" font-family=\"Helvetica,sans-Serif\" font-size=\"10.00\">AxisSum(&#39;AxisSum_2&#39;)</text>\n",
       "</g>\n",
       "<!-- AxisSum(&#39;AxisSum_2&#39;)&#45;&gt;SumAxisSum(&#39;SumAxisSum_1&#39;) -->\n",
       "<g id=\"edge6\" class=\"edge\">\n",
       "<title>AxisSum(&#39;AxisSum_2&#39;)&#45;&gt;SumAxisSum(&#39;SumAxisSum_1&#39;)</title>\n",
       "<path fill=\"none\" stroke=\"black\" d=\"M284.34,-249.02C277.31,-239.97 268.1,-228.9 258.84,-220 254.57,-215.9 249.83,-211.84 245.07,-208\"/>\n",
       "<polygon fill=\"black\" stroke=\"black\" points=\"247.13,-205.18 237.09,-201.81 242.84,-210.71 247.13,-205.18\"/>\n",
       "<text text-anchor=\"middle\" x=\"309.34\" y=\"-223\" font-family=\"Helvetica,sans-Serif\" font-size=\"10.00\">out_ds&#45;&gt;l_in_ds</text>\n",
       "</g>\n",
       "<!-- STDIn(&#39;STDIn_2&#39;) -->\n",
       "<g id=\"node7\" class=\"node\">\n",
       "<title>STDIn(&#39;STDIn_2&#39;)</title>\n",
       "<ellipse fill=\"none\" stroke=\"black\" cx=\"296.84\" cy=\"-350\" rx=\"57.88\" ry=\"18\"/>\n",
       "<text text-anchor=\"middle\" x=\"296.84\" y=\"-347.5\" font-family=\"Helvetica,sans-Serif\" font-size=\"10.00\">STDIn(&#39;STDIn_2&#39;)</text>\n",
       "</g>\n",
       "<!-- STDIn(&#39;STDIn_2&#39;)&#45;&gt;AxisSum(&#39;AxisSum_2&#39;) -->\n",
       "<g id=\"edge7\" class=\"edge\">\n",
       "<title>STDIn(&#39;STDIn_2&#39;)&#45;&gt;AxisSum(&#39;AxisSum_2&#39;)</title>\n",
       "<path fill=\"none\" stroke=\"black\" d=\"M296.84,-331.82C296.84,-321.19 296.84,-307.31 296.84,-295.2\"/>\n",
       "<polygon fill=\"black\" stroke=\"black\" points=\"300.34,-295.15 296.84,-285.15 293.34,-295.15 300.34,-295.15\"/>\n",
       "<text text-anchor=\"middle\" x=\"331.84\" y=\"-306\" font-family=\"Helvetica,sans-Serif\" font-size=\"10.00\">out_ds&#45;&gt;in_ds</text>\n",
       "</g>\n",
       "<!-- STDOut(&#39;STDOut_2&#39;) -->\n",
       "<g id=\"node8\" class=\"node\">\n",
       "<title>STDOut(&#39;STDOut_2&#39;)</title>\n",
       "<ellipse fill=\"none\" stroke=\"black\" cx=\"323.84\" cy=\"-18\" rx=\"67.89\" ry=\"18\"/>\n",
       "<text text-anchor=\"middle\" x=\"323.84\" y=\"-15.5\" font-family=\"Helvetica,sans-Serif\" font-size=\"10.00\">STDOut(&#39;STDOut_2&#39;)</text>\n",
       "</g>\n",
       "<!-- DropAxisSum(&#39;DropAxisSum_2&#39;)&#45;&gt;STDOut(&#39;STDOut_2&#39;) -->\n",
       "<g id=\"edge8\" class=\"edge\">\n",
       "<title>DropAxisSum(&#39;DropAxisSum_2&#39;)&#45;&gt;STDOut(&#39;STDOut_2&#39;)</title>\n",
       "<path fill=\"none\" stroke=\"black\" d=\"M323.84,-82.82C323.84,-72.19 323.84,-58.31 323.84,-46.2\"/>\n",
       "<polygon fill=\"black\" stroke=\"black\" points=\"327.34,-46.15 323.84,-36.15 320.34,-46.15 327.34,-46.15\"/>\n",
       "<text text-anchor=\"middle\" x=\"358.84\" y=\"-57\" font-family=\"Helvetica,sans-Serif\" font-size=\"10.00\">out_ds&#45;&gt;in_ds</text>\n",
       "</g>\n",
       "</g>\n",
       "</svg>\n"
      ],
      "text/plain": [
       "<razor.flow.pipeline.Pipeline at 0x7f01bcacb110>"
      ]
     },
     "metadata": {},
     "output_type": "display_data"
    }
   ],
   "source": [
    "s_size = '10MB'\n",
    "l_size = '300MB'\n",
    "s_ip_filename = \"sdk_testbench/input_data/dummy_\"+s_size+\"_df.parquet\"\n",
    "l_ip_filename = \"sdk_testbench/input_data/dummy_\"+l_size+\"_df.parquet\"\n",
    "s_op_filename = \"sdk_testbench/output_data/s_tc_20.parquet\"\n",
    "l_op_filename = \"sdk_testbench/output_data/l_tc_20.parquet\"\n",
    "\n",
    "s_std_in = STDIn(filename=s_ip_filename)\n",
    "l_std_in = STDIn(filename=l_ip_filename)\n",
    "l_std_in.out_ds = rf.Output.set(transport=rf.FileTransport)\n",
    "\n",
    "s_axis_sum = AxisSum(in_ds=s_std_in.out_ds)\n",
    "l_axis_sum = AxisSum(in_ds=l_std_in.out_ds)\n",
    "l_axis_sum.out_ds = rf.Output.set(transport=rf.FileTransport)\n",
    "\n",
    "sum_axis_sum = SumAxisSum(s_in_ds=s_axis_sum.out_ds, l_in_ds=l_axis_sum.out_ds)\n",
    "sum_axis_sum.l_out_ds = rf.Output.set(transport=rf.FileTransport)\n",
    "\n",
    "s_drop_axis_sum = DropAxisSum(in_ds=sum_axis_sum.s_out_ds)\n",
    "l_drop_axis_sum = DropAxisSum(in_ds=sum_axis_sum.l_out_ds)\n",
    "l_drop_axis_sum.out_ds = rf.Output.set(transport=rf.FileTransport)\n",
    "\n",
    "s_stdout = STDOut(in_ds=s_drop_axis_sum.out_ds, out_filename=s_op_filename)\n",
    "l_stdout = STDOut(in_ds=l_drop_axis_sum.out_ds, out_filename=l_op_filename)\n",
    "\n",
    "pipeline = rf.Pipeline(name='mix_atomic_parallel', targets=[s_stdout, l_stdout])\n",
    "pipeline.show()"
   ]
  },
  {
   "cell_type": "code",
   "execution_count": 5,
   "metadata": {},
   "outputs": [
    {
     "data": {
      "application/vnd.razorthink.run+monitor+json": "/tmp/tmpp870dqma/mix_atomic_parallel",
      "text/plain": [
       "<razor_tools.backend.ipython.mime.run_monitor.RunMonitor at 0x7f014614a490>"
      ]
     },
     "metadata": {
      "application/vnd.razorthink.run+monitor+json": {
       "run_data": {
        "apm": [
         {
          "cpu_percent": 0,
          "cpu_time": 0,
          "name": "STDOut_1",
          "real_mem": 147476480,
          "time": 1615885882.1898491
         },
         {
          "cpu_percent": 0,
          "cpu_time": 0,
          "name": "DropAxisSum_1",
          "real_mem": 147644416,
          "time": 1615885882.2011535
         },
         {
          "cpu_percent": 0,
          "cpu_time": 0,
          "name": "STDOut_2",
          "real_mem": 147644416,
          "time": 1615885882.2122266
         },
         {
          "cpu_percent": 0,
          "cpu_time": 0,
          "name": "DropAxisSum_2",
          "real_mem": 147656704,
          "time": 1615885882.2234042
         },
         {
          "cpu_percent": 0,
          "cpu_time": 0,
          "name": "SumAxisSum_1",
          "real_mem": 147660800,
          "time": 1615885882.23471
         },
         {
          "cpu_percent": 0,
          "cpu_time": 0,
          "name": "AxisSum_1",
          "real_mem": 147673088,
          "time": 1615885882.246031
         },
         {
          "cpu_percent": 0,
          "cpu_time": 0,
          "name": "STDIn_1",
          "real_mem": 147685376,
          "time": 1615885882.2601242
         },
         {
          "cpu_percent": 0,
          "cpu_time": 0,
          "name": "AxisSum_2",
          "real_mem": 147693568,
          "time": 1615885882.271195
         },
         {
          "cpu_percent": 0,
          "cpu_time": 0,
          "name": "STDIn_2",
          "real_mem": 147697664,
          "time": 1615885882.2825174
         },
         {
          "cpu_percent": 0,
          "cpu_time": 0.01,
          "name": "STDOut_1",
          "real_mem": 149798912,
          "time": 1615885882.394064
         },
         {
          "cpu_percent": 0,
          "cpu_time": 0.01,
          "name": "DropAxisSum_1",
          "real_mem": 149909504,
          "time": 1615885882.405267
         },
         {
          "cpu_percent": 0,
          "cpu_time": 0,
          "name": "STDOut_2",
          "real_mem": 149909504,
          "time": 1615885882.4173226
         },
         {
          "cpu_percent": 0,
          "cpu_time": 0,
          "name": "DropAxisSum_2",
          "real_mem": 149921792,
          "time": 1615885882.431136
         },
         {
          "cpu_percent": 0,
          "cpu_time": 0.01,
          "name": "SumAxisSum_1",
          "real_mem": 149925888,
          "time": 1615885882.4426072
         },
         {
          "cpu_percent": 0,
          "cpu_time": 0,
          "name": "AxisSum_1",
          "real_mem": 149938176,
          "time": 1615885882.4588325
         },
         {
          "cpu_percent": 0,
          "cpu_time": 0.02,
          "name": "STDIn_1",
          "real_mem": 152084480,
          "time": 1615885882.470011
         },
         {
          "cpu_percent": 0,
          "cpu_time": 0.01,
          "name": "AxisSum_2",
          "real_mem": 149958656,
          "time": 1615885882.48122
         },
         {
          "cpu_percent": 0,
          "cpu_time": 0.02,
          "name": "STDIn_2",
          "real_mem": 152088576,
          "time": 1615885882.4924586
         },
         {
          "cpu_percent": 0,
          "cpu_time": 0,
          "name": "STDOut_1",
          "real_mem": 0,
          "time": 1615885882.6065383
         },
         {
          "cpu_percent": 0,
          "cpu_time": 0,
          "name": "STDOut_2",
          "real_mem": 0,
          "time": 1615885882.6178548
         },
         {
          "cpu_percent": 0,
          "cpu_time": 0.01,
          "name": "SumAxisSum_1",
          "real_mem": 0,
          "time": 1615885882.6289873
         },
         {
          "cpu_percent": 0,
          "cpu_time": 0,
          "name": "AxisSum_1",
          "real_mem": 0,
          "time": 1615885882.6400723
         },
         {
          "cpu_percent": 0,
          "cpu_time": 0.04,
          "name": "STDIn_1",
          "real_mem": 0,
          "time": 1615885882.6510904
         },
         {
          "cpu_percent": 0,
          "cpu_time": 0,
          "name": "AxisSum_2",
          "real_mem": 0,
          "time": 1615885882.6620336
         },
         {
          "cpu_percent": 0,
          "cpu_time": 0,
          "name": "STDIn_2",
          "real_mem": 0,
          "time": 1615885882.6737702
         }
        ],
        "logs": [
         {
          "asctime": "2021-03-16 09:11:21,295",
          "exc_info": null,
          "extra": {},
          "filename": "pipeline.py",
          "funcName": "_log_manager",
          "levelname": "INFO",
          "lineno": 413,
          "message": "writing logs to: /tmp/tmpp870dqma/mix_atomic_parallel",
          "name": "razor.flow.pipeline:mix_atomic_parallel",
          "pathname": "/usr/local/lib/python3.7/dist-packages/razor/flow/pipeline.py",
          "process": 531,
          "processName": "MainProcess",
          "thread": 139645501482816,
          "threadName": "MainThread"
         },
         {
          "asctime": "2021-03-16 09:11:22,569",
          "exc_info": null,
          "extra": {},
          "filename": "executors.py",
          "funcName": "_execute_",
          "levelname": "ERROR",
          "lineno": 277,
          "message": "Block: `STDIn_2`: Unhandled Exception. All outputs from this block will be terminated. This may cause successor blocks to fail and pipeline to terminate incorrectly.",
          "name": "razor.flow.executors:STDIn_2",
          "pathname": "/usr/local/lib/python3.7/dist-packages/razor/flow/executors.py",
          "process": 704,
          "processName": "STDIn_2",
          "thread": 139645501482816,
          "threadName": "MainThread"
         },
         {
          "asctime": "2021-03-16 09:11:22,576",
          "exc_info": "Traceback (most recent call last):\n\n  File \"/usr/local/lib/python3.7/dist-packages/razor/flow/executors.py\", line 267, in _execute_\n    self._init_execution(exec_event, engine_flag)\n\n  File \"/usr/local/lib/python3.7/dist-packages/razor/flow/executors.py\", line 216, in _init_execution\n    self.block.run()\n\n  File \"<ipython-input-3-06fc944c9848>\", line 7, in run\n    df = pd.read_parquet(project_space_path(self.filename))\n\n  File \"<ipython-input-2-2ab01686fb97>\", line 3, in project_space_path\n    return os.path.join(ps.abspath(), path)\n\nNameError: name 'os' is not defined\n",
          "extra": {},
          "filename": "executors.py",
          "funcName": "_execute_",
          "levelname": "ERROR",
          "lineno": 278,
          "message": "Traceback (most recent call last):\n\n  File \"/usr/local/lib/python3.7/dist-packages/razor/flow/executors.py\", line 267, in _execute_\n    self._init_execution(exec_event, engine_flag)\n\n  File \"/usr/local/lib/python3.7/dist-packages/razor/flow/executors.py\", line 216, in _init_execution\n    self.block.run()\n\n  File \"<ipython-input-3-06fc944c9848>\", line 7, in run\n    df = pd.read_parquet(project_space_path(self.filename))\n\n  File \"<ipython-input-2-2ab01686fb97>\", line 3, in project_space_path\n    return os.path.join(ps.abspath(), path)\n\nNameError: name 'os' is not defined\n",
          "name": "razor.flow.executors:STDIn_2",
          "pathname": "/usr/local/lib/python3.7/dist-packages/razor/flow/executors.py",
          "process": 704,
          "processName": "STDIn_2",
          "thread": 139645501482816,
          "threadName": "MainThread"
         },
         {
          "asctime": "2021-03-16 09:11:22,581",
          "exc_info": null,
          "extra": {},
          "filename": "executors.py",
          "funcName": "_execute_",
          "levelname": "ERROR",
          "lineno": 277,
          "message": "Block: `STDIn_1`: Unhandled Exception. All outputs from this block will be terminated. This may cause successor blocks to fail and pipeline to terminate incorrectly.",
          "name": "razor.flow.executors:STDIn_1",
          "pathname": "/usr/local/lib/python3.7/dist-packages/razor/flow/executors.py",
          "process": 697,
          "processName": "STDIn_1",
          "thread": 139645501482816,
          "threadName": "MainThread"
         },
         {
          "asctime": "2021-03-16 09:11:22,583",
          "exc_info": "Traceback (most recent call last):\n\n  File \"/usr/local/lib/python3.7/dist-packages/razor/flow/executors.py\", line 267, in _execute_\n    self._init_execution(exec_event, engine_flag)\n\n  File \"/usr/local/lib/python3.7/dist-packages/razor/flow/executors.py\", line 216, in _init_execution\n    self.block.run()\n\n  File \"<ipython-input-3-06fc944c9848>\", line 7, in run\n    df = pd.read_parquet(project_space_path(self.filename))\n\n  File \"<ipython-input-2-2ab01686fb97>\", line 3, in project_space_path\n    return os.path.join(ps.abspath(), path)\n\nNameError: name 'os' is not defined\n",
          "extra": {},
          "filename": "executors.py",
          "funcName": "_execute_",
          "levelname": "ERROR",
          "lineno": 278,
          "message": "Traceback (most recent call last):\n\n  File \"/usr/local/lib/python3.7/dist-packages/razor/flow/executors.py\", line 267, in _execute_\n    self._init_execution(exec_event, engine_flag)\n\n  File \"/usr/local/lib/python3.7/dist-packages/razor/flow/executors.py\", line 216, in _init_execution\n    self.block.run()\n\n  File \"<ipython-input-3-06fc944c9848>\", line 7, in run\n    df = pd.read_parquet(project_space_path(self.filename))\n\n  File \"<ipython-input-2-2ab01686fb97>\", line 3, in project_space_path\n    return os.path.join(ps.abspath(), path)\n\nNameError: name 'os' is not defined\n",
          "name": "razor.flow.executors:STDIn_1",
          "pathname": "/usr/local/lib/python3.7/dist-packages/razor/flow/executors.py",
          "process": 697,
          "processName": "STDIn_1",
          "thread": 139645501482816,
          "threadName": "MainThread"
         },
         {
          "asctime": "2021-03-16 09:11:22,593",
          "exc_info": null,
          "extra": {},
          "filename": "pipeline.py",
          "funcName": "error_handler",
          "levelname": "ERROR",
          "lineno": 235,
          "message": "Encountered error in block: STDIn_2; terminating pipeline process.",
          "name": "razor.flow.pipeline:mix_atomic_parallel",
          "pathname": "/usr/local/lib/python3.7/dist-packages/razor/flow/pipeline.py",
          "process": 665,
          "processName": "Pipeline Manager('mix_atomic_parallel')",
          "thread": 139645501482816,
          "threadName": "MainThread"
         },
         {
          "asctime": "2021-03-16 09:11:22,595",
          "exc_info": null,
          "extra": {},
          "filename": "pipeline.py",
          "funcName": "_terminate_blocks",
          "levelname": "WARNING",
          "lineno": 215,
          "message": "Terminating block executor: STDOut_1",
          "name": "razor.flow.pipeline:mix_atomic_parallel",
          "pathname": "/usr/local/lib/python3.7/dist-packages/razor/flow/pipeline.py",
          "process": 665,
          "processName": "Pipeline Manager('mix_atomic_parallel')",
          "thread": 139645501482816,
          "threadName": "MainThread"
         },
         {
          "asctime": "2021-03-16 09:11:22,601",
          "exc_info": null,
          "extra": {},
          "filename": "pipeline.py",
          "funcName": "_terminate_blocks",
          "levelname": "WARNING",
          "lineno": 223,
          "message": "terminated: STDOut_1, pid: 681, alive: False",
          "name": "razor.flow.pipeline:mix_atomic_parallel",
          "pathname": "/usr/local/lib/python3.7/dist-packages/razor/flow/pipeline.py",
          "process": 665,
          "processName": "Pipeline Manager('mix_atomic_parallel')",
          "thread": 139645501482816,
          "threadName": "MainThread"
         },
         {
          "asctime": "2021-03-16 09:11:22,602",
          "exc_info": null,
          "extra": {},
          "filename": "pipeline.py",
          "funcName": "_terminate_blocks",
          "levelname": "WARNING",
          "lineno": 215,
          "message": "Terminating block executor: DropAxisSum_1",
          "name": "razor.flow.pipeline:mix_atomic_parallel",
          "pathname": "/usr/local/lib/python3.7/dist-packages/razor/flow/pipeline.py",
          "process": 665,
          "processName": "Pipeline Manager('mix_atomic_parallel')",
          "thread": 139645501482816,
          "threadName": "MainThread"
         },
         {
          "asctime": "2021-03-16 09:11:22,609",
          "exc_info": null,
          "extra": {},
          "filename": "pipeline.py",
          "funcName": "_terminate_blocks",
          "levelname": "WARNING",
          "lineno": 223,
          "message": "terminated: DropAxisSum_1, pid: 683, alive: False",
          "name": "razor.flow.pipeline:mix_atomic_parallel",
          "pathname": "/usr/local/lib/python3.7/dist-packages/razor/flow/pipeline.py",
          "process": 665,
          "processName": "Pipeline Manager('mix_atomic_parallel')",
          "thread": 139645501482816,
          "threadName": "MainThread"
         },
         {
          "asctime": "2021-03-16 09:11:22,609",
          "exc_info": null,
          "extra": {},
          "filename": "pipeline.py",
          "funcName": "_terminate_blocks",
          "levelname": "WARNING",
          "lineno": 215,
          "message": "Terminating block executor: STDOut_2",
          "name": "razor.flow.pipeline:mix_atomic_parallel",
          "pathname": "/usr/local/lib/python3.7/dist-packages/razor/flow/pipeline.py",
          "process": 665,
          "processName": "Pipeline Manager('mix_atomic_parallel')",
          "thread": 139645501482816,
          "threadName": "MainThread"
         },
         {
          "asctime": "2021-03-16 09:11:22,616",
          "exc_info": null,
          "extra": {},
          "filename": "pipeline.py",
          "funcName": "_terminate_blocks",
          "levelname": "WARNING",
          "lineno": 223,
          "message": "terminated: STDOut_2, pid: 685, alive: False",
          "name": "razor.flow.pipeline:mix_atomic_parallel",
          "pathname": "/usr/local/lib/python3.7/dist-packages/razor/flow/pipeline.py",
          "process": 665,
          "processName": "Pipeline Manager('mix_atomic_parallel')",
          "thread": 139645501482816,
          "threadName": "MainThread"
         },
         {
          "asctime": "2021-03-16 09:11:22,616",
          "exc_info": null,
          "extra": {},
          "filename": "pipeline.py",
          "funcName": "_terminate_blocks",
          "levelname": "WARNING",
          "lineno": 215,
          "message": "Terminating block executor: DropAxisSum_2",
          "name": "razor.flow.pipeline:mix_atomic_parallel",
          "pathname": "/usr/local/lib/python3.7/dist-packages/razor/flow/pipeline.py",
          "process": 665,
          "processName": "Pipeline Manager('mix_atomic_parallel')",
          "thread": 139645501482816,
          "threadName": "MainThread"
         },
         {
          "asctime": "2021-03-16 09:11:22,622",
          "exc_info": null,
          "extra": {},
          "filename": "pipeline.py",
          "funcName": "_terminate_blocks",
          "levelname": "WARNING",
          "lineno": 223,
          "message": "terminated: DropAxisSum_2, pid: 687, alive: False",
          "name": "razor.flow.pipeline:mix_atomic_parallel",
          "pathname": "/usr/local/lib/python3.7/dist-packages/razor/flow/pipeline.py",
          "process": 665,
          "processName": "Pipeline Manager('mix_atomic_parallel')",
          "thread": 139645501482816,
          "threadName": "MainThread"
         },
         {
          "asctime": "2021-03-16 09:11:22,623",
          "exc_info": null,
          "extra": {},
          "filename": "pipeline.py",
          "funcName": "_terminate_blocks",
          "levelname": "WARNING",
          "lineno": 215,
          "message": "Terminating block executor: SumAxisSum_1",
          "name": "razor.flow.pipeline:mix_atomic_parallel",
          "pathname": "/usr/local/lib/python3.7/dist-packages/razor/flow/pipeline.py",
          "process": 665,
          "processName": "Pipeline Manager('mix_atomic_parallel')",
          "thread": 139645501482816,
          "threadName": "MainThread"
         },
         {
          "asctime": "2021-03-16 09:11:22,630",
          "exc_info": null,
          "extra": {},
          "filename": "pipeline.py",
          "funcName": "_terminate_blocks",
          "levelname": "WARNING",
          "lineno": 223,
          "message": "terminated: SumAxisSum_1, pid: 689, alive: False",
          "name": "razor.flow.pipeline:mix_atomic_parallel",
          "pathname": "/usr/local/lib/python3.7/dist-packages/razor/flow/pipeline.py",
          "process": 665,
          "processName": "Pipeline Manager('mix_atomic_parallel')",
          "thread": 139645501482816,
          "threadName": "MainThread"
         },
         {
          "asctime": "2021-03-16 09:11:22,630",
          "exc_info": null,
          "extra": {},
          "filename": "pipeline.py",
          "funcName": "_terminate_blocks",
          "levelname": "WARNING",
          "lineno": 215,
          "message": "Terminating block executor: AxisSum_1",
          "name": "razor.flow.pipeline:mix_atomic_parallel",
          "pathname": "/usr/local/lib/python3.7/dist-packages/razor/flow/pipeline.py",
          "process": 665,
          "processName": "Pipeline Manager('mix_atomic_parallel')",
          "thread": 139645501482816,
          "threadName": "MainThread"
         },
         {
          "asctime": "2021-03-16 09:11:22,636",
          "exc_info": null,
          "extra": {},
          "filename": "pipeline.py",
          "funcName": "_terminate_blocks",
          "levelname": "WARNING",
          "lineno": 223,
          "message": "terminated: AxisSum_1, pid: 691, alive: False",
          "name": "razor.flow.pipeline:mix_atomic_parallel",
          "pathname": "/usr/local/lib/python3.7/dist-packages/razor/flow/pipeline.py",
          "process": 665,
          "processName": "Pipeline Manager('mix_atomic_parallel')",
          "thread": 139645501482816,
          "threadName": "MainThread"
         },
         {
          "asctime": "2021-03-16 09:11:22,637",
          "exc_info": null,
          "extra": {},
          "filename": "pipeline.py",
          "funcName": "_terminate_blocks",
          "levelname": "WARNING",
          "lineno": 215,
          "message": "Terminating block executor: STDIn_1",
          "name": "razor.flow.pipeline:mix_atomic_parallel",
          "pathname": "/usr/local/lib/python3.7/dist-packages/razor/flow/pipeline.py",
          "process": 665,
          "processName": "Pipeline Manager('mix_atomic_parallel')",
          "thread": 139645501482816,
          "threadName": "MainThread"
         },
         {
          "asctime": "2021-03-16 09:11:22,655",
          "exc_info": null,
          "extra": {},
          "filename": "pipeline.py",
          "funcName": "_terminate_blocks",
          "levelname": "WARNING",
          "lineno": 223,
          "message": "terminated: STDIn_1, pid: 697, alive: False",
          "name": "razor.flow.pipeline:mix_atomic_parallel",
          "pathname": "/usr/local/lib/python3.7/dist-packages/razor/flow/pipeline.py",
          "process": 665,
          "processName": "Pipeline Manager('mix_atomic_parallel')",
          "thread": 139645501482816,
          "threadName": "MainThread"
         },
         {
          "asctime": "2021-03-16 09:11:22,655",
          "exc_info": null,
          "extra": {},
          "filename": "pipeline.py",
          "funcName": "_terminate_blocks",
          "levelname": "WARNING",
          "lineno": 215,
          "message": "Terminating block executor: AxisSum_2",
          "name": "razor.flow.pipeline:mix_atomic_parallel",
          "pathname": "/usr/local/lib/python3.7/dist-packages/razor/flow/pipeline.py",
          "process": 665,
          "processName": "Pipeline Manager('mix_atomic_parallel')",
          "thread": 139645501482816,
          "threadName": "MainThread"
         },
         {
          "asctime": "2021-03-16 09:11:22,661",
          "exc_info": null,
          "extra": {},
          "filename": "pipeline.py",
          "funcName": "_terminate_blocks",
          "levelname": "WARNING",
          "lineno": 223,
          "message": "terminated: AxisSum_2, pid: 702, alive: False",
          "name": "razor.flow.pipeline:mix_atomic_parallel",
          "pathname": "/usr/local/lib/python3.7/dist-packages/razor/flow/pipeline.py",
          "process": 665,
          "processName": "Pipeline Manager('mix_atomic_parallel')",
          "thread": 139645501482816,
          "threadName": "MainThread"
         },
         {
          "asctime": "2021-03-16 09:11:22,662",
          "exc_info": null,
          "extra": {},
          "filename": "pipeline.py",
          "funcName": "_terminate_blocks",
          "levelname": "WARNING",
          "lineno": 215,
          "message": "Terminating block executor: STDIn_2",
          "name": "razor.flow.pipeline:mix_atomic_parallel",
          "pathname": "/usr/local/lib/python3.7/dist-packages/razor/flow/pipeline.py",
          "process": 665,
          "processName": "Pipeline Manager('mix_atomic_parallel')",
          "thread": 139645501482816,
          "threadName": "MainThread"
         },
         {
          "asctime": "2021-03-16 09:11:22,669",
          "exc_info": null,
          "extra": {},
          "filename": "pipeline.py",
          "funcName": "_terminate_blocks",
          "levelname": "WARNING",
          "lineno": 223,
          "message": "terminated: STDIn_2, pid: 704, alive: False",
          "name": "razor.flow.pipeline:mix_atomic_parallel",
          "pathname": "/usr/local/lib/python3.7/dist-packages/razor/flow/pipeline.py",
          "process": 665,
          "processName": "Pipeline Manager('mix_atomic_parallel')",
          "thread": 139645501482816,
          "threadName": "MainThread"
         }
        ],
        "meta": {
         "block_status": {
          "AxisSum_1": "STOPPED",
          "AxisSum_2": "STOPPED",
          "DropAxisSum_1": "STOPPED",
          "DropAxisSum_2": "STOPPED",
          "STDIn_1": "STOPPED",
          "STDIn_2": "ERROR",
          "STDOut_1": "STOPPED",
          "STDOut_2": "STOPPED",
          "SumAxisSum_1": "STOPPED"
         },
         "blocks": [
          {
           "class_name": "STDOut",
           "fullname": ".STDOut",
           "id": "132f3515-5a1e-4568-ac64-e1b76abdef76",
           "inputs": [
            {
             "dataType": null,
             "default": null,
             "flow": "atomic",
             "help": null,
             "isdict": false,
             "islist": false,
             "label": "in_ds",
             "meta": {},
             "name": "in_ds",
             "series": false,
             "type": "Any",
             "type_check": true
            },
            {
             "dataType": "string",
             "default": "",
             "flow": "atomic",
             "help": null,
             "isdict": false,
             "islist": false,
             "label": "out_filename",
             "meta": {},
             "name": "out_filename",
             "series": false,
             "type": "str",
             "type_check": true
            }
           ],
           "outputs": [],
           "overwritten": false,
           "published": false,
           "var_names": [
            "STDOut"
           ]
          },
          {
           "class_name": "AxisSum",
           "fullname": ".AxisSum",
           "id": "40297ce4-073c-439e-bfe8-013038eec072",
           "inputs": [
            {
             "dataType": null,
             "default": null,
             "flow": "atomic",
             "help": null,
             "isdict": false,
             "islist": false,
             "label": "in_ds",
             "meta": {},
             "name": "in_ds",
             "series": false,
             "type": "Any",
             "type_check": true
            }
           ],
           "outputs": [
            {
             "flow": "atomic",
             "help": null,
             "label": "out_ds",
             "meta": {},
             "name": "out_ds",
             "series": false,
             "type": "Any",
             "type_check": true
            }
           ],
           "overwritten": false,
           "published": false,
           "var_names": [
            "AxisSum"
           ]
          },
          {
           "class_name": "DropAxisSum",
           "fullname": ".DropAxisSum",
           "id": "874a0853-a8b7-491b-9751-3c67c42da35b",
           "inputs": [
            {
             "dataType": null,
             "default": null,
             "flow": "atomic",
             "help": null,
             "isdict": false,
             "islist": false,
             "label": "in_ds",
             "meta": {},
             "name": "in_ds",
             "series": false,
             "type": "Any",
             "type_check": true
            }
           ],
           "outputs": [
            {
             "flow": "atomic",
             "help": null,
             "label": "out_ds",
             "meta": {},
             "name": "out_ds",
             "series": false,
             "type": "Any",
             "type_check": true
            }
           ],
           "overwritten": false,
           "published": false,
           "var_names": [
            "DropAxisSum"
           ]
          },
          {
           "class_name": "STDIn",
           "fullname": ".STDIn",
           "id": "5251da6c-bff1-49b0-b200-598bd68b599c",
           "inputs": [
            {
             "dataType": "string",
             "default": "",
             "flow": "atomic",
             "help": null,
             "isdict": false,
             "islist": false,
             "label": "filename",
             "meta": {},
             "name": "filename",
             "series": false,
             "type": "str",
             "type_check": true
            }
           ],
           "outputs": [
            {
             "flow": "atomic",
             "help": null,
             "label": "out_ds",
             "meta": {},
             "name": "out_ds",
             "series": false,
             "type": "Any",
             "type_check": true
            }
           ],
           "overwritten": false,
           "published": false,
           "var_names": [
            "STDIn"
           ]
          },
          {
           "class_name": "SumAxisSum",
           "fullname": ".SumAxisSum",
           "id": "75e23991-b9ff-4186-a8db-552857c77dbe",
           "inputs": [
            {
             "dataType": null,
             "default": null,
             "flow": "atomic",
             "help": null,
             "isdict": false,
             "islist": false,
             "label": "s_in_ds",
             "meta": {},
             "name": "s_in_ds",
             "series": false,
             "type": "Any",
             "type_check": true
            },
            {
             "dataType": null,
             "default": null,
             "flow": "atomic",
             "help": null,
             "isdict": false,
             "islist": false,
             "label": "l_in_ds",
             "meta": {},
             "name": "l_in_ds",
             "series": false,
             "type": "Any",
             "type_check": true
            }
           ],
           "outputs": [
            {
             "flow": "atomic",
             "help": null,
             "label": "s_out_ds",
             "meta": {},
             "name": "s_out_ds",
             "series": false,
             "type": "Any",
             "type_check": true
            },
            {
             "flow": "atomic",
             "help": null,
             "label": "l_out_ds",
             "meta": {},
             "name": "l_out_ds",
             "series": false,
             "type": "Any",
             "type_check": true
            }
           ],
           "overwritten": false,
           "published": false,
           "var_names": [
            "SumAxisSum"
           ]
          }
         ],
         "connections": [
          {
           "id": "921c6b45-335e-4356-9d8d-4d676b473e56",
           "source": {
            "adapter": false,
            "instance_id": "5e092887-4e5c-4a5f-8843-0c0b48c423ce",
            "name": "out_ds"
           },
           "target": {
            "adapter": false,
            "instance_id": "99dffb02-c519-4604-a7a5-f06d9897ac14",
            "name": "in_ds"
           }
          },
          {
           "id": "4cfd73f6-9a8e-4848-97e4-203c0baed5c1",
           "source": {
            "adapter": false,
            "instance_id": "9a6b5d03-c520-4a34-b09c-669ca8057162",
            "name": "l_out_ds"
           },
           "target": {
            "adapter": false,
            "instance_id": "9f51e67b-e8fa-4278-af38-23788b3c9887",
            "name": "in_ds"
           }
          },
          {
           "id": "a1b813d9-aaef-4cea-a81f-4f61a959afdc",
           "source": {
            "adapter": false,
            "instance_id": "9f51e67b-e8fa-4278-af38-23788b3c9887",
            "name": "out_ds"
           },
           "target": {
            "adapter": false,
            "instance_id": "b3de9e8a-0a1a-4408-9b19-3eae71000571",
            "name": "in_ds"
           }
          },
          {
           "id": "e8aaf6c8-6fd2-45bb-b5cf-44e301445789",
           "source": {
            "adapter": false,
            "instance_id": "a66032fc-f5e7-473c-9760-d0bfbf1b6f2b",
            "name": "out_ds"
           },
           "target": {
            "adapter": false,
            "instance_id": "9a6b5d03-c520-4a34-b09c-669ca8057162",
            "name": "s_in_ds"
           }
          },
          {
           "id": "3bf43b72-2810-4b72-ad3a-4cb2b62b56d2",
           "source": {
            "adapter": false,
            "instance_id": "90131161-fb72-4857-8276-18bdf671dc91",
            "name": "out_ds"
           },
           "target": {
            "adapter": false,
            "instance_id": "a66032fc-f5e7-473c-9760-d0bfbf1b6f2b",
            "name": "in_ds"
           }
          },
          {
           "id": "198b6174-4e39-408f-bdfa-280a9964d692",
           "source": {
            "adapter": false,
            "instance_id": "1c2a92d1-65e7-42db-830d-567841f3182e",
            "name": "out_ds"
           },
           "target": {
            "adapter": false,
            "instance_id": "7c9deac0-0483-4743-b29f-fb899a26d77b",
            "name": "in_ds"
           }
          },
          {
           "id": "2a79c1c7-8315-4d7d-aaa8-06a79a59a033",
           "source": {
            "adapter": false,
            "instance_id": "9a6b5d03-c520-4a34-b09c-669ca8057162",
            "name": "s_out_ds"
           },
           "target": {
            "adapter": false,
            "instance_id": "5e092887-4e5c-4a5f-8843-0c0b48c423ce",
            "name": "in_ds"
           }
          },
          {
           "id": "e2d0058b-f8fa-4c83-9c64-cfb4c0446cce",
           "source": {
            "adapter": false,
            "instance_id": "7c9deac0-0483-4743-b29f-fb899a26d77b",
            "name": "out_ds"
           },
           "target": {
            "adapter": false,
            "instance_id": "9a6b5d03-c520-4a34-b09c-669ca8057162",
            "name": "l_in_ds"
           }
          }
         ],
         "end": 1615885882.8465526,
         "id": "d636cf1f-63bf-4476-bd49-1fca55051910",
         "instances": [
          {
           "block_class": "132f3515-5a1e-4568-ac64-e1b76abdef76",
           "id": "99dffb02-c519-4604-a7a5-f06d9897ac14",
           "name": "STDOut_1",
           "var_names": [
            "s_stdout"
           ]
          },
          {
           "block_class": "874a0853-a8b7-491b-9751-3c67c42da35b",
           "id": "5e092887-4e5c-4a5f-8843-0c0b48c423ce",
           "name": "DropAxisSum_1",
           "var_names": [
            "s_drop_axis_sum"
           ]
          },
          {
           "block_class": "75e23991-b9ff-4186-a8db-552857c77dbe",
           "id": "9a6b5d03-c520-4a34-b09c-669ca8057162",
           "name": "SumAxisSum_1",
           "var_names": [
            "sum_axis_sum"
           ]
          },
          {
           "block_class": "40297ce4-073c-439e-bfe8-013038eec072",
           "id": "a66032fc-f5e7-473c-9760-d0bfbf1b6f2b",
           "name": "AxisSum_1",
           "var_names": [
            "s_axis_sum"
           ]
          },
          {
           "block_class": "5251da6c-bff1-49b0-b200-598bd68b599c",
           "id": "90131161-fb72-4857-8276-18bdf671dc91",
           "name": "STDIn_1",
           "var_names": [
            "s_std_in"
           ]
          },
          {
           "block_class": "40297ce4-073c-439e-bfe8-013038eec072",
           "id": "7c9deac0-0483-4743-b29f-fb899a26d77b",
           "name": "AxisSum_2",
           "var_names": [
            "l_axis_sum"
           ]
          },
          {
           "block_class": "5251da6c-bff1-49b0-b200-598bd68b599c",
           "id": "1c2a92d1-65e7-42db-830d-567841f3182e",
           "name": "STDIn_2",
           "var_names": [
            "l_std_in"
           ]
          },
          {
           "block_class": "132f3515-5a1e-4568-ac64-e1b76abdef76",
           "id": "b3de9e8a-0a1a-4408-9b19-3eae71000571",
           "name": "STDOut_2",
           "var_names": [
            "l_stdout"
           ]
          },
          {
           "block_class": "874a0853-a8b7-491b-9751-3c67c42da35b",
           "id": "9f51e67b-e8fa-4278-af38-23788b3c9887",
           "name": "DropAxisSum_2",
           "var_names": [
            "l_drop_axis_sum"
           ]
          }
         ],
         "log_level": 20,
         "name": "mix_atomic_parallel",
         "start": 1615885881.5549161,
         "status": "ERROR",
         "system_logs": true,
         "var_names": []
        },
        "metrics": {},
        "runtime": {
         "AxisSum_1": {
          "end": 1615885882.6307485,
          "load": 1615885882.1149647,
          "start": 1615885882.415287
         },
         "AxisSum_2": {
          "end": 1615885882.6554704,
          "load": 1615885882.162637,
          "start": 1615885882.4195607
         },
         "DropAxisSum_1": {
          "end": 1615885882.6022356,
          "load": 1615885882.0788393,
          "start": 1615885882.4115753
         },
         "DropAxisSum_2": {
          "end": 1615885882.6167412,
          "load": 1615885882.096503,
          "start": 1615885882.3936026
         },
         "STDIn_1": {
          "end": 1615885882.6372962,
          "load": 1615885882.1513395,
          "start": 1615885882.4178007
         },
         "STDIn_2": {
          "end": 1615885882.6625822,
          "load": 1615885882.1720848,
          "start": 1615885882.42157
         },
         "STDOut_1": {
          "end": 1615885882.5952008,
          "load": 1615885882.0696046,
          "start": 1615885882.390035
         },
         "STDOut_2": {
          "end": 1615885882.610011,
          "load": 1615885882.08741,
          "start": 1615885882.3918045
         },
         "SumAxisSum_1": {
          "end": 1615885882.6232574,
          "load": 1615885882.1056392,
          "start": 1615885882.4134557
         }
        }
       },
       "store_in_notebook": true
      }
     },
     "output_type": "display_data"
    },
    {
     "ename": "NameError",
     "evalue": "name 'os' is not defined",
     "output_type": "error",
     "traceback": [
      "\u001b[0;31m---------------------------------------------------------------------------\u001b[0m",
      "\u001b[0;31mNameError\u001b[0m                                 Traceback (most recent call last)",
      "\u001b[0;32m<ipython-input-5-e4abd8394ba2>\u001b[0m in \u001b[0;36m<module>\u001b[0;34m\u001b[0m\n\u001b[0;32m----> 1\u001b[0;31m \u001b[0mpipeline\u001b[0m\u001b[0;34m.\u001b[0m\u001b[0mexecute\u001b[0m\u001b[0;34m(\u001b[0m\u001b[0;34m)\u001b[0m\u001b[0;34m\u001b[0m\u001b[0;34m\u001b[0m\u001b[0m\n\u001b[0m",
      "\u001b[0;32m/usr/local/lib/python3.7/dist-packages/razor/flow/pipeline.py\u001b[0m in \u001b[0;36mexecute\u001b[0;34m(self, wait, inputs, outputs, io_port, default_executor, log_path, log_level, system_logs, terminate_on_exception, engine_config)\u001b[0m\n\u001b[1;32m    791\u001b[0m                     \u001b[0mself\u001b[0m\u001b[0;34m.\u001b[0m\u001b[0mlogger\u001b[0m\u001b[0;34m.\u001b[0m\u001b[0merror\u001b[0m\u001b[0;34m(\u001b[0m\u001b[0;34m'\\n'\u001b[0m\u001b[0;34m.\u001b[0m\u001b[0mjoin\u001b[0m\u001b[0;34m(\u001b[0m\u001b[0mtraceback\u001b[0m\u001b[0;34m.\u001b[0m\u001b[0mformat_exception\u001b[0m\u001b[0;34m(\u001b[0m\u001b[0mexc_class\u001b[0m\u001b[0;34m,\u001b[0m \u001b[0mexc\u001b[0m\u001b[0;34m,\u001b[0m \u001b[0mtb\u001b[0m\u001b[0;34m)\u001b[0m\u001b[0;34m)\u001b[0m\u001b[0;34m)\u001b[0m\u001b[0;34m\u001b[0m\u001b[0;34m\u001b[0m\u001b[0m\n\u001b[1;32m    792\u001b[0m                     \u001b[0mself\u001b[0m\u001b[0;34m.\u001b[0m\u001b[0mlogger\u001b[0m\u001b[0;34m.\u001b[0m\u001b[0mexception\u001b[0m\u001b[0;34m(\u001b[0m\u001b[0mexc\u001b[0m\u001b[0;34m)\u001b[0m\u001b[0;34m\u001b[0m\u001b[0;34m\u001b[0m\u001b[0m\n\u001b[0;32m--> 793\u001b[0;31m                     \u001b[0msix\u001b[0m\u001b[0;34m.\u001b[0m\u001b[0mreraise\u001b[0m\u001b[0;34m(\u001b[0m\u001b[0mexc_class\u001b[0m\u001b[0;34m,\u001b[0m \u001b[0mexc\u001b[0m\u001b[0;34m,\u001b[0m \u001b[0mtb\u001b[0m\u001b[0;34m)\u001b[0m\u001b[0;34m\u001b[0m\u001b[0;34m\u001b[0m\u001b[0m\n\u001b[0m\u001b[1;32m    794\u001b[0m             \u001b[0mself\u001b[0m\u001b[0;34m.\u001b[0m\u001b[0mpipeline_process\u001b[0m\u001b[0;34m.\u001b[0m\u001b[0mexit\u001b[0m\u001b[0;34m(\u001b[0m\u001b[0;34m)\u001b[0m\u001b[0;34m\u001b[0m\u001b[0;34m\u001b[0m\u001b[0m\n\u001b[1;32m    795\u001b[0m \u001b[0;34m\u001b[0m\u001b[0m\n",
      "\u001b[0;32m/usr/local/lib/python3.7/dist-packages/six.py\u001b[0m in \u001b[0;36mreraise\u001b[0;34m(tp, value, tb)\u001b[0m\n\u001b[1;32m    700\u001b[0m                 \u001b[0mvalue\u001b[0m \u001b[0;34m=\u001b[0m \u001b[0mtp\u001b[0m\u001b[0;34m(\u001b[0m\u001b[0;34m)\u001b[0m\u001b[0;34m\u001b[0m\u001b[0;34m\u001b[0m\u001b[0m\n\u001b[1;32m    701\u001b[0m             \u001b[0;32mif\u001b[0m \u001b[0mvalue\u001b[0m\u001b[0;34m.\u001b[0m\u001b[0m__traceback__\u001b[0m \u001b[0;32mis\u001b[0m \u001b[0;32mnot\u001b[0m \u001b[0mtb\u001b[0m\u001b[0;34m:\u001b[0m\u001b[0;34m\u001b[0m\u001b[0;34m\u001b[0m\u001b[0m\n\u001b[0;32m--> 702\u001b[0;31m                 \u001b[0;32mraise\u001b[0m \u001b[0mvalue\u001b[0m\u001b[0;34m.\u001b[0m\u001b[0mwith_traceback\u001b[0m\u001b[0;34m(\u001b[0m\u001b[0mtb\u001b[0m\u001b[0;34m)\u001b[0m\u001b[0;34m\u001b[0m\u001b[0;34m\u001b[0m\u001b[0m\n\u001b[0m\u001b[1;32m    703\u001b[0m             \u001b[0;32mraise\u001b[0m \u001b[0mvalue\u001b[0m\u001b[0;34m\u001b[0m\u001b[0;34m\u001b[0m\u001b[0m\n\u001b[1;32m    704\u001b[0m         \u001b[0;32mfinally\u001b[0m\u001b[0;34m:\u001b[0m\u001b[0;34m\u001b[0m\u001b[0;34m\u001b[0m\u001b[0m\n",
      "\u001b[0;32m/usr/local/lib/python3.7/dist-packages/razor/flow/executors.py\u001b[0m in \u001b[0;36m_execute_\u001b[0;34m()\u001b[0m\n\u001b[1;32m    265\u001b[0m                 \u001b[0mself\u001b[0m\u001b[0;34m.\u001b[0m\u001b[0m_init_senders\u001b[0m\u001b[0;34m(\u001b[0m\u001b[0moutput_topics\u001b[0m\u001b[0;34m,\u001b[0m \u001b[0mevent_sender\u001b[0m\u001b[0;34m,\u001b[0m \u001b[0msender_lock\u001b[0m\u001b[0;34m,\u001b[0m \u001b[0mio_port\u001b[0m\u001b[0;34m,\u001b[0m \u001b[0mengine_flag\u001b[0m\u001b[0;34m,\u001b[0m \u001b[0mhost_id\u001b[0m\u001b[0;34m)\u001b[0m\u001b[0;34m\u001b[0m\u001b[0;34m\u001b[0m\u001b[0m\n\u001b[1;32m    266\u001b[0m                 \u001b[0mself\u001b[0m\u001b[0;34m.\u001b[0m\u001b[0m_init_services\u001b[0m\u001b[0;34m(\u001b[0m\u001b[0;34m)\u001b[0m\u001b[0;34m\u001b[0m\u001b[0;34m\u001b[0m\u001b[0m\n\u001b[0;32m--> 267\u001b[0;31m                 \u001b[0mself\u001b[0m\u001b[0;34m.\u001b[0m\u001b[0m_init_execution\u001b[0m\u001b[0;34m(\u001b[0m\u001b[0mexec_event\u001b[0m\u001b[0;34m,\u001b[0m \u001b[0mengine_flag\u001b[0m\u001b[0;34m)\u001b[0m\u001b[0;34m\u001b[0m\u001b[0;34m\u001b[0m\u001b[0m\n\u001b[0m\u001b[1;32m    268\u001b[0m                 \u001b[0mself\u001b[0m\u001b[0;34m.\u001b[0m\u001b[0m_close_senders\u001b[0m\u001b[0;34m(\u001b[0m\u001b[0;34m)\u001b[0m\u001b[0;34m\u001b[0m\u001b[0;34m\u001b[0m\u001b[0m\n\u001b[1;32m    269\u001b[0m         \u001b[0;32mexcept\u001b[0m \u001b[0mException\u001b[0m\u001b[0;34m:\u001b[0m\u001b[0;34m\u001b[0m\u001b[0;34m\u001b[0m\u001b[0m\n",
      "\u001b[0;32m/usr/local/lib/python3.7/dist-packages/razor/flow/executors.py\u001b[0m in \u001b[0;36m_init_execution\u001b[0;34m()\u001b[0m\n\u001b[1;32m    214\u001b[0m         \u001b[0;32mwith\u001b[0m \u001b[0mcontextlib\u001b[0m\u001b[0;34m.\u001b[0m\u001b[0mredirect_stdout\u001b[0m\u001b[0;34m(\u001b[0m\u001b[0mstdout_logger\u001b[0m\u001b[0;34m)\u001b[0m\u001b[0;34m,\u001b[0m \u001b[0mcontextlib\u001b[0m\u001b[0;34m.\u001b[0m\u001b[0mredirect_stderr\u001b[0m\u001b[0;34m(\u001b[0m\u001b[0mstderr_logger\u001b[0m\u001b[0;34m)\u001b[0m\u001b[0;34m:\u001b[0m\u001b[0;34m\u001b[0m\u001b[0;34m\u001b[0m\u001b[0m\n\u001b[1;32m    215\u001b[0m             \u001b[0mself\u001b[0m\u001b[0;34m.\u001b[0m\u001b[0mblock\u001b[0m\u001b[0;34m.\u001b[0m\u001b[0m__is_executing__\u001b[0m \u001b[0;34m=\u001b[0m \u001b[0;32mTrue\u001b[0m\u001b[0;34m\u001b[0m\u001b[0;34m\u001b[0m\u001b[0m\n\u001b[0;32m--> 216\u001b[0;31m             \u001b[0mself\u001b[0m\u001b[0;34m.\u001b[0m\u001b[0mblock\u001b[0m\u001b[0;34m.\u001b[0m\u001b[0mrun\u001b[0m\u001b[0;34m(\u001b[0m\u001b[0;34m)\u001b[0m\u001b[0;34m\u001b[0m\u001b[0;34m\u001b[0m\u001b[0m\n\u001b[0m\u001b[1;32m    217\u001b[0m \u001b[0;34m\u001b[0m\u001b[0m\n\u001b[1;32m    218\u001b[0m     \u001b[0;32mdef\u001b[0m \u001b[0m_init_services\u001b[0m\u001b[0;34m(\u001b[0m\u001b[0mself\u001b[0m\u001b[0;34m)\u001b[0m\u001b[0;34m:\u001b[0m\u001b[0;34m\u001b[0m\u001b[0;34m\u001b[0m\u001b[0m\n",
      "\u001b[0;32m<ipython-input-3-06fc944c9848>\u001b[0m in \u001b[0;36mrun\u001b[0;34m()\u001b[0m\n\u001b[1;32m      5\u001b[0m \u001b[0;34m\u001b[0m\u001b[0m\n\u001b[1;32m      6\u001b[0m     \u001b[0;32mdef\u001b[0m \u001b[0mrun\u001b[0m\u001b[0;34m(\u001b[0m\u001b[0mself\u001b[0m\u001b[0;34m)\u001b[0m\u001b[0;34m:\u001b[0m\u001b[0;34m\u001b[0m\u001b[0;34m\u001b[0m\u001b[0m\n\u001b[0;32m----> 7\u001b[0;31m         \u001b[0mdf\u001b[0m \u001b[0;34m=\u001b[0m \u001b[0mpd\u001b[0m\u001b[0;34m.\u001b[0m\u001b[0mread_parquet\u001b[0m\u001b[0;34m(\u001b[0m\u001b[0mproject_space_path\u001b[0m\u001b[0;34m(\u001b[0m\u001b[0mself\u001b[0m\u001b[0;34m.\u001b[0m\u001b[0mfilename\u001b[0m\u001b[0;34m)\u001b[0m\u001b[0;34m)\u001b[0m\u001b[0;34m\u001b[0m\u001b[0;34m\u001b[0m\u001b[0m\n\u001b[0m\u001b[1;32m      8\u001b[0m \u001b[0;34m\u001b[0m\u001b[0m\n\u001b[1;32m      9\u001b[0m         \u001b[0mlogger\u001b[0m\u001b[0;34m.\u001b[0m\u001b[0minfo\u001b[0m\u001b[0;34m(\u001b[0m\u001b[0mdf\u001b[0m\u001b[0;34m.\u001b[0m\u001b[0mshape\u001b[0m\u001b[0;34m)\u001b[0m\u001b[0;34m\u001b[0m\u001b[0;34m\u001b[0m\u001b[0m\n",
      "\u001b[0;32m<ipython-input-2-2ab01686fb97>\u001b[0m in \u001b[0;36mproject_space_path\u001b[0;34m()\u001b[0m\n\u001b[1;32m      1\u001b[0m \u001b[0;32mdef\u001b[0m \u001b[0mproject_space_path\u001b[0m\u001b[0;34m(\u001b[0m\u001b[0mpath\u001b[0m\u001b[0;34m)\u001b[0m\u001b[0;34m:\u001b[0m\u001b[0;34m\u001b[0m\u001b[0;34m\u001b[0m\u001b[0m\n\u001b[1;32m      2\u001b[0m     \u001b[0mps\u001b[0m \u001b[0;34m=\u001b[0m \u001b[0mapi\u001b[0m\u001b[0;34m.\u001b[0m\u001b[0mdatasources\u001b[0m\u001b[0;34m(\u001b[0m\u001b[0;34m'Project Space'\u001b[0m\u001b[0;34m)\u001b[0m\u001b[0;34m\u001b[0m\u001b[0;34m\u001b[0m\u001b[0m\n\u001b[0;32m----> 3\u001b[0;31m     \u001b[0;32mreturn\u001b[0m \u001b[0mos\u001b[0m\u001b[0;34m.\u001b[0m\u001b[0mpath\u001b[0m\u001b[0;34m.\u001b[0m\u001b[0mjoin\u001b[0m\u001b[0;34m(\u001b[0m\u001b[0mps\u001b[0m\u001b[0;34m.\u001b[0m\u001b[0mabspath\u001b[0m\u001b[0;34m(\u001b[0m\u001b[0;34m)\u001b[0m\u001b[0;34m,\u001b[0m \u001b[0mpath\u001b[0m\u001b[0;34m)\u001b[0m\u001b[0;34m\u001b[0m\u001b[0;34m\u001b[0m\u001b[0m\n\u001b[0m",
      "\u001b[0;31mNameError\u001b[0m: name 'os' is not defined"
     ]
    }
   ],
   "source": [
    "pipeline.execute()"
   ]
  },
  {
   "cell_type": "code",
   "execution_count": null,
   "metadata": {},
   "outputs": [],
   "source": []
  },
  {
   "cell_type": "code",
   "execution_count": null,
   "metadata": {},
   "outputs": [],
   "source": []
  }
 ],
 "metadata": {
  "kernelspec": {
   "display_name": "Python 3",
   "language": "python",
   "name": "python3"
  },
  "language_info": {
   "codemirror_mode": {
    "name": "ipython",
    "version": 3
   },
   "file_extension": ".py",
   "mimetype": "text/x-python",
   "name": "python",
   "nbconvert_exporter": "python",
   "pygments_lexer": "ipython3",
   "version": "3.7.10"
  }
 },
 "nbformat": 4,
 "nbformat_minor": 4
}
