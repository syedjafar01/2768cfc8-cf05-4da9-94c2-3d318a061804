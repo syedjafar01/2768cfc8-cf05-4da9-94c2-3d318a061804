{
 "cells": [
  {
   "cell_type": "code",
   "execution_count": 1,
   "metadata": {},
   "outputs": [
    {
     "name": "stderr",
     "output_type": "stream",
     "text": [
      "/usr/local/lib/python3.7/dist-packages/snowflake/connector/options.py:78: UserWarning: You have an incompatible version of 'pyarrow' installed (3.0.0), please install a version that adheres to: 'pyarrow<0.18.0,>=0.17.0; extra == \"pandas\"'\n",
      "  warn_incompatible_dep('pyarrow', _installed_pyarrow_version.version, _expected_pyarrow_version)\n"
     ]
    },
    {
     "ename": "ModuleNotFoundError",
     "evalue": "No module named 'razor.project.blocks'",
     "output_type": "error",
     "traceback": [
      "\u001b[0;31m---------------------------------------------------------------------------\u001b[0m",
      "\u001b[0;31mModuleNotFoundError\u001b[0m                       Traceback (most recent call last)",
      "\u001b[0;32m<ipython-input-1-89322cf57297>\u001b[0m in \u001b[0;36m<module>\u001b[0;34m\u001b[0m\n\u001b[1;32m     11\u001b[0m \u001b[0;32mfrom\u001b[0m \u001b[0mrazor\u001b[0m\u001b[0;34m.\u001b[0m\u001b[0mapi\u001b[0m \u001b[0;32mimport\u001b[0m \u001b[0mblocks\u001b[0m\u001b[0;34m\u001b[0m\u001b[0;34m\u001b[0m\u001b[0m\n\u001b[1;32m     12\u001b[0m \u001b[0;34m\u001b[0m\u001b[0m\n\u001b[0;32m---> 13\u001b[0;31m \u001b[0;32mfrom\u001b[0m \u001b[0mrazor\u001b[0m\u001b[0;34m.\u001b[0m\u001b[0mproject\u001b[0m\u001b[0;34m.\u001b[0m\u001b[0mblocks\u001b[0m\u001b[0;34m.\u001b[0m\u001b[0msocket1\u001b[0m \u001b[0;32mimport\u001b[0m \u001b[0mSTDIn\u001b[0m\u001b[0;34m\u001b[0m\u001b[0;34m\u001b[0m\u001b[0m\n\u001b[0m\u001b[1;32m     14\u001b[0m \u001b[0;32mfrom\u001b[0m \u001b[0mrazor\u001b[0m\u001b[0;34m.\u001b[0m\u001b[0mproject\u001b[0m\u001b[0;34m.\u001b[0m\u001b[0mblocks\u001b[0m\u001b[0;34m.\u001b[0m\u001b[0msocket1\u001b[0m \u001b[0;32mimport\u001b[0m \u001b[0mSTDOut\u001b[0m\u001b[0;34m\u001b[0m\u001b[0;34m\u001b[0m\u001b[0m\n",
      "\u001b[0;31mModuleNotFoundError\u001b[0m: No module named 'razor.project.blocks'"
     ]
    }
   ],
   "source": [
    "import razor.flow as rf\n",
    "from razor import api\n",
    "\n",
    "import logging\n",
    "import time\n",
    "import typing as typ\n",
    "import pandas as pd\n",
    "import os\n",
    "\n",
    "from razor.api.core import BlockScope\n",
    "from razor.api import blocks\n",
    "\n",
    "from razor.project.blocks.socket1 import STDIn\n",
    "from razor.project.blocks.socket1 import STDOut\n"
   ]
  },
  {
   "cell_type": "code",
   "execution_count": null,
   "metadata": {},
   "outputs": [],
   "source": [
    "def project_space_path(path):\n",
    "    ps = api.datasources('Project Space')\n",
    "    return os.path.join(ps.abspath(), path)\n",
    "\n"
   ]
  },
  {
   "cell_type": "code",
   "execution_count": null,
   "metadata": {},
   "outputs": [],
   "source": [
    "# lib1 = razor.api.libraries('pyarrow')"
   ]
  },
  {
   "cell_type": "code",
   "execution_count": null,
   "metadata": {},
   "outputs": [],
   "source": [
    "# razor.api.libraries('pyarrow')"
   ]
  },
  {
   "cell_type": "code",
   "execution_count": null,
   "metadata": {},
   "outputs": [],
   "source": [
    "config = {'cores': 1, 'ram': 4096}\n",
    "\n",
    "\n",
    "size = '10MB'\n",
    "ip_filename = project_space_path(\"sdk_testbench/input_data/dummy_\"+size+\"_df.parquet\")\n",
    "op_filename = project_space_path(\"sdk_testbench/output_data/tc_01.parquet\")\n",
    "\n",
    "std_in = STDIn(filename=ip_filename)\n",
    "# std_in.executor = rf.ContainerExecutor(cores=config['cores'], memory=config['ram'])\n",
    "# std_in.out_ds = rf.Output.set(transport=rf.KafkaTransport)\n",
    "\n",
    "std_out = STDOut(in_ds=std_in.out_ds, out_filename=op_filename)\n",
    "# std_out.executor = rf.ContainerExecutor(cores=config['cores'], memory=config['ram'])\n",
    "\n",
    "pipeline = rf.Pipeline(name='test_pipeline', targets=[std_out])\n",
    "pipeline"
   ]
  },
  {
   "cell_type": "code",
   "execution_count": 6,
   "metadata": {},
   "outputs": [
    {
     "data": {
      "application/vnd.razorthink.run+monitor+json": "/tmp/tmp559e86nw/test_pipeline",
      "text/plain": [
       "<razor_tools.backend.ipython.mime.run_monitor.RunMonitor at 0x7fae07c87d90>"
      ]
     },
     "metadata": {
      "application/vnd.razorthink.run+monitor+json": {
       "run_data": {
        "apm": [
         {
          "cpu_percent": 0,
          "cpu_time": 0,
          "name": "STDOut_1",
          "real_mem": 149041152,
          "time": 1614943819.1561618
         },
         {
          "cpu_percent": 0,
          "cpu_time": 0,
          "name": "STDIn_1",
          "real_mem": 149102592,
          "time": 1614943819.1672752
         },
         {
          "cpu_percent": 0,
          "cpu_time": 0,
          "name": "STDOut_1",
          "real_mem": 149041152,
          "time": 1614943819.278888
         },
         {
          "cpu_percent": 0,
          "cpu_time": 0,
          "name": "STDIn_1",
          "real_mem": 149102592,
          "time": 1614943819.2900846
         },
         {
          "cpu_percent": 0,
          "cpu_time": 0,
          "name": "STDOut_1",
          "real_mem": 151257088,
          "time": 1614943819.4015276
         },
         {
          "cpu_percent": 0,
          "cpu_time": 0.02,
          "name": "STDIn_1",
          "real_mem": 151838720,
          "time": 1614943819.4125662
         },
         {
          "cpu_percent": 0,
          "cpu_time": 0,
          "name": "STDOut_1",
          "real_mem": 151257088,
          "time": 1614943819.5240903
         },
         {
          "cpu_percent": 98.8,
          "cpu_time": 0.11,
          "name": "STDIn_1",
          "real_mem": 212402176,
          "time": 1614943819.5350065
         },
         {
          "cpu_percent": 0,
          "cpu_time": 0.05,
          "name": "STDOut_1",
          "real_mem": 166846464,
          "time": 1614943819.6465518
         },
         {
          "cpu_percent": 0,
          "cpu_time": 0.14,
          "name": "STDIn_1",
          "real_mem": 216633344,
          "time": 1614943819.6575613
         },
         {
          "cpu_percent": 0,
          "cpu_time": 0.08,
          "name": "STDOut_1",
          "real_mem": 179843072,
          "time": 1614943819.7690735
         },
         {
          "cpu_percent": 0,
          "cpu_time": 0.08,
          "name": "STDOut_1",
          "real_mem": 179843072,
          "time": 1614943819.880865
         },
         {
          "cpu_percent": 0,
          "cpu_time": 0.12,
          "name": "STDOut_1",
          "real_mem": 186925056,
          "time": 1614943819.9924939
         },
         {
          "cpu_percent": 0,
          "cpu_time": 0.12,
          "name": "STDOut_1",
          "real_mem": 186925056,
          "time": 1614943820.1040993
         },
         {
          "cpu_percent": 0,
          "cpu_time": 0.12,
          "name": "STDOut_1",
          "real_mem": 186925056,
          "time": 1614943820.2156074
         },
         {
          "cpu_percent": 0,
          "cpu_time": 0.12,
          "name": "STDOut_1",
          "real_mem": 186925056,
          "time": 1614943820.3272302
         },
         {
          "cpu_percent": 0,
          "cpu_time": 0.12,
          "name": "STDOut_1",
          "real_mem": 186925056,
          "time": 1614943820.4393806
         }
        ],
        "logs": [
         {
          "asctime": "2021-03-05 11:30:18,362",
          "exc_info": null,
          "extra": {},
          "filename": "pipeline.py",
          "funcName": "_log_manager",
          "levelname": "INFO",
          "lineno": 413,
          "message": "writing logs to: /tmp/tmp559e86nw/test_pipeline",
          "name": "razor.flow.pipeline:test_pipeline",
          "pathname": "/usr/local/lib/python3.7/dist-packages/razor/flow/pipeline.py",
          "process": 1906,
          "processName": "MainProcess",
          "thread": 140387492837184,
          "threadName": "MainThread"
         },
         {
          "asctime": "2021-03-05 11:30:19,525",
          "exc_info": null,
          "extra": {},
          "filename": null,
          "funcName": null,
          "levelname": "STDOUT",
          "lineno": null,
          "message": "(100000, 14)\n",
          "name": "block.stdout:STDIn_1",
          "pathname": null,
          "process": null,
          "processName": null,
          "thread": null,
          "threadName": null
         },
         {
          "asctime": "2021-03-05 11:30:19,594",
          "exc_info": null,
          "extra": {},
          "filename": null,
          "funcName": null,
          "levelname": "STDOUT",
          "lineno": null,
          "message": "(100000, 14)\n",
          "name": "block.stdout:STDOut_1",
          "pathname": null,
          "process": null,
          "processName": null,
          "thread": null,
          "threadName": null
         }
        ],
        "meta": {
         "block_status": {
          "STDIn_1": "SUCCESS",
          "STDOut_1": "SUCCESS"
         },
         "blocks": [
          {
           "class_name": "STDIn",
           "fullname": "razor.project.blocks.socket1.STDIn",
           "id": "aac59c10-ff4a-460b-8791-ffb292d69d1f",
           "inputs": [
            {
             "dataType": "string",
             "default": "",
             "flow": "atomic",
             "help": null,
             "isdict": false,
             "islist": false,
             "label": "filename",
             "meta": {},
             "name": "filename",
             "series": false,
             "type": "str",
             "type_check": true
            }
           ],
           "outputs": [
            {
             "flow": "atomic",
             "help": null,
             "label": "out_ds",
             "meta": {},
             "name": "out_ds",
             "series": false,
             "type": "Any",
             "type_check": true
            }
           ],
           "overwritten": false,
           "published": true,
           "var_names": [
            "STDIn"
           ]
          },
          {
           "class_name": "STDOut",
           "fullname": "razor.project.blocks.socket1.STDOut",
           "id": "7807ca7f-e62c-4cbe-885f-8031363c9ae2",
           "inputs": [
            {
             "dataType": null,
             "default": null,
             "flow": "atomic",
             "help": null,
             "isdict": false,
             "islist": false,
             "label": "in_ds",
             "meta": {},
             "name": "in_ds",
             "series": false,
             "type": "Any",
             "type_check": true
            },
            {
             "dataType": "string",
             "default": "",
             "flow": "atomic",
             "help": null,
             "isdict": false,
             "islist": false,
             "label": "out_filename",
             "meta": {},
             "name": "out_filename",
             "series": false,
             "type": "str",
             "type_check": true
            }
           ],
           "outputs": [],
           "overwritten": false,
           "published": true,
           "var_names": [
            "STDOut"
           ]
          }
         ],
         "connections": [
          {
           "id": "2debf267-7d03-40c5-a80b-46e948027f0e",
           "source": {
            "adapter": false,
            "instance_id": "fcda355e-a3ed-457f-8cba-da7f58282bd7",
            "name": "out_ds"
           },
           "target": {
            "adapter": false,
            "instance_id": "b848b762-b917-4da2-96af-b5dd54512d45",
            "name": "in_ds"
           }
          }
         ],
         "end": 1614943820.524921,
         "id": "73104beb-69eb-44a6-89ae-6e1bbf827fef",
         "instances": [
          {
           "block_class": "7807ca7f-e62c-4cbe-885f-8031363c9ae2",
           "id": "b848b762-b917-4da2-96af-b5dd54512d45",
           "name": "STDOut_1",
           "var_names": [
            "std_out"
           ]
          },
          {
           "block_class": "aac59c10-ff4a-460b-8791-ffb292d69d1f",
           "id": "fcda355e-a3ed-457f-8cba-da7f58282bd7",
           "name": "STDIn_1",
           "var_names": [
            "std_in"
           ]
          }
         ],
         "log_level": 20,
         "name": "test_pipeline",
         "start": 1614943818.6172044,
         "status": "SUCCESS",
         "system_logs": true,
         "var_names": []
        },
        "metrics": {},
        "runtime": {
         "STDIn_1": {
          "end": 1614943819.5570302,
          "load": 1614943819.1390855,
          "start": 1614943819.3593538
         },
         "STDOut_1": {
          "end": 1614943820.3420336,
          "load": 1614943819.131384,
          "start": 1614943819.3577988
         }
        }
       },
       "store_in_notebook": true
      }
     },
     "output_type": "display_data"
    },
    {
     "data": {
      "text/plain": [
       "<Process(Pipeline Manager('test_pipeline'), stopped)>"
      ]
     },
     "execution_count": 6,
     "metadata": {},
     "output_type": "execute_result"
    }
   ],
   "source": [
    "pipeline.execute()"
   ]
  },
  {
   "cell_type": "code",
   "execution_count": null,
   "metadata": {},
   "outputs": [],
   "source": []
  },
  {
   "cell_type": "code",
   "execution_count": 12,
   "metadata": {},
   "outputs": [
    {
     "data": {
      "application/vnd.razorthink.run+monitor+json": "/tmp/tmporj7qboz/test_pipeline",
      "text/plain": [
       "<razor_tools.backend.ipython.mime.run_monitor.RunMonitor at 0x7f9e34715850>"
      ]
     },
     "metadata": {
      "application/vnd.razorthink.run+monitor+json": {
       "store_in_notebook": true
      }
     },
     "output_type": "display_data"
    },
    {
     "data": {
      "text/plain": [
       "<Process(Pipeline Manager('test_pipeline'), stopped)>"
      ]
     },
     "execution_count": 12,
     "metadata": {},
     "output_type": "execute_result"
    }
   ],
   "source": [
    "pipeline.execute()"
   ]
  },
  {
   "cell_type": "code",
   "execution_count": 3,
   "metadata": {},
   "outputs": [
    {
     "ename": "NameError",
     "evalue": "name 'pipeline' is not defined",
     "output_type": "error",
     "traceback": [
      "\u001b[0;31m---------------------------------------------------------------------------\u001b[0m",
      "\u001b[0;31mNameError\u001b[0m                                 Traceback (most recent call last)",
      "\u001b[0;32m<ipython-input-3-a4f916ae843f>\u001b[0m in \u001b[0;36m<module>\u001b[0;34m\u001b[0m\n\u001b[1;32m      1\u001b[0m \u001b[0;32mimport\u001b[0m \u001b[0mrazor\u001b[0m\u001b[0;34m\u001b[0m\u001b[0;34m\u001b[0m\u001b[0m\n\u001b[0;32m----> 2\u001b[0;31m \u001b[0mrazor\u001b[0m\u001b[0;34m.\u001b[0m\u001b[0mapi\u001b[0m\u001b[0;34m.\u001b[0m\u001b[0mpipelines\u001b[0m\u001b[0;34m.\u001b[0m\u001b[0msave\u001b[0m\u001b[0;34m(\u001b[0m\u001b[0mpipeline\u001b[0m\u001b[0;34m)\u001b[0m\u001b[0;34m\u001b[0m\u001b[0;34m\u001b[0m\u001b[0m\n\u001b[0m",
      "\u001b[0;31mNameError\u001b[0m: name 'pipeline' is not defined"
     ]
    }
   ],
   "source": [
    "import razor\n",
    "razor.api.pipelines.save(pipeline)"
   ]
  },
  {
   "cell_type": "code",
   "execution_count": null,
   "metadata": {},
   "outputs": [],
   "source": []
  },
  {
   "cell_type": "code",
   "execution_count": null,
   "metadata": {},
   "outputs": [],
   "source": []
  }
 ],
 "metadata": {
  "kernelspec": {
   "display_name": "Python 3",
   "language": "python",
   "name": "python3"
  },
  "language_info": {
   "codemirror_mode": {
    "name": "ipython",
    "version": 3
   },
   "file_extension": ".py",
   "mimetype": "text/x-python",
   "name": "python",
   "nbconvert_exporter": "python",
   "pygments_lexer": "ipython3",
   "version": "3.7.10"
  }
 },
 "nbformat": 4,
 "nbformat_minor": 4
}
