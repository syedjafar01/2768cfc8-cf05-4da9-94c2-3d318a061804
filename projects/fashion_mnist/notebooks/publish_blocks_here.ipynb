{
 "cells": [
  {
   "cell_type": "code",
   "execution_count": 7,
   "id": "accepted-miracle",
   "metadata": {},
   "outputs": [
    {
     "data": {
      "text/plain": [
       "<module 'rztdl.backends.tensorflow' from '/usr/local/lib/python3.7/dist-packages/rztdl/backends/tensorflow/__init__.py'>"
      ]
     },
     "execution_count": 7,
     "metadata": {},
     "output_type": "execute_result"
    }
   ],
   "source": [
    "from rztdl.backends import backend\n",
    "\n",
    "backend.tensorflow()"
   ]
  },
  {
   "cell_type": "code",
   "execution_count": 8,
   "id": "independent-access",
   "metadata": {},
   "outputs": [],
   "source": [
    "from razor.api.core import BlockScope\n",
    "from razor.api import blocks"
   ]
  },
  {
   "cell_type": "code",
   "execution_count": 9,
   "id": "natural-completion",
   "metadata": {},
   "outputs": [],
   "source": [
    "blocks.init_bundle(bundle='new_train', category='n_train')"
   ]
  },
  {
   "cell_type": "code",
   "execution_count": 10,
   "id": "random-genealogy",
   "metadata": {},
   "outputs": [
    {
     "name": "stderr",
     "output_type": "stream",
     "text": [
      "WARNING:razor.api.impl.block_manager_impl:Bundle with the same name already exists. Set flag `overwrite=True` to update the existing bundle\n"
     ]
    }
   ],
   "source": [
    "blocks.publish(bundle='new_train', scope=BlockScope.PROJECT)"
   ]
  },
  {
   "cell_type": "code",
   "execution_count": null,
   "id": "italian-dutch",
   "metadata": {},
   "outputs": [],
   "source": []
  }
 ],
 "metadata": {
  "kernelspec": {
   "display_name": "Python 3",
   "language": "python",
   "name": "python3"
  },
  "language_info": {
   "codemirror_mode": {
    "name": "ipython",
    "version": 3
   },
   "file_extension": ".py",
   "mimetype": "text/x-python",
   "name": "python",
   "nbconvert_exporter": "python",
   "pygments_lexer": "ipython3",
   "version": "3.7.10"
  }
 },
 "nbformat": 4,
 "nbformat_minor": 5
}
