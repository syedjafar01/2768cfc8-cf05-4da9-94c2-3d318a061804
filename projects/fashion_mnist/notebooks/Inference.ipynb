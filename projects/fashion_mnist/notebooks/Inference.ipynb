{
 "cells": [
  {
   "cell_type": "code",
   "execution_count": 7,
   "metadata": {},
   "outputs": [],
   "source": [
    "import numpy as np\n",
    "import pandas as pd\n",
    "import matplotlib.pyplot as plt\n",
    "\n",
    "import razor.flow as rf\n",
    "from razor.flow import Pipeline\n",
    "from razor.api import project_space_path\n",
    "import typing as t\n",
    "\n",
    "from razor.marketplace.blocks.rzt.infer_flow import DLInferBlock\n",
    "\n",
    "from typing import Any"
   ]
  },
  {
   "cell_type": "markdown",
   "metadata": {},
   "source": [
    "### LoadImages Block"
   ]
  },
  {
   "cell_type": "code",
   "execution_count": 8,
   "metadata": {},
   "outputs": [],
   "source": [
    "@rf.block(executor=rf.ContainerExecutor(cores=1, memory=10000))\n",
    "class LoadImages:\n",
    "    path: str\n",
    "    no_of_examples: int\n",
    "    data: rf.SeriesOutput[dict]\n",
    "    \n",
    "    from razor.api import project_space_path\n",
    "    def run(self):\n",
    "        self.logger.debug('Running Load Images')\n",
    "        \n",
    "        npy = np.load(project_space_path(self.path))\n",
    "            \n",
    "        for image, label in zip(npy['images'][:self.no_of_examples], npy['labels'][:self.no_of_examples]):\n",
    "            image = image.astype('float32') / 255.0\n",
    "            label = np.eye(10)[[label]].reshape(-1)\n",
    "            image = np.reshape(image, (image.shape[0], image.shape[1], 1))\n",
    "            \n",
    "            self.data.put({\"images\":image, \"labels\":label})\n",
    "            \n",
    "        self.logger.debug('Completed Load Images')"
   ]
  },
  {
   "cell_type": "markdown",
   "metadata": {},
   "source": [
    "### Model"
   ]
  },
  {
   "cell_type": "code",
   "execution_count": 9,
   "metadata": {},
   "outputs": [
    {
     "name": "stderr",
     "output_type": "stream",
     "text": [
      "INFO:rztdl.dl.model:Input Layer 'images'  validated successfully\n",
      "INFO:rztdl.dl.model:BatchNormalization Layer 'BatchNormalization__1' validated successfully\n",
      "INFO:rztdl.dl.model:Conv2D Layer 'Conv2D__1' validated successfully\n",
      "INFO:rztdl.dl.model:MaxPool2D Layer 'MaxPool2D__1' validated successfully\n",
      "INFO:rztdl.dl.model:Dropout Layer 'Dropout__1' validated successfully\n",
      "INFO:rztdl.dl.model:Conv2D Layer 'Conv2D__2' validated successfully\n",
      "INFO:rztdl.dl.model:MaxPool2D Layer 'MaxPool2D__2' validated successfully\n",
      "INFO:rztdl.dl.model:Dropout Layer 'Dropout__2' validated successfully\n",
      "INFO:rztdl.dl.model:Flatten Operator 'Flatten__1' validated successfully\n",
      "INFO:rztdl.dl.model:Dense Layer 'Dense__1' validated successfully\n",
      "INFO:rztdl.dl.model:Dropout Layer 'Dropout__3' validated successfully\n",
      "INFO:rztdl.dl.model:Dense Layer 'Dense__2' validated successfully\n",
      "INFO:rztdl.dl.model:BatchNormalization Layer 'BatchNormalization__2' validated successfully\n",
      "INFO:rztdl.dl.model:Dense Layer 'Dense__3' validated successfully\n",
      "INFO:rztdl.dl.model:ArgMax Operator 'argmax' validated successfully\n",
      "INFO:rztdl.dl.model:Input Layer 'labels'  validated successfully\n",
      "INFO:rztdl.dl.model:CategoricalCrossentropy Loss 'cce' validated successfully\n",
      "INFO:rztdl.dl.model:Adam Optimizer 'adam1' validated successfully\n",
      "INFO:rztdl.dl.model:ArgMax Operator 'ArgMax__2' validated successfully\n",
      "INFO:rztdl.dl.model:Accuracy Metric 'acc' validated successfully\n"
     ]
    },
    {
     "name": "stdout",
     "output_type": "stream",
     "text": [
      "import rztdl.dl\n",
      "from rztdl.dl.constants.string_constants import *\n",
      "from rztdl.dl.helpers import *\n",
      "from rztdl.dl.helpers.dtypes import DataTypes\n",
      "from rztdl.dl.groups import Group\n",
      "from rztdl.dl.components.layers import *\n",
      "from rztdl.dl.hub import *\n",
      "from rztdl.dl.components.metrics import *\n",
      "from rztdl.dl.components.operators import *\n",
      "from rztdl.dl.components.losses import *\n",
      "from rztdl.dl.components.layers.recurrent.cells import *\n",
      "from rztdl.dl.components.optimizers import *\n",
      "\n",
      "# CustomCodeTemplates\n",
      "\n",
      "\n",
      "\n",
      "model = rztdl.dl.RZTModel(name = 'model_a')\n",
      "model.add(Input(dtype=DataTypes.FLOAT32,validate_shape=True,shape=[28, 28, 1],name='images',outputs='images_outputs'))\n",
      "model.add(BatchNormalization(inputs='images_outputs',axis=[-1],momentum=0.99,epsilon=0.001,center=False,scale=False,moving_variance_initializer=Ones(),trainable=True,name='BatchNormalization__1',outputs='BatchNormalization__1_outputs'))\n",
      "model.add(Conv2D(inputs='BatchNormalization__1_outputs',kernel_size=[4, 4],strides=[1, 1],padding=Padding.SAME,data_format=DataFormat.CHANNELS_LAST,dilation_rate=[1, 1],activation=Relu(alpha=0,threshold=0),use_bias=True,kernel_initializer=GlorotUniform(),bias_initializer=Zeros(),dropout_rate=0,trainable=True,filters=64,name='Conv2D__1',outputs='Conv2D__1_outputs'))\n",
      "model.add(MaxPool2D(inputs='Conv2D__1_outputs',pool_size=[2, 2],strides=[2, 2],padding=Padding.VALID,data_format=DataFormat.CHANNELS_LAST,name='MaxPool2D__1',outputs='MaxPool2D__1_outputs'))\n",
      "model.add(Dropout(inputs='MaxPool2D__1_outputs',rate=0.1,name='Dropout__1',outputs='Dropout__1_outputs'))\n",
      "model.add(Conv2D(inputs='Dropout__1_outputs',kernel_size=[4, 4],strides=[1, 1],padding=Padding.VALID,data_format=DataFormat.CHANNELS_LAST,dilation_rate=[1, 1],activation=Relu(alpha=0,threshold=0),use_bias=True,kernel_initializer=GlorotUniform(),bias_initializer=Zeros(),dropout_rate=0,trainable=True,filters=64,name='Conv2D__2',outputs='Conv2D__2_outputs'))\n",
      "model.add(MaxPool2D(inputs='Conv2D__2_outputs',pool_size=[2, 2],strides=[2, 2],padding=Padding.VALID,data_format=DataFormat.CHANNELS_LAST,name='MaxPool2D__2',outputs='MaxPool2D__2_outputs'))\n",
      "model.add(Dropout(inputs='MaxPool2D__2_outputs',rate=0.3,name='Dropout__2',outputs='Dropout__2_outputs'))\n",
      "model.add(Flatten(inputs='Dropout__2_outputs',data_format=DataFormat.CHANNELS_LAST,name='Flatten__1',outputs='Flatten__1_outputs'))\n",
      "model.add(Dense(inputs='Flatten__1_outputs',kernel_initializer=GlorotUniform(),use_bias=True,bias_initializer=Zeros(),activation=Relu(alpha=0,threshold=0),dropout_rate=0,trainable=True,units=256,name='Dense__1',outputs='Dense__1_outputs'))\n",
      "model.add(Dropout(inputs='Dense__1_outputs',rate=0.5,name='Dropout__3',outputs='Dropout__3_outputs'))\n",
      "model.add(Dense(inputs='Dropout__3_outputs',kernel_initializer=GlorotUniform(),use_bias=True,bias_initializer=Zeros(),activation=Relu(alpha=0,threshold=0),dropout_rate=0,trainable=True,units=64,name='Dense__2',outputs='Dense__2_outputs'))\n",
      "model.add(BatchNormalization(inputs='Dense__2_outputs',axis=[-1],momentum=0.99,epsilon=0.001,center=False,scale=False,moving_variance_initializer=Ones(),trainable=True,name='BatchNormalization__2',outputs='BatchNormalization__2_outputs'))\n",
      "model.add(Dense(inputs='BatchNormalization__2_outputs',kernel_initializer=GlorotUniform(),use_bias=True,bias_initializer=Zeros(),activation=Softmax(axis=-1),dropout_rate=0,trainable=True,units=10,name='Dense__3',outputs='Dense__3_outputs'))\n",
      "model.add(ArgMax(inputs='Dense__3_outputs',axis=-1,allow_batch_op=False,name='argmax',outputs='argmax_outputs'))\n",
      "model.add(Input(dtype=DataTypes.FLOAT32,validate_shape=True,shape=[10],name='labels',outputs='labels_outputs'))\n",
      "model.add(CategoricalCrossentropy(predictions='Dense__3_outputs',labels='labels_outputs',apply_softmax=False,label_smoothing=0,sample_weight=1,name='cce',outputs='cce_outputs'))\n",
      "model.add(Adam(inputs='cce_outputs',name='adam1'))\n",
      "model.add(ArgMax(inputs='labels_outputs',axis=-1,allow_batch_op=False,name='ArgMax__2',outputs='ArgMax__2_outputs'))\n",
      "model.add(Accuracy(predictions='argmax_outputs',labels='ArgMax__2_outputs',name='acc'))\n",
      "model.close()\n"
     ]
    }
   ],
   "source": [
    "from razor.api import dlmodels\n",
    "model = dlmodels.import_model(model_name='model_a', display=True)"
   ]
  },
  {
   "cell_type": "markdown",
   "metadata": {},
   "source": [
    "### SavePredictions Block"
   ]
  },
  {
   "cell_type": "code",
   "execution_count": 10,
   "metadata": {},
   "outputs": [],
   "source": [
    "@rf.block(executor=rf.ContainerExecutor(cores=1, memory=10000))\n",
    "class SavePreds:\n",
    "    preds: rf.SeriesInput[Any]\n",
    "    path: str\n",
    "    import os\n",
    "    import pandas as pd\n",
    "    import numpy as np\n",
    "    def run(self):\n",
    "        y_true = []\n",
    "        y_hats = []\n",
    "        if os.path.exists(project_space_path(self.path)):\n",
    "            os.remove(project_space_path(self.path))\n",
    "        \n",
    "        for batch in self.preds:\n",
    "            y_true.extend(list(np.argmax(batch['labels'], axis=1)))\n",
    "            y_hats.extend(list(batch['argmax']))\n",
    "        df = pd.DataFrame({'y_true':y_true, 'y_hats':y_hats}).to_csv(project_space_path(self.path), index=False, mode='a')"
   ]
  },
  {
   "cell_type": "markdown",
   "metadata": {},
   "source": [
    "### Infer Pipeline"
   ]
  },
  {
   "cell_type": "code",
   "execution_count": 11,
   "metadata": {},
   "outputs": [],
   "source": [
    "loader_infer = LoadImages(path='data_test.npz',\n",
    "                          no_of_examples=10)\n",
    "\n",
    "predictor = DLInferBlock(model=model,\n",
    "                         data=loader_infer.data,\n",
    "                         load_path='image_classification_s2',\n",
    "                         layers=['argmax','labels'],\n",
    "                         batch_size=64\n",
    "                        )\n",
    "predictor.executor = rf.ContainerExecutor(cores=4, memory=12000)\n",
    "\n",
    "save_preds = SavePreds(path=\"results.csv\",\n",
    "                       preds=predictor.infer_output)\n",
    "   "
   ]
  },
  {
   "cell_type": "code",
   "execution_count": 12,
   "metadata": {},
   "outputs": [],
   "source": [
    "infer_pipeline = rf.Pipeline(name ='infer_check', targets=[save_preds])"
   ]
  },
  {
   "cell_type": "code",
   "execution_count": 13,
   "metadata": {},
   "outputs": [],
   "source": [
    "deployed_infer_pipeline = razor.api.engines(\"DS-Engine-Load-Test\").execute(infer_pipeline)"
   ]
  },
  {
   "cell_type": "code",
   "execution_count": null,
   "metadata": {},
   "outputs": [],
   "source": []
  }
 ],
 "metadata": {
  "kernelspec": {
   "display_name": "Python 3",
   "language": "python",
   "name": "python3"
  },
  "language_info": {
   "codemirror_mode": {
    "name": "ipython",
    "version": 3
   },
   "file_extension": ".py",
   "mimetype": "text/x-python",
   "name": "python",
   "nbconvert_exporter": "python",
   "pygments_lexer": "ipython3",
   "version": "3.7.10"
  }
 },
 "nbformat": 4,
 "nbformat_minor": 4
}
