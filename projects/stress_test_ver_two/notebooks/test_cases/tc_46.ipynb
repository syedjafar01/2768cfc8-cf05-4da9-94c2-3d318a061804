{
 "cells": [
  {
   "cell_type": "code",
   "execution_count": 1,
   "metadata": {},
   "outputs": [],
   "source": [
    "import numpy as np\n",
    "import logging\n",
    "import typing as t\n"
   ]
  },
  {
   "cell_type": "code",
   "execution_count": 2,
   "metadata": {},
   "outputs": [],
   "source": [
    "import razor.flow as rf\n",
    "from razor.api import datasources, project_space_path\n"
   ]
  },
  {
   "cell_type": "code",
   "execution_count": 3,
   "metadata": {},
   "outputs": [],
   "source": [
    "config = {'cpu': 2, 'ram': 18000}"
   ]
  },
  {
   "cell_type": "code",
   "execution_count": 4,
   "metadata": {},
   "outputs": [],
   "source": [
    "# logger=logging.getLogger()\n",
    "\n",
    "# @rf.block(executor=rf.ContainerExecutor(cores=config['cpu'], memory=config['ram']))\n",
    "# class GenerateData:\n",
    "#     filename: t.Any\n",
    "#     size: t.Any\n",
    "#     out_filename: rf.Output[t.Any]\n",
    "        \n",
    "#     def run(self):\n",
    "#         sftp_client = datasources(\"system_test_files\").client()\n",
    "#         arr1 = list(np.random.randint(1, 11, size=self.size))\n",
    "#         text_str1 = ', '.join([str(i) for i in arr1]) \n",
    "#         arr2 = list(np.random.randint(1, 11, size=size))\n",
    "#         text_str2 = ', '.join([str(i) for i in arr2]) \n",
    "        \n",
    "#         with sftp_client.open(self.filename, 'w') as f:\n",
    "#             for i in range(1, 10):\n",
    "#                 f.write(f'{str(i)}'+'\\n')\n",
    "#             f.write(text_str1+'\\n')\n",
    "#             f.write(text_str2)\n",
    "\n",
    "        \n",
    "#         self.out_filename.put(self.filename)\n",
    "            \n"
   ]
  },
  {
   "cell_type": "code",
   "execution_count": 5,
   "metadata": {},
   "outputs": [],
   "source": [
    "@rf.block(executor=rf.ContainerExecutor(cores=config['cpu'], memory=config['ram']))\n",
    "class STDIn:\n",
    "    filename: t.Any\n",
    "    a: rf.Output[t.Any] = rf.Output(transport=rf.FileTransport)\n",
    "    b: rf.Output[t.Any] = rf.Output(transport=rf.FileTransport)\n",
    "    c: rf.Output[t.Any] = rf.Output(transport=rf.FileTransport)\n",
    "    d: rf.Output[t.Any] = rf.Output(transport=rf.KafkaTransport)\n",
    "    e: rf.Output[t.Any] = rf.Output(transport=rf.KafkaTransport)\n",
    "    f: rf.Output[t.Any] = rf.Output(transport=rf.KafkaTransport)\n",
    "    g: rf.Output[t.Any] = rf.Output(transport=rf.KafkaTransport)        \n",
    "    h: rf.Output[t.Any] = rf.Output(transport=rf.KafkaTransport)\n",
    "    i: rf.Output[t.Any] = rf.Output(transport=rf.KafkaTransport)\n",
    "    arr1: rf.Output[t.Any] = rf.Output(transport=rf.KafkaTransport)\n",
    "    arr2: rf.Output[t.Any] = rf.Output(transport=rf.KafkaTransport)\n",
    "    \n",
    "    \n",
    "    def run(self):\n",
    "        with open(project_space_path(self.filename), 'r') as fil:\n",
    "            lines = fil.readlines()\n",
    "            a1 = lines[-1]\n",
    "            a2 = lines[-2]\n",
    "            lines = lines[:-2]\n",
    "        \n",
    "        a1 = a1.strip('[]').split(',')\n",
    "        a1 = [int(each) for each in a1]\n",
    "        a2 = a2.strip('[]').split(',')\n",
    "        a2 = [int(each) for each in a2]\n",
    "        \n",
    "        self.a.put(int(lines[0]))\n",
    "        self.b.put(int(lines[1]))\n",
    "        self.c.put(int(lines[2]))\n",
    "        self.d.put(int(lines[3]))\n",
    "        self.e.put(int(lines[4]))\n",
    "        self.f.put(int(lines[5]))\n",
    "        self.g.put(int(lines[6]))\n",
    "        self.h.put(int(lines[7]))\n",
    "        self.i.put(int(lines[8]))\n",
    "        self.arr1.put(a1)\n",
    "        self.arr2.put(a2)\n",
    "        "
   ]
  },
  {
   "cell_type": "code",
   "execution_count": 6,
   "metadata": {},
   "outputs": [],
   "source": [
    "@rf.block(executor=rf.ContainerExecutor(cores=config['cpu'], memory=config['ram']))\n",
    "class Add1:\n",
    "    input_1: t.Any\n",
    "    input_2: t.Any\n",
    "    sum_output: rf.Output[t.Any] = rf.Output(transport=rf.FileTransport)\n",
    "        \n",
    "    def run(self):\n",
    "        self.logger.info('Running Add block')\n",
    "        self.logger.info(f'input_1 :{self.input_1}')\n",
    "        self.logger.info(f'input_2 :{self.input_2}')\n",
    "        self.sum_output.put((self.input_1 + self.input_2))\n",
    "        \n",
    "@rf.block(executor=rf.ContainerExecutor(cores=config['cpu'], memory=config['ram']))\n",
    "class Add2:\n",
    "    input_1: t.Any\n",
    "    input_2: t.Any\n",
    "    sum_output: rf.Output[t.Any] = rf.Output(transport=rf.FileTransport)\n",
    "\n",
    "    def run(self):\n",
    "        self.logger.info('Running Add block')\n",
    "        self.logger.info(f'input_1 :{self.input_1}')\n",
    "        self.logger.info(f'input_2 :{self.input_2}')\n",
    "        self.sum_output.put((self.input_1 + self.input_2))\n",
    "        \n",
    "@rf.block(executor=rf.ContainerExecutor(cores=config['cpu'], memory=config['ram']))\n",
    "class Add3:\n",
    "    input_1: t.Any\n",
    "    input_2: t.Any\n",
    "    sum_output: rf.Output[t.Any] = rf.Output(transport=rf.FileTransport)\n",
    "\n",
    "    def run(self):\n",
    "        self.logger.info('Running Add block')\n",
    "        self.logger.info(f'input_1 :{self.input_1}')\n",
    "        self.logger.info(f'input_2 :{self.input_2}')\n",
    "        self.sum_output.put((self.input_1 + self.input_2))\n",
    "        \n",
    "@rf.block(executor=rf.ContainerExecutor(cores=config['cpu'], memory=config['ram']))\n",
    "class Add4:\n",
    "    input_1: t.Any\n",
    "    input_2: t.Any\n",
    "    sum_output: rf.Output[t.Any] = rf.Output(transport=rf.FileTransport)\n",
    "\n",
    "    def run(self):\n",
    "        self.logger.info('Running Add block')\n",
    "        self.logger.info(f'input_1 :{self.input_1}')\n",
    "        self.logger.info(f'input_2 :{self.input_2}')\n",
    "        self.sum_output.put((self.input_1 + self.input_2))\n",
    "\n",
    "@rf.block(executor=rf.ContainerExecutor(cores=config['cpu'], memory=config['ram']))\n",
    "class Multiply1:\n",
    "    input_sum: t.Any\n",
    "    input_multiplier: t.Any\n",
    "    output_mul: rf.Output[t.Any] = rf.Output(transport=rf.KafkaTransport)\n",
    "    \n",
    "    def run(self):\n",
    "        self.logger.info('Running Multiply block')\n",
    "        self.logger.info(f'input_sum :{self.input_sum}')\n",
    "        self.logger.info(f'input_multiplier :{self.input_multiplier}')\n",
    "        self.output_mul.put((self.input_sum * self.input_multiplier))\n",
    "        \n",
    "        \n",
    "@rf.block(executor=rf.ContainerExecutor(cores=config['cpu'], memory=config['ram']))\n",
    "class Subtract: \n",
    "    input_1: t.Any\n",
    "    input_2: t.Any\n",
    "    output_diff: rf.Output[t.Any] = rf.Output(transport=rf.KafkaTransport)\n",
    "    \n",
    "    def run(self):\n",
    "        self.logger.info('Running Subtract block')\n",
    "        self.logger.info(f'input_1 :{self.input_1}')\n",
    "        self.logger.info(f'input_2 :{self.input_2}')\n",
    "        self.output_diff.put((self.input_1 - self.input_2))\n",
    "        \n",
    "@rf.block(executor=rf.ContainerExecutor(cores=config['cpu'], memory=config['ram']))\n",
    "class Multiply2:\n",
    "    input_sum: t.Any\n",
    "    input_multiplier: t.Any\n",
    "    output_mul: rf.Output[t.Any] = rf.Output(transport=rf.KafkaTransport)\n",
    "\n",
    "    def run(self):\n",
    "        self.logger.info('Running Multiply block')\n",
    "        self.logger.info(f'input_sum :{self.input_sum}')\n",
    "        self.logger.info(f'input_multiplier :{self.input_multiplier}')\n",
    "        self.output_mul.put((self.input_sum * self.input_multiplier))\n",
    "            \n",
    "@rf.block(executor=rf.ContainerExecutor(cores=config['cpu'], memory=config['ram']))\n",
    "class Multiply3:\n",
    "    input_sum: t.Any\n",
    "    input_multiplier: t.Any\n",
    "    out_file: t.Any\n",
    "        \n",
    "    def run(self):\n",
    "        self.logger.info('Running Multiply block')\n",
    "        self.logger.info(f'input_sum :{self.input_sum}')\n",
    "        self.logger.info(f'input_multiplier :{self.input_multiplier}')\n",
    "        result = self.input_sum * self.input_multiplier\n",
    "        self.logger.info(f'result :{result}')\n",
    "        print(\"$$\", result)\n",
    "        sftp_client = datasources(\"system_test_files\").client()\n",
    "        with sftp_client.open(self.out_file, 'w') as file:\n",
    "            file.write(str(result))\n",
    "        \n",
    "        \n",
    "@rf.block(executor=rf.ContainerExecutor(cores=config['cpu'], memory=config['ram']))\n",
    "class Branch2_Add1:\n",
    "    arr1: t.Any\n",
    "    arr2: t.Any\n",
    "    sum_output_arr: rf.Output[t.Any] = rf.Output(transport=rf.KafkaTransport)\n",
    "    \n",
    "    def run(self):\n",
    "        self.logger.info('Running Add block')        \n",
    "        res = [self.arr1[i]+self.arr2[i] for i in range(len(self.arr1))]\n",
    "        self.logger.info(f'result :{res}')\n",
    "        self.sum_output_arr.put(res)    \n",
    "        \n",
    "@rf.block(executor=rf.ContainerExecutor(cores=config['cpu'], memory=config['ram']))\n",
    "class Branch2_Multiply1:\n",
    "    arr1: t.Any\n",
    "    arr2: t.Any\n",
    "    output_mul_arr: rf.Output[t.Any] = rf.Output(transport=rf.KafkaTransport)     \n",
    "        \n",
    "    def run(self):\n",
    "        self.logger.info('Running Multiply block')\n",
    "        res = [self.arr1[i]*self.arr2[i] for i in range(len(self.arr1))]\n",
    "        self.logger.info(f'result :{res}')\n",
    "        self.output_mul_arr.put(res)\n",
    "        \n",
    "@rf.block(executor=rf.ContainerExecutor(cores=config['cpu'], memory=config['ram']))\n",
    "class Branch2_Add2:\n",
    "    arr1: t.Any\n",
    "    arr2: t.Any\n",
    "    out_file: t.Any\n",
    "        \n",
    "    def run(self):\n",
    "        self.logger.info('Running Multiply block')\n",
    "        res = [self.arr1[i]*self.arr2[i] for i in range(len(self.arr1))]\n",
    "        result = 0\n",
    "        for val in res:\n",
    "            result+=val\n",
    "        self.logger.info(f'result :{result}')\n",
    "        print(\"**\", result)\n",
    "        sftp_client = datasources(\"system_test_files\").client()\n",
    "        with sftp_client.open(self.out_file, 'a') as file:\n",
    "            file.write('\\n')\n",
    "            file.write(str(result))\n",
    "            \n",
    "            \n",
    "@rf.block(executor=rf.ContainerExecutor(cores=config['cpu'], memory=config['ram']))\n",
    "class Branch3_Multiply1:\n",
    "    arr1: t.Any\n",
    "    arr2: t.Any\n",
    "    output_mul_arr: rf.Output[t.Any] = rf.Output(transport=rf.KafkaTransport)\n",
    "        \n",
    "    def run(self):\n",
    "        self.logger.info('Running Multiply block')\n",
    "        result = [self.arr1[i]*self.arr2[i] for i in range(len(self.arr1))]\n",
    "        self.logger.info(f'result :{result}')\n",
    "        self.output_mul_arr.put(result)\n",
    "\n",
    "        \n",
    "@rf.block(executor=rf.ContainerExecutor(cores=config['cpu'], memory=config['ram']))\n",
    "class Branch3_Subtract1:\n",
    "    input_1: t.Any\n",
    "    input_2: t.Any\n",
    "    output_diff_arr: rf.Output[t.Any] = rf.Output(transport=rf.KafkaTransport) \n",
    "        \n",
    "    def run(self):\n",
    "        self.logger.info('Running Multiply block')\n",
    "        self.output_diff_arr.put([(self.input_2[i] - self.input_1[i]) for i in range(len(self.input_2))])  \n",
    "        \n",
    "        \n",
    "@rf.block(executor=rf.ContainerExecutor(cores=config['cpu'], memory=config['ram']))\n",
    "class Branch3_Multiply2:\n",
    "    arr1: t.Any\n",
    "    arr2: t.Any\n",
    "    output_mul_arr: rf.Output[t.Any] = rf.Output(transport=rf.KafkaTransport) \n",
    "        \n",
    "    def run(self):\n",
    "        self.logger.info('Running Multiply block')\n",
    "        result = [self.arr1[i]*self.arr2[i] for i in range(len(self.arr1))]\n",
    "        self.output_mul_arr.put(result)\n",
    "        \n",
    "        \n",
    "@rf.block(executor=rf.ContainerExecutor(cores=config['cpu'], memory=config['ram']))\n",
    "class Branch3_Add1:\n",
    "    arr1: t.Any\n",
    "    arr2: t.Any\n",
    "    out_file: t.Any\n",
    "        \n",
    "    def run(self):\n",
    "        self.logger.info('Running Add block')\n",
    "        result = 0\n",
    "        for i in self.arr1:\n",
    "            result+=i\n",
    "        for j in self.arr2:\n",
    "            result+=j\n",
    "            \n",
    "        print(\"££\", result)\n",
    "        self.logger.info(f'result :{result}')\n",
    "        with open(project_space_path(self.out_file), 'a') as file:\n",
    "            file.write('\\n')\n",
    "            file.write(str(result))\n",
    "        \n",
    " "
   ]
  },
  {
   "cell_type": "code",
   "execution_count": 7,
   "metadata": {},
   "outputs": [],
   "source": [
    "fname = \"/data/sdk_testbench/executor_transport_test/array_integer_data.txt\"\n",
    "output_filename = \"/data/sdk_testbench/executor_transport_test/tc_46_out.txt\"\n",
    "size = 1024 * 128 * 100\n",
    "\n",
    "\n",
    "# gen_data = GenerateData(filename=filename, size=size)\n",
    "    \n",
    "stdin_obj = STDIn(filename=fname)\n",
    "\n",
    "\n",
    "add1 =Add1(input_1=stdin_obj.a, input_2=stdin_obj.b)\n",
    "\n",
    "\n",
    "add2 = Add2(input_1=stdin_obj.c, input_2=stdin_obj.d)\n",
    "\n",
    "\n",
    "add3 = Add3(input_1=stdin_obj.e, input_2=stdin_obj.f)\n",
    "\n",
    "\n",
    "add4 = Add4(input_1=stdin_obj.g, input_2=stdin_obj.h)\n",
    "\n",
    "\n",
    "mul1 = Multiply1(input_sum=add1.sum_output, input_multiplier=add2.sum_output)\n",
    "\n",
    "\n",
    "sub = Subtract(input_1=mul1.output_mul, input_2=stdin_obj.i)\n",
    "\n",
    "\n",
    "mul2 = Multiply2(input_sum=sub.output_diff, input_multiplier=add3.sum_output)\n",
    "\n",
    "mul3 = Multiply3(input_sum=mul2.output_mul, input_multiplier=add4.sum_output, out_file=output_filename)\n",
    "\n",
    "# 1980\n",
    "\n",
    "\n",
    "branch2__add1 = Branch2_Add1(arr1=stdin_obj.arr1, arr2=stdin_obj.arr2)\n",
    "\n",
    "\n",
    "branch2__multiply1 = Branch2_Multiply1(arr1=stdin_obj.arr1, arr2=branch2__add1.sum_output_arr)\n",
    "\n",
    "branch2__add2 = Branch2_Add2(out_file=output_filename, arr1=stdin_obj.arr2, arr2=branch2__multiply1.output_mul_arr)\n",
    "\n",
    "# 432\n",
    "\n",
    "\n",
    "branch3__multiply1 = Branch3_Multiply1(arr1=stdin_obj.arr1, arr2=stdin_obj.arr2)\n",
    "\n",
    "branch3__subtract1 = Branch3_Subtract1(input_2=branch3__multiply1.output_mul_arr, input_1=stdin_obj.arr1)\n",
    "\n",
    "branch3__multiply2 = Branch3_Multiply2(arr1=stdin_obj.arr2, arr2=branch3__subtract1.output_diff_arr)\n",
    "\n",
    "branch3__add1 = Branch3_Add1(out_file=output_filename, arr1=branch3__multiply2.output_mul_arr, arr2=branch3__multiply2.output_mul_arr)\n",
    "    \n",
    "\n",
    "# 22\n",
    "\n"
   ]
  },
  {
   "cell_type": "code",
   "execution_count": 8,
   "metadata": {},
   "outputs": [],
   "source": [
    "pipeline = rf.Pipeline(name='HighMemoryLowCore', targets=[mul3, branch2__add2, branch3__add1])\n"
   ]
  },
  {
   "cell_type": "code",
   "execution_count": 9,
   "metadata": {},
   "outputs": [
    {
     "data": {
      "application/vnd.razorthink.interactive+pipeline+view+json": {
       "blocks": [
        {
         "class_name": "STDIn",
         "id": "1f1b78ff-a1d6-47fc-aa68-3d7f53da1485",
         "inputs": [
          {
           "default": null,
           "flow": "atomic",
           "help": null,
           "label": "filename",
           "name": "filename",
           "series": false,
           "type": "Any",
           "type_check": true
          }
         ],
         "outputs": [
          {
           "flow": "atomic",
           "help": null,
           "label": "a",
           "name": "a",
           "series": false,
           "type": "Any",
           "type_check": true
          },
          {
           "flow": "atomic",
           "help": null,
           "label": "b",
           "name": "b",
           "series": false,
           "type": "Any",
           "type_check": true
          },
          {
           "flow": "atomic",
           "help": null,
           "label": "c",
           "name": "c",
           "series": false,
           "type": "Any",
           "type_check": true
          },
          {
           "flow": "atomic",
           "help": null,
           "label": "d",
           "name": "d",
           "series": false,
           "type": "Any",
           "type_check": true
          },
          {
           "flow": "atomic",
           "help": null,
           "label": "e",
           "name": "e",
           "series": false,
           "type": "Any",
           "type_check": true
          },
          {
           "flow": "atomic",
           "help": null,
           "label": "f",
           "name": "f",
           "series": false,
           "type": "Any",
           "type_check": true
          },
          {
           "flow": "atomic",
           "help": null,
           "label": "g",
           "name": "g",
           "series": false,
           "type": "Any",
           "type_check": true
          },
          {
           "flow": "atomic",
           "help": null,
           "label": "h",
           "name": "h",
           "series": false,
           "type": "Any",
           "type_check": true
          },
          {
           "flow": "atomic",
           "help": null,
           "label": "i",
           "name": "i",
           "series": false,
           "type": "Any",
           "type_check": true
          },
          {
           "flow": "atomic",
           "help": null,
           "label": "arr1",
           "name": "arr1",
           "series": false,
           "type": "Any",
           "type_check": true
          },
          {
           "flow": "atomic",
           "help": null,
           "label": "arr2",
           "name": "arr2",
           "series": false,
           "type": "Any",
           "type_check": true
          }
         ],
         "overwritten": false,
         "var_names": [
          "STDIn"
         ]
        },
        {
         "class_name": "Branch2_Add2",
         "id": "dbb68cfd-9cf3-4093-b485-136da68444b7",
         "inputs": [
          {
           "default": null,
           "flow": "atomic",
           "help": null,
           "label": "arr1",
           "name": "arr1",
           "series": false,
           "type": "Any",
           "type_check": true
          },
          {
           "default": null,
           "flow": "atomic",
           "help": null,
           "label": "arr2",
           "name": "arr2",
           "series": false,
           "type": "Any",
           "type_check": true
          },
          {
           "default": null,
           "flow": "atomic",
           "help": null,
           "label": "out_file",
           "name": "out_file",
           "series": false,
           "type": "Any",
           "type_check": true
          }
         ],
         "outputs": [],
         "overwritten": false,
         "var_names": [
          "Branch2_Add2"
         ]
        },
        {
         "class_name": "Multiply1",
         "id": "e127b4e0-6756-4939-aceb-711cf210b960",
         "inputs": [
          {
           "default": null,
           "flow": "atomic",
           "help": null,
           "label": "input_sum",
           "name": "input_sum",
           "series": false,
           "type": "Any",
           "type_check": true
          },
          {
           "default": null,
           "flow": "atomic",
           "help": null,
           "label": "input_multiplier",
           "name": "input_multiplier",
           "series": false,
           "type": "Any",
           "type_check": true
          }
         ],
         "outputs": [
          {
           "flow": "atomic",
           "help": null,
           "label": "output_mul",
           "name": "output_mul",
           "series": false,
           "type": "Any",
           "type_check": true
          }
         ],
         "overwritten": false,
         "var_names": [
          "Multiply1"
         ]
        },
        {
         "class_name": "Branch2_Multiply1",
         "id": "8e8115eb-3315-4bf7-9c47-d93e457e1cd4",
         "inputs": [
          {
           "default": null,
           "flow": "atomic",
           "help": null,
           "label": "arr1",
           "name": "arr1",
           "series": false,
           "type": "Any",
           "type_check": true
          },
          {
           "default": null,
           "flow": "atomic",
           "help": null,
           "label": "arr2",
           "name": "arr2",
           "series": false,
           "type": "Any",
           "type_check": true
          }
         ],
         "outputs": [
          {
           "flow": "atomic",
           "help": null,
           "label": "output_mul_arr",
           "name": "output_mul_arr",
           "series": false,
           "type": "Any",
           "type_check": true
          }
         ],
         "overwritten": false,
         "var_names": [
          "Branch2_Multiply1"
         ]
        },
        {
         "class_name": "Add4",
         "id": "2833c90b-17e5-4570-ba49-f01e767a129e",
         "inputs": [
          {
           "default": null,
           "flow": "atomic",
           "help": null,
           "label": "input_1",
           "name": "input_1",
           "series": false,
           "type": "Any",
           "type_check": true
          },
          {
           "default": null,
           "flow": "atomic",
           "help": null,
           "label": "input_2",
           "name": "input_2",
           "series": false,
           "type": "Any",
           "type_check": true
          }
         ],
         "outputs": [
          {
           "flow": "atomic",
           "help": null,
           "label": "sum_output",
           "name": "sum_output",
           "series": false,
           "type": "Any",
           "type_check": true
          }
         ],
         "overwritten": false,
         "var_names": [
          "Add4"
         ]
        },
        {
         "class_name": "Branch3_Multiply2",
         "id": "d3502942-5b1d-4c18-be75-0f6e47a127ee",
         "inputs": [
          {
           "default": null,
           "flow": "atomic",
           "help": null,
           "label": "arr1",
           "name": "arr1",
           "series": false,
           "type": "Any",
           "type_check": true
          },
          {
           "default": null,
           "flow": "atomic",
           "help": null,
           "label": "arr2",
           "name": "arr2",
           "series": false,
           "type": "Any",
           "type_check": true
          }
         ],
         "outputs": [
          {
           "flow": "atomic",
           "help": null,
           "label": "output_mul_arr",
           "name": "output_mul_arr",
           "series": false,
           "type": "Any",
           "type_check": true
          }
         ],
         "overwritten": false,
         "var_names": [
          "Branch3_Multiply2"
         ]
        },
        {
         "class_name": "Add1",
         "id": "841f1890-6211-4489-a635-f2a47fe0de6b",
         "inputs": [
          {
           "default": null,
           "flow": "atomic",
           "help": null,
           "label": "input_1",
           "name": "input_1",
           "series": false,
           "type": "Any",
           "type_check": true
          },
          {
           "default": null,
           "flow": "atomic",
           "help": null,
           "label": "input_2",
           "name": "input_2",
           "series": false,
           "type": "Any",
           "type_check": true
          }
         ],
         "outputs": [
          {
           "flow": "atomic",
           "help": null,
           "label": "sum_output",
           "name": "sum_output",
           "series": false,
           "type": "Any",
           "type_check": true
          }
         ],
         "overwritten": false,
         "var_names": [
          "Add1"
         ]
        },
        {
         "class_name": "Branch2_Add1",
         "id": "8ca8b2c5-d5e7-404e-bf03-52d7b2a73cce",
         "inputs": [
          {
           "default": null,
           "flow": "atomic",
           "help": null,
           "label": "arr1",
           "name": "arr1",
           "series": false,
           "type": "Any",
           "type_check": true
          },
          {
           "default": null,
           "flow": "atomic",
           "help": null,
           "label": "arr2",
           "name": "arr2",
           "series": false,
           "type": "Any",
           "type_check": true
          }
         ],
         "outputs": [
          {
           "flow": "atomic",
           "help": null,
           "label": "sum_output_arr",
           "name": "sum_output_arr",
           "series": false,
           "type": "Any",
           "type_check": true
          }
         ],
         "overwritten": false,
         "var_names": [
          "Branch2_Add1"
         ]
        },
        {
         "class_name": "Branch3_Subtract1",
         "id": "770edfad-4d7f-4f8b-a432-369d2b26320c",
         "inputs": [
          {
           "default": null,
           "flow": "atomic",
           "help": null,
           "label": "input_1",
           "name": "input_1",
           "series": false,
           "type": "Any",
           "type_check": true
          },
          {
           "default": null,
           "flow": "atomic",
           "help": null,
           "label": "input_2",
           "name": "input_2",
           "series": false,
           "type": "Any",
           "type_check": true
          }
         ],
         "outputs": [
          {
           "flow": "atomic",
           "help": null,
           "label": "output_diff_arr",
           "name": "output_diff_arr",
           "series": false,
           "type": "Any",
           "type_check": true
          }
         ],
         "overwritten": false,
         "var_names": [
          "Branch3_Subtract1"
         ]
        },
        {
         "class_name": "Add3",
         "id": "fc2e0c5e-8a15-4b5a-9bee-a64a4edadc42",
         "inputs": [
          {
           "default": null,
           "flow": "atomic",
           "help": null,
           "label": "input_1",
           "name": "input_1",
           "series": false,
           "type": "Any",
           "type_check": true
          },
          {
           "default": null,
           "flow": "atomic",
           "help": null,
           "label": "input_2",
           "name": "input_2",
           "series": false,
           "type": "Any",
           "type_check": true
          }
         ],
         "outputs": [
          {
           "flow": "atomic",
           "help": null,
           "label": "sum_output",
           "name": "sum_output",
           "series": false,
           "type": "Any",
           "type_check": true
          }
         ],
         "overwritten": false,
         "var_names": [
          "Add3"
         ]
        },
        {
         "class_name": "Branch3_Add1",
         "id": "71894c28-ef46-4270-b45c-f7b7cf2bc0eb",
         "inputs": [
          {
           "default": null,
           "flow": "atomic",
           "help": null,
           "label": "arr1",
           "name": "arr1",
           "series": false,
           "type": "Any",
           "type_check": true
          },
          {
           "default": null,
           "flow": "atomic",
           "help": null,
           "label": "arr2",
           "name": "arr2",
           "series": false,
           "type": "Any",
           "type_check": true
          },
          {
           "default": null,
           "flow": "atomic",
           "help": null,
           "label": "out_file",
           "name": "out_file",
           "series": false,
           "type": "Any",
           "type_check": true
          }
         ],
         "outputs": [],
         "overwritten": false,
         "var_names": [
          "Branch3_Add1"
         ]
        },
        {
         "class_name": "Multiply3",
         "id": "86415391-2684-4096-8272-d7cce7f44153",
         "inputs": [
          {
           "default": null,
           "flow": "atomic",
           "help": null,
           "label": "input_sum",
           "name": "input_sum",
           "series": false,
           "type": "Any",
           "type_check": true
          },
          {
           "default": null,
           "flow": "atomic",
           "help": null,
           "label": "input_multiplier",
           "name": "input_multiplier",
           "series": false,
           "type": "Any",
           "type_check": true
          },
          {
           "default": null,
           "flow": "atomic",
           "help": null,
           "label": "out_file",
           "name": "out_file",
           "series": false,
           "type": "Any",
           "type_check": true
          }
         ],
         "outputs": [],
         "overwritten": false,
         "var_names": [
          "Multiply3"
         ]
        },
        {
         "class_name": "Branch3_Multiply1",
         "id": "e0b41f7e-6895-41e2-9414-efcda95d1da1",
         "inputs": [
          {
           "default": null,
           "flow": "atomic",
           "help": null,
           "label": "arr1",
           "name": "arr1",
           "series": false,
           "type": "Any",
           "type_check": true
          },
          {
           "default": null,
           "flow": "atomic",
           "help": null,
           "label": "arr2",
           "name": "arr2",
           "series": false,
           "type": "Any",
           "type_check": true
          }
         ],
         "outputs": [
          {
           "flow": "atomic",
           "help": null,
           "label": "output_mul_arr",
           "name": "output_mul_arr",
           "series": false,
           "type": "Any",
           "type_check": true
          }
         ],
         "overwritten": false,
         "var_names": [
          "Branch3_Multiply1"
         ]
        },
        {
         "class_name": "Subtract",
         "id": "8930e2f6-b8dd-4758-b67e-0361a86a1454",
         "inputs": [
          {
           "default": null,
           "flow": "atomic",
           "help": null,
           "label": "input_1",
           "name": "input_1",
           "series": false,
           "type": "Any",
           "type_check": true
          },
          {
           "default": null,
           "flow": "atomic",
           "help": null,
           "label": "input_2",
           "name": "input_2",
           "series": false,
           "type": "Any",
           "type_check": true
          }
         ],
         "outputs": [
          {
           "flow": "atomic",
           "help": null,
           "label": "output_diff",
           "name": "output_diff",
           "series": false,
           "type": "Any",
           "type_check": true
          }
         ],
         "overwritten": false,
         "var_names": [
          "Subtract"
         ]
        },
        {
         "class_name": "Add2",
         "id": "65e7c199-25dd-49ac-a0ca-4e63427e18d0",
         "inputs": [
          {
           "default": null,
           "flow": "atomic",
           "help": null,
           "label": "input_1",
           "name": "input_1",
           "series": false,
           "type": "Any",
           "type_check": true
          },
          {
           "default": null,
           "flow": "atomic",
           "help": null,
           "label": "input_2",
           "name": "input_2",
           "series": false,
           "type": "Any",
           "type_check": true
          }
         ],
         "outputs": [
          {
           "flow": "atomic",
           "help": null,
           "label": "sum_output",
           "name": "sum_output",
           "series": false,
           "type": "Any",
           "type_check": true
          }
         ],
         "overwritten": false,
         "var_names": [
          "Add2"
         ]
        },
        {
         "class_name": "Multiply2",
         "id": "41d0c26d-c7ff-4490-8a68-333ea5d03a90",
         "inputs": [
          {
           "default": null,
           "flow": "atomic",
           "help": null,
           "label": "input_sum",
           "name": "input_sum",
           "series": false,
           "type": "Any",
           "type_check": true
          },
          {
           "default": null,
           "flow": "atomic",
           "help": null,
           "label": "input_multiplier",
           "name": "input_multiplier",
           "series": false,
           "type": "Any",
           "type_check": true
          }
         ],
         "outputs": [
          {
           "flow": "atomic",
           "help": null,
           "label": "output_mul",
           "name": "output_mul",
           "series": false,
           "type": "Any",
           "type_check": true
          }
         ],
         "overwritten": false,
         "var_names": [
          "Multiply2"
         ]
        }
       ],
       "connections": [
        {
         "id": "27f948a7-3849-4da1-a2aa-cfedb8f5dc7c",
         "source": {
          "adapter": false,
          "instance_id": "8335dc02-26a8-4c90-bd55-fcd0a0c088c3",
          "name": "sum_output"
         },
         "target": {
          "adapter": false,
          "instance_id": "4f8febd9-08ba-4d9b-bca4-2518027e98fb",
          "name": "input_multiplier"
         }
        },
        {
         "id": "3e67419e-e75b-465a-b995-d258d10dd9e2",
         "source": {
          "adapter": false,
          "instance_id": "f2be3fbc-3e75-4747-ad27-cce99c8606b6",
          "name": "arr1"
         },
         "target": {
          "adapter": false,
          "instance_id": "f00b08d7-7862-440c-baff-15985a006123",
          "name": "input_1"
         }
        },
        {
         "id": "111c1dfa-5cd3-4131-b362-42920f2b75e2",
         "source": {
          "adapter": false,
          "instance_id": "f2be3fbc-3e75-4747-ad27-cce99c8606b6",
          "name": "h"
         },
         "target": {
          "adapter": false,
          "instance_id": "8335dc02-26a8-4c90-bd55-fcd0a0c088c3",
          "name": "input_2"
         }
        },
        {
         "id": "3b4fa117-fd09-43a2-86d2-69fb0ac1d578",
         "source": {
          "adapter": false,
          "instance_id": "f2be3fbc-3e75-4747-ad27-cce99c8606b6",
          "name": "b"
         },
         "target": {
          "adapter": false,
          "instance_id": "c6546f92-6f00-4b5b-8129-c050662e5b29",
          "name": "input_2"
         }
        },
        {
         "id": "afe690c8-6144-4897-862a-733a82462f23",
         "source": {
          "adapter": false,
          "instance_id": "f2be3fbc-3e75-4747-ad27-cce99c8606b6",
          "name": "e"
         },
         "target": {
          "adapter": false,
          "instance_id": "1c06cf54-93da-4397-8ca4-134cc4dbc4be",
          "name": "input_1"
         }
        },
        {
         "id": "278d4a98-43bf-47f7-accb-344c55a7c5b8",
         "source": {
          "adapter": false,
          "instance_id": "78219239-3a8b-43c0-bc33-60eeca3c6d23",
          "name": "output_mul"
         },
         "target": {
          "adapter": false,
          "instance_id": "4f8febd9-08ba-4d9b-bca4-2518027e98fb",
          "name": "input_sum"
         }
        },
        {
         "id": "a4038be5-4965-4ece-a96e-946d40c6cd77",
         "source": {
          "adapter": false,
          "instance_id": "66da0ade-9d2b-4f0b-941a-0f023a397c9a",
          "name": "sum_output"
         },
         "target": {
          "adapter": false,
          "instance_id": "443103df-951f-409c-8a12-a94a1502baa1",
          "name": "input_multiplier"
         }
        },
        {
         "id": "53461062-b190-4b10-92f2-5b6aa8e53c3a",
         "source": {
          "adapter": false,
          "instance_id": "3d5e75cb-ea77-4858-846f-7e28455414e4",
          "name": "output_mul_arr"
         },
         "target": {
          "adapter": false,
          "instance_id": "f00b08d7-7862-440c-baff-15985a006123",
          "name": "input_2"
         }
        },
        {
         "id": "639f602d-d079-4078-9a6e-8734c39a623c",
         "source": {
          "adapter": false,
          "instance_id": "f2be3fbc-3e75-4747-ad27-cce99c8606b6",
          "name": "arr1"
         },
         "target": {
          "adapter": false,
          "instance_id": "312dd52b-dd2e-4ff2-9b87-cebe5ac4a526",
          "name": "arr1"
         }
        },
        {
         "id": "00bc45a3-b659-4ccd-a9c6-98e461d88a3d",
         "source": {
          "adapter": false,
          "instance_id": "f2be3fbc-3e75-4747-ad27-cce99c8606b6",
          "name": "arr1"
         },
         "target": {
          "adapter": false,
          "instance_id": "3d5e75cb-ea77-4858-846f-7e28455414e4",
          "name": "arr1"
         }
        },
        {
         "id": "2726cc59-f058-4bdb-91fc-8a685074c352",
         "source": {
          "adapter": false,
          "instance_id": "f2be3fbc-3e75-4747-ad27-cce99c8606b6",
          "name": "arr2"
         },
         "target": {
          "adapter": false,
          "instance_id": "3d5e75cb-ea77-4858-846f-7e28455414e4",
          "name": "arr2"
         }
        },
        {
         "id": "c35f3c7b-d059-4dbc-b67c-1ab018ec2b2d",
         "source": {
          "adapter": false,
          "instance_id": "1c06cf54-93da-4397-8ca4-134cc4dbc4be",
          "name": "sum_output"
         },
         "target": {
          "adapter": false,
          "instance_id": "78219239-3a8b-43c0-bc33-60eeca3c6d23",
          "name": "input_multiplier"
         }
        },
        {
         "id": "55923327-4190-4303-8363-97416fa9c471",
         "source": {
          "adapter": false,
          "instance_id": "312dd52b-dd2e-4ff2-9b87-cebe5ac4a526",
          "name": "sum_output_arr"
         },
         "target": {
          "adapter": false,
          "instance_id": "725838ea-5f0e-4f12-928f-016dde2e1368",
          "name": "arr2"
         }
        },
        {
         "id": "d0f34c5c-5fe8-45e2-8560-5c0cff6a36f2",
         "source": {
          "adapter": false,
          "instance_id": "f2be3fbc-3e75-4747-ad27-cce99c8606b6",
          "name": "arr2"
         },
         "target": {
          "adapter": false,
          "instance_id": "b27a10d0-2257-409f-9f5b-20d03a3c36ca",
          "name": "arr1"
         }
        },
        {
         "id": "7e0280d9-722a-4662-9f09-ab00df65582c",
         "source": {
          "adapter": false,
          "instance_id": "f2be3fbc-3e75-4747-ad27-cce99c8606b6",
          "name": "arr1"
         },
         "target": {
          "adapter": false,
          "instance_id": "725838ea-5f0e-4f12-928f-016dde2e1368",
          "name": "arr1"
         }
        },
        {
         "id": "6e50cdf4-538d-41a5-8b03-f7d48f3abeb0",
         "source": {
          "adapter": false,
          "instance_id": "bffa5a5e-5785-4a4e-9ef7-eb7492c63ee3",
          "name": "output_diff"
         },
         "target": {
          "adapter": false,
          "instance_id": "78219239-3a8b-43c0-bc33-60eeca3c6d23",
          "name": "input_sum"
         }
        },
        {
         "id": "db805de6-2e4c-4a2c-be4d-0847a9fe9190",
         "source": {
          "adapter": false,
          "instance_id": "f2be3fbc-3e75-4747-ad27-cce99c8606b6",
          "name": "d"
         },
         "target": {
          "adapter": false,
          "instance_id": "66da0ade-9d2b-4f0b-941a-0f023a397c9a",
          "name": "input_2"
         }
        },
        {
         "id": "47f56870-8f58-4632-acfe-f24a3ee23635",
         "source": {
          "adapter": false,
          "instance_id": "f00b08d7-7862-440c-baff-15985a006123",
          "name": "output_diff_arr"
         },
         "target": {
          "adapter": false,
          "instance_id": "b27a10d0-2257-409f-9f5b-20d03a3c36ca",
          "name": "arr2"
         }
        },
        {
         "id": "84dda736-e32b-410d-b988-219998f505f5",
         "source": {
          "adapter": false,
          "instance_id": "443103df-951f-409c-8a12-a94a1502baa1",
          "name": "output_mul"
         },
         "target": {
          "adapter": false,
          "instance_id": "bffa5a5e-5785-4a4e-9ef7-eb7492c63ee3",
          "name": "input_1"
         }
        },
        {
         "id": "5be52dd8-058f-4373-b1be-25979c92acfc",
         "source": {
          "adapter": false,
          "instance_id": "f2be3fbc-3e75-4747-ad27-cce99c8606b6",
          "name": "c"
         },
         "target": {
          "adapter": false,
          "instance_id": "66da0ade-9d2b-4f0b-941a-0f023a397c9a",
          "name": "input_1"
         }
        },
        {
         "id": "acdeb819-6dcf-45bb-a5ad-bba3d3d58e1e",
         "source": {
          "adapter": false,
          "instance_id": "f2be3fbc-3e75-4747-ad27-cce99c8606b6",
          "name": "arr2"
         },
         "target": {
          "adapter": false,
          "instance_id": "6b190df6-1110-4d2d-b5ea-1a7ad5d2d7f0",
          "name": "arr1"
         }
        },
        {
         "id": "f2d3e1a8-28f1-4022-8a56-20948bad89b4",
         "source": {
          "adapter": false,
          "instance_id": "f2be3fbc-3e75-4747-ad27-cce99c8606b6",
          "name": "i"
         },
         "target": {
          "adapter": false,
          "instance_id": "bffa5a5e-5785-4a4e-9ef7-eb7492c63ee3",
          "name": "input_2"
         }
        },
        {
         "id": "104b5e09-0a43-46b9-ac9a-0f4f823bac9b",
         "source": {
          "adapter": false,
          "instance_id": "f2be3fbc-3e75-4747-ad27-cce99c8606b6",
          "name": "f"
         },
         "target": {
          "adapter": false,
          "instance_id": "1c06cf54-93da-4397-8ca4-134cc4dbc4be",
          "name": "input_2"
         }
        },
        {
         "id": "d0fd4887-f70d-4fa9-be23-ec5e2784d637",
         "source": {
          "adapter": false,
          "instance_id": "f2be3fbc-3e75-4747-ad27-cce99c8606b6",
          "name": "g"
         },
         "target": {
          "adapter": false,
          "instance_id": "8335dc02-26a8-4c90-bd55-fcd0a0c088c3",
          "name": "input_1"
         }
        },
        {
         "id": "6691bb93-d790-4588-91d1-5860c97b8b5d",
         "source": {
          "adapter": false,
          "instance_id": "c6546f92-6f00-4b5b-8129-c050662e5b29",
          "name": "sum_output"
         },
         "target": {
          "adapter": false,
          "instance_id": "443103df-951f-409c-8a12-a94a1502baa1",
          "name": "input_sum"
         }
        },
        {
         "id": "42e188fc-f81a-46fd-bdbc-bf5324d9ec50",
         "source": {
          "adapter": false,
          "instance_id": "b27a10d0-2257-409f-9f5b-20d03a3c36ca",
          "name": "output_mul_arr"
         },
         "target": {
          "adapter": false,
          "instance_id": "42e6ecd4-f5c4-4829-b92a-edd933d95ffe",
          "name": "arr1"
         }
        },
        {
         "id": "ba4a487d-4305-498b-b799-4034e1ab281a",
         "source": {
          "adapter": false,
          "instance_id": "b27a10d0-2257-409f-9f5b-20d03a3c36ca",
          "name": "output_mul_arr"
         },
         "target": {
          "adapter": false,
          "instance_id": "42e6ecd4-f5c4-4829-b92a-edd933d95ffe",
          "name": "arr2"
         }
        },
        {
         "id": "269fb481-abfb-49e5-9ed0-aa021846a907",
         "source": {
          "adapter": false,
          "instance_id": "f2be3fbc-3e75-4747-ad27-cce99c8606b6",
          "name": "arr2"
         },
         "target": {
          "adapter": false,
          "instance_id": "312dd52b-dd2e-4ff2-9b87-cebe5ac4a526",
          "name": "arr2"
         }
        },
        {
         "id": "4f436e38-f5b5-4351-a240-e20c29baf19f",
         "source": {
          "adapter": false,
          "instance_id": "f2be3fbc-3e75-4747-ad27-cce99c8606b6",
          "name": "a"
         },
         "target": {
          "adapter": false,
          "instance_id": "c6546f92-6f00-4b5b-8129-c050662e5b29",
          "name": "input_1"
         }
        },
        {
         "id": "9514d097-3d0c-47de-bbb4-0970db41ec9c",
         "source": {
          "adapter": false,
          "instance_id": "725838ea-5f0e-4f12-928f-016dde2e1368",
          "name": "output_mul_arr"
         },
         "target": {
          "adapter": false,
          "instance_id": "6b190df6-1110-4d2d-b5ea-1a7ad5d2d7f0",
          "name": "arr2"
         }
        }
       ],
       "id": "184c6662-9712-48dc-a6e3-09bc6745f098",
       "instances": [
        {
         "block_class": "86415391-2684-4096-8272-d7cce7f44153",
         "id": "4f8febd9-08ba-4d9b-bca4-2518027e98fb",
         "name": "Multiply3_1",
         "var_names": [
          "mul3"
         ]
        },
        {
         "block_class": "41d0c26d-c7ff-4490-8a68-333ea5d03a90",
         "id": "78219239-3a8b-43c0-bc33-60eeca3c6d23",
         "name": "Multiply2_1",
         "var_names": [
          "mul2"
         ]
        },
        {
         "block_class": "8930e2f6-b8dd-4758-b67e-0361a86a1454",
         "id": "bffa5a5e-5785-4a4e-9ef7-eb7492c63ee3",
         "name": "Subtract_1",
         "var_names": [
          "sub"
         ]
        },
        {
         "block_class": "e127b4e0-6756-4939-aceb-711cf210b960",
         "id": "443103df-951f-409c-8a12-a94a1502baa1",
         "name": "Multiply1_1",
         "var_names": [
          "mul1"
         ]
        },
        {
         "block_class": "841f1890-6211-4489-a635-f2a47fe0de6b",
         "id": "c6546f92-6f00-4b5b-8129-c050662e5b29",
         "name": "Add1_1",
         "var_names": [
          "add1"
         ]
        },
        {
         "block_class": "1f1b78ff-a1d6-47fc-aa68-3d7f53da1485",
         "id": "f2be3fbc-3e75-4747-ad27-cce99c8606b6",
         "name": "STDIn_1",
         "var_names": [
          "stdin_obj"
         ]
        },
        {
         "block_class": "65e7c199-25dd-49ac-a0ca-4e63427e18d0",
         "id": "66da0ade-9d2b-4f0b-941a-0f023a397c9a",
         "name": "Add2_1",
         "var_names": [
          "add2"
         ]
        },
        {
         "block_class": "fc2e0c5e-8a15-4b5a-9bee-a64a4edadc42",
         "id": "1c06cf54-93da-4397-8ca4-134cc4dbc4be",
         "name": "Add3_1",
         "var_names": [
          "add3"
         ]
        },
        {
         "block_class": "2833c90b-17e5-4570-ba49-f01e767a129e",
         "id": "8335dc02-26a8-4c90-bd55-fcd0a0c088c3",
         "name": "Add4_1",
         "var_names": [
          "add4"
         ]
        },
        {
         "block_class": "dbb68cfd-9cf3-4093-b485-136da68444b7",
         "id": "6b190df6-1110-4d2d-b5ea-1a7ad5d2d7f0",
         "name": "Branch2_Add2_1",
         "var_names": [
          "branch2__add2"
         ]
        },
        {
         "block_class": "8e8115eb-3315-4bf7-9c47-d93e457e1cd4",
         "id": "725838ea-5f0e-4f12-928f-016dde2e1368",
         "name": "Branch2_Multiply1_1",
         "var_names": [
          "branch2__multiply1"
         ]
        },
        {
         "block_class": "8ca8b2c5-d5e7-404e-bf03-52d7b2a73cce",
         "id": "312dd52b-dd2e-4ff2-9b87-cebe5ac4a526",
         "name": "Branch2_Add1_1",
         "var_names": [
          "branch2__add1"
         ]
        },
        {
         "block_class": "71894c28-ef46-4270-b45c-f7b7cf2bc0eb",
         "id": "42e6ecd4-f5c4-4829-b92a-edd933d95ffe",
         "name": "Branch3_Add1_1",
         "var_names": [
          "branch3__add1"
         ]
        },
        {
         "block_class": "d3502942-5b1d-4c18-be75-0f6e47a127ee",
         "id": "b27a10d0-2257-409f-9f5b-20d03a3c36ca",
         "name": "Branch3_Multiply2_1",
         "var_names": [
          "branch3__multiply2"
         ]
        },
        {
         "block_class": "770edfad-4d7f-4f8b-a432-369d2b26320c",
         "id": "f00b08d7-7862-440c-baff-15985a006123",
         "name": "Branch3_Subtract1_1",
         "var_names": [
          "branch3__subtract1"
         ]
        },
        {
         "block_class": "e0b41f7e-6895-41e2-9414-efcda95d1da1",
         "id": "3d5e75cb-ea77-4858-846f-7e28455414e4",
         "name": "Branch3_Multiply1_1",
         "var_names": [
          "branch3__multiply1"
         ]
        }
       ],
       "name": "HighMemoryLowCore",
       "var_names": []
      },
      "image/svg+xml": [
       "<?xml version=\"1.0\" encoding=\"UTF-8\" standalone=\"no\"?>\n",
       "<!DOCTYPE svg PUBLIC \"-//W3C//DTD SVG 1.1//EN\"\n",
       " \"http://www.w3.org/Graphics/SVG/1.1/DTD/svg11.dtd\">\n",
       "<!-- Generated by graphviz version 2.43.0 (0)\n",
       " -->\n",
       "<!-- Title: %3 Pages: 1 -->\n",
       "<svg width=\"1408pt\" height=\"459pt\"\n",
       " viewBox=\"0.00 0.00 1407.68 459.00\" xmlns=\"http://www.w3.org/2000/svg\" xmlns:xlink=\"http://www.w3.org/1999/xlink\">\n",
       "<g id=\"graph0\" class=\"graph\" transform=\"scale(1 1) rotate(0) translate(4 455)\">\n",
       "<title>%3</title>\n",
       "<polygon fill=\"white\" stroke=\"transparent\" points=\"-4,4 -4,-455 1403.68,-455 1403.68,4 -4,4\"/>\n",
       "<!-- Multiply3(&#39;Multiply3_1&#39;) -->\n",
       "<g id=\"node1\" class=\"node\">\n",
       "<title>Multiply3(&#39;Multiply3_1&#39;)</title>\n",
       "<ellipse fill=\"none\" stroke=\"black\" cx=\"473.41\" cy=\"-18\" rx=\"78.08\" ry=\"18\"/>\n",
       "<text text-anchor=\"middle\" x=\"473.41\" y=\"-15.5\" font-family=\"Helvetica,sans-Serif\" font-size=\"10.00\">Multiply3(&#39;Multiply3_1&#39;)</text>\n",
       "</g>\n",
       "<!-- Multiply2(&#39;Multiply2_1&#39;) -->\n",
       "<g id=\"node2\" class=\"node\">\n",
       "<title>Multiply2(&#39;Multiply2_1&#39;)</title>\n",
       "<ellipse fill=\"none\" stroke=\"black\" cx=\"378.41\" cy=\"-101\" rx=\"78.08\" ry=\"18\"/>\n",
       "<text text-anchor=\"middle\" x=\"378.41\" y=\"-98.5\" font-family=\"Helvetica,sans-Serif\" font-size=\"10.00\">Multiply2(&#39;Multiply2_1&#39;)</text>\n",
       "</g>\n",
       "<!-- Multiply2(&#39;Multiply2_1&#39;)&#45;&gt;Multiply3(&#39;Multiply3_1&#39;) -->\n",
       "<g id=\"edge1\" class=\"edge\">\n",
       "<title>Multiply2(&#39;Multiply2_1&#39;)&#45;&gt;Multiply3(&#39;Multiply3_1&#39;)</title>\n",
       "<path fill=\"none\" stroke=\"black\" d=\"M386.92,-82.75C392.16,-73.4 399.56,-62.13 408.41,-54 414.38,-48.51 421.37,-43.6 428.51,-39.31\"/>\n",
       "<polygon fill=\"black\" stroke=\"black\" points=\"430.57,-42.17 437.57,-34.22 427.14,-36.06 430.57,-42.17\"/>\n",
       "<text text-anchor=\"middle\" x=\"467.91\" y=\"-57\" font-family=\"Helvetica,sans-Serif\" font-size=\"10.00\">output_mul&#45;&gt;input_sum</text>\n",
       "</g>\n",
       "<!-- Subtract(&#39;Subtract_1&#39;) -->\n",
       "<g id=\"node3\" class=\"node\">\n",
       "<title>Subtract(&#39;Subtract_1&#39;)</title>\n",
       "<ellipse fill=\"none\" stroke=\"black\" cx=\"158.41\" cy=\"-184\" rx=\"71.63\" ry=\"18\"/>\n",
       "<text text-anchor=\"middle\" x=\"158.41\" y=\"-181.5\" font-family=\"Helvetica,sans-Serif\" font-size=\"10.00\">Subtract(&#39;Subtract_1&#39;)</text>\n",
       "</g>\n",
       "<!-- Subtract(&#39;Subtract_1&#39;)&#45;&gt;Multiply2(&#39;Multiply2_1&#39;) -->\n",
       "<g id=\"edge2\" class=\"edge\">\n",
       "<title>Subtract(&#39;Subtract_1&#39;)&#45;&gt;Multiply2(&#39;Multiply2_1&#39;)</title>\n",
       "<path fill=\"none\" stroke=\"black\" d=\"M185.69,-167.16C203.19,-157.48 226.63,-145.39 248.41,-137 269.31,-128.95 292.78,-122.02 313.96,-116.5\"/>\n",
       "<polygon fill=\"black\" stroke=\"black\" points=\"315.01,-119.85 323.84,-113.99 313.28,-113.06 315.01,-119.85\"/>\n",
       "<text text-anchor=\"middle\" x=\"306.41\" y=\"-140\" font-family=\"Helvetica,sans-Serif\" font-size=\"10.00\">output_diff&#45;&gt;input_sum</text>\n",
       "</g>\n",
       "<!-- Multiply1(&#39;Multiply1_1&#39;) -->\n",
       "<g id=\"node4\" class=\"node\">\n",
       "<title>Multiply1(&#39;Multiply1_1&#39;)</title>\n",
       "<ellipse fill=\"none\" stroke=\"black\" cx=\"158.41\" cy=\"-267\" rx=\"78.08\" ry=\"18\"/>\n",
       "<text text-anchor=\"middle\" x=\"158.41\" y=\"-264.5\" font-family=\"Helvetica,sans-Serif\" font-size=\"10.00\">Multiply1(&#39;Multiply1_1&#39;)</text>\n",
       "</g>\n",
       "<!-- Multiply1(&#39;Multiply1_1&#39;)&#45;&gt;Subtract(&#39;Subtract_1&#39;) -->\n",
       "<g id=\"edge3\" class=\"edge\">\n",
       "<title>Multiply1(&#39;Multiply1_1&#39;)&#45;&gt;Subtract(&#39;Subtract_1&#39;)</title>\n",
       "<path fill=\"none\" stroke=\"black\" d=\"M158.41,-248.82C158.41,-238.19 158.41,-224.31 158.41,-212.2\"/>\n",
       "<polygon fill=\"black\" stroke=\"black\" points=\"161.91,-212.15 158.41,-202.15 154.91,-212.15 161.91,-212.15\"/>\n",
       "<text text-anchor=\"middle\" x=\"210.41\" y=\"-223\" font-family=\"Helvetica,sans-Serif\" font-size=\"10.00\">output_mul&#45;&gt;input_1</text>\n",
       "</g>\n",
       "<!-- Add1(&#39;Add1_1&#39;) -->\n",
       "<g id=\"node5\" class=\"node\">\n",
       "<title>Add1(&#39;Add1_1&#39;)</title>\n",
       "<ellipse fill=\"none\" stroke=\"black\" cx=\"78.41\" cy=\"-350\" rx=\"53.64\" ry=\"18\"/>\n",
       "<text text-anchor=\"middle\" x=\"78.41\" y=\"-347.5\" font-family=\"Helvetica,sans-Serif\" font-size=\"10.00\">Add1(&#39;Add1_1&#39;)</text>\n",
       "</g>\n",
       "<!-- Add1(&#39;Add1_1&#39;)&#45;&gt;Multiply1(&#39;Multiply1_1&#39;) -->\n",
       "<g id=\"edge4\" class=\"edge\">\n",
       "<title>Add1(&#39;Add1_1&#39;)&#45;&gt;Multiply1(&#39;Multiply1_1&#39;)</title>\n",
       "<path fill=\"none\" stroke=\"black\" d=\"M68.79,-332.04C64.93,-322.78 62.59,-311.5 68.41,-303 74.09,-294.7 82.05,-288.36 90.91,-283.53\"/>\n",
       "<polygon fill=\"black\" stroke=\"black\" points=\"92.5,-286.65 100.02,-279.19 89.49,-280.33 92.5,-286.65\"/>\n",
       "<text text-anchor=\"middle\" x=\"128.91\" y=\"-306\" font-family=\"Helvetica,sans-Serif\" font-size=\"10.00\">sum_output&#45;&gt;input_sum</text>\n",
       "</g>\n",
       "<!-- STDIn(&#39;STDIn_1&#39;) -->\n",
       "<g id=\"node6\" class=\"node\">\n",
       "<title>STDIn(&#39;STDIn_1&#39;)</title>\n",
       "<ellipse fill=\"none\" stroke=\"black\" cx=\"588.41\" cy=\"-433\" rx=\"57.88\" ry=\"18\"/>\n",
       "<text text-anchor=\"middle\" x=\"588.41\" y=\"-430.5\" font-family=\"Helvetica,sans-Serif\" font-size=\"10.00\">STDIn(&#39;STDIn_1&#39;)</text>\n",
       "</g>\n",
       "<!-- STDIn(&#39;STDIn_1&#39;)&#45;&gt;Subtract(&#39;Subtract_1&#39;) -->\n",
       "<g id=\"edge9\" class=\"edge\">\n",
       "<title>STDIn(&#39;STDIn_1&#39;)&#45;&gt;Subtract(&#39;Subtract_1&#39;)</title>\n",
       "<path fill=\"none\" stroke=\"black\" d=\"M530.81,-430.84C399.01,-427.81 83.46,-418.41 40.41,-397 1.02,-377.41 -8.82,-343.04 9.41,-303 30.33,-257.04 79.48,-223.86 115.64,-204.61\"/>\n",
       "<polygon fill=\"black\" stroke=\"black\" points=\"117.25,-207.71 124.52,-200.01 114.03,-201.5 117.25,-207.71\"/>\n",
       "<text text-anchor=\"middle\" x=\"35.41\" y=\"-306\" font-family=\"Helvetica,sans-Serif\" font-size=\"10.00\">i&#45;&gt;input_2</text>\n",
       "</g>\n",
       "<!-- STDIn(&#39;STDIn_1&#39;)&#45;&gt;Add1(&#39;Add1_1&#39;) -->\n",
       "<g id=\"edge5\" class=\"edge\">\n",
       "<title>STDIn(&#39;STDIn_1&#39;)&#45;&gt;Add1(&#39;Add1_1&#39;)</title>\n",
       "<path fill=\"none\" stroke=\"black\" d=\"M530.69,-432.61C397.96,-433.42 79.91,-431.68 47.41,-397 40.99,-390.15 43.95,-381.84 50.09,-374.19\"/>\n",
       "<polygon fill=\"black\" stroke=\"black\" points=\"52.72,-376.49 57.05,-366.82 47.64,-371.69 52.72,-376.49\"/>\n",
       "<text text-anchor=\"middle\" x=\"74.91\" y=\"-389\" font-family=\"Helvetica,sans-Serif\" font-size=\"10.00\">a&#45;&gt;input_1</text>\n",
       "</g>\n",
       "<!-- STDIn(&#39;STDIn_1&#39;)&#45;&gt;Add1(&#39;Add1_1&#39;) -->\n",
       "<g id=\"edge6\" class=\"edge\">\n",
       "<title>STDIn(&#39;STDIn_1&#39;)&#45;&gt;Add1(&#39;Add1_1&#39;)</title>\n",
       "<path fill=\"none\" stroke=\"black\" d=\"M530.74,-431.44C426.35,-429.78 210.37,-423.18 140.41,-397 126.6,-391.83 113.22,-382.62 102.44,-373.78\"/>\n",
       "<polygon fill=\"black\" stroke=\"black\" points=\"104.61,-371.03 94.74,-367.18 100.05,-376.35 104.61,-371.03\"/>\n",
       "<text text-anchor=\"middle\" x=\"167.91\" y=\"-389\" font-family=\"Helvetica,sans-Serif\" font-size=\"10.00\">b&#45;&gt;input_2</text>\n",
       "</g>\n",
       "<!-- Add2(&#39;Add2_1&#39;) -->\n",
       "<g id=\"node7\" class=\"node\">\n",
       "<title>Add2(&#39;Add2_1&#39;)</title>\n",
       "<ellipse fill=\"none\" stroke=\"black\" cx=\"215.41\" cy=\"-350\" rx=\"53.64\" ry=\"18\"/>\n",
       "<text text-anchor=\"middle\" x=\"215.41\" y=\"-347.5\" font-family=\"Helvetica,sans-Serif\" font-size=\"10.00\">Add2(&#39;Add2_1&#39;)</text>\n",
       "</g>\n",
       "<!-- STDIn(&#39;STDIn_1&#39;)&#45;&gt;Add2(&#39;Add2_1&#39;) -->\n",
       "<g id=\"edge7\" class=\"edge\">\n",
       "<title>STDIn(&#39;STDIn_1&#39;)&#45;&gt;Add2(&#39;Add2_1&#39;)</title>\n",
       "<path fill=\"none\" stroke=\"black\" d=\"M530.73,-430.95C428.7,-428.5 225.02,-420.66 203.41,-397 198.43,-391.55 198.4,-384.3 200.45,-377.17\"/>\n",
       "<polygon fill=\"black\" stroke=\"black\" points=\"203.78,-378.29 204.29,-367.7 197.29,-375.66 203.78,-378.29\"/>\n",
       "<text text-anchor=\"middle\" x=\"230.41\" y=\"-389\" font-family=\"Helvetica,sans-Serif\" font-size=\"10.00\">c&#45;&gt;input_1</text>\n",
       "</g>\n",
       "<!-- STDIn(&#39;STDIn_1&#39;)&#45;&gt;Add2(&#39;Add2_1&#39;) -->\n",
       "<g id=\"edge8\" class=\"edge\">\n",
       "<title>STDIn(&#39;STDIn_1&#39;)&#45;&gt;Add2(&#39;Add2_1&#39;)</title>\n",
       "<path fill=\"none\" stroke=\"black\" d=\"M530.71,-431.76C470.74,-429.98 374.86,-422.81 296.41,-397 278.73,-391.18 260.57,-381.3 245.94,-372.18\"/>\n",
       "<polygon fill=\"black\" stroke=\"black\" points=\"247.63,-369.1 237.32,-366.64 243.84,-374.99 247.63,-369.1\"/>\n",
       "<text text-anchor=\"middle\" x=\"323.91\" y=\"-389\" font-family=\"Helvetica,sans-Serif\" font-size=\"10.00\">d&#45;&gt;input_2</text>\n",
       "</g>\n",
       "<!-- Add3(&#39;Add3_1&#39;) -->\n",
       "<g id=\"node8\" class=\"node\">\n",
       "<title>Add3(&#39;Add3_1&#39;)</title>\n",
       "<ellipse fill=\"none\" stroke=\"black\" cx=\"378.41\" cy=\"-350\" rx=\"53.64\" ry=\"18\"/>\n",
       "<text text-anchor=\"middle\" x=\"378.41\" y=\"-347.5\" font-family=\"Helvetica,sans-Serif\" font-size=\"10.00\">Add3(&#39;Add3_1&#39;)</text>\n",
       "</g>\n",
       "<!-- STDIn(&#39;STDIn_1&#39;)&#45;&gt;Add3(&#39;Add3_1&#39;) -->\n",
       "<g id=\"edge10\" class=\"edge\">\n",
       "<title>STDIn(&#39;STDIn_1&#39;)&#45;&gt;Add3(&#39;Add3_1&#39;)</title>\n",
       "<path fill=\"none\" stroke=\"black\" d=\"M530.67,-431.47C469.94,-429.55 380.19,-422.35 358.41,-397 353.3,-391.06 354.26,-383.61 357.64,-376.44\"/>\n",
       "<polygon fill=\"black\" stroke=\"black\" points=\"360.78,-378.03 362.96,-367.66 354.79,-374.4 360.78,-378.03\"/>\n",
       "<text text-anchor=\"middle\" x=\"385.91\" y=\"-389\" font-family=\"Helvetica,sans-Serif\" font-size=\"10.00\">e&#45;&gt;input_1</text>\n",
       "</g>\n",
       "<!-- STDIn(&#39;STDIn_1&#39;)&#45;&gt;Add3(&#39;Add3_1&#39;) -->\n",
       "<g id=\"edge11\" class=\"edge\">\n",
       "<title>STDIn(&#39;STDIn_1&#39;)&#45;&gt;Add3(&#39;Add3_1&#39;)</title>\n",
       "<path fill=\"none\" stroke=\"black\" d=\"M540.1,-423.12C513.84,-417.39 481.15,-408.79 453.41,-397 437.99,-390.45 422.01,-381.06 408.79,-372.48\"/>\n",
       "<polygon fill=\"black\" stroke=\"black\" points=\"410.38,-369.33 400.12,-366.71 406.5,-375.16 410.38,-369.33\"/>\n",
       "<text text-anchor=\"middle\" x=\"479.41\" y=\"-389\" font-family=\"Helvetica,sans-Serif\" font-size=\"10.00\">f&#45;&gt;input_2</text>\n",
       "</g>\n",
       "<!-- Add4(&#39;Add4_1&#39;) -->\n",
       "<g id=\"node9\" class=\"node\">\n",
       "<title>Add4(&#39;Add4_1&#39;)</title>\n",
       "<ellipse fill=\"none\" stroke=\"black\" cx=\"541.41\" cy=\"-350\" rx=\"53.64\" ry=\"18\"/>\n",
       "<text text-anchor=\"middle\" x=\"541.41\" y=\"-347.5\" font-family=\"Helvetica,sans-Serif\" font-size=\"10.00\">Add4(&#39;Add4_1&#39;)</text>\n",
       "</g>\n",
       "<!-- STDIn(&#39;STDIn_1&#39;)&#45;&gt;Add4(&#39;Add4_1&#39;) -->\n",
       "<g id=\"edge12\" class=\"edge\">\n",
       "<title>STDIn(&#39;STDIn_1&#39;)&#45;&gt;Add4(&#39;Add4_1&#39;)</title>\n",
       "<path fill=\"none\" stroke=\"black\" d=\"M543.5,-421.47C530.99,-416.24 518.8,-408.48 511.41,-397 506.73,-389.74 509.12,-381.86 514.16,-374.71\"/>\n",
       "<polygon fill=\"black\" stroke=\"black\" points=\"517.16,-376.59 521.03,-366.73 511.85,-372.02 517.16,-376.59\"/>\n",
       "<text text-anchor=\"middle\" x=\"538.91\" y=\"-389\" font-family=\"Helvetica,sans-Serif\" font-size=\"10.00\">g&#45;&gt;input_1</text>\n",
       "</g>\n",
       "<!-- STDIn(&#39;STDIn_1&#39;)&#45;&gt;Add4(&#39;Add4_1&#39;) -->\n",
       "<g id=\"edge13\" class=\"edge\">\n",
       "<title>STDIn(&#39;STDIn_1&#39;)&#45;&gt;Add4(&#39;Add4_1&#39;)</title>\n",
       "<path fill=\"none\" stroke=\"black\" d=\"M581.15,-415.03C577.15,-406.18 571.9,-395.3 566.41,-386 564.47,-382.72 562.32,-379.36 560.1,-376.08\"/>\n",
       "<polygon fill=\"black\" stroke=\"black\" points=\"562.83,-373.87 554.23,-367.69 557.1,-377.89 562.83,-373.87\"/>\n",
       "<text text-anchor=\"middle\" x=\"599.91\" y=\"-389\" font-family=\"Helvetica,sans-Serif\" font-size=\"10.00\">h&#45;&gt;input_2</text>\n",
       "</g>\n",
       "<!-- Branch2_Add2(&#39;Branch2_Add2_1&#39;) -->\n",
       "<g id=\"node10\" class=\"node\">\n",
       "<title>Branch2_Add2(&#39;Branch2_Add2_1&#39;)</title>\n",
       "<ellipse fill=\"none\" stroke=\"black\" cx=\"814.41\" cy=\"-184\" rx=\"106.6\" ry=\"18\"/>\n",
       "<text text-anchor=\"middle\" x=\"814.41\" y=\"-181.5\" font-family=\"Helvetica,sans-Serif\" font-size=\"10.00\">Branch2_Add2(&#39;Branch2_Add2_1&#39;)</text>\n",
       "</g>\n",
       "<!-- STDIn(&#39;STDIn_1&#39;)&#45;&gt;Branch2_Add2(&#39;Branch2_Add2_1&#39;) -->\n",
       "<g id=\"edge14\" class=\"edge\">\n",
       "<title>STDIn(&#39;STDIn_1&#39;)&#45;&gt;Branch2_Add2(&#39;Branch2_Add2_1&#39;)</title>\n",
       "<path fill=\"none\" stroke=\"black\" d=\"M612.82,-416.47C619.7,-411.05 626.6,-404.44 631.41,-397 668.59,-339.47 628.63,-299.96 674.41,-249 693.81,-227.4 721.97,-212.6 747.95,-202.73\"/>\n",
       "<polygon fill=\"black\" stroke=\"black\" points=\"749.19,-206 757.4,-199.31 746.81,-199.42 749.19,-206\"/>\n",
       "<text text-anchor=\"middle\" x=\"677.41\" y=\"-306\" font-family=\"Helvetica,sans-Serif\" font-size=\"10.00\">arr2&#45;&gt;arr1</text>\n",
       "</g>\n",
       "<!-- Branch2_Multiply1(&#39;Branch2_Multiply1_1&#39;) -->\n",
       "<g id=\"node11\" class=\"node\">\n",
       "<title>Branch2_Multiply1(&#39;Branch2_Multiply1_1&#39;)</title>\n",
       "<ellipse fill=\"none\" stroke=\"black\" cx=\"814.41\" cy=\"-267\" rx=\"131.04\" ry=\"18\"/>\n",
       "<text text-anchor=\"middle\" x=\"814.41\" y=\"-264.5\" font-family=\"Helvetica,sans-Serif\" font-size=\"10.00\">Branch2_Multiply1(&#39;Branch2_Multiply1_1&#39;)</text>\n",
       "</g>\n",
       "<!-- STDIn(&#39;STDIn_1&#39;)&#45;&gt;Branch2_Multiply1(&#39;Branch2_Multiply1_1&#39;) -->\n",
       "<g id=\"edge15\" class=\"edge\">\n",
       "<title>STDIn(&#39;STDIn_1&#39;)&#45;&gt;Branch2_Multiply1(&#39;Branch2_Multiply1_1&#39;)</title>\n",
       "<path fill=\"none\" stroke=\"black\" d=\"M631.59,-420.83C645.18,-415.51 659.26,-407.86 669.41,-397 690.33,-374.61 672.34,-355.16 692.41,-332 709.41,-312.38 733.92,-297.89 756.53,-287.71\"/>\n",
       "<polygon fill=\"black\" stroke=\"black\" points=\"757.94,-290.91 765.74,-283.74 755.17,-284.48 757.94,-290.91\"/>\n",
       "<text text-anchor=\"middle\" x=\"718.41\" y=\"-347.5\" font-family=\"Helvetica,sans-Serif\" font-size=\"10.00\">arr1&#45;&gt;arr1</text>\n",
       "</g>\n",
       "<!-- Branch2_Add1(&#39;Branch2_Add1_1&#39;) -->\n",
       "<g id=\"node12\" class=\"node\">\n",
       "<title>Branch2_Add1(&#39;Branch2_Add1_1&#39;)</title>\n",
       "<ellipse fill=\"none\" stroke=\"black\" cx=\"860.41\" cy=\"-350\" rx=\"106.6\" ry=\"18\"/>\n",
       "<text text-anchor=\"middle\" x=\"860.41\" y=\"-347.5\" font-family=\"Helvetica,sans-Serif\" font-size=\"10.00\">Branch2_Add1(&#39;Branch2_Add1_1&#39;)</text>\n",
       "</g>\n",
       "<!-- STDIn(&#39;STDIn_1&#39;)&#45;&gt;Branch2_Add1(&#39;Branch2_Add1_1&#39;) -->\n",
       "<g id=\"edge16\" class=\"edge\">\n",
       "<title>STDIn(&#39;STDIn_1&#39;)&#45;&gt;Branch2_Add1(&#39;Branch2_Add1_1&#39;)</title>\n",
       "<path fill=\"none\" stroke=\"black\" d=\"M628.54,-420.05C673.8,-406.57 747.88,-384.51 800.1,-368.96\"/>\n",
       "<polygon fill=\"black\" stroke=\"black\" points=\"801.33,-372.25 809.91,-366.04 799.33,-365.54 801.33,-372.25\"/>\n",
       "<text text-anchor=\"middle\" x=\"767.41\" y=\"-389\" font-family=\"Helvetica,sans-Serif\" font-size=\"10.00\">arr1&#45;&gt;arr1</text>\n",
       "</g>\n",
       "<!-- STDIn(&#39;STDIn_1&#39;)&#45;&gt;Branch2_Add1(&#39;Branch2_Add1_1&#39;) -->\n",
       "<g id=\"edge17\" class=\"edge\">\n",
       "<title>STDIn(&#39;STDIn_1&#39;)&#45;&gt;Branch2_Add1(&#39;Branch2_Add1_1&#39;)</title>\n",
       "<path fill=\"none\" stroke=\"black\" d=\"M645.38,-429.56C688.55,-426.05 748.58,-417.55 797.41,-397 810.64,-391.43 823.71,-382.59 834.49,-374.14\"/>\n",
       "<polygon fill=\"black\" stroke=\"black\" points=\"836.71,-376.85 842.25,-367.81 832.29,-371.42 836.71,-376.85\"/>\n",
       "<text text-anchor=\"middle\" x=\"842.41\" y=\"-389\" font-family=\"Helvetica,sans-Serif\" font-size=\"10.00\">arr2&#45;&gt;arr2</text>\n",
       "</g>\n",
       "<!-- Branch3_Multiply2(&#39;Branch3_Multiply2_1&#39;) -->\n",
       "<g id=\"node14\" class=\"node\">\n",
       "<title>Branch3_Multiply2(&#39;Branch3_Multiply2_1&#39;)</title>\n",
       "<ellipse fill=\"none\" stroke=\"black\" cx=\"1112.41\" cy=\"-184\" rx=\"131.04\" ry=\"18\"/>\n",
       "<text text-anchor=\"middle\" x=\"1112.41\" y=\"-181.5\" font-family=\"Helvetica,sans-Serif\" font-size=\"10.00\">Branch3_Multiply2(&#39;Branch3_Multiply2_1&#39;)</text>\n",
       "</g>\n",
       "<!-- STDIn(&#39;STDIn_1&#39;)&#45;&gt;Branch3_Multiply2(&#39;Branch3_Multiply2_1&#39;) -->\n",
       "<g id=\"edge18\" class=\"edge\">\n",
       "<title>STDIn(&#39;STDIn_1&#39;)&#45;&gt;Branch3_Multiply2(&#39;Branch3_Multiply2_1&#39;)</title>\n",
       "<path fill=\"none\" stroke=\"black\" d=\"M645.83,-430.29C742.11,-426.21 930.13,-412.59 976.41,-368 1016.39,-329.48 980.78,-293.18 1014.41,-249 1027.95,-231.21 1047.95,-216.9 1066.35,-206.35\"/>\n",
       "<polygon fill=\"black\" stroke=\"black\" points=\"1068.14,-209.36 1075.22,-201.48 1064.77,-203.22 1068.14,-209.36\"/>\n",
       "<text text-anchor=\"middle\" x=\"1024.41\" y=\"-306\" font-family=\"Helvetica,sans-Serif\" font-size=\"10.00\">arr2&#45;&gt;arr1</text>\n",
       "</g>\n",
       "<!-- Branch3_Subtract1(&#39;Branch3_Subtract1_1&#39;) -->\n",
       "<g id=\"node15\" class=\"node\">\n",
       "<title>Branch3_Subtract1(&#39;Branch3_Subtract1_1&#39;)</title>\n",
       "<ellipse fill=\"none\" stroke=\"black\" cx=\"1155.41\" cy=\"-267\" rx=\"131.72\" ry=\"18\"/>\n",
       "<text text-anchor=\"middle\" x=\"1155.41\" y=\"-264.5\" font-family=\"Helvetica,sans-Serif\" font-size=\"10.00\">Branch3_Subtract1(&#39;Branch3_Subtract1_1&#39;)</text>\n",
       "</g>\n",
       "<!-- STDIn(&#39;STDIn_1&#39;)&#45;&gt;Branch3_Subtract1(&#39;Branch3_Subtract1_1&#39;) -->\n",
       "<g id=\"edge19\" class=\"edge\">\n",
       "<title>STDIn(&#39;STDIn_1&#39;)&#45;&gt;Branch3_Subtract1(&#39;Branch3_Subtract1_1&#39;)</title>\n",
       "<path fill=\"none\" stroke=\"black\" d=\"M646.49,-432.81C746.94,-433.3 948.23,-429.96 1009.41,-397 1041.73,-379.58 1033.52,-357.01 1060.41,-332 1077.55,-316.05 1099.02,-301.24 1117.21,-289.89\"/>\n",
       "<polygon fill=\"black\" stroke=\"black\" points=\"1119.14,-292.81 1125.84,-284.6 1115.49,-286.84 1119.14,-292.81\"/>\n",
       "<text text-anchor=\"middle\" x=\"1094.41\" y=\"-347.5\" font-family=\"Helvetica,sans-Serif\" font-size=\"10.00\">arr1&#45;&gt;input_1</text>\n",
       "</g>\n",
       "<!-- Branch3_Multiply1(&#39;Branch3_Multiply1_1&#39;) -->\n",
       "<g id=\"node16\" class=\"node\">\n",
       "<title>Branch3_Multiply1(&#39;Branch3_Multiply1_1&#39;)</title>\n",
       "<ellipse fill=\"none\" stroke=\"black\" cx=\"1268.41\" cy=\"-350\" rx=\"131.04\" ry=\"18\"/>\n",
       "<text text-anchor=\"middle\" x=\"1268.41\" y=\"-347.5\" font-family=\"Helvetica,sans-Serif\" font-size=\"10.00\">Branch3_Multiply1(&#39;Branch3_Multiply1_1&#39;)</text>\n",
       "</g>\n",
       "<!-- STDIn(&#39;STDIn_1&#39;)&#45;&gt;Branch3_Multiply1(&#39;Branch3_Multiply1_1&#39;) -->\n",
       "<g id=\"edge20\" class=\"edge\">\n",
       "<title>STDIn(&#39;STDIn_1&#39;)&#45;&gt;Branch3_Multiply1(&#39;Branch3_Multiply1_1&#39;)</title>\n",
       "<path fill=\"none\" stroke=\"black\" d=\"M645.62,-430.56C735.46,-427.69 914.91,-419.44 1065.41,-397 1111.37,-390.15 1162.38,-378.57 1201.77,-368.75\"/>\n",
       "<polygon fill=\"black\" stroke=\"black\" points=\"1202.68,-372.13 1211.53,-366.29 1200.98,-365.34 1202.68,-372.13\"/>\n",
       "<text text-anchor=\"middle\" x=\"1148.41\" y=\"-389\" font-family=\"Helvetica,sans-Serif\" font-size=\"10.00\">arr1&#45;&gt;arr1</text>\n",
       "</g>\n",
       "<!-- STDIn(&#39;STDIn_1&#39;)&#45;&gt;Branch3_Multiply1(&#39;Branch3_Multiply1_1&#39;) -->\n",
       "<g id=\"edge21\" class=\"edge\">\n",
       "<title>STDIn(&#39;STDIn_1&#39;)&#45;&gt;Branch3_Multiply1(&#39;Branch3_Multiply1_1&#39;)</title>\n",
       "<path fill=\"none\" stroke=\"black\" d=\"M646.06,-431.58C774.22,-430.17 1079.28,-423.99 1178.41,-397 1197.66,-391.76 1217.56,-382.1 1233.74,-372.98\"/>\n",
       "<polygon fill=\"black\" stroke=\"black\" points=\"1235.91,-375.77 1242.8,-367.71 1232.4,-369.71 1235.91,-375.77\"/>\n",
       "<text text-anchor=\"middle\" x=\"1232.41\" y=\"-389\" font-family=\"Helvetica,sans-Serif\" font-size=\"10.00\">arr2&#45;&gt;arr2</text>\n",
       "</g>\n",
       "<!-- Add2(&#39;Add2_1&#39;)&#45;&gt;Multiply1(&#39;Multiply1_1&#39;) -->\n",
       "<g id=\"edge22\" class=\"edge\">\n",
       "<title>Add2(&#39;Add2_1&#39;)&#45;&gt;Multiply1(&#39;Multiply1_1&#39;)</title>\n",
       "<path fill=\"none\" stroke=\"black\" d=\"M208.95,-332.07C205.11,-323.03 199.75,-311.96 193.41,-303 190.77,-299.27 187.71,-295.58 184.53,-292.07\"/>\n",
       "<polygon fill=\"black\" stroke=\"black\" points=\"186.93,-289.52 177.47,-284.74 181.89,-294.37 186.93,-289.52\"/>\n",
       "<text text-anchor=\"middle\" x=\"274.41\" y=\"-306\" font-family=\"Helvetica,sans-Serif\" font-size=\"10.00\">sum_output&#45;&gt;input_multiplier</text>\n",
       "</g>\n",
       "<!-- Add3(&#39;Add3_1&#39;)&#45;&gt;Multiply2(&#39;Multiply2_1&#39;) -->\n",
       "<g id=\"edge23\" class=\"edge\">\n",
       "<title>Add3(&#39;Add3_1&#39;)&#45;&gt;Multiply2(&#39;Multiply2_1&#39;)</title>\n",
       "<path fill=\"none\" stroke=\"black\" d=\"M378.41,-331.63C378.41,-289.28 378.41,-180.42 378.41,-129.29\"/>\n",
       "<polygon fill=\"black\" stroke=\"black\" points=\"381.91,-129.02 378.41,-119.02 374.91,-129.02 381.91,-129.02\"/>\n",
       "<text text-anchor=\"middle\" x=\"452.41\" y=\"-223\" font-family=\"Helvetica,sans-Serif\" font-size=\"10.00\">sum_output&#45;&gt;input_multiplier</text>\n",
       "</g>\n",
       "<!-- Add4(&#39;Add4_1&#39;)&#45;&gt;Multiply3(&#39;Multiply3_1&#39;) -->\n",
       "<g id=\"edge24\" class=\"edge\">\n",
       "<title>Add4(&#39;Add4_1&#39;)&#45;&gt;Multiply3(&#39;Multiply3_1&#39;)</title>\n",
       "<path fill=\"none\" stroke=\"black\" d=\"M541.41,-331.93C541.41,-315.54 541.41,-290.08 541.41,-268 541.41,-268 541.41,-268 541.41,-100 541.41,-78.63 540.27,-71.07 527.41,-54 523.57,-48.91 518.76,-44.34 513.6,-40.33\"/>\n",
       "<polygon fill=\"black\" stroke=\"black\" points=\"515.48,-37.37 505.29,-34.47 511.45,-43.09 515.48,-37.37\"/>\n",
       "<text text-anchor=\"middle\" x=\"615.41\" y=\"-181.5\" font-family=\"Helvetica,sans-Serif\" font-size=\"10.00\">sum_output&#45;&gt;input_multiplier</text>\n",
       "</g>\n",
       "<!-- Branch2_Multiply1(&#39;Branch2_Multiply1_1&#39;)&#45;&gt;Branch2_Add2(&#39;Branch2_Add2_1&#39;) -->\n",
       "<g id=\"edge25\" class=\"edge\">\n",
       "<title>Branch2_Multiply1(&#39;Branch2_Multiply1_1&#39;)&#45;&gt;Branch2_Add2(&#39;Branch2_Add2_1&#39;)</title>\n",
       "<path fill=\"none\" stroke=\"black\" d=\"M814.41,-248.82C814.41,-238.19 814.41,-224.31 814.41,-212.2\"/>\n",
       "<polygon fill=\"black\" stroke=\"black\" points=\"817.91,-212.15 814.41,-202.15 810.91,-212.15 817.91,-212.15\"/>\n",
       "<text text-anchor=\"middle\" x=\"867.41\" y=\"-223\" font-family=\"Helvetica,sans-Serif\" font-size=\"10.00\">output_mul_arr&#45;&gt;arr2</text>\n",
       "</g>\n",
       "<!-- Branch2_Add1(&#39;Branch2_Add1_1&#39;)&#45;&gt;Branch2_Multiply1(&#39;Branch2_Multiply1_1&#39;) -->\n",
       "<g id=\"edge26\" class=\"edge\">\n",
       "<title>Branch2_Add1(&#39;Branch2_Add1_1&#39;)&#45;&gt;Branch2_Multiply1(&#39;Branch2_Multiply1_1&#39;)</title>\n",
       "<path fill=\"none\" stroke=\"black\" d=\"M850.65,-331.82C844.43,-320.87 836.25,-306.46 829.24,-294.11\"/>\n",
       "<polygon fill=\"black\" stroke=\"black\" points=\"832.13,-292.12 824.15,-285.15 826.04,-295.58 832.13,-292.12\"/>\n",
       "<text text-anchor=\"middle\" x=\"894.91\" y=\"-306\" font-family=\"Helvetica,sans-Serif\" font-size=\"10.00\">sum_output_arr&#45;&gt;arr2</text>\n",
       "</g>\n",
       "<!-- Branch3_Add1(&#39;Branch3_Add1_1&#39;) -->\n",
       "<g id=\"node13\" class=\"node\">\n",
       "<title>Branch3_Add1(&#39;Branch3_Add1_1&#39;)</title>\n",
       "<ellipse fill=\"none\" stroke=\"black\" cx=\"1111.41\" cy=\"-101\" rx=\"106.6\" ry=\"18\"/>\n",
       "<text text-anchor=\"middle\" x=\"1111.41\" y=\"-98.5\" font-family=\"Helvetica,sans-Serif\" font-size=\"10.00\">Branch3_Add1(&#39;Branch3_Add1_1&#39;)</text>\n",
       "</g>\n",
       "<!-- Branch3_Multiply2(&#39;Branch3_Multiply2_1&#39;)&#45;&gt;Branch3_Add1(&#39;Branch3_Add1_1&#39;) -->\n",
       "<g id=\"edge27\" class=\"edge\">\n",
       "<title>Branch3_Multiply2(&#39;Branch3_Multiply2_1&#39;)&#45;&gt;Branch3_Add1(&#39;Branch3_Add1_1&#39;)</title>\n",
       "<path fill=\"none\" stroke=\"black\" d=\"M1067.96,-166.9C1060.16,-162.04 1053.06,-155.84 1048.41,-148 1042.47,-137.99 1047.62,-129.52 1057.08,-122.68\"/>\n",
       "<polygon fill=\"black\" stroke=\"black\" points=\"1059.17,-125.5 1065.89,-117.32 1055.53,-119.52 1059.17,-125.5\"/>\n",
       "<text text-anchor=\"middle\" x=\"1101.41\" y=\"-140\" font-family=\"Helvetica,sans-Serif\" font-size=\"10.00\">output_mul_arr&#45;&gt;arr1</text>\n",
       "</g>\n",
       "<!-- Branch3_Multiply2(&#39;Branch3_Multiply2_1&#39;)&#45;&gt;Branch3_Add1(&#39;Branch3_Add1_1&#39;) -->\n",
       "<g id=\"edge28\" class=\"edge\">\n",
       "<title>Branch3_Multiply2(&#39;Branch3_Multiply2_1&#39;)&#45;&gt;Branch3_Add1(&#39;Branch3_Add1_1&#39;)</title>\n",
       "<path fill=\"none\" stroke=\"black\" d=\"M1141.99,-166.31C1152.09,-158.29 1159.66,-148.04 1154.41,-137 1152.45,-132.88 1149.74,-129.08 1146.63,-125.64\"/>\n",
       "<polygon fill=\"black\" stroke=\"black\" points=\"1148.95,-123.02 1139.3,-118.65 1144.12,-128.08 1148.95,-123.02\"/>\n",
       "<text text-anchor=\"middle\" x=\"1209.41\" y=\"-140\" font-family=\"Helvetica,sans-Serif\" font-size=\"10.00\">output_mul_arr&#45;&gt;arr2</text>\n",
       "</g>\n",
       "<!-- Branch3_Subtract1(&#39;Branch3_Subtract1_1&#39;)&#45;&gt;Branch3_Multiply2(&#39;Branch3_Multiply2_1&#39;) -->\n",
       "<g id=\"edge29\" class=\"edge\">\n",
       "<title>Branch3_Subtract1(&#39;Branch3_Subtract1_1&#39;)&#45;&gt;Branch3_Multiply2(&#39;Branch3_Multiply2_1&#39;)</title>\n",
       "<path fill=\"none\" stroke=\"black\" d=\"M1146.29,-248.82C1140.47,-237.87 1132.83,-223.46 1126.27,-211.11\"/>\n",
       "<polygon fill=\"black\" stroke=\"black\" points=\"1129.29,-209.34 1121.51,-202.15 1123.11,-212.63 1129.29,-209.34\"/>\n",
       "<text text-anchor=\"middle\" x=\"1188.91\" y=\"-223\" font-family=\"Helvetica,sans-Serif\" font-size=\"10.00\">output_diff_arr&#45;&gt;arr2</text>\n",
       "</g>\n",
       "<!-- Branch3_Multiply1(&#39;Branch3_Multiply1_1&#39;)&#45;&gt;Branch3_Subtract1(&#39;Branch3_Subtract1_1&#39;) -->\n",
       "<g id=\"edge30\" class=\"edge\">\n",
       "<title>Branch3_Multiply1(&#39;Branch3_Multiply1_1&#39;)&#45;&gt;Branch3_Subtract1(&#39;Branch3_Subtract1_1&#39;)</title>\n",
       "<path fill=\"none\" stroke=\"black\" d=\"M1244.99,-332.22C1228.33,-320.27 1205.73,-304.07 1187.4,-290.93\"/>\n",
       "<polygon fill=\"black\" stroke=\"black\" points=\"1188.96,-287.74 1178.79,-284.76 1184.88,-293.43 1188.96,-287.74\"/>\n",
       "<text text-anchor=\"middle\" x=\"1279.91\" y=\"-306\" font-family=\"Helvetica,sans-Serif\" font-size=\"10.00\">output_mul_arr&#45;&gt;input_2</text>\n",
       "</g>\n",
       "</g>\n",
       "</svg>\n"
      ],
      "text/plain": [
       "<razor.flow.pipeline.Pipeline at 0x7efc44d687d0>"
      ]
     },
     "execution_count": 9,
     "metadata": {},
     "output_type": "execute_result"
    }
   ],
   "source": [
    "pipeline"
   ]
  },
  {
   "cell_type": "code",
   "execution_count": null,
   "metadata": {},
   "outputs": [],
   "source": []
  },
  {
   "cell_type": "code",
   "execution_count": 10,
   "metadata": {},
   "outputs": [],
   "source": [
    "def create_pipeline():\n",
    "    return pipeline"
   ]
  },
  {
   "cell_type": "code",
   "execution_count": null,
   "metadata": {},
   "outputs": [],
   "source": []
  },
  {
   "cell_type": "code",
   "execution_count": 11,
   "metadata": {},
   "outputs": [],
   "source": []
  }
 ],
 "metadata": {
  "kernelspec": {
   "display_name": "Python 3",
   "language": "python",
   "name": "python3"
  },
  "language_info": {
   "codemirror_mode": {
    "name": "ipython",
    "version": 3
   },
   "file_extension": ".py",
   "mimetype": "text/x-python",
   "name": "python",
   "nbconvert_exporter": "python",
   "pygments_lexer": "ipython3",
   "version": "3.7.6"
  }
 },
 "nbformat": 4,
 "nbformat_minor": 4
}
