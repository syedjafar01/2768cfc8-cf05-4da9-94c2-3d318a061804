{
 "cells": [
  {
   "cell_type": "code",
   "execution_count": 1,
   "metadata": {},
   "outputs": [],
   "source": [
    "import razor.flow as rf\n",
    "from razor.api import datasources, engines, project_space_path\n",
    "import logging\n",
    "import time\n",
    "import typing as typ\n",
    "import numpy as np\n",
    "import pandas as pd\n",
    "\n",
    "logger = logging.getLogger()"
   ]
  },
  {
   "cell_type": "code",
   "execution_count": 2,
   "metadata": {},
   "outputs": [],
   "source": [
    "@rf.block\n",
    "class STDIn:\n",
    "    filename: str\n",
    "    out_ds: rf.Output[typ.Any]\n",
    "\n",
    "    def run(self):\n",
    "        df = pd.read_parquet(project_space_path(self.filename))\n",
    "\n",
    "        logger.info(df.shape)\n",
    "        self.out_ds.put(df)\n",
    "        \n",
    "        \n",
    "@rf.block\n",
    "class AxisSum:\n",
    "    in_ds: typ.Any\n",
    "    out_ds: rf.Output[typ.Any]\n",
    "\n",
    "    def run(self):\n",
    "        df = self.in_ds.copy()\n",
    "        df['x_temp'] = df.sum(axis=1)\n",
    "        self.out_ds.put(df)\n",
    "        \n",
    "        \n",
    "@rf.block\n",
    "class SumAxisSum:\n",
    "    in_ds: typ.Any\n",
    "    out_ds: rf.Output[typ.Any]\n",
    "\n",
    "    def run(self):        \n",
    "        df = self.in_ds.copy()\n",
    "        logger.info(df['x_temp'].sum())\n",
    "        self.out_ds.put(df)\n",
    "        \n",
    "        \n",
    "@rf.block\n",
    "class DropAxisSum:\n",
    "    in_ds: typ.Any\n",
    "    out_ds: rf.Output[typ.Any]\n",
    "\n",
    "    def run(self):\n",
    "        df = self.in_ds.copy()\n",
    "        df.drop(['x_temp'], axis=1, inplace=True)\n",
    "        self.out_ds.put(df)\n",
    "        \n",
    "        \n",
    "@rf.block\n",
    "class STDOut:\n",
    "    in_ds: typ.Any\n",
    "    out_filename: str\n",
    "\n",
    "    def run(self):\n",
    "        logger.info(self.in_ds.shape)\n",
    "        self.in_ds.to_parquet(project_space_path(self.out_filename), index=False)\n",
    "        "
   ]
  },
  {
   "cell_type": "code",
   "execution_count": 3,
   "metadata": {},
   "outputs": [
    {
     "data": {
      "application/vnd.razorthink.interactive+pipeline+view+json": {
       "blocks": [
        {
         "class_name": "SumAxisSum",
         "id": "9b1cbcfb-b076-43ff-ae73-54f10a3ddfc1",
         "inputs": [
          {
           "default": null,
           "flow": "atomic",
           "help": null,
           "label": "in_ds",
           "name": "in_ds",
           "series": false,
           "type": "Any",
           "type_check": true
          }
         ],
         "outputs": [
          {
           "flow": "atomic",
           "help": null,
           "label": "out_ds",
           "name": "out_ds",
           "series": false,
           "type": "Any",
           "type_check": true
          }
         ],
         "overwritten": false,
         "var_names": [
          "SumAxisSum"
         ]
        },
        {
         "class_name": "STDOut",
         "id": "4c8f68ff-692e-40d9-a100-7b426bb9403a",
         "inputs": [
          {
           "default": null,
           "flow": "atomic",
           "help": null,
           "label": "in_ds",
           "name": "in_ds",
           "series": false,
           "type": "Any",
           "type_check": true
          },
          {
           "default": null,
           "flow": "atomic",
           "help": null,
           "label": "out_filename",
           "name": "out_filename",
           "series": false,
           "type": "str",
           "type_check": true
          }
         ],
         "outputs": [],
         "overwritten": false,
         "var_names": [
          "STDOut"
         ]
        },
        {
         "class_name": "AxisSum",
         "id": "f7a0aba5-22cf-4a3a-96b5-717ed742ecf1",
         "inputs": [
          {
           "default": null,
           "flow": "atomic",
           "help": null,
           "label": "in_ds",
           "name": "in_ds",
           "series": false,
           "type": "Any",
           "type_check": true
          }
         ],
         "outputs": [
          {
           "flow": "atomic",
           "help": null,
           "label": "out_ds",
           "name": "out_ds",
           "series": false,
           "type": "Any",
           "type_check": true
          }
         ],
         "overwritten": false,
         "var_names": [
          "AxisSum"
         ]
        },
        {
         "class_name": "STDIn",
         "id": "c71bfdf5-a688-40c9-8b5e-78d2cae3568d",
         "inputs": [
          {
           "default": null,
           "flow": "atomic",
           "help": null,
           "label": "filename",
           "name": "filename",
           "series": false,
           "type": "str",
           "type_check": true
          }
         ],
         "outputs": [
          {
           "flow": "atomic",
           "help": null,
           "label": "out_ds",
           "name": "out_ds",
           "series": false,
           "type": "Any",
           "type_check": true
          }
         ],
         "overwritten": false,
         "var_names": [
          "STDIn"
         ]
        },
        {
         "class_name": "DropAxisSum",
         "id": "59cc1f4a-6e58-4955-a189-3f3051f3f4dd",
         "inputs": [
          {
           "default": null,
           "flow": "atomic",
           "help": null,
           "label": "in_ds",
           "name": "in_ds",
           "series": false,
           "type": "Any",
           "type_check": true
          }
         ],
         "outputs": [
          {
           "flow": "atomic",
           "help": null,
           "label": "out_ds",
           "name": "out_ds",
           "series": false,
           "type": "Any",
           "type_check": true
          }
         ],
         "overwritten": false,
         "var_names": [
          "DropAxisSum"
         ]
        }
       ],
       "connections": [
        {
         "id": "b0a7cdf4-7fbb-4e3e-bb45-d39f01fae1af",
         "source": {
          "adapter": false,
          "instance_id": "518b15a8-dbf4-4ba6-94b4-718da26529dd",
          "name": "out_ds"
         },
         "target": {
          "adapter": false,
          "instance_id": "27d9d107-e912-4538-8dc9-e5ccb577b3a5",
          "name": "in_ds"
         }
        },
        {
         "id": "f59c961b-2ab4-4759-97df-fc3bf4af338a",
         "source": {
          "adapter": false,
          "instance_id": "fe46a3fd-5670-40e7-b842-aec6b89c3f34",
          "name": "out_ds"
         },
         "target": {
          "adapter": false,
          "instance_id": "0d0a9ef9-7925-49dc-b0c8-01d13d95a7f0",
          "name": "in_ds"
         }
        },
        {
         "id": "21592df4-4b6c-462b-b9da-544373dbcd39",
         "source": {
          "adapter": false,
          "instance_id": "27d9d107-e912-4538-8dc9-e5ccb577b3a5",
          "name": "out_ds"
         },
         "target": {
          "adapter": false,
          "instance_id": "fe46a3fd-5670-40e7-b842-aec6b89c3f34",
          "name": "in_ds"
         }
        },
        {
         "id": "402ff945-0c77-4c13-8259-f181d2bf7ebd",
         "source": {
          "adapter": false,
          "instance_id": "9428d67a-b611-418e-94da-91620ffc9a0f",
          "name": "out_ds"
         },
         "target": {
          "adapter": false,
          "instance_id": "518b15a8-dbf4-4ba6-94b4-718da26529dd",
          "name": "in_ds"
         }
        }
       ],
       "id": "5c4adcd4-1535-490c-8552-59b325a6229f",
       "instances": [
        {
         "block_class": "4c8f68ff-692e-40d9-a100-7b426bb9403a",
         "id": "0d0a9ef9-7925-49dc-b0c8-01d13d95a7f0",
         "name": "STDOut_1",
         "var_names": [
          "stdout"
         ]
        },
        {
         "block_class": "59cc1f4a-6e58-4955-a189-3f3051f3f4dd",
         "id": "fe46a3fd-5670-40e7-b842-aec6b89c3f34",
         "name": "DropAxisSum_1",
         "var_names": [
          "drop_axis_sum"
         ]
        },
        {
         "block_class": "9b1cbcfb-b076-43ff-ae73-54f10a3ddfc1",
         "id": "27d9d107-e912-4538-8dc9-e5ccb577b3a5",
         "name": "SumAxisSum_1",
         "var_names": [
          "sum_axis_sum"
         ]
        },
        {
         "block_class": "f7a0aba5-22cf-4a3a-96b5-717ed742ecf1",
         "id": "518b15a8-dbf4-4ba6-94b4-718da26529dd",
         "name": "AxisSum_1",
         "var_names": [
          "axis_sum"
         ]
        },
        {
         "block_class": "c71bfdf5-a688-40c9-8b5e-78d2cae3568d",
         "id": "9428d67a-b611-418e-94da-91620ffc9a0f",
         "name": "STDIn_1",
         "var_names": [
          "std_in"
         ]
        }
       ],
       "name": "file_atomic_quad_pipeline",
       "var_names": []
      },
      "image/svg+xml": [
       "<?xml version=\"1.0\" encoding=\"UTF-8\" standalone=\"no\"?>\n",
       "<!DOCTYPE svg PUBLIC \"-//W3C//DTD SVG 1.1//EN\"\n",
       " \"http://www.w3.org/Graphics/SVG/1.1/DTD/svg11.dtd\">\n",
       "<!-- Generated by graphviz version 2.43.0 (0)\n",
       " -->\n",
       "<!-- Title: %3 Pages: 1 -->\n",
       "<svg width=\"212pt\" height=\"376pt\"\n",
       " viewBox=\"0.00 0.00 211.68 376.00\" xmlns=\"http://www.w3.org/2000/svg\" xmlns:xlink=\"http://www.w3.org/1999/xlink\">\n",
       "<g id=\"graph0\" class=\"graph\" transform=\"scale(1 1) rotate(0) translate(4 372)\">\n",
       "<title>%3</title>\n",
       "<polygon fill=\"white\" stroke=\"transparent\" points=\"-4,4 -4,-372 207.68,-372 207.68,4 -4,4\"/>\n",
       "<!-- STDOut(&#39;STDOut_1&#39;) -->\n",
       "<g id=\"node1\" class=\"node\">\n",
       "<title>STDOut(&#39;STDOut_1&#39;)</title>\n",
       "<ellipse fill=\"none\" stroke=\"black\" cx=\"101.84\" cy=\"-18\" rx=\"67.89\" ry=\"18\"/>\n",
       "<text text-anchor=\"middle\" x=\"101.84\" y=\"-15.5\" font-family=\"Helvetica,sans-Serif\" font-size=\"10.00\">STDOut(&#39;STDOut_1&#39;)</text>\n",
       "</g>\n",
       "<!-- DropAxisSum(&#39;DropAxisSum_1&#39;) -->\n",
       "<g id=\"node2\" class=\"node\">\n",
       "<title>DropAxisSum(&#39;DropAxisSum_1&#39;)</title>\n",
       "<ellipse fill=\"none\" stroke=\"black\" cx=\"101.84\" cy=\"-101\" rx=\"101.68\" ry=\"18\"/>\n",
       "<text text-anchor=\"middle\" x=\"101.84\" y=\"-98.5\" font-family=\"Helvetica,sans-Serif\" font-size=\"10.00\">DropAxisSum(&#39;DropAxisSum_1&#39;)</text>\n",
       "</g>\n",
       "<!-- DropAxisSum(&#39;DropAxisSum_1&#39;)&#45;&gt;STDOut(&#39;STDOut_1&#39;) -->\n",
       "<g id=\"edge1\" class=\"edge\">\n",
       "<title>DropAxisSum(&#39;DropAxisSum_1&#39;)&#45;&gt;STDOut(&#39;STDOut_1&#39;)</title>\n",
       "<path fill=\"none\" stroke=\"black\" d=\"M101.84,-82.82C101.84,-72.19 101.84,-58.31 101.84,-46.2\"/>\n",
       "<polygon fill=\"black\" stroke=\"black\" points=\"105.34,-46.15 101.84,-36.15 98.34,-46.15 105.34,-46.15\"/>\n",
       "<text text-anchor=\"middle\" x=\"136.84\" y=\"-57\" font-family=\"Helvetica,sans-Serif\" font-size=\"10.00\">out_ds&#45;&gt;in_ds</text>\n",
       "</g>\n",
       "<!-- SumAxisSum(&#39;SumAxisSum_1&#39;) -->\n",
       "<g id=\"node3\" class=\"node\">\n",
       "<title>SumAxisSum(&#39;SumAxisSum_1&#39;)</title>\n",
       "<ellipse fill=\"none\" stroke=\"black\" cx=\"101.84\" cy=\"-184\" rx=\"100.15\" ry=\"18\"/>\n",
       "<text text-anchor=\"middle\" x=\"101.84\" y=\"-181.5\" font-family=\"Helvetica,sans-Serif\" font-size=\"10.00\">SumAxisSum(&#39;SumAxisSum_1&#39;)</text>\n",
       "</g>\n",
       "<!-- SumAxisSum(&#39;SumAxisSum_1&#39;)&#45;&gt;DropAxisSum(&#39;DropAxisSum_1&#39;) -->\n",
       "<g id=\"edge2\" class=\"edge\">\n",
       "<title>SumAxisSum(&#39;SumAxisSum_1&#39;)&#45;&gt;DropAxisSum(&#39;DropAxisSum_1&#39;)</title>\n",
       "<path fill=\"none\" stroke=\"black\" d=\"M101.84,-165.82C101.84,-155.19 101.84,-141.31 101.84,-129.2\"/>\n",
       "<polygon fill=\"black\" stroke=\"black\" points=\"105.34,-129.15 101.84,-119.15 98.34,-129.15 105.34,-129.15\"/>\n",
       "<text text-anchor=\"middle\" x=\"136.84\" y=\"-140\" font-family=\"Helvetica,sans-Serif\" font-size=\"10.00\">out_ds&#45;&gt;in_ds</text>\n",
       "</g>\n",
       "<!-- AxisSum(&#39;AxisSum_1&#39;) -->\n",
       "<g id=\"node4\" class=\"node\">\n",
       "<title>AxisSum(&#39;AxisSum_1&#39;)</title>\n",
       "<ellipse fill=\"none\" stroke=\"black\" cx=\"101.84\" cy=\"-267\" rx=\"74.52\" ry=\"18\"/>\n",
       "<text text-anchor=\"middle\" x=\"101.84\" y=\"-264.5\" font-family=\"Helvetica,sans-Serif\" font-size=\"10.00\">AxisSum(&#39;AxisSum_1&#39;)</text>\n",
       "</g>\n",
       "<!-- AxisSum(&#39;AxisSum_1&#39;)&#45;&gt;SumAxisSum(&#39;SumAxisSum_1&#39;) -->\n",
       "<g id=\"edge3\" class=\"edge\">\n",
       "<title>AxisSum(&#39;AxisSum_1&#39;)&#45;&gt;SumAxisSum(&#39;SumAxisSum_1&#39;)</title>\n",
       "<path fill=\"none\" stroke=\"black\" d=\"M101.84,-248.82C101.84,-238.19 101.84,-224.31 101.84,-212.2\"/>\n",
       "<polygon fill=\"black\" stroke=\"black\" points=\"105.34,-212.15 101.84,-202.15 98.34,-212.15 105.34,-212.15\"/>\n",
       "<text text-anchor=\"middle\" x=\"136.84\" y=\"-223\" font-family=\"Helvetica,sans-Serif\" font-size=\"10.00\">out_ds&#45;&gt;in_ds</text>\n",
       "</g>\n",
       "<!-- STDIn(&#39;STDIn_1&#39;) -->\n",
       "<g id=\"node5\" class=\"node\">\n",
       "<title>STDIn(&#39;STDIn_1&#39;)</title>\n",
       "<ellipse fill=\"none\" stroke=\"black\" cx=\"101.84\" cy=\"-350\" rx=\"57.88\" ry=\"18\"/>\n",
       "<text text-anchor=\"middle\" x=\"101.84\" y=\"-347.5\" font-family=\"Helvetica,sans-Serif\" font-size=\"10.00\">STDIn(&#39;STDIn_1&#39;)</text>\n",
       "</g>\n",
       "<!-- STDIn(&#39;STDIn_1&#39;)&#45;&gt;AxisSum(&#39;AxisSum_1&#39;) -->\n",
       "<g id=\"edge4\" class=\"edge\">\n",
       "<title>STDIn(&#39;STDIn_1&#39;)&#45;&gt;AxisSum(&#39;AxisSum_1&#39;)</title>\n",
       "<path fill=\"none\" stroke=\"black\" d=\"M101.84,-331.82C101.84,-321.19 101.84,-307.31 101.84,-295.2\"/>\n",
       "<polygon fill=\"black\" stroke=\"black\" points=\"105.34,-295.15 101.84,-285.15 98.34,-295.15 105.34,-295.15\"/>\n",
       "<text text-anchor=\"middle\" x=\"136.84\" y=\"-306\" font-family=\"Helvetica,sans-Serif\" font-size=\"10.00\">out_ds&#45;&gt;in_ds</text>\n",
       "</g>\n",
       "</g>\n",
       "</svg>\n"
      ],
      "text/plain": [
       "<razor.flow.pipeline.Pipeline at 0x7f0c11cc3ed0>"
      ]
     },
     "metadata": {},
     "output_type": "display_data"
    }
   ],
   "source": [
    "config = {'cores': 1, 'ram': 4096}\n",
    "\n",
    "size = '10MB'\n",
    "ip_filename = \"/data/sdk_testbench/input_data/dummy_\"+size+\"_df.parquet\"\n",
    "op_filename = \"/data/sdk_testbench/output_data/s_tc_22.parquet\"\n",
    "\n",
    "std_in = STDIn(filename=ip_filename)\n",
    "std_in.executor = rf.ContainerExecutor(cores=config['cores'], memory=config['ram'])\n",
    "std_in.out_ds = rf.Output.set(transport=rf.FileTransport)\n",
    "\n",
    "axis_sum = AxisSum(in_ds=std_in.out_ds)\n",
    "axis_sum.executor = rf.ContainerExecutor(cores=config['cores'], memory=config['ram'])\n",
    "axis_sum.out_ds = rf.Output.set(transport=rf.FileTransport)\n",
    "\n",
    "sum_axis_sum = SumAxisSum(in_ds=axis_sum.out_ds)\n",
    "sum_axis_sum.executor = rf.ContainerExecutor(cores=config['cores'], memory=config['ram'])\n",
    "sum_axis_sum.out_ds = rf.Output.set(transport=rf.FileTransport)\n",
    "\n",
    "drop_axis_sum = DropAxisSum(in_ds=sum_axis_sum.out_ds)\n",
    "drop_axis_sum.executor = rf.ContainerExecutor(cores=config['cores'], memory=config['ram'])\n",
    "drop_axis_sum.out_ds = rf.Output.set(transport=rf.FileTransport)\n",
    "\n",
    "stdout = STDOut(in_ds=drop_axis_sum.out_ds, out_filename=op_filename)\n",
    "\n",
    "pipeline = rf.Pipeline(name='file_atomic_quad_pipeline', targets=[stdout])\n",
    "pipeline.show()"
   ]
  },
  {
   "cell_type": "code",
   "execution_count": 4,
   "metadata": {},
   "outputs": [],
   "source": [
    "def create_pipeline():\n",
    "    return pipeline"
   ]
  },
  {
   "cell_type": "code",
   "execution_count": 5,
   "metadata": {},
   "outputs": [],
   "source": []
  }
 ],
 "metadata": {
  "kernelspec": {
   "display_name": "Python 3",
   "language": "python",
   "name": "python3"
  },
  "language_info": {
   "codemirror_mode": {
    "name": "ipython",
    "version": 3
   },
   "file_extension": ".py",
   "mimetype": "text/x-python",
   "name": "python",
   "nbconvert_exporter": "python",
   "pygments_lexer": "ipython3",
   "version": "3.7.10"
  }
 },
 "nbformat": 4,
 "nbformat_minor": 4
}
