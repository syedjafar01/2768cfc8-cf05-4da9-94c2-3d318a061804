{
 "cells": [
  {
   "cell_type": "code",
   "execution_count": 1,
   "metadata": {},
   "outputs": [],
   "source": [
    "import razor.flow as rf\n",
    "from razor.api import datasources, engines, project_space_path\n",
    "import logging\n",
    "import time\n",
    "import typing as typ\n",
    "import numpy as np\n",
    "import pandas as pd\n",
    "\n",
    "logger = logging.getLogger()"
   ]
  },
  {
   "cell_type": "code",
   "execution_count": 2,
   "metadata": {},
   "outputs": [],
   "source": [
    "def str_replace(text_str):\n",
    "    return text_str.replace('!!!R!!!', 'r')\n",
    "\n",
    "@rf.block\n",
    "class STDIn:\n",
    "    filename: str\n",
    "    records: int\n",
    "    out_ds: rf.SeriesOutput[typ.Any] = rf.Output(transport=rf.KafkaTransport)\n",
    "\n",
    "    def run(self):\n",
    "        with open(project_space_path(self.filename), 'r') as f:\n",
    "            text_str = f.read()\n",
    "\n",
    "        text_str = text_str.replace('r', '!!!R!!!')\n",
    "        logger.info(len(text_str))\n",
    "        for _ in range(self.records):\n",
    "            self.out_ds.put(text_str)\n",
    "\n",
    "\n",
    "@rf.block\n",
    "class STDOut:\n",
    "    in_ds: rf.SeriesInput[typ.Any]\n",
    "    out_filename: str\n",
    "\n",
    "    def run(self):\n",
    "        text_str = ''\n",
    "        for i in self.in_ds:\n",
    "            if len(text_str) == 0:\n",
    "                text_str = i\n",
    "            else:\n",
    "                continue\n",
    "        logger.info(len(text_str))\n",
    "        with open(project_space_path(self.out_filename), 'w') as f:\n",
    "            f.write(text_str)\n",
    "            "
   ]
  },
  {
   "cell_type": "code",
   "execution_count": null,
   "metadata": {},
   "outputs": [],
   "source": []
  },
  {
   "cell_type": "code",
   "execution_count": 3,
   "metadata": {},
   "outputs": [
    {
     "data": {
      "application/vnd.razorthink.interactive+pipeline+view+json": {
       "blocks": [
        {
         "class_name": "STDOut",
         "id": "8edaebf4-03a7-4ea4-8d3b-56cedde48ca4",
         "inputs": [
          {
           "default": null,
           "flow": "series",
           "help": null,
           "label": "in_ds",
           "name": "in_ds",
           "series": true,
           "type": "Any",
           "type_check": true
          },
          {
           "default": null,
           "flow": "atomic",
           "help": null,
           "label": "out_filename",
           "name": "out_filename",
           "series": false,
           "type": "str",
           "type_check": true
          }
         ],
         "outputs": [],
         "overwritten": false,
         "var_names": [
          "STDOut"
         ]
        },
        {
         "class_name": "STDIn",
         "id": "79d09b84-1099-4c7d-ba2c-2d290c749bd8",
         "inputs": [
          {
           "default": null,
           "flow": "atomic",
           "help": null,
           "label": "filename",
           "name": "filename",
           "series": false,
           "type": "str",
           "type_check": true
          },
          {
           "default": null,
           "flow": "atomic",
           "help": null,
           "label": "records",
           "name": "records",
           "series": false,
           "type": "int",
           "type_check": true
          }
         ],
         "outputs": [
          {
           "flow": "series",
           "help": null,
           "label": "out_ds",
           "name": "out_ds",
           "series": true,
           "type": "Any",
           "type_check": true
          }
         ],
         "overwritten": false,
         "var_names": [
          "STDIn"
         ]
        }
       ],
       "connections": [
        {
         "id": "26d8eaf0-cd85-41aa-8b16-43886476f669",
         "source": {
          "adapter": true,
          "instance_id": "24f67966-6d23-46f3-9f1d-22a198538b75",
          "name": "out_ds"
         },
         "target": {
          "adapter": false,
          "instance_id": "28f9557b-ef68-4753-a702-6e1bb143855f",
          "name": "in_ds"
         }
        }
       ],
       "id": "adcc9367-971a-4c5b-bae8-ab63c964e245",
       "instances": [
        {
         "block_class": "8edaebf4-03a7-4ea4-8d3b-56cedde48ca4",
         "id": "28f9557b-ef68-4753-a702-6e1bb143855f",
         "name": "STDOut_1",
         "var_names": [
          "std_out"
         ]
        },
        {
         "block_class": "79d09b84-1099-4c7d-ba2c-2d290c749bd8",
         "id": "24f67966-6d23-46f3-9f1d-22a198538b75",
         "name": "STDIn_1",
         "var_names": [
          "std_in"
         ]
        }
       ],
       "name": "adapter_series_kafka_transport",
       "var_names": []
      },
      "image/svg+xml": [
       "<?xml version=\"1.0\" encoding=\"UTF-8\" standalone=\"no\"?>\n",
       "<!DOCTYPE svg PUBLIC \"-//W3C//DTD SVG 1.1//EN\"\n",
       " \"http://www.w3.org/Graphics/SVG/1.1/DTD/svg11.dtd\">\n",
       "<!-- Generated by graphviz version 2.43.0 (0)\n",
       " -->\n",
       "<!-- Title: %3 Pages: 1 -->\n",
       "<svg width=\"146pt\" height=\"127pt\"\n",
       " viewBox=\"0.00 0.00 145.70 127.00\" xmlns=\"http://www.w3.org/2000/svg\" xmlns:xlink=\"http://www.w3.org/1999/xlink\">\n",
       "<g id=\"graph0\" class=\"graph\" transform=\"scale(1 1) rotate(0) translate(4 123)\">\n",
       "<title>%3</title>\n",
       "<polygon fill=\"white\" stroke=\"transparent\" points=\"-4,4 -4,-123 141.7,-123 141.7,4 -4,4\"/>\n",
       "<!-- STDOut(&#39;STDOut_1&#39;) -->\n",
       "<g id=\"node1\" class=\"node\">\n",
       "<title>STDOut(&#39;STDOut_1&#39;)</title>\n",
       "<ellipse fill=\"none\" stroke=\"black\" cx=\"67.7\" cy=\"-18\" rx=\"67.89\" ry=\"18\"/>\n",
       "<text text-anchor=\"middle\" x=\"67.7\" y=\"-15.5\" font-family=\"Helvetica,sans-Serif\" font-size=\"10.00\">STDOut(&#39;STDOut_1&#39;)</text>\n",
       "</g>\n",
       "<!-- STDIn(&#39;STDIn_1&#39;) -->\n",
       "<g id=\"node2\" class=\"node\">\n",
       "<title>STDIn(&#39;STDIn_1&#39;)</title>\n",
       "<ellipse fill=\"none\" stroke=\"black\" cx=\"67.7\" cy=\"-101\" rx=\"57.88\" ry=\"18\"/>\n",
       "<text text-anchor=\"middle\" x=\"67.7\" y=\"-98.5\" font-family=\"Helvetica,sans-Serif\" font-size=\"10.00\">STDIn(&#39;STDIn_1&#39;)</text>\n",
       "</g>\n",
       "<!-- STDIn(&#39;STDIn_1&#39;)&#45;&gt;STDOut(&#39;STDOut_1&#39;) -->\n",
       "<g id=\"edge1\" class=\"edge\">\n",
       "<title>STDIn(&#39;STDIn_1&#39;)&#45;&gt;STDOut(&#39;STDOut_1&#39;)</title>\n",
       "<path fill=\"none\" stroke=\"black\" d=\"M67.7,-82.82C67.7,-72.19 67.7,-58.31 67.7,-46.2\"/>\n",
       "<polygon fill=\"black\" stroke=\"black\" points=\"71.2,-46.15 67.7,-36.15 64.2,-46.15 71.2,-46.15\"/>\n",
       "<text text-anchor=\"middle\" x=\"102.7\" y=\"-57\" font-family=\"Helvetica,sans-Serif\" font-size=\"10.00\">out_ds&#45;&gt;in_ds</text>\n",
       "</g>\n",
       "</g>\n",
       "</svg>\n"
      ],
      "text/plain": [
       "<razor.flow.pipeline.Pipeline at 0x7f8d86c91f10>"
      ]
     },
     "metadata": {},
     "output_type": "display_data"
    }
   ],
   "source": [
    "config = {'cores': 1, 'ram': 4096}\n",
    "\n",
    "/data/sdk_testbench/input_data/file10MB.txt\n",
    "records = 1000\n",
    "size = '10MB'\n",
    "ip_filename = \"/data/sdk_testbench/input_data/file\" + size + \".txt\"\n",
    "op_filename = \"/data/sdk_testbench/output_data/tc_11.txt\"\n",
    "\n",
    "std_in = STDIn(records=records, filename=ip_filename)\n",
    "std_in.executor = rf.ContainerExecutor(cores=config['cores'], memory=config['ram'])\n",
    "std_in.out_ds = rf.Output.set(adapter=str_replace)\n",
    "\n",
    "std_out = STDOut(in_ds=std_in.out_ds, out_filename=op_filename)\n",
    "std_out.executor = rf.ContainerExecutor(cores=config['cores'], memory=config['ram'])\n",
    "\n",
    "pipeline = rf.Pipeline(name='adapter_series_kafka_transport', targets=[std_out])\n",
    "pipeline.show()"
   ]
  },
  {
   "cell_type": "code",
   "execution_count": 4,
   "metadata": {},
   "outputs": [],
   "source": [
    "def create_pipeline():\n",
    "    return pipeline"
   ]
  },
  {
   "cell_type": "code",
   "execution_count": 5,
   "metadata": {},
   "outputs": [],
   "source": [
    "prun = razor.api.engines('DS-engine').execute(pipeline)"
   ]
  },
  {
   "cell_type": "code",
   "execution_count": null,
   "metadata": {},
   "outputs": [],
   "source": []
  },
  {
   "cell_type": "code",
   "execution_count": null,
   "metadata": {},
   "outputs": [],
   "source": []
  }
 ],
 "metadata": {
  "kernelspec": {
   "display_name": "Python 3",
   "language": "python",
   "name": "python3"
  },
  "language_info": {
   "codemirror_mode": {
    "name": "ipython",
    "version": 3
   },
   "file_extension": ".py",
   "mimetype": "text/x-python",
   "name": "python",
   "nbconvert_exporter": "python",
   "pygments_lexer": "ipython3",
   "version": "3.7.10"
  }
 },
 "nbformat": 4,
 "nbformat_minor": 4
}
