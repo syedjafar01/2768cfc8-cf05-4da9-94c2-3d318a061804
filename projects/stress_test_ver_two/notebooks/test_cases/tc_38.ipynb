{
 "cells": [
  {
   "cell_type": "code",
   "execution_count": 1,
   "metadata": {},
   "outputs": [],
   "source": [
    "import numpy as np\n",
    "import logging\n",
    "import typing as t\n"
   ]
  },
  {
   "cell_type": "code",
   "execution_count": 2,
   "metadata": {},
   "outputs": [],
   "source": [
    "import razor.flow as rf\n",
    "from razor.api import datasources, project_space_path\n"
   ]
  },
  {
   "cell_type": "code",
   "execution_count": 3,
   "metadata": {},
   "outputs": [],
   "source": [
    "# sftp_client = rf.datasources(\"system_test_files\").client()"
   ]
  },
  {
   "cell_type": "code",
   "execution_count": 4,
   "metadata": {},
   "outputs": [],
   "source": [
    "config = {'cpu': 1, 'ram': 4048}"
   ]
  },
  {
   "cell_type": "code",
   "execution_count": 5,
   "metadata": {},
   "outputs": [],
   "source": [
    "# logger=logging.getLogger()\n",
    "\n",
    "# @rf.block(executor=rf.ContainerExecutor(cores=config['cpu'], memory=config['ram']))\n",
    "# class GenerateData:\n",
    "#     filename: t.Any\n",
    "#     out_filename: rf.Output[t.Any]\n",
    "        \n",
    "#     def run(self):\n",
    "#         sftp_client = datasources(\"system_test_files\").client()\n",
    "#         with sftp_client.open(self.filename, 'w') as f:\n",
    "#             f.write('1'+'\\n')\n",
    "#             f.write('2'+'\\n')\n",
    "#             f.write('2'+'\\n')\n",
    "#             f.write('4'+'\\n')\n",
    "#             f.write('5')\n",
    "#         self.out_filename.put(self.filename)\n",
    "            \n"
   ]
  },
  {
   "cell_type": "code",
   "execution_count": 6,
   "metadata": {},
   "outputs": [],
   "source": [
    "@rf.block(executor=rf.ContainerExecutor(cores=config['cpu'], memory=config['ram']))\n",
    "class STDIn:\n",
    "    filename: t.Any\n",
    "    a: rf.Output[t.Any] = rf.Output(transport=rf.FileTransport)\n",
    "    b: rf.Output[t.Any] = rf.Output(transport=rf.FileTransport)\n",
    "    c: rf.Output[t.Any] = rf.Output(transport=rf.FileTransport)\n",
    "    d: rf.Output[t.Any] = rf.Output(transport=rf.KafkaTransport)\n",
    "    e: rf.Output[t.Any] = rf.Output(transport=rf.KafkaTransport)\n",
    "        \n",
    "    def run(self):\n",
    "        with open(project_space_path(self.filename), 'r') as f:\n",
    "            lines = f.readlines()\n",
    "        \n",
    "        self.a.put(int(lines[0]))\n",
    "        self.b.put(int(lines[1]))\n",
    "        self.c.put(int(lines[2]))\n",
    "        self.d.put(int(lines[3]))\n",
    "        self.e.put(int(lines[4]))"
   ]
  },
  {
   "cell_type": "code",
   "execution_count": 7,
   "metadata": {},
   "outputs": [],
   "source": [
    "@rf.block(executor=rf.ContainerExecutor(cores=config['cpu'], memory=config['ram']))\n",
    "class Add1:\n",
    "    input_1: t.Any\n",
    "    input_2: t.Any\n",
    "    sum_output: rf.Output[t.Any] = rf.Output(transport=rf.FileTransport)\n",
    "        \n",
    "    def run(self):\n",
    "        self.logger.info('Running Add block')\n",
    "        self.logger.info(f'input_1 :{self.input_1}')\n",
    "        self.logger.info(f'input_2 :{self.input_2}')\n",
    "        self.sum_output.put((self.input_1 + self.input_2))\n",
    "        "
   ]
  },
  {
   "cell_type": "code",
   "execution_count": 8,
   "metadata": {},
   "outputs": [],
   "source": [
    "@rf.block(executor=rf.ContainerExecutor(cores=config['cpu'], memory=config['ram']))\n",
    "class Add2:\n",
    "    input_1: t.Any\n",
    "    input_2: t.Any\n",
    "    sum_output: rf.Output[t.Any] = rf.Output(transport=rf.KafkaTransport)\n",
    "    \n",
    "    def run(self):\n",
    "        self.logger.info('Running Add block')\n",
    "        self.logger.info(f'input_1 :{self.input_1}')\n",
    "        self.logger.info(f'input_2 :{self.input_2}')\n",
    "        self.sum_output.put((self.input_1 + self.input_2))\n",
    "        "
   ]
  },
  {
   "cell_type": "code",
   "execution_count": 9,
   "metadata": {},
   "outputs": [],
   "source": [
    "@rf.block(executor=rf.ContainerExecutor(cores=config['cpu'], memory=config['ram']))\n",
    "class Multiply1:\n",
    "    input_sum: t.Any\n",
    "    input_multiplier: t.Any\n",
    "    output_mul: rf.Output[t.Any] = rf.Output(transport=rf.KafkaTransport)\n",
    "    \n",
    "    def run(self):\n",
    "        self.logger.info('Running Multiply block')\n",
    "        self.logger.info(f'input_sum :{self.input_sum}')\n",
    "        self.logger.info(f'input_multiplier :{self.input_multiplier}')\n",
    "        self.output_mul.put((self.input_sum * self.input_multiplier))\n",
    "        \n",
    "        "
   ]
  },
  {
   "cell_type": "code",
   "execution_count": 10,
   "metadata": {},
   "outputs": [],
   "source": [
    "@rf.block(executor=rf.ContainerExecutor(cores=config['cpu'], memory=config['ram']))\n",
    "class Multiply2:\n",
    "    input_sum: t.Any\n",
    "    input_multiplier: t.Any\n",
    "    out_file_name: t.Any\n",
    "    \n",
    "    def run(self):\n",
    "        self.logger.info('Running Multiply block')\n",
    "        self.logger.info(f'input_sum :{self.input_sum}')\n",
    "        self.logger.info(f'input_multiplier :{self.input_multiplier}')\n",
    "        result=self.input_sum * self.input_multiplier\n",
    "        self.logger.info(f'result :{result}')\n",
    "        print(\"$$\", result)\n",
    "        with open(project_space_path(self.out_file_name), 'w') as file:\n",
    "            file.write(str(result))\n",
    "        \n",
    "        "
   ]
  },
  {
   "cell_type": "code",
   "execution_count": 11,
   "metadata": {},
   "outputs": [],
   "source": [
    "fname = \"/data/sdk_testbench/executor_transport_test/integer_data.txt\"\n",
    "output_filename = \"/data/sdk_testbench/executor_transport_test/tc_38_out.txt\"\n",
    "\n",
    "\n",
    "# generate_data = GenerateData(filename=fname)\n",
    "\n",
    "stdin = STDIn(filename=fname)\n",
    "\n",
    "add1 = Add1(input_1=stdin.a, input_2=stdin.b)\n",
    "#         .sum_output(transport=SocketTransport)\n",
    "\n",
    "\n",
    "add2 = Add2(input_1=stdin.c, input_2=add1.sum_output)\n",
    "#         .sum_output(transport=SocketTransport)\n",
    "\n",
    "\n",
    "mul1 = Multiply1(input_sum=add2.sum_output, input_multiplier=stdin.d)\n",
    "#         .output_mul(transport=SocketTransport)\n",
    "\n",
    "\n",
    "mul2 = Multiply2(input_sum=mul1.output_mul, input_multiplier=stdin.e, out_file_name=output_filename)\n",
    "\n",
    "\n"
   ]
  },
  {
   "cell_type": "code",
   "execution_count": 12,
   "metadata": {},
   "outputs": [
    {
     "data": {
      "application/vnd.razorthink.interactive+pipeline+view+json": {
       "blocks": [
        {
         "class_name": "Add1",
         "id": "10077463-80ec-43db-85ae-20101df8e299",
         "inputs": [
          {
           "default": null,
           "flow": "atomic",
           "help": null,
           "label": "input_1",
           "name": "input_1",
           "series": false,
           "type": "Any",
           "type_check": true
          },
          {
           "default": null,
           "flow": "atomic",
           "help": null,
           "label": "input_2",
           "name": "input_2",
           "series": false,
           "type": "Any",
           "type_check": true
          }
         ],
         "outputs": [
          {
           "flow": "atomic",
           "help": null,
           "label": "sum_output",
           "name": "sum_output",
           "series": false,
           "type": "Any",
           "type_check": true
          }
         ],
         "overwritten": false,
         "var_names": [
          "Add1"
         ]
        },
        {
         "class_name": "STDIn",
         "id": "a013d195-cddf-4ff1-8c99-ab7f58508120",
         "inputs": [
          {
           "default": null,
           "flow": "atomic",
           "help": null,
           "label": "filename",
           "name": "filename",
           "series": false,
           "type": "Any",
           "type_check": true
          }
         ],
         "outputs": [
          {
           "flow": "atomic",
           "help": null,
           "label": "a",
           "name": "a",
           "series": false,
           "type": "Any",
           "type_check": true
          },
          {
           "flow": "atomic",
           "help": null,
           "label": "b",
           "name": "b",
           "series": false,
           "type": "Any",
           "type_check": true
          },
          {
           "flow": "atomic",
           "help": null,
           "label": "c",
           "name": "c",
           "series": false,
           "type": "Any",
           "type_check": true
          },
          {
           "flow": "atomic",
           "help": null,
           "label": "d",
           "name": "d",
           "series": false,
           "type": "Any",
           "type_check": true
          },
          {
           "flow": "atomic",
           "help": null,
           "label": "e",
           "name": "e",
           "series": false,
           "type": "Any",
           "type_check": true
          }
         ],
         "overwritten": false,
         "var_names": [
          "STDIn"
         ]
        },
        {
         "class_name": "Add2",
         "id": "19a81aa5-da73-4f60-bb80-4b4bcc63521c",
         "inputs": [
          {
           "default": null,
           "flow": "atomic",
           "help": null,
           "label": "input_1",
           "name": "input_1",
           "series": false,
           "type": "Any",
           "type_check": true
          },
          {
           "default": null,
           "flow": "atomic",
           "help": null,
           "label": "input_2",
           "name": "input_2",
           "series": false,
           "type": "Any",
           "type_check": true
          }
         ],
         "outputs": [
          {
           "flow": "atomic",
           "help": null,
           "label": "sum_output",
           "name": "sum_output",
           "series": false,
           "type": "Any",
           "type_check": true
          }
         ],
         "overwritten": false,
         "var_names": [
          "Add2"
         ]
        },
        {
         "class_name": "Multiply2",
         "id": "ebe1dce9-47fc-4fa9-9b3f-d16e94d42d06",
         "inputs": [
          {
           "default": null,
           "flow": "atomic",
           "help": null,
           "label": "input_sum",
           "name": "input_sum",
           "series": false,
           "type": "Any",
           "type_check": true
          },
          {
           "default": null,
           "flow": "atomic",
           "help": null,
           "label": "input_multiplier",
           "name": "input_multiplier",
           "series": false,
           "type": "Any",
           "type_check": true
          },
          {
           "default": null,
           "flow": "atomic",
           "help": null,
           "label": "out_file_name",
           "name": "out_file_name",
           "series": false,
           "type": "Any",
           "type_check": true
          }
         ],
         "outputs": [],
         "overwritten": false,
         "var_names": [
          "Multiply2"
         ]
        },
        {
         "class_name": "Multiply1",
         "id": "c7b0d587-5662-4856-b406-a75ee92489b3",
         "inputs": [
          {
           "default": null,
           "flow": "atomic",
           "help": null,
           "label": "input_sum",
           "name": "input_sum",
           "series": false,
           "type": "Any",
           "type_check": true
          },
          {
           "default": null,
           "flow": "atomic",
           "help": null,
           "label": "input_multiplier",
           "name": "input_multiplier",
           "series": false,
           "type": "Any",
           "type_check": true
          }
         ],
         "outputs": [
          {
           "flow": "atomic",
           "help": null,
           "label": "output_mul",
           "name": "output_mul",
           "series": false,
           "type": "Any",
           "type_check": true
          }
         ],
         "overwritten": false,
         "var_names": [
          "Multiply1"
         ]
        }
       ],
       "connections": [
        {
         "id": "395aa58d-f610-4c5e-89a3-1d0e60d1276f",
         "source": {
          "adapter": false,
          "instance_id": "bf407e54-5d54-47e6-a09f-d49ff3bde9c4",
          "name": "d"
         },
         "target": {
          "adapter": false,
          "instance_id": "64d8213c-4d24-479c-9aba-6a034886bdbe",
          "name": "input_multiplier"
         }
        },
        {
         "id": "4f6c54fa-4a2f-4dfc-95b2-687d86f18cdb",
         "source": {
          "adapter": false,
          "instance_id": "bf407e54-5d54-47e6-a09f-d49ff3bde9c4",
          "name": "e"
         },
         "target": {
          "adapter": false,
          "instance_id": "8bf177da-7f82-49a0-9f7d-992078775b3e",
          "name": "input_multiplier"
         }
        },
        {
         "id": "3f98ffb9-a704-4392-bcdb-df69fc12c890",
         "source": {
          "adapter": false,
          "instance_id": "64d8213c-4d24-479c-9aba-6a034886bdbe",
          "name": "output_mul"
         },
         "target": {
          "adapter": false,
          "instance_id": "8bf177da-7f82-49a0-9f7d-992078775b3e",
          "name": "input_sum"
         }
        },
        {
         "id": "85e541a8-a14f-467b-9972-9df5ceb896f6",
         "source": {
          "adapter": false,
          "instance_id": "90b781d0-d0b4-4ac9-a8bc-24e0b155b091",
          "name": "sum_output"
         },
         "target": {
          "adapter": false,
          "instance_id": "64d8213c-4d24-479c-9aba-6a034886bdbe",
          "name": "input_sum"
         }
        },
        {
         "id": "89010015-703c-485a-a5a5-cf92c8ff6679",
         "source": {
          "adapter": false,
          "instance_id": "bf407e54-5d54-47e6-a09f-d49ff3bde9c4",
          "name": "a"
         },
         "target": {
          "adapter": false,
          "instance_id": "dda3e1cc-5544-48c2-9e46-23d8a94d36c2",
          "name": "input_1"
         }
        },
        {
         "id": "fe8ca835-4d73-44a9-bd23-b92689763738",
         "source": {
          "adapter": false,
          "instance_id": "bf407e54-5d54-47e6-a09f-d49ff3bde9c4",
          "name": "c"
         },
         "target": {
          "adapter": false,
          "instance_id": "90b781d0-d0b4-4ac9-a8bc-24e0b155b091",
          "name": "input_1"
         }
        },
        {
         "id": "199f70f6-3a45-49f0-b701-5f6d54ac1510",
         "source": {
          "adapter": false,
          "instance_id": "dda3e1cc-5544-48c2-9e46-23d8a94d36c2",
          "name": "sum_output"
         },
         "target": {
          "adapter": false,
          "instance_id": "90b781d0-d0b4-4ac9-a8bc-24e0b155b091",
          "name": "input_2"
         }
        },
        {
         "id": "1791afe1-05e3-41e7-89b2-1da0bbba9244",
         "source": {
          "adapter": false,
          "instance_id": "bf407e54-5d54-47e6-a09f-d49ff3bde9c4",
          "name": "b"
         },
         "target": {
          "adapter": false,
          "instance_id": "dda3e1cc-5544-48c2-9e46-23d8a94d36c2",
          "name": "input_2"
         }
        }
       ],
       "id": "e9d889c3-cbf1-4daf-955f-d6855fefac71",
       "instances": [
        {
         "block_class": "ebe1dce9-47fc-4fa9-9b3f-d16e94d42d06",
         "id": "8bf177da-7f82-49a0-9f7d-992078775b3e",
         "name": "Multiply2_1",
         "var_names": [
          "mul2"
         ]
        },
        {
         "block_class": "c7b0d587-5662-4856-b406-a75ee92489b3",
         "id": "64d8213c-4d24-479c-9aba-6a034886bdbe",
         "name": "Multiply1_1",
         "var_names": [
          "mul1"
         ]
        },
        {
         "block_class": "19a81aa5-da73-4f60-bb80-4b4bcc63521c",
         "id": "90b781d0-d0b4-4ac9-a8bc-24e0b155b091",
         "name": "Add2_1",
         "var_names": [
          "add2"
         ]
        },
        {
         "block_class": "a013d195-cddf-4ff1-8c99-ab7f58508120",
         "id": "bf407e54-5d54-47e6-a09f-d49ff3bde9c4",
         "name": "STDIn_1",
         "var_names": [
          "stdin"
         ]
        },
        {
         "block_class": "10077463-80ec-43db-85ae-20101df8e299",
         "id": "dda3e1cc-5544-48c2-9e46-23d8a94d36c2",
         "name": "Add1_1",
         "var_names": [
          "add1"
         ]
        }
       ],
       "name": "ContainerExecutor",
       "var_names": []
      },
      "image/svg+xml": [
       "<?xml version=\"1.0\" encoding=\"UTF-8\" standalone=\"no\"?>\n",
       "<!DOCTYPE svg PUBLIC \"-//W3C//DTD SVG 1.1//EN\"\n",
       " \"http://www.w3.org/Graphics/SVG/1.1/DTD/svg11.dtd\">\n",
       "<!-- Generated by graphviz version 2.43.0 (0)\n",
       " -->\n",
       "<!-- Title: %3 Pages: 1 -->\n",
       "<svg width=\"462pt\" height=\"376pt\"\n",
       " viewBox=\"0.00 0.00 461.86 376.00\" xmlns=\"http://www.w3.org/2000/svg\" xmlns:xlink=\"http://www.w3.org/1999/xlink\">\n",
       "<g id=\"graph0\" class=\"graph\" transform=\"scale(1 1) rotate(0) translate(4 372)\">\n",
       "<title>%3</title>\n",
       "<polygon fill=\"white\" stroke=\"transparent\" points=\"-4,4 -4,-372 457.86,-372 457.86,4 -4,4\"/>\n",
       "<!-- Multiply2(&#39;Multiply2_1&#39;) -->\n",
       "<g id=\"node1\" class=\"node\">\n",
       "<title>Multiply2(&#39;Multiply2_1&#39;)</title>\n",
       "<ellipse fill=\"none\" stroke=\"black\" cx=\"78.29\" cy=\"-18\" rx=\"78.08\" ry=\"18\"/>\n",
       "<text text-anchor=\"middle\" x=\"78.29\" y=\"-15.5\" font-family=\"Helvetica,sans-Serif\" font-size=\"10.00\">Multiply2(&#39;Multiply2_1&#39;)</text>\n",
       "</g>\n",
       "<!-- Multiply1(&#39;Multiply1_1&#39;) -->\n",
       "<g id=\"node2\" class=\"node\">\n",
       "<title>Multiply1(&#39;Multiply1_1&#39;)</title>\n",
       "<ellipse fill=\"none\" stroke=\"black\" cx=\"163.29\" cy=\"-101\" rx=\"78.08\" ry=\"18\"/>\n",
       "<text text-anchor=\"middle\" x=\"163.29\" y=\"-98.5\" font-family=\"Helvetica,sans-Serif\" font-size=\"10.00\">Multiply1(&#39;Multiply1_1&#39;)</text>\n",
       "</g>\n",
       "<!-- Multiply1(&#39;Multiply1_1&#39;)&#45;&gt;Multiply2(&#39;Multiply2_1&#39;) -->\n",
       "<g id=\"edge1\" class=\"edge\">\n",
       "<title>Multiply1(&#39;Multiply1_1&#39;)&#45;&gt;Multiply2(&#39;Multiply2_1&#39;)</title>\n",
       "<path fill=\"none\" stroke=\"black\" d=\"M145.68,-83.22C133.49,-71.6 117.07,-55.95 103.49,-43.02\"/>\n",
       "<polygon fill=\"black\" stroke=\"black\" points=\"105.54,-40.13 95.88,-35.76 100.71,-45.19 105.54,-40.13\"/>\n",
       "<text text-anchor=\"middle\" x=\"185.79\" y=\"-57\" font-family=\"Helvetica,sans-Serif\" font-size=\"10.00\">output_mul&#45;&gt;input_sum</text>\n",
       "</g>\n",
       "<!-- Add2(&#39;Add2_1&#39;) -->\n",
       "<g id=\"node3\" class=\"node\">\n",
       "<title>Add2(&#39;Add2_1&#39;)</title>\n",
       "<ellipse fill=\"none\" stroke=\"black\" cx=\"274.29\" cy=\"-184\" rx=\"53.64\" ry=\"18\"/>\n",
       "<text text-anchor=\"middle\" x=\"274.29\" y=\"-181.5\" font-family=\"Helvetica,sans-Serif\" font-size=\"10.00\">Add2(&#39;Add2_1&#39;)</text>\n",
       "</g>\n",
       "<!-- Add2(&#39;Add2_1&#39;)&#45;&gt;Multiply1(&#39;Multiply1_1&#39;) -->\n",
       "<g id=\"edge2\" class=\"edge\">\n",
       "<title>Add2(&#39;Add2_1&#39;)&#45;&gt;Multiply1(&#39;Multiply1_1&#39;)</title>\n",
       "<path fill=\"none\" stroke=\"black\" d=\"M252.89,-167.38C236.17,-155.18 212.72,-138.07 194,-124.41\"/>\n",
       "<polygon fill=\"black\" stroke=\"black\" points=\"195.91,-121.47 185.77,-118.4 191.79,-127.13 195.91,-121.47\"/>\n",
       "<text text-anchor=\"middle\" x=\"286.79\" y=\"-140\" font-family=\"Helvetica,sans-Serif\" font-size=\"10.00\">sum_output&#45;&gt;input_sum</text>\n",
       "</g>\n",
       "<!-- STDIn(&#39;STDIn_1&#39;) -->\n",
       "<g id=\"node4\" class=\"node\">\n",
       "<title>STDIn(&#39;STDIn_1&#39;)</title>\n",
       "<ellipse fill=\"none\" stroke=\"black\" cx=\"274.29\" cy=\"-350\" rx=\"57.88\" ry=\"18\"/>\n",
       "<text text-anchor=\"middle\" x=\"274.29\" y=\"-347.5\" font-family=\"Helvetica,sans-Serif\" font-size=\"10.00\">STDIn(&#39;STDIn_1&#39;)</text>\n",
       "</g>\n",
       "<!-- STDIn(&#39;STDIn_1&#39;)&#45;&gt;Multiply2(&#39;Multiply2_1&#39;) -->\n",
       "<g id=\"edge7\" class=\"edge\">\n",
       "<title>STDIn(&#39;STDIn_1&#39;)&#45;&gt;Multiply2(&#39;Multiply2_1&#39;)</title>\n",
       "<path fill=\"none\" stroke=\"black\" d=\"M222.72,-341.81C153.54,-330.7 39.29,-306.52 39.29,-268 39.29,-268 39.29,-268 39.29,-100 39.29,-79.91 49.15,-59.54 58.96,-44.25\"/>\n",
       "<polygon fill=\"black\" stroke=\"black\" points=\"61.92,-46.12 64.65,-35.88 56.14,-42.18 61.92,-46.12\"/>\n",
       "<text text-anchor=\"middle\" x=\"87.29\" y=\"-181.5\" font-family=\"Helvetica,sans-Serif\" font-size=\"10.00\">e&#45;&gt;input_multiplier</text>\n",
       "</g>\n",
       "<!-- STDIn(&#39;STDIn_1&#39;)&#45;&gt;Multiply1(&#39;Multiply1_1&#39;) -->\n",
       "<g id=\"edge6\" class=\"edge\">\n",
       "<title>STDIn(&#39;STDIn_1&#39;)&#45;&gt;Multiply1(&#39;Multiply1_1&#39;)</title>\n",
       "<path fill=\"none\" stroke=\"black\" d=\"M254.79,-333C231.07,-312.25 192.02,-273.65 174.29,-231 160.56,-197.98 159.65,-156.19 160.93,-129.27\"/>\n",
       "<polygon fill=\"black\" stroke=\"black\" points=\"164.43,-129.25 161.55,-119.06 157.45,-128.82 164.43,-129.25\"/>\n",
       "<text text-anchor=\"middle\" x=\"222.29\" y=\"-223\" font-family=\"Helvetica,sans-Serif\" font-size=\"10.00\">d&#45;&gt;input_multiplier</text>\n",
       "</g>\n",
       "<!-- STDIn(&#39;STDIn_1&#39;)&#45;&gt;Add2(&#39;Add2_1&#39;) -->\n",
       "<g id=\"edge3\" class=\"edge\">\n",
       "<title>STDIn(&#39;STDIn_1&#39;)&#45;&gt;Add2(&#39;Add2_1&#39;)</title>\n",
       "<path fill=\"none\" stroke=\"black\" d=\"M274.29,-331.76C274.29,-303.26 274.29,-246.12 274.29,-212.16\"/>\n",
       "<polygon fill=\"black\" stroke=\"black\" points=\"277.79,-212.01 274.29,-202.01 270.79,-212.01 277.79,-212.01\"/>\n",
       "<text text-anchor=\"middle\" x=\"301.29\" y=\"-264.5\" font-family=\"Helvetica,sans-Serif\" font-size=\"10.00\">c&#45;&gt;input_1</text>\n",
       "</g>\n",
       "<!-- Add1(&#39;Add1_1&#39;) -->\n",
       "<g id=\"node5\" class=\"node\">\n",
       "<title>Add1(&#39;Add1_1&#39;)</title>\n",
       "<ellipse fill=\"none\" stroke=\"black\" cx=\"400.29\" cy=\"-267\" rx=\"53.64\" ry=\"18\"/>\n",
       "<text text-anchor=\"middle\" x=\"400.29\" y=\"-264.5\" font-family=\"Helvetica,sans-Serif\" font-size=\"10.00\">Add1(&#39;Add1_1&#39;)</text>\n",
       "</g>\n",
       "<!-- STDIn(&#39;STDIn_1&#39;)&#45;&gt;Add1(&#39;Add1_1&#39;) -->\n",
       "<g id=\"edge4\" class=\"edge\">\n",
       "<title>STDIn(&#39;STDIn_1&#39;)&#45;&gt;Add1(&#39;Add1_1&#39;)</title>\n",
       "<path fill=\"none\" stroke=\"black\" d=\"M287.95,-332.07C296.26,-322.6 307.51,-311.1 319.29,-303 329.95,-295.67 342.39,-289.37 354.28,-284.22\"/>\n",
       "<polygon fill=\"black\" stroke=\"black\" points=\"355.75,-287.4 363.64,-280.33 353.07,-280.93 355.75,-287.4\"/>\n",
       "<text text-anchor=\"middle\" x=\"346.79\" y=\"-306\" font-family=\"Helvetica,sans-Serif\" font-size=\"10.00\">a&#45;&gt;input_1</text>\n",
       "</g>\n",
       "<!-- STDIn(&#39;STDIn_1&#39;)&#45;&gt;Add1(&#39;Add1_1&#39;) -->\n",
       "<g id=\"edge5\" class=\"edge\">\n",
       "<title>STDIn(&#39;STDIn_1&#39;)&#45;&gt;Add1(&#39;Add1_1&#39;)</title>\n",
       "<path fill=\"none\" stroke=\"black\" d=\"M322.16,-339.77C339.99,-334.5 359.48,-326.39 374.29,-314 380.72,-308.62 385.88,-301.22 389.85,-293.92\"/>\n",
       "<polygon fill=\"black\" stroke=\"black\" points=\"393.01,-295.42 394.25,-284.9 386.72,-292.36 393.01,-295.42\"/>\n",
       "<text text-anchor=\"middle\" x=\"411.79\" y=\"-306\" font-family=\"Helvetica,sans-Serif\" font-size=\"10.00\">b&#45;&gt;input_2</text>\n",
       "</g>\n",
       "<!-- Add1(&#39;Add1_1&#39;)&#45;&gt;Add2(&#39;Add2_1&#39;) -->\n",
       "<g id=\"edge8\" class=\"edge\">\n",
       "<title>Add1(&#39;Add1_1&#39;)&#45;&gt;Add2(&#39;Add2_1&#39;)</title>\n",
       "<path fill=\"none\" stroke=\"black\" d=\"M376.59,-250.76C356.79,-238.04 328.37,-219.77 306.51,-205.71\"/>\n",
       "<polygon fill=\"black\" stroke=\"black\" points=\"308.19,-202.63 297.89,-200.17 304.4,-208.52 308.19,-202.63\"/>\n",
       "<text text-anchor=\"middle\" x=\"398.29\" y=\"-223\" font-family=\"Helvetica,sans-Serif\" font-size=\"10.00\">sum_output&#45;&gt;input_2</text>\n",
       "</g>\n",
       "</g>\n",
       "</svg>\n"
      ],
      "text/plain": [
       "<razor.flow.pipeline.Pipeline at 0x7f11f5b44310>"
      ]
     },
     "execution_count": 12,
     "metadata": {},
     "output_type": "execute_result"
    }
   ],
   "source": [
    "pipeline = rf.Pipeline(name='ContainerExecutor', targets=[mul2])\n",
    "pipeline\n"
   ]
  },
  {
   "cell_type": "code",
   "execution_count": 13,
   "metadata": {},
   "outputs": [],
   "source": [
    "def create_pipeline():\n",
    "    return pipeline"
   ]
  },
  {
   "cell_type": "code",
   "execution_count": null,
   "metadata": {},
   "outputs": [],
   "source": []
  },
  {
   "cell_type": "code",
   "execution_count": 14,
   "metadata": {},
   "outputs": [],
   "source": []
  }
 ],
 "metadata": {
  "kernelspec": {
   "display_name": "Python 3",
   "language": "python",
   "name": "python3"
  },
  "language_info": {
   "codemirror_mode": {
    "name": "ipython",
    "version": 3
   },
   "file_extension": ".py",
   "mimetype": "text/x-python",
   "name": "python",
   "nbconvert_exporter": "python",
   "pygments_lexer": "ipython3",
   "version": "3.7.6"
  }
 },
 "nbformat": 4,
 "nbformat_minor": 4
}
