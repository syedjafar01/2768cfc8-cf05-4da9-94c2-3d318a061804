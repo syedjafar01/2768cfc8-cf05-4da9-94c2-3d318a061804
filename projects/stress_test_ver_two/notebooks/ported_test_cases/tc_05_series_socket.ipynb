{
 "cells": [
  {
   "cell_type": "code",
   "execution_count": 1,
   "metadata": {},
   "outputs": [
    {
     "name": "stderr",
     "output_type": "stream",
     "text": [
      "/usr/local/lib/python3.7/dist-packages/snowflake/connector/options.py:78: UserWarning: You have an incompatible version of 'pyarrow' installed (3.0.0), please install a version that adheres to: 'pyarrow<0.18.0,>=0.17.0; extra == \"pandas\"'\n",
      "  warn_incompatible_dep('pyarrow', _installed_pyarrow_version.version, _expected_pyarrow_version)\n"
     ]
    }
   ],
   "source": [
    "import razor.flow as rf\n",
    "from razor import api\n",
    "import logging, os\n",
    "import time\n",
    "import typing as typ\n",
    "import numpy as np\n",
    "import pandas as pd\n",
    "\n",
    "logger = logging.getLogger()"
   ]
  },
  {
   "cell_type": "code",
   "execution_count": 2,
   "metadata": {},
   "outputs": [],
   "source": [
    "def project_space_path(path):\n",
    "    ps = api.datasources('Project Space')\n",
    "    return os.path.join(ps.abspath(), path)\n",
    "\n"
   ]
  },
  {
   "cell_type": "code",
   "execution_count": 3,
   "metadata": {},
   "outputs": [],
   "source": [
    "from razor.project.blocks.series_socket import STDIn_series\n",
    "from razor.project.blocks.series_socket import STDOut_series\n"
   ]
  },
  {
   "cell_type": "code",
   "execution_count": 4,
   "metadata": {},
   "outputs": [],
   "source": [
    "# @rf.block\n",
    "# class STDIn:\n",
    "#     filename: str\n",
    "#     records: int\n",
    "#     out_ds: rf.SeriesOutput[typ.Any] = rf.Output(transport=rf.KafkaTransport)\n",
    "\n",
    "#     def run(self):\n",
    "#         with open(project_space_path(self.filename), 'r') as f:\n",
    "#             text_str = f.read()\n",
    "\n",
    "#         logger.info(len(text_str))\n",
    "#         for _ in range(self.records):\n",
    "#             self.out_ds.put(text_str)\n",
    "\n",
    "\n",
    "# @rf.block\n",
    "# class STDOut:\n",
    "#     in_ds: rf.SeriesInput[typ.Any]\n",
    "#     out_filename: str\n",
    "\n",
    "#     def run(self):\n",
    "#         text_str = [str(i) for i in self.in_ds][0]\n",
    "#         logger.info(len(text_str))\n",
    "#         with open(project_space_path(self.out_filename), 'w') as f:\n",
    "#             f.write(text_str)\n",
    "            "
   ]
  },
  {
   "cell_type": "code",
   "execution_count": 5,
   "metadata": {},
   "outputs": [
    {
     "data": {
      "application/vnd.razorthink.interactive+pipeline+view+json": {
       "blocks": [
        {
         "class_name": "STDIn_series",
         "fullname": "razor.project.blocks.series_socket.STDIn_series",
         "id": "3a6df79d-68bc-476d-85e4-07d05b8822c5",
         "inputs": [
          {
           "dataType": "string",
           "default": "",
           "flow": "atomic",
           "help": null,
           "isdict": false,
           "islist": false,
           "label": "filename",
           "meta": {},
           "name": "filename",
           "series": false,
           "type": "str",
           "type_check": true
          },
          {
           "dataType": "integer",
           "default": 0,
           "flow": "atomic",
           "help": null,
           "isdict": false,
           "islist": false,
           "label": "records",
           "meta": {},
           "name": "records",
           "series": false,
           "type": "int",
           "type_check": true
          }
         ],
         "outputs": [
          {
           "flow": "series",
           "help": null,
           "label": "out_ds",
           "meta": {},
           "name": "out_ds",
           "series": true,
           "type": "Any",
           "type_check": true
          }
         ],
         "overwritten": false,
         "published": true,
         "var_names": [
          "STDIn_series"
         ]
        },
        {
         "class_name": "STDOut_series",
         "fullname": "razor.project.blocks.series_socket.STDOut_series",
         "id": "6fee9769-05dd-42b1-8f9d-86771e413f70",
         "inputs": [
          {
           "dataType": null,
           "default": null,
           "flow": "series",
           "help": null,
           "isdict": false,
           "islist": false,
           "label": "in_ds",
           "meta": {},
           "name": "in_ds",
           "series": true,
           "type": "Any",
           "type_check": true
          },
          {
           "dataType": "string",
           "default": "",
           "flow": "atomic",
           "help": null,
           "isdict": false,
           "islist": false,
           "label": "out_filename",
           "meta": {},
           "name": "out_filename",
           "series": false,
           "type": "str",
           "type_check": true
          }
         ],
         "outputs": [],
         "overwritten": false,
         "published": true,
         "var_names": [
          "STDOut_series"
         ]
        }
       ],
       "connections": [
        {
         "id": "3bf17c72-2a11-4266-8a33-005098148354",
         "source": {
          "adapter": false,
          "instance_id": "ccd781e7-98e5-4b96-ab8f-6fd98d99273e",
          "name": "out_ds"
         },
         "target": {
          "adapter": false,
          "instance_id": "325dec0c-ec9b-4283-8a80-02251457a4f3",
          "name": "in_ds"
         }
        }
       ],
       "id": "041dd0a1-20b3-4410-9a78-8cc337bccc4d",
       "instances": [
        {
         "block_class": "6fee9769-05dd-42b1-8f9d-86771e413f70",
         "id": "325dec0c-ec9b-4283-8a80-02251457a4f3",
         "name": "STDOut_series_1",
         "var_names": [
          "std_out"
         ]
        },
        {
         "block_class": "3a6df79d-68bc-476d-85e4-07d05b8822c5",
         "id": "ccd781e7-98e5-4b96-ab8f-6fd98d99273e",
         "name": "STDIn_series_1",
         "var_names": [
          "std_in"
         ]
        }
       ],
       "name": "series_socket_transport",
       "var_names": []
      },
      "image/svg+xml": [
       "<?xml version=\"1.0\" encoding=\"UTF-8\" standalone=\"no\"?>\n",
       "<!DOCTYPE svg PUBLIC \"-//W3C//DTD SVG 1.1//EN\"\n",
       " \"http://www.w3.org/Graphics/SVG/1.1/DTD/svg11.dtd\">\n",
       "<!-- Generated by graphviz version 2.43.0 (0)\n",
       " -->\n",
       "<!-- Title: %3 Pages: 1 -->\n",
       "<svg width=\"225pt\" height=\"127pt\"\n",
       " viewBox=\"0.00 0.00 224.63 127.00\" xmlns=\"http://www.w3.org/2000/svg\" xmlns:xlink=\"http://www.w3.org/1999/xlink\">\n",
       "<g id=\"graph0\" class=\"graph\" transform=\"scale(1 1) rotate(0) translate(4 123)\">\n",
       "<title>%3</title>\n",
       "<polygon fill=\"white\" stroke=\"transparent\" points=\"-4,4 -4,-123 220.63,-123 220.63,4 -4,4\"/>\n",
       "<!-- STDOut_series(&#39;STDOut_series_1&#39;) -->\n",
       "<g id=\"node1\" class=\"node\">\n",
       "<title>STDOut_series(&#39;STDOut_series_1&#39;)</title>\n",
       "<ellipse fill=\"none\" stroke=\"black\" cx=\"108.31\" cy=\"-18\" rx=\"108.13\" ry=\"18\"/>\n",
       "<text text-anchor=\"middle\" x=\"108.31\" y=\"-15.5\" font-family=\"Helvetica,sans-Serif\" font-size=\"10.00\">STDOut_series(&#39;STDOut_series_1&#39;)</text>\n",
       "</g>\n",
       "<!-- STDIn_series(&#39;STDIn_series_1&#39;) -->\n",
       "<g id=\"node2\" class=\"node\">\n",
       "<title>STDIn_series(&#39;STDIn_series_1&#39;)</title>\n",
       "<ellipse fill=\"none\" stroke=\"black\" cx=\"108.31\" cy=\"-101\" rx=\"98.11\" ry=\"18\"/>\n",
       "<text text-anchor=\"middle\" x=\"108.31\" y=\"-98.5\" font-family=\"Helvetica,sans-Serif\" font-size=\"10.00\">STDIn_series(&#39;STDIn_series_1&#39;)</text>\n",
       "</g>\n",
       "<!-- STDIn_series(&#39;STDIn_series_1&#39;)&#45;&gt;STDOut_series(&#39;STDOut_series_1&#39;) -->\n",
       "<g id=\"edge1\" class=\"edge\">\n",
       "<title>STDIn_series(&#39;STDIn_series_1&#39;)&#45;&gt;STDOut_series(&#39;STDOut_series_1&#39;)</title>\n",
       "<path fill=\"none\" stroke=\"black\" d=\"M108.31,-82.82C108.31,-72.19 108.31,-58.31 108.31,-46.2\"/>\n",
       "<polygon fill=\"black\" stroke=\"black\" points=\"111.81,-46.15 108.31,-36.15 104.81,-46.15 111.81,-46.15\"/>\n",
       "<text text-anchor=\"middle\" x=\"143.31\" y=\"-57\" font-family=\"Helvetica,sans-Serif\" font-size=\"10.00\">out_ds&#45;&gt;in_ds</text>\n",
       "</g>\n",
       "</g>\n",
       "</svg>\n"
      ],
      "text/plain": [
       "<razor.flow.pipeline.Pipeline at 0x7f5a6c8c66d0>"
      ]
     },
     "execution_count": 5,
     "metadata": {},
     "output_type": "execute_result"
    }
   ],
   "source": [
    "config = {'cores': 1, 'ram': 4096}\n",
    "records = 100\n",
    "size = '10MB'\n",
    "ip_filename = project_space_path(\"sdk_testbench/input_data/file\" + size + \".txt\")\n",
    "op_filename = project_space_path(\"sdk_testbench/output_data/tc_05.txt\")\n",
    "\n",
    "std_in = STDIn_series(records=records, filename=ip_filename)\n",
    "# std_in.executor = rf.ContainerExecutor(cores=config['cores'], memory=config['ram'])\n",
    "# std_in.out_ds = rf.Output.set(transport=rf.SocketTransport)\n",
    "\n",
    "std_out = STDOut_series(in_ds=std_in.out_ds, out_filename=op_filename)\n",
    "# std_out.executor = rf.ContainerExecutor(cores=config['cores'], memory=config['ram'])\n",
    "\n",
    "pipeline = rf.Pipeline(name='series_socket_transport', targets=[std_out])\n",
    "pipeline"
   ]
  },
  {
   "cell_type": "code",
   "execution_count": null,
   "metadata": {},
   "outputs": [
    {
     "data": {
      "application/vnd.razorthink.run+monitor+json": "/tmp/tmptewkddtt/series_socket_transport",
      "text/plain": [
       "<razor_tools.backend.ipython.mime.run_monitor.RunMonitor at 0x7f59e5966290>"
      ]
     },
     "metadata": {
      "application/vnd.razorthink.run+monitor+json": {
       "run_data": {
        "apm": [
         {
          "cpu_percent": 0,
          "cpu_time": 0,
          "name": "STDOut_series_1",
          "real_mem": 149553152,
          "time": 1615265003.8677554
         },
         {
          "cpu_percent": 0,
          "cpu_time": 0,
          "name": "STDIn_series_1",
          "real_mem": 149610496,
          "time": 1615265003.8800037
         },
         {
          "cpu_percent": 0,
          "cpu_time": 0,
          "name": "STDOut_series_1",
          "real_mem": 149553152,
          "time": 1615265004.0664768
         },
         {
          "cpu_percent": 0,
          "cpu_time": 0,
          "name": "STDIn_series_1",
          "real_mem": 149610496,
          "time": 1615265004.077868
         },
         {
          "cpu_percent": 0,
          "cpu_time": 0,
          "name": "STDOut_series_1",
          "real_mem": 151621632,
          "time": 1615265004.1896174
         },
         {
          "cpu_percent": 0,
          "cpu_time": 0,
          "name": "STDIn_series_1",
          "real_mem": 151670784,
          "time": 1615265004.2668414
         },
         {
          "cpu_percent": 0,
          "cpu_time": 0.01,
          "name": "STDOut_series_1",
          "real_mem": 151994368,
          "time": 1615265004.3786678
         },
         {
          "cpu_percent": 0,
          "cpu_time": 0.02,
          "name": "STDIn_series_1",
          "real_mem": 152313856,
          "time": 1615265004.3901432
         },
         {
          "cpu_percent": 0,
          "cpu_time": 0.01,
          "name": "STDOut_series_1",
          "real_mem": 151994368,
          "time": 1615265004.5668793
         },
         {
          "cpu_percent": 0,
          "cpu_time": 0.03,
          "name": "STDIn_series_1",
          "real_mem": 152719360,
          "time": 1615265004.5790343
         },
         {
          "cpu_percent": 0,
          "cpu_time": 0.01,
          "name": "STDOut_series_1",
          "real_mem": 151994368,
          "time": 1615265004.6915083
         },
         {
          "cpu_percent": 0,
          "cpu_time": 0.03,
          "name": "STDIn_series_1",
          "real_mem": 152719360,
          "time": 1615265004.7033951
         },
         {
          "cpu_percent": 0,
          "cpu_time": 0.01,
          "name": "STDOut_series_1",
          "real_mem": 151994368,
          "time": 1615265004.867205
         },
         {
          "cpu_percent": 0,
          "cpu_time": 0.04,
          "name": "STDIn_series_1",
          "real_mem": 156291072,
          "time": 1615265004.9560227
         },
         {
          "cpu_percent": 0,
          "cpu_time": 0.01,
          "name": "STDOut_series_1",
          "real_mem": 151994368,
          "time": 1615265005.0685692
         },
         {
          "cpu_percent": 0,
          "cpu_time": 0.05,
          "name": "STDIn_series_1",
          "real_mem": 166019072,
          "time": 1615265005.0802355
         },
         {
          "cpu_percent": 0,
          "cpu_time": 0.01,
          "name": "STDOut_series_1",
          "real_mem": 151994368,
          "time": 1615265005.267373
         },
         {
          "cpu_percent": 98.3,
          "cpu_time": 0.09,
          "name": "STDIn_series_1",
          "real_mem": 166547456,
          "time": 1615265005.2793584
         },
         {
          "cpu_percent": 0,
          "cpu_time": 0.01,
          "name": "STDOut_series_1",
          "real_mem": 151994368,
          "time": 1615265005.3917153
         },
         {
          "cpu_percent": 98,
          "cpu_time": 0.13,
          "name": "STDIn_series_1",
          "real_mem": 187084800,
          "time": 1615265005.4667723
         },
         {
          "cpu_percent": 11.5,
          "cpu_time": 0.02,
          "name": "STDOut_series_1",
          "real_mem": 159338496,
          "time": 1615265005.6564484
         },
         {
          "cpu_percent": 98.4,
          "cpu_time": 0.19,
          "name": "STDIn_series_1",
          "real_mem": 196902912,
          "time": 1615265005.6692266
         },
         {
          "cpu_percent": 0,
          "cpu_time": 0.05,
          "name": "STDOut_series_1",
          "real_mem": 175001600,
          "time": 1615265005.8560889
         },
         {
          "cpu_percent": 88.8,
          "cpu_time": 0.22,
          "name": "STDIn_series_1",
          "real_mem": 192380928,
          "time": 1615265005.868572
         },
         {
          "cpu_percent": 0,
          "cpu_time": 0.1,
          "name": "STDOut_series_1",
          "real_mem": 198496256,
          "time": 1615265006.0569346
         },
         {
          "cpu_percent": 96.3,
          "cpu_time": 0.27,
          "name": "STDIn_series_1",
          "real_mem": 210808832,
          "time": 1615265006.0693698
         },
         {
          "cpu_percent": 12,
          "cpu_time": 0.15,
          "name": "STDOut_series_1",
          "real_mem": 219852800,
          "time": 1615265006.2560706
         },
         {
          "cpu_percent": 196.6,
          "cpu_time": 0.31,
          "name": "STDIn_series_1",
          "real_mem": 195895296,
          "time": 1615265006.2682092
         },
         {
          "cpu_percent": 0,
          "cpu_time": 0.17,
          "name": "STDOut_series_1",
          "real_mem": 237694976,
          "time": 1615265006.4565132
         },
         {
          "cpu_percent": 98,
          "cpu_time": 0.36,
          "name": "STDIn_series_1",
          "real_mem": 216801280,
          "time": 1615265006.4695559
         },
         {
          "cpu_percent": 0,
          "cpu_time": 0.2,
          "name": "STDOut_series_1",
          "real_mem": 256077824,
          "time": 1615265006.581814
         },
         {
          "cpu_percent": 195.9,
          "cpu_time": 0.42,
          "name": "STDIn_series_1",
          "real_mem": 201121792,
          "time": 1615265006.6667848
         },
         {
          "cpu_percent": 0,
          "cpu_time": 0.24,
          "name": "STDOut_series_1",
          "real_mem": 287707136,
          "time": 1615265006.779426
         },
         {
          "cpu_percent": 197.1,
          "cpu_time": 0.46,
          "name": "STDIn_series_1",
          "real_mem": 196706304,
          "time": 1615265006.866741
         },
         {
          "cpu_percent": 0,
          "cpu_time": 0.27,
          "name": "STDOut_series_1",
          "real_mem": 299872256,
          "time": 1615265006.9788947
         },
         {
          "cpu_percent": 98.2,
          "cpu_time": 0.5,
          "name": "STDIn_series_1",
          "real_mem": 202203136,
          "time": 1615265007.06749
         },
         {
          "cpu_percent": 0,
          "cpu_time": 0.31,
          "name": "STDOut_series_1",
          "real_mem": 309604352,
          "time": 1615265007.1798167
         },
         {
          "cpu_percent": 177.9,
          "cpu_time": 0.54,
          "name": "STDIn_series_1",
          "real_mem": 186433536,
          "time": 1615265007.2689886
         },
         {
          "cpu_percent": 0,
          "cpu_time": 0.33,
          "name": "STDOut_series_1",
          "real_mem": 317714432,
          "time": 1615265007.4563355
         },
         {
          "cpu_percent": 168.7,
          "cpu_time": 0.58,
          "name": "STDIn_series_1",
          "real_mem": 193552384,
          "time": 1615265007.469993
         },
         {
          "cpu_percent": 0,
          "cpu_time": 0.37,
          "name": "STDOut_series_1",
          "real_mem": 339070976,
          "time": 1615265007.6671247
         },
         {
          "cpu_percent": 0,
          "cpu_time": 0.61,
          "name": "STDIn_series_1",
          "real_mem": 218963968,
          "time": 1615265007.7561686
         },
         {
          "cpu_percent": 197.3,
          "cpu_time": 0.41,
          "name": "STDOut_series_1",
          "real_mem": 352317440,
          "time": 1615265007.868692
         },
         {
          "cpu_percent": 98.4,
          "cpu_time": 0.66,
          "name": "STDIn_series_1",
          "real_mem": 201125888,
          "time": 1615265007.8804796
         },
         {
          "cpu_percent": 98.2,
          "cpu_time": 0.45,
          "name": "STDOut_series_1",
          "real_mem": 364752896,
          "time": 1615265008.0666106
         },
         {
          "cpu_percent": 98.8,
          "cpu_time": 0.7,
          "name": "STDIn_series_1",
          "real_mem": 220049408,
          "time": 1615265008.0780098
         },
         {
          "cpu_percent": 0,
          "cpu_time": 0.48,
          "name": "STDOut_series_1",
          "real_mem": 384212992,
          "time": 1615265008.2680004
         },
         {
          "cpu_percent": 0,
          "cpu_time": 0.75,
          "name": "STDIn_series_1",
          "real_mem": 197464064,
          "time": 1615265008.3560889
         },
         {
          "cpu_percent": 98.6,
          "cpu_time": 0.53,
          "name": "STDOut_series_1",
          "real_mem": 403591168,
          "time": 1615265008.467955
         },
         {
          "cpu_percent": 98.5,
          "cpu_time": 0.8,
          "name": "STDIn_series_1",
          "real_mem": 196292608,
          "time": 1615265008.4795938
         },
         {
          "cpu_percent": 98.4,
          "cpu_time": 0.56,
          "name": "STDOut_series_1",
          "real_mem": 423096320,
          "time": 1615265008.666569
         },
         {
          "cpu_percent": 98.6,
          "cpu_time": 0.85,
          "name": "STDIn_series_1",
          "real_mem": 181698560,
          "time": 1615265008.677961
         },
         {
          "cpu_percent": 95.7,
          "cpu_time": 0.6,
          "name": "STDOut_series_1",
          "real_mem": 449859584,
          "time": 1615265008.8670495
         },
         {
          "cpu_percent": 98.1,
          "cpu_time": 0.9,
          "name": "STDIn_series_1",
          "real_mem": 206655488,
          "time": 1615265008.8794332
         },
         {
          "cpu_percent": 184.1,
          "cpu_time": 0.64,
          "name": "STDOut_series_1",
          "real_mem": 464728064,
          "time": 1615265009.0692186
         },
         {
          "cpu_percent": 98.1,
          "cpu_time": 0.96,
          "name": "STDIn_series_1",
          "real_mem": 200708096,
          "time": 1615265009.1670628
         },
         {
          "cpu_percent": 0,
          "cpu_time": 0.67,
          "name": "STDOut_series_1",
          "real_mem": 483004416,
          "time": 1615265009.3565543
         },
         {
          "cpu_percent": 97.8,
          "cpu_time": 0.99,
          "name": "STDIn_series_1",
          "real_mem": 217325568,
          "time": 1615265009.3699183
         },
         {
          "cpu_percent": 0,
          "cpu_time": 0.7,
          "name": "STDOut_series_1",
          "real_mem": 491106304,
          "time": 1615265009.5561574
         },
         {
          "cpu_percent": 0,
          "cpu_time": 1.03,
          "name": "STDIn_series_1",
          "real_mem": 191102976,
          "time": 1615265009.5691469
         },
         {
          "cpu_percent": 98.1,
          "cpu_time": 0.75,
          "name": "STDOut_series_1",
          "real_mem": 501551104,
          "time": 1615265009.76696
         },
         {
          "cpu_percent": 0,
          "cpu_time": 1.07,
          "name": "STDIn_series_1",
          "real_mem": 195715072,
          "time": 1615265009.856141
         },
         {
          "cpu_percent": 98,
          "cpu_time": 0.78,
          "name": "STDOut_series_1",
          "real_mem": 506273792,
          "time": 1615265009.9687045
         },
         {
          "cpu_percent": 11.7,
          "cpu_time": 1.12,
          "name": "STDIn_series_1",
          "real_mem": 197324800,
          "time": 1615265010.0562558
         }
        ],
        "logs": [
         {
          "asctime": "2021-03-09 04:43:22,173",
          "exc_info": null,
          "extra": {},
          "filename": "pipeline.py",
          "funcName": "_log_manager",
          "levelname": "INFO",
          "lineno": 413,
          "message": "writing logs to: /tmp/tmptewkddtt/series_socket_transport",
          "name": "razor.flow.pipeline:series_socket_transport",
          "pathname": "/usr/local/lib/python3.7/dist-packages/razor/flow/pipeline.py",
          "process": 124,
          "processName": "MainProcess",
          "thread": 140026560874304,
          "threadName": "MainThread"
         }
        ],
        "meta": {
         "block_status": {
          "STDIn_series_1": "RUNNING",
          "STDOut_series_1": "RUNNING"
         },
         "blocks": [
          {
           "class_name": "STDIn_series",
           "fullname": "razor.project.blocks.series_socket.STDIn_series",
           "id": "3a6df79d-68bc-476d-85e4-07d05b8822c5",
           "inputs": [
            {
             "dataType": "string",
             "default": "",
             "flow": "atomic",
             "help": null,
             "isdict": false,
             "islist": false,
             "label": "filename",
             "meta": {},
             "name": "filename",
             "series": false,
             "type": "str",
             "type_check": true
            },
            {
             "dataType": "integer",
             "default": 0,
             "flow": "atomic",
             "help": null,
             "isdict": false,
             "islist": false,
             "label": "records",
             "meta": {},
             "name": "records",
             "series": false,
             "type": "int",
             "type_check": true
            }
           ],
           "outputs": [
            {
             "flow": "series",
             "help": null,
             "label": "out_ds",
             "meta": {},
             "name": "out_ds",
             "series": true,
             "type": "Any",
             "type_check": true
            }
           ],
           "overwritten": false,
           "published": true,
           "var_names": [
            "STDIn_series"
           ]
          },
          {
           "class_name": "STDOut_series",
           "fullname": "razor.project.blocks.series_socket.STDOut_series",
           "id": "6fee9769-05dd-42b1-8f9d-86771e413f70",
           "inputs": [
            {
             "dataType": null,
             "default": null,
             "flow": "series",
             "help": null,
             "isdict": false,
             "islist": false,
             "label": "in_ds",
             "meta": {},
             "name": "in_ds",
             "series": true,
             "type": "Any",
             "type_check": true
            },
            {
             "dataType": "string",
             "default": "",
             "flow": "atomic",
             "help": null,
             "isdict": false,
             "islist": false,
             "label": "out_filename",
             "meta": {},
             "name": "out_filename",
             "series": false,
             "type": "str",
             "type_check": true
            }
           ],
           "outputs": [],
           "overwritten": false,
           "published": true,
           "var_names": [
            "STDOut_series"
           ]
          }
         ],
         "connections": [
          {
           "id": "3bf17c72-2a11-4266-8a33-005098148354",
           "source": {
            "adapter": false,
            "instance_id": "ccd781e7-98e5-4b96-ab8f-6fd98d99273e",
            "name": "out_ds"
           },
           "target": {
            "adapter": false,
            "instance_id": "325dec0c-ec9b-4283-8a80-02251457a4f3",
            "name": "in_ds"
           }
          }
         ],
         "end": null,
         "id": "041dd0a1-20b3-4410-9a78-8cc337bccc4d",
         "instances": [
          {
           "block_class": "6fee9769-05dd-42b1-8f9d-86771e413f70",
           "id": "325dec0c-ec9b-4283-8a80-02251457a4f3",
           "name": "STDOut_series_1",
           "var_names": [
            "std_out"
           ]
          },
          {
           "block_class": "3a6df79d-68bc-476d-85e4-07d05b8822c5",
           "id": "ccd781e7-98e5-4b96-ab8f-6fd98d99273e",
           "name": "STDIn_series_1",
           "var_names": [
            "std_in"
           ]
          }
         ],
         "log_level": 20,
         "name": "series_socket_transport",
         "start": 1615265002.6712584,
         "status": "RUNNING",
         "system_logs": true,
         "var_names": []
        },
        "metrics": {},
        "runtime": {
         "STDIn_series_1": {
          "end": null,
          "load": 1615265003.768036,
          "start": 1615265004.3625042
         },
         "STDOut_series_1": {
          "end": null,
          "load": 1615265003.7604365,
          "start": 1615265004.3606699
         }
        }
       },
       "store_in_notebook": true
      }
     },
     "output_type": "display_data"
    }
   ],
   "source": [
    "pipeline.execute()"
   ]
  },
  {
   "cell_type": "code",
   "execution_count": null,
   "metadata": {},
   "outputs": [],
   "source": []
  },
  {
   "cell_type": "code",
   "execution_count": null,
   "metadata": {},
   "outputs": [],
   "source": []
  }
 ],
 "metadata": {
  "kernelspec": {
   "display_name": "Python 3",
   "language": "python",
   "name": "python3"
  },
  "language_info": {
   "codemirror_mode": {
    "name": "ipython",
    "version": 3
   },
   "file_extension": ".py",
   "mimetype": "text/x-python",
   "name": "python",
   "nbconvert_exporter": "python",
   "pygments_lexer": "ipython3",
   "version": "3.7.10"
  }
 },
 "nbformat": 4,
 "nbformat_minor": 4
}
