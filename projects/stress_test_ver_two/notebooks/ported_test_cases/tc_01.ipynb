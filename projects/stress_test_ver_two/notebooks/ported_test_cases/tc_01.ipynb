{
 "cells": [
  {
   "cell_type": "code",
   "execution_count": 16,
   "metadata": {},
   "outputs": [],
   "source": [
    "import razor.flow as rf\n",
    "from razor import api\n",
    "\n",
    "import logging\n",
    "import time\n",
    "import typing as typ\n",
    "import pandas as pd\n",
    "import os\n",
    "\n",
    "from razor.api.core import BlockScope\n",
    "from razor.api import blocks"
   ]
  },
  {
   "cell_type": "code",
   "execution_count": 21,
   "metadata": {},
   "outputs": [
    {
     "name": "stderr",
     "output_type": "stream",
     "text": [
      "INFO:razor.api.core.block_manager:Block bundle initialized successfully. Please refer ../test/package.yaml to verify/update package.yaml further.\n"
     ]
    }
   ],
   "source": [
    "blocks.init_bundle(bundle=\"../test\", category=\"test_cat\")"
   ]
  },
  {
   "cell_type": "code",
   "execution_count": 24,
   "metadata": {},
   "outputs": [
    {
     "name": "stderr",
     "output_type": "stream",
     "text": [
      "INFO:razor.api.impl.block_manager_impl:Packaging requested block bundle...\n",
      "INFO:razor.api.impl.block_manager_impl:Publishing block bundle...\n",
      "INFO:razor.api.impl.block_manager_impl:Block bundle `test` updated successfully.\n",
      "INFO:razor.api.impl.block_manager_impl:Make sure to restart the Jupyter kernel and then you can use the blocks as follows:\n",
      "INFO:razor.api.impl.block_manager_impl:from razor.project.blocks.test import STDIn\n",
      "INFO:razor.api.impl.block_manager_impl:from razor.project.blocks.test import STDOut\n"
     ]
    }
   ],
   "source": [
    "blocks.publish(bundle=\"../test\", scope=BlockScope.PROJECT, overwrite=True)"
   ]
  },
  {
   "cell_type": "code",
   "execution_count": 2,
   "metadata": {},
   "outputs": [],
   "source": [
    "def project_space_path(path):\n",
    "    ps = api.datasources('Project Space')\n",
    "    return os.path.join(ps.abspath(), path)\n",
    "\n",
    "# path = project_space_path(\"titanic.csv\")\n",
    "# if not os.path.exists(path):\n",
    "# raise FileNotFoundError(f\"File {path} doesn't exist in project space\")\n"
   ]
  },
  {
   "cell_type": "code",
   "execution_count": 3,
   "metadata": {},
   "outputs": [],
   "source": [
    "# lib1 = razor.api.libraries('pyarrow')"
   ]
  },
  {
   "cell_type": "code",
   "execution_count": 4,
   "metadata": {},
   "outputs": [],
   "source": [
    "# razor.api.libraries('pyarrow')"
   ]
  },
  {
   "cell_type": "code",
   "execution_count": 13,
   "metadata": {},
   "outputs": [],
   "source": [
    "@rf.block\n",
    "class STDIn:    \n",
    "    filename: str\n",
    "    out_ds: rf.Output[typ.Any]\n",
    "#     out_ds: rf.Output[typ.Any] = rf.Output(transport=rf.KafkaTransport)\n",
    "\n",
    "    def run(self):\n",
    "        df = pd.read_parquet(project_space_path(self.filename))\n",
    "\n",
    "        logger.info(df.shape)\n",
    "        self.out_ds.put(df)\n",
    "\n",
    "\n",
    "@rf.block\n",
    "class STDOut:    \n",
    "    in_ds: typ.Any\n",
    "    out_filename: str\n",
    "\n",
    "    def run(self):\n",
    "        logger.info(self.in_ds.shape)\n",
    "#         sftp_c = datasources('test_source').client()\n",
    "        self.in_ds.to_parquet(project_space_path(self.out_filename), index=False)\n",
    "            "
   ]
  },
  {
   "cell_type": "code",
   "execution_count": 14,
   "metadata": {},
   "outputs": [
    {
     "data": {
      "application/vnd.razorthink.interactive+pipeline+view+json": {
       "blocks": [
        {
         "class_name": "STDOut",
         "fullname": ".STDOut",
         "id": "6df92773-443f-47af-82d7-4e8f7e41bcfc",
         "inputs": [
          {
           "dataType": null,
           "default": null,
           "flow": "atomic",
           "help": null,
           "isdict": false,
           "islist": false,
           "label": "in_ds",
           "meta": {},
           "name": "in_ds",
           "series": false,
           "type": "Any",
           "type_check": true
          },
          {
           "dataType": "string",
           "default": "",
           "flow": "atomic",
           "help": null,
           "isdict": false,
           "islist": false,
           "label": "out_filename",
           "meta": {},
           "name": "out_filename",
           "series": false,
           "type": "str",
           "type_check": true
          }
         ],
         "outputs": [],
         "overwritten": false,
         "published": false,
         "var_names": [
          "STDOut"
         ]
        },
        {
         "class_name": "STDIn",
         "fullname": ".STDIn",
         "id": "8df5526f-3787-4650-b154-f91f924ce6d2",
         "inputs": [
          {
           "dataType": "string",
           "default": "",
           "flow": "atomic",
           "help": null,
           "isdict": false,
           "islist": false,
           "label": "filename",
           "meta": {},
           "name": "filename",
           "series": false,
           "type": "str",
           "type_check": true
          }
         ],
         "outputs": [
          {
           "flow": "atomic",
           "help": null,
           "label": "out_ds",
           "meta": {},
           "name": "out_ds",
           "series": false,
           "type": "Any",
           "type_check": true
          }
         ],
         "overwritten": false,
         "published": false,
         "var_names": [
          "STDIn"
         ]
        }
       ],
       "connections": [
        {
         "id": "99e316c7-be9b-4e35-878b-034eb989360a",
         "source": {
          "adapter": false,
          "instance_id": "ada9ad80-3293-4c62-829c-89fce5057fcd",
          "name": "out_ds"
         },
         "target": {
          "adapter": false,
          "instance_id": "c2321ad2-f968-44cc-9530-beb65378e0a0",
          "name": "in_ds"
         }
        }
       ],
       "id": "0256cf57-83be-4f31-8e2f-dbd683651a0b",
       "instances": [
        {
         "block_class": "6df92773-443f-47af-82d7-4e8f7e41bcfc",
         "id": "c2321ad2-f968-44cc-9530-beb65378e0a0",
         "name": "STDOut_1",
         "var_names": [
          "std_out"
         ]
        },
        {
         "block_class": "8df5526f-3787-4650-b154-f91f924ce6d2",
         "id": "ada9ad80-3293-4c62-829c-89fce5057fcd",
         "name": "STDIn_1",
         "var_names": [
          "std_in"
         ]
        }
       ],
       "name": "atomic_kafka_transport",
       "var_names": []
      },
      "image/svg+xml": [
       "<?xml version=\"1.0\" encoding=\"UTF-8\" standalone=\"no\"?>\n",
       "<!DOCTYPE svg PUBLIC \"-//W3C//DTD SVG 1.1//EN\"\n",
       " \"http://www.w3.org/Graphics/SVG/1.1/DTD/svg11.dtd\">\n",
       "<!-- Generated by graphviz version 2.43.0 (0)\n",
       " -->\n",
       "<!-- Title: %3 Pages: 1 -->\n",
       "<svg width=\"146pt\" height=\"127pt\"\n",
       " viewBox=\"0.00 0.00 145.70 127.00\" xmlns=\"http://www.w3.org/2000/svg\" xmlns:xlink=\"http://www.w3.org/1999/xlink\">\n",
       "<g id=\"graph0\" class=\"graph\" transform=\"scale(1 1) rotate(0) translate(4 123)\">\n",
       "<title>%3</title>\n",
       "<polygon fill=\"white\" stroke=\"transparent\" points=\"-4,4 -4,-123 141.7,-123 141.7,4 -4,4\"/>\n",
       "<!-- STDOut(&#39;STDOut_1&#39;) -->\n",
       "<g id=\"node1\" class=\"node\">\n",
       "<title>STDOut(&#39;STDOut_1&#39;)</title>\n",
       "<ellipse fill=\"none\" stroke=\"black\" cx=\"67.7\" cy=\"-18\" rx=\"67.89\" ry=\"18\"/>\n",
       "<text text-anchor=\"middle\" x=\"67.7\" y=\"-15.5\" font-family=\"Helvetica,sans-Serif\" font-size=\"10.00\">STDOut(&#39;STDOut_1&#39;)</text>\n",
       "</g>\n",
       "<!-- STDIn(&#39;STDIn_1&#39;) -->\n",
       "<g id=\"node2\" class=\"node\">\n",
       "<title>STDIn(&#39;STDIn_1&#39;)</title>\n",
       "<ellipse fill=\"none\" stroke=\"black\" cx=\"67.7\" cy=\"-101\" rx=\"57.88\" ry=\"18\"/>\n",
       "<text text-anchor=\"middle\" x=\"67.7\" y=\"-98.5\" font-family=\"Helvetica,sans-Serif\" font-size=\"10.00\">STDIn(&#39;STDIn_1&#39;)</text>\n",
       "</g>\n",
       "<!-- STDIn(&#39;STDIn_1&#39;)&#45;&gt;STDOut(&#39;STDOut_1&#39;) -->\n",
       "<g id=\"edge1\" class=\"edge\">\n",
       "<title>STDIn(&#39;STDIn_1&#39;)&#45;&gt;STDOut(&#39;STDOut_1&#39;)</title>\n",
       "<path fill=\"none\" stroke=\"black\" d=\"M67.7,-82.82C67.7,-72.19 67.7,-58.31 67.7,-46.2\"/>\n",
       "<polygon fill=\"black\" stroke=\"black\" points=\"71.2,-46.15 67.7,-36.15 64.2,-46.15 71.2,-46.15\"/>\n",
       "<text text-anchor=\"middle\" x=\"102.7\" y=\"-57\" font-family=\"Helvetica,sans-Serif\" font-size=\"10.00\">out_ds&#45;&gt;in_ds</text>\n",
       "</g>\n",
       "</g>\n",
       "</svg>\n"
      ],
      "text/plain": [
       "<razor.flow.pipeline.Pipeline at 0x7f818d846610>"
      ]
     },
     "execution_count": 14,
     "metadata": {},
     "output_type": "execute_result"
    }
   ],
   "source": [
    "config = {'cores': 1, 'ram': 4096}\n",
    "\n",
    "size = '10MB'\n",
    "ip_filename = project_space_path(\"sdk_testbench/input_data/dummy_\"+size+\"_df.parquet\")\n",
    "op_filename = project_space_path(\"sdk_testbench/output_data/tc_01.parquet\")\n",
    "\n",
    "std_in = STDIn(filename=ip_filename)\n",
    "# std_in.executor = rf.ContainerExecutor(cores=config['cores'], memory=config['ram'])\n",
    "# std_in.out_ds = rf.Output.set(transport=rf.KafkaTransport)\n",
    "\n",
    "std_out = STDOut(in_ds=std_in.out_ds, out_filename=op_filename)\n",
    "# std_out.executor = rf.ContainerExecutor(cores=config['cores'], memory=config['ram'])\n",
    "\n",
    "pipeline = rf.Pipeline(name='atomic_kafka_transport', targets=[std_out])\n",
    "pipeline"
   ]
  },
  {
   "cell_type": "code",
   "execution_count": 15,
   "metadata": {},
   "outputs": [
    {
     "data": {
      "application/vnd.razorthink.run+monitor+json": "/tmp/tmp7dczcg_o/atomic_kafka_transport",
      "text/plain": [
       "<razor_tools.backend.ipython.mime.run_monitor.RunMonitor at 0x7f818f98a210>"
      ]
     },
     "metadata": {
      "application/vnd.razorthink.run+monitor+json": {
       "run_data": {
        "apm": [
         {
          "cpu_percent": 0,
          "cpu_time": 0,
          "name": "STDOut_1",
          "real_mem": 162402304,
          "time": 1614930113.8173418
         },
         {
          "cpu_percent": 0,
          "cpu_time": 0,
          "name": "STDIn_1",
          "real_mem": 162418688,
          "time": 1614930113.8285346
         },
         {
          "cpu_percent": 0,
          "cpu_time": 0,
          "name": "STDOut_1",
          "real_mem": 162402304,
          "time": 1614930113.9403205
         },
         {
          "cpu_percent": 0,
          "cpu_time": 0,
          "name": "STDIn_1",
          "real_mem": 162418688,
          "time": 1614930113.9513714
         },
         {
          "cpu_percent": 0,
          "cpu_time": 0.01,
          "name": "STDOut_1",
          "real_mem": 164720640,
          "time": 1614930114.0628884
         },
         {
          "cpu_percent": 0,
          "cpu_time": 0.02,
          "name": "STDIn_1",
          "real_mem": 165027840,
          "time": 1614930114.073831
         },
         {
          "cpu_percent": 0,
          "cpu_time": 0.01,
          "name": "STDOut_1",
          "real_mem": 164720640,
          "time": 1614930114.1852853
         },
         {
          "cpu_percent": 98.7,
          "cpu_time": 0.12,
          "name": "STDIn_1",
          "real_mem": 237092864,
          "time": 1614930114.1962457
         },
         {
          "cpu_percent": 0,
          "cpu_time": 0.05,
          "name": "STDOut_1",
          "real_mem": 202481664,
          "time": 1614930114.307682
         },
         {
          "cpu_percent": 0,
          "cpu_time": 0.14,
          "name": "STDIn_1",
          "real_mem": 241446912,
          "time": 1614930114.3186767
         },
         {
          "cpu_percent": 0,
          "cpu_time": 0.09,
          "name": "STDOut_1",
          "real_mem": 215457792,
          "time": 1614930114.4300094
         },
         {
          "cpu_percent": 0,
          "cpu_time": 0.09,
          "name": "STDOut_1",
          "real_mem": 215457792,
          "time": 1614930114.5414903
         },
         {
          "cpu_percent": 0,
          "cpu_time": 0.11,
          "name": "STDOut_1",
          "real_mem": 222486528,
          "time": 1614930114.6532578
         },
         {
          "cpu_percent": 0,
          "cpu_time": 0.11,
          "name": "STDOut_1",
          "real_mem": 222486528,
          "time": 1614930114.7649093
         },
         {
          "cpu_percent": 0,
          "cpu_time": 0.11,
          "name": "STDOut_1",
          "real_mem": 222486528,
          "time": 1614930114.876546
         },
         {
          "cpu_percent": 0,
          "cpu_time": 0.11,
          "name": "STDOut_1",
          "real_mem": 222486528,
          "time": 1614930114.9885106
         },
         {
          "cpu_percent": 0,
          "cpu_time": 0.12,
          "name": "STDOut_1",
          "real_mem": 222486528,
          "time": 1614930115.1000009
         },
         {
          "cpu_percent": 0,
          "cpu_time": 0,
          "name": "STDOut_1",
          "real_mem": 162402304,
          "time": 1614930113.8173418
         },
         {
          "cpu_percent": 0,
          "cpu_time": 0,
          "name": "STDIn_1",
          "real_mem": 162418688,
          "time": 1614930113.8285346
         },
         {
          "cpu_percent": 0,
          "cpu_time": 0,
          "name": "STDOut_1",
          "real_mem": 162402304,
          "time": 1614930113.9403205
         },
         {
          "cpu_percent": 0,
          "cpu_time": 0,
          "name": "STDIn_1",
          "real_mem": 162418688,
          "time": 1614930113.9513714
         },
         {
          "cpu_percent": 0,
          "cpu_time": 0.01,
          "name": "STDOut_1",
          "real_mem": 164720640,
          "time": 1614930114.0628884
         },
         {
          "cpu_percent": 0,
          "cpu_time": 0.02,
          "name": "STDIn_1",
          "real_mem": 165027840,
          "time": 1614930114.073831
         },
         {
          "cpu_percent": 0,
          "cpu_time": 0.01,
          "name": "STDOut_1",
          "real_mem": 164720640,
          "time": 1614930114.1852853
         },
         {
          "cpu_percent": 98.7,
          "cpu_time": 0.12,
          "name": "STDIn_1",
          "real_mem": 237092864,
          "time": 1614930114.1962457
         },
         {
          "cpu_percent": 0,
          "cpu_time": 0.05,
          "name": "STDOut_1",
          "real_mem": 202481664,
          "time": 1614930114.307682
         },
         {
          "cpu_percent": 0,
          "cpu_time": 0.14,
          "name": "STDIn_1",
          "real_mem": 241446912,
          "time": 1614930114.3186767
         },
         {
          "cpu_percent": 0,
          "cpu_time": 0.09,
          "name": "STDOut_1",
          "real_mem": 215457792,
          "time": 1614930114.4300094
         },
         {
          "cpu_percent": 0,
          "cpu_time": 0.09,
          "name": "STDOut_1",
          "real_mem": 215457792,
          "time": 1614930114.5414903
         },
         {
          "cpu_percent": 0,
          "cpu_time": 0.11,
          "name": "STDOut_1",
          "real_mem": 222486528,
          "time": 1614930114.6532578
         },
         {
          "cpu_percent": 0,
          "cpu_time": 0.11,
          "name": "STDOut_1",
          "real_mem": 222486528,
          "time": 1614930114.7649093
         },
         {
          "cpu_percent": 0,
          "cpu_time": 0.11,
          "name": "STDOut_1",
          "real_mem": 222486528,
          "time": 1614930114.876546
         },
         {
          "cpu_percent": 0,
          "cpu_time": 0.11,
          "name": "STDOut_1",
          "real_mem": 222486528,
          "time": 1614930114.9885106
         },
         {
          "cpu_percent": 0,
          "cpu_time": 0.12,
          "name": "STDOut_1",
          "real_mem": 222486528,
          "time": 1614930115.1000009
         }
        ],
        "logs": [
         {
          "asctime": "2021-03-05 07:41:53,008",
          "exc_info": null,
          "extra": {},
          "filename": "pipeline.py",
          "funcName": "_log_manager",
          "levelname": "INFO",
          "lineno": 413,
          "message": "writing logs to: /tmp/tmp7dczcg_o/atomic_kafka_transport",
          "name": "razor.flow.pipeline:atomic_kafka_transport",
          "pathname": "/usr/local/lib/python3.7/dist-packages/razor/flow/pipeline.py",
          "process": 314,
          "processName": "MainProcess",
          "thread": 140196984485696,
          "threadName": "MainThread"
         },
         {
          "asctime": "2021-03-05 07:41:53,008",
          "exc_info": null,
          "extra": {},
          "filename": "pipeline.py",
          "funcName": "_log_manager",
          "levelname": "INFO",
          "lineno": 413,
          "message": "writing logs to: /tmp/tmp7dczcg_o/atomic_kafka_transport",
          "name": "razor.flow.pipeline:atomic_kafka_transport",
          "pathname": "/usr/local/lib/python3.7/dist-packages/razor/flow/pipeline.py",
          "process": 314,
          "processName": "MainProcess",
          "thread": 140196984485696,
          "threadName": "MainThread"
         }
        ],
        "meta": {
         "block_status": {
          "STDIn_1": "SUCCESS",
          "STDOut_1": "SUCCESS"
         },
         "blocks": [
          {
           "class_name": "STDOut",
           "fullname": ".STDOut",
           "id": "6df92773-443f-47af-82d7-4e8f7e41bcfc",
           "inputs": [
            {
             "dataType": null,
             "default": null,
             "flow": "atomic",
             "help": null,
             "isdict": false,
             "islist": false,
             "label": "in_ds",
             "meta": {},
             "name": "in_ds",
             "series": false,
             "type": "Any",
             "type_check": true
            },
            {
             "dataType": "string",
             "default": "",
             "flow": "atomic",
             "help": null,
             "isdict": false,
             "islist": false,
             "label": "out_filename",
             "meta": {},
             "name": "out_filename",
             "series": false,
             "type": "str",
             "type_check": true
            }
           ],
           "outputs": [],
           "overwritten": false,
           "published": false,
           "var_names": [
            "STDOut"
           ]
          },
          {
           "class_name": "STDIn",
           "fullname": ".STDIn",
           "id": "8df5526f-3787-4650-b154-f91f924ce6d2",
           "inputs": [
            {
             "dataType": "string",
             "default": "",
             "flow": "atomic",
             "help": null,
             "isdict": false,
             "islist": false,
             "label": "filename",
             "meta": {},
             "name": "filename",
             "series": false,
             "type": "str",
             "type_check": true
            }
           ],
           "outputs": [
            {
             "flow": "atomic",
             "help": null,
             "label": "out_ds",
             "meta": {},
             "name": "out_ds",
             "series": false,
             "type": "Any",
             "type_check": true
            }
           ],
           "overwritten": false,
           "published": false,
           "var_names": [
            "STDIn"
           ]
          }
         ],
         "connections": [
          {
           "id": "99e316c7-be9b-4e35-878b-034eb989360a",
           "source": {
            "adapter": false,
            "instance_id": "ada9ad80-3293-4c62-829c-89fce5057fcd",
            "name": "out_ds"
           },
           "target": {
            "adapter": false,
            "instance_id": "c2321ad2-f968-44cc-9530-beb65378e0a0",
            "name": "in_ds"
           }
          }
         ],
         "end": 1614930115.1853726,
         "id": "0256cf57-83be-4f31-8e2f-dbd683651a0b",
         "instances": [
          {
           "block_class": "6df92773-443f-47af-82d7-4e8f7e41bcfc",
           "id": "c2321ad2-f968-44cc-9530-beb65378e0a0",
           "name": "STDOut_1",
           "var_names": [
            "std_out"
           ]
          },
          {
           "block_class": "8df5526f-3787-4650-b154-f91f924ce6d2",
           "id": "ada9ad80-3293-4c62-829c-89fce5057fcd",
           "name": "STDIn_1",
           "var_names": [
            "std_in"
           ]
          }
         ],
         "log_level": 20,
         "name": "atomic_kafka_transport",
         "start": 1614930113.2760303,
         "status": "SUCCESS",
         "system_logs": true,
         "var_names": []
        },
        "metrics": {},
        "runtime": {
         "STDIn_1": {
          "end": 1614930114.211588,
          "load": 1614930113.8007112,
          "start": 1614930114.0190847
         },
         "STDOut_1": {
          "end": 1614930115.001342,
          "load": 1614930113.7909205,
          "start": 1614930114.0176435
         }
        }
       },
       "store_in_notebook": true
      }
     },
     "output_type": "display_data"
    },
    {
     "data": {
      "text/plain": [
       "<Process(Pipeline Manager('atomic_kafka_transport'), stopped)>"
      ]
     },
     "execution_count": 15,
     "metadata": {},
     "output_type": "execute_result"
    }
   ],
   "source": [
    "pipeline.execute()"
   ]
  },
  {
   "cell_type": "code",
   "execution_count": 9,
   "metadata": {},
   "outputs": [
    {
     "name": "stderr",
     "output_type": "stream",
     "text": [
      "INFO:razor.api.impl.pipeline_manager_impl:Registering pipeline with name: `atomic_kafka_transport`\n"
     ]
    },
    {
     "ename": "RuntimeError",
     "evalue": "STDOut is not a published block. Please use only published block to save a pipeline",
     "output_type": "error",
     "traceback": [
      "\u001b[0;31m---------------------------------------------------------------------------\u001b[0m",
      "\u001b[0;31mRuntimeError\u001b[0m                              Traceback (most recent call last)",
      "\u001b[0;32m<ipython-input-9-a4f916ae843f>\u001b[0m in \u001b[0;36m<module>\u001b[0;34m\u001b[0m\n\u001b[1;32m      1\u001b[0m \u001b[0;32mimport\u001b[0m \u001b[0mrazor\u001b[0m\u001b[0;34m\u001b[0m\u001b[0;34m\u001b[0m\u001b[0m\n\u001b[0;32m----> 2\u001b[0;31m \u001b[0mrazor\u001b[0m\u001b[0;34m.\u001b[0m\u001b[0mapi\u001b[0m\u001b[0;34m.\u001b[0m\u001b[0mpipelines\u001b[0m\u001b[0;34m.\u001b[0m\u001b[0msave\u001b[0m\u001b[0;34m(\u001b[0m\u001b[0mpipeline\u001b[0m\u001b[0;34m)\u001b[0m\u001b[0;34m\u001b[0m\u001b[0;34m\u001b[0m\u001b[0m\n\u001b[0m",
      "\u001b[0;32m/usr/local/lib/python3.7/dist-packages/razor/api/core/pipeline_manager.py\u001b[0m in \u001b[0;36msave\u001b[0;34m(self, pipeline, pipeline_vars, resources, overwrite)\u001b[0m\n\u001b[1;32m     65\u001b[0m                                                  \u001b[0mpipeline_vars\u001b[0m\u001b[0;34m=\u001b[0m\u001b[0mpipeline_vars\u001b[0m\u001b[0;34m,\u001b[0m\u001b[0;34m\u001b[0m\u001b[0;34m\u001b[0m\u001b[0m\n\u001b[1;32m     66\u001b[0m                                                  \u001b[0mresources\u001b[0m\u001b[0;34m=\u001b[0m\u001b[0mresources\u001b[0m\u001b[0;34m,\u001b[0m\u001b[0;34m\u001b[0m\u001b[0;34m\u001b[0m\u001b[0m\n\u001b[0;32m---> 67\u001b[0;31m                                                  overwrite=overwrite)\n\u001b[0m",
      "\u001b[0;32m/usr/local/lib/python3.7/dist-packages/razor/api/impl/pipeline_manager_impl.py\u001b[0m in \u001b[0;36msave_pipeline\u001b[0;34m(pipeline, pipeline_vars, resources, overwrite)\u001b[0m\n\u001b[1;32m    140\u001b[0m \u001b[0;34m\u001b[0m\u001b[0m\n\u001b[1;32m    141\u001b[0m         \u001b[0;31m# Block validation\u001b[0m\u001b[0;34m\u001b[0m\u001b[0;34m\u001b[0m\u001b[0;34m\u001b[0m\u001b[0m\n\u001b[0;32m--> 142\u001b[0;31m         \u001b[0mmetadata\u001b[0m\u001b[0;34m,\u001b[0m \u001b[0mart_bundle_type\u001b[0m \u001b[0;34m=\u001b[0m \u001b[0mPipelineManagerImpl\u001b[0m\u001b[0;34m.\u001b[0m\u001b[0mvalidate_pipeline_blocks\u001b[0m\u001b[0;34m(\u001b[0m\u001b[0mpipeline\u001b[0m\u001b[0;34m,\u001b[0m \u001b[0mserialized\u001b[0m\u001b[0;34m)\u001b[0m\u001b[0;34m\u001b[0m\u001b[0;34m\u001b[0m\u001b[0m\n\u001b[0m\u001b[1;32m    143\u001b[0m \u001b[0;34m\u001b[0m\u001b[0m\n\u001b[1;32m    144\u001b[0m         \u001b[0mlogger\u001b[0m\u001b[0;34m.\u001b[0m\u001b[0mdebug\u001b[0m\u001b[0;34m(\u001b[0m\u001b[0mstr\u001b[0m\u001b[0;34m.\u001b[0m\u001b[0mformat\u001b[0m\u001b[0;34m(\u001b[0m\u001b[0mLogMessages\u001b[0m\u001b[0;34m.\u001b[0m\u001b[0mPACKAGE_YAML\u001b[0m\u001b[0;34m,\u001b[0m \u001b[0mmetadata\u001b[0m\u001b[0;34m)\u001b[0m\u001b[0;34m)\u001b[0m\u001b[0;34m\u001b[0m\u001b[0;34m\u001b[0m\u001b[0m\n",
      "\u001b[0;32m/usr/local/lib/python3.7/dist-packages/razor/api/impl/pipeline_manager_impl.py\u001b[0m in \u001b[0;36mvalidate_pipeline_blocks\u001b[0;34m(pipeline, serialized)\u001b[0m\n\u001b[1;32m     85\u001b[0m             \u001b[0mpath\u001b[0m \u001b[0;34m=\u001b[0m \u001b[0mblk\u001b[0m\u001b[0;34m[\u001b[0m\u001b[0;34m\"bundle_source\"\u001b[0m\u001b[0;34m]\u001b[0m\u001b[0;34m\u001b[0m\u001b[0;34m\u001b[0m\u001b[0m\n\u001b[1;32m     86\u001b[0m             \u001b[0;32mif\u001b[0m \u001b[0mpath\u001b[0m \u001b[0;34m==\u001b[0m \u001b[0;34m\"\"\u001b[0m\u001b[0;34m:\u001b[0m\u001b[0;34m\u001b[0m\u001b[0;34m\u001b[0m\u001b[0m\n\u001b[0;32m---> 87\u001b[0;31m                 raise RuntimeError(f\"{blk['class_name']} is not a published block. \"\n\u001b[0m\u001b[1;32m     88\u001b[0m                                    f\"Please use only published block to save a pipeline\")\n\u001b[1;32m     89\u001b[0m \u001b[0;34m\u001b[0m\u001b[0m\n",
      "\u001b[0;31mRuntimeError\u001b[0m: STDOut is not a published block. Please use only published block to save a pipeline"
     ]
    }
   ],
   "source": [
    "import razor\n",
    "razor.api.pipelines.save(pipeline)"
   ]
  },
  {
   "cell_type": "code",
   "execution_count": null,
   "metadata": {},
   "outputs": [],
   "source": []
  },
  {
   "cell_type": "code",
   "execution_count": null,
   "metadata": {},
   "outputs": [],
   "source": []
  }
 ],
 "metadata": {
  "kernelspec": {
   "display_name": "Python 3",
   "language": "python",
   "name": "python3"
  },
  "language_info": {
   "codemirror_mode": {
    "name": "ipython",
    "version": 3
   },
   "file_extension": ".py",
   "mimetype": "text/x-python",
   "name": "python",
   "nbconvert_exporter": "python",
   "pygments_lexer": "ipython3",
   "version": "3.7.10"
  }
 },
 "nbformat": 4,
 "nbformat_minor": 4
}
