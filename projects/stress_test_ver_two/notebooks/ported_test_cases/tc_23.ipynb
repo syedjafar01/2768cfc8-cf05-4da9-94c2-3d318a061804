{
 "cells": [
  {
   "cell_type": "code",
   "execution_count": 1,
   "metadata": {},
   "outputs": [],
   "source": [
    "import razor.flow as rf\n",
    "from razor import api\n",
    "import logging\n",
    "import time, os\n",
    "import typing as typ\n",
    "import numpy as np\n",
    "import pandas as pd\n",
    "\n",
    "logger = logging.getLogger()"
   ]
  },
  {
   "cell_type": "code",
   "execution_count": 2,
   "metadata": {},
   "outputs": [],
   "source": [
    "def project_space_path(path):\n",
    "    ps = api.datasources('Project Space')\n",
    "    return os.path.join(ps.abspath(), path)\n"
   ]
  },
  {
   "cell_type": "code",
   "execution_count": 3,
   "metadata": {},
   "outputs": [],
   "source": [
    "@rf.block(executor=rf.FunctionExecutor)\n",
    "class STDIn:\n",
    "    filename: str\n",
    "    records: int\n",
    "    out_ds: rf.SeriesOutput[typ.Any] = rf.Output(transport=rf.KafkaTransport)\n",
    "\n",
    "    def run(self):\n",
    "        with open(project_space_path(self.filename), 'r') as f:\n",
    "            text_str = f.read()\n",
    "\n",
    "        logger.info(len(text_str))\n",
    "        for _ in range(self.records):\n",
    "            self.out_ds.put(text_str)\n",
    "\n",
    "            \n",
    "@rf.block(executor=rf.FunctionExecutor)\n",
    "class ReplaceChar:\n",
    "    in_ds: rf.SeriesInput[typ.Any]\n",
    "    out_ds: rf.SeriesOutput[typ.Any] = rf.Output(transport=rf.KafkaTransport)\n",
    "\n",
    "    def run(self):\n",
    "        for i in self.in_ds:\n",
    "            text_str = i.replace('r', '!!!R!!!')\n",
    "            self.out_ds.put(text_str)\n",
    "            \n",
    "            \n",
    "@rf.block(executor=rf.FunctionExecutor)         \n",
    "class PrintReplaceFreq:\n",
    "    s_in_ds: rf.SeriesInput[typ.Any]\n",
    "    l_in_ds: rf.SeriesInput[typ.Any]\n",
    "    s_out_ds: rf.SeriesOutput[typ.Any] = rf.Output(transport=rf.KafkaTransport)\n",
    "    l_out_ds: rf.SeriesOutput[typ.Any] = rf.Output(transport=rf.KafkaTransport)\n",
    "\n",
    "    def run(self):\n",
    "        logger.info('small')\n",
    "        for i in self.s_in_ds:\n",
    "            logger.info(i.count('!!!R!!!'))\n",
    "            self.s_out_ds.put(i)\n",
    "            \n",
    "        logger.info('big')\n",
    "        for i in self.l_in_ds:\n",
    "            logger.info(i.count('!!!R!!!'))\n",
    "            self.l_out_ds.put(i)\n",
    "            \n",
    "            \n",
    "@rf.block(executor=rf.FunctionExecutor) \n",
    "class DeReplaceChar:\n",
    "    in_ds: rf.SeriesInput[typ.Any]\n",
    "    out_ds: rf.SeriesOutput[typ.Any] = rf.Output(transport=rf.KafkaTransport)\n",
    "\n",
    "    def run(self):\n",
    "        for i in self.in_ds:\n",
    "            text_str = i.replace('!!!R!!!', 'r')\n",
    "            self.out_ds.put(text_str)\n",
    "\n",
    "\n",
    "@rf.block(executor=rf.FunctionExecutor) \n",
    "class STDOut:\n",
    "    in_ds: rf.SeriesInput[typ.Any]\n",
    "    out_filename: str\n",
    "\n",
    "    def run(self):\n",
    "        text_str = ''\n",
    "        for i in self.in_ds:\n",
    "            if len(text_str) == 0:\n",
    "                text_str = i\n",
    "            else:\n",
    "                continue\n",
    "        logger.info(len(text_str))\n",
    "        with open(project_space_path(self.out_filename), 'w') as f:\n",
    "            f.write(text_str)\n",
    "            "
   ]
  },
  {
   "cell_type": "code",
   "execution_count": 4,
   "metadata": {},
   "outputs": [
    {
     "data": {
      "application/vnd.razorthink.interactive+pipeline+view+json": {
       "blocks": [
        {
         "class_name": "DeReplaceChar",
         "fullname": ".DeReplaceChar",
         "id": "3ac95ff8-5ea7-450b-b1ec-a84c82f44080",
         "inputs": [
          {
           "dataType": null,
           "default": null,
           "flow": "series",
           "help": null,
           "isdict": false,
           "islist": false,
           "label": "in_ds",
           "meta": {},
           "name": "in_ds",
           "series": true,
           "type": "Any",
           "type_check": true
          }
         ],
         "outputs": [
          {
           "flow": "series",
           "help": null,
           "label": "out_ds",
           "meta": {},
           "name": "out_ds",
           "series": true,
           "type": "Any",
           "type_check": true
          }
         ],
         "overwritten": false,
         "published": false,
         "var_names": [
          "DeReplaceChar"
         ]
        },
        {
         "class_name": "ReplaceChar",
         "fullname": ".ReplaceChar",
         "id": "72e700d1-6140-4c81-a502-4c41b218fb58",
         "inputs": [
          {
           "dataType": null,
           "default": null,
           "flow": "series",
           "help": null,
           "isdict": false,
           "islist": false,
           "label": "in_ds",
           "meta": {},
           "name": "in_ds",
           "series": true,
           "type": "Any",
           "type_check": true
          }
         ],
         "outputs": [
          {
           "flow": "series",
           "help": null,
           "label": "out_ds",
           "meta": {},
           "name": "out_ds",
           "series": true,
           "type": "Any",
           "type_check": true
          }
         ],
         "overwritten": false,
         "published": false,
         "var_names": [
          "ReplaceChar"
         ]
        },
        {
         "class_name": "PrintReplaceFreq",
         "fullname": ".PrintReplaceFreq",
         "id": "0cebb84d-f5a6-4152-8d54-54a83c93eb01",
         "inputs": [
          {
           "dataType": null,
           "default": null,
           "flow": "series",
           "help": null,
           "isdict": false,
           "islist": false,
           "label": "s_in_ds",
           "meta": {},
           "name": "s_in_ds",
           "series": true,
           "type": "Any",
           "type_check": true
          },
          {
           "dataType": null,
           "default": null,
           "flow": "series",
           "help": null,
           "isdict": false,
           "islist": false,
           "label": "l_in_ds",
           "meta": {},
           "name": "l_in_ds",
           "series": true,
           "type": "Any",
           "type_check": true
          }
         ],
         "outputs": [
          {
           "flow": "series",
           "help": null,
           "label": "s_out_ds",
           "meta": {},
           "name": "s_out_ds",
           "series": true,
           "type": "Any",
           "type_check": true
          },
          {
           "flow": "series",
           "help": null,
           "label": "l_out_ds",
           "meta": {},
           "name": "l_out_ds",
           "series": true,
           "type": "Any",
           "type_check": true
          }
         ],
         "overwritten": false,
         "published": false,
         "var_names": [
          "PrintReplaceFreq"
         ]
        },
        {
         "class_name": "STDIn",
         "fullname": ".STDIn",
         "id": "6fa3c798-936b-49ad-846a-a9f4718d32da",
         "inputs": [
          {
           "dataType": "string",
           "default": "",
           "flow": "atomic",
           "help": null,
           "isdict": false,
           "islist": false,
           "label": "filename",
           "meta": {},
           "name": "filename",
           "series": false,
           "type": "str",
           "type_check": true
          },
          {
           "dataType": "integer",
           "default": 0,
           "flow": "atomic",
           "help": null,
           "isdict": false,
           "islist": false,
           "label": "records",
           "meta": {},
           "name": "records",
           "series": false,
           "type": "int",
           "type_check": true
          }
         ],
         "outputs": [
          {
           "flow": "series",
           "help": null,
           "label": "out_ds",
           "meta": {},
           "name": "out_ds",
           "series": true,
           "type": "Any",
           "type_check": true
          }
         ],
         "overwritten": false,
         "published": false,
         "var_names": [
          "STDIn"
         ]
        },
        {
         "class_name": "STDOut",
         "fullname": ".STDOut",
         "id": "b7383675-a9da-45ec-9f99-6c34bba840e4",
         "inputs": [
          {
           "dataType": null,
           "default": null,
           "flow": "series",
           "help": null,
           "isdict": false,
           "islist": false,
           "label": "in_ds",
           "meta": {},
           "name": "in_ds",
           "series": true,
           "type": "Any",
           "type_check": true
          },
          {
           "dataType": "string",
           "default": "",
           "flow": "atomic",
           "help": null,
           "isdict": false,
           "islist": false,
           "label": "out_filename",
           "meta": {},
           "name": "out_filename",
           "series": false,
           "type": "str",
           "type_check": true
          }
         ],
         "outputs": [],
         "overwritten": false,
         "published": false,
         "var_names": [
          "STDOut"
         ]
        }
       ],
       "connections": [
        {
         "id": "aade1e96-b2b9-4a7c-81f5-7eeefe0341e9",
         "source": {
          "adapter": false,
          "instance_id": "34225b7a-eaee-4bf7-91c8-dab0cbaf229f",
          "name": "out_ds"
         },
         "target": {
          "adapter": false,
          "instance_id": "e24d46a4-1f33-4d64-a82b-9f4991594c2a",
          "name": "in_ds"
         }
        },
        {
         "id": "3905c274-c547-4c39-88b5-bf06fe364ecb",
         "source": {
          "adapter": false,
          "instance_id": "54e2bd4d-e6a2-4bc5-8828-b5030b84f6b3",
          "name": "out_ds"
         },
         "target": {
          "adapter": false,
          "instance_id": "11e688c2-5e6d-4106-97da-634a27ee46e2",
          "name": "in_ds"
         }
        },
        {
         "id": "93260617-8c78-4d92-8b1e-e4add8900110",
         "source": {
          "adapter": false,
          "instance_id": "a442c603-f96f-48bc-8c85-86d266a902e1",
          "name": "s_out_ds"
         },
         "target": {
          "adapter": false,
          "instance_id": "ad63647a-67a1-4422-bcfe-8859936548d4",
          "name": "in_ds"
         }
        },
        {
         "id": "95a9a25e-0256-4f81-9efa-238a17ae8e1d",
         "source": {
          "adapter": false,
          "instance_id": "a442c603-f96f-48bc-8c85-86d266a902e1",
          "name": "l_out_ds"
         },
         "target": {
          "adapter": false,
          "instance_id": "34225b7a-eaee-4bf7-91c8-dab0cbaf229f",
          "name": "in_ds"
         }
        },
        {
         "id": "dbd8b396-05b2-411b-99c6-efe2a330e71a",
         "source": {
          "adapter": false,
          "instance_id": "11e688c2-5e6d-4106-97da-634a27ee46e2",
          "name": "out_ds"
         },
         "target": {
          "adapter": false,
          "instance_id": "a442c603-f96f-48bc-8c85-86d266a902e1",
          "name": "l_in_ds"
         }
        },
        {
         "id": "8560b270-3932-4359-84f3-59f95d827dd0",
         "source": {
          "adapter": false,
          "instance_id": "d5a68a9b-5582-4f08-bbcb-2e2901c50985",
          "name": "out_ds"
         },
         "target": {
          "adapter": false,
          "instance_id": "5c0f41df-69cb-4202-ae73-d8360c8d344e",
          "name": "in_ds"
         }
        },
        {
         "id": "13863a17-3289-4fec-9007-3a7b9e37a55f",
         "source": {
          "adapter": false,
          "instance_id": "5c0f41df-69cb-4202-ae73-d8360c8d344e",
          "name": "out_ds"
         },
         "target": {
          "adapter": false,
          "instance_id": "a442c603-f96f-48bc-8c85-86d266a902e1",
          "name": "s_in_ds"
         }
        },
        {
         "id": "50f8baee-83f8-4112-80d4-52d749c4f19b",
         "source": {
          "adapter": false,
          "instance_id": "ad63647a-67a1-4422-bcfe-8859936548d4",
          "name": "out_ds"
         },
         "target": {
          "adapter": false,
          "instance_id": "6637d6b8-e613-4e28-9c99-8b1b3a97afd3",
          "name": "in_ds"
         }
        }
       ],
       "id": "cea26f26-c6b2-48d8-8573-35e3e3ece3be",
       "instances": [
        {
         "block_class": "b7383675-a9da-45ec-9f99-6c34bba840e4",
         "id": "6637d6b8-e613-4e28-9c99-8b1b3a97afd3",
         "name": "STDOut_1",
         "var_names": [
          "s_stdout"
         ]
        },
        {
         "block_class": "3ac95ff8-5ea7-450b-b1ec-a84c82f44080",
         "id": "ad63647a-67a1-4422-bcfe-8859936548d4",
         "name": "DeReplaceChar_1",
         "var_names": [
          "s_derep_char"
         ]
        },
        {
         "block_class": "0cebb84d-f5a6-4152-8d54-54a83c93eb01",
         "id": "a442c603-f96f-48bc-8c85-86d266a902e1",
         "name": "PrintReplaceFreq_1",
         "var_names": [
          "print_rep_freq"
         ]
        },
        {
         "block_class": "72e700d1-6140-4c81-a502-4c41b218fb58",
         "id": "5c0f41df-69cb-4202-ae73-d8360c8d344e",
         "name": "ReplaceChar_1",
         "var_names": [
          "s_rep_char"
         ]
        },
        {
         "block_class": "6fa3c798-936b-49ad-846a-a9f4718d32da",
         "id": "d5a68a9b-5582-4f08-bbcb-2e2901c50985",
         "name": "STDIn_1",
         "var_names": [
          "s_std_in"
         ]
        },
        {
         "block_class": "72e700d1-6140-4c81-a502-4c41b218fb58",
         "id": "11e688c2-5e6d-4106-97da-634a27ee46e2",
         "name": "ReplaceChar_2",
         "var_names": [
          "l_rep_char"
         ]
        },
        {
         "block_class": "6fa3c798-936b-49ad-846a-a9f4718d32da",
         "id": "54e2bd4d-e6a2-4bc5-8828-b5030b84f6b3",
         "name": "STDIn_2",
         "var_names": [
          "l_std_in"
         ]
        },
        {
         "block_class": "b7383675-a9da-45ec-9f99-6c34bba840e4",
         "id": "e24d46a4-1f33-4d64-a82b-9f4991594c2a",
         "name": "STDOut_2",
         "var_names": [
          "l_stdout"
         ]
        },
        {
         "block_class": "3ac95ff8-5ea7-450b-b1ec-a84c82f44080",
         "id": "34225b7a-eaee-4bf7-91c8-dab0cbaf229f",
         "name": "DeReplaceChar_2",
         "var_names": [
          "l_derep_char"
         ]
        }
       ],
       "name": "mix_series_parallel",
       "var_names": []
      },
      "image/svg+xml": [
       "<?xml version=\"1.0\" encoding=\"UTF-8\" standalone=\"no\"?>\n",
       "<!DOCTYPE svg PUBLIC \"-//W3C//DTD SVG 1.1//EN\"\n",
       " \"http://www.w3.org/Graphics/SVG/1.1/DTD/svg11.dtd\">\n",
       "<!-- Generated by graphviz version 2.43.0 (0)\n",
       " -->\n",
       "<!-- Title: %3 Pages: 1 -->\n",
       "<svg width=\"476pt\" height=\"376pt\"\n",
       " viewBox=\"0.00 0.00 475.87 376.00\" xmlns=\"http://www.w3.org/2000/svg\" xmlns:xlink=\"http://www.w3.org/1999/xlink\">\n",
       "<g id=\"graph0\" class=\"graph\" transform=\"scale(1 1) rotate(0) translate(4 372)\">\n",
       "<title>%3</title>\n",
       "<polygon fill=\"white\" stroke=\"transparent\" points=\"-4,4 -4,-372 471.87,-372 471.87,4 -4,4\"/>\n",
       "<!-- STDOut(&#39;STDOut_1&#39;) -->\n",
       "<g id=\"node1\" class=\"node\">\n",
       "<title>STDOut(&#39;STDOut_1&#39;)</title>\n",
       "<ellipse fill=\"none\" stroke=\"black\" cx=\"112.43\" cy=\"-18\" rx=\"67.89\" ry=\"18\"/>\n",
       "<text text-anchor=\"middle\" x=\"112.43\" y=\"-15.5\" font-family=\"Helvetica,sans-Serif\" font-size=\"10.00\">STDOut(&#39;STDOut_1&#39;)</text>\n",
       "</g>\n",
       "<!-- DeReplaceChar(&#39;DeReplaceChar_1&#39;) -->\n",
       "<g id=\"node2\" class=\"node\">\n",
       "<title>DeReplaceChar(&#39;DeReplaceChar_1&#39;)</title>\n",
       "<ellipse fill=\"none\" stroke=\"black\" cx=\"112.43\" cy=\"-101\" rx=\"112.37\" ry=\"18\"/>\n",
       "<text text-anchor=\"middle\" x=\"112.43\" y=\"-98.5\" font-family=\"Helvetica,sans-Serif\" font-size=\"10.00\">DeReplaceChar(&#39;DeReplaceChar_1&#39;)</text>\n",
       "</g>\n",
       "<!-- DeReplaceChar(&#39;DeReplaceChar_1&#39;)&#45;&gt;STDOut(&#39;STDOut_1&#39;) -->\n",
       "<g id=\"edge1\" class=\"edge\">\n",
       "<title>DeReplaceChar(&#39;DeReplaceChar_1&#39;)&#45;&gt;STDOut(&#39;STDOut_1&#39;)</title>\n",
       "<path fill=\"none\" stroke=\"black\" d=\"M112.43,-82.82C112.43,-72.19 112.43,-58.31 112.43,-46.2\"/>\n",
       "<polygon fill=\"black\" stroke=\"black\" points=\"115.93,-46.15 112.43,-36.15 108.93,-46.15 115.93,-46.15\"/>\n",
       "<text text-anchor=\"middle\" x=\"147.43\" y=\"-57\" font-family=\"Helvetica,sans-Serif\" font-size=\"10.00\">out_ds&#45;&gt;in_ds</text>\n",
       "</g>\n",
       "<!-- PrintReplaceFreq(&#39;PrintReplaceFreq_1&#39;) -->\n",
       "<g id=\"node3\" class=\"node\">\n",
       "<title>PrintReplaceFreq(&#39;PrintReplaceFreq_1&#39;)</title>\n",
       "<ellipse fill=\"none\" stroke=\"black\" cx=\"233.43\" cy=\"-184\" rx=\"121.03\" ry=\"18\"/>\n",
       "<text text-anchor=\"middle\" x=\"233.43\" y=\"-181.5\" font-family=\"Helvetica,sans-Serif\" font-size=\"10.00\">PrintReplaceFreq(&#39;PrintReplaceFreq_1&#39;)</text>\n",
       "</g>\n",
       "<!-- PrintReplaceFreq(&#39;PrintReplaceFreq_1&#39;)&#45;&gt;DeReplaceChar(&#39;DeReplaceChar_1&#39;) -->\n",
       "<g id=\"edge2\" class=\"edge\">\n",
       "<title>PrintReplaceFreq(&#39;PrintReplaceFreq_1&#39;)&#45;&gt;DeReplaceChar(&#39;DeReplaceChar_1&#39;)</title>\n",
       "<path fill=\"none\" stroke=\"black\" d=\"M208.36,-166.22C190.27,-154.11 165.66,-137.63 145.89,-124.4\"/>\n",
       "<polygon fill=\"black\" stroke=\"black\" points=\"147.73,-121.42 137.47,-118.76 143.84,-127.23 147.73,-121.42\"/>\n",
       "<text text-anchor=\"middle\" x=\"220.93\" y=\"-140\" font-family=\"Helvetica,sans-Serif\" font-size=\"10.00\">s_out_ds&#45;&gt;in_ds</text>\n",
       "</g>\n",
       "<!-- DeReplaceChar(&#39;DeReplaceChar_2&#39;) -->\n",
       "<g id=\"node9\" class=\"node\">\n",
       "<title>DeReplaceChar(&#39;DeReplaceChar_2&#39;)</title>\n",
       "<ellipse fill=\"none\" stroke=\"black\" cx=\"355.43\" cy=\"-101\" rx=\"112.37\" ry=\"18\"/>\n",
       "<text text-anchor=\"middle\" x=\"355.43\" y=\"-98.5\" font-family=\"Helvetica,sans-Serif\" font-size=\"10.00\">DeReplaceChar(&#39;DeReplaceChar_2&#39;)</text>\n",
       "</g>\n",
       "<!-- PrintReplaceFreq(&#39;PrintReplaceFreq_1&#39;)&#45;&gt;DeReplaceChar(&#39;DeReplaceChar_2&#39;) -->\n",
       "<g id=\"edge3\" class=\"edge\">\n",
       "<title>PrintReplaceFreq(&#39;PrintReplaceFreq_1&#39;)&#45;&gt;DeReplaceChar(&#39;DeReplaceChar_2&#39;)</title>\n",
       "<path fill=\"none\" stroke=\"black\" d=\"M258.71,-166.22C276.95,-154.11 301.77,-137.63 321.7,-124.4\"/>\n",
       "<polygon fill=\"black\" stroke=\"black\" points=\"323.79,-127.21 330.19,-118.76 319.92,-121.38 323.79,-127.21\"/>\n",
       "<text text-anchor=\"middle\" x=\"341.93\" y=\"-140\" font-family=\"Helvetica,sans-Serif\" font-size=\"10.00\">l_out_ds&#45;&gt;in_ds</text>\n",
       "</g>\n",
       "<!-- ReplaceChar(&#39;ReplaceChar_1&#39;) -->\n",
       "<g id=\"node4\" class=\"node\">\n",
       "<title>ReplaceChar(&#39;ReplaceChar_1&#39;)</title>\n",
       "<ellipse fill=\"none\" stroke=\"black\" cx=\"128.43\" cy=\"-267\" rx=\"96.58\" ry=\"18\"/>\n",
       "<text text-anchor=\"middle\" x=\"128.43\" y=\"-264.5\" font-family=\"Helvetica,sans-Serif\" font-size=\"10.00\">ReplaceChar(&#39;ReplaceChar_1&#39;)</text>\n",
       "</g>\n",
       "<!-- ReplaceChar(&#39;ReplaceChar_1&#39;)&#45;&gt;PrintReplaceFreq(&#39;PrintReplaceFreq_1&#39;) -->\n",
       "<g id=\"edge4\" class=\"edge\">\n",
       "<title>ReplaceChar(&#39;ReplaceChar_1&#39;)&#45;&gt;PrintReplaceFreq(&#39;PrintReplaceFreq_1&#39;)</title>\n",
       "<path fill=\"none\" stroke=\"black\" d=\"M149.94,-249.41C165.4,-237.48 186.47,-221.23 203.57,-208.04\"/>\n",
       "<polygon fill=\"black\" stroke=\"black\" points=\"205.82,-210.72 211.6,-201.84 201.55,-205.18 205.82,-210.72\"/>\n",
       "<text text-anchor=\"middle\" x=\"227.93\" y=\"-223\" font-family=\"Helvetica,sans-Serif\" font-size=\"10.00\">out_ds&#45;&gt;s_in_ds</text>\n",
       "</g>\n",
       "<!-- STDIn(&#39;STDIn_1&#39;) -->\n",
       "<g id=\"node5\" class=\"node\">\n",
       "<title>STDIn(&#39;STDIn_1&#39;)</title>\n",
       "<ellipse fill=\"none\" stroke=\"black\" cx=\"128.43\" cy=\"-350\" rx=\"57.88\" ry=\"18\"/>\n",
       "<text text-anchor=\"middle\" x=\"128.43\" y=\"-347.5\" font-family=\"Helvetica,sans-Serif\" font-size=\"10.00\">STDIn(&#39;STDIn_1&#39;)</text>\n",
       "</g>\n",
       "<!-- STDIn(&#39;STDIn_1&#39;)&#45;&gt;ReplaceChar(&#39;ReplaceChar_1&#39;) -->\n",
       "<g id=\"edge5\" class=\"edge\">\n",
       "<title>STDIn(&#39;STDIn_1&#39;)&#45;&gt;ReplaceChar(&#39;ReplaceChar_1&#39;)</title>\n",
       "<path fill=\"none\" stroke=\"black\" d=\"M128.43,-331.82C128.43,-321.19 128.43,-307.31 128.43,-295.2\"/>\n",
       "<polygon fill=\"black\" stroke=\"black\" points=\"131.93,-295.15 128.43,-285.15 124.93,-295.15 131.93,-295.15\"/>\n",
       "<text text-anchor=\"middle\" x=\"163.43\" y=\"-306\" font-family=\"Helvetica,sans-Serif\" font-size=\"10.00\">out_ds&#45;&gt;in_ds</text>\n",
       "</g>\n",
       "<!-- ReplaceChar(&#39;ReplaceChar_2&#39;) -->\n",
       "<g id=\"node6\" class=\"node\">\n",
       "<title>ReplaceChar(&#39;ReplaceChar_2&#39;)</title>\n",
       "<ellipse fill=\"none\" stroke=\"black\" cx=\"339.43\" cy=\"-267\" rx=\"96.58\" ry=\"18\"/>\n",
       "<text text-anchor=\"middle\" x=\"339.43\" y=\"-264.5\" font-family=\"Helvetica,sans-Serif\" font-size=\"10.00\">ReplaceChar(&#39;ReplaceChar_2&#39;)</text>\n",
       "</g>\n",
       "<!-- ReplaceChar(&#39;ReplaceChar_2&#39;)&#45;&gt;PrintReplaceFreq(&#39;PrintReplaceFreq_1&#39;) -->\n",
       "<g id=\"edge6\" class=\"edge\">\n",
       "<title>ReplaceChar(&#39;ReplaceChar_2&#39;)&#45;&gt;PrintReplaceFreq(&#39;PrintReplaceFreq_1&#39;)</title>\n",
       "<path fill=\"none\" stroke=\"black\" d=\"M317.73,-249.41C302.11,-237.48 280.85,-221.23 263.59,-208.04\"/>\n",
       "<polygon fill=\"black\" stroke=\"black\" points=\"265.55,-205.13 255.48,-201.84 261.3,-210.7 265.55,-205.13\"/>\n",
       "<text text-anchor=\"middle\" x=\"332.93\" y=\"-223\" font-family=\"Helvetica,sans-Serif\" font-size=\"10.00\">out_ds&#45;&gt;l_in_ds</text>\n",
       "</g>\n",
       "<!-- STDIn(&#39;STDIn_2&#39;) -->\n",
       "<g id=\"node7\" class=\"node\">\n",
       "<title>STDIn(&#39;STDIn_2&#39;)</title>\n",
       "<ellipse fill=\"none\" stroke=\"black\" cx=\"339.43\" cy=\"-350\" rx=\"57.88\" ry=\"18\"/>\n",
       "<text text-anchor=\"middle\" x=\"339.43\" y=\"-347.5\" font-family=\"Helvetica,sans-Serif\" font-size=\"10.00\">STDIn(&#39;STDIn_2&#39;)</text>\n",
       "</g>\n",
       "<!-- STDIn(&#39;STDIn_2&#39;)&#45;&gt;ReplaceChar(&#39;ReplaceChar_2&#39;) -->\n",
       "<g id=\"edge7\" class=\"edge\">\n",
       "<title>STDIn(&#39;STDIn_2&#39;)&#45;&gt;ReplaceChar(&#39;ReplaceChar_2&#39;)</title>\n",
       "<path fill=\"none\" stroke=\"black\" d=\"M339.43,-331.82C339.43,-321.19 339.43,-307.31 339.43,-295.2\"/>\n",
       "<polygon fill=\"black\" stroke=\"black\" points=\"342.93,-295.15 339.43,-285.15 335.93,-295.15 342.93,-295.15\"/>\n",
       "<text text-anchor=\"middle\" x=\"374.43\" y=\"-306\" font-family=\"Helvetica,sans-Serif\" font-size=\"10.00\">out_ds&#45;&gt;in_ds</text>\n",
       "</g>\n",
       "<!-- STDOut(&#39;STDOut_2&#39;) -->\n",
       "<g id=\"node8\" class=\"node\">\n",
       "<title>STDOut(&#39;STDOut_2&#39;)</title>\n",
       "<ellipse fill=\"none\" stroke=\"black\" cx=\"355.43\" cy=\"-18\" rx=\"67.89\" ry=\"18\"/>\n",
       "<text text-anchor=\"middle\" x=\"355.43\" y=\"-15.5\" font-family=\"Helvetica,sans-Serif\" font-size=\"10.00\">STDOut(&#39;STDOut_2&#39;)</text>\n",
       "</g>\n",
       "<!-- DeReplaceChar(&#39;DeReplaceChar_2&#39;)&#45;&gt;STDOut(&#39;STDOut_2&#39;) -->\n",
       "<g id=\"edge8\" class=\"edge\">\n",
       "<title>DeReplaceChar(&#39;DeReplaceChar_2&#39;)&#45;&gt;STDOut(&#39;STDOut_2&#39;)</title>\n",
       "<path fill=\"none\" stroke=\"black\" d=\"M355.43,-82.82C355.43,-72.19 355.43,-58.31 355.43,-46.2\"/>\n",
       "<polygon fill=\"black\" stroke=\"black\" points=\"358.93,-46.15 355.43,-36.15 351.93,-46.15 358.93,-46.15\"/>\n",
       "<text text-anchor=\"middle\" x=\"390.43\" y=\"-57\" font-family=\"Helvetica,sans-Serif\" font-size=\"10.00\">out_ds&#45;&gt;in_ds</text>\n",
       "</g>\n",
       "</g>\n",
       "</svg>\n"
      ],
      "text/plain": [
       "<razor.flow.async_pipeline.Pipeline at 0x7fd04236c950>"
      ]
     },
     "execution_count": 4,
     "metadata": {},
     "output_type": "execute_result"
    }
   ],
   "source": [
    "records = 10\n",
    "s_size = '10MB'\n",
    "l_size = '100MB'\n",
    "s_ip_filename = \"sdk_testbench/input_data/file\" + s_size + \".txt\"\n",
    "l_ip_filename = \"sdk_testbench/input_data/file\" + l_size + \".txt\"\n",
    "s_op_filename = \"sdk_testbench/output_data/s_tc_23.txt\"\n",
    "l_op_filename = \"sdk_testbench/output_data/l_tc_23.txt\"\n",
    "\n",
    "s_std_in = STDIn(records=records, filename=s_ip_filename)\n",
    "l_std_in = STDIn(records=records, filename=l_ip_filename)\n",
    "l_std_in.out_ds = rf.Output.set(transport=rf.FileTransport)\n",
    "\n",
    "s_rep_char = ReplaceChar(in_ds=s_std_in.out_ds)\n",
    "l_rep_char = ReplaceChar(in_ds=l_std_in.out_ds)\n",
    "l_rep_char.out_ds = rf.Output.set(transport=rf.FileTransport)\n",
    "\n",
    "print_rep_freq = PrintReplaceFreq(s_in_ds=s_rep_char.out_ds, l_in_ds=l_rep_char.out_ds)\n",
    "print_rep_freq.l_out_ds = rf.Output.set(transport=rf.FileTransport)\n",
    "\n",
    "s_derep_char = DeReplaceChar(in_ds=print_rep_freq.s_out_ds)\n",
    "l_derep_char = DeReplaceChar(in_ds=print_rep_freq.l_out_ds)\n",
    "l_derep_char.out_ds = rf.Output.set(transport=rf.FileTransport)\n",
    "\n",
    "s_stdout = STDOut(in_ds=s_derep_char.out_ds, out_filename=s_op_filename)\n",
    "l_stdout = STDOut(in_ds=l_derep_char.out_ds, out_filename=l_op_filename)\n",
    "\n",
    "pipeline = rf.Pipeline(name='mix_series_parallel', targets=[s_stdout, l_stdout])\n",
    "pipeline"
   ]
  },
  {
   "cell_type": "code",
   "execution_count": null,
   "metadata": {},
   "outputs": [
    {
     "name": "stdout",
     "output_type": "stream",
     "text": [
      "log path: /tmp/tmpvprbkqb2/mix_series_parallel\n"
     ]
    },
    {
     "data": {
      "application/vnd.razorthink.run+monitor+json": "/tmp/tmpvprbkqb2/mix_series_parallel",
      "text/plain": [
       "<razor_tools.backend.ipython.mime.run_monitor.RunMonitor at 0x7fd042171410>"
      ]
     },
     "metadata": {
      "application/vnd.razorthink.run+monitor+json": {
       "run_data": {
        "apm": [
         {
          "cpu_percent": 0,
          "cpu_time": 0.01,
          "name": "DeReplaceChar_1",
          "real_mem": 154550272,
          "time": 1616422609.094867
         },
         {
          "cpu_percent": 0,
          "cpu_time": 0.01,
          "name": "STDIn_2",
          "real_mem": 154656768,
          "time": 1616422609.109631
         },
         {
          "cpu_percent": 0,
          "cpu_time": 0.04,
          "name": "DeReplaceChar_2",
          "real_mem": 154857472,
          "time": 1616422609.1468737
         },
         {
          "cpu_percent": 0,
          "cpu_time": 0.04,
          "name": "STDIn_1",
          "real_mem": 155009024,
          "time": 1616422609.161049
         },
         {
          "cpu_percent": 0,
          "cpu_time": 0.22,
          "name": "STDOut_1",
          "real_mem": 159019008,
          "time": 1616422609.3500152
         },
         {
          "cpu_percent": 0,
          "cpu_time": 0.22,
          "name": "ReplaceChar_1",
          "real_mem": 159019008,
          "time": 1616422609.3636842
         },
         {
          "cpu_percent": 0,
          "cpu_time": 0.23,
          "name": "STDOut_2",
          "real_mem": 159232000,
          "time": 1616422609.3773775
         },
         {
          "cpu_percent": 0,
          "cpu_time": 0.23,
          "name": "ReplaceChar_2",
          "real_mem": 159232000,
          "time": 1616422609.391065
         },
         {
          "cpu_percent": 0,
          "cpu_time": 0.24,
          "name": "PrintReplaceFreq_1",
          "real_mem": 159432704,
          "time": 1616422609.4169714
         },
         {
          "cpu_percent": 0,
          "cpu_time": 0.24,
          "name": "DeReplaceChar_1",
          "real_mem": 159432704,
          "time": 1616422609.430526
         },
         {
          "cpu_percent": 0,
          "cpu_time": 0.24,
          "name": "DeReplaceChar_2",
          "real_mem": 159432704,
          "time": 1616422609.4525049
         },
         {
          "cpu_percent": 0,
          "cpu_time": 0.25,
          "name": "ReplaceChar_1",
          "real_mem": 159432704,
          "time": 1616422609.48761
         },
         {
          "cpu_percent": 0,
          "cpu_time": 0.25,
          "name": "STDOut_1",
          "real_mem": 159432704,
          "time": 1616422609.4759948
         },
         {
          "cpu_percent": 0,
          "cpu_time": 0.25,
          "name": "STDOut_2",
          "real_mem": 159432704,
          "time": 1616422609.49997
         },
         {
          "cpu_percent": 0,
          "cpu_time": 0.26,
          "name": "ReplaceChar_2",
          "real_mem": 159432704,
          "time": 1616422609.5123584
         },
         {
          "cpu_percent": 0,
          "cpu_time": 0.24,
          "name": "STDIn_2",
          "real_mem": 159432704,
          "time": 1616422609.441592
         },
         {
          "cpu_percent": 0,
          "cpu_time": 0.24,
          "name": "STDIn_1",
          "real_mem": 159432704,
          "time": 1616422609.463378
         },
         {
          "cpu_percent": 0,
          "cpu_time": 0.26,
          "name": "PrintReplaceFreq_1",
          "real_mem": 159432704,
          "time": 1616422609.5289953
         },
         {
          "cpu_percent": 0,
          "cpu_time": 0.26,
          "name": "DeReplaceChar_1",
          "real_mem": 159432704,
          "time": 1616422609.5425136
         },
         {
          "cpu_percent": 0,
          "cpu_time": 0.26,
          "name": "STDIn_2",
          "real_mem": 159432704,
          "time": 1616422609.5536077
         },
         {
          "cpu_percent": 0,
          "cpu_time": 0.26,
          "name": "DeReplaceChar_2",
          "real_mem": 159432704,
          "time": 1616422609.5649815
         },
         {
          "cpu_percent": 98.6,
          "cpu_time": 0.27,
          "name": "STDIn_1",
          "real_mem": 159432704,
          "time": 1616422609.576195
         },
         {
          "cpu_percent": 0,
          "cpu_time": 0.27,
          "name": "STDOut_1",
          "real_mem": 159432704,
          "time": 1616422609.5875468
         },
         {
          "cpu_percent": 0,
          "cpu_time": 0.27,
          "name": "ReplaceChar_1",
          "real_mem": 159432704,
          "time": 1616422609.5989676
         },
         {
          "cpu_percent": 0,
          "cpu_time": 0.27,
          "name": "STDOut_2",
          "real_mem": 159432704,
          "time": 1616422609.6116498
         },
         {
          "cpu_percent": 0,
          "cpu_time": 0.27,
          "name": "ReplaceChar_2",
          "real_mem": 159432704,
          "time": 1616422609.6245828
         },
         {
          "cpu_percent": 0,
          "cpu_time": 0.27,
          "name": "PrintReplaceFreq_1",
          "real_mem": 159432704,
          "time": 1616422609.641098
         },
         {
          "cpu_percent": 0,
          "cpu_time": 0.27,
          "name": "DeReplaceChar_1",
          "real_mem": 159432704,
          "time": 1616422609.6545448
         },
         {
          "cpu_percent": 0,
          "cpu_time": 0.27,
          "name": "STDIn_2",
          "real_mem": 159432704,
          "time": 1616422609.6657083
         },
         {
          "cpu_percent": 0,
          "cpu_time": 0.27,
          "name": "DeReplaceChar_2",
          "real_mem": 159432704,
          "time": 1616422609.6773353
         },
         {
          "cpu_percent": 0,
          "cpu_time": 0.27,
          "name": "STDIn_1",
          "real_mem": 159432704,
          "time": 1616422609.6890144
         },
         {
          "cpu_percent": 0,
          "cpu_time": 0.28,
          "name": "STDOut_1",
          "real_mem": 159432704,
          "time": 1616422609.7006772
         },
         {
          "cpu_percent": 0,
          "cpu_time": 0.28,
          "name": "ReplaceChar_1",
          "real_mem": 159432704,
          "time": 1616422609.7120874
         },
         {
          "cpu_percent": 0,
          "cpu_time": 0.29,
          "name": "STDOut_2",
          "real_mem": 159432704,
          "time": 1616422609.723497
         },
         {
          "cpu_percent": 0,
          "cpu_time": 0.29,
          "name": "ReplaceChar_2",
          "real_mem": 159432704,
          "time": 1616422609.7361784
         },
         {
          "cpu_percent": 0,
          "cpu_time": 0.29,
          "name": "PrintReplaceFreq_1",
          "real_mem": 159432704,
          "time": 1616422609.7526617
         },
         {
          "cpu_percent": 0,
          "cpu_time": 0.29,
          "name": "DeReplaceChar_1",
          "real_mem": 159432704,
          "time": 1616422609.7662728
         },
         {
          "cpu_percent": 0,
          "cpu_time": 0.29,
          "name": "STDIn_2",
          "real_mem": 159432704,
          "time": 1616422609.7775466
         },
         {
          "cpu_percent": 0,
          "cpu_time": 0.29,
          "name": "DeReplaceChar_2",
          "real_mem": 159432704,
          "time": 1616422609.7888935
         },
         {
          "cpu_percent": 0,
          "cpu_time": 0.29,
          "name": "STDIn_1",
          "real_mem": 159432704,
          "time": 1616422609.8005784
         },
         {
          "cpu_percent": 0,
          "cpu_time": 0.29,
          "name": "STDOut_1",
          "real_mem": 159432704,
          "time": 1616422609.8118927
         },
         {
          "cpu_percent": 0,
          "cpu_time": 0.29,
          "name": "ReplaceChar_1",
          "real_mem": 159432704,
          "time": 1616422609.82352
         },
         {
          "cpu_percent": 0,
          "cpu_time": 0.29,
          "name": "STDOut_2",
          "real_mem": 159432704,
          "time": 1616422609.834621
         },
         {
          "cpu_percent": 0,
          "cpu_time": 0.29,
          "name": "ReplaceChar_2",
          "real_mem": 159432704,
          "time": 1616422609.848449
         },
         {
          "cpu_percent": 0,
          "cpu_time": 0.29,
          "name": "PrintReplaceFreq_1",
          "real_mem": 159432704,
          "time": 1616422609.8639793
         },
         {
          "cpu_percent": 93.6,
          "cpu_time": 0.32,
          "name": "DeReplaceChar_1",
          "real_mem": 159432704,
          "time": 1616422609.895829
         },
         {
          "cpu_percent": 98.8,
          "cpu_time": 0.33,
          "name": "STDIn_2",
          "real_mem": 159465472,
          "time": 1616422609.9068394
         },
         {
          "cpu_percent": 0,
          "cpu_time": 0.33,
          "name": "DeReplaceChar_2",
          "real_mem": 159465472,
          "time": 1616422609.91783
         },
         {
          "cpu_percent": 0,
          "cpu_time": 0.33,
          "name": "STDIn_1",
          "real_mem": 159465472,
          "time": 1616422609.9295022
         },
         {
          "cpu_percent": 0,
          "cpu_time": 0.33,
          "name": "STDOut_1",
          "real_mem": 159465472,
          "time": 1616422609.940626
         },
         {
          "cpu_percent": 0,
          "cpu_time": 0.33,
          "name": "ReplaceChar_1",
          "real_mem": 159465472,
          "time": 1616422609.9519923
         },
         {
          "cpu_percent": 0,
          "cpu_time": 0.33,
          "name": "STDOut_2",
          "real_mem": 159465472,
          "time": 1616422609.9630067
         },
         {
          "cpu_percent": 0,
          "cpu_time": 0.34,
          "name": "ReplaceChar_2",
          "real_mem": 159465472,
          "time": 1616422609.9744935
         },
         {
          "cpu_percent": 0,
          "cpu_time": 0.34,
          "name": "PrintReplaceFreq_1",
          "real_mem": 159465472,
          "time": 1616422609.986037
         },
         {
          "cpu_percent": 0,
          "cpu_time": 0.34,
          "name": "DeReplaceChar_1",
          "real_mem": 159465472,
          "time": 1616422610.008
         },
         {
          "cpu_percent": 0,
          "cpu_time": 0.34,
          "name": "STDIn_2",
          "real_mem": 159465472,
          "time": 1616422610.019128
         },
         {
          "cpu_percent": 0,
          "cpu_time": 0.34,
          "name": "DeReplaceChar_2",
          "real_mem": 159465472,
          "time": 1616422610.0305305
         },
         {
          "cpu_percent": 0,
          "cpu_time": 0.34,
          "name": "STDIn_1",
          "real_mem": 159465472,
          "time": 1616422610.0416875
         },
         {
          "cpu_percent": 0,
          "cpu_time": 0.34,
          "name": "STDOut_1",
          "real_mem": 159465472,
          "time": 1616422610.052989
         },
         {
          "cpu_percent": 0,
          "cpu_time": 0.34,
          "name": "ReplaceChar_1",
          "real_mem": 159465472,
          "time": 1616422610.0641644
         },
         {
          "cpu_percent": 0,
          "cpu_time": 0.34,
          "name": "STDOut_2",
          "real_mem": 159465472,
          "time": 1616422610.0757725
         },
         {
          "cpu_percent": 0,
          "cpu_time": 0.34,
          "name": "ReplaceChar_2",
          "real_mem": 159465472,
          "time": 1616422610.0874295
         },
         {
          "cpu_percent": 0,
          "cpu_time": 0.35,
          "name": "PrintReplaceFreq_1",
          "real_mem": 159465472,
          "time": 1616422610.0990329
         },
         {
          "cpu_percent": 98.6,
          "cpu_time": 0.36,
          "name": "DeReplaceChar_1",
          "real_mem": 163475456,
          "time": 1616422610.1211212
         },
         {
          "cpu_percent": 0,
          "cpu_time": 0.36,
          "name": "STDIn_2",
          "real_mem": 163749888,
          "time": 1616422610.1322474
         }
        ],
        "logs": [
         {
          "asctime": "2021-03-22 14:16:49,075",
          "created": 1616422609.0751975,
          "extra": {},
          "filename": "async_executors.py",
          "funcName": "main",
          "levelname": "DEBUG",
          "lineno": 114,
          "message": "DeReplaceChar_1: started async block execution\n",
          "name": "engine.logs:DeReplaceChar_1",
          "pathname": "/usr/local/lib/python3.7/dist-packages/razor/flow/async_executors.py",
          "process": 249,
          "processName": "ForkProcess-1:1",
          "thread": 140534758659904,
          "threadName": "MainThread"
         },
         {
          "asctime": "2021-03-22 14:16:49,076",
          "created": 1616422609.0764847,
          "extra": {},
          "filename": "async_executors.py",
          "funcName": "main",
          "levelname": "DEBUG",
          "lineno": 114,
          "message": "STDIn_2: started async block execution\n",
          "name": "engine.logs:STDIn_2",
          "pathname": "/usr/local/lib/python3.7/dist-packages/razor/flow/async_executors.py",
          "process": 249,
          "processName": "ForkProcess-1:1",
          "thread": 140534758659904,
          "threadName": "MainThread"
         },
         {
          "asctime": "2021-03-22 14:16:49,077",
          "created": 1616422609.0770013,
          "extra": {},
          "filename": "async_executors.py",
          "funcName": "main",
          "levelname": "DEBUG",
          "lineno": 114,
          "message": "DeReplaceChar_2: started async block execution\n",
          "name": "engine.logs:DeReplaceChar_2",
          "pathname": "/usr/local/lib/python3.7/dist-packages/razor/flow/async_executors.py",
          "process": 249,
          "processName": "ForkProcess-1:1",
          "thread": 140534758659904,
          "threadName": "MainThread"
         },
         {
          "asctime": "2021-03-22 14:16:49,077",
          "created": 1616422609.0773578,
          "extra": {},
          "filename": "async_executors.py",
          "funcName": "main",
          "levelname": "DEBUG",
          "lineno": 114,
          "message": "STDIn_1: started async block execution\n",
          "name": "engine.logs:STDIn_1",
          "pathname": "/usr/local/lib/python3.7/dist-packages/razor/flow/async_executors.py",
          "process": 249,
          "processName": "ForkProcess-1:1",
          "thread": 140534758659904,
          "threadName": "MainThread"
         },
         {
          "asctime": "2021-03-22 14:16:49,077",
          "created": 1616422609.0779026,
          "extra": {},
          "filename": "async_executors.py",
          "funcName": "main",
          "levelname": "DEBUG",
          "lineno": 114,
          "message": "STDOut_1: started async block execution\n",
          "name": "engine.logs:STDOut_1",
          "pathname": "/usr/local/lib/python3.7/dist-packages/razor/flow/async_executors.py",
          "process": 249,
          "processName": "ForkProcess-1:1",
          "thread": 140534758659904,
          "threadName": "MainThread"
         },
         {
          "asctime": "2021-03-22 14:16:49,078",
          "created": 1616422609.0782194,
          "extra": {},
          "filename": "async_executors.py",
          "funcName": "main",
          "levelname": "DEBUG",
          "lineno": 114,
          "message": "ReplaceChar_1: started async block execution\n",
          "name": "engine.logs:ReplaceChar_1",
          "pathname": "/usr/local/lib/python3.7/dist-packages/razor/flow/async_executors.py",
          "process": 249,
          "processName": "ForkProcess-1:1",
          "thread": 140534758659904,
          "threadName": "MainThread"
         },
         {
          "asctime": "2021-03-22 14:16:49,078",
          "created": 1616422609.0785818,
          "extra": {},
          "filename": "async_executors.py",
          "funcName": "main",
          "levelname": "DEBUG",
          "lineno": 114,
          "message": "STDOut_2: started async block execution\n",
          "name": "engine.logs:STDOut_2",
          "pathname": "/usr/local/lib/python3.7/dist-packages/razor/flow/async_executors.py",
          "process": 249,
          "processName": "ForkProcess-1:1",
          "thread": 140534758659904,
          "threadName": "MainThread"
         },
         {
          "asctime": "2021-03-22 14:16:49,078",
          "created": 1616422609.0788596,
          "extra": {},
          "filename": "async_executors.py",
          "funcName": "main",
          "levelname": "DEBUG",
          "lineno": 114,
          "message": "ReplaceChar_2: started async block execution\n",
          "name": "engine.logs:ReplaceChar_2",
          "pathname": "/usr/local/lib/python3.7/dist-packages/razor/flow/async_executors.py",
          "process": 249,
          "processName": "ForkProcess-1:1",
          "thread": 140534758659904,
          "threadName": "MainThread"
         },
         {
          "asctime": "2021-03-22 14:16:49,079",
          "created": 1616422609.0792537,
          "extra": {},
          "filename": "async_executors.py",
          "funcName": "main",
          "levelname": "DEBUG",
          "lineno": 114,
          "message": "PrintReplaceFreq_1: started async block execution\n",
          "name": "engine.logs:PrintReplaceFreq_1",
          "pathname": "/usr/local/lib/python3.7/dist-packages/razor/flow/async_executors.py",
          "process": 249,
          "processName": "ForkProcess-1:1",
          "thread": 140534758659904,
          "threadName": "MainThread"
         },
         {
          "asctime": "2021-03-22 14:16:49,095",
          "created": 1616422609.0950654,
          "extra": {},
          "filename": "async_executors.py",
          "funcName": "main",
          "levelname": "DEBUG",
          "lineno": 130,
          "message": "DeReplaceChar_1: triggering block run",
          "name": "engine.logs:DeReplaceChar_1",
          "pathname": "/usr/local/lib/python3.7/dist-packages/razor/flow/async_executors.py",
          "process": 249,
          "processName": "ForkProcess-1:1",
          "thread": 140534758659904,
          "threadName": "MainThread"
         },
         {
          "asctime": "2021-03-22 14:16:49,109",
          "created": 1616422609.1097915,
          "extra": {},
          "filename": "async_executors.py",
          "funcName": "fill_atomic_inputs",
          "levelname": "INFO",
          "lineno": 250,
          "message": "STDIn_2: waiting for atomic input: filename",
          "name": "engine.logs:STDIn_2",
          "pathname": "/usr/local/lib/python3.7/dist-packages/razor/flow/async_executors.py",
          "process": 249,
          "processName": "ForkProcess-1:1",
          "thread": 140534758659904,
          "threadName": "MainThread"
         },
         {
          "asctime": "2021-03-22 14:16:49,161",
          "created": 1616422609.161262,
          "extra": {},
          "filename": "async_executors.py",
          "funcName": "fill_atomic_inputs",
          "levelname": "INFO",
          "lineno": 250,
          "message": "STDIn_1: waiting for atomic input: filename",
          "name": "engine.logs:STDIn_1",
          "pathname": "/usr/local/lib/python3.7/dist-packages/razor/flow/async_executors.py",
          "process": 249,
          "processName": "ForkProcess-1:1",
          "thread": 140534758659904,
          "threadName": "MainThread"
         },
         {
          "asctime": "2021-03-22 14:16:49,147",
          "created": 1616422609.1470377,
          "extra": {},
          "filename": "async_executors.py",
          "funcName": "main",
          "levelname": "DEBUG",
          "lineno": 130,
          "message": "DeReplaceChar_2: triggering block run",
          "name": "engine.logs:DeReplaceChar_2",
          "pathname": "/usr/local/lib/python3.7/dist-packages/razor/flow/async_executors.py",
          "process": 249,
          "processName": "ForkProcess-1:1",
          "thread": 140534758659904,
          "threadName": "MainThread"
         },
         {
          "asctime": "2021-03-22 14:16:49,350",
          "created": 1616422609.3501372,
          "extra": {},
          "filename": "async_executors.py",
          "funcName": "fill_atomic_inputs",
          "levelname": "INFO",
          "lineno": 250,
          "message": "STDOut_1: waiting for atomic input: out_filename",
          "name": "engine.logs:STDOut_1",
          "pathname": "/usr/local/lib/python3.7/dist-packages/razor/flow/async_executors.py",
          "process": 249,
          "processName": "ForkProcess-1:1",
          "thread": 140534758659904,
          "threadName": "MainThread"
         },
         {
          "asctime": "2021-03-22 14:16:49,363",
          "created": 1616422609.363844,
          "extra": {},
          "filename": "async_executors.py",
          "funcName": "main",
          "levelname": "DEBUG",
          "lineno": 130,
          "message": "ReplaceChar_1: triggering block run",
          "name": "engine.logs:ReplaceChar_1",
          "pathname": "/usr/local/lib/python3.7/dist-packages/razor/flow/async_executors.py",
          "process": 249,
          "processName": "ForkProcess-1:1",
          "thread": 140534758659904,
          "threadName": "MainThread"
         },
         {
          "asctime": "2021-03-22 14:16:49,377",
          "created": 1616422609.3775148,
          "extra": {},
          "filename": "async_executors.py",
          "funcName": "fill_atomic_inputs",
          "levelname": "INFO",
          "lineno": 250,
          "message": "STDOut_2: waiting for atomic input: out_filename",
          "name": "engine.logs:STDOut_2",
          "pathname": "/usr/local/lib/python3.7/dist-packages/razor/flow/async_executors.py",
          "process": 249,
          "processName": "ForkProcess-1:1",
          "thread": 140534758659904,
          "threadName": "MainThread"
         },
         {
          "asctime": "2021-03-22 14:16:49,391",
          "created": 1616422609.3912947,
          "extra": {},
          "filename": "async_executors.py",
          "funcName": "main",
          "levelname": "DEBUG",
          "lineno": 130,
          "message": "ReplaceChar_2: triggering block run",
          "name": "engine.logs:ReplaceChar_2",
          "pathname": "/usr/local/lib/python3.7/dist-packages/razor/flow/async_executors.py",
          "process": 249,
          "processName": "ForkProcess-1:1",
          "thread": 140534758659904,
          "threadName": "MainThread"
         },
         {
          "asctime": "2021-03-22 14:16:49,417",
          "created": 1616422609.4171185,
          "extra": {},
          "filename": "async_executors.py",
          "funcName": "main",
          "levelname": "DEBUG",
          "lineno": 130,
          "message": "PrintReplaceFreq_1: triggering block run",
          "name": "engine.logs:PrintReplaceFreq_1",
          "pathname": "/usr/local/lib/python3.7/dist-packages/razor/flow/async_executors.py",
          "process": 249,
          "processName": "ForkProcess-1:1",
          "thread": 140534758659904,
          "threadName": "MainThread"
         },
         {
          "asctime": "2021-03-22 14:16:49,110",
          "created": 1616422609.1100085,
          "extra": {},
          "filename": "async_executors.py",
          "funcName": "fill_atomic_inputs",
          "levelname": "DEBUG",
          "lineno": 253,
          "message": "STDIn_2: got atomic input: sdk_testbench/input_data/file100MB.txt",
          "name": "engine.logs:STDIn_2",
          "pathname": "/usr/local/lib/python3.7/dist-packages/razor/flow/async_executors.py",
          "process": 249,
          "processName": "ForkProcess-1:1",
          "thread": 140534758659904,
          "threadName": "MainThread"
         },
         {
          "asctime": "2021-03-22 14:16:49,161",
          "created": 1616422609.1614897,
          "extra": {},
          "filename": "async_executors.py",
          "funcName": "fill_atomic_inputs",
          "levelname": "DEBUG",
          "lineno": 253,
          "message": "STDIn_1: got atomic input: sdk_testbench/input_data/file10MB.txt",
          "name": "engine.logs:STDIn_1",
          "pathname": "/usr/local/lib/python3.7/dist-packages/razor/flow/async_executors.py",
          "process": 249,
          "processName": "ForkProcess-1:1",
          "thread": 140534758659904,
          "threadName": "MainThread"
         },
         {
          "asctime": "2021-03-22 14:16:49,350",
          "created": 1616422609.3503368,
          "extra": {},
          "filename": "async_executors.py",
          "funcName": "fill_atomic_inputs",
          "levelname": "DEBUG",
          "lineno": 253,
          "message": "STDOut_1: got atomic input: sdk_testbench/output_data/s_tc_23.txt",
          "name": "engine.logs:STDOut_1",
          "pathname": "/usr/local/lib/python3.7/dist-packages/razor/flow/async_executors.py",
          "process": 249,
          "processName": "ForkProcess-1:1",
          "thread": 140534758659904,
          "threadName": "MainThread"
         },
         {
          "asctime": "2021-03-22 14:16:49,377",
          "created": 1616422609.3776731,
          "extra": {},
          "filename": "async_executors.py",
          "funcName": "fill_atomic_inputs",
          "levelname": "DEBUG",
          "lineno": 253,
          "message": "STDOut_2: got atomic input: sdk_testbench/output_data/l_tc_23.txt",
          "name": "engine.logs:STDOut_2",
          "pathname": "/usr/local/lib/python3.7/dist-packages/razor/flow/async_executors.py",
          "process": 249,
          "processName": "ForkProcess-1:1",
          "thread": 140534758659904,
          "threadName": "MainThread"
         },
         {
          "asctime": "2021-03-22 14:16:49,110",
          "created": 1616422609.110077,
          "extra": {},
          "filename": "async_executors.py",
          "funcName": "fill_atomic_inputs",
          "levelname": "INFO",
          "lineno": 250,
          "message": "STDIn_2: waiting for atomic input: records",
          "name": "engine.logs:STDIn_2",
          "pathname": "/usr/local/lib/python3.7/dist-packages/razor/flow/async_executors.py",
          "process": 249,
          "processName": "ForkProcess-1:1",
          "thread": 140534758659904,
          "threadName": "MainThread"
         },
         {
          "asctime": "2021-03-22 14:16:49,161",
          "created": 1616422609.1615474,
          "extra": {},
          "filename": "async_executors.py",
          "funcName": "fill_atomic_inputs",
          "levelname": "INFO",
          "lineno": 250,
          "message": "STDIn_1: waiting for atomic input: records",
          "name": "engine.logs:STDIn_1",
          "pathname": "/usr/local/lib/python3.7/dist-packages/razor/flow/async_executors.py",
          "process": 249,
          "processName": "ForkProcess-1:1",
          "thread": 140534758659904,
          "threadName": "MainThread"
         },
         {
          "asctime": "2021-03-22 14:16:49,350",
          "created": 1616422609.3504007,
          "extra": {},
          "filename": "async_executors.py",
          "funcName": "main",
          "levelname": "DEBUG",
          "lineno": 130,
          "message": "STDOut_1: triggering block run",
          "name": "engine.logs:STDOut_1",
          "pathname": "/usr/local/lib/python3.7/dist-packages/razor/flow/async_executors.py",
          "process": 249,
          "processName": "ForkProcess-1:1",
          "thread": 140534758659904,
          "threadName": "MainThread"
         },
         {
          "asctime": "2021-03-22 14:16:49,377",
          "created": 1616422609.3777292,
          "extra": {},
          "filename": "async_executors.py",
          "funcName": "main",
          "levelname": "DEBUG",
          "lineno": 130,
          "message": "STDOut_2: triggering block run",
          "name": "engine.logs:STDOut_2",
          "pathname": "/usr/local/lib/python3.7/dist-packages/razor/flow/async_executors.py",
          "process": 249,
          "processName": "ForkProcess-1:1",
          "thread": 140534758659904,
          "threadName": "MainThread"
         },
         {
          "asctime": "2021-03-22 14:16:49,110",
          "created": 1616422609.1101441,
          "extra": {},
          "filename": "async_executors.py",
          "funcName": "fill_atomic_inputs",
          "levelname": "DEBUG",
          "lineno": 253,
          "message": "STDIn_2: got atomic input: 10",
          "name": "engine.logs:STDIn_2",
          "pathname": "/usr/local/lib/python3.7/dist-packages/razor/flow/async_executors.py",
          "process": 249,
          "processName": "ForkProcess-1:1",
          "thread": 140534758659904,
          "threadName": "MainThread"
         },
         {
          "asctime": "2021-03-22 14:16:49,161",
          "created": 1616422609.161594,
          "extra": {},
          "filename": "async_executors.py",
          "funcName": "fill_atomic_inputs",
          "levelname": "DEBUG",
          "lineno": 253,
          "message": "STDIn_1: got atomic input: 10",
          "name": "engine.logs:STDIn_1",
          "pathname": "/usr/local/lib/python3.7/dist-packages/razor/flow/async_executors.py",
          "process": 249,
          "processName": "ForkProcess-1:1",
          "thread": 140534758659904,
          "threadName": "MainThread"
         },
         {
          "asctime": "2021-03-22 14:16:49,110",
          "created": 1616422609.1104577,
          "extra": {},
          "filename": "async_executors.py",
          "funcName": "main",
          "levelname": "DEBUG",
          "lineno": 130,
          "message": "STDIn_2: triggering block run",
          "name": "engine.logs:STDIn_2",
          "pathname": "/usr/local/lib/python3.7/dist-packages/razor/flow/async_executors.py",
          "process": 249,
          "processName": "ForkProcess-1:1",
          "thread": 140534758659904,
          "threadName": "MainThread"
         },
         {
          "asctime": "2021-03-22 14:16:49,161",
          "created": 1616422609.161655,
          "extra": {},
          "filename": "async_executors.py",
          "funcName": "main",
          "levelname": "DEBUG",
          "lineno": 130,
          "message": "STDIn_1: triggering block run",
          "name": "engine.logs:STDIn_1",
          "pathname": "/usr/local/lib/python3.7/dist-packages/razor/flow/async_executors.py",
          "process": 249,
          "processName": "ForkProcess-1:1",
          "thread": 140534758659904,
          "threadName": "MainThread"
         }
        ],
        "meta": {
         "block_status": {
          "DeReplaceChar_1": "RUNNING",
          "DeReplaceChar_2": "RUNNING",
          "PrintReplaceFreq_1": "RUNNING",
          "ReplaceChar_1": "RUNNING",
          "ReplaceChar_2": "RUNNING",
          "STDIn_1": "RUNNING",
          "STDIn_2": "RUNNING",
          "STDOut_1": "RUNNING",
          "STDOut_2": "RUNNING"
         },
         "blocks": [
          {
           "class_name": "DeReplaceChar",
           "fullname": ".DeReplaceChar",
           "id": "3ac95ff8-5ea7-450b-b1ec-a84c82f44080",
           "inputs": [
            {
             "dataType": null,
             "default": null,
             "flow": "series",
             "help": null,
             "isdict": false,
             "islist": false,
             "label": "in_ds",
             "meta": {},
             "name": "in_ds",
             "series": true,
             "type": "Any",
             "type_check": true
            }
           ],
           "outputs": [
            {
             "flow": "series",
             "help": null,
             "label": "out_ds",
             "meta": {},
             "name": "out_ds",
             "series": true,
             "type": "Any",
             "type_check": true
            }
           ],
           "overwritten": false,
           "published": false,
           "var_names": [
            "DeReplaceChar"
           ]
          },
          {
           "class_name": "ReplaceChar",
           "fullname": ".ReplaceChar",
           "id": "72e700d1-6140-4c81-a502-4c41b218fb58",
           "inputs": [
            {
             "dataType": null,
             "default": null,
             "flow": "series",
             "help": null,
             "isdict": false,
             "islist": false,
             "label": "in_ds",
             "meta": {},
             "name": "in_ds",
             "series": true,
             "type": "Any",
             "type_check": true
            }
           ],
           "outputs": [
            {
             "flow": "series",
             "help": null,
             "label": "out_ds",
             "meta": {},
             "name": "out_ds",
             "series": true,
             "type": "Any",
             "type_check": true
            }
           ],
           "overwritten": false,
           "published": false,
           "var_names": [
            "ReplaceChar"
           ]
          },
          {
           "class_name": "PrintReplaceFreq",
           "fullname": ".PrintReplaceFreq",
           "id": "0cebb84d-f5a6-4152-8d54-54a83c93eb01",
           "inputs": [
            {
             "dataType": null,
             "default": null,
             "flow": "series",
             "help": null,
             "isdict": false,
             "islist": false,
             "label": "s_in_ds",
             "meta": {},
             "name": "s_in_ds",
             "series": true,
             "type": "Any",
             "type_check": true
            },
            {
             "dataType": null,
             "default": null,
             "flow": "series",
             "help": null,
             "isdict": false,
             "islist": false,
             "label": "l_in_ds",
             "meta": {},
             "name": "l_in_ds",
             "series": true,
             "type": "Any",
             "type_check": true
            }
           ],
           "outputs": [
            {
             "flow": "series",
             "help": null,
             "label": "s_out_ds",
             "meta": {},
             "name": "s_out_ds",
             "series": true,
             "type": "Any",
             "type_check": true
            },
            {
             "flow": "series",
             "help": null,
             "label": "l_out_ds",
             "meta": {},
             "name": "l_out_ds",
             "series": true,
             "type": "Any",
             "type_check": true
            }
           ],
           "overwritten": false,
           "published": false,
           "var_names": [
            "PrintReplaceFreq"
           ]
          },
          {
           "class_name": "STDIn",
           "fullname": ".STDIn",
           "id": "6fa3c798-936b-49ad-846a-a9f4718d32da",
           "inputs": [
            {
             "dataType": "string",
             "default": "",
             "flow": "atomic",
             "help": null,
             "isdict": false,
             "islist": false,
             "label": "filename",
             "meta": {},
             "name": "filename",
             "series": false,
             "type": "str",
             "type_check": true
            },
            {
             "dataType": "integer",
             "default": 0,
             "flow": "atomic",
             "help": null,
             "isdict": false,
             "islist": false,
             "label": "records",
             "meta": {},
             "name": "records",
             "series": false,
             "type": "int",
             "type_check": true
            }
           ],
           "outputs": [
            {
             "flow": "series",
             "help": null,
             "label": "out_ds",
             "meta": {},
             "name": "out_ds",
             "series": true,
             "type": "Any",
             "type_check": true
            }
           ],
           "overwritten": false,
           "published": false,
           "var_names": [
            "STDIn"
           ]
          },
          {
           "class_name": "STDOut",
           "fullname": ".STDOut",
           "id": "b7383675-a9da-45ec-9f99-6c34bba840e4",
           "inputs": [
            {
             "dataType": null,
             "default": null,
             "flow": "series",
             "help": null,
             "isdict": false,
             "islist": false,
             "label": "in_ds",
             "meta": {},
             "name": "in_ds",
             "series": true,
             "type": "Any",
             "type_check": true
            },
            {
             "dataType": "string",
             "default": "",
             "flow": "atomic",
             "help": null,
             "isdict": false,
             "islist": false,
             "label": "out_filename",
             "meta": {},
             "name": "out_filename",
             "series": false,
             "type": "str",
             "type_check": true
            }
           ],
           "outputs": [],
           "overwritten": false,
           "published": false,
           "var_names": [
            "STDOut"
           ]
          }
         ],
         "connections": [
          {
           "id": "aade1e96-b2b9-4a7c-81f5-7eeefe0341e9",
           "source": {
            "adapter": false,
            "instance_id": "34225b7a-eaee-4bf7-91c8-dab0cbaf229f",
            "name": "out_ds"
           },
           "target": {
            "adapter": false,
            "instance_id": "e24d46a4-1f33-4d64-a82b-9f4991594c2a",
            "name": "in_ds"
           }
          },
          {
           "id": "3905c274-c547-4c39-88b5-bf06fe364ecb",
           "source": {
            "adapter": false,
            "instance_id": "54e2bd4d-e6a2-4bc5-8828-b5030b84f6b3",
            "name": "out_ds"
           },
           "target": {
            "adapter": false,
            "instance_id": "11e688c2-5e6d-4106-97da-634a27ee46e2",
            "name": "in_ds"
           }
          },
          {
           "id": "93260617-8c78-4d92-8b1e-e4add8900110",
           "source": {
            "adapter": false,
            "instance_id": "a442c603-f96f-48bc-8c85-86d266a902e1",
            "name": "s_out_ds"
           },
           "target": {
            "adapter": false,
            "instance_id": "ad63647a-67a1-4422-bcfe-8859936548d4",
            "name": "in_ds"
           }
          },
          {
           "id": "95a9a25e-0256-4f81-9efa-238a17ae8e1d",
           "source": {
            "adapter": false,
            "instance_id": "a442c603-f96f-48bc-8c85-86d266a902e1",
            "name": "l_out_ds"
           },
           "target": {
            "adapter": false,
            "instance_id": "34225b7a-eaee-4bf7-91c8-dab0cbaf229f",
            "name": "in_ds"
           }
          },
          {
           "id": "dbd8b396-05b2-411b-99c6-efe2a330e71a",
           "source": {
            "adapter": false,
            "instance_id": "11e688c2-5e6d-4106-97da-634a27ee46e2",
            "name": "out_ds"
           },
           "target": {
            "adapter": false,
            "instance_id": "a442c603-f96f-48bc-8c85-86d266a902e1",
            "name": "l_in_ds"
           }
          },
          {
           "id": "8560b270-3932-4359-84f3-59f95d827dd0",
           "source": {
            "adapter": false,
            "instance_id": "d5a68a9b-5582-4f08-bbcb-2e2901c50985",
            "name": "out_ds"
           },
           "target": {
            "adapter": false,
            "instance_id": "5c0f41df-69cb-4202-ae73-d8360c8d344e",
            "name": "in_ds"
           }
          },
          {
           "id": "13863a17-3289-4fec-9007-3a7b9e37a55f",
           "source": {
            "adapter": false,
            "instance_id": "5c0f41df-69cb-4202-ae73-d8360c8d344e",
            "name": "out_ds"
           },
           "target": {
            "adapter": false,
            "instance_id": "a442c603-f96f-48bc-8c85-86d266a902e1",
            "name": "s_in_ds"
           }
          },
          {
           "id": "50f8baee-83f8-4112-80d4-52d749c4f19b",
           "source": {
            "adapter": false,
            "instance_id": "ad63647a-67a1-4422-bcfe-8859936548d4",
            "name": "out_ds"
           },
           "target": {
            "adapter": false,
            "instance_id": "6637d6b8-e613-4e28-9c99-8b1b3a97afd3",
            "name": "in_ds"
           }
          }
         ],
         "end": null,
         "id": "cea26f26-c6b2-48d8-8573-35e3e3ece3be",
         "instances": [
          {
           "block_class": "b7383675-a9da-45ec-9f99-6c34bba840e4",
           "id": "6637d6b8-e613-4e28-9c99-8b1b3a97afd3",
           "name": "STDOut_1",
           "var_names": [
            "s_stdout"
           ]
          },
          {
           "block_class": "3ac95ff8-5ea7-450b-b1ec-a84c82f44080",
           "id": "ad63647a-67a1-4422-bcfe-8859936548d4",
           "name": "DeReplaceChar_1",
           "var_names": [
            "s_derep_char"
           ]
          },
          {
           "block_class": "0cebb84d-f5a6-4152-8d54-54a83c93eb01",
           "id": "a442c603-f96f-48bc-8c85-86d266a902e1",
           "name": "PrintReplaceFreq_1",
           "var_names": [
            "print_rep_freq"
           ]
          },
          {
           "block_class": "72e700d1-6140-4c81-a502-4c41b218fb58",
           "id": "5c0f41df-69cb-4202-ae73-d8360c8d344e",
           "name": "ReplaceChar_1",
           "var_names": [
            "s_rep_char"
           ]
          },
          {
           "block_class": "6fa3c798-936b-49ad-846a-a9f4718d32da",
           "id": "d5a68a9b-5582-4f08-bbcb-2e2901c50985",
           "name": "STDIn_1",
           "var_names": [
            "s_std_in"
           ]
          },
          {
           "block_class": "72e700d1-6140-4c81-a502-4c41b218fb58",
           "id": "11e688c2-5e6d-4106-97da-634a27ee46e2",
           "name": "ReplaceChar_2",
           "var_names": [
            "l_rep_char"
           ]
          },
          {
           "block_class": "6fa3c798-936b-49ad-846a-a9f4718d32da",
           "id": "54e2bd4d-e6a2-4bc5-8828-b5030b84f6b3",
           "name": "STDIn_2",
           "var_names": [
            "l_std_in"
           ]
          },
          {
           "block_class": "b7383675-a9da-45ec-9f99-6c34bba840e4",
           "id": "e24d46a4-1f33-4d64-a82b-9f4991594c2a",
           "name": "STDOut_2",
           "var_names": [
            "l_stdout"
           ]
          },
          {
           "block_class": "3ac95ff8-5ea7-450b-b1ec-a84c82f44080",
           "id": "34225b7a-eaee-4bf7-91c8-dab0cbaf229f",
           "name": "DeReplaceChar_2",
           "var_names": [
            "l_derep_char"
           ]
          }
         ],
         "log_level": 20,
         "name": "mix_series_parallel",
         "start": 1616422608.997787,
         "status": "RUNNING",
         "system_logs": false,
         "var_names": []
        },
        "metrics": {},
        "runtime": {
         "DeReplaceChar_1": {
          "end": null,
          "load": 1616422608.9991827,
          "start": 1616422609.0703921
         },
         "DeReplaceChar_2": {
          "end": null,
          "load": 1616422608.9991827,
          "start": 1616422609.0703921
         },
         "PrintReplaceFreq_1": {
          "end": null,
          "load": 1616422608.9991827,
          "start": 1616422609.0703921
         },
         "ReplaceChar_1": {
          "end": null,
          "load": 1616422608.9991827,
          "start": 1616422609.0703921
         },
         "ReplaceChar_2": {
          "end": null,
          "load": 1616422608.9991827,
          "start": 1616422609.0703921
         },
         "STDIn_1": {
          "end": null,
          "load": 1616422608.9991827,
          "start": 1616422609.0703921
         },
         "STDIn_2": {
          "end": null,
          "load": 1616422608.9991827,
          "start": 1616422609.0703921
         },
         "STDOut_1": {
          "end": null,
          "load": 1616422608.9991827,
          "start": 1616422609.0703921
         },
         "STDOut_2": {
          "end": null,
          "load": 1616422608.9991827,
          "start": 1616422609.0703921
         }
        }
       },
       "store_in_notebook": true
      }
     },
     "output_type": "display_data"
    }
   ],
   "source": [
    "pipeline.execute()"
   ]
  },
  {
   "cell_type": "code",
   "execution_count": null,
   "metadata": {},
   "outputs": [],
   "source": []
  },
  {
   "cell_type": "code",
   "execution_count": null,
   "metadata": {},
   "outputs": [],
   "source": []
  }
 ],
 "metadata": {
  "kernelspec": {
   "display_name": "Python 3",
   "language": "python",
   "name": "python3"
  },
  "language_info": {
   "codemirror_mode": {
    "name": "ipython",
    "version": 3
   },
   "file_extension": ".py",
   "mimetype": "text/x-python",
   "name": "python",
   "nbconvert_exporter": "python",
   "pygments_lexer": "ipython3",
   "version": "3.7.10"
  }
 },
 "nbformat": 4,
 "nbformat_minor": 4
}
