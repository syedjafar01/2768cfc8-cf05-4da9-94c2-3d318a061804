{
 "cells": [
  {
   "cell_type": "code",
   "execution_count": 1,
   "metadata": {},
   "outputs": [
    {
     "name": "stderr",
     "output_type": "stream",
     "text": [
      "/usr/local/lib/python3.7/dist-packages/snowflake/connector/options.py:78: UserWarning: You have an incompatible version of 'pyarrow' installed (3.0.0), please install a version that adheres to: 'pyarrow<0.18.0,>=0.17.0; extra == \"pandas\"'\n",
      "  warn_incompatible_dep('pyarrow', _installed_pyarrow_version.version, _expected_pyarrow_version)\n"
     ]
    }
   ],
   "source": [
    "import razor.flow as rf\n",
    "from razor import api\n",
    "import logging, os\n",
    "import time\n",
    "import typing as typ\n",
    "import numpy as np\n",
    "import pandas as pd\n",
    "\n",
    "logger = logging.getLogger()"
   ]
  },
  {
   "cell_type": "code",
   "execution_count": 2,
   "metadata": {},
   "outputs": [],
   "source": [
    "def project_space_path(path):\n",
    "    ps = api.datasources('Project Space')\n",
    "    return os.path.join(ps.abspath(), path)\n",
    "\n"
   ]
  },
  {
   "cell_type": "code",
   "execution_count": 3,
   "metadata": {},
   "outputs": [],
   "source": [
    "from razor.project.blocks.series_socket import STDIn_series\n",
    "from razor.project.blocks.series_socket import STDOut_series\n"
   ]
  },
  {
   "cell_type": "code",
   "execution_count": 4,
   "metadata": {},
   "outputs": [],
   "source": [
    "# @rf.block\n",
    "# class STDIn:\n",
    "#     filename: str\n",
    "#     records: int\n",
    "#     out_ds: rf.SeriesOutput[typ.Any] = rf.Output(transport=rf.KafkaTransport)\n",
    "\n",
    "#     def run(self):\n",
    "#         with open(project_space_path(self.filename), 'r') as f:\n",
    "#             text_str = f.read()\n",
    "\n",
    "#         logger.info(len(text_str))\n",
    "#         for _ in range(self.records):\n",
    "#             self.out_ds.put(text_str)\n",
    "\n",
    "\n",
    "# @rf.block\n",
    "# class STDOut:\n",
    "#     in_ds: rf.SeriesInput[typ.Any]\n",
    "#     out_filename: str\n",
    "\n",
    "#     def run(self):\n",
    "#         text_str = [str(i) for i in self.in_ds][0]\n",
    "#         logger.info(len(text_str))\n",
    "#         with open(project_space_path(self.out_filename), 'w') as f:\n",
    "#             f.write(text_str)\n",
    "            "
   ]
  },
  {
   "cell_type": "code",
   "execution_count": 5,
   "metadata": {},
   "outputs": [
    {
     "data": {
      "application/vnd.razorthink.interactive+pipeline+view+json": {
       "blocks": [
        {
         "class_name": "STDOut_series",
         "fullname": "razor.project.blocks.series_socket.STDOut_series",
         "id": "7cd394aa-4966-4c89-b388-c1c6d9823438",
         "inputs": [
          {
           "dataType": null,
           "default": null,
           "flow": "series",
           "help": null,
           "isdict": false,
           "islist": false,
           "label": "in_ds",
           "meta": {},
           "name": "in_ds",
           "series": true,
           "type": "Any",
           "type_check": true
          },
          {
           "dataType": "string",
           "default": "",
           "flow": "atomic",
           "help": null,
           "isdict": false,
           "islist": false,
           "label": "out_filename",
           "meta": {},
           "name": "out_filename",
           "series": false,
           "type": "str",
           "type_check": true
          }
         ],
         "outputs": [],
         "overwritten": false,
         "published": true,
         "var_names": [
          "STDOut_series"
         ]
        },
        {
         "class_name": "STDIn_series",
         "fullname": "razor.project.blocks.series_socket.STDIn_series",
         "id": "a5884f9c-a34c-4c15-8f13-b393096c211d",
         "inputs": [
          {
           "dataType": "string",
           "default": "",
           "flow": "atomic",
           "help": null,
           "isdict": false,
           "islist": false,
           "label": "filename",
           "meta": {},
           "name": "filename",
           "series": false,
           "type": "str",
           "type_check": true
          },
          {
           "dataType": "integer",
           "default": 0,
           "flow": "atomic",
           "help": null,
           "isdict": false,
           "islist": false,
           "label": "records",
           "meta": {},
           "name": "records",
           "series": false,
           "type": "int",
           "type_check": true
          }
         ],
         "outputs": [
          {
           "flow": "series",
           "help": null,
           "label": "out_ds",
           "meta": {},
           "name": "out_ds",
           "series": true,
           "type": "Any",
           "type_check": true
          }
         ],
         "overwritten": false,
         "published": true,
         "var_names": [
          "STDIn_series"
         ]
        }
       ],
       "connections": [
        {
         "id": "743f17fe-e91a-45d6-8f70-a563effd0306",
         "source": {
          "adapter": false,
          "instance_id": "bc7b9d0d-0522-4607-83e6-762e5d3f700e",
          "name": "out_ds"
         },
         "target": {
          "adapter": false,
          "instance_id": "477cbd1d-6662-4aa2-92df-dba81499b055",
          "name": "in_ds"
         }
        }
       ],
       "id": "14f70560-99bf-4ac7-8dab-74e0e06b1540",
       "instances": [
        {
         "block_class": "7cd394aa-4966-4c89-b388-c1c6d9823438",
         "id": "477cbd1d-6662-4aa2-92df-dba81499b055",
         "name": "STDOut_series_1",
         "var_names": [
          "std_out"
         ]
        },
        {
         "block_class": "a5884f9c-a34c-4c15-8f13-b393096c211d",
         "id": "bc7b9d0d-0522-4607-83e6-762e5d3f700e",
         "name": "STDIn_series_1",
         "var_names": [
          "std_in"
         ]
        }
       ],
       "name": "series_socket_transport",
       "var_names": []
      },
      "image/svg+xml": [
       "<?xml version=\"1.0\" encoding=\"UTF-8\" standalone=\"no\"?>\n",
       "<!DOCTYPE svg PUBLIC \"-//W3C//DTD SVG 1.1//EN\"\n",
       " \"http://www.w3.org/Graphics/SVG/1.1/DTD/svg11.dtd\">\n",
       "<!-- Generated by graphviz version 2.43.0 (0)\n",
       " -->\n",
       "<!-- Title: %3 Pages: 1 -->\n",
       "<svg width=\"225pt\" height=\"127pt\"\n",
       " viewBox=\"0.00 0.00 224.63 127.00\" xmlns=\"http://www.w3.org/2000/svg\" xmlns:xlink=\"http://www.w3.org/1999/xlink\">\n",
       "<g id=\"graph0\" class=\"graph\" transform=\"scale(1 1) rotate(0) translate(4 123)\">\n",
       "<title>%3</title>\n",
       "<polygon fill=\"white\" stroke=\"transparent\" points=\"-4,4 -4,-123 220.63,-123 220.63,4 -4,4\"/>\n",
       "<!-- STDOut_series(&#39;STDOut_series_1&#39;) -->\n",
       "<g id=\"node1\" class=\"node\">\n",
       "<title>STDOut_series(&#39;STDOut_series_1&#39;)</title>\n",
       "<ellipse fill=\"none\" stroke=\"black\" cx=\"108.31\" cy=\"-18\" rx=\"108.13\" ry=\"18\"/>\n",
       "<text text-anchor=\"middle\" x=\"108.31\" y=\"-15.5\" font-family=\"Helvetica,sans-Serif\" font-size=\"10.00\">STDOut_series(&#39;STDOut_series_1&#39;)</text>\n",
       "</g>\n",
       "<!-- STDIn_series(&#39;STDIn_series_1&#39;) -->\n",
       "<g id=\"node2\" class=\"node\">\n",
       "<title>STDIn_series(&#39;STDIn_series_1&#39;)</title>\n",
       "<ellipse fill=\"none\" stroke=\"black\" cx=\"108.31\" cy=\"-101\" rx=\"98.11\" ry=\"18\"/>\n",
       "<text text-anchor=\"middle\" x=\"108.31\" y=\"-98.5\" font-family=\"Helvetica,sans-Serif\" font-size=\"10.00\">STDIn_series(&#39;STDIn_series_1&#39;)</text>\n",
       "</g>\n",
       "<!-- STDIn_series(&#39;STDIn_series_1&#39;)&#45;&gt;STDOut_series(&#39;STDOut_series_1&#39;) -->\n",
       "<g id=\"edge1\" class=\"edge\">\n",
       "<title>STDIn_series(&#39;STDIn_series_1&#39;)&#45;&gt;STDOut_series(&#39;STDOut_series_1&#39;)</title>\n",
       "<path fill=\"none\" stroke=\"black\" d=\"M108.31,-82.82C108.31,-72.19 108.31,-58.31 108.31,-46.2\"/>\n",
       "<polygon fill=\"black\" stroke=\"black\" points=\"111.81,-46.15 108.31,-36.15 104.81,-46.15 111.81,-46.15\"/>\n",
       "<text text-anchor=\"middle\" x=\"143.31\" y=\"-57\" font-family=\"Helvetica,sans-Serif\" font-size=\"10.00\">out_ds&#45;&gt;in_ds</text>\n",
       "</g>\n",
       "</g>\n",
       "</svg>\n"
      ],
      "text/plain": [
       "<razor.flow.pipeline.Pipeline at 0x7fc6a40cb810>"
      ]
     },
     "execution_count": 5,
     "metadata": {},
     "output_type": "execute_result"
    }
   ],
   "source": [
    "config = {'cores': 1, 'ram': 4096}\n",
    "records = 100\n",
    "size = '100MB'\n",
    "ip_filename = project_space_path(\"sdk_testbench/input_data/file\" + size + \".txt\")\n",
    "op_filename = project_space_path(\"sdk_testbench/output_data/tc_06.txt\")\n",
    "\n",
    "std_in = STDIn_series(records=records, filename=ip_filename)\n",
    "# std_in.executor = rf.ContainerExecutor(cores=config['cores'], memory=config['ram'])\n",
    "# std_in.out_ds = rf.Output.set(transport=rf.SocketTransport)\n",
    "\n",
    "std_out = STDOut_series(in_ds=std_in.out_ds, out_filename=op_filename)\n",
    "# std_out.executor = rf.ContainerExecutor(cores=config['cores'], memory=config['ram'])\n",
    "\n",
    "pipeline = rf.Pipeline(name='series_socket_transport', targets=[std_out])\n",
    "pipeline"
   ]
  },
  {
   "cell_type": "code",
   "execution_count": null,
   "metadata": {},
   "outputs": [
    {
     "data": {
      "application/vnd.razorthink.run+monitor+json": "/tmp/tmpl7kvyjkn/series_socket_transport",
      "text/plain": [
       "<razor_tools.backend.ipython.mime.run_monitor.RunMonitor at 0x7fc615167950>"
      ]
     },
     "metadata": {
      "application/vnd.razorthink.run+monitor+json": {
       "run_data": {
        "apm": [
         {
          "cpu_percent": 0,
          "cpu_time": 0,
          "name": "STDOut_series_1",
          "real_mem": 149090304,
          "time": 1615264968.135245
         },
         {
          "cpu_percent": 0,
          "cpu_time": 0,
          "name": "STDIn_series_1",
          "real_mem": 149151744,
          "time": 1615264968.1466334
         },
         {
          "cpu_percent": 0,
          "cpu_time": 0,
          "name": "STDOut_series_1",
          "real_mem": 149090304,
          "time": 1615264968.2586133
         },
         {
          "cpu_percent": 0,
          "cpu_time": 0,
          "name": "STDIn_series_1",
          "real_mem": 149151744,
          "time": 1615264968.2699444
         },
         {
          "cpu_percent": 0,
          "cpu_time": 0,
          "name": "STDOut_series_1",
          "real_mem": 151445504,
          "time": 1615264968.3818545
         },
         {
          "cpu_percent": 0,
          "cpu_time": 0.02,
          "name": "STDIn_series_1",
          "real_mem": 151687168,
          "time": 1615264968.3933253
         },
         {
          "cpu_percent": 0,
          "cpu_time": 0,
          "name": "STDOut_series_1",
          "real_mem": 151445504,
          "time": 1615264968.5052693
         },
         {
          "cpu_percent": 98.2,
          "cpu_time": 0.09,
          "name": "STDIn_series_1",
          "real_mem": 229511168,
          "time": 1615264968.517231
         },
         {
          "cpu_percent": 0,
          "cpu_time": 0,
          "name": "STDOut_series_1",
          "real_mem": 151445504,
          "time": 1615264968.6300836
         },
         {
          "cpu_percent": 197.3,
          "cpu_time": 0.21,
          "name": "STDIn_series_1",
          "real_mem": 249073664,
          "time": 1615264968.6418817
         },
         {
          "cpu_percent": 0,
          "cpu_time": 0,
          "name": "STDOut_series_1",
          "real_mem": 151445504,
          "time": 1615264968.7537773
         },
         {
          "cpu_percent": 98.7,
          "cpu_time": 0.32,
          "name": "STDIn_series_1",
          "real_mem": 369098752,
          "time": 1615264968.766168
         },
         {
          "cpu_percent": 0,
          "cpu_time": 0,
          "name": "STDOut_series_1",
          "real_mem": 151445504,
          "time": 1615264968.8780293
         },
         {
          "cpu_percent": 0,
          "cpu_time": 0.43,
          "name": "STDIn_series_1",
          "real_mem": 399396864,
          "time": 1615264968.8892553
         },
         {
          "cpu_percent": 0,
          "cpu_time": 0,
          "name": "STDOut_series_1",
          "real_mem": 151445504,
          "time": 1615264969.001067
         },
         {
          "cpu_percent": 0,
          "cpu_time": 0.55,
          "name": "STDIn_series_1",
          "real_mem": 446447616,
          "time": 1615264969.0123768
         },
         {
          "cpu_percent": 0,
          "cpu_time": 0,
          "name": "STDOut_series_1",
          "real_mem": 151445504,
          "time": 1615264969.1564512
         },
         {
          "cpu_percent": 197.5,
          "cpu_time": 0.65,
          "name": "STDIn_series_1",
          "real_mem": 416747520,
          "time": 1615264969.167751
         },
         {
          "cpu_percent": 98.7,
          "cpu_time": 0.05,
          "name": "STDOut_series_1",
          "real_mem": 220721152,
          "time": 1615264969.2793958
         },
         {
          "cpu_percent": 96.4,
          "cpu_time": 0.71,
          "name": "STDIn_series_1",
          "real_mem": 480546816,
          "time": 1615264969.2909966
         },
         {
          "cpu_percent": 98.5,
          "cpu_time": 0.12,
          "name": "STDOut_series_1",
          "real_mem": 268316672,
          "time": 1615264969.4027748
         },
         {
          "cpu_percent": 98.5,
          "cpu_time": 0.77,
          "name": "STDIn_series_1",
          "real_mem": 460357632,
          "time": 1615264969.4664006
         },
         {
          "cpu_percent": 0,
          "cpu_time": 0.18,
          "name": "STDOut_series_1",
          "real_mem": 267751424,
          "time": 1615264969.578162
         },
         {
          "cpu_percent": 0,
          "cpu_time": 0.84,
          "name": "STDIn_series_1",
          "real_mem": 528076800,
          "time": 1615264969.589562
         },
         {
          "cpu_percent": 98.6,
          "cpu_time": 0.25,
          "name": "STDOut_series_1",
          "real_mem": 345337856,
          "time": 1615264969.7013388
         },
         {
          "cpu_percent": 98.4,
          "cpu_time": 0.91,
          "name": "STDIn_series_1",
          "real_mem": 410791936,
          "time": 1615264969.7663782
         },
         {
          "cpu_percent": 97.4,
          "cpu_time": 0.32,
          "name": "STDOut_series_1",
          "real_mem": 374206464,
          "time": 1615264969.879756
         },
         {
          "cpu_percent": 13.3,
          "cpu_time": 1,
          "name": "STDIn_series_1",
          "real_mem": 486756352,
          "time": 1615264969.9561043
         },
         {
          "cpu_percent": 0,
          "cpu_time": 0.36,
          "name": "STDOut_series_1",
          "real_mem": 358948864,
          "time": 1615264970.0689404
         },
         {
          "cpu_percent": 98.5,
          "cpu_time": 1.06,
          "name": "STDIn_series_1",
          "real_mem": 462479360,
          "time": 1615264970.0802982
         },
         {
          "cpu_percent": 13.5,
          "cpu_time": 0.46,
          "name": "STDOut_series_1",
          "real_mem": 461946880,
          "time": 1615264970.2560046
         },
         {
          "cpu_percent": 98,
          "cpu_time": 1.1,
          "name": "STDIn_series_1",
          "real_mem": 507895808,
          "time": 1615264970.2679822
         },
         {
          "cpu_percent": 98.3,
          "cpu_time": 0.54,
          "name": "STDOut_series_1",
          "real_mem": 442077184,
          "time": 1615264970.379867
         },
         {
          "cpu_percent": 98.4,
          "cpu_time": 1.16,
          "name": "STDIn_series_1",
          "real_mem": 557907968,
          "time": 1615264970.3912299
         },
         {
          "cpu_percent": 98.1,
          "cpu_time": 0.6,
          "name": "STDOut_series_1",
          "real_mem": 507744256,
          "time": 1615264970.5034347
         },
         {
          "cpu_percent": 98.1,
          "cpu_time": 1.21,
          "name": "STDIn_series_1",
          "real_mem": 516050944,
          "time": 1615264970.5665245
         },
         {
          "cpu_percent": 197.1,
          "cpu_time": 0.67,
          "name": "STDOut_series_1",
          "real_mem": 582246400,
          "time": 1615264970.6784809
         },
         {
          "cpu_percent": 197.3,
          "cpu_time": 1.3,
          "name": "STDIn_series_1",
          "real_mem": 467779584,
          "time": 1615264970.6898491
         },
         {
          "cpu_percent": 97.7,
          "cpu_time": 0.72,
          "name": "STDOut_series_1",
          "real_mem": 621715456,
          "time": 1615264970.86679
         },
         {
          "cpu_percent": 98.4,
          "cpu_time": 1.36,
          "name": "STDIn_series_1",
          "real_mem": 506167296,
          "time": 1615264970.8782415
         },
         {
          "cpu_percent": 97.6,
          "cpu_time": 0.77,
          "name": "STDOut_series_1",
          "real_mem": 527273984,
          "time": 1615264970.991546
         },
         {
          "cpu_percent": 97,
          "cpu_time": 1.41,
          "name": "STDIn_series_1",
          "real_mem": 540229632,
          "time": 1615264971.067174
         },
         {
          "cpu_percent": 196.5,
          "cpu_time": 0.87,
          "name": "STDOut_series_1",
          "real_mem": 608100352,
          "time": 1615264971.1795356
         },
         {
          "cpu_percent": 0,
          "cpu_time": 1.46,
          "name": "STDIn_series_1",
          "real_mem": 571318272,
          "time": 1615264971.2562006
         },
         {
          "cpu_percent": 196.4,
          "cpu_time": 0.98,
          "name": "STDOut_series_1",
          "real_mem": 654057472,
          "time": 1615264971.36865
         },
         {
          "cpu_percent": 196.5,
          "cpu_time": 1.52,
          "name": "STDIn_series_1",
          "real_mem": 592674816,
          "time": 1615264971.3805604
         },
         {
          "cpu_percent": 98.3,
          "cpu_time": 1.06,
          "name": "STDOut_series_1",
          "real_mem": 698662912,
          "time": 1615264971.4929397
         },
         {
          "cpu_percent": 98.1,
          "cpu_time": 1.57,
          "name": "STDIn_series_1",
          "real_mem": 625655808,
          "time": 1615264971.5666318
         },
         {
          "cpu_percent": 98.2,
          "cpu_time": 1.13,
          "name": "STDOut_series_1",
          "real_mem": 757596160,
          "time": 1615264971.6791856
         },
         {
          "cpu_percent": 98.3,
          "cpu_time": 1.64,
          "name": "STDIn_series_1",
          "real_mem": 369430528,
          "time": 1615264971.691311
         },
         {
          "cpu_percent": 98.3,
          "cpu_time": 1.2,
          "name": "STDOut_series_1",
          "real_mem": 766873600,
          "time": 1615264971.8036108
         },
         {
          "cpu_percent": 0,
          "cpu_time": 1.7,
          "name": "STDIn_series_1",
          "real_mem": 443772928,
          "time": 1615264971.8149698
         },
         {
          "cpu_percent": 98.2,
          "cpu_time": 1.25,
          "name": "STDOut_series_1",
          "real_mem": 614862848,
          "time": 1615264971.966718
         },
         {
          "cpu_percent": 98.3,
          "cpu_time": 1.77,
          "name": "STDIn_series_1",
          "real_mem": 487026688,
          "time": 1615264971.978519
         },
         {
          "cpu_percent": 98.1,
          "cpu_time": 1.32,
          "name": "STDOut_series_1",
          "real_mem": 674332672,
          "time": 1615264972.0910566
         },
         {
          "cpu_percent": 98.1,
          "cpu_time": 1.82,
          "name": "STDIn_series_1",
          "real_mem": 453558272,
          "time": 1615264972.1666603
         },
         {
          "cpu_percent": 294.4,
          "cpu_time": 1.42,
          "name": "STDOut_series_1",
          "real_mem": 784887808,
          "time": 1615264972.279199
         },
         {
          "cpu_percent": 0,
          "cpu_time": 1.87,
          "name": "STDIn_series_1",
          "real_mem": 498974720,
          "time": 1615264972.2910745
         },
         {
          "cpu_percent": 0,
          "cpu_time": 1.46,
          "name": "STDOut_series_1",
          "real_mem": 825536512,
          "time": 1615264972.402839
         },
         {
          "cpu_percent": 196.2,
          "cpu_time": 1.93,
          "name": "STDIn_series_1",
          "real_mem": 560611328,
          "time": 1615264972.4665205
         },
         {
          "cpu_percent": 98.5,
          "cpu_time": 1.54,
          "name": "STDOut_series_1",
          "real_mem": 892850176,
          "time": 1615264972.5783875
         },
         {
          "cpu_percent": 197,
          "cpu_time": 2,
          "name": "STDIn_series_1",
          "real_mem": 526594048,
          "time": 1615264972.5898592
         },
         {
          "cpu_percent": 15.3,
          "cpu_time": 1.61,
          "name": "STDOut_series_1",
          "real_mem": 942321664,
          "time": 1615264972.7567358
         },
         {
          "cpu_percent": 196.3,
          "cpu_time": 2.08,
          "name": "STDIn_series_1",
          "real_mem": 462913536,
          "time": 1615264972.7681117
         },
         {
          "cpu_percent": 98.1,
          "cpu_time": 1.66,
          "name": "STDOut_series_1",
          "real_mem": 968273920,
          "time": 1615264972.8800359
         },
         {
          "cpu_percent": 98.5,
          "cpu_time": 2.13,
          "name": "STDIn_series_1",
          "real_mem": 488325120,
          "time": 1615264972.8915865
         },
         {
          "cpu_percent": 98.1,
          "cpu_time": 1.71,
          "name": "STDOut_series_1",
          "real_mem": 930672640,
          "time": 1615264973.0677106
         },
         {
          "cpu_percent": 98.3,
          "cpu_time": 2.19,
          "name": "STDIn_series_1",
          "real_mem": 524009472,
          "time": 1615264973.0795054
         },
         {
          "cpu_percent": 98.4,
          "cpu_time": 1.76,
          "name": "STDOut_series_1",
          "real_mem": 952840192,
          "time": 1615264973.191638
         },
         {
          "cpu_percent": 0,
          "cpu_time": 2.24,
          "name": "STDIn_series_1",
          "real_mem": 543473664,
          "time": 1615264973.2669659
         },
         {
          "cpu_percent": 98.6,
          "cpu_time": 1.83,
          "name": "STDOut_series_1",
          "real_mem": 982577152,
          "time": 1615264973.3787713
         },
         {
          "cpu_percent": 98.7,
          "cpu_time": 2.29,
          "name": "STDIn_series_1",
          "real_mem": 574291968,
          "time": 1615264973.3900278
         },
         {
          "cpu_percent": 98.3,
          "cpu_time": 1.9,
          "name": "STDOut_series_1",
          "real_mem": 847187968,
          "time": 1615264973.5018256
         },
         {
          "cpu_percent": 98,
          "cpu_time": 2.35,
          "name": "STDIn_series_1",
          "real_mem": 616194048,
          "time": 1615264973.5665011
         },
         {
          "cpu_percent": 197.2,
          "cpu_time": 1.98,
          "name": "STDOut_series_1",
          "real_mem": 889225216,
          "time": 1615264973.6783357
         },
         {
          "cpu_percent": 197.3,
          "cpu_time": 2.43,
          "name": "STDIn_series_1",
          "real_mem": 377274368,
          "time": 1615264973.689731
         },
         {
          "cpu_percent": 98.5,
          "cpu_time": 2.04,
          "name": "STDOut_series_1",
          "real_mem": 829747200,
          "time": 1615264973.8015919
         },
         {
          "cpu_percent": 194.7,
          "cpu_time": 2.51,
          "name": "STDIn_series_1",
          "real_mem": 461078528,
          "time": 1615264973.8671212
         },
         {
          "cpu_percent": 197,
          "cpu_time": 2.1,
          "name": "STDOut_series_1",
          "real_mem": 865697792,
          "time": 1615264973.9790776
         },
         {
          "cpu_percent": 0,
          "cpu_time": 2.56,
          "name": "STDIn_series_1",
          "real_mem": 429502464,
          "time": 1615264973.990924
         },
         {
          "cpu_percent": 196.4,
          "cpu_time": 2.18,
          "name": "STDOut_series_1",
          "real_mem": 950603776,
          "time": 1615264974.1664696
         },
         {
          "cpu_percent": 197,
          "cpu_time": 2.62,
          "name": "STDIn_series_1",
          "real_mem": 487895040,
          "time": 1615264974.177912
         },
         {
          "cpu_percent": 98.4,
          "cpu_time": 2.25,
          "name": "STDOut_series_1",
          "real_mem": 1031094272,
          "time": 1615264974.2897954
         },
         {
          "cpu_percent": 98.4,
          "cpu_time": 2.67,
          "name": "STDIn_series_1",
          "real_mem": 544395264,
          "time": 1615264974.3663888
         },
         {
          "cpu_percent": 98.5,
          "cpu_time": 2.33,
          "name": "STDOut_series_1",
          "real_mem": 1056321536,
          "time": 1615264974.4781947
         },
         {
          "cpu_percent": 98.4,
          "cpu_time": 2.74,
          "name": "STDIn_series_1",
          "real_mem": 516595712,
          "time": 1615264974.4896224
         },
         {
          "cpu_percent": 98.5,
          "cpu_time": 2.4,
          "name": "STDOut_series_1",
          "real_mem": 914849792,
          "time": 1615264974.601503
         },
         {
          "cpu_percent": 98.3,
          "cpu_time": 2.81,
          "name": "STDIn_series_1",
          "real_mem": 467783680,
          "time": 1615264974.6666727
         },
         {
          "cpu_percent": 196.8,
          "cpu_time": 2.45,
          "name": "STDOut_series_1",
          "real_mem": 964861952,
          "time": 1615264974.7788272
         },
         {
          "cpu_percent": 0,
          "cpu_time": 2.87,
          "name": "STDIn_series_1",
          "real_mem": 521580544,
          "time": 1615264974.7905085
         },
         {
          "cpu_percent": 294.9,
          "cpu_time": 2.52,
          "name": "STDOut_series_1",
          "real_mem": 1027850240,
          "time": 1615264974.9677467
         },
         {
          "cpu_percent": 98.3,
          "cpu_time": 2.93,
          "name": "STDIn_series_1",
          "real_mem": 564023296,
          "time": 1615264974.9795907
         },
         {
          "cpu_percent": 97.3,
          "cpu_time": 2.61,
          "name": "STDOut_series_1",
          "real_mem": 1061912576,
          "time": 1615264975.0927138
         },
         {
          "cpu_percent": 193.7,
          "cpu_time": 2.98,
          "name": "STDIn_series_1",
          "real_mem": 586731520,
          "time": 1615264975.1669464
         },
         {
          "cpu_percent": 98.3,
          "cpu_time": 2.68,
          "name": "STDOut_series_1",
          "real_mem": 1088946176,
          "time": 1615264975.278715
         },
         {
          "cpu_percent": 98.5,
          "cpu_time": 3.04,
          "name": "STDIn_series_1",
          "real_mem": 627281920,
          "time": 1615264975.290102
         },
         {
          "cpu_percent": 98.4,
          "cpu_time": 2.75,
          "name": "STDOut_series_1",
          "real_mem": 1143824384,
          "time": 1615264975.4019756
         },
         {
          "cpu_percent": 98.5,
          "cpu_time": 3.11,
          "name": "STDIn_series_1",
          "real_mem": 368082944,
          "time": 1615264975.466453
         },
         {
          "cpu_percent": 98.4,
          "cpu_time": 2.82,
          "name": "STDOut_series_1",
          "real_mem": 1163902976,
          "time": 1615264975.57823
         },
         {
          "cpu_percent": 197.5,
          "cpu_time": 3.2,
          "name": "STDIn_series_1",
          "real_mem": 461348864,
          "time": 1615264975.5896463
         },
         {
          "cpu_percent": 186.1,
          "cpu_time": 2.89,
          "name": "STDOut_series_1",
          "real_mem": 1233649664,
          "time": 1615264975.7678955
         },
         {
          "cpu_percent": 98.6,
          "cpu_time": 3.26,
          "name": "STDIn_series_1",
          "real_mem": 434909184,
          "time": 1615264975.7793248
         },
         {
          "cpu_percent": 195.4,
          "cpu_time": 2.98,
          "name": "STDOut_series_1",
          "real_mem": 1116512256,
          "time": 1615264975.8917568
         },
         {
          "cpu_percent": 0,
          "cpu_time": 3.3,
          "name": "STDIn_series_1",
          "real_mem": 478433280,
          "time": 1615264975.9668505
         },
         {
          "cpu_percent": 98.8,
          "cpu_time": 3.05,
          "name": "STDOut_series_1",
          "real_mem": 1182740480,
          "time": 1615264976.0789566
         },
         {
          "cpu_percent": 98.2,
          "cpu_time": 3.37,
          "name": "STDIn_series_1",
          "real_mem": 542232576,
          "time": 1615264976.0911205
         },
         {
          "cpu_percent": 97.3,
          "cpu_time": 3.12,
          "name": "STDOut_series_1",
          "real_mem": 1204310016,
          "time": 1615264976.2045593
         },
         {
          "cpu_percent": 0,
          "cpu_time": 3.43,
          "name": "STDIn_series_1",
          "real_mem": 513622016,
          "time": 1615264976.2665813
         },
         {
          "cpu_percent": 98.4,
          "cpu_time": 3.19,
          "name": "STDOut_series_1",
          "real_mem": 1272700928,
          "time": 1615264976.378938
         },
         {
          "cpu_percent": 98.6,
          "cpu_time": 3.51,
          "name": "STDIn_series_1",
          "real_mem": 468054016,
          "time": 1615264976.390211
         },
         {
          "cpu_percent": 98.5,
          "cpu_time": 3.24,
          "name": "STDOut_series_1",
          "real_mem": 1307574272,
          "time": 1615264976.5665
         },
         {
          "cpu_percent": 98.5,
          "cpu_time": 3.57,
          "name": "STDIn_series_1",
          "real_mem": 501305344,
          "time": 1615264976.5777845
         },
         {
          "cpu_percent": 0,
          "cpu_time": 3.28,
          "name": "STDOut_series_1",
          "real_mem": 1327849472,
          "time": 1615264976.689611
         },
         {
          "cpu_percent": 98.4,
          "cpu_time": 3.63,
          "name": "STDIn_series_1",
          "real_mem": 523202560,
          "time": 1615264976.766637
         },
         {
          "cpu_percent": 98.4,
          "cpu_time": 3.34,
          "name": "STDOut_series_1",
          "real_mem": 1347043328,
          "time": 1615264976.8783882
         },
         {
          "cpu_percent": 98.8,
          "cpu_time": 3.69,
          "name": "STDIn_series_1",
          "real_mem": 543748096,
          "time": 1615264976.8896418
         },
         {
          "cpu_percent": 98.3,
          "cpu_time": 3.41,
          "name": "STDOut_series_1",
          "real_mem": 1322799104,
          "time": 1615264977.0665147
         },
         {
          "cpu_percent": 197.3,
          "cpu_time": 3.74,
          "name": "STDIn_series_1",
          "real_mem": 595111936,
          "time": 1615264977.077881
         },
         {
          "cpu_percent": 197.3,
          "cpu_time": 3.48,
          "name": "STDOut_series_1",
          "real_mem": 1358483456,
          "time": 1615264977.1896024
         },
         {
          "cpu_percent": 0,
          "cpu_time": 3.8,
          "name": "STDIn_series_1",
          "real_mem": 628092928,
          "time": 1615264977.2008688
         },
         {
          "cpu_percent": 98.4,
          "cpu_time": 3.55,
          "name": "STDOut_series_1",
          "real_mem": 1207820288,
          "time": 1615264977.3664384
         },
         {
          "cpu_percent": 97.9,
          "cpu_time": 3.88,
          "name": "STDIn_series_1",
          "real_mem": 379166720,
          "time": 1615264977.3782067
         },
         {
          "cpu_percent": 0,
          "cpu_time": 3.61,
          "name": "STDOut_series_1",
          "real_mem": 1285947392,
          "time": 1615264977.4899545
         },
         {
          "cpu_percent": 0,
          "cpu_time": 3.94,
          "name": "STDIn_series_1",
          "real_mem": 452427776,
          "time": 1615264977.501207
         },
         {
          "cpu_percent": 98.4,
          "cpu_time": 3.67,
          "name": "STDOut_series_1",
          "real_mem": 1322000384,
          "time": 1615264977.667205
         },
         {
          "cpu_percent": 0,
          "cpu_time": 4.01,
          "name": "STDIn_series_1",
          "real_mem": 428150784,
          "time": 1615264977.6785078
         },
         {
          "cpu_percent": 98.5,
          "cpu_time": 3.74,
          "name": "STDOut_series_1",
          "real_mem": 1365254144,
          "time": 1615264977.7901876
         },
         {
          "cpu_percent": 98.4,
          "cpu_time": 4.06,
          "name": "STDIn_series_1",
          "real_mem": 487084032,
          "time": 1615264977.8664696
         },
         {
          "cpu_percent": 98.5,
          "cpu_time": 3.82,
          "name": "STDOut_series_1",
          "real_mem": 1455276032,
          "time": 1615264977.9782298
         },
         {
          "cpu_percent": 98.3,
          "cpu_time": 4.13,
          "name": "STDIn_series_1",
          "real_mem": 521039872,
          "time": 1615264977.9896479
         },
         {
          "cpu_percent": 98.4,
          "cpu_time": 3.89,
          "name": "STDOut_series_1",
          "real_mem": 1467957248,
          "time": 1615264978.1015232
         },
         {
          "cpu_percent": 98.4,
          "cpu_time": 4.21,
          "name": "STDIn_series_1",
          "real_mem": 530239488,
          "time": 1615264978.1669068
         },
         {
          "cpu_percent": 197.6,
          "cpu_time": 3.97,
          "name": "STDOut_series_1",
          "real_mem": 1338650624,
          "time": 1615264978.2786603
         },
         {
          "cpu_percent": 0,
          "cpu_time": 4.27,
          "name": "STDIn_series_1",
          "real_mem": 471298048,
          "time": 1615264978.290019
         },
         {
          "cpu_percent": 98.2,
          "cpu_time": 4.01,
          "name": "STDOut_series_1",
          "real_mem": 1394343936,
          "time": 1615264978.4664924
         },
         {
          "cpu_percent": 98.5,
          "cpu_time": 4.34,
          "name": "STDIn_series_1",
          "real_mem": 513740800,
          "time": 1615264978.4778757
         },
         {
          "cpu_percent": 197.2,
          "cpu_time": 4.11,
          "name": "STDOut_series_1",
          "real_mem": 1435705344,
          "time": 1615264978.6559627
         },
         {
          "cpu_percent": 0,
          "cpu_time": 4.38,
          "name": "STDIn_series_1",
          "real_mem": 533475328,
          "time": 1615264978.6672354
         },
         {
          "cpu_percent": 197.3,
          "cpu_time": 4.22,
          "name": "STDOut_series_1",
          "real_mem": 1477337088,
          "time": 1615264978.7790678
         },
         {
          "cpu_percent": 0,
          "cpu_time": 4.43,
          "name": "STDIn_series_1",
          "real_mem": 553209856,
          "time": 1615264978.7903638
         },
         {
          "cpu_percent": 98.5,
          "cpu_time": 4.29,
          "name": "STDOut_series_1",
          "real_mem": 1484574720,
          "time": 1615264978.9669993
         },
         {
          "cpu_percent": 98.7,
          "cpu_time": 4.49,
          "name": "STDIn_series_1",
          "real_mem": 598626304,
          "time": 1615264978.9783685
         },
         {
          "cpu_percent": 98.5,
          "cpu_time": 4.36,
          "name": "STDOut_series_1",
          "real_mem": 1515393024,
          "time": 1615264979.0901494
         },
         {
          "cpu_percent": 98.8,
          "cpu_time": 4.56,
          "name": "STDIn_series_1",
          "real_mem": 630525952,
          "time": 1615264979.1014035
         },
         {
          "cpu_percent": 98.6,
          "cpu_time": 4.43,
          "name": "STDOut_series_1",
          "real_mem": 1567027200,
          "time": 1615264979.213044
         },
         {
          "cpu_percent": 196.9,
          "cpu_time": 4.63,
          "name": "STDIn_series_1",
          "real_mem": 375111680,
          "time": 1615264979.2665277
         },
         {
          "cpu_percent": 98.5,
          "cpu_time": 4.49,
          "name": "STDOut_series_1",
          "real_mem": 1579278336,
          "time": 1615264979.378461
         },
         {
          "cpu_percent": 196.5,
          "cpu_time": 4.71,
          "name": "STDIn_series_1",
          "real_mem": 452698112,
          "time": 1615264979.3906012
         },
         {
          "cpu_percent": 98,
          "cpu_time": 4.54,
          "name": "STDOut_series_1",
          "real_mem": 1604149248,
          "time": 1615264979.5667748
         },
         {
          "cpu_percent": 98.4,
          "cpu_time": 4.78,
          "name": "STDIn_series_1",
          "real_mem": 473784320,
          "time": 1615264979.5786233
         },
         {
          "cpu_percent": 197.2,
          "cpu_time": 4.62,
          "name": "STDOut_series_1",
          "real_mem": 1634435072,
          "time": 1615264979.76675
         },
         {
          "cpu_percent": 197.3,
          "cpu_time": 4.84,
          "name": "STDIn_series_1",
          "real_mem": 446263296,
          "time": 1615264979.7782362
         },
         {
          "cpu_percent": 98.4,
          "cpu_time": 4.7,
          "name": "STDOut_series_1",
          "real_mem": 1524854784,
          "time": 1615264979.8900306
         },
         {
          "cpu_percent": 0,
          "cpu_time": 4.89,
          "name": "STDIn_series_1",
          "real_mem": 510873600,
          "time": 1615264979.966511
         },
         {
          "cpu_percent": 98.5,
          "cpu_time": 4.77,
          "name": "STDOut_series_1",
          "real_mem": 1591627776,
          "time": 1615264980.0782473
         },
         {
          "cpu_percent": 98.6,
          "cpu_time": 4.97,
          "name": "STDIn_series_1",
          "real_mem": 479019008,
          "time": 1615264980.0895805
         },
         {
          "cpu_percent": 98.6,
          "cpu_time": 4.84,
          "name": "STDOut_series_1",
          "real_mem": 1631907840,
          "time": 1615264980.2011836
         },
         {
          "cpu_percent": 98.3,
          "cpu_time": 5.03,
          "name": "STDIn_series_1",
          "real_mem": 526868480,
          "time": 1615264980.2126224
         },
         {
          "cpu_percent": 0,
          "cpu_time": 4.89,
          "name": "STDOut_series_1",
          "real_mem": 1666781184,
          "time": 1615264980.356186
         },
         {
          "cpu_percent": 0,
          "cpu_time": 5.08,
          "name": "STDIn_series_1",
          "real_mem": 445886464,
          "time": 1615264980.3675709
         },
         {
          "cpu_percent": 98.5,
          "cpu_time": 4.95,
          "name": "STDOut_series_1",
          "real_mem": 1709494272,
          "time": 1615264980.479265
         },
         {
          "cpu_percent": 0,
          "cpu_time": 5.15,
          "name": "STDIn_series_1",
          "real_mem": 478867456,
          "time": 1615264980.4905827
         },
         {
          "cpu_percent": 0,
          "cpu_time": 4.98,
          "name": "STDOut_series_1",
          "real_mem": 1728147456,
          "time": 1615264980.6665292
         },
         {
          "cpu_percent": 197.5,
          "cpu_time": 5.22,
          "name": "STDIn_series_1",
          "real_mem": 502927360,
          "time": 1615264980.6778827
         },
         {
          "cpu_percent": 98.6,
          "cpu_time": 5.04,
          "name": "STDOut_series_1",
          "real_mem": 1747341312,
          "time": 1615264980.7895298
         },
         {
          "cpu_percent": 98.5,
          "cpu_time": 5.27,
          "name": "STDIn_series_1",
          "real_mem": 525094912,
          "time": 1615264980.8664694
         },
         {
          "cpu_percent": 291.7,
          "cpu_time": 5.12,
          "name": "STDOut_series_1",
          "real_mem": 1717678080,
          "time": 1615264980.978305
         },
         {
          "cpu_percent": 98.7,
          "cpu_time": 5.32,
          "name": "STDIn_series_1",
          "real_mem": 554561536,
          "time": 1615264980.989531
         },
         {
          "cpu_percent": 98.7,
          "cpu_time": 5.16,
          "name": "STDOut_series_1",
          "real_mem": 1739575296,
          "time": 1615264981.1013875
         },
         {
          "cpu_percent": 98.5,
          "cpu_time": 5.37,
          "name": "STDIn_series_1",
          "real_mem": 581054464,
          "time": 1615264981.16648
         },
         {
          "cpu_percent": 0,
          "cpu_time": 5.23,
          "name": "STDOut_series_1",
          "real_mem": 1772285952,
          "time": 1615264981.2782266
         },
         {
          "cpu_percent": 196.7,
          "cpu_time": 5.45,
          "name": "STDIn_series_1",
          "real_mem": 613224448,
          "time": 1615264981.2896333
         },
         {
          "cpu_percent": 98.6,
          "cpu_time": 5.3,
          "name": "STDOut_series_1",
          "real_mem": 1612705792,
          "time": 1615264981.401415
         },
         {
          "cpu_percent": 98.4,
          "cpu_time": 5.52,
          "name": "STDIn_series_1",
          "real_mem": 485728256,
          "time": 1615264981.4665108
         },
         {
          "cpu_percent": 98.5,
          "cpu_time": 5.38,
          "name": "STDOut_series_1",
          "real_mem": 1683259392,
          "time": 1615264981.5781875
         },
         {
          "cpu_percent": 196.3,
          "cpu_time": 5.6,
          "name": "STDIn_series_1",
          "real_mem": 447561728,
          "time": 1615264981.5895705
         },
         {
          "cpu_percent": 93.4,
          "cpu_time": 5.43,
          "name": "STDOut_series_1",
          "real_mem": 1688608768,
          "time": 1615264981.768415
         },
         {
          "cpu_percent": 98.3,
          "cpu_time": 5.67,
          "name": "STDIn_series_1",
          "real_mem": 485408768,
          "time": 1615264981.7796817
         },
         {
          "cpu_percent": 98.5,
          "cpu_time": 5.51,
          "name": "STDOut_series_1",
          "real_mem": 1732399104,
          "time": 1615264981.9669778
         },
         {
          "cpu_percent": 98.6,
          "cpu_time": 5.73,
          "name": "STDIn_series_1",
          "real_mem": 453292032,
          "time": 1615264981.9784594
         },
         {
          "cpu_percent": 0,
          "cpu_time": 5.57,
          "name": "STDOut_series_1",
          "real_mem": 1765380096,
          "time": 1615264982.0901692
         },
         {
          "cpu_percent": 0,
          "cpu_time": 5.78,
          "name": "STDIn_series_1",
          "real_mem": 478433280,
          "time": 1615264982.1014783
         },
         {
          "cpu_percent": 0,
          "cpu_time": 5.64,
          "name": "STDOut_series_1",
          "real_mem": 1794035712,
          "time": 1615264982.2132025
         },
         {
          "cpu_percent": 98.3,
          "cpu_time": 5.84,
          "name": "STDIn_series_1",
          "real_mem": 504926208,
          "time": 1615264982.2663457
         },
         {
          "cpu_percent": 98.4,
          "cpu_time": 5.71,
          "name": "STDOut_series_1",
          "real_mem": 1824854016,
          "time": 1615264982.378236
         },
         {
          "cpu_percent": 98.7,
          "cpu_time": 5.92,
          "name": "STDIn_series_1",
          "real_mem": 535203840,
          "time": 1615264982.3895833
         },
         {
          "cpu_percent": 0,
          "cpu_time": 5.78,
          "name": "STDOut_series_1",
          "real_mem": 1824940032,
          "time": 1615264982.5015018
         },
         {
          "cpu_percent": 196.4,
          "cpu_time": 5.99,
          "name": "STDIn_series_1",
          "real_mem": 499564544,
          "time": 1615264982.5665724
         },
         {
          "cpu_percent": 98.5,
          "cpu_time": 5.85,
          "name": "STDOut_series_1",
          "real_mem": 1867653120,
          "time": 1615264982.6782894
         },
         {
          "cpu_percent": 0,
          "cpu_time": 6.05,
          "name": "STDIn_series_1",
          "real_mem": 460349440,
          "time": 1615264982.6895967
         },
         {
          "cpu_percent": 195.1,
          "cpu_time": 5.92,
          "name": "STDOut_series_1",
          "real_mem": 1727803392,
          "time": 1615264982.866709
         },
         {
          "cpu_percent": 197.2,
          "cpu_time": 6.15,
          "name": "STDIn_series_1",
          "real_mem": 494546944,
          "time": 1615264982.8785913
         },
         {
          "cpu_percent": 197.1,
          "cpu_time": 6.01,
          "name": "STDOut_series_1",
          "real_mem": 1827274752,
          "time": 1615264982.9904752
         },
         {
          "cpu_percent": 98.2,
          "cpu_time": 6.19,
          "name": "STDIn_series_1",
          "real_mem": 548073472,
          "time": 1615264983.0666268
         },
         {
          "cpu_percent": 98,
          "cpu_time": 6.09,
          "name": "STDOut_series_1",
          "real_mem": 1889992704,
          "time": 1615264983.1784506
         },
         {
          "cpu_percent": 98.2,
          "cpu_time": 6.24,
          "name": "STDIn_series_1",
          "real_mem": 610250752,
          "time": 1615264983.189806
         },
         {
          "cpu_percent": 196.8,
          "cpu_time": 6.16,
          "name": "STDOut_series_1",
          "real_mem": 1963253760,
          "time": 1615264983.3017235
         },
         {
          "cpu_percent": 98.5,
          "cpu_time": 6.31,
          "name": "STDIn_series_1",
          "real_mem": 368627712,
          "time": 1615264983.3665378
         },
         {
          "cpu_percent": 98.5,
          "cpu_time": 6.23,
          "name": "STDOut_series_1",
          "real_mem": 1977655296,
          "time": 1615264983.4785495
         },
         {
          "cpu_percent": 196.4,
          "cpu_time": 6.4,
          "name": "STDIn_series_1",
          "real_mem": 460812288,
          "time": 1615264983.4910262
         },
         {
          "cpu_percent": 192.2,
          "cpu_time": 6.29,
          "name": "STDOut_series_1",
          "real_mem": 2034155520,
          "time": 1615264983.6674237
         },
         {
          "cpu_percent": 98.5,
          "cpu_time": 6.45,
          "name": "STDIn_series_1",
          "real_mem": 426532864,
          "time": 1615264983.6786695
         },
         {
          "cpu_percent": 196.5,
          "cpu_time": 6.38,
          "name": "STDOut_series_1",
          "real_mem": 1911341056,
          "time": 1615264983.7907708
         },
         {
          "cpu_percent": 194.5,
          "cpu_time": 6.51,
          "name": "STDIn_series_1",
          "real_mem": 479518720,
          "time": 1615264983.8668053
         },
         {
          "cpu_percent": 98.6,
          "cpu_time": 6.44,
          "name": "STDOut_series_1",
          "real_mem": 1975947264,
          "time": 1615264983.9785573
         },
         {
          "cpu_percent": 98.7,
          "cpu_time": 6.58,
          "name": "STDIn_series_1",
          "real_mem": 558727168,
          "time": 1615264983.9899294
         },
         {
          "cpu_percent": 98.5,
          "cpu_time": 6.51,
          "name": "STDOut_series_1",
          "real_mem": 1993457664,
          "time": 1615264984.1016579
         },
         {
          "cpu_percent": 0,
          "cpu_time": 6.65,
          "name": "STDIn_series_1",
          "real_mem": 535252992,
          "time": 1615264984.1664934
         },
         {
          "cpu_percent": 98.6,
          "cpu_time": 6.58,
          "name": "STDOut_series_1",
          "real_mem": 2072125440,
          "time": 1615264984.2781477
         },
         {
          "cpu_percent": 98.7,
          "cpu_time": 6.73,
          "name": "STDIn_series_1",
          "real_mem": 473735168,
          "time": 1615264984.289529
         },
         {
          "cpu_percent": 0,
          "cpu_time": 6.62,
          "name": "STDOut_series_1",
          "real_mem": 2108620800,
          "time": 1615264984.456528
         },
         {
          "cpu_percent": 0,
          "cpu_time": 6.77,
          "name": "STDIn_series_1",
          "real_mem": 514555904,
          "time": 1615264984.4693263
         },
         {
          "cpu_percent": 197.3,
          "cpu_time": 6.69,
          "name": "STDOut_series_1",
          "real_mem": 2101948416,
          "time": 1615264984.5812943
         },
         {
          "cpu_percent": 197.3,
          "cpu_time": 6.83,
          "name": "STDIn_series_1",
          "real_mem": 573489152,
          "time": 1615264984.5926254
         },
         {
          "cpu_percent": 93.6,
          "cpu_time": 6.75,
          "name": "STDOut_series_1",
          "real_mem": 1987244032,
          "time": 1615264984.7050261
         },
         {
          "cpu_percent": 97.8,
          "cpu_time": 6.9,
          "name": "STDIn_series_1",
          "real_mem": 539799552,
          "time": 1615264984.7671924
         },
         {
          "cpu_percent": 0,
          "cpu_time": 6.82,
          "name": "STDOut_series_1",
          "real_mem": 2044551168,
          "time": 1615264984.8790133
         },
         {
          "cpu_percent": 98.6,
          "cpu_time": 6.97,
          "name": "STDIn_series_1",
          "real_mem": 427020288,
          "time": 1615264984.8904352
         },
         {
          "cpu_percent": 170.1,
          "cpu_time": 6.9,
          "name": "STDOut_series_1",
          "real_mem": 2099527680,
          "time": 1615264985.0695448
         },
         {
          "cpu_percent": 98.2,
          "cpu_time": 7.06,
          "name": "STDIn_series_1",
          "real_mem": 420315136,
          "time": 1615264985.0812025
         },
         {
          "cpu_percent": 98.3,
          "cpu_time": 6.97,
          "name": "STDOut_series_1",
          "real_mem": 2125750272,
          "time": 1615264985.1930552
         },
         {
          "cpu_percent": 98.4,
          "cpu_time": 7.1,
          "name": "STDIn_series_1",
          "real_mem": 467623936,
          "time": 1615264985.2663598
         },
         {
          "cpu_percent": 0,
          "cpu_time": 7.03,
          "name": "STDOut_series_1",
          "real_mem": 2205769728,
          "time": 1615264985.378056
         },
         {
          "cpu_percent": 98.6,
          "cpu_time": 7.17,
          "name": "STDIn_series_1",
          "real_mem": 545751040,
          "time": 1615264985.389345
         },
         {
          "cpu_percent": 0,
          "cpu_time": 7.1,
          "name": "STDOut_series_1",
          "real_mem": 2219261952,
          "time": 1615264985.501155
         },
         {
          "cpu_percent": 98.3,
          "cpu_time": 7.24,
          "name": "STDIn_series_1",
          "real_mem": 522547200,
          "time": 1615264985.5664856
         },
         {
          "cpu_percent": 97.9,
          "cpu_time": 7.18,
          "name": "STDOut_series_1",
          "real_mem": 2105098240,
          "time": 1615264985.6803486
         },
         {
          "cpu_percent": 96.8,
          "cpu_time": 7.34,
          "name": "STDIn_series_1",
          "real_mem": 483196928,
          "time": 1615264985.7675254
         },
         {
          "cpu_percent": 97.6,
          "cpu_time": 7.28,
          "name": "STDOut_series_1",
          "real_mem": 2206601216,
          "time": 1615264985.8794796
         },
         {
          "cpu_percent": 0,
          "cpu_time": 7.39,
          "name": "STDIn_series_1",
          "real_mem": 536182784,
          "time": 1615264985.9560616
         },
         {
          "cpu_percent": 196.5,
          "cpu_time": 7.37,
          "name": "STDOut_series_1",
          "real_mem": 2298785792,
          "time": 1615264986.0685241
         },
         {
          "cpu_percent": 98.6,
          "cpu_time": 7.44,
          "name": "STDIn_series_1",
          "real_mem": 598089728,
          "time": 1615264986.0799403
         },
         {
          "cpu_percent": 98.2,
          "cpu_time": 7.43,
          "name": "STDOut_series_1",
          "real_mem": 2326839296,
          "time": 1615264986.1917064
         },
         {
          "cpu_percent": 197.3,
          "cpu_time": 7.51,
          "name": "STDIn_series_1",
          "real_mem": 460353536,
          "time": 1615264986.203085
         },
         {
          "cpu_percent": 97.9,
          "cpu_time": 7.5,
          "name": "STDOut_series_1",
          "real_mem": 2407940096,
          "time": 1615264986.366586
         },
         {
          "cpu_percent": 196.9,
          "cpu_time": 7.58,
          "name": "STDIn_series_1",
          "real_mem": 437563392,
          "time": 1615264986.3779297
         },
         {
          "cpu_percent": 0,
          "cpu_time": 7.55,
          "name": "STDOut_series_1",
          "real_mem": 2409377792,
          "time": 1615264986.489656
         },
         {
          "cpu_percent": 98.4,
          "cpu_time": 7.65,
          "name": "STDIn_series_1",
          "real_mem": 428183552,
          "time": 1615264986.566554
         },
         {
          "cpu_percent": 195.8,
          "cpu_time": 7.64,
          "name": "STDOut_series_1",
          "real_mem": 2295345152,
          "time": 1615264986.67955
         },
         {
          "cpu_percent": 98.3,
          "cpu_time": 7.7,
          "name": "STDIn_series_1",
          "real_mem": 443834368,
          "time": 1615264986.7665443
         },
         {
          "cpu_percent": 98.5,
          "cpu_time": 7.71,
          "name": "STDOut_series_1",
          "real_mem": 2342789120,
          "time": 1615264986.8784902
         },
         {
          "cpu_percent": 196.5,
          "cpu_time": 7.78,
          "name": "STDIn_series_1",
          "real_mem": 524124160,
          "time": 1615264986.890106
         },
         {
          "cpu_percent": 197.2,
          "cpu_time": 7.79,
          "name": "STDOut_series_1",
          "real_mem": 2395504640,
          "time": 1615264987.0019398
         },
         {
          "cpu_percent": 98.4,
          "cpu_time": 7.84,
          "name": "STDIn_series_1",
          "real_mem": 495513600,
          "time": 1615264987.0665002
         },
         {
          "cpu_percent": 0,
          "cpu_time": 7.85,
          "name": "STDOut_series_1",
          "real_mem": 2473091072,
          "time": 1615264987.1782157
         },
         {
          "cpu_percent": 98.5,
          "cpu_time": 7.92,
          "name": "STDIn_series_1",
          "real_mem": 453189632,
          "time": 1615264987.1895623
         },
         {
          "cpu_percent": 197,
          "cpu_time": 7.91,
          "name": "STDOut_series_1",
          "real_mem": 2523643904,
          "time": 1615264987.3670678
         },
         {
          "cpu_percent": 98.6,
          "cpu_time": 7.99,
          "name": "STDIn_series_1",
          "real_mem": 495091712,
          "time": 1615264987.3789513
         },
         {
          "cpu_percent": 0,
          "cpu_time": 7.97,
          "name": "STDOut_series_1",
          "real_mem": 2495332352,
          "time": 1615264987.4906158
         },
         {
          "cpu_percent": 98.5,
          "cpu_time": 8.04,
          "name": "STDIn_series_1",
          "real_mem": 522936320,
          "time": 1615264987.5665603
         },
         {
          "cpu_percent": 197.2,
          "cpu_time": 8.05,
          "name": "STDOut_series_1",
          "real_mem": 2545074176,
          "time": 1615264987.678304
         },
         {
          "cpu_percent": 98.3,
          "cpu_time": 8.11,
          "name": "STDIn_series_1",
          "real_mem": 567271424,
          "time": 1615264987.689712
         },
         {
          "cpu_percent": 98.6,
          "cpu_time": 8.11,
          "name": "STDOut_series_1",
          "real_mem": 2536812544,
          "time": 1615264987.8014536
         },
         {
          "cpu_percent": 98.3,
          "cpu_time": 8.18,
          "name": "STDIn_series_1",
          "real_mem": 608362496,
          "time": 1615264987.8665776
         },
         {
          "cpu_percent": 0,
          "cpu_time": 8.18,
          "name": "STDOut_series_1",
          "real_mem": 2447396864,
          "time": 1615264987.978465
         },
         {
          "cpu_percent": 98.4,
          "cpu_time": 8.25,
          "name": "STDIn_series_1",
          "real_mem": 367009792,
          "time": 1615264987.9901917
         },
         {
          "cpu_percent": 196.9,
          "cpu_time": 8.26,
          "name": "STDOut_series_1",
          "real_mem": 2471669760,
          "time": 1615264988.1020143
         },
         {
          "cpu_percent": 97.3,
          "cpu_time": 8.33,
          "name": "STDIn_series_1",
          "real_mem": 461893632,
          "time": 1615264988.1700525
         },
         {
          "cpu_percent": 196.6,
          "cpu_time": 8.32,
          "name": "STDOut_series_1",
          "real_mem": 2526003200,
          "time": 1615264988.2823334
         },
         {
          "cpu_percent": 98.3,
          "cpu_time": 8.4,
          "name": "STDIn_series_1",
          "real_mem": 428154880,
          "time": 1615264988.366518
         },
         {
          "cpu_percent": 98.7,
          "cpu_time": 8.39,
          "name": "STDOut_series_1",
          "real_mem": 2573582336,
          "time": 1615264988.4783032
         },
         {
          "cpu_percent": 0,
          "cpu_time": 8.44,
          "name": "STDIn_series_1",
          "real_mem": 479248384,
          "time": 1615264988.4896398
         },
         {
          "cpu_percent": 98.4,
          "cpu_time": 8.46,
          "name": "STDOut_series_1",
          "real_mem": 2588266496,
          "time": 1615264988.6014175
         },
         {
          "cpu_percent": 98.4,
          "cpu_time": 8.52,
          "name": "STDIn_series_1",
          "real_mem": 558997504,
          "time": 1615264988.6664827
         },
         {
          "cpu_percent": 98.5,
          "cpu_time": 8.53,
          "name": "STDOut_series_1",
          "real_mem": 2471669760,
          "time": 1615264988.7782316
         },
         {
          "cpu_percent": 98.5,
          "cpu_time": 8.59,
          "name": "STDIn_series_1",
          "real_mem": 535252992,
          "time": 1615264988.7896128
         },
         {
          "cpu_percent": 0,
          "cpu_time": 8.6,
          "name": "STDOut_series_1",
          "real_mem": 2526003200,
          "time": 1615264988.956141
         },
         {
          "cpu_percent": 98.2,
          "cpu_time": 8.66,
          "name": "STDIn_series_1",
          "real_mem": 475357184,
          "time": 1615264988.9679618
         },
         {
          "cpu_percent": 295.9,
          "cpu_time": 8.67,
          "name": "STDOut_series_1",
          "real_mem": 2599055360,
          "time": 1615264989.0797863
         },
         {
          "cpu_percent": 98.3,
          "cpu_time": 8.73,
          "name": "STDIn_series_1",
          "real_mem": 534560768,
          "time": 1615264989.1664536
         },
         {
          "cpu_percent": 98.4,
          "cpu_time": 8.75,
          "name": "STDOut_series_1",
          "real_mem": 2631225344,
          "time": 1615264989.278318
         },
         {
          "cpu_percent": 98.6,
          "cpu_time": 8.78,
          "name": "STDIn_series_1",
          "real_mem": 569434112,
          "time": 1615264989.2898827
         },
         {
          "cpu_percent": 98.6,
          "cpu_time": 8.82,
          "name": "STDOut_series_1",
          "real_mem": 2656907264,
          "time": 1615264989.4015326
         },
         {
          "cpu_percent": 98,
          "cpu_time": 8.85,
          "name": "STDIn_series_1",
          "real_mem": 601604096,
          "time": 1615264989.4667258
         },
         {
          "cpu_percent": 196.9,
          "cpu_time": 8.89,
          "name": "STDOut_series_1",
          "real_mem": 2693132288,
          "time": 1615264989.5787106
         },
         {
          "cpu_percent": 98.7,
          "cpu_time": 8.92,
          "name": "STDIn_series_1",
          "real_mem": 539799552,
          "time": 1615264989.5900695
         },
         {
          "cpu_percent": 98.4,
          "cpu_time": 8.95,
          "name": "STDOut_series_1",
          "real_mem": 2775314432,
          "time": 1615264989.7017193
         },
         {
          "cpu_percent": 98.4,
          "cpu_time": 8.99,
          "name": "STDIn_series_1",
          "real_mem": 416477184,
          "time": 1615264989.7664683
         },
         {
          "cpu_percent": 173.3,
          "cpu_time": 9.02,
          "name": "STDOut_series_1",
          "real_mem": 2774036480,
          "time": 1615264989.879553
         },
         {
          "cpu_percent": 98.7,
          "cpu_time": 9.08,
          "name": "STDIn_series_1",
          "real_mem": 489738240,
          "time": 1615264989.8908162
         },
         {
          "cpu_percent": 98.4,
          "cpu_time": 9.08,
          "name": "STDOut_series_1",
          "real_mem": 2701627392,
          "time": 1615264990.066558
         },
         {
          "cpu_percent": 98.3,
          "cpu_time": 9.13,
          "name": "STDIn_series_1",
          "real_mem": 453566464,
          "time": 1615264990.0779705
         },
         {
          "cpu_percent": 26.2,
          "cpu_time": 9.19,
          "name": "STDOut_series_1",
          "real_mem": 2727452672,
          "time": 1615264990.256064
         },
         {
          "cpu_percent": 0,
          "cpu_time": 9.18,
          "name": "STDIn_series_1",
          "real_mem": 499793920,
          "time": 1615264990.267563
         },
         {
          "cpu_percent": 196.7,
          "cpu_time": 9.25,
          "name": "STDOut_series_1",
          "real_mem": 2789629952,
          "time": 1615264990.3793273
         },
         {
          "cpu_percent": 98.4,
          "cpu_time": 9.25,
          "name": "STDIn_series_1",
          "real_mem": 556023808,
          "time": 1615264990.3907897
         },
         {
          "cpu_percent": 98.6,
          "cpu_time": 9.32,
          "name": "STDOut_series_1",
          "real_mem": 2805248000,
          "time": 1615264990.5026653
         },
         {
          "cpu_percent": 97.7,
          "cpu_time": 9.31,
          "name": "STDIn_series_1",
          "real_mem": 516329472,
          "time": 1615264990.5666752
         },
         {
          "cpu_percent": 98.6,
          "cpu_time": 9.38,
          "name": "STDOut_series_1",
          "real_mem": 2862829568,
          "time": 1615264990.6784716
         },
         {
          "cpu_percent": 197.3,
          "cpu_time": 9.39,
          "name": "STDIn_series_1",
          "real_mem": 450756608,
          "time": 1615264990.6898744
         },
         {
          "cpu_percent": 98.5,
          "cpu_time": 9.44,
          "name": "STDOut_series_1",
          "real_mem": 2902298624,
          "time": 1615264990.8664966
         },
         {
          "cpu_percent": 98.6,
          "cpu_time": 9.47,
          "name": "STDIn_series_1",
          "real_mem": 494821376,
          "time": 1615264990.87787
         },
         {
          "cpu_percent": 97.7,
          "cpu_time": 9.5,
          "name": "STDOut_series_1",
          "real_mem": 2867240960,
          "time": 1615264990.9905462
         },
         {
          "cpu_percent": 163.1,
          "cpu_time": 9.52,
          "name": "STDIn_series_1",
          "real_mem": 529965056,
          "time": 1615264991.069328
         },
         {
          "cpu_percent": 98.5,
          "cpu_time": 9.57,
          "name": "STDOut_series_1",
          "real_mem": 2914549760,
          "time": 1615264991.1811666
         },
         {
          "cpu_percent": 97.8,
          "cpu_time": 9.56,
          "name": "STDIn_series_1",
          "real_mem": 563757056,
          "time": 1615264991.1926215
         },
         {
          "cpu_percent": 98.3,
          "cpu_time": 9.64,
          "name": "STDOut_series_1",
          "real_mem": 2947801088,
          "time": 1615264991.3044093
         },
         {
          "cpu_percent": 98.5,
          "cpu_time": 9.63,
          "name": "STDIn_series_1",
          "real_mem": 597008384,
          "time": 1615264991.3663723
         },
         {
          "cpu_percent": 98.2,
          "cpu_time": 9.71,
          "name": "STDOut_series_1",
          "real_mem": 2808762368,
          "time": 1615264991.4780872
         },
         {
          "cpu_percent": 98.6,
          "cpu_time": 9.7,
          "name": "STDIn_series_1",
          "real_mem": 390205440,
          "time": 1615264991.4893668
         },
         {
          "cpu_percent": 98.6,
          "cpu_time": 9.78,
          "name": "STDOut_series_1",
          "real_mem": 2868875264,
          "time": 1615264991.6010623
         },
         {
          "cpu_percent": 191.1,
          "cpu_time": 9.79,
          "name": "STDIn_series_1",
          "real_mem": 456757248,
          "time": 1615264991.666852
         },
         {
          "cpu_percent": 98.4,
          "cpu_time": 9.83,
          "name": "STDOut_series_1",
          "real_mem": 2895908864,
          "time": 1615264991.7787604
         },
         {
          "cpu_percent": 195.3,
          "cpu_time": 9.87,
          "name": "STDIn_series_1",
          "real_mem": 434102272,
          "time": 1615264991.8685017
         },
         {
          "cpu_percent": 196.8,
          "cpu_time": 9.91,
          "name": "STDOut_series_1",
          "real_mem": 2954842112,
          "time": 1615264991.980634
         },
         {
          "cpu_percent": 98.6,
          "cpu_time": 9.92,
          "name": "STDIn_series_1",
          "real_mem": 491683840,
          "time": 1615264991.992009
         },
         {
          "cpu_percent": 98.4,
          "cpu_time": 9.96,
          "name": "STDOut_series_1",
          "real_mem": 3015127040,
          "time": 1615264992.1037116
         },
         {
          "cpu_percent": 98.3,
          "cpu_time": 9.98,
          "name": "STDIn_series_1",
          "real_mem": 542507008,
          "time": 1615264992.1664321
         },
         {
          "cpu_percent": 98.6,
          "cpu_time": 10.03,
          "name": "STDOut_series_1",
          "real_mem": 3001585664,
          "time": 1615264992.27831
         },
         {
          "cpu_percent": 98.7,
          "cpu_time": 10.05,
          "name": "STDIn_series_1",
          "real_mem": 499302400,
          "time": 1615264992.2906716
         },
         {
          "cpu_percent": 98.4,
          "cpu_time": 10.1,
          "name": "STDOut_series_1",
          "real_mem": 2905395200,
          "time": 1615264992.4664874
         },
         {
          "cpu_percent": 295.8,
          "cpu_time": 10.13,
          "name": "STDIn_series_1",
          "real_mem": 453734400,
          "time": 1615264992.4779344
         },
         {
          "cpu_percent": 98.2,
          "cpu_time": 10.16,
          "name": "STDOut_series_1",
          "real_mem": 2920398848,
          "time": 1615264992.6670752
         },
         {
          "cpu_percent": 98.7,
          "cpu_time": 10.19,
          "name": "STDIn_series_1",
          "real_mem": 511045632,
          "time": 1615264992.7561023
         },
         {
          "cpu_percent": 98.3,
          "cpu_time": 10.24,
          "name": "STDOut_series_1",
          "real_mem": 3012984832,
          "time": 1615264992.8685405
         },
         {
          "cpu_percent": 98.7,
          "cpu_time": 10.24,
          "name": "STDIn_series_1",
          "real_mem": 554029056,
          "time": 1615264992.8798175
         },
         {
          "cpu_percent": 196.2,
          "cpu_time": 10.33,
          "name": "STDOut_series_1",
          "real_mem": 3051642880,
          "time": 1615264993.0666876
         },
         {
          "cpu_percent": 196.5,
          "cpu_time": 10.29,
          "name": "STDIn_series_1",
          "real_mem": 574574592,
          "time": 1615264993.0780942
         },
         {
          "cpu_percent": 97.9,
          "cpu_time": 10.4,
          "name": "STDOut_series_1",
          "real_mem": 3081650176,
          "time": 1615264993.2667403
         },
         {
          "cpu_percent": 98.2,
          "cpu_time": 10.33,
          "name": "STDIn_series_1",
          "real_mem": 609718272,
          "time": 1615264993.2785912
         },
         {
          "cpu_percent": 0,
          "cpu_time": 10.45,
          "name": "STDOut_series_1",
          "real_mem": 3076993024,
          "time": 1615264993.390871
         },
         {
          "cpu_percent": 98,
          "cpu_time": 10.39,
          "name": "STDIn_series_1",
          "real_mem": 539803648,
          "time": 1615264993.4666615
         },
         {
          "cpu_percent": 196.3,
          "cpu_time": 10.51,
          "name": "STDOut_series_1",
          "real_mem": 3140251648,
          "time": 1615264993.5791855
         },
         {
          "cpu_percent": 0,
          "cpu_time": 10.44,
          "name": "STDIn_series_1",
          "real_mem": 399179776,
          "time": 1615264993.5908964
         },
         {
          "cpu_percent": 0,
          "cpu_time": 10.55,
          "name": "STDOut_series_1",
          "real_mem": 3195940864,
          "time": 1615264993.7667577
         },
         {
          "cpu_percent": 11.4,
          "cpu_time": 10.51,
          "name": "STDIn_series_1",
          "real_mem": 461086720,
          "time": 1615264993.8563802
         },
         {
          "cpu_percent": 98,
          "cpu_time": 10.6,
          "name": "STDOut_series_1",
          "real_mem": 3183321088,
          "time": 1615264993.9687326
         },
         {
          "cpu_percent": 0,
          "cpu_time": 10.56,
          "name": "STDIn_series_1",
          "real_mem": 420319232,
          "time": 1615264994.0562565
         },
         {
          "cpu_percent": 98.1,
          "cpu_time": 10.67,
          "name": "STDOut_series_1",
          "real_mem": 3237117952,
          "time": 1615264994.1689339
         },
         {
          "cpu_percent": 98.2,
          "cpu_time": 10.61,
          "name": "STDIn_series_1",
          "real_mem": 464654336,
          "time": 1615264994.180753
         },
         {
          "cpu_percent": 0,
          "cpu_time": 10.72,
          "name": "STDOut_series_1",
          "real_mem": 3079426048,
          "time": 1615264994.2930293
         },
         {
          "cpu_percent": 0,
          "cpu_time": 10.66,
          "name": "STDIn_series_1",
          "real_mem": 513855488,
          "time": 1615264994.3675447
         },
         {
          "cpu_percent": 98.3,
          "cpu_time": 10.78,
          "name": "STDOut_series_1",
          "real_mem": 3143766016,
          "time": 1615264994.480073
         },
         {
          "cpu_percent": 0,
          "cpu_time": 10.71,
          "name": "STDIn_series_1",
          "real_mem": 480669696,
          "time": 1615264994.4919107
         },
         {
          "cpu_percent": 97.6,
          "cpu_time": 10.84,
          "name": "STDOut_series_1",
          "real_mem": 3178369024,
          "time": 1615264994.6670966
         },
         {
          "cpu_percent": 195.8,
          "cpu_time": 10.77,
          "name": "STDIn_series_1",
          "real_mem": 524984320,
          "time": 1615264994.6795795
         },
         {
          "cpu_percent": 0,
          "cpu_time": 10.88,
          "name": "STDOut_series_1",
          "real_mem": 3204591616,
          "time": 1615264994.7918515
         },
         {
          "cpu_percent": 96.3,
          "cpu_time": 10.82,
          "name": "STDIn_series_1",
          "real_mem": 442925056,
          "time": 1615264994.867011
         },
         {
          "cpu_percent": 98.4,
          "cpu_time": 10.93,
          "name": "STDOut_series_1",
          "real_mem": 3257036800,
          "time": 1615264994.9793928
         },
         {
          "cpu_percent": 196.8,
          "cpu_time": 10.89,
          "name": "STDIn_series_1",
          "real_mem": 481038336,
          "time": 1615264995.0667217
         },
         {
          "cpu_percent": 98.7,
          "cpu_time": 10.98,
          "name": "STDOut_series_1",
          "real_mem": 3274067968,
          "time": 1615264995.1798866
         },
         {
          "cpu_percent": 0,
          "cpu_time": 10.93,
          "name": "STDIn_series_1",
          "real_mem": 501583872,
          "time": 1615264995.267044
         },
         {
          "cpu_percent": 98.1,
          "cpu_time": 11.04,
          "name": "STDOut_series_1",
          "real_mem": 3285962752,
          "time": 1615264995.379384
         },
         {
          "cpu_percent": 0,
          "cpu_time": 10.97,
          "name": "STDIn_series_1",
          "real_mem": 526184448,
          "time": 1615264995.4666958
         },
         {
          "cpu_percent": 98.7,
          "cpu_time": 11.1,
          "name": "STDOut_series_1",
          "real_mem": 3319754752,
          "time": 1615264995.5784602
         },
         {
          "cpu_percent": 98.6,
          "cpu_time": 11.03,
          "name": "STDIn_series_1",
          "real_mem": 550785024,
          "time": 1615264995.5896518
         },
         {
          "cpu_percent": 98.5,
          "cpu_time": 11.16,
          "name": "STDOut_series_1",
          "real_mem": 3297931264,
          "time": 1615264995.766509
         },
         {
          "cpu_percent": 98.7,
          "cpu_time": 11.08,
          "name": "STDIn_series_1",
          "real_mem": 594309120,
          "time": 1615264995.7778833
         },
         {
          "cpu_percent": 98.6,
          "cpu_time": 11.21,
          "name": "STDOut_series_1",
          "real_mem": 3321450496,
          "time": 1615264995.889938
         },
         {
          "cpu_percent": 98.4,
          "cpu_time": 11.13,
          "name": "STDIn_series_1",
          "real_mem": 618639360,
          "time": 1615264995.9664874
         },
         {
          "cpu_percent": 98.5,
          "cpu_time": 11.27,
          "name": "STDOut_series_1",
          "real_mem": 3353350144,
          "time": 1615264996.0783129
         },
         {
          "cpu_percent": 98.5,
          "cpu_time": 11.18,
          "name": "STDIn_series_1",
          "real_mem": 539803648,
          "time": 1615264996.0902061
         },
         {
          "cpu_percent": 0,
          "cpu_time": 11.31,
          "name": "STDOut_series_1",
          "real_mem": 3188359168,
          "time": 1615264996.2560897
         },
         {
          "cpu_percent": 98.4,
          "cpu_time": 11.23,
          "name": "STDIn_series_1",
          "real_mem": 395124736,
          "time": 1615264996.267623
         },
         {
          "cpu_percent": 98.4,
          "cpu_time": 11.36,
          "name": "STDOut_series_1",
          "real_mem": 3242426368,
          "time": 1615264996.3793726
         },
         {
          "cpu_percent": 0,
          "cpu_time": 11.29,
          "name": "STDIn_series_1",
          "real_mem": 453246976,
          "time": 1615264996.390728
         },
         {
          "cpu_percent": 0,
          "cpu_time": 11.39,
          "name": "STDOut_series_1",
          "real_mem": 3275407360,
          "time": 1615264996.5665998
         },
         {
          "cpu_percent": 0,
          "cpu_time": 11.34,
          "name": "STDIn_series_1",
          "real_mem": 413831168,
          "time": 1615264996.578258
         },
         {
          "cpu_percent": 196.5,
          "cpu_time": 11.47,
          "name": "STDOut_series_1",
          "real_mem": 3276967936,
          "time": 1615264996.7678173
         },
         {
          "cpu_percent": 98.7,
          "cpu_time": 11.39,
          "name": "STDIn_series_1",
          "real_mem": 443027456,
          "time": 1615264996.7791436
         },
         {
          "cpu_percent": 196.9,
          "cpu_time": 11.52,
          "name": "STDOut_series_1",
          "real_mem": 3315625984,
          "time": 1615264996.8906915
         },
         {
          "cpu_percent": 98.5,
          "cpu_time": 11.43,
          "name": "STDIn_series_1",
          "real_mem": 477089792,
          "time": 1615264996.9666922
         },
         {
          "cpu_percent": 98.6,
          "cpu_time": 11.57,
          "name": "STDOut_series_1",
          "real_mem": 3367800832,
          "time": 1615264997.0784566
         },
         {
          "cpu_percent": 198.3,
          "cpu_time": 11.49,
          "name": "STDIn_series_1",
          "real_mem": 522506240,
          "time": 1615264997.0897436
         },
         {
          "cpu_percent": 0,
          "cpu_time": 11.62,
          "name": "STDOut_series_1",
          "real_mem": 3363704832,
          "time": 1615264997.2560506
         },
         {
          "cpu_percent": 98.6,
          "cpu_time": 11.52,
          "name": "STDIn_series_1",
          "real_mem": 481325056,
          "time": 1615264997.2675416
         },
         {
          "cpu_percent": 98.4,
          "cpu_time": 11.67,
          "name": "STDOut_series_1",
          "real_mem": 3422494720,
          "time": 1615264997.379247
         },
         {
          "cpu_percent": 13.2,
          "cpu_time": 11.57,
          "name": "STDIn_series_1",
          "real_mem": 509304832,
          "time": 1615264997.4561656
         },
         {
          "cpu_percent": 98.7,
          "cpu_time": 11.72,
          "name": "STDOut_series_1",
          "real_mem": 3275620352,
          "time": 1615264997.5679615
         },
         {
          "cpu_percent": 98.4,
          "cpu_time": 11.62,
          "name": "STDIn_series_1",
          "real_mem": 442925056,
          "time": 1615264997.5792377
         },
         {
          "cpu_percent": 98.7,
          "cpu_time": 11.78,
          "name": "STDOut_series_1",
          "real_mem": 3314274304,
          "time": 1615264997.7672906
         },
         {
          "cpu_percent": 98.6,
          "cpu_time": 11.7,
          "name": "STDIn_series_1",
          "real_mem": 473739264,
          "time": 1615264997.77861
         },
         {
          "cpu_percent": 0,
          "cpu_time": 11.83,
          "name": "STDOut_series_1",
          "real_mem": 3362123776,
          "time": 1615264997.9562511
         },
         {
          "cpu_percent": 97.6,
          "cpu_time": 11.73,
          "name": "STDIn_series_1",
          "real_mem": 506449920,
          "time": 1615264997.9686527
         },
         {
          "cpu_percent": 23.3,
          "cpu_time": 11.92,
          "name": "STDOut_series_1",
          "real_mem": 3434020864,
          "time": 1615264998.156007
         },
         {
          "cpu_percent": 0,
          "cpu_time": 11.77,
          "name": "STDIn_series_1",
          "real_mem": 542134272,
          "time": 1615264998.167917
         },
         {
          "cpu_percent": 98.3,
          "cpu_time": 11.98,
          "name": "STDOut_series_1",
          "real_mem": 3461324800,
          "time": 1615264998.2806003
         },
         {
          "cpu_percent": 98.3,
          "cpu_time": 11.82,
          "name": "STDIn_series_1",
          "real_mem": 571871232,
          "time": 1615264998.2923484
         },
         {
          "cpu_percent": 0,
          "cpu_time": 12.03,
          "name": "STDOut_series_1",
          "real_mem": 3479707648,
          "time": 1615264998.4562104
         },
         {
          "cpu_percent": 98.4,
          "cpu_time": 11.86,
          "name": "STDIn_series_1",
          "real_mem": 587821056,
          "time": 1615264998.46824
         },
         {
          "cpu_percent": 98.5,
          "cpu_time": 12.07,
          "name": "STDOut_series_1",
          "real_mem": 3503497216,
          "time": 1615264998.5806808
         },
         {
          "cpu_percent": 196.9,
          "cpu_time": 11.92,
          "name": "STDIn_series_1",
          "real_mem": 610799616,
          "time": 1615264998.5924275
         },
         {
          "cpu_percent": 97.9,
          "cpu_time": 12.13,
          "name": "STDOut_series_1",
          "real_mem": 3528368128,
          "time": 1615264998.7683718
         },
         {
          "cpu_percent": 196.5,
          "cpu_time": 11.97,
          "name": "STDIn_series_1",
          "real_mem": 624967680,
          "time": 1615264998.7803202
         },
         {
          "cpu_percent": 98.4,
          "cpu_time": 12.18,
          "name": "STDOut_series_1",
          "real_mem": 3580002304,
          "time": 1615264998.8925345
         },
         {
          "cpu_percent": 0,
          "cpu_time": 12.01,
          "name": "STDIn_series_1",
          "real_mem": 367550464,
          "time": 1615264998.9669719
         },
         {
          "cpu_percent": 98.1,
          "cpu_time": 12.23,
          "name": "STDOut_series_1",
          "real_mem": 3574669312,
          "time": 1615264999.0794718
         },
         {
          "cpu_percent": 0,
          "cpu_time": 12.06,
          "name": "STDIn_series_1",
          "real_mem": 430538752,
          "time": 1615264999.0913715
         },
         {
          "cpu_percent": 0,
          "cpu_time": 12.27,
          "name": "STDOut_series_1",
          "real_mem": 3624681472,
          "time": 1615264999.2672622
         },
         {
          "cpu_percent": 11.5,
          "cpu_time": 12.13,
          "name": "STDIn_series_1",
          "real_mem": 477036544,
          "time": 1615264999.356115
         },
         {
          "cpu_percent": 196.5,
          "cpu_time": 12.33,
          "name": "STDOut_series_1",
          "real_mem": 3457527808,
          "time": 1615264999.468424
         },
         {
          "cpu_percent": 98.4,
          "cpu_time": 12.18,
          "name": "STDIn_series_1",
          "real_mem": 446001152,
          "time": 1615264999.4801812
         },
         {
          "cpu_percent": 0,
          "cpu_time": 12.39,
          "name": "STDOut_series_1",
          "real_mem": 3509972992,
          "time": 1615264999.5917876
         },
         {
          "cpu_percent": 98.1,
          "cpu_time": 12.23,
          "name": "STDIn_series_1",
          "real_mem": 485470208,
          "time": 1615264999.6684659
         },
         {
          "cpu_percent": 196.4,
          "cpu_time": 12.45,
          "name": "STDOut_series_1",
          "real_mem": 3574042624,
          "time": 1615264999.7814653
         },
         {
          "cpu_percent": 0,
          "cpu_time": 12.27,
          "name": "STDIn_series_1",
          "real_mem": 541159424,
          "time": 1615264999.7938404
         },
         {
          "cpu_percent": 98.1,
          "cpu_time": 12.5,
          "name": "STDOut_series_1",
          "real_mem": 3573170176,
          "time": 1615264999.9678571
         },
         {
          "cpu_percent": 196.8,
          "cpu_time": 12.33,
          "name": "STDIn_series_1",
          "real_mem": 491462656,
          "time": 1615264999.97976
         },
         {
          "cpu_percent": 0,
          "cpu_time": 12.55,
          "name": "STDOut_series_1",
          "real_mem": 3628859392,
          "time": 1615265000.0923042
         },
         {
          "cpu_percent": 98.2,
          "cpu_time": 12.37,
          "name": "STDIn_series_1",
          "real_mem": 442925056,
          "time": 1615265000.1666412
         },
         {
          "cpu_percent": 0,
          "cpu_time": 12.6,
          "name": "STDOut_series_1",
          "real_mem": 3675627520,
          "time": 1615265000.3563395
         },
         {
          "cpu_percent": 98.3,
          "cpu_time": 12.45,
          "name": "STDIn_series_1",
          "real_mem": 478605312,
          "time": 1615265000.368202
         },
         {
          "cpu_percent": 0,
          "cpu_time": 12.64,
          "name": "STDOut_series_1",
          "real_mem": 3696443392,
          "time": 1615265000.4803972
         },
         {
          "cpu_percent": 196.5,
          "cpu_time": 12.5,
          "name": "STDIn_series_1",
          "real_mem": 498069504,
          "time": 1615265000.5667067
         },
         {
          "cpu_percent": 98.4,
          "cpu_time": 12.71,
          "name": "STDOut_series_1",
          "real_mem": 3655708672,
          "time": 1615265000.6790295
         },
         {
          "cpu_percent": 195.7,
          "cpu_time": 12.55,
          "name": "STDIn_series_1",
          "real_mem": 542945280,
          "time": 1615265000.7667785
         },
         {
          "cpu_percent": 98.4,
          "cpu_time": 12.76,
          "name": "STDOut_series_1",
          "real_mem": 3692744704,
          "time": 1615265000.8791294
         },
         {
          "cpu_percent": 98.4,
          "cpu_time": 12.61,
          "name": "STDIn_series_1",
          "real_mem": 575115264,
          "time": 1615265000.890834
         },
         {
          "cpu_percent": 98.4,
          "cpu_time": 12.81,
          "name": "STDOut_series_1",
          "real_mem": 3716263936,
          "time": 1615265001.0667162
         },
         {
          "cpu_percent": 0,
          "cpu_time": 12.65,
          "name": "STDIn_series_1",
          "real_mem": 600526848,
          "time": 1615265001.0785177
         },
         {
          "cpu_percent": 98.4,
          "cpu_time": 12.87,
          "name": "STDOut_series_1",
          "real_mem": 3553169408,
          "time": 1615265001.1905925
         },
         {
          "cpu_percent": 98.2,
          "cpu_time": 12.71,
          "name": "STDIn_series_1",
          "real_mem": 539803648,
          "time": 1615265001.2666516
         },
         {
          "cpu_percent": 98.2,
          "cpu_time": 12.92,
          "name": "STDOut_series_1",
          "real_mem": 3597230080,
          "time": 1615265001.3792512
         },
         {
          "cpu_percent": 97.7,
          "cpu_time": 12.76,
          "name": "STDIn_series_1",
          "real_mem": 375660544,
          "time": 1615265001.4668849
         },
         {
          "cpu_percent": 97.9,
          "cpu_time": 12.98,
          "name": "STDOut_series_1",
          "real_mem": 3649945600,
          "time": 1615265001.579448
         },
         {
          "cpu_percent": 97.9,
          "cpu_time": 12.82,
          "name": "STDIn_series_1",
          "real_mem": 444866560,
          "time": 1615265001.5920274
         },
         {
          "cpu_percent": 0,
          "cpu_time": 13.03,
          "name": "STDOut_series_1",
          "real_mem": 3676266496,
          "time": 1615265001.7564082
         },
         {
          "cpu_percent": 196.2,
          "cpu_time": 12.88,
          "name": "STDIn_series_1",
          "real_mem": 473792512,
          "time": 1615265001.768311
         },
         {
          "cpu_percent": 195.2,
          "cpu_time": 13.09,
          "name": "STDOut_series_1",
          "real_mem": 3718168576,
          "time": 1615265001.880231
         },
         {
          "cpu_percent": 98.3,
          "cpu_time": 12.92,
          "name": "STDIn_series_1",
          "real_mem": 437350400,
          "time": 1615265001.966487
         },
         {
          "cpu_percent": 98.7,
          "cpu_time": 13.15,
          "name": "STDOut_series_1",
          "real_mem": 3773317120,
          "time": 1615265002.0781448
         },
         {
          "cpu_percent": 197.4,
          "cpu_time": 12.98,
          "name": "STDIn_series_1",
          "real_mem": 494120960,
          "time": 1615265002.089499
         },
         {
          "cpu_percent": 98.6,
          "cpu_time": 13.19,
          "name": "STDOut_series_1",
          "real_mem": 3778109440,
          "time": 1615265002.2675467
         },
         {
          "cpu_percent": 98.4,
          "cpu_time": 13.02,
          "name": "STDIn_series_1",
          "real_mem": 544133120,
          "time": 1615265002.2791119
         },
         {
          "cpu_percent": 197.2,
          "cpu_time": 13.26,
          "name": "STDOut_series_1",
          "real_mem": 3823845376,
          "time": 1615265002.3908439
         },
         {
          "cpu_percent": 0,
          "cpu_time": 13.08,
          "name": "STDIn_series_1",
          "real_mem": 505249792,
          "time": 1615265002.4021795
         },
         {
          "cpu_percent": 98.5,
          "cpu_time": 13.33,
          "name": "STDOut_series_1",
          "real_mem": 3671023616,
          "time": 1615265002.5665362
         },
         {
          "cpu_percent": 98.7,
          "cpu_time": 13.15,
          "name": "STDIn_series_1",
          "real_mem": 442925056,
          "time": 1615265002.5779169
         },
         {
          "cpu_percent": 196.9,
          "cpu_time": 13.38,
          "name": "STDOut_series_1",
          "real_mem": 3714543616,
          "time": 1615265002.7665222
         },
         {
          "cpu_percent": 97.9,
          "cpu_time": 13.22,
          "name": "STDIn_series_1",
          "real_mem": 492122112,
          "time": 1615265002.778073
         },
         {
          "cpu_percent": 0,
          "cpu_time": 13.46,
          "name": "STDOut_series_1",
          "real_mem": 3796389888,
          "time": 1615265002.9561937
         },
         {
          "cpu_percent": 98.7,
          "cpu_time": 13.27,
          "name": "STDIn_series_1",
          "real_mem": 535375872,
          "time": 1615265002.967731
         },
         {
          "cpu_percent": 195.9,
          "cpu_time": 13.56,
          "name": "STDOut_series_1",
          "real_mem": 3830722560,
          "time": 1615265003.080252
         },
         {
          "cpu_percent": 97.3,
          "cpu_time": 13.32,
          "name": "STDIn_series_1",
          "real_mem": 559706112,
          "time": 1615265003.1666102
         },
         {
          "cpu_percent": 98.2,
          "cpu_time": 13.63,
          "name": "STDOut_series_1",
          "real_mem": 3844988928,
          "time": 1615265003.2790694
         },
         {
          "cpu_percent": 98.4,
          "cpu_time": 13.38,
          "name": "STDIn_series_1",
          "real_mem": 603770880,
          "time": 1615265003.2910237
         },
         {
          "cpu_percent": 98.4,
          "cpu_time": 13.71,
          "name": "STDOut_series_1",
          "real_mem": 3875536896,
          "time": 1615265003.403326
         },
         {
          "cpu_percent": 98.3,
          "cpu_time": 13.44,
          "name": "STDIn_series_1",
          "real_mem": 630263808,
          "time": 1615265003.466724
         },
         {
          "cpu_percent": 98.1,
          "cpu_time": 13.77,
          "name": "STDOut_series_1",
          "real_mem": 3938254848,
          "time": 1615265003.5790868
         },
         {
          "cpu_percent": 98.3,
          "cpu_time": 13.51,
          "name": "STDIn_series_1",
          "real_mem": 381878272,
          "time": 1615265003.5911827
         },
         {
          "cpu_percent": 15.8,
          "cpu_time": 13.84,
          "name": "STDOut_series_1",
          "real_mem": 3944828928,
          "time": 1615265003.7572398
         },
         {
          "cpu_percent": 196.7,
          "cpu_time": 13.6,
          "name": "STDIn_series_1",
          "real_mem": 455139328,
          "time": 1615265003.769501
         },
         {
          "cpu_percent": 0,
          "cpu_time": 13.87,
          "name": "STDOut_series_1",
          "real_mem": 3986460672,
          "time": 1615265003.881867
         },
         {
          "cpu_percent": 98,
          "cpu_time": 13.64,
          "name": "STDIn_series_1",
          "real_mem": 407072768,
          "time": 1615265003.9669955
         },
         {
          "cpu_percent": 196.2,
          "cpu_time": 13.98,
          "name": "STDOut_series_1",
          "real_mem": 3859787776,
          "time": 1615265004.0794525
         },
         {
          "cpu_percent": 196,
          "cpu_time": 13.7,
          "name": "STDIn_series_1",
          "real_mem": 450867200,
          "time": 1615265004.1674888
         },
         {
          "cpu_percent": 98.2,
          "cpu_time": 14.05,
          "name": "STDOut_series_1",
          "real_mem": 3937914880,
          "time": 1615265004.280007
         },
         {
          "cpu_percent": 0,
          "cpu_time": 13.75,
          "name": "STDIn_series_1",
          "real_mem": 515477504,
          "time": 1615265004.2923558
         },
         {
          "cpu_percent": 0,
          "cpu_time": 14.1,
          "name": "STDOut_series_1",
          "real_mem": 3969642496,
          "time": 1615265004.4564884
         },
         {
          "cpu_percent": 97.8,
          "cpu_time": 13.8,
          "name": "STDIn_series_1",
          "real_mem": 551702528,
          "time": 1615265004.4694524
         },
         {
          "cpu_percent": 196.3,
          "cpu_time": 14.17,
          "name": "STDOut_series_1",
          "real_mem": 4011003904,
          "time": 1615265004.581915
         },
         {
          "cpu_percent": 98.2,
          "cpu_time": 13.86,
          "name": "STDIn_series_1",
          "real_mem": 502276096,
          "time": 1615265004.5940597
         },
         {
          "cpu_percent": 98.3,
          "cpu_time": 14.23,
          "name": "STDOut_series_1",
          "real_mem": 4052635648,
          "time": 1615265004.7062378
         },
         {
          "cpu_percent": 96.5,
          "cpu_time": 13.92,
          "name": "STDIn_series_1",
          "real_mem": 529580032,
          "time": 1615265004.7671788
         },
         {
          "cpu_percent": 98.3,
          "cpu_time": 14.29,
          "name": "STDOut_series_1",
          "real_mem": 4105621504,
          "time": 1615265004.8795419
         },
         {
          "cpu_percent": 184.4,
          "cpu_time": 14.01,
          "name": "STDIn_series_1",
          "real_mem": 466980864,
          "time": 1615265004.967689
         },
         {
          "cpu_percent": 11.6,
          "cpu_time": 14.33,
          "name": "STDOut_series_1",
          "real_mem": 4072886272,
          "time": 1615265005.1562314
         },
         {
          "cpu_percent": 98.3,
          "cpu_time": 14.06,
          "name": "STDIn_series_1",
          "real_mem": 493473792,
          "time": 1615265005.1684213
         },
         {
          "cpu_percent": 0,
          "cpu_time": 14.4,
          "name": "STDOut_series_1",
          "real_mem": 4094513152,
          "time": 1615265005.280674
         },
         {
          "cpu_percent": 97.8,
          "cpu_time": 14.1,
          "name": "STDIn_series_1",
          "real_mem": 520237056,
          "time": 1615265005.366981
         },
         {
          "cpu_percent": 96.7,
          "cpu_time": 14.46,
          "name": "STDOut_series_1",
          "real_mem": 4122087424,
          "time": 1615265005.479736
         },
         {
          "cpu_percent": 0,
          "cpu_time": 14.14,
          "name": "STDIn_series_1",
          "real_mem": 541323264,
          "time": 1615265005.4916613
         },
         {
          "cpu_percent": 97.9,
          "cpu_time": 14.49,
          "name": "STDOut_series_1",
          "real_mem": 4142632960,
          "time": 1615265005.6686816
         },
         {
          "cpu_percent": 98.2,
          "cpu_time": 14.19,
          "name": "STDIn_series_1",
          "real_mem": 560517120,
          "time": 1615265005.6805995
         },
         {
          "cpu_percent": 98.2,
          "cpu_time": 14.53,
          "name": "STDOut_series_1",
          "real_mem": 3969806336,
          "time": 1615265005.8676248
         },
         {
          "cpu_percent": 0,
          "cpu_time": 14.22,
          "name": "STDIn_series_1",
          "real_mem": 593498112,
          "time": 1615265005.8795574
         },
         {
          "cpu_percent": 0,
          "cpu_time": 14.56,
          "name": "STDOut_series_1",
          "real_mem": 3990888448,
          "time": 1615265006.056557
         },
         {
          "cpu_percent": 98.2,
          "cpu_time": 14.26,
          "name": "STDIn_series_1",
          "real_mem": 627290112,
          "time": 1615265006.0687695
         },
         {
          "cpu_percent": 0,
          "cpu_time": 14.6,
          "name": "STDOut_series_1",
          "real_mem": 4030087168,
          "time": 1615265006.1812446
         },
         {
          "cpu_percent": 97.9,
          "cpu_time": 14.29,
          "name": "STDIn_series_1",
          "real_mem": 539803648,
          "time": 1615265006.2667985
         },
         {
          "cpu_percent": 11.5,
          "cpu_time": 14.65,
          "name": "STDOut_series_1",
          "real_mem": 4066582528,
          "time": 1615265006.4560921
         },
         {
          "cpu_percent": 0,
          "cpu_time": 14.34,
          "name": "STDIn_series_1",
          "real_mem": 369983488,
          "time": 1615265006.4677467
         },
         {
          "cpu_percent": 98.3,
          "cpu_time": 14.69,
          "name": "STDOut_series_1",
          "real_mem": 4062466048,
          "time": 1615265006.5805726
         },
         {
          "cpu_percent": 97.6,
          "cpu_time": 14.38,
          "name": "STDIn_series_1",
          "real_mem": 408371200,
          "time": 1615265006.6670494
         },
         {
          "cpu_percent": 98.5,
          "cpu_time": 14.73,
          "name": "STDOut_series_1",
          "real_mem": 4105990144,
          "time": 1615265006.7790277
         },
         {
          "cpu_percent": 98.3,
          "cpu_time": 14.42,
          "name": "STDIn_series_1",
          "real_mem": 444055552,
          "time": 1615265006.8666177
         },
         {
          "cpu_percent": 0,
          "cpu_time": 14.76,
          "name": "STDOut_series_1",
          "real_mem": 4132753408,
          "time": 1615265007.0560732
         },
         {
          "cpu_percent": 97.9,
          "cpu_time": 14.48,
          "name": "STDIn_series_1",
          "real_mem": 462438400,
          "time": 1615265007.0684655
         },
         {
          "cpu_percent": 98.5,
          "cpu_time": 14.81,
          "name": "STDOut_series_1",
          "real_mem": 4153028608,
          "time": 1615265007.2671201
         },
         {
          "cpu_percent": 0,
          "cpu_time": 14.52,
          "name": "STDIn_series_1",
          "real_mem": 478658560,
          "time": 1615265007.2785778
         },
         {
          "cpu_percent": 97.8,
          "cpu_time": 14.85,
          "name": "STDOut_series_1",
          "real_mem": 4178710528,
          "time": 1615265007.4679372
         },
         {
          "cpu_percent": 0,
          "cpu_time": 14.56,
          "name": "STDIn_series_1",
          "real_mem": 414371840,
          "time": 1615265007.5564096
         },
         {
          "cpu_percent": 194.4,
          "cpu_time": 14.91,
          "name": "STDOut_series_1",
          "real_mem": 4141490176,
          "time": 1615265007.669163
         },
         {
          "cpu_percent": 98.1,
          "cpu_time": 14.61,
          "name": "STDIn_series_1",
          "real_mem": 454381568,
          "time": 1615265007.766943
         },
         {
          "cpu_percent": 98.3,
          "cpu_time": 14.96,
          "name": "STDOut_series_1",
          "real_mem": 4177174528,
          "time": 1615265007.8792245
         },
         {
          "cpu_percent": 98,
          "cpu_time": 14.65,
          "name": "STDIn_series_1",
          "real_mem": 480874496,
          "time": 1615265007.9670174
         },
         {
          "cpu_percent": 98.3,
          "cpu_time": 15,
          "name": "STDOut_series_1",
          "real_mem": 4193935360,
          "time": 1615265008.0793214
         },
         {
          "cpu_percent": 97.9,
          "cpu_time": 14.7,
          "name": "STDIn_series_1",
          "real_mem": 505745408,
          "time": 1615265008.1668918
         },
         {
          "cpu_percent": 0,
          "cpu_time": 15.04,
          "name": "STDOut_series_1",
          "real_mem": 4222320640,
          "time": 1615265008.2793024
         },
         {
          "cpu_percent": 98,
          "cpu_time": 14.74,
          "name": "STDIn_series_1",
          "real_mem": 528183296,
          "time": 1615265008.366993
         },
         {
          "cpu_percent": 98.2,
          "cpu_time": 15.09,
          "name": "STDOut_series_1",
          "real_mem": 4047597568,
          "time": 1615265008.4794953
         },
         {
          "cpu_percent": 0,
          "cpu_time": 14.78,
          "name": "STDIn_series_1",
          "real_mem": 469024768,
          "time": 1615265008.5672054
         },
         {
          "cpu_percent": 97.9,
          "cpu_time": 15.13,
          "name": "STDOut_series_1",
          "real_mem": 4087336960,
          "time": 1615265008.6795864
         },
         {
          "cpu_percent": 95.5,
          "cpu_time": 14.83,
          "name": "STDIn_series_1",
          "real_mem": 511197184,
          "time": 1615265008.7670665
         },
         {
          "cpu_percent": 0,
          "cpu_time": 15.16,
          "name": "STDOut_series_1",
          "real_mem": 4126265344,
          "time": 1615265008.881139
         },
         {
          "cpu_percent": 195.9,
          "cpu_time": 14.88,
          "name": "STDIn_series_1",
          "real_mem": 442925056,
          "time": 1615265008.9670954
         },
         {
          "cpu_percent": 98.4,
          "cpu_time": 15.21,
          "name": "STDOut_series_1",
          "real_mem": 4147179520,
          "time": 1615265009.0795193
         },
         {
          "cpu_percent": 195.7,
          "cpu_time": 14.93,
          "name": "STDIn_series_1",
          "real_mem": 461844480,
          "time": 1615265009.1670794
         },
         {
          "cpu_percent": 98.3,
          "cpu_time": 15.24,
          "name": "STDOut_series_1",
          "real_mem": 4165509120,
          "time": 1615265009.3675032
         },
         {
          "cpu_percent": 98.5,
          "cpu_time": 14.99,
          "name": "STDIn_series_1",
          "real_mem": 491241472,
          "time": 1615265009.379422
         },
         {
          "cpu_percent": 89.8,
          "cpu_time": 15.28,
          "name": "STDOut_series_1",
          "real_mem": 4188758016,
          "time": 1615265009.5678132
         },
         {
          "cpu_percent": 0,
          "cpu_time": 15.02,
          "name": "STDIn_series_1",
          "real_mem": 518004736,
          "time": 1615265009.6592536
         },
         {
          "cpu_percent": 97.8,
          "cpu_time": 15.33,
          "name": "STDOut_series_1",
          "real_mem": 4202463232,
          "time": 1615265009.7724102
         },
         {
          "cpu_percent": 90.3,
          "cpu_time": 15.07,
          "name": "STDIn_series_1",
          "real_mem": 535937024,
          "time": 1615265009.868617
         },
         {
          "cpu_percent": 97.6,
          "cpu_time": 15.39,
          "name": "STDOut_series_1",
          "real_mem": 4211908608,
          "time": 1615265009.9809372
         },
         {
          "cpu_percent": 98.6,
          "cpu_time": 15.11,
          "name": "STDIn_series_1",
          "real_mem": 540393472,
          "time": 1615265010.0666022
         }
        ],
        "logs": [
         {
          "asctime": "2021-03-09 04:42:47,339",
          "exc_info": null,
          "extra": {},
          "filename": "pipeline.py",
          "funcName": "_log_manager",
          "levelname": "INFO",
          "lineno": 413,
          "message": "writing logs to: /tmp/tmpl7kvyjkn/series_socket_transport",
          "name": "razor.flow.pipeline:series_socket_transport",
          "pathname": "/usr/local/lib/python3.7/dist-packages/razor/flow/pipeline.py",
          "process": 699,
          "processName": "MainProcess",
          "thread": 140491214260032,
          "threadName": "MainThread"
         }
        ],
        "meta": {
         "block_status": {
          "STDIn_series_1": "RUNNING",
          "STDOut_series_1": "RUNNING"
         },
         "blocks": [
          {
           "class_name": "STDOut_series",
           "fullname": "razor.project.blocks.series_socket.STDOut_series",
           "id": "7cd394aa-4966-4c89-b388-c1c6d9823438",
           "inputs": [
            {
             "dataType": null,
             "default": null,
             "flow": "series",
             "help": null,
             "isdict": false,
             "islist": false,
             "label": "in_ds",
             "meta": {},
             "name": "in_ds",
             "series": true,
             "type": "Any",
             "type_check": true
            },
            {
             "dataType": "string",
             "default": "",
             "flow": "atomic",
             "help": null,
             "isdict": false,
             "islist": false,
             "label": "out_filename",
             "meta": {},
             "name": "out_filename",
             "series": false,
             "type": "str",
             "type_check": true
            }
           ],
           "outputs": [],
           "overwritten": false,
           "published": true,
           "var_names": [
            "STDOut_series"
           ]
          },
          {
           "class_name": "STDIn_series",
           "fullname": "razor.project.blocks.series_socket.STDIn_series",
           "id": "a5884f9c-a34c-4c15-8f13-b393096c211d",
           "inputs": [
            {
             "dataType": "string",
             "default": "",
             "flow": "atomic",
             "help": null,
             "isdict": false,
             "islist": false,
             "label": "filename",
             "meta": {},
             "name": "filename",
             "series": false,
             "type": "str",
             "type_check": true
            },
            {
             "dataType": "integer",
             "default": 0,
             "flow": "atomic",
             "help": null,
             "isdict": false,
             "islist": false,
             "label": "records",
             "meta": {},
             "name": "records",
             "series": false,
             "type": "int",
             "type_check": true
            }
           ],
           "outputs": [
            {
             "flow": "series",
             "help": null,
             "label": "out_ds",
             "meta": {},
             "name": "out_ds",
             "series": true,
             "type": "Any",
             "type_check": true
            }
           ],
           "overwritten": false,
           "published": true,
           "var_names": [
            "STDIn_series"
           ]
          }
         ],
         "connections": [
          {
           "id": "743f17fe-e91a-45d6-8f70-a563effd0306",
           "source": {
            "adapter": false,
            "instance_id": "bc7b9d0d-0522-4607-83e6-762e5d3f700e",
            "name": "out_ds"
           },
           "target": {
            "adapter": false,
            "instance_id": "477cbd1d-6662-4aa2-92df-dba81499b055",
            "name": "in_ds"
           }
          }
         ],
         "end": null,
         "id": "14f70560-99bf-4ac7-8dab-74e0e06b1540",
         "instances": [
          {
           "block_class": "7cd394aa-4966-4c89-b388-c1c6d9823438",
           "id": "477cbd1d-6662-4aa2-92df-dba81499b055",
           "name": "STDOut_series_1",
           "var_names": [
            "std_out"
           ]
          },
          {
           "block_class": "a5884f9c-a34c-4c15-8f13-b393096c211d",
           "id": "bc7b9d0d-0522-4607-83e6-762e5d3f700e",
           "name": "STDIn_series_1",
           "var_names": [
            "std_in"
           ]
          }
         ],
         "log_level": 20,
         "name": "series_socket_transport",
         "start": 1615264967.5958774,
         "status": "RUNNING",
         "system_logs": true,
         "var_names": []
        },
        "metrics": {},
        "runtime": {
         "STDIn_series_1": {
          "end": null,
          "load": 1615264968.1184359,
          "start": 1615264968.3384988
         },
         "STDOut_series_1": {
          "end": null,
          "load": 1615264968.1107373,
          "start": 1615264968.3366957
         }
        }
       },
       "store_in_notebook": true
      }
     },
     "output_type": "display_data"
    }
   ],
   "source": [
    "pipeline.execute()"
   ]
  },
  {
   "cell_type": "code",
   "execution_count": null,
   "metadata": {},
   "outputs": [],
   "source": []
  },
  {
   "cell_type": "code",
   "execution_count": null,
   "metadata": {},
   "outputs": [],
   "source": []
  }
 ],
 "metadata": {
  "kernelspec": {
   "display_name": "Python 3",
   "language": "python",
   "name": "python3"
  },
  "language_info": {
   "codemirror_mode": {
    "name": "ipython",
    "version": 3
   },
   "file_extension": ".py",
   "mimetype": "text/x-python",
   "name": "python",
   "nbconvert_exporter": "python",
   "pygments_lexer": "ipython3",
   "version": "3.7.10"
  }
 },
 "nbformat": 4,
 "nbformat_minor": 4
}
