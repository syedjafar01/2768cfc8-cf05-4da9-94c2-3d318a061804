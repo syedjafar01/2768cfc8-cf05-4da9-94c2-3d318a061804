{
 "cells": [
  {
   "cell_type": "markdown",
   "metadata": {},
   "source": [
    "# BOSTON HOUSING PRICES REGRESSION\n",
    "\n",
    "The objective of the dataset is to  predict the median value of owner-occupied homes in \\$1000s based on features like crime rate, NOx emissions, number of rooms etc.\n",
    "\n",
    "##### DATA: http://lib.stat.cmu.edu/datasets/boston\n",
    "##### DATA DESCRIPTION: https://www.kaggle.com/c/boston-housing"
   ]
  },
  {
   "cell_type": "markdown",
   "metadata": {},
   "source": [
    "### Reading data from project-space to python stream"
   ]
  },
  {
   "cell_type": "code",
   "execution_count": 7,
   "metadata": {},
   "outputs": [
    {
     "ename": "ModuleNotFoundError",
     "evalue": "No module named 'razor.project.blocks'",
     "output_type": "error",
     "traceback": [
      "\u001b[0;31m---------------------------------------------------------------------------\u001b[0m",
      "\u001b[0;31mModuleNotFoundError\u001b[0m                       Traceback (most recent call last)",
      "\u001b[0;32m<ipython-input-7-6765fef0ccc4>\u001b[0m in \u001b[0;36m<module>\u001b[0;34m\u001b[0m\n\u001b[0;32m----> 1\u001b[0;31m \u001b[0;32mfrom\u001b[0m \u001b[0mrazor\u001b[0m\u001b[0;34m.\u001b[0m\u001b[0mproject\u001b[0m\u001b[0;34m.\u001b[0m\u001b[0mblocks\u001b[0m\u001b[0;34m.\u001b[0m\u001b[0mbundle\u001b[0m \u001b[0;32mimport\u001b[0m \u001b[0mCsvProjectSpaceReader_PythonStream\u001b[0m\u001b[0;34m\u001b[0m\u001b[0;34m\u001b[0m\u001b[0m\n\u001b[0m\u001b[1;32m      2\u001b[0m \u001b[0;32mfrom\u001b[0m \u001b[0mrazor\u001b[0m\u001b[0;34m.\u001b[0m\u001b[0mproject\u001b[0m\u001b[0;34m.\u001b[0m\u001b[0mblocks\u001b[0m\u001b[0;34m.\u001b[0m\u001b[0mbundle\u001b[0m \u001b[0;32mimport\u001b[0m \u001b[0mDataQueueToPandasDf_PythonStream\u001b[0m\u001b[0;34m\u001b[0m\u001b[0;34m\u001b[0m\u001b[0m\n\u001b[1;32m      3\u001b[0m \u001b[0;32mfrom\u001b[0m \u001b[0mrazor\u001b[0m\u001b[0;34m.\u001b[0m\u001b[0mproject\u001b[0m\u001b[0;34m.\u001b[0m\u001b[0mblocks\u001b[0m\u001b[0;34m.\u001b[0m\u001b[0mbundle\u001b[0m \u001b[0;32mimport\u001b[0m \u001b[0mSklearnMLFeeder\u001b[0m\u001b[0;34m\u001b[0m\u001b[0;34m\u001b[0m\u001b[0m\n\u001b[1;32m      4\u001b[0m \u001b[0;32mfrom\u001b[0m \u001b[0mrazor\u001b[0m\u001b[0;34m.\u001b[0m\u001b[0mproject\u001b[0m\u001b[0;34m.\u001b[0m\u001b[0mblocks\u001b[0m\u001b[0;34m.\u001b[0m\u001b[0mbundle\u001b[0m \u001b[0;32mimport\u001b[0m \u001b[0mLinearRegression\u001b[0m\u001b[0;34m\u001b[0m\u001b[0;34m\u001b[0m\u001b[0m\n\u001b[1;32m      5\u001b[0m \u001b[0;34m\u001b[0m\u001b[0m\n",
      "\u001b[0;31mModuleNotFoundError\u001b[0m: No module named 'razor.project.blocks'"
     ]
    }
   ],
   "source": [
    "\n",
    "from razor.project.blocks.bundle import CsvProjectSpaceReader_PythonStream\n",
    "from razor.project.blocks.bundle import DataQueueToPandasDf_PythonStream\n",
    "from razor.project.blocks.bundle import SklearnMLFeeder\n",
    "from razor.project.blocks.bundle import LinearRegression\n",
    "\n",
    "csv_project_space_reader__python_stream = CsvProjectSpaceReader_PythonStream(input_file_path=\"/boston_house_prices.csv\",batch_size=100,date_parser=\"\",limit=-1) \n"
   ]
  },
  {
   "cell_type": "markdown",
   "metadata": {},
   "source": [
    "### Collecting python stream to a pandas dataframe"
   ]
  },
  {
   "cell_type": "code",
   "execution_count": 2,
   "metadata": {},
   "outputs": [],
   "source": [
    "\n",
    "data_queue_to_pandas_df__python_stream = DataQueueToPandasDf_PythonStream(input_stream=csv_project_space_reader__python_stream.output_stream,\n",
    "                                                                          input_schema=csv_project_space_reader__python_stream.output_schema) \n",
    "# following are the data types of inputs\n",
    "# (input_stream -> List[list])\n",
    "# (input_schema -> json)"
   ]
  },
  {
   "cell_type": "markdown",
   "metadata": {},
   "source": [
    "### Converting data from pandas dataframe to numpy arrays out_x for independent variable and out_y for output variables"
   ]
  },
  {
   "cell_type": "code",
   "execution_count": 3,
   "metadata": {},
   "outputs": [],
   "source": [
    "\n",
    "sklearn_mlfeeder = SklearnMLFeeder(x_columns=None,y_column=\"medv\",df=data_queue_to_pandas_df__python_stream.df) \n",
    "# following are the data types of inputs\n",
    "# (x_columns -> Union[list, NoneType])\n",
    "# (y_column -> string)\n",
    "# (df -> DataFrame)"
   ]
  },
  {
   "cell_type": "markdown",
   "metadata": {},
   "source": [
    "### Training a linear regression model"
   ]
  },
  {
   "cell_type": "code",
   "execution_count": 4,
   "metadata": {},
   "outputs": [],
   "source": [
    "\n",
    "linear_regression = LinearRegression(fit_intercept=True,normalize=False,copy_X=True,operation=\"fit\",attribute=\"coef_\",x_data=sklearn_mlfeeder.out_x,y_data=sklearn_mlfeeder.out_y,\n",
    "                                     test_x_data=None,test_y_data=None,metric_function=[\"r2_score\",\"mean_squared_error\"],path=\"test_reg\",load=False,save=True) \n",
    "# following are the data types of inputs\n",
    "# (fit_intercept -> boolean)\n",
    "# (normalize -> boolean)\n",
    "# (copy_X -> boolean)\n",
    "# (n_jobs -> json)\n",
    "# (operation -> string)\n",
    "# (attribute -> string)\n",
    "# (x_data -> Any)\n",
    "# (y_data -> Any)\n",
    "# (test_x_data -> Any)\n",
    "# (test_y_data -> Any)\n",
    "# (metric_function -> array)\n",
    "# (path -> string)\n",
    "# (load -> boolean)\n",
    "# (save -> boolean)\n",
    "# (params -> json)"
   ]
  },
  {
   "cell_type": "code",
   "execution_count": 5,
   "metadata": {},
   "outputs": [
    {
     "data": {
      "application/vnd.razorthink.interactive+pipeline+view+json": {
       "blocks": [
        {
         "class_name": "CsvProjectSpaceReader_PythonStream",
         "fullname": "razor.project.blocks.bundle.CsvProjectSpaceReader_PythonStream",
         "id": "eaf1fe8e-a794-4ef6-8f7f-1d3bff6328a7",
         "inputs": [
          {
           "dataType": "string",
           "default": "",
           "flow": "atomic",
           "help": "path to the file to be read",
           "isdict": false,
           "islist": false,
           "label": "input_file_path",
           "meta": {},
           "name": "input_file_path",
           "series": false,
           "type": "str",
           "type_check": true
          },
          {
           "dataType": "integer",
           "default": 10000,
           "flow": "atomic",
           "help": "number of lines to be read in single iteration",
           "isdict": false,
           "islist": false,
           "label": "batch size",
           "meta": {},
           "name": "batch_size",
           "series": false,
           "type": "int",
           "type_check": true
          },
          {
           "dataType": "list",
           "default": [],
           "flow": "atomic",
           "help": "date columns to be parsed to standard python datetime format as an array",
           "isdict": false,
           "islist": false,
           "label": "parse dates",
           "meta": {},
           "name": "parse_dates",
           "series": false,
           "type": "list",
           "type_check": true
          },
          {
           "dataType": "string",
           "default": "",
           "flow": "atomic",
           "help": "custom date format of the date columns in standard python datetime format",
           "isdict": false,
           "islist": false,
           "label": "date parser standard",
           "meta": {},
           "name": "date_parser",
           "series": false,
           "type": "str",
           "type_check": true
          },
          {
           "dataType": "integer",
           "default": -1,
           "flow": "atomic",
           "help": "total number of rows to read default is -1 and it will read entire data on default value",
           "isdict": false,
           "islist": false,
           "label": "limit",
           "meta": {},
           "name": "limit",
           "series": false,
           "type": "int",
           "type_check": true
          }
         ],
         "outputs": [
          {
           "flow": "series",
           "help": null,
           "label": "output_stream",
           "meta": {},
           "name": "output_stream",
           "series": true,
           "type": "List[list]",
           "type_check": true
          },
          {
           "flow": "atomic",
           "help": null,
           "label": "output_schema",
           "meta": {},
           "name": "output_schema",
           "series": false,
           "type": "dict",
           "type_check": true
          }
         ],
         "overwritten": false,
         "published": true,
         "var_names": [
          "CsvProjectSpaceReader_PythonStream"
         ]
        }
       ],
       "connections": [],
       "id": "45df0088-8711-48a8-a95e-0012f3dacd47",
       "instances": [
        {
         "block_class": "eaf1fe8e-a794-4ef6-8f7f-1d3bff6328a7",
         "id": "04464571-256a-4ad8-a85e-6c66467cc243",
         "name": "CsvProjectSpaceReader_PythonStream_1",
         "var_names": [
          "csv_project_space_reader__python_stream"
         ]
        }
       ],
       "name": "Training Boston Regression Model",
       "var_names": []
      },
      "image/svg+xml": [
       "<?xml version=\"1.0\" encoding=\"UTF-8\" standalone=\"no\"?>\n",
       "<!DOCTYPE svg PUBLIC \"-//W3C//DTD SVG 1.1//EN\"\n",
       " \"http://www.w3.org/Graphics/SVG/1.1/DTD/svg11.dtd\">\n",
       "<!-- Generated by graphviz version 2.43.0 (0)\n",
       " -->\n",
       "<!-- Title: %3 Pages: 1 -->\n",
       "<svg width=\"504pt\" height=\"44pt\"\n",
       " viewBox=\"0.00 0.00 503.65 44.00\" xmlns=\"http://www.w3.org/2000/svg\" xmlns:xlink=\"http://www.w3.org/1999/xlink\">\n",
       "<g id=\"graph0\" class=\"graph\" transform=\"scale(1 1) rotate(0) translate(4 40)\">\n",
       "<title>%3</title>\n",
       "<polygon fill=\"white\" stroke=\"transparent\" points=\"-4,4 -4,-40 499.65,-40 499.65,4 -4,4\"/>\n",
       "<!-- CsvProjectSpaceReader_PythonStream(&#39;CsvProjectSpaceReader_PythonStream_1&#39;) -->\n",
       "<g id=\"node1\" class=\"node\">\n",
       "<title>CsvProjectSpaceReader_PythonStream(&#39;CsvProjectSpaceReader_PythonStream_1&#39;)</title>\n",
       "<ellipse fill=\"none\" stroke=\"black\" cx=\"247.83\" cy=\"-18\" rx=\"247.65\" ry=\"18\"/>\n",
       "<text text-anchor=\"middle\" x=\"247.83\" y=\"-15.5\" font-family=\"Helvetica,sans-Serif\" font-size=\"10.00\">CsvProjectSpaceReader_PythonStream(&#39;CsvProjectSpaceReader_PythonStream_1&#39;)</text>\n",
       "</g>\n",
       "</g>\n",
       "</svg>\n"
      ],
      "text/plain": [
       "<razor.flow.pipeline.Pipeline at 0x7f577363b250>"
      ]
     },
     "execution_count": 5,
     "metadata": {},
     "output_type": "execute_result"
    }
   ],
   "source": [
    "import razor.flow as rf\n",
    "pipeline = rf.Pipeline(name=\"Training Boston Regression Model\",targets=[csv_project_space_reader__python_stream])\n",
    "pipeline"
   ]
  },
  {
   "cell_type": "markdown",
   "metadata": {},
   "source": [
    "### Publishing the Pipeline to the UI Builder"
   ]
  },
  {
   "cell_type": "code",
   "execution_count": 6,
   "metadata": {},
   "outputs": [],
   "source": [
    "\n",
    "# # To publish a pipeline to UI builder, we just need this like\n",
    "# import razor\n",
    "# razor.api.pipelines.save(pipeline,overwrite=True)"
   ]
  },
  {
   "cell_type": "code",
   "execution_count": 18,
   "metadata": {},
   "outputs": [
    {
     "data": {
      "text/plain": [
       "['name',\n",
       " 'id',\n",
       " 'description',\n",
       " 'targets',\n",
       " 'logger',\n",
       " 'graph',\n",
       " 'graph_style',\n",
       " '__inputs__',\n",
       " '__outputs__',\n",
       " 'blocks',\n",
       " 'execution_queue',\n",
       " 'block_executors',\n",
       " 'pipeline_process',\n",
       " '_apm_monitor',\n",
       " '_runtime_monitor',\n",
       " '_state_recorder',\n",
       " '_Pipeline__runs_manager_util',\n",
       " '__module__',\n",
       " '_Pipeline__instance_count',\n",
       " '__init__',\n",
       " '_Pipeline__build_graph',\n",
       " '_Pipeline__add_block_to_graph',\n",
       " '_Pipeline__collect_pipeline_io',\n",
       " '_Pipeline__create_graph_edge',\n",
       " '_Pipeline__does_edge_exist',\n",
       " '_Pipeline__check_cyclic_inputs',\n",
       " '_Pipeline__check_duplicate_block_names',\n",
       " '_Pipeline__root_blocks',\n",
       " 'get_function_groups',\n",
       " 'show',\n",
       " '_repr_mimebundle_',\n",
       " '_terminate_blocks',\n",
       " '_event_handler',\n",
       " '_log_handler',\n",
       " '_log_manager',\n",
       " '_execute',\n",
       " '__init_subclass__',\n",
       " 'execute',\n",
       " '_repr_meta_',\n",
       " '__dict__',\n",
       " '__weakref__',\n",
       " '__doc__',\n",
       " '__repr__',\n",
       " '__hash__',\n",
       " '__str__',\n",
       " '__getattribute__',\n",
       " '__setattr__',\n",
       " '__delattr__',\n",
       " '__lt__',\n",
       " '__le__',\n",
       " '__eq__',\n",
       " '__ne__',\n",
       " '__gt__',\n",
       " '__ge__',\n",
       " '__new__',\n",
       " '__reduce_ex__',\n",
       " '__reduce__',\n",
       " '__subclasshook__',\n",
       " '__format__',\n",
       " '__sizeof__',\n",
       " '__dir__',\n",
       " '__class__']"
      ]
     },
     "execution_count": 18,
     "metadata": {},
     "output_type": "execute_result"
    }
   ],
   "source": [
    "pipeline.__dir__()"
   ]
  },
  {
   "cell_type": "code",
   "execution_count": null,
   "metadata": {},
   "outputs": [],
   "source": []
  },
  {
   "cell_type": "code",
   "execution_count": null,
   "metadata": {},
   "outputs": [],
   "source": []
  },
  {
   "cell_type": "code",
   "execution_count": null,
   "metadata": {},
   "outputs": [],
   "source": []
  },
  {
   "cell_type": "code",
   "execution_count": 4,
   "metadata": {},
   "outputs": [],
   "source": [
    "from razor.api import blocks\n",
    "from razor.api.core import BlockScope"
   ]
  },
  {
   "cell_type": "code",
   "execution_count": 5,
   "metadata": {},
   "outputs": [],
   "source": [
    "blocks.init_bundle(bundle = \"bundle\", category = \"test\")"
   ]
  },
  {
   "cell_type": "code",
   "execution_count": 6,
   "metadata": {},
   "outputs": [],
   "source": [
    "blocks.publish(bundle=\"bundle\", scope=BlockScope.PROJECT, overwrite=True)\n"
   ]
  },
  {
   "cell_type": "code",
   "execution_count": null,
   "metadata": {},
   "outputs": [],
   "source": []
  },
  {
   "cell_type": "code",
   "execution_count": 20,
   "metadata": {},
   "outputs": [
    {
     "ename": "AttributeError",
     "evalue": "module 'razor.api' has no attribute 'project_space_path'",
     "output_type": "error",
     "traceback": [
      "\u001b[0;31m---------------------------------------------------------------------------\u001b[0m",
      "\u001b[0;31mAttributeError\u001b[0m                            Traceback (most recent call last)",
      "\u001b[0;32m<ipython-input-20-7baee54d54c0>\u001b[0m in \u001b[0;36m<module>\u001b[0;34m\u001b[0m\n\u001b[1;32m      1\u001b[0m \u001b[0;32mimport\u001b[0m \u001b[0mrazor\u001b[0m\u001b[0;34m\u001b[0m\u001b[0;34m\u001b[0m\u001b[0m\n\u001b[0;32m----> 2\u001b[0;31m \u001b[0mrazor\u001b[0m\u001b[0;34m.\u001b[0m\u001b[0mapi\u001b[0m\u001b[0;34m.\u001b[0m\u001b[0mproject_space_path\u001b[0m\u001b[0;34m(\u001b[0m\u001b[0;34m'/'\u001b[0m\u001b[0;34m)\u001b[0m\u001b[0;34m\u001b[0m\u001b[0;34m\u001b[0m\u001b[0m\n\u001b[0m",
      "\u001b[0;31mAttributeError\u001b[0m: module 'razor.api' has no attribute 'project_space_path'"
     ]
    }
   ],
   "source": [
    "import razor\n",
    "razor.api.project_space_path('/')"
   ]
  },
  {
   "cell_type": "code",
   "execution_count": 25,
   "metadata": {},
   "outputs": [
    {
     "data": {
      "text/plain": [
       "<razor.api.core.block_manager.PlatformBlocksManager at 0x7f1177a96e50>"
      ]
     },
     "execution_count": 25,
     "metadata": {},
     "output_type": "execute_result"
    }
   ],
   "source": [
    "blocks"
   ]
  },
  {
   "cell_type": "code",
   "execution_count": null,
   "metadata": {},
   "outputs": [],
   "source": [
    "blocks.categories"
   ]
  },
  {
   "cell_type": "code",
   "execution_count": 3,
   "metadata": {},
   "outputs": [],
   "source": [
    "import logging\n",
    "logging.basicConfig()\n",
    "logging.getLogger().setLevel(logging.INFO)"
   ]
  },
  {
   "cell_type": "code",
   "execution_count": null,
   "metadata": {},
   "outputs": [],
   "source": []
  }
 ],
 "metadata": {
  "kernelspec": {
   "display_name": "Python 3",
   "language": "python",
   "name": "python3"
  },
  "language_info": {
   "codemirror_mode": {
    "name": "ipython",
    "version": 3
   },
   "file_extension": ".py",
   "mimetype": "text/x-python",
   "name": "python",
   "nbconvert_exporter": "python",
   "pygments_lexer": "ipython3",
   "version": "3.7.10"
  }
 },
 "nbformat": 4,
 "nbformat_minor": 4
}
