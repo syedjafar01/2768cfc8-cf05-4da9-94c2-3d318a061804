{
 "cells": [
  {
   "cell_type": "code",
   "execution_count": 1,
   "metadata": {},
   "outputs": [],
   "source": [
    "# razor.api.blocks()"
   ]
  },
  {
   "cell_type": "code",
   "execution_count": null,
   "metadata": {},
   "outputs": [],
   "source": []
  },
  {
   "cell_type": "markdown",
   "metadata": {},
   "source": [
    "# dataset"
   ]
  },
  {
   "cell_type": "code",
   "execution_count": 2,
   "metadata": {},
   "outputs": [],
   "source": [
    "import os, logging\n",
    "\n",
    "import cv2\n",
    "import numpy\n",
    "from tqdm import tqdm\n",
    "from razor.api import project_space_path\n",
    "\n",
    "\n",
    "class MVTecDataset(object):\n",
    "    def __init__(\n",
    "            self, is_train, dir_env, is_positive=True, preprocessor=None,\n",
    "    ):\n",
    "\n",
    "        ext = dir_env[\"ext\"]\n",
    "        root = dir_env[\"root\"]\n",
    "        train_good_dir = dir_env[\"train_good_dir\"]\n",
    "        test_good_dir = dir_env[\"test_good_dir\"]\n",
    "        test_bad_dir = dir_env[\"test_bad_dir\"]\n",
    "        self.preprocessor = preprocessor\n",
    "\n",
    "        print(\"£\"*20, root)\n",
    "        logging.info(\"£\"*20, root)\n",
    "        \n",
    "        if ext[0] != \".\":\n",
    "            ext = \".\" + ext\n",
    "\n",
    "        if is_train:\n",
    "            dir_name = train_good_dir\n",
    "        elif not is_positive:\n",
    "            dir_name = test_good_dir\n",
    "        elif test_bad_dir:\n",
    "            dir_name = test_bad_dir\n",
    "        else:\n",
    "            dir_name = None\n",
    "            excp_name = test_good_dir\n",
    "\n",
    "        if dir_name:\n",
    "            dir_path = os.path.abspath(os.path.join(root, dir_name))\n",
    "            print('********', dir_path, dir_name)\n",
    "            logging.info('********', dir_path, dir_name)\n",
    "            dir_parent_path = os.path.dirname(dir_path)\n",
    "            dir_name = os.path.basename(dir_path)\n",
    "            self.dataset = self.load_dataset(dir_parent_path, dir_name, ext)\n",
    "        else:\n",
    "            dir_path = os.path.abspath(os.path.join(root, excp_name))\n",
    "            dir_parent_path = os.path.dirname(dir_path)\n",
    "            dirs = [\n",
    "                d\n",
    "                for d in os.listdir(dir_parent_path)\n",
    "                if d not in excp_name\n",
    "            ]\n",
    "            self.dataset = []\n",
    "            for dir_name in dirs:\n",
    "                self.dataset.extend(self.load_dataset(\n",
    "                    dir_parent_path, dir_name, ext))\n",
    "\n",
    "    def load_dataset(self, dir_parent_path, dir_name, ext):\n",
    "\n",
    "        return [\n",
    "            (dir_name, f, cv2.imread(os.path.join(\n",
    "                dir_parent_path, dir_name, f))\n",
    "             [:, :, [2, 1, 0]])\n",
    "            for f in tqdm(\n",
    "                os.listdir(os.path.join(dir_parent_path, dir_name)),\n",
    "                desc=\"loading images\"\n",
    "            )\n",
    "            if ext in f\n",
    "        ]\n",
    "\n",
    "    def __len__(self):\n",
    "        return len(self.dataset)\n",
    "\n",
    "    def __getitem__(self, idx):\n",
    "        sample = self.dataset[idx][2]\n",
    "\n",
    "        if self.preprocessor:\n",
    "            for p in self.preprocessor:\n",
    "                sample = p(sample)\n",
    "\n",
    "        return (self.dataset[idx][0], self.dataset[idx][1], sample)\n",
    "\n",
    "\n",
    "class DataLoader(object):\n",
    "    def __init__(self, dataset, batch_size, shuffle, drop_last):\n",
    "        self.dataset = dataset\n",
    "        self.batch_size = batch_size\n",
    "        self.shuffle = shuffle\n",
    "        self.drop_last = drop_last\n",
    "        self.counter = 0\n",
    "        self.idxs = numpy.arange(len(self.dataset))\n",
    "\n",
    "    def __len__(self):\n",
    "        return len(self.dataset)\n",
    "\n",
    "    def __iter__(self):\n",
    "        return self\n",
    "\n",
    "    def __next__(self):\n",
    "        if self.counter == 0 and self.shuffle:\n",
    "            numpy.random.shuffle(self.idxs)\n",
    "\n",
    "        if (\n",
    "            self.counter + self.batch_size > len(self.dataset)\n",
    "            and self.drop_last\n",
    "        ):\n",
    "            self.counter = 0\n",
    "            raise StopIteration()\n",
    "\n",
    "        if self.counter >= len(self.dataset):\n",
    "            self.counter = 0\n",
    "            raise StopIteration()\n",
    "\n",
    "        batch = []\n",
    "        for idx in self.idxs[self.counter: self.counter + self.batch_size]:\n",
    "            batch.append(self.dataset[idx][2])\n",
    "\n",
    "        self.counter += self.batch_size\n",
    "        print(\"counter\", self.counter)\n",
    "\n",
    "        return self.dataset[idx][0], self.dataset[idx][1], numpy.stack(batch)\n"
   ]
  },
  {
   "cell_type": "markdown",
   "metadata": {},
   "source": [
    "# model"
   ]
  },
  {
   "cell_type": "code",
   "execution_count": 3,
   "metadata": {},
   "outputs": [],
   "source": [
    "import numpy\n",
    "from tqdm import tqdm\n",
    "from sklearn.decomposition import MiniBatchDictionaryLearning, SparseCoder\n",
    "from skimage.metrics import structural_similarity\n",
    "from sklearn.metrics import average_precision_score, roc_auc_score\n",
    "import pickle\n",
    "import os\n",
    "import matplotlib.pyplot as plt\n",
    "import cv2\n",
    "import random\n",
    "\n",
    "\n",
    "class SparseCodingWithMultiDict(object):\n",
    "    def __init__(\n",
    "        self,\n",
    "        preprocesses,\n",
    "        model_env,\n",
    "        train_loader=None,\n",
    "        test_neg_loader=None,\n",
    "        test_pos_loader=None,\n",
    "    ):\n",
    "\n",
    "        self.preprocesses = preprocesses\n",
    "\n",
    "        self.num_of_basis = model_env[\"num_of_basis\"]\n",
    "        self.alpha = model_env[\"alpha\"]\n",
    "        self.transform_algorithm = model_env[\"transform_algorithm\"]\n",
    "        self.transform_alpha = model_env[\"transform_alpha\"]\n",
    "        self.fit_algorithm = model_env[\"fit_algorithm\"]\n",
    "        self.n_iter = model_env[\"n_iter\"]\n",
    "        self.num_of_nonzero = model_env[\"num_of_nonzero\"]\n",
    "        self.use_ssim = model_env[\"use_ssim\"]\n",
    "\n",
    "        self.cutoff_edge_width = model_env[\"cutoff_edge_width\"]\n",
    "        self.patch_size = model_env[\"patch_size\"]\n",
    "        self.stride = model_env[\"stride\"]\n",
    "        self.num_of_ch = model_env[\"num_of_ch\"]\n",
    "        self.output_npy = model_env[\"output_npy\"]\n",
    "\n",
    "        self.org_l = int(256 / 8.0) - self.cutoff_edge_width * 2\n",
    "\n",
    "        self.train_loader = train_loader\n",
    "        self.test_neg_loader = test_neg_loader\n",
    "        self.test_pos_loader = test_pos_loader\n",
    "        self.output_path = model_env[\"output_path\"]\n",
    "\n",
    "        self.dictionaries = None\n",
    "\n",
    "    def train(self):\n",
    "        arrs = []\n",
    "        for batch_data in self.train_loader:\n",
    "            batch_img = batch_data[2]\n",
    "            for p in self.preprocesses:\n",
    "                batch_img = p(batch_img)\n",
    "            N, P, C, H, W = batch_img.shape\n",
    "            batch_arr = batch_img.reshape(N * P, C, H * W)\n",
    "            arrs.append(batch_arr)\n",
    "\n",
    "        train_arr = numpy.concatenate(arrs, axis=0)\n",
    "\n",
    "        self.dictionaries = [\n",
    "            MiniBatchDictionaryLearning(\n",
    "                n_components=self.num_of_basis,\n",
    "                alpha=self.alpha,\n",
    "                transform_algorithm=self.transform_algorithm,\n",
    "                transform_alpha=self.transform_alpha,\n",
    "                fit_algorithm=self.fit_algorithm,\n",
    "                n_iter=self.n_iter,\n",
    "            )\n",
    "            .fit(train_arr[:, i, :])\n",
    "            .components_\n",
    "            for i in tqdm(range(C), desc=\"learning dictionary\")\n",
    "        ]\n",
    "        print(\"learned.\")\n",
    "\n",
    "    def save_dict(self, file_path):\n",
    "        with open(file_path, \"wb\") as f:\n",
    "            pickle.dump(self.dictionaries, f)\n",
    "\n",
    "    def load_dict(self, file_path):\n",
    "        with open(file_path, \"rb\") as f:\n",
    "            self.dictionaries = pickle.load(f)\n",
    "\n",
    "    def test(self):\n",
    "        C = len(self.dictionaries)\n",
    "        coders = [\n",
    "            SparseCoder(\n",
    "                dictionary=self.dictionaries[i],\n",
    "                transform_algorithm=self.transform_algorithm,\n",
    "                transform_n_nonzero_coefs=self.num_of_nonzero,\n",
    "            )\n",
    "            for i in range(C)\n",
    "        ]\n",
    "\n",
    "        neg_err = self.calculate_error(coders=coders, is_positive=False)\n",
    "        pos_err = self.calculate_error(coders=coders, is_positive=True)\n",
    "\n",
    "        ap, auc = self.calculate_score(neg_err, pos_err)\n",
    "        print(\"\\nTest set: AP: {:.4f}, AUC: {:.4f}\\n\".format(ap, auc))\n",
    "\n",
    "    def calculate_error(self, coders, is_positive):\n",
    "        if is_positive:\n",
    "            loader = self.test_pos_loader\n",
    "        else:\n",
    "            loader = self.test_neg_loader\n",
    "\n",
    "        errs = []\n",
    "        top_5 = numpy.zeros(len(self.dictionaries))\n",
    "\n",
    "        random.seed(0)\n",
    "        dict_order = list(range(896))\n",
    "        random.shuffle(dict_order)\n",
    "\n",
    "        for batch_data in tqdm(loader, desc=\"testing\"):\n",
    "\n",
    "            batch_path, batch_name, batch_img = batch_data\n",
    "            p_batch_img = batch_img\n",
    "            for p in self.preprocesses:\n",
    "                p_batch_img = p(p_batch_img)\n",
    "\n",
    "            for p_img, org_img in zip(p_batch_img, batch_img):\n",
    "\n",
    "                P, C, H, W = p_img.shape\n",
    "                img_arr = p_img.reshape(P, C, H * W)\n",
    "                f_diff = numpy.zeros((1, self.org_l, self.org_l))\n",
    "\n",
    "                ch_err = []\n",
    "                for num in range(self.num_of_ch):\n",
    "                    i = dict_order[num]\n",
    "                    target_arr = img_arr[:, i]\n",
    "                    coefs = coders[i].transform(target_arr)\n",
    "                    rcn_arr = coefs.dot(self.dictionaries[i])\n",
    "\n",
    "                    f_img_org = self.reconst_from_array(target_arr)\n",
    "                    f_img_rcn = self.reconst_from_array(rcn_arr)\n",
    "                    f_diff += numpy.square((f_img_org - f_img_rcn) / 1.5)\n",
    "\n",
    "                    if not self.use_ssim:\n",
    "                        err = numpy.sum((target_arr - rcn_arr) ** 2, axis=1)\n",
    "                    else:\n",
    "                        err = self.calc_ssim(img_arr, rcn_arr, (P, C, H, W))\n",
    "                    sorted_err = numpy.sort(err)[::-1]\n",
    "                    total_err = numpy.sum(sorted_err[:5])\n",
    "                    ch_err.append(total_err)\n",
    "\n",
    "                top_5[numpy.argsort(ch_err)[::-1][:5]] += 1\n",
    "                errs.append(numpy.sum(ch_err))\n",
    "                f_diff /= self.num_of_ch\n",
    "                if self.output_npy:\n",
    "                    self.output_np_array(batch_path, batch_name, f_diff)\n",
    "                else:\n",
    "                    visualized_out = self.visualize(org_img, f_diff)\n",
    "                    self.output_image(batch_path, batch_name,\n",
    "                                      ch_err, visualized_out)\n",
    "        return errs\n",
    "\n",
    "    def output_np_array(self, batch_path, batch_name, f_diff):\n",
    "        \n",
    "        output_path = os.path.join(op, batch_path)\n",
    "        os.makedirs(output_path, exist_ok=True)\n",
    "        numpy.save(os.path.join(\n",
    "            output_path, batch_name.split(\".\")[0] + \".npy\"), f_diff)\n",
    "\n",
    "    def output_image(self, batch_path, batch_name, ch_err, visualized_out):\n",
    "        op = self.output_path\n",
    "        output_path = os.path.join(op, batch_path)\n",
    "        os.makedirs(output_path, exist_ok=True)\n",
    "\n",
    "        cv2.imwrite(\n",
    "            os.path.join(\n",
    "                output_path,\n",
    "                batch_name.split(\".\")[0] + \"-\" +\n",
    "                str(int(numpy.sum(ch_err))) + \".png\",\n",
    "            ),\n",
    "            visualized_out,\n",
    "        )\n",
    "\n",
    "    def calculate_ssim(self, img_arr, rcn_arr, dim):\n",
    "        P, C, H, W = dim\n",
    "        return [\n",
    "            -1\n",
    "            * structural_similarity(\n",
    "                img_arr[p, c].reshape(H, W),\n",
    "                rcn_arr[p, c].reshape(H, W),\n",
    "                win_size=11,\n",
    "                data_range=1.0,\n",
    "                gaussian_weights=True,\n",
    "            )\n",
    "            for p in range(P)\n",
    "            for c in range(C)\n",
    "        ]\n",
    "\n",
    "    def visualize(self, org_img, f_diff):\n",
    "        color_map = plt.get_cmap(\"viridis\")\n",
    "        heatmap = numpy.uint8(color_map(f_diff[0])[:, :, :3] * 255)\n",
    "        transposed = org_img.transpose(1, 2, 0)[:, :, [2, 1, 0]]\n",
    "        resized = cv2.resize(\n",
    "            heatmap, (transposed.shape[0], transposed.shape[1])\n",
    "        )\n",
    "        blended = cv2.addWeighted(\n",
    "            transposed, 1.0, resized, 0.01, 2.2, dtype=cv2.CV_32F\n",
    "        )\n",
    "        blended_normed = (\n",
    "            255 * (blended - blended.min()) /\n",
    "            (blended.max() - blended.min())\n",
    "        )\n",
    "        blended_out = numpy.array(blended_normed, numpy.int)\n",
    "        return blended_out\n",
    "\n",
    "    def calculate_score(self, dn, dp):\n",
    "        N = len(dn)\n",
    "        y_score = numpy.concatenate([dn, dp])\n",
    "        y_true = numpy.zeros(len(y_score), dtype=numpy.int32)\n",
    "        y_true[N:] = 1\n",
    "        return average_precision_score(y_true, y_score),\\\n",
    "            roc_auc_score(y_true, y_score)\n",
    "\n",
    "    def reconst_from_array(self, arrs):\n",
    "        rcn = numpy.zeros((1, self.org_l, self.org_l))\n",
    "        arr_iter = iter(arrs)\n",
    "        for ty in range(0, self.org_l - self.patch_size + 1, self.stride):\n",
    "            for tx in range(0, self.org_l - self.patch_size + 1, self.stride):\n",
    "                arr = next(arr_iter)\n",
    "                rcn[:, ty: ty + self.patch_size, tx: tx + self.patch_size] =\\\n",
    "                    arr.reshape(\n",
    "                    1, self.patch_size, self.patch_size\n",
    "                )\n",
    "        return rcn\n"
   ]
  },
  {
   "cell_type": "markdown",
   "metadata": {},
   "source": [
    "# preprocessor"
   ]
  },
  {
   "cell_type": "code",
   "execution_count": 4,
   "metadata": {},
   "outputs": [],
   "source": [
    "import cv2\n",
    "import numpy\n",
    "import torch\n",
    "import torch.nn.functional as F\n",
    "from torchvision import models\n",
    "\n",
    "\n",
    "class BatchSplitImg(object):\n",
    "    def __init__(self, patch_size, stride):\n",
    "        self.patch_size = patch_size\n",
    "        self.stride = stride\n",
    "\n",
    "    def __call__(self, batch_img):\n",
    "        N, C, H, W = batch_img.shape\n",
    "        batch = []\n",
    "        for img in batch_img:\n",
    "            split_images = []\n",
    "            for ty in range(0, H - self.patch_size + 1, self.stride):\n",
    "                for tx in range(0, W - self.patch_size + 1, self.stride):\n",
    "                    split_images.append(\n",
    "                        img[:, ty: ty + self.patch_size, tx: tx + self.patch_size]\n",
    "                    )\n",
    "            batch.append(numpy.stack(split_images))\n",
    "        return numpy.stack(batch)\n",
    "\n",
    "\n",
    "class HWC2CHW(object):\n",
    "    def __call__(self, img):\n",
    "        shape = img.shape\n",
    "        if len(shape) == 3:  # HWC\n",
    "            return img.transpose(2, 0, 1)\n",
    "        else:\n",
    "            raise ValueError(\"The shape of 'img' must be 3D.\")\n",
    "\n",
    "\n",
    "class ToTensor(object):\n",
    "    def __call__(self, img):\n",
    "        return torch.from_numpy(img).float()\n",
    "\n",
    "\n",
    "class Gray2RGB(object):\n",
    "    def __call__(self, img):\n",
    "        if len(img.shape) == 2:\n",
    "            img = img[:, :, None]\n",
    "\n",
    "        # If input is RGB, do nothing\n",
    "        if img.shape[2] == 3:\n",
    "            return img\n",
    "\n",
    "        return numpy.tile(img, (1, 1, 3))\n",
    "\n",
    "\n",
    "class Resize(object):\n",
    "    def __init__(self, size):\n",
    "        if len(size) != 2:\n",
    "            raise ValueError(\"The argument 'size' must be a list or tuple.\")\n",
    "        self.size = size\n",
    "\n",
    "    def __call__(self, img):\n",
    "        return cv2.resize(img, dsize=self.size)\n",
    "\n",
    "\n",
    "class TransformForTorchModel(object):\n",
    "    def __call__(self, img):\n",
    "        if len(img.shape) != 3:\n",
    "            raise ValueError(\"The shape of 'img' must be 3D.\")\n",
    "        elif img.shape[0] != 3:\n",
    "            raise ValueError(\"'img' must be RGB image.\")\n",
    "\n",
    "        img -= numpy.array([0.485, 0.456, 0.406])[:, None, None]\n",
    "        img /= numpy.array([0.229, 0.224, 0.225])[:, None, None]\n",
    "\n",
    "        return img\n",
    "\n",
    "\n",
    "class DivideBy255(object):\n",
    "    def __call__(self, img):\n",
    "        img = img / 255.0\n",
    "        return img\n",
    "\n",
    "\n",
    "class VGG16ScaledFeatures(object):\n",
    "    def __init__(self, last_layer=22, cutoff_edge_width=0):\n",
    "        self.vgg16_features = torch.nn.ModuleList(\n",
    "            list(models.vgg16(pretrained=True).features)[:last_layer]\n",
    "        ).eval()\n",
    "        self.cutoff_edge_width = cutoff_edge_width\n",
    "\n",
    "    def __call__(self, org):\n",
    "        x_ = torch.tensor([])\n",
    "        with torch.no_grad():\n",
    "            for s in range(3):\n",
    "                x = F.max_pool2d(org, (2 ** s, 2 ** s))\n",
    "                for i, f in enumerate(self.vgg16_features):\n",
    "                    x = f(x)\n",
    "                    if (\n",
    "                        (s == 0 and i == 21)\n",
    "                        or (s == 1 and i == 14)\n",
    "                        or (s == 2 and i == 7)\n",
    "                    ):\n",
    "                        x_ = torch.cat([x_, x], dim=1)\n",
    "                        break\n",
    "\n",
    "        if self.cutoff_edge_width > 0:\n",
    "            x_ = x_[\n",
    "                :,\n",
    "                :,\n",
    "                self.cutoff_edge_width: -self.cutoff_edge_width,\n",
    "                self.cutoff_edge_width: -self.cutoff_edge_width,\n",
    "            ]\n",
    "        x_ = (x_ - x_.mean(dim=(2, 3), keepdim=True)) / x_.std(dim=(2, 3), keepdim=True)\n",
    "\n",
    "        return x_\n"
   ]
  },
  {
   "cell_type": "code",
   "execution_count": null,
   "metadata": {},
   "outputs": [],
   "source": []
  },
  {
   "cell_type": "code",
   "execution_count": 5,
   "metadata": {},
   "outputs": [],
   "source": [
    "import os\n",
    "\n",
    "import numpy as np\n",
    "import logging\n",
    "import typing as t\n",
    "import yaml\n",
    "\n",
    "# import __blocks.dataset as dataset\n",
    "# import __blocks.models as models\n",
    "# import __blocks.preprocessor as preprocessor\n",
    "\n",
    "from razor.api import project_space_path\n",
    "import razor\n",
    "from razor import Technology, LibraryMode\n",
    "# from razor.core.blocks.transports import FileTransport\n",
    "# from razor.core.blocks import ContainerExecutor\n",
    "import razor.flow as rf\n",
    "from razor.api import datasources\n",
    "from razor.api import project_space_path\n"
   ]
  },
  {
   "cell_type": "code",
   "execution_count": null,
   "metadata": {},
   "outputs": [],
   "source": []
  },
  {
   "cell_type": "code",
   "execution_count": 6,
   "metadata": {},
   "outputs": [],
   "source": [
    "@rf.block(executor=rf.ProcessExecutor)\n",
    "# @rf.block(executor=rf.ContainerExecutor(cores=1, memory=1048))\n",
    "class GetConfigs:\n",
    "    material: t.Any\n",
    "    config: rf.Output[t.Any]\n",
    "        \n",
    "    def run(self):\n",
    "        \n",
    "#         material = 'grid'\n",
    "        config_json = {\n",
    "                \"seed\": 1,\n",
    "\n",
    "                \"paths\": {\n",
    "                    \"root\": project_space_path(f\"./mvtec_anomaly_detection/{self.material}/\"),\n",
    "                    \"train_good_dir\": \"train/sample_good\",\n",
    "                    \"test_good_dir\": \"test/good\",\n",
    "                    \"test_bad_dir\": \"test/bad\",\n",
    "                    \"ext\": \"png\",\n",
    "                    \"dict_file\": project_space_path(\"dict.pickle\")\n",
    "                },\n",
    "                \"model_params\": {\n",
    "                    \"batch_size\": 1000,\n",
    "                    \"patch_size\": 8,\n",
    "                    \"stride\": 2,\n",
    "                    \"use_ssim\": False,\n",
    "                    \"num_of_basis\": 5,\n",
    "                    \"alpha\": 1.0,\n",
    "                    \"transform_algorithm\": \"omp\",\n",
    "                    \"transform_alpha\": 1.0,\n",
    "                    \"fit_algorithm\": \"lars\",\n",
    "                    \"n_iter\": 50,\n",
    "                    \"num_of_nonzero\": 3,\n",
    "                    \"cutoff_edge_width\": 2,\n",
    "                    \"num_of_ch\": 896,\n",
    "                    \"output_npy\": False,\n",
    "                    \"output_path\": project_space_path(\"visualized_results\")\n",
    "                }\n",
    "            }\n",
    "        print(config_json)\n",
    "        \n",
    "        self.config.put(config_json)\n"
   ]
  },
  {
   "cell_type": "code",
   "execution_count": 7,
   "metadata": {},
   "outputs": [],
   "source": [
    "lib1 = razor.api.libraries(name='opencv-python').artifact()\n"
   ]
  },
  {
   "cell_type": "code",
   "execution_count": 8,
   "metadata": {},
   "outputs": [],
   "source": [
    "@rf.block(executor=rf.ProcessExecutor)\n",
    "# @rf.block(executor=rf.ContainerExecutor(cores=2, memory=5000))\n",
    "class Preprocess:\n",
    "    config: t.Any\n",
    "    prepro: rf.Output[t.Any]\n",
    "    model_prepro: rf.Output[t.Any]\n",
    "        \n",
    "    __libs__ = [lib1]\n",
    "    \n",
    "\n",
    "    class BatchSplitImg(object):\n",
    "        def __init__(self, patch_size, stride):\n",
    "            self.patch_size = patch_size\n",
    "            self.stride = stride\n",
    "\n",
    "        def __call__(self, batch_img):\n",
    "            N, C, H, W = batch_img.shape\n",
    "            batch = []\n",
    "            for img in batch_img:\n",
    "                split_images = []\n",
    "                for ty in range(0, H - self.patch_size + 1, self.stride):\n",
    "                    for tx in range(0, W - self.patch_size + 1, self.stride):\n",
    "                        split_images.append(\n",
    "                            img[:, ty: ty + self.patch_size, tx: tx + self.patch_size]\n",
    "                        )\n",
    "                batch.append(numpy.stack(split_images))\n",
    "            return numpy.stack(batch)\n",
    "\n",
    "\n",
    "    class HWC2CHW(object):\n",
    "        def __call__(self, img):\n",
    "            shape = img.shape\n",
    "            if len(shape) == 3:  # HWC\n",
    "                return img.transpose(2, 0, 1)\n",
    "            else:\n",
    "                raise ValueError(\"The shape of 'img' must be 3D.\")\n",
    "\n",
    "\n",
    "    class ToTensor(object):\n",
    "        def __call__(self, img):\n",
    "            return torch.from_numpy(img).float()\n",
    "\n",
    "\n",
    "    class Gray2RGB(object):\n",
    "        def __call__(self, img):\n",
    "            if len(img.shape) == 2:\n",
    "                img = img[:, :, None]\n",
    "\n",
    "            # If input is RGB, do nothing\n",
    "            if img.shape[2] == 3:\n",
    "                return img\n",
    "\n",
    "            return numpy.tile(img, (1, 1, 3))\n",
    "\n",
    "\n",
    "    class Resize(object):\n",
    "        def __init__(self, size):\n",
    "            if len(size) != 2:\n",
    "                raise ValueError(\"The argument 'size' must be a list or tuple.\")\n",
    "            self.size = size\n",
    "\n",
    "        def __call__(self, img):\n",
    "            return cv2.resize(img, dsize=self.size)\n",
    "\n",
    "\n",
    "    class TransformForTorchModel(object):\n",
    "        def __call__(self, img):\n",
    "            if len(img.shape) != 3:\n",
    "                raise ValueError(\"The shape of 'img' must be 3D.\")\n",
    "            elif img.shape[0] != 3:\n",
    "                raise ValueError(\"'img' must be RGB image.\")\n",
    "\n",
    "            img -= numpy.array([0.485, 0.456, 0.406])[:, None, None]\n",
    "            img /= numpy.array([0.229, 0.224, 0.225])[:, None, None]\n",
    "\n",
    "            return img\n",
    "\n",
    "\n",
    "    class DivideBy255(object):\n",
    "        def __call__(self, img):\n",
    "            img = img / 255.0\n",
    "            return img\n",
    "\n",
    "\n",
    "    class VGG16ScaledFeatures(object):\n",
    "        def __init__(self, last_layer=22, cutoff_edge_width=0):\n",
    "            self.vgg16_features = torch.nn.ModuleList(\n",
    "                list(models.vgg16(pretrained=True).features)[:last_layer]\n",
    "            ).eval()\n",
    "            self.cutoff_edge_width = cutoff_edge_width\n",
    "\n",
    "        def __call__(self, org):\n",
    "            x_ = torch.tensor([])\n",
    "            with torch.no_grad():\n",
    "                for s in range(3):\n",
    "                    x = F.max_pool2d(org, (2 ** s, 2 ** s))\n",
    "                    for i, f in enumerate(self.vgg16_features):\n",
    "                        x = f(x)\n",
    "                        if (\n",
    "                            (s == 0 and i == 21)\n",
    "                            or (s == 1 and i == 14)\n",
    "                            or (s == 2 and i == 7)\n",
    "                        ):\n",
    "                            x_ = torch.cat([x_, x], dim=1)\n",
    "                            break\n",
    "\n",
    "            if self.cutoff_edge_width > 0:\n",
    "                x_ = x_[\n",
    "                    :,\n",
    "                    :,\n",
    "                    self.cutoff_edge_width: -self.cutoff_edge_width,\n",
    "                    self.cutoff_edge_width: -self.cutoff_edge_width,\n",
    "                ]\n",
    "            x_ = (x_ - x_.mean(dim=(2, 3), keepdim=True)) / x_.std(dim=(2, 3), keepdim=True)\n",
    "\n",
    "            return x_\n",
    "\n",
    "    \n",
    "    def run(self):\n",
    "        import numpy as np\n",
    "        import pickle\n",
    "#         import __blocks.dataset as dataset\n",
    "#         import __blocks.models as models\n",
    "#         import __blocks.preprocessor as preprocessor\n",
    "        from razor.api import project_space_path\n",
    "        \n",
    "        np.random.seed(self.config[\"seed\"])\n",
    "        paths = self.config[\"paths\"]\n",
    "        model_params = self.config[\"model_params\"]\n",
    "    \n",
    "        print(\"In basic preprocessing...\")\n",
    "        preprocesses = []\n",
    "        preprocesses.append(Resize((256, 256)))\n",
    "        preprocesses.append(Gray2RGB())\n",
    "        preprocesses.append(HWC2CHW())\n",
    "        preprocesses.append(DivideBy255())\n",
    "        preprocesses.append(TransformForTorchModel())\n",
    "        print(\"Basic preprocessing and Torch conversion DONE...\")\n",
    "\n",
    "        print(\"Entering model preprocessing...\")\n",
    "        model_preprocesses = []\n",
    "        model_preprocesses.append(ToTensor())\n",
    "        model_preprocesses.append(\n",
    "            VGG16ScaledFeatures(\n",
    "                last_layer=22, cutoff_edge_width=model_params[\"cutoff_edge_width\"]\n",
    "            )\n",
    "        )\n",
    "        print(\"VGG model feature extraction DONE...\")\n",
    "    \n",
    "        \n",
    "        print(\"Batch Splitting...\")\n",
    "        model_preprocesses.append(\n",
    "            BatchSplitImg(\n",
    "                patch_size=model_params[\"patch_size\"],\n",
    "                stride=model_params[\"stride\"],\n",
    "            )\n",
    "        )\n",
    "        \n",
    "        path1 = project_space_path(\"preprocesses.pickle\")\n",
    "        pickle_out = open(path1, \"wb\")\n",
    "        pickle.dump(preprocesses, pickle_out)\n",
    "        pickle_out.close()\n",
    "        \n",
    "        path2 = project_space_path(\"model_preprocesses.pickle\")\n",
    "        pickle_out = open(path2, \"wb\")\n",
    "        pickle.dump(model_preprocesses, pickle_out)\n",
    "        pickle_out.close()\n",
    "        \n",
    "        print(\"Batch Splitting DONE...\")\n",
    "        \n",
    "        self.prepro.put(path1)\n",
    "        self.model_prepro.put(path2)\n",
    "        "
   ]
  },
  {
   "cell_type": "code",
   "execution_count": 9,
   "metadata": {},
   "outputs": [],
   "source": [
    "# import __blocks.dataset as dataset"
   ]
  },
  {
   "cell_type": "code",
   "execution_count": 10,
   "metadata": {},
   "outputs": [],
   "source": [
    "@rf.block(executor=rf.ProcessExecutor)\n",
    "# @rf.block(executor=rf.ContainerExecutor(cores=2, memory=5000))\n",
    "class Runner:\n",
    "    mode: t.Any\n",
    "    config: t.Any\n",
    "    preprocesses_path: t.Any\n",
    "    model_preprocesses_path: t.Any\n",
    "        \n",
    "    __libs__ = [lib1]\n",
    "    \n",
    "    class MVTecDataset(object):\n",
    "        def __init__(\n",
    "                self, is_train, dir_env, is_positive=True, preprocessor=None,\n",
    "        ):\n",
    "\n",
    "            ext = dir_env[\"ext\"]\n",
    "            root = dir_env[\"root\"]\n",
    "            train_good_dir = dir_env[\"train_good_dir\"]\n",
    "            test_good_dir = dir_env[\"test_good_dir\"]\n",
    "            test_bad_dir = dir_env[\"test_bad_dir\"]\n",
    "            self.preprocessor = preprocessor\n",
    "\n",
    "            print(\"£\"*20, root)\n",
    "            logging.info(\"£\"*20, root)\n",
    "\n",
    "            if ext[0] != \".\":\n",
    "                ext = \".\" + ext\n",
    "\n",
    "            if is_train:\n",
    "                dir_name = train_good_dir\n",
    "            elif not is_positive:\n",
    "                dir_name = test_good_dir\n",
    "            elif test_bad_dir:\n",
    "                dir_name = test_bad_dir\n",
    "            else:\n",
    "                dir_name = None\n",
    "                excp_name = test_good_dir\n",
    "\n",
    "            if dir_name:\n",
    "                dir_path = os.path.abspath(os.path.join(root, dir_name))\n",
    "                print('********', dir_path, dir_name)\n",
    "                logging.info('********', dir_path, dir_name)\n",
    "                dir_parent_path = os.path.dirname(dir_path)\n",
    "                dir_name = os.path.basename(dir_path)\n",
    "                self.dataset = self.load_dataset(dir_parent_path, dir_name, ext)\n",
    "            else:\n",
    "                dir_path = os.path.abspath(os.path.join(root, excp_name))\n",
    "                dir_parent_path = os.path.dirname(dir_path)\n",
    "                dirs = [\n",
    "                    d\n",
    "                    for d in os.listdir(dir_parent_path)\n",
    "                    if d not in excp_name\n",
    "                ]\n",
    "                self.dataset = []\n",
    "                for dir_name in dirs:\n",
    "                    self.dataset.extend(self.load_dataset(\n",
    "                        dir_parent_path, dir_name, ext))\n",
    "\n",
    "        def load_dataset(self, dir_parent_path, dir_name, ext):\n",
    "\n",
    "            return [\n",
    "                (dir_name, f, cv2.imread(os.path.join(\n",
    "                    dir_parent_path, dir_name, f))\n",
    "                 [:, :, [2, 1, 0]])\n",
    "                for f in tqdm(\n",
    "                    os.listdir(os.path.join(dir_parent_path, dir_name)),\n",
    "                    desc=\"loading images\"\n",
    "                )\n",
    "                if ext in f\n",
    "            ]\n",
    "\n",
    "        def __len__(self):\n",
    "            return len(self.dataset)\n",
    "\n",
    "        def __getitem__(self, idx):\n",
    "            sample = self.dataset[idx][2]\n",
    "\n",
    "            if self.preprocessor:\n",
    "                for p in self.preprocessor:\n",
    "                    sample = p(sample)\n",
    "\n",
    "            return (self.dataset[idx][0], self.dataset[idx][1], sample)\n",
    "\n",
    "\n",
    "    class DataLoader(object):\n",
    "        def __init__(self, dataset, batch_size, shuffle, drop_last):\n",
    "            self.dataset = dataset\n",
    "            self.batch_size = batch_size\n",
    "            self.shuffle = shuffle\n",
    "            self.drop_last = drop_last\n",
    "            self.counter = 0\n",
    "            self.idxs = numpy.arange(len(self.dataset))\n",
    "\n",
    "        def __len__(self):\n",
    "            return len(self.dataset)\n",
    "\n",
    "        def __iter__(self):\n",
    "            return self\n",
    "\n",
    "        def __next__(self):\n",
    "            if self.counter == 0 and self.shuffle:\n",
    "                numpy.random.shuffle(self.idxs)\n",
    "\n",
    "            if (\n",
    "                self.counter + self.batch_size > len(self.dataset)\n",
    "                and self.drop_last\n",
    "            ):\n",
    "                self.counter = 0\n",
    "                raise StopIteration()\n",
    "\n",
    "            if self.counter >= len(self.dataset):\n",
    "                self.counter = 0\n",
    "                raise StopIteration()\n",
    "\n",
    "            batch = []\n",
    "            for idx in self.idxs[self.counter: self.counter + self.batch_size]:\n",
    "                batch.append(self.dataset[idx][2])\n",
    "\n",
    "            self.counter += self.batch_size\n",
    "            print(\"counter\", self.counter)\n",
    "\n",
    "            return self.dataset[idx][0], self.dataset[idx][1], numpy.stack(batch)\n",
    "\n",
    "    \n",
    "    class SparseCodingWithMultiDict(object):\n",
    "        def __init__(\n",
    "            self,\n",
    "            preprocesses,\n",
    "            model_env,\n",
    "            train_loader=None,\n",
    "            test_neg_loader=None,\n",
    "            test_pos_loader=None,\n",
    "        ):\n",
    "\n",
    "            self.preprocesses = preprocesses\n",
    "\n",
    "            self.num_of_basis = model_env[\"num_of_basis\"]\n",
    "            self.alpha = model_env[\"alpha\"]\n",
    "            self.transform_algorithm = model_env[\"transform_algorithm\"]\n",
    "            self.transform_alpha = model_env[\"transform_alpha\"]\n",
    "            self.fit_algorithm = model_env[\"fit_algorithm\"]\n",
    "            self.n_iter = model_env[\"n_iter\"]\n",
    "            self.num_of_nonzero = model_env[\"num_of_nonzero\"]\n",
    "            self.use_ssim = model_env[\"use_ssim\"]\n",
    "\n",
    "            self.cutoff_edge_width = model_env[\"cutoff_edge_width\"]\n",
    "            self.patch_size = model_env[\"patch_size\"]\n",
    "            self.stride = model_env[\"stride\"]\n",
    "            self.num_of_ch = model_env[\"num_of_ch\"]\n",
    "            self.output_npy = model_env[\"output_npy\"]\n",
    "\n",
    "            self.org_l = int(256 / 8.0) - self.cutoff_edge_width * 2\n",
    "\n",
    "            self.train_loader = train_loader\n",
    "            self.test_neg_loader = test_neg_loader\n",
    "            self.test_pos_loader = test_pos_loader\n",
    "            self.output_path = model_env[\"output_path\"]\n",
    "\n",
    "            self.dictionaries = None\n",
    "\n",
    "        def train(self):\n",
    "            arrs = []\n",
    "            for batch_data in self.train_loader:\n",
    "                batch_img = batch_data[2]\n",
    "                for p in self.preprocesses:\n",
    "                    batch_img = p(batch_img)\n",
    "                N, P, C, H, W = batch_img.shape\n",
    "                batch_arr = batch_img.reshape(N * P, C, H * W)\n",
    "                arrs.append(batch_arr)\n",
    "\n",
    "            train_arr = numpy.concatenate(arrs, axis=0)\n",
    "\n",
    "            self.dictionaries = [\n",
    "                MiniBatchDictionaryLearning(\n",
    "                    n_components=self.num_of_basis,\n",
    "                    alpha=self.alpha,\n",
    "                    transform_algorithm=self.transform_algorithm,\n",
    "                    transform_alpha=self.transform_alpha,\n",
    "                    fit_algorithm=self.fit_algorithm,\n",
    "                    n_iter=self.n_iter,\n",
    "                )\n",
    "                .fit(train_arr[:, i, :])\n",
    "                .components_\n",
    "                for i in tqdm(range(C), desc=\"learning dictionary\")\n",
    "            ]\n",
    "            print(\"learned.\")\n",
    "\n",
    "        def save_dict(self, file_path):\n",
    "            with open(file_path, \"wb\") as f:\n",
    "                pickle.dump(self.dictionaries, f)\n",
    "\n",
    "        def load_dict(self, file_path):\n",
    "            with open(file_path, \"rb\") as f:\n",
    "                self.dictionaries = pickle.load(f)\n",
    "\n",
    "        def test(self):\n",
    "            C = len(self.dictionaries)\n",
    "            coders = [\n",
    "                SparseCoder(\n",
    "                    dictionary=self.dictionaries[i],\n",
    "                    transform_algorithm=self.transform_algorithm,\n",
    "                    transform_n_nonzero_coefs=self.num_of_nonzero,\n",
    "                )\n",
    "                for i in range(C)\n",
    "            ]\n",
    "\n",
    "            neg_err = self.calculate_error(coders=coders, is_positive=False)\n",
    "            pos_err = self.calculate_error(coders=coders, is_positive=True)\n",
    "\n",
    "            ap, auc = self.calculate_score(neg_err, pos_err)\n",
    "            print(\"\\nTest set: AP: {:.4f}, AUC: {:.4f}\\n\".format(ap, auc))\n",
    "\n",
    "        def calculate_error(self, coders, is_positive):\n",
    "            if is_positive:\n",
    "                loader = self.test_pos_loader\n",
    "            else:\n",
    "                loader = self.test_neg_loader\n",
    "\n",
    "            errs = []\n",
    "            top_5 = numpy.zeros(len(self.dictionaries))\n",
    "\n",
    "            random.seed(0)\n",
    "            dict_order = list(range(896))\n",
    "            random.shuffle(dict_order)\n",
    "\n",
    "            for batch_data in tqdm(loader, desc=\"testing\"):\n",
    "\n",
    "                batch_path, batch_name, batch_img = batch_data\n",
    "                p_batch_img = batch_img\n",
    "                for p in self.preprocesses:\n",
    "                    p_batch_img = p(p_batch_img)\n",
    "\n",
    "                for p_img, org_img in zip(p_batch_img, batch_img):\n",
    "\n",
    "                    P, C, H, W = p_img.shape\n",
    "                    img_arr = p_img.reshape(P, C, H * W)\n",
    "                    f_diff = numpy.zeros((1, self.org_l, self.org_l))\n",
    "\n",
    "                    ch_err = []\n",
    "                    for num in range(self.num_of_ch):\n",
    "                        i = dict_order[num]\n",
    "                        target_arr = img_arr[:, i]\n",
    "                        coefs = coders[i].transform(target_arr)\n",
    "                        rcn_arr = coefs.dot(self.dictionaries[i])\n",
    "\n",
    "                        f_img_org = self.reconst_from_array(target_arr)\n",
    "                        f_img_rcn = self.reconst_from_array(rcn_arr)\n",
    "                        f_diff += numpy.square((f_img_org - f_img_rcn) / 1.5)\n",
    "\n",
    "                        if not self.use_ssim:\n",
    "                            err = numpy.sum((target_arr - rcn_arr) ** 2, axis=1)\n",
    "                        else:\n",
    "                            err = self.calc_ssim(img_arr, rcn_arr, (P, C, H, W))\n",
    "                        sorted_err = numpy.sort(err)[::-1]\n",
    "                        total_err = numpy.sum(sorted_err[:5])\n",
    "                        ch_err.append(total_err)\n",
    "\n",
    "                    top_5[numpy.argsort(ch_err)[::-1][:5]] += 1\n",
    "                    errs.append(numpy.sum(ch_err))\n",
    "                    f_diff /= self.num_of_ch\n",
    "                    if self.output_npy:\n",
    "                        self.output_np_array(batch_path, batch_name, f_diff)\n",
    "                    else:\n",
    "                        visualized_out = self.visualize(org_img, f_diff)\n",
    "                        self.output_image(batch_path, batch_name,\n",
    "                                          ch_err, visualized_out)\n",
    "            return errs\n",
    "\n",
    "        def output_np_array(self, batch_path, batch_name, f_diff):\n",
    "\n",
    "            output_path = os.path.join(op, batch_path)\n",
    "            os.makedirs(output_path, exist_ok=True)\n",
    "            numpy.save(os.path.join(\n",
    "                output_path, batch_name.split(\".\")[0] + \".npy\"), f_diff)\n",
    "\n",
    "        def output_image(self, batch_path, batch_name, ch_err, visualized_out):\n",
    "            op = self.output_path\n",
    "            output_path = os.path.join(op, batch_path)\n",
    "            os.makedirs(output_path, exist_ok=True)\n",
    "\n",
    "            cv2.imwrite(\n",
    "                os.path.join(\n",
    "                    output_path,\n",
    "                    batch_name.split(\".\")[0] + \"-\" +\n",
    "                    str(int(numpy.sum(ch_err))) + \".png\",\n",
    "                ),\n",
    "                visualized_out,\n",
    "            )\n",
    "\n",
    "        def calculate_ssim(self, img_arr, rcn_arr, dim):\n",
    "            P, C, H, W = dim\n",
    "            return [\n",
    "                -1\n",
    "                * structural_similarity(\n",
    "                    img_arr[p, c].reshape(H, W),\n",
    "                    rcn_arr[p, c].reshape(H, W),\n",
    "                    win_size=11,\n",
    "                    data_range=1.0,\n",
    "                    gaussian_weights=True,\n",
    "                )\n",
    "                for p in range(P)\n",
    "                for c in range(C)\n",
    "            ]\n",
    "\n",
    "        def visualize(self, org_img, f_diff):\n",
    "            color_map = plt.get_cmap(\"viridis\")\n",
    "            heatmap = numpy.uint8(color_map(f_diff[0])[:, :, :3] * 255)\n",
    "            transposed = org_img.transpose(1, 2, 0)[:, :, [2, 1, 0]]\n",
    "            resized = cv2.resize(\n",
    "                heatmap, (transposed.shape[0], transposed.shape[1])\n",
    "            )\n",
    "            blended = cv2.addWeighted(\n",
    "                transposed, 1.0, resized, 0.01, 2.2, dtype=cv2.CV_32F\n",
    "            )\n",
    "            blended_normed = (\n",
    "                255 * (blended - blended.min()) /\n",
    "                (blended.max() - blended.min())\n",
    "            )\n",
    "            blended_out = numpy.array(blended_normed, numpy.int)\n",
    "            return blended_out\n",
    "\n",
    "        def calculate_score(self, dn, dp):\n",
    "            N = len(dn)\n",
    "            y_score = numpy.concatenate([dn, dp])\n",
    "            y_true = numpy.zeros(len(y_score), dtype=numpy.int32)\n",
    "            y_true[N:] = 1\n",
    "            return average_precision_score(y_true, y_score),\\\n",
    "                roc_auc_score(y_true, y_score)\n",
    "\n",
    "        def reconst_from_array(self, arrs):\n",
    "            rcn = numpy.zeros((1, self.org_l, self.org_l))\n",
    "            arr_iter = iter(arrs)\n",
    "            for ty in range(0, self.org_l - self.patch_size + 1, self.stride):\n",
    "                for tx in range(0, self.org_l - self.patch_size + 1, self.stride):\n",
    "                    arr = next(arr_iter)\n",
    "                    rcn[:, ty: ty + self.patch_size, tx: tx + self.patch_size] =\\\n",
    "                        arr.reshape(\n",
    "                        1, self.patch_size, self.patch_size\n",
    "                    )\n",
    "            return rcn\n",
    "\n",
    "        \n",
    "    def run(self):\n",
    "        import numpy as np\n",
    "        import pickle\n",
    "#         import __blocks.dataset as dataset\n",
    "#         import __blocks.models as models\n",
    "#         import __blocks.preprocessor as preprocessor\n",
    "        from razor.api import project_space_path\n",
    "        \n",
    "        np.random.seed(self.config[\"seed\"])\n",
    "        paths = self.config[\"paths\"]\n",
    "        model_params = self.config[\"model_params\"]\n",
    "    \n",
    "        pickle_in = open(self.preprocesses_path,\"rb\")\n",
    "        preprocesses = pickle.load(pickle_in)\n",
    "        \n",
    "        pickle_in1 = open(self.model_preprocesses_path,\"rb\")\n",
    "        model_preprocesses = pickle.load(pickle_in1)\n",
    "    \n",
    "        if self.mode == \"train\":\n",
    "            print(\"In train...\")\n",
    "\n",
    "            train_dataset = MVTecDataset(\n",
    "                is_train=True,\n",
    "                dir_env=paths,\n",
    "                preprocessor=preprocesses,\n",
    "            )\n",
    "            train_loader = DataLoader(\n",
    "                train_dataset,\n",
    "                batch_size=model_params[\"batch_size\"],\n",
    "                shuffle=True,\n",
    "                drop_last=False,\n",
    "            )\n",
    "\n",
    "            model = SparseCodingWithMultiDict(\n",
    "                preprocesses=model_preprocesses,\n",
    "                model_env=model_params,\n",
    "                train_loader=train_loader,\n",
    "            )\n",
    "            \n",
    "            print(\"Starting training...\")\n",
    "            model.train()\n",
    "            print(\"Training Done...saving dict\")\n",
    "            model.save_dict(paths[\"dict_file\"])\n",
    "            print(\"Dict saved...\")\n",
    "\n",
    "        elif self.mode == \"test\":\n",
    "            test_neg_dataset = MVTecDataset(\n",
    "                is_train=False,\n",
    "                dir_env=paths,\n",
    "                is_positive=False,\n",
    "                preprocessor=preprocesses,\n",
    "            )\n",
    "            test_pos_dataset = MVTecDataset(\n",
    "                is_train=False,\n",
    "                dir_env=paths,\n",
    "                is_positive=True,\n",
    "                preprocessor=preprocesses,\n",
    "            )\n",
    "\n",
    "            test_neg_loader = DataLoader(\n",
    "                test_neg_dataset, batch_size=1, shuffle=False, drop_last=False\n",
    "            )\n",
    "            test_pos_loader = DataLoader(\n",
    "                test_pos_dataset, batch_size=1, shuffle=False, drop_last=False\n",
    "            )\n",
    "\n",
    "            model = SparseCodingWithMultiDict(\n",
    "                preprocesses=model_preprocesses,\n",
    "                model_env=model_params,\n",
    "                test_neg_loader=test_neg_loader,\n",
    "                test_pos_loader=test_pos_loader,\n",
    "            )\n",
    "            \n",
    "            print(\"Loading dict...\")\n",
    "            model.load_dict(paths[\"dict_file\"])\n",
    "            print(\"Dict loaded...Starting Inference\")\n",
    "            model.test()\n",
    "            print(\"DONE...\")\n",
    "            \n",
    "            "
   ]
  },
  {
   "cell_type": "code",
   "execution_count": null,
   "metadata": {},
   "outputs": [],
   "source": []
  },
  {
   "cell_type": "code",
   "execution_count": 11,
   "metadata": {},
   "outputs": [],
   "source": [
    "get_configs = GetConfigs(material='grid')\n",
    "\n",
    "preprocess = Preprocess(config=get_configs.config)\n",
    "\n",
    "runner = Runner(model_preprocesses_path=preprocess.model_prepro, preprocesses_path=preprocess.prepro, config=get_configs.config, mode=\"test\")\n"
   ]
  },
  {
   "cell_type": "code",
   "execution_count": 12,
   "metadata": {},
   "outputs": [],
   "source": [
    "p = rf.Pipeline(\"sparse_encoding\", targets=[runner])  #preprocess"
   ]
  },
  {
   "cell_type": "code",
   "execution_count": 13,
   "metadata": {},
   "outputs": [
    {
     "data": {
      "application/vnd.razorthink.interactive+pipeline+view+json": {
       "blocks": [
        {
         "class_name": "Preprocess",
         "id": "de18061c-804a-477c-990a-c26939abef64",
         "inputs": [
          {
           "default": null,
           "flow": "atomic",
           "help": null,
           "label": "config",
           "name": "config",
           "series": false,
           "type": "Any",
           "type_check": true
          }
         ],
         "outputs": [
          {
           "flow": "atomic",
           "help": null,
           "label": "prepro",
           "name": "prepro",
           "series": false,
           "type": "Any",
           "type_check": true
          },
          {
           "flow": "atomic",
           "help": null,
           "label": "model_prepro",
           "name": "model_prepro",
           "series": false,
           "type": "Any",
           "type_check": true
          }
         ],
         "overwritten": false,
         "var_names": [
          "Preprocess"
         ]
        },
        {
         "class_name": "GetConfigs",
         "id": "456cb3cc-d6ec-428a-a8d5-22d02731c11b",
         "inputs": [
          {
           "default": null,
           "flow": "atomic",
           "help": null,
           "label": "material",
           "name": "material",
           "series": false,
           "type": "Any",
           "type_check": true
          }
         ],
         "outputs": [
          {
           "flow": "atomic",
           "help": null,
           "label": "config",
           "name": "config",
           "series": false,
           "type": "Any",
           "type_check": true
          }
         ],
         "overwritten": false,
         "var_names": [
          "GetConfigs"
         ]
        },
        {
         "class_name": "Runner",
         "id": "0e87cc41-a1e7-4774-ab6b-0f343f61005c",
         "inputs": [
          {
           "default": null,
           "flow": "atomic",
           "help": null,
           "label": "mode",
           "name": "mode",
           "series": false,
           "type": "Any",
           "type_check": true
          },
          {
           "default": null,
           "flow": "atomic",
           "help": null,
           "label": "config",
           "name": "config",
           "series": false,
           "type": "Any",
           "type_check": true
          },
          {
           "default": null,
           "flow": "atomic",
           "help": null,
           "label": "preprocesses_path",
           "name": "preprocesses_path",
           "series": false,
           "type": "Any",
           "type_check": true
          },
          {
           "default": null,
           "flow": "atomic",
           "help": null,
           "label": "model_preprocesses_path",
           "name": "model_preprocesses_path",
           "series": false,
           "type": "Any",
           "type_check": true
          }
         ],
         "outputs": [],
         "overwritten": false,
         "var_names": [
          "Runner"
         ]
        }
       ],
       "connections": [
        {
         "id": "1ce00354-6c00-4cc0-b847-b71841499559",
         "source": {
          "adapter": false,
          "instance_id": "2a495d5e-a38c-4fe8-a0e2-fa91ade0d4a8",
          "name": "config"
         },
         "target": {
          "adapter": false,
          "instance_id": "6da48c80-2475-4894-bd13-5feb6bc80cd2",
          "name": "config"
         }
        },
        {
         "id": "91b7377c-ccdb-4f0b-8f10-18f7d0774abd",
         "source": {
          "adapter": false,
          "instance_id": "6da48c80-2475-4894-bd13-5feb6bc80cd2",
          "name": "model_prepro"
         },
         "target": {
          "adapter": false,
          "instance_id": "b10003bc-3747-4913-9946-02ffa0ad9958",
          "name": "model_preprocesses_path"
         }
        },
        {
         "id": "352fe7b8-bfd8-4d52-97bd-4a79b84c290f",
         "source": {
          "adapter": false,
          "instance_id": "6da48c80-2475-4894-bd13-5feb6bc80cd2",
          "name": "prepro"
         },
         "target": {
          "adapter": false,
          "instance_id": "b10003bc-3747-4913-9946-02ffa0ad9958",
          "name": "preprocesses_path"
         }
        },
        {
         "id": "02f824db-ff9f-43ed-885a-b12192f572a8",
         "source": {
          "adapter": false,
          "instance_id": "2a495d5e-a38c-4fe8-a0e2-fa91ade0d4a8",
          "name": "config"
         },
         "target": {
          "adapter": false,
          "instance_id": "b10003bc-3747-4913-9946-02ffa0ad9958",
          "name": "config"
         }
        }
       ],
       "id": "cfe20904-c4cd-4be7-927f-0e5fceab85c3",
       "instances": [
        {
         "block_class": "0e87cc41-a1e7-4774-ab6b-0f343f61005c",
         "id": "b10003bc-3747-4913-9946-02ffa0ad9958",
         "name": "Runner_1",
         "var_names": [
          "runner"
         ]
        },
        {
         "block_class": "456cb3cc-d6ec-428a-a8d5-22d02731c11b",
         "id": "2a495d5e-a38c-4fe8-a0e2-fa91ade0d4a8",
         "name": "GetConfigs_1",
         "var_names": [
          "get_configs"
         ]
        },
        {
         "block_class": "de18061c-804a-477c-990a-c26939abef64",
         "id": "6da48c80-2475-4894-bd13-5feb6bc80cd2",
         "name": "Preprocess_1",
         "var_names": [
          "preprocess"
         ]
        }
       ],
       "name": "sparse_encoding",
       "var_names": []
      },
      "image/svg+xml": [
       "<?xml version=\"1.0\" encoding=\"UTF-8\" standalone=\"no\"?>\n",
       "<!DOCTYPE svg PUBLIC \"-//W3C//DTD SVG 1.1//EN\"\n",
       " \"http://www.w3.org/Graphics/SVG/1.1/DTD/svg11.dtd\">\n",
       "<!-- Generated by graphviz version 2.40.1 (20161225.0304)\n",
       " -->\n",
       "<!-- Title: %3 Pages: 1 -->\n",
       "<svg width=\"462pt\" height=\"210pt\"\n",
       " viewBox=\"0.00 0.00 462.12 210.00\" xmlns=\"http://www.w3.org/2000/svg\" xmlns:xlink=\"http://www.w3.org/1999/xlink\">\n",
       "<g id=\"graph0\" class=\"graph\" transform=\"scale(1 1) rotate(0) translate(4 206)\">\n",
       "<title>%3</title>\n",
       "<polygon fill=\"#ffffff\" stroke=\"transparent\" points=\"-4,4 -4,-206 458.1221,-206 458.1221,4 -4,4\"/>\n",
       "<!-- Runner(&#39;Runner_1&#39;) -->\n",
       "<g id=\"node1\" class=\"node\">\n",
       "<title>Runner(&#39;Runner_1&#39;)</title>\n",
       "<ellipse fill=\"none\" stroke=\"#000000\" cx=\"104.1221\" cy=\"-18\" rx=\"64.3289\" ry=\"18\"/>\n",
       "<text text-anchor=\"middle\" x=\"104.1221\" y=\"-15.5\" font-family=\"Helvetica,sans-Serif\" font-size=\"10.00\" fill=\"#000000\">Runner(&#39;Runner_1&#39;)</text>\n",
       "</g>\n",
       "<!-- GetConfigs(&#39;GetConfigs_1&#39;) -->\n",
       "<g id=\"node2\" class=\"node\">\n",
       "<title>GetConfigs(&#39;GetConfigs_1&#39;)</title>\n",
       "<ellipse fill=\"none\" stroke=\"#000000\" cx=\"87.1221\" cy=\"-184\" rx=\"87.2444\" ry=\"18\"/>\n",
       "<text text-anchor=\"middle\" x=\"87.1221\" y=\"-181.5\" font-family=\"Helvetica,sans-Serif\" font-size=\"10.00\" fill=\"#000000\">GetConfigs(&#39;GetConfigs_1&#39;)</text>\n",
       "</g>\n",
       "<!-- GetConfigs(&#39;GetConfigs_1&#39;)&#45;&gt;Runner(&#39;Runner_1&#39;) -->\n",
       "<g id=\"edge1\" class=\"edge\">\n",
       "<title>GetConfigs(&#39;GetConfigs_1&#39;)&#45;&gt;Runner(&#39;Runner_1&#39;)</title>\n",
       "<path fill=\"none\" stroke=\"#000000\" d=\"M83.2316,-165.9775C79.4561,-145.663 74.9889,-111.7224 80.1221,-83 82.3974,-70.2692 86.9942,-56.7676 91.5616,-45.3879\"/>\n",
       "<polygon fill=\"#000000\" stroke=\"#000000\" points=\"94.8566,-46.5812 95.5086,-36.0065 88.4044,-43.8666 94.8566,-46.5812\"/>\n",
       "<text text-anchor=\"middle\" x=\"115.6221\" y=\"-98.5\" font-family=\"Helvetica,sans-Serif\" font-size=\"10.00\" fill=\"#000000\">config&#45;&gt;config</text>\n",
       "</g>\n",
       "<!-- Preprocess(&#39;Preprocess_1&#39;) -->\n",
       "<g id=\"node3\" class=\"node\">\n",
       "<title>Preprocess(&#39;Preprocess_1&#39;)</title>\n",
       "<ellipse fill=\"none\" stroke=\"#000000\" cx=\"247.1221\" cy=\"-101\" rx=\"87.2444\" ry=\"18\"/>\n",
       "<text text-anchor=\"middle\" x=\"247.1221\" y=\"-98.5\" font-family=\"Helvetica,sans-Serif\" font-size=\"10.00\" fill=\"#000000\">Preprocess(&#39;Preprocess_1&#39;)</text>\n",
       "</g>\n",
       "<!-- GetConfigs(&#39;GetConfigs_1&#39;)&#45;&gt;Preprocess(&#39;Preprocess_1&#39;) -->\n",
       "<g id=\"edge2\" class=\"edge\">\n",
       "<title>GetConfigs(&#39;GetConfigs_1&#39;)&#45;&gt;Preprocess(&#39;Preprocess_1&#39;)</title>\n",
       "<path fill=\"none\" stroke=\"#000000\" d=\"M119.5005,-167.2037C144.332,-154.3223 178.7878,-136.4484 205.6395,-122.5191\"/>\n",
       "<polygon fill=\"#000000\" stroke=\"#000000\" points=\"207.5269,-125.483 214.7919,-117.7713 204.3035,-119.2693 207.5269,-125.483\"/>\n",
       "<text text-anchor=\"middle\" x=\"211.6221\" y=\"-140\" font-family=\"Helvetica,sans-Serif\" font-size=\"10.00\" fill=\"#000000\">config&#45;&gt;config</text>\n",
       "</g>\n",
       "<!-- Preprocess(&#39;Preprocess_1&#39;)&#45;&gt;Runner(&#39;Runner_1&#39;) -->\n",
       "<g id=\"edge3\" class=\"edge\">\n",
       "<title>Preprocess(&#39;Preprocess_1&#39;)&#45;&gt;Runner(&#39;Runner_1&#39;)</title>\n",
       "<path fill=\"none\" stroke=\"#000000\" d=\"M183.526,-88.5523C148.2217,-81.0056 110.3661,-71.5935 105.1221,-65 100.988,-59.8021 99.3811,-53.1597 99.1124,-46.5164\"/>\n",
       "<polygon fill=\"#000000\" stroke=\"#000000\" points=\"102.6202,-46.4451 99.621,-36.2836 95.6288,-46.0976 102.6202,-46.4451\"/>\n",
       "<text text-anchor=\"middle\" x=\"173.1221\" y=\"-57\" font-family=\"Helvetica,sans-Serif\" font-size=\"10.00\" fill=\"#000000\">prepro&#45;&gt;preprocesses_path</text>\n",
       "</g>\n",
       "<!-- Preprocess(&#39;Preprocess_1&#39;)&#45;&gt;Runner(&#39;Runner_1&#39;) -->\n",
       "<g id=\"edge4\" class=\"edge\">\n",
       "<title>Preprocess(&#39;Preprocess_1&#39;)&#45;&gt;Runner(&#39;Runner_1&#39;)</title>\n",
       "<path fill=\"none\" stroke=\"#000000\" d=\"M249.3414,-82.9754C249.5199,-73.2969 247.9596,-61.7895 241.1221,-54 231.4294,-42.9577 200.9369,-34.3804 171.1736,-28.3727\"/>\n",
       "<polygon fill=\"#000000\" stroke=\"#000000\" points=\"171.6214,-24.8946 161.139,-26.434 170.2934,-31.7675 171.6214,-24.8946\"/>\n",
       "<text text-anchor=\"middle\" x=\"350.1221\" y=\"-57\" font-family=\"Helvetica,sans-Serif\" font-size=\"10.00\" fill=\"#000000\">model_prepro&#45;&gt;model_preprocesses_path</text>\n",
       "</g>\n",
       "</g>\n",
       "</svg>\n"
      ],
      "text/plain": [
       "<razor.flow.pipeline.Pipeline at 0x7fb48a0887d0>"
      ]
     },
     "execution_count": 13,
     "metadata": {},
     "output_type": "execute_result"
    }
   ],
   "source": [
    "p"
   ]
  },
  {
   "cell_type": "code",
   "execution_count": 14,
   "metadata": {},
   "outputs": [
    {
     "data": {
      "application/vnd.razorthink.run+monitor+json": "/tmp/tmp758s0uot/sparse_encoding",
      "text/plain": [
       "<razor_tools.backend.ipython.mime.run_monitor.RunMonitor at 0x7fb48a19dbd0>"
      ]
     },
     "metadata": {
      "application/vnd.razorthink.run+monitor+json": {
       "run_data": {
        "apm": [
         {
          "cpu_percent": 0,
          "cpu_time": 0.01,
          "name": "Runner_1",
          "real_mem": 171839488,
          "time": 1600675622.6817374
         },
         {
          "cpu_percent": 0,
          "cpu_time": 0.01,
          "name": "Preprocess_1",
          "real_mem": 171876352,
          "time": 1600675622.69278
         },
         {
          "cpu_percent": 0,
          "cpu_time": 0,
          "name": "GetConfigs_1",
          "real_mem": 171884544,
          "time": 1600675622.7036142
         },
         {
          "cpu_percent": 0,
          "cpu_time": 0.01,
          "name": "Runner_1",
          "real_mem": 172998656,
          "time": 1600675622.8150768
         },
         {
          "cpu_percent": 0,
          "cpu_time": 0.01,
          "name": "Preprocess_1",
          "real_mem": 173490176,
          "time": 1600675622.8261425
         },
         {
          "cpu_percent": 0,
          "cpu_time": 0,
          "name": "GetConfigs_1",
          "real_mem": 171884544,
          "time": 1600675622.8372712
         },
         {
          "cpu_percent": 0,
          "cpu_time": 0.01,
          "name": "Runner_1",
          "real_mem": 174997504,
          "time": 1600675622.9488428
         },
         {
          "cpu_percent": 98.8,
          "cpu_time": 0.05,
          "name": "Preprocess_1",
          "real_mem": 190324736,
          "time": 1600675622.95995
         },
         {
          "cpu_percent": 0,
          "cpu_time": 0.01,
          "name": "GetConfigs_1",
          "real_mem": 175140864,
          "time": 1600675622.9708784
         },
         {
          "cpu_percent": 0,
          "cpu_time": 0.01,
          "name": "Runner_1",
          "real_mem": 174997504,
          "time": 1600675623.0826507
         },
         {
          "cpu_percent": 0,
          "cpu_time": 0.18,
          "name": "Preprocess_1",
          "real_mem": 238792704,
          "time": 1600675623.0936728
         },
         {
          "cpu_percent": 0,
          "cpu_time": 0.02,
          "name": "GetConfigs_1",
          "real_mem": 0,
          "time": 1600675623.104661
         },
         {
          "cpu_percent": 0,
          "cpu_time": 0.01,
          "name": "Runner_1",
          "real_mem": 174997504,
          "time": 1600675623.2161894
         },
         {
          "cpu_percent": 98.6,
          "cpu_time": 0.32,
          "name": "Preprocess_1",
          "real_mem": 288862208,
          "time": 1600675623.227384
         },
         {
          "cpu_percent": 0,
          "cpu_time": 0.01,
          "name": "Runner_1",
          "real_mem": 174997504,
          "time": 1600675623.3391387
         },
         {
          "cpu_percent": 98.7,
          "cpu_time": 0.44,
          "name": "Preprocess_1",
          "real_mem": 332926976,
          "time": 1600675623.3502634
         },
         {
          "cpu_percent": 0,
          "cpu_time": 0.01,
          "name": "Runner_1",
          "real_mem": 174997504,
          "time": 1600675623.4619277
         },
         {
          "cpu_percent": 98.4,
          "cpu_time": 0.56,
          "name": "Preprocess_1",
          "real_mem": 376451072,
          "time": 1600675623.4731486
         },
         {
          "cpu_percent": 0,
          "cpu_time": 0.01,
          "name": "Runner_1",
          "real_mem": 174997504,
          "time": 1600675623.5847285
         },
         {
          "cpu_percent": 197.2,
          "cpu_time": 0.69,
          "name": "Preprocess_1",
          "real_mem": 424300544,
          "time": 1600675623.5958326
         },
         {
          "cpu_percent": 0,
          "cpu_time": 0.01,
          "name": "Runner_1",
          "real_mem": 174997504,
          "time": 1600675623.7073703
         },
         {
          "cpu_percent": 98.8,
          "cpu_time": 0.81,
          "name": "Preprocess_1",
          "real_mem": 473231360,
          "time": 1600675623.7183588
         },
         {
          "cpu_percent": 0,
          "cpu_time": 0.01,
          "name": "Runner_1",
          "real_mem": 174997504,
          "time": 1600675623.8297412
         },
         {
          "cpu_percent": 98.8,
          "cpu_time": 0.93,
          "name": "Preprocess_1",
          "real_mem": 523513856,
          "time": 1600675623.8406374
         },
         {
          "cpu_percent": 0,
          "cpu_time": 0.01,
          "name": "Runner_1",
          "real_mem": 174997504,
          "time": 1600675623.952142
         },
         {
          "cpu_percent": 0,
          "cpu_time": 1.05,
          "name": "Preprocess_1",
          "real_mem": 573255680,
          "time": 1600675623.9637063
         },
         {
          "cpu_percent": 0,
          "cpu_time": 0.01,
          "name": "Runner_1",
          "real_mem": 174997504,
          "time": 1600675624.0751922
         },
         {
          "cpu_percent": 197.5,
          "cpu_time": 1.18,
          "name": "Preprocess_1",
          "real_mem": 620834816,
          "time": 1600675624.0862753
         },
         {
          "cpu_percent": 0,
          "cpu_time": 0.01,
          "name": "Runner_1",
          "real_mem": 174997504,
          "time": 1600675624.1978633
         },
         {
          "cpu_percent": 98.8,
          "cpu_time": 1.3,
          "name": "Preprocess_1",
          "real_mem": 668352512,
          "time": 1600675624.2088592
         },
         {
          "cpu_percent": 0,
          "cpu_time": 0.01,
          "name": "Runner_1",
          "real_mem": 174997504,
          "time": 1600675624.3203666
         },
         {
          "cpu_percent": 98.7,
          "cpu_time": 1.42,
          "name": "Preprocess_1",
          "real_mem": 716201984,
          "time": 1600675624.3315117
         },
         {
          "cpu_percent": 0,
          "cpu_time": 0.01,
          "name": "Runner_1",
          "real_mem": 174997504,
          "time": 1600675624.443187
         },
         {
          "cpu_percent": 197.4,
          "cpu_time": 1.55,
          "name": "Preprocess_1",
          "real_mem": 759304192,
          "time": 1600675624.45439
         },
         {
          "cpu_percent": 0,
          "cpu_time": 0.01,
          "name": "Runner_1",
          "real_mem": 174997504,
          "time": 1600675624.565838
         },
         {
          "cpu_percent": 98.7,
          "cpu_time": 1.67,
          "name": "Preprocess_1",
          "real_mem": 803368960,
          "time": 1600675624.5769315
         },
         {
          "cpu_percent": 0,
          "cpu_time": 0.01,
          "name": "Runner_1",
          "real_mem": 174997504,
          "time": 1600675624.6885228
         },
         {
          "cpu_percent": 98.8,
          "cpu_time": 1.79,
          "name": "Preprocess_1",
          "real_mem": 852570112,
          "time": 1600675624.6995778
         },
         {
          "cpu_percent": 0,
          "cpu_time": 0.01,
          "name": "Runner_1",
          "real_mem": 174997504,
          "time": 1600675624.811099
         },
         {
          "cpu_percent": 98.8,
          "cpu_time": 1.91,
          "name": "Preprocess_1",
          "real_mem": 898527232,
          "time": 1600675624.8220963
         },
         {
          "cpu_percent": 0,
          "cpu_time": 0.01,
          "name": "Runner_1",
          "real_mem": 174997504,
          "time": 1600675624.9336343
         },
         {
          "cpu_percent": 0,
          "cpu_time": 2.03,
          "name": "Preprocess_1",
          "real_mem": 949620736,
          "time": 1600675624.9447305
         },
         {
          "cpu_percent": 0,
          "cpu_time": 0.01,
          "name": "Runner_1",
          "real_mem": 174997504,
          "time": 1600675625.0562532
         },
         {
          "cpu_percent": 98.8,
          "cpu_time": 2.16,
          "name": "Preprocess_1",
          "real_mem": 1002336256,
          "time": 1600675625.0672567
         },
         {
          "cpu_percent": 0,
          "cpu_time": 0.01,
          "name": "Runner_1",
          "real_mem": 174997504,
          "time": 1600675625.1787918
         },
         {
          "cpu_percent": 98.7,
          "cpu_time": 2.28,
          "name": "Preprocess_1",
          "real_mem": 1054781440,
          "time": 1600675625.1898477
         },
         {
          "cpu_percent": 0,
          "cpu_time": 0.01,
          "name": "Runner_1",
          "real_mem": 174997504,
          "time": 1600675625.301464
         },
         {
          "cpu_percent": 98.7,
          "cpu_time": 2.4,
          "name": "Preprocess_1",
          "real_mem": 1102630912,
          "time": 1600675625.3124866
         },
         {
          "cpu_percent": 0,
          "cpu_time": 0.01,
          "name": "Runner_1",
          "real_mem": 174997504,
          "time": 1600675625.4241672
         },
         {
          "cpu_percent": 98.8,
          "cpu_time": 2.53,
          "name": "Preprocess_1",
          "real_mem": 1147506688,
          "time": 1600675625.4352736
         },
         {
          "cpu_percent": 0,
          "cpu_time": 0.01,
          "name": "Runner_1",
          "real_mem": 174997504,
          "time": 1600675625.5468285
         },
         {
          "cpu_percent": 98.8,
          "cpu_time": 2.65,
          "name": "Preprocess_1",
          "real_mem": 1195356160,
          "time": 1600675625.5577397
         },
         {
          "cpu_percent": 0,
          "cpu_time": 0.01,
          "name": "Runner_1",
          "real_mem": 174997504,
          "time": 1600675625.6694448
         },
         {
          "cpu_percent": 98.6,
          "cpu_time": 2.77,
          "name": "Preprocess_1",
          "real_mem": 1244016640,
          "time": 1600675625.680908
         },
         {
          "cpu_percent": 0,
          "cpu_time": 0.01,
          "name": "Runner_1",
          "real_mem": 174997504,
          "time": 1600675625.7925603
         },
         {
          "cpu_percent": 0,
          "cpu_time": 2.89,
          "name": "Preprocess_1",
          "real_mem": 1284026368,
          "time": 1600675625.80361
         },
         {
          "cpu_percent": 0,
          "cpu_time": 0.01,
          "name": "Runner_1",
          "real_mem": 174931968,
          "time": 1600675625.9149654
         },
         {
          "cpu_percent": 99,
          "cpu_time": 4.88,
          "name": "Preprocess_1",
          "real_mem": 664276992,
          "time": 1600675625.9258883
         },
         {
          "cpu_percent": 0,
          "cpu_time": 0.01,
          "name": "Runner_1",
          "real_mem": 174931968,
          "time": 1600675626.0373008
         },
         {
          "cpu_percent": 98.8,
          "cpu_time": 5.01,
          "name": "Preprocess_1",
          "real_mem": 230350848,
          "time": 1600675626.0483198
         },
         {
          "cpu_percent": 98.4,
          "cpu_time": 0.05,
          "name": "Runner_1",
          "real_mem": 191987712,
          "time": 1600675626.1602614
         },
         {
          "cpu_percent": 0,
          "cpu_time": 5.09,
          "name": "Preprocess_1",
          "real_mem": 223260672,
          "time": 1600675626.1716697
         },
         {
          "cpu_percent": 197,
          "cpu_time": 0.18,
          "name": "Runner_1",
          "real_mem": 241283072,
          "time": 1600675626.2833824
         },
         {
          "cpu_percent": 0,
          "cpu_time": 5.09,
          "name": "Preprocess_1",
          "real_mem": 223260672,
          "time": 1600675626.294527
         },
         {
          "cpu_percent": 98.7,
          "cpu_time": 0.3,
          "name": "Runner_1",
          "real_mem": 239869952,
          "time": 1600675626.405934
         },
         {
          "cpu_percent": 98.7,
          "cpu_time": 0.41,
          "name": "Runner_1",
          "real_mem": 258793472,
          "time": 1600675626.5174766
         },
         {
          "cpu_percent": 197.4,
          "cpu_time": 0.52,
          "name": "Runner_1",
          "real_mem": 277716992,
          "time": 1600675626.6289675
         },
         {
          "cpu_percent": 98.5,
          "cpu_time": 0.63,
          "name": "Runner_1",
          "real_mem": 290562048,
          "time": 1600675626.7405725
         },
         {
          "cpu_percent": 98.7,
          "cpu_time": 0.74,
          "name": "Runner_1",
          "real_mem": 305971200,
          "time": 1600675626.8521316
         },
         {
          "cpu_percent": 2341,
          "cpu_time": 2.25,
          "name": "Runner_1",
          "real_mem": 373690368,
          "time": 1600675626.9644167
         },
         {
          "cpu_percent": 2561.5,
          "cpu_time": 4.77,
          "name": "Runner_1",
          "real_mem": 384417792,
          "time": 1600675627.0762546
         },
         {
          "cpu_percent": 2963.4,
          "cpu_time": 7.09,
          "name": "Runner_1",
          "real_mem": 432029696,
          "time": 1600675627.1879723
         },
         {
          "cpu_percent": 98.7,
          "cpu_time": 9.01,
          "name": "Runner_1",
          "real_mem": 432181248,
          "time": 1600675627.2995589
         },
         {
          "cpu_percent": 98.1,
          "cpu_time": 9.13,
          "name": "Runner_1",
          "real_mem": 432181248,
          "time": 1600675627.4115863
         },
         {
          "cpu_percent": 0,
          "cpu_time": 9.23,
          "name": "Runner_1",
          "real_mem": 432181248,
          "time": 1600675627.5233843
         },
         {
          "cpu_percent": 98.7,
          "cpu_time": 9.34,
          "name": "Runner_1",
          "real_mem": 432181248,
          "time": 1600675627.6349547
         },
         {
          "cpu_percent": 196.8,
          "cpu_time": 9.47,
          "name": "Runner_1",
          "real_mem": 432181248,
          "time": 1600675627.746762
         },
         {
          "cpu_percent": 197.1,
          "cpu_time": 9.58,
          "name": "Runner_1",
          "real_mem": 432181248,
          "time": 1600675627.8584957
         },
         {
          "cpu_percent": 98.7,
          "cpu_time": 9.69,
          "name": "Runner_1",
          "real_mem": 432181248,
          "time": 1600675627.9700112
         },
         {
          "cpu_percent": 98.7,
          "cpu_time": 9.8,
          "name": "Runner_1",
          "real_mem": 432181248,
          "time": 1600675628.081576
         },
         {
          "cpu_percent": 98.7,
          "cpu_time": 9.91,
          "name": "Runner_1",
          "real_mem": 432181248,
          "time": 1600675628.1933844
         },
         {
          "cpu_percent": 98.5,
          "cpu_time": 10.02,
          "name": "Runner_1",
          "real_mem": 432181248,
          "time": 1600675628.3052905
         },
         {
          "cpu_percent": 98.6,
          "cpu_time": 10.13,
          "name": "Runner_1",
          "real_mem": 432181248,
          "time": 1600675628.4169796
         },
         {
          "cpu_percent": 98.7,
          "cpu_time": 10.24,
          "name": "Runner_1",
          "real_mem": 432181248,
          "time": 1600675628.528527
         },
         {
          "cpu_percent": 98.5,
          "cpu_time": 10.35,
          "name": "Runner_1",
          "real_mem": 432181248,
          "time": 1600675628.6405156
         },
         {
          "cpu_percent": 0,
          "cpu_time": 10.46,
          "name": "Runner_1",
          "real_mem": 432181248,
          "time": 1600675628.7522664
         },
         {
          "cpu_percent": 98.3,
          "cpu_time": 10.58,
          "name": "Runner_1",
          "real_mem": 432181248,
          "time": 1600675628.8640037
         },
         {
          "cpu_percent": 98.9,
          "cpu_time": 10.69,
          "name": "Runner_1",
          "real_mem": 432181248,
          "time": 1600675628.9755888
         },
         {
          "cpu_percent": 98.7,
          "cpu_time": 10.8,
          "name": "Runner_1",
          "real_mem": 432181248,
          "time": 1600675629.0871143
         },
         {
          "cpu_percent": 98,
          "cpu_time": 10.91,
          "name": "Runner_1",
          "real_mem": 432181248,
          "time": 1600675629.1987903
         },
         {
          "cpu_percent": 98.7,
          "cpu_time": 11.02,
          "name": "Runner_1",
          "real_mem": 432181248,
          "time": 1600675629.310505
         },
         {
          "cpu_percent": 98.6,
          "cpu_time": 11.13,
          "name": "Runner_1",
          "real_mem": 432181248,
          "time": 1600675629.4222581
         },
         {
          "cpu_percent": 98.6,
          "cpu_time": 11.24,
          "name": "Runner_1",
          "real_mem": 432181248,
          "time": 1600675629.5340745
         },
         {
          "cpu_percent": 197,
          "cpu_time": 11.37,
          "name": "Runner_1",
          "real_mem": 432181248,
          "time": 1600675629.6458905
         },
         {
          "cpu_percent": 197.7,
          "cpu_time": 11.48,
          "name": "Runner_1",
          "real_mem": 432181248,
          "time": 1600675629.7575881
         },
         {
          "cpu_percent": 98.8,
          "cpu_time": 11.59,
          "name": "Runner_1",
          "real_mem": 432181248,
          "time": 1600675629.8693237
         },
         {
          "cpu_percent": 98.7,
          "cpu_time": 11.7,
          "name": "Runner_1",
          "real_mem": 432181248,
          "time": 1600675629.9809964
         },
         {
          "cpu_percent": 98.6,
          "cpu_time": 11.81,
          "name": "Runner_1",
          "real_mem": 432181248,
          "time": 1600675630.0931118
         },
         {
          "cpu_percent": 98.8,
          "cpu_time": 11.92,
          "name": "Runner_1",
          "real_mem": 432181248,
          "time": 1600675630.2047002
         },
         {
          "cpu_percent": 98.7,
          "cpu_time": 12.03,
          "name": "Runner_1",
          "real_mem": 432181248,
          "time": 1600675630.3162363
         },
         {
          "cpu_percent": 98.3,
          "cpu_time": 12.14,
          "name": "Runner_1",
          "real_mem": 432181248,
          "time": 1600675630.4280112
         },
         {
          "cpu_percent": 0,
          "cpu_time": 12.25,
          "name": "Runner_1",
          "real_mem": 432181248,
          "time": 1600675630.5396214
         },
         {
          "cpu_percent": 197,
          "cpu_time": 12.37,
          "name": "Runner_1",
          "real_mem": 432181248,
          "time": 1600675630.6511765
         },
         {
          "cpu_percent": 196.7,
          "cpu_time": 12.48,
          "name": "Runner_1",
          "real_mem": 432181248,
          "time": 1600675630.7629747
         },
         {
          "cpu_percent": 98.5,
          "cpu_time": 12.59,
          "name": "Runner_1",
          "real_mem": 432181248,
          "time": 1600675630.8748085
         },
         {
          "cpu_percent": 98.6,
          "cpu_time": 12.7,
          "name": "Runner_1",
          "real_mem": 432181248,
          "time": 1600675630.9864917
         },
         {
          "cpu_percent": 98.6,
          "cpu_time": 12.81,
          "name": "Runner_1",
          "real_mem": 432181248,
          "time": 1600675631.0982254
         },
         {
          "cpu_percent": 98.4,
          "cpu_time": 12.92,
          "name": "Runner_1",
          "real_mem": 432181248,
          "time": 1600675631.209785
         },
         {
          "cpu_percent": 98.7,
          "cpu_time": 13.03,
          "name": "Runner_1",
          "real_mem": 432181248,
          "time": 1600675631.3213227
         },
         {
          "cpu_percent": 196.9,
          "cpu_time": 13.15,
          "name": "Runner_1",
          "real_mem": 432181248,
          "time": 1600675631.4329653
         },
         {
          "cpu_percent": 0,
          "cpu_time": 13.25,
          "name": "Runner_1",
          "real_mem": 432181248,
          "time": 1600675631.5446506
         },
         {
          "cpu_percent": 98.5,
          "cpu_time": 13.37,
          "name": "Runner_1",
          "real_mem": 432181248,
          "time": 1600675631.6562238
         },
         {
          "cpu_percent": 98.3,
          "cpu_time": 13.48,
          "name": "Runner_1",
          "real_mem": 432181248,
          "time": 1600675631.767783
         },
         {
          "cpu_percent": 98.7,
          "cpu_time": 13.59,
          "name": "Runner_1",
          "real_mem": 432181248,
          "time": 1600675631.8793254
         },
         {
          "cpu_percent": 98.6,
          "cpu_time": 13.7,
          "name": "Runner_1",
          "real_mem": 432181248,
          "time": 1600675631.9907885
         },
         {
          "cpu_percent": 98.7,
          "cpu_time": 13.81,
          "name": "Runner_1",
          "real_mem": 432181248,
          "time": 1600675632.1023157
         },
         {
          "cpu_percent": 98.9,
          "cpu_time": 13.92,
          "name": "Runner_1",
          "real_mem": 432181248,
          "time": 1600675632.2137263
         },
         {
          "cpu_percent": 198.4,
          "cpu_time": 14.04,
          "name": "Runner_1",
          "real_mem": 432181248,
          "time": 1600675632.3250618
         },
         {
          "cpu_percent": 0,
          "cpu_time": 14.15,
          "name": "Runner_1",
          "real_mem": 432181248,
          "time": 1600675632.4365387
         },
         {
          "cpu_percent": 98.5,
          "cpu_time": 14.27,
          "name": "Runner_1",
          "real_mem": 432181248,
          "time": 1600675632.5482316
         },
         {
          "cpu_percent": 98.6,
          "cpu_time": 14.38,
          "name": "Runner_1",
          "real_mem": 432181248,
          "time": 1600675632.659892
         },
         {
          "cpu_percent": 98.4,
          "cpu_time": 14.49,
          "name": "Runner_1",
          "real_mem": 432181248,
          "time": 1600675632.771719
         },
         {
          "cpu_percent": 98.6,
          "cpu_time": 14.6,
          "name": "Runner_1",
          "real_mem": 432181248,
          "time": 1600675632.883502
         },
         {
          "cpu_percent": 98.7,
          "cpu_time": 14.71,
          "name": "Runner_1",
          "real_mem": 432181248,
          "time": 1600675632.995017
         },
         {
          "cpu_percent": 98.6,
          "cpu_time": 14.82,
          "name": "Runner_1",
          "real_mem": 432181248,
          "time": 1600675633.1066537
         },
         {
          "cpu_percent": 98.7,
          "cpu_time": 14.93,
          "name": "Runner_1",
          "real_mem": 432181248,
          "time": 1600675633.2181664
         },
         {
          "cpu_percent": 197.3,
          "cpu_time": 15.05,
          "name": "Runner_1",
          "real_mem": 432181248,
          "time": 1600675633.3296492
         },
         {
          "cpu_percent": 99.3,
          "cpu_time": 15.16,
          "name": "Runner_1",
          "real_mem": 432181248,
          "time": 1600675633.4410777
         },
         {
          "cpu_percent": 98.8,
          "cpu_time": 15.27,
          "name": "Runner_1",
          "real_mem": 432181248,
          "time": 1600675633.5524876
         },
         {
          "cpu_percent": 98.6,
          "cpu_time": 15.38,
          "name": "Runner_1",
          "real_mem": 432181248,
          "time": 1600675633.6640317
         },
         {
          "cpu_percent": 98.6,
          "cpu_time": 15.49,
          "name": "Runner_1",
          "real_mem": 432181248,
          "time": 1600675633.7755957
         },
         {
          "cpu_percent": 98.7,
          "cpu_time": 15.6,
          "name": "Runner_1",
          "real_mem": 432181248,
          "time": 1600675633.8870711
         },
         {
          "cpu_percent": 98.6,
          "cpu_time": 15.71,
          "name": "Runner_1",
          "real_mem": 432181248,
          "time": 1600675633.998531
         },
         {
          "cpu_percent": 98.5,
          "cpu_time": 15.82,
          "name": "Runner_1",
          "real_mem": 432181248,
          "time": 1600675634.1110969
         },
         {
          "cpu_percent": 197.6,
          "cpu_time": 15.94,
          "name": "Runner_1",
          "real_mem": 432181248,
          "time": 1600675634.2225864
         },
         {
          "cpu_percent": 98.7,
          "cpu_time": 16.05,
          "name": "Runner_1",
          "real_mem": 432181248,
          "time": 1600675634.3340895
         },
         {
          "cpu_percent": 98.5,
          "cpu_time": 16.16,
          "name": "Runner_1",
          "real_mem": 432181248,
          "time": 1600675634.4457417
         },
         {
          "cpu_percent": 98.5,
          "cpu_time": 16.27,
          "name": "Runner_1",
          "real_mem": 432181248,
          "time": 1600675634.5574448
         },
         {
          "cpu_percent": 98.6,
          "cpu_time": 16.38,
          "name": "Runner_1",
          "real_mem": 432181248,
          "time": 1600675634.669064
         },
         {
          "cpu_percent": 98.5,
          "cpu_time": 16.49,
          "name": "Runner_1",
          "real_mem": 432181248,
          "time": 1600675634.7806804
         },
         {
          "cpu_percent": 98.5,
          "cpu_time": 16.6,
          "name": "Runner_1",
          "real_mem": 432181248,
          "time": 1600675634.892427
         },
         {
          "cpu_percent": 0,
          "cpu_time": 16.71,
          "name": "Runner_1",
          "real_mem": 432181248,
          "time": 1600675635.00393
         },
         {
          "cpu_percent": 98.7,
          "cpu_time": 16.83,
          "name": "Runner_1",
          "real_mem": 432181248,
          "time": 1600675635.1154518
         },
         {
          "cpu_percent": 98.8,
          "cpu_time": 16.94,
          "name": "Runner_1",
          "real_mem": 432181248,
          "time": 1600675635.226901
         },
         {
          "cpu_percent": 98.7,
          "cpu_time": 17.05,
          "name": "Runner_1",
          "real_mem": 432181248,
          "time": 1600675635.3384197
         },
         {
          "cpu_percent": 98.7,
          "cpu_time": 17.16,
          "name": "Runner_1",
          "real_mem": 432181248,
          "time": 1600675635.4498615
         },
         {
          "cpu_percent": 98.7,
          "cpu_time": 17.27,
          "name": "Runner_1",
          "real_mem": 432181248,
          "time": 1600675635.5613697
         },
         {
          "cpu_percent": 196.8,
          "cpu_time": 17.39,
          "name": "Runner_1",
          "real_mem": 432181248,
          "time": 1600675635.673183
         },
         {
          "cpu_percent": 98.6,
          "cpu_time": 17.5,
          "name": "Runner_1",
          "real_mem": 432181248,
          "time": 1600675635.7850153
         },
         {
          "cpu_percent": 0,
          "cpu_time": 17.6,
          "name": "Runner_1",
          "real_mem": 432181248,
          "time": 1600675635.8968368
         },
         {
          "cpu_percent": 98.7,
          "cpu_time": 17.72,
          "name": "Runner_1",
          "real_mem": 432181248,
          "time": 1600675636.0085554
         },
         {
          "cpu_percent": 98.6,
          "cpu_time": 17.83,
          "name": "Runner_1",
          "real_mem": 432181248,
          "time": 1600675636.1203933
         },
         {
          "cpu_percent": 98.7,
          "cpu_time": 17.94,
          "name": "Runner_1",
          "real_mem": 432181248,
          "time": 1600675636.2322063
         },
         {
          "cpu_percent": 98.8,
          "cpu_time": 18.05,
          "name": "Runner_1",
          "real_mem": 432181248,
          "time": 1600675636.343994
         },
         {
          "cpu_percent": 0,
          "cpu_time": 18.16,
          "name": "Runner_1",
          "real_mem": 432181248,
          "time": 1600675636.4557958
         },
         {
          "cpu_percent": 98.7,
          "cpu_time": 18.28,
          "name": "Runner_1",
          "real_mem": 432181248,
          "time": 1600675636.567564
         },
         {
          "cpu_percent": 98.4,
          "cpu_time": 18.39,
          "name": "Runner_1",
          "real_mem": 432181248,
          "time": 1600675636.6796396
         },
         {
          "cpu_percent": 98.3,
          "cpu_time": 18.5,
          "name": "Runner_1",
          "real_mem": 432181248,
          "time": 1600675636.7917187
         },
         {
          "cpu_percent": 98.7,
          "cpu_time": 18.61,
          "name": "Runner_1",
          "real_mem": 432181248,
          "time": 1600675636.9034848
         },
         {
          "cpu_percent": 98.6,
          "cpu_time": 18.73,
          "name": "Runner_1",
          "real_mem": 432181248,
          "time": 1600675637.015278
         },
         {
          "cpu_percent": 98.6,
          "cpu_time": 18.84,
          "name": "Runner_1",
          "real_mem": 432181248,
          "time": 1600675637.1271057
         },
         {
          "cpu_percent": 197.3,
          "cpu_time": 18.96,
          "name": "Runner_1",
          "real_mem": 432181248,
          "time": 1600675637.2388582
         },
         {
          "cpu_percent": 98.7,
          "cpu_time": 19.07,
          "name": "Runner_1",
          "real_mem": 432181248,
          "time": 1600675637.3506362
         },
         {
          "cpu_percent": 98.7,
          "cpu_time": 19.18,
          "name": "Runner_1",
          "real_mem": 432181248,
          "time": 1600675637.4624825
         },
         {
          "cpu_percent": 98.6,
          "cpu_time": 19.29,
          "name": "Runner_1",
          "real_mem": 432181248,
          "time": 1600675637.5743062
         },
         {
          "cpu_percent": 98.5,
          "cpu_time": 19.4,
          "name": "Runner_1",
          "real_mem": 432181248,
          "time": 1600675637.6864762
         },
         {
          "cpu_percent": 197.3,
          "cpu_time": 19.52,
          "name": "Runner_1",
          "real_mem": 432181248,
          "time": 1600675637.7983615
         },
         {
          "cpu_percent": 98.7,
          "cpu_time": 19.63,
          "name": "Runner_1",
          "real_mem": 432181248,
          "time": 1600675637.9099886
         },
         {
          "cpu_percent": 98.7,
          "cpu_time": 19.74,
          "name": "Runner_1",
          "real_mem": 432181248,
          "time": 1600675638.0217438
         },
         {
          "cpu_percent": 98.6,
          "cpu_time": 19.85,
          "name": "Runner_1",
          "real_mem": 432181248,
          "time": 1600675638.1335564
         },
         {
          "cpu_percent": 98.8,
          "cpu_time": 19.96,
          "name": "Runner_1",
          "real_mem": 432181248,
          "time": 1600675638.2452462
         },
         {
          "cpu_percent": 98.5,
          "cpu_time": 20.07,
          "name": "Runner_1",
          "real_mem": 432181248,
          "time": 1600675638.3570693
         },
         {
          "cpu_percent": 98.5,
          "cpu_time": 20.19,
          "name": "Runner_1",
          "real_mem": 432181248,
          "time": 1600675638.4689193
         },
         {
          "cpu_percent": 0,
          "cpu_time": 20.3,
          "name": "Runner_1",
          "real_mem": 432181248,
          "time": 1600675638.5809731
         },
         {
          "cpu_percent": 98.6,
          "cpu_time": 20.41,
          "name": "Runner_1",
          "real_mem": 432181248,
          "time": 1600675638.692875
         },
         {
          "cpu_percent": 98.5,
          "cpu_time": 20.52,
          "name": "Runner_1",
          "real_mem": 432181248,
          "time": 1600675638.8045993
         },
         {
          "cpu_percent": 98.7,
          "cpu_time": 20.63,
          "name": "Runner_1",
          "real_mem": 432181248,
          "time": 1600675638.9163034
         },
         {
          "cpu_percent": 98.7,
          "cpu_time": 20.74,
          "name": "Runner_1",
          "real_mem": 432181248,
          "time": 1600675639.028015
         },
         {
          "cpu_percent": 0,
          "cpu_time": 20.85,
          "name": "Runner_1",
          "real_mem": 432181248,
          "time": 1600675639.1396132
         },
         {
          "cpu_percent": 197.5,
          "cpu_time": 20.97,
          "name": "Runner_1",
          "real_mem": 434249728,
          "time": 1600675639.2510612
         },
         {
          "cpu_percent": 3647.3,
          "cpu_time": 23.03,
          "name": "Runner_1",
          "real_mem": 449421312,
          "time": 1600675639.362977
         },
         {
          "cpu_percent": 98.4,
          "cpu_time": 24.28,
          "name": "Runner_1",
          "real_mem": 466272256,
          "time": 1600675639.4748929
         },
         {
          "cpu_percent": 98.8,
          "cpu_time": 24.39,
          "name": "Runner_1",
          "real_mem": 466272256,
          "time": 1600675639.5865557
         },
         {
          "cpu_percent": 98.6,
          "cpu_time": 24.5,
          "name": "Runner_1",
          "real_mem": 466272256,
          "time": 1600675639.6983163
         },
         {
          "cpu_percent": 98.6,
          "cpu_time": 24.61,
          "name": "Runner_1",
          "real_mem": 466272256,
          "time": 1600675639.8100333
         },
         {
          "cpu_percent": 197.2,
          "cpu_time": 24.73,
          "name": "Runner_1",
          "real_mem": 466272256,
          "time": 1600675639.9217122
         },
         {
          "cpu_percent": 98.6,
          "cpu_time": 24.84,
          "name": "Runner_1",
          "real_mem": 466272256,
          "time": 1600675640.0335689
         },
         {
          "cpu_percent": 98.5,
          "cpu_time": 24.95,
          "name": "Runner_1",
          "real_mem": 466272256,
          "time": 1600675640.1454337
         },
         {
          "cpu_percent": 98.3,
          "cpu_time": 25.06,
          "name": "Runner_1",
          "real_mem": 466272256,
          "time": 1600675640.2574956
         },
         {
          "cpu_percent": 98.6,
          "cpu_time": 25.17,
          "name": "Runner_1",
          "real_mem": 466272256,
          "time": 1600675640.3695138
         },
         {
          "cpu_percent": 197.3,
          "cpu_time": 25.29,
          "name": "Runner_1",
          "real_mem": 466272256,
          "time": 1600675640.4813905
         },
         {
          "cpu_percent": 98.6,
          "cpu_time": 25.4,
          "name": "Runner_1",
          "real_mem": 466272256,
          "time": 1600675640.5932994
         },
         {
          "cpu_percent": 98.8,
          "cpu_time": 25.51,
          "name": "Runner_1",
          "real_mem": 466272256,
          "time": 1600675640.705157
         },
         {
          "cpu_percent": 98.4,
          "cpu_time": 25.62,
          "name": "Runner_1",
          "real_mem": 466272256,
          "time": 1600675640.8170629
         },
         {
          "cpu_percent": 98.3,
          "cpu_time": 25.73,
          "name": "Runner_1",
          "real_mem": 466272256,
          "time": 1600675640.9293988
         },
         {
          "cpu_percent": 197.3,
          "cpu_time": 25.85,
          "name": "Runner_1",
          "real_mem": 466272256,
          "time": 1600675641.041245
         },
         {
          "cpu_percent": 98.4,
          "cpu_time": 25.96,
          "name": "Runner_1",
          "real_mem": 466272256,
          "time": 1600675641.1530957
         },
         {
          "cpu_percent": 98.5,
          "cpu_time": 26.07,
          "name": "Runner_1",
          "real_mem": 466272256,
          "time": 1600675641.264905
         },
         {
          "cpu_percent": 98.6,
          "cpu_time": 26.18,
          "name": "Runner_1",
          "real_mem": 466272256,
          "time": 1600675641.3765953
         },
         {
          "cpu_percent": 97.9,
          "cpu_time": 26.29,
          "name": "Runner_1",
          "real_mem": 466272256,
          "time": 1600675641.4885411
         },
         {
          "cpu_percent": 98.7,
          "cpu_time": 26.4,
          "name": "Runner_1",
          "real_mem": 466272256,
          "time": 1600675641.6003985
         },
         {
          "cpu_percent": 98.4,
          "cpu_time": 26.51,
          "name": "Runner_1",
          "real_mem": 466272256,
          "time": 1600675641.7124298
         },
         {
          "cpu_percent": 0,
          "cpu_time": 26.62,
          "name": "Runner_1",
          "real_mem": 466272256,
          "time": 1600675641.824284
         },
         {
          "cpu_percent": 98.7,
          "cpu_time": 26.74,
          "name": "Runner_1",
          "real_mem": 466272256,
          "time": 1600675641.9361103
         },
         {
          "cpu_percent": 98.7,
          "cpu_time": 26.85,
          "name": "Runner_1",
          "real_mem": 466272256,
          "time": 1600675642.0479162
         },
         {
          "cpu_percent": 98.6,
          "cpu_time": 26.96,
          "name": "Runner_1",
          "real_mem": 466272256,
          "time": 1600675642.1597703
         },
         {
          "cpu_percent": 98.2,
          "cpu_time": 27.07,
          "name": "Runner_1",
          "real_mem": 466272256,
          "time": 1600675642.2719314
         },
         {
          "cpu_percent": 0,
          "cpu_time": 27.18,
          "name": "Runner_1",
          "real_mem": 466272256,
          "time": 1600675642.383686
         },
         {
          "cpu_percent": 98.6,
          "cpu_time": 27.3,
          "name": "Runner_1",
          "real_mem": 466272256,
          "time": 1600675642.4953716
         },
         {
          "cpu_percent": 98.4,
          "cpu_time": 27.41,
          "name": "Runner_1",
          "real_mem": 466272256,
          "time": 1600675642.6069834
         },
         {
          "cpu_percent": 98.7,
          "cpu_time": 27.52,
          "name": "Runner_1",
          "real_mem": 466272256,
          "time": 1600675642.718538
         },
         {
          "cpu_percent": 98.7,
          "cpu_time": 27.63,
          "name": "Runner_1",
          "real_mem": 466272256,
          "time": 1600675642.830105
         },
         {
          "cpu_percent": 98.4,
          "cpu_time": 27.74,
          "name": "Runner_1",
          "real_mem": 466272256,
          "time": 1600675642.9417455
         },
         {
          "cpu_percent": 197.6,
          "cpu_time": 27.86,
          "name": "Runner_1",
          "real_mem": 466272256,
          "time": 1600675643.05324
         },
         {
          "cpu_percent": 0,
          "cpu_time": 27.97,
          "name": "Runner_1",
          "real_mem": 466272256,
          "time": 1600675643.1649158
         },
         {
          "cpu_percent": 98.7,
          "cpu_time": 28.08,
          "name": "Runner_1",
          "real_mem": 466272256,
          "time": 1600675643.2765672
         },
         {
          "cpu_percent": 98.6,
          "cpu_time": 28.19,
          "name": "Runner_1",
          "real_mem": 466272256,
          "time": 1600675643.3882196
         },
         {
          "cpu_percent": 98.5,
          "cpu_time": 28.3,
          "name": "Runner_1",
          "real_mem": 466272256,
          "time": 1600675643.4999971
         },
         {
          "cpu_percent": 98.1,
          "cpu_time": 28.41,
          "name": "Runner_1",
          "real_mem": 466272256,
          "time": 1600675643.6117284
         },
         {
          "cpu_percent": 0,
          "cpu_time": 28.52,
          "name": "Runner_1",
          "real_mem": 466272256,
          "time": 1600675643.7232866
         },
         {
          "cpu_percent": 197.3,
          "cpu_time": 28.64,
          "name": "Runner_1",
          "real_mem": 466272256,
          "time": 1600675643.8347626
         },
         {
          "cpu_percent": 98.7,
          "cpu_time": 28.75,
          "name": "Runner_1",
          "real_mem": 466272256,
          "time": 1600675643.9462893
         },
         {
          "cpu_percent": 98.2,
          "cpu_time": 28.86,
          "name": "Runner_1",
          "real_mem": 466272256,
          "time": 1600675644.0578175
         },
         {
          "cpu_percent": 98.7,
          "cpu_time": 28.97,
          "name": "Runner_1",
          "real_mem": 466272256,
          "time": 1600675644.1693587
         },
         {
          "cpu_percent": 98.5,
          "cpu_time": 29.08,
          "name": "Runner_1",
          "real_mem": 466272256,
          "time": 1600675644.2811675
         },
         {
          "cpu_percent": 98.5,
          "cpu_time": 29.19,
          "name": "Runner_1",
          "real_mem": 466272256,
          "time": 1600675644.3930302
         },
         {
          "cpu_percent": 196.2,
          "cpu_time": 29.31,
          "name": "Runner_1",
          "real_mem": 466272256,
          "time": 1600675644.5051594
         },
         {
          "cpu_percent": 0,
          "cpu_time": 29.42,
          "name": "Runner_1",
          "real_mem": 466272256,
          "time": 1600675644.6168745
         },
         {
          "cpu_percent": 98.7,
          "cpu_time": 29.53,
          "name": "Runner_1",
          "real_mem": 466272256,
          "time": 1600675644.7283802
         },
         {
          "cpu_percent": 98.6,
          "cpu_time": 29.64,
          "name": "Runner_1",
          "real_mem": 466272256,
          "time": 1600675644.8400576
         },
         {
          "cpu_percent": 98.6,
          "cpu_time": 29.75,
          "name": "Runner_1",
          "real_mem": 466272256,
          "time": 1600675644.9516628
         },
         {
          "cpu_percent": 98.3,
          "cpu_time": 29.86,
          "name": "Runner_1",
          "real_mem": 466272256,
          "time": 1600675645.0632868
         },
         {
          "cpu_percent": 98.5,
          "cpu_time": 29.97,
          "name": "Runner_1",
          "real_mem": 466272256,
          "time": 1600675645.174992
         },
         {
          "cpu_percent": 197.2,
          "cpu_time": 30.09,
          "name": "Runner_1",
          "real_mem": 466272256,
          "time": 1600675645.2866757
         },
         {
          "cpu_percent": 98.4,
          "cpu_time": 30.2,
          "name": "Runner_1",
          "real_mem": 466272256,
          "time": 1600675645.3984637
         },
         {
          "cpu_percent": 98.7,
          "cpu_time": 30.31,
          "name": "Runner_1",
          "real_mem": 466272256,
          "time": 1600675645.510272
         },
         {
          "cpu_percent": 98.6,
          "cpu_time": 30.42,
          "name": "Runner_1",
          "real_mem": 466272256,
          "time": 1600675645.6221826
         },
         {
          "cpu_percent": 98.7,
          "cpu_time": 30.53,
          "name": "Runner_1",
          "real_mem": 466272256,
          "time": 1600675645.7338831
         },
         {
          "cpu_percent": 196.9,
          "cpu_time": 30.65,
          "name": "Runner_1",
          "real_mem": 466272256,
          "time": 1600675645.8457193
         },
         {
          "cpu_percent": 98.6,
          "cpu_time": 30.76,
          "name": "Runner_1",
          "real_mem": 466272256,
          "time": 1600675645.9575717
         },
         {
          "cpu_percent": 98.8,
          "cpu_time": 30.87,
          "name": "Runner_1",
          "real_mem": 466272256,
          "time": 1600675646.0692413
         },
         {
          "cpu_percent": 98.7,
          "cpu_time": 30.98,
          "name": "Runner_1",
          "real_mem": 466272256,
          "time": 1600675646.1809633
         },
         {
          "cpu_percent": 96.9,
          "cpu_time": 31.09,
          "name": "Runner_1",
          "real_mem": 466272256,
          "time": 1600675646.2929204
         },
         {
          "cpu_percent": 98.7,
          "cpu_time": 31.2,
          "name": "Runner_1",
          "real_mem": 466272256,
          "time": 1600675646.4045198
         },
         {
          "cpu_percent": 0,
          "cpu_time": 31.31,
          "name": "Runner_1",
          "real_mem": 466272256,
          "time": 1600675646.5160987
         },
         {
          "cpu_percent": 98.5,
          "cpu_time": 31.43,
          "name": "Runner_1",
          "real_mem": 466272256,
          "time": 1600675646.6277368
         },
         {
          "cpu_percent": 98.6,
          "cpu_time": 31.54,
          "name": "Runner_1",
          "real_mem": 466272256,
          "time": 1600675646.7393937
         },
         {
          "cpu_percent": 98.5,
          "cpu_time": 31.65,
          "name": "Runner_1",
          "real_mem": 466272256,
          "time": 1600675646.8510473
         },
         {
          "cpu_percent": 98.2,
          "cpu_time": 31.76,
          "name": "Runner_1",
          "real_mem": 466272256,
          "time": 1600675646.9632666
         },
         {
          "cpu_percent": 0,
          "cpu_time": 31.87,
          "name": "Runner_1",
          "real_mem": 466272256,
          "time": 1600675647.075695
         },
         {
          "cpu_percent": 98.8,
          "cpu_time": 31.99,
          "name": "Runner_1",
          "real_mem": 466272256,
          "time": 1600675647.1872716
         },
         {
          "cpu_percent": 98.8,
          "cpu_time": 32.1,
          "name": "Runner_1",
          "real_mem": 466272256,
          "time": 1600675647.2989018
         },
         {
          "cpu_percent": 98.7,
          "cpu_time": 32.21,
          "name": "Runner_1",
          "real_mem": 466272256,
          "time": 1600675647.4105597
         },
         {
          "cpu_percent": 98.7,
          "cpu_time": 32.32,
          "name": "Runner_1",
          "real_mem": 466272256,
          "time": 1600675647.5224094
         },
         {
          "cpu_percent": 98.6,
          "cpu_time": 32.43,
          "name": "Runner_1",
          "real_mem": 466272256,
          "time": 1600675647.6342497
         },
         {
          "cpu_percent": 98.7,
          "cpu_time": 32.54,
          "name": "Runner_1",
          "real_mem": 466272256,
          "time": 1600675647.7460265
         },
         {
          "cpu_percent": 197.4,
          "cpu_time": 32.66,
          "name": "Runner_1",
          "real_mem": 466272256,
          "time": 1600675647.8577182
         },
         {
          "cpu_percent": 98.7,
          "cpu_time": 32.77,
          "name": "Runner_1",
          "real_mem": 466272256,
          "time": 1600675647.969362
         },
         {
          "cpu_percent": 98.6,
          "cpu_time": 32.88,
          "name": "Runner_1",
          "real_mem": 466272256,
          "time": 1600675648.081088
         },
         {
          "cpu_percent": 98.5,
          "cpu_time": 32.99,
          "name": "Runner_1",
          "real_mem": 466272256,
          "time": 1600675648.192855
         },
         {
          "cpu_percent": 98.4,
          "cpu_time": 33.1,
          "name": "Runner_1",
          "real_mem": 466272256,
          "time": 1600675648.3048842
         },
         {
          "cpu_percent": 98.7,
          "cpu_time": 33.21,
          "name": "Runner_1",
          "real_mem": 466272256,
          "time": 1600675648.4165125
         },
         {
          "cpu_percent": 0,
          "cpu_time": 33.32,
          "name": "Runner_1",
          "real_mem": 466272256,
          "time": 1600675648.5282469
         },
         {
          "cpu_percent": 98.6,
          "cpu_time": 33.44,
          "name": "Runner_1",
          "real_mem": 466272256,
          "time": 1600675648.6398664
         },
         {
          "cpu_percent": 98.6,
          "cpu_time": 33.55,
          "name": "Runner_1",
          "real_mem": 466272256,
          "time": 1600675648.751543
         },
         {
          "cpu_percent": 98.7,
          "cpu_time": 33.66,
          "name": "Runner_1",
          "real_mem": 466272256,
          "time": 1600675648.8631747
         },
         {
          "cpu_percent": 98.4,
          "cpu_time": 33.77,
          "name": "Runner_1",
          "real_mem": 466272256,
          "time": 1600675648.9746783
         },
         {
          "cpu_percent": 98.7,
          "cpu_time": 33.88,
          "name": "Runner_1",
          "real_mem": 466272256,
          "time": 1600675649.086203
         },
         {
          "cpu_percent": 197.1,
          "cpu_time": 34,
          "name": "Runner_1",
          "real_mem": 466272256,
          "time": 1600675649.1978526
         },
         {
          "cpu_percent": 98.8,
          "cpu_time": 34.11,
          "name": "Runner_1",
          "real_mem": 466272256,
          "time": 1600675649.309472
         },
         {
          "cpu_percent": 98.3,
          "cpu_time": 34.22,
          "name": "Runner_1",
          "real_mem": 466272256,
          "time": 1600675649.4214492
         },
         {
          "cpu_percent": 98.5,
          "cpu_time": 34.33,
          "name": "Runner_1",
          "real_mem": 466272256,
          "time": 1600675649.5331433
         },
         {
          "cpu_percent": 98.4,
          "cpu_time": 34.44,
          "name": "Runner_1",
          "real_mem": 466272256,
          "time": 1600675649.644816
         },
         {
          "cpu_percent": 98.5,
          "cpu_time": 34.55,
          "name": "Runner_1",
          "real_mem": 466272256,
          "time": 1600675649.7566242
         },
         {
          "cpu_percent": 0,
          "cpu_time": 34.66,
          "name": "Runner_1",
          "real_mem": 466272256,
          "time": 1600675649.8682384
         },
         {
          "cpu_percent": 98.5,
          "cpu_time": 34.78,
          "name": "Runner_1",
          "real_mem": 466272256,
          "time": 1600675649.979991
         },
         {
          "cpu_percent": 98.7,
          "cpu_time": 34.89,
          "name": "Runner_1",
          "real_mem": 466272256,
          "time": 1600675650.0916064
         },
         {
          "cpu_percent": 98.5,
          "cpu_time": 35,
          "name": "Runner_1",
          "real_mem": 466272256,
          "time": 1600675650.2032855
         },
         {
          "cpu_percent": 98.5,
          "cpu_time": 35.11,
          "name": "Runner_1",
          "real_mem": 466272256,
          "time": 1600675650.31506
         },
         {
          "cpu_percent": 98.6,
          "cpu_time": 35.22,
          "name": "Runner_1",
          "real_mem": 466272256,
          "time": 1600675650.4267442
         },
         {
          "cpu_percent": 197.2,
          "cpu_time": 35.34,
          "name": "Runner_1",
          "real_mem": 466272256,
          "time": 1600675650.5384066
         },
         {
          "cpu_percent": 98.6,
          "cpu_time": 35.45,
          "name": "Runner_1",
          "real_mem": 466272256,
          "time": 1600675650.6500616
         },
         {
          "cpu_percent": 98.7,
          "cpu_time": 35.56,
          "name": "Runner_1",
          "real_mem": 466272256,
          "time": 1600675650.761674
         },
         {
          "cpu_percent": 98.6,
          "cpu_time": 35.68,
          "name": "Runner_1",
          "real_mem": 466272256,
          "time": 1600675650.873262
         },
         {
          "cpu_percent": 98.3,
          "cpu_time": 35.79,
          "name": "Runner_1",
          "real_mem": 466272256,
          "time": 1600675650.9849133
         },
         {
          "cpu_percent": 98.6,
          "cpu_time": 35.9,
          "name": "Runner_1",
          "real_mem": 466272256,
          "time": 1600675651.096733
         },
         {
          "cpu_percent": 0,
          "cpu_time": 36.01,
          "name": "Runner_1",
          "real_mem": 466272256,
          "time": 1600675651.2086422
         },
         {
          "cpu_percent": 98.6,
          "cpu_time": 36.13,
          "name": "Runner_1",
          "real_mem": 466272256,
          "time": 1600675651.3204768
         },
         {
          "cpu_percent": 1902,
          "cpu_time": 36.55,
          "name": "Runner_1",
          "real_mem": 483028992,
          "time": 1600675651.436505
         },
         {
          "cpu_percent": 2463.5,
          "cpu_time": 39.02,
          "name": "Runner_1",
          "real_mem": 500330496,
          "time": 1600675651.5482247
         },
         {
          "cpu_percent": 98.8,
          "cpu_time": 40.35,
          "name": "Runner_1",
          "real_mem": 500330496,
          "time": 1600675651.6598191
         },
         {
          "cpu_percent": 98.6,
          "cpu_time": 40.46,
          "name": "Runner_1",
          "real_mem": 500330496,
          "time": 1600675651.7716503
         },
         {
          "cpu_percent": 98.6,
          "cpu_time": 40.57,
          "name": "Runner_1",
          "real_mem": 500330496,
          "time": 1600675651.8832521
         },
         {
          "cpu_percent": 98.5,
          "cpu_time": 40.68,
          "name": "Runner_1",
          "real_mem": 500330496,
          "time": 1600675651.9949582
         },
         {
          "cpu_percent": 196.5,
          "cpu_time": 40.8,
          "name": "Runner_1",
          "real_mem": 500330496,
          "time": 1600675652.1067655
         },
         {
          "cpu_percent": 98.6,
          "cpu_time": 40.91,
          "name": "Runner_1",
          "real_mem": 500330496,
          "time": 1600675652.218484
         },
         {
          "cpu_percent": 98.7,
          "cpu_time": 41.02,
          "name": "Runner_1",
          "real_mem": 500330496,
          "time": 1600675652.3300817
         },
         {
          "cpu_percent": 98.1,
          "cpu_time": 41.13,
          "name": "Runner_1",
          "real_mem": 500330496,
          "time": 1600675652.442435
         },
         {
          "cpu_percent": 98.7,
          "cpu_time": 41.24,
          "name": "Runner_1",
          "real_mem": 500330496,
          "time": 1600675652.5542603
         },
         {
          "cpu_percent": 197.3,
          "cpu_time": 41.36,
          "name": "Runner_1",
          "real_mem": 500330496,
          "time": 1600675652.6660538
         },
         {
          "cpu_percent": 98.8,
          "cpu_time": 41.47,
          "name": "Runner_1",
          "real_mem": 500330496,
          "time": 1600675652.777834
         },
         {
          "cpu_percent": 98.1,
          "cpu_time": 41.58,
          "name": "Runner_1",
          "real_mem": 500330496,
          "time": 1600675652.8900073
         },
         {
          "cpu_percent": 98.5,
          "cpu_time": 41.69,
          "name": "Runner_1",
          "real_mem": 500330496,
          "time": 1600675653.001939
         },
         {
          "cpu_percent": 98.4,
          "cpu_time": 41.8,
          "name": "Runner_1",
          "real_mem": 500330496,
          "time": 1600675653.113855
         },
         {
          "cpu_percent": 197.2,
          "cpu_time": 41.92,
          "name": "Runner_1",
          "real_mem": 500330496,
          "time": 1600675653.2255812
         },
         {
          "cpu_percent": 98.7,
          "cpu_time": 42.03,
          "name": "Runner_1",
          "real_mem": 500330496,
          "time": 1600675653.3372955
         },
         {
          "cpu_percent": 98.5,
          "cpu_time": 42.14,
          "name": "Runner_1",
          "real_mem": 500330496,
          "time": 1600675653.4490063
         },
         {
          "cpu_percent": 98.6,
          "cpu_time": 42.25,
          "name": "Runner_1",
          "real_mem": 500330496,
          "time": 1600675653.560667
         },
         {
          "cpu_percent": 98.7,
          "cpu_time": 42.36,
          "name": "Runner_1",
          "real_mem": 500330496,
          "time": 1600675653.6722214
         },
         {
          "cpu_percent": 98.7,
          "cpu_time": 42.47,
          "name": "Runner_1",
          "real_mem": 500330496,
          "time": 1600675653.7839334
         },
         {
          "cpu_percent": 98.6,
          "cpu_time": 42.58,
          "name": "Runner_1",
          "real_mem": 500330496,
          "time": 1600675653.8956113
         },
         {
          "cpu_percent": 0,
          "cpu_time": 42.69,
          "name": "Runner_1",
          "real_mem": 500330496,
          "time": 1600675654.007179
         },
         {
          "cpu_percent": 197.4,
          "cpu_time": 42.81,
          "name": "Runner_1",
          "real_mem": 500330496,
          "time": 1600675654.1188037
         },
         {
          "cpu_percent": 98.7,
          "cpu_time": 42.92,
          "name": "Runner_1",
          "real_mem": 500330496,
          "time": 1600675654.2303617
         },
         {
          "cpu_percent": 98.6,
          "cpu_time": 43.03,
          "name": "Runner_1",
          "real_mem": 500330496,
          "time": 1600675654.3420534
         },
         {
          "cpu_percent": 98.4,
          "cpu_time": 43.14,
          "name": "Runner_1",
          "real_mem": 500330496,
          "time": 1600675654.4537444
         },
         {
          "cpu_percent": 98.3,
          "cpu_time": 43.25,
          "name": "Runner_1",
          "real_mem": 500330496,
          "time": 1600675654.5656347
         },
         {
          "cpu_percent": 197.5,
          "cpu_time": 43.37,
          "name": "Runner_1",
          "real_mem": 500330496,
          "time": 1600675654.677216
         },
         {
          "cpu_percent": 0,
          "cpu_time": 43.48,
          "name": "Runner_1",
          "real_mem": 500330496,
          "time": 1600675654.7888718
         },
         {
          "cpu_percent": 98.6,
          "cpu_time": 43.59,
          "name": "Runner_1",
          "real_mem": 500330496,
          "time": 1600675654.9004896
         },
         {
          "cpu_percent": 98.6,
          "cpu_time": 43.7,
          "name": "Runner_1",
          "real_mem": 500330496,
          "time": 1600675655.0120869
         },
         {
          "cpu_percent": 98.7,
          "cpu_time": 43.81,
          "name": "Runner_1",
          "real_mem": 500330496,
          "time": 1600675655.1236928
         },
         {
          "cpu_percent": 98.7,
          "cpu_time": 43.92,
          "name": "Runner_1",
          "real_mem": 500330496,
          "time": 1600675655.2352467
         },
         {
          "cpu_percent": 98.6,
          "cpu_time": 44.03,
          "name": "Runner_1",
          "real_mem": 500330496,
          "time": 1600675655.3469458
         },
         {
          "cpu_percent": 197.2,
          "cpu_time": 44.15,
          "name": "Runner_1",
          "real_mem": 500330496,
          "time": 1600675655.458641
         },
         {
          "cpu_percent": 98.6,
          "cpu_time": 44.26,
          "name": "Runner_1",
          "real_mem": 500330496,
          "time": 1600675655.5703206
         },
         {
          "cpu_percent": 98.8,
          "cpu_time": 44.37,
          "name": "Runner_1",
          "real_mem": 500330496,
          "time": 1600675655.6819453
         },
         {
          "cpu_percent": 98.7,
          "cpu_time": 44.48,
          "name": "Runner_1",
          "real_mem": 500330496,
          "time": 1600675655.7934926
         },
         {
          "cpu_percent": 98.7,
          "cpu_time": 44.59,
          "name": "Runner_1",
          "real_mem": 500330496,
          "time": 1600675655.9050515
         },
         {
          "cpu_percent": 98.6,
          "cpu_time": 44.7,
          "name": "Runner_1",
          "real_mem": 500330496,
          "time": 1600675656.0166821
         },
         {
          "cpu_percent": 0,
          "cpu_time": 44.81,
          "name": "Runner_1",
          "real_mem": 500330496,
          "time": 1600675656.128303
         },
         {
          "cpu_percent": 98.6,
          "cpu_time": 44.93,
          "name": "Runner_1",
          "real_mem": 500330496,
          "time": 1600675656.2399473
         },
         {
          "cpu_percent": 98.6,
          "cpu_time": 45.04,
          "name": "Runner_1",
          "real_mem": 500330496,
          "time": 1600675656.3516574
         },
         {
          "cpu_percent": 98.6,
          "cpu_time": 45.15,
          "name": "Runner_1",
          "real_mem": 500330496,
          "time": 1600675656.4633887
         },
         {
          "cpu_percent": 98.5,
          "cpu_time": 45.26,
          "name": "Runner_1",
          "real_mem": 500330496,
          "time": 1600675656.5751116
         },
         {
          "cpu_percent": 98.6,
          "cpu_time": 45.37,
          "name": "Runner_1",
          "real_mem": 500330496,
          "time": 1600675656.686691
         },
         {
          "cpu_percent": 197.5,
          "cpu_time": 45.49,
          "name": "Runner_1",
          "real_mem": 500330496,
          "time": 1600675656.798221
         },
         {
          "cpu_percent": 98.8,
          "cpu_time": 45.6,
          "name": "Runner_1",
          "real_mem": 500330496,
          "time": 1600675656.9097118
         },
         {
          "cpu_percent": 98.8,
          "cpu_time": 45.71,
          "name": "Runner_1",
          "real_mem": 500330496,
          "time": 1600675657.0212018
         },
         {
          "cpu_percent": 98.3,
          "cpu_time": 45.82,
          "name": "Runner_1",
          "real_mem": 500330496,
          "time": 1600675657.132721
         },
         {
          "cpu_percent": 98.7,
          "cpu_time": 45.93,
          "name": "Runner_1",
          "real_mem": 500330496,
          "time": 1600675657.2443051
         },
         {
          "cpu_percent": 98.7,
          "cpu_time": 46.04,
          "name": "Runner_1",
          "real_mem": 500330496,
          "time": 1600675657.3558555
         },
         {
          "cpu_percent": 0,
          "cpu_time": 46.15,
          "name": "Runner_1",
          "real_mem": 500330496,
          "time": 1600675657.4674625
         },
         {
          "cpu_percent": 197.1,
          "cpu_time": 46.27,
          "name": "Runner_1",
          "real_mem": 500330496,
          "time": 1600675657.5790656
         },
         {
          "cpu_percent": 98.6,
          "cpu_time": 46.38,
          "name": "Runner_1",
          "real_mem": 500330496,
          "time": 1600675657.6906824
         },
         {
          "cpu_percent": 98.8,
          "cpu_time": 46.49,
          "name": "Runner_1",
          "real_mem": 500330496,
          "time": 1600675657.8022344
         },
         {
          "cpu_percent": 98.6,
          "cpu_time": 46.6,
          "name": "Runner_1",
          "real_mem": 500330496,
          "time": 1600675657.9138007
         },
         {
          "cpu_percent": 98.6,
          "cpu_time": 46.71,
          "name": "Runner_1",
          "real_mem": 500330496,
          "time": 1600675658.0254893
         },
         {
          "cpu_percent": 196.8,
          "cpu_time": 46.83,
          "name": "Runner_1",
          "real_mem": 500330496,
          "time": 1600675658.1371055
         },
         {
          "cpu_percent": 0,
          "cpu_time": 46.93,
          "name": "Runner_1",
          "real_mem": 500330496,
          "time": 1600675658.2487037
         },
         {
          "cpu_percent": 98.5,
          "cpu_time": 47.05,
          "name": "Runner_1",
          "real_mem": 500330496,
          "time": 1600675658.3603837
         },
         {
          "cpu_percent": 98.7,
          "cpu_time": 47.16,
          "name": "Runner_1",
          "real_mem": 500330496,
          "time": 1600675658.4719708
         },
         {
          "cpu_percent": 98.3,
          "cpu_time": 47.27,
          "name": "Runner_1",
          "real_mem": 500330496,
          "time": 1600675658.5838594
         },
         {
          "cpu_percent": 98.5,
          "cpu_time": 47.38,
          "name": "Runner_1",
          "real_mem": 500330496,
          "time": 1600675658.695478
         },
         {
          "cpu_percent": 98.1,
          "cpu_time": 47.49,
          "name": "Runner_1",
          "real_mem": 500330496,
          "time": 1600675658.8072424
         },
         {
          "cpu_percent": 197,
          "cpu_time": 47.61,
          "name": "Runner_1",
          "real_mem": 500330496,
          "time": 1600675658.9191232
         },
         {
          "cpu_percent": 98.8,
          "cpu_time": 47.72,
          "name": "Runner_1",
          "real_mem": 500330496,
          "time": 1600675659.0306785
         },
         {
          "cpu_percent": 98.5,
          "cpu_time": 47.83,
          "name": "Runner_1",
          "real_mem": 500330496,
          "time": 1600675659.142419
         },
         {
          "cpu_percent": 98.7,
          "cpu_time": 47.94,
          "name": "Runner_1",
          "real_mem": 500330496,
          "time": 1600675659.2539961
         },
         {
          "cpu_percent": 98.8,
          "cpu_time": 48.05,
          "name": "Runner_1",
          "real_mem": 500330496,
          "time": 1600675659.365484
         },
         {
          "cpu_percent": 98.7,
          "cpu_time": 48.16,
          "name": "Runner_1",
          "real_mem": 500330496,
          "time": 1600675659.4769866
         },
         {
          "cpu_percent": 98.7,
          "cpu_time": 48.27,
          "name": "Runner_1",
          "real_mem": 500330496,
          "time": 1600675659.588534
         },
         {
          "cpu_percent": 0,
          "cpu_time": 48.38,
          "name": "Runner_1",
          "real_mem": 500330496,
          "time": 1600675659.7000744
         },
         {
          "cpu_percent": 98.4,
          "cpu_time": 48.5,
          "name": "Runner_1",
          "real_mem": 500330496,
          "time": 1600675659.81193
         },
         {
          "cpu_percent": 98.6,
          "cpu_time": 48.61,
          "name": "Runner_1",
          "real_mem": 500330496,
          "time": 1600675659.923647
         },
         {
          "cpu_percent": 98.5,
          "cpu_time": 48.72,
          "name": "Runner_1",
          "real_mem": 500330496,
          "time": 1600675660.0353305
         },
         {
          "cpu_percent": 95.6,
          "cpu_time": 48.83,
          "name": "Runner_1",
          "real_mem": 500330496,
          "time": 1600675660.1472461
         },
         {
          "cpu_percent": 98.6,
          "cpu_time": 48.94,
          "name": "Runner_1",
          "real_mem": 500330496,
          "time": 1600675660.2589447
         },
         {
          "cpu_percent": 197.4,
          "cpu_time": 49.06,
          "name": "Runner_1",
          "real_mem": 500330496,
          "time": 1600675660.3705735
         },
         {
          "cpu_percent": 98.7,
          "cpu_time": 49.17,
          "name": "Runner_1",
          "real_mem": 500330496,
          "time": 1600675660.482195
         },
         {
          "cpu_percent": 98.8,
          "cpu_time": 49.28,
          "name": "Runner_1",
          "real_mem": 500330496,
          "time": 1600675660.5936582
         },
         {
          "cpu_percent": 98.6,
          "cpu_time": 49.39,
          "name": "Runner_1",
          "real_mem": 500330496,
          "time": 1600675660.7051141
         },
         {
          "cpu_percent": 98.4,
          "cpu_time": 49.5,
          "name": "Runner_1",
          "real_mem": 500330496,
          "time": 1600675660.8169184
         },
         {
          "cpu_percent": 98.8,
          "cpu_time": 49.61,
          "name": "Runner_1",
          "real_mem": 500330496,
          "time": 1600675660.928422
         },
         {
          "cpu_percent": 0,
          "cpu_time": 49.72,
          "name": "Runner_1",
          "real_mem": 500330496,
          "time": 1600675661.0400488
         },
         {
          "cpu_percent": 98.5,
          "cpu_time": 49.84,
          "name": "Runner_1",
          "real_mem": 500330496,
          "time": 1600675661.151702
         },
         {
          "cpu_percent": 98.4,
          "cpu_time": 49.95,
          "name": "Runner_1",
          "real_mem": 500330496,
          "time": 1600675661.2634175
         },
         {
          "cpu_percent": 98.7,
          "cpu_time": 50.06,
          "name": "Runner_1",
          "real_mem": 500330496,
          "time": 1600675661.3750296
         },
         {
          "cpu_percent": 98.7,
          "cpu_time": 50.17,
          "name": "Runner_1",
          "real_mem": 500330496,
          "time": 1600675661.4866655
         },
         {
          "cpu_percent": 98.7,
          "cpu_time": 50.28,
          "name": "Runner_1",
          "real_mem": 500330496,
          "time": 1600675661.598239
         },
         {
          "cpu_percent": 197.1,
          "cpu_time": 50.4,
          "name": "Runner_1",
          "real_mem": 500330496,
          "time": 1600675661.7097602
         },
         {
          "cpu_percent": 98.7,
          "cpu_time": 50.51,
          "name": "Runner_1",
          "real_mem": 500330496,
          "time": 1600675661.8214493
         },
         {
          "cpu_percent": 99,
          "cpu_time": 50.62,
          "name": "Runner_1",
          "real_mem": 500330496,
          "time": 1600675661.9331782
         },
         {
          "cpu_percent": 98.7,
          "cpu_time": 50.73,
          "name": "Runner_1",
          "real_mem": 500330496,
          "time": 1600675662.044989
         },
         {
          "cpu_percent": 98.6,
          "cpu_time": 50.84,
          "name": "Runner_1",
          "real_mem": 500330496,
          "time": 1600675662.1567416
         },
         {
          "cpu_percent": 98.5,
          "cpu_time": 50.95,
          "name": "Runner_1",
          "real_mem": 500330496,
          "time": 1600675662.2684636
         },
         {
          "cpu_percent": 0,
          "cpu_time": 51.06,
          "name": "Runner_1",
          "real_mem": 500330496,
          "time": 1600675662.3801012
         },
         {
          "cpu_percent": 98.4,
          "cpu_time": 51.18,
          "name": "Runner_1",
          "real_mem": 500330496,
          "time": 1600675662.491756
         },
         {
          "cpu_percent": 98.7,
          "cpu_time": 51.29,
          "name": "Runner_1",
          "real_mem": 500330496,
          "time": 1600675662.6034353
         },
         {
          "cpu_percent": 98.7,
          "cpu_time": 51.4,
          "name": "Runner_1",
          "real_mem": 500330496,
          "time": 1600675662.715093
         },
         {
          "cpu_percent": 98.7,
          "cpu_time": 51.51,
          "name": "Runner_1",
          "real_mem": 500330496,
          "time": 1600675662.8266156
         },
         {
          "cpu_percent": 98.7,
          "cpu_time": 51.62,
          "name": "Runner_1",
          "real_mem": 500330496,
          "time": 1600675662.9381146
         },
         {
          "cpu_percent": 196.9,
          "cpu_time": 51.74,
          "name": "Runner_1",
          "real_mem": 500330496,
          "time": 1600675663.0496964
         },
         {
          "cpu_percent": 99.2,
          "cpu_time": 51.85,
          "name": "Runner_1",
          "real_mem": 500330496,
          "time": 1600675663.1610901
         },
         {
          "cpu_percent": 98.7,
          "cpu_time": 51.96,
          "name": "Runner_1",
          "real_mem": 500330496,
          "time": 1600675663.272563
         },
         {
          "cpu_percent": 98.6,
          "cpu_time": 52.07,
          "name": "Runner_1",
          "real_mem": 500330496,
          "time": 1600675663.384112
         },
         {
          "cpu_percent": 98.7,
          "cpu_time": 52.18,
          "name": "Runner_1",
          "real_mem": 500330496,
          "time": 1600675663.495724
         },
         {
          "cpu_percent": 98.5,
          "cpu_time": 52.29,
          "name": "Runner_1",
          "real_mem": 500330496,
          "time": 1600675663.6074548
         },
         {
          "cpu_percent": 98.5,
          "cpu_time": 52.4,
          "name": "Runner_1",
          "real_mem": 500330496,
          "time": 1600675663.7191784
         },
         {
          "cpu_percent": 196,
          "cpu_time": 52.52,
          "name": "Runner_1",
          "real_mem": 500330496,
          "time": 1600675663.8308504
         },
         {
          "cpu_percent": 98.4,
          "cpu_time": 52.63,
          "name": "Runner_1",
          "real_mem": 500330496,
          "time": 1600675663.9425604
         },
         {
          "cpu_percent": 3448.1,
          "cpu_time": 53.12,
          "name": "Runner_1",
          "real_mem": 500330496,
          "time": 1600675664.0545394
         },
         {
          "cpu_percent": 2958.5,
          "cpu_time": 55.57,
          "name": "Runner_1",
          "real_mem": 511143936,
          "time": 1600675664.1664157
         },
         {
          "cpu_percent": 2464.2,
          "cpu_time": 58.69,
          "name": "Runner_1",
          "real_mem": 511143936,
          "time": 1600675664.2782288
         },
         {
          "cpu_percent": 98.7,
          "cpu_time": 58.8,
          "name": "Runner_1",
          "real_mem": 511143936,
          "time": 1600675664.3899863
         },
         {
          "cpu_percent": 197.2,
          "cpu_time": 58.92,
          "name": "Runner_1",
          "real_mem": 511143936,
          "time": 1600675664.5017912
         },
         {
          "cpu_percent": 98.7,
          "cpu_time": 59.03,
          "name": "Runner_1",
          "real_mem": 511143936,
          "time": 1600675664.6135159
         },
         {
          "cpu_percent": 98.8,
          "cpu_time": 59.14,
          "name": "Runner_1",
          "real_mem": 511143936,
          "time": 1600675664.7251654
         },
         {
          "cpu_percent": 98.8,
          "cpu_time": 59.25,
          "name": "Runner_1",
          "real_mem": 511143936,
          "time": 1600675664.836842
         },
         {
          "cpu_percent": 98.5,
          "cpu_time": 59.36,
          "name": "Runner_1",
          "real_mem": 511143936,
          "time": 1600675664.948705
         },
         {
          "cpu_percent": 98.7,
          "cpu_time": 59.47,
          "name": "Runner_1",
          "real_mem": 511143936,
          "time": 1600675665.06052
         },
         {
          "cpu_percent": 0,
          "cpu_time": 59.58,
          "name": "Runner_1",
          "real_mem": 511143936,
          "time": 1600675665.1723218
         },
         {
          "cpu_percent": 98.5,
          "cpu_time": 59.7,
          "name": "Runner_1",
          "real_mem": 511143936,
          "time": 1600675665.2842171
         },
         {
          "cpu_percent": 98.6,
          "cpu_time": 59.81,
          "name": "Runner_1",
          "real_mem": 511143936,
          "time": 1600675665.396037
         },
         {
          "cpu_percent": 98.6,
          "cpu_time": 59.92,
          "name": "Runner_1",
          "real_mem": 511143936,
          "time": 1600675665.5077863
         },
         {
          "cpu_percent": 98.7,
          "cpu_time": 60.03,
          "name": "Runner_1",
          "real_mem": 511143936,
          "time": 1600675665.6195903
         },
         {
          "cpu_percent": 0,
          "cpu_time": 60.14,
          "name": "Runner_1",
          "real_mem": 511143936,
          "time": 1600675665.7313168
         },
         {
          "cpu_percent": 197.3,
          "cpu_time": 60.26,
          "name": "Runner_1",
          "real_mem": 511143936,
          "time": 1600675665.8430917
         },
         {
          "cpu_percent": 98.7,
          "cpu_time": 60.37,
          "name": "Runner_1",
          "real_mem": 511143936,
          "time": 1600675665.9548216
         },
         {
          "cpu_percent": 98.7,
          "cpu_time": 60.48,
          "name": "Runner_1",
          "real_mem": 511143936,
          "time": 1600675666.06653
         },
         {
          "cpu_percent": 98.2,
          "cpu_time": 60.59,
          "name": "Runner_1",
          "real_mem": 511143936,
          "time": 1600675666.1786633
         },
         {
          "cpu_percent": 98.6,
          "cpu_time": 60.7,
          "name": "Runner_1",
          "real_mem": 511143936,
          "time": 1600675666.2905533
         },
         {
          "cpu_percent": 197.3,
          "cpu_time": 60.82,
          "name": "Runner_1",
          "real_mem": 511143936,
          "time": 1600675666.402526
         },
         {
          "cpu_percent": 98.6,
          "cpu_time": 60.93,
          "name": "Runner_1",
          "real_mem": 511143936,
          "time": 1600675666.5141494
         },
         {
          "cpu_percent": 98.5,
          "cpu_time": 61.04,
          "name": "Runner_1",
          "real_mem": 511143936,
          "time": 1600675666.6257124
         },
         {
          "cpu_percent": 98.7,
          "cpu_time": 61.15,
          "name": "Runner_1",
          "real_mem": 511143936,
          "time": 1600675666.7372613
         },
         {
          "cpu_percent": 98.5,
          "cpu_time": 61.26,
          "name": "Runner_1",
          "real_mem": 511143936,
          "time": 1600675666.8488607
         },
         {
          "cpu_percent": 98.6,
          "cpu_time": 61.37,
          "name": "Runner_1",
          "real_mem": 511143936,
          "time": 1600675666.9604876
         },
         {
          "cpu_percent": 0,
          "cpu_time": 61.48,
          "name": "Runner_1",
          "real_mem": 511143936,
          "time": 1600675667.0720701
         },
         {
          "cpu_percent": 98.7,
          "cpu_time": 61.6,
          "name": "Runner_1",
          "real_mem": 511143936,
          "time": 1600675667.1836185
         },
         {
          "cpu_percent": 98.6,
          "cpu_time": 61.71,
          "name": "Runner_1",
          "real_mem": 511143936,
          "time": 1600675667.295367
         },
         {
          "cpu_percent": 98.5,
          "cpu_time": 61.82,
          "name": "Runner_1",
          "real_mem": 511143936,
          "time": 1600675667.406977
         },
         {
          "cpu_percent": 98.5,
          "cpu_time": 61.93,
          "name": "Runner_1",
          "real_mem": 511143936,
          "time": 1600675667.5185895
         },
         {
          "cpu_percent": 98.7,
          "cpu_time": 62.04,
          "name": "Runner_1",
          "real_mem": 511143936,
          "time": 1600675667.630224
         },
         {
          "cpu_percent": 197.2,
          "cpu_time": 62.16,
          "name": "Runner_1",
          "real_mem": 511143936,
          "time": 1600675667.7418857
         },
         {
          "cpu_percent": 98.7,
          "cpu_time": 62.27,
          "name": "Runner_1",
          "real_mem": 511143936,
          "time": 1600675667.8535407
         },
         {
          "cpu_percent": 98.7,
          "cpu_time": 62.38,
          "name": "Runner_1",
          "real_mem": 511143936,
          "time": 1600675667.9650648
         },
         {
          "cpu_percent": 98.6,
          "cpu_time": 62.49,
          "name": "Runner_1",
          "real_mem": 511143936,
          "time": 1600675668.0766637
         },
         {
          "cpu_percent": 98.6,
          "cpu_time": 62.6,
          "name": "Runner_1",
          "real_mem": 511143936,
          "time": 1600675668.1882198
         },
         {
          "cpu_percent": 98.4,
          "cpu_time": 62.71,
          "name": "Runner_1",
          "real_mem": 511143936,
          "time": 1600675668.2998521
         },
         {
          "cpu_percent": 0,
          "cpu_time": 62.82,
          "name": "Runner_1",
          "real_mem": 511143936,
          "time": 1600675668.411596
         },
         {
          "cpu_percent": 197.3,
          "cpu_time": 62.94,
          "name": "Runner_1",
          "real_mem": 511143936,
          "time": 1600675668.5231636
         },
         {
          "cpu_percent": 98.8,
          "cpu_time": 63.05,
          "name": "Runner_1",
          "real_mem": 511143936,
          "time": 1600675668.634875
         },
         {
          "cpu_percent": 98.6,
          "cpu_time": 63.16,
          "name": "Runner_1",
          "real_mem": 511143936,
          "time": 1600675668.746626
         },
         {
          "cpu_percent": 98.7,
          "cpu_time": 63.27,
          "name": "Runner_1",
          "real_mem": 511143936,
          "time": 1600675668.858165
         },
         {
          "cpu_percent": 98.8,
          "cpu_time": 63.38,
          "name": "Runner_1",
          "real_mem": 511143936,
          "time": 1600675668.9696956
         },
         {
          "cpu_percent": 197.5,
          "cpu_time": 63.5,
          "name": "Runner_1",
          "real_mem": 511143936,
          "time": 1600675669.0813038
         },
         {
          "cpu_percent": 98.6,
          "cpu_time": 63.61,
          "name": "Runner_1",
          "real_mem": 511143936,
          "time": 1600675669.1930776
         },
         {
          "cpu_percent": 98.1,
          "cpu_time": 63.72,
          "name": "Runner_1",
          "real_mem": 511143936,
          "time": 1600675669.3047857
         },
         {
          "cpu_percent": 98.4,
          "cpu_time": 63.83,
          "name": "Runner_1",
          "real_mem": 511143936,
          "time": 1600675669.4167097
         },
         {
          "cpu_percent": 98.5,
          "cpu_time": 63.94,
          "name": "Runner_1",
          "real_mem": 511143936,
          "time": 1600675669.5284712
         },
         {
          "cpu_percent": 98.7,
          "cpu_time": 64.05,
          "name": "Runner_1",
          "real_mem": 511143936,
          "time": 1600675669.6400409
         },
         {
          "cpu_percent": 0,
          "cpu_time": 64.16,
          "name": "Runner_1",
          "real_mem": 511143936,
          "time": 1600675669.751609
         },
         {
          "cpu_percent": 197.6,
          "cpu_time": 64.28,
          "name": "Runner_1",
          "real_mem": 511143936,
          "time": 1600675669.8630543
         },
         {
          "cpu_percent": 98.6,
          "cpu_time": 64.39,
          "name": "Runner_1",
          "real_mem": 511143936,
          "time": 1600675669.9745662
         },
         {
          "cpu_percent": 98.6,
          "cpu_time": 64.5,
          "name": "Runner_1",
          "real_mem": 511143936,
          "time": 1600675670.0861583
         },
         {
          "cpu_percent": 98.6,
          "cpu_time": 64.61,
          "name": "Runner_1",
          "real_mem": 511143936,
          "time": 1600675670.1976671
         },
         {
          "cpu_percent": 98.7,
          "cpu_time": 64.72,
          "name": "Runner_1",
          "real_mem": 511143936,
          "time": 1600675670.3092287
         },
         {
          "cpu_percent": 98.5,
          "cpu_time": 64.84,
          "name": "Runner_1",
          "real_mem": 511143936,
          "time": 1600675670.4209604
         },
         {
          "cpu_percent": 0,
          "cpu_time": 64.94,
          "name": "Runner_1",
          "real_mem": 511143936,
          "time": 1600675670.5325668
         },
         {
          "cpu_percent": 98.9,
          "cpu_time": 65.06,
          "name": "Runner_1",
          "real_mem": 511143936,
          "time": 1600675670.6440253
         },
         {
          "cpu_percent": 98.5,
          "cpu_time": 65.17,
          "name": "Runner_1",
          "real_mem": 511143936,
          "time": 1600675670.755697
         },
         {
          "cpu_percent": 98.5,
          "cpu_time": 65.28,
          "name": "Runner_1",
          "real_mem": 511143936,
          "time": 1600675670.8671727
         },
         {
          "cpu_percent": 98.5,
          "cpu_time": 65.39,
          "name": "Runner_1",
          "real_mem": 511143936,
          "time": 1600675670.978805
         },
         {
          "cpu_percent": 98.8,
          "cpu_time": 65.5,
          "name": "Runner_1",
          "real_mem": 511143936,
          "time": 1600675671.090313
         },
         {
          "cpu_percent": 197.2,
          "cpu_time": 65.62,
          "name": "Runner_1",
          "real_mem": 511143936,
          "time": 1600675671.2019508
         },
         {
          "cpu_percent": 98.6,
          "cpu_time": 65.73,
          "name": "Runner_1",
          "real_mem": 511143936,
          "time": 1600675671.3136632
         },
         {
          "cpu_percent": 98.7,
          "cpu_time": 65.84,
          "name": "Runner_1",
          "real_mem": 511143936,
          "time": 1600675671.4254348
         },
         {
          "cpu_percent": 98.6,
          "cpu_time": 65.95,
          "name": "Runner_1",
          "real_mem": 511143936,
          "time": 1600675671.537024
         },
         {
          "cpu_percent": 98.7,
          "cpu_time": 66.06,
          "name": "Runner_1",
          "real_mem": 511143936,
          "time": 1600675671.6485713
         },
         {
          "cpu_percent": 98.8,
          "cpu_time": 66.17,
          "name": "Runner_1",
          "real_mem": 511143936,
          "time": 1600675671.7600489
         },
         {
          "cpu_percent": 0,
          "cpu_time": 66.28,
          "name": "Runner_1",
          "real_mem": 511143936,
          "time": 1600675671.8716476
         },
         {
          "cpu_percent": 98.7,
          "cpu_time": 66.4,
          "name": "Runner_1",
          "real_mem": 511143936,
          "time": 1600675671.9831243
         },
         {
          "cpu_percent": 98.7,
          "cpu_time": 66.51,
          "name": "Runner_1",
          "real_mem": 511143936,
          "time": 1600675672.0946317
         },
         {
          "cpu_percent": 98.6,
          "cpu_time": 66.62,
          "name": "Runner_1",
          "real_mem": 511143936,
          "time": 1600675672.2061386
         },
         {
          "cpu_percent": 98.7,
          "cpu_time": 66.73,
          "name": "Runner_1",
          "real_mem": 511143936,
          "time": 1600675672.3177052
         },
         {
          "cpu_percent": 98.7,
          "cpu_time": 66.84,
          "name": "Runner_1",
          "real_mem": 511143936,
          "time": 1600675672.4293334
         },
         {
          "cpu_percent": 98.6,
          "cpu_time": 66.96,
          "name": "Runner_1",
          "real_mem": 511143936,
          "time": 1600675672.5409431
         },
         {
          "cpu_percent": 0,
          "cpu_time": 67.06,
          "name": "Runner_1",
          "real_mem": 511143936,
          "time": 1600675672.6524608
         },
         {
          "cpu_percent": 98.6,
          "cpu_time": 67.18,
          "name": "Runner_1",
          "real_mem": 511143936,
          "time": 1600675672.76405
         },
         {
          "cpu_percent": 98.7,
          "cpu_time": 67.29,
          "name": "Runner_1",
          "real_mem": 511143936,
          "time": 1600675672.8756027
         },
         {
          "cpu_percent": 98.7,
          "cpu_time": 67.4,
          "name": "Runner_1",
          "real_mem": 511143936,
          "time": 1600675672.9871352
         },
         {
          "cpu_percent": 98.7,
          "cpu_time": 67.51,
          "name": "Runner_1",
          "real_mem": 511143936,
          "time": 1600675673.0986362
         },
         {
          "cpu_percent": 98.8,
          "cpu_time": 67.62,
          "name": "Runner_1",
          "real_mem": 511143936,
          "time": 1600675673.210217
         },
         {
          "cpu_percent": 197.1,
          "cpu_time": 67.74,
          "name": "Runner_1",
          "real_mem": 511143936,
          "time": 1600675673.321838
         },
         {
          "cpu_percent": 98.7,
          "cpu_time": 67.85,
          "name": "Runner_1",
          "real_mem": 511143936,
          "time": 1600675673.433518
         },
         {
          "cpu_percent": 98.8,
          "cpu_time": 67.96,
          "name": "Runner_1",
          "real_mem": 511143936,
          "time": 1600675673.5452056
         },
         {
          "cpu_percent": 98.5,
          "cpu_time": 68.07,
          "name": "Runner_1",
          "real_mem": 511143936,
          "time": 1600675673.6567879
         },
         {
          "cpu_percent": 98.6,
          "cpu_time": 68.18,
          "name": "Runner_1",
          "real_mem": 511143936,
          "time": 1600675673.7684188
         },
         {
          "cpu_percent": 98.7,
          "cpu_time": 68.29,
          "name": "Runner_1",
          "real_mem": 511143936,
          "time": 1600675673.8799043
         },
         {
          "cpu_percent": 0,
          "cpu_time": 68.4,
          "name": "Runner_1",
          "real_mem": 511143936,
          "time": 1600675673.9915352
         },
         {
          "cpu_percent": 197.2,
          "cpu_time": 68.52,
          "name": "Runner_1",
          "real_mem": 511143936,
          "time": 1600675674.1030846
         },
         {
          "cpu_percent": 98.6,
          "cpu_time": 68.63,
          "name": "Runner_1",
          "real_mem": 511143936,
          "time": 1600675674.214731
         },
         {
          "cpu_percent": 98.7,
          "cpu_time": 68.74,
          "name": "Runner_1",
          "real_mem": 511143936,
          "time": 1600675674.326304
         },
         {
          "cpu_percent": 98.8,
          "cpu_time": 68.85,
          "name": "Runner_1",
          "real_mem": 511143936,
          "time": 1600675674.4377942
         },
         {
          "cpu_percent": 98.8,
          "cpu_time": 68.96,
          "name": "Runner_1",
          "real_mem": 511143936,
          "time": 1600675674.5492496
         },
         {
          "cpu_percent": 98.5,
          "cpu_time": 69.08,
          "name": "Runner_1",
          "real_mem": 511143936,
          "time": 1600675674.660927
         },
         {
          "cpu_percent": 0,
          "cpu_time": 69.18,
          "name": "Runner_1",
          "real_mem": 511143936,
          "time": 1600675674.7725835
         },
         {
          "cpu_percent": 98.6,
          "cpu_time": 69.3,
          "name": "Runner_1",
          "real_mem": 511143936,
          "time": 1600675674.8842018
         },
         {
          "cpu_percent": 98.6,
          "cpu_time": 69.41,
          "name": "Runner_1",
          "real_mem": 511143936,
          "time": 1600675674.9958496
         },
         {
          "cpu_percent": 98.6,
          "cpu_time": 69.52,
          "name": "Runner_1",
          "real_mem": 511143936,
          "time": 1600675675.1075387
         },
         {
          "cpu_percent": 98.5,
          "cpu_time": 69.63,
          "name": "Runner_1",
          "real_mem": 511143936,
          "time": 1600675675.2192378
         },
         {
          "cpu_percent": 98.6,
          "cpu_time": 69.74,
          "name": "Runner_1",
          "real_mem": 511143936,
          "time": 1600675675.3308458
         },
         {
          "cpu_percent": 98.5,
          "cpu_time": 69.85,
          "name": "Runner_1",
          "real_mem": 511143936,
          "time": 1600675675.4425623
         },
         {
          "cpu_percent": 197.4,
          "cpu_time": 69.97,
          "name": "Runner_1",
          "real_mem": 511143936,
          "time": 1600675675.554076
         },
         {
          "cpu_percent": 98.5,
          "cpu_time": 70.08,
          "name": "Runner_1",
          "real_mem": 511143936,
          "time": 1600675675.6657135
         },
         {
          "cpu_percent": 98.7,
          "cpu_time": 70.19,
          "name": "Runner_1",
          "real_mem": 511143936,
          "time": 1600675675.7774813
         },
         {
          "cpu_percent": 98.6,
          "cpu_time": 70.3,
          "name": "Runner_1",
          "real_mem": 511143936,
          "time": 1600675675.889078
         },
         {
          "cpu_percent": 98.3,
          "cpu_time": 70.41,
          "name": "Runner_1",
          "real_mem": 511143936,
          "time": 1600675676.0007079
         },
         {
          "cpu_percent": 98.6,
          "cpu_time": 70.52,
          "name": "Runner_1",
          "real_mem": 511143936,
          "time": 1600675676.112295
         },
         {
          "cpu_percent": 0,
          "cpu_time": 70.63,
          "name": "Runner_1",
          "real_mem": 511143936,
          "time": 1600675676.223902
         },
         {
          "cpu_percent": 2856.1,
          "cpu_time": 71.83,
          "name": "Runner_1",
          "real_mem": 511143936,
          "time": 1600675676.3357844
         },
         {
          "cpu_percent": 1876.9,
          "cpu_time": 74.63,
          "name": "Runner_1",
          "real_mem": 511143936,
          "time": 1600675676.447363
         },
         {
          "cpu_percent": 98.7,
          "cpu_time": 77.47,
          "name": "Runner_1",
          "real_mem": 519856128,
          "time": 1600675676.5587797
         },
         {
          "cpu_percent": 98.7,
          "cpu_time": 77.58,
          "name": "Runner_1",
          "real_mem": 519856128,
          "time": 1600675676.6703117
         },
         {
          "cpu_percent": 98.6,
          "cpu_time": 77.69,
          "name": "Runner_1",
          "real_mem": 519856128,
          "time": 1600675676.7820792
         },
         {
          "cpu_percent": 98.3,
          "cpu_time": 77.8,
          "name": "Runner_1",
          "real_mem": 519856128,
          "time": 1600675676.8938484
         },
         {
          "cpu_percent": 98.8,
          "cpu_time": 77.91,
          "name": "Runner_1",
          "real_mem": 519856128,
          "time": 1600675677.0055244
         },
         {
          "cpu_percent": 98.6,
          "cpu_time": 78.02,
          "name": "Runner_1",
          "real_mem": 519856128,
          "time": 1600675677.1173105
         },
         {
          "cpu_percent": 98.6,
          "cpu_time": 78.13,
          "name": "Runner_1",
          "real_mem": 519856128,
          "time": 1600675677.229036
         },
         {
          "cpu_percent": 98.5,
          "cpu_time": 78.24,
          "name": "Runner_1",
          "real_mem": 519856128,
          "time": 1600675677.3407257
         },
         {
          "cpu_percent": 98.6,
          "cpu_time": 78.35,
          "name": "Runner_1",
          "real_mem": 519856128,
          "time": 1600675677.4523008
         },
         {
          "cpu_percent": 0,
          "cpu_time": 78.46,
          "name": "Runner_1",
          "real_mem": 519856128,
          "time": 1600675677.563931
         },
         {
          "cpu_percent": 98.6,
          "cpu_time": 78.58,
          "name": "Runner_1",
          "real_mem": 519856128,
          "time": 1600675677.6756082
         },
         {
          "cpu_percent": 98.6,
          "cpu_time": 78.69,
          "name": "Runner_1",
          "real_mem": 519856128,
          "time": 1600675677.7871757
         },
         {
          "cpu_percent": 98.7,
          "cpu_time": 78.8,
          "name": "Runner_1",
          "real_mem": 519856128,
          "time": 1600675677.8988419
         },
         {
          "cpu_percent": 98.6,
          "cpu_time": 78.91,
          "name": "Runner_1",
          "real_mem": 519856128,
          "time": 1600675678.0106437
         },
         {
          "cpu_percent": 98.6,
          "cpu_time": 79.02,
          "name": "Runner_1",
          "real_mem": 519856128,
          "time": 1600675678.1222572
         },
         {
          "cpu_percent": 196.9,
          "cpu_time": 79.14,
          "name": "Runner_1",
          "real_mem": 519856128,
          "time": 1600675678.2340019
         },
         {
          "cpu_percent": 97.7,
          "cpu_time": 79.25,
          "name": "Runner_1",
          "real_mem": 519856128,
          "time": 1600675678.345856
         },
         {
          "cpu_percent": 98.7,
          "cpu_time": 79.36,
          "name": "Runner_1",
          "real_mem": 519856128,
          "time": 1600675678.4576752
         },
         {
          "cpu_percent": 98.5,
          "cpu_time": 79.47,
          "name": "Runner_1",
          "real_mem": 519856128,
          "time": 1600675678.569391
         },
         {
          "cpu_percent": 98.5,
          "cpu_time": 79.58,
          "name": "Runner_1",
          "real_mem": 519856128,
          "time": 1600675678.6810768
         },
         {
          "cpu_percent": 98.8,
          "cpu_time": 79.69,
          "name": "Runner_1",
          "real_mem": 519856128,
          "time": 1600675678.7925594
         },
         {
          "cpu_percent": 98.7,
          "cpu_time": 79.8,
          "name": "Runner_1",
          "real_mem": 519856128,
          "time": 1600675678.9040496
         },
         {
          "cpu_percent": 0,
          "cpu_time": 79.91,
          "name": "Runner_1",
          "real_mem": 519856128,
          "time": 1600675679.015608
         },
         {
          "cpu_percent": 196.4,
          "cpu_time": 80.03,
          "name": "Runner_1",
          "real_mem": 519856128,
          "time": 1600675679.1272204
         },
         {
          "cpu_percent": 98.7,
          "cpu_time": 80.14,
          "name": "Runner_1",
          "real_mem": 519856128,
          "time": 1600675679.2387986
         },
         {
          "cpu_percent": 98.7,
          "cpu_time": 80.25,
          "name": "Runner_1",
          "real_mem": 519856128,
          "time": 1600675679.350459
         },
         {
          "cpu_percent": 98.7,
          "cpu_time": 80.36,
          "name": "Runner_1",
          "real_mem": 519856128,
          "time": 1600675679.4619884
         },
         {
          "cpu_percent": 98.6,
          "cpu_time": 80.47,
          "name": "Runner_1",
          "real_mem": 519856128,
          "time": 1600675679.573537
         },
         {
          "cpu_percent": 196.9,
          "cpu_time": 80.59,
          "name": "Runner_1",
          "real_mem": 519856128,
          "time": 1600675679.6853104
         },
         {
          "cpu_percent": 98.5,
          "cpu_time": 80.7,
          "name": "Runner_1",
          "real_mem": 519856128,
          "time": 1600675679.7970145
         },
         {
          "cpu_percent": 98.7,
          "cpu_time": 80.81,
          "name": "Runner_1",
          "real_mem": 519856128,
          "time": 1600675679.908497
         },
         {
          "cpu_percent": 98.6,
          "cpu_time": 80.92,
          "name": "Runner_1",
          "real_mem": 519856128,
          "time": 1600675680.0200627
         },
         {
          "cpu_percent": 98.6,
          "cpu_time": 81.03,
          "name": "Runner_1",
          "real_mem": 519856128,
          "time": 1600675680.1316845
         },
         {
          "cpu_percent": 98.5,
          "cpu_time": 81.14,
          "name": "Runner_1",
          "real_mem": 519856128,
          "time": 1600675680.2436073
         },
         {
          "cpu_percent": 0,
          "cpu_time": 81.25,
          "name": "Runner_1",
          "real_mem": 519856128,
          "time": 1600675680.3553133
         },
         {
          "cpu_percent": 98.5,
          "cpu_time": 81.37,
          "name": "Runner_1",
          "real_mem": 519856128,
          "time": 1600675680.4700196
         },
         {
          "cpu_percent": 98.8,
          "cpu_time": 81.48,
          "name": "Runner_1",
          "real_mem": 519856128,
          "time": 1600675680.5815008
         },
         {
          "cpu_percent": 98.8,
          "cpu_time": 81.59,
          "name": "Runner_1",
          "real_mem": 519856128,
          "time": 1600675680.6930962
         },
         {
          "cpu_percent": 98.5,
          "cpu_time": 81.7,
          "name": "Runner_1",
          "real_mem": 519856128,
          "time": 1600675680.8047183
         },
         {
          "cpu_percent": 98.6,
          "cpu_time": 81.81,
          "name": "Runner_1",
          "real_mem": 519856128,
          "time": 1600675680.9163933
         },
         {
          "cpu_percent": 0,
          "cpu_time": 81.92,
          "name": "Runner_1",
          "real_mem": 519856128,
          "time": 1600675681.0281074
         },
         {
          "cpu_percent": 98.6,
          "cpu_time": 82.04,
          "name": "Runner_1",
          "real_mem": 519856128,
          "time": 1600675681.1397629
         },
         {
          "cpu_percent": 98.6,
          "cpu_time": 82.15,
          "name": "Runner_1",
          "real_mem": 519856128,
          "time": 1600675681.251544
         },
         {
          "cpu_percent": 98.3,
          "cpu_time": 82.26,
          "name": "Runner_1",
          "real_mem": 519856128,
          "time": 1600675681.363468
         },
         {
          "cpu_percent": 98.4,
          "cpu_time": 82.37,
          "name": "Runner_1",
          "real_mem": 519856128,
          "time": 1600675681.4752173
         },
         {
          "cpu_percent": 98.3,
          "cpu_time": 82.48,
          "name": "Runner_1",
          "real_mem": 519856128,
          "time": 1600675681.5872095
         },
         {
          "cpu_percent": 197.2,
          "cpu_time": 82.6,
          "name": "Runner_1",
          "real_mem": 519856128,
          "time": 1600675681.698999
         },
         {
          "cpu_percent": 98.6,
          "cpu_time": 82.71,
          "name": "Runner_1",
          "real_mem": 519856128,
          "time": 1600675681.810655
         },
         {
          "cpu_percent": 98.7,
          "cpu_time": 82.82,
          "name": "Runner_1",
          "real_mem": 519856128,
          "time": 1600675681.922193
         },
         {
          "cpu_percent": 98.4,
          "cpu_time": 82.93,
          "name": "Runner_1",
          "real_mem": 519856128,
          "time": 1600675682.0342293
         },
         {
          "cpu_percent": 98.6,
          "cpu_time": 83.04,
          "name": "Runner_1",
          "real_mem": 519856128,
          "time": 1600675682.1458874
         },
         {
          "cpu_percent": 197.4,
          "cpu_time": 83.16,
          "name": "Runner_1",
          "real_mem": 519856128,
          "time": 1600675682.2575269
         },
         {
          "cpu_percent": 98.5,
          "cpu_time": 83.27,
          "name": "Runner_1",
          "real_mem": 519856128,
          "time": 1600675682.3690977
         },
         {
          "cpu_percent": 98.3,
          "cpu_time": 83.38,
          "name": "Runner_1",
          "real_mem": 519856128,
          "time": 1600675682.4810722
         },
         {
          "cpu_percent": 98.7,
          "cpu_time": 83.49,
          "name": "Runner_1",
          "real_mem": 519856128,
          "time": 1600675682.5927866
         },
         {
          "cpu_percent": 98.2,
          "cpu_time": 83.6,
          "name": "Runner_1",
          "real_mem": 519856128,
          "time": 1600675682.7047698
         },
         {
          "cpu_percent": 98.6,
          "cpu_time": 83.71,
          "name": "Runner_1",
          "real_mem": 519856128,
          "time": 1600675682.8168073
         },
         {
          "cpu_percent": 98.6,
          "cpu_time": 83.82,
          "name": "Runner_1",
          "real_mem": 519856128,
          "time": 1600675682.9285288
         },
         {
          "cpu_percent": 0,
          "cpu_time": 83.93,
          "name": "Runner_1",
          "real_mem": 519856128,
          "time": 1600675683.0402534
         },
         {
          "cpu_percent": 98.4,
          "cpu_time": 84.05,
          "name": "Runner_1",
          "real_mem": 519856128,
          "time": 1600675683.1523936
         },
         {
          "cpu_percent": 98.6,
          "cpu_time": 84.16,
          "name": "Runner_1",
          "real_mem": 519856128,
          "time": 1600675683.2641833
         },
         {
          "cpu_percent": 98.5,
          "cpu_time": 84.27,
          "name": "Runner_1",
          "real_mem": 519856128,
          "time": 1600675683.376227
         },
         {
          "cpu_percent": 98.4,
          "cpu_time": 84.38,
          "name": "Runner_1",
          "real_mem": 519856128,
          "time": 1600675683.4878695
         },
         {
          "cpu_percent": 0,
          "cpu_time": 84.49,
          "name": "Runner_1",
          "real_mem": 519856128,
          "time": 1600675683.5995784
         },
         {
          "cpu_percent": 197.3,
          "cpu_time": 84.61,
          "name": "Runner_1",
          "real_mem": 519856128,
          "time": 1600675683.7111332
         },
         {
          "cpu_percent": 98.6,
          "cpu_time": 84.72,
          "name": "Runner_1",
          "real_mem": 519856128,
          "time": 1600675683.8226619
         },
         {
          "cpu_percent": 98.4,
          "cpu_time": 84.83,
          "name": "Runner_1",
          "real_mem": 519856128,
          "time": 1600675683.9345345
         },
         {
          "cpu_percent": 98.7,
          "cpu_time": 84.94,
          "name": "Runner_1",
          "real_mem": 519856128,
          "time": 1600675684.046085
         },
         {
          "cpu_percent": 98.5,
          "cpu_time": 85.05,
          "name": "Runner_1",
          "real_mem": 519856128,
          "time": 1600675684.1576836
         },
         {
          "cpu_percent": 98.4,
          "cpu_time": 85.16,
          "name": "Runner_1",
          "real_mem": 519856128,
          "time": 1600675684.2697065
         },
         {
          "cpu_percent": 197.1,
          "cpu_time": 85.28,
          "name": "Runner_1",
          "real_mem": 519856128,
          "time": 1600675684.3815825
         },
         {
          "cpu_percent": 98.1,
          "cpu_time": 85.39,
          "name": "Runner_1",
          "real_mem": 519856128,
          "time": 1600675684.4937525
         },
         {
          "cpu_percent": 98.3,
          "cpu_time": 85.5,
          "name": "Runner_1",
          "real_mem": 519856128,
          "time": 1600675684.6057239
         },
         {
          "cpu_percent": 98.7,
          "cpu_time": 85.61,
          "name": "Runner_1",
          "real_mem": 519856128,
          "time": 1600675684.71751
         },
         {
          "cpu_percent": 98.6,
          "cpu_time": 85.72,
          "name": "Runner_1",
          "real_mem": 519856128,
          "time": 1600675684.8290818
         },
         {
          "cpu_percent": 98.1,
          "cpu_time": 85.84,
          "name": "Runner_1",
          "real_mem": 519856128,
          "time": 1600675684.9409442
         },
         {
          "cpu_percent": 0,
          "cpu_time": 85.94,
          "name": "Runner_1",
          "real_mem": 519856128,
          "time": 1600675685.0528498
         },
         {
          "cpu_percent": 98.7,
          "cpu_time": 86.06,
          "name": "Runner_1",
          "real_mem": 519856128,
          "time": 1600675685.1644142
         },
         {
          "cpu_percent": 98.5,
          "cpu_time": 86.17,
          "name": "Runner_1",
          "real_mem": 519856128,
          "time": 1600675685.2760515
         },
         {
          "cpu_percent": 98.3,
          "cpu_time": 86.28,
          "name": "Runner_1",
          "real_mem": 519856128,
          "time": 1600675685.3878286
         },
         {
          "cpu_percent": 98.4,
          "cpu_time": 86.39,
          "name": "Runner_1",
          "real_mem": 519856128,
          "time": 1600675685.4997077
         },
         {
          "cpu_percent": 0,
          "cpu_time": 86.5,
          "name": "Runner_1",
          "real_mem": 519856128,
          "time": 1600675685.6116273
         },
         {
          "cpu_percent": 98.8,
          "cpu_time": 86.62,
          "name": "Runner_1",
          "real_mem": 519856128,
          "time": 1600675685.7233605
         },
         {
          "cpu_percent": 98.4,
          "cpu_time": 86.73,
          "name": "Runner_1",
          "real_mem": 519856128,
          "time": 1600675685.835076
         },
         {
          "cpu_percent": 98.6,
          "cpu_time": 86.84,
          "name": "Runner_1",
          "real_mem": 519856128,
          "time": 1600675685.946703
         },
         {
          "cpu_percent": 98.6,
          "cpu_time": 86.95,
          "name": "Runner_1",
          "real_mem": 519856128,
          "time": 1600675686.058313
         },
         {
          "cpu_percent": 98.5,
          "cpu_time": 87.06,
          "name": "Runner_1",
          "real_mem": 519856128,
          "time": 1600675686.1700623
         },
         {
          "cpu_percent": 98.7,
          "cpu_time": 87.17,
          "name": "Runner_1",
          "real_mem": 519856128,
          "time": 1600675686.2816408
         },
         {
          "cpu_percent": 197.5,
          "cpu_time": 87.29,
          "name": "Runner_1",
          "real_mem": 519856128,
          "time": 1600675686.3932104
         },
         {
          "cpu_percent": 0,
          "cpu_time": 87.39,
          "name": "Runner_1",
          "real_mem": 519856128,
          "time": 1600675686.5048118
         },
         {
          "cpu_percent": 0,
          "cpu_time": 87.5,
          "name": "Runner_1",
          "real_mem": 519856128,
          "time": 1600675686.6166623
         },
         {
          "cpu_percent": 98.8,
          "cpu_time": 87.62,
          "name": "Runner_1",
          "real_mem": 519856128,
          "time": 1600675686.7281904
         },
         {
          "cpu_percent": 98.3,
          "cpu_time": 87.73,
          "name": "Runner_1",
          "real_mem": 519856128,
          "time": 1600675686.8397033
         },
         {
          "cpu_percent": 98.6,
          "cpu_time": 87.84,
          "name": "Runner_1",
          "real_mem": 519856128,
          "time": 1600675686.9512973
         },
         {
          "cpu_percent": 98.6,
          "cpu_time": 87.95,
          "name": "Runner_1",
          "real_mem": 519856128,
          "time": 1600675687.0631263
         },
         {
          "cpu_percent": 98.5,
          "cpu_time": 88.06,
          "name": "Runner_1",
          "real_mem": 519856128,
          "time": 1600675687.174871
         },
         {
          "cpu_percent": 197.5,
          "cpu_time": 88.18,
          "name": "Runner_1",
          "real_mem": 519856128,
          "time": 1600675687.286516
         },
         {
          "cpu_percent": 98.6,
          "cpu_time": 88.29,
          "name": "Runner_1",
          "real_mem": 519856128,
          "time": 1600675687.3980896
         },
         {
          "cpu_percent": 98.6,
          "cpu_time": 88.4,
          "name": "Runner_1",
          "real_mem": 519856128,
          "time": 1600675687.5097468
         },
         {
          "cpu_percent": 98.7,
          "cpu_time": 88.51,
          "name": "Runner_1",
          "real_mem": 519856128,
          "time": 1600675687.6215668
         },
         {
          "cpu_percent": 98.8,
          "cpu_time": 88.62,
          "name": "Runner_1",
          "real_mem": 519856128,
          "time": 1600675687.7332757
         },
         {
          "cpu_percent": 196.5,
          "cpu_time": 88.74,
          "name": "Runner_1",
          "real_mem": 519856128,
          "time": 1600675687.8452735
         },
         {
          "cpu_percent": 98.9,
          "cpu_time": 88.85,
          "name": "Runner_1",
          "real_mem": 519856128,
          "time": 1600675687.957156
         },
         {
          "cpu_percent": 98.6,
          "cpu_time": 88.96,
          "name": "Runner_1",
          "real_mem": 519856128,
          "time": 1600675688.0689244
         },
         {
          "cpu_percent": 98.6,
          "cpu_time": 89.07,
          "name": "Runner_1",
          "real_mem": 519856128,
          "time": 1600675688.1843853
         },
         {
          "cpu_percent": 0,
          "cpu_time": 89.18,
          "name": "Runner_1",
          "real_mem": 519856128,
          "time": 1600675688.2961252
         },
         {
          "cpu_percent": 98.6,
          "cpu_time": 89.3,
          "name": "Runner_1",
          "real_mem": 519856128,
          "time": 1600675688.4078841
         },
         {
          "cpu_percent": 98.7,
          "cpu_time": 89.41,
          "name": "Runner_1",
          "real_mem": 519856128,
          "time": 1600675688.5195324
         },
         {
          "cpu_percent": 2961.6,
          "cpu_time": 91.37,
          "name": "Runner_1",
          "real_mem": 519856128,
          "time": 1600675688.6311114
         },
         {
          "cpu_percent": 2362.8,
          "cpu_time": 94.07,
          "name": "Runner_1",
          "real_mem": 519856128,
          "time": 1600675688.7429128
         },
         {
          "cpu_percent": 197.8,
          "cpu_time": 94.19,
          "name": "Runner_1",
          "real_mem": 464515072,
          "time": 1600675688.8543224
         },
         {
          "cpu_percent": 98.8,
          "cpu_time": 94.3,
          "name": "Runner_1",
          "real_mem": 464515072,
          "time": 1600675688.9658444
         },
         {
          "cpu_percent": 98.6,
          "cpu_time": 94.41,
          "name": "Runner_1",
          "real_mem": 464515072,
          "time": 1600675689.077502
         },
         {
          "cpu_percent": 99,
          "cpu_time": 94.52,
          "name": "Runner_1",
          "real_mem": 464515072,
          "time": 1600675689.1891117
         },
         {
          "cpu_percent": 98.4,
          "cpu_time": 94.63,
          "name": "Runner_1",
          "real_mem": 464515072,
          "time": 1600675689.3007445
         },
         {
          "cpu_percent": 98.7,
          "cpu_time": 94.74,
          "name": "Runner_1",
          "real_mem": 464515072,
          "time": 1600675689.412407
         },
         {
          "cpu_percent": 0,
          "cpu_time": 94.85,
          "name": "Runner_1",
          "real_mem": 464515072,
          "time": 1600675689.52402
         },
         {
          "cpu_percent": 98.6,
          "cpu_time": 94.97,
          "name": "Runner_1",
          "real_mem": 464515072,
          "time": 1600675689.6357474
         },
         {
          "cpu_percent": 98.7,
          "cpu_time": 95.08,
          "name": "Runner_1",
          "real_mem": 464515072,
          "time": 1600675689.7473376
         },
         {
          "cpu_percent": 98.6,
          "cpu_time": 95.19,
          "name": "Runner_1",
          "real_mem": 464515072,
          "time": 1600675689.8590627
         },
         {
          "cpu_percent": 98.6,
          "cpu_time": 95.3,
          "name": "Runner_1",
          "real_mem": 464515072,
          "time": 1600675689.9707801
         },
         {
          "cpu_percent": 98.2,
          "cpu_time": 95.41,
          "name": "Runner_1",
          "real_mem": 464515072,
          "time": 1600675690.0828397
         },
         {
          "cpu_percent": 197.5,
          "cpu_time": 95.53,
          "name": "Runner_1",
          "real_mem": 464515072,
          "time": 1600675690.1945384
         },
         {
          "cpu_percent": 98.8,
          "cpu_time": 95.64,
          "name": "Runner_1",
          "real_mem": 464515072,
          "time": 1600675690.3061392
         },
         {
          "cpu_percent": 98.5,
          "cpu_time": 95.75,
          "name": "Runner_1",
          "real_mem": 464515072,
          "time": 1600675690.4179678
         },
         {
          "cpu_percent": 98.7,
          "cpu_time": 95.86,
          "name": "Runner_1",
          "real_mem": 464515072,
          "time": 1600675690.5297196
         },
         {
          "cpu_percent": 98.7,
          "cpu_time": 95.97,
          "name": "Runner_1",
          "real_mem": 464515072,
          "time": 1600675690.6414676
         },
         {
          "cpu_percent": 197.6,
          "cpu_time": 96.09,
          "name": "Runner_1",
          "real_mem": 464515072,
          "time": 1600675690.7531478
         },
         {
          "cpu_percent": 98.5,
          "cpu_time": 96.2,
          "name": "Runner_1",
          "real_mem": 464515072,
          "time": 1600675690.8649948
         },
         {
          "cpu_percent": 98.4,
          "cpu_time": 96.31,
          "name": "Runner_1",
          "real_mem": 464515072,
          "time": 1600675690.9768314
         },
         {
          "cpu_percent": 98.7,
          "cpu_time": 96.42,
          "name": "Runner_1",
          "real_mem": 464515072,
          "time": 1600675691.088589
         },
         {
          "cpu_percent": 98.7,
          "cpu_time": 96.53,
          "name": "Runner_1",
          "real_mem": 464515072,
          "time": 1600675691.2012544
         },
         {
          "cpu_percent": 98.5,
          "cpu_time": 96.65,
          "name": "Runner_1",
          "real_mem": 464515072,
          "time": 1600675691.3129342
         },
         {
          "cpu_percent": 0,
          "cpu_time": 96.75,
          "name": "Runner_1",
          "real_mem": 464515072,
          "time": 1600675691.4246092
         },
         {
          "cpu_percent": 98.7,
          "cpu_time": 96.87,
          "name": "Runner_1",
          "real_mem": 464515072,
          "time": 1600675691.536397
         },
         {
          "cpu_percent": 98.7,
          "cpu_time": 96.98,
          "name": "Runner_1",
          "real_mem": 464515072,
          "time": 1600675691.6480293
         },
         {
          "cpu_percent": 98.6,
          "cpu_time": 97.09,
          "name": "Runner_1",
          "real_mem": 464515072,
          "time": 1600675691.759759
         },
         {
          "cpu_percent": 98.6,
          "cpu_time": 97.2,
          "name": "Runner_1",
          "real_mem": 464515072,
          "time": 1600675691.8715928
         },
         {
          "cpu_percent": 0,
          "cpu_time": 97.31,
          "name": "Runner_1",
          "real_mem": 464515072,
          "time": 1600675691.983409
         },
         {
          "cpu_percent": 197,
          "cpu_time": 97.43,
          "name": "Runner_1",
          "real_mem": 464515072,
          "time": 1600675692.0951662
         },
         {
          "cpu_percent": 98.8,
          "cpu_time": 97.54,
          "name": "Runner_1",
          "real_mem": 464515072,
          "time": 1600675692.206818
         },
         {
          "cpu_percent": 98.6,
          "cpu_time": 97.65,
          "name": "Runner_1",
          "real_mem": 464515072,
          "time": 1600675692.3185503
         },
         {
          "cpu_percent": 98.7,
          "cpu_time": 97.76,
          "name": "Runner_1",
          "real_mem": 464515072,
          "time": 1600675692.4302819
         },
         {
          "cpu_percent": 98.4,
          "cpu_time": 97.87,
          "name": "Runner_1",
          "real_mem": 464515072,
          "time": 1600675692.5421522
         },
         {
          "cpu_percent": 197.2,
          "cpu_time": 97.99,
          "name": "Runner_1",
          "real_mem": 464515072,
          "time": 1600675692.6538537
         },
         {
          "cpu_percent": 98.8,
          "cpu_time": 98.1,
          "name": "Runner_1",
          "real_mem": 464515072,
          "time": 1600675692.765469
         },
         {
          "cpu_percent": 98.7,
          "cpu_time": 98.21,
          "name": "Runner_1",
          "real_mem": 464515072,
          "time": 1600675692.8772125
         },
         {
          "cpu_percent": 98.7,
          "cpu_time": 98.32,
          "name": "Runner_1",
          "real_mem": 464515072,
          "time": 1600675692.9888136
         },
         {
          "cpu_percent": 98.7,
          "cpu_time": 98.43,
          "name": "Runner_1",
          "real_mem": 464515072,
          "time": 1600675693.1003642
         },
         {
          "cpu_percent": 98.5,
          "cpu_time": 98.54,
          "name": "Runner_1",
          "real_mem": 464515072,
          "time": 1600675693.2119474
         },
         {
          "cpu_percent": 0,
          "cpu_time": 98.65,
          "name": "Runner_1",
          "real_mem": 464515072,
          "time": 1600675693.323537
         },
         {
          "cpu_percent": 197.3,
          "cpu_time": 98.77,
          "name": "Runner_1",
          "real_mem": 464515072,
          "time": 1600675693.4351401
         },
         {
          "cpu_percent": 98,
          "cpu_time": 98.88,
          "name": "Runner_1",
          "real_mem": 464515072,
          "time": 1600675693.5468686
         },
         {
          "cpu_percent": 98.4,
          "cpu_time": 98.99,
          "name": "Runner_1",
          "real_mem": 464515072,
          "time": 1600675693.6585782
         },
         {
          "cpu_percent": 98.7,
          "cpu_time": 99.1,
          "name": "Runner_1",
          "real_mem": 464515072,
          "time": 1600675693.7701492
         },
         {
          "cpu_percent": 98.3,
          "cpu_time": 99.21,
          "name": "Runner_1",
          "real_mem": 464515072,
          "time": 1600675693.8818033
         },
         {
          "cpu_percent": 197.5,
          "cpu_time": 99.33,
          "name": "Runner_1",
          "real_mem": 464515072,
          "time": 1600675693.9932923
         },
         {
          "cpu_percent": 0,
          "cpu_time": 99.43,
          "name": "Runner_1",
          "real_mem": 464515072,
          "time": 1600675694.1048288
         },
         {
          "cpu_percent": 98.5,
          "cpu_time": 99.55,
          "name": "Runner_1",
          "real_mem": 464515072,
          "time": 1600675694.2163901
         },
         {
          "cpu_percent": 98.5,
          "cpu_time": 99.66,
          "name": "Runner_1",
          "real_mem": 464515072,
          "time": 1600675694.3281326
         },
         {
          "cpu_percent": 98.5,
          "cpu_time": 99.77,
          "name": "Runner_1",
          "real_mem": 464515072,
          "time": 1600675694.4398212
         },
         {
          "cpu_percent": 98.7,
          "cpu_time": 99.88,
          "name": "Runner_1",
          "real_mem": 464515072,
          "time": 1600675694.5514219
         },
         {
          "cpu_percent": 98.6,
          "cpu_time": 99.99,
          "name": "Runner_1",
          "real_mem": 464515072,
          "time": 1600675694.6629436
         },
         {
          "cpu_percent": 197.6,
          "cpu_time": 100.11,
          "name": "Runner_1",
          "real_mem": 464515072,
          "time": 1600675694.7744408
         },
         {
          "cpu_percent": 98.8,
          "cpu_time": 100.22,
          "name": "Runner_1",
          "real_mem": 464515072,
          "time": 1600675694.8859112
         },
         {
          "cpu_percent": 98.6,
          "cpu_time": 100.33,
          "name": "Runner_1",
          "real_mem": 464515072,
          "time": 1600675694.9974973
         },
         {
          "cpu_percent": 98.5,
          "cpu_time": 100.44,
          "name": "Runner_1",
          "real_mem": 464515072,
          "time": 1600675695.1090937
         },
         {
          "cpu_percent": 98.6,
          "cpu_time": 100.55,
          "name": "Runner_1",
          "real_mem": 464515072,
          "time": 1600675695.2206092
         },
         {
          "cpu_percent": 98.7,
          "cpu_time": 100.66,
          "name": "Runner_1",
          "real_mem": 464515072,
          "time": 1600675695.332164
         },
         {
          "cpu_percent": 0,
          "cpu_time": 100.77,
          "name": "Runner_1",
          "real_mem": 464515072,
          "time": 1600675695.4438295
         },
         {
          "cpu_percent": 98.7,
          "cpu_time": 100.89,
          "name": "Runner_1",
          "real_mem": 464515072,
          "time": 1600675695.5555828
         },
         {
          "cpu_percent": 98.6,
          "cpu_time": 101,
          "name": "Runner_1",
          "real_mem": 464515072,
          "time": 1600675695.6670916
         },
         {
          "cpu_percent": 98.6,
          "cpu_time": 101.11,
          "name": "Runner_1",
          "real_mem": 464515072,
          "time": 1600675695.778679
         },
         {
          "cpu_percent": 98.6,
          "cpu_time": 101.22,
          "name": "Runner_1",
          "real_mem": 464515072,
          "time": 1600675695.890956
         },
         {
          "cpu_percent": 98.7,
          "cpu_time": 101.33,
          "name": "Runner_1",
          "real_mem": 464515072,
          "time": 1600675696.0024877
         },
         {
          "cpu_percent": 197.4,
          "cpu_time": 101.45,
          "name": "Runner_1",
          "real_mem": 464515072,
          "time": 1600675696.1140475
         },
         {
          "cpu_percent": 98.8,
          "cpu_time": 101.56,
          "name": "Runner_1",
          "real_mem": 464515072,
          "time": 1600675696.2254622
         },
         {
          "cpu_percent": 99,
          "cpu_time": 101.67,
          "name": "Runner_1",
          "real_mem": 464515072,
          "time": 1600675696.3370335
         },
         {
          "cpu_percent": 98.4,
          "cpu_time": 101.78,
          "name": "Runner_1",
          "real_mem": 464515072,
          "time": 1600675696.4486663
         },
         {
          "cpu_percent": 98.6,
          "cpu_time": 101.89,
          "name": "Runner_1",
          "real_mem": 464515072,
          "time": 1600675696.560291
         },
         {
          "cpu_percent": 98.7,
          "cpu_time": 102,
          "name": "Runner_1",
          "real_mem": 464515072,
          "time": 1600675696.6718864
         },
         {
          "cpu_percent": 0,
          "cpu_time": 102.11,
          "name": "Runner_1",
          "real_mem": 464515072,
          "time": 1600675696.7834017
         },
         {
          "cpu_percent": 197.1,
          "cpu_time": 102.23,
          "name": "Runner_1",
          "real_mem": 464515072,
          "time": 1600675696.8950438
         },
         {
          "cpu_percent": 98.6,
          "cpu_time": 102.34,
          "name": "Runner_1",
          "real_mem": 464515072,
          "time": 1600675697.0066354
         },
         {
          "cpu_percent": 98.7,
          "cpu_time": 102.45,
          "name": "Runner_1",
          "real_mem": 464515072,
          "time": 1600675697.1183712
         },
         {
          "cpu_percent": 98.6,
          "cpu_time": 102.56,
          "name": "Runner_1",
          "real_mem": 464515072,
          "time": 1600675697.2299776
         },
         {
          "cpu_percent": 98.6,
          "cpu_time": 102.67,
          "name": "Runner_1",
          "real_mem": 464515072,
          "time": 1600675697.3416915
         },
         {
          "cpu_percent": 197.5,
          "cpu_time": 102.79,
          "name": "Runner_1",
          "real_mem": 464515072,
          "time": 1600675697.4532914
         },
         {
          "cpu_percent": 0,
          "cpu_time": 102.9,
          "name": "Runner_1",
          "real_mem": 464515072,
          "time": 1600675697.5649402
         },
         {
          "cpu_percent": 98.5,
          "cpu_time": 103.01,
          "name": "Runner_1",
          "real_mem": 464515072,
          "time": 1600675697.6766994
         },
         {
          "cpu_percent": 98.6,
          "cpu_time": 103.12,
          "name": "Runner_1",
          "real_mem": 464515072,
          "time": 1600675697.7882934
         },
         {
          "cpu_percent": 98.7,
          "cpu_time": 103.23,
          "name": "Runner_1",
          "real_mem": 464515072,
          "time": 1600675697.8999639
         },
         {
          "cpu_percent": 98.5,
          "cpu_time": 103.34,
          "name": "Runner_1",
          "real_mem": 464515072,
          "time": 1600675698.0118067
         },
         {
          "cpu_percent": 0,
          "cpu_time": 103.45,
          "name": "Runner_1",
          "real_mem": 464515072,
          "time": 1600675698.1234703
         },
         {
          "cpu_percent": 196.6,
          "cpu_time": 103.57,
          "name": "Runner_1",
          "real_mem": 464515072,
          "time": 1600675698.2350595
         },
         {
          "cpu_percent": 98.7,
          "cpu_time": 103.68,
          "name": "Runner_1",
          "real_mem": 464515072,
          "time": 1600675698.3466856
         },
         {
          "cpu_percent": 98.6,
          "cpu_time": 103.79,
          "name": "Runner_1",
          "real_mem": 464515072,
          "time": 1600675698.458375
         },
         {
          "cpu_percent": 98.8,
          "cpu_time": 103.9,
          "name": "Runner_1",
          "real_mem": 464515072,
          "time": 1600675698.569896
         },
         {
          "cpu_percent": 98.5,
          "cpu_time": 104.01,
          "name": "Runner_1",
          "real_mem": 464515072,
          "time": 1600675698.6815119
         },
         {
          "cpu_percent": 197.2,
          "cpu_time": 104.13,
          "name": "Runner_1",
          "real_mem": 464515072,
          "time": 1600675698.7930508
         },
         {
          "cpu_percent": 0,
          "cpu_time": 104.23,
          "name": "Runner_1",
          "real_mem": 464515072,
          "time": 1600675698.904619
         },
         {
          "cpu_percent": 98.6,
          "cpu_time": 104.35,
          "name": "Runner_1",
          "real_mem": 464515072,
          "time": 1600675699.0162535
         },
         {
          "cpu_percent": 98.6,
          "cpu_time": 104.46,
          "name": "Runner_1",
          "real_mem": 464515072,
          "time": 1600675699.1277997
         },
         {
          "cpu_percent": 98.5,
          "cpu_time": 104.57,
          "name": "Runner_1",
          "real_mem": 464515072,
          "time": 1600675699.2395015
         },
         {
          "cpu_percent": 98.8,
          "cpu_time": 104.68,
          "name": "Runner_1",
          "real_mem": 464515072,
          "time": 1600675699.3510242
         },
         {
          "cpu_percent": 98.3,
          "cpu_time": 104.79,
          "name": "Runner_1",
          "real_mem": 464515072,
          "time": 1600675699.4627075
         },
         {
          "cpu_percent": 197.3,
          "cpu_time": 104.91,
          "name": "Runner_1",
          "real_mem": 464515072,
          "time": 1600675699.574171
         },
         {
          "cpu_percent": 98.6,
          "cpu_time": 105.02,
          "name": "Runner_1",
          "real_mem": 464515072,
          "time": 1600675699.6858578
         },
         {
          "cpu_percent": 98.8,
          "cpu_time": 105.13,
          "name": "Runner_1",
          "real_mem": 464515072,
          "time": 1600675699.7973413
         },
         {
          "cpu_percent": 98.6,
          "cpu_time": 105.24,
          "name": "Runner_1",
          "real_mem": 464515072,
          "time": 1600675699.9089081
         },
         {
          "cpu_percent": 98.8,
          "cpu_time": 105.35,
          "name": "Runner_1",
          "real_mem": 464515072,
          "time": 1600675700.0204725
         },
         {
          "cpu_percent": 98.6,
          "cpu_time": 105.46,
          "name": "Runner_1",
          "real_mem": 464515072,
          "time": 1600675700.1321
         },
         {
          "cpu_percent": 0,
          "cpu_time": 105.57,
          "name": "Runner_1",
          "real_mem": 464515072,
          "time": 1600675700.2439597
         },
         {
          "cpu_percent": 98.6,
          "cpu_time": 105.69,
          "name": "Runner_1",
          "real_mem": 464515072,
          "time": 1600675700.355554
         },
         {
          "cpu_percent": 98.6,
          "cpu_time": 105.8,
          "name": "Runner_1",
          "real_mem": 464515072,
          "time": 1600675700.4671738
         },
         {
          "cpu_percent": 98.5,
          "cpu_time": 105.91,
          "name": "Runner_1",
          "real_mem": 464515072,
          "time": 1600675700.5789845
         },
         {
          "cpu_percent": 98.7,
          "cpu_time": 106.02,
          "name": "Runner_1",
          "real_mem": 464515072,
          "time": 1600675700.6906037
         },
         {
          "cpu_percent": 1481.2,
          "cpu_time": 107.15,
          "name": "Runner_1",
          "real_mem": 498573312,
          "time": 1600675700.8020897
         },
         {
          "cpu_percent": 1677.4,
          "cpu_time": 109.53,
          "name": "Runner_1",
          "real_mem": 498573312,
          "time": 1600675700.9137108
         },
         {
          "cpu_percent": 98.7,
          "cpu_time": 111.5,
          "name": "Runner_1",
          "real_mem": 520585216,
          "time": 1600675701.0255978
         },
         {
          "cpu_percent": 197.4,
          "cpu_time": 111.62,
          "name": "Runner_1",
          "real_mem": 520585216,
          "time": 1600675701.1374352
         },
         {
          "cpu_percent": 98.7,
          "cpu_time": 111.73,
          "name": "Runner_1",
          "real_mem": 520585216,
          "time": 1600675701.2493014
         },
         {
          "cpu_percent": 98.5,
          "cpu_time": 111.84,
          "name": "Runner_1",
          "real_mem": 520585216,
          "time": 1600675701.3611996
         },
         {
          "cpu_percent": 98.6,
          "cpu_time": 111.95,
          "name": "Runner_1",
          "real_mem": 520585216,
          "time": 1600675701.4730384
         },
         {
          "cpu_percent": 98.7,
          "cpu_time": 112.06,
          "name": "Runner_1",
          "real_mem": 520585216,
          "time": 1600675701.584743
         },
         {
          "cpu_percent": 98.7,
          "cpu_time": 112.17,
          "name": "Runner_1",
          "real_mem": 520585216,
          "time": 1600675701.696566
         },
         {
          "cpu_percent": 0,
          "cpu_time": 112.28,
          "name": "Runner_1",
          "real_mem": 520585216,
          "time": 1600675701.8082354
         },
         {
          "cpu_percent": 98.7,
          "cpu_time": 112.4,
          "name": "Runner_1",
          "real_mem": 520585216,
          "time": 1600675701.9199424
         },
         {
          "cpu_percent": 98.6,
          "cpu_time": 112.51,
          "name": "Runner_1",
          "real_mem": 520585216,
          "time": 1600675702.0317707
         },
         {
          "cpu_percent": 98.7,
          "cpu_time": 112.62,
          "name": "Runner_1",
          "real_mem": 520585216,
          "time": 1600675702.1434772
         },
         {
          "cpu_percent": 98.3,
          "cpu_time": 112.73,
          "name": "Runner_1",
          "real_mem": 520585216,
          "time": 1600675702.2552512
         },
         {
          "cpu_percent": 98.6,
          "cpu_time": 112.84,
          "name": "Runner_1",
          "real_mem": 520585216,
          "time": 1600675702.3670814
         },
         {
          "cpu_percent": 196.9,
          "cpu_time": 112.96,
          "name": "Runner_1",
          "real_mem": 520585216,
          "time": 1600675702.4787893
         },
         {
          "cpu_percent": 98.5,
          "cpu_time": 113.07,
          "name": "Runner_1",
          "real_mem": 520585216,
          "time": 1600675702.5906217
         },
         {
          "cpu_percent": 98.5,
          "cpu_time": 113.18,
          "name": "Runner_1",
          "real_mem": 520585216,
          "time": 1600675702.7024477
         },
         {
          "cpu_percent": 98.7,
          "cpu_time": 113.29,
          "name": "Runner_1",
          "real_mem": 520585216,
          "time": 1600675702.8141394
         },
         {
          "cpu_percent": 98.8,
          "cpu_time": 113.4,
          "name": "Runner_1",
          "real_mem": 520585216,
          "time": 1600675702.925819
         },
         {
          "cpu_percent": 197.4,
          "cpu_time": 113.52,
          "name": "Runner_1",
          "real_mem": 520585216,
          "time": 1600675703.0375714
         },
         {
          "cpu_percent": 98.7,
          "cpu_time": 113.63,
          "name": "Runner_1",
          "real_mem": 520585216,
          "time": 1600675703.1492753
         },
         {
          "cpu_percent": 98.6,
          "cpu_time": 113.74,
          "name": "Runner_1",
          "real_mem": 520585216,
          "time": 1600675703.2610412
         },
         {
          "cpu_percent": 98.4,
          "cpu_time": 113.85,
          "name": "Runner_1",
          "real_mem": 520585216,
          "time": 1600675703.3728244
         },
         {
          "cpu_percent": 98.3,
          "cpu_time": 113.96,
          "name": "Runner_1",
          "real_mem": 520585216,
          "time": 1600675703.4850242
         },
         {
          "cpu_percent": 98.5,
          "cpu_time": 114.08,
          "name": "Runner_1",
          "real_mem": 520585216,
          "time": 1600675703.596938
         },
         {
          "cpu_percent": 0,
          "cpu_time": 114.19,
          "name": "Runner_1",
          "real_mem": 520585216,
          "time": 1600675703.7088726
         },
         {
          "cpu_percent": 98.5,
          "cpu_time": 114.3,
          "name": "Runner_1",
          "real_mem": 520585216,
          "time": 1600675703.820723
         },
         {
          "cpu_percent": 98.7,
          "cpu_time": 114.41,
          "name": "Runner_1",
          "real_mem": 520585216,
          "time": 1600675703.9325383
         },
         {
          "cpu_percent": 98.6,
          "cpu_time": 114.52,
          "name": "Runner_1",
          "real_mem": 520585216,
          "time": 1600675704.044442
         },
         {
          "cpu_percent": 98.5,
          "cpu_time": 114.63,
          "name": "Runner_1",
          "real_mem": 520585216,
          "time": 1600675704.156367
         },
         {
          "cpu_percent": 0,
          "cpu_time": 114.74,
          "name": "Runner_1",
          "real_mem": 520585216,
          "time": 1600675704.2682486
         },
         {
          "cpu_percent": 98.7,
          "cpu_time": 114.86,
          "name": "Runner_1",
          "real_mem": 520585216,
          "time": 1600675704.380023
         },
         {
          "cpu_percent": 98.7,
          "cpu_time": 114.97,
          "name": "Runner_1",
          "real_mem": 520585216,
          "time": 1600675704.4916694
         },
         {
          "cpu_percent": 98.7,
          "cpu_time": 115.08,
          "name": "Runner_1",
          "real_mem": 520585216,
          "time": 1600675704.60342
         },
         {
          "cpu_percent": 98.5,
          "cpu_time": 115.19,
          "name": "Runner_1",
          "real_mem": 520585216,
          "time": 1600675704.715159
         },
         {
          "cpu_percent": 98.8,
          "cpu_time": 115.3,
          "name": "Runner_1",
          "real_mem": 520585216,
          "time": 1600675704.8268747
         },
         {
          "cpu_percent": 197.4,
          "cpu_time": 115.42,
          "name": "Runner_1",
          "real_mem": 520585216,
          "time": 1600675704.938465
         },
         {
          "cpu_percent": 98.7,
          "cpu_time": 115.53,
          "name": "Runner_1",
          "real_mem": 520585216,
          "time": 1600675705.0500667
         },
         {
          "cpu_percent": 98.5,
          "cpu_time": 115.64,
          "name": "Runner_1",
          "real_mem": 520585216,
          "time": 1600675705.1618304
         },
         {
          "cpu_percent": 97.9,
          "cpu_time": 115.75,
          "name": "Runner_1",
          "real_mem": 520585216,
          "time": 1600675705.273661
         },
         {
          "cpu_percent": 98.5,
          "cpu_time": 115.86,
          "name": "Runner_1",
          "real_mem": 520585216,
          "time": 1600675705.3852355
         },
         {
          "cpu_percent": 98.6,
          "cpu_time": 115.98,
          "name": "Runner_1",
          "real_mem": 520585216,
          "time": 1600675705.4968898
         },
         {
          "cpu_percent": 0,
          "cpu_time": 116.08,
          "name": "Runner_1",
          "real_mem": 520585216,
          "time": 1600675705.6085203
         },
         {
          "cpu_percent": 98.6,
          "cpu_time": 116.2,
          "name": "Runner_1",
          "real_mem": 520585216,
          "time": 1600675705.7201247
         },
         {
          "cpu_percent": 98.6,
          "cpu_time": 116.31,
          "name": "Runner_1",
          "real_mem": 520585216,
          "time": 1600675705.831976
         },
         {
          "cpu_percent": 98.5,
          "cpu_time": 116.42,
          "name": "Runner_1",
          "real_mem": 520585216,
          "time": 1600675705.9436307
         },
         {
          "cpu_percent": 98.5,
          "cpu_time": 116.53,
          "name": "Runner_1",
          "real_mem": 520585216,
          "time": 1600675706.0554779
         },
         {
          "cpu_percent": 98.6,
          "cpu_time": 116.64,
          "name": "Runner_1",
          "real_mem": 520585216,
          "time": 1600675706.167149
         },
         {
          "cpu_percent": 196.2,
          "cpu_time": 116.76,
          "name": "Runner_1",
          "real_mem": 520585216,
          "time": 1600675706.2788475
         },
         {
          "cpu_percent": 98.8,
          "cpu_time": 116.87,
          "name": "Runner_1",
          "real_mem": 520585216,
          "time": 1600675706.3903182
         },
         {
          "cpu_percent": 98.5,
          "cpu_time": 116.98,
          "name": "Runner_1",
          "real_mem": 520585216,
          "time": 1600675706.50196
         },
         {
          "cpu_percent": 98.8,
          "cpu_time": 117.09,
          "name": "Runner_1",
          "real_mem": 520585216,
          "time": 1600675706.6136222
         },
         {
          "cpu_percent": 98.7,
          "cpu_time": 117.2,
          "name": "Runner_1",
          "real_mem": 520585216,
          "time": 1600675706.7253017
         },
         {
          "cpu_percent": 98.7,
          "cpu_time": 117.32,
          "name": "Runner_1",
          "real_mem": 520585216,
          "time": 1600675706.8369071
         },
         {
          "cpu_percent": 0,
          "cpu_time": 117.42,
          "name": "Runner_1",
          "real_mem": 520585216,
          "time": 1600675706.9485123
         },
         {
          "cpu_percent": 98.6,
          "cpu_time": 117.54,
          "name": "Runner_1",
          "real_mem": 520585216,
          "time": 1600675707.0601456
         },
         {
          "cpu_percent": 98.6,
          "cpu_time": 117.65,
          "name": "Runner_1",
          "real_mem": 520585216,
          "time": 1600675707.1719022
         },
         {
          "cpu_percent": 98.6,
          "cpu_time": 117.76,
          "name": "Runner_1",
          "real_mem": 520585216,
          "time": 1600675707.2836099
         },
         {
          "cpu_percent": 98.5,
          "cpu_time": 117.87,
          "name": "Runner_1",
          "real_mem": 520585216,
          "time": 1600675707.3952904
         },
         {
          "cpu_percent": 98.5,
          "cpu_time": 117.98,
          "name": "Runner_1",
          "real_mem": 520585216,
          "time": 1600675707.506875
         },
         {
          "cpu_percent": 197.4,
          "cpu_time": 118.1,
          "name": "Runner_1",
          "real_mem": 520585216,
          "time": 1600675707.6184733
         },
         {
          "cpu_percent": 98.6,
          "cpu_time": 118.21,
          "name": "Runner_1",
          "real_mem": 520585216,
          "time": 1600675707.73012
         },
         {
          "cpu_percent": 98.6,
          "cpu_time": 118.32,
          "name": "Runner_1",
          "real_mem": 520585216,
          "time": 1600675707.8417284
         },
         {
          "cpu_percent": 98,
          "cpu_time": 118.43,
          "name": "Runner_1",
          "real_mem": 520585216,
          "time": 1600675707.9534156
         },
         {
          "cpu_percent": 98.7,
          "cpu_time": 118.54,
          "name": "Runner_1",
          "real_mem": 520585216,
          "time": 1600675708.0650654
         },
         {
          "cpu_percent": 98.6,
          "cpu_time": 118.65,
          "name": "Runner_1",
          "real_mem": 520585216,
          "time": 1600675708.1766603
         },
         {
          "cpu_percent": 0,
          "cpu_time": 118.76,
          "name": "Runner_1",
          "real_mem": 520585216,
          "time": 1600675708.288228
         },
         {
          "cpu_percent": 98.5,
          "cpu_time": 118.88,
          "name": "Runner_1",
          "real_mem": 520585216,
          "time": 1600675708.3997457
         },
         {
          "cpu_percent": 97.5,
          "cpu_time": 118.99,
          "name": "Runner_1",
          "real_mem": 520585216,
          "time": 1600675708.5115013
         },
         {
          "cpu_percent": 98.5,
          "cpu_time": 119.1,
          "name": "Runner_1",
          "real_mem": 520585216,
          "time": 1600675708.6233656
         },
         {
          "cpu_percent": 98.7,
          "cpu_time": 119.21,
          "name": "Runner_1",
          "real_mem": 520585216,
          "time": 1600675708.7349868
         },
         {
          "cpu_percent": 98.7,
          "cpu_time": 119.33,
          "name": "Runner_1",
          "real_mem": 520585216,
          "time": 1600675708.8496242
         },
         {
          "cpu_percent": 98.6,
          "cpu_time": 119.44,
          "name": "Runner_1",
          "real_mem": 520585216,
          "time": 1600675708.9612963
         },
         {
          "cpu_percent": 98.6,
          "cpu_time": 119.55,
          "name": "Runner_1",
          "real_mem": 520585216,
          "time": 1600675709.0730476
         },
         {
          "cpu_percent": 98.8,
          "cpu_time": 119.66,
          "name": "Runner_1",
          "real_mem": 520585216,
          "time": 1600675709.184537
         },
         {
          "cpu_percent": 98.7,
          "cpu_time": 119.77,
          "name": "Runner_1",
          "real_mem": 520585216,
          "time": 1600675709.2961195
         },
         {
          "cpu_percent": 0,
          "cpu_time": 119.88,
          "name": "Runner_1",
          "real_mem": 520585216,
          "time": 1600675709.4076536
         },
         {
          "cpu_percent": 98.5,
          "cpu_time": 120,
          "name": "Runner_1",
          "real_mem": 520585216,
          "time": 1600675709.5192482
         },
         {
          "cpu_percent": 98.4,
          "cpu_time": 120.11,
          "name": "Runner_1",
          "real_mem": 520585216,
          "time": 1600675709.630938
         },
         {
          "cpu_percent": 98.7,
          "cpu_time": 120.22,
          "name": "Runner_1",
          "real_mem": 520585216,
          "time": 1600675709.7426
         },
         {
          "cpu_percent": 98.6,
          "cpu_time": 120.33,
          "name": "Runner_1",
          "real_mem": 520585216,
          "time": 1600675709.8542197
         },
         {
          "cpu_percent": 98.2,
          "cpu_time": 120.44,
          "name": "Runner_1",
          "real_mem": 520585216,
          "time": 1600675709.9658833
         },
         {
          "cpu_percent": 197.3,
          "cpu_time": 120.56,
          "name": "Runner_1",
          "real_mem": 520585216,
          "time": 1600675710.0775464
         },
         {
          "cpu_percent": 99.1,
          "cpu_time": 120.67,
          "name": "Runner_1",
          "real_mem": 520585216,
          "time": 1600675710.1891394
         },
         {
          "cpu_percent": 98.4,
          "cpu_time": 120.78,
          "name": "Runner_1",
          "real_mem": 520585216,
          "time": 1600675710.3009934
         },
         {
          "cpu_percent": 98.6,
          "cpu_time": 120.89,
          "name": "Runner_1",
          "real_mem": 520585216,
          "time": 1600675710.4126089
         },
         {
          "cpu_percent": 98.7,
          "cpu_time": 121,
          "name": "Runner_1",
          "real_mem": 520585216,
          "time": 1600675710.52413
         },
         {
          "cpu_percent": 98.4,
          "cpu_time": 121.11,
          "name": "Runner_1",
          "real_mem": 520585216,
          "time": 1600675710.6358101
         },
         {
          "cpu_percent": 0,
          "cpu_time": 121.22,
          "name": "Runner_1",
          "real_mem": 520585216,
          "time": 1600675710.747575
         },
         {
          "cpu_percent": 197.4,
          "cpu_time": 121.34,
          "name": "Runner_1",
          "real_mem": 520585216,
          "time": 1600675710.8590674
         },
         {
          "cpu_percent": 98.7,
          "cpu_time": 121.45,
          "name": "Runner_1",
          "real_mem": 520585216,
          "time": 1600675710.9705877
         },
         {
          "cpu_percent": 98.6,
          "cpu_time": 121.56,
          "name": "Runner_1",
          "real_mem": 520585216,
          "time": 1600675711.082252
         },
         {
          "cpu_percent": 98.7,
          "cpu_time": 121.67,
          "name": "Runner_1",
          "real_mem": 520585216,
          "time": 1600675711.1939123
         },
         {
          "cpu_percent": 98.7,
          "cpu_time": 121.78,
          "name": "Runner_1",
          "real_mem": 520585216,
          "time": 1600675711.3055322
         },
         {
          "cpu_percent": 197.4,
          "cpu_time": 121.9,
          "name": "Runner_1",
          "real_mem": 520585216,
          "time": 1600675711.417185
         },
         {
          "cpu_percent": 0,
          "cpu_time": 122.01,
          "name": "Runner_1",
          "real_mem": 520585216,
          "time": 1600675711.5289035
         },
         {
          "cpu_percent": 98.9,
          "cpu_time": 122.12,
          "name": "Runner_1",
          "real_mem": 520585216,
          "time": 1600675711.6403239
         },
         {
          "cpu_percent": 98.8,
          "cpu_time": 122.23,
          "name": "Runner_1",
          "real_mem": 520585216,
          "time": 1600675711.7518902
         },
         {
          "cpu_percent": 98.7,
          "cpu_time": 122.34,
          "name": "Runner_1",
          "real_mem": 520585216,
          "time": 1600675711.863416
         },
         {
          "cpu_percent": 98.6,
          "cpu_time": 122.45,
          "name": "Runner_1",
          "real_mem": 520585216,
          "time": 1600675711.9750159
         },
         {
          "cpu_percent": 98.7,
          "cpu_time": 122.56,
          "name": "Runner_1",
          "real_mem": 520585216,
          "time": 1600675712.0866241
         },
         {
          "cpu_percent": 197.3,
          "cpu_time": 122.68,
          "name": "Runner_1",
          "real_mem": 520585216,
          "time": 1600675712.1987197
         },
         {
          "cpu_percent": 98.6,
          "cpu_time": 122.79,
          "name": "Runner_1",
          "real_mem": 520585216,
          "time": 1600675712.310343
         },
         {
          "cpu_percent": 98.7,
          "cpu_time": 122.9,
          "name": "Runner_1",
          "real_mem": 520585216,
          "time": 1600675712.4219432
         },
         {
          "cpu_percent": 98.5,
          "cpu_time": 123.01,
          "name": "Runner_1",
          "real_mem": 520585216,
          "time": 1600675712.5336902
         },
         {
          "cpu_percent": 98.6,
          "cpu_time": 123.12,
          "name": "Runner_1",
          "real_mem": 520585216,
          "time": 1600675712.645177
         },
         {
          "cpu_percent": 98.7,
          "cpu_time": 123.23,
          "name": "Runner_1",
          "real_mem": 520585216,
          "time": 1600675712.7568014
         },
         {
          "cpu_percent": 0,
          "cpu_time": 123.34,
          "name": "Runner_1",
          "real_mem": 520585216,
          "time": 1600675712.868607
         },
         {
          "cpu_percent": 98.6,
          "cpu_time": 123.46,
          "name": "Runner_1",
          "real_mem": 520585216,
          "time": 1600675712.9802525
         },
         {
          "cpu_percent": 98.5,
          "cpu_time": 123.57,
          "name": "Runner_1",
          "real_mem": 520585216,
          "time": 1600675713.0919557
         },
         {
          "cpu_percent": 98.7,
          "cpu_time": 123.68,
          "name": "Runner_1",
          "real_mem": 520585216,
          "time": 1600675713.2035096
         },
         {
          "cpu_percent": 1860.7,
          "cpu_time": 124.92,
          "name": "Runner_1",
          "real_mem": 520585216,
          "time": 1600675713.315532
         },
         {
          "cpu_percent": 98.7,
          "cpu_time": 126,
          "name": "Runner_1",
          "real_mem": 520585216,
          "time": 1600675713.4273307
         },
         {
          "cpu_percent": 98.7,
          "cpu_time": 126.11,
          "name": "Runner_1",
          "real_mem": 520585216,
          "time": 1600675713.5390472
         },
         {
          "cpu_percent": 98.5,
          "cpu_time": 126.22,
          "name": "Runner_1",
          "real_mem": 520585216,
          "time": 1600675713.6507704
         },
         {
          "cpu_percent": 98.7,
          "cpu_time": 126.33,
          "name": "Runner_1",
          "real_mem": 520585216,
          "time": 1600675713.76254
         },
         {
          "cpu_percent": 196.7,
          "cpu_time": 126.45,
          "name": "Runner_1",
          "real_mem": 520585216,
          "time": 1600675713.874603
         },
         {
          "cpu_percent": 98.5,
          "cpu_time": 126.56,
          "name": "Runner_1",
          "real_mem": 520585216,
          "time": 1600675713.986574
         },
         {
          "cpu_percent": 98.7,
          "cpu_time": 126.67,
          "name": "Runner_1",
          "real_mem": 520585216,
          "time": 1600675714.0983353
         },
         {
          "cpu_percent": 98.6,
          "cpu_time": 126.78,
          "name": "Runner_1",
          "real_mem": 520585216,
          "time": 1600675714.2100222
         },
         {
          "cpu_percent": 98.5,
          "cpu_time": 126.89,
          "name": "Runner_1",
          "real_mem": 520585216,
          "time": 1600675714.321927
         },
         {
          "cpu_percent": 197.3,
          "cpu_time": 127.01,
          "name": "Runner_1",
          "real_mem": 520585216,
          "time": 1600675714.433686
         },
         {
          "cpu_percent": 98.9,
          "cpu_time": 127.12,
          "name": "Runner_1",
          "real_mem": 520585216,
          "time": 1600675714.5453167
         },
         {
          "cpu_percent": 98.3,
          "cpu_time": 127.23,
          "name": "Runner_1",
          "real_mem": 520585216,
          "time": 1600675714.6574185
         },
         {
          "cpu_percent": 98.7,
          "cpu_time": 127.34,
          "name": "Runner_1",
          "real_mem": 520585216,
          "time": 1600675714.769255
         },
         {
          "cpu_percent": 98.7,
          "cpu_time": 127.45,
          "name": "Runner_1",
          "real_mem": 520585216,
          "time": 1600675714.8808289
         },
         {
          "cpu_percent": 98.5,
          "cpu_time": 127.56,
          "name": "Runner_1",
          "real_mem": 520585216,
          "time": 1600675714.9924831
         },
         {
          "cpu_percent": 0,
          "cpu_time": 127.67,
          "name": "Runner_1",
          "real_mem": 520585216,
          "time": 1600675715.1041296
         },
         {
          "cpu_percent": 98.5,
          "cpu_time": 127.79,
          "name": "Runner_1",
          "real_mem": 520585216,
          "time": 1600675715.2157638
         },
         {
          "cpu_percent": 98.6,
          "cpu_time": 127.9,
          "name": "Runner_1",
          "real_mem": 520585216,
          "time": 1600675715.327705
         },
         {
          "cpu_percent": 98.7,
          "cpu_time": 128.01,
          "name": "Runner_1",
          "real_mem": 520585216,
          "time": 1600675715.4395323
         },
         {
          "cpu_percent": 98.6,
          "cpu_time": 128.12,
          "name": "Runner_1",
          "real_mem": 520585216,
          "time": 1600675715.551463
         },
         {
          "cpu_percent": 0,
          "cpu_time": 128.23,
          "name": "Runner_1",
          "real_mem": 520585216,
          "time": 1600675715.6632323
         },
         {
          "cpu_percent": 197.5,
          "cpu_time": 128.35,
          "name": "Runner_1",
          "real_mem": 520585216,
          "time": 1600675715.7748237
         },
         {
          "cpu_percent": 98.8,
          "cpu_time": 128.46,
          "name": "Runner_1",
          "real_mem": 520585216,
          "time": 1600675715.8864388
         },
         {
          "cpu_percent": 98.6,
          "cpu_time": 128.57,
          "name": "Runner_1",
          "real_mem": 520585216,
          "time": 1600675715.998217
         },
         {
          "cpu_percent": 98.7,
          "cpu_time": 128.68,
          "name": "Runner_1",
          "real_mem": 520585216,
          "time": 1600675716.1100261
         },
         {
          "cpu_percent": 98.6,
          "cpu_time": 128.79,
          "name": "Runner_1",
          "real_mem": 520585216,
          "time": 1600675716.221799
         },
         {
          "cpu_percent": 197.2,
          "cpu_time": 128.91,
          "name": "Runner_1",
          "real_mem": 520585216,
          "time": 1600675716.33366
         },
         {
          "cpu_percent": 98.6,
          "cpu_time": 129.02,
          "name": "Runner_1",
          "real_mem": 520585216,
          "time": 1600675716.4455593
         },
         {
          "cpu_percent": 98.8,
          "cpu_time": 129.13,
          "name": "Runner_1",
          "real_mem": 520585216,
          "time": 1600675716.5572348
         },
         {
          "cpu_percent": 98.8,
          "cpu_time": 129.24,
          "name": "Runner_1",
          "real_mem": 520585216,
          "time": 1600675716.6688328
         },
         {
          "cpu_percent": 98.8,
          "cpu_time": 129.35,
          "name": "Runner_1",
          "real_mem": 520585216,
          "time": 1600675716.7805486
         },
         {
          "cpu_percent": 98.7,
          "cpu_time": 129.46,
          "name": "Runner_1",
          "real_mem": 520585216,
          "time": 1600675716.892176
         },
         {
          "cpu_percent": 0,
          "cpu_time": 129.57,
          "name": "Runner_1",
          "real_mem": 520585216,
          "time": 1600675717.0038364
         },
         {
          "cpu_percent": 98.6,
          "cpu_time": 129.69,
          "name": "Runner_1",
          "real_mem": 520585216,
          "time": 1600675717.1157472
         },
         {
          "cpu_percent": 98.4,
          "cpu_time": 129.8,
          "name": "Runner_1",
          "real_mem": 520585216,
          "time": 1600675717.227595
         },
         {
          "cpu_percent": 98.5,
          "cpu_time": 129.91,
          "name": "Runner_1",
          "real_mem": 520585216,
          "time": 1600675717.3394248
         },
         {
          "cpu_percent": 98.6,
          "cpu_time": 130.02,
          "name": "Runner_1",
          "real_mem": 520585216,
          "time": 1600675717.4511092
         },
         {
          "cpu_percent": 98.1,
          "cpu_time": 130.13,
          "name": "Runner_1",
          "real_mem": 520585216,
          "time": 1600675717.5627892
         },
         {
          "cpu_percent": 197.2,
          "cpu_time": 130.25,
          "name": "Runner_1",
          "real_mem": 520585216,
          "time": 1600675717.6744733
         },
         {
          "cpu_percent": 98.7,
          "cpu_time": 130.36,
          "name": "Runner_1",
          "real_mem": 520585216,
          "time": 1600675717.7859645
         },
         {
          "cpu_percent": 98.4,
          "cpu_time": 130.47,
          "name": "Runner_1",
          "real_mem": 520585216,
          "time": 1600675717.8977926
         },
         {
          "cpu_percent": 98.8,
          "cpu_time": 130.58,
          "name": "Runner_1",
          "real_mem": 520585216,
          "time": 1600675718.0092304
         },
         {
          "cpu_percent": 98.4,
          "cpu_time": 130.69,
          "name": "Runner_1",
          "real_mem": 520585216,
          "time": 1600675718.1208365
         },
         {
          "cpu_percent": 98.5,
          "cpu_time": 130.8,
          "name": "Runner_1",
          "real_mem": 520585216,
          "time": 1600675718.2325625
         },
         {
          "cpu_percent": 0,
          "cpu_time": 130.92,
          "name": "Runner_1",
          "real_mem": 520585216,
          "time": 1600675718.3449256
         },
         {
          "cpu_percent": 98.5,
          "cpu_time": 131.03,
          "name": "Runner_1",
          "real_mem": 520585216,
          "time": 1600675718.45667
         },
         {
          "cpu_percent": 98.6,
          "cpu_time": 131.14,
          "name": "Runner_1",
          "real_mem": 520585216,
          "time": 1600675718.568427
         },
         {
          "cpu_percent": 98.6,
          "cpu_time": 131.25,
          "name": "Runner_1",
          "real_mem": 520585216,
          "time": 1600675718.6801426
         },
         {
          "cpu_percent": 98.6,
          "cpu_time": 131.36,
          "name": "Runner_1",
          "real_mem": 520585216,
          "time": 1600675718.7916768
         },
         {
          "cpu_percent": 0,
          "cpu_time": 131.47,
          "name": "Runner_1",
          "real_mem": 520585216,
          "time": 1600675718.9032898
         },
         {
          "cpu_percent": 197.2,
          "cpu_time": 131.59,
          "name": "Runner_1",
          "real_mem": 520585216,
          "time": 1600675719.0148835
         },
         {
          "cpu_percent": 98.8,
          "cpu_time": 131.7,
          "name": "Runner_1",
          "real_mem": 520585216,
          "time": 1600675719.1263914
         },
         {
          "cpu_percent": 98.4,
          "cpu_time": 131.81,
          "name": "Runner_1",
          "real_mem": 520585216,
          "time": 1600675719.2380574
         },
         {
          "cpu_percent": 98.6,
          "cpu_time": 131.92,
          "name": "Runner_1",
          "real_mem": 520585216,
          "time": 1600675719.349747
         },
         {
          "cpu_percent": 98.7,
          "cpu_time": 132.03,
          "name": "Runner_1",
          "real_mem": 520585216,
          "time": 1600675719.4613883
         },
         {
          "cpu_percent": 197.4,
          "cpu_time": 132.15,
          "name": "Runner_1",
          "real_mem": 520585216,
          "time": 1600675719.5730302
         },
         {
          "cpu_percent": 0,
          "cpu_time": 132.25,
          "name": "Runner_1",
          "real_mem": 520585216,
          "time": 1600675719.6847684
         },
         {
          "cpu_percent": 98.7,
          "cpu_time": 132.37,
          "name": "Runner_1",
          "real_mem": 520585216,
          "time": 1600675719.7964547
         },
         {
          "cpu_percent": 98.6,
          "cpu_time": 132.48,
          "name": "Runner_1",
          "real_mem": 520585216,
          "time": 1600675719.9080813
         },
         {
          "cpu_percent": 98.7,
          "cpu_time": 132.59,
          "name": "Runner_1",
          "real_mem": 520585216,
          "time": 1600675720.0198128
         },
         {
          "cpu_percent": 98.7,
          "cpu_time": 132.7,
          "name": "Runner_1",
          "real_mem": 520585216,
          "time": 1600675720.1314368
         },
         {
          "cpu_percent": 98.8,
          "cpu_time": 132.81,
          "name": "Runner_1",
          "real_mem": 520585216,
          "time": 1600675720.2429876
         },
         {
          "cpu_percent": 197.5,
          "cpu_time": 132.93,
          "name": "Runner_1",
          "real_mem": 520585216,
          "time": 1600675720.3547132
         },
         {
          "cpu_percent": 98.8,
          "cpu_time": 133.04,
          "name": "Runner_1",
          "real_mem": 520585216,
          "time": 1600675720.4663782
         },
         {
          "cpu_percent": 98.8,
          "cpu_time": 133.15,
          "name": "Runner_1",
          "real_mem": 520585216,
          "time": 1600675720.578105
         },
         {
          "cpu_percent": 98.2,
          "cpu_time": 133.26,
          "name": "Runner_1",
          "real_mem": 520585216,
          "time": 1600675720.6900642
         },
         {
          "cpu_percent": 98.6,
          "cpu_time": 133.37,
          "name": "Runner_1",
          "real_mem": 520585216,
          "time": 1600675720.8019745
         },
         {
          "cpu_percent": 197.4,
          "cpu_time": 133.49,
          "name": "Runner_1",
          "real_mem": 520585216,
          "time": 1600675720.9135838
         },
         {
          "cpu_percent": 98.7,
          "cpu_time": 133.6,
          "name": "Runner_1",
          "real_mem": 520585216,
          "time": 1600675721.02519
         },
         {
          "cpu_percent": 98.5,
          "cpu_time": 133.71,
          "name": "Runner_1",
          "real_mem": 520585216,
          "time": 1600675721.1367774
         },
         {
          "cpu_percent": 98.5,
          "cpu_time": 133.82,
          "name": "Runner_1",
          "real_mem": 520585216,
          "time": 1600675721.248561
         },
         {
          "cpu_percent": 98.6,
          "cpu_time": 133.93,
          "name": "Runner_1",
          "real_mem": 520585216,
          "time": 1600675721.360194
         },
         {
          "cpu_percent": 98.6,
          "cpu_time": 134.04,
          "name": "Runner_1",
          "real_mem": 520585216,
          "time": 1600675721.4718795
         },
         {
          "cpu_percent": 0,
          "cpu_time": 134.15,
          "name": "Runner_1",
          "real_mem": 520585216,
          "time": 1600675721.5835218
         },
         {
          "cpu_percent": 197.3,
          "cpu_time": 134.27,
          "name": "Runner_1",
          "real_mem": 520585216,
          "time": 1600675721.6951287
         },
         {
          "cpu_percent": 98.6,
          "cpu_time": 134.38,
          "name": "Runner_1",
          "real_mem": 520585216,
          "time": 1600675721.8067293
         },
         {
          "cpu_percent": 98.7,
          "cpu_time": 134.49,
          "name": "Runner_1",
          "real_mem": 520585216,
          "time": 1600675721.9184206
         },
         {
          "cpu_percent": 98.5,
          "cpu_time": 134.6,
          "name": "Runner_1",
          "real_mem": 520585216,
          "time": 1600675722.030211
         },
         {
          "cpu_percent": 98.5,
          "cpu_time": 134.71,
          "name": "Runner_1",
          "real_mem": 520585216,
          "time": 1600675722.1420054
         },
         {
          "cpu_percent": 197,
          "cpu_time": 134.83,
          "name": "Runner_1",
          "real_mem": 520585216,
          "time": 1600675722.2536962
         },
         {
          "cpu_percent": 98.7,
          "cpu_time": 134.94,
          "name": "Runner_1",
          "real_mem": 520585216,
          "time": 1600675722.3652885
         },
         {
          "cpu_percent": 98.7,
          "cpu_time": 135.05,
          "name": "Runner_1",
          "real_mem": 520585216,
          "time": 1600675722.4769068
         },
         {
          "cpu_percent": 98.5,
          "cpu_time": 135.16,
          "name": "Runner_1",
          "real_mem": 520585216,
          "time": 1600675722.5886164
         },
         {
          "cpu_percent": 98.3,
          "cpu_time": 135.27,
          "name": "Runner_1",
          "real_mem": 520585216,
          "time": 1600675722.7003992
         },
         {
          "cpu_percent": 98.6,
          "cpu_time": 135.38,
          "name": "Runner_1",
          "real_mem": 520585216,
          "time": 1600675722.812057
         },
         {
          "cpu_percent": 0,
          "cpu_time": 135.49,
          "name": "Runner_1",
          "real_mem": 520585216,
          "time": 1600675722.9237323
         },
         {
          "cpu_percent": 98.5,
          "cpu_time": 135.61,
          "name": "Runner_1",
          "real_mem": 520585216,
          "time": 1600675723.0354073
         },
         {
          "cpu_percent": 98.5,
          "cpu_time": 135.72,
          "name": "Runner_1",
          "real_mem": 520585216,
          "time": 1600675723.1471176
         },
         {
          "cpu_percent": 98.6,
          "cpu_time": 135.83,
          "name": "Runner_1",
          "real_mem": 520585216,
          "time": 1600675723.2587981
         },
         {
          "cpu_percent": 98.5,
          "cpu_time": 135.94,
          "name": "Runner_1",
          "real_mem": 520585216,
          "time": 1600675723.3706098
         },
         {
          "cpu_percent": 98.7,
          "cpu_time": 136.05,
          "name": "Runner_1",
          "real_mem": 520585216,
          "time": 1600675723.4822443
         },
         {
          "cpu_percent": 197.2,
          "cpu_time": 136.17,
          "name": "Runner_1",
          "real_mem": 520585216,
          "time": 1600675723.5939384
         },
         {
          "cpu_percent": 98.8,
          "cpu_time": 136.28,
          "name": "Runner_1",
          "real_mem": 520585216,
          "time": 1600675723.705525
         },
         {
          "cpu_percent": 98.6,
          "cpu_time": 136.39,
          "name": "Runner_1",
          "real_mem": 520585216,
          "time": 1600675723.8173187
         },
         {
          "cpu_percent": 98.8,
          "cpu_time": 136.5,
          "name": "Runner_1",
          "real_mem": 520585216,
          "time": 1600675723.9290698
         },
         {
          "cpu_percent": 98.6,
          "cpu_time": 136.61,
          "name": "Runner_1",
          "real_mem": 520585216,
          "time": 1600675724.0408537
         },
         {
          "cpu_percent": 98.8,
          "cpu_time": 136.72,
          "name": "Runner_1",
          "real_mem": 520585216,
          "time": 1600675724.1525571
         },
         {
          "cpu_percent": 0,
          "cpu_time": 136.83,
          "name": "Runner_1",
          "real_mem": 520585216,
          "time": 1600675724.2644014
         },
         {
          "cpu_percent": 98.7,
          "cpu_time": 136.95,
          "name": "Runner_1",
          "real_mem": 520585216,
          "time": 1600675724.3761506
         },
         {
          "cpu_percent": 98.8,
          "cpu_time": 137.06,
          "name": "Runner_1",
          "real_mem": 520585216,
          "time": 1600675724.4879055
         },
         {
          "cpu_percent": 98.7,
          "cpu_time": 137.17,
          "name": "Runner_1",
          "real_mem": 520585216,
          "time": 1600675724.5995772
         },
         {
          "cpu_percent": 98.7,
          "cpu_time": 137.28,
          "name": "Runner_1",
          "real_mem": 520585216,
          "time": 1600675724.7111962
         },
         {
          "cpu_percent": 98,
          "cpu_time": 137.39,
          "name": "Runner_1",
          "real_mem": 520585216,
          "time": 1600675724.8231847
         },
         {
          "cpu_percent": 197.5,
          "cpu_time": 137.51,
          "name": "Runner_1",
          "real_mem": 520585216,
          "time": 1600675724.9348743
         },
         {
          "cpu_percent": 98.6,
          "cpu_time": 137.62,
          "name": "Runner_1",
          "real_mem": 520585216,
          "time": 1600675725.0464911
         },
         {
          "cpu_percent": 98.7,
          "cpu_time": 137.73,
          "name": "Runner_1",
          "real_mem": 520585216,
          "time": 1600675725.1581488
         },
         {
          "cpu_percent": 98.4,
          "cpu_time": 137.84,
          "name": "Runner_1",
          "real_mem": 520585216,
          "time": 1600675725.2697892
         },
         {
          "cpu_percent": 98.6,
          "cpu_time": 137.95,
          "name": "Runner_1",
          "real_mem": 520585216,
          "time": 1600675725.3814938
         },
         {
          "cpu_percent": 197.9,
          "cpu_time": 138.53,
          "name": "Runner_1",
          "real_mem": 520585216,
          "time": 1600675725.4931202
         },
         {
          "cpu_percent": 2859.7,
          "cpu_time": 141.26,
          "name": "Runner_1",
          "real_mem": 520585216,
          "time": 1600675725.6048503
         },
         {
          "cpu_percent": 98.7,
          "cpu_time": 143.11,
          "name": "Runner_1",
          "real_mem": 520585216,
          "time": 1600675725.7163255
         },
         {
          "cpu_percent": 98.6,
          "cpu_time": 143.22,
          "name": "Runner_1",
          "real_mem": 520585216,
          "time": 1600675725.828063
         },
         {
          "cpu_percent": 98.3,
          "cpu_time": 143.33,
          "name": "Runner_1",
          "real_mem": 520585216,
          "time": 1600675725.939769
         },
         {
          "cpu_percent": 98.5,
          "cpu_time": 143.44,
          "name": "Runner_1",
          "real_mem": 520585216,
          "time": 1600675726.0514593
         },
         {
          "cpu_percent": 98.5,
          "cpu_time": 143.55,
          "name": "Runner_1",
          "real_mem": 520585216,
          "time": 1600675726.1631384
         },
         {
          "cpu_percent": 98.6,
          "cpu_time": 143.66,
          "name": "Runner_1",
          "real_mem": 520585216,
          "time": 1600675726.2747848
         },
         {
          "cpu_percent": 98.7,
          "cpu_time": 143.77,
          "name": "Runner_1",
          "real_mem": 520585216,
          "time": 1600675726.3864129
         },
         {
          "cpu_percent": 98.7,
          "cpu_time": 143.88,
          "name": "Runner_1",
          "real_mem": 520585216,
          "time": 1600675726.4980237
         },
         {
          "cpu_percent": 98.8,
          "cpu_time": 143.99,
          "name": "Runner_1",
          "real_mem": 520585216,
          "time": 1600675726.6094842
         },
         {
          "cpu_percent": 197.2,
          "cpu_time": 144.11,
          "name": "Runner_1",
          "real_mem": 520585216,
          "time": 1600675726.7210433
         },
         {
          "cpu_percent": 0,
          "cpu_time": 144.21,
          "name": "Runner_1",
          "real_mem": 520585216,
          "time": 1600675726.8326204
         },
         {
          "cpu_percent": 98.7,
          "cpu_time": 144.33,
          "name": "Runner_1",
          "real_mem": 520585216,
          "time": 1600675726.9442093
         },
         {
          "cpu_percent": 98.6,
          "cpu_time": 144.44,
          "name": "Runner_1",
          "real_mem": 520585216,
          "time": 1600675727.0561142
         },
         {
          "cpu_percent": 98.7,
          "cpu_time": 144.55,
          "name": "Runner_1",
          "real_mem": 520585216,
          "time": 1600675727.1678367
         },
         {
          "cpu_percent": 98.7,
          "cpu_time": 144.66,
          "name": "Runner_1",
          "real_mem": 520585216,
          "time": 1600675727.279562
         },
         {
          "cpu_percent": 0,
          "cpu_time": 144.77,
          "name": "Runner_1",
          "real_mem": 520585216,
          "time": 1600675727.3915527
         },
         {
          "cpu_percent": 98.6,
          "cpu_time": 144.89,
          "name": "Runner_1",
          "real_mem": 520585216,
          "time": 1600675727.5034142
         },
         {
          "cpu_percent": 98.6,
          "cpu_time": 145,
          "name": "Runner_1",
          "real_mem": 520585216,
          "time": 1600675727.6152322
         },
         {
          "cpu_percent": 98.5,
          "cpu_time": 145.11,
          "name": "Runner_1",
          "real_mem": 520585216,
          "time": 1600675727.727087
         },
         {
          "cpu_percent": 98.6,
          "cpu_time": 145.22,
          "name": "Runner_1",
          "real_mem": 520585216,
          "time": 1600675727.8389425
         },
         {
          "cpu_percent": 98.4,
          "cpu_time": 145.33,
          "name": "Runner_1",
          "real_mem": 520585216,
          "time": 1600675727.950756
         },
         {
          "cpu_percent": 196.7,
          "cpu_time": 145.45,
          "name": "Runner_1",
          "real_mem": 520585216,
          "time": 1600675728.062547
         },
         {
          "cpu_percent": 98.6,
          "cpu_time": 145.56,
          "name": "Runner_1",
          "real_mem": 520585216,
          "time": 1600675728.17426
         },
         {
          "cpu_percent": 98.5,
          "cpu_time": 145.67,
          "name": "Runner_1",
          "real_mem": 520585216,
          "time": 1600675728.2859626
         },
         {
          "cpu_percent": 98.7,
          "cpu_time": 145.78,
          "name": "Runner_1",
          "real_mem": 520585216,
          "time": 1600675728.397743
         },
         {
          "cpu_percent": 98.6,
          "cpu_time": 145.89,
          "name": "Runner_1",
          "real_mem": 520585216,
          "time": 1600675728.5095794
         },
         {
          "cpu_percent": 197.1,
          "cpu_time": 146.01,
          "name": "Runner_1",
          "real_mem": 520585216,
          "time": 1600675728.6213937
         },
         {
          "cpu_percent": 98.8,
          "cpu_time": 146.12,
          "name": "Runner_1",
          "real_mem": 520585216,
          "time": 1600675728.7330267
         },
         {
          "cpu_percent": 0,
          "cpu_time": 146.22,
          "name": "Runner_1",
          "real_mem": 520585216,
          "time": 1600675728.8447363
         },
         {
          "cpu_percent": 98.6,
          "cpu_time": 146.34,
          "name": "Runner_1",
          "real_mem": 520585216,
          "time": 1600675728.956499
         },
         {
          "cpu_percent": 98.5,
          "cpu_time": 146.45,
          "name": "Runner_1",
          "real_mem": 520585216,
          "time": 1600675729.0682156
         },
         {
          "cpu_percent": 98.4,
          "cpu_time": 146.56,
          "name": "Runner_1",
          "real_mem": 520585216,
          "time": 1600675729.1797922
         },
         {
          "cpu_percent": 98.5,
          "cpu_time": 146.67,
          "name": "Runner_1",
          "real_mem": 520585216,
          "time": 1600675729.2915418
         },
         {
          "cpu_percent": 0,
          "cpu_time": 146.78,
          "name": "Runner_1",
          "real_mem": 520585216,
          "time": 1600675729.4034011
         },
         {
          "cpu_percent": 197.3,
          "cpu_time": 146.9,
          "name": "Runner_1",
          "real_mem": 520585216,
          "time": 1600675729.5150018
         },
         {
          "cpu_percent": 98.6,
          "cpu_time": 147.01,
          "name": "Runner_1",
          "real_mem": 520585216,
          "time": 1600675729.6266801
         },
         {
          "cpu_percent": 98.6,
          "cpu_time": 147.12,
          "name": "Runner_1",
          "real_mem": 520585216,
          "time": 1600675729.7384827
         },
         {
          "cpu_percent": 98.5,
          "cpu_time": 147.23,
          "name": "Runner_1",
          "real_mem": 520585216,
          "time": 1600675729.850459
         },
         {
          "cpu_percent": 98.8,
          "cpu_time": 147.34,
          "name": "Runner_1",
          "real_mem": 520585216,
          "time": 1600675729.9621394
         },
         {
          "cpu_percent": 197.4,
          "cpu_time": 147.46,
          "name": "Runner_1",
          "real_mem": 520585216,
          "time": 1600675730.0738058
         },
         {
          "cpu_percent": 98.7,
          "cpu_time": 147.57,
          "name": "Runner_1",
          "real_mem": 520585216,
          "time": 1600675730.1855767
         },
         {
          "cpu_percent": 98.7,
          "cpu_time": 147.67,
          "name": "Runner_1",
          "real_mem": 520585216,
          "time": 1600675730.2973206
         },
         {
          "cpu_percent": 197.4,
          "cpu_time": 147.79,
          "name": "Runner_1",
          "real_mem": 520585216,
          "time": 1600675730.4091613
         },
         {
          "cpu_percent": 0,
          "cpu_time": 147.9,
          "name": "Runner_1",
          "real_mem": 520585216,
          "time": 1600675730.5208771
         },
         {
          "cpu_percent": 98.7,
          "cpu_time": 148.01,
          "name": "Runner_1",
          "real_mem": 520585216,
          "time": 1600675730.632526
         },
         {
          "cpu_percent": 98.7,
          "cpu_time": 148.12,
          "name": "Runner_1",
          "real_mem": 520585216,
          "time": 1600675730.7441766
         },
         {
          "cpu_percent": 98.7,
          "cpu_time": 148.23,
          "name": "Runner_1",
          "real_mem": 520585216,
          "time": 1600675730.8559554
         },
         {
          "cpu_percent": 98.6,
          "cpu_time": 148.34,
          "name": "Runner_1",
          "real_mem": 520585216,
          "time": 1600675730.9676285
         },
         {
          "cpu_percent": 98.6,
          "cpu_time": 148.45,
          "name": "Runner_1",
          "real_mem": 520585216,
          "time": 1600675731.0794952
         },
         {
          "cpu_percent": 0,
          "cpu_time": 148.56,
          "name": "Runner_1",
          "real_mem": 520585216,
          "time": 1600675731.1912184
         },
         {
          "cpu_percent": 196.4,
          "cpu_time": 148.68,
          "name": "Runner_1",
          "real_mem": 520585216,
          "time": 1600675731.3032827
         },
         {
          "cpu_percent": 98.7,
          "cpu_time": 148.79,
          "name": "Runner_1",
          "real_mem": 520585216,
          "time": 1600675731.415064
         },
         {
          "cpu_percent": 98.7,
          "cpu_time": 148.9,
          "name": "Runner_1",
          "real_mem": 520585216,
          "time": 1600675731.5266805
         },
         {
          "cpu_percent": 98.6,
          "cpu_time": 149.01,
          "name": "Runner_1",
          "real_mem": 520585216,
          "time": 1600675731.638467
         },
         {
          "cpu_percent": 98.8,
          "cpu_time": 149.12,
          "name": "Runner_1",
          "real_mem": 520585216,
          "time": 1600675731.7501948
         },
         {
          "cpu_percent": 98.7,
          "cpu_time": 149.24,
          "name": "Runner_1",
          "real_mem": 520585216,
          "time": 1600675731.8618312
         },
         {
          "cpu_percent": 98.7,
          "cpu_time": 149.35,
          "name": "Runner_1",
          "real_mem": 520585216,
          "time": 1600675731.9735644
         },
         {
          "cpu_percent": 98.8,
          "cpu_time": 149.46,
          "name": "Runner_1",
          "real_mem": 520585216,
          "time": 1600675732.0853167
         },
         {
          "cpu_percent": 98.7,
          "cpu_time": 149.57,
          "name": "Runner_1",
          "real_mem": 520585216,
          "time": 1600675732.1970978
         },
         {
          "cpu_percent": 98.6,
          "cpu_time": 149.68,
          "name": "Runner_1",
          "real_mem": 520585216,
          "time": 1600675732.3089824
         },
         {
          "cpu_percent": 196.7,
          "cpu_time": 149.8,
          "name": "Runner_1",
          "real_mem": 520585216,
          "time": 1600675732.4209943
         },
         {
          "cpu_percent": 0,
          "cpu_time": 149.9,
          "name": "Runner_1",
          "real_mem": 520585216,
          "time": 1600675732.5327165
         },
         {
          "cpu_percent": 98.7,
          "cpu_time": 150.02,
          "name": "Runner_1",
          "real_mem": 520585216,
          "time": 1600675732.6444266
         },
         {
          "cpu_percent": 98.7,
          "cpu_time": 150.13,
          "name": "Runner_1",
          "real_mem": 520585216,
          "time": 1600675732.756159
         },
         {
          "cpu_percent": 98.7,
          "cpu_time": 150.24,
          "name": "Runner_1",
          "real_mem": 520585216,
          "time": 1600675732.8678312
         },
         {
          "cpu_percent": 98.7,
          "cpu_time": 150.35,
          "name": "Runner_1",
          "real_mem": 520585216,
          "time": 1600675732.9795027
         },
         {
          "cpu_percent": 0,
          "cpu_time": 150.46,
          "name": "Runner_1",
          "real_mem": 520585216,
          "time": 1600675733.0913239
         },
         {
          "cpu_percent": 197.3,
          "cpu_time": 150.58,
          "name": "Runner_1",
          "real_mem": 520585216,
          "time": 1600675733.2031012
         },
         {
          "cpu_percent": 98.6,
          "cpu_time": 150.69,
          "name": "Runner_1",
          "real_mem": 520585216,
          "time": 1600675733.3148756
         },
         {
          "cpu_percent": 98.6,
          "cpu_time": 150.8,
          "name": "Runner_1",
          "real_mem": 520585216,
          "time": 1600675733.4265654
         },
         {
          "cpu_percent": 98.7,
          "cpu_time": 150.91,
          "name": "Runner_1",
          "real_mem": 520585216,
          "time": 1600675733.53825
         },
         {
          "cpu_percent": 98.5,
          "cpu_time": 151.02,
          "name": "Runner_1",
          "real_mem": 520585216,
          "time": 1600675733.650008
         },
         {
          "cpu_percent": 197.2,
          "cpu_time": 151.14,
          "name": "Runner_1",
          "real_mem": 520585216,
          "time": 1600675733.761698
         },
         {
          "cpu_percent": 98.7,
          "cpu_time": 151.25,
          "name": "Runner_1",
          "real_mem": 520585216,
          "time": 1600675733.873403
         },
         {
          "cpu_percent": 98.6,
          "cpu_time": 151.36,
          "name": "Runner_1",
          "real_mem": 520585216,
          "time": 1600675733.9852743
         },
         {
          "cpu_percent": 98.7,
          "cpu_time": 151.47,
          "name": "Runner_1",
          "real_mem": 520585216,
          "time": 1600675734.0970223
         },
         {
          "cpu_percent": 98.7,
          "cpu_time": 151.58,
          "name": "Runner_1",
          "real_mem": 520585216,
          "time": 1600675734.2087116
         },
         {
          "cpu_percent": 98.7,
          "cpu_time": 151.69,
          "name": "Runner_1",
          "real_mem": 520585216,
          "time": 1600675734.320494
         },
         {
          "cpu_percent": 0,
          "cpu_time": 151.8,
          "name": "Runner_1",
          "real_mem": 520585216,
          "time": 1600675734.4321465
         },
         {
          "cpu_percent": 98.6,
          "cpu_time": 151.92,
          "name": "Runner_1",
          "real_mem": 520585216,
          "time": 1600675734.5438552
         },
         {
          "cpu_percent": 98.7,
          "cpu_time": 152.03,
          "name": "Runner_1",
          "real_mem": 520585216,
          "time": 1600675734.6555736
         },
         {
          "cpu_percent": 98.9,
          "cpu_time": 152.14,
          "name": "Runner_1",
          "real_mem": 520585216,
          "time": 1600675734.7671509
         },
         {
          "cpu_percent": 98.7,
          "cpu_time": 152.25,
          "name": "Runner_1",
          "real_mem": 520585216,
          "time": 1600675734.8787417
         },
         {
          "cpu_percent": 98.8,
          "cpu_time": 152.36,
          "name": "Runner_1",
          "real_mem": 520585216,
          "time": 1600675734.9904015
         },
         {
          "cpu_percent": 98.8,
          "cpu_time": 152.47,
          "name": "Runner_1",
          "real_mem": 520585216,
          "time": 1600675735.1020284
         },
         {
          "cpu_percent": 197.6,
          "cpu_time": 152.59,
          "name": "Runner_1",
          "real_mem": 520585216,
          "time": 1600675735.2136407
         },
         {
          "cpu_percent": 98.7,
          "cpu_time": 152.7,
          "name": "Runner_1",
          "real_mem": 520585216,
          "time": 1600675735.32548
         },
         {
          "cpu_percent": 98.5,
          "cpu_time": 152.81,
          "name": "Runner_1",
          "real_mem": 520585216,
          "time": 1600675735.4372861
         },
         {
          "cpu_percent": 98.6,
          "cpu_time": 152.92,
          "name": "Runner_1",
          "real_mem": 520585216,
          "time": 1600675735.5490336
         },
         {
          "cpu_percent": 98.5,
          "cpu_time": 153.03,
          "name": "Runner_1",
          "real_mem": 520585216,
          "time": 1600675735.6606746
         },
         {
          "cpu_percent": 98.4,
          "cpu_time": 153.14,
          "name": "Runner_1",
          "real_mem": 520585216,
          "time": 1600675735.7725334
         },
         {
          "cpu_percent": 0,
          "cpu_time": 153.25,
          "name": "Runner_1",
          "real_mem": 520585216,
          "time": 1600675735.884216
         },
         {
          "cpu_percent": 98.4,
          "cpu_time": 153.37,
          "name": "Runner_1",
          "real_mem": 520585216,
          "time": 1600675735.9959452
         },
         {
          "cpu_percent": 98.5,
          "cpu_time": 153.48,
          "name": "Runner_1",
          "real_mem": 520585216,
          "time": 1600675736.1077166
         },
         {
          "cpu_percent": 98.6,
          "cpu_time": 153.59,
          "name": "Runner_1",
          "real_mem": 520585216,
          "time": 1600675736.2193813
         },
         {
          "cpu_percent": 98.6,
          "cpu_time": 153.7,
          "name": "Runner_1",
          "real_mem": 520585216,
          "time": 1600675736.3310142
         },
         {
          "cpu_percent": 98.7,
          "cpu_time": 153.81,
          "name": "Runner_1",
          "real_mem": 520585216,
          "time": 1600675736.4426749
         },
         {
          "cpu_percent": 197.3,
          "cpu_time": 153.93,
          "name": "Runner_1",
          "real_mem": 520585216,
          "time": 1600675736.5542607
         },
         {
          "cpu_percent": 98.2,
          "cpu_time": 154.04,
          "name": "Runner_1",
          "real_mem": 520585216,
          "time": 1600675736.6663225
         },
         {
          "cpu_percent": 98.3,
          "cpu_time": 154.15,
          "name": "Runner_1",
          "real_mem": 520585216,
          "time": 1600675736.778346
         },
         {
          "cpu_percent": 98.5,
          "cpu_time": 154.26,
          "name": "Runner_1",
          "real_mem": 520585216,
          "time": 1600675736.8903112
         },
         {
          "cpu_percent": 98.6,
          "cpu_time": 154.37,
          "name": "Runner_1",
          "real_mem": 520585216,
          "time": 1600675737.0021343
         },
         {
          "cpu_percent": 197.2,
          "cpu_time": 154.49,
          "name": "Runner_1",
          "real_mem": 520585216,
          "time": 1600675737.113907
         },
         {
          "cpu_percent": 98.7,
          "cpu_time": 154.6,
          "name": "Runner_1",
          "real_mem": 520585216,
          "time": 1600675737.2255557
         },
         {
          "cpu_percent": 98.3,
          "cpu_time": 154.71,
          "name": "Runner_1",
          "real_mem": 520585216,
          "time": 1600675737.337634
         },
         {
          "cpu_percent": 98.3,
          "cpu_time": 154.82,
          "name": "Runner_1",
          "real_mem": 520585216,
          "time": 1600675737.4496036
         },
         {
          "cpu_percent": 98.7,
          "cpu_time": 154.93,
          "name": "Runner_1",
          "real_mem": 520585216,
          "time": 1600675737.561292
         },
         {
          "cpu_percent": 196.8,
          "cpu_time": 155.05,
          "name": "Runner_1",
          "real_mem": 520585216,
          "time": 1600675737.6731195
         },
         {
          "cpu_percent": 2658.3,
          "cpu_time": 155.72,
          "name": "Runner_1",
          "real_mem": 520585216,
          "time": 1600675737.788445
         },
         {
          "cpu_percent": 2359.6,
          "cpu_time": 158.27,
          "name": "Runner_1",
          "real_mem": 520585216,
          "time": 1600675737.9003136
         },
         {
          "cpu_percent": 0,
          "cpu_time": 159.51,
          "name": "Runner_1",
          "real_mem": 520585216,
          "time": 1600675738.012212
         },
         {
          "cpu_percent": 98.7,
          "cpu_time": 159.63,
          "name": "Runner_1",
          "real_mem": 520585216,
          "time": 1600675738.1238608
         },
         {
          "cpu_percent": 98.7,
          "cpu_time": 159.74,
          "name": "Runner_1",
          "real_mem": 520585216,
          "time": 1600675738.2354639
         },
         {
          "cpu_percent": 98.1,
          "cpu_time": 159.85,
          "name": "Runner_1",
          "real_mem": 520585216,
          "time": 1600675738.347344
         },
         {
          "cpu_percent": 98.5,
          "cpu_time": 159.96,
          "name": "Runner_1",
          "real_mem": 520585216,
          "time": 1600675738.4592257
         },
         {
          "cpu_percent": 98.5,
          "cpu_time": 160.07,
          "name": "Runner_1",
          "real_mem": 520585216,
          "time": 1600675738.5708706
         },
         {
          "cpu_percent": 196.6,
          "cpu_time": 160.19,
          "name": "Runner_1",
          "real_mem": 520585216,
          "time": 1600675738.6827047
         },
         {
          "cpu_percent": 98.7,
          "cpu_time": 160.3,
          "name": "Runner_1",
          "real_mem": 520585216,
          "time": 1600675738.7945228
         },
         {
          "cpu_percent": 98.8,
          "cpu_time": 160.41,
          "name": "Runner_1",
          "real_mem": 520585216,
          "time": 1600675738.9062455
         },
         {
          "cpu_percent": 98.8,
          "cpu_time": 160.52,
          "name": "Runner_1",
          "real_mem": 520585216,
          "time": 1600675739.0180132
         },
         {
          "cpu_percent": 98.7,
          "cpu_time": 160.63,
          "name": "Runner_1",
          "real_mem": 520585216,
          "time": 1600675739.129832
         },
         {
          "cpu_percent": 197.4,
          "cpu_time": 160.75,
          "name": "Runner_1",
          "real_mem": 520585216,
          "time": 1600675739.2415848
         },
         {
          "cpu_percent": 98.7,
          "cpu_time": 160.86,
          "name": "Runner_1",
          "real_mem": 520585216,
          "time": 1600675739.3532972
         },
         {
          "cpu_percent": 98.5,
          "cpu_time": 160.97,
          "name": "Runner_1",
          "real_mem": 520585216,
          "time": 1600675739.4650028
         },
         {
          "cpu_percent": 98.4,
          "cpu_time": 161.08,
          "name": "Runner_1",
          "real_mem": 520585216,
          "time": 1600675739.5767665
         },
         {
          "cpu_percent": 98.5,
          "cpu_time": 161.19,
          "name": "Runner_1",
          "real_mem": 520585216,
          "time": 1600675739.6885035
         },
         {
          "cpu_percent": 98.7,
          "cpu_time": 161.3,
          "name": "Runner_1",
          "real_mem": 520585216,
          "time": 1600675739.8001003
         },
         {
          "cpu_percent": 0,
          "cpu_time": 161.41,
          "name": "Runner_1",
          "real_mem": 520585216,
          "time": 1600675739.9118025
         },
         {
          "cpu_percent": 98.7,
          "cpu_time": 161.53,
          "name": "Runner_1",
          "real_mem": 520585216,
          "time": 1600675740.0234554
         },
         {
          "cpu_percent": 98.6,
          "cpu_time": 161.64,
          "name": "Runner_1",
          "real_mem": 520585216,
          "time": 1600675740.1351151
         },
         {
          "cpu_percent": 98.6,
          "cpu_time": 161.75,
          "name": "Runner_1",
          "real_mem": 520585216,
          "time": 1600675740.2467039
         },
         {
          "cpu_percent": 98.7,
          "cpu_time": 161.86,
          "name": "Runner_1",
          "real_mem": 520585216,
          "time": 1600675740.3583019
         },
         {
          "cpu_percent": 98.7,
          "cpu_time": 161.97,
          "name": "Runner_1",
          "real_mem": 520585216,
          "time": 1600675740.4698377
         },
         {
          "cpu_percent": 197.2,
          "cpu_time": 162.09,
          "name": "Runner_1",
          "real_mem": 520585216,
          "time": 1600675740.5814772
         },
         {
          "cpu_percent": 98.1,
          "cpu_time": 162.2,
          "name": "Runner_1",
          "real_mem": 520585216,
          "time": 1600675740.693157
         },
         {
          "cpu_percent": 98.5,
          "cpu_time": 162.31,
          "name": "Runner_1",
          "real_mem": 520585216,
          "time": 1600675740.8049884
         },
         {
          "cpu_percent": 98.6,
          "cpu_time": 162.42,
          "name": "Runner_1",
          "real_mem": 520585216,
          "time": 1600675740.916704
         },
         {
          "cpu_percent": 98,
          "cpu_time": 162.53,
          "name": "Runner_1",
          "real_mem": 520585216,
          "time": 1600675741.028642
         },
         {
          "cpu_percent": 98.6,
          "cpu_time": 162.64,
          "name": "Runner_1",
          "real_mem": 520585216,
          "time": 1600675741.1404574
         },
         {
          "cpu_percent": 0,
          "cpu_time": 162.75,
          "name": "Runner_1",
          "real_mem": 520585216,
          "time": 1600675741.2520497
         },
         {
          "cpu_percent": 98.3,
          "cpu_time": 162.87,
          "name": "Runner_1",
          "real_mem": 520585216,
          "time": 1600675741.3638005
         },
         {
          "cpu_percent": 98.3,
          "cpu_time": 162.98,
          "name": "Runner_1",
          "real_mem": 520585216,
          "time": 1600675741.4755309
         },
         {
          "cpu_percent": 98.6,
          "cpu_time": 163.09,
          "name": "Runner_1",
          "real_mem": 520585216,
          "time": 1600675741.5871584
         },
         {
          "cpu_percent": 98.1,
          "cpu_time": 163.2,
          "name": "Runner_1",
          "real_mem": 520585216,
          "time": 1600675741.6988678
         },
         {
          "cpu_percent": 98.6,
          "cpu_time": 163.31,
          "name": "Runner_1",
          "real_mem": 520585216,
          "time": 1600675741.8105273
         },
         {
          "cpu_percent": 98.6,
          "cpu_time": 163.42,
          "name": "Runner_1",
          "real_mem": 520585216,
          "time": 1600675741.92221
         },
         {
          "cpu_percent": 196.6,
          "cpu_time": 163.54,
          "name": "Runner_1",
          "real_mem": 520585216,
          "time": 1600675742.033942
         },
         {
          "cpu_percent": 98.3,
          "cpu_time": 163.65,
          "name": "Runner_1",
          "real_mem": 520585216,
          "time": 1600675742.1460087
         },
         {
          "cpu_percent": 98.6,
          "cpu_time": 163.76,
          "name": "Runner_1",
          "real_mem": 520585216,
          "time": 1600675742.2577147
         },
         {
          "cpu_percent": 98.8,
          "cpu_time": 163.87,
          "name": "Runner_1",
          "real_mem": 520585216,
          "time": 1600675742.3693745
         },
         {
          "cpu_percent": 98.9,
          "cpu_time": 163.98,
          "name": "Runner_1",
          "real_mem": 520585216,
          "time": 1600675742.4811125
         },
         {
          "cpu_percent": 98.5,
          "cpu_time": 164.09,
          "name": "Runner_1",
          "real_mem": 520585216,
          "time": 1600675742.5928144
         },
         {
          "cpu_percent": 0,
          "cpu_time": 164.2,
          "name": "Runner_1",
          "real_mem": 520585216,
          "time": 1600675742.704544
         },
         {
          "cpu_percent": 98.8,
          "cpu_time": 164.32,
          "name": "Runner_1",
          "real_mem": 520585216,
          "time": 1600675742.8162487
         },
         {
          "cpu_percent": 98.7,
          "cpu_time": 164.43,
          "name": "Runner_1",
          "real_mem": 520585216,
          "time": 1600675742.9279206
         },
         {
          "cpu_percent": 98.5,
          "cpu_time": 164.54,
          "name": "Runner_1",
          "real_mem": 520585216,
          "time": 1600675743.0397892
         },
         {
          "cpu_percent": 98.7,
          "cpu_time": 164.65,
          "name": "Runner_1",
          "real_mem": 520585216,
          "time": 1600675743.151578
         },
         {
          "cpu_percent": 0,
          "cpu_time": 164.76,
          "name": "Runner_1",
          "real_mem": 520585216,
          "time": 1600675743.2632413
         },
         {
          "cpu_percent": 98.3,
          "cpu_time": 164.88,
          "name": "Runner_1",
          "real_mem": 520585216,
          "time": 1600675743.375369
         },
         {
          "cpu_percent": 98.6,
          "cpu_time": 164.99,
          "name": "Runner_1",
          "real_mem": 520585216,
          "time": 1600675743.487045
         },
         {
          "cpu_percent": 98.4,
          "cpu_time": 165.1,
          "name": "Runner_1",
          "real_mem": 520585216,
          "time": 1600675743.598889
         },
         {
          "cpu_percent": 98.7,
          "cpu_time": 165.21,
          "name": "Runner_1",
          "real_mem": 520585216,
          "time": 1600675743.710462
         },
         {
          "cpu_percent": 98.6,
          "cpu_time": 165.32,
          "name": "Runner_1",
          "real_mem": 520585216,
          "time": 1600675743.822103
         },
         {
          "cpu_percent": 197,
          "cpu_time": 165.44,
          "name": "Runner_1",
          "real_mem": 520585216,
          "time": 1600675743.933825
         },
         {
          "cpu_percent": 98.7,
          "cpu_time": 165.55,
          "name": "Runner_1",
          "real_mem": 520585216,
          "time": 1600675744.0455284
         },
         {
          "cpu_percent": 98.7,
          "cpu_time": 165.66,
          "name": "Runner_1",
          "real_mem": 520585216,
          "time": 1600675744.1570504
         },
         {
          "cpu_percent": 98.5,
          "cpu_time": 165.77,
          "name": "Runner_1",
          "real_mem": 520585216,
          "time": 1600675744.268655
         },
         {
          "cpu_percent": 98.4,
          "cpu_time": 165.88,
          "name": "Runner_1",
          "real_mem": 520585216,
          "time": 1600675744.380378
         },
         {
          "cpu_percent": 98.6,
          "cpu_time": 165.99,
          "name": "Runner_1",
          "real_mem": 520585216,
          "time": 1600675744.49197
         },
         {
          "cpu_percent": 0,
          "cpu_time": 166.1,
          "name": "Runner_1",
          "real_mem": 520585216,
          "time": 1600675744.6039708
         },
         {
          "cpu_percent": 98.4,
          "cpu_time": 166.22,
          "name": "Runner_1",
          "real_mem": 520585216,
          "time": 1600675744.7156754
         },
         {
          "cpu_percent": 98.5,
          "cpu_time": 166.33,
          "name": "Runner_1",
          "real_mem": 520585216,
          "time": 1600675744.8275137
         },
         {
          "cpu_percent": 98.5,
          "cpu_time": 166.44,
          "name": "Runner_1",
          "real_mem": 520585216,
          "time": 1600675744.9391887
         },
         {
          "cpu_percent": 98.5,
          "cpu_time": 166.55,
          "name": "Runner_1",
          "real_mem": 520585216,
          "time": 1600675745.0508938
         },
         {
          "cpu_percent": 98.5,
          "cpu_time": 166.66,
          "name": "Runner_1",
          "real_mem": 520585216,
          "time": 1600675745.1626315
         },
         {
          "cpu_percent": 197.3,
          "cpu_time": 166.78,
          "name": "Runner_1",
          "real_mem": 520585216,
          "time": 1600675745.2742546
         },
         {
          "cpu_percent": 98.4,
          "cpu_time": 166.89,
          "name": "Runner_1",
          "real_mem": 520585216,
          "time": 1600675745.3859375
         },
         {
          "cpu_percent": 98.4,
          "cpu_time": 167,
          "name": "Runner_1",
          "real_mem": 520585216,
          "time": 1600675745.4977849
         },
         {
          "cpu_percent": 98.6,
          "cpu_time": 167.11,
          "name": "Runner_1",
          "real_mem": 520585216,
          "time": 1600675745.6094897
         },
         {
          "cpu_percent": 98.3,
          "cpu_time": 167.22,
          "name": "Runner_1",
          "real_mem": 520585216,
          "time": 1600675745.7211633
         },
         {
          "cpu_percent": 98.4,
          "cpu_time": 167.34,
          "name": "Runner_1",
          "real_mem": 520585216,
          "time": 1600675745.8328755
         },
         {
          "cpu_percent": 0,
          "cpu_time": 167.44,
          "name": "Runner_1",
          "real_mem": 520585216,
          "time": 1600675745.9445217
         },
         {
          "cpu_percent": 98.7,
          "cpu_time": 167.56,
          "name": "Runner_1",
          "real_mem": 520585216,
          "time": 1600675746.0561118
         },
         {
          "cpu_percent": 98.5,
          "cpu_time": 167.67,
          "name": "Runner_1",
          "real_mem": 520585216,
          "time": 1600675746.16779
         },
         {
          "cpu_percent": 98.5,
          "cpu_time": 167.78,
          "name": "Runner_1",
          "real_mem": 520585216,
          "time": 1600675746.2795968
         },
         {
          "cpu_percent": 98.3,
          "cpu_time": 167.89,
          "name": "Runner_1",
          "real_mem": 520585216,
          "time": 1600675746.3915339
         },
         {
          "cpu_percent": 98.4,
          "cpu_time": 168,
          "name": "Runner_1",
          "real_mem": 520585216,
          "time": 1600675746.503222
         },
         {
          "cpu_percent": 196.9,
          "cpu_time": 168.12,
          "name": "Runner_1",
          "real_mem": 520585216,
          "time": 1600675746.6150076
         },
         {
          "cpu_percent": 98.3,
          "cpu_time": 168.23,
          "name": "Runner_1",
          "real_mem": 520585216,
          "time": 1600675746.7267582
         },
         {
          "cpu_percent": 98.4,
          "cpu_time": 168.34,
          "name": "Runner_1",
          "real_mem": 520585216,
          "time": 1600675746.8386433
         },
         {
          "cpu_percent": 98.6,
          "cpu_time": 168.45,
          "name": "Runner_1",
          "real_mem": 520585216,
          "time": 1600675746.950337
         },
         {
          "cpu_percent": 98.6,
          "cpu_time": 168.56,
          "name": "Runner_1",
          "real_mem": 520585216,
          "time": 1600675747.0621214
         },
         {
          "cpu_percent": 196.6,
          "cpu_time": 168.68,
          "name": "Runner_1",
          "real_mem": 520585216,
          "time": 1600675747.1739972
         },
         {
          "cpu_percent": 98.7,
          "cpu_time": 168.79,
          "name": "Runner_1",
          "real_mem": 520585216,
          "time": 1600675747.2858312
         },
         {
          "cpu_percent": 98.5,
          "cpu_time": 168.9,
          "name": "Runner_1",
          "real_mem": 520585216,
          "time": 1600675747.3976955
         },
         {
          "cpu_percent": 98.6,
          "cpu_time": 169.01,
          "name": "Runner_1",
          "real_mem": 520585216,
          "time": 1600675747.509429
         },
         {
          "cpu_percent": 98.5,
          "cpu_time": 169.12,
          "name": "Runner_1",
          "real_mem": 520585216,
          "time": 1600675747.6210916
         },
         {
          "cpu_percent": 98.5,
          "cpu_time": 169.24,
          "name": "Runner_1",
          "real_mem": 520585216,
          "time": 1600675747.732962
         },
         {
          "cpu_percent": 98.7,
          "cpu_time": 169.35,
          "name": "Runner_1",
          "real_mem": 520585216,
          "time": 1600675747.844705
         },
         {
          "cpu_percent": 0,
          "cpu_time": 169.45,
          "name": "Runner_1",
          "real_mem": 520585216,
          "time": 1600675747.95649
         },
         {
          "cpu_percent": 98.6,
          "cpu_time": 169.57,
          "name": "Runner_1",
          "real_mem": 520585216,
          "time": 1600675748.0683265
         },
         {
          "cpu_percent": 98.7,
          "cpu_time": 169.68,
          "name": "Runner_1",
          "real_mem": 520585216,
          "time": 1600675748.1800594
         },
         {
          "cpu_percent": 98.6,
          "cpu_time": 169.79,
          "name": "Runner_1",
          "real_mem": 520585216,
          "time": 1600675748.2918599
         },
         {
          "cpu_percent": 98.6,
          "cpu_time": 169.9,
          "name": "Runner_1",
          "real_mem": 520585216,
          "time": 1600675748.4036033
         },
         {
          "cpu_percent": 98.5,
          "cpu_time": 170.01,
          "name": "Runner_1",
          "real_mem": 520585216,
          "time": 1600675748.5155094
         },
         {
          "cpu_percent": 0,
          "cpu_time": 170.12,
          "name": "Runner_1",
          "real_mem": 520585216,
          "time": 1600675748.62733
         },
         {
          "cpu_percent": 197,
          "cpu_time": 170.24,
          "name": "Runner_1",
          "real_mem": 520585216,
          "time": 1600675748.7392175
         },
         {
          "cpu_percent": 98.7,
          "cpu_time": 170.35,
          "name": "Runner_1",
          "real_mem": 520585216,
          "time": 1600675748.85094
         },
         {
          "cpu_percent": 98.6,
          "cpu_time": 170.46,
          "name": "Runner_1",
          "real_mem": 520585216,
          "time": 1600675748.9628713
         },
         {
          "cpu_percent": 98.4,
          "cpu_time": 170.57,
          "name": "Runner_1",
          "real_mem": 520585216,
          "time": 1600675749.0752382
         },
         {
          "cpu_percent": 98.2,
          "cpu_time": 170.68,
          "name": "Runner_1",
          "real_mem": 520585216,
          "time": 1600675749.187216
         },
         {
          "cpu_percent": 196.9,
          "cpu_time": 170.8,
          "name": "Runner_1",
          "real_mem": 520585216,
          "time": 1600675749.2990296
         },
         {
          "cpu_percent": 98.3,
          "cpu_time": 170.91,
          "name": "Runner_1",
          "real_mem": 520585216,
          "time": 1600675749.4109929
         },
         {
          "cpu_percent": 98.4,
          "cpu_time": 171.02,
          "name": "Runner_1",
          "real_mem": 520585216,
          "time": 1600675749.5229445
         },
         {
          "cpu_percent": 98.3,
          "cpu_time": 171.13,
          "name": "Runner_1",
          "real_mem": 520585216,
          "time": 1600675749.6348753
         },
         {
          "cpu_percent": 98.4,
          "cpu_time": 171.24,
          "name": "Runner_1",
          "real_mem": 520585216,
          "time": 1600675749.7467031
         },
         {
          "cpu_percent": 197.5,
          "cpu_time": 171.36,
          "name": "Runner_1",
          "real_mem": 520585216,
          "time": 1600675749.8583252
         },
         {
          "cpu_percent": 98.8,
          "cpu_time": 171.47,
          "name": "Runner_1",
          "real_mem": 520585216,
          "time": 1600675749.9698946
         },
         {
          "cpu_percent": 98.5,
          "cpu_time": 171.58,
          "name": "Runner_1",
          "real_mem": 520585216,
          "time": 1600675750.0816555
         },
         {
          "cpu_percent": 296.5,
          "cpu_time": 173,
          "name": "Runner_1",
          "real_mem": 520585216,
          "time": 1600675750.1931918
         },
         {
          "cpu_percent": 98.6,
          "cpu_time": 175.3,
          "name": "Runner_1",
          "real_mem": 520585216,
          "time": 1600675750.3050034
         },
         {
          "cpu_percent": 98.5,
          "cpu_time": 175.41,
          "name": "Runner_1",
          "real_mem": 520585216,
          "time": 1600675750.4168434
         },
         {
          "cpu_percent": 0,
          "cpu_time": 175.52,
          "name": "Runner_1",
          "real_mem": 520585216,
          "time": 1600675750.5286
         },
         {
          "cpu_percent": 98.5,
          "cpu_time": 175.64,
          "name": "Runner_1",
          "real_mem": 520585216,
          "time": 1600675750.6404169
         },
         {
          "cpu_percent": 98.7,
          "cpu_time": 175.75,
          "name": "Runner_1",
          "real_mem": 520585216,
          "time": 1600675750.7521048
         },
         {
          "cpu_percent": 98.6,
          "cpu_time": 175.86,
          "name": "Runner_1",
          "real_mem": 520585216,
          "time": 1600675750.8639312
         },
         {
          "cpu_percent": 98.6,
          "cpu_time": 175.97,
          "name": "Runner_1",
          "real_mem": 520585216,
          "time": 1600675750.975687
         },
         {
          "cpu_percent": 0,
          "cpu_time": 176.08,
          "name": "Runner_1",
          "real_mem": 520585216,
          "time": 1600675751.0877836
         },
         {
          "cpu_percent": 98.9,
          "cpu_time": 176.2,
          "name": "Runner_1",
          "real_mem": 520585216,
          "time": 1600675751.1993806
         },
         {
          "cpu_percent": 98.5,
          "cpu_time": 176.31,
          "name": "Runner_1",
          "real_mem": 520585216,
          "time": 1600675751.310945
         },
         {
          "cpu_percent": 98.7,
          "cpu_time": 176.42,
          "name": "Runner_1",
          "real_mem": 520585216,
          "time": 1600675751.4225414
         },
         {
          "cpu_percent": 98.7,
          "cpu_time": 176.53,
          "name": "Runner_1",
          "real_mem": 520585216,
          "time": 1600675751.5341475
         },
         {
          "cpu_percent": 98.7,
          "cpu_time": 176.64,
          "name": "Runner_1",
          "real_mem": 520585216,
          "time": 1600675751.6457753
         },
         {
          "cpu_percent": 197.2,
          "cpu_time": 176.76,
          "name": "Runner_1",
          "real_mem": 520585216,
          "time": 1600675751.7575474
         },
         {
          "cpu_percent": 98.7,
          "cpu_time": 176.87,
          "name": "Runner_1",
          "real_mem": 520585216,
          "time": 1600675751.8690953
         },
         {
          "cpu_percent": 98.8,
          "cpu_time": 176.98,
          "name": "Runner_1",
          "real_mem": 520585216,
          "time": 1600675751.9805593
         },
         {
          "cpu_percent": 98.6,
          "cpu_time": 177.09,
          "name": "Runner_1",
          "real_mem": 520585216,
          "time": 1600675752.092049
         },
         {
          "cpu_percent": 98.7,
          "cpu_time": 177.2,
          "name": "Runner_1",
          "real_mem": 520585216,
          "time": 1600675752.2036536
         },
         {
          "cpu_percent": 98.4,
          "cpu_time": 177.31,
          "name": "Runner_1",
          "real_mem": 520585216,
          "time": 1600675752.3154547
         },
         {
          "cpu_percent": 98.5,
          "cpu_time": 177.42,
          "name": "Runner_1",
          "real_mem": 520585216,
          "time": 1600675752.427105
         },
         {
          "cpu_percent": 197.5,
          "cpu_time": 177.54,
          "name": "Runner_1",
          "real_mem": 520585216,
          "time": 1600675752.538707
         },
         {
          "cpu_percent": 98.8,
          "cpu_time": 177.65,
          "name": "Runner_1",
          "real_mem": 520585216,
          "time": 1600675752.650291
         },
         {
          "cpu_percent": 98.7,
          "cpu_time": 177.76,
          "name": "Runner_1",
          "real_mem": 520585216,
          "time": 1600675752.762113
         },
         {
          "cpu_percent": 98.6,
          "cpu_time": 177.87,
          "name": "Runner_1",
          "real_mem": 520585216,
          "time": 1600675752.8737073
         },
         {
          "cpu_percent": 98.7,
          "cpu_time": 177.98,
          "name": "Runner_1",
          "real_mem": 520585216,
          "time": 1600675752.9852934
         },
         {
          "cpu_percent": 98.6,
          "cpu_time": 178.09,
          "name": "Runner_1",
          "real_mem": 520585216,
          "time": 1600675753.0969913
         },
         {
          "cpu_percent": 98.7,
          "cpu_time": 178.2,
          "name": "Runner_1",
          "real_mem": 520585216,
          "time": 1600675753.2085583
         },
         {
          "cpu_percent": 0,
          "cpu_time": 178.31,
          "name": "Runner_1",
          "real_mem": 520585216,
          "time": 1600675753.3200858
         },
         {
          "cpu_percent": 98.7,
          "cpu_time": 178.43,
          "name": "Runner_1",
          "real_mem": 520585216,
          "time": 1600675753.431641
         },
         {
          "cpu_percent": 98.3,
          "cpu_time": 178.54,
          "name": "Runner_1",
          "real_mem": 520585216,
          "time": 1600675753.5432916
         },
         {
          "cpu_percent": 98.7,
          "cpu_time": 178.65,
          "name": "Runner_1",
          "real_mem": 520585216,
          "time": 1600675753.6549065
         },
         {
          "cpu_percent": 98.7,
          "cpu_time": 178.76,
          "name": "Runner_1",
          "real_mem": 520585216,
          "time": 1600675753.7664127
         },
         {
          "cpu_percent": 98.7,
          "cpu_time": 178.87,
          "name": "Runner_1",
          "real_mem": 520585216,
          "time": 1600675753.8779376
         },
         {
          "cpu_percent": 197.6,
          "cpu_time": 178.99,
          "name": "Runner_1",
          "real_mem": 520585216,
          "time": 1600675753.9894233
         },
         {
          "cpu_percent": 98.7,
          "cpu_time": 179.1,
          "name": "Runner_1",
          "real_mem": 520585216,
          "time": 1600675754.101217
         },
         {
          "cpu_percent": 98.7,
          "cpu_time": 179.21,
          "name": "Runner_1",
          "real_mem": 520585216,
          "time": 1600675754.2126873
         },
         {
          "cpu_percent": 98.4,
          "cpu_time": 179.32,
          "name": "Runner_1",
          "real_mem": 520585216,
          "time": 1600675754.3244321
         },
         {
          "cpu_percent": 98.4,
          "cpu_time": 179.43,
          "name": "Runner_1",
          "real_mem": 520585216,
          "time": 1600675754.436143
         },
         {
          "cpu_percent": 98.3,
          "cpu_time": 179.54,
          "name": "Runner_1",
          "real_mem": 520585216,
          "time": 1600675754.547864
         },
         {
          "cpu_percent": 0,
          "cpu_time": 179.65,
          "name": "Runner_1",
          "real_mem": 520585216,
          "time": 1600675754.6597269
         },
         {
          "cpu_percent": 98.8,
          "cpu_time": 179.77,
          "name": "Runner_1",
          "real_mem": 520585216,
          "time": 1600675754.7713647
         },
         {
          "cpu_percent": 98.7,
          "cpu_time": 179.88,
          "name": "Runner_1",
          "real_mem": 520585216,
          "time": 1600675754.8828523
         },
         {
          "cpu_percent": 98.6,
          "cpu_time": 179.99,
          "name": "Runner_1",
          "real_mem": 520585216,
          "time": 1600675754.9943802
         },
         {
          "cpu_percent": 98.4,
          "cpu_time": 180.1,
          "name": "Runner_1",
          "real_mem": 520585216,
          "time": 1600675755.1061177
         },
         {
          "cpu_percent": 98.7,
          "cpu_time": 180.21,
          "name": "Runner_1",
          "real_mem": 520585216,
          "time": 1600675755.2177339
         },
         {
          "cpu_percent": 197.3,
          "cpu_time": 180.33,
          "name": "Runner_1",
          "real_mem": 520585216,
          "time": 1600675755.3293173
         },
         {
          "cpu_percent": 98.4,
          "cpu_time": 180.44,
          "name": "Runner_1",
          "real_mem": 520585216,
          "time": 1600675755.4411323
         },
         {
          "cpu_percent": 98.7,
          "cpu_time": 180.55,
          "name": "Runner_1",
          "real_mem": 520585216,
          "time": 1600675755.5526183
         },
         {
          "cpu_percent": 98.7,
          "cpu_time": 180.66,
          "name": "Runner_1",
          "real_mem": 520585216,
          "time": 1600675755.6642146
         },
         {
          "cpu_percent": 98.3,
          "cpu_time": 180.77,
          "name": "Runner_1",
          "real_mem": 520585216,
          "time": 1600675755.7758384
         },
         {
          "cpu_percent": 98.7,
          "cpu_time": 180.88,
          "name": "Runner_1",
          "real_mem": 520585216,
          "time": 1600675755.8874264
         },
         {
          "cpu_percent": 98.7,
          "cpu_time": 180.99,
          "name": "Runner_1",
          "real_mem": 520585216,
          "time": 1600675755.9989297
         },
         {
          "cpu_percent": 197.2,
          "cpu_time": 181.11,
          "name": "Runner_1",
          "real_mem": 520585216,
          "time": 1600675756.110507
         },
         {
          "cpu_percent": 98.7,
          "cpu_time": 181.22,
          "name": "Runner_1",
          "real_mem": 520585216,
          "time": 1600675756.222036
         },
         {
          "cpu_percent": 98.7,
          "cpu_time": 181.33,
          "name": "Runner_1",
          "real_mem": 520585216,
          "time": 1600675756.3336143
         },
         {
          "cpu_percent": 98.6,
          "cpu_time": 181.44,
          "name": "Runner_1",
          "real_mem": 520585216,
          "time": 1600675756.4452748
         },
         {
          "cpu_percent": 98.6,
          "cpu_time": 181.55,
          "name": "Runner_1",
          "real_mem": 520585216,
          "time": 1600675756.556891
         },
         {
          "cpu_percent": 98.6,
          "cpu_time": 181.66,
          "name": "Runner_1",
          "real_mem": 520585216,
          "time": 1600675756.6685352
         },
         {
          "cpu_percent": 0,
          "cpu_time": 181.77,
          "name": "Runner_1",
          "real_mem": 520585216,
          "time": 1600675756.7799785
         },
         {
          "cpu_percent": 98.7,
          "cpu_time": 181.89,
          "name": "Runner_1",
          "real_mem": 520585216,
          "time": 1600675756.8916104
         },
         {
          "cpu_percent": 98.5,
          "cpu_time": 182,
          "name": "Runner_1",
          "real_mem": 520585216,
          "time": 1600675757.003217
         },
         {
          "cpu_percent": 98.5,
          "cpu_time": 182.11,
          "name": "Runner_1",
          "real_mem": 520585216,
          "time": 1600675757.114957
         },
         {
          "cpu_percent": 98.5,
          "cpu_time": 182.22,
          "name": "Runner_1",
          "real_mem": 520585216,
          "time": 1600675757.2266212
         },
         {
          "cpu_percent": 98.6,
          "cpu_time": 182.33,
          "name": "Runner_1",
          "real_mem": 520585216,
          "time": 1600675757.3383358
         },
         {
          "cpu_percent": 196.9,
          "cpu_time": 182.45,
          "name": "Runner_1",
          "real_mem": 520585216,
          "time": 1600675757.4499435
         },
         {
          "cpu_percent": 98.4,
          "cpu_time": 182.56,
          "name": "Runner_1",
          "real_mem": 520585216,
          "time": 1600675757.561598
         },
         {
          "cpu_percent": 98.6,
          "cpu_time": 182.67,
          "name": "Runner_1",
          "real_mem": 520585216,
          "time": 1600675757.6730678
         },
         {
          "cpu_percent": 98.7,
          "cpu_time": 182.78,
          "name": "Runner_1",
          "real_mem": 520585216,
          "time": 1600675757.7845542
         },
         {
          "cpu_percent": 98.7,
          "cpu_time": 182.89,
          "name": "Runner_1",
          "real_mem": 520585216,
          "time": 1600675757.8961713
         },
         {
          "cpu_percent": 98.6,
          "cpu_time": 183,
          "name": "Runner_1",
          "real_mem": 520585216,
          "time": 1600675758.0079138
         },
         {
          "cpu_percent": 0,
          "cpu_time": 183.11,
          "name": "Runner_1",
          "real_mem": 520585216,
          "time": 1600675758.119493
         },
         {
          "cpu_percent": 197.3,
          "cpu_time": 183.23,
          "name": "Runner_1",
          "real_mem": 520585216,
          "time": 1600675758.2310266
         },
         {
          "cpu_percent": 98.8,
          "cpu_time": 183.34,
          "name": "Runner_1",
          "real_mem": 520585216,
          "time": 1600675758.3426096
         },
         {
          "cpu_percent": 98.8,
          "cpu_time": 183.45,
          "name": "Runner_1",
          "real_mem": 520585216,
          "time": 1600675758.454131
         },
         {
          "cpu_percent": 98.7,
          "cpu_time": 183.56,
          "name": "Runner_1",
          "real_mem": 520585216,
          "time": 1600675758.5656762
         },
         {
          "cpu_percent": 98.7,
          "cpu_time": 183.67,
          "name": "Runner_1",
          "real_mem": 520585216,
          "time": 1600675758.6772308
         },
         {
          "cpu_percent": 98.3,
          "cpu_time": 183.79,
          "name": "Runner_1",
          "real_mem": 520585216,
          "time": 1600675758.7888482
         },
         {
          "cpu_percent": 0,
          "cpu_time": 183.89,
          "name": "Runner_1",
          "real_mem": 520585216,
          "time": 1600675758.9006536
         },
         {
          "cpu_percent": 98.5,
          "cpu_time": 184.01,
          "name": "Runner_1",
          "real_mem": 520585216,
          "time": 1600675759.0123403
         },
         {
          "cpu_percent": 98.6,
          "cpu_time": 184.12,
          "name": "Runner_1",
          "real_mem": 520585216,
          "time": 1600675759.1240377
         },
         {
          "cpu_percent": 98.2,
          "cpu_time": 184.23,
          "name": "Runner_1",
          "real_mem": 520585216,
          "time": 1600675759.2357316
         },
         {
          "cpu_percent": 98.4,
          "cpu_time": 184.34,
          "name": "Runner_1",
          "real_mem": 520585216,
          "time": 1600675759.3475575
         },
         {
          "cpu_percent": 0,
          "cpu_time": 184.45,
          "name": "Runner_1",
          "real_mem": 520585216,
          "time": 1600675759.4592519
         },
         {
          "cpu_percent": 197,
          "cpu_time": 184.57,
          "name": "Runner_1",
          "real_mem": 520585216,
          "time": 1600675759.5709321
         },
         {
          "cpu_percent": 98.6,
          "cpu_time": 184.68,
          "name": "Runner_1",
          "real_mem": 520585216,
          "time": 1600675759.6825378
         },
         {
          "cpu_percent": 98.6,
          "cpu_time": 184.79,
          "name": "Runner_1",
          "real_mem": 520585216,
          "time": 1600675759.7941248
         },
         {
          "cpu_percent": 98.8,
          "cpu_time": 184.9,
          "name": "Runner_1",
          "real_mem": 520585216,
          "time": 1600675759.9055712
         },
         {
          "cpu_percent": 98.6,
          "cpu_time": 185.01,
          "name": "Runner_1",
          "real_mem": 520585216,
          "time": 1600675760.017235
         },
         {
          "cpu_percent": 197.1,
          "cpu_time": 185.13,
          "name": "Runner_1",
          "real_mem": 520585216,
          "time": 1600675760.129039
         },
         {
          "cpu_percent": 0,
          "cpu_time": 185.24,
          "name": "Runner_1",
          "real_mem": 520585216,
          "time": 1600675760.240996
         },
         {
          "cpu_percent": 98.5,
          "cpu_time": 185.35,
          "name": "Runner_1",
          "real_mem": 520585216,
          "time": 1600675760.3526938
         },
         {
          "cpu_percent": 98.5,
          "cpu_time": 185.46,
          "name": "Runner_1",
          "real_mem": 520585216,
          "time": 1600675760.4645133
         },
         {
          "cpu_percent": 98.6,
          "cpu_time": 185.57,
          "name": "Runner_1",
          "real_mem": 520585216,
          "time": 1600675760.5761664
         },
         {
          "cpu_percent": 98.4,
          "cpu_time": 185.68,
          "name": "Runner_1",
          "real_mem": 520585216,
          "time": 1600675760.6878436
         },
         {
          "cpu_percent": 0,
          "cpu_time": 185.79,
          "name": "Runner_1",
          "real_mem": 520585216,
          "time": 1600675760.7994018
         },
         {
          "cpu_percent": 197.4,
          "cpu_time": 185.91,
          "name": "Runner_1",
          "real_mem": 520585216,
          "time": 1600675760.9109561
         },
         {
          "cpu_percent": 98.5,
          "cpu_time": 186.02,
          "name": "Runner_1",
          "real_mem": 520585216,
          "time": 1600675761.0227792
         },
         {
          "cpu_percent": 98.6,
          "cpu_time": 186.13,
          "name": "Runner_1",
          "real_mem": 520585216,
          "time": 1600675761.1344526
         },
         {
          "cpu_percent": 98.5,
          "cpu_time": 186.24,
          "name": "Runner_1",
          "real_mem": 520585216,
          "time": 1600675761.2460718
         },
         {
          "cpu_percent": 98.7,
          "cpu_time": 186.35,
          "name": "Runner_1",
          "real_mem": 520585216,
          "time": 1600675761.3576343
         },
         {
          "cpu_percent": 197.5,
          "cpu_time": 186.47,
          "name": "Runner_1",
          "real_mem": 520585216,
          "time": 1600675761.469206
         },
         {
          "cpu_percent": 0,
          "cpu_time": 186.58,
          "name": "Runner_1",
          "real_mem": 520585216,
          "time": 1600675761.5808592
         },
         {
          "cpu_percent": 98.7,
          "cpu_time": 186.69,
          "name": "Runner_1",
          "real_mem": 520585216,
          "time": 1600675761.692436
         },
         {
          "cpu_percent": 98.7,
          "cpu_time": 186.8,
          "name": "Runner_1",
          "real_mem": 520585216,
          "time": 1600675761.8040318
         },
         {
          "cpu_percent": 98.4,
          "cpu_time": 186.91,
          "name": "Runner_1",
          "real_mem": 520585216,
          "time": 1600675761.9157574
         },
         {
          "cpu_percent": 98.5,
          "cpu_time": 187.02,
          "name": "Runner_1",
          "real_mem": 520585216,
          "time": 1600675762.0277488
         },
         {
          "cpu_percent": 0,
          "cpu_time": 187.13,
          "name": "Runner_1",
          "real_mem": 520585216,
          "time": 1600675762.1398406
         },
         {
          "cpu_percent": 2546.2,
          "cpu_time": 188.2,
          "name": "Runner_1",
          "real_mem": 520585216,
          "time": 1600675762.2520857
         },
         {
          "cpu_percent": 0,
          "cpu_time": 190.18,
          "name": "Runner_1",
          "real_mem": 523005952,
          "time": 1600675762.3640072
         },
         {
          "cpu_percent": 98.4,
          "cpu_time": 190.3,
          "name": "Runner_1",
          "real_mem": 523005952,
          "time": 1600675762.475747
         },
         {
          "cpu_percent": 98.5,
          "cpu_time": 190.41,
          "name": "Runner_1",
          "real_mem": 523005952,
          "time": 1600675762.5875034
         },
         {
          "cpu_percent": 98.6,
          "cpu_time": 190.52,
          "name": "Runner_1",
          "real_mem": 523005952,
          "time": 1600675762.6991274
         },
         {
          "cpu_percent": 98.6,
          "cpu_time": 190.63,
          "name": "Runner_1",
          "real_mem": 523005952,
          "time": 1600675762.8106918
         },
         {
          "cpu_percent": 98.9,
          "cpu_time": 190.74,
          "name": "Runner_1",
          "real_mem": 523005952,
          "time": 1600675762.9220724
         },
         {
          "cpu_percent": 196.8,
          "cpu_time": 190.86,
          "name": "Runner_1",
          "real_mem": 523005952,
          "time": 1600675763.0337806
         },
         {
          "cpu_percent": 98.6,
          "cpu_time": 190.97,
          "name": "Runner_1",
          "real_mem": 523005952,
          "time": 1600675763.1454818
         },
         {
          "cpu_percent": 98.5,
          "cpu_time": 191.08,
          "name": "Runner_1",
          "real_mem": 523005952,
          "time": 1600675763.2570708
         },
         {
          "cpu_percent": 98.7,
          "cpu_time": 191.19,
          "name": "Runner_1",
          "real_mem": 523005952,
          "time": 1600675763.368584
         },
         {
          "cpu_percent": 98.4,
          "cpu_time": 191.3,
          "name": "Runner_1",
          "real_mem": 523005952,
          "time": 1600675763.4805248
         },
         {
          "cpu_percent": 98.7,
          "cpu_time": 191.41,
          "name": "Runner_1",
          "real_mem": 523005952,
          "time": 1600675763.592229
         },
         {
          "cpu_percent": 0,
          "cpu_time": 191.52,
          "name": "Runner_1",
          "real_mem": 523005952,
          "time": 1600675763.7038727
         },
         {
          "cpu_percent": 98.8,
          "cpu_time": 191.64,
          "name": "Runner_1",
          "real_mem": 523005952,
          "time": 1600675763.8154142
         },
         {
          "cpu_percent": 98.8,
          "cpu_time": 191.75,
          "name": "Runner_1",
          "real_mem": 523005952,
          "time": 1600675763.9268754
         },
         {
          "cpu_percent": 98.6,
          "cpu_time": 191.86,
          "name": "Runner_1",
          "real_mem": 523005952,
          "time": 1600675764.0385103
         },
         {
          "cpu_percent": 98.7,
          "cpu_time": 191.97,
          "name": "Runner_1",
          "real_mem": 523005952,
          "time": 1600675764.1500735
         },
         {
          "cpu_percent": 98.3,
          "cpu_time": 192.08,
          "name": "Runner_1",
          "real_mem": 523005952,
          "time": 1600675764.261758
         },
         {
          "cpu_percent": 197.5,
          "cpu_time": 192.2,
          "name": "Runner_1",
          "real_mem": 523005952,
          "time": 1600675764.3733904
         },
         {
          "cpu_percent": 99,
          "cpu_time": 192.31,
          "name": "Runner_1",
          "real_mem": 523005952,
          "time": 1600675764.4850092
         },
         {
          "cpu_percent": 98.7,
          "cpu_time": 192.42,
          "name": "Runner_1",
          "real_mem": 523005952,
          "time": 1600675764.5966773
         },
         {
          "cpu_percent": 98.7,
          "cpu_time": 192.53,
          "name": "Runner_1",
          "real_mem": 523005952,
          "time": 1600675764.708485
         },
         {
          "cpu_percent": 98.6,
          "cpu_time": 192.64,
          "name": "Runner_1",
          "real_mem": 523005952,
          "time": 1600675764.8201978
         },
         {
          "cpu_percent": 98.7,
          "cpu_time": 192.75,
          "name": "Runner_1",
          "real_mem": 523005952,
          "time": 1600675764.931914
         },
         {
          "cpu_percent": 0,
          "cpu_time": 192.86,
          "name": "Runner_1",
          "real_mem": 523005952,
          "time": 1600675765.04384
         },
         {
          "cpu_percent": 98.7,
          "cpu_time": 192.98,
          "name": "Runner_1",
          "real_mem": 523005952,
          "time": 1600675765.1556246
         },
         {
          "cpu_percent": 98.6,
          "cpu_time": 193.09,
          "name": "Runner_1",
          "real_mem": 523005952,
          "time": 1600675765.2673936
         },
         {
          "cpu_percent": 98.7,
          "cpu_time": 193.2,
          "name": "Runner_1",
          "real_mem": 523005952,
          "time": 1600675765.3791692
         },
         {
          "cpu_percent": 98.4,
          "cpu_time": 193.31,
          "name": "Runner_1",
          "real_mem": 523005952,
          "time": 1600675765.4910178
         },
         {
          "cpu_percent": 98.5,
          "cpu_time": 193.42,
          "name": "Runner_1",
          "real_mem": 523005952,
          "time": 1600675765.6028278
         },
         {
          "cpu_percent": 98.7,
          "cpu_time": 193.53,
          "name": "Runner_1",
          "real_mem": 523005952,
          "time": 1600675765.71458
         },
         {
          "cpu_percent": 197.3,
          "cpu_time": 193.65,
          "name": "Runner_1",
          "real_mem": 523005952,
          "time": 1600675765.8260949
         },
         {
          "cpu_percent": 98.5,
          "cpu_time": 193.76,
          "name": "Runner_1",
          "real_mem": 523005952,
          "time": 1600675765.9377975
         },
         {
          "cpu_percent": 98.6,
          "cpu_time": 193.87,
          "name": "Runner_1",
          "real_mem": 523005952,
          "time": 1600675766.049623
         },
         {
          "cpu_percent": 98.7,
          "cpu_time": 193.98,
          "name": "Runner_1",
          "real_mem": 523005952,
          "time": 1600675766.1614604
         },
         {
          "cpu_percent": 98.5,
          "cpu_time": 194.09,
          "name": "Runner_1",
          "real_mem": 523005952,
          "time": 1600675766.2736437
         },
         {
          "cpu_percent": 196.5,
          "cpu_time": 194.21,
          "name": "Runner_1",
          "real_mem": 523005952,
          "time": 1600675766.3855631
         },
         {
          "cpu_percent": 98.6,
          "cpu_time": 194.32,
          "name": "Runner_1",
          "real_mem": 523005952,
          "time": 1600675766.497408
         },
         {
          "cpu_percent": 98.6,
          "cpu_time": 194.43,
          "name": "Runner_1",
          "real_mem": 523005952,
          "time": 1600675766.6090326
         },
         {
          "cpu_percent": 98.5,
          "cpu_time": 194.54,
          "name": "Runner_1",
          "real_mem": 523005952,
          "time": 1600675766.7206957
         },
         {
          "cpu_percent": 98.5,
          "cpu_time": 194.65,
          "name": "Runner_1",
          "real_mem": 523005952,
          "time": 1600675766.832535
         },
         {
          "cpu_percent": 98.7,
          "cpu_time": 194.76,
          "name": "Runner_1",
          "real_mem": 523005952,
          "time": 1600675766.9440517
         },
         {
          "cpu_percent": 98.5,
          "cpu_time": 194.87,
          "name": "Runner_1",
          "real_mem": 523005952,
          "time": 1600675767.0558026
         },
         {
          "cpu_percent": 0,
          "cpu_time": 194.98,
          "name": "Runner_1",
          "real_mem": 523005952,
          "time": 1600675767.1682193
         },
         {
          "cpu_percent": 98.3,
          "cpu_time": 195.1,
          "name": "Runner_1",
          "real_mem": 523005952,
          "time": 1600675767.2805457
         },
         {
          "cpu_percent": 98.2,
          "cpu_time": 195.21,
          "name": "Runner_1",
          "real_mem": 523005952,
          "time": 1600675767.3929005
         },
         {
          "cpu_percent": 98.8,
          "cpu_time": 195.32,
          "name": "Runner_1",
          "real_mem": 523005952,
          "time": 1600675767.5046337
         },
         {
          "cpu_percent": 98.6,
          "cpu_time": 195.43,
          "name": "Runner_1",
          "real_mem": 523005952,
          "time": 1600675767.6164966
         },
         {
          "cpu_percent": 0,
          "cpu_time": 195.54,
          "name": "Runner_1",
          "real_mem": 523005952,
          "time": 1600675767.728259
         },
         {
          "cpu_percent": 98.5,
          "cpu_time": 195.66,
          "name": "Runner_1",
          "real_mem": 523005952,
          "time": 1600675767.8400862
         },
         {
          "cpu_percent": 98.6,
          "cpu_time": 195.77,
          "name": "Runner_1",
          "real_mem": 523005952,
          "time": 1600675767.9519334
         },
         {
          "cpu_percent": 98.3,
          "cpu_time": 195.88,
          "name": "Runner_1",
          "real_mem": 523005952,
          "time": 1600675768.0638697
         },
         {
          "cpu_percent": 98.5,
          "cpu_time": 195.99,
          "name": "Runner_1",
          "real_mem": 523005952,
          "time": 1600675768.1757455
         },
         {
          "cpu_percent": 0,
          "cpu_time": 196.1,
          "name": "Runner_1",
          "real_mem": 523005952,
          "time": 1600675768.287696
         },
         {
          "cpu_percent": 98.4,
          "cpu_time": 196.22,
          "name": "Runner_1",
          "real_mem": 523005952,
          "time": 1600675768.399716
         },
         {
          "cpu_percent": 98.6,
          "cpu_time": 196.33,
          "name": "Runner_1",
          "real_mem": 523005952,
          "time": 1600675768.511656
         },
         {
          "cpu_percent": 98.6,
          "cpu_time": 196.44,
          "name": "Runner_1",
          "real_mem": 523005952,
          "time": 1600675768.623412
         },
         {
          "cpu_percent": 98.6,
          "cpu_time": 196.55,
          "name": "Runner_1",
          "real_mem": 523005952,
          "time": 1600675768.735018
         },
         {
          "cpu_percent": 98.6,
          "cpu_time": 196.66,
          "name": "Runner_1",
          "real_mem": 523005952,
          "time": 1600675768.8466587
         },
         {
          "cpu_percent": 196.7,
          "cpu_time": 196.78,
          "name": "Runner_1",
          "real_mem": 523005952,
          "time": 1600675768.9583297
         },
         {
          "cpu_percent": 98.7,
          "cpu_time": 196.89,
          "name": "Runner_1",
          "real_mem": 523005952,
          "time": 1600675769.0700169
         },
         {
          "cpu_percent": 98.7,
          "cpu_time": 197,
          "name": "Runner_1",
          "real_mem": 523005952,
          "time": 1600675769.1835384
         },
         {
          "cpu_percent": 98.6,
          "cpu_time": 197.11,
          "name": "Runner_1",
          "real_mem": 523005952,
          "time": 1600675769.2950797
         },
         {
          "cpu_percent": 98.4,
          "cpu_time": 197.22,
          "name": "Runner_1",
          "real_mem": 523005952,
          "time": 1600675769.406758
         },
         {
          "cpu_percent": 197.4,
          "cpu_time": 197.34,
          "name": "Runner_1",
          "real_mem": 523005952,
          "time": 1600675769.518395
         },
         {
          "cpu_percent": 98.6,
          "cpu_time": 197.45,
          "name": "Runner_1",
          "real_mem": 523005952,
          "time": 1600675769.6300626
         },
         {
          "cpu_percent": 98.7,
          "cpu_time": 197.56,
          "name": "Runner_1",
          "real_mem": 523005952,
          "time": 1600675769.7417092
         },
         {
          "cpu_percent": 98.7,
          "cpu_time": 197.67,
          "name": "Runner_1",
          "real_mem": 523005952,
          "time": 1600675769.8532505
         },
         {
          "cpu_percent": 98.6,
          "cpu_time": 197.78,
          "name": "Runner_1",
          "real_mem": 523005952,
          "time": 1600675769.9649067
         },
         {
          "cpu_percent": 98.7,
          "cpu_time": 197.89,
          "name": "Runner_1",
          "real_mem": 523005952,
          "time": 1600675770.0764012
         },
         {
          "cpu_percent": 98.6,
          "cpu_time": 198,
          "name": "Runner_1",
          "real_mem": 523005952,
          "time": 1600675770.1880503
         },
         {
          "cpu_percent": 0,
          "cpu_time": 198.11,
          "name": "Runner_1",
          "real_mem": 523005952,
          "time": 1600675770.299745
         },
         {
          "cpu_percent": 98.7,
          "cpu_time": 198.23,
          "name": "Runner_1",
          "real_mem": 523005952,
          "time": 1600675770.411295
         },
         {
          "cpu_percent": 98.7,
          "cpu_time": 198.34,
          "name": "Runner_1",
          "real_mem": 523005952,
          "time": 1600675770.5229301
         },
         {
          "cpu_percent": 98.6,
          "cpu_time": 198.45,
          "name": "Runner_1",
          "real_mem": 523005952,
          "time": 1600675770.63445
         },
         {
          "cpu_percent": 98.4,
          "cpu_time": 198.56,
          "name": "Runner_1",
          "real_mem": 523005952,
          "time": 1600675770.7462327
         },
         {
          "cpu_percent": 98.4,
          "cpu_time": 198.67,
          "name": "Runner_1",
          "real_mem": 523005952,
          "time": 1600675770.8579469
         },
         {
          "cpu_percent": 196.9,
          "cpu_time": 198.79,
          "name": "Runner_1",
          "real_mem": 523005952,
          "time": 1600675770.9698474
         },
         {
          "cpu_percent": 98.5,
          "cpu_time": 198.9,
          "name": "Runner_1",
          "real_mem": 523005952,
          "time": 1600675771.081818
         },
         {
          "cpu_percent": 98.3,
          "cpu_time": 199.01,
          "name": "Runner_1",
          "real_mem": 523005952,
          "time": 1600675771.193849
         },
         {
          "cpu_percent": 98.3,
          "cpu_time": 199.12,
          "name": "Runner_1",
          "real_mem": 523005952,
          "time": 1600675771.3059928
         },
         {
          "cpu_percent": 98.6,
          "cpu_time": 199.23,
          "name": "Runner_1",
          "real_mem": 523005952,
          "time": 1600675771.4176972
         },
         {
          "cpu_percent": 98.5,
          "cpu_time": 199.34,
          "name": "Runner_1",
          "real_mem": 523005952,
          "time": 1600675771.5296814
         },
         {
          "cpu_percent": 197.1,
          "cpu_time": 199.46,
          "name": "Runner_1",
          "real_mem": 523005952,
          "time": 1600675771.6414516
         },
         {
          "cpu_percent": 98.6,
          "cpu_time": 199.57,
          "name": "Runner_1",
          "real_mem": 523005952,
          "time": 1600675771.7532163
         },
         {
          "cpu_percent": 98.3,
          "cpu_time": 199.68,
          "name": "Runner_1",
          "real_mem": 523005952,
          "time": 1600675771.8651142
         },
         {
          "cpu_percent": 98.3,
          "cpu_time": 199.79,
          "name": "Runner_1",
          "real_mem": 523005952,
          "time": 1600675771.9772153
         },
         {
          "cpu_percent": 98.7,
          "cpu_time": 199.9,
          "name": "Runner_1",
          "real_mem": 523005952,
          "time": 1600675772.0891678
         },
         {
          "cpu_percent": 196.6,
          "cpu_time": 200.02,
          "name": "Runner_1",
          "real_mem": 523005952,
          "time": 1600675772.2011673
         },
         {
          "cpu_percent": 98.4,
          "cpu_time": 200.13,
          "name": "Runner_1",
          "real_mem": 523005952,
          "time": 1600675772.3131151
         },
         {
          "cpu_percent": 98.5,
          "cpu_time": 200.24,
          "name": "Runner_1",
          "real_mem": 523005952,
          "time": 1600675772.4248967
         },
         {
          "cpu_percent": 98.5,
          "cpu_time": 200.35,
          "name": "Runner_1",
          "real_mem": 523005952,
          "time": 1600675772.5366352
         },
         {
          "cpu_percent": 98.4,
          "cpu_time": 200.46,
          "name": "Runner_1",
          "real_mem": 523005952,
          "time": 1600675772.648272
         },
         {
          "cpu_percent": 98.5,
          "cpu_time": 200.57,
          "name": "Runner_1",
          "real_mem": 523005952,
          "time": 1600675772.7600904
         },
         {
          "cpu_percent": 98.4,
          "cpu_time": 200.68,
          "name": "Runner_1",
          "real_mem": 523005952,
          "time": 1600675772.8717651
         },
         {
          "cpu_percent": 0,
          "cpu_time": 200.79,
          "name": "Runner_1",
          "real_mem": 523005952,
          "time": 1600675772.9834616
         },
         {
          "cpu_percent": 98.4,
          "cpu_time": 200.91,
          "name": "Runner_1",
          "real_mem": 523005952,
          "time": 1600675773.0953496
         },
         {
          "cpu_percent": 98.5,
          "cpu_time": 201.02,
          "name": "Runner_1",
          "real_mem": 523005952,
          "time": 1600675773.2070875
         },
         {
          "cpu_percent": 98.5,
          "cpu_time": 201.13,
          "name": "Runner_1",
          "real_mem": 523005952,
          "time": 1600675773.31875
         },
         {
          "cpu_percent": 98.6,
          "cpu_time": 201.24,
          "name": "Runner_1",
          "real_mem": 523005952,
          "time": 1600675773.430371
         },
         {
          "cpu_percent": 98.5,
          "cpu_time": 201.35,
          "name": "Runner_1",
          "real_mem": 523005952,
          "time": 1600675773.542058
         },
         {
          "cpu_percent": 197.2,
          "cpu_time": 201.47,
          "name": "Runner_1",
          "real_mem": 523005952,
          "time": 1600675773.6538393
         },
         {
          "cpu_percent": 98.6,
          "cpu_time": 201.58,
          "name": "Runner_1",
          "real_mem": 523005952,
          "time": 1600675773.7655964
         },
         {
          "cpu_percent": 98.8,
          "cpu_time": 201.69,
          "name": "Runner_1",
          "real_mem": 523005952,
          "time": 1600675773.8771622
         },
         {
          "cpu_percent": 98.4,
          "cpu_time": 201.8,
          "name": "Runner_1",
          "real_mem": 523005952,
          "time": 1600675773.9887285
         },
         {
          "cpu_percent": 98.7,
          "cpu_time": 201.91,
          "name": "Runner_1",
          "real_mem": 523005952,
          "time": 1600675774.1003122
         },
         {
          "cpu_percent": 98.6,
          "cpu_time": 202.02,
          "name": "Runner_1",
          "real_mem": 523005952,
          "time": 1600675774.2120223
         },
         {
          "cpu_percent": 98.7,
          "cpu_time": 202.13,
          "name": "Runner_1",
          "real_mem": 523005952,
          "time": 1600675774.323845
         },
         {
          "cpu_percent": 98.8,
          "cpu_time": 202.77,
          "name": "Runner_1",
          "real_mem": 523005952,
          "time": 1600675774.435403
         },
         {
          "cpu_percent": 2763.4,
          "cpu_time": 205.25,
          "name": "Runner_1",
          "real_mem": 523005952,
          "time": 1600675774.5470307
         },
         {
          "cpu_percent": 98.6,
          "cpu_time": 206.29,
          "name": "Runner_1",
          "real_mem": 523005952,
          "time": 1600675774.6586757
         },
         {
          "cpu_percent": 197.4,
          "cpu_time": 206.41,
          "name": "Runner_1",
          "real_mem": 523005952,
          "time": 1600675774.7703133
         },
         {
          "cpu_percent": 98.6,
          "cpu_time": 206.52,
          "name": "Runner_1",
          "real_mem": 523005952,
          "time": 1600675774.8818483
         },
         {
          "cpu_percent": 98.8,
          "cpu_time": 206.63,
          "name": "Runner_1",
          "real_mem": 523005952,
          "time": 1600675774.9933913
         },
         {
          "cpu_percent": 98.5,
          "cpu_time": 206.74,
          "name": "Runner_1",
          "real_mem": 523005952,
          "time": 1600675775.1050298
         },
         {
          "cpu_percent": 98.7,
          "cpu_time": 206.85,
          "name": "Runner_1",
          "real_mem": 523005952,
          "time": 1600675775.216575
         },
         {
          "cpu_percent": 98.8,
          "cpu_time": 206.96,
          "name": "Runner_1",
          "real_mem": 523005952,
          "time": 1600675775.3280976
         },
         {
          "cpu_percent": 98.4,
          "cpu_time": 207.07,
          "name": "Runner_1",
          "real_mem": 523005952,
          "time": 1600675775.439653
         },
         {
          "cpu_percent": 98.8,
          "cpu_time": 207.18,
          "name": "Runner_1",
          "real_mem": 523005952,
          "time": 1600675775.5510533
         },
         {
          "cpu_percent": 197.1,
          "cpu_time": 207.3,
          "name": "Runner_1",
          "real_mem": 523005952,
          "time": 1600675775.662625
         },
         {
          "cpu_percent": 98.6,
          "cpu_time": 207.41,
          "name": "Runner_1",
          "real_mem": 523005952,
          "time": 1600675775.7744248
         },
         {
          "cpu_percent": 98.7,
          "cpu_time": 207.52,
          "name": "Runner_1",
          "real_mem": 523005952,
          "time": 1600675775.8859944
         },
         {
          "cpu_percent": 98.6,
          "cpu_time": 207.63,
          "name": "Runner_1",
          "real_mem": 523005952,
          "time": 1600675775.997572
         },
         {
          "cpu_percent": 98.9,
          "cpu_time": 207.74,
          "name": "Runner_1",
          "real_mem": 523005952,
          "time": 1600675776.1090457
         },
         {
          "cpu_percent": 98.7,
          "cpu_time": 207.86,
          "name": "Runner_1",
          "real_mem": 523005952,
          "time": 1600675776.2206292
         },
         {
          "cpu_percent": 98.6,
          "cpu_time": 207.97,
          "name": "Runner_1",
          "real_mem": 523005952,
          "time": 1600675776.3322885
         },
         {
          "cpu_percent": 98.6,
          "cpu_time": 208.08,
          "name": "Runner_1",
          "real_mem": 523005952,
          "time": 1600675776.443872
         },
         {
          "cpu_percent": 98.6,
          "cpu_time": 208.19,
          "name": "Runner_1",
          "real_mem": 523005952,
          "time": 1600675776.5554562
         },
         {
          "cpu_percent": 0,
          "cpu_time": 208.3,
          "name": "Runner_1",
          "real_mem": 523005952,
          "time": 1600675776.6678548
         },
         {
          "cpu_percent": 0,
          "cpu_time": 208.41,
          "name": "Runner_1",
          "real_mem": 523005952,
          "time": 1600675776.7793362
         },
         {
          "cpu_percent": 98.8,
          "cpu_time": 208.52,
          "name": "Runner_1",
          "real_mem": 523005952,
          "time": 1600675776.8908453
         },
         {
          "cpu_percent": 98.3,
          "cpu_time": 208.63,
          "name": "Runner_1",
          "real_mem": 523005952,
          "time": 1600675777.0028088
         },
         {
          "cpu_percent": 196.6,
          "cpu_time": 208.75,
          "name": "Runner_1",
          "real_mem": 523005952,
          "time": 1600675777.114958
         },
         {
          "cpu_percent": 98.4,
          "cpu_time": 208.86,
          "name": "Runner_1",
          "real_mem": 523005952,
          "time": 1600675777.2268188
         },
         {
          "cpu_percent": 98.3,
          "cpu_time": 208.97,
          "name": "Runner_1",
          "real_mem": 523005952,
          "time": 1600675777.3387942
         },
         {
          "cpu_percent": 98.6,
          "cpu_time": 209.08,
          "name": "Runner_1",
          "real_mem": 523005952,
          "time": 1600675777.4506555
         },
         {
          "cpu_percent": 98.6,
          "cpu_time": 209.19,
          "name": "Runner_1",
          "real_mem": 523005952,
          "time": 1600675777.5622656
         },
         {
          "cpu_percent": 98.4,
          "cpu_time": 209.3,
          "name": "Runner_1",
          "real_mem": 523005952,
          "time": 1600675777.6740127
         },
         {
          "cpu_percent": 197.5,
          "cpu_time": 209.42,
          "name": "Runner_1",
          "real_mem": 523005952,
          "time": 1600675777.7855458
         },
         {
          "cpu_percent": 98.8,
          "cpu_time": 209.53,
          "name": "Runner_1",
          "real_mem": 523005952,
          "time": 1600675777.897111
         },
         {
          "cpu_percent": 98.5,
          "cpu_time": 209.64,
          "name": "Runner_1",
          "real_mem": 523005952,
          "time": 1600675778.0086799
         },
         {
          "cpu_percent": 98.5,
          "cpu_time": 209.75,
          "name": "Runner_1",
          "real_mem": 523005952,
          "time": 1600675778.1204064
         },
         {
          "cpu_percent": 98.3,
          "cpu_time": 209.86,
          "name": "Runner_1",
          "real_mem": 523005952,
          "time": 1600675778.2321038
         },
         {
          "cpu_percent": 98.6,
          "cpu_time": 209.97,
          "name": "Runner_1",
          "real_mem": 523005952,
          "time": 1600675778.3438022
         },
         {
          "cpu_percent": 0,
          "cpu_time": 210.08,
          "name": "Runner_1",
          "real_mem": 523005952,
          "time": 1600675778.455506
         },
         {
          "cpu_percent": 0,
          "cpu_time": 210.19,
          "name": "Runner_1",
          "real_mem": 523005952,
          "time": 1600675778.5676725
         },
         {
          "cpu_percent": 98.6,
          "cpu_time": 210.31,
          "name": "Runner_1",
          "real_mem": 523005952,
          "time": 1600675778.6793528
         },
         {
          "cpu_percent": 98.7,
          "cpu_time": 210.42,
          "name": "Runner_1",
          "real_mem": 523005952,
          "time": 1600675778.790979
         },
         {
          "cpu_percent": 98.6,
          "cpu_time": 210.53,
          "name": "Runner_1",
          "real_mem": 523005952,
          "time": 1600675778.9025555
         },
         {
          "cpu_percent": 98.6,
          "cpu_time": 210.64,
          "name": "Runner_1",
          "real_mem": 523005952,
          "time": 1600675779.0141633
         },
         {
          "cpu_percent": 98.4,
          "cpu_time": 210.75,
          "name": "Runner_1",
          "real_mem": 523005952,
          "time": 1600675779.1258235
         },
         {
          "cpu_percent": 197.4,
          "cpu_time": 210.87,
          "name": "Runner_1",
          "real_mem": 523005952,
          "time": 1600675779.237417
         },
         {
          "cpu_percent": 99.1,
          "cpu_time": 210.98,
          "name": "Runner_1",
          "real_mem": 523005952,
          "time": 1600675779.349112
         },
         {
          "cpu_percent": 97.9,
          "cpu_time": 211.09,
          "name": "Runner_1",
          "real_mem": 523005952,
          "time": 1600675779.460859
         },
         {
          "cpu_percent": 98.4,
          "cpu_time": 211.2,
          "name": "Runner_1",
          "real_mem": 523005952,
          "time": 1600675779.572666
         },
         {
          "cpu_percent": 98.3,
          "cpu_time": 211.31,
          "name": "Runner_1",
          "real_mem": 523005952,
          "time": 1600675779.6845
         },
         {
          "cpu_percent": 98.6,
          "cpu_time": 211.42,
          "name": "Runner_1",
          "real_mem": 523005952,
          "time": 1600675779.796208
         },
         {
          "cpu_percent": 98.6,
          "cpu_time": 211.53,
          "name": "Runner_1",
          "real_mem": 523005952,
          "time": 1600675779.9079351
         },
         {
          "cpu_percent": 0,
          "cpu_time": 211.64,
          "name": "Runner_1",
          "real_mem": 523005952,
          "time": 1600675780.0195758
         },
         {
          "cpu_percent": 197.1,
          "cpu_time": 211.76,
          "name": "Runner_1",
          "real_mem": 523005952,
          "time": 1600675780.131184
         },
         {
          "cpu_percent": 196.8,
          "cpu_time": 211.87,
          "name": "Runner_1",
          "real_mem": 523005952,
          "time": 1600675780.242821
         },
         {
          "cpu_percent": 98.5,
          "cpu_time": 211.98,
          "name": "Runner_1",
          "real_mem": 523005952,
          "time": 1600675780.3545413
         },
         {
          "cpu_percent": 98.7,
          "cpu_time": 212.09,
          "name": "Runner_1",
          "real_mem": 523005952,
          "time": 1600675780.4661493
         },
         {
          "cpu_percent": 98.5,
          "cpu_time": 212.2,
          "name": "Runner_1",
          "real_mem": 523005952,
          "time": 1600675780.5777998
         },
         {
          "cpu_percent": 98.6,
          "cpu_time": 212.31,
          "name": "Runner_1",
          "real_mem": 523005952,
          "time": 1600675780.6893768
         },
         {
          "cpu_percent": 197.3,
          "cpu_time": 212.43,
          "name": "Runner_1",
          "real_mem": 523005952,
          "time": 1600675780.8009996
         },
         {
          "cpu_percent": 0,
          "cpu_time": 212.53,
          "name": "Runner_1",
          "real_mem": 523005952,
          "time": 1600675780.9125626
         },
         {
          "cpu_percent": 98.6,
          "cpu_time": 212.65,
          "name": "Runner_1",
          "real_mem": 523005952,
          "time": 1600675781.0242755
         },
         {
          "cpu_percent": 98.6,
          "cpu_time": 212.76,
          "name": "Runner_1",
          "real_mem": 523005952,
          "time": 1600675781.135842
         },
         {
          "cpu_percent": 98.7,
          "cpu_time": 212.87,
          "name": "Runner_1",
          "real_mem": 523005952,
          "time": 1600675781.2474058
         },
         {
          "cpu_percent": 98.6,
          "cpu_time": 212.98,
          "name": "Runner_1",
          "real_mem": 523005952,
          "time": 1600675781.359079
         },
         {
          "cpu_percent": 98.7,
          "cpu_time": 213.09,
          "name": "Runner_1",
          "real_mem": 523005952,
          "time": 1600675781.4705431
         },
         {
          "cpu_percent": 98.8,
          "cpu_time": 213.2,
          "name": "Runner_1",
          "real_mem": 523005952,
          "time": 1600675781.5820432
         },
         {
          "cpu_percent": 197.2,
          "cpu_time": 213.32,
          "name": "Runner_1",
          "real_mem": 523005952,
          "time": 1600675781.6936646
         },
         {
          "cpu_percent": 98.7,
          "cpu_time": 213.43,
          "name": "Runner_1",
          "real_mem": 523005952,
          "time": 1600675781.8052447
         },
         {
          "cpu_percent": 98.7,
          "cpu_time": 213.54,
          "name": "Runner_1",
          "real_mem": 523005952,
          "time": 1600675781.9169242
         },
         {
          "cpu_percent": 98.5,
          "cpu_time": 213.65,
          "name": "Runner_1",
          "real_mem": 523005952,
          "time": 1600675782.0285504
         },
         {
          "cpu_percent": 98.6,
          "cpu_time": 213.76,
          "name": "Runner_1",
          "real_mem": 523005952,
          "time": 1600675782.1401534
         },
         {
          "cpu_percent": 98.4,
          "cpu_time": 213.87,
          "name": "Runner_1",
          "real_mem": 523005952,
          "time": 1600675782.251802
         },
         {
          "cpu_percent": 98.5,
          "cpu_time": 213.98,
          "name": "Runner_1",
          "real_mem": 523005952,
          "time": 1600675782.3635318
         },
         {
          "cpu_percent": 98.6,
          "cpu_time": 214.09,
          "name": "Runner_1",
          "real_mem": 523005952,
          "time": 1600675782.4751751
         },
         {
          "cpu_percent": 197.6,
          "cpu_time": 214.21,
          "name": "Runner_1",
          "real_mem": 523005952,
          "time": 1600675782.5866797
         },
         {
          "cpu_percent": 98.7,
          "cpu_time": 214.32,
          "name": "Runner_1",
          "real_mem": 523005952,
          "time": 1600675782.6982887
         },
         {
          "cpu_percent": 98.7,
          "cpu_time": 214.43,
          "name": "Runner_1",
          "real_mem": 523005952,
          "time": 1600675782.8099098
         },
         {
          "cpu_percent": 98.6,
          "cpu_time": 214.54,
          "name": "Runner_1",
          "real_mem": 523005952,
          "time": 1600675782.921619
         },
         {
          "cpu_percent": 98.8,
          "cpu_time": 214.65,
          "name": "Runner_1",
          "real_mem": 523005952,
          "time": 1600675783.033187
         },
         {
          "cpu_percent": 98.5,
          "cpu_time": 214.77,
          "name": "Runner_1",
          "real_mem": 523005952,
          "time": 1600675783.145017
         },
         {
          "cpu_percent": 98.5,
          "cpu_time": 214.88,
          "name": "Runner_1",
          "real_mem": 523005952,
          "time": 1600675783.2569587
         },
         {
          "cpu_percent": 0,
          "cpu_time": 214.98,
          "name": "Runner_1",
          "real_mem": 523005952,
          "time": 1600675783.368688
         },
         {
          "cpu_percent": 98.4,
          "cpu_time": 215.1,
          "name": "Runner_1",
          "real_mem": 523005952,
          "time": 1600675783.4807653
         },
         {
          "cpu_percent": 98.5,
          "cpu_time": 215.21,
          "name": "Runner_1",
          "real_mem": 523005952,
          "time": 1600675783.5926507
         },
         {
          "cpu_percent": 98.6,
          "cpu_time": 215.32,
          "name": "Runner_1",
          "real_mem": 523005952,
          "time": 1600675783.7044106
         },
         {
          "cpu_percent": 98.6,
          "cpu_time": 215.43,
          "name": "Runner_1",
          "real_mem": 523005952,
          "time": 1600675783.816228
         },
         {
          "cpu_percent": 0,
          "cpu_time": 215.54,
          "name": "Runner_1",
          "real_mem": 523005952,
          "time": 1600675783.9279277
         },
         {
          "cpu_percent": 98.6,
          "cpu_time": 215.66,
          "name": "Runner_1",
          "real_mem": 523005952,
          "time": 1600675784.0397334
         },
         {
          "cpu_percent": 98.5,
          "cpu_time": 215.77,
          "name": "Runner_1",
          "real_mem": 523005952,
          "time": 1600675784.151647
         },
         {
          "cpu_percent": 98.6,
          "cpu_time": 215.88,
          "name": "Runner_1",
          "real_mem": 523005952,
          "time": 1600675784.2635093
         },
         {
          "cpu_percent": 98.6,
          "cpu_time": 215.99,
          "name": "Runner_1",
          "real_mem": 523005952,
          "time": 1600675784.375322
         },
         {
          "cpu_percent": 98.7,
          "cpu_time": 216.1,
          "name": "Runner_1",
          "real_mem": 523005952,
          "time": 1600675784.4870408
         },
         {
          "cpu_percent": 98.6,
          "cpu_time": 216.21,
          "name": "Runner_1",
          "real_mem": 523005952,
          "time": 1600675784.5986662
         },
         {
          "cpu_percent": 197.6,
          "cpu_time": 216.33,
          "name": "Runner_1",
          "real_mem": 523005952,
          "time": 1600675784.7102587
         },
         {
          "cpu_percent": 98.8,
          "cpu_time": 216.44,
          "name": "Runner_1",
          "real_mem": 523005952,
          "time": 1600675784.8218744
         },
         {
          "cpu_percent": 98.7,
          "cpu_time": 216.55,
          "name": "Runner_1",
          "real_mem": 523005952,
          "time": 1600675784.933598
         },
         {
          "cpu_percent": 98.8,
          "cpu_time": 216.66,
          "name": "Runner_1",
          "real_mem": 523005952,
          "time": 1600675785.0452855
         },
         {
          "cpu_percent": 98.6,
          "cpu_time": 216.77,
          "name": "Runner_1",
          "real_mem": 523005952,
          "time": 1600675785.1569853
         },
         {
          "cpu_percent": 98.7,
          "cpu_time": 216.88,
          "name": "Runner_1",
          "real_mem": 523005952,
          "time": 1600675785.2688324
         },
         {
          "cpu_percent": 98.5,
          "cpu_time": 216.99,
          "name": "Runner_1",
          "real_mem": 523005952,
          "time": 1600675785.3807795
         },
         {
          "cpu_percent": 0,
          "cpu_time": 217.1,
          "name": "Runner_1",
          "real_mem": 523005952,
          "time": 1600675785.492282
         },
         {
          "cpu_percent": 98.6,
          "cpu_time": 217.22,
          "name": "Runner_1",
          "real_mem": 523005952,
          "time": 1600675785.6037343
         },
         {
          "cpu_percent": 98.7,
          "cpu_time": 217.33,
          "name": "Runner_1",
          "real_mem": 523005952,
          "time": 1600675785.7152464
         },
         {
          "cpu_percent": 98.7,
          "cpu_time": 217.44,
          "name": "Runner_1",
          "real_mem": 523005952,
          "time": 1600675785.8268425
         },
         {
          "cpu_percent": 98.8,
          "cpu_time": 217.55,
          "name": "Runner_1",
          "real_mem": 523005952,
          "time": 1600675785.93846
         },
         {
          "cpu_percent": 98.7,
          "cpu_time": 217.66,
          "name": "Runner_1",
          "real_mem": 523005952,
          "time": 1600675786.0501845
         },
         {
          "cpu_percent": 98.1,
          "cpu_time": 217.77,
          "name": "Runner_1",
          "real_mem": 523005952,
          "time": 1600675786.1618598
         },
         {
          "cpu_percent": 197.4,
          "cpu_time": 217.89,
          "name": "Runner_1",
          "real_mem": 523005952,
          "time": 1600675786.2734857
         },
         {
          "cpu_percent": 98.5,
          "cpu_time": 218,
          "name": "Runner_1",
          "real_mem": 523005952,
          "time": 1600675786.3850262
         },
         {
          "cpu_percent": 0,
          "cpu_time": 218.1,
          "name": "Runner_1",
          "real_mem": 523005952,
          "time": 1600675786.496766
         },
         {
          "cpu_percent": 98.6,
          "cpu_time": 218.22,
          "name": "Runner_1",
          "real_mem": 523005952,
          "time": 1600675786.6083052
         },
         {
          "cpu_percent": 98.7,
          "cpu_time": 218.33,
          "name": "Runner_1",
          "real_mem": 523005952,
          "time": 1600675786.7198725
         },
         {
          "cpu_percent": 98.2,
          "cpu_time": 218.44,
          "name": "Runner_1",
          "real_mem": 523005952,
          "time": 1600675786.8315723
         },
         {
          "cpu_percent": 2464.4,
          "cpu_time": 219.69,
          "name": "Runner_1",
          "real_mem": 523005952,
          "time": 1600675786.9433963
         },
         {
          "cpu_percent": 1569.8,
          "cpu_time": 222.46,
          "name": "Runner_1",
          "real_mem": 523005952,
          "time": 1600675787.0557938
         },
         {
          "cpu_percent": 98.6,
          "cpu_time": 222.95,
          "name": "Runner_1",
          "real_mem": 523005952,
          "time": 1600675787.1676364
         },
         {
          "cpu_percent": 0,
          "cpu_time": 223.06,
          "name": "Runner_1",
          "real_mem": 523005952,
          "time": 1600675787.279596
         },
         {
          "cpu_percent": 98.7,
          "cpu_time": 223.18,
          "name": "Runner_1",
          "real_mem": 523005952,
          "time": 1600675787.3912263
         },
         {
          "cpu_percent": 98.3,
          "cpu_time": 223.29,
          "name": "Runner_1",
          "real_mem": 523005952,
          "time": 1600675787.5032423
         },
         {
          "cpu_percent": 98.7,
          "cpu_time": 223.4,
          "name": "Runner_1",
          "real_mem": 523005952,
          "time": 1600675787.6150255
         },
         {
          "cpu_percent": 98.4,
          "cpu_time": 223.51,
          "name": "Runner_1",
          "real_mem": 523005952,
          "time": 1600675787.7269502
         },
         {
          "cpu_percent": 98.6,
          "cpu_time": 223.62,
          "name": "Runner_1",
          "real_mem": 523005952,
          "time": 1600675787.8386903
         },
         {
          "cpu_percent": 197.3,
          "cpu_time": 223.74,
          "name": "Runner_1",
          "real_mem": 523005952,
          "time": 1600675787.9504695
         },
         {
          "cpu_percent": 98.8,
          "cpu_time": 223.85,
          "name": "Runner_1",
          "real_mem": 523005952,
          "time": 1600675788.0621588
         },
         {
          "cpu_percent": 98.4,
          "cpu_time": 223.96,
          "name": "Runner_1",
          "real_mem": 523005952,
          "time": 1600675788.174202
         },
         {
          "cpu_percent": 98.6,
          "cpu_time": 224.07,
          "name": "Runner_1",
          "real_mem": 523005952,
          "time": 1600675788.2861187
         },
         {
          "cpu_percent": 98.7,
          "cpu_time": 224.18,
          "name": "Runner_1",
          "real_mem": 523005952,
          "time": 1600675788.3978822
         },
         {
          "cpu_percent": 98.6,
          "cpu_time": 224.29,
          "name": "Runner_1",
          "real_mem": 523005952,
          "time": 1600675788.509641
         },
         {
          "cpu_percent": 197.4,
          "cpu_time": 224.41,
          "name": "Runner_1",
          "real_mem": 523005952,
          "time": 1600675788.621311
         },
         {
          "cpu_percent": 98.7,
          "cpu_time": 224.52,
          "name": "Runner_1",
          "real_mem": 523005952,
          "time": 1600675788.7329826
         },
         {
          "cpu_percent": 98.6,
          "cpu_time": 224.63,
          "name": "Runner_1",
          "real_mem": 523005952,
          "time": 1600675788.8447018
         },
         {
          "cpu_percent": 98.6,
          "cpu_time": 224.74,
          "name": "Runner_1",
          "real_mem": 523005952,
          "time": 1600675788.9565294
         },
         {
          "cpu_percent": 98.7,
          "cpu_time": 224.85,
          "name": "Runner_1",
          "real_mem": 523005952,
          "time": 1600675789.068184
         },
         {
          "cpu_percent": 98.5,
          "cpu_time": 224.96,
          "name": "Runner_1",
          "real_mem": 523005952,
          "time": 1600675789.1800177
         },
         {
          "cpu_percent": 0,
          "cpu_time": 225.07,
          "name": "Runner_1",
          "real_mem": 523005952,
          "time": 1600675789.2916844
         },
         {
          "cpu_percent": 98.6,
          "cpu_time": 225.19,
          "name": "Runner_1",
          "real_mem": 523005952,
          "time": 1600675789.4035234
         },
         {
          "cpu_percent": 98.6,
          "cpu_time": 225.3,
          "name": "Runner_1",
          "real_mem": 523005952,
          "time": 1600675789.5152962
         },
         {
          "cpu_percent": 98.6,
          "cpu_time": 225.41,
          "name": "Runner_1",
          "real_mem": 523005952,
          "time": 1600675789.62718
         },
         {
          "cpu_percent": 98.8,
          "cpu_time": 225.52,
          "name": "Runner_1",
          "real_mem": 523005952,
          "time": 1600675789.7389107
         },
         {
          "cpu_percent": 98.7,
          "cpu_time": 225.63,
          "name": "Runner_1",
          "real_mem": 523005952,
          "time": 1600675789.8505967
         },
         {
          "cpu_percent": 197.1,
          "cpu_time": 225.75,
          "name": "Runner_1",
          "real_mem": 523005952,
          "time": 1600675789.962449
         },
         {
          "cpu_percent": 98.8,
          "cpu_time": 225.86,
          "name": "Runner_1",
          "real_mem": 523005952,
          "time": 1600675790.074145
         },
         {
          "cpu_percent": 98.7,
          "cpu_time": 225.97,
          "name": "Runner_1",
          "real_mem": 523005952,
          "time": 1600675790.1858838
         },
         {
          "cpu_percent": 98.5,
          "cpu_time": 226.08,
          "name": "Runner_1",
          "real_mem": 523005952,
          "time": 1600675790.2976136
         },
         {
          "cpu_percent": 98.6,
          "cpu_time": 226.19,
          "name": "Runner_1",
          "real_mem": 523005952,
          "time": 1600675790.4094732
         },
         {
          "cpu_percent": 197.2,
          "cpu_time": 226.31,
          "name": "Runner_1",
          "real_mem": 523005952,
          "time": 1600675790.5213401
         },
         {
          "cpu_percent": 98.8,
          "cpu_time": 226.42,
          "name": "Runner_1",
          "real_mem": 523005952,
          "time": 1600675790.633082
         },
         {
          "cpu_percent": 98.2,
          "cpu_time": 226.53,
          "name": "Runner_1",
          "real_mem": 523005952,
          "time": 1600675790.7451344
         },
         {
          "cpu_percent": 98.9,
          "cpu_time": 226.64,
          "name": "Runner_1",
          "real_mem": 523005952,
          "time": 1600675790.8568668
         },
         {
          "cpu_percent": 98.2,
          "cpu_time": 226.75,
          "name": "Runner_1",
          "real_mem": 523005952,
          "time": 1600675790.9687707
         },
         {
          "cpu_percent": 98.4,
          "cpu_time": 226.86,
          "name": "Runner_1",
          "real_mem": 523005952,
          "time": 1600675791.0807102
         },
         {
          "cpu_percent": 0,
          "cpu_time": 226.97,
          "name": "Runner_1",
          "real_mem": 523005952,
          "time": 1600675791.192437
         },
         {
          "cpu_percent": 98.7,
          "cpu_time": 227.09,
          "name": "Runner_1",
          "real_mem": 523005952,
          "time": 1600675791.3040986
         },
         {
          "cpu_percent": 98.6,
          "cpu_time": 227.2,
          "name": "Runner_1",
          "real_mem": 523005952,
          "time": 1600675791.4160779
         },
         {
          "cpu_percent": 98.2,
          "cpu_time": 227.31,
          "name": "Runner_1",
          "real_mem": 523005952,
          "time": 1600675791.5277681
         },
         {
          "cpu_percent": 98.8,
          "cpu_time": 227.42,
          "name": "Runner_1",
          "real_mem": 523005952,
          "time": 1600675791.6392329
         },
         {
          "cpu_percent": 98.6,
          "cpu_time": 227.53,
          "name": "Runner_1",
          "real_mem": 523005952,
          "time": 1600675791.7509177
         },
         {
          "cpu_percent": 197.9,
          "cpu_time": 227.65,
          "name": "Runner_1",
          "real_mem": 523005952,
          "time": 1600675791.8622708
         },
         {
          "cpu_percent": 98.7,
          "cpu_time": 227.76,
          "name": "Runner_1",
          "real_mem": 523005952,
          "time": 1600675791.9737592
         },
         {
          "cpu_percent": 98.6,
          "cpu_time": 227.87,
          "name": "Runner_1",
          "real_mem": 523005952,
          "time": 1600675792.0853798
         },
         {
          "cpu_percent": 98.8,
          "cpu_time": 227.98,
          "name": "Runner_1",
          "real_mem": 523005952,
          "time": 1600675792.1968508
         },
         {
          "cpu_percent": 98.7,
          "cpu_time": 228.09,
          "name": "Runner_1",
          "real_mem": 523005952,
          "time": 1600675792.3083758
         },
         {
          "cpu_percent": 98.6,
          "cpu_time": 228.2,
          "name": "Runner_1",
          "real_mem": 523005952,
          "time": 1600675792.4198394
         },
         {
          "cpu_percent": 0,
          "cpu_time": 228.31,
          "name": "Runner_1",
          "real_mem": 523005952,
          "time": 1600675792.5315015
         },
         {
          "cpu_percent": 197.2,
          "cpu_time": 228.43,
          "name": "Runner_1",
          "real_mem": 523005952,
          "time": 1600675792.6431785
         },
         {
          "cpu_percent": 98.4,
          "cpu_time": 228.54,
          "name": "Runner_1",
          "real_mem": 523005952,
          "time": 1600675792.7547963
         },
         {
          "cpu_percent": 98.7,
          "cpu_time": 228.65,
          "name": "Runner_1",
          "real_mem": 523005952,
          "time": 1600675792.8662715
         },
         {
          "cpu_percent": 98.9,
          "cpu_time": 228.76,
          "name": "Runner_1",
          "real_mem": 523005952,
          "time": 1600675792.9776428
         },
         {
          "cpu_percent": 98.8,
          "cpu_time": 228.87,
          "name": "Runner_1",
          "real_mem": 523005952,
          "time": 1600675793.0891545
         },
         {
          "cpu_percent": 98.6,
          "cpu_time": 228.98,
          "name": "Runner_1",
          "real_mem": 523005952,
          "time": 1600675793.2006364
         },
         {
          "cpu_percent": 0,
          "cpu_time": 229.09,
          "name": "Runner_1",
          "real_mem": 523005952,
          "time": 1600675793.3121781
         },
         {
          "cpu_percent": 0,
          "cpu_time": 229.2,
          "name": "Runner_1",
          "real_mem": 523005952,
          "time": 1600675793.4236639
         },
         {
          "cpu_percent": 98.6,
          "cpu_time": 229.32,
          "name": "Runner_1",
          "real_mem": 523005952,
          "time": 1600675793.535275
         },
         {
          "cpu_percent": 98.7,
          "cpu_time": 229.43,
          "name": "Runner_1",
          "real_mem": 523005952,
          "time": 1600675793.6469195
         },
         {
          "cpu_percent": 98.7,
          "cpu_time": 229.54,
          "name": "Runner_1",
          "real_mem": 523005952,
          "time": 1600675793.7585244
         },
         {
          "cpu_percent": 98.7,
          "cpu_time": 229.65,
          "name": "Runner_1",
          "real_mem": 523005952,
          "time": 1600675793.8700674
         },
         {
          "cpu_percent": 98.8,
          "cpu_time": 229.76,
          "name": "Runner_1",
          "real_mem": 523005952,
          "time": 1600675793.9815145
         },
         {
          "cpu_percent": 198.6,
          "cpu_time": 229.88,
          "name": "Runner_1",
          "real_mem": 523005952,
          "time": 1600675794.093027
         },
         {
          "cpu_percent": 0,
          "cpu_time": 229.98,
          "name": "Runner_1",
          "real_mem": 523005952,
          "time": 1600675794.2044325
         },
         {
          "cpu_percent": 98.7,
          "cpu_time": 230.1,
          "name": "Runner_1",
          "real_mem": 523005952,
          "time": 1600675794.315882
         },
         {
          "cpu_percent": 98.7,
          "cpu_time": 230.21,
          "name": "Runner_1",
          "real_mem": 523005952,
          "time": 1600675794.4274037
         },
         {
          "cpu_percent": 98.7,
          "cpu_time": 230.32,
          "name": "Runner_1",
          "real_mem": 523005952,
          "time": 1600675794.5389614
         },
         {
          "cpu_percent": 98.6,
          "cpu_time": 230.43,
          "name": "Runner_1",
          "real_mem": 523005952,
          "time": 1600675794.650704
         },
         {
          "cpu_percent": 98.7,
          "cpu_time": 230.54,
          "name": "Runner_1",
          "real_mem": 523005952,
          "time": 1600675794.7623475
         },
         {
          "cpu_percent": 197.2,
          "cpu_time": 230.66,
          "name": "Runner_1",
          "real_mem": 523005952,
          "time": 1600675794.8740764
         },
         {
          "cpu_percent": 98.7,
          "cpu_time": 230.77,
          "name": "Runner_1",
          "real_mem": 523005952,
          "time": 1600675794.9855232
         },
         {
          "cpu_percent": 98.8,
          "cpu_time": 230.88,
          "name": "Runner_1",
          "real_mem": 523005952,
          "time": 1600675795.0969775
         },
         {
          "cpu_percent": 98.6,
          "cpu_time": 230.99,
          "name": "Runner_1",
          "real_mem": 523005952,
          "time": 1600675795.208425
         },
         {
          "cpu_percent": 98.7,
          "cpu_time": 231.1,
          "name": "Runner_1",
          "real_mem": 523005952,
          "time": 1600675795.319999
         },
         {
          "cpu_percent": 98.5,
          "cpu_time": 231.21,
          "name": "Runner_1",
          "real_mem": 523005952,
          "time": 1600675795.4316497
         },
         {
          "cpu_percent": 0,
          "cpu_time": 231.32,
          "name": "Runner_1",
          "real_mem": 523005952,
          "time": 1600675795.5432913
         },
         {
          "cpu_percent": 197.6,
          "cpu_time": 231.44,
          "name": "Runner_1",
          "real_mem": 523005952,
          "time": 1600675795.6548154
         },
         {
          "cpu_percent": 98.7,
          "cpu_time": 231.55,
          "name": "Runner_1",
          "real_mem": 523005952,
          "time": 1600675795.7663906
         },
         {
          "cpu_percent": 98.6,
          "cpu_time": 231.66,
          "name": "Runner_1",
          "real_mem": 523005952,
          "time": 1600675795.8779702
         },
         {
          "cpu_percent": 98.8,
          "cpu_time": 231.77,
          "name": "Runner_1",
          "real_mem": 523005952,
          "time": 1600675795.9895074
         },
         {
          "cpu_percent": 98.6,
          "cpu_time": 231.88,
          "name": "Runner_1",
          "real_mem": 523005952,
          "time": 1600675796.1010575
         },
         {
          "cpu_percent": 98.8,
          "cpu_time": 231.99,
          "name": "Runner_1",
          "real_mem": 523005952,
          "time": 1600675796.212544
         },
         {
          "cpu_percent": 0,
          "cpu_time": 232.1,
          "name": "Runner_1",
          "real_mem": 523005952,
          "time": 1600675796.324081
         },
         {
          "cpu_percent": 98.6,
          "cpu_time": 232.22,
          "name": "Runner_1",
          "real_mem": 523005952,
          "time": 1600675796.4355552
         },
         {
          "cpu_percent": 98.7,
          "cpu_time": 232.33,
          "name": "Runner_1",
          "real_mem": 523005952,
          "time": 1600675796.5470576
         },
         {
          "cpu_percent": 98.7,
          "cpu_time": 232.44,
          "name": "Runner_1",
          "real_mem": 523005952,
          "time": 1600675796.6586175
         },
         {
          "cpu_percent": 197.4,
          "cpu_time": 232.56,
          "name": "Runner_1",
          "real_mem": 523005952,
          "time": 1600675796.7735841
         },
         {
          "cpu_percent": 99,
          "cpu_time": 232.67,
          "name": "Runner_1",
          "real_mem": 523005952,
          "time": 1600675796.8852093
         },
         {
          "cpu_percent": 98.6,
          "cpu_time": 232.78,
          "name": "Runner_1",
          "real_mem": 523005952,
          "time": 1600675796.9967911
         },
         {
          "cpu_percent": 98.4,
          "cpu_time": 232.89,
          "name": "Runner_1",
          "real_mem": 523005952,
          "time": 1600675797.1084666
         },
         {
          "cpu_percent": 98.7,
          "cpu_time": 233,
          "name": "Runner_1",
          "real_mem": 523005952,
          "time": 1600675797.2200558
         },
         {
          "cpu_percent": 98.2,
          "cpu_time": 233.11,
          "name": "Runner_1",
          "real_mem": 523005952,
          "time": 1600675797.3322072
         },
         {
          "cpu_percent": 0,
          "cpu_time": 233.23,
          "name": "Runner_1",
          "real_mem": 523005952,
          "time": 1600675797.44499
         },
         {
          "cpu_percent": 98.3,
          "cpu_time": 233.34,
          "name": "Runner_1",
          "real_mem": 523005952,
          "time": 1600675797.5575867
         },
         {
          "cpu_percent": 98.3,
          "cpu_time": 233.45,
          "name": "Runner_1",
          "real_mem": 523005952,
          "time": 1600675797.669811
         },
         {
          "cpu_percent": 98.4,
          "cpu_time": 233.56,
          "name": "Runner_1",
          "real_mem": 523005952,
          "time": 1600675797.7819676
         },
         {
          "cpu_percent": 98.3,
          "cpu_time": 233.67,
          "name": "Runner_1",
          "real_mem": 523005952,
          "time": 1600675797.8941867
         },
         {
          "cpu_percent": 98.4,
          "cpu_time": 233.78,
          "name": "Runner_1",
          "real_mem": 523005952,
          "time": 1600675798.0063977
         },
         {
          "cpu_percent": 196.7,
          "cpu_time": 233.9,
          "name": "Runner_1",
          "real_mem": 523005952,
          "time": 1600675798.1185527
         },
         {
          "cpu_percent": 98.2,
          "cpu_time": 234.01,
          "name": "Runner_1",
          "real_mem": 523005952,
          "time": 1600675798.2308028
         },
         {
          "cpu_percent": 98.3,
          "cpu_time": 234.12,
          "name": "Runner_1",
          "real_mem": 523005952,
          "time": 1600675798.342904
         },
         {
          "cpu_percent": 98.5,
          "cpu_time": 234.23,
          "name": "Runner_1",
          "real_mem": 523005952,
          "time": 1600675798.4545302
         },
         {
          "cpu_percent": 98.7,
          "cpu_time": 234.34,
          "name": "Runner_1",
          "real_mem": 523005952,
          "time": 1600675798.5661983
         },
         {
          "cpu_percent": 196.7,
          "cpu_time": 234.46,
          "name": "Runner_1",
          "real_mem": 523005952,
          "time": 1600675798.6778128
         },
         {
          "cpu_percent": 98.6,
          "cpu_time": 234.57,
          "name": "Runner_1",
          "real_mem": 523005952,
          "time": 1600675798.7893474
         },
         {
          "cpu_percent": 98.6,
          "cpu_time": 234.68,
          "name": "Runner_1",
          "real_mem": 523005952,
          "time": 1600675798.9009027
         },
         {
          "cpu_percent": 98.7,
          "cpu_time": 234.79,
          "name": "Runner_1",
          "real_mem": 523005952,
          "time": 1600675799.0124395
         },
         {
          "cpu_percent": 98.8,
          "cpu_time": 234.9,
          "name": "Runner_1",
          "real_mem": 523005952,
          "time": 1600675799.1239817
         },
         {
          "cpu_percent": 98.4,
          "cpu_time": 235.01,
          "name": "Runner_1",
          "real_mem": 523005952,
          "time": 1600675799.2357912
         },
         {
          "cpu_percent": 0,
          "cpu_time": 235.12,
          "name": "Runner_1",
          "real_mem": 523005952,
          "time": 1600675799.347596
         },
         {
          "cpu_percent": 2267.4,
          "cpu_time": 235.55,
          "name": "Runner_1",
          "real_mem": 523005952,
          "time": 1600675799.4597712
         },
         {
          "cpu_percent": 1974,
          "cpu_time": 237.89,
          "name": "Runner_1",
          "real_mem": 523005952,
          "time": 1600675799.5713933
         },
         {
          "cpu_percent": 3457.9,
          "cpu_time": 240.96,
          "name": "Runner_1",
          "real_mem": 523005952,
          "time": 1600675799.6830034
         },
         {
          "cpu_percent": 98.9,
          "cpu_time": 243.88,
          "name": "Runner_1",
          "real_mem": 523005952,
          "time": 1600675799.7943718
         },
         {
          "cpu_percent": 98.7,
          "cpu_time": 244,
          "name": "Runner_1",
          "real_mem": 467738624,
          "time": 1600675799.9059446
         },
         {
          "cpu_percent": 98.8,
          "cpu_time": 244.11,
          "name": "Runner_1",
          "real_mem": 467738624,
          "time": 1600675800.017651
         },
         {
          "cpu_percent": 98.5,
          "cpu_time": 244.22,
          "name": "Runner_1",
          "real_mem": 467738624,
          "time": 1600675800.129373
         },
         {
          "cpu_percent": 98.6,
          "cpu_time": 244.33,
          "name": "Runner_1",
          "real_mem": 467738624,
          "time": 1600675800.2412004
         },
         {
          "cpu_percent": 98.4,
          "cpu_time": 244.44,
          "name": "Runner_1",
          "real_mem": 467738624,
          "time": 1600675800.3530533
         },
         {
          "cpu_percent": 98.4,
          "cpu_time": 244.56,
          "name": "Runner_1",
          "real_mem": 467738624,
          "time": 1600675800.465047
         },
         {
          "cpu_percent": 98.3,
          "cpu_time": 244.67,
          "name": "Runner_1",
          "real_mem": 467738624,
          "time": 1600675800.5770764
         },
         {
          "cpu_percent": 98.2,
          "cpu_time": 244.78,
          "name": "Runner_1",
          "real_mem": 467738624,
          "time": 1600675800.6890504
         },
         {
          "cpu_percent": 98.3,
          "cpu_time": 244.89,
          "name": "Runner_1",
          "real_mem": 467738624,
          "time": 1600675800.8007624
         },
         {
          "cpu_percent": 98.5,
          "cpu_time": 245,
          "name": "Runner_1",
          "real_mem": 467738624,
          "time": 1600675800.9125962
         },
         {
          "cpu_percent": 98.6,
          "cpu_time": 245.11,
          "name": "Runner_1",
          "real_mem": 467738624,
          "time": 1600675801.024133
         },
         {
          "cpu_percent": 0,
          "cpu_time": 245.22,
          "name": "Runner_1",
          "real_mem": 467738624,
          "time": 1600675801.1359975
         },
         {
          "cpu_percent": 98.7,
          "cpu_time": 245.34,
          "name": "Runner_1",
          "real_mem": 467738624,
          "time": 1600675801.2475924
         },
         {
          "cpu_percent": 98.3,
          "cpu_time": 245.45,
          "name": "Runner_1",
          "real_mem": 467738624,
          "time": 1600675801.3592548
         },
         {
          "cpu_percent": 98.6,
          "cpu_time": 245.56,
          "name": "Runner_1",
          "real_mem": 467738624,
          "time": 1600675801.470916
         },
         {
          "cpu_percent": 98.6,
          "cpu_time": 245.67,
          "name": "Runner_1",
          "real_mem": 467738624,
          "time": 1600675801.5825999
         },
         {
          "cpu_percent": 98.6,
          "cpu_time": 245.78,
          "name": "Runner_1",
          "real_mem": 467738624,
          "time": 1600675801.6942687
         },
         {
          "cpu_percent": 197.3,
          "cpu_time": 245.9,
          "name": "Runner_1",
          "real_mem": 467738624,
          "time": 1600675801.805871
         },
         {
          "cpu_percent": 98.7,
          "cpu_time": 246.01,
          "name": "Runner_1",
          "real_mem": 467738624,
          "time": 1600675801.9175274
         },
         {
          "cpu_percent": 98.8,
          "cpu_time": 246.12,
          "name": "Runner_1",
          "real_mem": 467738624,
          "time": 1600675802.028995
         },
         {
          "cpu_percent": 98.6,
          "cpu_time": 246.23,
          "name": "Runner_1",
          "real_mem": 467738624,
          "time": 1600675802.1406908
         },
         {
          "cpu_percent": 98.6,
          "cpu_time": 246.34,
          "name": "Runner_1",
          "real_mem": 467738624,
          "time": 1600675802.2524183
         },
         {
          "cpu_percent": 98.6,
          "cpu_time": 246.45,
          "name": "Runner_1",
          "real_mem": 467738624,
          "time": 1600675802.3640215
         },
         {
          "cpu_percent": 0,
          "cpu_time": 246.56,
          "name": "Runner_1",
          "real_mem": 467738624,
          "time": 1600675802.4756608
         },
         {
          "cpu_percent": 98.7,
          "cpu_time": 246.68,
          "name": "Runner_1",
          "real_mem": 467738624,
          "time": 1600675802.5873442
         },
         {
          "cpu_percent": 98.3,
          "cpu_time": 246.79,
          "name": "Runner_1",
          "real_mem": 467738624,
          "time": 1600675802.6993003
         },
         {
          "cpu_percent": 98.7,
          "cpu_time": 246.9,
          "name": "Runner_1",
          "real_mem": 467738624,
          "time": 1600675802.8108907
         },
         {
          "cpu_percent": 98.7,
          "cpu_time": 247.01,
          "name": "Runner_1",
          "real_mem": 467738624,
          "time": 1600675802.9223478
         },
         {
          "cpu_percent": 98.6,
          "cpu_time": 247.12,
          "name": "Runner_1",
          "real_mem": 467738624,
          "time": 1600675803.0340545
         },
         {
          "cpu_percent": 196.7,
          "cpu_time": 247.24,
          "name": "Runner_1",
          "real_mem": 467738624,
          "time": 1600675803.1457763
         },
         {
          "cpu_percent": 98.7,
          "cpu_time": 247.35,
          "name": "Runner_1",
          "real_mem": 467738624,
          "time": 1600675803.2572734
         },
         {
          "cpu_percent": 98.1,
          "cpu_time": 247.46,
          "name": "Runner_1",
          "real_mem": 467738624,
          "time": 1600675803.3688822
         },
         {
          "cpu_percent": 98.6,
          "cpu_time": 247.57,
          "name": "Runner_1",
          "real_mem": 467738624,
          "time": 1600675803.4805408
         },
         {
          "cpu_percent": 98.6,
          "cpu_time": 247.68,
          "name": "Runner_1",
          "real_mem": 467738624,
          "time": 1600675803.5921996
         },
         {
          "cpu_percent": 98.4,
          "cpu_time": 247.79,
          "name": "Runner_1",
          "real_mem": 467738624,
          "time": 1600675803.703798
         },
         {
          "cpu_percent": 0,
          "cpu_time": 247.9,
          "name": "Runner_1",
          "real_mem": 467738624,
          "time": 1600675803.815304
         },
         {
          "cpu_percent": 197.5,
          "cpu_time": 248.02,
          "name": "Runner_1",
          "real_mem": 467738624,
          "time": 1600675803.926834
         },
         {
          "cpu_percent": 98.8,
          "cpu_time": 248.13,
          "name": "Runner_1",
          "real_mem": 467738624,
          "time": 1600675804.03828
         },
         {
          "cpu_percent": 98.4,
          "cpu_time": 248.24,
          "name": "Runner_1",
          "real_mem": 467738624,
          "time": 1600675804.1498187
         },
         {
          "cpu_percent": 98.8,
          "cpu_time": 248.35,
          "name": "Runner_1",
          "real_mem": 467738624,
          "time": 1600675804.2614613
         },
         {
          "cpu_percent": 98.7,
          "cpu_time": 248.46,
          "name": "Runner_1",
          "real_mem": 467738624,
          "time": 1600675804.3729613
         },
         {
          "cpu_percent": 98.6,
          "cpu_time": 248.57,
          "name": "Runner_1",
          "real_mem": 467738624,
          "time": 1600675804.4845743
         },
         {
          "cpu_percent": 0,
          "cpu_time": 248.68,
          "name": "Runner_1",
          "real_mem": 467738624,
          "time": 1600675804.5961738
         },
         {
          "cpu_percent": 98.6,
          "cpu_time": 248.8,
          "name": "Runner_1",
          "real_mem": 467738624,
          "time": 1600675804.7080553
         },
         {
          "cpu_percent": 98.7,
          "cpu_time": 248.91,
          "name": "Runner_1",
          "real_mem": 467738624,
          "time": 1600675804.819698
         },
         {
          "cpu_percent": 98.7,
          "cpu_time": 249.02,
          "name": "Runner_1",
          "real_mem": 467738624,
          "time": 1600675804.9312465
         },
         {
          "cpu_percent": 98.2,
          "cpu_time": 249.13,
          "name": "Runner_1",
          "real_mem": 467738624,
          "time": 1600675805.0427904
         },
         {
          "cpu_percent": 98.6,
          "cpu_time": 249.24,
          "name": "Runner_1",
          "real_mem": 467738624,
          "time": 1600675805.1544466
         },
         {
          "cpu_percent": 197.4,
          "cpu_time": 249.36,
          "name": "Runner_1",
          "real_mem": 467738624,
          "time": 1600675805.2659926
         },
         {
          "cpu_percent": 98.7,
          "cpu_time": 249.47,
          "name": "Runner_1",
          "real_mem": 467738624,
          "time": 1600675805.3776128
         },
         {
          "cpu_percent": 98.9,
          "cpu_time": 249.58,
          "name": "Runner_1",
          "real_mem": 467738624,
          "time": 1600675805.4891148
         },
         {
          "cpu_percent": 98.6,
          "cpu_time": 249.69,
          "name": "Runner_1",
          "real_mem": 467738624,
          "time": 1600675805.6006482
         },
         {
          "cpu_percent": 98.6,
          "cpu_time": 249.8,
          "name": "Runner_1",
          "real_mem": 467738624,
          "time": 1600675805.7124908
         },
         {
          "cpu_percent": 98.7,
          "cpu_time": 249.91,
          "name": "Runner_1",
          "real_mem": 467738624,
          "time": 1600675805.824077
         },
         {
          "cpu_percent": 0,
          "cpu_time": 250.02,
          "name": "Runner_1",
          "real_mem": 467738624,
          "time": 1600675805.9355361
         },
         {
          "cpu_percent": 98.5,
          "cpu_time": 250.14,
          "name": "Runner_1",
          "real_mem": 467738624,
          "time": 1600675806.0474107
         },
         {
          "cpu_percent": 98.7,
          "cpu_time": 250.25,
          "name": "Runner_1",
          "real_mem": 467738624,
          "time": 1600675806.1589196
         },
         {
          "cpu_percent": 98.7,
          "cpu_time": 250.36,
          "name": "Runner_1",
          "real_mem": 467738624,
          "time": 1600675806.2705486
         },
         {
          "cpu_percent": 98.5,
          "cpu_time": 250.47,
          "name": "Runner_1",
          "real_mem": 467738624,
          "time": 1600675806.3821914
         },
         {
          "cpu_percent": 98.7,
          "cpu_time": 250.58,
          "name": "Runner_1",
          "real_mem": 467738624,
          "time": 1600675806.4938498
         },
         {
          "cpu_percent": 197.5,
          "cpu_time": 250.7,
          "name": "Runner_1",
          "real_mem": 467738624,
          "time": 1600675806.605433
         },
         {
          "cpu_percent": 98.8,
          "cpu_time": 250.81,
          "name": "Runner_1",
          "real_mem": 467738624,
          "time": 1600675806.7171764
         },
         {
          "cpu_percent": 98.7,
          "cpu_time": 250.92,
          "name": "Runner_1",
          "real_mem": 467738624,
          "time": 1600675806.8285623
         },
         {
          "cpu_percent": 98.6,
          "cpu_time": 251.03,
          "name": "Runner_1",
          "real_mem": 467738624,
          "time": 1600675806.9401703
         },
         {
          "cpu_percent": 98.6,
          "cpu_time": 251.14,
          "name": "Runner_1",
          "real_mem": 467738624,
          "time": 1600675807.0517175
         },
         {
          "cpu_percent": 98.5,
          "cpu_time": 251.25,
          "name": "Runner_1",
          "real_mem": 467738624,
          "time": 1600675807.1632116
         },
         {
          "cpu_percent": 98.6,
          "cpu_time": 251.36,
          "name": "Runner_1",
          "real_mem": 467738624,
          "time": 1600675807.2748837
         },
         {
          "cpu_percent": 197.8,
          "cpu_time": 251.48,
          "name": "Runner_1",
          "real_mem": 467738624,
          "time": 1600675807.3863168
         },
         {
          "cpu_percent": 98.8,
          "cpu_time": 251.59,
          "name": "Runner_1",
          "real_mem": 467738624,
          "time": 1600675807.4978442
         },
         {
          "cpu_percent": 98.6,
          "cpu_time": 251.7,
          "name": "Runner_1",
          "real_mem": 467738624,
          "time": 1600675807.6095097
         },
         {
          "cpu_percent": 99,
          "cpu_time": 251.81,
          "name": "Runner_1",
          "real_mem": 467738624,
          "time": 1600675807.721139
         },
         {
          "cpu_percent": 98.7,
          "cpu_time": 251.92,
          "name": "Runner_1",
          "real_mem": 467738624,
          "time": 1600675807.832739
         },
         {
          "cpu_percent": 98.3,
          "cpu_time": 252.03,
          "name": "Runner_1",
          "real_mem": 467738624,
          "time": 1600675807.9444675
         },
         {
          "cpu_percent": 0,
          "cpu_time": 252.14,
          "name": "Runner_1",
          "real_mem": 467738624,
          "time": 1600675808.0560687
         },
         {
          "cpu_percent": 98.6,
          "cpu_time": 252.26,
          "name": "Runner_1",
          "real_mem": 467738624,
          "time": 1600675808.1676457
         },
         {
          "cpu_percent": 197.4,
          "cpu_time": 252.37,
          "name": "Runner_1",
          "real_mem": 467738624,
          "time": 1600675808.279112
         },
         {
          "cpu_percent": 98.6,
          "cpu_time": 252.48,
          "name": "Runner_1",
          "real_mem": 467738624,
          "time": 1600675808.3906915
         },
         {
          "cpu_percent": 98.8,
          "cpu_time": 252.59,
          "name": "Runner_1",
          "real_mem": 467738624,
          "time": 1600675808.502169
         },
         {
          "cpu_percent": 98.7,
          "cpu_time": 252.7,
          "name": "Runner_1",
          "real_mem": 467738624,
          "time": 1600675808.6139333
         },
         {
          "cpu_percent": 98.4,
          "cpu_time": 252.81,
          "name": "Runner_1",
          "real_mem": 467738624,
          "time": 1600675808.725677
         },
         {
          "cpu_percent": 197.4,
          "cpu_time": 252.93,
          "name": "Runner_1",
          "real_mem": 467738624,
          "time": 1600675808.8372617
         },
         {
          "cpu_percent": 98.7,
          "cpu_time": 253.04,
          "name": "Runner_1",
          "real_mem": 467738624,
          "time": 1600675808.9489937
         },
         {
          "cpu_percent": 98.6,
          "cpu_time": 253.15,
          "name": "Runner_1",
          "real_mem": 467738624,
          "time": 1600675809.0607834
         },
         {
          "cpu_percent": 98.6,
          "cpu_time": 253.26,
          "name": "Runner_1",
          "real_mem": 467738624,
          "time": 1600675809.1725333
         },
         {
          "cpu_percent": 98.7,
          "cpu_time": 253.37,
          "name": "Runner_1",
          "real_mem": 467738624,
          "time": 1600675809.284142
         },
         {
          "cpu_percent": 98.6,
          "cpu_time": 253.48,
          "name": "Runner_1",
          "real_mem": 467738624,
          "time": 1600675809.3957958
         },
         {
          "cpu_percent": 0,
          "cpu_time": 253.59,
          "name": "Runner_1",
          "real_mem": 467738624,
          "time": 1600675809.507409
         },
         {
          "cpu_percent": 197.2,
          "cpu_time": 253.71,
          "name": "Runner_1",
          "real_mem": 467738624,
          "time": 1600675809.619011
         },
         {
          "cpu_percent": 98.5,
          "cpu_time": 253.82,
          "name": "Runner_1",
          "real_mem": 467738624,
          "time": 1600675809.7308087
         },
         {
          "cpu_percent": 98.5,
          "cpu_time": 253.93,
          "name": "Runner_1",
          "real_mem": 467738624,
          "time": 1600675809.8426893
         },
         {
          "cpu_percent": 98.7,
          "cpu_time": 254.04,
          "name": "Runner_1",
          "real_mem": 467738624,
          "time": 1600675809.954312
         },
         {
          "cpu_percent": 98.4,
          "cpu_time": 254.15,
          "name": "Runner_1",
          "real_mem": 467738624,
          "time": 1600675810.065733
         },
         {
          "cpu_percent": 197.5,
          "cpu_time": 254.27,
          "name": "Runner_1",
          "real_mem": 467738624,
          "time": 1600675810.1772797
         },
         {
          "cpu_percent": 0,
          "cpu_time": 254.38,
          "name": "Runner_1",
          "real_mem": 467738624,
          "time": 1600675810.2889879
         },
         {
          "cpu_percent": 98.7,
          "cpu_time": 254.49,
          "name": "Runner_1",
          "real_mem": 467738624,
          "time": 1600675810.4005837
         },
         {
          "cpu_percent": 98.6,
          "cpu_time": 254.6,
          "name": "Runner_1",
          "real_mem": 467738624,
          "time": 1600675810.5122209
         },
         {
          "cpu_percent": 98.8,
          "cpu_time": 254.71,
          "name": "Runner_1",
          "real_mem": 467738624,
          "time": 1600675810.623755
         },
         {
          "cpu_percent": 98.6,
          "cpu_time": 254.82,
          "name": "Runner_1",
          "real_mem": 467738624,
          "time": 1600675810.735459
         },
         {
          "cpu_percent": 98.7,
          "cpu_time": 254.93,
          "name": "Runner_1",
          "real_mem": 467738624,
          "time": 1600675810.8471332
         },
         {
          "cpu_percent": 197.3,
          "cpu_time": 255.05,
          "name": "Runner_1",
          "real_mem": 467738624,
          "time": 1600675810.9586098
         },
         {
          "cpu_percent": 98.7,
          "cpu_time": 255.16,
          "name": "Runner_1",
          "real_mem": 467738624,
          "time": 1600675811.0701044
         },
         {
          "cpu_percent": 98.6,
          "cpu_time": 255.27,
          "name": "Runner_1",
          "real_mem": 467738624,
          "time": 1600675811.1816998
         },
         {
          "cpu_percent": 98.5,
          "cpu_time": 255.38,
          "name": "Runner_1",
          "real_mem": 467738624,
          "time": 1600675811.2935727
         },
         {
          "cpu_percent": 98.5,
          "cpu_time": 255.49,
          "name": "Runner_1",
          "real_mem": 467738624,
          "time": 1600675811.4054935
         },
         {
          "cpu_percent": 197.6,
          "cpu_time": 255.61,
          "name": "Runner_1",
          "real_mem": 467738624,
          "time": 1600675811.5171485
         },
         {
          "cpu_percent": 0,
          "cpu_time": 255.71,
          "name": "Runner_1",
          "real_mem": 467738624,
          "time": 1600675811.6287653
         },
         {
          "cpu_percent": 98.7,
          "cpu_time": 255.83,
          "name": "Runner_1",
          "real_mem": 467738624,
          "time": 1600675811.7404006
         },
         {
          "cpu_percent": 98.6,
          "cpu_time": 255.94,
          "name": "Runner_1",
          "real_mem": 467738624,
          "time": 1600675811.852008
         },
         {
          "cpu_percent": 3053.6,
          "cpu_time": 256.58,
          "name": "Runner_1",
          "real_mem": 500715520,
          "time": 1600675811.969148
         },
         {
          "cpu_percent": 2466,
          "cpu_time": 258.86,
          "name": "Runner_1",
          "real_mem": 500715520,
          "time": 1600675812.0809355
         },
         {
          "cpu_percent": 2855.2,
          "cpu_time": 261.88,
          "name": "Runner_1",
          "real_mem": 500715520,
          "time": 1600675812.1928086
         },
         {
          "cpu_percent": 98.5,
          "cpu_time": 262.75,
          "name": "Runner_1",
          "real_mem": 500715520,
          "time": 1600675812.3046017
         },
         {
          "cpu_percent": 98.5,
          "cpu_time": 262.86,
          "name": "Runner_1",
          "real_mem": 500715520,
          "time": 1600675812.4162836
         },
         {
          "cpu_percent": 98.6,
          "cpu_time": 262.97,
          "name": "Runner_1",
          "real_mem": 500715520,
          "time": 1600675812.5280025
         },
         {
          "cpu_percent": 98.4,
          "cpu_time": 263.08,
          "name": "Runner_1",
          "real_mem": 500715520,
          "time": 1600675812.6398132
         },
         {
          "cpu_percent": 0,
          "cpu_time": 263.19,
          "name": "Runner_1",
          "real_mem": 500715520,
          "time": 1600675812.751483
         },
         {
          "cpu_percent": 197.3,
          "cpu_time": 263.31,
          "name": "Runner_1",
          "real_mem": 500715520,
          "time": 1600675812.8631368
         },
         {
          "cpu_percent": 98.6,
          "cpu_time": 263.42,
          "name": "Runner_1",
          "real_mem": 500715520,
          "time": 1600675812.9746869
         },
         {
          "cpu_percent": 98.6,
          "cpu_time": 263.53,
          "name": "Runner_1",
          "real_mem": 500715520,
          "time": 1600675813.0863266
         },
         {
          "cpu_percent": 98.7,
          "cpu_time": 263.64,
          "name": "Runner_1",
          "real_mem": 500715520,
          "time": 1600675813.1979544
         },
         {
          "cpu_percent": 98.7,
          "cpu_time": 263.75,
          "name": "Runner_1",
          "real_mem": 500715520,
          "time": 1600675813.309585
         },
         {
          "cpu_percent": 197.3,
          "cpu_time": 263.87,
          "name": "Runner_1",
          "real_mem": 500715520,
          "time": 1600675813.4213283
         },
         {
          "cpu_percent": 97.5,
          "cpu_time": 263.98,
          "name": "Runner_1",
          "real_mem": 500715520,
          "time": 1600675813.5369754
         },
         {
          "cpu_percent": 98.6,
          "cpu_time": 264.09,
          "name": "Runner_1",
          "real_mem": 500715520,
          "time": 1600675813.6486638
         },
         {
          "cpu_percent": 98.5,
          "cpu_time": 264.2,
          "name": "Runner_1",
          "real_mem": 500715520,
          "time": 1600675813.7604628
         },
         {
          "cpu_percent": 0,
          "cpu_time": 264.31,
          "name": "Runner_1",
          "real_mem": 500715520,
          "time": 1600675813.872357
         },
         {
          "cpu_percent": 98.3,
          "cpu_time": 264.43,
          "name": "Runner_1",
          "real_mem": 500715520,
          "time": 1600675813.9843252
         },
         {
          "cpu_percent": 98.4,
          "cpu_time": 264.54,
          "name": "Runner_1",
          "real_mem": 500715520,
          "time": 1600675814.0965042
         },
         {
          "cpu_percent": 98,
          "cpu_time": 264.65,
          "name": "Runner_1",
          "real_mem": 500715520,
          "time": 1600675814.2086387
         },
         {
          "cpu_percent": 98.3,
          "cpu_time": 264.76,
          "name": "Runner_1",
          "real_mem": 500715520,
          "time": 1600675814.320665
         },
         {
          "cpu_percent": 0,
          "cpu_time": 264.87,
          "name": "Runner_1",
          "real_mem": 500715520,
          "time": 1600675814.4325867
         },
         {
          "cpu_percent": 98.3,
          "cpu_time": 264.99,
          "name": "Runner_1",
          "real_mem": 500715520,
          "time": 1600675814.5446277
         },
         {
          "cpu_percent": 98.4,
          "cpu_time": 265.1,
          "name": "Runner_1",
          "real_mem": 500715520,
          "time": 1600675814.6564739
         },
         {
          "cpu_percent": 98.6,
          "cpu_time": 265.21,
          "name": "Runner_1",
          "real_mem": 500715520,
          "time": 1600675814.7679842
         },
         {
          "cpu_percent": 98,
          "cpu_time": 265.32,
          "name": "Runner_1",
          "real_mem": 500715520,
          "time": 1600675814.8799772
         },
         {
          "cpu_percent": 0,
          "cpu_time": 265.43,
          "name": "Runner_1",
          "real_mem": 500715520,
          "time": 1600675814.9917958
         },
         {
          "cpu_percent": 98.7,
          "cpu_time": 265.55,
          "name": "Runner_1",
          "real_mem": 500715520,
          "time": 1600675815.1035068
         },
         {
          "cpu_percent": 98,
          "cpu_time": 265.66,
          "name": "Runner_1",
          "real_mem": 500715520,
          "time": 1600675815.215552
         },
         {
          "cpu_percent": 98.5,
          "cpu_time": 265.77,
          "name": "Runner_1",
          "real_mem": 500715520,
          "time": 1600675815.3273304
         },
         {
          "cpu_percent": 98.4,
          "cpu_time": 265.88,
          "name": "Runner_1",
          "real_mem": 500715520,
          "time": 1600675815.4390411
         },
         {
          "cpu_percent": 0,
          "cpu_time": 265.99,
          "name": "Runner_1",
          "real_mem": 500715520,
          "time": 1600675815.5526164
         },
         {
          "cpu_percent": 98.4,
          "cpu_time": 266.11,
          "name": "Runner_1",
          "real_mem": 500715520,
          "time": 1600675815.6645026
         },
         {
          "cpu_percent": 98,
          "cpu_time": 266.22,
          "name": "Runner_1",
          "real_mem": 500715520,
          "time": 1600675815.7766101
         },
         {
          "cpu_percent": 98.3,
          "cpu_time": 266.33,
          "name": "Runner_1",
          "real_mem": 500715520,
          "time": 1600675815.888735
         },
         {
          "cpu_percent": 98.6,
          "cpu_time": 266.44,
          "name": "Runner_1",
          "real_mem": 500715520,
          "time": 1600675816.0004957
         },
         {
          "cpu_percent": 0,
          "cpu_time": 266.55,
          "name": "Runner_1",
          "real_mem": 500715520,
          "time": 1600675816.1122262
         },
         {
          "cpu_percent": 98.5,
          "cpu_time": 266.67,
          "name": "Runner_1",
          "real_mem": 500715520,
          "time": 1600675816.223976
         },
         {
          "cpu_percent": 98.6,
          "cpu_time": 266.78,
          "name": "Runner_1",
          "real_mem": 500715520,
          "time": 1600675816.3357303
         },
         {
          "cpu_percent": 98.4,
          "cpu_time": 266.89,
          "name": "Runner_1",
          "real_mem": 500715520,
          "time": 1600675816.4475803
         },
         {
          "cpu_percent": 98.4,
          "cpu_time": 267,
          "name": "Runner_1",
          "real_mem": 500715520,
          "time": 1600675816.5594728
         },
         {
          "cpu_percent": 98.6,
          "cpu_time": 267.11,
          "name": "Runner_1",
          "real_mem": 500715520,
          "time": 1600675816.6710346
         },
         {
          "cpu_percent": 196.9,
          "cpu_time": 267.23,
          "name": "Runner_1",
          "real_mem": 500715520,
          "time": 1600675816.7829328
         },
         {
          "cpu_percent": 98.7,
          "cpu_time": 267.34,
          "name": "Runner_1",
          "real_mem": 500715520,
          "time": 1600675816.8947196
         },
         {
          "cpu_percent": 98.1,
          "cpu_time": 267.45,
          "name": "Runner_1",
          "real_mem": 500715520,
          "time": 1600675817.006829
         },
         {
          "cpu_percent": 98.6,
          "cpu_time": 267.56,
          "name": "Runner_1",
          "real_mem": 500715520,
          "time": 1600675817.11868
         },
         {
          "cpu_percent": 98.4,
          "cpu_time": 267.67,
          "name": "Runner_1",
          "real_mem": 500715520,
          "time": 1600675817.2304194
         },
         {
          "cpu_percent": 196.8,
          "cpu_time": 267.79,
          "name": "Runner_1",
          "real_mem": 500715520,
          "time": 1600675817.34231
         },
         {
          "cpu_percent": 98.4,
          "cpu_time": 267.9,
          "name": "Runner_1",
          "real_mem": 500715520,
          "time": 1600675817.4543111
         },
         {
          "cpu_percent": 98.6,
          "cpu_time": 268.01,
          "name": "Runner_1",
          "real_mem": 500715520,
          "time": 1600675817.5692902
         },
         {
          "cpu_percent": 98.5,
          "cpu_time": 268.12,
          "name": "Runner_1",
          "real_mem": 500715520,
          "time": 1600675817.6809404
         },
         {
          "cpu_percent": 98.5,
          "cpu_time": 268.23,
          "name": "Runner_1",
          "real_mem": 500715520,
          "time": 1600675817.7926183
         },
         {
          "cpu_percent": 0,
          "cpu_time": 268.34,
          "name": "Runner_1",
          "real_mem": 500715520,
          "time": 1600675817.9042232
         },
         {
          "cpu_percent": 98.6,
          "cpu_time": 268.46,
          "name": "Runner_1",
          "real_mem": 500715520,
          "time": 1600675818.0158725
         },
         {
          "cpu_percent": 98.6,
          "cpu_time": 268.57,
          "name": "Runner_1",
          "real_mem": 500715520,
          "time": 1600675818.127619
         },
         {
          "cpu_percent": 98.5,
          "cpu_time": 268.68,
          "name": "Runner_1",
          "real_mem": 500715520,
          "time": 1600675818.2393305
         },
         {
          "cpu_percent": 98.4,
          "cpu_time": 268.79,
          "name": "Runner_1",
          "real_mem": 500715520,
          "time": 1600675818.3510537
         },
         {
          "cpu_percent": 98.6,
          "cpu_time": 268.9,
          "name": "Runner_1",
          "real_mem": 500715520,
          "time": 1600675818.4627848
         },
         {
          "cpu_percent": 197.3,
          "cpu_time": 269.02,
          "name": "Runner_1",
          "real_mem": 500715520,
          "time": 1600675818.5743818
         },
         {
          "cpu_percent": 98.6,
          "cpu_time": 269.13,
          "name": "Runner_1",
          "real_mem": 500715520,
          "time": 1600675818.6861424
         },
         {
          "cpu_percent": 98.4,
          "cpu_time": 269.24,
          "name": "Runner_1",
          "real_mem": 500715520,
          "time": 1600675818.797909
         },
         {
          "cpu_percent": 98.6,
          "cpu_time": 269.35,
          "name": "Runner_1",
          "real_mem": 500715520,
          "time": 1600675818.9105093
         },
         {
          "cpu_percent": 98.6,
          "cpu_time": 269.46,
          "name": "Runner_1",
          "real_mem": 500715520,
          "time": 1600675819.0224452
         },
         {
          "cpu_percent": 197.1,
          "cpu_time": 269.58,
          "name": "Runner_1",
          "real_mem": 500715520,
          "time": 1600675819.134331
         },
         {
          "cpu_percent": 98.5,
          "cpu_time": 269.69,
          "name": "Runner_1",
          "real_mem": 500715520,
          "time": 1600675819.2462938
         },
         {
          "cpu_percent": 98.5,
          "cpu_time": 269.8,
          "name": "Runner_1",
          "real_mem": 500715520,
          "time": 1600675819.3582532
         },
         {
          "cpu_percent": 98.5,
          "cpu_time": 269.91,
          "name": "Runner_1",
          "real_mem": 500715520,
          "time": 1600675819.4702003
         },
         {
          "cpu_percent": 0,
          "cpu_time": 270.02,
          "name": "Runner_1",
          "real_mem": 500715520,
          "time": 1600675819.584573
         },
         {
          "cpu_percent": 98.5,
          "cpu_time": 270.14,
          "name": "Runner_1",
          "real_mem": 500715520,
          "time": 1600675819.6965113
         },
         {
          "cpu_percent": 98.6,
          "cpu_time": 270.25,
          "name": "Runner_1",
          "real_mem": 500715520,
          "time": 1600675819.8082714
         },
         {
          "cpu_percent": 98.6,
          "cpu_time": 270.36,
          "name": "Runner_1",
          "real_mem": 500715520,
          "time": 1600675819.9200525
         },
         {
          "cpu_percent": 98.8,
          "cpu_time": 270.47,
          "name": "Runner_1",
          "real_mem": 500715520,
          "time": 1600675820.0317755
         },
         {
          "cpu_percent": 0,
          "cpu_time": 270.58,
          "name": "Runner_1",
          "real_mem": 500715520,
          "time": 1600675820.1434608
         },
         {
          "cpu_percent": 197.1,
          "cpu_time": 270.7,
          "name": "Runner_1",
          "real_mem": 500715520,
          "time": 1600675820.2551496
         },
         {
          "cpu_percent": 98.7,
          "cpu_time": 270.81,
          "name": "Runner_1",
          "real_mem": 500715520,
          "time": 1600675820.3666904
         },
         {
          "cpu_percent": 98.6,
          "cpu_time": 270.92,
          "name": "Runner_1",
          "real_mem": 500715520,
          "time": 1600675820.4782429
         },
         {
          "cpu_percent": 98.7,
          "cpu_time": 271.03,
          "name": "Runner_1",
          "real_mem": 500715520,
          "time": 1600675820.5898728
         },
         {
          "cpu_percent": 98.2,
          "cpu_time": 271.14,
          "name": "Runner_1",
          "real_mem": 500715520,
          "time": 1600675820.702019
         },
         {
          "cpu_percent": 196.8,
          "cpu_time": 271.26,
          "name": "Runner_1",
          "real_mem": 500715520,
          "time": 1600675820.8139994
         },
         {
          "cpu_percent": 98.4,
          "cpu_time": 271.37,
          "name": "Runner_1",
          "real_mem": 500715520,
          "time": 1600675820.9258473
         },
         {
          "cpu_percent": 98.7,
          "cpu_time": 271.48,
          "name": "Runner_1",
          "real_mem": 500715520,
          "time": 1600675821.037601
         },
         {
          "cpu_percent": 98.7,
          "cpu_time": 271.59,
          "name": "Runner_1",
          "real_mem": 500715520,
          "time": 1600675821.1492946
         },
         {
          "cpu_percent": 98.5,
          "cpu_time": 271.7,
          "name": "Runner_1",
          "real_mem": 500715520,
          "time": 1600675821.2610147
         },
         {
          "cpu_percent": 98.7,
          "cpu_time": 271.81,
          "name": "Runner_1",
          "real_mem": 500715520,
          "time": 1600675821.3725579
         },
         {
          "cpu_percent": 0,
          "cpu_time": 271.92,
          "name": "Runner_1",
          "real_mem": 500715520,
          "time": 1600675821.484121
         },
         {
          "cpu_percent": 98.7,
          "cpu_time": 272.04,
          "name": "Runner_1",
          "real_mem": 500715520,
          "time": 1600675821.595594
         },
         {
          "cpu_percent": 98.6,
          "cpu_time": 272.15,
          "name": "Runner_1",
          "real_mem": 500715520,
          "time": 1600675821.7071376
         },
         {
          "cpu_percent": 98.8,
          "cpu_time": 272.26,
          "name": "Runner_1",
          "real_mem": 500715520,
          "time": 1600675821.8185966
         },
         {
          "cpu_percent": 98.8,
          "cpu_time": 272.37,
          "name": "Runner_1",
          "real_mem": 500715520,
          "time": 1600675821.9301312
         },
         {
          "cpu_percent": 98.5,
          "cpu_time": 272.48,
          "name": "Runner_1",
          "real_mem": 500715520,
          "time": 1600675822.041773
         },
         {
          "cpu_percent": 197.1,
          "cpu_time": 272.6,
          "name": "Runner_1",
          "real_mem": 500715520,
          "time": 1600675822.1535463
         },
         {
          "cpu_percent": 98.6,
          "cpu_time": 272.71,
          "name": "Runner_1",
          "real_mem": 500715520,
          "time": 1600675822.265226
         },
         {
          "cpu_percent": 98.2,
          "cpu_time": 272.82,
          "name": "Runner_1",
          "real_mem": 500715520,
          "time": 1600675822.3768852
         },
         {
          "cpu_percent": 98.6,
          "cpu_time": 272.93,
          "name": "Runner_1",
          "real_mem": 500715520,
          "time": 1600675822.488447
         },
         {
          "cpu_percent": 98.5,
          "cpu_time": 273.04,
          "name": "Runner_1",
          "real_mem": 500715520,
          "time": 1600675822.6001935
         },
         {
          "cpu_percent": 98.7,
          "cpu_time": 273.15,
          "name": "Runner_1",
          "real_mem": 500715520,
          "time": 1600675822.7118108
         },
         {
          "cpu_percent": 0,
          "cpu_time": 273.26,
          "name": "Runner_1",
          "real_mem": 500715520,
          "time": 1600675822.8235295
         },
         {
          "cpu_percent": 197.1,
          "cpu_time": 273.38,
          "name": "Runner_1",
          "real_mem": 500715520,
          "time": 1600675822.9351652
         },
         {
          "cpu_percent": 98.6,
          "cpu_time": 273.49,
          "name": "Runner_1",
          "real_mem": 500715520,
          "time": 1600675823.046867
         },
         {
          "cpu_percent": 98.7,
          "cpu_time": 273.6,
          "name": "Runner_1",
          "real_mem": 500715520,
          "time": 1600675823.158441
         },
         {
          "cpu_percent": 98.7,
          "cpu_time": 273.71,
          "name": "Runner_1",
          "real_mem": 500715520,
          "time": 1600675823.2700453
         },
         {
          "cpu_percent": 98.7,
          "cpu_time": 273.82,
          "name": "Runner_1",
          "real_mem": 500715520,
          "time": 1600675823.3816588
         },
         {
          "cpu_percent": 197.5,
          "cpu_time": 273.94,
          "name": "Runner_1",
          "real_mem": 500715520,
          "time": 1600675823.4932573
         },
         {
          "cpu_percent": 0,
          "cpu_time": 274.05,
          "name": "Runner_1",
          "real_mem": 500715520,
          "time": 1600675823.6057727
         },
         {
          "cpu_percent": 98.7,
          "cpu_time": 274.16,
          "name": "Runner_1",
          "real_mem": 500715520,
          "time": 1600675823.7174728
         },
         {
          "cpu_percent": 98.8,
          "cpu_time": 274.27,
          "name": "Runner_1",
          "real_mem": 500715520,
          "time": 1600675823.8291728
         },
         {
          "cpu_percent": 98.5,
          "cpu_time": 274.38,
          "name": "Runner_1",
          "real_mem": 500715520,
          "time": 1600675823.9412804
         },
         {
          "cpu_percent": 197.2,
          "cpu_time": 274.5,
          "name": "Runner_1",
          "real_mem": 500715520,
          "time": 1600675824.053085
         },
         {
          "cpu_percent": 0,
          "cpu_time": 274.6,
          "name": "Runner_1",
          "real_mem": 500715520,
          "time": 1600675824.1647992
         },
         {
          "cpu_percent": 98.7,
          "cpu_time": 274.72,
          "name": "Runner_1",
          "real_mem": 500715520,
          "time": 1600675824.2764668
         },
         {
          "cpu_percent": 97.9,
          "cpu_time": 275.39,
          "name": "Runner_1",
          "real_mem": 512069632,
          "time": 1600675824.388431
         },
         {
          "cpu_percent": 2462.3,
          "cpu_time": 277.99,
          "name": "Runner_1",
          "real_mem": 512069632,
          "time": 1600675824.499994
         },
         {
          "cpu_percent": 98.5,
          "cpu_time": 280.2,
          "name": "Runner_1",
          "real_mem": 523145216,
          "time": 1600675824.6117883
         },
         {
          "cpu_percent": 98.7,
          "cpu_time": 280.31,
          "name": "Runner_1",
          "real_mem": 523145216,
          "time": 1600675824.7236078
         },
         {
          "cpu_percent": 98.7,
          "cpu_time": 280.42,
          "name": "Runner_1",
          "real_mem": 523145216,
          "time": 1600675824.8354254
         },
         {
          "cpu_percent": 98.2,
          "cpu_time": 280.53,
          "name": "Runner_1",
          "real_mem": 523145216,
          "time": 1600675824.947326
         },
         {
          "cpu_percent": 98.3,
          "cpu_time": 280.64,
          "name": "Runner_1",
          "real_mem": 523145216,
          "time": 1600675825.059236
         },
         {
          "cpu_percent": 197,
          "cpu_time": 280.76,
          "name": "Runner_1",
          "real_mem": 523145216,
          "time": 1600675825.171173
         },
         {
          "cpu_percent": 98.6,
          "cpu_time": 280.87,
          "name": "Runner_1",
          "real_mem": 523145216,
          "time": 1600675825.2829492
         },
         {
          "cpu_percent": 98.8,
          "cpu_time": 280.98,
          "name": "Runner_1",
          "real_mem": 523145216,
          "time": 1600675825.3945482
         },
         {
          "cpu_percent": 98.7,
          "cpu_time": 281.09,
          "name": "Runner_1",
          "real_mem": 523145216,
          "time": 1600675825.5062177
         },
         {
          "cpu_percent": 98.6,
          "cpu_time": 281.2,
          "name": "Runner_1",
          "real_mem": 523145216,
          "time": 1600675825.6179338
         },
         {
          "cpu_percent": 197.4,
          "cpu_time": 281.32,
          "name": "Runner_1",
          "real_mem": 523145216,
          "time": 1600675825.7296724
         },
         {
          "cpu_percent": 98.6,
          "cpu_time": 281.43,
          "name": "Runner_1",
          "real_mem": 523145216,
          "time": 1600675825.8417165
         },
         {
          "cpu_percent": 98.6,
          "cpu_time": 281.54,
          "name": "Runner_1",
          "real_mem": 523145216,
          "time": 1600675825.9533324
         },
         {
          "cpu_percent": 98.6,
          "cpu_time": 281.65,
          "name": "Runner_1",
          "real_mem": 523145216,
          "time": 1600675826.0649667
         },
         {
          "cpu_percent": 98.5,
          "cpu_time": 281.76,
          "name": "Runner_1",
          "real_mem": 523145216,
          "time": 1600675826.1766891
         },
         {
          "cpu_percent": 98.6,
          "cpu_time": 281.87,
          "name": "Runner_1",
          "real_mem": 523145216,
          "time": 1600675826.288356
         },
         {
          "cpu_percent": 0,
          "cpu_time": 281.98,
          "name": "Runner_1",
          "real_mem": 523145216,
          "time": 1600675826.399957
         },
         {
          "cpu_percent": 98.8,
          "cpu_time": 282.1,
          "name": "Runner_1",
          "real_mem": 523145216,
          "time": 1600675826.5114465
         },
         {
          "cpu_percent": 98.6,
          "cpu_time": 282.21,
          "name": "Runner_1",
          "real_mem": 523145216,
          "time": 1600675826.6229525
         },
         {
          "cpu_percent": 98.7,
          "cpu_time": 282.32,
          "name": "Runner_1",
          "real_mem": 523145216,
          "time": 1600675826.7344835
         },
         {
          "cpu_percent": 98.7,
          "cpu_time": 282.43,
          "name": "Runner_1",
          "real_mem": 523145216,
          "time": 1600675826.845997
         },
         {
          "cpu_percent": 98.7,
          "cpu_time": 282.54,
          "name": "Runner_1",
          "real_mem": 523145216,
          "time": 1600675826.9576252
         },
         {
          "cpu_percent": 197.3,
          "cpu_time": 282.66,
          "name": "Runner_1",
          "real_mem": 523145216,
          "time": 1600675827.069303
         },
         {
          "cpu_percent": 98.5,
          "cpu_time": 282.77,
          "name": "Runner_1",
          "real_mem": 523145216,
          "time": 1600675827.1809916
         },
         {
          "cpu_percent": 98.5,
          "cpu_time": 282.88,
          "name": "Runner_1",
          "real_mem": 523145216,
          "time": 1600675827.2927768
         },
         {
          "cpu_percent": 98.4,
          "cpu_time": 282.99,
          "name": "Runner_1",
          "real_mem": 523145216,
          "time": 1600675827.4044938
         },
         {
          "cpu_percent": 98.5,
          "cpu_time": 283.1,
          "name": "Runner_1",
          "real_mem": 523145216,
          "time": 1600675827.516117
         },
         {
          "cpu_percent": 98.3,
          "cpu_time": 283.21,
          "name": "Runner_1",
          "real_mem": 523145216,
          "time": 1600675827.6278415
         },
         {
          "cpu_percent": 0,
          "cpu_time": 283.32,
          "name": "Runner_1",
          "real_mem": 523145216,
          "time": 1600675827.7396073
         },
         {
          "cpu_percent": 98.6,
          "cpu_time": 283.44,
          "name": "Runner_1",
          "real_mem": 523145216,
          "time": 1600675827.8512547
         },
         {
          "cpu_percent": 98.5,
          "cpu_time": 283.55,
          "name": "Runner_1",
          "real_mem": 523145216,
          "time": 1600675827.9631062
         },
         {
          "cpu_percent": 98.4,
          "cpu_time": 283.66,
          "name": "Runner_1",
          "real_mem": 523145216,
          "time": 1600675828.0748966
         },
         {
          "cpu_percent": 98.6,
          "cpu_time": 283.77,
          "name": "Runner_1",
          "real_mem": 523145216,
          "time": 1600675828.1866233
         },
         {
          "cpu_percent": 98.7,
          "cpu_time": 283.88,
          "name": "Runner_1",
          "real_mem": 523145216,
          "time": 1600675828.2982388
         },
         {
          "cpu_percent": 197.1,
          "cpu_time": 284,
          "name": "Runner_1",
          "real_mem": 523145216,
          "time": 1600675828.4098735
         },
         {
          "cpu_percent": 98.6,
          "cpu_time": 284.11,
          "name": "Runner_1",
          "real_mem": 523145216,
          "time": 1600675828.5215554
         },
         {
          "cpu_percent": 99,
          "cpu_time": 284.22,
          "name": "Runner_1",
          "real_mem": 523145216,
          "time": 1600675828.6330068
         },
         {
          "cpu_percent": 98.3,
          "cpu_time": 284.33,
          "name": "Runner_1",
          "real_mem": 523145216,
          "time": 1600675828.7447352
         },
         {
          "cpu_percent": 98.6,
          "cpu_time": 284.44,
          "name": "Runner_1",
          "real_mem": 523145216,
          "time": 1600675828.8565445
         },
         {
          "cpu_percent": 98.6,
          "cpu_time": 284.55,
          "name": "Runner_1",
          "real_mem": 523145216,
          "time": 1600675828.9682312
         },
         {
          "cpu_percent": 0,
          "cpu_time": 284.66,
          "name": "Runner_1",
          "real_mem": 523145216,
          "time": 1600675829.0799246
         },
         {
          "cpu_percent": 98.7,
          "cpu_time": 284.78,
          "name": "Runner_1",
          "real_mem": 523145216,
          "time": 1600675829.191534
         },
         {
          "cpu_percent": 98.7,
          "cpu_time": 284.89,
          "name": "Runner_1",
          "real_mem": 523145216,
          "time": 1600675829.3030672
         },
         {
          "cpu_percent": 98.6,
          "cpu_time": 285,
          "name": "Runner_1",
          "real_mem": 523145216,
          "time": 1600675829.4147243
         },
         {
          "cpu_percent": 98.4,
          "cpu_time": 285.11,
          "name": "Runner_1",
          "real_mem": 523145216,
          "time": 1600675829.5264754
         },
         {
          "cpu_percent": 98.7,
          "cpu_time": 285.22,
          "name": "Runner_1",
          "real_mem": 523145216,
          "time": 1600675829.638067
         },
         {
          "cpu_percent": 197.6,
          "cpu_time": 285.34,
          "name": "Runner_1",
          "real_mem": 523145216,
          "time": 1600675829.7495284
         },
         {
          "cpu_percent": 98.7,
          "cpu_time": 285.45,
          "name": "Runner_1",
          "real_mem": 523145216,
          "time": 1600675829.8610306
         },
         {
          "cpu_percent": 98.6,
          "cpu_time": 285.56,
          "name": "Runner_1",
          "real_mem": 523145216,
          "time": 1600675829.9726694
         },
         {
          "cpu_percent": 98.7,
          "cpu_time": 285.67,
          "name": "Runner_1",
          "real_mem": 523145216,
          "time": 1600675830.0842466
         },
         {
          "cpu_percent": 98.7,
          "cpu_time": 285.78,
          "name": "Runner_1",
          "real_mem": 523145216,
          "time": 1600675830.1957595
         },
         {
          "cpu_percent": 98.8,
          "cpu_time": 285.89,
          "name": "Runner_1",
          "real_mem": 523145216,
          "time": 1600675830.3073013
         },
         {
          "cpu_percent": 98.5,
          "cpu_time": 286,
          "name": "Runner_1",
          "real_mem": 523145216,
          "time": 1600675830.4188616
         },
         {
          "cpu_percent": 197.3,
          "cpu_time": 286.12,
          "name": "Runner_1",
          "real_mem": 523145216,
          "time": 1600675830.5305822
         },
         {
          "cpu_percent": 98.4,
          "cpu_time": 286.23,
          "name": "Runner_1",
          "real_mem": 523145216,
          "time": 1600675830.6422205
         },
         {
          "cpu_percent": 98.6,
          "cpu_time": 286.34,
          "name": "Runner_1",
          "real_mem": 523145216,
          "time": 1600675830.7539904
         },
         {
          "cpu_percent": 98.4,
          "cpu_time": 286.45,
          "name": "Runner_1",
          "real_mem": 523145216,
          "time": 1600675830.8657649
         },
         {
          "cpu_percent": 98.5,
          "cpu_time": 286.56,
          "name": "Runner_1",
          "real_mem": 523145216,
          "time": 1600675830.9775116
         },
         {
          "cpu_percent": 197.8,
          "cpu_time": 286.68,
          "name": "Runner_1",
          "real_mem": 523145216,
          "time": 1600675831.0892048
         },
         {
          "cpu_percent": 98.3,
          "cpu_time": 286.79,
          "name": "Runner_1",
          "real_mem": 523145216,
          "time": 1600675831.2011573
         },
         {
          "cpu_percent": 98.3,
          "cpu_time": 286.9,
          "name": "Runner_1",
          "real_mem": 523145216,
          "time": 1600675831.313133
         },
         {
          "cpu_percent": 98.1,
          "cpu_time": 287.01,
          "name": "Runner_1",
          "real_mem": 523145216,
          "time": 1600675831.4249022
         },
         {
          "cpu_percent": 98.7,
          "cpu_time": 287.12,
          "name": "Runner_1",
          "real_mem": 523145216,
          "time": 1600675831.5366127
         },
         {
          "cpu_percent": 98.5,
          "cpu_time": 287.23,
          "name": "Runner_1",
          "real_mem": 523145216,
          "time": 1600675831.6484036
         },
         {
          "cpu_percent": 0,
          "cpu_time": 287.34,
          "name": "Runner_1",
          "real_mem": 523145216,
          "time": 1600675831.760286
         },
         {
          "cpu_percent": 98.6,
          "cpu_time": 287.46,
          "name": "Runner_1",
          "real_mem": 523145216,
          "time": 1600675831.8720407
         },
         {
          "cpu_percent": 98.3,
          "cpu_time": 287.57,
          "name": "Runner_1",
          "real_mem": 523145216,
          "time": 1600675831.9837399
         },
         {
          "cpu_percent": 98.6,
          "cpu_time": 287.68,
          "name": "Runner_1",
          "real_mem": 523145216,
          "time": 1600675832.0953038
         },
         {
          "cpu_percent": 98.7,
          "cpu_time": 287.79,
          "name": "Runner_1",
          "real_mem": 523145216,
          "time": 1600675832.2069557
         },
         {
          "cpu_percent": 98.5,
          "cpu_time": 287.9,
          "name": "Runner_1",
          "real_mem": 523145216,
          "time": 1600675832.31859
         },
         {
          "cpu_percent": 98.5,
          "cpu_time": 288.01,
          "name": "Runner_1",
          "real_mem": 523145216,
          "time": 1600675832.4303544
         },
         {
          "cpu_percent": 197,
          "cpu_time": 288.13,
          "name": "Runner_1",
          "real_mem": 523145216,
          "time": 1600675832.5421622
         },
         {
          "cpu_percent": 98.6,
          "cpu_time": 288.24,
          "name": "Runner_1",
          "real_mem": 523145216,
          "time": 1600675832.6537886
         },
         {
          "cpu_percent": 98.6,
          "cpu_time": 288.35,
          "name": "Runner_1",
          "real_mem": 523145216,
          "time": 1600675832.7654402
         },
         {
          "cpu_percent": 98.7,
          "cpu_time": 288.46,
          "name": "Runner_1",
          "real_mem": 523145216,
          "time": 1600675832.8771
         },
         {
          "cpu_percent": 98.4,
          "cpu_time": 288.57,
          "name": "Runner_1",
          "real_mem": 523145216,
          "time": 1600675832.9888122
         },
         {
          "cpu_percent": 98.6,
          "cpu_time": 288.68,
          "name": "Runner_1",
          "real_mem": 523145216,
          "time": 1600675833.1004772
         },
         {
          "cpu_percent": 0,
          "cpu_time": 288.79,
          "name": "Runner_1",
          "real_mem": 523145216,
          "time": 1600675833.212672
         },
         {
          "cpu_percent": 98.6,
          "cpu_time": 288.91,
          "name": "Runner_1",
          "real_mem": 523145216,
          "time": 1600675833.3243995
         },
         {
          "cpu_percent": 98.6,
          "cpu_time": 289.02,
          "name": "Runner_1",
          "real_mem": 523145216,
          "time": 1600675833.4360056
         },
         {
          "cpu_percent": 98.7,
          "cpu_time": 289.13,
          "name": "Runner_1",
          "real_mem": 523145216,
          "time": 1600675833.5475986
         },
         {
          "cpu_percent": 98.6,
          "cpu_time": 289.24,
          "name": "Runner_1",
          "real_mem": 523145216,
          "time": 1600675833.6592946
         },
         {
          "cpu_percent": 98.5,
          "cpu_time": 289.35,
          "name": "Runner_1",
          "real_mem": 523145216,
          "time": 1600675833.7710197
         },
         {
          "cpu_percent": 197.2,
          "cpu_time": 289.47,
          "name": "Runner_1",
          "real_mem": 523145216,
          "time": 1600675833.8826246
         },
         {
          "cpu_percent": 98.6,
          "cpu_time": 289.58,
          "name": "Runner_1",
          "real_mem": 523145216,
          "time": 1600675833.9943063
         },
         {
          "cpu_percent": 98.7,
          "cpu_time": 289.69,
          "name": "Runner_1",
          "real_mem": 523145216,
          "time": 1600675834.1059508
         },
         {
          "cpu_percent": 98.7,
          "cpu_time": 289.8,
          "name": "Runner_1",
          "real_mem": 523145216,
          "time": 1600675834.2174926
         },
         {
          "cpu_percent": 98.6,
          "cpu_time": 289.91,
          "name": "Runner_1",
          "real_mem": 523145216,
          "time": 1600675834.3290706
         },
         {
          "cpu_percent": 98.6,
          "cpu_time": 290.02,
          "name": "Runner_1",
          "real_mem": 523145216,
          "time": 1600675834.4406667
         },
         {
          "cpu_percent": 0,
          "cpu_time": 290.13,
          "name": "Runner_1",
          "real_mem": 523145216,
          "time": 1600675834.5525846
         },
         {
          "cpu_percent": 98.5,
          "cpu_time": 290.25,
          "name": "Runner_1",
          "real_mem": 523145216,
          "time": 1600675834.664377
         },
         {
          "cpu_percent": 98.4,
          "cpu_time": 290.36,
          "name": "Runner_1",
          "real_mem": 523145216,
          "time": 1600675834.7763183
         },
         {
          "cpu_percent": 98.4,
          "cpu_time": 290.47,
          "name": "Runner_1",
          "real_mem": 523145216,
          "time": 1600675834.8882213
         },
         {
          "cpu_percent": 98.5,
          "cpu_time": 290.58,
          "name": "Runner_1",
          "real_mem": 523145216,
          "time": 1600675835.0000513
         },
         {
          "cpu_percent": 0,
          "cpu_time": 290.69,
          "name": "Runner_1",
          "real_mem": 523145216,
          "time": 1600675835.1120696
         },
         {
          "cpu_percent": 98.6,
          "cpu_time": 290.81,
          "name": "Runner_1",
          "real_mem": 523145216,
          "time": 1600675835.2237508
         },
         {
          "cpu_percent": 98.5,
          "cpu_time": 290.92,
          "name": "Runner_1",
          "real_mem": 523145216,
          "time": 1600675835.3353503
         },
         {
          "cpu_percent": 98.6,
          "cpu_time": 291.03,
          "name": "Runner_1",
          "real_mem": 523145216,
          "time": 1600675835.4469554
         },
         {
          "cpu_percent": 98.7,
          "cpu_time": 291.14,
          "name": "Runner_1",
          "real_mem": 523145216,
          "time": 1600675835.5585537
         },
         {
          "cpu_percent": 98.8,
          "cpu_time": 291.25,
          "name": "Runner_1",
          "real_mem": 523145216,
          "time": 1600675835.6700735
         },
         {
          "cpu_percent": 196.7,
          "cpu_time": 291.37,
          "name": "Runner_1",
          "real_mem": 523145216,
          "time": 1600675835.7820785
         },
         {
          "cpu_percent": 98.5,
          "cpu_time": 291.48,
          "name": "Runner_1",
          "real_mem": 523145216,
          "time": 1600675835.8938036
         },
         {
          "cpu_percent": 98.7,
          "cpu_time": 291.59,
          "name": "Runner_1",
          "real_mem": 523145216,
          "time": 1600675836.0054564
         },
         {
          "cpu_percent": 98.3,
          "cpu_time": 291.7,
          "name": "Runner_1",
          "real_mem": 523145216,
          "time": 1600675836.1173172
         },
         {
          "cpu_percent": 98.2,
          "cpu_time": 291.81,
          "name": "Runner_1",
          "real_mem": 523145216,
          "time": 1600675836.2294376
         },
         {
          "cpu_percent": 197.3,
          "cpu_time": 291.93,
          "name": "Runner_1",
          "real_mem": 523145216,
          "time": 1600675836.3414662
         },
         {
          "cpu_percent": 691,
          "cpu_time": 292.1,
          "name": "Runner_1",
          "real_mem": 523145216,
          "time": 1600675836.4533
         },
         {
          "cpu_percent": 98.5,
          "cpu_time": 294.14,
          "name": "Runner_1",
          "real_mem": 523145216,
          "time": 1600675836.5650349
         },
         {
          "cpu_percent": 98.7,
          "cpu_time": 294.26,
          "name": "Runner_1",
          "real_mem": 465309696,
          "time": 1600675836.6766486
         },
         {
          "cpu_percent": 98.7,
          "cpu_time": 294.37,
          "name": "Runner_1",
          "real_mem": 465309696,
          "time": 1600675836.7883413
         },
         {
          "cpu_percent": 98.6,
          "cpu_time": 294.48,
          "name": "Runner_1",
          "real_mem": 465309696,
          "time": 1600675836.9000752
         },
         {
          "cpu_percent": 98.6,
          "cpu_time": 294.59,
          "name": "Runner_1",
          "real_mem": 465309696,
          "time": 1600675837.0116997
         },
         {
          "cpu_percent": 0,
          "cpu_time": 294.7,
          "name": "Runner_1",
          "real_mem": 465309696,
          "time": 1600675837.1235673
         },
         {
          "cpu_percent": 197.5,
          "cpu_time": 294.82,
          "name": "Runner_1",
          "real_mem": 465309696,
          "time": 1600675837.2350163
         },
         {
          "cpu_percent": 98.6,
          "cpu_time": 294.93,
          "name": "Runner_1",
          "real_mem": 465309696,
          "time": 1600675837.3468206
         },
         {
          "cpu_percent": 98.6,
          "cpu_time": 295.04,
          "name": "Runner_1",
          "real_mem": 465309696,
          "time": 1600675837.4585445
         },
         {
          "cpu_percent": 98.7,
          "cpu_time": 295.15,
          "name": "Runner_1",
          "real_mem": 465309696,
          "time": 1600675837.5701802
         },
         {
          "cpu_percent": 98.6,
          "cpu_time": 295.26,
          "name": "Runner_1",
          "real_mem": 465309696,
          "time": 1600675837.6817808
         },
         {
          "cpu_percent": 197.5,
          "cpu_time": 295.38,
          "name": "Runner_1",
          "real_mem": 465309696,
          "time": 1600675837.7932978
         },
         {
          "cpu_percent": 98.1,
          "cpu_time": 295.49,
          "name": "Runner_1",
          "real_mem": 465309696,
          "time": 1600675837.9049444
         },
         {
          "cpu_percent": 98.7,
          "cpu_time": 295.6,
          "name": "Runner_1",
          "real_mem": 465309696,
          "time": 1600675838.016467
         },
         {
          "cpu_percent": 98.8,
          "cpu_time": 295.71,
          "name": "Runner_1",
          "real_mem": 465309696,
          "time": 1600675838.1279864
         },
         {
          "cpu_percent": 98.6,
          "cpu_time": 295.82,
          "name": "Runner_1",
          "real_mem": 465309696,
          "time": 1600675838.239452
         },
         {
          "cpu_percent": 98.7,
          "cpu_time": 295.93,
          "name": "Runner_1",
          "real_mem": 465309696,
          "time": 1600675838.350982
         },
         {
          "cpu_percent": 98.7,
          "cpu_time": 296.04,
          "name": "Runner_1",
          "real_mem": 465309696,
          "time": 1600675838.4625666
         },
         {
          "cpu_percent": 197.4,
          "cpu_time": 296.16,
          "name": "Runner_1",
          "real_mem": 465309696,
          "time": 1600675838.5741675
         },
         {
          "cpu_percent": 98.4,
          "cpu_time": 296.27,
          "name": "Runner_1",
          "real_mem": 465309696,
          "time": 1600675838.685824
         },
         {
          "cpu_percent": 98.8,
          "cpu_time": 296.38,
          "name": "Runner_1",
          "real_mem": 465309696,
          "time": 1600675838.7973368
         },
         {
          "cpu_percent": 98.7,
          "cpu_time": 296.49,
          "name": "Runner_1",
          "real_mem": 465309696,
          "time": 1600675838.9089127
         },
         {
          "cpu_percent": 98.6,
          "cpu_time": 296.6,
          "name": "Runner_1",
          "real_mem": 465309696,
          "time": 1600675839.0205586
         },
         {
          "cpu_percent": 98.6,
          "cpu_time": 296.71,
          "name": "Runner_1",
          "real_mem": 465309696,
          "time": 1600675839.1321409
         },
         {
          "cpu_percent": 0,
          "cpu_time": 296.82,
          "name": "Runner_1",
          "real_mem": 465309696,
          "time": 1600675839.2440703
         },
         {
          "cpu_percent": 98.3,
          "cpu_time": 296.94,
          "name": "Runner_1",
          "real_mem": 465309696,
          "time": 1600675839.3558605
         },
         {
          "cpu_percent": 98.7,
          "cpu_time": 297.05,
          "name": "Runner_1",
          "real_mem": 465309696,
          "time": 1600675839.4674847
         },
         {
          "cpu_percent": 98.7,
          "cpu_time": 297.16,
          "name": "Runner_1",
          "real_mem": 465309696,
          "time": 1600675839.579346
         },
         {
          "cpu_percent": 98.6,
          "cpu_time": 297.27,
          "name": "Runner_1",
          "real_mem": 465309696,
          "time": 1600675839.691043
         },
         {
          "cpu_percent": 98.7,
          "cpu_time": 297.38,
          "name": "Runner_1",
          "real_mem": 465309696,
          "time": 1600675839.8027334
         },
         {
          "cpu_percent": 197.1,
          "cpu_time": 297.5,
          "name": "Runner_1",
          "real_mem": 465309696,
          "time": 1600675839.9144433
         },
         {
          "cpu_percent": 98.6,
          "cpu_time": 297.61,
          "name": "Runner_1",
          "real_mem": 465309696,
          "time": 1600675840.0261605
         },
         {
          "cpu_percent": 98.5,
          "cpu_time": 297.72,
          "name": "Runner_1",
          "real_mem": 465309696,
          "time": 1600675840.1377985
         },
         {
          "cpu_percent": 98.8,
          "cpu_time": 297.83,
          "name": "Runner_1",
          "real_mem": 465309696,
          "time": 1600675840.2494147
         },
         {
          "cpu_percent": 98.7,
          "cpu_time": 297.94,
          "name": "Runner_1",
          "real_mem": 465309696,
          "time": 1600675840.3610601
         },
         {
          "cpu_percent": 98.7,
          "cpu_time": 298.05,
          "name": "Runner_1",
          "real_mem": 465309696,
          "time": 1600675840.4726412
         },
         {
          "cpu_percent": 0,
          "cpu_time": 298.16,
          "name": "Runner_1",
          "real_mem": 465309696,
          "time": 1600675840.5843174
         },
         {
          "cpu_percent": 98.6,
          "cpu_time": 298.28,
          "name": "Runner_1",
          "real_mem": 465309696,
          "time": 1600675840.696095
         },
         {
          "cpu_percent": 98.6,
          "cpu_time": 298.39,
          "name": "Runner_1",
          "real_mem": 465309696,
          "time": 1600675840.8077147
         },
         {
          "cpu_percent": 98.7,
          "cpu_time": 298.5,
          "name": "Runner_1",
          "real_mem": 465309696,
          "time": 1600675840.9192753
         },
         {
          "cpu_percent": 98.7,
          "cpu_time": 298.61,
          "name": "Runner_1",
          "real_mem": 465309696,
          "time": 1600675841.030836
         },
         {
          "cpu_percent": 98.6,
          "cpu_time": 298.72,
          "name": "Runner_1",
          "real_mem": 465309696,
          "time": 1600675841.1424186
         },
         {
          "cpu_percent": 98.6,
          "cpu_time": 298.83,
          "name": "Runner_1",
          "real_mem": 465309696,
          "time": 1600675841.254094
         },
         {
          "cpu_percent": 197.2,
          "cpu_time": 298.95,
          "name": "Runner_1",
          "real_mem": 465309696,
          "time": 1600675841.3656263
         },
         {
          "cpu_percent": 98.2,
          "cpu_time": 299.06,
          "name": "Runner_1",
          "real_mem": 465309696,
          "time": 1600675841.4778147
         },
         {
          "cpu_percent": 98.8,
          "cpu_time": 299.17,
          "name": "Runner_1",
          "real_mem": 465309696,
          "time": 1600675841.589633
         },
         {
          "cpu_percent": 98.7,
          "cpu_time": 299.28,
          "name": "Runner_1",
          "real_mem": 465309696,
          "time": 1600675841.7013164
         },
         {
          "cpu_percent": 98.9,
          "cpu_time": 299.39,
          "name": "Runner_1",
          "real_mem": 465309696,
          "time": 1600675841.813176
         },
         {
          "cpu_percent": 98.7,
          "cpu_time": 299.5,
          "name": "Runner_1",
          "real_mem": 465309696,
          "time": 1600675841.924744
         },
         {
          "cpu_percent": 0,
          "cpu_time": 299.61,
          "name": "Runner_1",
          "real_mem": 465309696,
          "time": 1600675842.036453
         },
         {
          "cpu_percent": 98.7,
          "cpu_time": 299.73,
          "name": "Runner_1",
          "real_mem": 465309696,
          "time": 1600675842.1479397
         },
         {
          "cpu_percent": 98.7,
          "cpu_time": 299.84,
          "name": "Runner_1",
          "real_mem": 465309696,
          "time": 1600675842.259489
         },
         {
          "cpu_percent": 98.6,
          "cpu_time": 299.95,
          "name": "Runner_1",
          "real_mem": 465309696,
          "time": 1600675842.3711548
         },
         {
          "cpu_percent": 147.1,
          "cpu_time": 300.07,
          "name": "Runner_1",
          "real_mem": 465309696,
          "time": 1600675842.4861932
         },
         {
          "cpu_percent": 98.3,
          "cpu_time": 300.18,
          "name": "Runner_1",
          "real_mem": 465309696,
          "time": 1600675842.5977552
         },
         {
          "cpu_percent": 98.3,
          "cpu_time": 300.29,
          "name": "Runner_1",
          "real_mem": 465309696,
          "time": 1600675842.7095032
         },
         {
          "cpu_percent": 98.4,
          "cpu_time": 300.4,
          "name": "Runner_1",
          "real_mem": 465309696,
          "time": 1600675842.821201
         },
         {
          "cpu_percent": 98.7,
          "cpu_time": 300.51,
          "name": "Runner_1",
          "real_mem": 465309696,
          "time": 1600675842.9328222
         },
         {
          "cpu_percent": 98.7,
          "cpu_time": 300.62,
          "name": "Runner_1",
          "real_mem": 465309696,
          "time": 1600675843.04446
         },
         {
          "cpu_percent": 0,
          "cpu_time": 300.73,
          "name": "Runner_1",
          "real_mem": 465309696,
          "time": 1600675843.1559958
         },
         {
          "cpu_percent": 98.1,
          "cpu_time": 300.85,
          "name": "Runner_1",
          "real_mem": 465309696,
          "time": 1600675843.2682457
         },
         {
          "cpu_percent": 98.7,
          "cpu_time": 300.96,
          "name": "Runner_1",
          "real_mem": 465309696,
          "time": 1600675843.3800027
         },
         {
          "cpu_percent": 98.7,
          "cpu_time": 301.07,
          "name": "Runner_1",
          "real_mem": 465309696,
          "time": 1600675843.491649
         },
         {
          "cpu_percent": 98.7,
          "cpu_time": 301.18,
          "name": "Runner_1",
          "real_mem": 465309696,
          "time": 1600675843.6032388
         },
         {
          "cpu_percent": 98.3,
          "cpu_time": 301.29,
          "name": "Runner_1",
          "real_mem": 465309696,
          "time": 1600675843.714872
         },
         {
          "cpu_percent": 196.8,
          "cpu_time": 301.41,
          "name": "Runner_1",
          "real_mem": 465309696,
          "time": 1600675843.826663
         },
         {
          "cpu_percent": 98.8,
          "cpu_time": 301.52,
          "name": "Runner_1",
          "real_mem": 465309696,
          "time": 1600675843.9383488
         },
         {
          "cpu_percent": 98.5,
          "cpu_time": 301.63,
          "name": "Runner_1",
          "real_mem": 465309696,
          "time": 1600675844.0500176
         },
         {
          "cpu_percent": 98.4,
          "cpu_time": 301.74,
          "name": "Runner_1",
          "real_mem": 465309696,
          "time": 1600675844.1619022
         },
         {
          "cpu_percent": 98.7,
          "cpu_time": 301.85,
          "name": "Runner_1",
          "real_mem": 465309696,
          "time": 1600675844.2736447
         },
         {
          "cpu_percent": 197,
          "cpu_time": 301.97,
          "name": "Runner_1",
          "real_mem": 465309696,
          "time": 1600675844.385412
         },
         {
          "cpu_percent": 98.9,
          "cpu_time": 302.08,
          "name": "Runner_1",
          "real_mem": 465309696,
          "time": 1600675844.497189
         },
         {
          "cpu_percent": 98.5,
          "cpu_time": 302.19,
          "name": "Runner_1",
          "real_mem": 465309696,
          "time": 1600675844.609175
         },
         {
          "cpu_percent": 98.8,
          "cpu_time": 302.3,
          "name": "Runner_1",
          "real_mem": 465309696,
          "time": 1600675844.7209733
         },
         {
          "cpu_percent": 98.6,
          "cpu_time": 302.41,
          "name": "Runner_1",
          "real_mem": 465309696,
          "time": 1600675844.83273
         },
         {
          "cpu_percent": 98.6,
          "cpu_time": 302.52,
          "name": "Runner_1",
          "real_mem": 465309696,
          "time": 1600675844.944412
         },
         {
          "cpu_percent": 0,
          "cpu_time": 302.63,
          "name": "Runner_1",
          "real_mem": 465309696,
          "time": 1600675845.0560741
         },
         {
          "cpu_percent": 98.3,
          "cpu_time": 302.75,
          "name": "Runner_1",
          "real_mem": 465309696,
          "time": 1600675845.168149
         },
         {
          "cpu_percent": 98.7,
          "cpu_time": 302.86,
          "name": "Runner_1",
          "real_mem": 465309696,
          "time": 1600675845.279805
         },
         {
          "cpu_percent": 98.5,
          "cpu_time": 302.97,
          "name": "Runner_1",
          "real_mem": 465309696,
          "time": 1600675845.3915136
         },
         {
          "cpu_percent": 98.3,
          "cpu_time": 303.08,
          "name": "Runner_1",
          "real_mem": 465309696,
          "time": 1600675845.503337
         },
         {
          "cpu_percent": 98.6,
          "cpu_time": 303.19,
          "name": "Runner_1",
          "real_mem": 465309696,
          "time": 1600675845.6150763
         },
         {
          "cpu_percent": 196.5,
          "cpu_time": 303.31,
          "name": "Runner_1",
          "real_mem": 465309696,
          "time": 1600675845.726757
         },
         {
          "cpu_percent": 98.8,
          "cpu_time": 303.42,
          "name": "Runner_1",
          "real_mem": 465309696,
          "time": 1600675845.8385313
         },
         {
          "cpu_percent": 98.5,
          "cpu_time": 303.53,
          "name": "Runner_1",
          "real_mem": 465309696,
          "time": 1600675845.9505713
         },
         {
          "cpu_percent": 98.8,
          "cpu_time": 303.64,
          "name": "Runner_1",
          "real_mem": 465309696,
          "time": 1600675846.0620704
         },
         {
          "cpu_percent": 98.8,
          "cpu_time": 303.75,
          "name": "Runner_1",
          "real_mem": 465309696,
          "time": 1600675846.1736546
         },
         {
          "cpu_percent": 197.2,
          "cpu_time": 303.87,
          "name": "Runner_1",
          "real_mem": 465309696,
          "time": 1600675846.2851121
         },
         {
          "cpu_percent": 0,
          "cpu_time": 303.97,
          "name": "Runner_1",
          "real_mem": 465309696,
          "time": 1600675846.3967063
         },
         {
          "cpu_percent": 98.4,
          "cpu_time": 304.09,
          "name": "Runner_1",
          "real_mem": 465309696,
          "time": 1600675846.508496
         },
         {
          "cpu_percent": 98.8,
          "cpu_time": 304.2,
          "name": "Runner_1",
          "real_mem": 465309696,
          "time": 1600675846.6201346
         },
         {
          "cpu_percent": 98.7,
          "cpu_time": 304.31,
          "name": "Runner_1",
          "real_mem": 465309696,
          "time": 1600675846.731744
         },
         {
          "cpu_percent": 98.7,
          "cpu_time": 304.42,
          "name": "Runner_1",
          "real_mem": 465309696,
          "time": 1600675846.8432655
         },
         {
          "cpu_percent": 98.4,
          "cpu_time": 304.53,
          "name": "Runner_1",
          "real_mem": 465309696,
          "time": 1600675846.954841
         },
         {
          "cpu_percent": 197.6,
          "cpu_time": 304.65,
          "name": "Runner_1",
          "real_mem": 465309696,
          "time": 1600675847.0663915
         },
         {
          "cpu_percent": 98.7,
          "cpu_time": 304.76,
          "name": "Runner_1",
          "real_mem": 465309696,
          "time": 1600675847.1780858
         },
         {
          "cpu_percent": 98.8,
          "cpu_time": 304.87,
          "name": "Runner_1",
          "real_mem": 465309696,
          "time": 1600675847.2896311
         },
         {
          "cpu_percent": 98.6,
          "cpu_time": 304.98,
          "name": "Runner_1",
          "real_mem": 465309696,
          "time": 1600675847.4013255
         },
         {
          "cpu_percent": 98.4,
          "cpu_time": 305.09,
          "name": "Runner_1",
          "real_mem": 465309696,
          "time": 1600675847.5131354
         },
         {
          "cpu_percent": 98.3,
          "cpu_time": 305.21,
          "name": "Runner_1",
          "real_mem": 465309696,
          "time": 1600675847.6249373
         },
         {
          "cpu_percent": 0,
          "cpu_time": 305.32,
          "name": "Runner_1",
          "real_mem": 465309696,
          "time": 1600675847.7369428
         },
         {
          "cpu_percent": 98.7,
          "cpu_time": 305.43,
          "name": "Runner_1",
          "real_mem": 465309696,
          "time": 1600675847.8484921
         },
         {
          "cpu_percent": 98.5,
          "cpu_time": 305.54,
          "name": "Runner_1",
          "real_mem": 465309696,
          "time": 1600675847.960138
         },
         {
          "cpu_percent": 98.6,
          "cpu_time": 305.65,
          "name": "Runner_1",
          "real_mem": 465309696,
          "time": 1600675848.0718062
         },
         {
          "cpu_percent": 98.6,
          "cpu_time": 305.76,
          "name": "Runner_1",
          "real_mem": 465309696,
          "time": 1600675848.1834753
         },
         {
          "cpu_percent": 98.6,
          "cpu_time": 305.87,
          "name": "Runner_1",
          "real_mem": 465309696,
          "time": 1600675848.2951953
         },
         {
          "cpu_percent": 98.3,
          "cpu_time": 305.98,
          "name": "Runner_1",
          "real_mem": 465309696,
          "time": 1600675848.4070225
         },
         {
          "cpu_percent": 3255.5,
          "cpu_time": 306.92,
          "name": "Runner_1",
          "real_mem": 480444416,
          "time": 1600675848.5191388
         },
         {
          "cpu_percent": 3745.2,
          "cpu_time": 309.49,
          "name": "Runner_1",
          "real_mem": 497205248,
          "time": 1600675848.6309254
         },
         {
          "cpu_percent": 0,
          "cpu_time": 312.09,
          "name": "Runner_1",
          "real_mem": 519217152,
          "time": 1600675848.7429926
         },
         {
          "cpu_percent": 98.4,
          "cpu_time": 312.2,
          "name": "Runner_1",
          "real_mem": 519217152,
          "time": 1600675848.854864
         },
         {
          "cpu_percent": 197.3,
          "cpu_time": 312.32,
          "name": "Runner_1",
          "real_mem": 519217152,
          "time": 1600675848.9664266
         },
         {
          "cpu_percent": 98.5,
          "cpu_time": 312.43,
          "name": "Runner_1",
          "real_mem": 519217152,
          "time": 1600675849.0781047
         },
         {
          "cpu_percent": 98.4,
          "cpu_time": 312.54,
          "name": "Runner_1",
          "real_mem": 519217152,
          "time": 1600675849.1897957
         },
         {
          "cpu_percent": 98.7,
          "cpu_time": 312.65,
          "name": "Runner_1",
          "real_mem": 519217152,
          "time": 1600675849.30157
         },
         {
          "cpu_percent": 99.2,
          "cpu_time": 312.76,
          "name": "Runner_1",
          "real_mem": 519217152,
          "time": 1600675849.4131382
         },
         {
          "cpu_percent": 98.6,
          "cpu_time": 312.87,
          "name": "Runner_1",
          "real_mem": 519217152,
          "time": 1600675849.5248337
         },
         {
          "cpu_percent": 0,
          "cpu_time": 312.98,
          "name": "Runner_1",
          "real_mem": 519217152,
          "time": 1600675849.6365309
         },
         {
          "cpu_percent": 98.5,
          "cpu_time": 313.1,
          "name": "Runner_1",
          "real_mem": 519217152,
          "time": 1600675849.748227
         },
         {
          "cpu_percent": 98.7,
          "cpu_time": 313.21,
          "name": "Runner_1",
          "real_mem": 519217152,
          "time": 1600675849.8599975
         },
         {
          "cpu_percent": 98.2,
          "cpu_time": 313.32,
          "name": "Runner_1",
          "real_mem": 519217152,
          "time": 1600675849.9717402
         },
         {
          "cpu_percent": 98.7,
          "cpu_time": 313.43,
          "name": "Runner_1",
          "real_mem": 519217152,
          "time": 1600675850.0832963
         },
         {
          "cpu_percent": 98.5,
          "cpu_time": 313.54,
          "name": "Runner_1",
          "real_mem": 519217152,
          "time": 1600675850.1949162
         },
         {
          "cpu_percent": 196.6,
          "cpu_time": 313.66,
          "name": "Runner_1",
          "real_mem": 519217152,
          "time": 1600675850.3064766
         },
         {
          "cpu_percent": 98.7,
          "cpu_time": 313.77,
          "name": "Runner_1",
          "real_mem": 519217152,
          "time": 1600675850.4180248
         },
         {
          "cpu_percent": 98.8,
          "cpu_time": 313.88,
          "name": "Runner_1",
          "real_mem": 519217152,
          "time": 1600675850.5294526
         },
         {
          "cpu_percent": 98.6,
          "cpu_time": 313.99,
          "name": "Runner_1",
          "real_mem": 519217152,
          "time": 1600675850.6411226
         },
         {
          "cpu_percent": 98.8,
          "cpu_time": 314.1,
          "name": "Runner_1",
          "real_mem": 519217152,
          "time": 1600675850.75269
         },
         {
          "cpu_percent": 98.8,
          "cpu_time": 314.21,
          "name": "Runner_1",
          "real_mem": 519217152,
          "time": 1600675850.8642504
         },
         {
          "cpu_percent": 0,
          "cpu_time": 314.32,
          "name": "Runner_1",
          "real_mem": 519217152,
          "time": 1600675850.975825
         },
         {
          "cpu_percent": 98.7,
          "cpu_time": 314.44,
          "name": "Runner_1",
          "real_mem": 519217152,
          "time": 1600675851.087436
         },
         {
          "cpu_percent": 98.5,
          "cpu_time": 314.55,
          "name": "Runner_1",
          "real_mem": 519217152,
          "time": 1600675851.199136
         },
         {
          "cpu_percent": 98.7,
          "cpu_time": 314.66,
          "name": "Runner_1",
          "real_mem": 519217152,
          "time": 1600675851.31084
         },
         {
          "cpu_percent": 98.4,
          "cpu_time": 314.77,
          "name": "Runner_1",
          "real_mem": 519217152,
          "time": 1600675851.422649
         },
         {
          "cpu_percent": 98.7,
          "cpu_time": 314.88,
          "name": "Runner_1",
          "real_mem": 519217152,
          "time": 1600675851.534168
         },
         {
          "cpu_percent": 197.3,
          "cpu_time": 315,
          "name": "Runner_1",
          "real_mem": 519217152,
          "time": 1600675851.6457727
         },
         {
          "cpu_percent": 98.5,
          "cpu_time": 315.11,
          "name": "Runner_1",
          "real_mem": 519217152,
          "time": 1600675851.7575607
         },
         {
          "cpu_percent": 99.2,
          "cpu_time": 315.22,
          "name": "Runner_1",
          "real_mem": 519217152,
          "time": 1600675851.8690994
         },
         {
          "cpu_percent": 98.6,
          "cpu_time": 315.33,
          "name": "Runner_1",
          "real_mem": 519217152,
          "time": 1600675851.9807122
         },
         {
          "cpu_percent": 98.6,
          "cpu_time": 315.44,
          "name": "Runner_1",
          "real_mem": 519217152,
          "time": 1600675852.0924425
         },
         {
          "cpu_percent": 98.7,
          "cpu_time": 315.55,
          "name": "Runner_1",
          "real_mem": 519217152,
          "time": 1600675852.2039568
         },
         {
          "cpu_percent": 0,
          "cpu_time": 315.66,
          "name": "Runner_1",
          "real_mem": 519217152,
          "time": 1600675852.315574
         },
         {
          "cpu_percent": 97.6,
          "cpu_time": 315.78,
          "name": "Runner_1",
          "real_mem": 519217152,
          "time": 1600675852.4273791
         },
         {
          "cpu_percent": 98.9,
          "cpu_time": 315.89,
          "name": "Runner_1",
          "real_mem": 519217152,
          "time": 1600675852.5389838
         },
         {
          "cpu_percent": 98.7,
          "cpu_time": 316,
          "name": "Runner_1",
          "real_mem": 519217152,
          "time": 1600675852.6507664
         },
         {
          "cpu_percent": 98.4,
          "cpu_time": 316.11,
          "name": "Runner_1",
          "real_mem": 519217152,
          "time": 1600675852.762682
         },
         {
          "cpu_percent": 98.7,
          "cpu_time": 316.22,
          "name": "Runner_1",
          "real_mem": 519217152,
          "time": 1600675852.874287
         },
         {
          "cpu_percent": 197.4,
          "cpu_time": 316.34,
          "name": "Runner_1",
          "real_mem": 519217152,
          "time": 1600675852.9858596
         },
         {
          "cpu_percent": 98.5,
          "cpu_time": 316.45,
          "name": "Runner_1",
          "real_mem": 519217152,
          "time": 1600675853.0976138
         },
         {
          "cpu_percent": 99.2,
          "cpu_time": 316.56,
          "name": "Runner_1",
          "real_mem": 519217152,
          "time": 1600675853.2090864
         },
         {
          "cpu_percent": 98.4,
          "cpu_time": 316.67,
          "name": "Runner_1",
          "real_mem": 519217152,
          "time": 1600675853.3208544
         },
         {
          "cpu_percent": 98.7,
          "cpu_time": 316.78,
          "name": "Runner_1",
          "real_mem": 519217152,
          "time": 1600675853.4325933
         },
         {
          "cpu_percent": 98.6,
          "cpu_time": 316.89,
          "name": "Runner_1",
          "real_mem": 519217152,
          "time": 1600675853.5440748
         },
         {
          "cpu_percent": 98.7,
          "cpu_time": 317,
          "name": "Runner_1",
          "real_mem": 519217152,
          "time": 1600675853.6556902
         },
         {
          "cpu_percent": 98.8,
          "cpu_time": 317.12,
          "name": "Runner_1",
          "real_mem": 519217152,
          "time": 1600675853.7712839
         },
         {
          "cpu_percent": 98.4,
          "cpu_time": 317.23,
          "name": "Runner_1",
          "real_mem": 519217152,
          "time": 1600675853.8827868
         },
         {
          "cpu_percent": 98.7,
          "cpu_time": 317.34,
          "name": "Runner_1",
          "real_mem": 519217152,
          "time": 1600675853.9942305
         },
         {
          "cpu_percent": 98.6,
          "cpu_time": 317.45,
          "name": "Runner_1",
          "real_mem": 519217152,
          "time": 1600675854.105937
         },
         {
          "cpu_percent": 197.5,
          "cpu_time": 317.57,
          "name": "Runner_1",
          "real_mem": 519217152,
          "time": 1600675854.217496
         },
         {
          "cpu_percent": 98.5,
          "cpu_time": 317.68,
          "name": "Runner_1",
          "real_mem": 519217152,
          "time": 1600675854.3293068
         },
         {
          "cpu_percent": 98.6,
          "cpu_time": 317.79,
          "name": "Runner_1",
          "real_mem": 519217152,
          "time": 1600675854.4411275
         },
         {
          "cpu_percent": 98.6,
          "cpu_time": 317.9,
          "name": "Runner_1",
          "real_mem": 519217152,
          "time": 1600675854.5529451
         },
         {
          "cpu_percent": 98.8,
          "cpu_time": 318.01,
          "name": "Runner_1",
          "real_mem": 519217152,
          "time": 1600675854.6646001
         },
         {
          "cpu_percent": 98.7,
          "cpu_time": 318.12,
          "name": "Runner_1",
          "real_mem": 519217152,
          "time": 1600675854.77618
         },
         {
          "cpu_percent": 0,
          "cpu_time": 318.23,
          "name": "Runner_1",
          "real_mem": 519217152,
          "time": 1600675854.8876812
         },
         {
          "cpu_percent": 98.4,
          "cpu_time": 318.35,
          "name": "Runner_1",
          "real_mem": 519217152,
          "time": 1600675854.9992287
         },
         {
          "cpu_percent": 98.7,
          "cpu_time": 318.46,
          "name": "Runner_1",
          "real_mem": 519217152,
          "time": 1600675855.1107707
         },
         {
          "cpu_percent": 98.7,
          "cpu_time": 318.57,
          "name": "Runner_1",
          "real_mem": 519217152,
          "time": 1600675855.2223155
         },
         {
          "cpu_percent": 98.7,
          "cpu_time": 318.68,
          "name": "Runner_1",
          "real_mem": 519217152,
          "time": 1600675855.3339043
         },
         {
          "cpu_percent": 98.8,
          "cpu_time": 318.79,
          "name": "Runner_1",
          "real_mem": 519217152,
          "time": 1600675855.4456782
         },
         {
          "cpu_percent": 197.4,
          "cpu_time": 318.91,
          "name": "Runner_1",
          "real_mem": 519217152,
          "time": 1600675855.5573454
         },
         {
          "cpu_percent": 98.6,
          "cpu_time": 319.02,
          "name": "Runner_1",
          "real_mem": 519217152,
          "time": 1600675855.6690228
         },
         {
          "cpu_percent": 98.3,
          "cpu_time": 319.13,
          "name": "Runner_1",
          "real_mem": 519217152,
          "time": 1600675855.780763
         },
         {
          "cpu_percent": 98.7,
          "cpu_time": 319.24,
          "name": "Runner_1",
          "real_mem": 519217152,
          "time": 1600675855.8923404
         },
         {
          "cpu_percent": 98.7,
          "cpu_time": 319.35,
          "name": "Runner_1",
          "real_mem": 519217152,
          "time": 1600675856.0039318
         },
         {
          "cpu_percent": 98.8,
          "cpu_time": 319.46,
          "name": "Runner_1",
          "real_mem": 519217152,
          "time": 1600675856.1155248
         },
         {
          "cpu_percent": 0,
          "cpu_time": 319.57,
          "name": "Runner_1",
          "real_mem": 519217152,
          "time": 1600675856.2274735
         },
         {
          "cpu_percent": 98.6,
          "cpu_time": 319.69,
          "name": "Runner_1",
          "real_mem": 519217152,
          "time": 1600675856.3392649
         },
         {
          "cpu_percent": 98.7,
          "cpu_time": 319.8,
          "name": "Runner_1",
          "real_mem": 519217152,
          "time": 1600675856.4509501
         },
         {
          "cpu_percent": 98.7,
          "cpu_time": 319.91,
          "name": "Runner_1",
          "real_mem": 519217152,
          "time": 1600675856.5625618
         },
         {
          "cpu_percent": 98.7,
          "cpu_time": 320.02,
          "name": "Runner_1",
          "real_mem": 519217152,
          "time": 1600675856.6742702
         },
         {
          "cpu_percent": 98.6,
          "cpu_time": 320.13,
          "name": "Runner_1",
          "real_mem": 519217152,
          "time": 1600675856.7858818
         },
         {
          "cpu_percent": 197.7,
          "cpu_time": 320.25,
          "name": "Runner_1",
          "real_mem": 519217152,
          "time": 1600675856.8974125
         },
         {
          "cpu_percent": 98.5,
          "cpu_time": 320.36,
          "name": "Runner_1",
          "real_mem": 519217152,
          "time": 1600675857.0091581
         },
         {
          "cpu_percent": 98.2,
          "cpu_time": 320.47,
          "name": "Runner_1",
          "real_mem": 519217152,
          "time": 1600675857.1207907
         },
         {
          "cpu_percent": 98.7,
          "cpu_time": 320.58,
          "name": "Runner_1",
          "real_mem": 519217152,
          "time": 1600675857.2324524
         },
         {
          "cpu_percent": 98.6,
          "cpu_time": 320.69,
          "name": "Runner_1",
          "real_mem": 519217152,
          "time": 1600675857.3441238
         },
         {
          "cpu_percent": 98.6,
          "cpu_time": 320.8,
          "name": "Runner_1",
          "real_mem": 519217152,
          "time": 1600675857.455965
         },
         {
          "cpu_percent": 0,
          "cpu_time": 320.91,
          "name": "Runner_1",
          "real_mem": 519217152,
          "time": 1600675857.5677707
         },
         {
          "cpu_percent": 98.7,
          "cpu_time": 321.03,
          "name": "Runner_1",
          "real_mem": 519217152,
          "time": 1600675857.6793237
         },
         {
          "cpu_percent": 98.7,
          "cpu_time": 321.14,
          "name": "Runner_1",
          "real_mem": 519217152,
          "time": 1600675857.7907844
         },
         {
          "cpu_percent": 98.5,
          "cpu_time": 321.25,
          "name": "Runner_1",
          "real_mem": 519217152,
          "time": 1600675857.9023867
         },
         {
          "cpu_percent": 98.6,
          "cpu_time": 321.36,
          "name": "Runner_1",
          "real_mem": 519217152,
          "time": 1600675858.0140781
         },
         {
          "cpu_percent": 98.5,
          "cpu_time": 321.47,
          "name": "Runner_1",
          "real_mem": 519217152,
          "time": 1600675858.1257539
         },
         {
          "cpu_percent": 197,
          "cpu_time": 321.59,
          "name": "Runner_1",
          "real_mem": 519217152,
          "time": 1600675858.2375546
         },
         {
          "cpu_percent": 98.6,
          "cpu_time": 321.7,
          "name": "Runner_1",
          "real_mem": 519217152,
          "time": 1600675858.3493404
         },
         {
          "cpu_percent": 98.7,
          "cpu_time": 321.81,
          "name": "Runner_1",
          "real_mem": 519217152,
          "time": 1600675858.4610765
         },
         {
          "cpu_percent": 98.2,
          "cpu_time": 321.92,
          "name": "Runner_1",
          "real_mem": 519217152,
          "time": 1600675858.5732784
         },
         {
          "cpu_percent": 98.2,
          "cpu_time": 322.03,
          "name": "Runner_1",
          "real_mem": 519217152,
          "time": 1600675858.6851473
         },
         {
          "cpu_percent": 98.6,
          "cpu_time": 322.14,
          "name": "Runner_1",
          "real_mem": 519217152,
          "time": 1600675858.7966666
         },
         {
          "cpu_percent": 98.6,
          "cpu_time": 322.25,
          "name": "Runner_1",
          "real_mem": 519217152,
          "time": 1600675858.9082332
         },
         {
          "cpu_percent": 0,
          "cpu_time": 322.36,
          "name": "Runner_1",
          "real_mem": 519217152,
          "time": 1600675859.0198507
         },
         {
          "cpu_percent": 98.4,
          "cpu_time": 322.48,
          "name": "Runner_1",
          "real_mem": 519217152,
          "time": 1600675859.1318276
         },
         {
          "cpu_percent": 98.8,
          "cpu_time": 322.59,
          "name": "Runner_1",
          "real_mem": 519217152,
          "time": 1600675859.2434134
         },
         {
          "cpu_percent": 98.7,
          "cpu_time": 322.7,
          "name": "Runner_1",
          "real_mem": 519217152,
          "time": 1600675859.3550503
         },
         {
          "cpu_percent": 98.3,
          "cpu_time": 322.81,
          "name": "Runner_1",
          "real_mem": 519217152,
          "time": 1600675859.4666004
         },
         {
          "cpu_percent": 98.2,
          "cpu_time": 322.92,
          "name": "Runner_1",
          "real_mem": 519217152,
          "time": 1600675859.5786915
         },
         {
          "cpu_percent": 197.5,
          "cpu_time": 323.04,
          "name": "Runner_1",
          "real_mem": 519217152,
          "time": 1600675859.6901546
         },
         {
          "cpu_percent": 98.3,
          "cpu_time": 323.15,
          "name": "Runner_1",
          "real_mem": 519217152,
          "time": 1600675859.8017433
         },
         {
          "cpu_percent": 98.7,
          "cpu_time": 323.26,
          "name": "Runner_1",
          "real_mem": 519217152,
          "time": 1600675859.9131715
         },
         {
          "cpu_percent": 98.6,
          "cpu_time": 323.37,
          "name": "Runner_1",
          "real_mem": 519217152,
          "time": 1600675860.0247147
         },
         {
          "cpu_percent": 98.7,
          "cpu_time": 323.48,
          "name": "Runner_1",
          "real_mem": 519217152,
          "time": 1600675860.1362553
         },
         {
          "cpu_percent": 98.8,
          "cpu_time": 323.59,
          "name": "Runner_1",
          "real_mem": 519217152,
          "time": 1600675860.2479641
         },
         {
          "cpu_percent": 0,
          "cpu_time": 323.7,
          "name": "Runner_1",
          "real_mem": 519217152,
          "time": 1600675860.3599122
         },
         {
          "cpu_percent": 98.6,
          "cpu_time": 323.82,
          "name": "Runner_1",
          "real_mem": 519217152,
          "time": 1600675860.4715967
         },
         {
          "cpu_percent": 98.7,
          "cpu_time": 323.93,
          "name": "Runner_1",
          "real_mem": 519217152,
          "time": 1600675860.5831351
         },
         {
          "cpu_percent": 1970.6,
          "cpu_time": 324.23,
          "name": "Runner_1",
          "real_mem": 519217152,
          "time": 1600675860.6947544
         },
         {
          "cpu_percent": 3646.5,
          "cpu_time": 326.74,
          "name": "Runner_1",
          "real_mem": 519217152,
          "time": 1600675860.8065522
         },
         {
          "cpu_percent": 98.7,
          "cpu_time": 326.85,
          "name": "Runner_1",
          "real_mem": 519217152,
          "time": 1600675860.9182022
         },
         {
          "cpu_percent": 98.6,
          "cpu_time": 326.96,
          "name": "Runner_1",
          "real_mem": 519217152,
          "time": 1600675861.0299437
         },
         {
          "cpu_percent": 98.6,
          "cpu_time": 327.07,
          "name": "Runner_1",
          "real_mem": 519217152,
          "time": 1600675861.1415796
         },
         {
          "cpu_percent": 198.2,
          "cpu_time": 327.19,
          "name": "Runner_1",
          "real_mem": 519217152,
          "time": 1600675861.2531645
         },
         {
          "cpu_percent": 98.7,
          "cpu_time": 327.3,
          "name": "Runner_1",
          "real_mem": 519217152,
          "time": 1600675861.3649962
         },
         {
          "cpu_percent": 98.4,
          "cpu_time": 327.41,
          "name": "Runner_1",
          "real_mem": 519217152,
          "time": 1600675861.4768114
         },
         {
          "cpu_percent": 98.6,
          "cpu_time": 327.52,
          "name": "Runner_1",
          "real_mem": 519217152,
          "time": 1600675861.5886073
         },
         {
          "cpu_percent": 98.8,
          "cpu_time": 327.63,
          "name": "Runner_1",
          "real_mem": 519217152,
          "time": 1600675861.7001863
         },
         {
          "cpu_percent": 98.7,
          "cpu_time": 327.74,
          "name": "Runner_1",
          "real_mem": 519217152,
          "time": 1600675861.8117979
         },
         {
          "cpu_percent": 0,
          "cpu_time": 327.85,
          "name": "Runner_1",
          "real_mem": 519217152,
          "time": 1600675861.9234254
         },
         {
          "cpu_percent": 197.6,
          "cpu_time": 327.97,
          "name": "Runner_1",
          "real_mem": 519217152,
          "time": 1600675862.0350041
         },
         {
          "cpu_percent": 98.7,
          "cpu_time": 328.08,
          "name": "Runner_1",
          "real_mem": 519217152,
          "time": 1600675862.146732
         },
         {
          "cpu_percent": 98.6,
          "cpu_time": 328.19,
          "name": "Runner_1",
          "real_mem": 519217152,
          "time": 1600675862.2584162
         },
         {
          "cpu_percent": 98.8,
          "cpu_time": 328.3,
          "name": "Runner_1",
          "real_mem": 519217152,
          "time": 1600675862.3700047
         },
         {
          "cpu_percent": 98.7,
          "cpu_time": 328.41,
          "name": "Runner_1",
          "real_mem": 519217152,
          "time": 1600675862.4818273
         },
         {
          "cpu_percent": 197.3,
          "cpu_time": 328.53,
          "name": "Runner_1",
          "real_mem": 519217152,
          "time": 1600675862.593702
         },
         {
          "cpu_percent": 98.8,
          "cpu_time": 328.64,
          "name": "Runner_1",
          "real_mem": 519217152,
          "time": 1600675862.7052815
         },
         {
          "cpu_percent": 98.7,
          "cpu_time": 328.75,
          "name": "Runner_1",
          "real_mem": 519217152,
          "time": 1600675862.816964
         },
         {
          "cpu_percent": 98.7,
          "cpu_time": 328.86,
          "name": "Runner_1",
          "real_mem": 519217152,
          "time": 1600675862.9285367
         },
         {
          "cpu_percent": 98.7,
          "cpu_time": 328.97,
          "name": "Runner_1",
          "real_mem": 519217152,
          "time": 1600675863.0400465
         },
         {
          "cpu_percent": 98.7,
          "cpu_time": 329.08,
          "name": "Runner_1",
          "real_mem": 519217152,
          "time": 1600675863.1516924
         },
         {
          "cpu_percent": 0,
          "cpu_time": 329.19,
          "name": "Runner_1",
          "real_mem": 519217152,
          "time": 1600675863.2636611
         },
         {
          "cpu_percent": 97.9,
          "cpu_time": 329.31,
          "name": "Runner_1",
          "real_mem": 519217152,
          "time": 1600675863.375879
         },
         {
          "cpu_percent": 98.3,
          "cpu_time": 329.42,
          "name": "Runner_1",
          "real_mem": 519217152,
          "time": 1600675863.4880245
         },
         {
          "cpu_percent": 98.6,
          "cpu_time": 329.53,
          "name": "Runner_1",
          "real_mem": 519217152,
          "time": 1600675863.5997183
         },
         {
          "cpu_percent": 98.7,
          "cpu_time": 329.64,
          "name": "Runner_1",
          "real_mem": 519217152,
          "time": 1600675863.7112925
         },
         {
          "cpu_percent": 98.7,
          "cpu_time": 329.75,
          "name": "Runner_1",
          "real_mem": 519217152,
          "time": 1600675863.8227148
         },
         {
          "cpu_percent": 98.7,
          "cpu_time": 329.87,
          "name": "Runner_1",
          "real_mem": 519217152,
          "time": 1600675863.938907
         },
         {
          "cpu_percent": 98.4,
          "cpu_time": 329.98,
          "name": "Runner_1",
          "real_mem": 519217152,
          "time": 1600675864.0505905
         },
         {
          "cpu_percent": 98.5,
          "cpu_time": 330.09,
          "name": "Runner_1",
          "real_mem": 519217152,
          "time": 1600675864.1622193
         },
         {
          "cpu_percent": 197.1,
          "cpu_time": 330.21,
          "name": "Runner_1",
          "real_mem": 519217152,
          "time": 1600675864.2741113
         },
         {
          "cpu_percent": 98.5,
          "cpu_time": 330.32,
          "name": "Runner_1",
          "real_mem": 519217152,
          "time": 1600675864.385851
         },
         {
          "cpu_percent": 98.6,
          "cpu_time": 330.43,
          "name": "Runner_1",
          "real_mem": 519217152,
          "time": 1600675864.497599
         },
         {
          "cpu_percent": 98.6,
          "cpu_time": 330.54,
          "name": "Runner_1",
          "real_mem": 519217152,
          "time": 1600675864.609144
         },
         {
          "cpu_percent": 98.5,
          "cpu_time": 330.65,
          "name": "Runner_1",
          "real_mem": 519217152,
          "time": 1600675864.7208495
         },
         {
          "cpu_percent": 98.4,
          "cpu_time": 330.76,
          "name": "Runner_1",
          "real_mem": 519217152,
          "time": 1600675864.8325632
         },
         {
          "cpu_percent": 0,
          "cpu_time": 330.87,
          "name": "Runner_1",
          "real_mem": 519217152,
          "time": 1600675864.9443474
         },
         {
          "cpu_percent": 98.6,
          "cpu_time": 330.99,
          "name": "Runner_1",
          "real_mem": 519217152,
          "time": 1600675865.0561507
         },
         {
          "cpu_percent": 98.6,
          "cpu_time": 331.1,
          "name": "Runner_1",
          "real_mem": 519217152,
          "time": 1600675865.168503
         },
         {
          "cpu_percent": 98.5,
          "cpu_time": 331.21,
          "name": "Runner_1",
          "real_mem": 519217152,
          "time": 1600675865.2801533
         },
         {
          "cpu_percent": 98.7,
          "cpu_time": 331.32,
          "name": "Runner_1",
          "real_mem": 519217152,
          "time": 1600675865.3919563
         },
         {
          "cpu_percent": 0,
          "cpu_time": 331.43,
          "name": "Runner_1",
          "real_mem": 519217152,
          "time": 1600675865.503714
         },
         {
          "cpu_percent": 98.5,
          "cpu_time": 331.55,
          "name": "Runner_1",
          "real_mem": 519217152,
          "time": 1600675865.615752
         },
         {
          "cpu_percent": 98.4,
          "cpu_time": 331.66,
          "name": "Runner_1",
          "real_mem": 519217152,
          "time": 1600675865.7276638
         },
         {
          "cpu_percent": 98.5,
          "cpu_time": 331.77,
          "name": "Runner_1",
          "real_mem": 519217152,
          "time": 1600675865.839324
         },
         {
          "cpu_percent": 98.7,
          "cpu_time": 331.88,
          "name": "Runner_1",
          "real_mem": 519217152,
          "time": 1600675865.9520295
         },
         {
          "cpu_percent": 0,
          "cpu_time": 331.99,
          "name": "Runner_1",
          "real_mem": 519217152,
          "time": 1600675866.0636816
         },
         {
          "cpu_percent": 98.7,
          "cpu_time": 332.11,
          "name": "Runner_1",
          "real_mem": 519217152,
          "time": 1600675866.1753137
         },
         {
          "cpu_percent": 197.5,
          "cpu_time": 332.22,
          "name": "Runner_1",
          "real_mem": 519217152,
          "time": 1600675866.286964
         },
         {
          "cpu_percent": 98.4,
          "cpu_time": 332.33,
          "name": "Runner_1",
          "real_mem": 519217152,
          "time": 1600675866.3988187
         },
         {
          "cpu_percent": 98.7,
          "cpu_time": 332.44,
          "name": "Runner_1",
          "real_mem": 519217152,
          "time": 1600675866.5104005
         },
         {
          "cpu_percent": 98.7,
          "cpu_time": 332.55,
          "name": "Runner_1",
          "real_mem": 519217152,
          "time": 1600675866.6218615
         },
         {
          "cpu_percent": 98.6,
          "cpu_time": 332.66,
          "name": "Runner_1",
          "real_mem": 519217152,
          "time": 1600675866.733482
         },
         {
          "cpu_percent": 197,
          "cpu_time": 332.78,
          "name": "Runner_1",
          "real_mem": 519217152,
          "time": 1600675866.8454177
         },
         {
          "cpu_percent": 98.6,
          "cpu_time": 332.89,
          "name": "Runner_1",
          "real_mem": 519217152,
          "time": 1600675866.9570024
         },
         {
          "cpu_percent": 98.5,
          "cpu_time": 333,
          "name": "Runner_1",
          "real_mem": 519217152,
          "time": 1600675867.0686905
         },
         {
          "cpu_percent": 98.5,
          "cpu_time": 333.11,
          "name": "Runner_1",
          "real_mem": 519217152,
          "time": 1600675867.1806147
         },
         {
          "cpu_percent": 98.5,
          "cpu_time": 333.22,
          "name": "Runner_1",
          "real_mem": 519217152,
          "time": 1600675867.2925825
         },
         {
          "cpu_percent": 98.7,
          "cpu_time": 333.33,
          "name": "Runner_1",
          "real_mem": 519217152,
          "time": 1600675867.4041839
         },
         {
          "cpu_percent": 0,
          "cpu_time": 333.44,
          "name": "Runner_1",
          "real_mem": 519217152,
          "time": 1600675867.5158486
         },
         {
          "cpu_percent": 98.5,
          "cpu_time": 333.56,
          "name": "Runner_1",
          "real_mem": 519217152,
          "time": 1600675867.627719
         },
         {
          "cpu_percent": 98.6,
          "cpu_time": 333.67,
          "name": "Runner_1",
          "real_mem": 519217152,
          "time": 1600675867.7394269
         },
         {
          "cpu_percent": 98.4,
          "cpu_time": 333.78,
          "name": "Runner_1",
          "real_mem": 519217152,
          "time": 1600675867.8511653
         },
         {
          "cpu_percent": 98.8,
          "cpu_time": 333.89,
          "name": "Runner_1",
          "real_mem": 519217152,
          "time": 1600675867.9627254
         },
         {
          "cpu_percent": 98.6,
          "cpu_time": 334,
          "name": "Runner_1",
          "real_mem": 519217152,
          "time": 1600675868.0743084
         },
         {
          "cpu_percent": 197.1,
          "cpu_time": 334.12,
          "name": "Runner_1",
          "real_mem": 519217152,
          "time": 1600675868.1859345
         },
         {
          "cpu_percent": 98.7,
          "cpu_time": 334.23,
          "name": "Runner_1",
          "real_mem": 519217152,
          "time": 1600675868.2975495
         },
         {
          "cpu_percent": 98.6,
          "cpu_time": 334.34,
          "name": "Runner_1",
          "real_mem": 519217152,
          "time": 1600675868.4091907
         },
         {
          "cpu_percent": 98.7,
          "cpu_time": 334.45,
          "name": "Runner_1",
          "real_mem": 519217152,
          "time": 1600675868.5206327
         },
         {
          "cpu_percent": 98.5,
          "cpu_time": 334.56,
          "name": "Runner_1",
          "real_mem": 519217152,
          "time": 1600675868.6322536
         },
         {
          "cpu_percent": 98.6,
          "cpu_time": 334.67,
          "name": "Runner_1",
          "real_mem": 519217152,
          "time": 1600675868.7441328
         },
         {
          "cpu_percent": 0,
          "cpu_time": 334.78,
          "name": "Runner_1",
          "real_mem": 519217152,
          "time": 1600675868.855847
         },
         {
          "cpu_percent": 98.7,
          "cpu_time": 334.9,
          "name": "Runner_1",
          "real_mem": 519217152,
          "time": 1600675868.9675562
         },
         {
          "cpu_percent": 98.3,
          "cpu_time": 335.01,
          "name": "Runner_1",
          "real_mem": 519217152,
          "time": 1600675869.079273
         },
         {
          "cpu_percent": 98.3,
          "cpu_time": 335.12,
          "name": "Runner_1",
          "real_mem": 519217152,
          "time": 1600675869.1912117
         },
         {
          "cpu_percent": 98.4,
          "cpu_time": 335.23,
          "name": "Runner_1",
          "real_mem": 519217152,
          "time": 1600675869.3028855
         },
         {
          "cpu_percent": 98.7,
          "cpu_time": 335.34,
          "name": "Runner_1",
          "real_mem": 519217152,
          "time": 1600675869.4145586
         },
         {
          "cpu_percent": 197.2,
          "cpu_time": 335.46,
          "name": "Runner_1",
          "real_mem": 519217152,
          "time": 1600675869.526239
         },
         {
          "cpu_percent": 98.6,
          "cpu_time": 335.57,
          "name": "Runner_1",
          "real_mem": 519217152,
          "time": 1600675869.6379852
         },
         {
          "cpu_percent": 98.6,
          "cpu_time": 335.68,
          "name": "Runner_1",
          "real_mem": 519217152,
          "time": 1600675869.7496545
         },
         {
          "cpu_percent": 98.6,
          "cpu_time": 335.79,
          "name": "Runner_1",
          "real_mem": 519217152,
          "time": 1600675869.8613362
         },
         {
          "cpu_percent": 98.7,
          "cpu_time": 335.9,
          "name": "Runner_1",
          "real_mem": 519217152,
          "time": 1600675869.9743
         },
         {
          "cpu_percent": 197.3,
          "cpu_time": 336.02,
          "name": "Runner_1",
          "real_mem": 519217152,
          "time": 1600675870.0859978
         },
         {
          "cpu_percent": 98.8,
          "cpu_time": 336.13,
          "name": "Runner_1",
          "real_mem": 519217152,
          "time": 1600675870.1975532
         },
         {
          "cpu_percent": 98.5,
          "cpu_time": 336.24,
          "name": "Runner_1",
          "real_mem": 519217152,
          "time": 1600675870.309223
         },
         {
          "cpu_percent": 98.5,
          "cpu_time": 336.35,
          "name": "Runner_1",
          "real_mem": 519217152,
          "time": 1600675870.4208283
         },
         {
          "cpu_percent": 98.7,
          "cpu_time": 336.46,
          "name": "Runner_1",
          "real_mem": 519217152,
          "time": 1600675870.532356
         },
         {
          "cpu_percent": 98.5,
          "cpu_time": 336.57,
          "name": "Runner_1",
          "real_mem": 519217152,
          "time": 1600675870.6441529
         },
         {
          "cpu_percent": 0,
          "cpu_time": 336.68,
          "name": "Runner_1",
          "real_mem": 519217152,
          "time": 1600675870.7561622
         },
         {
          "cpu_percent": 98.3,
          "cpu_time": 336.8,
          "name": "Runner_1",
          "real_mem": 519217152,
          "time": 1600675870.868191
         },
         {
          "cpu_percent": 98.6,
          "cpu_time": 336.91,
          "name": "Runner_1",
          "real_mem": 519217152,
          "time": 1600675870.9801276
         },
         {
          "cpu_percent": 98,
          "cpu_time": 337.02,
          "name": "Runner_1",
          "real_mem": 519217152,
          "time": 1600675871.0918999
         },
         {
          "cpu_percent": 98.5,
          "cpu_time": 337.13,
          "name": "Runner_1",
          "real_mem": 519217152,
          "time": 1600675871.2039042
         },
         {
          "cpu_percent": 0,
          "cpu_time": 337.24,
          "name": "Runner_1",
          "real_mem": 519217152,
          "time": 1600675871.3157861
         },
         {
          "cpu_percent": 98.6,
          "cpu_time": 337.36,
          "name": "Runner_1",
          "real_mem": 519217152,
          "time": 1600675871.4274437
         },
         {
          "cpu_percent": 98.6,
          "cpu_time": 337.47,
          "name": "Runner_1",
          "real_mem": 519217152,
          "time": 1600675871.539203
         },
         {
          "cpu_percent": 98.7,
          "cpu_time": 337.58,
          "name": "Runner_1",
          "real_mem": 519217152,
          "time": 1600675871.6509502
         },
         {
          "cpu_percent": 98.7,
          "cpu_time": 337.69,
          "name": "Runner_1",
          "real_mem": 519217152,
          "time": 1600675871.7626374
         },
         {
          "cpu_percent": 98.7,
          "cpu_time": 337.8,
          "name": "Runner_1",
          "real_mem": 519217152,
          "time": 1600675871.874249
         },
         {
          "cpu_percent": 197.3,
          "cpu_time": 337.92,
          "name": "Runner_1",
          "real_mem": 519217152,
          "time": 1600675871.9901545
         },
         {
          "cpu_percent": 98.6,
          "cpu_time": 338.03,
          "name": "Runner_1",
          "real_mem": 519217152,
          "time": 1600675872.101892
         },
         {
          "cpu_percent": 98.8,
          "cpu_time": 338.14,
          "name": "Runner_1",
          "real_mem": 519217152,
          "time": 1600675872.2134538
         },
         {
          "cpu_percent": 197,
          "cpu_time": 338.26,
          "name": "Runner_1",
          "real_mem": 519217152,
          "time": 1600675872.3250706
         },
         {
          "cpu_percent": 0,
          "cpu_time": 338.36,
          "name": "Runner_1",
          "real_mem": 519217152,
          "time": 1600675872.4365783
         },
         {
          "cpu_percent": 98.7,
          "cpu_time": 338.48,
          "name": "Runner_1",
          "real_mem": 519217152,
          "time": 1600675872.5481596
         },
         {
          "cpu_percent": 98.7,
          "cpu_time": 338.59,
          "name": "Runner_1",
          "real_mem": 519217152,
          "time": 1600675872.659941
         },
         {
          "cpu_percent": 98.6,
          "cpu_time": 338.7,
          "name": "Runner_1",
          "real_mem": 519217152,
          "time": 1600675872.771698
         },
         {
          "cpu_percent": 98.6,
          "cpu_time": 339.23,
          "name": "Runner_1",
          "real_mem": 519217152,
          "time": 1600675872.8926158
         },
         {
          "cpu_percent": 2162.4,
          "cpu_time": 341.88,
          "name": "Runner_1",
          "real_mem": 519217152,
          "time": 1600675873.0045485
         },
         {
          "cpu_percent": 98.7,
          "cpu_time": 342.35,
          "name": "Runner_1",
          "real_mem": 519217152,
          "time": 1600675873.116189
         },
         {
          "cpu_percent": 98.6,
          "cpu_time": 342.46,
          "name": "Runner_1",
          "real_mem": 519217152,
          "time": 1600675873.2277937
         },
         {
          "cpu_percent": 0,
          "cpu_time": 342.57,
          "name": "Runner_1",
          "real_mem": 519217152,
          "time": 1600675873.339243
         },
         {
          "cpu_percent": 197.6,
          "cpu_time": 342.69,
          "name": "Runner_1",
          "real_mem": 519217152,
          "time": 1600675873.4507453
         },
         {
          "cpu_percent": 67.8,
          "cpu_time": 342.8,
          "name": "Runner_1",
          "real_mem": 519217152,
          "time": 1600675873.5668688
         },
         {
          "cpu_percent": 98.7,
          "cpu_time": 342.91,
          "name": "Runner_1",
          "real_mem": 519217152,
          "time": 1600675873.6785185
         },
         {
          "cpu_percent": 197.6,
          "cpu_time": 343.03,
          "name": "Runner_1",
          "real_mem": 519217152,
          "time": 1600675873.7900345
         },
         {
          "cpu_percent": 98.6,
          "cpu_time": 343.14,
          "name": "Runner_1",
          "real_mem": 519217152,
          "time": 1600675873.9017222
         },
         {
          "cpu_percent": 98.8,
          "cpu_time": 343.25,
          "name": "Runner_1",
          "real_mem": 519217152,
          "time": 1600675874.0131807
         },
         {
          "cpu_percent": 98.7,
          "cpu_time": 343.36,
          "name": "Runner_1",
          "real_mem": 519217152,
          "time": 1600675874.1248293
         },
         {
          "cpu_percent": 98.5,
          "cpu_time": 343.47,
          "name": "Runner_1",
          "real_mem": 519217152,
          "time": 1600675874.2364314
         },
         {
          "cpu_percent": 98.6,
          "cpu_time": 343.58,
          "name": "Runner_1",
          "real_mem": 519217152,
          "time": 1600675874.348096
         },
         {
          "cpu_percent": 0,
          "cpu_time": 343.69,
          "name": "Runner_1",
          "real_mem": 519217152,
          "time": 1600675874.4597428
         },
         {
          "cpu_percent": 98.5,
          "cpu_time": 343.81,
          "name": "Runner_1",
          "real_mem": 519217152,
          "time": 1600675874.571387
         },
         {
          "cpu_percent": 98.2,
          "cpu_time": 343.92,
          "name": "Runner_1",
          "real_mem": 519217152,
          "time": 1600675874.6833582
         },
         {
          "cpu_percent": 98.6,
          "cpu_time": 344.03,
          "name": "Runner_1",
          "real_mem": 519217152,
          "time": 1600675874.7951276
         },
         {
          "cpu_percent": 98.3,
          "cpu_time": 344.14,
          "name": "Runner_1",
          "real_mem": 519217152,
          "time": 1600675874.9068844
         },
         {
          "cpu_percent": 98.6,
          "cpu_time": 344.25,
          "name": "Runner_1",
          "real_mem": 519217152,
          "time": 1600675875.0185714
         },
         {
          "cpu_percent": 197.3,
          "cpu_time": 344.37,
          "name": "Runner_1",
          "real_mem": 519217152,
          "time": 1600675875.1302474
         },
         {
          "cpu_percent": 98.5,
          "cpu_time": 344.48,
          "name": "Runner_1",
          "real_mem": 519217152,
          "time": 1600675875.2419326
         },
         {
          "cpu_percent": 98.6,
          "cpu_time": 344.59,
          "name": "Runner_1",
          "real_mem": 519217152,
          "time": 1600675875.3535872
         },
         {
          "cpu_percent": 99,
          "cpu_time": 344.7,
          "name": "Runner_1",
          "real_mem": 519217152,
          "time": 1600675875.4651148
         },
         {
          "cpu_percent": 98.4,
          "cpu_time": 344.81,
          "name": "Runner_1",
          "real_mem": 519217152,
          "time": 1600675875.576916
         },
         {
          "cpu_percent": 98.6,
          "cpu_time": 344.92,
          "name": "Runner_1",
          "real_mem": 519217152,
          "time": 1600675875.6885617
         },
         {
          "cpu_percent": 0,
          "cpu_time": 345.03,
          "name": "Runner_1",
          "real_mem": 519217152,
          "time": 1600675875.8000848
         },
         {
          "cpu_percent": 98.8,
          "cpu_time": 345.15,
          "name": "Runner_1",
          "real_mem": 519217152,
          "time": 1600675875.9116096
         },
         {
          "cpu_percent": 98.7,
          "cpu_time": 345.26,
          "name": "Runner_1",
          "real_mem": 519217152,
          "time": 1600675876.02311
         },
         {
          "cpu_percent": 98.6,
          "cpu_time": 345.37,
          "name": "Runner_1",
          "real_mem": 519217152,
          "time": 1600675876.1347134
         },
         {
          "cpu_percent": 98.6,
          "cpu_time": 345.48,
          "name": "Runner_1",
          "real_mem": 519217152,
          "time": 1600675876.2462919
         },
         {
          "cpu_percent": 98.5,
          "cpu_time": 345.59,
          "name": "Runner_1",
          "real_mem": 519217152,
          "time": 1600675876.358311
         },
         {
          "cpu_percent": 197.4,
          "cpu_time": 345.71,
          "name": "Runner_1",
          "real_mem": 519217152,
          "time": 1600675876.4699297
         },
         {
          "cpu_percent": 197.5,
          "cpu_time": 345.82,
          "name": "Runner_1",
          "real_mem": 519217152,
          "time": 1600675876.581507
         },
         {
          "cpu_percent": 98.7,
          "cpu_time": 345.93,
          "name": "Runner_1",
          "real_mem": 519217152,
          "time": 1600675876.6931658
         },
         {
          "cpu_percent": 98.6,
          "cpu_time": 346.04,
          "name": "Runner_1",
          "real_mem": 519217152,
          "time": 1600675876.8047981
         },
         {
          "cpu_percent": 98.8,
          "cpu_time": 346.15,
          "name": "Runner_1",
          "real_mem": 519217152,
          "time": 1600675876.9163437
         },
         {
          "cpu_percent": 98.7,
          "cpu_time": 346.26,
          "name": "Runner_1",
          "real_mem": 519217152,
          "time": 1600675877.0279794
         },
         {
          "cpu_percent": 98.8,
          "cpu_time": 346.37,
          "name": "Runner_1",
          "real_mem": 519217152,
          "time": 1600675877.1393447
         },
         {
          "cpu_percent": 98.6,
          "cpu_time": 346.48,
          "name": "Runner_1",
          "real_mem": 519217152,
          "time": 1600675877.2509975
         },
         {
          "cpu_percent": 197.4,
          "cpu_time": 346.6,
          "name": "Runner_1",
          "real_mem": 519217152,
          "time": 1600675877.3627195
         },
         {
          "cpu_percent": 98.8,
          "cpu_time": 346.71,
          "name": "Runner_1",
          "real_mem": 519217152,
          "time": 1600675877.474366
         },
         {
          "cpu_percent": 98.8,
          "cpu_time": 346.82,
          "name": "Runner_1",
          "real_mem": 519217152,
          "time": 1600675877.5858722
         },
         {
          "cpu_percent": 98.8,
          "cpu_time": 346.93,
          "name": "Runner_1",
          "real_mem": 519217152,
          "time": 1600675877.6973257
         },
         {
          "cpu_percent": 98.6,
          "cpu_time": 347.04,
          "name": "Runner_1",
          "real_mem": 519217152,
          "time": 1600675877.8089983
         },
         {
          "cpu_percent": 98.3,
          "cpu_time": 347.15,
          "name": "Runner_1",
          "real_mem": 519217152,
          "time": 1600675877.9206414
         },
         {
          "cpu_percent": 0,
          "cpu_time": 347.26,
          "name": "Runner_1",
          "real_mem": 519217152,
          "time": 1600675878.0323386
         },
         {
          "cpu_percent": 98.6,
          "cpu_time": 347.38,
          "name": "Runner_1",
          "real_mem": 519217152,
          "time": 1600675878.1439025
         },
         {
          "cpu_percent": 98.3,
          "cpu_time": 347.49,
          "name": "Runner_1",
          "real_mem": 519217152,
          "time": 1600675878.2558854
         },
         {
          "cpu_percent": 98.5,
          "cpu_time": 347.6,
          "name": "Runner_1",
          "real_mem": 519217152,
          "time": 1600675878.3676033
         },
         {
          "cpu_percent": 98.5,
          "cpu_time": 347.71,
          "name": "Runner_1",
          "real_mem": 519217152,
          "time": 1600675878.4792373
         },
         {
          "cpu_percent": 98.6,
          "cpu_time": 347.82,
          "name": "Runner_1",
          "real_mem": 519217152,
          "time": 1600675878.590851
         },
         {
          "cpu_percent": 197.5,
          "cpu_time": 347.94,
          "name": "Runner_1",
          "real_mem": 519217152,
          "time": 1600675878.7023993
         },
         {
          "cpu_percent": 98.7,
          "cpu_time": 348.05,
          "name": "Runner_1",
          "real_mem": 519217152,
          "time": 1600675878.8140492
         },
         {
          "cpu_percent": 98.7,
          "cpu_time": 348.16,
          "name": "Runner_1",
          "real_mem": 519217152,
          "time": 1600675878.925722
         },
         {
          "cpu_percent": 98.9,
          "cpu_time": 348.27,
          "name": "Runner_1",
          "real_mem": 519217152,
          "time": 1600675879.0371263
         },
         {
          "cpu_percent": 98.8,
          "cpu_time": 348.38,
          "name": "Runner_1",
          "real_mem": 519217152,
          "time": 1600675879.1485856
         },
         {
          "cpu_percent": 98.6,
          "cpu_time": 348.49,
          "name": "Runner_1",
          "real_mem": 519217152,
          "time": 1600675879.2601423
         },
         {
          "cpu_percent": 0,
          "cpu_time": 348.6,
          "name": "Runner_1",
          "real_mem": 519217152,
          "time": 1600675879.3717968
         },
         {
          "cpu_percent": 98.7,
          "cpu_time": 348.72,
          "name": "Runner_1",
          "real_mem": 519217152,
          "time": 1600675879.48345
         },
         {
          "cpu_percent": 98.7,
          "cpu_time": 348.83,
          "name": "Runner_1",
          "real_mem": 519217152,
          "time": 1600675879.5949662
         },
         {
          "cpu_percent": 98.5,
          "cpu_time": 348.94,
          "name": "Runner_1",
          "real_mem": 519217152,
          "time": 1600675879.7066557
         },
         {
          "cpu_percent": 98.7,
          "cpu_time": 349.05,
          "name": "Runner_1",
          "real_mem": 519217152,
          "time": 1600675879.8183246
         },
         {
          "cpu_percent": 98.6,
          "cpu_time": 349.16,
          "name": "Runner_1",
          "real_mem": 519217152,
          "time": 1600675879.9300475
         },
         {
          "cpu_percent": 197.5,
          "cpu_time": 349.28,
          "name": "Runner_1",
          "real_mem": 519217152,
          "time": 1600675880.0416243
         },
         {
          "cpu_percent": 98.7,
          "cpu_time": 349.39,
          "name": "Runner_1",
          "real_mem": 519217152,
          "time": 1600675880.1532538
         },
         {
          "cpu_percent": 98.6,
          "cpu_time": 349.5,
          "name": "Runner_1",
          "real_mem": 519217152,
          "time": 1600675880.2650535
         },
         {
          "cpu_percent": 98.6,
          "cpu_time": 349.61,
          "name": "Runner_1",
          "real_mem": 519217152,
          "time": 1600675880.3768718
         },
         {
          "cpu_percent": 98.5,
          "cpu_time": 349.72,
          "name": "Runner_1",
          "real_mem": 519217152,
          "time": 1600675880.4885774
         },
         {
          "cpu_percent": 98.6,
          "cpu_time": 349.83,
          "name": "Runner_1",
          "real_mem": 519217152,
          "time": 1600675880.6004403
         },
         {
          "cpu_percent": 0,
          "cpu_time": 349.94,
          "name": "Runner_1",
          "real_mem": 519217152,
          "time": 1600675880.712261
         },
         {
          "cpu_percent": 98.6,
          "cpu_time": 350.06,
          "name": "Runner_1",
          "real_mem": 519217152,
          "time": 1600675880.8238666
         },
         {
          "cpu_percent": 98.7,
          "cpu_time": 350.17,
          "name": "Runner_1",
          "real_mem": 519217152,
          "time": 1600675880.9355385
         },
         {
          "cpu_percent": 98.8,
          "cpu_time": 350.28,
          "name": "Runner_1",
          "real_mem": 519217152,
          "time": 1600675881.0470576
         },
         {
          "cpu_percent": 98.7,
          "cpu_time": 350.39,
          "name": "Runner_1",
          "real_mem": 519217152,
          "time": 1600675881.1586053
         },
         {
          "cpu_percent": 98.7,
          "cpu_time": 350.5,
          "name": "Runner_1",
          "real_mem": 519217152,
          "time": 1600675881.270211
         },
         {
          "cpu_percent": 197.2,
          "cpu_time": 350.62,
          "name": "Runner_1",
          "real_mem": 519217152,
          "time": 1600675881.381878
         },
         {
          "cpu_percent": 98.8,
          "cpu_time": 350.73,
          "name": "Runner_1",
          "real_mem": 519217152,
          "time": 1600675881.493327
         },
         {
          "cpu_percent": 98.6,
          "cpu_time": 350.84,
          "name": "Runner_1",
          "real_mem": 519217152,
          "time": 1600675881.6049705
         },
         {
          "cpu_percent": 98.5,
          "cpu_time": 350.95,
          "name": "Runner_1",
          "real_mem": 519217152,
          "time": 1600675881.7165468
         },
         {
          "cpu_percent": 98.6,
          "cpu_time": 351.06,
          "name": "Runner_1",
          "real_mem": 519217152,
          "time": 1600675881.828407
         },
         {
          "cpu_percent": 98.7,
          "cpu_time": 351.17,
          "name": "Runner_1",
          "real_mem": 519217152,
          "time": 1600675881.9400086
         },
         {
          "cpu_percent": 0,
          "cpu_time": 351.28,
          "name": "Runner_1",
          "real_mem": 519217152,
          "time": 1600675882.0516248
         },
         {
          "cpu_percent": 197.7,
          "cpu_time": 351.4,
          "name": "Runner_1",
          "real_mem": 519217152,
          "time": 1600675882.1630707
         },
         {
          "cpu_percent": 98.6,
          "cpu_time": 351.51,
          "name": "Runner_1",
          "real_mem": 519217152,
          "time": 1600675882.2747047
         },
         {
          "cpu_percent": 98.6,
          "cpu_time": 351.62,
          "name": "Runner_1",
          "real_mem": 519217152,
          "time": 1600675882.3863
         },
         {
          "cpu_percent": 98.7,
          "cpu_time": 351.73,
          "name": "Runner_1",
          "real_mem": 519217152,
          "time": 1600675882.4978046
         },
         {
          "cpu_percent": 98.6,
          "cpu_time": 351.84,
          "name": "Runner_1",
          "real_mem": 519217152,
          "time": 1600675882.6095226
         },
         {
          "cpu_percent": 197.2,
          "cpu_time": 351.96,
          "name": "Runner_1",
          "real_mem": 519217152,
          "time": 1600675882.721219
         },
         {
          "cpu_percent": 0,
          "cpu_time": 352.07,
          "name": "Runner_1",
          "real_mem": 519217152,
          "time": 1600675882.832942
         },
         {
          "cpu_percent": 98.3,
          "cpu_time": 352.18,
          "name": "Runner_1",
          "real_mem": 519217152,
          "time": 1600675882.9449039
         },
         {
          "cpu_percent": 98.8,
          "cpu_time": 352.29,
          "name": "Runner_1",
          "real_mem": 519217152,
          "time": 1600675883.0563865
         },
         {
          "cpu_percent": 98.6,
          "cpu_time": 352.4,
          "name": "Runner_1",
          "real_mem": 519217152,
          "time": 1600675883.1679213
         },
         {
          "cpu_percent": 98.3,
          "cpu_time": 352.51,
          "name": "Runner_1",
          "real_mem": 519217152,
          "time": 1600675883.2797565
         },
         {
          "cpu_percent": 0,
          "cpu_time": 352.62,
          "name": "Runner_1",
          "real_mem": 519217152,
          "time": 1600675883.3916686
         },
         {
          "cpu_percent": 98.3,
          "cpu_time": 352.74,
          "name": "Runner_1",
          "real_mem": 519217152,
          "time": 1600675883.5036535
         },
         {
          "cpu_percent": 98.7,
          "cpu_time": 352.85,
          "name": "Runner_1",
          "real_mem": 519217152,
          "time": 1600675883.6153507
         },
         {
          "cpu_percent": 98.7,
          "cpu_time": 352.96,
          "name": "Runner_1",
          "real_mem": 519217152,
          "time": 1600675883.7270126
         },
         {
          "cpu_percent": 98.7,
          "cpu_time": 353.07,
          "name": "Runner_1",
          "real_mem": 519217152,
          "time": 1600675883.8386157
         },
         {
          "cpu_percent": 98.7,
          "cpu_time": 353.18,
          "name": "Runner_1",
          "real_mem": 519217152,
          "time": 1600675883.9501717
         },
         {
          "cpu_percent": 98.5,
          "cpu_time": 353.29,
          "name": "Runner_1",
          "real_mem": 519217152,
          "time": 1600675884.0619655
         },
         {
          "cpu_percent": 197.2,
          "cpu_time": 353.41,
          "name": "Runner_1",
          "real_mem": 519217152,
          "time": 1600675884.173725
         },
         {
          "cpu_percent": 98.7,
          "cpu_time": 353.52,
          "name": "Runner_1",
          "real_mem": 519217152,
          "time": 1600675884.2853146
         },
         {
          "cpu_percent": 98.7,
          "cpu_time": 353.63,
          "name": "Runner_1",
          "real_mem": 519217152,
          "time": 1600675884.396888
         },
         {
          "cpu_percent": 98.8,
          "cpu_time": 353.74,
          "name": "Runner_1",
          "real_mem": 519217152,
          "time": 1600675884.508439
         },
         {
          "cpu_percent": 98.5,
          "cpu_time": 353.85,
          "name": "Runner_1",
          "real_mem": 519217152,
          "time": 1600675884.620089
         },
         {
          "cpu_percent": 98.7,
          "cpu_time": 353.96,
          "name": "Runner_1",
          "real_mem": 519217152,
          "time": 1600675884.731733
         },
         {
          "cpu_percent": 0,
          "cpu_time": 354.07,
          "name": "Runner_1",
          "real_mem": 519217152,
          "time": 1600675884.8432028
         },
         {
          "cpu_percent": 197.3,
          "cpu_time": 354.19,
          "name": "Runner_1",
          "real_mem": 519217152,
          "time": 1600675884.9549897
         },
         {
          "cpu_percent": 2171.6,
          "cpu_time": 355.2,
          "name": "Runner_1",
          "real_mem": 459890688,
          "time": 1600675885.0668728
         },
         {
          "cpu_percent": 196.7,
          "cpu_time": 357.6,
          "name": "Runner_1",
          "real_mem": 452222976,
          "time": 1600675885.1788428
         },
         {
          "cpu_percent": 98.8,
          "cpu_time": 357.71,
          "name": "Runner_1",
          "real_mem": 459018240,
          "time": 1600675885.2904398
         },
         {
          "cpu_percent": 98.6,
          "cpu_time": 357.82,
          "name": "Runner_1",
          "real_mem": 459018240,
          "time": 1600675885.402298
         },
         {
          "cpu_percent": 98.9,
          "cpu_time": 357.93,
          "name": "Runner_1",
          "real_mem": 459018240,
          "time": 1600675885.5139976
         },
         {
          "cpu_percent": 98.8,
          "cpu_time": 358.04,
          "name": "Runner_1",
          "real_mem": 459018240,
          "time": 1600675885.6256156
         },
         {
          "cpu_percent": 198.2,
          "cpu_time": 358.16,
          "name": "Runner_1",
          "real_mem": 459018240,
          "time": 1600675885.7370884
         },
         {
          "cpu_percent": 0,
          "cpu_time": 358.26,
          "name": "Runner_1",
          "real_mem": 459018240,
          "time": 1600675885.8485608
         },
         {
          "cpu_percent": 98.8,
          "cpu_time": 358.38,
          "name": "Runner_1",
          "real_mem": 459018240,
          "time": 1600675885.959951
         },
         {
          "cpu_percent": 98.6,
          "cpu_time": 358.49,
          "name": "Runner_1",
          "real_mem": 459018240,
          "time": 1600675886.0716136
         },
         {
          "cpu_percent": 98.7,
          "cpu_time": 358.6,
          "name": "Runner_1",
          "real_mem": 459018240,
          "time": 1600675886.1831508
         },
         {
          "cpu_percent": 98.6,
          "cpu_time": 358.71,
          "name": "Runner_1",
          "real_mem": 459018240,
          "time": 1600675886.2947717
         },
         {
          "cpu_percent": 98.8,
          "cpu_time": 358.82,
          "name": "Runner_1",
          "real_mem": 459018240,
          "time": 1600675886.406362
         },
         {
          "cpu_percent": 197.6,
          "cpu_time": 358.94,
          "name": "Runner_1",
          "real_mem": 459018240,
          "time": 1600675886.517953
         },
         {
          "cpu_percent": 98.6,
          "cpu_time": 359.05,
          "name": "Runner_1",
          "real_mem": 459018240,
          "time": 1600675886.6296444
         },
         {
          "cpu_percent": 98.7,
          "cpu_time": 359.16,
          "name": "Runner_1",
          "real_mem": 459018240,
          "time": 1600675886.7413232
         },
         {
          "cpu_percent": 98.6,
          "cpu_time": 359.27,
          "name": "Runner_1",
          "real_mem": 459018240,
          "time": 1600675886.8530202
         },
         {
          "cpu_percent": 98.8,
          "cpu_time": 359.38,
          "name": "Runner_1",
          "real_mem": 459018240,
          "time": 1600675886.9646
         },
         {
          "cpu_percent": 136.3,
          "cpu_time": 359.5,
          "name": "Runner_1",
          "real_mem": 459018240,
          "time": 1600675887.080741
         },
         {
          "cpu_percent": 98.7,
          "cpu_time": 359.61,
          "name": "Runner_1",
          "real_mem": 459018240,
          "time": 1600675887.192362
         },
         {
          "cpu_percent": 98.7,
          "cpu_time": 359.72,
          "name": "Runner_1",
          "real_mem": 459018240,
          "time": 1600675887.3039522
         },
         {
          "cpu_percent": 98.7,
          "cpu_time": 359.83,
          "name": "Runner_1",
          "real_mem": 459018240,
          "time": 1600675887.4154952
         },
         {
          "cpu_percent": 98.7,
          "cpu_time": 359.94,
          "name": "Runner_1",
          "real_mem": 459018240,
          "time": 1600675887.5270958
         },
         {
          "cpu_percent": 197.5,
          "cpu_time": 360.06,
          "name": "Runner_1",
          "real_mem": 459018240,
          "time": 1600675887.6385887
         },
         {
          "cpu_percent": 196.9,
          "cpu_time": 360.17,
          "name": "Runner_1",
          "real_mem": 459018240,
          "time": 1600675887.7504828
         },
         {
          "cpu_percent": 98.8,
          "cpu_time": 360.28,
          "name": "Runner_1",
          "real_mem": 459018240,
          "time": 1600675887.862134
         },
         {
          "cpu_percent": 98.4,
          "cpu_time": 360.39,
          "name": "Runner_1",
          "real_mem": 459018240,
          "time": 1600675887.9739528
         },
         {
          "cpu_percent": 98.6,
          "cpu_time": 360.5,
          "name": "Runner_1",
          "real_mem": 459018240,
          "time": 1600675888.0856795
         },
         {
          "cpu_percent": 98.8,
          "cpu_time": 360.61,
          "name": "Runner_1",
          "real_mem": 459018240,
          "time": 1600675888.1972241
         },
         {
          "cpu_percent": 98.6,
          "cpu_time": 360.72,
          "name": "Runner_1",
          "real_mem": 459018240,
          "time": 1600675888.3088462
         },
         {
          "cpu_percent": 0,
          "cpu_time": 360.83,
          "name": "Runner_1",
          "real_mem": 459018240,
          "time": 1600675888.4206388
         },
         {
          "cpu_percent": 98.6,
          "cpu_time": 360.95,
          "name": "Runner_1",
          "real_mem": 459018240,
          "time": 1600675888.5323575
         },
         {
          "cpu_percent": 98.5,
          "cpu_time": 361.06,
          "name": "Runner_1",
          "real_mem": 459018240,
          "time": 1600675888.6441028
         },
         {
          "cpu_percent": 98.4,
          "cpu_time": 361.17,
          "name": "Runner_1",
          "real_mem": 459018240,
          "time": 1600675888.755881
         },
         {
          "cpu_percent": 98.6,
          "cpu_time": 361.28,
          "name": "Runner_1",
          "real_mem": 459018240,
          "time": 1600675888.867628
         },
         {
          "cpu_percent": 0,
          "cpu_time": 361.39,
          "name": "Runner_1",
          "real_mem": 459018240,
          "time": 1600675888.979323
         },
         {
          "cpu_percent": 197.2,
          "cpu_time": 361.51,
          "name": "Runner_1",
          "real_mem": 459018240,
          "time": 1600675889.0908964
         },
         {
          "cpu_percent": 98.6,
          "cpu_time": 361.62,
          "name": "Runner_1",
          "real_mem": 459018240,
          "time": 1600675889.202587
         },
         {
          "cpu_percent": 98.5,
          "cpu_time": 361.73,
          "name": "Runner_1",
          "real_mem": 459018240,
          "time": 1600675889.3143227
         },
         {
          "cpu_percent": 98.4,
          "cpu_time": 361.84,
          "name": "Runner_1",
          "real_mem": 459018240,
          "time": 1600675889.4263525
         },
         {
          "cpu_percent": 98.6,
          "cpu_time": 361.95,
          "name": "Runner_1",
          "real_mem": 459018240,
          "time": 1600675889.5379615
         },
         {
          "cpu_percent": 196.7,
          "cpu_time": 362.07,
          "name": "Runner_1",
          "real_mem": 459018240,
          "time": 1600675889.6498976
         },
         {
          "cpu_percent": 98.7,
          "cpu_time": 362.18,
          "name": "Runner_1",
          "real_mem": 459018240,
          "time": 1600675889.761692
         },
         {
          "cpu_percent": 98.6,
          "cpu_time": 362.29,
          "name": "Runner_1",
          "real_mem": 459018240,
          "time": 1600675889.8735366
         },
         {
          "cpu_percent": 98.7,
          "cpu_time": 362.4,
          "name": "Runner_1",
          "real_mem": 459018240,
          "time": 1600675889.9851272
         },
         {
          "cpu_percent": 98.3,
          "cpu_time": 362.51,
          "name": "Runner_1",
          "real_mem": 459018240,
          "time": 1600675890.0968606
         },
         {
          "cpu_percent": 98.6,
          "cpu_time": 362.62,
          "name": "Runner_1",
          "real_mem": 459018240,
          "time": 1600675890.2084856
         },
         {
          "cpu_percent": 0,
          "cpu_time": 362.73,
          "name": "Runner_1",
          "real_mem": 459018240,
          "time": 1600675890.320104
         },
         {
          "cpu_percent": 98.7,
          "cpu_time": 362.85,
          "name": "Runner_1",
          "real_mem": 459018240,
          "time": 1600675890.4317336
         },
         {
          "cpu_percent": 98.4,
          "cpu_time": 362.96,
          "name": "Runner_1",
          "real_mem": 459018240,
          "time": 1600675890.5434813
         },
         {
          "cpu_percent": 98.5,
          "cpu_time": 363.07,
          "name": "Runner_1",
          "real_mem": 459018240,
          "time": 1600675890.655135
         },
         {
          "cpu_percent": 98.8,
          "cpu_time": 363.18,
          "name": "Runner_1",
          "real_mem": 459018240,
          "time": 1600675890.766654
         },
         {
          "cpu_percent": 98.6,
          "cpu_time": 363.29,
          "name": "Runner_1",
          "real_mem": 459018240,
          "time": 1600675890.87822
         },
         {
          "cpu_percent": 197.3,
          "cpu_time": 363.41,
          "name": "Runner_1",
          "real_mem": 459018240,
          "time": 1600675890.9897954
         },
         {
          "cpu_percent": 98.8,
          "cpu_time": 363.52,
          "name": "Runner_1",
          "real_mem": 459018240,
          "time": 1600675891.1014295
         },
         {
          "cpu_percent": 98.6,
          "cpu_time": 363.63,
          "name": "Runner_1",
          "real_mem": 459018240,
          "time": 1600675891.2130811
         },
         {
          "cpu_percent": 98.6,
          "cpu_time": 363.74,
          "name": "Runner_1",
          "real_mem": 459018240,
          "time": 1600675891.3246727
         },
         {
          "cpu_percent": 98.2,
          "cpu_time": 363.85,
          "name": "Runner_1",
          "real_mem": 459018240,
          "time": 1600675891.436415
         },
         {
          "cpu_percent": 98.5,
          "cpu_time": 363.96,
          "name": "Runner_1",
          "real_mem": 459018240,
          "time": 1600675891.548174
         },
         {
          "cpu_percent": 0,
          "cpu_time": 364.07,
          "name": "Runner_1",
          "real_mem": 459018240,
          "time": 1600675891.660034
         },
         {
          "cpu_percent": 98.4,
          "cpu_time": 364.19,
          "name": "Runner_1",
          "real_mem": 459018240,
          "time": 1600675891.7720354
         },
         {
          "cpu_percent": 98.5,
          "cpu_time": 364.3,
          "name": "Runner_1",
          "real_mem": 459018240,
          "time": 1600675891.8837883
         },
         {
          "cpu_percent": 98.6,
          "cpu_time": 364.41,
          "name": "Runner_1",
          "real_mem": 459018240,
          "time": 1600675891.9955368
         },
         {
          "cpu_percent": 98.6,
          "cpu_time": 364.52,
          "name": "Runner_1",
          "real_mem": 459018240,
          "time": 1600675892.1073143
         },
         {
          "cpu_percent": 0,
          "cpu_time": 364.63,
          "name": "Runner_1",
          "real_mem": 459018240,
          "time": 1600675892.219363
         },
         {
          "cpu_percent": 197.2,
          "cpu_time": 364.75,
          "name": "Runner_1",
          "real_mem": 459018240,
          "time": 1600675892.3310568
         },
         {
          "cpu_percent": 98.5,
          "cpu_time": 364.86,
          "name": "Runner_1",
          "real_mem": 459018240,
          "time": 1600675892.4428022
         },
         {
          "cpu_percent": 98.7,
          "cpu_time": 364.97,
          "name": "Runner_1",
          "real_mem": 459018240,
          "time": 1600675892.5544412
         },
         {
          "cpu_percent": 98.7,
          "cpu_time": 365.08,
          "name": "Runner_1",
          "real_mem": 459018240,
          "time": 1600675892.6660342
         },
         {
          "cpu_percent": 98.6,
          "cpu_time": 365.19,
          "name": "Runner_1",
          "real_mem": 459018240,
          "time": 1600675892.7777824
         },
         {
          "cpu_percent": 197.3,
          "cpu_time": 365.31,
          "name": "Runner_1",
          "real_mem": 459018240,
          "time": 1600675892.8893435
         },
         {
          "cpu_percent": 98.5,
          "cpu_time": 365.42,
          "name": "Runner_1",
          "real_mem": 459018240,
          "time": 1600675893.0010765
         },
         {
          "cpu_percent": 98.3,
          "cpu_time": 365.53,
          "name": "Runner_1",
          "real_mem": 459018240,
          "time": 1600675893.1127982
         },
         {
          "cpu_percent": 98.2,
          "cpu_time": 365.64,
          "name": "Runner_1",
          "real_mem": 459018240,
          "time": 1600675893.2248256
         },
         {
          "cpu_percent": 98.7,
          "cpu_time": 365.75,
          "name": "Runner_1",
          "real_mem": 459018240,
          "time": 1600675893.3365588
         },
         {
          "cpu_percent": 98.6,
          "cpu_time": 365.86,
          "name": "Runner_1",
          "real_mem": 459018240,
          "time": 1600675893.448357
         },
         {
          "cpu_percent": 0,
          "cpu_time": 365.97,
          "name": "Runner_1",
          "real_mem": 459018240,
          "time": 1600675893.5600863
         },
         {
          "cpu_percent": 98.6,
          "cpu_time": 366.09,
          "name": "Runner_1",
          "real_mem": 459018240,
          "time": 1600675893.6717608
         },
         {
          "cpu_percent": 98.7,
          "cpu_time": 366.2,
          "name": "Runner_1",
          "real_mem": 459018240,
          "time": 1600675893.7834797
         },
         {
          "cpu_percent": 98.8,
          "cpu_time": 366.31,
          "name": "Runner_1",
          "real_mem": 459018240,
          "time": 1600675893.8950067
         },
         {
          "cpu_percent": 98.6,
          "cpu_time": 366.42,
          "name": "Runner_1",
          "real_mem": 459018240,
          "time": 1600675894.0067165
         },
         {
          "cpu_percent": 98.5,
          "cpu_time": 366.53,
          "name": "Runner_1",
          "real_mem": 459018240,
          "time": 1600675894.1188834
         },
         {
          "cpu_percent": 197,
          "cpu_time": 366.65,
          "name": "Runner_1",
          "real_mem": 459018240,
          "time": 1600675894.2308383
         },
         {
          "cpu_percent": 98.7,
          "cpu_time": 366.76,
          "name": "Runner_1",
          "real_mem": 459018240,
          "time": 1600675894.3425012
         },
         {
          "cpu_percent": 98.3,
          "cpu_time": 366.87,
          "name": "Runner_1",
          "real_mem": 459018240,
          "time": 1600675894.454492
         },
         {
          "cpu_percent": 98.4,
          "cpu_time": 366.98,
          "name": "Runner_1",
          "real_mem": 459018240,
          "time": 1600675894.5665493
         },
         {
          "cpu_percent": 98.6,
          "cpu_time": 367.09,
          "name": "Runner_1",
          "real_mem": 459018240,
          "time": 1600675894.6782765
         },
         {
          "cpu_percent": 98.6,
          "cpu_time": 367.2,
          "name": "Runner_1",
          "real_mem": 459018240,
          "time": 1600675894.7899826
         },
         {
          "cpu_percent": 197.1,
          "cpu_time": 367.32,
          "name": "Runner_1",
          "real_mem": 459018240,
          "time": 1600675894.9016495
         },
         {
          "cpu_percent": 98.7,
          "cpu_time": 367.43,
          "name": "Runner_1",
          "real_mem": 459018240,
          "time": 1600675895.013247
         },
         {
          "cpu_percent": 98.6,
          "cpu_time": 367.54,
          "name": "Runner_1",
          "real_mem": 459018240,
          "time": 1600675895.1249979
         },
         {
          "cpu_percent": 98.8,
          "cpu_time": 367.65,
          "name": "Runner_1",
          "real_mem": 459018240,
          "time": 1600675895.236508
         },
         {
          "cpu_percent": 98.8,
          "cpu_time": 367.76,
          "name": "Runner_1",
          "real_mem": 459018240,
          "time": 1600675895.3478873
         },
         {
          "cpu_percent": 98.5,
          "cpu_time": 367.87,
          "name": "Runner_1",
          "real_mem": 459018240,
          "time": 1600675895.459883
         },
         {
          "cpu_percent": 0,
          "cpu_time": 367.98,
          "name": "Runner_1",
          "real_mem": 459018240,
          "time": 1600675895.571682
         },
         {
          "cpu_percent": 98.7,
          "cpu_time": 368.1,
          "name": "Runner_1",
          "real_mem": 459018240,
          "time": 1600675895.683416
         },
         {
          "cpu_percent": 98.5,
          "cpu_time": 368.21,
          "name": "Runner_1",
          "real_mem": 459018240,
          "time": 1600675895.794983
         },
         {
          "cpu_percent": 98.8,
          "cpu_time": 368.32,
          "name": "Runner_1",
          "real_mem": 459018240,
          "time": 1600675895.9064484
         },
         {
          "cpu_percent": 98.7,
          "cpu_time": 368.43,
          "name": "Runner_1",
          "real_mem": 459018240,
          "time": 1600675896.0180695
         },
         {
          "cpu_percent": 98.6,
          "cpu_time": 368.54,
          "name": "Runner_1",
          "real_mem": 459018240,
          "time": 1600675896.1296363
         },
         {
          "cpu_percent": 197.2,
          "cpu_time": 368.66,
          "name": "Runner_1",
          "real_mem": 459018240,
          "time": 1600675896.2412543
         },
         {
          "cpu_percent": 98.4,
          "cpu_time": 368.77,
          "name": "Runner_1",
          "real_mem": 459018240,
          "time": 1600675896.3529873
         },
         {
          "cpu_percent": 98.3,
          "cpu_time": 368.88,
          "name": "Runner_1",
          "real_mem": 459018240,
          "time": 1600675896.464855
         },
         {
          "cpu_percent": 98.8,
          "cpu_time": 368.99,
          "name": "Runner_1",
          "real_mem": 459018240,
          "time": 1600675896.576454
         },
         {
          "cpu_percent": 98.8,
          "cpu_time": 369.1,
          "name": "Runner_1",
          "real_mem": 459018240,
          "time": 1600675896.688004
         },
         {
          "cpu_percent": 98.8,
          "cpu_time": 369.21,
          "name": "Runner_1",
          "real_mem": 459018240,
          "time": 1600675896.7994845
         },
         {
          "cpu_percent": 98.7,
          "cpu_time": 369.32,
          "name": "Runner_1",
          "real_mem": 459018240,
          "time": 1600675896.9109344
         },
         {
          "cpu_percent": 197.5,
          "cpu_time": 369.44,
          "name": "Runner_1",
          "real_mem": 459018240,
          "time": 1600675897.022447
         },
         {
          "cpu_percent": 3944.8,
          "cpu_time": 371.14,
          "name": "Runner_1",
          "real_mem": 493080576,
          "time": 1600675897.1341515
         },
         {
          "cpu_percent": 98.5,
          "cpu_time": 371.77,
          "name": "Runner_1",
          "real_mem": 515092480,
          "time": 1600675897.2460942
         },
         {
          "cpu_percent": 98.3,
          "cpu_time": 371.88,
          "name": "Runner_1",
          "real_mem": 515092480,
          "time": 1600675897.3583322
         },
         {
          "cpu_percent": 196.7,
          "cpu_time": 372,
          "name": "Runner_1",
          "real_mem": 515092480,
          "time": 1600675897.47055
         },
         {
          "cpu_percent": 98.2,
          "cpu_time": 372.11,
          "name": "Runner_1",
          "real_mem": 515092480,
          "time": 1600675897.58276
         },
         {
          "cpu_percent": 98.7,
          "cpu_time": 372.22,
          "name": "Runner_1",
          "real_mem": 515092480,
          "time": 1600675897.6944084
         },
         {
          "cpu_percent": 98.5,
          "cpu_time": 372.33,
          "name": "Runner_1",
          "real_mem": 515092480,
          "time": 1600675897.8060572
         },
         {
          "cpu_percent": 98.6,
          "cpu_time": 372.44,
          "name": "Runner_1",
          "real_mem": 515092480,
          "time": 1600675897.9176638
         },
         {
          "cpu_percent": 197.3,
          "cpu_time": 372.56,
          "name": "Runner_1",
          "real_mem": 515092480,
          "time": 1600675898.029337
         },
         {
          "cpu_percent": 0,
          "cpu_time": 372.67,
          "name": "Runner_1",
          "real_mem": 515092480,
          "time": 1600675898.140922
         },
         {
          "cpu_percent": 98.6,
          "cpu_time": 372.78,
          "name": "Runner_1",
          "real_mem": 515092480,
          "time": 1600675898.2525327
         },
         {
          "cpu_percent": 95.1,
          "cpu_time": 372.89,
          "name": "Runner_1",
          "real_mem": 515092480,
          "time": 1600675898.3645353
         },
         {
          "cpu_percent": 98.6,
          "cpu_time": 373,
          "name": "Runner_1",
          "real_mem": 515092480,
          "time": 1600675898.4761505
         },
         {
          "cpu_percent": 98,
          "cpu_time": 373.11,
          "name": "Runner_1",
          "real_mem": 515092480,
          "time": 1600675898.588005
         },
         {
          "cpu_percent": 0,
          "cpu_time": 373.22,
          "name": "Runner_1",
          "real_mem": 515092480,
          "time": 1600675898.699639
         },
         {
          "cpu_percent": 98.6,
          "cpu_time": 373.34,
          "name": "Runner_1",
          "real_mem": 515092480,
          "time": 1600675898.8114655
         },
         {
          "cpu_percent": 98.4,
          "cpu_time": 373.45,
          "name": "Runner_1",
          "real_mem": 515092480,
          "time": 1600675898.9232876
         },
         {
          "cpu_percent": 98.7,
          "cpu_time": 373.56,
          "name": "Runner_1",
          "real_mem": 515092480,
          "time": 1600675899.0348997
         },
         {
          "cpu_percent": 98.7,
          "cpu_time": 373.67,
          "name": "Runner_1",
          "real_mem": 515092480,
          "time": 1600675899.1465118
         },
         {
          "cpu_percent": 98.7,
          "cpu_time": 373.78,
          "name": "Runner_1",
          "real_mem": 515092480,
          "time": 1600675899.2580588
         },
         {
          "cpu_percent": 197.6,
          "cpu_time": 373.9,
          "name": "Runner_1",
          "real_mem": 515092480,
          "time": 1600675899.3695843
         },
         {
          "cpu_percent": 98.5,
          "cpu_time": 374.01,
          "name": "Runner_1",
          "real_mem": 515092480,
          "time": 1600675899.4811227
         },
         {
          "cpu_percent": 98.7,
          "cpu_time": 374.12,
          "name": "Runner_1",
          "real_mem": 515092480,
          "time": 1600675899.5926766
         },
         {
          "cpu_percent": 98.8,
          "cpu_time": 374.23,
          "name": "Runner_1",
          "real_mem": 515092480,
          "time": 1600675899.7040548
         },
         {
          "cpu_percent": 98.7,
          "cpu_time": 374.34,
          "name": "Runner_1",
          "real_mem": 515092480,
          "time": 1600675899.8155138
         },
         {
          "cpu_percent": 97.8,
          "cpu_time": 374.45,
          "name": "Runner_1",
          "real_mem": 515092480,
          "time": 1600675899.927115
         },
         {
          "cpu_percent": 98.6,
          "cpu_time": 374.56,
          "name": "Runner_1",
          "real_mem": 515092480,
          "time": 1600675900.0387783
         },
         {
          "cpu_percent": 197.4,
          "cpu_time": 374.68,
          "name": "Runner_1",
          "real_mem": 515092480,
          "time": 1600675900.15058
         },
         {
          "cpu_percent": 98.6,
          "cpu_time": 374.79,
          "name": "Runner_1",
          "real_mem": 515092480,
          "time": 1600675900.2622502
         },
         {
          "cpu_percent": 98.5,
          "cpu_time": 374.9,
          "name": "Runner_1",
          "real_mem": 515092480,
          "time": 1600675900.3739645
         },
         {
          "cpu_percent": 98.8,
          "cpu_time": 375.01,
          "name": "Runner_1",
          "real_mem": 515092480,
          "time": 1600675900.48555
         },
         {
          "cpu_percent": 98.8,
          "cpu_time": 375.12,
          "name": "Runner_1",
          "real_mem": 515092480,
          "time": 1600675900.597129
         },
         {
          "cpu_percent": 98.8,
          "cpu_time": 375.23,
          "name": "Runner_1",
          "real_mem": 515092480,
          "time": 1600675900.7085364
         },
         {
          "cpu_percent": 0,
          "cpu_time": 375.34,
          "name": "Runner_1",
          "real_mem": 515092480,
          "time": 1600675900.8200068
         },
         {
          "cpu_percent": 98.1,
          "cpu_time": 375.46,
          "name": "Runner_1",
          "real_mem": 515092480,
          "time": 1600675900.9317694
         },
         {
          "cpu_percent": 98.7,
          "cpu_time": 375.57,
          "name": "Runner_1",
          "real_mem": 515092480,
          "time": 1600675901.0435314
         },
         {
          "cpu_percent": 98.7,
          "cpu_time": 375.68,
          "name": "Runner_1",
          "real_mem": 515092480,
          "time": 1600675901.1554503
         },
         {
          "cpu_percent": 98.1,
          "cpu_time": 375.79,
          "name": "Runner_1",
          "real_mem": 515092480,
          "time": 1600675901.267703
         },
         {
          "cpu_percent": 0,
          "cpu_time": 375.9,
          "name": "Runner_1",
          "real_mem": 515092480,
          "time": 1600675901.379547
         },
         {
          "cpu_percent": 98.3,
          "cpu_time": 376.02,
          "name": "Runner_1",
          "real_mem": 515092480,
          "time": 1600675901.4917102
         },
         {
          "cpu_percent": 98.7,
          "cpu_time": 376.13,
          "name": "Runner_1",
          "real_mem": 515092480,
          "time": 1600675901.6033306
         },
         {
          "cpu_percent": 98.7,
          "cpu_time": 376.24,
          "name": "Runner_1",
          "real_mem": 515092480,
          "time": 1600675901.7148762
         },
         {
          "cpu_percent": 98.7,
          "cpu_time": 376.35,
          "name": "Runner_1",
          "real_mem": 515092480,
          "time": 1600675901.8264377
         },
         {
          "cpu_percent": 98.8,
          "cpu_time": 376.46,
          "name": "Runner_1",
          "real_mem": 515092480,
          "time": 1600675901.9379046
         },
         {
          "cpu_percent": 197.5,
          "cpu_time": 376.58,
          "name": "Runner_1",
          "real_mem": 515092480,
          "time": 1600675902.049486
         },
         {
          "cpu_percent": 98.5,
          "cpu_time": 376.69,
          "name": "Runner_1",
          "real_mem": 515092480,
          "time": 1600675902.1613317
         },
         {
          "cpu_percent": 98.7,
          "cpu_time": 376.8,
          "name": "Runner_1",
          "real_mem": 515092480,
          "time": 1600675902.2729805
         },
         {
          "cpu_percent": 98.6,
          "cpu_time": 376.91,
          "name": "Runner_1",
          "real_mem": 515092480,
          "time": 1600675902.3846204
         },
         {
          "cpu_percent": 98.7,
          "cpu_time": 377.02,
          "name": "Runner_1",
          "real_mem": 515092480,
          "time": 1600675902.496362
         },
         {
          "cpu_percent": 98.8,
          "cpu_time": 377.13,
          "name": "Runner_1",
          "real_mem": 515092480,
          "time": 1600675902.6079826
         },
         {
          "cpu_percent": 0,
          "cpu_time": 377.24,
          "name": "Runner_1",
          "real_mem": 515092480,
          "time": 1600675902.7194705
         },
         {
          "cpu_percent": 197.5,
          "cpu_time": 377.36,
          "name": "Runner_1",
          "real_mem": 515092480,
          "time": 1600675902.8309748
         },
         {
          "cpu_percent": 98.7,
          "cpu_time": 377.47,
          "name": "Runner_1",
          "real_mem": 515092480,
          "time": 1600675902.9425485
         },
         {
          "cpu_percent": 98.6,
          "cpu_time": 377.58,
          "name": "Runner_1",
          "real_mem": 515092480,
          "time": 1600675903.0543537
         },
         {
          "cpu_percent": 98.5,
          "cpu_time": 377.69,
          "name": "Runner_1",
          "real_mem": 515092480,
          "time": 1600675903.1660426
         },
         {
          "cpu_percent": 98.7,
          "cpu_time": 377.8,
          "name": "Runner_1",
          "real_mem": 515092480,
          "time": 1600675903.277685
         },
         {
          "cpu_percent": 197.2,
          "cpu_time": 377.92,
          "name": "Runner_1",
          "real_mem": 515092480,
          "time": 1600675903.389435
         },
         {
          "cpu_percent": 98.5,
          "cpu_time": 378.03,
          "name": "Runner_1",
          "real_mem": 515092480,
          "time": 1600675903.5010948
         },
         {
          "cpu_percent": 98.7,
          "cpu_time": 378.14,
          "name": "Runner_1",
          "real_mem": 515092480,
          "time": 1600675903.6126103
         },
         {
          "cpu_percent": 98.7,
          "cpu_time": 378.25,
          "name": "Runner_1",
          "real_mem": 515092480,
          "time": 1600675903.724127
         },
         {
          "cpu_percent": 98.4,
          "cpu_time": 378.36,
          "name": "Runner_1",
          "real_mem": 515092480,
          "time": 1600675903.8359725
         },
         {
          "cpu_percent": 98.6,
          "cpu_time": 378.47,
          "name": "Runner_1",
          "real_mem": 515092480,
          "time": 1600675903.9478264
         },
         {
          "cpu_percent": 0,
          "cpu_time": 378.58,
          "name": "Runner_1",
          "real_mem": 515092480,
          "time": 1600675904.0597692
         },
         {
          "cpu_percent": 98.7,
          "cpu_time": 378.7,
          "name": "Runner_1",
          "real_mem": 515092480,
          "time": 1600675904.1713035
         },
         {
          "cpu_percent": 98.6,
          "cpu_time": 378.81,
          "name": "Runner_1",
          "real_mem": 515092480,
          "time": 1600675904.282777
         },
         {
          "cpu_percent": 98.7,
          "cpu_time": 378.92,
          "name": "Runner_1",
          "real_mem": 515092480,
          "time": 1600675904.3944595
         },
         {
          "cpu_percent": 98.7,
          "cpu_time": 379.03,
          "name": "Runner_1",
          "real_mem": 515092480,
          "time": 1600675904.5060613
         },
         {
          "cpu_percent": 98.8,
          "cpu_time": 379.14,
          "name": "Runner_1",
          "real_mem": 515092480,
          "time": 1600675904.6175447
         },
         {
          "cpu_percent": 197.5,
          "cpu_time": 379.26,
          "name": "Runner_1",
          "real_mem": 515092480,
          "time": 1600675904.7290275
         },
         {
          "cpu_percent": 0,
          "cpu_time": 379.36,
          "name": "Runner_1",
          "real_mem": 515092480,
          "time": 1600675904.8404534
         },
         {
          "cpu_percent": 98.7,
          "cpu_time": 379.48,
          "name": "Runner_1",
          "real_mem": 515092480,
          "time": 1600675904.9520226
         },
         {
          "cpu_percent": 98.6,
          "cpu_time": 379.59,
          "name": "Runner_1",
          "real_mem": 515092480,
          "time": 1600675905.0636868
         },
         {
          "cpu_percent": 98.5,
          "cpu_time": 379.7,
          "name": "Runner_1",
          "real_mem": 515092480,
          "time": 1600675905.1754544
         },
         {
          "cpu_percent": 98.7,
          "cpu_time": 379.81,
          "name": "Runner_1",
          "real_mem": 515092480,
          "time": 1600675905.287024
         },
         {
          "cpu_percent": 98.7,
          "cpu_time": 379.92,
          "name": "Runner_1",
          "real_mem": 515092480,
          "time": 1600675905.3986745
         },
         {
          "cpu_percent": 197.2,
          "cpu_time": 380.04,
          "name": "Runner_1",
          "real_mem": 515092480,
          "time": 1600675905.5103374
         },
         {
          "cpu_percent": 98.6,
          "cpu_time": 380.15,
          "name": "Runner_1",
          "real_mem": 515092480,
          "time": 1600675905.6219096
         },
         {
          "cpu_percent": 98.8,
          "cpu_time": 380.26,
          "name": "Runner_1",
          "real_mem": 515092480,
          "time": 1600675905.7334182
         },
         {
          "cpu_percent": 98.6,
          "cpu_time": 380.37,
          "name": "Runner_1",
          "real_mem": 515092480,
          "time": 1600675905.8450408
         },
         {
          "cpu_percent": 98.7,
          "cpu_time": 380.48,
          "name": "Runner_1",
          "real_mem": 515092480,
          "time": 1600675905.956555
         },
         {
          "cpu_percent": 98.5,
          "cpu_time": 380.59,
          "name": "Runner_1",
          "real_mem": 515092480,
          "time": 1600675906.0681748
         },
         {
          "cpu_percent": 98.6,
          "cpu_time": 380.7,
          "name": "Runner_1",
          "real_mem": 515092480,
          "time": 1600675906.179816
         },
         {
          "cpu_percent": 0,
          "cpu_time": 380.81,
          "name": "Runner_1",
          "real_mem": 515092480,
          "time": 1600675906.2915668
         },
         {
          "cpu_percent": 197.5,
          "cpu_time": 380.93,
          "name": "Runner_1",
          "real_mem": 515092480,
          "time": 1600675906.4030669
         },
         {
          "cpu_percent": 98.8,
          "cpu_time": 381.04,
          "name": "Runner_1",
          "real_mem": 515092480,
          "time": 1600675906.5146286
         },
         {
          "cpu_percent": 98.7,
          "cpu_time": 381.15,
          "name": "Runner_1",
          "real_mem": 515092480,
          "time": 1600675906.626248
         },
         {
          "cpu_percent": 98.6,
          "cpu_time": 381.26,
          "name": "Runner_1",
          "real_mem": 515092480,
          "time": 1600675906.7380388
         },
         {
          "cpu_percent": 98.5,
          "cpu_time": 381.37,
          "name": "Runner_1",
          "real_mem": 515092480,
          "time": 1600675906.8498995
         },
         {
          "cpu_percent": 197.5,
          "cpu_time": 381.49,
          "name": "Runner_1",
          "real_mem": 515092480,
          "time": 1600675906.9616005
         },
         {
          "cpu_percent": 98.6,
          "cpu_time": 381.6,
          "name": "Runner_1",
          "real_mem": 515092480,
          "time": 1600675907.073205
         },
         {
          "cpu_percent": 98.8,
          "cpu_time": 381.71,
          "name": "Runner_1",
          "real_mem": 515092480,
          "time": 1600675907.1847322
         },
         {
          "cpu_percent": 98.5,
          "cpu_time": 381.82,
          "name": "Runner_1",
          "real_mem": 515092480,
          "time": 1600675907.2964458
         },
         {
          "cpu_percent": 98.6,
          "cpu_time": 381.93,
          "name": "Runner_1",
          "real_mem": 515092480,
          "time": 1600675907.4080331
         },
         {
          "cpu_percent": 98.7,
          "cpu_time": 382.04,
          "name": "Runner_1",
          "real_mem": 515092480,
          "time": 1600675907.519684
         },
         {
          "cpu_percent": 0,
          "cpu_time": 382.15,
          "name": "Runner_1",
          "real_mem": 515092480,
          "time": 1600675907.6313536
         },
         {
          "cpu_percent": 196.9,
          "cpu_time": 382.27,
          "name": "Runner_1",
          "real_mem": 515092480,
          "time": 1600675907.7430801
         },
         {
          "cpu_percent": 98.7,
          "cpu_time": 382.38,
          "name": "Runner_1",
          "real_mem": 515092480,
          "time": 1600675907.8547318
         },
         {
          "cpu_percent": 98.6,
          "cpu_time": 382.49,
          "name": "Runner_1",
          "real_mem": 515092480,
          "time": 1600675907.9664116
         },
         {
          "cpu_percent": 98.7,
          "cpu_time": 382.6,
          "name": "Runner_1",
          "real_mem": 515092480,
          "time": 1600675908.0779471
         },
         {
          "cpu_percent": 98.6,
          "cpu_time": 382.71,
          "name": "Runner_1",
          "real_mem": 515092480,
          "time": 1600675908.1896493
         },
         {
          "cpu_percent": 197.5,
          "cpu_time": 382.83,
          "name": "Runner_1",
          "real_mem": 515092480,
          "time": 1600675908.3014476
         },
         {
          "cpu_percent": 0,
          "cpu_time": 382.94,
          "name": "Runner_1",
          "real_mem": 515092480,
          "time": 1600675908.412927
         },
         {
          "cpu_percent": 98.7,
          "cpu_time": 383.05,
          "name": "Runner_1",
          "real_mem": 515092480,
          "time": 1600675908.5244775
         },
         {
          "cpu_percent": 98.6,
          "cpu_time": 383.16,
          "name": "Runner_1",
          "real_mem": 515092480,
          "time": 1600675908.636053
         },
         {
          "cpu_percent": 98.5,
          "cpu_time": 383.27,
          "name": "Runner_1",
          "real_mem": 515092480,
          "time": 1600675908.7476861
         },
         {
          "cpu_percent": 98.7,
          "cpu_time": 383.38,
          "name": "Runner_1",
          "real_mem": 515092480,
          "time": 1600675908.8592339
         },
         {
          "cpu_percent": 98.2,
          "cpu_time": 383.49,
          "name": "Runner_1",
          "real_mem": 515092480,
          "time": 1600675908.970905
         },
         {
          "cpu_percent": 1381.3,
          "cpu_time": 385.26,
          "name": "Runner_1",
          "real_mem": 515092480,
          "time": 1600675909.0835884
         },
         {
          "cpu_percent": 98.4,
          "cpu_time": 385.85,
          "name": "Runner_1",
          "real_mem": 515092480,
          "time": 1600675909.195287
         },
         {
          "cpu_percent": 98.7,
          "cpu_time": 385.96,
          "name": "Runner_1",
          "real_mem": 515092480,
          "time": 1600675909.3069088
         },
         {
          "cpu_percent": 98.7,
          "cpu_time": 386.07,
          "name": "Runner_1",
          "real_mem": 515092480,
          "time": 1600675909.4184816
         },
         {
          "cpu_percent": 98.9,
          "cpu_time": 386.18,
          "name": "Runner_1",
          "real_mem": 515092480,
          "time": 1600675909.5298965
         },
         {
          "cpu_percent": 197.5,
          "cpu_time": 386.3,
          "name": "Runner_1",
          "real_mem": 515092480,
          "time": 1600675909.6415477
         },
         {
          "cpu_percent": 98.8,
          "cpu_time": 386.41,
          "name": "Runner_1",
          "real_mem": 515092480,
          "time": 1600675909.7530816
         },
         {
          "cpu_percent": 98.6,
          "cpu_time": 386.52,
          "name": "Runner_1",
          "real_mem": 515092480,
          "time": 1600675909.864713
         },
         {
          "cpu_percent": 98.6,
          "cpu_time": 386.63,
          "name": "Runner_1",
          "real_mem": 515092480,
          "time": 1600675909.9763339
         },
         {
          "cpu_percent": 98.4,
          "cpu_time": 386.74,
          "name": "Runner_1",
          "real_mem": 515092480,
          "time": 1600675910.0887613
         },
         {
          "cpu_percent": 98.5,
          "cpu_time": 386.85,
          "name": "Runner_1",
          "real_mem": 515092480,
          "time": 1600675910.2003536
         },
         {
          "cpu_percent": 0,
          "cpu_time": 386.96,
          "name": "Runner_1",
          "real_mem": 515092480,
          "time": 1600675910.3119082
         },
         {
          "cpu_percent": 98.8,
          "cpu_time": 387.08,
          "name": "Runner_1",
          "real_mem": 515092480,
          "time": 1600675910.4234827
         },
         {
          "cpu_percent": 98.7,
          "cpu_time": 387.19,
          "name": "Runner_1",
          "real_mem": 515092480,
          "time": 1600675910.5349977
         },
         {
          "cpu_percent": 98.6,
          "cpu_time": 387.3,
          "name": "Runner_1",
          "real_mem": 515092480,
          "time": 1600675910.6466346
         },
         {
          "cpu_percent": 98.6,
          "cpu_time": 387.41,
          "name": "Runner_1",
          "real_mem": 515092480,
          "time": 1600675910.7583663
         },
         {
          "cpu_percent": 98.8,
          "cpu_time": 387.52,
          "name": "Runner_1",
          "real_mem": 515092480,
          "time": 1600675910.8698335
         },
         {
          "cpu_percent": 197.3,
          "cpu_time": 387.64,
          "name": "Runner_1",
          "real_mem": 515092480,
          "time": 1600675910.9814165
         },
         {
          "cpu_percent": 98.7,
          "cpu_time": 387.75,
          "name": "Runner_1",
          "real_mem": 515092480,
          "time": 1600675911.0930228
         },
         {
          "cpu_percent": 98.4,
          "cpu_time": 387.86,
          "name": "Runner_1",
          "real_mem": 515092480,
          "time": 1600675911.204786
         },
         {
          "cpu_percent": 98.5,
          "cpu_time": 387.97,
          "name": "Runner_1",
          "real_mem": 515092480,
          "time": 1600675911.3166072
         },
         {
          "cpu_percent": 98.6,
          "cpu_time": 388.08,
          "name": "Runner_1",
          "real_mem": 515092480,
          "time": 1600675911.428421
         },
         {
          "cpu_percent": 98.7,
          "cpu_time": 388.19,
          "name": "Runner_1",
          "real_mem": 515092480,
          "time": 1600675911.5399334
         },
         {
          "cpu_percent": 0,
          "cpu_time": 388.3,
          "name": "Runner_1",
          "real_mem": 515092480,
          "time": 1600675911.6517901
         },
         {
          "cpu_percent": 0,
          "cpu_time": 388.41,
          "name": "Runner_1",
          "real_mem": 515092480,
          "time": 1600675911.7634337
         },
         {
          "cpu_percent": 197.3,
          "cpu_time": 388.53,
          "name": "Runner_1",
          "real_mem": 515092480,
          "time": 1600675911.875002
         },
         {
          "cpu_percent": 98.8,
          "cpu_time": 388.64,
          "name": "Runner_1",
          "real_mem": 515092480,
          "time": 1600675911.9866834
         },
         {
          "cpu_percent": 98.6,
          "cpu_time": 388.75,
          "name": "Runner_1",
          "real_mem": 515092480,
          "time": 1600675912.0984955
         },
         {
          "cpu_percent": 98.7,
          "cpu_time": 388.86,
          "name": "Runner_1",
          "real_mem": 515092480,
          "time": 1600675912.210089
         },
         {
          "cpu_percent": 98.7,
          "cpu_time": 388.97,
          "name": "Runner_1",
          "real_mem": 515092480,
          "time": 1600675912.3217406
         },
         {
          "cpu_percent": 197.3,
          "cpu_time": 389.09,
          "name": "Runner_1",
          "real_mem": 515092480,
          "time": 1600675912.4333835
         },
         {
          "cpu_percent": 98.7,
          "cpu_time": 389.2,
          "name": "Runner_1",
          "real_mem": 515092480,
          "time": 1600675912.5449893
         },
         {
          "cpu_percent": 98.6,
          "cpu_time": 389.31,
          "name": "Runner_1",
          "real_mem": 515092480,
          "time": 1600675912.6566372
         },
         {
          "cpu_percent": 98.8,
          "cpu_time": 389.42,
          "name": "Runner_1",
          "real_mem": 515092480,
          "time": 1600675912.7681148
         },
         {
          "cpu_percent": 98.6,
          "cpu_time": 389.53,
          "name": "Runner_1",
          "real_mem": 515092480,
          "time": 1600675912.8797164
         },
         {
          "cpu_percent": 98.6,
          "cpu_time": 389.64,
          "name": "Runner_1",
          "real_mem": 515092480,
          "time": 1600675912.9912593
         },
         {
          "cpu_percent": 98.7,
          "cpu_time": 389.75,
          "name": "Runner_1",
          "real_mem": 515092480,
          "time": 1600675913.102936
         },
         {
          "cpu_percent": 197.5,
          "cpu_time": 389.87,
          "name": "Runner_1",
          "real_mem": 515092480,
          "time": 1600675913.214396
         },
         {
          "cpu_percent": 98.8,
          "cpu_time": 389.98,
          "name": "Runner_1",
          "real_mem": 515092480,
          "time": 1600675913.3258672
         },
         {
          "cpu_percent": 98.8,
          "cpu_time": 390.09,
          "name": "Runner_1",
          "real_mem": 515092480,
          "time": 1600675913.4373176
         },
         {
          "cpu_percent": 98.6,
          "cpu_time": 390.2,
          "name": "Runner_1",
          "real_mem": 515092480,
          "time": 1600675913.5489645
         },
         {
          "cpu_percent": 98.7,
          "cpu_time": 390.31,
          "name": "Runner_1",
          "real_mem": 515092480,
          "time": 1600675913.660556
         },
         {
          "cpu_percent": 98.6,
          "cpu_time": 390.42,
          "name": "Runner_1",
          "real_mem": 515092480,
          "time": 1600675913.7719452
         },
         {
          "cpu_percent": 0,
          "cpu_time": 390.53,
          "name": "Runner_1",
          "real_mem": 515092480,
          "time": 1600675913.8834038
         },
         {
          "cpu_percent": 197.3,
          "cpu_time": 390.65,
          "name": "Runner_1",
          "real_mem": 515092480,
          "time": 1600675913.9950469
         },
         {
          "cpu_percent": 98.7,
          "cpu_time": 390.76,
          "name": "Runner_1",
          "real_mem": 515092480,
          "time": 1600675914.1066597
         },
         {
          "cpu_percent": 98.7,
          "cpu_time": 390.87,
          "name": "Runner_1",
          "real_mem": 515092480,
          "time": 1600675914.2182426
         },
         {
          "cpu_percent": 98.7,
          "cpu_time": 390.98,
          "name": "Runner_1",
          "real_mem": 515092480,
          "time": 1600675914.3299756
         },
         {
          "cpu_percent": 98.6,
          "cpu_time": 391.09,
          "name": "Runner_1",
          "real_mem": 515092480,
          "time": 1600675914.44171
         },
         {
          "cpu_percent": 197.4,
          "cpu_time": 391.21,
          "name": "Runner_1",
          "real_mem": 515092480,
          "time": 1600675914.553324
         },
         {
          "cpu_percent": 98.7,
          "cpu_time": 391.32,
          "name": "Runner_1",
          "real_mem": 515092480,
          "time": 1600675914.6650023
         },
         {
          "cpu_percent": 98.6,
          "cpu_time": 391.43,
          "name": "Runner_1",
          "real_mem": 515092480,
          "time": 1600675914.7766206
         },
         {
          "cpu_percent": 98.5,
          "cpu_time": 391.54,
          "name": "Runner_1",
          "real_mem": 515092480,
          "time": 1600675914.8882217
         },
         {
          "cpu_percent": 98.6,
          "cpu_time": 391.65,
          "name": "Runner_1",
          "real_mem": 515092480,
          "time": 1600675914.999814
         },
         {
          "cpu_percent": 98.7,
          "cpu_time": 391.76,
          "name": "Runner_1",
          "real_mem": 515092480,
          "time": 1600675915.1113892
         },
         {
          "cpu_percent": 98.7,
          "cpu_time": 391.87,
          "name": "Runner_1",
          "real_mem": 515092480,
          "time": 1600675915.2229507
         },
         {
          "cpu_percent": 197.4,
          "cpu_time": 391.99,
          "name": "Runner_1",
          "real_mem": 515092480,
          "time": 1600675915.3345764
         },
         {
          "cpu_percent": 98.7,
          "cpu_time": 392.1,
          "name": "Runner_1",
          "real_mem": 515092480,
          "time": 1600675915.4459734
         },
         {
          "cpu_percent": 98.8,
          "cpu_time": 392.21,
          "name": "Runner_1",
          "real_mem": 515092480,
          "time": 1600675915.5575235
         },
         {
          "cpu_percent": 99.1,
          "cpu_time": 392.32,
          "name": "Runner_1",
          "real_mem": 515092480,
          "time": 1600675915.669142
         },
         {
          "cpu_percent": 98.8,
          "cpu_time": 392.43,
          "name": "Runner_1",
          "real_mem": 515092480,
          "time": 1600675915.780636
         },
         {
          "cpu_percent": 98.7,
          "cpu_time": 392.54,
          "name": "Runner_1",
          "real_mem": 515092480,
          "time": 1600675915.892288
         },
         {
          "cpu_percent": 0,
          "cpu_time": 392.65,
          "name": "Runner_1",
          "real_mem": 515092480,
          "time": 1600675916.003877
         },
         {
          "cpu_percent": 98.7,
          "cpu_time": 392.77,
          "name": "Runner_1",
          "real_mem": 515092480,
          "time": 1600675916.1155503
         },
         {
          "cpu_percent": 98.3,
          "cpu_time": 392.88,
          "name": "Runner_1",
          "real_mem": 515092480,
          "time": 1600675916.2272944
         },
         {
          "cpu_percent": 98.7,
          "cpu_time": 392.99,
          "name": "Runner_1",
          "real_mem": 515092480,
          "time": 1600675916.338962
         },
         {
          "cpu_percent": 98.7,
          "cpu_time": 393.1,
          "name": "Runner_1",
          "real_mem": 515092480,
          "time": 1600675916.4504967
         },
         {
          "cpu_percent": 98.7,
          "cpu_time": 393.21,
          "name": "Runner_1",
          "real_mem": 515092480,
          "time": 1600675916.5623298
         },
         {
          "cpu_percent": 197.1,
          "cpu_time": 393.33,
          "name": "Runner_1",
          "real_mem": 515092480,
          "time": 1600675916.674017
         },
         {
          "cpu_percent": 98.9,
          "cpu_time": 393.44,
          "name": "Runner_1",
          "real_mem": 515092480,
          "time": 1600675916.7854943
         },
         {
          "cpu_percent": 98.5,
          "cpu_time": 393.55,
          "name": "Runner_1",
          "real_mem": 515092480,
          "time": 1600675916.897131
         },
         {
          "cpu_percent": 98.4,
          "cpu_time": 393.66,
          "name": "Runner_1",
          "real_mem": 515092480,
          "time": 1600675917.0088136
         },
         {
          "cpu_percent": 98.6,
          "cpu_time": 393.77,
          "name": "Runner_1",
          "real_mem": 515092480,
          "time": 1600675917.1207206
         },
         {
          "cpu_percent": 98.6,
          "cpu_time": 393.88,
          "name": "Runner_1",
          "real_mem": 515092480,
          "time": 1600675917.2324917
         },
         {
          "cpu_percent": 0,
          "cpu_time": 393.99,
          "name": "Runner_1",
          "real_mem": 515092480,
          "time": 1600675917.3441157
         },
         {
          "cpu_percent": 98.3,
          "cpu_time": 394.11,
          "name": "Runner_1",
          "real_mem": 515092480,
          "time": 1600675917.4559457
         },
         {
          "cpu_percent": 98.7,
          "cpu_time": 394.22,
          "name": "Runner_1",
          "real_mem": 515092480,
          "time": 1600675917.56753
         },
         {
          "cpu_percent": 98.6,
          "cpu_time": 394.33,
          "name": "Runner_1",
          "real_mem": 515092480,
          "time": 1600675917.6791642
         },
         {
          "cpu_percent": 98.4,
          "cpu_time": 394.44,
          "name": "Runner_1",
          "real_mem": 515092480,
          "time": 1600675917.7908287
         },
         {
          "cpu_percent": 98.5,
          "cpu_time": 394.55,
          "name": "Runner_1",
          "real_mem": 515092480,
          "time": 1600675917.9026952
         },
         {
          "cpu_percent": 197.2,
          "cpu_time": 394.67,
          "name": "Runner_1",
          "real_mem": 515092480,
          "time": 1600675918.014428
         },
         {
          "cpu_percent": 98.3,
          "cpu_time": 394.78,
          "name": "Runner_1",
          "real_mem": 515092480,
          "time": 1600675918.1263638
         },
         {
          "cpu_percent": 98.5,
          "cpu_time": 394.89,
          "name": "Runner_1",
          "real_mem": 515092480,
          "time": 1600675918.2380497
         },
         {
          "cpu_percent": 98.7,
          "cpu_time": 395,
          "name": "Runner_1",
          "real_mem": 515092480,
          "time": 1600675918.349607
         },
         {
          "cpu_percent": 98.6,
          "cpu_time": 395.11,
          "name": "Runner_1",
          "real_mem": 515092480,
          "time": 1600675918.4613757
         },
         {
          "cpu_percent": 197.2,
          "cpu_time": 395.23,
          "name": "Runner_1",
          "real_mem": 515092480,
          "time": 1600675918.57302
         },
         {
          "cpu_percent": 0,
          "cpu_time": 395.33,
          "name": "Runner_1",
          "real_mem": 515092480,
          "time": 1600675918.6846192
         },
         {
          "cpu_percent": 98.7,
          "cpu_time": 395.45,
          "name": "Runner_1",
          "real_mem": 515092480,
          "time": 1600675918.7962437
         },
         {
          "cpu_percent": 98.2,
          "cpu_time": 395.56,
          "name": "Runner_1",
          "real_mem": 515092480,
          "time": 1600675918.9079387
         },
         {
          "cpu_percent": 98.7,
          "cpu_time": 395.67,
          "name": "Runner_1",
          "real_mem": 515092480,
          "time": 1600675919.0196517
         },
         {
          "cpu_percent": 98.4,
          "cpu_time": 395.78,
          "name": "Runner_1",
          "real_mem": 515092480,
          "time": 1600675919.1314948
         },
         {
          "cpu_percent": 98.7,
          "cpu_time": 395.89,
          "name": "Runner_1",
          "real_mem": 515092480,
          "time": 1600675919.2431786
         },
         {
          "cpu_percent": 196.9,
          "cpu_time": 396.01,
          "name": "Runner_1",
          "real_mem": 515092480,
          "time": 1600675919.3549058
         },
         {
          "cpu_percent": 98.6,
          "cpu_time": 396.12,
          "name": "Runner_1",
          "real_mem": 515092480,
          "time": 1600675919.4666731
         },
         {
          "cpu_percent": 98.3,
          "cpu_time": 396.23,
          "name": "Runner_1",
          "real_mem": 515092480,
          "time": 1600675919.578351
         },
         {
          "cpu_percent": 98.6,
          "cpu_time": 396.34,
          "name": "Runner_1",
          "real_mem": 515092480,
          "time": 1600675919.6900566
         },
         {
          "cpu_percent": 98.6,
          "cpu_time": 396.45,
          "name": "Runner_1",
          "real_mem": 515092480,
          "time": 1600675919.8017597
         },
         {
          "cpu_percent": 197.5,
          "cpu_time": 396.57,
          "name": "Runner_1",
          "real_mem": 515092480,
          "time": 1600675919.9134355
         },
         {
          "cpu_percent": 98.6,
          "cpu_time": 396.68,
          "name": "Runner_1",
          "real_mem": 515092480,
          "time": 1600675920.0251298
         },
         {
          "cpu_percent": 98.6,
          "cpu_time": 396.79,
          "name": "Runner_1",
          "real_mem": 515092480,
          "time": 1600675920.1369789
         },
         {
          "cpu_percent": 98.4,
          "cpu_time": 396.9,
          "name": "Runner_1",
          "real_mem": 515092480,
          "time": 1600675920.2488012
         },
         {
          "cpu_percent": 98.5,
          "cpu_time": 397.01,
          "name": "Runner_1",
          "real_mem": 515092480,
          "time": 1600675920.3604755
         },
         {
          "cpu_percent": 98.7,
          "cpu_time": 397.12,
          "name": "Runner_1",
          "real_mem": 515092480,
          "time": 1600675920.472251
         },
         {
          "cpu_percent": 0,
          "cpu_time": 397.23,
          "name": "Runner_1",
          "real_mem": 515092480,
          "time": 1600675920.584033
         },
         {
          "cpu_percent": 98.6,
          "cpu_time": 397.35,
          "name": "Runner_1",
          "real_mem": 515092480,
          "time": 1600675920.6957865
         },
         {
          "cpu_percent": 98.6,
          "cpu_time": 397.46,
          "name": "Runner_1",
          "real_mem": 515092480,
          "time": 1600675920.8075027
         },
         {
          "cpu_percent": 98.6,
          "cpu_time": 397.57,
          "name": "Runner_1",
          "real_mem": 515092480,
          "time": 1600675920.919148
         },
         {
          "cpu_percent": 2066.4,
          "cpu_time": 399.34,
          "name": "Runner_1",
          "real_mem": 515092480,
          "time": 1600675921.0309148
         },
         {
          "cpu_percent": 98.6,
          "cpu_time": 400.67,
          "name": "Runner_1",
          "real_mem": 518807552,
          "time": 1600675921.1426492
         },
         {
          "cpu_percent": 98.7,
          "cpu_time": 400.78,
          "name": "Runner_1",
          "real_mem": 518807552,
          "time": 1600675921.2544122
         },
         {
          "cpu_percent": 197.3,
          "cpu_time": 400.9,
          "name": "Runner_1",
          "real_mem": 518807552,
          "time": 1600675921.3659441
         },
         {
          "cpu_percent": 98.8,
          "cpu_time": 401.01,
          "name": "Runner_1",
          "real_mem": 518807552,
          "time": 1600675921.4774928
         },
         {
          "cpu_percent": 98.8,
          "cpu_time": 401.12,
          "name": "Runner_1",
          "real_mem": 518807552,
          "time": 1600675921.5892303
         },
         {
          "cpu_percent": 98.7,
          "cpu_time": 401.23,
          "name": "Runner_1",
          "real_mem": 518807552,
          "time": 1600675921.700795
         },
         {
          "cpu_percent": 98.8,
          "cpu_time": 401.34,
          "name": "Runner_1",
          "real_mem": 518807552,
          "time": 1600675921.8123052
         },
         {
          "cpu_percent": 98.1,
          "cpu_time": 401.45,
          "name": "Runner_1",
          "real_mem": 518807552,
          "time": 1600675921.924501
         },
         {
          "cpu_percent": 0,
          "cpu_time": 401.56,
          "name": "Runner_1",
          "real_mem": 518807552,
          "time": 1600675922.0362477
         },
         {
          "cpu_percent": 98.6,
          "cpu_time": 401.68,
          "name": "Runner_1",
          "real_mem": 518807552,
          "time": 1600675922.1480346
         },
         {
          "cpu_percent": 98.8,
          "cpu_time": 401.79,
          "name": "Runner_1",
          "real_mem": 518807552,
          "time": 1600675922.2596483
         },
         {
          "cpu_percent": 98.7,
          "cpu_time": 401.9,
          "name": "Runner_1",
          "real_mem": 518807552,
          "time": 1600675922.371148
         },
         {
          "cpu_percent": 98.7,
          "cpu_time": 402.01,
          "name": "Runner_1",
          "real_mem": 518807552,
          "time": 1600675922.4827054
         },
         {
          "cpu_percent": 98.8,
          "cpu_time": 402.12,
          "name": "Runner_1",
          "real_mem": 518807552,
          "time": 1600675922.5941813
         },
         {
          "cpu_percent": 196.2,
          "cpu_time": 402.24,
          "name": "Runner_1",
          "real_mem": 518807552,
          "time": 1600675922.7059484
         },
         {
          "cpu_percent": 98.3,
          "cpu_time": 402.35,
          "name": "Runner_1",
          "real_mem": 518807552,
          "time": 1600675922.818024
         },
         {
          "cpu_percent": 98.7,
          "cpu_time": 402.46,
          "name": "Runner_1",
          "real_mem": 518807552,
          "time": 1600675922.9296918
         },
         {
          "cpu_percent": 98.7,
          "cpu_time": 402.57,
          "name": "Runner_1",
          "real_mem": 518807552,
          "time": 1600675923.0413337
         },
         {
          "cpu_percent": 98.8,
          "cpu_time": 402.68,
          "name": "Runner_1",
          "real_mem": 518807552,
          "time": 1600675923.152842
         },
         {
          "cpu_percent": 98.7,
          "cpu_time": 402.79,
          "name": "Runner_1",
          "real_mem": 518807552,
          "time": 1600675923.2643023
         },
         {
          "cpu_percent": 0,
          "cpu_time": 402.9,
          "name": "Runner_1",
          "real_mem": 518807552,
          "time": 1600675923.3758366
         },
         {
          "cpu_percent": 98.6,
          "cpu_time": 403.02,
          "name": "Runner_1",
          "real_mem": 518807552,
          "time": 1600675923.4872897
         },
         {
          "cpu_percent": 98.7,
          "cpu_time": 403.13,
          "name": "Runner_1",
          "real_mem": 518807552,
          "time": 1600675923.5989766
         },
         {
          "cpu_percent": 98.6,
          "cpu_time": 403.24,
          "name": "Runner_1",
          "real_mem": 518807552,
          "time": 1600675923.710534
         },
         {
          "cpu_percent": 98.7,
          "cpu_time": 403.35,
          "name": "Runner_1",
          "real_mem": 518807552,
          "time": 1600675923.82211
         },
         {
          "cpu_percent": 98.7,
          "cpu_time": 403.46,
          "name": "Runner_1",
          "real_mem": 518807552,
          "time": 1600675923.933669
         },
         {
          "cpu_percent": 197.4,
          "cpu_time": 403.58,
          "name": "Runner_1",
          "real_mem": 518807552,
          "time": 1600675924.0452235
         },
         {
          "cpu_percent": 0,
          "cpu_time": 403.68,
          "name": "Runner_1",
          "real_mem": 518807552,
          "time": 1600675924.1568296
         },
         {
          "cpu_percent": 98.7,
          "cpu_time": 403.8,
          "name": "Runner_1",
          "real_mem": 518807552,
          "time": 1600675924.268324
         },
         {
          "cpu_percent": 98.8,
          "cpu_time": 403.91,
          "name": "Runner_1",
          "real_mem": 518807552,
          "time": 1600675924.3798602
         },
         {
          "cpu_percent": 98.8,
          "cpu_time": 404.02,
          "name": "Runner_1",
          "real_mem": 518807552,
          "time": 1600675924.4915547
         },
         {
          "cpu_percent": 98.5,
          "cpu_time": 404.13,
          "name": "Runner_1",
          "real_mem": 518807552,
          "time": 1600675924.603241
         },
         {
          "cpu_percent": 98.6,
          "cpu_time": 404.24,
          "name": "Runner_1",
          "real_mem": 518807552,
          "time": 1600675924.714773
         },
         {
          "cpu_percent": 197.1,
          "cpu_time": 404.36,
          "name": "Runner_1",
          "real_mem": 518807552,
          "time": 1600675924.8265414
         },
         {
          "cpu_percent": 98.8,
          "cpu_time": 404.47,
          "name": "Runner_1",
          "real_mem": 518807552,
          "time": 1600675924.9380987
         },
         {
          "cpu_percent": 98.6,
          "cpu_time": 404.58,
          "name": "Runner_1",
          "real_mem": 518807552,
          "time": 1600675925.0497346
         },
         {
          "cpu_percent": 98.8,
          "cpu_time": 404.69,
          "name": "Runner_1",
          "real_mem": 518807552,
          "time": 1600675925.1614535
         },
         {
          "cpu_percent": 98.8,
          "cpu_time": 404.8,
          "name": "Runner_1",
          "real_mem": 518807552,
          "time": 1600675925.273113
         },
         {
          "cpu_percent": 196.4,
          "cpu_time": 404.92,
          "name": "Runner_1",
          "real_mem": 518807552,
          "time": 1600675925.3850133
         },
         {
          "cpu_percent": 0,
          "cpu_time": 405.02,
          "name": "Runner_1",
          "real_mem": 518807552,
          "time": 1600675925.4966662
         },
         {
          "cpu_percent": 98.7,
          "cpu_time": 405.14,
          "name": "Runner_1",
          "real_mem": 518807552,
          "time": 1600675925.6082485
         },
         {
          "cpu_percent": 98.3,
          "cpu_time": 405.25,
          "name": "Runner_1",
          "real_mem": 518807552,
          "time": 1600675925.7202284
         },
         {
          "cpu_percent": 98.6,
          "cpu_time": 405.36,
          "name": "Runner_1",
          "real_mem": 518807552,
          "time": 1600675925.8319266
         },
         {
          "cpu_percent": 98.8,
          "cpu_time": 405.47,
          "name": "Runner_1",
          "real_mem": 518807552,
          "time": 1600675925.9434383
         },
         {
          "cpu_percent": 98.1,
          "cpu_time": 405.58,
          "name": "Runner_1",
          "real_mem": 518807552,
          "time": 1600675926.0549927
         },
         {
          "cpu_percent": 197.6,
          "cpu_time": 405.7,
          "name": "Runner_1",
          "real_mem": 518807552,
          "time": 1600675926.1664004
         },
         {
          "cpu_percent": 98.8,
          "cpu_time": 405.81,
          "name": "Runner_1",
          "real_mem": 518807552,
          "time": 1600675926.2780004
         },
         {
          "cpu_percent": 98.8,
          "cpu_time": 405.92,
          "name": "Runner_1",
          "real_mem": 518807552,
          "time": 1600675926.389619
         },
         {
          "cpu_percent": 98.7,
          "cpu_time": 406.03,
          "name": "Runner_1",
          "real_mem": 518807552,
          "time": 1600675926.5011718
         },
         {
          "cpu_percent": 98.6,
          "cpu_time": 406.14,
          "name": "Runner_1",
          "real_mem": 518807552,
          "time": 1600675926.6128702
         },
         {
          "cpu_percent": 98.5,
          "cpu_time": 406.25,
          "name": "Runner_1",
          "real_mem": 518807552,
          "time": 1600675926.7246895
         },
         {
          "cpu_percent": 0,
          "cpu_time": 406.36,
          "name": "Runner_1",
          "real_mem": 518807552,
          "time": 1600675926.8363552
         },
         {
          "cpu_percent": 98.7,
          "cpu_time": 406.48,
          "name": "Runner_1",
          "real_mem": 518807552,
          "time": 1600675926.9479957
         },
         {
          "cpu_percent": 98.7,
          "cpu_time": 406.59,
          "name": "Runner_1",
          "real_mem": 518807552,
          "time": 1600675927.05965
         },
         {
          "cpu_percent": 98.8,
          "cpu_time": 406.7,
          "name": "Runner_1",
          "real_mem": 518807552,
          "time": 1600675927.171156
         },
         {
          "cpu_percent": 98.7,
          "cpu_time": 406.81,
          "name": "Runner_1",
          "real_mem": 518807552,
          "time": 1600675927.282587
         },
         {
          "cpu_percent": 98.7,
          "cpu_time": 406.92,
          "name": "Runner_1",
          "real_mem": 518807552,
          "time": 1600675927.3941948
         },
         {
          "cpu_percent": 197.4,
          "cpu_time": 407.04,
          "name": "Runner_1",
          "real_mem": 518807552,
          "time": 1600675927.505798
         },
         {
          "cpu_percent": 98.7,
          "cpu_time": 407.15,
          "name": "Runner_1",
          "real_mem": 518807552,
          "time": 1600675927.6173394
         },
         {
          "cpu_percent": 98.8,
          "cpu_time": 407.26,
          "name": "Runner_1",
          "real_mem": 518807552,
          "time": 1600675927.7288318
         },
         {
          "cpu_percent": 98.8,
          "cpu_time": 407.37,
          "name": "Runner_1",
          "real_mem": 518807552,
          "time": 1600675927.8402977
         },
         {
          "cpu_percent": 98.5,
          "cpu_time": 407.48,
          "name": "Runner_1",
          "real_mem": 518807552,
          "time": 1600675927.951975
         },
         {
          "cpu_percent": 98.8,
          "cpu_time": 407.59,
          "name": "Runner_1",
          "real_mem": 518807552,
          "time": 1600675928.0635173
         },
         {
          "cpu_percent": 98.7,
          "cpu_time": 407.7,
          "name": "Runner_1",
          "real_mem": 518807552,
          "time": 1600675928.17502
         },
         {
          "cpu_percent": 197,
          "cpu_time": 407.82,
          "name": "Runner_1",
          "real_mem": 518807552,
          "time": 1600675928.2865705
         },
         {
          "cpu_percent": 98.9,
          "cpu_time": 407.93,
          "name": "Runner_1",
          "real_mem": 518807552,
          "time": 1600675928.3980007
         },
         {
          "cpu_percent": 98.8,
          "cpu_time": 408.04,
          "name": "Runner_1",
          "real_mem": 518807552,
          "time": 1600675928.509444
         },
         {
          "cpu_percent": 98.7,
          "cpu_time": 408.15,
          "name": "Runner_1",
          "real_mem": 518807552,
          "time": 1600675928.6210768
         },
         {
          "cpu_percent": 98.7,
          "cpu_time": 408.26,
          "name": "Runner_1",
          "real_mem": 518807552,
          "time": 1600675928.7326112
         },
         {
          "cpu_percent": 98.8,
          "cpu_time": 408.37,
          "name": "Runner_1",
          "real_mem": 518807552,
          "time": 1600675928.8441522
         },
         {
          "cpu_percent": 0,
          "cpu_time": 408.48,
          "name": "Runner_1",
          "real_mem": 518807552,
          "time": 1600675928.955614
         },
         {
          "cpu_percent": 197.8,
          "cpu_time": 408.6,
          "name": "Runner_1",
          "real_mem": 518807552,
          "time": 1600675929.0670142
         },
         {
          "cpu_percent": 98.8,
          "cpu_time": 408.71,
          "name": "Runner_1",
          "real_mem": 518807552,
          "time": 1600675929.1785104
         },
         {
          "cpu_percent": 98.7,
          "cpu_time": 408.82,
          "name": "Runner_1",
          "real_mem": 518807552,
          "time": 1600675929.2901075
         },
         {
          "cpu_percent": 98.6,
          "cpu_time": 408.93,
          "name": "Runner_1",
          "real_mem": 518807552,
          "time": 1600675929.401724
         },
         {
          "cpu_percent": 98.5,
          "cpu_time": 409.04,
          "name": "Runner_1",
          "real_mem": 518807552,
          "time": 1600675929.5137396
         },
         {
          "cpu_percent": 197.1,
          "cpu_time": 409.16,
          "name": "Runner_1",
          "real_mem": 518807552,
          "time": 1600675929.6256013
         },
         {
          "cpu_percent": 98.7,
          "cpu_time": 409.27,
          "name": "Runner_1",
          "real_mem": 518807552,
          "time": 1600675929.7375662
         },
         {
          "cpu_percent": 99.2,
          "cpu_time": 409.38,
          "name": "Runner_1",
          "real_mem": 518807552,
          "time": 1600675929.8491075
         },
         {
          "cpu_percent": 98.7,
          "cpu_time": 409.49,
          "name": "Runner_1",
          "real_mem": 518807552,
          "time": 1600675929.9606266
         },
         {
          "cpu_percent": 98.9,
          "cpu_time": 409.6,
          "name": "Runner_1",
          "real_mem": 518807552,
          "time": 1600675930.0730393
         },
         {
          "cpu_percent": 98.7,
          "cpu_time": 409.71,
          "name": "Runner_1",
          "real_mem": 518807552,
          "time": 1600675930.1845844
         },
         {
          "cpu_percent": 0,
          "cpu_time": 409.82,
          "name": "Runner_1",
          "real_mem": 518807552,
          "time": 1600675930.2962234
         },
         {
          "cpu_percent": 98.6,
          "cpu_time": 409.94,
          "name": "Runner_1",
          "real_mem": 518807552,
          "time": 1600675930.4077764
         },
         {
          "cpu_percent": 98.7,
          "cpu_time": 410.05,
          "name": "Runner_1",
          "real_mem": 518807552,
          "time": 1600675930.5193691
         },
         {
          "cpu_percent": 98.8,
          "cpu_time": 410.16,
          "name": "Runner_1",
          "real_mem": 518807552,
          "time": 1600675930.6308815
         },
         {
          "cpu_percent": 98.6,
          "cpu_time": 410.27,
          "name": "Runner_1",
          "real_mem": 518807552,
          "time": 1600675930.742576
         },
         {
          "cpu_percent": 98.6,
          "cpu_time": 410.38,
          "name": "Runner_1",
          "real_mem": 518807552,
          "time": 1600675930.8542953
         },
         {
          "cpu_percent": 197.3,
          "cpu_time": 410.5,
          "name": "Runner_1",
          "real_mem": 518807552,
          "time": 1600675930.9657986
         },
         {
          "cpu_percent": 98.8,
          "cpu_time": 410.61,
          "name": "Runner_1",
          "real_mem": 518807552,
          "time": 1600675931.0772946
         },
         {
          "cpu_percent": 98.6,
          "cpu_time": 410.72,
          "name": "Runner_1",
          "real_mem": 518807552,
          "time": 1600675931.1889186
         },
         {
          "cpu_percent": 98.8,
          "cpu_time": 410.83,
          "name": "Runner_1",
          "real_mem": 518807552,
          "time": 1600675931.3004239
         },
         {
          "cpu_percent": 98.7,
          "cpu_time": 410.94,
          "name": "Runner_1",
          "real_mem": 518807552,
          "time": 1600675931.4119322
         },
         {
          "cpu_percent": 98.7,
          "cpu_time": 411.05,
          "name": "Runner_1",
          "real_mem": 518807552,
          "time": 1600675931.5235357
         },
         {
          "cpu_percent": 98.4,
          "cpu_time": 411.16,
          "name": "Runner_1",
          "real_mem": 518807552,
          "time": 1600675931.6352518
         },
         {
          "cpu_percent": 98.3,
          "cpu_time": 411.27,
          "name": "Runner_1",
          "real_mem": 518807552,
          "time": 1600675931.7468302
         },
         {
          "cpu_percent": 197.6,
          "cpu_time": 411.39,
          "name": "Runner_1",
          "real_mem": 518807552,
          "time": 1600675931.8583403
         },
         {
          "cpu_percent": 98.7,
          "cpu_time": 411.5,
          "name": "Runner_1",
          "real_mem": 518807552,
          "time": 1600675931.9699259
         },
         {
          "cpu_percent": 98.7,
          "cpu_time": 411.61,
          "name": "Runner_1",
          "real_mem": 518807552,
          "time": 1600675932.081636
         },
         {
          "cpu_percent": 98.7,
          "cpu_time": 411.72,
          "name": "Runner_1",
          "real_mem": 518807552,
          "time": 1600675932.19317
         },
         {
          "cpu_percent": 98.5,
          "cpu_time": 411.83,
          "name": "Runner_1",
          "real_mem": 518807552,
          "time": 1600675932.3048465
         },
         {
          "cpu_percent": 98.6,
          "cpu_time": 411.94,
          "name": "Runner_1",
          "real_mem": 518807552,
          "time": 1600675932.416692
         },
         {
          "cpu_percent": 0,
          "cpu_time": 412.05,
          "name": "Runner_1",
          "real_mem": 518807552,
          "time": 1600675932.5285378
         },
         {
          "cpu_percent": 98.4,
          "cpu_time": 412.17,
          "name": "Runner_1",
          "real_mem": 518807552,
          "time": 1600675932.6403027
         },
         {
          "cpu_percent": 98.6,
          "cpu_time": 412.28,
          "name": "Runner_1",
          "real_mem": 518807552,
          "time": 1600675932.752021
         },
         {
          "cpu_percent": 98.7,
          "cpu_time": 412.39,
          "name": "Runner_1",
          "real_mem": 518807552,
          "time": 1600675932.8636448
         },
         {
          "cpu_percent": 98.4,
          "cpu_time": 412.5,
          "name": "Runner_1",
          "real_mem": 518807552,
          "time": 1600675932.9757786
         },
         {
          "cpu_percent": 0,
          "cpu_time": 412.61,
          "name": "Runner_1",
          "real_mem": 518807552,
          "time": 1600675933.0877664
         },
         {
          "cpu_percent": 98.6,
          "cpu_time": 412.73,
          "name": "Runner_1",
          "real_mem": 518807552,
          "time": 1600675933.1993396
         },
         {
          "cpu_percent": 3354.7,
          "cpu_time": 414.71,
          "name": "Runner_1",
          "real_mem": 518807552,
          "time": 1600675933.3108017
         },
         {
          "cpu_percent": 98.3,
          "cpu_time": 417.15,
          "name": "Runner_1",
          "real_mem": 518807552,
          "time": 1600675933.423029
         },
         {
          "cpu_percent": 98.7,
          "cpu_time": 417.26,
          "name": "Runner_1",
          "real_mem": 518807552,
          "time": 1600675933.5349023
         },
         {
          "cpu_percent": 98.7,
          "cpu_time": 417.37,
          "name": "Runner_1",
          "real_mem": 518807552,
          "time": 1600675933.646555
         },
         {
          "cpu_percent": 98.7,
          "cpu_time": 417.48,
          "name": "Runner_1",
          "real_mem": 518807552,
          "time": 1600675933.758237
         },
         {
          "cpu_percent": 197.3,
          "cpu_time": 417.6,
          "name": "Runner_1",
          "real_mem": 518807552,
          "time": 1600675933.8698266
         },
         {
          "cpu_percent": 98.8,
          "cpu_time": 417.71,
          "name": "Runner_1",
          "real_mem": 518807552,
          "time": 1600675933.9816103
         },
         {
          "cpu_percent": 98.8,
          "cpu_time": 417.82,
          "name": "Runner_1",
          "real_mem": 518807552,
          "time": 1600675934.0930576
         },
         {
          "cpu_percent": 98.6,
          "cpu_time": 417.93,
          "name": "Runner_1",
          "real_mem": 518807552,
          "time": 1600675934.2046428
         },
         {
          "cpu_percent": 98.6,
          "cpu_time": 418.04,
          "name": "Runner_1",
          "real_mem": 518807552,
          "time": 1600675934.316236
         },
         {
          "cpu_percent": 98.4,
          "cpu_time": 418.15,
          "name": "Runner_1",
          "real_mem": 518807552,
          "time": 1600675934.427926
         },
         {
          "cpu_percent": 0,
          "cpu_time": 418.26,
          "name": "Runner_1",
          "real_mem": 518807552,
          "time": 1600675934.539703
         },
         {
          "cpu_percent": 98.7,
          "cpu_time": 418.38,
          "name": "Runner_1",
          "real_mem": 518807552,
          "time": 1600675934.6516075
         },
         {
          "cpu_percent": 98.7,
          "cpu_time": 418.49,
          "name": "Runner_1",
          "real_mem": 518807552,
          "time": 1600675934.7634275
         },
         {
          "cpu_percent": 98.6,
          "cpu_time": 418.6,
          "name": "Runner_1",
          "real_mem": 518807552,
          "time": 1600675934.8751595
         },
         {
          "cpu_percent": 98.8,
          "cpu_time": 418.71,
          "name": "Runner_1",
          "real_mem": 518807552,
          "time": 1600675934.986742
         },
         {
          "cpu_percent": 98.8,
          "cpu_time": 418.82,
          "name": "Runner_1",
          "real_mem": 518807552,
          "time": 1600675935.0982122
         },
         {
          "cpu_percent": 98.5,
          "cpu_time": 418.93,
          "name": "Runner_1",
          "real_mem": 518807552,
          "time": 1600675935.2097943
         },
         {
          "cpu_percent": 197.4,
          "cpu_time": 419.05,
          "name": "Runner_1",
          "real_mem": 518807552,
          "time": 1600675935.321336
         },
         {
          "cpu_percent": 98.6,
          "cpu_time": 419.16,
          "name": "Runner_1",
          "real_mem": 518807552,
          "time": 1600675935.433009
         },
         {
          "cpu_percent": 98.4,
          "cpu_time": 419.27,
          "name": "Runner_1",
          "real_mem": 518807552,
          "time": 1600675935.54471
         },
         {
          "cpu_percent": 98.7,
          "cpu_time": 419.38,
          "name": "Runner_1",
          "real_mem": 518807552,
          "time": 1600675935.6562786
         },
         {
          "cpu_percent": 98.6,
          "cpu_time": 419.49,
          "name": "Runner_1",
          "real_mem": 518807552,
          "time": 1600675935.7678547
         },
         {
          "cpu_percent": 98.7,
          "cpu_time": 419.6,
          "name": "Runner_1",
          "real_mem": 518807552,
          "time": 1600675935.879488
         },
         {
          "cpu_percent": 98.7,
          "cpu_time": 419.71,
          "name": "Runner_1",
          "real_mem": 518807552,
          "time": 1600675935.991047
         },
         {
          "cpu_percent": 196.7,
          "cpu_time": 419.83,
          "name": "Runner_1",
          "real_mem": 518807552,
          "time": 1600675936.1026685
         },
         {
          "cpu_percent": 98.7,
          "cpu_time": 419.94,
          "name": "Runner_1",
          "real_mem": 518807552,
          "time": 1600675936.2141998
         },
         {
          "cpu_percent": 98.5,
          "cpu_time": 420.05,
          "name": "Runner_1",
          "real_mem": 518807552,
          "time": 1600675936.3262382
         },
         {
          "cpu_percent": 98.5,
          "cpu_time": 420.16,
          "name": "Runner_1",
          "real_mem": 518807552,
          "time": 1600675936.438186
         },
         {
          "cpu_percent": 98.2,
          "cpu_time": 420.27,
          "name": "Runner_1",
          "real_mem": 518807552,
          "time": 1600675936.5504744
         },
         {
          "cpu_percent": 197.3,
          "cpu_time": 420.39,
          "name": "Runner_1",
          "real_mem": 518807552,
          "time": 1600675936.662128
         },
         {
          "cpu_percent": 98.8,
          "cpu_time": 420.5,
          "name": "Runner_1",
          "real_mem": 518807552,
          "time": 1600675936.7736464
         },
         {
          "cpu_percent": 98.7,
          "cpu_time": 420.61,
          "name": "Runner_1",
          "real_mem": 518807552,
          "time": 1600675936.885227
         },
         {
          "cpu_percent": 98.8,
          "cpu_time": 420.72,
          "name": "Runner_1",
          "real_mem": 518807552,
          "time": 1600675936.9968145
         },
         {
          "cpu_percent": 98.6,
          "cpu_time": 420.83,
          "name": "Runner_1",
          "real_mem": 518807552,
          "time": 1600675937.1085074
         },
         {
          "cpu_percent": 98.7,
          "cpu_time": 420.94,
          "name": "Runner_1",
          "real_mem": 518807552,
          "time": 1600675937.2200239
         },
         {
          "cpu_percent": 98.4,
          "cpu_time": 421.05,
          "name": "Runner_1",
          "real_mem": 518807552,
          "time": 1600675937.331767
         },
         {
          "cpu_percent": 98.6,
          "cpu_time": 421.17,
          "name": "Runner_1",
          "real_mem": 518807552,
          "time": 1600675937.4434729
         },
         {
          "cpu_percent": 98.4,
          "cpu_time": 421.28,
          "name": "Runner_1",
          "real_mem": 518807552,
          "time": 1600675937.555274
         },
         {
          "cpu_percent": 98.6,
          "cpu_time": 421.39,
          "name": "Runner_1",
          "real_mem": 518807552,
          "time": 1600675937.6670227
         },
         {
          "cpu_percent": 196.4,
          "cpu_time": 421.51,
          "name": "Runner_1",
          "real_mem": 518807552,
          "time": 1600675937.7788413
         },
         {
          "cpu_percent": 98.7,
          "cpu_time": 421.62,
          "name": "Runner_1",
          "real_mem": 518807552,
          "time": 1600675937.8904462
         },
         {
          "cpu_percent": 98.6,
          "cpu_time": 421.73,
          "name": "Runner_1",
          "real_mem": 518807552,
          "time": 1600675938.0021462
         },
         {
          "cpu_percent": 98.7,
          "cpu_time": 421.84,
          "name": "Runner_1",
          "real_mem": 518807552,
          "time": 1600675938.113684
         },
         {
          "cpu_percent": 98.7,
          "cpu_time": 421.95,
          "name": "Runner_1",
          "real_mem": 518807552,
          "time": 1600675938.2253494
         },
         {
          "cpu_percent": 197.3,
          "cpu_time": 422.07,
          "name": "Runner_1",
          "real_mem": 518807552,
          "time": 1600675938.3369503
         },
         {
          "cpu_percent": 0,
          "cpu_time": 422.17,
          "name": "Runner_1",
          "real_mem": 518807552,
          "time": 1600675938.4485507
         },
         {
          "cpu_percent": 98.7,
          "cpu_time": 422.29,
          "name": "Runner_1",
          "real_mem": 518807552,
          "time": 1600675938.560175
         },
         {
          "cpu_percent": 98.5,
          "cpu_time": 422.4,
          "name": "Runner_1",
          "real_mem": 518807552,
          "time": 1600675938.6718574
         },
         {
          "cpu_percent": 98.8,
          "cpu_time": 422.51,
          "name": "Runner_1",
          "real_mem": 518807552,
          "time": 1600675938.783367
         },
         {
          "cpu_percent": 98.6,
          "cpu_time": 422.62,
          "name": "Runner_1",
          "real_mem": 518807552,
          "time": 1600675938.8950398
         },
         {
          "cpu_percent": 98.6,
          "cpu_time": 422.73,
          "name": "Runner_1",
          "real_mem": 518807552,
          "time": 1600675939.0066304
         },
         {
          "cpu_percent": 197.4,
          "cpu_time": 422.85,
          "name": "Runner_1",
          "real_mem": 518807552,
          "time": 1600675939.118221
         },
         {
          "cpu_percent": 98.3,
          "cpu_time": 422.96,
          "name": "Runner_1",
          "real_mem": 518807552,
          "time": 1600675939.2299583
         },
         {
          "cpu_percent": 98.7,
          "cpu_time": 423.07,
          "name": "Runner_1",
          "real_mem": 518807552,
          "time": 1600675939.3416073
         },
         {
          "cpu_percent": 98.8,
          "cpu_time": 423.18,
          "name": "Runner_1",
          "real_mem": 518807552,
          "time": 1600675939.4531906
         },
         {
          "cpu_percent": 98.5,
          "cpu_time": 423.29,
          "name": "Runner_1",
          "real_mem": 518807552,
          "time": 1600675939.564735
         },
         {
          "cpu_percent": 98.6,
          "cpu_time": 423.4,
          "name": "Runner_1",
          "real_mem": 518807552,
          "time": 1600675939.6763172
         },
         {
          "cpu_percent": 98.5,
          "cpu_time": 423.51,
          "name": "Runner_1",
          "real_mem": 518807552,
          "time": 1600675939.7881036
         },
         {
          "cpu_percent": 0,
          "cpu_time": 423.62,
          "name": "Runner_1",
          "real_mem": 518807552,
          "time": 1600675939.8998575
         },
         {
          "cpu_percent": 98.7,
          "cpu_time": 423.74,
          "name": "Runner_1",
          "real_mem": 518807552,
          "time": 1600675940.011552
         },
         {
          "cpu_percent": 98.8,
          "cpu_time": 423.85,
          "name": "Runner_1",
          "real_mem": 518807552,
          "time": 1600675940.1230745
         },
         {
          "cpu_percent": 98.7,
          "cpu_time": 423.96,
          "name": "Runner_1",
          "real_mem": 518807552,
          "time": 1600675940.234837
         },
         {
          "cpu_percent": 98.7,
          "cpu_time": 424.07,
          "name": "Runner_1",
          "real_mem": 518807552,
          "time": 1600675940.346643
         },
         {
          "cpu_percent": 98.5,
          "cpu_time": 424.18,
          "name": "Runner_1",
          "real_mem": 518807552,
          "time": 1600675940.4582896
         },
         {
          "cpu_percent": 197.5,
          "cpu_time": 424.3,
          "name": "Runner_1",
          "real_mem": 518807552,
          "time": 1600675940.5698962
         },
         {
          "cpu_percent": 98.5,
          "cpu_time": 424.41,
          "name": "Runner_1",
          "real_mem": 518807552,
          "time": 1600675940.6815484
         },
         {
          "cpu_percent": 98.6,
          "cpu_time": 424.52,
          "name": "Runner_1",
          "real_mem": 518807552,
          "time": 1600675940.7933095
         },
         {
          "cpu_percent": 98.9,
          "cpu_time": 424.63,
          "name": "Runner_1",
          "real_mem": 518807552,
          "time": 1600675940.9051251
         },
         {
          "cpu_percent": 98.3,
          "cpu_time": 424.74,
          "name": "Runner_1",
          "real_mem": 518807552,
          "time": 1600675941.0168536
         },
         {
          "cpu_percent": 98.7,
          "cpu_time": 424.85,
          "name": "Runner_1",
          "real_mem": 518807552,
          "time": 1600675941.1285033
         },
         {
          "cpu_percent": 0,
          "cpu_time": 424.96,
          "name": "Runner_1",
          "real_mem": 518807552,
          "time": 1600675941.240057
         },
         {
          "cpu_percent": 98.6,
          "cpu_time": 425.08,
          "name": "Runner_1",
          "real_mem": 518807552,
          "time": 1600675941.3519235
         },
         {
          "cpu_percent": 98.7,
          "cpu_time": 425.19,
          "name": "Runner_1",
          "real_mem": 518807552,
          "time": 1600675941.463543
         },
         {
          "cpu_percent": 98.8,
          "cpu_time": 425.3,
          "name": "Runner_1",
          "real_mem": 518807552,
          "time": 1600675941.5750647
         },
         {
          "cpu_percent": 98.6,
          "cpu_time": 425.41,
          "name": "Runner_1",
          "real_mem": 518807552,
          "time": 1600675941.686671
         },
         {
          "cpu_percent": 98.8,
          "cpu_time": 425.52,
          "name": "Runner_1",
          "real_mem": 518807552,
          "time": 1600675941.7982206
         },
         {
          "cpu_percent": 197.4,
          "cpu_time": 425.64,
          "name": "Runner_1",
          "real_mem": 518807552,
          "time": 1600675941.90994
         },
         {
          "cpu_percent": 98.7,
          "cpu_time": 425.75,
          "name": "Runner_1",
          "real_mem": 518807552,
          "time": 1600675942.0215378
         },
         {
          "cpu_percent": 98.5,
          "cpu_time": 425.86,
          "name": "Runner_1",
          "real_mem": 518807552,
          "time": 1600675942.1331992
         },
         {
          "cpu_percent": 98.6,
          "cpu_time": 425.97,
          "name": "Runner_1",
          "real_mem": 518807552,
          "time": 1600675942.2448826
         },
         {
          "cpu_percent": 98.7,
          "cpu_time": 426.08,
          "name": "Runner_1",
          "real_mem": 518807552,
          "time": 1600675942.3564875
         },
         {
          "cpu_percent": 98.6,
          "cpu_time": 426.19,
          "name": "Runner_1",
          "real_mem": 518807552,
          "time": 1600675942.4680448
         },
         {
          "cpu_percent": 0,
          "cpu_time": 426.3,
          "name": "Runner_1",
          "real_mem": 518807552,
          "time": 1600675942.5795496
         },
         {
          "cpu_percent": 98.7,
          "cpu_time": 426.42,
          "name": "Runner_1",
          "real_mem": 518807552,
          "time": 1600675942.6912775
         },
         {
          "cpu_percent": 98.8,
          "cpu_time": 426.53,
          "name": "Runner_1",
          "real_mem": 518807552,
          "time": 1600675942.8029864
         },
         {
          "cpu_percent": 98.7,
          "cpu_time": 426.64,
          "name": "Runner_1",
          "real_mem": 518807552,
          "time": 1600675942.914567
         },
         {
          "cpu_percent": 98.7,
          "cpu_time": 426.75,
          "name": "Runner_1",
          "real_mem": 518807552,
          "time": 1600675943.0262067
         },
         {
          "cpu_percent": 97.6,
          "cpu_time": 426.86,
          "name": "Runner_1",
          "real_mem": 518807552,
          "time": 1600675943.137924
         },
         {
          "cpu_percent": 197,
          "cpu_time": 426.98,
          "name": "Runner_1",
          "real_mem": 518807552,
          "time": 1600675943.249565
         },
         {
          "cpu_percent": 98.8,
          "cpu_time": 427.09,
          "name": "Runner_1",
          "real_mem": 518807552,
          "time": 1600675943.3612294
         },
         {
          "cpu_percent": 98.7,
          "cpu_time": 427.2,
          "name": "Runner_1",
          "real_mem": 518807552,
          "time": 1600675943.472976
         },
         {
          "cpu_percent": 98.4,
          "cpu_time": 427.31,
          "name": "Runner_1",
          "real_mem": 518807552,
          "time": 1600675943.5847232
         },
         {
          "cpu_percent": 98.6,
          "cpu_time": 427.42,
          "name": "Runner_1",
          "real_mem": 518807552,
          "time": 1600675943.696369
         },
         {
          "cpu_percent": 98.5,
          "cpu_time": 427.53,
          "name": "Runner_1",
          "real_mem": 518807552,
          "time": 1600675943.8080533
         },
         {
          "cpu_percent": 98.5,
          "cpu_time": 427.64,
          "name": "Runner_1",
          "real_mem": 518807552,
          "time": 1600675943.919747
         },
         {
          "cpu_percent": 0,
          "cpu_time": 427.75,
          "name": "Runner_1",
          "real_mem": 518807552,
          "time": 1600675944.031279
         },
         {
          "cpu_percent": 196.9,
          "cpu_time": 427.87,
          "name": "Runner_1",
          "real_mem": 518807552,
          "time": 1600675944.1430604
         },
         {
          "cpu_percent": 98.6,
          "cpu_time": 427.98,
          "name": "Runner_1",
          "real_mem": 518807552,
          "time": 1600675944.2547681
         },
         {
          "cpu_percent": 98.7,
          "cpu_time": 428.09,
          "name": "Runner_1",
          "real_mem": 518807552,
          "time": 1600675944.3664904
         },
         {
          "cpu_percent": 98.5,
          "cpu_time": 428.2,
          "name": "Runner_1",
          "real_mem": 518807552,
          "time": 1600675944.4783082
         },
         {
          "cpu_percent": 98.6,
          "cpu_time": 428.31,
          "name": "Runner_1",
          "real_mem": 518807552,
          "time": 1600675944.59
         },
         {
          "cpu_percent": 197,
          "cpu_time": 428.43,
          "name": "Runner_1",
          "real_mem": 518807552,
          "time": 1600675944.701623
         },
         {
          "cpu_percent": 98.9,
          "cpu_time": 428.54,
          "name": "Runner_1",
          "real_mem": 518807552,
          "time": 1600675944.8131623
         },
         {
          "cpu_percent": 98.7,
          "cpu_time": 428.65,
          "name": "Runner_1",
          "real_mem": 518807552,
          "time": 1600675944.9246902
         },
         {
          "cpu_percent": 98.6,
          "cpu_time": 428.76,
          "name": "Runner_1",
          "real_mem": 518807552,
          "time": 1600675945.0362992
         },
         {
          "cpu_percent": 98.8,
          "cpu_time": 428.87,
          "name": "Runner_1",
          "real_mem": 518807552,
          "time": 1600675945.1477854
         },
         {
          "cpu_percent": 98.8,
          "cpu_time": 428.98,
          "name": "Runner_1",
          "real_mem": 518807552,
          "time": 1600675945.2593694
         },
         {
          "cpu_percent": 2264.1,
          "cpu_time": 429.76,
          "name": "Runner_1",
          "real_mem": 518807552,
          "time": 1600675945.3714566
         },
         {
          "cpu_percent": 1574.7,
          "cpu_time": 432.31,
          "name": "Runner_1",
          "real_mem": 518807552,
          "time": 1600675945.483615
         },
         {
          "cpu_percent": 98.8,
          "cpu_time": 432.76,
          "name": "Runner_1",
          "real_mem": 518807552,
          "time": 1600675945.595439
         },
         {
          "cpu_percent": 98.6,
          "cpu_time": 432.87,
          "name": "Runner_1",
          "real_mem": 518807552,
          "time": 1600675945.7071252
         },
         {
          "cpu_percent": 97.7,
          "cpu_time": 432.98,
          "name": "Runner_1",
          "real_mem": 518807552,
          "time": 1600675945.8189707
         },
         {
          "cpu_percent": 98.8,
          "cpu_time": 433.09,
          "name": "Runner_1",
          "real_mem": 518807552,
          "time": 1600675945.9304824
         },
         {
          "cpu_percent": 98.8,
          "cpu_time": 433.2,
          "name": "Runner_1",
          "real_mem": 518807552,
          "time": 1600675946.042181
         },
         {
          "cpu_percent": 197.3,
          "cpu_time": 433.32,
          "name": "Runner_1",
          "real_mem": 518807552,
          "time": 1600675946.1539655
         },
         {
          "cpu_percent": 98.7,
          "cpu_time": 433.43,
          "name": "Runner_1",
          "real_mem": 518807552,
          "time": 1600675946.265598
         },
         {
          "cpu_percent": 98.7,
          "cpu_time": 433.54,
          "name": "Runner_1",
          "real_mem": 518807552,
          "time": 1600675946.3773415
         },
         {
          "cpu_percent": 99,
          "cpu_time": 433.65,
          "name": "Runner_1",
          "real_mem": 518807552,
          "time": 1600675946.4891405
         },
         {
          "cpu_percent": 98.5,
          "cpu_time": 433.76,
          "name": "Runner_1",
          "real_mem": 518807552,
          "time": 1600675946.600738
         },
         {
          "cpu_percent": 98.5,
          "cpu_time": 433.87,
          "name": "Runner_1",
          "real_mem": 518807552,
          "time": 1600675946.7124107
         },
         {
          "cpu_percent": 0,
          "cpu_time": 433.98,
          "name": "Runner_1",
          "real_mem": 518807552,
          "time": 1600675946.8239384
         },
         {
          "cpu_percent": 98.6,
          "cpu_time": 434.1,
          "name": "Runner_1",
          "real_mem": 518807552,
          "time": 1600675946.9356885
         },
         {
          "cpu_percent": 98.5,
          "cpu_time": 434.21,
          "name": "Runner_1",
          "real_mem": 518807552,
          "time": 1600675947.0475054
         },
         {
          "cpu_percent": 98.6,
          "cpu_time": 434.32,
          "name": "Runner_1",
          "real_mem": 518807552,
          "time": 1600675947.1593776
         },
         {
          "cpu_percent": 98.6,
          "cpu_time": 434.43,
          "name": "Runner_1",
          "real_mem": 518807552,
          "time": 1600675947.27095
         },
         {
          "cpu_percent": 98.6,
          "cpu_time": 434.54,
          "name": "Runner_1",
          "real_mem": 518807552,
          "time": 1600675947.3826761
         },
         {
          "cpu_percent": 197.1,
          "cpu_time": 434.66,
          "name": "Runner_1",
          "real_mem": 518807552,
          "time": 1600675947.4944894
         },
         {
          "cpu_percent": 98.5,
          "cpu_time": 434.77,
          "name": "Runner_1",
          "real_mem": 518807552,
          "time": 1600675947.6061826
         },
         {
          "cpu_percent": 98.1,
          "cpu_time": 434.88,
          "name": "Runner_1",
          "real_mem": 518807552,
          "time": 1600675947.7178667
         },
         {
          "cpu_percent": 98.4,
          "cpu_time": 434.99,
          "name": "Runner_1",
          "real_mem": 518807552,
          "time": 1600675947.8297899
         },
         {
          "cpu_percent": 98.7,
          "cpu_time": 435.1,
          "name": "Runner_1",
          "real_mem": 518807552,
          "time": 1600675947.9414065
         },
         {
          "cpu_percent": 198.3,
          "cpu_time": 435.22,
          "name": "Runner_1",
          "real_mem": 518807552,
          "time": 1600675948.0531025
         },
         {
          "cpu_percent": 0,
          "cpu_time": 435.32,
          "name": "Runner_1",
          "real_mem": 518807552,
          "time": 1600675948.164772
         },
         {
          "cpu_percent": 98.7,
          "cpu_time": 435.44,
          "name": "Runner_1",
          "real_mem": 518807552,
          "time": 1600675948.276423
         },
         {
          "cpu_percent": 98.5,
          "cpu_time": 435.55,
          "name": "Runner_1",
          "real_mem": 518807552,
          "time": 1600675948.3881216
         },
         {
          "cpu_percent": 98.7,
          "cpu_time": 435.66,
          "name": "Runner_1",
          "real_mem": 518807552,
          "time": 1600675948.4996617
         },
         {
          "cpu_percent": 98.5,
          "cpu_time": 435.77,
          "name": "Runner_1",
          "real_mem": 518807552,
          "time": 1600675948.61125
         },
         {
          "cpu_percent": 98.5,
          "cpu_time": 435.88,
          "name": "Runner_1",
          "real_mem": 518807552,
          "time": 1600675948.722966
         },
         {
          "cpu_percent": 197.3,
          "cpu_time": 436,
          "name": "Runner_1",
          "real_mem": 518807552,
          "time": 1600675948.8345127
         },
         {
          "cpu_percent": 98.6,
          "cpu_time": 436.11,
          "name": "Runner_1",
          "real_mem": 518807552,
          "time": 1600675948.946275
         },
         {
          "cpu_percent": 98.7,
          "cpu_time": 436.22,
          "name": "Runner_1",
          "real_mem": 518807552,
          "time": 1600675949.0578666
         },
         {
          "cpu_percent": 98.8,
          "cpu_time": 436.33,
          "name": "Runner_1",
          "real_mem": 518807552,
          "time": 1600675949.1693447
         },
         {
          "cpu_percent": 98.5,
          "cpu_time": 436.44,
          "name": "Runner_1",
          "real_mem": 518807552,
          "time": 1600675949.2809825
         },
         {
          "cpu_percent": 98.7,
          "cpu_time": 436.55,
          "name": "Runner_1",
          "real_mem": 518807552,
          "time": 1600675949.3925478
         },
         {
          "cpu_percent": 0,
          "cpu_time": 436.66,
          "name": "Runner_1",
          "real_mem": 518807552,
          "time": 1600675949.5041068
         },
         {
          "cpu_percent": 98.1,
          "cpu_time": 436.78,
          "name": "Runner_1",
          "real_mem": 518807552,
          "time": 1600675949.615824
         },
         {
          "cpu_percent": 98.6,
          "cpu_time": 436.89,
          "name": "Runner_1",
          "real_mem": 518807552,
          "time": 1600675949.727663
         },
         {
          "cpu_percent": 98.6,
          "cpu_time": 437,
          "name": "Runner_1",
          "real_mem": 518807552,
          "time": 1600675949.8393252
         },
         {
          "cpu_percent": 98.5,
          "cpu_time": 437.11,
          "name": "Runner_1",
          "real_mem": 518807552,
          "time": 1600675949.9512935
         },
         {
          "cpu_percent": 98.5,
          "cpu_time": 437.22,
          "name": "Runner_1",
          "real_mem": 518807552,
          "time": 1600675950.0630162
         },
         {
          "cpu_percent": 197.2,
          "cpu_time": 437.34,
          "name": "Runner_1",
          "real_mem": 518807552,
          "time": 1600675950.1746852
         },
         {
          "cpu_percent": 98.6,
          "cpu_time": 437.45,
          "name": "Runner_1",
          "real_mem": 518807552,
          "time": 1600675950.2863743
         },
         {
          "cpu_percent": 98.8,
          "cpu_time": 437.56,
          "name": "Runner_1",
          "real_mem": 518807552,
          "time": 1600675950.3981164
         },
         {
          "cpu_percent": 98.3,
          "cpu_time": 437.67,
          "name": "Runner_1",
          "real_mem": 518807552,
          "time": 1600675950.5098534
         },
         {
          "cpu_percent": 98.4,
          "cpu_time": 437.78,
          "name": "Runner_1",
          "real_mem": 518807552,
          "time": 1600675950.6217763
         },
         {
          "cpu_percent": 197.3,
          "cpu_time": 437.9,
          "name": "Runner_1",
          "real_mem": 518807552,
          "time": 1600675950.733502
         },
         {
          "cpu_percent": 98.7,
          "cpu_time": 438.01,
          "name": "Runner_1",
          "real_mem": 518807552,
          "time": 1600675950.8449867
         },
         {
          "cpu_percent": 98.7,
          "cpu_time": 438.12,
          "name": "Runner_1",
          "real_mem": 518807552,
          "time": 1600675950.9566064
         },
         {
          "cpu_percent": 98.8,
          "cpu_time": 438.23,
          "name": "Runner_1",
          "real_mem": 518807552,
          "time": 1600675951.0682034
         },
         {
          "cpu_percent": 98.6,
          "cpu_time": 438.34,
          "name": "Runner_1",
          "real_mem": 518807552,
          "time": 1600675951.179884
         },
         {
          "cpu_percent": 98.8,
          "cpu_time": 438.45,
          "name": "Runner_1",
          "real_mem": 518807552,
          "time": 1600675951.2914336
         },
         {
          "cpu_percent": 98.7,
          "cpu_time": 438.56,
          "name": "Runner_1",
          "real_mem": 518807552,
          "time": 1600675951.4030433
         },
         {
          "cpu_percent": 197,
          "cpu_time": 438.68,
          "name": "Runner_1",
          "real_mem": 518807552,
          "time": 1600675951.5148227
         },
         {
          "cpu_percent": 98.4,
          "cpu_time": 438.79,
          "name": "Runner_1",
          "real_mem": 518807552,
          "time": 1600675951.62694
         },
         {
          "cpu_percent": 98.8,
          "cpu_time": 438.9,
          "name": "Runner_1",
          "real_mem": 518807552,
          "time": 1600675951.7385235
         },
         {
          "cpu_percent": 98.8,
          "cpu_time": 439.01,
          "name": "Runner_1",
          "real_mem": 518807552,
          "time": 1600675951.850092
         },
         {
          "cpu_percent": 98.2,
          "cpu_time": 439.12,
          "name": "Runner_1",
          "real_mem": 518807552,
          "time": 1600675951.9618084
         },
         {
          "cpu_percent": 197.4,
          "cpu_time": 439.24,
          "name": "Runner_1",
          "real_mem": 518807552,
          "time": 1600675952.0734649
         },
         {
          "cpu_percent": 98.6,
          "cpu_time": 439.35,
          "name": "Runner_1",
          "real_mem": 518807552,
          "time": 1600675952.1852825
         },
         {
          "cpu_percent": 98.6,
          "cpu_time": 439.46,
          "name": "Runner_1",
          "real_mem": 518807552,
          "time": 1600675952.29707
         },
         {
          "cpu_percent": 98.7,
          "cpu_time": 439.57,
          "name": "Runner_1",
          "real_mem": 518807552,
          "time": 1600675952.4086905
         },
         {
          "cpu_percent": 98.6,
          "cpu_time": 439.68,
          "name": "Runner_1",
          "real_mem": 518807552,
          "time": 1600675952.5203497
         },
         {
          "cpu_percent": 98.7,
          "cpu_time": 439.79,
          "name": "Runner_1",
          "real_mem": 518807552,
          "time": 1600675952.6321614
         },
         {
          "cpu_percent": 0,
          "cpu_time": 439.9,
          "name": "Runner_1",
          "real_mem": 518807552,
          "time": 1600675952.7437453
         },
         {
          "cpu_percent": 98.6,
          "cpu_time": 440.02,
          "name": "Runner_1",
          "real_mem": 518807552,
          "time": 1600675952.8553994
         },
         {
          "cpu_percent": 98.7,
          "cpu_time": 440.13,
          "name": "Runner_1",
          "real_mem": 518807552,
          "time": 1600675952.9671438
         },
         {
          "cpu_percent": 98.4,
          "cpu_time": 440.24,
          "name": "Runner_1",
          "real_mem": 518807552,
          "time": 1600675953.0789053
         },
         {
          "cpu_percent": 98.7,
          "cpu_time": 440.35,
          "name": "Runner_1",
          "real_mem": 518807552,
          "time": 1600675953.1904771
         },
         {
          "cpu_percent": 98.7,
          "cpu_time": 440.46,
          "name": "Runner_1",
          "real_mem": 518807552,
          "time": 1600675953.301977
         },
         {
          "cpu_percent": 197.5,
          "cpu_time": 440.58,
          "name": "Runner_1",
          "real_mem": 518807552,
          "time": 1600675953.4136264
         },
         {
          "cpu_percent": 98.7,
          "cpu_time": 440.69,
          "name": "Runner_1",
          "real_mem": 518807552,
          "time": 1600675953.5252461
         },
         {
          "cpu_percent": 98.6,
          "cpu_time": 440.8,
          "name": "Runner_1",
          "real_mem": 518807552,
          "time": 1600675953.636832
         },
         {
          "cpu_percent": 98.8,
          "cpu_time": 440.91,
          "name": "Runner_1",
          "real_mem": 518807552,
          "time": 1600675953.7483811
         },
         {
          "cpu_percent": 98.7,
          "cpu_time": 441.02,
          "name": "Runner_1",
          "real_mem": 518807552,
          "time": 1600675953.8599226
         },
         {
          "cpu_percent": 98.7,
          "cpu_time": 441.13,
          "name": "Runner_1",
          "real_mem": 518807552,
          "time": 1600675953.9714577
         },
         {
          "cpu_percent": 98.7,
          "cpu_time": 441.24,
          "name": "Runner_1",
          "real_mem": 518807552,
          "time": 1600675954.0830002
         },
         {
          "cpu_percent": 98.6,
          "cpu_time": 441.35,
          "name": "Runner_1",
          "real_mem": 518807552,
          "time": 1600675954.1947384
         },
         {
          "cpu_percent": 197.5,
          "cpu_time": 441.47,
          "name": "Runner_1",
          "real_mem": 518807552,
          "time": 1600675954.3064075
         },
         {
          "cpu_percent": 98.7,
          "cpu_time": 441.58,
          "name": "Runner_1",
          "real_mem": 518807552,
          "time": 1600675954.418047
         },
         {
          "cpu_percent": 98.8,
          "cpu_time": 441.69,
          "name": "Runner_1",
          "real_mem": 518807552,
          "time": 1600675954.5295951
         },
         {
          "cpu_percent": 99.1,
          "cpu_time": 441.8,
          "name": "Runner_1",
          "real_mem": 518807552,
          "time": 1600675954.6412046
         },
         {
          "cpu_percent": 98.6,
          "cpu_time": 441.91,
          "name": "Runner_1",
          "real_mem": 518807552,
          "time": 1600675954.7528102
         },
         {
          "cpu_percent": 98.6,
          "cpu_time": 442.02,
          "name": "Runner_1",
          "real_mem": 518807552,
          "time": 1600675954.8643687
         },
         {
          "cpu_percent": 0,
          "cpu_time": 442.13,
          "name": "Runner_1",
          "real_mem": 518807552,
          "time": 1600675954.9761038
         },
         {
          "cpu_percent": 98.7,
          "cpu_time": 442.25,
          "name": "Runner_1",
          "real_mem": 518807552,
          "time": 1600675955.087671
         },
         {
          "cpu_percent": 98.3,
          "cpu_time": 442.36,
          "name": "Runner_1",
          "real_mem": 518807552,
          "time": 1600675955.1991875
         },
         {
          "cpu_percent": 98.7,
          "cpu_time": 442.47,
          "name": "Runner_1",
          "real_mem": 518807552,
          "time": 1600675955.310814
         },
         {
          "cpu_percent": 98.8,
          "cpu_time": 442.58,
          "name": "Runner_1",
          "real_mem": 518807552,
          "time": 1600675955.4223561
         },
         {
          "cpu_percent": 98.6,
          "cpu_time": 442.69,
          "name": "Runner_1",
          "real_mem": 518807552,
          "time": 1600675955.5340047
         },
         {
          "cpu_percent": 98.7,
          "cpu_time": 442.8,
          "name": "Runner_1",
          "real_mem": 518807552,
          "time": 1600675955.645684
         },
         {
          "cpu_percent": 197.2,
          "cpu_time": 442.92,
          "name": "Runner_1",
          "real_mem": 518807552,
          "time": 1600675955.7573435
         },
         {
          "cpu_percent": 98.6,
          "cpu_time": 443.03,
          "name": "Runner_1",
          "real_mem": 518807552,
          "time": 1600675955.8690314
         },
         {
          "cpu_percent": 98.8,
          "cpu_time": 443.14,
          "name": "Runner_1",
          "real_mem": 518807552,
          "time": 1600675955.9805171
         },
         {
          "cpu_percent": 98.8,
          "cpu_time": 443.25,
          "name": "Runner_1",
          "real_mem": 518807552,
          "time": 1600675956.092035
         },
         {
          "cpu_percent": 98.4,
          "cpu_time": 443.36,
          "name": "Runner_1",
          "real_mem": 518807552,
          "time": 1600675956.2037923
         },
         {
          "cpu_percent": 98.8,
          "cpu_time": 443.47,
          "name": "Runner_1",
          "real_mem": 518807552,
          "time": 1600675956.315371
         },
         {
          "cpu_percent": 98.7,
          "cpu_time": 443.58,
          "name": "Runner_1",
          "real_mem": 518807552,
          "time": 1600675956.426928
         },
         {
          "cpu_percent": 197.5,
          "cpu_time": 443.7,
          "name": "Runner_1",
          "real_mem": 518807552,
          "time": 1600675956.5385287
         },
         {
          "cpu_percent": 98.7,
          "cpu_time": 443.81,
          "name": "Runner_1",
          "real_mem": 518807552,
          "time": 1600675956.6499903
         },
         {
          "cpu_percent": 98.6,
          "cpu_time": 443.92,
          "name": "Runner_1",
          "real_mem": 518807552,
          "time": 1600675956.7619026
         },
         {
          "cpu_percent": 98.3,
          "cpu_time": 444.03,
          "name": "Runner_1",
          "real_mem": 518807552,
          "time": 1600675956.87356
         },
         {
          "cpu_percent": 98.7,
          "cpu_time": 444.14,
          "name": "Runner_1",
          "real_mem": 518807552,
          "time": 1600675956.9850965
         },
         {
          "cpu_percent": 196.7,
          "cpu_time": 444.26,
          "name": "Runner_1",
          "real_mem": 518807552,
          "time": 1600675957.0969858
         },
         {
          "cpu_percent": 98.7,
          "cpu_time": 444.36,
          "name": "Runner_1",
          "real_mem": 518807552,
          "time": 1600675957.2085788
         },
         {
          "cpu_percent": 0,
          "cpu_time": 444.47,
          "name": "Runner_1",
          "real_mem": 518807552,
          "time": 1600675957.3202372
         },
         {
          "cpu_percent": 98.2,
          "cpu_time": 444.59,
          "name": "Runner_1",
          "real_mem": 518807552,
          "time": 1600675957.4319317
         },
         {
          "cpu_percent": 98.7,
          "cpu_time": 444.65,
          "name": "Runner_1",
          "real_mem": 401600512,
          "time": 1600675957.5436456
         },
         {
          "cpu_percent": 0,
          "cpu_time": 444.65,
          "name": "Runner_1",
          "real_mem": 401600512,
          "time": 1600675957.6551893
         }
        ],
        "logs": [
         {
          "asctime": "2020-09-21 08:07:01,840",
          "exc_info": null,
          "extra": {},
          "filename": "pipeline.py",
          "funcName": "_log_manager",
          "levelname": "INFO",
          "lineno": 323,
          "message": "writing logs to: /tmp/tmp758s0uot/sparse_encoding",
          "name": "razor.flow.pipeline:sparse_encoding",
          "pathname": "/home/jovyan/work/.default-libs/razor/flow/pipeline.py",
          "process": 386,
          "processName": "MainProcess",
          "thread": 140414449030976,
          "threadName": "MainThread"
         },
         {
          "asctime": "2020-09-21 08:07:02,918",
          "exc_info": null,
          "extra": {},
          "filename": null,
          "funcName": null,
          "levelname": "STDOUT",
          "lineno": null,
          "message": "{'seed': 1, 'paths': {'root': '/home/jovyan/project-space/mvtec_anomaly_detection/grid', 'train_good_dir': 'train/sample_good', 'test_good_dir': 'test/good', 'test_bad_dir': 'test/bad', 'ext': 'png', 'dict_file': '/home/jovyan/project-space/dict.pickle'}, 'model_params': {'batch_size': 1000, 'patch_size': 8, 'stride': 2, 'use_ssim': False, 'num_of_basis': 5, 'alpha': 1.0, 'transform_algorithm': 'omp', 'transform_alpha': 1.0, 'fit_algorithm': 'lars', 'n_iter': 50, 'num_of_nonzero': 3, 'cutoff_edge_width': 2, 'num_of_ch': 896, 'output_npy': False, 'output_path': '/home/jovyan/project-space/visualized_results'}}\n",
          "name": "block.stdout:GetConfigs_1",
          "pathname": null,
          "process": null,
          "processName": null,
          "thread": null,
          "threadName": null
         },
         {
          "asctime": "2020-09-21 08:07:02,922",
          "exc_info": null,
          "extra": {},
          "filename": null,
          "funcName": null,
          "levelname": "STDOUT",
          "lineno": null,
          "message": "In basic preprocessing...\n",
          "name": "block.stdout:Preprocess_1",
          "pathname": null,
          "process": null,
          "processName": null,
          "thread": null,
          "threadName": null
         },
         {
          "asctime": "2020-09-21 08:07:02,923",
          "exc_info": null,
          "extra": {},
          "filename": null,
          "funcName": null,
          "levelname": "STDOUT",
          "lineno": null,
          "message": "Basic preprocessing and Torch conversion DONE...\n",
          "name": "block.stdout:Preprocess_1",
          "pathname": null,
          "process": null,
          "processName": null,
          "thread": null,
          "threadName": null
         },
         {
          "asctime": "2020-09-21 08:07:02,923",
          "exc_info": null,
          "extra": {},
          "filename": null,
          "funcName": null,
          "levelname": "STDOUT",
          "lineno": null,
          "message": "Entering model preprocessing...\n",
          "name": "block.stdout:Preprocess_1",
          "pathname": null,
          "process": null,
          "processName": null,
          "thread": null,
          "threadName": null
         },
         {
          "asctime": "2020-09-21 08:07:05,953",
          "exc_info": null,
          "extra": {},
          "filename": null,
          "funcName": null,
          "levelname": "STDOUT",
          "lineno": null,
          "message": "VGG model feature extraction DONE...\n",
          "name": "block.stdout:Preprocess_1",
          "pathname": null,
          "process": null,
          "processName": null,
          "thread": null,
          "threadName": null
         },
         {
          "asctime": "2020-09-21 08:07:05,954",
          "exc_info": null,
          "extra": {},
          "filename": null,
          "funcName": null,
          "levelname": "STDOUT",
          "lineno": null,
          "message": "Batch Splitting...\n",
          "name": "block.stdout:Preprocess_1",
          "pathname": null,
          "process": null,
          "processName": null,
          "thread": null,
          "threadName": null
         },
         {
          "asctime": "2020-09-21 08:07:06,118",
          "exc_info": null,
          "extra": {},
          "filename": null,
          "funcName": null,
          "levelname": "STDOUT",
          "lineno": null,
          "message": "Batch Splitting DONE...\n",
          "name": "block.stdout:Preprocess_1",
          "pathname": null,
          "process": null,
          "processName": null,
          "thread": null,
          "threadName": null
         },
         {
          "asctime": "2020-09-21 08:07:06,286",
          "exc_info": null,
          "extra": {},
          "filename": null,
          "funcName": null,
          "levelname": "STDOUT",
          "lineno": null,
          "message": "££££££££££££££££££££ /home/jovyan/project-space/mvtec_anomaly_detection/grid\n",
          "name": "block.stdout:Runner_1",
          "pathname": null,
          "process": null,
          "processName": null,
          "thread": null,
          "threadName": null
         },
         {
          "asctime": "2020-09-21 08:07:06,292",
          "exc_info": null,
          "extra": {},
          "filename": null,
          "funcName": null,
          "levelname": "STDOUT",
          "lineno": null,
          "message": "******** /home/jovyan/project-space/mvtec_anomaly_detection/grid/test/good test/good\n",
          "name": "block.stdout:Runner_1",
          "pathname": null,
          "process": null,
          "processName": null,
          "thread": null,
          "threadName": null
         },
         {
          "asctime": "2020-09-21 08:07:06,721",
          "exc_info": null,
          "extra": {},
          "filename": null,
          "funcName": null,
          "levelname": "STDOUT",
          "lineno": null,
          "message": "££££££££££££££££££££ /home/jovyan/project-space/mvtec_anomaly_detection/grid\n",
          "name": "block.stdout:Runner_1",
          "pathname": null,
          "process": null,
          "processName": null,
          "thread": null,
          "threadName": null
         },
         {
          "asctime": "2020-09-21 08:07:06,721",
          "exc_info": null,
          "extra": {},
          "filename": null,
          "funcName": null,
          "levelname": "STDERR",
          "lineno": null,
          "message": "--- Logging error ---\nTraceback (most recent call last):\n  File \"/opt/conda/lib/python3.7/logging/__init__.py\", line 1025, in emit\n    msg = self.format(record)\n  File \"/opt/conda/lib/python3.7/logging/__init__.py\", line 869, in format\n    return fmt.format(record)\n  File \"/opt/conda/lib/python3.7/logging/__init__.py\", line 608, in format\n    record.message = record.getMessage()\n  File \"/opt/conda/lib/python3.7/logging/__init__.py\", line 369, in getMessage\n    msg = msg % self.args\nTypeError: not all arguments converted during string formatting\nCall stack:\n  File \"/opt/conda/lib/python3.7/runpy.py\", line 193, in _run_module_as_main\n    \"__main__\", mod_spec)\n  File \"/opt/conda/lib/python3.7/runpy.py\", line 85, in _run_code\n    exec(code, run_globals)\n  File \"/opt/conda/lib/python3.7/site-packages/ipykernel_launcher.py\", line 16, in <module>\n    app.launch_new_instance()\n  File \"/opt/conda/lib/python3.7/site-packages/traitlets/config/application.py\", line 664, in launch_instance\n    app.start()\n  File \"/opt/conda/lib/python3.7/site-packages/ipykernel/kernelapp.py\", line 583, in start\n    self.io_loop.start()\n  File \"/opt/conda/lib/python3.7/site-packages/tornado/platform/asyncio.py\", line 148, in start\n    self.asyncio_loop.run_forever()\n  File \"/opt/conda/lib/python3.7/asyncio/base_events.py\", line 538, in run_forever\n    self._run_once()\n  File \"/opt/conda/lib/python3.7/asyncio/base_events.py\", line 1782, in _run_once\n    handle._run()\n  File \"/opt/conda/lib/python3.7/asyncio/events.py\", line 88, in _run\n    self._context.run(self._callback, *self._args)\n  File \"/opt/conda/lib/python3.7/site-packages/tornado/ioloop.py\", line 690, in <lambda>\n    lambda f: self._run_callback(functools.partial(callback, future))\n  File \"/opt/conda/lib/python3.7/site-packages/tornado/ioloop.py\", line 743, in _run_callback\n    ret = callback()\n  File \"/opt/conda/lib/python3.7/site-packages/tornado/gen.py\", line 787, in inner\n    self.run()\n  File \"/opt/conda/lib/python3.7/site-packages/tornado/gen.py\", line 748, in run\n    yielded = self.gen.send(value)\n  File \"/opt/conda/lib/python3.7/site-packages/ipykernel/kernelbase.py\", line 361, in process_one\n    yield gen.maybe_future(dispatch(*args))\n  File \"/opt/conda/lib/python3.7/site-packages/tornado/gen.py\", line 209, in wrapper\n    yielded = next(result)\n  File \"/opt/conda/lib/python3.7/site-packages/ipykernel/kernelbase.py\", line 268, in dispatch_shell\n    yield gen.maybe_future(handler(stream, idents, msg))\n  File \"/opt/conda/lib/python3.7/site-packages/tornado/gen.py\", line 209, in wrapper\n    yielded = next(result)\n  File \"/opt/conda/lib/python3.7/site-packages/ipykernel/kernelbase.py\", line 541, in execute_request\n    user_expressions, allow_stdin,\n  File \"/opt/conda/lib/python3.7/site-packages/tornado/gen.py\", line 209, in wrapper\n    yielded = next(result)\n  File \"/opt/conda/lib/python3.7/site-packages/ipykernel/ipkernel.py\", line 300, in do_execute\n    res = shell.run_cell(code, store_history=store_history, silent=silent)\n  File \"/opt/conda/lib/python3.7/site-packages/ipykernel/zmqshell.py\", line 536, in run_cell\n    return super(ZMQInteractiveShell, self).run_cell(*args, **kwargs)\n  File \"/opt/conda/lib/python3.7/site-packages/IPython/core/interactiveshell.py\", line 2858, in run_cell\n    raw_cell, store_history, silent, shell_futures)\n  File \"/opt/conda/lib/python3.7/site-packages/IPython/core/interactiveshell.py\", line 2886, in _run_cell\n    return runner(coro)\n  File \"/opt/conda/lib/python3.7/site-packages/IPython/core/async_helpers.py\", line 68, in _pseudo_sync_runner\n    coro.send(None)\n  File \"/opt/conda/lib/python3.7/site-packages/IPython/core/interactiveshell.py\", line 3063, in run_cell_async\n    interactivity=interactivity, compiler=compiler, result=result)\n  File \"/opt/conda/lib/python3.7/site-packages/IPython/core/interactiveshell.py\", line 3254, in run_ast_nodes\n    if (await self.run_code(code, result,  async_=asy)):\n  File \"/opt/conda/lib/python3.7/site-packages/IPython/core/interactiveshell.py\", line 3331, in run_code\n    exec(code_obj, self.user_global_ns, self.user_ns)\n  File \"<ipython-input-14-af16cb747152>\", line 1, in <module>\n    p.execute()\n  File \"/home/jovyan/work/.default-libs/razor/flow/pipeline.py\", line 574, in execute\n    self.pipeline_process.start()\n  File \"/opt/conda/lib/python3.7/multiprocessing/process.py\", line 112, in start\n    self._popen = self._Popen(self)\n  File \"/opt/conda/lib/python3.7/multiprocessing/context.py\", line 223, in _Popen\n    return _default_context.get_context().Process._Popen(process_obj)\n  File \"/opt/conda/lib/python3.7/multiprocessing/context.py\", line 277, in _Popen\n    return Popen(process_obj)\n  File \"/opt/conda/lib/python3.7/multiprocessing/popen_fork.py\", line 20, in __init__\n    self._launch(process_obj)\n  File \"/opt/conda/lib/python3.7/multiprocessing/popen_fork.py\", line 74, in _launch\n    code = process_obj._bootstrap()\n  File \"/opt/conda/lib/python3.7/multiprocessing/process.py\", line 297, in _bootstrap\n    self.run()\n  File \"/opt/conda/lib/python3.7/multiprocessing/process.py\", line 99, in run\n    self._target(*self._args, **self._kwargs)\n  File \"/home/jovyan/work/.default-libs/razor/flow/pipeline.py\", line 440, in _execute\n    self.name, manager_port, log_addr, log_level\n  File \"/home/jovyan/work/.default-libs/razor/flow/blocks.py\", line 91, in execute\n    return self._execute(*args, **kwargs)\n  File \"/home/jovyan/work/.default-libs/razor/flow/executors.py\", line 288, in _execute\n    process.start()\n  File \"/opt/conda/lib/python3.7/multiprocessing/process.py\", line 112, in start\n    self._popen = self._Popen(self)\n  File \"/opt/conda/lib/python3.7/multiprocessing/context.py\", line 223, in _Popen\n    return _default_context.get_context().Process._Popen(process_obj)\n  File \"/opt/conda/lib/python3.7/multiprocessing/context.py\", line 277, in _Popen\n    return Popen(process_obj)\n  File \"/opt/conda/lib/python3.7/multiprocessing/popen_fork.py\", line 20, in __init__\n    self._launch(process_obj)\n  File \"/opt/conda/lib/python3.7/multiprocessing/popen_fork.py\", line 74, in _launch\n    code = process_obj._bootstrap()\n  File \"/opt/conda/lib/python3.7/multiprocessing/process.py\", line 297, in _bootstrap\n    self.run()\n  File \"/opt/conda/lib/python3.7/multiprocessing/process.py\", line 99, in run\n    self._target(*self._args, **self._kwargs)\n  File \"/home/jovyan/work/.default-libs/razor/flow/executors.py\", line 201, in _execute_\n    self._init_execution(exec_event)\n  File \"/home/jovyan/work/.default-libs/razor/flow/executors.py\", line 160, in _init_execution\n    self.block.run()\n  File \"<ipython-input-10-0a271c891a34>\", line 393, in run\n    preprocessor=preprocesses,\n  File \"<ipython-input-2-f49c3e7eac3d>\", line 22, in __init__\n    logging.info(\"£\"*20, root)\nMessage: '££££££££££££££££££££'\nArguments: ('/home/jovyan/project-space/mvtec_anomaly_detection/grid',)\n--- Logging error ---\nTraceback (most recent call last):\n  File \"/opt/conda/lib/python3.7/logging/__init__.py\", line 1025, in emit\n    msg = self.format(record)\n  File \"/opt/conda/lib/python3.7/logging/__init__.py\", line 869, in format\n    return fmt.format(record)\n  File \"/opt/conda/lib/python3.7/logging/__init__.py\", line 608, in format\n    record.message = record.getMessage()\n  File \"/opt/conda/lib/python3.7/logging/__init__.py\", line 369, in getMessage\n    msg = msg % self.args\nTypeError: not all arguments converted during string formatting\nCall stack:\n  File \"/opt/conda/lib/python3.7/runpy.py\", line 193, in _run_module_as_main\n    \"__main__\", mod_spec)\n  File \"/opt/conda/lib/python3.7/runpy.py\", line 85, in _run_code\n    exec(code, run_globals)\n  File \"/opt/conda/lib/python3.7/site-packages/ipykernel_launcher.py\", line 16, in <module>\n    app.launch_new_instance()\n  File \"/opt/conda/lib/python3.7/site-packages/traitlets/config/application.py\", line 664, in launch_instance\n    app.start()\n  File \"/opt/conda/lib/python3.7/site-packages/ipykernel/kernelapp.py\", line 583, in start\n    self.io_loop.start()\n  File \"/opt/conda/lib/python3.7/site-packages/tornado/platform/asyncio.py\", line 148, in start\n    self.asyncio_loop.run_forever()\n  File \"/opt/conda/lib/python3.7/asyncio/base_events.py\", line 538, in run_forever\n    self._run_once()\n  File \"/opt/conda/lib/python3.7/asyncio/base_events.py\", line 1782, in _run_once\n    handle._run()\n  File \"/opt/conda/lib/python3.7/asyncio/events.py\", line 88, in _run\n    self._context.run(self._callback, *self._args)\n  File \"/opt/conda/lib/python3.7/site-packages/tornado/ioloop.py\", line 690, in <lambda>\n    lambda f: self._run_callback(functools.partial(callback, future))\n  File \"/opt/conda/lib/python3.7/site-packages/tornado/ioloop.py\", line 743, in _run_callback\n    ret = callback()\n  File \"/opt/conda/lib/python3.7/site-packages/tornado/gen.py\", line 787, in inner\n    self.run()\n  File \"/opt/conda/lib/python3.7/site-packages/tornado/gen.py\", line 748, in run\n    yielded = self.gen.send(value)\n  File \"/opt/conda/lib/python3.7/site-packages/ipykernel/kernelbase.py\", line 361, in process_one\n    yield gen.maybe_future(dispatch(*args))\n  File \"/opt/conda/lib/python3.7/site-packages/tornado/gen.py\", line 209, in wrapper\n    yielded = next(result)\n  File \"/opt/conda/lib/python3.7/site-packages/ipykernel/kernelbase.py\", line 268, in dispatch_shell\n    yield gen.maybe_future(handler(stream, idents, msg))\n  File \"/opt/conda/lib/python3.7/site-packages/tornado/gen.py\", line 209, in wrapper\n    yielded = next(result)\n  File \"/opt/conda/lib/python3.7/site-packages/ipykernel/kernelbase.py\", line 541, in execute_request\n    user_expressions, allow_stdin,\n  File \"/opt/conda/lib/python3.7/site-packages/tornado/gen.py\", line 209, in wrapper\n    yielded = next(result)\n  File \"/opt/conda/lib/python3.7/site-packages/ipykernel/ipkernel.py\", line 300, in do_execute\n    res = shell.run_cell(code, store_history=store_history, silent=silent)\n  File \"/opt/conda/lib/python3.7/site-packages/ipykernel/zmqshell.py\", line 536, in run_cell\n    return super(ZMQInteractiveShell, self).run_cell(*args, **kwargs)\n  File \"/opt/conda/lib/python3.7/site-packages/IPython/core/interactiveshell.py\", line 2858, in run_cell\n    raw_cell, store_history, silent, shell_futures)\n  File \"/opt/conda/lib/python3.7/site-packages/IPython/core/interactiveshell.py\", line 2886, in _run_cell\n    return runner(coro)\n  File \"/opt/conda/lib/python3.7/site-packages/IPython/core/async_helpers.py\", line 68, in _pseudo_sync_runner\n    coro.send(None)\n  File \"/opt/conda/lib/python3.7/site-packages/IPython/core/interactiveshell.py\", line 3063, in run_cell_async\n    interactivity=interactivity, compiler=compiler, result=result)\n  File \"/opt/conda/lib/python3.7/site-packages/IPython/core/interactiveshell.py\", line 3254, in run_ast_nodes\n    if (await self.run_code(code, result,  async_=asy)):\n  File \"/opt/conda/lib/python3.7/site-packages/IPython/core/interactiveshell.py\", line 3331, in run_code\n    exec(code_obj, self.user_global_ns, self.user_ns)\n  File \"<ipython-input-14-af16cb747152>\", line 1, in <module>\n    p.execute()\n  File \"/home/jovyan/work/.default-libs/razor/flow/pipeline.py\", line 574, in execute\n    self.pipeline_process.start()\n  File \"/opt/conda/lib/python3.7/multiprocessing/process.py\", line 112, in start\n    self._popen = self._Popen(self)\n  File \"/opt/conda/lib/python3.7/multiprocessing/context.py\", line 223, in _Popen\n    return _default_context.get_context().Process._Popen(process_obj)\n  File \"/opt/conda/lib/python3.7/multiprocessing/context.py\", line 277, in _Popen\n    return Popen(process_obj)\n  File \"/opt/conda/lib/python3.7/multiprocessing/popen_fork.py\", line 20, in __init__\n    self._launch(process_obj)\n  File \"/opt/conda/lib/python3.7/multiprocessing/popen_fork.py\", line 74, in _launch\n    code = process_obj._bootstrap()\n  File \"/opt/conda/lib/python3.7/multiprocessing/process.py\", line 297, in _bootstrap\n    self.run()\n  File \"/opt/conda/lib/python3.7/multiprocessing/process.py\", line 99, in run\n    self._target(*self._args, **self._kwargs)\n  File \"/home/jovyan/work/.default-libs/razor/flow/pipeline.py\", line 440, in _execute\n    self.name, manager_port, log_addr, log_level\n  File \"/home/jovyan/work/.default-libs/razor/flow/blocks.py\", line 91, in execute\n    return self._execute(*args, **kwargs)\n  File \"/home/jovyan/work/.default-libs/razor/flow/executors.py\", line 288, in _execute\n    process.start()\n  File \"/opt/conda/lib/python3.7/multiprocessing/process.py\", line 112, in start\n    self._popen = self._Popen(self)\n  File \"/opt/conda/lib/python3.7/multiprocessing/context.py\", line 223, in _Popen\n    return _default_context.get_context().Process._Popen(process_obj)\n  File \"/opt/conda/lib/python3.7/multiprocessing/context.py\", line 277, in _Popen\n    return Popen(process_obj)\n  File \"/opt/conda/lib/python3.7/multiprocessing/popen_fork.py\", line 20, in __init__\n    self._launch(process_obj)\n  File \"/opt/conda/lib/python3.7/multiprocessing/popen_fork.py\", line 74, in _launch\n    code = process_obj._bootstrap()\n  File \"/opt/conda/lib/python3.7/multiprocessing/process.py\", line 297, in _bootstrap\n    self.run()\n  File \"/opt/conda/lib/python3.7/multiprocessing/process.py\", line 99, in run\n    self._target(*self._args, **self._kwargs)\n  File \"/home/jovyan/work/.default-libs/razor/flow/executors.py\", line 201, in _execute_\n    self._init_execution(exec_event)\n  File \"/home/jovyan/work/.default-libs/razor/flow/executors.py\", line 160, in _init_execution\n    self.block.run()\n  File \"<ipython-input-10-0a271c891a34>\", line 393, in run\n    preprocessor=preprocesses,\n  File \"<ipython-input-2-f49c3e7eac3d>\", line 40, in __init__\n    logging.info('********', dir_path, dir_name)\nMessage: '********'\nArguments: ('/home/jovyan/project-space/mvtec_anomaly_detection/grid/test/good', 'test/good')\n\nloading images:   0%|          | 0/21 [00:00<?, ?it/s]\nloading images:  29%|##8       | 6/21 [00:00<00:00, 50.72it/s]\nloading images:  57%|#####7    | 12/21 [00:00<00:00, 51.23it/s]\nloading images:  81%|########  | 17/21 [00:00<00:00, 50.48it/s]\nloading images: 100%|##########| 21/21 [00:00<00:00, 49.30it/s]\n",
          "name": "block.stdout:Runner_1",
          "pathname": null,
          "process": null,
          "processName": null,
          "thread": null,
          "threadName": null
         },
         {
          "asctime": "2020-09-21 08:07:06,722",
          "exc_info": null,
          "extra": {},
          "filename": null,
          "funcName": null,
          "levelname": "STDOUT",
          "lineno": null,
          "message": "******** /home/jovyan/project-space/mvtec_anomaly_detection/grid/test/bad test/bad\n",
          "name": "block.stdout:Runner_1",
          "pathname": null,
          "process": null,
          "processName": null,
          "thread": null,
          "threadName": null
         },
         {
          "asctime": "2020-09-21 08:07:06,863",
          "exc_info": null,
          "extra": {},
          "filename": null,
          "funcName": null,
          "levelname": "STDERR",
          "lineno": null,
          "message": "--- Logging error ---\nTraceback (most recent call last):\n  File \"/opt/conda/lib/python3.7/logging/__init__.py\", line 1025, in emit\n    msg = self.format(record)\n  File \"/opt/conda/lib/python3.7/logging/__init__.py\", line 869, in format\n    return fmt.format(record)\n  File \"/opt/conda/lib/python3.7/logging/__init__.py\", line 608, in format\n    record.message = record.getMessage()\n  File \"/opt/conda/lib/python3.7/logging/__init__.py\", line 369, in getMessage\n    msg = msg % self.args\nTypeError: not all arguments converted during string formatting\nCall stack:\n  File \"/opt/conda/lib/python3.7/runpy.py\", line 193, in _run_module_as_main\n    \"__main__\", mod_spec)\n  File \"/opt/conda/lib/python3.7/runpy.py\", line 85, in _run_code\n    exec(code, run_globals)\n  File \"/opt/conda/lib/python3.7/site-packages/ipykernel_launcher.py\", line 16, in <module>\n    app.launch_new_instance()\n  File \"/opt/conda/lib/python3.7/site-packages/traitlets/config/application.py\", line 664, in launch_instance\n    app.start()\n  File \"/opt/conda/lib/python3.7/site-packages/ipykernel/kernelapp.py\", line 583, in start\n    self.io_loop.start()\n  File \"/opt/conda/lib/python3.7/site-packages/tornado/platform/asyncio.py\", line 148, in start\n    self.asyncio_loop.run_forever()\n  File \"/opt/conda/lib/python3.7/asyncio/base_events.py\", line 538, in run_forever\n    self._run_once()\n  File \"/opt/conda/lib/python3.7/asyncio/base_events.py\", line 1782, in _run_once\n    handle._run()\n  File \"/opt/conda/lib/python3.7/asyncio/events.py\", line 88, in _run\n    self._context.run(self._callback, *self._args)\n  File \"/opt/conda/lib/python3.7/site-packages/tornado/ioloop.py\", line 690, in <lambda>\n    lambda f: self._run_callback(functools.partial(callback, future))\n  File \"/opt/conda/lib/python3.7/site-packages/tornado/ioloop.py\", line 743, in _run_callback\n    ret = callback()\n  File \"/opt/conda/lib/python3.7/site-packages/tornado/gen.py\", line 787, in inner\n    self.run()\n  File \"/opt/conda/lib/python3.7/site-packages/tornado/gen.py\", line 748, in run\n    yielded = self.gen.send(value)\n  File \"/opt/conda/lib/python3.7/site-packages/ipykernel/kernelbase.py\", line 361, in process_one\n    yield gen.maybe_future(dispatch(*args))\n  File \"/opt/conda/lib/python3.7/site-packages/tornado/gen.py\", line 209, in wrapper\n    yielded = next(result)\n  File \"/opt/conda/lib/python3.7/site-packages/ipykernel/kernelbase.py\", line 268, in dispatch_shell\n    yield gen.maybe_future(handler(stream, idents, msg))\n  File \"/opt/conda/lib/python3.7/site-packages/tornado/gen.py\", line 209, in wrapper\n    yielded = next(result)\n  File \"/opt/conda/lib/python3.7/site-packages/ipykernel/kernelbase.py\", line 541, in execute_request\n    user_expressions, allow_stdin,\n  File \"/opt/conda/lib/python3.7/site-packages/tornado/gen.py\", line 209, in wrapper\n    yielded = next(result)\n  File \"/opt/conda/lib/python3.7/site-packages/ipykernel/ipkernel.py\", line 300, in do_execute\n    res = shell.run_cell(code, store_history=store_history, silent=silent)\n  File \"/opt/conda/lib/python3.7/site-packages/ipykernel/zmqshell.py\", line 536, in run_cell\n    return super(ZMQInteractiveShell, self).run_cell(*args, **kwargs)\n  File \"/opt/conda/lib/python3.7/site-packages/IPython/core/interactiveshell.py\", line 2858, in run_cell\n    raw_cell, store_history, silent, shell_futures)\n  File \"/opt/conda/lib/python3.7/site-packages/IPython/core/interactiveshell.py\", line 2886, in _run_cell\n    return runner(coro)\n  File \"/opt/conda/lib/python3.7/site-packages/IPython/core/async_helpers.py\", line 68, in _pseudo_sync_runner\n    coro.send(None)\n  File \"/opt/conda/lib/python3.7/site-packages/IPython/core/interactiveshell.py\", line 3063, in run_cell_async\n    interactivity=interactivity, compiler=compiler, result=result)\n  File \"/opt/conda/lib/python3.7/site-packages/IPython/core/interactiveshell.py\", line 3254, in run_ast_nodes\n    if (await self.run_code(code, result,  async_=asy)):\n  File \"/opt/conda/lib/python3.7/site-packages/IPython/core/interactiveshell.py\", line 3331, in run_code\n    exec(code_obj, self.user_global_ns, self.user_ns)\n  File \"<ipython-input-14-af16cb747152>\", line 1, in <module>\n    p.execute()\n  File \"/home/jovyan/work/.default-libs/razor/flow/pipeline.py\", line 574, in execute\n    self.pipeline_process.start()\n  File \"/opt/conda/lib/python3.7/multiprocessing/process.py\", line 112, in start\n    self._popen = self._Popen(self)\n  File \"/opt/conda/lib/python3.7/multiprocessing/context.py\", line 223, in _Popen\n    return _default_context.get_context().Process._Popen(process_obj)\n  File \"/opt/conda/lib/python3.7/multiprocessing/context.py\", line 277, in _Popen\n    return Popen(process_obj)\n  File \"/opt/conda/lib/python3.7/multiprocessing/popen_fork.py\", line 20, in __init__\n    self._launch(process_obj)\n  File \"/opt/conda/lib/python3.7/multiprocessing/popen_fork.py\", line 74, in _launch\n    code = process_obj._bootstrap()\n  File \"/opt/conda/lib/python3.7/multiprocessing/process.py\", line 297, in _bootstrap\n    self.run()\n  File \"/opt/conda/lib/python3.7/multiprocessing/process.py\", line 99, in run\n    self._target(*self._args, **self._kwargs)\n  File \"/home/jovyan/work/.default-libs/razor/flow/pipeline.py\", line 440, in _execute\n    self.name, manager_port, log_addr, log_level\n  File \"/home/jovyan/work/.default-libs/razor/flow/blocks.py\", line 91, in execute\n    return self._execute(*args, **kwargs)\n  File \"/home/jovyan/work/.default-libs/razor/flow/executors.py\", line 288, in _execute\n    process.start()\n  File \"/opt/conda/lib/python3.7/multiprocessing/process.py\", line 112, in start\n    self._popen = self._Popen(self)\n  File \"/opt/conda/lib/python3.7/multiprocessing/context.py\", line 223, in _Popen\n    return _default_context.get_context().Process._Popen(process_obj)\n  File \"/opt/conda/lib/python3.7/multiprocessing/context.py\", line 277, in _Popen\n    return Popen(process_obj)\n  File \"/opt/conda/lib/python3.7/multiprocessing/popen_fork.py\", line 20, in __init__\n    self._launch(process_obj)\n  File \"/opt/conda/lib/python3.7/multiprocessing/popen_fork.py\", line 74, in _launch\n    code = process_obj._bootstrap()\n  File \"/opt/conda/lib/python3.7/multiprocessing/process.py\", line 297, in _bootstrap\n    self.run()\n  File \"/opt/conda/lib/python3.7/multiprocessing/process.py\", line 99, in run\n    self._target(*self._args, **self._kwargs)\n  File \"/home/jovyan/work/.default-libs/razor/flow/executors.py\", line 201, in _execute_\n    self._init_execution(exec_event)\n  File \"/home/jovyan/work/.default-libs/razor/flow/executors.py\", line 160, in _init_execution\n    self.block.run()\n  File \"<ipython-input-10-0a271c891a34>\", line 399, in run\n    preprocessor=preprocesses,\n  File \"<ipython-input-2-f49c3e7eac3d>\", line 22, in __init__\n    logging.info(\"£\"*20, root)\nMessage: '££££££££££££££££££££'\nArguments: ('/home/jovyan/project-space/mvtec_anomaly_detection/grid',)\n--- Logging error ---\nTraceback (most recent call last):\n  File \"/opt/conda/lib/python3.7/logging/__init__.py\", line 1025, in emit\n    msg = self.format(record)\n  File \"/opt/conda/lib/python3.7/logging/__init__.py\", line 869, in format\n    return fmt.format(record)\n  File \"/opt/conda/lib/python3.7/logging/__init__.py\", line 608, in format\n    record.message = record.getMessage()\n  File \"/opt/conda/lib/python3.7/logging/__init__.py\", line 369, in getMessage\n    msg = msg % self.args\nTypeError: not all arguments converted during string formatting\nCall stack:\n  File \"/opt/conda/lib/python3.7/runpy.py\", line 193, in _run_module_as_main\n    \"__main__\", mod_spec)\n  File \"/opt/conda/lib/python3.7/runpy.py\", line 85, in _run_code\n    exec(code, run_globals)\n  File \"/opt/conda/lib/python3.7/site-packages/ipykernel_launcher.py\", line 16, in <module>\n    app.launch_new_instance()\n  File \"/opt/conda/lib/python3.7/site-packages/traitlets/config/application.py\", line 664, in launch_instance\n    app.start()\n  File \"/opt/conda/lib/python3.7/site-packages/ipykernel/kernelapp.py\", line 583, in start\n    self.io_loop.start()\n  File \"/opt/conda/lib/python3.7/site-packages/tornado/platform/asyncio.py\", line 148, in start\n    self.asyncio_loop.run_forever()\n  File \"/opt/conda/lib/python3.7/asyncio/base_events.py\", line 538, in run_forever\n    self._run_once()\n  File \"/opt/conda/lib/python3.7/asyncio/base_events.py\", line 1782, in _run_once\n    handle._run()\n  File \"/opt/conda/lib/python3.7/asyncio/events.py\", line 88, in _run\n    self._context.run(self._callback, *self._args)\n  File \"/opt/conda/lib/python3.7/site-packages/tornado/ioloop.py\", line 690, in <lambda>\n    lambda f: self._run_callback(functools.partial(callback, future))\n  File \"/opt/conda/lib/python3.7/site-packages/tornado/ioloop.py\", line 743, in _run_callback\n    ret = callback()\n  File \"/opt/conda/lib/python3.7/site-packages/tornado/gen.py\", line 787, in inner\n    self.run()\n  File \"/opt/conda/lib/python3.7/site-packages/tornado/gen.py\", line 748, in run\n    yielded = self.gen.send(value)\n  File \"/opt/conda/lib/python3.7/site-packages/ipykernel/kernelbase.py\", line 361, in process_one\n    yield gen.maybe_future(dispatch(*args))\n  File \"/opt/conda/lib/python3.7/site-packages/tornado/gen.py\", line 209, in wrapper\n    yielded = next(result)\n  File \"/opt/conda/lib/python3.7/site-packages/ipykernel/kernelbase.py\", line 268, in dispatch_shell\n    yield gen.maybe_future(handler(stream, idents, msg))\n  File \"/opt/conda/lib/python3.7/site-packages/tornado/gen.py\", line 209, in wrapper\n    yielded = next(result)\n  File \"/opt/conda/lib/python3.7/site-packages/ipykernel/kernelbase.py\", line 541, in execute_request\n    user_expressions, allow_stdin,\n  File \"/opt/conda/lib/python3.7/site-packages/tornado/gen.py\", line 209, in wrapper\n    yielded = next(result)\n  File \"/opt/conda/lib/python3.7/site-packages/ipykernel/ipkernel.py\", line 300, in do_execute\n    res = shell.run_cell(code, store_history=store_history, silent=silent)\n  File \"/opt/conda/lib/python3.7/site-packages/ipykernel/zmqshell.py\", line 536, in run_cell\n    return super(ZMQInteractiveShell, self).run_cell(*args, **kwargs)\n  File \"/opt/conda/lib/python3.7/site-packages/IPython/core/interactiveshell.py\", line 2858, in run_cell\n    raw_cell, store_history, silent, shell_futures)\n  File \"/opt/conda/lib/python3.7/site-packages/IPython/core/interactiveshell.py\", line 2886, in _run_cell\n    return runner(coro)\n  File \"/opt/conda/lib/python3.7/site-packages/IPython/core/async_helpers.py\", line 68, in _pseudo_sync_runner\n    coro.send(None)\n  File \"/opt/conda/lib/python3.7/site-packages/IPython/core/interactiveshell.py\", line 3063, in run_cell_async\n    interactivity=interactivity, compiler=compiler, result=result)\n  File \"/opt/conda/lib/python3.7/site-packages/IPython/core/interactiveshell.py\", line 3254, in run_ast_nodes\n    if (await self.run_code(code, result,  async_=asy)):\n  File \"/opt/conda/lib/python3.7/site-packages/IPython/core/interactiveshell.py\", line 3331, in run_code\n    exec(code_obj, self.user_global_ns, self.user_ns)\n  File \"<ipython-input-14-af16cb747152>\", line 1, in <module>\n    p.execute()\n  File \"/home/jovyan/work/.default-libs/razor/flow/pipeline.py\", line 574, in execute\n    self.pipeline_process.start()\n  File \"/opt/conda/lib/python3.7/multiprocessing/process.py\", line 112, in start\n    self._popen = self._Popen(self)\n  File \"/opt/conda/lib/python3.7/multiprocessing/context.py\", line 223, in _Popen\n    return _default_context.get_context().Process._Popen(process_obj)\n  File \"/opt/conda/lib/python3.7/multiprocessing/context.py\", line 277, in _Popen\n    return Popen(process_obj)\n  File \"/opt/conda/lib/python3.7/multiprocessing/popen_fork.py\", line 20, in __init__\n    self._launch(process_obj)\n  File \"/opt/conda/lib/python3.7/multiprocessing/popen_fork.py\", line 74, in _launch\n    code = process_obj._bootstrap()\n  File \"/opt/conda/lib/python3.7/multiprocessing/process.py\", line 297, in _bootstrap\n    self.run()\n  File \"/opt/conda/lib/python3.7/multiprocessing/process.py\", line 99, in run\n    self._target(*self._args, **self._kwargs)\n  File \"/home/jovyan/work/.default-libs/razor/flow/pipeline.py\", line 440, in _execute\n    self.name, manager_port, log_addr, log_level\n  File \"/home/jovyan/work/.default-libs/razor/flow/blocks.py\", line 91, in execute\n    return self._execute(*args, **kwargs)\n  File \"/home/jovyan/work/.default-libs/razor/flow/executors.py\", line 288, in _execute\n    process.start()\n  File \"/opt/conda/lib/python3.7/multiprocessing/process.py\", line 112, in start\n    self._popen = self._Popen(self)\n  File \"/opt/conda/lib/python3.7/multiprocessing/context.py\", line 223, in _Popen\n    return _default_context.get_context().Process._Popen(process_obj)\n  File \"/opt/conda/lib/python3.7/multiprocessing/context.py\", line 277, in _Popen\n    return Popen(process_obj)\n  File \"/opt/conda/lib/python3.7/multiprocessing/popen_fork.py\", line 20, in __init__\n    self._launch(process_obj)\n  File \"/opt/conda/lib/python3.7/multiprocessing/popen_fork.py\", line 74, in _launch\n    code = process_obj._bootstrap()\n  File \"/opt/conda/lib/python3.7/multiprocessing/process.py\", line 297, in _bootstrap\n    self.run()\n  File \"/opt/conda/lib/python3.7/multiprocessing/process.py\", line 99, in run\n    self._target(*self._args, **self._kwargs)\n  File \"/home/jovyan/work/.default-libs/razor/flow/executors.py\", line 201, in _execute_\n    self._init_execution(exec_event)\n  File \"/home/jovyan/work/.default-libs/razor/flow/executors.py\", line 160, in _init_execution\n    self.block.run()\n  File \"<ipython-input-10-0a271c891a34>\", line 399, in run\n    preprocessor=preprocesses,\n  File \"<ipython-input-2-f49c3e7eac3d>\", line 40, in __init__\n    logging.info('********', dir_path, dir_name)\nMessage: '********'\nArguments: ('/home/jovyan/project-space/mvtec_anomaly_detection/grid/test/bad', 'test/bad')\n\nloading images:   0%|          | 0/6 [00:00<?, ?it/s]\nloading images:  83%|########3 | 5/6 [00:00<00:00, 43.38it/s]\nloading images: 100%|##########| 6/6 [00:00<00:00, 43.30it/s]\n",
          "name": "block.stdout:Runner_1",
          "pathname": null,
          "process": null,
          "processName": null,
          "thread": null,
          "threadName": null
         },
         {
          "asctime": "2020-09-21 08:07:06,863",
          "exc_info": null,
          "extra": {},
          "filename": null,
          "funcName": null,
          "levelname": "STDOUT",
          "lineno": null,
          "message": "Loading dict...\n",
          "name": "block.stdout:Runner_1",
          "pathname": null,
          "process": null,
          "processName": null,
          "thread": null,
          "threadName": null
         },
         {
          "asctime": "2020-09-21 08:07:06,879",
          "exc_info": null,
          "extra": {},
          "filename": null,
          "funcName": null,
          "levelname": "STDOUT",
          "lineno": null,
          "message": "Dict loaded...Starting Inference\n",
          "name": "block.stdout:Runner_1",
          "pathname": null,
          "process": null,
          "processName": null,
          "thread": null,
          "threadName": null
         },
         {
          "asctime": "2020-09-21 08:07:06,891",
          "exc_info": null,
          "extra": {},
          "filename": null,
          "funcName": null,
          "levelname": "STDOUT",
          "lineno": null,
          "message": "counter 1\n",
          "name": "block.stdout:Runner_1",
          "pathname": null,
          "process": null,
          "processName": null,
          "thread": null,
          "threadName": null
         },
         {
          "asctime": "2020-09-21 08:07:19,249",
          "exc_info": null,
          "extra": {},
          "filename": null,
          "funcName": null,
          "levelname": "STDOUT",
          "lineno": null,
          "message": "counter 2\n",
          "name": "block.stdout:Runner_1",
          "pathname": null,
          "process": null,
          "processName": null,
          "thread": null,
          "threadName": null
         },
         {
          "asctime": "2020-09-21 08:07:31,405",
          "exc_info": null,
          "extra": {},
          "filename": null,
          "funcName": null,
          "levelname": "STDOUT",
          "lineno": null,
          "message": "counter 3\n",
          "name": "block.stdout:Runner_1",
          "pathname": null,
          "process": null,
          "processName": null,
          "thread": null,
          "threadName": null
         },
         {
          "asctime": "2020-09-21 08:07:44,024",
          "exc_info": null,
          "extra": {},
          "filename": null,
          "funcName": null,
          "levelname": "STDOUT",
          "lineno": null,
          "message": "counter 4\n",
          "name": "block.stdout:Runner_1",
          "pathname": null,
          "process": null,
          "processName": null,
          "thread": null,
          "threadName": null
         },
         {
          "asctime": "2020-09-21 08:07:56,258",
          "exc_info": null,
          "extra": {},
          "filename": null,
          "funcName": null,
          "levelname": "STDOUT",
          "lineno": null,
          "message": "counter 5\n",
          "name": "block.stdout:Runner_1",
          "pathname": null,
          "process": null,
          "processName": null,
          "thread": null,
          "threadName": null
         },
         {
          "asctime": "2020-09-21 08:08:08,512",
          "exc_info": null,
          "extra": {},
          "filename": null,
          "funcName": null,
          "levelname": "STDOUT",
          "lineno": null,
          "message": "counter 6\n",
          "name": "block.stdout:Runner_1",
          "pathname": null,
          "process": null,
          "processName": null,
          "thread": null,
          "threadName": null
         },
         {
          "asctime": "2020-09-21 08:08:20,739",
          "exc_info": null,
          "extra": {},
          "filename": null,
          "funcName": null,
          "levelname": "STDOUT",
          "lineno": null,
          "message": "counter 7\n",
          "name": "block.stdout:Runner_1",
          "pathname": null,
          "process": null,
          "processName": null,
          "thread": null,
          "threadName": null
         },
         {
          "asctime": "2020-09-21 08:08:33,232",
          "exc_info": null,
          "extra": {},
          "filename": null,
          "funcName": null,
          "levelname": "STDOUT",
          "lineno": null,
          "message": "counter 8\n",
          "name": "block.stdout:Runner_1",
          "pathname": null,
          "process": null,
          "processName": null,
          "thread": null,
          "threadName": null
         },
         {
          "asctime": "2020-09-21 08:08:45,446",
          "exc_info": null,
          "extra": {},
          "filename": null,
          "funcName": null,
          "levelname": "STDOUT",
          "lineno": null,
          "message": "counter 9\n",
          "name": "block.stdout:Runner_1",
          "pathname": null,
          "process": null,
          "processName": null,
          "thread": null,
          "threadName": null
         },
         {
          "asctime": "2020-09-21 08:08:57,751",
          "exc_info": null,
          "extra": {},
          "filename": null,
          "funcName": null,
          "levelname": "STDOUT",
          "lineno": null,
          "message": "counter 10\n",
          "name": "block.stdout:Runner_1",
          "pathname": null,
          "process": null,
          "processName": null,
          "thread": null,
          "threadName": null
         },
         {
          "asctime": "2020-09-21 08:09:10,108",
          "exc_info": null,
          "extra": {},
          "filename": null,
          "funcName": null,
          "levelname": "STDOUT",
          "lineno": null,
          "message": "counter 11\n",
          "name": "block.stdout:Runner_1",
          "pathname": null,
          "process": null,
          "processName": null,
          "thread": null,
          "threadName": null
         },
         {
          "asctime": "2020-09-21 08:09:22,200",
          "exc_info": null,
          "extra": {},
          "filename": null,
          "funcName": null,
          "levelname": "STDOUT",
          "lineno": null,
          "message": "counter 12\n",
          "name": "block.stdout:Runner_1",
          "pathname": null,
          "process": null,
          "processName": null,
          "thread": null,
          "threadName": null
         },
         {
          "asctime": "2020-09-21 08:09:34,386",
          "exc_info": null,
          "extra": {},
          "filename": null,
          "funcName": null,
          "levelname": "STDOUT",
          "lineno": null,
          "message": "counter 13\n",
          "name": "block.stdout:Runner_1",
          "pathname": null,
          "process": null,
          "processName": null,
          "thread": null,
          "threadName": null
         },
         {
          "asctime": "2020-09-21 08:09:46,870",
          "exc_info": null,
          "extra": {},
          "filename": null,
          "funcName": null,
          "levelname": "STDOUT",
          "lineno": null,
          "message": "counter 14\n",
          "name": "block.stdout:Runner_1",
          "pathname": null,
          "process": null,
          "processName": null,
          "thread": null,
          "threadName": null
         },
         {
          "asctime": "2020-09-21 08:09:59,430",
          "exc_info": null,
          "extra": {},
          "filename": null,
          "funcName": null,
          "levelname": "STDOUT",
          "lineno": null,
          "message": "counter 15\n",
          "name": "block.stdout:Runner_1",
          "pathname": null,
          "process": null,
          "processName": null,
          "thread": null,
          "threadName": null
         },
         {
          "asctime": "2020-09-21 08:10:11,936",
          "exc_info": null,
          "extra": {},
          "filename": null,
          "funcName": null,
          "levelname": "STDOUT",
          "lineno": null,
          "message": "counter 16\n",
          "name": "block.stdout:Runner_1",
          "pathname": null,
          "process": null,
          "processName": null,
          "thread": null,
          "threadName": null
         },
         {
          "asctime": "2020-09-21 08:10:24,330",
          "exc_info": null,
          "extra": {},
          "filename": null,
          "funcName": null,
          "levelname": "STDOUT",
          "lineno": null,
          "message": "counter 17\n",
          "name": "block.stdout:Runner_1",
          "pathname": null,
          "process": null,
          "processName": null,
          "thread": null,
          "threadName": null
         },
         {
          "asctime": "2020-09-21 08:10:36,435",
          "exc_info": null,
          "extra": {},
          "filename": null,
          "funcName": null,
          "levelname": "STDOUT",
          "lineno": null,
          "message": "counter 18\n",
          "name": "block.stdout:Runner_1",
          "pathname": null,
          "process": null,
          "processName": null,
          "thread": null,
          "threadName": null
         },
         {
          "asctime": "2020-09-21 08:10:48,471",
          "exc_info": null,
          "extra": {},
          "filename": null,
          "funcName": null,
          "levelname": "STDOUT",
          "lineno": null,
          "message": "counter 19\n",
          "name": "block.stdout:Runner_1",
          "pathname": null,
          "process": null,
          "processName": null,
          "thread": null,
          "threadName": null
         },
         {
          "asctime": "2020-09-21 08:11:00,670",
          "exc_info": null,
          "extra": {},
          "filename": null,
          "funcName": null,
          "levelname": "STDOUT",
          "lineno": null,
          "message": "counter 20\n",
          "name": "block.stdout:Runner_1",
          "pathname": null,
          "process": null,
          "processName": null,
          "thread": null,
          "threadName": null
         },
         {
          "asctime": "2020-09-21 08:11:12,852",
          "exc_info": null,
          "extra": {},
          "filename": null,
          "funcName": null,
          "levelname": "STDOUT",
          "lineno": null,
          "message": "counter 21\n",
          "name": "block.stdout:Runner_1",
          "pathname": null,
          "process": null,
          "processName": null,
          "thread": null,
          "threadName": null
         },
         {
          "asctime": "2020-09-21 08:11:24,981",
          "exc_info": null,
          "extra": {},
          "filename": null,
          "funcName": null,
          "levelname": "STDERR",
          "lineno": null,
          "message": "\ntesting:   0%|          | 0/21 [00:00<?, ?it/s]\ntesting:   5%|4         | 1/21 [00:12<04:07, 12.36s/it]\ntesting:  10%|9         | 2/21 [00:24<03:53, 12.30s/it]\ntesting:  14%|#4        | 3/21 [00:37<03:43, 12.39s/it]\ntesting:  19%|#9        | 4/21 [00:49<03:29, 12.35s/it]\ntesting:  24%|##3       | 5/21 [01:01<03:17, 12.32s/it]\ntesting:  29%|##8       | 6/21 [01:13<03:04, 12.29s/it]\ntesting:  33%|###3      | 7/21 [01:26<02:52, 12.35s/it]\ntesting:  38%|###8      | 8/21 [01:38<02:40, 12.31s/it]\ntesting:  43%|####2     | 9/21 [01:50<02:27, 12.31s/it]\ntesting:  48%|####7     | 10/21 [02:03<02:15, 12.32s/it]\ntesting:  52%|#####2    | 11/21 [02:15<02:02, 12.25s/it]\ntesting:  57%|#####7    | 12/21 [02:27<01:50, 12.23s/it]\ntesting:  62%|######1   | 13/21 [02:39<01:38, 12.31s/it]\ntesting:  67%|######6   | 14/21 [02:52<01:26, 12.38s/it]\ntesting:  71%|#######1  | 15/21 [03:05<01:14, 12.42s/it]\ntesting:  76%|#######6  | 16/21 [03:17<01:02, 12.41s/it]\ntesting:  81%|########  | 17/21 [03:29<00:49, 12.32s/it]\ntesting:  86%|########5 | 18/21 [03:41<00:36, 12.23s/it]\ntesting:  90%|######### | 19/21 [03:53<00:24, 12.22s/it]\ntesting:  95%|#########5| 20/21 [04:05<00:12, 12.21s/it]\ntesting: 100%|##########| 21/21 [04:18<00:00, 12.19s/it]\ntesting: 100%|##########| 21/21 [04:18<00:00, 12.29s/it]\n",
          "name": "block.stdout:Runner_1",
          "pathname": null,
          "process": null,
          "processName": null,
          "thread": null,
          "threadName": null
         },
         {
          "asctime": "2020-09-21 08:11:24,995",
          "exc_info": null,
          "extra": {},
          "filename": null,
          "funcName": null,
          "levelname": "STDOUT",
          "lineno": null,
          "message": "counter 1\n",
          "name": "block.stdout:Runner_1",
          "pathname": null,
          "process": null,
          "processName": null,
          "thread": null,
          "threadName": null
         },
         {
          "asctime": "2020-09-21 08:11:37,038",
          "exc_info": null,
          "extra": {},
          "filename": null,
          "funcName": null,
          "levelname": "STDOUT",
          "lineno": null,
          "message": "counter 2\n",
          "name": "block.stdout:Runner_1",
          "pathname": null,
          "process": null,
          "processName": null,
          "thread": null,
          "threadName": null
         },
         {
          "asctime": "2020-09-21 08:11:48,980",
          "exc_info": null,
          "extra": {},
          "filename": null,
          "funcName": null,
          "levelname": "STDOUT",
          "lineno": null,
          "message": "counter 3\n",
          "name": "block.stdout:Runner_1",
          "pathname": null,
          "process": null,
          "processName": null,
          "thread": null,
          "threadName": null
         },
         {
          "asctime": "2020-09-21 08:12:00,922",
          "exc_info": null,
          "extra": {},
          "filename": null,
          "funcName": null,
          "levelname": "STDOUT",
          "lineno": null,
          "message": "counter 4\n",
          "name": "block.stdout:Runner_1",
          "pathname": null,
          "process": null,
          "processName": null,
          "thread": null,
          "threadName": null
         },
         {
          "asctime": "2020-09-21 08:12:13,194",
          "exc_info": null,
          "extra": {},
          "filename": null,
          "funcName": null,
          "levelname": "STDOUT",
          "lineno": null,
          "message": "counter 5\n",
          "name": "block.stdout:Runner_1",
          "pathname": null,
          "process": null,
          "processName": null,
          "thread": null,
          "threadName": null
         },
         {
          "asctime": "2020-09-21 08:12:25,327",
          "exc_info": null,
          "extra": {},
          "filename": null,
          "funcName": null,
          "levelname": "STDOUT",
          "lineno": null,
          "message": "counter 6\n",
          "name": "block.stdout:Runner_1",
          "pathname": null,
          "process": null,
          "processName": null,
          "thread": null,
          "threadName": null
         },
         {
          "asctime": "2020-09-21 08:12:37,483",
          "exc_info": null,
          "extra": {},
          "filename": null,
          "funcName": null,
          "levelname": "STDERR",
          "lineno": null,
          "message": "\ntesting:   0%|          | 0/6 [00:00<?, ?it/s]\ntesting:  17%|#6        | 1/6 [00:12<01:00, 12.04s/it]\ntesting:  33%|###3      | 2/6 [00:23<00:48, 12.01s/it]\ntesting:  50%|#####     | 3/6 [00:35<00:35, 11.99s/it]\ntesting:  67%|######6   | 4/6 [00:48<00:24, 12.08s/it]\ntesting:  83%|########3 | 5/6 [01:00<00:12, 12.09s/it]\ntesting: 100%|##########| 6/6 [01:12<00:00, 12.11s/it]\ntesting: 100%|##########| 6/6 [01:12<00:00, 12.08s/it]\n",
          "name": "block.stdout:Runner_1",
          "pathname": null,
          "process": null,
          "processName": null,
          "thread": null,
          "threadName": null
         },
         {
          "asctime": "2020-09-21 08:12:37,490",
          "exc_info": null,
          "extra": {},
          "filename": null,
          "funcName": null,
          "levelname": "STDOUT",
          "lineno": null,
          "message": "\nTest set: AP: 0.9000, AUC: 0.9286\n\n",
          "name": "block.stdout:Runner_1",
          "pathname": null,
          "process": null,
          "processName": null,
          "thread": null,
          "threadName": null
         },
         {
          "asctime": "2020-09-21 08:12:37,490",
          "exc_info": null,
          "extra": {},
          "filename": null,
          "funcName": null,
          "levelname": "STDOUT",
          "lineno": null,
          "message": "DONE...\n",
          "name": "block.stdout:Runner_1",
          "pathname": null,
          "process": null,
          "processName": null,
          "thread": null,
          "threadName": null
         }
        ],
        "meta": {
         "block_status": {
          "GetConfigs_1": "SUCCESS",
          "Preprocess_1": "SUCCESS",
          "Runner_1": "SUCCESS"
         },
         "blocks": [
          {
           "class_name": "Preprocess",
           "id": "de18061c-804a-477c-990a-c26939abef64",
           "inputs": [
            {
             "default": null,
             "flow": "atomic",
             "help": null,
             "label": "config",
             "name": "config",
             "series": false,
             "type": "Any",
             "type_check": true
            }
           ],
           "outputs": [
            {
             "flow": "atomic",
             "help": null,
             "label": "prepro",
             "name": "prepro",
             "series": false,
             "type": "Any",
             "type_check": true
            },
            {
             "flow": "atomic",
             "help": null,
             "label": "model_prepro",
             "name": "model_prepro",
             "series": false,
             "type": "Any",
             "type_check": true
            }
           ],
           "overwritten": false,
           "var_names": [
            "Preprocess"
           ]
          },
          {
           "class_name": "GetConfigs",
           "id": "456cb3cc-d6ec-428a-a8d5-22d02731c11b",
           "inputs": [
            {
             "default": null,
             "flow": "atomic",
             "help": null,
             "label": "material",
             "name": "material",
             "series": false,
             "type": "Any",
             "type_check": true
            }
           ],
           "outputs": [
            {
             "flow": "atomic",
             "help": null,
             "label": "config",
             "name": "config",
             "series": false,
             "type": "Any",
             "type_check": true
            }
           ],
           "overwritten": false,
           "var_names": [
            "GetConfigs"
           ]
          },
          {
           "class_name": "Runner",
           "id": "0e87cc41-a1e7-4774-ab6b-0f343f61005c",
           "inputs": [
            {
             "default": null,
             "flow": "atomic",
             "help": null,
             "label": "mode",
             "name": "mode",
             "series": false,
             "type": "Any",
             "type_check": true
            },
            {
             "default": null,
             "flow": "atomic",
             "help": null,
             "label": "config",
             "name": "config",
             "series": false,
             "type": "Any",
             "type_check": true
            },
            {
             "default": null,
             "flow": "atomic",
             "help": null,
             "label": "preprocesses_path",
             "name": "preprocesses_path",
             "series": false,
             "type": "Any",
             "type_check": true
            },
            {
             "default": null,
             "flow": "atomic",
             "help": null,
             "label": "model_preprocesses_path",
             "name": "model_preprocesses_path",
             "series": false,
             "type": "Any",
             "type_check": true
            }
           ],
           "outputs": [],
           "overwritten": false,
           "var_names": [
            "Runner"
           ]
          }
         ],
         "connections": [
          {
           "id": "1ce00354-6c00-4cc0-b847-b71841499559",
           "source": {
            "adapter": false,
            "instance_id": "2a495d5e-a38c-4fe8-a0e2-fa91ade0d4a8",
            "name": "config"
           },
           "target": {
            "adapter": false,
            "instance_id": "6da48c80-2475-4894-bd13-5feb6bc80cd2",
            "name": "config"
           }
          },
          {
           "id": "91b7377c-ccdb-4f0b-8f10-18f7d0774abd",
           "source": {
            "adapter": false,
            "instance_id": "6da48c80-2475-4894-bd13-5feb6bc80cd2",
            "name": "model_prepro"
           },
           "target": {
            "adapter": false,
            "instance_id": "b10003bc-3747-4913-9946-02ffa0ad9958",
            "name": "model_preprocesses_path"
           }
          },
          {
           "id": "352fe7b8-bfd8-4d52-97bd-4a79b84c290f",
           "source": {
            "adapter": false,
            "instance_id": "6da48c80-2475-4894-bd13-5feb6bc80cd2",
            "name": "prepro"
           },
           "target": {
            "adapter": false,
            "instance_id": "b10003bc-3747-4913-9946-02ffa0ad9958",
            "name": "preprocesses_path"
           }
          },
          {
           "id": "02f824db-ff9f-43ed-885a-b12192f572a8",
           "source": {
            "adapter": false,
            "instance_id": "2a495d5e-a38c-4fe8-a0e2-fa91ade0d4a8",
            "name": "config"
           },
           "target": {
            "adapter": false,
            "instance_id": "b10003bc-3747-4913-9946-02ffa0ad9958",
            "name": "config"
           }
          }
         ],
         "end": 1600675957.713211,
         "id": "cfe20904-c4cd-4be7-927f-0e5fceab85c3",
         "instances": [
          {
           "block_class": "0e87cc41-a1e7-4774-ab6b-0f343f61005c",
           "id": "b10003bc-3747-4913-9946-02ffa0ad9958",
           "name": "Runner_1",
           "var_names": [
            "runner"
           ]
          },
          {
           "block_class": "de18061c-804a-477c-990a-c26939abef64",
           "id": "6da48c80-2475-4894-bd13-5feb6bc80cd2",
           "name": "Preprocess_1",
           "var_names": [
            "preprocess"
           ]
          },
          {
           "block_class": "456cb3cc-d6ec-428a-a8d5-22d02731c11b",
           "id": "2a495d5e-a38c-4fe8-a0e2-fa91ade0d4a8",
           "name": "GetConfigs_1",
           "var_names": [
            "get_configs"
           ]
          }
         ],
         "log_level": 20,
         "name": "sparse_encoding",
         "start": 1600675622.0745316,
         "status": "SUCCESS",
         "system_logs": true,
         "var_names": []
        },
        "metrics": {},
        "runtime": {
         "GetConfigs_1": {
          "end": 1600675622.9203823,
          "load": 1600675622.6580808,
          "start": 1600675622.9137738
         },
         "Preprocess_1": {
          "end": 1600675626.124768,
          "load": 1600675622.638101,
          "start": 1600675622.9122152
         },
         "Runner_1": {
          "end": 1600675957.4928308,
          "load": 1600675622.6185625,
          "start": 1600675622.9093144
         }
        }
       },
       "store_in_notebook": true
      }
     },
     "output_type": "display_data"
    },
    {
     "data": {
      "text/plain": [
       "<Process(Pipeline Manager('sparse_encoding'), stopped)>"
      ]
     },
     "execution_count": 14,
     "metadata": {},
     "output_type": "execute_result"
    }
   ],
   "source": [
    "p.execute()"
   ]
  },
  {
   "cell_type": "code",
   "execution_count": null,
   "metadata": {},
   "outputs": [],
   "source": []
  },
  {
   "cell_type": "code",
   "execution_count": 15,
   "metadata": {},
   "outputs": [
    {
     "data": {
      "text/html": [
       "<html>\n",
       "            <h4>Libraries</h4>\n",
       "            <h5>Number of entries found: 27</h5>\n",
       "            <table width='100%'>\n",
       "                <tr>\n",
       "                    <th width='5%' style='align:left; text-align:left;'>Sl. No.</th>\n",
       "                    <th width='20%' style='align:left; text-align:center;'>Name</th>\n",
       "                    <th style='align:left; text-align:left;'>Technology</th>\n",
       "                    <th style='align:left; text-align:left;'>Install Status</th>\n",
       "                    <th style='align:left; text-align:left;'>Created by</th>\n",
       "                    <th style='align:left; text-align:left;'>Created on</th>\n",
       "                    <th style='align:left; text-align:left;'>Modified by</th>\n",
       "                    <th style='align:left; text-align:left;'>Modified on</th>\n",
       "                </tr><tr>\n",
       "                <td width='5%' style='align:left; text-align:left;'>1</td>\n",
       "                <td width='20%' style='align:center; text-align:center;'>rztdl_old</td>\n",
       "                <td style='align:left; text-align:left;'>PYTHON</td>\n",
       "                <td style='align:left; text-align:left;'>INSTALLED</td>\n",
       "                <td style='align:left; text-align:left;'>Phaneendra B</td>\n",
       "                <td style='align:left; text-align:left;'>Sep 16, 2020</td>\n",
       "                <td style='align:left; text-align:left;'>Himaprasoon P T</td>\n",
       "                <td style='align:left; text-align:left;'>Sep 16, 2020</td>\n",
       "            </tr><tr>\n",
       "                <td width='5%' style='align:left; text-align:left;'>2</td>\n",
       "                <td width='20%' style='align:center; text-align:center;'>dotmap_latest</td>\n",
       "                <td style='align:left; text-align:left;'>PYTHON</td>\n",
       "                <td style='align:left; text-align:left;'>INSTALLED</td>\n",
       "                <td style='align:left; text-align:left;'>Suraj Kumar</td>\n",
       "                <td style='align:left; text-align:left;'>Sep 10, 2020</td>\n",
       "                <td style='align:left; text-align:left;'>Suraj Kumar</td>\n",
       "                <td style='align:left; text-align:left;'>Sep 10, 2020</td>\n",
       "            </tr><tr>\n",
       "                <td width='5%' style='align:left; text-align:left;'>3</td>\n",
       "                <td width='20%' style='align:center; text-align:center;'>rukhaiya_test</td>\n",
       "                <td style='align:left; text-align:left;'>PYTHON</td>\n",
       "                <td style='align:left; text-align:left;'>INSTALLATION_FAILED</td>\n",
       "                <td style='align:left; text-align:left;'>Abhishek Sharma</td>\n",
       "                <td style='align:left; text-align:left;'>Aug 20, 2020</td>\n",
       "                <td style='align:left; text-align:left;'>Abhishek Sharma</td>\n",
       "                <td style='align:left; text-align:left;'>Aug 27, 2020</td>\n",
       "            </tr><tr>\n",
       "                <td width='5%' style='align:left; text-align:left;'>4</td>\n",
       "                <td width='20%' style='align:center; text-align:center;'>SSIM_PIL</td>\n",
       "                <td style='align:left; text-align:left;'>PYTHON</td>\n",
       "                <td style='align:left; text-align:left;'>INSTALLED</td>\n",
       "                <td style='align:left; text-align:left;'>Ayan Basak</td>\n",
       "                <td style='align:left; text-align:left;'>Jul 15, 2020</td>\n",
       "                <td style='align:left; text-align:left;'>Ayan Basak</td>\n",
       "                <td style='align:left; text-align:left;'>Jul 15, 2020</td>\n",
       "            </tr><tr>\n",
       "                <td width='5%' style='align:left; text-align:left;'>5</td>\n",
       "                <td width='20%' style='align:center; text-align:center;'>nltk</td>\n",
       "                <td style='align:left; text-align:left;'>PYTHON</td>\n",
       "                <td style='align:left; text-align:left;'>INSTALLED</td>\n",
       "                <td style='align:left; text-align:left;'>Ayan Basak</td>\n",
       "                <td style='align:left; text-align:left;'>Jul 30, 2020</td>\n",
       "                <td style='align:left; text-align:left;'>Ayan Basak</td>\n",
       "                <td style='align:left; text-align:left;'>Jul 30, 2020</td>\n",
       "            </tr><tr>\n",
       "                <td width='5%' style='align:left; text-align:left;'>6</td>\n",
       "                <td width='20%' style='align:center; text-align:center;'>tssplit_1</td>\n",
       "                <td style='align:left; text-align:left;'>PYTHON</td>\n",
       "                <td style='align:left; text-align:left;'>INSTALLED</td>\n",
       "                <td style='align:left; text-align:left;'>Phaneendra B</td>\n",
       "                <td style='align:left; text-align:left;'>Aug 20, 2020</td>\n",
       "                <td style='align:left; text-align:left;'>Phaneendra B</td>\n",
       "                <td style='align:left; text-align:left;'>Aug 20, 2020</td>\n",
       "            </tr><tr>\n",
       "                <td width='5%' style='align:left; text-align:left;'>7</td>\n",
       "                <td width='20%' style='align:center; text-align:center;'>SparseCoding</td>\n",
       "                <td style='align:left; text-align:left;'>PYTHON</td>\n",
       "                <td style='align:left; text-align:left;'>INSTALLED</td>\n",
       "                <td style='align:left; text-align:left;'>Ayan Basak</td>\n",
       "                <td style='align:left; text-align:left;'>Jul 20, 2020</td>\n",
       "                <td style='align:left; text-align:left;'>Ayan Basak</td>\n",
       "                <td style='align:left; text-align:left;'>Jul 20, 2020</td>\n",
       "            </tr><tr>\n",
       "                <td width='5%' style='align:left; text-align:left;'>8</td>\n",
       "                <td width='20%' style='align:center; text-align:center;'>lightgbm</td>\n",
       "                <td style='align:left; text-align:left;'>PYTHON</td>\n",
       "                <td style='align:left; text-align:left;'>INSTALLED</td>\n",
       "                <td style='align:left; text-align:left;'>Ayan Basak</td>\n",
       "                <td style='align:left; text-align:left;'>Aug 17, 2020</td>\n",
       "                <td style='align:left; text-align:left;'>Ayan Basak</td>\n",
       "                <td style='align:left; text-align:left;'>Aug 17, 2020</td>\n",
       "            </tr><tr>\n",
       "                <td width='5%' style='align:left; text-align:left;'>9</td>\n",
       "                <td width='20%' style='align:center; text-align:center;'>numpy</td>\n",
       "                <td style='align:left; text-align:left;'>PYTHON</td>\n",
       "                <td style='align:left; text-align:left;'>INSTALLED</td>\n",
       "                <td style='align:left; text-align:left;'>amith koujalgi</td>\n",
       "                <td style='align:left; text-align:left;'>Aug 27, 2020</td>\n",
       "                <td style='align:left; text-align:left;'>amith koujalgi</td>\n",
       "                <td style='align:left; text-align:left;'>Aug 27, 2020</td>\n",
       "            </tr><tr>\n",
       "                <td width='5%' style='align:left; text-align:left;'>10</td>\n",
       "                <td width='20%' style='align:center; text-align:center;'>category-encoders</td>\n",
       "                <td style='align:left; text-align:left;'>PYTHON</td>\n",
       "                <td style='align:left; text-align:left;'>INSTALLED</td>\n",
       "                <td style='align:left; text-align:left;'>vyshnav mt</td>\n",
       "                <td style='align:left; text-align:left;'>Sep 02, 2020</td>\n",
       "                <td style='align:left; text-align:left;'>vyshnav mt</td>\n",
       "                <td style='align:left; text-align:left;'>Sep 02, 2020</td>\n",
       "            </tr><tr>\n",
       "                <td width='5%' style='align:left; text-align:left;'>11</td>\n",
       "                <td width='20%' style='align:center; text-align:center;'>SparseCoding1</td>\n",
       "                <td style='align:left; text-align:left;'>PYTHON</td>\n",
       "                <td style='align:left; text-align:left;'>INSTALLED</td>\n",
       "                <td style='align:left; text-align:left;'>Ayan Basak</td>\n",
       "                <td style='align:left; text-align:left;'>Jul 20, 2020</td>\n",
       "                <td style='align:left; text-align:left;'>Ayan Basak</td>\n",
       "                <td style='align:left; text-align:left;'>Jul 20, 2020</td>\n",
       "            </tr><tr>\n",
       "                <td width='5%' style='align:left; text-align:left;'>12</td>\n",
       "                <td width='20%' style='align:center; text-align:center;'>tssplit</td>\n",
       "                <td style='align:left; text-align:left;'>PYTHON</td>\n",
       "                <td style='align:left; text-align:left;'>INSTALLED</td>\n",
       "                <td style='align:left; text-align:left;'>Aneesh K</td>\n",
       "                <td style='align:left; text-align:left;'>Aug 15, 2020</td>\n",
       "                <td style='align:left; text-align:left;'>Aneesh K</td>\n",
       "                <td style='align:left; text-align:left;'>Aug 15, 2020</td>\n",
       "            </tr><tr>\n",
       "                <td width='5%' style='align:left; text-align:left;'>13</td>\n",
       "                <td width='20%' style='align:center; text-align:center;'>PrettyTable</td>\n",
       "                <td style='align:left; text-align:left;'>PYTHON</td>\n",
       "                <td style='align:left; text-align:left;'>INSTALLED</td>\n",
       "                <td style='align:left; text-align:left;'>Himaprasoon P T</td>\n",
       "                <td style='align:left; text-align:left;'>Sep 16, 2020</td>\n",
       "                <td style='align:left; text-align:left;'>Himaprasoon P T</td>\n",
       "                <td style='align:left; text-align:left;'>Sep 16, 2020</td>\n",
       "            </tr><tr>\n",
       "                <td width='5%' style='align:left; text-align:left;'>14</td>\n",
       "                <td width='20%' style='align:center; text-align:center;'>beautifulsoup4</td>\n",
       "                <td style='align:left; text-align:left;'>PYTHON</td>\n",
       "                <td style='align:left; text-align:left;'>INSTALLED</td>\n",
       "                <td style='align:left; text-align:left;'>Abhishek Sharma</td>\n",
       "                <td style='align:left; text-align:left;'>Jul 07, 2020</td>\n",
       "                <td style='align:left; text-align:left;'>Abhishek Sharma</td>\n",
       "                <td style='align:left; text-align:left;'>Jul 07, 2020</td>\n",
       "            </tr><tr>\n",
       "                <td width='5%' style='align:left; text-align:left;'>15</td>\n",
       "                <td width='20%' style='align:center; text-align:center;'>Arrow</td>\n",
       "                <td style='align:left; text-align:left;'>PYTHON</td>\n",
       "                <td style='align:left; text-align:left;'>INSTALLED</td>\n",
       "                <td style='align:left; text-align:left;'>amith koujalgi</td>\n",
       "                <td style='align:left; text-align:left;'>Jul 10, 2020</td>\n",
       "                <td style='align:left; text-align:left;'>amith koujalgi</td>\n",
       "                <td style='align:left; text-align:left;'>Jul 10, 2020</td>\n",
       "            </tr><tr>\n",
       "                <td width='5%' style='align:left; text-align:left;'>16</td>\n",
       "                <td width='20%' style='align:center; text-align:center;'>opencv-python</td>\n",
       "                <td style='align:left; text-align:left;'>PYTHON</td>\n",
       "                <td style='align:left; text-align:left;'>INSTALLED</td>\n",
       "                <td style='align:left; text-align:left;'>Ayan Basak</td>\n",
       "                <td style='align:left; text-align:left;'>Jul 16, 2020</td>\n",
       "                <td style='align:left; text-align:left;'>Ayan Basak</td>\n",
       "                <td style='align:left; text-align:left;'>Jul 16, 2020</td>\n",
       "            </tr><tr>\n",
       "                <td width='5%' style='align:left; text-align:left;'>17</td>\n",
       "                <td width='20%' style='align:center; text-align:center;'>xgboost</td>\n",
       "                <td style='align:left; text-align:left;'>PYTHON</td>\n",
       "                <td style='align:left; text-align:left;'>INSTALLED</td>\n",
       "                <td style='align:left; text-align:left;'>vyshnav mt</td>\n",
       "                <td style='align:left; text-align:left;'>Jul 31, 2020</td>\n",
       "                <td style='align:left; text-align:left;'>vyshnav mt</td>\n",
       "                <td style='align:left; text-align:left;'>Jul 31, 2020</td>\n",
       "            </tr><tr>\n",
       "                <td width='5%' style='align:left; text-align:left;'>18</td>\n",
       "                <td width='20%' style='align:center; text-align:center;'>scikit-learn</td>\n",
       "                <td style='align:left; text-align:left;'>PYTHON</td>\n",
       "                <td style='align:left; text-align:left;'>INSTALLED</td>\n",
       "                <td style='align:left; text-align:left;'>Ayan Basak</td>\n",
       "                <td style='align:left; text-align:left;'>Jul 30, 2020</td>\n",
       "                <td style='align:left; text-align:left;'>Ayan Basak</td>\n",
       "                <td style='align:left; text-align:left;'>Jul 30, 2020</td>\n",
       "            </tr><tr>\n",
       "                <td width='5%' style='align:left; text-align:left;'>19</td>\n",
       "                <td width='20%' style='align:center; text-align:center;'>humanize</td>\n",
       "                <td style='align:left; text-align:left;'>PYTHON</td>\n",
       "                <td style='align:left; text-align:left;'>INSTALLED</td>\n",
       "                <td style='align:left; text-align:left;'>Himaprasoon P T</td>\n",
       "                <td style='align:left; text-align:left;'>Sep 16, 2020</td>\n",
       "                <td style='align:left; text-align:left;'>Himaprasoon P T</td>\n",
       "                <td style='align:left; text-align:left;'>Sep 16, 2020</td>\n",
       "            </tr><tr>\n",
       "                <td width='5%' style='align:left; text-align:left;'>20</td>\n",
       "                <td width='20%' style='align:center; text-align:center;'>keras</td>\n",
       "                <td style='align:left; text-align:left;'>PYTHON</td>\n",
       "                <td style='align:left; text-align:left;'>INSTALLED</td>\n",
       "                <td style='align:left; text-align:left;'>souryadipta das</td>\n",
       "                <td style='align:left; text-align:left;'>Aug 03, 2020</td>\n",
       "                <td style='align:left; text-align:left;'>souryadipta das</td>\n",
       "                <td style='align:left; text-align:left;'>Aug 03, 2020</td>\n",
       "            </tr><tr>\n",
       "                <td width='5%' style='align:left; text-align:left;'>21</td>\n",
       "                <td width='20%' style='align:center; text-align:center;'>category_encoders</td>\n",
       "                <td style='align:left; text-align:left;'>PYTHON</td>\n",
       "                <td style='align:left; text-align:left;'>INSTALLED</td>\n",
       "                <td style='align:left; text-align:left;'>vyshnav mt</td>\n",
       "                <td style='align:left; text-align:left;'>Aug 19, 2020</td>\n",
       "                <td style='align:left; text-align:left;'>vyshnav mt</td>\n",
       "                <td style='align:left; text-align:left;'>Aug 19, 2020</td>\n",
       "            </tr><tr>\n",
       "                <td width='5%' style='align:left; text-align:left;'>22</td>\n",
       "                <td width='20%' style='align:center; text-align:center;'>textblob</td>\n",
       "                <td style='align:left; text-align:left;'>PYTHON</td>\n",
       "                <td style='align:left; text-align:left;'>INSTALLED</td>\n",
       "                <td style='align:left; text-align:left;'>Ayan Basak</td>\n",
       "                <td style='align:left; text-align:left;'>Jul 30, 2020</td>\n",
       "                <td style='align:left; text-align:left;'>Ayan Basak</td>\n",
       "                <td style='align:left; text-align:left;'>Jul 30, 2020</td>\n",
       "            </tr><tr>\n",
       "                <td width='5%' style='align:left; text-align:left;'>23</td>\n",
       "                <td width='20%' style='align:center; text-align:center;'>dotmap</td>\n",
       "                <td style='align:left; text-align:left;'>PYTHON</td>\n",
       "                <td style='align:left; text-align:left;'>INSTALLED</td>\n",
       "                <td style='align:left; text-align:left;'>Aneesh K</td>\n",
       "                <td style='align:left; text-align:left;'>Aug 10, 2020</td>\n",
       "                <td style='align:left; text-align:left;'>Suraj Kumar</td>\n",
       "                <td style='align:left; text-align:left;'>Sep 10, 2020</td>\n",
       "            </tr><tr>\n",
       "                <td width='5%' style='align:left; text-align:left;'>24</td>\n",
       "                <td width='20%' style='align:center; text-align:center;'>TestLib</td>\n",
       "                <td style='align:left; text-align:left;'>PYTHON</td>\n",
       "                <td style='align:left; text-align:left;'>INSTALLATION_FAILED</td>\n",
       "                <td style='align:left; text-align:left;'>saurabh jain</td>\n",
       "                <td style='align:left; text-align:left;'>Jun 07, 2020</td>\n",
       "                <td style='align:left; text-align:left;'>saurabh jain</td>\n",
       "                <td style='align:left; text-align:left;'>Jun 07, 2020</td>\n",
       "            </tr><tr>\n",
       "                <td width='5%' style='align:left; text-align:left;'>25</td>\n",
       "                <td width='20%' style='align:center; text-align:center;'>tensorflow1.13</td>\n",
       "                <td style='align:left; text-align:left;'>PYTHON</td>\n",
       "                <td style='align:left; text-align:left;'>INSTALLED</td>\n",
       "                <td style='align:left; text-align:left;'>Phaneendra B</td>\n",
       "                <td style='align:left; text-align:left;'>Sep 16, 2020</td>\n",
       "                <td style='align:left; text-align:left;'>Phaneendra B</td>\n",
       "                <td style='align:left; text-align:left;'>Sep 16, 2020</td>\n",
       "            </tr><tr>\n",
       "                <td width='5%' style='align:left; text-align:left;'>26</td>\n",
       "                <td width='20%' style='align:center; text-align:center;'>shap</td>\n",
       "                <td style='align:left; text-align:left;'>PYTHON</td>\n",
       "                <td style='align:left; text-align:left;'>INSTALLED</td>\n",
       "                <td style='align:left; text-align:left;'>vyshnav mt</td>\n",
       "                <td style='align:left; text-align:left;'>Aug 18, 2020</td>\n",
       "                <td style='align:left; text-align:left;'>vyshnav mt</td>\n",
       "                <td style='align:left; text-align:left;'>Aug 18, 2020</td>\n",
       "            </tr><tr>\n",
       "                <td width='5%' style='align:left; text-align:left;'>27</td>\n",
       "                <td width='20%' style='align:center; text-align:center;'>idp</td>\n",
       "                <td style='align:left; text-align:left;'>PYTHON</td>\n",
       "                <td style='align:left; text-align:left;'>INSTALLED</td>\n",
       "                <td style='align:left; text-align:left;'>amith koujalgi</td>\n",
       "                <td style='align:left; text-align:left;'>Sep 02, 2020</td>\n",
       "                <td style='align:left; text-align:left;'>amith koujalgi</td>\n",
       "                <td style='align:left; text-align:left;'>Sep 02, 2020</td>\n",
       "            </tr></table></html>"
      ],
      "text/plain": [
       "PlatformLibraryList(libraries=[PlatformLibrary(id_='007cec43-5ecf-44c9-a651-64de48aa5f39', artifact_version='55a59fe1-4931-4378-83fc-51b88ae6a327', name='rztdl_old', technology='PYTHON', installation_status='INSTALLED', created_by='Phaneendra B', created_on='2020-09-16T08:24:48.000+00:00', modified_by='Himaprasoon P T', modified_on='2020-09-16T12:00:23.000+00:00'), PlatformLibrary(id_='0e8244cd-b40c-4e81-8cee-04d81083fa99', artifact_version='080d1f82-1737-45da-abc9-e06f73fc830f', name='dotmap_latest', technology='PYTHON', installation_status='INSTALLED', created_by='Suraj Kumar', created_on='2020-09-10T07:04:38.000+00:00', modified_by='Suraj Kumar', modified_on='2020-09-10T07:17:43.000+00:00'), PlatformLibrary(id_='13470c7f-802a-49f9-8dc1-9dbaa3f398ab', artifact_version='487d5d26-09ac-420e-a2a4-806ce5401087', name='rukhaiya_test', technology='PYTHON', installation_status='INSTALLATION_FAILED', created_by='Abhishek Sharma', created_on='2020-08-20T11:08:27.000+00:00', modified_by='Abhishek Sharma', modified_on='2020-08-27T06:16:05.000+00:00'), PlatformLibrary(id_='149c682f-5129-4b65-a5b2-c4c1f5b6f58b', artifact_version='eecbaa0c-e2a8-4cf9-be70-6d2d4a53cd90', name='SSIM_PIL', technology='PYTHON', installation_status='INSTALLED', created_by='Ayan Basak', created_on='2020-07-15T15:08:17.000+00:00', modified_by='Ayan Basak', modified_on='2020-07-15T15:08:17.000+00:00'), PlatformLibrary(id_='1a4f668b-45e5-40d9-80e9-96ad855ccdbf', artifact_version='63747866-9fdb-47e7-bee9-72d61ede6293', name='nltk', technology='PYTHON', installation_status='INSTALLED', created_by='Ayan Basak', created_on='2020-07-30T11:20:51.000+00:00', modified_by='Ayan Basak', modified_on='2020-07-30T11:20:51.000+00:00'), PlatformLibrary(id_='22ef5cbb-d146-43f4-ba2b-579fe50a8c5c', artifact_version='e34d9d09-6d9d-4580-8aec-179f8e641cf9', name='tssplit_1', technology='PYTHON', installation_status='INSTALLED', created_by='Phaneendra B', created_on='2020-08-20T19:48:06.000+00:00', modified_by='Phaneendra B', modified_on='2020-08-20T19:48:07.000+00:00'), PlatformLibrary(id_='22fa744e-7711-4fb3-aba7-3d62c52ec7f9', artifact_version='5229c01c-039e-4205-88aa-01a200b573fc', name='SparseCoding', technology='PYTHON', installation_status='INSTALLED', created_by='Ayan Basak', created_on='2020-07-20T06:20:38.000+00:00', modified_by='Ayan Basak', modified_on='2020-07-20T06:20:39.000+00:00'), PlatformLibrary(id_='24d05fb2-8916-4d25-8127-276e57d0bc8d', artifact_version='67ceac05-426d-4c9a-a069-ceb1350c1623', name='lightgbm', technology='PYTHON', installation_status='INSTALLED', created_by='Ayan Basak', created_on='2020-08-17T11:16:15.000+00:00', modified_by='Ayan Basak', modified_on='2020-08-17T11:16:16.000+00:00'), PlatformLibrary(id_='2be8deaf-70de-4d9f-b0f9-9dc7cc531cbb', artifact_version='2d2f7108-3b28-48f5-9a07-b4796440155d', name='numpy', technology='PYTHON', installation_status='INSTALLED', created_by='amith koujalgi', created_on='2020-08-27T09:05:23.000+00:00', modified_by='amith koujalgi', modified_on='2020-08-27T09:05:24.000+00:00'), PlatformLibrary(id_='3b0c4dc0-62c2-4ad6-8a95-dc11031d9317', artifact_version='cd476d31-ffe1-414f-991b-4c49c561ba3b', name='category-encoders', technology='PYTHON', installation_status='INSTALLED', created_by='vyshnav mt', created_on='2020-09-02T07:48:43.000+00:00', modified_by='vyshnav mt', modified_on='2020-09-02T07:48:43.000+00:00'), PlatformLibrary(id_='457fa834-7dcd-4854-a92c-7af59d9e81a5', artifact_version='7e9ceb41-1f3f-44f4-a790-5d4d37340fa7', name='SparseCoding1', technology='PYTHON', installation_status='INSTALLED', created_by='Ayan Basak', created_on='2020-07-20T09:30:21.000+00:00', modified_by='Ayan Basak', modified_on='2020-07-20T09:30:22.000+00:00'), PlatformLibrary(id_='491354da-9fdd-4133-9721-028b1e62d944', artifact_version='3ab5f4cf-e410-44e4-9002-b43da31a9b42', name='tssplit', technology='PYTHON', installation_status='INSTALLED', created_by='Aneesh K', created_on='2020-08-15T08:46:01.000+00:00', modified_by='Aneesh K', modified_on='2020-08-15T08:46:01.000+00:00'), PlatformLibrary(id_='537de00b-98ce-48ba-9aae-4715f006d8e6', artifact_version='b94fb983-8da3-492c-b96c-135536a4b35d', name='PrettyTable', technology='PYTHON', installation_status='INSTALLED', created_by='Himaprasoon P T', created_on='2020-09-16T10:54:41.000+00:00', modified_by='Himaprasoon P T', modified_on='2020-09-16T10:54:41.000+00:00'), PlatformLibrary(id_='58c0f959-3ec6-4a38-a48b-a5a981e2e087', artifact_version='5d719508-24dc-47a9-b703-7a73e459c49a', name='beautifulsoup4', technology='PYTHON', installation_status='INSTALLED', created_by='Abhishek Sharma', created_on='2020-07-07T15:58:22.000+00:00', modified_by='Abhishek Sharma', modified_on='2020-07-07T15:58:22.000+00:00'), PlatformLibrary(id_='5dc85aa3-a441-4825-b35a-9719f9b68dcf', artifact_version='99ae9de2-fc89-40ea-96d8-88291ee57c31', name='Arrow', technology='PYTHON', installation_status='INSTALLED', created_by='amith koujalgi', created_on='2020-07-10T03:35:37.000+00:00', modified_by='amith koujalgi', modified_on='2020-07-10T03:35:37.000+00:00'), PlatformLibrary(id_='67c347a0-3026-408d-a907-82f3f1451236', artifact_version='a56fd3bc-7a1f-42db-af4a-7b0708b3f4da', name='opencv-python', technology='PYTHON', installation_status='INSTALLED', created_by='Ayan Basak', created_on='2020-07-16T05:18:02.000+00:00', modified_by='Ayan Basak', modified_on='2020-07-16T05:18:02.000+00:00'), PlatformLibrary(id_='6eca1e2e-cfbb-43c9-919d-29e5ed697f7a', artifact_version='54ed2c1c-b121-45ae-9fad-f3f2a3f55cb1', name='xgboost', technology='PYTHON', installation_status='INSTALLED', created_by='vyshnav mt', created_on='2020-07-31T06:38:22.000+00:00', modified_by='vyshnav mt', modified_on='2020-07-31T06:38:22.000+00:00'), PlatformLibrary(id_='7d297097-18ca-4665-bf1c-4ac790804ee2', artifact_version='286d4627-98d7-4b82-8afa-583deb7aaafd', name='scikit-learn', technology='PYTHON', installation_status='INSTALLED', created_by='Ayan Basak', created_on='2020-07-30T11:20:51.000+00:00', modified_by='Ayan Basak', modified_on='2020-07-30T11:20:51.000+00:00'), PlatformLibrary(id_='a1293916-0a77-457e-a5b0-70d561a358ab', artifact_version='e4adc4fc-b1a2-4fcf-ac35-e97b6bb08c0d', name='humanize', technology='PYTHON', installation_status='INSTALLED', created_by='Himaprasoon P T', created_on='2020-09-16T10:56:50.000+00:00', modified_by='Himaprasoon P T', modified_on='2020-09-16T10:56:51.000+00:00'), PlatformLibrary(id_='b38a41f3-784d-4ca4-b93c-7e5fb2a6a9e9', artifact_version='e5d84523-714d-4e86-907f-e9212d87b03b', name='keras', technology='PYTHON', installation_status='INSTALLED', created_by='souryadipta das', created_on='2020-08-03T09:15:13.000+00:00', modified_by='souryadipta das', modified_on='2020-08-03T09:15:14.000+00:00'), PlatformLibrary(id_='b501f9f3-f5cd-4f41-8ac0-352802952235', artifact_version='db371523-7cd1-4d52-b67d-674f93bbeb8e', name='category_encoders', technology='PYTHON', installation_status='INSTALLED', created_by='vyshnav mt', created_on='2020-08-19T11:05:45.000+00:00', modified_by='vyshnav mt', modified_on='2020-08-19T11:05:45.000+00:00'), PlatformLibrary(id_='bbedefbc-fc62-4557-8061-cad184093126', artifact_version='69951dab-2488-4fa9-a92e-7035ba0e9493', name='textblob', technology='PYTHON', installation_status='INSTALLED', created_by='Ayan Basak', created_on='2020-07-30T11:20:50.000+00:00', modified_by='Ayan Basak', modified_on='2020-07-30T11:20:50.000+00:00'), PlatformLibrary(id_='cecd539b-710a-4452-afc7-372bb6ee985f', artifact_version='3d312a09-f780-4a9e-81fb-30f1088155fa', name='dotmap', technology='PYTHON', installation_status='INSTALLED', created_by='Aneesh K', created_on='2020-08-10T17:04:41.000+00:00', modified_by='Suraj Kumar', modified_on='2020-09-10T07:16:13.000+00:00'), PlatformLibrary(id_='d2fc91d1-b32f-49ce-be3a-c1b7ea35e84e', artifact_version='48372e23-f99e-4e59-8f67-3240866bc4af', name='TestLib', technology='PYTHON', installation_status='INSTALLATION_FAILED', created_by='saurabh jain', created_on='2020-06-07T17:36:42.000+00:00', modified_by='saurabh jain', modified_on='2020-06-07T17:36:42.000+00:00'), PlatformLibrary(id_='dc27f379-d8d7-42b9-baf5-678e4abb02bd', artifact_version='55ffe8b9-8ef9-43fc-9628-f74ba0c27153', name='tensorflow1.13', technology='PYTHON', installation_status='INSTALLED', created_by='Phaneendra B', created_on='2020-09-16T05:42:10.000+00:00', modified_by='Phaneendra B', modified_on='2020-09-16T08:23:12.000+00:00'), PlatformLibrary(id_='de7516ee-c7c5-458a-9985-99efa277626b', artifact_version='dc1396b1-0b57-4dfe-8d5a-76b8038cc761', name='shap', technology='PYTHON', installation_status='INSTALLED', created_by='vyshnav mt', created_on='2020-08-18T13:05:17.000+00:00', modified_by='vyshnav mt', modified_on='2020-08-18T13:05:18.000+00:00'), PlatformLibrary(id_='eee7dba3-af75-4cb4-aeda-498a706e7992', artifact_version='15f36615-5eb6-4ec2-a5ae-e5219d722f4d', name='idp', technology='PYTHON', installation_status='INSTALLED', created_by='amith koujalgi', created_on='2020-09-02T05:16:22.000+00:00', modified_by='amith koujalgi', modified_on='2020-09-02T05:16:23.000+00:00')])"
      ]
     },
     "execution_count": 15,
     "metadata": {},
     "output_type": "execute_result"
    }
   ],
   "source": [
    "razor.api.libraries()"
   ]
  },
  {
   "cell_type": "code",
   "execution_count": 16,
   "metadata": {},
   "outputs": [],
   "source": [
    "# lib1 = razor.api.libraries(name='torch').artifact()\n",
    "# lib1 = razor.api.libraries(name='opencv-python').artifact()"
   ]
  },
  {
   "cell_type": "code",
   "execution_count": 17,
   "metadata": {},
   "outputs": [],
   "source": [
    "get_configs.executor = rf.ContainerExecutor(cores=1, memory=1048)\n",
    "preprocess.executor = rf.ContainerExecutor(cores=2, memory=5000)\n",
    "runner.executor = rf.ContainerExecutor(cores=4, memory=5000)"
   ]
  },
  {
   "cell_type": "code",
   "execution_count": 18,
   "metadata": {},
   "outputs": [],
   "source": [
    "deployed_pipeline = razor.api.engines('DS-engine').execute(pipeline=p)\n"
   ]
  },
  {
   "cell_type": "code",
   "execution_count": 19,
   "metadata": {},
   "outputs": [
    {
     "data": {
      "application/vnd.razorthink.run+monitor+json": "/home/jovyan/logs/17b291fc-481d-46c3-8905-5a66d0f9d568",
      "text/plain": [
       "<razor_tools.backend.ipython.mime.run_monitor.RunMonitor at 0x7fb489f684d0>"
      ]
     },
     "metadata": {
      "application/vnd.razorthink.run+monitor+json": {
       "store_in_notebook": false
      }
     },
     "output_type": "display_data"
    },
    {
     "data": {
      "text/html": [],
      "text/plain": [
       "PlatformPipelineRun(project_id='f374757a-cc52-4a94-99ae-aa8e7dcea8be', pipeline_id='6d20407c-fbe1-11ea-87fc-0242ac11000b', pipeline_name='sparse_encoding', pipeline_run_id='17b291fc-481d-46c3-8905-5a66d0f9d568', pipeline_version=None, comment=None, created_on='2020-09-21T08:15:41.549+00:00', start_time=None, end_time=None, eta=0, run_at=1600676141549, run_duration=0, compute_time=0, wait_time=2, ran_by_user=RanByUser(user_name='souryadipta das', email='souryadipta.das@razorthink.com'), status='IN_PROGRESS', block_status=[PlatformPipelineBlockRun(pipeline_run_id='17b291fc-481d-46c3-8905-5a66d0f9d568', pipeline_name='sparse_encoding', pipeline_status='IN_PROGRESS', block_id='b01e057b-1740-45af-b21b-7877b774de88', block_run_id='564b42d1-681c-43e0-a742-5c6a06b5642f', block_name='GetConfigs_1', resource_spec=ResourceAllocated(cores=1, memory=1048, use_gpu=False, gpu=0, use_gpu_if_available=False, cluster_configuration={'worker': None, 'workerCore': None, 'workerMemory': None, 'numberOfInstances': None, 'maxServerCount': None}, additional_env={}, run_env='PYTHON'), technology='PYTHON', status='READY_TO_GO', containers=[], cluster_id='b01e057b-1740-45af-b21b-7877b774de88', _log=None, _metric=None, wait_time=0, compute_time=0, start_time=None, end_time=None, queued_at='2020-09-21T08:15:42.000+00:00'), PlatformPipelineBlockRun(pipeline_run_id='17b291fc-481d-46c3-8905-5a66d0f9d568', pipeline_name='sparse_encoding', pipeline_status='IN_PROGRESS', block_id='0d7e7f44-eb18-4dc4-9690-379fa4d492ab', block_run_id='6ea576e3-5027-4dbd-a675-d3c53e1361ed', block_name='Preprocess_1', resource_spec=ResourceAllocated(cores=2, memory=5000, use_gpu=False, gpu=0, use_gpu_if_available=False, cluster_configuration={'worker': None, 'workerCore': None, 'workerMemory': None, 'numberOfInstances': None, 'maxServerCount': None}, additional_env={}, run_env='PYTHON'), technology='PYTHON', status='YET_TO_START', containers=[], cluster_id='0d7e7f44-eb18-4dc4-9690-379fa4d492ab', _log=None, _metric=None, wait_time=0, compute_time=0, start_time=None, end_time=None, queued_at=None), PlatformPipelineBlockRun(pipeline_run_id='17b291fc-481d-46c3-8905-5a66d0f9d568', pipeline_name='sparse_encoding', pipeline_status='IN_PROGRESS', block_id='fb7ba1b2-75cc-49e6-82d3-711426e44b46', block_run_id='129748ec-7f62-482b-9ea8-cece913ba57b', block_name='Runner_1', resource_spec=ResourceAllocated(cores=4, memory=5000, use_gpu=False, gpu=0, use_gpu_if_available=False, cluster_configuration={'worker': None, 'workerCore': None, 'workerMemory': None, 'numberOfInstances': None, 'maxServerCount': None}, additional_env={}, run_env='PYTHON'), technology='PYTHON', status='YET_TO_START', containers=[], cluster_id='fb7ba1b2-75cc-49e6-82d3-711426e44b46', _log=None, _metric=None, wait_time=0, compute_time=0, start_time=None, end_time=None, queued_at=None)], run_number=80, pipeline_variable_list=[], block_run_details=[BlockRunDetail(block_id='b01e057b-1740-45af-b21b-7877b774de88', block_run_id='564b42d1-681c-43e0-a742-5c6a06b5642f', block_name='GetConfigs_1', technology='PYTHON', log_path=None, input_parameters='{\\n  \"material\": {\\n    \"dtype\": \"Any\",\\n    \"required\": \"false\",\\n    \"series\": false,\\n    \"adapter\": \"eJxrYJmqxgABPYJFiVX5RXppOfnlern5Kak5xVN6ePLy8wviE1MSC0pSi6ZMnqIHAF/+ELQ=\",\\n    \"validator\": \"eJxrYJmqwQABPYJFiVX5RXppOfnlern5Kak5xVN6+PLy8wviyxJzMlMSS/KLpkyeogcAg2wRnQ==\",\\n    \"source_id\": null,\\n    \"source_name\": null,\\n    \"inferred_type\": \"STATIC\",\\n    \"value\": \"eJxrYJnKwQABPSzpRZkpU/QAIYYEGg==\"\\n  }\\n}', output_parameters=None, status='READY_TO_GO', created_at='2020-09-21T08:15:41.629+00:00', queued_at='2020-09-21T08:15:42.000+00:00', start_time=None, end_time=None, compute_time=0, wait_time=0, run_time=0, block_run_output_list=[BlockRunOutputList(output_id='e18d694b-13b6-4298-bfc9-edb4616a995f', output_name='config', created_on='2020-09-21T08:15:41.685+00:00', output_status='YET_TO_START', block_transport='KAFKA')], resource_allocated=ResourceAllocated(cores=1, memory=1048, use_gpu=False, gpu=0, use_gpu_if_available=False, cluster_configuration={'worker': None, 'workerCore': None, 'workerMemory': None, 'numberOfInstances': None, 'maxServerCount': None}, additional_env={}, run_env='PYTHON')), BlockRunDetail(block_id='0d7e7f44-eb18-4dc4-9690-379fa4d492ab', block_run_id='6ea576e3-5027-4dbd-a675-d3c53e1361ed', block_name='Preprocess_1', technology='PYTHON', log_path=None, input_parameters=None, output_parameters=None, status='YET_TO_START', created_at='2020-09-21T08:15:41.706+00:00', queued_at=None, start_time=None, end_time=None, compute_time=0, wait_time=0, run_time=0, block_run_output_list=[BlockRunOutputList(output_id='af3e59e3-7d66-446c-aedf-27360e8b6002', output_name='prepro', created_on='2020-09-21T08:15:41.755+00:00', output_status='YET_TO_START', block_transport='KAFKA'), BlockRunOutputList(output_id='d3b4a316-b3d5-4b6c-9a95-d0ac6bc7bff1', output_name='model_prepro', created_on='2020-09-21T08:15:41.755+00:00', output_status='YET_TO_START', block_transport='KAFKA')], resource_allocated=ResourceAllocated(cores=2, memory=5000, use_gpu=False, gpu=0, use_gpu_if_available=False, cluster_configuration={'worker': None, 'workerCore': None, 'workerMemory': None, 'numberOfInstances': None, 'maxServerCount': None}, additional_env={}, run_env='PYTHON')), BlockRunDetail(block_id='fb7ba1b2-75cc-49e6-82d3-711426e44b46', block_run_id='129748ec-7f62-482b-9ea8-cece913ba57b', block_name='Runner_1', technology='PYTHON', log_path=None, input_parameters=None, output_parameters=None, status='YET_TO_START', created_at='2020-09-21T08:15:41.774+00:00', queued_at=None, start_time=None, end_time=None, compute_time=0, wait_time=0, run_time=0, block_run_output_list=[], resource_allocated=ResourceAllocated(cores=4, memory=5000, use_gpu=False, gpu=0, use_gpu_if_available=False, cluster_configuration={'worker': None, 'workerCore': None, 'workerMemory': None, 'numberOfInstances': None, 'maxServerCount': None}, additional_env={}, run_env='PYTHON'))], pipeline_json='{\\n  \"id\": \"6d20407c-fbe1-11ea-87fc-0242ac11000b\",\\n  \"projectId\": \"f374757a-cc52-4a94-99ae-aa8e7dcea8be\",\\n  \"name\": \"sparse_encoding\",\\n  \"description\": \"\",\\n  \"blocks\": [\\n    {\\n      \"name\": \"Runner_1\",\\n      \"id\": \"fb7ba1b2-75cc-49e6-82d3-711426e44b46\",\\n      \"artifact_id\": null,\\n      \"class_name\": \"Runner\",\\n      \"code\": \"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\",\\n      \"isPublishedBlock\": false,\\n      \"source\": null,\\n      \"inputProperty\": {\\n        \"mode\": {\\n          \"dtype\": \"Any\",\\n          \"required\": \"false\",\\n          \"series\": false,\\n          \"adapter\": \"eJxrYJmqxgABPYJFiVX5RXppOfnlern5Kak5xVN6ePLy8wviE1MSC0pSi6ZMnqIHAF/+ELQ=\",\\n          \"validator\": \"eJxrYJmqwQABPYJFiVX5RXppOfnlern5Kak5xVN6+PLy8wviyxJzMlMSS/KLpkyeogcAg2wRnQ==\",\\n          \"source_id\": null,\\n          \"source_name\": null,\\n          \"inferred_type\": \"STATIC\",\\n          \"value\": \"eJxrYJnKwQABPSwlqcUlU/QAIesENA==\"\\n        },\\n        \"config\": {\\n          \"dtype\": \"Any\",\\n          \"required\": \"false\",\\n          \"series\": false,\\n          \"adapter\": \"eJxrYJmqxgABPYJFiVX5RXppOfnlern5Kak5xVN6ePLy8wviE1MSC0pSi6ZMnqIHAF/+ELQ=\",\\n          \"validator\": \"eJxrYJmqwQABPYJFiVX5RXppOfnlern5Kak5xVN6+PLy8wviyxJzMlMSS/KLpkyeogcAg2wRnQ==\",\\n          \"source_id\": \"b01e057b-1740-45af-b21b-7877b774de88\",\\n          \"source_name\": \"config\",\\n          \"inferred_type\": \"BLOCK\",\\n          \"value\": null\\n        },\\n        \"preprocesses_path\": {\\n          \"dtype\": \"Any\",\\n          \"required\": \"false\",\\n          \"series\": false,\\n          \"adapter\": \"eJxrYJmqxgABPYJFiVX5RXppOfnlern5Kak5xVN6ePLy8wviE1MSC0pSi6ZMnqIHAF/+ELQ=\",\\n          \"validator\": \"eJxrYJmqwQABPYJFiVX5RXppOfnlern5Kak5xVN6+PLy8wviyxJzMlMSS/KLpkyeogcAg2wRnQ==\",\\n          \"source_id\": \"0d7e7f44-eb18-4dc4-9690-379fa4d492ab\",\\n          \"source_name\": \"prepro\",\\n          \"inferred_type\": \"BLOCK\",\\n          \"value\": null\\n        },\\n        \"model_preprocesses_path\": {\\n          \"dtype\": \"Any\",\\n          \"required\": \"false\",\\n          \"series\": false,\\n          \"adapter\": \"eJxrYJmqxgABPYJFiVX5RXppOfnlern5Kak5xVN6ePLy8wviE1MSC0pSi6ZMnqIHAF/+ELQ=\",\\n          \"validator\": \"eJxrYJmqwQABPYJFiVX5RXppOfnlern5Kak5xVN6+PLy8wviyxJzMlMSS/KLpkyeogcAg2wRnQ==\",\\n          \"source_id\": \"0d7e7f44-eb18-4dc4-9690-379fa4d492ab\",\\n          \"source_name\": \"model_prepro\",\\n          \"inferred_type\": \"BLOCK\",\\n          \"value\": null\\n        }\\n      },\\n      \"outputProperty\": {},\\n      \"resourceRequirement\": {\\n        \"cores\": 4,\\n        \"memory\": 5000,\\n        \"useGpu\": false,\\n        \"gpu\": 0,\\n        \"useGpuIfAvailable\": false,\\n        \"clusterConfiguration\": {\\n          \"worker\": null,\\n          \"workerCore\": null,\\n          \"workerMemory\": null,\\n          \"numberOfInstances\": null,\\n          \"maxServerCount\": null\\n        },\\n        \"additionalEnv\": {},\\n        \"runEnv\": \"PYTHON\"\\n      },\\n      \"executionType\": \"BlockExecutor\",\\n      \"dependencies\": [\\n        {\\n          \"libraryId\": \"67c347a0-3026-408d-a907-82f3f1451236\",\\n          \"libraryVersionId\": \"a56fd3bc-7a1f-42db-af4a-7b0708b3f4da\"\\n        },\\n        {\\n          \"libraryId\": \"67c347a0-3026-408d-a907-82f3f1451236\",\\n          \"libraryVersionId\": \"a56fd3bc-7a1f-42db-af4a-7b0708b3f4da\"\\n        }\\n      ],\\n      \"system_dependencies\": null,\\n      \"meta_data\": null,\\n      \"process_id\": null,\\n      \"eta\": 0\\n    },\\n    {\\n      \"name\": \"GetConfigs_1\",\\n      \"id\": \"b01e057b-1740-45af-b21b-7877b774de88\",\\n      \"artifact_id\": null,\\n      \"class_name\": \"GetConfigs\",\\n      \"code\": \"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\",\\n      \"isPublishedBlock\": false,\\n      \"source\": null,\\n      \"inputProperty\": {\\n        \"material\": {\\n          \"dtype\": \"Any\",\\n          \"required\": \"false\",\\n          \"series\": false,\\n          \"adapter\": \"eJxrYJmqxgABPYJFiVX5RXppOfnlern5Kak5xVN6ePLy8wviE1MSC0pSi6ZMnqIHAF/+ELQ=\",\\n          \"validator\": \"eJxrYJmqwQABPYJFiVX5RXppOfnlern5Kak5xVN6+PLy8wviyxJzMlMSS/KLpkyeogcAg2wRnQ==\",\\n          \"source_id\": null,\\n          \"source_name\": null,\\n          \"inferred_type\": \"STATIC\",\\n          \"value\": \"eJxrYJnKwQABPSzpRZkpU/QAIYYEGg==\"\\n        }\\n      },\\n      \"outputProperty\": {\\n        \"config\": {\\n          \"series\": false,\\n          \"adapter\": \"eJxrYJmqxgABPYJFiVX5RXppOfnlern5Kak5xVN6ePLy8wviE1MSC0pSi6ZMnqIHAF/+ELQ=\",\\n          \"transport\": \"SOCKET\"\\n        }\\n      },\\n      \"resourceRequirement\": {\\n        \"cores\": 1,\\n        \"memory\": 1048,\\n        \"useGpu\": false,\\n        \"gpu\": 0,\\n        \"useGpuIfAvailable\": false,\\n        \"clusterConfiguration\": {\\n          \"worker\": null,\\n          \"workerCore\": null,\\n          \"workerMemory\": null,\\n          \"numberOfInstances\": null,\\n          \"maxServerCount\": null\\n        },\\n        \"additionalEnv\": {},\\n        \"runEnv\": \"PYTHON\"\\n      },\\n      \"executionType\": \"BlockExecutor\",\\n      \"dependencies\": [],\\n      \"system_dependencies\": null,\\n      \"meta_data\": null,\\n      \"process_id\": null,\\n      \"eta\": 0\\n    },\\n    {\\n      \"name\": \"Preprocess_1\",\\n      \"id\": \"0d7e7f44-eb18-4dc4-9690-379fa4d492ab\",\\n      \"artifact_id\": null,\\n      \"class_name\": \"Preprocess\",\\n      \"code\": \"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\",\\n      \"isPublishedBlock\": false,\\n      \"source\": null,\\n      \"inputProperty\": {\\n        \"config\": {\\n          \"dtype\": \"Any\",\\n          \"required\": \"false\",\\n          \"series\": false,\\n          \"adapter\": \"eJxrYJmqxgABPYJFiVX5RXppOfnlern5Kak5xVN6ePLy8wviE1MSC0pSi6ZMnqIHAF/+ELQ=\",\\n          \"validator\": \"eJxrYJmqwQABPYJFiVX5RXppOfnlern5Kak5xVN6+PLy8wviyxJzMlMSS/KLpkyeogcAg2wRnQ==\",\\n          \"source_id\": \"b01e057b-1740-45af-b21b-7877b774de88\",\\n          \"source_name\": \"config\",\\n          \"inferred_type\": \"BLOCK\",\\n          \"value\": null\\n        }\\n      },\\n      \"outputProperty\": {\\n        \"prepro\": {\\n          \"series\": false,\\n          \"adapter\": \"eJxrYJmqxgABPYJFiVX5RXppOfnlern5Kak5xVN6ePLy8wviE1MSC0pSi6ZMnqIHAF/+ELQ=\",\\n          \"transport\": \"SOCKET\"\\n        },\\n        \"model_prepro\": {\\n          \"series\": false,\\n          \"adapter\": \"eJxrYJmqxgABPYJFiVX5RXppOfnlern5Kak5xVN6ePLy8wviE1MSC0pSi6ZMnqIHAF/+ELQ=\",\\n          \"transport\": \"SOCKET\"\\n        }\\n      },\\n      \"resourceRequirement\": {\\n        \"cores\": 2,\\n        \"memory\": 5000,\\n        \"useGpu\": false,\\n        \"gpu\": 0,\\n        \"useGpuIfAvailable\": false,\\n        \"clusterConfiguration\": {\\n          \"worker\": null,\\n          \"workerCore\": null,\\n          \"workerMemory\": null,\\n          \"numberOfInstances\": null,\\n          \"maxServerCount\": null\\n        },\\n        \"additionalEnv\": {},\\n        \"runEnv\": \"PYTHON\"\\n      },\\n      \"executionType\": \"BlockExecutor\",\\n      \"dependencies\": [\\n        {\\n          \"libraryId\": \"67c347a0-3026-408d-a907-82f3f1451236\",\\n          \"libraryVersionId\": \"a56fd3bc-7a1f-42db-af4a-7b0708b3f4da\"\\n        },\\n        {\\n          \"libraryId\": \"67c347a0-3026-408d-a907-82f3f1451236\",\\n          \"libraryVersionId\": \"a56fd3bc-7a1f-42db-af4a-7b0708b3f4da\"\\n        }\\n      ],\\n      \"system_dependencies\": null,\\n      \"meta_data\": null,\\n      \"process_id\": null,\\n      \"eta\": 0\\n    }\\n  ],\\n  \"connections\": [\\n    {\\n      \"source_block_id\": \"b01e057b-1740-45af-b21b-7877b774de88\",\\n      \"target_block_id\": \"0d7e7f44-eb18-4dc4-9690-379fa4d492ab\",\\n      \"source_output\": \"config\",\\n      \"target_input\": \"config\"\\n    },\\n    {\\n      \"source_block_id\": \"0d7e7f44-eb18-4dc4-9690-379fa4d492ab\",\\n      \"target_block_id\": \"fb7ba1b2-75cc-49e6-82d3-711426e44b46\",\\n      \"source_output\": \"model_prepro\",\\n      \"target_input\": \"model_preprocesses_path\"\\n    },\\n    {\\n      \"source_block_id\": \"b01e057b-1740-45af-b21b-7877b774de88\",\\n      \"target_block_id\": \"fb7ba1b2-75cc-49e6-82d3-711426e44b46\",\\n      \"source_output\": \"config\",\\n      \"target_input\": \"config\"\\n    },\\n    {\\n      \"source_block_id\": \"0d7e7f44-eb18-4dc4-9690-379fa4d492ab\",\\n      \"target_block_id\": \"fb7ba1b2-75cc-49e6-82d3-711426e44b46\",\\n      \"source_output\": \"prepro\",\\n      \"target_input\": \"preprocesses_path\"\\n    }\\n  ],\\n  \"priority\": \"LOW\",\\n  \"infraResourceEstimation\": null,\\n  \"resourceRequirement\": {\\n    \"cores\": null,\\n    \"memory\": null,\\n    \"useGpu\": null,\\n    \"gpu\": null,\\n    \"useGpuIfAvailable\": null,\\n    \"clusterConfiguration\": null,\\n    \"additionalEnv\": {},\\n    \"runEnv\": null\\n  },\\n  \"comments\": null,\\n  \"order\": null,\\n  \"uiData\": null,\\n  \"dom\": null,\\n  \"systemGenerated\": false,\\n  \"systemModel\": false,\\n  \"pipelineVariableList\": [],\\n  \"pipelineTemplateVersion\": 0.0,\\n  \"versionId\": null,\\n  \"engineId\": \"65ed2499-f8c9-4c4d-ad27-aa689bd1531e\",\\n  \"userId\": \"5da82833-9f26-45a6-b329-19ce45acfb70\",\\n  \"runInitiatedFrom\": \"JUPYTER\",\\n  \"processList\": null,\\n  \"processInfo\": null\\n}', dom='Yet to add', order=None, infra_resource='{\\n  \"zookeeper\": {\\n    \"cores\": 1,\\n    \"memory\": 1024,\\n    \"useGpu\": null,\\n    \"gpu\": null,\\n    \"useGpuIfAvailable\": null,\\n    \"clusterConfiguration\": null,\\n    \"additionalEnv\": {},\\n    \"runEnv\": null\\n  },\\n  \"kafka\": {\\n    \"cores\": 1,\\n    \"memory\": 1024,\\n    \"useGpu\": null,\\n    \"gpu\": null,\\n    \"useGpuIfAvailable\": null,\\n    \"clusterConfiguration\": null,\\n    \"additionalEnv\": {},\\n    \"runEnv\": null\\n  }\\n}', resource_spec=ResourceAllocated(cores=None, memory=None, use_gpu=None, gpu=None, use_gpu_if_available=None, cluster_configuration=None, additional_env={}, run_env=None), engine_id='65ed2499-f8c9-4c4d-ad27-aa689bd1531e', run_initiated_from='JUPYTER')"
      ]
     },
     "execution_count": 19,
     "metadata": {},
     "output_type": "execute_result"
    }
   ],
   "source": [
    "deployed_pipeline"
   ]
  },
  {
   "cell_type": "code",
   "execution_count": null,
   "metadata": {},
   "outputs": [],
   "source": []
  },
  {
   "cell_type": "code",
   "execution_count": 23,
   "metadata": {},
   "outputs": [],
   "source": [
    "eng = razor.api.engines('DS-engine')"
   ]
  },
  {
   "cell_type": "code",
   "execution_count": 25,
   "metadata": {},
   "outputs": [
    {
     "data": {
      "text/html": [
       "<html>\n",
       "\t<table width='100%'>\n",
       "\t\t<tr'><th>Slave Host</th><th>Type</th><th colspan='3' style='text-align: center;'>Usage</th></tr>\n",
       "\t\t<tbody>\n",
       "\t\t\t<tr><td>172.16.104.139 </td><td> INFRASTRUCTURE </td><td> CORE: Used 2 of 16 (12.5%)</td><td>RAM: Used 2.0 of 38.0GB (5.263157894736842%)</td></tr>\n",
       "\n",
       "\t\t\t<tr><td>172.16.114.95 </td><td> TECHNOLOGY </td><td> CORE: Used 0 of 12 (0.0%)</td><td>RAM: Used 0.0 of 52.0GB (0.0%)</td><td>GPU: Used 0 of 1 (0.0%)</td></tr>\n",
       "\n",
       "\t\t\t<tr><td>172.16.114.99 </td><td> TECHNOLOGY </td><td> CORE: Used 1 of 32 (3.125%)</td><td>RAM: Used 1.0 of 115.0GB (0.8695652173913043%)</td></tr>\n",
       "\n",
       "\t\t</tbody>\n",
       "\t</table>\n",
       "</html>"
      ],
      "text/plain": [
       "PlatformEngineHealthList(slave_usage_array=[PlatformEngineHealth(server_ip='172.16.114.95', server_type='TECHNOLOGY', server_usage_info=[ServerUsageInfo(label='Current cpu usage', graph_type='bar', unit='', total=12, used=0, available=12, value='CORE'), ServerUsageInfo(label='Current memory usage', graph_type='bar', unit='GB', total=55834574848.0, used=0.0, available=55834574848.0, value='RAM'), ServerUsageInfo(label='Current gpu usage', graph_type='bar', unit='', total=1, used=0, available=1, value='GPU')]), PlatformEngineHealth(server_ip='172.16.114.99', server_type='TECHNOLOGY', server_usage_info=[ServerUsageInfo(label='Current cpu usage', graph_type='bar', unit='', total=32, used=1, available=31, value='CORE'), ServerUsageInfo(label='Current memory usage', graph_type='bar', unit='GB', total=123480309760.0, used=1073741824.0, available=122406567936.0, value='RAM'), ServerUsageInfo(label='Current gpu usage', graph_type='bar', unit='', total=0, used=0, available=0, value='GPU')]), PlatformEngineHealth(server_ip='172.16.104.139', server_type='INFRASTRUCTURE', server_usage_info=[ServerUsageInfo(label='Current cpu usage', graph_type='bar', unit='', total=16, used=2, available=14, value='CORE'), ServerUsageInfo(label='Current memory usage', graph_type='bar', unit='GB', total=40802189312.0, used=2147483648.0, available=38654705664.0, value='RAM'), ServerUsageInfo(label='Current gpu usage', graph_type='bar', unit='', total=0, used=0, available=0, value='GPU')])])"
      ]
     },
     "execution_count": 25,
     "metadata": {},
     "output_type": "execute_result"
    }
   ],
   "source": [
    "eng.health()"
   ]
  },
  {
   "cell_type": "code",
   "execution_count": 1,
   "metadata": {},
   "outputs": [],
   "source": [
    "import razor"
   ]
  },
  {
   "cell_type": "code",
   "execution_count": 2,
   "metadata": {},
   "outputs": [
    {
     "data": {
      "text/html": [
       "<html>\n",
       "            <h4>Engines</h4>\n",
       "            <h5>Number of engines found: 1</h5>\n",
       "            <table width='100%'>\n",
       "                <tr>\n",
       "                    <th style='align:left; text-align:left;'>S.No</th>\n",
       "                    <th style='align:left; text-align:left;'>Name</th>\n",
       "                    <th style='align:left; text-align:left;'>Description</th>\n",
       "                    <th style='align:left; text-align:left;'>Status</th>\n",
       "                    <th style='align:left; text-align:left;'>Slaves</th>\n",
       "                </tr><tr>\n",
       "                            <td style='align:left; text-align:left;'>1</td>\n",
       "                            <td style='align:left; text-align:left;'>DS-engine</td>\n",
       "                            <td style='align:left; text-align:left;'>DS Team Engine</td>\n",
       "                            <td style='align:left; text-align:left;'>Running</td>\n",
       "                            <td style='align:left; text-align:left;'>3</td>\n",
       "                        </tr>\n",
       "                </table>\n",
       "            </html>\n",
       "        "
      ],
      "text/plain": [
       "PlatformEngineList(all_engines_list=[PlatformEngine(id_='65ed2499-f8c9-4c4d-ad27-aa689bd1531e', name='DS-engine', description='DS Team Engine', created_by={'userId': '905364b0-6e6f-4b21-b92e-fb84f4a09876', 'userName': 'admin rzt', 'email': 'arjun.das@razorthink.com'}, modified_by=None, created_on='2020-05-21T17:11:30.441+0000', modified_on=None, status='Running', message='', engine_slaves=PlatformEngineSlaveList(all_slaves=[PlatformEngineSlave(id_='9b044cda-d5a6-4c62-89e7-12b85bc3ffc6', host_name='GPU1', ip='172.16.114.95', ram='52 GB', cores=12, gpu_cores=1, hdd='813 GB', to_ip=None, gpu=True, status='Running', message='', service_name=None, server_type_name='Technology', server_type_id='f711eb25-30ec-11e9-babd-fa163e093ca8', bulk=False, containers_list=[]), PlatformEngineSlave(id_='e7bc3035-930b-4ad0-8935-7286e2cdb1f8', host_name='infra', ip='172.16.115.94', ram='38 GB', cores=16, gpu_cores=0, hdd='542 GB', to_ip=None, gpu=False, status='Running', message='', service_name=None, server_type_name='Infrastructure', server_type_id='e51b38a6-30ec-11e9-babd-fa163e093ca8', bulk=False, containers_list=[]), PlatformEngineSlave(id_='ebf9afce-6738-491c-b658-88dab22a0b3d', host_name='tech1', ip='172.16.114.99', ram='115 GB', cores=32, gpu_cores=0, hdd='2 TB', to_ip=None, gpu=False, status='Running', message='', service_name=None, server_type_name='Technology', server_type_id='f711eb25-30ec-11e9-babd-fa163e093ca8', bulk=False, containers_list=[])]), containers_list=[])])"
      ]
     },
     "execution_count": 2,
     "metadata": {},
     "output_type": "execute_result"
    }
   ],
   "source": [
    "razor.api.engines()"
   ]
  },
  {
   "cell_type": "code",
   "execution_count": null,
   "metadata": {},
   "outputs": [],
   "source": []
  },
  {
   "cell_type": "code",
   "execution_count": null,
   "metadata": {},
   "outputs": [],
   "source": []
  },
  {
   "cell_type": "markdown",
   "metadata": {},
   "source": [
    "# Import from published"
   ]
  },
  {
   "cell_type": "code",
   "execution_count": null,
   "metadata": {},
   "outputs": [],
   "source": []
  },
  {
   "cell_type": "code",
   "execution_count": 6,
   "metadata": {},
   "outputs": [],
   "source": [
    "from razor.project.blocks.SE_Jenoptik_bundle import GetConfigs, Preprocess, Runner"
   ]
  },
  {
   "cell_type": "code",
   "execution_count": 18,
   "metadata": {},
   "outputs": [],
   "source": [
    "get_configs = (\n",
    "    GetConfigs()\n",
    "    .material('grid')\n",
    "    .config(transport=FileTransport)\n",
    "    .executor(ContainerExecutor(cores=2, memory=512))\n",
    ")\n",
    "\n",
    "\n",
    "preprocess = (\n",
    "    Preprocess()\n",
    "    .config(get_configs.config)  # (series, json)\n",
    "    .prepro(transport=FileTransport)\n",
    "    .model_prepro(transport=FileTransport)\n",
    "    .executor(ContainerExecutor(cores=2, memory=8192))\n",
    ")\n",
    "\n",
    "\n",
    "runner = (\n",
    "    Runner()\n",
    "    .model_preprocesses_path(preprocess.model_prepro)  # (series, generic)\n",
    "    .preprocesses_path(preprocess.prepro)  # (series, generic)\n",
    "    .config(get_configs.config)  # (series, json)\n",
    "#     .mode(\"train\")  # (series, string)\n",
    "    .mode(\"train\")\n",
    "    .executor(ContainerExecutor(cores=2, memory=8192))\n",
    ")\n",
    "\n"
   ]
  },
  {
   "cell_type": "code",
   "execution_count": 19,
   "metadata": {},
   "outputs": [],
   "source": [
    "p = Pipeline(\"sparse_encoding_10\", targets=[runner])  #preprocess"
   ]
  },
  {
   "cell_type": "code",
   "execution_count": 20,
   "metadata": {},
   "outputs": [
    {
     "data": {
      "application/vnd.razorthink.interactive+pipeline+view+json": {
       "blocks": [
        {
         "class_name": "GetConfigs",
         "id": "8b8a8cd9-970e-40e6-99a9-e61d41d228c2",
         "inputs": [
          {
           "default": "",
           "doc": null,
           "dtype": "string",
           "flow": "series",
           "label": null,
           "name": "material",
           "required": false
          }
         ],
         "outputs": [
          {
           "doc": null,
           "dtype": "generic",
           "flow": "series",
           "label": null,
           "name": "config"
          }
         ],
         "overwritten": false,
         "var_names": [
          "GetConfigs"
         ]
        },
        {
         "class_name": "Runner",
         "id": "79c7e849-4f17-437d-8b5f-f0021fe7a8c4",
         "inputs": [
          {
           "default": null,
           "doc": null,
           "dtype": "generic",
           "flow": "series",
           "label": null,
           "name": "model_preprocesses_path",
           "required": false
          },
          {
           "default": null,
           "doc": null,
           "dtype": "generic",
           "flow": "series",
           "label": null,
           "name": "preprocesses_path",
           "required": false
          },
          {
           "default": {},
           "doc": null,
           "dtype": "json",
           "flow": "series",
           "label": null,
           "name": "config",
           "required": false
          },
          {
           "default": "",
           "doc": null,
           "dtype": "string",
           "flow": "series",
           "label": null,
           "name": "mode",
           "required": false
          }
         ],
         "outputs": [],
         "overwritten": false,
         "var_names": [
          "Runner"
         ]
        },
        {
         "class_name": "Preprocess",
         "id": "12c3e6c6-df76-47ea-be06-71fbc0bfcfa0",
         "inputs": [
          {
           "default": {},
           "doc": null,
           "dtype": "json",
           "flow": "series",
           "label": null,
           "name": "config",
           "required": false
          }
         ],
         "outputs": [
          {
           "doc": null,
           "dtype": "generic",
           "flow": "series",
           "label": null,
           "name": "model_prepro"
          },
          {
           "doc": null,
           "dtype": "generic",
           "flow": "series",
           "label": null,
           "name": "prepro"
          }
         ],
         "overwritten": false,
         "var_names": [
          "Preprocess"
         ]
        }
       ],
       "connections": [
        {
         "id": "07c30532-b90b-4efe-a319-ec441924e39e",
         "source": {
          "adapter": false,
          "instance_id": "7ede4e0c-6c59-42b3-81a4-96531c669bbe",
          "name": "config"
         },
         "target": {
          "adapter": false,
          "instance_id": "33ce4692-7a78-456a-b416-4deb20234377",
          "name": "config"
         }
        },
        {
         "id": "496f08e1-7c6d-45ff-a09b-4d2b937b8e5b",
         "source": {
          "adapter": false,
          "instance_id": "bdbb22ba-0134-480b-b0e1-7c98d3a7d729",
          "name": "model_prepro"
         },
         "target": {
          "adapter": false,
          "instance_id": "33ce4692-7a78-456a-b416-4deb20234377",
          "name": "model_preprocesses_path"
         }
        },
        {
         "id": "13a8cda6-3983-4c98-a5a5-984bb7095db1",
         "source": {
          "adapter": false,
          "instance_id": "bdbb22ba-0134-480b-b0e1-7c98d3a7d729",
          "name": "prepro"
         },
         "target": {
          "adapter": false,
          "instance_id": "33ce4692-7a78-456a-b416-4deb20234377",
          "name": "preprocesses_path"
         }
        },
        {
         "id": "effd26e4-14dd-4ead-abdd-7159f18bfa7b",
         "source": {
          "adapter": false,
          "instance_id": "7ede4e0c-6c59-42b3-81a4-96531c669bbe",
          "name": "config"
         },
         "target": {
          "adapter": false,
          "instance_id": "bdbb22ba-0134-480b-b0e1-7c98d3a7d729",
          "name": "config"
         }
        }
       ],
       "id": "eea63f66-a49b-4642-a453-0e977787fe60",
       "instances": [
        {
         "block_class": "79c7e849-4f17-437d-8b5f-f0021fe7a8c4",
         "id": "33ce4692-7a78-456a-b416-4deb20234377",
         "name": "Runner_3",
         "var_names": [
          "runner"
         ]
        },
        {
         "block_class": "12c3e6c6-df76-47ea-be06-71fbc0bfcfa0",
         "id": "bdbb22ba-0134-480b-b0e1-7c98d3a7d729",
         "name": "Preprocess_3",
         "var_names": [
          "preprocess"
         ]
        },
        {
         "block_class": "8b8a8cd9-970e-40e6-99a9-e61d41d228c2",
         "id": "7ede4e0c-6c59-42b3-81a4-96531c669bbe",
         "name": "GetConfigs_3",
         "var_names": [
          "get_configs"
         ]
        }
       ],
       "name": "sparse_encoding_10",
       "var_names": []
      },
      "image/svg+xml": [
       "<?xml version=\"1.0\" encoding=\"UTF-8\" standalone=\"no\"?>\n",
       "<!DOCTYPE svg PUBLIC \"-//W3C//DTD SVG 1.1//EN\"\n",
       " \"http://www.w3.org/Graphics/SVG/1.1/DTD/svg11.dtd\">\n",
       "<!-- Generated by graphviz version 2.40.1 (20161225.0304)\n",
       " -->\n",
       "<!-- Title: %3 Pages: 1 -->\n",
       "<svg width=\"458pt\" height=\"210pt\"\n",
       " viewBox=\"0.00 0.00 458.36 210.00\" xmlns=\"http://www.w3.org/2000/svg\" xmlns:xlink=\"http://www.w3.org/1999/xlink\">\n",
       "<g id=\"graph0\" class=\"graph\" transform=\"scale(1 1) rotate(0) translate(4 206)\">\n",
       "<title>%3</title>\n",
       "<polygon fill=\"#ffffff\" stroke=\"transparent\" points=\"-4,4 -4,-206 454.3561,-206 454.3561,4 -4,4\"/>\n",
       "<!-- (Runner) Runner_3 -->\n",
       "<g id=\"node1\" class=\"node\">\n",
       "<title>(Runner) Runner_3</title>\n",
       "<ellipse fill=\"none\" stroke=\"#000000\" cx=\"102.3561\" cy=\"-18\" rx=\"62.2967\" ry=\"18\"/>\n",
       "<text text-anchor=\"middle\" x=\"102.3561\" y=\"-15.5\" font-family=\"Helvetica,sans-Serif\" font-size=\"10.00\" fill=\"#000000\">(Runner) Runner_3</text>\n",
       "</g>\n",
       "<!-- (Preprocess) Preprocess_3 -->\n",
       "<g id=\"node2\" class=\"node\">\n",
       "<title>(Preprocess) Preprocess_3</title>\n",
       "<ellipse fill=\"none\" stroke=\"#000000\" cx=\"243.3561\" cy=\"-101\" rx=\"85.2125\" ry=\"18\"/>\n",
       "<text text-anchor=\"middle\" x=\"243.3561\" y=\"-98.5\" font-family=\"Helvetica,sans-Serif\" font-size=\"10.00\" fill=\"#000000\">(Preprocess) Preprocess_3</text>\n",
       "</g>\n",
       "<!-- (Preprocess) Preprocess_3&#45;&gt;(Runner) Runner_3 -->\n",
       "<g id=\"edge1\" class=\"edge\">\n",
       "<title>(Preprocess) Preprocess_3&#45;&gt;(Runner) Runner_3</title>\n",
       "<path fill=\"none\" stroke=\"#000000\" d=\"M181.0451,-88.5832C146.1245,-81.001 108.5392,-71.5396 103.3561,-65 99.2309,-59.795 97.6272,-53.1501 97.3588,-46.5066\"/>\n",
       "<polygon fill=\"#000000\" stroke=\"#000000\" points=\"100.8665,-46.4361 97.8657,-36.2751 93.8751,-46.0896 100.8665,-46.4361\"/>\n",
       "<text text-anchor=\"middle\" x=\"207.3561\" y=\"-57\" font-family=\"Helvetica,sans-Serif\" font-size=\"10.00\" fill=\"#000000\">model_prepro&#45;&gt;model_preprocesses_path</text>\n",
       "</g>\n",
       "<!-- (Preprocess) Preprocess_3&#45;&gt;(Runner) Runner_3 -->\n",
       "<g id=\"edge2\" class=\"edge\">\n",
       "<title>(Preprocess) Preprocess_3&#45;&gt;(Runner) Runner_3</title>\n",
       "<path fill=\"none\" stroke=\"#000000\" d=\"M290.844,-86.0418C308.6718,-77.9484 322.2669,-66.9508 311.3561,-54 302.2227,-43.1589 228.4424,-32.3331 171.1006,-25.4275\"/>\n",
       "<polygon fill=\"#000000\" stroke=\"#000000\" points=\"171.3097,-21.9279 160.9673,-24.2269 170.486,-28.8793 171.3097,-21.9279\"/>\n",
       "<text text-anchor=\"middle\" x=\"382.3561\" y=\"-57\" font-family=\"Helvetica,sans-Serif\" font-size=\"10.00\" fill=\"#000000\">prepro&#45;&gt;preprocesses_path</text>\n",
       "</g>\n",
       "<!-- (GetConfigs) GetConfigs_3 -->\n",
       "<g id=\"node3\" class=\"node\">\n",
       "<title>(GetConfigs) GetConfigs_3</title>\n",
       "<ellipse fill=\"none\" stroke=\"#000000\" cx=\"85.3561\" cy=\"-184\" rx=\"85.2125\" ry=\"18\"/>\n",
       "<text text-anchor=\"middle\" x=\"85.3561\" y=\"-181.5\" font-family=\"Helvetica,sans-Serif\" font-size=\"10.00\" fill=\"#000000\">(GetConfigs) GetConfigs_3</text>\n",
       "</g>\n",
       "<!-- (GetConfigs) GetConfigs_3&#45;&gt;(Runner) Runner_3 -->\n",
       "<g id=\"edge4\" class=\"edge\">\n",
       "<title>(GetConfigs) GetConfigs_3&#45;&gt;(Runner) Runner_3</title>\n",
       "<path fill=\"none\" stroke=\"#000000\" d=\"M81.4656,-165.9775C77.6901,-145.663 73.2229,-111.7224 78.3561,-83 80.6314,-70.2692 85.2283,-56.7676 89.7956,-45.3879\"/>\n",
       "<polygon fill=\"#000000\" stroke=\"#000000\" points=\"93.0906,-46.5812 93.7426,-36.0065 86.6384,-43.8666 93.0906,-46.5812\"/>\n",
       "<text text-anchor=\"middle\" x=\"113.8561\" y=\"-98.5\" font-family=\"Helvetica,sans-Serif\" font-size=\"10.00\" fill=\"#000000\">config&#45;&gt;config</text>\n",
       "</g>\n",
       "<!-- (GetConfigs) GetConfigs_3&#45;&gt;(Preprocess) Preprocess_3 -->\n",
       "<g id=\"edge3\" class=\"edge\">\n",
       "<title>(GetConfigs) GetConfigs_3&#45;&gt;(Preprocess) Preprocess_3</title>\n",
       "<path fill=\"none\" stroke=\"#000000\" d=\"M117.3298,-167.2037C141.8509,-154.3223 175.876,-136.4484 202.392,-122.5191\"/>\n",
       "<polygon fill=\"#000000\" stroke=\"#000000\" points=\"204.2049,-125.5204 211.43,-117.7713 200.9495,-119.3234 204.2049,-125.5204\"/>\n",
       "<text text-anchor=\"middle\" x=\"208.8561\" y=\"-140\" font-family=\"Helvetica,sans-Serif\" font-size=\"10.00\" fill=\"#000000\">config&#45;&gt;config</text>\n",
       "</g>\n",
       "</g>\n",
       "</svg>\n"
      ],
      "text/plain": [
       "<razor.core.pipeline.pipeline.Pipeline at 0x7f6b2b4a9690>"
      ]
     },
     "metadata": {},
     "output_type": "display_data"
    }
   ],
   "source": [
    "p.show()"
   ]
  },
  {
   "cell_type": "code",
   "execution_count": 21,
   "metadata": {},
   "outputs": [],
   "source": [
    "lib1 = razor.api.libraries(name='opencv-python').artifact()\n",
    "deployed_pipeline = razor.api.engines('DS-engine').execute(pipeline=p, libs=[lib1])\n"
   ]
  },
  {
   "cell_type": "code",
   "execution_count": 22,
   "metadata": {},
   "outputs": [
    {
     "data": {
      "application/vnd.razorthink.run+monitor+json": "/home/jovyan/logs/a68ca284-643c-4615-984b-33e941647c00",
      "text/plain": [
       "<razor_tools.backend.ipython.mime.run_monitor.RunMonitor at 0x7f6b2b3e5b10>"
      ]
     },
     "metadata": {
      "application/vnd.razorthink.run+monitor+json": {
       "store_in_notebook": false
      }
     },
     "output_type": "display_data"
    },
    {
     "data": {
      "text/html": [],
      "text/plain": [
       "PlatformPipelineRun(project_id='f374757a-cc52-4a94-99ae-aa8e7dcea8be', pipeline_id='cb51b678-d231-11ea-9d4a-abf78641ad23', pipeline_name='sparse_encoding_10', pipeline_run_id='a68ca284-643c-4615-984b-33e941647c00', pipeline_version=None, comment=None, created_on='2020-07-30T06:56:30.536+0000', start_time=None, end_time=None, eta=0, run_at=1596092190536, run_duration=0, compute_time=0, wait_time=0, ran_by_user=RanByUser(user_name='Ayan Basak', email='ayan.basak@razorthink.com'), status='IN_PROGRESS', block_status=[PlatformPipelineBlockRun(pipeline_run_id='a68ca284-643c-4615-984b-33e941647c00', pipeline_name='sparse_encoding_10', pipeline_status='IN_PROGRESS', block_id='6818336e-da33-482f-a337-334ff1988577', block_run_id='a012d0d0-3eab-4be0-8edb-aeda4873d2c2', block_name='GetConfigs_3', resource_spec=ResourceAllocated(cores=2, memory=1024, use_gpu=False, gpu=0, use_gpu_if_available=False, additional_resource_spec={}, run_env='PYTHON'), technology='PYTHON', status='READY_TO_GO', containers=[], cluster_id='6818336e-da33-482f-a337-334ff1988577', _log=None, _metric=None, wait_time=0, compute_time=0, start_time=None, end_time=None, queued_at='2020-07-30T06:56:31.000+0000'), PlatformPipelineBlockRun(pipeline_run_id='a68ca284-643c-4615-984b-33e941647c00', pipeline_name='sparse_encoding_10', pipeline_status='IN_PROGRESS', block_id='7bf53e53-f4fa-48d3-873a-05091f004690', block_run_id='2d280b49-753c-4e2f-a4de-630eefed4c3b', block_name='Preprocess_3', resource_spec=ResourceAllocated(cores=2, memory=8192, use_gpu=False, gpu=0, use_gpu_if_available=False, additional_resource_spec={}, run_env='PYTHON'), technology='PYTHON', status='YET_TO_START', containers=[], cluster_id='7bf53e53-f4fa-48d3-873a-05091f004690', _log=None, _metric=None, wait_time=0, compute_time=0, start_time=None, end_time=None, queued_at=None), PlatformPipelineBlockRun(pipeline_run_id='a68ca284-643c-4615-984b-33e941647c00', pipeline_name='sparse_encoding_10', pipeline_status='IN_PROGRESS', block_id='1bf7ce91-cd74-4d37-91ec-00cd3599336e', block_run_id='c92433fa-1f0b-4afa-9afc-36491968edd4', block_name='Runner_3', resource_spec=ResourceAllocated(cores=2, memory=8192, use_gpu=False, gpu=0, use_gpu_if_available=False, additional_resource_spec={}, run_env='PYTHON'), technology='PYTHON', status='YET_TO_START', containers=[], cluster_id='1bf7ce91-cd74-4d37-91ec-00cd3599336e', _log=None, _metric=None, wait_time=0, compute_time=0, start_time=None, end_time=None, queued_at=None)], run_number=63, pipeline_variable_list=[], block_run_details=[BlockRunDetail(block_id='6818336e-da33-482f-a337-334ff1988577', block_run_id='a012d0d0-3eab-4be0-8edb-aeda4873d2c2', block_name='GetConfigs_3', technology='PYTHON', log_path=None, input_parameters='{\\n  \"material\": {\\n    \"dtype\": \"string\",\\n    \"required\": \"false\",\\n    \"series\": false,\\n    \"adapter\": \"eJxrYJlqzAABPRJFiVX5RXrJ+UWpekk5+cnZxXqZeQWlJcVTeoScQHxPEE8vMSWxoCS1aMrkKXoAUvYVmA==\",\\n    \"validator\": \"eJxrYJnqyAABPRJFiVX5RXrJ+UWpekk5+cnZxXqZeQWlJcVTehQcS/JzM5OdQKLBJUWZeemeIBm9ssSczJTEkvyiKZOn6AEArzAbbQ==\",\\n    \"source_id\": null,\\n    \"source_name\": null,\\n    \"inferred_type\": \"STATIC\",\\n    \"value\": \"eJxrYJnKwQABPSzpRZkpU/QAIYYEGg==\"\\n  }\\n}', output_parameters=None, status='READY_TO_GO', created_at='2020-07-30T06:56:30.569+0000', queued_at='2020-07-30T06:56:31.000+0000', start_time=None, end_time=None, compute_time=0, wait_time=0, run_time=0, block_run_output_list=[BlockRunOutputList(output_id='087bf67a-4df0-4f50-9671-c837b4d957e2', output_name='config', created_on='2020-07-30T06:56:30.570+0000', output_status='YET_TO_START', block_transport='FILE')], resource_allocated=ResourceAllocated(cores=2, memory=1024, use_gpu=False, gpu=0, use_gpu_if_available=False, additional_resource_spec={}, run_env='PYTHON')), BlockRunDetail(block_id='7bf53e53-f4fa-48d3-873a-05091f004690', block_run_id='2d280b49-753c-4e2f-a4de-630eefed4c3b', block_name='Preprocess_3', technology='PYTHON', log_path=None, input_parameters=None, output_parameters=None, status='YET_TO_START', created_at='2020-07-30T06:56:30.589+0000', queued_at=None, start_time=None, end_time=None, compute_time=0, wait_time=0, run_time=0, block_run_output_list=[BlockRunOutputList(output_id='ad0b8188-3e31-4c40-8525-0dc71cf78060', output_name='model_prepro', created_on='2020-07-30T06:56:30.591+0000', output_status='YET_TO_START', block_transport='FILE'), BlockRunOutputList(output_id='50771a2a-7eb7-4d1e-9052-1599ae531fa1', output_name='prepro', created_on='2020-07-30T06:56:30.591+0000', output_status='YET_TO_START', block_transport='FILE')], resource_allocated=ResourceAllocated(cores=2, memory=8192, use_gpu=False, gpu=0, use_gpu_if_available=False, additional_resource_spec={}, run_env='PYTHON')), BlockRunDetail(block_id='1bf7ce91-cd74-4d37-91ec-00cd3599336e', block_run_id='c92433fa-1f0b-4afa-9afc-36491968edd4', block_name='Runner_3', technology='PYTHON', log_path=None, input_parameters=None, output_parameters=None, status='YET_TO_START', created_at='2020-07-30T06:56:30.607+0000', queued_at=None, start_time=None, end_time=None, compute_time=0, wait_time=0, run_time=0, block_run_output_list=[], resource_allocated=ResourceAllocated(cores=2, memory=8192, use_gpu=False, gpu=0, use_gpu_if_available=False, additional_resource_spec={}, run_env='PYTHON'))], pipeline_json='{\\n  \"id\": \"cb51b678-d231-11ea-9d4a-abf78641ad23\",\\n  \"projectId\": \"f374757a-cc52-4a94-99ae-aa8e7dcea8be\",\\n  \"name\": \"sparse_encoding_10\",\\n  \"description\": \"\",\\n  \"blocks\": [\\n    {\\n      \"name\": \"Runner_3\",\\n      \"id\": \"1bf7ce91-cd74-4d37-91ec-00cd3599336e\",\\n      \"artifact_id\": null,\\n      \"class_name\": \"Runner\",\\n      \"code\": \"\",\\n      \"isPublishedBlock\": true,\\n      \"source\": {\\n        \"artifactId\": \"afabbcc0-f0e8-4b44-96a6-f3ea6a8d816e\",\\n        \"versionId\": \"e969d70e-2843-45f9-ad2e-4d2c7294fe65\",\\n        \"module_name\": \"SE_Jenoptik_bundle\",\\n        \"path\": \"/razorthink-ai/tenants/6367bff1-5e57-4d65-adb2-9ed0a3239433/libraries/engine/installed/afabbcc0-f0e8-4b44-96a6-f3ea6a8d816e/e969d70e-2843-45f9-ad2e-4d2c7294fe65\"\\n      },\\n      \"inputProperty\": {\\n        \"model_preprocesses_path\": {\\n          \"dtype\": \"generic\",\\n          \"required\": \"false\",\\n          \"series\": false,\\n          \"adapter\": \"eJxrYJlqzAABPRJFiVX5RXrJ+UWpekk5+cnZxXqZeQWlJcVTeoScQHxPEE8vMSWxoCS1aMrkKXoAUvYVmA==\",\\n          \"validator\": \"eJxrYJlqygABPRJFiVX5RXrJ+UWpekk5+cnZxXqZeQWlJcVTekScQHxPEE+vLDEnMyWxJL9oyuQpegCAUhaB\",\\n          \"source_id\": \"7bf53e53-f4fa-48d3-873a-05091f004690\",\\n          \"source_name\": \"model_prepro\",\\n          \"inferred_type\": \"BLOCK\",\\n          \"value\": null\\n        },\\n        \"preprocesses_path\": {\\n          \"dtype\": \"generic\",\\n          \"required\": \"false\",\\n          \"series\": false,\\n          \"adapter\": \"eJxrYJlqzAABPRJFiVX5RXrJ+UWpekk5+cnZxXqZeQWlJcVTeoScQHxPEE8vMSWxoCS1aMrkKXoAUvYVmA==\",\\n          \"validator\": \"eJxrYJlqygABPRJFiVX5RXrJ+UWpekk5+cnZxXqZeQWlJcVTekScQHxPEE+vLDEnMyWxJL9oyuQpegCAUhaB\",\\n          \"source_id\": \"7bf53e53-f4fa-48d3-873a-05091f004690\",\\n          \"source_name\": \"prepro\",\\n          \"inferred_type\": \"BLOCK\",\\n          \"value\": null\\n        },\\n        \"config\": {\\n          \"dtype\": \"json\",\\n          \"required\": \"false\",\\n          \"series\": false,\\n          \"adapter\": \"eJxrYJlqzAABPRJFiVX5RXrJ+UWpekk5+cnZxXqZeQWlJcVTeoScQHxPEE8vMSWxoCS1aMrkKXoAUvYVmA==\",\\n          \"validator\": \"eJxrYJlqzwABPRJFiVX5RXrJ+UWpekk5+cnZxXqZeQWlJcVTeuQcS/JzM5OdQKJewf5+niBxvbLEnMyUxJL8oimTp+gBAG9UGiw=\",\\n          \"source_id\": \"6818336e-da33-482f-a337-334ff1988577\",\\n          \"source_name\": \"config\",\\n          \"inferred_type\": \"BLOCK\",\\n          \"value\": null\\n        },\\n        \"mode\": {\\n          \"dtype\": \"string\",\\n          \"required\": \"false\",\\n          \"series\": false,\\n          \"adapter\": \"eJxrYJlqzAABPRJFiVX5RXrJ+UWpekk5+cnZxXqZeQWlJcVTeoScQHxPEE8vMSWxoCS1aMrkKXoAUvYVmA==\",\\n          \"validator\": \"eJxrYJnqyAABPRJFiVX5RXrJ+UWpekk5+cnZxXqZeQWlJcVTehQcS/JzM5OdQKLBJUWZeemeIBm9ssSczJTEkvyiKZOn6AEArzAbbQ==\",\\n          \"source_id\": null,\\n          \"source_name\": null,\\n          \"inferred_type\": \"STATIC\",\\n          \"value\": \"eJxrYJnKyQABPawlRYmZeVP0ACaIBJQ=\"\\n        }\\n      },\\n      \"outputProperty\": {},\\n      \"resourceRequirement\": {\\n        \"cores\": 2,\\n        \"memory\": 8192,\\n        \"useGpu\": false,\\n        \"gpu\": 0,\\n        \"useGpuIfAvailable\": false,\\n        \"runEnv\": \"PYTHON\",\\n        \"additionalResourceSpec\": {}\\n      },\\n      \"executionType\": \"BlockExecutor\",\\n      \"dependencies\": [\\n        {\\n          \"libraryId\": \"67c347a0-3026-408d-a907-82f3f1451236\",\\n          \"libraryVersionId\": \"a56fd3bc-7a1f-42db-af4a-7b0708b3f4da\"\\n        }\\n      ],\\n      \"system_dependencies\": null,\\n      \"meta_data\": null,\\n      \"eta\": 0\\n    },\\n    {\\n      \"name\": \"Preprocess_3\",\\n      \"id\": \"7bf53e53-f4fa-48d3-873a-05091f004690\",\\n      \"artifact_id\": null,\\n      \"class_name\": \"Preprocess\",\\n      \"code\": \"\",\\n      \"isPublishedBlock\": true,\\n      \"source\": {\\n        \"artifactId\": \"afabbcc0-f0e8-4b44-96a6-f3ea6a8d816e\",\\n        \"versionId\": \"e969d70e-2843-45f9-ad2e-4d2c7294fe65\",\\n        \"module_name\": \"SE_Jenoptik_bundle\",\\n        \"path\": \"/razorthink-ai/tenants/6367bff1-5e57-4d65-adb2-9ed0a3239433/libraries/engine/installed/afabbcc0-f0e8-4b44-96a6-f3ea6a8d816e/e969d70e-2843-45f9-ad2e-4d2c7294fe65\"\\n      },\\n      \"inputProperty\": {\\n        \"config\": {\\n          \"dtype\": \"json\",\\n          \"required\": \"false\",\\n          \"series\": false,\\n          \"adapter\": \"eJxrYJlqzAABPRJFiVX5RXrJ+UWpekk5+cnZxXqZeQWlJcVTeoScQHxPEE8vMSWxoCS1aMrkKXoAUvYVmA==\",\\n          \"validator\": \"eJxrYJlqzwABPRJFiVX5RXrJ+UWpekk5+cnZxXqZeQWlJcVTeuQcS/JzM5OdQKJewf5+niBxvbLEnMyUxJL8oimTp+gBAG9UGiw=\",\\n          \"source_id\": \"6818336e-da33-482f-a337-334ff1988577\",\\n          \"source_name\": \"config\",\\n          \"inferred_type\": \"BLOCK\",\\n          \"value\": null\\n        }\\n      },\\n      \"outputProperty\": {\\n        \"model_prepro\": {\\n          \"series\": false,\\n          \"adapter\": \"eJxrYJlqygABPZJFiVX5RXrJ+UWpekk5+cnZxXr5pSUFpSXFU3qEnUAC/mCuXmJKYkFJatGUyVP0AIR/Fp4=\",\\n          \"transport\": \"FILE\"\\n        },\\n        \"prepro\": {\\n          \"series\": false,\\n          \"adapter\": \"eJxrYJlqygABPZJFiVX5RXrJ+UWpekk5+cnZxXr5pSUFpSXFU3qEnUAC/mCuXmJKYkFJatGUyVP0AIR/Fp4=\",\\n          \"transport\": \"FILE\"\\n        }\\n      },\\n      \"resourceRequirement\": {\\n        \"cores\": 2,\\n        \"memory\": 8192,\\n        \"useGpu\": false,\\n        \"gpu\": 0,\\n        \"useGpuIfAvailable\": false,\\n        \"runEnv\": \"PYTHON\",\\n        \"additionalResourceSpec\": {}\\n      },\\n      \"executionType\": \"BlockExecutor\",\\n      \"dependencies\": [\\n        {\\n          \"libraryId\": \"67c347a0-3026-408d-a907-82f3f1451236\",\\n          \"libraryVersionId\": \"a56fd3bc-7a1f-42db-af4a-7b0708b3f4da\"\\n        }\\n      ],\\n      \"system_dependencies\": null,\\n      \"meta_data\": null,\\n      \"eta\": 0\\n    },\\n    {\\n      \"name\": \"GetConfigs_3\",\\n      \"id\": \"6818336e-da33-482f-a337-334ff1988577\",\\n      \"artifact_id\": null,\\n      \"class_name\": \"GetConfigs\",\\n      \"code\": \"\",\\n      \"isPublishedBlock\": true,\\n      \"source\": {\\n        \"artifactId\": \"afabbcc0-f0e8-4b44-96a6-f3ea6a8d816e\",\\n        \"versionId\": \"e969d70e-2843-45f9-ad2e-4d2c7294fe65\",\\n        \"module_name\": \"SE_Jenoptik_bundle\",\\n        \"path\": \"/razorthink-ai/tenants/6367bff1-5e57-4d65-adb2-9ed0a3239433/libraries/engine/installed/afabbcc0-f0e8-4b44-96a6-f3ea6a8d816e/e969d70e-2843-45f9-ad2e-4d2c7294fe65\"\\n      },\\n      \"inputProperty\": {\\n        \"material\": {\\n          \"dtype\": \"string\",\\n          \"required\": \"false\",\\n          \"series\": false,\\n          \"adapter\": \"eJxrYJlqzAABPRJFiVX5RXrJ+UWpekk5+cnZxXqZeQWlJcVTeoScQHxPEE8vMSWxoCS1aMrkKXoAUvYVmA==\",\\n          \"validator\": \"eJxrYJnqyAABPRJFiVX5RXrJ+UWpekk5+cnZxXqZeQWlJcVTehQcS/JzM5OdQKLBJUWZeemeIBm9ssSczJTEkvyiKZOn6AEArzAbbQ==\",\\n          \"source_id\": null,\\n          \"source_name\": null,\\n          \"inferred_type\": \"STATIC\",\\n          \"value\": \"eJxrYJnKwQABPSzpRZkpU/QAIYYEGg==\"\\n        }\\n      },\\n      \"outputProperty\": {\\n        \"config\": {\\n          \"series\": false,\\n          \"adapter\": \"eJxrYJlqygABPZJFiVX5RXrJ+UWpekk5+cnZxXr5pSUFpSXFU3qEnUAC/mCuXmJKYkFJatGUyVP0AIR/Fp4=\",\\n          \"transport\": \"FILE\"\\n        }\\n      },\\n      \"resourceRequirement\": {\\n        \"cores\": 2,\\n        \"memory\": 1024,\\n        \"useGpu\": false,\\n        \"gpu\": 0,\\n        \"useGpuIfAvailable\": false,\\n        \"runEnv\": \"PYTHON\",\\n        \"additionalResourceSpec\": {}\\n      },\\n      \"executionType\": \"BlockExecutor\",\\n      \"dependencies\": [\\n        {\\n          \"libraryId\": \"67c347a0-3026-408d-a907-82f3f1451236\",\\n          \"libraryVersionId\": \"a56fd3bc-7a1f-42db-af4a-7b0708b3f4da\"\\n        }\\n      ],\\n      \"system_dependencies\": null,\\n      \"meta_data\": null,\\n      \"eta\": 0\\n    }\\n  ],\\n  \"connections\": [\\n    {\\n      \"source_block_id\": \"7bf53e53-f4fa-48d3-873a-05091f004690\",\\n      \"target_block_id\": \"1bf7ce91-cd74-4d37-91ec-00cd3599336e\",\\n      \"source_output\": \"model_prepro\",\\n      \"target_input\": \"model_preprocesses_path\"\\n    },\\n    {\\n      \"source_block_id\": \"7bf53e53-f4fa-48d3-873a-05091f004690\",\\n      \"target_block_id\": \"1bf7ce91-cd74-4d37-91ec-00cd3599336e\",\\n      \"source_output\": \"prepro\",\\n      \"target_input\": \"preprocesses_path\"\\n    },\\n    {\\n      \"source_block_id\": \"6818336e-da33-482f-a337-334ff1988577\",\\n      \"target_block_id\": \"7bf53e53-f4fa-48d3-873a-05091f004690\",\\n      \"source_output\": \"config\",\\n      \"target_input\": \"config\"\\n    },\\n    {\\n      \"source_block_id\": \"6818336e-da33-482f-a337-334ff1988577\",\\n      \"target_block_id\": \"1bf7ce91-cd74-4d37-91ec-00cd3599336e\",\\n      \"source_output\": \"config\",\\n      \"target_input\": \"config\"\\n    }\\n  ],\\n  \"priority\": \"LOW\",\\n  \"infraResourceEstimation\": null,\\n  \"resourceRequirement\": {},\\n  \"comments\": null,\\n  \"order\": null,\\n  \"uiData\": null,\\n  \"dom\": null,\\n  \"systemGenerated\": false,\\n  \"systemModel\": false,\\n  \"pipelineVariableList\": [],\\n  \"pipelineTemplateVersion\": 0.0,\\n  \"versionId\": null,\\n  \"engineId\": \"65ed2499-f8c9-4c4d-ad27-aa689bd1531e\",\\n  \"userId\": \"c4080201-ccc9-4657-a457-7e18c100ff28\",\\n  \"runInitiatedFrom\": \"JUPYTER\"\\n}', dom='Yet to add', order=None, infra_resource='{\\n  \"zookeeper\": {\\n    \"cores\": 1,\\n    \"memory\":  1024\\n  },\\n  \"kafka\": {\\n    \"cores\": 1,\\n    \"memory\": 1024,\\n    \"additionalResourceSpec\":{}\\n  }\\n}', resource_spec={}, engine_id='65ed2499-f8c9-4c4d-ad27-aa689bd1531e', run_initiated_from='JUPYTER')"
      ]
     },
     "execution_count": 22,
     "metadata": {},
     "output_type": "execute_result"
    }
   ],
   "source": [
    "deployed_pipeline"
   ]
  },
  {
   "cell_type": "code",
   "execution_count": null,
   "metadata": {},
   "outputs": [],
   "source": []
  }
 ],
 "metadata": {
  "kernelspec": {
   "display_name": "Python 3",
   "language": "python",
   "name": "python3"
  },
  "language_info": {
   "codemirror_mode": {
    "name": "ipython",
    "version": 3
   },
   "file_extension": ".py",
   "mimetype": "text/x-python",
   "name": "python",
   "nbconvert_exporter": "python",
   "pygments_lexer": "ipython3",
   "version": "3.7.10"
  }
 },
 "nbformat": 4,
 "nbformat_minor": 4
}
