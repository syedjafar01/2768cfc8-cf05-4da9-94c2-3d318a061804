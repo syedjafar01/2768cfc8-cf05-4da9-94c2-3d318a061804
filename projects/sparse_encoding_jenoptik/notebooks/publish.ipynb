{
 "cells": [
  {
   "cell_type": "code",
   "execution_count": 1,
   "id": "double-trustee",
   "metadata": {},
   "outputs": [],
   "source": [
    "from razor.api.core import BlockScope\n",
    "from razor.api import blocks\n",
    "import logging\n",
    "\n",
    "logging.basicConfig()\n",
    "logging.getLogger().setLevel(logging.INFO)\n"
   ]
  },
  {
   "cell_type": "code",
   "execution_count": 4,
   "id": "sporting-sally",
   "metadata": {},
   "outputs": [
    {
     "name": "stderr",
     "output_type": "stream",
     "text": [
      "INFO:razor.api.core.block_manager:Block bundle initialized successfully. Please refer Jenoptik/package.yaml to verify/update package.yaml further.\n"
     ]
    }
   ],
   "source": [
    "blocks.init_bundle(bundle=\"Jenoptik\", category=\"JENOPTIK\")"
   ]
  },
  {
   "cell_type": "code",
   "execution_count": 5,
   "id": "brave-weapon",
   "metadata": {},
   "outputs": [
    {
     "name": "stderr",
     "output_type": "stream",
     "text": [
      "INFO:razor.api.impl.block_manager_impl:Packaging requested block bundle...\n",
      "INFO:razor.api.impl.block_manager_impl:Publishing block bundle...\n",
      "INFO:razor.api.impl.block_manager_impl:Block bundle `Jenoptik` updated successfully.\n",
      "INFO:razor.api.impl.block_manager_impl:Make sure to restart the Jupyter kernel and then you can use the blocks as follows:\n",
      "INFO:razor.api.impl.block_manager_impl:from razor.project.blocks.Jenoptik import Preprocess\n",
      "INFO:razor.api.impl.block_manager_impl:from razor.project.blocks.Jenoptik import GetConfigs\n",
      "INFO:razor.api.impl.block_manager_impl:from razor.project.blocks.Jenoptik import Runner\n"
     ]
    }
   ],
   "source": [
    "blocks.publish(bundle=\"Jenoptik\", scope=BlockScope.PROJECT, overwrite=True)"
   ]
  },
  {
   "cell_type": "code",
   "execution_count": null,
   "id": "described-paragraph",
   "metadata": {},
   "outputs": [],
   "source": []
  },
  {
   "cell_type": "code",
   "execution_count": null,
   "id": "earlier-immunology",
   "metadata": {},
   "outputs": [],
   "source": []
  }
 ],
 "metadata": {
  "kernelspec": {
   "display_name": "Python 3",
   "language": "python",
   "name": "python3"
  },
  "language_info": {
   "codemirror_mode": {
    "name": "ipython",
    "version": 3
   },
   "file_extension": ".py",
   "mimetype": "text/x-python",
   "name": "python",
   "nbconvert_exporter": "python",
   "pygments_lexer": "ipython3",
   "version": "3.7.10"
  }
 },
 "nbformat": 4,
 "nbformat_minor": 5
}
