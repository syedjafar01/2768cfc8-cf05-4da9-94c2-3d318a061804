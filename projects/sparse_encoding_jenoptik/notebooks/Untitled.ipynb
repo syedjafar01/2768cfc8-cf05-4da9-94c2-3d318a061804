{
 "cells": [
  {
   "cell_type": "code",
   "execution_count": 1,
   "id": "christian-departure",
   "metadata": {},
   "outputs": [],
   "source": [
    "from razor.project.blocks.Jenoptik import Preprocess\n",
    "from razor.project.blocks.Jenoptik import GetConfigs\n",
    "from razor.project.blocks.Jenoptik import Runner\n",
    "        "
   ]
  },
  {
   "cell_type": "code",
   "execution_count": 2,
   "id": "following-insight",
   "metadata": {},
   "outputs": [],
   "source": [
    "import razor.flow as rf"
   ]
  },
  {
   "cell_type": "code",
   "execution_count": 3,
   "id": "confirmed-experience",
   "metadata": {},
   "outputs": [],
   "source": [
    "get_configs = GetConfigs(material='grid')\n",
    "\n",
    "preprocess = Preprocess(config=get_configs.config)\n",
    "\n",
    "runner = Runner(model_preprocesses_path=preprocess.model_prepro, preprocesses_path=preprocess.prepro, config=get_configs.config, mode=\"train\")\n"
   ]
  },
  {
   "cell_type": "code",
   "execution_count": 4,
   "id": "unique-parallel",
   "metadata": {},
   "outputs": [],
   "source": [
    "p = rf.Pipeline(\"sparse_encoding\", targets=[runner])  #preprocess"
   ]
  },
  {
   "cell_type": "code",
   "execution_count": null,
   "id": "perceived-mortgage",
   "metadata": {},
   "outputs": [
    {
     "data": {
      "application/vnd.razorthink.run+monitor+json": "/tmp/tmp4hvcr2wm/sparse_encoding",
      "text/plain": [
       "<razor_tools.backend.ipython.mime.run_monitor.RunMonitor at 0x7f742ae8d110>"
      ]
     },
     "metadata": {
      "application/vnd.razorthink.run+monitor+json": {
       "store_in_notebook": true
      }
     },
     "output_type": "display_data"
    }
   ],
   "source": [
    "p.execute()"
   ]
  },
  {
   "cell_type": "code",
   "execution_count": null,
   "id": "crude-guidance",
   "metadata": {},
   "outputs": [],
   "source": []
  },
  {
   "cell_type": "code",
   "execution_count": null,
   "id": "tested-bachelor",
   "metadata": {},
   "outputs": [],
   "source": []
  }
 ],
 "metadata": {
  "kernelspec": {
   "display_name": "Python 3",
   "language": "python",
   "name": "python3"
  },
  "language_info": {
   "codemirror_mode": {
    "name": "ipython",
    "version": 3
   },
   "file_extension": ".py",
   "mimetype": "text/x-python",
   "name": "python",
   "nbconvert_exporter": "python",
   "pygments_lexer": "ipython3",
   "version": "3.7.10"
  }
 },
 "nbformat": 4,
 "nbformat_minor": 5
}
