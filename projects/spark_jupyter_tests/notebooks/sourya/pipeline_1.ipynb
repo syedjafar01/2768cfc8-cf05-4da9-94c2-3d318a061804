{
 "cells": [
  {
   "cell_type": "code",
   "execution_count": 1,
   "id": "bottom-assistant",
   "metadata": {},
   "outputs": [],
   "source": [
    "import razor\n",
    "import razor.flow as rf\n",
    "from razor import api\n",
    "from razor.flow.spark import SparkBlock, SparkExecutor\n",
    "import typing as t"
   ]
  },
  {
   "cell_type": "code",
   "execution_count": 2,
   "id": "demonstrated-gazette",
   "metadata": {},
   "outputs": [],
   "source": [
    "import os\n",
    "from datetime import datetime, timedelta\n",
    "from pyspark.sql import SparkSession, functions\n",
    "from pyspark.sql.dataframe import DataFrame\n",
    "from datetime import datetime, timedelta\n",
    "from dateutil.relativedelta import relativedelta"
   ]
  },
  {
   "cell_type": "code",
   "execution_count": 3,
   "id": "allied-architecture",
   "metadata": {},
   "outputs": [],
   "source": [
    "def project_space_path(path):\n",
    "    ps = api.datasources('Project Space')\n",
    "    return os.path.join(ps.abspath(), path)\n"
   ]
  },
  {
   "cell_type": "code",
   "execution_count": 4,
   "id": "through-spectacular",
   "metadata": {},
   "outputs": [],
   "source": [
    "\n",
    "@rf.block\n",
    "class NonSparkPath:\n",
    "    ip_path: str\n",
    "    op_path: rf.Output[str]\n",
    "    def run(self):\n",
    "        self.op_path.put(project_space_path(self.ip_path))\n",
    "        \n",
    "\n",
    "@rf.block\n",
    "class ReadCsvProjectSpaceETA(SparkBlock):\n",
    "    filename:str    \n",
    "    def run(self):\n",
    "        df = self.spark.read.csv(self.filename, header = True)\n",
    "        print(\"Data Schema\")\n",
    "        df.printSchema()\n",
    "        \n",
    "\n",
    "@rf.block\n",
    "class SelectDataDescribe(SparkBlock):\n",
    "    filename: str\n",
    "    def run(self):\n",
    "        df = self.spark.read.csv(self.filename, header = True)\n",
    "        print(\"Data Stat\")\n",
    "        df_stat = df.describe()\n",
    "        df_stat.show()\n",
    "        \n",
    "        \n",
    "        \n",
    "        \n",
    "        "
   ]
  },
  {
   "cell_type": "code",
   "execution_count": 5,
   "id": "defined-tactics",
   "metadata": {},
   "outputs": [],
   "source": [
    "nsp = NonSparkPath(ip_path='train_hatespeech.csv')\n",
    "rcp = ReadCsvProjectSpaceETA(filename = nsp.op_path, config={}, source=\"\")\n",
    "sd = SelectDataDescribe(filename = nsp.op_path, config={}, source=\"\")\n",
    "# rcp.executor = rf.ProcessExecutor\n",
    "# sd.executor = rf.ProcessExecutor"
   ]
  },
  {
   "cell_type": "code",
   "execution_count": 6,
   "id": "collectible-lottery",
   "metadata": {},
   "outputs": [],
   "source": [
    "pipe = rf.Pipeline(targets = [rcp,sd])"
   ]
  },
  {
   "cell_type": "code",
   "execution_count": 7,
   "id": "fallen-brand",
   "metadata": {},
   "outputs": [
    {
     "data": {
      "application/vnd.razorthink.interactive+pipeline+view+json": {
       "blocks": [
        {
         "class_name": "ReadCsvProjectSpaceETA",
         "fullname": ".ReadCsvProjectSpaceETA",
         "id": "581d01fe-f0b9-4463-8849-a46965791ffe",
         "inputs": [
          {
           "dataType": "string",
           "default": "",
           "flow": "atomic",
           "help": null,
           "isdict": false,
           "islist": false,
           "label": "filename",
           "meta": {},
           "name": "filename",
           "series": false,
           "type": "str",
           "type_check": true
          },
          {
           "dataType": "dict",
           "default": {},
           "flow": "atomic",
           "help": null,
           "isdict": false,
           "islist": false,
           "label": "config",
           "meta": {},
           "name": "config",
           "series": false,
           "type": "dict",
           "type_check": true
          },
          {
           "dataType": "string",
           "default": "",
           "flow": "atomic",
           "help": null,
           "isdict": false,
           "islist": false,
           "label": "source",
           "meta": {},
           "name": "source",
           "series": false,
           "type": "str",
           "type_check": true
          }
         ],
         "outputs": [],
         "overwritten": false,
         "published": false,
         "var_names": [
          "ReadCsvProjectSpaceETA"
         ]
        },
        {
         "class_name": "SelectDataDescribe",
         "fullname": ".SelectDataDescribe",
         "id": "b8fff877-12b8-4914-bac8-0ff24c8879a5",
         "inputs": [
          {
           "dataType": "string",
           "default": "",
           "flow": "atomic",
           "help": null,
           "isdict": false,
           "islist": false,
           "label": "filename",
           "meta": {},
           "name": "filename",
           "series": false,
           "type": "str",
           "type_check": true
          },
          {
           "dataType": "dict",
           "default": {},
           "flow": "atomic",
           "help": null,
           "isdict": false,
           "islist": false,
           "label": "config",
           "meta": {},
           "name": "config",
           "series": false,
           "type": "dict",
           "type_check": true
          },
          {
           "dataType": "string",
           "default": "",
           "flow": "atomic",
           "help": null,
           "isdict": false,
           "islist": false,
           "label": "source",
           "meta": {},
           "name": "source",
           "series": false,
           "type": "str",
           "type_check": true
          }
         ],
         "outputs": [],
         "overwritten": false,
         "published": false,
         "var_names": [
          "SelectDataDescribe"
         ]
        },
        {
         "class_name": "NonSparkPath",
         "fullname": ".NonSparkPath",
         "id": "b63538b7-d9a7-4a2e-93dd-59b82ee4aa68",
         "inputs": [
          {
           "dataType": "string",
           "default": "",
           "flow": "atomic",
           "help": null,
           "isdict": false,
           "islist": false,
           "label": "ip_path",
           "meta": {},
           "name": "ip_path",
           "series": false,
           "type": "str",
           "type_check": true
          }
         ],
         "outputs": [
          {
           "flow": "atomic",
           "help": null,
           "label": "op_path",
           "meta": {},
           "name": "op_path",
           "series": false,
           "type": "str",
           "type_check": true
          }
         ],
         "overwritten": false,
         "published": false,
         "var_names": [
          "NonSparkPath"
         ]
        }
       ],
       "connections": [
        {
         "id": "7cc338f2-848f-426d-ba15-3489cb439ebf",
         "source": {
          "adapter": false,
          "instance_id": "58aae312-b10a-4c8a-83d7-f6be1a628af9",
          "name": "op_path"
         },
         "target": {
          "adapter": false,
          "instance_id": "2adc7b14-fbce-4921-83ac-249a1b28df7d",
          "name": "filename"
         }
        },
        {
         "id": "0a911b81-7ff2-427a-9ae8-848459baea14",
         "source": {
          "adapter": false,
          "instance_id": "58aae312-b10a-4c8a-83d7-f6be1a628af9",
          "name": "op_path"
         },
         "target": {
          "adapter": false,
          "instance_id": "e3552797-74a1-45af-b5c7-6b3788f68ca0",
          "name": "filename"
         }
        }
       ],
       "id": "9dc5ae04-0078-4a7b-b535-91c6db34c7a9",
       "instances": [
        {
         "block_class": "581d01fe-f0b9-4463-8849-a46965791ffe",
         "id": "e3552797-74a1-45af-b5c7-6b3788f68ca0",
         "name": "ReadCsvProjectSpaceETA_1",
         "var_names": [
          "rcp"
         ]
        },
        {
         "block_class": "b63538b7-d9a7-4a2e-93dd-59b82ee4aa68",
         "id": "58aae312-b10a-4c8a-83d7-f6be1a628af9",
         "name": "NonSparkPath_1",
         "var_names": [
          "nsp"
         ]
        },
        {
         "block_class": "b8fff877-12b8-4914-bac8-0ff24c8879a5",
         "id": "2adc7b14-fbce-4921-83ac-249a1b28df7d",
         "name": "SelectDataDescribe_1",
         "var_names": [
          "sd"
         ]
        }
       ],
       "name": "Pipeline_1",
       "var_names": []
      },
      "image/svg+xml": [
       "<?xml version=\"1.0\" encoding=\"UTF-8\" standalone=\"no\"?>\n",
       "<!DOCTYPE svg PUBLIC \"-//W3C//DTD SVG 1.1//EN\"\n",
       " \"http://www.w3.org/Graphics/SVG/1.1/DTD/svg11.dtd\">\n",
       "<!-- Generated by graphviz version 2.43.0 (0)\n",
       " -->\n",
       "<!-- Title: %3 Pages: 1 -->\n",
       "<svg width=\"640pt\" height=\"127pt\"\n",
       " viewBox=\"0.00 0.00 640.28 127.00\" xmlns=\"http://www.w3.org/2000/svg\" xmlns:xlink=\"http://www.w3.org/1999/xlink\">\n",
       "<g id=\"graph0\" class=\"graph\" transform=\"scale(1 1) rotate(0) translate(4 123)\">\n",
       "<title>%3</title>\n",
       "<polygon fill=\"white\" stroke=\"transparent\" points=\"-4,4 -4,-123 636.28,-123 636.28,4 -4,4\"/>\n",
       "<!-- ReadCsvProjectSpaceETA(&#39;ReadCsvProjectSpaceETA_1&#39;) -->\n",
       "<g id=\"node1\" class=\"node\">\n",
       "<title>ReadCsvProjectSpaceETA(&#39;ReadCsvProjectSpaceETA_1&#39;)</title>\n",
       "<ellipse fill=\"none\" stroke=\"black\" cx=\"170.12\" cy=\"-18\" rx=\"170.25\" ry=\"18\"/>\n",
       "<text text-anchor=\"middle\" x=\"170.12\" y=\"-15.5\" font-family=\"Helvetica,sans-Serif\" font-size=\"10.00\">ReadCsvProjectSpaceETA(&#39;ReadCsvProjectSpaceETA_1&#39;)</text>\n",
       "</g>\n",
       "<!-- NonSparkPath(&#39;NonSparkPath_1&#39;) -->\n",
       "<g id=\"node2\" class=\"node\">\n",
       "<title>NonSparkPath(&#39;NonSparkPath_1&#39;)</title>\n",
       "<ellipse fill=\"none\" stroke=\"black\" cx=\"332.12\" cy=\"-101\" rx=\"104.56\" ry=\"18\"/>\n",
       "<text text-anchor=\"middle\" x=\"332.12\" y=\"-98.5\" font-family=\"Helvetica,sans-Serif\" font-size=\"10.00\">NonSparkPath(&#39;NonSparkPath_1&#39;)</text>\n",
       "</g>\n",
       "<!-- NonSparkPath(&#39;NonSparkPath_1&#39;)&#45;&gt;ReadCsvProjectSpaceETA(&#39;ReadCsvProjectSpaceETA_1&#39;) -->\n",
       "<g id=\"edge1\" class=\"edge\">\n",
       "<title>NonSparkPath(&#39;NonSparkPath_1&#39;)&#45;&gt;ReadCsvProjectSpaceETA(&#39;ReadCsvProjectSpaceETA_1&#39;)</title>\n",
       "<path fill=\"none\" stroke=\"black\" d=\"M299.73,-83.8C274.79,-71.33 240.08,-53.98 212.86,-40.37\"/>\n",
       "<polygon fill=\"black\" stroke=\"black\" points=\"214.08,-37.07 203.57,-35.73 210.95,-43.33 214.08,-37.07\"/>\n",
       "<text text-anchor=\"middle\" x=\"308.12\" y=\"-57\" font-family=\"Helvetica,sans-Serif\" font-size=\"10.00\">op_path&#45;&gt;filename</text>\n",
       "</g>\n",
       "<!-- SelectDataDescribe(&#39;SelectDataDescribe_1&#39;) -->\n",
       "<g id=\"node3\" class=\"node\">\n",
       "<title>SelectDataDescribe(&#39;SelectDataDescribe_1&#39;)</title>\n",
       "<ellipse fill=\"none\" stroke=\"black\" cx=\"495.12\" cy=\"-18\" rx=\"137.32\" ry=\"18\"/>\n",
       "<text text-anchor=\"middle\" x=\"495.12\" y=\"-15.5\" font-family=\"Helvetica,sans-Serif\" font-size=\"10.00\">SelectDataDescribe(&#39;SelectDataDescribe_1&#39;)</text>\n",
       "</g>\n",
       "<!-- NonSparkPath(&#39;NonSparkPath_1&#39;)&#45;&gt;SelectDataDescribe(&#39;SelectDataDescribe_1&#39;) -->\n",
       "<g id=\"edge2\" class=\"edge\">\n",
       "<title>NonSparkPath(&#39;NonSparkPath_1&#39;)&#45;&gt;SelectDataDescribe(&#39;SelectDataDescribe_1&#39;)</title>\n",
       "<path fill=\"none\" stroke=\"black\" d=\"M364.72,-83.8C390.01,-71.24 425.27,-53.71 452.75,-40.06\"/>\n",
       "<polygon fill=\"black\" stroke=\"black\" points=\"454.35,-43.17 461.75,-35.59 451.23,-36.9 454.35,-43.17\"/>\n",
       "<text text-anchor=\"middle\" x=\"470.12\" y=\"-57\" font-family=\"Helvetica,sans-Serif\" font-size=\"10.00\">op_path&#45;&gt;filename</text>\n",
       "</g>\n",
       "</g>\n",
       "</svg>\n"
      ],
      "text/plain": [
       "<razor.flow.async_pipeline.Pipeline at 0x7ffad85e3090>"
      ]
     },
     "metadata": {},
     "output_type": "display_data"
    }
   ],
   "source": [
    "pipe.show()"
   ]
  },
  {
   "cell_type": "code",
   "execution_count": 8,
   "id": "conservative-frontier",
   "metadata": {},
   "outputs": [
    {
     "name": "stdout",
     "output_type": "stream",
     "text": [
      "log path: /tmp/tmpmjmybxn4/Pipeline_1\n"
     ]
    },
    {
     "data": {
      "application/vnd.razorthink.run+monitor+json": "/tmp/tmpmjmybxn4/Pipeline_1",
      "text/plain": [
       "<razor_tools.backend.ipython.mime.run_monitor.RunMonitor at 0x7ffad841c9d0>"
      ]
     },
     "metadata": {
      "application/vnd.razorthink.run+monitor+json": {
       "run_data": {
        "apm": [
         {
          "cpu_percent": 0,
          "cpu_time": 0.01,
          "name": "NonSparkPath_1",
          "real_mem": 154578944,
          "time": 1616560065.026062
         },
         {
          "cpu_percent": 0,
          "cpu_time": 0.04,
          "name": "NonSparkPath_1",
          "real_mem": 156160000,
          "time": 1616560065.138476
         },
         {
          "cpu_percent": 0,
          "cpu_time": 0.05,
          "name": "NonSparkPath_1",
          "real_mem": 156418048,
          "time": 1616560065.2523267
         },
         {
          "cpu_percent": 0,
          "cpu_time": 0.01,
          "name": "ReadCsvProjectSpaceETA_1",
          "real_mem": 154841088,
          "time": 1616560065.2915015
         },
         {
          "cpu_percent": 0,
          "cpu_time": 0.01,
          "name": "SelectDataDescribe_1",
          "real_mem": 154820608,
          "time": 1616560065.300239
         },
         {
          "cpu_percent": 0,
          "cpu_time": 0.06,
          "name": "ReadCsvProjectSpaceETA_1",
          "real_mem": 159272960,
          "time": 1616560065.4147696
         },
         {
          "cpu_percent": 0,
          "cpu_time": 0.05,
          "name": "SelectDataDescribe_1",
          "real_mem": 163328000,
          "time": 1616560065.444775
         },
         {
          "cpu_percent": 0,
          "cpu_time": 0.06,
          "name": "ReadCsvProjectSpaceETA_1",
          "real_mem": 170061824,
          "time": 1616560065.558644
         },
         {
          "cpu_percent": 96.9,
          "cpu_time": 0.060000000000000005,
          "name": "SelectDataDescribe_1",
          "real_mem": 179302400,
          "time": 1616560065.5888133
         },
         {
          "cpu_percent": 98.2,
          "cpu_time": 0.22,
          "name": "ReadCsvProjectSpaceETA_1",
          "real_mem": 194408448,
          "time": 1616560065.702169
         },
         {
          "cpu_percent": 98.6,
          "cpu_time": 0.25,
          "name": "SelectDataDescribe_1",
          "real_mem": 199684096,
          "time": 1616560065.733043
         },
         {
          "cpu_percent": 0,
          "cpu_time": 0.07,
          "name": "ReadCsvProjectSpaceETA_1",
          "real_mem": 159588352,
          "time": 1616560065.8247705
         },
         {
          "cpu_percent": 0,
          "cpu_time": 0.11,
          "name": "SelectDataDescribe_1",
          "real_mem": 177127424,
          "time": 1616560065.85609
         },
         {
          "cpu_percent": 98.7,
          "cpu_time": 0.22000000000000003,
          "name": "ReadCsvProjectSpaceETA_1",
          "real_mem": 191381504,
          "time": 1616560065.947575
         },
         {
          "cpu_percent": 197.6,
          "cpu_time": 0.29,
          "name": "SelectDataDescribe_1",
          "real_mem": 203284480,
          "time": 1616560065.978506
         },
         {
          "cpu_percent": 197.4,
          "cpu_time": 0.49,
          "name": "ReadCsvProjectSpaceETA_1",
          "real_mem": 219439104,
          "time": 1616560066.0703526
         },
         {
          "cpu_percent": 196.4,
          "cpu_time": 0.56,
          "name": "SelectDataDescribe_1",
          "real_mem": 221814784,
          "time": 1616560066.109659
         },
         {
          "cpu_percent": 0,
          "cpu_time": 0.68,
          "name": "ReadCsvProjectSpaceETA_1",
          "real_mem": 234749952,
          "time": 1616560066.193527
         },
         {
          "cpu_percent": 197.1,
          "cpu_time": 0.7100000000000001,
          "name": "SelectDataDescribe_1",
          "real_mem": 240197632,
          "time": 1616560066.2323017
         },
         {
          "cpu_percent": 196.5,
          "cpu_time": 0.8899999999999999,
          "name": "ReadCsvProjectSpaceETA_1",
          "real_mem": 246370304,
          "time": 1616560066.3163261
         },
         {
          "cpu_percent": 98.4,
          "cpu_time": 0.91,
          "name": "SelectDataDescribe_1",
          "real_mem": 248475648,
          "time": 1616560066.3549256
         },
         {
          "cpu_percent": 98.2,
          "cpu_time": 1.07,
          "name": "ReadCsvProjectSpaceETA_1",
          "real_mem": 254746624,
          "time": 1616560066.439228
         },
         {
          "cpu_percent": 98.3,
          "cpu_time": 1.07,
          "name": "SelectDataDescribe_1",
          "real_mem": 255365120,
          "time": 1616560066.4776807
         },
         {
          "cpu_percent": 295.6,
          "cpu_time": 1.27,
          "name": "ReadCsvProjectSpaceETA_1",
          "real_mem": 256864256,
          "time": 1616560066.562391
         },
         {
          "cpu_percent": 294.2,
          "cpu_time": 1.29,
          "name": "SelectDataDescribe_1",
          "real_mem": 256794624,
          "time": 1616560066.6007004
         },
         {
          "cpu_percent": 197.3,
          "cpu_time": 1.47,
          "name": "ReadCsvProjectSpaceETA_1",
          "real_mem": 271990784,
          "time": 1616560066.6846516
         },
         {
          "cpu_percent": 98.8,
          "cpu_time": 1.46,
          "name": "SelectDataDescribe_1",
          "real_mem": 271945728,
          "time": 1616560066.7233129
         },
         {
          "cpu_percent": 98.6,
          "cpu_time": 1.6400000000000001,
          "name": "ReadCsvProjectSpaceETA_1",
          "real_mem": 279072768,
          "time": 1616560066.8071206
         },
         {
          "cpu_percent": 197.4,
          "cpu_time": 1.6500000000000001,
          "name": "SelectDataDescribe_1",
          "real_mem": 279076864,
          "time": 1616560066.8453925
         },
         {
          "cpu_percent": 98,
          "cpu_time": 1.83,
          "name": "ReadCsvProjectSpaceETA_1",
          "real_mem": 281337856,
          "time": 1616560066.929536
         },
         {
          "cpu_percent": 98.6,
          "cpu_time": 1.84,
          "name": "SelectDataDescribe_1",
          "real_mem": 281288704,
          "time": 1616560066.9676821
         },
         {
          "cpu_percent": 197.1,
          "cpu_time": 2.05,
          "name": "ReadCsvProjectSpaceETA_1",
          "real_mem": 283418624,
          "time": 1616560067.0538244
         },
         {
          "cpu_percent": 295.9,
          "cpu_time": 2.06,
          "name": "SelectDataDescribe_1",
          "real_mem": 283357184,
          "time": 1616560067.0898142
         },
         {
          "cpu_percent": 98.7,
          "cpu_time": 2.3000000000000003,
          "name": "ReadCsvProjectSpaceETA_1",
          "real_mem": 293834752,
          "time": 1616560067.1759753
         },
         {
          "cpu_percent": 295.8,
          "cpu_time": 2.25,
          "name": "SelectDataDescribe_1",
          "real_mem": 295124992,
          "time": 1616560067.2120707
         },
         {
          "cpu_percent": 98,
          "cpu_time": 2.47,
          "name": "ReadCsvProjectSpaceETA_1",
          "real_mem": 308785152,
          "time": 1616560067.2987764
         },
         {
          "cpu_percent": 98.2,
          "cpu_time": 2.42,
          "name": "SelectDataDescribe_1",
          "real_mem": 310185984,
          "time": 1616560067.3379183
         },
         {
          "cpu_percent": 196.6,
          "cpu_time": 2.66,
          "name": "ReadCsvProjectSpaceETA_1",
          "real_mem": 319627264,
          "time": 1616560067.421713
         },
         {
          "cpu_percent": 294.5,
          "cpu_time": 2.63,
          "name": "SelectDataDescribe_1",
          "real_mem": 319188992,
          "time": 1616560067.460488
         },
         {
          "cpu_percent": 196.3,
          "cpu_time": 2.86,
          "name": "ReadCsvProjectSpaceETA_1",
          "real_mem": 322146304,
          "time": 1616560067.5443487
         },
         {
          "cpu_percent": 295.2,
          "cpu_time": 2.84,
          "name": "SelectDataDescribe_1",
          "real_mem": 321712128,
          "time": 1616560067.5833638
         },
         {
          "cpu_percent": 0,
          "cpu_time": 3.0500000000000003,
          "name": "ReadCsvProjectSpaceETA_1",
          "real_mem": 323153920,
          "time": 1616560067.6668453
         },
         {
          "cpu_percent": 98.6,
          "cpu_time": 3.0500000000000003,
          "name": "SelectDataDescribe_1",
          "real_mem": 323227648,
          "time": 1616560067.7056017
         },
         {
          "cpu_percent": 196.1,
          "cpu_time": 3.29,
          "name": "ReadCsvProjectSpaceETA_1",
          "real_mem": 324272128,
          "time": 1616560067.7985864
         },
         {
          "cpu_percent": 295.7,
          "cpu_time": 3.34,
          "name": "SelectDataDescribe_1",
          "real_mem": 324734976,
          "time": 1616560067.8282335
         },
         {
          "cpu_percent": 295.8,
          "cpu_time": 3.58,
          "name": "ReadCsvProjectSpaceETA_1",
          "real_mem": 334307328,
          "time": 1616560067.921462
         },
         {
          "cpu_percent": 395.3,
          "cpu_time": 3.63,
          "name": "SelectDataDescribe_1",
          "real_mem": 333275136,
          "time": 1616560067.950832
         },
         {
          "cpu_percent": 74.4,
          "cpu_time": 3.89,
          "name": "ReadCsvProjectSpaceETA_1",
          "real_mem": 334573568,
          "time": 1616560068.0883422
         },
         {
          "cpu_percent": 392.6,
          "cpu_time": 3.9099999999999997,
          "name": "SelectDataDescribe_1",
          "real_mem": 334266368,
          "time": 1616560068.1103764
         },
         {
          "cpu_percent": 296.3,
          "cpu_time": 4.13,
          "name": "ReadCsvProjectSpaceETA_1",
          "real_mem": 341291008,
          "time": 1616560068.2106564
         },
         {
          "cpu_percent": 97.2,
          "cpu_time": 4.09,
          "name": "SelectDataDescribe_1",
          "real_mem": 340180992,
          "time": 1616560068.2333596
         },
         {
          "cpu_percent": 98.6,
          "cpu_time": 4.199999999999999,
          "name": "ReadCsvProjectSpaceETA_1",
          "real_mem": 342241280,
          "time": 1616560068.333975
         },
         {
          "cpu_percent": 98.8,
          "cpu_time": 4.220000000000001,
          "name": "SelectDataDescribe_1",
          "real_mem": 341827584,
          "time": 1616560068.3559272
         },
         {
          "cpu_percent": 196.9,
          "cpu_time": 4.430000000000001,
          "name": "ReadCsvProjectSpaceETA_1",
          "real_mem": 344670208,
          "time": 1616560068.4564946
         },
         {
          "cpu_percent": 98.7,
          "cpu_time": 4.42,
          "name": "SelectDataDescribe_1",
          "real_mem": 343945216,
          "time": 1616560068.4780447
         },
         {
          "cpu_percent": 212.7,
          "cpu_time": 4.69,
          "name": "ReadCsvProjectSpaceETA_1",
          "real_mem": 346726400,
          "time": 1616560068.587911
         },
         {
          "cpu_percent": 295.2,
          "cpu_time": 4.66,
          "name": "SelectDataDescribe_1",
          "real_mem": 346075136,
          "time": 1616560068.6003597
         },
         {
          "cpu_percent": 0,
          "cpu_time": 4.88,
          "name": "ReadCsvProjectSpaceETA_1",
          "real_mem": 348717056,
          "time": 1616560068.7109125
         },
         {
          "cpu_percent": 98.6,
          "cpu_time": 4.82,
          "name": "SelectDataDescribe_1",
          "real_mem": 348160000,
          "time": 1616560068.722864
         },
         {
          "cpu_percent": 197,
          "cpu_time": 5.03,
          "name": "ReadCsvProjectSpaceETA_1",
          "real_mem": 363659264,
          "time": 1616560068.8338761
         },
         {
          "cpu_percent": 197.4,
          "cpu_time": 4.97,
          "name": "SelectDataDescribe_1",
          "real_mem": 361590784,
          "time": 1616560068.8450453
         },
         {
          "cpu_percent": 195.8,
          "cpu_time": 5.25,
          "name": "ReadCsvProjectSpaceETA_1",
          "real_mem": 379166720,
          "time": 1616560068.9566493
         },
         {
          "cpu_percent": 98.4,
          "cpu_time": 5.12,
          "name": "SelectDataDescribe_1",
          "real_mem": 376020992,
          "time": 1616560068.9677615
         },
         {
          "cpu_percent": 197.3,
          "cpu_time": 5.4399999999999995,
          "name": "ReadCsvProjectSpaceETA_1",
          "real_mem": 391163904,
          "time": 1616560069.0795891
         },
         {
          "cpu_percent": 98.4,
          "cpu_time": 5.36,
          "name": "SelectDataDescribe_1",
          "real_mem": 390520832,
          "time": 1616560069.0908728
         },
         {
          "cpu_percent": 249.1,
          "cpu_time": 5.9399999999999995,
          "name": "ReadCsvProjectSpaceETA_1",
          "real_mem": 413892608,
          "time": 1616560069.358606
         },
         {
          "cpu_percent": 393.9,
          "cpu_time": 5.86,
          "name": "SelectDataDescribe_1",
          "real_mem": 414076928,
          "time": 1616560069.363605
         },
         {
          "cpu_percent": 98.2,
          "cpu_time": 6.45,
          "name": "ReadCsvProjectSpaceETA_1",
          "real_mem": 416378880,
          "time": 1616560069.631541
         },
         {
          "cpu_percent": 197,
          "cpu_time": 6.3999999999999995,
          "name": "SelectDataDescribe_1",
          "real_mem": 416677888,
          "time": 1616560069.6379542
         },
         {
          "cpu_percent": 197.1,
          "cpu_time": 7,
          "name": "ReadCsvProjectSpaceETA_1",
          "real_mem": 433213440,
          "time": 1616560069.909259
         },
         {
          "cpu_percent": 295.7,
          "cpu_time": 6.89,
          "name": "SelectDataDescribe_1",
          "real_mem": 431804416,
          "time": 1616560069.9110644
         },
         {
          "cpu_percent": 0,
          "cpu_time": 7.41,
          "name": "SelectDataDescribe_1",
          "real_mem": 439013376,
          "time": 1616560070.1841018
         },
         {
          "cpu_percent": 196.4,
          "cpu_time": 7.59,
          "name": "ReadCsvProjectSpaceETA_1",
          "real_mem": 445149184,
          "time": 1616560070.1985776
         },
         {
          "cpu_percent": 72.2,
          "cpu_time": 7.989999999999999,
          "name": "SelectDataDescribe_1",
          "real_mem": 447578112,
          "time": 1616560070.4879782
         },
         {
          "cpu_percent": 392.6,
          "cpu_time": 8.26,
          "name": "ReadCsvProjectSpaceETA_1",
          "real_mem": 463257600,
          "time": 1616560070.5110128
         },
         {
          "cpu_percent": 99.1,
          "cpu_time": 8.520000000000001,
          "name": "SelectDataDescribe_1",
          "real_mem": 447406080,
          "time": 1616560070.7613413
         },
         {
          "cpu_percent": 98.4,
          "cpu_time": 8.82,
          "name": "ReadCsvProjectSpaceETA_1",
          "real_mem": 475746304,
          "time": 1616560070.7840865
         },
         {
          "cpu_percent": 491.3,
          "cpu_time": 9.01,
          "name": "SelectDataDescribe_1",
          "real_mem": 465051648,
          "time": 1616560071.034419
         },
         {
          "cpu_percent": 0,
          "cpu_time": 9.48,
          "name": "ReadCsvProjectSpaceETA_1",
          "real_mem": 480780288,
          "time": 1616560071.0569203
         },
         {
          "cpu_percent": 294.9,
          "cpu_time": 9.540000000000001,
          "name": "SelectDataDescribe_1",
          "real_mem": 483729408,
          "time": 1616560071.3097072
         },
         {
          "cpu_percent": 295.5,
          "cpu_time": 9.93,
          "name": "ReadCsvProjectSpaceETA_1",
          "real_mem": 486649856,
          "time": 1616560071.3294744
         },
         {
          "cpu_percent": 295.1,
          "cpu_time": 10.21,
          "name": "SelectDataDescribe_1",
          "real_mem": 526221312,
          "time": 1616560071.6097393
         },
         {
          "cpu_percent": 196.5,
          "cpu_time": 10.41,
          "name": "ReadCsvProjectSpaceETA_1",
          "real_mem": 504336384,
          "time": 1616560071.608973
         },
         {
          "cpu_percent": 0,
          "cpu_time": 10.81,
          "name": "SelectDataDescribe_1",
          "real_mem": 555311104,
          "time": 1616560071.8827267
         },
         {
          "cpu_percent": 198.2,
          "cpu_time": 10.9,
          "name": "ReadCsvProjectSpaceETA_1",
          "real_mem": 517795840,
          "time": 1616560071.8983514
         },
         {
          "cpu_percent": 98.4,
          "cpu_time": 11.3,
          "name": "SelectDataDescribe_1",
          "real_mem": 572956672,
          "time": 1616560072.1561053
         },
         {
          "cpu_percent": 392.29999999999995,
          "cpu_time": 11.37,
          "name": "ReadCsvProjectSpaceETA_1",
          "real_mem": 543191040,
          "time": 1616560072.171148
         },
         {
          "cpu_percent": 0,
          "cpu_time": 11.74,
          "name": "SelectDataDescribe_1",
          "real_mem": 595759104,
          "time": 1616560072.428801
         },
         {
          "cpu_percent": 0,
          "cpu_time": 11.5,
          "name": "ReadCsvProjectSpaceETA_1",
          "real_mem": 552034304,
          "time": 1616560072.4437082
         },
         {
          "cpu_percent": 0,
          "cpu_time": 11.78,
          "name": "SelectDataDescribe_1",
          "real_mem": 597401600,
          "time": 1616560072.7016683
         },
         {
          "cpu_percent": 0,
          "cpu_time": 11.53,
          "name": "ReadCsvProjectSpaceETA_1",
          "real_mem": 553385984,
          "time": 1616560072.7163801
         },
         {
          "cpu_percent": 0,
          "cpu_time": 11.83,
          "name": "SelectDataDescribe_1",
          "real_mem": 599916544,
          "time": 1616560072.9745495
         },
         {
          "cpu_percent": 0,
          "cpu_time": 11.59,
          "name": "ReadCsvProjectSpaceETA_1",
          "real_mem": 556126208,
          "time": 1616560072.9890194
         },
         {
          "cpu_percent": 0,
          "cpu_time": 11.89,
          "name": "SelectDataDescribe_1",
          "real_mem": 601939968,
          "time": 1616560073.2479606
         },
         {
          "cpu_percent": 0,
          "cpu_time": 11.68,
          "name": "ReadCsvProjectSpaceETA_1",
          "real_mem": 558211072,
          "time": 1616560073.2616882
         },
         {
          "cpu_percent": 197,
          "cpu_time": 11.969999999999999,
          "name": "SelectDataDescribe_1",
          "real_mem": 604221440,
          "time": 1616560073.5209157
         },
         {
          "cpu_percent": 0,
          "cpu_time": 11.75,
          "name": "ReadCsvProjectSpaceETA_1",
          "real_mem": 560250880,
          "time": 1616560073.5345728
         },
         {
          "cpu_percent": 0,
          "cpu_time": 12.11,
          "name": "SelectDataDescribe_1",
          "real_mem": 608325632,
          "time": 1616560073.7937646
         },
         {
          "cpu_percent": 0,
          "cpu_time": 11.87,
          "name": "ReadCsvProjectSpaceETA_1",
          "real_mem": 564633600,
          "time": 1616560073.8070583
         },
         {
          "cpu_percent": 0,
          "cpu_time": 12.209999999999999,
          "name": "SelectDataDescribe_1",
          "real_mem": 611893248,
          "time": 1616560074.06667
         },
         {
          "cpu_percent": 98.3,
          "cpu_time": 11.959999999999999,
          "name": "ReadCsvProjectSpaceETA_1",
          "real_mem": 568193024,
          "time": 1616560074.07962
         },
         {
          "cpu_percent": 0,
          "cpu_time": 12.26,
          "name": "SelectDataDescribe_1",
          "real_mem": 615235584,
          "time": 1616560074.3396122
         },
         {
          "cpu_percent": 0,
          "cpu_time": 12.02,
          "name": "ReadCsvProjectSpaceETA_1",
          "real_mem": 571256832,
          "time": 1616560074.352289
         },
         {
          "cpu_percent": 98.4,
          "cpu_time": 12.52,
          "name": "SelectDataDescribe_1",
          "real_mem": 649711616,
          "time": 1616560074.61278
         },
         {
          "cpu_percent": 98.6,
          "cpu_time": 12.29,
          "name": "ReadCsvProjectSpaceETA_1",
          "real_mem": 606662656,
          "time": 1616560074.6246154
         },
         {
          "cpu_percent": 98.2,
          "cpu_time": 12.959999999999999,
          "name": "SelectDataDescribe_1",
          "real_mem": 657625088,
          "time": 1616560074.885626
         },
         {
          "cpu_percent": 99,
          "cpu_time": 12.680000000000001,
          "name": "ReadCsvProjectSpaceETA_1",
          "real_mem": 613478400,
          "time": 1616560074.8974872
         },
         {
          "cpu_percent": 98.5,
          "cpu_time": 13.17,
          "name": "SelectDataDescribe_1",
          "real_mem": 660062208,
          "time": 1616560075.1586134
         },
         {
          "cpu_percent": 0,
          "cpu_time": 12.88,
          "name": "ReadCsvProjectSpaceETA_1",
          "real_mem": 616230912,
          "time": 1616560075.1704166
         },
         {
          "cpu_percent": 0,
          "cpu_time": 13.29,
          "name": "SelectDataDescribe_1",
          "real_mem": 662769664,
          "time": 1616560075.43185
         },
         {
          "cpu_percent": 0,
          "cpu_time": 13.040000000000001,
          "name": "ReadCsvProjectSpaceETA_1",
          "real_mem": 618606592,
          "time": 1616560075.4431915
         },
         {
          "cpu_percent": 295.8,
          "cpu_time": 13.54,
          "name": "SelectDataDescribe_1",
          "real_mem": 666517504,
          "time": 1616560075.7047973
         },
         {
          "cpu_percent": 197,
          "cpu_time": 13.3,
          "name": "ReadCsvProjectSpaceETA_1",
          "real_mem": 622497792,
          "time": 1616560075.7159793
         },
         {
          "cpu_percent": 98.2,
          "cpu_time": 14,
          "name": "SelectDataDescribe_1",
          "real_mem": 661266432,
          "time": 1616560075.9781466
         },
         {
          "cpu_percent": 0,
          "cpu_time": 13.780000000000001,
          "name": "ReadCsvProjectSpaceETA_1",
          "real_mem": 625537024,
          "time": 1616560075.9885633
         },
         {
          "cpu_percent": 98.4,
          "cpu_time": 14.23,
          "name": "SelectDataDescribe_1",
          "real_mem": 663568384,
          "time": 1616560076.2510583
         },
         {
          "cpu_percent": 98.5,
          "cpu_time": 14.020000000000001,
          "name": "ReadCsvProjectSpaceETA_1",
          "real_mem": 632705024,
          "time": 1616560076.261148
         },
         {
          "cpu_percent": 98.5,
          "cpu_time": 14.620000000000001,
          "name": "SelectDataDescribe_1",
          "real_mem": 665550848,
          "time": 1616560076.5239513
         },
         {
          "cpu_percent": 98.7,
          "cpu_time": 14.41,
          "name": "ReadCsvProjectSpaceETA_1",
          "real_mem": 634716160,
          "time": 1616560076.5335362
         },
         {
          "cpu_percent": 98.5,
          "cpu_time": 14.99,
          "name": "SelectDataDescribe_1",
          "real_mem": 668233728,
          "time": 1616560076.796565
         },
         {
          "cpu_percent": 97.4,
          "cpu_time": 14.8,
          "name": "ReadCsvProjectSpaceETA_1",
          "real_mem": 638038016,
          "time": 1616560076.8064597
         },
         {
          "cpu_percent": 98.8,
          "cpu_time": 15.780000000000001,
          "name": "SelectDataDescribe_1",
          "real_mem": 672182272,
          "time": 1616560077.3186536
         },
         {
          "cpu_percent": 197.5,
          "cpu_time": 15.68,
          "name": "ReadCsvProjectSpaceETA_1",
          "real_mem": 642662400,
          "time": 1616560077.3287416
         },
         {
          "cpu_percent": 0,
          "cpu_time": 16.48,
          "name": "SelectDataDescribe_1",
          "real_mem": 674881536,
          "time": 1616560077.8406873
         },
         {
          "cpu_percent": 98.2,
          "cpu_time": 16.36,
          "name": "ReadCsvProjectSpaceETA_1",
          "real_mem": 646082560,
          "time": 1616560077.8514862
         },
         {
          "cpu_percent": 0,
          "cpu_time": 17.11,
          "name": "SelectDataDescribe_1",
          "real_mem": 718258176,
          "time": 1616560078.363476
         },
         {
          "cpu_percent": 98.6,
          "cpu_time": 16.96,
          "name": "ReadCsvProjectSpaceETA_1",
          "real_mem": 710012928,
          "time": 1616560078.374382
         },
         {
          "cpu_percent": 98.7,
          "cpu_time": 17.52,
          "name": "SelectDataDescribe_1",
          "real_mem": 721068032,
          "time": 1616560078.8862033
         },
         {
          "cpu_percent": 0,
          "cpu_time": 17.34,
          "name": "ReadCsvProjectSpaceETA_1",
          "real_mem": 716836864,
          "time": 1616560078.8970897
         },
         {
          "cpu_percent": 0,
          "cpu_time": 18.02,
          "name": "SelectDataDescribe_1",
          "real_mem": 732770304,
          "time": 1616560079.4090712
         },
         {
          "cpu_percent": 0,
          "cpu_time": 17.92,
          "name": "ReadCsvProjectSpaceETA_1",
          "real_mem": 722624512,
          "time": 1616560079.4197192
         },
         {
          "cpu_percent": 393.1,
          "cpu_time": 18.85,
          "name": "SelectDataDescribe_1",
          "real_mem": 735322112,
          "time": 1616560079.9322658
         },
         {
          "cpu_percent": 295.2,
          "cpu_time": 18.85,
          "name": "ReadCsvProjectSpaceETA_1",
          "real_mem": 727375872,
          "time": 1616560079.9427826
         },
         {
          "cpu_percent": 196.6,
          "cpu_time": 19.830000000000002,
          "name": "SelectDataDescribe_1",
          "real_mem": 748871680,
          "time": 1616560080.455556
         },
         {
          "cpu_percent": 98.3,
          "cpu_time": 19.91,
          "name": "ReadCsvProjectSpaceETA_1",
          "real_mem": 771043328,
          "time": 1616560080.4659667
         },
         {
          "cpu_percent": 0,
          "cpu_time": 20.36,
          "name": "SelectDataDescribe_1",
          "real_mem": 752193536,
          "time": 1616560080.978322
         },
         {
          "cpu_percent": 0,
          "cpu_time": 20.37,
          "name": "ReadCsvProjectSpaceETA_1",
          "real_mem": 767582208,
          "time": 1616560080.988489
         },
         {
          "cpu_percent": 197.2,
          "cpu_time": 21.08,
          "name": "SelectDataDescribe_1",
          "real_mem": 754937856,
          "time": 1616560081.5012589
         },
         {
          "cpu_percent": 393.9,
          "cpu_time": 20.95,
          "name": "ReadCsvProjectSpaceETA_1",
          "real_mem": 769863680,
          "time": 1616560081.5114634
         },
         {
          "cpu_percent": 296.2,
          "cpu_time": 21.99,
          "name": "SelectDataDescribe_1",
          "real_mem": 761118720,
          "time": 1616560082.0240157
         },
         {
          "cpu_percent": 294.9,
          "cpu_time": 22.05,
          "name": "ReadCsvProjectSpaceETA_1",
          "real_mem": 775598080,
          "time": 1616560082.0344996
         },
         {
          "cpu_percent": 98.3,
          "cpu_time": 23.04,
          "name": "SelectDataDescribe_1",
          "real_mem": 765202432,
          "time": 1616560082.5472143
         },
         {
          "cpu_percent": 98.6,
          "cpu_time": 22.94,
          "name": "ReadCsvProjectSpaceETA_1",
          "real_mem": 780103680,
          "time": 1616560082.5573137
         },
         {
          "cpu_percent": 0,
          "cpu_time": 23.07,
          "name": "SelectDataDescribe_1",
          "real_mem": 765513728,
          "time": 1616560083.0703504
         },
         {
          "cpu_percent": 0,
          "cpu_time": 22.96,
          "name": "ReadCsvProjectSpaceETA_1",
          "real_mem": 780406784,
          "time": 1616560083.080056
         },
         {
          "cpu_percent": 197.5,
          "cpu_time": 23.93,
          "name": "SelectDataDescribe_1",
          "real_mem": 785735680,
          "time": 1616560083.5928938
         },
         {
          "cpu_percent": 295.8,
          "cpu_time": 23.7,
          "name": "ReadCsvProjectSpaceETA_1",
          "real_mem": 798027776,
          "time": 1616560083.602939
         },
         {
          "cpu_percent": 490.9,
          "cpu_time": 25.03,
          "name": "SelectDataDescribe_1",
          "real_mem": 787488768,
          "time": 1616560084.1164021
         },
         {
          "cpu_percent": 294.9,
          "cpu_time": 26.28,
          "name": "SelectDataDescribe_1",
          "real_mem": 817725440,
          "time": 1616560084.6395001
         },
         {
          "cpu_percent": 291.9,
          "cpu_time": 28.21,
          "name": "SelectDataDescribe_1",
          "real_mem": 826146816,
          "time": 1616560085.1619809
         },
         {
          "cpu_percent": 295.9,
          "cpu_time": 29.74,
          "name": "SelectDataDescribe_1",
          "real_mem": 833474560,
          "time": 1616560085.684756
         },
         {
          "cpu_percent": 394,
          "cpu_time": 31.33,
          "name": "SelectDataDescribe_1",
          "real_mem": 822910976,
          "time": 1616560086.2078497
         }
        ],
        "logs": [
         {
          "asctime": "2021-03-24 04:27:45,006",
          "created": 1616560065.0069962,
          "extra": {},
          "filename": "async_executors.py",
          "funcName": "main",
          "levelname": "DEBUG",
          "lineno": 114,
          "message": "NonSparkPath_1: started async block execution\n",
          "name": "engine.logs:NonSparkPath_1",
          "pathname": "/usr/local/lib/python3.7/dist-packages/razor/flow/async_executors.py",
          "process": 705,
          "processName": "ForkProcess-1:1",
          "thread": 140717599356736,
          "threadName": "MainThread"
         },
         {
          "asctime": "2021-03-24 04:27:45,026",
          "created": 1616560065.0262806,
          "extra": {},
          "filename": "async_executors.py",
          "funcName": "fill_atomic_inputs",
          "levelname": "INFO",
          "lineno": 250,
          "message": "NonSparkPath_1: waiting for atomic input: ip_path",
          "name": "engine.logs:NonSparkPath_1",
          "pathname": "/usr/local/lib/python3.7/dist-packages/razor/flow/async_executors.py",
          "process": 705,
          "processName": "ForkProcess-1:1",
          "thread": 140717599356736,
          "threadName": "MainThread"
         },
         {
          "asctime": "2021-03-24 04:27:45,026",
          "created": 1616560065.026473,
          "extra": {},
          "filename": "async_executors.py",
          "funcName": "fill_atomic_inputs",
          "levelname": "DEBUG",
          "lineno": 253,
          "message": "NonSparkPath_1: got atomic input: train_hatespeech.csv",
          "name": "engine.logs:NonSparkPath_1",
          "pathname": "/usr/local/lib/python3.7/dist-packages/razor/flow/async_executors.py",
          "process": 705,
          "processName": "ForkProcess-1:1",
          "thread": 140717599356736,
          "threadName": "MainThread"
         },
         {
          "asctime": "2021-03-24 04:27:45,026",
          "created": 1616560065.02653,
          "extra": {},
          "filename": "async_executors.py",
          "funcName": "main",
          "levelname": "DEBUG",
          "lineno": 130,
          "message": "NonSparkPath_1: triggering block run",
          "name": "engine.logs:NonSparkPath_1",
          "pathname": "/usr/local/lib/python3.7/dist-packages/razor/flow/async_executors.py",
          "process": 705,
          "processName": "ForkProcess-1:1",
          "thread": 140717599356736,
          "threadName": "MainThread"
         },
         {
          "asctime": "2021-03-24 04:27:45,252",
          "created": 1616560065.2525866,
          "extra": {},
          "filename": "async_executors.py",
          "funcName": "distribute_output_queue",
          "levelname": "DEBUG",
          "lineno": 308,
          "message": "NonSparkPath_1: ---- dist output: /home/aios/projectspace/train_hatespeech.csv -> ('SelectDataDescribe_1', 'filename')",
          "name": "engine.logs:NonSparkPath_1",
          "pathname": "/usr/local/lib/python3.7/dist-packages/razor/flow/async_executors.py",
          "process": 705,
          "processName": "ForkProcess-1:1",
          "thread": 140717599356736,
          "threadName": "MainThread"
         },
         {
          "asctime": "2021-03-24 04:27:45,252",
          "created": 1616560065.2527595,
          "extra": {},
          "filename": "async_executors.py",
          "funcName": "distribute_output_queue",
          "levelname": "DEBUG",
          "lineno": 308,
          "message": "NonSparkPath_1: ---- dist output: /home/aios/projectspace/train_hatespeech.csv -> ('ReadCsvProjectSpaceETA_1', 'filename')",
          "name": "engine.logs:NonSparkPath_1",
          "pathname": "/usr/local/lib/python3.7/dist-packages/razor/flow/async_executors.py",
          "process": 705,
          "processName": "ForkProcess-1:1",
          "thread": 140717599356736,
          "threadName": "MainThread"
         },
         {
          "asctime": "2021-03-24 04:27:45,252",
          "created": 1616560065.2529852,
          "extra": {},
          "filename": "async_executors.py",
          "funcName": "main",
          "levelname": "DEBUG",
          "lineno": 147,
          "message": "NonSparkPath_1: block thread completed",
          "name": "engine.logs:NonSparkPath_1",
          "pathname": "/usr/local/lib/python3.7/dist-packages/razor/flow/async_executors.py",
          "process": 705,
          "processName": "ForkProcess-1:1",
          "thread": 140717599356736,
          "threadName": "MainThread"
         },
         {
          "asctime": "2021-03-24 04:27:45,253",
          "created": 1616560065.2530909,
          "extra": {},
          "filename": "async_executors.py",
          "funcName": "main",
          "levelname": "DEBUG",
          "lineno": 149,
          "message": "NonSparkPath_1: block execution complete",
          "name": "engine.logs:NonSparkPath_1",
          "pathname": "/usr/local/lib/python3.7/dist-packages/razor/flow/async_executors.py",
          "process": 705,
          "processName": "ForkProcess-1:1",
          "thread": 140717599356736,
          "threadName": "MainThread"
         },
         {
          "asctime": "2021-03-24 04:27:45,253",
          "created": 1616560065.2532074,
          "extra": {},
          "filename": "async_executors.py",
          "funcName": "distribute_output_queue",
          "levelname": "DEBUG",
          "lineno": 308,
          "message": "NonSparkPath_1: ---- dist output: b'__!\\tEndOfStream\\t!__' -> ('SelectDataDescribe_1', 'filename')",
          "name": "engine.logs:NonSparkPath_1",
          "pathname": "/usr/local/lib/python3.7/dist-packages/razor/flow/async_executors.py",
          "process": 705,
          "processName": "ForkProcess-1:1",
          "thread": 140717599356736,
          "threadName": "MainThread"
         },
         {
          "asctime": "2021-03-24 04:27:45,253",
          "created": 1616560065.253252,
          "extra": {},
          "filename": "async_executors.py",
          "funcName": "distribute_output_queue",
          "levelname": "DEBUG",
          "lineno": 308,
          "message": "NonSparkPath_1: ---- dist output: b'__!\\tEndOfStream\\t!__' -> ('ReadCsvProjectSpaceETA_1', 'filename')",
          "name": "engine.logs:NonSparkPath_1",
          "pathname": "/usr/local/lib/python3.7/dist-packages/razor/flow/async_executors.py",
          "process": 705,
          "processName": "ForkProcess-1:1",
          "thread": 140717599356736,
          "threadName": "MainThread"
         },
         {
          "asctime": "2021-03-24 04:27:45,267",
          "created": 1616560065.267736,
          "extra": {},
          "filename": "async_executors.py",
          "funcName": "main",
          "levelname": "DEBUG",
          "lineno": 114,
          "message": "ReadCsvProjectSpaceETA_1: started async block execution\n",
          "name": "engine.logs:ReadCsvProjectSpaceETA_1",
          "pathname": "/usr/local/lib/python3.7/dist-packages/razor/flow/async_executors.py",
          "process": 713,
          "processName": "ForkProcess-1:2",
          "thread": 140717599356736,
          "threadName": "MainThread"
         },
         {
          "asctime": "2021-03-24 04:27:45,291",
          "created": 1616560065.2916758,
          "extra": {},
          "filename": "async_executors.py",
          "funcName": "fill_atomic_inputs",
          "levelname": "INFO",
          "lineno": 250,
          "message": "ReadCsvProjectSpaceETA_1: waiting for atomic input: filename",
          "name": "engine.logs:ReadCsvProjectSpaceETA_1",
          "pathname": "/usr/local/lib/python3.7/dist-packages/razor/flow/async_executors.py",
          "process": 713,
          "processName": "ForkProcess-1:2",
          "thread": 140717599356736,
          "threadName": "MainThread"
         },
         {
          "asctime": "2021-03-24 04:27:45,296",
          "created": 1616560065.2966466,
          "extra": {},
          "filename": "async_executors.py",
          "funcName": "start_input_receiver",
          "levelname": "DEBUG",
          "lineno": 173,
          "message": "NonSparkPath_1: received cmd: start_sender, (), {'out_name': 'op_path', 'target': ('ReadCsvProjectSpaceETA_1', 'filename'), 'out_addr': 'tcp://0.0.0.0:59590', 'in_memory': None}",
          "name": "engine.logs:NonSparkPath_1",
          "pathname": "/usr/local/lib/python3.7/dist-packages/razor/flow/async_executors.py",
          "process": 705,
          "processName": "ForkProcess-1:1",
          "thread": 140717599356736,
          "threadName": "MainThread"
         },
         {
          "asctime": "2021-03-24 04:27:45,277",
          "created": 1616560065.27783,
          "extra": {},
          "filename": "async_executors.py",
          "funcName": "main",
          "levelname": "DEBUG",
          "lineno": 114,
          "message": "SelectDataDescribe_1: started async block execution\n",
          "name": "engine.logs:SelectDataDescribe_1",
          "pathname": "/usr/local/lib/python3.7/dist-packages/razor/flow/async_executors.py",
          "process": 714,
          "processName": "ForkProcess-1:3",
          "thread": 140717599356736,
          "threadName": "MainThread"
         },
         {
          "asctime": "2021-03-24 04:27:45,299",
          "created": 1616560065.2993784,
          "extra": {},
          "filename": "async_executors.py",
          "funcName": "start_input_receiver",
          "levelname": "DEBUG",
          "lineno": 177,
          "message": "ReadCsvProjectSpaceETA_1: received data: filename, /home/aios/projectspace/train_hatespeech.csv",
          "name": "engine.logs:ReadCsvProjectSpaceETA_1",
          "pathname": "/usr/local/lib/python3.7/dist-packages/razor/flow/async_executors.py",
          "process": 713,
          "processName": "ForkProcess-1:2",
          "thread": 140717599356736,
          "threadName": "MainThread"
         },
         {
          "asctime": "2021-03-24 04:27:45,297",
          "created": 1616560065.2971005,
          "extra": {},
          "filename": "async_executors.py",
          "funcName": "start_output_sender",
          "levelname": "DEBUG",
          "lineno": 370,
          "message": "NonSparkPath_1: got start_sender, op_path, ('ReadCsvProjectSpaceETA_1', 'filename')",
          "name": "engine.logs:NonSparkPath_1",
          "pathname": "/usr/local/lib/python3.7/dist-packages/razor/flow/async_executors.py",
          "process": 705,
          "processName": "ForkProcess-1:1",
          "thread": 140717599356736,
          "threadName": "MainThread"
         },
         {
          "asctime": "2021-03-24 04:27:45,299",
          "created": 1616560065.2996595,
          "extra": {},
          "filename": "async_executors.py",
          "funcName": "start_input_receiver",
          "levelname": "DEBUG",
          "lineno": 177,
          "message": "ReadCsvProjectSpaceETA_1: received data: filename, b'__!\\tEndOfStream\\t!__'",
          "name": "engine.logs:ReadCsvProjectSpaceETA_1",
          "pathname": "/usr/local/lib/python3.7/dist-packages/razor/flow/async_executors.py",
          "process": 713,
          "processName": "ForkProcess-1:2",
          "thread": 140717599356736,
          "threadName": "MainThread"
         },
         {
          "asctime": "2021-03-24 04:27:45,298",
          "created": 1616560065.2980835,
          "extra": {},
          "filename": "async_executors.py",
          "funcName": "start_output_sender",
          "levelname": "DEBUG",
          "lineno": 388,
          "message": "NonSparkPath_1: SENT, filename, /home/aios/projectspace/train_hatespeech.csv, ('ReadCsvProjectSpaceETA_1', 'filename')",
          "name": "engine.logs:NonSparkPath_1",
          "pathname": "/usr/local/lib/python3.7/dist-packages/razor/flow/async_executors.py",
          "process": 705,
          "processName": "ForkProcess-1:1",
          "thread": 140717599356736,
          "threadName": "MainThread"
         },
         {
          "asctime": "2021-03-24 04:27:45,299",
          "created": 1616560065.2999341,
          "extra": {},
          "filename": "async_executors.py",
          "funcName": "fill_atomic_inputs",
          "levelname": "DEBUG",
          "lineno": 253,
          "message": "ReadCsvProjectSpaceETA_1: got atomic input: /home/aios/projectspace/train_hatespeech.csv",
          "name": "engine.logs:ReadCsvProjectSpaceETA_1",
          "pathname": "/usr/local/lib/python3.7/dist-packages/razor/flow/async_executors.py",
          "process": 713,
          "processName": "ForkProcess-1:2",
          "thread": 140717599356736,
          "threadName": "MainThread"
         },
         {
          "asctime": "2021-03-24 04:27:45,298",
          "created": 1616560065.2983668,
          "extra": {},
          "filename": "async_executors.py",
          "funcName": "start_output_sender",
          "levelname": "DEBUG",
          "lineno": 388,
          "message": "NonSparkPath_1: SENT, filename, b'__!\\tEndOfStream\\t!__', ('ReadCsvProjectSpaceETA_1', 'filename')",
          "name": "engine.logs:NonSparkPath_1",
          "pathname": "/usr/local/lib/python3.7/dist-packages/razor/flow/async_executors.py",
          "process": 705,
          "processName": "ForkProcess-1:1",
          "thread": 140717599356736,
          "threadName": "MainThread"
         },
         {
          "asctime": "2021-03-24 04:27:45,300",
          "created": 1616560065.3000016,
          "extra": {},
          "filename": "async_executors.py",
          "funcName": "fill_atomic_inputs",
          "levelname": "INFO",
          "lineno": 250,
          "message": "ReadCsvProjectSpaceETA_1: waiting for atomic input: config",
          "name": "engine.logs:ReadCsvProjectSpaceETA_1",
          "pathname": "/usr/local/lib/python3.7/dist-packages/razor/flow/async_executors.py",
          "process": 713,
          "processName": "ForkProcess-1:2",
          "thread": 140717599356736,
          "threadName": "MainThread"
         },
         {
          "asctime": "2021-03-24 04:27:45,300",
          "created": 1616560065.3004239,
          "extra": {},
          "filename": "async_executors.py",
          "funcName": "fill_atomic_inputs",
          "levelname": "INFO",
          "lineno": 250,
          "message": "SelectDataDescribe_1: waiting for atomic input: filename",
          "name": "engine.logs:SelectDataDescribe_1",
          "pathname": "/usr/local/lib/python3.7/dist-packages/razor/flow/async_executors.py",
          "process": 714,
          "processName": "ForkProcess-1:3",
          "thread": 140717599356736,
          "threadName": "MainThread"
         },
         {
          "asctime": "2021-03-24 04:27:45,300",
          "created": 1616560065.3000786,
          "extra": {},
          "filename": "async_executors.py",
          "funcName": "fill_atomic_inputs",
          "levelname": "DEBUG",
          "lineno": 253,
          "message": "ReadCsvProjectSpaceETA_1: got atomic input: {}",
          "name": "engine.logs:ReadCsvProjectSpaceETA_1",
          "pathname": "/usr/local/lib/python3.7/dist-packages/razor/flow/async_executors.py",
          "process": 713,
          "processName": "ForkProcess-1:2",
          "thread": 140717599356736,
          "threadName": "MainThread"
         },
         {
          "asctime": "2021-03-24 04:27:45,298",
          "created": 1616560065.2986164,
          "extra": {},
          "filename": "async_executors.py",
          "funcName": "start_output_sender",
          "levelname": "DEBUG",
          "lineno": 391,
          "message": "NonSparkPath_1: completed output: ('op_path', ('ReadCsvProjectSpaceETA_1', 'filename'))",
          "name": "engine.logs:NonSparkPath_1",
          "pathname": "/usr/local/lib/python3.7/dist-packages/razor/flow/async_executors.py",
          "process": 705,
          "processName": "ForkProcess-1:1",
          "thread": 140717599356736,
          "threadName": "MainThread"
         },
         {
          "asctime": "2021-03-24 04:27:45,300",
          "created": 1616560065.3001387,
          "extra": {},
          "filename": "async_executors.py",
          "funcName": "fill_atomic_inputs",
          "levelname": "INFO",
          "lineno": 250,
          "message": "ReadCsvProjectSpaceETA_1: waiting for atomic input: source",
          "name": "engine.logs:ReadCsvProjectSpaceETA_1",
          "pathname": "/usr/local/lib/python3.7/dist-packages/razor/flow/async_executors.py",
          "process": 713,
          "processName": "ForkProcess-1:2",
          "thread": 140717599356736,
          "threadName": "MainThread"
         },
         {
          "asctime": "2021-03-24 04:27:45,300",
          "created": 1616560065.3002026,
          "extra": {},
          "filename": "async_executors.py",
          "funcName": "fill_atomic_inputs",
          "levelname": "DEBUG",
          "lineno": 253,
          "message": "ReadCsvProjectSpaceETA_1: got atomic input: ",
          "name": "engine.logs:ReadCsvProjectSpaceETA_1",
          "pathname": "/usr/local/lib/python3.7/dist-packages/razor/flow/async_executors.py",
          "process": 713,
          "processName": "ForkProcess-1:2",
          "thread": 140717599356736,
          "threadName": "MainThread"
         },
         {
          "asctime": "2021-03-24 04:27:45,300",
          "created": 1616560065.3002698,
          "extra": {},
          "filename": "async_executors.py",
          "funcName": "main",
          "levelname": "DEBUG",
          "lineno": 130,
          "message": "ReadCsvProjectSpaceETA_1: triggering block run",
          "name": "engine.logs:ReadCsvProjectSpaceETA_1",
          "pathname": "/usr/local/lib/python3.7/dist-packages/razor/flow/async_executors.py",
          "process": 713,
          "processName": "ForkProcess-1:2",
          "thread": 140717599356736,
          "threadName": "MainThread"
         },
         {
          "asctime": "2021-03-24 04:27:45,309",
          "created": 1616560065.309555,
          "extra": {},
          "filename": "async_executors.py",
          "funcName": "start_input_receiver",
          "levelname": "DEBUG",
          "lineno": 173,
          "message": "NonSparkPath_1: received cmd: start_sender, (), {'out_name': 'op_path', 'target': ('SelectDataDescribe_1', 'filename'), 'out_addr': 'tcp://0.0.0.0:62691', 'in_memory': None}",
          "name": "engine.logs:NonSparkPath_1",
          "pathname": "/usr/local/lib/python3.7/dist-packages/razor/flow/async_executors.py",
          "process": 705,
          "processName": "ForkProcess-1:1",
          "thread": 140717599356736,
          "threadName": "MainThread"
         },
         {
          "asctime": "2021-03-24 04:27:45,309",
          "created": 1616560065.30986,
          "extra": {},
          "filename": "async_executors.py",
          "funcName": "start_output_sender",
          "levelname": "DEBUG",
          "lineno": 370,
          "message": "NonSparkPath_1: got start_sender, op_path, ('SelectDataDescribe_1', 'filename')",
          "name": "engine.logs:NonSparkPath_1",
          "pathname": "/usr/local/lib/python3.7/dist-packages/razor/flow/async_executors.py",
          "process": 705,
          "processName": "ForkProcess-1:1",
          "thread": 140717599356736,
          "threadName": "MainThread"
         },
         {
          "asctime": "2021-03-24 04:27:45,310",
          "created": 1616560065.3105133,
          "extra": {},
          "filename": "async_executors.py",
          "funcName": "start_output_sender",
          "levelname": "DEBUG",
          "lineno": 388,
          "message": "NonSparkPath_1: SENT, filename, /home/aios/projectspace/train_hatespeech.csv, ('SelectDataDescribe_1', 'filename')",
          "name": "engine.logs:NonSparkPath_1",
          "pathname": "/usr/local/lib/python3.7/dist-packages/razor/flow/async_executors.py",
          "process": 705,
          "processName": "ForkProcess-1:1",
          "thread": 140717599356736,
          "threadName": "MainThread"
         },
         {
          "asctime": "2021-03-24 04:27:45,310",
          "created": 1616560065.3107145,
          "extra": {},
          "filename": "async_executors.py",
          "funcName": "start_output_sender",
          "levelname": "DEBUG",
          "lineno": 388,
          "message": "NonSparkPath_1: SENT, filename, b'__!\\tEndOfStream\\t!__', ('SelectDataDescribe_1', 'filename')",
          "name": "engine.logs:NonSparkPath_1",
          "pathname": "/usr/local/lib/python3.7/dist-packages/razor/flow/async_executors.py",
          "process": 705,
          "processName": "ForkProcess-1:1",
          "thread": 140717599356736,
          "threadName": "MainThread"
         },
         {
          "asctime": "2021-03-24 04:27:45,311",
          "created": 1616560065.311186,
          "extra": {},
          "filename": "async_executors.py",
          "funcName": "start_output_sender",
          "levelname": "DEBUG",
          "lineno": 391,
          "message": "NonSparkPath_1: completed output: ('op_path', ('SelectDataDescribe_1', 'filename'))",
          "name": "engine.logs:NonSparkPath_1",
          "pathname": "/usr/local/lib/python3.7/dist-packages/razor/flow/async_executors.py",
          "process": 705,
          "processName": "ForkProcess-1:1",
          "thread": 140717599356736,
          "threadName": "MainThread"
         },
         {
          "asctime": "2021-03-24 04:27:45,311",
          "created": 1616560065.3112397,
          "extra": {},
          "filename": "async_executors.py",
          "funcName": "start_input_receiver",
          "levelname": "DEBUG",
          "lineno": 177,
          "message": "SelectDataDescribe_1: received data: filename, /home/aios/projectspace/train_hatespeech.csv",
          "name": "engine.logs:SelectDataDescribe_1",
          "pathname": "/usr/local/lib/python3.7/dist-packages/razor/flow/async_executors.py",
          "process": 714,
          "processName": "ForkProcess-1:3",
          "thread": 140717599356736,
          "threadName": "MainThread"
         },
         {
          "asctime": "2021-03-24 04:27:45,315",
          "created": 1616560065.315244,
          "extra": {},
          "filename": "async_executors.py",
          "funcName": "start_input_receiver",
          "levelname": "DEBUG",
          "lineno": 173,
          "message": "NonSparkPath_1: received cmd: terminate, (), {}",
          "name": "engine.logs:NonSparkPath_1",
          "pathname": "/usr/local/lib/python3.7/dist-packages/razor/flow/async_executors.py",
          "process": 705,
          "processName": "ForkProcess-1:1",
          "thread": 140717599356736,
          "threadName": "MainThread"
         },
         {
          "asctime": "2021-03-24 04:27:45,311",
          "created": 1616560065.3115358,
          "extra": {},
          "filename": "async_executors.py",
          "funcName": "start_input_receiver",
          "levelname": "DEBUG",
          "lineno": 177,
          "message": "SelectDataDescribe_1: received data: filename, b'__!\\tEndOfStream\\t!__'",
          "name": "engine.logs:SelectDataDescribe_1",
          "pathname": "/usr/local/lib/python3.7/dist-packages/razor/flow/async_executors.py",
          "process": 714,
          "processName": "ForkProcess-1:3",
          "thread": 140717599356736,
          "threadName": "MainThread"
         },
         {
          "asctime": "2021-03-24 04:27:45,311",
          "created": 1616560065.311685,
          "extra": {},
          "filename": "async_executors.py",
          "funcName": "fill_atomic_inputs",
          "levelname": "DEBUG",
          "lineno": 253,
          "message": "SelectDataDescribe_1: got atomic input: /home/aios/projectspace/train_hatespeech.csv",
          "name": "engine.logs:SelectDataDescribe_1",
          "pathname": "/usr/local/lib/python3.7/dist-packages/razor/flow/async_executors.py",
          "process": 714,
          "processName": "ForkProcess-1:3",
          "thread": 140717599356736,
          "threadName": "MainThread"
         },
         {
          "asctime": "2021-03-24 04:27:45,311",
          "created": 1616560065.3117347,
          "extra": {},
          "filename": "async_executors.py",
          "funcName": "fill_atomic_inputs",
          "levelname": "INFO",
          "lineno": 250,
          "message": "SelectDataDescribe_1: waiting for atomic input: config",
          "name": "engine.logs:SelectDataDescribe_1",
          "pathname": "/usr/local/lib/python3.7/dist-packages/razor/flow/async_executors.py",
          "process": 714,
          "processName": "ForkProcess-1:3",
          "thread": 140717599356736,
          "threadName": "MainThread"
         },
         {
          "asctime": "2021-03-24 04:27:45,311",
          "created": 1616560065.3117828,
          "extra": {},
          "filename": "async_executors.py",
          "funcName": "fill_atomic_inputs",
          "levelname": "DEBUG",
          "lineno": 253,
          "message": "SelectDataDescribe_1: got atomic input: {}",
          "name": "engine.logs:SelectDataDescribe_1",
          "pathname": "/usr/local/lib/python3.7/dist-packages/razor/flow/async_executors.py",
          "process": 714,
          "processName": "ForkProcess-1:3",
          "thread": 140717599356736,
          "threadName": "MainThread"
         },
         {
          "asctime": "2021-03-24 04:27:45,311",
          "created": 1616560065.3118188,
          "extra": {},
          "filename": "async_executors.py",
          "funcName": "fill_atomic_inputs",
          "levelname": "INFO",
          "lineno": 250,
          "message": "SelectDataDescribe_1: waiting for atomic input: source",
          "name": "engine.logs:SelectDataDescribe_1",
          "pathname": "/usr/local/lib/python3.7/dist-packages/razor/flow/async_executors.py",
          "process": 714,
          "processName": "ForkProcess-1:3",
          "thread": 140717599356736,
          "threadName": "MainThread"
         },
         {
          "asctime": "2021-03-24 04:27:45,311",
          "created": 1616560065.3118582,
          "extra": {},
          "filename": "async_executors.py",
          "funcName": "fill_atomic_inputs",
          "levelname": "DEBUG",
          "lineno": 253,
          "message": "SelectDataDescribe_1: got atomic input: ",
          "name": "engine.logs:SelectDataDescribe_1",
          "pathname": "/usr/local/lib/python3.7/dist-packages/razor/flow/async_executors.py",
          "process": 714,
          "processName": "ForkProcess-1:3",
          "thread": 140717599356736,
          "threadName": "MainThread"
         },
         {
          "asctime": "2021-03-24 04:27:45,311",
          "created": 1616560065.3119156,
          "extra": {},
          "filename": "async_executors.py",
          "funcName": "main",
          "levelname": "DEBUG",
          "lineno": 130,
          "message": "SelectDataDescribe_1: triggering block run",
          "name": "engine.logs:SelectDataDescribe_1",
          "pathname": "/usr/local/lib/python3.7/dist-packages/razor/flow/async_executors.py",
          "process": 714,
          "processName": "ForkProcess-1:3",
          "thread": 140717599356736,
          "threadName": "MainThread"
         },
         {
          "asctime": "2021-03-24 04:28:03,894",
          "created": 1616560083.8941884,
          "exc_info": null,
          "extra": {},
          "filename": null,
          "full_message": null,
          "funcName": null,
          "levelname": "STDOUT",
          "lineno": null,
          "message": "Data Schema\n",
          "name": "block.stdout:ReadCsvProjectSpaceETA_1",
          "pathname": null,
          "process": null,
          "processName": null,
          "thread": null,
          "threadName": null
         },
         {
          "asctime": "2021-03-24 04:28:03,915",
          "created": 1616560083.9156623,
          "exc_info": null,
          "extra": {},
          "filename": null,
          "full_message": null,
          "funcName": null,
          "levelname": "STDOUT",
          "lineno": null,
          "message": "root\n |-- Unnamed: 0: string (nullable = true)\n |-- count: string (nullable = true)\n |-- hate_speech: string (nullable = true)\n |-- offensive_language: string (nullable = true)\n |-- neither: string (nullable = true)\n |-- class: string (nullable = true)\n |-- tweet: string (nullable = true)\n\n",
          "name": "block.stdout:ReadCsvProjectSpaceETA_1",
          "pathname": null,
          "process": null,
          "processName": null,
          "thread": null,
          "threadName": null
         },
         {
          "asctime": "2021-03-24 04:28:03,916",
          "created": 1616560083.9167147,
          "extra": {},
          "filename": "async_executors.py",
          "funcName": "main",
          "levelname": "DEBUG",
          "lineno": 147,
          "message": "ReadCsvProjectSpaceETA_1: block thread completed",
          "name": "engine.logs:ReadCsvProjectSpaceETA_1",
          "pathname": "/usr/local/lib/python3.7/dist-packages/razor/flow/async_executors.py",
          "process": 713,
          "processName": "ForkProcess-1:2",
          "thread": 140717599356736,
          "threadName": "MainThread"
         },
         {
          "asctime": "2021-03-24 04:28:03,916",
          "created": 1616560083.9168556,
          "extra": {},
          "filename": "async_executors.py",
          "funcName": "main",
          "levelname": "DEBUG",
          "lineno": 149,
          "message": "ReadCsvProjectSpaceETA_1: block execution complete",
          "name": "engine.logs:ReadCsvProjectSpaceETA_1",
          "pathname": "/usr/local/lib/python3.7/dist-packages/razor/flow/async_executors.py",
          "process": 713,
          "processName": "ForkProcess-1:2",
          "thread": 140717599356736,
          "threadName": "MainThread"
         },
         {
          "asctime": "2021-03-24 04:28:03,921",
          "created": 1616560083.921651,
          "extra": {},
          "filename": "async_executors.py",
          "funcName": "start_input_receiver",
          "levelname": "DEBUG",
          "lineno": 173,
          "message": "ReadCsvProjectSpaceETA_1: received cmd: terminate, (), {}",
          "name": "engine.logs:ReadCsvProjectSpaceETA_1",
          "pathname": "/usr/local/lib/python3.7/dist-packages/razor/flow/async_executors.py",
          "process": 713,
          "processName": "ForkProcess-1:2",
          "thread": 140717599356736,
          "threadName": "MainThread"
         },
         {
          "asctime": "2021-03-24 04:28:03,900",
          "created": 1616560083.9000833,
          "exc_info": null,
          "extra": {},
          "filename": null,
          "full_message": null,
          "funcName": null,
          "levelname": "STDOUT",
          "lineno": null,
          "message": "Data Stat\n",
          "name": "block.stdout:SelectDataDescribe_1",
          "pathname": null,
          "process": null,
          "processName": null,
          "thread": null,
          "threadName": null
         },
         {
          "asctime": "2021-03-24 04:28:06,371",
          "created": 1616560086.3719728,
          "exc_info": null,
          "extra": {},
          "filename": null,
          "full_message": null,
          "funcName": null,
          "levelname": "STDOUT",
          "lineno": null,
          "message": "+-------+-------------------+--------------------+--------------------+------------------+------------------+------------------+--------------------+\n|summary|         Unnamed: 0|               count|         hate_speech|offensive_language|           neither|             class|               tweet|\n+-------+-------------------+--------------------+--------------------+------------------+------------------+------------------+--------------------+\n|  count|              19813|               18678|               18611|             18592|             18587|             18587|               18587|\n|   mean| 12674.823542070153|  3.2443380493840444|   0.280772541424575| 2.416420078549524|0.5475870231882498| 1.109915532361328|                null|\n| stddev|  7293.561251592916|   0.881638992617816|   0.635884983706677|1.3947702622174043|1.1176046254785716|0.4619634528340089|                null|\n|    min| #EMABiggestFans1D\"|                    | \"\"i'm sorry to s...|               3 R|                 0|                 0|!!! RT @mayasolov...|\n|    max|  ~Charlie Chaplin\"|failed ex-Browns ...|                   7|                 9|                 9|                 2|~~Ruffled | Ntac ...|\n+-------+-------------------+--------------------+--------------------+------------------+------------------+------------------+--------------------+\n\n",
          "name": "block.stdout:SelectDataDescribe_1",
          "pathname": null,
          "process": null,
          "processName": null,
          "thread": null,
          "threadName": null
         },
         {
          "asctime": "2021-03-24 04:28:06,372",
          "created": 1616560086.3726997,
          "extra": {},
          "filename": "async_executors.py",
          "funcName": "main",
          "levelname": "DEBUG",
          "lineno": 147,
          "message": "SelectDataDescribe_1: block thread completed",
          "name": "engine.logs:SelectDataDescribe_1",
          "pathname": "/usr/local/lib/python3.7/dist-packages/razor/flow/async_executors.py",
          "process": 714,
          "processName": "ForkProcess-1:3",
          "thread": 140717599356736,
          "threadName": "MainThread"
         },
         {
          "asctime": "2021-03-24 04:28:06,372",
          "created": 1616560086.3728042,
          "extra": {},
          "filename": "async_executors.py",
          "funcName": "main",
          "levelname": "DEBUG",
          "lineno": 149,
          "message": "SelectDataDescribe_1: block execution complete",
          "name": "engine.logs:SelectDataDescribe_1",
          "pathname": "/usr/local/lib/python3.7/dist-packages/razor/flow/async_executors.py",
          "process": 714,
          "processName": "ForkProcess-1:3",
          "thread": 140717599356736,
          "threadName": "MainThread"
         },
         {
          "asctime": "2021-03-24 04:28:06,376",
          "created": 1616560086.3765793,
          "extra": {},
          "filename": "async_executors.py",
          "funcName": "start_input_receiver",
          "levelname": "DEBUG",
          "lineno": 173,
          "message": "SelectDataDescribe_1: received cmd: terminate, (), {}",
          "name": "engine.logs:SelectDataDescribe_1",
          "pathname": "/usr/local/lib/python3.7/dist-packages/razor/flow/async_executors.py",
          "process": 714,
          "processName": "ForkProcess-1:3",
          "thread": 140717599356736,
          "threadName": "MainThread"
         }
        ],
        "meta": {
         "block_status": {
          "NonSparkPath_1": "SUCCESS",
          "ReadCsvProjectSpaceETA_1": "SUCCESS",
          "SelectDataDescribe_1": "SUCCESS"
         },
         "blocks": [
          {
           "class_name": "ReadCsvProjectSpaceETA",
           "fullname": ".ReadCsvProjectSpaceETA",
           "id": "581d01fe-f0b9-4463-8849-a46965791ffe",
           "inputs": [
            {
             "dataType": "string",
             "default": "",
             "flow": "atomic",
             "help": null,
             "isdict": false,
             "islist": false,
             "label": "filename",
             "meta": {},
             "name": "filename",
             "series": false,
             "type": "str",
             "type_check": true
            },
            {
             "dataType": "dict",
             "default": {},
             "flow": "atomic",
             "help": null,
             "isdict": false,
             "islist": false,
             "label": "config",
             "meta": {},
             "name": "config",
             "series": false,
             "type": "dict",
             "type_check": true
            },
            {
             "dataType": "string",
             "default": "",
             "flow": "atomic",
             "help": null,
             "isdict": false,
             "islist": false,
             "label": "source",
             "meta": {},
             "name": "source",
             "series": false,
             "type": "str",
             "type_check": true
            }
           ],
           "outputs": [],
           "overwritten": false,
           "published": false,
           "var_names": [
            "ReadCsvProjectSpaceETA"
           ]
          },
          {
           "class_name": "SelectDataDescribe",
           "fullname": ".SelectDataDescribe",
           "id": "b8fff877-12b8-4914-bac8-0ff24c8879a5",
           "inputs": [
            {
             "dataType": "string",
             "default": "",
             "flow": "atomic",
             "help": null,
             "isdict": false,
             "islist": false,
             "label": "filename",
             "meta": {},
             "name": "filename",
             "series": false,
             "type": "str",
             "type_check": true
            },
            {
             "dataType": "dict",
             "default": {},
             "flow": "atomic",
             "help": null,
             "isdict": false,
             "islist": false,
             "label": "config",
             "meta": {},
             "name": "config",
             "series": false,
             "type": "dict",
             "type_check": true
            },
            {
             "dataType": "string",
             "default": "",
             "flow": "atomic",
             "help": null,
             "isdict": false,
             "islist": false,
             "label": "source",
             "meta": {},
             "name": "source",
             "series": false,
             "type": "str",
             "type_check": true
            }
           ],
           "outputs": [],
           "overwritten": false,
           "published": false,
           "var_names": [
            "SelectDataDescribe"
           ]
          },
          {
           "class_name": "NonSparkPath",
           "fullname": ".NonSparkPath",
           "id": "b63538b7-d9a7-4a2e-93dd-59b82ee4aa68",
           "inputs": [
            {
             "dataType": "string",
             "default": "",
             "flow": "atomic",
             "help": null,
             "isdict": false,
             "islist": false,
             "label": "ip_path",
             "meta": {},
             "name": "ip_path",
             "series": false,
             "type": "str",
             "type_check": true
            }
           ],
           "outputs": [
            {
             "flow": "atomic",
             "help": null,
             "label": "op_path",
             "meta": {},
             "name": "op_path",
             "series": false,
             "type": "str",
             "type_check": true
            }
           ],
           "overwritten": false,
           "published": false,
           "var_names": [
            "NonSparkPath"
           ]
          }
         ],
         "connections": [
          {
           "id": "7cc338f2-848f-426d-ba15-3489cb439ebf",
           "source": {
            "adapter": false,
            "instance_id": "58aae312-b10a-4c8a-83d7-f6be1a628af9",
            "name": "op_path"
           },
           "target": {
            "adapter": false,
            "instance_id": "2adc7b14-fbce-4921-83ac-249a1b28df7d",
            "name": "filename"
           }
          },
          {
           "id": "0a911b81-7ff2-427a-9ae8-848459baea14",
           "source": {
            "adapter": false,
            "instance_id": "58aae312-b10a-4c8a-83d7-f6be1a628af9",
            "name": "op_path"
           },
           "target": {
            "adapter": false,
            "instance_id": "e3552797-74a1-45af-b5c7-6b3788f68ca0",
            "name": "filename"
           }
          }
         ],
         "end": 1616560086.3796577,
         "id": "9dc5ae04-0078-4a7b-b535-91c6db34c7a9",
         "instances": [
          {
           "block_class": "581d01fe-f0b9-4463-8849-a46965791ffe",
           "id": "e3552797-74a1-45af-b5c7-6b3788f68ca0",
           "name": "ReadCsvProjectSpaceETA_1",
           "var_names": [
            "rcp"
           ]
          },
          {
           "block_class": "b63538b7-d9a7-4a2e-93dd-59b82ee4aa68",
           "id": "58aae312-b10a-4c8a-83d7-f6be1a628af9",
           "name": "NonSparkPath_1",
           "var_names": [
            "nsp"
           ]
          },
          {
           "block_class": "b8fff877-12b8-4914-bac8-0ff24c8879a5",
           "id": "2adc7b14-fbce-4921-83ac-249a1b28df7d",
           "name": "SelectDataDescribe_1",
           "var_names": [
            "sd"
           ]
          }
         ],
         "log_level": 20,
         "name": "Pipeline_1",
         "start": 1616560064.9925253,
         "status": "SUCCESS",
         "system_logs": false,
         "var_names": []
        },
        "metrics": {},
        "runtime": {
         "NonSparkPath_1": {
          "end": 1616560065.3129463,
          "load": 1616560064.9938614,
          "start": 1616560065.0009794
         },
         "ReadCsvProjectSpaceETA_1": {
          "end": 1616560083.919658,
          "load": 1616560065.254687,
          "start": 1616560065.2613585
         },
         "SelectDataDescribe_1": {
          "end": 1616560086.37482,
          "load": 1616560065.263819,
          "start": 1616560065.2707922
         }
        }
       },
       "store_in_notebook": true
      }
     },
     "output_type": "display_data"
    },
    {
     "data": {
      "text/plain": [
       "{}"
      ]
     },
     "execution_count": 8,
     "metadata": {},
     "output_type": "execute_result"
    }
   ],
   "source": [
    "pipe.execute()"
   ]
  },
  {
   "cell_type": "code",
   "execution_count": null,
   "id": "olympic-louisville",
   "metadata": {},
   "outputs": [],
   "source": []
  },
  {
   "cell_type": "code",
   "execution_count": null,
   "id": "female-literacy",
   "metadata": {},
   "outputs": [],
   "source": []
  }
 ],
 "metadata": {
  "kernelspec": {
   "display_name": "Python 3",
   "language": "python",
   "name": "python3"
  },
  "language_info": {
   "codemirror_mode": {
    "name": "ipython",
    "version": 3
   },
   "file_extension": ".py",
   "mimetype": "text/x-python",
   "name": "python",
   "nbconvert_exporter": "python",
   "pygments_lexer": "ipython3",
   "version": "3.7.10"
  }
 },
 "nbformat": 4,
 "nbformat_minor": 5
}
