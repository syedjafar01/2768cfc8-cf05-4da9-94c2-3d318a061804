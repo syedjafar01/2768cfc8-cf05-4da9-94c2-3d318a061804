{
 "cells": [
  {
   "cell_type": "code",
   "execution_count": 1,
   "id": "heavy-vietnam",
   "metadata": {},
   "outputs": [],
   "source": [
    "import razor\n",
    "import razor.flow as rf\n",
    "from razor import api\n",
    "from razor.flow.spark import SparkBlock, SparkExecutor\n",
    "import typing as t"
   ]
  },
  {
   "cell_type": "code",
   "execution_count": 2,
   "id": "confused-province",
   "metadata": {},
   "outputs": [],
   "source": [
    "import os\n",
    "from datetime import datetime, timedelta\n",
    "from pyspark.sql import SparkSession, functions\n",
    "from pyspark.sql.dataframe import DataFrame\n",
    "from datetime import datetime, timedelta\n",
    "from dateutil.relativedelta import relativedelta"
   ]
  },
  {
   "cell_type": "code",
   "execution_count": 3,
   "id": "brutal-motorcycle",
   "metadata": {},
   "outputs": [],
   "source": [
    "def project_space_path(path):\n",
    "    ps = api.datasources('Project Space')\n",
    "    return os.path.join(ps.abspath(), path)\n"
   ]
  },
  {
   "cell_type": "code",
   "execution_count": 4,
   "id": "embedded-mills",
   "metadata": {},
   "outputs": [],
   "source": [
    "@rf.block\n",
    "class NonSparkPath:\n",
    "    # Atomic input - csv filename relative to project space\n",
    "    ip_path: str\n",
    "    selected_cols: rf.Output[t.Any]\n",
    "    # Atomic output of type spark DataFrame.\n",
    "    op_path: rf.Output[str]\n",
    "    def run(self):\n",
    "        self.op_path.put(project_space_path(self.ip_path))\n",
    "        \n",
    "@rf.block\n",
    "class NonSparkCols:\n",
    "    cols_list: t.Any\n",
    "    # Atomic input - csv filename relative to project space\n",
    "    selected_cols: rf.Output[t.Any]\n",
    "    # Atomic output of type spark DataFrame.\n",
    "    def run(self):\n",
    "        self.selected_cols.put(self.cols_list)\n",
    "        \n",
    "        "
   ]
  },
  {
   "cell_type": "code",
   "execution_count": 5,
   "id": "boxed-smart",
   "metadata": {},
   "outputs": [],
   "source": [
    "@rf.block\n",
    "class ReadCsvProjectSpace(SparkBlock):\n",
    "    filename:str\n",
    "    data: rf.Output[DataFrame]\n",
    "    def run(self):\n",
    "        df = self.spark.read.csv(self.filename, header = True)\n",
    "        print(\"Data Schema\")\n",
    "        df.printSchema()\n",
    "        self.data.put(df)\n",
    "        \n",
    "\n",
    "@rf.block\n",
    "class SelectData(SparkBlock):\n",
    "    wanted_cols: t.Any\n",
    "    inputData: DataFrame\n",
    "    outputData: rf.Output[DataFrame]\n",
    "    def run(self):\n",
    "        df = self.inputData\n",
    "        df_selected = df.select(self.wanted_cols)\n",
    "        df_selected.show()\n",
    "        self.outputData.put(df_selected)\n",
    "        \n",
    "        \n",
    "        \n",
    "@rf.block\n",
    "class ConcatData(SparkBlock):\n",
    "    inputData_1: DataFrame\n",
    "    inputData_2: DataFrame\n",
    "    outputData: rf.Output[DataFrame]\n",
    "    def run(self):\n",
    "        df_concat = self.inputData_1.union(self.inputData_1)\n",
    "        print(\"Concat Data\")\n",
    "        df_concat.show()\n",
    "        self.outputData.put(df_concat)\n",
    "        \n",
    "\n",
    "@rf.block\n",
    "class RenameCol(SparkBlock):\n",
    "    inputData: DataFrame\n",
    "    col_dic: t.Any\n",
    "    outputData: rf.Output[DataFrame]\n",
    "    def run(self):\n",
    "        df_rename = self.inputData.withColumnRenamed(list(self.col_dic.keys())[0], self.col_dic[list(self.col_dic.keys())[0]])\n",
    "        df_rename = df_rename.withColumnRenamed(list(self.col_dic.keys())[1], self.col_dic[list(self.col_dic.keys())[1]])\n",
    "        self.outputData.put(df_rename)\n",
    "      \n",
    "\n",
    "@rf.block\n",
    "class DropDuplicates(SparkBlock):\n",
    "    inputData: DataFrame\n",
    "    outputData: rf.Output[DataFrame]\n",
    "    def run(self):\n",
    "        df_clean = self.inputData.dropDuplicates()\n",
    "        print('final dataframe')\n",
    "        df_clean.show()\n",
    "        self.outputData.put(df_clean)     \n",
    "        \n"
   ]
  },
  {
   "cell_type": "code",
   "execution_count": 6,
   "id": "further-quebec",
   "metadata": {},
   "outputs": [],
   "source": [
    "nsp = NonSparkPath(ip_path='df_with_stats.csv')\n",
    "nsp1 = NonSparkPath(ip_path='train_hatespeech.csv')\n",
    "\n",
    "nsc = NonSparkCols(cols_list = ['title','label'])\n",
    "nsc1 = NonSparkCols(cols_list = ['tweet','class'])\n",
    "\n",
    "rcp = ReadCsvProjectSpace(filename = nsp.op_path, config={}, source=\"\")\n",
    "rcp1 = ReadCsvProjectSpace(filename = nsp1.op_path, config={}, source=\"\")\n",
    "\n",
    "sd = SelectData(wanted_cols=nsc.selected_cols, inputData=rcp.data, config={}, source=\"\")\n",
    "sd1 = SelectData(wanted_cols=nsc1.selected_cols, inputData=rcp1.data, config={}, source=\"\")\n",
    "rc = RenameCol(inputData=sd1.outputData,col_dic={'tweet': 'title', 'class': 'label'})\n",
    "cd = ConcatData(inputData_1=sd.outputData,inputData_2=rc.outputData)\n",
    "cd1 = ConcatData(inputData_1=cd.outputData,inputData_2=sd.outputData)\n",
    "dd = DropDuplicates(inputData=cd1.outputData)\n",
    "\n",
    "# rcp.executor = rf.ProcessExecutor\n",
    "# sd.executor = rf.ProcessExecutor\n",
    "# rcp1.executor = rf.ProcessExecutor\n",
    "# sd1.executor = rf.ProcessExecutor\n",
    "# rc.executor = rf.ProcessExecutor\n",
    "# cd.executor = rf.ProcessExecutor\n",
    "# cd1.executor = rf.ProcessExecutor\n",
    "# dd.executor = rf.ProcessExecutor"
   ]
  },
  {
   "cell_type": "code",
   "execution_count": 7,
   "id": "necessary-intention",
   "metadata": {},
   "outputs": [],
   "source": [
    "pipe = rf.Pipeline(targets = [dd])"
   ]
  },
  {
   "cell_type": "code",
   "execution_count": 8,
   "id": "changed-knock",
   "metadata": {},
   "outputs": [
    {
     "data": {
      "application/vnd.razorthink.interactive+pipeline+view+json": {
       "blocks": [
        {
         "class_name": "NonSparkCols",
         "fullname": ".NonSparkCols",
         "id": "48d12d67-bab2-4a26-a469-3c676a89e476",
         "inputs": [
          {
           "dataType": null,
           "default": null,
           "flow": "atomic",
           "help": null,
           "isdict": false,
           "islist": false,
           "label": "cols_list",
           "meta": {},
           "name": "cols_list",
           "series": false,
           "type": "Any",
           "type_check": true
          }
         ],
         "outputs": [
          {
           "flow": "atomic",
           "help": null,
           "label": "selected_cols",
           "meta": {},
           "name": "selected_cols",
           "series": false,
           "type": "Any",
           "type_check": true
          }
         ],
         "overwritten": false,
         "published": false,
         "var_names": [
          "NonSparkCols"
         ]
        },
        {
         "class_name": "DropDuplicates",
         "fullname": ".DropDuplicates",
         "id": "a2a893bd-c7fb-4b02-ba17-4a3f4f50123f",
         "inputs": [
          {
           "dataType": null,
           "default": null,
           "flow": "atomic",
           "help": null,
           "isdict": false,
           "islist": false,
           "label": "inputData",
           "meta": {},
           "name": "inputData",
           "series": false,
           "type": "DataFrame",
           "type_check": true
          },
          {
           "dataType": "dict",
           "default": {},
           "flow": "atomic",
           "help": null,
           "isdict": false,
           "islist": false,
           "label": "config",
           "meta": {},
           "name": "config",
           "series": false,
           "type": "dict",
           "type_check": true
          },
          {
           "dataType": "string",
           "default": "",
           "flow": "atomic",
           "help": null,
           "isdict": false,
           "islist": false,
           "label": "source",
           "meta": {},
           "name": "source",
           "series": false,
           "type": "str",
           "type_check": true
          }
         ],
         "outputs": [
          {
           "flow": "atomic",
           "help": null,
           "label": "outputData",
           "meta": {},
           "name": "outputData",
           "series": false,
           "type": "DataFrame",
           "type_check": true
          }
         ],
         "overwritten": false,
         "published": false,
         "var_names": [
          "DropDuplicates"
         ]
        },
        {
         "class_name": "SelectData",
         "fullname": ".SelectData",
         "id": "53d83816-c95a-4198-b3b0-52724d722db6",
         "inputs": [
          {
           "dataType": null,
           "default": null,
           "flow": "atomic",
           "help": null,
           "isdict": false,
           "islist": false,
           "label": "wanted_cols",
           "meta": {},
           "name": "wanted_cols",
           "series": false,
           "type": "Any",
           "type_check": true
          },
          {
           "dataType": null,
           "default": null,
           "flow": "atomic",
           "help": null,
           "isdict": false,
           "islist": false,
           "label": "inputData",
           "meta": {},
           "name": "inputData",
           "series": false,
           "type": "DataFrame",
           "type_check": true
          },
          {
           "dataType": "dict",
           "default": {},
           "flow": "atomic",
           "help": null,
           "isdict": false,
           "islist": false,
           "label": "config",
           "meta": {},
           "name": "config",
           "series": false,
           "type": "dict",
           "type_check": true
          },
          {
           "dataType": "string",
           "default": "",
           "flow": "atomic",
           "help": null,
           "isdict": false,
           "islist": false,
           "label": "source",
           "meta": {},
           "name": "source",
           "series": false,
           "type": "str",
           "type_check": true
          }
         ],
         "outputs": [
          {
           "flow": "atomic",
           "help": null,
           "label": "outputData",
           "meta": {},
           "name": "outputData",
           "series": false,
           "type": "DataFrame",
           "type_check": true
          }
         ],
         "overwritten": false,
         "published": false,
         "var_names": [
          "SelectData"
         ]
        },
        {
         "class_name": "ConcatData",
         "fullname": ".ConcatData",
         "id": "67e8dc47-1dea-4fda-ab99-e99766ed18d6",
         "inputs": [
          {
           "dataType": null,
           "default": null,
           "flow": "atomic",
           "help": null,
           "isdict": false,
           "islist": false,
           "label": "inputData_1",
           "meta": {},
           "name": "inputData_1",
           "series": false,
           "type": "DataFrame",
           "type_check": true
          },
          {
           "dataType": null,
           "default": null,
           "flow": "atomic",
           "help": null,
           "isdict": false,
           "islist": false,
           "label": "inputData_2",
           "meta": {},
           "name": "inputData_2",
           "series": false,
           "type": "DataFrame",
           "type_check": true
          },
          {
           "dataType": "dict",
           "default": {},
           "flow": "atomic",
           "help": null,
           "isdict": false,
           "islist": false,
           "label": "config",
           "meta": {},
           "name": "config",
           "series": false,
           "type": "dict",
           "type_check": true
          },
          {
           "dataType": "string",
           "default": "",
           "flow": "atomic",
           "help": null,
           "isdict": false,
           "islist": false,
           "label": "source",
           "meta": {},
           "name": "source",
           "series": false,
           "type": "str",
           "type_check": true
          }
         ],
         "outputs": [
          {
           "flow": "atomic",
           "help": null,
           "label": "outputData",
           "meta": {},
           "name": "outputData",
           "series": false,
           "type": "DataFrame",
           "type_check": true
          }
         ],
         "overwritten": false,
         "published": false,
         "var_names": [
          "ConcatData"
         ]
        },
        {
         "class_name": "RenameCol",
         "fullname": ".RenameCol",
         "id": "a0b8b6d9-d5ad-470c-a557-5d9db2a83715",
         "inputs": [
          {
           "dataType": null,
           "default": null,
           "flow": "atomic",
           "help": null,
           "isdict": false,
           "islist": false,
           "label": "inputData",
           "meta": {},
           "name": "inputData",
           "series": false,
           "type": "DataFrame",
           "type_check": true
          },
          {
           "dataType": null,
           "default": null,
           "flow": "atomic",
           "help": null,
           "isdict": false,
           "islist": false,
           "label": "col_dic",
           "meta": {},
           "name": "col_dic",
           "series": false,
           "type": "Any",
           "type_check": true
          },
          {
           "dataType": "dict",
           "default": {},
           "flow": "atomic",
           "help": null,
           "isdict": false,
           "islist": false,
           "label": "config",
           "meta": {},
           "name": "config",
           "series": false,
           "type": "dict",
           "type_check": true
          },
          {
           "dataType": "string",
           "default": "",
           "flow": "atomic",
           "help": null,
           "isdict": false,
           "islist": false,
           "label": "source",
           "meta": {},
           "name": "source",
           "series": false,
           "type": "str",
           "type_check": true
          }
         ],
         "outputs": [
          {
           "flow": "atomic",
           "help": null,
           "label": "outputData",
           "meta": {},
           "name": "outputData",
           "series": false,
           "type": "DataFrame",
           "type_check": true
          }
         ],
         "overwritten": false,
         "published": false,
         "var_names": [
          "RenameCol"
         ]
        },
        {
         "class_name": "ReadCsvProjectSpace",
         "fullname": ".ReadCsvProjectSpace",
         "id": "989291f1-f347-4ee9-97ea-a8be700fb3ed",
         "inputs": [
          {
           "dataType": "string",
           "default": "",
           "flow": "atomic",
           "help": null,
           "isdict": false,
           "islist": false,
           "label": "filename",
           "meta": {},
           "name": "filename",
           "series": false,
           "type": "str",
           "type_check": true
          },
          {
           "dataType": "dict",
           "default": {},
           "flow": "atomic",
           "help": null,
           "isdict": false,
           "islist": false,
           "label": "config",
           "meta": {},
           "name": "config",
           "series": false,
           "type": "dict",
           "type_check": true
          },
          {
           "dataType": "string",
           "default": "",
           "flow": "atomic",
           "help": null,
           "isdict": false,
           "islist": false,
           "label": "source",
           "meta": {},
           "name": "source",
           "series": false,
           "type": "str",
           "type_check": true
          }
         ],
         "outputs": [
          {
           "flow": "atomic",
           "help": null,
           "label": "data",
           "meta": {},
           "name": "data",
           "series": false,
           "type": "DataFrame",
           "type_check": true
          }
         ],
         "overwritten": false,
         "published": false,
         "var_names": [
          "ReadCsvProjectSpace"
         ]
        },
        {
         "class_name": "NonSparkPath",
         "fullname": ".NonSparkPath",
         "id": "136be58c-4cfa-4e44-991e-7441b8cd1baa",
         "inputs": [
          {
           "dataType": "string",
           "default": "",
           "flow": "atomic",
           "help": null,
           "isdict": false,
           "islist": false,
           "label": "ip_path",
           "meta": {},
           "name": "ip_path",
           "series": false,
           "type": "str",
           "type_check": true
          }
         ],
         "outputs": [
          {
           "flow": "atomic",
           "help": null,
           "label": "selected_cols",
           "meta": {},
           "name": "selected_cols",
           "series": false,
           "type": "Any",
           "type_check": true
          },
          {
           "flow": "atomic",
           "help": null,
           "label": "op_path",
           "meta": {},
           "name": "op_path",
           "series": false,
           "type": "str",
           "type_check": true
          }
         ],
         "overwritten": false,
         "published": false,
         "var_names": [
          "NonSparkPath"
         ]
        }
       ],
       "connections": [
        {
         "id": "d28d4262-ae54-4268-9057-e41f7ff35b7a",
         "source": {
          "adapter": false,
          "instance_id": "5f284281-39d1-410d-9e36-03368e770daf",
          "name": "outputData"
         },
         "target": {
          "adapter": false,
          "instance_id": "dd630da0-71ea-4143-bcbe-bfd26d548391",
          "name": "inputData_2"
         }
        },
        {
         "id": "30aa44da-66c7-48db-9dd3-6b99903e8beb",
         "source": {
          "adapter": false,
          "instance_id": "dd630da0-71ea-4143-bcbe-bfd26d548391",
          "name": "outputData"
         },
         "target": {
          "adapter": false,
          "instance_id": "af802a00-ad3b-4495-b9c7-aefc215962ac",
          "name": "inputData"
         }
        },
        {
         "id": "2a81f43a-818e-4fda-87df-bc58297feb66",
         "source": {
          "adapter": false,
          "instance_id": "4b4ff7d0-ddfc-4b3c-9be9-1b042f917e0f",
          "name": "data"
         },
         "target": {
          "adapter": false,
          "instance_id": "5f284281-39d1-410d-9e36-03368e770daf",
          "name": "inputData"
         }
        },
        {
         "id": "3c0f28e2-00cd-48a6-bd58-7727b772bb95",
         "source": {
          "adapter": false,
          "instance_id": "54e53c7e-9c7b-485c-a39c-fc7896f7ea8e",
          "name": "outputData"
         },
         "target": {
          "adapter": false,
          "instance_id": "dd630da0-71ea-4143-bcbe-bfd26d548391",
          "name": "inputData_1"
         }
        },
        {
         "id": "33d3538d-a0ac-4ec8-a06a-3ed1847c6f51",
         "source": {
          "adapter": false,
          "instance_id": "cf677f99-085b-4765-8771-b2e12bd0d83e",
          "name": "data"
         },
         "target": {
          "adapter": false,
          "instance_id": "40b04f2e-e507-489f-a75f-762de290b907",
          "name": "inputData"
         }
        },
        {
         "id": "146b68db-10ba-4584-899f-5c43c9e6871e",
         "source": {
          "adapter": false,
          "instance_id": "9c42a05c-466f-415d-b48d-c9207e12b6b3",
          "name": "selected_cols"
         },
         "target": {
          "adapter": false,
          "instance_id": "40b04f2e-e507-489f-a75f-762de290b907",
          "name": "wanted_cols"
         }
        },
        {
         "id": "e8c9bd1a-11bd-41f3-83ce-ea8c3a86ef2b",
         "source": {
          "adapter": false,
          "instance_id": "40b04f2e-e507-489f-a75f-762de290b907",
          "name": "outputData"
         },
         "target": {
          "adapter": false,
          "instance_id": "ce9b1a38-e711-4510-9b3b-f33bbdde21ce",
          "name": "inputData"
         }
        },
        {
         "id": "13d95fdd-64ea-440f-9aa6-838e8699438c",
         "source": {
          "adapter": false,
          "instance_id": "de9629d3-bc4e-4b9e-b4b9-b0d19b5dc9ab",
          "name": "selected_cols"
         },
         "target": {
          "adapter": false,
          "instance_id": "5f284281-39d1-410d-9e36-03368e770daf",
          "name": "wanted_cols"
         }
        },
        {
         "id": "0388e3cd-51f3-4dd7-84d3-b08c32edd4c3",
         "source": {
          "adapter": false,
          "instance_id": "5f284281-39d1-410d-9e36-03368e770daf",
          "name": "outputData"
         },
         "target": {
          "adapter": false,
          "instance_id": "54e53c7e-9c7b-485c-a39c-fc7896f7ea8e",
          "name": "inputData_1"
         }
        },
        {
         "id": "9b16cfc9-2e88-45b8-a271-531188b3d4da",
         "source": {
          "adapter": false,
          "instance_id": "ce9b1a38-e711-4510-9b3b-f33bbdde21ce",
          "name": "outputData"
         },
         "target": {
          "adapter": false,
          "instance_id": "54e53c7e-9c7b-485c-a39c-fc7896f7ea8e",
          "name": "inputData_2"
         }
        },
        {
         "id": "dba1a9cf-f0ac-4dd0-90f0-dff8f461f79e",
         "source": {
          "adapter": false,
          "instance_id": "a15db150-1412-481e-b653-f851d89a0fd3",
          "name": "op_path"
         },
         "target": {
          "adapter": false,
          "instance_id": "4b4ff7d0-ddfc-4b3c-9be9-1b042f917e0f",
          "name": "filename"
         }
        },
        {
         "id": "99dd994a-9a7d-4922-9c0c-71ed967e5c7d",
         "source": {
          "adapter": false,
          "instance_id": "627f6217-2670-4f47-949e-8e1a92cab079",
          "name": "op_path"
         },
         "target": {
          "adapter": false,
          "instance_id": "cf677f99-085b-4765-8771-b2e12bd0d83e",
          "name": "filename"
         }
        }
       ],
       "id": "dacc7b96-dbe4-45e9-9949-7bd86c7cfbe8",
       "instances": [
        {
         "block_class": "a2a893bd-c7fb-4b02-ba17-4a3f4f50123f",
         "id": "af802a00-ad3b-4495-b9c7-aefc215962ac",
         "name": "DropDuplicates_1",
         "var_names": [
          "dd"
         ]
        },
        {
         "block_class": "67e8dc47-1dea-4fda-ab99-e99766ed18d6",
         "id": "dd630da0-71ea-4143-bcbe-bfd26d548391",
         "name": "ConcatData_2",
         "var_names": [
          "cd1"
         ]
        },
        {
         "block_class": "67e8dc47-1dea-4fda-ab99-e99766ed18d6",
         "id": "54e53c7e-9c7b-485c-a39c-fc7896f7ea8e",
         "name": "ConcatData_1",
         "var_names": [
          "cd"
         ]
        },
        {
         "block_class": "53d83816-c95a-4198-b3b0-52724d722db6",
         "id": "5f284281-39d1-410d-9e36-03368e770daf",
         "name": "SelectData_1",
         "var_names": [
          "sd"
         ]
        },
        {
         "block_class": "48d12d67-bab2-4a26-a469-3c676a89e476",
         "id": "de9629d3-bc4e-4b9e-b4b9-b0d19b5dc9ab",
         "name": "NonSparkCols_1",
         "var_names": [
          "nsc"
         ]
        },
        {
         "block_class": "989291f1-f347-4ee9-97ea-a8be700fb3ed",
         "id": "4b4ff7d0-ddfc-4b3c-9be9-1b042f917e0f",
         "name": "ReadCsvProjectSpace_1",
         "var_names": [
          "rcp"
         ]
        },
        {
         "block_class": "136be58c-4cfa-4e44-991e-7441b8cd1baa",
         "id": "a15db150-1412-481e-b653-f851d89a0fd3",
         "name": "NonSparkPath_1",
         "var_names": [
          "nsp"
         ]
        },
        {
         "block_class": "a0b8b6d9-d5ad-470c-a557-5d9db2a83715",
         "id": "ce9b1a38-e711-4510-9b3b-f33bbdde21ce",
         "name": "RenameCol_1",
         "var_names": [
          "rc"
         ]
        },
        {
         "block_class": "53d83816-c95a-4198-b3b0-52724d722db6",
         "id": "40b04f2e-e507-489f-a75f-762de290b907",
         "name": "SelectData_2",
         "var_names": [
          "sd1"
         ]
        },
        {
         "block_class": "48d12d67-bab2-4a26-a469-3c676a89e476",
         "id": "9c42a05c-466f-415d-b48d-c9207e12b6b3",
         "name": "NonSparkCols_2",
         "var_names": [
          "nsc1"
         ]
        },
        {
         "block_class": "989291f1-f347-4ee9-97ea-a8be700fb3ed",
         "id": "cf677f99-085b-4765-8771-b2e12bd0d83e",
         "name": "ReadCsvProjectSpace_2",
         "var_names": [
          "rcp1"
         ]
        },
        {
         "block_class": "136be58c-4cfa-4e44-991e-7441b8cd1baa",
         "id": "627f6217-2670-4f47-949e-8e1a92cab079",
         "name": "NonSparkPath_2",
         "var_names": [
          "nsp1"
         ]
        }
       ],
       "name": "Pipeline_1",
       "var_names": []
      },
      "image/svg+xml": [
       "<?xml version=\"1.0\" encoding=\"UTF-8\" standalone=\"no\"?>\n",
       "<!DOCTYPE svg PUBLIC \"-//W3C//DTD SVG 1.1//EN\"\n",
       " \"http://www.w3.org/Graphics/SVG/1.1/DTD/svg11.dtd\">\n",
       "<!-- Generated by graphviz version 2.43.0 (0)\n",
       " -->\n",
       "<!-- Title: %3 Pages: 1 -->\n",
       "<svg width=\"1047pt\" height=\"542pt\"\n",
       " viewBox=\"0.00 0.00 1046.71 542.00\" xmlns=\"http://www.w3.org/2000/svg\" xmlns:xlink=\"http://www.w3.org/1999/xlink\">\n",
       "<g id=\"graph0\" class=\"graph\" transform=\"scale(1 1) rotate(0) translate(4 538)\">\n",
       "<title>%3</title>\n",
       "<polygon fill=\"white\" stroke=\"transparent\" points=\"-4,4 -4,-538 1042.71,-538 1042.71,4 -4,4\"/>\n",
       "<!-- DropDuplicates(&#39;DropDuplicates_1&#39;) -->\n",
       "<g id=\"node1\" class=\"node\">\n",
       "<title>DropDuplicates(&#39;DropDuplicates_1&#39;)</title>\n",
       "<ellipse fill=\"none\" stroke=\"black\" cx=\"392.78\" cy=\"-18\" rx=\"112.37\" ry=\"18\"/>\n",
       "<text text-anchor=\"middle\" x=\"392.78\" y=\"-15.5\" font-family=\"Helvetica,sans-Serif\" font-size=\"10.00\">DropDuplicates(&#39;DropDuplicates_1&#39;)</text>\n",
       "</g>\n",
       "<!-- ConcatData(&#39;ConcatData_2&#39;) -->\n",
       "<g id=\"node2\" class=\"node\">\n",
       "<title>ConcatData(&#39;ConcatData_2&#39;)</title>\n",
       "<ellipse fill=\"none\" stroke=\"black\" cx=\"392.78\" cy=\"-101\" rx=\"91.49\" ry=\"18\"/>\n",
       "<text text-anchor=\"middle\" x=\"392.78\" y=\"-98.5\" font-family=\"Helvetica,sans-Serif\" font-size=\"10.00\">ConcatData(&#39;ConcatData_2&#39;)</text>\n",
       "</g>\n",
       "<!-- ConcatData(&#39;ConcatData_2&#39;)&#45;&gt;DropDuplicates(&#39;DropDuplicates_1&#39;) -->\n",
       "<g id=\"edge1\" class=\"edge\">\n",
       "<title>ConcatData(&#39;ConcatData_2&#39;)&#45;&gt;DropDuplicates(&#39;DropDuplicates_1&#39;)</title>\n",
       "<path fill=\"none\" stroke=\"black\" d=\"M392.78,-82.82C392.78,-72.19 392.78,-58.31 392.78,-46.2\"/>\n",
       "<polygon fill=\"black\" stroke=\"black\" points=\"396.28,-46.15 392.78,-36.15 389.28,-46.15 396.28,-46.15\"/>\n",
       "<text text-anchor=\"middle\" x=\"450.28\" y=\"-57\" font-family=\"Helvetica,sans-Serif\" font-size=\"10.00\">outputData&#45;&gt;inputData</text>\n",
       "</g>\n",
       "<!-- ConcatData(&#39;ConcatData_1&#39;) -->\n",
       "<g id=\"node3\" class=\"node\">\n",
       "<title>ConcatData(&#39;ConcatData_1&#39;)</title>\n",
       "<ellipse fill=\"none\" stroke=\"black\" cx=\"612.78\" cy=\"-184\" rx=\"91.49\" ry=\"18\"/>\n",
       "<text text-anchor=\"middle\" x=\"612.78\" y=\"-181.5\" font-family=\"Helvetica,sans-Serif\" font-size=\"10.00\">ConcatData(&#39;ConcatData_1&#39;)</text>\n",
       "</g>\n",
       "<!-- ConcatData(&#39;ConcatData_1&#39;)&#45;&gt;ConcatData(&#39;ConcatData_2&#39;) -->\n",
       "<g id=\"edge2\" class=\"edge\">\n",
       "<title>ConcatData(&#39;ConcatData_1&#39;)&#45;&gt;ConcatData(&#39;ConcatData_2&#39;)</title>\n",
       "<path fill=\"none\" stroke=\"black\" d=\"M571.66,-167.86C535.43,-154.52 482.52,-135.04 443.64,-120.72\"/>\n",
       "<polygon fill=\"black\" stroke=\"black\" points=\"444.67,-117.37 434.08,-117.2 442.25,-123.94 444.67,-117.37\"/>\n",
       "<text text-anchor=\"middle\" x=\"580.28\" y=\"-140\" font-family=\"Helvetica,sans-Serif\" font-size=\"10.00\">outputData&#45;&gt;inputData_1</text>\n",
       "</g>\n",
       "<!-- SelectData(&#39;SelectData_1&#39;) -->\n",
       "<g id=\"node4\" class=\"node\">\n",
       "<title>SelectData(&#39;SelectData_1&#39;)</title>\n",
       "<ellipse fill=\"none\" stroke=\"black\" cx=\"376.78\" cy=\"-267\" rx=\"87.24\" ry=\"18\"/>\n",
       "<text text-anchor=\"middle\" x=\"376.78\" y=\"-264.5\" font-family=\"Helvetica,sans-Serif\" font-size=\"10.00\">SelectData(&#39;SelectData_1&#39;)</text>\n",
       "</g>\n",
       "<!-- SelectData(&#39;SelectData_1&#39;)&#45;&gt;ConcatData(&#39;ConcatData_2&#39;) -->\n",
       "<g id=\"edge4\" class=\"edge\">\n",
       "<title>SelectData(&#39;SelectData_1&#39;)&#45;&gt;ConcatData(&#39;ConcatData_2&#39;)</title>\n",
       "<path fill=\"none\" stroke=\"black\" d=\"M378.24,-248.65C379.94,-228.7 382.89,-194.97 385.78,-166 386.98,-153.95 388.42,-140.63 389.68,-129.28\"/>\n",
       "<polygon fill=\"black\" stroke=\"black\" points=\"393.19,-129.43 390.82,-119.1 386.23,-128.65 393.19,-129.43\"/>\n",
       "<text text-anchor=\"middle\" x=\"449.28\" y=\"-181.5\" font-family=\"Helvetica,sans-Serif\" font-size=\"10.00\">outputData&#45;&gt;inputData_2</text>\n",
       "</g>\n",
       "<!-- SelectData(&#39;SelectData_1&#39;)&#45;&gt;ConcatData(&#39;ConcatData_1&#39;) -->\n",
       "<g id=\"edge3\" class=\"edge\">\n",
       "<title>SelectData(&#39;SelectData_1&#39;)&#45;&gt;ConcatData(&#39;ConcatData_1&#39;)</title>\n",
       "<path fill=\"none\" stroke=\"black\" d=\"M411.03,-250.37C432.53,-240.9 460.96,-228.94 486.78,-220 506.6,-213.13 528.53,-206.66 548.46,-201.2\"/>\n",
       "<polygon fill=\"black\" stroke=\"black\" points=\"549.63,-204.51 558.37,-198.52 547.8,-197.75 549.63,-204.51\"/>\n",
       "<text text-anchor=\"middle\" x=\"550.28\" y=\"-223\" font-family=\"Helvetica,sans-Serif\" font-size=\"10.00\">outputData&#45;&gt;inputData_1</text>\n",
       "</g>\n",
       "<!-- NonSparkCols(&#39;NonSparkCols_1&#39;) -->\n",
       "<g id=\"node5\" class=\"node\">\n",
       "<title>NonSparkCols(&#39;NonSparkCols_1&#39;)</title>\n",
       "<ellipse fill=\"none\" stroke=\"black\" cx=\"104.78\" cy=\"-350\" rx=\"104.56\" ry=\"18\"/>\n",
       "<text text-anchor=\"middle\" x=\"104.78\" y=\"-347.5\" font-family=\"Helvetica,sans-Serif\" font-size=\"10.00\">NonSparkCols(&#39;NonSparkCols_1&#39;)</text>\n",
       "</g>\n",
       "<!-- NonSparkCols(&#39;NonSparkCols_1&#39;)&#45;&gt;SelectData(&#39;SelectData_1&#39;) -->\n",
       "<g id=\"edge5\" class=\"edge\">\n",
       "<title>NonSparkCols(&#39;NonSparkCols_1&#39;)&#45;&gt;SelectData(&#39;SelectData_1&#39;)</title>\n",
       "<path fill=\"none\" stroke=\"black\" d=\"M145.39,-333.31C170.61,-323.87 203.83,-311.98 233.78,-303 258.31,-295.65 285.55,-288.69 309.61,-282.94\"/>\n",
       "<polygon fill=\"black\" stroke=\"black\" points=\"310.43,-286.34 319.36,-280.64 308.82,-279.53 310.43,-286.34\"/>\n",
       "<text text-anchor=\"middle\" x=\"303.28\" y=\"-306\" font-family=\"Helvetica,sans-Serif\" font-size=\"10.00\">selected_cols&#45;&gt;wanted_cols</text>\n",
       "</g>\n",
       "<!-- ReadCsvProjectSpace(&#39;ReadCsvProjectSpace_1&#39;) -->\n",
       "<g id=\"node6\" class=\"node\">\n",
       "<title>ReadCsvProjectSpace(&#39;ReadCsvProjectSpace_1&#39;)</title>\n",
       "<ellipse fill=\"none\" stroke=\"black\" cx=\"376.78\" cy=\"-350\" rx=\"148.86\" ry=\"18\"/>\n",
       "<text text-anchor=\"middle\" x=\"376.78\" y=\"-347.5\" font-family=\"Helvetica,sans-Serif\" font-size=\"10.00\">ReadCsvProjectSpace(&#39;ReadCsvProjectSpace_1&#39;)</text>\n",
       "</g>\n",
       "<!-- ReadCsvProjectSpace(&#39;ReadCsvProjectSpace_1&#39;)&#45;&gt;SelectData(&#39;SelectData_1&#39;) -->\n",
       "<g id=\"edge6\" class=\"edge\">\n",
       "<title>ReadCsvProjectSpace(&#39;ReadCsvProjectSpace_1&#39;)&#45;&gt;SelectData(&#39;SelectData_1&#39;)</title>\n",
       "<path fill=\"none\" stroke=\"black\" d=\"M376.78,-331.82C376.78,-321.19 376.78,-307.31 376.78,-295.2\"/>\n",
       "<polygon fill=\"black\" stroke=\"black\" points=\"380.28,-295.15 376.78,-285.15 373.28,-295.15 380.28,-295.15\"/>\n",
       "<text text-anchor=\"middle\" x=\"417.78\" y=\"-306\" font-family=\"Helvetica,sans-Serif\" font-size=\"10.00\">data&#45;&gt;inputData</text>\n",
       "</g>\n",
       "<!-- NonSparkPath(&#39;NonSparkPath_1&#39;) -->\n",
       "<g id=\"node7\" class=\"node\">\n",
       "<title>NonSparkPath(&#39;NonSparkPath_1&#39;)</title>\n",
       "<ellipse fill=\"none\" stroke=\"black\" cx=\"376.78\" cy=\"-433\" rx=\"104.56\" ry=\"18\"/>\n",
       "<text text-anchor=\"middle\" x=\"376.78\" y=\"-430.5\" font-family=\"Helvetica,sans-Serif\" font-size=\"10.00\">NonSparkPath(&#39;NonSparkPath_1&#39;)</text>\n",
       "</g>\n",
       "<!-- NonSparkPath(&#39;NonSparkPath_1&#39;)&#45;&gt;ReadCsvProjectSpace(&#39;ReadCsvProjectSpace_1&#39;) -->\n",
       "<g id=\"edge7\" class=\"edge\">\n",
       "<title>NonSparkPath(&#39;NonSparkPath_1&#39;)&#45;&gt;ReadCsvProjectSpace(&#39;ReadCsvProjectSpace_1&#39;)</title>\n",
       "<path fill=\"none\" stroke=\"black\" d=\"M376.78,-414.82C376.78,-404.19 376.78,-390.31 376.78,-378.2\"/>\n",
       "<polygon fill=\"black\" stroke=\"black\" points=\"380.28,-378.15 376.78,-368.15 373.28,-378.15 380.28,-378.15\"/>\n",
       "<text text-anchor=\"middle\" x=\"423.78\" y=\"-389\" font-family=\"Helvetica,sans-Serif\" font-size=\"10.00\">op_path&#45;&gt;filename</text>\n",
       "</g>\n",
       "<!-- RenameCol(&#39;RenameCol_1&#39;) -->\n",
       "<g id=\"node8\" class=\"node\">\n",
       "<title>RenameCol(&#39;RenameCol_1&#39;)</title>\n",
       "<ellipse fill=\"none\" stroke=\"black\" cx=\"623.78\" cy=\"-267\" rx=\"90.81\" ry=\"18\"/>\n",
       "<text text-anchor=\"middle\" x=\"623.78\" y=\"-264.5\" font-family=\"Helvetica,sans-Serif\" font-size=\"10.00\">RenameCol(&#39;RenameCol_1&#39;)</text>\n",
       "</g>\n",
       "<!-- RenameCol(&#39;RenameCol_1&#39;)&#45;&gt;ConcatData(&#39;ConcatData_1&#39;) -->\n",
       "<g id=\"edge8\" class=\"edge\">\n",
       "<title>RenameCol(&#39;RenameCol_1&#39;)&#45;&gt;ConcatData(&#39;ConcatData_1&#39;)</title>\n",
       "<path fill=\"none\" stroke=\"black\" d=\"M621.45,-248.82C620.01,-238.19 618.12,-224.31 616.48,-212.2\"/>\n",
       "<polygon fill=\"black\" stroke=\"black\" points=\"619.93,-211.59 615.11,-202.15 612.99,-212.53 619.93,-211.59\"/>\n",
       "<text text-anchor=\"middle\" x=\"683.28\" y=\"-223\" font-family=\"Helvetica,sans-Serif\" font-size=\"10.00\">outputData&#45;&gt;inputData_2</text>\n",
       "</g>\n",
       "<!-- SelectData(&#39;SelectData_2&#39;) -->\n",
       "<g id=\"node9\" class=\"node\">\n",
       "<title>SelectData(&#39;SelectData_2&#39;)</title>\n",
       "<ellipse fill=\"none\" stroke=\"black\" cx=\"630.78\" cy=\"-350\" rx=\"87.24\" ry=\"18\"/>\n",
       "<text text-anchor=\"middle\" x=\"630.78\" y=\"-347.5\" font-family=\"Helvetica,sans-Serif\" font-size=\"10.00\">SelectData(&#39;SelectData_2&#39;)</text>\n",
       "</g>\n",
       "<!-- SelectData(&#39;SelectData_2&#39;)&#45;&gt;RenameCol(&#39;RenameCol_1&#39;) -->\n",
       "<g id=\"edge9\" class=\"edge\">\n",
       "<title>SelectData(&#39;SelectData_2&#39;)&#45;&gt;RenameCol(&#39;RenameCol_1&#39;)</title>\n",
       "<path fill=\"none\" stroke=\"black\" d=\"M629.3,-331.82C628.38,-321.19 627.18,-307.31 626.13,-295.2\"/>\n",
       "<polygon fill=\"black\" stroke=\"black\" points=\"629.61,-294.81 625.26,-285.15 622.64,-295.42 629.61,-294.81\"/>\n",
       "<text text-anchor=\"middle\" x=\"685.28\" y=\"-306\" font-family=\"Helvetica,sans-Serif\" font-size=\"10.00\">outputData&#45;&gt;inputData</text>\n",
       "</g>\n",
       "<!-- NonSparkCols(&#39;NonSparkCols_2&#39;) -->\n",
       "<g id=\"node10\" class=\"node\">\n",
       "<title>NonSparkCols(&#39;NonSparkCols_2&#39;)</title>\n",
       "<ellipse fill=\"none\" stroke=\"black\" cx=\"617.78\" cy=\"-433\" rx=\"104.56\" ry=\"18\"/>\n",
       "<text text-anchor=\"middle\" x=\"617.78\" y=\"-430.5\" font-family=\"Helvetica,sans-Serif\" font-size=\"10.00\">NonSparkCols(&#39;NonSparkCols_2&#39;)</text>\n",
       "</g>\n",
       "<!-- NonSparkCols(&#39;NonSparkCols_2&#39;)&#45;&gt;SelectData(&#39;SelectData_2&#39;) -->\n",
       "<g id=\"edge10\" class=\"edge\">\n",
       "<title>NonSparkCols(&#39;NonSparkCols_2&#39;)&#45;&gt;SelectData(&#39;SelectData_2&#39;)</title>\n",
       "<path fill=\"none\" stroke=\"black\" d=\"M620.54,-414.82C622.25,-404.19 624.47,-390.31 626.42,-378.2\"/>\n",
       "<polygon fill=\"black\" stroke=\"black\" points=\"629.9,-378.58 628.03,-368.15 622.99,-377.47 629.9,-378.58\"/>\n",
       "<text text-anchor=\"middle\" x=\"695.28\" y=\"-389\" font-family=\"Helvetica,sans-Serif\" font-size=\"10.00\">selected_cols&#45;&gt;wanted_cols</text>\n",
       "</g>\n",
       "<!-- ReadCsvProjectSpace(&#39;ReadCsvProjectSpace_2&#39;) -->\n",
       "<g id=\"node11\" class=\"node\">\n",
       "<title>ReadCsvProjectSpace(&#39;ReadCsvProjectSpace_2&#39;)</title>\n",
       "<ellipse fill=\"none\" stroke=\"black\" cx=\"889.78\" cy=\"-433\" rx=\"148.86\" ry=\"18\"/>\n",
       "<text text-anchor=\"middle\" x=\"889.78\" y=\"-430.5\" font-family=\"Helvetica,sans-Serif\" font-size=\"10.00\">ReadCsvProjectSpace(&#39;ReadCsvProjectSpace_2&#39;)</text>\n",
       "</g>\n",
       "<!-- ReadCsvProjectSpace(&#39;ReadCsvProjectSpace_2&#39;)&#45;&gt;SelectData(&#39;SelectData_2&#39;) -->\n",
       "<g id=\"edge11\" class=\"edge\">\n",
       "<title>ReadCsvProjectSpace(&#39;ReadCsvProjectSpace_2&#39;)&#45;&gt;SelectData(&#39;SelectData_2&#39;)</title>\n",
       "<path fill=\"none\" stroke=\"black\" d=\"M850.13,-415.61C826.7,-406.25 796.32,-394.7 768.78,-386 745.68,-378.71 720.05,-371.87 697.2,-366.21\"/>\n",
       "<polygon fill=\"black\" stroke=\"black\" points=\"697.8,-362.75 687.26,-363.77 696.14,-369.55 697.8,-362.75\"/>\n",
       "<text text-anchor=\"middle\" x=\"839.78\" y=\"-389\" font-family=\"Helvetica,sans-Serif\" font-size=\"10.00\">data&#45;&gt;inputData</text>\n",
       "</g>\n",
       "<!-- NonSparkPath(&#39;NonSparkPath_2&#39;) -->\n",
       "<g id=\"node12\" class=\"node\">\n",
       "<title>NonSparkPath(&#39;NonSparkPath_2&#39;)</title>\n",
       "<ellipse fill=\"none\" stroke=\"black\" cx=\"889.78\" cy=\"-516\" rx=\"104.56\" ry=\"18\"/>\n",
       "<text text-anchor=\"middle\" x=\"889.78\" y=\"-513.5\" font-family=\"Helvetica,sans-Serif\" font-size=\"10.00\">NonSparkPath(&#39;NonSparkPath_2&#39;)</text>\n",
       "</g>\n",
       "<!-- NonSparkPath(&#39;NonSparkPath_2&#39;)&#45;&gt;ReadCsvProjectSpace(&#39;ReadCsvProjectSpace_2&#39;) -->\n",
       "<g id=\"edge12\" class=\"edge\">\n",
       "<title>NonSparkPath(&#39;NonSparkPath_2&#39;)&#45;&gt;ReadCsvProjectSpace(&#39;ReadCsvProjectSpace_2&#39;)</title>\n",
       "<path fill=\"none\" stroke=\"black\" d=\"M889.78,-497.82C889.78,-487.19 889.78,-473.31 889.78,-461.2\"/>\n",
       "<polygon fill=\"black\" stroke=\"black\" points=\"893.28,-461.15 889.78,-451.15 886.28,-461.15 893.28,-461.15\"/>\n",
       "<text text-anchor=\"middle\" x=\"936.78\" y=\"-472\" font-family=\"Helvetica,sans-Serif\" font-size=\"10.00\">op_path&#45;&gt;filename</text>\n",
       "</g>\n",
       "</g>\n",
       "</svg>\n"
      ],
      "text/plain": [
       "<razor.flow.async_pipeline.Pipeline at 0x7ff189787790>"
      ]
     },
     "metadata": {},
     "output_type": "display_data"
    }
   ],
   "source": [
    "pipe.show()"
   ]
  },
  {
   "cell_type": "code",
   "execution_count": 9,
   "id": "sunrise-mobile",
   "metadata": {},
   "outputs": [
    {
     "name": "stdout",
     "output_type": "stream",
     "text": [
      "log path: /tmp/tmp863w1tc2/Pipeline_1\n"
     ]
    },
    {
     "data": {
      "application/vnd.razorthink.run+monitor+json": "/tmp/tmp863w1tc2/Pipeline_1",
      "text/plain": [
       "<razor_tools.backend.ipython.mime.run_monitor.RunMonitor at 0x7ff189544490>"
      ]
     },
     "metadata": {
      "application/vnd.razorthink.run+monitor+json": {
       "run_data": {
        "apm": [
         {
          "cpu_percent": 0,
          "cpu_time": 0,
          "name": "NonSparkPath_2",
          "real_mem": 155226112,
          "time": 1616561680.2753983
         },
         {
          "cpu_percent": 0,
          "cpu_time": 0,
          "name": "NonSparkCols_1",
          "real_mem": 155209728,
          "time": 1616561680.2453911
         },
         {
          "cpu_percent": 0,
          "cpu_time": 0,
          "name": "NonSparkPath_1",
          "real_mem": 155291648,
          "time": 1616561680.2555099
         },
         {
          "cpu_percent": 0,
          "cpu_time": 0,
          "name": "NonSparkCols_1",
          "real_mem": 155447296,
          "time": 1616561680.3571305
         },
         {
          "cpu_percent": 0,
          "cpu_time": 0.02,
          "name": "NonSparkPath_2",
          "real_mem": 156827648,
          "time": 1616561680.3873982
         },
         {
          "cpu_percent": 0,
          "cpu_time": 0.02,
          "name": "NonSparkPath_1",
          "real_mem": 156901376,
          "time": 1616561680.367771
         },
         {
          "cpu_percent": 0,
          "cpu_time": 0,
          "name": "NonSparkCols_2",
          "real_mem": 155217920,
          "time": 1616561680.2675788
         },
         {
          "cpu_percent": 0,
          "cpu_time": 0,
          "name": "NonSparkCols_2",
          "real_mem": 155320320,
          "time": 1616561680.380003
         },
         {
          "cpu_percent": 0,
          "cpu_time": 0,
          "name": "NonSparkCols_1",
          "real_mem": 155447296,
          "time": 1616561680.4690025
         },
         {
          "cpu_percent": 0,
          "cpu_time": 0.02,
          "name": "NonSparkPath_1",
          "real_mem": 156901376,
          "time": 1616561680.47939
         },
         {
          "cpu_percent": 0,
          "cpu_time": 0,
          "name": "NonSparkCols_2",
          "real_mem": 155320320,
          "time": 1616561680.4918528
         },
         {
          "cpu_percent": 0,
          "cpu_time": 0.03,
          "name": "NonSparkPath_2",
          "real_mem": 157077504,
          "time": 1616561680.5018983
         },
         {
          "cpu_percent": 0,
          "cpu_time": 0.01,
          "name": "NonSparkCols_1",
          "real_mem": 155447296,
          "time": 1616561680.5807915
         },
         {
          "cpu_percent": 0,
          "cpu_time": 0.04,
          "name": "NonSparkPath_1",
          "real_mem": 157224960,
          "time": 1616561680.5907645
         },
         {
          "cpu_percent": 0,
          "cpu_time": 0.01,
          "name": "NonSparkCols_2",
          "real_mem": 155537408,
          "time": 1616561680.6034906
         },
         {
          "cpu_percent": 0,
          "cpu_time": 0.04,
          "name": "NonSparkPath_2",
          "real_mem": 157151232,
          "time": 1616561680.6138592
         },
         {
          "cpu_percent": 0,
          "cpu_time": 0,
          "name": "DropDuplicates_1",
          "real_mem": 155770880,
          "time": 1616561680.5474799
         },
         {
          "cpu_percent": 0,
          "cpu_time": 0.01,
          "name": "ReadCsvProjectSpace_1",
          "real_mem": 155803648,
          "time": 1616561680.5658731
         },
         {
          "cpu_percent": 0,
          "cpu_time": 0.02,
          "name": "ReadCsvProjectSpace_2",
          "real_mem": 155865088,
          "time": 1616561680.579601
         },
         {
          "cpu_percent": 0,
          "cpu_time": 0.02,
          "name": "ConcatData_1",
          "real_mem": 156114944,
          "time": 1616561680.6059034
         },
         {
          "cpu_percent": 0,
          "cpu_time": 0.02,
          "name": "SelectData_1",
          "real_mem": 155992064,
          "time": 1616561680.5933666
         },
         {
          "cpu_percent": 0,
          "cpu_time": 0.02,
          "name": "RenameCol_1",
          "real_mem": 156114944,
          "time": 1616561680.6184907
         },
         {
          "cpu_percent": 0,
          "cpu_time": 0.02,
          "name": "ConcatData_2",
          "real_mem": 156241920,
          "time": 1616561680.6312466
         },
         {
          "cpu_percent": 0,
          "cpu_time": 0.03,
          "name": "SelectData_2",
          "real_mem": 156377088,
          "time": 1616561680.6539664
         },
         {
          "cpu_percent": 98.7,
          "cpu_time": 0.04,
          "name": "DropDuplicates_1",
          "real_mem": 156377088,
          "time": 1616561680.6663592
         },
         {
          "cpu_percent": 0,
          "cpu_time": 0.04,
          "name": "ReadCsvProjectSpace_1",
          "real_mem": 156426240,
          "time": 1616561680.679473
         },
         {
          "cpu_percent": 98.9,
          "cpu_time": 0.05,
          "name": "ReadCsvProjectSpace_2",
          "real_mem": 156426240,
          "time": 1616561680.6919894
         },
         {
          "cpu_percent": 0,
          "cpu_time": 0.02,
          "name": "NonSparkCols_1",
          "real_mem": 155447296,
          "time": 1616561680.6927004
         },
         {
          "cpu_percent": 0,
          "cpu_time": 0.04,
          "name": "NonSparkPath_1",
          "real_mem": 157319168,
          "time": 1616561680.7026484
         },
         {
          "cpu_percent": 0,
          "cpu_time": 0.02,
          "name": "NonSparkCols_2",
          "real_mem": 155652096,
          "time": 1616561680.7149622
         },
         {
          "cpu_percent": 0,
          "cpu_time": 0.06,
          "name": "SelectData_1",
          "real_mem": 157601792,
          "time": 1616561680.7244668
         },
         {
          "cpu_percent": 0,
          "cpu_time": 0.08,
          "name": "ConcatData_1",
          "real_mem": 160899072,
          "time": 1616561680.7487402
         },
         {
          "cpu_percent": 98.6,
          "cpu_time": 0.13,
          "name": "RenameCol_1",
          "real_mem": 185221120,
          "time": 1616561680.7911983
         },
         {
          "cpu_percent": 98.5,
          "cpu_time": 0.19,
          "name": "ConcatData_2",
          "real_mem": 194428928,
          "time": 1616561680.8351946
         },
         {
          "cpu_percent": 296.3,
          "cpu_time": 0.32,
          "name": "DropDuplicates_1",
          "real_mem": 212074496,
          "time": 1616561680.920257
         },
         {
          "cpu_percent": 197.2,
          "cpu_time": 0.26,
          "name": "SelectData_2",
          "real_mem": 202575872,
          "time": 1616561680.8776555
         },
         {
          "cpu_percent": 0,
          "cpu_time": 0.1,
          "name": "ReadCsvProjectSpace_1",
          "real_mem": 160915456,
          "time": 1616561680.9529648
         },
         {
          "cpu_percent": 98.6,
          "cpu_time": 0.14,
          "name": "ReadCsvProjectSpace_2",
          "real_mem": 177913856,
          "time": 1616561680.9757328
         },
         {
          "cpu_percent": 98.7,
          "cpu_time": 0.19,
          "name": "ConcatData_1",
          "real_mem": 181874688,
          "time": 1616561681.0192082
         },
         {
          "cpu_percent": 98.8,
          "cpu_time": 0.23,
          "name": "RenameCol_1",
          "real_mem": 189345792,
          "time": 1616561681.040881
         },
         {
          "cpu_percent": 197.3,
          "cpu_time": 0.27,
          "name": "ConcatData_2",
          "real_mem": 196972544,
          "time": 1616561681.062469
         },
         {
          "cpu_percent": 98.4,
          "cpu_time": 0.15,
          "name": "SelectData_1",
          "real_mem": 179597312,
          "time": 1616561680.9973736
         },
         {
          "cpu_percent": 197.6,
          "cpu_time": 0.31,
          "name": "SelectData_2",
          "real_mem": 205778944,
          "time": 1616561681.0854454
         },
         {
          "cpu_percent": 195.9,
          "cpu_time": 0.42000000000000004,
          "name": "ReadCsvProjectSpace_1",
          "real_mem": 214728704,
          "time": 1616561681.1295896
         },
         {
          "cpu_percent": 196.2,
          "cpu_time": 0.35,
          "name": "DropDuplicates_1",
          "real_mem": 212099072,
          "time": 1616561681.1075425
         },
         {
          "cpu_percent": 296,
          "cpu_time": 0.47,
          "name": "ReadCsvProjectSpace_2",
          "real_mem": 218398720,
          "time": 1616561681.1529274
         },
         {
          "cpu_percent": 294.6,
          "cpu_time": 0.53,
          "name": "SelectData_1",
          "real_mem": 224907264,
          "time": 1616561681.175143
         },
         {
          "cpu_percent": 295.2,
          "cpu_time": 0.59,
          "name": "ConcatData_1",
          "real_mem": 228061184,
          "time": 1616561681.197214
         },
         {
          "cpu_percent": 0,
          "cpu_time": 0.62,
          "name": "RenameCol_1",
          "real_mem": 231968768,
          "time": 1616561681.2203486
         },
         {
          "cpu_percent": 98.4,
          "cpu_time": 0.65,
          "name": "ConcatData_2",
          "real_mem": 238456832,
          "time": 1616561681.2423453
         },
         {
          "cpu_percent": 98.5,
          "cpu_time": 0.67,
          "name": "SelectData_2",
          "real_mem": 241430528,
          "time": 1616561681.2642567
         },
         {
          "cpu_percent": 295.1,
          "cpu_time": 0.71,
          "name": "DropDuplicates_1",
          "real_mem": 243343360,
          "time": 1616561681.2868698
         },
         {
          "cpu_percent": 294.9,
          "cpu_time": 0.76,
          "name": "ReadCsvProjectSpace_1",
          "real_mem": 244420608,
          "time": 1616561681.3090744
         },
         {
          "cpu_percent": 196.6,
          "cpu_time": 0.8099999999999999,
          "name": "ReadCsvProjectSpace_2",
          "real_mem": 246870016,
          "time": 1616561681.3313704
         },
         {
          "cpu_percent": 196.9,
          "cpu_time": 0.86,
          "name": "SelectData_1",
          "real_mem": 249745408,
          "time": 1616561681.3543804
         },
         {
          "cpu_percent": 98.8,
          "cpu_time": 0.92,
          "name": "RenameCol_1",
          "real_mem": 254873600,
          "time": 1616561681.3976579
         },
         {
          "cpu_percent": 197.3,
          "cpu_time": 0.9,
          "name": "ConcatData_1",
          "real_mem": 254566400,
          "time": 1616561681.3761654
         },
         {
          "cpu_percent": 98.5,
          "cpu_time": 0.95,
          "name": "ConcatData_2",
          "real_mem": 255680512,
          "time": 1616561681.420192
         },
         {
          "cpu_percent": 97.9,
          "cpu_time": 1,
          "name": "DropDuplicates_1",
          "real_mem": 256376832,
          "time": 1616561681.4633482
         },
         {
          "cpu_percent": 98.7,
          "cpu_time": 0.97,
          "name": "SelectData_2",
          "real_mem": 255852544,
          "time": 1616561681.4417589
         },
         {
          "cpu_percent": 98.5,
          "cpu_time": 1.04,
          "name": "ReadCsvProjectSpace_1",
          "real_mem": 256733184,
          "time": 1616561681.4855747
         },
         {
          "cpu_percent": 94.8,
          "cpu_time": 1.0699999999999998,
          "name": "ReadCsvProjectSpace_2",
          "real_mem": 257261568,
          "time": 1616561681.5077167
         },
         {
          "cpu_percent": 197.3,
          "cpu_time": 1.1099999999999999,
          "name": "SelectData_1",
          "real_mem": 257679360,
          "time": 1616561681.5291972
         },
         {
          "cpu_percent": 296,
          "cpu_time": 1.17,
          "name": "ConcatData_1",
          "real_mem": 258535424,
          "time": 1616561681.5515273
         },
         {
          "cpu_percent": 295.5,
          "cpu_time": 1.2200000000000002,
          "name": "RenameCol_1",
          "real_mem": 258404352,
          "time": 1616561681.5732315
         },
         {
          "cpu_percent": 196.5,
          "cpu_time": 1.27,
          "name": "ConcatData_2",
          "real_mem": 259194880,
          "time": 1616561681.5951478
         },
         {
          "cpu_percent": 98.6,
          "cpu_time": 1.2999999999999998,
          "name": "SelectData_2",
          "real_mem": 258752512,
          "time": 1616561681.6188374
         },
         {
          "cpu_percent": 296.4,
          "cpu_time": 1.3399999999999999,
          "name": "DropDuplicates_1",
          "real_mem": 264679424,
          "time": 1616561681.6405125
         },
         {
          "cpu_percent": 98.5,
          "cpu_time": 1.3599999999999999,
          "name": "ReadCsvProjectSpace_1",
          "real_mem": 272543744,
          "time": 1616561681.6621478
         },
         {
          "cpu_percent": 197.1,
          "cpu_time": 1.39,
          "name": "ReadCsvProjectSpace_2",
          "real_mem": 273158144,
          "time": 1616561681.6852584
         },
         {
          "cpu_percent": 196.7,
          "cpu_time": 1.43,
          "name": "SelectData_1",
          "real_mem": 273887232,
          "time": 1616561681.7068813
         },
         {
          "cpu_percent": 98.6,
          "cpu_time": 1.45,
          "name": "ConcatData_1",
          "real_mem": 274399232,
          "time": 1616561681.7286453
         },
         {
          "cpu_percent": 197.3,
          "cpu_time": 1.5,
          "name": "RenameCol_1",
          "real_mem": 279240704,
          "time": 1616561681.7527063
         },
         {
          "cpu_percent": 197.4,
          "cpu_time": 1.5399999999999998,
          "name": "ConcatData_2",
          "real_mem": 279973888,
          "time": 1616561681.7741976
         },
         {
          "cpu_percent": 197.2,
          "cpu_time": 1.5799999999999998,
          "name": "SelectData_2",
          "real_mem": 280559616,
          "time": 1616561681.7958448
         },
         {
          "cpu_percent": 197.8,
          "cpu_time": 1.6099999999999999,
          "name": "DropDuplicates_1",
          "real_mem": 281022464,
          "time": 1616561681.8178475
         },
         {
          "cpu_percent": 97.9,
          "cpu_time": 1.64,
          "name": "ReadCsvProjectSpace_1",
          "real_mem": 281186304,
          "time": 1616561681.839447
         },
         {
          "cpu_percent": 196.8,
          "cpu_time": 1.68,
          "name": "ReadCsvProjectSpace_2",
          "real_mem": 281604096,
          "time": 1616561681.8611567
         },
         {
          "cpu_percent": 98.1,
          "cpu_time": 1.72,
          "name": "SelectData_1",
          "real_mem": 282398720,
          "time": 1616561681.8861659
         },
         {
          "cpu_percent": 196.6,
          "cpu_time": 1.75,
          "name": "ConcatData_1",
          "real_mem": 282935296,
          "time": 1616561681.908546
         },
         {
          "cpu_percent": 196.9,
          "cpu_time": 1.7899999999999998,
          "name": "RenameCol_1",
          "real_mem": 283394048,
          "time": 1616561681.9305234
         },
         {
          "cpu_percent": 194.3,
          "cpu_time": 1.8499999999999999,
          "name": "ConcatData_2",
          "real_mem": 283824128,
          "time": 1616561681.9532242
         },
         {
          "cpu_percent": 196.9,
          "cpu_time": 1.89,
          "name": "SelectData_2",
          "real_mem": 284364800,
          "time": 1616561681.9755192
         },
         {
          "cpu_percent": 197.2,
          "cpu_time": 1.93,
          "name": "DropDuplicates_1",
          "real_mem": 284590080,
          "time": 1616561681.9972727
         },
         {
          "cpu_percent": 98.6,
          "cpu_time": 1.97,
          "name": "ReadCsvProjectSpace_1",
          "real_mem": 285085696,
          "time": 1616561682.019594
         },
         {
          "cpu_percent": 98.6,
          "cpu_time": 2,
          "name": "ReadCsvProjectSpace_2",
          "real_mem": 285814784,
          "time": 1616561682.0412831
         },
         {
          "cpu_percent": 98.4,
          "cpu_time": 2.0300000000000002,
          "name": "SelectData_1",
          "real_mem": 288206848,
          "time": 1616561682.0628784
         },
         {
          "cpu_percent": 98.4,
          "cpu_time": 2.07,
          "name": "ConcatData_1",
          "real_mem": 292851712,
          "time": 1616561682.084905
         },
         {
          "cpu_percent": 97.2,
          "cpu_time": 2.09,
          "name": "RenameCol_1",
          "real_mem": 297713664,
          "time": 1616561682.1070087
         },
         {
          "cpu_percent": 197.1,
          "cpu_time": 2.13,
          "name": "ConcatData_2",
          "real_mem": 300974080,
          "time": 1616561682.1292505
         },
         {
          "cpu_percent": 98.6,
          "cpu_time": 2.15,
          "name": "SelectData_2",
          "real_mem": 303837184,
          "time": 1616561682.1516738
         },
         {
          "cpu_percent": 98.5,
          "cpu_time": 2.18,
          "name": "DropDuplicates_1",
          "real_mem": 307392512,
          "time": 1616561682.1734035
         },
         {
          "cpu_percent": 98.7,
          "cpu_time": 2.1999999999999997,
          "name": "ReadCsvProjectSpace_1",
          "real_mem": 311447552,
          "time": 1616561682.1950002
         },
         {
          "cpu_percent": 98.8,
          "cpu_time": 2.2399999999999998,
          "name": "ReadCsvProjectSpace_2",
          "real_mem": 319225856,
          "time": 1616561682.217186
         },
         {
          "cpu_percent": 296.3,
          "cpu_time": 2.29,
          "name": "SelectData_1",
          "real_mem": 319574016,
          "time": 1616561682.2386622
         },
         {
          "cpu_percent": 97.8,
          "cpu_time": 2.31,
          "name": "ConcatData_1",
          "real_mem": 320110592,
          "time": 1616561682.26031
         },
         {
          "cpu_percent": 197.5,
          "cpu_time": 2.3400000000000003,
          "name": "RenameCol_1",
          "real_mem": 320487424,
          "time": 1616561682.2824857
         },
         {
          "cpu_percent": 197.6,
          "cpu_time": 2.39,
          "name": "ConcatData_2",
          "real_mem": 320696320,
          "time": 1616561682.304021
         },
         {
          "cpu_percent": 296.7,
          "cpu_time": 2.4400000000000004,
          "name": "SelectData_2",
          "real_mem": 321167360,
          "time": 1616561682.3256145
         },
         {
          "cpu_percent": 98.7,
          "cpu_time": 2.5300000000000002,
          "name": "ReadCsvProjectSpace_2",
          "real_mem": 322367488,
          "time": 1616561682.39119
         },
         {
          "cpu_percent": 197.2,
          "cpu_time": 2.5100000000000002,
          "name": "ReadCsvProjectSpace_1",
          "real_mem": 321753088,
          "time": 1616561682.369576
         },
         {
          "cpu_percent": 197.5,
          "cpu_time": 2.47,
          "name": "DropDuplicates_1",
          "real_mem": 321507328,
          "time": 1616561682.3480666
         },
         {
          "cpu_percent": 197.1,
          "cpu_time": 2.59,
          "name": "SelectData_1",
          "real_mem": 323063808,
          "time": 1616561682.4138706
         },
         {
          "cpu_percent": 197.2,
          "cpu_time": 2.71,
          "name": "RenameCol_1",
          "real_mem": 323764224,
          "time": 1616561682.4569812
         },
         {
          "cpu_percent": 395,
          "cpu_time": 2.66,
          "name": "ConcatData_1",
          "real_mem": 323338240,
          "time": 1616561682.4353132
         },
         {
          "cpu_percent": 98.4,
          "cpu_time": 2.73,
          "name": "ConcatData_2",
          "real_mem": 324235264,
          "time": 1616561682.4795165
         },
         {
          "cpu_percent": 295.3,
          "cpu_time": 2.78,
          "name": "SelectData_2",
          "real_mem": 324554752,
          "time": 1616561682.5012577
         },
         {
          "cpu_percent": 296.4,
          "cpu_time": 2.87,
          "name": "DropDuplicates_1",
          "real_mem": 324919296,
          "time": 1616561682.5228815
         },
         {
          "cpu_percent": 294.8,
          "cpu_time": 2.9400000000000004,
          "name": "ReadCsvProjectSpace_1",
          "real_mem": 325730304,
          "time": 1616561682.545351
         },
         {
          "cpu_percent": 296.5,
          "cpu_time": 2.9899999999999998,
          "name": "ReadCsvProjectSpace_2",
          "real_mem": 325943296,
          "time": 1616561682.566775
         },
         {
          "cpu_percent": 393.4,
          "cpu_time": 3.06,
          "name": "SelectData_1",
          "real_mem": 329216000,
          "time": 1616561682.5883784
         },
         {
          "cpu_percent": 296.1,
          "cpu_time": 3.2,
          "name": "RenameCol_1",
          "real_mem": 333987840,
          "time": 1616561682.6329718
         },
         {
          "cpu_percent": 394.7,
          "cpu_time": 3.13,
          "name": "ConcatData_1",
          "real_mem": 334331904,
          "time": 1616561682.6111188
         },
         {
          "cpu_percent": 296.4,
          "cpu_time": 3.28,
          "name": "ConcatData_2",
          "real_mem": 334307328,
          "time": 1616561682.6551435
         },
         {
          "cpu_percent": 292.2,
          "cpu_time": 3.3600000000000003,
          "name": "SelectData_2",
          "real_mem": 335151104,
          "time": 1616561682.677455
         },
         {
          "cpu_percent": 196.9,
          "cpu_time": 3.4000000000000004,
          "name": "DropDuplicates_1",
          "real_mem": 335253504,
          "time": 1616561682.6991022
         },
         {
          "cpu_percent": 358.8,
          "cpu_time": 3.46,
          "name": "ReadCsvProjectSpace_1",
          "real_mem": 340488192,
          "time": 1616561682.721958
         },
         {
          "cpu_percent": 0,
          "cpu_time": 3.54,
          "name": "ConcatData_1",
          "real_mem": 341553152,
          "time": 1616561682.7922056
         },
         {
          "cpu_percent": 264.8,
          "cpu_time": 3.5300000000000002,
          "name": "ReadCsvProjectSpace_2",
          "real_mem": 341966848,
          "time": 1616561682.7491758
         },
         {
          "cpu_percent": 0,
          "cpu_time": 3.54,
          "name": "SelectData_1",
          "real_mem": 341553152,
          "time": 1616561682.7707157
         },
         {
          "cpu_percent": 0,
          "cpu_time": 3.54,
          "name": "RenameCol_1",
          "real_mem": 341553152,
          "time": 1616561682.8143058
         },
         {
          "cpu_percent": 96.5,
          "cpu_time": 3.55,
          "name": "ConcatData_2",
          "real_mem": 341553152,
          "time": 1616561682.836316
         },
         {
          "cpu_percent": 196.2,
          "cpu_time": 3.6,
          "name": "SelectData_2",
          "real_mem": 341897216,
          "time": 1616561682.8579335
         },
         {
          "cpu_percent": 197.3,
          "cpu_time": 3.6900000000000004,
          "name": "ReadCsvProjectSpace_1",
          "real_mem": 343224320,
          "time": 1616561682.9022229
         },
         {
          "cpu_percent": 98.6,
          "cpu_time": 3.7199999999999998,
          "name": "ReadCsvProjectSpace_2",
          "real_mem": 343150592,
          "time": 1616561682.9237201
         },
         {
          "cpu_percent": 98.7,
          "cpu_time": 3.63,
          "name": "DropDuplicates_1",
          "real_mem": 342740992,
          "time": 1616561682.8807304
         },
         {
          "cpu_percent": 197.2,
          "cpu_time": 3.75,
          "name": "SelectData_1",
          "real_mem": 343834624,
          "time": 1616561682.9456987
         },
         {
          "cpu_percent": 98.6,
          "cpu_time": 3.7699999999999996,
          "name": "ConcatData_1",
          "real_mem": 344186880,
          "time": 1616561682.967399
         },
         {
          "cpu_percent": 98.7,
          "cpu_time": 3.81,
          "name": "RenameCol_1",
          "real_mem": 344694784,
          "time": 1616561682.9891467
         },
         {
          "cpu_percent": 295,
          "cpu_time": 3.87,
          "name": "ConcatData_2",
          "real_mem": 346148864,
          "time": 1616561683.0113108
         },
         {
          "cpu_percent": 190.9,
          "cpu_time": 3.93,
          "name": "SelectData_2",
          "real_mem": 347348992,
          "time": 1616561683.033191
         },
         {
          "cpu_percent": 293.4,
          "cpu_time": 3.99,
          "name": "DropDuplicates_1",
          "real_mem": 345952256,
          "time": 1616561683.0548427
         },
         {
          "cpu_percent": 196.7,
          "cpu_time": 4.0600000000000005,
          "name": "ReadCsvProjectSpace_1",
          "real_mem": 347176960,
          "time": 1616561683.079005
         },
         {
          "cpu_percent": 98.5,
          "cpu_time": 4.109999999999999,
          "name": "ReadCsvProjectSpace_2",
          "real_mem": 347463680,
          "time": 1616561683.1007204
         },
         {
          "cpu_percent": 98.5,
          "cpu_time": 4.13,
          "name": "SelectData_1",
          "real_mem": 347901952,
          "time": 1616561683.1223526
         },
         {
          "cpu_percent": 97.3,
          "cpu_time": 4.17,
          "name": "ConcatData_1",
          "real_mem": 348319744,
          "time": 1616561683.1457386
         },
         {
          "cpu_percent": 0,
          "cpu_time": 4.2,
          "name": "RenameCol_1",
          "real_mem": 348930048,
          "time": 1616561683.1676633
         },
         {
          "cpu_percent": 98.7,
          "cpu_time": 4.2299999999999995,
          "name": "ConcatData_2",
          "real_mem": 349487104,
          "time": 1616561683.1892104
         },
         {
          "cpu_percent": 98.6,
          "cpu_time": 4.25,
          "name": "SelectData_2",
          "real_mem": 350785536,
          "time": 1616561683.2113166
         },
         {
          "cpu_percent": 263.2,
          "cpu_time": 4.29,
          "name": "DropDuplicates_1",
          "real_mem": 354095104,
          "time": 1616561683.2342455
         },
         {
          "cpu_percent": 98.6,
          "cpu_time": 4.32,
          "name": "ReadCsvProjectSpace_1",
          "real_mem": 357654528,
          "time": 1616561683.2560115
         },
         {
          "cpu_percent": 98.8,
          "cpu_time": 4.38,
          "name": "SelectData_1",
          "real_mem": 364060672,
          "time": 1616561683.2996964
         },
         {
          "cpu_percent": 197.4,
          "cpu_time": 4.42,
          "name": "ConcatData_1",
          "real_mem": 367063040,
          "time": 1616561683.3212833
         },
         {
          "cpu_percent": 98.7,
          "cpu_time": 4.34,
          "name": "ReadCsvProjectSpace_2",
          "real_mem": 361246720,
          "time": 1616561683.2781591
         },
         {
          "cpu_percent": 98.6,
          "cpu_time": 4.45,
          "name": "RenameCol_1",
          "real_mem": 370130944,
          "time": 1616561683.3433743
         },
         {
          "cpu_percent": 98.5,
          "cpu_time": 4.47,
          "name": "ConcatData_2",
          "real_mem": 373866496,
          "time": 1616561683.3649724
         },
         {
          "cpu_percent": 98.6,
          "cpu_time": 4.5,
          "name": "SelectData_2",
          "real_mem": 376950784,
          "time": 1616561683.3866682
         },
         {
          "cpu_percent": 197.1,
          "cpu_time": 4.53,
          "name": "DropDuplicates_1",
          "real_mem": 381546496,
          "time": 1616561683.4089053
         },
         {
          "cpu_percent": 196.8,
          "cpu_time": 4.58,
          "name": "ReadCsvProjectSpace_1",
          "real_mem": 386412544,
          "time": 1616561683.4311166
         },
         {
          "cpu_percent": 196.9,
          "cpu_time": 4.63,
          "name": "ReadCsvProjectSpace_2",
          "real_mem": 388157440,
          "time": 1616561683.4529831
         },
         {
          "cpu_percent": 254.8,
          "cpu_time": 4.699999999999999,
          "name": "SelectData_1",
          "real_mem": 391311360,
          "time": 1616561683.4773533
         },
         {
          "cpu_percent": 196.8,
          "cpu_time": 4.7299999999999995,
          "name": "ConcatData_1",
          "real_mem": 392335360,
          "time": 1616561683.4990168
         },
         {
          "cpu_percent": 98.4,
          "cpu_time": 4.76,
          "name": "RenameCol_1",
          "real_mem": 395571200,
          "time": 1616561683.521263
         },
         {
          "cpu_percent": 98.2,
          "cpu_time": 4.779999999999999,
          "name": "ConcatData_2",
          "real_mem": 397262848,
          "time": 1616561683.5449662
         },
         {
          "cpu_percent": 197.4,
          "cpu_time": 4.819999999999999,
          "name": "SelectData_2",
          "real_mem": 398454784,
          "time": 1616561683.567471
         },
         {
          "cpu_percent": 98.2,
          "cpu_time": 4.85,
          "name": "DropDuplicates_1",
          "real_mem": 400965632,
          "time": 1616561683.5896428
         },
         {
          "cpu_percent": 98.3,
          "cpu_time": 4.890000000000001,
          "name": "ReadCsvProjectSpace_1",
          "real_mem": 408662016,
          "time": 1616561683.6127257
         },
         {
          "cpu_percent": 196.3,
          "cpu_time": 4.95,
          "name": "ReadCsvProjectSpace_2",
          "real_mem": 411848704,
          "time": 1616561683.6346438
         },
         {
          "cpu_percent": 197.5,
          "cpu_time": 5,
          "name": "SelectData_1",
          "real_mem": 412532736,
          "time": 1616561683.6566014
         },
         {
          "cpu_percent": 197.3,
          "cpu_time": 5.04,
          "name": "ConcatData_1",
          "real_mem": 413605888,
          "time": 1616561683.6786673
         },
         {
          "cpu_percent": 196.9,
          "cpu_time": 5.09,
          "name": "RenameCol_1",
          "real_mem": 414375936,
          "time": 1616561683.7001708
         },
         {
          "cpu_percent": 296.3,
          "cpu_time": 5.15,
          "name": "ConcatData_2",
          "real_mem": 413536256,
          "time": 1616561683.721732
         },
         {
          "cpu_percent": 98.8,
          "cpu_time": 5.18,
          "name": "SelectData_2",
          "real_mem": 413716480,
          "time": 1616561683.7442222
         },
         {
          "cpu_percent": 98.5,
          "cpu_time": 5.2,
          "name": "DropDuplicates_1",
          "real_mem": 414330880,
          "time": 1616561683.7676866
         },
         {
          "cpu_percent": 98.6,
          "cpu_time": 5.2299999999999995,
          "name": "ReadCsvProjectSpace_1",
          "real_mem": 414945280,
          "time": 1616561683.7891762
         },
         {
          "cpu_percent": 295.4,
          "cpu_time": 5.27,
          "name": "ReadCsvProjectSpace_2",
          "real_mem": 415211520,
          "time": 1616561683.8113275
         },
         {
          "cpu_percent": 98.8,
          "cpu_time": 5.29,
          "name": "SelectData_1",
          "real_mem": 415227904,
          "time": 1616561683.8330097
         },
         {
          "cpu_percent": 98.5,
          "cpu_time": 5.32,
          "name": "ConcatData_1",
          "real_mem": 415621120,
          "time": 1616561683.854669
         },
         {
          "cpu_percent": 295.7,
          "cpu_time": 5.38,
          "name": "RenameCol_1",
          "real_mem": 415698944,
          "time": 1616561683.8768167
         },
         {
          "cpu_percent": 196.7,
          "cpu_time": 5.45,
          "name": "ConcatData_2",
          "real_mem": 416317440,
          "time": 1616561683.8987489
         },
         {
          "cpu_percent": 492.1,
          "cpu_time": 5.53,
          "name": "SelectData_2",
          "real_mem": 417787904,
          "time": 1616561683.920435
         },
         {
          "cpu_percent": 97.8,
          "cpu_time": 5.57,
          "name": "DropDuplicates_1",
          "real_mem": 417189888,
          "time": 1616561683.9431045
         },
         {
          "cpu_percent": 197.3,
          "cpu_time": 5.6,
          "name": "ReadCsvProjectSpace_1",
          "real_mem": 417644544,
          "time": 1616561683.9647248
         },
         {
          "cpu_percent": 197.2,
          "cpu_time": 5.6499999999999995,
          "name": "ReadCsvProjectSpace_2",
          "real_mem": 417927168,
          "time": 1616561683.9863303
         },
         {
          "cpu_percent": 296.1,
          "cpu_time": 5.75,
          "name": "ConcatData_1",
          "real_mem": 429780992,
          "time": 1616561684.0303574
         },
         {
          "cpu_percent": 197.3,
          "cpu_time": 5.71,
          "name": "SelectData_1",
          "real_mem": 425553920,
          "time": 1616561684.0088804
         },
         {
          "cpu_percent": 393.4,
          "cpu_time": 5.8500000000000005,
          "name": "RenameCol_1",
          "real_mem": 430211072,
          "time": 1616561684.0524986
         },
         {
          "cpu_percent": 393,
          "cpu_time": 5.94,
          "name": "ConcatData_2",
          "real_mem": 431448064,
          "time": 1616561684.0782862
         },
         {
          "cpu_percent": 293.9,
          "cpu_time": 6.0200000000000005,
          "name": "SelectData_2",
          "real_mem": 435191808,
          "time": 1616561684.1004276
         },
         {
          "cpu_percent": 295,
          "cpu_time": 6.090000000000001,
          "name": "DropDuplicates_1",
          "real_mem": 436183040,
          "time": 1616561684.1224444
         },
         {
          "cpu_percent": 295.2,
          "cpu_time": 6.180000000000001,
          "name": "ReadCsvProjectSpace_1",
          "real_mem": 438222848,
          "time": 1616561684.1456308
         },
         {
          "cpu_percent": 294.7,
          "cpu_time": 6.25,
          "name": "ReadCsvProjectSpace_2",
          "real_mem": 440684544,
          "time": 1616561684.1678276
         },
         {
          "cpu_percent": 291.5,
          "cpu_time": 6.32,
          "name": "SelectData_1",
          "real_mem": 442662912,
          "time": 1616561684.1900022
         },
         {
          "cpu_percent": 294.6,
          "cpu_time": 6.39,
          "name": "ConcatData_1",
          "real_mem": 444518400,
          "time": 1616561684.2129638
         },
         {
          "cpu_percent": 196.3,
          "cpu_time": 6.46,
          "name": "RenameCol_1",
          "real_mem": 445902848,
          "time": 1616561684.235001
         },
         {
          "cpu_percent": 294.3,
          "cpu_time": 6.53,
          "name": "ConcatData_2",
          "real_mem": 446713856,
          "time": 1616561684.2570674
         },
         {
          "cpu_percent": 393,
          "cpu_time": 6.6000000000000005,
          "name": "SelectData_2",
          "real_mem": 456015872,
          "time": 1616561684.280103
         },
         {
          "cpu_percent": 295.2,
          "cpu_time": 6.67,
          "name": "DropDuplicates_1",
          "real_mem": 461803520,
          "time": 1616561684.3020182
         },
         {
          "cpu_percent": 196.6,
          "cpu_time": 6.7299999999999995,
          "name": "ReadCsvProjectSpace_1",
          "real_mem": 466862080,
          "time": 1616561684.3240182
         },
         {
          "cpu_percent": 472.3,
          "cpu_time": 6.84,
          "name": "ReadCsvProjectSpace_2",
          "real_mem": 469856256,
          "time": 1616561684.34952
         },
         {
          "cpu_percent": 292.1,
          "cpu_time": 7.029999999999999,
          "name": "ConcatData_1",
          "real_mem": 471449600,
          "time": 1616561684.394245
         },
         {
          "cpu_percent": 491.1,
          "cpu_time": 6.949999999999999,
          "name": "SelectData_1",
          "real_mem": 471044096,
          "time": 1616561684.3718116
         },
         {
          "cpu_percent": 294.8,
          "cpu_time": 7.1000000000000005,
          "name": "RenameCol_1",
          "real_mem": 474120192,
          "time": 1616561684.4179409
         },
         {
          "cpu_percent": 295.4,
          "cpu_time": 7.180000000000001,
          "name": "ConcatData_2",
          "real_mem": 481492992,
          "time": 1616561684.439901
         },
         {
          "cpu_percent": 295.2,
          "cpu_time": 7.24,
          "name": "SelectData_2",
          "real_mem": 484392960,
          "time": 1616561684.4619818
         },
         {
          "cpu_percent": 295.3,
          "cpu_time": 7.3100000000000005,
          "name": "DropDuplicates_1",
          "real_mem": 486285312,
          "time": 1616561684.4848714
         },
         {
          "cpu_percent": 393.6,
          "cpu_time": 7.390000000000001,
          "name": "ReadCsvProjectSpace_1",
          "real_mem": 487780352,
          "time": 1616561684.5069313
         },
         {
          "cpu_percent": 393.1,
          "cpu_time": 7.48,
          "name": "ReadCsvProjectSpace_2",
          "real_mem": 488095744,
          "time": 1616561684.5290108
         },
         {
          "cpu_percent": 393.5,
          "cpu_time": 7.57,
          "name": "SelectData_1",
          "real_mem": 489299968,
          "time": 1616561684.551807
         },
         {
          "cpu_percent": 295.1,
          "cpu_time": 7.63,
          "name": "ConcatData_1",
          "real_mem": 491728896,
          "time": 1616561684.5737953
         },
         {
          "cpu_percent": 295.2,
          "cpu_time": 7.6899999999999995,
          "name": "RenameCol_1",
          "real_mem": 492675072,
          "time": 1616561684.5959136
         },
         {
          "cpu_percent": 196.9,
          "cpu_time": 7.74,
          "name": "ConcatData_2",
          "real_mem": 493375488,
          "time": 1616561684.6187103
         },
         {
          "cpu_percent": 196.7,
          "cpu_time": 7.85,
          "name": "DropDuplicates_1",
          "real_mem": 494252032,
          "time": 1616561684.6628227
         },
         {
          "cpu_percent": 295.4,
          "cpu_time": 7.81,
          "name": "SelectData_2",
          "real_mem": 493740032,
          "time": 1616561684.6406467
         },
         {
          "cpu_percent": 294.4,
          "cpu_time": 8,
          "name": "SelectData_1",
          "real_mem": 495017984,
          "time": 1616561684.7293086
         },
         {
          "cpu_percent": 195.8,
          "cpu_time": 7.88,
          "name": "ReadCsvProjectSpace_1",
          "real_mem": 494518272,
          "time": 1616561684.6854618
         },
         {
          "cpu_percent": 295.2,
          "cpu_time": 7.93,
          "name": "ReadCsvProjectSpace_2",
          "real_mem": 494702592,
          "time": 1616561684.707114
         },
         {
          "cpu_percent": 295.4,
          "cpu_time": 8.09,
          "name": "ConcatData_1",
          "real_mem": 496361472,
          "time": 1616561684.7523348
         },
         {
          "cpu_percent": 392.6,
          "cpu_time": 8.17,
          "name": "RenameCol_1",
          "real_mem": 496574464,
          "time": 1616561684.7743766
         },
         {
          "cpu_percent": 492,
          "cpu_time": 8.26,
          "name": "ConcatData_2",
          "real_mem": 497287168,
          "time": 1616561684.7964313
         },
         {
          "cpu_percent": 294.8,
          "cpu_time": 8.32,
          "name": "SelectData_2",
          "real_mem": 498290688,
          "time": 1616561684.819181
         },
         {
          "cpu_percent": 294.7,
          "cpu_time": 8.39,
          "name": "DropDuplicates_1",
          "real_mem": 500572160,
          "time": 1616561684.8412476
         },
         {
          "cpu_percent": 295.1,
          "cpu_time": 8.459999999999999,
          "name": "ReadCsvProjectSpace_1",
          "real_mem": 502427648,
          "time": 1616561684.8635619
         },
         {
          "cpu_percent": 295.4,
          "cpu_time": 8.53,
          "name": "ReadCsvProjectSpace_2",
          "real_mem": 504590336,
          "time": 1616561684.8866806
         },
         {
          "cpu_percent": 492.2,
          "cpu_time": 8.629999999999999,
          "name": "SelectData_1",
          "real_mem": 506351616,
          "time": 1616561684.9087987
         },
         {
          "cpu_percent": 295.4,
          "cpu_time": 8.69,
          "name": "ConcatData_1",
          "real_mem": 509669376,
          "time": 1616561684.930776
         },
         {
          "cpu_percent": 294.6,
          "cpu_time": 8.76,
          "name": "RenameCol_1",
          "real_mem": 513441792,
          "time": 1616561684.9535277
         },
         {
          "cpu_percent": 386.5,
          "cpu_time": 8.84,
          "name": "ConcatData_2",
          "real_mem": 515579904,
          "time": 1616561684.9756823
         },
         {
          "cpu_percent": 294.6,
          "cpu_time": 8.91,
          "name": "SelectData_2",
          "real_mem": 517730304,
          "time": 1616561684.997899
         },
         {
          "cpu_percent": 295.1,
          "cpu_time": 8.99,
          "name": "DropDuplicates_1",
          "real_mem": 522854400,
          "time": 1616561685.0208154
         },
         {
          "cpu_percent": 294,
          "cpu_time": 9.05,
          "name": "ReadCsvProjectSpace_1",
          "real_mem": 527892480,
          "time": 1616561685.0429473
         },
         {
          "cpu_percent": 295.1,
          "cpu_time": 9.120000000000001,
          "name": "ReadCsvProjectSpace_2",
          "real_mem": 530968576,
          "time": 1616561685.064899
         },
         {
          "cpu_percent": 295.1,
          "cpu_time": 9.200000000000001,
          "name": "SelectData_1",
          "real_mem": 533426176,
          "time": 1616561685.0883372
         },
         {
          "cpu_percent": 296,
          "cpu_time": 9.26,
          "name": "ConcatData_1",
          "real_mem": 532828160,
          "time": 1616561685.1105058
         },
         {
          "cpu_percent": 294.8,
          "cpu_time": 9.34,
          "name": "RenameCol_1",
          "real_mem": 536715264,
          "time": 1616561685.1326199
         },
         {
          "cpu_percent": 392.7,
          "cpu_time": 9.41,
          "name": "ConcatData_2",
          "real_mem": 539205632,
          "time": 1616561685.1553211
         },
         {
          "cpu_percent": 295.1,
          "cpu_time": 9.48,
          "name": "SelectData_2",
          "real_mem": 543461376,
          "time": 1616561685.1772852
         },
         {
          "cpu_percent": 294.9,
          "cpu_time": 9.55,
          "name": "DropDuplicates_1",
          "real_mem": 542855168,
          "time": 1616561685.1992357
         },
         {
          "cpu_percent": 293.7,
          "cpu_time": 9.620000000000001,
          "name": "ReadCsvProjectSpace_1",
          "real_mem": 544759808,
          "time": 1616561685.22198
         },
         {
          "cpu_percent": 98.6,
          "cpu_time": 9.67,
          "name": "ReadCsvProjectSpace_2",
          "real_mem": 547491840,
          "time": 1616561685.2440858
         },
         {
          "cpu_percent": 294.3,
          "cpu_time": 9.72,
          "name": "SelectData_1",
          "real_mem": 549425152,
          "time": 1616561685.2661085
         },
         {
          "cpu_percent": 197.5,
          "cpu_time": 9.78,
          "name": "ConcatData_1",
          "real_mem": 552464384,
          "time": 1616561685.2887757
         },
         {
          "cpu_percent": 98.7,
          "cpu_time": 9.83,
          "name": "ConcatData_2",
          "real_mem": 558673920,
          "time": 1616561685.3317363
         },
         {
          "cpu_percent": 98.6,
          "cpu_time": 9.81,
          "name": "RenameCol_1",
          "real_mem": 555659264,
          "time": 1616561685.3103087
         },
         {
          "cpu_percent": 197.1,
          "cpu_time": 9.89,
          "name": "SelectData_2",
          "real_mem": 562188288,
          "time": 1616561685.3539553
         },
         {
          "cpu_percent": 295.6,
          "cpu_time": 9.95,
          "name": "DropDuplicates_1",
          "real_mem": 565223424,
          "time": 1616561685.375712
         },
         {
          "cpu_percent": 295.8,
          "cpu_time": 10.01,
          "name": "ReadCsvProjectSpace_1",
          "real_mem": 568135680,
          "time": 1616561685.3973207
         },
         {
          "cpu_percent": 295.5,
          "cpu_time": 10.16,
          "name": "SelectData_1",
          "real_mem": 572104704,
          "time": 1616561685.4446776
         },
         {
          "cpu_percent": 294.8,
          "cpu_time": 10.23,
          "name": "ConcatData_1",
          "real_mem": 573235200,
          "time": 1616561685.4679012
         },
         {
          "cpu_percent": 394.1,
          "cpu_time": 10.09,
          "name": "ReadCsvProjectSpace_2",
          "real_mem": 570716160,
          "time": 1616561685.419596
         },
         {
          "cpu_percent": 282,
          "cpu_time": 10.33,
          "name": "RenameCol_1",
          "real_mem": 575426560,
          "time": 1616561685.4914396
         },
         {
          "cpu_percent": 98.8,
          "cpu_time": 10.370000000000001,
          "name": "ConcatData_2",
          "real_mem": 577761280,
          "time": 1616561685.512943
         },
         {
          "cpu_percent": 0,
          "cpu_time": 10.39,
          "name": "SelectData_2",
          "real_mem": 579076096,
          "time": 1616561685.5345206
         },
         {
          "cpu_percent": 197.2,
          "cpu_time": 10.43,
          "name": "DropDuplicates_1",
          "real_mem": 581652480,
          "time": 1616561685.5566385
         },
         {
          "cpu_percent": 0,
          "cpu_time": 10.46,
          "name": "ReadCsvProjectSpace_1",
          "real_mem": 582713344,
          "time": 1616561685.5782237
         },
         {
          "cpu_percent": 0,
          "cpu_time": 10.46,
          "name": "ReadCsvProjectSpace_2",
          "real_mem": 582713344,
          "time": 1616561685.5998669
         },
         {
          "cpu_percent": 197.3,
          "cpu_time": 10.52,
          "name": "ConcatData_1",
          "real_mem": 585936896,
          "time": 1616561685.6438556
         },
         {
          "cpu_percent": 291.2,
          "cpu_time": 10.58,
          "name": "RenameCol_1",
          "real_mem": 587554816,
          "time": 1616561685.6658275
         },
         {
          "cpu_percent": 197.3,
          "cpu_time": 10.48,
          "name": "SelectData_1",
          "real_mem": 584302592,
          "time": 1616561685.6222334
         },
         {
          "cpu_percent": 197,
          "cpu_time": 10.65,
          "name": "ConcatData_2",
          "real_mem": 589361152,
          "time": 1616561685.6885598
         },
         {
          "cpu_percent": 295.2,
          "cpu_time": 10.71,
          "name": "SelectData_2",
          "real_mem": 591577088,
          "time": 1616561685.7103472
         },
         {
          "cpu_percent": 294.5,
          "cpu_time": 10.780000000000001,
          "name": "DropDuplicates_1",
          "real_mem": 593190912,
          "time": 1616561685.73233
         },
         {
          "cpu_percent": 197.4,
          "cpu_time": 10.9,
          "name": "ReadCsvProjectSpace_2",
          "real_mem": 598855680,
          "time": 1616561685.7787213
         },
         {
          "cpu_percent": 197.2,
          "cpu_time": 10.96,
          "name": "SelectData_1",
          "real_mem": 601104384,
          "time": 1616561685.8003287
         },
         {
          "cpu_percent": 98.7,
          "cpu_time": 10.84,
          "name": "ReadCsvProjectSpace_1",
          "real_mem": 595931136,
          "time": 1616561685.756764
         },
         {
          "cpu_percent": 98.5,
          "cpu_time": 10.99,
          "name": "ConcatData_1",
          "real_mem": 603197440,
          "time": 1616561685.8225086
         },
         {
          "cpu_percent": 197.6,
          "cpu_time": 11.030000000000001,
          "name": "RenameCol_1",
          "real_mem": 605249536,
          "time": 1616561685.844058
         },
         {
          "cpu_percent": 98.7,
          "cpu_time": 11.06,
          "name": "ConcatData_2",
          "real_mem": 607240192,
          "time": 1616561685.8655643
         },
         {
          "cpu_percent": 393.1,
          "cpu_time": 11.11,
          "name": "SelectData_2",
          "real_mem": 616091648,
          "time": 1616561685.8876245
         },
         {
          "cpu_percent": 98.7,
          "cpu_time": 11.18,
          "name": "ReadCsvProjectSpace_1",
          "real_mem": 634867712,
          "time": 1616561685.930734
         },
         {
          "cpu_percent": 197.5,
          "cpu_time": 11.14,
          "name": "DropDuplicates_1",
          "real_mem": 634732544,
          "time": 1616561685.9092004
         },
         {
          "cpu_percent": 395.4,
          "cpu_time": 11.3,
          "name": "SelectData_1",
          "real_mem": 641486848,
          "time": 1616561685.974108
         },
         {
          "cpu_percent": 392.4,
          "cpu_time": 11.38,
          "name": "ConcatData_1",
          "real_mem": 641486848,
          "time": 1616561685.995931
         },
         {
          "cpu_percent": 296.3,
          "cpu_time": 11.22,
          "name": "ReadCsvProjectSpace_2",
          "real_mem": 636620800,
          "time": 1616561685.9527862
         },
         {
          "cpu_percent": 98.5,
          "cpu_time": 11.44,
          "name": "RenameCol_1",
          "real_mem": 641785856,
          "time": 1616561686.0182061
         },
         {
          "cpu_percent": 98.7,
          "cpu_time": 11.47,
          "name": "ConcatData_2",
          "real_mem": 617299968,
          "time": 1616561686.0397604
         },
         {
          "cpu_percent": 296,
          "cpu_time": 11.53,
          "name": "SelectData_2",
          "real_mem": 617836544,
          "time": 1616561686.0615132
         },
         {
          "cpu_percent": 393.3,
          "cpu_time": 11.78,
          "name": "DropDuplicates_1",
          "real_mem": 625332224,
          "time": 1616561686.1813924
         },
         {
          "cpu_percent": 296,
          "cpu_time": 11.84,
          "name": "ReadCsvProjectSpace_1",
          "real_mem": 625668096,
          "time": 1616561686.2033637
         },
         {
          "cpu_percent": 394.4,
          "cpu_time": 11.91,
          "name": "ReadCsvProjectSpace_2",
          "real_mem": 625668096,
          "time": 1616561686.2253659
         },
         {
          "cpu_percent": 295.1,
          "cpu_time": 11.959999999999999,
          "name": "SelectData_1",
          "real_mem": 626061312,
          "time": 1616561686.2478673
         },
         {
          "cpu_percent": 98.4,
          "cpu_time": 11.98,
          "name": "ConcatData_1",
          "real_mem": 626458624,
          "time": 1616561686.2702966
         },
         {
          "cpu_percent": 98.3,
          "cpu_time": 12.01,
          "name": "RenameCol_1",
          "real_mem": 626876416,
          "time": 1616561686.2921333
         },
         {
          "cpu_percent": 98,
          "cpu_time": 12.04,
          "name": "ConcatData_2",
          "real_mem": 627167232,
          "time": 1616561686.3140593
         },
         {
          "cpu_percent": 98.6,
          "cpu_time": 12.06,
          "name": "SelectData_2",
          "real_mem": 627695616,
          "time": 1616561686.336053
         },
         {
          "cpu_percent": 196.9,
          "cpu_time": 12.209999999999999,
          "name": "DropDuplicates_1",
          "real_mem": 630411264,
          "time": 1616561686.4537559
         },
         {
          "cpu_percent": 295.9,
          "cpu_time": 12.27,
          "name": "ReadCsvProjectSpace_1",
          "real_mem": 630710272,
          "time": 1616561686.4753218
         },
         {
          "cpu_percent": 295,
          "cpu_time": 12.34,
          "name": "ReadCsvProjectSpace_2",
          "real_mem": 630992896,
          "time": 1616561686.4977512
         },
         {
          "cpu_percent": 295.2,
          "cpu_time": 12.399999999999999,
          "name": "SelectData_1",
          "real_mem": 631320576,
          "time": 1616561686.520112
         },
         {
          "cpu_percent": 197.4,
          "cpu_time": 12.45,
          "name": "ConcatData_1",
          "real_mem": 631910400,
          "time": 1616561686.5419316
         },
         {
          "cpu_percent": 197.1,
          "cpu_time": 12.49,
          "name": "RenameCol_1",
          "real_mem": 632197120,
          "time": 1616561686.5638177
         },
         {
          "cpu_percent": 197.1,
          "cpu_time": 12.54,
          "name": "ConcatData_2",
          "real_mem": 632606720,
          "time": 1616561686.5858023
         },
         {
          "cpu_percent": 293.6,
          "cpu_time": 12.61,
          "name": "SelectData_2",
          "real_mem": 632807424,
          "time": 1616561686.6079624
         },
         {
          "cpu_percent": 98.5,
          "cpu_time": 12.76,
          "name": "DropDuplicates_1",
          "real_mem": 634421248,
          "time": 1616561686.726448
         },
         {
          "cpu_percent": 295.1,
          "cpu_time": 12.83,
          "name": "ReadCsvProjectSpace_1",
          "real_mem": 634740736,
          "time": 1616561686.7488198
         },
         {
          "cpu_percent": 295.1,
          "cpu_time": 12.889999999999999,
          "name": "ReadCsvProjectSpace_2",
          "real_mem": 635084800,
          "time": 1616561686.771882
         },
         {
          "cpu_percent": 295.5,
          "cpu_time": 12.97,
          "name": "SelectData_1",
          "real_mem": 635351040,
          "time": 1616561686.7939615
         },
         {
          "cpu_percent": 98.6,
          "cpu_time": 13,
          "name": "ConcatData_1",
          "real_mem": 635686912,
          "time": 1616561686.816131
         },
         {
          "cpu_percent": 296.8,
          "cpu_time": 13.05,
          "name": "RenameCol_1",
          "real_mem": 635686912,
          "time": 1616561686.8383458
         },
         {
          "cpu_percent": 295.1,
          "cpu_time": 13.110000000000001,
          "name": "ConcatData_2",
          "real_mem": 635686912,
          "time": 1616561686.860318
         },
         {
          "cpu_percent": 197.9,
          "cpu_time": 13.15,
          "name": "SelectData_2",
          "real_mem": 635944960,
          "time": 1616561686.882365
         },
         {
          "cpu_percent": 294.8,
          "cpu_time": 13.4,
          "name": "DropDuplicates_1",
          "real_mem": 636792832,
          "time": 1616561686.9993515
         },
         {
          "cpu_percent": 98.5,
          "cpu_time": 13.440000000000001,
          "name": "ReadCsvProjectSpace_1",
          "real_mem": 637255680,
          "time": 1616561687.0210927
         },
         {
          "cpu_percent": 197,
          "cpu_time": 13.49,
          "name": "ReadCsvProjectSpace_2",
          "real_mem": 637562880,
          "time": 1616561687.0443702
         },
         {
          "cpu_percent": 98.4,
          "cpu_time": 13.520000000000001,
          "name": "SelectData_1",
          "real_mem": 637890560,
          "time": 1616561687.0662696
         },
         {
          "cpu_percent": 98.6,
          "cpu_time": 13.540000000000001,
          "name": "ConcatData_1",
          "real_mem": 638234624,
          "time": 1616561687.0882165
         },
         {
          "cpu_percent": 197.4,
          "cpu_time": 13.57,
          "name": "RenameCol_1",
          "real_mem": 638234624,
          "time": 1616561687.1102943
         },
         {
          "cpu_percent": 196.1,
          "cpu_time": 13.620000000000001,
          "name": "ConcatData_2",
          "real_mem": 638693376,
          "time": 1616561687.1319783
         },
         {
          "cpu_percent": 98.5,
          "cpu_time": 13.67,
          "name": "SelectData_2",
          "real_mem": 639209472,
          "time": 1616561687.1541493
         },
         {
          "cpu_percent": 98.6,
          "cpu_time": 13.89,
          "name": "DropDuplicates_1",
          "real_mem": 640323584,
          "time": 1616561687.271921
         },
         {
          "cpu_percent": 196.3,
          "cpu_time": 13.93,
          "name": "ReadCsvProjectSpace_1",
          "real_mem": 640430080,
          "time": 1616561687.294154
         },
         {
          "cpu_percent": 294.8,
          "cpu_time": 13.98,
          "name": "ReadCsvProjectSpace_2",
          "real_mem": 640552960,
          "time": 1616561687.316375
         },
         {
          "cpu_percent": 294.9,
          "cpu_time": 14.05,
          "name": "SelectData_1",
          "real_mem": 640884736,
          "time": 1616561687.338957
         },
         {
          "cpu_percent": 296.1,
          "cpu_time": 14.11,
          "name": "ConcatData_1",
          "real_mem": 641032192,
          "time": 1616561687.3612697
         },
         {
          "cpu_percent": 98.8,
          "cpu_time": 14.14,
          "name": "RenameCol_1",
          "real_mem": 641212416,
          "time": 1616561687.3833911
         },
         {
          "cpu_percent": 98.5,
          "cpu_time": 14.17,
          "name": "ConcatData_2",
          "real_mem": 641699840,
          "time": 1616561687.4053538
         },
         {
          "cpu_percent": 197,
          "cpu_time": 14.209999999999999,
          "name": "SelectData_2",
          "real_mem": 642125824,
          "time": 1616561687.427654
         },
         {
          "cpu_percent": 293.2,
          "cpu_time": 14.51,
          "name": "DropDuplicates_1",
          "real_mem": 643796992,
          "time": 1616561687.5442495
         },
         {
          "cpu_percent": 392.5,
          "cpu_time": 14.58,
          "name": "ReadCsvProjectSpace_1",
          "real_mem": 644034560,
          "time": 1616561687.566562
         },
         {
          "cpu_percent": 295.3,
          "cpu_time": 14.65,
          "name": "ReadCsvProjectSpace_2",
          "real_mem": 644034560,
          "time": 1616561687.5892348
         },
         {
          "cpu_percent": 196.7,
          "cpu_time": 14.7,
          "name": "SelectData_1",
          "real_mem": 644243456,
          "time": 1616561687.6111944
         },
         {
          "cpu_percent": 294.1,
          "cpu_time": 14.77,
          "name": "ConcatData_1",
          "real_mem": 644255744,
          "time": 1616561687.6335506
         },
         {
          "cpu_percent": 296,
          "cpu_time": 14.82,
          "name": "RenameCol_1",
          "real_mem": 644485120,
          "time": 1616561687.6558785
         },
         {
          "cpu_percent": 295.4,
          "cpu_time": 14.879999999999999,
          "name": "ConcatData_2",
          "real_mem": 645124096,
          "time": 1616561687.6782022
         },
         {
          "cpu_percent": 197.3,
          "cpu_time": 14.94,
          "name": "SelectData_2",
          "real_mem": 645885952,
          "time": 1616561687.700381
         },
         {
          "cpu_percent": 394.9,
          "cpu_time": 15.209999999999999,
          "name": "DropDuplicates_1",
          "real_mem": 647548928,
          "time": 1616561687.816718
         },
         {
          "cpu_percent": 295.3,
          "cpu_time": 15.28,
          "name": "ReadCsvProjectSpace_1",
          "real_mem": 656576512,
          "time": 1616561687.8388982
         },
         {
          "cpu_percent": 98.3,
          "cpu_time": 15.33,
          "name": "ReadCsvProjectSpace_2",
          "real_mem": 660643840,
          "time": 1616561687.861776
         },
         {
          "cpu_percent": 394,
          "cpu_time": 15.44,
          "name": "SelectData_1",
          "real_mem": 661557248,
          "time": 1616561687.884028
         },
         {
          "cpu_percent": 98.4,
          "cpu_time": 15.52,
          "name": "RenameCol_1",
          "real_mem": 666533888,
          "time": 1616561687.9281664
         },
         {
          "cpu_percent": 98.5,
          "cpu_time": 15.479999999999999,
          "name": "ConcatData_1",
          "real_mem": 666255360,
          "time": 1616561687.906289
         },
         {
          "cpu_percent": 98.6,
          "cpu_time": 15.54,
          "name": "ConcatData_2",
          "real_mem": 667054080,
          "time": 1616561687.9500914
         },
         {
          "cpu_percent": 197.2,
          "cpu_time": 15.6,
          "name": "SelectData_2",
          "real_mem": 686051328,
          "time": 1616561687.9728796
         },
         {
          "cpu_percent": 196.7,
          "cpu_time": 15.940000000000001,
          "name": "DropDuplicates_1",
          "real_mem": 715444224,
          "time": 1616561688.0897052
         },
         {
          "cpu_percent": 98.7,
          "cpu_time": 15.98,
          "name": "ReadCsvProjectSpace_1",
          "real_mem": 715825152,
          "time": 1616561688.111333
         },
         {
          "cpu_percent": 197.5,
          "cpu_time": 16.03,
          "name": "ReadCsvProjectSpace_2",
          "real_mem": 715825152,
          "time": 1616561688.1345327
         },
         {
          "cpu_percent": 197,
          "cpu_time": 16.07,
          "name": "SelectData_1",
          "real_mem": 716242944,
          "time": 1616561688.1563678
         },
         {
          "cpu_percent": 296.1,
          "cpu_time": 16.12,
          "name": "ConcatData_1",
          "real_mem": 716242944,
          "time": 1616561688.1782568
         },
         {
          "cpu_percent": 195.5,
          "cpu_time": 16.16,
          "name": "RenameCol_1",
          "real_mem": 724062208,
          "time": 1616561688.2011192
         },
         {
          "cpu_percent": 196.8,
          "cpu_time": 16.21,
          "name": "ConcatData_2",
          "real_mem": 724500480,
          "time": 1616561688.2231874
         },
         {
          "cpu_percent": 197,
          "cpu_time": 16.26,
          "name": "SelectData_2",
          "real_mem": 724500480,
          "time": 1616561688.245388
         },
         {
          "cpu_percent": 197.4,
          "cpu_time": 16.5,
          "name": "DropDuplicates_1",
          "real_mem": 726134784,
          "time": 1616561688.362143
         },
         {
          "cpu_percent": 296.1,
          "cpu_time": 16.54,
          "name": "ReadCsvProjectSpace_1",
          "real_mem": 726503424,
          "time": 1616561688.3836913
         },
         {
          "cpu_percent": 197.2,
          "cpu_time": 16.6,
          "name": "ReadCsvProjectSpace_2",
          "real_mem": 727236608,
          "time": 1616561688.4069035
         },
         {
          "cpu_percent": 196.9,
          "cpu_time": 16.64,
          "name": "SelectData_1",
          "real_mem": 727568384,
          "time": 1616561688.4285028
         },
         {
          "cpu_percent": 295.5,
          "cpu_time": 16.71,
          "name": "ConcatData_1",
          "real_mem": 728268800,
          "time": 1616561688.4508972
         },
         {
          "cpu_percent": 98.6,
          "cpu_time": 16.73,
          "name": "RenameCol_1",
          "real_mem": 728571904,
          "time": 1616561688.4728248
         },
         {
          "cpu_percent": 98.6,
          "cpu_time": 16.75,
          "name": "ConcatData_2",
          "real_mem": 728838144,
          "time": 1616561688.4957545
         },
         {
          "cpu_percent": 98.5,
          "cpu_time": 16.79,
          "name": "SelectData_2",
          "real_mem": 728993792,
          "time": 1616561688.5174656
         },
         {
          "cpu_percent": 296.1,
          "cpu_time": 17,
          "name": "DropDuplicates_1",
          "real_mem": 730451968,
          "time": 1616561688.6348424
         },
         {
          "cpu_percent": 295.7,
          "cpu_time": 17.049999999999997,
          "name": "ReadCsvProjectSpace_1",
          "real_mem": 730718208,
          "time": 1616561688.656624
         },
         {
          "cpu_percent": 197.3,
          "cpu_time": 17.099999999999998,
          "name": "ReadCsvProjectSpace_2",
          "real_mem": 731099136,
          "time": 1616561688.6789432
         },
         {
          "cpu_percent": 197.4,
          "cpu_time": 17.13,
          "name": "SelectData_1",
          "real_mem": 731533312,
          "time": 1616561688.700642
         },
         {
          "cpu_percent": 295.6,
          "cpu_time": 17.189999999999998,
          "name": "ConcatData_1",
          "real_mem": 732102656,
          "time": 1616561688.7225788
         },
         {
          "cpu_percent": 394.6,
          "cpu_time": 17.27,
          "name": "RenameCol_1",
          "real_mem": 732524544,
          "time": 1616561688.7448242
         },
         {
          "cpu_percent": 295.8,
          "cpu_time": 17.349999999999998,
          "name": "ConcatData_2",
          "real_mem": 732794880,
          "time": 1616561688.767869
         },
         {
          "cpu_percent": 394.6,
          "cpu_time": 17.44,
          "name": "SelectData_2",
          "real_mem": 732868608,
          "time": 1616561688.7900145
         },
         {
          "cpu_percent": 295.5,
          "cpu_time": 17.81,
          "name": "DropDuplicates_1",
          "real_mem": 735309824,
          "time": 1616561688.907801
         },
         {
          "cpu_percent": 295.4,
          "cpu_time": 17.86,
          "name": "ReadCsvProjectSpace_1",
          "real_mem": 735686656,
          "time": 1616561688.9293916
         },
         {
          "cpu_percent": 394.4,
          "cpu_time": 17.93,
          "name": "ReadCsvProjectSpace_2",
          "real_mem": 735965184,
          "time": 1616561688.9514153
         },
         {
          "cpu_percent": 295,
          "cpu_time": 17.99,
          "name": "SelectData_1",
          "real_mem": 736514048,
          "time": 1616561688.9736092
         },
         {
          "cpu_percent": 197.2,
          "cpu_time": 18.05,
          "name": "ConcatData_1",
          "real_mem": 737443840,
          "time": 1616561688.9960241
         },
         {
          "cpu_percent": 291,
          "cpu_time": 18.110000000000003,
          "name": "RenameCol_1",
          "real_mem": 737841152,
          "time": 1616561689.0182772
         },
         {
          "cpu_percent": 197.4,
          "cpu_time": 18.16,
          "name": "ConcatData_2",
          "real_mem": 740175872,
          "time": 1616561689.0405252
         },
         {
          "cpu_percent": 197.7,
          "cpu_time": 18.200000000000003,
          "name": "SelectData_2",
          "real_mem": 743440384,
          "time": 1616561689.062546
         },
         {
          "cpu_percent": 393,
          "cpu_time": 18.580000000000002,
          "name": "DropDuplicates_1",
          "real_mem": 750854144,
          "time": 1616561689.1804764
         },
         {
          "cpu_percent": 294.3,
          "cpu_time": 18.65,
          "name": "ReadCsvProjectSpace_1",
          "real_mem": 753319936,
          "time": 1616561689.202559
         },
         {
          "cpu_percent": 491.7,
          "cpu_time": 18.73,
          "name": "ReadCsvProjectSpace_2",
          "real_mem": 758247424,
          "time": 1616561689.2250912
         },
         {
          "cpu_percent": 287.6,
          "cpu_time": 18.82,
          "name": "SelectData_1",
          "real_mem": 767119360,
          "time": 1616561689.2476342
         },
         {
          "cpu_percent": 295,
          "cpu_time": 18.89,
          "name": "ConcatData_1",
          "real_mem": 769429504,
          "time": 1616561689.2701254
         },
         {
          "cpu_percent": 294.2,
          "cpu_time": 18.950000000000003,
          "name": "RenameCol_1",
          "real_mem": 773476352,
          "time": 1616561689.2925172
         },
         {
          "cpu_percent": 96.4,
          "cpu_time": 19.01,
          "name": "ConcatData_2",
          "real_mem": 788066304,
          "time": 1616561689.3185222
         },
         {
          "cpu_percent": 287.4,
          "cpu_time": 19.07,
          "name": "SelectData_2",
          "real_mem": 788525056,
          "time": 1616561689.341045
         },
         {
          "cpu_percent": 393.5,
          "cpu_time": 19.369999999999997,
          "name": "DropDuplicates_1",
          "real_mem": 792207360,
          "time": 1616561689.4536245
         },
         {
          "cpu_percent": 295.4,
          "cpu_time": 19.46,
          "name": "ReadCsvProjectSpace_1",
          "real_mem": 792489984,
          "time": 1616561689.475334
         },
         {
          "cpu_percent": 391.2,
          "cpu_time": 19.54,
          "name": "ReadCsvProjectSpace_2",
          "real_mem": 793219072,
          "time": 1616561689.4974244
         },
         {
          "cpu_percent": 285,
          "cpu_time": 19.63,
          "name": "SelectData_1",
          "real_mem": 793980928,
          "time": 1616561689.5199351
         },
         {
          "cpu_percent": 295.2,
          "cpu_time": 19.71,
          "name": "ConcatData_1",
          "real_mem": 794468352,
          "time": 1616561689.5421345
         },
         {
          "cpu_percent": 296.1,
          "cpu_time": 19.79,
          "name": "RenameCol_1",
          "real_mem": 794636288,
          "time": 1616561689.565712
         },
         {
          "cpu_percent": 392.6,
          "cpu_time": 19.89,
          "name": "ConcatData_2",
          "real_mem": 795074560,
          "time": 1616561689.591347
         },
         {
          "cpu_percent": 295.4,
          "cpu_time": 19.95,
          "name": "SelectData_2",
          "real_mem": 795512832,
          "time": 1616561689.613244
         },
         {
          "cpu_percent": 392.4,
          "cpu_time": 20.4,
          "name": "DropDuplicates_1",
          "real_mem": 797343744,
          "time": 1616561689.7258415
         },
         {
          "cpu_percent": 295.8,
          "cpu_time": 20.47,
          "name": "ReadCsvProjectSpace_1",
          "real_mem": 797589504,
          "time": 1616561689.7475827
         },
         {
          "cpu_percent": 295.2,
          "cpu_time": 20.549999999999997,
          "name": "ReadCsvProjectSpace_2",
          "real_mem": 797843456,
          "time": 1616561689.7698069
         },
         {
          "cpu_percent": 393.3,
          "cpu_time": 20.639999999999997,
          "name": "SelectData_1",
          "real_mem": 798158848,
          "time": 1616561689.792623
         },
         {
          "cpu_percent": 394.2,
          "cpu_time": 20.73,
          "name": "ConcatData_1",
          "real_mem": 798658560,
          "time": 1616561689.8148952
         },
         {
          "cpu_percent": 295.7,
          "cpu_time": 20.82,
          "name": "RenameCol_1",
          "real_mem": 802705408,
          "time": 1616561689.8382328
         },
         {
          "cpu_percent": 493.6,
          "cpu_time": 20.94,
          "name": "ConcatData_2",
          "real_mem": 805871616,
          "time": 1616561689.8632479
         },
         {
          "cpu_percent": 196.9,
          "cpu_time": 20.990000000000002,
          "name": "SelectData_2",
          "real_mem": 805871616,
          "time": 1616561689.884883
         },
         {
          "cpu_percent": 392.1,
          "cpu_time": 21.36,
          "name": "DropDuplicates_1",
          "real_mem": 806453248,
          "time": 1616561689.9986145
         },
         {
          "cpu_percent": 394.8,
          "cpu_time": 21.44,
          "name": "ReadCsvProjectSpace_1",
          "real_mem": 806678528,
          "time": 1616561690.0202682
         },
         {
          "cpu_percent": 393.7,
          "cpu_time": 21.52,
          "name": "ReadCsvProjectSpace_2",
          "real_mem": 806678528,
          "time": 1616561690.042239
         },
         {
          "cpu_percent": 395,
          "cpu_time": 21.62,
          "name": "SelectData_1",
          "real_mem": 806678528,
          "time": 1616561690.0654542
         },
         {
          "cpu_percent": 393.3,
          "cpu_time": 21.72,
          "name": "ConcatData_1",
          "real_mem": 806678528,
          "time": 1616561690.0879269
         },
         {
          "cpu_percent": 392.2,
          "cpu_time": 21.81,
          "name": "RenameCol_1",
          "real_mem": 806678528,
          "time": 1616561690.110727
         },
         {
          "cpu_percent": 394.8,
          "cpu_time": 21.909999999999997,
          "name": "ConcatData_2",
          "real_mem": 807153664,
          "time": 1616561690.1352837
         },
         {
          "cpu_percent": 294.7,
          "cpu_time": 22,
          "name": "SelectData_2",
          "real_mem": 807153664,
          "time": 1616561690.1569602
         },
         {
          "cpu_percent": 296.2,
          "cpu_time": 22.389999999999997,
          "name": "DropDuplicates_1",
          "real_mem": 809459712,
          "time": 1616561690.271289
         },
         {
          "cpu_percent": 197.5,
          "cpu_time": 22.46,
          "name": "ReadCsvProjectSpace_1",
          "real_mem": 809459712,
          "time": 1616561690.2928479
         },
         {
          "cpu_percent": 196.7,
          "cpu_time": 22.5,
          "name": "ReadCsvProjectSpace_2",
          "real_mem": 809635840,
          "time": 1616561690.3147798
         },
         {
          "cpu_percent": 394.7,
          "cpu_time": 22.57,
          "name": "SelectData_1",
          "real_mem": 810094592,
          "time": 1616561690.3379555
         },
         {
          "cpu_percent": 393,
          "cpu_time": 22.65,
          "name": "ConcatData_1",
          "real_mem": 810471424,
          "time": 1616561690.3602936
         },
         {
          "cpu_percent": 491.1,
          "cpu_time": 22.74,
          "name": "RenameCol_1",
          "real_mem": 810950656,
          "time": 1616561690.3831189
         },
         {
          "cpu_percent": 394.6,
          "cpu_time": 22.93,
          "name": "SelectData_2",
          "real_mem": 811675648,
          "time": 1616561690.4295917
         },
         {
          "cpu_percent": 394.3,
          "cpu_time": 22.860000000000003,
          "name": "ConcatData_2",
          "real_mem": 811220992,
          "time": 1616561690.4077284
         },
         {
          "cpu_percent": 294.5,
          "cpu_time": 23.349999999999998,
          "name": "DropDuplicates_1",
          "real_mem": 813408256,
          "time": 1616561690.544565
         },
         {
          "cpu_percent": 296.1,
          "cpu_time": 23.43,
          "name": "ReadCsvProjectSpace_1",
          "real_mem": 814284800,
          "time": 1616561690.5665643
         },
         {
          "cpu_percent": 295.7,
          "cpu_time": 23.49,
          "name": "ReadCsvProjectSpace_2",
          "real_mem": 814284800,
          "time": 1616561690.5884686
         },
         {
          "cpu_percent": 394,
          "cpu_time": 23.57,
          "name": "SelectData_1",
          "real_mem": 814284800,
          "time": 1616561690.6106088
         },
         {
          "cpu_percent": 394.7,
          "cpu_time": 23.77,
          "name": "RenameCol_1",
          "real_mem": 814694400,
          "time": 1616561690.6556015
         },
         {
          "cpu_percent": 393.6,
          "cpu_time": 23.669999999999998,
          "name": "ConcatData_1",
          "real_mem": 814333952,
          "time": 1616561690.6333957
         },
         {
          "cpu_percent": 295.4,
          "cpu_time": 23.849999999999998,
          "name": "ConcatData_2",
          "real_mem": 815009792,
          "time": 1616561690.679915
         },
         {
          "cpu_percent": 490.4,
          "cpu_time": 23.96,
          "name": "SelectData_2",
          "real_mem": 815251456,
          "time": 1616561690.7023017
         },
         {
          "cpu_percent": 394.8,
          "cpu_time": 24.349999999999998,
          "name": "DropDuplicates_1",
          "real_mem": 816123904,
          "time": 1616561690.8167017
         },
         {
          "cpu_percent": 196.8,
          "cpu_time": 24.4,
          "name": "ReadCsvProjectSpace_1",
          "real_mem": 816373760,
          "time": 1616561690.8389962
         },
         {
          "cpu_percent": 98.5,
          "cpu_time": 24.479999999999997,
          "name": "ConcatData_1",
          "real_mem": 816390144,
          "time": 1616561690.9098294
         },
         {
          "cpu_percent": 98.3,
          "cpu_time": 24.51,
          "name": "RenameCol_1",
          "real_mem": 816390144,
          "time": 1616561690.9327283
         },
         {
          "cpu_percent": 196.8,
          "cpu_time": 24.459999999999997,
          "name": "SelectData_1",
          "real_mem": 816390144,
          "time": 1616561690.8873718
         },
         {
          "cpu_percent": 98.7,
          "cpu_time": 24.55,
          "name": "ConcatData_2",
          "real_mem": 816390144,
          "time": 1616561690.9577785
         },
         {
          "cpu_percent": 98.5,
          "cpu_time": 24.63,
          "name": "SelectData_2",
          "real_mem": 816443392,
          "time": 1616561690.9919398
         },
         {
          "cpu_percent": 296,
          "cpu_time": 24.93,
          "name": "DropDuplicates_1",
          "real_mem": 816955392,
          "time": 1616561691.0886917
         },
         {
          "cpu_percent": 98.5,
          "cpu_time": 25.16,
          "name": "ConcatData_1",
          "real_mem": 817090560,
          "time": 1616561691.1829135
         },
         {
          "cpu_percent": 98.4,
          "cpu_time": 25.23,
          "name": "ConcatData_2",
          "real_mem": 817090560,
          "time": 1616561691.2300184
         },
         {
          "cpu_percent": 98.5,
          "cpu_time": 25.41,
          "name": "DropDuplicates_1",
          "real_mem": 817090560,
          "time": 1616561691.361023
         },
         {
          "cpu_percent": 394.4,
          "cpu_time": 25.66,
          "name": "ConcatData_1",
          "real_mem": 817369088,
          "time": 1616561691.4547489
         },
         {
          "cpu_percent": 294.5,
          "cpu_time": 25.8,
          "name": "ConcatData_2",
          "real_mem": 817496064,
          "time": 1616561691.502815
         },
         {
          "cpu_percent": 386.2,
          "cpu_time": 26.240000000000002,
          "name": "DropDuplicates_1",
          "real_mem": 819204096,
          "time": 1616561691.6342297
         },
         {
          "cpu_percent": 0,
          "cpu_time": 26.34,
          "name": "ConcatData_1",
          "real_mem": 819789824,
          "time": 1616561691.7279673
         },
         {
          "cpu_percent": 295.3,
          "cpu_time": 26.4,
          "name": "ConcatData_2",
          "real_mem": 820105216,
          "time": 1616561691.7781832
         },
         {
          "cpu_percent": 98.6,
          "cpu_time": 26.65,
          "name": "DropDuplicates_1",
          "real_mem": 820244480,
          "time": 1616561691.9071333
         },
         {
          "cpu_percent": 295.8,
          "cpu_time": 27.009999999999998,
          "name": "ConcatData_2",
          "real_mem": 821952512,
          "time": 1616561692.05087
         },
         {
          "cpu_percent": 98.5,
          "cpu_time": 27.240000000000002,
          "name": "DropDuplicates_1",
          "real_mem": 822280192,
          "time": 1616561692.1793516
         },
         {
          "cpu_percent": 98.4,
          "cpu_time": 27.44,
          "name": "ConcatData_2",
          "real_mem": 822321152,
          "time": 1616561692.323813
         },
         {
          "cpu_percent": 387.2,
          "cpu_time": 27.86,
          "name": "DropDuplicates_1",
          "real_mem": 823078912,
          "time": 1616561692.4526515
         },
         {
          "cpu_percent": 393,
          "cpu_time": 28.389999999999997,
          "name": "ConcatData_2",
          "real_mem": 823504896,
          "time": 1616561692.596867
         },
         {
          "cpu_percent": 193.6,
          "cpu_time": 28.71,
          "name": "DropDuplicates_1",
          "real_mem": 824274944,
          "time": 1616561692.726384
         },
         {
          "cpu_percent": 97.6,
          "cpu_time": 29.07,
          "name": "DropDuplicates_1",
          "real_mem": 824471552,
          "time": 1616561693.001296
         },
         {
          "cpu_percent": 290.9,
          "cpu_time": 29.560000000000002,
          "name": "DropDuplicates_1",
          "real_mem": 826040320,
          "time": 1616561693.275268
         },
         {
          "cpu_percent": 393.9,
          "cpu_time": 30.42,
          "name": "DropDuplicates_1",
          "real_mem": 828555264,
          "time": 1616561693.547438
         },
         {
          "cpu_percent": 590.2,
          "cpu_time": 32.6,
          "name": "DropDuplicates_1",
          "real_mem": 852455424,
          "time": 1616561694.0989273
         },
         {
          "cpu_percent": 578.6,
          "cpu_time": 34.74,
          "name": "DropDuplicates_1",
          "real_mem": 852713472,
          "time": 1616561694.6220248
         },
         {
          "cpu_percent": 151.3,
          "cpu_time": 36.91,
          "name": "DropDuplicates_1",
          "real_mem": 854720512,
          "time": 1616561695.188228
         },
         {
          "cpu_percent": 590.4,
          "cpu_time": 39.03,
          "name": "DropDuplicates_1",
          "real_mem": 860192768,
          "time": 1616561695.7111926
         },
         {
          "cpu_percent": 492.2,
          "cpu_time": 41.089999999999996,
          "name": "DropDuplicates_1",
          "real_mem": 862740480,
          "time": 1616561696.234287
         },
         {
          "cpu_percent": 121.2,
          "cpu_time": 43.23,
          "name": "DropDuplicates_1",
          "real_mem": 884269056,
          "time": 1616561696.7881007
         },
         {
          "cpu_percent": 394.2,
          "cpu_time": 45.29,
          "name": "DropDuplicates_1",
          "real_mem": 891686912,
          "time": 1616561697.3109426
         }
        ],
        "logs": [
         {
          "asctime": "2021-03-24 04:54:40,259",
          "created": 1616561680.259624,
          "extra": {},
          "filename": "async_executors.py",
          "funcName": "main",
          "levelname": "DEBUG",
          "lineno": 114,
          "message": "NonSparkPath_2: started async block execution\n",
          "name": "engine.logs:NonSparkPath_2",
          "pathname": "/usr/local/lib/python3.7/dist-packages/razor/flow/async_executors.py",
          "process": 2920,
          "processName": "ForkProcess-1:4",
          "thread": 140677621077824,
          "threadName": "MainThread"
         },
         {
          "asctime": "2021-03-24 04:54:40,275",
          "created": 1616561680.2756333,
          "extra": {},
          "filename": "async_executors.py",
          "funcName": "fill_atomic_inputs",
          "levelname": "INFO",
          "lineno": 250,
          "message": "NonSparkPath_2: waiting for atomic input: ip_path",
          "name": "engine.logs:NonSparkPath_2",
          "pathname": "/usr/local/lib/python3.7/dist-packages/razor/flow/async_executors.py",
          "process": 2920,
          "processName": "ForkProcess-1:4",
          "thread": 140677621077824,
          "threadName": "MainThread"
         },
         {
          "asctime": "2021-03-24 04:54:40,275",
          "created": 1616561680.2758195,
          "extra": {},
          "filename": "async_executors.py",
          "funcName": "fill_atomic_inputs",
          "levelname": "DEBUG",
          "lineno": 253,
          "message": "NonSparkPath_2: got atomic input: train_hatespeech.csv",
          "name": "engine.logs:NonSparkPath_2",
          "pathname": "/usr/local/lib/python3.7/dist-packages/razor/flow/async_executors.py",
          "process": 2920,
          "processName": "ForkProcess-1:4",
          "thread": 140677621077824,
          "threadName": "MainThread"
         },
         {
          "asctime": "2021-03-24 04:54:40,275",
          "created": 1616561680.2758863,
          "extra": {},
          "filename": "async_executors.py",
          "funcName": "main",
          "levelname": "DEBUG",
          "lineno": 130,
          "message": "NonSparkPath_2: triggering block run",
          "name": "engine.logs:NonSparkPath_2",
          "pathname": "/usr/local/lib/python3.7/dist-packages/razor/flow/async_executors.py",
          "process": 2920,
          "processName": "ForkProcess-1:4",
          "thread": 140677621077824,
          "threadName": "MainThread"
         },
         {
          "asctime": "2021-03-24 04:54:40,229",
          "created": 1616561680.2296476,
          "extra": {},
          "filename": "async_executors.py",
          "funcName": "main",
          "levelname": "DEBUG",
          "lineno": 114,
          "message": "NonSparkCols_1: started async block execution\n",
          "name": "engine.logs:NonSparkCols_1",
          "pathname": "/usr/local/lib/python3.7/dist-packages/razor/flow/async_executors.py",
          "process": 2904,
          "processName": "ForkProcess-1:1",
          "thread": 140677621077824,
          "threadName": "MainThread"
         },
         {
          "asctime": "2021-03-24 04:54:40,245",
          "created": 1616561680.245631,
          "extra": {},
          "filename": "async_executors.py",
          "funcName": "fill_atomic_inputs",
          "levelname": "INFO",
          "lineno": 250,
          "message": "NonSparkCols_1: waiting for atomic input: cols_list",
          "name": "engine.logs:NonSparkCols_1",
          "pathname": "/usr/local/lib/python3.7/dist-packages/razor/flow/async_executors.py",
          "process": 2904,
          "processName": "ForkProcess-1:1",
          "thread": 140677621077824,
          "threadName": "MainThread"
         },
         {
          "asctime": "2021-03-24 04:54:40,245",
          "created": 1616561680.2458496,
          "extra": {},
          "filename": "async_executors.py",
          "funcName": "fill_atomic_inputs",
          "levelname": "DEBUG",
          "lineno": 253,
          "message": "NonSparkCols_1: got atomic input: ['title', 'label']",
          "name": "engine.logs:NonSparkCols_1",
          "pathname": "/usr/local/lib/python3.7/dist-packages/razor/flow/async_executors.py",
          "process": 2904,
          "processName": "ForkProcess-1:1",
          "thread": 140677621077824,
          "threadName": "MainThread"
         },
         {
          "asctime": "2021-03-24 04:54:40,245",
          "created": 1616561680.2459147,
          "extra": {},
          "filename": "async_executors.py",
          "funcName": "main",
          "levelname": "DEBUG",
          "lineno": 130,
          "message": "NonSparkCols_1: triggering block run",
          "name": "engine.logs:NonSparkCols_1",
          "pathname": "/usr/local/lib/python3.7/dist-packages/razor/flow/async_executors.py",
          "process": 2904,
          "processName": "ForkProcess-1:1",
          "thread": 140677621077824,
          "threadName": "MainThread"
         },
         {
          "asctime": "2021-03-24 04:54:40,248",
          "created": 1616561680.2481089,
          "extra": {},
          "filename": "async_executors.py",
          "funcName": "distribute_output_queue",
          "levelname": "DEBUG",
          "lineno": 308,
          "message": "NonSparkCols_1: ---- dist output: ['title', 'label'] -> ('SelectData_1', 'wanted_cols')",
          "name": "engine.logs:NonSparkCols_1",
          "pathname": "/usr/local/lib/python3.7/dist-packages/razor/flow/async_executors.py",
          "process": 2904,
          "processName": "ForkProcess-1:1",
          "thread": 140677621077824,
          "threadName": "MainThread"
         },
         {
          "asctime": "2021-03-24 04:54:40,239",
          "created": 1616561680.2397752,
          "extra": {},
          "filename": "async_executors.py",
          "funcName": "main",
          "levelname": "DEBUG",
          "lineno": 114,
          "message": "NonSparkPath_1: started async block execution\n",
          "name": "engine.logs:NonSparkPath_1",
          "pathname": "/usr/local/lib/python3.7/dist-packages/razor/flow/async_executors.py",
          "process": 2909,
          "processName": "ForkProcess-1:2",
          "thread": 140677621077824,
          "threadName": "MainThread"
         },
         {
          "asctime": "2021-03-24 04:54:40,248",
          "created": 1616561680.2484713,
          "extra": {},
          "filename": "async_executors.py",
          "funcName": "main",
          "levelname": "DEBUG",
          "lineno": 147,
          "message": "NonSparkCols_1: block thread completed",
          "name": "engine.logs:NonSparkCols_1",
          "pathname": "/usr/local/lib/python3.7/dist-packages/razor/flow/async_executors.py",
          "process": 2904,
          "processName": "ForkProcess-1:1",
          "thread": 140677621077824,
          "threadName": "MainThread"
         },
         {
          "asctime": "2021-03-24 04:54:40,248",
          "created": 1616561680.248561,
          "extra": {},
          "filename": "async_executors.py",
          "funcName": "main",
          "levelname": "DEBUG",
          "lineno": 149,
          "message": "NonSparkCols_1: block execution complete",
          "name": "engine.logs:NonSparkCols_1",
          "pathname": "/usr/local/lib/python3.7/dist-packages/razor/flow/async_executors.py",
          "process": 2904,
          "processName": "ForkProcess-1:1",
          "thread": 140677621077824,
          "threadName": "MainThread"
         },
         {
          "asctime": "2021-03-24 04:54:40,248",
          "created": 1616561680.2488124,
          "extra": {},
          "filename": "async_executors.py",
          "funcName": "distribute_output_queue",
          "levelname": "DEBUG",
          "lineno": 308,
          "message": "NonSparkCols_1: ---- dist output: b'__!\\tEndOfStream\\t!__' -> ('SelectData_1', 'wanted_cols')",
          "name": "engine.logs:NonSparkCols_1",
          "pathname": "/usr/local/lib/python3.7/dist-packages/razor/flow/async_executors.py",
          "process": 2904,
          "processName": "ForkProcess-1:1",
          "thread": 140677621077824,
          "threadName": "MainThread"
         },
         {
          "asctime": "2021-03-24 04:54:40,255",
          "created": 1616561680.2556777,
          "extra": {},
          "filename": "async_executors.py",
          "funcName": "fill_atomic_inputs",
          "levelname": "INFO",
          "lineno": 250,
          "message": "NonSparkPath_1: waiting for atomic input: ip_path",
          "name": "engine.logs:NonSparkPath_1",
          "pathname": "/usr/local/lib/python3.7/dist-packages/razor/flow/async_executors.py",
          "process": 2909,
          "processName": "ForkProcess-1:2",
          "thread": 140677621077824,
          "threadName": "MainThread"
         },
         {
          "asctime": "2021-03-24 04:54:40,255",
          "created": 1616561680.255835,
          "extra": {},
          "filename": "async_executors.py",
          "funcName": "fill_atomic_inputs",
          "levelname": "DEBUG",
          "lineno": 253,
          "message": "NonSparkPath_1: got atomic input: df_with_stats.csv",
          "name": "engine.logs:NonSparkPath_1",
          "pathname": "/usr/local/lib/python3.7/dist-packages/razor/flow/async_executors.py",
          "process": 2909,
          "processName": "ForkProcess-1:2",
          "thread": 140677621077824,
          "threadName": "MainThread"
         },
         {
          "asctime": "2021-03-24 04:54:40,255",
          "created": 1616561680.2558937,
          "extra": {},
          "filename": "async_executors.py",
          "funcName": "main",
          "levelname": "DEBUG",
          "lineno": 130,
          "message": "NonSparkPath_1: triggering block run",
          "name": "engine.logs:NonSparkPath_1",
          "pathname": "/usr/local/lib/python3.7/dist-packages/razor/flow/async_executors.py",
          "process": 2909,
          "processName": "ForkProcess-1:2",
          "thread": 140677621077824,
          "threadName": "MainThread"
         },
         {
          "asctime": "2021-03-24 04:54:40,250",
          "created": 1616561680.2506516,
          "extra": {},
          "filename": "async_executors.py",
          "funcName": "main",
          "levelname": "DEBUG",
          "lineno": 114,
          "message": "NonSparkCols_2: started async block execution\n",
          "name": "engine.logs:NonSparkCols_2",
          "pathname": "/usr/local/lib/python3.7/dist-packages/razor/flow/async_executors.py",
          "process": 2914,
          "processName": "ForkProcess-1:3",
          "thread": 140677621077824,
          "threadName": "MainThread"
         },
         {
          "asctime": "2021-03-24 04:54:40,267",
          "created": 1616561680.2677326,
          "extra": {},
          "filename": "async_executors.py",
          "funcName": "fill_atomic_inputs",
          "levelname": "INFO",
          "lineno": 250,
          "message": "NonSparkCols_2: waiting for atomic input: cols_list",
          "name": "engine.logs:NonSparkCols_2",
          "pathname": "/usr/local/lib/python3.7/dist-packages/razor/flow/async_executors.py",
          "process": 2914,
          "processName": "ForkProcess-1:3",
          "thread": 140677621077824,
          "threadName": "MainThread"
         },
         {
          "asctime": "2021-03-24 04:54:40,267",
          "created": 1616561680.267939,
          "extra": {},
          "filename": "async_executors.py",
          "funcName": "fill_atomic_inputs",
          "levelname": "DEBUG",
          "lineno": 253,
          "message": "NonSparkCols_2: got atomic input: ['tweet', 'class']",
          "name": "engine.logs:NonSparkCols_2",
          "pathname": "/usr/local/lib/python3.7/dist-packages/razor/flow/async_executors.py",
          "process": 2914,
          "processName": "ForkProcess-1:3",
          "thread": 140677621077824,
          "threadName": "MainThread"
         },
         {
          "asctime": "2021-03-24 04:54:40,268",
          "created": 1616561680.2680027,
          "extra": {},
          "filename": "async_executors.py",
          "funcName": "main",
          "levelname": "DEBUG",
          "lineno": 130,
          "message": "NonSparkCols_2: triggering block run",
          "name": "engine.logs:NonSparkCols_2",
          "pathname": "/usr/local/lib/python3.7/dist-packages/razor/flow/async_executors.py",
          "process": 2914,
          "processName": "ForkProcess-1:3",
          "thread": 140677621077824,
          "threadName": "MainThread"
         },
         {
          "asctime": "2021-03-24 04:54:40,270",
          "created": 1616561680.2705874,
          "extra": {},
          "filename": "async_executors.py",
          "funcName": "distribute_output_queue",
          "levelname": "DEBUG",
          "lineno": 308,
          "message": "NonSparkCols_2: ---- dist output: ['tweet', 'class'] -> ('SelectData_2', 'wanted_cols')",
          "name": "engine.logs:NonSparkCols_2",
          "pathname": "/usr/local/lib/python3.7/dist-packages/razor/flow/async_executors.py",
          "process": 2914,
          "processName": "ForkProcess-1:3",
          "thread": 140677621077824,
          "threadName": "MainThread"
         },
         {
          "asctime": "2021-03-24 04:54:40,270",
          "created": 1616561680.2709258,
          "extra": {},
          "filename": "async_executors.py",
          "funcName": "main",
          "levelname": "DEBUG",
          "lineno": 147,
          "message": "NonSparkCols_2: block thread completed",
          "name": "engine.logs:NonSparkCols_2",
          "pathname": "/usr/local/lib/python3.7/dist-packages/razor/flow/async_executors.py",
          "process": 2914,
          "processName": "ForkProcess-1:3",
          "thread": 140677621077824,
          "threadName": "MainThread"
         },
         {
          "asctime": "2021-03-24 04:54:40,271",
          "created": 1616561680.2710102,
          "extra": {},
          "filename": "async_executors.py",
          "funcName": "main",
          "levelname": "DEBUG",
          "lineno": 149,
          "message": "NonSparkCols_2: block execution complete",
          "name": "engine.logs:NonSparkCols_2",
          "pathname": "/usr/local/lib/python3.7/dist-packages/razor/flow/async_executors.py",
          "process": 2914,
          "processName": "ForkProcess-1:3",
          "thread": 140677621077824,
          "threadName": "MainThread"
         },
         {
          "asctime": "2021-03-24 04:54:40,271",
          "created": 1616561680.2713037,
          "extra": {},
          "filename": "async_executors.py",
          "funcName": "distribute_output_queue",
          "levelname": "DEBUG",
          "lineno": 308,
          "message": "NonSparkCols_2: ---- dist output: b'__!\\tEndOfStream\\t!__' -> ('SelectData_2', 'wanted_cols')",
          "name": "engine.logs:NonSparkCols_2",
          "pathname": "/usr/local/lib/python3.7/dist-packages/razor/flow/async_executors.py",
          "process": 2914,
          "processName": "ForkProcess-1:3",
          "thread": 140677621077824,
          "threadName": "MainThread"
         },
         {
          "asctime": "2021-03-24 04:54:40,504",
          "created": 1616561680.5044703,
          "extra": {},
          "filename": "async_executors.py",
          "funcName": "distribute_output_queue",
          "levelname": "DEBUG",
          "lineno": 308,
          "message": "NonSparkPath_1: ---- dist output: /home/aios/projectspace/df_with_stats.csv -> ('ReadCsvProjectSpace_1', 'filename')",
          "name": "engine.logs:NonSparkPath_1",
          "pathname": "/usr/local/lib/python3.7/dist-packages/razor/flow/async_executors.py",
          "process": 2909,
          "processName": "ForkProcess-1:2",
          "thread": 140677621077824,
          "threadName": "MainThread"
         },
         {
          "asctime": "2021-03-24 04:54:40,504",
          "created": 1616561680.5047607,
          "extra": {},
          "filename": "async_executors.py",
          "funcName": "main",
          "levelname": "DEBUG",
          "lineno": 147,
          "message": "NonSparkPath_1: block thread completed",
          "name": "engine.logs:NonSparkPath_1",
          "pathname": "/usr/local/lib/python3.7/dist-packages/razor/flow/async_executors.py",
          "process": 2909,
          "processName": "ForkProcess-1:2",
          "thread": 140677621077824,
          "threadName": "MainThread"
         },
         {
          "asctime": "2021-03-24 04:54:40,515",
          "created": 1616561680.5159857,
          "extra": {},
          "filename": "async_executors.py",
          "funcName": "distribute_output_queue",
          "levelname": "DEBUG",
          "lineno": 308,
          "message": "NonSparkPath_2: ---- dist output: /home/aios/projectspace/train_hatespeech.csv -> ('ReadCsvProjectSpace_2', 'filename')",
          "name": "engine.logs:NonSparkPath_2",
          "pathname": "/usr/local/lib/python3.7/dist-packages/razor/flow/async_executors.py",
          "process": 2920,
          "processName": "ForkProcess-1:4",
          "thread": 140677621077824,
          "threadName": "MainThread"
         },
         {
          "asctime": "2021-03-24 04:54:40,504",
          "created": 1616561680.5048437,
          "extra": {},
          "filename": "async_executors.py",
          "funcName": "main",
          "levelname": "DEBUG",
          "lineno": 149,
          "message": "NonSparkPath_1: block execution complete",
          "name": "engine.logs:NonSparkPath_1",
          "pathname": "/usr/local/lib/python3.7/dist-packages/razor/flow/async_executors.py",
          "process": 2909,
          "processName": "ForkProcess-1:2",
          "thread": 140677621077824,
          "threadName": "MainThread"
         },
         {
          "asctime": "2021-03-24 04:54:40,516",
          "created": 1616561680.5163765,
          "extra": {},
          "filename": "async_executors.py",
          "funcName": "main",
          "levelname": "DEBUG",
          "lineno": 147,
          "message": "NonSparkPath_2: block thread completed",
          "name": "engine.logs:NonSparkPath_2",
          "pathname": "/usr/local/lib/python3.7/dist-packages/razor/flow/async_executors.py",
          "process": 2920,
          "processName": "ForkProcess-1:4",
          "thread": 140677621077824,
          "threadName": "MainThread"
         },
         {
          "asctime": "2021-03-24 04:54:40,504",
          "created": 1616561680.5049622,
          "extra": {},
          "filename": "async_executors.py",
          "funcName": "distribute_output_queue",
          "levelname": "DEBUG",
          "lineno": 308,
          "message": "NonSparkPath_1: ---- dist output: b'__!\\tEndOfStream\\t!__' -> ('ReadCsvProjectSpace_1', 'filename')",
          "name": "engine.logs:NonSparkPath_1",
          "pathname": "/usr/local/lib/python3.7/dist-packages/razor/flow/async_executors.py",
          "process": 2909,
          "processName": "ForkProcess-1:2",
          "thread": 140677621077824,
          "threadName": "MainThread"
         },
         {
          "asctime": "2021-03-24 04:54:40,516",
          "created": 1616561680.5165062,
          "extra": {},
          "filename": "async_executors.py",
          "funcName": "main",
          "levelname": "DEBUG",
          "lineno": 149,
          "message": "NonSparkPath_2: block execution complete",
          "name": "engine.logs:NonSparkPath_2",
          "pathname": "/usr/local/lib/python3.7/dist-packages/razor/flow/async_executors.py",
          "process": 2920,
          "processName": "ForkProcess-1:4",
          "thread": 140677621077824,
          "threadName": "MainThread"
         },
         {
          "asctime": "2021-03-24 04:54:40,516",
          "created": 1616561680.5166767,
          "extra": {},
          "filename": "async_executors.py",
          "funcName": "distribute_output_queue",
          "levelname": "DEBUG",
          "lineno": 308,
          "message": "NonSparkPath_2: ---- dist output: b'__!\\tEndOfStream\\t!__' -> ('ReadCsvProjectSpace_2', 'filename')",
          "name": "engine.logs:NonSparkPath_2",
          "pathname": "/usr/local/lib/python3.7/dist-packages/razor/flow/async_executors.py",
          "process": 2920,
          "processName": "ForkProcess-1:4",
          "thread": 140677621077824,
          "threadName": "MainThread"
         },
         {
          "asctime": "2021-03-24 04:54:40,529",
          "created": 1616561680.5293376,
          "extra": {},
          "filename": "async_executors.py",
          "funcName": "main",
          "levelname": "DEBUG",
          "lineno": 114,
          "message": "DropDuplicates_1: started async block execution\n",
          "name": "engine.logs:DropDuplicates_1",
          "pathname": "/usr/local/lib/python3.7/dist-packages/razor/flow/async_executors.py",
          "process": 2931,
          "processName": "ForkProcess-1:5",
          "thread": 140677621077824,
          "threadName": "MainThread"
         },
         {
          "asctime": "2021-03-24 04:54:40,530",
          "created": 1616561680.5305946,
          "extra": {},
          "filename": "async_executors.py",
          "funcName": "main",
          "levelname": "DEBUG",
          "lineno": 114,
          "message": "ReadCsvProjectSpace_1: started async block execution\n",
          "name": "engine.logs:ReadCsvProjectSpace_1",
          "pathname": "/usr/local/lib/python3.7/dist-packages/razor/flow/async_executors.py",
          "process": 2931,
          "processName": "ForkProcess-1:5",
          "thread": 140677621077824,
          "threadName": "MainThread"
         },
         {
          "asctime": "2021-03-24 04:54:40,531",
          "created": 1616561680.5310047,
          "extra": {},
          "filename": "async_executors.py",
          "funcName": "main",
          "levelname": "DEBUG",
          "lineno": 114,
          "message": "ReadCsvProjectSpace_2: started async block execution\n",
          "name": "engine.logs:ReadCsvProjectSpace_2",
          "pathname": "/usr/local/lib/python3.7/dist-packages/razor/flow/async_executors.py",
          "process": 2931,
          "processName": "ForkProcess-1:5",
          "thread": 140677621077824,
          "threadName": "MainThread"
         },
         {
          "asctime": "2021-03-24 04:54:40,531",
          "created": 1616561680.531925,
          "extra": {},
          "filename": "async_executors.py",
          "funcName": "main",
          "levelname": "DEBUG",
          "lineno": 114,
          "message": "ConcatData_1: started async block execution\n",
          "name": "engine.logs:ConcatData_1",
          "pathname": "/usr/local/lib/python3.7/dist-packages/razor/flow/async_executors.py",
          "process": 2931,
          "processName": "ForkProcess-1:5",
          "thread": 140677621077824,
          "threadName": "MainThread"
         },
         {
          "asctime": "2021-03-24 04:54:40,531",
          "created": 1616561680.5314307,
          "extra": {},
          "filename": "async_executors.py",
          "funcName": "main",
          "levelname": "DEBUG",
          "lineno": 114,
          "message": "SelectData_1: started async block execution\n",
          "name": "engine.logs:SelectData_1",
          "pathname": "/usr/local/lib/python3.7/dist-packages/razor/flow/async_executors.py",
          "process": 2931,
          "processName": "ForkProcess-1:5",
          "thread": 140677621077824,
          "threadName": "MainThread"
         },
         {
          "asctime": "2021-03-24 04:54:40,532",
          "created": 1616561680.5323367,
          "extra": {},
          "filename": "async_executors.py",
          "funcName": "main",
          "levelname": "DEBUG",
          "lineno": 114,
          "message": "RenameCol_1: started async block execution\n",
          "name": "engine.logs:RenameCol_1",
          "pathname": "/usr/local/lib/python3.7/dist-packages/razor/flow/async_executors.py",
          "process": 2931,
          "processName": "ForkProcess-1:5",
          "thread": 140677621077824,
          "threadName": "MainThread"
         },
         {
          "asctime": "2021-03-24 04:54:40,532",
          "created": 1616561680.5327072,
          "extra": {},
          "filename": "async_executors.py",
          "funcName": "main",
          "levelname": "DEBUG",
          "lineno": 114,
          "message": "ConcatData_2: started async block execution\n",
          "name": "engine.logs:ConcatData_2",
          "pathname": "/usr/local/lib/python3.7/dist-packages/razor/flow/async_executors.py",
          "process": 2931,
          "processName": "ForkProcess-1:5",
          "thread": 140677621077824,
          "threadName": "MainThread"
         },
         {
          "asctime": "2021-03-24 04:54:40,533",
          "created": 1616561680.5331697,
          "extra": {},
          "filename": "async_executors.py",
          "funcName": "main",
          "levelname": "DEBUG",
          "lineno": 114,
          "message": "SelectData_2: started async block execution\n",
          "name": "engine.logs:SelectData_2",
          "pathname": "/usr/local/lib/python3.7/dist-packages/razor/flow/async_executors.py",
          "process": 2931,
          "processName": "ForkProcess-1:5",
          "thread": 140677621077824,
          "threadName": "MainThread"
         },
         {
          "asctime": "2021-03-24 04:54:40,682",
          "created": 1616561680.6824245,
          "extra": {},
          "filename": "async_executors.py",
          "funcName": "start_input_receiver",
          "levelname": "DEBUG",
          "lineno": 173,
          "message": "NonSparkPath_1: received cmd: start_sender, (), {'out_name': 'op_path', 'target': ('ReadCsvProjectSpace_1', 'filename'), 'out_addr': 'tcp://0.0.0.0:50209', 'in_memory': None}",
          "name": "engine.logs:NonSparkPath_1",
          "pathname": "/usr/local/lib/python3.7/dist-packages/razor/flow/async_executors.py",
          "process": 2909,
          "processName": "ForkProcess-1:2",
          "thread": 140677621077824,
          "threadName": "MainThread"
         },
         {
          "asctime": "2021-03-24 04:54:40,684",
          "created": 1616561680.6842117,
          "extra": {},
          "filename": "async_executors.py",
          "funcName": "start_input_receiver",
          "levelname": "DEBUG",
          "lineno": 173,
          "message": "NonSparkPath_2: received cmd: start_sender, (), {'out_name': 'op_path', 'target': ('ReadCsvProjectSpace_2', 'filename'), 'out_addr': 'tcp://0.0.0.0:57848', 'in_memory': None}",
          "name": "engine.logs:NonSparkPath_2",
          "pathname": "/usr/local/lib/python3.7/dist-packages/razor/flow/async_executors.py",
          "process": 2920,
          "processName": "ForkProcess-1:4",
          "thread": 140677621077824,
          "threadName": "MainThread"
         },
         {
          "asctime": "2021-03-24 04:54:40,682",
          "created": 1616561680.6827018,
          "extra": {},
          "filename": "async_executors.py",
          "funcName": "start_output_sender",
          "levelname": "DEBUG",
          "lineno": 370,
          "message": "NonSparkPath_1: got start_sender, op_path, ('ReadCsvProjectSpace_1', 'filename')",
          "name": "engine.logs:NonSparkPath_1",
          "pathname": "/usr/local/lib/python3.7/dist-packages/razor/flow/async_executors.py",
          "process": 2909,
          "processName": "ForkProcess-1:2",
          "thread": 140677621077824,
          "threadName": "MainThread"
         },
         {
          "asctime": "2021-03-24 04:54:40,684",
          "created": 1616561680.6844683,
          "extra": {},
          "filename": "async_executors.py",
          "funcName": "start_output_sender",
          "levelname": "DEBUG",
          "lineno": 370,
          "message": "NonSparkPath_2: got start_sender, op_path, ('ReadCsvProjectSpace_2', 'filename')",
          "name": "engine.logs:NonSparkPath_2",
          "pathname": "/usr/local/lib/python3.7/dist-packages/razor/flow/async_executors.py",
          "process": 2920,
          "processName": "ForkProcess-1:4",
          "thread": 140677621077824,
          "threadName": "MainThread"
         },
         {
          "asctime": "2021-03-24 04:54:40,547",
          "created": 1616561680.5476227,
          "extra": {},
          "filename": "async_executors.py",
          "funcName": "fill_atomic_inputs",
          "levelname": "INFO",
          "lineno": 250,
          "message": "DropDuplicates_1: waiting for atomic input: inputData",
          "name": "engine.logs:DropDuplicates_1",
          "pathname": "/usr/local/lib/python3.7/dist-packages/razor/flow/async_executors.py",
          "process": 2931,
          "processName": "ForkProcess-1:5",
          "thread": 140677621077824,
          "threadName": "MainThread"
         },
         {
          "asctime": "2021-03-24 04:54:40,566",
          "created": 1616561680.566022,
          "extra": {},
          "filename": "async_executors.py",
          "funcName": "fill_atomic_inputs",
          "levelname": "INFO",
          "lineno": 250,
          "message": "ReadCsvProjectSpace_1: waiting for atomic input: filename",
          "name": "engine.logs:ReadCsvProjectSpace_1",
          "pathname": "/usr/local/lib/python3.7/dist-packages/razor/flow/async_executors.py",
          "process": 2931,
          "processName": "ForkProcess-1:5",
          "thread": 140677621077824,
          "threadName": "MainThread"
         },
         {
          "asctime": "2021-03-24 04:54:40,580",
          "created": 1616561680.5804963,
          "extra": {},
          "filename": "async_executors.py",
          "funcName": "fill_atomic_inputs",
          "levelname": "INFO",
          "lineno": 250,
          "message": "ReadCsvProjectSpace_2: waiting for atomic input: filename",
          "name": "engine.logs:ReadCsvProjectSpace_2",
          "pathname": "/usr/local/lib/python3.7/dist-packages/razor/flow/async_executors.py",
          "process": 2931,
          "processName": "ForkProcess-1:5",
          "thread": 140677621077824,
          "threadName": "MainThread"
         },
         {
          "asctime": "2021-03-24 04:54:40,606",
          "created": 1616561680.6060123,
          "extra": {},
          "filename": "async_executors.py",
          "funcName": "fill_atomic_inputs",
          "levelname": "INFO",
          "lineno": 250,
          "message": "ConcatData_1: waiting for atomic input: inputData_1",
          "name": "engine.logs:ConcatData_1",
          "pathname": "/usr/local/lib/python3.7/dist-packages/razor/flow/async_executors.py",
          "process": 2931,
          "processName": "ForkProcess-1:5",
          "thread": 140677621077824,
          "threadName": "MainThread"
         },
         {
          "asctime": "2021-03-24 04:54:40,593",
          "created": 1616561680.5934763,
          "extra": {},
          "filename": "async_executors.py",
          "funcName": "fill_atomic_inputs",
          "levelname": "INFO",
          "lineno": 250,
          "message": "SelectData_1: waiting for atomic input: wanted_cols",
          "name": "engine.logs:SelectData_1",
          "pathname": "/usr/local/lib/python3.7/dist-packages/razor/flow/async_executors.py",
          "process": 2931,
          "processName": "ForkProcess-1:5",
          "thread": 140677621077824,
          "threadName": "MainThread"
         },
         {
          "asctime": "2021-03-24 04:54:40,618",
          "created": 1616561680.6185973,
          "extra": {},
          "filename": "async_executors.py",
          "funcName": "fill_atomic_inputs",
          "levelname": "INFO",
          "lineno": 250,
          "message": "RenameCol_1: waiting for atomic input: inputData",
          "name": "engine.logs:RenameCol_1",
          "pathname": "/usr/local/lib/python3.7/dist-packages/razor/flow/async_executors.py",
          "process": 2931,
          "processName": "ForkProcess-1:5",
          "thread": 140677621077824,
          "threadName": "MainThread"
         },
         {
          "asctime": "2021-03-24 04:54:40,631",
          "created": 1616561680.6313891,
          "extra": {},
          "filename": "async_executors.py",
          "funcName": "fill_atomic_inputs",
          "levelname": "INFO",
          "lineno": 250,
          "message": "ConcatData_2: waiting for atomic input: inputData_1",
          "name": "engine.logs:ConcatData_2",
          "pathname": "/usr/local/lib/python3.7/dist-packages/razor/flow/async_executors.py",
          "process": 2931,
          "processName": "ForkProcess-1:5",
          "thread": 140677621077824,
          "threadName": "MainThread"
         },
         {
          "asctime": "2021-03-24 04:54:40,654",
          "created": 1616561680.6541076,
          "extra": {},
          "filename": "async_executors.py",
          "funcName": "fill_atomic_inputs",
          "levelname": "INFO",
          "lineno": 250,
          "message": "SelectData_2: waiting for atomic input: wanted_cols",
          "name": "engine.logs:SelectData_2",
          "pathname": "/usr/local/lib/python3.7/dist-packages/razor/flow/async_executors.py",
          "process": 2931,
          "processName": "ForkProcess-1:5",
          "thread": 140677621077824,
          "threadName": "MainThread"
         },
         {
          "asctime": "2021-03-24 04:54:40,683",
          "created": 1616561680.6833954,
          "extra": {},
          "filename": "async_executors.py",
          "funcName": "start_output_sender",
          "levelname": "DEBUG",
          "lineno": 388,
          "message": "NonSparkPath_1: SENT, filename, /home/aios/projectspace/df_with_stats.csv, ('ReadCsvProjectSpace_1', 'filename')",
          "name": "engine.logs:NonSparkPath_1",
          "pathname": "/usr/local/lib/python3.7/dist-packages/razor/flow/async_executors.py",
          "process": 2909,
          "processName": "ForkProcess-1:2",
          "thread": 140677621077824,
          "threadName": "MainThread"
         },
         {
          "asctime": "2021-03-24 04:54:40,685",
          "created": 1616561680.6851466,
          "extra": {},
          "filename": "async_executors.py",
          "funcName": "start_output_sender",
          "levelname": "DEBUG",
          "lineno": 388,
          "message": "NonSparkPath_2: SENT, filename, /home/aios/projectspace/train_hatespeech.csv, ('ReadCsvProjectSpace_2', 'filename')",
          "name": "engine.logs:NonSparkPath_2",
          "pathname": "/usr/local/lib/python3.7/dist-packages/razor/flow/async_executors.py",
          "process": 2920,
          "processName": "ForkProcess-1:4",
          "thread": 140677621077824,
          "threadName": "MainThread"
         },
         {
          "asctime": "2021-03-24 04:54:40,688",
          "created": 1616561680.6886463,
          "extra": {},
          "filename": "async_executors.py",
          "funcName": "start_input_receiver",
          "levelname": "DEBUG",
          "lineno": 173,
          "message": "NonSparkCols_2: received cmd: start_sender, (), {'out_name': 'selected_cols', 'target': ('SelectData_2', 'wanted_cols'), 'out_addr': 'tcp://0.0.0.0:58842', 'in_memory': None}",
          "name": "engine.logs:NonSparkCols_2",
          "pathname": "/usr/local/lib/python3.7/dist-packages/razor/flow/async_executors.py",
          "process": 2914,
          "processName": "ForkProcess-1:3",
          "thread": 140677621077824,
          "threadName": "MainThread"
         },
         {
          "asctime": "2021-03-24 04:54:40,688",
          "created": 1616561680.6889522,
          "extra": {},
          "filename": "async_executors.py",
          "funcName": "start_output_sender",
          "levelname": "DEBUG",
          "lineno": 370,
          "message": "NonSparkCols_2: got start_sender, selected_cols, ('SelectData_2', 'wanted_cols')",
          "name": "engine.logs:NonSparkCols_2",
          "pathname": "/usr/local/lib/python3.7/dist-packages/razor/flow/async_executors.py",
          "process": 2914,
          "processName": "ForkProcess-1:3",
          "thread": 140677621077824,
          "threadName": "MainThread"
         },
         {
          "asctime": "2021-03-24 04:54:40,685",
          "created": 1616561680.685393,
          "extra": {},
          "filename": "async_executors.py",
          "funcName": "start_output_sender",
          "levelname": "DEBUG",
          "lineno": 388,
          "message": "NonSparkPath_2: SENT, filename, b'__!\\tEndOfStream\\t!__', ('ReadCsvProjectSpace_2', 'filename')",
          "name": "engine.logs:NonSparkPath_2",
          "pathname": "/usr/local/lib/python3.7/dist-packages/razor/flow/async_executors.py",
          "process": 2920,
          "processName": "ForkProcess-1:4",
          "thread": 140677621077824,
          "threadName": "MainThread"
         },
         {
          "asctime": "2021-03-24 04:54:40,683",
          "created": 1616561680.68363,
          "extra": {},
          "filename": "async_executors.py",
          "funcName": "start_output_sender",
          "levelname": "DEBUG",
          "lineno": 388,
          "message": "NonSparkPath_1: SENT, filename, b'__!\\tEndOfStream\\t!__', ('ReadCsvProjectSpace_1', 'filename')",
          "name": "engine.logs:NonSparkPath_1",
          "pathname": "/usr/local/lib/python3.7/dist-packages/razor/flow/async_executors.py",
          "process": 2909,
          "processName": "ForkProcess-1:2",
          "thread": 140677621077824,
          "threadName": "MainThread"
         },
         {
          "asctime": "2021-03-24 04:54:40,689",
          "created": 1616561680.6896832,
          "extra": {},
          "filename": "async_executors.py",
          "funcName": "start_output_sender",
          "levelname": "DEBUG",
          "lineno": 388,
          "message": "NonSparkCols_2: SENT, wanted_cols, ['tweet', 'class'], ('SelectData_2', 'wanted_cols')",
          "name": "engine.logs:NonSparkCols_2",
          "pathname": "/usr/local/lib/python3.7/dist-packages/razor/flow/async_executors.py",
          "process": 2914,
          "processName": "ForkProcess-1:3",
          "thread": 140677621077824,
          "threadName": "MainThread"
         },
         {
          "asctime": "2021-03-24 04:54:40,693",
          "created": 1616561680.6931489,
          "extra": {},
          "filename": "async_executors.py",
          "funcName": "start_input_receiver",
          "levelname": "DEBUG",
          "lineno": 177,
          "message": "SelectData_2: received data: wanted_cols, ['tweet', 'class']",
          "name": "engine.logs:SelectData_2",
          "pathname": "/usr/local/lib/python3.7/dist-packages/razor/flow/async_executors.py",
          "process": 2931,
          "processName": "ForkProcess-1:5",
          "thread": 140677621077824,
          "threadName": "MainThread"
         },
         {
          "asctime": "2021-03-24 04:54:40,689",
          "created": 1616561680.6899667,
          "extra": {},
          "filename": "async_executors.py",
          "funcName": "start_output_sender",
          "levelname": "DEBUG",
          "lineno": 388,
          "message": "NonSparkCols_2: SENT, wanted_cols, b'__!\\tEndOfStream\\t!__', ('SelectData_2', 'wanted_cols')",
          "name": "engine.logs:NonSparkCols_2",
          "pathname": "/usr/local/lib/python3.7/dist-packages/razor/flow/async_executors.py",
          "process": 2914,
          "processName": "ForkProcess-1:3",
          "thread": 140677621077824,
          "threadName": "MainThread"
         },
         {
          "asctime": "2021-03-24 04:54:40,685",
          "created": 1616561680.6856537,
          "extra": {},
          "filename": "async_executors.py",
          "funcName": "start_output_sender",
          "levelname": "DEBUG",
          "lineno": 391,
          "message": "NonSparkPath_2: completed output: ('op_path', ('ReadCsvProjectSpace_2', 'filename'))",
          "name": "engine.logs:NonSparkPath_2",
          "pathname": "/usr/local/lib/python3.7/dist-packages/razor/flow/async_executors.py",
          "process": 2920,
          "processName": "ForkProcess-1:4",
          "thread": 140677621077824,
          "threadName": "MainThread"
         },
         {
          "asctime": "2021-03-24 04:54:40,683",
          "created": 1616561680.6838722,
          "extra": {},
          "filename": "async_executors.py",
          "funcName": "start_output_sender",
          "levelname": "DEBUG",
          "lineno": 391,
          "message": "NonSparkPath_1: completed output: ('op_path', ('ReadCsvProjectSpace_1', 'filename'))",
          "name": "engine.logs:NonSparkPath_1",
          "pathname": "/usr/local/lib/python3.7/dist-packages/razor/flow/async_executors.py",
          "process": 2909,
          "processName": "ForkProcess-1:2",
          "thread": 140677621077824,
          "threadName": "MainThread"
         },
         {
          "asctime": "2021-03-24 04:54:40,693",
          "created": 1616561680.6931407,
          "extra": {},
          "filename": "async_executors.py",
          "funcName": "start_input_receiver",
          "levelname": "DEBUG",
          "lineno": 173,
          "message": "NonSparkCols_1: received cmd: start_sender, (), {'out_name': 'selected_cols', 'target': ('SelectData_1', 'wanted_cols'), 'out_addr': 'tcp://0.0.0.0:53975', 'in_memory': None}",
          "name": "engine.logs:NonSparkCols_1",
          "pathname": "/usr/local/lib/python3.7/dist-packages/razor/flow/async_executors.py",
          "process": 2904,
          "processName": "ForkProcess-1:1",
          "thread": 140677621077824,
          "threadName": "MainThread"
         },
         {
          "asctime": "2021-03-24 04:54:40,692",
          "created": 1616561680.6928585,
          "extra": {},
          "filename": "async_executors.py",
          "funcName": "start_input_receiver",
          "levelname": "DEBUG",
          "lineno": 177,
          "message": "ReadCsvProjectSpace_1: received data: filename, /home/aios/projectspace/df_with_stats.csv",
          "name": "engine.logs:ReadCsvProjectSpace_1",
          "pathname": "/usr/local/lib/python3.7/dist-packages/razor/flow/async_executors.py",
          "process": 2931,
          "processName": "ForkProcess-1:5",
          "thread": 140677621077824,
          "threadName": "MainThread"
         },
         {
          "asctime": "2021-03-24 04:54:40,693",
          "created": 1616561680.6930268,
          "extra": {},
          "filename": "async_executors.py",
          "funcName": "start_input_receiver",
          "levelname": "DEBUG",
          "lineno": 177,
          "message": "ReadCsvProjectSpace_2: received data: filename, /home/aios/projectspace/train_hatespeech.csv",
          "name": "engine.logs:ReadCsvProjectSpace_2",
          "pathname": "/usr/local/lib/python3.7/dist-packages/razor/flow/async_executors.py",
          "process": 2931,
          "processName": "ForkProcess-1:5",
          "thread": 140677621077824,
          "threadName": "MainThread"
         },
         {
          "asctime": "2021-03-24 04:54:40,696",
          "created": 1616561680.6966019,
          "extra": {},
          "filename": "async_executors.py",
          "funcName": "start_input_receiver",
          "levelname": "DEBUG",
          "lineno": 173,
          "message": "NonSparkPath_2: received cmd: terminate, (), {}",
          "name": "engine.logs:NonSparkPath_2",
          "pathname": "/usr/local/lib/python3.7/dist-packages/razor/flow/async_executors.py",
          "process": 2920,
          "processName": "ForkProcess-1:4",
          "thread": 140677621077824,
          "threadName": "MainThread"
         },
         {
          "asctime": "2021-03-24 04:54:40,693",
          "created": 1616561680.6934333,
          "extra": {},
          "filename": "async_executors.py",
          "funcName": "start_output_sender",
          "levelname": "DEBUG",
          "lineno": 370,
          "message": "NonSparkCols_1: got start_sender, selected_cols, ('SelectData_1', 'wanted_cols')",
          "name": "engine.logs:NonSparkCols_1",
          "pathname": "/usr/local/lib/python3.7/dist-packages/razor/flow/async_executors.py",
          "process": 2904,
          "processName": "ForkProcess-1:1",
          "thread": 140677621077824,
          "threadName": "MainThread"
         },
         {
          "asctime": "2021-03-24 04:54:40,690",
          "created": 1616561680.6903195,
          "extra": {},
          "filename": "async_executors.py",
          "funcName": "start_output_sender",
          "levelname": "DEBUG",
          "lineno": 391,
          "message": "NonSparkCols_2: completed output: ('selected_cols', ('SelectData_2', 'wanted_cols'))",
          "name": "engine.logs:NonSparkCols_2",
          "pathname": "/usr/local/lib/python3.7/dist-packages/razor/flow/async_executors.py",
          "process": 2914,
          "processName": "ForkProcess-1:3",
          "thread": 140677621077824,
          "threadName": "MainThread"
         },
         {
          "asctime": "2021-03-24 04:54:40,694",
          "created": 1616561680.6941624,
          "extra": {},
          "filename": "async_executors.py",
          "funcName": "start_output_sender",
          "levelname": "DEBUG",
          "lineno": 388,
          "message": "NonSparkCols_1: SENT, wanted_cols, ['title', 'label'], ('SelectData_1', 'wanted_cols')",
          "name": "engine.logs:NonSparkCols_1",
          "pathname": "/usr/local/lib/python3.7/dist-packages/razor/flow/async_executors.py",
          "process": 2904,
          "processName": "ForkProcess-1:1",
          "thread": 140677621077824,
          "threadName": "MainThread"
         },
         {
          "asctime": "2021-03-24 04:54:40,703",
          "created": 1616561680.7031744,
          "extra": {},
          "filename": "async_executors.py",
          "funcName": "start_input_receiver",
          "levelname": "DEBUG",
          "lineno": 173,
          "message": "NonSparkPath_1: received cmd: terminate, (), {}",
          "name": "engine.logs:NonSparkPath_1",
          "pathname": "/usr/local/lib/python3.7/dist-packages/razor/flow/async_executors.py",
          "process": 2909,
          "processName": "ForkProcess-1:2",
          "thread": 140677621077824,
          "threadName": "MainThread"
         },
         {
          "asctime": "2021-03-24 04:54:40,694",
          "created": 1616561680.6943555,
          "extra": {},
          "filename": "async_executors.py",
          "funcName": "start_output_sender",
          "levelname": "DEBUG",
          "lineno": 388,
          "message": "NonSparkCols_1: SENT, wanted_cols, b'__!\\tEndOfStream\\t!__', ('SelectData_1', 'wanted_cols')",
          "name": "engine.logs:NonSparkCols_1",
          "pathname": "/usr/local/lib/python3.7/dist-packages/razor/flow/async_executors.py",
          "process": 2904,
          "processName": "ForkProcess-1:1",
          "thread": 140677621077824,
          "threadName": "MainThread"
         },
         {
          "asctime": "2021-03-24 04:54:40,694",
          "created": 1616561680.6945825,
          "extra": {},
          "filename": "async_executors.py",
          "funcName": "start_output_sender",
          "levelname": "DEBUG",
          "lineno": 391,
          "message": "NonSparkCols_1: completed output: ('selected_cols', ('SelectData_1', 'wanted_cols'))",
          "name": "engine.logs:NonSparkCols_1",
          "pathname": "/usr/local/lib/python3.7/dist-packages/razor/flow/async_executors.py",
          "process": 2904,
          "processName": "ForkProcess-1:1",
          "thread": 140677621077824,
          "threadName": "MainThread"
         },
         {
          "asctime": "2021-03-24 04:54:40,709",
          "created": 1616561680.7097688,
          "extra": {},
          "filename": "async_executors.py",
          "funcName": "start_input_receiver",
          "levelname": "DEBUG",
          "lineno": 173,
          "message": "NonSparkCols_1: received cmd: terminate, (), {}",
          "name": "engine.logs:NonSparkCols_1",
          "pathname": "/usr/local/lib/python3.7/dist-packages/razor/flow/async_executors.py",
          "process": 2904,
          "processName": "ForkProcess-1:1",
          "thread": 140677621077824,
          "threadName": "MainThread"
         },
         {
          "asctime": "2021-03-24 04:54:40,715",
          "created": 1616561680.7154937,
          "extra": {},
          "filename": "async_executors.py",
          "funcName": "start_input_receiver",
          "levelname": "DEBUG",
          "lineno": 173,
          "message": "NonSparkCols_2: received cmd: terminate, (), {}",
          "name": "engine.logs:NonSparkCols_2",
          "pathname": "/usr/local/lib/python3.7/dist-packages/razor/flow/async_executors.py",
          "process": 2914,
          "processName": "ForkProcess-1:3",
          "thread": 140677621077824,
          "threadName": "MainThread"
         },
         {
          "asctime": "2021-03-24 04:54:40,693",
          "created": 1616561680.693405,
          "extra": {},
          "filename": "async_executors.py",
          "funcName": "start_input_receiver",
          "levelname": "DEBUG",
          "lineno": 177,
          "message": "ReadCsvProjectSpace_1: received data: filename, b'__!\\tEndOfStream\\t!__'",
          "name": "engine.logs:ReadCsvProjectSpace_1",
          "pathname": "/usr/local/lib/python3.7/dist-packages/razor/flow/async_executors.py",
          "process": 2931,
          "processName": "ForkProcess-1:5",
          "thread": 140677621077824,
          "threadName": "MainThread"
         },
         {
          "asctime": "2021-03-24 04:54:40,693",
          "created": 1616561680.6935256,
          "extra": {},
          "filename": "async_executors.py",
          "funcName": "start_input_receiver",
          "levelname": "DEBUG",
          "lineno": 177,
          "message": "ReadCsvProjectSpace_2: received data: filename, b'__!\\tEndOfStream\\t!__'",
          "name": "engine.logs:ReadCsvProjectSpace_2",
          "pathname": "/usr/local/lib/python3.7/dist-packages/razor/flow/async_executors.py",
          "process": 2931,
          "processName": "ForkProcess-1:5",
          "thread": 140677621077824,
          "threadName": "MainThread"
         },
         {
          "asctime": "2021-03-24 04:54:40,693",
          "created": 1616561680.6937442,
          "extra": {},
          "filename": "async_executors.py",
          "funcName": "start_input_receiver",
          "levelname": "DEBUG",
          "lineno": 177,
          "message": "SelectData_2: received data: wanted_cols, b'__!\\tEndOfStream\\t!__'",
          "name": "engine.logs:SelectData_2",
          "pathname": "/usr/local/lib/python3.7/dist-packages/razor/flow/async_executors.py",
          "process": 2931,
          "processName": "ForkProcess-1:5",
          "thread": 140677621077824,
          "threadName": "MainThread"
         },
         {
          "asctime": "2021-03-24 04:54:40,693",
          "created": 1616561680.6938825,
          "extra": {},
          "filename": "async_executors.py",
          "funcName": "fill_atomic_inputs",
          "levelname": "DEBUG",
          "lineno": 253,
          "message": "ReadCsvProjectSpace_1: got atomic input: /home/aios/projectspace/df_with_stats.csv",
          "name": "engine.logs:ReadCsvProjectSpace_1",
          "pathname": "/usr/local/lib/python3.7/dist-packages/razor/flow/async_executors.py",
          "process": 2931,
          "processName": "ForkProcess-1:5",
          "thread": 140677621077824,
          "threadName": "MainThread"
         },
         {
          "asctime": "2021-03-24 04:54:40,698",
          "created": 1616561680.698674,
          "extra": {},
          "filename": "async_executors.py",
          "funcName": "fill_atomic_inputs",
          "levelname": "DEBUG",
          "lineno": 253,
          "message": "SelectData_2: got atomic input: ['tweet', 'class']",
          "name": "engine.logs:SelectData_2",
          "pathname": "/usr/local/lib/python3.7/dist-packages/razor/flow/async_executors.py",
          "process": 2931,
          "processName": "ForkProcess-1:5",
          "thread": 140677621077824,
          "threadName": "MainThread"
         },
         {
          "asctime": "2021-03-24 04:54:40,696",
          "created": 1616561680.696368,
          "extra": {},
          "filename": "async_executors.py",
          "funcName": "fill_atomic_inputs",
          "levelname": "DEBUG",
          "lineno": 253,
          "message": "ReadCsvProjectSpace_2: got atomic input: /home/aios/projectspace/train_hatespeech.csv",
          "name": "engine.logs:ReadCsvProjectSpace_2",
          "pathname": "/usr/local/lib/python3.7/dist-packages/razor/flow/async_executors.py",
          "process": 2931,
          "processName": "ForkProcess-1:5",
          "thread": 140677621077824,
          "threadName": "MainThread"
         },
         {
          "asctime": "2021-03-24 04:54:40,696",
          "created": 1616561680.6964662,
          "extra": {},
          "filename": "async_executors.py",
          "funcName": "fill_atomic_inputs",
          "levelname": "INFO",
          "lineno": 250,
          "message": "ReadCsvProjectSpace_2: waiting for atomic input: config",
          "name": "engine.logs:ReadCsvProjectSpace_2",
          "pathname": "/usr/local/lib/python3.7/dist-packages/razor/flow/async_executors.py",
          "process": 2931,
          "processName": "ForkProcess-1:5",
          "thread": 140677621077824,
          "threadName": "MainThread"
         },
         {
          "asctime": "2021-03-24 04:54:40,698",
          "created": 1616561680.698797,
          "extra": {},
          "filename": "async_executors.py",
          "funcName": "fill_atomic_inputs",
          "levelname": "INFO",
          "lineno": 250,
          "message": "SelectData_2: waiting for atomic input: inputData",
          "name": "engine.logs:SelectData_2",
          "pathname": "/usr/local/lib/python3.7/dist-packages/razor/flow/async_executors.py",
          "process": 2931,
          "processName": "ForkProcess-1:5",
          "thread": 140677621077824,
          "threadName": "MainThread"
         },
         {
          "asctime": "2021-03-24 04:54:40,693",
          "created": 1616561680.6939285,
          "extra": {},
          "filename": "async_executors.py",
          "funcName": "fill_atomic_inputs",
          "levelname": "INFO",
          "lineno": 250,
          "message": "ReadCsvProjectSpace_1: waiting for atomic input: config",
          "name": "engine.logs:ReadCsvProjectSpace_1",
          "pathname": "/usr/local/lib/python3.7/dist-packages/razor/flow/async_executors.py",
          "process": 2931,
          "processName": "ForkProcess-1:5",
          "thread": 140677621077824,
          "threadName": "MainThread"
         },
         {
          "asctime": "2021-03-24 04:54:40,696",
          "created": 1616561680.6965184,
          "extra": {},
          "filename": "async_executors.py",
          "funcName": "fill_atomic_inputs",
          "levelname": "DEBUG",
          "lineno": 253,
          "message": "ReadCsvProjectSpace_2: got atomic input: {}",
          "name": "engine.logs:ReadCsvProjectSpace_2",
          "pathname": "/usr/local/lib/python3.7/dist-packages/razor/flow/async_executors.py",
          "process": 2931,
          "processName": "ForkProcess-1:5",
          "thread": 140677621077824,
          "threadName": "MainThread"
         },
         {
          "asctime": "2021-03-24 04:54:40,693",
          "created": 1616561680.6939726,
          "extra": {},
          "filename": "async_executors.py",
          "funcName": "fill_atomic_inputs",
          "levelname": "DEBUG",
          "lineno": 253,
          "message": "ReadCsvProjectSpace_1: got atomic input: {}",
          "name": "engine.logs:ReadCsvProjectSpace_1",
          "pathname": "/usr/local/lib/python3.7/dist-packages/razor/flow/async_executors.py",
          "process": 2931,
          "processName": "ForkProcess-1:5",
          "thread": 140677621077824,
          "threadName": "MainThread"
         },
         {
          "asctime": "2021-03-24 04:54:40,694",
          "created": 1616561680.6940057,
          "extra": {},
          "filename": "async_executors.py",
          "funcName": "fill_atomic_inputs",
          "levelname": "INFO",
          "lineno": 250,
          "message": "ReadCsvProjectSpace_1: waiting for atomic input: source",
          "name": "engine.logs:ReadCsvProjectSpace_1",
          "pathname": "/usr/local/lib/python3.7/dist-packages/razor/flow/async_executors.py",
          "process": 2931,
          "processName": "ForkProcess-1:5",
          "thread": 140677621077824,
          "threadName": "MainThread"
         },
         {
          "asctime": "2021-03-24 04:54:40,696",
          "created": 1616561680.696557,
          "extra": {},
          "filename": "async_executors.py",
          "funcName": "fill_atomic_inputs",
          "levelname": "INFO",
          "lineno": 250,
          "message": "ReadCsvProjectSpace_2: waiting for atomic input: source",
          "name": "engine.logs:ReadCsvProjectSpace_2",
          "pathname": "/usr/local/lib/python3.7/dist-packages/razor/flow/async_executors.py",
          "process": 2931,
          "processName": "ForkProcess-1:5",
          "thread": 140677621077824,
          "threadName": "MainThread"
         },
         {
          "asctime": "2021-03-24 04:54:40,726",
          "created": 1616561680.7269757,
          "extra": {},
          "filename": "async_executors.py",
          "funcName": "start_input_receiver",
          "levelname": "DEBUG",
          "lineno": 177,
          "message": "SelectData_1: received data: wanted_cols, ['title', 'label']",
          "name": "engine.logs:SelectData_1",
          "pathname": "/usr/local/lib/python3.7/dist-packages/razor/flow/async_executors.py",
          "process": 2931,
          "processName": "ForkProcess-1:5",
          "thread": 140677621077824,
          "threadName": "MainThread"
         },
         {
          "asctime": "2021-03-24 04:54:40,694",
          "created": 1616561680.694065,
          "extra": {},
          "filename": "async_executors.py",
          "funcName": "fill_atomic_inputs",
          "levelname": "DEBUG",
          "lineno": 253,
          "message": "ReadCsvProjectSpace_1: got atomic input: ",
          "name": "engine.logs:ReadCsvProjectSpace_1",
          "pathname": "/usr/local/lib/python3.7/dist-packages/razor/flow/async_executors.py",
          "process": 2931,
          "processName": "ForkProcess-1:5",
          "thread": 140677621077824,
          "threadName": "MainThread"
         },
         {
          "asctime": "2021-03-24 04:54:40,696",
          "created": 1616561680.6965973,
          "extra": {},
          "filename": "async_executors.py",
          "funcName": "fill_atomic_inputs",
          "levelname": "DEBUG",
          "lineno": 253,
          "message": "ReadCsvProjectSpace_2: got atomic input: ",
          "name": "engine.logs:ReadCsvProjectSpace_2",
          "pathname": "/usr/local/lib/python3.7/dist-packages/razor/flow/async_executors.py",
          "process": 2931,
          "processName": "ForkProcess-1:5",
          "thread": 140677621077824,
          "threadName": "MainThread"
         },
         {
          "asctime": "2021-03-24 04:54:40,694",
          "created": 1616561680.6941059,
          "extra": {},
          "filename": "async_executors.py",
          "funcName": "main",
          "levelname": "DEBUG",
          "lineno": 130,
          "message": "ReadCsvProjectSpace_1: triggering block run",
          "name": "engine.logs:ReadCsvProjectSpace_1",
          "pathname": "/usr/local/lib/python3.7/dist-packages/razor/flow/async_executors.py",
          "process": 2931,
          "processName": "ForkProcess-1:5",
          "thread": 140677621077824,
          "threadName": "MainThread"
         },
         {
          "asctime": "2021-03-24 04:54:40,696",
          "created": 1616561680.696638,
          "extra": {},
          "filename": "async_executors.py",
          "funcName": "main",
          "levelname": "DEBUG",
          "lineno": 130,
          "message": "ReadCsvProjectSpace_2: triggering block run",
          "name": "engine.logs:ReadCsvProjectSpace_2",
          "pathname": "/usr/local/lib/python3.7/dist-packages/razor/flow/async_executors.py",
          "process": 2931,
          "processName": "ForkProcess-1:5",
          "thread": 140677621077824,
          "threadName": "MainThread"
         },
         {
          "asctime": "2021-03-24 04:54:40,792",
          "created": 1616561680.7921782,
          "extra": {},
          "filename": "async_executors.py",
          "funcName": "start_input_receiver",
          "levelname": "DEBUG",
          "lineno": 177,
          "message": "SelectData_1: received data: wanted_cols, b'__!\\tEndOfStream\\t!__'",
          "name": "engine.logs:SelectData_1",
          "pathname": "/usr/local/lib/python3.7/dist-packages/razor/flow/async_executors.py",
          "process": 2931,
          "processName": "ForkProcess-1:5",
          "thread": 140677621077824,
          "threadName": "MainThread"
         },
         {
          "asctime": "2021-03-24 04:54:40,953",
          "created": 1616561680.9534664,
          "extra": {},
          "filename": "async_executors.py",
          "funcName": "fill_atomic_inputs",
          "levelname": "DEBUG",
          "lineno": 253,
          "message": "SelectData_1: got atomic input: ['title', 'label']",
          "name": "engine.logs:SelectData_1",
          "pathname": "/usr/local/lib/python3.7/dist-packages/razor/flow/async_executors.py",
          "process": 2931,
          "processName": "ForkProcess-1:5",
          "thread": 140677621077824,
          "threadName": "MainThread"
         },
         {
          "asctime": "2021-03-24 04:54:40,953",
          "created": 1616561680.9535968,
          "extra": {},
          "filename": "async_executors.py",
          "funcName": "fill_atomic_inputs",
          "levelname": "INFO",
          "lineno": 250,
          "message": "SelectData_1: waiting for atomic input: inputData",
          "name": "engine.logs:SelectData_1",
          "pathname": "/usr/local/lib/python3.7/dist-packages/razor/flow/async_executors.py",
          "process": 2931,
          "processName": "ForkProcess-1:5",
          "thread": 140677621077824,
          "threadName": "MainThread"
         },
         {
          "asctime": "2021-03-24 04:54:50,698",
          "created": 1616561690.6981838,
          "exc_info": null,
          "extra": {},
          "filename": null,
          "full_message": null,
          "funcName": null,
          "levelname": "STDOUT",
          "lineno": null,
          "message": "Data Schema\n",
          "name": "block.stdout:ReadCsvProjectSpace_2",
          "pathname": null,
          "process": null,
          "processName": null,
          "thread": null,
          "threadName": null
         },
         {
          "asctime": "2021-03-24 04:54:50,698",
          "created": 1616561690.6986983,
          "exc_info": null,
          "extra": {},
          "filename": null,
          "full_message": null,
          "funcName": null,
          "levelname": "STDOUT",
          "lineno": null,
          "message": "Data Schema\n",
          "name": "block.stdout:ReadCsvProjectSpace_1",
          "pathname": null,
          "process": null,
          "processName": null,
          "thread": null,
          "threadName": null
         },
         {
          "asctime": "2021-03-24 04:54:50,747",
          "created": 1616561690.7477577,
          "exc_info": null,
          "extra": {},
          "filename": null,
          "full_message": null,
          "funcName": null,
          "levelname": "STDOUT",
          "lineno": null,
          "message": "root\n |-- Unnamed: 0: string (nullable = true)\n |-- count: string (nullable = true)\n |-- hate_speech: string (nullable = true)\n |-- offensive_language: string (nullable = true)\n |-- neither: string (nullable = true)\n |-- class: string (nullable = true)\n |-- tweet: string (nullable = true)\n\n",
          "name": "block.stdout:ReadCsvProjectSpace_2",
          "pathname": null,
          "process": null,
          "processName": null,
          "thread": null,
          "threadName": null
         },
         {
          "asctime": "2021-03-24 04:54:50,749",
          "created": 1616561690.749019,
          "exc_info": null,
          "extra": {},
          "filename": null,
          "full_message": null,
          "funcName": null,
          "levelname": "STDOUT",
          "lineno": null,
          "message": "root\n |-- filename: string (nullable = true)\n |-- url: string (nullable = true)\n |-- text: string (nullable = true)\n |-- title: string (nullable = true)\n |-- authors: string (nullable = true)\n |-- description: string (nullable = true)\n |-- generatorsite_name: string (nullable = true)\n |-- site: string (nullable = true)\n |-- publisher: string (nullable = true)\n |-- source: string (nullable = true)\n |-- keywords: string (nullable = true)\n |-- label: string (nullable = true)\n |-- generator: string (nullable = true)\n |-- site_name: string (nullable = true)\n |-- author_real_fake: string (nullable = true)\n |-- site_real_fake: string (nullable = true)\n |-- source_real_fake: string (nullable = true)\n\n",
          "name": "block.stdout:ReadCsvProjectSpace_1",
          "pathname": null,
          "process": null,
          "processName": null,
          "thread": null,
          "threadName": null
         },
         {
          "asctime": "2021-03-24 04:54:50,772",
          "created": 1616561690.7724717,
          "extra": {},
          "filename": "async_executors.py",
          "funcName": "distribute_output_queue",
          "levelname": "DEBUG",
          "lineno": 308,
          "message": "ReadCsvProjectSpace_2: ---- dist output: DataFrame[Unnamed: 0: string, count: string, hate_speech: string, offensive_language: string, neither: string, class: string, tweet: string] -> ('SelectData_2', 'inputData')",
          "name": "engine.logs:ReadCsvProjectSpace_2",
          "pathname": "/usr/local/lib/python3.7/dist-packages/razor/flow/async_executors.py",
          "process": 2931,
          "processName": "ForkProcess-1:5",
          "thread": 140677621077824,
          "threadName": "MainThread"
         },
         {
          "asctime": "2021-03-24 04:54:50,775",
          "created": 1616561690.775569,
          "extra": {},
          "filename": "async_executors.py",
          "funcName": "main",
          "levelname": "DEBUG",
          "lineno": 147,
          "message": "ReadCsvProjectSpace_2: block thread completed",
          "name": "engine.logs:ReadCsvProjectSpace_2",
          "pathname": "/usr/local/lib/python3.7/dist-packages/razor/flow/async_executors.py",
          "process": 2931,
          "processName": "ForkProcess-1:5",
          "thread": 140677621077824,
          "threadName": "MainThread"
         },
         {
          "asctime": "2021-03-24 04:54:50,775",
          "created": 1616561690.7752376,
          "extra": {},
          "filename": "async_executors.py",
          "funcName": "distribute_output_queue",
          "levelname": "DEBUG",
          "lineno": 308,
          "message": "ReadCsvProjectSpace_1: ---- dist output: DataFrame[filename: string, url: string, text: string, title: string, authors: string, description: string, generatorsite_name: string, site: string, publisher: string, source: string, keywords: string, label: string, generator: string, site_name: string, author_real_fake: string, site_real_fake: string, source_real_fake: string] -> ('SelectData_1', 'inputData')",
          "name": "engine.logs:ReadCsvProjectSpace_1",
          "pathname": "/usr/local/lib/python3.7/dist-packages/razor/flow/async_executors.py",
          "process": 2931,
          "processName": "ForkProcess-1:5",
          "thread": 140677621077824,
          "threadName": "MainThread"
         },
         {
          "asctime": "2021-03-24 04:54:50,775",
          "created": 1616561690.7756507,
          "extra": {},
          "filename": "async_executors.py",
          "funcName": "main",
          "levelname": "DEBUG",
          "lineno": 149,
          "message": "ReadCsvProjectSpace_2: block execution complete",
          "name": "engine.logs:ReadCsvProjectSpace_2",
          "pathname": "/usr/local/lib/python3.7/dist-packages/razor/flow/async_executors.py",
          "process": 2931,
          "processName": "ForkProcess-1:5",
          "thread": 140677621077824,
          "threadName": "MainThread"
         },
         {
          "asctime": "2021-03-24 04:54:50,775",
          "created": 1616561690.775741,
          "extra": {},
          "filename": "async_executors.py",
          "funcName": "main",
          "levelname": "DEBUG",
          "lineno": 147,
          "message": "ReadCsvProjectSpace_1: block thread completed",
          "name": "engine.logs:ReadCsvProjectSpace_1",
          "pathname": "/usr/local/lib/python3.7/dist-packages/razor/flow/async_executors.py",
          "process": 2931,
          "processName": "ForkProcess-1:5",
          "thread": 140677621077824,
          "threadName": "MainThread"
         },
         {
          "asctime": "2021-03-24 04:54:50,775",
          "created": 1616561690.7757874,
          "extra": {},
          "filename": "async_executors.py",
          "funcName": "main",
          "levelname": "DEBUG",
          "lineno": 149,
          "message": "ReadCsvProjectSpace_1: block execution complete",
          "name": "engine.logs:ReadCsvProjectSpace_1",
          "pathname": "/usr/local/lib/python3.7/dist-packages/razor/flow/async_executors.py",
          "process": 2931,
          "processName": "ForkProcess-1:5",
          "thread": 140677621077824,
          "threadName": "MainThread"
         },
         {
          "asctime": "2021-03-24 04:54:50,776",
          "created": 1616561690.7760072,
          "extra": {},
          "filename": "async_executors.py",
          "funcName": "distribute_output_queue",
          "levelname": "DEBUG",
          "lineno": 308,
          "message": "ReadCsvProjectSpace_2: ---- dist output: b'__!\\tEndOfStream\\t!__' -> ('SelectData_2', 'inputData')",
          "name": "engine.logs:ReadCsvProjectSpace_2",
          "pathname": "/usr/local/lib/python3.7/dist-packages/razor/flow/async_executors.py",
          "process": 2931,
          "processName": "ForkProcess-1:5",
          "thread": 140677621077824,
          "threadName": "MainThread"
         },
         {
          "asctime": "2021-03-24 04:54:50,781",
          "created": 1616561690.7818785,
          "extra": {},
          "filename": "async_executors.py",
          "funcName": "fill_atomic_inputs",
          "levelname": "DEBUG",
          "lineno": 253,
          "message": "SelectData_2: got atomic input: DataFrame[Unnamed: 0: string, count: string, hate_speech: string, offensive_language: string, neither: string, class: string, tweet: string]",
          "name": "engine.logs:SelectData_2",
          "pathname": "/usr/local/lib/python3.7/dist-packages/razor/flow/async_executors.py",
          "process": 2931,
          "processName": "ForkProcess-1:5",
          "thread": 140677621077824,
          "threadName": "MainThread"
         },
         {
          "asctime": "2021-03-24 04:54:50,779",
          "created": 1616561690.7795215,
          "extra": {},
          "filename": "async_executors.py",
          "funcName": "start_input_receiver",
          "levelname": "DEBUG",
          "lineno": 173,
          "message": "ReadCsvProjectSpace_2: received cmd: start_sender, (), {'out_name': 'data', 'target': ('SelectData_2', 'inputData'), 'out_addr': 'tcp://0.0.0.0:58842', 'in_memory': True}",
          "name": "engine.logs:ReadCsvProjectSpace_2",
          "pathname": "/usr/local/lib/python3.7/dist-packages/razor/flow/async_executors.py",
          "process": 2931,
          "processName": "ForkProcess-1:5",
          "thread": 140677621077824,
          "threadName": "MainThread"
         },
         {
          "asctime": "2021-03-24 04:54:50,776",
          "created": 1616561690.7763078,
          "extra": {},
          "filename": "async_executors.py",
          "funcName": "distribute_output_queue",
          "levelname": "DEBUG",
          "lineno": 308,
          "message": "ReadCsvProjectSpace_1: ---- dist output: b'__!\\tEndOfStream\\t!__' -> ('SelectData_1', 'inputData')",
          "name": "engine.logs:ReadCsvProjectSpace_1",
          "pathname": "/usr/local/lib/python3.7/dist-packages/razor/flow/async_executors.py",
          "process": 2931,
          "processName": "ForkProcess-1:5",
          "thread": 140677621077824,
          "threadName": "MainThread"
         },
         {
          "asctime": "2021-03-24 04:54:50,781",
          "created": 1616561690.7819986,
          "extra": {},
          "filename": "async_executors.py",
          "funcName": "fill_atomic_inputs",
          "levelname": "INFO",
          "lineno": 250,
          "message": "SelectData_2: waiting for atomic input: config",
          "name": "engine.logs:SelectData_2",
          "pathname": "/usr/local/lib/python3.7/dist-packages/razor/flow/async_executors.py",
          "process": 2931,
          "processName": "ForkProcess-1:5",
          "thread": 140677621077824,
          "threadName": "MainThread"
         },
         {
          "asctime": "2021-03-24 04:54:50,783",
          "created": 1616561690.7839384,
          "extra": {},
          "filename": "async_executors.py",
          "funcName": "start_input_receiver",
          "levelname": "DEBUG",
          "lineno": 173,
          "message": "ReadCsvProjectSpace_1: received cmd: start_sender, (), {'out_name': 'data', 'target': ('SelectData_1', 'inputData'), 'out_addr': 'tcp://0.0.0.0:53975', 'in_memory': True}",
          "name": "engine.logs:ReadCsvProjectSpace_1",
          "pathname": "/usr/local/lib/python3.7/dist-packages/razor/flow/async_executors.py",
          "process": 2931,
          "processName": "ForkProcess-1:5",
          "thread": 140677621077824,
          "threadName": "MainThread"
         },
         {
          "asctime": "2021-03-24 04:54:50,782",
          "created": 1616561690.7821238,
          "extra": {},
          "filename": "async_executors.py",
          "funcName": "fill_atomic_inputs",
          "levelname": "DEBUG",
          "lineno": 253,
          "message": "SelectData_2: got atomic input: {}",
          "name": "engine.logs:SelectData_2",
          "pathname": "/usr/local/lib/python3.7/dist-packages/razor/flow/async_executors.py",
          "process": 2931,
          "processName": "ForkProcess-1:5",
          "thread": 140677621077824,
          "threadName": "MainThread"
         },
         {
          "asctime": "2021-03-24 04:54:50,786",
          "created": 1616561690.786442,
          "extra": {},
          "filename": "async_executors.py",
          "funcName": "fill_atomic_inputs",
          "levelname": "DEBUG",
          "lineno": 253,
          "message": "SelectData_1: got atomic input: DataFrame[filename: string, url: string, text: string, title: string, authors: string, description: string, generatorsite_name: string, site: string, publisher: string, source: string, keywords: string, label: string, generator: string, site_name: string, author_real_fake: string, site_real_fake: string, source_real_fake: string]",
          "name": "engine.logs:SelectData_1",
          "pathname": "/usr/local/lib/python3.7/dist-packages/razor/flow/async_executors.py",
          "process": 2931,
          "processName": "ForkProcess-1:5",
          "thread": 140677621077824,
          "threadName": "MainThread"
         },
         {
          "asctime": "2021-03-24 04:54:50,779",
          "created": 1616561690.779835,
          "extra": {},
          "filename": "async_executors.py",
          "funcName": "start_output_sender",
          "levelname": "DEBUG",
          "lineno": 370,
          "message": "ReadCsvProjectSpace_2: got start_sender, data, ('SelectData_2', 'inputData')",
          "name": "engine.logs:ReadCsvProjectSpace_2",
          "pathname": "/usr/local/lib/python3.7/dist-packages/razor/flow/async_executors.py",
          "process": 2931,
          "processName": "ForkProcess-1:5",
          "thread": 140677621077824,
          "threadName": "MainThread"
         },
         {
          "asctime": "2021-03-24 04:54:50,782",
          "created": 1616561690.7822025,
          "extra": {},
          "filename": "async_executors.py",
          "funcName": "fill_atomic_inputs",
          "levelname": "INFO",
          "lineno": 250,
          "message": "SelectData_2: waiting for atomic input: source",
          "name": "engine.logs:SelectData_2",
          "pathname": "/usr/local/lib/python3.7/dist-packages/razor/flow/async_executors.py",
          "process": 2931,
          "processName": "ForkProcess-1:5",
          "thread": 140677621077824,
          "threadName": "MainThread"
         },
         {
          "asctime": "2021-03-24 04:54:50,786",
          "created": 1616561690.7865217,
          "extra": {},
          "filename": "async_executors.py",
          "funcName": "fill_atomic_inputs",
          "levelname": "INFO",
          "lineno": 250,
          "message": "SelectData_1: waiting for atomic input: config",
          "name": "engine.logs:SelectData_1",
          "pathname": "/usr/local/lib/python3.7/dist-packages/razor/flow/async_executors.py",
          "process": 2931,
          "processName": "ForkProcess-1:5",
          "thread": 140677621077824,
          "threadName": "MainThread"
         },
         {
          "asctime": "2021-03-24 04:54:50,780",
          "created": 1616561690.7807221,
          "extra": {},
          "filename": "async_executors.py",
          "funcName": "start_output_sender",
          "levelname": "DEBUG",
          "lineno": 375,
          "message": "ReadCsvProjectSpace_2: SENT, inputData, DataFrame[Unnamed: 0: string, count: string, hate_speech: string, offensive_language: string, neither: string, class: string, tweet: string], ('SelectData_2', 'inputData')",
          "name": "engine.logs:ReadCsvProjectSpace_2",
          "pathname": "/usr/local/lib/python3.7/dist-packages/razor/flow/async_executors.py",
          "process": 2931,
          "processName": "ForkProcess-1:5",
          "thread": 140677621077824,
          "threadName": "MainThread"
         },
         {
          "asctime": "2021-03-24 04:54:50,784",
          "created": 1616561690.7844088,
          "extra": {},
          "filename": "async_executors.py",
          "funcName": "start_output_sender",
          "levelname": "DEBUG",
          "lineno": 370,
          "message": "ReadCsvProjectSpace_1: got start_sender, data, ('SelectData_1', 'inputData')",
          "name": "engine.logs:ReadCsvProjectSpace_1",
          "pathname": "/usr/local/lib/python3.7/dist-packages/razor/flow/async_executors.py",
          "process": 2931,
          "processName": "ForkProcess-1:5",
          "thread": 140677621077824,
          "threadName": "MainThread"
         },
         {
          "asctime": "2021-03-24 04:54:50,782",
          "created": 1616561690.78226,
          "extra": {},
          "filename": "async_executors.py",
          "funcName": "fill_atomic_inputs",
          "levelname": "DEBUG",
          "lineno": 253,
          "message": "SelectData_2: got atomic input: ",
          "name": "engine.logs:SelectData_2",
          "pathname": "/usr/local/lib/python3.7/dist-packages/razor/flow/async_executors.py",
          "process": 2931,
          "processName": "ForkProcess-1:5",
          "thread": 140677621077824,
          "threadName": "MainThread"
         },
         {
          "asctime": "2021-03-24 04:54:50,786",
          "created": 1616561690.7865767,
          "extra": {},
          "filename": "async_executors.py",
          "funcName": "fill_atomic_inputs",
          "levelname": "DEBUG",
          "lineno": 253,
          "message": "SelectData_1: got atomic input: {}",
          "name": "engine.logs:SelectData_1",
          "pathname": "/usr/local/lib/python3.7/dist-packages/razor/flow/async_executors.py",
          "process": 2931,
          "processName": "ForkProcess-1:5",
          "thread": 140677621077824,
          "threadName": "MainThread"
         },
         {
          "asctime": "2021-03-24 04:54:50,780",
          "created": 1616561690.7808397,
          "extra": {},
          "filename": "async_executors.py",
          "funcName": "start_output_sender",
          "levelname": "DEBUG",
          "lineno": 375,
          "message": "ReadCsvProjectSpace_2: SENT, inputData, b'__!\\tEndOfStream\\t!__', ('SelectData_2', 'inputData')",
          "name": "engine.logs:ReadCsvProjectSpace_2",
          "pathname": "/usr/local/lib/python3.7/dist-packages/razor/flow/async_executors.py",
          "process": 2931,
          "processName": "ForkProcess-1:5",
          "thread": 140677621077824,
          "threadName": "MainThread"
         },
         {
          "asctime": "2021-03-24 04:54:50,785",
          "created": 1616561690.7850854,
          "extra": {},
          "filename": "async_executors.py",
          "funcName": "start_output_sender",
          "levelname": "DEBUG",
          "lineno": 375,
          "message": "ReadCsvProjectSpace_1: SENT, inputData, DataFrame[filename: string, url: string, text: string, title: string, authors: string, description: string, generatorsite_name: string, site: string, publisher: string, source: string, keywords: string, label: string, generator: string, site_name: string, author_real_fake: string, site_real_fake: string, source_real_fake: string], ('SelectData_1', 'inputData')",
          "name": "engine.logs:ReadCsvProjectSpace_1",
          "pathname": "/usr/local/lib/python3.7/dist-packages/razor/flow/async_executors.py",
          "process": 2931,
          "processName": "ForkProcess-1:5",
          "thread": 140677621077824,
          "threadName": "MainThread"
         },
         {
          "asctime": "2021-03-24 04:54:50,782",
          "created": 1616561690.782312,
          "extra": {},
          "filename": "async_executors.py",
          "funcName": "main",
          "levelname": "DEBUG",
          "lineno": 130,
          "message": "SelectData_2: triggering block run",
          "name": "engine.logs:SelectData_2",
          "pathname": "/usr/local/lib/python3.7/dist-packages/razor/flow/async_executors.py",
          "process": 2931,
          "processName": "ForkProcess-1:5",
          "thread": 140677621077824,
          "threadName": "MainThread"
         },
         {
          "asctime": "2021-03-24 04:54:50,786",
          "created": 1616561690.7866137,
          "extra": {},
          "filename": "async_executors.py",
          "funcName": "fill_atomic_inputs",
          "levelname": "INFO",
          "lineno": 250,
          "message": "SelectData_1: waiting for atomic input: source",
          "name": "engine.logs:SelectData_1",
          "pathname": "/usr/local/lib/python3.7/dist-packages/razor/flow/async_executors.py",
          "process": 2931,
          "processName": "ForkProcess-1:5",
          "thread": 140677621077824,
          "threadName": "MainThread"
         },
         {
          "asctime": "2021-03-24 04:54:50,780",
          "created": 1616561690.7808914,
          "extra": {},
          "filename": "async_executors.py",
          "funcName": "start_output_sender",
          "levelname": "DEBUG",
          "lineno": 379,
          "message": "ReadCsvProjectSpace_2: completed output: ('data', ('SelectData_2', 'inputData'))",
          "name": "engine.logs:ReadCsvProjectSpace_2",
          "pathname": "/usr/local/lib/python3.7/dist-packages/razor/flow/async_executors.py",
          "process": 2931,
          "processName": "ForkProcess-1:5",
          "thread": 140677621077824,
          "threadName": "MainThread"
         },
         {
          "asctime": "2021-03-24 04:54:50,785",
          "created": 1616561690.785195,
          "extra": {},
          "filename": "async_executors.py",
          "funcName": "start_output_sender",
          "levelname": "DEBUG",
          "lineno": 375,
          "message": "ReadCsvProjectSpace_1: SENT, inputData, b'__!\\tEndOfStream\\t!__', ('SelectData_1', 'inputData')",
          "name": "engine.logs:ReadCsvProjectSpace_1",
          "pathname": "/usr/local/lib/python3.7/dist-packages/razor/flow/async_executors.py",
          "process": 2931,
          "processName": "ForkProcess-1:5",
          "thread": 140677621077824,
          "threadName": "MainThread"
         },
         {
          "asctime": "2021-03-24 04:54:50,786",
          "created": 1616561690.7866538,
          "extra": {},
          "filename": "async_executors.py",
          "funcName": "fill_atomic_inputs",
          "levelname": "DEBUG",
          "lineno": 253,
          "message": "SelectData_1: got atomic input: ",
          "name": "engine.logs:SelectData_1",
          "pathname": "/usr/local/lib/python3.7/dist-packages/razor/flow/async_executors.py",
          "process": 2931,
          "processName": "ForkProcess-1:5",
          "thread": 140677621077824,
          "threadName": "MainThread"
         },
         {
          "asctime": "2021-03-24 04:54:50,791",
          "created": 1616561690.7911808,
          "extra": {},
          "filename": "async_executors.py",
          "funcName": "start_input_receiver",
          "levelname": "DEBUG",
          "lineno": 173,
          "message": "ReadCsvProjectSpace_2: received cmd: terminate, (), {}",
          "name": "engine.logs:ReadCsvProjectSpace_2",
          "pathname": "/usr/local/lib/python3.7/dist-packages/razor/flow/async_executors.py",
          "process": 2931,
          "processName": "ForkProcess-1:5",
          "thread": 140677621077824,
          "threadName": "MainThread"
         },
         {
          "asctime": "2021-03-24 04:54:50,785",
          "created": 1616561690.7852464,
          "extra": {},
          "filename": "async_executors.py",
          "funcName": "start_output_sender",
          "levelname": "DEBUG",
          "lineno": 379,
          "message": "ReadCsvProjectSpace_1: completed output: ('data', ('SelectData_1', 'inputData'))",
          "name": "engine.logs:ReadCsvProjectSpace_1",
          "pathname": "/usr/local/lib/python3.7/dist-packages/razor/flow/async_executors.py",
          "process": 2931,
          "processName": "ForkProcess-1:5",
          "thread": 140677621077824,
          "threadName": "MainThread"
         },
         {
          "asctime": "2021-03-24 04:54:50,786",
          "created": 1616561690.7866976,
          "extra": {},
          "filename": "async_executors.py",
          "funcName": "main",
          "levelname": "DEBUG",
          "lineno": 130,
          "message": "SelectData_1: triggering block run",
          "name": "engine.logs:SelectData_1",
          "pathname": "/usr/local/lib/python3.7/dist-packages/razor/flow/async_executors.py",
          "process": 2931,
          "processName": "ForkProcess-1:5",
          "thread": 140677621077824,
          "threadName": "MainThread"
         },
         {
          "asctime": "2021-03-24 04:54:50,816",
          "created": 1616561690.8168738,
          "extra": {},
          "filename": "async_executors.py",
          "funcName": "start_input_receiver",
          "levelname": "DEBUG",
          "lineno": 173,
          "message": "ReadCsvProjectSpace_1: received cmd: terminate, (), {}",
          "name": "engine.logs:ReadCsvProjectSpace_1",
          "pathname": "/usr/local/lib/python3.7/dist-packages/razor/flow/async_executors.py",
          "process": 2931,
          "processName": "ForkProcess-1:5",
          "thread": 140677621077824,
          "threadName": "MainThread"
         },
         {
          "asctime": "2021-03-24 04:54:50,841",
          "created": 1616561690.8411498,
          "extra": {},
          "filename": "async_executors.py",
          "funcName": "distribute_output_queue",
          "levelname": "DEBUG",
          "lineno": 308,
          "message": "SelectData_2: ---- dist output: DataFrame[tweet: string, class: string] -> ('RenameCol_1', 'inputData')",
          "name": "engine.logs:SelectData_2",
          "pathname": "/usr/local/lib/python3.7/dist-packages/razor/flow/async_executors.py",
          "process": 2931,
          "processName": "ForkProcess-1:5",
          "thread": 140677621077824,
          "threadName": "MainThread"
         },
         {
          "asctime": "2021-03-24 04:54:50,842",
          "created": 1616561690.842189,
          "extra": {},
          "filename": "async_executors.py",
          "funcName": "distribute_output_queue",
          "levelname": "DEBUG",
          "lineno": 308,
          "message": "SelectData_1: ---- dist output: DataFrame[title: string, label: string] -> ('ConcatData_2', 'inputData_2')",
          "name": "engine.logs:SelectData_1",
          "pathname": "/usr/local/lib/python3.7/dist-packages/razor/flow/async_executors.py",
          "process": 2931,
          "processName": "ForkProcess-1:5",
          "thread": 140677621077824,
          "threadName": "MainThread"
         },
         {
          "asctime": "2021-03-24 04:54:50,842",
          "created": 1616561690.842991,
          "extra": {},
          "filename": "async_executors.py",
          "funcName": "main",
          "levelname": "DEBUG",
          "lineno": 147,
          "message": "SelectData_2: block thread completed",
          "name": "engine.logs:SelectData_2",
          "pathname": "/usr/local/lib/python3.7/dist-packages/razor/flow/async_executors.py",
          "process": 2931,
          "processName": "ForkProcess-1:5",
          "thread": 140677621077824,
          "threadName": "MainThread"
         },
         {
          "asctime": "2021-03-24 04:54:50,842",
          "created": 1616561690.8426032,
          "extra": {},
          "filename": "async_executors.py",
          "funcName": "distribute_output_queue",
          "levelname": "DEBUG",
          "lineno": 308,
          "message": "SelectData_1: ---- dist output: DataFrame[title: string, label: string] -> ('ConcatData_1', 'inputData_1')",
          "name": "engine.logs:SelectData_1",
          "pathname": "/usr/local/lib/python3.7/dist-packages/razor/flow/async_executors.py",
          "process": 2931,
          "processName": "ForkProcess-1:5",
          "thread": 140677621077824,
          "threadName": "MainThread"
         },
         {
          "asctime": "2021-03-24 04:54:50,843",
          "created": 1616561690.8430898,
          "extra": {},
          "filename": "async_executors.py",
          "funcName": "main",
          "levelname": "DEBUG",
          "lineno": 149,
          "message": "SelectData_2: block execution complete",
          "name": "engine.logs:SelectData_2",
          "pathname": "/usr/local/lib/python3.7/dist-packages/razor/flow/async_executors.py",
          "process": 2931,
          "processName": "ForkProcess-1:5",
          "thread": 140677621077824,
          "threadName": "MainThread"
         },
         {
          "asctime": "2021-03-24 04:54:50,843",
          "created": 1616561690.8432436,
          "extra": {},
          "filename": "async_executors.py",
          "funcName": "main",
          "levelname": "DEBUG",
          "lineno": 147,
          "message": "SelectData_1: block thread completed",
          "name": "engine.logs:SelectData_1",
          "pathname": "/usr/local/lib/python3.7/dist-packages/razor/flow/async_executors.py",
          "process": 2931,
          "processName": "ForkProcess-1:5",
          "thread": 140677621077824,
          "threadName": "MainThread"
         },
         {
          "asctime": "2021-03-24 04:54:50,843",
          "created": 1616561690.843335,
          "extra": {},
          "filename": "async_executors.py",
          "funcName": "main",
          "levelname": "DEBUG",
          "lineno": 149,
          "message": "SelectData_1: block execution complete",
          "name": "engine.logs:SelectData_1",
          "pathname": "/usr/local/lib/python3.7/dist-packages/razor/flow/async_executors.py",
          "process": 2931,
          "processName": "ForkProcess-1:5",
          "thread": 140677621077824,
          "threadName": "MainThread"
         },
         {
          "asctime": "2021-03-24 04:54:50,865",
          "created": 1616561690.8651962,
          "extra": {},
          "filename": "async_executors.py",
          "funcName": "distribute_output_queue",
          "levelname": "DEBUG",
          "lineno": 308,
          "message": "SelectData_2: ---- dist output: b'__!\\tEndOfStream\\t!__' -> ('RenameCol_1', 'inputData')",
          "name": "engine.logs:SelectData_2",
          "pathname": "/usr/local/lib/python3.7/dist-packages/razor/flow/async_executors.py",
          "process": 2931,
          "processName": "ForkProcess-1:5",
          "thread": 140677621077824,
          "threadName": "MainThread"
         },
         {
          "asctime": "2021-03-24 04:54:50,910",
          "created": 1616561690.9105701,
          "extra": {},
          "filename": "async_executors.py",
          "funcName": "start_input_receiver",
          "levelname": "DEBUG",
          "lineno": 173,
          "message": "SelectData_2: received cmd: start_sender, (), {'out_name': 'outputData', 'target': ('RenameCol_1', 'inputData'), 'out_addr': 'tcp://0.0.0.0:61267', 'in_memory': True}",
          "name": "engine.logs:SelectData_2",
          "pathname": "/usr/local/lib/python3.7/dist-packages/razor/flow/async_executors.py",
          "process": 2931,
          "processName": "ForkProcess-1:5",
          "thread": 140677621077824,
          "threadName": "MainThread"
         },
         {
          "asctime": "2021-03-24 04:54:50,865",
          "created": 1616561690.8653731,
          "extra": {},
          "filename": "async_executors.py",
          "funcName": "distribute_output_queue",
          "levelname": "DEBUG",
          "lineno": 308,
          "message": "SelectData_1: ---- dist output: b'__!\\tEndOfStream\\t!__' -> ('ConcatData_2', 'inputData_2')",
          "name": "engine.logs:SelectData_1",
          "pathname": "/usr/local/lib/python3.7/dist-packages/razor/flow/async_executors.py",
          "process": 2931,
          "processName": "ForkProcess-1:5",
          "thread": 140677621077824,
          "threadName": "MainThread"
         },
         {
          "asctime": "2021-03-24 04:54:50,865",
          "created": 1616561690.8654234,
          "extra": {},
          "filename": "async_executors.py",
          "funcName": "distribute_output_queue",
          "levelname": "DEBUG",
          "lineno": 308,
          "message": "SelectData_1: ---- dist output: b'__!\\tEndOfStream\\t!__' -> ('ConcatData_1', 'inputData_1')",
          "name": "engine.logs:SelectData_1",
          "pathname": "/usr/local/lib/python3.7/dist-packages/razor/flow/async_executors.py",
          "process": 2931,
          "processName": "ForkProcess-1:5",
          "thread": 140677621077824,
          "threadName": "MainThread"
         },
         {
          "asctime": "2021-03-24 04:54:50,910",
          "created": 1616561690.910337,
          "extra": {},
          "filename": "async_executors.py",
          "funcName": "start_input_receiver",
          "levelname": "DEBUG",
          "lineno": 173,
          "message": "SelectData_1: received cmd: start_sender, (), {'out_name': 'outputData', 'target': ('ConcatData_1', 'inputData_1'), 'out_addr': 'tcp://0.0.0.0:64020', 'in_memory': True}",
          "name": "engine.logs:SelectData_1",
          "pathname": "/usr/local/lib/python3.7/dist-packages/razor/flow/async_executors.py",
          "process": 2931,
          "processName": "ForkProcess-1:5",
          "thread": 140677621077824,
          "threadName": "MainThread"
         },
         {
          "asctime": "2021-03-24 04:54:50,934",
          "created": 1616561690.9344215,
          "extra": {},
          "filename": "async_executors.py",
          "funcName": "start_output_sender",
          "levelname": "DEBUG",
          "lineno": 370,
          "message": "SelectData_2: got start_sender, outputData, ('RenameCol_1', 'inputData')",
          "name": "engine.logs:SelectData_2",
          "pathname": "/usr/local/lib/python3.7/dist-packages/razor/flow/async_executors.py",
          "process": 2931,
          "processName": "ForkProcess-1:5",
          "thread": 140677621077824,
          "threadName": "MainThread"
         },
         {
          "asctime": "2021-03-24 04:54:50,935",
          "created": 1616561690.9351315,
          "extra": {},
          "filename": "async_executors.py",
          "funcName": "start_output_sender",
          "levelname": "DEBUG",
          "lineno": 375,
          "message": "SelectData_2: SENT, inputData, DataFrame[tweet: string, class: string], ('RenameCol_1', 'inputData')",
          "name": "engine.logs:SelectData_2",
          "pathname": "/usr/local/lib/python3.7/dist-packages/razor/flow/async_executors.py",
          "process": 2931,
          "processName": "ForkProcess-1:5",
          "thread": 140677621077824,
          "threadName": "MainThread"
         },
         {
          "asctime": "2021-03-24 04:54:50,960",
          "created": 1616561690.9606738,
          "extra": {},
          "filename": "async_executors.py",
          "funcName": "fill_atomic_inputs",
          "levelname": "DEBUG",
          "lineno": 253,
          "message": "RenameCol_1: got atomic input: DataFrame[tweet: string, class: string]",
          "name": "engine.logs:RenameCol_1",
          "pathname": "/usr/local/lib/python3.7/dist-packages/razor/flow/async_executors.py",
          "process": 2931,
          "processName": "ForkProcess-1:5",
          "thread": 140677621077824,
          "threadName": "MainThread"
         },
         {
          "asctime": "2021-03-24 04:54:50,933",
          "created": 1616561690.9331245,
          "extra": {},
          "filename": "async_executors.py",
          "funcName": "start_output_sender",
          "levelname": "DEBUG",
          "lineno": 370,
          "message": "SelectData_1: got start_sender, outputData, ('ConcatData_1', 'inputData_1')",
          "name": "engine.logs:SelectData_1",
          "pathname": "/usr/local/lib/python3.7/dist-packages/razor/flow/async_executors.py",
          "process": 2931,
          "processName": "ForkProcess-1:5",
          "thread": 140677621077824,
          "threadName": "MainThread"
         },
         {
          "asctime": "2021-03-24 04:54:50,935",
          "created": 1616561690.9352539,
          "extra": {},
          "filename": "async_executors.py",
          "funcName": "start_output_sender",
          "levelname": "DEBUG",
          "lineno": 375,
          "message": "SelectData_2: SENT, inputData, b'__!\\tEndOfStream\\t!__', ('RenameCol_1', 'inputData')",
          "name": "engine.logs:SelectData_2",
          "pathname": "/usr/local/lib/python3.7/dist-packages/razor/flow/async_executors.py",
          "process": 2931,
          "processName": "ForkProcess-1:5",
          "thread": 140677621077824,
          "threadName": "MainThread"
         },
         {
          "asctime": "2021-03-24 04:54:50,960",
          "created": 1616561690.9608223,
          "extra": {},
          "filename": "async_executors.py",
          "funcName": "fill_atomic_inputs",
          "levelname": "INFO",
          "lineno": 250,
          "message": "RenameCol_1: waiting for atomic input: col_dic",
          "name": "engine.logs:RenameCol_1",
          "pathname": "/usr/local/lib/python3.7/dist-packages/razor/flow/async_executors.py",
          "process": 2931,
          "processName": "ForkProcess-1:5",
          "thread": 140677621077824,
          "threadName": "MainThread"
         },
         {
          "asctime": "2021-03-24 04:54:50,933",
          "created": 1616561690.9339402,
          "extra": {},
          "filename": "async_executors.py",
          "funcName": "start_output_sender",
          "levelname": "DEBUG",
          "lineno": 375,
          "message": "SelectData_1: SENT, inputData_1, DataFrame[title: string, label: string], ('ConcatData_1', 'inputData_1')",
          "name": "engine.logs:SelectData_1",
          "pathname": "/usr/local/lib/python3.7/dist-packages/razor/flow/async_executors.py",
          "process": 2931,
          "processName": "ForkProcess-1:5",
          "thread": 140677621077824,
          "threadName": "MainThread"
         },
         {
          "asctime": "2021-03-24 04:54:50,935",
          "created": 1616561690.9353087,
          "extra": {},
          "filename": "async_executors.py",
          "funcName": "start_output_sender",
          "levelname": "DEBUG",
          "lineno": 379,
          "message": "SelectData_2: completed output: ('outputData', ('RenameCol_1', 'inputData'))",
          "name": "engine.logs:SelectData_2",
          "pathname": "/usr/local/lib/python3.7/dist-packages/razor/flow/async_executors.py",
          "process": 2931,
          "processName": "ForkProcess-1:5",
          "thread": 140677621077824,
          "threadName": "MainThread"
         },
         {
          "asctime": "2021-03-24 04:54:50,960",
          "created": 1616561690.960931,
          "extra": {},
          "filename": "async_executors.py",
          "funcName": "fill_atomic_inputs",
          "levelname": "DEBUG",
          "lineno": 253,
          "message": "RenameCol_1: got atomic input: {'tweet': 'title', 'class': 'label'}",
          "name": "engine.logs:RenameCol_1",
          "pathname": "/usr/local/lib/python3.7/dist-packages/razor/flow/async_executors.py",
          "process": 2931,
          "processName": "ForkProcess-1:5",
          "thread": 140677621077824,
          "threadName": "MainThread"
         },
         {
          "asctime": "2021-03-24 04:54:50,969",
          "created": 1616561690.9699516,
          "extra": {},
          "filename": "async_executors.py",
          "funcName": "fill_atomic_inputs",
          "levelname": "DEBUG",
          "lineno": 253,
          "message": "ConcatData_1: got atomic input: DataFrame[title: string, label: string]",
          "name": "engine.logs:ConcatData_1",
          "pathname": "/usr/local/lib/python3.7/dist-packages/razor/flow/async_executors.py",
          "process": 2931,
          "processName": "ForkProcess-1:5",
          "thread": 140677621077824,
          "threadName": "MainThread"
         },
         {
          "asctime": "2021-03-24 04:54:50,934",
          "created": 1616561690.934108,
          "extra": {},
          "filename": "async_executors.py",
          "funcName": "start_output_sender",
          "levelname": "DEBUG",
          "lineno": 375,
          "message": "SelectData_1: SENT, inputData_1, b'__!\\tEndOfStream\\t!__', ('ConcatData_1', 'inputData_1')",
          "name": "engine.logs:SelectData_1",
          "pathname": "/usr/local/lib/python3.7/dist-packages/razor/flow/async_executors.py",
          "process": 2931,
          "processName": "ForkProcess-1:5",
          "thread": 140677621077824,
          "threadName": "MainThread"
         },
         {
          "asctime": "2021-03-24 04:54:50,961",
          "created": 1616561690.961013,
          "extra": {},
          "filename": "async_executors.py",
          "funcName": "fill_atomic_inputs",
          "levelname": "INFO",
          "lineno": 250,
          "message": "RenameCol_1: waiting for atomic input: config",
          "name": "engine.logs:RenameCol_1",
          "pathname": "/usr/local/lib/python3.7/dist-packages/razor/flow/async_executors.py",
          "process": 2931,
          "processName": "ForkProcess-1:5",
          "thread": 140677621077824,
          "threadName": "MainThread"
         },
         {
          "asctime": "2021-03-24 04:54:50,970",
          "created": 1616561690.9700985,
          "extra": {},
          "filename": "async_executors.py",
          "funcName": "fill_atomic_inputs",
          "levelname": "INFO",
          "lineno": 250,
          "message": "ConcatData_1: waiting for atomic input: inputData_2",
          "name": "engine.logs:ConcatData_1",
          "pathname": "/usr/local/lib/python3.7/dist-packages/razor/flow/async_executors.py",
          "process": 2931,
          "processName": "ForkProcess-1:5",
          "thread": 140677621077824,
          "threadName": "MainThread"
         },
         {
          "asctime": "2021-03-24 04:54:50,934",
          "created": 1616561690.934165,
          "extra": {},
          "filename": "async_executors.py",
          "funcName": "start_output_sender",
          "levelname": "DEBUG",
          "lineno": 379,
          "message": "SelectData_1: completed output: ('outputData', ('ConcatData_1', 'inputData_1'))",
          "name": "engine.logs:SelectData_1",
          "pathname": "/usr/local/lib/python3.7/dist-packages/razor/flow/async_executors.py",
          "process": 2931,
          "processName": "ForkProcess-1:5",
          "thread": 140677621077824,
          "threadName": "MainThread"
         },
         {
          "asctime": "2021-03-24 04:54:50,996",
          "created": 1616561690.9960544,
          "extra": {},
          "filename": "async_executors.py",
          "funcName": "start_input_receiver",
          "levelname": "DEBUG",
          "lineno": 173,
          "message": "SelectData_2: received cmd: terminate, (), {}",
          "name": "engine.logs:SelectData_2",
          "pathname": "/usr/local/lib/python3.7/dist-packages/razor/flow/async_executors.py",
          "process": 2931,
          "processName": "ForkProcess-1:5",
          "thread": 140677621077824,
          "threadName": "MainThread"
         },
         {
          "asctime": "2021-03-24 04:54:50,961",
          "created": 1616561690.9611053,
          "extra": {},
          "filename": "async_executors.py",
          "funcName": "fill_atomic_inputs",
          "levelname": "DEBUG",
          "lineno": 253,
          "message": "RenameCol_1: got atomic input: {}",
          "name": "engine.logs:RenameCol_1",
          "pathname": "/usr/local/lib/python3.7/dist-packages/razor/flow/async_executors.py",
          "process": 2931,
          "processName": "ForkProcess-1:5",
          "thread": 140677621077824,
          "threadName": "MainThread"
         },
         {
          "asctime": "2021-03-24 04:54:50,934",
          "created": 1616561690.9342418,
          "extra": {},
          "filename": "async_executors.py",
          "funcName": "start_input_receiver",
          "levelname": "DEBUG",
          "lineno": 173,
          "message": "SelectData_1: received cmd: start_sender, (), {'out_name': 'outputData', 'target': ('ConcatData_2', 'inputData_2'), 'out_addr': 'tcp://0.0.0.0:57741', 'in_memory': True}",
          "name": "engine.logs:SelectData_1",
          "pathname": "/usr/local/lib/python3.7/dist-packages/razor/flow/async_executors.py",
          "process": 2931,
          "processName": "ForkProcess-1:5",
          "thread": 140677621077824,
          "threadName": "MainThread"
         },
         {
          "asctime": "2021-03-24 04:54:50,961",
          "created": 1616561690.961156,
          "extra": {},
          "filename": "async_executors.py",
          "funcName": "fill_atomic_inputs",
          "levelname": "INFO",
          "lineno": 250,
          "message": "RenameCol_1: waiting for atomic input: source",
          "name": "engine.logs:RenameCol_1",
          "pathname": "/usr/local/lib/python3.7/dist-packages/razor/flow/async_executors.py",
          "process": 2931,
          "processName": "ForkProcess-1:5",
          "thread": 140677621077824,
          "threadName": "MainThread"
         },
         {
          "asctime": "2021-03-24 04:54:50,961",
          "created": 1616561690.9612246,
          "extra": {},
          "filename": "async_executors.py",
          "funcName": "fill_atomic_inputs",
          "levelname": "DEBUG",
          "lineno": 253,
          "message": "RenameCol_1: got atomic input: ",
          "name": "engine.logs:RenameCol_1",
          "pathname": "/usr/local/lib/python3.7/dist-packages/razor/flow/async_executors.py",
          "process": 2931,
          "processName": "ForkProcess-1:5",
          "thread": 140677621077824,
          "threadName": "MainThread"
         },
         {
          "asctime": "2021-03-24 04:54:50,958",
          "created": 1616561690.9582453,
          "extra": {},
          "filename": "async_executors.py",
          "funcName": "start_output_sender",
          "levelname": "DEBUG",
          "lineno": 370,
          "message": "SelectData_1: got start_sender, outputData, ('ConcatData_2', 'inputData_2')",
          "name": "engine.logs:SelectData_1",
          "pathname": "/usr/local/lib/python3.7/dist-packages/razor/flow/async_executors.py",
          "process": 2931,
          "processName": "ForkProcess-1:5",
          "thread": 140677621077824,
          "threadName": "MainThread"
         },
         {
          "asctime": "2021-03-24 04:54:50,961",
          "created": 1616561690.9612978,
          "extra": {},
          "filename": "async_executors.py",
          "funcName": "main",
          "levelname": "DEBUG",
          "lineno": 130,
          "message": "RenameCol_1: triggering block run",
          "name": "engine.logs:RenameCol_1",
          "pathname": "/usr/local/lib/python3.7/dist-packages/razor/flow/async_executors.py",
          "process": 2931,
          "processName": "ForkProcess-1:5",
          "thread": 140677621077824,
          "threadName": "MainThread"
         },
         {
          "asctime": "2021-03-24 04:54:50,959",
          "created": 1616561690.959364,
          "extra": {},
          "filename": "async_executors.py",
          "funcName": "start_output_sender",
          "levelname": "DEBUG",
          "lineno": 375,
          "message": "SelectData_1: SENT, inputData_2, DataFrame[title: string, label: string], ('ConcatData_2', 'inputData_2')",
          "name": "engine.logs:SelectData_1",
          "pathname": "/usr/local/lib/python3.7/dist-packages/razor/flow/async_executors.py",
          "process": 2931,
          "processName": "ForkProcess-1:5",
          "thread": 140677621077824,
          "threadName": "MainThread"
         },
         {
          "asctime": "2021-03-24 04:54:50,959",
          "created": 1616561690.9595473,
          "extra": {},
          "filename": "async_executors.py",
          "funcName": "start_output_sender",
          "levelname": "DEBUG",
          "lineno": 375,
          "message": "SelectData_1: SENT, inputData_2, b'__!\\tEndOfStream\\t!__', ('ConcatData_2', 'inputData_2')",
          "name": "engine.logs:SelectData_1",
          "pathname": "/usr/local/lib/python3.7/dist-packages/razor/flow/async_executors.py",
          "process": 2931,
          "processName": "ForkProcess-1:5",
          "thread": 140677621077824,
          "threadName": "MainThread"
         },
         {
          "asctime": "2021-03-24 04:54:50,959",
          "created": 1616561690.9596522,
          "extra": {},
          "filename": "async_executors.py",
          "funcName": "start_output_sender",
          "levelname": "DEBUG",
          "lineno": 379,
          "message": "SelectData_1: completed output: ('outputData', ('ConcatData_2', 'inputData_2'))",
          "name": "engine.logs:SelectData_1",
          "pathname": "/usr/local/lib/python3.7/dist-packages/razor/flow/async_executors.py",
          "process": 2931,
          "processName": "ForkProcess-1:5",
          "thread": 140677621077824,
          "threadName": "MainThread"
         },
         {
          "asctime": "2021-03-24 04:54:50,994",
          "created": 1616561690.9947257,
          "extra": {},
          "filename": "async_executors.py",
          "funcName": "distribute_output_queue",
          "levelname": "DEBUG",
          "lineno": 308,
          "message": "RenameCol_1: ---- dist output: DataFrame[title: string, label: string] -> ('ConcatData_1', 'inputData_2')",
          "name": "engine.logs:RenameCol_1",
          "pathname": "/usr/local/lib/python3.7/dist-packages/razor/flow/async_executors.py",
          "process": 2931,
          "processName": "ForkProcess-1:5",
          "thread": 140677621077824,
          "threadName": "MainThread"
         },
         {
          "asctime": "2021-03-24 04:54:51,002",
          "created": 1616561691.002998,
          "extra": {},
          "filename": "async_executors.py",
          "funcName": "start_input_receiver",
          "levelname": "DEBUG",
          "lineno": 173,
          "message": "SelectData_1: received cmd: terminate, (), {}",
          "name": "engine.logs:SelectData_1",
          "pathname": "/usr/local/lib/python3.7/dist-packages/razor/flow/async_executors.py",
          "process": 2931,
          "processName": "ForkProcess-1:5",
          "thread": 140677621077824,
          "threadName": "MainThread"
         },
         {
          "asctime": "2021-03-24 04:54:50,995",
          "created": 1616561690.9954944,
          "extra": {},
          "filename": "async_executors.py",
          "funcName": "main",
          "levelname": "DEBUG",
          "lineno": 147,
          "message": "RenameCol_1: block thread completed",
          "name": "engine.logs:RenameCol_1",
          "pathname": "/usr/local/lib/python3.7/dist-packages/razor/flow/async_executors.py",
          "process": 2931,
          "processName": "ForkProcess-1:5",
          "thread": 140677621077824,
          "threadName": "MainThread"
         },
         {
          "asctime": "2021-03-24 04:54:50,995",
          "created": 1616561690.9956043,
          "extra": {},
          "filename": "async_executors.py",
          "funcName": "main",
          "levelname": "DEBUG",
          "lineno": 149,
          "message": "RenameCol_1: block execution complete",
          "name": "engine.logs:RenameCol_1",
          "pathname": "/usr/local/lib/python3.7/dist-packages/razor/flow/async_executors.py",
          "process": 2931,
          "processName": "ForkProcess-1:5",
          "thread": 140677621077824,
          "threadName": "MainThread"
         },
         {
          "asctime": "2021-03-24 04:54:50,995",
          "created": 1616561690.9959588,
          "extra": {},
          "filename": "async_executors.py",
          "funcName": "distribute_output_queue",
          "levelname": "DEBUG",
          "lineno": 308,
          "message": "RenameCol_1: ---- dist output: b'__!\\tEndOfStream\\t!__' -> ('ConcatData_1', 'inputData_2')",
          "name": "engine.logs:RenameCol_1",
          "pathname": "/usr/local/lib/python3.7/dist-packages/razor/flow/async_executors.py",
          "process": 2931,
          "processName": "ForkProcess-1:5",
          "thread": 140677621077824,
          "threadName": "MainThread"
         },
         {
          "asctime": "2021-03-24 04:54:51,005",
          "created": 1616561691.0057359,
          "extra": {},
          "filename": "async_executors.py",
          "funcName": "start_input_receiver",
          "levelname": "DEBUG",
          "lineno": 173,
          "message": "RenameCol_1: received cmd: start_sender, (), {'out_name': 'outputData', 'target': ('ConcatData_1', 'inputData_2'), 'out_addr': 'tcp://0.0.0.0:64020', 'in_memory': True}",
          "name": "engine.logs:RenameCol_1",
          "pathname": "/usr/local/lib/python3.7/dist-packages/razor/flow/async_executors.py",
          "process": 2931,
          "processName": "ForkProcess-1:5",
          "thread": 140677621077824,
          "threadName": "MainThread"
         },
         {
          "asctime": "2021-03-24 04:54:51,005",
          "created": 1616561691.0059285,
          "extra": {},
          "filename": "async_executors.py",
          "funcName": "start_output_sender",
          "levelname": "DEBUG",
          "lineno": 370,
          "message": "RenameCol_1: got start_sender, outputData, ('ConcatData_1', 'inputData_2')",
          "name": "engine.logs:RenameCol_1",
          "pathname": "/usr/local/lib/python3.7/dist-packages/razor/flow/async_executors.py",
          "process": 2931,
          "processName": "ForkProcess-1:5",
          "thread": 140677621077824,
          "threadName": "MainThread"
         },
         {
          "asctime": "2021-03-24 04:54:51,007",
          "created": 1616561691.0075326,
          "extra": {},
          "filename": "async_executors.py",
          "funcName": "start_output_sender",
          "levelname": "DEBUG",
          "lineno": 375,
          "message": "RenameCol_1: SENT, inputData_2, DataFrame[title: string, label: string], ('ConcatData_1', 'inputData_2')",
          "name": "engine.logs:RenameCol_1",
          "pathname": "/usr/local/lib/python3.7/dist-packages/razor/flow/async_executors.py",
          "process": 2931,
          "processName": "ForkProcess-1:5",
          "thread": 140677621077824,
          "threadName": "MainThread"
         },
         {
          "asctime": "2021-03-24 04:54:51,007",
          "created": 1616561691.0076442,
          "extra": {},
          "filename": "async_executors.py",
          "funcName": "start_output_sender",
          "levelname": "DEBUG",
          "lineno": 375,
          "message": "RenameCol_1: SENT, inputData_2, b'__!\\tEndOfStream\\t!__', ('ConcatData_1', 'inputData_2')",
          "name": "engine.logs:RenameCol_1",
          "pathname": "/usr/local/lib/python3.7/dist-packages/razor/flow/async_executors.py",
          "process": 2931,
          "processName": "ForkProcess-1:5",
          "thread": 140677621077824,
          "threadName": "MainThread"
         },
         {
          "asctime": "2021-03-24 04:54:51,007",
          "created": 1616561691.007696,
          "extra": {},
          "filename": "async_executors.py",
          "funcName": "start_output_sender",
          "levelname": "DEBUG",
          "lineno": 379,
          "message": "RenameCol_1: completed output: ('outputData', ('ConcatData_1', 'inputData_2'))",
          "name": "engine.logs:RenameCol_1",
          "pathname": "/usr/local/lib/python3.7/dist-packages/razor/flow/async_executors.py",
          "process": 2931,
          "processName": "ForkProcess-1:5",
          "thread": 140677621077824,
          "threadName": "MainThread"
         },
         {
          "asctime": "2021-03-24 04:54:51,008",
          "created": 1616561691.0087378,
          "extra": {},
          "filename": "async_executors.py",
          "funcName": "fill_atomic_inputs",
          "levelname": "DEBUG",
          "lineno": 253,
          "message": "ConcatData_1: got atomic input: DataFrame[title: string, label: string]",
          "name": "engine.logs:ConcatData_1",
          "pathname": "/usr/local/lib/python3.7/dist-packages/razor/flow/async_executors.py",
          "process": 2931,
          "processName": "ForkProcess-1:5",
          "thread": 140677621077824,
          "threadName": "MainThread"
         },
         {
          "asctime": "2021-03-24 04:54:51,008",
          "created": 1616561691.0088215,
          "extra": {},
          "filename": "async_executors.py",
          "funcName": "fill_atomic_inputs",
          "levelname": "INFO",
          "lineno": 250,
          "message": "ConcatData_1: waiting for atomic input: config",
          "name": "engine.logs:ConcatData_1",
          "pathname": "/usr/local/lib/python3.7/dist-packages/razor/flow/async_executors.py",
          "process": 2931,
          "processName": "ForkProcess-1:5",
          "thread": 140677621077824,
          "threadName": "MainThread"
         },
         {
          "asctime": "2021-03-24 04:54:51,008",
          "created": 1616561691.0088773,
          "extra": {},
          "filename": "async_executors.py",
          "funcName": "fill_atomic_inputs",
          "levelname": "DEBUG",
          "lineno": 253,
          "message": "ConcatData_1: got atomic input: {}",
          "name": "engine.logs:ConcatData_1",
          "pathname": "/usr/local/lib/python3.7/dist-packages/razor/flow/async_executors.py",
          "process": 2931,
          "processName": "ForkProcess-1:5",
          "thread": 140677621077824,
          "threadName": "MainThread"
         },
         {
          "asctime": "2021-03-24 04:54:51,008",
          "created": 1616561691.0089142,
          "extra": {},
          "filename": "async_executors.py",
          "funcName": "fill_atomic_inputs",
          "levelname": "INFO",
          "lineno": 250,
          "message": "ConcatData_1: waiting for atomic input: source",
          "name": "engine.logs:ConcatData_1",
          "pathname": "/usr/local/lib/python3.7/dist-packages/razor/flow/async_executors.py",
          "process": 2931,
          "processName": "ForkProcess-1:5",
          "thread": 140677621077824,
          "threadName": "MainThread"
         },
         {
          "asctime": "2021-03-24 04:54:51,008",
          "created": 1616561691.0089536,
          "extra": {},
          "filename": "async_executors.py",
          "funcName": "fill_atomic_inputs",
          "levelname": "DEBUG",
          "lineno": 253,
          "message": "ConcatData_1: got atomic input: ",
          "name": "engine.logs:ConcatData_1",
          "pathname": "/usr/local/lib/python3.7/dist-packages/razor/flow/async_executors.py",
          "process": 2931,
          "processName": "ForkProcess-1:5",
          "thread": 140677621077824,
          "threadName": "MainThread"
         },
         {
          "asctime": "2021-03-24 04:54:51,014",
          "created": 1616561691.0143836,
          "extra": {},
          "filename": "async_executors.py",
          "funcName": "start_input_receiver",
          "levelname": "DEBUG",
          "lineno": 173,
          "message": "RenameCol_1: received cmd: terminate, (), {}",
          "name": "engine.logs:RenameCol_1",
          "pathname": "/usr/local/lib/python3.7/dist-packages/razor/flow/async_executors.py",
          "process": 2931,
          "processName": "ForkProcess-1:5",
          "thread": 140677621077824,
          "threadName": "MainThread"
         },
         {
          "asctime": "2021-03-24 04:54:51,009",
          "created": 1616561691.0090003,
          "extra": {},
          "filename": "async_executors.py",
          "funcName": "main",
          "levelname": "DEBUG",
          "lineno": 130,
          "message": "ConcatData_1: triggering block run",
          "name": "engine.logs:ConcatData_1",
          "pathname": "/usr/local/lib/python3.7/dist-packages/razor/flow/async_executors.py",
          "process": 2931,
          "processName": "ForkProcess-1:5",
          "thread": 140677621077824,
          "threadName": "MainThread"
         },
         {
          "asctime": "2021-03-24 04:54:51,035",
          "created": 1616561691.0351822,
          "exc_info": null,
          "extra": {},
          "filename": null,
          "full_message": null,
          "funcName": null,
          "levelname": "STDOUT",
          "lineno": null,
          "message": "Concat Data\n",
          "name": "block.stdout:ConcatData_1",
          "pathname": null,
          "process": null,
          "processName": null,
          "thread": null,
          "threadName": null
         },
         {
          "asctime": "2021-03-24 04:54:51,648",
          "created": 1616561691.6487684,
          "exc_info": null,
          "extra": {},
          "filename": null,
          "full_message": null,
          "funcName": null,
          "levelname": "STDOUT",
          "lineno": null,
          "message": "+--------------------+--------------------+\n|               title|               label|\n+--------------------+--------------------+\n|                null|                null|\n| the same newspap...|                null|\n|         \"\" it read.|                null|\n|                null|                null|\n|                null|                null|\n|                null|                null|\n|                null|                null|\n|                null|                null|\n|                null|                null|\n|                null|                null|\n|                null|                null|\n|                null|                null|\n|                null|                null|\n|                null|                null|\n| in Scotland Reut...| Bedfordshire. He...|\n|                null|                null|\n|           and Lance|                null|\n| a film based on ...|Tom Daley,Dustin ...|\n|                null|                null|\n| thus the series’...|                null|\n+--------------------+--------------------+\nonly showing top 20 rows\n\n",
          "name": "block.stdout:ConcatData_1",
          "pathname": null,
          "process": null,
          "processName": null,
          "thread": null,
          "threadName": null
         },
         {
          "asctime": "2021-03-24 04:54:51,659",
          "created": 1616561691.6596184,
          "extra": {},
          "filename": "async_executors.py",
          "funcName": "distribute_output_queue",
          "levelname": "DEBUG",
          "lineno": 308,
          "message": "ConcatData_1: ---- dist output: DataFrame[title: string, label: string] -> ('ConcatData_2', 'inputData_1')",
          "name": "engine.logs:ConcatData_1",
          "pathname": "/usr/local/lib/python3.7/dist-packages/razor/flow/async_executors.py",
          "process": 2931,
          "processName": "ForkProcess-1:5",
          "thread": 140677621077824,
          "threadName": "MainThread"
         },
         {
          "asctime": "2021-03-24 04:54:51,659",
          "created": 1616561691.6599164,
          "extra": {},
          "filename": "async_executors.py",
          "funcName": "main",
          "levelname": "DEBUG",
          "lineno": 147,
          "message": "ConcatData_1: block thread completed",
          "name": "engine.logs:ConcatData_1",
          "pathname": "/usr/local/lib/python3.7/dist-packages/razor/flow/async_executors.py",
          "process": 2931,
          "processName": "ForkProcess-1:5",
          "thread": 140677621077824,
          "threadName": "MainThread"
         },
         {
          "asctime": "2021-03-24 04:54:51,659",
          "created": 1616561691.6599894,
          "extra": {},
          "filename": "async_executors.py",
          "funcName": "main",
          "levelname": "DEBUG",
          "lineno": 149,
          "message": "ConcatData_1: block execution complete",
          "name": "engine.logs:ConcatData_1",
          "pathname": "/usr/local/lib/python3.7/dist-packages/razor/flow/async_executors.py",
          "process": 2931,
          "processName": "ForkProcess-1:5",
          "thread": 140677621077824,
          "threadName": "MainThread"
         },
         {
          "asctime": "2021-03-24 04:54:51,660",
          "created": 1616561691.660261,
          "extra": {},
          "filename": "async_executors.py",
          "funcName": "distribute_output_queue",
          "levelname": "DEBUG",
          "lineno": 308,
          "message": "ConcatData_1: ---- dist output: b'__!\\tEndOfStream\\t!__' -> ('ConcatData_2', 'inputData_1')",
          "name": "engine.logs:ConcatData_1",
          "pathname": "/usr/local/lib/python3.7/dist-packages/razor/flow/async_executors.py",
          "process": 2931,
          "processName": "ForkProcess-1:5",
          "thread": 140677621077824,
          "threadName": "MainThread"
         },
         {
          "asctime": "2021-03-24 04:54:51,704",
          "created": 1616561691.7046714,
          "extra": {},
          "filename": "async_executors.py",
          "funcName": "start_input_receiver",
          "levelname": "DEBUG",
          "lineno": 173,
          "message": "ConcatData_1: received cmd: start_sender, (), {'out_name': 'outputData', 'target': ('ConcatData_2', 'inputData_1'), 'out_addr': 'tcp://0.0.0.0:57741', 'in_memory': True}",
          "name": "engine.logs:ConcatData_1",
          "pathname": "/usr/local/lib/python3.7/dist-packages/razor/flow/async_executors.py",
          "process": 2931,
          "processName": "ForkProcess-1:5",
          "thread": 140677621077824,
          "threadName": "MainThread"
         },
         {
          "asctime": "2021-03-24 04:54:51,705",
          "created": 1616561691.7050672,
          "extra": {},
          "filename": "async_executors.py",
          "funcName": "start_output_sender",
          "levelname": "DEBUG",
          "lineno": 370,
          "message": "ConcatData_1: got start_sender, outputData, ('ConcatData_2', 'inputData_1')",
          "name": "engine.logs:ConcatData_1",
          "pathname": "/usr/local/lib/python3.7/dist-packages/razor/flow/async_executors.py",
          "process": 2931,
          "processName": "ForkProcess-1:5",
          "thread": 140677621077824,
          "threadName": "MainThread"
         },
         {
          "asctime": "2021-03-24 04:54:51,706",
          "created": 1616561691.7061255,
          "extra": {},
          "filename": "async_executors.py",
          "funcName": "start_output_sender",
          "levelname": "DEBUG",
          "lineno": 375,
          "message": "ConcatData_1: SENT, inputData_1, DataFrame[title: string, label: string], ('ConcatData_2', 'inputData_1')",
          "name": "engine.logs:ConcatData_1",
          "pathname": "/usr/local/lib/python3.7/dist-packages/razor/flow/async_executors.py",
          "process": 2931,
          "processName": "ForkProcess-1:5",
          "thread": 140677621077824,
          "threadName": "MainThread"
         },
         {
          "asctime": "2021-03-24 04:54:51,751",
          "created": 1616561691.7513006,
          "extra": {},
          "filename": "async_executors.py",
          "funcName": "fill_atomic_inputs",
          "levelname": "DEBUG",
          "lineno": 253,
          "message": "ConcatData_2: got atomic input: DataFrame[title: string, label: string]",
          "name": "engine.logs:ConcatData_2",
          "pathname": "/usr/local/lib/python3.7/dist-packages/razor/flow/async_executors.py",
          "process": 2931,
          "processName": "ForkProcess-1:5",
          "thread": 140677621077824,
          "threadName": "MainThread"
         },
         {
          "asctime": "2021-03-24 04:54:51,706",
          "created": 1616561691.7062495,
          "extra": {},
          "filename": "async_executors.py",
          "funcName": "start_output_sender",
          "levelname": "DEBUG",
          "lineno": 375,
          "message": "ConcatData_1: SENT, inputData_1, b'__!\\tEndOfStream\\t!__', ('ConcatData_2', 'inputData_1')",
          "name": "engine.logs:ConcatData_1",
          "pathname": "/usr/local/lib/python3.7/dist-packages/razor/flow/async_executors.py",
          "process": 2931,
          "processName": "ForkProcess-1:5",
          "thread": 140677621077824,
          "threadName": "MainThread"
         },
         {
          "asctime": "2021-03-24 04:54:51,751",
          "created": 1616561691.7514431,
          "extra": {},
          "filename": "async_executors.py",
          "funcName": "fill_atomic_inputs",
          "levelname": "INFO",
          "lineno": 250,
          "message": "ConcatData_2: waiting for atomic input: inputData_2",
          "name": "engine.logs:ConcatData_2",
          "pathname": "/usr/local/lib/python3.7/dist-packages/razor/flow/async_executors.py",
          "process": 2931,
          "processName": "ForkProcess-1:5",
          "thread": 140677621077824,
          "threadName": "MainThread"
         },
         {
          "asctime": "2021-03-24 04:54:51,706",
          "created": 1616561691.7063038,
          "extra": {},
          "filename": "async_executors.py",
          "funcName": "start_output_sender",
          "levelname": "DEBUG",
          "lineno": 379,
          "message": "ConcatData_1: completed output: ('outputData', ('ConcatData_2', 'inputData_1'))",
          "name": "engine.logs:ConcatData_1",
          "pathname": "/usr/local/lib/python3.7/dist-packages/razor/flow/async_executors.py",
          "process": 2931,
          "processName": "ForkProcess-1:5",
          "thread": 140677621077824,
          "threadName": "MainThread"
         },
         {
          "asctime": "2021-03-24 04:54:51,751",
          "created": 1616561691.7519863,
          "extra": {},
          "filename": "async_executors.py",
          "funcName": "fill_atomic_inputs",
          "levelname": "DEBUG",
          "lineno": 253,
          "message": "ConcatData_2: got atomic input: DataFrame[title: string, label: string]",
          "name": "engine.logs:ConcatData_2",
          "pathname": "/usr/local/lib/python3.7/dist-packages/razor/flow/async_executors.py",
          "process": 2931,
          "processName": "ForkProcess-1:5",
          "thread": 140677621077824,
          "threadName": "MainThread"
         },
         {
          "asctime": "2021-03-24 04:54:51,755",
          "created": 1616561691.7554615,
          "extra": {},
          "filename": "async_executors.py",
          "funcName": "start_input_receiver",
          "levelname": "DEBUG",
          "lineno": 173,
          "message": "ConcatData_1: received cmd: terminate, (), {}",
          "name": "engine.logs:ConcatData_1",
          "pathname": "/usr/local/lib/python3.7/dist-packages/razor/flow/async_executors.py",
          "process": 2931,
          "processName": "ForkProcess-1:5",
          "thread": 140677621077824,
          "threadName": "MainThread"
         },
         {
          "asctime": "2021-03-24 04:54:51,752",
          "created": 1616561691.7520993,
          "extra": {},
          "filename": "async_executors.py",
          "funcName": "fill_atomic_inputs",
          "levelname": "INFO",
          "lineno": 250,
          "message": "ConcatData_2: waiting for atomic input: config",
          "name": "engine.logs:ConcatData_2",
          "pathname": "/usr/local/lib/python3.7/dist-packages/razor/flow/async_executors.py",
          "process": 2931,
          "processName": "ForkProcess-1:5",
          "thread": 140677621077824,
          "threadName": "MainThread"
         },
         {
          "asctime": "2021-03-24 04:54:51,752",
          "created": 1616561691.752161,
          "extra": {},
          "filename": "async_executors.py",
          "funcName": "fill_atomic_inputs",
          "levelname": "DEBUG",
          "lineno": 253,
          "message": "ConcatData_2: got atomic input: {}",
          "name": "engine.logs:ConcatData_2",
          "pathname": "/usr/local/lib/python3.7/dist-packages/razor/flow/async_executors.py",
          "process": 2931,
          "processName": "ForkProcess-1:5",
          "thread": 140677621077824,
          "threadName": "MainThread"
         },
         {
          "asctime": "2021-03-24 04:54:51,752",
          "created": 1616561691.7522006,
          "extra": {},
          "filename": "async_executors.py",
          "funcName": "fill_atomic_inputs",
          "levelname": "INFO",
          "lineno": 250,
          "message": "ConcatData_2: waiting for atomic input: source",
          "name": "engine.logs:ConcatData_2",
          "pathname": "/usr/local/lib/python3.7/dist-packages/razor/flow/async_executors.py",
          "process": 2931,
          "processName": "ForkProcess-1:5",
          "thread": 140677621077824,
          "threadName": "MainThread"
         },
         {
          "asctime": "2021-03-24 04:54:51,752",
          "created": 1616561691.7522433,
          "extra": {},
          "filename": "async_executors.py",
          "funcName": "fill_atomic_inputs",
          "levelname": "DEBUG",
          "lineno": 253,
          "message": "ConcatData_2: got atomic input: ",
          "name": "engine.logs:ConcatData_2",
          "pathname": "/usr/local/lib/python3.7/dist-packages/razor/flow/async_executors.py",
          "process": 2931,
          "processName": "ForkProcess-1:5",
          "thread": 140677621077824,
          "threadName": "MainThread"
         },
         {
          "asctime": "2021-03-24 04:54:51,752",
          "created": 1616561691.7522936,
          "extra": {},
          "filename": "async_executors.py",
          "funcName": "main",
          "levelname": "DEBUG",
          "lineno": 130,
          "message": "ConcatData_2: triggering block run",
          "name": "engine.logs:ConcatData_2",
          "pathname": "/usr/local/lib/python3.7/dist-packages/razor/flow/async_executors.py",
          "process": 2931,
          "processName": "ForkProcess-1:5",
          "thread": 140677621077824,
          "threadName": "MainThread"
         },
         {
          "asctime": "2021-03-24 04:54:51,766",
          "created": 1616561691.7663586,
          "exc_info": null,
          "extra": {},
          "filename": null,
          "full_message": null,
          "funcName": null,
          "levelname": "STDOUT",
          "lineno": null,
          "message": "Concat Data\n",
          "name": "block.stdout:ConcatData_2",
          "pathname": null,
          "process": null,
          "processName": null,
          "thread": null,
          "threadName": null
         },
         {
          "asctime": "2021-03-24 04:54:52,593",
          "created": 1616561692.5932715,
          "exc_info": null,
          "extra": {},
          "filename": null,
          "full_message": null,
          "funcName": null,
          "levelname": "STDOUT",
          "lineno": null,
          "message": "+--------------------+--------------------+\n|               title|               label|\n+--------------------+--------------------+\n|                null|                null|\n| the same newspap...|                null|\n|         \"\" it read.|                null|\n|                null|                null|\n|                null|                null|\n|                null|                null|\n|                null|                null|\n|                null|                null|\n|                null|                null|\n|                null|                null|\n|                null|                null|\n|                null|                null|\n|                null|                null|\n|                null|                null|\n| in Scotland Reut...| Bedfordshire. He...|\n|                null|                null|\n|           and Lance|                null|\n| a film based on ...|Tom Daley,Dustin ...|\n|                null|                null|\n| thus the series’...|                null|\n+--------------------+--------------------+\nonly showing top 20 rows\n\n",
          "name": "block.stdout:ConcatData_2",
          "pathname": null,
          "process": null,
          "processName": null,
          "thread": null,
          "threadName": null
         },
         {
          "asctime": "2021-03-24 04:54:52,599",
          "created": 1616561692.5993044,
          "extra": {},
          "filename": "async_executors.py",
          "funcName": "distribute_output_queue",
          "levelname": "DEBUG",
          "lineno": 308,
          "message": "ConcatData_2: ---- dist output: DataFrame[title: string, label: string] -> ('DropDuplicates_1', 'inputData')",
          "name": "engine.logs:ConcatData_2",
          "pathname": "/usr/local/lib/python3.7/dist-packages/razor/flow/async_executors.py",
          "process": 2931,
          "processName": "ForkProcess-1:5",
          "thread": 140677621077824,
          "threadName": "MainThread"
         },
         {
          "asctime": "2021-03-24 04:54:52,599",
          "created": 1616561692.5998414,
          "extra": {},
          "filename": "async_executors.py",
          "funcName": "main",
          "levelname": "DEBUG",
          "lineno": 147,
          "message": "ConcatData_2: block thread completed",
          "name": "engine.logs:ConcatData_2",
          "pathname": "/usr/local/lib/python3.7/dist-packages/razor/flow/async_executors.py",
          "process": 2931,
          "processName": "ForkProcess-1:5",
          "thread": 140677621077824,
          "threadName": "MainThread"
         },
         {
          "asctime": "2021-03-24 04:54:52,600",
          "created": 1616561692.6000729,
          "extra": {},
          "filename": "async_executors.py",
          "funcName": "main",
          "levelname": "DEBUG",
          "lineno": 149,
          "message": "ConcatData_2: block execution complete",
          "name": "engine.logs:ConcatData_2",
          "pathname": "/usr/local/lib/python3.7/dist-packages/razor/flow/async_executors.py",
          "process": 2931,
          "processName": "ForkProcess-1:5",
          "thread": 140677621077824,
          "threadName": "MainThread"
         },
         {
          "asctime": "2021-03-24 04:54:52,600",
          "created": 1616561692.6005425,
          "extra": {},
          "filename": "async_executors.py",
          "funcName": "distribute_output_queue",
          "levelname": "DEBUG",
          "lineno": 308,
          "message": "ConcatData_2: ---- dist output: b'__!\\tEndOfStream\\t!__' -> ('DropDuplicates_1', 'inputData')",
          "name": "engine.logs:ConcatData_2",
          "pathname": "/usr/local/lib/python3.7/dist-packages/razor/flow/async_executors.py",
          "process": 2931,
          "processName": "ForkProcess-1:5",
          "thread": 140677621077824,
          "threadName": "MainThread"
         },
         {
          "asctime": "2021-03-24 04:54:52,606",
          "created": 1616561692.6062865,
          "extra": {},
          "filename": "async_executors.py",
          "funcName": "start_input_receiver",
          "levelname": "DEBUG",
          "lineno": 173,
          "message": "ConcatData_2: received cmd: start_sender, (), {'out_name': 'outputData', 'target': ('DropDuplicates_1', 'inputData'), 'out_addr': 'tcp://0.0.0.0:56416', 'in_memory': True}",
          "name": "engine.logs:ConcatData_2",
          "pathname": "/usr/local/lib/python3.7/dist-packages/razor/flow/async_executors.py",
          "process": 2931,
          "processName": "ForkProcess-1:5",
          "thread": 140677621077824,
          "threadName": "MainThread"
         },
         {
          "asctime": "2021-03-24 04:54:52,606",
          "created": 1616561692.6068804,
          "extra": {},
          "filename": "async_executors.py",
          "funcName": "start_output_sender",
          "levelname": "DEBUG",
          "lineno": 370,
          "message": "ConcatData_2: got start_sender, outputData, ('DropDuplicates_1', 'inputData')",
          "name": "engine.logs:ConcatData_2",
          "pathname": "/usr/local/lib/python3.7/dist-packages/razor/flow/async_executors.py",
          "process": 2931,
          "processName": "ForkProcess-1:5",
          "thread": 140677621077824,
          "threadName": "MainThread"
         },
         {
          "asctime": "2021-03-24 04:54:52,607",
          "created": 1616561692.6076145,
          "extra": {},
          "filename": "async_executors.py",
          "funcName": "start_output_sender",
          "levelname": "DEBUG",
          "lineno": 375,
          "message": "ConcatData_2: SENT, inputData, DataFrame[title: string, label: string], ('DropDuplicates_1', 'inputData')",
          "name": "engine.logs:ConcatData_2",
          "pathname": "/usr/local/lib/python3.7/dist-packages/razor/flow/async_executors.py",
          "process": 2931,
          "processName": "ForkProcess-1:5",
          "thread": 140677621077824,
          "threadName": "MainThread"
         },
         {
          "asctime": "2021-03-24 04:54:52,631",
          "created": 1616561692.6316278,
          "extra": {},
          "filename": "async_executors.py",
          "funcName": "fill_atomic_inputs",
          "levelname": "DEBUG",
          "lineno": 253,
          "message": "DropDuplicates_1: got atomic input: DataFrame[title: string, label: string]",
          "name": "engine.logs:DropDuplicates_1",
          "pathname": "/usr/local/lib/python3.7/dist-packages/razor/flow/async_executors.py",
          "process": 2931,
          "processName": "ForkProcess-1:5",
          "thread": 140677621077824,
          "threadName": "MainThread"
         },
         {
          "asctime": "2021-03-24 04:54:52,607",
          "created": 1616561692.6077452,
          "extra": {},
          "filename": "async_executors.py",
          "funcName": "start_output_sender",
          "levelname": "DEBUG",
          "lineno": 375,
          "message": "ConcatData_2: SENT, inputData, b'__!\\tEndOfStream\\t!__', ('DropDuplicates_1', 'inputData')",
          "name": "engine.logs:ConcatData_2",
          "pathname": "/usr/local/lib/python3.7/dist-packages/razor/flow/async_executors.py",
          "process": 2931,
          "processName": "ForkProcess-1:5",
          "thread": 140677621077824,
          "threadName": "MainThread"
         },
         {
          "asctime": "2021-03-24 04:54:52,631",
          "created": 1616561692.631961,
          "extra": {},
          "filename": "async_executors.py",
          "funcName": "fill_atomic_inputs",
          "levelname": "INFO",
          "lineno": 250,
          "message": "DropDuplicates_1: waiting for atomic input: config",
          "name": "engine.logs:DropDuplicates_1",
          "pathname": "/usr/local/lib/python3.7/dist-packages/razor/flow/async_executors.py",
          "process": 2931,
          "processName": "ForkProcess-1:5",
          "thread": 140677621077824,
          "threadName": "MainThread"
         },
         {
          "asctime": "2021-03-24 04:54:52,607",
          "created": 1616561692.6078155,
          "extra": {},
          "filename": "async_executors.py",
          "funcName": "start_output_sender",
          "levelname": "DEBUG",
          "lineno": 379,
          "message": "ConcatData_2: completed output: ('outputData', ('DropDuplicates_1', 'inputData'))",
          "name": "engine.logs:ConcatData_2",
          "pathname": "/usr/local/lib/python3.7/dist-packages/razor/flow/async_executors.py",
          "process": 2931,
          "processName": "ForkProcess-1:5",
          "thread": 140677621077824,
          "threadName": "MainThread"
         },
         {
          "asctime": "2021-03-24 04:54:52,632",
          "created": 1616561692.6320539,
          "extra": {},
          "filename": "async_executors.py",
          "funcName": "fill_atomic_inputs",
          "levelname": "DEBUG",
          "lineno": 253,
          "message": "DropDuplicates_1: got atomic input: {}",
          "name": "engine.logs:DropDuplicates_1",
          "pathname": "/usr/local/lib/python3.7/dist-packages/razor/flow/async_executors.py",
          "process": 2931,
          "processName": "ForkProcess-1:5",
          "thread": 140677621077824,
          "threadName": "MainThread"
         },
         {
          "asctime": "2021-03-24 04:54:52,636",
          "created": 1616561692.6366541,
          "extra": {},
          "filename": "async_executors.py",
          "funcName": "start_input_receiver",
          "levelname": "DEBUG",
          "lineno": 173,
          "message": "ConcatData_2: received cmd: terminate, (), {}",
          "name": "engine.logs:ConcatData_2",
          "pathname": "/usr/local/lib/python3.7/dist-packages/razor/flow/async_executors.py",
          "process": 2931,
          "processName": "ForkProcess-1:5",
          "thread": 140677621077824,
          "threadName": "MainThread"
         },
         {
          "asctime": "2021-03-24 04:54:52,632",
          "created": 1616561692.632104,
          "extra": {},
          "filename": "async_executors.py",
          "funcName": "fill_atomic_inputs",
          "levelname": "INFO",
          "lineno": 250,
          "message": "DropDuplicates_1: waiting for atomic input: source",
          "name": "engine.logs:DropDuplicates_1",
          "pathname": "/usr/local/lib/python3.7/dist-packages/razor/flow/async_executors.py",
          "process": 2931,
          "processName": "ForkProcess-1:5",
          "thread": 140677621077824,
          "threadName": "MainThread"
         },
         {
          "asctime": "2021-03-24 04:54:52,632",
          "created": 1616561692.6321495,
          "extra": {},
          "filename": "async_executors.py",
          "funcName": "fill_atomic_inputs",
          "levelname": "DEBUG",
          "lineno": 253,
          "message": "DropDuplicates_1: got atomic input: ",
          "name": "engine.logs:DropDuplicates_1",
          "pathname": "/usr/local/lib/python3.7/dist-packages/razor/flow/async_executors.py",
          "process": 2931,
          "processName": "ForkProcess-1:5",
          "thread": 140677621077824,
          "threadName": "MainThread"
         },
         {
          "asctime": "2021-03-24 04:54:52,632",
          "created": 1616561692.6322238,
          "extra": {},
          "filename": "async_executors.py",
          "funcName": "main",
          "levelname": "DEBUG",
          "lineno": 130,
          "message": "DropDuplicates_1: triggering block run",
          "name": "engine.logs:DropDuplicates_1",
          "pathname": "/usr/local/lib/python3.7/dist-packages/razor/flow/async_executors.py",
          "process": 2931,
          "processName": "ForkProcess-1:5",
          "thread": 140677621077824,
          "threadName": "MainThread"
         },
         {
          "asctime": "2021-03-24 04:54:52,646",
          "created": 1616561692.646014,
          "exc_info": null,
          "extra": {},
          "filename": null,
          "full_message": null,
          "funcName": null,
          "levelname": "STDOUT",
          "lineno": null,
          "message": "final dataframe\n",
          "name": "block.stdout:DropDuplicates_1",
          "pathname": null,
          "process": null,
          "processName": null,
          "thread": null,
          "threadName": null
         },
         {
          "asctime": "2021-03-24 04:54:57,451",
          "created": 1616561697.4519439,
          "exc_info": null,
          "extra": {},
          "filename": null,
          "full_message": null,
          "funcName": null,
          "levelname": "STDOUT",
          "lineno": null,
          "message": "+--------------------+--------------------+\n|               title|               label|\n+--------------------+--------------------+\n|    which he loves.”|                null|\n|         200 screens|                null|\n| and self-serious...|                null|\n| playing a mother...|                null|\n|       Donald Glover|https://www.nbclo...|\n| General James F....|                null|\n|Your favorite new...|                   1|\n| which really wor...|                null|\n| and Fifty Shades...|  MovieQuotesandMore|\n| we can give you ...|                null|\n| has led many to ...|                null|\n| they look for ba...|                null|\n| alongside Tom Ho...|                null|\n|    ['Mayer Nissim']|                null|\n|Naya Rivera made ...|          PEOPLE.com|\n| but now our life...|                null|\n| Patrick Ryan sai...|                null|\n|     on top of me.”\"|                null|\n|\"\" Larry said bef...|                null|\n|\"Former Real Hous...|     WordPress 5.6.2|\n+--------------------+--------------------+\nonly showing top 20 rows\n\n",
          "name": "block.stdout:DropDuplicates_1",
          "pathname": null,
          "process": null,
          "processName": null,
          "thread": null,
          "threadName": null
         },
         {
          "asctime": "2021-03-24 04:54:57,457",
          "created": 1616561697.457302,
          "extra": {},
          "filename": "async_executors.py",
          "funcName": "main",
          "levelname": "DEBUG",
          "lineno": 147,
          "message": "DropDuplicates_1: block thread completed",
          "name": "engine.logs:DropDuplicates_1",
          "pathname": "/usr/local/lib/python3.7/dist-packages/razor/flow/async_executors.py",
          "process": 2931,
          "processName": "ForkProcess-1:5",
          "thread": 140677621077824,
          "threadName": "MainThread"
         },
         {
          "asctime": "2021-03-24 04:54:57,457",
          "created": 1616561697.457436,
          "extra": {},
          "filename": "async_executors.py",
          "funcName": "main",
          "levelname": "DEBUG",
          "lineno": 149,
          "message": "DropDuplicates_1: block execution complete",
          "name": "engine.logs:DropDuplicates_1",
          "pathname": "/usr/local/lib/python3.7/dist-packages/razor/flow/async_executors.py",
          "process": 2931,
          "processName": "ForkProcess-1:5",
          "thread": 140677621077824,
          "threadName": "MainThread"
         },
         {
          "asctime": "2021-03-24 04:54:57,465",
          "created": 1616561697.4652495,
          "extra": {},
          "filename": "async_executors.py",
          "funcName": "start_input_receiver",
          "levelname": "DEBUG",
          "lineno": 173,
          "message": "DropDuplicates_1: received cmd: terminate, (), {}",
          "name": "engine.logs:DropDuplicates_1",
          "pathname": "/usr/local/lib/python3.7/dist-packages/razor/flow/async_executors.py",
          "process": 2931,
          "processName": "ForkProcess-1:5",
          "thread": 140677621077824,
          "threadName": "MainThread"
         }
        ],
        "meta": {
         "block_status": {
          "ConcatData_1": "SUCCESS",
          "ConcatData_2": "SUCCESS",
          "DropDuplicates_1": "SUCCESS",
          "NonSparkCols_1": "SUCCESS",
          "NonSparkCols_2": "SUCCESS",
          "NonSparkPath_1": "SUCCESS",
          "NonSparkPath_2": "SUCCESS",
          "ReadCsvProjectSpace_1": "SUCCESS",
          "ReadCsvProjectSpace_2": "SUCCESS",
          "RenameCol_1": "SUCCESS",
          "SelectData_1": "SUCCESS",
          "SelectData_2": "SUCCESS"
         },
         "blocks": [
          {
           "class_name": "NonSparkCols",
           "fullname": ".NonSparkCols",
           "id": "48d12d67-bab2-4a26-a469-3c676a89e476",
           "inputs": [
            {
             "dataType": null,
             "default": null,
             "flow": "atomic",
             "help": null,
             "isdict": false,
             "islist": false,
             "label": "cols_list",
             "meta": {},
             "name": "cols_list",
             "series": false,
             "type": "Any",
             "type_check": true
            }
           ],
           "outputs": [
            {
             "flow": "atomic",
             "help": null,
             "label": "selected_cols",
             "meta": {},
             "name": "selected_cols",
             "series": false,
             "type": "Any",
             "type_check": true
            }
           ],
           "overwritten": false,
           "published": false,
           "var_names": [
            "NonSparkCols"
           ]
          },
          {
           "class_name": "DropDuplicates",
           "fullname": ".DropDuplicates",
           "id": "a2a893bd-c7fb-4b02-ba17-4a3f4f50123f",
           "inputs": [
            {
             "dataType": null,
             "default": null,
             "flow": "atomic",
             "help": null,
             "isdict": false,
             "islist": false,
             "label": "inputData",
             "meta": {},
             "name": "inputData",
             "series": false,
             "type": "DataFrame",
             "type_check": true
            },
            {
             "dataType": "dict",
             "default": {},
             "flow": "atomic",
             "help": null,
             "isdict": false,
             "islist": false,
             "label": "config",
             "meta": {},
             "name": "config",
             "series": false,
             "type": "dict",
             "type_check": true
            },
            {
             "dataType": "string",
             "default": "",
             "flow": "atomic",
             "help": null,
             "isdict": false,
             "islist": false,
             "label": "source",
             "meta": {},
             "name": "source",
             "series": false,
             "type": "str",
             "type_check": true
            }
           ],
           "outputs": [
            {
             "flow": "atomic",
             "help": null,
             "label": "outputData",
             "meta": {},
             "name": "outputData",
             "series": false,
             "type": "DataFrame",
             "type_check": true
            }
           ],
           "overwritten": false,
           "published": false,
           "var_names": [
            "DropDuplicates"
           ]
          },
          {
           "class_name": "SelectData",
           "fullname": ".SelectData",
           "id": "53d83816-c95a-4198-b3b0-52724d722db6",
           "inputs": [
            {
             "dataType": null,
             "default": null,
             "flow": "atomic",
             "help": null,
             "isdict": false,
             "islist": false,
             "label": "wanted_cols",
             "meta": {},
             "name": "wanted_cols",
             "series": false,
             "type": "Any",
             "type_check": true
            },
            {
             "dataType": null,
             "default": null,
             "flow": "atomic",
             "help": null,
             "isdict": false,
             "islist": false,
             "label": "inputData",
             "meta": {},
             "name": "inputData",
             "series": false,
             "type": "DataFrame",
             "type_check": true
            },
            {
             "dataType": "dict",
             "default": {},
             "flow": "atomic",
             "help": null,
             "isdict": false,
             "islist": false,
             "label": "config",
             "meta": {},
             "name": "config",
             "series": false,
             "type": "dict",
             "type_check": true
            },
            {
             "dataType": "string",
             "default": "",
             "flow": "atomic",
             "help": null,
             "isdict": false,
             "islist": false,
             "label": "source",
             "meta": {},
             "name": "source",
             "series": false,
             "type": "str",
             "type_check": true
            }
           ],
           "outputs": [
            {
             "flow": "atomic",
             "help": null,
             "label": "outputData",
             "meta": {},
             "name": "outputData",
             "series": false,
             "type": "DataFrame",
             "type_check": true
            }
           ],
           "overwritten": false,
           "published": false,
           "var_names": [
            "SelectData"
           ]
          },
          {
           "class_name": "ConcatData",
           "fullname": ".ConcatData",
           "id": "67e8dc47-1dea-4fda-ab99-e99766ed18d6",
           "inputs": [
            {
             "dataType": null,
             "default": null,
             "flow": "atomic",
             "help": null,
             "isdict": false,
             "islist": false,
             "label": "inputData_1",
             "meta": {},
             "name": "inputData_1",
             "series": false,
             "type": "DataFrame",
             "type_check": true
            },
            {
             "dataType": null,
             "default": null,
             "flow": "atomic",
             "help": null,
             "isdict": false,
             "islist": false,
             "label": "inputData_2",
             "meta": {},
             "name": "inputData_2",
             "series": false,
             "type": "DataFrame",
             "type_check": true
            },
            {
             "dataType": "dict",
             "default": {},
             "flow": "atomic",
             "help": null,
             "isdict": false,
             "islist": false,
             "label": "config",
             "meta": {},
             "name": "config",
             "series": false,
             "type": "dict",
             "type_check": true
            },
            {
             "dataType": "string",
             "default": "",
             "flow": "atomic",
             "help": null,
             "isdict": false,
             "islist": false,
             "label": "source",
             "meta": {},
             "name": "source",
             "series": false,
             "type": "str",
             "type_check": true
            }
           ],
           "outputs": [
            {
             "flow": "atomic",
             "help": null,
             "label": "outputData",
             "meta": {},
             "name": "outputData",
             "series": false,
             "type": "DataFrame",
             "type_check": true
            }
           ],
           "overwritten": false,
           "published": false,
           "var_names": [
            "ConcatData"
           ]
          },
          {
           "class_name": "RenameCol",
           "fullname": ".RenameCol",
           "id": "a0b8b6d9-d5ad-470c-a557-5d9db2a83715",
           "inputs": [
            {
             "dataType": null,
             "default": null,
             "flow": "atomic",
             "help": null,
             "isdict": false,
             "islist": false,
             "label": "inputData",
             "meta": {},
             "name": "inputData",
             "series": false,
             "type": "DataFrame",
             "type_check": true
            },
            {
             "dataType": null,
             "default": null,
             "flow": "atomic",
             "help": null,
             "isdict": false,
             "islist": false,
             "label": "col_dic",
             "meta": {},
             "name": "col_dic",
             "series": false,
             "type": "Any",
             "type_check": true
            },
            {
             "dataType": "dict",
             "default": {},
             "flow": "atomic",
             "help": null,
             "isdict": false,
             "islist": false,
             "label": "config",
             "meta": {},
             "name": "config",
             "series": false,
             "type": "dict",
             "type_check": true
            },
            {
             "dataType": "string",
             "default": "",
             "flow": "atomic",
             "help": null,
             "isdict": false,
             "islist": false,
             "label": "source",
             "meta": {},
             "name": "source",
             "series": false,
             "type": "str",
             "type_check": true
            }
           ],
           "outputs": [
            {
             "flow": "atomic",
             "help": null,
             "label": "outputData",
             "meta": {},
             "name": "outputData",
             "series": false,
             "type": "DataFrame",
             "type_check": true
            }
           ],
           "overwritten": false,
           "published": false,
           "var_names": [
            "RenameCol"
           ]
          },
          {
           "class_name": "ReadCsvProjectSpace",
           "fullname": ".ReadCsvProjectSpace",
           "id": "989291f1-f347-4ee9-97ea-a8be700fb3ed",
           "inputs": [
            {
             "dataType": "string",
             "default": "",
             "flow": "atomic",
             "help": null,
             "isdict": false,
             "islist": false,
             "label": "filename",
             "meta": {},
             "name": "filename",
             "series": false,
             "type": "str",
             "type_check": true
            },
            {
             "dataType": "dict",
             "default": {},
             "flow": "atomic",
             "help": null,
             "isdict": false,
             "islist": false,
             "label": "config",
             "meta": {},
             "name": "config",
             "series": false,
             "type": "dict",
             "type_check": true
            },
            {
             "dataType": "string",
             "default": "",
             "flow": "atomic",
             "help": null,
             "isdict": false,
             "islist": false,
             "label": "source",
             "meta": {},
             "name": "source",
             "series": false,
             "type": "str",
             "type_check": true
            }
           ],
           "outputs": [
            {
             "flow": "atomic",
             "help": null,
             "label": "data",
             "meta": {},
             "name": "data",
             "series": false,
             "type": "DataFrame",
             "type_check": true
            }
           ],
           "overwritten": false,
           "published": false,
           "var_names": [
            "ReadCsvProjectSpace"
           ]
          },
          {
           "class_name": "NonSparkPath",
           "fullname": ".NonSparkPath",
           "id": "136be58c-4cfa-4e44-991e-7441b8cd1baa",
           "inputs": [
            {
             "dataType": "string",
             "default": "",
             "flow": "atomic",
             "help": null,
             "isdict": false,
             "islist": false,
             "label": "ip_path",
             "meta": {},
             "name": "ip_path",
             "series": false,
             "type": "str",
             "type_check": true
            }
           ],
           "outputs": [
            {
             "flow": "atomic",
             "help": null,
             "label": "selected_cols",
             "meta": {},
             "name": "selected_cols",
             "series": false,
             "type": "Any",
             "type_check": true
            },
            {
             "flow": "atomic",
             "help": null,
             "label": "op_path",
             "meta": {},
             "name": "op_path",
             "series": false,
             "type": "str",
             "type_check": true
            }
           ],
           "overwritten": false,
           "published": false,
           "var_names": [
            "NonSparkPath"
           ]
          }
         ],
         "connections": [
          {
           "id": "d28d4262-ae54-4268-9057-e41f7ff35b7a",
           "source": {
            "adapter": false,
            "instance_id": "5f284281-39d1-410d-9e36-03368e770daf",
            "name": "outputData"
           },
           "target": {
            "adapter": false,
            "instance_id": "dd630da0-71ea-4143-bcbe-bfd26d548391",
            "name": "inputData_2"
           }
          },
          {
           "id": "30aa44da-66c7-48db-9dd3-6b99903e8beb",
           "source": {
            "adapter": false,
            "instance_id": "dd630da0-71ea-4143-bcbe-bfd26d548391",
            "name": "outputData"
           },
           "target": {
            "adapter": false,
            "instance_id": "af802a00-ad3b-4495-b9c7-aefc215962ac",
            "name": "inputData"
           }
          },
          {
           "id": "2a81f43a-818e-4fda-87df-bc58297feb66",
           "source": {
            "adapter": false,
            "instance_id": "4b4ff7d0-ddfc-4b3c-9be9-1b042f917e0f",
            "name": "data"
           },
           "target": {
            "adapter": false,
            "instance_id": "5f284281-39d1-410d-9e36-03368e770daf",
            "name": "inputData"
           }
          },
          {
           "id": "3c0f28e2-00cd-48a6-bd58-7727b772bb95",
           "source": {
            "adapter": false,
            "instance_id": "54e53c7e-9c7b-485c-a39c-fc7896f7ea8e",
            "name": "outputData"
           },
           "target": {
            "adapter": false,
            "instance_id": "dd630da0-71ea-4143-bcbe-bfd26d548391",
            "name": "inputData_1"
           }
          },
          {
           "id": "33d3538d-a0ac-4ec8-a06a-3ed1847c6f51",
           "source": {
            "adapter": false,
            "instance_id": "cf677f99-085b-4765-8771-b2e12bd0d83e",
            "name": "data"
           },
           "target": {
            "adapter": false,
            "instance_id": "40b04f2e-e507-489f-a75f-762de290b907",
            "name": "inputData"
           }
          },
          {
           "id": "146b68db-10ba-4584-899f-5c43c9e6871e",
           "source": {
            "adapter": false,
            "instance_id": "9c42a05c-466f-415d-b48d-c9207e12b6b3",
            "name": "selected_cols"
           },
           "target": {
            "adapter": false,
            "instance_id": "40b04f2e-e507-489f-a75f-762de290b907",
            "name": "wanted_cols"
           }
          },
          {
           "id": "e8c9bd1a-11bd-41f3-83ce-ea8c3a86ef2b",
           "source": {
            "adapter": false,
            "instance_id": "40b04f2e-e507-489f-a75f-762de290b907",
            "name": "outputData"
           },
           "target": {
            "adapter": false,
            "instance_id": "ce9b1a38-e711-4510-9b3b-f33bbdde21ce",
            "name": "inputData"
           }
          },
          {
           "id": "13d95fdd-64ea-440f-9aa6-838e8699438c",
           "source": {
            "adapter": false,
            "instance_id": "de9629d3-bc4e-4b9e-b4b9-b0d19b5dc9ab",
            "name": "selected_cols"
           },
           "target": {
            "adapter": false,
            "instance_id": "5f284281-39d1-410d-9e36-03368e770daf",
            "name": "wanted_cols"
           }
          },
          {
           "id": "0388e3cd-51f3-4dd7-84d3-b08c32edd4c3",
           "source": {
            "adapter": false,
            "instance_id": "5f284281-39d1-410d-9e36-03368e770daf",
            "name": "outputData"
           },
           "target": {
            "adapter": false,
            "instance_id": "54e53c7e-9c7b-485c-a39c-fc7896f7ea8e",
            "name": "inputData_1"
           }
          },
          {
           "id": "9b16cfc9-2e88-45b8-a271-531188b3d4da",
           "source": {
            "adapter": false,
            "instance_id": "ce9b1a38-e711-4510-9b3b-f33bbdde21ce",
            "name": "outputData"
           },
           "target": {
            "adapter": false,
            "instance_id": "54e53c7e-9c7b-485c-a39c-fc7896f7ea8e",
            "name": "inputData_2"
           }
          },
          {
           "id": "dba1a9cf-f0ac-4dd0-90f0-dff8f461f79e",
           "source": {
            "adapter": false,
            "instance_id": "a15db150-1412-481e-b653-f851d89a0fd3",
            "name": "op_path"
           },
           "target": {
            "adapter": false,
            "instance_id": "4b4ff7d0-ddfc-4b3c-9be9-1b042f917e0f",
            "name": "filename"
           }
          },
          {
           "id": "99dd994a-9a7d-4922-9c0c-71ed967e5c7d",
           "source": {
            "adapter": false,
            "instance_id": "627f6217-2670-4f47-949e-8e1a92cab079",
            "name": "op_path"
           },
           "target": {
            "adapter": false,
            "instance_id": "cf677f99-085b-4765-8771-b2e12bd0d83e",
            "name": "filename"
           }
          }
         ],
         "end": 1616561697.4695303,
         "id": "dacc7b96-dbe4-45e9-9949-7bd86c7cfbe8",
         "instances": [
          {
           "block_class": "48d12d67-bab2-4a26-a469-3c676a89e476",
           "id": "de9629d3-bc4e-4b9e-b4b9-b0d19b5dc9ab",
           "name": "NonSparkCols_1",
           "var_names": [
            "nsc"
           ]
          },
          {
           "block_class": "136be58c-4cfa-4e44-991e-7441b8cd1baa",
           "id": "a15db150-1412-481e-b653-f851d89a0fd3",
           "name": "NonSparkPath_1",
           "var_names": [
            "nsp"
           ]
          },
          {
           "block_class": "48d12d67-bab2-4a26-a469-3c676a89e476",
           "id": "9c42a05c-466f-415d-b48d-c9207e12b6b3",
           "name": "NonSparkCols_2",
           "var_names": [
            "nsc1"
           ]
          },
          {
           "block_class": "136be58c-4cfa-4e44-991e-7441b8cd1baa",
           "id": "627f6217-2670-4f47-949e-8e1a92cab079",
           "name": "NonSparkPath_2",
           "var_names": [
            "nsp1"
           ]
          },
          {
           "block_class": "a2a893bd-c7fb-4b02-ba17-4a3f4f50123f",
           "id": "af802a00-ad3b-4495-b9c7-aefc215962ac",
           "name": "DropDuplicates_1",
           "var_names": [
            "dd"
           ]
          },
          {
           "block_class": "67e8dc47-1dea-4fda-ab99-e99766ed18d6",
           "id": "dd630da0-71ea-4143-bcbe-bfd26d548391",
           "name": "ConcatData_2",
           "var_names": [
            "cd1"
           ]
          },
          {
           "block_class": "67e8dc47-1dea-4fda-ab99-e99766ed18d6",
           "id": "54e53c7e-9c7b-485c-a39c-fc7896f7ea8e",
           "name": "ConcatData_1",
           "var_names": [
            "cd"
           ]
          },
          {
           "block_class": "53d83816-c95a-4198-b3b0-52724d722db6",
           "id": "5f284281-39d1-410d-9e36-03368e770daf",
           "name": "SelectData_1",
           "var_names": [
            "sd"
           ]
          },
          {
           "block_class": "989291f1-f347-4ee9-97ea-a8be700fb3ed",
           "id": "4b4ff7d0-ddfc-4b3c-9be9-1b042f917e0f",
           "name": "ReadCsvProjectSpace_1",
           "var_names": [
            "rcp"
           ]
          },
          {
           "block_class": "a0b8b6d9-d5ad-470c-a557-5d9db2a83715",
           "id": "ce9b1a38-e711-4510-9b3b-f33bbdde21ce",
           "name": "RenameCol_1",
           "var_names": [
            "rc"
           ]
          },
          {
           "block_class": "53d83816-c95a-4198-b3b0-52724d722db6",
           "id": "40b04f2e-e507-489f-a75f-762de290b907",
           "name": "SelectData_2",
           "var_names": [
            "sd1"
           ]
          },
          {
           "block_class": "989291f1-f347-4ee9-97ea-a8be700fb3ed",
           "id": "cf677f99-085b-4765-8771-b2e12bd0d83e",
           "name": "ReadCsvProjectSpace_2",
           "var_names": [
            "rcp1"
           ]
          }
         ],
         "log_level": 20,
         "name": "Pipeline_1",
         "start": 1616561680.2173314,
         "status": "SUCCESS",
         "system_logs": false,
         "var_names": []
        },
        "metrics": {},
        "runtime": {
         "ConcatData_1": {
          "end": 1616561691.7295222,
          "load": 1616561680.5056973,
          "start": 1616561680.52428
         },
         "ConcatData_2": {
          "end": 1616561692.6318336,
          "load": 1616561680.5056973,
          "start": 1616561680.52428
         },
         "DropDuplicates_1": {
          "end": 1616561697.4629884,
          "load": 1616561680.5056973,
          "start": 1616561680.52428
         },
         "NonSparkCols_1": {
          "end": 1616561680.7076876,
          "load": 1616561680.2189293,
          "start": 1616561680.2253082
         },
         "NonSparkCols_2": {
          "end": 1616561680.7018034,
          "load": 1616561680.2387779,
          "start": 1616561680.245509
         },
         "NonSparkPath_1": {
          "end": 1616561680.6936674,
          "load": 1616561680.228752,
          "start": 1616561680.235595
         },
         "NonSparkPath_2": {
          "end": 1616561680.6928203,
          "load": 1616561680.248567,
          "start": 1616561680.2553616
         },
         "ReadCsvProjectSpace_1": {
          "end": 1616561690.7930133,
          "load": 1616561680.5056973,
          "start": 1616561680.52428
         },
         "ReadCsvProjectSpace_2": {
          "end": 1616561690.7892604,
          "load": 1616561680.5056973,
          "start": 1616561680.52428
         },
         "RenameCol_1": {
          "end": 1616561691.0097852,
          "load": 1616561680.5056973,
          "start": 1616561680.52428
         },
         "SelectData_1": {
          "end": 1616561691.0004957,
          "load": 1616561680.5056973,
          "start": 1616561680.52428
         },
         "SelectData_2": {
          "end": 1616561690.9707844,
          "load": 1616561680.5056973,
          "start": 1616561680.52428
         }
        }
       },
       "store_in_notebook": true
      }
     },
     "output_type": "display_data"
    },
    {
     "data": {
      "text/plain": [
       "{}"
      ]
     },
     "execution_count": 9,
     "metadata": {},
     "output_type": "execute_result"
    }
   ],
   "source": [
    "pipe.execute()"
   ]
  },
  {
   "cell_type": "code",
   "execution_count": null,
   "id": "junior-invasion",
   "metadata": {},
   "outputs": [],
   "source": []
  },
  {
   "cell_type": "code",
   "execution_count": null,
   "id": "remarkable-article",
   "metadata": {},
   "outputs": [],
   "source": []
  }
 ],
 "metadata": {
  "kernelspec": {
   "display_name": "Python 3",
   "language": "python",
   "name": "python3"
  },
  "language_info": {
   "codemirror_mode": {
    "name": "ipython",
    "version": 3
   },
   "file_extension": ".py",
   "mimetype": "text/x-python",
   "name": "python",
   "nbconvert_exporter": "python",
   "pygments_lexer": "ipython3",
   "version": "3.7.10"
  }
 },
 "nbformat": 4,
 "nbformat_minor": 5
}
