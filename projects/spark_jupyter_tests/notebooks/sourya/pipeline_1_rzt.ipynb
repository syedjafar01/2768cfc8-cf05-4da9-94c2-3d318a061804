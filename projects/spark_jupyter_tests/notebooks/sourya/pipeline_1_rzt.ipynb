{
 "cells": [
  {
   "cell_type": "code",
   "execution_count": 1,
   "id": "popular-panel",
   "metadata": {},
   "outputs": [],
   "source": [
    "import razor\n",
    "import razor.flow as rf\n",
    "from razor import api\n",
    "from razor.flow.spark import SparkBlock, SparkExecutor\n",
    "import typing as t"
   ]
  },
  {
   "cell_type": "code",
   "execution_count": 2,
   "id": "incorrect-installation",
   "metadata": {},
   "outputs": [],
   "source": [
    "import os\n",
    "from datetime import datetime, timedelta\n",
    "from pyspark.sql import SparkSession, functions\n",
    "from pyspark.sql.dataframe import DataFrame\n",
    "from datetime import datetime, timedelta\n",
    "from dateutil.relativedelta import relativedelta"
   ]
  },
  {
   "cell_type": "code",
   "execution_count": 3,
   "id": "recovered-strike",
   "metadata": {},
   "outputs": [],
   "source": [
    "\n",
    "from razor.project.blocks.sourya_spark_blocks import NonSparkCols\n",
    "from razor.project.blocks.sourya_spark_blocks import ReadCsvProjectSpace\n",
    "from razor.project.blocks.sourya_spark_blocks import NonSparkPath\n",
    "from razor.project.blocks.sourya_spark_blocks import DropDuplicates\n",
    "from razor.project.blocks.sourya_spark_blocks import RenameCol\n",
    "from razor.project.blocks.sourya_spark_blocks import ConcatData\n",
    "from razor.project.blocks.sourya_spark_blocks import SelectDataDescribe\n",
    "from razor.project.blocks.sourya_spark_blocks import SelectData\n",
    "from razor.project.blocks.sourya_spark_blocks import ReadCsvProjectSpaceETA"
   ]
  },
  {
   "cell_type": "code",
   "execution_count": 4,
   "id": "characteristic-auction",
   "metadata": {},
   "outputs": [],
   "source": [
    "def project_space_path(path):\n",
    "    ps = api.datasources('Project Space')\n",
    "    return os.path.join(ps.abspath(), path)\n"
   ]
  },
  {
   "cell_type": "code",
   "execution_count": 5,
   "id": "hidden-softball",
   "metadata": {},
   "outputs": [],
   "source": [
    "\n",
    "# @rf.block\n",
    "# class NonSparkPath:\n",
    "#     ip_path: str\n",
    "#     op_path: rf.Output[str]\n",
    "#     def run(self):\n",
    "#         self.op_path.put(project_space_path(self.ip_path))\n",
    "        \n",
    "\n",
    "# @rf.block\n",
    "# class ReadCsvProjectSpaceETA(SparkBlock):\n",
    "#     filename:str    \n",
    "#     def run(self):\n",
    "#         df = self.spark.read.csv(self.filename, header = True)\n",
    "#         print(\"Data Schema\")\n",
    "#         df.printSchema()\n",
    "        \n",
    "\n",
    "# @rf.block\n",
    "# class SelectDataDescribe(SparkBlock):\n",
    "#     filename: str\n",
    "#     def run(self):\n",
    "#         df = self.spark.read.csv(self.filename, header = True)\n",
    "#         print(\"Data Stat\")\n",
    "#         df_stat = df.describe()\n",
    "#         df_stat.show()\n",
    "        \n",
    "        \n",
    "        \n",
    "        \n",
    "        "
   ]
  },
  {
   "cell_type": "code",
   "execution_count": 6,
   "id": "advanced-adobe",
   "metadata": {},
   "outputs": [],
   "source": [
    "nsp = NonSparkPath(ip_path='train_hatespeech.csv')\n",
    "rcp = ReadCsvProjectSpaceETA(filename = nsp.op_path, config={}, source=\"\")\n",
    "sd = SelectDataDescribe(filename = nsp.op_path, config={}, source=\"\")\n",
    "# rcp.executor = rf.ProcessExecutor\n",
    "# sd.executor = rf.ProcessExecutor"
   ]
  },
  {
   "cell_type": "code",
   "execution_count": 7,
   "id": "elder-sauce",
   "metadata": {},
   "outputs": [],
   "source": [
    "pipe = rf.Pipeline('pipeline_sd_1',targets = [rcp,sd])"
   ]
  },
  {
   "cell_type": "code",
   "execution_count": 8,
   "id": "varied-sympathy",
   "metadata": {},
   "outputs": [
    {
     "data": {
      "application/vnd.razorthink.interactive+pipeline+view+json": {
       "blocks": [
        {
         "class_name": "SelectDataDescribe",
         "fullname": "razor.project.blocks.sourya_spark_blocks.SelectDataDescribe",
         "id": "48c4df70-b507-4581-a3c7-71ca84d558fd",
         "inputs": [
          {
           "dataType": "string",
           "default": "",
           "flow": "atomic",
           "help": null,
           "isdict": false,
           "islist": false,
           "label": "filename",
           "meta": {},
           "name": "filename",
           "series": false,
           "type": "str",
           "type_check": true
          },
          {
           "dataType": "dict",
           "default": {},
           "flow": "atomic",
           "help": null,
           "isdict": false,
           "islist": false,
           "label": "config",
           "meta": {},
           "name": "config",
           "series": false,
           "type": "dict",
           "type_check": true
          },
          {
           "dataType": "string",
           "default": "",
           "flow": "atomic",
           "help": null,
           "isdict": false,
           "islist": false,
           "label": "source",
           "meta": {},
           "name": "source",
           "series": false,
           "type": "str",
           "type_check": true
          }
         ],
         "outputs": [],
         "overwritten": false,
         "published": true,
         "var_names": [
          "SelectDataDescribe"
         ]
        },
        {
         "class_name": "NonSparkPath",
         "fullname": "razor.project.blocks.sourya_spark_blocks.NonSparkPath",
         "id": "e09870f8-f3a2-4fdc-b725-4b1049b9a541",
         "inputs": [
          {
           "dataType": "string",
           "default": "",
           "flow": "atomic",
           "help": null,
           "isdict": false,
           "islist": false,
           "label": "ip_path",
           "meta": {},
           "name": "ip_path",
           "series": false,
           "type": "str",
           "type_check": true
          }
         ],
         "outputs": [
          {
           "flow": "atomic",
           "help": null,
           "label": "op_path",
           "meta": {},
           "name": "op_path",
           "series": false,
           "type": "str",
           "type_check": true
          }
         ],
         "overwritten": false,
         "published": true,
         "var_names": [
          "NonSparkPath"
         ]
        },
        {
         "class_name": "ReadCsvProjectSpaceETA",
         "fullname": "razor.project.blocks.sourya_spark_blocks.ReadCsvProjectSpaceETA",
         "id": "a95f80ae-dc32-48fe-872f-c78d203f4fc9",
         "inputs": [
          {
           "dataType": "string",
           "default": "",
           "flow": "atomic",
           "help": null,
           "isdict": false,
           "islist": false,
           "label": "filename",
           "meta": {},
           "name": "filename",
           "series": false,
           "type": "str",
           "type_check": true
          },
          {
           "dataType": "dict",
           "default": {},
           "flow": "atomic",
           "help": null,
           "isdict": false,
           "islist": false,
           "label": "config",
           "meta": {},
           "name": "config",
           "series": false,
           "type": "dict",
           "type_check": true
          },
          {
           "dataType": "string",
           "default": "",
           "flow": "atomic",
           "help": null,
           "isdict": false,
           "islist": false,
           "label": "source",
           "meta": {},
           "name": "source",
           "series": false,
           "type": "str",
           "type_check": true
          }
         ],
         "outputs": [],
         "overwritten": false,
         "published": true,
         "var_names": [
          "ReadCsvProjectSpaceETA"
         ]
        }
       ],
       "connections": [
        {
         "id": "bf3042df-f384-439f-97a8-d6aacc2f98b0",
         "source": {
          "adapter": false,
          "instance_id": "f50f1256-8dcc-46dd-8378-bc9f3828e947",
          "name": "op_path"
         },
         "target": {
          "adapter": false,
          "instance_id": "68f5b0c5-96e9-4678-bf98-7494142dbf22",
          "name": "filename"
         }
        },
        {
         "id": "37a6b45b-d2ee-4f5c-a559-6ad53022ce87",
         "source": {
          "adapter": false,
          "instance_id": "f50f1256-8dcc-46dd-8378-bc9f3828e947",
          "name": "op_path"
         },
         "target": {
          "adapter": false,
          "instance_id": "b4e1fe63-a593-4181-8fa3-904e41e2964e",
          "name": "filename"
         }
        }
       ],
       "id": "4ee3836f-3fe4-4afd-8e06-6f80dcc45a34",
       "instances": [
        {
         "block_class": "a95f80ae-dc32-48fe-872f-c78d203f4fc9",
         "id": "b4e1fe63-a593-4181-8fa3-904e41e2964e",
         "name": "ReadCsvProjectSpaceETA_1",
         "var_names": [
          "rcp"
         ]
        },
        {
         "block_class": "e09870f8-f3a2-4fdc-b725-4b1049b9a541",
         "id": "f50f1256-8dcc-46dd-8378-bc9f3828e947",
         "name": "NonSparkPath_1",
         "var_names": [
          "nsp"
         ]
        },
        {
         "block_class": "48c4df70-b507-4581-a3c7-71ca84d558fd",
         "id": "68f5b0c5-96e9-4678-bf98-7494142dbf22",
         "name": "SelectDataDescribe_1",
         "var_names": [
          "sd"
         ]
        }
       ],
       "name": "pipeline_sd_1",
       "var_names": []
      },
      "image/svg+xml": [
       "<?xml version=\"1.0\" encoding=\"UTF-8\" standalone=\"no\"?>\n",
       "<!DOCTYPE svg PUBLIC \"-//W3C//DTD SVG 1.1//EN\"\n",
       " \"http://www.w3.org/Graphics/SVG/1.1/DTD/svg11.dtd\">\n",
       "<!-- Generated by graphviz version 2.43.0 (0)\n",
       " -->\n",
       "<!-- Title: %3 Pages: 1 -->\n",
       "<svg width=\"640pt\" height=\"127pt\"\n",
       " viewBox=\"0.00 0.00 640.28 127.00\" xmlns=\"http://www.w3.org/2000/svg\" xmlns:xlink=\"http://www.w3.org/1999/xlink\">\n",
       "<g id=\"graph0\" class=\"graph\" transform=\"scale(1 1) rotate(0) translate(4 123)\">\n",
       "<title>%3</title>\n",
       "<polygon fill=\"white\" stroke=\"transparent\" points=\"-4,4 -4,-123 636.28,-123 636.28,4 -4,4\"/>\n",
       "<!-- ReadCsvProjectSpaceETA(&#39;ReadCsvProjectSpaceETA_1&#39;) -->\n",
       "<g id=\"node1\" class=\"node\">\n",
       "<title>ReadCsvProjectSpaceETA(&#39;ReadCsvProjectSpaceETA_1&#39;)</title>\n",
       "<ellipse fill=\"none\" stroke=\"black\" cx=\"170.12\" cy=\"-18\" rx=\"170.25\" ry=\"18\"/>\n",
       "<text text-anchor=\"middle\" x=\"170.12\" y=\"-15.5\" font-family=\"Helvetica,sans-Serif\" font-size=\"10.00\">ReadCsvProjectSpaceETA(&#39;ReadCsvProjectSpaceETA_1&#39;)</text>\n",
       "</g>\n",
       "<!-- NonSparkPath(&#39;NonSparkPath_1&#39;) -->\n",
       "<g id=\"node2\" class=\"node\">\n",
       "<title>NonSparkPath(&#39;NonSparkPath_1&#39;)</title>\n",
       "<ellipse fill=\"none\" stroke=\"black\" cx=\"332.12\" cy=\"-101\" rx=\"104.56\" ry=\"18\"/>\n",
       "<text text-anchor=\"middle\" x=\"332.12\" y=\"-98.5\" font-family=\"Helvetica,sans-Serif\" font-size=\"10.00\">NonSparkPath(&#39;NonSparkPath_1&#39;)</text>\n",
       "</g>\n",
       "<!-- NonSparkPath(&#39;NonSparkPath_1&#39;)&#45;&gt;ReadCsvProjectSpaceETA(&#39;ReadCsvProjectSpaceETA_1&#39;) -->\n",
       "<g id=\"edge1\" class=\"edge\">\n",
       "<title>NonSparkPath(&#39;NonSparkPath_1&#39;)&#45;&gt;ReadCsvProjectSpaceETA(&#39;ReadCsvProjectSpaceETA_1&#39;)</title>\n",
       "<path fill=\"none\" stroke=\"black\" d=\"M299.73,-83.8C274.79,-71.33 240.08,-53.98 212.86,-40.37\"/>\n",
       "<polygon fill=\"black\" stroke=\"black\" points=\"214.08,-37.07 203.57,-35.73 210.95,-43.33 214.08,-37.07\"/>\n",
       "<text text-anchor=\"middle\" x=\"308.12\" y=\"-57\" font-family=\"Helvetica,sans-Serif\" font-size=\"10.00\">op_path&#45;&gt;filename</text>\n",
       "</g>\n",
       "<!-- SelectDataDescribe(&#39;SelectDataDescribe_1&#39;) -->\n",
       "<g id=\"node3\" class=\"node\">\n",
       "<title>SelectDataDescribe(&#39;SelectDataDescribe_1&#39;)</title>\n",
       "<ellipse fill=\"none\" stroke=\"black\" cx=\"495.12\" cy=\"-18\" rx=\"137.32\" ry=\"18\"/>\n",
       "<text text-anchor=\"middle\" x=\"495.12\" y=\"-15.5\" font-family=\"Helvetica,sans-Serif\" font-size=\"10.00\">SelectDataDescribe(&#39;SelectDataDescribe_1&#39;)</text>\n",
       "</g>\n",
       "<!-- NonSparkPath(&#39;NonSparkPath_1&#39;)&#45;&gt;SelectDataDescribe(&#39;SelectDataDescribe_1&#39;) -->\n",
       "<g id=\"edge2\" class=\"edge\">\n",
       "<title>NonSparkPath(&#39;NonSparkPath_1&#39;)&#45;&gt;SelectDataDescribe(&#39;SelectDataDescribe_1&#39;)</title>\n",
       "<path fill=\"none\" stroke=\"black\" d=\"M364.72,-83.8C390.01,-71.24 425.27,-53.71 452.75,-40.06\"/>\n",
       "<polygon fill=\"black\" stroke=\"black\" points=\"454.35,-43.17 461.75,-35.59 451.23,-36.9 454.35,-43.17\"/>\n",
       "<text text-anchor=\"middle\" x=\"470.12\" y=\"-57\" font-family=\"Helvetica,sans-Serif\" font-size=\"10.00\">op_path&#45;&gt;filename</text>\n",
       "</g>\n",
       "</g>\n",
       "</svg>\n"
      ],
      "text/plain": [
       "<razor.flow.async_pipeline.Pipeline at 0x7f90c3562f90>"
      ]
     },
     "metadata": {},
     "output_type": "display_data"
    }
   ],
   "source": [
    "pipe.show()"
   ]
  },
  {
   "cell_type": "code",
   "execution_count": 9,
   "id": "massive-flush",
   "metadata": {},
   "outputs": [
    {
     "name": "stdout",
     "output_type": "stream",
     "text": [
      "log path: /tmp/tmp9dozrgay/pipeline_sd_1\n"
     ]
    },
    {
     "data": {
      "application/vnd.razorthink.run+monitor+json": "/tmp/tmp9dozrgay/pipeline_sd_1",
      "text/plain": [
       "<razor_tools.backend.ipython.mime.run_monitor.RunMonitor at 0x7f90c33880d0>"
      ]
     },
     "metadata": {
      "application/vnd.razorthink.run+monitor+json": {
       "run_data": {
        "apm": [
         {
          "cpu_percent": 0,
          "cpu_time": 0.16,
          "name": "NonSparkPath_1",
          "real_mem": 159289344,
          "time": 1616566783.8265789
         },
         {
          "cpu_percent": 0,
          "cpu_time": 0.17,
          "name": "NonSparkPath_1",
          "real_mem": 159322112,
          "time": 1616566783.9381552
         },
         {
          "cpu_percent": 0,
          "cpu_time": 0.19,
          "name": "NonSparkPath_1",
          "real_mem": 159576064,
          "time": 1616566784.0500894
         },
         {
          "cpu_percent": 0,
          "cpu_time": 0,
          "name": "ReadCsvProjectSpaceETA_1",
          "real_mem": 155815936,
          "time": 1616566784.0554476
         },
         {
          "cpu_percent": 0,
          "cpu_time": 0.01,
          "name": "SelectDataDescribe_1",
          "real_mem": 155811840,
          "time": 1616566784.0655298
         },
         {
          "cpu_percent": 196.6,
          "cpu_time": 0.14,
          "name": "ReadCsvProjectSpaceETA_1",
          "real_mem": 187994112,
          "time": 1616566784.2003949
         },
         {
          "cpu_percent": 98,
          "cpu_time": 0.11,
          "name": "SelectDataDescribe_1",
          "real_mem": 184668160,
          "time": 1616566784.210542
         },
         {
          "cpu_percent": 0,
          "cpu_time": 0.05,
          "name": "ReadCsvProjectSpaceETA_1",
          "real_mem": 163086336,
          "time": 1616566784.344367
         },
         {
          "cpu_percent": 195.2,
          "cpu_time": 0.28,
          "name": "SelectDataDescribe_1",
          "real_mem": 212013056,
          "time": 1616566784.3549337
         },
         {
          "cpu_percent": 98.5,
          "cpu_time": 0.14,
          "name": "ReadCsvProjectSpaceETA_1",
          "real_mem": 182960128,
          "time": 1616566784.466888
         },
         {
          "cpu_percent": 98.5,
          "cpu_time": 0.11,
          "name": "SelectDataDescribe_1",
          "real_mem": 178548736,
          "time": 1616566784.4774103
         },
         {
          "cpu_percent": 196.9,
          "cpu_time": 0.22,
          "name": "SelectDataDescribe_1",
          "real_mem": 194023424,
          "time": 1616566784.5997396
         },
         {
          "cpu_percent": 393.40000000000003,
          "cpu_time": 0.32999999999999996,
          "name": "ReadCsvProjectSpaceETA_1",
          "real_mem": 211820544,
          "time": 1616566784.609911
         },
         {
          "cpu_percent": 291.5,
          "cpu_time": 0.36,
          "name": "SelectDataDescribe_1",
          "real_mem": 212910080,
          "time": 1616566784.72249
         },
         {
          "cpu_percent": 197,
          "cpu_time": 0.48,
          "name": "ReadCsvProjectSpaceETA_1",
          "real_mem": 222384128,
          "time": 1616566784.732678
         },
         {
          "cpu_percent": 0,
          "cpu_time": 0.48,
          "name": "SelectDataDescribe_1",
          "real_mem": 223567872,
          "time": 1616566784.845147
         },
         {
          "cpu_percent": 0,
          "cpu_time": 0.5800000000000001,
          "name": "ReadCsvProjectSpaceETA_1",
          "real_mem": 231055360,
          "time": 1616566784.8885481
         },
         {
          "cpu_percent": 0,
          "cpu_time": 0.61,
          "name": "SelectDataDescribe_1",
          "real_mem": 235880448,
          "time": 1616566784.9676728
         },
         {
          "cpu_percent": 197.1,
          "cpu_time": 0.6900000000000001,
          "name": "ReadCsvProjectSpaceETA_1",
          "real_mem": 240697344,
          "time": 1616566785.0109015
         },
         {
          "cpu_percent": 295.6,
          "cpu_time": 0.74,
          "name": "SelectDataDescribe_1",
          "real_mem": 240914432,
          "time": 1616566785.1097956
         },
         {
          "cpu_percent": 197.2,
          "cpu_time": 0.8200000000000001,
          "name": "ReadCsvProjectSpaceETA_1",
          "real_mem": 242507776,
          "time": 1616566785.1348765
         },
         {
          "cpu_percent": 98.3,
          "cpu_time": 0.8600000000000001,
          "name": "SelectDataDescribe_1",
          "real_mem": 243019776,
          "time": 1616566785.2321498
         },
         {
          "cpu_percent": 190.5,
          "cpu_time": 0.9400000000000001,
          "name": "ReadCsvProjectSpaceETA_1",
          "real_mem": 246046720,
          "time": 1616566785.2572482
         },
         {
          "cpu_percent": 98.3,
          "cpu_time": 1,
          "name": "SelectDataDescribe_1",
          "real_mem": 247455744,
          "time": 1616566785.354845
         },
         {
          "cpu_percent": 197.2,
          "cpu_time": 1.08,
          "name": "ReadCsvProjectSpaceETA_1",
          "real_mem": 249135104,
          "time": 1616566785.4089658
         },
         {
          "cpu_percent": 96.8,
          "cpu_time": 1.11,
          "name": "SelectDataDescribe_1",
          "real_mem": 248643584,
          "time": 1616566785.498695
         },
         {
          "cpu_percent": 98.8,
          "cpu_time": 1.2,
          "name": "ReadCsvProjectSpaceETA_1",
          "real_mem": 260194304,
          "time": 1616566785.5310025
         },
         {
          "cpu_percent": 98.5,
          "cpu_time": 1.26,
          "name": "SelectDataDescribe_1",
          "real_mem": 255705088,
          "time": 1616566785.6213553
         },
         {
          "cpu_percent": 197.4,
          "cpu_time": 1.32,
          "name": "ReadCsvProjectSpaceETA_1",
          "real_mem": 266113024,
          "time": 1616566785.6532826
         },
         {
          "cpu_percent": 98.3,
          "cpu_time": 1.3800000000000001,
          "name": "SelectDataDescribe_1",
          "real_mem": 266801152,
          "time": 1616566785.7438688
         },
         {
          "cpu_percent": 196.8,
          "cpu_time": 1.47,
          "name": "ReadCsvProjectSpaceETA_1",
          "real_mem": 276770816,
          "time": 1616566785.8087392
         },
         {
          "cpu_percent": 0,
          "cpu_time": 1.52,
          "name": "SelectDataDescribe_1",
          "real_mem": 268718080,
          "time": 1616566785.8663158
         },
         {
          "cpu_percent": 98.3,
          "cpu_time": 1.61,
          "name": "ReadCsvProjectSpaceETA_1",
          "real_mem": 287928320,
          "time": 1616566785.9311419
         },
         {
          "cpu_percent": 196.1,
          "cpu_time": 1.6400000000000001,
          "name": "SelectDataDescribe_1",
          "real_mem": 271646720,
          "time": 1616566786.0089676
         },
         {
          "cpu_percent": 295.3,
          "cpu_time": 1.76,
          "name": "ReadCsvProjectSpaceETA_1",
          "real_mem": 289890304,
          "time": 1616566786.098541
         },
         {
          "cpu_percent": 197.6,
          "cpu_time": 1.77,
          "name": "SelectDataDescribe_1",
          "real_mem": 272920576,
          "time": 1616566786.1311243
         },
         {
          "cpu_percent": 97.9,
          "cpu_time": 1.8800000000000001,
          "name": "ReadCsvProjectSpaceETA_1",
          "real_mem": 291319808,
          "time": 1616566786.2212436
         },
         {
          "cpu_percent": 296.2,
          "cpu_time": 1.9400000000000002,
          "name": "SelectDataDescribe_1",
          "real_mem": 274718720,
          "time": 1616566786.2982955
         },
         {
          "cpu_percent": 98.4,
          "cpu_time": 1.98,
          "name": "ReadCsvProjectSpaceETA_1",
          "real_mem": 293068800,
          "time": 1616566786.343315
         },
         {
          "cpu_percent": 197.3,
          "cpu_time": 2.09,
          "name": "SelectDataDescribe_1",
          "real_mem": 278245376,
          "time": 1616566786.4209871
         },
         {
          "cpu_percent": 98.5,
          "cpu_time": 2.0999999999999996,
          "name": "ReadCsvProjectSpaceETA_1",
          "real_mem": 299700224,
          "time": 1616566786.5093553
         },
         {
          "cpu_percent": 194.8,
          "cpu_time": 2.23,
          "name": "SelectDataDescribe_1",
          "real_mem": 282718208,
          "time": 1616566786.5435793
         },
         {
          "cpu_percent": 273.4,
          "cpu_time": 2.2600000000000002,
          "name": "ReadCsvProjectSpaceETA_1",
          "real_mem": 301387776,
          "time": 1616566786.6326697
         },
         {
          "cpu_percent": 0,
          "cpu_time": 2.3200000000000003,
          "name": "SelectDataDescribe_1",
          "real_mem": 284631040,
          "time": 1616566786.665948
         },
         {
          "cpu_percent": 97.5,
          "cpu_time": 2.38,
          "name": "ReadCsvProjectSpaceETA_1",
          "real_mem": 302415872,
          "time": 1616566786.7552338
         },
         {
          "cpu_percent": 292.6,
          "cpu_time": 2.45,
          "name": "SelectDataDescribe_1",
          "real_mem": 285437952,
          "time": 1616566786.7983322
         },
         {
          "cpu_percent": 197.5,
          "cpu_time": 2.54,
          "name": "ReadCsvProjectSpaceETA_1",
          "real_mem": 305389568,
          "time": 1616566786.9092321
         },
         {
          "cpu_percent": 0,
          "cpu_time": 2.5500000000000003,
          "name": "SelectDataDescribe_1",
          "real_mem": 300728320,
          "time": 1616566786.920708
         },
         {
          "cpu_percent": 197.6,
          "cpu_time": 2.64,
          "name": "ReadCsvProjectSpaceETA_1",
          "real_mem": 313798656,
          "time": 1616566787.0312617
         },
         {
          "cpu_percent": 294.9,
          "cpu_time": 2.69,
          "name": "SelectDataDescribe_1",
          "real_mem": 305020928,
          "time": 1616566787.0434425
         },
         {
          "cpu_percent": 192.1,
          "cpu_time": 2.79,
          "name": "ReadCsvProjectSpaceETA_1",
          "real_mem": 324087808,
          "time": 1616566787.1987104
         },
         {
          "cpu_percent": 296.5,
          "cpu_time": 2.84,
          "name": "SelectDataDescribe_1",
          "real_mem": 306167808,
          "time": 1616566787.2095745
         },
         {
          "cpu_percent": 295.5,
          "cpu_time": 2.95,
          "name": "ReadCsvProjectSpaceETA_1",
          "real_mem": 337989632,
          "time": 1616566787.3212235
         },
         {
          "cpu_percent": 197.4,
          "cpu_time": 2.98,
          "name": "SelectDataDescribe_1",
          "real_mem": 307281920,
          "time": 1616566787.3320248
         },
         {
          "cpu_percent": 195.7,
          "cpu_time": 3.0999999999999996,
          "name": "ReadCsvProjectSpaceETA_1",
          "real_mem": 342732800,
          "time": 1616566787.4986262
         },
         {
          "cpu_percent": 196.8,
          "cpu_time": 3.11,
          "name": "SelectDataDescribe_1",
          "real_mem": 311345152,
          "time": 1616566787.498596
         },
         {
          "cpu_percent": 197.5,
          "cpu_time": 3.2399999999999998,
          "name": "ReadCsvProjectSpaceETA_1",
          "real_mem": 343633920,
          "time": 1616566787.620869
         },
         {
          "cpu_percent": 295.7,
          "cpu_time": 3.26,
          "name": "SelectDataDescribe_1",
          "real_mem": 312020992,
          "time": 1616566787.6209807
         },
         {
          "cpu_percent": 194.9,
          "cpu_time": 3.4,
          "name": "SelectDataDescribe_1",
          "real_mem": 315985920,
          "time": 1616566787.7434416
         },
         {
          "cpu_percent": 197.4,
          "cpu_time": 3.3499999999999996,
          "name": "ReadCsvProjectSpaceETA_1",
          "real_mem": 348049408,
          "time": 1616566787.742973
         },
         {
          "cpu_percent": 219.6,
          "cpu_time": 3.4899999999999998,
          "name": "ReadCsvProjectSpaceETA_1",
          "real_mem": 349351936,
          "time": 1616566787.8984368
         },
         {
          "cpu_percent": 196.5,
          "cpu_time": 3.52,
          "name": "SelectDataDescribe_1",
          "real_mem": 316874752,
          "time": 1616566787.9099023
         },
         {
          "cpu_percent": 196.7,
          "cpu_time": 3.6399999999999997,
          "name": "ReadCsvProjectSpaceETA_1",
          "real_mem": 351100928,
          "time": 1616566788.021123
         },
         {
          "cpu_percent": 97.7,
          "cpu_time": 3.65,
          "name": "SelectDataDescribe_1",
          "real_mem": 318394368,
          "time": 1616566788.032978
         },
         {
          "cpu_percent": 196.4,
          "cpu_time": 3.76,
          "name": "ReadCsvProjectSpaceETA_1",
          "real_mem": 352620544,
          "time": 1616566788.1439
         },
         {
          "cpu_percent": 195.6,
          "cpu_time": 3.8899999999999997,
          "name": "SelectDataDescribe_1",
          "real_mem": 321482752,
          "time": 1616566788.3098583
         },
         {
          "cpu_percent": 196.7,
          "cpu_time": 4.04,
          "name": "ReadCsvProjectSpaceETA_1",
          "real_mem": 354693120,
          "time": 1616566788.4168081
         },
         {
          "cpu_percent": 196.7,
          "cpu_time": 4.17,
          "name": "SelectDataDescribe_1",
          "real_mem": 333561856,
          "time": 1616566788.5986679
         },
         {
          "cpu_percent": 196.7,
          "cpu_time": 4.300000000000001,
          "name": "ReadCsvProjectSpaceETA_1",
          "real_mem": 361459712,
          "time": 1616566788.709621
         },
         {
          "cpu_percent": 197.1,
          "cpu_time": 4.49,
          "name": "SelectDataDescribe_1",
          "real_mem": 357617664,
          "time": 1616566788.9093316
         },
         {
          "cpu_percent": 294.9,
          "cpu_time": 4.61,
          "name": "ReadCsvProjectSpaceETA_1",
          "real_mem": 382627840,
          "time": 1616566789.0100129
         },
         {
          "cpu_percent": 196.1,
          "cpu_time": 4.78,
          "name": "SelectDataDescribe_1",
          "real_mem": 360484864,
          "time": 1616566789.1985598
         },
         {
          "cpu_percent": 0,
          "cpu_time": 4.84,
          "name": "ReadCsvProjectSpaceETA_1",
          "real_mem": 396869632,
          "time": 1616566789.2829726
         },
         {
          "cpu_percent": 296.1,
          "cpu_time": 5.12,
          "name": "SelectDataDescribe_1",
          "real_mem": 364380160,
          "time": 1616566789.509712
         },
         {
          "cpu_percent": 197.1,
          "cpu_time": 5.17,
          "name": "ReadCsvProjectSpaceETA_1",
          "real_mem": 415657984,
          "time": 1616566789.609866
         },
         {
          "cpu_percent": 197.2,
          "cpu_time": 5.42,
          "name": "SelectDataDescribe_1",
          "real_mem": 369852416,
          "time": 1616566789.808603
         },
         {
          "cpu_percent": 98.2,
          "cpu_time": 5.4,
          "name": "ReadCsvProjectSpaceETA_1",
          "real_mem": 437194752,
          "time": 1616566789.89872
         },
         {
          "cpu_percent": 98.1,
          "cpu_time": 5.76,
          "name": "SelectDataDescribe_1",
          "real_mem": 394022912,
          "time": 1616566790.1098933
         },
         {
          "cpu_percent": 394.2,
          "cpu_time": 5.75,
          "name": "ReadCsvProjectSpaceETA_1",
          "real_mem": 440098816,
          "time": 1616566790.209503
         },
         {
          "cpu_percent": 193.3,
          "cpu_time": 5.99,
          "name": "SelectDataDescribe_1",
          "real_mem": 405700608,
          "time": 1616566790.398922
         },
         {
          "cpu_percent": 197.1,
          "cpu_time": 6.03,
          "name": "ReadCsvProjectSpaceETA_1",
          "real_mem": 454516736,
          "time": 1616566790.5098941
         },
         {
          "cpu_percent": 196.8,
          "cpu_time": 6.35,
          "name": "SelectDataDescribe_1",
          "real_mem": 411152384,
          "time": 1616566790.7101924
         },
         {
          "cpu_percent": 293.79999999999995,
          "cpu_time": 6.31,
          "name": "ReadCsvProjectSpaceETA_1",
          "real_mem": 459726848,
          "time": 1616566790.7987294
         },
         {
          "cpu_percent": 295,
          "cpu_time": 6.609999999999999,
          "name": "SelectDataDescribe_1",
          "real_mem": 420294656,
          "time": 1616566790.9987335
         },
         {
          "cpu_percent": 196.5,
          "cpu_time": 6.609999999999999,
          "name": "ReadCsvProjectSpaceETA_1",
          "real_mem": 467963904,
          "time": 1616566791.0987058
         },
         {
          "cpu_percent": 295.5,
          "cpu_time": 6.97,
          "name": "SelectDataDescribe_1",
          "real_mem": 430997504,
          "time": 1616566791.3102727
         },
         {
          "cpu_percent": 295,
          "cpu_time": 6.89,
          "name": "ReadCsvProjectSpaceETA_1",
          "real_mem": 477503488,
          "time": 1616566791.4097881
         },
         {
          "cpu_percent": 197,
          "cpu_time": 7.23,
          "name": "SelectDataDescribe_1",
          "real_mem": 439750656,
          "time": 1616566791.6099577
         },
         {
          "cpu_percent": 294.5,
          "cpu_time": 7.220000000000001,
          "name": "ReadCsvProjectSpaceETA_1",
          "real_mem": 483004416,
          "time": 1616566791.7105503
         },
         {
          "cpu_percent": 196.6,
          "cpu_time": 7.5200000000000005,
          "name": "SelectDataDescribe_1",
          "real_mem": 445042688,
          "time": 1616566791.9093711
         },
         {
          "cpu_percent": 196.7,
          "cpu_time": 7.510000000000001,
          "name": "ReadCsvProjectSpaceETA_1",
          "real_mem": 490020864,
          "time": 1616566792.0098722
         },
         {
          "cpu_percent": 196.6,
          "cpu_time": 7.760000000000001,
          "name": "SelectDataDescribe_1",
          "real_mem": 451137536,
          "time": 1616566792.1984754
         },
         {
          "cpu_percent": 196.3,
          "cpu_time": 7.760000000000001,
          "name": "ReadCsvProjectSpaceETA_1",
          "real_mem": 496029696,
          "time": 1616566792.2986698
         },
         {
          "cpu_percent": 196.2,
          "cpu_time": 8.12,
          "name": "SelectDataDescribe_1",
          "real_mem": 469008384,
          "time": 1616566792.5098138
         },
         {
          "cpu_percent": 196.1,
          "cpu_time": 8.1,
          "name": "ReadCsvProjectSpaceETA_1",
          "real_mem": 498024448,
          "time": 1616566792.6100724
         },
         {
          "cpu_percent": 197.3,
          "cpu_time": 8.41,
          "name": "SelectDataDescribe_1",
          "real_mem": 482267136,
          "time": 1616566792.809752
         },
         {
          "cpu_percent": 195.8,
          "cpu_time": 8.36,
          "name": "ReadCsvProjectSpaceETA_1",
          "real_mem": 499552256,
          "time": 1616566792.8988895
         },
         {
          "cpu_percent": 197.1,
          "cpu_time": 8.69,
          "name": "SelectDataDescribe_1",
          "real_mem": 487370752,
          "time": 1616566793.1094675
         },
         {
          "cpu_percent": 197,
          "cpu_time": 8.7,
          "name": "ReadCsvProjectSpaceETA_1",
          "real_mem": 506200064,
          "time": 1616566793.209356
         },
         {
          "cpu_percent": 196.5,
          "cpu_time": 8.99,
          "name": "SelectDataDescribe_1",
          "real_mem": 487317504,
          "time": 1616566793.4102464
         },
         {
          "cpu_percent": 196.7,
          "cpu_time": 9,
          "name": "ReadCsvProjectSpaceETA_1",
          "real_mem": 509009920,
          "time": 1616566793.5098753
         },
         {
          "cpu_percent": 196.2,
          "cpu_time": 9.26,
          "name": "SelectDataDescribe_1",
          "real_mem": 490647552,
          "time": 1616566793.6987717
         },
         {
          "cpu_percent": 98.4,
          "cpu_time": 9.25,
          "name": "ReadCsvProjectSpaceETA_1",
          "real_mem": 518877184,
          "time": 1616566793.8091645
         },
         {
          "cpu_percent": 195.7,
          "cpu_time": 9.59,
          "name": "SelectDataDescribe_1",
          "real_mem": 492974080,
          "time": 1616566793.9985995
         },
         {
          "cpu_percent": 197.6,
          "cpu_time": 9.51,
          "name": "ReadCsvProjectSpaceETA_1",
          "real_mem": 532672512,
          "time": 1616566794.098671
         },
         {
          "cpu_percent": 196.8,
          "cpu_time": 9.91,
          "name": "SelectDataDescribe_1",
          "real_mem": 498188288,
          "time": 1616566794.3094282
         },
         {
          "cpu_percent": 97,
          "cpu_time": 9.76,
          "name": "ReadCsvProjectSpaceETA_1",
          "real_mem": 545648640,
          "time": 1616566794.3987093
         },
         {
          "cpu_percent": 223.7,
          "cpu_time": 10.25,
          "name": "SelectDataDescribe_1",
          "real_mem": 500875264,
          "time": 1616566794.6088367
         },
         {
          "cpu_percent": 196.2,
          "cpu_time": 10.08,
          "name": "ReadCsvProjectSpaceETA_1",
          "real_mem": 556199936,
          "time": 1616566794.7100139
         },
         {
          "cpu_percent": 98.4,
          "cpu_time": 10.5,
          "name": "SelectDataDescribe_1",
          "real_mem": 516571136,
          "time": 1616566794.9098601
         },
         {
          "cpu_percent": 98.7,
          "cpu_time": 10.37,
          "name": "ReadCsvProjectSpaceETA_1",
          "real_mem": 593719296,
          "time": 1616566795.0093093
         },
         {
          "cpu_percent": 98.5,
          "cpu_time": 10.82,
          "name": "SelectDataDescribe_1",
          "real_mem": 521568256,
          "time": 1616566795.2109485
         },
         {
          "cpu_percent": 97.6,
          "cpu_time": 10.639999999999999,
          "name": "ReadCsvProjectSpaceETA_1",
          "real_mem": 601915392,
          "time": 1616566795.2985277
         },
         {
          "cpu_percent": 98.5,
          "cpu_time": 11.129999999999999,
          "name": "SelectDataDescribe_1",
          "real_mem": 526602240,
          "time": 1616566795.5093794
         },
         {
          "cpu_percent": 0,
          "cpu_time": 10.91,
          "name": "ReadCsvProjectSpaceETA_1",
          "real_mem": 604725248,
          "time": 1616566795.5709436
         },
         {
          "cpu_percent": 0,
          "cpu_time": 11.4,
          "name": "SelectDataDescribe_1",
          "real_mem": 530878464,
          "time": 1616566795.7821703
         },
         {
          "cpu_percent": 98.4,
          "cpu_time": 11.19,
          "name": "ReadCsvProjectSpaceETA_1",
          "real_mem": 608546816,
          "time": 1616566795.8444486
         },
         {
          "cpu_percent": 195.2,
          "cpu_time": 11.719999999999999,
          "name": "SelectDataDescribe_1",
          "real_mem": 534835200,
          "time": 1616566796.0550184
         },
         {
          "cpu_percent": 98.7,
          "cpu_time": 11.399999999999999,
          "name": "ReadCsvProjectSpaceETA_1",
          "real_mem": 611155968,
          "time": 1616566796.1170847
         },
         {
          "cpu_percent": 196.9,
          "cpu_time": 12.03,
          "name": "SelectDataDescribe_1",
          "real_mem": 536821760,
          "time": 1616566796.32773
         },
         {
          "cpu_percent": 196.4,
          "cpu_time": 11.65,
          "name": "ReadCsvProjectSpaceETA_1",
          "real_mem": 613617664,
          "time": 1616566796.4088857
         },
         {
          "cpu_percent": 196.4,
          "cpu_time": 12.549999999999999,
          "name": "SelectDataDescribe_1",
          "real_mem": 540950528,
          "time": 1616566796.8987546
         },
         {
          "cpu_percent": 98.8,
          "cpu_time": 12.15,
          "name": "ReadCsvProjectSpaceETA_1",
          "real_mem": 616034304,
          "time": 1616566796.93134
         },
         {
          "cpu_percent": 195.3,
          "cpu_time": 13.120000000000001,
          "name": "SelectDataDescribe_1",
          "real_mem": 551591936,
          "time": 1616566797.4221103
         },
         {
          "cpu_percent": 0,
          "cpu_time": 12.66,
          "name": "ReadCsvProjectSpaceETA_1",
          "real_mem": 619094016,
          "time": 1616566797.4880185
         },
         {
          "cpu_percent": 19,
          "cpu_time": 13.64,
          "name": "SelectDataDescribe_1",
          "real_mem": 583032832,
          "time": 1616566797.9879358
         },
         {
          "cpu_percent": 98.7,
          "cpu_time": 13.200000000000001,
          "name": "ReadCsvProjectSpaceETA_1",
          "real_mem": 621703168,
          "time": 1616566798.0109468
         },
         {
          "cpu_percent": 98.1,
          "cpu_time": 14.15,
          "name": "SelectDataDescribe_1",
          "real_mem": 586354688,
          "time": 1616566798.5114696
         },
         {
          "cpu_percent": 98.6,
          "cpu_time": 13.690000000000001,
          "name": "ReadCsvProjectSpaceETA_1",
          "real_mem": 624766976,
          "time": 1616566798.5336497
         },
         {
          "cpu_percent": 98.4,
          "cpu_time": 14.73,
          "name": "SelectDataDescribe_1",
          "real_mem": 608813056,
          "time": 1616566799.0347905
         },
         {
          "cpu_percent": 97.9,
          "cpu_time": 14.190000000000001,
          "name": "ReadCsvProjectSpaceETA_1",
          "real_mem": 687599616,
          "time": 1616566799.0563915
         },
         {
          "cpu_percent": 98,
          "cpu_time": 15.290000000000001,
          "name": "SelectDataDescribe_1",
          "real_mem": 613588992,
          "time": 1616566799.558012
         },
         {
          "cpu_percent": 196.8,
          "cpu_time": 14.71,
          "name": "ReadCsvProjectSpaceETA_1",
          "real_mem": 698941440,
          "time": 1616566799.6088688
         },
         {
          "cpu_percent": 295.7,
          "cpu_time": 15.88,
          "name": "SelectDataDescribe_1",
          "real_mem": 618024960,
          "time": 1616566800.1096833
         },
         {
          "cpu_percent": 196.9,
          "cpu_time": 15.23,
          "name": "ReadCsvProjectSpaceETA_1",
          "real_mem": 718147584,
          "time": 1616566800.1318793
         },
         {
          "cpu_percent": 196.2,
          "cpu_time": 16.41,
          "name": "SelectDataDescribe_1",
          "real_mem": 627380224,
          "time": 1616566800.6325395
         },
         {
          "cpu_percent": 197.2,
          "cpu_time": 15.770000000000001,
          "name": "ReadCsvProjectSpaceETA_1",
          "real_mem": 737062912,
          "time": 1616566800.7095892
         },
         {
          "cpu_percent": 98.5,
          "cpu_time": 16.9,
          "name": "SelectDataDescribe_1",
          "real_mem": 631558144,
          "time": 1616566801.1556616
         },
         {
          "cpu_percent": 197,
          "cpu_time": 16.32,
          "name": "ReadCsvProjectSpaceETA_1",
          "real_mem": 768872448,
          "time": 1616566801.2319698
         },
         {
          "cpu_percent": 295.6,
          "cpu_time": 17.41,
          "name": "SelectDataDescribe_1",
          "real_mem": 636149760,
          "time": 1616566801.7094862
         },
         {
          "cpu_percent": 98.5,
          "cpu_time": 16.87,
          "name": "ReadCsvProjectSpaceETA_1",
          "real_mem": 787304448,
          "time": 1616566801.8092172
         },
         {
          "cpu_percent": 195.6,
          "cpu_time": 17.98,
          "name": "SelectDataDescribe_1",
          "real_mem": 639201280,
          "time": 1616566802.2986937
         },
         {
          "cpu_percent": 98.2,
          "cpu_time": 17.44,
          "name": "ReadCsvProjectSpaceETA_1",
          "real_mem": 793161728,
          "time": 1616566802.332444
         },
         {
          "cpu_percent": 196.7,
          "cpu_time": 18.52,
          "name": "SelectDataDescribe_1",
          "real_mem": 657182720,
          "time": 1616566802.8219042
         },
         {
          "cpu_percent": 197,
          "cpu_time": 18.01,
          "name": "ReadCsvProjectSpaceETA_1",
          "real_mem": 796647424,
          "time": 1616566802.9094863
         },
         {
          "cpu_percent": 0,
          "cpu_time": 19.009999999999998,
          "name": "SelectDataDescribe_1",
          "real_mem": 668274688,
          "time": 1616566803.3453007
         },
         {
          "cpu_percent": 196.2,
          "cpu_time": 18.56,
          "name": "ReadCsvProjectSpaceETA_1",
          "real_mem": 801062912,
          "time": 1616566803.4324281
         },
         {
          "cpu_percent": 197.2,
          "cpu_time": 19.549999999999997,
          "name": "SelectDataDescribe_1",
          "real_mem": 670486528,
          "time": 1616566803.9093008
         },
         {
          "cpu_percent": 23,
          "cpu_time": 19.04,
          "name": "ReadCsvProjectSpaceETA_1",
          "real_mem": 806219776,
          "time": 1616566803.9880147
         },
         {
          "cpu_percent": 196.9,
          "cpu_time": 20.04,
          "name": "SelectDataDescribe_1",
          "real_mem": 691945472,
          "time": 1616566804.432384
         },
         {
          "cpu_percent": 98.7,
          "cpu_time": 19.58,
          "name": "ReadCsvProjectSpaceETA_1",
          "real_mem": 807780352,
          "time": 1616566804.5105648
         },
         {
          "cpu_percent": 196.2,
          "cpu_time": 20.64,
          "name": "SelectDataDescribe_1",
          "real_mem": 700530688,
          "time": 1616566804.9986708
         },
         {
          "cpu_percent": 295.4,
          "cpu_time": 21.61,
          "name": "SelectDataDescribe_1",
          "real_mem": 708935680,
          "time": 1616566805.5213277
         },
         {
          "cpu_percent": 196.4,
          "cpu_time": 22.64,
          "name": "SelectDataDescribe_1",
          "real_mem": 739287040,
          "time": 1616566806.0441487
         },
         {
          "cpu_percent": 197.2,
          "cpu_time": 23.64,
          "name": "SelectDataDescribe_1",
          "real_mem": 740605952,
          "time": 1616566806.566814
         },
         {
          "cpu_percent": 196.4,
          "cpu_time": 24.72,
          "name": "SelectDataDescribe_1",
          "real_mem": 748916736,
          "time": 1616566807.1099277
         }
        ],
        "logs": [
         {
          "asctime": "2021-03-24 06:19:43,812",
          "created": 1616566783.81241,
          "extra": {},
          "filename": "async_executors.py",
          "funcName": "main",
          "levelname": "DEBUG",
          "lineno": 114,
          "message": "NonSparkPath_1: started async block execution\n",
          "name": "engine.logs:NonSparkPath_1",
          "pathname": "/usr/local/lib/python3.7/dist-packages/razor/flow/async_executors.py",
          "process": 251,
          "processName": "ForkProcess-1:1",
          "thread": 140262182819648,
          "threadName": "MainThread"
         },
         {
          "asctime": "2021-03-24 06:19:43,826",
          "created": 1616566783.8267746,
          "extra": {},
          "filename": "async_executors.py",
          "funcName": "fill_atomic_inputs",
          "levelname": "INFO",
          "lineno": 250,
          "message": "NonSparkPath_1: waiting for atomic input: ip_path",
          "name": "engine.logs:NonSparkPath_1",
          "pathname": "/usr/local/lib/python3.7/dist-packages/razor/flow/async_executors.py",
          "process": 251,
          "processName": "ForkProcess-1:1",
          "thread": 140262182819648,
          "threadName": "MainThread"
         },
         {
          "asctime": "2021-03-24 06:19:43,826",
          "created": 1616566783.8269236,
          "extra": {},
          "filename": "async_executors.py",
          "funcName": "fill_atomic_inputs",
          "levelname": "DEBUG",
          "lineno": 253,
          "message": "NonSparkPath_1: got atomic input: train_hatespeech.csv",
          "name": "engine.logs:NonSparkPath_1",
          "pathname": "/usr/local/lib/python3.7/dist-packages/razor/flow/async_executors.py",
          "process": 251,
          "processName": "ForkProcess-1:1",
          "thread": 140262182819648,
          "threadName": "MainThread"
         },
         {
          "asctime": "2021-03-24 06:19:43,826",
          "created": 1616566783.8269792,
          "extra": {},
          "filename": "async_executors.py",
          "funcName": "main",
          "levelname": "DEBUG",
          "lineno": 130,
          "message": "NonSparkPath_1: triggering block run",
          "name": "engine.logs:NonSparkPath_1",
          "pathname": "/usr/local/lib/python3.7/dist-packages/razor/flow/async_executors.py",
          "process": 251,
          "processName": "ForkProcess-1:1",
          "thread": 140262182819648,
          "threadName": "MainThread"
         },
         {
          "asctime": "2021-03-24 06:19:44,027",
          "created": 1616566784.027446,
          "extra": {},
          "filename": "async_executors.py",
          "funcName": "distribute_output_queue",
          "levelname": "DEBUG",
          "lineno": 308,
          "message": "NonSparkPath_1: ---- dist output: /home/aios/projectspace/train_hatespeech.csv -> ('ReadCsvProjectSpaceETA_1', 'filename')",
          "name": "engine.logs:NonSparkPath_1",
          "pathname": "/usr/local/lib/python3.7/dist-packages/razor/flow/async_executors.py",
          "process": 251,
          "processName": "ForkProcess-1:1",
          "thread": 140262182819648,
          "threadName": "MainThread"
         },
         {
          "asctime": "2021-03-24 06:19:44,027",
          "created": 1616566784.0275645,
          "extra": {},
          "filename": "async_executors.py",
          "funcName": "distribute_output_queue",
          "levelname": "DEBUG",
          "lineno": 308,
          "message": "NonSparkPath_1: ---- dist output: /home/aios/projectspace/train_hatespeech.csv -> ('SelectDataDescribe_1', 'filename')",
          "name": "engine.logs:NonSparkPath_1",
          "pathname": "/usr/local/lib/python3.7/dist-packages/razor/flow/async_executors.py",
          "process": 251,
          "processName": "ForkProcess-1:1",
          "thread": 140262182819648,
          "threadName": "MainThread"
         },
         {
          "asctime": "2021-03-24 06:19:44,027",
          "created": 1616566784.0277555,
          "extra": {},
          "filename": "async_executors.py",
          "funcName": "main",
          "levelname": "DEBUG",
          "lineno": 147,
          "message": "NonSparkPath_1: block thread completed",
          "name": "engine.logs:NonSparkPath_1",
          "pathname": "/usr/local/lib/python3.7/dist-packages/razor/flow/async_executors.py",
          "process": 251,
          "processName": "ForkProcess-1:1",
          "thread": 140262182819648,
          "threadName": "MainThread"
         },
         {
          "asctime": "2021-03-24 06:19:44,027",
          "created": 1616566784.0278149,
          "extra": {},
          "filename": "async_executors.py",
          "funcName": "main",
          "levelname": "DEBUG",
          "lineno": 149,
          "message": "NonSparkPath_1: block execution complete",
          "name": "engine.logs:NonSparkPath_1",
          "pathname": "/usr/local/lib/python3.7/dist-packages/razor/flow/async_executors.py",
          "process": 251,
          "processName": "ForkProcess-1:1",
          "thread": 140262182819648,
          "threadName": "MainThread"
         },
         {
          "asctime": "2021-03-24 06:19:44,027",
          "created": 1616566784.0279155,
          "extra": {},
          "filename": "async_executors.py",
          "funcName": "distribute_output_queue",
          "levelname": "DEBUG",
          "lineno": 308,
          "message": "NonSparkPath_1: ---- dist output: b'__!\\tEndOfStream\\t!__' -> ('ReadCsvProjectSpaceETA_1', 'filename')",
          "name": "engine.logs:NonSparkPath_1",
          "pathname": "/usr/local/lib/python3.7/dist-packages/razor/flow/async_executors.py",
          "process": 251,
          "processName": "ForkProcess-1:1",
          "thread": 140262182819648,
          "threadName": "MainThread"
         },
         {
          "asctime": "2021-03-24 06:19:44,027",
          "created": 1616566784.0279572,
          "extra": {},
          "filename": "async_executors.py",
          "funcName": "distribute_output_queue",
          "levelname": "DEBUG",
          "lineno": 308,
          "message": "NonSparkPath_1: ---- dist output: b'__!\\tEndOfStream\\t!__' -> ('SelectDataDescribe_1', 'filename')",
          "name": "engine.logs:NonSparkPath_1",
          "pathname": "/usr/local/lib/python3.7/dist-packages/razor/flow/async_executors.py",
          "process": 251,
          "processName": "ForkProcess-1:1",
          "thread": 140262182819648,
          "threadName": "MainThread"
         },
         {
          "asctime": "2021-03-24 06:19:44,039",
          "created": 1616566784.0399573,
          "extra": {},
          "filename": "async_executors.py",
          "funcName": "main",
          "levelname": "DEBUG",
          "lineno": 114,
          "message": "ReadCsvProjectSpaceETA_1: started async block execution\n",
          "name": "engine.logs:ReadCsvProjectSpaceETA_1",
          "pathname": "/usr/local/lib/python3.7/dist-packages/razor/flow/async_executors.py",
          "process": 260,
          "processName": "ForkProcess-1:2",
          "thread": 140262182819648,
          "threadName": "MainThread"
         },
         {
          "asctime": "2021-03-24 06:19:44,055",
          "created": 1616566784.0556793,
          "extra": {},
          "filename": "async_executors.py",
          "funcName": "fill_atomic_inputs",
          "levelname": "INFO",
          "lineno": 250,
          "message": "ReadCsvProjectSpaceETA_1: waiting for atomic input: filename",
          "name": "engine.logs:ReadCsvProjectSpaceETA_1",
          "pathname": "/usr/local/lib/python3.7/dist-packages/razor/flow/async_executors.py",
          "process": 260,
          "processName": "ForkProcess-1:2",
          "thread": 140262182819648,
          "threadName": "MainThread"
         },
         {
          "asctime": "2021-03-24 06:19:44,059",
          "created": 1616566784.0593805,
          "extra": {},
          "filename": "async_executors.py",
          "funcName": "start_input_receiver",
          "levelname": "DEBUG",
          "lineno": 173,
          "message": "NonSparkPath_1: received cmd: start_sender, (), {'out_name': 'op_path', 'target': ('ReadCsvProjectSpaceETA_1', 'filename'), 'out_addr': 'tcp://0.0.0.0:62409', 'in_memory': None}",
          "name": "engine.logs:NonSparkPath_1",
          "pathname": "/usr/local/lib/python3.7/dist-packages/razor/flow/async_executors.py",
          "process": 251,
          "processName": "ForkProcess-1:1",
          "thread": 140262182819648,
          "threadName": "MainThread"
         },
         {
          "asctime": "2021-03-24 06:19:44,059",
          "created": 1616566784.0596554,
          "extra": {},
          "filename": "async_executors.py",
          "funcName": "start_output_sender",
          "levelname": "DEBUG",
          "lineno": 370,
          "message": "NonSparkPath_1: got start_sender, op_path, ('ReadCsvProjectSpaceETA_1', 'filename')",
          "name": "engine.logs:NonSparkPath_1",
          "pathname": "/usr/local/lib/python3.7/dist-packages/razor/flow/async_executors.py",
          "process": 251,
          "processName": "ForkProcess-1:1",
          "thread": 140262182819648,
          "threadName": "MainThread"
         },
         {
          "asctime": "2021-03-24 06:19:44,060",
          "created": 1616566784.060626,
          "extra": {},
          "filename": "async_executors.py",
          "funcName": "start_output_sender",
          "levelname": "DEBUG",
          "lineno": 388,
          "message": "NonSparkPath_1: SENT, filename, /home/aios/projectspace/train_hatespeech.csv, ('ReadCsvProjectSpaceETA_1', 'filename')",
          "name": "engine.logs:NonSparkPath_1",
          "pathname": "/usr/local/lib/python3.7/dist-packages/razor/flow/async_executors.py",
          "process": 251,
          "processName": "ForkProcess-1:1",
          "thread": 140262182819648,
          "threadName": "MainThread"
         },
         {
          "asctime": "2021-03-24 06:19:44,060",
          "created": 1616566784.0608263,
          "extra": {},
          "filename": "async_executors.py",
          "funcName": "start_output_sender",
          "levelname": "DEBUG",
          "lineno": 388,
          "message": "NonSparkPath_1: SENT, filename, b'__!\\tEndOfStream\\t!__', ('ReadCsvProjectSpaceETA_1', 'filename')",
          "name": "engine.logs:NonSparkPath_1",
          "pathname": "/usr/local/lib/python3.7/dist-packages/razor/flow/async_executors.py",
          "process": 251,
          "processName": "ForkProcess-1:1",
          "thread": 140262182819648,
          "threadName": "MainThread"
         },
         {
          "asctime": "2021-03-24 06:19:44,061",
          "created": 1616566784.061117,
          "extra": {},
          "filename": "async_executors.py",
          "funcName": "start_output_sender",
          "levelname": "DEBUG",
          "lineno": 391,
          "message": "NonSparkPath_1: completed output: ('op_path', ('ReadCsvProjectSpaceETA_1', 'filename'))",
          "name": "engine.logs:NonSparkPath_1",
          "pathname": "/usr/local/lib/python3.7/dist-packages/razor/flow/async_executors.py",
          "process": 251,
          "processName": "ForkProcess-1:1",
          "thread": 140262182819648,
          "threadName": "MainThread"
         },
         {
          "asctime": "2021-03-24 06:19:44,061",
          "created": 1616566784.0619829,
          "extra": {},
          "filename": "async_executors.py",
          "funcName": "start_input_receiver",
          "levelname": "DEBUG",
          "lineno": 177,
          "message": "ReadCsvProjectSpaceETA_1: received data: filename, /home/aios/projectspace/train_hatespeech.csv",
          "name": "engine.logs:ReadCsvProjectSpaceETA_1",
          "pathname": "/usr/local/lib/python3.7/dist-packages/razor/flow/async_executors.py",
          "process": 260,
          "processName": "ForkProcess-1:2",
          "thread": 140262182819648,
          "threadName": "MainThread"
         },
         {
          "asctime": "2021-03-24 06:19:44,062",
          "created": 1616566784.0623472,
          "extra": {},
          "filename": "async_executors.py",
          "funcName": "start_input_receiver",
          "levelname": "DEBUG",
          "lineno": 177,
          "message": "ReadCsvProjectSpaceETA_1: received data: filename, b'__!\\tEndOfStream\\t!__'",
          "name": "engine.logs:ReadCsvProjectSpaceETA_1",
          "pathname": "/usr/local/lib/python3.7/dist-packages/razor/flow/async_executors.py",
          "process": 260,
          "processName": "ForkProcess-1:2",
          "thread": 140262182819648,
          "threadName": "MainThread"
         },
         {
          "asctime": "2021-03-24 06:19:44,062",
          "created": 1616566784.0624902,
          "extra": {},
          "filename": "async_executors.py",
          "funcName": "fill_atomic_inputs",
          "levelname": "DEBUG",
          "lineno": 253,
          "message": "ReadCsvProjectSpaceETA_1: got atomic input: /home/aios/projectspace/train_hatespeech.csv",
          "name": "engine.logs:ReadCsvProjectSpaceETA_1",
          "pathname": "/usr/local/lib/python3.7/dist-packages/razor/flow/async_executors.py",
          "process": 260,
          "processName": "ForkProcess-1:2",
          "thread": 140262182819648,
          "threadName": "MainThread"
         },
         {
          "asctime": "2021-03-24 06:19:44,062",
          "created": 1616566784.0625427,
          "extra": {},
          "filename": "async_executors.py",
          "funcName": "fill_atomic_inputs",
          "levelname": "INFO",
          "lineno": 250,
          "message": "ReadCsvProjectSpaceETA_1: waiting for atomic input: config",
          "name": "engine.logs:ReadCsvProjectSpaceETA_1",
          "pathname": "/usr/local/lib/python3.7/dist-packages/razor/flow/async_executors.py",
          "process": 260,
          "processName": "ForkProcess-1:2",
          "thread": 140262182819648,
          "threadName": "MainThread"
         },
         {
          "asctime": "2021-03-24 06:19:44,062",
          "created": 1616566784.0625954,
          "extra": {},
          "filename": "async_executors.py",
          "funcName": "fill_atomic_inputs",
          "levelname": "DEBUG",
          "lineno": 253,
          "message": "ReadCsvProjectSpaceETA_1: got atomic input: {}",
          "name": "engine.logs:ReadCsvProjectSpaceETA_1",
          "pathname": "/usr/local/lib/python3.7/dist-packages/razor/flow/async_executors.py",
          "process": 260,
          "processName": "ForkProcess-1:2",
          "thread": 140262182819648,
          "threadName": "MainThread"
         },
         {
          "asctime": "2021-03-24 06:19:44,050",
          "created": 1616566784.0501497,
          "extra": {},
          "filename": "async_executors.py",
          "funcName": "main",
          "levelname": "DEBUG",
          "lineno": 114,
          "message": "SelectDataDescribe_1: started async block execution\n",
          "name": "engine.logs:SelectDataDescribe_1",
          "pathname": "/usr/local/lib/python3.7/dist-packages/razor/flow/async_executors.py",
          "process": 265,
          "processName": "ForkProcess-1:3",
          "thread": 140262182819648,
          "threadName": "MainThread"
         },
         {
          "asctime": "2021-03-24 06:19:44,062",
          "created": 1616566784.0626385,
          "extra": {},
          "filename": "async_executors.py",
          "funcName": "fill_atomic_inputs",
          "levelname": "INFO",
          "lineno": 250,
          "message": "ReadCsvProjectSpaceETA_1: waiting for atomic input: source",
          "name": "engine.logs:ReadCsvProjectSpaceETA_1",
          "pathname": "/usr/local/lib/python3.7/dist-packages/razor/flow/async_executors.py",
          "process": 260,
          "processName": "ForkProcess-1:2",
          "thread": 140262182819648,
          "threadName": "MainThread"
         },
         {
          "asctime": "2021-03-24 06:19:44,062",
          "created": 1616566784.062676,
          "extra": {},
          "filename": "async_executors.py",
          "funcName": "fill_atomic_inputs",
          "levelname": "DEBUG",
          "lineno": 253,
          "message": "ReadCsvProjectSpaceETA_1: got atomic input: ",
          "name": "engine.logs:ReadCsvProjectSpaceETA_1",
          "pathname": "/usr/local/lib/python3.7/dist-packages/razor/flow/async_executors.py",
          "process": 260,
          "processName": "ForkProcess-1:2",
          "thread": 140262182819648,
          "threadName": "MainThread"
         },
         {
          "asctime": "2021-03-24 06:19:44,062",
          "created": 1616566784.0627127,
          "extra": {},
          "filename": "async_executors.py",
          "funcName": "main",
          "levelname": "DEBUG",
          "lineno": 130,
          "message": "ReadCsvProjectSpaceETA_1: triggering block run",
          "name": "engine.logs:ReadCsvProjectSpaceETA_1",
          "pathname": "/usr/local/lib/python3.7/dist-packages/razor/flow/async_executors.py",
          "process": 260,
          "processName": "ForkProcess-1:2",
          "thread": 140262182819648,
          "threadName": "MainThread"
         },
         {
          "asctime": "2021-03-24 06:19:44,065",
          "created": 1616566784.0656881,
          "extra": {},
          "filename": "async_executors.py",
          "funcName": "fill_atomic_inputs",
          "levelname": "INFO",
          "lineno": 250,
          "message": "SelectDataDescribe_1: waiting for atomic input: filename",
          "name": "engine.logs:SelectDataDescribe_1",
          "pathname": "/usr/local/lib/python3.7/dist-packages/razor/flow/async_executors.py",
          "process": 265,
          "processName": "ForkProcess-1:3",
          "thread": 140262182819648,
          "threadName": "MainThread"
         },
         {
          "asctime": "2021-03-24 06:19:44,070",
          "created": 1616566784.070877,
          "extra": {},
          "filename": "async_executors.py",
          "funcName": "start_input_receiver",
          "levelname": "DEBUG",
          "lineno": 173,
          "message": "NonSparkPath_1: received cmd: start_sender, (), {'out_name': 'op_path', 'target': ('SelectDataDescribe_1', 'filename'), 'out_addr': 'tcp://0.0.0.0:64224', 'in_memory': None}",
          "name": "engine.logs:NonSparkPath_1",
          "pathname": "/usr/local/lib/python3.7/dist-packages/razor/flow/async_executors.py",
          "process": 251,
          "processName": "ForkProcess-1:1",
          "thread": 140262182819648,
          "threadName": "MainThread"
         },
         {
          "asctime": "2021-03-24 06:19:44,071",
          "created": 1616566784.0711942,
          "extra": {},
          "filename": "async_executors.py",
          "funcName": "start_output_sender",
          "levelname": "DEBUG",
          "lineno": 370,
          "message": "NonSparkPath_1: got start_sender, op_path, ('SelectDataDescribe_1', 'filename')",
          "name": "engine.logs:NonSparkPath_1",
          "pathname": "/usr/local/lib/python3.7/dist-packages/razor/flow/async_executors.py",
          "process": 251,
          "processName": "ForkProcess-1:1",
          "thread": 140262182819648,
          "threadName": "MainThread"
         },
         {
          "asctime": "2021-03-24 06:19:44,071",
          "created": 1616566784.0719168,
          "extra": {},
          "filename": "async_executors.py",
          "funcName": "start_output_sender",
          "levelname": "DEBUG",
          "lineno": 388,
          "message": "NonSparkPath_1: SENT, filename, /home/aios/projectspace/train_hatespeech.csv, ('SelectDataDescribe_1', 'filename')",
          "name": "engine.logs:NonSparkPath_1",
          "pathname": "/usr/local/lib/python3.7/dist-packages/razor/flow/async_executors.py",
          "process": 251,
          "processName": "ForkProcess-1:1",
          "thread": 140262182819648,
          "threadName": "MainThread"
         },
         {
          "asctime": "2021-03-24 06:19:44,072",
          "created": 1616566784.07212,
          "extra": {},
          "filename": "async_executors.py",
          "funcName": "start_output_sender",
          "levelname": "DEBUG",
          "lineno": 388,
          "message": "NonSparkPath_1: SENT, filename, b'__!\\tEndOfStream\\t!__', ('SelectDataDescribe_1', 'filename')",
          "name": "engine.logs:NonSparkPath_1",
          "pathname": "/usr/local/lib/python3.7/dist-packages/razor/flow/async_executors.py",
          "process": 251,
          "processName": "ForkProcess-1:1",
          "thread": 140262182819648,
          "threadName": "MainThread"
         },
         {
          "asctime": "2021-03-24 06:19:44,072",
          "created": 1616566784.0724158,
          "extra": {},
          "filename": "async_executors.py",
          "funcName": "start_output_sender",
          "levelname": "DEBUG",
          "lineno": 391,
          "message": "NonSparkPath_1: completed output: ('op_path', ('SelectDataDescribe_1', 'filename'))",
          "name": "engine.logs:NonSparkPath_1",
          "pathname": "/usr/local/lib/python3.7/dist-packages/razor/flow/async_executors.py",
          "process": 251,
          "processName": "ForkProcess-1:1",
          "thread": 140262182819648,
          "threadName": "MainThread"
         },
         {
          "asctime": "2021-03-24 06:19:44,076",
          "created": 1616566784.0762064,
          "extra": {},
          "filename": "async_executors.py",
          "funcName": "start_input_receiver",
          "levelname": "DEBUG",
          "lineno": 173,
          "message": "NonSparkPath_1: received cmd: terminate, (), {}",
          "name": "engine.logs:NonSparkPath_1",
          "pathname": "/usr/local/lib/python3.7/dist-packages/razor/flow/async_executors.py",
          "process": 251,
          "processName": "ForkProcess-1:1",
          "thread": 140262182819648,
          "threadName": "MainThread"
         },
         {
          "asctime": "2021-03-24 06:19:44,072",
          "created": 1616566784.0728436,
          "extra": {},
          "filename": "async_executors.py",
          "funcName": "start_input_receiver",
          "levelname": "DEBUG",
          "lineno": 177,
          "message": "SelectDataDescribe_1: received data: filename, /home/aios/projectspace/train_hatespeech.csv",
          "name": "engine.logs:SelectDataDescribe_1",
          "pathname": "/usr/local/lib/python3.7/dist-packages/razor/flow/async_executors.py",
          "process": 265,
          "processName": "ForkProcess-1:3",
          "thread": 140262182819648,
          "threadName": "MainThread"
         },
         {
          "asctime": "2021-03-24 06:19:44,073",
          "created": 1616566784.0732548,
          "extra": {},
          "filename": "async_executors.py",
          "funcName": "start_input_receiver",
          "levelname": "DEBUG",
          "lineno": 177,
          "message": "SelectDataDescribe_1: received data: filename, b'__!\\tEndOfStream\\t!__'",
          "name": "engine.logs:SelectDataDescribe_1",
          "pathname": "/usr/local/lib/python3.7/dist-packages/razor/flow/async_executors.py",
          "process": 265,
          "processName": "ForkProcess-1:3",
          "thread": 140262182819648,
          "threadName": "MainThread"
         },
         {
          "asctime": "2021-03-24 06:19:44,073",
          "created": 1616566784.073477,
          "extra": {},
          "filename": "async_executors.py",
          "funcName": "fill_atomic_inputs",
          "levelname": "DEBUG",
          "lineno": 253,
          "message": "SelectDataDescribe_1: got atomic input: /home/aios/projectspace/train_hatespeech.csv",
          "name": "engine.logs:SelectDataDescribe_1",
          "pathname": "/usr/local/lib/python3.7/dist-packages/razor/flow/async_executors.py",
          "process": 265,
          "processName": "ForkProcess-1:3",
          "thread": 140262182819648,
          "threadName": "MainThread"
         },
         {
          "asctime": "2021-03-24 06:19:44,073",
          "created": 1616566784.0735526,
          "extra": {},
          "filename": "async_executors.py",
          "funcName": "fill_atomic_inputs",
          "levelname": "INFO",
          "lineno": 250,
          "message": "SelectDataDescribe_1: waiting for atomic input: config",
          "name": "engine.logs:SelectDataDescribe_1",
          "pathname": "/usr/local/lib/python3.7/dist-packages/razor/flow/async_executors.py",
          "process": 265,
          "processName": "ForkProcess-1:3",
          "thread": 140262182819648,
          "threadName": "MainThread"
         },
         {
          "asctime": "2021-03-24 06:19:44,073",
          "created": 1616566784.0736308,
          "extra": {},
          "filename": "async_executors.py",
          "funcName": "fill_atomic_inputs",
          "levelname": "DEBUG",
          "lineno": 253,
          "message": "SelectDataDescribe_1: got atomic input: {}",
          "name": "engine.logs:SelectDataDescribe_1",
          "pathname": "/usr/local/lib/python3.7/dist-packages/razor/flow/async_executors.py",
          "process": 265,
          "processName": "ForkProcess-1:3",
          "thread": 140262182819648,
          "threadName": "MainThread"
         },
         {
          "asctime": "2021-03-24 06:19:44,073",
          "created": 1616566784.0736907,
          "extra": {},
          "filename": "async_executors.py",
          "funcName": "fill_atomic_inputs",
          "levelname": "INFO",
          "lineno": 250,
          "message": "SelectDataDescribe_1: waiting for atomic input: source",
          "name": "engine.logs:SelectDataDescribe_1",
          "pathname": "/usr/local/lib/python3.7/dist-packages/razor/flow/async_executors.py",
          "process": 265,
          "processName": "ForkProcess-1:3",
          "thread": 140262182819648,
          "threadName": "MainThread"
         },
         {
          "asctime": "2021-03-24 06:19:44,073",
          "created": 1616566784.0737565,
          "extra": {},
          "filename": "async_executors.py",
          "funcName": "fill_atomic_inputs",
          "levelname": "DEBUG",
          "lineno": 253,
          "message": "SelectDataDescribe_1: got atomic input: ",
          "name": "engine.logs:SelectDataDescribe_1",
          "pathname": "/usr/local/lib/python3.7/dist-packages/razor/flow/async_executors.py",
          "process": 265,
          "processName": "ForkProcess-1:3",
          "thread": 140262182819648,
          "threadName": "MainThread"
         },
         {
          "asctime": "2021-03-24 06:19:44,073",
          "created": 1616566784.0738392,
          "extra": {},
          "filename": "async_executors.py",
          "funcName": "main",
          "levelname": "DEBUG",
          "lineno": 130,
          "message": "SelectDataDescribe_1: triggering block run",
          "name": "engine.logs:SelectDataDescribe_1",
          "pathname": "/usr/local/lib/python3.7/dist-packages/razor/flow/async_executors.py",
          "process": 265,
          "processName": "ForkProcess-1:3",
          "thread": 140262182819648,
          "threadName": "MainThread"
         },
         {
          "asctime": "2021-03-24 06:20:04,316",
          "created": 1616566804.3162572,
          "exc_info": null,
          "extra": {},
          "filename": null,
          "full_message": null,
          "funcName": null,
          "levelname": "STDOUT",
          "lineno": null,
          "message": "Data Stat\n",
          "name": "block.stdout:SelectDataDescribe_1",
          "pathname": null,
          "process": null,
          "processName": null,
          "thread": null,
          "threadName": null
         },
         {
          "asctime": "2021-03-24 06:20:04,718",
          "created": 1616566804.718416,
          "exc_info": null,
          "extra": {},
          "filename": null,
          "full_message": null,
          "funcName": null,
          "levelname": "STDOUT",
          "lineno": null,
          "message": "Data Schema\n",
          "name": "block.stdout:ReadCsvProjectSpaceETA_1",
          "pathname": null,
          "process": null,
          "processName": null,
          "thread": null,
          "threadName": null
         },
         {
          "asctime": "2021-03-24 06:20:04,793",
          "created": 1616566804.7937217,
          "exc_info": null,
          "extra": {},
          "filename": null,
          "full_message": null,
          "funcName": null,
          "levelname": "STDOUT",
          "lineno": null,
          "message": "root\n |-- Unnamed: 0: string (nullable = true)\n |-- count: string (nullable = true)\n |-- hate_speech: string (nullable = true)\n |-- offensive_language: string (nullable = true)\n |-- neither: string (nullable = true)\n |-- class: string (nullable = true)\n |-- tweet: string (nullable = true)\n\n",
          "name": "block.stdout:ReadCsvProjectSpaceETA_1",
          "pathname": null,
          "process": null,
          "processName": null,
          "thread": null,
          "threadName": null
         },
         {
          "asctime": "2021-03-24 06:20:04,794",
          "created": 1616566804.7947836,
          "extra": {},
          "filename": "async_executors.py",
          "funcName": "main",
          "levelname": "DEBUG",
          "lineno": 147,
          "message": "ReadCsvProjectSpaceETA_1: block thread completed",
          "name": "engine.logs:ReadCsvProjectSpaceETA_1",
          "pathname": "/usr/local/lib/python3.7/dist-packages/razor/flow/async_executors.py",
          "process": 260,
          "processName": "ForkProcess-1:2",
          "thread": 140262182819648,
          "threadName": "MainThread"
         },
         {
          "asctime": "2021-03-24 06:20:04,794",
          "created": 1616566804.7949586,
          "extra": {},
          "filename": "async_executors.py",
          "funcName": "main",
          "levelname": "DEBUG",
          "lineno": 149,
          "message": "ReadCsvProjectSpaceETA_1: block execution complete",
          "name": "engine.logs:ReadCsvProjectSpaceETA_1",
          "pathname": "/usr/local/lib/python3.7/dist-packages/razor/flow/async_executors.py",
          "process": 260,
          "processName": "ForkProcess-1:2",
          "thread": 140262182819648,
          "threadName": "MainThread"
         },
         {
          "asctime": "2021-03-24 06:20:04,800",
          "created": 1616566804.800209,
          "extra": {},
          "filename": "async_executors.py",
          "funcName": "start_input_receiver",
          "levelname": "DEBUG",
          "lineno": 173,
          "message": "ReadCsvProjectSpaceETA_1: received cmd: terminate, (), {}",
          "name": "engine.logs:ReadCsvProjectSpaceETA_1",
          "pathname": "/usr/local/lib/python3.7/dist-packages/razor/flow/async_executors.py",
          "process": 260,
          "processName": "ForkProcess-1:2",
          "thread": 140262182819648,
          "threadName": "MainThread"
         },
         {
          "asctime": "2021-03-24 06:20:07,252",
          "created": 1616566807.2523212,
          "exc_info": null,
          "extra": {},
          "filename": null,
          "full_message": null,
          "funcName": null,
          "levelname": "STDOUT",
          "lineno": null,
          "message": "+-------+-------------------+--------------------+--------------------+------------------+------------------+------------------+--------------------+\n|summary|         Unnamed: 0|               count|         hate_speech|offensive_language|           neither|             class|               tweet|\n+-------+-------------------+--------------------+--------------------+------------------+------------------+------------------+--------------------+\n|  count|              19813|               18678|               18611|             18592|             18587|             18587|               18587|\n|   mean| 12674.823542070153|  3.2443380493840444|   0.280772541424575| 2.416420078549524|0.5475870231882498| 1.109915532361328|                null|\n| stddev|  7293.561251592916|   0.881638992617816|   0.635884983706677|1.3947702622174043|1.1176046254785716|0.4619634528340089|                null|\n|    min| #EMABiggestFans1D\"|                    | \"\"i'm sorry to s...|               3 R|                 0|                 0|!!! RT @mayasolov...|\n|    max|  ~Charlie Chaplin\"|failed ex-Browns ...|                   7|                 9|                 9|                 2|~~Ruffled | Ntac ...|\n+-------+-------------------+--------------------+--------------------+------------------+------------------+------------------+--------------------+\n\n",
          "name": "block.stdout:SelectDataDescribe_1",
          "pathname": null,
          "process": null,
          "processName": null,
          "thread": null,
          "threadName": null
         },
         {
          "asctime": "2021-03-24 06:20:07,253",
          "created": 1616566807.253156,
          "extra": {},
          "filename": "async_executors.py",
          "funcName": "main",
          "levelname": "DEBUG",
          "lineno": 147,
          "message": "SelectDataDescribe_1: block thread completed",
          "name": "engine.logs:SelectDataDescribe_1",
          "pathname": "/usr/local/lib/python3.7/dist-packages/razor/flow/async_executors.py",
          "process": 265,
          "processName": "ForkProcess-1:3",
          "thread": 140262182819648,
          "threadName": "MainThread"
         },
         {
          "asctime": "2021-03-24 06:20:07,253",
          "created": 1616566807.2532728,
          "extra": {},
          "filename": "async_executors.py",
          "funcName": "main",
          "levelname": "DEBUG",
          "lineno": 149,
          "message": "SelectDataDescribe_1: block execution complete",
          "name": "engine.logs:SelectDataDescribe_1",
          "pathname": "/usr/local/lib/python3.7/dist-packages/razor/flow/async_executors.py",
          "process": 265,
          "processName": "ForkProcess-1:3",
          "thread": 140262182819648,
          "threadName": "MainThread"
         },
         {
          "asctime": "2021-03-24 06:20:07,257",
          "created": 1616566807.2576604,
          "extra": {},
          "filename": "async_executors.py",
          "funcName": "start_input_receiver",
          "levelname": "DEBUG",
          "lineno": 173,
          "message": "SelectDataDescribe_1: received cmd: terminate, (), {}",
          "name": "engine.logs:SelectDataDescribe_1",
          "pathname": "/usr/local/lib/python3.7/dist-packages/razor/flow/async_executors.py",
          "process": 265,
          "processName": "ForkProcess-1:3",
          "thread": 140262182819648,
          "threadName": "MainThread"
         }
        ],
        "meta": {
         "block_status": {
          "NonSparkPath_1": "SUCCESS",
          "ReadCsvProjectSpaceETA_1": "SUCCESS",
          "SelectDataDescribe_1": "SUCCESS"
         },
         "blocks": [
          {
           "class_name": "SelectDataDescribe",
           "fullname": "razor.project.blocks.sourya_spark_blocks.SelectDataDescribe",
           "id": "48c4df70-b507-4581-a3c7-71ca84d558fd",
           "inputs": [
            {
             "dataType": "string",
             "default": "",
             "flow": "atomic",
             "help": null,
             "isdict": false,
             "islist": false,
             "label": "filename",
             "meta": {},
             "name": "filename",
             "series": false,
             "type": "str",
             "type_check": true
            },
            {
             "dataType": "dict",
             "default": {},
             "flow": "atomic",
             "help": null,
             "isdict": false,
             "islist": false,
             "label": "config",
             "meta": {},
             "name": "config",
             "series": false,
             "type": "dict",
             "type_check": true
            },
            {
             "dataType": "string",
             "default": "",
             "flow": "atomic",
             "help": null,
             "isdict": false,
             "islist": false,
             "label": "source",
             "meta": {},
             "name": "source",
             "series": false,
             "type": "str",
             "type_check": true
            }
           ],
           "outputs": [],
           "overwritten": false,
           "published": true,
           "var_names": [
            "SelectDataDescribe"
           ]
          },
          {
           "class_name": "NonSparkPath",
           "fullname": "razor.project.blocks.sourya_spark_blocks.NonSparkPath",
           "id": "e09870f8-f3a2-4fdc-b725-4b1049b9a541",
           "inputs": [
            {
             "dataType": "string",
             "default": "",
             "flow": "atomic",
             "help": null,
             "isdict": false,
             "islist": false,
             "label": "ip_path",
             "meta": {},
             "name": "ip_path",
             "series": false,
             "type": "str",
             "type_check": true
            }
           ],
           "outputs": [
            {
             "flow": "atomic",
             "help": null,
             "label": "op_path",
             "meta": {},
             "name": "op_path",
             "series": false,
             "type": "str",
             "type_check": true
            }
           ],
           "overwritten": false,
           "published": true,
           "var_names": [
            "NonSparkPath"
           ]
          },
          {
           "class_name": "ReadCsvProjectSpaceETA",
           "fullname": "razor.project.blocks.sourya_spark_blocks.ReadCsvProjectSpaceETA",
           "id": "a95f80ae-dc32-48fe-872f-c78d203f4fc9",
           "inputs": [
            {
             "dataType": "string",
             "default": "",
             "flow": "atomic",
             "help": null,
             "isdict": false,
             "islist": false,
             "label": "filename",
             "meta": {},
             "name": "filename",
             "series": false,
             "type": "str",
             "type_check": true
            },
            {
             "dataType": "dict",
             "default": {},
             "flow": "atomic",
             "help": null,
             "isdict": false,
             "islist": false,
             "label": "config",
             "meta": {},
             "name": "config",
             "series": false,
             "type": "dict",
             "type_check": true
            },
            {
             "dataType": "string",
             "default": "",
             "flow": "atomic",
             "help": null,
             "isdict": false,
             "islist": false,
             "label": "source",
             "meta": {},
             "name": "source",
             "series": false,
             "type": "str",
             "type_check": true
            }
           ],
           "outputs": [],
           "overwritten": false,
           "published": true,
           "var_names": [
            "ReadCsvProjectSpaceETA"
           ]
          }
         ],
         "connections": [
          {
           "id": "bf3042df-f384-439f-97a8-d6aacc2f98b0",
           "source": {
            "adapter": false,
            "instance_id": "f50f1256-8dcc-46dd-8378-bc9f3828e947",
            "name": "op_path"
           },
           "target": {
            "adapter": false,
            "instance_id": "68f5b0c5-96e9-4678-bf98-7494142dbf22",
            "name": "filename"
           }
          },
          {
           "id": "37a6b45b-d2ee-4f5c-a559-6ad53022ce87",
           "source": {
            "adapter": false,
            "instance_id": "f50f1256-8dcc-46dd-8378-bc9f3828e947",
            "name": "op_path"
           },
           "target": {
            "adapter": false,
            "instance_id": "b4e1fe63-a593-4181-8fa3-904e41e2964e",
            "name": "filename"
           }
          }
         ],
         "end": 1616566807.2603006,
         "id": "4ee3836f-3fe4-4afd-8e06-6f80dcc45a34",
         "instances": [
          {
           "block_class": "a95f80ae-dc32-48fe-872f-c78d203f4fc9",
           "id": "b4e1fe63-a593-4181-8fa3-904e41e2964e",
           "name": "ReadCsvProjectSpaceETA_1",
           "var_names": [
            "rcp"
           ]
          },
          {
           "block_class": "e09870f8-f3a2-4fdc-b725-4b1049b9a541",
           "id": "f50f1256-8dcc-46dd-8378-bc9f3828e947",
           "name": "NonSparkPath_1",
           "var_names": [
            "nsp"
           ]
          },
          {
           "block_class": "48c4df70-b507-4581-a3c7-71ca84d558fd",
           "id": "68f5b0c5-96e9-4678-bf98-7494142dbf22",
           "name": "SelectDataDescribe_1",
           "var_names": [
            "sd"
           ]
          }
         ],
         "log_level": 20,
         "name": "pipeline_sd_1",
         "start": 1616566783.6373045,
         "status": "SUCCESS",
         "system_logs": false,
         "var_names": []
        },
        "metrics": {},
        "runtime": {
         "NonSparkPath_1": {
          "end": 1616566784.0744743,
          "load": 1616566783.638503,
          "start": 1616566783.6442738
         },
         "ReadCsvProjectSpaceETA_1": {
          "end": 1616566804.7979696,
          "load": 1616566784.0290549,
          "start": 1616566784.0347216
         },
         "SelectDataDescribe_1": {
          "end": 1616566807.2556221,
          "load": 1616566784.0376654,
          "start": 1616566784.0448728
         }
        }
       },
       "store_in_notebook": true
      }
     },
     "output_type": "display_data"
    },
    {
     "data": {
      "text/plain": [
       "{}"
      ]
     },
     "execution_count": 9,
     "metadata": {},
     "output_type": "execute_result"
    }
   ],
   "source": [
    "pipe.execute()"
   ]
  },
  {
   "cell_type": "code",
   "execution_count": null,
   "id": "lyric-devil",
   "metadata": {},
   "outputs": [],
   "source": []
  },
  {
   "cell_type": "code",
   "execution_count": null,
   "id": "sunrise-guatemala",
   "metadata": {},
   "outputs": [],
   "source": []
  }
 ],
 "metadata": {
  "kernelspec": {
   "display_name": "Python 3",
   "language": "python",
   "name": "python3"
  },
  "language_info": {
   "codemirror_mode": {
    "name": "ipython",
    "version": 3
   },
   "file_extension": ".py",
   "mimetype": "text/x-python",
   "name": "python",
   "nbconvert_exporter": "python",
   "pygments_lexer": "ipython3",
   "version": "3.7.10"
  }
 },
 "nbformat": 4,
 "nbformat_minor": 5
}
