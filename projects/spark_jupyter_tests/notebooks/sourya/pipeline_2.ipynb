{
 "cells": [
  {
   "cell_type": "code",
   "execution_count": 1,
   "id": "played-emphasis",
   "metadata": {},
   "outputs": [],
   "source": [
    "import razor\n",
    "import razor.flow as rf\n",
    "from razor import api\n",
    "from razor.flow.spark import SparkBlock, SparkExecutor\n",
    "import typing as t"
   ]
  },
  {
   "cell_type": "code",
   "execution_count": 2,
   "id": "economic-arthur",
   "metadata": {},
   "outputs": [],
   "source": [
    "import os\n",
    "from datetime import datetime, timedelta\n",
    "from pyspark.sql import SparkSession, functions\n",
    "from pyspark.sql.dataframe import DataFrame\n",
    "from datetime import datetime, timedelta\n",
    "from dateutil.relativedelta import relativedelta"
   ]
  },
  {
   "cell_type": "code",
   "execution_count": 3,
   "id": "engaging-platinum",
   "metadata": {},
   "outputs": [],
   "source": [
    "def project_space_path(path):\n",
    "    ps = api.datasources('Project Space')\n",
    "    return os.path.join(ps.abspath(), path)\n"
   ]
  },
  {
   "cell_type": "code",
   "execution_count": 4,
   "id": "oriental-pharmaceutical",
   "metadata": {},
   "outputs": [],
   "source": [
    "@rf.block\n",
    "class NonSparkPath:\n",
    "    # Atomic input - csv filename relative to project space\n",
    "    ip_path: str\n",
    "    selected_cols: rf.Output[t.Any]\n",
    "    # Atomic output of type spark DataFrame.\n",
    "    op_path: rf.Output[str]\n",
    "    def run(self):\n",
    "        self.op_path.put(project_space_path(self.ip_path))\n",
    "        \n",
    "\n",
    "@rf.block\n",
    "class NonSparkCols:\n",
    "    cols_list: t.Any\n",
    "    # Atomic input - csv filename relative to project space\n",
    "    selected_cols: rf.Output[t.Any]\n",
    "    # Atomic output of type spark DataFrame.\n",
    "    def run(self):\n",
    "        self.selected_cols.put(self.cols_list)\n",
    "        "
   ]
  },
  {
   "cell_type": "code",
   "execution_count": 5,
   "id": "wrong-advice",
   "metadata": {},
   "outputs": [],
   "source": [
    "@rf.block\n",
    "class ReadCsvProjectSpace(SparkBlock):\n",
    "    filename:str\n",
    "    data: rf.Output[DataFrame]\n",
    "    def run(self):\n",
    "        df = self.spark.read.csv(self.filename, header = True)\n",
    "        print(\"Data Schema\")\n",
    "        df.printSchema()\n",
    "        self.data.put(df)\n",
    "        \n",
    "\n",
    "@rf.block\n",
    "class SelectData(SparkBlock):\n",
    "    wanted_cols: t.Any\n",
    "    inputData: DataFrame\n",
    "    outputData: rf.Output[DataFrame]\n",
    "    def run(self):\n",
    "        df = self.inputData\n",
    "        df_selected = df.select(self.wanted_cols)\n",
    "        df_selected.show()\n",
    "        self.outputData.put(df_selected)\n",
    "        \n",
    "        \n",
    "        \n",
    "        \n",
    "        "
   ]
  },
  {
   "cell_type": "code",
   "execution_count": 6,
   "id": "plastic-czech",
   "metadata": {},
   "outputs": [],
   "source": [
    "nsp = NonSparkPath(ip_path='df_with_stats.csv')\n",
    "nsc = NonSparkCols(cols_list = ['title','label'])\n",
    "rcp = ReadCsvProjectSpace(filename = nsp.op_path, config={}, source=\"\")\n",
    "sd = SelectData(wanted_cols=nsc.selected_cols, inputData=rcp.data, config={}, source=\"\")\n",
    "\n",
    "# rcp.executor = rf.ProcessExecutor\n",
    "# sd.executor = rf.ProcessExecutor"
   ]
  },
  {
   "cell_type": "code",
   "execution_count": 7,
   "id": "analyzed-commerce",
   "metadata": {},
   "outputs": [],
   "source": [
    "pipe = rf.Pipeline(targets = [sd])"
   ]
  },
  {
   "cell_type": "code",
   "execution_count": 8,
   "id": "compound-piano",
   "metadata": {},
   "outputs": [
    {
     "data": {
      "application/vnd.razorthink.interactive+pipeline+view+json": {
       "blocks": [
        {
         "class_name": "NonSparkPath",
         "fullname": ".NonSparkPath",
         "id": "54f781e6-9fd6-42ab-b30a-a5a44c681df3",
         "inputs": [
          {
           "dataType": "string",
           "default": "",
           "flow": "atomic",
           "help": null,
           "isdict": false,
           "islist": false,
           "label": "ip_path",
           "meta": {},
           "name": "ip_path",
           "series": false,
           "type": "str",
           "type_check": true
          }
         ],
         "outputs": [
          {
           "flow": "atomic",
           "help": null,
           "label": "selected_cols",
           "meta": {},
           "name": "selected_cols",
           "series": false,
           "type": "Any",
           "type_check": true
          },
          {
           "flow": "atomic",
           "help": null,
           "label": "op_path",
           "meta": {},
           "name": "op_path",
           "series": false,
           "type": "str",
           "type_check": true
          }
         ],
         "overwritten": false,
         "published": false,
         "var_names": [
          "NonSparkPath"
         ]
        },
        {
         "class_name": "SelectData",
         "fullname": ".SelectData",
         "id": "e7dcfa29-b6e5-4fa2-adc6-eed30e6f621f",
         "inputs": [
          {
           "dataType": null,
           "default": null,
           "flow": "atomic",
           "help": null,
           "isdict": false,
           "islist": false,
           "label": "wanted_cols",
           "meta": {},
           "name": "wanted_cols",
           "series": false,
           "type": "Any",
           "type_check": true
          },
          {
           "dataType": null,
           "default": null,
           "flow": "atomic",
           "help": null,
           "isdict": false,
           "islist": false,
           "label": "inputData",
           "meta": {},
           "name": "inputData",
           "series": false,
           "type": "DataFrame",
           "type_check": true
          },
          {
           "dataType": "dict",
           "default": {},
           "flow": "atomic",
           "help": null,
           "isdict": false,
           "islist": false,
           "label": "config",
           "meta": {},
           "name": "config",
           "series": false,
           "type": "dict",
           "type_check": true
          },
          {
           "dataType": "string",
           "default": "",
           "flow": "atomic",
           "help": null,
           "isdict": false,
           "islist": false,
           "label": "source",
           "meta": {},
           "name": "source",
           "series": false,
           "type": "str",
           "type_check": true
          }
         ],
         "outputs": [
          {
           "flow": "atomic",
           "help": null,
           "label": "outputData",
           "meta": {},
           "name": "outputData",
           "series": false,
           "type": "DataFrame",
           "type_check": true
          }
         ],
         "overwritten": false,
         "published": false,
         "var_names": [
          "SelectData"
         ]
        },
        {
         "class_name": "ReadCsvProjectSpace",
         "fullname": ".ReadCsvProjectSpace",
         "id": "e8253c85-5fcb-4ccf-96b1-1c9d82381836",
         "inputs": [
          {
           "dataType": "string",
           "default": "",
           "flow": "atomic",
           "help": null,
           "isdict": false,
           "islist": false,
           "label": "filename",
           "meta": {},
           "name": "filename",
           "series": false,
           "type": "str",
           "type_check": true
          },
          {
           "dataType": "dict",
           "default": {},
           "flow": "atomic",
           "help": null,
           "isdict": false,
           "islist": false,
           "label": "config",
           "meta": {},
           "name": "config",
           "series": false,
           "type": "dict",
           "type_check": true
          },
          {
           "dataType": "string",
           "default": "",
           "flow": "atomic",
           "help": null,
           "isdict": false,
           "islist": false,
           "label": "source",
           "meta": {},
           "name": "source",
           "series": false,
           "type": "str",
           "type_check": true
          }
         ],
         "outputs": [
          {
           "flow": "atomic",
           "help": null,
           "label": "data",
           "meta": {},
           "name": "data",
           "series": false,
           "type": "DataFrame",
           "type_check": true
          }
         ],
         "overwritten": false,
         "published": false,
         "var_names": [
          "ReadCsvProjectSpace"
         ]
        },
        {
         "class_name": "NonSparkCols",
         "fullname": ".NonSparkCols",
         "id": "0daf770d-fa30-489a-b89c-463faee6643c",
         "inputs": [
          {
           "dataType": null,
           "default": null,
           "flow": "atomic",
           "help": null,
           "isdict": false,
           "islist": false,
           "label": "cols_list",
           "meta": {},
           "name": "cols_list",
           "series": false,
           "type": "Any",
           "type_check": true
          }
         ],
         "outputs": [
          {
           "flow": "atomic",
           "help": null,
           "label": "selected_cols",
           "meta": {},
           "name": "selected_cols",
           "series": false,
           "type": "Any",
           "type_check": true
          }
         ],
         "overwritten": false,
         "published": false,
         "var_names": [
          "NonSparkCols"
         ]
        }
       ],
       "connections": [
        {
         "id": "5bd87551-3cd5-4036-8de3-b3db93444f36",
         "source": {
          "adapter": false,
          "instance_id": "13ee155f-6347-450e-999f-70d6b98ec85e",
          "name": "selected_cols"
         },
         "target": {
          "adapter": false,
          "instance_id": "7e2a26fa-4214-4f06-9433-90c271e74c64",
          "name": "wanted_cols"
         }
        },
        {
         "id": "81854ae5-c562-4df4-a243-da54e277c4ea",
         "source": {
          "adapter": false,
          "instance_id": "e475ff5c-bbee-4290-af23-842acd26c7bc",
          "name": "data"
         },
         "target": {
          "adapter": false,
          "instance_id": "7e2a26fa-4214-4f06-9433-90c271e74c64",
          "name": "inputData"
         }
        },
        {
         "id": "5eef02b7-7d47-42e7-ae7c-e798a16517ff",
         "source": {
          "adapter": false,
          "instance_id": "43972cdd-1357-4ee2-8046-6321ab080d05",
          "name": "op_path"
         },
         "target": {
          "adapter": false,
          "instance_id": "e475ff5c-bbee-4290-af23-842acd26c7bc",
          "name": "filename"
         }
        }
       ],
       "id": "dc0110aa-f5da-4ce7-b1f6-4b3a2298609b",
       "instances": [
        {
         "block_class": "e7dcfa29-b6e5-4fa2-adc6-eed30e6f621f",
         "id": "7e2a26fa-4214-4f06-9433-90c271e74c64",
         "name": "SelectData_1",
         "var_names": [
          "sd"
         ]
        },
        {
         "block_class": "0daf770d-fa30-489a-b89c-463faee6643c",
         "id": "13ee155f-6347-450e-999f-70d6b98ec85e",
         "name": "NonSparkCols_1",
         "var_names": [
          "nsc"
         ]
        },
        {
         "block_class": "e8253c85-5fcb-4ccf-96b1-1c9d82381836",
         "id": "e475ff5c-bbee-4290-af23-842acd26c7bc",
         "name": "ReadCsvProjectSpace_1",
         "var_names": [
          "rcp"
         ]
        },
        {
         "block_class": "54f781e6-9fd6-42ab-b30a-a5a44c681df3",
         "id": "43972cdd-1357-4ee2-8046-6321ab080d05",
         "name": "NonSparkPath_1",
         "var_names": [
          "nsp"
         ]
        }
       ],
       "name": "Pipeline_1",
       "var_names": []
      },
      "image/svg+xml": [
       "<?xml version=\"1.0\" encoding=\"UTF-8\" standalone=\"no\"?>\n",
       "<!DOCTYPE svg PUBLIC \"-//W3C//DTD SVG 1.1//EN\"\n",
       " \"http://www.w3.org/Graphics/SVG/1.1/DTD/svg11.dtd\">\n",
       "<!-- Generated by graphviz version 2.43.0 (0)\n",
       " -->\n",
       "<!-- Title: %3 Pages: 1 -->\n",
       "<svg width=\"534pt\" height=\"210pt\"\n",
       " viewBox=\"0.00 0.00 533.71 210.00\" xmlns=\"http://www.w3.org/2000/svg\" xmlns:xlink=\"http://www.w3.org/1999/xlink\">\n",
       "<g id=\"graph0\" class=\"graph\" transform=\"scale(1 1) rotate(0) translate(4 206)\">\n",
       "<title>%3</title>\n",
       "<polygon fill=\"white\" stroke=\"transparent\" points=\"-4,4 -4,-206 529.71,-206 529.71,4 -4,4\"/>\n",
       "<!-- SelectData(&#39;SelectData_1&#39;) -->\n",
       "<g id=\"node1\" class=\"node\">\n",
       "<title>SelectData(&#39;SelectData_1&#39;)</title>\n",
       "<ellipse fill=\"none\" stroke=\"black\" cx=\"185.78\" cy=\"-18\" rx=\"87.24\" ry=\"18\"/>\n",
       "<text text-anchor=\"middle\" x=\"185.78\" y=\"-15.5\" font-family=\"Helvetica,sans-Serif\" font-size=\"10.00\">SelectData(&#39;SelectData_1&#39;)</text>\n",
       "</g>\n",
       "<!-- NonSparkCols(&#39;NonSparkCols_1&#39;) -->\n",
       "<g id=\"node2\" class=\"node\">\n",
       "<title>NonSparkCols(&#39;NonSparkCols_1&#39;)</title>\n",
       "<ellipse fill=\"none\" stroke=\"black\" cx=\"104.78\" cy=\"-101\" rx=\"104.56\" ry=\"18\"/>\n",
       "<text text-anchor=\"middle\" x=\"104.78\" y=\"-98.5\" font-family=\"Helvetica,sans-Serif\" font-size=\"10.00\">NonSparkCols(&#39;NonSparkCols_1&#39;)</text>\n",
       "</g>\n",
       "<!-- NonSparkCols(&#39;NonSparkCols_1&#39;)&#45;&gt;SelectData(&#39;SelectData_1&#39;) -->\n",
       "<g id=\"edge1\" class=\"edge\">\n",
       "<title>NonSparkCols(&#39;NonSparkCols_1&#39;)&#45;&gt;SelectData(&#39;SelectData_1&#39;)</title>\n",
       "<path fill=\"none\" stroke=\"black\" d=\"M121.57,-83.22C133.19,-71.6 148.83,-55.95 161.77,-43.02\"/>\n",
       "<polygon fill=\"black\" stroke=\"black\" points=\"164.42,-45.31 169.02,-35.76 159.47,-40.36 164.42,-45.31\"/>\n",
       "<text text-anchor=\"middle\" x=\"220.28\" y=\"-57\" font-family=\"Helvetica,sans-Serif\" font-size=\"10.00\">selected_cols&#45;&gt;wanted_cols</text>\n",
       "</g>\n",
       "<!-- ReadCsvProjectSpace(&#39;ReadCsvProjectSpace_1&#39;) -->\n",
       "<g id=\"node3\" class=\"node\">\n",
       "<title>ReadCsvProjectSpace(&#39;ReadCsvProjectSpace_1&#39;)</title>\n",
       "<ellipse fill=\"none\" stroke=\"black\" cx=\"376.78\" cy=\"-101\" rx=\"148.86\" ry=\"18\"/>\n",
       "<text text-anchor=\"middle\" x=\"376.78\" y=\"-98.5\" font-family=\"Helvetica,sans-Serif\" font-size=\"10.00\">ReadCsvProjectSpace(&#39;ReadCsvProjectSpace_1&#39;)</text>\n",
       "</g>\n",
       "<!-- ReadCsvProjectSpace(&#39;ReadCsvProjectSpace_1&#39;)&#45;&gt;SelectData(&#39;SelectData_1&#39;) -->\n",
       "<g id=\"edge2\" class=\"edge\">\n",
       "<title>ReadCsvProjectSpace(&#39;ReadCsvProjectSpace_1&#39;)&#45;&gt;SelectData(&#39;SelectData_1&#39;)</title>\n",
       "<path fill=\"none\" stroke=\"black\" d=\"M349.41,-83.08C333.55,-73.72 312.97,-62.33 293.78,-54 278.36,-47.3 261.23,-41.18 245.23,-36\"/>\n",
       "<polygon fill=\"black\" stroke=\"black\" points=\"246.04,-32.58 235.45,-32.9 243.92,-39.25 246.04,-32.58\"/>\n",
       "<text text-anchor=\"middle\" x=\"355.78\" y=\"-57\" font-family=\"Helvetica,sans-Serif\" font-size=\"10.00\">data&#45;&gt;inputData</text>\n",
       "</g>\n",
       "<!-- NonSparkPath(&#39;NonSparkPath_1&#39;) -->\n",
       "<g id=\"node4\" class=\"node\">\n",
       "<title>NonSparkPath(&#39;NonSparkPath_1&#39;)</title>\n",
       "<ellipse fill=\"none\" stroke=\"black\" cx=\"376.78\" cy=\"-184\" rx=\"104.56\" ry=\"18\"/>\n",
       "<text text-anchor=\"middle\" x=\"376.78\" y=\"-181.5\" font-family=\"Helvetica,sans-Serif\" font-size=\"10.00\">NonSparkPath(&#39;NonSparkPath_1&#39;)</text>\n",
       "</g>\n",
       "<!-- NonSparkPath(&#39;NonSparkPath_1&#39;)&#45;&gt;ReadCsvProjectSpace(&#39;ReadCsvProjectSpace_1&#39;) -->\n",
       "<g id=\"edge3\" class=\"edge\">\n",
       "<title>NonSparkPath(&#39;NonSparkPath_1&#39;)&#45;&gt;ReadCsvProjectSpace(&#39;ReadCsvProjectSpace_1&#39;)</title>\n",
       "<path fill=\"none\" stroke=\"black\" d=\"M376.78,-165.82C376.78,-155.19 376.78,-141.31 376.78,-129.2\"/>\n",
       "<polygon fill=\"black\" stroke=\"black\" points=\"380.28,-129.15 376.78,-119.15 373.28,-129.15 380.28,-129.15\"/>\n",
       "<text text-anchor=\"middle\" x=\"423.78\" y=\"-140\" font-family=\"Helvetica,sans-Serif\" font-size=\"10.00\">op_path&#45;&gt;filename</text>\n",
       "</g>\n",
       "</g>\n",
       "</svg>\n"
      ],
      "text/plain": [
       "<razor.flow.async_pipeline.Pipeline at 0x7f6bc1ec3e10>"
      ]
     },
     "execution_count": 8,
     "metadata": {},
     "output_type": "execute_result"
    }
   ],
   "source": [
    "pipe"
   ]
  },
  {
   "cell_type": "code",
   "execution_count": 9,
   "id": "maritime-criminal",
   "metadata": {},
   "outputs": [
    {
     "name": "stdout",
     "output_type": "stream",
     "text": [
      "log path: /tmp/tmpk4q49koq/Pipeline_1\n"
     ]
    },
    {
     "data": {
      "application/vnd.razorthink.run+monitor+json": "/tmp/tmpk4q49koq/Pipeline_1",
      "text/plain": [
       "<razor_tools.backend.ipython.mime.run_monitor.RunMonitor at 0x7f6bc1ccb350>"
      ]
     },
     "metadata": {
      "application/vnd.razorthink.run+monitor+json": {
       "run_data": {
        "apm": [
         {
          "cpu_percent": 0,
          "cpu_time": 0,
          "name": "NonSparkPath_1",
          "real_mem": 154914816,
          "time": 1616560159.4510496
         },
         {
          "cpu_percent": 0,
          "cpu_time": 0,
          "name": "NonSparkCols_1",
          "real_mem": 154931200,
          "time": 1616560159.4427295
         },
         {
          "cpu_percent": 0,
          "cpu_time": 0.01,
          "name": "NonSparkCols_1",
          "real_mem": 155033600,
          "time": 1616560159.554596
         },
         {
          "cpu_percent": 0,
          "cpu_time": 0.03,
          "name": "NonSparkPath_1",
          "real_mem": 156688384,
          "time": 1616560159.562724
         },
         {
          "cpu_percent": 0,
          "cpu_time": 0.01,
          "name": "NonSparkCols_1",
          "real_mem": 155033600,
          "time": 1616560159.6663928
         },
         {
          "cpu_percent": 0,
          "cpu_time": 0.03,
          "name": "NonSparkPath_1",
          "real_mem": 156925952,
          "time": 1616560159.6831813
         },
         {
          "cpu_percent": 0,
          "cpu_time": 0,
          "name": "SelectData_1",
          "real_mem": 155246592,
          "time": 1616560159.7194943
         },
         {
          "cpu_percent": 0,
          "cpu_time": 0,
          "name": "ReadCsvProjectSpace_1",
          "real_mem": 155406336,
          "time": 1616560159.7402618
         },
         {
          "cpu_percent": 98.1,
          "cpu_time": 0.11,
          "name": "SelectData_1",
          "real_mem": 184868864,
          "time": 1616560159.863841
         },
         {
          "cpu_percent": 0,
          "cpu_time": 0.18,
          "name": "ReadCsvProjectSpace_1",
          "real_mem": 197234688,
          "time": 1616560159.9071
         },
         {
          "cpu_percent": 0,
          "cpu_time": 0.06,
          "name": "SelectData_1",
          "real_mem": 160088064,
          "time": 1616560159.9977558
         },
         {
          "cpu_percent": 98.6,
          "cpu_time": 0.09,
          "name": "ReadCsvProjectSpace_1",
          "real_mem": 176922624,
          "time": 1616560160.0303373
         },
         {
          "cpu_percent": 196.6,
          "cpu_time": 0.22999999999999998,
          "name": "SelectData_1",
          "real_mem": 194985984,
          "time": 1616560160.121108
         },
         {
          "cpu_percent": 196.1,
          "cpu_time": 0.29,
          "name": "ReadCsvProjectSpace_1",
          "real_mem": 207028224,
          "time": 1616560160.1540716
         },
         {
          "cpu_percent": 98.7,
          "cpu_time": 0.49,
          "name": "SelectData_1",
          "real_mem": 224129024,
          "time": 1616560160.2449152
         },
         {
          "cpu_percent": 197.3,
          "cpu_time": 0.53,
          "name": "ReadCsvProjectSpace_1",
          "real_mem": 228233216,
          "time": 1616560160.2770898
         },
         {
          "cpu_percent": 98.6,
          "cpu_time": 0.64,
          "name": "SelectData_1",
          "real_mem": 242495488,
          "time": 1616560160.3675134
         },
         {
          "cpu_percent": 196.9,
          "cpu_time": 0.7100000000000001,
          "name": "ReadCsvProjectSpace_1",
          "real_mem": 244109312,
          "time": 1616560160.3998969
         },
         {
          "cpu_percent": 98.7,
          "cpu_time": 0.8500000000000001,
          "name": "SelectData_1",
          "real_mem": 254627840,
          "time": 1616560160.490109
         },
         {
          "cpu_percent": 98.4,
          "cpu_time": 0.8899999999999999,
          "name": "ReadCsvProjectSpace_1",
          "real_mem": 255094784,
          "time": 1616560160.5227668
         },
         {
          "cpu_percent": 196.6,
          "cpu_time": 1.04,
          "name": "SelectData_1",
          "real_mem": 256909312,
          "time": 1616560160.6139188
         },
         {
          "cpu_percent": 196.7,
          "cpu_time": 1.12,
          "name": "ReadCsvProjectSpace_1",
          "real_mem": 257679360,
          "time": 1616560160.6468246
         },
         {
          "cpu_percent": 98.4,
          "cpu_time": 1.26,
          "name": "SelectData_1",
          "real_mem": 271847424,
          "time": 1616560160.737857
         },
         {
          "cpu_percent": 192.8,
          "cpu_time": 1.31,
          "name": "ReadCsvProjectSpace_1",
          "real_mem": 272633856,
          "time": 1616560160.7708693
         },
         {
          "cpu_percent": 196.9,
          "cpu_time": 1.47,
          "name": "SelectData_1",
          "real_mem": 279633920,
          "time": 1616560160.8599625
         },
         {
          "cpu_percent": 294.8,
          "cpu_time": 1.53,
          "name": "ReadCsvProjectSpace_1",
          "real_mem": 280330240,
          "time": 1616560160.8934317
         },
         {
          "cpu_percent": 98.6,
          "cpu_time": 1.6500000000000001,
          "name": "SelectData_1",
          "real_mem": 282013696,
          "time": 1616560160.9837813
         },
         {
          "cpu_percent": 98.4,
          "cpu_time": 1.71,
          "name": "ReadCsvProjectSpace_1",
          "real_mem": 282898432,
          "time": 1616560161.0163422
         },
         {
          "cpu_percent": 197.4,
          "cpu_time": 1.8900000000000001,
          "name": "SelectData_1",
          "real_mem": 284794880,
          "time": 1616560161.106616
         },
         {
          "cpu_percent": 197,
          "cpu_time": 1.97,
          "name": "ReadCsvProjectSpace_1",
          "real_mem": 286035968,
          "time": 1616560161.1387928
         },
         {
          "cpu_percent": 98.6,
          "cpu_time": 2.13,
          "name": "SelectData_1",
          "real_mem": 302096384,
          "time": 1616560161.2289042
         },
         {
          "cpu_percent": 98.4,
          "cpu_time": 2.17,
          "name": "ReadCsvProjectSpace_1",
          "real_mem": 306601984,
          "time": 1616560161.2612357
         },
         {
          "cpu_percent": 98.6,
          "cpu_time": 2.3,
          "name": "SelectData_1",
          "real_mem": 320040960,
          "time": 1616560161.3516273
         },
         {
          "cpu_percent": 296.1,
          "cpu_time": 2.36,
          "name": "ReadCsvProjectSpace_1",
          "real_mem": 320327680,
          "time": 1616560161.383925
         },
         {
          "cpu_percent": 98.5,
          "cpu_time": 2.5,
          "name": "SelectData_1",
          "real_mem": 321986560,
          "time": 1616560161.4742942
         },
         {
          "cpu_percent": 295.2,
          "cpu_time": 2.5900000000000003,
          "name": "ReadCsvProjectSpace_1",
          "real_mem": 322965504,
          "time": 1616560161.5064132
         },
         {
          "cpu_percent": 393.4,
          "cpu_time": 2.81,
          "name": "SelectData_1",
          "real_mem": 324300800,
          "time": 1616560161.5967188
         },
         {
          "cpu_percent": 295.7,
          "cpu_time": 2.9099999999999997,
          "name": "ReadCsvProjectSpace_1",
          "real_mem": 325038080,
          "time": 1616560161.6292074
         },
         {
          "cpu_percent": 393,
          "cpu_time": 3.21,
          "name": "SelectData_1",
          "real_mem": 334475264,
          "time": 1616560161.7198205
         },
         {
          "cpu_percent": 392.9,
          "cpu_time": 3.32,
          "name": "ReadCsvProjectSpace_1",
          "real_mem": 334991360,
          "time": 1616560161.7521622
         },
         {
          "cpu_percent": 295.6,
          "cpu_time": 3.57,
          "name": "SelectData_1",
          "real_mem": 341475328,
          "time": 1616560161.8426683
         },
         {
          "cpu_percent": 0,
          "cpu_time": 3.6,
          "name": "ReadCsvProjectSpace_1",
          "real_mem": 342016000,
          "time": 1616560161.8748991
         },
         {
          "cpu_percent": 295.1,
          "cpu_time": 3.7600000000000002,
          "name": "SelectData_1",
          "real_mem": 343674880,
          "time": 1616560161.9653385
         },
         {
          "cpu_percent": 196.7,
          "cpu_time": 3.81,
          "name": "ReadCsvProjectSpace_1",
          "real_mem": 344182784,
          "time": 1616560161.9977496
         },
         {
          "cpu_percent": 197,
          "cpu_time": 3.93,
          "name": "SelectData_1",
          "real_mem": 346324992,
          "time": 1616560162.0883994
         },
         {
          "cpu_percent": 394.7,
          "cpu_time": 4.01,
          "name": "ReadCsvProjectSpace_1",
          "real_mem": 346902528,
          "time": 1616560162.1211898
         },
         {
          "cpu_percent": 98,
          "cpu_time": 4.21,
          "name": "SelectData_1",
          "real_mem": 348319744,
          "time": 1616560162.2115066
         },
         {
          "cpu_percent": 98.6,
          "cpu_time": 4.26,
          "name": "ReadCsvProjectSpace_1",
          "real_mem": 349081600,
          "time": 1616560162.2438488
         },
         {
          "cpu_percent": 195.5,
          "cpu_time": 4.37,
          "name": "SelectData_1",
          "real_mem": 356069376,
          "time": 1616560162.3344488
         },
         {
          "cpu_percent": 98.6,
          "cpu_time": 4.3999999999999995,
          "name": "ReadCsvProjectSpace_1",
          "real_mem": 361009152,
          "time": 1616560162.366816
         },
         {
          "cpu_percent": 98.5,
          "cpu_time": 4.529999999999999,
          "name": "SelectData_1",
          "real_mem": 374231040,
          "time": 1616560162.4576495
         },
         {
          "cpu_percent": 98.5,
          "cpu_time": 4.57,
          "name": "ReadCsvProjectSpace_1",
          "real_mem": 378683392,
          "time": 1616560162.489878
         },
         {
          "cpu_percent": 98.6,
          "cpu_time": 4.760000000000001,
          "name": "SelectData_1",
          "real_mem": 389951488,
          "time": 1616560162.5804186
         },
         {
          "cpu_percent": 197,
          "cpu_time": 4.82,
          "name": "ReadCsvProjectSpace_1",
          "real_mem": 394207232,
          "time": 1616560162.612634
         },
         {
          "cpu_percent": 98.4,
          "cpu_time": 4.930000000000001,
          "name": "SelectData_1",
          "real_mem": 403042304,
          "time": 1616560162.7029376
         },
         {
          "cpu_percent": 296.3,
          "cpu_time": 4.99,
          "name": "ReadCsvProjectSpace_1",
          "real_mem": 412663808,
          "time": 1616560162.7358963
         },
         {
          "cpu_percent": 295,
          "cpu_time": 5.19,
          "name": "SelectData_1",
          "real_mem": 414507008,
          "time": 1616560162.8265407
         },
         {
          "cpu_percent": 98.3,
          "cpu_time": 5.25,
          "name": "ReadCsvProjectSpace_1",
          "real_mem": 415010816,
          "time": 1616560162.8594851
         },
         {
          "cpu_percent": 196.7,
          "cpu_time": 5.37,
          "name": "SelectData_1",
          "real_mem": 416587776,
          "time": 1616560162.9503002
         },
         {
          "cpu_percent": 293.6,
          "cpu_time": 5.44,
          "name": "ReadCsvProjectSpace_1",
          "real_mem": 416706560,
          "time": 1616560162.9826186
         },
         {
          "cpu_percent": 197,
          "cpu_time": 5.67,
          "name": "SelectData_1",
          "real_mem": 418004992,
          "time": 1616560163.0729492
         },
         {
          "cpu_percent": 294.1,
          "cpu_time": 5.7299999999999995,
          "name": "ReadCsvProjectSpace_1",
          "real_mem": 418533376,
          "time": 1616560163.1057842
         },
         {
          "cpu_percent": 296.1,
          "cpu_time": 5.99,
          "name": "SelectData_1",
          "real_mem": 431079424,
          "time": 1616560163.198657
         },
         {
          "cpu_percent": 296.2,
          "cpu_time": 6.09,
          "name": "ReadCsvProjectSpace_1",
          "real_mem": 433881088,
          "time": 1616560163.2276657
         },
         {
          "cpu_percent": 197.5,
          "cpu_time": 6.35,
          "name": "SelectData_1",
          "real_mem": 437796864,
          "time": 1616560163.3216662
         },
         {
          "cpu_percent": 197.5,
          "cpu_time": 6.3999999999999995,
          "name": "ReadCsvProjectSpace_1",
          "real_mem": 440057856,
          "time": 1616560163.3496614
         },
         {
          "cpu_percent": 197.5,
          "cpu_time": 6.6,
          "name": "SelectData_1",
          "real_mem": 445046784,
          "time": 1616560163.4446359
         },
         {
          "cpu_percent": 395,
          "cpu_time": 6.67,
          "name": "ReadCsvProjectSpace_1",
          "real_mem": 445550592,
          "time": 1616560163.4715815
         },
         {
          "cpu_percent": 98.2,
          "cpu_time": 7.45,
          "name": "SelectData_1",
          "real_mem": 459808768,
          "time": 1616560163.7210188
         },
         {
          "cpu_percent": 98.1,
          "cpu_time": 7.48,
          "name": "ReadCsvProjectSpace_1",
          "real_mem": 460607488,
          "time": 1616560163.744373
         },
         {
          "cpu_percent": 296.2,
          "cpu_time": 8.129999999999999,
          "name": "SelectData_1",
          "real_mem": 475566080,
          "time": 1616560163.9936466
         },
         {
          "cpu_percent": 296.1,
          "cpu_time": 8.2,
          "name": "ReadCsvProjectSpace_1",
          "real_mem": 478138368,
          "time": 1616560164.0165846
         },
         {
          "cpu_percent": 296.2,
          "cpu_time": 8.989999999999998,
          "name": "SelectData_1",
          "real_mem": 532766720,
          "time": 1616560164.2656524
         },
         {
          "cpu_percent": 296.3,
          "cpu_time": 9.049999999999999,
          "name": "ReadCsvProjectSpace_1",
          "real_mem": 535629824,
          "time": 1616560164.2885504
         },
         {
          "cpu_percent": 196.4,
          "cpu_time": 9.549999999999999,
          "name": "SelectData_1",
          "real_mem": 560615424,
          "time": 1616560164.538718
         },
         {
          "cpu_percent": 98.2,
          "cpu_time": 9.600000000000001,
          "name": "ReadCsvProjectSpace_1",
          "real_mem": 562978816,
          "time": 1616560164.5609229
         },
         {
          "cpu_percent": 196.6,
          "cpu_time": 9.98,
          "name": "SelectData_1",
          "real_mem": 581902336,
          "time": 1616560164.811787
         },
         {
          "cpu_percent": 196.8,
          "cpu_time": 10.02,
          "name": "ReadCsvProjectSpace_1",
          "real_mem": 583757824,
          "time": 1616560164.8336966
         },
         {
          "cpu_percent": 98.7,
          "cpu_time": 10.370000000000001,
          "name": "SelectData_1",
          "real_mem": 628215808,
          "time": 1616560165.0845213
         },
         {
          "cpu_percent": 394.9,
          "cpu_time": 10.43,
          "name": "ReadCsvProjectSpace_1",
          "real_mem": 625758208,
          "time": 1616560165.1078222
         },
         {
          "cpu_percent": 294,
          "cpu_time": 11,
          "name": "SelectData_1",
          "real_mem": 628973568,
          "time": 1616560165.3577042
         },
         {
          "cpu_percent": 98.3,
          "cpu_time": 11.02,
          "name": "ReadCsvProjectSpace_1",
          "real_mem": 629239808,
          "time": 1616560165.3799493
         },
         {
          "cpu_percent": 197.1,
          "cpu_time": 11.440000000000001,
          "name": "SelectData_1",
          "real_mem": 634236928,
          "time": 1616560165.630699
         },
         {
          "cpu_percent": 196.9,
          "cpu_time": 11.5,
          "name": "ReadCsvProjectSpace_1",
          "real_mem": 634527744,
          "time": 1616560165.6523902
         },
         {
          "cpu_percent": 98.7,
          "cpu_time": 11.870000000000001,
          "name": "SelectData_1",
          "real_mem": 637923328,
          "time": 1616560165.9028106
         },
         {
          "cpu_percent": 98.3,
          "cpu_time": 11.91,
          "name": "ReadCsvProjectSpace_1",
          "real_mem": 638210048,
          "time": 1616560165.925096
         },
         {
          "cpu_percent": 98.4,
          "cpu_time": 12.4,
          "name": "SelectData_1",
          "real_mem": 641196032,
          "time": 1616560166.175771
         },
         {
          "cpu_percent": 98.8,
          "cpu_time": 12.43,
          "name": "ReadCsvProjectSpace_1",
          "real_mem": 641536000,
          "time": 1616560166.1974475
         },
         {
          "cpu_percent": 295.9,
          "cpu_time": 12.87,
          "name": "SelectData_1",
          "real_mem": 644083712,
          "time": 1616560166.4476895
         },
         {
          "cpu_percent": 98.6,
          "cpu_time": 12.9,
          "name": "ReadCsvProjectSpace_1",
          "real_mem": 644210688,
          "time": 1616560166.4697723
         },
         {
          "cpu_percent": 295.1,
          "cpu_time": 13.54,
          "name": "ReadCsvProjectSpace_1",
          "real_mem": 646529024,
          "time": 1616560166.7431343
         },
         {
          "cpu_percent": 294.9,
          "cpu_time": 13.48,
          "name": "SelectData_1",
          "real_mem": 646529024,
          "time": 1616560166.7213101
         },
         {
          "cpu_percent": 197.4,
          "cpu_time": 13.98,
          "name": "SelectData_1",
          "real_mem": 649289728,
          "time": 1616560166.9936767
         },
         {
          "cpu_percent": 196,
          "cpu_time": 14.01,
          "name": "ReadCsvProjectSpace_1",
          "real_mem": 649953280,
          "time": 1616560167.0154483
         },
         {
          "cpu_percent": 96.9,
          "cpu_time": 14.31,
          "name": "SelectData_1",
          "real_mem": 722427904,
          "time": 1616560167.2664006
         },
         {
          "cpu_percent": 98.3,
          "cpu_time": 14.34,
          "name": "ReadCsvProjectSpace_1",
          "real_mem": 722616320,
          "time": 1616560167.2881997
         },
         {
          "cpu_percent": 0,
          "cpu_time": 14.74,
          "name": "ReadCsvProjectSpace_1",
          "real_mem": 726290432,
          "time": 1616560167.560673
         },
         {
          "cpu_percent": 98.6,
          "cpu_time": 14.709999999999999,
          "name": "SelectData_1",
          "real_mem": 725757952,
          "time": 1616560167.5387528
         },
         {
          "cpu_percent": 393.3,
          "cpu_time": 15.219999999999999,
          "name": "ReadCsvProjectSpace_1",
          "real_mem": 732901376,
          "time": 1616560167.8343346
         },
         {
          "cpu_percent": 294.8,
          "cpu_time": 15.17,
          "name": "SelectData_1",
          "real_mem": 732356608,
          "time": 1616560167.8117542
         },
         {
          "cpu_percent": 292.4,
          "cpu_time": 15.99,
          "name": "SelectData_1",
          "real_mem": 737280000,
          "time": 1616560168.0840678
         },
         {
          "cpu_percent": 491.4,
          "cpu_time": 16.080000000000002,
          "name": "ReadCsvProjectSpace_1",
          "real_mem": 738889728,
          "time": 1616560168.1064527
         },
         {
          "cpu_percent": 392.2,
          "cpu_time": 16.91,
          "name": "SelectData_1",
          "real_mem": 774250496,
          "time": 1616560168.3575976
         },
         {
          "cpu_percent": 294.8,
          "cpu_time": 16.97,
          "name": "ReadCsvProjectSpace_1",
          "real_mem": 778326016,
          "time": 1616560168.3799188
         },
         {
          "cpu_percent": 491.7,
          "cpu_time": 17.57,
          "name": "SelectData_1",
          "real_mem": 795090944,
          "time": 1616560168.6303713
         },
         {
          "cpu_percent": 264.3,
          "cpu_time": 17.61,
          "name": "ReadCsvProjectSpace_1",
          "real_mem": 796069888,
          "time": 1616560168.6538074
         },
         {
          "cpu_percent": 395.5,
          "cpu_time": 18.3,
          "name": "SelectData_1",
          "real_mem": 800329728,
          "time": 1616560168.9033632
         },
         {
          "cpu_percent": 394.2,
          "cpu_time": 18.38,
          "name": "ReadCsvProjectSpace_1",
          "real_mem": 800673792,
          "time": 1616560168.9263527
         },
         {
          "cpu_percent": 196.5,
          "cpu_time": 19.18,
          "name": "SelectData_1",
          "real_mem": 805326848,
          "time": 1616560169.1757095
         },
         {
          "cpu_percent": 98.5,
          "cpu_time": 19.23,
          "name": "ReadCsvProjectSpace_1",
          "real_mem": 805326848,
          "time": 1616560169.1989844
         },
         {
          "cpu_percent": 98.6,
          "cpu_time": 19.46,
          "name": "SelectData_1",
          "real_mem": 821030912,
          "time": 1616560169.4485428
         },
         {
          "cpu_percent": 395.1,
          "cpu_time": 19.54,
          "name": "ReadCsvProjectSpace_1",
          "real_mem": 821030912,
          "time": 1616560169.4705899
         },
         {
          "cpu_percent": 294.8,
          "cpu_time": 20.05,
          "name": "SelectData_1",
          "real_mem": 822661120,
          "time": 1616560169.7213273
         },
         {
          "cpu_percent": 97.7,
          "cpu_time": 20.09,
          "name": "ReadCsvProjectSpace_1",
          "real_mem": 822718464,
          "time": 1616560169.743687
         },
         {
          "cpu_percent": 196.5,
          "cpu_time": 20.6,
          "name": "SelectData_1",
          "real_mem": 823939072,
          "time": 1616560169.9944355
         },
         {
          "cpu_percent": 97.9,
          "cpu_time": 20.62,
          "name": "ReadCsvProjectSpace_1",
          "real_mem": 823939072,
          "time": 1616560170.016783
         },
         {
          "cpu_percent": 197.1,
          "cpu_time": 21.189999999999998,
          "name": "SelectData_1",
          "real_mem": 836943872,
          "time": 1616560170.2671034
         }
        ],
        "logs": [
         {
          "asctime": "2021-03-24 04:29:19,434",
          "created": 1616560159.4348702,
          "extra": {},
          "filename": "async_executors.py",
          "funcName": "main",
          "levelname": "DEBUG",
          "lineno": 114,
          "message": "NonSparkPath_1: started async block execution\n",
          "name": "engine.logs:NonSparkPath_1",
          "pathname": "/usr/local/lib/python3.7/dist-packages/razor/flow/async_executors.py",
          "process": 1082,
          "processName": "ForkProcess-1:2",
          "thread": 140103109744448,
          "threadName": "MainThread"
         },
         {
          "asctime": "2021-03-24 04:29:19,451",
          "created": 1616560159.4512146,
          "extra": {},
          "filename": "async_executors.py",
          "funcName": "fill_atomic_inputs",
          "levelname": "INFO",
          "lineno": 250,
          "message": "NonSparkPath_1: waiting for atomic input: ip_path",
          "name": "engine.logs:NonSparkPath_1",
          "pathname": "/usr/local/lib/python3.7/dist-packages/razor/flow/async_executors.py",
          "process": 1082,
          "processName": "ForkProcess-1:2",
          "thread": 140103109744448,
          "threadName": "MainThread"
         },
         {
          "asctime": "2021-03-24 04:29:19,451",
          "created": 1616560159.4514732,
          "extra": {},
          "filename": "async_executors.py",
          "funcName": "fill_atomic_inputs",
          "levelname": "DEBUG",
          "lineno": 253,
          "message": "NonSparkPath_1: got atomic input: df_with_stats.csv",
          "name": "engine.logs:NonSparkPath_1",
          "pathname": "/usr/local/lib/python3.7/dist-packages/razor/flow/async_executors.py",
          "process": 1082,
          "processName": "ForkProcess-1:2",
          "thread": 140103109744448,
          "threadName": "MainThread"
         },
         {
          "asctime": "2021-03-24 04:29:19,451",
          "created": 1616560159.451541,
          "extra": {},
          "filename": "async_executors.py",
          "funcName": "main",
          "levelname": "DEBUG",
          "lineno": 130,
          "message": "NonSparkPath_1: triggering block run",
          "name": "engine.logs:NonSparkPath_1",
          "pathname": "/usr/local/lib/python3.7/dist-packages/razor/flow/async_executors.py",
          "process": 1082,
          "processName": "ForkProcess-1:2",
          "thread": 140103109744448,
          "threadName": "MainThread"
         },
         {
          "asctime": "2021-03-24 04:29:19,425",
          "created": 1616560159.425909,
          "extra": {},
          "filename": "async_executors.py",
          "funcName": "main",
          "levelname": "DEBUG",
          "lineno": 114,
          "message": "NonSparkCols_1: started async block execution\n",
          "name": "engine.logs:NonSparkCols_1",
          "pathname": "/usr/local/lib/python3.7/dist-packages/razor/flow/async_executors.py",
          "process": 1079,
          "processName": "ForkProcess-1:1",
          "thread": 140103109744448,
          "threadName": "MainThread"
         },
         {
          "asctime": "2021-03-24 04:29:19,442",
          "created": 1616560159.4429045,
          "extra": {},
          "filename": "async_executors.py",
          "funcName": "fill_atomic_inputs",
          "levelname": "INFO",
          "lineno": 250,
          "message": "NonSparkCols_1: waiting for atomic input: cols_list",
          "name": "engine.logs:NonSparkCols_1",
          "pathname": "/usr/local/lib/python3.7/dist-packages/razor/flow/async_executors.py",
          "process": 1079,
          "processName": "ForkProcess-1:1",
          "thread": 140103109744448,
          "threadName": "MainThread"
         },
         {
          "asctime": "2021-03-24 04:29:19,443",
          "created": 1616560159.443083,
          "extra": {},
          "filename": "async_executors.py",
          "funcName": "fill_atomic_inputs",
          "levelname": "DEBUG",
          "lineno": 253,
          "message": "NonSparkCols_1: got atomic input: ['title', 'label']",
          "name": "engine.logs:NonSparkCols_1",
          "pathname": "/usr/local/lib/python3.7/dist-packages/razor/flow/async_executors.py",
          "process": 1079,
          "processName": "ForkProcess-1:1",
          "thread": 140103109744448,
          "threadName": "MainThread"
         },
         {
          "asctime": "2021-03-24 04:29:19,443",
          "created": 1616560159.4431436,
          "extra": {},
          "filename": "async_executors.py",
          "funcName": "main",
          "levelname": "DEBUG",
          "lineno": 130,
          "message": "NonSparkCols_1: triggering block run",
          "name": "engine.logs:NonSparkCols_1",
          "pathname": "/usr/local/lib/python3.7/dist-packages/razor/flow/async_executors.py",
          "process": 1079,
          "processName": "ForkProcess-1:1",
          "thread": 140103109744448,
          "threadName": "MainThread"
         },
         {
          "asctime": "2021-03-24 04:29:19,445",
          "created": 1616560159.445433,
          "extra": {},
          "filename": "async_executors.py",
          "funcName": "distribute_output_queue",
          "levelname": "DEBUG",
          "lineno": 308,
          "message": "NonSparkCols_1: ---- dist output: ['title', 'label'] -> ('SelectData_1', 'wanted_cols')",
          "name": "engine.logs:NonSparkCols_1",
          "pathname": "/usr/local/lib/python3.7/dist-packages/razor/flow/async_executors.py",
          "process": 1079,
          "processName": "ForkProcess-1:1",
          "thread": 140103109744448,
          "threadName": "MainThread"
         },
         {
          "asctime": "2021-03-24 04:29:19,445",
          "created": 1616560159.445878,
          "extra": {},
          "filename": "async_executors.py",
          "funcName": "main",
          "levelname": "DEBUG",
          "lineno": 147,
          "message": "NonSparkCols_1: block thread completed",
          "name": "engine.logs:NonSparkCols_1",
          "pathname": "/usr/local/lib/python3.7/dist-packages/razor/flow/async_executors.py",
          "process": 1079,
          "processName": "ForkProcess-1:1",
          "thread": 140103109744448,
          "threadName": "MainThread"
         },
         {
          "asctime": "2021-03-24 04:29:19,445",
          "created": 1616560159.445967,
          "extra": {},
          "filename": "async_executors.py",
          "funcName": "main",
          "levelname": "DEBUG",
          "lineno": 149,
          "message": "NonSparkCols_1: block execution complete",
          "name": "engine.logs:NonSparkCols_1",
          "pathname": "/usr/local/lib/python3.7/dist-packages/razor/flow/async_executors.py",
          "process": 1079,
          "processName": "ForkProcess-1:1",
          "thread": 140103109744448,
          "threadName": "MainThread"
         },
         {
          "asctime": "2021-03-24 04:29:19,446",
          "created": 1616560159.446402,
          "extra": {},
          "filename": "async_executors.py",
          "funcName": "distribute_output_queue",
          "levelname": "DEBUG",
          "lineno": 308,
          "message": "NonSparkCols_1: ---- dist output: b'__!\\tEndOfStream\\t!__' -> ('SelectData_1', 'wanted_cols')",
          "name": "engine.logs:NonSparkCols_1",
          "pathname": "/usr/local/lib/python3.7/dist-packages/razor/flow/async_executors.py",
          "process": 1079,
          "processName": "ForkProcess-1:1",
          "thread": 140103109744448,
          "threadName": "MainThread"
         },
         {
          "asctime": "2021-03-24 04:29:19,688",
          "created": 1616560159.6882346,
          "extra": {},
          "filename": "async_executors.py",
          "funcName": "distribute_output_queue",
          "levelname": "DEBUG",
          "lineno": 308,
          "message": "NonSparkPath_1: ---- dist output: /home/aios/projectspace/df_with_stats.csv -> ('ReadCsvProjectSpace_1', 'filename')",
          "name": "engine.logs:NonSparkPath_1",
          "pathname": "/usr/local/lib/python3.7/dist-packages/razor/flow/async_executors.py",
          "process": 1082,
          "processName": "ForkProcess-1:2",
          "thread": 140103109744448,
          "threadName": "MainThread"
         },
         {
          "asctime": "2021-03-24 04:29:19,688",
          "created": 1616560159.6885197,
          "extra": {},
          "filename": "async_executors.py",
          "funcName": "main",
          "levelname": "DEBUG",
          "lineno": 147,
          "message": "NonSparkPath_1: block thread completed",
          "name": "engine.logs:NonSparkPath_1",
          "pathname": "/usr/local/lib/python3.7/dist-packages/razor/flow/async_executors.py",
          "process": 1082,
          "processName": "ForkProcess-1:2",
          "thread": 140103109744448,
          "threadName": "MainThread"
         },
         {
          "asctime": "2021-03-24 04:29:19,688",
          "created": 1616560159.6886034,
          "extra": {},
          "filename": "async_executors.py",
          "funcName": "main",
          "levelname": "DEBUG",
          "lineno": 149,
          "message": "NonSparkPath_1: block execution complete",
          "name": "engine.logs:NonSparkPath_1",
          "pathname": "/usr/local/lib/python3.7/dist-packages/razor/flow/async_executors.py",
          "process": 1082,
          "processName": "ForkProcess-1:2",
          "thread": 140103109744448,
          "threadName": "MainThread"
         },
         {
          "asctime": "2021-03-24 04:29:19,688",
          "created": 1616560159.6887305,
          "extra": {},
          "filename": "async_executors.py",
          "funcName": "distribute_output_queue",
          "levelname": "DEBUG",
          "lineno": 308,
          "message": "NonSparkPath_1: ---- dist output: b'__!\\tEndOfStream\\t!__' -> ('ReadCsvProjectSpace_1', 'filename')",
          "name": "engine.logs:NonSparkPath_1",
          "pathname": "/usr/local/lib/python3.7/dist-packages/razor/flow/async_executors.py",
          "process": 1082,
          "processName": "ForkProcess-1:2",
          "thread": 140103109744448,
          "threadName": "MainThread"
         },
         {
          "asctime": "2021-03-24 04:29:19,703",
          "created": 1616560159.7030451,
          "extra": {},
          "filename": "async_executors.py",
          "funcName": "main",
          "levelname": "DEBUG",
          "lineno": 114,
          "message": "SelectData_1: started async block execution\n",
          "name": "engine.logs:SelectData_1",
          "pathname": "/usr/local/lib/python3.7/dist-packages/razor/flow/async_executors.py",
          "process": 1093,
          "processName": "ForkProcess-1:3",
          "thread": 140103109744448,
          "threadName": "MainThread"
         },
         {
          "asctime": "2021-03-24 04:29:19,704",
          "created": 1616560159.7043185,
          "extra": {},
          "filename": "async_executors.py",
          "funcName": "main",
          "levelname": "DEBUG",
          "lineno": 114,
          "message": "ReadCsvProjectSpace_1: started async block execution\n",
          "name": "engine.logs:ReadCsvProjectSpace_1",
          "pathname": "/usr/local/lib/python3.7/dist-packages/razor/flow/async_executors.py",
          "process": 1093,
          "processName": "ForkProcess-1:3",
          "thread": 140103109744448,
          "threadName": "MainThread"
         },
         {
          "asctime": "2021-03-24 04:29:19,719",
          "created": 1616560159.7196581,
          "extra": {},
          "filename": "async_executors.py",
          "funcName": "fill_atomic_inputs",
          "levelname": "INFO",
          "lineno": 250,
          "message": "SelectData_1: waiting for atomic input: wanted_cols",
          "name": "engine.logs:SelectData_1",
          "pathname": "/usr/local/lib/python3.7/dist-packages/razor/flow/async_executors.py",
          "process": 1093,
          "processName": "ForkProcess-1:3",
          "thread": 140103109744448,
          "threadName": "MainThread"
         },
         {
          "asctime": "2021-03-24 04:29:19,740",
          "created": 1616560159.7404153,
          "extra": {},
          "filename": "async_executors.py",
          "funcName": "fill_atomic_inputs",
          "levelname": "INFO",
          "lineno": 250,
          "message": "ReadCsvProjectSpace_1: waiting for atomic input: filename",
          "name": "engine.logs:ReadCsvProjectSpace_1",
          "pathname": "/usr/local/lib/python3.7/dist-packages/razor/flow/async_executors.py",
          "process": 1093,
          "processName": "ForkProcess-1:3",
          "thread": 140103109744448,
          "threadName": "MainThread"
         },
         {
          "asctime": "2021-03-24 04:29:19,745",
          "created": 1616560159.7459738,
          "extra": {},
          "filename": "async_executors.py",
          "funcName": "start_input_receiver",
          "levelname": "DEBUG",
          "lineno": 173,
          "message": "NonSparkCols_1: received cmd: start_sender, (), {'out_name': 'selected_cols', 'target': ('SelectData_1', 'wanted_cols'), 'out_addr': 'tcp://0.0.0.0:60418', 'in_memory': None}",
          "name": "engine.logs:NonSparkCols_1",
          "pathname": "/usr/local/lib/python3.7/dist-packages/razor/flow/async_executors.py",
          "process": 1079,
          "processName": "ForkProcess-1:1",
          "thread": 140103109744448,
          "threadName": "MainThread"
         },
         {
          "asctime": "2021-03-24 04:29:19,747",
          "created": 1616560159.7479603,
          "extra": {},
          "filename": "async_executors.py",
          "funcName": "start_input_receiver",
          "levelname": "DEBUG",
          "lineno": 177,
          "message": "SelectData_1: received data: wanted_cols, ['title', 'label']",
          "name": "engine.logs:SelectData_1",
          "pathname": "/usr/local/lib/python3.7/dist-packages/razor/flow/async_executors.py",
          "process": 1093,
          "processName": "ForkProcess-1:3",
          "thread": 140103109744448,
          "threadName": "MainThread"
         },
         {
          "asctime": "2021-03-24 04:29:19,748",
          "created": 1616560159.748426,
          "extra": {},
          "filename": "async_executors.py",
          "funcName": "start_input_receiver",
          "levelname": "DEBUG",
          "lineno": 177,
          "message": "SelectData_1: received data: wanted_cols, b'__!\\tEndOfStream\\t!__'",
          "name": "engine.logs:SelectData_1",
          "pathname": "/usr/local/lib/python3.7/dist-packages/razor/flow/async_executors.py",
          "process": 1093,
          "processName": "ForkProcess-1:3",
          "thread": 140103109744448,
          "threadName": "MainThread"
         },
         {
          "asctime": "2021-03-24 04:29:19,748",
          "created": 1616560159.7485762,
          "extra": {},
          "filename": "async_executors.py",
          "funcName": "fill_atomic_inputs",
          "levelname": "DEBUG",
          "lineno": 253,
          "message": "SelectData_1: got atomic input: ['title', 'label']",
          "name": "engine.logs:SelectData_1",
          "pathname": "/usr/local/lib/python3.7/dist-packages/razor/flow/async_executors.py",
          "process": 1093,
          "processName": "ForkProcess-1:3",
          "thread": 140103109744448,
          "threadName": "MainThread"
         },
         {
          "asctime": "2021-03-24 04:29:19,748",
          "created": 1616560159.748626,
          "extra": {},
          "filename": "async_executors.py",
          "funcName": "fill_atomic_inputs",
          "levelname": "INFO",
          "lineno": 250,
          "message": "SelectData_1: waiting for atomic input: inputData",
          "name": "engine.logs:SelectData_1",
          "pathname": "/usr/local/lib/python3.7/dist-packages/razor/flow/async_executors.py",
          "process": 1093,
          "processName": "ForkProcess-1:3",
          "thread": 140103109744448,
          "threadName": "MainThread"
         },
         {
          "asctime": "2021-03-24 04:29:19,746",
          "created": 1616560159.7465556,
          "extra": {},
          "filename": "async_executors.py",
          "funcName": "start_output_sender",
          "levelname": "DEBUG",
          "lineno": 370,
          "message": "NonSparkCols_1: got start_sender, selected_cols, ('SelectData_1', 'wanted_cols')",
          "name": "engine.logs:NonSparkCols_1",
          "pathname": "/usr/local/lib/python3.7/dist-packages/razor/flow/async_executors.py",
          "process": 1079,
          "processName": "ForkProcess-1:1",
          "thread": 140103109744448,
          "threadName": "MainThread"
         },
         {
          "asctime": "2021-03-24 04:29:19,747",
          "created": 1616560159.7479331,
          "extra": {},
          "filename": "async_executors.py",
          "funcName": "start_input_receiver",
          "levelname": "DEBUG",
          "lineno": 173,
          "message": "NonSparkPath_1: received cmd: start_sender, (), {'out_name': 'op_path', 'target': ('ReadCsvProjectSpace_1', 'filename'), 'out_addr': 'tcp://0.0.0.0:61323', 'in_memory': None}",
          "name": "engine.logs:NonSparkPath_1",
          "pathname": "/usr/local/lib/python3.7/dist-packages/razor/flow/async_executors.py",
          "process": 1082,
          "processName": "ForkProcess-1:2",
          "thread": 140103109744448,
          "threadName": "MainThread"
         },
         {
          "asctime": "2021-03-24 04:29:19,747",
          "created": 1616560159.7472954,
          "extra": {},
          "filename": "async_executors.py",
          "funcName": "start_output_sender",
          "levelname": "DEBUG",
          "lineno": 388,
          "message": "NonSparkCols_1: SENT, wanted_cols, ['title', 'label'], ('SelectData_1', 'wanted_cols')",
          "name": "engine.logs:NonSparkCols_1",
          "pathname": "/usr/local/lib/python3.7/dist-packages/razor/flow/async_executors.py",
          "process": 1079,
          "processName": "ForkProcess-1:1",
          "thread": 140103109744448,
          "threadName": "MainThread"
         },
         {
          "asctime": "2021-03-24 04:29:19,747",
          "created": 1616560159.747463,
          "extra": {},
          "filename": "async_executors.py",
          "funcName": "start_output_sender",
          "levelname": "DEBUG",
          "lineno": 388,
          "message": "NonSparkCols_1: SENT, wanted_cols, b'__!\\tEndOfStream\\t!__', ('SelectData_1', 'wanted_cols')",
          "name": "engine.logs:NonSparkCols_1",
          "pathname": "/usr/local/lib/python3.7/dist-packages/razor/flow/async_executors.py",
          "process": 1079,
          "processName": "ForkProcess-1:1",
          "thread": 140103109744448,
          "threadName": "MainThread"
         },
         {
          "asctime": "2021-03-24 04:29:19,747",
          "created": 1616560159.7476494,
          "extra": {},
          "filename": "async_executors.py",
          "funcName": "start_output_sender",
          "levelname": "DEBUG",
          "lineno": 391,
          "message": "NonSparkCols_1: completed output: ('selected_cols', ('SelectData_1', 'wanted_cols'))",
          "name": "engine.logs:NonSparkCols_1",
          "pathname": "/usr/local/lib/python3.7/dist-packages/razor/flow/async_executors.py",
          "process": 1079,
          "processName": "ForkProcess-1:1",
          "thread": 140103109744448,
          "threadName": "MainThread"
         },
         {
          "asctime": "2021-03-24 04:29:19,748",
          "created": 1616560159.748564,
          "extra": {},
          "filename": "async_executors.py",
          "funcName": "start_output_sender",
          "levelname": "DEBUG",
          "lineno": 370,
          "message": "NonSparkPath_1: got start_sender, op_path, ('ReadCsvProjectSpace_1', 'filename')",
          "name": "engine.logs:NonSparkPath_1",
          "pathname": "/usr/local/lib/python3.7/dist-packages/razor/flow/async_executors.py",
          "process": 1082,
          "processName": "ForkProcess-1:2",
          "thread": 140103109744448,
          "threadName": "MainThread"
         },
         {
          "asctime": "2021-03-24 04:29:19,749",
          "created": 1616560159.7495298,
          "extra": {},
          "filename": "async_executors.py",
          "funcName": "start_output_sender",
          "levelname": "DEBUG",
          "lineno": 388,
          "message": "NonSparkPath_1: SENT, filename, /home/aios/projectspace/df_with_stats.csv, ('ReadCsvProjectSpace_1', 'filename')",
          "name": "engine.logs:NonSparkPath_1",
          "pathname": "/usr/local/lib/python3.7/dist-packages/razor/flow/async_executors.py",
          "process": 1082,
          "processName": "ForkProcess-1:2",
          "thread": 140103109744448,
          "threadName": "MainThread"
         },
         {
          "asctime": "2021-03-24 04:29:19,749",
          "created": 1616560159.749797,
          "extra": {},
          "filename": "async_executors.py",
          "funcName": "start_output_sender",
          "levelname": "DEBUG",
          "lineno": 388,
          "message": "NonSparkPath_1: SENT, filename, b'__!\\tEndOfStream\\t!__', ('ReadCsvProjectSpace_1', 'filename')",
          "name": "engine.logs:NonSparkPath_1",
          "pathname": "/usr/local/lib/python3.7/dist-packages/razor/flow/async_executors.py",
          "process": 1082,
          "processName": "ForkProcess-1:2",
          "thread": 140103109744448,
          "threadName": "MainThread"
         },
         {
          "asctime": "2021-03-24 04:29:19,750",
          "created": 1616560159.7504544,
          "extra": {},
          "filename": "async_executors.py",
          "funcName": "start_input_receiver",
          "levelname": "DEBUG",
          "lineno": 177,
          "message": "ReadCsvProjectSpace_1: received data: filename, /home/aios/projectspace/df_with_stats.csv",
          "name": "engine.logs:ReadCsvProjectSpace_1",
          "pathname": "/usr/local/lib/python3.7/dist-packages/razor/flow/async_executors.py",
          "process": 1093,
          "processName": "ForkProcess-1:3",
          "thread": 140103109744448,
          "threadName": "MainThread"
         },
         {
          "asctime": "2021-03-24 04:29:19,750",
          "created": 1616560159.7507014,
          "extra": {},
          "filename": "async_executors.py",
          "funcName": "start_input_receiver",
          "levelname": "DEBUG",
          "lineno": 177,
          "message": "ReadCsvProjectSpace_1: received data: filename, b'__!\\tEndOfStream\\t!__'",
          "name": "engine.logs:ReadCsvProjectSpace_1",
          "pathname": "/usr/local/lib/python3.7/dist-packages/razor/flow/async_executors.py",
          "process": 1093,
          "processName": "ForkProcess-1:3",
          "thread": 140103109744448,
          "threadName": "MainThread"
         },
         {
          "asctime": "2021-03-24 04:29:19,750",
          "created": 1616560159.7501717,
          "extra": {},
          "filename": "async_executors.py",
          "funcName": "start_output_sender",
          "levelname": "DEBUG",
          "lineno": 391,
          "message": "NonSparkPath_1: completed output: ('op_path', ('ReadCsvProjectSpace_1', 'filename'))",
          "name": "engine.logs:NonSparkPath_1",
          "pathname": "/usr/local/lib/python3.7/dist-packages/razor/flow/async_executors.py",
          "process": 1082,
          "processName": "ForkProcess-1:2",
          "thread": 140103109744448,
          "threadName": "MainThread"
         },
         {
          "asctime": "2021-03-24 04:29:19,750",
          "created": 1616560159.7508216,
          "extra": {},
          "filename": "async_executors.py",
          "funcName": "fill_atomic_inputs",
          "levelname": "DEBUG",
          "lineno": 253,
          "message": "ReadCsvProjectSpace_1: got atomic input: /home/aios/projectspace/df_with_stats.csv",
          "name": "engine.logs:ReadCsvProjectSpace_1",
          "pathname": "/usr/local/lib/python3.7/dist-packages/razor/flow/async_executors.py",
          "process": 1093,
          "processName": "ForkProcess-1:3",
          "thread": 140103109744448,
          "threadName": "MainThread"
         },
         {
          "asctime": "2021-03-24 04:29:19,754",
          "created": 1616560159.7547874,
          "extra": {},
          "filename": "async_executors.py",
          "funcName": "start_input_receiver",
          "levelname": "DEBUG",
          "lineno": 173,
          "message": "NonSparkCols_1: received cmd: terminate, (), {}",
          "name": "engine.logs:NonSparkCols_1",
          "pathname": "/usr/local/lib/python3.7/dist-packages/razor/flow/async_executors.py",
          "process": 1079,
          "processName": "ForkProcess-1:1",
          "thread": 140103109744448,
          "threadName": "MainThread"
         },
         {
          "asctime": "2021-03-24 04:29:19,758",
          "created": 1616560159.7581534,
          "extra": {},
          "filename": "async_executors.py",
          "funcName": "start_input_receiver",
          "levelname": "DEBUG",
          "lineno": 173,
          "message": "NonSparkPath_1: received cmd: terminate, (), {}",
          "name": "engine.logs:NonSparkPath_1",
          "pathname": "/usr/local/lib/python3.7/dist-packages/razor/flow/async_executors.py",
          "process": 1082,
          "processName": "ForkProcess-1:2",
          "thread": 140103109744448,
          "threadName": "MainThread"
         },
         {
          "asctime": "2021-03-24 04:29:19,750",
          "created": 1616560159.7508767,
          "extra": {},
          "filename": "async_executors.py",
          "funcName": "fill_atomic_inputs",
          "levelname": "INFO",
          "lineno": 250,
          "message": "ReadCsvProjectSpace_1: waiting for atomic input: config",
          "name": "engine.logs:ReadCsvProjectSpace_1",
          "pathname": "/usr/local/lib/python3.7/dist-packages/razor/flow/async_executors.py",
          "process": 1093,
          "processName": "ForkProcess-1:3",
          "thread": 140103109744448,
          "threadName": "MainThread"
         },
         {
          "asctime": "2021-03-24 04:29:19,750",
          "created": 1616560159.7509253,
          "extra": {},
          "filename": "async_executors.py",
          "funcName": "fill_atomic_inputs",
          "levelname": "DEBUG",
          "lineno": 253,
          "message": "ReadCsvProjectSpace_1: got atomic input: {}",
          "name": "engine.logs:ReadCsvProjectSpace_1",
          "pathname": "/usr/local/lib/python3.7/dist-packages/razor/flow/async_executors.py",
          "process": 1093,
          "processName": "ForkProcess-1:3",
          "thread": 140103109744448,
          "threadName": "MainThread"
         },
         {
          "asctime": "2021-03-24 04:29:19,750",
          "created": 1616560159.7509627,
          "extra": {},
          "filename": "async_executors.py",
          "funcName": "fill_atomic_inputs",
          "levelname": "INFO",
          "lineno": 250,
          "message": "ReadCsvProjectSpace_1: waiting for atomic input: source",
          "name": "engine.logs:ReadCsvProjectSpace_1",
          "pathname": "/usr/local/lib/python3.7/dist-packages/razor/flow/async_executors.py",
          "process": 1093,
          "processName": "ForkProcess-1:3",
          "thread": 140103109744448,
          "threadName": "MainThread"
         },
         {
          "asctime": "2021-03-24 04:29:19,751",
          "created": 1616560159.7510056,
          "extra": {},
          "filename": "async_executors.py",
          "funcName": "fill_atomic_inputs",
          "levelname": "DEBUG",
          "lineno": 253,
          "message": "ReadCsvProjectSpace_1: got atomic input: ",
          "name": "engine.logs:ReadCsvProjectSpace_1",
          "pathname": "/usr/local/lib/python3.7/dist-packages/razor/flow/async_executors.py",
          "process": 1093,
          "processName": "ForkProcess-1:3",
          "thread": 140103109744448,
          "threadName": "MainThread"
         },
         {
          "asctime": "2021-03-24 04:29:19,751",
          "created": 1616560159.751096,
          "extra": {},
          "filename": "async_executors.py",
          "funcName": "main",
          "levelname": "DEBUG",
          "lineno": 130,
          "message": "ReadCsvProjectSpace_1: triggering block run",
          "name": "engine.logs:ReadCsvProjectSpace_1",
          "pathname": "/usr/local/lib/python3.7/dist-packages/razor/flow/async_executors.py",
          "process": 1093,
          "processName": "ForkProcess-1:3",
          "thread": 140103109744448,
          "threadName": "MainThread"
         },
         {
          "asctime": "2021-03-24 04:29:29,802",
          "created": 1616560169.8021426,
          "exc_info": null,
          "extra": {},
          "filename": null,
          "full_message": null,
          "funcName": null,
          "levelname": "STDOUT",
          "lineno": null,
          "message": "Data Schema\n",
          "name": "block.stdout:ReadCsvProjectSpace_1",
          "pathname": null,
          "process": null,
          "processName": null,
          "thread": null,
          "threadName": null
         },
         {
          "asctime": "2021-03-24 04:29:29,825",
          "created": 1616560169.8250685,
          "exc_info": null,
          "extra": {},
          "filename": null,
          "full_message": null,
          "funcName": null,
          "levelname": "STDOUT",
          "lineno": null,
          "message": "root\n |-- filename: string (nullable = true)\n |-- url: string (nullable = true)\n |-- text: string (nullable = true)\n |-- title: string (nullable = true)\n |-- authors: string (nullable = true)\n |-- description: string (nullable = true)\n |-- generatorsite_name: string (nullable = true)\n |-- site: string (nullable = true)\n |-- publisher: string (nullable = true)\n |-- source: string (nullable = true)\n |-- keywords: string (nullable = true)\n |-- label: string (nullable = true)\n |-- generator: string (nullable = true)\n |-- site_name: string (nullable = true)\n |-- author_real_fake: string (nullable = true)\n |-- site_real_fake: string (nullable = true)\n |-- source_real_fake: string (nullable = true)\n\n",
          "name": "block.stdout:ReadCsvProjectSpace_1",
          "pathname": null,
          "process": null,
          "processName": null,
          "thread": null,
          "threadName": null
         },
         {
          "asctime": "2021-03-24 04:29:29,970",
          "created": 1616560169.9700217,
          "extra": {},
          "filename": "async_executors.py",
          "funcName": "distribute_output_queue",
          "levelname": "DEBUG",
          "lineno": 308,
          "message": "ReadCsvProjectSpace_1: ---- dist output: DataFrame[filename: string, url: string, text: string, title: string, authors: string, description: string, generatorsite_name: string, site: string, publisher: string, source: string, keywords: string, label: string, generator: string, site_name: string, author_real_fake: string, site_real_fake: string, source_real_fake: string] -> ('SelectData_1', 'inputData')",
          "name": "engine.logs:ReadCsvProjectSpace_1",
          "pathname": "/usr/local/lib/python3.7/dist-packages/razor/flow/async_executors.py",
          "process": 1093,
          "processName": "ForkProcess-1:3",
          "thread": 140103109744448,
          "threadName": "MainThread"
         },
         {
          "asctime": "2021-03-24 04:29:29,970",
          "created": 1616560169.9704318,
          "extra": {},
          "filename": "async_executors.py",
          "funcName": "main",
          "levelname": "DEBUG",
          "lineno": 147,
          "message": "ReadCsvProjectSpace_1: block thread completed",
          "name": "engine.logs:ReadCsvProjectSpace_1",
          "pathname": "/usr/local/lib/python3.7/dist-packages/razor/flow/async_executors.py",
          "process": 1093,
          "processName": "ForkProcess-1:3",
          "thread": 140103109744448,
          "threadName": "MainThread"
         },
         {
          "asctime": "2021-03-24 04:29:29,970",
          "created": 1616560169.9705203,
          "extra": {},
          "filename": "async_executors.py",
          "funcName": "main",
          "levelname": "DEBUG",
          "lineno": 149,
          "message": "ReadCsvProjectSpace_1: block execution complete",
          "name": "engine.logs:ReadCsvProjectSpace_1",
          "pathname": "/usr/local/lib/python3.7/dist-packages/razor/flow/async_executors.py",
          "process": 1093,
          "processName": "ForkProcess-1:3",
          "thread": 140103109744448,
          "threadName": "MainThread"
         },
         {
          "asctime": "2021-03-24 04:29:29,970",
          "created": 1616560169.9707499,
          "extra": {},
          "filename": "async_executors.py",
          "funcName": "distribute_output_queue",
          "levelname": "DEBUG",
          "lineno": 308,
          "message": "ReadCsvProjectSpace_1: ---- dist output: b'__!\\tEndOfStream\\t!__' -> ('SelectData_1', 'inputData')",
          "name": "engine.logs:ReadCsvProjectSpace_1",
          "pathname": "/usr/local/lib/python3.7/dist-packages/razor/flow/async_executors.py",
          "process": 1093,
          "processName": "ForkProcess-1:3",
          "thread": 140103109744448,
          "threadName": "MainThread"
         },
         {
          "asctime": "2021-03-24 04:29:30,017",
          "created": 1616560170.0173252,
          "extra": {},
          "filename": "async_executors.py",
          "funcName": "start_input_receiver",
          "levelname": "DEBUG",
          "lineno": 173,
          "message": "ReadCsvProjectSpace_1: received cmd: start_sender, (), {'out_name': 'data', 'target': ('SelectData_1', 'inputData'), 'out_addr': 'tcp://0.0.0.0:60418', 'in_memory': True}",
          "name": "engine.logs:ReadCsvProjectSpace_1",
          "pathname": "/usr/local/lib/python3.7/dist-packages/razor/flow/async_executors.py",
          "process": 1093,
          "processName": "ForkProcess-1:3",
          "thread": 140103109744448,
          "threadName": "MainThread"
         },
         {
          "asctime": "2021-03-24 04:29:30,017",
          "created": 1616560170.0179017,
          "extra": {},
          "filename": "async_executors.py",
          "funcName": "start_output_sender",
          "levelname": "DEBUG",
          "lineno": 370,
          "message": "ReadCsvProjectSpace_1: got start_sender, data, ('SelectData_1', 'inputData')",
          "name": "engine.logs:ReadCsvProjectSpace_1",
          "pathname": "/usr/local/lib/python3.7/dist-packages/razor/flow/async_executors.py",
          "process": 1093,
          "processName": "ForkProcess-1:3",
          "thread": 140103109744448,
          "threadName": "MainThread"
         },
         {
          "asctime": "2021-03-24 04:29:30,021",
          "created": 1616560170.0215523,
          "extra": {},
          "filename": "async_executors.py",
          "funcName": "fill_atomic_inputs",
          "levelname": "DEBUG",
          "lineno": 253,
          "message": "SelectData_1: got atomic input: DataFrame[filename: string, url: string, text: string, title: string, authors: string, description: string, generatorsite_name: string, site: string, publisher: string, source: string, keywords: string, label: string, generator: string, site_name: string, author_real_fake: string, site_real_fake: string, source_real_fake: string]",
          "name": "engine.logs:SelectData_1",
          "pathname": "/usr/local/lib/python3.7/dist-packages/razor/flow/async_executors.py",
          "process": 1093,
          "processName": "ForkProcess-1:3",
          "thread": 140103109744448,
          "threadName": "MainThread"
         },
         {
          "asctime": "2021-03-24 04:29:30,019",
          "created": 1616560170.019782,
          "extra": {},
          "filename": "async_executors.py",
          "funcName": "start_output_sender",
          "levelname": "DEBUG",
          "lineno": 375,
          "message": "ReadCsvProjectSpace_1: SENT, inputData, DataFrame[filename: string, url: string, text: string, title: string, authors: string, description: string, generatorsite_name: string, site: string, publisher: string, source: string, keywords: string, label: string, generator: string, site_name: string, author_real_fake: string, site_real_fake: string, source_real_fake: string], ('SelectData_1', 'inputData')",
          "name": "engine.logs:ReadCsvProjectSpace_1",
          "pathname": "/usr/local/lib/python3.7/dist-packages/razor/flow/async_executors.py",
          "process": 1093,
          "processName": "ForkProcess-1:3",
          "thread": 140103109744448,
          "threadName": "MainThread"
         },
         {
          "asctime": "2021-03-24 04:29:30,021",
          "created": 1616560170.02168,
          "extra": {},
          "filename": "async_executors.py",
          "funcName": "fill_atomic_inputs",
          "levelname": "INFO",
          "lineno": 250,
          "message": "SelectData_1: waiting for atomic input: config",
          "name": "engine.logs:SelectData_1",
          "pathname": "/usr/local/lib/python3.7/dist-packages/razor/flow/async_executors.py",
          "process": 1093,
          "processName": "ForkProcess-1:3",
          "thread": 140103109744448,
          "threadName": "MainThread"
         },
         {
          "asctime": "2021-03-24 04:29:30,019",
          "created": 1616560170.019923,
          "extra": {},
          "filename": "async_executors.py",
          "funcName": "start_output_sender",
          "levelname": "DEBUG",
          "lineno": 375,
          "message": "ReadCsvProjectSpace_1: SENT, inputData, b'__!\\tEndOfStream\\t!__', ('SelectData_1', 'inputData')",
          "name": "engine.logs:ReadCsvProjectSpace_1",
          "pathname": "/usr/local/lib/python3.7/dist-packages/razor/flow/async_executors.py",
          "process": 1093,
          "processName": "ForkProcess-1:3",
          "thread": 140103109744448,
          "threadName": "MainThread"
         },
         {
          "asctime": "2021-03-24 04:29:30,021",
          "created": 1616560170.0217745,
          "extra": {},
          "filename": "async_executors.py",
          "funcName": "fill_atomic_inputs",
          "levelname": "DEBUG",
          "lineno": 253,
          "message": "SelectData_1: got atomic input: {}",
          "name": "engine.logs:SelectData_1",
          "pathname": "/usr/local/lib/python3.7/dist-packages/razor/flow/async_executors.py",
          "process": 1093,
          "processName": "ForkProcess-1:3",
          "thread": 140103109744448,
          "threadName": "MainThread"
         },
         {
          "asctime": "2021-03-24 04:29:30,019",
          "created": 1616560170.0199795,
          "extra": {},
          "filename": "async_executors.py",
          "funcName": "start_output_sender",
          "levelname": "DEBUG",
          "lineno": 379,
          "message": "ReadCsvProjectSpace_1: completed output: ('data', ('SelectData_1', 'inputData'))",
          "name": "engine.logs:ReadCsvProjectSpace_1",
          "pathname": "/usr/local/lib/python3.7/dist-packages/razor/flow/async_executors.py",
          "process": 1093,
          "processName": "ForkProcess-1:3",
          "thread": 140103109744448,
          "threadName": "MainThread"
         },
         {
          "asctime": "2021-03-24 04:29:30,021",
          "created": 1616560170.021845,
          "extra": {},
          "filename": "async_executors.py",
          "funcName": "fill_atomic_inputs",
          "levelname": "INFO",
          "lineno": 250,
          "message": "SelectData_1: waiting for atomic input: source",
          "name": "engine.logs:SelectData_1",
          "pathname": "/usr/local/lib/python3.7/dist-packages/razor/flow/async_executors.py",
          "process": 1093,
          "processName": "ForkProcess-1:3",
          "thread": 140103109744448,
          "threadName": "MainThread"
         },
         {
          "asctime": "2021-03-24 04:29:30,024",
          "created": 1616560170.0242765,
          "extra": {},
          "filename": "async_executors.py",
          "funcName": "start_input_receiver",
          "levelname": "DEBUG",
          "lineno": 173,
          "message": "ReadCsvProjectSpace_1: received cmd: terminate, (), {}",
          "name": "engine.logs:ReadCsvProjectSpace_1",
          "pathname": "/usr/local/lib/python3.7/dist-packages/razor/flow/async_executors.py",
          "process": 1093,
          "processName": "ForkProcess-1:3",
          "thread": 140103109744448,
          "threadName": "MainThread"
         },
         {
          "asctime": "2021-03-24 04:29:30,021",
          "created": 1616560170.021933,
          "extra": {},
          "filename": "async_executors.py",
          "funcName": "fill_atomic_inputs",
          "levelname": "DEBUG",
          "lineno": 253,
          "message": "SelectData_1: got atomic input: ",
          "name": "engine.logs:SelectData_1",
          "pathname": "/usr/local/lib/python3.7/dist-packages/razor/flow/async_executors.py",
          "process": 1093,
          "processName": "ForkProcess-1:3",
          "thread": 140103109744448,
          "threadName": "MainThread"
         },
         {
          "asctime": "2021-03-24 04:29:30,022",
          "created": 1616560170.0220163,
          "extra": {},
          "filename": "async_executors.py",
          "funcName": "main",
          "levelname": "DEBUG",
          "lineno": 130,
          "message": "SelectData_1: triggering block run",
          "name": "engine.logs:SelectData_1",
          "pathname": "/usr/local/lib/python3.7/dist-packages/razor/flow/async_executors.py",
          "process": 1093,
          "processName": "ForkProcess-1:3",
          "thread": 140103109744448,
          "threadName": "MainThread"
         },
         {
          "asctime": "2021-03-24 04:29:30,453",
          "created": 1616560170.453495,
          "exc_info": null,
          "extra": {},
          "filename": null,
          "full_message": null,
          "funcName": null,
          "levelname": "STDOUT",
          "lineno": null,
          "message": "+--------------------+--------------------+\n|               title|               label|\n+--------------------+--------------------+\n|                null|                null|\n| the same newspap...|                null|\n|         \"\" it read.|                null|\n|                null|                null|\n|                null|                null|\n|                null|                null|\n|                null|                null|\n|                null|                null|\n|                null|                null|\n|                null|                null|\n|                null|                null|\n|                null|                null|\n|                null|                null|\n|                null|                null|\n| in Scotland Reut...| Bedfordshire. He...|\n|                null|                null|\n|           and Lance|                null|\n| a film based on ...|Tom Daley,Dustin ...|\n|                null|                null|\n| thus the series’...|                null|\n+--------------------+--------------------+\nonly showing top 20 rows\n\n",
          "name": "block.stdout:SelectData_1",
          "pathname": null,
          "process": null,
          "processName": null,
          "thread": null,
          "threadName": null
         },
         {
          "asctime": "2021-03-24 04:29:30,454",
          "created": 1616560170.4544425,
          "extra": {},
          "filename": "async_executors.py",
          "funcName": "main",
          "levelname": "DEBUG",
          "lineno": 147,
          "message": "SelectData_1: block thread completed",
          "name": "engine.logs:SelectData_1",
          "pathname": "/usr/local/lib/python3.7/dist-packages/razor/flow/async_executors.py",
          "process": 1093,
          "processName": "ForkProcess-1:3",
          "thread": 140103109744448,
          "threadName": "MainThread"
         },
         {
          "asctime": "2021-03-24 04:29:30,454",
          "created": 1616560170.4545996,
          "extra": {},
          "filename": "async_executors.py",
          "funcName": "main",
          "levelname": "DEBUG",
          "lineno": 149,
          "message": "SelectData_1: block execution complete",
          "name": "engine.logs:SelectData_1",
          "pathname": "/usr/local/lib/python3.7/dist-packages/razor/flow/async_executors.py",
          "process": 1093,
          "processName": "ForkProcess-1:3",
          "thread": 140103109744448,
          "threadName": "MainThread"
         },
         {
          "asctime": "2021-03-24 04:29:30,461",
          "created": 1616560170.461173,
          "extra": {},
          "filename": "async_executors.py",
          "funcName": "start_input_receiver",
          "levelname": "DEBUG",
          "lineno": 173,
          "message": "SelectData_1: received cmd: terminate, (), {}",
          "name": "engine.logs:SelectData_1",
          "pathname": "/usr/local/lib/python3.7/dist-packages/razor/flow/async_executors.py",
          "process": 1093,
          "processName": "ForkProcess-1:3",
          "thread": 140103109744448,
          "threadName": "MainThread"
         }
        ],
        "meta": {
         "block_status": {
          "NonSparkCols_1": "SUCCESS",
          "NonSparkPath_1": "SUCCESS",
          "ReadCsvProjectSpace_1": "SUCCESS",
          "SelectData_1": "SUCCESS"
         },
         "blocks": [
          {
           "class_name": "NonSparkPath",
           "fullname": ".NonSparkPath",
           "id": "54f781e6-9fd6-42ab-b30a-a5a44c681df3",
           "inputs": [
            {
             "dataType": "string",
             "default": "",
             "flow": "atomic",
             "help": null,
             "isdict": false,
             "islist": false,
             "label": "ip_path",
             "meta": {},
             "name": "ip_path",
             "series": false,
             "type": "str",
             "type_check": true
            }
           ],
           "outputs": [
            {
             "flow": "atomic",
             "help": null,
             "label": "selected_cols",
             "meta": {},
             "name": "selected_cols",
             "series": false,
             "type": "Any",
             "type_check": true
            },
            {
             "flow": "atomic",
             "help": null,
             "label": "op_path",
             "meta": {},
             "name": "op_path",
             "series": false,
             "type": "str",
             "type_check": true
            }
           ],
           "overwritten": false,
           "published": false,
           "var_names": [
            "NonSparkPath"
           ]
          },
          {
           "class_name": "SelectData",
           "fullname": ".SelectData",
           "id": "e7dcfa29-b6e5-4fa2-adc6-eed30e6f621f",
           "inputs": [
            {
             "dataType": null,
             "default": null,
             "flow": "atomic",
             "help": null,
             "isdict": false,
             "islist": false,
             "label": "wanted_cols",
             "meta": {},
             "name": "wanted_cols",
             "series": false,
             "type": "Any",
             "type_check": true
            },
            {
             "dataType": null,
             "default": null,
             "flow": "atomic",
             "help": null,
             "isdict": false,
             "islist": false,
             "label": "inputData",
             "meta": {},
             "name": "inputData",
             "series": false,
             "type": "DataFrame",
             "type_check": true
            },
            {
             "dataType": "dict",
             "default": {},
             "flow": "atomic",
             "help": null,
             "isdict": false,
             "islist": false,
             "label": "config",
             "meta": {},
             "name": "config",
             "series": false,
             "type": "dict",
             "type_check": true
            },
            {
             "dataType": "string",
             "default": "",
             "flow": "atomic",
             "help": null,
             "isdict": false,
             "islist": false,
             "label": "source",
             "meta": {},
             "name": "source",
             "series": false,
             "type": "str",
             "type_check": true
            }
           ],
           "outputs": [
            {
             "flow": "atomic",
             "help": null,
             "label": "outputData",
             "meta": {},
             "name": "outputData",
             "series": false,
             "type": "DataFrame",
             "type_check": true
            }
           ],
           "overwritten": false,
           "published": false,
           "var_names": [
            "SelectData"
           ]
          },
          {
           "class_name": "ReadCsvProjectSpace",
           "fullname": ".ReadCsvProjectSpace",
           "id": "e8253c85-5fcb-4ccf-96b1-1c9d82381836",
           "inputs": [
            {
             "dataType": "string",
             "default": "",
             "flow": "atomic",
             "help": null,
             "isdict": false,
             "islist": false,
             "label": "filename",
             "meta": {},
             "name": "filename",
             "series": false,
             "type": "str",
             "type_check": true
            },
            {
             "dataType": "dict",
             "default": {},
             "flow": "atomic",
             "help": null,
             "isdict": false,
             "islist": false,
             "label": "config",
             "meta": {},
             "name": "config",
             "series": false,
             "type": "dict",
             "type_check": true
            },
            {
             "dataType": "string",
             "default": "",
             "flow": "atomic",
             "help": null,
             "isdict": false,
             "islist": false,
             "label": "source",
             "meta": {},
             "name": "source",
             "series": false,
             "type": "str",
             "type_check": true
            }
           ],
           "outputs": [
            {
             "flow": "atomic",
             "help": null,
             "label": "data",
             "meta": {},
             "name": "data",
             "series": false,
             "type": "DataFrame",
             "type_check": true
            }
           ],
           "overwritten": false,
           "published": false,
           "var_names": [
            "ReadCsvProjectSpace"
           ]
          },
          {
           "class_name": "NonSparkCols",
           "fullname": ".NonSparkCols",
           "id": "0daf770d-fa30-489a-b89c-463faee6643c",
           "inputs": [
            {
             "dataType": null,
             "default": null,
             "flow": "atomic",
             "help": null,
             "isdict": false,
             "islist": false,
             "label": "cols_list",
             "meta": {},
             "name": "cols_list",
             "series": false,
             "type": "Any",
             "type_check": true
            }
           ],
           "outputs": [
            {
             "flow": "atomic",
             "help": null,
             "label": "selected_cols",
             "meta": {},
             "name": "selected_cols",
             "series": false,
             "type": "Any",
             "type_check": true
            }
           ],
           "overwritten": false,
           "published": false,
           "var_names": [
            "NonSparkCols"
           ]
          }
         ],
         "connections": [
          {
           "id": "5bd87551-3cd5-4036-8de3-b3db93444f36",
           "source": {
            "adapter": false,
            "instance_id": "13ee155f-6347-450e-999f-70d6b98ec85e",
            "name": "selected_cols"
           },
           "target": {
            "adapter": false,
            "instance_id": "7e2a26fa-4214-4f06-9433-90c271e74c64",
            "name": "wanted_cols"
           }
          },
          {
           "id": "81854ae5-c562-4df4-a243-da54e277c4ea",
           "source": {
            "adapter": false,
            "instance_id": "e475ff5c-bbee-4290-af23-842acd26c7bc",
            "name": "data"
           },
           "target": {
            "adapter": false,
            "instance_id": "7e2a26fa-4214-4f06-9433-90c271e74c64",
            "name": "inputData"
           }
          },
          {
           "id": "5eef02b7-7d47-42e7-ae7c-e798a16517ff",
           "source": {
            "adapter": false,
            "instance_id": "43972cdd-1357-4ee2-8046-6321ab080d05",
            "name": "op_path"
           },
           "target": {
            "adapter": false,
            "instance_id": "e475ff5c-bbee-4290-af23-842acd26c7bc",
            "name": "filename"
           }
          }
         ],
         "end": 1616560170.46371,
         "id": "dc0110aa-f5da-4ce7-b1f6-4b3a2298609b",
         "instances": [
          {
           "block_class": "e7dcfa29-b6e5-4fa2-adc6-eed30e6f621f",
           "id": "7e2a26fa-4214-4f06-9433-90c271e74c64",
           "name": "SelectData_1",
           "var_names": [
            "sd"
           ]
          },
          {
           "block_class": "0daf770d-fa30-489a-b89c-463faee6643c",
           "id": "13ee155f-6347-450e-999f-70d6b98ec85e",
           "name": "NonSparkCols_1",
           "var_names": [
            "nsc"
           ]
          },
          {
           "block_class": "e8253c85-5fcb-4ccf-96b1-1c9d82381836",
           "id": "e475ff5c-bbee-4290-af23-842acd26c7bc",
           "name": "ReadCsvProjectSpace_1",
           "var_names": [
            "rcp"
           ]
          },
          {
           "block_class": "54f781e6-9fd6-42ab-b30a-a5a44c681df3",
           "id": "43972cdd-1357-4ee2-8046-6321ab080d05",
           "name": "NonSparkPath_1",
           "var_names": [
            "nsp"
           ]
          }
         ],
         "log_level": 20,
         "name": "Pipeline_1",
         "start": 1616560159.414405,
         "status": "SUCCESS",
         "system_logs": false,
         "var_names": []
        },
        "metrics": {},
        "runtime": {
         "NonSparkCols_1": {
          "end": 1616560159.751903,
          "load": 1616560159.4154952,
          "start": 1616560159.4217637
         },
         "NonSparkPath_1": {
          "end": 1616560159.7557418,
          "load": 1616560159.4241483,
          "start": 1616560159.4306982
         },
         "ReadCsvProjectSpace_1": {
          "end": 1616560170.0213943,
          "load": 1616560159.6895528,
          "start": 1616560159.6979492
         },
         "SelectData_1": {
          "end": 1616560170.4588258,
          "load": 1616560159.6895528,
          "start": 1616560159.6979492
         }
        }
       },
       "store_in_notebook": true
      }
     },
     "output_type": "display_data"
    },
    {
     "data": {
      "text/plain": [
       "{}"
      ]
     },
     "execution_count": 9,
     "metadata": {},
     "output_type": "execute_result"
    }
   ],
   "source": [
    "pipe.execute()"
   ]
  },
  {
   "cell_type": "code",
   "execution_count": null,
   "id": "satisfactory-conspiracy",
   "metadata": {},
   "outputs": [],
   "source": []
  },
  {
   "cell_type": "code",
   "execution_count": null,
   "id": "expressed-dialogue",
   "metadata": {},
   "outputs": [],
   "source": []
  }
 ],
 "metadata": {
  "kernelspec": {
   "display_name": "Python 3",
   "language": "python",
   "name": "python3"
  },
  "language_info": {
   "codemirror_mode": {
    "name": "ipython",
    "version": 3
   },
   "file_extension": ".py",
   "mimetype": "text/x-python",
   "name": "python",
   "nbconvert_exporter": "python",
   "pygments_lexer": "ipython3",
   "version": "3.7.10"
  }
 },
 "nbformat": 4,
 "nbformat_minor": 5
}
