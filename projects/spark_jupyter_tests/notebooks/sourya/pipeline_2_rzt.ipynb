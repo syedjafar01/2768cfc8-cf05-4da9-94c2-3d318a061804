{
 "cells": [
  {
   "cell_type": "code",
   "execution_count": 1,
   "id": "balanced-stopping",
   "metadata": {},
   "outputs": [],
   "source": [
    "import razor\n",
    "import razor.flow as rf\n",
    "from razor import api\n",
    "from razor.flow.spark import SparkBlock, SparkExecutor\n",
    "import typing as t"
   ]
  },
  {
   "cell_type": "code",
   "execution_count": 2,
   "id": "sharing-cliff",
   "metadata": {},
   "outputs": [],
   "source": [
    "import os\n",
    "from datetime import datetime, timedelta\n",
    "from pyspark.sql import SparkSession, functions\n",
    "from pyspark.sql.dataframe import DataFrame\n",
    "from datetime import datetime, timedelta\n",
    "from dateutil.relativedelta import relativedelta"
   ]
  },
  {
   "cell_type": "code",
   "execution_count": 3,
   "id": "timely-flash",
   "metadata": {},
   "outputs": [],
   "source": [
    "\n",
    "from razor.project.blocks.sourya_spark_blocks import NonSparkCols\n",
    "from razor.project.blocks.sourya_spark_blocks import ReadCsvProjectSpace\n",
    "from razor.project.blocks.sourya_spark_blocks import NonSparkPath\n",
    "from razor.project.blocks.sourya_spark_blocks import DropDuplicates\n",
    "from razor.project.blocks.sourya_spark_blocks import RenameCol\n",
    "from razor.project.blocks.sourya_spark_blocks import ConcatData\n",
    "from razor.project.blocks.sourya_spark_blocks import SelectDataDescribe\n",
    "from razor.project.blocks.sourya_spark_blocks import SelectData\n",
    "from razor.project.blocks.sourya_spark_blocks import ReadCsvProjectSpaceETA"
   ]
  },
  {
   "cell_type": "code",
   "execution_count": 4,
   "id": "detailed-principal",
   "metadata": {},
   "outputs": [],
   "source": [
    "def project_space_path(path):\n",
    "    ps = api.datasources('Project Space')\n",
    "    return os.path.join(ps.abspath(), path)\n"
   ]
  },
  {
   "cell_type": "code",
   "execution_count": 5,
   "id": "geographic-throw",
   "metadata": {},
   "outputs": [
    {
     "data": {
      "text/html": [
       "<div>\n",
       "<style scoped>\n",
       "    .dataframe tbody tr th:only-of-type {\n",
       "        vertical-align: middle;\n",
       "    }\n",
       "\n",
       "    .dataframe tbody tr th {\n",
       "        vertical-align: top;\n",
       "    }\n",
       "\n",
       "    .dataframe thead th {\n",
       "        text-align: right;\n",
       "    }\n",
       "</style>\n",
       "<table border=\"1\" class=\"dataframe\">\n",
       "  <thead>\n",
       "    <tr style=\"text-align: right;\">\n",
       "      <th></th>\n",
       "      <th>filename</th>\n",
       "      <th>url</th>\n",
       "      <th>text</th>\n",
       "      <th>title</th>\n",
       "      <th>authors</th>\n",
       "      <th>description</th>\n",
       "      <th>generatorsite_name</th>\n",
       "      <th>site</th>\n",
       "      <th>publisher</th>\n",
       "      <th>source</th>\n",
       "      <th>keywords</th>\n",
       "      <th>label</th>\n",
       "      <th>generator</th>\n",
       "      <th>site_name</th>\n",
       "      <th>author_real_fake</th>\n",
       "      <th>site_real_fake</th>\n",
       "      <th>source_real_fake</th>\n",
       "    </tr>\n",
       "  </thead>\n",
       "  <tbody>\n",
       "    <tr>\n",
       "      <th>0</th>\n",
       "      <td>gossipcop/real/gossipcop-913738/news content.json</td>\n",
       "      <td>https://www.independent.co.uk/news/people/tom-...</td>\n",
       "      <td>British diver Tom Daley and his husband Dustin...</td>\n",
       "      <td>Tom Daley and husband Dustin Lance Black relea...</td>\n",
       "      <td>[]</td>\n",
       "      <td>Couple revealed they were expecting child thro...</td>\n",
       "      <td>NaN</td>\n",
       "      <td>@Independent</td>\n",
       "      <td>NaN</td>\n",
       "      <td>https://www.independent.co.uk</td>\n",
       "      <td>Tom Daley,Dustin Lance Black</td>\n",
       "      <td>0</td>\n",
       "      <td>NaN</td>\n",
       "      <td>The Independent</td>\n",
       "      <td>(nan, nan)</td>\n",
       "      <td>(0.8173076923076923, 0.18269230769230768)</td>\n",
       "      <td>(0.8470588235294118, 0.15294117647058825)</td>\n",
       "    </tr>\n",
       "    <tr>\n",
       "      <th>1</th>\n",
       "      <td>gossipcop/real/gossipcop-887727/news content.json</td>\n",
       "      <td>https://www.teenvogue.com/story/dynasty-cw-fas...</td>\n",
       "      <td>Let’s be honest: we’ve reached peak nostalgia ...</td>\n",
       "      <td>The '80s Version of 'Gossip Girl' Is Back, and...</td>\n",
       "      <td>['Faith Cummings', 'Faith Cumming']</td>\n",
       "      <td>In an exclusive interview with the cast and wa...</td>\n",
       "      <td>NaN</td>\n",
       "      <td>@TeenVogue</td>\n",
       "      <td>NaN</td>\n",
       "      <td>https://www.teenvogue.com</td>\n",
       "      <td>news,dynasty,meredith markworth-pollack,the cw...</td>\n",
       "      <td>0</td>\n",
       "      <td>NaN</td>\n",
       "      <td>Teen Vogue</td>\n",
       "      <td>(0.9166666666666666, 0.08333333333333333)</td>\n",
       "      <td>(0.8620689655172413, 0.13793103448275862)</td>\n",
       "      <td>(0.864406779661017, 0.13559322033898305)</td>\n",
       "    </tr>\n",
       "    <tr>\n",
       "      <th>2</th>\n",
       "      <td>gossipcop/real/gossipcop-890190/news content.json</td>\n",
       "      <td>http://time.com/5004529/stranger-things-steve-...</td>\n",
       "      <td>Warning: This post contains spoilers for Stran...</td>\n",
       "      <td>Why This 'Stranger Things' Character Became a ...</td>\n",
       "      <td>['Ashley Hoffman']</td>\n",
       "      <td>How Steve went from bully to surprisingly hero...</td>\n",
       "      <td>NaN</td>\n",
       "      <td>@TIME</td>\n",
       "      <td>NaN</td>\n",
       "      <td>http://time.com</td>\n",
       "      <td>stranger things, stranger things steve, strang...</td>\n",
       "      <td>0</td>\n",
       "      <td>NaN</td>\n",
       "      <td>Time</td>\n",
       "      <td>(0.8, 0.2)</td>\n",
       "      <td>(0.8226950354609929, 0.1773049645390071)</td>\n",
       "      <td>(0.8626373626373627, 0.13736263736263737)</td>\n",
       "    </tr>\n",
       "    <tr>\n",
       "      <th>3</th>\n",
       "      <td>gossipcop/real/gossipcop-894538/news content.json</td>\n",
       "      <td>http://olodomusics.com/serena-williams-star-st...</td>\n",
       "      <td>NaN</td>\n",
       "      <td>盘他直播app官网下载</td>\n",
       "      <td>[]</td>\n",
       "      <td>NaN</td>\n",
       "      <td>NaN</td>\n",
       "      <td>NaN</td>\n",
       "      <td>NaN</td>\n",
       "      <td>http://olodomusics.com</td>\n",
       "      <td>NaN</td>\n",
       "      <td>0</td>\n",
       "      <td>NaN</td>\n",
       "      <td>NaN</td>\n",
       "      <td>(nan, nan)</td>\n",
       "      <td>(nan, nan)</td>\n",
       "      <td>(1.0, 0.0)</td>\n",
       "    </tr>\n",
       "    <tr>\n",
       "      <th>4</th>\n",
       "      <td>gossipcop/real/gossipcop-915430/news content.json</td>\n",
       "      <td>https://www.cosmopolitan.com/entertainment/cel...</td>\n",
       "      <td>This content is imported from YouTube. You may...</td>\n",
       "      <td>Kourtney Kardashian Just Said Having More Kids...</td>\n",
       "      <td>['Emma Baty', 'Emma Baty Is The Associate Ente...</td>\n",
       "      <td>In a preview for the upcoming episode of ﻿KUWT...</td>\n",
       "      <td>NaN</td>\n",
       "      <td>@Cosmopolitan</td>\n",
       "      <td>https://facebook.com/Cosmopolitan</td>\n",
       "      <td>https://www.cosmopolitan.com</td>\n",
       "      <td>kourtney kardashian, kourtney, kuwtk, kourtney...</td>\n",
       "      <td>0</td>\n",
       "      <td>NaN</td>\n",
       "      <td>Cosmopolitan</td>\n",
       "      <td>(0.8209876543209876, 0.17901234567901234)</td>\n",
       "      <td>(0.8188405797101449, 0.18115942028985507)</td>\n",
       "      <td>(0.8015873015873016, 0.1984126984126984)</td>\n",
       "    </tr>\n",
       "    <tr>\n",
       "      <th>...</th>\n",
       "      <td>...</td>\n",
       "      <td>...</td>\n",
       "      <td>...</td>\n",
       "      <td>...</td>\n",
       "      <td>...</td>\n",
       "      <td>...</td>\n",
       "      <td>...</td>\n",
       "      <td>...</td>\n",
       "      <td>...</td>\n",
       "      <td>...</td>\n",
       "      <td>...</td>\n",
       "      <td>...</td>\n",
       "      <td>...</td>\n",
       "      <td>...</td>\n",
       "      <td>...</td>\n",
       "      <td>...</td>\n",
       "      <td>...</td>\n",
       "    </tr>\n",
       "    <tr>\n",
       "      <th>20762</th>\n",
       "      <td>gossipcop/real/gossipcop-902669/news content.json</td>\n",
       "      <td>https://www.today.com/parents/john-stamos-fian...</td>\n",
       "      <td>John Stamos, 54, is on a fast track from \"uncl...</td>\n",
       "      <td>John Stamos' fiancee debuts baby bump on Insta...</td>\n",
       "      <td>[]</td>\n",
       "      <td>John Stamos' fiancee, Caitlin McHugh, shared a...</td>\n",
       "      <td>NaN</td>\n",
       "      <td>@TodayShow</td>\n",
       "      <td>NaN</td>\n",
       "      <td>https://www.today.com</td>\n",
       "      <td>NaN</td>\n",
       "      <td>0</td>\n",
       "      <td>NaN</td>\n",
       "      <td>TODAY.com</td>\n",
       "      <td>(nan, nan)</td>\n",
       "      <td>(0.9214659685863874, 0.07853403141361257)</td>\n",
       "      <td>(0.9230769230769231, 0.07692307692307693)</td>\n",
       "    </tr>\n",
       "    <tr>\n",
       "      <th>20763</th>\n",
       "      <td>gossipcop/real/gossipcop-890440/news content.json</td>\n",
       "      <td>https://www.billboard.com/articles/news/956424...</td>\n",
       "      <td>Rich Cronin, a singer and songwriter for the l...</td>\n",
       "      <td>LFO Singer Rich Cronin, 35, Dies of Cancer</td>\n",
       "      <td>['Monica Herrera']</td>\n",
       "      <td>&lt;p&gt;Rich Cronin, a singer and songwriter for th...</td>\n",
       "      <td>NaN</td>\n",
       "      <td>@billboard</td>\n",
       "      <td>NaN</td>\n",
       "      <td>https://www.billboard.com</td>\n",
       "      <td>NaN</td>\n",
       "      <td>0</td>\n",
       "      <td>NaN</td>\n",
       "      <td>Billboard</td>\n",
       "      <td>(0.7857142857142857, 0.21428571428571427)</td>\n",
       "      <td>(0.8631578947368421, 0.1368421052631579)</td>\n",
       "      <td>(0.8707865168539326, 0.12921348314606743)</td>\n",
       "    </tr>\n",
       "    <tr>\n",
       "      <th>20764</th>\n",
       "      <td>gossipcop/real/gossipcop-915417/news content.json</td>\n",
       "      <td>https://www.etonline.com/liam-gallagher-steps-...</td>\n",
       "      <td>Liam Gallagher is stepping in.\\n\\nThe Oasis si...</td>\n",
       "      <td>Liam Gallagher Steps In for Ariana Grande With...</td>\n",
       "      <td>['Jennifer Drysdale']</td>\n",
       "      <td>A source told ET on Wednesday that Grande was ...</td>\n",
       "      <td>NaN</td>\n",
       "      <td>{'identifier': '@etnow', 'id': 23603092}</td>\n",
       "      <td>NaN</td>\n",
       "      <td>https://www.etonline.com</td>\n",
       "      <td>Awards, Music, News, Ariana Grande</td>\n",
       "      <td>0</td>\n",
       "      <td>NaN</td>\n",
       "      <td>Entertainment Tonight</td>\n",
       "      <td>(0.8899082568807339, 0.11009174311926606)</td>\n",
       "      <td>(0.8894389438943895, 0.11056105610561057)</td>\n",
       "      <td>(0.8877086494688923, 0.11229135053110774)</td>\n",
       "    </tr>\n",
       "    <tr>\n",
       "      <th>20765</th>\n",
       "      <td>gossipcop/real/gossipcop-927457/news content.json</td>\n",
       "      <td>https://www.dailymail.co.uk/tvshowbiz/article-...</td>\n",
       "      <td>Kim Kardashian West shared three cute Insta-st...</td>\n",
       "      <td>Kim Kardashian shares cute video of daughter C...</td>\n",
       "      <td>['Cassie Carpenter', 'Cassie Carpenter For Dai...</td>\n",
       "      <td>The 37-year-old mother-of-three cooed at her f...</td>\n",
       "      <td>NaN</td>\n",
       "      <td>NaN</td>\n",
       "      <td>https://www.facebook.com/DailyMail</td>\n",
       "      <td>https://www.dailymail.co.uk</td>\n",
       "      <td>dailymail,tvshowbiz,Kim Kardashian,Snapchat</td>\n",
       "      <td>0</td>\n",
       "      <td>NaN</td>\n",
       "      <td>Mail Online</td>\n",
       "      <td>(0.8285933897002306, 0.17140661029976942)</td>\n",
       "      <td>(nan, nan)</td>\n",
       "      <td>(0.8133616118769883, 0.18663838812301167)</td>\n",
       "    </tr>\n",
       "    <tr>\n",
       "      <th>20766</th>\n",
       "      <td>gossipcop/real/gossipcop-869223/news content.json</td>\n",
       "      <td>https://www.instyle.com/fashion/charlize-thero...</td>\n",
       "      <td>Let’s be real— Charlize Theron would look good...</td>\n",
       "      <td>Charlize Theron&amp;rsquo;s Style Has Only Gotten ...</td>\n",
       "      <td>['Jennifer Ferrise']</td>\n",
       "      <td>We found Charlize Theron's 10 best red carpet ...</td>\n",
       "      <td>NaN</td>\n",
       "      <td>NaN</td>\n",
       "      <td>NaN</td>\n",
       "      <td>https://www.instyle.com</td>\n",
       "      <td>Alexander McQueen,Atelier Versace,Celebrity,Ch...</td>\n",
       "      <td>0</td>\n",
       "      <td>NaN</td>\n",
       "      <td>InStyle</td>\n",
       "      <td>(1.0, 0.0)</td>\n",
       "      <td>(nan, nan)</td>\n",
       "      <td>(0.912, 0.088)</td>\n",
       "    </tr>\n",
       "  </tbody>\n",
       "</table>\n",
       "<p>20767 rows × 17 columns</p>\n",
       "</div>"
      ],
      "text/plain": [
       "                                                filename  \\\n",
       "0      gossipcop/real/gossipcop-913738/news content.json   \n",
       "1      gossipcop/real/gossipcop-887727/news content.json   \n",
       "2      gossipcop/real/gossipcop-890190/news content.json   \n",
       "3      gossipcop/real/gossipcop-894538/news content.json   \n",
       "4      gossipcop/real/gossipcop-915430/news content.json   \n",
       "...                                                  ...   \n",
       "20762  gossipcop/real/gossipcop-902669/news content.json   \n",
       "20763  gossipcop/real/gossipcop-890440/news content.json   \n",
       "20764  gossipcop/real/gossipcop-915417/news content.json   \n",
       "20765  gossipcop/real/gossipcop-927457/news content.json   \n",
       "20766  gossipcop/real/gossipcop-869223/news content.json   \n",
       "\n",
       "                                                     url  \\\n",
       "0      https://www.independent.co.uk/news/people/tom-...   \n",
       "1      https://www.teenvogue.com/story/dynasty-cw-fas...   \n",
       "2      http://time.com/5004529/stranger-things-steve-...   \n",
       "3      http://olodomusics.com/serena-williams-star-st...   \n",
       "4      https://www.cosmopolitan.com/entertainment/cel...   \n",
       "...                                                  ...   \n",
       "20762  https://www.today.com/parents/john-stamos-fian...   \n",
       "20763  https://www.billboard.com/articles/news/956424...   \n",
       "20764  https://www.etonline.com/liam-gallagher-steps-...   \n",
       "20765  https://www.dailymail.co.uk/tvshowbiz/article-...   \n",
       "20766  https://www.instyle.com/fashion/charlize-thero...   \n",
       "\n",
       "                                                    text  \\\n",
       "0      British diver Tom Daley and his husband Dustin...   \n",
       "1      Let’s be honest: we’ve reached peak nostalgia ...   \n",
       "2      Warning: This post contains spoilers for Stran...   \n",
       "3                                                    NaN   \n",
       "4      This content is imported from YouTube. You may...   \n",
       "...                                                  ...   \n",
       "20762  John Stamos, 54, is on a fast track from \"uncl...   \n",
       "20763  Rich Cronin, a singer and songwriter for the l...   \n",
       "20764  Liam Gallagher is stepping in.\\n\\nThe Oasis si...   \n",
       "20765  Kim Kardashian West shared three cute Insta-st...   \n",
       "20766  Let’s be real— Charlize Theron would look good...   \n",
       "\n",
       "                                                   title  \\\n",
       "0      Tom Daley and husband Dustin Lance Black relea...   \n",
       "1      The '80s Version of 'Gossip Girl' Is Back, and...   \n",
       "2      Why This 'Stranger Things' Character Became a ...   \n",
       "3                                            盘他直播app官网下载   \n",
       "4      Kourtney Kardashian Just Said Having More Kids...   \n",
       "...                                                  ...   \n",
       "20762  John Stamos' fiancee debuts baby bump on Insta...   \n",
       "20763         LFO Singer Rich Cronin, 35, Dies of Cancer   \n",
       "20764  Liam Gallagher Steps In for Ariana Grande With...   \n",
       "20765  Kim Kardashian shares cute video of daughter C...   \n",
       "20766  Charlize Theron&rsquo;s Style Has Only Gotten ...   \n",
       "\n",
       "                                                 authors  \\\n",
       "0                                                     []   \n",
       "1                    ['Faith Cummings', 'Faith Cumming']   \n",
       "2                                     ['Ashley Hoffman']   \n",
       "3                                                     []   \n",
       "4      ['Emma Baty', 'Emma Baty Is The Associate Ente...   \n",
       "...                                                  ...   \n",
       "20762                                                 []   \n",
       "20763                                 ['Monica Herrera']   \n",
       "20764                              ['Jennifer Drysdale']   \n",
       "20765  ['Cassie Carpenter', 'Cassie Carpenter For Dai...   \n",
       "20766                               ['Jennifer Ferrise']   \n",
       "\n",
       "                                             description  generatorsite_name  \\\n",
       "0      Couple revealed they were expecting child thro...                 NaN   \n",
       "1      In an exclusive interview with the cast and wa...                 NaN   \n",
       "2      How Steve went from bully to surprisingly hero...                 NaN   \n",
       "3                                                    NaN                 NaN   \n",
       "4      In a preview for the upcoming episode of ﻿KUWT...                 NaN   \n",
       "...                                                  ...                 ...   \n",
       "20762  John Stamos' fiancee, Caitlin McHugh, shared a...                 NaN   \n",
       "20763  <p>Rich Cronin, a singer and songwriter for th...                 NaN   \n",
       "20764  A source told ET on Wednesday that Grande was ...                 NaN   \n",
       "20765  The 37-year-old mother-of-three cooed at her f...                 NaN   \n",
       "20766  We found Charlize Theron's 10 best red carpet ...                 NaN   \n",
       "\n",
       "                                           site  \\\n",
       "0                                  @Independent   \n",
       "1                                    @TeenVogue   \n",
       "2                                         @TIME   \n",
       "3                                           NaN   \n",
       "4                                 @Cosmopolitan   \n",
       "...                                         ...   \n",
       "20762                                @TodayShow   \n",
       "20763                                @billboard   \n",
       "20764  {'identifier': '@etnow', 'id': 23603092}   \n",
       "20765                                       NaN   \n",
       "20766                                       NaN   \n",
       "\n",
       "                                publisher                         source  \\\n",
       "0                                     NaN  https://www.independent.co.uk   \n",
       "1                                     NaN      https://www.teenvogue.com   \n",
       "2                                     NaN                http://time.com   \n",
       "3                                     NaN         http://olodomusics.com   \n",
       "4       https://facebook.com/Cosmopolitan   https://www.cosmopolitan.com   \n",
       "...                                   ...                            ...   \n",
       "20762                                 NaN          https://www.today.com   \n",
       "20763                                 NaN      https://www.billboard.com   \n",
       "20764                                 NaN       https://www.etonline.com   \n",
       "20765  https://www.facebook.com/DailyMail    https://www.dailymail.co.uk   \n",
       "20766                                 NaN        https://www.instyle.com   \n",
       "\n",
       "                                                keywords  label generator  \\\n",
       "0                           Tom Daley,Dustin Lance Black      0       NaN   \n",
       "1      news,dynasty,meredith markworth-pollack,the cw...      0       NaN   \n",
       "2      stranger things, stranger things steve, strang...      0       NaN   \n",
       "3                                                    NaN      0       NaN   \n",
       "4      kourtney kardashian, kourtney, kuwtk, kourtney...      0       NaN   \n",
       "...                                                  ...    ...       ...   \n",
       "20762                                                NaN      0       NaN   \n",
       "20763                                                NaN      0       NaN   \n",
       "20764                 Awards, Music, News, Ariana Grande      0       NaN   \n",
       "20765        dailymail,tvshowbiz,Kim Kardashian,Snapchat      0       NaN   \n",
       "20766  Alexander McQueen,Atelier Versace,Celebrity,Ch...      0       NaN   \n",
       "\n",
       "                   site_name                           author_real_fake  \\\n",
       "0            The Independent                                 (nan, nan)   \n",
       "1                 Teen Vogue  (0.9166666666666666, 0.08333333333333333)   \n",
       "2                       Time                                 (0.8, 0.2)   \n",
       "3                        NaN                                 (nan, nan)   \n",
       "4               Cosmopolitan  (0.8209876543209876, 0.17901234567901234)   \n",
       "...                      ...                                        ...   \n",
       "20762              TODAY.com                                 (nan, nan)   \n",
       "20763              Billboard  (0.7857142857142857, 0.21428571428571427)   \n",
       "20764  Entertainment Tonight  (0.8899082568807339, 0.11009174311926606)   \n",
       "20765            Mail Online  (0.8285933897002306, 0.17140661029976942)   \n",
       "20766                InStyle                                 (1.0, 0.0)   \n",
       "\n",
       "                                  site_real_fake  \\\n",
       "0      (0.8173076923076923, 0.18269230769230768)   \n",
       "1      (0.8620689655172413, 0.13793103448275862)   \n",
       "2       (0.8226950354609929, 0.1773049645390071)   \n",
       "3                                     (nan, nan)   \n",
       "4      (0.8188405797101449, 0.18115942028985507)   \n",
       "...                                          ...   \n",
       "20762  (0.9214659685863874, 0.07853403141361257)   \n",
       "20763   (0.8631578947368421, 0.1368421052631579)   \n",
       "20764  (0.8894389438943895, 0.11056105610561057)   \n",
       "20765                                 (nan, nan)   \n",
       "20766                                 (nan, nan)   \n",
       "\n",
       "                                source_real_fake  \n",
       "0      (0.8470588235294118, 0.15294117647058825)  \n",
       "1       (0.864406779661017, 0.13559322033898305)  \n",
       "2      (0.8626373626373627, 0.13736263736263737)  \n",
       "3                                     (1.0, 0.0)  \n",
       "4       (0.8015873015873016, 0.1984126984126984)  \n",
       "...                                          ...  \n",
       "20762  (0.9230769230769231, 0.07692307692307693)  \n",
       "20763  (0.8707865168539326, 0.12921348314606743)  \n",
       "20764  (0.8877086494688923, 0.11229135053110774)  \n",
       "20765  (0.8133616118769883, 0.18663838812301167)  \n",
       "20766                             (0.912, 0.088)  \n",
       "\n",
       "[20767 rows x 17 columns]"
      ]
     },
     "execution_count": 5,
     "metadata": {},
     "output_type": "execute_result"
    }
   ],
   "source": [
    "import pandas as pd \n",
    "\n",
    "pd.read_csv(project_space_path('df_with_stats.csv'))"
   ]
  },
  {
   "cell_type": "code",
   "execution_count": 6,
   "id": "closing-compression",
   "metadata": {},
   "outputs": [],
   "source": [
    "# @rf.block\n",
    "# class NonSparkPath:\n",
    "#     # Atomic input - csv filename relative to project space\n",
    "#     ip_path: str\n",
    "#     selected_cols: rf.Output[t.Any]\n",
    "#     # Atomic output of type spark DataFrame.\n",
    "#     op_path: rf.Output[str]\n",
    "#     def run(self):\n",
    "#         self.op_path.put(project_space_path(self.ip_path))\n",
    "        \n",
    "\n",
    "# @rf.block\n",
    "# class NonSparkCols:\n",
    "#     cols_list: t.Any\n",
    "#     # Atomic input - csv filename relative to project space\n",
    "#     selected_cols: rf.Output[t.Any]\n",
    "#     # Atomic output of type spark DataFrame.\n",
    "#     def run(self):\n",
    "#         self.selected_cols.put(self.cols_list)\n",
    "        "
   ]
  },
  {
   "cell_type": "code",
   "execution_count": 7,
   "id": "general-assumption",
   "metadata": {},
   "outputs": [],
   "source": [
    "# @rf.block\n",
    "# class ReadCsvProjectSpace(SparkBlock):\n",
    "#     filename:str\n",
    "#     data: rf.Output[DataFrame]\n",
    "#     def run(self):\n",
    "#         df = self.spark.read.csv(self.filename, header = True)\n",
    "#         print(\"Data Schema\")\n",
    "#         df.printSchema()\n",
    "#         self.data.put(df)\n",
    "        \n",
    "\n",
    "# @rf.block\n",
    "# class SelectData(SparkBlock):\n",
    "#     wanted_cols: t.Any\n",
    "#     inputData: DataFrame\n",
    "#     outputData: rf.Output[DataFrame]\n",
    "#     def run(self):\n",
    "#         df = self.inputData\n",
    "#         df_selected = df.select(self.wanted_cols)\n",
    "#         df_selected.show()\n",
    "#         self.outputData.put(df_selected)\n",
    "        \n",
    "        \n",
    "        \n",
    "        \n",
    "        "
   ]
  },
  {
   "cell_type": "code",
   "execution_count": 8,
   "id": "spare-thing",
   "metadata": {},
   "outputs": [],
   "source": [
    "nsp = NonSparkPath(ip_path='df_with_stats.csv')\n",
    "nsc = NonSparkCols(cols_list = ['title','label'])\n",
    "rcp = ReadCsvProjectSpace(filename = nsp.op_path, config={}, source=\"\")\n",
    "sd = SelectData(wanted_cols=nsc.selected_cols, inputData=rcp.data, config={}, source=\"\")\n",
    "\n",
    "# rcp.executor = rf.ProcessExecutor\n",
    "# sd.executor = rf.ProcessExecutor"
   ]
  },
  {
   "cell_type": "code",
   "execution_count": 9,
   "id": "warming-forest",
   "metadata": {},
   "outputs": [],
   "source": [
    "pipe = rf.Pipeline('pipeline_sd_2', targets = [sd])"
   ]
  },
  {
   "cell_type": "code",
   "execution_count": 10,
   "id": "directed-rachel",
   "metadata": {},
   "outputs": [
    {
     "data": {
      "application/vnd.razorthink.interactive+pipeline+view+json": {
       "blocks": [
        {
         "class_name": "ReadCsvProjectSpace",
         "fullname": "razor.project.blocks.sourya_spark_blocks.ReadCsvProjectSpace",
         "id": "466b13bc-bbc0-4844-b6dd-4ed9581192be",
         "inputs": [
          {
           "dataType": "string",
           "default": "",
           "flow": "atomic",
           "help": null,
           "isdict": false,
           "islist": false,
           "label": "filename",
           "meta": {},
           "name": "filename",
           "series": false,
           "type": "str",
           "type_check": true
          },
          {
           "dataType": "dict",
           "default": {},
           "flow": "atomic",
           "help": null,
           "isdict": false,
           "islist": false,
           "label": "config",
           "meta": {},
           "name": "config",
           "series": false,
           "type": "dict",
           "type_check": true
          },
          {
           "dataType": "string",
           "default": "",
           "flow": "atomic",
           "help": null,
           "isdict": false,
           "islist": false,
           "label": "source",
           "meta": {},
           "name": "source",
           "series": false,
           "type": "str",
           "type_check": true
          }
         ],
         "outputs": [
          {
           "flow": "atomic",
           "help": null,
           "label": "data",
           "meta": {},
           "name": "data",
           "series": false,
           "type": "DataFrame",
           "type_check": true
          }
         ],
         "overwritten": false,
         "published": true,
         "var_names": [
          "ReadCsvProjectSpace"
         ]
        },
        {
         "class_name": "NonSparkCols",
         "fullname": "razor.project.blocks.sourya_spark_blocks.NonSparkCols",
         "id": "e672ccf9-5e7c-45e7-b56d-4140e716cec3",
         "inputs": [
          {
           "dataType": null,
           "default": null,
           "flow": "atomic",
           "help": null,
           "isdict": false,
           "islist": false,
           "label": "cols_list",
           "meta": {},
           "name": "cols_list",
           "series": false,
           "type": "Any",
           "type_check": true
          }
         ],
         "outputs": [
          {
           "flow": "atomic",
           "help": null,
           "label": "selected_cols",
           "meta": {},
           "name": "selected_cols",
           "series": false,
           "type": "Any",
           "type_check": true
          }
         ],
         "overwritten": false,
         "published": true,
         "var_names": [
          "NonSparkCols"
         ]
        },
        {
         "class_name": "SelectData",
         "fullname": "razor.project.blocks.sourya_spark_blocks.SelectData",
         "id": "abc4cb71-fe64-42dd-a35d-60d4ee4349a4",
         "inputs": [
          {
           "dataType": null,
           "default": null,
           "flow": "atomic",
           "help": null,
           "isdict": false,
           "islist": false,
           "label": "wanted_cols",
           "meta": {},
           "name": "wanted_cols",
           "series": false,
           "type": "Any",
           "type_check": true
          },
          {
           "dataType": null,
           "default": null,
           "flow": "atomic",
           "help": null,
           "isdict": false,
           "islist": false,
           "label": "inputData",
           "meta": {},
           "name": "inputData",
           "series": false,
           "type": "DataFrame",
           "type_check": true
          },
          {
           "dataType": "dict",
           "default": {},
           "flow": "atomic",
           "help": null,
           "isdict": false,
           "islist": false,
           "label": "config",
           "meta": {},
           "name": "config",
           "series": false,
           "type": "dict",
           "type_check": true
          },
          {
           "dataType": "string",
           "default": "",
           "flow": "atomic",
           "help": null,
           "isdict": false,
           "islist": false,
           "label": "source",
           "meta": {},
           "name": "source",
           "series": false,
           "type": "str",
           "type_check": true
          }
         ],
         "outputs": [
          {
           "flow": "atomic",
           "help": null,
           "label": "outputData",
           "meta": {},
           "name": "outputData",
           "series": false,
           "type": "DataFrame",
           "type_check": true
          }
         ],
         "overwritten": false,
         "published": true,
         "var_names": [
          "SelectData"
         ]
        },
        {
         "class_name": "NonSparkPath",
         "fullname": "razor.project.blocks.sourya_spark_blocks.NonSparkPath",
         "id": "4c444056-24c0-43b5-9cab-44370ef74879",
         "inputs": [
          {
           "dataType": "string",
           "default": "",
           "flow": "atomic",
           "help": null,
           "isdict": false,
           "islist": false,
           "label": "ip_path",
           "meta": {},
           "name": "ip_path",
           "series": false,
           "type": "str",
           "type_check": true
          }
         ],
         "outputs": [
          {
           "flow": "atomic",
           "help": null,
           "label": "op_path",
           "meta": {},
           "name": "op_path",
           "series": false,
           "type": "str",
           "type_check": true
          }
         ],
         "overwritten": false,
         "published": true,
         "var_names": [
          "NonSparkPath"
         ]
        }
       ],
       "connections": [
        {
         "id": "c5e98014-f4a3-4af4-9415-9437a4274234",
         "source": {
          "adapter": false,
          "instance_id": "24450364-5b9f-46b5-b7f7-047d6dadbdd7",
          "name": "op_path"
         },
         "target": {
          "adapter": false,
          "instance_id": "6ff29f52-eeed-43cd-842f-a54502a04c21",
          "name": "filename"
         }
        },
        {
         "id": "df91e30b-c238-470c-8e18-0bcfb3b452d5",
         "source": {
          "adapter": false,
          "instance_id": "6ff29f52-eeed-43cd-842f-a54502a04c21",
          "name": "data"
         },
         "target": {
          "adapter": false,
          "instance_id": "b98b32b2-cea2-442e-b709-d82a76bd0c84",
          "name": "inputData"
         }
        },
        {
         "id": "d7b88720-a136-474f-bbe0-2138da27df46",
         "source": {
          "adapter": false,
          "instance_id": "8a77e96f-1427-4b3c-8c73-a30f49b9a6ee",
          "name": "selected_cols"
         },
         "target": {
          "adapter": false,
          "instance_id": "b98b32b2-cea2-442e-b709-d82a76bd0c84",
          "name": "wanted_cols"
         }
        }
       ],
       "id": "6814296d-0429-4c3c-b18a-154829b4dd1f",
       "instances": [
        {
         "block_class": "abc4cb71-fe64-42dd-a35d-60d4ee4349a4",
         "id": "b98b32b2-cea2-442e-b709-d82a76bd0c84",
         "name": "SelectData_1",
         "var_names": [
          "sd"
         ]
        },
        {
         "block_class": "e672ccf9-5e7c-45e7-b56d-4140e716cec3",
         "id": "8a77e96f-1427-4b3c-8c73-a30f49b9a6ee",
         "name": "NonSparkCols_1",
         "var_names": [
          "nsc"
         ]
        },
        {
         "block_class": "466b13bc-bbc0-4844-b6dd-4ed9581192be",
         "id": "6ff29f52-eeed-43cd-842f-a54502a04c21",
         "name": "ReadCsvProjectSpace_1",
         "var_names": [
          "rcp"
         ]
        },
        {
         "block_class": "4c444056-24c0-43b5-9cab-44370ef74879",
         "id": "24450364-5b9f-46b5-b7f7-047d6dadbdd7",
         "name": "NonSparkPath_1",
         "var_names": [
          "nsp"
         ]
        }
       ],
       "name": "pipeline_sd_2",
       "var_names": []
      },
      "image/svg+xml": [
       "<?xml version=\"1.0\" encoding=\"UTF-8\" standalone=\"no\"?>\n",
       "<!DOCTYPE svg PUBLIC \"-//W3C//DTD SVG 1.1//EN\"\n",
       " \"http://www.w3.org/Graphics/SVG/1.1/DTD/svg11.dtd\">\n",
       "<!-- Generated by graphviz version 2.43.0 (0)\n",
       " -->\n",
       "<!-- Title: %3 Pages: 1 -->\n",
       "<svg width=\"534pt\" height=\"210pt\"\n",
       " viewBox=\"0.00 0.00 533.71 210.00\" xmlns=\"http://www.w3.org/2000/svg\" xmlns:xlink=\"http://www.w3.org/1999/xlink\">\n",
       "<g id=\"graph0\" class=\"graph\" transform=\"scale(1 1) rotate(0) translate(4 206)\">\n",
       "<title>%3</title>\n",
       "<polygon fill=\"white\" stroke=\"transparent\" points=\"-4,4 -4,-206 529.71,-206 529.71,4 -4,4\"/>\n",
       "<!-- SelectData(&#39;SelectData_1&#39;) -->\n",
       "<g id=\"node1\" class=\"node\">\n",
       "<title>SelectData(&#39;SelectData_1&#39;)</title>\n",
       "<ellipse fill=\"none\" stroke=\"black\" cx=\"185.78\" cy=\"-18\" rx=\"87.24\" ry=\"18\"/>\n",
       "<text text-anchor=\"middle\" x=\"185.78\" y=\"-15.5\" font-family=\"Helvetica,sans-Serif\" font-size=\"10.00\">SelectData(&#39;SelectData_1&#39;)</text>\n",
       "</g>\n",
       "<!-- NonSparkCols(&#39;NonSparkCols_1&#39;) -->\n",
       "<g id=\"node2\" class=\"node\">\n",
       "<title>NonSparkCols(&#39;NonSparkCols_1&#39;)</title>\n",
       "<ellipse fill=\"none\" stroke=\"black\" cx=\"104.78\" cy=\"-101\" rx=\"104.56\" ry=\"18\"/>\n",
       "<text text-anchor=\"middle\" x=\"104.78\" y=\"-98.5\" font-family=\"Helvetica,sans-Serif\" font-size=\"10.00\">NonSparkCols(&#39;NonSparkCols_1&#39;)</text>\n",
       "</g>\n",
       "<!-- NonSparkCols(&#39;NonSparkCols_1&#39;)&#45;&gt;SelectData(&#39;SelectData_1&#39;) -->\n",
       "<g id=\"edge1\" class=\"edge\">\n",
       "<title>NonSparkCols(&#39;NonSparkCols_1&#39;)&#45;&gt;SelectData(&#39;SelectData_1&#39;)</title>\n",
       "<path fill=\"none\" stroke=\"black\" d=\"M121.57,-83.22C133.19,-71.6 148.83,-55.95 161.77,-43.02\"/>\n",
       "<polygon fill=\"black\" stroke=\"black\" points=\"164.42,-45.31 169.02,-35.76 159.47,-40.36 164.42,-45.31\"/>\n",
       "<text text-anchor=\"middle\" x=\"220.28\" y=\"-57\" font-family=\"Helvetica,sans-Serif\" font-size=\"10.00\">selected_cols&#45;&gt;wanted_cols</text>\n",
       "</g>\n",
       "<!-- ReadCsvProjectSpace(&#39;ReadCsvProjectSpace_1&#39;) -->\n",
       "<g id=\"node3\" class=\"node\">\n",
       "<title>ReadCsvProjectSpace(&#39;ReadCsvProjectSpace_1&#39;)</title>\n",
       "<ellipse fill=\"none\" stroke=\"black\" cx=\"376.78\" cy=\"-101\" rx=\"148.86\" ry=\"18\"/>\n",
       "<text text-anchor=\"middle\" x=\"376.78\" y=\"-98.5\" font-family=\"Helvetica,sans-Serif\" font-size=\"10.00\">ReadCsvProjectSpace(&#39;ReadCsvProjectSpace_1&#39;)</text>\n",
       "</g>\n",
       "<!-- ReadCsvProjectSpace(&#39;ReadCsvProjectSpace_1&#39;)&#45;&gt;SelectData(&#39;SelectData_1&#39;) -->\n",
       "<g id=\"edge2\" class=\"edge\">\n",
       "<title>ReadCsvProjectSpace(&#39;ReadCsvProjectSpace_1&#39;)&#45;&gt;SelectData(&#39;SelectData_1&#39;)</title>\n",
       "<path fill=\"none\" stroke=\"black\" d=\"M349.41,-83.08C333.55,-73.72 312.97,-62.33 293.78,-54 278.36,-47.3 261.23,-41.18 245.23,-36\"/>\n",
       "<polygon fill=\"black\" stroke=\"black\" points=\"246.04,-32.58 235.45,-32.9 243.92,-39.25 246.04,-32.58\"/>\n",
       "<text text-anchor=\"middle\" x=\"355.78\" y=\"-57\" font-family=\"Helvetica,sans-Serif\" font-size=\"10.00\">data&#45;&gt;inputData</text>\n",
       "</g>\n",
       "<!-- NonSparkPath(&#39;NonSparkPath_1&#39;) -->\n",
       "<g id=\"node4\" class=\"node\">\n",
       "<title>NonSparkPath(&#39;NonSparkPath_1&#39;)</title>\n",
       "<ellipse fill=\"none\" stroke=\"black\" cx=\"376.78\" cy=\"-184\" rx=\"104.56\" ry=\"18\"/>\n",
       "<text text-anchor=\"middle\" x=\"376.78\" y=\"-181.5\" font-family=\"Helvetica,sans-Serif\" font-size=\"10.00\">NonSparkPath(&#39;NonSparkPath_1&#39;)</text>\n",
       "</g>\n",
       "<!-- NonSparkPath(&#39;NonSparkPath_1&#39;)&#45;&gt;ReadCsvProjectSpace(&#39;ReadCsvProjectSpace_1&#39;) -->\n",
       "<g id=\"edge3\" class=\"edge\">\n",
       "<title>NonSparkPath(&#39;NonSparkPath_1&#39;)&#45;&gt;ReadCsvProjectSpace(&#39;ReadCsvProjectSpace_1&#39;)</title>\n",
       "<path fill=\"none\" stroke=\"black\" d=\"M376.78,-165.82C376.78,-155.19 376.78,-141.31 376.78,-129.2\"/>\n",
       "<polygon fill=\"black\" stroke=\"black\" points=\"380.28,-129.15 376.78,-119.15 373.28,-129.15 380.28,-129.15\"/>\n",
       "<text text-anchor=\"middle\" x=\"423.78\" y=\"-140\" font-family=\"Helvetica,sans-Serif\" font-size=\"10.00\">op_path&#45;&gt;filename</text>\n",
       "</g>\n",
       "</g>\n",
       "</svg>\n"
      ],
      "text/plain": [
       "<razor.flow.async_pipeline.Pipeline at 0x7facac74d290>"
      ]
     },
     "execution_count": 10,
     "metadata": {},
     "output_type": "execute_result"
    }
   ],
   "source": [
    "pipe"
   ]
  },
  {
   "cell_type": "code",
   "execution_count": 11,
   "id": "guided-kidney",
   "metadata": {},
   "outputs": [
    {
     "name": "stdout",
     "output_type": "stream",
     "text": [
      "log path: /tmp/tmpstl1y47j/pipeline_sd_2\n"
     ]
    },
    {
     "data": {
      "application/vnd.razorthink.run+monitor+json": "/tmp/tmpstl1y47j/pipeline_sd_2",
      "text/plain": [
       "<razor_tools.backend.ipython.mime.run_monitor.RunMonitor at 0x7facac54ce10>"
      ]
     },
     "metadata": {
      "application/vnd.razorthink.run+monitor+json": {
       "run_data": {
        "apm": [
         {
          "cpu_percent": 0,
          "cpu_time": 0.01,
          "name": "NonSparkPath_1",
          "real_mem": 291614720,
          "time": 1616755216.8460174
         },
         {
          "cpu_percent": 0,
          "cpu_time": 0.02,
          "name": "NonSparkCols_1",
          "real_mem": 291549184,
          "time": 1616755216.8253138
         },
         {
          "cpu_percent": 0,
          "cpu_time": 0.04,
          "name": "NonSparkPath_1",
          "real_mem": 291635200,
          "time": 1616755216.9591694
         },
         {
          "cpu_percent": 0,
          "cpu_time": 0.02,
          "name": "NonSparkCols_1",
          "real_mem": 291807232,
          "time": 1616755216.9380853
         },
         {
          "cpu_percent": 98.2,
          "cpu_time": 0.03,
          "name": "NonSparkCols_1",
          "real_mem": 291807232,
          "time": 1616755217.050165
         },
         {
          "cpu_percent": 0,
          "cpu_time": 0.06,
          "name": "NonSparkPath_1",
          "real_mem": 291987456,
          "time": 1616755217.0719988
         },
         {
          "cpu_percent": 0,
          "cpu_time": 0.03,
          "name": "NonSparkCols_1",
          "real_mem": 291807232,
          "time": 1616755217.162083
         },
         {
          "cpu_percent": 0,
          "cpu_time": 0.02,
          "name": "SelectData_1",
          "real_mem": 291655680,
          "time": 1616755217.1316364
         },
         {
          "cpu_percent": 0,
          "cpu_time": 0.04,
          "name": "ReadCsvProjectSpace_1",
          "real_mem": 291774464,
          "time": 1616755217.1672168
         },
         {
          "cpu_percent": 0,
          "cpu_time": 0.06,
          "name": "NonSparkPath_1",
          "real_mem": 291987456,
          "time": 1616755217.1837418
         },
         {
          "cpu_percent": 0,
          "cpu_time": 0.09,
          "name": "SelectData_1",
          "real_mem": 296325120,
          "time": 1616755217.2557163
         },
         {
          "cpu_percent": 97.8,
          "cpu_time": 0.15,
          "name": "ReadCsvProjectSpace_1",
          "real_mem": 320036864,
          "time": 1616755217.3115122
         },
         {
          "cpu_percent": 95.5,
          "cpu_time": 0.29,
          "name": "SelectData_1",
          "real_mem": 336457728,
          "time": 1616755217.400393
         },
         {
          "cpu_percent": 194.3,
          "cpu_time": 0.37,
          "name": "ReadCsvProjectSpace_1",
          "real_mem": 347283456,
          "time": 1616755217.4558136
         },
         {
          "cpu_percent": 98.3,
          "cpu_time": 0.15,
          "name": "SelectData_1",
          "real_mem": 312475648,
          "time": 1616755217.5238738
         },
         {
          "cpu_percent": 195.8,
          "cpu_time": 0.21,
          "name": "ReadCsvProjectSpace_1",
          "real_mem": 315797504,
          "time": 1616755217.578971
         },
         {
          "cpu_percent": 296.1,
          "cpu_time": 0.32999999999999996,
          "name": "SelectData_1",
          "real_mem": 332615680,
          "time": 1616755217.6465344
         },
         {
          "cpu_percent": 98.7,
          "cpu_time": 0.42000000000000004,
          "name": "ReadCsvProjectSpace_1",
          "real_mem": 348352512,
          "time": 1616755217.7016668
         },
         {
          "cpu_percent": 196.3,
          "cpu_time": 0.57,
          "name": "SelectData_1",
          "real_mem": 358051840,
          "time": 1616755217.770237
         },
         {
          "cpu_percent": 98.4,
          "cpu_time": 0.65,
          "name": "ReadCsvProjectSpace_1",
          "real_mem": 363999232,
          "time": 1616755217.8249135
         },
         {
          "cpu_percent": 98.1,
          "cpu_time": 0.73,
          "name": "SelectData_1",
          "real_mem": 375390208,
          "time": 1616755217.893333
         },
         {
          "cpu_percent": 197.5,
          "cpu_time": 0.82,
          "name": "ReadCsvProjectSpace_1",
          "real_mem": 376713216,
          "time": 1616755217.948171
         },
         {
          "cpu_percent": 194.6,
          "cpu_time": 0.95,
          "name": "SelectData_1",
          "real_mem": 378028032,
          "time": 1616755218.015825
         },
         {
          "cpu_percent": 98.1,
          "cpu_time": 1.01,
          "name": "ReadCsvProjectSpace_1",
          "real_mem": 378822656,
          "time": 1616755218.070696
         },
         {
          "cpu_percent": 98.2,
          "cpu_time": 1.11,
          "name": "SelectData_1",
          "real_mem": 383115264,
          "time": 1616755218.1390421
         },
         {
          "cpu_percent": 296.2,
          "cpu_time": 1.2000000000000002,
          "name": "ReadCsvProjectSpace_1",
          "real_mem": 384319488,
          "time": 1616755218.1936116
         },
         {
          "cpu_percent": 196.7,
          "cpu_time": 1.35,
          "name": "SelectData_1",
          "real_mem": 385966080,
          "time": 1616755218.2627974
         },
         {
          "cpu_percent": 0,
          "cpu_time": 1.4100000000000001,
          "name": "ReadCsvProjectSpace_1",
          "real_mem": 393166848,
          "time": 1616755218.3188565
         },
         {
          "cpu_percent": 196.5,
          "cpu_time": 1.5099999999999998,
          "name": "SelectData_1",
          "real_mem": 399441920,
          "time": 1616755218.3858492
         },
         {
          "cpu_percent": 98.4,
          "cpu_time": 1.5899999999999999,
          "name": "ReadCsvProjectSpace_1",
          "real_mem": 403685376,
          "time": 1616755218.4421005
         },
         {
          "cpu_percent": 195.5,
          "cpu_time": 1.7000000000000002,
          "name": "SelectData_1",
          "real_mem": 411140096,
          "time": 1616755218.5086603
         },
         {
          "cpu_percent": 98.3,
          "cpu_time": 1.7799999999999998,
          "name": "ReadCsvProjectSpace_1",
          "real_mem": 415129600,
          "time": 1616755218.5657167
         },
         {
          "cpu_percent": 98.2,
          "cpu_time": 1.8900000000000001,
          "name": "SelectData_1",
          "real_mem": 423469056,
          "time": 1616755218.631767
         },
         {
          "cpu_percent": 98.7,
          "cpu_time": 1.96,
          "name": "ReadCsvProjectSpace_1",
          "real_mem": 424443904,
          "time": 1616755218.6892014
         },
         {
          "cpu_percent": 98.7,
          "cpu_time": 2.09,
          "name": "SelectData_1",
          "real_mem": 425615360,
          "time": 1616755218.7544024
         },
         {
          "cpu_percent": 197.2,
          "cpu_time": 2.18,
          "name": "ReadCsvProjectSpace_1",
          "real_mem": 426344448,
          "time": 1616755218.8116775
         },
         {
          "cpu_percent": 196.6,
          "cpu_time": 2.29,
          "name": "SelectData_1",
          "real_mem": 427470848,
          "time": 1616755218.878236
         },
         {
          "cpu_percent": 98.5,
          "cpu_time": 2.35,
          "name": "ReadCsvProjectSpace_1",
          "real_mem": 428478464,
          "time": 1616755218.9341936
         },
         {
          "cpu_percent": 293,
          "cpu_time": 2.4699999999999998,
          "name": "SelectData_1",
          "real_mem": 434372608,
          "time": 1616755219.0014982
         },
         {
          "cpu_percent": 98.2,
          "cpu_time": 2.53,
          "name": "ReadCsvProjectSpace_1",
          "real_mem": 435535872,
          "time": 1616755219.057151
         },
         {
          "cpu_percent": 98.1,
          "cpu_time": 2.61,
          "name": "SelectData_1",
          "real_mem": 436654080,
          "time": 1616755219.1241558
         },
         {
          "cpu_percent": 96.7,
          "cpu_time": 2.71,
          "name": "ReadCsvProjectSpace_1",
          "real_mem": 437178368,
          "time": 1616755219.1800559
         },
         {
          "cpu_percent": 196.9,
          "cpu_time": 2.8400000000000003,
          "name": "SelectData_1",
          "real_mem": 437936128,
          "time": 1616755219.2465053
         },
         {
          "cpu_percent": 295.6,
          "cpu_time": 2.92,
          "name": "ReadCsvProjectSpace_1",
          "real_mem": 438992896,
          "time": 1616755219.302296
         },
         {
          "cpu_percent": 194,
          "cpu_time": 3.06,
          "name": "SelectData_1",
          "real_mem": 441520128,
          "time": 1616755219.3689468
         },
         {
          "cpu_percent": 97.6,
          "cpu_time": 3.1300000000000003,
          "name": "ReadCsvProjectSpace_1",
          "real_mem": 446750720,
          "time": 1616755219.4247391
         },
         {
          "cpu_percent": 196.3,
          "cpu_time": 3.28,
          "name": "SelectData_1",
          "real_mem": 457433088,
          "time": 1616755219.4919515
         },
         {
          "cpu_percent": 98.2,
          "cpu_time": 3.39,
          "name": "ReadCsvProjectSpace_1",
          "real_mem": 462708736,
          "time": 1616755219.548132
         },
         {
          "cpu_percent": 196,
          "cpu_time": 3.54,
          "name": "SelectData_1",
          "real_mem": 468553728,
          "time": 1616755219.614835
         },
         {
          "cpu_percent": 196.4,
          "cpu_time": 3.62,
          "name": "ReadCsvProjectSpace_1",
          "real_mem": 477556736,
          "time": 1616755219.6710482
         },
         {
          "cpu_percent": 0,
          "cpu_time": 3.7800000000000002,
          "name": "SelectData_1",
          "real_mem": 479481856,
          "time": 1616755219.7382026
         },
         {
          "cpu_percent": 194.7,
          "cpu_time": 3.89,
          "name": "ReadCsvProjectSpace_1",
          "real_mem": 479531008,
          "time": 1616755219.7941172
         },
         {
          "cpu_percent": 196.3,
          "cpu_time": 4,
          "name": "SelectData_1",
          "real_mem": 483692544,
          "time": 1616755219.8609803
         },
         {
          "cpu_percent": 0,
          "cpu_time": 4.05,
          "name": "ReadCsvProjectSpace_1",
          "real_mem": 484405248,
          "time": 1616755219.916544
         },
         {
          "cpu_percent": 296.3,
          "cpu_time": 4.11,
          "name": "SelectData_1",
          "real_mem": 484929536,
          "time": 1616755219.9841487
         },
         {
          "cpu_percent": 295.3,
          "cpu_time": 4.22,
          "name": "ReadCsvProjectSpace_1",
          "real_mem": 486195200,
          "time": 1616755220.0386796
         },
         {
          "cpu_percent": 98.4,
          "cpu_time": 4.36,
          "name": "SelectData_1",
          "real_mem": 486879232,
          "time": 1616755220.1077185
         },
         {
          "cpu_percent": 98.1,
          "cpu_time": 4.43,
          "name": "ReadCsvProjectSpace_1",
          "real_mem": 487591936,
          "time": 1616755220.1615283
         },
         {
          "cpu_percent": 196.5,
          "cpu_time": 4.54,
          "name": "SelectData_1",
          "real_mem": 488714240,
          "time": 1616755220.230372
         },
         {
          "cpu_percent": 294.8,
          "cpu_time": 4.66,
          "name": "ReadCsvProjectSpace_1",
          "real_mem": 489615360,
          "time": 1616755220.2850404
         },
         {
          "cpu_percent": 97.8,
          "cpu_time": 4.7299999999999995,
          "name": "SelectData_1",
          "real_mem": 490684416,
          "time": 1616755220.3536773
         },
         {
          "cpu_percent": 88.7,
          "cpu_time": 4.8,
          "name": "ReadCsvProjectSpace_1",
          "real_mem": 491732992,
          "time": 1616755220.409791
         },
         {
          "cpu_percent": 196.7,
          "cpu_time": 4.88,
          "name": "SelectData_1",
          "real_mem": 493117440,
          "time": 1616755220.4762673
         },
         {
          "cpu_percent": 0,
          "cpu_time": 4.9399999999999995,
          "name": "ReadCsvProjectSpace_1",
          "real_mem": 496525312,
          "time": 1616755220.5330012
         },
         {
          "cpu_percent": 97.7,
          "cpu_time": 5.04,
          "name": "SelectData_1",
          "real_mem": 502845440,
          "time": 1616755220.598708
         },
         {
          "cpu_percent": 97.3,
          "cpu_time": 5.12,
          "name": "ReadCsvProjectSpace_1",
          "real_mem": 507936768,
          "time": 1616755220.6555064
         },
         {
          "cpu_percent": 196.9,
          "cpu_time": 5.24,
          "name": "SelectData_1",
          "real_mem": 514863104,
          "time": 1616755220.7205968
         },
         {
          "cpu_percent": 295,
          "cpu_time": 5.36,
          "name": "ReadCsvProjectSpace_1",
          "real_mem": 520658944,
          "time": 1616755220.778539
         },
         {
          "cpu_percent": 0,
          "cpu_time": 5.430000000000001,
          "name": "SelectData_1",
          "real_mem": 525193216,
          "time": 1616755220.8437161
         },
         {
          "cpu_percent": 196.2,
          "cpu_time": 5.52,
          "name": "ReadCsvProjectSpace_1",
          "real_mem": 529342464,
          "time": 1616755220.9015
         },
         {
          "cpu_percent": 295.4,
          "cpu_time": 5.82,
          "name": "SelectData_1",
          "real_mem": 545996800,
          "time": 1616755221.1169927
         },
         {
          "cpu_percent": 294.8,
          "cpu_time": 5.94,
          "name": "ReadCsvProjectSpace_1",
          "real_mem": 552251392,
          "time": 1616755221.1748586
         },
         {
          "cpu_percent": 191.9,
          "cpu_time": 6.24,
          "name": "SelectData_1",
          "real_mem": 571629568,
          "time": 1616755221.3905525
         },
         {
          "cpu_percent": 392,
          "cpu_time": 6.34,
          "name": "ReadCsvProjectSpace_1",
          "real_mem": 572510208,
          "time": 1616755221.44744
         },
         {
          "cpu_percent": 98.5,
          "cpu_time": 6.779999999999999,
          "name": "SelectData_1",
          "real_mem": 577695744,
          "time": 1616755221.6639001
         },
         {
          "cpu_percent": 192.9,
          "cpu_time": 6.87,
          "name": "ReadCsvProjectSpace_1",
          "real_mem": 581275648,
          "time": 1616755221.7209003
         },
         {
          "cpu_percent": 295.9,
          "cpu_time": 7.319999999999999,
          "name": "SelectData_1",
          "real_mem": 588726272,
          "time": 1616755221.9362345
         },
         {
          "cpu_percent": 196.9,
          "cpu_time": 7.41,
          "name": "ReadCsvProjectSpace_1",
          "real_mem": 590884864,
          "time": 1616755221.9935572
         },
         {
          "cpu_percent": 294.4,
          "cpu_time": 7.92,
          "name": "SelectData_1",
          "real_mem": 599154688,
          "time": 1616755222.2098145
         },
         {
          "cpu_percent": 96.4,
          "cpu_time": 7.960000000000001,
          "name": "ReadCsvProjectSpace_1",
          "real_mem": 599293952,
          "time": 1616755222.2707248
         },
         {
          "cpu_percent": 198.1,
          "cpu_time": 8.389999999999999,
          "name": "SelectData_1",
          "real_mem": 605499392,
          "time": 1616755222.4822907
         },
         {
          "cpu_percent": 197.2,
          "cpu_time": 8.489999999999998,
          "name": "ReadCsvProjectSpace_1",
          "real_mem": 601268224,
          "time": 1616755222.5435886
         },
         {
          "cpu_percent": 295,
          "cpu_time": 8.85,
          "name": "SelectData_1",
          "real_mem": 610775040,
          "time": 1616755222.7588122
         },
         {
          "cpu_percent": 182,
          "cpu_time": 8.979999999999999,
          "name": "ReadCsvProjectSpace_1",
          "real_mem": 612876288,
          "time": 1616755222.817604
         },
         {
          "cpu_percent": 197.3,
          "cpu_time": 9.4,
          "name": "SelectData_1",
          "real_mem": 628899840,
          "time": 1616755223.0315642
         },
         {
          "cpu_percent": 293.4,
          "cpu_time": 9.510000000000002,
          "name": "ReadCsvProjectSpace_1",
          "real_mem": 630034432,
          "time": 1616755223.0915232
         },
         {
          "cpu_percent": 197.3,
          "cpu_time": 9.92,
          "name": "SelectData_1",
          "real_mem": 643125248,
          "time": 1616755223.304011
         },
         {
          "cpu_percent": 196.2,
          "cpu_time": 10.030000000000001,
          "name": "ReadCsvProjectSpace_1",
          "real_mem": 642117632,
          "time": 1616755223.3648634
         },
         {
          "cpu_percent": 196.3,
          "cpu_time": 10.450000000000001,
          "name": "SelectData_1",
          "real_mem": 654852096,
          "time": 1616755223.576799
         },
         {
          "cpu_percent": 194.8,
          "cpu_time": 10.57,
          "name": "ReadCsvProjectSpace_1",
          "real_mem": 660353024,
          "time": 1616755223.6376617
         },
         {
          "cpu_percent": 97.6,
          "cpu_time": 10.99,
          "name": "SelectData_1",
          "real_mem": 675778560,
          "time": 1616755223.8514695
         },
         {
          "cpu_percent": 295.2,
          "cpu_time": 11.12,
          "name": "ReadCsvProjectSpace_1",
          "real_mem": 682364928,
          "time": 1616755223.9109702
         },
         {
          "cpu_percent": 197.6,
          "cpu_time": 11.54,
          "name": "SelectData_1",
          "real_mem": 691417088,
          "time": 1616755224.124298
         },
         {
          "cpu_percent": 96.8,
          "cpu_time": 11.64,
          "name": "ReadCsvProjectSpace_1",
          "real_mem": 694386688,
          "time": 1616755224.183797
         },
         {
          "cpu_percent": 98.3,
          "cpu_time": 11.97,
          "name": "SelectData_1",
          "real_mem": 708481024,
          "time": 1616755224.3966405
         },
         {
          "cpu_percent": 96.8,
          "cpu_time": 12.07,
          "name": "ReadCsvProjectSpace_1",
          "real_mem": 724033536,
          "time": 1616755224.4565036
         },
         {
          "cpu_percent": 196.4,
          "cpu_time": 12.42,
          "name": "SelectData_1",
          "real_mem": 742768640,
          "time": 1616755224.66982
         },
         {
          "cpu_percent": 196.4,
          "cpu_time": 12.52,
          "name": "ReadCsvProjectSpace_1",
          "real_mem": 743567360,
          "time": 1616755224.7296042
         },
         {
          "cpu_percent": 61.1,
          "cpu_time": 12.79,
          "name": "SelectData_1",
          "real_mem": 747298816,
          "time": 1616755224.9485285
         },
         {
          "cpu_percent": 98.2,
          "cpu_time": 12.879999999999999,
          "name": "ReadCsvProjectSpace_1",
          "real_mem": 749346816,
          "time": 1616755225.002248
         },
         {
          "cpu_percent": 196.5,
          "cpu_time": 13.229999999999999,
          "name": "SelectData_1",
          "real_mem": 753147904,
          "time": 1616755225.2210643
         },
         {
          "cpu_percent": 98.3,
          "cpu_time": 13.29,
          "name": "ReadCsvProjectSpace_1",
          "real_mem": 754094080,
          "time": 1616755225.275138
         },
         {
          "cpu_percent": 197.3,
          "cpu_time": 13.559999999999999,
          "name": "SelectData_1",
          "real_mem": 756887552,
          "time": 1616755225.4936204
         },
         {
          "cpu_percent": 98.2,
          "cpu_time": 13.639999999999999,
          "name": "ReadCsvProjectSpace_1",
          "real_mem": 757551104,
          "time": 1616755225.5484378
         },
         {
          "cpu_percent": 295.3,
          "cpu_time": 14.02,
          "name": "SelectData_1",
          "real_mem": 759730176,
          "time": 1616755225.7663867
         },
         {
          "cpu_percent": 294.9,
          "cpu_time": 14.149999999999999,
          "name": "ReadCsvProjectSpace_1",
          "real_mem": 759988224,
          "time": 1616755225.8210106
         },
         {
          "cpu_percent": 295.2,
          "cpu_time": 14.489999999999998,
          "name": "SelectData_1",
          "real_mem": 762986496,
          "time": 1616755226.0388231
         },
         {
          "cpu_percent": 98.8,
          "cpu_time": 14.59,
          "name": "ReadCsvProjectSpace_1",
          "real_mem": 763744256,
          "time": 1616755226.093376
         },
         {
          "cpu_percent": 98,
          "cpu_time": 14.99,
          "name": "SelectData_1",
          "real_mem": 765939712,
          "time": 1616755226.3123472
         },
         {
          "cpu_percent": 293.4,
          "cpu_time": 15.110000000000001,
          "name": "ReadCsvProjectSpace_1",
          "real_mem": 766005248,
          "time": 1616755226.3661458
         },
         {
          "cpu_percent": 193.8,
          "cpu_time": 15.41,
          "name": "SelectData_1",
          "real_mem": 768409600,
          "time": 1616755226.5855339
         },
         {
          "cpu_percent": 98,
          "cpu_time": 15.51,
          "name": "ReadCsvProjectSpace_1",
          "real_mem": 768716800,
          "time": 1616755226.6401029
         },
         {
          "cpu_percent": 292.1,
          "cpu_time": 15.9,
          "name": "SelectData_1",
          "real_mem": 770514944,
          "time": 1616755226.8585293
         },
         {
          "cpu_percent": 191.7,
          "cpu_time": 16.009999999999998,
          "name": "ReadCsvProjectSpace_1",
          "real_mem": 770809856,
          "time": 1616755226.913028
         },
         {
          "cpu_percent": 97.4,
          "cpu_time": 16.29,
          "name": "SelectData_1",
          "real_mem": 790970368,
          "time": 1616755227.1312292
         },
         {
          "cpu_percent": 98.3,
          "cpu_time": 16.349999999999998,
          "name": "ReadCsvProjectSpace_1",
          "real_mem": 802549760,
          "time": 1616755227.1857998
         },
         {
          "cpu_percent": 196.7,
          "cpu_time": 16.65,
          "name": "SelectData_1",
          "real_mem": 820793344,
          "time": 1616755227.4051032
         },
         {
          "cpu_percent": 98.3,
          "cpu_time": 16.74,
          "name": "ReadCsvProjectSpace_1",
          "real_mem": 820989952,
          "time": 1616755227.458785
         },
         {
          "cpu_percent": 293.8,
          "cpu_time": 17.09,
          "name": "SelectData_1",
          "real_mem": 816721920,
          "time": 1616755227.678134
         },
         {
          "cpu_percent": 194.3,
          "cpu_time": 17.17,
          "name": "ReadCsvProjectSpace_1",
          "real_mem": 817491968,
          "time": 1616755227.7321749
         },
         {
          "cpu_percent": 97.9,
          "cpu_time": 17.46,
          "name": "SelectData_1",
          "real_mem": 821153792,
          "time": 1616755227.9507325
         },
         {
          "cpu_percent": 196.1,
          "cpu_time": 17.560000000000002,
          "name": "ReadCsvProjectSpace_1",
          "real_mem": 821878784,
          "time": 1616755228.0054893
         },
         {
          "cpu_percent": 196.3,
          "cpu_time": 17.98,
          "name": "SelectData_1",
          "real_mem": 832466944,
          "time": 1616755228.2238693
         },
         {
          "cpu_percent": 196.2,
          "cpu_time": 18.080000000000002,
          "name": "ReadCsvProjectSpace_1",
          "real_mem": 835301376,
          "time": 1616755228.27902
         },
         {
          "cpu_percent": 197.3,
          "cpu_time": 18.5,
          "name": "SelectData_1",
          "real_mem": 850784256,
          "time": 1616755228.4966407
         },
         {
          "cpu_percent": 98.3,
          "cpu_time": 18.61,
          "name": "ReadCsvProjectSpace_1",
          "real_mem": 855126016,
          "time": 1616755228.5520558
         },
         {
          "cpu_percent": 295.2,
          "cpu_time": 19.56,
          "name": "SelectData_1",
          "real_mem": 887308288,
          "time": 1616755229.020159
         },
         {
          "cpu_percent": 197.3,
          "cpu_time": 19.65,
          "name": "ReadCsvProjectSpace_1",
          "real_mem": 893571072,
          "time": 1616755229.074792
         },
         {
          "cpu_percent": 196.3,
          "cpu_time": 20.62,
          "name": "SelectData_1",
          "real_mem": 913768448,
          "time": 1616755229.570627
         },
         {
          "cpu_percent": 292.6,
          "cpu_time": 20.700000000000003,
          "name": "ReadCsvProjectSpace_1",
          "real_mem": 913911808,
          "time": 1616755229.5978415
         },
         {
          "cpu_percent": 196.1,
          "cpu_time": 21.669999999999998,
          "name": "SelectData_1",
          "real_mem": 919842816,
          "time": 1616755230.0961146
         },
         {
          "cpu_percent": 196.2,
          "cpu_time": 21.72,
          "name": "ReadCsvProjectSpace_1",
          "real_mem": 920461312,
          "time": 1616755230.1207182
         },
         {
          "cpu_percent": 295,
          "cpu_time": 22.65,
          "name": "SelectData_1",
          "real_mem": 926629888,
          "time": 1616755230.6199062
         },
         {
          "cpu_percent": 196.4,
          "cpu_time": 22.720000000000002,
          "name": "ReadCsvProjectSpace_1",
          "real_mem": 926892032,
          "time": 1616755230.670651
         },
         {
          "cpu_percent": 196.2,
          "cpu_time": 23.61,
          "name": "SelectData_1",
          "real_mem": 928473088,
          "time": 1616755231.1425538
         }
        ],
        "logs": [
         {
          "asctime": "2021-03-26 10:40:16,816",
          "created": 1616755216.8162785,
          "extra": {},
          "filename": "async_executors.py",
          "funcName": "main",
          "levelname": "DEBUG",
          "lineno": 114,
          "message": "NonSparkPath_1: started async block execution\n",
          "name": "engine.logs:NonSparkPath_1",
          "pathname": "/usr/local/lib/python3.7/dist-packages/razor/flow/async_executors.py",
          "process": 248,
          "processName": "ForkProcess-1:2",
          "thread": 140381991880512,
          "threadName": "MainThread"
         },
         {
          "asctime": "2021-03-26 10:40:16,846",
          "created": 1616755216.8462276,
          "extra": {},
          "filename": "async_executors.py",
          "funcName": "fill_atomic_inputs",
          "levelname": "INFO",
          "lineno": 251,
          "message": "NonSparkPath_1: waiting for atomic input: ip_path",
          "name": "engine.logs:NonSparkPath_1",
          "pathname": "/usr/local/lib/python3.7/dist-packages/razor/flow/async_executors.py",
          "process": 248,
          "processName": "ForkProcess-1:2",
          "thread": 140381991880512,
          "threadName": "MainThread"
         },
         {
          "asctime": "2021-03-26 10:40:16,846",
          "created": 1616755216.8464146,
          "extra": {},
          "filename": "async_executors.py",
          "funcName": "fill_atomic_inputs",
          "levelname": "DEBUG",
          "lineno": 254,
          "message": "NonSparkPath_1: got atomic input: df_with_stats.csv",
          "name": "engine.logs:NonSparkPath_1",
          "pathname": "/usr/local/lib/python3.7/dist-packages/razor/flow/async_executors.py",
          "process": 248,
          "processName": "ForkProcess-1:2",
          "thread": 140381991880512,
          "threadName": "MainThread"
         },
         {
          "asctime": "2021-03-26 10:40:16,846",
          "created": 1616755216.8464885,
          "extra": {},
          "filename": "async_executors.py",
          "funcName": "main",
          "levelname": "DEBUG",
          "lineno": 130,
          "message": "NonSparkPath_1: triggering block run",
          "name": "engine.logs:NonSparkPath_1",
          "pathname": "/usr/local/lib/python3.7/dist-packages/razor/flow/async_executors.py",
          "process": 248,
          "processName": "ForkProcess-1:2",
          "thread": 140381991880512,
          "threadName": "MainThread"
         },
         {
          "asctime": "2021-03-26 10:40:16,855",
          "created": 1616755216.8555772,
          "extra": {},
          "filename": "async_executors.py",
          "funcName": "main",
          "levelname": "DEBUG",
          "lineno": 136,
          "message": "NonSparkPath_1: waiting for block to finish",
          "name": "engine.logs:NonSparkPath_1",
          "pathname": "/usr/local/lib/python3.7/dist-packages/razor/flow/async_executors.py",
          "process": 248,
          "processName": "ForkProcess-1:2",
          "thread": 140381991880512,
          "threadName": "MainThread"
         },
         {
          "asctime": "2021-03-26 10:40:16,796",
          "created": 1616755216.796023,
          "extra": {},
          "filename": "async_executors.py",
          "funcName": "main",
          "levelname": "DEBUG",
          "lineno": 114,
          "message": "NonSparkCols_1: started async block execution\n",
          "name": "engine.logs:NonSparkCols_1",
          "pathname": "/usr/local/lib/python3.7/dist-packages/razor/flow/async_executors.py",
          "process": 243,
          "processName": "ForkProcess-1:1",
          "thread": 140381991880512,
          "threadName": "MainThread"
         },
         {
          "asctime": "2021-03-26 10:40:16,829",
          "created": 1616755216.8291912,
          "extra": {},
          "filename": "streams.py",
          "funcName": "flush",
          "levelname": "INFO",
          "lineno": 30,
          "message": "",
          "name": "block.stdout:NonSparkCols_1",
          "pathname": "/usr/local/lib/python3.7/dist-packages/razor/flow/streams.py",
          "process": 243,
          "processName": "ForkProcess-1:1",
          "thread": 140381668763392,
          "threadName": "ThreadPoolExecutor-0_0"
         },
         {
          "asctime": "2021-03-26 10:40:16,829",
          "created": 1616755216.8294628,
          "extra": {},
          "filename": "streams.py",
          "funcName": "flush",
          "levelname": "Level 1",
          "lineno": 30,
          "message": "",
          "name": "block.stderr:NonSparkCols_1",
          "pathname": "/usr/local/lib/python3.7/dist-packages/razor/flow/streams.py",
          "process": 243,
          "processName": "ForkProcess-1:1",
          "thread": 140381668763392,
          "threadName": "ThreadPoolExecutor-0_0"
         },
         {
          "asctime": "2021-03-26 10:40:16,825",
          "created": 1616755216.8255095,
          "extra": {},
          "filename": "async_executors.py",
          "funcName": "fill_atomic_inputs",
          "levelname": "INFO",
          "lineno": 251,
          "message": "NonSparkCols_1: waiting for atomic input: cols_list",
          "name": "engine.logs:NonSparkCols_1",
          "pathname": "/usr/local/lib/python3.7/dist-packages/razor/flow/async_executors.py",
          "process": 243,
          "processName": "ForkProcess-1:1",
          "thread": 140381991880512,
          "threadName": "MainThread"
         },
         {
          "asctime": "2021-03-26 10:40:16,825",
          "created": 1616755216.8257258,
          "extra": {},
          "filename": "async_executors.py",
          "funcName": "fill_atomic_inputs",
          "levelname": "DEBUG",
          "lineno": 254,
          "message": "NonSparkCols_1: got atomic input: ['title', 'label']",
          "name": "engine.logs:NonSparkCols_1",
          "pathname": "/usr/local/lib/python3.7/dist-packages/razor/flow/async_executors.py",
          "process": 243,
          "processName": "ForkProcess-1:1",
          "thread": 140381991880512,
          "threadName": "MainThread"
         },
         {
          "asctime": "2021-03-26 10:40:16,826",
          "created": 1616755216.8260403,
          "extra": {},
          "filename": "async_executors.py",
          "funcName": "main",
          "levelname": "DEBUG",
          "lineno": 130,
          "message": "NonSparkCols_1: triggering block run",
          "name": "engine.logs:NonSparkCols_1",
          "pathname": "/usr/local/lib/python3.7/dist-packages/razor/flow/async_executors.py",
          "process": 243,
          "processName": "ForkProcess-1:1",
          "thread": 140381991880512,
          "threadName": "MainThread"
         },
         {
          "asctime": "2021-03-26 10:40:16,830",
          "created": 1616755216.8301044,
          "extra": {},
          "filename": "async_executors.py",
          "funcName": "main",
          "levelname": "DEBUG",
          "lineno": 136,
          "message": "NonSparkCols_1: waiting for block to finish",
          "name": "engine.logs:NonSparkCols_1",
          "pathname": "/usr/local/lib/python3.7/dist-packages/razor/flow/async_executors.py",
          "process": 243,
          "processName": "ForkProcess-1:1",
          "thread": 140381991880512,
          "threadName": "MainThread"
         },
         {
          "asctime": "2021-03-26 10:40:16,830",
          "created": 1616755216.830456,
          "extra": {},
          "filename": "async_executors.py",
          "funcName": "distribute_output_queue",
          "levelname": "DEBUG",
          "lineno": 315,
          "message": "NonSparkCols_1: ---- dist output: ['title', 'label'] -> ('SelectData_1', 'wanted_cols')",
          "name": "engine.logs:NonSparkCols_1",
          "pathname": "/usr/local/lib/python3.7/dist-packages/razor/flow/async_executors.py",
          "process": 243,
          "processName": "ForkProcess-1:1",
          "thread": 140381991880512,
          "threadName": "MainThread"
         },
         {
          "asctime": "2021-03-26 10:40:16,830",
          "created": 1616755216.8308895,
          "extra": {},
          "filename": "async_executors.py",
          "funcName": "main",
          "levelname": "DEBUG",
          "lineno": 147,
          "message": "NonSparkCols_1: block thread completed",
          "name": "engine.logs:NonSparkCols_1",
          "pathname": "/usr/local/lib/python3.7/dist-packages/razor/flow/async_executors.py",
          "process": 243,
          "processName": "ForkProcess-1:1",
          "thread": 140381991880512,
          "threadName": "MainThread"
         },
         {
          "asctime": "2021-03-26 10:40:16,831",
          "created": 1616755216.8310428,
          "extra": {},
          "filename": "async_executors.py",
          "funcName": "main",
          "levelname": "DEBUG",
          "lineno": 149,
          "message": "NonSparkCols_1: block execution complete",
          "name": "engine.logs:NonSparkCols_1",
          "pathname": "/usr/local/lib/python3.7/dist-packages/razor/flow/async_executors.py",
          "process": 243,
          "processName": "ForkProcess-1:1",
          "thread": 140381991880512,
          "threadName": "MainThread"
         },
         {
          "asctime": "2021-03-26 10:40:16,831",
          "created": 1616755216.8313017,
          "extra": {},
          "filename": "async_executors.py",
          "funcName": "distribute_output_queue",
          "levelname": "DEBUG",
          "lineno": 315,
          "message": "NonSparkCols_1: ---- dist output: b'__!\\tEndOfStream\\t!__' -> ('SelectData_1', 'wanted_cols')",
          "name": "engine.logs:NonSparkCols_1",
          "pathname": "/usr/local/lib/python3.7/dist-packages/razor/flow/async_executors.py",
          "process": 243,
          "processName": "ForkProcess-1:1",
          "thread": 140381991880512,
          "threadName": "MainThread"
         },
         {
          "asctime": "2021-03-26 10:40:17,071",
          "created": 1616755217.0711474,
          "extra": {},
          "filename": "streams.py",
          "funcName": "flush",
          "levelname": "INFO",
          "lineno": 30,
          "message": "",
          "name": "block.stdout:NonSparkPath_1",
          "pathname": "/usr/local/lib/python3.7/dist-packages/razor/flow/streams.py",
          "process": 248,
          "processName": "ForkProcess-1:2",
          "thread": 140381668763392,
          "threadName": "ThreadPoolExecutor-0_0"
         },
         {
          "asctime": "2021-03-26 10:40:17,071",
          "created": 1616755217.0714312,
          "extra": {},
          "filename": "streams.py",
          "funcName": "flush",
          "levelname": "Level 1",
          "lineno": 30,
          "message": "",
          "name": "block.stderr:NonSparkPath_1",
          "pathname": "/usr/local/lib/python3.7/dist-packages/razor/flow/streams.py",
          "process": 248,
          "processName": "ForkProcess-1:2",
          "thread": 140381668763392,
          "threadName": "ThreadPoolExecutor-0_0"
         },
         {
          "asctime": "2021-03-26 10:40:17,072",
          "created": 1616755217.072208,
          "extra": {},
          "filename": "async_executors.py",
          "funcName": "distribute_output_queue",
          "levelname": "DEBUG",
          "lineno": 315,
          "message": "NonSparkPath_1: ---- dist output: /home/aios/work-dir/projectspace/df_with_stats.csv -> ('ReadCsvProjectSpace_1', 'filename')",
          "name": "engine.logs:NonSparkPath_1",
          "pathname": "/usr/local/lib/python3.7/dist-packages/razor/flow/async_executors.py",
          "process": 248,
          "processName": "ForkProcess-1:2",
          "thread": 140381991880512,
          "threadName": "MainThread"
         },
         {
          "asctime": "2021-03-26 10:40:17,072",
          "created": 1616755217.072838,
          "extra": {},
          "filename": "async_executors.py",
          "funcName": "main",
          "levelname": "DEBUG",
          "lineno": 147,
          "message": "NonSparkPath_1: block thread completed",
          "name": "engine.logs:NonSparkPath_1",
          "pathname": "/usr/local/lib/python3.7/dist-packages/razor/flow/async_executors.py",
          "process": 248,
          "processName": "ForkProcess-1:2",
          "thread": 140381991880512,
          "threadName": "MainThread"
         },
         {
          "asctime": "2021-03-26 10:40:17,072",
          "created": 1616755217.0729795,
          "extra": {},
          "filename": "async_executors.py",
          "funcName": "main",
          "levelname": "DEBUG",
          "lineno": 149,
          "message": "NonSparkPath_1: block execution complete",
          "name": "engine.logs:NonSparkPath_1",
          "pathname": "/usr/local/lib/python3.7/dist-packages/razor/flow/async_executors.py",
          "process": 248,
          "processName": "ForkProcess-1:2",
          "thread": 140381991880512,
          "threadName": "MainThread"
         },
         {
          "asctime": "2021-03-26 10:40:17,073",
          "created": 1616755217.0735066,
          "extra": {},
          "filename": "async_executors.py",
          "funcName": "distribute_output_queue",
          "levelname": "DEBUG",
          "lineno": 315,
          "message": "NonSparkPath_1: ---- dist output: b'__!\\tEndOfStream\\t!__' -> ('ReadCsvProjectSpace_1', 'filename')",
          "name": "engine.logs:NonSparkPath_1",
          "pathname": "/usr/local/lib/python3.7/dist-packages/razor/flow/async_executors.py",
          "process": 248,
          "processName": "ForkProcess-1:2",
          "thread": 140381991880512,
          "threadName": "MainThread"
         },
         {
          "asctime": "2021-03-26 10:40:17,100",
          "created": 1616755217.1008358,
          "extra": {},
          "filename": "async_executors.py",
          "funcName": "main",
          "levelname": "DEBUG",
          "lineno": 114,
          "message": "SelectData_1: started async block execution\n",
          "name": "engine.logs:SelectData_1",
          "pathname": "/usr/local/lib/python3.7/dist-packages/razor/flow/async_executors.py",
          "process": 274,
          "processName": "ForkProcess-1:3",
          "thread": 140381991880512,
          "threadName": "MainThread"
         },
         {
          "asctime": "2021-03-26 10:40:17,103",
          "created": 1616755217.103018,
          "extra": {},
          "filename": "async_executors.py",
          "funcName": "main",
          "levelname": "DEBUG",
          "lineno": 114,
          "message": "ReadCsvProjectSpace_1: started async block execution\n",
          "name": "engine.logs:ReadCsvProjectSpace_1",
          "pathname": "/usr/local/lib/python3.7/dist-packages/razor/flow/async_executors.py",
          "process": 274,
          "processName": "ForkProcess-1:3",
          "thread": 140381991880512,
          "threadName": "MainThread"
         },
         {
          "asctime": "2021-03-26 10:40:17,131",
          "created": 1616755217.1318247,
          "extra": {},
          "filename": "async_executors.py",
          "funcName": "fill_atomic_inputs",
          "levelname": "INFO",
          "lineno": 251,
          "message": "SelectData_1: waiting for atomic input: wanted_cols",
          "name": "engine.logs:SelectData_1",
          "pathname": "/usr/local/lib/python3.7/dist-packages/razor/flow/async_executors.py",
          "process": 274,
          "processName": "ForkProcess-1:3",
          "thread": 140381991880512,
          "threadName": "MainThread"
         },
         {
          "asctime": "2021-03-26 10:40:17,173",
          "created": 1616755217.1736822,
          "extra": {},
          "filename": "async_executors.py",
          "funcName": "start_input_receiver",
          "levelname": "DEBUG",
          "lineno": 174,
          "message": "NonSparkCols_1: received cmd: start_sender, (), {'out_name': 'selected_cols', 'target': ('SelectData_1', 'wanted_cols'), 'out_addr': 'tcp://0.0.0.0:61746', 'in_memory': None}",
          "name": "engine.logs:NonSparkCols_1",
          "pathname": "/usr/local/lib/python3.7/dist-packages/razor/flow/async_executors.py",
          "process": 243,
          "processName": "ForkProcess-1:1",
          "thread": 140381991880512,
          "threadName": "MainThread"
         },
         {
          "asctime": "2021-03-26 10:40:17,167",
          "created": 1616755217.1673968,
          "extra": {},
          "filename": "async_executors.py",
          "funcName": "fill_atomic_inputs",
          "levelname": "INFO",
          "lineno": 251,
          "message": "ReadCsvProjectSpace_1: waiting for atomic input: filename",
          "name": "engine.logs:ReadCsvProjectSpace_1",
          "pathname": "/usr/local/lib/python3.7/dist-packages/razor/flow/async_executors.py",
          "process": 274,
          "processName": "ForkProcess-1:3",
          "thread": 140381991880512,
          "threadName": "MainThread"
         },
         {
          "asctime": "2021-03-26 10:40:17,176",
          "created": 1616755217.1762886,
          "extra": {},
          "filename": "async_executors.py",
          "funcName": "start_input_receiver",
          "levelname": "DEBUG",
          "lineno": 178,
          "message": "SelectData_1: received data: wanted_cols, ['title', 'label']",
          "name": "engine.logs:SelectData_1",
          "pathname": "/usr/local/lib/python3.7/dist-packages/razor/flow/async_executors.py",
          "process": 274,
          "processName": "ForkProcess-1:3",
          "thread": 140381991880512,
          "threadName": "MainThread"
         },
         {
          "asctime": "2021-03-26 10:40:17,174",
          "created": 1616755217.1741877,
          "extra": {},
          "filename": "async_executors.py",
          "funcName": "start_output_sender",
          "levelname": "DEBUG",
          "lineno": 378,
          "message": "NonSparkCols_1: got start_sender, selected_cols, ('SelectData_1', 'wanted_cols')",
          "name": "engine.logs:NonSparkCols_1",
          "pathname": "/usr/local/lib/python3.7/dist-packages/razor/flow/async_executors.py",
          "process": 243,
          "processName": "ForkProcess-1:1",
          "thread": 140381991880512,
          "threadName": "MainThread"
         },
         {
          "asctime": "2021-03-26 10:40:17,176",
          "created": 1616755217.1767318,
          "extra": {},
          "filename": "async_executors.py",
          "funcName": "start_input_receiver",
          "levelname": "DEBUG",
          "lineno": 178,
          "message": "SelectData_1: received data: wanted_cols, b'__!\\tEndOfStream\\t!__'",
          "name": "engine.logs:SelectData_1",
          "pathname": "/usr/local/lib/python3.7/dist-packages/razor/flow/async_executors.py",
          "process": 274,
          "processName": "ForkProcess-1:3",
          "thread": 140381991880512,
          "threadName": "MainThread"
         },
         {
          "asctime": "2021-03-26 10:40:17,175",
          "created": 1616755217.1753635,
          "extra": {},
          "filename": "async_executors.py",
          "funcName": "start_output_sender",
          "levelname": "DEBUG",
          "lineno": 396,
          "message": "NonSparkCols_1: SENT, wanted_cols, ['title', 'label'], ('SelectData_1', 'wanted_cols')",
          "name": "engine.logs:NonSparkCols_1",
          "pathname": "/usr/local/lib/python3.7/dist-packages/razor/flow/async_executors.py",
          "process": 243,
          "processName": "ForkProcess-1:1",
          "thread": 140381991880512,
          "threadName": "MainThread"
         },
         {
          "asctime": "2021-03-26 10:40:17,177",
          "created": 1616755217.1770868,
          "extra": {},
          "filename": "async_executors.py",
          "funcName": "fill_atomic_inputs",
          "levelname": "DEBUG",
          "lineno": 254,
          "message": "SelectData_1: got atomic input: ['title', 'label']",
          "name": "engine.logs:SelectData_1",
          "pathname": "/usr/local/lib/python3.7/dist-packages/razor/flow/async_executors.py",
          "process": 274,
          "processName": "ForkProcess-1:3",
          "thread": 140381991880512,
          "threadName": "MainThread"
         },
         {
          "asctime": "2021-03-26 10:40:17,175",
          "created": 1616755217.1758082,
          "extra": {},
          "filename": "async_executors.py",
          "funcName": "start_output_sender",
          "levelname": "DEBUG",
          "lineno": 396,
          "message": "NonSparkCols_1: SENT, wanted_cols, b'__!\\tEndOfStream\\t!__', ('SelectData_1', 'wanted_cols')",
          "name": "engine.logs:NonSparkCols_1",
          "pathname": "/usr/local/lib/python3.7/dist-packages/razor/flow/async_executors.py",
          "process": 243,
          "processName": "ForkProcess-1:1",
          "thread": 140381991880512,
          "threadName": "MainThread"
         },
         {
          "asctime": "2021-03-26 10:40:17,177",
          "created": 1616755217.1771822,
          "extra": {},
          "filename": "async_executors.py",
          "funcName": "fill_atomic_inputs",
          "levelname": "INFO",
          "lineno": 251,
          "message": "SelectData_1: waiting for atomic input: inputData",
          "name": "engine.logs:SelectData_1",
          "pathname": "/usr/local/lib/python3.7/dist-packages/razor/flow/async_executors.py",
          "process": 274,
          "processName": "ForkProcess-1:3",
          "thread": 140381991880512,
          "threadName": "MainThread"
         },
         {
          "asctime": "2021-03-26 10:40:17,176",
          "created": 1616755217.1761692,
          "extra": {},
          "filename": "async_executors.py",
          "funcName": "start_output_sender",
          "levelname": "DEBUG",
          "lineno": 399,
          "message": "NonSparkCols_1: completed output: ('selected_cols', ('SelectData_1', 'wanted_cols'))",
          "name": "engine.logs:NonSparkCols_1",
          "pathname": "/usr/local/lib/python3.7/dist-packages/razor/flow/async_executors.py",
          "process": 243,
          "processName": "ForkProcess-1:1",
          "thread": 140381991880512,
          "threadName": "MainThread"
         },
         {
          "asctime": "2021-03-26 10:40:17,184",
          "created": 1616755217.1845627,
          "extra": {},
          "filename": "async_executors.py",
          "funcName": "start_input_receiver",
          "levelname": "DEBUG",
          "lineno": 174,
          "message": "NonSparkCols_1: received cmd: terminate, (), {}",
          "name": "engine.logs:NonSparkCols_1",
          "pathname": "/usr/local/lib/python3.7/dist-packages/razor/flow/async_executors.py",
          "process": 243,
          "processName": "ForkProcess-1:1",
          "thread": 140381991880512,
          "threadName": "MainThread"
         },
         {
          "asctime": "2021-03-26 10:40:17,184",
          "created": 1616755217.1843138,
          "extra": {},
          "filename": "async_executors.py",
          "funcName": "start_input_receiver",
          "levelname": "DEBUG",
          "lineno": 174,
          "message": "NonSparkPath_1: received cmd: start_sender, (), {'out_name': 'op_path', 'target': ('ReadCsvProjectSpace_1', 'filename'), 'out_addr': 'tcp://0.0.0.0:60252', 'in_memory': None}",
          "name": "engine.logs:NonSparkPath_1",
          "pathname": "/usr/local/lib/python3.7/dist-packages/razor/flow/async_executors.py",
          "process": 248,
          "processName": "ForkProcess-1:2",
          "thread": 140381991880512,
          "threadName": "MainThread"
         },
         {
          "asctime": "2021-03-26 10:40:17,184",
          "created": 1616755217.1846194,
          "extra": {},
          "filename": "async_executors.py",
          "funcName": "start_output_sender",
          "levelname": "DEBUG",
          "lineno": 378,
          "message": "NonSparkPath_1: got start_sender, op_path, ('ReadCsvProjectSpace_1', 'filename')",
          "name": "engine.logs:NonSparkPath_1",
          "pathname": "/usr/local/lib/python3.7/dist-packages/razor/flow/async_executors.py",
          "process": 248,
          "processName": "ForkProcess-1:2",
          "thread": 140381991880512,
          "threadName": "MainThread"
         },
         {
          "asctime": "2021-03-26 10:40:17,185",
          "created": 1616755217.1855214,
          "extra": {},
          "filename": "async_executors.py",
          "funcName": "start_output_sender",
          "levelname": "DEBUG",
          "lineno": 396,
          "message": "NonSparkPath_1: SENT, filename, /home/aios/work-dir/projectspace/df_with_stats.csv, ('ReadCsvProjectSpace_1', 'filename')",
          "name": "engine.logs:NonSparkPath_1",
          "pathname": "/usr/local/lib/python3.7/dist-packages/razor/flow/async_executors.py",
          "process": 248,
          "processName": "ForkProcess-1:2",
          "thread": 140381991880512,
          "threadName": "MainThread"
         },
         {
          "asctime": "2021-03-26 10:40:17,185",
          "created": 1616755217.185863,
          "extra": {},
          "filename": "async_executors.py",
          "funcName": "start_output_sender",
          "levelname": "DEBUG",
          "lineno": 396,
          "message": "NonSparkPath_1: SENT, filename, b'__!\\tEndOfStream\\t!__', ('ReadCsvProjectSpace_1', 'filename')",
          "name": "engine.logs:NonSparkPath_1",
          "pathname": "/usr/local/lib/python3.7/dist-packages/razor/flow/async_executors.py",
          "process": 248,
          "processName": "ForkProcess-1:2",
          "thread": 140381991880512,
          "threadName": "MainThread"
         },
         {
          "asctime": "2021-03-26 10:40:17,186",
          "created": 1616755217.1860855,
          "extra": {},
          "filename": "async_executors.py",
          "funcName": "start_output_sender",
          "levelname": "DEBUG",
          "lineno": 399,
          "message": "NonSparkPath_1: completed output: ('op_path', ('ReadCsvProjectSpace_1', 'filename'))",
          "name": "engine.logs:NonSparkPath_1",
          "pathname": "/usr/local/lib/python3.7/dist-packages/razor/flow/async_executors.py",
          "process": 248,
          "processName": "ForkProcess-1:2",
          "thread": 140381991880512,
          "threadName": "MainThread"
         },
         {
          "asctime": "2021-03-26 10:40:17,187",
          "created": 1616755217.1877072,
          "extra": {},
          "filename": "async_executors.py",
          "funcName": "start_input_receiver",
          "levelname": "DEBUG",
          "lineno": 178,
          "message": "ReadCsvProjectSpace_1: received data: filename, /home/aios/work-dir/projectspace/df_with_stats.csv",
          "name": "engine.logs:ReadCsvProjectSpace_1",
          "pathname": "/usr/local/lib/python3.7/dist-packages/razor/flow/async_executors.py",
          "process": 274,
          "processName": "ForkProcess-1:3",
          "thread": 140381991880512,
          "threadName": "MainThread"
         },
         {
          "asctime": "2021-03-26 10:40:17,188",
          "created": 1616755217.1881902,
          "extra": {},
          "filename": "async_executors.py",
          "funcName": "start_input_receiver",
          "levelname": "DEBUG",
          "lineno": 178,
          "message": "ReadCsvProjectSpace_1: received data: filename, b'__!\\tEndOfStream\\t!__'",
          "name": "engine.logs:ReadCsvProjectSpace_1",
          "pathname": "/usr/local/lib/python3.7/dist-packages/razor/flow/async_executors.py",
          "process": 274,
          "processName": "ForkProcess-1:3",
          "thread": 140381991880512,
          "threadName": "MainThread"
         },
         {
          "asctime": "2021-03-26 10:40:17,193",
          "created": 1616755217.1931174,
          "extra": {},
          "filename": "async_executors.py",
          "funcName": "start_input_receiver",
          "levelname": "DEBUG",
          "lineno": 174,
          "message": "NonSparkPath_1: received cmd: terminate, (), {}",
          "name": "engine.logs:NonSparkPath_1",
          "pathname": "/usr/local/lib/python3.7/dist-packages/razor/flow/async_executors.py",
          "process": 248,
          "processName": "ForkProcess-1:2",
          "thread": 140381991880512,
          "threadName": "MainThread"
         },
         {
          "asctime": "2021-03-26 10:40:17,188",
          "created": 1616755217.1883671,
          "extra": {},
          "filename": "async_executors.py",
          "funcName": "fill_atomic_inputs",
          "levelname": "DEBUG",
          "lineno": 254,
          "message": "ReadCsvProjectSpace_1: got atomic input: /home/aios/work-dir/projectspace/df_with_stats.csv",
          "name": "engine.logs:ReadCsvProjectSpace_1",
          "pathname": "/usr/local/lib/python3.7/dist-packages/razor/flow/async_executors.py",
          "process": 274,
          "processName": "ForkProcess-1:3",
          "thread": 140381991880512,
          "threadName": "MainThread"
         },
         {
          "asctime": "2021-03-26 10:40:17,188",
          "created": 1616755217.188612,
          "extra": {},
          "filename": "async_executors.py",
          "funcName": "fill_atomic_inputs",
          "levelname": "INFO",
          "lineno": 251,
          "message": "ReadCsvProjectSpace_1: waiting for atomic input: config",
          "name": "engine.logs:ReadCsvProjectSpace_1",
          "pathname": "/usr/local/lib/python3.7/dist-packages/razor/flow/async_executors.py",
          "process": 274,
          "processName": "ForkProcess-1:3",
          "thread": 140381991880512,
          "threadName": "MainThread"
         },
         {
          "asctime": "2021-03-26 10:40:17,188",
          "created": 1616755217.1886714,
          "extra": {},
          "filename": "async_executors.py",
          "funcName": "fill_atomic_inputs",
          "levelname": "DEBUG",
          "lineno": 254,
          "message": "ReadCsvProjectSpace_1: got atomic input: {}",
          "name": "engine.logs:ReadCsvProjectSpace_1",
          "pathname": "/usr/local/lib/python3.7/dist-packages/razor/flow/async_executors.py",
          "process": 274,
          "processName": "ForkProcess-1:3",
          "thread": 140381991880512,
          "threadName": "MainThread"
         },
         {
          "asctime": "2021-03-26 10:40:17,188",
          "created": 1616755217.1887195,
          "extra": {},
          "filename": "async_executors.py",
          "funcName": "fill_atomic_inputs",
          "levelname": "INFO",
          "lineno": 251,
          "message": "ReadCsvProjectSpace_1: waiting for atomic input: source",
          "name": "engine.logs:ReadCsvProjectSpace_1",
          "pathname": "/usr/local/lib/python3.7/dist-packages/razor/flow/async_executors.py",
          "process": 274,
          "processName": "ForkProcess-1:3",
          "thread": 140381991880512,
          "threadName": "MainThread"
         },
         {
          "asctime": "2021-03-26 10:40:17,188",
          "created": 1616755217.1887612,
          "extra": {},
          "filename": "async_executors.py",
          "funcName": "fill_atomic_inputs",
          "levelname": "DEBUG",
          "lineno": 254,
          "message": "ReadCsvProjectSpace_1: got atomic input: ",
          "name": "engine.logs:ReadCsvProjectSpace_1",
          "pathname": "/usr/local/lib/python3.7/dist-packages/razor/flow/async_executors.py",
          "process": 274,
          "processName": "ForkProcess-1:3",
          "thread": 140381991880512,
          "threadName": "MainThread"
         },
         {
          "asctime": "2021-03-26 10:40:17,188",
          "created": 1616755217.1888025,
          "extra": {},
          "filename": "async_executors.py",
          "funcName": "main",
          "levelname": "DEBUG",
          "lineno": 130,
          "message": "ReadCsvProjectSpace_1: triggering block run",
          "name": "engine.logs:ReadCsvProjectSpace_1",
          "pathname": "/usr/local/lib/python3.7/dist-packages/razor/flow/async_executors.py",
          "process": 274,
          "processName": "ForkProcess-1:3",
          "thread": 140381991880512,
          "threadName": "MainThread"
         },
         {
          "asctime": "2021-03-26 10:40:17,191",
          "created": 1616755217.1913276,
          "extra": {},
          "filename": "async_executors.py",
          "funcName": "main",
          "levelname": "DEBUG",
          "lineno": 136,
          "message": "ReadCsvProjectSpace_1: waiting for block to finish",
          "name": "engine.logs:ReadCsvProjectSpace_1",
          "pathname": "/usr/local/lib/python3.7/dist-packages/razor/flow/async_executors.py",
          "process": 274,
          "processName": "ForkProcess-1:3",
          "thread": 140381991880512,
          "threadName": "MainThread"
         },
         {
          "asctime": "2021-03-26 10:40:30,969",
          "created": 1616755230.969552,
          "extra": {},
          "filename": "streams.py",
          "funcName": "flush",
          "levelname": "INFO",
          "lineno": 30,
          "message": "Data Schema\nroot\n |-- filename: string (nullable = true)\n |-- url: string (nullable = true)\n |-- text: string (nullable = true)\n |-- title: string (nullable = true)\n |-- authors: string (nullable = true)\n |-- description: string (nullable = true)\n |-- generatorsite_name: string (nullable = true)\n |-- site: string (nullable = true)\n |-- publisher: string (nullable = true)\n |-- source: string (nullable = true)\n |-- keywords: string (nullable = true)\n |-- label: string (nullable = true)\n |-- generator: string (nullable = true)\n |-- site_name: string (nullable = true)\n |-- author_real_fake: string (nullable = true)\n |-- site_real_fake: string (nullable = true)\n |-- source_real_fake: string (nullable = true)\n\n",
          "name": "block.stdout:ReadCsvProjectSpace_1",
          "pathname": "/usr/local/lib/python3.7/dist-packages/razor/flow/streams.py",
          "process": 274,
          "processName": "ForkProcess-1:3",
          "thread": 140381910279936,
          "threadName": "ThreadPoolExecutor-0_0"
         },
         {
          "asctime": "2021-03-26 10:40:31,013",
          "created": 1616755231.0131376,
          "extra": {},
          "filename": "async_executors.py",
          "funcName": "distribute_output_queue",
          "levelname": "DEBUG",
          "lineno": 315,
          "message": "ReadCsvProjectSpace_1: ---- dist output: DataFrame[filename: string, url: string, text: string, title: string, authors: string, description: string, generatorsite_name: string, site: string, publisher: string, source: string, keywords: string, label: string, generator: string, site_name: string, author_real_fake: string, site_real_fake: string, source_real_fake: string] -> ('SelectData_1', 'inputData')",
          "name": "engine.logs:ReadCsvProjectSpace_1",
          "pathname": "/usr/local/lib/python3.7/dist-packages/razor/flow/async_executors.py",
          "process": 274,
          "processName": "ForkProcess-1:3",
          "thread": 140381991880512,
          "threadName": "MainThread"
         },
         {
          "asctime": "2021-03-26 10:40:31,013",
          "created": 1616755231.0136857,
          "extra": {},
          "filename": "async_executors.py",
          "funcName": "main",
          "levelname": "DEBUG",
          "lineno": 147,
          "message": "ReadCsvProjectSpace_1: block thread completed",
          "name": "engine.logs:ReadCsvProjectSpace_1",
          "pathname": "/usr/local/lib/python3.7/dist-packages/razor/flow/async_executors.py",
          "process": 274,
          "processName": "ForkProcess-1:3",
          "thread": 140381991880512,
          "threadName": "MainThread"
         },
         {
          "asctime": "2021-03-26 10:40:31,013",
          "created": 1616755231.0137997,
          "extra": {},
          "filename": "async_executors.py",
          "funcName": "main",
          "levelname": "DEBUG",
          "lineno": 149,
          "message": "ReadCsvProjectSpace_1: block execution complete",
          "name": "engine.logs:ReadCsvProjectSpace_1",
          "pathname": "/usr/local/lib/python3.7/dist-packages/razor/flow/async_executors.py",
          "process": 274,
          "processName": "ForkProcess-1:3",
          "thread": 140381991880512,
          "threadName": "MainThread"
         },
         {
          "asctime": "2021-03-26 10:40:31,014",
          "created": 1616755231.0141046,
          "extra": {},
          "filename": "async_executors.py",
          "funcName": "distribute_output_queue",
          "levelname": "DEBUG",
          "lineno": 315,
          "message": "ReadCsvProjectSpace_1: ---- dist output: b'__!\\tEndOfStream\\t!__' -> ('SelectData_1', 'inputData')",
          "name": "engine.logs:ReadCsvProjectSpace_1",
          "pathname": "/usr/local/lib/python3.7/dist-packages/razor/flow/async_executors.py",
          "process": 274,
          "processName": "ForkProcess-1:3",
          "thread": 140381991880512,
          "threadName": "MainThread"
         },
         {
          "asctime": "2021-03-26 10:40:31,017",
          "created": 1616755231.0177321,
          "extra": {},
          "filename": "async_executors.py",
          "funcName": "start_input_receiver",
          "levelname": "DEBUG",
          "lineno": 174,
          "message": "ReadCsvProjectSpace_1: received cmd: start_sender, (), {'out_name': 'data', 'target': ('SelectData_1', 'inputData'), 'out_addr': 'tcp://0.0.0.0:61746', 'in_memory': True}",
          "name": "engine.logs:ReadCsvProjectSpace_1",
          "pathname": "/usr/local/lib/python3.7/dist-packages/razor/flow/async_executors.py",
          "process": 274,
          "processName": "ForkProcess-1:3",
          "thread": 140381991880512,
          "threadName": "MainThread"
         },
         {
          "asctime": "2021-03-26 10:40:31,018",
          "created": 1616755231.0182626,
          "extra": {},
          "filename": "async_executors.py",
          "funcName": "start_output_sender",
          "levelname": "DEBUG",
          "lineno": 378,
          "message": "ReadCsvProjectSpace_1: got start_sender, data, ('SelectData_1', 'inputData')",
          "name": "engine.logs:ReadCsvProjectSpace_1",
          "pathname": "/usr/local/lib/python3.7/dist-packages/razor/flow/async_executors.py",
          "process": 274,
          "processName": "ForkProcess-1:3",
          "thread": 140381991880512,
          "threadName": "MainThread"
         },
         {
          "asctime": "2021-03-26 10:40:31,019",
          "created": 1616755231.0196073,
          "extra": {},
          "filename": "async_executors.py",
          "funcName": "start_output_sender",
          "levelname": "DEBUG",
          "lineno": 383,
          "message": "ReadCsvProjectSpace_1: SENT, inputData, DataFrame[filename: string, url: string, text: string, title: string, authors: string, description: string, generatorsite_name: string, site: string, publisher: string, source: string, keywords: string, label: string, generator: string, site_name: string, author_real_fake: string, site_real_fake: string, source_real_fake: string], ('SelectData_1', 'inputData')",
          "name": "engine.logs:ReadCsvProjectSpace_1",
          "pathname": "/usr/local/lib/python3.7/dist-packages/razor/flow/async_executors.py",
          "process": 274,
          "processName": "ForkProcess-1:3",
          "thread": 140381991880512,
          "threadName": "MainThread"
         },
         {
          "asctime": "2021-03-26 10:40:31,019",
          "created": 1616755231.0198917,
          "extra": {},
          "filename": "async_executors.py",
          "funcName": "start_output_sender",
          "levelname": "DEBUG",
          "lineno": 383,
          "message": "ReadCsvProjectSpace_1: SENT, inputData, b'__!\\tEndOfStream\\t!__', ('SelectData_1', 'inputData')",
          "name": "engine.logs:ReadCsvProjectSpace_1",
          "pathname": "/usr/local/lib/python3.7/dist-packages/razor/flow/async_executors.py",
          "process": 274,
          "processName": "ForkProcess-1:3",
          "thread": 140381991880512,
          "threadName": "MainThread"
         },
         {
          "asctime": "2021-03-26 10:40:31,020",
          "created": 1616755231.0200648,
          "extra": {},
          "filename": "async_executors.py",
          "funcName": "start_output_sender",
          "levelname": "DEBUG",
          "lineno": 387,
          "message": "ReadCsvProjectSpace_1: completed output: ('data', ('SelectData_1', 'inputData'))",
          "name": "engine.logs:ReadCsvProjectSpace_1",
          "pathname": "/usr/local/lib/python3.7/dist-packages/razor/flow/async_executors.py",
          "process": 274,
          "processName": "ForkProcess-1:3",
          "thread": 140381991880512,
          "threadName": "MainThread"
         },
         {
          "asctime": "2021-03-26 10:40:31,022",
          "created": 1616755231.0221548,
          "extra": {},
          "filename": "async_executors.py",
          "funcName": "fill_atomic_inputs",
          "levelname": "DEBUG",
          "lineno": 254,
          "message": "SelectData_1: got atomic input: DataFrame[filename: string, url: string, text: string, title: string, authors: string, description: string, generatorsite_name: string, site: string, publisher: string, source: string, keywords: string, label: string, generator: string, site_name: string, author_real_fake: string, site_real_fake: string, source_real_fake: string]",
          "name": "engine.logs:SelectData_1",
          "pathname": "/usr/local/lib/python3.7/dist-packages/razor/flow/async_executors.py",
          "process": 274,
          "processName": "ForkProcess-1:3",
          "thread": 140381991880512,
          "threadName": "MainThread"
         },
         {
          "asctime": "2021-03-26 10:40:31,022",
          "created": 1616755231.0223405,
          "extra": {},
          "filename": "async_executors.py",
          "funcName": "fill_atomic_inputs",
          "levelname": "INFO",
          "lineno": 251,
          "message": "SelectData_1: waiting for atomic input: config",
          "name": "engine.logs:SelectData_1",
          "pathname": "/usr/local/lib/python3.7/dist-packages/razor/flow/async_executors.py",
          "process": 274,
          "processName": "ForkProcess-1:3",
          "thread": 140381991880512,
          "threadName": "MainThread"
         },
         {
          "asctime": "2021-03-26 10:40:31,022",
          "created": 1616755231.0224798,
          "extra": {},
          "filename": "async_executors.py",
          "funcName": "fill_atomic_inputs",
          "levelname": "DEBUG",
          "lineno": 254,
          "message": "SelectData_1: got atomic input: {}",
          "name": "engine.logs:SelectData_1",
          "pathname": "/usr/local/lib/python3.7/dist-packages/razor/flow/async_executors.py",
          "process": 274,
          "processName": "ForkProcess-1:3",
          "thread": 140381991880512,
          "threadName": "MainThread"
         },
         {
          "asctime": "2021-03-26 10:40:31,022",
          "created": 1616755231.0225658,
          "extra": {},
          "filename": "async_executors.py",
          "funcName": "fill_atomic_inputs",
          "levelname": "INFO",
          "lineno": 251,
          "message": "SelectData_1: waiting for atomic input: source",
          "name": "engine.logs:SelectData_1",
          "pathname": "/usr/local/lib/python3.7/dist-packages/razor/flow/async_executors.py",
          "process": 274,
          "processName": "ForkProcess-1:3",
          "thread": 140381991880512,
          "threadName": "MainThread"
         },
         {
          "asctime": "2021-03-26 10:40:31,025",
          "created": 1616755231.0255167,
          "extra": {},
          "filename": "async_executors.py",
          "funcName": "start_input_receiver",
          "levelname": "DEBUG",
          "lineno": 174,
          "message": "ReadCsvProjectSpace_1: received cmd: terminate, (), {}",
          "name": "engine.logs:ReadCsvProjectSpace_1",
          "pathname": "/usr/local/lib/python3.7/dist-packages/razor/flow/async_executors.py",
          "process": 274,
          "processName": "ForkProcess-1:3",
          "thread": 140381991880512,
          "threadName": "MainThread"
         },
         {
          "asctime": "2021-03-26 10:40:31,022",
          "created": 1616755231.022663,
          "extra": {},
          "filename": "async_executors.py",
          "funcName": "fill_atomic_inputs",
          "levelname": "DEBUG",
          "lineno": 254,
          "message": "SelectData_1: got atomic input: ",
          "name": "engine.logs:SelectData_1",
          "pathname": "/usr/local/lib/python3.7/dist-packages/razor/flow/async_executors.py",
          "process": 274,
          "processName": "ForkProcess-1:3",
          "thread": 140381991880512,
          "threadName": "MainThread"
         },
         {
          "asctime": "2021-03-26 10:40:31,022",
          "created": 1616755231.0227504,
          "extra": {},
          "filename": "async_executors.py",
          "funcName": "main",
          "levelname": "DEBUG",
          "lineno": 130,
          "message": "SelectData_1: triggering block run",
          "name": "engine.logs:SelectData_1",
          "pathname": "/usr/local/lib/python3.7/dist-packages/razor/flow/async_executors.py",
          "process": 274,
          "processName": "ForkProcess-1:3",
          "thread": 140381991880512,
          "threadName": "MainThread"
         },
         {
          "asctime": "2021-03-26 10:40:31,023",
          "created": 1616755231.0239918,
          "extra": {},
          "filename": "async_executors.py",
          "funcName": "main",
          "levelname": "DEBUG",
          "lineno": 136,
          "message": "SelectData_1: waiting for block to finish",
          "name": "engine.logs:SelectData_1",
          "pathname": "/usr/local/lib/python3.7/dist-packages/razor/flow/async_executors.py",
          "process": 274,
          "processName": "ForkProcess-1:3",
          "thread": 140381991880512,
          "threadName": "MainThread"
         },
         {
          "asctime": "2021-03-26 10:40:31,589",
          "created": 1616755231.5894747,
          "extra": {},
          "filename": "streams.py",
          "funcName": "flush",
          "levelname": "INFO",
          "lineno": 30,
          "message": "+--------------------+--------------------+\n|               title|               label|\n+--------------------+--------------------+\n|                null|                null|\n| the same newspap...|                null|\n|         \"\" it read.|                null|\n|                null|                null|\n|                null|                null|\n|                null|                null|\n|                null|                null|\n|                null|                null|\n|                null|                null|\n|                null|                null|\n|                null|                null|\n|                null|                null|\n|                null|                null|\n|                null|                null|\n| in Scotland Reut...| Bedfordshire. He...|\n|                null|                null|\n|           and Lance|                null|\n| a film based on ...|Tom Daley,Dustin ...|\n|                null|                null|\n| thus the series’...|                null|\n+--------------------+--------------------+\nonly showing top 20 rows\n\n",
          "name": "block.stdout:SelectData_1",
          "pathname": "/usr/local/lib/python3.7/dist-packages/razor/flow/streams.py",
          "process": 274,
          "processName": "ForkProcess-1:3",
          "thread": 140381247133440,
          "threadName": "ThreadPoolExecutor-0_1"
         },
         {
          "asctime": "2021-03-26 10:40:31,592",
          "created": 1616755231.5920835,
          "extra": {},
          "filename": "streams.py",
          "funcName": "flush",
          "levelname": "Level 1",
          "lineno": 30,
          "message": "",
          "name": "block.stderr:SelectData_1",
          "pathname": "/usr/local/lib/python3.7/dist-packages/razor/flow/streams.py",
          "process": 274,
          "processName": "ForkProcess-1:3",
          "thread": 140381247133440,
          "threadName": "ThreadPoolExecutor-0_1"
         },
         {
          "asctime": "2021-03-26 10:40:31,592",
          "created": 1616755231.5927799,
          "extra": {},
          "filename": "async_executors.py",
          "funcName": "main",
          "levelname": "DEBUG",
          "lineno": 147,
          "message": "SelectData_1: block thread completed",
          "name": "engine.logs:SelectData_1",
          "pathname": "/usr/local/lib/python3.7/dist-packages/razor/flow/async_executors.py",
          "process": 274,
          "processName": "ForkProcess-1:3",
          "thread": 140381991880512,
          "threadName": "MainThread"
         },
         {
          "asctime": "2021-03-26 10:40:31,592",
          "created": 1616755231.5929825,
          "extra": {},
          "filename": "async_executors.py",
          "funcName": "main",
          "levelname": "DEBUG",
          "lineno": 149,
          "message": "SelectData_1: block execution complete",
          "name": "engine.logs:SelectData_1",
          "pathname": "/usr/local/lib/python3.7/dist-packages/razor/flow/async_executors.py",
          "process": 274,
          "processName": "ForkProcess-1:3",
          "thread": 140381991880512,
          "threadName": "MainThread"
         },
         {
          "asctime": "2021-03-26 10:40:31,599",
          "created": 1616755231.5999396,
          "extra": {},
          "filename": "async_executors.py",
          "funcName": "start_input_receiver",
          "levelname": "DEBUG",
          "lineno": 174,
          "message": "SelectData_1: received cmd: terminate, (), {}",
          "name": "engine.logs:SelectData_1",
          "pathname": "/usr/local/lib/python3.7/dist-packages/razor/flow/async_executors.py",
          "process": 274,
          "processName": "ForkProcess-1:3",
          "thread": 140381991880512,
          "threadName": "MainThread"
         }
        ],
        "meta": {
         "block_status": {
          "NonSparkCols_1": "SUCCESS",
          "NonSparkPath_1": "SUCCESS",
          "ReadCsvProjectSpace_1": "SUCCESS",
          "SelectData_1": "SUCCESS"
         },
         "blocks": [
          {
           "class_name": "ReadCsvProjectSpace",
           "fullname": "razor.project.blocks.sourya_spark_blocks.ReadCsvProjectSpace",
           "id": "466b13bc-bbc0-4844-b6dd-4ed9581192be",
           "inputs": [
            {
             "dataType": "string",
             "default": "",
             "flow": "atomic",
             "help": null,
             "isdict": false,
             "islist": false,
             "label": "filename",
             "meta": {},
             "name": "filename",
             "series": false,
             "type": "str",
             "type_check": true
            },
            {
             "dataType": "dict",
             "default": {},
             "flow": "atomic",
             "help": null,
             "isdict": false,
             "islist": false,
             "label": "config",
             "meta": {},
             "name": "config",
             "series": false,
             "type": "dict",
             "type_check": true
            },
            {
             "dataType": "string",
             "default": "",
             "flow": "atomic",
             "help": null,
             "isdict": false,
             "islist": false,
             "label": "source",
             "meta": {},
             "name": "source",
             "series": false,
             "type": "str",
             "type_check": true
            }
           ],
           "outputs": [
            {
             "flow": "atomic",
             "help": null,
             "label": "data",
             "meta": {},
             "name": "data",
             "series": false,
             "type": "DataFrame",
             "type_check": true
            }
           ],
           "overwritten": false,
           "published": true,
           "var_names": [
            "ReadCsvProjectSpace"
           ]
          },
          {
           "class_name": "NonSparkCols",
           "fullname": "razor.project.blocks.sourya_spark_blocks.NonSparkCols",
           "id": "e672ccf9-5e7c-45e7-b56d-4140e716cec3",
           "inputs": [
            {
             "dataType": null,
             "default": null,
             "flow": "atomic",
             "help": null,
             "isdict": false,
             "islist": false,
             "label": "cols_list",
             "meta": {},
             "name": "cols_list",
             "series": false,
             "type": "Any",
             "type_check": true
            }
           ],
           "outputs": [
            {
             "flow": "atomic",
             "help": null,
             "label": "selected_cols",
             "meta": {},
             "name": "selected_cols",
             "series": false,
             "type": "Any",
             "type_check": true
            }
           ],
           "overwritten": false,
           "published": true,
           "var_names": [
            "NonSparkCols"
           ]
          },
          {
           "class_name": "SelectData",
           "fullname": "razor.project.blocks.sourya_spark_blocks.SelectData",
           "id": "abc4cb71-fe64-42dd-a35d-60d4ee4349a4",
           "inputs": [
            {
             "dataType": null,
             "default": null,
             "flow": "atomic",
             "help": null,
             "isdict": false,
             "islist": false,
             "label": "wanted_cols",
             "meta": {},
             "name": "wanted_cols",
             "series": false,
             "type": "Any",
             "type_check": true
            },
            {
             "dataType": null,
             "default": null,
             "flow": "atomic",
             "help": null,
             "isdict": false,
             "islist": false,
             "label": "inputData",
             "meta": {},
             "name": "inputData",
             "series": false,
             "type": "DataFrame",
             "type_check": true
            },
            {
             "dataType": "dict",
             "default": {},
             "flow": "atomic",
             "help": null,
             "isdict": false,
             "islist": false,
             "label": "config",
             "meta": {},
             "name": "config",
             "series": false,
             "type": "dict",
             "type_check": true
            },
            {
             "dataType": "string",
             "default": "",
             "flow": "atomic",
             "help": null,
             "isdict": false,
             "islist": false,
             "label": "source",
             "meta": {},
             "name": "source",
             "series": false,
             "type": "str",
             "type_check": true
            }
           ],
           "outputs": [
            {
             "flow": "atomic",
             "help": null,
             "label": "outputData",
             "meta": {},
             "name": "outputData",
             "series": false,
             "type": "DataFrame",
             "type_check": true
            }
           ],
           "overwritten": false,
           "published": true,
           "var_names": [
            "SelectData"
           ]
          },
          {
           "class_name": "NonSparkPath",
           "fullname": "razor.project.blocks.sourya_spark_blocks.NonSparkPath",
           "id": "4c444056-24c0-43b5-9cab-44370ef74879",
           "inputs": [
            {
             "dataType": "string",
             "default": "",
             "flow": "atomic",
             "help": null,
             "isdict": false,
             "islist": false,
             "label": "ip_path",
             "meta": {},
             "name": "ip_path",
             "series": false,
             "type": "str",
             "type_check": true
            }
           ],
           "outputs": [
            {
             "flow": "atomic",
             "help": null,
             "label": "op_path",
             "meta": {},
             "name": "op_path",
             "series": false,
             "type": "str",
             "type_check": true
            }
           ],
           "overwritten": false,
           "published": true,
           "var_names": [
            "NonSparkPath"
           ]
          }
         ],
         "connections": [
          {
           "id": "c5e98014-f4a3-4af4-9415-9437a4274234",
           "source": {
            "adapter": false,
            "instance_id": "24450364-5b9f-46b5-b7f7-047d6dadbdd7",
            "name": "op_path"
           },
           "target": {
            "adapter": false,
            "instance_id": "6ff29f52-eeed-43cd-842f-a54502a04c21",
            "name": "filename"
           }
          },
          {
           "id": "df91e30b-c238-470c-8e18-0bcfb3b452d5",
           "source": {
            "adapter": false,
            "instance_id": "6ff29f52-eeed-43cd-842f-a54502a04c21",
            "name": "data"
           },
           "target": {
            "adapter": false,
            "instance_id": "b98b32b2-cea2-442e-b709-d82a76bd0c84",
            "name": "inputData"
           }
          },
          {
           "id": "d7b88720-a136-474f-bbe0-2138da27df46",
           "source": {
            "adapter": false,
            "instance_id": "8a77e96f-1427-4b3c-8c73-a30f49b9a6ee",
            "name": "selected_cols"
           },
           "target": {
            "adapter": false,
            "instance_id": "b98b32b2-cea2-442e-b709-d82a76bd0c84",
            "name": "wanted_cols"
           }
          }
         ],
         "end": 1616755231.604031,
         "id": "6814296d-0429-4c3c-b18a-154829b4dd1f",
         "instances": [
          {
           "block_class": "abc4cb71-fe64-42dd-a35d-60d4ee4349a4",
           "id": "b98b32b2-cea2-442e-b709-d82a76bd0c84",
           "name": "SelectData_1",
           "var_names": [
            "sd"
           ]
          },
          {
           "block_class": "e672ccf9-5e7c-45e7-b56d-4140e716cec3",
           "id": "8a77e96f-1427-4b3c-8c73-a30f49b9a6ee",
           "name": "NonSparkCols_1",
           "var_names": [
            "nsc"
           ]
          },
          {
           "block_class": "466b13bc-bbc0-4844-b6dd-4ed9581192be",
           "id": "6ff29f52-eeed-43cd-842f-a54502a04c21",
           "name": "ReadCsvProjectSpace_1",
           "var_names": [
            "rcp"
           ]
          },
          {
           "block_class": "4c444056-24c0-43b5-9cab-44370ef74879",
           "id": "24450364-5b9f-46b5-b7f7-047d6dadbdd7",
           "name": "NonSparkPath_1",
           "var_names": [
            "nsp"
           ]
          }
         ],
         "log_level": 20,
         "name": "pipeline_sd_2",
         "start": 1616755216.7775319,
         "status": "SUCCESS",
         "system_logs": false,
         "var_names": []
        },
        "metrics": {},
        "runtime": {
         "NonSparkCols_1": {
          "end": 1616755217.1809726,
          "load": 1616755216.7795956,
          "start": 1616755216.7900715
         },
         "NonSparkPath_1": {
          "end": 1616755217.1891317,
          "load": 1616755216.7932491,
          "start": 1616755216.806455
         },
         "ReadCsvProjectSpace_1": {
          "end": 1616755231.0218987,
          "load": 1616755217.0751479,
          "start": 1616755217.0936759
         },
         "SelectData_1": {
          "end": 1616755231.5969095,
          "load": 1616755217.0751479,
          "start": 1616755217.0936759
         }
        }
       },
       "store_in_notebook": true
      }
     },
     "output_type": "display_data"
    },
    {
     "name": "stdout",
     "output_type": "stream",
     "text": [
      "NonSparkCols_1 tcp://0.0.0.0:52129\n",
      "NonSparkPath_1 tcp://0.0.0.0:60959\n",
      "SelectData_1 tcp://0.0.0.0:61746\n",
      "ReadCsvProjectSpace_1 tcp://0.0.0.0:60252\n",
      "Data Schema\n",
      "root\n",
      " |-- filename: string (nullable = true)\n",
      " |-- url: string (nullable = true)\n",
      " |-- text: string (nullable = true)\n",
      " |-- title: string (nullable = true)\n",
      " |-- authors: string (nullable = true)\n",
      " |-- description: string (nullable = true)\n",
      " |-- generatorsite_name: string (nullable = true)\n",
      " |-- site: string (nullable = true)\n",
      " |-- publisher: string (nullable = true)\n",
      " |-- source: string (nullable = true)\n",
      " |-- keywords: string (nullable = true)\n",
      " |-- label: string (nullable = true)\n",
      " |-- generator: string (nullable = true)\n",
      " |-- site_name: string (nullable = true)\n",
      " |-- author_real_fake: string (nullable = true)\n",
      " |-- site_real_fake: string (nullable = true)\n",
      " |-- source_real_fake: string (nullable = true)\n",
      "\n",
      "+--------------------+--------------------+\n",
      "|               title|               label|\n",
      "+--------------------+--------------------+\n",
      "|                null|                null|\n",
      "| the same newspap...|                null|\n",
      "|         \"\" it read.|                null|\n",
      "|                null|                null|\n",
      "|                null|                null|\n",
      "|                null|                null|\n",
      "|                null|                null|\n",
      "|                null|                null|\n",
      "|                null|                null|\n",
      "|                null|                null|\n",
      "|                null|                null|\n",
      "|                null|                null|\n",
      "|                null|                null|\n",
      "|                null|                null|\n",
      "| in Scotland Reut...| Bedfordshire. He...|\n",
      "|                null|                null|\n",
      "|           and Lance|                null|\n",
      "| a film based on ...|Tom Daley,Dustin ...|\n",
      "|                null|                null|\n",
      "| thus the series’...|                null|\n",
      "+--------------------+--------------------+\n",
      "only showing top 20 rows\n",
      "\n"
     ]
    },
    {
     "data": {
      "text/plain": [
       "{}"
      ]
     },
     "execution_count": 11,
     "metadata": {},
     "output_type": "execute_result"
    }
   ],
   "source": [
    "pipe.execute()"
   ]
  },
  {
   "cell_type": "code",
   "execution_count": 12,
   "id": "compatible-pattern",
   "metadata": {},
   "outputs": [
    {
     "ename": "TypeError",
     "evalue": "'NoneType' object is not subscriptable",
     "output_type": "error",
     "traceback": [
      "\u001b[0;31m---------------------------------------------------------------------------\u001b[0m",
      "\u001b[0;31mTypeError\u001b[0m                                 Traceback (most recent call last)",
      "\u001b[0;32m<ipython-input-12-716ac1d04f06>\u001b[0m in \u001b[0;36m<module>\u001b[0;34m\u001b[0m\n\u001b[0;32m----> 1\u001b[0;31m \u001b[0mrazor\u001b[0m\u001b[0;34m.\u001b[0m\u001b[0mapi\u001b[0m\u001b[0;34m.\u001b[0m\u001b[0mpipelines\u001b[0m\u001b[0;34m.\u001b[0m\u001b[0msave\u001b[0m\u001b[0;34m(\u001b[0m\u001b[0mpipe\u001b[0m\u001b[0;34m)\u001b[0m\u001b[0;34m\u001b[0m\u001b[0;34m\u001b[0m\u001b[0m\n\u001b[0m",
      "\u001b[0;32m/usr/local/lib/python3.7/dist-packages/razor/api/core/pipeline_manager.py\u001b[0m in \u001b[0;36msave\u001b[0;34m(self, pipeline, pipeline_vars, resources, overwrite)\u001b[0m\n\u001b[1;32m     65\u001b[0m                                                  \u001b[0mpipeline_vars\u001b[0m\u001b[0;34m=\u001b[0m\u001b[0mpipeline_vars\u001b[0m\u001b[0;34m,\u001b[0m\u001b[0;34m\u001b[0m\u001b[0;34m\u001b[0m\u001b[0m\n\u001b[1;32m     66\u001b[0m                                                  \u001b[0mresources\u001b[0m\u001b[0;34m=\u001b[0m\u001b[0mresources\u001b[0m\u001b[0;34m,\u001b[0m\u001b[0;34m\u001b[0m\u001b[0;34m\u001b[0m\u001b[0m\n\u001b[0;32m---> 67\u001b[0;31m                                                  overwrite=overwrite)\n\u001b[0m",
      "\u001b[0;32m/usr/local/lib/python3.7/dist-packages/razor/api/impl/pipeline_manager_impl.py\u001b[0m in \u001b[0;36msave_pipeline\u001b[0;34m(pipeline, pipeline_vars, resources, overwrite)\u001b[0m\n\u001b[1;32m    146\u001b[0m                                                \u001b[0mproject_id\u001b[0m\u001b[0;34m=\u001b[0m\u001b[0mUserContext\u001b[0m\u001b[0;34m.\u001b[0m\u001b[0mproject_id\u001b[0m\u001b[0;34m,\u001b[0m\u001b[0;34m\u001b[0m\u001b[0;34m\u001b[0m\u001b[0m\n\u001b[1;32m    147\u001b[0m                                                \u001b[0mpipeline_vars\u001b[0m\u001b[0;34m=\u001b[0m\u001b[0mpipeline_vars\u001b[0m\u001b[0;34m,\u001b[0m\u001b[0;34m\u001b[0m\u001b[0;34m\u001b[0m\u001b[0m\n\u001b[0;32m--> 148\u001b[0;31m                                                resources=resources if resources else {})\n\u001b[0m\u001b[1;32m    149\u001b[0m \u001b[0;34m\u001b[0m\u001b[0m\n\u001b[1;32m    150\u001b[0m         \u001b[0;31m# Block validation\u001b[0m\u001b[0;34m\u001b[0m\u001b[0;34m\u001b[0m\u001b[0;34m\u001b[0m\u001b[0m\n",
      "\u001b[0;32m/usr/local/lib/python3.7/dist-packages/razor/api/utils/serializers.py\u001b[0m in \u001b[0;36mserialize_to_ide_pipeline\u001b[0;34m(pipeline, engine_id, project_id, pipeline_vars, resources)\u001b[0m\n\u001b[1;32m     41\u001b[0m \u001b[0;34m\u001b[0m\u001b[0m\n\u001b[1;32m     42\u001b[0m         \u001b[0minput_dents\u001b[0m \u001b[0;34m=\u001b[0m \u001b[0mblock\u001b[0m\u001b[0;34m[\u001b[0m\u001b[0;34m\"inputProperty\"\u001b[0m\u001b[0;34m]\u001b[0m\u001b[0;34m.\u001b[0m\u001b[0mkeys\u001b[0m\u001b[0;34m(\u001b[0m\u001b[0;34m)\u001b[0m\u001b[0;34m\u001b[0m\u001b[0;34m\u001b[0m\u001b[0m\n\u001b[0;32m---> 43\u001b[0;31m         \u001b[0mserialise_input_dents\u001b[0m\u001b[0;34m(\u001b[0m\u001b[0mblock\u001b[0m\u001b[0;34m,\u001b[0m \u001b[0minput_dents\u001b[0m\u001b[0;34m)\u001b[0m\u001b[0;34m\u001b[0m\u001b[0;34m\u001b[0m\u001b[0m\n\u001b[0m\u001b[1;32m     44\u001b[0m \u001b[0;34m\u001b[0m\u001b[0m\n\u001b[1;32m     45\u001b[0m         \u001b[0moutput_dents\u001b[0m \u001b[0;34m=\u001b[0m \u001b[0mblock\u001b[0m\u001b[0;34m[\u001b[0m\u001b[0;34m\"outputProperty\"\u001b[0m\u001b[0;34m]\u001b[0m\u001b[0;34m.\u001b[0m\u001b[0mkeys\u001b[0m\u001b[0;34m(\u001b[0m\u001b[0;34m)\u001b[0m\u001b[0;34m\u001b[0m\u001b[0;34m\u001b[0m\u001b[0m\n",
      "\u001b[0;32m/usr/local/lib/python3.7/dist-packages/razor/api/utils/serializers.py\u001b[0m in \u001b[0;36mserialise_input_dents\u001b[0;34m(block, input_dents)\u001b[0m\n\u001b[1;32m     76\u001b[0m \u001b[0;34m\u001b[0m\u001b[0m\n\u001b[1;32m     77\u001b[0m         \u001b[0;31m# Set dataFlowType (series/atomic)\u001b[0m\u001b[0;34m\u001b[0m\u001b[0;34m\u001b[0m\u001b[0;34m\u001b[0m\u001b[0m\n\u001b[0;32m---> 78\u001b[0;31m         \u001b[0mblock\u001b[0m\u001b[0;34m[\u001b[0m\u001b[0;34m\"inputProperty\"\u001b[0m\u001b[0;34m]\u001b[0m\u001b[0;34m[\u001b[0m\u001b[0minp\u001b[0m\u001b[0;34m]\u001b[0m\u001b[0;34m[\u001b[0m\u001b[0;34m\"dataFlowType\"\u001b[0m\u001b[0;34m]\u001b[0m \u001b[0;34m=\u001b[0m \u001b[0;34m\"series\"\u001b[0m \u001b[0;32mif\u001b[0m \u001b[0mblock\u001b[0m\u001b[0;34m[\u001b[0m\u001b[0;34m\"inputProperty\"\u001b[0m\u001b[0;34m]\u001b[0m\u001b[0;34m[\u001b[0m\u001b[0minp\u001b[0m\u001b[0;34m]\u001b[0m\u001b[0;34m[\u001b[0m\u001b[0;34m\"series\"\u001b[0m\u001b[0;34m]\u001b[0m\u001b[0;31m \u001b[0m\u001b[0;31m\\\u001b[0m\u001b[0;34m\u001b[0m\u001b[0;34m\u001b[0m\u001b[0m\n\u001b[0m\u001b[1;32m     79\u001b[0m             \u001b[0;32melse\u001b[0m \u001b[0;34m\"atomic\"\u001b[0m\u001b[0;34m\u001b[0m\u001b[0;34m\u001b[0m\u001b[0m\n\u001b[1;32m     80\u001b[0m \u001b[0;34m\u001b[0m\u001b[0m\n",
      "\u001b[0;31mTypeError\u001b[0m: 'NoneType' object is not subscriptable"
     ]
    }
   ],
   "source": [
    "razor.api.pipelines.save(pipe)"
   ]
  },
  {
   "cell_type": "code",
   "execution_count": null,
   "id": "dedicated-spray",
   "metadata": {},
   "outputs": [],
   "source": []
  },
  {
   "cell_type": "code",
   "execution_count": null,
   "id": "american-silence",
   "metadata": {},
   "outputs": [],
   "source": []
  },
  {
   "cell_type": "code",
   "execution_count": null,
   "id": "exempt-manner",
   "metadata": {},
   "outputs": [],
   "source": []
  }
 ],
 "metadata": {
  "kernelspec": {
   "display_name": "Python 3",
   "language": "python",
   "name": "python3"
  },
  "language_info": {
   "codemirror_mode": {
    "name": "ipython",
    "version": 3
   },
   "file_extension": ".py",
   "mimetype": "text/x-python",
   "name": "python",
   "nbconvert_exporter": "python",
   "pygments_lexer": "ipython3",
   "version": "3.7.10"
  }
 },
 "nbformat": 4,
 "nbformat_minor": 5
}
