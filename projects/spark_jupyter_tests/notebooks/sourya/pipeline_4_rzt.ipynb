{
 "cells": [
  {
   "cell_type": "code",
   "execution_count": 1,
   "id": "resident-kitchen",
   "metadata": {},
   "outputs": [],
   "source": [
    "import razor\n",
    "import razor.flow as rf\n",
    "from razor import api\n",
    "from razor.flow.spark import SparkBlock, SparkExecutor\n",
    "import typing as t"
   ]
  },
  {
   "cell_type": "code",
   "execution_count": 2,
   "id": "quiet-protocol",
   "metadata": {},
   "outputs": [],
   "source": [
    "import os\n",
    "from datetime import datetime, timedelta\n",
    "from pyspark.sql import SparkSession, functions\n",
    "from pyspark.sql.dataframe import DataFrame\n",
    "from datetime import datetime, timedelta\n",
    "from dateutil.relativedelta import relativedelta"
   ]
  },
  {
   "cell_type": "code",
   "execution_count": 3,
   "id": "applicable-candy",
   "metadata": {},
   "outputs": [],
   "source": [
    "\n",
    "from razor.project.blocks.sourya_spark_blocks import NonSparkCols\n",
    "from razor.project.blocks.sourya_spark_blocks import ReadCsvProjectSpace\n",
    "from razor.project.blocks.sourya_spark_blocks import NonSparkPath\n",
    "from razor.project.blocks.sourya_spark_blocks import DropDuplicates\n",
    "from razor.project.blocks.sourya_spark_blocks import RenameCol\n",
    "from razor.project.blocks.sourya_spark_blocks import ConcatData\n",
    "from razor.project.blocks.sourya_spark_blocks import SelectDataDescribe\n",
    "from razor.project.blocks.sourya_spark_blocks import SelectData\n",
    "from razor.project.blocks.sourya_spark_blocks import ReadCsvProjectSpaceETA"
   ]
  },
  {
   "cell_type": "code",
   "execution_count": 4,
   "id": "worth-disabled",
   "metadata": {},
   "outputs": [],
   "source": [
    "def project_space_path(path):\n",
    "    ps = api.datasources('Project Space')\n",
    "    return os.path.join(ps.abspath(), path)\n"
   ]
  },
  {
   "cell_type": "code",
   "execution_count": 5,
   "id": "civic-smell",
   "metadata": {},
   "outputs": [],
   "source": [
    "# @rf.block\n",
    "# class NonSparkPath:\n",
    "#     # Atomic input - csv filename relative to project space\n",
    "#     ip_path: str\n",
    "#     selected_cols: rf.Output[t.Any]\n",
    "#     # Atomic output of type spark DataFrame.\n",
    "#     op_path: rf.Output[str]\n",
    "#     def run(self):\n",
    "#         self.op_path.put(project_space_path(self.ip_path))\n",
    "        \n",
    "# @rf.block\n",
    "# class NonSparkCols:\n",
    "#     cols_list: t.Any\n",
    "#     # Atomic input - csv filename relative to project space\n",
    "#     selected_cols: rf.Output[t.Any]\n",
    "#     # Atomic output of type spark DataFrame.\n",
    "#     def run(self):\n",
    "#         self.selected_cols.put(self.cols_list)\n",
    "        \n",
    "        "
   ]
  },
  {
   "cell_type": "code",
   "execution_count": 6,
   "id": "diagnostic-direction",
   "metadata": {},
   "outputs": [],
   "source": [
    "# @rf.block\n",
    "# class ReadCsvProjectSpace(SparkBlock):\n",
    "#     filename:str\n",
    "#     data: rf.Output[DataFrame]\n",
    "#     def run(self):\n",
    "#         df = self.spark.read.csv(self.filename, header = True)\n",
    "#         print(\"Data Schema\")\n",
    "#         df.printSchema()\n",
    "#         self.data.put(df)\n",
    "        \n",
    "\n",
    "# @rf.block\n",
    "# class SelectData(SparkBlock):\n",
    "#     wanted_cols: t.Any\n",
    "#     inputData: DataFrame\n",
    "#     outputData: rf.Output[DataFrame]\n",
    "#     def run(self):\n",
    "#         df = self.inputData\n",
    "#         df_selected = df.select(self.wanted_cols)\n",
    "#         df_selected.show()\n",
    "#         self.outputData.put(df_selected)\n",
    "        \n",
    "        \n",
    "        \n",
    "# @rf.block\n",
    "# class ConcatData(SparkBlock):\n",
    "#     inputData_1: DataFrame\n",
    "#     inputData_2: DataFrame\n",
    "#     outputData: rf.Output[DataFrame]\n",
    "#     def run(self):\n",
    "#         df_concat = self.inputData_1.union(self.inputData_1)\n",
    "#         print(\"Concat Data\")\n",
    "#         df_concat.show()\n",
    "#         self.outputData.put(df_concat)\n",
    "        \n",
    "\n",
    "# @rf.block\n",
    "# class RenameCol(SparkBlock):\n",
    "#     inputData: DataFrame\n",
    "#     col_dic: t.Any\n",
    "#     outputData: rf.Output[DataFrame]\n",
    "#     def run(self):\n",
    "#         df_rename = self.inputData.withColumnRenamed(list(self.col_dic.keys())[0], self.col_dic[list(self.col_dic.keys())[0]])\n",
    "#         df_rename = df_rename.withColumnRenamed(list(self.col_dic.keys())[1], self.col_dic[list(self.col_dic.keys())[1]])\n",
    "#         self.outputData.put(df_rename)\n",
    "      \n",
    "\n",
    "# @rf.block\n",
    "# class DropDuplicates(SparkBlock):\n",
    "#     inputData: DataFrame\n",
    "#     outputData: rf.Output[DataFrame]\n",
    "#     def run(self):\n",
    "#         df_clean = self.inputData.dropDuplicates()\n",
    "#         print('final dataframe')\n",
    "#         df_clean.show()\n",
    "#         self.outputData.put(df_clean)     \n",
    "        \n"
   ]
  },
  {
   "cell_type": "code",
   "execution_count": 7,
   "id": "active-auckland",
   "metadata": {},
   "outputs": [],
   "source": [
    "nsp = NonSparkPath(ip_path='df_with_stats.csv')\n",
    "nsp1 = NonSparkPath(ip_path='train_hatespeech.csv')\n",
    "\n",
    "nsc = NonSparkCols(cols_list = ['title','label'])\n",
    "nsc1 = NonSparkCols(cols_list = ['tweet','class'])\n",
    "\n",
    "rcp = ReadCsvProjectSpace(filename = nsp.op_path, config={}, source=\"\")\n",
    "rcp1 = ReadCsvProjectSpace(filename = nsp1.op_path, config={}, source=\"\")\n",
    "\n",
    "sd = SelectData(wanted_cols=nsc.selected_cols, inputData=rcp.data, config={}, source=\"\")\n",
    "sd1 = SelectData(wanted_cols=nsc1.selected_cols, inputData=rcp1.data, config={}, source=\"\")\n",
    "rc = RenameCol(inputData=sd1.outputData,col_dic={'tweet': 'title', 'class': 'label'})\n",
    "cd = ConcatData(inputData_1=sd.outputData,inputData_2=rc.outputData)\n",
    "cd1 = ConcatData(inputData_1=cd.outputData,inputData_2=sd.outputData)\n",
    "dd = DropDuplicates(inputData=cd1.outputData)\n",
    "\n",
    "# rcp.executor = rf.ProcessExecutor\n",
    "# sd.executor = rf.ProcessExecutor\n",
    "# rcp1.executor = rf.ProcessExecutor\n",
    "# sd1.executor = rf.ProcessExecutor\n",
    "# rc.executor = rf.ProcessExecutor\n",
    "# cd.executor = rf.ProcessExecutor\n",
    "# cd1.executor = rf.ProcessExecutor\n",
    "# dd.executor = rf.ProcessExecutor"
   ]
  },
  {
   "cell_type": "code",
   "execution_count": 8,
   "id": "moving-disney",
   "metadata": {},
   "outputs": [],
   "source": [
    "pipe = rf.Pipeline('pipeline_sd_4', targets = [dd])"
   ]
  },
  {
   "cell_type": "code",
   "execution_count": 9,
   "id": "communist-rhythm",
   "metadata": {},
   "outputs": [
    {
     "data": {
      "application/vnd.razorthink.interactive+pipeline+view+json": {
       "blocks": [
        {
         "class_name": "SelectData",
         "fullname": "razor.project.blocks.sourya_spark_blocks.SelectData",
         "id": "fecc1efb-0e7c-4891-82c0-1d405975f84c",
         "inputs": [
          {
           "dataType": null,
           "default": null,
           "flow": "atomic",
           "help": null,
           "isdict": false,
           "islist": false,
           "label": "wanted_cols",
           "meta": {},
           "name": "wanted_cols",
           "series": false,
           "type": "Any",
           "type_check": true
          },
          {
           "dataType": null,
           "default": null,
           "flow": "atomic",
           "help": null,
           "isdict": false,
           "islist": false,
           "label": "inputData",
           "meta": {},
           "name": "inputData",
           "series": false,
           "type": "DataFrame",
           "type_check": true
          },
          {
           "dataType": "dict",
           "default": {},
           "flow": "atomic",
           "help": null,
           "isdict": false,
           "islist": false,
           "label": "config",
           "meta": {},
           "name": "config",
           "series": false,
           "type": "dict",
           "type_check": true
          },
          {
           "dataType": "string",
           "default": "",
           "flow": "atomic",
           "help": null,
           "isdict": false,
           "islist": false,
           "label": "source",
           "meta": {},
           "name": "source",
           "series": false,
           "type": "str",
           "type_check": true
          }
         ],
         "outputs": [
          {
           "flow": "atomic",
           "help": null,
           "label": "outputData",
           "meta": {},
           "name": "outputData",
           "series": false,
           "type": "DataFrame",
           "type_check": true
          }
         ],
         "overwritten": false,
         "published": true,
         "var_names": [
          "SelectData"
         ]
        },
        {
         "class_name": "DropDuplicates",
         "fullname": "razor.project.blocks.sourya_spark_blocks.DropDuplicates",
         "id": "65e18a60-dcf3-464d-b181-a64ebce20ef6",
         "inputs": [
          {
           "dataType": null,
           "default": null,
           "flow": "atomic",
           "help": null,
           "isdict": false,
           "islist": false,
           "label": "inputData",
           "meta": {},
           "name": "inputData",
           "series": false,
           "type": "DataFrame",
           "type_check": true
          },
          {
           "dataType": "dict",
           "default": {},
           "flow": "atomic",
           "help": null,
           "isdict": false,
           "islist": false,
           "label": "config",
           "meta": {},
           "name": "config",
           "series": false,
           "type": "dict",
           "type_check": true
          },
          {
           "dataType": "string",
           "default": "",
           "flow": "atomic",
           "help": null,
           "isdict": false,
           "islist": false,
           "label": "source",
           "meta": {},
           "name": "source",
           "series": false,
           "type": "str",
           "type_check": true
          }
         ],
         "outputs": [
          {
           "flow": "atomic",
           "help": null,
           "label": "outputData",
           "meta": {},
           "name": "outputData",
           "series": false,
           "type": "DataFrame",
           "type_check": true
          }
         ],
         "overwritten": false,
         "published": true,
         "var_names": [
          "DropDuplicates"
         ]
        },
        {
         "class_name": "RenameCol",
         "fullname": "razor.project.blocks.sourya_spark_blocks.RenameCol",
         "id": "f0ff55c1-0a34-4d30-8227-f328b979b390",
         "inputs": [
          {
           "dataType": null,
           "default": null,
           "flow": "atomic",
           "help": null,
           "isdict": false,
           "islist": false,
           "label": "inputData",
           "meta": {},
           "name": "inputData",
           "series": false,
           "type": "DataFrame",
           "type_check": true
          },
          {
           "dataType": null,
           "default": null,
           "flow": "atomic",
           "help": null,
           "isdict": false,
           "islist": false,
           "label": "col_dic",
           "meta": {},
           "name": "col_dic",
           "series": false,
           "type": "Any",
           "type_check": true
          },
          {
           "dataType": "dict",
           "default": {},
           "flow": "atomic",
           "help": null,
           "isdict": false,
           "islist": false,
           "label": "config",
           "meta": {},
           "name": "config",
           "series": false,
           "type": "dict",
           "type_check": true
          },
          {
           "dataType": "string",
           "default": "",
           "flow": "atomic",
           "help": null,
           "isdict": false,
           "islist": false,
           "label": "source",
           "meta": {},
           "name": "source",
           "series": false,
           "type": "str",
           "type_check": true
          }
         ],
         "outputs": [
          {
           "flow": "atomic",
           "help": null,
           "label": "outputData",
           "meta": {},
           "name": "outputData",
           "series": false,
           "type": "DataFrame",
           "type_check": true
          }
         ],
         "overwritten": false,
         "published": true,
         "var_names": [
          "RenameCol"
         ]
        },
        {
         "class_name": "ConcatData",
         "fullname": "razor.project.blocks.sourya_spark_blocks.ConcatData",
         "id": "4ef82733-de14-4c77-9502-77dd66314c71",
         "inputs": [
          {
           "dataType": null,
           "default": null,
           "flow": "atomic",
           "help": null,
           "isdict": false,
           "islist": false,
           "label": "inputData_1",
           "meta": {},
           "name": "inputData_1",
           "series": false,
           "type": "DataFrame",
           "type_check": true
          },
          {
           "dataType": null,
           "default": null,
           "flow": "atomic",
           "help": null,
           "isdict": false,
           "islist": false,
           "label": "inputData_2",
           "meta": {},
           "name": "inputData_2",
           "series": false,
           "type": "DataFrame",
           "type_check": true
          },
          {
           "dataType": "dict",
           "default": {},
           "flow": "atomic",
           "help": null,
           "isdict": false,
           "islist": false,
           "label": "config",
           "meta": {},
           "name": "config",
           "series": false,
           "type": "dict",
           "type_check": true
          },
          {
           "dataType": "string",
           "default": "",
           "flow": "atomic",
           "help": null,
           "isdict": false,
           "islist": false,
           "label": "source",
           "meta": {},
           "name": "source",
           "series": false,
           "type": "str",
           "type_check": true
          }
         ],
         "outputs": [
          {
           "flow": "atomic",
           "help": null,
           "label": "outputData",
           "meta": {},
           "name": "outputData",
           "series": false,
           "type": "DataFrame",
           "type_check": true
          }
         ],
         "overwritten": false,
         "published": true,
         "var_names": [
          "ConcatData"
         ]
        },
        {
         "class_name": "NonSparkCols",
         "fullname": "razor.project.blocks.sourya_spark_blocks.NonSparkCols",
         "id": "688a45a2-90b8-41a3-8db2-0de61dbe0381",
         "inputs": [
          {
           "dataType": null,
           "default": null,
           "flow": "atomic",
           "help": null,
           "isdict": false,
           "islist": false,
           "label": "cols_list",
           "meta": {},
           "name": "cols_list",
           "series": false,
           "type": "Any",
           "type_check": true
          }
         ],
         "outputs": [
          {
           "flow": "atomic",
           "help": null,
           "label": "selected_cols",
           "meta": {},
           "name": "selected_cols",
           "series": false,
           "type": "Any",
           "type_check": true
          }
         ],
         "overwritten": false,
         "published": true,
         "var_names": [
          "NonSparkCols"
         ]
        },
        {
         "class_name": "ReadCsvProjectSpace",
         "fullname": "razor.project.blocks.sourya_spark_blocks.ReadCsvProjectSpace",
         "id": "d5df9b1c-0c2f-4fde-bf45-65262d3b30f9",
         "inputs": [
          {
           "dataType": "string",
           "default": "",
           "flow": "atomic",
           "help": null,
           "isdict": false,
           "islist": false,
           "label": "filename",
           "meta": {},
           "name": "filename",
           "series": false,
           "type": "str",
           "type_check": true
          },
          {
           "dataType": "dict",
           "default": {},
           "flow": "atomic",
           "help": null,
           "isdict": false,
           "islist": false,
           "label": "config",
           "meta": {},
           "name": "config",
           "series": false,
           "type": "dict",
           "type_check": true
          },
          {
           "dataType": "string",
           "default": "",
           "flow": "atomic",
           "help": null,
           "isdict": false,
           "islist": false,
           "label": "source",
           "meta": {},
           "name": "source",
           "series": false,
           "type": "str",
           "type_check": true
          }
         ],
         "outputs": [
          {
           "flow": "atomic",
           "help": null,
           "label": "data",
           "meta": {},
           "name": "data",
           "series": false,
           "type": "DataFrame",
           "type_check": true
          }
         ],
         "overwritten": false,
         "published": true,
         "var_names": [
          "ReadCsvProjectSpace"
         ]
        },
        {
         "class_name": "NonSparkPath",
         "fullname": "razor.project.blocks.sourya_spark_blocks.NonSparkPath",
         "id": "f6e5010d-66b1-4a20-9017-4473eba41ed2",
         "inputs": [
          {
           "dataType": "string",
           "default": "",
           "flow": "atomic",
           "help": null,
           "isdict": false,
           "islist": false,
           "label": "ip_path",
           "meta": {},
           "name": "ip_path",
           "series": false,
           "type": "str",
           "type_check": true
          }
         ],
         "outputs": [
          {
           "flow": "atomic",
           "help": null,
           "label": "op_path",
           "meta": {},
           "name": "op_path",
           "series": false,
           "type": "str",
           "type_check": true
          }
         ],
         "overwritten": false,
         "published": true,
         "var_names": [
          "NonSparkPath"
         ]
        }
       ],
       "connections": [
        {
         "id": "12f90523-5b60-49fc-9983-d4bb1e48a735",
         "source": {
          "adapter": false,
          "instance_id": "8490b047-2121-4b90-94a9-66dc9624560d",
          "name": "outputData"
         },
         "target": {
          "adapter": false,
          "instance_id": "0a1fee44-ce01-47d6-8507-63f0061039e3",
          "name": "inputData"
         }
        },
        {
         "id": "c3272711-d705-413d-b532-ea3d235622dd",
         "source": {
          "adapter": false,
          "instance_id": "775bc1bb-dcf1-4166-8dd4-fcae81c83c9a",
          "name": "outputData"
         },
         "target": {
          "adapter": false,
          "instance_id": "03777fb6-eb24-4820-8fde-0c573c34f67d",
          "name": "inputData_1"
         }
        },
        {
         "id": "f14ae8a3-0aed-41a8-9866-5cf5ba5d1b60",
         "source": {
          "adapter": false,
          "instance_id": "d84e7889-5e80-428a-ae25-5636d8a1bdaf",
          "name": "op_path"
         },
         "target": {
          "adapter": false,
          "instance_id": "90d16ed2-acd4-4122-80eb-ea0639ef2a48",
          "name": "filename"
         }
        },
        {
         "id": "1718b63d-7d59-461e-9104-e0b6fef576e6",
         "source": {
          "adapter": false,
          "instance_id": "74dd6ac4-f92a-4918-9898-6c400d430cbb",
          "name": "selected_cols"
         },
         "target": {
          "adapter": false,
          "instance_id": "775bc1bb-dcf1-4166-8dd4-fcae81c83c9a",
          "name": "wanted_cols"
         }
        },
        {
         "id": "89d8b326-19b1-479d-97cc-abe72fd9b28e",
         "source": {
          "adapter": false,
          "instance_id": "98545f64-97dc-48fc-bc97-17edbbc65acc",
          "name": "selected_cols"
         },
         "target": {
          "adapter": false,
          "instance_id": "8490b047-2121-4b90-94a9-66dc9624560d",
          "name": "wanted_cols"
         }
        },
        {
         "id": "9bd8f99d-87b0-410a-8619-35ad14c90d62",
         "source": {
          "adapter": false,
          "instance_id": "90d16ed2-acd4-4122-80eb-ea0639ef2a48",
          "name": "data"
         },
         "target": {
          "adapter": false,
          "instance_id": "775bc1bb-dcf1-4166-8dd4-fcae81c83c9a",
          "name": "inputData"
         }
        },
        {
         "id": "1a81ba4f-7c96-4405-b35e-133220e7b9a7",
         "source": {
          "adapter": false,
          "instance_id": "0a1fee44-ce01-47d6-8507-63f0061039e3",
          "name": "outputData"
         },
         "target": {
          "adapter": false,
          "instance_id": "03777fb6-eb24-4820-8fde-0c573c34f67d",
          "name": "inputData_2"
         }
        },
        {
         "id": "650a0d02-2183-4799-8dbd-803d22be0b3d",
         "source": {
          "adapter": false,
          "instance_id": "03777fb6-eb24-4820-8fde-0c573c34f67d",
          "name": "outputData"
         },
         "target": {
          "adapter": false,
          "instance_id": "35ef9849-1bf9-42fa-b344-4a2c5d14154b",
          "name": "inputData_1"
         }
        },
        {
         "id": "7c5cb749-5447-418e-ac6d-23b59c78ca3f",
         "source": {
          "adapter": false,
          "instance_id": "91ca71fe-eae5-4446-b4f4-52378b6be6bf",
          "name": "op_path"
         },
         "target": {
          "adapter": false,
          "instance_id": "bd0ba4f5-cce9-40eb-a9fd-154c5773f609",
          "name": "filename"
         }
        },
        {
         "id": "78160952-cc4b-41b7-808e-fe993324b0ef",
         "source": {
          "adapter": false,
          "instance_id": "35ef9849-1bf9-42fa-b344-4a2c5d14154b",
          "name": "outputData"
         },
         "target": {
          "adapter": false,
          "instance_id": "24bd4a2f-826a-4799-9f4b-225e64d63909",
          "name": "inputData"
         }
        },
        {
         "id": "8666c200-b9d4-4c10-8138-6b4de6bbad0d",
         "source": {
          "adapter": false,
          "instance_id": "775bc1bb-dcf1-4166-8dd4-fcae81c83c9a",
          "name": "outputData"
         },
         "target": {
          "adapter": false,
          "instance_id": "35ef9849-1bf9-42fa-b344-4a2c5d14154b",
          "name": "inputData_2"
         }
        },
        {
         "id": "7a90b5a9-4ffd-4bbc-9188-2e1c1a3ac5fa",
         "source": {
          "adapter": false,
          "instance_id": "bd0ba4f5-cce9-40eb-a9fd-154c5773f609",
          "name": "data"
         },
         "target": {
          "adapter": false,
          "instance_id": "8490b047-2121-4b90-94a9-66dc9624560d",
          "name": "inputData"
         }
        }
       ],
       "id": "2533c382-7c96-4be2-87af-58d1e095baf3",
       "instances": [
        {
         "block_class": "65e18a60-dcf3-464d-b181-a64ebce20ef6",
         "id": "24bd4a2f-826a-4799-9f4b-225e64d63909",
         "name": "DropDuplicates_1",
         "var_names": [
          "dd"
         ]
        },
        {
         "block_class": "4ef82733-de14-4c77-9502-77dd66314c71",
         "id": "35ef9849-1bf9-42fa-b344-4a2c5d14154b",
         "name": "ConcatData_2",
         "var_names": [
          "cd1"
         ]
        },
        {
         "block_class": "4ef82733-de14-4c77-9502-77dd66314c71",
         "id": "03777fb6-eb24-4820-8fde-0c573c34f67d",
         "name": "ConcatData_1",
         "var_names": [
          "cd"
         ]
        },
        {
         "block_class": "fecc1efb-0e7c-4891-82c0-1d405975f84c",
         "id": "775bc1bb-dcf1-4166-8dd4-fcae81c83c9a",
         "name": "SelectData_1",
         "var_names": [
          "sd"
         ]
        },
        {
         "block_class": "688a45a2-90b8-41a3-8db2-0de61dbe0381",
         "id": "74dd6ac4-f92a-4918-9898-6c400d430cbb",
         "name": "NonSparkCols_1",
         "var_names": [
          "nsc"
         ]
        },
        {
         "block_class": "d5df9b1c-0c2f-4fde-bf45-65262d3b30f9",
         "id": "90d16ed2-acd4-4122-80eb-ea0639ef2a48",
         "name": "ReadCsvProjectSpace_1",
         "var_names": [
          "rcp"
         ]
        },
        {
         "block_class": "f6e5010d-66b1-4a20-9017-4473eba41ed2",
         "id": "d84e7889-5e80-428a-ae25-5636d8a1bdaf",
         "name": "NonSparkPath_1",
         "var_names": [
          "nsp"
         ]
        },
        {
         "block_class": "f0ff55c1-0a34-4d30-8227-f328b979b390",
         "id": "0a1fee44-ce01-47d6-8507-63f0061039e3",
         "name": "RenameCol_1",
         "var_names": [
          "rc"
         ]
        },
        {
         "block_class": "fecc1efb-0e7c-4891-82c0-1d405975f84c",
         "id": "8490b047-2121-4b90-94a9-66dc9624560d",
         "name": "SelectData_2",
         "var_names": [
          "sd1"
         ]
        },
        {
         "block_class": "688a45a2-90b8-41a3-8db2-0de61dbe0381",
         "id": "98545f64-97dc-48fc-bc97-17edbbc65acc",
         "name": "NonSparkCols_2",
         "var_names": [
          "nsc1"
         ]
        },
        {
         "block_class": "d5df9b1c-0c2f-4fde-bf45-65262d3b30f9",
         "id": "bd0ba4f5-cce9-40eb-a9fd-154c5773f609",
         "name": "ReadCsvProjectSpace_2",
         "var_names": [
          "rcp1"
         ]
        },
        {
         "block_class": "f6e5010d-66b1-4a20-9017-4473eba41ed2",
         "id": "91ca71fe-eae5-4446-b4f4-52378b6be6bf",
         "name": "NonSparkPath_2",
         "var_names": [
          "nsp1"
         ]
        }
       ],
       "name": "pipeline_sd_4",
       "var_names": []
      },
      "image/svg+xml": [
       "<?xml version=\"1.0\" encoding=\"UTF-8\" standalone=\"no\"?>\n",
       "<!DOCTYPE svg PUBLIC \"-//W3C//DTD SVG 1.1//EN\"\n",
       " \"http://www.w3.org/Graphics/SVG/1.1/DTD/svg11.dtd\">\n",
       "<!-- Generated by graphviz version 2.43.0 (0)\n",
       " -->\n",
       "<!-- Title: %3 Pages: 1 -->\n",
       "<svg width=\"1047pt\" height=\"542pt\"\n",
       " viewBox=\"0.00 0.00 1046.71 542.00\" xmlns=\"http://www.w3.org/2000/svg\" xmlns:xlink=\"http://www.w3.org/1999/xlink\">\n",
       "<g id=\"graph0\" class=\"graph\" transform=\"scale(1 1) rotate(0) translate(4 538)\">\n",
       "<title>%3</title>\n",
       "<polygon fill=\"white\" stroke=\"transparent\" points=\"-4,4 -4,-538 1042.71,-538 1042.71,4 -4,4\"/>\n",
       "<!-- DropDuplicates(&#39;DropDuplicates_1&#39;) -->\n",
       "<g id=\"node1\" class=\"node\">\n",
       "<title>DropDuplicates(&#39;DropDuplicates_1&#39;)</title>\n",
       "<ellipse fill=\"none\" stroke=\"black\" cx=\"392.78\" cy=\"-18\" rx=\"112.37\" ry=\"18\"/>\n",
       "<text text-anchor=\"middle\" x=\"392.78\" y=\"-15.5\" font-family=\"Helvetica,sans-Serif\" font-size=\"10.00\">DropDuplicates(&#39;DropDuplicates_1&#39;)</text>\n",
       "</g>\n",
       "<!-- ConcatData(&#39;ConcatData_2&#39;) -->\n",
       "<g id=\"node2\" class=\"node\">\n",
       "<title>ConcatData(&#39;ConcatData_2&#39;)</title>\n",
       "<ellipse fill=\"none\" stroke=\"black\" cx=\"392.78\" cy=\"-101\" rx=\"91.49\" ry=\"18\"/>\n",
       "<text text-anchor=\"middle\" x=\"392.78\" y=\"-98.5\" font-family=\"Helvetica,sans-Serif\" font-size=\"10.00\">ConcatData(&#39;ConcatData_2&#39;)</text>\n",
       "</g>\n",
       "<!-- ConcatData(&#39;ConcatData_2&#39;)&#45;&gt;DropDuplicates(&#39;DropDuplicates_1&#39;) -->\n",
       "<g id=\"edge1\" class=\"edge\">\n",
       "<title>ConcatData(&#39;ConcatData_2&#39;)&#45;&gt;DropDuplicates(&#39;DropDuplicates_1&#39;)</title>\n",
       "<path fill=\"none\" stroke=\"black\" d=\"M392.78,-82.82C392.78,-72.19 392.78,-58.31 392.78,-46.2\"/>\n",
       "<polygon fill=\"black\" stroke=\"black\" points=\"396.28,-46.15 392.78,-36.15 389.28,-46.15 396.28,-46.15\"/>\n",
       "<text text-anchor=\"middle\" x=\"450.28\" y=\"-57\" font-family=\"Helvetica,sans-Serif\" font-size=\"10.00\">outputData&#45;&gt;inputData</text>\n",
       "</g>\n",
       "<!-- ConcatData(&#39;ConcatData_1&#39;) -->\n",
       "<g id=\"node3\" class=\"node\">\n",
       "<title>ConcatData(&#39;ConcatData_1&#39;)</title>\n",
       "<ellipse fill=\"none\" stroke=\"black\" cx=\"612.78\" cy=\"-184\" rx=\"91.49\" ry=\"18\"/>\n",
       "<text text-anchor=\"middle\" x=\"612.78\" y=\"-181.5\" font-family=\"Helvetica,sans-Serif\" font-size=\"10.00\">ConcatData(&#39;ConcatData_1&#39;)</text>\n",
       "</g>\n",
       "<!-- ConcatData(&#39;ConcatData_1&#39;)&#45;&gt;ConcatData(&#39;ConcatData_2&#39;) -->\n",
       "<g id=\"edge2\" class=\"edge\">\n",
       "<title>ConcatData(&#39;ConcatData_1&#39;)&#45;&gt;ConcatData(&#39;ConcatData_2&#39;)</title>\n",
       "<path fill=\"none\" stroke=\"black\" d=\"M571.66,-167.86C535.43,-154.52 482.52,-135.04 443.64,-120.72\"/>\n",
       "<polygon fill=\"black\" stroke=\"black\" points=\"444.67,-117.37 434.08,-117.2 442.25,-123.94 444.67,-117.37\"/>\n",
       "<text text-anchor=\"middle\" x=\"580.28\" y=\"-140\" font-family=\"Helvetica,sans-Serif\" font-size=\"10.00\">outputData&#45;&gt;inputData_1</text>\n",
       "</g>\n",
       "<!-- SelectData(&#39;SelectData_1&#39;) -->\n",
       "<g id=\"node4\" class=\"node\">\n",
       "<title>SelectData(&#39;SelectData_1&#39;)</title>\n",
       "<ellipse fill=\"none\" stroke=\"black\" cx=\"376.78\" cy=\"-267\" rx=\"87.24\" ry=\"18\"/>\n",
       "<text text-anchor=\"middle\" x=\"376.78\" y=\"-264.5\" font-family=\"Helvetica,sans-Serif\" font-size=\"10.00\">SelectData(&#39;SelectData_1&#39;)</text>\n",
       "</g>\n",
       "<!-- SelectData(&#39;SelectData_1&#39;)&#45;&gt;ConcatData(&#39;ConcatData_2&#39;) -->\n",
       "<g id=\"edge4\" class=\"edge\">\n",
       "<title>SelectData(&#39;SelectData_1&#39;)&#45;&gt;ConcatData(&#39;ConcatData_2&#39;)</title>\n",
       "<path fill=\"none\" stroke=\"black\" d=\"M378.24,-248.65C379.94,-228.7 382.89,-194.97 385.78,-166 386.98,-153.95 388.42,-140.63 389.68,-129.28\"/>\n",
       "<polygon fill=\"black\" stroke=\"black\" points=\"393.19,-129.43 390.82,-119.1 386.23,-128.65 393.19,-129.43\"/>\n",
       "<text text-anchor=\"middle\" x=\"449.28\" y=\"-181.5\" font-family=\"Helvetica,sans-Serif\" font-size=\"10.00\">outputData&#45;&gt;inputData_2</text>\n",
       "</g>\n",
       "<!-- SelectData(&#39;SelectData_1&#39;)&#45;&gt;ConcatData(&#39;ConcatData_1&#39;) -->\n",
       "<g id=\"edge3\" class=\"edge\">\n",
       "<title>SelectData(&#39;SelectData_1&#39;)&#45;&gt;ConcatData(&#39;ConcatData_1&#39;)</title>\n",
       "<path fill=\"none\" stroke=\"black\" d=\"M411.03,-250.37C432.53,-240.9 460.96,-228.94 486.78,-220 506.6,-213.13 528.53,-206.66 548.46,-201.2\"/>\n",
       "<polygon fill=\"black\" stroke=\"black\" points=\"549.63,-204.51 558.37,-198.52 547.8,-197.75 549.63,-204.51\"/>\n",
       "<text text-anchor=\"middle\" x=\"550.28\" y=\"-223\" font-family=\"Helvetica,sans-Serif\" font-size=\"10.00\">outputData&#45;&gt;inputData_1</text>\n",
       "</g>\n",
       "<!-- NonSparkCols(&#39;NonSparkCols_1&#39;) -->\n",
       "<g id=\"node5\" class=\"node\">\n",
       "<title>NonSparkCols(&#39;NonSparkCols_1&#39;)</title>\n",
       "<ellipse fill=\"none\" stroke=\"black\" cx=\"104.78\" cy=\"-350\" rx=\"104.56\" ry=\"18\"/>\n",
       "<text text-anchor=\"middle\" x=\"104.78\" y=\"-347.5\" font-family=\"Helvetica,sans-Serif\" font-size=\"10.00\">NonSparkCols(&#39;NonSparkCols_1&#39;)</text>\n",
       "</g>\n",
       "<!-- NonSparkCols(&#39;NonSparkCols_1&#39;)&#45;&gt;SelectData(&#39;SelectData_1&#39;) -->\n",
       "<g id=\"edge5\" class=\"edge\">\n",
       "<title>NonSparkCols(&#39;NonSparkCols_1&#39;)&#45;&gt;SelectData(&#39;SelectData_1&#39;)</title>\n",
       "<path fill=\"none\" stroke=\"black\" d=\"M145.39,-333.31C170.61,-323.87 203.83,-311.98 233.78,-303 258.31,-295.65 285.55,-288.69 309.61,-282.94\"/>\n",
       "<polygon fill=\"black\" stroke=\"black\" points=\"310.43,-286.34 319.36,-280.64 308.82,-279.53 310.43,-286.34\"/>\n",
       "<text text-anchor=\"middle\" x=\"303.28\" y=\"-306\" font-family=\"Helvetica,sans-Serif\" font-size=\"10.00\">selected_cols&#45;&gt;wanted_cols</text>\n",
       "</g>\n",
       "<!-- ReadCsvProjectSpace(&#39;ReadCsvProjectSpace_1&#39;) -->\n",
       "<g id=\"node6\" class=\"node\">\n",
       "<title>ReadCsvProjectSpace(&#39;ReadCsvProjectSpace_1&#39;)</title>\n",
       "<ellipse fill=\"none\" stroke=\"black\" cx=\"376.78\" cy=\"-350\" rx=\"148.86\" ry=\"18\"/>\n",
       "<text text-anchor=\"middle\" x=\"376.78\" y=\"-347.5\" font-family=\"Helvetica,sans-Serif\" font-size=\"10.00\">ReadCsvProjectSpace(&#39;ReadCsvProjectSpace_1&#39;)</text>\n",
       "</g>\n",
       "<!-- ReadCsvProjectSpace(&#39;ReadCsvProjectSpace_1&#39;)&#45;&gt;SelectData(&#39;SelectData_1&#39;) -->\n",
       "<g id=\"edge6\" class=\"edge\">\n",
       "<title>ReadCsvProjectSpace(&#39;ReadCsvProjectSpace_1&#39;)&#45;&gt;SelectData(&#39;SelectData_1&#39;)</title>\n",
       "<path fill=\"none\" stroke=\"black\" d=\"M376.78,-331.82C376.78,-321.19 376.78,-307.31 376.78,-295.2\"/>\n",
       "<polygon fill=\"black\" stroke=\"black\" points=\"380.28,-295.15 376.78,-285.15 373.28,-295.15 380.28,-295.15\"/>\n",
       "<text text-anchor=\"middle\" x=\"417.78\" y=\"-306\" font-family=\"Helvetica,sans-Serif\" font-size=\"10.00\">data&#45;&gt;inputData</text>\n",
       "</g>\n",
       "<!-- NonSparkPath(&#39;NonSparkPath_1&#39;) -->\n",
       "<g id=\"node7\" class=\"node\">\n",
       "<title>NonSparkPath(&#39;NonSparkPath_1&#39;)</title>\n",
       "<ellipse fill=\"none\" stroke=\"black\" cx=\"376.78\" cy=\"-433\" rx=\"104.56\" ry=\"18\"/>\n",
       "<text text-anchor=\"middle\" x=\"376.78\" y=\"-430.5\" font-family=\"Helvetica,sans-Serif\" font-size=\"10.00\">NonSparkPath(&#39;NonSparkPath_1&#39;)</text>\n",
       "</g>\n",
       "<!-- NonSparkPath(&#39;NonSparkPath_1&#39;)&#45;&gt;ReadCsvProjectSpace(&#39;ReadCsvProjectSpace_1&#39;) -->\n",
       "<g id=\"edge7\" class=\"edge\">\n",
       "<title>NonSparkPath(&#39;NonSparkPath_1&#39;)&#45;&gt;ReadCsvProjectSpace(&#39;ReadCsvProjectSpace_1&#39;)</title>\n",
       "<path fill=\"none\" stroke=\"black\" d=\"M376.78,-414.82C376.78,-404.19 376.78,-390.31 376.78,-378.2\"/>\n",
       "<polygon fill=\"black\" stroke=\"black\" points=\"380.28,-378.15 376.78,-368.15 373.28,-378.15 380.28,-378.15\"/>\n",
       "<text text-anchor=\"middle\" x=\"423.78\" y=\"-389\" font-family=\"Helvetica,sans-Serif\" font-size=\"10.00\">op_path&#45;&gt;filename</text>\n",
       "</g>\n",
       "<!-- RenameCol(&#39;RenameCol_1&#39;) -->\n",
       "<g id=\"node8\" class=\"node\">\n",
       "<title>RenameCol(&#39;RenameCol_1&#39;)</title>\n",
       "<ellipse fill=\"none\" stroke=\"black\" cx=\"623.78\" cy=\"-267\" rx=\"90.81\" ry=\"18\"/>\n",
       "<text text-anchor=\"middle\" x=\"623.78\" y=\"-264.5\" font-family=\"Helvetica,sans-Serif\" font-size=\"10.00\">RenameCol(&#39;RenameCol_1&#39;)</text>\n",
       "</g>\n",
       "<!-- RenameCol(&#39;RenameCol_1&#39;)&#45;&gt;ConcatData(&#39;ConcatData_1&#39;) -->\n",
       "<g id=\"edge8\" class=\"edge\">\n",
       "<title>RenameCol(&#39;RenameCol_1&#39;)&#45;&gt;ConcatData(&#39;ConcatData_1&#39;)</title>\n",
       "<path fill=\"none\" stroke=\"black\" d=\"M621.45,-248.82C620.01,-238.19 618.12,-224.31 616.48,-212.2\"/>\n",
       "<polygon fill=\"black\" stroke=\"black\" points=\"619.93,-211.59 615.11,-202.15 612.99,-212.53 619.93,-211.59\"/>\n",
       "<text text-anchor=\"middle\" x=\"683.28\" y=\"-223\" font-family=\"Helvetica,sans-Serif\" font-size=\"10.00\">outputData&#45;&gt;inputData_2</text>\n",
       "</g>\n",
       "<!-- SelectData(&#39;SelectData_2&#39;) -->\n",
       "<g id=\"node9\" class=\"node\">\n",
       "<title>SelectData(&#39;SelectData_2&#39;)</title>\n",
       "<ellipse fill=\"none\" stroke=\"black\" cx=\"630.78\" cy=\"-350\" rx=\"87.24\" ry=\"18\"/>\n",
       "<text text-anchor=\"middle\" x=\"630.78\" y=\"-347.5\" font-family=\"Helvetica,sans-Serif\" font-size=\"10.00\">SelectData(&#39;SelectData_2&#39;)</text>\n",
       "</g>\n",
       "<!-- SelectData(&#39;SelectData_2&#39;)&#45;&gt;RenameCol(&#39;RenameCol_1&#39;) -->\n",
       "<g id=\"edge9\" class=\"edge\">\n",
       "<title>SelectData(&#39;SelectData_2&#39;)&#45;&gt;RenameCol(&#39;RenameCol_1&#39;)</title>\n",
       "<path fill=\"none\" stroke=\"black\" d=\"M629.3,-331.82C628.38,-321.19 627.18,-307.31 626.13,-295.2\"/>\n",
       "<polygon fill=\"black\" stroke=\"black\" points=\"629.61,-294.81 625.26,-285.15 622.64,-295.42 629.61,-294.81\"/>\n",
       "<text text-anchor=\"middle\" x=\"685.28\" y=\"-306\" font-family=\"Helvetica,sans-Serif\" font-size=\"10.00\">outputData&#45;&gt;inputData</text>\n",
       "</g>\n",
       "<!-- NonSparkCols(&#39;NonSparkCols_2&#39;) -->\n",
       "<g id=\"node10\" class=\"node\">\n",
       "<title>NonSparkCols(&#39;NonSparkCols_2&#39;)</title>\n",
       "<ellipse fill=\"none\" stroke=\"black\" cx=\"617.78\" cy=\"-433\" rx=\"104.56\" ry=\"18\"/>\n",
       "<text text-anchor=\"middle\" x=\"617.78\" y=\"-430.5\" font-family=\"Helvetica,sans-Serif\" font-size=\"10.00\">NonSparkCols(&#39;NonSparkCols_2&#39;)</text>\n",
       "</g>\n",
       "<!-- NonSparkCols(&#39;NonSparkCols_2&#39;)&#45;&gt;SelectData(&#39;SelectData_2&#39;) -->\n",
       "<g id=\"edge10\" class=\"edge\">\n",
       "<title>NonSparkCols(&#39;NonSparkCols_2&#39;)&#45;&gt;SelectData(&#39;SelectData_2&#39;)</title>\n",
       "<path fill=\"none\" stroke=\"black\" d=\"M620.54,-414.82C622.25,-404.19 624.47,-390.31 626.42,-378.2\"/>\n",
       "<polygon fill=\"black\" stroke=\"black\" points=\"629.9,-378.58 628.03,-368.15 622.99,-377.47 629.9,-378.58\"/>\n",
       "<text text-anchor=\"middle\" x=\"695.28\" y=\"-389\" font-family=\"Helvetica,sans-Serif\" font-size=\"10.00\">selected_cols&#45;&gt;wanted_cols</text>\n",
       "</g>\n",
       "<!-- ReadCsvProjectSpace(&#39;ReadCsvProjectSpace_2&#39;) -->\n",
       "<g id=\"node11\" class=\"node\">\n",
       "<title>ReadCsvProjectSpace(&#39;ReadCsvProjectSpace_2&#39;)</title>\n",
       "<ellipse fill=\"none\" stroke=\"black\" cx=\"889.78\" cy=\"-433\" rx=\"148.86\" ry=\"18\"/>\n",
       "<text text-anchor=\"middle\" x=\"889.78\" y=\"-430.5\" font-family=\"Helvetica,sans-Serif\" font-size=\"10.00\">ReadCsvProjectSpace(&#39;ReadCsvProjectSpace_2&#39;)</text>\n",
       "</g>\n",
       "<!-- ReadCsvProjectSpace(&#39;ReadCsvProjectSpace_2&#39;)&#45;&gt;SelectData(&#39;SelectData_2&#39;) -->\n",
       "<g id=\"edge11\" class=\"edge\">\n",
       "<title>ReadCsvProjectSpace(&#39;ReadCsvProjectSpace_2&#39;)&#45;&gt;SelectData(&#39;SelectData_2&#39;)</title>\n",
       "<path fill=\"none\" stroke=\"black\" d=\"M850.13,-415.61C826.7,-406.25 796.32,-394.7 768.78,-386 745.68,-378.71 720.05,-371.87 697.2,-366.21\"/>\n",
       "<polygon fill=\"black\" stroke=\"black\" points=\"697.8,-362.75 687.26,-363.77 696.14,-369.55 697.8,-362.75\"/>\n",
       "<text text-anchor=\"middle\" x=\"839.78\" y=\"-389\" font-family=\"Helvetica,sans-Serif\" font-size=\"10.00\">data&#45;&gt;inputData</text>\n",
       "</g>\n",
       "<!-- NonSparkPath(&#39;NonSparkPath_2&#39;) -->\n",
       "<g id=\"node12\" class=\"node\">\n",
       "<title>NonSparkPath(&#39;NonSparkPath_2&#39;)</title>\n",
       "<ellipse fill=\"none\" stroke=\"black\" cx=\"889.78\" cy=\"-516\" rx=\"104.56\" ry=\"18\"/>\n",
       "<text text-anchor=\"middle\" x=\"889.78\" y=\"-513.5\" font-family=\"Helvetica,sans-Serif\" font-size=\"10.00\">NonSparkPath(&#39;NonSparkPath_2&#39;)</text>\n",
       "</g>\n",
       "<!-- NonSparkPath(&#39;NonSparkPath_2&#39;)&#45;&gt;ReadCsvProjectSpace(&#39;ReadCsvProjectSpace_2&#39;) -->\n",
       "<g id=\"edge12\" class=\"edge\">\n",
       "<title>NonSparkPath(&#39;NonSparkPath_2&#39;)&#45;&gt;ReadCsvProjectSpace(&#39;ReadCsvProjectSpace_2&#39;)</title>\n",
       "<path fill=\"none\" stroke=\"black\" d=\"M889.78,-497.82C889.78,-487.19 889.78,-473.31 889.78,-461.2\"/>\n",
       "<polygon fill=\"black\" stroke=\"black\" points=\"893.28,-461.15 889.78,-451.15 886.28,-461.15 893.28,-461.15\"/>\n",
       "<text text-anchor=\"middle\" x=\"936.78\" y=\"-472\" font-family=\"Helvetica,sans-Serif\" font-size=\"10.00\">op_path&#45;&gt;filename</text>\n",
       "</g>\n",
       "</g>\n",
       "</svg>\n"
      ],
      "text/plain": [
       "<razor.flow.async_pipeline.Pipeline at 0x7f0f97fcb6d0>"
      ]
     },
     "metadata": {},
     "output_type": "display_data"
    }
   ],
   "source": [
    "pipe.show()"
   ]
  },
  {
   "cell_type": "code",
   "execution_count": 10,
   "id": "received-workplace",
   "metadata": {},
   "outputs": [
    {
     "name": "stdout",
     "output_type": "stream",
     "text": [
      "log path: /tmp/tmpsd2in4qk/pipeline_sd_4\n"
     ]
    },
    {
     "data": {
      "application/vnd.razorthink.run+monitor+json": "/tmp/tmpsd2in4qk/pipeline_sd_4",
      "text/plain": [
       "<razor_tools.backend.ipython.mime.run_monitor.RunMonitor at 0x7f0f97fcbc90>"
      ]
     },
     "metadata": {
      "application/vnd.razorthink.run+monitor+json": {
       "run_data": {
        "apm": [
         {
          "cpu_percent": 0,
          "cpu_time": 0.16,
          "name": "NonSparkPath_2",
          "real_mem": 159281152,
          "time": 1616567107.3403313
         },
         {
          "cpu_percent": 0,
          "cpu_time": 0,
          "name": "NonSparkCols_1",
          "real_mem": 155406336,
          "time": 1616567107.025752
         },
         {
          "cpu_percent": 0,
          "cpu_time": 0,
          "name": "NonSparkPath_1",
          "real_mem": 155418624,
          "time": 1616567107.0346491
         },
         {
          "cpu_percent": 1573.7,
          "cpu_time": 0.16,
          "name": "NonSparkCols_2",
          "real_mem": 159289344,
          "time": 1616567107.3270838
         },
         {
          "cpu_percent": 0,
          "cpu_time": 0.18,
          "name": "NonSparkPath_1",
          "real_mem": 160833536,
          "time": 1616567107.3880882
         },
         {
          "cpu_percent": 0,
          "cpu_time": 0.01,
          "name": "NonSparkCols_1",
          "real_mem": 155496448,
          "time": 1616567107.137612
         },
         {
          "cpu_percent": 0,
          "cpu_time": 0.01,
          "name": "NonSparkCols_1",
          "real_mem": 155496448,
          "time": 1616567107.2989984
         },
         {
          "cpu_percent": 0,
          "cpu_time": 0.01,
          "name": "NonSparkCols_1",
          "real_mem": 155496448,
          "time": 1616567107.4108737
         },
         {
          "cpu_percent": 0,
          "cpu_time": 0.16,
          "name": "NonSparkCols_2",
          "real_mem": 159363072,
          "time": 1616567107.4388573
         },
         {
          "cpu_percent": 0,
          "cpu_time": 0.18,
          "name": "NonSparkPath_2",
          "real_mem": 160808960,
          "time": 1616567107.4519317
         },
         {
          "cpu_percent": 0,
          "cpu_time": 0.18,
          "name": "NonSparkPath_1",
          "real_mem": 160833536,
          "time": 1616567107.5006437
         },
         {
          "cpu_percent": 0,
          "cpu_time": 0.01,
          "name": "NonSparkCols_1",
          "real_mem": 155496448,
          "time": 1616567107.522764
         },
         {
          "cpu_percent": 0,
          "cpu_time": 0.16,
          "name": "NonSparkCols_2",
          "real_mem": 159363072,
          "time": 1616567107.5507357
         },
         {
          "cpu_percent": 0,
          "cpu_time": 0.18,
          "name": "NonSparkPath_2",
          "real_mem": 160808960,
          "time": 1616567107.5635612
         },
         {
          "cpu_percent": 0,
          "cpu_time": 0.2,
          "name": "NonSparkPath_1",
          "real_mem": 160976896,
          "time": 1616567107.6132052
         },
         {
          "cpu_percent": 0,
          "cpu_time": 0.02,
          "name": "NonSparkCols_1",
          "real_mem": 155496448,
          "time": 1616567107.634754
         },
         {
          "cpu_percent": 0,
          "cpu_time": 0.16,
          "name": "NonSparkCols_2",
          "real_mem": 159363072,
          "time": 1616567107.6624954
         },
         {
          "cpu_percent": 0,
          "cpu_time": 0.2,
          "name": "NonSparkPath_2",
          "real_mem": 160948224,
          "time": 1616567107.6755502
         },
         {
          "cpu_percent": 0,
          "cpu_time": 0.01,
          "name": "DropDuplicates_1",
          "real_mem": 155959296,
          "time": 1616567107.5924788
         },
         {
          "cpu_percent": 0,
          "cpu_time": 0.01,
          "name": "ReadCsvProjectSpace_1",
          "real_mem": 156033024,
          "time": 1616567107.6149364
         },
         {
          "cpu_percent": 0,
          "cpu_time": 0.01,
          "name": "ReadCsvProjectSpace_2",
          "real_mem": 156090368,
          "time": 1616567107.6281612
         },
         {
          "cpu_percent": 0,
          "cpu_time": 0.02,
          "name": "ConcatData_1",
          "real_mem": 156188672,
          "time": 1616567107.641286
         },
         {
          "cpu_percent": 0,
          "cpu_time": 0.03,
          "name": "SelectData_2",
          "real_mem": 156254208,
          "time": 1616567107.6538665
         },
         {
          "cpu_percent": 0,
          "cpu_time": 0.03,
          "name": "ConcatData_2",
          "real_mem": 156385280,
          "time": 1616567107.6666653
         },
         {
          "cpu_percent": 0,
          "cpu_time": 0.03,
          "name": "SelectData_1",
          "real_mem": 156385280,
          "time": 1616567107.6795413
         },
         {
          "cpu_percent": 0,
          "cpu_time": 0.03,
          "name": "RenameCol_1",
          "real_mem": 156528640,
          "time": 1616567107.7027736
         },
         {
          "cpu_percent": 0,
          "cpu_time": 0.2,
          "name": "NonSparkPath_1",
          "real_mem": 160976896,
          "time": 1616567107.725194
         },
         {
          "cpu_percent": 0,
          "cpu_time": 0.03,
          "name": "DropDuplicates_1",
          "real_mem": 156610560,
          "time": 1616567107.7151048
         },
         {
          "cpu_percent": 0,
          "cpu_time": 0.05,
          "name": "ReadCsvProjectSpace_2",
          "real_mem": 156610560,
          "time": 1616567107.7402987
         },
         {
          "cpu_percent": 0,
          "cpu_time": 0.04,
          "name": "ReadCsvProjectSpace_1",
          "real_mem": 156610560,
          "time": 1616567107.7276697
         },
         {
          "cpu_percent": 0,
          "cpu_time": 0.02,
          "name": "NonSparkCols_1",
          "real_mem": 155496448,
          "time": 1616567107.7466931
         },
         {
          "cpu_percent": 0,
          "cpu_time": 0.05,
          "name": "ConcatData_1",
          "real_mem": 156610560,
          "time": 1616567107.7541246
         },
         {
          "cpu_percent": 86.7,
          "cpu_time": 0.07,
          "name": "SelectData_2",
          "real_mem": 157679616,
          "time": 1616567107.778826
         },
         {
          "cpu_percent": 197.1,
          "cpu_time": 0.09000000000000001,
          "name": "ConcatData_2",
          "real_mem": 161062912,
          "time": 1616567107.8041403
         },
         {
          "cpu_percent": 0,
          "cpu_time": 0.1,
          "name": "SelectData_1",
          "real_mem": 163209216,
          "time": 1616567107.8368704
         },
         {
          "cpu_percent": 98.8,
          "cpu_time": 0.17,
          "name": "RenameCol_1",
          "real_mem": 187109376,
          "time": 1616567107.8805742
         },
         {
          "cpu_percent": 98.7,
          "cpu_time": 0.23,
          "name": "DropDuplicates_1",
          "real_mem": 198897664,
          "time": 1616567107.9237654
         },
         {
          "cpu_percent": 0,
          "cpu_time": 0.11,
          "name": "ReadCsvProjectSpace_2",
          "real_mem": 163221504,
          "time": 1616567108.009962
         },
         {
          "cpu_percent": 195.3,
          "cpu_time": 0.15000000000000002,
          "name": "ConcatData_1",
          "real_mem": 177131520,
          "time": 1616567108.0317855
         },
         {
          "cpu_percent": 98.6,
          "cpu_time": 0.29,
          "name": "ReadCsvProjectSpace_1",
          "real_mem": 210714624,
          "time": 1616567107.9666307
         },
         {
          "cpu_percent": 98.6,
          "cpu_time": 0.17,
          "name": "SelectData_2",
          "real_mem": 179412992,
          "time": 1616567108.0536075
         },
         {
          "cpu_percent": 295.5,
          "cpu_time": 0.24000000000000002,
          "name": "SelectData_1",
          "real_mem": 188805120,
          "time": 1616567108.0979745
         },
         {
          "cpu_percent": 98.8,
          "cpu_time": 0.19,
          "name": "ConcatData_2",
          "real_mem": 181719040,
          "time": 1616567108.0759544
         },
         {
          "cpu_percent": 197.6,
          "cpu_time": 0.28,
          "name": "RenameCol_1",
          "real_mem": 196173824,
          "time": 1616567108.1203182
         },
         {
          "cpu_percent": 291.3,
          "cpu_time": 0.32,
          "name": "DropDuplicates_1",
          "real_mem": 206217216,
          "time": 1616567108.142515
         },
         {
          "cpu_percent": 98.7,
          "cpu_time": 0.37,
          "name": "ReadCsvProjectSpace_1",
          "real_mem": 212566016,
          "time": 1616567108.165205
         },
         {
          "cpu_percent": 0,
          "cpu_time": 0.41,
          "name": "ReadCsvProjectSpace_2",
          "real_mem": 215269376,
          "time": 1616567108.187952
         },
         {
          "cpu_percent": 196.8,
          "cpu_time": 0.45999999999999996,
          "name": "ConcatData_1",
          "real_mem": 220987392,
          "time": 1616567108.2104826
         },
         {
          "cpu_percent": 196.6,
          "cpu_time": 0.51,
          "name": "SelectData_2",
          "real_mem": 225165312,
          "time": 1616567108.2333791
         },
         {
          "cpu_percent": 296.1,
          "cpu_time": 0.56,
          "name": "ConcatData_2",
          "real_mem": 229015552,
          "time": 1616567108.2557163
         },
         {
          "cpu_percent": 0,
          "cpu_time": 0.6,
          "name": "SelectData_1",
          "real_mem": 233660416,
          "time": 1616567108.2775877
         },
         {
          "cpu_percent": 98.4,
          "cpu_time": 0.64,
          "name": "RenameCol_1",
          "real_mem": 237985792,
          "time": 1616567108.3098018
         },
         {
          "cpu_percent": 196.5,
          "cpu_time": 0.67,
          "name": "DropDuplicates_1",
          "real_mem": 240689152,
          "time": 1616567108.332022
         },
         {
          "cpu_percent": 98.6,
          "cpu_time": 0.7,
          "name": "ReadCsvProjectSpace_1",
          "real_mem": 241606656,
          "time": 1616567108.3546464
         },
         {
          "cpu_percent": 278.7,
          "cpu_time": 0.76,
          "name": "ReadCsvProjectSpace_2",
          "real_mem": 242143232,
          "time": 1616567108.377421
         },
         {
          "cpu_percent": 197.3,
          "cpu_time": 0.8,
          "name": "ConcatData_1",
          "real_mem": 242974720,
          "time": 1616567108.3995626
         },
         {
          "cpu_percent": 197,
          "cpu_time": 0.85,
          "name": "SelectData_2",
          "real_mem": 243707904,
          "time": 1616567108.42123
         },
         {
          "cpu_percent": 98.2,
          "cpu_time": 0.88,
          "name": "ConcatData_2",
          "real_mem": 243707904,
          "time": 1616567108.4433713
         },
         {
          "cpu_percent": 98.6,
          "cpu_time": 0.91,
          "name": "SelectData_1",
          "real_mem": 243974144,
          "time": 1616567108.4653778
         },
         {
          "cpu_percent": 197.3,
          "cpu_time": 0.9400000000000001,
          "name": "RenameCol_1",
          "real_mem": 244514816,
          "time": 1616567108.4870844
         },
         {
          "cpu_percent": 98.5,
          "cpu_time": 0.96,
          "name": "DropDuplicates_1",
          "real_mem": 244850688,
          "time": 1616567108.5090826
         },
         {
          "cpu_percent": 197.1,
          "cpu_time": 1,
          "name": "ReadCsvProjectSpace_1",
          "real_mem": 247177216,
          "time": 1616567108.5309594
         },
         {
          "cpu_percent": 98.9,
          "cpu_time": 1.03,
          "name": "ReadCsvProjectSpace_2",
          "real_mem": 248791040,
          "time": 1616567108.5525353
         },
         {
          "cpu_percent": 98.6,
          "cpu_time": 1.05,
          "name": "ConcatData_1",
          "real_mem": 249225216,
          "time": 1616567108.574632
         },
         {
          "cpu_percent": 98.7,
          "cpu_time": 1.0899999999999999,
          "name": "SelectData_2",
          "real_mem": 249630720,
          "time": 1616567108.5965824
         },
         {
          "cpu_percent": 197.3,
          "cpu_time": 1.13,
          "name": "ConcatData_2",
          "real_mem": 249716736,
          "time": 1616567108.6182587
         },
         {
          "cpu_percent": 197.9,
          "cpu_time": 1.18,
          "name": "SelectData_1",
          "real_mem": 250302464,
          "time": 1616567108.640362
         },
         {
          "cpu_percent": 197.3,
          "cpu_time": 1.24,
          "name": "RenameCol_1",
          "real_mem": 250576896,
          "time": 1616567108.6625078
         },
         {
          "cpu_percent": 197.1,
          "cpu_time": 1.27,
          "name": "DropDuplicates_1",
          "real_mem": 250580992,
          "time": 1616567108.6844392
         },
         {
          "cpu_percent": 98.3,
          "cpu_time": 1.2899999999999998,
          "name": "ReadCsvProjectSpace_1",
          "real_mem": 264118272,
          "time": 1616567108.7068923
         },
         {
          "cpu_percent": 98.6,
          "cpu_time": 1.3499999999999999,
          "name": "ConcatData_1",
          "real_mem": 265117696,
          "time": 1616567108.7505226
         },
         {
          "cpu_percent": 98.7,
          "cpu_time": 1.3199999999999998,
          "name": "ReadCsvProjectSpace_2",
          "real_mem": 264642560,
          "time": 1616567108.7288637
         },
         {
          "cpu_percent": 197.5,
          "cpu_time": 1.39,
          "name": "SelectData_2",
          "real_mem": 265818112,
          "time": 1616567108.7725177
         },
         {
          "cpu_percent": 98.5,
          "cpu_time": 1.43,
          "name": "ConcatData_2",
          "real_mem": 268591104,
          "time": 1616567108.7943962
         },
         {
          "cpu_percent": 196.8,
          "cpu_time": 1.48,
          "name": "SelectData_1",
          "real_mem": 272384000,
          "time": 1616567108.8162274
         },
         {
          "cpu_percent": 197.1,
          "cpu_time": 1.51,
          "name": "RenameCol_1",
          "real_mem": 274030592,
          "time": 1616567108.8384976
         },
         {
          "cpu_percent": 98.6,
          "cpu_time": 1.5499999999999998,
          "name": "DropDuplicates_1",
          "real_mem": 277123072,
          "time": 1616567108.8606238
         },
         {
          "cpu_percent": 98.2,
          "cpu_time": 1.5799999999999998,
          "name": "ReadCsvProjectSpace_1",
          "real_mem": 280363008,
          "time": 1616567108.8823707
         },
         {
          "cpu_percent": 173.7,
          "cpu_time": 1.6099999999999999,
          "name": "ReadCsvProjectSpace_2",
          "real_mem": 282386432,
          "time": 1616567108.9057758
         },
         {
          "cpu_percent": 197.4,
          "cpu_time": 1.69,
          "name": "SelectData_2",
          "real_mem": 289177600,
          "time": 1616567108.9495134
         },
         {
          "cpu_percent": 196.4,
          "cpu_time": 1.65,
          "name": "ConcatData_1",
          "real_mem": 288722944,
          "time": 1616567108.9277973
         },
         {
          "cpu_percent": 197.2,
          "cpu_time": 1.73,
          "name": "ConcatData_2",
          "real_mem": 289824768,
          "time": 1616567108.9718838
         },
         {
          "cpu_percent": 98,
          "cpu_time": 1.76,
          "name": "SelectData_1",
          "real_mem": 290410496,
          "time": 1616567108.9940858
         },
         {
          "cpu_percent": 296.5,
          "cpu_time": 1.8199999999999998,
          "name": "RenameCol_1",
          "real_mem": 290676736,
          "time": 1616567109.0157206
         },
         {
          "cpu_percent": 196.5,
          "cpu_time": 1.8599999999999999,
          "name": "DropDuplicates_1",
          "real_mem": 291332096,
          "time": 1616567109.0377326
         },
         {
          "cpu_percent": 295.5,
          "cpu_time": 1.91,
          "name": "ReadCsvProjectSpace_1",
          "real_mem": 291557376,
          "time": 1616567109.0597541
         },
         {
          "cpu_percent": 195.6,
          "cpu_time": 1.96,
          "name": "ReadCsvProjectSpace_2",
          "real_mem": 292360192,
          "time": 1616567109.0815275
         },
         {
          "cpu_percent": 98.5,
          "cpu_time": 1.99,
          "name": "ConcatData_1",
          "real_mem": 292933632,
          "time": 1616567109.1088982
         },
         {
          "cpu_percent": 197.6,
          "cpu_time": 2.07,
          "name": "ConcatData_2",
          "real_mem": 293892096,
          "time": 1616567109.1522217
         },
         {
          "cpu_percent": 197.7,
          "cpu_time": 2.02,
          "name": "SelectData_2",
          "real_mem": 293453824,
          "time": 1616567109.130699
         },
         {
          "cpu_percent": 97.9,
          "cpu_time": 2.11,
          "name": "SelectData_1",
          "real_mem": 294608896,
          "time": 1616567109.1743283
         },
         {
          "cpu_percent": 197,
          "cpu_time": 2.15,
          "name": "RenameCol_1",
          "real_mem": 295206912,
          "time": 1616567109.196259
         },
         {
          "cpu_percent": 197.4,
          "cpu_time": 2.18,
          "name": "DropDuplicates_1",
          "real_mem": 300900352,
          "time": 1616567109.2177129
         },
         {
          "cpu_percent": 98.6,
          "cpu_time": 2.21,
          "name": "ReadCsvProjectSpace_1",
          "real_mem": 301584384,
          "time": 1616567109.2398326
         },
         {
          "cpu_percent": 98.8,
          "cpu_time": 2.2600000000000002,
          "name": "ConcatData_1",
          "real_mem": 302280704,
          "time": 1616567109.2835064
         },
         {
          "cpu_percent": 98.6,
          "cpu_time": 2.23,
          "name": "ReadCsvProjectSpace_2",
          "real_mem": 301940736,
          "time": 1616567109.2618558
         },
         {
          "cpu_percent": 98.6,
          "cpu_time": 2.29,
          "name": "SelectData_2",
          "real_mem": 302784512,
          "time": 1616567109.3056402
         },
         {
          "cpu_percent": 197.3,
          "cpu_time": 2.3200000000000003,
          "name": "ConcatData_2",
          "real_mem": 303140864,
          "time": 1616567109.3276644
         },
         {
          "cpu_percent": 296.4,
          "cpu_time": 2.38,
          "name": "SelectData_1",
          "real_mem": 303439872,
          "time": 1616567109.3491359
         },
         {
          "cpu_percent": 98.8,
          "cpu_time": 2.42,
          "name": "RenameCol_1",
          "real_mem": 303906816,
          "time": 1616567109.3710914
         },
         {
          "cpu_percent": 195.8,
          "cpu_time": 2.5100000000000002,
          "name": "ReadCsvProjectSpace_1",
          "real_mem": 304836608,
          "time": 1616567109.4146986
         },
         {
          "cpu_percent": 98.5,
          "cpu_time": 2.46,
          "name": "DropDuplicates_1",
          "real_mem": 304492544,
          "time": 1616567109.3929653
         },
         {
          "cpu_percent": 98.8,
          "cpu_time": 2.54,
          "name": "ReadCsvProjectSpace_2",
          "real_mem": 305201152,
          "time": 1616567109.4366817
         },
         {
          "cpu_percent": 197.1,
          "cpu_time": 2.58,
          "name": "ConcatData_1",
          "real_mem": 305872896,
          "time": 1616567109.4588704
         },
         {
          "cpu_percent": 197.1,
          "cpu_time": 2.62,
          "name": "SelectData_2",
          "real_mem": 306532352,
          "time": 1616567109.4806497
         },
         {
          "cpu_percent": 296,
          "cpu_time": 2.68,
          "name": "ConcatData_2",
          "real_mem": 309010432,
          "time": 1616567109.5033412
         },
         {
          "cpu_percent": 98.3,
          "cpu_time": 2.7,
          "name": "SelectData_1",
          "real_mem": 311468032,
          "time": 1616567109.5256414
         },
         {
          "cpu_percent": 196.8,
          "cpu_time": 2.7399999999999998,
          "name": "RenameCol_1",
          "real_mem": 315162624,
          "time": 1616567109.547796
         },
         {
          "cpu_percent": 196.6,
          "cpu_time": 2.79,
          "name": "DropDuplicates_1",
          "real_mem": 318656512,
          "time": 1616567109.5708578
         },
         {
          "cpu_percent": 196.8,
          "cpu_time": 2.85,
          "name": "ReadCsvProjectSpace_1",
          "real_mem": 324194304,
          "time": 1616567109.5933342
         },
         {
          "cpu_percent": 97.9,
          "cpu_time": 2.87,
          "name": "ReadCsvProjectSpace_2",
          "real_mem": 326656000,
          "time": 1616567109.6153755
         },
         {
          "cpu_percent": 196.8,
          "cpu_time": 2.92,
          "name": "ConcatData_1",
          "real_mem": 329924608,
          "time": 1616567109.6375082
         },
         {
          "cpu_percent": 195.1,
          "cpu_time": 2.97,
          "name": "SelectData_2",
          "real_mem": 334032896,
          "time": 1616567109.6596053
         },
         {
          "cpu_percent": 114.9,
          "cpu_time": 3.0300000000000002,
          "name": "ConcatData_2",
          "real_mem": 343367680,
          "time": 1616567109.6884413
         },
         {
          "cpu_percent": 196.5,
          "cpu_time": 3.08,
          "name": "SelectData_1",
          "real_mem": 344219648,
          "time": 1616567109.7111042
         },
         {
          "cpu_percent": 296.2,
          "cpu_time": 3.1399999999999997,
          "name": "RenameCol_1",
          "real_mem": 344535040,
          "time": 1616567109.7328413
         },
         {
          "cpu_percent": 190.7,
          "cpu_time": 3.2,
          "name": "DropDuplicates_1",
          "real_mem": 345042944,
          "time": 1616567109.7547717
         },
         {
          "cpu_percent": 0,
          "cpu_time": 3.22,
          "name": "ReadCsvProjectSpace_1",
          "real_mem": 345120768,
          "time": 1616567109.7771585
         },
         {
          "cpu_percent": 295.4,
          "cpu_time": 3.27,
          "name": "ReadCsvProjectSpace_2",
          "real_mem": 345759744,
          "time": 1616567109.8093774
         },
         {
          "cpu_percent": 185.3,
          "cpu_time": 3.31,
          "name": "ConcatData_1",
          "real_mem": 348975104,
          "time": 1616567109.832645
         },
         {
          "cpu_percent": 197.3,
          "cpu_time": 3.35,
          "name": "SelectData_2",
          "real_mem": 349175808,
          "time": 1616567109.8558593
         },
         {
          "cpu_percent": 0,
          "cpu_time": 3.37,
          "name": "ConcatData_2",
          "real_mem": 349175808,
          "time": 1616567109.87824
         },
         {
          "cpu_percent": 98.5,
          "cpu_time": 3.38,
          "name": "SelectData_1",
          "real_mem": 349175808,
          "time": 1616567109.8999653
         },
         {
          "cpu_percent": 197.1,
          "cpu_time": 3.43,
          "name": "RenameCol_1",
          "real_mem": 349515776,
          "time": 1616567109.9238608
         },
         {
          "cpu_percent": 390.09999999999997,
          "cpu_time": 3.5,
          "name": "DropDuplicates_1",
          "real_mem": 350306304,
          "time": 1616567109.946557
         },
         {
          "cpu_percent": 197.3,
          "cpu_time": 3.54,
          "name": "ReadCsvProjectSpace_1",
          "real_mem": 350703616,
          "time": 1616567109.9695997
         },
         {
          "cpu_percent": 98.4,
          "cpu_time": 3.5700000000000003,
          "name": "ReadCsvProjectSpace_2",
          "real_mem": 351055872,
          "time": 1616567109.9923313
         },
         {
          "cpu_percent": 98.2,
          "cpu_time": 3.5999999999999996,
          "name": "ConcatData_1",
          "real_mem": 351674368,
          "time": 1616567110.0143902
         },
         {
          "cpu_percent": 197.6,
          "cpu_time": 3.6399999999999997,
          "name": "SelectData_2",
          "real_mem": 351813632,
          "time": 1616567110.0367246
         },
         {
          "cpu_percent": 197.4,
          "cpu_time": 3.67,
          "name": "ConcatData_2",
          "real_mem": 352587776,
          "time": 1616567110.0585802
         },
         {
          "cpu_percent": 197.6,
          "cpu_time": 3.71,
          "name": "SelectData_1",
          "real_mem": 353341440,
          "time": 1616567110.0801487
         },
         {
          "cpu_percent": 196.5,
          "cpu_time": 3.77,
          "name": "RenameCol_1",
          "real_mem": 354484224,
          "time": 1616567110.102388
         },
         {
          "cpu_percent": 196.9,
          "cpu_time": 3.82,
          "name": "DropDuplicates_1",
          "real_mem": 355540992,
          "time": 1616567110.1249363
         },
         {
          "cpu_percent": 196.9,
          "cpu_time": 3.87,
          "name": "ReadCsvProjectSpace_1",
          "real_mem": 356352000,
          "time": 1616567110.146986
         },
         {
          "cpu_percent": 196.8,
          "cpu_time": 3.91,
          "name": "ReadCsvProjectSpace_2",
          "real_mem": 357580800,
          "time": 1616567110.169902
         },
         {
          "cpu_percent": 196.8,
          "cpu_time": 3.98,
          "name": "ConcatData_1",
          "real_mem": 355688448,
          "time": 1616567110.2093222
         },
         {
          "cpu_percent": 196.3,
          "cpu_time": 4.0200000000000005,
          "name": "SelectData_2",
          "real_mem": 356372480,
          "time": 1616567110.231437
         },
         {
          "cpu_percent": 98.3,
          "cpu_time": 4.06,
          "name": "ConcatData_2",
          "real_mem": 356847616,
          "time": 1616567110.2541955
         },
         {
          "cpu_percent": 98.6,
          "cpu_time": 4.09,
          "name": "SelectData_1",
          "real_mem": 357261312,
          "time": 1616567110.2763915
         },
         {
          "cpu_percent": 197.4,
          "cpu_time": 4.12,
          "name": "RenameCol_1",
          "real_mem": 358100992,
          "time": 1616567110.2979455
         },
         {
          "cpu_percent": 197.3,
          "cpu_time": 4.15,
          "name": "DropDuplicates_1",
          "real_mem": 358633472,
          "time": 1616567110.3198197
         },
         {
          "cpu_percent": 97.8,
          "cpu_time": 4.1899999999999995,
          "name": "ReadCsvProjectSpace_1",
          "real_mem": 359014400,
          "time": 1616567110.3419812
         },
         {
          "cpu_percent": 98.8,
          "cpu_time": 4.21,
          "name": "ReadCsvProjectSpace_2",
          "real_mem": 361709568,
          "time": 1616567110.3640218
         },
         {
          "cpu_percent": 98.7,
          "cpu_time": 4.26,
          "name": "ConcatData_1",
          "real_mem": 365133824,
          "time": 1616567110.3856492
         },
         {
          "cpu_percent": 197.3,
          "cpu_time": 4.3,
          "name": "SelectData_2",
          "real_mem": 367632384,
          "time": 1616567110.4078305
         },
         {
          "cpu_percent": 98.5,
          "cpu_time": 4.33,
          "name": "ConcatData_2",
          "real_mem": 371077120,
          "time": 1616567110.4298425
         },
         {
          "cpu_percent": 196.9,
          "cpu_time": 4.38,
          "name": "SelectData_1",
          "real_mem": 373997568,
          "time": 1616567110.4517674
         },
         {
          "cpu_percent": 197.2,
          "cpu_time": 4.42,
          "name": "RenameCol_1",
          "real_mem": 378605568,
          "time": 1616567110.4738178
         },
         {
          "cpu_percent": 254.8,
          "cpu_time": 4.470000000000001,
          "name": "DropDuplicates_1",
          "real_mem": 383741952,
          "time": 1616567110.4978085
         },
         {
          "cpu_percent": 98.7,
          "cpu_time": 4.510000000000001,
          "name": "ReadCsvProjectSpace_1",
          "real_mem": 385228800,
          "time": 1616567110.5198472
         },
         {
          "cpu_percent": 98.7,
          "cpu_time": 4.53,
          "name": "ReadCsvProjectSpace_2",
          "real_mem": 387153920,
          "time": 1616567110.5421655
         },
         {
          "cpu_percent": 197.3,
          "cpu_time": 4.57,
          "name": "ConcatData_1",
          "real_mem": 389513216,
          "time": 1616567110.5641828
         },
         {
          "cpu_percent": 98.6,
          "cpu_time": 4.61,
          "name": "SelectData_2",
          "real_mem": 392056832,
          "time": 1616567110.5858045
         },
         {
          "cpu_percent": 197.3,
          "cpu_time": 4.67,
          "name": "ConcatData_2",
          "real_mem": 395141120,
          "time": 1616567110.6078873
         },
         {
          "cpu_percent": 197.3,
          "cpu_time": 4.7,
          "name": "SelectData_1",
          "real_mem": 396439552,
          "time": 1616567110.629778
         },
         {
          "cpu_percent": 195.3,
          "cpu_time": 4.7299999999999995,
          "name": "RenameCol_1",
          "real_mem": 397217792,
          "time": 1616567110.6515245
         },
         {
          "cpu_percent": 196.9,
          "cpu_time": 4.76,
          "name": "DropDuplicates_1",
          "real_mem": 401321984,
          "time": 1616567110.6739407
         },
         {
          "cpu_percent": 98.6,
          "cpu_time": 4.79,
          "name": "ReadCsvProjectSpace_1",
          "real_mem": 405143552,
          "time": 1616567110.6960676
         },
         {
          "cpu_percent": 98.7,
          "cpu_time": 4.83,
          "name": "ReadCsvProjectSpace_2",
          "real_mem": 407396352,
          "time": 1616567110.7177
         },
         {
          "cpu_percent": 196.6,
          "cpu_time": 4.88,
          "name": "ConcatData_1",
          "real_mem": 411942912,
          "time": 1616567110.7401571
         },
         {
          "cpu_percent": 197.1,
          "cpu_time": 4.92,
          "name": "SelectData_2",
          "real_mem": 414949376,
          "time": 1616567110.7622433
         },
         {
          "cpu_percent": 98.7,
          "cpu_time": 4.9799999999999995,
          "name": "ConcatData_2",
          "real_mem": 415944704,
          "time": 1616567110.7838435
         },
         {
          "cpu_percent": 98.6,
          "cpu_time": 5.01,
          "name": "SelectData_1",
          "real_mem": 419463168,
          "time": 1616567110.8087435
         },
         {
          "cpu_percent": 98.2,
          "cpu_time": 5.029999999999999,
          "name": "RenameCol_1",
          "real_mem": 422088704,
          "time": 1616567110.8309765
         },
         {
          "cpu_percent": 197.1,
          "cpu_time": 5.069999999999999,
          "name": "DropDuplicates_1",
          "real_mem": 424873984,
          "time": 1616567110.8529954
         },
         {
          "cpu_percent": 97.5,
          "cpu_time": 5.09,
          "name": "ReadCsvProjectSpace_1",
          "real_mem": 428863488,
          "time": 1616567110.8755584
         },
         {
          "cpu_percent": 98.6,
          "cpu_time": 5.180000000000001,
          "name": "ConcatData_1",
          "real_mem": 437641216,
          "time": 1616567110.9198794
         },
         {
          "cpu_percent": 294.3,
          "cpu_time": 5.14,
          "name": "ReadCsvProjectSpace_2",
          "real_mem": 437325824,
          "time": 1616567110.8976912
         },
         {
          "cpu_percent": 196.5,
          "cpu_time": 5.220000000000001,
          "name": "SelectData_2",
          "real_mem": 437936128,
          "time": 1616567110.9422247
         },
         {
          "cpu_percent": 294.6,
          "cpu_time": 5.29,
          "name": "ConcatData_2",
          "real_mem": 438054912,
          "time": 1616567110.9643295
         },
         {
          "cpu_percent": 84.4,
          "cpu_time": 5.32,
          "name": "SelectData_1",
          "real_mem": 438280192,
          "time": 1616567110.9879005
         },
         {
          "cpu_percent": 196.6,
          "cpu_time": 5.37,
          "name": "RenameCol_1",
          "real_mem": 438927360,
          "time": 1616567111.0101516
         },
         {
          "cpu_percent": 98.5,
          "cpu_time": 5.42,
          "name": "DropDuplicates_1",
          "real_mem": 439562240,
          "time": 1616567111.0328817
         },
         {
          "cpu_percent": 98.4,
          "cpu_time": 5.44,
          "name": "ReadCsvProjectSpace_1",
          "real_mem": 439762944,
          "time": 1616567111.0546422
         },
         {
          "cpu_percent": 97.4,
          "cpu_time": 5.4799999999999995,
          "name": "ReadCsvProjectSpace_2",
          "real_mem": 440295424,
          "time": 1616567111.0776305
         },
         {
          "cpu_percent": 295.8,
          "cpu_time": 5.54,
          "name": "ConcatData_1",
          "real_mem": 445313024,
          "time": 1616567111.1006851
         },
         {
          "cpu_percent": 194.4,
          "cpu_time": 5.58,
          "name": "SelectData_2",
          "real_mem": 449884160,
          "time": 1616567111.1231601
         },
         {
          "cpu_percent": 197.6,
          "cpu_time": 5.61,
          "name": "ConcatData_2",
          "real_mem": 449884160,
          "time": 1616567111.1458004
         },
         {
          "cpu_percent": 195.3,
          "cpu_time": 5.6499999999999995,
          "name": "SelectData_1",
          "real_mem": 450424832,
          "time": 1616567111.1680186
         },
         {
          "cpu_percent": 196.5,
          "cpu_time": 5.71,
          "name": "RenameCol_1",
          "real_mem": 452182016,
          "time": 1616567111.1903229
         },
         {
          "cpu_percent": 196.4,
          "cpu_time": 5.76,
          "name": "DropDuplicates_1",
          "real_mem": 453292032,
          "time": 1616567111.2132335
         },
         {
          "cpu_percent": 295.1,
          "cpu_time": 5.83,
          "name": "ReadCsvProjectSpace_1",
          "real_mem": 454057984,
          "time": 1616567111.2358532
         },
         {
          "cpu_percent": 196.5,
          "cpu_time": 5.87,
          "name": "ReadCsvProjectSpace_2",
          "real_mem": 455749632,
          "time": 1616567111.257978
         },
         {
          "cpu_percent": 0,
          "cpu_time": 5.890000000000001,
          "name": "ConcatData_1",
          "real_mem": 456462336,
          "time": 1616567111.28065
         },
         {
          "cpu_percent": 196.5,
          "cpu_time": 5.95,
          "name": "SelectData_2",
          "real_mem": 457281536,
          "time": 1616567111.309788
         },
         {
          "cpu_percent": 196.9,
          "cpu_time": 5.99,
          "name": "ConcatData_2",
          "real_mem": 458485760,
          "time": 1616567111.3319685
         },
         {
          "cpu_percent": 196.5,
          "cpu_time": 6.05,
          "name": "SelectData_1",
          "real_mem": 459689984,
          "time": 1616567111.3547077
         },
         {
          "cpu_percent": 197,
          "cpu_time": 6.09,
          "name": "RenameCol_1",
          "real_mem": 460615680,
          "time": 1616567111.3772194
         },
         {
          "cpu_percent": 196.2,
          "cpu_time": 6.13,
          "name": "DropDuplicates_1",
          "real_mem": 461197312,
          "time": 1616567111.409103
         },
         {
          "cpu_percent": 196.9,
          "cpu_time": 6.18,
          "name": "ReadCsvProjectSpace_1",
          "real_mem": 461787136,
          "time": 1616567111.431865
         },
         {
          "cpu_percent": 196.2,
          "cpu_time": 6.23,
          "name": "ReadCsvProjectSpace_2",
          "real_mem": 462159872,
          "time": 1616567111.4544039
         },
         {
          "cpu_percent": 196.5,
          "cpu_time": 6.2700000000000005,
          "name": "ConcatData_1",
          "real_mem": 466628608,
          "time": 1616567111.4764903
         },
         {
          "cpu_percent": 295.4,
          "cpu_time": 6.36,
          "name": "SelectData_2",
          "real_mem": 467357696,
          "time": 1616567111.509826
         },
         {
          "cpu_percent": 285.9,
          "cpu_time": 6.4399999999999995,
          "name": "ConcatData_2",
          "real_mem": 468021248,
          "time": 1616567111.5333033
         },
         {
          "cpu_percent": 97.9,
          "cpu_time": 6.47,
          "name": "SelectData_1",
          "real_mem": 468123648,
          "time": 1616567111.5554602
         },
         {
          "cpu_percent": 197.1,
          "cpu_time": 6.58,
          "name": "DropDuplicates_1",
          "real_mem": 469786624,
          "time": 1616567111.6317563
         },
         {
          "cpu_percent": 196.8,
          "cpu_time": 6.52,
          "name": "RenameCol_1",
          "real_mem": 469008384,
          "time": 1616567111.6101196
         },
         {
          "cpu_percent": 196.9,
          "cpu_time": 6.630000000000001,
          "name": "ReadCsvProjectSpace_1",
          "real_mem": 470429696,
          "time": 1616567111.6538298
         },
         {
          "cpu_percent": 89.8,
          "cpu_time": 6.680000000000001,
          "name": "ReadCsvProjectSpace_2",
          "real_mem": 472522752,
          "time": 1616567111.6879504
         },
         {
          "cpu_percent": 197.5,
          "cpu_time": 6.7700000000000005,
          "name": "SelectData_2",
          "real_mem": 472002560,
          "time": 1616567111.7317488
         },
         {
          "cpu_percent": 296.1,
          "cpu_time": 6.73,
          "name": "ConcatData_1",
          "real_mem": 473243648,
          "time": 1616567111.7102737
         },
         {
          "cpu_percent": 197.4,
          "cpu_time": 6.8100000000000005,
          "name": "ConcatData_2",
          "real_mem": 474664960,
          "time": 1616567111.7537842
         },
         {
          "cpu_percent": 197.2,
          "cpu_time": 6.86,
          "name": "SelectData_1",
          "real_mem": 475250688,
          "time": 1616567111.7757092
         },
         {
          "cpu_percent": 197.4,
          "cpu_time": 6.91,
          "name": "RenameCol_1",
          "real_mem": 476667904,
          "time": 1616567111.8097105
         },
         {
          "cpu_percent": 196.5,
          "cpu_time": 6.95,
          "name": "DropDuplicates_1",
          "real_mem": 477028352,
          "time": 1616567111.8318126
         },
         {
          "cpu_percent": 196.7,
          "cpu_time": 7,
          "name": "ReadCsvProjectSpace_1",
          "real_mem": 477560832,
          "time": 1616567111.8548503
         },
         {
          "cpu_percent": 294.5,
          "cpu_time": 7.0600000000000005,
          "name": "ReadCsvProjectSpace_2",
          "real_mem": 477827072,
          "time": 1616567111.8777335
         },
         {
          "cpu_percent": 196.8,
          "cpu_time": 7.1000000000000005,
          "name": "ConcatData_1",
          "real_mem": 480399360,
          "time": 1616567111.909805
         },
         {
          "cpu_percent": 197,
          "cpu_time": 7.15,
          "name": "SelectData_2",
          "real_mem": 481312768,
          "time": 1616567111.931441
         },
         {
          "cpu_percent": 196.9,
          "cpu_time": 7.21,
          "name": "ConcatData_2",
          "real_mem": 481529856,
          "time": 1616567111.9541783
         },
         {
          "cpu_percent": 196.7,
          "cpu_time": 7.25,
          "name": "SelectData_1",
          "real_mem": 481890304,
          "time": 1616567111.9765584
         },
         {
          "cpu_percent": 197.1,
          "cpu_time": 7.319999999999999,
          "name": "RenameCol_1",
          "real_mem": 482091008,
          "time": 1616567112.0092504
         },
         {
          "cpu_percent": 196.7,
          "cpu_time": 7.37,
          "name": "DropDuplicates_1",
          "real_mem": 482701312,
          "time": 1616567112.0322328
         },
         {
          "cpu_percent": 196.3,
          "cpu_time": 7.42,
          "name": "ReadCsvProjectSpace_1",
          "real_mem": 483196928,
          "time": 1616567112.0546832
         },
         {
          "cpu_percent": 0,
          "cpu_time": 7.449999999999999,
          "name": "ReadCsvProjectSpace_2",
          "real_mem": 483463168,
          "time": 1616567112.0764341
         },
         {
          "cpu_percent": 294.5,
          "cpu_time": 7.5,
          "name": "ConcatData_1",
          "real_mem": 483631104,
          "time": 1616567112.109873
         },
         {
          "cpu_percent": 197.1,
          "cpu_time": 7.539999999999999,
          "name": "SelectData_2",
          "real_mem": 484102144,
          "time": 1616567112.131517
         },
         {
          "cpu_percent": 98.6,
          "cpu_time": 7.58,
          "name": "ConcatData_2",
          "real_mem": 484564992,
          "time": 1616567112.153688
         },
         {
          "cpu_percent": 98,
          "cpu_time": 7.6,
          "name": "SelectData_1",
          "real_mem": 485052416,
          "time": 1616567112.1757648
         },
         {
          "cpu_percent": 98.6,
          "cpu_time": 7.630000000000001,
          "name": "RenameCol_1",
          "real_mem": 486395904,
          "time": 1616567112.197604
         },
         {
          "cpu_percent": 98.5,
          "cpu_time": 7.66,
          "name": "DropDuplicates_1",
          "real_mem": 486895616,
          "time": 1616567112.2201078
         },
         {
          "cpu_percent": 98.2,
          "cpu_time": 7.7,
          "name": "ReadCsvProjectSpace_1",
          "real_mem": 487301120,
          "time": 1616567112.2426505
         },
         {
          "cpu_percent": 295.6,
          "cpu_time": 7.74,
          "name": "ReadCsvProjectSpace_2",
          "real_mem": 487747584,
          "time": 1616567112.2642553
         },
         {
          "cpu_percent": 196.7,
          "cpu_time": 7.78,
          "name": "ConcatData_1",
          "real_mem": 488443904,
          "time": 1616567112.2868526
         },
         {
          "cpu_percent": 196.5,
          "cpu_time": 7.84,
          "name": "SelectData_2",
          "real_mem": 488759296,
          "time": 1616567112.3093107
         },
         {
          "cpu_percent": 197.2,
          "cpu_time": 7.88,
          "name": "ConcatData_2",
          "real_mem": 489295872,
          "time": 1616567112.3309305
         },
         {
          "cpu_percent": 196.7,
          "cpu_time": 7.93,
          "name": "SelectData_1",
          "real_mem": 489914368,
          "time": 1616567112.3533545
         },
         {
          "cpu_percent": 98.4,
          "cpu_time": 7.96,
          "name": "RenameCol_1",
          "real_mem": 490426368,
          "time": 1616567112.3758512
         },
         {
          "cpu_percent": 98.4,
          "cpu_time": 7.99,
          "name": "DropDuplicates_1",
          "real_mem": 491720704,
          "time": 1616567112.3977442
         },
         {
          "cpu_percent": 194.8,
          "cpu_time": 8.03,
          "name": "ReadCsvProjectSpace_1",
          "real_mem": 493953024,
          "time": 1616567112.4203954
         },
         {
          "cpu_percent": 196.8,
          "cpu_time": 8.07,
          "name": "ReadCsvProjectSpace_2",
          "real_mem": 496144384,
          "time": 1616567112.4427369
         },
         {
          "cpu_percent": 196.2,
          "cpu_time": 8.120000000000001,
          "name": "ConcatData_1",
          "real_mem": 498614272,
          "time": 1616567112.4646006
         },
         {
          "cpu_percent": 197.3,
          "cpu_time": 8.18,
          "name": "SelectData_2",
          "real_mem": 499871744,
          "time": 1616567112.4867666
         },
         {
          "cpu_percent": 196,
          "cpu_time": 8.22,
          "name": "ConcatData_2",
          "real_mem": 503545856,
          "time": 1616567112.5096517
         },
         {
          "cpu_percent": 197.3,
          "cpu_time": 8.26,
          "name": "SelectData_1",
          "real_mem": 506310656,
          "time": 1616567112.5314906
         },
         {
          "cpu_percent": 196.9,
          "cpu_time": 8.31,
          "name": "RenameCol_1",
          "real_mem": 508882944,
          "time": 1616567112.5537097
         },
         {
          "cpu_percent": 197.1,
          "cpu_time": 8.36,
          "name": "DropDuplicates_1",
          "real_mem": 512270336,
          "time": 1616567112.5757802
         },
         {
          "cpu_percent": 196.9,
          "cpu_time": 8.39,
          "name": "ReadCsvProjectSpace_1",
          "real_mem": 514703360,
          "time": 1616567112.5975983
         },
         {
          "cpu_percent": 294.9,
          "cpu_time": 8.44,
          "name": "ReadCsvProjectSpace_2",
          "real_mem": 517685248,
          "time": 1616567112.6197903
         },
         {
          "cpu_percent": 197.2,
          "cpu_time": 8.48,
          "name": "ConcatData_1",
          "real_mem": 521728000,
          "time": 1616567112.6417015
         },
         {
          "cpu_percent": 296,
          "cpu_time": 8.54,
          "name": "SelectData_2",
          "real_mem": 523653120,
          "time": 1616567112.6646562
         },
         {
          "cpu_percent": 189.4,
          "cpu_time": 8.59,
          "name": "ConcatData_2",
          "real_mem": 524267520,
          "time": 1616567112.7015004
         },
         {
          "cpu_percent": 194.8,
          "cpu_time": 8.68,
          "name": "SelectData_1",
          "real_mem": 525983744,
          "time": 1616567112.728259
         },
         {
          "cpu_percent": 293.3,
          "cpu_time": 8.74,
          "name": "RenameCol_1",
          "real_mem": 528846848,
          "time": 1616567112.7507765
         },
         {
          "cpu_percent": 98.4,
          "cpu_time": 8.780000000000001,
          "name": "DropDuplicates_1",
          "real_mem": 529879040,
          "time": 1616567112.7983286
         },
         {
          "cpu_percent": 197.1,
          "cpu_time": 8.83,
          "name": "ReadCsvProjectSpace_1",
          "real_mem": 532172800,
          "time": 1616567112.8199055
         },
         {
          "cpu_percent": 197.2,
          "cpu_time": 8.89,
          "name": "ReadCsvProjectSpace_2",
          "real_mem": 534257664,
          "time": 1616567112.842634
         },
         {
          "cpu_percent": 295,
          "cpu_time": 8.95,
          "name": "ConcatData_1",
          "real_mem": 536248320,
          "time": 1616567112.8643763
         },
         {
          "cpu_percent": 295.4,
          "cpu_time": 9.07,
          "name": "ConcatData_2",
          "real_mem": 539979776,
          "time": 1616567112.9310896
         },
         {
          "cpu_percent": 296.6,
          "cpu_time": 9.01,
          "name": "SelectData_2",
          "real_mem": 538402816,
          "time": 1616567112.9093547
         },
         {
          "cpu_percent": 295.5,
          "cpu_time": 9.13,
          "name": "SelectData_1",
          "real_mem": 541626368,
          "time": 1616567112.953926
         },
         {
          "cpu_percent": 197.1,
          "cpu_time": 9.16,
          "name": "RenameCol_1",
          "real_mem": 543236096,
          "time": 1616567112.9983616
         },
         {
          "cpu_percent": 296,
          "cpu_time": 9.28,
          "name": "ReadCsvProjectSpace_1",
          "real_mem": 547389440,
          "time": 1616567113.042205
         },
         {
          "cpu_percent": 294,
          "cpu_time": 9.22,
          "name": "DropDuplicates_1",
          "real_mem": 544972800,
          "time": 1616567113.0206132
         },
         {
          "cpu_percent": 59.8,
          "cpu_time": 9.34,
          "name": "ReadCsvProjectSpace_2",
          "real_mem": 549548032,
          "time": 1616567113.0881925
         },
         {
          "cpu_percent": 293.5,
          "cpu_time": 9.41,
          "name": "ConcatData_1",
          "real_mem": 552333312,
          "time": 1616567113.1104596
         },
         {
          "cpu_percent": 295.3,
          "cpu_time": 9.469999999999999,
          "name": "SelectData_2",
          "real_mem": 554450944,
          "time": 1616567113.132993
         },
         {
          "cpu_percent": 196.4,
          "cpu_time": 9.51,
          "name": "ConcatData_2",
          "real_mem": 556101632,
          "time": 1616567113.155392
         },
         {
          "cpu_percent": 0,
          "cpu_time": 9.53,
          "name": "SelectData_1",
          "real_mem": 556642304,
          "time": 1616567113.1781762
         },
         {
          "cpu_percent": 196.4,
          "cpu_time": 9.57,
          "name": "RenameCol_1",
          "real_mem": 558661632,
          "time": 1616567113.2094886
         },
         {
          "cpu_percent": 197.4,
          "cpu_time": 9.629999999999999,
          "name": "DropDuplicates_1",
          "real_mem": 561016832,
          "time": 1616567113.232647
         },
         {
          "cpu_percent": 197.4,
          "cpu_time": 9.68,
          "name": "ReadCsvProjectSpace_1",
          "real_mem": 563179520,
          "time": 1616567113.2542708
         },
         {
          "cpu_percent": 197.1,
          "cpu_time": 9.719999999999999,
          "name": "ReadCsvProjectSpace_2",
          "real_mem": 565862400,
          "time": 1616567113.2767885
         },
         {
          "cpu_percent": 295.6,
          "cpu_time": 9.75,
          "name": "ConcatData_1",
          "real_mem": 569819136,
          "time": 1616567113.2990735
         },
         {
          "cpu_percent": 98.4,
          "cpu_time": 9.799999999999999,
          "name": "SelectData_2",
          "real_mem": 587653120,
          "time": 1616567113.3208926
         },
         {
          "cpu_percent": 296.3,
          "cpu_time": 9.879999999999999,
          "name": "ConcatData_2",
          "real_mem": 593661952,
          "time": 1616567113.3437648
         },
         {
          "cpu_percent": 197,
          "cpu_time": 9.92,
          "name": "SelectData_1",
          "real_mem": 593928192,
          "time": 1616567113.3658612
         },
         {
          "cpu_percent": 197.4,
          "cpu_time": 9.959999999999999,
          "name": "RenameCol_1",
          "real_mem": 596819968,
          "time": 1616567113.4091954
         },
         {
          "cpu_percent": 289.7,
          "cpu_time": 10.180000000000001,
          "name": "DropDuplicates_1",
          "real_mem": 610377728,
          "time": 1616567113.5089533
         },
         {
          "cpu_percent": 197,
          "cpu_time": 10.23,
          "name": "ReadCsvProjectSpace_1",
          "real_mem": 616579072,
          "time": 1616567113.531217
         },
         {
          "cpu_percent": 196.3,
          "cpu_time": 10.280000000000001,
          "name": "ReadCsvProjectSpace_2",
          "real_mem": 618201088,
          "time": 1616567113.5533586
         },
         {
          "cpu_percent": 196.3,
          "cpu_time": 10.33,
          "name": "ConcatData_1",
          "real_mem": 618385408,
          "time": 1616567113.5984962
         },
         {
          "cpu_percent": 295.5,
          "cpu_time": 10.39,
          "name": "SelectData_2",
          "real_mem": 618807296,
          "time": 1616567113.6210222
         },
         {
          "cpu_percent": 295.7,
          "cpu_time": 10.440000000000001,
          "name": "ConcatData_2",
          "real_mem": 618950656,
          "time": 1616567113.6428344
         },
         {
          "cpu_percent": 195.9,
          "cpu_time": 10.49,
          "name": "SelectData_1",
          "real_mem": 619880448,
          "time": 1616567113.66507
         },
         {
          "cpu_percent": 197.5,
          "cpu_time": 10.56,
          "name": "RenameCol_1",
          "real_mem": 620285952,
          "time": 1616567113.7095852
         },
         {
          "cpu_percent": 60.3,
          "cpu_time": 10.700000000000001,
          "name": "DropDuplicates_1",
          "real_mem": 621117440,
          "time": 1616567113.7880702
         },
         {
          "cpu_percent": 196.3,
          "cpu_time": 10.73,
          "name": "ReadCsvProjectSpace_1",
          "real_mem": 621658112,
          "time": 1616567113.8100615
         },
         {
          "cpu_percent": 98.5,
          "cpu_time": 10.75,
          "name": "ReadCsvProjectSpace_2",
          "real_mem": 622530560,
          "time": 1616567113.8321316
         },
         {
          "cpu_percent": 98.7,
          "cpu_time": 10.790000000000001,
          "name": "ConcatData_1",
          "real_mem": 624025600,
          "time": 1616567113.8705924
         },
         {
          "cpu_percent": 196.7,
          "cpu_time": 10.84,
          "name": "SelectData_2",
          "real_mem": 625135616,
          "time": 1616567113.8942027
         },
         {
          "cpu_percent": 196.5,
          "cpu_time": 10.89,
          "name": "ConcatData_2",
          "real_mem": 625844224,
          "time": 1616567113.9167092
         },
         {
          "cpu_percent": 98.3,
          "cpu_time": 10.91,
          "name": "SelectData_1",
          "real_mem": 626163712,
          "time": 1616567113.939297
         },
         {
          "cpu_percent": 98.4,
          "cpu_time": 10.97,
          "name": "RenameCol_1",
          "real_mem": 627077120,
          "time": 1616567113.982759
         },
         {
          "cpu_percent": 98.2,
          "cpu_time": 11.11,
          "name": "DropDuplicates_1",
          "real_mem": 628441088,
          "time": 1616567114.0608778
         },
         {
          "cpu_percent": 98.6,
          "cpu_time": 11.14,
          "name": "ReadCsvProjectSpace_1",
          "real_mem": 629026816,
          "time": 1616567114.0827763
         },
         {
          "cpu_percent": 98.1,
          "cpu_time": 11.17,
          "name": "ReadCsvProjectSpace_2",
          "real_mem": 629481472,
          "time": 1616567114.1056201
         },
         {
          "cpu_percent": 196.9,
          "cpu_time": 11.22,
          "name": "ConcatData_1",
          "real_mem": 630009856,
          "time": 1616567114.142858
         },
         {
          "cpu_percent": 295.5,
          "cpu_time": 11.28,
          "name": "SelectData_2",
          "real_mem": 630333440,
          "time": 1616567114.1670668
         },
         {
          "cpu_percent": 196.6,
          "cpu_time": 11.32,
          "name": "ConcatData_2",
          "real_mem": 630964224,
          "time": 1616567114.1888998
         },
         {
          "cpu_percent": 196.8,
          "cpu_time": 11.379999999999999,
          "name": "SelectData_1",
          "real_mem": 631230464,
          "time": 1616567114.2125149
         },
         {
          "cpu_percent": 97.8,
          "cpu_time": 11.459999999999999,
          "name": "RenameCol_1",
          "real_mem": 632205312,
          "time": 1616567114.25488
         },
         {
          "cpu_percent": 197.2,
          "cpu_time": 11.6,
          "name": "DropDuplicates_1",
          "real_mem": 632922112,
          "time": 1616567114.3336372
         },
         {
          "cpu_percent": 196.8,
          "cpu_time": 11.65,
          "name": "ReadCsvProjectSpace_1",
          "real_mem": 633536512,
          "time": 1616567114.3558948
         },
         {
          "cpu_percent": 196.5,
          "cpu_time": 11.7,
          "name": "ReadCsvProjectSpace_2",
          "real_mem": 633720832,
          "time": 1616567114.3788016
         },
         {
          "cpu_percent": 196.6,
          "cpu_time": 11.79,
          "name": "ConcatData_1",
          "real_mem": 633720832,
          "time": 1616567114.4163802
         },
         {
          "cpu_percent": 294.5,
          "cpu_time": 11.85,
          "name": "SelectData_2",
          "real_mem": 633987072,
          "time": 1616567114.4403882
         },
         {
          "cpu_percent": 196.7,
          "cpu_time": 11.9,
          "name": "ConcatData_2",
          "real_mem": 634257408,
          "time": 1616567114.462848
         },
         {
          "cpu_percent": 0,
          "cpu_time": 11.91,
          "name": "SelectData_1",
          "real_mem": 634257408,
          "time": 1616567114.4853878
         },
         {
          "cpu_percent": 249,
          "cpu_time": 12.02,
          "name": "RenameCol_1",
          "real_mem": 634798080,
          "time": 1616567114.5311325
         },
         {
          "cpu_percent": 98.6,
          "cpu_time": 12.129999999999999,
          "name": "DropDuplicates_1",
          "real_mem": 636293120,
          "time": 1616567114.6066234
         },
         {
          "cpu_percent": 98.6,
          "cpu_time": 12.149999999999999,
          "name": "ReadCsvProjectSpace_1",
          "real_mem": 637022208,
          "time": 1616567114.6283617
         },
         {
          "cpu_percent": 197.3,
          "cpu_time": 12.2,
          "name": "ReadCsvProjectSpace_2",
          "real_mem": 637136896,
          "time": 1616567114.6516626
         },
         {
          "cpu_percent": 296.1,
          "cpu_time": 12.27,
          "name": "ConcatData_1",
          "real_mem": 637820928,
          "time": 1616567114.6889927
         },
         {
          "cpu_percent": 296.1,
          "cpu_time": 12.350000000000001,
          "name": "SelectData_2",
          "real_mem": 638197760,
          "time": 1616567114.7130942
         },
         {
          "cpu_percent": 197.5,
          "cpu_time": 12.399999999999999,
          "name": "ConcatData_2",
          "real_mem": 638541824,
          "time": 1616567114.7347205
         },
         {
          "cpu_percent": 197.4,
          "cpu_time": 12.45,
          "name": "SelectData_1",
          "real_mem": 638693376,
          "time": 1616567114.7578704
         },
         {
          "cpu_percent": 293.2,
          "cpu_time": 12.52,
          "name": "RenameCol_1",
          "real_mem": 639242240,
          "time": 1616567114.809491
         },
         {
          "cpu_percent": 196.6,
          "cpu_time": 12.64,
          "name": "DropDuplicates_1",
          "real_mem": 640204800,
          "time": 1616567114.8788018
         },
         {
          "cpu_percent": 197.2,
          "cpu_time": 12.690000000000001,
          "name": "ReadCsvProjectSpace_1",
          "real_mem": 640548864,
          "time": 1616567114.900604
         },
         {
          "cpu_percent": 197,
          "cpu_time": 12.74,
          "name": "ReadCsvProjectSpace_2",
          "real_mem": 640720896,
          "time": 1616567114.9239657
         },
         {
          "cpu_percent": 196.8,
          "cpu_time": 12.83,
          "name": "ConcatData_1",
          "real_mem": 640925696,
          "time": 1616567114.961206
         },
         {
          "cpu_percent": 98.4,
          "cpu_time": 12.870000000000001,
          "name": "SelectData_2",
          "real_mem": 641232896,
          "time": 1616567114.9853442
         },
         {
          "cpu_percent": 98.5,
          "cpu_time": 12.89,
          "name": "ConcatData_2",
          "real_mem": 641732608,
          "time": 1616567115.0086832
         },
         {
          "cpu_percent": 197,
          "cpu_time": 12.93,
          "name": "SelectData_1",
          "real_mem": 642342912,
          "time": 1616567115.030712
         },
         {
          "cpu_percent": 62.7,
          "cpu_time": 13.05,
          "name": "RenameCol_1",
          "real_mem": 643194880,
          "time": 1616567115.0878956
         },
         {
          "cpu_percent": 294.4,
          "cpu_time": 13.200000000000001,
          "name": "DropDuplicates_1",
          "real_mem": 644349952,
          "time": 1616567115.1513555
         },
         {
          "cpu_percent": 40.1,
          "cpu_time": 13.24,
          "name": "ReadCsvProjectSpace_1",
          "real_mem": 644349952,
          "time": 1616567115.18823
         },
         {
          "cpu_percent": 296.1,
          "cpu_time": 13.3,
          "name": "ReadCsvProjectSpace_2",
          "real_mem": 644349952,
          "time": 1616567115.2101526
         },
         {
          "cpu_percent": 295.5,
          "cpu_time": 13.370000000000001,
          "name": "ConcatData_1",
          "real_mem": 644349952,
          "time": 1616567115.2333496
         },
         {
          "cpu_percent": 296.3,
          "cpu_time": 13.43,
          "name": "SelectData_2",
          "real_mem": 644374528,
          "time": 1616567115.2578063
         },
         {
          "cpu_percent": 295.7,
          "cpu_time": 13.51,
          "name": "ConcatData_2",
          "real_mem": 644624384,
          "time": 1616567115.3095224
         },
         {
          "cpu_percent": 197,
          "cpu_time": 13.57,
          "name": "SelectData_1",
          "real_mem": 644743168,
          "time": 1616567115.331181
         },
         {
          "cpu_percent": 52.9,
          "cpu_time": 13.64,
          "name": "RenameCol_1",
          "real_mem": 646254592,
          "time": 1616567115.388016
         },
         {
          "cpu_percent": 196.1,
          "cpu_time": 13.71,
          "name": "DropDuplicates_1",
          "real_mem": 647016448,
          "time": 1616567115.424491
         },
         {
          "cpu_percent": 195.6,
          "cpu_time": 13.79,
          "name": "ReadCsvProjectSpace_1",
          "real_mem": 647135232,
          "time": 1616567115.4608998
         },
         {
          "cpu_percent": 0,
          "cpu_time": 13.83,
          "name": "ReadCsvProjectSpace_2",
          "real_mem": 647135232,
          "time": 1616567115.4827838
         },
         {
          "cpu_percent": 197.2,
          "cpu_time": 13.89,
          "name": "ConcatData_1",
          "real_mem": 647335936,
          "time": 1616567115.5092797
         },
         {
          "cpu_percent": 296.1,
          "cpu_time": 13.96,
          "name": "SelectData_2",
          "real_mem": 647753728,
          "time": 1616567115.5310276
         },
         {
          "cpu_percent": 196.5,
          "cpu_time": 14.08,
          "name": "ConcatData_2",
          "real_mem": 657149952,
          "time": 1616567115.608641
         },
         {
          "cpu_percent": 196.8,
          "cpu_time": 14.12,
          "name": "SelectData_1",
          "real_mem": 663265280,
          "time": 1616567115.6307821
         },
         {
          "cpu_percent": 197.5,
          "cpu_time": 14.2,
          "name": "RenameCol_1",
          "real_mem": 664100864,
          "time": 1616567115.6602051
         },
         {
          "cpu_percent": 196.7,
          "cpu_time": 14.26,
          "name": "DropDuplicates_1",
          "real_mem": 671850496,
          "time": 1616567115.70878
         },
         {
          "cpu_percent": 197.2,
          "cpu_time": 14.37,
          "name": "ReadCsvProjectSpace_2",
          "real_mem": 719966208,
          "time": 1616567115.7547646
         },
         {
          "cpu_percent": 295.2,
          "cpu_time": 14.33,
          "name": "ReadCsvProjectSpace_1",
          "real_mem": 697806848,
          "time": 1616567115.7329147
         },
         {
          "cpu_percent": 0,
          "cpu_time": 14.42,
          "name": "ConcatData_1",
          "real_mem": 738713600,
          "time": 1616567115.7882383
         },
         {
          "cpu_percent": 98.3,
          "cpu_time": 14.469999999999999,
          "name": "SelectData_2",
          "real_mem": 752807936,
          "time": 1616567115.8109717
         },
         {
          "cpu_percent": 120.6,
          "cpu_time": 14.62,
          "name": "ConcatData_2",
          "real_mem": 764739584,
          "time": 1616567115.888194
         },
         {
          "cpu_percent": 294.6,
          "cpu_time": 14.68,
          "name": "SelectData_1",
          "real_mem": 765005824,
          "time": 1616567115.9106128
         },
         {
          "cpu_percent": 294.9,
          "cpu_time": 14.74,
          "name": "RenameCol_1",
          "real_mem": 765145088,
          "time": 1616567115.9332798
         },
         {
          "cpu_percent": 293.8,
          "cpu_time": 14.84,
          "name": "DropDuplicates_1",
          "real_mem": 765743104,
          "time": 1616567115.9986725
         },
         {
          "cpu_percent": 197,
          "cpu_time": 14.879999999999999,
          "name": "ReadCsvProjectSpace_1",
          "real_mem": 765743104,
          "time": 1616567116.02075
         },
         {
          "cpu_percent": 295.2,
          "cpu_time": 14.940000000000001,
          "name": "ReadCsvProjectSpace_2",
          "real_mem": 765743104,
          "time": 1616567116.0434856
         },
         {
          "cpu_percent": 195.3,
          "cpu_time": 14.989999999999998,
          "name": "ConcatData_1",
          "real_mem": 766595072,
          "time": 1616567116.066473
         },
         {
          "cpu_percent": 196.1,
          "cpu_time": 15.04,
          "name": "SelectData_2",
          "real_mem": 770252800,
          "time": 1616567116.109828
         },
         {
          "cpu_percent": 295.2,
          "cpu_time": 15.17,
          "name": "ConcatData_2",
          "real_mem": 770662400,
          "time": 1616567116.1607237
         },
         {
          "cpu_percent": 0,
          "cpu_time": 15.200000000000001,
          "name": "SelectData_1",
          "real_mem": 770662400,
          "time": 1616567116.1827135
         },
         {
          "cpu_percent": 194.1,
          "cpu_time": 15.25,
          "name": "RenameCol_1",
          "real_mem": 770998272,
          "time": 1616567116.2114177
         },
         {
          "cpu_percent": 186.2,
          "cpu_time": 15.33,
          "name": "DropDuplicates_1",
          "real_mem": 772612096,
          "time": 1616567116.2714047
         },
         {
          "cpu_percent": 294.6,
          "cpu_time": 15.38,
          "name": "ReadCsvProjectSpace_1",
          "real_mem": 772907008,
          "time": 1616567116.2933414
         },
         {
          "cpu_percent": 197.5,
          "cpu_time": 15.42,
          "name": "ReadCsvProjectSpace_2",
          "real_mem": 773550080,
          "time": 1616567116.3152626
         },
         {
          "cpu_percent": 197.1,
          "cpu_time": 15.47,
          "name": "ConcatData_1",
          "real_mem": 773701632,
          "time": 1616567116.3385813
         },
         {
          "cpu_percent": 196.2,
          "cpu_time": 15.56,
          "name": "SelectData_2",
          "real_mem": 775106560,
          "time": 1616567116.3825006
         },
         {
          "cpu_percent": 98.1,
          "cpu_time": 15.65,
          "name": "ConcatData_2",
          "real_mem": 775835648,
          "time": 1616567116.4334097
         },
         {
          "cpu_percent": 98.4,
          "cpu_time": 15.67,
          "name": "SelectData_1",
          "real_mem": 775835648,
          "time": 1616567116.455723
         },
         {
          "cpu_percent": 98.1,
          "cpu_time": 15.700000000000001,
          "name": "RenameCol_1",
          "real_mem": 776310784,
          "time": 1616567116.4841537
         },
         {
          "cpu_percent": 98.3,
          "cpu_time": 15.8,
          "name": "DropDuplicates_1",
          "real_mem": 777138176,
          "time": 1616567116.543996
         },
         {
          "cpu_percent": 197,
          "cpu_time": 15.84,
          "name": "ReadCsvProjectSpace_1",
          "real_mem": 777400320,
          "time": 1616567116.5661883
         },
         {
          "cpu_percent": 295.5,
          "cpu_time": 15.88,
          "name": "ReadCsvProjectSpace_2",
          "real_mem": 777531392,
          "time": 1616567116.5882869
         },
         {
          "cpu_percent": 98.3,
          "cpu_time": 15.92,
          "name": "ConcatData_1",
          "real_mem": 777912320,
          "time": 1616567116.6108677
         },
         {
          "cpu_percent": 193.5,
          "cpu_time": 15.99,
          "name": "SelectData_2",
          "real_mem": 778711040,
          "time": 1616567116.6555462
         },
         {
          "cpu_percent": 294.7,
          "cpu_time": 16.119999999999997,
          "name": "ConcatData_2",
          "real_mem": 779292672,
          "time": 1616567116.7064528
         },
         {
          "cpu_percent": 294.4,
          "cpu_time": 16.19,
          "name": "SelectData_1",
          "real_mem": 779673600,
          "time": 1616567116.7288032
         },
         {
          "cpu_percent": 295.3,
          "cpu_time": 16.27,
          "name": "RenameCol_1",
          "real_mem": 780427264,
          "time": 1616567116.756487
         },
         {
          "cpu_percent": 196.6,
          "cpu_time": 16.35,
          "name": "DropDuplicates_1",
          "real_mem": 780840960,
          "time": 1616567116.8176658
         },
         {
          "cpu_percent": 196.9,
          "cpu_time": 16.400000000000002,
          "name": "ReadCsvProjectSpace_1",
          "real_mem": 781144064,
          "time": 1616567116.8399045
         },
         {
          "cpu_percent": 292.1,
          "cpu_time": 16.45,
          "name": "ReadCsvProjectSpace_2",
          "real_mem": 781295616,
          "time": 1616567116.8627841
         },
         {
          "cpu_percent": 0,
          "cpu_time": 16.46,
          "name": "ConcatData_1",
          "real_mem": 781295616,
          "time": 1616567116.8854532
         },
         {
          "cpu_percent": 196.4,
          "cpu_time": 16.56,
          "name": "SelectData_2",
          "real_mem": 781594624,
          "time": 1616567116.9284065
         },
         {
          "cpu_percent": 197,
          "cpu_time": 16.67,
          "name": "ConcatData_2",
          "real_mem": 782045184,
          "time": 1616567116.9793785
         },
         {
          "cpu_percent": 196.5,
          "cpu_time": 16.71,
          "name": "SelectData_1",
          "real_mem": 782684160,
          "time": 1616567117.0101964
         },
         {
          "cpu_percent": 294.9,
          "cpu_time": 16.77,
          "name": "RenameCol_1",
          "real_mem": 782872576,
          "time": 1616567117.0328603
         },
         {
          "cpu_percent": 196.5,
          "cpu_time": 16.85,
          "name": "DropDuplicates_1",
          "real_mem": 783351808,
          "time": 1616567117.090882
         },
         {
          "cpu_percent": 294.3,
          "cpu_time": 16.92,
          "name": "ReadCsvProjectSpace_1",
          "real_mem": 783880192,
          "time": 1616567117.1134207
         },
         {
          "cpu_percent": 193.6,
          "cpu_time": 16.96,
          "name": "ReadCsvProjectSpace_2",
          "real_mem": 784183296,
          "time": 1616567117.1361163
         },
         {
          "cpu_percent": 98.7,
          "cpu_time": 17,
          "name": "ConcatData_1",
          "real_mem": 784310272,
          "time": 1616567117.1586263
         },
         {
          "cpu_percent": 196.8,
          "cpu_time": 17.09,
          "name": "SelectData_2",
          "real_mem": 785125376,
          "time": 1616567117.2087445
         },
         {
          "cpu_percent": 197.5,
          "cpu_time": 17.2,
          "name": "ConcatData_2",
          "real_mem": 786472960,
          "time": 1616567117.2546663
         },
         {
          "cpu_percent": 294,
          "cpu_time": 17.29,
          "name": "SelectData_1",
          "real_mem": 786915328,
          "time": 1616567117.2984962
         },
         {
          "cpu_percent": 196.8,
          "cpu_time": 17.330000000000002,
          "name": "RenameCol_1",
          "real_mem": 787324928,
          "time": 1616567117.3207555
         },
         {
          "cpu_percent": 296.2,
          "cpu_time": 17.42,
          "name": "DropDuplicates_1",
          "real_mem": 787697664,
          "time": 1616567117.3635266
         },
         {
          "cpu_percent": 295.2,
          "cpu_time": 17.48,
          "name": "ReadCsvProjectSpace_1",
          "real_mem": 788697088,
          "time": 1616567117.3983893
         },
         {
          "cpu_percent": 393.9,
          "cpu_time": 17.580000000000002,
          "name": "ConcatData_1",
          "real_mem": 789585920,
          "time": 1616567117.4432945
         },
         {
          "cpu_percent": 97.5,
          "cpu_time": 17.51,
          "name": "ReadCsvProjectSpace_2",
          "real_mem": 789217280,
          "time": 1616567117.4209025
         },
         {
          "cpu_percent": 294.6,
          "cpu_time": 17.7,
          "name": "SelectData_2",
          "real_mem": 790937600,
          "time": 1616567117.510078
         },
         {
          "cpu_percent": 493.90000000000003,
          "cpu_time": 17.779999999999998,
          "name": "ConcatData_2",
          "real_mem": 791371776,
          "time": 1616567117.531702
         },
         {
          "cpu_percent": 0,
          "cpu_time": 17.84,
          "name": "SelectData_1",
          "real_mem": 792875008,
          "time": 1616567117.5708377
         },
         {
          "cpu_percent": 197,
          "cpu_time": 17.889999999999997,
          "name": "RenameCol_1",
          "real_mem": 792875008,
          "time": 1616567117.6098397
         },
         {
          "cpu_percent": 295.2,
          "cpu_time": 17.959999999999997,
          "name": "DropDuplicates_1",
          "real_mem": 793243648,
          "time": 1616567117.6368535
         },
         {
          "cpu_percent": 98.8,
          "cpu_time": 18,
          "name": "ReadCsvProjectSpace_1",
          "real_mem": 793694208,
          "time": 1616567117.6713593
         },
         {
          "cpu_percent": 196.9,
          "cpu_time": 18.04,
          "name": "ReadCsvProjectSpace_2",
          "real_mem": 794013696,
          "time": 1616567117.6933026
         },
         {
          "cpu_percent": 366.8,
          "cpu_time": 18.09,
          "name": "ConcatData_1",
          "real_mem": 796442624,
          "time": 1616567117.7163727
         },
         {
          "cpu_percent": 0,
          "cpu_time": 18.21,
          "name": "SelectData_2",
          "real_mem": 797630464,
          "time": 1616567117.7834663
         },
         {
          "cpu_percent": 394.8,
          "cpu_time": 18.28,
          "name": "ConcatData_2",
          "real_mem": 797888512,
          "time": 1616567117.8090756
         },
         {
          "cpu_percent": 197.1,
          "cpu_time": 18.360000000000003,
          "name": "SelectData_1",
          "real_mem": 798552064,
          "time": 1616567117.8437006
         },
         {
          "cpu_percent": 293.9,
          "cpu_time": 18.46,
          "name": "RenameCol_1",
          "real_mem": 798941184,
          "time": 1616567117.898515
         },
         {
          "cpu_percent": 495.1,
          "cpu_time": 18.53,
          "name": "DropDuplicates_1",
          "real_mem": 799023104,
          "time": 1616567117.9203515
         },
         {
          "cpu_percent": 294.9,
          "cpu_time": 18.6,
          "name": "ReadCsvProjectSpace_1",
          "real_mem": 799395840,
          "time": 1616567117.9438381
         },
         {
          "cpu_percent": 0,
          "cpu_time": 18.62,
          "name": "ReadCsvProjectSpace_2",
          "real_mem": 799395840,
          "time": 1616567117.96583
         },
         {
          "cpu_percent": 295.8,
          "cpu_time": 18.69,
          "name": "ConcatData_1",
          "real_mem": 800002048,
          "time": 1616567118.0104377
         },
         {
          "cpu_percent": 295.5,
          "cpu_time": 18.810000000000002,
          "name": "SelectData_2",
          "real_mem": 800473088,
          "time": 1616567118.0559175
         },
         {
          "cpu_percent": 296.3,
          "cpu_time": 18.880000000000003,
          "name": "ConcatData_2",
          "real_mem": 796790784,
          "time": 1616567118.1100156
         },
         {
          "cpu_percent": 197.5,
          "cpu_time": 18.92,
          "name": "SelectData_1",
          "real_mem": 799084544,
          "time": 1616567118.1317263
         },
         {
          "cpu_percent": 98.5,
          "cpu_time": 18.96,
          "name": "RenameCol_1",
          "real_mem": 799084544,
          "time": 1616567118.1711092
         },
         {
          "cpu_percent": 98.7,
          "cpu_time": 18.990000000000002,
          "name": "DropDuplicates_1",
          "real_mem": 799084544,
          "time": 1616567118.192824
         },
         {
          "cpu_percent": 196.6,
          "cpu_time": 19.03,
          "name": "ReadCsvProjectSpace_1",
          "real_mem": 799084544,
          "time": 1616567118.2165022
         },
         {
          "cpu_percent": 196.9,
          "cpu_time": 19.080000000000002,
          "name": "ReadCsvProjectSpace_2",
          "real_mem": 799084544,
          "time": 1616567118.2387257
         },
         {
          "cpu_percent": 0,
          "cpu_time": 19.189999999999998,
          "name": "ConcatData_1",
          "real_mem": 799354880,
          "time": 1616567118.2837653
         },
         {
          "cpu_percent": 293.8,
          "cpu_time": 19.3,
          "name": "SelectData_2",
          "real_mem": 800579584,
          "time": 1616567118.3286057
         },
         {
          "cpu_percent": 292.3,
          "cpu_time": 19.439999999999998,
          "name": "ConcatData_2",
          "real_mem": 801579008,
          "time": 1616567118.4094212
         },
         {
          "cpu_percent": 394,
          "cpu_time": 19.509999999999998,
          "name": "SelectData_1",
          "real_mem": 802373632,
          "time": 1616567118.4313824
         },
         {
          "cpu_percent": 295.1,
          "cpu_time": 19.57,
          "name": "RenameCol_1",
          "real_mem": 802623488,
          "time": 1616567118.45359
         },
         {
          "cpu_percent": 295.8,
          "cpu_time": 19.64,
          "name": "DropDuplicates_1",
          "real_mem": 803627008,
          "time": 1616567118.5098825
         },
         {
          "cpu_percent": 196.5,
          "cpu_time": 19.69,
          "name": "ReadCsvProjectSpace_1",
          "real_mem": 804012032,
          "time": 1616567118.532319
         },
         {
          "cpu_percent": 196.7,
          "cpu_time": 19.759999999999998,
          "name": "ReadCsvProjectSpace_2",
          "real_mem": 804012032,
          "time": 1616567118.5546346
         },
         {
          "cpu_percent": 0,
          "cpu_time": 19.77,
          "name": "ConcatData_1",
          "real_mem": 804012032,
          "time": 1616567118.5769079
         },
         {
          "cpu_percent": 295.8,
          "cpu_time": 19.83,
          "name": "SelectData_2",
          "real_mem": 804765696,
          "time": 1616567118.6102784
         },
         {
          "cpu_percent": 197,
          "cpu_time": 20.04,
          "name": "ConcatData_2",
          "real_mem": 806166528,
          "time": 1616567118.7107604
         },
         {
          "cpu_percent": 295.5,
          "cpu_time": 20.099999999999998,
          "name": "SelectData_1",
          "real_mem": 806342656,
          "time": 1616567118.7323482
         },
         {
          "cpu_percent": 45.5,
          "cpu_time": 20.15,
          "name": "RenameCol_1",
          "real_mem": 806928384,
          "time": 1616567118.7881126
         },
         {
          "cpu_percent": 393.7,
          "cpu_time": 20.240000000000002,
          "name": "DropDuplicates_1",
          "real_mem": 807034880,
          "time": 1616567118.8106945
         },
         {
          "cpu_percent": 392.2,
          "cpu_time": 20.31,
          "name": "ReadCsvProjectSpace_1",
          "real_mem": 807034880,
          "time": 1616567118.8323786
         },
         {
          "cpu_percent": 196.5,
          "cpu_time": 20.36,
          "name": "ReadCsvProjectSpace_2",
          "real_mem": 807034880,
          "time": 1616567118.8548486
         },
         {
          "cpu_percent": 295,
          "cpu_time": 20.42,
          "name": "ConcatData_1",
          "real_mem": 807034880,
          "time": 1616567118.9099052
         },
         {
          "cpu_percent": 393.2,
          "cpu_time": 20.5,
          "name": "SelectData_2",
          "real_mem": 807034880,
          "time": 1616567118.9334977
         },
         {
          "cpu_percent": 294.9,
          "cpu_time": 20.61,
          "name": "ConcatData_2",
          "real_mem": 807034880,
          "time": 1616567119.008978
         },
         {
          "cpu_percent": 294.9,
          "cpu_time": 20.68,
          "name": "SelectData_1",
          "real_mem": 807034880,
          "time": 1616567119.0313184
         },
         {
          "cpu_percent": 27.3,
          "cpu_time": 20.76,
          "name": "RenameCol_1",
          "real_mem": 807301120,
          "time": 1616567119.0879374
         },
         {
          "cpu_percent": 393.3,
          "cpu_time": 20.83,
          "name": "DropDuplicates_1",
          "real_mem": 807751680,
          "time": 1616567119.1097865
         },
         {
          "cpu_percent": 295.3,
          "cpu_time": 20.9,
          "name": "ReadCsvProjectSpace_1",
          "real_mem": 812077056,
          "time": 1616567119.1317832
         },
         {
          "cpu_percent": 22.8,
          "cpu_time": 20.94,
          "name": "ReadCsvProjectSpace_2",
          "real_mem": 812617728,
          "time": 1616567119.1879234
         },
         {
          "cpu_percent": 294.8,
          "cpu_time": 21,
          "name": "ConcatData_1",
          "real_mem": 813539328,
          "time": 1616567119.2109897
         },
         {
          "cpu_percent": 393.70000000000005,
          "cpu_time": 21.09,
          "name": "SelectData_2",
          "real_mem": 813899776,
          "time": 1616567119.2333288
         },
         {
          "cpu_percent": 125.4,
          "cpu_time": 21.18,
          "name": "ConcatData_2",
          "real_mem": 819744768,
          "time": 1616567119.3085146
         },
         {
          "cpu_percent": 98.4,
          "cpu_time": 21.25,
          "name": "SelectData_1",
          "real_mem": 824029184,
          "time": 1616567119.3564472
         },
         {
          "cpu_percent": 98.2,
          "cpu_time": 21.28,
          "name": "RenameCol_1",
          "real_mem": 824029184,
          "time": 1616567119.3796084
         },
         {
          "cpu_percent": 98.6,
          "cpu_time": 21.3,
          "name": "DropDuplicates_1",
          "real_mem": 824029184,
          "time": 1616567119.4026558
         },
         {
          "cpu_percent": 98.6,
          "cpu_time": 21.330000000000002,
          "name": "ReadCsvProjectSpace_1",
          "real_mem": 824299520,
          "time": 1616567119.4261878
         },
         {
          "cpu_percent": 391.7,
          "cpu_time": 21.43,
          "name": "ReadCsvProjectSpace_2",
          "real_mem": 822046720,
          "time": 1616567119.4622786
         },
         {
          "cpu_percent": 394.3,
          "cpu_time": 21.51,
          "name": "ConcatData_1",
          "real_mem": 822046720,
          "time": 1616567119.499557
         },
         {
          "cpu_percent": 295.5,
          "cpu_time": 21.59,
          "name": "SelectData_2",
          "real_mem": 822091776,
          "time": 1616567119.5227714
         },
         {
          "cpu_percent": 190.8,
          "cpu_time": 21.68,
          "name": "ConcatData_2",
          "real_mem": 822222848,
          "time": 1616567119.5987706
         },
         {
          "cpu_percent": 197.3,
          "cpu_time": 21.75,
          "name": "SelectData_1",
          "real_mem": 822222848,
          "time": 1616567119.6296682
         },
         {
          "cpu_percent": 295.6,
          "cpu_time": 21.82,
          "name": "RenameCol_1",
          "real_mem": 822222848,
          "time": 1616567119.6515841
         },
         {
          "cpu_percent": 0,
          "cpu_time": 21.86,
          "name": "DropDuplicates_1",
          "real_mem": 822222848,
          "time": 1616567119.6754165
         },
         {
          "cpu_percent": 294.7,
          "cpu_time": 22.11,
          "name": "ConcatData_1",
          "real_mem": 822222848,
          "time": 1616567119.8098786
         },
         {
          "cpu_percent": 294.6,
          "cpu_time": 22.18,
          "name": "SelectData_2",
          "real_mem": 822280192,
          "time": 1616567119.8323169
         },
         {
          "cpu_percent": 392.5,
          "cpu_time": 22.33,
          "name": "ConcatData_2",
          "real_mem": 822788096,
          "time": 1616567119.9104815
         },
         {
          "cpu_percent": 196.4,
          "cpu_time": 22.41,
          "name": "SelectData_1",
          "real_mem": 823050240,
          "time": 1616567119.932929
         },
         {
          "cpu_percent": 296.1,
          "cpu_time": 22.53,
          "name": "DropDuplicates_1",
          "real_mem": 823291904,
          "time": 1616567120.0097756
         },
         {
          "cpu_percent": 0,
          "cpu_time": 22.46,
          "name": "RenameCol_1",
          "real_mem": 823144448,
          "time": 1616567119.9878771
         },
         {
          "cpu_percent": 296.1,
          "cpu_time": 22.720000000000002,
          "name": "ConcatData_1",
          "real_mem": 823975936,
          "time": 1616567120.1100986
         },
         {
          "cpu_percent": 98.5,
          "cpu_time": 22.770000000000003,
          "name": "SelectData_2",
          "real_mem": 824119296,
          "time": 1616567120.131823
         },
         {
          "cpu_percent": 98.2,
          "cpu_time": 22.87,
          "name": "ConcatData_2",
          "real_mem": 824213504,
          "time": 1616567120.2117798
         },
         {
          "cpu_percent": 98.5,
          "cpu_time": 22.89,
          "name": "SelectData_1",
          "real_mem": 824213504,
          "time": 1616567120.2337127
         },
         {
          "cpu_percent": 98.6,
          "cpu_time": 22.959999999999997,
          "name": "DropDuplicates_1",
          "real_mem": 825282560,
          "time": 1616567120.2852585
         },
         {
          "cpu_percent": 98.4,
          "cpu_time": 22.92,
          "name": "RenameCol_1",
          "real_mem": 825282560,
          "time": 1616567120.262183
         },
         {
          "cpu_percent": 295.2,
          "cpu_time": 23.15,
          "name": "ConcatData_1",
          "real_mem": 826695680,
          "time": 1616567120.3828378
         },
         {
          "cpu_percent": 97.7,
          "cpu_time": 23.34,
          "name": "ConcatData_2",
          "real_mem": 826806272,
          "time": 1616567120.4846177
         },
         {
          "cpu_percent": 50.2,
          "cpu_time": 23.54,
          "name": "DropDuplicates_1",
          "real_mem": 826896384,
          "time": 1616567120.587935
         },
         {
          "cpu_percent": 97.4,
          "cpu_time": 23.7,
          "name": "ConcatData_1",
          "real_mem": 827523072,
          "time": 1616567120.6553206
         },
         {
          "cpu_percent": 293.1,
          "cpu_time": 23.86,
          "name": "ConcatData_2",
          "real_mem": 827523072,
          "time": 1616567120.7579198
         },
         {
          "cpu_percent": 294.8,
          "cpu_time": 24.13,
          "name": "DropDuplicates_1",
          "real_mem": 828940288,
          "time": 1616567120.86087
         },
         {
          "cpu_percent": 197,
          "cpu_time": 24.3,
          "name": "ConcatData_1",
          "real_mem": 829517824,
          "time": 1616567120.954196
         },
         {
          "cpu_percent": 98.3,
          "cpu_time": 24.43,
          "name": "ConcatData_2",
          "real_mem": 830070784,
          "time": 1616567121.0323203
         },
         {
          "cpu_percent": 195.4,
          "cpu_time": 24.59,
          "name": "DropDuplicates_1",
          "real_mem": 830484480,
          "time": 1616567121.1337917
         },
         {
          "cpu_percent": 269.8,
          "cpu_time": 24.89,
          "name": "ConcatData_2",
          "real_mem": 830607360,
          "time": 1616567121.305643
         },
         {
          "cpu_percent": 196.9,
          "cpu_time": 25.39,
          "name": "DropDuplicates_1",
          "real_mem": 830881792,
          "time": 1616567121.65825
         },
         {
          "cpu_percent": 295.7,
          "cpu_time": 25.79,
          "name": "ConcatData_2",
          "real_mem": 832118784,
          "time": 1616567121.8314636
         },
         {
          "cpu_percent": 98.5,
          "cpu_time": 26.34,
          "name": "DropDuplicates_1",
          "real_mem": 833716224,
          "time": 1616567122.1816757
         },
         {
          "cpu_percent": 196.9,
          "cpu_time": 27.22,
          "name": "DropDuplicates_1",
          "real_mem": 837201920,
          "time": 1616567122.7087705
         },
         {
          "cpu_percent": 197.4,
          "cpu_time": 28.14,
          "name": "DropDuplicates_1",
          "real_mem": 839577600,
          "time": 1616567123.2326906
         },
         {
          "cpu_percent": 23.3,
          "cpu_time": 29.09,
          "name": "DropDuplicates_1",
          "real_mem": 840445952,
          "time": 1616567123.7880118
         },
         {
          "cpu_percent": 98.7,
          "cpu_time": 29.96,
          "name": "DropDuplicates_1",
          "real_mem": 850722816,
          "time": 1616567124.3115795
         },
         {
          "cpu_percent": 389.7,
          "cpu_time": 30.810000000000002,
          "name": "DropDuplicates_1",
          "real_mem": 851034112,
          "time": 1616567124.8349936
         },
         {
          "cpu_percent": 49.6,
          "cpu_time": 31.82,
          "name": "DropDuplicates_1",
          "real_mem": 852332544,
          "time": 1616567125.3881552
         },
         {
          "cpu_percent": 196.8,
          "cpu_time": 32.84,
          "name": "DropDuplicates_1",
          "real_mem": 871936000,
          "time": 1616567125.9107668
         },
         {
          "cpu_percent": 296,
          "cpu_time": 33.92,
          "name": "DropDuplicates_1",
          "real_mem": 873066496,
          "time": 1616567126.4338007
         },
         {
          "cpu_percent": 196.8,
          "cpu_time": 34.91,
          "name": "DropDuplicates_1",
          "real_mem": 873127936,
          "time": 1616567126.9562957
         },
         {
          "cpu_percent": 197.5,
          "cpu_time": 36,
          "name": "DropDuplicates_1",
          "real_mem": 873795584,
          "time": 1616567127.5095615
         },
         {
          "cpu_percent": 196.8,
          "cpu_time": 37.059999999999995,
          "name": "DropDuplicates_1",
          "real_mem": 873795584,
          "time": 1616567128.0327785
         },
         {
          "cpu_percent": 196.9,
          "cpu_time": 38.050000000000004,
          "name": "DropDuplicates_1",
          "real_mem": 880238592,
          "time": 1616567128.5553057
         }
        ],
        "logs": [
         {
          "asctime": "2021-03-24 06:25:07,037",
          "created": 1616567107.037307,
          "extra": {},
          "filename": "async_executors.py",
          "funcName": "main",
          "levelname": "DEBUG",
          "lineno": 114,
          "message": "NonSparkPath_2: started async block execution\n",
          "name": "engine.logs:NonSparkPath_2",
          "pathname": "/usr/local/lib/python3.7/dist-packages/razor/flow/async_executors.py",
          "process": 2236,
          "processName": "ForkProcess-1:4",
          "thread": 139707269711680,
          "threadName": "MainThread"
         },
         {
          "asctime": "2021-03-24 06:25:07,009",
          "created": 1616567107.0095978,
          "extra": {},
          "filename": "async_executors.py",
          "funcName": "main",
          "levelname": "DEBUG",
          "lineno": 114,
          "message": "NonSparkCols_1: started async block execution\n",
          "name": "engine.logs:NonSparkCols_1",
          "pathname": "/usr/local/lib/python3.7/dist-packages/razor/flow/async_executors.py",
          "process": 2222,
          "processName": "ForkProcess-1:1",
          "thread": 139707269711680,
          "threadName": "MainThread"
         },
         {
          "asctime": "2021-03-24 06:25:07,018",
          "created": 1616567107.0185971,
          "extra": {},
          "filename": "async_executors.py",
          "funcName": "main",
          "levelname": "DEBUG",
          "lineno": 114,
          "message": "NonSparkPath_1: started async block execution\n",
          "name": "engine.logs:NonSparkPath_1",
          "pathname": "/usr/local/lib/python3.7/dist-packages/razor/flow/async_executors.py",
          "process": 2227,
          "processName": "ForkProcess-1:2",
          "thread": 139707269711680,
          "threadName": "MainThread"
         },
         {
          "asctime": "2021-03-24 06:25:07,029",
          "created": 1616567107.029332,
          "extra": {},
          "filename": "async_executors.py",
          "funcName": "main",
          "levelname": "DEBUG",
          "lineno": 114,
          "message": "NonSparkCols_2: started async block execution\n",
          "name": "engine.logs:NonSparkCols_2",
          "pathname": "/usr/local/lib/python3.7/dist-packages/razor/flow/async_executors.py",
          "process": 2232,
          "processName": "ForkProcess-1:3",
          "thread": 139707269711680,
          "threadName": "MainThread"
         },
         {
          "asctime": "2021-03-24 06:25:07,340",
          "created": 1616567107.3404567,
          "extra": {},
          "filename": "async_executors.py",
          "funcName": "fill_atomic_inputs",
          "levelname": "INFO",
          "lineno": 250,
          "message": "NonSparkPath_2: waiting for atomic input: ip_path",
          "name": "engine.logs:NonSparkPath_2",
          "pathname": "/usr/local/lib/python3.7/dist-packages/razor/flow/async_executors.py",
          "process": 2236,
          "processName": "ForkProcess-1:4",
          "thread": 139707269711680,
          "threadName": "MainThread"
         },
         {
          "asctime": "2021-03-24 06:25:07,025",
          "created": 1616567107.0259311,
          "extra": {},
          "filename": "async_executors.py",
          "funcName": "fill_atomic_inputs",
          "levelname": "INFO",
          "lineno": 250,
          "message": "NonSparkCols_1: waiting for atomic input: cols_list",
          "name": "engine.logs:NonSparkCols_1",
          "pathname": "/usr/local/lib/python3.7/dist-packages/razor/flow/async_executors.py",
          "process": 2222,
          "processName": "ForkProcess-1:1",
          "thread": 139707269711680,
          "threadName": "MainThread"
         },
         {
          "asctime": "2021-03-24 06:25:07,340",
          "created": 1616567107.3405943,
          "extra": {},
          "filename": "async_executors.py",
          "funcName": "fill_atomic_inputs",
          "levelname": "DEBUG",
          "lineno": 253,
          "message": "NonSparkPath_2: got atomic input: train_hatespeech.csv",
          "name": "engine.logs:NonSparkPath_2",
          "pathname": "/usr/local/lib/python3.7/dist-packages/razor/flow/async_executors.py",
          "process": 2236,
          "processName": "ForkProcess-1:4",
          "thread": 139707269711680,
          "threadName": "MainThread"
         },
         {
          "asctime": "2021-03-24 06:25:07,034",
          "created": 1616567107.0348475,
          "extra": {},
          "filename": "async_executors.py",
          "funcName": "fill_atomic_inputs",
          "levelname": "INFO",
          "lineno": 250,
          "message": "NonSparkPath_1: waiting for atomic input: ip_path",
          "name": "engine.logs:NonSparkPath_1",
          "pathname": "/usr/local/lib/python3.7/dist-packages/razor/flow/async_executors.py",
          "process": 2227,
          "processName": "ForkProcess-1:2",
          "thread": 139707269711680,
          "threadName": "MainThread"
         },
         {
          "asctime": "2021-03-24 06:25:07,026",
          "created": 1616567107.026133,
          "extra": {},
          "filename": "async_executors.py",
          "funcName": "fill_atomic_inputs",
          "levelname": "DEBUG",
          "lineno": 253,
          "message": "NonSparkCols_1: got atomic input: ['title', 'label']",
          "name": "engine.logs:NonSparkCols_1",
          "pathname": "/usr/local/lib/python3.7/dist-packages/razor/flow/async_executors.py",
          "process": 2222,
          "processName": "ForkProcess-1:1",
          "thread": 139707269711680,
          "threadName": "MainThread"
         },
         {
          "asctime": "2021-03-24 06:25:07,340",
          "created": 1616567107.3406606,
          "extra": {},
          "filename": "async_executors.py",
          "funcName": "main",
          "levelname": "DEBUG",
          "lineno": 130,
          "message": "NonSparkPath_2: triggering block run",
          "name": "engine.logs:NonSparkPath_2",
          "pathname": "/usr/local/lib/python3.7/dist-packages/razor/flow/async_executors.py",
          "process": 2236,
          "processName": "ForkProcess-1:4",
          "thread": 139707269711680,
          "threadName": "MainThread"
         },
         {
          "asctime": "2021-03-24 06:25:07,035",
          "created": 1616567107.0350685,
          "extra": {},
          "filename": "async_executors.py",
          "funcName": "fill_atomic_inputs",
          "levelname": "DEBUG",
          "lineno": 253,
          "message": "NonSparkPath_1: got atomic input: df_with_stats.csv",
          "name": "engine.logs:NonSparkPath_1",
          "pathname": "/usr/local/lib/python3.7/dist-packages/razor/flow/async_executors.py",
          "process": 2227,
          "processName": "ForkProcess-1:2",
          "thread": 139707269711680,
          "threadName": "MainThread"
         },
         {
          "asctime": "2021-03-24 06:25:07,327",
          "created": 1616567107.3272073,
          "extra": {},
          "filename": "async_executors.py",
          "funcName": "fill_atomic_inputs",
          "levelname": "INFO",
          "lineno": 250,
          "message": "NonSparkCols_2: waiting for atomic input: cols_list",
          "name": "engine.logs:NonSparkCols_2",
          "pathname": "/usr/local/lib/python3.7/dist-packages/razor/flow/async_executors.py",
          "process": 2232,
          "processName": "ForkProcess-1:3",
          "thread": 139707269711680,
          "threadName": "MainThread"
         },
         {
          "asctime": "2021-03-24 06:25:07,026",
          "created": 1616567107.0262556,
          "extra": {},
          "filename": "async_executors.py",
          "funcName": "main",
          "levelname": "DEBUG",
          "lineno": 130,
          "message": "NonSparkCols_1: triggering block run",
          "name": "engine.logs:NonSparkCols_1",
          "pathname": "/usr/local/lib/python3.7/dist-packages/razor/flow/async_executors.py",
          "process": 2222,
          "processName": "ForkProcess-1:1",
          "thread": 139707269711680,
          "threadName": "MainThread"
         },
         {
          "asctime": "2021-03-24 06:25:07,035",
          "created": 1616567107.0351932,
          "extra": {},
          "filename": "async_executors.py",
          "funcName": "main",
          "levelname": "DEBUG",
          "lineno": 130,
          "message": "NonSparkPath_1: triggering block run",
          "name": "engine.logs:NonSparkPath_1",
          "pathname": "/usr/local/lib/python3.7/dist-packages/razor/flow/async_executors.py",
          "process": 2227,
          "processName": "ForkProcess-1:2",
          "thread": 139707269711680,
          "threadName": "MainThread"
         },
         {
          "asctime": "2021-03-24 06:25:07,327",
          "created": 1616567107.3273463,
          "extra": {},
          "filename": "async_executors.py",
          "funcName": "fill_atomic_inputs",
          "levelname": "DEBUG",
          "lineno": 253,
          "message": "NonSparkCols_2: got atomic input: ['tweet', 'class']",
          "name": "engine.logs:NonSparkCols_2",
          "pathname": "/usr/local/lib/python3.7/dist-packages/razor/flow/async_executors.py",
          "process": 2232,
          "processName": "ForkProcess-1:3",
          "thread": 139707269711680,
          "threadName": "MainThread"
         },
         {
          "asctime": "2021-03-24 06:25:07,327",
          "created": 1616567107.3274086,
          "extra": {},
          "filename": "async_executors.py",
          "funcName": "main",
          "levelname": "DEBUG",
          "lineno": 130,
          "message": "NonSparkCols_2: triggering block run",
          "name": "engine.logs:NonSparkCols_2",
          "pathname": "/usr/local/lib/python3.7/dist-packages/razor/flow/async_executors.py",
          "process": 2232,
          "processName": "ForkProcess-1:3",
          "thread": 139707269711680,
          "threadName": "MainThread"
         },
         {
          "asctime": "2021-03-24 06:25:07,028",
          "created": 1616567107.0285275,
          "extra": {},
          "filename": "async_executors.py",
          "funcName": "distribute_output_queue",
          "levelname": "DEBUG",
          "lineno": 308,
          "message": "NonSparkCols_1: ---- dist output: ['title', 'label'] -> ('SelectData_1', 'wanted_cols')",
          "name": "engine.logs:NonSparkCols_1",
          "pathname": "/usr/local/lib/python3.7/dist-packages/razor/flow/async_executors.py",
          "process": 2222,
          "processName": "ForkProcess-1:1",
          "thread": 139707269711680,
          "threadName": "MainThread"
         },
         {
          "asctime": "2021-03-24 06:25:07,029",
          "created": 1616567107.0290911,
          "extra": {},
          "filename": "async_executors.py",
          "funcName": "main",
          "levelname": "DEBUG",
          "lineno": 147,
          "message": "NonSparkCols_1: block thread completed",
          "name": "engine.logs:NonSparkCols_1",
          "pathname": "/usr/local/lib/python3.7/dist-packages/razor/flow/async_executors.py",
          "process": 2222,
          "processName": "ForkProcess-1:1",
          "thread": 139707269711680,
          "threadName": "MainThread"
         },
         {
          "asctime": "2021-03-24 06:25:07,329",
          "created": 1616567107.329231,
          "extra": {},
          "filename": "async_executors.py",
          "funcName": "distribute_output_queue",
          "levelname": "DEBUG",
          "lineno": 308,
          "message": "NonSparkCols_2: ---- dist output: ['tweet', 'class'] -> ('SelectData_2', 'wanted_cols')",
          "name": "engine.logs:NonSparkCols_2",
          "pathname": "/usr/local/lib/python3.7/dist-packages/razor/flow/async_executors.py",
          "process": 2232,
          "processName": "ForkProcess-1:3",
          "thread": 139707269711680,
          "threadName": "MainThread"
         },
         {
          "asctime": "2021-03-24 06:25:07,029",
          "created": 1616567107.0292234,
          "extra": {},
          "filename": "async_executors.py",
          "funcName": "main",
          "levelname": "DEBUG",
          "lineno": 149,
          "message": "NonSparkCols_1: block execution complete",
          "name": "engine.logs:NonSparkCols_1",
          "pathname": "/usr/local/lib/python3.7/dist-packages/razor/flow/async_executors.py",
          "process": 2222,
          "processName": "ForkProcess-1:1",
          "thread": 139707269711680,
          "threadName": "MainThread"
         },
         {
          "asctime": "2021-03-24 06:25:07,329",
          "created": 1616567107.329567,
          "extra": {},
          "filename": "async_executors.py",
          "funcName": "main",
          "levelname": "DEBUG",
          "lineno": 147,
          "message": "NonSparkCols_2: block thread completed",
          "name": "engine.logs:NonSparkCols_2",
          "pathname": "/usr/local/lib/python3.7/dist-packages/razor/flow/async_executors.py",
          "process": 2232,
          "processName": "ForkProcess-1:3",
          "thread": 139707269711680,
          "threadName": "MainThread"
         },
         {
          "asctime": "2021-03-24 06:25:07,329",
          "created": 1616567107.3296385,
          "extra": {},
          "filename": "async_executors.py",
          "funcName": "main",
          "levelname": "DEBUG",
          "lineno": 149,
          "message": "NonSparkCols_2: block execution complete",
          "name": "engine.logs:NonSparkCols_2",
          "pathname": "/usr/local/lib/python3.7/dist-packages/razor/flow/async_executors.py",
          "process": 2232,
          "processName": "ForkProcess-1:3",
          "thread": 139707269711680,
          "threadName": "MainThread"
         },
         {
          "asctime": "2021-03-24 06:25:07,029",
          "created": 1616567107.0296001,
          "extra": {},
          "filename": "async_executors.py",
          "funcName": "distribute_output_queue",
          "levelname": "DEBUG",
          "lineno": 308,
          "message": "NonSparkCols_1: ---- dist output: b'__!\\tEndOfStream\\t!__' -> ('SelectData_1', 'wanted_cols')",
          "name": "engine.logs:NonSparkCols_1",
          "pathname": "/usr/local/lib/python3.7/dist-packages/razor/flow/async_executors.py",
          "process": 2222,
          "processName": "ForkProcess-1:1",
          "thread": 139707269711680,
          "threadName": "MainThread"
         },
         {
          "asctime": "2021-03-24 06:25:07,329",
          "created": 1616567107.329834,
          "extra": {},
          "filename": "async_executors.py",
          "funcName": "distribute_output_queue",
          "levelname": "DEBUG",
          "lineno": 308,
          "message": "NonSparkCols_2: ---- dist output: b'__!\\tEndOfStream\\t!__' -> ('SelectData_2', 'wanted_cols')",
          "name": "engine.logs:NonSparkCols_2",
          "pathname": "/usr/local/lib/python3.7/dist-packages/razor/flow/async_executors.py",
          "process": 2232,
          "processName": "ForkProcess-1:3",
          "thread": 139707269711680,
          "threadName": "MainThread"
         },
         {
          "asctime": "2021-03-24 06:25:07,546",
          "created": 1616567107.5464556,
          "extra": {},
          "filename": "async_executors.py",
          "funcName": "distribute_output_queue",
          "levelname": "DEBUG",
          "lineno": 308,
          "message": "NonSparkPath_1: ---- dist output: /home/aios/projectspace/df_with_stats.csv -> ('ReadCsvProjectSpace_1', 'filename')",
          "name": "engine.logs:NonSparkPath_1",
          "pathname": "/usr/local/lib/python3.7/dist-packages/razor/flow/async_executors.py",
          "process": 2227,
          "processName": "ForkProcess-1:2",
          "thread": 139707269711680,
          "threadName": "MainThread"
         },
         {
          "asctime": "2021-03-24 06:25:07,546",
          "created": 1616567107.5467455,
          "extra": {},
          "filename": "async_executors.py",
          "funcName": "main",
          "levelname": "DEBUG",
          "lineno": 147,
          "message": "NonSparkPath_1: block thread completed",
          "name": "engine.logs:NonSparkPath_1",
          "pathname": "/usr/local/lib/python3.7/dist-packages/razor/flow/async_executors.py",
          "process": 2227,
          "processName": "ForkProcess-1:2",
          "thread": 139707269711680,
          "threadName": "MainThread"
         },
         {
          "asctime": "2021-03-24 06:25:07,546",
          "created": 1616567107.5468178,
          "extra": {},
          "filename": "async_executors.py",
          "funcName": "main",
          "levelname": "DEBUG",
          "lineno": 149,
          "message": "NonSparkPath_1: block execution complete",
          "name": "engine.logs:NonSparkPath_1",
          "pathname": "/usr/local/lib/python3.7/dist-packages/razor/flow/async_executors.py",
          "process": 2227,
          "processName": "ForkProcess-1:2",
          "thread": 139707269711680,
          "threadName": "MainThread"
         },
         {
          "asctime": "2021-03-24 06:25:07,546",
          "created": 1616567107.5469277,
          "extra": {},
          "filename": "async_executors.py",
          "funcName": "distribute_output_queue",
          "levelname": "DEBUG",
          "lineno": 308,
          "message": "NonSparkPath_1: ---- dist output: b'__!\\tEndOfStream\\t!__' -> ('ReadCsvProjectSpace_1', 'filename')",
          "name": "engine.logs:NonSparkPath_1",
          "pathname": "/usr/local/lib/python3.7/dist-packages/razor/flow/async_executors.py",
          "process": 2227,
          "processName": "ForkProcess-1:2",
          "thread": 139707269711680,
          "threadName": "MainThread"
         },
         {
          "asctime": "2021-03-24 06:25:07,595",
          "created": 1616567107.595147,
          "extra": {},
          "filename": "async_executors.py",
          "funcName": "distribute_output_queue",
          "levelname": "DEBUG",
          "lineno": 308,
          "message": "NonSparkPath_2: ---- dist output: /home/aios/projectspace/train_hatespeech.csv -> ('ReadCsvProjectSpace_2', 'filename')",
          "name": "engine.logs:NonSparkPath_2",
          "pathname": "/usr/local/lib/python3.7/dist-packages/razor/flow/async_executors.py",
          "process": 2236,
          "processName": "ForkProcess-1:4",
          "thread": 139707269711680,
          "threadName": "MainThread"
         },
         {
          "asctime": "2021-03-24 06:25:07,595",
          "created": 1616567107.5954127,
          "extra": {},
          "filename": "async_executors.py",
          "funcName": "main",
          "levelname": "DEBUG",
          "lineno": 147,
          "message": "NonSparkPath_2: block thread completed",
          "name": "engine.logs:NonSparkPath_2",
          "pathname": "/usr/local/lib/python3.7/dist-packages/razor/flow/async_executors.py",
          "process": 2236,
          "processName": "ForkProcess-1:4",
          "thread": 139707269711680,
          "threadName": "MainThread"
         },
         {
          "asctime": "2021-03-24 06:25:07,595",
          "created": 1616567107.595488,
          "extra": {},
          "filename": "async_executors.py",
          "funcName": "main",
          "levelname": "DEBUG",
          "lineno": 149,
          "message": "NonSparkPath_2: block execution complete",
          "name": "engine.logs:NonSparkPath_2",
          "pathname": "/usr/local/lib/python3.7/dist-packages/razor/flow/async_executors.py",
          "process": 2236,
          "processName": "ForkProcess-1:4",
          "thread": 139707269711680,
          "threadName": "MainThread"
         },
         {
          "asctime": "2021-03-24 06:25:07,595",
          "created": 1616567107.5955875,
          "extra": {},
          "filename": "async_executors.py",
          "funcName": "distribute_output_queue",
          "levelname": "DEBUG",
          "lineno": 308,
          "message": "NonSparkPath_2: ---- dist output: b'__!\\tEndOfStream\\t!__' -> ('ReadCsvProjectSpace_2', 'filename')",
          "name": "engine.logs:NonSparkPath_2",
          "pathname": "/usr/local/lib/python3.7/dist-packages/razor/flow/async_executors.py",
          "process": 2236,
          "processName": "ForkProcess-1:4",
          "thread": 139707269711680,
          "threadName": "MainThread"
         },
         {
          "asctime": "2021-03-24 06:25:07,571",
          "created": 1616567107.5714273,
          "extra": {},
          "filename": "async_executors.py",
          "funcName": "main",
          "levelname": "DEBUG",
          "lineno": 114,
          "message": "DropDuplicates_1: started async block execution\n",
          "name": "engine.logs:DropDuplicates_1",
          "pathname": "/usr/local/lib/python3.7/dist-packages/razor/flow/async_executors.py",
          "process": 2249,
          "processName": "ForkProcess-1:5",
          "thread": 139707269711680,
          "threadName": "MainThread"
         },
         {
          "asctime": "2021-03-24 06:25:07,572",
          "created": 1616567107.5729895,
          "extra": {},
          "filename": "async_executors.py",
          "funcName": "main",
          "levelname": "DEBUG",
          "lineno": 114,
          "message": "ReadCsvProjectSpace_1: started async block execution\n",
          "name": "engine.logs:ReadCsvProjectSpace_1",
          "pathname": "/usr/local/lib/python3.7/dist-packages/razor/flow/async_executors.py",
          "process": 2249,
          "processName": "ForkProcess-1:5",
          "thread": 139707269711680,
          "threadName": "MainThread"
         },
         {
          "asctime": "2021-03-24 06:25:07,574",
          "created": 1616567107.5740185,
          "extra": {},
          "filename": "async_executors.py",
          "funcName": "main",
          "levelname": "DEBUG",
          "lineno": 114,
          "message": "ReadCsvProjectSpace_2: started async block execution\n",
          "name": "engine.logs:ReadCsvProjectSpace_2",
          "pathname": "/usr/local/lib/python3.7/dist-packages/razor/flow/async_executors.py",
          "process": 2249,
          "processName": "ForkProcess-1:5",
          "thread": 139707269711680,
          "threadName": "MainThread"
         },
         {
          "asctime": "2021-03-24 06:25:07,574",
          "created": 1616567107.5745847,
          "extra": {},
          "filename": "async_executors.py",
          "funcName": "main",
          "levelname": "DEBUG",
          "lineno": 114,
          "message": "ConcatData_1: started async block execution\n",
          "name": "engine.logs:ConcatData_1",
          "pathname": "/usr/local/lib/python3.7/dist-packages/razor/flow/async_executors.py",
          "process": 2249,
          "processName": "ForkProcess-1:5",
          "thread": 139707269711680,
          "threadName": "MainThread"
         },
         {
          "asctime": "2021-03-24 06:25:07,575",
          "created": 1616567107.5752163,
          "extra": {},
          "filename": "async_executors.py",
          "funcName": "main",
          "levelname": "DEBUG",
          "lineno": 114,
          "message": "SelectData_2: started async block execution\n",
          "name": "engine.logs:SelectData_2",
          "pathname": "/usr/local/lib/python3.7/dist-packages/razor/flow/async_executors.py",
          "process": 2249,
          "processName": "ForkProcess-1:5",
          "thread": 139707269711680,
          "threadName": "MainThread"
         },
         {
          "asctime": "2021-03-24 06:25:07,575",
          "created": 1616567107.5758777,
          "extra": {},
          "filename": "async_executors.py",
          "funcName": "main",
          "levelname": "DEBUG",
          "lineno": 114,
          "message": "ConcatData_2: started async block execution\n",
          "name": "engine.logs:ConcatData_2",
          "pathname": "/usr/local/lib/python3.7/dist-packages/razor/flow/async_executors.py",
          "process": 2249,
          "processName": "ForkProcess-1:5",
          "thread": 139707269711680,
          "threadName": "MainThread"
         },
         {
          "asctime": "2021-03-24 06:25:07,576",
          "created": 1616567107.5765975,
          "extra": {},
          "filename": "async_executors.py",
          "funcName": "main",
          "levelname": "DEBUG",
          "lineno": 114,
          "message": "SelectData_1: started async block execution\n",
          "name": "engine.logs:SelectData_1",
          "pathname": "/usr/local/lib/python3.7/dist-packages/razor/flow/async_executors.py",
          "process": 2249,
          "processName": "ForkProcess-1:5",
          "thread": 139707269711680,
          "threadName": "MainThread"
         },
         {
          "asctime": "2021-03-24 06:25:07,577",
          "created": 1616567107.5771651,
          "extra": {},
          "filename": "async_executors.py",
          "funcName": "main",
          "levelname": "DEBUG",
          "lineno": 114,
          "message": "RenameCol_1: started async block execution\n",
          "name": "engine.logs:RenameCol_1",
          "pathname": "/usr/local/lib/python3.7/dist-packages/razor/flow/async_executors.py",
          "process": 2249,
          "processName": "ForkProcess-1:5",
          "thread": 139707269711680,
          "threadName": "MainThread"
         },
         {
          "asctime": "2021-03-24 06:25:07,730",
          "created": 1616567107.7307553,
          "extra": {},
          "filename": "async_executors.py",
          "funcName": "start_input_receiver",
          "levelname": "DEBUG",
          "lineno": 173,
          "message": "NonSparkPath_1: received cmd: start_sender, (), {'out_name': 'op_path', 'target': ('ReadCsvProjectSpace_1', 'filename'), 'out_addr': 'tcp://0.0.0.0:56199', 'in_memory': None}",
          "name": "engine.logs:NonSparkPath_1",
          "pathname": "/usr/local/lib/python3.7/dist-packages/razor/flow/async_executors.py",
          "process": 2227,
          "processName": "ForkProcess-1:2",
          "thread": 139707269711680,
          "threadName": "MainThread"
         },
         {
          "asctime": "2021-03-24 06:25:07,733",
          "created": 1616567107.7332335,
          "extra": {},
          "filename": "async_executors.py",
          "funcName": "start_input_receiver",
          "levelname": "DEBUG",
          "lineno": 173,
          "message": "NonSparkPath_2: received cmd: start_sender, (), {'out_name': 'op_path', 'target': ('ReadCsvProjectSpace_2', 'filename'), 'out_addr': 'tcp://0.0.0.0:57544', 'in_memory': None}",
          "name": "engine.logs:NonSparkPath_2",
          "pathname": "/usr/local/lib/python3.7/dist-packages/razor/flow/async_executors.py",
          "process": 2236,
          "processName": "ForkProcess-1:4",
          "thread": 139707269711680,
          "threadName": "MainThread"
         },
         {
          "asctime": "2021-03-24 06:25:07,731",
          "created": 1616567107.7310889,
          "extra": {},
          "filename": "async_executors.py",
          "funcName": "start_output_sender",
          "levelname": "DEBUG",
          "lineno": 370,
          "message": "NonSparkPath_1: got start_sender, op_path, ('ReadCsvProjectSpace_1', 'filename')",
          "name": "engine.logs:NonSparkPath_1",
          "pathname": "/usr/local/lib/python3.7/dist-packages/razor/flow/async_executors.py",
          "process": 2227,
          "processName": "ForkProcess-1:2",
          "thread": 139707269711680,
          "threadName": "MainThread"
         },
         {
          "asctime": "2021-03-24 06:25:07,733",
          "created": 1616567107.7335634,
          "extra": {},
          "filename": "async_executors.py",
          "funcName": "start_output_sender",
          "levelname": "DEBUG",
          "lineno": 370,
          "message": "NonSparkPath_2: got start_sender, op_path, ('ReadCsvProjectSpace_2', 'filename')",
          "name": "engine.logs:NonSparkPath_2",
          "pathname": "/usr/local/lib/python3.7/dist-packages/razor/flow/async_executors.py",
          "process": 2236,
          "processName": "ForkProcess-1:4",
          "thread": 139707269711680,
          "threadName": "MainThread"
         },
         {
          "asctime": "2021-03-24 06:25:07,735",
          "created": 1616567107.7351453,
          "extra": {},
          "filename": "async_executors.py",
          "funcName": "start_input_receiver",
          "levelname": "DEBUG",
          "lineno": 173,
          "message": "NonSparkCols_2: received cmd: start_sender, (), {'out_name': 'selected_cols', 'target': ('SelectData_2', 'wanted_cols'), 'out_addr': 'tcp://0.0.0.0:63567', 'in_memory': None}",
          "name": "engine.logs:NonSparkCols_2",
          "pathname": "/usr/local/lib/python3.7/dist-packages/razor/flow/async_executors.py",
          "process": 2232,
          "processName": "ForkProcess-1:3",
          "thread": 139707269711680,
          "threadName": "MainThread"
         },
         {
          "asctime": "2021-03-24 06:25:07,592",
          "created": 1616567107.5926235,
          "extra": {},
          "filename": "async_executors.py",
          "funcName": "fill_atomic_inputs",
          "levelname": "INFO",
          "lineno": 250,
          "message": "DropDuplicates_1: waiting for atomic input: inputData",
          "name": "engine.logs:DropDuplicates_1",
          "pathname": "/usr/local/lib/python3.7/dist-packages/razor/flow/async_executors.py",
          "process": 2249,
          "processName": "ForkProcess-1:5",
          "thread": 139707269711680,
          "threadName": "MainThread"
         },
         {
          "asctime": "2021-03-24 06:25:07,615",
          "created": 1616567107.6150827,
          "extra": {},
          "filename": "async_executors.py",
          "funcName": "fill_atomic_inputs",
          "levelname": "INFO",
          "lineno": 250,
          "message": "ReadCsvProjectSpace_1: waiting for atomic input: filename",
          "name": "engine.logs:ReadCsvProjectSpace_1",
          "pathname": "/usr/local/lib/python3.7/dist-packages/razor/flow/async_executors.py",
          "process": 2249,
          "processName": "ForkProcess-1:5",
          "thread": 139707269711680,
          "threadName": "MainThread"
         },
         {
          "asctime": "2021-03-24 06:25:07,628",
          "created": 1616567107.6282861,
          "extra": {},
          "filename": "async_executors.py",
          "funcName": "fill_atomic_inputs",
          "levelname": "INFO",
          "lineno": 250,
          "message": "ReadCsvProjectSpace_2: waiting for atomic input: filename",
          "name": "engine.logs:ReadCsvProjectSpace_2",
          "pathname": "/usr/local/lib/python3.7/dist-packages/razor/flow/async_executors.py",
          "process": 2249,
          "processName": "ForkProcess-1:5",
          "thread": 139707269711680,
          "threadName": "MainThread"
         },
         {
          "asctime": "2021-03-24 06:25:07,641",
          "created": 1616567107.6413934,
          "extra": {},
          "filename": "async_executors.py",
          "funcName": "fill_atomic_inputs",
          "levelname": "INFO",
          "lineno": 250,
          "message": "ConcatData_1: waiting for atomic input: inputData_1",
          "name": "engine.logs:ConcatData_1",
          "pathname": "/usr/local/lib/python3.7/dist-packages/razor/flow/async_executors.py",
          "process": 2249,
          "processName": "ForkProcess-1:5",
          "thread": 139707269711680,
          "threadName": "MainThread"
         },
         {
          "asctime": "2021-03-24 06:25:07,654",
          "created": 1616567107.6541448,
          "extra": {},
          "filename": "async_executors.py",
          "funcName": "fill_atomic_inputs",
          "levelname": "INFO",
          "lineno": 250,
          "message": "SelectData_2: waiting for atomic input: wanted_cols",
          "name": "engine.logs:SelectData_2",
          "pathname": "/usr/local/lib/python3.7/dist-packages/razor/flow/async_executors.py",
          "process": 2249,
          "processName": "ForkProcess-1:5",
          "thread": 139707269711680,
          "threadName": "MainThread"
         },
         {
          "asctime": "2021-03-24 06:25:07,666",
          "created": 1616567107.6667762,
          "extra": {},
          "filename": "async_executors.py",
          "funcName": "fill_atomic_inputs",
          "levelname": "INFO",
          "lineno": 250,
          "message": "ConcatData_2: waiting for atomic input: inputData_1",
          "name": "engine.logs:ConcatData_2",
          "pathname": "/usr/local/lib/python3.7/dist-packages/razor/flow/async_executors.py",
          "process": 2249,
          "processName": "ForkProcess-1:5",
          "thread": 139707269711680,
          "threadName": "MainThread"
         },
         {
          "asctime": "2021-03-24 06:25:07,679",
          "created": 1616567107.6796608,
          "extra": {},
          "filename": "async_executors.py",
          "funcName": "fill_atomic_inputs",
          "levelname": "INFO",
          "lineno": 250,
          "message": "SelectData_1: waiting for atomic input: wanted_cols",
          "name": "engine.logs:SelectData_1",
          "pathname": "/usr/local/lib/python3.7/dist-packages/razor/flow/async_executors.py",
          "process": 2249,
          "processName": "ForkProcess-1:5",
          "thread": 139707269711680,
          "threadName": "MainThread"
         },
         {
          "asctime": "2021-03-24 06:25:07,702",
          "created": 1616567107.7029002,
          "extra": {},
          "filename": "async_executors.py",
          "funcName": "fill_atomic_inputs",
          "levelname": "INFO",
          "lineno": 250,
          "message": "RenameCol_1: waiting for atomic input: inputData",
          "name": "engine.logs:RenameCol_1",
          "pathname": "/usr/local/lib/python3.7/dist-packages/razor/flow/async_executors.py",
          "process": 2249,
          "processName": "ForkProcess-1:5",
          "thread": 139707269711680,
          "threadName": "MainThread"
         },
         {
          "asctime": "2021-03-24 06:25:07,731",
          "created": 1616567107.7318115,
          "extra": {},
          "filename": "async_executors.py",
          "funcName": "start_output_sender",
          "levelname": "DEBUG",
          "lineno": 388,
          "message": "NonSparkPath_1: SENT, filename, /home/aios/projectspace/df_with_stats.csv, ('ReadCsvProjectSpace_1', 'filename')",
          "name": "engine.logs:NonSparkPath_1",
          "pathname": "/usr/local/lib/python3.7/dist-packages/razor/flow/async_executors.py",
          "process": 2227,
          "processName": "ForkProcess-1:2",
          "thread": 139707269711680,
          "threadName": "MainThread"
         },
         {
          "asctime": "2021-03-24 06:25:07,734",
          "created": 1616567107.7342548,
          "extra": {},
          "filename": "async_executors.py",
          "funcName": "start_output_sender",
          "levelname": "DEBUG",
          "lineno": 388,
          "message": "NonSparkPath_2: SENT, filename, /home/aios/projectspace/train_hatespeech.csv, ('ReadCsvProjectSpace_2', 'filename')",
          "name": "engine.logs:NonSparkPath_2",
          "pathname": "/usr/local/lib/python3.7/dist-packages/razor/flow/async_executors.py",
          "process": 2236,
          "processName": "ForkProcess-1:4",
          "thread": 139707269711680,
          "threadName": "MainThread"
         },
         {
          "asctime": "2021-03-24 06:25:07,735",
          "created": 1616567107.7354548,
          "extra": {},
          "filename": "async_executors.py",
          "funcName": "start_output_sender",
          "levelname": "DEBUG",
          "lineno": 370,
          "message": "NonSparkCols_2: got start_sender, selected_cols, ('SelectData_2', 'wanted_cols')",
          "name": "engine.logs:NonSparkCols_2",
          "pathname": "/usr/local/lib/python3.7/dist-packages/razor/flow/async_executors.py",
          "process": 2232,
          "processName": "ForkProcess-1:3",
          "thread": 139707269711680,
          "threadName": "MainThread"
         },
         {
          "asctime": "2021-03-24 06:25:07,736",
          "created": 1616567107.7361202,
          "extra": {},
          "filename": "async_executors.py",
          "funcName": "start_output_sender",
          "levelname": "DEBUG",
          "lineno": 388,
          "message": "NonSparkCols_2: SENT, wanted_cols, ['tweet', 'class'], ('SelectData_2', 'wanted_cols')",
          "name": "engine.logs:NonSparkCols_2",
          "pathname": "/usr/local/lib/python3.7/dist-packages/razor/flow/async_executors.py",
          "process": 2232,
          "processName": "ForkProcess-1:3",
          "thread": 139707269711680,
          "threadName": "MainThread"
         },
         {
          "asctime": "2021-03-24 06:25:07,734",
          "created": 1616567107.7344477,
          "extra": {},
          "filename": "async_executors.py",
          "funcName": "start_output_sender",
          "levelname": "DEBUG",
          "lineno": 388,
          "message": "NonSparkPath_2: SENT, filename, b'__!\\tEndOfStream\\t!__', ('ReadCsvProjectSpace_2', 'filename')",
          "name": "engine.logs:NonSparkPath_2",
          "pathname": "/usr/local/lib/python3.7/dist-packages/razor/flow/async_executors.py",
          "process": 2236,
          "processName": "ForkProcess-1:4",
          "thread": 139707269711680,
          "threadName": "MainThread"
         },
         {
          "asctime": "2021-03-24 06:25:07,732",
          "created": 1616567107.7320147,
          "extra": {},
          "filename": "async_executors.py",
          "funcName": "start_output_sender",
          "levelname": "DEBUG",
          "lineno": 388,
          "message": "NonSparkPath_1: SENT, filename, b'__!\\tEndOfStream\\t!__', ('ReadCsvProjectSpace_1', 'filename')",
          "name": "engine.logs:NonSparkPath_1",
          "pathname": "/usr/local/lib/python3.7/dist-packages/razor/flow/async_executors.py",
          "process": 2227,
          "processName": "ForkProcess-1:2",
          "thread": 139707269711680,
          "threadName": "MainThread"
         },
         {
          "asctime": "2021-03-24 06:25:07,736",
          "created": 1616567107.7363207,
          "extra": {},
          "filename": "async_executors.py",
          "funcName": "start_output_sender",
          "levelname": "DEBUG",
          "lineno": 388,
          "message": "NonSparkCols_2: SENT, wanted_cols, b'__!\\tEndOfStream\\t!__', ('SelectData_2', 'wanted_cols')",
          "name": "engine.logs:NonSparkCols_2",
          "pathname": "/usr/local/lib/python3.7/dist-packages/razor/flow/async_executors.py",
          "process": 2232,
          "processName": "ForkProcess-1:3",
          "thread": 139707269711680,
          "threadName": "MainThread"
         },
         {
          "asctime": "2021-03-24 06:25:07,732",
          "created": 1616567107.7322414,
          "extra": {},
          "filename": "async_executors.py",
          "funcName": "start_output_sender",
          "levelname": "DEBUG",
          "lineno": 391,
          "message": "NonSparkPath_1: completed output: ('op_path', ('ReadCsvProjectSpace_1', 'filename'))",
          "name": "engine.logs:NonSparkPath_1",
          "pathname": "/usr/local/lib/python3.7/dist-packages/razor/flow/async_executors.py",
          "process": 2227,
          "processName": "ForkProcess-1:2",
          "thread": 139707269711680,
          "threadName": "MainThread"
         },
         {
          "asctime": "2021-03-24 06:25:07,734",
          "created": 1616567107.7346416,
          "extra": {},
          "filename": "async_executors.py",
          "funcName": "start_output_sender",
          "levelname": "DEBUG",
          "lineno": 391,
          "message": "NonSparkPath_2: completed output: ('op_path', ('ReadCsvProjectSpace_2', 'filename'))",
          "name": "engine.logs:NonSparkPath_2",
          "pathname": "/usr/local/lib/python3.7/dist-packages/razor/flow/async_executors.py",
          "process": 2236,
          "processName": "ForkProcess-1:4",
          "thread": 139707269711680,
          "threadName": "MainThread"
         },
         {
          "asctime": "2021-03-24 06:25:07,746",
          "created": 1616567107.7465942,
          "extra": {},
          "filename": "async_executors.py",
          "funcName": "start_input_receiver",
          "levelname": "DEBUG",
          "lineno": 173,
          "message": "NonSparkPath_1: received cmd: terminate, (), {}",
          "name": "engine.logs:NonSparkPath_1",
          "pathname": "/usr/local/lib/python3.7/dist-packages/razor/flow/async_executors.py",
          "process": 2227,
          "processName": "ForkProcess-1:2",
          "thread": 139707269711680,
          "threadName": "MainThread"
         },
         {
          "asctime": "2021-03-24 06:25:07,736",
          "created": 1616567107.7365913,
          "extra": {},
          "filename": "async_executors.py",
          "funcName": "start_output_sender",
          "levelname": "DEBUG",
          "lineno": 391,
          "message": "NonSparkCols_2: completed output: ('selected_cols', ('SelectData_2', 'wanted_cols'))",
          "name": "engine.logs:NonSparkCols_2",
          "pathname": "/usr/local/lib/python3.7/dist-packages/razor/flow/async_executors.py",
          "process": 2232,
          "processName": "ForkProcess-1:3",
          "thread": 139707269711680,
          "threadName": "MainThread"
         },
         {
          "asctime": "2021-03-24 06:25:07,749",
          "created": 1616567107.7492478,
          "extra": {},
          "filename": "async_executors.py",
          "funcName": "start_input_receiver",
          "levelname": "DEBUG",
          "lineno": 173,
          "message": "NonSparkPath_2: received cmd: terminate, (), {}",
          "name": "engine.logs:NonSparkPath_2",
          "pathname": "/usr/local/lib/python3.7/dist-packages/razor/flow/async_executors.py",
          "process": 2236,
          "processName": "ForkProcess-1:4",
          "thread": 139707269711680,
          "threadName": "MainThread"
         },
         {
          "asctime": "2021-03-24 06:25:07,747",
          "created": 1616567107.747238,
          "extra": {},
          "filename": "async_executors.py",
          "funcName": "start_input_receiver",
          "levelname": "DEBUG",
          "lineno": 173,
          "message": "NonSparkCols_1: received cmd: start_sender, (), {'out_name': 'selected_cols', 'target': ('SelectData_1', 'wanted_cols'), 'out_addr': 'tcp://0.0.0.0:63729', 'in_memory': None}",
          "name": "engine.logs:NonSparkCols_1",
          "pathname": "/usr/local/lib/python3.7/dist-packages/razor/flow/async_executors.py",
          "process": 2222,
          "processName": "ForkProcess-1:1",
          "thread": 139707269711680,
          "threadName": "MainThread"
         },
         {
          "asctime": "2021-03-24 06:25:07,751",
          "created": 1616567107.7516346,
          "extra": {},
          "filename": "async_executors.py",
          "funcName": "start_input_receiver",
          "levelname": "DEBUG",
          "lineno": 173,
          "message": "NonSparkCols_2: received cmd: terminate, (), {}",
          "name": "engine.logs:NonSparkCols_2",
          "pathname": "/usr/local/lib/python3.7/dist-packages/razor/flow/async_executors.py",
          "process": 2232,
          "processName": "ForkProcess-1:3",
          "thread": 139707269711680,
          "threadName": "MainThread"
         },
         {
          "asctime": "2021-03-24 06:25:07,747",
          "created": 1616567107.7476583,
          "extra": {},
          "filename": "async_executors.py",
          "funcName": "start_output_sender",
          "levelname": "DEBUG",
          "lineno": 370,
          "message": "NonSparkCols_1: got start_sender, selected_cols, ('SelectData_1', 'wanted_cols')",
          "name": "engine.logs:NonSparkCols_1",
          "pathname": "/usr/local/lib/python3.7/dist-packages/razor/flow/async_executors.py",
          "process": 2222,
          "processName": "ForkProcess-1:1",
          "thread": 139707269711680,
          "threadName": "MainThread"
         },
         {
          "asctime": "2021-03-24 06:25:07,748",
          "created": 1616567107.7483063,
          "extra": {},
          "filename": "async_executors.py",
          "funcName": "start_output_sender",
          "levelname": "DEBUG",
          "lineno": 388,
          "message": "NonSparkCols_1: SENT, wanted_cols, ['title', 'label'], ('SelectData_1', 'wanted_cols')",
          "name": "engine.logs:NonSparkCols_1",
          "pathname": "/usr/local/lib/python3.7/dist-packages/razor/flow/async_executors.py",
          "process": 2222,
          "processName": "ForkProcess-1:1",
          "thread": 139707269711680,
          "threadName": "MainThread"
         },
         {
          "asctime": "2021-03-24 06:25:07,748",
          "created": 1616567107.7484696,
          "extra": {},
          "filename": "async_executors.py",
          "funcName": "start_output_sender",
          "levelname": "DEBUG",
          "lineno": 388,
          "message": "NonSparkCols_1: SENT, wanted_cols, b'__!\\tEndOfStream\\t!__', ('SelectData_1', 'wanted_cols')",
          "name": "engine.logs:NonSparkCols_1",
          "pathname": "/usr/local/lib/python3.7/dist-packages/razor/flow/async_executors.py",
          "process": 2222,
          "processName": "ForkProcess-1:1",
          "thread": 139707269711680,
          "threadName": "MainThread"
         },
         {
          "asctime": "2021-03-24 06:25:07,748",
          "created": 1616567107.7486665,
          "extra": {},
          "filename": "async_executors.py",
          "funcName": "start_output_sender",
          "levelname": "DEBUG",
          "lineno": 391,
          "message": "NonSparkCols_1: completed output: ('selected_cols', ('SelectData_1', 'wanted_cols'))",
          "name": "engine.logs:NonSparkCols_1",
          "pathname": "/usr/local/lib/python3.7/dist-packages/razor/flow/async_executors.py",
          "process": 2222,
          "processName": "ForkProcess-1:1",
          "thread": 139707269711680,
          "threadName": "MainThread"
         },
         {
          "asctime": "2021-03-24 06:25:07,741",
          "created": 1616567107.741339,
          "extra": {},
          "filename": "async_executors.py",
          "funcName": "start_input_receiver",
          "levelname": "DEBUG",
          "lineno": 177,
          "message": "ReadCsvProjectSpace_1: received data: filename, /home/aios/projectspace/df_with_stats.csv",
          "name": "engine.logs:ReadCsvProjectSpace_1",
          "pathname": "/usr/local/lib/python3.7/dist-packages/razor/flow/async_executors.py",
          "process": 2249,
          "processName": "ForkProcess-1:5",
          "thread": 139707269711680,
          "threadName": "MainThread"
         },
         {
          "asctime": "2021-03-24 06:25:07,761",
          "created": 1616567107.7615294,
          "extra": {},
          "filename": "async_executors.py",
          "funcName": "start_input_receiver",
          "levelname": "DEBUG",
          "lineno": 173,
          "message": "NonSparkCols_1: received cmd: terminate, (), {}",
          "name": "engine.logs:NonSparkCols_1",
          "pathname": "/usr/local/lib/python3.7/dist-packages/razor/flow/async_executors.py",
          "process": 2222,
          "processName": "ForkProcess-1:1",
          "thread": 139707269711680,
          "threadName": "MainThread"
         },
         {
          "asctime": "2021-03-24 06:25:07,741",
          "created": 1616567107.741593,
          "extra": {},
          "filename": "async_executors.py",
          "funcName": "start_input_receiver",
          "levelname": "DEBUG",
          "lineno": 177,
          "message": "ReadCsvProjectSpace_2: received data: filename, /home/aios/projectspace/train_hatespeech.csv",
          "name": "engine.logs:ReadCsvProjectSpace_2",
          "pathname": "/usr/local/lib/python3.7/dist-packages/razor/flow/async_executors.py",
          "process": 2249,
          "processName": "ForkProcess-1:5",
          "thread": 139707269711680,
          "threadName": "MainThread"
         },
         {
          "asctime": "2021-03-24 06:25:07,741",
          "created": 1616567107.741763,
          "extra": {},
          "filename": "async_executors.py",
          "funcName": "start_input_receiver",
          "levelname": "DEBUG",
          "lineno": 177,
          "message": "SelectData_2: received data: wanted_cols, ['tweet', 'class']",
          "name": "engine.logs:SelectData_2",
          "pathname": "/usr/local/lib/python3.7/dist-packages/razor/flow/async_executors.py",
          "process": 2249,
          "processName": "ForkProcess-1:5",
          "thread": 139707269711680,
          "threadName": "MainThread"
         },
         {
          "asctime": "2021-03-24 06:25:07,742",
          "created": 1616567107.7421935,
          "extra": {},
          "filename": "async_executors.py",
          "funcName": "start_input_receiver",
          "levelname": "DEBUG",
          "lineno": 177,
          "message": "ReadCsvProjectSpace_1: received data: filename, b'__!\\tEndOfStream\\t!__'",
          "name": "engine.logs:ReadCsvProjectSpace_1",
          "pathname": "/usr/local/lib/python3.7/dist-packages/razor/flow/async_executors.py",
          "process": 2249,
          "processName": "ForkProcess-1:5",
          "thread": 139707269711680,
          "threadName": "MainThread"
         },
         {
          "asctime": "2021-03-24 06:25:07,742",
          "created": 1616567107.74259,
          "extra": {},
          "filename": "async_executors.py",
          "funcName": "start_input_receiver",
          "levelname": "DEBUG",
          "lineno": 177,
          "message": "SelectData_2: received data: wanted_cols, b'__!\\tEndOfStream\\t!__'",
          "name": "engine.logs:SelectData_2",
          "pathname": "/usr/local/lib/python3.7/dist-packages/razor/flow/async_executors.py",
          "process": 2249,
          "processName": "ForkProcess-1:5",
          "thread": 139707269711680,
          "threadName": "MainThread"
         },
         {
          "asctime": "2021-03-24 06:25:07,754",
          "created": 1616567107.75433,
          "extra": {},
          "filename": "async_executors.py",
          "funcName": "fill_atomic_inputs",
          "levelname": "DEBUG",
          "lineno": 253,
          "message": "ReadCsvProjectSpace_1: got atomic input: /home/aios/projectspace/df_with_stats.csv",
          "name": "engine.logs:ReadCsvProjectSpace_1",
          "pathname": "/usr/local/lib/python3.7/dist-packages/razor/flow/async_executors.py",
          "process": 2249,
          "processName": "ForkProcess-1:5",
          "thread": 139707269711680,
          "threadName": "MainThread"
         },
         {
          "asctime": "2021-03-24 06:25:07,763",
          "created": 1616567107.763952,
          "extra": {},
          "filename": "async_executors.py",
          "funcName": "fill_atomic_inputs",
          "levelname": "DEBUG",
          "lineno": 253,
          "message": "SelectData_2: got atomic input: ['tweet', 'class']",
          "name": "engine.logs:SelectData_2",
          "pathname": "/usr/local/lib/python3.7/dist-packages/razor/flow/async_executors.py",
          "process": 2249,
          "processName": "ForkProcess-1:5",
          "thread": 139707269711680,
          "threadName": "MainThread"
         },
         {
          "asctime": "2021-03-24 06:25:07,742",
          "created": 1616567107.7423935,
          "extra": {},
          "filename": "async_executors.py",
          "funcName": "start_input_receiver",
          "levelname": "DEBUG",
          "lineno": 177,
          "message": "ReadCsvProjectSpace_2: received data: filename, b'__!\\tEndOfStream\\t!__'",
          "name": "engine.logs:ReadCsvProjectSpace_2",
          "pathname": "/usr/local/lib/python3.7/dist-packages/razor/flow/async_executors.py",
          "process": 2249,
          "processName": "ForkProcess-1:5",
          "thread": 139707269711680,
          "threadName": "MainThread"
         },
         {
          "asctime": "2021-03-24 06:25:07,762",
          "created": 1616567107.7624655,
          "extra": {},
          "filename": "async_executors.py",
          "funcName": "fill_atomic_inputs",
          "levelname": "DEBUG",
          "lineno": 253,
          "message": "ReadCsvProjectSpace_2: got atomic input: /home/aios/projectspace/train_hatespeech.csv",
          "name": "engine.logs:ReadCsvProjectSpace_2",
          "pathname": "/usr/local/lib/python3.7/dist-packages/razor/flow/async_executors.py",
          "process": 2249,
          "processName": "ForkProcess-1:5",
          "thread": 139707269711680,
          "threadName": "MainThread"
         },
         {
          "asctime": "2021-03-24 06:25:07,754",
          "created": 1616567107.754479,
          "extra": {},
          "filename": "async_executors.py",
          "funcName": "fill_atomic_inputs",
          "levelname": "INFO",
          "lineno": 250,
          "message": "ReadCsvProjectSpace_1: waiting for atomic input: config",
          "name": "engine.logs:ReadCsvProjectSpace_1",
          "pathname": "/usr/local/lib/python3.7/dist-packages/razor/flow/async_executors.py",
          "process": 2249,
          "processName": "ForkProcess-1:5",
          "thread": 139707269711680,
          "threadName": "MainThread"
         },
         {
          "asctime": "2021-03-24 06:25:07,762",
          "created": 1616567107.7625995,
          "extra": {},
          "filename": "async_executors.py",
          "funcName": "fill_atomic_inputs",
          "levelname": "INFO",
          "lineno": 250,
          "message": "ReadCsvProjectSpace_2: waiting for atomic input: config",
          "name": "engine.logs:ReadCsvProjectSpace_2",
          "pathname": "/usr/local/lib/python3.7/dist-packages/razor/flow/async_executors.py",
          "process": 2249,
          "processName": "ForkProcess-1:5",
          "thread": 139707269711680,
          "threadName": "MainThread"
         },
         {
          "asctime": "2021-03-24 06:25:07,764",
          "created": 1616567107.7640831,
          "extra": {},
          "filename": "async_executors.py",
          "funcName": "fill_atomic_inputs",
          "levelname": "INFO",
          "lineno": 250,
          "message": "SelectData_2: waiting for atomic input: inputData",
          "name": "engine.logs:SelectData_2",
          "pathname": "/usr/local/lib/python3.7/dist-packages/razor/flow/async_executors.py",
          "process": 2249,
          "processName": "ForkProcess-1:5",
          "thread": 139707269711680,
          "threadName": "MainThread"
         },
         {
          "asctime": "2021-03-24 06:25:07,754",
          "created": 1616567107.7545612,
          "extra": {},
          "filename": "async_executors.py",
          "funcName": "fill_atomic_inputs",
          "levelname": "DEBUG",
          "lineno": 253,
          "message": "ReadCsvProjectSpace_1: got atomic input: {}",
          "name": "engine.logs:ReadCsvProjectSpace_1",
          "pathname": "/usr/local/lib/python3.7/dist-packages/razor/flow/async_executors.py",
          "process": 2249,
          "processName": "ForkProcess-1:5",
          "thread": 139707269711680,
          "threadName": "MainThread"
         },
         {
          "asctime": "2021-03-24 06:25:07,762",
          "created": 1616567107.762681,
          "extra": {},
          "filename": "async_executors.py",
          "funcName": "fill_atomic_inputs",
          "levelname": "DEBUG",
          "lineno": 253,
          "message": "ReadCsvProjectSpace_2: got atomic input: {}",
          "name": "engine.logs:ReadCsvProjectSpace_2",
          "pathname": "/usr/local/lib/python3.7/dist-packages/razor/flow/async_executors.py",
          "process": 2249,
          "processName": "ForkProcess-1:5",
          "thread": 139707269711680,
          "threadName": "MainThread"
         },
         {
          "asctime": "2021-03-24 06:25:07,781",
          "created": 1616567107.7813,
          "extra": {},
          "filename": "async_executors.py",
          "funcName": "start_input_receiver",
          "levelname": "DEBUG",
          "lineno": 177,
          "message": "SelectData_1: received data: wanted_cols, ['title', 'label']",
          "name": "engine.logs:SelectData_1",
          "pathname": "/usr/local/lib/python3.7/dist-packages/razor/flow/async_executors.py",
          "process": 2249,
          "processName": "ForkProcess-1:5",
          "thread": 139707269711680,
          "threadName": "MainThread"
         },
         {
          "asctime": "2021-03-24 06:25:07,754",
          "created": 1616567107.7546203,
          "extra": {},
          "filename": "async_executors.py",
          "funcName": "fill_atomic_inputs",
          "levelname": "INFO",
          "lineno": 250,
          "message": "ReadCsvProjectSpace_1: waiting for atomic input: source",
          "name": "engine.logs:ReadCsvProjectSpace_1",
          "pathname": "/usr/local/lib/python3.7/dist-packages/razor/flow/async_executors.py",
          "process": 2249,
          "processName": "ForkProcess-1:5",
          "thread": 139707269711680,
          "threadName": "MainThread"
         },
         {
          "asctime": "2021-03-24 06:25:07,762",
          "created": 1616567107.7627573,
          "extra": {},
          "filename": "async_executors.py",
          "funcName": "fill_atomic_inputs",
          "levelname": "INFO",
          "lineno": 250,
          "message": "ReadCsvProjectSpace_2: waiting for atomic input: source",
          "name": "engine.logs:ReadCsvProjectSpace_2",
          "pathname": "/usr/local/lib/python3.7/dist-packages/razor/flow/async_executors.py",
          "process": 2249,
          "processName": "ForkProcess-1:5",
          "thread": 139707269711680,
          "threadName": "MainThread"
         },
         {
          "asctime": "2021-03-24 06:25:07,754",
          "created": 1616567107.7546816,
          "extra": {},
          "filename": "async_executors.py",
          "funcName": "fill_atomic_inputs",
          "levelname": "DEBUG",
          "lineno": 253,
          "message": "ReadCsvProjectSpace_1: got atomic input: ",
          "name": "engine.logs:ReadCsvProjectSpace_1",
          "pathname": "/usr/local/lib/python3.7/dist-packages/razor/flow/async_executors.py",
          "process": 2249,
          "processName": "ForkProcess-1:5",
          "thread": 139707269711680,
          "threadName": "MainThread"
         },
         {
          "asctime": "2021-03-24 06:25:07,762",
          "created": 1616567107.7628403,
          "extra": {},
          "filename": "async_executors.py",
          "funcName": "fill_atomic_inputs",
          "levelname": "DEBUG",
          "lineno": 253,
          "message": "ReadCsvProjectSpace_2: got atomic input: ",
          "name": "engine.logs:ReadCsvProjectSpace_2",
          "pathname": "/usr/local/lib/python3.7/dist-packages/razor/flow/async_executors.py",
          "process": 2249,
          "processName": "ForkProcess-1:5",
          "thread": 139707269711680,
          "threadName": "MainThread"
         },
         {
          "asctime": "2021-03-24 06:25:07,754",
          "created": 1616567107.754747,
          "extra": {},
          "filename": "async_executors.py",
          "funcName": "main",
          "levelname": "DEBUG",
          "lineno": 130,
          "message": "ReadCsvProjectSpace_1: triggering block run",
          "name": "engine.logs:ReadCsvProjectSpace_1",
          "pathname": "/usr/local/lib/python3.7/dist-packages/razor/flow/async_executors.py",
          "process": 2249,
          "processName": "ForkProcess-1:5",
          "thread": 139707269711680,
          "threadName": "MainThread"
         },
         {
          "asctime": "2021-03-24 06:25:07,762",
          "created": 1616567107.762937,
          "extra": {},
          "filename": "async_executors.py",
          "funcName": "main",
          "levelname": "DEBUG",
          "lineno": 130,
          "message": "ReadCsvProjectSpace_2: triggering block run",
          "name": "engine.logs:ReadCsvProjectSpace_2",
          "pathname": "/usr/local/lib/python3.7/dist-packages/razor/flow/async_executors.py",
          "process": 2249,
          "processName": "ForkProcess-1:5",
          "thread": 139707269711680,
          "threadName": "MainThread"
         },
         {
          "asctime": "2021-03-24 06:25:07,804",
          "created": 1616567107.8046823,
          "extra": {},
          "filename": "async_executors.py",
          "funcName": "start_input_receiver",
          "levelname": "DEBUG",
          "lineno": 177,
          "message": "SelectData_1: received data: wanted_cols, b'__!\\tEndOfStream\\t!__'",
          "name": "engine.logs:SelectData_1",
          "pathname": "/usr/local/lib/python3.7/dist-packages/razor/flow/async_executors.py",
          "process": 2249,
          "processName": "ForkProcess-1:5",
          "thread": 139707269711680,
          "threadName": "MainThread"
         },
         {
          "asctime": "2021-03-24 06:25:07,837",
          "created": 1616567107.837415,
          "extra": {},
          "filename": "async_executors.py",
          "funcName": "fill_atomic_inputs",
          "levelname": "DEBUG",
          "lineno": 253,
          "message": "SelectData_1: got atomic input: ['title', 'label']",
          "name": "engine.logs:SelectData_1",
          "pathname": "/usr/local/lib/python3.7/dist-packages/razor/flow/async_executors.py",
          "process": 2249,
          "processName": "ForkProcess-1:5",
          "thread": 139707269711680,
          "threadName": "MainThread"
         },
         {
          "asctime": "2021-03-24 06:25:07,837",
          "created": 1616567107.837548,
          "extra": {},
          "filename": "async_executors.py",
          "funcName": "fill_atomic_inputs",
          "levelname": "INFO",
          "lineno": 250,
          "message": "SelectData_1: waiting for atomic input: inputData",
          "name": "engine.logs:SelectData_1",
          "pathname": "/usr/local/lib/python3.7/dist-packages/razor/flow/async_executors.py",
          "process": 2249,
          "processName": "ForkProcess-1:5",
          "thread": 139707269711680,
          "threadName": "MainThread"
         },
         {
          "asctime": "2021-03-24 06:25:19,217",
          "created": 1616567119.2177694,
          "exc_info": null,
          "extra": {},
          "filename": null,
          "full_message": null,
          "funcName": null,
          "levelname": "STDOUT",
          "lineno": null,
          "message": "Data Schema\n",
          "name": "block.stdout:ReadCsvProjectSpace_2",
          "pathname": null,
          "process": null,
          "processName": null,
          "thread": null,
          "threadName": null
         },
         {
          "asctime": "2021-03-24 06:25:19,220",
          "created": 1616567119.2202234,
          "exc_info": null,
          "extra": {},
          "filename": null,
          "full_message": null,
          "funcName": null,
          "levelname": "STDOUT",
          "lineno": null,
          "message": "Data Schema\n",
          "name": "block.stdout:ReadCsvProjectSpace_1",
          "pathname": null,
          "process": null,
          "processName": null,
          "thread": null,
          "threadName": null
         },
         {
          "asctime": "2021-03-24 06:25:19,288",
          "created": 1616567119.2888598,
          "exc_info": null,
          "extra": {},
          "filename": null,
          "full_message": null,
          "funcName": null,
          "levelname": "STDOUT",
          "lineno": null,
          "message": "root\n |-- filename: string (nullable = true)\n |-- url: string (nullable = true)\n |-- text: string (nullable = true)\n |-- title: string (nullable = true)\n |-- authors: string (nullable = true)\n |-- description: string (nullable = true)\n |-- generatorsite_name: string (nullable = true)\n |-- site: string (nullable = true)\n |-- publisher: string (nullable = true)\n |-- source: string (nullable = true)\n |-- keywords: string (nullable = true)\n |-- label: string (nullable = true)\n |-- generator: string (nullable = true)\n |-- site_name: string (nullable = true)\n |-- author_real_fake: string (nullable = true)\n |-- site_real_fake: string (nullable = true)\n |-- source_real_fake: string (nullable = true)\n\n",
          "name": "block.stdout:ReadCsvProjectSpace_1",
          "pathname": null,
          "process": null,
          "processName": null,
          "thread": null,
          "threadName": null
         },
         {
          "asctime": "2021-03-24 06:25:19,332",
          "created": 1616567119.3323176,
          "extra": {},
          "filename": "async_executors.py",
          "funcName": "distribute_output_queue",
          "levelname": "DEBUG",
          "lineno": 308,
          "message": "ReadCsvProjectSpace_1: ---- dist output: DataFrame[filename: string, url: string, text: string, title: string, authors: string, description: string, generatorsite_name: string, site: string, publisher: string, source: string, keywords: string, label: string, generator: string, site_name: string, author_real_fake: string, site_real_fake: string, source_real_fake: string] -> ('SelectData_1', 'inputData')",
          "name": "engine.logs:ReadCsvProjectSpace_1",
          "pathname": "/usr/local/lib/python3.7/dist-packages/razor/flow/async_executors.py",
          "process": 2249,
          "processName": "ForkProcess-1:5",
          "thread": 139707269711680,
          "threadName": "MainThread"
         },
         {
          "asctime": "2021-03-24 06:25:19,334",
          "created": 1616567119.3340192,
          "extra": {},
          "filename": "async_executors.py",
          "funcName": "distribute_output_queue",
          "levelname": "DEBUG",
          "lineno": 308,
          "message": "ReadCsvProjectSpace_2: ---- dist output: DataFrame[Unnamed: 0: string, count: string, hate_speech: string, offensive_language: string, neither: string, class: string, tweet: string] -> ('SelectData_2', 'inputData')",
          "name": "engine.logs:ReadCsvProjectSpace_2",
          "pathname": "/usr/local/lib/python3.7/dist-packages/razor/flow/async_executors.py",
          "process": 2249,
          "processName": "ForkProcess-1:5",
          "thread": 139707269711680,
          "threadName": "MainThread"
         },
         {
          "asctime": "2021-03-24 06:25:19,334",
          "created": 1616567119.3344052,
          "extra": {},
          "filename": "async_executors.py",
          "funcName": "main",
          "levelname": "DEBUG",
          "lineno": 147,
          "message": "ReadCsvProjectSpace_1: block thread completed",
          "name": "engine.logs:ReadCsvProjectSpace_1",
          "pathname": "/usr/local/lib/python3.7/dist-packages/razor/flow/async_executors.py",
          "process": 2249,
          "processName": "ForkProcess-1:5",
          "thread": 139707269711680,
          "threadName": "MainThread"
         },
         {
          "asctime": "2021-03-24 06:25:19,334",
          "created": 1616567119.334574,
          "extra": {},
          "filename": "async_executors.py",
          "funcName": "main",
          "levelname": "DEBUG",
          "lineno": 147,
          "message": "ReadCsvProjectSpace_2: block thread completed",
          "name": "engine.logs:ReadCsvProjectSpace_2",
          "pathname": "/usr/local/lib/python3.7/dist-packages/razor/flow/async_executors.py",
          "process": 2249,
          "processName": "ForkProcess-1:5",
          "thread": 139707269711680,
          "threadName": "MainThread"
         },
         {
          "asctime": "2021-03-24 06:25:19,334",
          "created": 1616567119.334492,
          "extra": {},
          "filename": "async_executors.py",
          "funcName": "main",
          "levelname": "DEBUG",
          "lineno": 149,
          "message": "ReadCsvProjectSpace_1: block execution complete",
          "name": "engine.logs:ReadCsvProjectSpace_1",
          "pathname": "/usr/local/lib/python3.7/dist-packages/razor/flow/async_executors.py",
          "process": 2249,
          "processName": "ForkProcess-1:5",
          "thread": 139707269711680,
          "threadName": "MainThread"
         },
         {
          "asctime": "2021-03-24 06:25:19,334",
          "created": 1616567119.3346262,
          "extra": {},
          "filename": "async_executors.py",
          "funcName": "main",
          "levelname": "DEBUG",
          "lineno": 149,
          "message": "ReadCsvProjectSpace_2: block execution complete",
          "name": "engine.logs:ReadCsvProjectSpace_2",
          "pathname": "/usr/local/lib/python3.7/dist-packages/razor/flow/async_executors.py",
          "process": 2249,
          "processName": "ForkProcess-1:5",
          "thread": 139707269711680,
          "threadName": "MainThread"
         },
         {
          "asctime": "2021-03-24 06:25:19,357",
          "created": 1616567119.357085,
          "extra": {},
          "filename": "async_executors.py",
          "funcName": "distribute_output_queue",
          "levelname": "DEBUG",
          "lineno": 308,
          "message": "ReadCsvProjectSpace_1: ---- dist output: b'__!\\tEndOfStream\\t!__' -> ('SelectData_1', 'inputData')",
          "name": "engine.logs:ReadCsvProjectSpace_1",
          "pathname": "/usr/local/lib/python3.7/dist-packages/razor/flow/async_executors.py",
          "process": 2249,
          "processName": "ForkProcess-1:5",
          "thread": 139707269711680,
          "threadName": "MainThread"
         },
         {
          "asctime": "2021-03-24 06:25:19,357",
          "created": 1616567119.3573322,
          "extra": {},
          "filename": "async_executors.py",
          "funcName": "distribute_output_queue",
          "levelname": "DEBUG",
          "lineno": 308,
          "message": "ReadCsvProjectSpace_2: ---- dist output: b'__!\\tEndOfStream\\t!__' -> ('SelectData_2', 'inputData')",
          "name": "engine.logs:ReadCsvProjectSpace_2",
          "pathname": "/usr/local/lib/python3.7/dist-packages/razor/flow/async_executors.py",
          "process": 2249,
          "processName": "ForkProcess-1:5",
          "thread": 139707269711680,
          "threadName": "MainThread"
         },
         {
          "asctime": "2021-03-24 06:25:19,403",
          "created": 1616567119.4033918,
          "extra": {},
          "filename": "async_executors.py",
          "funcName": "start_input_receiver",
          "levelname": "DEBUG",
          "lineno": 173,
          "message": "ReadCsvProjectSpace_1: received cmd: start_sender, (), {'out_name': 'data', 'target': ('SelectData_1', 'inputData'), 'out_addr': 'tcp://0.0.0.0:63729', 'in_memory': True}",
          "name": "engine.logs:ReadCsvProjectSpace_1",
          "pathname": "/usr/local/lib/python3.7/dist-packages/razor/flow/async_executors.py",
          "process": 2249,
          "processName": "ForkProcess-1:5",
          "thread": 139707269711680,
          "threadName": "MainThread"
         },
         {
          "asctime": "2021-03-24 06:25:19,403",
          "created": 1616567119.4037764,
          "extra": {},
          "filename": "async_executors.py",
          "funcName": "start_input_receiver",
          "levelname": "DEBUG",
          "lineno": 173,
          "message": "ReadCsvProjectSpace_2: received cmd: start_sender, (), {'out_name': 'data', 'target': ('SelectData_2', 'inputData'), 'out_addr': 'tcp://0.0.0.0:63567', 'in_memory': True}",
          "name": "engine.logs:ReadCsvProjectSpace_2",
          "pathname": "/usr/local/lib/python3.7/dist-packages/razor/flow/async_executors.py",
          "process": 2249,
          "processName": "ForkProcess-1:5",
          "thread": 139707269711680,
          "threadName": "MainThread"
         },
         {
          "asctime": "2021-03-24 06:25:19,426",
          "created": 1616567119.426638,
          "extra": {},
          "filename": "async_executors.py",
          "funcName": "start_output_sender",
          "levelname": "DEBUG",
          "lineno": 370,
          "message": "ReadCsvProjectSpace_1: got start_sender, data, ('SelectData_1', 'inputData')",
          "name": "engine.logs:ReadCsvProjectSpace_1",
          "pathname": "/usr/local/lib/python3.7/dist-packages/razor/flow/async_executors.py",
          "process": 2249,
          "processName": "ForkProcess-1:5",
          "thread": 139707269711680,
          "threadName": "MainThread"
         },
         {
          "asctime": "2021-03-24 06:25:19,427",
          "created": 1616567119.427511,
          "extra": {},
          "filename": "async_executors.py",
          "funcName": "start_output_sender",
          "levelname": "DEBUG",
          "lineno": 375,
          "message": "ReadCsvProjectSpace_1: SENT, inputData, DataFrame[filename: string, url: string, text: string, title: string, authors: string, description: string, generatorsite_name: string, site: string, publisher: string, source: string, keywords: string, label: string, generator: string, site_name: string, author_real_fake: string, site_real_fake: string, source_real_fake: string], ('SelectData_1', 'inputData')",
          "name": "engine.logs:ReadCsvProjectSpace_1",
          "pathname": "/usr/local/lib/python3.7/dist-packages/razor/flow/async_executors.py",
          "process": 2249,
          "processName": "ForkProcess-1:5",
          "thread": 139707269711680,
          "threadName": "MainThread"
         },
         {
          "asctime": "2021-03-24 06:25:19,427",
          "created": 1616567119.4277647,
          "extra": {},
          "filename": "async_executors.py",
          "funcName": "start_output_sender",
          "levelname": "DEBUG",
          "lineno": 370,
          "message": "ReadCsvProjectSpace_2: got start_sender, data, ('SelectData_2', 'inputData')",
          "name": "engine.logs:ReadCsvProjectSpace_2",
          "pathname": "/usr/local/lib/python3.7/dist-packages/razor/flow/async_executors.py",
          "process": 2249,
          "processName": "ForkProcess-1:5",
          "thread": 139707269711680,
          "threadName": "MainThread"
         },
         {
          "asctime": "2021-03-24 06:25:19,430",
          "created": 1616567119.430444,
          "extra": {},
          "filename": "async_executors.py",
          "funcName": "fill_atomic_inputs",
          "levelname": "DEBUG",
          "lineno": 253,
          "message": "SelectData_1: got atomic input: DataFrame[filename: string, url: string, text: string, title: string, authors: string, description: string, generatorsite_name: string, site: string, publisher: string, source: string, keywords: string, label: string, generator: string, site_name: string, author_real_fake: string, site_real_fake: string, source_real_fake: string]",
          "name": "engine.logs:SelectData_1",
          "pathname": "/usr/local/lib/python3.7/dist-packages/razor/flow/async_executors.py",
          "process": 2249,
          "processName": "ForkProcess-1:5",
          "thread": 139707269711680,
          "threadName": "MainThread"
         },
         {
          "asctime": "2021-03-24 06:25:19,435",
          "created": 1616567119.4350195,
          "extra": {},
          "filename": "async_executors.py",
          "funcName": "fill_atomic_inputs",
          "levelname": "DEBUG",
          "lineno": 253,
          "message": "SelectData_2: got atomic input: DataFrame[Unnamed: 0: string, count: string, hate_speech: string, offensive_language: string, neither: string, class: string, tweet: string]",
          "name": "engine.logs:SelectData_2",
          "pathname": "/usr/local/lib/python3.7/dist-packages/razor/flow/async_executors.py",
          "process": 2249,
          "processName": "ForkProcess-1:5",
          "thread": 139707269711680,
          "threadName": "MainThread"
         },
         {
          "asctime": "2021-03-24 06:25:19,427",
          "created": 1616567119.4276495,
          "extra": {},
          "filename": "async_executors.py",
          "funcName": "start_output_sender",
          "levelname": "DEBUG",
          "lineno": 375,
          "message": "ReadCsvProjectSpace_1: SENT, inputData, b'__!\\tEndOfStream\\t!__', ('SelectData_1', 'inputData')",
          "name": "engine.logs:ReadCsvProjectSpace_1",
          "pathname": "/usr/local/lib/python3.7/dist-packages/razor/flow/async_executors.py",
          "process": 2249,
          "processName": "ForkProcess-1:5",
          "thread": 139707269711680,
          "threadName": "MainThread"
         },
         {
          "asctime": "2021-03-24 06:25:19,428",
          "created": 1616567119.4286425,
          "extra": {},
          "filename": "async_executors.py",
          "funcName": "start_output_sender",
          "levelname": "DEBUG",
          "lineno": 375,
          "message": "ReadCsvProjectSpace_2: SENT, inputData, DataFrame[Unnamed: 0: string, count: string, hate_speech: string, offensive_language: string, neither: string, class: string, tweet: string], ('SelectData_2', 'inputData')",
          "name": "engine.logs:ReadCsvProjectSpace_2",
          "pathname": "/usr/local/lib/python3.7/dist-packages/razor/flow/async_executors.py",
          "process": 2249,
          "processName": "ForkProcess-1:5",
          "thread": 139707269711680,
          "threadName": "MainThread"
         },
         {
          "asctime": "2021-03-24 06:25:19,430",
          "created": 1616567119.4305444,
          "extra": {},
          "filename": "async_executors.py",
          "funcName": "fill_atomic_inputs",
          "levelname": "INFO",
          "lineno": 250,
          "message": "SelectData_1: waiting for atomic input: config",
          "name": "engine.logs:SelectData_1",
          "pathname": "/usr/local/lib/python3.7/dist-packages/razor/flow/async_executors.py",
          "process": 2249,
          "processName": "ForkProcess-1:5",
          "thread": 139707269711680,
          "threadName": "MainThread"
         },
         {
          "asctime": "2021-03-24 06:25:19,435",
          "created": 1616567119.4351637,
          "extra": {},
          "filename": "async_executors.py",
          "funcName": "fill_atomic_inputs",
          "levelname": "INFO",
          "lineno": 250,
          "message": "SelectData_2: waiting for atomic input: config",
          "name": "engine.logs:SelectData_2",
          "pathname": "/usr/local/lib/python3.7/dist-packages/razor/flow/async_executors.py",
          "process": 2249,
          "processName": "ForkProcess-1:5",
          "thread": 139707269711680,
          "threadName": "MainThread"
         },
         {
          "asctime": "2021-03-24 06:25:19,427",
          "created": 1616567119.4277031,
          "extra": {},
          "filename": "async_executors.py",
          "funcName": "start_output_sender",
          "levelname": "DEBUG",
          "lineno": 379,
          "message": "ReadCsvProjectSpace_1: completed output: ('data', ('SelectData_1', 'inputData'))",
          "name": "engine.logs:ReadCsvProjectSpace_1",
          "pathname": "/usr/local/lib/python3.7/dist-packages/razor/flow/async_executors.py",
          "process": 2249,
          "processName": "ForkProcess-1:5",
          "thread": 139707269711680,
          "threadName": "MainThread"
         },
         {
          "asctime": "2021-03-24 06:25:19,428",
          "created": 1616567119.4287643,
          "extra": {},
          "filename": "async_executors.py",
          "funcName": "start_output_sender",
          "levelname": "DEBUG",
          "lineno": 375,
          "message": "ReadCsvProjectSpace_2: SENT, inputData, b'__!\\tEndOfStream\\t!__', ('SelectData_2', 'inputData')",
          "name": "engine.logs:ReadCsvProjectSpace_2",
          "pathname": "/usr/local/lib/python3.7/dist-packages/razor/flow/async_executors.py",
          "process": 2249,
          "processName": "ForkProcess-1:5",
          "thread": 139707269711680,
          "threadName": "MainThread"
         },
         {
          "asctime": "2021-03-24 06:25:19,430",
          "created": 1616567119.4306102,
          "extra": {},
          "filename": "async_executors.py",
          "funcName": "fill_atomic_inputs",
          "levelname": "DEBUG",
          "lineno": 253,
          "message": "SelectData_1: got atomic input: {}",
          "name": "engine.logs:SelectData_1",
          "pathname": "/usr/local/lib/python3.7/dist-packages/razor/flow/async_executors.py",
          "process": 2249,
          "processName": "ForkProcess-1:5",
          "thread": 139707269711680,
          "threadName": "MainThread"
         },
         {
          "asctime": "2021-03-24 06:25:19,435",
          "created": 1616567119.4352343,
          "extra": {},
          "filename": "async_executors.py",
          "funcName": "fill_atomic_inputs",
          "levelname": "DEBUG",
          "lineno": 253,
          "message": "SelectData_2: got atomic input: {}",
          "name": "engine.logs:SelectData_2",
          "pathname": "/usr/local/lib/python3.7/dist-packages/razor/flow/async_executors.py",
          "process": 2249,
          "processName": "ForkProcess-1:5",
          "thread": 139707269711680,
          "threadName": "MainThread"
         },
         {
          "asctime": "2021-03-24 06:25:19,437",
          "created": 1616567119.4377291,
          "extra": {},
          "filename": "async_executors.py",
          "funcName": "start_input_receiver",
          "levelname": "DEBUG",
          "lineno": 173,
          "message": "ReadCsvProjectSpace_1: received cmd: terminate, (), {}",
          "name": "engine.logs:ReadCsvProjectSpace_1",
          "pathname": "/usr/local/lib/python3.7/dist-packages/razor/flow/async_executors.py",
          "process": 2249,
          "processName": "ForkProcess-1:5",
          "thread": 139707269711680,
          "threadName": "MainThread"
         },
         {
          "asctime": "2021-03-24 06:25:19,428",
          "created": 1616567119.4288251,
          "extra": {},
          "filename": "async_executors.py",
          "funcName": "start_output_sender",
          "levelname": "DEBUG",
          "lineno": 379,
          "message": "ReadCsvProjectSpace_2: completed output: ('data', ('SelectData_2', 'inputData'))",
          "name": "engine.logs:ReadCsvProjectSpace_2",
          "pathname": "/usr/local/lib/python3.7/dist-packages/razor/flow/async_executors.py",
          "process": 2249,
          "processName": "ForkProcess-1:5",
          "thread": 139707269711680,
          "threadName": "MainThread"
         },
         {
          "asctime": "2021-03-24 06:25:19,430",
          "created": 1616567119.4306576,
          "extra": {},
          "filename": "async_executors.py",
          "funcName": "fill_atomic_inputs",
          "levelname": "INFO",
          "lineno": 250,
          "message": "SelectData_1: waiting for atomic input: source",
          "name": "engine.logs:SelectData_1",
          "pathname": "/usr/local/lib/python3.7/dist-packages/razor/flow/async_executors.py",
          "process": 2249,
          "processName": "ForkProcess-1:5",
          "thread": 139707269711680,
          "threadName": "MainThread"
         },
         {
          "asctime": "2021-03-24 06:25:19,435",
          "created": 1616567119.435276,
          "extra": {},
          "filename": "async_executors.py",
          "funcName": "fill_atomic_inputs",
          "levelname": "INFO",
          "lineno": 250,
          "message": "SelectData_2: waiting for atomic input: source",
          "name": "engine.logs:SelectData_2",
          "pathname": "/usr/local/lib/python3.7/dist-packages/razor/flow/async_executors.py",
          "process": 2249,
          "processName": "ForkProcess-1:5",
          "thread": 139707269711680,
          "threadName": "MainThread"
         },
         {
          "asctime": "2021-03-24 06:25:19,430",
          "created": 1616567119.4307005,
          "extra": {},
          "filename": "async_executors.py",
          "funcName": "fill_atomic_inputs",
          "levelname": "DEBUG",
          "lineno": 253,
          "message": "SelectData_1: got atomic input: ",
          "name": "engine.logs:SelectData_1",
          "pathname": "/usr/local/lib/python3.7/dist-packages/razor/flow/async_executors.py",
          "process": 2249,
          "processName": "ForkProcess-1:5",
          "thread": 139707269711680,
          "threadName": "MainThread"
         },
         {
          "asctime": "2021-03-24 06:25:19,435",
          "created": 1616567119.4353182,
          "extra": {},
          "filename": "async_executors.py",
          "funcName": "fill_atomic_inputs",
          "levelname": "DEBUG",
          "lineno": 253,
          "message": "SelectData_2: got atomic input: ",
          "name": "engine.logs:SelectData_2",
          "pathname": "/usr/local/lib/python3.7/dist-packages/razor/flow/async_executors.py",
          "process": 2249,
          "processName": "ForkProcess-1:5",
          "thread": 139707269711680,
          "threadName": "MainThread"
         },
         {
          "asctime": "2021-03-24 06:25:19,430",
          "created": 1616567119.430747,
          "extra": {},
          "filename": "async_executors.py",
          "funcName": "main",
          "levelname": "DEBUG",
          "lineno": 130,
          "message": "SelectData_1: triggering block run",
          "name": "engine.logs:SelectData_1",
          "pathname": "/usr/local/lib/python3.7/dist-packages/razor/flow/async_executors.py",
          "process": 2249,
          "processName": "ForkProcess-1:5",
          "thread": 139707269711680,
          "threadName": "MainThread"
         },
         {
          "asctime": "2021-03-24 06:25:19,435",
          "created": 1616567119.4353657,
          "extra": {},
          "filename": "async_executors.py",
          "funcName": "main",
          "levelname": "DEBUG",
          "lineno": 130,
          "message": "SelectData_2: triggering block run",
          "name": "engine.logs:SelectData_2",
          "pathname": "/usr/local/lib/python3.7/dist-packages/razor/flow/async_executors.py",
          "process": 2249,
          "processName": "ForkProcess-1:5",
          "thread": 139707269711680,
          "threadName": "MainThread"
         },
         {
          "asctime": "2021-03-24 06:25:19,463",
          "created": 1616567119.4633694,
          "extra": {},
          "filename": "async_executors.py",
          "funcName": "start_input_receiver",
          "levelname": "DEBUG",
          "lineno": 173,
          "message": "ReadCsvProjectSpace_2: received cmd: terminate, (), {}",
          "name": "engine.logs:ReadCsvProjectSpace_2",
          "pathname": "/usr/local/lib/python3.7/dist-packages/razor/flow/async_executors.py",
          "process": 2249,
          "processName": "ForkProcess-1:5",
          "thread": 139707269711680,
          "threadName": "MainThread"
         },
         {
          "asctime": "2021-03-24 06:25:20,124",
          "created": 1616567120.124451,
          "exc_info": null,
          "extra": {},
          "filename": null,
          "full_message": null,
          "funcName": null,
          "levelname": "STDOUT",
          "lineno": null,
          "message": "+--------------------+-----+\n|               tweet|class|\n+--------------------+-----+\n|@kieffer_jason bi...|    1|\n|\"Just said cunt i...|    1|\n|                null| null|\n|RT @TAXSTONE: If ...|    1|\n|RT @ThaReal_Elija...|    1|\n|Lol niccas rememb...|    1|\n|I absolutely love...|    1|\n|@MorbidMermaid do...|    0|\n|Kanye west is a f...|    0|\n|like a bitch pic ...|    1|\n|RT @SumGurl07: So...|    2|\n|@Bojieasx slap a ...|    1|\n|@Me_NOindirect bi...|    1|\n|RT @nikkilenn: Bi...|    1|\n|RT @Dcowboys2188:...|    1|\n|@RealPimpinKen Pi...|    1|\n|                null| null|\n|A bf and gf&#1281...|    1|\n|RT @rollieghost: ...|    1|\n|RT @UrbanCrazines...|    1|\n+--------------------+-----+\nonly showing top 20 rows\n\n",
          "name": "block.stdout:SelectData_2",
          "pathname": null,
          "process": null,
          "processName": null,
          "thread": null,
          "threadName": null
         },
         {
          "asctime": "2021-03-24 06:25:20,134",
          "created": 1616567120.134451,
          "extra": {},
          "filename": "async_executors.py",
          "funcName": "distribute_output_queue",
          "levelname": "DEBUG",
          "lineno": 308,
          "message": "SelectData_2: ---- dist output: DataFrame[tweet: string, class: string] -> ('RenameCol_1', 'inputData')",
          "name": "engine.logs:SelectData_2",
          "pathname": "/usr/local/lib/python3.7/dist-packages/razor/flow/async_executors.py",
          "process": 2249,
          "processName": "ForkProcess-1:5",
          "thread": 139707269711680,
          "threadName": "MainThread"
         },
         {
          "asctime": "2021-03-24 06:25:20,137",
          "created": 1616567120.1370983,
          "extra": {},
          "filename": "async_executors.py",
          "funcName": "main",
          "levelname": "DEBUG",
          "lineno": 147,
          "message": "SelectData_2: block thread completed",
          "name": "engine.logs:SelectData_2",
          "pathname": "/usr/local/lib/python3.7/dist-packages/razor/flow/async_executors.py",
          "process": 2249,
          "processName": "ForkProcess-1:5",
          "thread": 139707269711680,
          "threadName": "MainThread"
         },
         {
          "asctime": "2021-03-24 06:25:20,125",
          "created": 1616567120.1250782,
          "exc_info": null,
          "extra": {},
          "filename": null,
          "full_message": null,
          "funcName": null,
          "levelname": "STDOUT",
          "lineno": null,
          "message": "+--------------------+--------------------+\n|               title|               label|\n+--------------------+--------------------+\n|                null|                null|\n| the same newspap...|                null|\n|         \"\" it read.|                null|\n|                null|                null|\n|                null|                null|\n|                null|                null|\n|                null|                null|\n|                null|                null|\n|                null|                null|\n|                null|                null|\n|                null|                null|\n|                null|                null|\n|                null|                null|\n|                null|                null|\n| in Scotland Reut...| Bedfordshire. He...|\n|                null|                null|\n|           and Lance|                null|\n| a film based on ...|Tom Daley,Dustin ...|\n|                null|                null|\n| thus the series’...|                null|\n+--------------------+--------------------+\nonly showing top 20 rows\n\n",
          "name": "block.stdout:SelectData_1",
          "pathname": null,
          "process": null,
          "processName": null,
          "thread": null,
          "threadName": null
         },
         {
          "asctime": "2021-03-24 06:25:20,137",
          "created": 1616567120.137185,
          "extra": {},
          "filename": "async_executors.py",
          "funcName": "main",
          "levelname": "DEBUG",
          "lineno": 149,
          "message": "SelectData_2: block execution complete",
          "name": "engine.logs:SelectData_2",
          "pathname": "/usr/local/lib/python3.7/dist-packages/razor/flow/async_executors.py",
          "process": 2249,
          "processName": "ForkProcess-1:5",
          "thread": 139707269711680,
          "threadName": "MainThread"
         },
         {
          "asctime": "2021-03-24 06:25:20,136",
          "created": 1616567120.13631,
          "extra": {},
          "filename": "async_executors.py",
          "funcName": "distribute_output_queue",
          "levelname": "DEBUG",
          "lineno": 308,
          "message": "SelectData_1: ---- dist output: DataFrame[title: string, label: string] -> ('ConcatData_1', 'inputData_1')",
          "name": "engine.logs:SelectData_1",
          "pathname": "/usr/local/lib/python3.7/dist-packages/razor/flow/async_executors.py",
          "process": 2249,
          "processName": "ForkProcess-1:5",
          "thread": 139707269711680,
          "threadName": "MainThread"
         },
         {
          "asctime": "2021-03-24 06:25:20,137",
          "created": 1616567120.1375706,
          "extra": {},
          "filename": "async_executors.py",
          "funcName": "distribute_output_queue",
          "levelname": "DEBUG",
          "lineno": 308,
          "message": "SelectData_2: ---- dist output: b'__!\\tEndOfStream\\t!__' -> ('RenameCol_1', 'inputData')",
          "name": "engine.logs:SelectData_2",
          "pathname": "/usr/local/lib/python3.7/dist-packages/razor/flow/async_executors.py",
          "process": 2249,
          "processName": "ForkProcess-1:5",
          "thread": 139707269711680,
          "threadName": "MainThread"
         },
         {
          "asctime": "2021-03-24 06:25:20,136",
          "created": 1616567120.1367903,
          "extra": {},
          "filename": "async_executors.py",
          "funcName": "distribute_output_queue",
          "levelname": "DEBUG",
          "lineno": 308,
          "message": "SelectData_1: ---- dist output: DataFrame[title: string, label: string] -> ('ConcatData_2', 'inputData_2')",
          "name": "engine.logs:SelectData_1",
          "pathname": "/usr/local/lib/python3.7/dist-packages/razor/flow/async_executors.py",
          "process": 2249,
          "processName": "ForkProcess-1:5",
          "thread": 139707269711680,
          "threadName": "MainThread"
         },
         {
          "asctime": "2021-03-24 06:25:20,144",
          "created": 1616567120.1448672,
          "extra": {},
          "filename": "async_executors.py",
          "funcName": "fill_atomic_inputs",
          "levelname": "DEBUG",
          "lineno": 253,
          "message": "RenameCol_1: got atomic input: DataFrame[tweet: string, class: string]",
          "name": "engine.logs:RenameCol_1",
          "pathname": "/usr/local/lib/python3.7/dist-packages/razor/flow/async_executors.py",
          "process": 2249,
          "processName": "ForkProcess-1:5",
          "thread": 139707269711680,
          "threadName": "MainThread"
         },
         {
          "asctime": "2021-03-24 06:25:20,141",
          "created": 1616567120.1413515,
          "extra": {},
          "filename": "async_executors.py",
          "funcName": "start_input_receiver",
          "levelname": "DEBUG",
          "lineno": 173,
          "message": "SelectData_2: received cmd: start_sender, (), {'out_name': 'outputData', 'target': ('RenameCol_1', 'inputData'), 'out_addr': 'tcp://0.0.0.0:60899', 'in_memory': True}",
          "name": "engine.logs:SelectData_2",
          "pathname": "/usr/local/lib/python3.7/dist-packages/razor/flow/async_executors.py",
          "process": 2249,
          "processName": "ForkProcess-1:5",
          "thread": 139707269711680,
          "threadName": "MainThread"
         },
         {
          "asctime": "2021-03-24 06:25:20,137",
          "created": 1616567120.137279,
          "extra": {},
          "filename": "async_executors.py",
          "funcName": "main",
          "levelname": "DEBUG",
          "lineno": 147,
          "message": "SelectData_1: block thread completed",
          "name": "engine.logs:SelectData_1",
          "pathname": "/usr/local/lib/python3.7/dist-packages/razor/flow/async_executors.py",
          "process": 2249,
          "processName": "ForkProcess-1:5",
          "thread": 139707269711680,
          "threadName": "MainThread"
         },
         {
          "asctime": "2021-03-24 06:25:20,145",
          "created": 1616567120.1450639,
          "extra": {},
          "filename": "async_executors.py",
          "funcName": "fill_atomic_inputs",
          "levelname": "INFO",
          "lineno": 250,
          "message": "RenameCol_1: waiting for atomic input: col_dic",
          "name": "engine.logs:RenameCol_1",
          "pathname": "/usr/local/lib/python3.7/dist-packages/razor/flow/async_executors.py",
          "process": 2249,
          "processName": "ForkProcess-1:5",
          "thread": 139707269711680,
          "threadName": "MainThread"
         },
         {
          "asctime": "2021-03-24 06:25:20,137",
          "created": 1616567120.137335,
          "extra": {},
          "filename": "async_executors.py",
          "funcName": "main",
          "levelname": "DEBUG",
          "lineno": 149,
          "message": "SelectData_1: block execution complete",
          "name": "engine.logs:SelectData_1",
          "pathname": "/usr/local/lib/python3.7/dist-packages/razor/flow/async_executors.py",
          "process": 2249,
          "processName": "ForkProcess-1:5",
          "thread": 139707269711680,
          "threadName": "MainThread"
         },
         {
          "asctime": "2021-03-24 06:25:20,145",
          "created": 1616567120.145179,
          "extra": {},
          "filename": "async_executors.py",
          "funcName": "fill_atomic_inputs",
          "levelname": "DEBUG",
          "lineno": 253,
          "message": "RenameCol_1: got atomic input: {'tweet': 'title', 'class': 'label'}",
          "name": "engine.logs:RenameCol_1",
          "pathname": "/usr/local/lib/python3.7/dist-packages/razor/flow/async_executors.py",
          "process": 2249,
          "processName": "ForkProcess-1:5",
          "thread": 139707269711680,
          "threadName": "MainThread"
         },
         {
          "asctime": "2021-03-24 06:25:20,142",
          "created": 1616567120.1420712,
          "extra": {},
          "filename": "async_executors.py",
          "funcName": "start_output_sender",
          "levelname": "DEBUG",
          "lineno": 370,
          "message": "SelectData_2: got start_sender, outputData, ('RenameCol_1', 'inputData')",
          "name": "engine.logs:SelectData_2",
          "pathname": "/usr/local/lib/python3.7/dist-packages/razor/flow/async_executors.py",
          "process": 2249,
          "processName": "ForkProcess-1:5",
          "thread": 139707269711680,
          "threadName": "MainThread"
         },
         {
          "asctime": "2021-03-24 06:25:20,145",
          "created": 1616567120.1452293,
          "extra": {},
          "filename": "async_executors.py",
          "funcName": "fill_atomic_inputs",
          "levelname": "INFO",
          "lineno": 250,
          "message": "RenameCol_1: waiting for atomic input: config",
          "name": "engine.logs:RenameCol_1",
          "pathname": "/usr/local/lib/python3.7/dist-packages/razor/flow/async_executors.py",
          "process": 2249,
          "processName": "ForkProcess-1:5",
          "thread": 139707269711680,
          "threadName": "MainThread"
         },
         {
          "asctime": "2021-03-24 06:25:20,143",
          "created": 1616567120.143148,
          "extra": {},
          "filename": "async_executors.py",
          "funcName": "start_output_sender",
          "levelname": "DEBUG",
          "lineno": 375,
          "message": "SelectData_2: SENT, inputData, DataFrame[tweet: string, class: string], ('RenameCol_1', 'inputData')",
          "name": "engine.logs:SelectData_2",
          "pathname": "/usr/local/lib/python3.7/dist-packages/razor/flow/async_executors.py",
          "process": 2249,
          "processName": "ForkProcess-1:5",
          "thread": 139707269711680,
          "threadName": "MainThread"
         },
         {
          "asctime": "2021-03-24 06:25:20,137",
          "created": 1616567120.1377614,
          "extra": {},
          "filename": "async_executors.py",
          "funcName": "distribute_output_queue",
          "levelname": "DEBUG",
          "lineno": 308,
          "message": "SelectData_1: ---- dist output: b'__!\\tEndOfStream\\t!__' -> ('ConcatData_1', 'inputData_1')",
          "name": "engine.logs:SelectData_1",
          "pathname": "/usr/local/lib/python3.7/dist-packages/razor/flow/async_executors.py",
          "process": 2249,
          "processName": "ForkProcess-1:5",
          "thread": 139707269711680,
          "threadName": "MainThread"
         },
         {
          "asctime": "2021-03-24 06:25:20,145",
          "created": 1616567120.1452785,
          "extra": {},
          "filename": "async_executors.py",
          "funcName": "fill_atomic_inputs",
          "levelname": "DEBUG",
          "lineno": 253,
          "message": "RenameCol_1: got atomic input: {}",
          "name": "engine.logs:RenameCol_1",
          "pathname": "/usr/local/lib/python3.7/dist-packages/razor/flow/async_executors.py",
          "process": 2249,
          "processName": "ForkProcess-1:5",
          "thread": 139707269711680,
          "threadName": "MainThread"
         },
         {
          "asctime": "2021-03-24 06:25:20,143",
          "created": 1616567120.1433206,
          "extra": {},
          "filename": "async_executors.py",
          "funcName": "start_output_sender",
          "levelname": "DEBUG",
          "lineno": 375,
          "message": "SelectData_2: SENT, inputData, b'__!\\tEndOfStream\\t!__', ('RenameCol_1', 'inputData')",
          "name": "engine.logs:SelectData_2",
          "pathname": "/usr/local/lib/python3.7/dist-packages/razor/flow/async_executors.py",
          "process": 2249,
          "processName": "ForkProcess-1:5",
          "thread": 139707269711680,
          "threadName": "MainThread"
         },
         {
          "asctime": "2021-03-24 06:25:20,137",
          "created": 1616567120.13781,
          "extra": {},
          "filename": "async_executors.py",
          "funcName": "distribute_output_queue",
          "levelname": "DEBUG",
          "lineno": 308,
          "message": "SelectData_1: ---- dist output: b'__!\\tEndOfStream\\t!__' -> ('ConcatData_2', 'inputData_2')",
          "name": "engine.logs:SelectData_1",
          "pathname": "/usr/local/lib/python3.7/dist-packages/razor/flow/async_executors.py",
          "process": 2249,
          "processName": "ForkProcess-1:5",
          "thread": 139707269711680,
          "threadName": "MainThread"
         },
         {
          "asctime": "2021-03-24 06:25:20,143",
          "created": 1616567120.1434164,
          "extra": {},
          "filename": "async_executors.py",
          "funcName": "start_output_sender",
          "levelname": "DEBUG",
          "lineno": 379,
          "message": "SelectData_2: completed output: ('outputData', ('RenameCol_1', 'inputData'))",
          "name": "engine.logs:SelectData_2",
          "pathname": "/usr/local/lib/python3.7/dist-packages/razor/flow/async_executors.py",
          "process": 2249,
          "processName": "ForkProcess-1:5",
          "thread": 139707269711680,
          "threadName": "MainThread"
         },
         {
          "asctime": "2021-03-24 06:25:20,147",
          "created": 1616567120.1470015,
          "extra": {},
          "filename": "async_executors.py",
          "funcName": "start_input_receiver",
          "levelname": "DEBUG",
          "lineno": 173,
          "message": "SelectData_1: received cmd: start_sender, (), {'out_name': 'outputData', 'target': ('ConcatData_1', 'inputData_1'), 'out_addr': 'tcp://0.0.0.0:57675', 'in_memory': True}",
          "name": "engine.logs:SelectData_1",
          "pathname": "/usr/local/lib/python3.7/dist-packages/razor/flow/async_executors.py",
          "process": 2249,
          "processName": "ForkProcess-1:5",
          "thread": 139707269711680,
          "threadName": "MainThread"
         },
         {
          "asctime": "2021-03-24 06:25:20,145",
          "created": 1616567120.1453254,
          "extra": {},
          "filename": "async_executors.py",
          "funcName": "fill_atomic_inputs",
          "levelname": "INFO",
          "lineno": 250,
          "message": "RenameCol_1: waiting for atomic input: source",
          "name": "engine.logs:RenameCol_1",
          "pathname": "/usr/local/lib/python3.7/dist-packages/razor/flow/async_executors.py",
          "process": 2249,
          "processName": "ForkProcess-1:5",
          "thread": 139707269711680,
          "threadName": "MainThread"
         },
         {
          "asctime": "2021-03-24 06:25:20,147",
          "created": 1616567120.1475315,
          "extra": {},
          "filename": "async_executors.py",
          "funcName": "start_output_sender",
          "levelname": "DEBUG",
          "lineno": 370,
          "message": "SelectData_1: got start_sender, outputData, ('ConcatData_1', 'inputData_1')",
          "name": "engine.logs:SelectData_1",
          "pathname": "/usr/local/lib/python3.7/dist-packages/razor/flow/async_executors.py",
          "process": 2249,
          "processName": "ForkProcess-1:5",
          "thread": 139707269711680,
          "threadName": "MainThread"
         },
         {
          "asctime": "2021-03-24 06:25:20,188",
          "created": 1616567120.1880841,
          "extra": {},
          "filename": "async_executors.py",
          "funcName": "start_output_sender",
          "levelname": "DEBUG",
          "lineno": 375,
          "message": "SelectData_1: SENT, inputData_1, DataFrame[title: string, label: string], ('ConcatData_1', 'inputData_1')",
          "name": "engine.logs:SelectData_1",
          "pathname": "/usr/local/lib/python3.7/dist-packages/razor/flow/async_executors.py",
          "process": 2249,
          "processName": "ForkProcess-1:5",
          "thread": 139707269711680,
          "threadName": "MainThread"
         },
         {
          "asctime": "2021-03-24 06:25:20,145",
          "created": 1616567120.145366,
          "extra": {},
          "filename": "async_executors.py",
          "funcName": "fill_atomic_inputs",
          "levelname": "DEBUG",
          "lineno": 253,
          "message": "RenameCol_1: got atomic input: ",
          "name": "engine.logs:RenameCol_1",
          "pathname": "/usr/local/lib/python3.7/dist-packages/razor/flow/async_executors.py",
          "process": 2249,
          "processName": "ForkProcess-1:5",
          "thread": 139707269711680,
          "threadName": "MainThread"
         },
         {
          "asctime": "2021-03-24 06:25:20,145",
          "created": 1616567120.145417,
          "extra": {},
          "filename": "async_executors.py",
          "funcName": "main",
          "levelname": "DEBUG",
          "lineno": 130,
          "message": "RenameCol_1: triggering block run",
          "name": "engine.logs:RenameCol_1",
          "pathname": "/usr/local/lib/python3.7/dist-packages/razor/flow/async_executors.py",
          "process": 2249,
          "processName": "ForkProcess-1:5",
          "thread": 139707269711680,
          "threadName": "MainThread"
         },
         {
          "asctime": "2021-03-24 06:25:20,188",
          "created": 1616567120.1883538,
          "extra": {},
          "filename": "async_executors.py",
          "funcName": "start_output_sender",
          "levelname": "DEBUG",
          "lineno": 375,
          "message": "SelectData_1: SENT, inputData_1, b'__!\\tEndOfStream\\t!__', ('ConcatData_1', 'inputData_1')",
          "name": "engine.logs:SelectData_1",
          "pathname": "/usr/local/lib/python3.7/dist-packages/razor/flow/async_executors.py",
          "process": 2249,
          "processName": "ForkProcess-1:5",
          "thread": 139707269711680,
          "threadName": "MainThread"
         },
         {
          "asctime": "2021-03-24 06:25:20,188",
          "created": 1616567120.1885624,
          "extra": {},
          "filename": "async_executors.py",
          "funcName": "start_output_sender",
          "levelname": "DEBUG",
          "lineno": 379,
          "message": "SelectData_1: completed output: ('outputData', ('ConcatData_1', 'inputData_1'))",
          "name": "engine.logs:SelectData_1",
          "pathname": "/usr/local/lib/python3.7/dist-packages/razor/flow/async_executors.py",
          "process": 2249,
          "processName": "ForkProcess-1:5",
          "thread": 139707269711680,
          "threadName": "MainThread"
         },
         {
          "asctime": "2021-03-24 06:25:20,235",
          "created": 1616567120.2351975,
          "extra": {},
          "filename": "async_executors.py",
          "funcName": "fill_atomic_inputs",
          "levelname": "DEBUG",
          "lineno": 253,
          "message": "ConcatData_1: got atomic input: DataFrame[title: string, label: string]",
          "name": "engine.logs:ConcatData_1",
          "pathname": "/usr/local/lib/python3.7/dist-packages/razor/flow/async_executors.py",
          "process": 2249,
          "processName": "ForkProcess-1:5",
          "thread": 139707269711680,
          "threadName": "MainThread"
         },
         {
          "asctime": "2021-03-24 06:25:20,237",
          "created": 1616567120.2378318,
          "extra": {},
          "filename": "async_executors.py",
          "funcName": "distribute_output_queue",
          "levelname": "DEBUG",
          "lineno": 308,
          "message": "RenameCol_1: ---- dist output: DataFrame[title: string, label: string] -> ('ConcatData_1', 'inputData_2')",
          "name": "engine.logs:RenameCol_1",
          "pathname": "/usr/local/lib/python3.7/dist-packages/razor/flow/async_executors.py",
          "process": 2249,
          "processName": "ForkProcess-1:5",
          "thread": 139707269711680,
          "threadName": "MainThread"
         },
         {
          "asctime": "2021-03-24 06:25:20,235",
          "created": 1616567120.2353425,
          "extra": {},
          "filename": "async_executors.py",
          "funcName": "fill_atomic_inputs",
          "levelname": "INFO",
          "lineno": 250,
          "message": "ConcatData_1: waiting for atomic input: inputData_2",
          "name": "engine.logs:ConcatData_1",
          "pathname": "/usr/local/lib/python3.7/dist-packages/razor/flow/async_executors.py",
          "process": 2249,
          "processName": "ForkProcess-1:5",
          "thread": 139707269711680,
          "threadName": "MainThread"
         },
         {
          "asctime": "2021-03-24 06:25:20,235",
          "created": 1616567120.2356446,
          "extra": {},
          "filename": "async_executors.py",
          "funcName": "start_input_receiver",
          "levelname": "DEBUG",
          "lineno": 173,
          "message": "SelectData_1: received cmd: start_sender, (), {'out_name': 'outputData', 'target': ('ConcatData_2', 'inputData_2'), 'out_addr': 'tcp://0.0.0.0:57311', 'in_memory': True}",
          "name": "engine.logs:SelectData_1",
          "pathname": "/usr/local/lib/python3.7/dist-packages/razor/flow/async_executors.py",
          "process": 2249,
          "processName": "ForkProcess-1:5",
          "thread": 139707269711680,
          "threadName": "MainThread"
         },
         {
          "asctime": "2021-03-24 06:25:20,240",
          "created": 1616567120.2401679,
          "extra": {},
          "filename": "async_executors.py",
          "funcName": "start_input_receiver",
          "levelname": "DEBUG",
          "lineno": 173,
          "message": "SelectData_2: received cmd: terminate, (), {}",
          "name": "engine.logs:SelectData_2",
          "pathname": "/usr/local/lib/python3.7/dist-packages/razor/flow/async_executors.py",
          "process": 2249,
          "processName": "ForkProcess-1:5",
          "thread": 139707269711680,
          "threadName": "MainThread"
         },
         {
          "asctime": "2021-03-24 06:25:20,238",
          "created": 1616567120.238451,
          "extra": {},
          "filename": "async_executors.py",
          "funcName": "main",
          "levelname": "DEBUG",
          "lineno": 147,
          "message": "RenameCol_1: block thread completed",
          "name": "engine.logs:RenameCol_1",
          "pathname": "/usr/local/lib/python3.7/dist-packages/razor/flow/async_executors.py",
          "process": 2249,
          "processName": "ForkProcess-1:5",
          "thread": 139707269711680,
          "threadName": "MainThread"
         },
         {
          "asctime": "2021-03-24 06:25:20,238",
          "created": 1616567120.2385817,
          "extra": {},
          "filename": "async_executors.py",
          "funcName": "main",
          "levelname": "DEBUG",
          "lineno": 149,
          "message": "RenameCol_1: block execution complete",
          "name": "engine.logs:RenameCol_1",
          "pathname": "/usr/local/lib/python3.7/dist-packages/razor/flow/async_executors.py",
          "process": 2249,
          "processName": "ForkProcess-1:5",
          "thread": 139707269711680,
          "threadName": "MainThread"
         },
         {
          "asctime": "2021-03-24 06:25:20,238",
          "created": 1616567120.2386901,
          "extra": {},
          "filename": "async_executors.py",
          "funcName": "start_output_sender",
          "levelname": "DEBUG",
          "lineno": 370,
          "message": "SelectData_1: got start_sender, outputData, ('ConcatData_2', 'inputData_2')",
          "name": "engine.logs:SelectData_1",
          "pathname": "/usr/local/lib/python3.7/dist-packages/razor/flow/async_executors.py",
          "process": 2249,
          "processName": "ForkProcess-1:5",
          "thread": 139707269711680,
          "threadName": "MainThread"
         },
         {
          "asctime": "2021-03-24 06:25:20,239",
          "created": 1616567120.2392006,
          "extra": {},
          "filename": "async_executors.py",
          "funcName": "start_output_sender",
          "levelname": "DEBUG",
          "lineno": 375,
          "message": "SelectData_1: SENT, inputData_2, DataFrame[title: string, label: string], ('ConcatData_2', 'inputData_2')",
          "name": "engine.logs:SelectData_1",
          "pathname": "/usr/local/lib/python3.7/dist-packages/razor/flow/async_executors.py",
          "process": 2249,
          "processName": "ForkProcess-1:5",
          "thread": 139707269711680,
          "threadName": "MainThread"
         },
         {
          "asctime": "2021-03-24 06:25:20,239",
          "created": 1616567120.2393143,
          "extra": {},
          "filename": "async_executors.py",
          "funcName": "start_output_sender",
          "levelname": "DEBUG",
          "lineno": 375,
          "message": "SelectData_1: SENT, inputData_2, b'__!\\tEndOfStream\\t!__', ('ConcatData_2', 'inputData_2')",
          "name": "engine.logs:SelectData_1",
          "pathname": "/usr/local/lib/python3.7/dist-packages/razor/flow/async_executors.py",
          "process": 2249,
          "processName": "ForkProcess-1:5",
          "thread": 139707269711680,
          "threadName": "MainThread"
         },
         {
          "asctime": "2021-03-24 06:25:20,239",
          "created": 1616567120.239844,
          "extra": {},
          "filename": "async_executors.py",
          "funcName": "distribute_output_queue",
          "levelname": "DEBUG",
          "lineno": 308,
          "message": "RenameCol_1: ---- dist output: b'__!\\tEndOfStream\\t!__' -> ('ConcatData_1', 'inputData_2')",
          "name": "engine.logs:RenameCol_1",
          "pathname": "/usr/local/lib/python3.7/dist-packages/razor/flow/async_executors.py",
          "process": 2249,
          "processName": "ForkProcess-1:5",
          "thread": 139707269711680,
          "threadName": "MainThread"
         },
         {
          "asctime": "2021-03-24 06:25:20,239",
          "created": 1616567120.239365,
          "extra": {},
          "filename": "async_executors.py",
          "funcName": "start_output_sender",
          "levelname": "DEBUG",
          "lineno": 379,
          "message": "SelectData_1: completed output: ('outputData', ('ConcatData_2', 'inputData_2'))",
          "name": "engine.logs:SelectData_1",
          "pathname": "/usr/local/lib/python3.7/dist-packages/razor/flow/async_executors.py",
          "process": 2249,
          "processName": "ForkProcess-1:5",
          "thread": 139707269711680,
          "threadName": "MainThread"
         },
         {
          "asctime": "2021-03-24 06:25:20,308",
          "created": 1616567120.3087502,
          "extra": {},
          "filename": "async_executors.py",
          "funcName": "start_input_receiver",
          "levelname": "DEBUG",
          "lineno": 173,
          "message": "RenameCol_1: received cmd: start_sender, (), {'out_name': 'outputData', 'target': ('ConcatData_1', 'inputData_2'), 'out_addr': 'tcp://0.0.0.0:57675', 'in_memory': True}",
          "name": "engine.logs:RenameCol_1",
          "pathname": "/usr/local/lib/python3.7/dist-packages/razor/flow/async_executors.py",
          "process": 2249,
          "processName": "ForkProcess-1:5",
          "thread": 139707269711680,
          "threadName": "MainThread"
         },
         {
          "asctime": "2021-03-24 06:25:20,334",
          "created": 1616567120.3341415,
          "extra": {},
          "filename": "async_executors.py",
          "funcName": "start_input_receiver",
          "levelname": "DEBUG",
          "lineno": 173,
          "message": "SelectData_1: received cmd: terminate, (), {}",
          "name": "engine.logs:SelectData_1",
          "pathname": "/usr/local/lib/python3.7/dist-packages/razor/flow/async_executors.py",
          "process": 2249,
          "processName": "ForkProcess-1:5",
          "thread": 139707269711680,
          "threadName": "MainThread"
         },
         {
          "asctime": "2021-03-24 06:25:20,331",
          "created": 1616567120.3319476,
          "extra": {},
          "filename": "async_executors.py",
          "funcName": "start_output_sender",
          "levelname": "DEBUG",
          "lineno": 370,
          "message": "RenameCol_1: got start_sender, outputData, ('ConcatData_1', 'inputData_2')",
          "name": "engine.logs:RenameCol_1",
          "pathname": "/usr/local/lib/python3.7/dist-packages/razor/flow/async_executors.py",
          "process": 2249,
          "processName": "ForkProcess-1:5",
          "thread": 139707269711680,
          "threadName": "MainThread"
         },
         {
          "asctime": "2021-03-24 06:25:20,336",
          "created": 1616567120.336222,
          "extra": {},
          "filename": "async_executors.py",
          "funcName": "fill_atomic_inputs",
          "levelname": "DEBUG",
          "lineno": 253,
          "message": "ConcatData_1: got atomic input: DataFrame[title: string, label: string]",
          "name": "engine.logs:ConcatData_1",
          "pathname": "/usr/local/lib/python3.7/dist-packages/razor/flow/async_executors.py",
          "process": 2249,
          "processName": "ForkProcess-1:5",
          "thread": 139707269711680,
          "threadName": "MainThread"
         },
         {
          "asctime": "2021-03-24 06:25:20,333",
          "created": 1616567120.3337352,
          "extra": {},
          "filename": "async_executors.py",
          "funcName": "start_output_sender",
          "levelname": "DEBUG",
          "lineno": 375,
          "message": "RenameCol_1: SENT, inputData_2, DataFrame[title: string, label: string], ('ConcatData_1', 'inputData_2')",
          "name": "engine.logs:RenameCol_1",
          "pathname": "/usr/local/lib/python3.7/dist-packages/razor/flow/async_executors.py",
          "process": 2249,
          "processName": "ForkProcess-1:5",
          "thread": 139707269711680,
          "threadName": "MainThread"
         },
         {
          "asctime": "2021-03-24 06:25:20,336",
          "created": 1616567120.336309,
          "extra": {},
          "filename": "async_executors.py",
          "funcName": "fill_atomic_inputs",
          "levelname": "INFO",
          "lineno": 250,
          "message": "ConcatData_1: waiting for atomic input: config",
          "name": "engine.logs:ConcatData_1",
          "pathname": "/usr/local/lib/python3.7/dist-packages/razor/flow/async_executors.py",
          "process": 2249,
          "processName": "ForkProcess-1:5",
          "thread": 139707269711680,
          "threadName": "MainThread"
         },
         {
          "asctime": "2021-03-24 06:25:20,336",
          "created": 1616567120.3363698,
          "extra": {},
          "filename": "async_executors.py",
          "funcName": "fill_atomic_inputs",
          "levelname": "DEBUG",
          "lineno": 253,
          "message": "ConcatData_1: got atomic input: {}",
          "name": "engine.logs:ConcatData_1",
          "pathname": "/usr/local/lib/python3.7/dist-packages/razor/flow/async_executors.py",
          "process": 2249,
          "processName": "ForkProcess-1:5",
          "thread": 139707269711680,
          "threadName": "MainThread"
         },
         {
          "asctime": "2021-03-24 06:25:20,333",
          "created": 1616567120.3339305,
          "extra": {},
          "filename": "async_executors.py",
          "funcName": "start_output_sender",
          "levelname": "DEBUG",
          "lineno": 375,
          "message": "RenameCol_1: SENT, inputData_2, b'__!\\tEndOfStream\\t!__', ('ConcatData_1', 'inputData_2')",
          "name": "engine.logs:RenameCol_1",
          "pathname": "/usr/local/lib/python3.7/dist-packages/razor/flow/async_executors.py",
          "process": 2249,
          "processName": "ForkProcess-1:5",
          "thread": 139707269711680,
          "threadName": "MainThread"
         },
         {
          "asctime": "2021-03-24 06:25:20,336",
          "created": 1616567120.3364215,
          "extra": {},
          "filename": "async_executors.py",
          "funcName": "fill_atomic_inputs",
          "levelname": "INFO",
          "lineno": 250,
          "message": "ConcatData_1: waiting for atomic input: source",
          "name": "engine.logs:ConcatData_1",
          "pathname": "/usr/local/lib/python3.7/dist-packages/razor/flow/async_executors.py",
          "process": 2249,
          "processName": "ForkProcess-1:5",
          "thread": 139707269711680,
          "threadName": "MainThread"
         },
         {
          "asctime": "2021-03-24 06:25:20,334",
          "created": 1616567120.334013,
          "extra": {},
          "filename": "async_executors.py",
          "funcName": "start_output_sender",
          "levelname": "DEBUG",
          "lineno": 379,
          "message": "RenameCol_1: completed output: ('outputData', ('ConcatData_1', 'inputData_2'))",
          "name": "engine.logs:RenameCol_1",
          "pathname": "/usr/local/lib/python3.7/dist-packages/razor/flow/async_executors.py",
          "process": 2249,
          "processName": "ForkProcess-1:5",
          "thread": 139707269711680,
          "threadName": "MainThread"
         },
         {
          "asctime": "2021-03-24 06:25:20,336",
          "created": 1616567120.3364668,
          "extra": {},
          "filename": "async_executors.py",
          "funcName": "fill_atomic_inputs",
          "levelname": "DEBUG",
          "lineno": 253,
          "message": "ConcatData_1: got atomic input: ",
          "name": "engine.logs:ConcatData_1",
          "pathname": "/usr/local/lib/python3.7/dist-packages/razor/flow/async_executors.py",
          "process": 2249,
          "processName": "ForkProcess-1:5",
          "thread": 139707269711680,
          "threadName": "MainThread"
         },
         {
          "asctime": "2021-03-24 06:25:20,339",
          "created": 1616567120.3396502,
          "extra": {},
          "filename": "async_executors.py",
          "funcName": "start_input_receiver",
          "levelname": "DEBUG",
          "lineno": 173,
          "message": "RenameCol_1: received cmd: terminate, (), {}",
          "name": "engine.logs:RenameCol_1",
          "pathname": "/usr/local/lib/python3.7/dist-packages/razor/flow/async_executors.py",
          "process": 2249,
          "processName": "ForkProcess-1:5",
          "thread": 139707269711680,
          "threadName": "MainThread"
         },
         {
          "asctime": "2021-03-24 06:25:20,336",
          "created": 1616567120.3365128,
          "extra": {},
          "filename": "async_executors.py",
          "funcName": "main",
          "levelname": "DEBUG",
          "lineno": 130,
          "message": "ConcatData_1: triggering block run",
          "name": "engine.logs:ConcatData_1",
          "pathname": "/usr/local/lib/python3.7/dist-packages/razor/flow/async_executors.py",
          "process": 2249,
          "processName": "ForkProcess-1:5",
          "thread": 139707269711680,
          "threadName": "MainThread"
         },
         {
          "asctime": "2021-03-24 06:25:20,360",
          "created": 1616567120.3607044,
          "exc_info": null,
          "extra": {},
          "filename": null,
          "full_message": null,
          "funcName": null,
          "levelname": "STDOUT",
          "lineno": null,
          "message": "Concat Data\n",
          "name": "block.stdout:ConcatData_1",
          "pathname": null,
          "process": null,
          "processName": null,
          "thread": null,
          "threadName": null
         },
         {
          "asctime": "2021-03-24 06:25:21,018",
          "created": 1616567121.018121,
          "exc_info": null,
          "extra": {},
          "filename": null,
          "full_message": null,
          "funcName": null,
          "levelname": "STDOUT",
          "lineno": null,
          "message": "+--------------------+--------------------+\n|               title|               label|\n+--------------------+--------------------+\n|                null|                null|\n| the same newspap...|                null|\n|         \"\" it read.|                null|\n|                null|                null|\n|                null|                null|\n|                null|                null|\n|                null|                null|\n|                null|                null|\n|                null|                null|\n|                null|                null|\n|                null|                null|\n|                null|                null|\n|                null|                null|\n|                null|                null|\n| in Scotland Reut...| Bedfordshire. He...|\n|                null|                null|\n|           and Lance|                null|\n| a film based on ...|Tom Daley,Dustin ...|\n|                null|                null|\n| thus the series’...|                null|\n+--------------------+--------------------+\nonly showing top 20 rows\n\n",
          "name": "block.stdout:ConcatData_1",
          "pathname": null,
          "process": null,
          "processName": null,
          "thread": null,
          "threadName": null
         },
         {
          "asctime": "2021-03-24 06:25:21,033",
          "created": 1616567121.033961,
          "extra": {},
          "filename": "async_executors.py",
          "funcName": "distribute_output_queue",
          "levelname": "DEBUG",
          "lineno": 308,
          "message": "ConcatData_1: ---- dist output: DataFrame[title: string, label: string] -> ('ConcatData_2', 'inputData_1')",
          "name": "engine.logs:ConcatData_1",
          "pathname": "/usr/local/lib/python3.7/dist-packages/razor/flow/async_executors.py",
          "process": 2249,
          "processName": "ForkProcess-1:5",
          "thread": 139707269711680,
          "threadName": "MainThread"
         },
         {
          "asctime": "2021-03-24 06:25:21,034",
          "created": 1616567121.0343382,
          "extra": {},
          "filename": "async_executors.py",
          "funcName": "main",
          "levelname": "DEBUG",
          "lineno": 147,
          "message": "ConcatData_1: block thread completed",
          "name": "engine.logs:ConcatData_1",
          "pathname": "/usr/local/lib/python3.7/dist-packages/razor/flow/async_executors.py",
          "process": 2249,
          "processName": "ForkProcess-1:5",
          "thread": 139707269711680,
          "threadName": "MainThread"
         },
         {
          "asctime": "2021-03-24 06:25:21,034",
          "created": 1616567121.0344234,
          "extra": {},
          "filename": "async_executors.py",
          "funcName": "main",
          "levelname": "DEBUG",
          "lineno": 149,
          "message": "ConcatData_1: block execution complete",
          "name": "engine.logs:ConcatData_1",
          "pathname": "/usr/local/lib/python3.7/dist-packages/razor/flow/async_executors.py",
          "process": 2249,
          "processName": "ForkProcess-1:5",
          "thread": 139707269711680,
          "threadName": "MainThread"
         },
         {
          "asctime": "2021-03-24 06:25:21,056",
          "created": 1616567121.0566258,
          "extra": {},
          "filename": "async_executors.py",
          "funcName": "distribute_output_queue",
          "levelname": "DEBUG",
          "lineno": 308,
          "message": "ConcatData_1: ---- dist output: b'__!\\tEndOfStream\\t!__' -> ('ConcatData_2', 'inputData_1')",
          "name": "engine.logs:ConcatData_1",
          "pathname": "/usr/local/lib/python3.7/dist-packages/razor/flow/async_executors.py",
          "process": 2249,
          "processName": "ForkProcess-1:5",
          "thread": 139707269711680,
          "threadName": "MainThread"
         },
         {
          "asctime": "2021-03-24 06:25:21,082",
          "created": 1616567121.082057,
          "extra": {},
          "filename": "async_executors.py",
          "funcName": "start_input_receiver",
          "levelname": "DEBUG",
          "lineno": 173,
          "message": "ConcatData_1: received cmd: start_sender, (), {'out_name': 'outputData', 'target': ('ConcatData_2', 'inputData_1'), 'out_addr': 'tcp://0.0.0.0:57311', 'in_memory': True}",
          "name": "engine.logs:ConcatData_1",
          "pathname": "/usr/local/lib/python3.7/dist-packages/razor/flow/async_executors.py",
          "process": 2249,
          "processName": "ForkProcess-1:5",
          "thread": 139707269711680,
          "threadName": "MainThread"
         },
         {
          "asctime": "2021-03-24 06:25:21,082",
          "created": 1616567121.0824594,
          "extra": {},
          "filename": "async_executors.py",
          "funcName": "start_output_sender",
          "levelname": "DEBUG",
          "lineno": 370,
          "message": "ConcatData_1: got start_sender, outputData, ('ConcatData_2', 'inputData_1')",
          "name": "engine.logs:ConcatData_1",
          "pathname": "/usr/local/lib/python3.7/dist-packages/razor/flow/async_executors.py",
          "process": 2249,
          "processName": "ForkProcess-1:5",
          "thread": 139707269711680,
          "threadName": "MainThread"
         },
         {
          "asctime": "2021-03-24 06:25:21,083",
          "created": 1616567121.0831509,
          "extra": {},
          "filename": "async_executors.py",
          "funcName": "start_output_sender",
          "levelname": "DEBUG",
          "lineno": 375,
          "message": "ConcatData_1: SENT, inputData_1, DataFrame[title: string, label: string], ('ConcatData_2', 'inputData_1')",
          "name": "engine.logs:ConcatData_1",
          "pathname": "/usr/local/lib/python3.7/dist-packages/razor/flow/async_executors.py",
          "process": 2249,
          "processName": "ForkProcess-1:5",
          "thread": 139707269711680,
          "threadName": "MainThread"
         },
         {
          "asctime": "2021-03-24 06:25:21,084",
          "created": 1616567121.08444,
          "extra": {},
          "filename": "async_executors.py",
          "funcName": "fill_atomic_inputs",
          "levelname": "DEBUG",
          "lineno": 253,
          "message": "ConcatData_2: got atomic input: DataFrame[title: string, label: string]",
          "name": "engine.logs:ConcatData_2",
          "pathname": "/usr/local/lib/python3.7/dist-packages/razor/flow/async_executors.py",
          "process": 2249,
          "processName": "ForkProcess-1:5",
          "thread": 139707269711680,
          "threadName": "MainThread"
         },
         {
          "asctime": "2021-03-24 06:25:21,083",
          "created": 1616567121.0832703,
          "extra": {},
          "filename": "async_executors.py",
          "funcName": "start_output_sender",
          "levelname": "DEBUG",
          "lineno": 375,
          "message": "ConcatData_1: SENT, inputData_1, b'__!\\tEndOfStream\\t!__', ('ConcatData_2', 'inputData_1')",
          "name": "engine.logs:ConcatData_1",
          "pathname": "/usr/local/lib/python3.7/dist-packages/razor/flow/async_executors.py",
          "process": 2249,
          "processName": "ForkProcess-1:5",
          "thread": 139707269711680,
          "threadName": "MainThread"
         },
         {
          "asctime": "2021-03-24 06:25:21,084",
          "created": 1616567121.0845423,
          "extra": {},
          "filename": "async_executors.py",
          "funcName": "fill_atomic_inputs",
          "levelname": "INFO",
          "lineno": 250,
          "message": "ConcatData_2: waiting for atomic input: inputData_2",
          "name": "engine.logs:ConcatData_2",
          "pathname": "/usr/local/lib/python3.7/dist-packages/razor/flow/async_executors.py",
          "process": 2249,
          "processName": "ForkProcess-1:5",
          "thread": 139707269711680,
          "threadName": "MainThread"
         },
         {
          "asctime": "2021-03-24 06:25:21,083",
          "created": 1616567121.0833218,
          "extra": {},
          "filename": "async_executors.py",
          "funcName": "start_output_sender",
          "levelname": "DEBUG",
          "lineno": 379,
          "message": "ConcatData_1: completed output: ('outputData', ('ConcatData_2', 'inputData_1'))",
          "name": "engine.logs:ConcatData_1",
          "pathname": "/usr/local/lib/python3.7/dist-packages/razor/flow/async_executors.py",
          "process": 2249,
          "processName": "ForkProcess-1:5",
          "thread": 139707269711680,
          "threadName": "MainThread"
         },
         {
          "asctime": "2021-03-24 06:25:21,084",
          "created": 1616567121.0849156,
          "extra": {},
          "filename": "async_executors.py",
          "funcName": "fill_atomic_inputs",
          "levelname": "DEBUG",
          "lineno": 253,
          "message": "ConcatData_2: got atomic input: DataFrame[title: string, label: string]",
          "name": "engine.logs:ConcatData_2",
          "pathname": "/usr/local/lib/python3.7/dist-packages/razor/flow/async_executors.py",
          "process": 2249,
          "processName": "ForkProcess-1:5",
          "thread": 139707269711680,
          "threadName": "MainThread"
         },
         {
          "asctime": "2021-03-24 06:25:21,087",
          "created": 1616567121.0871065,
          "extra": {},
          "filename": "async_executors.py",
          "funcName": "start_input_receiver",
          "levelname": "DEBUG",
          "lineno": 173,
          "message": "ConcatData_1: received cmd: terminate, (), {}",
          "name": "engine.logs:ConcatData_1",
          "pathname": "/usr/local/lib/python3.7/dist-packages/razor/flow/async_executors.py",
          "process": 2249,
          "processName": "ForkProcess-1:5",
          "thread": 139707269711680,
          "threadName": "MainThread"
         },
         {
          "asctime": "2021-03-24 06:25:21,085",
          "created": 1616567121.0850015,
          "extra": {},
          "filename": "async_executors.py",
          "funcName": "fill_atomic_inputs",
          "levelname": "INFO",
          "lineno": 250,
          "message": "ConcatData_2: waiting for atomic input: config",
          "name": "engine.logs:ConcatData_2",
          "pathname": "/usr/local/lib/python3.7/dist-packages/razor/flow/async_executors.py",
          "process": 2249,
          "processName": "ForkProcess-1:5",
          "thread": 139707269711680,
          "threadName": "MainThread"
         },
         {
          "asctime": "2021-03-24 06:25:21,085",
          "created": 1616567121.0851912,
          "extra": {},
          "filename": "async_executors.py",
          "funcName": "fill_atomic_inputs",
          "levelname": "DEBUG",
          "lineno": 253,
          "message": "ConcatData_2: got atomic input: {}",
          "name": "engine.logs:ConcatData_2",
          "pathname": "/usr/local/lib/python3.7/dist-packages/razor/flow/async_executors.py",
          "process": 2249,
          "processName": "ForkProcess-1:5",
          "thread": 139707269711680,
          "threadName": "MainThread"
         },
         {
          "asctime": "2021-03-24 06:25:21,085",
          "created": 1616567121.0852487,
          "extra": {},
          "filename": "async_executors.py",
          "funcName": "fill_atomic_inputs",
          "levelname": "INFO",
          "lineno": 250,
          "message": "ConcatData_2: waiting for atomic input: source",
          "name": "engine.logs:ConcatData_2",
          "pathname": "/usr/local/lib/python3.7/dist-packages/razor/flow/async_executors.py",
          "process": 2249,
          "processName": "ForkProcess-1:5",
          "thread": 139707269711680,
          "threadName": "MainThread"
         },
         {
          "asctime": "2021-03-24 06:25:21,085",
          "created": 1616567121.0852935,
          "extra": {},
          "filename": "async_executors.py",
          "funcName": "fill_atomic_inputs",
          "levelname": "DEBUG",
          "lineno": 253,
          "message": "ConcatData_2: got atomic input: ",
          "name": "engine.logs:ConcatData_2",
          "pathname": "/usr/local/lib/python3.7/dist-packages/razor/flow/async_executors.py",
          "process": 2249,
          "processName": "ForkProcess-1:5",
          "thread": 139707269711680,
          "threadName": "MainThread"
         },
         {
          "asctime": "2021-03-24 06:25:21,085",
          "created": 1616567121.0853426,
          "extra": {},
          "filename": "async_executors.py",
          "funcName": "main",
          "levelname": "DEBUG",
          "lineno": 130,
          "message": "ConcatData_2: triggering block run",
          "name": "engine.logs:ConcatData_2",
          "pathname": "/usr/local/lib/python3.7/dist-packages/razor/flow/async_executors.py",
          "process": 2249,
          "processName": "ForkProcess-1:5",
          "thread": 139707269711680,
          "threadName": "MainThread"
         },
         {
          "asctime": "2021-03-24 06:25:21,103",
          "created": 1616567121.1034698,
          "exc_info": null,
          "extra": {},
          "filename": null,
          "full_message": null,
          "funcName": null,
          "levelname": "STDOUT",
          "lineno": null,
          "message": "Concat Data\n",
          "name": "block.stdout:ConcatData_2",
          "pathname": null,
          "process": null,
          "processName": null,
          "thread": null,
          "threadName": null
         },
         {
          "asctime": "2021-03-24 06:25:21,921",
          "created": 1616567121.9214556,
          "exc_info": null,
          "extra": {},
          "filename": null,
          "full_message": null,
          "funcName": null,
          "levelname": "STDOUT",
          "lineno": null,
          "message": "+--------------------+--------------------+\n|               title|               label|\n+--------------------+--------------------+\n|                null|                null|\n| the same newspap...|                null|\n|         \"\" it read.|                null|\n|                null|                null|\n|                null|                null|\n|                null|                null|\n|                null|                null|\n|                null|                null|\n|                null|                null|\n|                null|                null|\n|                null|                null|\n|                null|                null|\n|                null|                null|\n|                null|                null|\n| in Scotland Reut...| Bedfordshire. He...|\n|                null|                null|\n|           and Lance|                null|\n| a film based on ...|Tom Daley,Dustin ...|\n|                null|                null|\n| thus the series’...|                null|\n+--------------------+--------------------+\nonly showing top 20 rows\n\n",
          "name": "block.stdout:ConcatData_2",
          "pathname": null,
          "process": null,
          "processName": null,
          "thread": null,
          "threadName": null
         },
         {
          "asctime": "2021-03-24 06:25:21,923",
          "created": 1616567121.9231198,
          "extra": {},
          "filename": "async_executors.py",
          "funcName": "distribute_output_queue",
          "levelname": "DEBUG",
          "lineno": 308,
          "message": "ConcatData_2: ---- dist output: DataFrame[title: string, label: string] -> ('DropDuplicates_1', 'inputData')",
          "name": "engine.logs:ConcatData_2",
          "pathname": "/usr/local/lib/python3.7/dist-packages/razor/flow/async_executors.py",
          "process": 2249,
          "processName": "ForkProcess-1:5",
          "thread": 139707269711680,
          "threadName": "MainThread"
         },
         {
          "asctime": "2021-03-24 06:25:21,923",
          "created": 1616567121.9234,
          "extra": {},
          "filename": "async_executors.py",
          "funcName": "main",
          "levelname": "DEBUG",
          "lineno": 147,
          "message": "ConcatData_2: block thread completed",
          "name": "engine.logs:ConcatData_2",
          "pathname": "/usr/local/lib/python3.7/dist-packages/razor/flow/async_executors.py",
          "process": 2249,
          "processName": "ForkProcess-1:5",
          "thread": 139707269711680,
          "threadName": "MainThread"
         },
         {
          "asctime": "2021-03-24 06:25:21,923",
          "created": 1616567121.9234793,
          "extra": {},
          "filename": "async_executors.py",
          "funcName": "main",
          "levelname": "DEBUG",
          "lineno": 149,
          "message": "ConcatData_2: block execution complete",
          "name": "engine.logs:ConcatData_2",
          "pathname": "/usr/local/lib/python3.7/dist-packages/razor/flow/async_executors.py",
          "process": 2249,
          "processName": "ForkProcess-1:5",
          "thread": 139707269711680,
          "threadName": "MainThread"
         },
         {
          "asctime": "2021-03-24 06:25:21,923",
          "created": 1616567121.9237285,
          "extra": {},
          "filename": "async_executors.py",
          "funcName": "distribute_output_queue",
          "levelname": "DEBUG",
          "lineno": 308,
          "message": "ConcatData_2: ---- dist output: b'__!\\tEndOfStream\\t!__' -> ('DropDuplicates_1', 'inputData')",
          "name": "engine.logs:ConcatData_2",
          "pathname": "/usr/local/lib/python3.7/dist-packages/razor/flow/async_executors.py",
          "process": 2249,
          "processName": "ForkProcess-1:5",
          "thread": 139707269711680,
          "threadName": "MainThread"
         },
         {
          "asctime": "2021-03-24 06:25:21,926",
          "created": 1616567121.9267688,
          "extra": {},
          "filename": "async_executors.py",
          "funcName": "start_input_receiver",
          "levelname": "DEBUG",
          "lineno": 173,
          "message": "ConcatData_2: received cmd: start_sender, (), {'out_name': 'outputData', 'target': ('DropDuplicates_1', 'inputData'), 'out_addr': 'tcp://0.0.0.0:59722', 'in_memory': True}",
          "name": "engine.logs:ConcatData_2",
          "pathname": "/usr/local/lib/python3.7/dist-packages/razor/flow/async_executors.py",
          "process": 2249,
          "processName": "ForkProcess-1:5",
          "thread": 139707269711680,
          "threadName": "MainThread"
         },
         {
          "asctime": "2021-03-24 06:25:21,927",
          "created": 1616567121.9270074,
          "extra": {},
          "filename": "async_executors.py",
          "funcName": "start_output_sender",
          "levelname": "DEBUG",
          "lineno": 370,
          "message": "ConcatData_2: got start_sender, outputData, ('DropDuplicates_1', 'inputData')",
          "name": "engine.logs:ConcatData_2",
          "pathname": "/usr/local/lib/python3.7/dist-packages/razor/flow/async_executors.py",
          "process": 2249,
          "processName": "ForkProcess-1:5",
          "thread": 139707269711680,
          "threadName": "MainThread"
         },
         {
          "asctime": "2021-03-24 06:25:21,927",
          "created": 1616567121.927837,
          "extra": {},
          "filename": "async_executors.py",
          "funcName": "start_output_sender",
          "levelname": "DEBUG",
          "lineno": 375,
          "message": "ConcatData_2: SENT, inputData, DataFrame[title: string, label: string], ('DropDuplicates_1', 'inputData')",
          "name": "engine.logs:ConcatData_2",
          "pathname": "/usr/local/lib/python3.7/dist-packages/razor/flow/async_executors.py",
          "process": 2249,
          "processName": "ForkProcess-1:5",
          "thread": 139707269711680,
          "threadName": "MainThread"
         },
         {
          "asctime": "2021-03-24 06:25:21,929",
          "created": 1616567121.9291894,
          "extra": {},
          "filename": "async_executors.py",
          "funcName": "fill_atomic_inputs",
          "levelname": "DEBUG",
          "lineno": 253,
          "message": "DropDuplicates_1: got atomic input: DataFrame[title: string, label: string]",
          "name": "engine.logs:DropDuplicates_1",
          "pathname": "/usr/local/lib/python3.7/dist-packages/razor/flow/async_executors.py",
          "process": 2249,
          "processName": "ForkProcess-1:5",
          "thread": 139707269711680,
          "threadName": "MainThread"
         },
         {
          "asctime": "2021-03-24 06:25:21,927",
          "created": 1616567121.9279583,
          "extra": {},
          "filename": "async_executors.py",
          "funcName": "start_output_sender",
          "levelname": "DEBUG",
          "lineno": 375,
          "message": "ConcatData_2: SENT, inputData, b'__!\\tEndOfStream\\t!__', ('DropDuplicates_1', 'inputData')",
          "name": "engine.logs:ConcatData_2",
          "pathname": "/usr/local/lib/python3.7/dist-packages/razor/flow/async_executors.py",
          "process": 2249,
          "processName": "ForkProcess-1:5",
          "thread": 139707269711680,
          "threadName": "MainThread"
         },
         {
          "asctime": "2021-03-24 06:25:21,929",
          "created": 1616567121.92932,
          "extra": {},
          "filename": "async_executors.py",
          "funcName": "fill_atomic_inputs",
          "levelname": "INFO",
          "lineno": 250,
          "message": "DropDuplicates_1: waiting for atomic input: config",
          "name": "engine.logs:DropDuplicates_1",
          "pathname": "/usr/local/lib/python3.7/dist-packages/razor/flow/async_executors.py",
          "process": 2249,
          "processName": "ForkProcess-1:5",
          "thread": 139707269711680,
          "threadName": "MainThread"
         },
         {
          "asctime": "2021-03-24 06:25:21,928",
          "created": 1616567121.9280105,
          "extra": {},
          "filename": "async_executors.py",
          "funcName": "start_output_sender",
          "levelname": "DEBUG",
          "lineno": 379,
          "message": "ConcatData_2: completed output: ('outputData', ('DropDuplicates_1', 'inputData'))",
          "name": "engine.logs:ConcatData_2",
          "pathname": "/usr/local/lib/python3.7/dist-packages/razor/flow/async_executors.py",
          "process": 2249,
          "processName": "ForkProcess-1:5",
          "thread": 139707269711680,
          "threadName": "MainThread"
         },
         {
          "asctime": "2021-03-24 06:25:21,929",
          "created": 1616567121.9294198,
          "extra": {},
          "filename": "async_executors.py",
          "funcName": "fill_atomic_inputs",
          "levelname": "DEBUG",
          "lineno": 253,
          "message": "DropDuplicates_1: got atomic input: {}",
          "name": "engine.logs:DropDuplicates_1",
          "pathname": "/usr/local/lib/python3.7/dist-packages/razor/flow/async_executors.py",
          "process": 2249,
          "processName": "ForkProcess-1:5",
          "thread": 139707269711680,
          "threadName": "MainThread"
         },
         {
          "asctime": "2021-03-24 06:25:21,933",
          "created": 1616567121.9331174,
          "extra": {},
          "filename": "async_executors.py",
          "funcName": "start_input_receiver",
          "levelname": "DEBUG",
          "lineno": 173,
          "message": "ConcatData_2: received cmd: terminate, (), {}",
          "name": "engine.logs:ConcatData_2",
          "pathname": "/usr/local/lib/python3.7/dist-packages/razor/flow/async_executors.py",
          "process": 2249,
          "processName": "ForkProcess-1:5",
          "thread": 139707269711680,
          "threadName": "MainThread"
         },
         {
          "asctime": "2021-03-24 06:25:21,929",
          "created": 1616567121.9294825,
          "extra": {},
          "filename": "async_executors.py",
          "funcName": "fill_atomic_inputs",
          "levelname": "INFO",
          "lineno": 250,
          "message": "DropDuplicates_1: waiting for atomic input: source",
          "name": "engine.logs:DropDuplicates_1",
          "pathname": "/usr/local/lib/python3.7/dist-packages/razor/flow/async_executors.py",
          "process": 2249,
          "processName": "ForkProcess-1:5",
          "thread": 139707269711680,
          "threadName": "MainThread"
         },
         {
          "asctime": "2021-03-24 06:25:21,929",
          "created": 1616567121.9295511,
          "extra": {},
          "filename": "async_executors.py",
          "funcName": "fill_atomic_inputs",
          "levelname": "DEBUG",
          "lineno": 253,
          "message": "DropDuplicates_1: got atomic input: ",
          "name": "engine.logs:DropDuplicates_1",
          "pathname": "/usr/local/lib/python3.7/dist-packages/razor/flow/async_executors.py",
          "process": 2249,
          "processName": "ForkProcess-1:5",
          "thread": 139707269711680,
          "threadName": "MainThread"
         },
         {
          "asctime": "2021-03-24 06:25:21,929",
          "created": 1616567121.9296424,
          "extra": {},
          "filename": "async_executors.py",
          "funcName": "main",
          "levelname": "DEBUG",
          "lineno": 130,
          "message": "DropDuplicates_1: triggering block run",
          "name": "engine.logs:DropDuplicates_1",
          "pathname": "/usr/local/lib/python3.7/dist-packages/razor/flow/async_executors.py",
          "process": 2249,
          "processName": "ForkProcess-1:5",
          "thread": 139707269711680,
          "threadName": "MainThread"
         },
         {
          "asctime": "2021-03-24 06:25:21,937",
          "created": 1616567121.9376576,
          "exc_info": null,
          "extra": {},
          "filename": null,
          "full_message": null,
          "funcName": null,
          "levelname": "STDOUT",
          "lineno": null,
          "message": "final dataframe\n",
          "name": "block.stdout:DropDuplicates_1",
          "pathname": null,
          "process": null,
          "processName": null,
          "thread": null,
          "threadName": null
         },
         {
          "asctime": "2021-03-24 06:25:28,561",
          "created": 1616567128.5616288,
          "exc_info": null,
          "extra": {},
          "filename": null,
          "full_message": null,
          "funcName": null,
          "levelname": "STDOUT",
          "lineno": null,
          "message": "+--------------------+--------------------+\n|               title|               label|\n+--------------------+--------------------+\n|    which he loves.”|                null|\n|         200 screens|                null|\n| and self-serious...|                null|\n| playing a mother...|                null|\n|       Donald Glover|https://www.nbclo...|\n| General James F....|                null|\n|Your favorite new...|                   1|\n| which really wor...|                null|\n| and Fifty Shades...|  MovieQuotesandMore|\n| we can give you ...|                null|\n| has led many to ...|                null|\n| they look for ba...|                null|\n| alongside Tom Ho...|                null|\n|    ['Mayer Nissim']|                null|\n|Naya Rivera made ...|          PEOPLE.com|\n| but now our life...|                null|\n| Patrick Ryan sai...|                null|\n|     on top of me.”\"|                null|\n|\"\" Larry said bef...|                null|\n|\"Former Real Hous...|     WordPress 5.6.2|\n+--------------------+--------------------+\nonly showing top 20 rows\n\n",
          "name": "block.stdout:DropDuplicates_1",
          "pathname": null,
          "process": null,
          "processName": null,
          "thread": null,
          "threadName": null
         },
         {
          "asctime": "2021-03-24 06:25:28,562",
          "created": 1616567128.5627818,
          "extra": {},
          "filename": "async_executors.py",
          "funcName": "main",
          "levelname": "DEBUG",
          "lineno": 147,
          "message": "DropDuplicates_1: block thread completed",
          "name": "engine.logs:DropDuplicates_1",
          "pathname": "/usr/local/lib/python3.7/dist-packages/razor/flow/async_executors.py",
          "process": 2249,
          "processName": "ForkProcess-1:5",
          "thread": 139707269711680,
          "threadName": "MainThread"
         },
         {
          "asctime": "2021-03-24 06:25:28,562",
          "created": 1616567128.5629232,
          "extra": {},
          "filename": "async_executors.py",
          "funcName": "main",
          "levelname": "DEBUG",
          "lineno": 149,
          "message": "DropDuplicates_1: block execution complete",
          "name": "engine.logs:DropDuplicates_1",
          "pathname": "/usr/local/lib/python3.7/dist-packages/razor/flow/async_executors.py",
          "process": 2249,
          "processName": "ForkProcess-1:5",
          "thread": 139707269711680,
          "threadName": "MainThread"
         },
         {
          "asctime": "2021-03-24 06:25:28,587",
          "created": 1616567128.5878057,
          "extra": {},
          "filename": "async_executors.py",
          "funcName": "start_input_receiver",
          "levelname": "DEBUG",
          "lineno": 173,
          "message": "DropDuplicates_1: received cmd: terminate, (), {}",
          "name": "engine.logs:DropDuplicates_1",
          "pathname": "/usr/local/lib/python3.7/dist-packages/razor/flow/async_executors.py",
          "process": 2249,
          "processName": "ForkProcess-1:5",
          "thread": 139707269711680,
          "threadName": "MainThread"
         }
        ],
        "meta": {
         "block_status": {
          "ConcatData_1": "SUCCESS",
          "ConcatData_2": "SUCCESS",
          "DropDuplicates_1": "SUCCESS",
          "NonSparkCols_1": "SUCCESS",
          "NonSparkCols_2": "SUCCESS",
          "NonSparkPath_1": "SUCCESS",
          "NonSparkPath_2": "SUCCESS",
          "ReadCsvProjectSpace_1": "SUCCESS",
          "ReadCsvProjectSpace_2": "SUCCESS",
          "RenameCol_1": "SUCCESS",
          "SelectData_1": "SUCCESS",
          "SelectData_2": "SUCCESS"
         },
         "blocks": [
          {
           "class_name": "SelectData",
           "fullname": "razor.project.blocks.sourya_spark_blocks.SelectData",
           "id": "fecc1efb-0e7c-4891-82c0-1d405975f84c",
           "inputs": [
            {
             "dataType": null,
             "default": null,
             "flow": "atomic",
             "help": null,
             "isdict": false,
             "islist": false,
             "label": "wanted_cols",
             "meta": {},
             "name": "wanted_cols",
             "series": false,
             "type": "Any",
             "type_check": true
            },
            {
             "dataType": null,
             "default": null,
             "flow": "atomic",
             "help": null,
             "isdict": false,
             "islist": false,
             "label": "inputData",
             "meta": {},
             "name": "inputData",
             "series": false,
             "type": "DataFrame",
             "type_check": true
            },
            {
             "dataType": "dict",
             "default": {},
             "flow": "atomic",
             "help": null,
             "isdict": false,
             "islist": false,
             "label": "config",
             "meta": {},
             "name": "config",
             "series": false,
             "type": "dict",
             "type_check": true
            },
            {
             "dataType": "string",
             "default": "",
             "flow": "atomic",
             "help": null,
             "isdict": false,
             "islist": false,
             "label": "source",
             "meta": {},
             "name": "source",
             "series": false,
             "type": "str",
             "type_check": true
            }
           ],
           "outputs": [
            {
             "flow": "atomic",
             "help": null,
             "label": "outputData",
             "meta": {},
             "name": "outputData",
             "series": false,
             "type": "DataFrame",
             "type_check": true
            }
           ],
           "overwritten": false,
           "published": true,
           "var_names": [
            "SelectData"
           ]
          },
          {
           "class_name": "DropDuplicates",
           "fullname": "razor.project.blocks.sourya_spark_blocks.DropDuplicates",
           "id": "65e18a60-dcf3-464d-b181-a64ebce20ef6",
           "inputs": [
            {
             "dataType": null,
             "default": null,
             "flow": "atomic",
             "help": null,
             "isdict": false,
             "islist": false,
             "label": "inputData",
             "meta": {},
             "name": "inputData",
             "series": false,
             "type": "DataFrame",
             "type_check": true
            },
            {
             "dataType": "dict",
             "default": {},
             "flow": "atomic",
             "help": null,
             "isdict": false,
             "islist": false,
             "label": "config",
             "meta": {},
             "name": "config",
             "series": false,
             "type": "dict",
             "type_check": true
            },
            {
             "dataType": "string",
             "default": "",
             "flow": "atomic",
             "help": null,
             "isdict": false,
             "islist": false,
             "label": "source",
             "meta": {},
             "name": "source",
             "series": false,
             "type": "str",
             "type_check": true
            }
           ],
           "outputs": [
            {
             "flow": "atomic",
             "help": null,
             "label": "outputData",
             "meta": {},
             "name": "outputData",
             "series": false,
             "type": "DataFrame",
             "type_check": true
            }
           ],
           "overwritten": false,
           "published": true,
           "var_names": [
            "DropDuplicates"
           ]
          },
          {
           "class_name": "RenameCol",
           "fullname": "razor.project.blocks.sourya_spark_blocks.RenameCol",
           "id": "f0ff55c1-0a34-4d30-8227-f328b979b390",
           "inputs": [
            {
             "dataType": null,
             "default": null,
             "flow": "atomic",
             "help": null,
             "isdict": false,
             "islist": false,
             "label": "inputData",
             "meta": {},
             "name": "inputData",
             "series": false,
             "type": "DataFrame",
             "type_check": true
            },
            {
             "dataType": null,
             "default": null,
             "flow": "atomic",
             "help": null,
             "isdict": false,
             "islist": false,
             "label": "col_dic",
             "meta": {},
             "name": "col_dic",
             "series": false,
             "type": "Any",
             "type_check": true
            },
            {
             "dataType": "dict",
             "default": {},
             "flow": "atomic",
             "help": null,
             "isdict": false,
             "islist": false,
             "label": "config",
             "meta": {},
             "name": "config",
             "series": false,
             "type": "dict",
             "type_check": true
            },
            {
             "dataType": "string",
             "default": "",
             "flow": "atomic",
             "help": null,
             "isdict": false,
             "islist": false,
             "label": "source",
             "meta": {},
             "name": "source",
             "series": false,
             "type": "str",
             "type_check": true
            }
           ],
           "outputs": [
            {
             "flow": "atomic",
             "help": null,
             "label": "outputData",
             "meta": {},
             "name": "outputData",
             "series": false,
             "type": "DataFrame",
             "type_check": true
            }
           ],
           "overwritten": false,
           "published": true,
           "var_names": [
            "RenameCol"
           ]
          },
          {
           "class_name": "ConcatData",
           "fullname": "razor.project.blocks.sourya_spark_blocks.ConcatData",
           "id": "4ef82733-de14-4c77-9502-77dd66314c71",
           "inputs": [
            {
             "dataType": null,
             "default": null,
             "flow": "atomic",
             "help": null,
             "isdict": false,
             "islist": false,
             "label": "inputData_1",
             "meta": {},
             "name": "inputData_1",
             "series": false,
             "type": "DataFrame",
             "type_check": true
            },
            {
             "dataType": null,
             "default": null,
             "flow": "atomic",
             "help": null,
             "isdict": false,
             "islist": false,
             "label": "inputData_2",
             "meta": {},
             "name": "inputData_2",
             "series": false,
             "type": "DataFrame",
             "type_check": true
            },
            {
             "dataType": "dict",
             "default": {},
             "flow": "atomic",
             "help": null,
             "isdict": false,
             "islist": false,
             "label": "config",
             "meta": {},
             "name": "config",
             "series": false,
             "type": "dict",
             "type_check": true
            },
            {
             "dataType": "string",
             "default": "",
             "flow": "atomic",
             "help": null,
             "isdict": false,
             "islist": false,
             "label": "source",
             "meta": {},
             "name": "source",
             "series": false,
             "type": "str",
             "type_check": true
            }
           ],
           "outputs": [
            {
             "flow": "atomic",
             "help": null,
             "label": "outputData",
             "meta": {},
             "name": "outputData",
             "series": false,
             "type": "DataFrame",
             "type_check": true
            }
           ],
           "overwritten": false,
           "published": true,
           "var_names": [
            "ConcatData"
           ]
          },
          {
           "class_name": "NonSparkCols",
           "fullname": "razor.project.blocks.sourya_spark_blocks.NonSparkCols",
           "id": "688a45a2-90b8-41a3-8db2-0de61dbe0381",
           "inputs": [
            {
             "dataType": null,
             "default": null,
             "flow": "atomic",
             "help": null,
             "isdict": false,
             "islist": false,
             "label": "cols_list",
             "meta": {},
             "name": "cols_list",
             "series": false,
             "type": "Any",
             "type_check": true
            }
           ],
           "outputs": [
            {
             "flow": "atomic",
             "help": null,
             "label": "selected_cols",
             "meta": {},
             "name": "selected_cols",
             "series": false,
             "type": "Any",
             "type_check": true
            }
           ],
           "overwritten": false,
           "published": true,
           "var_names": [
            "NonSparkCols"
           ]
          },
          {
           "class_name": "ReadCsvProjectSpace",
           "fullname": "razor.project.blocks.sourya_spark_blocks.ReadCsvProjectSpace",
           "id": "d5df9b1c-0c2f-4fde-bf45-65262d3b30f9",
           "inputs": [
            {
             "dataType": "string",
             "default": "",
             "flow": "atomic",
             "help": null,
             "isdict": false,
             "islist": false,
             "label": "filename",
             "meta": {},
             "name": "filename",
             "series": false,
             "type": "str",
             "type_check": true
            },
            {
             "dataType": "dict",
             "default": {},
             "flow": "atomic",
             "help": null,
             "isdict": false,
             "islist": false,
             "label": "config",
             "meta": {},
             "name": "config",
             "series": false,
             "type": "dict",
             "type_check": true
            },
            {
             "dataType": "string",
             "default": "",
             "flow": "atomic",
             "help": null,
             "isdict": false,
             "islist": false,
             "label": "source",
             "meta": {},
             "name": "source",
             "series": false,
             "type": "str",
             "type_check": true
            }
           ],
           "outputs": [
            {
             "flow": "atomic",
             "help": null,
             "label": "data",
             "meta": {},
             "name": "data",
             "series": false,
             "type": "DataFrame",
             "type_check": true
            }
           ],
           "overwritten": false,
           "published": true,
           "var_names": [
            "ReadCsvProjectSpace"
           ]
          },
          {
           "class_name": "NonSparkPath",
           "fullname": "razor.project.blocks.sourya_spark_blocks.NonSparkPath",
           "id": "f6e5010d-66b1-4a20-9017-4473eba41ed2",
           "inputs": [
            {
             "dataType": "string",
             "default": "",
             "flow": "atomic",
             "help": null,
             "isdict": false,
             "islist": false,
             "label": "ip_path",
             "meta": {},
             "name": "ip_path",
             "series": false,
             "type": "str",
             "type_check": true
            }
           ],
           "outputs": [
            {
             "flow": "atomic",
             "help": null,
             "label": "op_path",
             "meta": {},
             "name": "op_path",
             "series": false,
             "type": "str",
             "type_check": true
            }
           ],
           "overwritten": false,
           "published": true,
           "var_names": [
            "NonSparkPath"
           ]
          }
         ],
         "connections": [
          {
           "id": "12f90523-5b60-49fc-9983-d4bb1e48a735",
           "source": {
            "adapter": false,
            "instance_id": "8490b047-2121-4b90-94a9-66dc9624560d",
            "name": "outputData"
           },
           "target": {
            "adapter": false,
            "instance_id": "0a1fee44-ce01-47d6-8507-63f0061039e3",
            "name": "inputData"
           }
          },
          {
           "id": "c3272711-d705-413d-b532-ea3d235622dd",
           "source": {
            "adapter": false,
            "instance_id": "775bc1bb-dcf1-4166-8dd4-fcae81c83c9a",
            "name": "outputData"
           },
           "target": {
            "adapter": false,
            "instance_id": "03777fb6-eb24-4820-8fde-0c573c34f67d",
            "name": "inputData_1"
           }
          },
          {
           "id": "f14ae8a3-0aed-41a8-9866-5cf5ba5d1b60",
           "source": {
            "adapter": false,
            "instance_id": "d84e7889-5e80-428a-ae25-5636d8a1bdaf",
            "name": "op_path"
           },
           "target": {
            "adapter": false,
            "instance_id": "90d16ed2-acd4-4122-80eb-ea0639ef2a48",
            "name": "filename"
           }
          },
          {
           "id": "1718b63d-7d59-461e-9104-e0b6fef576e6",
           "source": {
            "adapter": false,
            "instance_id": "74dd6ac4-f92a-4918-9898-6c400d430cbb",
            "name": "selected_cols"
           },
           "target": {
            "adapter": false,
            "instance_id": "775bc1bb-dcf1-4166-8dd4-fcae81c83c9a",
            "name": "wanted_cols"
           }
          },
          {
           "id": "89d8b326-19b1-479d-97cc-abe72fd9b28e",
           "source": {
            "adapter": false,
            "instance_id": "98545f64-97dc-48fc-bc97-17edbbc65acc",
            "name": "selected_cols"
           },
           "target": {
            "adapter": false,
            "instance_id": "8490b047-2121-4b90-94a9-66dc9624560d",
            "name": "wanted_cols"
           }
          },
          {
           "id": "9bd8f99d-87b0-410a-8619-35ad14c90d62",
           "source": {
            "adapter": false,
            "instance_id": "90d16ed2-acd4-4122-80eb-ea0639ef2a48",
            "name": "data"
           },
           "target": {
            "adapter": false,
            "instance_id": "775bc1bb-dcf1-4166-8dd4-fcae81c83c9a",
            "name": "inputData"
           }
          },
          {
           "id": "1a81ba4f-7c96-4405-b35e-133220e7b9a7",
           "source": {
            "adapter": false,
            "instance_id": "0a1fee44-ce01-47d6-8507-63f0061039e3",
            "name": "outputData"
           },
           "target": {
            "adapter": false,
            "instance_id": "03777fb6-eb24-4820-8fde-0c573c34f67d",
            "name": "inputData_2"
           }
          },
          {
           "id": "650a0d02-2183-4799-8dbd-803d22be0b3d",
           "source": {
            "adapter": false,
            "instance_id": "03777fb6-eb24-4820-8fde-0c573c34f67d",
            "name": "outputData"
           },
           "target": {
            "adapter": false,
            "instance_id": "35ef9849-1bf9-42fa-b344-4a2c5d14154b",
            "name": "inputData_1"
           }
          },
          {
           "id": "7c5cb749-5447-418e-ac6d-23b59c78ca3f",
           "source": {
            "adapter": false,
            "instance_id": "91ca71fe-eae5-4446-b4f4-52378b6be6bf",
            "name": "op_path"
           },
           "target": {
            "adapter": false,
            "instance_id": "bd0ba4f5-cce9-40eb-a9fd-154c5773f609",
            "name": "filename"
           }
          },
          {
           "id": "78160952-cc4b-41b7-808e-fe993324b0ef",
           "source": {
            "adapter": false,
            "instance_id": "35ef9849-1bf9-42fa-b344-4a2c5d14154b",
            "name": "outputData"
           },
           "target": {
            "adapter": false,
            "instance_id": "24bd4a2f-826a-4799-9f4b-225e64d63909",
            "name": "inputData"
           }
          },
          {
           "id": "8666c200-b9d4-4c10-8138-6b4de6bbad0d",
           "source": {
            "adapter": false,
            "instance_id": "775bc1bb-dcf1-4166-8dd4-fcae81c83c9a",
            "name": "outputData"
           },
           "target": {
            "adapter": false,
            "instance_id": "35ef9849-1bf9-42fa-b344-4a2c5d14154b",
            "name": "inputData_2"
           }
          },
          {
           "id": "7a90b5a9-4ffd-4bbc-9188-2e1c1a3ac5fa",
           "source": {
            "adapter": false,
            "instance_id": "bd0ba4f5-cce9-40eb-a9fd-154c5773f609",
            "name": "data"
           },
           "target": {
            "adapter": false,
            "instance_id": "8490b047-2121-4b90-94a9-66dc9624560d",
            "name": "inputData"
           }
          }
         ],
         "end": 1616567128.5922613,
         "id": "2533c382-7c96-4be2-87af-58d1e095baf3",
         "instances": [
          {
           "block_class": "65e18a60-dcf3-464d-b181-a64ebce20ef6",
           "id": "24bd4a2f-826a-4799-9f4b-225e64d63909",
           "name": "DropDuplicates_1",
           "var_names": [
            "dd"
           ]
          },
          {
           "block_class": "4ef82733-de14-4c77-9502-77dd66314c71",
           "id": "35ef9849-1bf9-42fa-b344-4a2c5d14154b",
           "name": "ConcatData_2",
           "var_names": [
            "cd1"
           ]
          },
          {
           "block_class": "4ef82733-de14-4c77-9502-77dd66314c71",
           "id": "03777fb6-eb24-4820-8fde-0c573c34f67d",
           "name": "ConcatData_1",
           "var_names": [
            "cd"
           ]
          },
          {
           "block_class": "fecc1efb-0e7c-4891-82c0-1d405975f84c",
           "id": "775bc1bb-dcf1-4166-8dd4-fcae81c83c9a",
           "name": "SelectData_1",
           "var_names": [
            "sd"
           ]
          },
          {
           "block_class": "688a45a2-90b8-41a3-8db2-0de61dbe0381",
           "id": "74dd6ac4-f92a-4918-9898-6c400d430cbb",
           "name": "NonSparkCols_1",
           "var_names": [
            "nsc"
           ]
          },
          {
           "block_class": "d5df9b1c-0c2f-4fde-bf45-65262d3b30f9",
           "id": "90d16ed2-acd4-4122-80eb-ea0639ef2a48",
           "name": "ReadCsvProjectSpace_1",
           "var_names": [
            "rcp"
           ]
          },
          {
           "block_class": "f6e5010d-66b1-4a20-9017-4473eba41ed2",
           "id": "d84e7889-5e80-428a-ae25-5636d8a1bdaf",
           "name": "NonSparkPath_1",
           "var_names": [
            "nsp"
           ]
          },
          {
           "block_class": "f0ff55c1-0a34-4d30-8227-f328b979b390",
           "id": "0a1fee44-ce01-47d6-8507-63f0061039e3",
           "name": "RenameCol_1",
           "var_names": [
            "rc"
           ]
          },
          {
           "block_class": "fecc1efb-0e7c-4891-82c0-1d405975f84c",
           "id": "8490b047-2121-4b90-94a9-66dc9624560d",
           "name": "SelectData_2",
           "var_names": [
            "sd1"
           ]
          },
          {
           "block_class": "688a45a2-90b8-41a3-8db2-0de61dbe0381",
           "id": "98545f64-97dc-48fc-bc97-17edbbc65acc",
           "name": "NonSparkCols_2",
           "var_names": [
            "nsc1"
           ]
          },
          {
           "block_class": "d5df9b1c-0c2f-4fde-bf45-65262d3b30f9",
           "id": "bd0ba4f5-cce9-40eb-a9fd-154c5773f609",
           "name": "ReadCsvProjectSpace_2",
           "var_names": [
            "rcp1"
           ]
          },
          {
           "block_class": "f6e5010d-66b1-4a20-9017-4473eba41ed2",
           "id": "91ca71fe-eae5-4446-b4f4-52378b6be6bf",
           "name": "NonSparkPath_2",
           "var_names": [
            "nsp1"
           ]
          }
         ],
         "log_level": 20,
         "name": "pipeline_sd_4",
         "start": 1616567106.995372,
         "status": "SUCCESS",
         "system_logs": false,
         "var_names": []
        },
        "metrics": {},
        "runtime": {
         "ConcatData_1": {
          "end": 1616567121.0845916,
          "load": 1616567107.5477097,
          "start": 1616567107.5658195
         },
         "ConcatData_2": {
          "end": 1616567121.9311519,
          "load": 1616567107.5477097,
          "start": 1616567107.5658195
         },
         "DropDuplicates_1": {
          "end": 1616567128.567494,
          "load": 1616567107.5477097,
          "start": 1616567107.5658195
         },
         "NonSparkCols_1": {
          "end": 1616567107.7581239,
          "load": 1616567106.9992108,
          "start": 1616567107.005346
         },
         "NonSparkCols_2": {
          "end": 1616567107.749371,
          "load": 1616567107.0172389,
          "start": 1616567107.023649
         },
         "NonSparkPath_1": {
          "end": 1616567107.7439609,
          "load": 1616567107.0082824,
          "start": 1616567107.0143313
         },
         "NonSparkPath_2": {
          "end": 1616567107.7472882,
          "load": 1616567107.0265615,
          "start": 1616567107.0329545
         },
         "ReadCsvProjectSpace_1": {
          "end": 1616567119.4306347,
          "load": 1616567107.5477097,
          "start": 1616567107.5658195
         },
         "ReadCsvProjectSpace_2": {
          "end": 1616567119.436614,
          "load": 1616567107.5477097,
          "start": 1616567107.5658195
         },
         "RenameCol_1": {
          "end": 1616567120.3358715,
          "load": 1616567107.5477097,
          "start": 1616567107.5658195
         },
         "SelectData_1": {
          "end": 1616567120.2870116,
          "load": 1616567107.5477097,
          "start": 1616567107.5658195
         },
         "SelectData_2": {
          "end": 1616567120.190618,
          "load": 1616567107.5477097,
          "start": 1616567107.5658195
         }
        }
       },
       "store_in_notebook": true
      }
     },
     "output_type": "display_data"
    },
    {
     "name": "stdout",
     "output_type": "stream",
     "text": [
      "root\n",
      " |-- Unnamed: 0: string (nullable = true)\n",
      " |-- count: string (nullable = true)\n",
      " |-- hate_speech: string (nullable = true)\n",
      " |-- offensive_language: string (nullable = true)\n",
      " |-- neither: string (nullable = true)\n",
      " |-- class: string (nullable = true)\n",
      " |-- tweet: string (nullable = true)\n",
      "\n"
     ]
    },
    {
     "data": {
      "text/plain": [
       "{}"
      ]
     },
     "execution_count": 10,
     "metadata": {},
     "output_type": "execute_result"
    }
   ],
   "source": [
    "pipe.execute()"
   ]
  },
  {
   "cell_type": "code",
   "execution_count": null,
   "id": "fitting-olympus",
   "metadata": {},
   "outputs": [],
   "source": []
  },
  {
   "cell_type": "code",
   "execution_count": null,
   "id": "cooked-acoustic",
   "metadata": {},
   "outputs": [],
   "source": []
  }
 ],
 "metadata": {
  "kernelspec": {
   "display_name": "Python 3",
   "language": "python",
   "name": "python3"
  },
  "language_info": {
   "codemirror_mode": {
    "name": "ipython",
    "version": 3
   },
   "file_extension": ".py",
   "mimetype": "text/x-python",
   "name": "python",
   "nbconvert_exporter": "python",
   "pygments_lexer": "ipython3",
   "version": "3.7.10"
  }
 },
 "nbformat": 4,
 "nbformat_minor": 5
}
