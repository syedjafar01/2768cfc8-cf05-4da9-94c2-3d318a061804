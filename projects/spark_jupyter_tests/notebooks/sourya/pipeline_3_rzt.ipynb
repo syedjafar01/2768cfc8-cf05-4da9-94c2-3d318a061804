{
 "cells": [
  {
   "cell_type": "code",
   "execution_count": 1,
   "id": "independent-found",
   "metadata": {},
   "outputs": [],
   "source": [
    "import razor\n",
    "import razor.flow as rf\n",
    "from razor import api\n",
    "from razor.flow.spark import SparkBlock, SparkExecutor\n",
    "import typing as t"
   ]
  },
  {
   "cell_type": "code",
   "execution_count": 2,
   "id": "legitimate-croatia",
   "metadata": {},
   "outputs": [],
   "source": [
    "import os\n",
    "from datetime import datetime, timedelta\n",
    "from pyspark.sql import SparkSession, functions\n",
    "from pyspark.sql.dataframe import DataFrame\n",
    "from datetime import datetime, timedelta\n",
    "from dateutil.relativedelta import relativedelta"
   ]
  },
  {
   "cell_type": "code",
   "execution_count": 3,
   "id": "chinese-logan",
   "metadata": {},
   "outputs": [],
   "source": [
    "\n",
    "from razor.project.blocks.sourya_spark_blocks import NonSparkCols\n",
    "from razor.project.blocks.sourya_spark_blocks import ReadCsvProjectSpace\n",
    "from razor.project.blocks.sourya_spark_blocks import NonSparkPath\n",
    "from razor.project.blocks.sourya_spark_blocks import DropDuplicates\n",
    "from razor.project.blocks.sourya_spark_blocks import RenameCol\n",
    "from razor.project.blocks.sourya_spark_blocks import ConcatData\n",
    "from razor.project.blocks.sourya_spark_blocks import SelectDataDescribe\n",
    "from razor.project.blocks.sourya_spark_blocks import SelectData\n",
    "from razor.project.blocks.sourya_spark_blocks import ReadCsvProjectSpaceETA"
   ]
  },
  {
   "cell_type": "code",
   "execution_count": 4,
   "id": "efficient-laugh",
   "metadata": {},
   "outputs": [],
   "source": [
    "def project_space_path(path):\n",
    "    ps = api.datasources('Project Space')\n",
    "    return os.path.join(ps.abspath(), path)\n"
   ]
  },
  {
   "cell_type": "code",
   "execution_count": 5,
   "id": "median-fantasy",
   "metadata": {},
   "outputs": [],
   "source": [
    "# @rf.block\n",
    "# class NonSparkPath:\n",
    "#     # Atomic input - csv filename relative to project space\n",
    "#     ip_path: str\n",
    "#     selected_cols: rf.Output[t.Any]\n",
    "#     # Atomic output of type spark DataFrame.\n",
    "#     op_path: rf.Output[str]\n",
    "#     def run(self):\n",
    "#         self.op_path.put(project_space_path(self.ip_path))\n",
    "        \n",
    "# @rf.block\n",
    "# class NonSparkCols:\n",
    "#     cols_list: t.Any\n",
    "#     # Atomic input - csv filename relative to project space\n",
    "#     selected_cols: rf.Output[t.Any]\n",
    "#     # Atomic output of type spark DataFrame.\n",
    "#     def run(self):\n",
    "#         self.selected_cols.put(self.cols_list)\n",
    "        \n",
    "        "
   ]
  },
  {
   "cell_type": "code",
   "execution_count": 6,
   "id": "worthy-thumbnail",
   "metadata": {},
   "outputs": [],
   "source": [
    "# @rf.block\n",
    "# class ReadCsvProjectSpace(SparkBlock):\n",
    "#     filename:str\n",
    "#     data: rf.Output[DataFrame]\n",
    "#     def run(self):\n",
    "#         df = self.spark.read.csv(self.filename, header = True)\n",
    "#         print(\"Data Schema\")\n",
    "#         df.printSchema()\n",
    "#         self.data.put(df)\n",
    "        \n",
    "\n",
    "# @rf.block\n",
    "# class SelectData(SparkBlock):\n",
    "#     wanted_cols: t.Any\n",
    "#     inputData: DataFrame\n",
    "#     outputData: rf.Output[DataFrame]\n",
    "#     def run(self):\n",
    "#         df = self.inputData\n",
    "#         df_selected = df.select(self.wanted_cols)\n",
    "#         df_selected.show()\n",
    "#         self.outputData.put(df_selected)\n",
    "        \n",
    "        \n",
    "        \n",
    "# @rf.block\n",
    "# class ConcatData(SparkBlock):\n",
    "#     inputData_1: DataFrame\n",
    "#     inputData_2: DataFrame\n",
    "#     outputData: rf.Output[DataFrame]\n",
    "#     def run(self):\n",
    "#         df_concat = self.inputData_1.union(self.inputData_1)\n",
    "#         print(\"Concat Data\")\n",
    "#         df_concat.show()\n",
    "#         self.outputData.put(df_concat)\n",
    "        \n",
    "\n",
    "# @rf.block\n",
    "# class RenameCol(SparkBlock):\n",
    "#     inputData: DataFrame\n",
    "#     col_dic: t.Any\n",
    "#     outputData: rf.Output[DataFrame]\n",
    "#     def run(self):\n",
    "#         df_rename = self.inputData.withColumnRenamed(list(self.col_dic.keys())[0], self.col_dic[list(self.col_dic.keys())[0]])\n",
    "#         df_rename = df_rename.withColumnRenamed(list(self.col_dic.keys())[1], self.col_dic[list(self.col_dic.keys())[1]])\n",
    "#         self.outputData.put(df_rename)\n",
    "        \n",
    "        \n",
    "        \n"
   ]
  },
  {
   "cell_type": "code",
   "execution_count": 7,
   "id": "ambient-sperm",
   "metadata": {},
   "outputs": [],
   "source": [
    "nsp = NonSparkPath(ip_path='df_with_stats.csv')\n",
    "nsp1 = NonSparkPath(ip_path='train_hatespeech.csv')\n",
    "\n",
    "nsc = NonSparkCols(cols_list = ['title','label'])\n",
    "nsc1 = NonSparkCols(cols_list = ['tweet','class'])\n",
    "\n",
    "rcp = ReadCsvProjectSpace(filename = nsp.op_path, config={}, source=\"\")\n",
    "rcp1 = ReadCsvProjectSpace(filename = nsp1.op_path, config={}, source=\"\")\n",
    "\n",
    "sd = SelectData(wanted_cols=nsc.selected_cols, inputData=rcp.data, config={}, source=\"\")\n",
    "sd1 = SelectData(wanted_cols=nsc1.selected_cols, inputData=rcp1.data, config={}, source=\"\")\n",
    "rc = RenameCol(inputData=sd1.outputData,col_dic={'tweet': 'title', 'class': 'label'})\n",
    "cd = ConcatData(inputData_1=sd.outputData,inputData_2=rc.outputData)\n",
    "\n",
    "# rcp.executor = rf.ProcessExecutor\n",
    "# sd.executor = rf.ProcessExecutor\n",
    "# rcp1.executor = rf.ProcessExecutor\n",
    "# sd1.executor = rf.ProcessExecutor\n",
    "# rc.executor = rf.ProcessExecutor\n",
    "# cd.executor = rf.ProcessExecutor"
   ]
  },
  {
   "cell_type": "code",
   "execution_count": 8,
   "id": "traditional-context",
   "metadata": {},
   "outputs": [],
   "source": [
    "pipe = rf.Pipeline('pipeline_sd_3', targets = [cd])"
   ]
  },
  {
   "cell_type": "code",
   "execution_count": 9,
   "id": "quantitative-march",
   "metadata": {},
   "outputs": [
    {
     "data": {
      "application/vnd.razorthink.interactive+pipeline+view+json": {
       "blocks": [
        {
         "class_name": "NonSparkCols",
         "fullname": "razor.project.blocks.sourya_spark_blocks.NonSparkCols",
         "id": "61808c8a-f520-46bd-b746-89d5c27bd148",
         "inputs": [
          {
           "dataType": null,
           "default": null,
           "flow": "atomic",
           "help": null,
           "isdict": false,
           "islist": false,
           "label": "cols_list",
           "meta": {},
           "name": "cols_list",
           "series": false,
           "type": "Any",
           "type_check": true
          }
         ],
         "outputs": [
          {
           "flow": "atomic",
           "help": null,
           "label": "selected_cols",
           "meta": {},
           "name": "selected_cols",
           "series": false,
           "type": "Any",
           "type_check": true
          }
         ],
         "overwritten": false,
         "published": true,
         "var_names": [
          "NonSparkCols"
         ]
        },
        {
         "class_name": "ReadCsvProjectSpace",
         "fullname": "razor.project.blocks.sourya_spark_blocks.ReadCsvProjectSpace",
         "id": "45afce5e-5e99-4832-83f1-5b13004aed90",
         "inputs": [
          {
           "dataType": "string",
           "default": "",
           "flow": "atomic",
           "help": null,
           "isdict": false,
           "islist": false,
           "label": "filename",
           "meta": {},
           "name": "filename",
           "series": false,
           "type": "str",
           "type_check": true
          },
          {
           "dataType": "dict",
           "default": {},
           "flow": "atomic",
           "help": null,
           "isdict": false,
           "islist": false,
           "label": "config",
           "meta": {},
           "name": "config",
           "series": false,
           "type": "dict",
           "type_check": true
          },
          {
           "dataType": "string",
           "default": "",
           "flow": "atomic",
           "help": null,
           "isdict": false,
           "islist": false,
           "label": "source",
           "meta": {},
           "name": "source",
           "series": false,
           "type": "str",
           "type_check": true
          }
         ],
         "outputs": [
          {
           "flow": "atomic",
           "help": null,
           "label": "data",
           "meta": {},
           "name": "data",
           "series": false,
           "type": "DataFrame",
           "type_check": true
          }
         ],
         "overwritten": false,
         "published": true,
         "var_names": [
          "ReadCsvProjectSpace"
         ]
        },
        {
         "class_name": "NonSparkPath",
         "fullname": "razor.project.blocks.sourya_spark_blocks.NonSparkPath",
         "id": "c72a4c29-1756-44db-b1a1-9e31bc9d6662",
         "inputs": [
          {
           "dataType": "string",
           "default": "",
           "flow": "atomic",
           "help": null,
           "isdict": false,
           "islist": false,
           "label": "ip_path",
           "meta": {},
           "name": "ip_path",
           "series": false,
           "type": "str",
           "type_check": true
          }
         ],
         "outputs": [
          {
           "flow": "atomic",
           "help": null,
           "label": "op_path",
           "meta": {},
           "name": "op_path",
           "series": false,
           "type": "str",
           "type_check": true
          }
         ],
         "overwritten": false,
         "published": true,
         "var_names": [
          "NonSparkPath"
         ]
        },
        {
         "class_name": "SelectData",
         "fullname": "razor.project.blocks.sourya_spark_blocks.SelectData",
         "id": "f102dd1e-2160-446d-966f-8400ac21df94",
         "inputs": [
          {
           "dataType": null,
           "default": null,
           "flow": "atomic",
           "help": null,
           "isdict": false,
           "islist": false,
           "label": "wanted_cols",
           "meta": {},
           "name": "wanted_cols",
           "series": false,
           "type": "Any",
           "type_check": true
          },
          {
           "dataType": null,
           "default": null,
           "flow": "atomic",
           "help": null,
           "isdict": false,
           "islist": false,
           "label": "inputData",
           "meta": {},
           "name": "inputData",
           "series": false,
           "type": "DataFrame",
           "type_check": true
          },
          {
           "dataType": "dict",
           "default": {},
           "flow": "atomic",
           "help": null,
           "isdict": false,
           "islist": false,
           "label": "config",
           "meta": {},
           "name": "config",
           "series": false,
           "type": "dict",
           "type_check": true
          },
          {
           "dataType": "string",
           "default": "",
           "flow": "atomic",
           "help": null,
           "isdict": false,
           "islist": false,
           "label": "source",
           "meta": {},
           "name": "source",
           "series": false,
           "type": "str",
           "type_check": true
          }
         ],
         "outputs": [
          {
           "flow": "atomic",
           "help": null,
           "label": "outputData",
           "meta": {},
           "name": "outputData",
           "series": false,
           "type": "DataFrame",
           "type_check": true
          }
         ],
         "overwritten": false,
         "published": true,
         "var_names": [
          "SelectData"
         ]
        },
        {
         "class_name": "ConcatData",
         "fullname": "razor.project.blocks.sourya_spark_blocks.ConcatData",
         "id": "cfd6634a-f66c-4776-b2bd-08937b73d360",
         "inputs": [
          {
           "dataType": null,
           "default": null,
           "flow": "atomic",
           "help": null,
           "isdict": false,
           "islist": false,
           "label": "inputData_1",
           "meta": {},
           "name": "inputData_1",
           "series": false,
           "type": "DataFrame",
           "type_check": true
          },
          {
           "dataType": null,
           "default": null,
           "flow": "atomic",
           "help": null,
           "isdict": false,
           "islist": false,
           "label": "inputData_2",
           "meta": {},
           "name": "inputData_2",
           "series": false,
           "type": "DataFrame",
           "type_check": true
          },
          {
           "dataType": "dict",
           "default": {},
           "flow": "atomic",
           "help": null,
           "isdict": false,
           "islist": false,
           "label": "config",
           "meta": {},
           "name": "config",
           "series": false,
           "type": "dict",
           "type_check": true
          },
          {
           "dataType": "string",
           "default": "",
           "flow": "atomic",
           "help": null,
           "isdict": false,
           "islist": false,
           "label": "source",
           "meta": {},
           "name": "source",
           "series": false,
           "type": "str",
           "type_check": true
          }
         ],
         "outputs": [
          {
           "flow": "atomic",
           "help": null,
           "label": "outputData",
           "meta": {},
           "name": "outputData",
           "series": false,
           "type": "DataFrame",
           "type_check": true
          }
         ],
         "overwritten": false,
         "published": true,
         "var_names": [
          "ConcatData"
         ]
        },
        {
         "class_name": "RenameCol",
         "fullname": "razor.project.blocks.sourya_spark_blocks.RenameCol",
         "id": "d480dec6-5842-4e3c-909c-403249d8c19a",
         "inputs": [
          {
           "dataType": null,
           "default": null,
           "flow": "atomic",
           "help": null,
           "isdict": false,
           "islist": false,
           "label": "inputData",
           "meta": {},
           "name": "inputData",
           "series": false,
           "type": "DataFrame",
           "type_check": true
          },
          {
           "dataType": null,
           "default": null,
           "flow": "atomic",
           "help": null,
           "isdict": false,
           "islist": false,
           "label": "col_dic",
           "meta": {},
           "name": "col_dic",
           "series": false,
           "type": "Any",
           "type_check": true
          },
          {
           "dataType": "dict",
           "default": {},
           "flow": "atomic",
           "help": null,
           "isdict": false,
           "islist": false,
           "label": "config",
           "meta": {},
           "name": "config",
           "series": false,
           "type": "dict",
           "type_check": true
          },
          {
           "dataType": "string",
           "default": "",
           "flow": "atomic",
           "help": null,
           "isdict": false,
           "islist": false,
           "label": "source",
           "meta": {},
           "name": "source",
           "series": false,
           "type": "str",
           "type_check": true
          }
         ],
         "outputs": [
          {
           "flow": "atomic",
           "help": null,
           "label": "outputData",
           "meta": {},
           "name": "outputData",
           "series": false,
           "type": "DataFrame",
           "type_check": true
          }
         ],
         "overwritten": false,
         "published": true,
         "var_names": [
          "RenameCol"
         ]
        }
       ],
       "connections": [
        {
         "id": "bef51c84-2936-48af-bf2f-c23f24b69e87",
         "source": {
          "adapter": false,
          "instance_id": "e145a233-c25b-43db-9399-c9d325198276",
          "name": "selected_cols"
         },
         "target": {
          "adapter": false,
          "instance_id": "5bbe4d69-7192-4bbc-88f5-ace2f89923e8",
          "name": "wanted_cols"
         }
        },
        {
         "id": "2594a8a5-7184-40e7-8a70-eec4d376c5ba",
         "source": {
          "adapter": false,
          "instance_id": "3cf7a92f-4235-4c1b-aa70-245e343399d7",
          "name": "outputData"
         },
         "target": {
          "adapter": false,
          "instance_id": "001e249f-eef0-41ee-a99d-a9a3f2e45b2d",
          "name": "inputData"
         }
        },
        {
         "id": "72002964-9e52-489a-b6bb-15e189892d94",
         "source": {
          "adapter": false,
          "instance_id": "110171e9-3d5b-4a1e-a439-1f14884a53c4",
          "name": "data"
         },
         "target": {
          "adapter": false,
          "instance_id": "3cf7a92f-4235-4c1b-aa70-245e343399d7",
          "name": "inputData"
         }
        },
        {
         "id": "0997a6c1-40bf-47b6-8d2d-bc8f3f057ee4",
         "source": {
          "adapter": false,
          "instance_id": "93120b7b-105a-4fff-b3a5-60bfc2e9ba23",
          "name": "selected_cols"
         },
         "target": {
          "adapter": false,
          "instance_id": "3cf7a92f-4235-4c1b-aa70-245e343399d7",
          "name": "wanted_cols"
         }
        },
        {
         "id": "3d28a67b-9360-467f-86f4-448643a59ff1",
         "source": {
          "adapter": false,
          "instance_id": "eb131118-fa4f-43c7-b243-5728d494a6be",
          "name": "op_path"
         },
         "target": {
          "adapter": false,
          "instance_id": "e8aac861-cc8c-456a-9254-eb47d66d38a3",
          "name": "filename"
         }
        },
        {
         "id": "c936618e-7e05-44b7-af1c-5e5d8fdc5263",
         "source": {
          "adapter": false,
          "instance_id": "e8aac861-cc8c-456a-9254-eb47d66d38a3",
          "name": "data"
         },
         "target": {
          "adapter": false,
          "instance_id": "5bbe4d69-7192-4bbc-88f5-ace2f89923e8",
          "name": "inputData"
         }
        },
        {
         "id": "c7d86c40-070e-4a09-8d36-163c42b37c27",
         "source": {
          "adapter": false,
          "instance_id": "239dffc9-4b8b-40ec-a21c-7850c702673b",
          "name": "op_path"
         },
         "target": {
          "adapter": false,
          "instance_id": "110171e9-3d5b-4a1e-a439-1f14884a53c4",
          "name": "filename"
         }
        },
        {
         "id": "8910a85f-940f-4a5e-93a0-60152f4025ca",
         "source": {
          "adapter": false,
          "instance_id": "5bbe4d69-7192-4bbc-88f5-ace2f89923e8",
          "name": "outputData"
         },
         "target": {
          "adapter": false,
          "instance_id": "95511ccc-4fb9-4166-86c3-1aec9b8fbfcd",
          "name": "inputData_1"
         }
        },
        {
         "id": "979a54cd-3b9c-41e2-9e05-47ffcc6ac18a",
         "source": {
          "adapter": false,
          "instance_id": "001e249f-eef0-41ee-a99d-a9a3f2e45b2d",
          "name": "outputData"
         },
         "target": {
          "adapter": false,
          "instance_id": "95511ccc-4fb9-4166-86c3-1aec9b8fbfcd",
          "name": "inputData_2"
         }
        }
       ],
       "id": "d9223999-e91a-4fde-91c7-ce3f15c3ee42",
       "instances": [
        {
         "block_class": "cfd6634a-f66c-4776-b2bd-08937b73d360",
         "id": "95511ccc-4fb9-4166-86c3-1aec9b8fbfcd",
         "name": "ConcatData_1",
         "var_names": [
          "cd"
         ]
        },
        {
         "block_class": "f102dd1e-2160-446d-966f-8400ac21df94",
         "id": "5bbe4d69-7192-4bbc-88f5-ace2f89923e8",
         "name": "SelectData_1",
         "var_names": [
          "sd"
         ]
        },
        {
         "block_class": "61808c8a-f520-46bd-b746-89d5c27bd148",
         "id": "e145a233-c25b-43db-9399-c9d325198276",
         "name": "NonSparkCols_1",
         "var_names": [
          "nsc"
         ]
        },
        {
         "block_class": "45afce5e-5e99-4832-83f1-5b13004aed90",
         "id": "e8aac861-cc8c-456a-9254-eb47d66d38a3",
         "name": "ReadCsvProjectSpace_1",
         "var_names": [
          "rcp"
         ]
        },
        {
         "block_class": "c72a4c29-1756-44db-b1a1-9e31bc9d6662",
         "id": "eb131118-fa4f-43c7-b243-5728d494a6be",
         "name": "NonSparkPath_1",
         "var_names": [
          "nsp"
         ]
        },
        {
         "block_class": "d480dec6-5842-4e3c-909c-403249d8c19a",
         "id": "001e249f-eef0-41ee-a99d-a9a3f2e45b2d",
         "name": "RenameCol_1",
         "var_names": [
          "rc"
         ]
        },
        {
         "block_class": "f102dd1e-2160-446d-966f-8400ac21df94",
         "id": "3cf7a92f-4235-4c1b-aa70-245e343399d7",
         "name": "SelectData_2",
         "var_names": [
          "sd1"
         ]
        },
        {
         "block_class": "61808c8a-f520-46bd-b746-89d5c27bd148",
         "id": "93120b7b-105a-4fff-b3a5-60bfc2e9ba23",
         "name": "NonSparkCols_2",
         "var_names": [
          "nsc1"
         ]
        },
        {
         "block_class": "45afce5e-5e99-4832-83f1-5b13004aed90",
         "id": "110171e9-3d5b-4a1e-a439-1f14884a53c4",
         "name": "ReadCsvProjectSpace_2",
         "var_names": [
          "rcp1"
         ]
        },
        {
         "block_class": "c72a4c29-1756-44db-b1a1-9e31bc9d6662",
         "id": "239dffc9-4b8b-40ec-a21c-7850c702673b",
         "name": "NonSparkPath_2",
         "var_names": [
          "nsp1"
         ]
        }
       ],
       "name": "pipeline_sd_3",
       "var_names": []
      },
      "image/svg+xml": [
       "<?xml version=\"1.0\" encoding=\"UTF-8\" standalone=\"no\"?>\n",
       "<!DOCTYPE svg PUBLIC \"-//W3C//DTD SVG 1.1//EN\"\n",
       " \"http://www.w3.org/Graphics/SVG/1.1/DTD/svg11.dtd\">\n",
       "<!-- Generated by graphviz version 2.43.0 (0)\n",
       " -->\n",
       "<!-- Title: %3 Pages: 1 -->\n",
       "<svg width=\"1047pt\" height=\"376pt\"\n",
       " viewBox=\"0.00 0.00 1046.71 376.00\" xmlns=\"http://www.w3.org/2000/svg\" xmlns:xlink=\"http://www.w3.org/1999/xlink\">\n",
       "<g id=\"graph0\" class=\"graph\" transform=\"scale(1 1) rotate(0) translate(4 372)\">\n",
       "<title>%3</title>\n",
       "<polygon fill=\"white\" stroke=\"transparent\" points=\"-4,4 -4,-372 1042.71,-372 1042.71,4 -4,4\"/>\n",
       "<!-- ConcatData(&#39;ConcatData_1&#39;) -->\n",
       "<g id=\"node1\" class=\"node\">\n",
       "<title>ConcatData(&#39;ConcatData_1&#39;)</title>\n",
       "<ellipse fill=\"none\" stroke=\"black\" cx=\"474.78\" cy=\"-18\" rx=\"91.49\" ry=\"18\"/>\n",
       "<text text-anchor=\"middle\" x=\"474.78\" y=\"-15.5\" font-family=\"Helvetica,sans-Serif\" font-size=\"10.00\">ConcatData(&#39;ConcatData_1&#39;)</text>\n",
       "</g>\n",
       "<!-- SelectData(&#39;SelectData_1&#39;) -->\n",
       "<g id=\"node2\" class=\"node\">\n",
       "<title>SelectData(&#39;SelectData_1&#39;)</title>\n",
       "<ellipse fill=\"none\" stroke=\"black\" cx=\"376.78\" cy=\"-101\" rx=\"87.24\" ry=\"18\"/>\n",
       "<text text-anchor=\"middle\" x=\"376.78\" y=\"-98.5\" font-family=\"Helvetica,sans-Serif\" font-size=\"10.00\">SelectData(&#39;SelectData_1&#39;)</text>\n",
       "</g>\n",
       "<!-- SelectData(&#39;SelectData_1&#39;)&#45;&gt;ConcatData(&#39;ConcatData_1&#39;) -->\n",
       "<g id=\"edge1\" class=\"edge\">\n",
       "<title>SelectData(&#39;SelectData_1&#39;)&#45;&gt;ConcatData(&#39;ConcatData_1&#39;)</title>\n",
       "<path fill=\"none\" stroke=\"black\" d=\"M390.18,-83.21C397.98,-74 408.31,-62.72 418.78,-54 424.41,-49.31 430.73,-44.78 437.03,-40.62\"/>\n",
       "<polygon fill=\"black\" stroke=\"black\" points=\"438.99,-43.52 445.55,-35.2 435.23,-37.61 438.99,-43.52\"/>\n",
       "<text text-anchor=\"middle\" x=\"482.28\" y=\"-57\" font-family=\"Helvetica,sans-Serif\" font-size=\"10.00\">outputData&#45;&gt;inputData_1</text>\n",
       "</g>\n",
       "<!-- NonSparkCols(&#39;NonSparkCols_1&#39;) -->\n",
       "<g id=\"node3\" class=\"node\">\n",
       "<title>NonSparkCols(&#39;NonSparkCols_1&#39;)</title>\n",
       "<ellipse fill=\"none\" stroke=\"black\" cx=\"104.78\" cy=\"-184\" rx=\"104.56\" ry=\"18\"/>\n",
       "<text text-anchor=\"middle\" x=\"104.78\" y=\"-181.5\" font-family=\"Helvetica,sans-Serif\" font-size=\"10.00\">NonSparkCols(&#39;NonSparkCols_1&#39;)</text>\n",
       "</g>\n",
       "<!-- NonSparkCols(&#39;NonSparkCols_1&#39;)&#45;&gt;SelectData(&#39;SelectData_1&#39;) -->\n",
       "<g id=\"edge2\" class=\"edge\">\n",
       "<title>NonSparkCols(&#39;NonSparkCols_1&#39;)&#45;&gt;SelectData(&#39;SelectData_1&#39;)</title>\n",
       "<path fill=\"none\" stroke=\"black\" d=\"M145.39,-167.31C170.61,-157.87 203.83,-145.98 233.78,-137 258.31,-129.65 285.55,-122.69 309.61,-116.94\"/>\n",
       "<polygon fill=\"black\" stroke=\"black\" points=\"310.43,-120.34 319.36,-114.64 308.82,-113.53 310.43,-120.34\"/>\n",
       "<text text-anchor=\"middle\" x=\"303.28\" y=\"-140\" font-family=\"Helvetica,sans-Serif\" font-size=\"10.00\">selected_cols&#45;&gt;wanted_cols</text>\n",
       "</g>\n",
       "<!-- ReadCsvProjectSpace(&#39;ReadCsvProjectSpace_1&#39;) -->\n",
       "<g id=\"node4\" class=\"node\">\n",
       "<title>ReadCsvProjectSpace(&#39;ReadCsvProjectSpace_1&#39;)</title>\n",
       "<ellipse fill=\"none\" stroke=\"black\" cx=\"376.78\" cy=\"-184\" rx=\"148.86\" ry=\"18\"/>\n",
       "<text text-anchor=\"middle\" x=\"376.78\" y=\"-181.5\" font-family=\"Helvetica,sans-Serif\" font-size=\"10.00\">ReadCsvProjectSpace(&#39;ReadCsvProjectSpace_1&#39;)</text>\n",
       "</g>\n",
       "<!-- ReadCsvProjectSpace(&#39;ReadCsvProjectSpace_1&#39;)&#45;&gt;SelectData(&#39;SelectData_1&#39;) -->\n",
       "<g id=\"edge3\" class=\"edge\">\n",
       "<title>ReadCsvProjectSpace(&#39;ReadCsvProjectSpace_1&#39;)&#45;&gt;SelectData(&#39;SelectData_1&#39;)</title>\n",
       "<path fill=\"none\" stroke=\"black\" d=\"M376.78,-165.82C376.78,-155.19 376.78,-141.31 376.78,-129.2\"/>\n",
       "<polygon fill=\"black\" stroke=\"black\" points=\"380.28,-129.15 376.78,-119.15 373.28,-129.15 380.28,-129.15\"/>\n",
       "<text text-anchor=\"middle\" x=\"417.78\" y=\"-140\" font-family=\"Helvetica,sans-Serif\" font-size=\"10.00\">data&#45;&gt;inputData</text>\n",
       "</g>\n",
       "<!-- NonSparkPath(&#39;NonSparkPath_1&#39;) -->\n",
       "<g id=\"node5\" class=\"node\">\n",
       "<title>NonSparkPath(&#39;NonSparkPath_1&#39;)</title>\n",
       "<ellipse fill=\"none\" stroke=\"black\" cx=\"376.78\" cy=\"-267\" rx=\"104.56\" ry=\"18\"/>\n",
       "<text text-anchor=\"middle\" x=\"376.78\" y=\"-264.5\" font-family=\"Helvetica,sans-Serif\" font-size=\"10.00\">NonSparkPath(&#39;NonSparkPath_1&#39;)</text>\n",
       "</g>\n",
       "<!-- NonSparkPath(&#39;NonSparkPath_1&#39;)&#45;&gt;ReadCsvProjectSpace(&#39;ReadCsvProjectSpace_1&#39;) -->\n",
       "<g id=\"edge4\" class=\"edge\">\n",
       "<title>NonSparkPath(&#39;NonSparkPath_1&#39;)&#45;&gt;ReadCsvProjectSpace(&#39;ReadCsvProjectSpace_1&#39;)</title>\n",
       "<path fill=\"none\" stroke=\"black\" d=\"M376.78,-248.82C376.78,-238.19 376.78,-224.31 376.78,-212.2\"/>\n",
       "<polygon fill=\"black\" stroke=\"black\" points=\"380.28,-212.15 376.78,-202.15 373.28,-212.15 380.28,-212.15\"/>\n",
       "<text text-anchor=\"middle\" x=\"423.78\" y=\"-223\" font-family=\"Helvetica,sans-Serif\" font-size=\"10.00\">op_path&#45;&gt;filename</text>\n",
       "</g>\n",
       "<!-- RenameCol(&#39;RenameCol_1&#39;) -->\n",
       "<g id=\"node6\" class=\"node\">\n",
       "<title>RenameCol(&#39;RenameCol_1&#39;)</title>\n",
       "<ellipse fill=\"none\" stroke=\"black\" cx=\"586.78\" cy=\"-101\" rx=\"90.81\" ry=\"18\"/>\n",
       "<text text-anchor=\"middle\" x=\"586.78\" y=\"-98.5\" font-family=\"Helvetica,sans-Serif\" font-size=\"10.00\">RenameCol(&#39;RenameCol_1&#39;)</text>\n",
       "</g>\n",
       "<!-- RenameCol(&#39;RenameCol_1&#39;)&#45;&gt;ConcatData(&#39;ConcatData_1&#39;) -->\n",
       "<g id=\"edge5\" class=\"edge\">\n",
       "<title>RenameCol(&#39;RenameCol_1&#39;)&#45;&gt;ConcatData(&#39;ConcatData_1&#39;)</title>\n",
       "<path fill=\"none\" stroke=\"black\" d=\"M574.1,-82.78C566.61,-73.43 556.51,-62.16 545.78,-54 538.47,-48.44 530.14,-43.4 521.82,-38.98\"/>\n",
       "<polygon fill=\"black\" stroke=\"black\" points=\"523.35,-35.83 512.84,-34.44 520.19,-42.08 523.35,-35.83\"/>\n",
       "<text text-anchor=\"middle\" x=\"621.28\" y=\"-57\" font-family=\"Helvetica,sans-Serif\" font-size=\"10.00\">outputData&#45;&gt;inputData_2</text>\n",
       "</g>\n",
       "<!-- SelectData(&#39;SelectData_2&#39;) -->\n",
       "<g id=\"node7\" class=\"node\">\n",
       "<title>SelectData(&#39;SelectData_2&#39;)</title>\n",
       "<ellipse fill=\"none\" stroke=\"black\" cx=\"630.78\" cy=\"-184\" rx=\"87.24\" ry=\"18\"/>\n",
       "<text text-anchor=\"middle\" x=\"630.78\" y=\"-181.5\" font-family=\"Helvetica,sans-Serif\" font-size=\"10.00\">SelectData(&#39;SelectData_2&#39;)</text>\n",
       "</g>\n",
       "<!-- SelectData(&#39;SelectData_2&#39;)&#45;&gt;RenameCol(&#39;RenameCol_1&#39;) -->\n",
       "<g id=\"edge6\" class=\"edge\">\n",
       "<title>SelectData(&#39;SelectData_2&#39;)&#45;&gt;RenameCol(&#39;RenameCol_1&#39;)</title>\n",
       "<path fill=\"none\" stroke=\"black\" d=\"M621.45,-165.82C615.5,-154.87 607.67,-140.46 600.96,-128.11\"/>\n",
       "<polygon fill=\"black\" stroke=\"black\" points=\"603.95,-126.27 596.1,-119.15 597.8,-129.61 603.95,-126.27\"/>\n",
       "<text text-anchor=\"middle\" x=\"669.28\" y=\"-140\" font-family=\"Helvetica,sans-Serif\" font-size=\"10.00\">outputData&#45;&gt;inputData</text>\n",
       "</g>\n",
       "<!-- NonSparkCols(&#39;NonSparkCols_2&#39;) -->\n",
       "<g id=\"node8\" class=\"node\">\n",
       "<title>NonSparkCols(&#39;NonSparkCols_2&#39;)</title>\n",
       "<ellipse fill=\"none\" stroke=\"black\" cx=\"617.78\" cy=\"-267\" rx=\"104.56\" ry=\"18\"/>\n",
       "<text text-anchor=\"middle\" x=\"617.78\" y=\"-264.5\" font-family=\"Helvetica,sans-Serif\" font-size=\"10.00\">NonSparkCols(&#39;NonSparkCols_2&#39;)</text>\n",
       "</g>\n",
       "<!-- NonSparkCols(&#39;NonSparkCols_2&#39;)&#45;&gt;SelectData(&#39;SelectData_2&#39;) -->\n",
       "<g id=\"edge7\" class=\"edge\">\n",
       "<title>NonSparkCols(&#39;NonSparkCols_2&#39;)&#45;&gt;SelectData(&#39;SelectData_2&#39;)</title>\n",
       "<path fill=\"none\" stroke=\"black\" d=\"M620.54,-248.82C622.25,-238.19 624.47,-224.31 626.42,-212.2\"/>\n",
       "<polygon fill=\"black\" stroke=\"black\" points=\"629.9,-212.58 628.03,-202.15 622.99,-211.47 629.9,-212.58\"/>\n",
       "<text text-anchor=\"middle\" x=\"695.28\" y=\"-223\" font-family=\"Helvetica,sans-Serif\" font-size=\"10.00\">selected_cols&#45;&gt;wanted_cols</text>\n",
       "</g>\n",
       "<!-- ReadCsvProjectSpace(&#39;ReadCsvProjectSpace_2&#39;) -->\n",
       "<g id=\"node9\" class=\"node\">\n",
       "<title>ReadCsvProjectSpace(&#39;ReadCsvProjectSpace_2&#39;)</title>\n",
       "<ellipse fill=\"none\" stroke=\"black\" cx=\"889.78\" cy=\"-267\" rx=\"148.86\" ry=\"18\"/>\n",
       "<text text-anchor=\"middle\" x=\"889.78\" y=\"-264.5\" font-family=\"Helvetica,sans-Serif\" font-size=\"10.00\">ReadCsvProjectSpace(&#39;ReadCsvProjectSpace_2&#39;)</text>\n",
       "</g>\n",
       "<!-- ReadCsvProjectSpace(&#39;ReadCsvProjectSpace_2&#39;)&#45;&gt;SelectData(&#39;SelectData_2&#39;) -->\n",
       "<g id=\"edge8\" class=\"edge\">\n",
       "<title>ReadCsvProjectSpace(&#39;ReadCsvProjectSpace_2&#39;)&#45;&gt;SelectData(&#39;SelectData_2&#39;)</title>\n",
       "<path fill=\"none\" stroke=\"black\" d=\"M850.13,-249.61C826.7,-240.25 796.32,-228.7 768.78,-220 745.68,-212.71 720.05,-205.87 697.2,-200.21\"/>\n",
       "<polygon fill=\"black\" stroke=\"black\" points=\"697.8,-196.75 687.26,-197.77 696.14,-203.55 697.8,-196.75\"/>\n",
       "<text text-anchor=\"middle\" x=\"839.78\" y=\"-223\" font-family=\"Helvetica,sans-Serif\" font-size=\"10.00\">data&#45;&gt;inputData</text>\n",
       "</g>\n",
       "<!-- NonSparkPath(&#39;NonSparkPath_2&#39;) -->\n",
       "<g id=\"node10\" class=\"node\">\n",
       "<title>NonSparkPath(&#39;NonSparkPath_2&#39;)</title>\n",
       "<ellipse fill=\"none\" stroke=\"black\" cx=\"889.78\" cy=\"-350\" rx=\"104.56\" ry=\"18\"/>\n",
       "<text text-anchor=\"middle\" x=\"889.78\" y=\"-347.5\" font-family=\"Helvetica,sans-Serif\" font-size=\"10.00\">NonSparkPath(&#39;NonSparkPath_2&#39;)</text>\n",
       "</g>\n",
       "<!-- NonSparkPath(&#39;NonSparkPath_2&#39;)&#45;&gt;ReadCsvProjectSpace(&#39;ReadCsvProjectSpace_2&#39;) -->\n",
       "<g id=\"edge9\" class=\"edge\">\n",
       "<title>NonSparkPath(&#39;NonSparkPath_2&#39;)&#45;&gt;ReadCsvProjectSpace(&#39;ReadCsvProjectSpace_2&#39;)</title>\n",
       "<path fill=\"none\" stroke=\"black\" d=\"M889.78,-331.82C889.78,-321.19 889.78,-307.31 889.78,-295.2\"/>\n",
       "<polygon fill=\"black\" stroke=\"black\" points=\"893.28,-295.15 889.78,-285.15 886.28,-295.15 893.28,-295.15\"/>\n",
       "<text text-anchor=\"middle\" x=\"936.78\" y=\"-306\" font-family=\"Helvetica,sans-Serif\" font-size=\"10.00\">op_path&#45;&gt;filename</text>\n",
       "</g>\n",
       "</g>\n",
       "</svg>\n"
      ],
      "text/plain": [
       "<razor.flow.async_pipeline.Pipeline at 0x7f636b6d0c50>"
      ]
     },
     "metadata": {},
     "output_type": "display_data"
    }
   ],
   "source": [
    "pipe.show()"
   ]
  },
  {
   "cell_type": "code",
   "execution_count": 10,
   "id": "exempt-dragon",
   "metadata": {},
   "outputs": [
    {
     "name": "stdout",
     "output_type": "stream",
     "text": [
      "log path: /tmp/tmpd752dnux/pipeline_sd_3\n"
     ]
    },
    {
     "data": {
      "application/vnd.razorthink.run+monitor+json": "/tmp/tmpd752dnux/pipeline_sd_3",
      "text/plain": [
       "<razor_tools.backend.ipython.mime.run_monitor.RunMonitor at 0x7f636b4cc350>"
      ]
     },
     "metadata": {
      "application/vnd.razorthink.run+monitor+json": {
       "run_data": {
        "apm": [
         {
          "cpu_percent": 0,
          "cpu_time": 0,
          "name": "NonSparkCols_1",
          "real_mem": 155631616,
          "time": 1616567057.746166
         },
         {
          "cpu_percent": 0,
          "cpu_time": 0,
          "name": "NonSparkPath_1",
          "real_mem": 155648000,
          "time": 1616567057.7545414
         },
         {
          "cpu_percent": 0,
          "cpu_time": 0,
          "name": "NonSparkCols_1",
          "real_mem": 155832320,
          "time": 1616567057.8582475
         },
         {
          "cpu_percent": 0,
          "cpu_time": 0.03,
          "name": "NonSparkPath_1",
          "real_mem": 157212672,
          "time": 1616567057.8667922
         },
         {
          "cpu_percent": 0,
          "cpu_time": 0,
          "name": "NonSparkCols_2",
          "real_mem": 155586560,
          "time": 1616567057.7640197
         },
         {
          "cpu_percent": 0,
          "cpu_time": 0,
          "name": "NonSparkPath_2",
          "real_mem": 155594752,
          "time": 1616567057.7724087
         },
         {
          "cpu_percent": 98.7,
          "cpu_time": 0.01,
          "name": "NonSparkCols_2",
          "real_mem": 155693056,
          "time": 1616567057.8755486
         },
         {
          "cpu_percent": 0,
          "cpu_time": 0.02,
          "name": "NonSparkPath_2",
          "real_mem": 157237248,
          "time": 1616567057.88426
         },
         {
          "cpu_percent": 0,
          "cpu_time": 0.01,
          "name": "NonSparkCols_1",
          "real_mem": 155832320,
          "time": 1616567057.969978
         },
         {
          "cpu_percent": 64.9,
          "cpu_time": 0.04,
          "name": "NonSparkPath_1",
          "real_mem": 157433856,
          "time": 1616567057.9863532
         },
         {
          "cpu_percent": 0,
          "cpu_time": 0.01,
          "name": "NonSparkCols_2",
          "real_mem": 155693056,
          "time": 1616567057.987168
         },
         {
          "cpu_percent": 0,
          "cpu_time": 0.03,
          "name": "NonSparkPath_2",
          "real_mem": 157458432,
          "time": 1616567057.9958813
         },
         {
          "cpu_percent": 0,
          "cpu_time": 0.01,
          "name": "NonSparkCols_1",
          "real_mem": 155832320,
          "time": 1616567058.0835457
         },
         {
          "cpu_percent": 0,
          "cpu_time": 0.04,
          "name": "NonSparkPath_1",
          "real_mem": 157503488,
          "time": 1616567058.098227
         },
         {
          "cpu_percent": 0,
          "cpu_time": 0.01,
          "name": "NonSparkCols_2",
          "real_mem": 155693056,
          "time": 1616567058.099168
         },
         {
          "cpu_percent": 0,
          "cpu_time": 0.04,
          "name": "NonSparkPath_2",
          "real_mem": 157540352,
          "time": 1616567058.1080046
         },
         {
          "cpu_percent": 98.5,
          "cpu_time": 0.02,
          "name": "NonSparkCols_1",
          "real_mem": 155832320,
          "time": 1616567058.195378
         },
         {
          "cpu_percent": 0,
          "cpu_time": 0.04,
          "name": "NonSparkPath_1",
          "real_mem": 157503488,
          "time": 1616567058.2100592
         },
         {
          "cpu_percent": 0,
          "cpu_time": 0.01,
          "name": "NonSparkCols_2",
          "real_mem": 155693056,
          "time": 1616567058.2106817
         },
         {
          "cpu_percent": 0,
          "cpu_time": 0.04,
          "name": "NonSparkPath_2",
          "real_mem": 157540352,
          "time": 1616567058.2198436
         },
         {
          "cpu_percent": 0,
          "cpu_time": 0.17,
          "name": "ReadCsvProjectSpace_2",
          "real_mem": 160145408,
          "time": 1616567058.2071493
         },
         {
          "cpu_percent": 0,
          "cpu_time": 0.17,
          "name": "SelectData_1",
          "real_mem": 160239616,
          "time": 1616567058.2318754
         },
         {
          "cpu_percent": 0,
          "cpu_time": 0.17,
          "name": "RenameCol_1",
          "real_mem": 160333824,
          "time": 1616567058.2452734
         },
         {
          "cpu_percent": 0,
          "cpu_time": 0.18,
          "name": "SelectData_2",
          "real_mem": 160333824,
          "time": 1616567058.2582617
         },
         {
          "cpu_percent": 0,
          "cpu_time": 0.19,
          "name": "ConcatData_1",
          "real_mem": 160473088,
          "time": 1616567058.271365
         },
         {
          "cpu_percent": 0,
          "cpu_time": 0.19,
          "name": "ReadCsvProjectSpace_1",
          "real_mem": 160473088,
          "time": 1616567058.284397
         },
         {
          "cpu_percent": 0,
          "cpu_time": 0.02,
          "name": "NonSparkCols_1",
          "real_mem": 156020736,
          "time": 1616567058.308463
         },
         {
          "cpu_percent": 0,
          "cpu_time": 0.05,
          "name": "NonSparkPath_1",
          "real_mem": 157663232,
          "time": 1616567058.3215253
         },
         {
          "cpu_percent": 0,
          "cpu_time": 0.01,
          "name": "NonSparkCols_2",
          "real_mem": 155955200,
          "time": 1616567058.323479
         },
         {
          "cpu_percent": 197.1,
          "cpu_time": 0.24,
          "name": "ReadCsvProjectSpace_2",
          "real_mem": 164999168,
          "time": 1616567058.3380466
         },
         {
          "cpu_percent": 0,
          "cpu_time": 0.25,
          "name": "SelectData_1",
          "real_mem": 164999168,
          "time": 1616567058.3604035
         },
         {
          "cpu_percent": 196.9,
          "cpu_time": 0.33999999999999997,
          "name": "SelectData_2",
          "real_mem": 195735552,
          "time": 1616567058.4468298
         },
         {
          "cpu_percent": 197.3,
          "cpu_time": 0.29,
          "name": "RenameCol_1",
          "real_mem": 188305408,
          "time": 1616567058.403788
         },
         {
          "cpu_percent": 98.6,
          "cpu_time": 0.39,
          "name": "ConcatData_1",
          "real_mem": 206553088,
          "time": 1616567058.490215
         },
         {
          "cpu_percent": 196.5,
          "cpu_time": 0.45999999999999996,
          "name": "ReadCsvProjectSpace_1",
          "real_mem": 216817664,
          "time": 1616567058.5330272
         },
         {
          "cpu_percent": 0,
          "cpu_time": 0.25,
          "name": "ReadCsvProjectSpace_2",
          "real_mem": 162160640,
          "time": 1616567058.5550797
         },
         {
          "cpu_percent": 98.5,
          "cpu_time": 0.28,
          "name": "SelectData_1",
          "real_mem": 181157888,
          "time": 1616567058.5776696
         },
         {
          "cpu_percent": 99.1,
          "cpu_time": 0.31,
          "name": "RenameCol_1",
          "real_mem": 183513088,
          "time": 1616567058.599347
         },
         {
          "cpu_percent": 98.6,
          "cpu_time": 0.33999999999999997,
          "name": "SelectData_2",
          "real_mem": 184119296,
          "time": 1616567058.621015
         },
         {
          "cpu_percent": 293.8,
          "cpu_time": 0.39,
          "name": "ConcatData_1",
          "real_mem": 192167936,
          "time": 1616567058.6436915
         },
         {
          "cpu_percent": 98.3,
          "cpu_time": 0.42000000000000004,
          "name": "ReadCsvProjectSpace_1",
          "real_mem": 198766592,
          "time": 1616567058.6665928
         },
         {
          "cpu_percent": 98.3,
          "cpu_time": 0.45999999999999996,
          "name": "ReadCsvProjectSpace_2",
          "real_mem": 207544320,
          "time": 1616567058.6892538
         },
         {
          "cpu_percent": 196.8,
          "cpu_time": 0.5,
          "name": "SelectData_1",
          "real_mem": 215269376,
          "time": 1616567058.711826
         },
         {
          "cpu_percent": 295.7,
          "cpu_time": 0.5800000000000001,
          "name": "RenameCol_1",
          "real_mem": 217931776,
          "time": 1616567058.7343214
         },
         {
          "cpu_percent": 98.5,
          "cpu_time": 0.61,
          "name": "SelectData_2",
          "real_mem": 220721152,
          "time": 1616567058.7567844
         },
         {
          "cpu_percent": 196.4,
          "cpu_time": 0.65,
          "name": "ConcatData_1",
          "real_mem": 226824192,
          "time": 1616567058.8101988
         },
         {
          "cpu_percent": 98.5,
          "cpu_time": 0.6799999999999999,
          "name": "ReadCsvProjectSpace_1",
          "real_mem": 228380672,
          "time": 1616567058.8324802
         },
         {
          "cpu_percent": 46.1,
          "cpu_time": 0.73,
          "name": "ReadCsvProjectSpace_2",
          "real_mem": 233181184,
          "time": 1616567058.8879385
         },
         {
          "cpu_percent": 197.6,
          "cpu_time": 0.78,
          "name": "SelectData_1",
          "real_mem": 234790912,
          "time": 1616567058.9097464
         },
         {
          "cpu_percent": 197.1,
          "cpu_time": 0.8200000000000001,
          "name": "RenameCol_1",
          "real_mem": 237608960,
          "time": 1616567058.9319656
         },
         {
          "cpu_percent": 98.4,
          "cpu_time": 0.85,
          "name": "SelectData_2",
          "real_mem": 243826688,
          "time": 1616567058.9541073
         },
         {
          "cpu_percent": 98.5,
          "cpu_time": 0.88,
          "name": "ConcatData_1",
          "real_mem": 244858880,
          "time": 1616567058.9768922
         },
         {
          "cpu_percent": 196.9,
          "cpu_time": 0.91,
          "name": "ReadCsvProjectSpace_1",
          "real_mem": 245395456,
          "time": 1616567058.9991248
         },
         {
          "cpu_percent": 295.2,
          "cpu_time": 0.9600000000000001,
          "name": "ReadCsvProjectSpace_2",
          "real_mem": 245665792,
          "time": 1616567059.0219746
         },
         {
          "cpu_percent": 196.7,
          "cpu_time": 1.01,
          "name": "SelectData_1",
          "real_mem": 246513664,
          "time": 1616567059.0446424
         },
         {
          "cpu_percent": 97.6,
          "cpu_time": 1.05,
          "name": "RenameCol_1",
          "real_mem": 247230464,
          "time": 1616567059.067173
         },
         {
          "cpu_percent": 98.6,
          "cpu_time": 1.08,
          "name": "SelectData_2",
          "real_mem": 247496704,
          "time": 1616567059.089318
         },
         {
          "cpu_percent": 98.6,
          "cpu_time": 1.1,
          "name": "ConcatData_1",
          "real_mem": 247496704,
          "time": 1616567059.1113858
         },
         {
          "cpu_percent": 98.5,
          "cpu_time": 1.13,
          "name": "ReadCsvProjectSpace_1",
          "real_mem": 248057856,
          "time": 1616567059.1338475
         },
         {
          "cpu_percent": 194.8,
          "cpu_time": 1.16,
          "name": "ReadCsvProjectSpace_2",
          "real_mem": 248557568,
          "time": 1616567059.1560707
         },
         {
          "cpu_percent": 196.6,
          "cpu_time": 1.21,
          "name": "SelectData_1",
          "real_mem": 251527168,
          "time": 1616567059.1782112
         },
         {
          "cpu_percent": 98.2,
          "cpu_time": 1.24,
          "name": "RenameCol_1",
          "real_mem": 252375040,
          "time": 1616567059.2012472
         },
         {
          "cpu_percent": 196.7,
          "cpu_time": 1.28,
          "name": "SelectData_2",
          "real_mem": 252727296,
          "time": 1616567059.2233095
         },
         {
          "cpu_percent": 197.2,
          "cpu_time": 1.33,
          "name": "ConcatData_1",
          "real_mem": 254279680,
          "time": 1616567059.2456288
         },
         {
          "cpu_percent": 275.5,
          "cpu_time": 1.3800000000000001,
          "name": "ReadCsvProjectSpace_1",
          "real_mem": 253702144,
          "time": 1616567059.2685394
         },
         {
          "cpu_percent": 188.3,
          "cpu_time": 1.4200000000000002,
          "name": "ReadCsvProjectSpace_2",
          "real_mem": 253902848,
          "time": 1616567059.2909565
         },
         {
          "cpu_percent": 98.4,
          "cpu_time": 1.45,
          "name": "SelectData_1",
          "real_mem": 254111744,
          "time": 1616567059.312946
         },
         {
          "cpu_percent": 98.5,
          "cpu_time": 1.48,
          "name": "RenameCol_1",
          "real_mem": 266272768,
          "time": 1616567059.335341
         },
         {
          "cpu_percent": 197.5,
          "cpu_time": 1.51,
          "name": "SelectData_2",
          "real_mem": 267735040,
          "time": 1616567059.357272
         },
         {
          "cpu_percent": 295.8,
          "cpu_time": 1.57,
          "name": "ConcatData_1",
          "real_mem": 268615680,
          "time": 1616567059.3793032
         },
         {
          "cpu_percent": 197.2,
          "cpu_time": 1.61,
          "name": "ReadCsvProjectSpace_1",
          "real_mem": 269602816,
          "time": 1616567059.4017086
         },
         {
          "cpu_percent": 197.2,
          "cpu_time": 1.6400000000000001,
          "name": "ReadCsvProjectSpace_2",
          "real_mem": 272949248,
          "time": 1616567059.4245036
         },
         {
          "cpu_percent": 196.7,
          "cpu_time": 1.6800000000000002,
          "name": "SelectData_1",
          "real_mem": 276254720,
          "time": 1616567059.4464495
         },
         {
          "cpu_percent": 98.7,
          "cpu_time": 1.71,
          "name": "RenameCol_1",
          "real_mem": 277618688,
          "time": 1616567059.468389
         },
         {
          "cpu_percent": 176.7,
          "cpu_time": 1.75,
          "name": "SelectData_2",
          "real_mem": 280653824,
          "time": 1616567059.4914985
         },
         {
          "cpu_percent": 196.5,
          "cpu_time": 1.79,
          "name": "ConcatData_1",
          "real_mem": 283930624,
          "time": 1616567059.514194
         },
         {
          "cpu_percent": 295.2,
          "cpu_time": 1.83,
          "name": "ReadCsvProjectSpace_1",
          "real_mem": 285605888,
          "time": 1616567059.5367424
         },
         {
          "cpu_percent": 197.1,
          "cpu_time": 1.87,
          "name": "ReadCsvProjectSpace_2",
          "real_mem": 290611200,
          "time": 1616567059.5592504
         },
         {
          "cpu_percent": 197.1,
          "cpu_time": 1.9000000000000001,
          "name": "SelectData_1",
          "real_mem": 292700160,
          "time": 1616567059.5814192
         },
         {
          "cpu_percent": 98.3,
          "cpu_time": 1.9200000000000002,
          "name": "RenameCol_1",
          "real_mem": 293179392,
          "time": 1616567059.6039703
         },
         {
          "cpu_percent": 295.4,
          "cpu_time": 1.97,
          "name": "SelectData_2",
          "real_mem": 293584896,
          "time": 1616567059.6268375
         },
         {
          "cpu_percent": 98.6,
          "cpu_time": 2.02,
          "name": "ConcatData_1",
          "real_mem": 294158336,
          "time": 1616567059.6494994
         },
         {
          "cpu_percent": 196.6,
          "cpu_time": 2.06,
          "name": "ReadCsvProjectSpace_1",
          "real_mem": 294555648,
          "time": 1616567059.6721146
         },
         {
          "cpu_percent": 294.8,
          "cpu_time": 2.11,
          "name": "ReadCsvProjectSpace_2",
          "real_mem": 295186432,
          "time": 1616567059.694721
         },
         {
          "cpu_percent": 196.6,
          "cpu_time": 2.15,
          "name": "SelectData_1",
          "real_mem": 295481344,
          "time": 1616567059.7173111
         },
         {
          "cpu_percent": 98.3,
          "cpu_time": 2.19,
          "name": "RenameCol_1",
          "real_mem": 295956480,
          "time": 1616567059.7399852
         },
         {
          "cpu_percent": 98.4,
          "cpu_time": 2.22,
          "name": "SelectData_2",
          "real_mem": 296439808,
          "time": 1616567059.7627575
         },
         {
          "cpu_percent": 294.1,
          "cpu_time": 2.27,
          "name": "ConcatData_1",
          "real_mem": 297021440,
          "time": 1616567059.785473
         },
         {
          "cpu_percent": 196.5,
          "cpu_time": 2.31,
          "name": "ReadCsvProjectSpace_1",
          "real_mem": 297922560,
          "time": 1616567059.808146
         },
         {
          "cpu_percent": 196.9,
          "cpu_time": 2.36,
          "name": "ReadCsvProjectSpace_2",
          "real_mem": 297381888,
          "time": 1616567059.8308852
         },
         {
          "cpu_percent": 392.2,
          "cpu_time": 2.42,
          "name": "SelectData_1",
          "real_mem": 299225088,
          "time": 1616567059.8535626
         },
         {
          "cpu_percent": 98.3,
          "cpu_time": 2.46,
          "name": "RenameCol_1",
          "real_mem": 303382528,
          "time": 1616567059.8762162
         },
         {
          "cpu_percent": 196.5,
          "cpu_time": 2.5100000000000002,
          "name": "SelectData_2",
          "real_mem": 303976448,
          "time": 1616567059.909917
         },
         {
          "cpu_percent": 97.9,
          "cpu_time": 2.5300000000000002,
          "name": "ConcatData_1",
          "real_mem": 304365568,
          "time": 1616567059.9325747
         },
         {
          "cpu_percent": 98.4,
          "cpu_time": 2.5500000000000003,
          "name": "ReadCsvProjectSpace_1",
          "real_mem": 304701440,
          "time": 1616567059.9547813
         },
         {
          "cpu_percent": 196.2,
          "cpu_time": 2.5900000000000003,
          "name": "ReadCsvProjectSpace_2",
          "real_mem": 305291264,
          "time": 1616567059.9774525
         },
         {
          "cpu_percent": 98,
          "cpu_time": 2.62,
          "name": "SelectData_1",
          "real_mem": 305577984,
          "time": 1616567059.999605
         },
         {
          "cpu_percent": 287.3,
          "cpu_time": 2.6799999999999997,
          "name": "RenameCol_1",
          "real_mem": 305848320,
          "time": 1616567060.0230083
         },
         {
          "cpu_percent": 98.3,
          "cpu_time": 2.72,
          "name": "SelectData_2",
          "real_mem": 306364416,
          "time": 1616567060.0461814
         },
         {
          "cpu_percent": 197.2,
          "cpu_time": 2.7600000000000002,
          "name": "ConcatData_1",
          "real_mem": 306745344,
          "time": 1616567060.0688763
         },
         {
          "cpu_percent": 98.7,
          "cpu_time": 2.8000000000000003,
          "name": "ReadCsvProjectSpace_1",
          "real_mem": 307195904,
          "time": 1616567060.0910003
         },
         {
          "cpu_percent": 98.6,
          "cpu_time": 2.8200000000000003,
          "name": "ReadCsvProjectSpace_2",
          "real_mem": 307560448,
          "time": 1616567060.1133778
         },
         {
          "cpu_percent": 296.3,
          "cpu_time": 2.8600000000000003,
          "name": "SelectData_1",
          "real_mem": 308043776,
          "time": 1616567060.135281
         },
         {
          "cpu_percent": 196.7,
          "cpu_time": 2.89,
          "name": "RenameCol_1",
          "real_mem": 308629504,
          "time": 1616567060.1573613
         },
         {
          "cpu_percent": 393.8,
          "cpu_time": 2.97,
          "name": "SelectData_2",
          "real_mem": 310992896,
          "time": 1616567060.179921
         },
         {
          "cpu_percent": 0,
          "cpu_time": 3,
          "name": "ConcatData_1",
          "real_mem": 313180160,
          "time": 1616567060.2023673
         },
         {
          "cpu_percent": 197,
          "cpu_time": 3.04,
          "name": "ReadCsvProjectSpace_1",
          "real_mem": 316719104,
          "time": 1616567060.224384
         },
         {
          "cpu_percent": 296.4,
          "cpu_time": 3.08,
          "name": "ReadCsvProjectSpace_2",
          "real_mem": 319885312,
          "time": 1616567060.246391
         },
         {
          "cpu_percent": 197.2,
          "cpu_time": 3.1300000000000003,
          "name": "SelectData_1",
          "real_mem": 324509696,
          "time": 1616567060.2690651
         },
         {
          "cpu_percent": 197.4,
          "cpu_time": 3.18,
          "name": "RenameCol_1",
          "real_mem": 328470528,
          "time": 1616567060.2918487
         },
         {
          "cpu_percent": 197.6,
          "cpu_time": 3.22,
          "name": "SelectData_2",
          "real_mem": 331657216,
          "time": 1616567060.3146923
         },
         {
          "cpu_percent": 197.4,
          "cpu_time": 3.2600000000000002,
          "name": "ConcatData_1",
          "real_mem": 335515648,
          "time": 1616567060.3364844
         },
         {
          "cpu_percent": 296,
          "cpu_time": 3.3200000000000003,
          "name": "ReadCsvProjectSpace_1",
          "real_mem": 341520384,
          "time": 1616567060.358368
         },
         {
          "cpu_percent": 195.7,
          "cpu_time": 3.3600000000000003,
          "name": "ReadCsvProjectSpace_2",
          "real_mem": 346664960,
          "time": 1616567060.3804228
         },
         {
          "cpu_percent": 197.3,
          "cpu_time": 3.41,
          "name": "SelectData_1",
          "real_mem": 347275264,
          "time": 1616567060.4094603
         },
         {
          "cpu_percent": 295.5,
          "cpu_time": 3.48,
          "name": "RenameCol_1",
          "real_mem": 347389952,
          "time": 1616567060.4314113
         },
         {
          "cpu_percent": 296.9,
          "cpu_time": 3.53,
          "name": "SelectData_2",
          "real_mem": 348041216,
          "time": 1616567060.4533556
         },
         {
          "cpu_percent": 0,
          "cpu_time": 3.55,
          "name": "ConcatData_1",
          "real_mem": 349216768,
          "time": 1616567060.4754117
         },
         {
          "cpu_percent": 196.9,
          "cpu_time": 3.6,
          "name": "ReadCsvProjectSpace_1",
          "real_mem": 353255424,
          "time": 1616567060.5098312
         },
         {
          "cpu_percent": 196.8,
          "cpu_time": 3.6300000000000003,
          "name": "ReadCsvProjectSpace_2",
          "real_mem": 353255424,
          "time": 1616567060.5318494
         },
         {
          "cpu_percent": 196.7,
          "cpu_time": 3.6700000000000004,
          "name": "SelectData_1",
          "real_mem": 353505280,
          "time": 1616567060.553845
         },
         {
          "cpu_percent": 98.5,
          "cpu_time": 3.69,
          "name": "RenameCol_1",
          "real_mem": 353660928,
          "time": 1616567060.5759637
         },
         {
          "cpu_percent": 0,
          "cpu_time": 3.6999999999999997,
          "name": "SelectData_2",
          "real_mem": 353660928,
          "time": 1616567060.5977418
         },
         {
          "cpu_percent": 0,
          "cpu_time": 3.6999999999999997,
          "name": "ConcatData_1",
          "real_mem": 353660928,
          "time": 1616567060.6197734
         },
         {
          "cpu_percent": 197,
          "cpu_time": 3.7199999999999998,
          "name": "ReadCsvProjectSpace_1",
          "real_mem": 353673216,
          "time": 1616567060.642676
         },
         {
          "cpu_percent": 197.4,
          "cpu_time": 3.78,
          "name": "ReadCsvProjectSpace_2",
          "real_mem": 354070528,
          "time": 1616567060.66695
         },
         {
          "cpu_percent": 98.6,
          "cpu_time": 3.82,
          "name": "SelectData_1",
          "real_mem": 354971648,
          "time": 1616567060.690072
         },
         {
          "cpu_percent": 294.5,
          "cpu_time": 3.87,
          "name": "RenameCol_1",
          "real_mem": 355315712,
          "time": 1616567060.7123318
         },
         {
          "cpu_percent": 295.4,
          "cpu_time": 3.91,
          "name": "SelectData_2",
          "real_mem": 355733504,
          "time": 1616567060.7343533
         },
         {
          "cpu_percent": 197.2,
          "cpu_time": 3.96,
          "name": "ConcatData_1",
          "real_mem": 356372480,
          "time": 1616567060.7564948
         },
         {
          "cpu_percent": 98.4,
          "cpu_time": 3.98,
          "name": "ReadCsvProjectSpace_1",
          "real_mem": 356638720,
          "time": 1616567060.7787004
         },
         {
          "cpu_percent": 197.7,
          "cpu_time": 4.01,
          "name": "ReadCsvProjectSpace_2",
          "real_mem": 357421056,
          "time": 1616567060.8006403
         },
         {
          "cpu_percent": 197.5,
          "cpu_time": 4.07,
          "name": "SelectData_1",
          "real_mem": 358100992,
          "time": 1616567060.8223562
         },
         {
          "cpu_percent": 295.6,
          "cpu_time": 4.12,
          "name": "RenameCol_1",
          "real_mem": 359612416,
          "time": 1616567060.8442814
         },
         {
          "cpu_percent": 295.7,
          "cpu_time": 4.18,
          "name": "SelectData_2",
          "real_mem": 359972864,
          "time": 1616567060.8664672
         },
         {
          "cpu_percent": 0,
          "cpu_time": 4.2,
          "name": "ConcatData_1",
          "real_mem": 359972864,
          "time": 1616567060.8883858
         },
         {
          "cpu_percent": 196.9,
          "cpu_time": 4.24,
          "name": "ReadCsvProjectSpace_1",
          "real_mem": 361144320,
          "time": 1616567060.9105594
         },
         {
          "cpu_percent": 197,
          "cpu_time": 4.29,
          "name": "ReadCsvProjectSpace_2",
          "real_mem": 362168320,
          "time": 1616567060.932898
         },
         {
          "cpu_percent": 197,
          "cpu_time": 4.33,
          "name": "SelectData_1",
          "real_mem": 360595456,
          "time": 1616567060.9556813
         },
         {
          "cpu_percent": 98.6,
          "cpu_time": 4.38,
          "name": "RenameCol_1",
          "real_mem": 361160704,
          "time": 1616567060.9778762
         },
         {
          "cpu_percent": 197.1,
          "cpu_time": 4.43,
          "name": "SelectData_2",
          "real_mem": 361570304,
          "time": 1616567061.0093856
         },
         {
          "cpu_percent": 196.2,
          "cpu_time": 4.47,
          "name": "ConcatData_1",
          "real_mem": 361943040,
          "time": 1616567061.031491
         },
         {
          "cpu_percent": 98.5,
          "cpu_time": 4.49,
          "name": "ReadCsvProjectSpace_1",
          "real_mem": 362807296,
          "time": 1616567061.05361
         },
         {
          "cpu_percent": 197.6,
          "cpu_time": 4.5200000000000005,
          "name": "ReadCsvProjectSpace_2",
          "real_mem": 363216896,
          "time": 1616567061.0759397
         },
         {
          "cpu_percent": 98.3,
          "cpu_time": 4.55,
          "name": "SelectData_1",
          "real_mem": 363655168,
          "time": 1616567061.0983424
         },
         {
          "cpu_percent": 98.3,
          "cpu_time": 4.57,
          "name": "RenameCol_1",
          "real_mem": 365404160,
          "time": 1616567061.1204903
         },
         {
          "cpu_percent": 98.7,
          "cpu_time": 4.61,
          "name": "SelectData_2",
          "real_mem": 368103424,
          "time": 1616567061.1428905
         },
         {
          "cpu_percent": 296.1,
          "cpu_time": 4.66,
          "name": "ConcatData_1",
          "real_mem": 371732480,
          "time": 1616567061.1649184
         },
         {
          "cpu_percent": 98.7,
          "cpu_time": 4.68,
          "name": "ReadCsvProjectSpace_1",
          "real_mem": 375541760,
          "time": 1616567061.1869094
         },
         {
          "cpu_percent": 98.7,
          "cpu_time": 4.7,
          "name": "ReadCsvProjectSpace_2",
          "real_mem": 378519552,
          "time": 1616567061.2087138
         },
         {
          "cpu_percent": 98.7,
          "cpu_time": 4.73,
          "name": "SelectData_1",
          "real_mem": 382570496,
          "time": 1616567061.2305484
         },
         {
          "cpu_percent": 195.8,
          "cpu_time": 4.77,
          "name": "RenameCol_1",
          "real_mem": 387096576,
          "time": 1616567061.2527208
         },
         {
          "cpu_percent": 196.7,
          "cpu_time": 4.83,
          "name": "SelectData_2",
          "real_mem": 391163904,
          "time": 1616567061.2756815
         },
         {
          "cpu_percent": 295.7,
          "cpu_time": 4.88,
          "name": "ConcatData_1",
          "real_mem": 393179136,
          "time": 1616567061.2980888
         },
         {
          "cpu_percent": 98.9,
          "cpu_time": 4.92,
          "name": "ReadCsvProjectSpace_1",
          "real_mem": 393883648,
          "time": 1616567061.320439
         },
         {
          "cpu_percent": 197.3,
          "cpu_time": 4.96,
          "name": "ReadCsvProjectSpace_2",
          "real_mem": 397213696,
          "time": 1616567061.3429341
         },
         {
          "cpu_percent": 98.6,
          "cpu_time": 4.9799999999999995,
          "name": "SelectData_1",
          "real_mem": 398897152,
          "time": 1616567061.3648975
         },
         {
          "cpu_percent": 197.6,
          "cpu_time": 5.02,
          "name": "RenameCol_1",
          "real_mem": 400261120,
          "time": 1616567061.3869028
         },
         {
          "cpu_percent": 98,
          "cpu_time": 5.050000000000001,
          "name": "SelectData_2",
          "real_mem": 403849216,
          "time": 1616567061.4089332
         },
         {
          "cpu_percent": 98.5,
          "cpu_time": 5.07,
          "name": "ConcatData_1",
          "real_mem": 408264704,
          "time": 1616567061.430967
         },
         {
          "cpu_percent": 197.3,
          "cpu_time": 5.119999999999999,
          "name": "ReadCsvProjectSpace_1",
          "real_mem": 411324416,
          "time": 1616567061.453067
         },
         {
          "cpu_percent": 295.9,
          "cpu_time": 5.17,
          "name": "ReadCsvProjectSpace_2",
          "real_mem": 415649792,
          "time": 1616567061.4755101
         },
         {
          "cpu_percent": 196.3,
          "cpu_time": 5.23,
          "name": "SelectData_1",
          "real_mem": 419225600,
          "time": 1616567061.4978206
         },
         {
          "cpu_percent": 295.9,
          "cpu_time": 5.29,
          "name": "RenameCol_1",
          "real_mem": 422977536,
          "time": 1616567061.52001
         },
         {
          "cpu_percent": 98.7,
          "cpu_time": 5.32,
          "name": "SelectData_2",
          "real_mem": 426426368,
          "time": 1616567061.5422015
         },
         {
          "cpu_percent": 197.3,
          "cpu_time": 5.36,
          "name": "ConcatData_1",
          "real_mem": 429309952,
          "time": 1616567061.5643818
         },
         {
          "cpu_percent": 98.8,
          "cpu_time": 5.38,
          "name": "ReadCsvProjectSpace_1",
          "real_mem": 433729536,
          "time": 1616567061.5864713
         },
         {
          "cpu_percent": 98.3,
          "cpu_time": 5.41,
          "name": "ReadCsvProjectSpace_2",
          "real_mem": 442683392,
          "time": 1616567061.6085114
         },
         {
          "cpu_percent": 196.9,
          "cpu_time": 5.46,
          "name": "SelectData_1",
          "real_mem": 443006976,
          "time": 1616567061.6308115
         },
         {
          "cpu_percent": 196.7,
          "cpu_time": 5.51,
          "name": "RenameCol_1",
          "real_mem": 443334656,
          "time": 1616567061.6530712
         },
         {
          "cpu_percent": 293.6,
          "cpu_time": 5.569999999999999,
          "name": "SelectData_2",
          "real_mem": 443740160,
          "time": 1616567061.6757789
         },
         {
          "cpu_percent": 197,
          "cpu_time": 5.609999999999999,
          "name": "ConcatData_1",
          "real_mem": 443961344,
          "time": 1616567061.698318
         },
         {
          "cpu_percent": 197,
          "cpu_time": 5.6499999999999995,
          "name": "ReadCsvProjectSpace_1",
          "real_mem": 444567552,
          "time": 1616567061.720786
         },
         {
          "cpu_percent": 197.4,
          "cpu_time": 5.7,
          "name": "ReadCsvProjectSpace_2",
          "real_mem": 444948480,
          "time": 1616567061.7434025
         },
         {
          "cpu_percent": 98.3,
          "cpu_time": 5.72,
          "name": "SelectData_1",
          "real_mem": 445145088,
          "time": 1616567061.76546
         },
         {
          "cpu_percent": 94.1,
          "cpu_time": 5.76,
          "name": "RenameCol_1",
          "real_mem": 445681664,
          "time": 1616567061.7885005
         },
         {
          "cpu_percent": 196.9,
          "cpu_time": 5.82,
          "name": "SelectData_2",
          "real_mem": 450920448,
          "time": 1616567061.8130794
         },
         {
          "cpu_percent": 98.5,
          "cpu_time": 5.84,
          "name": "ConcatData_1",
          "real_mem": 451096576,
          "time": 1616567061.8353112
         },
         {
          "cpu_percent": 235.8,
          "cpu_time": 5.9,
          "name": "ReadCsvProjectSpace_1",
          "real_mem": 451788800,
          "time": 1616567061.8605342
         },
         {
          "cpu_percent": 294.2,
          "cpu_time": 5.960000000000001,
          "name": "ReadCsvProjectSpace_2",
          "real_mem": 452337664,
          "time": 1616567061.8832371
         },
         {
          "cpu_percent": 294.8,
          "cpu_time": 6.02,
          "name": "SelectData_1",
          "real_mem": 453447680,
          "time": 1616567061.910498
         },
         {
          "cpu_percent": 196.7,
          "cpu_time": 6.07,
          "name": "RenameCol_1",
          "real_mem": 454373376,
          "time": 1616567061.9331186
         },
         {
          "cpu_percent": 196.8,
          "cpu_time": 6.13,
          "name": "SelectData_2",
          "real_mem": 456523776,
          "time": 1616567061.9559631
         },
         {
          "cpu_percent": 0,
          "cpu_time": 6.16,
          "name": "ConcatData_1",
          "real_mem": 456245248,
          "time": 1616567061.9784312
         },
         {
          "cpu_percent": 295.4,
          "cpu_time": 6.22,
          "name": "ReadCsvProjectSpace_1",
          "real_mem": 457490432,
          "time": 1616567062.0098145
         },
         {
          "cpu_percent": 196.8,
          "cpu_time": 6.26,
          "name": "ReadCsvProjectSpace_2",
          "real_mem": 458813440,
          "time": 1616567062.031938
         },
         {
          "cpu_percent": 197.3,
          "cpu_time": 6.3,
          "name": "SelectData_1",
          "real_mem": 460468224,
          "time": 1616567062.054538
         },
         {
          "cpu_percent": 196.9,
          "cpu_time": 6.35,
          "name": "RenameCol_1",
          "real_mem": 460890112,
          "time": 1616567062.0765393
         },
         {
          "cpu_percent": 197.2,
          "cpu_time": 6.3999999999999995,
          "name": "SelectData_2",
          "real_mem": 461320192,
          "time": 1616567062.1088257
         },
         {
          "cpu_percent": 197.1,
          "cpu_time": 6.45,
          "name": "ConcatData_1",
          "real_mem": 461750272,
          "time": 1616567062.1310706
         },
         {
          "cpu_percent": 197,
          "cpu_time": 6.49,
          "name": "ReadCsvProjectSpace_1",
          "real_mem": 465907712,
          "time": 1616567062.1531699
         },
         {
          "cpu_percent": 131.2,
          "cpu_time": 6.55,
          "name": "ReadCsvProjectSpace_2",
          "real_mem": 466415616,
          "time": 1616567062.1878817
         },
         {
          "cpu_percent": 293,
          "cpu_time": 6.62,
          "name": "SelectData_1",
          "real_mem": 467243008,
          "time": 1616567062.2099028
         },
         {
          "cpu_percent": 193.2,
          "cpu_time": 6.6899999999999995,
          "name": "RenameCol_1",
          "real_mem": 467685376,
          "time": 1616567062.2318304
         },
         {
          "cpu_percent": 196.5,
          "cpu_time": 6.8,
          "name": "ConcatData_1",
          "real_mem": 468877312,
          "time": 1616567062.3113291
         },
         {
          "cpu_percent": 196.4,
          "cpu_time": 6.75,
          "name": "SelectData_2",
          "real_mem": 468058112,
          "time": 1616567062.2542198
         },
         {
          "cpu_percent": 197.2,
          "cpu_time": 6.8500000000000005,
          "name": "ReadCsvProjectSpace_1",
          "real_mem": 469934080,
          "time": 1616567062.3338616
         },
         {
          "cpu_percent": 296.1,
          "cpu_time": 6.9,
          "name": "ReadCsvProjectSpace_2",
          "real_mem": 471273472,
          "time": 1616567062.3553653
         },
         {
          "cpu_percent": 196.8,
          "cpu_time": 6.94,
          "name": "SelectData_1",
          "real_mem": 472182784,
          "time": 1616567062.3773127
         },
         {
          "cpu_percent": 295.8,
          "cpu_time": 7,
          "name": "RenameCol_1",
          "real_mem": 472444928,
          "time": 1616567062.4092991
         },
         {
          "cpu_percent": 197.2,
          "cpu_time": 7.05,
          "name": "SelectData_2",
          "real_mem": 473227264,
          "time": 1616567062.430866
         },
         {
          "cpu_percent": 197.2,
          "cpu_time": 7.09,
          "name": "ConcatData_1",
          "real_mem": 473624576,
          "time": 1616567062.4528797
         },
         {
          "cpu_percent": 98.4,
          "cpu_time": 7.13,
          "name": "ReadCsvProjectSpace_1",
          "real_mem": 476262400,
          "time": 1616567062.4748716
         },
         {
          "cpu_percent": 196.9,
          "cpu_time": 7.18,
          "name": "ReadCsvProjectSpace_2",
          "real_mem": 477765632,
          "time": 1616567062.5094607
         },
         {
          "cpu_percent": 195.3,
          "cpu_time": 7.22,
          "name": "SelectData_1",
          "real_mem": 478412800,
          "time": 1616567062.5315924
         },
         {
          "cpu_percent": 98.7,
          "cpu_time": 7.25,
          "name": "RenameCol_1",
          "real_mem": 478846976,
          "time": 1616567062.5532098
         },
         {
          "cpu_percent": 197.4,
          "cpu_time": 7.28,
          "name": "SelectData_2",
          "real_mem": 479117312,
          "time": 1616567062.5750966
         },
         {
          "cpu_percent": 295.2,
          "cpu_time": 7.33,
          "name": "ConcatData_1",
          "real_mem": 479272960,
          "time": 1616567062.5968113
         },
         {
          "cpu_percent": 279.2,
          "cpu_time": 7.3999999999999995,
          "name": "ReadCsvProjectSpace_1",
          "real_mem": 479592448,
          "time": 1616567062.6208546
         },
         {
          "cpu_percent": 98.5,
          "cpu_time": 7.71,
          "name": "ReadCsvProjectSpace_2",
          "real_mem": 482746368,
          "time": 1616567062.781588
         },
         {
          "cpu_percent": 295.9,
          "cpu_time": 7.76,
          "name": "SelectData_1",
          "real_mem": 483012608,
          "time": 1616567062.8091524
         },
         {
          "cpu_percent": 197.4,
          "cpu_time": 7.81,
          "name": "RenameCol_1",
          "real_mem": 485081088,
          "time": 1616567062.8311403
         },
         {
          "cpu_percent": 295.4,
          "cpu_time": 7.880000000000001,
          "name": "SelectData_2",
          "real_mem": 485376000,
          "time": 1616567062.856249
         },
         {
          "cpu_percent": 98.4,
          "cpu_time": 7.91,
          "name": "ConcatData_1",
          "real_mem": 485789696,
          "time": 1616567062.878354
         },
         {
          "cpu_percent": 294.9,
          "cpu_time": 7.96,
          "name": "ReadCsvProjectSpace_1",
          "real_mem": 486686720,
          "time": 1616567062.9093845
         },
         {
          "cpu_percent": 195.3,
          "cpu_time": 8.23,
          "name": "ReadCsvProjectSpace_2",
          "real_mem": 490799104,
          "time": 1616567063.0544162
         },
         {
          "cpu_percent": 196.6,
          "cpu_time": 8.3,
          "name": "SelectData_1",
          "real_mem": 491257856,
          "time": 1616567063.0819402
         },
         {
          "cpu_percent": 196.8,
          "cpu_time": 8.34,
          "name": "RenameCol_1",
          "real_mem": 491872256,
          "time": 1616567063.1095293
         },
         {
          "cpu_percent": 197.1,
          "cpu_time": 8.39,
          "name": "SelectData_2",
          "real_mem": 493010944,
          "time": 1616567063.1318371
         },
         {
          "cpu_percent": 197,
          "cpu_time": 8.44,
          "name": "ConcatData_1",
          "real_mem": 495050752,
          "time": 1616567063.1541643
         },
         {
          "cpu_percent": 98.4,
          "cpu_time": 8.49,
          "name": "ReadCsvProjectSpace_1",
          "real_mem": 496488448,
          "time": 1616567063.1823485
         },
         {
          "cpu_percent": 197.1,
          "cpu_time": 8.76,
          "name": "ReadCsvProjectSpace_2",
          "real_mem": 516235264,
          "time": 1616567063.3266656
         },
         {
          "cpu_percent": 384,
          "cpu_time": 8.84,
          "name": "SelectData_1",
          "real_mem": 517410816,
          "time": 1616567063.3560271
         },
         {
          "cpu_percent": 295.7,
          "cpu_time": 8.91,
          "name": "RenameCol_1",
          "real_mem": 518139904,
          "time": 1616567063.3987036
         },
         {
          "cpu_percent": 197.4,
          "cpu_time": 8.969999999999999,
          "name": "SelectData_2",
          "real_mem": 519733248,
          "time": 1616567063.4209347
         },
         {
          "cpu_percent": 296,
          "cpu_time": 9.02,
          "name": "ConcatData_1",
          "real_mem": 521859072,
          "time": 1616567063.442775
         },
         {
          "cpu_percent": 197.4,
          "cpu_time": 9.059999999999999,
          "name": "ReadCsvProjectSpace_1",
          "real_mem": 524058624,
          "time": 1616567063.4645832
         },
         {
          "cpu_percent": 98.7,
          "cpu_time": 9.229999999999999,
          "name": "ReadCsvProjectSpace_2",
          "real_mem": 528179200,
          "time": 1616567063.5990012
         },
         {
          "cpu_percent": 394.7,
          "cpu_time": 9.32,
          "name": "SelectData_1",
          "real_mem": 531013632,
          "time": 1616567063.6281657
         },
         {
          "cpu_percent": 98.2,
          "cpu_time": 9.41,
          "name": "RenameCol_1",
          "real_mem": 533946368,
          "time": 1616567063.6715934
         },
         {
          "cpu_percent": 294.6,
          "cpu_time": 9.48,
          "name": "SelectData_2",
          "real_mem": 536584192,
          "time": 1616567063.7099655
         },
         {
          "cpu_percent": 296.2,
          "cpu_time": 9.54,
          "name": "ConcatData_1",
          "real_mem": 538259456,
          "time": 1616567063.732313
         },
         {
          "cpu_percent": 196.5,
          "cpu_time": 9.59,
          "name": "ReadCsvProjectSpace_1",
          "real_mem": 540901376,
          "time": 1616567063.7544935
         },
         {
          "cpu_percent": 196.6,
          "cpu_time": 9.81,
          "name": "ReadCsvProjectSpace_2",
          "real_mem": 549273600,
          "time": 1616567063.871955
         },
         {
          "cpu_percent": 196.5,
          "cpu_time": 9.84,
          "name": "SelectData_1",
          "real_mem": 551292928,
          "time": 1616567063.9099472
         },
         {
          "cpu_percent": 197.4,
          "cpu_time": 9.92,
          "name": "RenameCol_1",
          "real_mem": 557780992,
          "time": 1616567063.9442964
         },
         {
          "cpu_percent": 194,
          "cpu_time": 9.97,
          "name": "SelectData_2",
          "real_mem": 578461696,
          "time": 1616567063.9827554
         },
         {
          "cpu_percent": 195,
          "cpu_time": 10,
          "name": "ConcatData_1",
          "real_mem": 578461696,
          "time": 1616567064.0045152
         },
         {
          "cpu_percent": 196.7,
          "cpu_time": 10.040000000000001,
          "name": "ReadCsvProjectSpace_1",
          "real_mem": 580263936,
          "time": 1616567064.0264785
         },
         {
          "cpu_percent": 295.3,
          "cpu_time": 10.31,
          "name": "ReadCsvProjectSpace_2",
          "real_mem": 587767808,
          "time": 1616567064.1450148
         },
         {
          "cpu_percent": 98.4,
          "cpu_time": 10.38,
          "name": "SelectData_1",
          "real_mem": 587825152,
          "time": 1616567064.1825569
         },
         {
          "cpu_percent": 295.4,
          "cpu_time": 10.44,
          "name": "RenameCol_1",
          "real_mem": 588189696,
          "time": 1616567064.2171783
         },
         {
          "cpu_percent": 394.6,
          "cpu_time": 10.540000000000001,
          "name": "SelectData_2",
          "real_mem": 589000704,
          "time": 1616567064.255345
         },
         {
          "cpu_percent": 0,
          "cpu_time": 10.57,
          "name": "ConcatData_1",
          "real_mem": 589594624,
          "time": 1616567064.2773583
         },
         {
          "cpu_percent": 98.8,
          "cpu_time": 10.61,
          "name": "ReadCsvProjectSpace_1",
          "real_mem": 589860864,
          "time": 1616567064.309547
         },
         {
          "cpu_percent": 98.2,
          "cpu_time": 10.8,
          "name": "ReadCsvProjectSpace_2",
          "real_mem": 591454208,
          "time": 1616567064.4184942
         },
         {
          "cpu_percent": 296.1,
          "cpu_time": 10.86,
          "name": "SelectData_1",
          "real_mem": 592867328,
          "time": 1616567064.4554322
         },
         {
          "cpu_percent": 197.3,
          "cpu_time": 10.92,
          "name": "RenameCol_1",
          "real_mem": 594939904,
          "time": 1616567064.490218
         },
         {
          "cpu_percent": 97.6,
          "cpu_time": 10.97,
          "name": "SelectData_2",
          "real_mem": 595935232,
          "time": 1616567064.527555
         },
         {
          "cpu_percent": 197.7,
          "cpu_time": 11,
          "name": "ConcatData_1",
          "real_mem": 596357120,
          "time": 1616567064.549382
         },
         {
          "cpu_percent": 98.5,
          "cpu_time": 11.04,
          "name": "ReadCsvProjectSpace_1",
          "real_mem": 596840448,
          "time": 1616567064.5816493
         },
         {
          "cpu_percent": 98.5,
          "cpu_time": 11.18,
          "name": "ReadCsvProjectSpace_2",
          "real_mem": 599494656,
          "time": 1616567064.6919863
         },
         {
          "cpu_percent": 196.9,
          "cpu_time": 11.24,
          "name": "SelectData_1",
          "real_mem": 600117248,
          "time": 1616567064.7282972
         },
         {
          "cpu_percent": 195,
          "cpu_time": 11.309999999999999,
          "name": "RenameCol_1",
          "real_mem": 600719360,
          "time": 1616567064.7628384
         },
         {
          "cpu_percent": 98.5,
          "cpu_time": 11.34,
          "name": "SelectData_2",
          "real_mem": 601137152,
          "time": 1616567064.800348
         },
         {
          "cpu_percent": 98.5,
          "cpu_time": 11.36,
          "name": "ConcatData_1",
          "real_mem": 601710592,
          "time": 1616567064.8220866
         },
         {
          "cpu_percent": 98.6,
          "cpu_time": 11.4,
          "name": "ReadCsvProjectSpace_1",
          "real_mem": 602132480,
          "time": 1616567064.8547053
         },
         {
          "cpu_percent": 295,
          "cpu_time": 11.639999999999999,
          "name": "ReadCsvProjectSpace_2",
          "real_mem": 603414528,
          "time": 1616567064.9655964
         },
         {
          "cpu_percent": 196.5,
          "cpu_time": 11.709999999999999,
          "name": "SelectData_1",
          "real_mem": 603680768,
          "time": 1616567065.0100265
         },
         {
          "cpu_percent": 98.7,
          "cpu_time": 11.76,
          "name": "RenameCol_1",
          "real_mem": 603734016,
          "time": 1616567065.0353646
         },
         {
          "cpu_percent": 120.8,
          "cpu_time": 11.86,
          "name": "SelectData_2",
          "real_mem": 603992064,
          "time": 1616567065.087942
         },
         {
          "cpu_percent": 295.5,
          "cpu_time": 11.92,
          "name": "ConcatData_1",
          "real_mem": 604688384,
          "time": 1616567065.1103463
         },
         {
          "cpu_percent": 197.2,
          "cpu_time": 11.98,
          "name": "ReadCsvProjectSpace_1",
          "real_mem": 604815360,
          "time": 1616567065.1326895
         },
         {
          "cpu_percent": 197.3,
          "cpu_time": 12.170000000000002,
          "name": "ReadCsvProjectSpace_2",
          "real_mem": 606756864,
          "time": 1616567065.2381384
         },
         {
          "cpu_percent": 294.8,
          "cpu_time": 12.25,
          "name": "SelectData_1",
          "real_mem": 607358976,
          "time": 1616567065.2827783
         },
         {
          "cpu_percent": 197.4,
          "cpu_time": 12.3,
          "name": "RenameCol_1",
          "real_mem": 607715328,
          "time": 1616567065.3083797
         },
         {
          "cpu_percent": 197.3,
          "cpu_time": 12.41,
          "name": "SelectData_2",
          "real_mem": 608653312,
          "time": 1616567065.3606818
         },
         {
          "cpu_percent": 196.9,
          "cpu_time": 12.47,
          "name": "ConcatData_1",
          "real_mem": 608821248,
          "time": 1616567065.3983405
         },
         {
          "cpu_percent": 293.6,
          "cpu_time": 12.530000000000001,
          "name": "ReadCsvProjectSpace_1",
          "real_mem": 609193984,
          "time": 1616567065.4204848
         },
         {
          "cpu_percent": 197.3,
          "cpu_time": 12.680000000000001,
          "name": "ReadCsvProjectSpace_2",
          "real_mem": 610627584,
          "time": 1616567065.5108607
         },
         {
          "cpu_percent": 197.1,
          "cpu_time": 12.770000000000001,
          "name": "SelectData_1",
          "real_mem": 610816000,
          "time": 1616567065.5551121
         },
         {
          "cpu_percent": 98.5,
          "cpu_time": 12.83,
          "name": "RenameCol_1",
          "real_mem": 611074048,
          "time": 1616567065.5802794
         },
         {
          "cpu_percent": 196.8,
          "cpu_time": 12.92,
          "name": "SelectData_2",
          "real_mem": 612302848,
          "time": 1616567065.6338854
         },
         {
          "cpu_percent": 296.3,
          "cpu_time": 13.030000000000001,
          "name": "ConcatData_1",
          "real_mem": 613355520,
          "time": 1616567065.6717813
         },
         {
          "cpu_percent": 98,
          "cpu_time": 13.05,
          "name": "ReadCsvProjectSpace_1",
          "real_mem": 613355520,
          "time": 1616567065.693855
         },
         {
          "cpu_percent": 98.4,
          "cpu_time": 13.23,
          "name": "ReadCsvProjectSpace_2",
          "real_mem": 618188800,
          "time": 1616567065.784659
         },
         {
          "cpu_percent": 295.9,
          "cpu_time": 13.32,
          "name": "SelectData_1",
          "real_mem": 618352640,
          "time": 1616567065.82791
         },
         {
          "cpu_percent": 295.1,
          "cpu_time": 13.38,
          "name": "RenameCol_1",
          "real_mem": 618549248,
          "time": 1616567065.8528636
         },
         {
          "cpu_percent": 296.7,
          "cpu_time": 13.47,
          "name": "SelectData_2",
          "real_mem": 618688512,
          "time": 1616567065.9084342
         },
         {
          "cpu_percent": 295.9,
          "cpu_time": 13.59,
          "name": "ConcatData_1",
          "real_mem": 619520000,
          "time": 1616567065.9450078
         },
         {
          "cpu_percent": 0,
          "cpu_time": 13.62,
          "name": "ReadCsvProjectSpace_1",
          "real_mem": 619872256,
          "time": 1616567065.966895
         },
         {
          "cpu_percent": 295.8,
          "cpu_time": 13.77,
          "name": "ReadCsvProjectSpace_2",
          "real_mem": 620339200,
          "time": 1616567066.0579891
         },
         {
          "cpu_percent": 295.6,
          "cpu_time": 13.87,
          "name": "SelectData_1",
          "real_mem": 623972352,
          "time": 1616567066.1085675
         },
         {
          "cpu_percent": 294.9,
          "cpu_time": 13.93,
          "name": "RenameCol_1",
          "real_mem": 636227584,
          "time": 1616567066.1304576
         },
         {
          "cpu_percent": 197.5,
          "cpu_time": 14.07,
          "name": "SelectData_2",
          "real_mem": 645529600,
          "time": 1616567066.2086902
         },
         {
          "cpu_percent": 295,
          "cpu_time": 14.15,
          "name": "ConcatData_1",
          "real_mem": 646103040,
          "time": 1616567066.230747
         },
         {
          "cpu_percent": 98.8,
          "cpu_time": 14.18,
          "name": "ReadCsvProjectSpace_1",
          "real_mem": 646492160,
          "time": 1616567066.2526784
         },
         {
          "cpu_percent": 295.7,
          "cpu_time": 14.31,
          "name": "ReadCsvProjectSpace_2",
          "real_mem": 647323648,
          "time": 1616567066.3302372
         },
         {
          "cpu_percent": 294.8,
          "cpu_time": 14.43,
          "name": "SelectData_1",
          "real_mem": 647536640,
          "time": 1616567066.3984284
         },
         {
          "cpu_percent": 393.8,
          "cpu_time": 14.5,
          "name": "RenameCol_1",
          "real_mem": 647667712,
          "time": 1616567066.4202769
         },
         {
          "cpu_percent": 0,
          "cpu_time": 14.6,
          "name": "SelectData_2",
          "real_mem": 656384000,
          "time": 1616567066.4808679
         },
         {
          "cpu_percent": 197.6,
          "cpu_time": 14.639999999999999,
          "name": "ConcatData_1",
          "real_mem": 674349056,
          "time": 1616567066.5094926
         },
         {
          "cpu_percent": 294.5,
          "cpu_time": 14.68,
          "name": "ReadCsvProjectSpace_1",
          "real_mem": 687865856,
          "time": 1616567066.5320766
         },
         {
          "cpu_percent": 296.2,
          "cpu_time": 14.84,
          "name": "ReadCsvProjectSpace_2",
          "real_mem": 688480256,
          "time": 1616567066.6026106
         },
         {
          "cpu_percent": 73.5,
          "cpu_time": 14.99,
          "name": "SelectData_1",
          "real_mem": 696418304,
          "time": 1616567066.6878784
         },
         {
          "cpu_percent": 295.2,
          "cpu_time": 15.04,
          "name": "RenameCol_1",
          "real_mem": 698458112,
          "time": 1616567066.71183
         },
         {
          "cpu_percent": 98.4,
          "cpu_time": 15.1,
          "name": "SelectData_2",
          "real_mem": 699355136,
          "time": 1616567066.7534246
         },
         {
          "cpu_percent": 196.9,
          "cpu_time": 15.139999999999999,
          "name": "ConcatData_1",
          "real_mem": 700014592,
          "time": 1616567066.781851
         },
         {
          "cpu_percent": 196.5,
          "cpu_time": 15.19,
          "name": "ReadCsvProjectSpace_1",
          "real_mem": 700416000,
          "time": 1616567066.805347
         },
         {
          "cpu_percent": 197.4,
          "cpu_time": 15.360000000000001,
          "name": "ReadCsvProjectSpace_2",
          "real_mem": 702582784,
          "time": 1616567066.8778837
         },
         {
          "cpu_percent": 98.6,
          "cpu_time": 15.440000000000001,
          "name": "SelectData_1",
          "real_mem": 703299584,
          "time": 1616567066.9598007
         },
         {
          "cpu_percent": 197.2,
          "cpu_time": 15.47,
          "name": "RenameCol_1",
          "real_mem": 703565824,
          "time": 1616567066.984025
         },
         {
          "cpu_percent": 197,
          "cpu_time": 15.530000000000001,
          "name": "SelectData_2",
          "real_mem": 704274432,
          "time": 1616567067.0263507
         },
         {
          "cpu_percent": 197.4,
          "cpu_time": 15.590000000000002,
          "name": "ConcatData_1",
          "real_mem": 704688128,
          "time": 1616567067.0544837
         },
         {
          "cpu_percent": 296,
          "cpu_time": 15.64,
          "name": "ReadCsvProjectSpace_1",
          "real_mem": 705114112,
          "time": 1616567067.0774965
         },
         {
          "cpu_percent": 197.5,
          "cpu_time": 15.760000000000002,
          "name": "ReadCsvProjectSpace_2",
          "real_mem": 706207744,
          "time": 1616567067.1507719
         },
         {
          "cpu_percent": 294.6,
          "cpu_time": 15.97,
          "name": "SelectData_1",
          "real_mem": 707330048,
          "time": 1616567067.2336895
         },
         {
          "cpu_percent": 294.5,
          "cpu_time": 16.04,
          "name": "RenameCol_1",
          "real_mem": 707858432,
          "time": 1616567067.2565255
         },
         {
          "cpu_percent": 197.1,
          "cpu_time": 16.11,
          "name": "SelectData_2",
          "real_mem": 708235264,
          "time": 1616567067.3099809
         },
         {
          "cpu_percent": 196.7,
          "cpu_time": 16.16,
          "name": "ConcatData_1",
          "real_mem": 708485120,
          "time": 1616567067.331862
         },
         {
          "cpu_percent": 197,
          "cpu_time": 16.22,
          "name": "ReadCsvProjectSpace_1",
          "real_mem": 708829184,
          "time": 1616567067.3542273
         },
         {
          "cpu_percent": 197.4,
          "cpu_time": 16.31,
          "name": "ReadCsvProjectSpace_2",
          "real_mem": 709300224,
          "time": 1616567067.422696
         },
         {
          "cpu_percent": 196.9,
          "cpu_time": 16.48,
          "name": "SelectData_1",
          "real_mem": 710647808,
          "time": 1616567067.5060658
         },
         {
          "cpu_percent": 98.7,
          "cpu_time": 16.52,
          "name": "RenameCol_1",
          "real_mem": 710955008,
          "time": 1616567067.5291898
         },
         {
          "cpu_percent": 296.2,
          "cpu_time": 16.61,
          "name": "SelectData_2",
          "real_mem": 711528448,
          "time": 1616567067.582531
         },
         {
          "cpu_percent": 98,
          "cpu_time": 16.64,
          "name": "ConcatData_1",
          "real_mem": 711811072,
          "time": 1616567067.6043608
         },
         {
          "cpu_percent": 98.5,
          "cpu_time": 16.689999999999998,
          "name": "ReadCsvProjectSpace_1",
          "real_mem": 712077312,
          "time": 1616567067.6265984
         },
         {
          "cpu_percent": 197.4,
          "cpu_time": 16.84,
          "name": "ReadCsvProjectSpace_2",
          "real_mem": 713637888,
          "time": 1616567067.6951826
         },
         {
          "cpu_percent": 0,
          "cpu_time": 17.02,
          "name": "SelectData_1",
          "real_mem": 714506240,
          "time": 1616567067.7786634
         },
         {
          "cpu_percent": 197.5,
          "cpu_time": 17.060000000000002,
          "name": "RenameCol_1",
          "real_mem": 714874880,
          "time": 1616567067.8092248
         },
         {
          "cpu_percent": 196.1,
          "cpu_time": 17.16,
          "name": "SelectData_2",
          "real_mem": 716492800,
          "time": 1616567067.855483
         },
         {
          "cpu_percent": 96.6,
          "cpu_time": 17.220000000000002,
          "name": "ConcatData_1",
          "real_mem": 716767232,
          "time": 1616567067.8879404
         },
         {
          "cpu_percent": 196.6,
          "cpu_time": 17.25,
          "name": "ReadCsvProjectSpace_1",
          "real_mem": 717045760,
          "time": 1616567067.9100983
         },
         {
          "cpu_percent": 0,
          "cpu_time": 17.400000000000002,
          "name": "ReadCsvProjectSpace_2",
          "real_mem": 718565376,
          "time": 1616567067.9673722
         },
         {
          "cpu_percent": 294.1,
          "cpu_time": 17.59,
          "name": "SelectData_1",
          "real_mem": 720592896,
          "time": 1616567068.0512888
         },
         {
          "cpu_percent": 295,
          "cpu_time": 17.66,
          "name": "RenameCol_1",
          "real_mem": 720797696,
          "time": 1616567068.108697
         },
         {
          "cpu_percent": 196.7,
          "cpu_time": 17.71,
          "name": "SelectData_2",
          "real_mem": 721113088,
          "time": 1616567068.130461
         },
         {
          "cpu_percent": 98.4,
          "cpu_time": 17.74,
          "name": "ConcatData_1",
          "real_mem": 721805312,
          "time": 1616567068.1609652
         },
         {
          "cpu_percent": 196.5,
          "cpu_time": 17.79,
          "name": "ReadCsvProjectSpace_1",
          "real_mem": 722124800,
          "time": 1616567068.1828704
         },
         {
          "cpu_percent": 196.7,
          "cpu_time": 17.94,
          "name": "ReadCsvProjectSpace_2",
          "real_mem": 723087360,
          "time": 1616567068.2404516
         },
         {
          "cpu_percent": 295.4,
          "cpu_time": 18.12,
          "name": "SelectData_1",
          "real_mem": 723800064,
          "time": 1616567068.323957
         },
         {
          "cpu_percent": 294.6,
          "cpu_time": 18.27,
          "name": "RenameCol_1",
          "real_mem": 724766720,
          "time": 1616567068.410091
         },
         {
          "cpu_percent": 197.1,
          "cpu_time": 18.33,
          "name": "SelectData_2",
          "real_mem": 730112000,
          "time": 1616567068.4320087
         },
         {
          "cpu_percent": 98.4,
          "cpu_time": 18.38,
          "name": "ConcatData_1",
          "real_mem": 744181760,
          "time": 1616567068.4547517
         },
         {
          "cpu_percent": 196.4,
          "cpu_time": 18.48,
          "name": "ReadCsvProjectSpace_2",
          "real_mem": 745144320,
          "time": 1616567068.5204484
         },
         {
          "cpu_percent": 294.9,
          "cpu_time": 18.43,
          "name": "ReadCsvProjectSpace_1",
          "real_mem": 745005056,
          "time": 1616567068.4984608
         },
         {
          "cpu_percent": 196.7,
          "cpu_time": 18.59,
          "name": "SelectData_1",
          "real_mem": 745144320,
          "time": 1616567068.5973172
         },
         {
          "cpu_percent": 0,
          "cpu_time": 18.77,
          "name": "RenameCol_1",
          "real_mem": 745263104,
          "time": 1616567068.682775
         },
         {
          "cpu_percent": 294.4,
          "cpu_time": 18.830000000000002,
          "name": "SelectData_2",
          "real_mem": 745263104,
          "time": 1616567068.70957
         },
         {
          "cpu_percent": 294.7,
          "cpu_time": 18.900000000000002,
          "name": "ConcatData_1",
          "real_mem": 745656320,
          "time": 1616567068.731688
         },
         {
          "cpu_percent": 295.9,
          "cpu_time": 19.029999999999998,
          "name": "ReadCsvProjectSpace_1",
          "real_mem": 746061824,
          "time": 1616567068.809695
         },
         {
          "cpu_percent": 295.2,
          "cpu_time": 19.099999999999998,
          "name": "ReadCsvProjectSpace_2",
          "real_mem": 746061824,
          "time": 1616567068.831404
         },
         {
          "cpu_percent": 195.9,
          "cpu_time": 19.22,
          "name": "SelectData_1",
          "real_mem": 746606592,
          "time": 1616567068.908891
         },
         {
          "cpu_percent": 196.6,
          "cpu_time": 19.349999999999998,
          "name": "RenameCol_1",
          "real_mem": 748400640,
          "time": 1616567068.9553998
         },
         {
          "cpu_percent": 295.2,
          "cpu_time": 19.41,
          "name": "SelectData_2",
          "real_mem": 748666880,
          "time": 1616567069.0097587
         },
         {
          "cpu_percent": 297,
          "cpu_time": 19.47,
          "name": "ConcatData_1",
          "real_mem": 748969984,
          "time": 1616567069.0313818
         },
         {
          "cpu_percent": 98.3,
          "cpu_time": 19.549999999999997,
          "name": "ReadCsvProjectSpace_1",
          "real_mem": 748969984,
          "time": 1616567069.0983925
         },
         {
          "cpu_percent": 196,
          "cpu_time": 19.6,
          "name": "ReadCsvProjectSpace_2",
          "real_mem": 749260800,
          "time": 1616567069.1210985
         },
         {
          "cpu_percent": 392.7,
          "cpu_time": 19.78,
          "name": "SelectData_1",
          "real_mem": 750669824,
          "time": 1616567069.1985705
         },
         {
          "cpu_percent": 295.1,
          "cpu_time": 19.869999999999997,
          "name": "RenameCol_1",
          "real_mem": 751198208,
          "time": 1616567069.2279303
         },
         {
          "cpu_percent": 295,
          "cpu_time": 20.009999999999998,
          "name": "SelectData_2",
          "real_mem": 751693824,
          "time": 1616567069.3098452
         },
         {
          "cpu_percent": 295.5,
          "cpu_time": 20.08,
          "name": "ConcatData_1",
          "real_mem": 751693824,
          "time": 1616567069.3317168
         },
         {
          "cpu_percent": 393.2,
          "cpu_time": 20.169999999999998,
          "name": "ReadCsvProjectSpace_1",
          "real_mem": 770072576,
          "time": 1616567069.398424
         },
         {
          "cpu_percent": 295.3,
          "cpu_time": 20.229999999999997,
          "name": "ReadCsvProjectSpace_2",
          "real_mem": 786706432,
          "time": 1616567069.4204106
         },
         {
          "cpu_percent": 295.1,
          "cpu_time": 20.38,
          "name": "SelectData_1",
          "real_mem": 787128320,
          "time": 1616567069.5091097
         },
         {
          "cpu_percent": 295.9,
          "cpu_time": 20.45,
          "name": "RenameCol_1",
          "real_mem": 787398656,
          "time": 1616567069.531215
         },
         {
          "cpu_percent": 294.8,
          "cpu_time": 20.56,
          "name": "SelectData_2",
          "real_mem": 789721088,
          "time": 1616567069.6015334
         },
         {
          "cpu_percent": 197,
          "cpu_time": 20.64,
          "name": "ConcatData_1",
          "real_mem": 795119616,
          "time": 1616567069.623831
         },
         {
          "cpu_percent": 0,
          "cpu_time": 20.73,
          "name": "ReadCsvProjectSpace_1",
          "real_mem": 796782592,
          "time": 1616567069.6703787
         },
         {
          "cpu_percent": 294.4,
          "cpu_time": 20.8,
          "name": "ReadCsvProjectSpace_2",
          "real_mem": 796782592,
          "time": 1616567069.7095897
         },
         {
          "cpu_percent": 99,
          "cpu_time": 20.95,
          "name": "SelectData_1",
          "real_mem": 800342016,
          "time": 1616567069.8093865
         },
         {
          "cpu_percent": 98.6,
          "cpu_time": 21.02,
          "name": "RenameCol_1",
          "real_mem": 803807232,
          "time": 1616567069.857839
         },
         {
          "cpu_percent": 98.6,
          "cpu_time": 21.05,
          "name": "SelectData_2",
          "real_mem": 804093952,
          "time": 1616567069.880786
         },
         {
          "cpu_percent": 98.1,
          "cpu_time": 21.080000000000002,
          "name": "ConcatData_1",
          "real_mem": 804093952,
          "time": 1616567069.9034557
         },
         {
          "cpu_percent": 295.1,
          "cpu_time": 21.5,
          "name": "SelectData_1",
          "real_mem": 804966400,
          "time": 1616567070.1093538
         },
         {
          "cpu_percent": 295.2,
          "cpu_time": 21.57,
          "name": "RenameCol_1",
          "real_mem": 804966400,
          "time": 1616567070.1312172
         },
         {
          "cpu_percent": 196.9,
          "cpu_time": 21.639999999999997,
          "name": "SelectData_2",
          "real_mem": 804966400,
          "time": 1616567070.153789
         },
         {
          "cpu_percent": 392.7,
          "cpu_time": 21.709999999999997,
          "name": "ConcatData_1",
          "real_mem": 804966400,
          "time": 1616567070.2104878
         },
         {
          "cpu_percent": 386.1,
          "cpu_time": 22.11,
          "name": "SelectData_1",
          "real_mem": 805658624,
          "time": 1616567070.4094915
         },
         {
          "cpu_percent": 394.8,
          "cpu_time": 22.3,
          "name": "ConcatData_1",
          "real_mem": 808566784,
          "time": 1616567070.5098622
         },
         {
          "cpu_percent": 295.4,
          "cpu_time": 22.18,
          "name": "RenameCol_1",
          "real_mem": 806289408,
          "time": 1616567070.4313037
         },
         {
          "cpu_percent": 22.2,
          "cpu_time": 22.23,
          "name": "SelectData_2",
          "real_mem": 808452096,
          "time": 1616567070.4878743
         },
         {
          "cpu_percent": 294.1,
          "cpu_time": 23.290000000000003,
          "name": "ConcatData_1",
          "real_mem": 811470848,
          "time": 1616567071.0332708
         }
        ],
        "logs": [
         {
          "asctime": "2021-03-24 06:24:17,730",
          "created": 1616567057.7302122,
          "extra": {},
          "filename": "async_executors.py",
          "funcName": "main",
          "levelname": "DEBUG",
          "lineno": 114,
          "message": "NonSparkCols_1: started async block execution\n",
          "name": "engine.logs:NonSparkCols_1",
          "pathname": "/usr/local/lib/python3.7/dist-packages/razor/flow/async_executors.py",
          "process": 1628,
          "processName": "ForkProcess-1:1",
          "thread": 140067299338048,
          "threadName": "MainThread"
         },
         {
          "asctime": "2021-03-24 06:24:17,746",
          "created": 1616567057.746326,
          "extra": {},
          "filename": "async_executors.py",
          "funcName": "fill_atomic_inputs",
          "levelname": "INFO",
          "lineno": 250,
          "message": "NonSparkCols_1: waiting for atomic input: cols_list",
          "name": "engine.logs:NonSparkCols_1",
          "pathname": "/usr/local/lib/python3.7/dist-packages/razor/flow/async_executors.py",
          "process": 1628,
          "processName": "ForkProcess-1:1",
          "thread": 140067299338048,
          "threadName": "MainThread"
         },
         {
          "asctime": "2021-03-24 06:24:17,746",
          "created": 1616567057.7465286,
          "extra": {},
          "filename": "async_executors.py",
          "funcName": "fill_atomic_inputs",
          "levelname": "DEBUG",
          "lineno": 253,
          "message": "NonSparkCols_1: got atomic input: ['title', 'label']",
          "name": "engine.logs:NonSparkCols_1",
          "pathname": "/usr/local/lib/python3.7/dist-packages/razor/flow/async_executors.py",
          "process": 1628,
          "processName": "ForkProcess-1:1",
          "thread": 140067299338048,
          "threadName": "MainThread"
         },
         {
          "asctime": "2021-03-24 06:24:17,746",
          "created": 1616567057.7465906,
          "extra": {},
          "filename": "async_executors.py",
          "funcName": "main",
          "levelname": "DEBUG",
          "lineno": 130,
          "message": "NonSparkCols_1: triggering block run",
          "name": "engine.logs:NonSparkCols_1",
          "pathname": "/usr/local/lib/python3.7/dist-packages/razor/flow/async_executors.py",
          "process": 1628,
          "processName": "ForkProcess-1:1",
          "thread": 140067299338048,
          "threadName": "MainThread"
         },
         {
          "asctime": "2021-03-24 06:24:17,748",
          "created": 1616567057.748936,
          "extra": {},
          "filename": "async_executors.py",
          "funcName": "distribute_output_queue",
          "levelname": "DEBUG",
          "lineno": 308,
          "message": "NonSparkCols_1: ---- dist output: ['title', 'label'] -> ('SelectData_1', 'wanted_cols')",
          "name": "engine.logs:NonSparkCols_1",
          "pathname": "/usr/local/lib/python3.7/dist-packages/razor/flow/async_executors.py",
          "process": 1628,
          "processName": "ForkProcess-1:1",
          "thread": 140067299338048,
          "threadName": "MainThread"
         },
         {
          "asctime": "2021-03-24 06:24:17,738",
          "created": 1616567057.7385857,
          "extra": {},
          "filename": "async_executors.py",
          "funcName": "main",
          "levelname": "DEBUG",
          "lineno": 114,
          "message": "NonSparkPath_1: started async block execution\n",
          "name": "engine.logs:NonSparkPath_1",
          "pathname": "/usr/local/lib/python3.7/dist-packages/razor/flow/async_executors.py",
          "process": 1631,
          "processName": "ForkProcess-1:2",
          "thread": 140067299338048,
          "threadName": "MainThread"
         },
         {
          "asctime": "2021-03-24 06:24:17,749",
          "created": 1616567057.7493868,
          "extra": {},
          "filename": "async_executors.py",
          "funcName": "main",
          "levelname": "DEBUG",
          "lineno": 147,
          "message": "NonSparkCols_1: block thread completed",
          "name": "engine.logs:NonSparkCols_1",
          "pathname": "/usr/local/lib/python3.7/dist-packages/razor/flow/async_executors.py",
          "process": 1628,
          "processName": "ForkProcess-1:1",
          "thread": 140067299338048,
          "threadName": "MainThread"
         },
         {
          "asctime": "2021-03-24 06:24:17,749",
          "created": 1616567057.7494843,
          "extra": {},
          "filename": "async_executors.py",
          "funcName": "main",
          "levelname": "DEBUG",
          "lineno": 149,
          "message": "NonSparkCols_1: block execution complete",
          "name": "engine.logs:NonSparkCols_1",
          "pathname": "/usr/local/lib/python3.7/dist-packages/razor/flow/async_executors.py",
          "process": 1628,
          "processName": "ForkProcess-1:1",
          "thread": 140067299338048,
          "threadName": "MainThread"
         },
         {
          "asctime": "2021-03-24 06:24:17,749",
          "created": 1616567057.7497287,
          "extra": {},
          "filename": "async_executors.py",
          "funcName": "distribute_output_queue",
          "levelname": "DEBUG",
          "lineno": 308,
          "message": "NonSparkCols_1: ---- dist output: b'__!\\tEndOfStream\\t!__' -> ('SelectData_1', 'wanted_cols')",
          "name": "engine.logs:NonSparkCols_1",
          "pathname": "/usr/local/lib/python3.7/dist-packages/razor/flow/async_executors.py",
          "process": 1628,
          "processName": "ForkProcess-1:1",
          "thread": 140067299338048,
          "threadName": "MainThread"
         },
         {
          "asctime": "2021-03-24 06:24:17,754",
          "created": 1616567057.7546942,
          "extra": {},
          "filename": "async_executors.py",
          "funcName": "fill_atomic_inputs",
          "levelname": "INFO",
          "lineno": 250,
          "message": "NonSparkPath_1: waiting for atomic input: ip_path",
          "name": "engine.logs:NonSparkPath_1",
          "pathname": "/usr/local/lib/python3.7/dist-packages/razor/flow/async_executors.py",
          "process": 1631,
          "processName": "ForkProcess-1:2",
          "thread": 140067299338048,
          "threadName": "MainThread"
         },
         {
          "asctime": "2021-03-24 06:24:17,754",
          "created": 1616567057.7548316,
          "extra": {},
          "filename": "async_executors.py",
          "funcName": "fill_atomic_inputs",
          "levelname": "DEBUG",
          "lineno": 253,
          "message": "NonSparkPath_1: got atomic input: df_with_stats.csv",
          "name": "engine.logs:NonSparkPath_1",
          "pathname": "/usr/local/lib/python3.7/dist-packages/razor/flow/async_executors.py",
          "process": 1631,
          "processName": "ForkProcess-1:2",
          "thread": 140067299338048,
          "threadName": "MainThread"
         },
         {
          "asctime": "2021-03-24 06:24:17,754",
          "created": 1616567057.7548947,
          "extra": {},
          "filename": "async_executors.py",
          "funcName": "main",
          "levelname": "DEBUG",
          "lineno": 130,
          "message": "NonSparkPath_1: triggering block run",
          "name": "engine.logs:NonSparkPath_1",
          "pathname": "/usr/local/lib/python3.7/dist-packages/razor/flow/async_executors.py",
          "process": 1631,
          "processName": "ForkProcess-1:2",
          "thread": 140067299338048,
          "threadName": "MainThread"
         },
         {
          "asctime": "2021-03-24 06:24:17,747",
          "created": 1616567057.7475264,
          "extra": {},
          "filename": "async_executors.py",
          "funcName": "main",
          "levelname": "DEBUG",
          "lineno": 114,
          "message": "NonSparkCols_2: started async block execution\n",
          "name": "engine.logs:NonSparkCols_2",
          "pathname": "/usr/local/lib/python3.7/dist-packages/razor/flow/async_executors.py",
          "process": 1638,
          "processName": "ForkProcess-1:3",
          "thread": 140067299338048,
          "threadName": "MainThread"
         },
         {
          "asctime": "2021-03-24 06:24:17,764",
          "created": 1616567057.7642164,
          "extra": {},
          "filename": "async_executors.py",
          "funcName": "fill_atomic_inputs",
          "levelname": "INFO",
          "lineno": 250,
          "message": "NonSparkCols_2: waiting for atomic input: cols_list",
          "name": "engine.logs:NonSparkCols_2",
          "pathname": "/usr/local/lib/python3.7/dist-packages/razor/flow/async_executors.py",
          "process": 1638,
          "processName": "ForkProcess-1:3",
          "thread": 140067299338048,
          "threadName": "MainThread"
         },
         {
          "asctime": "2021-03-24 06:24:17,764",
          "created": 1616567057.7644827,
          "extra": {},
          "filename": "async_executors.py",
          "funcName": "fill_atomic_inputs",
          "levelname": "DEBUG",
          "lineno": 253,
          "message": "NonSparkCols_2: got atomic input: ['tweet', 'class']",
          "name": "engine.logs:NonSparkCols_2",
          "pathname": "/usr/local/lib/python3.7/dist-packages/razor/flow/async_executors.py",
          "process": 1638,
          "processName": "ForkProcess-1:3",
          "thread": 140067299338048,
          "threadName": "MainThread"
         },
         {
          "asctime": "2021-03-24 06:24:17,764",
          "created": 1616567057.76455,
          "extra": {},
          "filename": "async_executors.py",
          "funcName": "main",
          "levelname": "DEBUG",
          "lineno": 130,
          "message": "NonSparkCols_2: triggering block run",
          "name": "engine.logs:NonSparkCols_2",
          "pathname": "/usr/local/lib/python3.7/dist-packages/razor/flow/async_executors.py",
          "process": 1638,
          "processName": "ForkProcess-1:3",
          "thread": 140067299338048,
          "threadName": "MainThread"
         },
         {
          "asctime": "2021-03-24 06:24:17,766",
          "created": 1616567057.7666056,
          "extra": {},
          "filename": "async_executors.py",
          "funcName": "distribute_output_queue",
          "levelname": "DEBUG",
          "lineno": 308,
          "message": "NonSparkCols_2: ---- dist output: ['tweet', 'class'] -> ('SelectData_2', 'wanted_cols')",
          "name": "engine.logs:NonSparkCols_2",
          "pathname": "/usr/local/lib/python3.7/dist-packages/razor/flow/async_executors.py",
          "process": 1638,
          "processName": "ForkProcess-1:3",
          "thread": 140067299338048,
          "threadName": "MainThread"
         },
         {
          "asctime": "2021-03-24 06:24:17,756",
          "created": 1616567057.7563612,
          "extra": {},
          "filename": "async_executors.py",
          "funcName": "main",
          "levelname": "DEBUG",
          "lineno": 114,
          "message": "NonSparkPath_2: started async block execution\n",
          "name": "engine.logs:NonSparkPath_2",
          "pathname": "/usr/local/lib/python3.7/dist-packages/razor/flow/async_executors.py",
          "process": 1642,
          "processName": "ForkProcess-1:4",
          "thread": 140067299338048,
          "threadName": "MainThread"
         },
         {
          "asctime": "2021-03-24 06:24:17,766",
          "created": 1616567057.766949,
          "extra": {},
          "filename": "async_executors.py",
          "funcName": "main",
          "levelname": "DEBUG",
          "lineno": 147,
          "message": "NonSparkCols_2: block thread completed",
          "name": "engine.logs:NonSparkCols_2",
          "pathname": "/usr/local/lib/python3.7/dist-packages/razor/flow/async_executors.py",
          "process": 1638,
          "processName": "ForkProcess-1:3",
          "thread": 140067299338048,
          "threadName": "MainThread"
         },
         {
          "asctime": "2021-03-24 06:24:17,767",
          "created": 1616567057.7670438,
          "extra": {},
          "filename": "async_executors.py",
          "funcName": "main",
          "levelname": "DEBUG",
          "lineno": 149,
          "message": "NonSparkCols_2: block execution complete",
          "name": "engine.logs:NonSparkCols_2",
          "pathname": "/usr/local/lib/python3.7/dist-packages/razor/flow/async_executors.py",
          "process": 1638,
          "processName": "ForkProcess-1:3",
          "thread": 140067299338048,
          "threadName": "MainThread"
         },
         {
          "asctime": "2021-03-24 06:24:17,767",
          "created": 1616567057.7674084,
          "extra": {},
          "filename": "async_executors.py",
          "funcName": "distribute_output_queue",
          "levelname": "DEBUG",
          "lineno": 308,
          "message": "NonSparkCols_2: ---- dist output: b'__!\\tEndOfStream\\t!__' -> ('SelectData_2', 'wanted_cols')",
          "name": "engine.logs:NonSparkCols_2",
          "pathname": "/usr/local/lib/python3.7/dist-packages/razor/flow/async_executors.py",
          "process": 1638,
          "processName": "ForkProcess-1:3",
          "thread": 140067299338048,
          "threadName": "MainThread"
         },
         {
          "asctime": "2021-03-24 06:24:17,772",
          "created": 1616567057.7725658,
          "extra": {},
          "filename": "async_executors.py",
          "funcName": "fill_atomic_inputs",
          "levelname": "INFO",
          "lineno": 250,
          "message": "NonSparkPath_2: waiting for atomic input: ip_path",
          "name": "engine.logs:NonSparkPath_2",
          "pathname": "/usr/local/lib/python3.7/dist-packages/razor/flow/async_executors.py",
          "process": 1642,
          "processName": "ForkProcess-1:4",
          "thread": 140067299338048,
          "threadName": "MainThread"
         },
         {
          "asctime": "2021-03-24 06:24:17,772",
          "created": 1616567057.7727299,
          "extra": {},
          "filename": "async_executors.py",
          "funcName": "fill_atomic_inputs",
          "levelname": "DEBUG",
          "lineno": 253,
          "message": "NonSparkPath_2: got atomic input: train_hatespeech.csv",
          "name": "engine.logs:NonSparkPath_2",
          "pathname": "/usr/local/lib/python3.7/dist-packages/razor/flow/async_executors.py",
          "process": 1642,
          "processName": "ForkProcess-1:4",
          "thread": 140067299338048,
          "threadName": "MainThread"
         },
         {
          "asctime": "2021-03-24 06:24:17,772",
          "created": 1616567057.7728145,
          "extra": {},
          "filename": "async_executors.py",
          "funcName": "main",
          "levelname": "DEBUG",
          "lineno": 130,
          "message": "NonSparkPath_2: triggering block run",
          "name": "engine.logs:NonSparkPath_2",
          "pathname": "/usr/local/lib/python3.7/dist-packages/razor/flow/async_executors.py",
          "process": 1642,
          "processName": "ForkProcess-1:4",
          "thread": 140067299338048,
          "threadName": "MainThread"
         },
         {
          "asctime": "2021-03-24 06:24:18,005",
          "created": 1616567058.0054648,
          "extra": {},
          "filename": "async_executors.py",
          "funcName": "distribute_output_queue",
          "levelname": "DEBUG",
          "lineno": 308,
          "message": "NonSparkPath_2: ---- dist output: /home/aios/projectspace/train_hatespeech.csv -> ('ReadCsvProjectSpace_2', 'filename')",
          "name": "engine.logs:NonSparkPath_2",
          "pathname": "/usr/local/lib/python3.7/dist-packages/razor/flow/async_executors.py",
          "process": 1642,
          "processName": "ForkProcess-1:4",
          "thread": 140067299338048,
          "threadName": "MainThread"
         },
         {
          "asctime": "2021-03-24 06:24:18,005",
          "created": 1616567058.0057278,
          "extra": {},
          "filename": "async_executors.py",
          "funcName": "main",
          "levelname": "DEBUG",
          "lineno": 147,
          "message": "NonSparkPath_2: block thread completed",
          "name": "engine.logs:NonSparkPath_2",
          "pathname": "/usr/local/lib/python3.7/dist-packages/razor/flow/async_executors.py",
          "process": 1642,
          "processName": "ForkProcess-1:4",
          "thread": 140067299338048,
          "threadName": "MainThread"
         },
         {
          "asctime": "2021-03-24 06:24:18,005",
          "created": 1616567058.0058029,
          "extra": {},
          "filename": "async_executors.py",
          "funcName": "main",
          "levelname": "DEBUG",
          "lineno": 149,
          "message": "NonSparkPath_2: block execution complete",
          "name": "engine.logs:NonSparkPath_2",
          "pathname": "/usr/local/lib/python3.7/dist-packages/razor/flow/async_executors.py",
          "process": 1642,
          "processName": "ForkProcess-1:4",
          "thread": 140067299338048,
          "threadName": "MainThread"
         },
         {
          "asctime": "2021-03-24 06:24:18,007",
          "created": 1616567058.0075576,
          "extra": {},
          "filename": "async_executors.py",
          "funcName": "distribute_output_queue",
          "levelname": "DEBUG",
          "lineno": 308,
          "message": "NonSparkPath_1: ---- dist output: /home/aios/projectspace/df_with_stats.csv -> ('ReadCsvProjectSpace_1', 'filename')",
          "name": "engine.logs:NonSparkPath_1",
          "pathname": "/usr/local/lib/python3.7/dist-packages/razor/flow/async_executors.py",
          "process": 1631,
          "processName": "ForkProcess-1:2",
          "thread": 140067299338048,
          "threadName": "MainThread"
         },
         {
          "asctime": "2021-03-24 06:24:18,007",
          "created": 1616567058.007805,
          "extra": {},
          "filename": "async_executors.py",
          "funcName": "main",
          "levelname": "DEBUG",
          "lineno": 147,
          "message": "NonSparkPath_1: block thread completed",
          "name": "engine.logs:NonSparkPath_1",
          "pathname": "/usr/local/lib/python3.7/dist-packages/razor/flow/async_executors.py",
          "process": 1631,
          "processName": "ForkProcess-1:2",
          "thread": 140067299338048,
          "threadName": "MainThread"
         },
         {
          "asctime": "2021-03-24 06:24:18,005",
          "created": 1616567058.0059066,
          "extra": {},
          "filename": "async_executors.py",
          "funcName": "distribute_output_queue",
          "levelname": "DEBUG",
          "lineno": 308,
          "message": "NonSparkPath_2: ---- dist output: b'__!\\tEndOfStream\\t!__' -> ('ReadCsvProjectSpace_2', 'filename')",
          "name": "engine.logs:NonSparkPath_2",
          "pathname": "/usr/local/lib/python3.7/dist-packages/razor/flow/async_executors.py",
          "process": 1642,
          "processName": "ForkProcess-1:4",
          "thread": 140067299338048,
          "threadName": "MainThread"
         },
         {
          "asctime": "2021-03-24 06:24:18,007",
          "created": 1616567058.0078824,
          "extra": {},
          "filename": "async_executors.py",
          "funcName": "main",
          "levelname": "DEBUG",
          "lineno": 149,
          "message": "NonSparkPath_1: block execution complete",
          "name": "engine.logs:NonSparkPath_1",
          "pathname": "/usr/local/lib/python3.7/dist-packages/razor/flow/async_executors.py",
          "process": 1631,
          "processName": "ForkProcess-1:2",
          "thread": 140067299338048,
          "threadName": "MainThread"
         },
         {
          "asctime": "2021-03-24 06:24:18,007",
          "created": 1616567058.0079849,
          "extra": {},
          "filename": "async_executors.py",
          "funcName": "distribute_output_queue",
          "levelname": "DEBUG",
          "lineno": 308,
          "message": "NonSparkPath_1: ---- dist output: b'__!\\tEndOfStream\\t!__' -> ('ReadCsvProjectSpace_1', 'filename')",
          "name": "engine.logs:NonSparkPath_1",
          "pathname": "/usr/local/lib/python3.7/dist-packages/razor/flow/async_executors.py",
          "process": 1631,
          "processName": "ForkProcess-1:2",
          "thread": 140067299338048,
          "threadName": "MainThread"
         },
         {
          "asctime": "2021-03-24 06:24:18,025",
          "created": 1616567058.025852,
          "extra": {},
          "filename": "async_executors.py",
          "funcName": "main",
          "levelname": "DEBUG",
          "lineno": 114,
          "message": "ReadCsvProjectSpace_2: started async block execution\n",
          "name": "engine.logs:ReadCsvProjectSpace_2",
          "pathname": "/usr/local/lib/python3.7/dist-packages/razor/flow/async_executors.py",
          "process": 1654,
          "processName": "ForkProcess-1:5",
          "thread": 140067299338048,
          "threadName": "MainThread"
         },
         {
          "asctime": "2021-03-24 06:24:18,029",
          "created": 1616567058.029646,
          "extra": {},
          "filename": "async_executors.py",
          "funcName": "main",
          "levelname": "DEBUG",
          "lineno": 114,
          "message": "SelectData_1: started async block execution\n",
          "name": "engine.logs:SelectData_1",
          "pathname": "/usr/local/lib/python3.7/dist-packages/razor/flow/async_executors.py",
          "process": 1654,
          "processName": "ForkProcess-1:5",
          "thread": 140067299338048,
          "threadName": "MainThread"
         },
         {
          "asctime": "2021-03-24 06:24:18,030",
          "created": 1616567058.030109,
          "extra": {},
          "filename": "async_executors.py",
          "funcName": "main",
          "levelname": "DEBUG",
          "lineno": 114,
          "message": "RenameCol_1: started async block execution\n",
          "name": "engine.logs:RenameCol_1",
          "pathname": "/usr/local/lib/python3.7/dist-packages/razor/flow/async_executors.py",
          "process": 1654,
          "processName": "ForkProcess-1:5",
          "thread": 140067299338048,
          "threadName": "MainThread"
         },
         {
          "asctime": "2021-03-24 06:24:18,030",
          "created": 1616567058.0304773,
          "extra": {},
          "filename": "async_executors.py",
          "funcName": "main",
          "levelname": "DEBUG",
          "lineno": 114,
          "message": "SelectData_2: started async block execution\n",
          "name": "engine.logs:SelectData_2",
          "pathname": "/usr/local/lib/python3.7/dist-packages/razor/flow/async_executors.py",
          "process": 1654,
          "processName": "ForkProcess-1:5",
          "thread": 140067299338048,
          "threadName": "MainThread"
         },
         {
          "asctime": "2021-03-24 06:24:18,030",
          "created": 1616567058.0308182,
          "extra": {},
          "filename": "async_executors.py",
          "funcName": "main",
          "levelname": "DEBUG",
          "lineno": 114,
          "message": "ConcatData_1: started async block execution\n",
          "name": "engine.logs:ConcatData_1",
          "pathname": "/usr/local/lib/python3.7/dist-packages/razor/flow/async_executors.py",
          "process": 1654,
          "processName": "ForkProcess-1:5",
          "thread": 140067299338048,
          "threadName": "MainThread"
         },
         {
          "asctime": "2021-03-24 06:24:18,193",
          "created": 1616567058.1936765,
          "extra": {},
          "filename": "async_executors.py",
          "funcName": "main",
          "levelname": "DEBUG",
          "lineno": 114,
          "message": "ReadCsvProjectSpace_1: started async block execution\n",
          "name": "engine.logs:ReadCsvProjectSpace_1",
          "pathname": "/usr/local/lib/python3.7/dist-packages/razor/flow/async_executors.py",
          "process": 1654,
          "processName": "ForkProcess-1:5",
          "thread": 140067299338048,
          "threadName": "MainThread"
         },
         {
          "asctime": "2021-03-24 06:24:18,291",
          "created": 1616567058.2912977,
          "extra": {},
          "filename": "async_executors.py",
          "funcName": "start_input_receiver",
          "levelname": "DEBUG",
          "lineno": 173,
          "message": "NonSparkPath_2: received cmd: start_sender, (), {'out_name': 'op_path', 'target': ('ReadCsvProjectSpace_2', 'filename'), 'out_addr': 'tcp://0.0.0.0:51270', 'in_memory': None}",
          "name": "engine.logs:NonSparkPath_2",
          "pathname": "/usr/local/lib/python3.7/dist-packages/razor/flow/async_executors.py",
          "process": 1642,
          "processName": "ForkProcess-1:4",
          "thread": 140067299338048,
          "threadName": "MainThread"
         },
         {
          "asctime": "2021-03-24 06:24:18,291",
          "created": 1616567058.291573,
          "extra": {},
          "filename": "async_executors.py",
          "funcName": "start_output_sender",
          "levelname": "DEBUG",
          "lineno": 370,
          "message": "NonSparkPath_2: got start_sender, op_path, ('ReadCsvProjectSpace_2', 'filename')",
          "name": "engine.logs:NonSparkPath_2",
          "pathname": "/usr/local/lib/python3.7/dist-packages/razor/flow/async_executors.py",
          "process": 1642,
          "processName": "ForkProcess-1:4",
          "thread": 140067299338048,
          "threadName": "MainThread"
         },
         {
          "asctime": "2021-03-24 06:24:18,292",
          "created": 1616567058.2929027,
          "extra": {},
          "filename": "async_executors.py",
          "funcName": "start_input_receiver",
          "levelname": "DEBUG",
          "lineno": 173,
          "message": "NonSparkCols_1: received cmd: start_sender, (), {'out_name': 'selected_cols', 'target': ('SelectData_1', 'wanted_cols'), 'out_addr': 'tcp://0.0.0.0:50763', 'in_memory': None}",
          "name": "engine.logs:NonSparkCols_1",
          "pathname": "/usr/local/lib/python3.7/dist-packages/razor/flow/async_executors.py",
          "process": 1628,
          "processName": "ForkProcess-1:1",
          "thread": 140067299338048,
          "threadName": "MainThread"
         },
         {
          "asctime": "2021-03-24 06:24:18,295",
          "created": 1616567058.2951458,
          "extra": {},
          "filename": "async_executors.py",
          "funcName": "start_input_receiver",
          "levelname": "DEBUG",
          "lineno": 173,
          "message": "NonSparkCols_2: received cmd: start_sender, (), {'out_name': 'selected_cols', 'target': ('SelectData_2', 'wanted_cols'), 'out_addr': 'tcp://0.0.0.0:53813', 'in_memory': None}",
          "name": "engine.logs:NonSparkCols_2",
          "pathname": "/usr/local/lib/python3.7/dist-packages/razor/flow/async_executors.py",
          "process": 1638,
          "processName": "ForkProcess-1:3",
          "thread": 140067299338048,
          "threadName": "MainThread"
         },
         {
          "asctime": "2021-03-24 06:24:18,297",
          "created": 1616567058.2974918,
          "extra": {},
          "filename": "async_executors.py",
          "funcName": "start_input_receiver",
          "levelname": "DEBUG",
          "lineno": 173,
          "message": "NonSparkPath_1: received cmd: start_sender, (), {'out_name': 'op_path', 'target': ('ReadCsvProjectSpace_1', 'filename'), 'out_addr': 'tcp://0.0.0.0:54167', 'in_memory': None}",
          "name": "engine.logs:NonSparkPath_1",
          "pathname": "/usr/local/lib/python3.7/dist-packages/razor/flow/async_executors.py",
          "process": 1631,
          "processName": "ForkProcess-1:2",
          "thread": 140067299338048,
          "threadName": "MainThread"
         },
         {
          "asctime": "2021-03-24 06:24:18,207",
          "created": 1616567058.2073772,
          "extra": {},
          "filename": "async_executors.py",
          "funcName": "fill_atomic_inputs",
          "levelname": "INFO",
          "lineno": 250,
          "message": "ReadCsvProjectSpace_2: waiting for atomic input: filename",
          "name": "engine.logs:ReadCsvProjectSpace_2",
          "pathname": "/usr/local/lib/python3.7/dist-packages/razor/flow/async_executors.py",
          "process": 1654,
          "processName": "ForkProcess-1:5",
          "thread": 140067299338048,
          "threadName": "MainThread"
         },
         {
          "asctime": "2021-03-24 06:24:18,232",
          "created": 1616567058.2320495,
          "extra": {},
          "filename": "async_executors.py",
          "funcName": "fill_atomic_inputs",
          "levelname": "INFO",
          "lineno": 250,
          "message": "SelectData_1: waiting for atomic input: wanted_cols",
          "name": "engine.logs:SelectData_1",
          "pathname": "/usr/local/lib/python3.7/dist-packages/razor/flow/async_executors.py",
          "process": 1654,
          "processName": "ForkProcess-1:5",
          "thread": 140067299338048,
          "threadName": "MainThread"
         },
         {
          "asctime": "2021-03-24 06:24:18,245",
          "created": 1616567058.2453983,
          "extra": {},
          "filename": "async_executors.py",
          "funcName": "fill_atomic_inputs",
          "levelname": "INFO",
          "lineno": 250,
          "message": "RenameCol_1: waiting for atomic input: inputData",
          "name": "engine.logs:RenameCol_1",
          "pathname": "/usr/local/lib/python3.7/dist-packages/razor/flow/async_executors.py",
          "process": 1654,
          "processName": "ForkProcess-1:5",
          "thread": 140067299338048,
          "threadName": "MainThread"
         },
         {
          "asctime": "2021-03-24 06:24:18,258",
          "created": 1616567058.2583857,
          "extra": {},
          "filename": "async_executors.py",
          "funcName": "fill_atomic_inputs",
          "levelname": "INFO",
          "lineno": 250,
          "message": "SelectData_2: waiting for atomic input: wanted_cols",
          "name": "engine.logs:SelectData_2",
          "pathname": "/usr/local/lib/python3.7/dist-packages/razor/flow/async_executors.py",
          "process": 1654,
          "processName": "ForkProcess-1:5",
          "thread": 140067299338048,
          "threadName": "MainThread"
         },
         {
          "asctime": "2021-03-24 06:24:18,271",
          "created": 1616567058.2715042,
          "extra": {},
          "filename": "async_executors.py",
          "funcName": "fill_atomic_inputs",
          "levelname": "INFO",
          "lineno": 250,
          "message": "ConcatData_1: waiting for atomic input: inputData_1",
          "name": "engine.logs:ConcatData_1",
          "pathname": "/usr/local/lib/python3.7/dist-packages/razor/flow/async_executors.py",
          "process": 1654,
          "processName": "ForkProcess-1:5",
          "thread": 140067299338048,
          "threadName": "MainThread"
         },
         {
          "asctime": "2021-03-24 06:24:18,284",
          "created": 1616567058.2845256,
          "extra": {},
          "filename": "async_executors.py",
          "funcName": "fill_atomic_inputs",
          "levelname": "INFO",
          "lineno": 250,
          "message": "ReadCsvProjectSpace_1: waiting for atomic input: filename",
          "name": "engine.logs:ReadCsvProjectSpace_1",
          "pathname": "/usr/local/lib/python3.7/dist-packages/razor/flow/async_executors.py",
          "process": 1654,
          "processName": "ForkProcess-1:5",
          "thread": 140067299338048,
          "threadName": "MainThread"
         },
         {
          "asctime": "2021-03-24 06:24:18,292",
          "created": 1616567058.2923613,
          "extra": {},
          "filename": "async_executors.py",
          "funcName": "start_output_sender",
          "levelname": "DEBUG",
          "lineno": 388,
          "message": "NonSparkPath_2: SENT, filename, /home/aios/projectspace/train_hatespeech.csv, ('ReadCsvProjectSpace_2', 'filename')",
          "name": "engine.logs:NonSparkPath_2",
          "pathname": "/usr/local/lib/python3.7/dist-packages/razor/flow/async_executors.py",
          "process": 1642,
          "processName": "ForkProcess-1:4",
          "thread": 140067299338048,
          "threadName": "MainThread"
         },
         {
          "asctime": "2021-03-24 06:24:18,293",
          "created": 1616567058.29331,
          "extra": {},
          "filename": "async_executors.py",
          "funcName": "start_output_sender",
          "levelname": "DEBUG",
          "lineno": 370,
          "message": "NonSparkCols_1: got start_sender, selected_cols, ('SelectData_1', 'wanted_cols')",
          "name": "engine.logs:NonSparkCols_1",
          "pathname": "/usr/local/lib/python3.7/dist-packages/razor/flow/async_executors.py",
          "process": 1628,
          "processName": "ForkProcess-1:1",
          "thread": 140067299338048,
          "threadName": "MainThread"
         },
         {
          "asctime": "2021-03-24 06:24:18,295",
          "created": 1616567058.2955182,
          "extra": {},
          "filename": "async_executors.py",
          "funcName": "start_output_sender",
          "levelname": "DEBUG",
          "lineno": 370,
          "message": "NonSparkCols_2: got start_sender, selected_cols, ('SelectData_2', 'wanted_cols')",
          "name": "engine.logs:NonSparkCols_2",
          "pathname": "/usr/local/lib/python3.7/dist-packages/razor/flow/async_executors.py",
          "process": 1638,
          "processName": "ForkProcess-1:3",
          "thread": 140067299338048,
          "threadName": "MainThread"
         },
         {
          "asctime": "2021-03-24 06:24:18,297",
          "created": 1616567058.2977953,
          "extra": {},
          "filename": "async_executors.py",
          "funcName": "start_output_sender",
          "levelname": "DEBUG",
          "lineno": 370,
          "message": "NonSparkPath_1: got start_sender, op_path, ('ReadCsvProjectSpace_1', 'filename')",
          "name": "engine.logs:NonSparkPath_1",
          "pathname": "/usr/local/lib/python3.7/dist-packages/razor/flow/async_executors.py",
          "process": 1631,
          "processName": "ForkProcess-1:2",
          "thread": 140067299338048,
          "threadName": "MainThread"
         },
         {
          "asctime": "2021-03-24 06:24:18,293",
          "created": 1616567058.293378,
          "extra": {},
          "filename": "async_executors.py",
          "funcName": "start_input_receiver",
          "levelname": "DEBUG",
          "lineno": 177,
          "message": "ReadCsvProjectSpace_2: received data: filename, /home/aios/projectspace/train_hatespeech.csv",
          "name": "engine.logs:ReadCsvProjectSpace_2",
          "pathname": "/usr/local/lib/python3.7/dist-packages/razor/flow/async_executors.py",
          "process": 1654,
          "processName": "ForkProcess-1:5",
          "thread": 140067299338048,
          "threadName": "MainThread"
         },
         {
          "asctime": "2021-03-24 06:24:18,297",
          "created": 1616567058.2973077,
          "extra": {},
          "filename": "async_executors.py",
          "funcName": "start_input_receiver",
          "levelname": "DEBUG",
          "lineno": 177,
          "message": "SelectData_1: received data: wanted_cols, ['title', 'label']",
          "name": "engine.logs:SelectData_1",
          "pathname": "/usr/local/lib/python3.7/dist-packages/razor/flow/async_executors.py",
          "process": 1654,
          "processName": "ForkProcess-1:5",
          "thread": 140067299338048,
          "threadName": "MainThread"
         },
         {
          "asctime": "2021-03-24 06:24:18,298",
          "created": 1616567058.298545,
          "extra": {},
          "filename": "async_executors.py",
          "funcName": "start_output_sender",
          "levelname": "DEBUG",
          "lineno": 388,
          "message": "NonSparkPath_1: SENT, filename, /home/aios/projectspace/df_with_stats.csv, ('ReadCsvProjectSpace_1', 'filename')",
          "name": "engine.logs:NonSparkPath_1",
          "pathname": "/usr/local/lib/python3.7/dist-packages/razor/flow/async_executors.py",
          "process": 1631,
          "processName": "ForkProcess-1:2",
          "thread": 140067299338048,
          "threadName": "MainThread"
         },
         {
          "asctime": "2021-03-24 06:24:18,297",
          "created": 1616567058.2977595,
          "extra": {},
          "filename": "async_executors.py",
          "funcName": "start_input_receiver",
          "levelname": "DEBUG",
          "lineno": 177,
          "message": "SelectData_2: received data: wanted_cols, ['tweet', 'class']",
          "name": "engine.logs:SelectData_2",
          "pathname": "/usr/local/lib/python3.7/dist-packages/razor/flow/async_executors.py",
          "process": 1654,
          "processName": "ForkProcess-1:5",
          "thread": 140067299338048,
          "threadName": "MainThread"
         },
         {
          "asctime": "2021-03-24 06:24:18,296",
          "created": 1616567058.2962809,
          "extra": {},
          "filename": "async_executors.py",
          "funcName": "start_output_sender",
          "levelname": "DEBUG",
          "lineno": 388,
          "message": "NonSparkCols_2: SENT, wanted_cols, ['tweet', 'class'], ('SelectData_2', 'wanted_cols')",
          "name": "engine.logs:NonSparkCols_2",
          "pathname": "/usr/local/lib/python3.7/dist-packages/razor/flow/async_executors.py",
          "process": 1638,
          "processName": "ForkProcess-1:3",
          "thread": 140067299338048,
          "threadName": "MainThread"
         },
         {
          "asctime": "2021-03-24 06:24:18,292",
          "created": 1616567058.2926652,
          "extra": {},
          "filename": "async_executors.py",
          "funcName": "start_output_sender",
          "levelname": "DEBUG",
          "lineno": 388,
          "message": "NonSparkPath_2: SENT, filename, b'__!\\tEndOfStream\\t!__', ('ReadCsvProjectSpace_2', 'filename')",
          "name": "engine.logs:NonSparkPath_2",
          "pathname": "/usr/local/lib/python3.7/dist-packages/razor/flow/async_executors.py",
          "process": 1642,
          "processName": "ForkProcess-1:4",
          "thread": 140067299338048,
          "threadName": "MainThread"
         },
         {
          "asctime": "2021-03-24 06:24:18,293",
          "created": 1616567058.293691,
          "extra": {},
          "filename": "async_executors.py",
          "funcName": "start_input_receiver",
          "levelname": "DEBUG",
          "lineno": 177,
          "message": "ReadCsvProjectSpace_2: received data: filename, b'__!\\tEndOfStream\\t!__'",
          "name": "engine.logs:ReadCsvProjectSpace_2",
          "pathname": "/usr/local/lib/python3.7/dist-packages/razor/flow/async_executors.py",
          "process": 1654,
          "processName": "ForkProcess-1:5",
          "thread": 140067299338048,
          "threadName": "MainThread"
         },
         {
          "asctime": "2021-03-24 06:24:18,298",
          "created": 1616567058.2983606,
          "extra": {},
          "filename": "async_executors.py",
          "funcName": "start_input_receiver",
          "levelname": "DEBUG",
          "lineno": 177,
          "message": "SelectData_1: received data: wanted_cols, b'__!\\tEndOfStream\\t!__'",
          "name": "engine.logs:SelectData_1",
          "pathname": "/usr/local/lib/python3.7/dist-packages/razor/flow/async_executors.py",
          "process": 1654,
          "processName": "ForkProcess-1:5",
          "thread": 140067299338048,
          "threadName": "MainThread"
         },
         {
          "asctime": "2021-03-24 06:24:18,298",
          "created": 1616567058.2988667,
          "extra": {},
          "filename": "async_executors.py",
          "funcName": "start_output_sender",
          "levelname": "DEBUG",
          "lineno": 388,
          "message": "NonSparkPath_1: SENT, filename, b'__!\\tEndOfStream\\t!__', ('ReadCsvProjectSpace_1', 'filename')",
          "name": "engine.logs:NonSparkPath_1",
          "pathname": "/usr/local/lib/python3.7/dist-packages/razor/flow/async_executors.py",
          "process": 1631,
          "processName": "ForkProcess-1:2",
          "thread": 140067299338048,
          "threadName": "MainThread"
         },
         {
          "asctime": "2021-03-24 06:24:18,299",
          "created": 1616567058.2995842,
          "extra": {},
          "filename": "async_executors.py",
          "funcName": "start_input_receiver",
          "levelname": "DEBUG",
          "lineno": 177,
          "message": "SelectData_2: received data: wanted_cols, b'__!\\tEndOfStream\\t!__'",
          "name": "engine.logs:SelectData_2",
          "pathname": "/usr/local/lib/python3.7/dist-packages/razor/flow/async_executors.py",
          "process": 1654,
          "processName": "ForkProcess-1:5",
          "thread": 140067299338048,
          "threadName": "MainThread"
         },
         {
          "asctime": "2021-03-24 06:24:18,296",
          "created": 1616567058.2965324,
          "extra": {},
          "filename": "async_executors.py",
          "funcName": "start_output_sender",
          "levelname": "DEBUG",
          "lineno": 388,
          "message": "NonSparkCols_2: SENT, wanted_cols, b'__!\\tEndOfStream\\t!__', ('SelectData_2', 'wanted_cols')",
          "name": "engine.logs:NonSparkCols_2",
          "pathname": "/usr/local/lib/python3.7/dist-packages/razor/flow/async_executors.py",
          "process": 1638,
          "processName": "ForkProcess-1:3",
          "thread": 140067299338048,
          "threadName": "MainThread"
         },
         {
          "asctime": "2021-03-24 06:24:18,293",
          "created": 1616567058.2938626,
          "extra": {},
          "filename": "async_executors.py",
          "funcName": "fill_atomic_inputs",
          "levelname": "DEBUG",
          "lineno": 253,
          "message": "ReadCsvProjectSpace_2: got atomic input: /home/aios/projectspace/train_hatespeech.csv",
          "name": "engine.logs:ReadCsvProjectSpace_2",
          "pathname": "/usr/local/lib/python3.7/dist-packages/razor/flow/async_executors.py",
          "process": 1654,
          "processName": "ForkProcess-1:5",
          "thread": 140067299338048,
          "threadName": "MainThread"
         },
         {
          "asctime": "2021-03-24 06:24:18,299",
          "created": 1616567058.2992039,
          "extra": {},
          "filename": "async_executors.py",
          "funcName": "fill_atomic_inputs",
          "levelname": "DEBUG",
          "lineno": 253,
          "message": "SelectData_1: got atomic input: ['title', 'label']",
          "name": "engine.logs:SelectData_1",
          "pathname": "/usr/local/lib/python3.7/dist-packages/razor/flow/async_executors.py",
          "process": 1654,
          "processName": "ForkProcess-1:5",
          "thread": 140067299338048,
          "threadName": "MainThread"
         },
         {
          "asctime": "2021-03-24 06:24:18,299",
          "created": 1616567058.2999058,
          "extra": {},
          "filename": "async_executors.py",
          "funcName": "fill_atomic_inputs",
          "levelname": "DEBUG",
          "lineno": 253,
          "message": "SelectData_2: got atomic input: ['tweet', 'class']",
          "name": "engine.logs:SelectData_2",
          "pathname": "/usr/local/lib/python3.7/dist-packages/razor/flow/async_executors.py",
          "process": 1654,
          "processName": "ForkProcess-1:5",
          "thread": 140067299338048,
          "threadName": "MainThread"
         },
         {
          "asctime": "2021-03-24 06:24:18,292",
          "created": 1616567058.2929478,
          "extra": {},
          "filename": "async_executors.py",
          "funcName": "start_output_sender",
          "levelname": "DEBUG",
          "lineno": 391,
          "message": "NonSparkPath_2: completed output: ('op_path', ('ReadCsvProjectSpace_2', 'filename'))",
          "name": "engine.logs:NonSparkPath_2",
          "pathname": "/usr/local/lib/python3.7/dist-packages/razor/flow/async_executors.py",
          "process": 1642,
          "processName": "ForkProcess-1:4",
          "thread": 140067299338048,
          "threadName": "MainThread"
         },
         {
          "asctime": "2021-03-24 06:24:18,301",
          "created": 1616567058.3018281,
          "extra": {},
          "filename": "async_executors.py",
          "funcName": "start_input_receiver",
          "levelname": "DEBUG",
          "lineno": 177,
          "message": "ReadCsvProjectSpace_1: received data: filename, /home/aios/projectspace/df_with_stats.csv",
          "name": "engine.logs:ReadCsvProjectSpace_1",
          "pathname": "/usr/local/lib/python3.7/dist-packages/razor/flow/async_executors.py",
          "process": 1654,
          "processName": "ForkProcess-1:5",
          "thread": 140067299338048,
          "threadName": "MainThread"
         },
         {
          "asctime": "2021-03-24 06:24:18,294",
          "created": 1616567058.2942498,
          "extra": {},
          "filename": "async_executors.py",
          "funcName": "start_output_sender",
          "levelname": "DEBUG",
          "lineno": 388,
          "message": "NonSparkCols_1: SENT, wanted_cols, ['title', 'label'], ('SelectData_1', 'wanted_cols')",
          "name": "engine.logs:NonSparkCols_1",
          "pathname": "/usr/local/lib/python3.7/dist-packages/razor/flow/async_executors.py",
          "process": 1628,
          "processName": "ForkProcess-1:1",
          "thread": 140067299338048,
          "threadName": "MainThread"
         },
         {
          "asctime": "2021-03-24 06:24:18,293",
          "created": 1616567058.2939222,
          "extra": {},
          "filename": "async_executors.py",
          "funcName": "fill_atomic_inputs",
          "levelname": "INFO",
          "lineno": 250,
          "message": "ReadCsvProjectSpace_2: waiting for atomic input: config",
          "name": "engine.logs:ReadCsvProjectSpace_2",
          "pathname": "/usr/local/lib/python3.7/dist-packages/razor/flow/async_executors.py",
          "process": 1654,
          "processName": "ForkProcess-1:5",
          "thread": 140067299338048,
          "threadName": "MainThread"
         },
         {
          "asctime": "2021-03-24 06:24:18,299",
          "created": 1616567058.299293,
          "extra": {},
          "filename": "async_executors.py",
          "funcName": "fill_atomic_inputs",
          "levelname": "INFO",
          "lineno": 250,
          "message": "SelectData_1: waiting for atomic input: inputData",
          "name": "engine.logs:SelectData_1",
          "pathname": "/usr/local/lib/python3.7/dist-packages/razor/flow/async_executors.py",
          "process": 1654,
          "processName": "ForkProcess-1:5",
          "thread": 140067299338048,
          "threadName": "MainThread"
         },
         {
          "asctime": "2021-03-24 06:24:18,299",
          "created": 1616567058.2990968,
          "extra": {},
          "filename": "async_executors.py",
          "funcName": "start_output_sender",
          "levelname": "DEBUG",
          "lineno": 391,
          "message": "NonSparkPath_1: completed output: ('op_path', ('ReadCsvProjectSpace_1', 'filename'))",
          "name": "engine.logs:NonSparkPath_1",
          "pathname": "/usr/local/lib/python3.7/dist-packages/razor/flow/async_executors.py",
          "process": 1631,
          "processName": "ForkProcess-1:2",
          "thread": 140067299338048,
          "threadName": "MainThread"
         },
         {
          "asctime": "2021-03-24 06:24:18,299",
          "created": 1616567058.2999644,
          "extra": {},
          "filename": "async_executors.py",
          "funcName": "fill_atomic_inputs",
          "levelname": "INFO",
          "lineno": 250,
          "message": "SelectData_2: waiting for atomic input: inputData",
          "name": "engine.logs:SelectData_2",
          "pathname": "/usr/local/lib/python3.7/dist-packages/razor/flow/async_executors.py",
          "process": 1654,
          "processName": "ForkProcess-1:5",
          "thread": 140067299338048,
          "threadName": "MainThread"
         },
         {
          "asctime": "2021-03-24 06:24:18,296",
          "created": 1616567058.2968485,
          "extra": {},
          "filename": "async_executors.py",
          "funcName": "start_output_sender",
          "levelname": "DEBUG",
          "lineno": 391,
          "message": "NonSparkCols_2: completed output: ('selected_cols', ('SelectData_2', 'wanted_cols'))",
          "name": "engine.logs:NonSparkCols_2",
          "pathname": "/usr/local/lib/python3.7/dist-packages/razor/flow/async_executors.py",
          "process": 1638,
          "processName": "ForkProcess-1:3",
          "thread": 140067299338048,
          "threadName": "MainThread"
         },
         {
          "asctime": "2021-03-24 06:24:18,307",
          "created": 1616567058.3074841,
          "extra": {},
          "filename": "async_executors.py",
          "funcName": "start_input_receiver",
          "levelname": "DEBUG",
          "lineno": 173,
          "message": "NonSparkPath_2: received cmd: terminate, (), {}",
          "name": "engine.logs:NonSparkPath_2",
          "pathname": "/usr/local/lib/python3.7/dist-packages/razor/flow/async_executors.py",
          "process": 1642,
          "processName": "ForkProcess-1:4",
          "thread": 140067299338048,
          "threadName": "MainThread"
         },
         {
          "asctime": "2021-03-24 06:24:18,302",
          "created": 1616567058.3026605,
          "extra": {},
          "filename": "async_executors.py",
          "funcName": "start_input_receiver",
          "levelname": "DEBUG",
          "lineno": 177,
          "message": "ReadCsvProjectSpace_1: received data: filename, b'__!\\tEndOfStream\\t!__'",
          "name": "engine.logs:ReadCsvProjectSpace_1",
          "pathname": "/usr/local/lib/python3.7/dist-packages/razor/flow/async_executors.py",
          "process": 1654,
          "processName": "ForkProcess-1:5",
          "thread": 140067299338048,
          "threadName": "MainThread"
         },
         {
          "asctime": "2021-03-24 06:24:18,294",
          "created": 1616567058.294447,
          "extra": {},
          "filename": "async_executors.py",
          "funcName": "start_output_sender",
          "levelname": "DEBUG",
          "lineno": 388,
          "message": "NonSparkCols_1: SENT, wanted_cols, b'__!\\tEndOfStream\\t!__', ('SelectData_1', 'wanted_cols')",
          "name": "engine.logs:NonSparkCols_1",
          "pathname": "/usr/local/lib/python3.7/dist-packages/razor/flow/async_executors.py",
          "process": 1628,
          "processName": "ForkProcess-1:1",
          "thread": 140067299338048,
          "threadName": "MainThread"
         },
         {
          "asctime": "2021-03-24 06:24:18,293",
          "created": 1616567058.2939904,
          "extra": {},
          "filename": "async_executors.py",
          "funcName": "fill_atomic_inputs",
          "levelname": "DEBUG",
          "lineno": 253,
          "message": "ReadCsvProjectSpace_2: got atomic input: {}",
          "name": "engine.logs:ReadCsvProjectSpace_2",
          "pathname": "/usr/local/lib/python3.7/dist-packages/razor/flow/async_executors.py",
          "process": 1654,
          "processName": "ForkProcess-1:5",
          "thread": 140067299338048,
          "threadName": "MainThread"
         },
         {
          "asctime": "2021-03-24 06:24:18,294",
          "created": 1616567058.294057,
          "extra": {},
          "filename": "async_executors.py",
          "funcName": "fill_atomic_inputs",
          "levelname": "INFO",
          "lineno": 250,
          "message": "ReadCsvProjectSpace_2: waiting for atomic input: source",
          "name": "engine.logs:ReadCsvProjectSpace_2",
          "pathname": "/usr/local/lib/python3.7/dist-packages/razor/flow/async_executors.py",
          "process": 1654,
          "processName": "ForkProcess-1:5",
          "thread": 140067299338048,
          "threadName": "MainThread"
         },
         {
          "asctime": "2021-03-24 06:24:18,294",
          "created": 1616567058.294774,
          "extra": {},
          "filename": "async_executors.py",
          "funcName": "start_output_sender",
          "levelname": "DEBUG",
          "lineno": 391,
          "message": "NonSparkCols_1: completed output: ('selected_cols', ('SelectData_1', 'wanted_cols'))",
          "name": "engine.logs:NonSparkCols_1",
          "pathname": "/usr/local/lib/python3.7/dist-packages/razor/flow/async_executors.py",
          "process": 1628,
          "processName": "ForkProcess-1:1",
          "thread": 140067299338048,
          "threadName": "MainThread"
         },
         {
          "asctime": "2021-03-24 06:24:18,294",
          "created": 1616567058.2941246,
          "extra": {},
          "filename": "async_executors.py",
          "funcName": "fill_atomic_inputs",
          "levelname": "DEBUG",
          "lineno": 253,
          "message": "ReadCsvProjectSpace_2: got atomic input: ",
          "name": "engine.logs:ReadCsvProjectSpace_2",
          "pathname": "/usr/local/lib/python3.7/dist-packages/razor/flow/async_executors.py",
          "process": 1654,
          "processName": "ForkProcess-1:5",
          "thread": 140067299338048,
          "threadName": "MainThread"
         },
         {
          "asctime": "2021-03-24 06:24:18,294",
          "created": 1616567058.2941887,
          "extra": {},
          "filename": "async_executors.py",
          "funcName": "main",
          "levelname": "DEBUG",
          "lineno": 130,
          "message": "ReadCsvProjectSpace_2: triggering block run",
          "name": "engine.logs:ReadCsvProjectSpace_2",
          "pathname": "/usr/local/lib/python3.7/dist-packages/razor/flow/async_executors.py",
          "process": 1654,
          "processName": "ForkProcess-1:5",
          "thread": 140067299338048,
          "threadName": "MainThread"
         },
         {
          "asctime": "2021-03-24 06:24:18,318",
          "created": 1616567058.3188198,
          "extra": {},
          "filename": "async_executors.py",
          "funcName": "start_input_receiver",
          "levelname": "DEBUG",
          "lineno": 173,
          "message": "NonSparkCols_1: received cmd: terminate, (), {}",
          "name": "engine.logs:NonSparkCols_1",
          "pathname": "/usr/local/lib/python3.7/dist-packages/razor/flow/async_executors.py",
          "process": 1628,
          "processName": "ForkProcess-1:1",
          "thread": 140067299338048,
          "threadName": "MainThread"
         },
         {
          "asctime": "2021-03-24 06:24:18,321",
          "created": 1616567058.3219624,
          "extra": {},
          "filename": "async_executors.py",
          "funcName": "start_input_receiver",
          "levelname": "DEBUG",
          "lineno": 173,
          "message": "NonSparkPath_1: received cmd: terminate, (), {}",
          "name": "engine.logs:NonSparkPath_1",
          "pathname": "/usr/local/lib/python3.7/dist-packages/razor/flow/async_executors.py",
          "process": 1631,
          "processName": "ForkProcess-1:2",
          "thread": 140067299338048,
          "threadName": "MainThread"
         },
         {
          "asctime": "2021-03-24 06:24:18,323",
          "created": 1616567058.3238387,
          "extra": {},
          "filename": "async_executors.py",
          "funcName": "start_input_receiver",
          "levelname": "DEBUG",
          "lineno": 173,
          "message": "NonSparkCols_2: received cmd: terminate, (), {}",
          "name": "engine.logs:NonSparkCols_2",
          "pathname": "/usr/local/lib/python3.7/dist-packages/razor/flow/async_executors.py",
          "process": 1638,
          "processName": "ForkProcess-1:3",
          "thread": 140067299338048,
          "threadName": "MainThread"
         },
         {
          "asctime": "2021-03-24 06:24:18,302",
          "created": 1616567058.3028247,
          "extra": {},
          "filename": "async_executors.py",
          "funcName": "fill_atomic_inputs",
          "levelname": "DEBUG",
          "lineno": 253,
          "message": "ReadCsvProjectSpace_1: got atomic input: /home/aios/projectspace/df_with_stats.csv",
          "name": "engine.logs:ReadCsvProjectSpace_1",
          "pathname": "/usr/local/lib/python3.7/dist-packages/razor/flow/async_executors.py",
          "process": 1654,
          "processName": "ForkProcess-1:5",
          "thread": 140067299338048,
          "threadName": "MainThread"
         },
         {
          "asctime": "2021-03-24 06:24:18,302",
          "created": 1616567058.3028774,
          "extra": {},
          "filename": "async_executors.py",
          "funcName": "fill_atomic_inputs",
          "levelname": "INFO",
          "lineno": 250,
          "message": "ReadCsvProjectSpace_1: waiting for atomic input: config",
          "name": "engine.logs:ReadCsvProjectSpace_1",
          "pathname": "/usr/local/lib/python3.7/dist-packages/razor/flow/async_executors.py",
          "process": 1654,
          "processName": "ForkProcess-1:5",
          "thread": 140067299338048,
          "threadName": "MainThread"
         },
         {
          "asctime": "2021-03-24 06:24:18,302",
          "created": 1616567058.3029232,
          "extra": {},
          "filename": "async_executors.py",
          "funcName": "fill_atomic_inputs",
          "levelname": "DEBUG",
          "lineno": 253,
          "message": "ReadCsvProjectSpace_1: got atomic input: {}",
          "name": "engine.logs:ReadCsvProjectSpace_1",
          "pathname": "/usr/local/lib/python3.7/dist-packages/razor/flow/async_executors.py",
          "process": 1654,
          "processName": "ForkProcess-1:5",
          "thread": 140067299338048,
          "threadName": "MainThread"
         },
         {
          "asctime": "2021-03-24 06:24:18,302",
          "created": 1616567058.3029585,
          "extra": {},
          "filename": "async_executors.py",
          "funcName": "fill_atomic_inputs",
          "levelname": "INFO",
          "lineno": 250,
          "message": "ReadCsvProjectSpace_1: waiting for atomic input: source",
          "name": "engine.logs:ReadCsvProjectSpace_1",
          "pathname": "/usr/local/lib/python3.7/dist-packages/razor/flow/async_executors.py",
          "process": 1654,
          "processName": "ForkProcess-1:5",
          "thread": 140067299338048,
          "threadName": "MainThread"
         },
         {
          "asctime": "2021-03-24 06:24:18,303",
          "created": 1616567058.3033154,
          "extra": {},
          "filename": "async_executors.py",
          "funcName": "fill_atomic_inputs",
          "levelname": "DEBUG",
          "lineno": 253,
          "message": "ReadCsvProjectSpace_1: got atomic input: ",
          "name": "engine.logs:ReadCsvProjectSpace_1",
          "pathname": "/usr/local/lib/python3.7/dist-packages/razor/flow/async_executors.py",
          "process": 1654,
          "processName": "ForkProcess-1:5",
          "thread": 140067299338048,
          "threadName": "MainThread"
         },
         {
          "asctime": "2021-03-24 06:24:18,303",
          "created": 1616567058.3033855,
          "extra": {},
          "filename": "async_executors.py",
          "funcName": "main",
          "levelname": "DEBUG",
          "lineno": 130,
          "message": "ReadCsvProjectSpace_1: triggering block run",
          "name": "engine.logs:ReadCsvProjectSpace_1",
          "pathname": "/usr/local/lib/python3.7/dist-packages/razor/flow/async_executors.py",
          "process": 1654,
          "processName": "ForkProcess-1:5",
          "thread": 140067299338048,
          "threadName": "MainThread"
         },
         {
          "asctime": "2021-03-24 06:24:29,700",
          "created": 1616567069.7002478,
          "exc_info": null,
          "extra": {},
          "filename": null,
          "full_message": null,
          "funcName": null,
          "levelname": "STDOUT",
          "lineno": null,
          "message": "Data Schema\n",
          "name": "block.stdout:ReadCsvProjectSpace_2",
          "pathname": null,
          "process": null,
          "processName": null,
          "thread": null,
          "threadName": null
         },
         {
          "asctime": "2021-03-24 06:24:29,701",
          "created": 1616567069.701472,
          "exc_info": null,
          "extra": {},
          "filename": null,
          "full_message": null,
          "funcName": null,
          "levelname": "STDOUT",
          "lineno": null,
          "message": "Data Schema\n",
          "name": "block.stdout:ReadCsvProjectSpace_1",
          "pathname": null,
          "process": null,
          "processName": null,
          "thread": null,
          "threadName": null
         },
         {
          "asctime": "2021-03-24 06:24:29,789",
          "created": 1616567069.7892413,
          "exc_info": null,
          "extra": {},
          "filename": null,
          "full_message": null,
          "funcName": null,
          "levelname": "STDOUT",
          "lineno": null,
          "message": "root\n |-- filename: string (nullable = true)\n |-- url: string (nullable = true)\n |-- text: string (nullable = true)\n |-- title: string (nullable = true)\n |-- authors: string (nullable = true)\n |-- description: string (nullable = true)\n |-- generatorsite_name: string (nullable = true)\n |-- site: string (nullable = true)\n |-- publisher: string (nullable = true)\n |-- source: string (nullable = true)\n |-- keywords: string (nullable = true)\n |-- label: string (nullable = true)\n |-- generator: string (nullable = true)\n |-- site_name: string (nullable = true)\n |-- author_real_fake: string (nullable = true)\n |-- site_real_fake: string (nullable = true)\n |-- source_real_fake: string (nullable = true)\n\n",
          "name": "block.stdout:ReadCsvProjectSpace_1",
          "pathname": null,
          "process": null,
          "processName": null,
          "thread": null,
          "threadName": null
         },
         {
          "asctime": "2021-03-24 06:24:29,790",
          "created": 1616567069.7906482,
          "exc_info": null,
          "extra": {},
          "filename": null,
          "full_message": null,
          "funcName": null,
          "levelname": "STDOUT",
          "lineno": null,
          "message": "root\n |-- Unnamed: 0: string (nullable = true)\n |-- count: string (nullable = true)\n |-- hate_speech: string (nullable = true)\n |-- offensive_language: string (nullable = true)\n |-- neither: string (nullable = true)\n |-- class: string (nullable = true)\n |-- tweet: string (nullable = true)\n\n",
          "name": "block.stdout:ReadCsvProjectSpace_2",
          "pathname": null,
          "process": null,
          "processName": null,
          "thread": null,
          "threadName": null
         },
         {
          "asctime": "2021-03-24 06:24:29,833",
          "created": 1616567069.833866,
          "extra": {},
          "filename": "async_executors.py",
          "funcName": "distribute_output_queue",
          "levelname": "DEBUG",
          "lineno": 308,
          "message": "ReadCsvProjectSpace_1: ---- dist output: DataFrame[filename: string, url: string, text: string, title: string, authors: string, description: string, generatorsite_name: string, site: string, publisher: string, source: string, keywords: string, label: string, generator: string, site_name: string, author_real_fake: string, site_real_fake: string, source_real_fake: string] -> ('SelectData_1', 'inputData')",
          "name": "engine.logs:ReadCsvProjectSpace_1",
          "pathname": "/usr/local/lib/python3.7/dist-packages/razor/flow/async_executors.py",
          "process": 1654,
          "processName": "ForkProcess-1:5",
          "thread": 140067299338048,
          "threadName": "MainThread"
         },
         {
          "asctime": "2021-03-24 06:24:29,835",
          "created": 1616567069.8355668,
          "extra": {},
          "filename": "async_executors.py",
          "funcName": "distribute_output_queue",
          "levelname": "DEBUG",
          "lineno": 308,
          "message": "ReadCsvProjectSpace_2: ---- dist output: DataFrame[Unnamed: 0: string, count: string, hate_speech: string, offensive_language: string, neither: string, class: string, tweet: string] -> ('SelectData_2', 'inputData')",
          "name": "engine.logs:ReadCsvProjectSpace_2",
          "pathname": "/usr/local/lib/python3.7/dist-packages/razor/flow/async_executors.py",
          "process": 1654,
          "processName": "ForkProcess-1:5",
          "thread": 140067299338048,
          "threadName": "MainThread"
         },
         {
          "asctime": "2021-03-24 06:24:29,835",
          "created": 1616567069.835901,
          "extra": {},
          "filename": "async_executors.py",
          "funcName": "main",
          "levelname": "DEBUG",
          "lineno": 147,
          "message": "ReadCsvProjectSpace_1: block thread completed",
          "name": "engine.logs:ReadCsvProjectSpace_1",
          "pathname": "/usr/local/lib/python3.7/dist-packages/razor/flow/async_executors.py",
          "process": 1654,
          "processName": "ForkProcess-1:5",
          "thread": 140067299338048,
          "threadName": "MainThread"
         },
         {
          "asctime": "2021-03-24 06:24:29,836",
          "created": 1616567069.8360832,
          "extra": {},
          "filename": "async_executors.py",
          "funcName": "main",
          "levelname": "DEBUG",
          "lineno": 147,
          "message": "ReadCsvProjectSpace_2: block thread completed",
          "name": "engine.logs:ReadCsvProjectSpace_2",
          "pathname": "/usr/local/lib/python3.7/dist-packages/razor/flow/async_executors.py",
          "process": 1654,
          "processName": "ForkProcess-1:5",
          "thread": 140067299338048,
          "threadName": "MainThread"
         },
         {
          "asctime": "2021-03-24 06:24:29,835",
          "created": 1616567069.8359761,
          "extra": {},
          "filename": "async_executors.py",
          "funcName": "main",
          "levelname": "DEBUG",
          "lineno": 149,
          "message": "ReadCsvProjectSpace_1: block execution complete",
          "name": "engine.logs:ReadCsvProjectSpace_1",
          "pathname": "/usr/local/lib/python3.7/dist-packages/razor/flow/async_executors.py",
          "process": 1654,
          "processName": "ForkProcess-1:5",
          "thread": 140067299338048,
          "threadName": "MainThread"
         },
         {
          "asctime": "2021-03-24 06:24:29,836",
          "created": 1616567069.836135,
          "extra": {},
          "filename": "async_executors.py",
          "funcName": "main",
          "levelname": "DEBUG",
          "lineno": 149,
          "message": "ReadCsvProjectSpace_2: block execution complete",
          "name": "engine.logs:ReadCsvProjectSpace_2",
          "pathname": "/usr/local/lib/python3.7/dist-packages/razor/flow/async_executors.py",
          "process": 1654,
          "processName": "ForkProcess-1:5",
          "thread": 140067299338048,
          "threadName": "MainThread"
         },
         {
          "asctime": "2021-03-24 06:24:29,858",
          "created": 1616567069.8583221,
          "extra": {},
          "filename": "async_executors.py",
          "funcName": "distribute_output_queue",
          "levelname": "DEBUG",
          "lineno": 308,
          "message": "ReadCsvProjectSpace_1: ---- dist output: b'__!\\tEndOfStream\\t!__' -> ('SelectData_1', 'inputData')",
          "name": "engine.logs:ReadCsvProjectSpace_1",
          "pathname": "/usr/local/lib/python3.7/dist-packages/razor/flow/async_executors.py",
          "process": 1654,
          "processName": "ForkProcess-1:5",
          "thread": 140067299338048,
          "threadName": "MainThread"
         },
         {
          "asctime": "2021-03-24 06:24:29,858",
          "created": 1616567069.8586125,
          "extra": {},
          "filename": "async_executors.py",
          "funcName": "distribute_output_queue",
          "levelname": "DEBUG",
          "lineno": 308,
          "message": "ReadCsvProjectSpace_2: ---- dist output: b'__!\\tEndOfStream\\t!__' -> ('SelectData_2', 'inputData')",
          "name": "engine.logs:ReadCsvProjectSpace_2",
          "pathname": "/usr/local/lib/python3.7/dist-packages/razor/flow/async_executors.py",
          "process": 1654,
          "processName": "ForkProcess-1:5",
          "thread": 140067299338048,
          "threadName": "MainThread"
         },
         {
          "asctime": "2021-03-24 06:24:29,904",
          "created": 1616567069.9040585,
          "extra": {},
          "filename": "async_executors.py",
          "funcName": "start_input_receiver",
          "levelname": "DEBUG",
          "lineno": 173,
          "message": "ReadCsvProjectSpace_1: received cmd: start_sender, (), {'out_name': 'data', 'target': ('SelectData_1', 'inputData'), 'out_addr': 'tcp://0.0.0.0:50763', 'in_memory': True}",
          "name": "engine.logs:ReadCsvProjectSpace_1",
          "pathname": "/usr/local/lib/python3.7/dist-packages/razor/flow/async_executors.py",
          "process": 1654,
          "processName": "ForkProcess-1:5",
          "thread": 140067299338048,
          "threadName": "MainThread"
         },
         {
          "asctime": "2021-03-24 06:24:29,904",
          "created": 1616567069.9043105,
          "extra": {},
          "filename": "async_executors.py",
          "funcName": "start_input_receiver",
          "levelname": "DEBUG",
          "lineno": 173,
          "message": "ReadCsvProjectSpace_2: received cmd: start_sender, (), {'out_name': 'data', 'target': ('SelectData_2', 'inputData'), 'out_addr': 'tcp://0.0.0.0:53813', 'in_memory': True}",
          "name": "engine.logs:ReadCsvProjectSpace_2",
          "pathname": "/usr/local/lib/python3.7/dist-packages/razor/flow/async_executors.py",
          "process": 1654,
          "processName": "ForkProcess-1:5",
          "thread": 140067299338048,
          "threadName": "MainThread"
         },
         {
          "asctime": "2021-03-24 06:24:29,905",
          "created": 1616567069.9057822,
          "extra": {},
          "filename": "async_executors.py",
          "funcName": "start_output_sender",
          "levelname": "DEBUG",
          "lineno": 370,
          "message": "ReadCsvProjectSpace_2: got start_sender, data, ('SelectData_2', 'inputData')",
          "name": "engine.logs:ReadCsvProjectSpace_2",
          "pathname": "/usr/local/lib/python3.7/dist-packages/razor/flow/async_executors.py",
          "process": 1654,
          "processName": "ForkProcess-1:5",
          "thread": 140067299338048,
          "threadName": "MainThread"
         },
         {
          "asctime": "2021-03-24 06:24:29,904",
          "created": 1616567069.9048433,
          "extra": {},
          "filename": "async_executors.py",
          "funcName": "start_output_sender",
          "levelname": "DEBUG",
          "lineno": 370,
          "message": "ReadCsvProjectSpace_1: got start_sender, data, ('SelectData_1', 'inputData')",
          "name": "engine.logs:ReadCsvProjectSpace_1",
          "pathname": "/usr/local/lib/python3.7/dist-packages/razor/flow/async_executors.py",
          "process": 1654,
          "processName": "ForkProcess-1:5",
          "thread": 140067299338048,
          "threadName": "MainThread"
         },
         {
          "asctime": "2021-03-24 06:24:29,907",
          "created": 1616567069.9074872,
          "extra": {},
          "filename": "async_executors.py",
          "funcName": "fill_atomic_inputs",
          "levelname": "DEBUG",
          "lineno": 253,
          "message": "SelectData_1: got atomic input: DataFrame[filename: string, url: string, text: string, title: string, authors: string, description: string, generatorsite_name: string, site: string, publisher: string, source: string, keywords: string, label: string, generator: string, site_name: string, author_real_fake: string, site_real_fake: string, source_real_fake: string]",
          "name": "engine.logs:SelectData_1",
          "pathname": "/usr/local/lib/python3.7/dist-packages/razor/flow/async_executors.py",
          "process": 1654,
          "processName": "ForkProcess-1:5",
          "thread": 140067299338048,
          "threadName": "MainThread"
         },
         {
          "asctime": "2021-03-24 06:24:29,909",
          "created": 1616567069.9095032,
          "extra": {},
          "filename": "async_executors.py",
          "funcName": "fill_atomic_inputs",
          "levelname": "DEBUG",
          "lineno": 253,
          "message": "SelectData_2: got atomic input: DataFrame[Unnamed: 0: string, count: string, hate_speech: string, offensive_language: string, neither: string, class: string, tweet: string]",
          "name": "engine.logs:SelectData_2",
          "pathname": "/usr/local/lib/python3.7/dist-packages/razor/flow/async_executors.py",
          "process": 1654,
          "processName": "ForkProcess-1:5",
          "thread": 140067299338048,
          "threadName": "MainThread"
         },
         {
          "asctime": "2021-03-24 06:24:29,906",
          "created": 1616567069.9063063,
          "extra": {},
          "filename": "async_executors.py",
          "funcName": "start_output_sender",
          "levelname": "DEBUG",
          "lineno": 375,
          "message": "ReadCsvProjectSpace_2: SENT, inputData, DataFrame[Unnamed: 0: string, count: string, hate_speech: string, offensive_language: string, neither: string, class: string, tweet: string], ('SelectData_2', 'inputData')",
          "name": "engine.logs:ReadCsvProjectSpace_2",
          "pathname": "/usr/local/lib/python3.7/dist-packages/razor/flow/async_executors.py",
          "process": 1654,
          "processName": "ForkProcess-1:5",
          "thread": 140067299338048,
          "threadName": "MainThread"
         },
         {
          "asctime": "2021-03-24 06:24:29,905",
          "created": 1616567069.9055345,
          "extra": {},
          "filename": "async_executors.py",
          "funcName": "start_output_sender",
          "levelname": "DEBUG",
          "lineno": 375,
          "message": "ReadCsvProjectSpace_1: SENT, inputData, DataFrame[filename: string, url: string, text: string, title: string, authors: string, description: string, generatorsite_name: string, site: string, publisher: string, source: string, keywords: string, label: string, generator: string, site_name: string, author_real_fake: string, site_real_fake: string, source_real_fake: string], ('SelectData_1', 'inputData')",
          "name": "engine.logs:ReadCsvProjectSpace_1",
          "pathname": "/usr/local/lib/python3.7/dist-packages/razor/flow/async_executors.py",
          "process": 1654,
          "processName": "ForkProcess-1:5",
          "thread": 140067299338048,
          "threadName": "MainThread"
         },
         {
          "asctime": "2021-03-24 06:24:29,907",
          "created": 1616567069.9075785,
          "extra": {},
          "filename": "async_executors.py",
          "funcName": "fill_atomic_inputs",
          "levelname": "INFO",
          "lineno": 250,
          "message": "SelectData_1: waiting for atomic input: config",
          "name": "engine.logs:SelectData_1",
          "pathname": "/usr/local/lib/python3.7/dist-packages/razor/flow/async_executors.py",
          "process": 1654,
          "processName": "ForkProcess-1:5",
          "thread": 140067299338048,
          "threadName": "MainThread"
         },
         {
          "asctime": "2021-03-24 06:24:29,909",
          "created": 1616567069.909624,
          "extra": {},
          "filename": "async_executors.py",
          "funcName": "fill_atomic_inputs",
          "levelname": "INFO",
          "lineno": 250,
          "message": "SelectData_2: waiting for atomic input: config",
          "name": "engine.logs:SelectData_2",
          "pathname": "/usr/local/lib/python3.7/dist-packages/razor/flow/async_executors.py",
          "process": 1654,
          "processName": "ForkProcess-1:5",
          "thread": 140067299338048,
          "threadName": "MainThread"
         },
         {
          "asctime": "2021-03-24 06:24:29,906",
          "created": 1616567069.9064066,
          "extra": {},
          "filename": "async_executors.py",
          "funcName": "start_output_sender",
          "levelname": "DEBUG",
          "lineno": 375,
          "message": "ReadCsvProjectSpace_2: SENT, inputData, b'__!\\tEndOfStream\\t!__', ('SelectData_2', 'inputData')",
          "name": "engine.logs:ReadCsvProjectSpace_2",
          "pathname": "/usr/local/lib/python3.7/dist-packages/razor/flow/async_executors.py",
          "process": 1654,
          "processName": "ForkProcess-1:5",
          "thread": 140067299338048,
          "threadName": "MainThread"
         },
         {
          "asctime": "2021-03-24 06:24:29,905",
          "created": 1616567069.9056518,
          "extra": {},
          "filename": "async_executors.py",
          "funcName": "start_output_sender",
          "levelname": "DEBUG",
          "lineno": 375,
          "message": "ReadCsvProjectSpace_1: SENT, inputData, b'__!\\tEndOfStream\\t!__', ('SelectData_1', 'inputData')",
          "name": "engine.logs:ReadCsvProjectSpace_1",
          "pathname": "/usr/local/lib/python3.7/dist-packages/razor/flow/async_executors.py",
          "process": 1654,
          "processName": "ForkProcess-1:5",
          "thread": 140067299338048,
          "threadName": "MainThread"
         },
         {
          "asctime": "2021-03-24 06:24:29,907",
          "created": 1616567069.9076388,
          "extra": {},
          "filename": "async_executors.py",
          "funcName": "fill_atomic_inputs",
          "levelname": "DEBUG",
          "lineno": 253,
          "message": "SelectData_1: got atomic input: {}",
          "name": "engine.logs:SelectData_1",
          "pathname": "/usr/local/lib/python3.7/dist-packages/razor/flow/async_executors.py",
          "process": 1654,
          "processName": "ForkProcess-1:5",
          "thread": 140067299338048,
          "threadName": "MainThread"
         },
         {
          "asctime": "2021-03-24 06:24:29,909",
          "created": 1616567069.9097178,
          "extra": {},
          "filename": "async_executors.py",
          "funcName": "fill_atomic_inputs",
          "levelname": "DEBUG",
          "lineno": 253,
          "message": "SelectData_2: got atomic input: {}",
          "name": "engine.logs:SelectData_2",
          "pathname": "/usr/local/lib/python3.7/dist-packages/razor/flow/async_executors.py",
          "process": 1654,
          "processName": "ForkProcess-1:5",
          "thread": 140067299338048,
          "threadName": "MainThread"
         },
         {
          "asctime": "2021-03-24 06:24:29,906",
          "created": 1616567069.9064598,
          "extra": {},
          "filename": "async_executors.py",
          "funcName": "start_output_sender",
          "levelname": "DEBUG",
          "lineno": 379,
          "message": "ReadCsvProjectSpace_2: completed output: ('data', ('SelectData_2', 'inputData'))",
          "name": "engine.logs:ReadCsvProjectSpace_2",
          "pathname": "/usr/local/lib/python3.7/dist-packages/razor/flow/async_executors.py",
          "process": 1654,
          "processName": "ForkProcess-1:5",
          "thread": 140067299338048,
          "threadName": "MainThread"
         },
         {
          "asctime": "2021-03-24 06:24:29,905",
          "created": 1616567069.9057176,
          "extra": {},
          "filename": "async_executors.py",
          "funcName": "start_output_sender",
          "levelname": "DEBUG",
          "lineno": 379,
          "message": "ReadCsvProjectSpace_1: completed output: ('data', ('SelectData_1', 'inputData'))",
          "name": "engine.logs:ReadCsvProjectSpace_1",
          "pathname": "/usr/local/lib/python3.7/dist-packages/razor/flow/async_executors.py",
          "process": 1654,
          "processName": "ForkProcess-1:5",
          "thread": 140067299338048,
          "threadName": "MainThread"
         },
         {
          "asctime": "2021-03-24 06:24:29,907",
          "created": 1616567069.9076786,
          "extra": {},
          "filename": "async_executors.py",
          "funcName": "fill_atomic_inputs",
          "levelname": "INFO",
          "lineno": 250,
          "message": "SelectData_1: waiting for atomic input: source",
          "name": "engine.logs:SelectData_1",
          "pathname": "/usr/local/lib/python3.7/dist-packages/razor/flow/async_executors.py",
          "process": 1654,
          "processName": "ForkProcess-1:5",
          "thread": 140067299338048,
          "threadName": "MainThread"
         },
         {
          "asctime": "2021-03-24 06:24:29,909",
          "created": 1616567069.909789,
          "extra": {},
          "filename": "async_executors.py",
          "funcName": "fill_atomic_inputs",
          "levelname": "INFO",
          "lineno": 250,
          "message": "SelectData_2: waiting for atomic input: source",
          "name": "engine.logs:SelectData_2",
          "pathname": "/usr/local/lib/python3.7/dist-packages/razor/flow/async_executors.py",
          "process": 1654,
          "processName": "ForkProcess-1:5",
          "thread": 140067299338048,
          "threadName": "MainThread"
         },
         {
          "asctime": "2021-03-24 06:24:29,916",
          "created": 1616567069.9166012,
          "extra": {},
          "filename": "async_executors.py",
          "funcName": "start_input_receiver",
          "levelname": "DEBUG",
          "lineno": 173,
          "message": "ReadCsvProjectSpace_2: received cmd: terminate, (), {}",
          "name": "engine.logs:ReadCsvProjectSpace_2",
          "pathname": "/usr/local/lib/python3.7/dist-packages/razor/flow/async_executors.py",
          "process": 1654,
          "processName": "ForkProcess-1:5",
          "thread": 140067299338048,
          "threadName": "MainThread"
         },
         {
          "asctime": "2021-03-24 06:24:29,913",
          "created": 1616567069.9137454,
          "extra": {},
          "filename": "async_executors.py",
          "funcName": "start_input_receiver",
          "levelname": "DEBUG",
          "lineno": 173,
          "message": "ReadCsvProjectSpace_1: received cmd: terminate, (), {}",
          "name": "engine.logs:ReadCsvProjectSpace_1",
          "pathname": "/usr/local/lib/python3.7/dist-packages/razor/flow/async_executors.py",
          "process": 1654,
          "processName": "ForkProcess-1:5",
          "thread": 140067299338048,
          "threadName": "MainThread"
         },
         {
          "asctime": "2021-03-24 06:24:29,907",
          "created": 1616567069.9077353,
          "extra": {},
          "filename": "async_executors.py",
          "funcName": "fill_atomic_inputs",
          "levelname": "DEBUG",
          "lineno": 253,
          "message": "SelectData_1: got atomic input: ",
          "name": "engine.logs:SelectData_1",
          "pathname": "/usr/local/lib/python3.7/dist-packages/razor/flow/async_executors.py",
          "process": 1654,
          "processName": "ForkProcess-1:5",
          "thread": 140067299338048,
          "threadName": "MainThread"
         },
         {
          "asctime": "2021-03-24 06:24:29,909",
          "created": 1616567069.9098701,
          "extra": {},
          "filename": "async_executors.py",
          "funcName": "fill_atomic_inputs",
          "levelname": "DEBUG",
          "lineno": 253,
          "message": "SelectData_2: got atomic input: ",
          "name": "engine.logs:SelectData_2",
          "pathname": "/usr/local/lib/python3.7/dist-packages/razor/flow/async_executors.py",
          "process": 1654,
          "processName": "ForkProcess-1:5",
          "thread": 140067299338048,
          "threadName": "MainThread"
         },
         {
          "asctime": "2021-03-24 06:24:29,907",
          "created": 1616567069.9077802,
          "extra": {},
          "filename": "async_executors.py",
          "funcName": "main",
          "levelname": "DEBUG",
          "lineno": 130,
          "message": "SelectData_1: triggering block run",
          "name": "engine.logs:SelectData_1",
          "pathname": "/usr/local/lib/python3.7/dist-packages/razor/flow/async_executors.py",
          "process": 1654,
          "processName": "ForkProcess-1:5",
          "thread": 140067299338048,
          "threadName": "MainThread"
         },
         {
          "asctime": "2021-03-24 06:24:29,909",
          "created": 1616567069.9099479,
          "extra": {},
          "filename": "async_executors.py",
          "funcName": "main",
          "levelname": "DEBUG",
          "lineno": 130,
          "message": "SelectData_2: triggering block run",
          "name": "engine.logs:SelectData_2",
          "pathname": "/usr/local/lib/python3.7/dist-packages/razor/flow/async_executors.py",
          "process": 1654,
          "processName": "ForkProcess-1:5",
          "thread": 140067299338048,
          "threadName": "MainThread"
         },
         {
          "asctime": "2021-03-24 06:24:30,631",
          "created": 1616567070.6316457,
          "exc_info": null,
          "extra": {},
          "filename": null,
          "full_message": null,
          "funcName": null,
          "levelname": "STDOUT",
          "lineno": null,
          "message": "+--------------------+-----+\n|               tweet|class|\n+--------------------+-----+\n|@kieffer_jason bi...|    1|\n|\"Just said cunt i...|    1|\n|                null| null|\n|RT @TAXSTONE: If ...|    1|\n|RT @ThaReal_Elija...|    1|\n|Lol niccas rememb...|    1|\n|I absolutely love...|    1|\n|@MorbidMermaid do...|    0|\n|Kanye west is a f...|    0|\n|like a bitch pic ...|    1|\n|RT @SumGurl07: So...|    2|\n|@Bojieasx slap a ...|    1|\n|@Me_NOindirect bi...|    1|\n|RT @nikkilenn: Bi...|    1|\n|RT @Dcowboys2188:...|    1|\n|@RealPimpinKen Pi...|    1|\n|                null| null|\n|A bf and gf&#1281...|    1|\n|RT @rollieghost: ...|    1|\n|RT @UrbanCrazines...|    1|\n+--------------------+-----+\nonly showing top 20 rows\n\n",
          "name": "block.stdout:SelectData_2",
          "pathname": null,
          "process": null,
          "processName": null,
          "thread": null,
          "threadName": null
         },
         {
          "asctime": "2021-03-24 06:24:30,634",
          "created": 1616567070.6349256,
          "extra": {},
          "filename": "async_executors.py",
          "funcName": "distribute_output_queue",
          "levelname": "DEBUG",
          "lineno": 308,
          "message": "SelectData_2: ---- dist output: DataFrame[tweet: string, class: string] -> ('RenameCol_1', 'inputData')",
          "name": "engine.logs:SelectData_2",
          "pathname": "/usr/local/lib/python3.7/dist-packages/razor/flow/async_executors.py",
          "process": 1654,
          "processName": "ForkProcess-1:5",
          "thread": 140067299338048,
          "threadName": "MainThread"
         },
         {
          "asctime": "2021-03-24 06:24:30,636",
          "created": 1616567070.636319,
          "extra": {},
          "filename": "async_executors.py",
          "funcName": "main",
          "levelname": "DEBUG",
          "lineno": 147,
          "message": "SelectData_2: block thread completed",
          "name": "engine.logs:SelectData_2",
          "pathname": "/usr/local/lib/python3.7/dist-packages/razor/flow/async_executors.py",
          "process": 1654,
          "processName": "ForkProcess-1:5",
          "thread": 140067299338048,
          "threadName": "MainThread"
         },
         {
          "asctime": "2021-03-24 06:24:30,632",
          "created": 1616567070.6323376,
          "exc_info": null,
          "extra": {},
          "filename": null,
          "full_message": null,
          "funcName": null,
          "levelname": "STDOUT",
          "lineno": null,
          "message": "+--------------------+--------------------+\n|               title|               label|\n+--------------------+--------------------+\n|                null|                null|\n| the same newspap...|                null|\n|         \"\" it read.|                null|\n|                null|                null|\n|                null|                null|\n|                null|                null|\n|                null|                null|\n|                null|                null|\n|                null|                null|\n|                null|                null|\n|                null|                null|\n|                null|                null|\n|                null|                null|\n|                null|                null|\n| in Scotland Reut...| Bedfordshire. He...|\n|                null|                null|\n|           and Lance|                null|\n| a film based on ...|Tom Daley,Dustin ...|\n|                null|                null|\n| thus the series’...|                null|\n+--------------------+--------------------+\nonly showing top 20 rows\n\n",
          "name": "block.stdout:SelectData_1",
          "pathname": null,
          "process": null,
          "processName": null,
          "thread": null,
          "threadName": null
         },
         {
          "asctime": "2021-03-24 06:24:30,636",
          "created": 1616567070.6363938,
          "extra": {},
          "filename": "async_executors.py",
          "funcName": "main",
          "levelname": "DEBUG",
          "lineno": 149,
          "message": "SelectData_2: block execution complete",
          "name": "engine.logs:SelectData_2",
          "pathname": "/usr/local/lib/python3.7/dist-packages/razor/flow/async_executors.py",
          "process": 1654,
          "processName": "ForkProcess-1:5",
          "thread": 140067299338048,
          "threadName": "MainThread"
         },
         {
          "asctime": "2021-03-24 06:24:30,636",
          "created": 1616567070.6360781,
          "extra": {},
          "filename": "async_executors.py",
          "funcName": "distribute_output_queue",
          "levelname": "DEBUG",
          "lineno": 308,
          "message": "SelectData_1: ---- dist output: DataFrame[title: string, label: string] -> ('ConcatData_1', 'inputData_1')",
          "name": "engine.logs:SelectData_1",
          "pathname": "/usr/local/lib/python3.7/dist-packages/razor/flow/async_executors.py",
          "process": 1654,
          "processName": "ForkProcess-1:5",
          "thread": 140067299338048,
          "threadName": "MainThread"
         },
         {
          "asctime": "2021-03-24 06:24:30,636",
          "created": 1616567070.636796,
          "extra": {},
          "filename": "async_executors.py",
          "funcName": "distribute_output_queue",
          "levelname": "DEBUG",
          "lineno": 308,
          "message": "SelectData_2: ---- dist output: b'__!\\tEndOfStream\\t!__' -> ('RenameCol_1', 'inputData')",
          "name": "engine.logs:SelectData_2",
          "pathname": "/usr/local/lib/python3.7/dist-packages/razor/flow/async_executors.py",
          "process": 1654,
          "processName": "ForkProcess-1:5",
          "thread": 140067299338048,
          "threadName": "MainThread"
         },
         {
          "asctime": "2021-03-24 06:24:30,636",
          "created": 1616567070.6364868,
          "extra": {},
          "filename": "async_executors.py",
          "funcName": "main",
          "levelname": "DEBUG",
          "lineno": 147,
          "message": "SelectData_1: block thread completed",
          "name": "engine.logs:SelectData_1",
          "pathname": "/usr/local/lib/python3.7/dist-packages/razor/flow/async_executors.py",
          "process": 1654,
          "processName": "ForkProcess-1:5",
          "thread": 140067299338048,
          "threadName": "MainThread"
         },
         {
          "asctime": "2021-03-24 06:24:30,640",
          "created": 1616567070.6408522,
          "extra": {},
          "filename": "async_executors.py",
          "funcName": "start_input_receiver",
          "levelname": "DEBUG",
          "lineno": 173,
          "message": "SelectData_2: received cmd: start_sender, (), {'out_name': 'outputData', 'target': ('RenameCol_1', 'inputData'), 'out_addr': 'tcp://0.0.0.0:50728', 'in_memory': True}",
          "name": "engine.logs:SelectData_2",
          "pathname": "/usr/local/lib/python3.7/dist-packages/razor/flow/async_executors.py",
          "process": 1654,
          "processName": "ForkProcess-1:5",
          "thread": 140067299338048,
          "threadName": "MainThread"
         },
         {
          "asctime": "2021-03-24 06:24:30,636",
          "created": 1616567070.6365414,
          "extra": {},
          "filename": "async_executors.py",
          "funcName": "main",
          "levelname": "DEBUG",
          "lineno": 149,
          "message": "SelectData_1: block execution complete",
          "name": "engine.logs:SelectData_1",
          "pathname": "/usr/local/lib/python3.7/dist-packages/razor/flow/async_executors.py",
          "process": 1654,
          "processName": "ForkProcess-1:5",
          "thread": 140067299338048,
          "threadName": "MainThread"
         },
         {
          "asctime": "2021-03-24 06:24:30,641",
          "created": 1616567070.6412354,
          "extra": {},
          "filename": "async_executors.py",
          "funcName": "start_output_sender",
          "levelname": "DEBUG",
          "lineno": 370,
          "message": "SelectData_2: got start_sender, outputData, ('RenameCol_1', 'inputData')",
          "name": "engine.logs:SelectData_2",
          "pathname": "/usr/local/lib/python3.7/dist-packages/razor/flow/async_executors.py",
          "process": 1654,
          "processName": "ForkProcess-1:5",
          "thread": 140067299338048,
          "threadName": "MainThread"
         },
         {
          "asctime": "2021-03-24 06:24:30,637",
          "created": 1616567070.6370947,
          "extra": {},
          "filename": "async_executors.py",
          "funcName": "distribute_output_queue",
          "levelname": "DEBUG",
          "lineno": 308,
          "message": "SelectData_1: ---- dist output: b'__!\\tEndOfStream\\t!__' -> ('ConcatData_1', 'inputData_1')",
          "name": "engine.logs:SelectData_1",
          "pathname": "/usr/local/lib/python3.7/dist-packages/razor/flow/async_executors.py",
          "process": 1654,
          "processName": "ForkProcess-1:5",
          "thread": 140067299338048,
          "threadName": "MainThread"
         },
         {
          "asctime": "2021-03-24 06:24:30,643",
          "created": 1616567070.643098,
          "extra": {},
          "filename": "async_executors.py",
          "funcName": "fill_atomic_inputs",
          "levelname": "DEBUG",
          "lineno": 253,
          "message": "RenameCol_1: got atomic input: DataFrame[tweet: string, class: string]",
          "name": "engine.logs:RenameCol_1",
          "pathname": "/usr/local/lib/python3.7/dist-packages/razor/flow/async_executors.py",
          "process": 1654,
          "processName": "ForkProcess-1:5",
          "thread": 140067299338048,
          "threadName": "MainThread"
         },
         {
          "asctime": "2021-03-24 06:24:30,642",
          "created": 1616567070.6420562,
          "extra": {},
          "filename": "async_executors.py",
          "funcName": "start_output_sender",
          "levelname": "DEBUG",
          "lineno": 375,
          "message": "SelectData_2: SENT, inputData, DataFrame[tweet: string, class: string], ('RenameCol_1', 'inputData')",
          "name": "engine.logs:SelectData_2",
          "pathname": "/usr/local/lib/python3.7/dist-packages/razor/flow/async_executors.py",
          "process": 1654,
          "processName": "ForkProcess-1:5",
          "thread": 140067299338048,
          "threadName": "MainThread"
         },
         {
          "asctime": "2021-03-24 06:24:30,688",
          "created": 1616567070.6883194,
          "extra": {},
          "filename": "async_executors.py",
          "funcName": "start_input_receiver",
          "levelname": "DEBUG",
          "lineno": 173,
          "message": "SelectData_1: received cmd: start_sender, (), {'out_name': 'outputData', 'target': ('ConcatData_1', 'inputData_1'), 'out_addr': 'tcp://0.0.0.0:53027', 'in_memory': True}",
          "name": "engine.logs:SelectData_1",
          "pathname": "/usr/local/lib/python3.7/dist-packages/razor/flow/async_executors.py",
          "process": 1654,
          "processName": "ForkProcess-1:5",
          "thread": 140067299338048,
          "threadName": "MainThread"
         },
         {
          "asctime": "2021-03-24 06:24:30,643",
          "created": 1616567070.64319,
          "extra": {},
          "filename": "async_executors.py",
          "funcName": "fill_atomic_inputs",
          "levelname": "INFO",
          "lineno": 250,
          "message": "RenameCol_1: waiting for atomic input: col_dic",
          "name": "engine.logs:RenameCol_1",
          "pathname": "/usr/local/lib/python3.7/dist-packages/razor/flow/async_executors.py",
          "process": 1654,
          "processName": "ForkProcess-1:5",
          "thread": 140067299338048,
          "threadName": "MainThread"
         },
         {
          "asctime": "2021-03-24 06:24:30,642",
          "created": 1616567070.6421773,
          "extra": {},
          "filename": "async_executors.py",
          "funcName": "start_output_sender",
          "levelname": "DEBUG",
          "lineno": 375,
          "message": "SelectData_2: SENT, inputData, b'__!\\tEndOfStream\\t!__', ('RenameCol_1', 'inputData')",
          "name": "engine.logs:SelectData_2",
          "pathname": "/usr/local/lib/python3.7/dist-packages/razor/flow/async_executors.py",
          "process": 1654,
          "processName": "ForkProcess-1:5",
          "thread": 140067299338048,
          "threadName": "MainThread"
         },
         {
          "asctime": "2021-03-24 06:24:30,643",
          "created": 1616567070.6432602,
          "extra": {},
          "filename": "async_executors.py",
          "funcName": "fill_atomic_inputs",
          "levelname": "DEBUG",
          "lineno": 253,
          "message": "RenameCol_1: got atomic input: {'tweet': 'title', 'class': 'label'}",
          "name": "engine.logs:RenameCol_1",
          "pathname": "/usr/local/lib/python3.7/dist-packages/razor/flow/async_executors.py",
          "process": 1654,
          "processName": "ForkProcess-1:5",
          "thread": 140067299338048,
          "threadName": "MainThread"
         },
         {
          "asctime": "2021-03-24 06:24:30,642",
          "created": 1616567070.6422346,
          "extra": {},
          "filename": "async_executors.py",
          "funcName": "start_output_sender",
          "levelname": "DEBUG",
          "lineno": 379,
          "message": "SelectData_2: completed output: ('outputData', ('RenameCol_1', 'inputData'))",
          "name": "engine.logs:SelectData_2",
          "pathname": "/usr/local/lib/python3.7/dist-packages/razor/flow/async_executors.py",
          "process": 1654,
          "processName": "ForkProcess-1:5",
          "thread": 140067299338048,
          "threadName": "MainThread"
         },
         {
          "asctime": "2021-03-24 06:24:30,689",
          "created": 1616567070.6891315,
          "extra": {},
          "filename": "async_executors.py",
          "funcName": "start_output_sender",
          "levelname": "DEBUG",
          "lineno": 370,
          "message": "SelectData_1: got start_sender, outputData, ('ConcatData_1', 'inputData_1')",
          "name": "engine.logs:SelectData_1",
          "pathname": "/usr/local/lib/python3.7/dist-packages/razor/flow/async_executors.py",
          "process": 1654,
          "processName": "ForkProcess-1:5",
          "thread": 140067299338048,
          "threadName": "MainThread"
         },
         {
          "asctime": "2021-03-24 06:24:30,643",
          "created": 1616567070.6433,
          "extra": {},
          "filename": "async_executors.py",
          "funcName": "fill_atomic_inputs",
          "levelname": "INFO",
          "lineno": 250,
          "message": "RenameCol_1: waiting for atomic input: config",
          "name": "engine.logs:RenameCol_1",
          "pathname": "/usr/local/lib/python3.7/dist-packages/razor/flow/async_executors.py",
          "process": 1654,
          "processName": "ForkProcess-1:5",
          "thread": 140067299338048,
          "threadName": "MainThread"
         },
         {
          "asctime": "2021-03-24 06:24:30,692",
          "created": 1616567070.6922593,
          "extra": {},
          "filename": "async_executors.py",
          "funcName": "fill_atomic_inputs",
          "levelname": "DEBUG",
          "lineno": 253,
          "message": "ConcatData_1: got atomic input: DataFrame[title: string, label: string]",
          "name": "engine.logs:ConcatData_1",
          "pathname": "/usr/local/lib/python3.7/dist-packages/razor/flow/async_executors.py",
          "process": 1654,
          "processName": "ForkProcess-1:5",
          "thread": 140067299338048,
          "threadName": "MainThread"
         },
         {
          "asctime": "2021-03-24 06:24:30,692",
          "created": 1616567070.6929095,
          "extra": {},
          "filename": "async_executors.py",
          "funcName": "start_input_receiver",
          "levelname": "DEBUG",
          "lineno": 173,
          "message": "SelectData_2: received cmd: terminate, (), {}",
          "name": "engine.logs:SelectData_2",
          "pathname": "/usr/local/lib/python3.7/dist-packages/razor/flow/async_executors.py",
          "process": 1654,
          "processName": "ForkProcess-1:5",
          "thread": 140067299338048,
          "threadName": "MainThread"
         },
         {
          "asctime": "2021-03-24 06:24:30,690",
          "created": 1616567070.6900861,
          "extra": {},
          "filename": "async_executors.py",
          "funcName": "start_output_sender",
          "levelname": "DEBUG",
          "lineno": 375,
          "message": "SelectData_1: SENT, inputData_1, DataFrame[title: string, label: string], ('ConcatData_1', 'inputData_1')",
          "name": "engine.logs:SelectData_1",
          "pathname": "/usr/local/lib/python3.7/dist-packages/razor/flow/async_executors.py",
          "process": 1654,
          "processName": "ForkProcess-1:5",
          "thread": 140067299338048,
          "threadName": "MainThread"
         },
         {
          "asctime": "2021-03-24 06:24:30,643",
          "created": 1616567070.6433427,
          "extra": {},
          "filename": "async_executors.py",
          "funcName": "fill_atomic_inputs",
          "levelname": "DEBUG",
          "lineno": 253,
          "message": "RenameCol_1: got atomic input: {}",
          "name": "engine.logs:RenameCol_1",
          "pathname": "/usr/local/lib/python3.7/dist-packages/razor/flow/async_executors.py",
          "process": 1654,
          "processName": "ForkProcess-1:5",
          "thread": 140067299338048,
          "threadName": "MainThread"
         },
         {
          "asctime": "2021-03-24 06:24:30,692",
          "created": 1616567070.692385,
          "extra": {},
          "filename": "async_executors.py",
          "funcName": "fill_atomic_inputs",
          "levelname": "INFO",
          "lineno": 250,
          "message": "ConcatData_1: waiting for atomic input: inputData_2",
          "name": "engine.logs:ConcatData_1",
          "pathname": "/usr/local/lib/python3.7/dist-packages/razor/flow/async_executors.py",
          "process": 1654,
          "processName": "ForkProcess-1:5",
          "thread": 140067299338048,
          "threadName": "MainThread"
         },
         {
          "asctime": "2021-03-24 06:24:30,690",
          "created": 1616567070.6902504,
          "extra": {},
          "filename": "async_executors.py",
          "funcName": "start_output_sender",
          "levelname": "DEBUG",
          "lineno": 375,
          "message": "SelectData_1: SENT, inputData_1, b'__!\\tEndOfStream\\t!__', ('ConcatData_1', 'inputData_1')",
          "name": "engine.logs:SelectData_1",
          "pathname": "/usr/local/lib/python3.7/dist-packages/razor/flow/async_executors.py",
          "process": 1654,
          "processName": "ForkProcess-1:5",
          "thread": 140067299338048,
          "threadName": "MainThread"
         },
         {
          "asctime": "2021-03-24 06:24:30,643",
          "created": 1616567070.643376,
          "extra": {},
          "filename": "async_executors.py",
          "funcName": "fill_atomic_inputs",
          "levelname": "INFO",
          "lineno": 250,
          "message": "RenameCol_1: waiting for atomic input: source",
          "name": "engine.logs:RenameCol_1",
          "pathname": "/usr/local/lib/python3.7/dist-packages/razor/flow/async_executors.py",
          "process": 1654,
          "processName": "ForkProcess-1:5",
          "thread": 140067299338048,
          "threadName": "MainThread"
         },
         {
          "asctime": "2021-03-24 06:24:30,643",
          "created": 1616567070.643413,
          "extra": {},
          "filename": "async_executors.py",
          "funcName": "fill_atomic_inputs",
          "levelname": "DEBUG",
          "lineno": 253,
          "message": "RenameCol_1: got atomic input: ",
          "name": "engine.logs:RenameCol_1",
          "pathname": "/usr/local/lib/python3.7/dist-packages/razor/flow/async_executors.py",
          "process": 1654,
          "processName": "ForkProcess-1:5",
          "thread": 140067299338048,
          "threadName": "MainThread"
         },
         {
          "asctime": "2021-03-24 06:24:30,690",
          "created": 1616567070.6903317,
          "extra": {},
          "filename": "async_executors.py",
          "funcName": "start_output_sender",
          "levelname": "DEBUG",
          "lineno": 379,
          "message": "SelectData_1: completed output: ('outputData', ('ConcatData_1', 'inputData_1'))",
          "name": "engine.logs:SelectData_1",
          "pathname": "/usr/local/lib/python3.7/dist-packages/razor/flow/async_executors.py",
          "process": 1654,
          "processName": "ForkProcess-1:5",
          "thread": 140067299338048,
          "threadName": "MainThread"
         },
         {
          "asctime": "2021-03-24 06:24:30,643",
          "created": 1616567070.6434562,
          "extra": {},
          "filename": "async_executors.py",
          "funcName": "main",
          "levelname": "DEBUG",
          "lineno": 130,
          "message": "RenameCol_1: triggering block run",
          "name": "engine.logs:RenameCol_1",
          "pathname": "/usr/local/lib/python3.7/dist-packages/razor/flow/async_executors.py",
          "process": 1654,
          "processName": "ForkProcess-1:5",
          "thread": 140067299338048,
          "threadName": "MainThread"
         },
         {
          "asctime": "2021-03-24 06:24:30,695",
          "created": 1616567070.6953506,
          "extra": {},
          "filename": "async_executors.py",
          "funcName": "start_input_receiver",
          "levelname": "DEBUG",
          "lineno": 173,
          "message": "SelectData_1: received cmd: terminate, (), {}",
          "name": "engine.logs:SelectData_1",
          "pathname": "/usr/local/lib/python3.7/dist-packages/razor/flow/async_executors.py",
          "process": 1654,
          "processName": "ForkProcess-1:5",
          "thread": 140067299338048,
          "threadName": "MainThread"
         },
         {
          "asctime": "2021-03-24 06:24:30,709",
          "created": 1616567070.709821,
          "extra": {},
          "filename": "async_executors.py",
          "funcName": "distribute_output_queue",
          "levelname": "DEBUG",
          "lineno": 308,
          "message": "RenameCol_1: ---- dist output: DataFrame[title: string, label: string] -> ('ConcatData_1', 'inputData_2')",
          "name": "engine.logs:RenameCol_1",
          "pathname": "/usr/local/lib/python3.7/dist-packages/razor/flow/async_executors.py",
          "process": 1654,
          "processName": "ForkProcess-1:5",
          "thread": 140067299338048,
          "threadName": "MainThread"
         },
         {
          "asctime": "2021-03-24 06:24:30,710",
          "created": 1616567070.7102215,
          "extra": {},
          "filename": "async_executors.py",
          "funcName": "main",
          "levelname": "DEBUG",
          "lineno": 147,
          "message": "RenameCol_1: block thread completed",
          "name": "engine.logs:RenameCol_1",
          "pathname": "/usr/local/lib/python3.7/dist-packages/razor/flow/async_executors.py",
          "process": 1654,
          "processName": "ForkProcess-1:5",
          "thread": 140067299338048,
          "threadName": "MainThread"
         },
         {
          "asctime": "2021-03-24 06:24:30,710",
          "created": 1616567070.71036,
          "extra": {},
          "filename": "async_executors.py",
          "funcName": "main",
          "levelname": "DEBUG",
          "lineno": 149,
          "message": "RenameCol_1: block execution complete",
          "name": "engine.logs:RenameCol_1",
          "pathname": "/usr/local/lib/python3.7/dist-packages/razor/flow/async_executors.py",
          "process": 1654,
          "processName": "ForkProcess-1:5",
          "thread": 140067299338048,
          "threadName": "MainThread"
         },
         {
          "asctime": "2021-03-24 06:24:30,710",
          "created": 1616567070.7105536,
          "extra": {},
          "filename": "async_executors.py",
          "funcName": "distribute_output_queue",
          "levelname": "DEBUG",
          "lineno": 308,
          "message": "RenameCol_1: ---- dist output: b'__!\\tEndOfStream\\t!__' -> ('ConcatData_1', 'inputData_2')",
          "name": "engine.logs:RenameCol_1",
          "pathname": "/usr/local/lib/python3.7/dist-packages/razor/flow/async_executors.py",
          "process": 1654,
          "processName": "ForkProcess-1:5",
          "thread": 140067299338048,
          "threadName": "MainThread"
         },
         {
          "asctime": "2021-03-24 06:24:30,713",
          "created": 1616567070.7130947,
          "extra": {},
          "filename": "async_executors.py",
          "funcName": "start_input_receiver",
          "levelname": "DEBUG",
          "lineno": 173,
          "message": "RenameCol_1: received cmd: start_sender, (), {'out_name': 'outputData', 'target': ('ConcatData_1', 'inputData_2'), 'out_addr': 'tcp://0.0.0.0:53027', 'in_memory': True}",
          "name": "engine.logs:RenameCol_1",
          "pathname": "/usr/local/lib/python3.7/dist-packages/razor/flow/async_executors.py",
          "process": 1654,
          "processName": "ForkProcess-1:5",
          "thread": 140067299338048,
          "threadName": "MainThread"
         },
         {
          "asctime": "2021-03-24 06:24:30,713",
          "created": 1616567070.7134554,
          "extra": {},
          "filename": "async_executors.py",
          "funcName": "start_output_sender",
          "levelname": "DEBUG",
          "lineno": 370,
          "message": "RenameCol_1: got start_sender, outputData, ('ConcatData_1', 'inputData_2')",
          "name": "engine.logs:RenameCol_1",
          "pathname": "/usr/local/lib/python3.7/dist-packages/razor/flow/async_executors.py",
          "process": 1654,
          "processName": "ForkProcess-1:5",
          "thread": 140067299338048,
          "threadName": "MainThread"
         },
         {
          "asctime": "2021-03-24 06:24:30,716",
          "created": 1616567070.716012,
          "extra": {},
          "filename": "async_executors.py",
          "funcName": "fill_atomic_inputs",
          "levelname": "DEBUG",
          "lineno": 253,
          "message": "ConcatData_1: got atomic input: DataFrame[title: string, label: string]",
          "name": "engine.logs:ConcatData_1",
          "pathname": "/usr/local/lib/python3.7/dist-packages/razor/flow/async_executors.py",
          "process": 1654,
          "processName": "ForkProcess-1:5",
          "thread": 140067299338048,
          "threadName": "MainThread"
         },
         {
          "asctime": "2021-03-24 06:24:30,714",
          "created": 1616567070.7147813,
          "extra": {},
          "filename": "async_executors.py",
          "funcName": "start_output_sender",
          "levelname": "DEBUG",
          "lineno": 375,
          "message": "RenameCol_1: SENT, inputData_2, DataFrame[title: string, label: string], ('ConcatData_1', 'inputData_2')",
          "name": "engine.logs:RenameCol_1",
          "pathname": "/usr/local/lib/python3.7/dist-packages/razor/flow/async_executors.py",
          "process": 1654,
          "processName": "ForkProcess-1:5",
          "thread": 140067299338048,
          "threadName": "MainThread"
         },
         {
          "asctime": "2021-03-24 06:24:30,716",
          "created": 1616567070.7161555,
          "extra": {},
          "filename": "async_executors.py",
          "funcName": "fill_atomic_inputs",
          "levelname": "INFO",
          "lineno": 250,
          "message": "ConcatData_1: waiting for atomic input: config",
          "name": "engine.logs:ConcatData_1",
          "pathname": "/usr/local/lib/python3.7/dist-packages/razor/flow/async_executors.py",
          "process": 1654,
          "processName": "ForkProcess-1:5",
          "thread": 140067299338048,
          "threadName": "MainThread"
         },
         {
          "asctime": "2021-03-24 06:24:30,714",
          "created": 1616567070.7149167,
          "extra": {},
          "filename": "async_executors.py",
          "funcName": "start_output_sender",
          "levelname": "DEBUG",
          "lineno": 375,
          "message": "RenameCol_1: SENT, inputData_2, b'__!\\tEndOfStream\\t!__', ('ConcatData_1', 'inputData_2')",
          "name": "engine.logs:RenameCol_1",
          "pathname": "/usr/local/lib/python3.7/dist-packages/razor/flow/async_executors.py",
          "process": 1654,
          "processName": "ForkProcess-1:5",
          "thread": 140067299338048,
          "threadName": "MainThread"
         },
         {
          "asctime": "2021-03-24 06:24:30,716",
          "created": 1616567070.7162566,
          "extra": {},
          "filename": "async_executors.py",
          "funcName": "fill_atomic_inputs",
          "levelname": "DEBUG",
          "lineno": 253,
          "message": "ConcatData_1: got atomic input: {}",
          "name": "engine.logs:ConcatData_1",
          "pathname": "/usr/local/lib/python3.7/dist-packages/razor/flow/async_executors.py",
          "process": 1654,
          "processName": "ForkProcess-1:5",
          "thread": 140067299338048,
          "threadName": "MainThread"
         },
         {
          "asctime": "2021-03-24 06:24:30,714",
          "created": 1616567070.714981,
          "extra": {},
          "filename": "async_executors.py",
          "funcName": "start_output_sender",
          "levelname": "DEBUG",
          "lineno": 379,
          "message": "RenameCol_1: completed output: ('outputData', ('ConcatData_1', 'inputData_2'))",
          "name": "engine.logs:RenameCol_1",
          "pathname": "/usr/local/lib/python3.7/dist-packages/razor/flow/async_executors.py",
          "process": 1654,
          "processName": "ForkProcess-1:5",
          "thread": 140067299338048,
          "threadName": "MainThread"
         },
         {
          "asctime": "2021-03-24 06:24:30,716",
          "created": 1616567070.7163277,
          "extra": {},
          "filename": "async_executors.py",
          "funcName": "fill_atomic_inputs",
          "levelname": "INFO",
          "lineno": 250,
          "message": "ConcatData_1: waiting for atomic input: source",
          "name": "engine.logs:ConcatData_1",
          "pathname": "/usr/local/lib/python3.7/dist-packages/razor/flow/async_executors.py",
          "process": 1654,
          "processName": "ForkProcess-1:5",
          "thread": 140067299338048,
          "threadName": "MainThread"
         },
         {
          "asctime": "2021-03-24 06:24:30,718",
          "created": 1616567070.7186098,
          "extra": {},
          "filename": "async_executors.py",
          "funcName": "start_input_receiver",
          "levelname": "DEBUG",
          "lineno": 173,
          "message": "RenameCol_1: received cmd: terminate, (), {}",
          "name": "engine.logs:RenameCol_1",
          "pathname": "/usr/local/lib/python3.7/dist-packages/razor/flow/async_executors.py",
          "process": 1654,
          "processName": "ForkProcess-1:5",
          "thread": 140067299338048,
          "threadName": "MainThread"
         },
         {
          "asctime": "2021-03-24 06:24:30,716",
          "created": 1616567070.7164116,
          "extra": {},
          "filename": "async_executors.py",
          "funcName": "fill_atomic_inputs",
          "levelname": "DEBUG",
          "lineno": 253,
          "message": "ConcatData_1: got atomic input: ",
          "name": "engine.logs:ConcatData_1",
          "pathname": "/usr/local/lib/python3.7/dist-packages/razor/flow/async_executors.py",
          "process": 1654,
          "processName": "ForkProcess-1:5",
          "thread": 140067299338048,
          "threadName": "MainThread"
         },
         {
          "asctime": "2021-03-24 06:24:30,716",
          "created": 1616567070.7164943,
          "extra": {},
          "filename": "async_executors.py",
          "funcName": "main",
          "levelname": "DEBUG",
          "lineno": 130,
          "message": "ConcatData_1: triggering block run",
          "name": "engine.logs:ConcatData_1",
          "pathname": "/usr/local/lib/python3.7/dist-packages/razor/flow/async_executors.py",
          "process": 1654,
          "processName": "ForkProcess-1:5",
          "thread": 140067299338048,
          "threadName": "MainThread"
         },
         {
          "asctime": "2021-03-24 06:24:30,744",
          "created": 1616567070.744938,
          "exc_info": null,
          "extra": {},
          "filename": null,
          "full_message": null,
          "funcName": null,
          "levelname": "STDOUT",
          "lineno": null,
          "message": "Concat Data\n",
          "name": "block.stdout:ConcatData_1",
          "pathname": null,
          "process": null,
          "processName": null,
          "thread": null,
          "threadName": null
         },
         {
          "asctime": "2021-03-24 06:24:31,487",
          "created": 1616567071.487721,
          "exc_info": null,
          "extra": {},
          "filename": null,
          "full_message": null,
          "funcName": null,
          "levelname": "STDOUT",
          "lineno": null,
          "message": "+--------------------+--------------------+\n|               title|               label|\n+--------------------+--------------------+\n|                null|                null|\n| the same newspap...|                null|\n|         \"\" it read.|                null|\n|                null|                null|\n|                null|                null|\n|                null|                null|\n|                null|                null|\n|                null|                null|\n|                null|                null|\n|                null|                null|\n|                null|                null|\n|                null|                null|\n|                null|                null|\n|                null|                null|\n| in Scotland Reut...| Bedfordshire. He...|\n|                null|                null|\n|           and Lance|                null|\n| a film based on ...|Tom Daley,Dustin ...|\n|                null|                null|\n| thus the series’...|                null|\n+--------------------+--------------------+\nonly showing top 20 rows\n\n",
          "name": "block.stdout:ConcatData_1",
          "pathname": null,
          "process": null,
          "processName": null,
          "thread": null,
          "threadName": null
         },
         {
          "asctime": "2021-03-24 06:24:31,488",
          "created": 1616567071.4885256,
          "extra": {},
          "filename": "async_executors.py",
          "funcName": "main",
          "levelname": "DEBUG",
          "lineno": 147,
          "message": "ConcatData_1: block thread completed",
          "name": "engine.logs:ConcatData_1",
          "pathname": "/usr/local/lib/python3.7/dist-packages/razor/flow/async_executors.py",
          "process": 1654,
          "processName": "ForkProcess-1:5",
          "thread": 140067299338048,
          "threadName": "MainThread"
         },
         {
          "asctime": "2021-03-24 06:24:31,488",
          "created": 1616567071.4886339,
          "extra": {},
          "filename": "async_executors.py",
          "funcName": "main",
          "levelname": "DEBUG",
          "lineno": 149,
          "message": "ConcatData_1: block execution complete",
          "name": "engine.logs:ConcatData_1",
          "pathname": "/usr/local/lib/python3.7/dist-packages/razor/flow/async_executors.py",
          "process": 1654,
          "processName": "ForkProcess-1:5",
          "thread": 140067299338048,
          "threadName": "MainThread"
         },
         {
          "asctime": "2021-03-24 06:24:31,495",
          "created": 1616567071.4955494,
          "extra": {},
          "filename": "async_executors.py",
          "funcName": "start_input_receiver",
          "levelname": "DEBUG",
          "lineno": 173,
          "message": "ConcatData_1: received cmd: terminate, (), {}",
          "name": "engine.logs:ConcatData_1",
          "pathname": "/usr/local/lib/python3.7/dist-packages/razor/flow/async_executors.py",
          "process": 1654,
          "processName": "ForkProcess-1:5",
          "thread": 140067299338048,
          "threadName": "MainThread"
         }
        ],
        "meta": {
         "block_status": {
          "ConcatData_1": "SUCCESS",
          "NonSparkCols_1": "SUCCESS",
          "NonSparkCols_2": "SUCCESS",
          "NonSparkPath_1": "SUCCESS",
          "NonSparkPath_2": "SUCCESS",
          "ReadCsvProjectSpace_1": "SUCCESS",
          "ReadCsvProjectSpace_2": "SUCCESS",
          "RenameCol_1": "SUCCESS",
          "SelectData_1": "SUCCESS",
          "SelectData_2": "SUCCESS"
         },
         "blocks": [
          {
           "class_name": "NonSparkCols",
           "fullname": "razor.project.blocks.sourya_spark_blocks.NonSparkCols",
           "id": "61808c8a-f520-46bd-b746-89d5c27bd148",
           "inputs": [
            {
             "dataType": null,
             "default": null,
             "flow": "atomic",
             "help": null,
             "isdict": false,
             "islist": false,
             "label": "cols_list",
             "meta": {},
             "name": "cols_list",
             "series": false,
             "type": "Any",
             "type_check": true
            }
           ],
           "outputs": [
            {
             "flow": "atomic",
             "help": null,
             "label": "selected_cols",
             "meta": {},
             "name": "selected_cols",
             "series": false,
             "type": "Any",
             "type_check": true
            }
           ],
           "overwritten": false,
           "published": true,
           "var_names": [
            "NonSparkCols"
           ]
          },
          {
           "class_name": "ReadCsvProjectSpace",
           "fullname": "razor.project.blocks.sourya_spark_blocks.ReadCsvProjectSpace",
           "id": "45afce5e-5e99-4832-83f1-5b13004aed90",
           "inputs": [
            {
             "dataType": "string",
             "default": "",
             "flow": "atomic",
             "help": null,
             "isdict": false,
             "islist": false,
             "label": "filename",
             "meta": {},
             "name": "filename",
             "series": false,
             "type": "str",
             "type_check": true
            },
            {
             "dataType": "dict",
             "default": {},
             "flow": "atomic",
             "help": null,
             "isdict": false,
             "islist": false,
             "label": "config",
             "meta": {},
             "name": "config",
             "series": false,
             "type": "dict",
             "type_check": true
            },
            {
             "dataType": "string",
             "default": "",
             "flow": "atomic",
             "help": null,
             "isdict": false,
             "islist": false,
             "label": "source",
             "meta": {},
             "name": "source",
             "series": false,
             "type": "str",
             "type_check": true
            }
           ],
           "outputs": [
            {
             "flow": "atomic",
             "help": null,
             "label": "data",
             "meta": {},
             "name": "data",
             "series": false,
             "type": "DataFrame",
             "type_check": true
            }
           ],
           "overwritten": false,
           "published": true,
           "var_names": [
            "ReadCsvProjectSpace"
           ]
          },
          {
           "class_name": "NonSparkPath",
           "fullname": "razor.project.blocks.sourya_spark_blocks.NonSparkPath",
           "id": "c72a4c29-1756-44db-b1a1-9e31bc9d6662",
           "inputs": [
            {
             "dataType": "string",
             "default": "",
             "flow": "atomic",
             "help": null,
             "isdict": false,
             "islist": false,
             "label": "ip_path",
             "meta": {},
             "name": "ip_path",
             "series": false,
             "type": "str",
             "type_check": true
            }
           ],
           "outputs": [
            {
             "flow": "atomic",
             "help": null,
             "label": "op_path",
             "meta": {},
             "name": "op_path",
             "series": false,
             "type": "str",
             "type_check": true
            }
           ],
           "overwritten": false,
           "published": true,
           "var_names": [
            "NonSparkPath"
           ]
          },
          {
           "class_name": "SelectData",
           "fullname": "razor.project.blocks.sourya_spark_blocks.SelectData",
           "id": "f102dd1e-2160-446d-966f-8400ac21df94",
           "inputs": [
            {
             "dataType": null,
             "default": null,
             "flow": "atomic",
             "help": null,
             "isdict": false,
             "islist": false,
             "label": "wanted_cols",
             "meta": {},
             "name": "wanted_cols",
             "series": false,
             "type": "Any",
             "type_check": true
            },
            {
             "dataType": null,
             "default": null,
             "flow": "atomic",
             "help": null,
             "isdict": false,
             "islist": false,
             "label": "inputData",
             "meta": {},
             "name": "inputData",
             "series": false,
             "type": "DataFrame",
             "type_check": true
            },
            {
             "dataType": "dict",
             "default": {},
             "flow": "atomic",
             "help": null,
             "isdict": false,
             "islist": false,
             "label": "config",
             "meta": {},
             "name": "config",
             "series": false,
             "type": "dict",
             "type_check": true
            },
            {
             "dataType": "string",
             "default": "",
             "flow": "atomic",
             "help": null,
             "isdict": false,
             "islist": false,
             "label": "source",
             "meta": {},
             "name": "source",
             "series": false,
             "type": "str",
             "type_check": true
            }
           ],
           "outputs": [
            {
             "flow": "atomic",
             "help": null,
             "label": "outputData",
             "meta": {},
             "name": "outputData",
             "series": false,
             "type": "DataFrame",
             "type_check": true
            }
           ],
           "overwritten": false,
           "published": true,
           "var_names": [
            "SelectData"
           ]
          },
          {
           "class_name": "ConcatData",
           "fullname": "razor.project.blocks.sourya_spark_blocks.ConcatData",
           "id": "cfd6634a-f66c-4776-b2bd-08937b73d360",
           "inputs": [
            {
             "dataType": null,
             "default": null,
             "flow": "atomic",
             "help": null,
             "isdict": false,
             "islist": false,
             "label": "inputData_1",
             "meta": {},
             "name": "inputData_1",
             "series": false,
             "type": "DataFrame",
             "type_check": true
            },
            {
             "dataType": null,
             "default": null,
             "flow": "atomic",
             "help": null,
             "isdict": false,
             "islist": false,
             "label": "inputData_2",
             "meta": {},
             "name": "inputData_2",
             "series": false,
             "type": "DataFrame",
             "type_check": true
            },
            {
             "dataType": "dict",
             "default": {},
             "flow": "atomic",
             "help": null,
             "isdict": false,
             "islist": false,
             "label": "config",
             "meta": {},
             "name": "config",
             "series": false,
             "type": "dict",
             "type_check": true
            },
            {
             "dataType": "string",
             "default": "",
             "flow": "atomic",
             "help": null,
             "isdict": false,
             "islist": false,
             "label": "source",
             "meta": {},
             "name": "source",
             "series": false,
             "type": "str",
             "type_check": true
            }
           ],
           "outputs": [
            {
             "flow": "atomic",
             "help": null,
             "label": "outputData",
             "meta": {},
             "name": "outputData",
             "series": false,
             "type": "DataFrame",
             "type_check": true
            }
           ],
           "overwritten": false,
           "published": true,
           "var_names": [
            "ConcatData"
           ]
          },
          {
           "class_name": "RenameCol",
           "fullname": "razor.project.blocks.sourya_spark_blocks.RenameCol",
           "id": "d480dec6-5842-4e3c-909c-403249d8c19a",
           "inputs": [
            {
             "dataType": null,
             "default": null,
             "flow": "atomic",
             "help": null,
             "isdict": false,
             "islist": false,
             "label": "inputData",
             "meta": {},
             "name": "inputData",
             "series": false,
             "type": "DataFrame",
             "type_check": true
            },
            {
             "dataType": null,
             "default": null,
             "flow": "atomic",
             "help": null,
             "isdict": false,
             "islist": false,
             "label": "col_dic",
             "meta": {},
             "name": "col_dic",
             "series": false,
             "type": "Any",
             "type_check": true
            },
            {
             "dataType": "dict",
             "default": {},
             "flow": "atomic",
             "help": null,
             "isdict": false,
             "islist": false,
             "label": "config",
             "meta": {},
             "name": "config",
             "series": false,
             "type": "dict",
             "type_check": true
            },
            {
             "dataType": "string",
             "default": "",
             "flow": "atomic",
             "help": null,
             "isdict": false,
             "islist": false,
             "label": "source",
             "meta": {},
             "name": "source",
             "series": false,
             "type": "str",
             "type_check": true
            }
           ],
           "outputs": [
            {
             "flow": "atomic",
             "help": null,
             "label": "outputData",
             "meta": {},
             "name": "outputData",
             "series": false,
             "type": "DataFrame",
             "type_check": true
            }
           ],
           "overwritten": false,
           "published": true,
           "var_names": [
            "RenameCol"
           ]
          }
         ],
         "connections": [
          {
           "id": "bef51c84-2936-48af-bf2f-c23f24b69e87",
           "source": {
            "adapter": false,
            "instance_id": "e145a233-c25b-43db-9399-c9d325198276",
            "name": "selected_cols"
           },
           "target": {
            "adapter": false,
            "instance_id": "5bbe4d69-7192-4bbc-88f5-ace2f89923e8",
            "name": "wanted_cols"
           }
          },
          {
           "id": "2594a8a5-7184-40e7-8a70-eec4d376c5ba",
           "source": {
            "adapter": false,
            "instance_id": "3cf7a92f-4235-4c1b-aa70-245e343399d7",
            "name": "outputData"
           },
           "target": {
            "adapter": false,
            "instance_id": "001e249f-eef0-41ee-a99d-a9a3f2e45b2d",
            "name": "inputData"
           }
          },
          {
           "id": "72002964-9e52-489a-b6bb-15e189892d94",
           "source": {
            "adapter": false,
            "instance_id": "110171e9-3d5b-4a1e-a439-1f14884a53c4",
            "name": "data"
           },
           "target": {
            "adapter": false,
            "instance_id": "3cf7a92f-4235-4c1b-aa70-245e343399d7",
            "name": "inputData"
           }
          },
          {
           "id": "0997a6c1-40bf-47b6-8d2d-bc8f3f057ee4",
           "source": {
            "adapter": false,
            "instance_id": "93120b7b-105a-4fff-b3a5-60bfc2e9ba23",
            "name": "selected_cols"
           },
           "target": {
            "adapter": false,
            "instance_id": "3cf7a92f-4235-4c1b-aa70-245e343399d7",
            "name": "wanted_cols"
           }
          },
          {
           "id": "3d28a67b-9360-467f-86f4-448643a59ff1",
           "source": {
            "adapter": false,
            "instance_id": "eb131118-fa4f-43c7-b243-5728d494a6be",
            "name": "op_path"
           },
           "target": {
            "adapter": false,
            "instance_id": "e8aac861-cc8c-456a-9254-eb47d66d38a3",
            "name": "filename"
           }
          },
          {
           "id": "c936618e-7e05-44b7-af1c-5e5d8fdc5263",
           "source": {
            "adapter": false,
            "instance_id": "e8aac861-cc8c-456a-9254-eb47d66d38a3",
            "name": "data"
           },
           "target": {
            "adapter": false,
            "instance_id": "5bbe4d69-7192-4bbc-88f5-ace2f89923e8",
            "name": "inputData"
           }
          },
          {
           "id": "c7d86c40-070e-4a09-8d36-163c42b37c27",
           "source": {
            "adapter": false,
            "instance_id": "239dffc9-4b8b-40ec-a21c-7850c702673b",
            "name": "op_path"
           },
           "target": {
            "adapter": false,
            "instance_id": "110171e9-3d5b-4a1e-a439-1f14884a53c4",
            "name": "filename"
           }
          },
          {
           "id": "8910a85f-940f-4a5e-93a0-60152f4025ca",
           "source": {
            "adapter": false,
            "instance_id": "5bbe4d69-7192-4bbc-88f5-ace2f89923e8",
            "name": "outputData"
           },
           "target": {
            "adapter": false,
            "instance_id": "95511ccc-4fb9-4166-86c3-1aec9b8fbfcd",
            "name": "inputData_1"
           }
          },
          {
           "id": "979a54cd-3b9c-41e2-9e05-47ffcc6ac18a",
           "source": {
            "adapter": false,
            "instance_id": "001e249f-eef0-41ee-a99d-a9a3f2e45b2d",
            "name": "outputData"
           },
           "target": {
            "adapter": false,
            "instance_id": "95511ccc-4fb9-4166-86c3-1aec9b8fbfcd",
            "name": "inputData_2"
           }
          }
         ],
         "end": 1616567071.4986813,
         "id": "d9223999-e91a-4fde-91c7-ce3f15c3ee42",
         "instances": [
          {
           "block_class": "cfd6634a-f66c-4776-b2bd-08937b73d360",
           "id": "95511ccc-4fb9-4166-86c3-1aec9b8fbfcd",
           "name": "ConcatData_1",
           "var_names": [
            "cd"
           ]
          },
          {
           "block_class": "f102dd1e-2160-446d-966f-8400ac21df94",
           "id": "5bbe4d69-7192-4bbc-88f5-ace2f89923e8",
           "name": "SelectData_1",
           "var_names": [
            "sd"
           ]
          },
          {
           "block_class": "61808c8a-f520-46bd-b746-89d5c27bd148",
           "id": "e145a233-c25b-43db-9399-c9d325198276",
           "name": "NonSparkCols_1",
           "var_names": [
            "nsc"
           ]
          },
          {
           "block_class": "45afce5e-5e99-4832-83f1-5b13004aed90",
           "id": "e8aac861-cc8c-456a-9254-eb47d66d38a3",
           "name": "ReadCsvProjectSpace_1",
           "var_names": [
            "rcp"
           ]
          },
          {
           "block_class": "c72a4c29-1756-44db-b1a1-9e31bc9d6662",
           "id": "eb131118-fa4f-43c7-b243-5728d494a6be",
           "name": "NonSparkPath_1",
           "var_names": [
            "nsp"
           ]
          },
          {
           "block_class": "d480dec6-5842-4e3c-909c-403249d8c19a",
           "id": "001e249f-eef0-41ee-a99d-a9a3f2e45b2d",
           "name": "RenameCol_1",
           "var_names": [
            "rc"
           ]
          },
          {
           "block_class": "f102dd1e-2160-446d-966f-8400ac21df94",
           "id": "3cf7a92f-4235-4c1b-aa70-245e343399d7",
           "name": "SelectData_2",
           "var_names": [
            "sd1"
           ]
          },
          {
           "block_class": "61808c8a-f520-46bd-b746-89d5c27bd148",
           "id": "93120b7b-105a-4fff-b3a5-60bfc2e9ba23",
           "name": "NonSparkCols_2",
           "var_names": [
            "nsc1"
           ]
          },
          {
           "block_class": "45afce5e-5e99-4832-83f1-5b13004aed90",
           "id": "110171e9-3d5b-4a1e-a439-1f14884a53c4",
           "name": "ReadCsvProjectSpace_2",
           "var_names": [
            "rcp1"
           ]
          },
          {
           "block_class": "c72a4c29-1756-44db-b1a1-9e31bc9d6662",
           "id": "239dffc9-4b8b-40ec-a21c-7850c702673b",
           "name": "NonSparkPath_2",
           "var_names": [
            "nsp1"
           ]
          }
         ],
         "log_level": 20,
         "name": "pipeline_sd_3",
         "start": 1616567057.7186506,
         "status": "SUCCESS",
         "system_logs": false,
         "var_names": []
        },
        "metrics": {},
        "runtime": {
         "ConcatData_1": {
          "end": 1616567071.4933321,
          "load": 1616567058.0068035,
          "start": 1616567058.0211403
         },
         "NonSparkCols_1": {
          "end": 1616567058.3164093,
          "load": 1616567057.7201164,
          "start": 1616567057.7261353
         },
         "NonSparkCols_2": {
          "end": 1616567058.312252,
          "load": 1616567057.7370176,
          "start": 1616567057.743067
         },
         "NonSparkPath_1": {
          "end": 1616567058.3089323,
          "load": 1616567057.7286825,
          "start": 1616567057.734516
         },
         "NonSparkPath_2": {
          "end": 1616567058.3027585,
          "load": 1616567057.7456338,
          "start": 1616567057.7520053
         },
         "ReadCsvProjectSpace_1": {
          "end": 1616567069.9099088,
          "load": 1616567058.0068035,
          "start": 1616567058.0211403
         },
         "ReadCsvProjectSpace_2": {
          "end": 1616567069.912881,
          "load": 1616567058.0068035,
          "start": 1616567058.0211403
         },
         "RenameCol_1": {
          "end": 1616567070.7160864,
          "load": 1616567058.0068035,
          "start": 1616567058.0211403
         },
         "SelectData_1": {
          "end": 1616567070.6932766,
          "load": 1616567058.0068035,
          "start": 1616567058.0211403
         },
         "SelectData_2": {
          "end": 1616567070.645211,
          "load": 1616567058.0068035,
          "start": 1616567058.0211403
         }
        }
       },
       "store_in_notebook": true
      }
     },
     "output_type": "display_data"
    },
    {
     "data": {
      "text/plain": [
       "{}"
      ]
     },
     "execution_count": 10,
     "metadata": {},
     "output_type": "execute_result"
    }
   ],
   "source": [
    "pipe.execute()"
   ]
  },
  {
   "cell_type": "code",
   "execution_count": null,
   "id": "terminal-joshua",
   "metadata": {},
   "outputs": [],
   "source": []
  },
  {
   "cell_type": "code",
   "execution_count": null,
   "id": "eleven-dispatch",
   "metadata": {},
   "outputs": [],
   "source": []
  },
  {
   "cell_type": "code",
   "execution_count": null,
   "id": "verified-label",
   "metadata": {},
   "outputs": [],
   "source": []
  }
 ],
 "metadata": {
  "kernelspec": {
   "display_name": "Python 3",
   "language": "python",
   "name": "python3"
  },
  "language_info": {
   "codemirror_mode": {
    "name": "ipython",
    "version": 3
   },
   "file_extension": ".py",
   "mimetype": "text/x-python",
   "name": "python",
   "nbconvert_exporter": "python",
   "pygments_lexer": "ipython3",
   "version": "3.7.10"
  }
 },
 "nbformat": 4,
 "nbformat_minor": 5
}
