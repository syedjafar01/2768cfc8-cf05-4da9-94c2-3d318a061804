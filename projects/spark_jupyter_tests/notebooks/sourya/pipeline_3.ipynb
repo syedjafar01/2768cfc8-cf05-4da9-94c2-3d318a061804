{
 "cells": [
  {
   "cell_type": "code",
   "execution_count": 1,
   "id": "orange-party",
   "metadata": {},
   "outputs": [],
   "source": [
    "import razor\n",
    "import razor.flow as rf\n",
    "from razor import api\n",
    "from razor.flow.spark import SparkBlock, SparkExecutor\n",
    "import typing as t"
   ]
  },
  {
   "cell_type": "code",
   "execution_count": 2,
   "id": "regulation-paraguay",
   "metadata": {},
   "outputs": [],
   "source": [
    "import os\n",
    "from datetime import datetime, timedelta\n",
    "from pyspark.sql import SparkSession, functions\n",
    "from pyspark.sql.dataframe import DataFrame\n",
    "from datetime import datetime, timedelta\n",
    "from dateutil.relativedelta import relativedelta"
   ]
  },
  {
   "cell_type": "code",
   "execution_count": 3,
   "id": "valid-router",
   "metadata": {},
   "outputs": [],
   "source": [
    "def project_space_path(path):\n",
    "    ps = api.datasources('Project Space')\n",
    "    return os.path.join(ps.abspath(), path)\n"
   ]
  },
  {
   "cell_type": "code",
   "execution_count": 4,
   "id": "portuguese-portable",
   "metadata": {},
   "outputs": [],
   "source": [
    "@rf.block\n",
    "class NonSparkPath:\n",
    "    # Atomic input - csv filename relative to project space\n",
    "    ip_path: str\n",
    "    selected_cols: rf.Output[t.Any]\n",
    "    # Atomic output of type spark DataFrame.\n",
    "    op_path: rf.Output[str]\n",
    "    def run(self):\n",
    "        self.op_path.put(project_space_path(self.ip_path))\n",
    "        \n",
    "@rf.block\n",
    "class NonSparkCols:\n",
    "    cols_list: t.Any\n",
    "    # Atomic input - csv filename relative to project space\n",
    "    selected_cols: rf.Output[t.Any]\n",
    "    # Atomic output of type spark DataFrame.\n",
    "    def run(self):\n",
    "        self.selected_cols.put(self.cols_list)\n",
    "        \n",
    "        "
   ]
  },
  {
   "cell_type": "code",
   "execution_count": 5,
   "id": "august-quality",
   "metadata": {},
   "outputs": [],
   "source": [
    "@rf.block\n",
    "class ReadCsvProjectSpace(SparkBlock):\n",
    "    filename:str\n",
    "    data: rf.Output[DataFrame]\n",
    "    def run(self):\n",
    "        df = self.spark.read.csv(self.filename, header = True)\n",
    "        print(\"Data Schema\")\n",
    "        df.printSchema()\n",
    "        self.data.put(df)\n",
    "        \n",
    "\n",
    "@rf.block\n",
    "class SelectData(SparkBlock):\n",
    "    wanted_cols: t.Any\n",
    "    inputData: DataFrame\n",
    "    outputData: rf.Output[DataFrame]\n",
    "    def run(self):\n",
    "        df = self.inputData\n",
    "        df_selected = df.select(self.wanted_cols)\n",
    "        df_selected.show()\n",
    "        self.outputData.put(df_selected)\n",
    "        \n",
    "        \n",
    "        \n",
    "@rf.block\n",
    "class ConcatData(SparkBlock):\n",
    "    inputData_1: DataFrame\n",
    "    inputData_2: DataFrame\n",
    "    outputData: rf.Output[DataFrame]\n",
    "    def run(self):\n",
    "        df_concat = self.inputData_1.union(self.inputData_1)\n",
    "        print(\"Concat Data\")\n",
    "        df_concat.show()\n",
    "        self.outputData.put(df_concat)\n",
    "        \n",
    "\n",
    "@rf.block\n",
    "class RenameCol(SparkBlock):\n",
    "    inputData: DataFrame\n",
    "    col_dic: t.Any\n",
    "    outputData: rf.Output[DataFrame]\n",
    "    def run(self):\n",
    "        df_rename = self.inputData.withColumnRenamed(list(self.col_dic.keys())[0], self.col_dic[list(self.col_dic.keys())[0]])\n",
    "        df_rename = df_rename.withColumnRenamed(list(self.col_dic.keys())[1], self.col_dic[list(self.col_dic.keys())[1]])\n",
    "        self.outputData.put(df_rename)\n",
    "        \n",
    "        \n",
    "        \n"
   ]
  },
  {
   "cell_type": "code",
   "execution_count": 6,
   "id": "typical-dayton",
   "metadata": {},
   "outputs": [],
   "source": [
    "nsp = NonSparkPath(ip_path='df_with_stats.csv')\n",
    "nsp1 = NonSparkPath(ip_path='train_hatespeech.csv')\n",
    "\n",
    "nsc = NonSparkCols(cols_list = ['title','label'])\n",
    "nsc1 = NonSparkCols(cols_list = ['tweet','class'])\n",
    "\n",
    "rcp = ReadCsvProjectSpace(filename = nsp.op_path, config={}, source=\"\")\n",
    "rcp1 = ReadCsvProjectSpace(filename = nsp1.op_path, config={}, source=\"\")\n",
    "\n",
    "sd = SelectData(wanted_cols=nsc.selected_cols, inputData=rcp.data, config={}, source=\"\")\n",
    "sd1 = SelectData(wanted_cols=nsc1.selected_cols, inputData=rcp1.data, config={}, source=\"\")\n",
    "rc = RenameCol(inputData=sd1.outputData,col_dic={'tweet': 'title', 'class': 'label'})\n",
    "cd = ConcatData(inputData_1=sd.outputData,inputData_2=rc.outputData)\n",
    "\n",
    "# rcp.executor = rf.ProcessExecutor\n",
    "# sd.executor = rf.ProcessExecutor\n",
    "# rcp1.executor = rf.ProcessExecutor\n",
    "# sd1.executor = rf.ProcessExecutor\n",
    "# rc.executor = rf.ProcessExecutor\n",
    "# cd.executor = rf.ProcessExecutor"
   ]
  },
  {
   "cell_type": "code",
   "execution_count": 7,
   "id": "moving-slovak",
   "metadata": {},
   "outputs": [],
   "source": [
    "pipe = rf.Pipeline(targets = [cd])"
   ]
  },
  {
   "cell_type": "code",
   "execution_count": 8,
   "id": "prostate-enzyme",
   "metadata": {},
   "outputs": [
    {
     "data": {
      "application/vnd.razorthink.interactive+pipeline+view+json": {
       "blocks": [
        {
         "class_name": "RenameCol",
         "fullname": ".RenameCol",
         "id": "b3fbdac1-461a-49f7-b295-ccfd77087be3",
         "inputs": [
          {
           "dataType": null,
           "default": null,
           "flow": "atomic",
           "help": null,
           "isdict": false,
           "islist": false,
           "label": "inputData",
           "meta": {},
           "name": "inputData",
           "series": false,
           "type": "DataFrame",
           "type_check": true
          },
          {
           "dataType": null,
           "default": null,
           "flow": "atomic",
           "help": null,
           "isdict": false,
           "islist": false,
           "label": "col_dic",
           "meta": {},
           "name": "col_dic",
           "series": false,
           "type": "Any",
           "type_check": true
          },
          {
           "dataType": "dict",
           "default": {},
           "flow": "atomic",
           "help": null,
           "isdict": false,
           "islist": false,
           "label": "config",
           "meta": {},
           "name": "config",
           "series": false,
           "type": "dict",
           "type_check": true
          },
          {
           "dataType": "string",
           "default": "",
           "flow": "atomic",
           "help": null,
           "isdict": false,
           "islist": false,
           "label": "source",
           "meta": {},
           "name": "source",
           "series": false,
           "type": "str",
           "type_check": true
          }
         ],
         "outputs": [
          {
           "flow": "atomic",
           "help": null,
           "label": "outputData",
           "meta": {},
           "name": "outputData",
           "series": false,
           "type": "DataFrame",
           "type_check": true
          }
         ],
         "overwritten": false,
         "published": false,
         "var_names": [
          "RenameCol"
         ]
        },
        {
         "class_name": "NonSparkPath",
         "fullname": ".NonSparkPath",
         "id": "96da6e0e-aeb1-4eba-b396-b46484e24473",
         "inputs": [
          {
           "dataType": "string",
           "default": "",
           "flow": "atomic",
           "help": null,
           "isdict": false,
           "islist": false,
           "label": "ip_path",
           "meta": {},
           "name": "ip_path",
           "series": false,
           "type": "str",
           "type_check": true
          }
         ],
         "outputs": [
          {
           "flow": "atomic",
           "help": null,
           "label": "selected_cols",
           "meta": {},
           "name": "selected_cols",
           "series": false,
           "type": "Any",
           "type_check": true
          },
          {
           "flow": "atomic",
           "help": null,
           "label": "op_path",
           "meta": {},
           "name": "op_path",
           "series": false,
           "type": "str",
           "type_check": true
          }
         ],
         "overwritten": false,
         "published": false,
         "var_names": [
          "NonSparkPath"
         ]
        },
        {
         "class_name": "SelectData",
         "fullname": ".SelectData",
         "id": "792edcbd-f580-4922-bea6-c09011ab3bab",
         "inputs": [
          {
           "dataType": null,
           "default": null,
           "flow": "atomic",
           "help": null,
           "isdict": false,
           "islist": false,
           "label": "wanted_cols",
           "meta": {},
           "name": "wanted_cols",
           "series": false,
           "type": "Any",
           "type_check": true
          },
          {
           "dataType": null,
           "default": null,
           "flow": "atomic",
           "help": null,
           "isdict": false,
           "islist": false,
           "label": "inputData",
           "meta": {},
           "name": "inputData",
           "series": false,
           "type": "DataFrame",
           "type_check": true
          },
          {
           "dataType": "dict",
           "default": {},
           "flow": "atomic",
           "help": null,
           "isdict": false,
           "islist": false,
           "label": "config",
           "meta": {},
           "name": "config",
           "series": false,
           "type": "dict",
           "type_check": true
          },
          {
           "dataType": "string",
           "default": "",
           "flow": "atomic",
           "help": null,
           "isdict": false,
           "islist": false,
           "label": "source",
           "meta": {},
           "name": "source",
           "series": false,
           "type": "str",
           "type_check": true
          }
         ],
         "outputs": [
          {
           "flow": "atomic",
           "help": null,
           "label": "outputData",
           "meta": {},
           "name": "outputData",
           "series": false,
           "type": "DataFrame",
           "type_check": true
          }
         ],
         "overwritten": false,
         "published": false,
         "var_names": [
          "SelectData"
         ]
        },
        {
         "class_name": "ConcatData",
         "fullname": ".ConcatData",
         "id": "4b47e7b4-b82b-4abe-ac6a-28c3d3f2c885",
         "inputs": [
          {
           "dataType": null,
           "default": null,
           "flow": "atomic",
           "help": null,
           "isdict": false,
           "islist": false,
           "label": "inputData_1",
           "meta": {},
           "name": "inputData_1",
           "series": false,
           "type": "DataFrame",
           "type_check": true
          },
          {
           "dataType": null,
           "default": null,
           "flow": "atomic",
           "help": null,
           "isdict": false,
           "islist": false,
           "label": "inputData_2",
           "meta": {},
           "name": "inputData_2",
           "series": false,
           "type": "DataFrame",
           "type_check": true
          },
          {
           "dataType": "dict",
           "default": {},
           "flow": "atomic",
           "help": null,
           "isdict": false,
           "islist": false,
           "label": "config",
           "meta": {},
           "name": "config",
           "series": false,
           "type": "dict",
           "type_check": true
          },
          {
           "dataType": "string",
           "default": "",
           "flow": "atomic",
           "help": null,
           "isdict": false,
           "islist": false,
           "label": "source",
           "meta": {},
           "name": "source",
           "series": false,
           "type": "str",
           "type_check": true
          }
         ],
         "outputs": [
          {
           "flow": "atomic",
           "help": null,
           "label": "outputData",
           "meta": {},
           "name": "outputData",
           "series": false,
           "type": "DataFrame",
           "type_check": true
          }
         ],
         "overwritten": false,
         "published": false,
         "var_names": [
          "ConcatData"
         ]
        },
        {
         "class_name": "NonSparkCols",
         "fullname": ".NonSparkCols",
         "id": "01cd185d-f94f-4af8-9858-2b8cda3a679b",
         "inputs": [
          {
           "dataType": null,
           "default": null,
           "flow": "atomic",
           "help": null,
           "isdict": false,
           "islist": false,
           "label": "cols_list",
           "meta": {},
           "name": "cols_list",
           "series": false,
           "type": "Any",
           "type_check": true
          }
         ],
         "outputs": [
          {
           "flow": "atomic",
           "help": null,
           "label": "selected_cols",
           "meta": {},
           "name": "selected_cols",
           "series": false,
           "type": "Any",
           "type_check": true
          }
         ],
         "overwritten": false,
         "published": false,
         "var_names": [
          "NonSparkCols"
         ]
        },
        {
         "class_name": "ReadCsvProjectSpace",
         "fullname": ".ReadCsvProjectSpace",
         "id": "8d99651b-a784-4535-aea1-4ad8aefb8d45",
         "inputs": [
          {
           "dataType": "string",
           "default": "",
           "flow": "atomic",
           "help": null,
           "isdict": false,
           "islist": false,
           "label": "filename",
           "meta": {},
           "name": "filename",
           "series": false,
           "type": "str",
           "type_check": true
          },
          {
           "dataType": "dict",
           "default": {},
           "flow": "atomic",
           "help": null,
           "isdict": false,
           "islist": false,
           "label": "config",
           "meta": {},
           "name": "config",
           "series": false,
           "type": "dict",
           "type_check": true
          },
          {
           "dataType": "string",
           "default": "",
           "flow": "atomic",
           "help": null,
           "isdict": false,
           "islist": false,
           "label": "source",
           "meta": {},
           "name": "source",
           "series": false,
           "type": "str",
           "type_check": true
          }
         ],
         "outputs": [
          {
           "flow": "atomic",
           "help": null,
           "label": "data",
           "meta": {},
           "name": "data",
           "series": false,
           "type": "DataFrame",
           "type_check": true
          }
         ],
         "overwritten": false,
         "published": false,
         "var_names": [
          "ReadCsvProjectSpace"
         ]
        }
       ],
       "connections": [
        {
         "id": "07700054-48f5-4ad6-b2e9-3c82d8922777",
         "source": {
          "adapter": false,
          "instance_id": "26111c4f-4a51-40e4-b323-7116b5fd9406",
          "name": "op_path"
         },
         "target": {
          "adapter": false,
          "instance_id": "5c3f9916-6fff-418c-a52d-21216c6073f2",
          "name": "filename"
         }
        },
        {
         "id": "497d8a94-785d-499f-95fb-c917332e4e58",
         "source": {
          "adapter": false,
          "instance_id": "068b3451-e87b-4913-b44e-9031eef75b69",
          "name": "outputData"
         },
         "target": {
          "adapter": false,
          "instance_id": "a1bcb889-3880-4b54-885c-6511331b07bf",
          "name": "inputData"
         }
        },
        {
         "id": "2cc09cb1-5516-42dd-a60f-57727c27598f",
         "source": {
          "adapter": false,
          "instance_id": "5c3f9916-6fff-418c-a52d-21216c6073f2",
          "name": "data"
         },
         "target": {
          "adapter": false,
          "instance_id": "068b3451-e87b-4913-b44e-9031eef75b69",
          "name": "inputData"
         }
        },
        {
         "id": "6b9c2b7b-98c2-413d-a32f-46ab67b87591",
         "source": {
          "adapter": false,
          "instance_id": "3ad00500-7e24-4b1f-9ab9-9e48dbe09965",
          "name": "outputData"
         },
         "target": {
          "adapter": false,
          "instance_id": "d198726e-0138-4caf-ae0b-dfcaf8f6352a",
          "name": "inputData_1"
         }
        },
        {
         "id": "2dcae156-c156-41db-974e-0eca4c82c9e9",
         "source": {
          "adapter": false,
          "instance_id": "eaf8b059-b2e4-4ab6-9657-2b013a19b072",
          "name": "op_path"
         },
         "target": {
          "adapter": false,
          "instance_id": "53ed3d13-384c-400f-a93c-eb129b111d64",
          "name": "filename"
         }
        },
        {
         "id": "3b27d403-1942-4930-942e-b3ff4c8bbb66",
         "source": {
          "adapter": false,
          "instance_id": "53ed3d13-384c-400f-a93c-eb129b111d64",
          "name": "data"
         },
         "target": {
          "adapter": false,
          "instance_id": "3ad00500-7e24-4b1f-9ab9-9e48dbe09965",
          "name": "inputData"
         }
        },
        {
         "id": "11cc572e-2bab-416f-bc79-5154974c3281",
         "source": {
          "adapter": false,
          "instance_id": "54ba267e-21f0-48fe-a80c-0574f5d102ae",
          "name": "selected_cols"
         },
         "target": {
          "adapter": false,
          "instance_id": "3ad00500-7e24-4b1f-9ab9-9e48dbe09965",
          "name": "wanted_cols"
         }
        },
        {
         "id": "4fa7f8fa-4ad7-4097-884e-4986e76a668c",
         "source": {
          "adapter": false,
          "instance_id": "296d3c96-7b9d-461c-b687-26a54e7b1e4e",
          "name": "selected_cols"
         },
         "target": {
          "adapter": false,
          "instance_id": "068b3451-e87b-4913-b44e-9031eef75b69",
          "name": "wanted_cols"
         }
        },
        {
         "id": "d26269a6-0a91-4260-9bb2-5c6757b2657d",
         "source": {
          "adapter": false,
          "instance_id": "a1bcb889-3880-4b54-885c-6511331b07bf",
          "name": "outputData"
         },
         "target": {
          "adapter": false,
          "instance_id": "d198726e-0138-4caf-ae0b-dfcaf8f6352a",
          "name": "inputData_2"
         }
        }
       ],
       "id": "37071f3a-e69e-4eb6-bc8e-a5520a54770b",
       "instances": [
        {
         "block_class": "4b47e7b4-b82b-4abe-ac6a-28c3d3f2c885",
         "id": "d198726e-0138-4caf-ae0b-dfcaf8f6352a",
         "name": "ConcatData_1",
         "var_names": [
          "cd"
         ]
        },
        {
         "block_class": "792edcbd-f580-4922-bea6-c09011ab3bab",
         "id": "3ad00500-7e24-4b1f-9ab9-9e48dbe09965",
         "name": "SelectData_1",
         "var_names": [
          "sd"
         ]
        },
        {
         "block_class": "01cd185d-f94f-4af8-9858-2b8cda3a679b",
         "id": "54ba267e-21f0-48fe-a80c-0574f5d102ae",
         "name": "NonSparkCols_1",
         "var_names": [
          "nsc"
         ]
        },
        {
         "block_class": "8d99651b-a784-4535-aea1-4ad8aefb8d45",
         "id": "53ed3d13-384c-400f-a93c-eb129b111d64",
         "name": "ReadCsvProjectSpace_1",
         "var_names": [
          "rcp"
         ]
        },
        {
         "block_class": "96da6e0e-aeb1-4eba-b396-b46484e24473",
         "id": "eaf8b059-b2e4-4ab6-9657-2b013a19b072",
         "name": "NonSparkPath_1",
         "var_names": [
          "nsp"
         ]
        },
        {
         "block_class": "b3fbdac1-461a-49f7-b295-ccfd77087be3",
         "id": "a1bcb889-3880-4b54-885c-6511331b07bf",
         "name": "RenameCol_1",
         "var_names": [
          "rc"
         ]
        },
        {
         "block_class": "792edcbd-f580-4922-bea6-c09011ab3bab",
         "id": "068b3451-e87b-4913-b44e-9031eef75b69",
         "name": "SelectData_2",
         "var_names": [
          "sd1"
         ]
        },
        {
         "block_class": "01cd185d-f94f-4af8-9858-2b8cda3a679b",
         "id": "296d3c96-7b9d-461c-b687-26a54e7b1e4e",
         "name": "NonSparkCols_2",
         "var_names": [
          "nsc1"
         ]
        },
        {
         "block_class": "8d99651b-a784-4535-aea1-4ad8aefb8d45",
         "id": "5c3f9916-6fff-418c-a52d-21216c6073f2",
         "name": "ReadCsvProjectSpace_2",
         "var_names": [
          "rcp1"
         ]
        },
        {
         "block_class": "96da6e0e-aeb1-4eba-b396-b46484e24473",
         "id": "26111c4f-4a51-40e4-b323-7116b5fd9406",
         "name": "NonSparkPath_2",
         "var_names": [
          "nsp1"
         ]
        }
       ],
       "name": "Pipeline_1",
       "var_names": []
      },
      "image/svg+xml": [
       "<?xml version=\"1.0\" encoding=\"UTF-8\" standalone=\"no\"?>\n",
       "<!DOCTYPE svg PUBLIC \"-//W3C//DTD SVG 1.1//EN\"\n",
       " \"http://www.w3.org/Graphics/SVG/1.1/DTD/svg11.dtd\">\n",
       "<!-- Generated by graphviz version 2.43.0 (0)\n",
       " -->\n",
       "<!-- Title: %3 Pages: 1 -->\n",
       "<svg width=\"1047pt\" height=\"376pt\"\n",
       " viewBox=\"0.00 0.00 1046.71 376.00\" xmlns=\"http://www.w3.org/2000/svg\" xmlns:xlink=\"http://www.w3.org/1999/xlink\">\n",
       "<g id=\"graph0\" class=\"graph\" transform=\"scale(1 1) rotate(0) translate(4 372)\">\n",
       "<title>%3</title>\n",
       "<polygon fill=\"white\" stroke=\"transparent\" points=\"-4,4 -4,-372 1042.71,-372 1042.71,4 -4,4\"/>\n",
       "<!-- ConcatData(&#39;ConcatData_1&#39;) -->\n",
       "<g id=\"node1\" class=\"node\">\n",
       "<title>ConcatData(&#39;ConcatData_1&#39;)</title>\n",
       "<ellipse fill=\"none\" stroke=\"black\" cx=\"474.78\" cy=\"-18\" rx=\"91.49\" ry=\"18\"/>\n",
       "<text text-anchor=\"middle\" x=\"474.78\" y=\"-15.5\" font-family=\"Helvetica,sans-Serif\" font-size=\"10.00\">ConcatData(&#39;ConcatData_1&#39;)</text>\n",
       "</g>\n",
       "<!-- SelectData(&#39;SelectData_1&#39;) -->\n",
       "<g id=\"node2\" class=\"node\">\n",
       "<title>SelectData(&#39;SelectData_1&#39;)</title>\n",
       "<ellipse fill=\"none\" stroke=\"black\" cx=\"376.78\" cy=\"-101\" rx=\"87.24\" ry=\"18\"/>\n",
       "<text text-anchor=\"middle\" x=\"376.78\" y=\"-98.5\" font-family=\"Helvetica,sans-Serif\" font-size=\"10.00\">SelectData(&#39;SelectData_1&#39;)</text>\n",
       "</g>\n",
       "<!-- SelectData(&#39;SelectData_1&#39;)&#45;&gt;ConcatData(&#39;ConcatData_1&#39;) -->\n",
       "<g id=\"edge1\" class=\"edge\">\n",
       "<title>SelectData(&#39;SelectData_1&#39;)&#45;&gt;ConcatData(&#39;ConcatData_1&#39;)</title>\n",
       "<path fill=\"none\" stroke=\"black\" d=\"M390.18,-83.21C397.98,-74 408.31,-62.72 418.78,-54 424.41,-49.31 430.73,-44.78 437.03,-40.62\"/>\n",
       "<polygon fill=\"black\" stroke=\"black\" points=\"438.99,-43.52 445.55,-35.2 435.23,-37.61 438.99,-43.52\"/>\n",
       "<text text-anchor=\"middle\" x=\"482.28\" y=\"-57\" font-family=\"Helvetica,sans-Serif\" font-size=\"10.00\">outputData&#45;&gt;inputData_1</text>\n",
       "</g>\n",
       "<!-- NonSparkCols(&#39;NonSparkCols_1&#39;) -->\n",
       "<g id=\"node3\" class=\"node\">\n",
       "<title>NonSparkCols(&#39;NonSparkCols_1&#39;)</title>\n",
       "<ellipse fill=\"none\" stroke=\"black\" cx=\"104.78\" cy=\"-184\" rx=\"104.56\" ry=\"18\"/>\n",
       "<text text-anchor=\"middle\" x=\"104.78\" y=\"-181.5\" font-family=\"Helvetica,sans-Serif\" font-size=\"10.00\">NonSparkCols(&#39;NonSparkCols_1&#39;)</text>\n",
       "</g>\n",
       "<!-- NonSparkCols(&#39;NonSparkCols_1&#39;)&#45;&gt;SelectData(&#39;SelectData_1&#39;) -->\n",
       "<g id=\"edge2\" class=\"edge\">\n",
       "<title>NonSparkCols(&#39;NonSparkCols_1&#39;)&#45;&gt;SelectData(&#39;SelectData_1&#39;)</title>\n",
       "<path fill=\"none\" stroke=\"black\" d=\"M145.39,-167.31C170.61,-157.87 203.83,-145.98 233.78,-137 258.31,-129.65 285.55,-122.69 309.61,-116.94\"/>\n",
       "<polygon fill=\"black\" stroke=\"black\" points=\"310.43,-120.34 319.36,-114.64 308.82,-113.53 310.43,-120.34\"/>\n",
       "<text text-anchor=\"middle\" x=\"303.28\" y=\"-140\" font-family=\"Helvetica,sans-Serif\" font-size=\"10.00\">selected_cols&#45;&gt;wanted_cols</text>\n",
       "</g>\n",
       "<!-- ReadCsvProjectSpace(&#39;ReadCsvProjectSpace_1&#39;) -->\n",
       "<g id=\"node4\" class=\"node\">\n",
       "<title>ReadCsvProjectSpace(&#39;ReadCsvProjectSpace_1&#39;)</title>\n",
       "<ellipse fill=\"none\" stroke=\"black\" cx=\"376.78\" cy=\"-184\" rx=\"148.86\" ry=\"18\"/>\n",
       "<text text-anchor=\"middle\" x=\"376.78\" y=\"-181.5\" font-family=\"Helvetica,sans-Serif\" font-size=\"10.00\">ReadCsvProjectSpace(&#39;ReadCsvProjectSpace_1&#39;)</text>\n",
       "</g>\n",
       "<!-- ReadCsvProjectSpace(&#39;ReadCsvProjectSpace_1&#39;)&#45;&gt;SelectData(&#39;SelectData_1&#39;) -->\n",
       "<g id=\"edge3\" class=\"edge\">\n",
       "<title>ReadCsvProjectSpace(&#39;ReadCsvProjectSpace_1&#39;)&#45;&gt;SelectData(&#39;SelectData_1&#39;)</title>\n",
       "<path fill=\"none\" stroke=\"black\" d=\"M376.78,-165.82C376.78,-155.19 376.78,-141.31 376.78,-129.2\"/>\n",
       "<polygon fill=\"black\" stroke=\"black\" points=\"380.28,-129.15 376.78,-119.15 373.28,-129.15 380.28,-129.15\"/>\n",
       "<text text-anchor=\"middle\" x=\"417.78\" y=\"-140\" font-family=\"Helvetica,sans-Serif\" font-size=\"10.00\">data&#45;&gt;inputData</text>\n",
       "</g>\n",
       "<!-- NonSparkPath(&#39;NonSparkPath_1&#39;) -->\n",
       "<g id=\"node5\" class=\"node\">\n",
       "<title>NonSparkPath(&#39;NonSparkPath_1&#39;)</title>\n",
       "<ellipse fill=\"none\" stroke=\"black\" cx=\"376.78\" cy=\"-267\" rx=\"104.56\" ry=\"18\"/>\n",
       "<text text-anchor=\"middle\" x=\"376.78\" y=\"-264.5\" font-family=\"Helvetica,sans-Serif\" font-size=\"10.00\">NonSparkPath(&#39;NonSparkPath_1&#39;)</text>\n",
       "</g>\n",
       "<!-- NonSparkPath(&#39;NonSparkPath_1&#39;)&#45;&gt;ReadCsvProjectSpace(&#39;ReadCsvProjectSpace_1&#39;) -->\n",
       "<g id=\"edge4\" class=\"edge\">\n",
       "<title>NonSparkPath(&#39;NonSparkPath_1&#39;)&#45;&gt;ReadCsvProjectSpace(&#39;ReadCsvProjectSpace_1&#39;)</title>\n",
       "<path fill=\"none\" stroke=\"black\" d=\"M376.78,-248.82C376.78,-238.19 376.78,-224.31 376.78,-212.2\"/>\n",
       "<polygon fill=\"black\" stroke=\"black\" points=\"380.28,-212.15 376.78,-202.15 373.28,-212.15 380.28,-212.15\"/>\n",
       "<text text-anchor=\"middle\" x=\"423.78\" y=\"-223\" font-family=\"Helvetica,sans-Serif\" font-size=\"10.00\">op_path&#45;&gt;filename</text>\n",
       "</g>\n",
       "<!-- RenameCol(&#39;RenameCol_1&#39;) -->\n",
       "<g id=\"node6\" class=\"node\">\n",
       "<title>RenameCol(&#39;RenameCol_1&#39;)</title>\n",
       "<ellipse fill=\"none\" stroke=\"black\" cx=\"586.78\" cy=\"-101\" rx=\"90.81\" ry=\"18\"/>\n",
       "<text text-anchor=\"middle\" x=\"586.78\" y=\"-98.5\" font-family=\"Helvetica,sans-Serif\" font-size=\"10.00\">RenameCol(&#39;RenameCol_1&#39;)</text>\n",
       "</g>\n",
       "<!-- RenameCol(&#39;RenameCol_1&#39;)&#45;&gt;ConcatData(&#39;ConcatData_1&#39;) -->\n",
       "<g id=\"edge5\" class=\"edge\">\n",
       "<title>RenameCol(&#39;RenameCol_1&#39;)&#45;&gt;ConcatData(&#39;ConcatData_1&#39;)</title>\n",
       "<path fill=\"none\" stroke=\"black\" d=\"M574.1,-82.78C566.61,-73.43 556.51,-62.16 545.78,-54 538.47,-48.44 530.14,-43.4 521.82,-38.98\"/>\n",
       "<polygon fill=\"black\" stroke=\"black\" points=\"523.35,-35.83 512.84,-34.44 520.19,-42.08 523.35,-35.83\"/>\n",
       "<text text-anchor=\"middle\" x=\"621.28\" y=\"-57\" font-family=\"Helvetica,sans-Serif\" font-size=\"10.00\">outputData&#45;&gt;inputData_2</text>\n",
       "</g>\n",
       "<!-- SelectData(&#39;SelectData_2&#39;) -->\n",
       "<g id=\"node7\" class=\"node\">\n",
       "<title>SelectData(&#39;SelectData_2&#39;)</title>\n",
       "<ellipse fill=\"none\" stroke=\"black\" cx=\"630.78\" cy=\"-184\" rx=\"87.24\" ry=\"18\"/>\n",
       "<text text-anchor=\"middle\" x=\"630.78\" y=\"-181.5\" font-family=\"Helvetica,sans-Serif\" font-size=\"10.00\">SelectData(&#39;SelectData_2&#39;)</text>\n",
       "</g>\n",
       "<!-- SelectData(&#39;SelectData_2&#39;)&#45;&gt;RenameCol(&#39;RenameCol_1&#39;) -->\n",
       "<g id=\"edge6\" class=\"edge\">\n",
       "<title>SelectData(&#39;SelectData_2&#39;)&#45;&gt;RenameCol(&#39;RenameCol_1&#39;)</title>\n",
       "<path fill=\"none\" stroke=\"black\" d=\"M621.45,-165.82C615.5,-154.87 607.67,-140.46 600.96,-128.11\"/>\n",
       "<polygon fill=\"black\" stroke=\"black\" points=\"603.95,-126.27 596.1,-119.15 597.8,-129.61 603.95,-126.27\"/>\n",
       "<text text-anchor=\"middle\" x=\"669.28\" y=\"-140\" font-family=\"Helvetica,sans-Serif\" font-size=\"10.00\">outputData&#45;&gt;inputData</text>\n",
       "</g>\n",
       "<!-- NonSparkCols(&#39;NonSparkCols_2&#39;) -->\n",
       "<g id=\"node8\" class=\"node\">\n",
       "<title>NonSparkCols(&#39;NonSparkCols_2&#39;)</title>\n",
       "<ellipse fill=\"none\" stroke=\"black\" cx=\"617.78\" cy=\"-267\" rx=\"104.56\" ry=\"18\"/>\n",
       "<text text-anchor=\"middle\" x=\"617.78\" y=\"-264.5\" font-family=\"Helvetica,sans-Serif\" font-size=\"10.00\">NonSparkCols(&#39;NonSparkCols_2&#39;)</text>\n",
       "</g>\n",
       "<!-- NonSparkCols(&#39;NonSparkCols_2&#39;)&#45;&gt;SelectData(&#39;SelectData_2&#39;) -->\n",
       "<g id=\"edge7\" class=\"edge\">\n",
       "<title>NonSparkCols(&#39;NonSparkCols_2&#39;)&#45;&gt;SelectData(&#39;SelectData_2&#39;)</title>\n",
       "<path fill=\"none\" stroke=\"black\" d=\"M620.54,-248.82C622.25,-238.19 624.47,-224.31 626.42,-212.2\"/>\n",
       "<polygon fill=\"black\" stroke=\"black\" points=\"629.9,-212.58 628.03,-202.15 622.99,-211.47 629.9,-212.58\"/>\n",
       "<text text-anchor=\"middle\" x=\"695.28\" y=\"-223\" font-family=\"Helvetica,sans-Serif\" font-size=\"10.00\">selected_cols&#45;&gt;wanted_cols</text>\n",
       "</g>\n",
       "<!-- ReadCsvProjectSpace(&#39;ReadCsvProjectSpace_2&#39;) -->\n",
       "<g id=\"node9\" class=\"node\">\n",
       "<title>ReadCsvProjectSpace(&#39;ReadCsvProjectSpace_2&#39;)</title>\n",
       "<ellipse fill=\"none\" stroke=\"black\" cx=\"889.78\" cy=\"-267\" rx=\"148.86\" ry=\"18\"/>\n",
       "<text text-anchor=\"middle\" x=\"889.78\" y=\"-264.5\" font-family=\"Helvetica,sans-Serif\" font-size=\"10.00\">ReadCsvProjectSpace(&#39;ReadCsvProjectSpace_2&#39;)</text>\n",
       "</g>\n",
       "<!-- ReadCsvProjectSpace(&#39;ReadCsvProjectSpace_2&#39;)&#45;&gt;SelectData(&#39;SelectData_2&#39;) -->\n",
       "<g id=\"edge8\" class=\"edge\">\n",
       "<title>ReadCsvProjectSpace(&#39;ReadCsvProjectSpace_2&#39;)&#45;&gt;SelectData(&#39;SelectData_2&#39;)</title>\n",
       "<path fill=\"none\" stroke=\"black\" d=\"M850.13,-249.61C826.7,-240.25 796.32,-228.7 768.78,-220 745.68,-212.71 720.05,-205.87 697.2,-200.21\"/>\n",
       "<polygon fill=\"black\" stroke=\"black\" points=\"697.8,-196.75 687.26,-197.77 696.14,-203.55 697.8,-196.75\"/>\n",
       "<text text-anchor=\"middle\" x=\"839.78\" y=\"-223\" font-family=\"Helvetica,sans-Serif\" font-size=\"10.00\">data&#45;&gt;inputData</text>\n",
       "</g>\n",
       "<!-- NonSparkPath(&#39;NonSparkPath_2&#39;) -->\n",
       "<g id=\"node10\" class=\"node\">\n",
       "<title>NonSparkPath(&#39;NonSparkPath_2&#39;)</title>\n",
       "<ellipse fill=\"none\" stroke=\"black\" cx=\"889.78\" cy=\"-350\" rx=\"104.56\" ry=\"18\"/>\n",
       "<text text-anchor=\"middle\" x=\"889.78\" y=\"-347.5\" font-family=\"Helvetica,sans-Serif\" font-size=\"10.00\">NonSparkPath(&#39;NonSparkPath_2&#39;)</text>\n",
       "</g>\n",
       "<!-- NonSparkPath(&#39;NonSparkPath_2&#39;)&#45;&gt;ReadCsvProjectSpace(&#39;ReadCsvProjectSpace_2&#39;) -->\n",
       "<g id=\"edge9\" class=\"edge\">\n",
       "<title>NonSparkPath(&#39;NonSparkPath_2&#39;)&#45;&gt;ReadCsvProjectSpace(&#39;ReadCsvProjectSpace_2&#39;)</title>\n",
       "<path fill=\"none\" stroke=\"black\" d=\"M889.78,-331.82C889.78,-321.19 889.78,-307.31 889.78,-295.2\"/>\n",
       "<polygon fill=\"black\" stroke=\"black\" points=\"893.28,-295.15 889.78,-285.15 886.28,-295.15 893.28,-295.15\"/>\n",
       "<text text-anchor=\"middle\" x=\"936.78\" y=\"-306\" font-family=\"Helvetica,sans-Serif\" font-size=\"10.00\">op_path&#45;&gt;filename</text>\n",
       "</g>\n",
       "</g>\n",
       "</svg>\n"
      ],
      "text/plain": [
       "<razor.flow.async_pipeline.Pipeline at 0x7fb0e484cbd0>"
      ]
     },
     "metadata": {},
     "output_type": "display_data"
    }
   ],
   "source": [
    "pipe.show()"
   ]
  },
  {
   "cell_type": "code",
   "execution_count": 9,
   "id": "revolutionary-lafayette",
   "metadata": {},
   "outputs": [
    {
     "name": "stdout",
     "output_type": "stream",
     "text": [
      "log path: /tmp/tmpb4a5kvoq/Pipeline_1\n"
     ]
    },
    {
     "data": {
      "application/vnd.razorthink.run+monitor+json": "/tmp/tmpb4a5kvoq/Pipeline_1",
      "text/plain": [
       "<razor_tools.backend.ipython.mime.run_monitor.RunMonitor at 0x7fb0e4654e90>"
      ]
     },
     "metadata": {
      "application/vnd.razorthink.run+monitor+json": {
       "run_data": {
        "apm": [
         {
          "cpu_percent": 0,
          "cpu_time": 0,
          "name": "NonSparkPath_2",
          "real_mem": 155385856,
          "time": 1616561441.1132371
         },
         {
          "cpu_percent": 0,
          "cpu_time": 0.02,
          "name": "NonSparkPath_2",
          "real_mem": 157212672,
          "time": 1616561441.2253335
         },
         {
          "cpu_percent": 0,
          "cpu_time": 0,
          "name": "NonSparkCols_1",
          "real_mem": 155332608,
          "time": 1616561441.0825727
         },
         {
          "cpu_percent": 0,
          "cpu_time": 0,
          "name": "NonSparkPath_1",
          "real_mem": 155353088,
          "time": 1616561441.0923934
         },
         {
          "cpu_percent": 0,
          "cpu_time": 0,
          "name": "NonSparkCols_1",
          "real_mem": 155512832,
          "time": 1616561441.1946154
         },
         {
          "cpu_percent": 0,
          "cpu_time": 0.02,
          "name": "NonSparkPath_1",
          "real_mem": 157220864,
          "time": 1616561441.204293
         },
         {
          "cpu_percent": 0,
          "cpu_time": 0,
          "name": "NonSparkCols_2",
          "real_mem": 155381760,
          "time": 1616561441.1018453
         },
         {
          "cpu_percent": 0,
          "cpu_time": 0.01,
          "name": "NonSparkCols_2",
          "real_mem": 155471872,
          "time": 1616561441.2138014
         },
         {
          "cpu_percent": 0,
          "cpu_time": 0,
          "name": "NonSparkCols_1",
          "real_mem": 155602944,
          "time": 1616561441.3063235
         },
         {
          "cpu_percent": 0,
          "cpu_time": 0.02,
          "name": "NonSparkPath_1",
          "real_mem": 157220864,
          "time": 1616561441.3159423
         },
         {
          "cpu_percent": 0,
          "cpu_time": 0.01,
          "name": "NonSparkCols_2",
          "real_mem": 155471872,
          "time": 1616561441.3254302
         },
         {
          "cpu_percent": 0,
          "cpu_time": 0.03,
          "name": "NonSparkPath_2",
          "real_mem": 157212672,
          "time": 1616561441.3371396
         },
         {
          "cpu_percent": 0,
          "cpu_time": 0.01,
          "name": "NonSparkCols_1",
          "real_mem": 155602944,
          "time": 1616561441.4179862
         },
         {
          "cpu_percent": 0,
          "cpu_time": 0.01,
          "name": "NonSparkCols_2",
          "real_mem": 155471872,
          "time": 1616561441.4373748
         },
         {
          "cpu_percent": 0,
          "cpu_time": 0.04,
          "name": "NonSparkPath_1",
          "real_mem": 157478912,
          "time": 1616561441.4284086
         },
         {
          "cpu_percent": 0,
          "cpu_time": 0.05,
          "name": "NonSparkPath_2",
          "real_mem": 157503488,
          "time": 1616561441.4488451
         },
         {
          "cpu_percent": 0,
          "cpu_time": 0.02,
          "name": "NonSparkCols_1",
          "real_mem": 155602944,
          "time": 1616561441.5296774
         },
         {
          "cpu_percent": 0,
          "cpu_time": 0.05,
          "name": "NonSparkPath_1",
          "real_mem": 157478912,
          "time": 1616561441.5402803
         },
         {
          "cpu_percent": 0,
          "cpu_time": 0.02,
          "name": "NonSparkCols_2",
          "real_mem": 155471872,
          "time": 1616561441.5495486
         },
         {
          "cpu_percent": 0,
          "cpu_time": 0.05,
          "name": "NonSparkPath_2",
          "real_mem": 157503488,
          "time": 1616561441.5608408
         },
         {
          "cpu_percent": 0,
          "cpu_time": 0.02,
          "name": "NonSparkCols_1",
          "real_mem": 155602944,
          "time": 1616561441.6413496
         },
         {
          "cpu_percent": 0,
          "cpu_time": 0.05,
          "name": "NonSparkPath_1",
          "real_mem": 157478912,
          "time": 1616561441.6518898
         },
         {
          "cpu_percent": 0,
          "cpu_time": 0.02,
          "name": "NonSparkCols_2",
          "real_mem": 155471872,
          "time": 1616561441.661376
         },
         {
          "cpu_percent": 0,
          "cpu_time": 0.05,
          "name": "NonSparkPath_2",
          "real_mem": 157503488,
          "time": 1616561441.6724322
         },
         {
          "cpu_percent": 0,
          "cpu_time": 0.02,
          "name": "NonSparkCols_1",
          "real_mem": 155602944,
          "time": 1616561441.7534552
         },
         {
          "cpu_percent": 0,
          "cpu_time": 0.26,
          "name": "ConcatData_1",
          "real_mem": 159797248,
          "time": 1616561441.7191017
         },
         {
          "cpu_percent": 0,
          "cpu_time": 0.26,
          "name": "SelectData_2",
          "real_mem": 159952896,
          "time": 1616561441.7323465
         },
         {
          "cpu_percent": 0,
          "cpu_time": 0.25,
          "name": "ReadCsvProjectSpace_1",
          "real_mem": 159744000,
          "time": 1616561441.685556
         },
         {
          "cpu_percent": 0,
          "cpu_time": 0.26,
          "name": "RenameCol_1",
          "real_mem": 160088064,
          "time": 1616561441.7456298
         },
         {
          "cpu_percent": 0,
          "cpu_time": 0.27,
          "name": "SelectData_1",
          "real_mem": 160088064,
          "time": 1616561441.7587667
         },
         {
          "cpu_percent": 0,
          "cpu_time": 0.25,
          "name": "ReadCsvProjectSpace_2",
          "real_mem": 159797248,
          "time": 1616561441.7055008
         },
         {
          "cpu_percent": 0,
          "cpu_time": 0.05,
          "name": "NonSparkPath_1",
          "real_mem": 157478912,
          "time": 1616561441.763702
         },
         {
          "cpu_percent": 0,
          "cpu_time": 0.02,
          "name": "NonSparkCols_2",
          "real_mem": 155471872,
          "time": 1616561441.773533
         },
         {
          "cpu_percent": 0,
          "cpu_time": 0.05,
          "name": "NonSparkPath_2",
          "real_mem": 157503488,
          "time": 1616561441.784316
         },
         {
          "cpu_percent": 0,
          "cpu_time": 0.31,
          "name": "ConcatData_1",
          "real_mem": 161169408,
          "time": 1616561441.8503046
         },
         {
          "cpu_percent": 196.4,
          "cpu_time": 0.34,
          "name": "RenameCol_1",
          "real_mem": 164425728,
          "time": 1616561441.893985
         },
         {
          "cpu_percent": 0,
          "cpu_time": 0.31,
          "name": "SelectData_2",
          "real_mem": 161169408,
          "time": 1616561441.8724258
         },
         {
          "cpu_percent": 0,
          "cpu_time": 0.34,
          "name": "SelectData_1",
          "real_mem": 166576128,
          "time": 1616561441.926341
         },
         {
          "cpu_percent": 0,
          "cpu_time": 0.02,
          "name": "NonSparkCols_2",
          "real_mem": 155680768,
          "time": 1616561441.8858066
         },
         {
          "cpu_percent": 0,
          "cpu_time": 0.06,
          "name": "NonSparkPath_2",
          "real_mem": 157532160,
          "time": 1616561441.896076
         },
         {
          "cpu_percent": 0,
          "cpu_time": 0.02,
          "name": "NonSparkCols_2",
          "real_mem": 155680768,
          "time": 1616561441.997557
         },
         {
          "cpu_percent": 0,
          "cpu_time": 0.07,
          "name": "NonSparkPath_2",
          "real_mem": 157532160,
          "time": 1616561442.0081675
         },
         {
          "cpu_percent": 97.6,
          "cpu_time": 0.3,
          "name": "ReadCsvProjectSpace_1",
          "real_mem": 161026048,
          "time": 1616561441.7993178
         },
         {
          "cpu_percent": 0,
          "cpu_time": 0.31,
          "name": "ReadCsvProjectSpace_2",
          "real_mem": 161099776,
          "time": 1616561441.828393
         },
         {
          "cpu_percent": 197.3,
          "cpu_time": 0.41000000000000003,
          "name": "ReadCsvProjectSpace_1",
          "real_mem": 188940288,
          "time": 1616561441.9691527
         },
         {
          "cpu_percent": 295.6,
          "cpu_time": 0.48000000000000004,
          "name": "ReadCsvProjectSpace_2",
          "real_mem": 197165056,
          "time": 1616561442.011894
         },
         {
          "cpu_percent": 197.5,
          "cpu_time": 0.52,
          "name": "ConcatData_1",
          "real_mem": 205025280,
          "time": 1616561442.05502
         },
         {
          "cpu_percent": 98.8,
          "cpu_time": 0.5800000000000001,
          "name": "SelectData_2",
          "real_mem": 215056384,
          "time": 1616561442.0982802
         },
         {
          "cpu_percent": 0,
          "cpu_time": 0.35000000000000003,
          "name": "RenameCol_1",
          "real_mem": 164425728,
          "time": 1616561442.1302235
         },
         {
          "cpu_percent": 99.1,
          "cpu_time": 0.38,
          "name": "SelectData_1",
          "real_mem": 179994624,
          "time": 1616561442.1517541
         },
         {
          "cpu_percent": 98.6,
          "cpu_time": 0.4,
          "name": "ReadCsvProjectSpace_1",
          "real_mem": 183009280,
          "time": 1616561442.174222
         },
         {
          "cpu_percent": 0,
          "cpu_time": 0.41000000000000003,
          "name": "ReadCsvProjectSpace_2",
          "real_mem": 183611392,
          "time": 1616561442.1957622
         },
         {
          "cpu_percent": 193.9,
          "cpu_time": 0.46,
          "name": "ConcatData_1",
          "real_mem": 192057344,
          "time": 1616561442.2181134
         },
         {
          "cpu_percent": 98.9,
          "cpu_time": 0.51,
          "name": "SelectData_2",
          "real_mem": 199495680,
          "time": 1616561442.2402618
         },
         {
          "cpu_percent": 295.7,
          "cpu_time": 0.56,
          "name": "RenameCol_1",
          "real_mem": 209399808,
          "time": 1616561442.262592
         },
         {
          "cpu_percent": 197.4,
          "cpu_time": 0.6000000000000001,
          "name": "SelectData_1",
          "real_mem": 215875584,
          "time": 1616561442.2846735
         },
         {
          "cpu_percent": 197.3,
          "cpu_time": 0.6599999999999999,
          "name": "ReadCsvProjectSpace_1",
          "real_mem": 219521024,
          "time": 1616561442.3064828
         },
         {
          "cpu_percent": 295.8,
          "cpu_time": 0.72,
          "name": "ReadCsvProjectSpace_2",
          "real_mem": 225415168,
          "time": 1616561442.3285332
         },
         {
          "cpu_percent": 296.2,
          "cpu_time": 0.78,
          "name": "ConcatData_1",
          "real_mem": 228773888,
          "time": 1616561442.350893
         },
         {
          "cpu_percent": 197.7,
          "cpu_time": 0.83,
          "name": "SelectData_2",
          "real_mem": 232861696,
          "time": 1616561442.373303
         },
         {
          "cpu_percent": 197.2,
          "cpu_time": 0.87,
          "name": "RenameCol_1",
          "real_mem": 235417600,
          "time": 1616561442.3954587
         },
         {
          "cpu_percent": 98.6,
          "cpu_time": 0.89,
          "name": "SelectData_1",
          "real_mem": 239472640,
          "time": 1616561442.4175274
         },
         {
          "cpu_percent": 98.6,
          "cpu_time": 0.91,
          "name": "ReadCsvProjectSpace_1",
          "real_mem": 243257344,
          "time": 1616561442.4394238
         },
         {
          "cpu_percent": 98.5,
          "cpu_time": 0.94,
          "name": "ReadCsvProjectSpace_2",
          "real_mem": 246661120,
          "time": 1616561442.4623709
         },
         {
          "cpu_percent": 197.4,
          "cpu_time": 0.97,
          "name": "ConcatData_1",
          "real_mem": 248094720,
          "time": 1616561442.4846456
         },
         {
          "cpu_percent": 295.8,
          "cpu_time": 1.02,
          "name": "SelectData_2",
          "real_mem": 249167872,
          "time": 1616561442.5069628
         },
         {
          "cpu_percent": 98.2,
          "cpu_time": 1.06,
          "name": "RenameCol_1",
          "real_mem": 251367424,
          "time": 1616561442.52939
         },
         {
          "cpu_percent": 98.1,
          "cpu_time": 1.1,
          "name": "SelectData_1",
          "real_mem": 254267392,
          "time": 1616561442.5514948
         },
         {
          "cpu_percent": 197.7,
          "cpu_time": 1.15,
          "name": "ReadCsvProjectSpace_1",
          "real_mem": 258777088,
          "time": 1616561442.573554
         },
         {
          "cpu_percent": 98.2,
          "cpu_time": 1.17,
          "name": "ReadCsvProjectSpace_2",
          "real_mem": 259063808,
          "time": 1616561442.5957494
         },
         {
          "cpu_percent": 98.3,
          "cpu_time": 1.2,
          "name": "ConcatData_1",
          "real_mem": 259600384,
          "time": 1616561442.6181421
         },
         {
          "cpu_percent": 98.4,
          "cpu_time": 1.24,
          "name": "SelectData_2",
          "real_mem": 260063232,
          "time": 1616561442.6406066
         },
         {
          "cpu_percent": 196.6,
          "cpu_time": 1.27,
          "name": "RenameCol_1",
          "real_mem": 260390912,
          "time": 1616561442.6629596
         },
         {
          "cpu_percent": 197.3,
          "cpu_time": 1.32,
          "name": "SelectData_1",
          "real_mem": 260915200,
          "time": 1616561442.6856976
         },
         {
          "cpu_percent": 197.5,
          "cpu_time": 1.35,
          "name": "ReadCsvProjectSpace_1",
          "real_mem": 261169152,
          "time": 1616561442.7074287
         },
         {
          "cpu_percent": 197.4,
          "cpu_time": 1.38,
          "name": "ReadCsvProjectSpace_2",
          "real_mem": 261730304,
          "time": 1616561442.729244
         },
         {
          "cpu_percent": 296.5,
          "cpu_time": 1.4300000000000002,
          "name": "ConcatData_1",
          "real_mem": 262377472,
          "time": 1616561442.75106
         },
         {
          "cpu_percent": 296.3,
          "cpu_time": 1.48,
          "name": "SelectData_2",
          "real_mem": 262828032,
          "time": 1616561442.772812
         },
         {
          "cpu_percent": 197.3,
          "cpu_time": 1.5299999999999998,
          "name": "RenameCol_1",
          "real_mem": 263335936,
          "time": 1616561442.794625
         },
         {
          "cpu_percent": 97.7,
          "cpu_time": 1.56,
          "name": "SelectData_1",
          "real_mem": 263098368,
          "time": 1616561442.816431
         },
         {
          "cpu_percent": 197.3,
          "cpu_time": 1.5899999999999999,
          "name": "ReadCsvProjectSpace_1",
          "real_mem": 266051584,
          "time": 1616561442.838271
         },
         {
          "cpu_percent": 98.4,
          "cpu_time": 1.6099999999999999,
          "name": "ReadCsvProjectSpace_2",
          "real_mem": 274972672,
          "time": 1616561442.860364
         },
         {
          "cpu_percent": 197,
          "cpu_time": 1.65,
          "name": "ConcatData_1",
          "real_mem": 276893696,
          "time": 1616561442.8823192
         },
         {
          "cpu_percent": 98.2,
          "cpu_time": 1.67,
          "name": "SelectData_2",
          "real_mem": 277622784,
          "time": 1616561442.904084
         },
         {
          "cpu_percent": 197.6,
          "cpu_time": 1.71,
          "name": "RenameCol_1",
          "real_mem": 278237184,
          "time": 1616561442.9257402
         },
         {
          "cpu_percent": 197.4,
          "cpu_time": 1.75,
          "name": "SelectData_1",
          "real_mem": 278884352,
          "time": 1616561442.947573
         },
         {
          "cpu_percent": 294.9,
          "cpu_time": 1.7899999999999998,
          "name": "ReadCsvProjectSpace_1",
          "real_mem": 283410432,
          "time": 1616561442.969979
         },
         {
          "cpu_percent": 0,
          "cpu_time": 1.8199999999999998,
          "name": "ReadCsvProjectSpace_2",
          "real_mem": 284098560,
          "time": 1616561442.992136
         },
         {
          "cpu_percent": 196.7,
          "cpu_time": 1.8599999999999999,
          "name": "ConcatData_1",
          "real_mem": 284803072,
          "time": 1616561443.014005
         },
         {
          "cpu_percent": 197.2,
          "cpu_time": 1.9,
          "name": "SelectData_2",
          "real_mem": 284958720,
          "time": 1616561443.03619
         },
         {
          "cpu_percent": 98.7,
          "cpu_time": 1.94,
          "name": "RenameCol_1",
          "real_mem": 285335552,
          "time": 1616561443.0582132
         },
         {
          "cpu_percent": 197.3,
          "cpu_time": 1.97,
          "name": "SelectData_1",
          "real_mem": 285757440,
          "time": 1616561443.0800543
         },
         {
          "cpu_percent": 197.4,
          "cpu_time": 2.0100000000000002,
          "name": "ReadCsvProjectSpace_1",
          "real_mem": 286056448,
          "time": 1616561443.1019526
         },
         {
          "cpu_percent": 98.6,
          "cpu_time": 2.04,
          "name": "ReadCsvProjectSpace_2",
          "real_mem": 286674944,
          "time": 1616561443.1240907
         },
         {
          "cpu_percent": 98.5,
          "cpu_time": 2.07,
          "name": "ConcatData_1",
          "real_mem": 287076352,
          "time": 1616561443.1458015
         },
         {
          "cpu_percent": 0,
          "cpu_time": 2.1,
          "name": "SelectData_2",
          "real_mem": 287518720,
          "time": 1616561443.1676223
         },
         {
          "cpu_percent": 394.4,
          "cpu_time": 2.16,
          "name": "RenameCol_1",
          "real_mem": 287805440,
          "time": 1616561443.1896942
         },
         {
          "cpu_percent": 197.4,
          "cpu_time": 2.2,
          "name": "SelectData_1",
          "real_mem": 288264192,
          "time": 1616561443.2114549
         },
         {
          "cpu_percent": 98.8,
          "cpu_time": 2.23,
          "name": "ReadCsvProjectSpace_1",
          "real_mem": 288755712,
          "time": 1616561443.2331994
         },
         {
          "cpu_percent": 292.2,
          "cpu_time": 2.29,
          "name": "ReadCsvProjectSpace_2",
          "real_mem": 289308672,
          "time": 1616561443.2553244
         },
         {
          "cpu_percent": 196.9,
          "cpu_time": 2.34,
          "name": "ConcatData_1",
          "real_mem": 290697216,
          "time": 1616561443.277589
         },
         {
          "cpu_percent": 197.2,
          "cpu_time": 2.4,
          "name": "SelectData_2",
          "real_mem": 291799040,
          "time": 1616561443.29963
         },
         {
          "cpu_percent": 197.4,
          "cpu_time": 2.44,
          "name": "RenameCol_1",
          "real_mem": 296144896,
          "time": 1616561443.3214927
         },
         {
          "cpu_percent": 98.7,
          "cpu_time": 2.4699999999999998,
          "name": "SelectData_1",
          "real_mem": 299675648,
          "time": 1616561443.3436193
         },
         {
          "cpu_percent": 196.8,
          "cpu_time": 2.5,
          "name": "ReadCsvProjectSpace_1",
          "real_mem": 302919680,
          "time": 1616561443.3653948
         },
         {
          "cpu_percent": 98,
          "cpu_time": 2.54,
          "name": "ReadCsvProjectSpace_2",
          "real_mem": 305954816,
          "time": 1616561443.3871891
         },
         {
          "cpu_percent": 0,
          "cpu_time": 2.56,
          "name": "ConcatData_1",
          "real_mem": 308477952,
          "time": 1616561443.4089775
         },
         {
          "cpu_percent": 197,
          "cpu_time": 2.6100000000000003,
          "name": "SelectData_2",
          "real_mem": 310849536,
          "time": 1616561443.430992
         },
         {
          "cpu_percent": 98.7,
          "cpu_time": 2.6300000000000003,
          "name": "RenameCol_1",
          "real_mem": 314363904,
          "time": 1616561443.4526443
         },
         {
          "cpu_percent": 162.1,
          "cpu_time": 2.66,
          "name": "SelectData_1",
          "real_mem": 320737280,
          "time": 1616561443.4766574
         },
         {
          "cpu_percent": 98.4,
          "cpu_time": 2.6900000000000004,
          "name": "ReadCsvProjectSpace_1",
          "real_mem": 323911680,
          "time": 1616561443.4986088
         },
         {
          "cpu_percent": 197.2,
          "cpu_time": 2.73,
          "name": "ReadCsvProjectSpace_2",
          "real_mem": 324395008,
          "time": 1616561443.520565
         },
         {
          "cpu_percent": 98.6,
          "cpu_time": 2.75,
          "name": "ConcatData_1",
          "real_mem": 324931584,
          "time": 1616561443.5426273
         },
         {
          "cpu_percent": 197.5,
          "cpu_time": 2.79,
          "name": "SelectData_2",
          "real_mem": 325099520,
          "time": 1616561443.5648942
         },
         {
          "cpu_percent": 196.8,
          "cpu_time": 2.86,
          "name": "RenameCol_1",
          "real_mem": 325787648,
          "time": 1616561443.5873451
         },
         {
          "cpu_percent": 197,
          "cpu_time": 2.9,
          "name": "SelectData_1",
          "real_mem": 325992448,
          "time": 1616561443.609644
         },
         {
          "cpu_percent": 98.8,
          "cpu_time": 2.93,
          "name": "ReadCsvProjectSpace_1",
          "real_mem": 326369280,
          "time": 1616561443.6315033
         },
         {
          "cpu_percent": 197.1,
          "cpu_time": 2.9699999999999998,
          "name": "ReadCsvProjectSpace_2",
          "real_mem": 326631424,
          "time": 1616561443.653301
         },
         {
          "cpu_percent": 98.5,
          "cpu_time": 2.9899999999999998,
          "name": "ConcatData_1",
          "real_mem": 327073792,
          "time": 1616561443.6753323
         },
         {
          "cpu_percent": 196.8,
          "cpu_time": 3.04,
          "name": "SelectData_2",
          "real_mem": 327942144,
          "time": 1616561443.7011259
         },
         {
          "cpu_percent": 296.1,
          "cpu_time": 3.1100000000000003,
          "name": "RenameCol_1",
          "real_mem": 327999488,
          "time": 1616561443.723377
         },
         {
          "cpu_percent": 394.7,
          "cpu_time": 3.2,
          "name": "SelectData_1",
          "real_mem": 328433664,
          "time": 1616561443.7457526
         },
         {
          "cpu_percent": 0,
          "cpu_time": 3.22,
          "name": "ReadCsvProjectSpace_1",
          "real_mem": 328458240,
          "time": 1616561443.768075
         },
         {
          "cpu_percent": 0,
          "cpu_time": 3.23,
          "name": "ReadCsvProjectSpace_2",
          "real_mem": 328818688,
          "time": 1616561443.7898982
         },
         {
          "cpu_percent": 98.8,
          "cpu_time": 3.25,
          "name": "ConcatData_1",
          "real_mem": 329052160,
          "time": 1616561443.8115895
         },
         {
          "cpu_percent": 395.1,
          "cpu_time": 3.33,
          "name": "SelectData_2",
          "real_mem": 329338880,
          "time": 1616561443.833839
         },
         {
          "cpu_percent": 394.8,
          "cpu_time": 3.41,
          "name": "RenameCol_1",
          "real_mem": 329834496,
          "time": 1616561443.8555622
         },
         {
          "cpu_percent": 297.1,
          "cpu_time": 3.4699999999999998,
          "name": "SelectData_1",
          "real_mem": 330276864,
          "time": 1616561443.8773556
         },
         {
          "cpu_percent": 394.4,
          "cpu_time": 3.54,
          "name": "ReadCsvProjectSpace_1",
          "real_mem": 331386880,
          "time": 1616561443.8992558
         },
         {
          "cpu_percent": 296.2,
          "cpu_time": 3.62,
          "name": "ReadCsvProjectSpace_2",
          "real_mem": 340123648,
          "time": 1616561443.9210463
         },
         {
          "cpu_percent": 295.2,
          "cpu_time": 3.6900000000000004,
          "name": "ConcatData_1",
          "real_mem": 339152896,
          "time": 1616561443.9429584
         },
         {
          "cpu_percent": 395.1,
          "cpu_time": 3.7699999999999996,
          "name": "SelectData_2",
          "real_mem": 340238336,
          "time": 1616561443.9648573
         },
         {
          "cpu_percent": 486.6,
          "cpu_time": 3.8600000000000003,
          "name": "RenameCol_1",
          "real_mem": 340381696,
          "time": 1616561443.986814
         },
         {
          "cpu_percent": 197.4,
          "cpu_time": 3.92,
          "name": "SelectData_1",
          "real_mem": 340807680,
          "time": 1616561444.0086265
         },
         {
          "cpu_percent": 98.7,
          "cpu_time": 3.95,
          "name": "ReadCsvProjectSpace_1",
          "real_mem": 341233664,
          "time": 1616561444.030584
         },
         {
          "cpu_percent": 272.7,
          "cpu_time": 4.029999999999999,
          "name": "ReadCsvProjectSpace_2",
          "real_mem": 347213824,
          "time": 1616561444.0535052
         },
         {
          "cpu_percent": 395.4,
          "cpu_time": 4.09,
          "name": "ConcatData_1",
          "real_mem": 348327936,
          "time": 1616561444.075251
         },
         {
          "cpu_percent": 0,
          "cpu_time": 4.109999999999999,
          "name": "SelectData_2",
          "real_mem": 348663808,
          "time": 1616561444.0972416
         },
         {
          "cpu_percent": 0,
          "cpu_time": 4.12,
          "name": "RenameCol_1",
          "real_mem": 348663808,
          "time": 1616561444.1191607
         },
         {
          "cpu_percent": 0,
          "cpu_time": 4.12,
          "name": "SelectData_1",
          "real_mem": 348663808,
          "time": 1616561444.141068
         },
         {
          "cpu_percent": 291.5,
          "cpu_time": 4.16,
          "name": "ReadCsvProjectSpace_1",
          "real_mem": 348725248,
          "time": 1616561444.1653934
         },
         {
          "cpu_percent": 198.5,
          "cpu_time": 4.220000000000001,
          "name": "ReadCsvProjectSpace_2",
          "real_mem": 349446144,
          "time": 1616561444.1877484
         },
         {
          "cpu_percent": 98.8,
          "cpu_time": 4.24,
          "name": "ConcatData_1",
          "real_mem": 350081024,
          "time": 1616561444.209531
         },
         {
          "cpu_percent": 197.3,
          "cpu_time": 4.29,
          "name": "SelectData_2",
          "real_mem": 350375936,
          "time": 1616561444.2313051
         },
         {
          "cpu_percent": 98.7,
          "cpu_time": 4.32,
          "name": "RenameCol_1",
          "real_mem": 350797824,
          "time": 1616561444.2531972
         },
         {
          "cpu_percent": 98.7,
          "cpu_time": 4.35,
          "name": "SelectData_1",
          "real_mem": 351358976,
          "time": 1616561444.275026
         },
         {
          "cpu_percent": 197.3,
          "cpu_time": 4.38,
          "name": "ReadCsvProjectSpace_1",
          "real_mem": 351711232,
          "time": 1616561444.296808
         },
         {
          "cpu_percent": 98.5,
          "cpu_time": 4.4,
          "name": "ReadCsvProjectSpace_2",
          "real_mem": 352227328,
          "time": 1616561444.3188567
         },
         {
          "cpu_percent": 98.8,
          "cpu_time": 4.43,
          "name": "ConcatData_1",
          "real_mem": 352808960,
          "time": 1616561444.34061
         },
         {
          "cpu_percent": 197.5,
          "cpu_time": 4.47,
          "name": "SelectData_2",
          "real_mem": 353075200,
          "time": 1616561444.3625126
         },
         {
          "cpu_percent": 296.5,
          "cpu_time": 4.51,
          "name": "RenameCol_1",
          "real_mem": 353255424,
          "time": 1616561444.3842864
         },
         {
          "cpu_percent": 296.5,
          "cpu_time": 4.58,
          "name": "SelectData_1",
          "real_mem": 353632256,
          "time": 1616561444.406016
         },
         {
          "cpu_percent": 196.6,
          "cpu_time": 4.63,
          "name": "ReadCsvProjectSpace_1",
          "real_mem": 353902592,
          "time": 1616561444.4278152
         },
         {
          "cpu_percent": 98.6,
          "cpu_time": 4.66,
          "name": "ReadCsvProjectSpace_2",
          "real_mem": 354340864,
          "time": 1616561444.449826
         },
         {
          "cpu_percent": 98.7,
          "cpu_time": 4.7,
          "name": "ConcatData_1",
          "real_mem": 354746368,
          "time": 1616561444.4715493
         },
         {
          "cpu_percent": 98.8,
          "cpu_time": 4.7299999999999995,
          "name": "SelectData_2",
          "real_mem": 355106816,
          "time": 1616561444.4932516
         },
         {
          "cpu_percent": 98.7,
          "cpu_time": 4.75,
          "name": "RenameCol_1",
          "real_mem": 355921920,
          "time": 1616561444.5150256
         },
         {
          "cpu_percent": 98.6,
          "cpu_time": 4.78,
          "name": "SelectData_1",
          "real_mem": 357519360,
          "time": 1616561444.537028
         },
         {
          "cpu_percent": 98.6,
          "cpu_time": 4.8,
          "name": "ReadCsvProjectSpace_1",
          "real_mem": 360529920,
          "time": 1616561444.5592542
         },
         {
          "cpu_percent": 293.4,
          "cpu_time": 4.84,
          "name": "ReadCsvProjectSpace_2",
          "real_mem": 362991616,
          "time": 1616561444.581237
         },
         {
          "cpu_percent": 98.4,
          "cpu_time": 4.859999999999999,
          "name": "ConcatData_1",
          "real_mem": 365563904,
          "time": 1616561444.6030228
         },
         {
          "cpu_percent": 98.4,
          "cpu_time": 4.9,
          "name": "SelectData_2",
          "real_mem": 368250880,
          "time": 1616561444.6252449
         },
         {
          "cpu_percent": 98.3,
          "cpu_time": 4.92,
          "name": "RenameCol_1",
          "real_mem": 370958336,
          "time": 1616561444.647134
         },
         {
          "cpu_percent": 98.9,
          "cpu_time": 4.949999999999999,
          "name": "SelectData_1",
          "real_mem": 373252096,
          "time": 1616561444.6688967
         },
         {
          "cpu_percent": 98.1,
          "cpu_time": 4.98,
          "name": "ReadCsvProjectSpace_1",
          "real_mem": 376479744,
          "time": 1616561444.6912162
         },
         {
          "cpu_percent": 296,
          "cpu_time": 5.02,
          "name": "ReadCsvProjectSpace_2",
          "real_mem": 379281408,
          "time": 1616561444.7131467
         },
         {
          "cpu_percent": 197.6,
          "cpu_time": 5.050000000000001,
          "name": "ConcatData_1",
          "real_mem": 382197760,
          "time": 1616561444.7349694
         },
         {
          "cpu_percent": 295.9,
          "cpu_time": 5.1,
          "name": "SelectData_2",
          "real_mem": 384925696,
          "time": 1616561444.7566683
         },
         {
          "cpu_percent": 197.4,
          "cpu_time": 5.15,
          "name": "RenameCol_1",
          "real_mem": 388894720,
          "time": 1616561444.7784135
         },
         {
          "cpu_percent": 196.9,
          "cpu_time": 5.2,
          "name": "SelectData_1",
          "real_mem": 392134656,
          "time": 1616561444.8002586
         },
         {
          "cpu_percent": 98.2,
          "cpu_time": 5.23,
          "name": "ReadCsvProjectSpace_1",
          "real_mem": 394514432,
          "time": 1616561444.8221893
         },
         {
          "cpu_percent": 98.7,
          "cpu_time": 5.26,
          "name": "ReadCsvProjectSpace_2",
          "real_mem": 396132352,
          "time": 1616561444.8440223
         },
         {
          "cpu_percent": 98.5,
          "cpu_time": 5.28,
          "name": "ConcatData_1",
          "real_mem": 397987840,
          "time": 1616561444.865948
         },
         {
          "cpu_percent": 98.7,
          "cpu_time": 5.32,
          "name": "SelectData_2",
          "real_mem": 400396288,
          "time": 1616561444.8877983
         },
         {
          "cpu_percent": 97.8,
          "cpu_time": 5.36,
          "name": "RenameCol_1",
          "real_mem": 402800640,
          "time": 1616561444.9097867
         },
         {
          "cpu_percent": 0,
          "cpu_time": 5.38,
          "name": "SelectData_1",
          "real_mem": 405352448,
          "time": 1616561444.9319448
         },
         {
          "cpu_percent": 0,
          "cpu_time": 5.4,
          "name": "ReadCsvProjectSpace_1",
          "real_mem": 406441984,
          "time": 1616561444.95398
         },
         {
          "cpu_percent": 197.6,
          "cpu_time": 5.44,
          "name": "ReadCsvProjectSpace_2",
          "real_mem": 407474176,
          "time": 1616561444.9759722
         },
         {
          "cpu_percent": 145.1,
          "cpu_time": 5.49,
          "name": "ConcatData_1",
          "real_mem": 412565504,
          "time": 1616561445.0014257
         },
         {
          "cpu_percent": 196.8,
          "cpu_time": 5.53,
          "name": "SelectData_2",
          "real_mem": 418775040,
          "time": 1616561445.023388
         },
         {
          "cpu_percent": 98.5,
          "cpu_time": 5.55,
          "name": "RenameCol_1",
          "real_mem": 419299328,
          "time": 1616561445.0453522
         },
         {
          "cpu_percent": 197.1,
          "cpu_time": 5.609999999999999,
          "name": "SelectData_1",
          "real_mem": 420323328,
          "time": 1616561445.0671175
         },
         {
          "cpu_percent": 197.5,
          "cpu_time": 5.6499999999999995,
          "name": "ReadCsvProjectSpace_1",
          "real_mem": 421400576,
          "time": 1616561445.0897005
         },
         {
          "cpu_percent": 197.4,
          "cpu_time": 5.7,
          "name": "ReadCsvProjectSpace_2",
          "real_mem": 421937152,
          "time": 1616561445.1114957
         },
         {
          "cpu_percent": 196.9,
          "cpu_time": 5.76,
          "name": "ConcatData_1",
          "real_mem": 421007360,
          "time": 1616561445.1340659
         },
         {
          "cpu_percent": 98.7,
          "cpu_time": 5.78,
          "name": "SelectData_2",
          "real_mem": 421449728,
          "time": 1616561445.1559007
         },
         {
          "cpu_percent": 98.7,
          "cpu_time": 5.840000000000001,
          "name": "RenameCol_1",
          "real_mem": 422080512,
          "time": 1616561445.177606
         },
         {
          "cpu_percent": 98.6,
          "cpu_time": 5.86,
          "name": "SelectData_1",
          "real_mem": 422432768,
          "time": 1616561445.1994812
         },
         {
          "cpu_percent": 196.8,
          "cpu_time": 5.890000000000001,
          "name": "ReadCsvProjectSpace_1",
          "real_mem": 422699008,
          "time": 1616561445.2213767
         },
         {
          "cpu_percent": 197.2,
          "cpu_time": 5.92,
          "name": "ReadCsvProjectSpace_2",
          "real_mem": 423063552,
          "time": 1616561445.2431824
         },
         {
          "cpu_percent": 296.4,
          "cpu_time": 5.970000000000001,
          "name": "ConcatData_1",
          "real_mem": 423202816,
          "time": 1616561445.264935
         },
         {
          "cpu_percent": 197.4,
          "cpu_time": 6.03,
          "name": "SelectData_2",
          "real_mem": 423788544,
          "time": 1616561445.286661
         },
         {
          "cpu_percent": 294.8,
          "cpu_time": 6.090000000000001,
          "name": "RenameCol_1",
          "real_mem": 425299968,
          "time": 1616561445.3087118
         },
         {
          "cpu_percent": 98.4,
          "cpu_time": 6.16,
          "name": "SelectData_1",
          "real_mem": 425799680,
          "time": 1616561445.3311436
         },
         {
          "cpu_percent": 197.4,
          "cpu_time": 6.19,
          "name": "ReadCsvProjectSpace_1",
          "real_mem": 426319872,
          "time": 1616561445.3529015
         },
         {
          "cpu_percent": 98.6,
          "cpu_time": 6.22,
          "name": "ReadCsvProjectSpace_2",
          "real_mem": 426803200,
          "time": 1616561445.374697
         },
         {
          "cpu_percent": 322.2,
          "cpu_time": 6.28,
          "name": "ConcatData_1",
          "real_mem": 431079424,
          "time": 1616561445.3990083
         },
         {
          "cpu_percent": 98.4,
          "cpu_time": 6.3100000000000005,
          "name": "SelectData_2",
          "real_mem": 434577408,
          "time": 1616561445.4213088
         },
         {
          "cpu_percent": 296,
          "cpu_time": 6.36,
          "name": "RenameCol_1",
          "real_mem": 437157888,
          "time": 1616561445.4433916
         },
         {
          "cpu_percent": 290.7,
          "cpu_time": 6.44,
          "name": "SelectData_1",
          "real_mem": 438005760,
          "time": 1616561445.4653685
         },
         {
          "cpu_percent": 197.5,
          "cpu_time": 6.49,
          "name": "ReadCsvProjectSpace_1",
          "real_mem": 438779904,
          "time": 1616561445.4871562
         },
         {
          "cpu_percent": 295.2,
          "cpu_time": 6.58,
          "name": "ReadCsvProjectSpace_2",
          "real_mem": 441929728,
          "time": 1616561445.5091887
         },
         {
          "cpu_percent": 295.3,
          "cpu_time": 6.64,
          "name": "ConcatData_1",
          "real_mem": 441376768,
          "time": 1616561445.5313237
         },
         {
          "cpu_percent": 295.8,
          "cpu_time": 6.71,
          "name": "SelectData_2",
          "real_mem": 441073664,
          "time": 1616561445.5532856
         },
         {
          "cpu_percent": 197,
          "cpu_time": 6.79,
          "name": "RenameCol_1",
          "real_mem": 442601472,
          "time": 1616561445.5751557
         },
         {
          "cpu_percent": 294.9,
          "cpu_time": 6.84,
          "name": "SelectData_1",
          "real_mem": 443404288,
          "time": 1616561445.5970702
         },
         {
          "cpu_percent": 98.1,
          "cpu_time": 6.8999999999999995,
          "name": "ReadCsvProjectSpace_1",
          "real_mem": 445095936,
          "time": 1616561445.619182
         },
         {
          "cpu_percent": 197,
          "cpu_time": 6.96,
          "name": "ReadCsvProjectSpace_2",
          "real_mem": 445673472,
          "time": 1616561445.6411042
         },
         {
          "cpu_percent": 196.5,
          "cpu_time": 7.0200000000000005,
          "name": "ConcatData_1",
          "real_mem": 446341120,
          "time": 1616561445.6631465
         },
         {
          "cpu_percent": 197.3,
          "cpu_time": 7.0600000000000005,
          "name": "SelectData_2",
          "real_mem": 446902272,
          "time": 1616561445.684891
         },
         {
          "cpu_percent": 98.7,
          "cpu_time": 7.1000000000000005,
          "name": "RenameCol_1",
          "real_mem": 450990080,
          "time": 1616561445.7067058
         },
         {
          "cpu_percent": 197.3,
          "cpu_time": 7.15,
          "name": "SelectData_1",
          "real_mem": 451571712,
          "time": 1616561445.7288244
         },
         {
          "cpu_percent": 197.2,
          "cpu_time": 7.2,
          "name": "ReadCsvProjectSpace_1",
          "real_mem": 452227072,
          "time": 1616561445.7506506
         },
         {
          "cpu_percent": 295.4,
          "cpu_time": 7.26,
          "name": "ReadCsvProjectSpace_2",
          "real_mem": 452493312,
          "time": 1616561445.7728033
         },
         {
          "cpu_percent": 488.8,
          "cpu_time": 7.3500000000000005,
          "name": "ConcatData_1",
          "real_mem": 453369856,
          "time": 1616561445.7947679
         },
         {
          "cpu_percent": 395.1,
          "cpu_time": 7.45,
          "name": "SelectData_2",
          "real_mem": 452661248,
          "time": 1616561445.8165476
         },
         {
          "cpu_percent": 295.4,
          "cpu_time": 7.5200000000000005,
          "name": "RenameCol_1",
          "real_mem": 456716288,
          "time": 1616561445.8384936
         },
         {
          "cpu_percent": 393.1,
          "cpu_time": 7.6000000000000005,
          "name": "SelectData_1",
          "real_mem": 462741504,
          "time": 1616561445.8617163
         },
         {
          "cpu_percent": 296.4,
          "cpu_time": 8.120000000000001,
          "name": "ReadCsvProjectSpace_1",
          "real_mem": 477569024,
          "time": 1616561446.023452
         },
         {
          "cpu_percent": 196.2,
          "cpu_time": 8.18,
          "name": "ReadCsvProjectSpace_2",
          "real_mem": 478113792,
          "time": 1616561446.0454142
         },
         {
          "cpu_percent": 197.1,
          "cpu_time": 8.22,
          "name": "ConcatData_1",
          "real_mem": 481210368,
          "time": 1616561446.0672948
         },
         {
          "cpu_percent": 197.3,
          "cpu_time": 8.28,
          "name": "SelectData_2",
          "real_mem": 481574912,
          "time": 1616561446.0892222
         },
         {
          "cpu_percent": 197.4,
          "cpu_time": 8.32,
          "name": "RenameCol_1",
          "real_mem": 481996800,
          "time": 1616561446.1113865
         },
         {
          "cpu_percent": 295.6,
          "cpu_time": 8.370000000000001,
          "name": "SelectData_1",
          "real_mem": 482267136,
          "time": 1616561446.133877
         },
         {
          "cpu_percent": 295.6,
          "cpu_time": 8.91,
          "name": "ReadCsvProjectSpace_1",
          "real_mem": 488857600,
          "time": 1616561446.2965457
         },
         {
          "cpu_percent": 295,
          "cpu_time": 8.98,
          "name": "ReadCsvProjectSpace_2",
          "real_mem": 490721280,
          "time": 1616561446.318829
         },
         {
          "cpu_percent": 394,
          "cpu_time": 9.06,
          "name": "ConcatData_1",
          "real_mem": 494915584,
          "time": 1616561446.3412352
         },
         {
          "cpu_percent": 393.1,
          "cpu_time": 9.149999999999999,
          "name": "SelectData_2",
          "real_mem": 492552192,
          "time": 1616561446.3634255
         },
         {
          "cpu_percent": 294.9,
          "cpu_time": 9.209999999999999,
          "name": "RenameCol_1",
          "real_mem": 494444544,
          "time": 1616561446.3855608
         },
         {
          "cpu_percent": 295.5,
          "cpu_time": 9.29,
          "name": "SelectData_1",
          "real_mem": 496893952,
          "time": 1616561446.4076042
         },
         {
          "cpu_percent": 197.1,
          "cpu_time": 9.649999999999999,
          "name": "ReadCsvProjectSpace_1",
          "real_mem": 514703360,
          "time": 1616561446.5692515
         },
         {
          "cpu_percent": 197.5,
          "cpu_time": 9.69,
          "name": "ReadCsvProjectSpace_2",
          "real_mem": 516718592,
          "time": 1616561446.59102
         },
         {
          "cpu_percent": 197.4,
          "cpu_time": 9.75,
          "name": "ConcatData_1",
          "real_mem": 518705152,
          "time": 1616561446.6128733
         },
         {
          "cpu_percent": 295.5,
          "cpu_time": 9.870000000000001,
          "name": "RenameCol_1",
          "real_mem": 520134656,
          "time": 1616561446.6573663
         },
         {
          "cpu_percent": 296.4,
          "cpu_time": 9.82,
          "name": "SelectData_2",
          "real_mem": 518086656,
          "time": 1616561446.6357527
         },
         {
          "cpu_percent": 197.2,
          "cpu_time": 9.89,
          "name": "SelectData_1",
          "real_mem": 522027008,
          "time": 1616561446.679388
         },
         {
          "cpu_percent": 196.8,
          "cpu_time": 10.100000000000001,
          "name": "ReadCsvProjectSpace_1",
          "real_mem": 539557888,
          "time": 1616561446.841836
         },
         {
          "cpu_percent": 295.9,
          "cpu_time": 10.14,
          "name": "ReadCsvProjectSpace_2",
          "real_mem": 542552064,
          "time": 1616561446.8635132
         },
         {
          "cpu_percent": 197.3,
          "cpu_time": 10.190000000000001,
          "name": "ConcatData_1",
          "real_mem": 545050624,
          "time": 1616561446.885571
         },
         {
          "cpu_percent": 196.9,
          "cpu_time": 10.23,
          "name": "SelectData_2",
          "real_mem": 547418112,
          "time": 1616561446.907907
         },
         {
          "cpu_percent": 98.7,
          "cpu_time": 10.270000000000001,
          "name": "RenameCol_1",
          "real_mem": 549011456,
          "time": 1616561446.92953
         },
         {
          "cpu_percent": 278.6,
          "cpu_time": 10.33,
          "name": "SelectData_1",
          "real_mem": 550281216,
          "time": 1616561446.9544945
         },
         {
          "cpu_percent": 0,
          "cpu_time": 10.59,
          "name": "ReadCsvProjectSpace_1",
          "real_mem": 560599040,
          "time": 1616561447.1146333
         },
         {
          "cpu_percent": 0,
          "cpu_time": 10.59,
          "name": "ReadCsvProjectSpace_2",
          "real_mem": 560599040,
          "time": 1616561447.136631
         },
         {
          "cpu_percent": 0,
          "cpu_time": 10.59,
          "name": "ConcatData_1",
          "real_mem": 560599040,
          "time": 1616561447.1584542
         },
         {
          "cpu_percent": 197.6,
          "cpu_time": 10.66,
          "name": "RenameCol_1",
          "real_mem": 564002816,
          "time": 1616561447.2025757
         },
         {
          "cpu_percent": 197,
          "cpu_time": 10.62,
          "name": "SelectData_2",
          "real_mem": 561926144,
          "time": 1616561447.1804762
         },
         {
          "cpu_percent": 394.4,
          "cpu_time": 10.75,
          "name": "SelectData_1",
          "real_mem": 565604352,
          "time": 1616561447.2265964
         },
         {
          "cpu_percent": 98.8,
          "cpu_time": 11.1,
          "name": "ReadCsvProjectSpace_1",
          "real_mem": 579862528,
          "time": 1616561447.3896139
         },
         {
          "cpu_percent": 197.2,
          "cpu_time": 11.129999999999999,
          "name": "ReadCsvProjectSpace_2",
          "real_mem": 581480448,
          "time": 1616561447.4112177
         },
         {
          "cpu_percent": 0,
          "cpu_time": 11.15,
          "name": "ConcatData_1",
          "real_mem": 583024640,
          "time": 1616561447.4330606
         },
         {
          "cpu_percent": 197.3,
          "cpu_time": 11.19,
          "name": "SelectData_2",
          "real_mem": 585019392,
          "time": 1616561447.455078
         },
         {
          "cpu_percent": 197.1,
          "cpu_time": 11.23,
          "name": "RenameCol_1",
          "real_mem": 596250624,
          "time": 1616561447.4768746
         },
         {
          "cpu_percent": 197.2,
          "cpu_time": 11.26,
          "name": "SelectData_1",
          "real_mem": 608145408,
          "time": 1616561447.4986603
         },
         {
          "cpu_percent": 293.4,
          "cpu_time": 11.639999999999999,
          "name": "ReadCsvProjectSpace_1",
          "real_mem": 619651072,
          "time": 1616561447.6627157
         },
         {
          "cpu_percent": 294.6,
          "cpu_time": 11.709999999999999,
          "name": "ReadCsvProjectSpace_2",
          "real_mem": 622620672,
          "time": 1616561447.6850116
         },
         {
          "cpu_percent": 98.4,
          "cpu_time": 11.75,
          "name": "ConcatData_1",
          "real_mem": 623689728,
          "time": 1616561447.7070713
         },
         {
          "cpu_percent": 197,
          "cpu_time": 11.79,
          "name": "SelectData_2",
          "real_mem": 624230400,
          "time": 1616561447.7290018
         },
         {
          "cpu_percent": 197.2,
          "cpu_time": 11.82,
          "name": "RenameCol_1",
          "real_mem": 624414720,
          "time": 1616561447.7510083
         },
         {
          "cpu_percent": 295,
          "cpu_time": 11.86,
          "name": "SelectData_1",
          "real_mem": 624730112,
          "time": 1616561447.7730682
         },
         {
          "cpu_percent": 98.3,
          "cpu_time": 12.190000000000001,
          "name": "ReadCsvProjectSpace_1",
          "real_mem": 628547584,
          "time": 1616561447.9361324
         },
         {
          "cpu_percent": 98.3,
          "cpu_time": 12.219999999999999,
          "name": "ReadCsvProjectSpace_2",
          "real_mem": 629190656,
          "time": 1616561447.9583237
         },
         {
          "cpu_percent": 98.5,
          "cpu_time": 12.25,
          "name": "ConcatData_1",
          "real_mem": 630046720,
          "time": 1616561447.9807527
         },
         {
          "cpu_percent": 98.5,
          "cpu_time": 12.270000000000001,
          "name": "SelectData_2",
          "real_mem": 631005184,
          "time": 1616561448.0033422
         },
         {
          "cpu_percent": 196.5,
          "cpu_time": 12.3,
          "name": "RenameCol_1",
          "real_mem": 631623680,
          "time": 1616561448.0257971
         },
         {
          "cpu_percent": 97,
          "cpu_time": 12.32,
          "name": "SelectData_1",
          "real_mem": 632008704,
          "time": 1616561448.0484467
         },
         {
          "cpu_percent": 98.4,
          "cpu_time": 12.690000000000001,
          "name": "ReadCsvProjectSpace_1",
          "real_mem": 634937344,
          "time": 1616561448.2089577
         },
         {
          "cpu_percent": 294.4,
          "cpu_time": 12.73,
          "name": "ReadCsvProjectSpace_2",
          "real_mem": 635322368,
          "time": 1616561448.2312376
         },
         {
          "cpu_percent": 98.5,
          "cpu_time": 12.76,
          "name": "ConcatData_1",
          "real_mem": 635777024,
          "time": 1616561448.2535338
         },
         {
          "cpu_percent": 196.1,
          "cpu_time": 12.8,
          "name": "SelectData_2",
          "real_mem": 636112896,
          "time": 1616561448.2755
         },
         {
          "cpu_percent": 98.5,
          "cpu_time": 12.83,
          "name": "RenameCol_1",
          "real_mem": 636420096,
          "time": 1616561448.2976372
         },
         {
          "cpu_percent": 98.6,
          "cpu_time": 12.85,
          "name": "SelectData_1",
          "real_mem": 636952576,
          "time": 1616561448.320925
         },
         {
          "cpu_percent": 197.1,
          "cpu_time": 13.13,
          "name": "ReadCsvProjectSpace_1",
          "real_mem": 639041536,
          "time": 1616561448.481493
         },
         {
          "cpu_percent": 197.5,
          "cpu_time": 13.16,
          "name": "ReadCsvProjectSpace_2",
          "real_mem": 639205376,
          "time": 1616561448.5030034
         },
         {
          "cpu_percent": 196.8,
          "cpu_time": 13.21,
          "name": "ConcatData_1",
          "real_mem": 639205376,
          "time": 1616561448.5264778
         },
         {
          "cpu_percent": 197.5,
          "cpu_time": 13.26,
          "name": "SelectData_2",
          "real_mem": 639471616,
          "time": 1616561448.5481207
         },
         {
          "cpu_percent": 197.1,
          "cpu_time": 13.31,
          "name": "RenameCol_1",
          "real_mem": 639500288,
          "time": 1616561448.5700715
         },
         {
          "cpu_percent": 294.5,
          "cpu_time": 13.36,
          "name": "SelectData_1",
          "real_mem": 640045056,
          "time": 1616561448.5933135
         },
         {
          "cpu_percent": 98.3,
          "cpu_time": 13.61,
          "name": "ReadCsvProjectSpace_1",
          "real_mem": 642277376,
          "time": 1616561448.7541895
         },
         {
          "cpu_percent": 197.2,
          "cpu_time": 13.64,
          "name": "ReadCsvProjectSpace_2",
          "real_mem": 642531328,
          "time": 1616561448.7762198
         },
         {
          "cpu_percent": 196.2,
          "cpu_time": 13.68,
          "name": "ConcatData_1",
          "real_mem": 643063808,
          "time": 1616561448.7986815
         },
         {
          "cpu_percent": 194.9,
          "cpu_time": 13.74,
          "name": "SelectData_2",
          "real_mem": 643125248,
          "time": 1616561448.8209734
         },
         {
          "cpu_percent": 197.4,
          "cpu_time": 13.78,
          "name": "RenameCol_1",
          "real_mem": 643125248,
          "time": 1616561448.8426764
         },
         {
          "cpu_percent": 295.1,
          "cpu_time": 13.84,
          "name": "SelectData_1",
          "real_mem": 643125248,
          "time": 1616561448.8664238
         },
         {
          "cpu_percent": 197.4,
          "cpu_time": 14.12,
          "name": "ReadCsvProjectSpace_1",
          "real_mem": 645197824,
          "time": 1616561449.0265908
         },
         {
          "cpu_percent": 98.6,
          "cpu_time": 14.16,
          "name": "ReadCsvProjectSpace_2",
          "real_mem": 645435392,
          "time": 1616561449.0481532
         },
         {
          "cpu_percent": 98.1,
          "cpu_time": 14.18,
          "name": "ConcatData_1",
          "real_mem": 645832704,
          "time": 1616561449.0714786
         },
         {
          "cpu_percent": 292.8,
          "cpu_time": 14.25,
          "name": "SelectData_2",
          "real_mem": 646500352,
          "time": 1616561449.0932326
         },
         {
          "cpu_percent": 197.5,
          "cpu_time": 14.32,
          "name": "RenameCol_1",
          "real_mem": 647008256,
          "time": 1616561449.115528
         },
         {
          "cpu_percent": 296.1,
          "cpu_time": 14.379999999999999,
          "name": "SelectData_1",
          "real_mem": 647536640,
          "time": 1616561449.138739
         },
         {
          "cpu_percent": 197,
          "cpu_time": 14.82,
          "name": "ReadCsvProjectSpace_1",
          "real_mem": 649019392,
          "time": 1616561449.299594
         },
         {
          "cpu_percent": 296.6,
          "cpu_time": 14.879999999999999,
          "name": "ReadCsvProjectSpace_2",
          "real_mem": 650108928,
          "time": 1616561449.3214784
         },
         {
          "cpu_percent": 295.4,
          "cpu_time": 14.95,
          "name": "ConcatData_1",
          "real_mem": 650440704,
          "time": 1616561449.3439167
         },
         {
          "cpu_percent": 98.4,
          "cpu_time": 14.99,
          "name": "SelectData_2",
          "real_mem": 650792960,
          "time": 1616561449.366216
         },
         {
          "cpu_percent": 194.4,
          "cpu_time": 15.04,
          "name": "RenameCol_1",
          "real_mem": 650993664,
          "time": 1616561449.388865
         },
         {
          "cpu_percent": 197.3,
          "cpu_time": 15.09,
          "name": "SelectData_1",
          "real_mem": 651055104,
          "time": 1616561449.4106843
         },
         {
          "cpu_percent": 98.3,
          "cpu_time": 15.54,
          "name": "ReadCsvProjectSpace_1",
          "real_mem": 671379456,
          "time": 1616561449.5725737
         },
         {
          "cpu_percent": 98.5,
          "cpu_time": 15.559999999999999,
          "name": "ReadCsvProjectSpace_2",
          "real_mem": 671825920,
          "time": 1616561449.5941556
         },
         {
          "cpu_percent": 293.7,
          "cpu_time": 15.62,
          "name": "ConcatData_1",
          "real_mem": 682713088,
          "time": 1616561449.6166413
         },
         {
          "cpu_percent": 196.8,
          "cpu_time": 15.67,
          "name": "SelectData_2",
          "real_mem": 697151488,
          "time": 1616561449.6390657
         },
         {
          "cpu_percent": 197.2,
          "cpu_time": 15.72,
          "name": "RenameCol_1",
          "real_mem": 707416064,
          "time": 1616561449.661313
         },
         {
          "cpu_percent": 296.1,
          "cpu_time": 15.780000000000001,
          "name": "SelectData_1",
          "real_mem": 721473536,
          "time": 1616561449.6832607
         },
         {
          "cpu_percent": 394.8,
          "cpu_time": 16.21,
          "name": "ReadCsvProjectSpace_1",
          "real_mem": 740163584,
          "time": 1616561449.8446383
         },
         {
          "cpu_percent": 197.5,
          "cpu_time": 16.27,
          "name": "ReadCsvProjectSpace_2",
          "real_mem": 740270080,
          "time": 1616561449.8663793
         },
         {
          "cpu_percent": 196.7,
          "cpu_time": 16.31,
          "name": "ConcatData_1",
          "real_mem": 740270080,
          "time": 1616561449.8890142
         },
         {
          "cpu_percent": 195.9,
          "cpu_time": 16.36,
          "name": "SelectData_2",
          "real_mem": 741883904,
          "time": 1616561449.9114113
         },
         {
          "cpu_percent": 196.4,
          "cpu_time": 16.41,
          "name": "RenameCol_1",
          "real_mem": 747274240,
          "time": 1616561449.9338288
         },
         {
          "cpu_percent": 267,
          "cpu_time": 16.47,
          "name": "SelectData_1",
          "real_mem": 747544576,
          "time": 1616561449.9575658
         },
         {
          "cpu_percent": 197.5,
          "cpu_time": 16.74,
          "name": "ReadCsvProjectSpace_1",
          "real_mem": 749494272,
          "time": 1616561450.1172924
         },
         {
          "cpu_percent": 196.1,
          "cpu_time": 16.79,
          "name": "ReadCsvProjectSpace_2",
          "real_mem": 749936640,
          "time": 1616561450.139637
         },
         {
          "cpu_percent": 294.9,
          "cpu_time": 16.849999999999998,
          "name": "ConcatData_1",
          "real_mem": 750108672,
          "time": 1616561450.1622856
         },
         {
          "cpu_percent": 97.9,
          "cpu_time": 16.89,
          "name": "SelectData_2",
          "real_mem": 750723072,
          "time": 1616561450.1846812
         },
         {
          "cpu_percent": 0,
          "cpu_time": 16.91,
          "name": "RenameCol_1",
          "real_mem": 750723072,
          "time": 1616561450.2065096
         },
         {
          "cpu_percent": 98.4,
          "cpu_time": 16.939999999999998,
          "name": "SelectData_1",
          "real_mem": 750977024,
          "time": 1616561450.2300856
         },
         {
          "cpu_percent": 98.6,
          "cpu_time": 17.17,
          "name": "ReadCsvProjectSpace_1",
          "real_mem": 754368512,
          "time": 1616561450.3906293
         },
         {
          "cpu_percent": 98.1,
          "cpu_time": 17.220000000000002,
          "name": "ReadCsvProjectSpace_2",
          "real_mem": 754900992,
          "time": 1616561450.412568
         },
         {
          "cpu_percent": 98.3,
          "cpu_time": 17.25,
          "name": "ConcatData_1",
          "real_mem": 755122176,
          "time": 1616561450.434831
         },
         {
          "cpu_percent": 394.9,
          "cpu_time": 17.310000000000002,
          "name": "SelectData_2",
          "real_mem": 755511296,
          "time": 1616561450.4567776
         },
         {
          "cpu_percent": 197.1,
          "cpu_time": 17.360000000000003,
          "name": "RenameCol_1",
          "real_mem": 755945472,
          "time": 1616561450.479308
         },
         {
          "cpu_percent": 296.4,
          "cpu_time": 17.430000000000003,
          "name": "SelectData_1",
          "real_mem": 756322304,
          "time": 1616561450.5027163
         },
         {
          "cpu_percent": 295.1,
          "cpu_time": 17.950000000000003,
          "name": "ReadCsvProjectSpace_1",
          "real_mem": 758652928,
          "time": 1616561450.6637285
         },
         {
          "cpu_percent": 295.2,
          "cpu_time": 18.03,
          "name": "ReadCsvProjectSpace_2",
          "real_mem": 760692736,
          "time": 1616561450.6859558
         },
         {
          "cpu_percent": 294.7,
          "cpu_time": 18.12,
          "name": "ConcatData_1",
          "real_mem": 761544704,
          "time": 1616561450.7096376
         },
         {
          "cpu_percent": 295.6,
          "cpu_time": 18.19,
          "name": "SelectData_2",
          "real_mem": 761815040,
          "time": 1616561450.7332737
         },
         {
          "cpu_percent": 295.1,
          "cpu_time": 18.27,
          "name": "RenameCol_1",
          "real_mem": 763068416,
          "time": 1616561450.7565973
         },
         {
          "cpu_percent": 296.2,
          "cpu_time": 18.34,
          "name": "SelectData_1",
          "real_mem": 766812160,
          "time": 1616561450.7795737
         },
         {
          "cpu_percent": 394.20000000000005,
          "cpu_time": 18.860000000000003,
          "name": "ReadCsvProjectSpace_1",
          "real_mem": 794681344,
          "time": 1616561450.9376755
         },
         {
          "cpu_percent": 295.2,
          "cpu_time": 18.93,
          "name": "ReadCsvProjectSpace_2",
          "real_mem": 795160576,
          "time": 1616561450.9597423
         },
         {
          "cpu_percent": 492.7,
          "cpu_time": 19.03,
          "name": "ConcatData_1",
          "real_mem": 797872128,
          "time": 1616561450.9822896
         },
         {
          "cpu_percent": 294.9,
          "cpu_time": 19.12,
          "name": "SelectData_2",
          "real_mem": 798359552,
          "time": 1616561451.0060654
         },
         {
          "cpu_percent": 294.9,
          "cpu_time": 19.200000000000003,
          "name": "RenameCol_1",
          "real_mem": 802279424,
          "time": 1616561451.0296478
         },
         {
          "cpu_percent": 392.7,
          "cpu_time": 19.28,
          "name": "SelectData_1",
          "real_mem": 802369536,
          "time": 1616561451.0519247
         },
         {
          "cpu_percent": 98.2,
          "cpu_time": 19.75,
          "name": "ReadCsvProjectSpace_1",
          "real_mem": 806318080,
          "time": 1616561451.2099385
         },
         {
          "cpu_percent": 295.3,
          "cpu_time": 19.79,
          "name": "ReadCsvProjectSpace_2",
          "real_mem": 806576128,
          "time": 1616561451.2316592
         },
         {
          "cpu_percent": 395,
          "cpu_time": 19.87,
          "name": "ConcatData_1",
          "real_mem": 807149568,
          "time": 1616561451.2549086
         },
         {
          "cpu_percent": 196.8,
          "cpu_time": 19.94,
          "name": "SelectData_2",
          "real_mem": 808095744,
          "time": 1616561451.2779038
         },
         {
          "cpu_percent": 197.2,
          "cpu_time": 20,
          "name": "RenameCol_1",
          "real_mem": 809082880,
          "time": 1616561451.3022025
         },
         {
          "cpu_percent": 394.2,
          "cpu_time": 20.099999999999998,
          "name": "SelectData_1",
          "real_mem": 809955328,
          "time": 1616561451.3239596
         },
         {
          "cpu_percent": 196.8,
          "cpu_time": 20.41,
          "name": "ReadCsvProjectSpace_1",
          "real_mem": 832081920,
          "time": 1616561451.4825425
         },
         {
          "cpu_percent": 97.7,
          "cpu_time": 20.47,
          "name": "ReadCsvProjectSpace_2",
          "real_mem": 832483328,
          "time": 1616561451.5042315
         },
         {
          "cpu_percent": 293.4,
          "cpu_time": 20.52,
          "name": "ConcatData_1",
          "real_mem": 832774144,
          "time": 1616561451.5273921
         },
         {
          "cpu_percent": 197.6,
          "cpu_time": 20.58,
          "name": "SelectData_2",
          "real_mem": 833294336,
          "time": 1616561451.550773
         },
         {
          "cpu_percent": 296.1,
          "cpu_time": 20.65,
          "name": "RenameCol_1",
          "real_mem": 833294336,
          "time": 1616561451.5747938
         },
         {
          "cpu_percent": 295,
          "cpu_time": 20.72,
          "name": "SelectData_1",
          "real_mem": 833818624,
          "time": 1616561451.5963712
         },
         {
          "cpu_percent": 196.8,
          "cpu_time": 21.25,
          "name": "ReadCsvProjectSpace_1",
          "real_mem": 841584640,
          "time": 1616561451.7553139
         },
         {
          "cpu_percent": 98.6,
          "cpu_time": 21.28,
          "name": "ReadCsvProjectSpace_2",
          "real_mem": 841584640,
          "time": 1616561451.7768478
         },
         {
          "cpu_percent": 98.7,
          "cpu_time": 21.3,
          "name": "ConcatData_1",
          "real_mem": 841584640,
          "time": 1616561451.7988348
         },
         {
          "cpu_percent": 393,
          "cpu_time": 21.400000000000002,
          "name": "SelectData_2",
          "real_mem": 841584640,
          "time": 1616561451.8234024
         },
         {
          "cpu_percent": 300.5,
          "cpu_time": 21.48,
          "name": "RenameCol_1",
          "real_mem": 841723904,
          "time": 1616561451.8499284
         },
         {
          "cpu_percent": 492.5,
          "cpu_time": 21.57,
          "name": "SelectData_1",
          "real_mem": 841723904,
          "time": 1616561451.8717685
         },
         {
          "cpu_percent": 492.9,
          "cpu_time": 22.189999999999998,
          "name": "ReadCsvProjectSpace_1",
          "real_mem": 844251136,
          "time": 1616561452.0274022
         },
         {
          "cpu_percent": 294.7,
          "cpu_time": 22.259999999999998,
          "name": "ReadCsvProjectSpace_2",
          "real_mem": 844251136,
          "time": 1616561452.049585
         },
         {
          "cpu_percent": 469.6,
          "cpu_time": 22.34,
          "name": "ConcatData_1",
          "real_mem": 844328960,
          "time": 1616561452.0723443
         },
         {
          "cpu_percent": 294.3,
          "cpu_time": 22.42,
          "name": "SelectData_2",
          "real_mem": 844328960,
          "time": 1616561452.0956118
         },
         {
          "cpu_percent": 197.3,
          "cpu_time": 22.48,
          "name": "RenameCol_1",
          "real_mem": 844763136,
          "time": 1616561452.1227996
         },
         {
          "cpu_percent": 394.9,
          "cpu_time": 22.55,
          "name": "SelectData_1",
          "real_mem": 845185024,
          "time": 1616561452.144544
         },
         {
          "cpu_percent": 295.7,
          "cpu_time": 23.05,
          "name": "ReadCsvProjectSpace_1",
          "real_mem": 847351808,
          "time": 1616561452.3000128
         },
         {
          "cpu_percent": 295.1,
          "cpu_time": 23.1,
          "name": "ReadCsvProjectSpace_2",
          "real_mem": 847482880,
          "time": 1616561452.3218231
         },
         {
          "cpu_percent": 279.4,
          "cpu_time": 23.180000000000003,
          "name": "ConcatData_1",
          "real_mem": 847482880,
          "time": 1616561452.3448036
         },
         {
          "cpu_percent": 195.2,
          "cpu_time": 23.23,
          "name": "SelectData_2",
          "real_mem": 847482880,
          "time": 1616561452.3679068
         },
         {
          "cpu_percent": 294.9,
          "cpu_time": 23.310000000000002,
          "name": "RenameCol_1",
          "real_mem": 847482880,
          "time": 1616561452.3959491
         },
         {
          "cpu_percent": 393,
          "cpu_time": 23.400000000000002,
          "name": "SelectData_1",
          "real_mem": 847556608,
          "time": 1616561452.4181557
         },
         {
          "cpu_percent": 197.1,
          "cpu_time": 23.950000000000003,
          "name": "ReadCsvProjectSpace_1",
          "real_mem": 848822272,
          "time": 1616561452.5741262
         },
         {
          "cpu_percent": 290.4,
          "cpu_time": 24.02,
          "name": "ReadCsvProjectSpace_2",
          "real_mem": 848822272,
          "time": 1616561452.5991538
         },
         {
          "cpu_percent": 295.7,
          "cpu_time": 24.099999999999998,
          "name": "ConcatData_1",
          "real_mem": 848986112,
          "time": 1616561452.62283
         },
         {
          "cpu_percent": 195,
          "cpu_time": 24.16,
          "name": "SelectData_2",
          "real_mem": 849063936,
          "time": 1616561452.6467881
         },
         {
          "cpu_percent": 294.2,
          "cpu_time": 24.25,
          "name": "RenameCol_1",
          "real_mem": 849362944,
          "time": 1616561452.672668
         },
         {
          "cpu_percent": 393.7,
          "cpu_time": 24.35,
          "name": "SelectData_1",
          "real_mem": 849530880,
          "time": 1616561452.696052
         },
         {
          "cpu_percent": 394,
          "cpu_time": 25.09,
          "name": "ConcatData_1",
          "real_mem": 850870272,
          "time": 1616561452.8953435
         },
         {
          "cpu_percent": 492.3,
          "cpu_time": 25.2,
          "name": "SelectData_2",
          "real_mem": 852029440,
          "time": 1616561452.9227428
         },
         {
          "cpu_percent": 394.1,
          "cpu_time": 25.299999999999997,
          "name": "RenameCol_1",
          "real_mem": 852377600,
          "time": 1616561452.9451606
         },
         {
          "cpu_percent": 489.9,
          "cpu_time": 25.4,
          "name": "SelectData_1",
          "real_mem": 852619264,
          "time": 1616561452.9691691
         },
         {
          "cpu_percent": 392.5,
          "cpu_time": 26.06,
          "name": "ConcatData_1",
          "real_mem": 854200320,
          "time": 1616561453.1740198
         },
         {
          "cpu_percent": 296.2,
          "cpu_time": 26.77,
          "name": "ConcatData_1",
          "real_mem": 856113152,
          "time": 1616561453.446521
         }
        ],
        "logs": [
         {
          "asctime": "2021-03-24 04:50:41,094",
          "created": 1616561441.0948584,
          "extra": {},
          "filename": "async_executors.py",
          "funcName": "main",
          "levelname": "DEBUG",
          "lineno": 114,
          "message": "NonSparkPath_2: started async block execution\n",
          "name": "engine.logs:NonSparkPath_2",
          "pathname": "/usr/local/lib/python3.7/dist-packages/razor/flow/async_executors.py",
          "process": 1832,
          "processName": "ForkProcess-1:4",
          "thread": 140399975704384,
          "threadName": "MainThread"
         },
         {
          "asctime": "2021-03-24 04:50:41,113",
          "created": 1616561441.1134212,
          "extra": {},
          "filename": "async_executors.py",
          "funcName": "fill_atomic_inputs",
          "levelname": "INFO",
          "lineno": 250,
          "message": "NonSparkPath_2: waiting for atomic input: ip_path",
          "name": "engine.logs:NonSparkPath_2",
          "pathname": "/usr/local/lib/python3.7/dist-packages/razor/flow/async_executors.py",
          "process": 1832,
          "processName": "ForkProcess-1:4",
          "thread": 140399975704384,
          "threadName": "MainThread"
         },
         {
          "asctime": "2021-03-24 04:50:41,113",
          "created": 1616561441.1135626,
          "extra": {},
          "filename": "async_executors.py",
          "funcName": "fill_atomic_inputs",
          "levelname": "DEBUG",
          "lineno": 253,
          "message": "NonSparkPath_2: got atomic input: train_hatespeech.csv",
          "name": "engine.logs:NonSparkPath_2",
          "pathname": "/usr/local/lib/python3.7/dist-packages/razor/flow/async_executors.py",
          "process": 1832,
          "processName": "ForkProcess-1:4",
          "thread": 140399975704384,
          "threadName": "MainThread"
         },
         {
          "asctime": "2021-03-24 04:50:41,113",
          "created": 1616561441.1136289,
          "extra": {},
          "filename": "async_executors.py",
          "funcName": "main",
          "levelname": "DEBUG",
          "lineno": 130,
          "message": "NonSparkPath_2: triggering block run",
          "name": "engine.logs:NonSparkPath_2",
          "pathname": "/usr/local/lib/python3.7/dist-packages/razor/flow/async_executors.py",
          "process": 1832,
          "processName": "ForkProcess-1:4",
          "thread": 140399975704384,
          "threadName": "MainThread"
         },
         {
          "asctime": "2021-03-24 04:50:41,066",
          "created": 1616561441.06667,
          "extra": {},
          "filename": "async_executors.py",
          "funcName": "main",
          "levelname": "DEBUG",
          "lineno": 114,
          "message": "NonSparkCols_1: started async block execution\n",
          "name": "engine.logs:NonSparkCols_1",
          "pathname": "/usr/local/lib/python3.7/dist-packages/razor/flow/async_executors.py",
          "process": 1816,
          "processName": "ForkProcess-1:1",
          "thread": 140399975704384,
          "threadName": "MainThread"
         },
         {
          "asctime": "2021-03-24 04:50:41,082",
          "created": 1616561441.0827966,
          "extra": {},
          "filename": "async_executors.py",
          "funcName": "fill_atomic_inputs",
          "levelname": "INFO",
          "lineno": 250,
          "message": "NonSparkCols_1: waiting for atomic input: cols_list",
          "name": "engine.logs:NonSparkCols_1",
          "pathname": "/usr/local/lib/python3.7/dist-packages/razor/flow/async_executors.py",
          "process": 1816,
          "processName": "ForkProcess-1:1",
          "thread": 140399975704384,
          "threadName": "MainThread"
         },
         {
          "asctime": "2021-03-24 04:50:41,082",
          "created": 1616561441.082963,
          "extra": {},
          "filename": "async_executors.py",
          "funcName": "fill_atomic_inputs",
          "levelname": "DEBUG",
          "lineno": 253,
          "message": "NonSparkCols_1: got atomic input: ['title', 'label']",
          "name": "engine.logs:NonSparkCols_1",
          "pathname": "/usr/local/lib/python3.7/dist-packages/razor/flow/async_executors.py",
          "process": 1816,
          "processName": "ForkProcess-1:1",
          "thread": 140399975704384,
          "threadName": "MainThread"
         },
         {
          "asctime": "2021-03-24 04:50:41,083",
          "created": 1616561441.0830197,
          "extra": {},
          "filename": "async_executors.py",
          "funcName": "main",
          "levelname": "DEBUG",
          "lineno": 130,
          "message": "NonSparkCols_1: triggering block run",
          "name": "engine.logs:NonSparkCols_1",
          "pathname": "/usr/local/lib/python3.7/dist-packages/razor/flow/async_executors.py",
          "process": 1816,
          "processName": "ForkProcess-1:1",
          "thread": 140399975704384,
          "threadName": "MainThread"
         },
         {
          "asctime": "2021-03-24 04:50:41,085",
          "created": 1616561441.0854595,
          "extra": {},
          "filename": "async_executors.py",
          "funcName": "distribute_output_queue",
          "levelname": "DEBUG",
          "lineno": 308,
          "message": "NonSparkCols_1: ---- dist output: ['title', 'label'] -> ('SelectData_1', 'wanted_cols')",
          "name": "engine.logs:NonSparkCols_1",
          "pathname": "/usr/local/lib/python3.7/dist-packages/razor/flow/async_executors.py",
          "process": 1816,
          "processName": "ForkProcess-1:1",
          "thread": 140399975704384,
          "threadName": "MainThread"
         },
         {
          "asctime": "2021-03-24 04:50:41,076",
          "created": 1616561441.0762606,
          "extra": {},
          "filename": "async_executors.py",
          "funcName": "main",
          "levelname": "DEBUG",
          "lineno": 114,
          "message": "NonSparkPath_1: started async block execution\n",
          "name": "engine.logs:NonSparkPath_1",
          "pathname": "/usr/local/lib/python3.7/dist-packages/razor/flow/async_executors.py",
          "process": 1821,
          "processName": "ForkProcess-1:2",
          "thread": 140399975704384,
          "threadName": "MainThread"
         },
         {
          "asctime": "2021-03-24 04:50:41,085",
          "created": 1616561441.0859456,
          "extra": {},
          "filename": "async_executors.py",
          "funcName": "main",
          "levelname": "DEBUG",
          "lineno": 147,
          "message": "NonSparkCols_1: block thread completed",
          "name": "engine.logs:NonSparkCols_1",
          "pathname": "/usr/local/lib/python3.7/dist-packages/razor/flow/async_executors.py",
          "process": 1816,
          "processName": "ForkProcess-1:1",
          "thread": 140399975704384,
          "threadName": "MainThread"
         },
         {
          "asctime": "2021-03-24 04:50:41,086",
          "created": 1616561441.0860846,
          "extra": {},
          "filename": "async_executors.py",
          "funcName": "main",
          "levelname": "DEBUG",
          "lineno": 149,
          "message": "NonSparkCols_1: block execution complete",
          "name": "engine.logs:NonSparkCols_1",
          "pathname": "/usr/local/lib/python3.7/dist-packages/razor/flow/async_executors.py",
          "process": 1816,
          "processName": "ForkProcess-1:1",
          "thread": 140399975704384,
          "threadName": "MainThread"
         },
         {
          "asctime": "2021-03-24 04:50:41,086",
          "created": 1616561441.086345,
          "extra": {},
          "filename": "async_executors.py",
          "funcName": "distribute_output_queue",
          "levelname": "DEBUG",
          "lineno": 308,
          "message": "NonSparkCols_1: ---- dist output: b'__!\\tEndOfStream\\t!__' -> ('SelectData_1', 'wanted_cols')",
          "name": "engine.logs:NonSparkCols_1",
          "pathname": "/usr/local/lib/python3.7/dist-packages/razor/flow/async_executors.py",
          "process": 1816,
          "processName": "ForkProcess-1:1",
          "thread": 140399975704384,
          "threadName": "MainThread"
         },
         {
          "asctime": "2021-03-24 04:50:41,092",
          "created": 1616561441.0925536,
          "extra": {},
          "filename": "async_executors.py",
          "funcName": "fill_atomic_inputs",
          "levelname": "INFO",
          "lineno": 250,
          "message": "NonSparkPath_1: waiting for atomic input: ip_path",
          "name": "engine.logs:NonSparkPath_1",
          "pathname": "/usr/local/lib/python3.7/dist-packages/razor/flow/async_executors.py",
          "process": 1821,
          "processName": "ForkProcess-1:2",
          "thread": 140399975704384,
          "threadName": "MainThread"
         },
         {
          "asctime": "2021-03-24 04:50:41,092",
          "created": 1616561441.092711,
          "extra": {},
          "filename": "async_executors.py",
          "funcName": "fill_atomic_inputs",
          "levelname": "DEBUG",
          "lineno": 253,
          "message": "NonSparkPath_1: got atomic input: df_with_stats.csv",
          "name": "engine.logs:NonSparkPath_1",
          "pathname": "/usr/local/lib/python3.7/dist-packages/razor/flow/async_executors.py",
          "process": 1821,
          "processName": "ForkProcess-1:2",
          "thread": 140399975704384,
          "threadName": "MainThread"
         },
         {
          "asctime": "2021-03-24 04:50:41,092",
          "created": 1616561441.092764,
          "extra": {},
          "filename": "async_executors.py",
          "funcName": "main",
          "levelname": "DEBUG",
          "lineno": 130,
          "message": "NonSparkPath_1: triggering block run",
          "name": "engine.logs:NonSparkPath_1",
          "pathname": "/usr/local/lib/python3.7/dist-packages/razor/flow/async_executors.py",
          "process": 1821,
          "processName": "ForkProcess-1:2",
          "thread": 140399975704384,
          "threadName": "MainThread"
         },
         {
          "asctime": "2021-03-24 04:50:41,085",
          "created": 1616561441.0855892,
          "extra": {},
          "filename": "async_executors.py",
          "funcName": "main",
          "levelname": "DEBUG",
          "lineno": 114,
          "message": "NonSparkCols_2: started async block execution\n",
          "name": "engine.logs:NonSparkCols_2",
          "pathname": "/usr/local/lib/python3.7/dist-packages/razor/flow/async_executors.py",
          "process": 1826,
          "processName": "ForkProcess-1:3",
          "thread": 140399975704384,
          "threadName": "MainThread"
         },
         {
          "asctime": "2021-03-24 04:50:41,102",
          "created": 1616561441.1020813,
          "extra": {},
          "filename": "async_executors.py",
          "funcName": "fill_atomic_inputs",
          "levelname": "INFO",
          "lineno": 250,
          "message": "NonSparkCols_2: waiting for atomic input: cols_list",
          "name": "engine.logs:NonSparkCols_2",
          "pathname": "/usr/local/lib/python3.7/dist-packages/razor/flow/async_executors.py",
          "process": 1826,
          "processName": "ForkProcess-1:3",
          "thread": 140399975704384,
          "threadName": "MainThread"
         },
         {
          "asctime": "2021-03-24 04:50:41,102",
          "created": 1616561441.1022913,
          "extra": {},
          "filename": "async_executors.py",
          "funcName": "fill_atomic_inputs",
          "levelname": "DEBUG",
          "lineno": 253,
          "message": "NonSparkCols_2: got atomic input: ['tweet', 'class']",
          "name": "engine.logs:NonSparkCols_2",
          "pathname": "/usr/local/lib/python3.7/dist-packages/razor/flow/async_executors.py",
          "process": 1826,
          "processName": "ForkProcess-1:3",
          "thread": 140399975704384,
          "threadName": "MainThread"
         },
         {
          "asctime": "2021-03-24 04:50:41,102",
          "created": 1616561441.1023786,
          "extra": {},
          "filename": "async_executors.py",
          "funcName": "main",
          "levelname": "DEBUG",
          "lineno": 130,
          "message": "NonSparkCols_2: triggering block run",
          "name": "engine.logs:NonSparkCols_2",
          "pathname": "/usr/local/lib/python3.7/dist-packages/razor/flow/async_executors.py",
          "process": 1826,
          "processName": "ForkProcess-1:3",
          "thread": 140399975704384,
          "threadName": "MainThread"
         },
         {
          "asctime": "2021-03-24 04:50:41,105",
          "created": 1616561441.105589,
          "extra": {},
          "filename": "async_executors.py",
          "funcName": "distribute_output_queue",
          "levelname": "DEBUG",
          "lineno": 308,
          "message": "NonSparkCols_2: ---- dist output: ['tweet', 'class'] -> ('SelectData_2', 'wanted_cols')",
          "name": "engine.logs:NonSparkCols_2",
          "pathname": "/usr/local/lib/python3.7/dist-packages/razor/flow/async_executors.py",
          "process": 1826,
          "processName": "ForkProcess-1:3",
          "thread": 140399975704384,
          "threadName": "MainThread"
         },
         {
          "asctime": "2021-03-24 04:50:41,106",
          "created": 1616561441.1061895,
          "extra": {},
          "filename": "async_executors.py",
          "funcName": "main",
          "levelname": "DEBUG",
          "lineno": 147,
          "message": "NonSparkCols_2: block thread completed",
          "name": "engine.logs:NonSparkCols_2",
          "pathname": "/usr/local/lib/python3.7/dist-packages/razor/flow/async_executors.py",
          "process": 1826,
          "processName": "ForkProcess-1:3",
          "thread": 140399975704384,
          "threadName": "MainThread"
         },
         {
          "asctime": "2021-03-24 04:50:41,106",
          "created": 1616561441.1063223,
          "extra": {},
          "filename": "async_executors.py",
          "funcName": "main",
          "levelname": "DEBUG",
          "lineno": 149,
          "message": "NonSparkCols_2: block execution complete",
          "name": "engine.logs:NonSparkCols_2",
          "pathname": "/usr/local/lib/python3.7/dist-packages/razor/flow/async_executors.py",
          "process": 1826,
          "processName": "ForkProcess-1:3",
          "thread": 140399975704384,
          "threadName": "MainThread"
         },
         {
          "asctime": "2021-03-24 04:50:41,106",
          "created": 1616561441.1066906,
          "extra": {},
          "filename": "async_executors.py",
          "funcName": "distribute_output_queue",
          "levelname": "DEBUG",
          "lineno": 308,
          "message": "NonSparkCols_2: ---- dist output: b'__!\\tEndOfStream\\t!__' -> ('SelectData_2', 'wanted_cols')",
          "name": "engine.logs:NonSparkCols_2",
          "pathname": "/usr/local/lib/python3.7/dist-packages/razor/flow/async_executors.py",
          "process": 1826,
          "processName": "ForkProcess-1:3",
          "thread": 140399975704384,
          "threadName": "MainThread"
         },
         {
          "asctime": "2021-03-24 04:50:41,403",
          "created": 1616561441.403383,
          "extra": {},
          "filename": "async_executors.py",
          "funcName": "distribute_output_queue",
          "levelname": "DEBUG",
          "lineno": 308,
          "message": "NonSparkPath_1: ---- dist output: /home/aios/projectspace/df_with_stats.csv -> ('ReadCsvProjectSpace_1', 'filename')",
          "name": "engine.logs:NonSparkPath_1",
          "pathname": "/usr/local/lib/python3.7/dist-packages/razor/flow/async_executors.py",
          "process": 1821,
          "processName": "ForkProcess-1:2",
          "thread": 140399975704384,
          "threadName": "MainThread"
         },
         {
          "asctime": "2021-03-24 04:50:41,403",
          "created": 1616561441.403696,
          "extra": {},
          "filename": "async_executors.py",
          "funcName": "main",
          "levelname": "DEBUG",
          "lineno": 147,
          "message": "NonSparkPath_1: block thread completed",
          "name": "engine.logs:NonSparkPath_1",
          "pathname": "/usr/local/lib/python3.7/dist-packages/razor/flow/async_executors.py",
          "process": 1821,
          "processName": "ForkProcess-1:2",
          "thread": 140399975704384,
          "threadName": "MainThread"
         },
         {
          "asctime": "2021-03-24 04:50:41,433",
          "created": 1616561441.4334824,
          "extra": {},
          "filename": "async_executors.py",
          "funcName": "distribute_output_queue",
          "levelname": "DEBUG",
          "lineno": 308,
          "message": "NonSparkPath_2: ---- dist output: /home/aios/projectspace/train_hatespeech.csv -> ('ReadCsvProjectSpace_2', 'filename')",
          "name": "engine.logs:NonSparkPath_2",
          "pathname": "/usr/local/lib/python3.7/dist-packages/razor/flow/async_executors.py",
          "process": 1832,
          "processName": "ForkProcess-1:4",
          "thread": 140399975704384,
          "threadName": "MainThread"
         },
         {
          "asctime": "2021-03-24 04:50:41,403",
          "created": 1616561441.4037848,
          "extra": {},
          "filename": "async_executors.py",
          "funcName": "main",
          "levelname": "DEBUG",
          "lineno": 149,
          "message": "NonSparkPath_1: block execution complete",
          "name": "engine.logs:NonSparkPath_1",
          "pathname": "/usr/local/lib/python3.7/dist-packages/razor/flow/async_executors.py",
          "process": 1821,
          "processName": "ForkProcess-1:2",
          "thread": 140399975704384,
          "threadName": "MainThread"
         },
         {
          "asctime": "2021-03-24 04:50:41,433",
          "created": 1616561441.4338593,
          "extra": {},
          "filename": "async_executors.py",
          "funcName": "main",
          "levelname": "DEBUG",
          "lineno": 147,
          "message": "NonSparkPath_2: block thread completed",
          "name": "engine.logs:NonSparkPath_2",
          "pathname": "/usr/local/lib/python3.7/dist-packages/razor/flow/async_executors.py",
          "process": 1832,
          "processName": "ForkProcess-1:4",
          "thread": 140399975704384,
          "threadName": "MainThread"
         },
         {
          "asctime": "2021-03-24 04:50:41,403",
          "created": 1616561441.403893,
          "extra": {},
          "filename": "async_executors.py",
          "funcName": "distribute_output_queue",
          "levelname": "DEBUG",
          "lineno": 308,
          "message": "NonSparkPath_1: ---- dist output: b'__!\\tEndOfStream\\t!__' -> ('ReadCsvProjectSpace_1', 'filename')",
          "name": "engine.logs:NonSparkPath_1",
          "pathname": "/usr/local/lib/python3.7/dist-packages/razor/flow/async_executors.py",
          "process": 1821,
          "processName": "ForkProcess-1:2",
          "thread": 140399975704384,
          "threadName": "MainThread"
         },
         {
          "asctime": "2021-03-24 04:50:41,433",
          "created": 1616561441.4339857,
          "extra": {},
          "filename": "async_executors.py",
          "funcName": "main",
          "levelname": "DEBUG",
          "lineno": 149,
          "message": "NonSparkPath_2: block execution complete",
          "name": "engine.logs:NonSparkPath_2",
          "pathname": "/usr/local/lib/python3.7/dist-packages/razor/flow/async_executors.py",
          "process": 1832,
          "processName": "ForkProcess-1:4",
          "thread": 140399975704384,
          "threadName": "MainThread"
         },
         {
          "asctime": "2021-03-24 04:50:41,434",
          "created": 1616561441.4341824,
          "extra": {},
          "filename": "async_executors.py",
          "funcName": "distribute_output_queue",
          "levelname": "DEBUG",
          "lineno": 308,
          "message": "NonSparkPath_2: ---- dist output: b'__!\\tEndOfStream\\t!__' -> ('ReadCsvProjectSpace_2', 'filename')",
          "name": "engine.logs:NonSparkPath_2",
          "pathname": "/usr/local/lib/python3.7/dist-packages/razor/flow/async_executors.py",
          "process": 1832,
          "processName": "ForkProcess-1:4",
          "thread": 140399975704384,
          "threadName": "MainThread"
         },
         {
          "asctime": "2021-03-24 04:50:41,433",
          "created": 1616561441.4334488,
          "extra": {},
          "filename": "async_executors.py",
          "funcName": "main",
          "levelname": "DEBUG",
          "lineno": 114,
          "message": "ConcatData_1: started async block execution\n",
          "name": "engine.logs:ConcatData_1",
          "pathname": "/usr/local/lib/python3.7/dist-packages/razor/flow/async_executors.py",
          "process": 1842,
          "processName": "ForkProcess-1:5",
          "thread": 140399975704384,
          "threadName": "MainThread"
         },
         {
          "asctime": "2021-03-24 04:50:41,434",
          "created": 1616561441.434,
          "extra": {},
          "filename": "async_executors.py",
          "funcName": "main",
          "levelname": "DEBUG",
          "lineno": 114,
          "message": "SelectData_2: started async block execution\n",
          "name": "engine.logs:SelectData_2",
          "pathname": "/usr/local/lib/python3.7/dist-packages/razor/flow/async_executors.py",
          "process": 1842,
          "processName": "ForkProcess-1:5",
          "thread": 140399975704384,
          "threadName": "MainThread"
         },
         {
          "asctime": "2021-03-24 04:50:41,430",
          "created": 1616561441.430925,
          "extra": {},
          "filename": "async_executors.py",
          "funcName": "main",
          "levelname": "DEBUG",
          "lineno": 114,
          "message": "ReadCsvProjectSpace_1: started async block execution\n",
          "name": "engine.logs:ReadCsvProjectSpace_1",
          "pathname": "/usr/local/lib/python3.7/dist-packages/razor/flow/async_executors.py",
          "process": 1842,
          "processName": "ForkProcess-1:5",
          "thread": 140399975704384,
          "threadName": "MainThread"
         },
         {
          "asctime": "2021-03-24 04:50:41,670",
          "created": 1616561441.6706967,
          "extra": {},
          "filename": "async_executors.py",
          "funcName": "main",
          "levelname": "DEBUG",
          "lineno": 114,
          "message": "RenameCol_1: started async block execution\n",
          "name": "engine.logs:RenameCol_1",
          "pathname": "/usr/local/lib/python3.7/dist-packages/razor/flow/async_executors.py",
          "process": 1842,
          "processName": "ForkProcess-1:5",
          "thread": 140399975704384,
          "threadName": "MainThread"
         },
         {
          "asctime": "2021-03-24 04:50:41,671",
          "created": 1616561441.671329,
          "extra": {},
          "filename": "async_executors.py",
          "funcName": "main",
          "levelname": "DEBUG",
          "lineno": 114,
          "message": "SelectData_1: started async block execution\n",
          "name": "engine.logs:SelectData_1",
          "pathname": "/usr/local/lib/python3.7/dist-packages/razor/flow/async_executors.py",
          "process": 1842,
          "processName": "ForkProcess-1:5",
          "thread": 140399975704384,
          "threadName": "MainThread"
         },
         {
          "asctime": "2021-03-24 04:50:41,432",
          "created": 1616561441.4329257,
          "extra": {},
          "filename": "async_executors.py",
          "funcName": "main",
          "levelname": "DEBUG",
          "lineno": 114,
          "message": "ReadCsvProjectSpace_2: started async block execution\n",
          "name": "engine.logs:ReadCsvProjectSpace_2",
          "pathname": "/usr/local/lib/python3.7/dist-packages/razor/flow/async_executors.py",
          "process": 1842,
          "processName": "ForkProcess-1:5",
          "thread": 140399975704384,
          "threadName": "MainThread"
         },
         {
          "asctime": "2021-03-24 04:50:41,770",
          "created": 1616561441.7709832,
          "extra": {},
          "filename": "async_executors.py",
          "funcName": "start_input_receiver",
          "levelname": "DEBUG",
          "lineno": 173,
          "message": "NonSparkPath_1: received cmd: start_sender, (), {'out_name': 'op_path', 'target': ('ReadCsvProjectSpace_1', 'filename'), 'out_addr': 'tcp://0.0.0.0:59394', 'in_memory': None}",
          "name": "engine.logs:NonSparkPath_1",
          "pathname": "/usr/local/lib/python3.7/dist-packages/razor/flow/async_executors.py",
          "process": 1821,
          "processName": "ForkProcess-1:2",
          "thread": 140399975704384,
          "threadName": "MainThread"
         },
         {
          "asctime": "2021-03-24 04:50:41,771",
          "created": 1616561441.771333,
          "extra": {},
          "filename": "async_executors.py",
          "funcName": "start_output_sender",
          "levelname": "DEBUG",
          "lineno": 370,
          "message": "NonSparkPath_1: got start_sender, op_path, ('ReadCsvProjectSpace_1', 'filename')",
          "name": "engine.logs:NonSparkPath_1",
          "pathname": "/usr/local/lib/python3.7/dist-packages/razor/flow/async_executors.py",
          "process": 1821,
          "processName": "ForkProcess-1:2",
          "thread": 140399975704384,
          "threadName": "MainThread"
         },
         {
          "asctime": "2021-03-24 04:50:41,774",
          "created": 1616561441.7741208,
          "extra": {},
          "filename": "async_executors.py",
          "funcName": "start_input_receiver",
          "levelname": "DEBUG",
          "lineno": 173,
          "message": "NonSparkCols_2: received cmd: start_sender, (), {'out_name': 'selected_cols', 'target': ('SelectData_2', 'wanted_cols'), 'out_addr': 'tcp://0.0.0.0:61854', 'in_memory': None}",
          "name": "engine.logs:NonSparkCols_2",
          "pathname": "/usr/local/lib/python3.7/dist-packages/razor/flow/async_executors.py",
          "process": 1826,
          "processName": "ForkProcess-1:3",
          "thread": 140399975704384,
          "threadName": "MainThread"
         },
         {
          "asctime": "2021-03-24 04:50:41,778",
          "created": 1616561441.778671,
          "extra": {},
          "filename": "async_executors.py",
          "funcName": "start_input_receiver",
          "levelname": "DEBUG",
          "lineno": 173,
          "message": "NonSparkCols_1: received cmd: start_sender, (), {'out_name': 'selected_cols', 'target': ('SelectData_1', 'wanted_cols'), 'out_addr': 'tcp://0.0.0.0:62921', 'in_memory': None}",
          "name": "engine.logs:NonSparkCols_1",
          "pathname": "/usr/local/lib/python3.7/dist-packages/razor/flow/async_executors.py",
          "process": 1816,
          "processName": "ForkProcess-1:1",
          "thread": 140399975704384,
          "threadName": "MainThread"
         },
         {
          "asctime": "2021-03-24 04:50:41,719",
          "created": 1616561441.7192256,
          "extra": {},
          "filename": "async_executors.py",
          "funcName": "fill_atomic_inputs",
          "levelname": "INFO",
          "lineno": 250,
          "message": "ConcatData_1: waiting for atomic input: inputData_1",
          "name": "engine.logs:ConcatData_1",
          "pathname": "/usr/local/lib/python3.7/dist-packages/razor/flow/async_executors.py",
          "process": 1842,
          "processName": "ForkProcess-1:5",
          "thread": 140399975704384,
          "threadName": "MainThread"
         },
         {
          "asctime": "2021-03-24 04:50:41,732",
          "created": 1616561441.7324796,
          "extra": {},
          "filename": "async_executors.py",
          "funcName": "fill_atomic_inputs",
          "levelname": "INFO",
          "lineno": 250,
          "message": "SelectData_2: waiting for atomic input: wanted_cols",
          "name": "engine.logs:SelectData_2",
          "pathname": "/usr/local/lib/python3.7/dist-packages/razor/flow/async_executors.py",
          "process": 1842,
          "processName": "ForkProcess-1:5",
          "thread": 140399975704384,
          "threadName": "MainThread"
         },
         {
          "asctime": "2021-03-24 04:50:41,685",
          "created": 1616561441.6857717,
          "extra": {},
          "filename": "async_executors.py",
          "funcName": "fill_atomic_inputs",
          "levelname": "INFO",
          "lineno": 250,
          "message": "ReadCsvProjectSpace_1: waiting for atomic input: filename",
          "name": "engine.logs:ReadCsvProjectSpace_1",
          "pathname": "/usr/local/lib/python3.7/dist-packages/razor/flow/async_executors.py",
          "process": 1842,
          "processName": "ForkProcess-1:5",
          "thread": 140399975704384,
          "threadName": "MainThread"
         },
         {
          "asctime": "2021-03-24 04:50:41,745",
          "created": 1616561441.7457707,
          "extra": {},
          "filename": "async_executors.py",
          "funcName": "fill_atomic_inputs",
          "levelname": "INFO",
          "lineno": 250,
          "message": "RenameCol_1: waiting for atomic input: inputData",
          "name": "engine.logs:RenameCol_1",
          "pathname": "/usr/local/lib/python3.7/dist-packages/razor/flow/async_executors.py",
          "process": 1842,
          "processName": "ForkProcess-1:5",
          "thread": 140399975704384,
          "threadName": "MainThread"
         },
         {
          "asctime": "2021-03-24 04:50:41,758",
          "created": 1616561441.7589264,
          "extra": {},
          "filename": "async_executors.py",
          "funcName": "fill_atomic_inputs",
          "levelname": "INFO",
          "lineno": 250,
          "message": "SelectData_1: waiting for atomic input: wanted_cols",
          "name": "engine.logs:SelectData_1",
          "pathname": "/usr/local/lib/python3.7/dist-packages/razor/flow/async_executors.py",
          "process": 1842,
          "processName": "ForkProcess-1:5",
          "thread": 140399975704384,
          "threadName": "MainThread"
         },
         {
          "asctime": "2021-03-24 04:50:41,705",
          "created": 1616561441.7057161,
          "extra": {},
          "filename": "async_executors.py",
          "funcName": "fill_atomic_inputs",
          "levelname": "INFO",
          "lineno": 250,
          "message": "ReadCsvProjectSpace_2: waiting for atomic input: filename",
          "name": "engine.logs:ReadCsvProjectSpace_2",
          "pathname": "/usr/local/lib/python3.7/dist-packages/razor/flow/async_executors.py",
          "process": 1842,
          "processName": "ForkProcess-1:5",
          "thread": 140399975704384,
          "threadName": "MainThread"
         },
         {
          "asctime": "2021-03-24 04:50:41,772",
          "created": 1616561441.7722106,
          "extra": {},
          "filename": "async_executors.py",
          "funcName": "start_output_sender",
          "levelname": "DEBUG",
          "lineno": 388,
          "message": "NonSparkPath_1: SENT, filename, /home/aios/projectspace/df_with_stats.csv, ('ReadCsvProjectSpace_1', 'filename')",
          "name": "engine.logs:NonSparkPath_1",
          "pathname": "/usr/local/lib/python3.7/dist-packages/razor/flow/async_executors.py",
          "process": 1821,
          "processName": "ForkProcess-1:2",
          "thread": 140399975704384,
          "threadName": "MainThread"
         },
         {
          "asctime": "2021-03-24 04:50:41,774",
          "created": 1616561441.7743955,
          "extra": {},
          "filename": "async_executors.py",
          "funcName": "start_output_sender",
          "levelname": "DEBUG",
          "lineno": 370,
          "message": "NonSparkCols_2: got start_sender, selected_cols, ('SelectData_2', 'wanted_cols')",
          "name": "engine.logs:NonSparkCols_2",
          "pathname": "/usr/local/lib/python3.7/dist-packages/razor/flow/async_executors.py",
          "process": 1826,
          "processName": "ForkProcess-1:3",
          "thread": 140399975704384,
          "threadName": "MainThread"
         },
         {
          "asctime": "2021-03-24 04:50:41,778",
          "created": 1616561441.778953,
          "extra": {},
          "filename": "async_executors.py",
          "funcName": "start_output_sender",
          "levelname": "DEBUG",
          "lineno": 370,
          "message": "NonSparkCols_1: got start_sender, selected_cols, ('SelectData_1', 'wanted_cols')",
          "name": "engine.logs:NonSparkCols_1",
          "pathname": "/usr/local/lib/python3.7/dist-packages/razor/flow/async_executors.py",
          "process": 1816,
          "processName": "ForkProcess-1:1",
          "thread": 140399975704384,
          "threadName": "MainThread"
         },
         {
          "asctime": "2021-03-24 04:50:41,784",
          "created": 1616561441.784742,
          "extra": {},
          "filename": "async_executors.py",
          "funcName": "start_input_receiver",
          "levelname": "DEBUG",
          "lineno": 173,
          "message": "NonSparkPath_2: received cmd: start_sender, (), {'out_name': 'op_path', 'target': ('ReadCsvProjectSpace_2', 'filename'), 'out_addr': 'tcp://0.0.0.0:59695', 'in_memory': None}",
          "name": "engine.logs:NonSparkPath_2",
          "pathname": "/usr/local/lib/python3.7/dist-packages/razor/flow/async_executors.py",
          "process": 1832,
          "processName": "ForkProcess-1:4",
          "thread": 140399975704384,
          "threadName": "MainThread"
         },
         {
          "asctime": "2021-03-24 04:50:41,785",
          "created": 1616561441.785139,
          "extra": {},
          "filename": "async_executors.py",
          "funcName": "start_output_sender",
          "levelname": "DEBUG",
          "lineno": 370,
          "message": "NonSparkPath_2: got start_sender, op_path, ('ReadCsvProjectSpace_2', 'filename')",
          "name": "engine.logs:NonSparkPath_2",
          "pathname": "/usr/local/lib/python3.7/dist-packages/razor/flow/async_executors.py",
          "process": 1832,
          "processName": "ForkProcess-1:4",
          "thread": 140399975704384,
          "threadName": "MainThread"
         },
         {
          "asctime": "2021-03-24 04:50:41,780",
          "created": 1616561441.780093,
          "extra": {},
          "filename": "async_executors.py",
          "funcName": "start_input_receiver",
          "levelname": "DEBUG",
          "lineno": 177,
          "message": "SelectData_2: received data: wanted_cols, ['tweet', 'class']",
          "name": "engine.logs:SelectData_2",
          "pathname": "/usr/local/lib/python3.7/dist-packages/razor/flow/async_executors.py",
          "process": 1842,
          "processName": "ForkProcess-1:5",
          "thread": 140399975704384,
          "threadName": "MainThread"
         },
         {
          "asctime": "2021-03-24 04:50:41,776",
          "created": 1616561441.7760468,
          "extra": {},
          "filename": "async_executors.py",
          "funcName": "start_input_receiver",
          "levelname": "DEBUG",
          "lineno": 177,
          "message": "ReadCsvProjectSpace_1: received data: filename, /home/aios/projectspace/df_with_stats.csv",
          "name": "engine.logs:ReadCsvProjectSpace_1",
          "pathname": "/usr/local/lib/python3.7/dist-packages/razor/flow/async_executors.py",
          "process": 1842,
          "processName": "ForkProcess-1:5",
          "thread": 140399975704384,
          "threadName": "MainThread"
         },
         {
          "asctime": "2021-03-24 04:50:41,779",
          "created": 1616561441.7798154,
          "extra": {},
          "filename": "async_executors.py",
          "funcName": "start_output_sender",
          "levelname": "DEBUG",
          "lineno": 388,
          "message": "NonSparkCols_1: SENT, wanted_cols, ['title', 'label'], ('SelectData_1', 'wanted_cols')",
          "name": "engine.logs:NonSparkCols_1",
          "pathname": "/usr/local/lib/python3.7/dist-packages/razor/flow/async_executors.py",
          "process": 1816,
          "processName": "ForkProcess-1:1",
          "thread": 140399975704384,
          "threadName": "MainThread"
         },
         {
          "asctime": "2021-03-24 04:50:41,781",
          "created": 1616561441.7817895,
          "extra": {},
          "filename": "async_executors.py",
          "funcName": "start_input_receiver",
          "levelname": "DEBUG",
          "lineno": 177,
          "message": "SelectData_1: received data: wanted_cols, ['title', 'label']",
          "name": "engine.logs:SelectData_1",
          "pathname": "/usr/local/lib/python3.7/dist-packages/razor/flow/async_executors.py",
          "process": 1842,
          "processName": "ForkProcess-1:5",
          "thread": 140399975704384,
          "threadName": "MainThread"
         },
         {
          "asctime": "2021-03-24 04:50:41,775",
          "created": 1616561441.7753222,
          "extra": {},
          "filename": "async_executors.py",
          "funcName": "start_output_sender",
          "levelname": "DEBUG",
          "lineno": 388,
          "message": "NonSparkCols_2: SENT, wanted_cols, ['tweet', 'class'], ('SelectData_2', 'wanted_cols')",
          "name": "engine.logs:NonSparkCols_2",
          "pathname": "/usr/local/lib/python3.7/dist-packages/razor/flow/async_executors.py",
          "process": 1826,
          "processName": "ForkProcess-1:3",
          "thread": 140399975704384,
          "threadName": "MainThread"
         },
         {
          "asctime": "2021-03-24 04:50:41,772",
          "created": 1616561441.7725074,
          "extra": {},
          "filename": "async_executors.py",
          "funcName": "start_output_sender",
          "levelname": "DEBUG",
          "lineno": 388,
          "message": "NonSparkPath_1: SENT, filename, b'__!\\tEndOfStream\\t!__', ('ReadCsvProjectSpace_1', 'filename')",
          "name": "engine.logs:NonSparkPath_1",
          "pathname": "/usr/local/lib/python3.7/dist-packages/razor/flow/async_executors.py",
          "process": 1821,
          "processName": "ForkProcess-1:2",
          "thread": 140399975704384,
          "threadName": "MainThread"
         },
         {
          "asctime": "2021-03-24 04:50:41,786",
          "created": 1616561441.786117,
          "extra": {},
          "filename": "async_executors.py",
          "funcName": "start_output_sender",
          "levelname": "DEBUG",
          "lineno": 388,
          "message": "NonSparkPath_2: SENT, filename, /home/aios/projectspace/train_hatespeech.csv, ('ReadCsvProjectSpace_2', 'filename')",
          "name": "engine.logs:NonSparkPath_2",
          "pathname": "/usr/local/lib/python3.7/dist-packages/razor/flow/async_executors.py",
          "process": 1832,
          "processName": "ForkProcess-1:4",
          "thread": 140399975704384,
          "threadName": "MainThread"
         },
         {
          "asctime": "2021-03-24 04:50:41,780",
          "created": 1616561441.780869,
          "extra": {},
          "filename": "async_executors.py",
          "funcName": "start_input_receiver",
          "levelname": "DEBUG",
          "lineno": 177,
          "message": "SelectData_2: received data: wanted_cols, b'__!\\tEndOfStream\\t!__'",
          "name": "engine.logs:SelectData_2",
          "pathname": "/usr/local/lib/python3.7/dist-packages/razor/flow/async_executors.py",
          "process": 1842,
          "processName": "ForkProcess-1:5",
          "thread": 140399975704384,
          "threadName": "MainThread"
         },
         {
          "asctime": "2021-03-24 04:50:41,776",
          "created": 1616561441.7765918,
          "extra": {},
          "filename": "async_executors.py",
          "funcName": "start_input_receiver",
          "levelname": "DEBUG",
          "lineno": 177,
          "message": "ReadCsvProjectSpace_1: received data: filename, b'__!\\tEndOfStream\\t!__'",
          "name": "engine.logs:ReadCsvProjectSpace_1",
          "pathname": "/usr/local/lib/python3.7/dist-packages/razor/flow/async_executors.py",
          "process": 1842,
          "processName": "ForkProcess-1:5",
          "thread": 140399975704384,
          "threadName": "MainThread"
         },
         {
          "asctime": "2021-03-24 04:50:41,780",
          "created": 1616561441.7801652,
          "extra": {},
          "filename": "async_executors.py",
          "funcName": "start_output_sender",
          "levelname": "DEBUG",
          "lineno": 388,
          "message": "NonSparkCols_1: SENT, wanted_cols, b'__!\\tEndOfStream\\t!__', ('SelectData_1', 'wanted_cols')",
          "name": "engine.logs:NonSparkCols_1",
          "pathname": "/usr/local/lib/python3.7/dist-packages/razor/flow/async_executors.py",
          "process": 1816,
          "processName": "ForkProcess-1:1",
          "thread": 140399975704384,
          "threadName": "MainThread"
         },
         {
          "asctime": "2021-03-24 04:50:41,783",
          "created": 1616561441.7830157,
          "extra": {},
          "filename": "async_executors.py",
          "funcName": "start_input_receiver",
          "levelname": "DEBUG",
          "lineno": 177,
          "message": "SelectData_1: received data: wanted_cols, b'__!\\tEndOfStream\\t!__'",
          "name": "engine.logs:SelectData_1",
          "pathname": "/usr/local/lib/python3.7/dist-packages/razor/flow/async_executors.py",
          "process": 1842,
          "processName": "ForkProcess-1:5",
          "thread": 140399975704384,
          "threadName": "MainThread"
         },
         {
          "asctime": "2021-03-24 04:50:41,775",
          "created": 1616561441.7755258,
          "extra": {},
          "filename": "async_executors.py",
          "funcName": "start_output_sender",
          "levelname": "DEBUG",
          "lineno": 388,
          "message": "NonSparkCols_2: SENT, wanted_cols, b'__!\\tEndOfStream\\t!__', ('SelectData_2', 'wanted_cols')",
          "name": "engine.logs:NonSparkCols_2",
          "pathname": "/usr/local/lib/python3.7/dist-packages/razor/flow/async_executors.py",
          "process": 1826,
          "processName": "ForkProcess-1:3",
          "thread": 140399975704384,
          "threadName": "MainThread"
         },
         {
          "asctime": "2021-03-24 04:50:41,786",
          "created": 1616561441.7863922,
          "extra": {},
          "filename": "async_executors.py",
          "funcName": "start_output_sender",
          "levelname": "DEBUG",
          "lineno": 388,
          "message": "NonSparkPath_2: SENT, filename, b'__!\\tEndOfStream\\t!__', ('ReadCsvProjectSpace_2', 'filename')",
          "name": "engine.logs:NonSparkPath_2",
          "pathname": "/usr/local/lib/python3.7/dist-packages/razor/flow/async_executors.py",
          "process": 1832,
          "processName": "ForkProcess-1:4",
          "thread": 140399975704384,
          "threadName": "MainThread"
         },
         {
          "asctime": "2021-03-24 04:50:41,781",
          "created": 1616561441.7814286,
          "extra": {},
          "filename": "async_executors.py",
          "funcName": "fill_atomic_inputs",
          "levelname": "DEBUG",
          "lineno": 253,
          "message": "SelectData_2: got atomic input: ['tweet', 'class']",
          "name": "engine.logs:SelectData_2",
          "pathname": "/usr/local/lib/python3.7/dist-packages/razor/flow/async_executors.py",
          "process": 1842,
          "processName": "ForkProcess-1:5",
          "thread": 140399975704384,
          "threadName": "MainThread"
         },
         {
          "asctime": "2021-03-24 04:50:41,776",
          "created": 1616561441.776827,
          "extra": {},
          "filename": "async_executors.py",
          "funcName": "fill_atomic_inputs",
          "levelname": "DEBUG",
          "lineno": 253,
          "message": "ReadCsvProjectSpace_1: got atomic input: /home/aios/projectspace/df_with_stats.csv",
          "name": "engine.logs:ReadCsvProjectSpace_1",
          "pathname": "/usr/local/lib/python3.7/dist-packages/razor/flow/async_executors.py",
          "process": 1842,
          "processName": "ForkProcess-1:5",
          "thread": 140399975704384,
          "threadName": "MainThread"
         },
         {
          "asctime": "2021-03-24 04:50:41,783",
          "created": 1616561441.7837274,
          "extra": {},
          "filename": "async_executors.py",
          "funcName": "fill_atomic_inputs",
          "levelname": "DEBUG",
          "lineno": 253,
          "message": "SelectData_1: got atomic input: ['title', 'label']",
          "name": "engine.logs:SelectData_1",
          "pathname": "/usr/local/lib/python3.7/dist-packages/razor/flow/async_executors.py",
          "process": 1842,
          "processName": "ForkProcess-1:5",
          "thread": 140399975704384,
          "threadName": "MainThread"
         },
         {
          "asctime": "2021-03-24 04:50:41,772",
          "created": 1616561441.7727334,
          "extra": {},
          "filename": "async_executors.py",
          "funcName": "start_output_sender",
          "levelname": "DEBUG",
          "lineno": 391,
          "message": "NonSparkPath_1: completed output: ('op_path', ('ReadCsvProjectSpace_1', 'filename'))",
          "name": "engine.logs:NonSparkPath_1",
          "pathname": "/usr/local/lib/python3.7/dist-packages/razor/flow/async_executors.py",
          "process": 1821,
          "processName": "ForkProcess-1:2",
          "thread": 140399975704384,
          "threadName": "MainThread"
         },
         {
          "asctime": "2021-03-24 04:50:41,781",
          "created": 1616561441.7815251,
          "extra": {},
          "filename": "async_executors.py",
          "funcName": "fill_atomic_inputs",
          "levelname": "INFO",
          "lineno": 250,
          "message": "SelectData_2: waiting for atomic input: inputData",
          "name": "engine.logs:SelectData_2",
          "pathname": "/usr/local/lib/python3.7/dist-packages/razor/flow/async_executors.py",
          "process": 1842,
          "processName": "ForkProcess-1:5",
          "thread": 140399975704384,
          "threadName": "MainThread"
         },
         {
          "asctime": "2021-03-24 04:50:41,776",
          "created": 1616561441.7769163,
          "extra": {},
          "filename": "async_executors.py",
          "funcName": "fill_atomic_inputs",
          "levelname": "INFO",
          "lineno": 250,
          "message": "ReadCsvProjectSpace_1: waiting for atomic input: config",
          "name": "engine.logs:ReadCsvProjectSpace_1",
          "pathname": "/usr/local/lib/python3.7/dist-packages/razor/flow/async_executors.py",
          "process": 1842,
          "processName": "ForkProcess-1:5",
          "thread": 140399975704384,
          "threadName": "MainThread"
         },
         {
          "asctime": "2021-03-24 04:50:41,780",
          "created": 1616561441.7804368,
          "extra": {},
          "filename": "async_executors.py",
          "funcName": "start_output_sender",
          "levelname": "DEBUG",
          "lineno": 391,
          "message": "NonSparkCols_1: completed output: ('selected_cols', ('SelectData_1', 'wanted_cols'))",
          "name": "engine.logs:NonSparkCols_1",
          "pathname": "/usr/local/lib/python3.7/dist-packages/razor/flow/async_executors.py",
          "process": 1816,
          "processName": "ForkProcess-1:1",
          "thread": 140399975704384,
          "threadName": "MainThread"
         },
         {
          "asctime": "2021-03-24 04:50:41,783",
          "created": 1616561441.7838156,
          "extra": {},
          "filename": "async_executors.py",
          "funcName": "fill_atomic_inputs",
          "levelname": "INFO",
          "lineno": 250,
          "message": "SelectData_1: waiting for atomic input: inputData",
          "name": "engine.logs:SelectData_1",
          "pathname": "/usr/local/lib/python3.7/dist-packages/razor/flow/async_executors.py",
          "process": 1842,
          "processName": "ForkProcess-1:5",
          "thread": 140399975704384,
          "threadName": "MainThread"
         },
         {
          "asctime": "2021-03-24 04:50:41,775",
          "created": 1616561441.7758253,
          "extra": {},
          "filename": "async_executors.py",
          "funcName": "start_output_sender",
          "levelname": "DEBUG",
          "lineno": 391,
          "message": "NonSparkCols_2: completed output: ('selected_cols', ('SelectData_2', 'wanted_cols'))",
          "name": "engine.logs:NonSparkCols_2",
          "pathname": "/usr/local/lib/python3.7/dist-packages/razor/flow/async_executors.py",
          "process": 1826,
          "processName": "ForkProcess-1:3",
          "thread": 140399975704384,
          "threadName": "MainThread"
         },
         {
          "asctime": "2021-03-24 04:50:41,794",
          "created": 1616561441.7949202,
          "extra": {},
          "filename": "async_executors.py",
          "funcName": "start_input_receiver",
          "levelname": "DEBUG",
          "lineno": 173,
          "message": "NonSparkPath_1: received cmd: terminate, (), {}",
          "name": "engine.logs:NonSparkPath_1",
          "pathname": "/usr/local/lib/python3.7/dist-packages/razor/flow/async_executors.py",
          "process": 1821,
          "processName": "ForkProcess-1:2",
          "thread": 140399975704384,
          "threadName": "MainThread"
         },
         {
          "asctime": "2021-03-24 04:50:41,802",
          "created": 1616561441.8021765,
          "extra": {},
          "filename": "async_executors.py",
          "funcName": "start_input_receiver",
          "levelname": "DEBUG",
          "lineno": 177,
          "message": "ReadCsvProjectSpace_2: received data: filename, /home/aios/projectspace/train_hatespeech.csv",
          "name": "engine.logs:ReadCsvProjectSpace_2",
          "pathname": "/usr/local/lib/python3.7/dist-packages/razor/flow/async_executors.py",
          "process": 1842,
          "processName": "ForkProcess-1:5",
          "thread": 140399975704384,
          "threadName": "MainThread"
         },
         {
          "asctime": "2021-03-24 04:50:41,786",
          "created": 1616561441.786664,
          "extra": {},
          "filename": "async_executors.py",
          "funcName": "start_output_sender",
          "levelname": "DEBUG",
          "lineno": 391,
          "message": "NonSparkPath_2: completed output: ('op_path', ('ReadCsvProjectSpace_2', 'filename'))",
          "name": "engine.logs:NonSparkPath_2",
          "pathname": "/usr/local/lib/python3.7/dist-packages/razor/flow/async_executors.py",
          "process": 1832,
          "processName": "ForkProcess-1:4",
          "thread": 140399975704384,
          "threadName": "MainThread"
         },
         {
          "asctime": "2021-03-24 04:50:41,776",
          "created": 1616561441.7769988,
          "extra": {},
          "filename": "async_executors.py",
          "funcName": "fill_atomic_inputs",
          "levelname": "DEBUG",
          "lineno": 253,
          "message": "ReadCsvProjectSpace_1: got atomic input: {}",
          "name": "engine.logs:ReadCsvProjectSpace_1",
          "pathname": "/usr/local/lib/python3.7/dist-packages/razor/flow/async_executors.py",
          "process": 1842,
          "processName": "ForkProcess-1:5",
          "thread": 140399975704384,
          "threadName": "MainThread"
         },
         {
          "asctime": "2021-03-24 04:50:41,800",
          "created": 1616561441.8004684,
          "extra": {},
          "filename": "async_executors.py",
          "funcName": "start_input_receiver",
          "levelname": "DEBUG",
          "lineno": 173,
          "message": "NonSparkCols_1: received cmd: terminate, (), {}",
          "name": "engine.logs:NonSparkCols_1",
          "pathname": "/usr/local/lib/python3.7/dist-packages/razor/flow/async_executors.py",
          "process": 1816,
          "processName": "ForkProcess-1:1",
          "thread": 140399975704384,
          "threadName": "MainThread"
         },
         {
          "asctime": "2021-03-24 04:50:41,802",
          "created": 1616561441.802913,
          "extra": {},
          "filename": "async_executors.py",
          "funcName": "start_input_receiver",
          "levelname": "DEBUG",
          "lineno": 177,
          "message": "ReadCsvProjectSpace_2: received data: filename, b'__!\\tEndOfStream\\t!__'",
          "name": "engine.logs:ReadCsvProjectSpace_2",
          "pathname": "/usr/local/lib/python3.7/dist-packages/razor/flow/async_executors.py",
          "process": 1842,
          "processName": "ForkProcess-1:5",
          "thread": 140399975704384,
          "threadName": "MainThread"
         },
         {
          "asctime": "2021-03-24 04:50:41,803",
          "created": 1616561441.8031976,
          "extra": {},
          "filename": "async_executors.py",
          "funcName": "fill_atomic_inputs",
          "levelname": "DEBUG",
          "lineno": 253,
          "message": "ReadCsvProjectSpace_2: got atomic input: /home/aios/projectspace/train_hatespeech.csv",
          "name": "engine.logs:ReadCsvProjectSpace_2",
          "pathname": "/usr/local/lib/python3.7/dist-packages/razor/flow/async_executors.py",
          "process": 1842,
          "processName": "ForkProcess-1:5",
          "thread": 140399975704384,
          "threadName": "MainThread"
         },
         {
          "asctime": "2021-03-24 04:50:41,777",
          "created": 1616561441.777085,
          "extra": {},
          "filename": "async_executors.py",
          "funcName": "fill_atomic_inputs",
          "levelname": "INFO",
          "lineno": 250,
          "message": "ReadCsvProjectSpace_1: waiting for atomic input: source",
          "name": "engine.logs:ReadCsvProjectSpace_1",
          "pathname": "/usr/local/lib/python3.7/dist-packages/razor/flow/async_executors.py",
          "process": 1842,
          "processName": "ForkProcess-1:5",
          "thread": 140399975704384,
          "threadName": "MainThread"
         },
         {
          "asctime": "2021-03-24 04:50:41,803",
          "created": 1616561441.8033547,
          "extra": {},
          "filename": "async_executors.py",
          "funcName": "fill_atomic_inputs",
          "levelname": "INFO",
          "lineno": 250,
          "message": "ReadCsvProjectSpace_2: waiting for atomic input: config",
          "name": "engine.logs:ReadCsvProjectSpace_2",
          "pathname": "/usr/local/lib/python3.7/dist-packages/razor/flow/async_executors.py",
          "process": 1842,
          "processName": "ForkProcess-1:5",
          "thread": 140399975704384,
          "threadName": "MainThread"
         },
         {
          "asctime": "2021-03-24 04:50:41,777",
          "created": 1616561441.7771592,
          "extra": {},
          "filename": "async_executors.py",
          "funcName": "fill_atomic_inputs",
          "levelname": "DEBUG",
          "lineno": 253,
          "message": "ReadCsvProjectSpace_1: got atomic input: ",
          "name": "engine.logs:ReadCsvProjectSpace_1",
          "pathname": "/usr/local/lib/python3.7/dist-packages/razor/flow/async_executors.py",
          "process": 1842,
          "processName": "ForkProcess-1:5",
          "thread": 140399975704384,
          "threadName": "MainThread"
         },
         {
          "asctime": "2021-03-24 04:50:42,020",
          "created": 1616561442.020416,
          "extra": {},
          "filename": "async_executors.py",
          "funcName": "start_input_receiver",
          "levelname": "DEBUG",
          "lineno": 173,
          "message": "NonSparkCols_2: received cmd: terminate, (), {}",
          "name": "engine.logs:NonSparkCols_2",
          "pathname": "/usr/local/lib/python3.7/dist-packages/razor/flow/async_executors.py",
          "process": 1826,
          "processName": "ForkProcess-1:3",
          "thread": 140399975704384,
          "threadName": "MainThread"
         },
         {
          "asctime": "2021-03-24 04:50:42,024",
          "created": 1616561442.0242395,
          "extra": {},
          "filename": "async_executors.py",
          "funcName": "start_input_receiver",
          "levelname": "DEBUG",
          "lineno": 173,
          "message": "NonSparkPath_2: received cmd: terminate, (), {}",
          "name": "engine.logs:NonSparkPath_2",
          "pathname": "/usr/local/lib/python3.7/dist-packages/razor/flow/async_executors.py",
          "process": 1832,
          "processName": "ForkProcess-1:4",
          "thread": 140399975704384,
          "threadName": "MainThread"
         },
         {
          "asctime": "2021-03-24 04:50:41,803",
          "created": 1616561441.8034678,
          "extra": {},
          "filename": "async_executors.py",
          "funcName": "fill_atomic_inputs",
          "levelname": "DEBUG",
          "lineno": 253,
          "message": "ReadCsvProjectSpace_2: got atomic input: {}",
          "name": "engine.logs:ReadCsvProjectSpace_2",
          "pathname": "/usr/local/lib/python3.7/dist-packages/razor/flow/async_executors.py",
          "process": 1842,
          "processName": "ForkProcess-1:5",
          "thread": 140399975704384,
          "threadName": "MainThread"
         },
         {
          "asctime": "2021-03-24 04:50:41,777",
          "created": 1616561441.7772431,
          "extra": {},
          "filename": "async_executors.py",
          "funcName": "main",
          "levelname": "DEBUG",
          "lineno": 130,
          "message": "ReadCsvProjectSpace_1: triggering block run",
          "name": "engine.logs:ReadCsvProjectSpace_1",
          "pathname": "/usr/local/lib/python3.7/dist-packages/razor/flow/async_executors.py",
          "process": 1842,
          "processName": "ForkProcess-1:5",
          "thread": 140399975704384,
          "threadName": "MainThread"
         },
         {
          "asctime": "2021-03-24 04:50:41,803",
          "created": 1616561441.8035102,
          "extra": {},
          "filename": "async_executors.py",
          "funcName": "fill_atomic_inputs",
          "levelname": "INFO",
          "lineno": 250,
          "message": "ReadCsvProjectSpace_2: waiting for atomic input: source",
          "name": "engine.logs:ReadCsvProjectSpace_2",
          "pathname": "/usr/local/lib/python3.7/dist-packages/razor/flow/async_executors.py",
          "process": 1842,
          "processName": "ForkProcess-1:5",
          "thread": 140399975704384,
          "threadName": "MainThread"
         },
         {
          "asctime": "2021-03-24 04:50:41,803",
          "created": 1616561441.8035574,
          "extra": {},
          "filename": "async_executors.py",
          "funcName": "fill_atomic_inputs",
          "levelname": "DEBUG",
          "lineno": 253,
          "message": "ReadCsvProjectSpace_2: got atomic input: ",
          "name": "engine.logs:ReadCsvProjectSpace_2",
          "pathname": "/usr/local/lib/python3.7/dist-packages/razor/flow/async_executors.py",
          "process": 1842,
          "processName": "ForkProcess-1:5",
          "thread": 140399975704384,
          "threadName": "MainThread"
         },
         {
          "asctime": "2021-03-24 04:50:41,803",
          "created": 1616561441.8036244,
          "extra": {},
          "filename": "async_executors.py",
          "funcName": "main",
          "levelname": "DEBUG",
          "lineno": 130,
          "message": "ReadCsvProjectSpace_2: triggering block run",
          "name": "engine.logs:ReadCsvProjectSpace_2",
          "pathname": "/usr/local/lib/python3.7/dist-packages/razor/flow/async_executors.py",
          "process": 1842,
          "processName": "ForkProcess-1:5",
          "thread": 140399975704384,
          "threadName": "MainThread"
         },
         {
          "asctime": "2021-03-24 04:50:52,481",
          "created": 1616561452.4818366,
          "exc_info": null,
          "extra": {},
          "filename": null,
          "full_message": null,
          "funcName": null,
          "levelname": "STDOUT",
          "lineno": null,
          "message": "Data Schema\n",
          "name": "block.stdout:ReadCsvProjectSpace_2",
          "pathname": null,
          "process": null,
          "processName": null,
          "thread": null,
          "threadName": null
         },
         {
          "asctime": "2021-03-24 04:50:52,517",
          "created": 1616561452.5172274,
          "exc_info": null,
          "extra": {},
          "filename": null,
          "full_message": null,
          "funcName": null,
          "levelname": "STDOUT",
          "lineno": null,
          "message": "root\n |-- Unnamed: 0: string (nullable = true)\n |-- count: string (nullable = true)\n |-- hate_speech: string (nullable = true)\n |-- offensive_language: string (nullable = true)\n |-- neither: string (nullable = true)\n |-- class: string (nullable = true)\n |-- tweet: string (nullable = true)\n\n",
          "name": "block.stdout:ReadCsvProjectSpace_2",
          "pathname": null,
          "process": null,
          "processName": null,
          "thread": null,
          "threadName": null
         },
         {
          "asctime": "2021-03-24 04:50:52,542",
          "created": 1616561452.5429635,
          "extra": {},
          "filename": "async_executors.py",
          "funcName": "distribute_output_queue",
          "levelname": "DEBUG",
          "lineno": 308,
          "message": "ReadCsvProjectSpace_2: ---- dist output: DataFrame[Unnamed: 0: string, count: string, hate_speech: string, offensive_language: string, neither: string, class: string, tweet: string] -> ('SelectData_2', 'inputData')",
          "name": "engine.logs:ReadCsvProjectSpace_2",
          "pathname": "/usr/local/lib/python3.7/dist-packages/razor/flow/async_executors.py",
          "process": 1842,
          "processName": "ForkProcess-1:5",
          "thread": 140399975704384,
          "threadName": "MainThread"
         },
         {
          "asctime": "2021-03-24 04:50:52,545",
          "created": 1616561452.5459933,
          "extra": {},
          "filename": "async_executors.py",
          "funcName": "main",
          "levelname": "DEBUG",
          "lineno": 147,
          "message": "ReadCsvProjectSpace_2: block thread completed",
          "name": "engine.logs:ReadCsvProjectSpace_2",
          "pathname": "/usr/local/lib/python3.7/dist-packages/razor/flow/async_executors.py",
          "process": 1842,
          "processName": "ForkProcess-1:5",
          "thread": 140399975704384,
          "threadName": "MainThread"
         },
         {
          "asctime": "2021-03-24 04:50:52,546",
          "created": 1616561452.5460923,
          "extra": {},
          "filename": "async_executors.py",
          "funcName": "main",
          "levelname": "DEBUG",
          "lineno": 149,
          "message": "ReadCsvProjectSpace_2: block execution complete",
          "name": "engine.logs:ReadCsvProjectSpace_2",
          "pathname": "/usr/local/lib/python3.7/dist-packages/razor/flow/async_executors.py",
          "process": 1842,
          "processName": "ForkProcess-1:5",
          "thread": 140399975704384,
          "threadName": "MainThread"
         },
         {
          "asctime": "2021-03-24 04:50:52,492",
          "created": 1616561452.4929569,
          "exc_info": null,
          "extra": {},
          "filename": null,
          "full_message": null,
          "funcName": null,
          "levelname": "STDOUT",
          "lineno": null,
          "message": "Data Schema\n",
          "name": "block.stdout:ReadCsvProjectSpace_1",
          "pathname": null,
          "process": null,
          "processName": null,
          "thread": null,
          "threadName": null
         },
         {
          "asctime": "2021-03-24 04:50:52,546",
          "created": 1616561452.546674,
          "extra": {},
          "filename": "async_executors.py",
          "funcName": "distribute_output_queue",
          "levelname": "DEBUG",
          "lineno": 308,
          "message": "ReadCsvProjectSpace_2: ---- dist output: b'__!\\tEndOfStream\\t!__' -> ('SelectData_2', 'inputData')",
          "name": "engine.logs:ReadCsvProjectSpace_2",
          "pathname": "/usr/local/lib/python3.7/dist-packages/razor/flow/async_executors.py",
          "process": 1842,
          "processName": "ForkProcess-1:5",
          "thread": 140399975704384,
          "threadName": "MainThread"
         },
         {
          "asctime": "2021-03-24 04:50:52,518",
          "created": 1616561452.5183263,
          "exc_info": null,
          "extra": {},
          "filename": null,
          "full_message": null,
          "funcName": null,
          "levelname": "STDOUT",
          "lineno": null,
          "message": "root\n |-- filename: string (nullable = true)\n |-- url: string (nullable = true)\n |-- text: string (nullable = true)\n |-- title: string (nullable = true)\n |-- authors: string (nullable = true)\n |-- description: string (nullable = true)\n |-- generatorsite_name: string (nullable = true)\n |-- site: string (nullable = true)\n |-- publisher: string (nullable = true)\n |-- source: string (nullable = true)\n |-- keywords: string (nullable = true)\n |-- label: string (nullable = true)\n |-- generator: string (nullable = true)\n |-- site_name: string (nullable = true)\n |-- author_real_fake: string (nullable = true)\n |-- site_real_fake: string (nullable = true)\n |-- source_real_fake: string (nullable = true)\n\n",
          "name": "block.stdout:ReadCsvProjectSpace_1",
          "pathname": null,
          "process": null,
          "processName": null,
          "thread": null,
          "threadName": null
         },
         {
          "asctime": "2021-03-24 04:50:52,549",
          "created": 1616561452.549306,
          "extra": {},
          "filename": "async_executors.py",
          "funcName": "start_input_receiver",
          "levelname": "DEBUG",
          "lineno": 173,
          "message": "ReadCsvProjectSpace_2: received cmd: start_sender, (), {'out_name': 'data', 'target': ('SelectData_2', 'inputData'), 'out_addr': 'tcp://0.0.0.0:61854', 'in_memory': True}",
          "name": "engine.logs:ReadCsvProjectSpace_2",
          "pathname": "/usr/local/lib/python3.7/dist-packages/razor/flow/async_executors.py",
          "process": 1842,
          "processName": "ForkProcess-1:5",
          "thread": 140399975704384,
          "threadName": "MainThread"
         },
         {
          "asctime": "2021-03-24 04:50:52,545",
          "created": 1616561452.5456276,
          "extra": {},
          "filename": "async_executors.py",
          "funcName": "distribute_output_queue",
          "levelname": "DEBUG",
          "lineno": 308,
          "message": "ReadCsvProjectSpace_1: ---- dist output: DataFrame[filename: string, url: string, text: string, title: string, authors: string, description: string, generatorsite_name: string, site: string, publisher: string, source: string, keywords: string, label: string, generator: string, site_name: string, author_real_fake: string, site_real_fake: string, source_real_fake: string] -> ('SelectData_1', 'inputData')",
          "name": "engine.logs:ReadCsvProjectSpace_1",
          "pathname": "/usr/local/lib/python3.7/dist-packages/razor/flow/async_executors.py",
          "process": 1842,
          "processName": "ForkProcess-1:5",
          "thread": 140399975704384,
          "threadName": "MainThread"
         },
         {
          "asctime": "2021-03-24 04:50:52,546",
          "created": 1616561452.5461743,
          "extra": {},
          "filename": "async_executors.py",
          "funcName": "main",
          "levelname": "DEBUG",
          "lineno": 147,
          "message": "ReadCsvProjectSpace_1: block thread completed",
          "name": "engine.logs:ReadCsvProjectSpace_1",
          "pathname": "/usr/local/lib/python3.7/dist-packages/razor/flow/async_executors.py",
          "process": 1842,
          "processName": "ForkProcess-1:5",
          "thread": 140399975704384,
          "threadName": "MainThread"
         },
         {
          "asctime": "2021-03-24 04:50:52,546",
          "created": 1616561452.5462215,
          "extra": {},
          "filename": "async_executors.py",
          "funcName": "main",
          "levelname": "DEBUG",
          "lineno": 149,
          "message": "ReadCsvProjectSpace_1: block execution complete",
          "name": "engine.logs:ReadCsvProjectSpace_1",
          "pathname": "/usr/local/lib/python3.7/dist-packages/razor/flow/async_executors.py",
          "process": 1842,
          "processName": "ForkProcess-1:5",
          "thread": 140399975704384,
          "threadName": "MainThread"
         },
         {
          "asctime": "2021-03-24 04:50:52,546",
          "created": 1616561452.546792,
          "extra": {},
          "filename": "async_executors.py",
          "funcName": "distribute_output_queue",
          "levelname": "DEBUG",
          "lineno": 308,
          "message": "ReadCsvProjectSpace_1: ---- dist output: b'__!\\tEndOfStream\\t!__' -> ('SelectData_1', 'inputData')",
          "name": "engine.logs:ReadCsvProjectSpace_1",
          "pathname": "/usr/local/lib/python3.7/dist-packages/razor/flow/async_executors.py",
          "process": 1842,
          "processName": "ForkProcess-1:5",
          "thread": 140399975704384,
          "threadName": "MainThread"
         },
         {
          "asctime": "2021-03-24 04:50:52,549",
          "created": 1616561452.5496628,
          "extra": {},
          "filename": "async_executors.py",
          "funcName": "start_output_sender",
          "levelname": "DEBUG",
          "lineno": 370,
          "message": "ReadCsvProjectSpace_2: got start_sender, data, ('SelectData_2', 'inputData')",
          "name": "engine.logs:ReadCsvProjectSpace_2",
          "pathname": "/usr/local/lib/python3.7/dist-packages/razor/flow/async_executors.py",
          "process": 1842,
          "processName": "ForkProcess-1:5",
          "thread": 140399975704384,
          "threadName": "MainThread"
         },
         {
          "asctime": "2021-03-24 04:50:52,551",
          "created": 1616561452.551334,
          "extra": {},
          "filename": "async_executors.py",
          "funcName": "start_output_sender",
          "levelname": "DEBUG",
          "lineno": 375,
          "message": "ReadCsvProjectSpace_2: SENT, inputData, DataFrame[Unnamed: 0: string, count: string, hate_speech: string, offensive_language: string, neither: string, class: string, tweet: string], ('SelectData_2', 'inputData')",
          "name": "engine.logs:ReadCsvProjectSpace_2",
          "pathname": "/usr/local/lib/python3.7/dist-packages/razor/flow/async_executors.py",
          "process": 1842,
          "processName": "ForkProcess-1:5",
          "thread": 140399975704384,
          "threadName": "MainThread"
         },
         {
          "asctime": "2021-03-24 04:50:52,551",
          "created": 1616561452.551497,
          "extra": {},
          "filename": "async_executors.py",
          "funcName": "start_output_sender",
          "levelname": "DEBUG",
          "lineno": 375,
          "message": "ReadCsvProjectSpace_2: SENT, inputData, b'__!\\tEndOfStream\\t!__', ('SelectData_2', 'inputData')",
          "name": "engine.logs:ReadCsvProjectSpace_2",
          "pathname": "/usr/local/lib/python3.7/dist-packages/razor/flow/async_executors.py",
          "process": 1842,
          "processName": "ForkProcess-1:5",
          "thread": 140399975704384,
          "threadName": "MainThread"
         },
         {
          "asctime": "2021-03-24 04:50:52,574",
          "created": 1616561452.574964,
          "extra": {},
          "filename": "async_executors.py",
          "funcName": "fill_atomic_inputs",
          "levelname": "DEBUG",
          "lineno": 253,
          "message": "SelectData_2: got atomic input: DataFrame[Unnamed: 0: string, count: string, hate_speech: string, offensive_language: string, neither: string, class: string, tweet: string]",
          "name": "engine.logs:SelectData_2",
          "pathname": "/usr/local/lib/python3.7/dist-packages/razor/flow/async_executors.py",
          "process": 1842,
          "processName": "ForkProcess-1:5",
          "thread": 140399975704384,
          "threadName": "MainThread"
         },
         {
          "asctime": "2021-03-24 04:50:52,551",
          "created": 1616561452.5515757,
          "extra": {},
          "filename": "async_executors.py",
          "funcName": "start_output_sender",
          "levelname": "DEBUG",
          "lineno": 379,
          "message": "ReadCsvProjectSpace_2: completed output: ('data', ('SelectData_2', 'inputData'))",
          "name": "engine.logs:ReadCsvProjectSpace_2",
          "pathname": "/usr/local/lib/python3.7/dist-packages/razor/flow/async_executors.py",
          "process": 1842,
          "processName": "ForkProcess-1:5",
          "thread": 140399975704384,
          "threadName": "MainThread"
         },
         {
          "asctime": "2021-03-24 04:50:52,575",
          "created": 1616561452.5751479,
          "extra": {},
          "filename": "async_executors.py",
          "funcName": "fill_atomic_inputs",
          "levelname": "INFO",
          "lineno": 250,
          "message": "SelectData_2: waiting for atomic input: config",
          "name": "engine.logs:SelectData_2",
          "pathname": "/usr/local/lib/python3.7/dist-packages/razor/flow/async_executors.py",
          "process": 1842,
          "processName": "ForkProcess-1:5",
          "thread": 140399975704384,
          "threadName": "MainThread"
         },
         {
          "asctime": "2021-03-24 04:50:52,575",
          "created": 1616561452.5752144,
          "extra": {},
          "filename": "async_executors.py",
          "funcName": "fill_atomic_inputs",
          "levelname": "DEBUG",
          "lineno": 253,
          "message": "SelectData_2: got atomic input: {}",
          "name": "engine.logs:SelectData_2",
          "pathname": "/usr/local/lib/python3.7/dist-packages/razor/flow/async_executors.py",
          "process": 1842,
          "processName": "ForkProcess-1:5",
          "thread": 140399975704384,
          "threadName": "MainThread"
         },
         {
          "asctime": "2021-03-24 04:50:52,599",
          "created": 1616561452.599669,
          "extra": {},
          "filename": "async_executors.py",
          "funcName": "start_input_receiver",
          "levelname": "DEBUG",
          "lineno": 173,
          "message": "ReadCsvProjectSpace_1: received cmd: start_sender, (), {'out_name': 'data', 'target': ('SelectData_1', 'inputData'), 'out_addr': 'tcp://0.0.0.0:62921', 'in_memory': True}",
          "name": "engine.logs:ReadCsvProjectSpace_1",
          "pathname": "/usr/local/lib/python3.7/dist-packages/razor/flow/async_executors.py",
          "process": 1842,
          "processName": "ForkProcess-1:5",
          "thread": 140399975704384,
          "threadName": "MainThread"
         },
         {
          "asctime": "2021-03-24 04:50:52,575",
          "created": 1616561452.5752542,
          "extra": {},
          "filename": "async_executors.py",
          "funcName": "fill_atomic_inputs",
          "levelname": "INFO",
          "lineno": 250,
          "message": "SelectData_2: waiting for atomic input: source",
          "name": "engine.logs:SelectData_2",
          "pathname": "/usr/local/lib/python3.7/dist-packages/razor/flow/async_executors.py",
          "process": 1842,
          "processName": "ForkProcess-1:5",
          "thread": 140399975704384,
          "threadName": "MainThread"
         },
         {
          "asctime": "2021-03-24 04:50:52,600",
          "created": 1616561452.6000764,
          "extra": {},
          "filename": "async_executors.py",
          "funcName": "start_input_receiver",
          "levelname": "DEBUG",
          "lineno": 173,
          "message": "ReadCsvProjectSpace_2: received cmd: terminate, (), {}",
          "name": "engine.logs:ReadCsvProjectSpace_2",
          "pathname": "/usr/local/lib/python3.7/dist-packages/razor/flow/async_executors.py",
          "process": 1842,
          "processName": "ForkProcess-1:5",
          "thread": 140399975704384,
          "threadName": "MainThread"
         },
         {
          "asctime": "2021-03-24 04:50:52,575",
          "created": 1616561452.5752945,
          "extra": {},
          "filename": "async_executors.py",
          "funcName": "fill_atomic_inputs",
          "levelname": "DEBUG",
          "lineno": 253,
          "message": "SelectData_2: got atomic input: ",
          "name": "engine.logs:SelectData_2",
          "pathname": "/usr/local/lib/python3.7/dist-packages/razor/flow/async_executors.py",
          "process": 1842,
          "processName": "ForkProcess-1:5",
          "thread": 140399975704384,
          "threadName": "MainThread"
         },
         {
          "asctime": "2021-03-24 04:50:52,623",
          "created": 1616561452.62349,
          "extra": {},
          "filename": "async_executors.py",
          "funcName": "start_output_sender",
          "levelname": "DEBUG",
          "lineno": 370,
          "message": "ReadCsvProjectSpace_1: got start_sender, data, ('SelectData_1', 'inputData')",
          "name": "engine.logs:ReadCsvProjectSpace_1",
          "pathname": "/usr/local/lib/python3.7/dist-packages/razor/flow/async_executors.py",
          "process": 1842,
          "processName": "ForkProcess-1:5",
          "thread": 140399975704384,
          "threadName": "MainThread"
         },
         {
          "asctime": "2021-03-24 04:50:52,575",
          "created": 1616561452.5753448,
          "extra": {},
          "filename": "async_executors.py",
          "funcName": "main",
          "levelname": "DEBUG",
          "lineno": 130,
          "message": "SelectData_2: triggering block run",
          "name": "engine.logs:SelectData_2",
          "pathname": "/usr/local/lib/python3.7/dist-packages/razor/flow/async_executors.py",
          "process": 1842,
          "processName": "ForkProcess-1:5",
          "thread": 140399975704384,
          "threadName": "MainThread"
         },
         {
          "asctime": "2021-03-24 04:50:52,624",
          "created": 1616561452.624354,
          "extra": {},
          "filename": "async_executors.py",
          "funcName": "start_output_sender",
          "levelname": "DEBUG",
          "lineno": 375,
          "message": "ReadCsvProjectSpace_1: SENT, inputData, DataFrame[filename: string, url: string, text: string, title: string, authors: string, description: string, generatorsite_name: string, site: string, publisher: string, source: string, keywords: string, label: string, generator: string, site_name: string, author_real_fake: string, site_real_fake: string, source_real_fake: string], ('SelectData_1', 'inputData')",
          "name": "engine.logs:ReadCsvProjectSpace_1",
          "pathname": "/usr/local/lib/python3.7/dist-packages/razor/flow/async_executors.py",
          "process": 1842,
          "processName": "ForkProcess-1:5",
          "thread": 140399975704384,
          "threadName": "MainThread"
         },
         {
          "asctime": "2021-03-24 04:50:52,624",
          "created": 1616561452.6245017,
          "extra": {},
          "filename": "async_executors.py",
          "funcName": "start_output_sender",
          "levelname": "DEBUG",
          "lineno": 375,
          "message": "ReadCsvProjectSpace_1: SENT, inputData, b'__!\\tEndOfStream\\t!__', ('SelectData_1', 'inputData')",
          "name": "engine.logs:ReadCsvProjectSpace_1",
          "pathname": "/usr/local/lib/python3.7/dist-packages/razor/flow/async_executors.py",
          "process": 1842,
          "processName": "ForkProcess-1:5",
          "thread": 140399975704384,
          "threadName": "MainThread"
         },
         {
          "asctime": "2021-03-24 04:50:52,648",
          "created": 1616561452.6484375,
          "extra": {},
          "filename": "async_executors.py",
          "funcName": "fill_atomic_inputs",
          "levelname": "DEBUG",
          "lineno": 253,
          "message": "SelectData_1: got atomic input: DataFrame[filename: string, url: string, text: string, title: string, authors: string, description: string, generatorsite_name: string, site: string, publisher: string, source: string, keywords: string, label: string, generator: string, site_name: string, author_real_fake: string, site_real_fake: string, source_real_fake: string]",
          "name": "engine.logs:SelectData_1",
          "pathname": "/usr/local/lib/python3.7/dist-packages/razor/flow/async_executors.py",
          "process": 1842,
          "processName": "ForkProcess-1:5",
          "thread": 140399975704384,
          "threadName": "MainThread"
         },
         {
          "asctime": "2021-03-24 04:50:52,624",
          "created": 1616561452.6245568,
          "extra": {},
          "filename": "async_executors.py",
          "funcName": "start_output_sender",
          "levelname": "DEBUG",
          "lineno": 379,
          "message": "ReadCsvProjectSpace_1: completed output: ('data', ('SelectData_1', 'inputData'))",
          "name": "engine.logs:ReadCsvProjectSpace_1",
          "pathname": "/usr/local/lib/python3.7/dist-packages/razor/flow/async_executors.py",
          "process": 1842,
          "processName": "ForkProcess-1:5",
          "thread": 140399975704384,
          "threadName": "MainThread"
         },
         {
          "asctime": "2021-03-24 04:50:52,696",
          "created": 1616561452.696843,
          "extra": {},
          "filename": "async_executors.py",
          "funcName": "start_input_receiver",
          "levelname": "DEBUG",
          "lineno": 173,
          "message": "ReadCsvProjectSpace_1: received cmd: terminate, (), {}",
          "name": "engine.logs:ReadCsvProjectSpace_1",
          "pathname": "/usr/local/lib/python3.7/dist-packages/razor/flow/async_executors.py",
          "process": 1842,
          "processName": "ForkProcess-1:5",
          "thread": 140399975704384,
          "threadName": "MainThread"
         },
         {
          "asctime": "2021-03-24 04:50:52,648",
          "created": 1616561452.6485937,
          "extra": {},
          "filename": "async_executors.py",
          "funcName": "fill_atomic_inputs",
          "levelname": "INFO",
          "lineno": 250,
          "message": "SelectData_1: waiting for atomic input: config",
          "name": "engine.logs:SelectData_1",
          "pathname": "/usr/local/lib/python3.7/dist-packages/razor/flow/async_executors.py",
          "process": 1842,
          "processName": "ForkProcess-1:5",
          "thread": 140399975704384,
          "threadName": "MainThread"
         },
         {
          "asctime": "2021-03-24 04:50:52,648",
          "created": 1616561452.6486595,
          "extra": {},
          "filename": "async_executors.py",
          "funcName": "fill_atomic_inputs",
          "levelname": "DEBUG",
          "lineno": 253,
          "message": "SelectData_1: got atomic input: {}",
          "name": "engine.logs:SelectData_1",
          "pathname": "/usr/local/lib/python3.7/dist-packages/razor/flow/async_executors.py",
          "process": 1842,
          "processName": "ForkProcess-1:5",
          "thread": 140399975704384,
          "threadName": "MainThread"
         },
         {
          "asctime": "2021-03-24 04:50:52,648",
          "created": 1616561452.6486979,
          "extra": {},
          "filename": "async_executors.py",
          "funcName": "fill_atomic_inputs",
          "levelname": "INFO",
          "lineno": 250,
          "message": "SelectData_1: waiting for atomic input: source",
          "name": "engine.logs:SelectData_1",
          "pathname": "/usr/local/lib/python3.7/dist-packages/razor/flow/async_executors.py",
          "process": 1842,
          "processName": "ForkProcess-1:5",
          "thread": 140399975704384,
          "threadName": "MainThread"
         },
         {
          "asctime": "2021-03-24 04:50:52,648",
          "created": 1616561452.6487463,
          "extra": {},
          "filename": "async_executors.py",
          "funcName": "fill_atomic_inputs",
          "levelname": "DEBUG",
          "lineno": 253,
          "message": "SelectData_1: got atomic input: ",
          "name": "engine.logs:SelectData_1",
          "pathname": "/usr/local/lib/python3.7/dist-packages/razor/flow/async_executors.py",
          "process": 1842,
          "processName": "ForkProcess-1:5",
          "thread": 140399975704384,
          "threadName": "MainThread"
         },
         {
          "asctime": "2021-03-24 04:50:52,648",
          "created": 1616561452.6487963,
          "extra": {},
          "filename": "async_executors.py",
          "funcName": "main",
          "levelname": "DEBUG",
          "lineno": 130,
          "message": "SelectData_1: triggering block run",
          "name": "engine.logs:SelectData_1",
          "pathname": "/usr/local/lib/python3.7/dist-packages/razor/flow/async_executors.py",
          "process": 1842,
          "processName": "ForkProcess-1:5",
          "thread": 140399975704384,
          "threadName": "MainThread"
         },
         {
          "asctime": "2021-03-24 04:50:53,049",
          "created": 1616561453.049432,
          "exc_info": null,
          "extra": {},
          "filename": null,
          "full_message": null,
          "funcName": null,
          "levelname": "STDOUT",
          "lineno": null,
          "message": "+--------------------+-----+\n|               tweet|class|\n+--------------------+-----+\n|@kieffer_jason bi...|    1|\n|\"Just said cunt i...|    1|\n|                null| null|\n|RT @TAXSTONE: If ...|    1|\n|RT @ThaReal_Elija...|    1|\n|Lol niccas rememb...|    1|\n|I absolutely love...|    1|\n|@MorbidMermaid do...|    0|\n|Kanye west is a f...|    0|\n|like a bitch pic ...|    1|\n|RT @SumGurl07: So...|    2|\n|@Bojieasx slap a ...|    1|\n|@Me_NOindirect bi...|    1|\n|RT @nikkilenn: Bi...|    1|\n|RT @Dcowboys2188:...|    1|\n|@RealPimpinKen Pi...|    1|\n|                null| null|\n|A bf and gf&#1281...|    1|\n|RT @rollieghost: ...|    1|\n|RT @UrbanCrazines...|    1|\n+--------------------+-----+\nonly showing top 20 rows\n\n",
          "name": "block.stdout:SelectData_2",
          "pathname": null,
          "process": null,
          "processName": null,
          "thread": null,
          "threadName": null
         },
         {
          "asctime": "2021-03-24 04:50:53,053",
          "created": 1616561453.0535717,
          "extra": {},
          "filename": "async_executors.py",
          "funcName": "distribute_output_queue",
          "levelname": "DEBUG",
          "lineno": 308,
          "message": "SelectData_2: ---- dist output: DataFrame[tweet: string, class: string] -> ('RenameCol_1', 'inputData')",
          "name": "engine.logs:SelectData_2",
          "pathname": "/usr/local/lib/python3.7/dist-packages/razor/flow/async_executors.py",
          "process": 1842,
          "processName": "ForkProcess-1:5",
          "thread": 140399975704384,
          "threadName": "MainThread"
         },
         {
          "asctime": "2021-03-24 04:50:53,053",
          "created": 1616561453.053915,
          "extra": {},
          "filename": "async_executors.py",
          "funcName": "main",
          "levelname": "DEBUG",
          "lineno": 147,
          "message": "SelectData_2: block thread completed",
          "name": "engine.logs:SelectData_2",
          "pathname": "/usr/local/lib/python3.7/dist-packages/razor/flow/async_executors.py",
          "process": 1842,
          "processName": "ForkProcess-1:5",
          "thread": 140399975704384,
          "threadName": "MainThread"
         },
         {
          "asctime": "2021-03-24 04:50:53,054",
          "created": 1616561453.0540001,
          "extra": {},
          "filename": "async_executors.py",
          "funcName": "main",
          "levelname": "DEBUG",
          "lineno": 149,
          "message": "SelectData_2: block execution complete",
          "name": "engine.logs:SelectData_2",
          "pathname": "/usr/local/lib/python3.7/dist-packages/razor/flow/async_executors.py",
          "process": 1842,
          "processName": "ForkProcess-1:5",
          "thread": 140399975704384,
          "threadName": "MainThread"
         },
         {
          "asctime": "2021-03-24 04:50:53,054",
          "created": 1616561453.0542371,
          "extra": {},
          "filename": "async_executors.py",
          "funcName": "distribute_output_queue",
          "levelname": "DEBUG",
          "lineno": 308,
          "message": "SelectData_2: ---- dist output: b'__!\\tEndOfStream\\t!__' -> ('RenameCol_1', 'inputData')",
          "name": "engine.logs:SelectData_2",
          "pathname": "/usr/local/lib/python3.7/dist-packages/razor/flow/async_executors.py",
          "process": 1842,
          "processName": "ForkProcess-1:5",
          "thread": 140399975704384,
          "threadName": "MainThread"
         },
         {
          "asctime": "2021-03-24 04:50:53,056",
          "created": 1616561453.056737,
          "extra": {},
          "filename": "async_executors.py",
          "funcName": "start_input_receiver",
          "levelname": "DEBUG",
          "lineno": 173,
          "message": "SelectData_2: received cmd: start_sender, (), {'out_name': 'outputData', 'target': ('RenameCol_1', 'inputData'), 'out_addr': 'tcp://0.0.0.0:52595', 'in_memory': True}",
          "name": "engine.logs:SelectData_2",
          "pathname": "/usr/local/lib/python3.7/dist-packages/razor/flow/async_executors.py",
          "process": 1842,
          "processName": "ForkProcess-1:5",
          "thread": 140399975704384,
          "threadName": "MainThread"
         },
         {
          "asctime": "2021-03-24 04:50:53,056",
          "created": 1616561453.0569866,
          "extra": {},
          "filename": "async_executors.py",
          "funcName": "start_output_sender",
          "levelname": "DEBUG",
          "lineno": 370,
          "message": "SelectData_2: got start_sender, outputData, ('RenameCol_1', 'inputData')",
          "name": "engine.logs:SelectData_2",
          "pathname": "/usr/local/lib/python3.7/dist-packages/razor/flow/async_executors.py",
          "process": 1842,
          "processName": "ForkProcess-1:5",
          "thread": 140399975704384,
          "threadName": "MainThread"
         },
         {
          "asctime": "2021-03-24 04:50:53,061",
          "created": 1616561453.0615077,
          "extra": {},
          "filename": "async_executors.py",
          "funcName": "fill_atomic_inputs",
          "levelname": "DEBUG",
          "lineno": 253,
          "message": "RenameCol_1: got atomic input: DataFrame[tweet: string, class: string]",
          "name": "engine.logs:RenameCol_1",
          "pathname": "/usr/local/lib/python3.7/dist-packages/razor/flow/async_executors.py",
          "process": 1842,
          "processName": "ForkProcess-1:5",
          "thread": 140399975704384,
          "threadName": "MainThread"
         },
         {
          "asctime": "2021-03-24 04:50:53,058",
          "created": 1616561453.058141,
          "extra": {},
          "filename": "async_executors.py",
          "funcName": "start_output_sender",
          "levelname": "DEBUG",
          "lineno": 375,
          "message": "SelectData_2: SENT, inputData, DataFrame[tweet: string, class: string], ('RenameCol_1', 'inputData')",
          "name": "engine.logs:SelectData_2",
          "pathname": "/usr/local/lib/python3.7/dist-packages/razor/flow/async_executors.py",
          "process": 1842,
          "processName": "ForkProcess-1:5",
          "thread": 140399975704384,
          "threadName": "MainThread"
         },
         {
          "asctime": "2021-03-24 04:50:53,059",
          "created": 1616561453.059667,
          "extra": {},
          "filename": "async_executors.py",
          "funcName": "distribute_output_queue",
          "levelname": "DEBUG",
          "lineno": 308,
          "message": "SelectData_1: ---- dist output: DataFrame[title: string, label: string] -> ('ConcatData_1', 'inputData_1')",
          "name": "engine.logs:SelectData_1",
          "pathname": "/usr/local/lib/python3.7/dist-packages/razor/flow/async_executors.py",
          "process": 1842,
          "processName": "ForkProcess-1:5",
          "thread": 140399975704384,
          "threadName": "MainThread"
         },
         {
          "asctime": "2021-03-24 04:50:53,061",
          "created": 1616561453.0616233,
          "extra": {},
          "filename": "async_executors.py",
          "funcName": "fill_atomic_inputs",
          "levelname": "INFO",
          "lineno": 250,
          "message": "RenameCol_1: waiting for atomic input: col_dic",
          "name": "engine.logs:RenameCol_1",
          "pathname": "/usr/local/lib/python3.7/dist-packages/razor/flow/async_executors.py",
          "process": 1842,
          "processName": "ForkProcess-1:5",
          "thread": 140399975704384,
          "threadName": "MainThread"
         },
         {
          "asctime": "2021-03-24 04:50:53,058",
          "created": 1616561453.0582662,
          "extra": {},
          "filename": "async_executors.py",
          "funcName": "start_output_sender",
          "levelname": "DEBUG",
          "lineno": 375,
          "message": "SelectData_2: SENT, inputData, b'__!\\tEndOfStream\\t!__', ('RenameCol_1', 'inputData')",
          "name": "engine.logs:SelectData_2",
          "pathname": "/usr/local/lib/python3.7/dist-packages/razor/flow/async_executors.py",
          "process": 1842,
          "processName": "ForkProcess-1:5",
          "thread": 140399975704384,
          "threadName": "MainThread"
         },
         {
          "asctime": "2021-03-24 04:50:53,060",
          "created": 1616561453.0602381,
          "extra": {},
          "filename": "async_executors.py",
          "funcName": "main",
          "levelname": "DEBUG",
          "lineno": 147,
          "message": "SelectData_1: block thread completed",
          "name": "engine.logs:SelectData_1",
          "pathname": "/usr/local/lib/python3.7/dist-packages/razor/flow/async_executors.py",
          "process": 1842,
          "processName": "ForkProcess-1:5",
          "thread": 140399975704384,
          "threadName": "MainThread"
         },
         {
          "asctime": "2021-03-24 04:50:53,061",
          "created": 1616561453.0617268,
          "extra": {},
          "filename": "async_executors.py",
          "funcName": "fill_atomic_inputs",
          "levelname": "DEBUG",
          "lineno": 253,
          "message": "RenameCol_1: got atomic input: {'tweet': 'title', 'class': 'label'}",
          "name": "engine.logs:RenameCol_1",
          "pathname": "/usr/local/lib/python3.7/dist-packages/razor/flow/async_executors.py",
          "process": 1842,
          "processName": "ForkProcess-1:5",
          "thread": 140399975704384,
          "threadName": "MainThread"
         },
         {
          "asctime": "2021-03-24 04:50:53,058",
          "created": 1616561453.058319,
          "extra": {},
          "filename": "async_executors.py",
          "funcName": "start_output_sender",
          "levelname": "DEBUG",
          "lineno": 379,
          "message": "SelectData_2: completed output: ('outputData', ('RenameCol_1', 'inputData'))",
          "name": "engine.logs:SelectData_2",
          "pathname": "/usr/local/lib/python3.7/dist-packages/razor/flow/async_executors.py",
          "process": 1842,
          "processName": "ForkProcess-1:5",
          "thread": 140399975704384,
          "threadName": "MainThread"
         },
         {
          "asctime": "2021-03-24 04:50:53,060",
          "created": 1616561453.0604007,
          "extra": {},
          "filename": "async_executors.py",
          "funcName": "main",
          "levelname": "DEBUG",
          "lineno": 149,
          "message": "SelectData_1: block execution complete",
          "name": "engine.logs:SelectData_1",
          "pathname": "/usr/local/lib/python3.7/dist-packages/razor/flow/async_executors.py",
          "process": 1842,
          "processName": "ForkProcess-1:5",
          "thread": 140399975704384,
          "threadName": "MainThread"
         },
         {
          "asctime": "2021-03-24 04:50:53,061",
          "created": 1616561453.0617943,
          "extra": {},
          "filename": "async_executors.py",
          "funcName": "fill_atomic_inputs",
          "levelname": "INFO",
          "lineno": 250,
          "message": "RenameCol_1: waiting for atomic input: config",
          "name": "engine.logs:RenameCol_1",
          "pathname": "/usr/local/lib/python3.7/dist-packages/razor/flow/async_executors.py",
          "process": 1842,
          "processName": "ForkProcess-1:5",
          "thread": 140399975704384,
          "threadName": "MainThread"
         },
         {
          "asctime": "2021-03-24 04:50:53,064",
          "created": 1616561453.064707,
          "extra": {},
          "filename": "async_executors.py",
          "funcName": "start_input_receiver",
          "levelname": "DEBUG",
          "lineno": 173,
          "message": "SelectData_2: received cmd: terminate, (), {}",
          "name": "engine.logs:SelectData_2",
          "pathname": "/usr/local/lib/python3.7/dist-packages/razor/flow/async_executors.py",
          "process": 1842,
          "processName": "ForkProcess-1:5",
          "thread": 140399975704384,
          "threadName": "MainThread"
         },
         {
          "asctime": "2021-03-24 04:50:53,061",
          "created": 1616561453.0618703,
          "extra": {},
          "filename": "async_executors.py",
          "funcName": "fill_atomic_inputs",
          "levelname": "DEBUG",
          "lineno": 253,
          "message": "RenameCol_1: got atomic input: {}",
          "name": "engine.logs:RenameCol_1",
          "pathname": "/usr/local/lib/python3.7/dist-packages/razor/flow/async_executors.py",
          "process": 1842,
          "processName": "ForkProcess-1:5",
          "thread": 140399975704384,
          "threadName": "MainThread"
         },
         {
          "asctime": "2021-03-24 04:50:53,060",
          "created": 1616561453.0607193,
          "extra": {},
          "filename": "async_executors.py",
          "funcName": "distribute_output_queue",
          "levelname": "DEBUG",
          "lineno": 308,
          "message": "SelectData_1: ---- dist output: b'__!\\tEndOfStream\\t!__' -> ('ConcatData_1', 'inputData_1')",
          "name": "engine.logs:SelectData_1",
          "pathname": "/usr/local/lib/python3.7/dist-packages/razor/flow/async_executors.py",
          "process": 1842,
          "processName": "ForkProcess-1:5",
          "thread": 140399975704384,
          "threadName": "MainThread"
         },
         {
          "asctime": "2021-03-24 04:50:53,061",
          "created": 1616561453.0619307,
          "extra": {},
          "filename": "async_executors.py",
          "funcName": "fill_atomic_inputs",
          "levelname": "INFO",
          "lineno": 250,
          "message": "RenameCol_1: waiting for atomic input: source",
          "name": "engine.logs:RenameCol_1",
          "pathname": "/usr/local/lib/python3.7/dist-packages/razor/flow/async_executors.py",
          "process": 1842,
          "processName": "ForkProcess-1:5",
          "thread": 140399975704384,
          "threadName": "MainThread"
         },
         {
          "asctime": "2021-03-24 04:50:53,070",
          "created": 1616561453.0700169,
          "extra": {},
          "filename": "async_executors.py",
          "funcName": "fill_atomic_inputs",
          "levelname": "DEBUG",
          "lineno": 253,
          "message": "ConcatData_1: got atomic input: DataFrame[title: string, label: string]",
          "name": "engine.logs:ConcatData_1",
          "pathname": "/usr/local/lib/python3.7/dist-packages/razor/flow/async_executors.py",
          "process": 1842,
          "processName": "ForkProcess-1:5",
          "thread": 140399975704384,
          "threadName": "MainThread"
         },
         {
          "asctime": "2021-03-24 04:50:53,070",
          "created": 1616561453.0701613,
          "extra": {},
          "filename": "async_executors.py",
          "funcName": "fill_atomic_inputs",
          "levelname": "INFO",
          "lineno": 250,
          "message": "ConcatData_1: waiting for atomic input: inputData_2",
          "name": "engine.logs:ConcatData_1",
          "pathname": "/usr/local/lib/python3.7/dist-packages/razor/flow/async_executors.py",
          "process": 1842,
          "processName": "ForkProcess-1:5",
          "thread": 140399975704384,
          "threadName": "MainThread"
         },
         {
          "asctime": "2021-03-24 04:50:53,067",
          "created": 1616561453.0673413,
          "extra": {},
          "filename": "async_executors.py",
          "funcName": "start_input_receiver",
          "levelname": "DEBUG",
          "lineno": 173,
          "message": "SelectData_1: received cmd: start_sender, (), {'out_name': 'outputData', 'target': ('ConcatData_1', 'inputData_1'), 'out_addr': 'tcp://0.0.0.0:51376', 'in_memory': True}",
          "name": "engine.logs:SelectData_1",
          "pathname": "/usr/local/lib/python3.7/dist-packages/razor/flow/async_executors.py",
          "process": 1842,
          "processName": "ForkProcess-1:5",
          "thread": 140399975704384,
          "threadName": "MainThread"
         },
         {
          "asctime": "2021-03-24 04:50:53,062",
          "created": 1616561453.0620017,
          "extra": {},
          "filename": "async_executors.py",
          "funcName": "fill_atomic_inputs",
          "levelname": "DEBUG",
          "lineno": 253,
          "message": "RenameCol_1: got atomic input: ",
          "name": "engine.logs:RenameCol_1",
          "pathname": "/usr/local/lib/python3.7/dist-packages/razor/flow/async_executors.py",
          "process": 1842,
          "processName": "ForkProcess-1:5",
          "thread": 140399975704384,
          "threadName": "MainThread"
         },
         {
          "asctime": "2021-03-24 04:50:53,062",
          "created": 1616561453.0620952,
          "extra": {},
          "filename": "async_executors.py",
          "funcName": "main",
          "levelname": "DEBUG",
          "lineno": 130,
          "message": "RenameCol_1: triggering block run",
          "name": "engine.logs:RenameCol_1",
          "pathname": "/usr/local/lib/python3.7/dist-packages/razor/flow/async_executors.py",
          "process": 1842,
          "processName": "ForkProcess-1:5",
          "thread": 140399975704384,
          "threadName": "MainThread"
         },
         {
          "asctime": "2021-03-24 04:50:53,067",
          "created": 1616561453.0676153,
          "extra": {},
          "filename": "async_executors.py",
          "funcName": "start_output_sender",
          "levelname": "DEBUG",
          "lineno": 370,
          "message": "SelectData_1: got start_sender, outputData, ('ConcatData_1', 'inputData_1')",
          "name": "engine.logs:SelectData_1",
          "pathname": "/usr/local/lib/python3.7/dist-packages/razor/flow/async_executors.py",
          "process": 1842,
          "processName": "ForkProcess-1:5",
          "thread": 140399975704384,
          "threadName": "MainThread"
         },
         {
          "asctime": "2021-03-24 04:50:53,068",
          "created": 1616561453.0684361,
          "extra": {},
          "filename": "async_executors.py",
          "funcName": "start_output_sender",
          "levelname": "DEBUG",
          "lineno": 375,
          "message": "SelectData_1: SENT, inputData_1, DataFrame[title: string, label: string], ('ConcatData_1', 'inputData_1')",
          "name": "engine.logs:SelectData_1",
          "pathname": "/usr/local/lib/python3.7/dist-packages/razor/flow/async_executors.py",
          "process": 1842,
          "processName": "ForkProcess-1:5",
          "thread": 140399975704384,
          "threadName": "MainThread"
         },
         {
          "asctime": "2021-03-24 04:50:53,068",
          "created": 1616561453.068558,
          "extra": {},
          "filename": "async_executors.py",
          "funcName": "start_output_sender",
          "levelname": "DEBUG",
          "lineno": 375,
          "message": "SelectData_1: SENT, inputData_1, b'__!\\tEndOfStream\\t!__', ('ConcatData_1', 'inputData_1')",
          "name": "engine.logs:SelectData_1",
          "pathname": "/usr/local/lib/python3.7/dist-packages/razor/flow/async_executors.py",
          "process": 1842,
          "processName": "ForkProcess-1:5",
          "thread": 140399975704384,
          "threadName": "MainThread"
         },
         {
          "asctime": "2021-03-24 04:50:53,068",
          "created": 1616561453.068618,
          "extra": {},
          "filename": "async_executors.py",
          "funcName": "start_output_sender",
          "levelname": "DEBUG",
          "lineno": 379,
          "message": "SelectData_1: completed output: ('outputData', ('ConcatData_1', 'inputData_1'))",
          "name": "engine.logs:SelectData_1",
          "pathname": "/usr/local/lib/python3.7/dist-packages/razor/flow/async_executors.py",
          "process": 1842,
          "processName": "ForkProcess-1:5",
          "thread": 140399975704384,
          "threadName": "MainThread"
         },
         {
          "asctime": "2021-03-24 04:50:53,090",
          "created": 1616561453.09041,
          "extra": {},
          "filename": "async_executors.py",
          "funcName": "start_input_receiver",
          "levelname": "DEBUG",
          "lineno": 173,
          "message": "SelectData_1: received cmd: terminate, (), {}",
          "name": "engine.logs:SelectData_1",
          "pathname": "/usr/local/lib/python3.7/dist-packages/razor/flow/async_executors.py",
          "process": 1842,
          "processName": "ForkProcess-1:5",
          "thread": 140399975704384,
          "threadName": "MainThread"
         },
         {
          "asctime": "2021-03-24 04:50:53,095",
          "created": 1616561453.0958583,
          "extra": {},
          "filename": "async_executors.py",
          "funcName": "distribute_output_queue",
          "levelname": "DEBUG",
          "lineno": 308,
          "message": "RenameCol_1: ---- dist output: DataFrame[title: string, label: string] -> ('ConcatData_1', 'inputData_2')",
          "name": "engine.logs:RenameCol_1",
          "pathname": "/usr/local/lib/python3.7/dist-packages/razor/flow/async_executors.py",
          "process": 1842,
          "processName": "ForkProcess-1:5",
          "thread": 140399975704384,
          "threadName": "MainThread"
         },
         {
          "asctime": "2021-03-24 04:50:53,096",
          "created": 1616561453.0961967,
          "extra": {},
          "filename": "async_executors.py",
          "funcName": "main",
          "levelname": "DEBUG",
          "lineno": 147,
          "message": "RenameCol_1: block thread completed",
          "name": "engine.logs:RenameCol_1",
          "pathname": "/usr/local/lib/python3.7/dist-packages/razor/flow/async_executors.py",
          "process": 1842,
          "processName": "ForkProcess-1:5",
          "thread": 140399975704384,
          "threadName": "MainThread"
         },
         {
          "asctime": "2021-03-24 04:50:53,096",
          "created": 1616561453.0962882,
          "extra": {},
          "filename": "async_executors.py",
          "funcName": "main",
          "levelname": "DEBUG",
          "lineno": 149,
          "message": "RenameCol_1: block execution complete",
          "name": "engine.logs:RenameCol_1",
          "pathname": "/usr/local/lib/python3.7/dist-packages/razor/flow/async_executors.py",
          "process": 1842,
          "processName": "ForkProcess-1:5",
          "thread": 140399975704384,
          "threadName": "MainThread"
         },
         {
          "asctime": "2021-03-24 04:50:53,096",
          "created": 1616561453.0963867,
          "extra": {},
          "filename": "async_executors.py",
          "funcName": "distribute_output_queue",
          "levelname": "DEBUG",
          "lineno": 308,
          "message": "RenameCol_1: ---- dist output: b'__!\\tEndOfStream\\t!__' -> ('ConcatData_1', 'inputData_2')",
          "name": "engine.logs:RenameCol_1",
          "pathname": "/usr/local/lib/python3.7/dist-packages/razor/flow/async_executors.py",
          "process": 1842,
          "processName": "ForkProcess-1:5",
          "thread": 140399975704384,
          "threadName": "MainThread"
         },
         {
          "asctime": "2021-03-24 04:50:53,119",
          "created": 1616561453.1192946,
          "extra": {},
          "filename": "async_executors.py",
          "funcName": "start_input_receiver",
          "levelname": "DEBUG",
          "lineno": 173,
          "message": "RenameCol_1: received cmd: start_sender, (), {'out_name': 'outputData', 'target': ('ConcatData_1', 'inputData_2'), 'out_addr': 'tcp://0.0.0.0:51376', 'in_memory': True}",
          "name": "engine.logs:RenameCol_1",
          "pathname": "/usr/local/lib/python3.7/dist-packages/razor/flow/async_executors.py",
          "process": 1842,
          "processName": "ForkProcess-1:5",
          "thread": 140399975704384,
          "threadName": "MainThread"
         },
         {
          "asctime": "2021-03-24 04:50:53,119",
          "created": 1616561453.1196272,
          "extra": {},
          "filename": "async_executors.py",
          "funcName": "start_output_sender",
          "levelname": "DEBUG",
          "lineno": 370,
          "message": "RenameCol_1: got start_sender, outputData, ('ConcatData_1', 'inputData_2')",
          "name": "engine.logs:RenameCol_1",
          "pathname": "/usr/local/lib/python3.7/dist-packages/razor/flow/async_executors.py",
          "process": 1842,
          "processName": "ForkProcess-1:5",
          "thread": 140399975704384,
          "threadName": "MainThread"
         },
         {
          "asctime": "2021-03-24 04:50:53,121",
          "created": 1616561453.1212678,
          "extra": {},
          "filename": "async_executors.py",
          "funcName": "start_output_sender",
          "levelname": "DEBUG",
          "lineno": 375,
          "message": "RenameCol_1: SENT, inputData_2, DataFrame[title: string, label: string], ('ConcatData_1', 'inputData_2')",
          "name": "engine.logs:RenameCol_1",
          "pathname": "/usr/local/lib/python3.7/dist-packages/razor/flow/async_executors.py",
          "process": 1842,
          "processName": "ForkProcess-1:5",
          "thread": 140399975704384,
          "threadName": "MainThread"
         },
         {
          "asctime": "2021-03-24 04:50:53,121",
          "created": 1616561453.1214364,
          "extra": {},
          "filename": "async_executors.py",
          "funcName": "start_output_sender",
          "levelname": "DEBUG",
          "lineno": 375,
          "message": "RenameCol_1: SENT, inputData_2, b'__!\\tEndOfStream\\t!__', ('ConcatData_1', 'inputData_2')",
          "name": "engine.logs:RenameCol_1",
          "pathname": "/usr/local/lib/python3.7/dist-packages/razor/flow/async_executors.py",
          "process": 1842,
          "processName": "ForkProcess-1:5",
          "thread": 140399975704384,
          "threadName": "MainThread"
         },
         {
          "asctime": "2021-03-24 04:50:53,122",
          "created": 1616561453.1226914,
          "extra": {},
          "filename": "async_executors.py",
          "funcName": "fill_atomic_inputs",
          "levelname": "DEBUG",
          "lineno": 253,
          "message": "ConcatData_1: got atomic input: DataFrame[title: string, label: string]",
          "name": "engine.logs:ConcatData_1",
          "pathname": "/usr/local/lib/python3.7/dist-packages/razor/flow/async_executors.py",
          "process": 1842,
          "processName": "ForkProcess-1:5",
          "thread": 140399975704384,
          "threadName": "MainThread"
         },
         {
          "asctime": "2021-03-24 04:50:53,121",
          "created": 1616561453.121493,
          "extra": {},
          "filename": "async_executors.py",
          "funcName": "start_output_sender",
          "levelname": "DEBUG",
          "lineno": 379,
          "message": "RenameCol_1: completed output: ('outputData', ('ConcatData_1', 'inputData_2'))",
          "name": "engine.logs:RenameCol_1",
          "pathname": "/usr/local/lib/python3.7/dist-packages/razor/flow/async_executors.py",
          "process": 1842,
          "processName": "ForkProcess-1:5",
          "thread": 140399975704384,
          "threadName": "MainThread"
         },
         {
          "asctime": "2021-03-24 04:50:53,122",
          "created": 1616561453.122847,
          "extra": {},
          "filename": "async_executors.py",
          "funcName": "fill_atomic_inputs",
          "levelname": "INFO",
          "lineno": 250,
          "message": "ConcatData_1: waiting for atomic input: config",
          "name": "engine.logs:ConcatData_1",
          "pathname": "/usr/local/lib/python3.7/dist-packages/razor/flow/async_executors.py",
          "process": 1842,
          "processName": "ForkProcess-1:5",
          "thread": 140399975704384,
          "threadName": "MainThread"
         },
         {
          "asctime": "2021-03-24 04:50:53,122",
          "created": 1616561453.1229217,
          "extra": {},
          "filename": "async_executors.py",
          "funcName": "fill_atomic_inputs",
          "levelname": "DEBUG",
          "lineno": 253,
          "message": "ConcatData_1: got atomic input: {}",
          "name": "engine.logs:ConcatData_1",
          "pathname": "/usr/local/lib/python3.7/dist-packages/razor/flow/async_executors.py",
          "process": 1842,
          "processName": "ForkProcess-1:5",
          "thread": 140399975704384,
          "threadName": "MainThread"
         },
         {
          "asctime": "2021-03-24 04:50:53,122",
          "created": 1616561453.1229637,
          "extra": {},
          "filename": "async_executors.py",
          "funcName": "fill_atomic_inputs",
          "levelname": "INFO",
          "lineno": 250,
          "message": "ConcatData_1: waiting for atomic input: source",
          "name": "engine.logs:ConcatData_1",
          "pathname": "/usr/local/lib/python3.7/dist-packages/razor/flow/async_executors.py",
          "process": 1842,
          "processName": "ForkProcess-1:5",
          "thread": 140399975704384,
          "threadName": "MainThread"
         },
         {
          "asctime": "2021-03-24 04:50:53,151",
          "created": 1616561453.151245,
          "extra": {},
          "filename": "async_executors.py",
          "funcName": "start_input_receiver",
          "levelname": "DEBUG",
          "lineno": 173,
          "message": "RenameCol_1: received cmd: terminate, (), {}",
          "name": "engine.logs:RenameCol_1",
          "pathname": "/usr/local/lib/python3.7/dist-packages/razor/flow/async_executors.py",
          "process": 1842,
          "processName": "ForkProcess-1:5",
          "thread": 140399975704384,
          "threadName": "MainThread"
         },
         {
          "asctime": "2021-03-24 04:50:53,123",
          "created": 1616561453.1230075,
          "extra": {},
          "filename": "async_executors.py",
          "funcName": "fill_atomic_inputs",
          "levelname": "DEBUG",
          "lineno": 253,
          "message": "ConcatData_1: got atomic input: ",
          "name": "engine.logs:ConcatData_1",
          "pathname": "/usr/local/lib/python3.7/dist-packages/razor/flow/async_executors.py",
          "process": 1842,
          "processName": "ForkProcess-1:5",
          "thread": 140399975704384,
          "threadName": "MainThread"
         },
         {
          "asctime": "2021-03-24 04:50:53,123",
          "created": 1616561453.1230779,
          "extra": {},
          "filename": "async_executors.py",
          "funcName": "main",
          "levelname": "DEBUG",
          "lineno": 130,
          "message": "ConcatData_1: triggering block run",
          "name": "engine.logs:ConcatData_1",
          "pathname": "/usr/local/lib/python3.7/dist-packages/razor/flow/async_executors.py",
          "process": 1842,
          "processName": "ForkProcess-1:5",
          "thread": 140399975704384,
          "threadName": "MainThread"
         },
         {
          "asctime": "2021-03-24 04:50:53,150",
          "created": 1616561453.1508408,
          "exc_info": null,
          "extra": {},
          "filename": null,
          "full_message": null,
          "funcName": null,
          "levelname": "STDOUT",
          "lineno": null,
          "message": "Concat Data\n",
          "name": "block.stdout:ConcatData_1",
          "pathname": null,
          "process": null,
          "processName": null,
          "thread": null,
          "threadName": null
         },
         {
          "asctime": "2021-03-24 04:50:53,705",
          "created": 1616561453.70598,
          "exc_info": null,
          "extra": {},
          "filename": null,
          "full_message": null,
          "funcName": null,
          "levelname": "STDOUT",
          "lineno": null,
          "message": "+--------------------+--------------------+\n|               title|               label|\n+--------------------+--------------------+\n|                null|                null|\n| the same newspap...|                null|\n|         \"\" it read.|                null|\n|                null|                null|\n|                null|                null|\n|                null|                null|\n|                null|                null|\n|                null|                null|\n|                null|                null|\n|                null|                null|\n|                null|                null|\n|                null|                null|\n|                null|                null|\n|                null|                null|\n| in Scotland Reut...| Bedfordshire. He...|\n|                null|                null|\n|           and Lance|                null|\n| a film based on ...|Tom Daley,Dustin ...|\n|                null|                null|\n| thus the series’...|                null|\n+--------------------+--------------------+\nonly showing top 20 rows\n\n",
          "name": "block.stdout:ConcatData_1",
          "pathname": null,
          "process": null,
          "processName": null,
          "thread": null,
          "threadName": null
         },
         {
          "asctime": "2021-03-24 04:50:53,706",
          "created": 1616561453.7068,
          "extra": {},
          "filename": "async_executors.py",
          "funcName": "main",
          "levelname": "DEBUG",
          "lineno": 147,
          "message": "ConcatData_1: block thread completed",
          "name": "engine.logs:ConcatData_1",
          "pathname": "/usr/local/lib/python3.7/dist-packages/razor/flow/async_executors.py",
          "process": 1842,
          "processName": "ForkProcess-1:5",
          "thread": 140399975704384,
          "threadName": "MainThread"
         },
         {
          "asctime": "2021-03-24 04:50:53,706",
          "created": 1616561453.7068994,
          "extra": {},
          "filename": "async_executors.py",
          "funcName": "main",
          "levelname": "DEBUG",
          "lineno": 149,
          "message": "ConcatData_1: block execution complete",
          "name": "engine.logs:ConcatData_1",
          "pathname": "/usr/local/lib/python3.7/dist-packages/razor/flow/async_executors.py",
          "process": 1842,
          "processName": "ForkProcess-1:5",
          "thread": 140399975704384,
          "threadName": "MainThread"
         },
         {
          "asctime": "2021-03-24 04:50:53,712",
          "created": 1616561453.7128594,
          "extra": {},
          "filename": "async_executors.py",
          "funcName": "start_input_receiver",
          "levelname": "DEBUG",
          "lineno": 173,
          "message": "ConcatData_1: received cmd: terminate, (), {}",
          "name": "engine.logs:ConcatData_1",
          "pathname": "/usr/local/lib/python3.7/dist-packages/razor/flow/async_executors.py",
          "process": 1842,
          "processName": "ForkProcess-1:5",
          "thread": 140399975704384,
          "threadName": "MainThread"
         }
        ],
        "meta": {
         "block_status": {
          "ConcatData_1": "SUCCESS",
          "NonSparkCols_1": "SUCCESS",
          "NonSparkCols_2": "SUCCESS",
          "NonSparkPath_1": "SUCCESS",
          "NonSparkPath_2": "SUCCESS",
          "ReadCsvProjectSpace_1": "SUCCESS",
          "ReadCsvProjectSpace_2": "SUCCESS",
          "RenameCol_1": "SUCCESS",
          "SelectData_1": "SUCCESS",
          "SelectData_2": "SUCCESS"
         },
         "blocks": [
          {
           "class_name": "RenameCol",
           "fullname": ".RenameCol",
           "id": "b3fbdac1-461a-49f7-b295-ccfd77087be3",
           "inputs": [
            {
             "dataType": null,
             "default": null,
             "flow": "atomic",
             "help": null,
             "isdict": false,
             "islist": false,
             "label": "inputData",
             "meta": {},
             "name": "inputData",
             "series": false,
             "type": "DataFrame",
             "type_check": true
            },
            {
             "dataType": null,
             "default": null,
             "flow": "atomic",
             "help": null,
             "isdict": false,
             "islist": false,
             "label": "col_dic",
             "meta": {},
             "name": "col_dic",
             "series": false,
             "type": "Any",
             "type_check": true
            },
            {
             "dataType": "dict",
             "default": {},
             "flow": "atomic",
             "help": null,
             "isdict": false,
             "islist": false,
             "label": "config",
             "meta": {},
             "name": "config",
             "series": false,
             "type": "dict",
             "type_check": true
            },
            {
             "dataType": "string",
             "default": "",
             "flow": "atomic",
             "help": null,
             "isdict": false,
             "islist": false,
             "label": "source",
             "meta": {},
             "name": "source",
             "series": false,
             "type": "str",
             "type_check": true
            }
           ],
           "outputs": [
            {
             "flow": "atomic",
             "help": null,
             "label": "outputData",
             "meta": {},
             "name": "outputData",
             "series": false,
             "type": "DataFrame",
             "type_check": true
            }
           ],
           "overwritten": false,
           "published": false,
           "var_names": [
            "RenameCol"
           ]
          },
          {
           "class_name": "NonSparkPath",
           "fullname": ".NonSparkPath",
           "id": "96da6e0e-aeb1-4eba-b396-b46484e24473",
           "inputs": [
            {
             "dataType": "string",
             "default": "",
             "flow": "atomic",
             "help": null,
             "isdict": false,
             "islist": false,
             "label": "ip_path",
             "meta": {},
             "name": "ip_path",
             "series": false,
             "type": "str",
             "type_check": true
            }
           ],
           "outputs": [
            {
             "flow": "atomic",
             "help": null,
             "label": "selected_cols",
             "meta": {},
             "name": "selected_cols",
             "series": false,
             "type": "Any",
             "type_check": true
            },
            {
             "flow": "atomic",
             "help": null,
             "label": "op_path",
             "meta": {},
             "name": "op_path",
             "series": false,
             "type": "str",
             "type_check": true
            }
           ],
           "overwritten": false,
           "published": false,
           "var_names": [
            "NonSparkPath"
           ]
          },
          {
           "class_name": "SelectData",
           "fullname": ".SelectData",
           "id": "792edcbd-f580-4922-bea6-c09011ab3bab",
           "inputs": [
            {
             "dataType": null,
             "default": null,
             "flow": "atomic",
             "help": null,
             "isdict": false,
             "islist": false,
             "label": "wanted_cols",
             "meta": {},
             "name": "wanted_cols",
             "series": false,
             "type": "Any",
             "type_check": true
            },
            {
             "dataType": null,
             "default": null,
             "flow": "atomic",
             "help": null,
             "isdict": false,
             "islist": false,
             "label": "inputData",
             "meta": {},
             "name": "inputData",
             "series": false,
             "type": "DataFrame",
             "type_check": true
            },
            {
             "dataType": "dict",
             "default": {},
             "flow": "atomic",
             "help": null,
             "isdict": false,
             "islist": false,
             "label": "config",
             "meta": {},
             "name": "config",
             "series": false,
             "type": "dict",
             "type_check": true
            },
            {
             "dataType": "string",
             "default": "",
             "flow": "atomic",
             "help": null,
             "isdict": false,
             "islist": false,
             "label": "source",
             "meta": {},
             "name": "source",
             "series": false,
             "type": "str",
             "type_check": true
            }
           ],
           "outputs": [
            {
             "flow": "atomic",
             "help": null,
             "label": "outputData",
             "meta": {},
             "name": "outputData",
             "series": false,
             "type": "DataFrame",
             "type_check": true
            }
           ],
           "overwritten": false,
           "published": false,
           "var_names": [
            "SelectData"
           ]
          },
          {
           "class_name": "ConcatData",
           "fullname": ".ConcatData",
           "id": "4b47e7b4-b82b-4abe-ac6a-28c3d3f2c885",
           "inputs": [
            {
             "dataType": null,
             "default": null,
             "flow": "atomic",
             "help": null,
             "isdict": false,
             "islist": false,
             "label": "inputData_1",
             "meta": {},
             "name": "inputData_1",
             "series": false,
             "type": "DataFrame",
             "type_check": true
            },
            {
             "dataType": null,
             "default": null,
             "flow": "atomic",
             "help": null,
             "isdict": false,
             "islist": false,
             "label": "inputData_2",
             "meta": {},
             "name": "inputData_2",
             "series": false,
             "type": "DataFrame",
             "type_check": true
            },
            {
             "dataType": "dict",
             "default": {},
             "flow": "atomic",
             "help": null,
             "isdict": false,
             "islist": false,
             "label": "config",
             "meta": {},
             "name": "config",
             "series": false,
             "type": "dict",
             "type_check": true
            },
            {
             "dataType": "string",
             "default": "",
             "flow": "atomic",
             "help": null,
             "isdict": false,
             "islist": false,
             "label": "source",
             "meta": {},
             "name": "source",
             "series": false,
             "type": "str",
             "type_check": true
            }
           ],
           "outputs": [
            {
             "flow": "atomic",
             "help": null,
             "label": "outputData",
             "meta": {},
             "name": "outputData",
             "series": false,
             "type": "DataFrame",
             "type_check": true
            }
           ],
           "overwritten": false,
           "published": false,
           "var_names": [
            "ConcatData"
           ]
          },
          {
           "class_name": "NonSparkCols",
           "fullname": ".NonSparkCols",
           "id": "01cd185d-f94f-4af8-9858-2b8cda3a679b",
           "inputs": [
            {
             "dataType": null,
             "default": null,
             "flow": "atomic",
             "help": null,
             "isdict": false,
             "islist": false,
             "label": "cols_list",
             "meta": {},
             "name": "cols_list",
             "series": false,
             "type": "Any",
             "type_check": true
            }
           ],
           "outputs": [
            {
             "flow": "atomic",
             "help": null,
             "label": "selected_cols",
             "meta": {},
             "name": "selected_cols",
             "series": false,
             "type": "Any",
             "type_check": true
            }
           ],
           "overwritten": false,
           "published": false,
           "var_names": [
            "NonSparkCols"
           ]
          },
          {
           "class_name": "ReadCsvProjectSpace",
           "fullname": ".ReadCsvProjectSpace",
           "id": "8d99651b-a784-4535-aea1-4ad8aefb8d45",
           "inputs": [
            {
             "dataType": "string",
             "default": "",
             "flow": "atomic",
             "help": null,
             "isdict": false,
             "islist": false,
             "label": "filename",
             "meta": {},
             "name": "filename",
             "series": false,
             "type": "str",
             "type_check": true
            },
            {
             "dataType": "dict",
             "default": {},
             "flow": "atomic",
             "help": null,
             "isdict": false,
             "islist": false,
             "label": "config",
             "meta": {},
             "name": "config",
             "series": false,
             "type": "dict",
             "type_check": true
            },
            {
             "dataType": "string",
             "default": "",
             "flow": "atomic",
             "help": null,
             "isdict": false,
             "islist": false,
             "label": "source",
             "meta": {},
             "name": "source",
             "series": false,
             "type": "str",
             "type_check": true
            }
           ],
           "outputs": [
            {
             "flow": "atomic",
             "help": null,
             "label": "data",
             "meta": {},
             "name": "data",
             "series": false,
             "type": "DataFrame",
             "type_check": true
            }
           ],
           "overwritten": false,
           "published": false,
           "var_names": [
            "ReadCsvProjectSpace"
           ]
          }
         ],
         "connections": [
          {
           "id": "07700054-48f5-4ad6-b2e9-3c82d8922777",
           "source": {
            "adapter": false,
            "instance_id": "26111c4f-4a51-40e4-b323-7116b5fd9406",
            "name": "op_path"
           },
           "target": {
            "adapter": false,
            "instance_id": "5c3f9916-6fff-418c-a52d-21216c6073f2",
            "name": "filename"
           }
          },
          {
           "id": "497d8a94-785d-499f-95fb-c917332e4e58",
           "source": {
            "adapter": false,
            "instance_id": "068b3451-e87b-4913-b44e-9031eef75b69",
            "name": "outputData"
           },
           "target": {
            "adapter": false,
            "instance_id": "a1bcb889-3880-4b54-885c-6511331b07bf",
            "name": "inputData"
           }
          },
          {
           "id": "2cc09cb1-5516-42dd-a60f-57727c27598f",
           "source": {
            "adapter": false,
            "instance_id": "5c3f9916-6fff-418c-a52d-21216c6073f2",
            "name": "data"
           },
           "target": {
            "adapter": false,
            "instance_id": "068b3451-e87b-4913-b44e-9031eef75b69",
            "name": "inputData"
           }
          },
          {
           "id": "6b9c2b7b-98c2-413d-a32f-46ab67b87591",
           "source": {
            "adapter": false,
            "instance_id": "3ad00500-7e24-4b1f-9ab9-9e48dbe09965",
            "name": "outputData"
           },
           "target": {
            "adapter": false,
            "instance_id": "d198726e-0138-4caf-ae0b-dfcaf8f6352a",
            "name": "inputData_1"
           }
          },
          {
           "id": "2dcae156-c156-41db-974e-0eca4c82c9e9",
           "source": {
            "adapter": false,
            "instance_id": "eaf8b059-b2e4-4ab6-9657-2b013a19b072",
            "name": "op_path"
           },
           "target": {
            "adapter": false,
            "instance_id": "53ed3d13-384c-400f-a93c-eb129b111d64",
            "name": "filename"
           }
          },
          {
           "id": "3b27d403-1942-4930-942e-b3ff4c8bbb66",
           "source": {
            "adapter": false,
            "instance_id": "53ed3d13-384c-400f-a93c-eb129b111d64",
            "name": "data"
           },
           "target": {
            "adapter": false,
            "instance_id": "3ad00500-7e24-4b1f-9ab9-9e48dbe09965",
            "name": "inputData"
           }
          },
          {
           "id": "11cc572e-2bab-416f-bc79-5154974c3281",
           "source": {
            "adapter": false,
            "instance_id": "54ba267e-21f0-48fe-a80c-0574f5d102ae",
            "name": "selected_cols"
           },
           "target": {
            "adapter": false,
            "instance_id": "3ad00500-7e24-4b1f-9ab9-9e48dbe09965",
            "name": "wanted_cols"
           }
          },
          {
           "id": "4fa7f8fa-4ad7-4097-884e-4986e76a668c",
           "source": {
            "adapter": false,
            "instance_id": "296d3c96-7b9d-461c-b687-26a54e7b1e4e",
            "name": "selected_cols"
           },
           "target": {
            "adapter": false,
            "instance_id": "068b3451-e87b-4913-b44e-9031eef75b69",
            "name": "wanted_cols"
           }
          },
          {
           "id": "d26269a6-0a91-4260-9bb2-5c6757b2657d",
           "source": {
            "adapter": false,
            "instance_id": "a1bcb889-3880-4b54-885c-6511331b07bf",
            "name": "outputData"
           },
           "target": {
            "adapter": false,
            "instance_id": "d198726e-0138-4caf-ae0b-dfcaf8f6352a",
            "name": "inputData_2"
           }
          }
         ],
         "end": 1616561453.7163212,
         "id": "37071f3a-e69e-4eb6-bc8e-a5520a54770b",
         "instances": [
          {
           "block_class": "4b47e7b4-b82b-4abe-ac6a-28c3d3f2c885",
           "id": "d198726e-0138-4caf-ae0b-dfcaf8f6352a",
           "name": "ConcatData_1",
           "var_names": [
            "cd"
           ]
          },
          {
           "block_class": "792edcbd-f580-4922-bea6-c09011ab3bab",
           "id": "3ad00500-7e24-4b1f-9ab9-9e48dbe09965",
           "name": "SelectData_1",
           "var_names": [
            "sd"
           ]
          },
          {
           "block_class": "01cd185d-f94f-4af8-9858-2b8cda3a679b",
           "id": "54ba267e-21f0-48fe-a80c-0574f5d102ae",
           "name": "NonSparkCols_1",
           "var_names": [
            "nsc"
           ]
          },
          {
           "block_class": "8d99651b-a784-4535-aea1-4ad8aefb8d45",
           "id": "53ed3d13-384c-400f-a93c-eb129b111d64",
           "name": "ReadCsvProjectSpace_1",
           "var_names": [
            "rcp"
           ]
          },
          {
           "block_class": "96da6e0e-aeb1-4eba-b396-b46484e24473",
           "id": "eaf8b059-b2e4-4ab6-9657-2b013a19b072",
           "name": "NonSparkPath_1",
           "var_names": [
            "nsp"
           ]
          },
          {
           "block_class": "b3fbdac1-461a-49f7-b295-ccfd77087be3",
           "id": "a1bcb889-3880-4b54-885c-6511331b07bf",
           "name": "RenameCol_1",
           "var_names": [
            "rc"
           ]
          },
          {
           "block_class": "792edcbd-f580-4922-bea6-c09011ab3bab",
           "id": "068b3451-e87b-4913-b44e-9031eef75b69",
           "name": "SelectData_2",
           "var_names": [
            "sd1"
           ]
          },
          {
           "block_class": "01cd185d-f94f-4af8-9858-2b8cda3a679b",
           "id": "296d3c96-7b9d-461c-b687-26a54e7b1e4e",
           "name": "NonSparkCols_2",
           "var_names": [
            "nsc1"
           ]
          },
          {
           "block_class": "8d99651b-a784-4535-aea1-4ad8aefb8d45",
           "id": "5c3f9916-6fff-418c-a52d-21216c6073f2",
           "name": "ReadCsvProjectSpace_2",
           "var_names": [
            "rcp1"
           ]
          },
          {
           "block_class": "96da6e0e-aeb1-4eba-b396-b46484e24473",
           "id": "26111c4f-4a51-40e4-b323-7116b5fd9406",
           "name": "NonSparkPath_2",
           "var_names": [
            "nsp1"
           ]
          }
         ],
         "log_level": 20,
         "name": "Pipeline_1",
         "start": 1616561441.0542922,
         "status": "SUCCESS",
         "system_logs": false,
         "var_names": []
        },
        "metrics": {},
        "runtime": {
         "ConcatData_1": {
          "end": 1616561453.7110655,
          "load": 1616561441.4048011,
          "start": 1616561441.4201045
         },
         "NonSparkCols_1": {
          "end": 1616561441.7972958,
          "load": 1616561441.055712,
          "start": 1616561441.0625854
         },
         "NonSparkCols_2": {
          "end": 1616561441.8000934,
          "load": 1616561441.0748055,
          "start": 1616561441.0813227
         },
         "NonSparkPath_1": {
          "end": 1616561441.7927706,
          "load": 1616561441.0651975,
          "start": 1616561441.072189
         },
         "NonSparkPath_2": {
          "end": 1616561442.0218253,
          "load": 1616561441.083969,
          "start": 1616561441.0908694
         },
         "ReadCsvProjectSpace_1": {
          "end": 1616561452.6481125,
          "load": 1616561441.4048011,
          "start": 1616561441.4201045
         },
         "ReadCsvProjectSpace_2": {
          "end": 1616561452.553569,
          "load": 1616561441.4048011,
          "start": 1616561441.4201045
         },
         "RenameCol_1": {
          "end": 1616561453.122724,
          "load": 1616561441.4048011,
          "start": 1616561441.4201045
         },
         "SelectData_1": {
          "end": 1616561453.0739238,
          "load": 1616561441.4048011,
          "start": 1616561441.4201045
         },
         "SelectData_2": {
          "end": 1616561453.061356,
          "load": 1616561441.4048011,
          "start": 1616561441.4201045
         }
        }
       },
       "store_in_notebook": true
      }
     },
     "output_type": "display_data"
    },
    {
     "name": "stdout",
     "output_type": "stream",
     "text": [
      "+--------------------+--------------------+\n",
      "|               title|               label|\n",
      "+--------------------+--------------------+\n",
      "|                null|                null|\n",
      "| the same newspap...|                null|\n",
      "|         \"\" it read.|                null|\n",
      "|                null|                null|\n",
      "|                null|                null|\n",
      "|                null|                null|\n",
      "|                null|                null|\n",
      "|                null|                null|\n",
      "|                null|                null|\n",
      "|                null|                null|\n",
      "|                null|                null|\n",
      "|                null|                null|\n",
      "|                null|                null|\n",
      "|                null|                null|\n",
      "| in Scotland Reut...| Bedfordshire. He...|\n",
      "|                null|                null|\n",
      "|           and Lance|                null|\n",
      "| a film based on ...|Tom Daley,Dustin ...|\n",
      "|                null|                null|\n",
      "| thus the series’...|                null|\n",
      "+--------------------+--------------------+\n",
      "only showing top 20 rows\n",
      "\n"
     ]
    },
    {
     "data": {
      "text/plain": [
       "{}"
      ]
     },
     "execution_count": 9,
     "metadata": {},
     "output_type": "execute_result"
    }
   ],
   "source": [
    "pipe.execute()"
   ]
  },
  {
   "cell_type": "code",
   "execution_count": null,
   "id": "numerical-level",
   "metadata": {},
   "outputs": [],
   "source": []
  },
  {
   "cell_type": "code",
   "execution_count": null,
   "id": "apart-keyboard",
   "metadata": {},
   "outputs": [],
   "source": []
  },
  {
   "cell_type": "code",
   "execution_count": null,
   "id": "hawaiian-perception",
   "metadata": {},
   "outputs": [],
   "source": []
  }
 ],
 "metadata": {
  "kernelspec": {
   "display_name": "Python 3",
   "language": "python",
   "name": "python3"
  },
  "language_info": {
   "codemirror_mode": {
    "name": "ipython",
    "version": 3
   },
   "file_extension": ".py",
   "mimetype": "text/x-python",
   "name": "python",
   "nbconvert_exporter": "python",
   "pygments_lexer": "ipython3",
   "version": "3.7.10"
  }
 },
 "nbformat": 4,
 "nbformat_minor": 5
}
