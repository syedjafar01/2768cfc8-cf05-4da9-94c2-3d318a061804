{
 "cells": [
  {
   "cell_type": "code",
   "execution_count": 31,
   "id": "ambient-arcade",
   "metadata": {},
   "outputs": [],
   "source": [
    "from razor.api.core import BlockScope\n",
    "from razor.api import blocks\n",
    "import logging\n",
    "\n",
    "logging.basicConfig()\n",
    "logging.getLogger().setLevel(logging.INFO)\n"
   ]
  },
  {
   "cell_type": "code",
   "execution_count": 32,
   "id": "narrative-islam",
   "metadata": {},
   "outputs": [
    {
     "name": "stderr",
     "output_type": "stream",
     "text": [
      "INFO:razor.api.core.block_manager:Block bundle initialized successfully. Please refer ayan_spark_blocks_clone/package.yaml to verify/update package.yaml further.\n"
     ]
    }
   ],
   "source": [
    "blocks.init_bundle(bundle=\"ayan_spark_blocks_clone\", category=\"AyanSpark\")"
   ]
  },
  {
   "cell_type": "code",
   "execution_count": 33,
   "id": "acquired-junior",
   "metadata": {},
   "outputs": [
    {
     "name": "stderr",
     "output_type": "stream",
     "text": [
      "INFO:razor.api.impl.block_manager_impl:Packaging requested block bundle...\n",
      "INFO:razor.api.impl.block_manager_impl:Publishing block bundle...\n",
      "INFO:razor.api.impl.block_manager_impl:Block bundle `ayan_spark_blocks_clone` updated successfully.\n",
      "INFO:razor.api.impl.block_manager_impl:Make sure to restart the Jupyter kernel and then you can use the blocks as follows:\n",
      "INFO:razor.api.impl.block_manager_impl:from razor.project.blocks.ayan_spark_blocks_clone import TranCityTS\n",
      "INFO:razor.api.impl.block_manager_impl:from razor.project.blocks.ayan_spark_blocks_clone import NonSparkPath\n",
      "INFO:razor.api.impl.block_manager_impl:from razor.project.blocks.ayan_spark_blocks_clone import ProdTypeTS\n",
      "INFO:razor.api.impl.block_manager_impl:from razor.project.blocks.ayan_spark_blocks_clone import CustMercTS\n",
      "INFO:razor.api.impl.block_manager_impl:from razor.project.blocks.ayan_spark_blocks_clone import MercStatic\n",
      "INFO:razor.api.impl.block_manager_impl:from razor.project.blocks.ayan_spark_blocks_clone import CustStatic\n",
      "INFO:razor.api.impl.block_manager_impl:from razor.project.blocks.ayan_spark_blocks_clone import DropDuplicates\n",
      "INFO:razor.api.impl.block_manager_impl:from razor.project.blocks.ayan_spark_blocks_clone import ReadCsvProjectSpace\n",
      "INFO:razor.api.impl.block_manager_impl:from razor.project.blocks.ayan_spark_blocks_clone import TranTypeTS\n"
     ]
    }
   ],
   "source": [
    "blocks.publish(bundle=\"ayan_spark_blocks_clone\", scope=BlockScope.PROJECT, overwrite=True)"
   ]
  },
  {
   "cell_type": "code",
   "execution_count": null,
   "id": "likely-teaching",
   "metadata": {},
   "outputs": [],
   "source": []
  },
  {
   "cell_type": "code",
   "execution_count": null,
   "id": "determined-worship",
   "metadata": {},
   "outputs": [],
   "source": []
  }
 ],
 "metadata": {
  "kernelspec": {
   "display_name": "Python 3",
   "language": "python",
   "name": "python3"
  },
  "language_info": {
   "codemirror_mode": {
    "name": "ipython",
    "version": 3
   },
   "file_extension": ".py",
   "mimetype": "text/x-python",
   "name": "python",
   "nbconvert_exporter": "python",
   "pygments_lexer": "ipython3",
   "version": "3.7.10"
  }
 },
 "nbformat": 4,
 "nbformat_minor": 5
}
