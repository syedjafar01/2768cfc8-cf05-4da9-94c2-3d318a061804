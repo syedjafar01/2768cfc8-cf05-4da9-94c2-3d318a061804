{
 "cells": [
  {
   "cell_type": "code",
   "execution_count": 1,
   "id": "posted-opinion",
   "metadata": {},
   "outputs": [],
   "source": [
    "from razor.api.core import BlockScope\n",
    "from razor.api import blocks\n",
    "import logging\n",
    "\n",
    "logging.basicConfig()\n",
    "logging.getLogger().setLevel(logging.INFO)\n"
   ]
  },
  {
   "cell_type": "code",
   "execution_count": 2,
   "id": "indoor-bonus",
   "metadata": {},
   "outputs": [
    {
     "name": "stderr",
     "output_type": "stream",
     "text": [
      "INFO:razor.api.core.block_manager:Block bundle initialized successfully. Please refer ayan_spark_blocks/package.yaml to verify/update package.yaml further.\n"
     ]
    }
   ],
   "source": [
    "blocks.init_bundle(bundle=\"ayan_spark_blocks\", category=\"AyanSpark\")"
   ]
  },
  {
   "cell_type": "code",
   "execution_count": 3,
   "id": "lonely-petroleum",
   "metadata": {},
   "outputs": [
    {
     "name": "stderr",
     "output_type": "stream",
     "text": [
      "INFO:razor.api.impl.block_manager_impl:Packaging requested block bundle...\n",
      "INFO:razor.api.impl.block_manager_impl:Publishing block bundle...\n",
      "INFO:razor.api.impl.block_manager_impl:Block bundle `ayan_spark_blocks` updated successfully.\n",
      "INFO:razor.api.impl.block_manager_impl:Make sure to restart the Jupyter kernel and then you can use the blocks as follows:\n",
      "INFO:razor.api.impl.block_manager_impl:from razor.project.blocks.ayan_spark_blocks import DropDuplicates\n",
      "INFO:razor.api.impl.block_manager_impl:from razor.project.blocks.ayan_spark_blocks import SparkConcat\n",
      "INFO:razor.api.impl.block_manager_impl:from razor.project.blocks.ayan_spark_blocks import CustMercTS\n",
      "INFO:razor.api.impl.block_manager_impl:from razor.project.blocks.ayan_spark_blocks import TranCityTS\n",
      "INFO:razor.api.impl.block_manager_impl:from razor.project.blocks.ayan_spark_blocks import TranTypeTS\n",
      "INFO:razor.api.impl.block_manager_impl:from razor.project.blocks.ayan_spark_blocks import ProdTypeTS\n",
      "INFO:razor.api.impl.block_manager_impl:from razor.project.blocks.ayan_spark_blocks import CustStatic\n",
      "INFO:razor.api.impl.block_manager_impl:from razor.project.blocks.ayan_spark_blocks import MercStatic\n",
      "INFO:razor.api.impl.block_manager_impl:from razor.project.blocks.ayan_spark_blocks import ReadCsvProjectSpace\n",
      "INFO:razor.api.impl.block_manager_impl:from razor.project.blocks.ayan_spark_blocks import NonSparkPath\n"
     ]
    }
   ],
   "source": [
    "blocks.publish(bundle=\"ayan_spark_blocks\", scope=BlockScope.PROJECT, overwrite=True)"
   ]
  },
  {
   "cell_type": "code",
   "execution_count": null,
   "id": "accessible-export",
   "metadata": {},
   "outputs": [],
   "source": []
  },
  {
   "cell_type": "code",
   "execution_count": null,
   "id": "interpreted-latter",
   "metadata": {},
   "outputs": [],
   "source": []
  }
 ],
 "metadata": {
  "kernelspec": {
   "display_name": "Python 3",
   "language": "python",
   "name": "python3"
  },
  "language_info": {
   "codemirror_mode": {
    "name": "ipython",
    "version": 3
   },
   "file_extension": ".py",
   "mimetype": "text/x-python",
   "name": "python",
   "nbconvert_exporter": "python",
   "pygments_lexer": "ipython3",
   "version": "3.7.10"
  }
 },
 "nbformat": 4,
 "nbformat_minor": 5
}
