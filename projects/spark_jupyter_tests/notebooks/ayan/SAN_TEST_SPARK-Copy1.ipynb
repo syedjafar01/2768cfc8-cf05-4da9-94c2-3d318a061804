{
 "cells": [
  {
   "cell_type": "code",
   "execution_count": 1,
   "id": "orange-friendly",
   "metadata": {},
   "outputs": [],
   "source": [
    "import razor\n",
    "import razor.flow as rf\n",
    "from razor import api\n",
    "from razor.flow.spark import SparkBlock, SparkExecutor"
   ]
  },
  {
   "cell_type": "code",
   "execution_count": 2,
   "id": "leading-princess",
   "metadata": {},
   "outputs": [],
   "source": [
    "import os\n",
    "from datetime import datetime, timedelta\n",
    "from pyspark.sql import SparkSession, functions\n",
    "from pyspark.sql.dataframe import DataFrame\n",
    "from datetime import datetime, timedelta\n",
    "from dateutil.relativedelta import relativedelta\n",
    "from pyspark.sql.types import IntegerType, DateType, ArrayType, StringType, FloatType, TimestampType\n"
   ]
  },
  {
   "cell_type": "code",
   "execution_count": 13,
   "id": "noticed-paragraph",
   "metadata": {},
   "outputs": [
    {
     "data": {
      "text/plain": [
       "'project.blocks.ayan_spark_blocks_clone.blocks'"
      ]
     },
     "execution_count": 13,
     "metadata": {},
     "output_type": "execute_result"
    }
   ],
   "source": [
    "MercStatic.run.__module__"
   ]
  },
  {
   "cell_type": "code",
   "execution_count": 4,
   "id": "unique-atlas",
   "metadata": {},
   "outputs": [],
   "source": [
    "from project.blocks.ayan_spark_blocks_clone import MercStatic\n",
    "from project.blocks.ayan_spark_blocks_clone import MercStatic\n",
    "from project.blocks.ayan_spark_blocks_clone import ReadCsvProjectSpace\n",
    "from project.blocks.ayan_spark_blocks_clone import TranCityTS\n",
    "from project.blocks.ayan_spark_blocks_clone import TranTypeTS\n",
    "from project.blocks.ayan_spark_blocks_clone import NonSparkPath\n",
    "from project.blocks.ayan_spark_blocks_clone import CustStatic\n",
    "from project.blocks.ayan_spark_blocks_clone import ProdTypeTS\n",
    "from project.blocks.ayan_spark_blocks_clone import CustMercTS\n",
    "from project.blocks.ayan_spark_blocks_clone import DropDuplicates"
   ]
  },
  {
   "cell_type": "code",
   "execution_count": 4,
   "id": "laughing-civilian",
   "metadata": {},
   "outputs": [],
   "source": [
    "# from pyspark import SparkContext\n",
    "#sc = SparkContext(\"local\", \"First App\")\n",
    "\n",
    "\n",
    "# from pyspark.sql import SparkSession\n",
    "# from pyspark import SparkConf\n",
    "\n",
    "# session = SparkSession.builder.appName(\"SAN\")\n",
    "# session.getOrCreate()"
   ]
  },
  {
   "cell_type": "code",
   "execution_count": 5,
   "id": "excessive-brave",
   "metadata": {},
   "outputs": [],
   "source": [
    "def project_space_path(path):\n",
    "    ps = api.datasources('Project Space')\n",
    "    return os.path.join(ps.abspath(), path)\n"
   ]
  },
  {
   "cell_type": "code",
   "execution_count": 5,
   "id": "ultimate-kinase",
   "metadata": {},
   "outputs": [],
   "source": [
    "nsp = NonSparkPath(ip_path='customer_data.csv')"
   ]
  },
  {
   "cell_type": "code",
   "execution_count": 6,
   "id": "functional-fraud",
   "metadata": {},
   "outputs": [
    {
     "data": {
      "text/plain": [
       "{'op_path': '/home/aios/projectspace/customer_data.csv'}"
      ]
     },
     "execution_count": 6,
     "metadata": {},
     "output_type": "execute_result"
    }
   ],
   "source": [
    "nsp.execute()"
   ]
  },
  {
   "cell_type": "code",
   "execution_count": 8,
   "id": "electoral-taste",
   "metadata": {},
   "outputs": [],
   "source": [
    "rcp = ReadCsvProjectSpace(filename = '/home/aios/projectspace/customer_data.csv', config={}, source=\"\")\n",
    "# rcp.executor = SparkExecutor"
   ]
  },
  {
   "cell_type": "code",
   "execution_count": 9,
   "id": "growing-rebound",
   "metadata": {},
   "outputs": [],
   "source": [
    "rcp.execute()"
   ]
  },
  {
   "cell_type": "code",
   "execution_count": 8,
   "id": "antique-berry",
   "metadata": {},
   "outputs": [],
   "source": [
    "cm_ts = CustMercTS(ip_data = rcp.data, config={}, source=\"\")\n",
    "cm_ts.executor = SparkExecutor"
   ]
  },
  {
   "cell_type": "code",
   "execution_count": 15,
   "id": "played-sight",
   "metadata": {},
   "outputs": [],
   "source": [
    "pipe = rf.Pipeline('temp_from_jupyter', targets = [cm_ts])"
   ]
  },
  {
   "cell_type": "code",
   "execution_count": 16,
   "id": "southwest-particular",
   "metadata": {},
   "outputs": [
    {
     "data": {
      "application/vnd.razorthink.interactive+pipeline+view+json": {
       "blocks": [
        {
         "class_name": "CustMercTS",
         "fullname": "razor.project.blocks.ayan_spark_blocks_clone.CustMercTS",
         "id": "82b6026f-eeee-4a6d-b035-a31e8fb4c089",
         "inputs": [
          {
           "dataType": null,
           "default": null,
           "flow": "atomic",
           "help": null,
           "isdict": false,
           "islist": false,
           "label": "ip_data",
           "meta": {},
           "name": "ip_data",
           "series": false,
           "type": "DataFrame",
           "type_check": true
          },
          {
           "dataType": "dict",
           "default": {},
           "flow": "atomic",
           "help": null,
           "isdict": false,
           "islist": false,
           "label": "config",
           "meta": {},
           "name": "config",
           "series": false,
           "type": "dict",
           "type_check": true
          },
          {
           "dataType": "string",
           "default": "",
           "flow": "atomic",
           "help": null,
           "isdict": false,
           "islist": false,
           "label": "source",
           "meta": {},
           "name": "source",
           "series": false,
           "type": "str",
           "type_check": true
          }
         ],
         "outputs": [
          {
           "flow": "atomic",
           "help": null,
           "label": "customer_ts",
           "meta": {},
           "name": "customer_ts",
           "series": false,
           "type": "DataFrame",
           "type_check": true
          },
          {
           "flow": "atomic",
           "help": null,
           "label": "merchant_ts",
           "meta": {},
           "name": "merchant_ts",
           "series": false,
           "type": "DataFrame",
           "type_check": true
          }
         ],
         "overwritten": false,
         "published": true,
         "var_names": [
          "CustMercTS"
         ]
        },
        {
         "class_name": "ReadCsvProjectSpace",
         "fullname": "razor.project.blocks.ayan_spark_blocks_clone.ReadCsvProjectSpace",
         "id": "7c71273a-e9d9-4577-bc4d-97a9d5c7f029",
         "inputs": [
          {
           "dataType": "string",
           "default": "",
           "flow": "atomic",
           "help": null,
           "isdict": false,
           "islist": false,
           "label": "filename",
           "meta": {},
           "name": "filename",
           "series": false,
           "type": "str",
           "type_check": true
          },
          {
           "dataType": "dict",
           "default": {},
           "flow": "atomic",
           "help": null,
           "isdict": false,
           "islist": false,
           "label": "config",
           "meta": {},
           "name": "config",
           "series": false,
           "type": "dict",
           "type_check": true
          },
          {
           "dataType": "string",
           "default": "",
           "flow": "atomic",
           "help": null,
           "isdict": false,
           "islist": false,
           "label": "source",
           "meta": {},
           "name": "source",
           "series": false,
           "type": "str",
           "type_check": true
          }
         ],
         "outputs": [
          {
           "flow": "atomic",
           "help": null,
           "label": "data",
           "meta": {},
           "name": "data",
           "series": false,
           "type": "DataFrame",
           "type_check": true
          }
         ],
         "overwritten": false,
         "published": true,
         "var_names": [
          "ReadCsvProjectSpace"
         ]
        },
        {
         "class_name": "NonSparkPath",
         "fullname": "razor.project.blocks.ayan_spark_blocks_clone.NonSparkPath",
         "id": "dc356ac2-272c-4010-bac0-f69ffe219bfb",
         "inputs": [
          {
           "dataType": "string",
           "default": "",
           "flow": "atomic",
           "help": null,
           "isdict": false,
           "islist": false,
           "label": "ip_path",
           "meta": {},
           "name": "ip_path",
           "series": false,
           "type": "str",
           "type_check": true
          }
         ],
         "outputs": [
          {
           "flow": "atomic",
           "help": null,
           "label": "op_path",
           "meta": {},
           "name": "op_path",
           "series": false,
           "type": "str",
           "type_check": true
          }
         ],
         "overwritten": false,
         "published": true,
         "var_names": [
          "NonSparkPath"
         ]
        }
       ],
       "connections": [
        {
         "id": "73c74288-f0f1-4cdc-9798-d78741a450b7",
         "source": {
          "adapter": false,
          "instance_id": "c8fe6892-0fa7-4bf1-a489-40e7dffd2a62",
          "name": "data"
         },
         "target": {
          "adapter": false,
          "instance_id": "42373694-fb30-4792-9c7e-b7acfcdb87a4",
          "name": "ip_data"
         }
        },
        {
         "id": "052f5804-32de-4ce6-8e83-27123af7c00a",
         "source": {
          "adapter": false,
          "instance_id": "1f8c57da-2572-48a2-a4bf-0922a4d02c0b",
          "name": "op_path"
         },
         "target": {
          "adapter": false,
          "instance_id": "c8fe6892-0fa7-4bf1-a489-40e7dffd2a62",
          "name": "filename"
         }
        }
       ],
       "id": "0bc7b458-48e1-4419-a546-3e581da27d76",
       "instances": [
        {
         "block_class": "82b6026f-eeee-4a6d-b035-a31e8fb4c089",
         "id": "42373694-fb30-4792-9c7e-b7acfcdb87a4",
         "name": "CustMercTS_1",
         "var_names": [
          "cm_ts"
         ]
        },
        {
         "block_class": "7c71273a-e9d9-4577-bc4d-97a9d5c7f029",
         "id": "c8fe6892-0fa7-4bf1-a489-40e7dffd2a62",
         "name": "ReadCsvProjectSpace_1",
         "var_names": [
          "rcp"
         ]
        },
        {
         "block_class": "dc356ac2-272c-4010-bac0-f69ffe219bfb",
         "id": "1f8c57da-2572-48a2-a4bf-0922a4d02c0b",
         "name": "NonSparkPath_1",
         "var_names": [
          "nsp"
         ]
        }
       ],
       "name": "temp_from_jupyter",
       "var_names": []
      },
      "image/svg+xml": [
       "<?xml version=\"1.0\" encoding=\"UTF-8\" standalone=\"no\"?>\n",
       "<!DOCTYPE svg PUBLIC \"-//W3C//DTD SVG 1.1//EN\"\n",
       " \"http://www.w3.org/Graphics/SVG/1.1/DTD/svg11.dtd\">\n",
       "<!-- Generated by graphviz version 2.43.0 (0)\n",
       " -->\n",
       "<!-- Title: %3 Pages: 1 -->\n",
       "<svg width=\"306pt\" height=\"210pt\"\n",
       " viewBox=\"0.00 0.00 305.86 210.00\" xmlns=\"http://www.w3.org/2000/svg\" xmlns:xlink=\"http://www.w3.org/1999/xlink\">\n",
       "<g id=\"graph0\" class=\"graph\" transform=\"scale(1 1) rotate(0) translate(4 206)\">\n",
       "<title>%3</title>\n",
       "<polygon fill=\"white\" stroke=\"transparent\" points=\"-4,4 -4,-206 301.86,-206 301.86,4 -4,4\"/>\n",
       "<!-- CustMercTS(&#39;CustMercTS_1&#39;) -->\n",
       "<g id=\"node1\" class=\"node\">\n",
       "<title>CustMercTS(&#39;CustMercTS_1&#39;)</title>\n",
       "<ellipse fill=\"none\" stroke=\"black\" cx=\"148.93\" cy=\"-18\" rx=\"92.34\" ry=\"18\"/>\n",
       "<text text-anchor=\"middle\" x=\"148.93\" y=\"-15.5\" font-family=\"Helvetica,sans-Serif\" font-size=\"10.00\">CustMercTS(&#39;CustMercTS_1&#39;)</text>\n",
       "</g>\n",
       "<!-- ReadCsvProjectSpace(&#39;ReadCsvProjectSpace_1&#39;) -->\n",
       "<g id=\"node2\" class=\"node\">\n",
       "<title>ReadCsvProjectSpace(&#39;ReadCsvProjectSpace_1&#39;)</title>\n",
       "<ellipse fill=\"none\" stroke=\"black\" cx=\"148.93\" cy=\"-101\" rx=\"148.86\" ry=\"18\"/>\n",
       "<text text-anchor=\"middle\" x=\"148.93\" y=\"-98.5\" font-family=\"Helvetica,sans-Serif\" font-size=\"10.00\">ReadCsvProjectSpace(&#39;ReadCsvProjectSpace_1&#39;)</text>\n",
       "</g>\n",
       "<!-- ReadCsvProjectSpace(&#39;ReadCsvProjectSpace_1&#39;)&#45;&gt;CustMercTS(&#39;CustMercTS_1&#39;) -->\n",
       "<g id=\"edge1\" class=\"edge\">\n",
       "<title>ReadCsvProjectSpace(&#39;ReadCsvProjectSpace_1&#39;)&#45;&gt;CustMercTS(&#39;CustMercTS_1&#39;)</title>\n",
       "<path fill=\"none\" stroke=\"black\" d=\"M148.93,-82.82C148.93,-72.19 148.93,-58.31 148.93,-46.2\"/>\n",
       "<polygon fill=\"black\" stroke=\"black\" points=\"152.43,-46.15 148.93,-36.15 145.43,-46.15 152.43,-46.15\"/>\n",
       "<text text-anchor=\"middle\" x=\"183.93\" y=\"-57\" font-family=\"Helvetica,sans-Serif\" font-size=\"10.00\">data&#45;&gt;ip_data</text>\n",
       "</g>\n",
       "<!-- NonSparkPath(&#39;NonSparkPath_1&#39;) -->\n",
       "<g id=\"node3\" class=\"node\">\n",
       "<title>NonSparkPath(&#39;NonSparkPath_1&#39;)</title>\n",
       "<ellipse fill=\"none\" stroke=\"black\" cx=\"148.93\" cy=\"-184\" rx=\"104.56\" ry=\"18\"/>\n",
       "<text text-anchor=\"middle\" x=\"148.93\" y=\"-181.5\" font-family=\"Helvetica,sans-Serif\" font-size=\"10.00\">NonSparkPath(&#39;NonSparkPath_1&#39;)</text>\n",
       "</g>\n",
       "<!-- NonSparkPath(&#39;NonSparkPath_1&#39;)&#45;&gt;ReadCsvProjectSpace(&#39;ReadCsvProjectSpace_1&#39;) -->\n",
       "<g id=\"edge2\" class=\"edge\">\n",
       "<title>NonSparkPath(&#39;NonSparkPath_1&#39;)&#45;&gt;ReadCsvProjectSpace(&#39;ReadCsvProjectSpace_1&#39;)</title>\n",
       "<path fill=\"none\" stroke=\"black\" d=\"M148.93,-165.82C148.93,-155.19 148.93,-141.31 148.93,-129.2\"/>\n",
       "<polygon fill=\"black\" stroke=\"black\" points=\"152.43,-129.15 148.93,-119.15 145.43,-129.15 152.43,-129.15\"/>\n",
       "<text text-anchor=\"middle\" x=\"195.93\" y=\"-140\" font-family=\"Helvetica,sans-Serif\" font-size=\"10.00\">op_path&#45;&gt;filename</text>\n",
       "</g>\n",
       "</g>\n",
       "</svg>\n"
      ],
      "text/plain": [
       "<razor.flow.async_pipeline.Pipeline at 0x7fcfc059da50>"
      ]
     },
     "execution_count": 16,
     "metadata": {},
     "output_type": "execute_result"
    }
   ],
   "source": [
    "pipe"
   ]
  },
  {
   "cell_type": "code",
   "execution_count": 11,
   "id": "amino-triumph",
   "metadata": {},
   "outputs": [],
   "source": [
    "import os\n",
    "#os.environ\n",
    "os.environ[\"PYTHONPATH\"] = \"/usr/local/bin/python:/home/aios/published-packages/\""
   ]
  },
  {
   "cell_type": "code",
   "execution_count": 12,
   "id": "dress-newport",
   "metadata": {},
   "outputs": [
    {
     "name": "stdout",
     "output_type": "stream",
     "text": [
      "log path: /tmp/tmpj3cen0vh/temp\n"
     ]
    },
    {
     "data": {
      "application/vnd.razorthink.run+monitor+json": "/tmp/tmpj3cen0vh/temp",
      "text/plain": [
       "<razor_tools.backend.ipython.mime.run_monitor.RunMonitor at 0x7fcfc067d950>"
      ]
     },
     "metadata": {
      "application/vnd.razorthink.run+monitor+json": {
       "run_data": {
        "apm": [
         {
          "cpu_percent": 0,
          "cpu_time": 0.01,
          "name": "NonSparkPath_1",
          "real_mem": 155783168,
          "time": 1616654907.5874324
         },
         {
          "cpu_percent": 0,
          "cpu_time": 0.02,
          "name": "NonSparkPath_1",
          "real_mem": 156131328,
          "time": 1616654907.6995697
         },
         {
          "cpu_percent": 0,
          "cpu_time": 0.05,
          "name": "NonSparkPath_1",
          "real_mem": 156504064,
          "time": 1616654907.811332
         },
         {
          "cpu_percent": 0,
          "cpu_time": 0.01,
          "name": "CustMercTS_1",
          "real_mem": 156086272,
          "time": 1616654907.8722577
         },
         {
          "cpu_percent": 0,
          "cpu_time": 0,
          "name": "ReadCsvProjectSpace_1",
          "real_mem": 155996160,
          "time": 1616654907.8451288
         },
         {
          "cpu_percent": 98.2,
          "cpu_time": 0.1,
          "name": "ReadCsvProjectSpace_1",
          "real_mem": 184287232,
          "time": 1616654907.9898689
         },
         {
          "cpu_percent": 196.9,
          "cpu_time": 0.15,
          "name": "CustMercTS_1",
          "real_mem": 187609088,
          "time": 1616654908.0332828
         },
         {
          "cpu_percent": 98.5,
          "cpu_time": 0.28,
          "name": "ReadCsvProjectSpace_1",
          "real_mem": 208936960,
          "time": 1616654908.1343288
         },
         {
          "cpu_percent": 197,
          "cpu_time": 0.36,
          "name": "CustMercTS_1",
          "real_mem": 213196800,
          "time": 1616654908.177296
         },
         {
          "cpu_percent": 196.4,
          "cpu_time": 0.15000000000000002,
          "name": "ReadCsvProjectSpace_1",
          "real_mem": 179224576,
          "time": 1616654908.2572958
         },
         {
          "cpu_percent": 98.6,
          "cpu_time": 0.21000000000000002,
          "name": "CustMercTS_1",
          "real_mem": 187543552,
          "time": 1616654908.2998147
         },
         {
          "cpu_percent": 196.2,
          "cpu_time": 0.37,
          "name": "ReadCsvProjectSpace_1",
          "real_mem": 211398656,
          "time": 1616654908.380896
         },
         {
          "cpu_percent": 195,
          "cpu_time": 0.45,
          "name": "CustMercTS_1",
          "real_mem": 215785472,
          "time": 1616654908.4229903
         },
         {
          "cpu_percent": 98.5,
          "cpu_time": 0.5900000000000001,
          "name": "ReadCsvProjectSpace_1",
          "real_mem": 224505856,
          "time": 1616654908.5036507
         },
         {
          "cpu_percent": 0,
          "cpu_time": 0.6499999999999999,
          "name": "CustMercTS_1",
          "real_mem": 228012032,
          "time": 1616654908.5454853
         },
         {
          "cpu_percent": 98.3,
          "cpu_time": 0.75,
          "name": "ReadCsvProjectSpace_1",
          "real_mem": 237375488,
          "time": 1616654908.6270897
         },
         {
          "cpu_percent": 293.8,
          "cpu_time": 0.8400000000000001,
          "name": "CustMercTS_1",
          "real_mem": 238178304,
          "time": 1616654908.6690543
         },
         {
          "cpu_percent": 96.2,
          "cpu_time": 0.97,
          "name": "ReadCsvProjectSpace_1",
          "real_mem": 242536448,
          "time": 1616654908.7499819
         },
         {
          "cpu_percent": 98.5,
          "cpu_time": 1.01,
          "name": "CustMercTS_1",
          "real_mem": 242946048,
          "time": 1616654908.7917697
         },
         {
          "cpu_percent": 98.4,
          "cpu_time": 1.1400000000000001,
          "name": "ReadCsvProjectSpace_1",
          "real_mem": 243658752,
          "time": 1616654908.8726468
         },
         {
          "cpu_percent": 295.8,
          "cpu_time": 1.2000000000000002,
          "name": "CustMercTS_1",
          "real_mem": 244383744,
          "time": 1616654908.9146612
         },
         {
          "cpu_percent": 196.7,
          "cpu_time": 1.35,
          "name": "ReadCsvProjectSpace_1",
          "real_mem": 248721408,
          "time": 1616654908.9954317
         },
         {
          "cpu_percent": 98.5,
          "cpu_time": 1.4300000000000002,
          "name": "CustMercTS_1",
          "real_mem": 250208256,
          "time": 1616654909.0372112
         },
         {
          "cpu_percent": 196.2,
          "cpu_time": 1.54,
          "name": "ReadCsvProjectSpace_1",
          "real_mem": 267476992,
          "time": 1616654909.1178827
         },
         {
          "cpu_percent": 97.9,
          "cpu_time": 1.61,
          "name": "CustMercTS_1",
          "real_mem": 270176256,
          "time": 1616654909.1599414
         },
         {
          "cpu_percent": 98.7,
          "cpu_time": 1.75,
          "name": "ReadCsvProjectSpace_1",
          "real_mem": 279347200,
          "time": 1616654909.2406526
         },
         {
          "cpu_percent": 197.1,
          "cpu_time": 1.82,
          "name": "CustMercTS_1",
          "real_mem": 280092672,
          "time": 1616654909.2828062
         },
         {
          "cpu_percent": 197,
          "cpu_time": 1.9400000000000002,
          "name": "ReadCsvProjectSpace_1",
          "real_mem": 281268224,
          "time": 1616654909.3633523
         },
         {
          "cpu_percent": 98.4,
          "cpu_time": 1.99,
          "name": "CustMercTS_1",
          "real_mem": 281915392,
          "time": 1616654909.4060354
         },
         {
          "cpu_percent": 197.1,
          "cpu_time": 2.14,
          "name": "ReadCsvProjectSpace_1",
          "real_mem": 283504640,
          "time": 1616654909.4857004
         },
         {
          "cpu_percent": 289.5,
          "cpu_time": 2.2399999999999998,
          "name": "CustMercTS_1",
          "real_mem": 285007872,
          "time": 1616654909.5284495
         },
         {
          "cpu_percent": 98,
          "cpu_time": 2.36,
          "name": "ReadCsvProjectSpace_1",
          "real_mem": 289910784,
          "time": 1616654909.6083746
         },
         {
          "cpu_percent": 196.6,
          "cpu_time": 2.4499999999999997,
          "name": "CustMercTS_1",
          "real_mem": 290918400,
          "time": 1616654909.6519954
         },
         {
          "cpu_percent": 196.8,
          "cpu_time": 2.57,
          "name": "ReadCsvProjectSpace_1",
          "real_mem": 292364288,
          "time": 1616654909.7315207
         },
         {
          "cpu_percent": 97.7,
          "cpu_time": 2.62,
          "name": "CustMercTS_1",
          "real_mem": 293031936,
          "time": 1616654909.7751665
         },
         {
          "cpu_percent": 0,
          "cpu_time": 2.7199999999999998,
          "name": "ReadCsvProjectSpace_1",
          "real_mem": 298541056,
          "time": 1616654909.8538873
         },
         {
          "cpu_percent": 98.7,
          "cpu_time": 2.81,
          "name": "CustMercTS_1",
          "real_mem": 302567424,
          "time": 1616654909.8971984
         },
         {
          "cpu_percent": 98.4,
          "cpu_time": 2.9299999999999997,
          "name": "ReadCsvProjectSpace_1",
          "real_mem": 310820864,
          "time": 1616654909.9771838
         },
         {
          "cpu_percent": 97.9,
          "cpu_time": 2.98,
          "name": "CustMercTS_1",
          "real_mem": 317284352,
          "time": 1616654910.0207977
         },
         {
          "cpu_percent": 295.6,
          "cpu_time": 3.15,
          "name": "ReadCsvProjectSpace_1",
          "real_mem": 326729728,
          "time": 1616654910.099839
         },
         {
          "cpu_percent": 98.4,
          "cpu_time": 3.22,
          "name": "CustMercTS_1",
          "real_mem": 327245824,
          "time": 1616654910.1438234
         },
         {
          "cpu_percent": 197.4,
          "cpu_time": 3.3600000000000003,
          "name": "ReadCsvProjectSpace_1",
          "real_mem": 328011776,
          "time": 1616654910.2236552
         },
         {
          "cpu_percent": 196.3,
          "cpu_time": 3.45,
          "name": "CustMercTS_1",
          "real_mem": 329068544,
          "time": 1616654910.266572
         },
         {
          "cpu_percent": 0,
          "cpu_time": 3.6100000000000003,
          "name": "ReadCsvProjectSpace_1",
          "real_mem": 328548352,
          "time": 1616654910.3466482
         },
         {
          "cpu_percent": 297.1,
          "cpu_time": 3.7199999999999998,
          "name": "CustMercTS_1",
          "real_mem": 328974336,
          "time": 1616654910.3893332
         },
         {
          "cpu_percent": 196.1,
          "cpu_time": 3.85,
          "name": "ReadCsvProjectSpace_1",
          "real_mem": 330313728,
          "time": 1616654910.469796
         },
         {
          "cpu_percent": 98.2,
          "cpu_time": 3.94,
          "name": "CustMercTS_1",
          "real_mem": 336445440,
          "time": 1616654910.5129497
         },
         {
          "cpu_percent": 0,
          "cpu_time": 4,
          "name": "ReadCsvProjectSpace_1",
          "real_mem": 336674816,
          "time": 1616654910.5930333
         },
         {
          "cpu_percent": 97.6,
          "cpu_time": 4.02,
          "name": "CustMercTS_1",
          "real_mem": 336687104,
          "time": 1616654910.6363437
         },
         {
          "cpu_percent": 197.1,
          "cpu_time": 4.140000000000001,
          "name": "ReadCsvProjectSpace_1",
          "real_mem": 338468864,
          "time": 1616654910.7159734
         },
         {
          "cpu_percent": 197.4,
          "cpu_time": 4.25,
          "name": "CustMercTS_1",
          "real_mem": 339537920,
          "time": 1616654910.7596462
         },
         {
          "cpu_percent": 98.5,
          "cpu_time": 4.37,
          "name": "ReadCsvProjectSpace_1",
          "real_mem": 340897792,
          "time": 1616654910.8381147
         },
         {
          "cpu_percent": 98.2,
          "cpu_time": 4.420000000000001,
          "name": "CustMercTS_1",
          "real_mem": 341454848,
          "time": 1616654910.8817658
         },
         {
          "cpu_percent": 295.9,
          "cpu_time": 4.590000000000001,
          "name": "ReadCsvProjectSpace_1",
          "real_mem": 342028288,
          "time": 1616654910.9603531
         },
         {
          "cpu_percent": 98.2,
          "cpu_time": 4.680000000000001,
          "name": "CustMercTS_1",
          "real_mem": 342921216,
          "time": 1616654911.0048454
         },
         {
          "cpu_percent": 192.8,
          "cpu_time": 4.7700000000000005,
          "name": "ReadCsvProjectSpace_1",
          "real_mem": 344231936,
          "time": 1616654911.0827785
         },
         {
          "cpu_percent": 98.4,
          "cpu_time": 4.83,
          "name": "CustMercTS_1",
          "real_mem": 350875648,
          "time": 1616654911.1272168
         },
         {
          "cpu_percent": 195.5,
          "cpu_time": 4.930000000000001,
          "name": "ReadCsvProjectSpace_1",
          "real_mem": 360230912,
          "time": 1616654911.204995
         },
         {
          "cpu_percent": 196.6,
          "cpu_time": 4.98,
          "name": "CustMercTS_1",
          "real_mem": 365535232,
          "time": 1616654911.2496755
         },
         {
          "cpu_percent": 195.9,
          "cpu_time": 5.09,
          "name": "ReadCsvProjectSpace_1",
          "real_mem": 373440512,
          "time": 1616654911.3273342
         },
         {
          "cpu_percent": 196.6,
          "cpu_time": 5.180000000000001,
          "name": "CustMercTS_1",
          "real_mem": 380162048,
          "time": 1616654911.3730607
         },
         {
          "cpu_percent": 196.6,
          "cpu_time": 5.33,
          "name": "ReadCsvProjectSpace_1",
          "real_mem": 387497984,
          "time": 1616654911.449811
         },
         {
          "cpu_percent": 293.8,
          "cpu_time": 5.39,
          "name": "CustMercTS_1",
          "real_mem": 390696960,
          "time": 1616654911.4955008
         },
         {
          "cpu_percent": 97.6,
          "cpu_time": 5.51,
          "name": "ReadCsvProjectSpace_1",
          "real_mem": 396865536,
          "time": 1616654911.5724933
         },
         {
          "cpu_percent": 98.2,
          "cpu_time": 5.55,
          "name": "CustMercTS_1",
          "real_mem": 399360000,
          "time": 1616654911.6180363
         },
         {
          "cpu_percent": 152.9,
          "cpu_time": 5.989999999999999,
          "name": "ReadCsvProjectSpace_1",
          "real_mem": 413433856,
          "time": 1616654911.8477693
         },
         {
          "cpu_percent": 98.8,
          "cpu_time": 6.05,
          "name": "CustMercTS_1",
          "real_mem": 414433280,
          "time": 1616654911.8903136
         },
         {
          "cpu_percent": 196.2,
          "cpu_time": 6.5,
          "name": "ReadCsvProjectSpace_1",
          "real_mem": 418304000,
          "time": 1616654912.122372
         },
         {
          "cpu_percent": 98.3,
          "cpu_time": 6.529999999999999,
          "name": "CustMercTS_1",
          "real_mem": 418897920,
          "time": 1616654912.1703918
         },
         {
          "cpu_percent": 391.9,
          "cpu_time": 6.9799999999999995,
          "name": "ReadCsvProjectSpace_1",
          "real_mem": 429871104,
          "time": 1616654912.3954804
         },
         {
          "cpu_percent": 65.1,
          "cpu_time": 7.07,
          "name": "CustMercTS_1",
          "real_mem": 430817280,
          "time": 1616654912.448517
         },
         {
          "cpu_percent": 195.4,
          "cpu_time": 7.5,
          "name": "ReadCsvProjectSpace_1",
          "real_mem": 439881728,
          "time": 1616654912.6682909
         },
         {
          "cpu_percent": 52.8,
          "cpu_time": 7.66,
          "name": "CustMercTS_1",
          "real_mem": 440774656,
          "time": 1616654912.7484708
         },
         {
          "cpu_percent": 195.3,
          "cpu_time": 8.049999999999999,
          "name": "ReadCsvProjectSpace_1",
          "real_mem": 445693952,
          "time": 1616654912.9483986
         },
         {
          "cpu_percent": 196.6,
          "cpu_time": 8.21,
          "name": "CustMercTS_1",
          "real_mem": 448360448,
          "time": 1616654913.021251
         },
         {
          "cpu_percent": 197,
          "cpu_time": 8.48,
          "name": "ReadCsvProjectSpace_1",
          "real_mem": 451354624,
          "time": 1616654913.221261
         },
         {
          "cpu_percent": 294.3,
          "cpu_time": 8.68,
          "name": "CustMercTS_1",
          "real_mem": 446455808,
          "time": 1616654913.2939785
         },
         {
          "cpu_percent": 196.7,
          "cpu_time": 9.07,
          "name": "ReadCsvProjectSpace_1",
          "real_mem": 460075008,
          "time": 1616654913.4937925
         },
         {
          "cpu_percent": 198.2,
          "cpu_time": 9.209999999999999,
          "name": "CustMercTS_1",
          "real_mem": 464879616,
          "time": 1616654913.5700328
         },
         {
          "cpu_percent": 196.1,
          "cpu_time": 9.58,
          "name": "ReadCsvProjectSpace_1",
          "real_mem": 487874560,
          "time": 1616654913.7675798
         },
         {
          "cpu_percent": 98.3,
          "cpu_time": 9.75,
          "name": "CustMercTS_1",
          "real_mem": 491188224,
          "time": 1616654913.8433864
         },
         {
          "cpu_percent": 196.3,
          "cpu_time": 10.15,
          "name": "ReadCsvProjectSpace_1",
          "real_mem": 507043840,
          "time": 1616654914.0431497
         },
         {
          "cpu_percent": 294.9,
          "cpu_time": 10.28,
          "name": "CustMercTS_1",
          "real_mem": 514105344,
          "time": 1616654914.1156971
         },
         {
          "cpu_percent": 197.7,
          "cpu_time": 10.68,
          "name": "ReadCsvProjectSpace_1",
          "real_mem": 532623360,
          "time": 1616654914.316478
         },
         {
          "cpu_percent": 195.9,
          "cpu_time": 10.819999999999999,
          "name": "CustMercTS_1",
          "real_mem": 557957120,
          "time": 1616654914.3885598
         },
         {
          "cpu_percent": 196,
          "cpu_time": 11.17,
          "name": "ReadCsvProjectSpace_1",
          "real_mem": 557023232,
          "time": 1616654914.5899913
         },
         {
          "cpu_percent": 294,
          "cpu_time": 11.329999999999998,
          "name": "CustMercTS_1",
          "real_mem": 558063616,
          "time": 1616654914.669392
         },
         {
          "cpu_percent": 195,
          "cpu_time": 11.7,
          "name": "ReadCsvProjectSpace_1",
          "real_mem": 560635904,
          "time": 1616654914.8643453
         },
         {
          "cpu_percent": 98.3,
          "cpu_time": 11.82,
          "name": "CustMercTS_1",
          "real_mem": 570978304,
          "time": 1616654914.942855
         },
         {
          "cpu_percent": 96.3,
          "cpu_time": 12.15,
          "name": "ReadCsvProjectSpace_1",
          "real_mem": 572854272,
          "time": 1616654915.1381264
         },
         {
          "cpu_percent": 196.2,
          "cpu_time": 12.280000000000001,
          "name": "CustMercTS_1",
          "real_mem": 574160896,
          "time": 1616654915.2153583
         },
         {
          "cpu_percent": 98.5,
          "cpu_time": 12.58,
          "name": "ReadCsvProjectSpace_1",
          "real_mem": 579940352,
          "time": 1616654915.4109921
         },
         {
          "cpu_percent": 196.5,
          "cpu_time": 12.700000000000001,
          "name": "CustMercTS_1",
          "real_mem": 581042176,
          "time": 1616654915.4884872
         },
         {
          "cpu_percent": 197.2,
          "cpu_time": 13.01,
          "name": "ReadCsvProjectSpace_1",
          "real_mem": 584327168,
          "time": 1616654915.683451
         },
         {
          "cpu_percent": 98.3,
          "cpu_time": 13.13,
          "name": "CustMercTS_1",
          "real_mem": 585265152,
          "time": 1616654915.760862
         },
         {
          "cpu_percent": 196.7,
          "cpu_time": 13.4,
          "name": "ReadCsvProjectSpace_1",
          "real_mem": 588009472,
          "time": 1616654915.9566188
         },
         {
          "cpu_percent": 97,
          "cpu_time": 13.5,
          "name": "CustMercTS_1",
          "real_mem": 588709888,
          "time": 1616654916.0338964
         },
         {
          "cpu_percent": 98.1,
          "cpu_time": 13.93,
          "name": "ReadCsvProjectSpace_1",
          "real_mem": 590303232,
          "time": 1616654916.2298481
         },
         {
          "cpu_percent": 98.2,
          "cpu_time": 14.01,
          "name": "CustMercTS_1",
          "real_mem": 591360000,
          "time": 1616654916.3078003
         },
         {
          "cpu_percent": 195.9,
          "cpu_time": 14.4,
          "name": "ReadCsvProjectSpace_1",
          "real_mem": 593494016,
          "time": 1616654916.520729
         },
         {
          "cpu_percent": 295.1,
          "cpu_time": 14.49,
          "name": "CustMercTS_1",
          "real_mem": 594313216,
          "time": 1616654916.5802896
         },
         {
          "cpu_percent": 196.5,
          "cpu_time": 14.88,
          "name": "ReadCsvProjectSpace_1",
          "real_mem": 596439040,
          "time": 1616654916.7933605
         },
         {
          "cpu_percent": 196.3,
          "cpu_time": 14.97,
          "name": "CustMercTS_1",
          "real_mem": 597057536,
          "time": 1616654916.8532655
         },
         {
          "cpu_percent": 196.2,
          "cpu_time": 15.36,
          "name": "ReadCsvProjectSpace_1",
          "real_mem": 598511616,
          "time": 1616654917.0664008
         },
         {
          "cpu_percent": 98.3,
          "cpu_time": 15.45,
          "name": "CustMercTS_1",
          "real_mem": 598982656,
          "time": 1616654917.126133
         },
         {
          "cpu_percent": 96.3,
          "cpu_time": 15.8,
          "name": "ReadCsvProjectSpace_1",
          "real_mem": 611409920,
          "time": 1616654917.3392687
         },
         {
          "cpu_percent": 98,
          "cpu_time": 15.87,
          "name": "CustMercTS_1",
          "real_mem": 632082432,
          "time": 1616654917.3991504
         },
         {
          "cpu_percent": 196.3,
          "cpu_time": 16.17,
          "name": "ReadCsvProjectSpace_1",
          "real_mem": 646766592,
          "time": 1616654917.6123827
         },
         {
          "cpu_percent": 98.3,
          "cpu_time": 16.23,
          "name": "CustMercTS_1",
          "real_mem": 647098368,
          "time": 1616654917.672089
         },
         {
          "cpu_percent": 196.1,
          "cpu_time": 16.55,
          "name": "ReadCsvProjectSpace_1",
          "real_mem": 651157504,
          "time": 1616654917.8852882
         },
         {
          "cpu_percent": 196,
          "cpu_time": 16.66,
          "name": "CustMercTS_1",
          "real_mem": 652214272,
          "time": 1616654917.9449806
         },
         {
          "cpu_percent": 98.5,
          "cpu_time": 16.96,
          "name": "ReadCsvProjectSpace_1",
          "real_mem": 654004224,
          "time": 1616654918.157643
         },
         {
          "cpu_percent": 98.2,
          "cpu_time": 17.02,
          "name": "CustMercTS_1",
          "real_mem": 654684160,
          "time": 1616654918.217821
         },
         {
          "cpu_percent": 196.5,
          "cpu_time": 17.45,
          "name": "ReadCsvProjectSpace_1",
          "real_mem": 656932864,
          "time": 1616654918.4310417
         },
         {
          "cpu_percent": 192.1,
          "cpu_time": 17.55,
          "name": "CustMercTS_1",
          "real_mem": 657051648,
          "time": 1616654918.4913929
         },
         {
          "cpu_percent": 294.8,
          "cpu_time": 17.98,
          "name": "ReadCsvProjectSpace_1",
          "real_mem": 658952192,
          "time": 1616654918.704365
         },
         {
          "cpu_percent": 196.3,
          "cpu_time": 18.099999999999998,
          "name": "CustMercTS_1",
          "real_mem": 659992576,
          "time": 1616654918.7699037
         },
         {
          "cpu_percent": 192.2,
          "cpu_time": 18.509999999999998,
          "name": "ReadCsvProjectSpace_1",
          "real_mem": 666771456,
          "time": 1616654918.9776497
         },
         {
          "cpu_percent": 120.7,
          "cpu_time": 18.65,
          "name": "CustMercTS_1",
          "real_mem": 668147712,
          "time": 1616654919.0485454
         },
         {
          "cpu_percent": 98.5,
          "cpu_time": 19.04,
          "name": "ReadCsvProjectSpace_1",
          "real_mem": 673017856,
          "time": 1616654919.2507412
         },
         {
          "cpu_percent": 196.9,
          "cpu_time": 19.19,
          "name": "CustMercTS_1",
          "real_mem": 674451456,
          "time": 1616654919.3214962
         },
         {
          "cpu_percent": 294.6,
          "cpu_time": 20.09,
          "name": "ReadCsvProjectSpace_1",
          "real_mem": 680128512,
          "time": 1616654919.7739697
         },
         {
          "cpu_percent": 0,
          "cpu_time": 20.21,
          "name": "CustMercTS_1",
          "real_mem": 680775680,
          "time": 1616654919.8438842
         },
         {
          "cpu_percent": 98,
          "cpu_time": 21.05,
          "name": "ReadCsvProjectSpace_1",
          "real_mem": 686198784,
          "time": 1616654920.2970839
         },
         {
          "cpu_percent": 292.8,
          "cpu_time": 21.18,
          "name": "CustMercTS_1",
          "real_mem": 688533504,
          "time": 1616654920.3664773
         },
         {
          "cpu_percent": 192.9,
          "cpu_time": 22.03,
          "name": "ReadCsvProjectSpace_1",
          "real_mem": 717094912,
          "time": 1616654920.8203864
         },
         {
          "cpu_percent": 394.4,
          "cpu_time": 22.189999999999998,
          "name": "CustMercTS_1",
          "real_mem": 717258752,
          "time": 1616654920.8886766
         },
         {
          "cpu_percent": 195.1,
          "cpu_time": 23.16,
          "name": "CustMercTS_1",
          "real_mem": 732606464,
          "time": 1616654921.412342
         },
         {
          "cpu_percent": 98,
          "cpu_time": 24.209999999999997,
          "name": "CustMercTS_1",
          "real_mem": 765837312,
          "time": 1616654921.9349525
         },
         {
          "cpu_percent": 387.8,
          "cpu_time": 25.259999999999998,
          "name": "CustMercTS_1",
          "real_mem": 770248704,
          "time": 1616654922.4660935
         },
         {
          "cpu_percent": 189,
          "cpu_time": 26.299999999999997,
          "name": "CustMercTS_1",
          "real_mem": 771878912,
          "time": 1616654922.989033
         },
         {
          "cpu_percent": 196.4,
          "cpu_time": 27.169999999999998,
          "name": "CustMercTS_1",
          "real_mem": 811102208,
          "time": 1616654923.512095
         },
         {
          "cpu_percent": 98.2,
          "cpu_time": 28,
          "name": "CustMercTS_1",
          "real_mem": 813563904,
          "time": 1616654924.0351112
         },
         {
          "cpu_percent": 394,
          "cpu_time": 28.92,
          "name": "CustMercTS_1",
          "real_mem": 820535296,
          "time": 1616654924.5699422
         },
         {
          "cpu_percent": 389.9,
          "cpu_time": 29.98,
          "name": "CustMercTS_1",
          "real_mem": 823717888,
          "time": 1616654925.093856
         },
         {
          "cpu_percent": 47.4,
          "cpu_time": 30.98,
          "name": "CustMercTS_1",
          "real_mem": 866951168,
          "time": 1616654925.6488025
         },
         {
          "cpu_percent": 394.5,
          "cpu_time": 32.050000000000004,
          "name": "CustMercTS_1",
          "real_mem": 869146624,
          "time": 1616654926.1712587
         },
         {
          "cpu_percent": 394.4,
          "cpu_time": 33.14,
          "name": "CustMercTS_1",
          "real_mem": 870301696,
          "time": 1616654926.694383
         },
         {
          "cpu_percent": 294.5,
          "cpu_time": 34.230000000000004,
          "name": "CustMercTS_1",
          "real_mem": 872054784,
          "time": 1616654927.2700417
         },
         {
          "cpu_percent": 177.4,
          "cpu_time": 35.27,
          "name": "CustMercTS_1",
          "real_mem": 873394176,
          "time": 1616654927.7948942
         },
         {
          "cpu_percent": 196.5,
          "cpu_time": 36.26,
          "name": "CustMercTS_1",
          "real_mem": 888082432,
          "time": 1616654928.3176622
         },
         {
          "cpu_percent": 98.2,
          "cpu_time": 37.269999999999996,
          "name": "CustMercTS_1",
          "real_mem": 888958976,
          "time": 1616654928.840782
         },
         {
          "cpu_percent": 196.7,
          "cpu_time": 37.989999999999995,
          "name": "CustMercTS_1",
          "real_mem": 894193664,
          "time": 1616654929.3643646
         },
         {
          "cpu_percent": 394.4,
          "cpu_time": 39.11,
          "name": "CustMercTS_1",
          "real_mem": 898646016,
          "time": 1616654929.8924656
         },
         {
          "cpu_percent": 195.8,
          "cpu_time": 40.989999999999995,
          "name": "CustMercTS_1",
          "real_mem": 936660992,
          "time": 1616654931.002785
         },
         {
          "cpu_percent": 196.6,
          "cpu_time": 42.43,
          "name": "CustMercTS_1",
          "real_mem": 1055285248,
          "time": 1616654932.0793023
         },
         {
          "cpu_percent": 98.1,
          "cpu_time": 43.49,
          "name": "CustMercTS_1",
          "real_mem": 1110700032,
          "time": 1616654933.1369855
         },
         {
          "cpu_percent": 98.3,
          "cpu_time": 44.07,
          "name": "CustMercTS_1",
          "real_mem": 1117483008,
          "time": 1616654934.1937218
         },
         {
          "cpu_percent": 98.4,
          "cpu_time": 45.23,
          "name": "CustMercTS_1",
          "real_mem": 1172660224,
          "time": 1616654935.2500741
         },
         {
          "cpu_percent": 98.8,
          "cpu_time": 46.49,
          "name": "CustMercTS_1",
          "real_mem": 1224425472,
          "time": 1616654936.3045444
         },
         {
          "cpu_percent": 196.6,
          "cpu_time": 47.49,
          "name": "CustMercTS_1",
          "real_mem": 1278820352,
          "time": 1616654937.3611746
         },
         {
          "cpu_percent": 98.5,
          "cpu_time": 48.11,
          "name": "CustMercTS_1",
          "real_mem": 1287725056,
          "time": 1616654938.4191546
         },
         {
          "cpu_percent": 604,
          "cpu_time": 50.10000000000001,
          "name": "CustMercTS_1",
          "real_mem": 1408606208,
          "time": 1616654939.648674
         },
         {
          "cpu_percent": 196.9,
          "cpu_time": 52.230000000000004,
          "name": "CustMercTS_1",
          "real_mem": 1518006272,
          "time": 1616654940.7246976
         },
         {
          "cpu_percent": 0,
          "cpu_time": 54.120000000000005,
          "name": "CustMercTS_1",
          "real_mem": 1614778368,
          "time": 1616654941.8016915
         },
         {
          "cpu_percent": 194.3,
          "cpu_time": 55.35000000000001,
          "name": "CustMercTS_1",
          "real_mem": 1639104512,
          "time": 1616654942.8781824
         },
         {
          "cpu_percent": 490.09999999999997,
          "cpu_time": 57.75999999999999,
          "name": "CustMercTS_1",
          "real_mem": 1714442240,
          "time": 1616654944.148572
         },
         {
          "cpu_percent": 195.10000000000002,
          "cpu_time": 60.059999999999995,
          "name": "CustMercTS_1",
          "real_mem": 1715716096,
          "time": 1616654945.2590823
         },
         {
          "cpu_percent": 500.9,
          "cpu_time": 62.32000000000001,
          "name": "CustMercTS_1",
          "real_mem": 1761353728,
          "time": 1616654946.4697106
         },
         {
          "cpu_percent": 405.59999999999997,
          "cpu_time": 64.75,
          "name": "CustMercTS_1",
          "real_mem": 1761988608,
          "time": 1616654947.6698887
         },
         {
          "cpu_percent": 523,
          "cpu_time": 62.22,
          "name": "CustMercTS_1",
          "real_mem": 1614258176,
          "time": 1616654948.8699589
         },
         {
          "cpu_percent": 391.4,
          "cpu_time": 64.46000000000001,
          "name": "CustMercTS_1",
          "real_mem": 1633263616,
          "time": 1616654949.9907682
         },
         {
          "cpu_percent": 277.6,
          "cpu_time": 66.76,
          "name": "CustMercTS_1",
          "real_mem": 1657348096,
          "time": 1616654951.1711652
         },
         {
          "cpu_percent": 0,
          "cpu_time": 68.00999999999999,
          "name": "CustMercTS_1",
          "real_mem": 1702871040,
          "time": 1616654952.247335
         },
         {
          "cpu_percent": 196.7,
          "cpu_time": 68.64,
          "name": "CustMercTS_1",
          "real_mem": 1715830784,
          "time": 1616654953.323826
         },
         {
          "cpu_percent": 414.6,
          "cpu_time": 69.69999999999999,
          "name": "CustMercTS_1",
          "real_mem": 1764028416,
          "time": 1616654954.4028413
         },
         {
          "cpu_percent": 196.9,
          "cpu_time": 71.38999999999999,
          "name": "CustMercTS_1",
          "real_mem": 1769172992,
          "time": 1616654955.5247953
         },
         {
          "cpu_percent": 98.1,
          "cpu_time": 73.02,
          "name": "CustMercTS_1",
          "real_mem": 1767268352,
          "time": 1616654956.6021264
         },
         {
          "cpu_percent": 294.3,
          "cpu_time": 75.5,
          "name": "CustMercTS_1",
          "real_mem": 1769676800,
          "time": 1616654957.8698206
         },
         {
          "cpu_percent": 193.3,
          "cpu_time": 77.45,
          "name": "CustMercTS_1",
          "real_mem": 1770594304,
          "time": 1616654958.946365
         },
         {
          "cpu_percent": 393.3,
          "cpu_time": 79.29,
          "name": "CustMercTS_1",
          "real_mem": 1792802816,
          "time": 1616654960.070127
         },
         {
          "cpu_percent": 294.5,
          "cpu_time": 81.53000000000002,
          "name": "CustMercTS_1",
          "real_mem": 1793474560,
          "time": 1616654961.1801121
         }
        ],
        "logs": [
         {
          "asctime": "2021-03-25 06:48:27,569",
          "created": 1616654907.56973,
          "extra": {},
          "filename": "async_executors.py",
          "funcName": "main",
          "levelname": "DEBUG",
          "lineno": 114,
          "message": "NonSparkPath_1: started async block execution\n",
          "name": "engine.logs:NonSparkPath_1",
          "pathname": "/usr/local/lib/python3.7/dist-packages/razor/flow/async_executors.py",
          "process": 251,
          "processName": "ForkProcess-1:1",
          "thread": 140532516312896,
          "threadName": "MainThread"
         },
         {
          "asctime": "2021-03-25 06:48:27,587",
          "created": 1616654907.5877793,
          "extra": {},
          "filename": "async_executors.py",
          "funcName": "fill_atomic_inputs",
          "levelname": "INFO",
          "lineno": 250,
          "message": "NonSparkPath_1: waiting for atomic input: ip_path",
          "name": "engine.logs:NonSparkPath_1",
          "pathname": "/usr/local/lib/python3.7/dist-packages/razor/flow/async_executors.py",
          "process": 251,
          "processName": "ForkProcess-1:1",
          "thread": 140532516312896,
          "threadName": "MainThread"
         },
         {
          "asctime": "2021-03-25 06:48:27,588",
          "created": 1616654907.588081,
          "extra": {},
          "filename": "async_executors.py",
          "funcName": "fill_atomic_inputs",
          "levelname": "DEBUG",
          "lineno": 253,
          "message": "NonSparkPath_1: got atomic input: customer_data.csv",
          "name": "engine.logs:NonSparkPath_1",
          "pathname": "/usr/local/lib/python3.7/dist-packages/razor/flow/async_executors.py",
          "process": 251,
          "processName": "ForkProcess-1:1",
          "thread": 140532516312896,
          "threadName": "MainThread"
         },
         {
          "asctime": "2021-03-25 06:48:27,588",
          "created": 1616654907.5881824,
          "extra": {},
          "filename": "async_executors.py",
          "funcName": "main",
          "levelname": "DEBUG",
          "lineno": 130,
          "message": "NonSparkPath_1: triggering block run",
          "name": "engine.logs:NonSparkPath_1",
          "pathname": "/usr/local/lib/python3.7/dist-packages/razor/flow/async_executors.py",
          "process": 251,
          "processName": "ForkProcess-1:1",
          "thread": 140532516312896,
          "threadName": "MainThread"
         },
         {
          "asctime": "2021-03-25 06:48:27,796",
          "created": 1616654907.7967613,
          "extra": {},
          "filename": "async_executors.py",
          "funcName": "distribute_output_queue",
          "levelname": "DEBUG",
          "lineno": 308,
          "message": "NonSparkPath_1: ---- dist output: /home/aios/projectspace/customer_data.csv -> ('ReadCsvProjectSpace_1', 'filename')",
          "name": "engine.logs:NonSparkPath_1",
          "pathname": "/usr/local/lib/python3.7/dist-packages/razor/flow/async_executors.py",
          "process": 251,
          "processName": "ForkProcess-1:1",
          "thread": 140532516312896,
          "threadName": "MainThread"
         },
         {
          "asctime": "2021-03-25 06:48:27,797",
          "created": 1616654907.797276,
          "extra": {},
          "filename": "async_executors.py",
          "funcName": "main",
          "levelname": "DEBUG",
          "lineno": 147,
          "message": "NonSparkPath_1: block thread completed",
          "name": "engine.logs:NonSparkPath_1",
          "pathname": "/usr/local/lib/python3.7/dist-packages/razor/flow/async_executors.py",
          "process": 251,
          "processName": "ForkProcess-1:1",
          "thread": 140532516312896,
          "threadName": "MainThread"
         },
         {
          "asctime": "2021-03-25 06:48:27,797",
          "created": 1616654907.7973936,
          "extra": {},
          "filename": "async_executors.py",
          "funcName": "main",
          "levelname": "DEBUG",
          "lineno": 149,
          "message": "NonSparkPath_1: block execution complete",
          "name": "engine.logs:NonSparkPath_1",
          "pathname": "/usr/local/lib/python3.7/dist-packages/razor/flow/async_executors.py",
          "process": 251,
          "processName": "ForkProcess-1:1",
          "thread": 140532516312896,
          "threadName": "MainThread"
         },
         {
          "asctime": "2021-03-25 06:48:27,797",
          "created": 1616654907.7975073,
          "extra": {},
          "filename": "async_executors.py",
          "funcName": "distribute_output_queue",
          "levelname": "DEBUG",
          "lineno": 308,
          "message": "NonSparkPath_1: ---- dist output: b'__!\\tEndOfStream\\t!__' -> ('ReadCsvProjectSpace_1', 'filename')",
          "name": "engine.logs:NonSparkPath_1",
          "pathname": "/usr/local/lib/python3.7/dist-packages/razor/flow/async_executors.py",
          "process": 251,
          "processName": "ForkProcess-1:1",
          "thread": 140532516312896,
          "threadName": "MainThread"
         },
         {
          "asctime": "2021-03-25 06:48:27,830",
          "created": 1616654907.8300524,
          "extra": {},
          "filename": "async_executors.py",
          "funcName": "main",
          "levelname": "DEBUG",
          "lineno": 114,
          "message": "CustMercTS_1: started async block execution\n",
          "name": "engine.logs:CustMercTS_1",
          "pathname": "/usr/local/lib/python3.7/dist-packages/razor/flow/async_executors.py",
          "process": 259,
          "processName": "ForkProcess-1:2",
          "thread": 140532516312896,
          "threadName": "MainThread"
         },
         {
          "asctime": "2021-03-25 06:48:27,828",
          "created": 1616654907.8284051,
          "extra": {},
          "filename": "async_executors.py",
          "funcName": "main",
          "levelname": "DEBUG",
          "lineno": 114,
          "message": "ReadCsvProjectSpace_1: started async block execution\n",
          "name": "engine.logs:ReadCsvProjectSpace_1",
          "pathname": "/usr/local/lib/python3.7/dist-packages/razor/flow/async_executors.py",
          "process": 259,
          "processName": "ForkProcess-1:2",
          "thread": 140532516312896,
          "threadName": "MainThread"
         },
         {
          "asctime": "2021-03-25 06:48:27,872",
          "created": 1616654907.872637,
          "extra": {},
          "filename": "async_executors.py",
          "funcName": "fill_atomic_inputs",
          "levelname": "INFO",
          "lineno": 250,
          "message": "CustMercTS_1: waiting for atomic input: ip_data",
          "name": "engine.logs:CustMercTS_1",
          "pathname": "/usr/local/lib/python3.7/dist-packages/razor/flow/async_executors.py",
          "process": 259,
          "processName": "ForkProcess-1:2",
          "thread": 140532516312896,
          "threadName": "MainThread"
         },
         {
          "asctime": "2021-03-25 06:48:27,845",
          "created": 1616654907.8453367,
          "extra": {},
          "filename": "async_executors.py",
          "funcName": "fill_atomic_inputs",
          "levelname": "INFO",
          "lineno": 250,
          "message": "ReadCsvProjectSpace_1: waiting for atomic input: filename",
          "name": "engine.logs:ReadCsvProjectSpace_1",
          "pathname": "/usr/local/lib/python3.7/dist-packages/razor/flow/async_executors.py",
          "process": 259,
          "processName": "ForkProcess-1:2",
          "thread": 140532516312896,
          "threadName": "MainThread"
         },
         {
          "asctime": "2021-03-25 06:48:27,878",
          "created": 1616654907.878363,
          "extra": {},
          "filename": "async_executors.py",
          "funcName": "start_input_receiver",
          "levelname": "DEBUG",
          "lineno": 173,
          "message": "NonSparkPath_1: received cmd: start_sender, (), {'out_name': 'op_path', 'target': ('ReadCsvProjectSpace_1', 'filename'), 'out_addr': 'tcp://0.0.0.0:53079', 'in_memory': None}",
          "name": "engine.logs:NonSparkPath_1",
          "pathname": "/usr/local/lib/python3.7/dist-packages/razor/flow/async_executors.py",
          "process": 251,
          "processName": "ForkProcess-1:1",
          "thread": 140532516312896,
          "threadName": "MainThread"
         },
         {
          "asctime": "2021-03-25 06:48:27,879",
          "created": 1616654907.8790872,
          "extra": {},
          "filename": "async_executors.py",
          "funcName": "start_output_sender",
          "levelname": "DEBUG",
          "lineno": 370,
          "message": "NonSparkPath_1: got start_sender, op_path, ('ReadCsvProjectSpace_1', 'filename')",
          "name": "engine.logs:NonSparkPath_1",
          "pathname": "/usr/local/lib/python3.7/dist-packages/razor/flow/async_executors.py",
          "process": 251,
          "processName": "ForkProcess-1:1",
          "thread": 140532516312896,
          "threadName": "MainThread"
         },
         {
          "asctime": "2021-03-25 06:48:27,879",
          "created": 1616654907.8799033,
          "extra": {},
          "filename": "async_executors.py",
          "funcName": "start_output_sender",
          "levelname": "DEBUG",
          "lineno": 388,
          "message": "NonSparkPath_1: SENT, filename, /home/aios/projectspace/customer_data.csv, ('ReadCsvProjectSpace_1', 'filename')",
          "name": "engine.logs:NonSparkPath_1",
          "pathname": "/usr/local/lib/python3.7/dist-packages/razor/flow/async_executors.py",
          "process": 251,
          "processName": "ForkProcess-1:1",
          "thread": 140532516312896,
          "threadName": "MainThread"
         },
         {
          "asctime": "2021-03-25 06:48:27,880",
          "created": 1616654907.8806882,
          "extra": {},
          "filename": "async_executors.py",
          "funcName": "start_output_sender",
          "levelname": "DEBUG",
          "lineno": 388,
          "message": "NonSparkPath_1: SENT, filename, b'__!\\tEndOfStream\\t!__', ('ReadCsvProjectSpace_1', 'filename')",
          "name": "engine.logs:NonSparkPath_1",
          "pathname": "/usr/local/lib/python3.7/dist-packages/razor/flow/async_executors.py",
          "process": 251,
          "processName": "ForkProcess-1:1",
          "thread": 140532516312896,
          "threadName": "MainThread"
         },
         {
          "asctime": "2021-03-25 06:48:27,881",
          "created": 1616654907.881148,
          "extra": {},
          "filename": "async_executors.py",
          "funcName": "start_output_sender",
          "levelname": "DEBUG",
          "lineno": 391,
          "message": "NonSparkPath_1: completed output: ('op_path', ('ReadCsvProjectSpace_1', 'filename'))",
          "name": "engine.logs:NonSparkPath_1",
          "pathname": "/usr/local/lib/python3.7/dist-packages/razor/flow/async_executors.py",
          "process": 251,
          "processName": "ForkProcess-1:1",
          "thread": 140532516312896,
          "threadName": "MainThread"
         },
         {
          "asctime": "2021-03-25 06:48:27,881",
          "created": 1616654907.8811255,
          "extra": {},
          "filename": "async_executors.py",
          "funcName": "start_input_receiver",
          "levelname": "DEBUG",
          "lineno": 177,
          "message": "ReadCsvProjectSpace_1: received data: filename, /home/aios/projectspace/customer_data.csv",
          "name": "engine.logs:ReadCsvProjectSpace_1",
          "pathname": "/usr/local/lib/python3.7/dist-packages/razor/flow/async_executors.py",
          "process": 259,
          "processName": "ForkProcess-1:2",
          "thread": 140532516312896,
          "threadName": "MainThread"
         },
         {
          "asctime": "2021-03-25 06:48:27,886",
          "created": 1616654907.88661,
          "extra": {},
          "filename": "async_executors.py",
          "funcName": "start_input_receiver",
          "levelname": "DEBUG",
          "lineno": 173,
          "message": "NonSparkPath_1: received cmd: terminate, (), {}",
          "name": "engine.logs:NonSparkPath_1",
          "pathname": "/usr/local/lib/python3.7/dist-packages/razor/flow/async_executors.py",
          "process": 251,
          "processName": "ForkProcess-1:1",
          "thread": 140532516312896,
          "threadName": "MainThread"
         },
         {
          "asctime": "2021-03-25 06:48:27,881",
          "created": 1616654907.8815522,
          "extra": {},
          "filename": "async_executors.py",
          "funcName": "start_input_receiver",
          "levelname": "DEBUG",
          "lineno": 177,
          "message": "ReadCsvProjectSpace_1: received data: filename, b'__!\\tEndOfStream\\t!__'",
          "name": "engine.logs:ReadCsvProjectSpace_1",
          "pathname": "/usr/local/lib/python3.7/dist-packages/razor/flow/async_executors.py",
          "process": 259,
          "processName": "ForkProcess-1:2",
          "thread": 140532516312896,
          "threadName": "MainThread"
         },
         {
          "asctime": "2021-03-25 06:48:27,881",
          "created": 1616654907.8817215,
          "extra": {},
          "filename": "async_executors.py",
          "funcName": "fill_atomic_inputs",
          "levelname": "DEBUG",
          "lineno": 253,
          "message": "ReadCsvProjectSpace_1: got atomic input: /home/aios/projectspace/customer_data.csv",
          "name": "engine.logs:ReadCsvProjectSpace_1",
          "pathname": "/usr/local/lib/python3.7/dist-packages/razor/flow/async_executors.py",
          "process": 259,
          "processName": "ForkProcess-1:2",
          "thread": 140532516312896,
          "threadName": "MainThread"
         },
         {
          "asctime": "2021-03-25 06:48:27,881",
          "created": 1616654907.8817708,
          "extra": {},
          "filename": "async_executors.py",
          "funcName": "fill_atomic_inputs",
          "levelname": "INFO",
          "lineno": 250,
          "message": "ReadCsvProjectSpace_1: waiting for atomic input: config",
          "name": "engine.logs:ReadCsvProjectSpace_1",
          "pathname": "/usr/local/lib/python3.7/dist-packages/razor/flow/async_executors.py",
          "process": 259,
          "processName": "ForkProcess-1:2",
          "thread": 140532516312896,
          "threadName": "MainThread"
         },
         {
          "asctime": "2021-03-25 06:48:27,881",
          "created": 1616654907.8818178,
          "extra": {},
          "filename": "async_executors.py",
          "funcName": "fill_atomic_inputs",
          "levelname": "DEBUG",
          "lineno": 253,
          "message": "ReadCsvProjectSpace_1: got atomic input: {}",
          "name": "engine.logs:ReadCsvProjectSpace_1",
          "pathname": "/usr/local/lib/python3.7/dist-packages/razor/flow/async_executors.py",
          "process": 259,
          "processName": "ForkProcess-1:2",
          "thread": 140532516312896,
          "threadName": "MainThread"
         },
         {
          "asctime": "2021-03-25 06:48:27,881",
          "created": 1616654907.8818533,
          "extra": {},
          "filename": "async_executors.py",
          "funcName": "fill_atomic_inputs",
          "levelname": "INFO",
          "lineno": 250,
          "message": "ReadCsvProjectSpace_1: waiting for atomic input: source",
          "name": "engine.logs:ReadCsvProjectSpace_1",
          "pathname": "/usr/local/lib/python3.7/dist-packages/razor/flow/async_executors.py",
          "process": 259,
          "processName": "ForkProcess-1:2",
          "thread": 140532516312896,
          "threadName": "MainThread"
         },
         {
          "asctime": "2021-03-25 06:48:27,881",
          "created": 1616654907.8818927,
          "extra": {},
          "filename": "async_executors.py",
          "funcName": "fill_atomic_inputs",
          "levelname": "DEBUG",
          "lineno": 253,
          "message": "ReadCsvProjectSpace_1: got atomic input: ",
          "name": "engine.logs:ReadCsvProjectSpace_1",
          "pathname": "/usr/local/lib/python3.7/dist-packages/razor/flow/async_executors.py",
          "process": 259,
          "processName": "ForkProcess-1:2",
          "thread": 140532516312896,
          "threadName": "MainThread"
         },
         {
          "asctime": "2021-03-25 06:48:27,882",
          "created": 1616654907.8820121,
          "extra": {},
          "filename": "async_executors.py",
          "funcName": "main",
          "levelname": "DEBUG",
          "lineno": 130,
          "message": "ReadCsvProjectSpace_1: triggering block run",
          "name": "engine.logs:ReadCsvProjectSpace_1",
          "pathname": "/usr/local/lib/python3.7/dist-packages/razor/flow/async_executors.py",
          "process": 259,
          "processName": "ForkProcess-1:2",
          "thread": 140532516312896,
          "threadName": "MainThread"
         },
         {
          "asctime": "2021-03-25 06:48:40,979",
          "created": 1616654920.9796143,
          "exc_info": null,
          "extra": {},
          "filename": null,
          "full_message": null,
          "funcName": null,
          "levelname": "STDOUT",
          "lineno": null,
          "message": "Hello---1\n",
          "name": "block.stdout:ReadCsvProjectSpace_1",
          "pathname": null,
          "process": null,
          "processName": null,
          "thread": null,
          "threadName": null
         },
         {
          "asctime": "2021-03-25 06:48:40,994",
          "created": 1616654920.994721,
          "exc_info": null,
          "extra": {},
          "filename": null,
          "full_message": null,
          "funcName": null,
          "levelname": "STDOUT",
          "lineno": null,
          "message": "root\n |-- transaction_id: string (nullable = true)\n |-- time: string (nullable = true)\n |-- customer_name: string (nullable = true)\n |-- card_number: string (nullable = true)\n |-- card_type: string (nullable = true)\n |-- physical_card_type: string (nullable = true)\n |-- merchant_id: string (nullable = true)\n |-- merchant_city: string (nullable = true)\n |-- merchant_state: string (nullable = true)\n |-- transaction_type: string (nullable = true)\n |-- transaction_type_sub: string (nullable = true)\n |-- amount: string (nullable = true)\n |-- product_type: string (nullable = true)\n |-- fraud_risk: string (nullable = true)\n |-- One Time Heavy Loot Score: string (nullable = true)\n |-- Drastic Transaction Change Pattern Score: string (nullable = true)\n |-- Parasitic Fraud Score: string (nullable = true)\n |-- Purchase Behavior Variation Score: string (nullable = true)\n |-- Preferred Merchant Variation Score: string (nullable = true)\n |-- Multiple Location Fraud Score: string (nullable = true)\n |-- Fraudster Merchant Score: string (nullable = true)\n |-- no_of_transactions_in_the_day: string (nullable = true)\n |-- max_transaction_amount_in_the_day: string (nullable = true)\n |-- avg_transaction_amount_in_the_day: string (nullable = true)\n |-- no_of_transactions_in_the_month: string (nullable = true)\n |-- max_transaction_amount_the_month: string (nullable = true)\n |-- avg_transaction_amount_the_month: string (nullable = true)\n |-- no_of_transactions_of_the_same_merchant_in_the_day: string (nullable = true)\n |-- max_transactions_of_the_same_merchant_in_the_day: string (nullable = true)\n |-- avg_transactions_of_the_same_merchant_in_the_day: string (nullable = true)\n |-- no_of_transactions_of_the_same_merchant_in_the_month: string (nullable = true)\n |-- max_transactions_of_the_same_merchant_in_the_month: string (nullable = true)\n |-- avg_transactions_of_the_same_merchant_in_the_month: string (nullable = true)\n\n",
          "name": "block.stdout:ReadCsvProjectSpace_1",
          "pathname": null,
          "process": null,
          "processName": null,
          "thread": null,
          "threadName": null
         },
         {
          "asctime": "2021-03-25 06:48:40,994",
          "created": 1616654920.9948723,
          "exc_info": null,
          "extra": {},
          "filename": null,
          "full_message": null,
          "funcName": null,
          "levelname": "STDOUT",
          "lineno": null,
          "message": "BYE!!\n",
          "name": "block.stdout:ReadCsvProjectSpace_1",
          "pathname": null,
          "process": null,
          "processName": null,
          "thread": null,
          "threadName": null
         },
         {
          "asctime": "2021-03-25 06:48:40,995",
          "created": 1616654920.995002,
          "exc_info": null,
          "extra": {},
          "filename": null,
          "full_message": null,
          "funcName": null,
          "levelname": "STDOUT",
          "lineno": null,
          "message": "SPARK SESSION <py4j.java_gateway.JVMView object at 0x7fcfc053c8d0>\n",
          "name": "block.stdout:ReadCsvProjectSpace_1",
          "pathname": null,
          "process": null,
          "processName": null,
          "thread": null,
          "threadName": null
         },
         {
          "asctime": "2021-03-25 06:48:41,032",
          "created": 1616654921.0321891,
          "extra": {},
          "filename": "async_executors.py",
          "funcName": "distribute_output_queue",
          "levelname": "DEBUG",
          "lineno": 308,
          "message": "ReadCsvProjectSpace_1: ---- dist output: DataFrame[transaction_id: string, time: string, customer_name: string, card_number: string, card_type: string, physical_card_type: string, merchant_id: string, merchant_city: string, merchant_state: string, transaction_type: string, transaction_type_sub: string, amount: string, product_type: string, fraud_risk: string, One Time Heavy Loot Score: string, Drastic Transaction Change Pattern Score: string, Parasitic Fraud Score: string, Purchase Behavior Variation Score: string, Preferred Merchant Variation Score: string, Multiple Location Fraud Score: string, Fraudster Merchant Score: string, no_of_transactions_in_the_day: string, max_transaction_amount_in_the_day: string, avg_transaction_amount_in_the_day: string, no_of_transactions_in_the_month: string, max_transaction_amount_the_month: string, avg_transaction_amount_the_month: string, no_of_transactions_of_the_same_merchant_in_the_day: string, max_transactions_of_the_same_merchant_in_the_day: string, avg_transactions_of_the_same_merchant_in_the_day: string, no_of_transactions_of_the_same_merchant_in_the_month: string, max_transactions_of_the_same_merchant_in_the_month: string, avg_transactions_of_the_same_merchant_in_the_month: string] -> ('CustMercTS_1', 'ip_data')",
          "name": "engine.logs:ReadCsvProjectSpace_1",
          "pathname": "/usr/local/lib/python3.7/dist-packages/razor/flow/async_executors.py",
          "process": 259,
          "processName": "ForkProcess-1:2",
          "thread": 140532516312896,
          "threadName": "MainThread"
         },
         {
          "asctime": "2021-03-25 06:48:41,032",
          "created": 1616654921.0328557,
          "extra": {},
          "filename": "async_executors.py",
          "funcName": "main",
          "levelname": "DEBUG",
          "lineno": 147,
          "message": "ReadCsvProjectSpace_1: block thread completed",
          "name": "engine.logs:ReadCsvProjectSpace_1",
          "pathname": "/usr/local/lib/python3.7/dist-packages/razor/flow/async_executors.py",
          "process": 259,
          "processName": "ForkProcess-1:2",
          "thread": 140532516312896,
          "threadName": "MainThread"
         },
         {
          "asctime": "2021-03-25 06:48:41,033",
          "created": 1616654921.0330548,
          "extra": {},
          "filename": "async_executors.py",
          "funcName": "main",
          "levelname": "DEBUG",
          "lineno": 149,
          "message": "ReadCsvProjectSpace_1: block execution complete",
          "name": "engine.logs:ReadCsvProjectSpace_1",
          "pathname": "/usr/local/lib/python3.7/dist-packages/razor/flow/async_executors.py",
          "process": 259,
          "processName": "ForkProcess-1:2",
          "thread": 140532516312896,
          "threadName": "MainThread"
         },
         {
          "asctime": "2021-03-25 06:48:41,033",
          "created": 1616654921.0334604,
          "extra": {},
          "filename": "async_executors.py",
          "funcName": "distribute_output_queue",
          "levelname": "DEBUG",
          "lineno": 308,
          "message": "ReadCsvProjectSpace_1: ---- dist output: b'__!\\tEndOfStream\\t!__' -> ('CustMercTS_1', 'ip_data')",
          "name": "engine.logs:ReadCsvProjectSpace_1",
          "pathname": "/usr/local/lib/python3.7/dist-packages/razor/flow/async_executors.py",
          "process": 259,
          "processName": "ForkProcess-1:2",
          "thread": 140532516312896,
          "threadName": "MainThread"
         },
         {
          "asctime": "2021-03-25 06:48:41,053",
          "created": 1616654921.0531332,
          "extra": {},
          "filename": "async_executors.py",
          "funcName": "start_input_receiver",
          "levelname": "DEBUG",
          "lineno": 173,
          "message": "ReadCsvProjectSpace_1: received cmd: start_sender, (), {'out_name': 'data', 'target': ('CustMercTS_1', 'ip_data'), 'out_addr': 'tcp://0.0.0.0:61656', 'in_memory': True}",
          "name": "engine.logs:ReadCsvProjectSpace_1",
          "pathname": "/usr/local/lib/python3.7/dist-packages/razor/flow/async_executors.py",
          "process": 259,
          "processName": "ForkProcess-1:2",
          "thread": 140532516312896,
          "threadName": "MainThread"
         },
         {
          "asctime": "2021-03-25 06:48:41,053",
          "created": 1616654921.0536277,
          "extra": {},
          "filename": "async_executors.py",
          "funcName": "start_output_sender",
          "levelname": "DEBUG",
          "lineno": 370,
          "message": "ReadCsvProjectSpace_1: got start_sender, data, ('CustMercTS_1', 'ip_data')",
          "name": "engine.logs:ReadCsvProjectSpace_1",
          "pathname": "/usr/local/lib/python3.7/dist-packages/razor/flow/async_executors.py",
          "process": 259,
          "processName": "ForkProcess-1:2",
          "thread": 140532516312896,
          "threadName": "MainThread"
         },
         {
          "asctime": "2021-03-25 06:48:41,055",
          "created": 1616654921.055314,
          "extra": {},
          "filename": "async_executors.py",
          "funcName": "start_output_sender",
          "levelname": "DEBUG",
          "lineno": 375,
          "message": "ReadCsvProjectSpace_1: SENT, ip_data, DataFrame[transaction_id: string, time: string, customer_name: string, card_number: string, card_type: string, physical_card_type: string, merchant_id: string, merchant_city: string, merchant_state: string, transaction_type: string, transaction_type_sub: string, amount: string, product_type: string, fraud_risk: string, One Time Heavy Loot Score: string, Drastic Transaction Change Pattern Score: string, Parasitic Fraud Score: string, Purchase Behavior Variation Score: string, Preferred Merchant Variation Score: string, Multiple Location Fraud Score: string, Fraudster Merchant Score: string, no_of_transactions_in_the_day: string, max_transaction_amount_in_the_day: string, avg_transaction_amount_in_the_day: string, no_of_transactions_in_the_month: string, max_transaction_amount_the_month: string, avg_transaction_amount_the_month: string, no_of_transactions_of_the_same_merchant_in_the_day: string, max_transactions_of_the_same_merchant_in_the_day: string, avg_transactions_of_the_same_merchant_in_the_day: string, no_of_transactions_of_the_same_merchant_in_the_month: string, max_transactions_of_the_same_merchant_in_the_month: string, avg_transactions_of_the_same_merchant_in_the_month: string], ('CustMercTS_1', 'ip_data')",
          "name": "engine.logs:ReadCsvProjectSpace_1",
          "pathname": "/usr/local/lib/python3.7/dist-packages/razor/flow/async_executors.py",
          "process": 259,
          "processName": "ForkProcess-1:2",
          "thread": 140532516312896,
          "threadName": "MainThread"
         },
         {
          "asctime": "2021-03-25 06:48:41,055",
          "created": 1616654921.0555263,
          "extra": {},
          "filename": "async_executors.py",
          "funcName": "start_output_sender",
          "levelname": "DEBUG",
          "lineno": 375,
          "message": "ReadCsvProjectSpace_1: SENT, ip_data, b'__!\\tEndOfStream\\t!__', ('CustMercTS_1', 'ip_data')",
          "name": "engine.logs:ReadCsvProjectSpace_1",
          "pathname": "/usr/local/lib/python3.7/dist-packages/razor/flow/async_executors.py",
          "process": 259,
          "processName": "ForkProcess-1:2",
          "thread": 140532516312896,
          "threadName": "MainThread"
         },
         {
          "asctime": "2021-03-25 06:48:41,055",
          "created": 1616654921.0556755,
          "extra": {},
          "filename": "async_executors.py",
          "funcName": "start_output_sender",
          "levelname": "DEBUG",
          "lineno": 379,
          "message": "ReadCsvProjectSpace_1: completed output: ('data', ('CustMercTS_1', 'ip_data'))",
          "name": "engine.logs:ReadCsvProjectSpace_1",
          "pathname": "/usr/local/lib/python3.7/dist-packages/razor/flow/async_executors.py",
          "process": 259,
          "processName": "ForkProcess-1:2",
          "thread": 140532516312896,
          "threadName": "MainThread"
         },
         {
          "asctime": "2021-03-25 06:48:41,059",
          "created": 1616654921.0596206,
          "extra": {},
          "filename": "async_executors.py",
          "funcName": "fill_atomic_inputs",
          "levelname": "DEBUG",
          "lineno": 253,
          "message": "CustMercTS_1: got atomic input: DataFrame[transaction_id: string, time: string, customer_name: string, card_number: string, card_type: string, physical_card_type: string, merchant_id: string, merchant_city: string, merchant_state: string, transaction_type: string, transaction_type_sub: string, amount: string, product_type: string, fraud_risk: string, One Time Heavy Loot Score: string, Drastic Transaction Change Pattern Score: string, Parasitic Fraud Score: string, Purchase Behavior Variation Score: string, Preferred Merchant Variation Score: string, Multiple Location Fraud Score: string, Fraudster Merchant Score: string, no_of_transactions_in_the_day: string, max_transaction_amount_in_the_day: string, avg_transaction_amount_in_the_day: string, no_of_transactions_in_the_month: string, max_transaction_amount_the_month: string, avg_transaction_amount_the_month: string, no_of_transactions_of_the_same_merchant_in_the_day: string, max_transactions_of_the_same_merchant_in_the_day: string, avg_transactions_of_the_same_merchant_in_the_day: string, no_of_transactions_of_the_same_merchant_in_the_month: string, max_transactions_of_the_same_merchant_in_the_month: string, avg_transactions_of_the_same_merchant_in_the_month: string]",
          "name": "engine.logs:CustMercTS_1",
          "pathname": "/usr/local/lib/python3.7/dist-packages/razor/flow/async_executors.py",
          "process": 259,
          "processName": "ForkProcess-1:2",
          "thread": 140532516312896,
          "threadName": "MainThread"
         },
         {
          "asctime": "2021-03-25 06:48:41,059",
          "created": 1616654921.0597954,
          "extra": {},
          "filename": "async_executors.py",
          "funcName": "fill_atomic_inputs",
          "levelname": "INFO",
          "lineno": 250,
          "message": "CustMercTS_1: waiting for atomic input: config",
          "name": "engine.logs:CustMercTS_1",
          "pathname": "/usr/local/lib/python3.7/dist-packages/razor/flow/async_executors.py",
          "process": 259,
          "processName": "ForkProcess-1:2",
          "thread": 140532516312896,
          "threadName": "MainThread"
         },
         {
          "asctime": "2021-03-25 06:48:41,059",
          "created": 1616654921.05987,
          "extra": {},
          "filename": "async_executors.py",
          "funcName": "fill_atomic_inputs",
          "levelname": "DEBUG",
          "lineno": 253,
          "message": "CustMercTS_1: got atomic input: {}",
          "name": "engine.logs:CustMercTS_1",
          "pathname": "/usr/local/lib/python3.7/dist-packages/razor/flow/async_executors.py",
          "process": 259,
          "processName": "ForkProcess-1:2",
          "thread": 140532516312896,
          "threadName": "MainThread"
         },
         {
          "asctime": "2021-03-25 06:48:41,059",
          "created": 1616654921.059913,
          "extra": {},
          "filename": "async_executors.py",
          "funcName": "fill_atomic_inputs",
          "levelname": "INFO",
          "lineno": 250,
          "message": "CustMercTS_1: waiting for atomic input: source",
          "name": "engine.logs:CustMercTS_1",
          "pathname": "/usr/local/lib/python3.7/dist-packages/razor/flow/async_executors.py",
          "process": 259,
          "processName": "ForkProcess-1:2",
          "thread": 140532516312896,
          "threadName": "MainThread"
         },
         {
          "asctime": "2021-03-25 06:48:41,062",
          "created": 1616654921.062584,
          "extra": {},
          "filename": "async_executors.py",
          "funcName": "start_input_receiver",
          "levelname": "DEBUG",
          "lineno": 173,
          "message": "ReadCsvProjectSpace_1: received cmd: terminate, (), {}",
          "name": "engine.logs:ReadCsvProjectSpace_1",
          "pathname": "/usr/local/lib/python3.7/dist-packages/razor/flow/async_executors.py",
          "process": 259,
          "processName": "ForkProcess-1:2",
          "thread": 140532516312896,
          "threadName": "MainThread"
         },
         {
          "asctime": "2021-03-25 06:48:41,060",
          "created": 1616654921.0600348,
          "extra": {},
          "filename": "async_executors.py",
          "funcName": "fill_atomic_inputs",
          "levelname": "DEBUG",
          "lineno": 253,
          "message": "CustMercTS_1: got atomic input: ",
          "name": "engine.logs:CustMercTS_1",
          "pathname": "/usr/local/lib/python3.7/dist-packages/razor/flow/async_executors.py",
          "process": 259,
          "processName": "ForkProcess-1:2",
          "thread": 140532516312896,
          "threadName": "MainThread"
         },
         {
          "asctime": "2021-03-25 06:48:41,060",
          "created": 1616654921.060134,
          "extra": {},
          "filename": "async_executors.py",
          "funcName": "main",
          "levelname": "DEBUG",
          "lineno": 130,
          "message": "CustMercTS_1: triggering block run",
          "name": "engine.logs:CustMercTS_1",
          "pathname": "/usr/local/lib/python3.7/dist-packages/razor/flow/async_executors.py",
          "process": 259,
          "processName": "ForkProcess-1:2",
          "thread": 140532516312896,
          "threadName": "MainThread"
         },
         {
          "asctime": "2021-03-25 06:48:48,077",
          "created": 1616654928.0774145,
          "exc_info": null,
          "extra": {},
          "filename": null,
          "full_message": null,
          "funcName": null,
          "levelname": "STDOUT",
          "lineno": null,
          "message": "{clone} row count is: 2202\n",
          "name": "block.stdout:CustMercTS_1",
          "pathname": null,
          "process": null,
          "processName": null,
          "thread": null,
          "threadName": null
         },
         {
          "asctime": "2021-03-25 06:48:48,106",
          "created": 1616654928.1060834,
          "exc_info": null,
          "extra": {},
          "filename": null,
          "full_message": null,
          "funcName": null,
          "levelname": "STDOUT",
          "lineno": null,
          "message": "SPARK SESSION ONE  <py4j.java_gateway.JVMView object at 0x7fcfc053c8d0>\n",
          "name": "block.stdout:CustMercTS_1",
          "pathname": null,
          "process": null,
          "processName": null,
          "thread": null,
          "threadName": null
         },
         {
          "asctime": "2021-03-25 06:49:14,492",
          "created": 1616654954.492968,
          "exc_info": null,
          "extra": {},
          "filename": null,
          "full_message": null,
          "funcName": null,
          "levelname": "STDOUT",
          "lineno": null,
          "message": "+--------------------+-------------------+-----------------+--------------------+--------------------------------------------+----------------------------------------------+--------------------------------------------+--------------------------------------------+---------------------------------------------+-----------------------------------------------+---------------------------------------------+---------------------------------------------+------------------------------------------------+--------------------------------------------------+------------------------------------------------+------------------------------------------------+-----------------------------------------------------+-------------------------------------------------------+-----------------------------------------------------+-----------------------------------------------------+----------------------------------------------+------------------------------------------------+----------------------------------------------+----------------------------------------------+--------------------------------------------+----------------------------------------------+--------------------------------------------+--------------------------------------------+--------------------------------------------+----------------------------------------------+--------------------------------------------+--------------------------------------------+---------------------------------------------+-----------------------------------------------+---------------------------------------------+---------------------------------------------+\n|      transaction_id|               time|    customer_name|         card_number|last_one_hour_total_customer_transaction_sum|last_one_hour_total_customer_transaction_count|last_one_hour_total_customer_transaction_max|last_one_hour_total_customer_transaction_avg|last_six_hours_total_customer_transaction_sum|last_six_hours_total_customer_transaction_count|last_six_hours_total_customer_transaction_max|last_six_hours_total_customer_transaction_avg|last_twelve_hours_total_customer_transaction_sum|last_twelve_hours_total_customer_transaction_count|last_twelve_hours_total_customer_transaction_max|last_twelve_hours_total_customer_transaction_avg|last_twenty_four_hours_total_customer_transaction_sum|last_twenty_four_hours_total_customer_transaction_count|last_twenty_four_hours_total_customer_transaction_max|last_twenty_four_hours_total_customer_transaction_avg|last_three_days_total_customer_transaction_sum|last_three_days_total_customer_transaction_count|last_three_days_total_customer_transaction_max|last_three_days_total_customer_transaction_avg|last_one_week_total_customer_transaction_sum|last_one_week_total_customer_transaction_count|last_one_week_total_customer_transaction_max|last_one_week_total_customer_transaction_avg|last_two_week_total_customer_transaction_sum|last_two_week_total_customer_transaction_count|last_two_week_total_customer_transaction_max|last_two_week_total_customer_transaction_avg|last_one_month_total_customer_transaction_sum|last_one_month_total_customer_transaction_count|last_one_month_total_customer_transaction_max|last_one_month_total_customer_transaction_avg|\n+--------------------+-------------------+-----------------+--------------------+--------------------------------------------+----------------------------------------------+--------------------------------------------+--------------------------------------------+---------------------------------------------+-----------------------------------------------+---------------------------------------------+---------------------------------------------+------------------------------------------------+--------------------------------------------------+------------------------------------------------+------------------------------------------------+-----------------------------------------------------+-------------------------------------------------------+-----------------------------------------------------+-----------------------------------------------------+----------------------------------------------+------------------------------------------------+----------------------------------------------+----------------------------------------------+--------------------------------------------+----------------------------------------------+--------------------------------------------+--------------------------------------------+--------------------------------------------+----------------------------------------------+--------------------------------------------+--------------------------------------------+---------------------------------------------+-----------------------------------------------+---------------------------------------------+---------------------------------------------+\n|1f67ffa2-80e7-459...|2018-03-12 02:06:00|Elizabeth Brawley|b8ad67c3-effd-442...|                                           0|                                             0|                                           0|                                         0.0|                                            0|                                              0|                                            0|                                          0.0|                                               0|                                                 0|                                               0|                                             0.0|                                                    0|                                                      0|                                                    0|                                                  0.0|                                             0|                                               0|                                             0|                                           0.0|                                           0|                                             0|                                           0|                                         0.0|                                           0|                                             0|                                           0|                                         0.0|                                            0|                                              0|                                            0|                                          0.0|\n|6fb28235-14b0-480...|2018-03-12 16:31:00|Elizabeth Brawley|dd77d1cd-1f14-4fd...|                                           0|                                             0|                                           0|                                         0.0|                                            0|                                              0|                                            0|                                          0.0|                                               0|                                                 0|                                               0|                                             0.0|                                                    0|                                                      0|                                                    0|                                                  0.0|                                             0|                                               0|                                             0|                                           0.0|                                           0|                                             0|                                           0|                                         0.0|                                           0|                                             0|                                           0|                                         0.0|                                            0|                                              0|                                            0|                                          0.0|\n|89839019-b3ec-44b...|2018-03-12 13:21:00|Elizabeth Brawley|c8c62bd1-edb5-491...|                                           0|                                             0|                                           0|                                         0.0|                                            0|                                              0|                                            0|                                          0.0|                                               0|                                                 0|                                               0|                                             0.0|                                                    0|                                                      0|                                                    0|                                                  0.0|                                             0|                                               0|                                             0|                                           0.0|                                           0|                                             0|                                           0|                                         0.0|                                           0|                                             0|                                           0|                                         0.0|                                            0|                                              0|                                            0|                                          0.0|\n|4a0923eb-3fe1-4d4...|2018-03-12 14:11:00|Elizabeth Brawley|9f9ffcd8-87bd-417...|                                           0|                                             0|                                           0|                                         0.0|                                            0|                                              0|                                            0|                                          0.0|                                               0|                                                 0|                                               0|                                             0.0|                                                    0|                                                      0|                                                    0|                                                  0.0|                                             0|                                               0|                                             0|                                           0.0|                                           0|                                             0|                                           0|                                         0.0|                                           0|                                             0|                                           0|                                         0.0|                                            0|                                              0|                                            0|                                          0.0|\n|f7243898-036a-44f...|2018-03-12 13:15:00|Elizabeth Brawley|2bf7e056-eb23-4c8...|                                           0|                                             0|                                           0|                                         0.0|                                            0|                                              0|                                            0|                                          0.0|                                               0|                                                 0|                                               0|                                             0.0|                                                    0|                                                      0|                                                    0|                                                  0.0|                                             0|                                               0|                                             0|                                           0.0|                                           0|                                             0|                                           0|                                         0.0|                                           0|                                             0|                                           0|                                         0.0|                                            0|                                              0|                                            0|                                          0.0|\n|89489648-180a-439...|2018-03-12 09:15:00|Elizabeth Brawley|801d65c4-c2af-460...|                                           0|                                             0|                                           0|                                         0.0|                                            0|                                              0|                                            0|                                          0.0|                                               0|                                                 0|                                               0|                                             0.0|                                                    0|                                                      0|                                                    0|                                                  0.0|                                             0|                                               0|                                             0|                                           0.0|                                           0|                                             0|                                           0|                                         0.0|                                           0|                                             0|                                           0|                                         0.0|                                            0|                                              0|                                            0|                                          0.0|\n|3ce2dcd5-622f-4ec...|2018-03-12 12:35:00|Elizabeth Brawley|0a27a4f4-18a8-4fd...|                                           0|                                             0|                                           0|                                         0.0|                                            0|                                              0|                                            0|                                          0.0|                                               0|                                                 0|                                               0|                                             0.0|                                                    0|                                                      0|                                                    0|                                                  0.0|                                             0|                                               0|                                             0|                                           0.0|                                           0|                                             0|                                           0|                                         0.0|                                           0|                                             0|                                           0|                                         0.0|                                            0|                                              0|                                            0|                                          0.0|\n|5b74e885-074e-4b5...|2018-03-12 16:17:00|Elizabeth Brawley|9d8a297c-2a74-495...|                                           0|                                             0|                                           0|                                         0.0|                                            0|                                              0|                                            0|                                          0.0|                                               0|                                                 0|                                               0|                                             0.0|                                                    0|                                                      0|                                                    0|                                                  0.0|                                             0|                                               0|                                             0|                                           0.0|                                           0|                                             0|                                           0|                                         0.0|                                           0|                                             0|                                           0|                                         0.0|                                            0|                                              0|                                            0|                                          0.0|\n|0598fc62-135b-4d4...|2018-03-12 18:37:00|Elizabeth Brawley|ea33bae7-c6a4-4ce...|                                           0|                                             0|                                           0|                                         0.0|                                            0|                                              0|                                            0|                                          0.0|                                               0|                                                 0|                                               0|                                             0.0|                                                    0|                                                      0|                                                    0|                                                  0.0|                                             0|                                               0|                                             0|                                           0.0|                                           0|                                             0|                                           0|                                         0.0|                                           0|                                             0|                                           0|                                         0.0|                                            0|                                              0|                                            0|                                          0.0|\n|df236dad-4980-440...|2018-03-12 18:07:00|Elizabeth Brawley|617fe136-d245-4b6...|                                           0|                                             0|                                           0|                                         0.0|                                            0|                                              0|                                            0|                                          0.0|                                               0|                                                 0|                                               0|                                             0.0|                                                    0|                                                      0|                                                    0|                                                  0.0|                                             0|                                               0|                                             0|                                           0.0|                                           0|                                             0|                                           0|                                         0.0|                                           0|                                             0|                                           0|                                         0.0|                                            0|                                              0|                                            0|                                          0.0|\n|2ede14af-9a83-4ea...|2018-03-12 22:03:00|Elizabeth Brawley|88d39e1a-24ce-467...|                                           0|                                             0|                                           0|                                         0.0|                                            0|                                              0|                                            0|                                          0.0|                                               0|                                                 0|                                               0|                                             0.0|                                                    0|                                                      0|                                                    0|                                                  0.0|                                             0|                                               0|                                             0|                                           0.0|                                           0|                                             0|                                           0|                                         0.0|                                           0|                                             0|                                           0|                                         0.0|                                            0|                                              0|                                            0|                                          0.0|\n|5675879a-f5c9-402...|2018-03-12 01:55:00|Elizabeth Brawley|345536ad-a301-43a...|                                           0|                                             0|                                           0|                                         0.0|                                            0|                                              0|                                            0|                                          0.0|                                               0|                                                 0|                                               0|                                             0.0|                                                    0|                                                      0|                                                    0|                                                  0.0|                                             0|                                               0|                                             0|                                           0.0|                                           0|                                             0|                                           0|                                         0.0|                                           0|                                             0|                                           0|                                         0.0|                                            0|                                              0|                                            0|                                          0.0|\n|7013beb5-9539-467...|2018-03-12 23:02:00|Elizabeth Brawley|5d1458d4-c617-4f8...|                                           0|                                             0|                                           0|                                         0.0|                                            0|                                              0|                                            0|                                          0.0|                                               0|                                                 0|                                               0|                                             0.0|                                                    0|                                                      0|                                                    0|                                                  0.0|                                             0|                                               0|                                             0|                                           0.0|                                           0|                                             0|                                           0|                                         0.0|                                           0|                                             0|                                           0|                                         0.0|                                            0|                                              0|                                            0|                                          0.0|\n|db95a985-150f-4ea...|2018-03-12 04:59:00|Elizabeth Brawley|3d86f91f-8f02-4cd...|                                           0|                                             0|                                           0|                                         0.0|                                            0|                                              0|                                            0|                                          0.0|                                               0|                                                 0|                                               0|                                             0.0|                                                    0|                                                      0|                                                    0|                                                  0.0|                                             0|                                               0|                                             0|                                           0.0|                                           0|                                             0|                                           0|                                         0.0|                                           0|                                             0|                                           0|                                         0.0|                                            0|                                              0|                                            0|                                          0.0|\n|26ba833c-0a1b-4dd...|2018-03-12 13:36:00|Elizabeth Brawley|c50946aa-23e4-453...|                                           0|                                             0|                                           0|                                         0.0|                                            0|                                              0|                                            0|                                          0.0|                                               0|                                                 0|                                               0|                                             0.0|                                                    0|                                                      0|                                                    0|                                                  0.0|                                             0|                                               0|                                             0|                                           0.0|                                           0|                                             0|                                           0|                                         0.0|                                           0|                                             0|                                           0|                                         0.0|                                            0|                                              0|                                            0|                                          0.0|\n|71694f34-efa6-497...|2018-03-12 09:14:00|Elizabeth Brawley|20bdbcf0-11b7-4f8...|                                           0|                                             0|                                           0|                                         0.0|                                            0|                                              0|                                            0|                                          0.0|                                               0|                                                 0|                                               0|                                             0.0|                                                    0|                                                      0|                                                    0|                                                  0.0|                                             0|                                               0|                                             0|                                           0.0|                                           0|                                             0|                                           0|                                         0.0|                                           0|                                             0|                                           0|                                         0.0|                                            0|                                              0|                                            0|                                          0.0|\n|a56756e2-3082-44d...|2018-03-12 22:58:00|Elizabeth Brawley|862d37ef-2d9a-486...|                                           0|                                             0|                                           0|                                         0.0|                                            0|                                              0|                                            0|                                          0.0|                                               0|                                                 0|                                               0|                                             0.0|                                                    0|                                                      0|                                                    0|                                                  0.0|                                             0|                                               0|                                             0|                                           0.0|                                           0|                                             0|                                           0|                                         0.0|                                           0|                                             0|                                           0|                                         0.0|                                            0|                                              0|                                            0|                                          0.0|\n|c1454e5c-8972-4ea...|2018-07-09 17:03:00|  Brandon Sturkie|65b4eda1-a440-493...|                                           0|                                             0|                                           0|                                         0.0|                                            0|                                              0|                                            0|                                          0.0|                                               0|                                                 0|                                               0|                                             0.0|                                                    0|                                                      0|                                                    0|                                                  0.0|                                             0|                                               0|                                             0|                                           0.0|                                           0|                                             0|                                           0|                                         0.0|                                           0|                                             0|                                           0|                                         0.0|                                          826|                                              4|                                          299|                                        206.5|\n|4bdd16fe-a24d-495...|2018-07-14 13:46:00|  Brandon Sturkie|65b4eda1-a440-493...|                                           0|                                             0|                                           0|                                         0.0|                                            0|                                              0|                                            0|                                          0.0|                                               0|                                                 0|                                               0|                                             0.0|                                                    0|                                                      0|                                                    0|                                                  0.0|                                             0|                                               0|                                             0|                                           0.0|                                           6|                                             1|                                           6|                                         6.0|                                           6|                                             1|                                           6|                                         6.0|                                           15|                                              2|                                            9|                                          7.5|\n|09f022fd-f9c5-46e...|2018-07-18 23:28:00|  Brandon Sturkie|65b4eda1-a440-493...|                                           0|                                             0|                                           0|                                         0.0|                                            0|                                              0|                                            0|                                          0.0|                                               0|                                                 0|                                               0|                                             0.0|                                                    0|                                                      0|                                                    0|                                                  0.0|                                             0|                                               0|                                             0|                                           0.0|                                         240|                                             1|                                         240|                                       240.0|                                         246|                                             2|                                         240|                                       123.0|                                          246|                                              2|                                          240|                                        123.0|\n+--------------------+-------------------+-----------------+--------------------+--------------------------------------------+----------------------------------------------+--------------------------------------------+--------------------------------------------+---------------------------------------------+-----------------------------------------------+---------------------------------------------+---------------------------------------------+------------------------------------------------+--------------------------------------------------+------------------------------------------------+------------------------------------------------+-----------------------------------------------------+-------------------------------------------------------+-----------------------------------------------------+-----------------------------------------------------+----------------------------------------------+------------------------------------------------+----------------------------------------------+----------------------------------------------+--------------------------------------------+----------------------------------------------+--------------------------------------------+--------------------------------------------+--------------------------------------------+----------------------------------------------+--------------------------------------------+--------------------------------------------+---------------------------------------------+-----------------------------------------------+---------------------------------------------+---------------------------------------------+\nonly showing top 20 rows\n\n",
          "name": "block.stdout:CustMercTS_1",
          "pathname": null,
          "process": null,
          "processName": null,
          "thread": null,
          "threadName": null
         },
         {
          "asctime": "2021-03-25 06:49:18,491",
          "created": 1616654958.4913545,
          "exc_info": null,
          "extra": {},
          "filename": null,
          "full_message": null,
          "funcName": null,
          "levelname": "STDOUT",
          "lineno": null,
          "message": "+--------------------+-----------+-------------+--------------+--------------------------------------------+----------------------------------------------+--------------------------------------------+--------------------------------------------+--------------------------------------------+----------------------------------------------+--------------------------------------------+--------------------------------------------+-----------------------------------------------+-------------------------------------------------+-----------------------------------------------+-----------------------------------------------+----------------------------------------------------+------------------------------------------------------+----------------------------------------------------+----------------------------------------------------+----------------------------------------------+------------------------------------------------+----------------------------------------------+----------------------------------------------+\n|      transaction_id|merchant_id|merchant_city|merchant_state|last_one_hour_total_merchant_transaction_sum|last_one_hour_total_merchant_transaction_count|last_one_hour_total_merchant_transaction_max|last_one_hour_total_merchant_transaction_avg|last_six_hour_total_merchant_transaction_sum|last_six_hour_total_merchant_transaction_count|last_six_hour_total_merchant_transaction_max|last_six_hour_total_merchant_transaction_avg|last_twelve_hour_total_merchant_transaction_sum|last_twelve_hour_total_merchant_transaction_count|last_twelve_hour_total_merchant_transaction_max|last_twelve_hour_total_merchant_transaction_avg|last_twenty_four_hour_total_merchant_transaction_sum|last_twenty_four_hour_total_merchant_transaction_count|last_twenty_four_hour_total_merchant_transaction_max|last_twenty_four_hour_total_merchant_transaction_avg|last_three_days_total_merchant_transaction_sum|last_three_days_total_merchant_transaction_count|last_three_days_total_merchant_transaction_max|last_three_days_total_merchant_transaction_avg|\n+--------------------+-----------+-------------+--------------+--------------------------------------------+----------------------------------------------+--------------------------------------------+--------------------------------------------+--------------------------------------------+----------------------------------------------+--------------------------------------------+--------------------------------------------+-----------------------------------------------+-------------------------------------------------+-----------------------------------------------+-----------------------------------------------+----------------------------------------------------+------------------------------------------------------+----------------------------------------------------+----------------------------------------------------+----------------------------------------------+------------------------------------------------+----------------------------------------------+----------------------------------------------+\n|8bbd694f-cf23-4e9...|    1000795|    Bay Shore|      New York|                                           0|                                             0|                                           0|                                         0.0|                                           0|                                             0|                                           0|                                         0.0|                                              0|                                                0|                                              0|                                            0.0|                                                   0|                                                     0|                                                   0|                                                 0.0|                                             0|                                               0|                                             0|                                           0.0|\n|c9cbbdd6-2cf7-4ec...|    1000096|         Otto|       Wyoming|                                           0|                                             0|                                           0|                                         0.0|                                           0|                                             0|                                           0|                                         0.0|                                              0|                                                0|                                              0|                                            0.0|                                                   0|                                                     0|                                                   0|                                                 0.0|                                             0|                                               0|                                             0|                                           0.0|\n|25b44c0b-c06c-40c...|    1000096|         Otto|       Wyoming|                                           0|                                             0|                                           0|                                         0.0|                                           0|                                             0|                                           0|                                         0.0|                                              0|                                                0|                                              0|                                            0.0|                                                   0|                                                     0|                                                   0|                                                 0.0|                                             0|                                               0|                                             0|                                           0.0|\n|c11e0eb9-c78f-481...|    1000096|         Otto|       Wyoming|                                           0|                                             0|                                           0|                                         0.0|                                           0|                                             0|                                           0|                                         0.0|                                              0|                                                0|                                              0|                                            0.0|                                                   0|                                                     0|                                                   0|                                                 0.0|                                             0|                                               0|                                             0|                                           0.0|\n|dbe86b45-b1e2-444...|    1000096|         Otto|       Wyoming|                                           0|                                             0|                                           0|                                         0.0|                                           0|                                             0|                                           0|                                         0.0|                                              0|                                                0|                                              0|                                            0.0|                                                   0|                                                     0|                                                   0|                                                 0.0|                                             0|                                               0|                                             0|                                           0.0|\n|72df8902-73d1-4aa...|    1000113|      Henagar|       Alabama|                                           0|                                             0|                                           0|                                         0.0|                                           0|                                             0|                                           0|                                         0.0|                                              0|                                                0|                                              0|                                            0.0|                                                   0|                                                     0|                                                   0|                                                 0.0|                                             0|                                               0|                                             0|                                           0.0|\n|8fde6027-13f1-4e1...|    1000113|      Henagar|       Alabama|                                           0|                                             0|                                           0|                                         0.0|                                           0|                                             0|                                           0|                                         0.0|                                              0|                                                0|                                              0|                                            0.0|                                                   0|                                                     0|                                                   0|                                                 0.0|                                             0|                                               0|                                             0|                                           0.0|\n|32e15d54-b117-422...|    1000113|      Henagar|       Alabama|                                           0|                                             0|                                           0|                                         0.0|                                           0|                                             0|                                           0|                                         0.0|                                              0|                                                0|                                              0|                                            0.0|                                                   0|                                                     0|                                                   0|                                                 0.0|                                             0|                                               0|                                             0|                                           0.0|\n|9764a134-9793-437...|    1000113|      Henagar|       Alabama|                                           0|                                             0|                                           0|                                         0.0|                                           0|                                             0|                                           0|                                         0.0|                                              0|                                                0|                                              0|                                            0.0|                                                   0|                                                     0|                                                   0|                                                 0.0|                                             0|                                               0|                                             0|                                           0.0|\n|141649d9-d661-430...|    1000113|      Henagar|       Alabama|                                           0|                                             0|                                           0|                                         0.0|                                           6|                                             1|                                           6|                                         6.0|                                              6|                                                1|                                              6|                                            6.0|                                                   6|                                                     1|                                                   6|                                                 6.0|                                             6|                                               1|                                             6|                                           6.0|\n|49a2e33b-706c-46c...|    1000113|      Henagar|       Alabama|                                           0|                                             0|                                           0|                                         0.0|                                           0|                                             0|                                           0|                                         0.0|                                              0|                                                0|                                              0|                                            0.0|                                                   0|                                                     0|                                                   0|                                                 0.0|                                             0|                                               0|                                             0|                                           0.0|\n|32da9c21-ad11-42c...|    1000113|      Henagar|       Alabama|                                           0|                                             0|                                           0|                                         0.0|                                           0|                                             0|                                           0|                                         0.0|                                              0|                                                0|                                              0|                                            0.0|                                                   0|                                                     0|                                                   0|                                                 0.0|                                             0|                                               0|                                             0|                                           0.0|\n|12ae5674-aad1-49c...|    1000113|      Henagar|       Alabama|                                           0|                                             0|                                           0|                                         0.0|                                           0|                                             0|                                           0|                                         0.0|                                              0|                                                0|                                              0|                                            0.0|                                                  27|                                                     2|                                                  21|                                                13.5|                                            27|                                               2|                                            21|                                          13.5|\n|9fd21a2b-18a6-46f...|    1000113|      Henagar|       Alabama|                                           0|                                             0|                                           0|                                         0.0|                                           0|                                             0|                                           0|                                         0.0|                                              0|                                                0|                                              0|                                            0.0|                                                   0|                                                     0|                                                   0|                                                 0.0|                                             0|                                               0|                                             0|                                           0.0|\n|170d76f2-41c1-441...|    1000113|      Henagar|       Alabama|                                           0|                                             0|                                           0|                                         0.0|                                           0|                                             0|                                           0|                                         0.0|                                              0|                                                0|                                              0|                                            0.0|                                                   0|                                                     0|                                                   0|                                                 0.0|                                          2516|                                               1|                                          2516|                                        2516.0|\n|e0e2f964-3b0d-4d4...|    1000113|      Henagar|       Alabama|                                           0|                                             0|                                           0|                                         0.0|                                           0|                                             0|                                           0|                                         0.0|                                              0|                                                0|                                              0|                                            0.0|                                                   0|                                                     0|                                                   0|                                                 0.0|                                             0|                                               0|                                             0|                                           0.0|\n|07a38c41-37d4-463...|    1000113|      Henagar|       Alabama|                                           0|                                             0|                                           0|                                         0.0|                                           0|                                             0|                                           0|                                         0.0|                                              0|                                                0|                                              0|                                            0.0|                                                   0|                                                     0|                                                   0|                                                 0.0|                                             0|                                               0|                                             0|                                           0.0|\n|f35cf7d7-4607-40f...|    1000113|      Henagar|       Alabama|                                           0|                                             0|                                           0|                                         0.0|                                           0|                                             0|                                           0|                                         0.0|                                              0|                                                0|                                              0|                                            0.0|                                                   0|                                                     0|                                                   0|                                                 0.0|                                             0|                                               0|                                             0|                                           0.0|\n|2608cf70-a8c0-4d5...|    1001320|       Dacoma|      Oklahoma|                                           0|                                             0|                                           0|                                         0.0|                                           0|                                             0|                                           0|                                         0.0|                                              0|                                                0|                                              0|                                            0.0|                                                   0|                                                     0|                                                   0|                                                 0.0|                                             0|                                               0|                                             0|                                           0.0|\n|26c46b37-c0ad-425...|    1000376|     Sun City|        Kansas|                                           0|                                             0|                                           0|                                         0.0|                                           0|                                             0|                                           0|                                         0.0|                                              0|                                                0|                                              0|                                            0.0|                                                   0|                                                     0|                                                   0|                                                 0.0|                                             0|                                               0|                                             0|                                           0.0|\n+--------------------+-----------+-------------+--------------+--------------------------------------------+----------------------------------------------+--------------------------------------------+--------------------------------------------+--------------------------------------------+----------------------------------------------+--------------------------------------------+--------------------------------------------+-----------------------------------------------+-------------------------------------------------+-----------------------------------------------+-----------------------------------------------+----------------------------------------------------+------------------------------------------------------+----------------------------------------------------+----------------------------------------------------+----------------------------------------------+------------------------------------------------+----------------------------------------------+----------------------------------------------+\nonly showing top 20 rows\n\n",
          "name": "block.stdout:CustMercTS_1",
          "pathname": null,
          "process": null,
          "processName": null,
          "thread": null,
          "threadName": null
         },
         {
          "asctime": "2021-03-25 06:49:21,253",
          "created": 1616654961.2536087,
          "exc_info": null,
          "extra": {},
          "filename": null,
          "full_message": null,
          "funcName": null,
          "levelname": "STDOUT",
          "lineno": null,
          "message": "{clone} row count: 2202\n",
          "name": "block.stdout:CustMercTS_1",
          "pathname": null,
          "process": null,
          "processName": null,
          "thread": null,
          "threadName": null
         },
         {
          "asctime": "2021-03-25 06:49:21,254",
          "created": 1616654961.2547936,
          "extra": {},
          "filename": "async_executors.py",
          "funcName": "main",
          "levelname": "DEBUG",
          "lineno": 147,
          "message": "CustMercTS_1: block thread completed",
          "name": "engine.logs:CustMercTS_1",
          "pathname": "/usr/local/lib/python3.7/dist-packages/razor/flow/async_executors.py",
          "process": 259,
          "processName": "ForkProcess-1:2",
          "thread": 140532516312896,
          "threadName": "MainThread"
         },
         {
          "asctime": "2021-03-25 06:49:21,255",
          "created": 1616654961.2551572,
          "extra": {},
          "filename": "async_executors.py",
          "funcName": "main",
          "levelname": "DEBUG",
          "lineno": 149,
          "message": "CustMercTS_1: block execution complete",
          "name": "engine.logs:CustMercTS_1",
          "pathname": "/usr/local/lib/python3.7/dist-packages/razor/flow/async_executors.py",
          "process": 259,
          "processName": "ForkProcess-1:2",
          "thread": 140532516312896,
          "threadName": "MainThread"
         },
         {
          "asctime": "2021-03-25 06:49:21,263",
          "created": 1616654961.2635596,
          "extra": {},
          "filename": "async_executors.py",
          "funcName": "start_input_receiver",
          "levelname": "DEBUG",
          "lineno": 173,
          "message": "CustMercTS_1: received cmd: terminate, (), {}",
          "name": "engine.logs:CustMercTS_1",
          "pathname": "/usr/local/lib/python3.7/dist-packages/razor/flow/async_executors.py",
          "process": 259,
          "processName": "ForkProcess-1:2",
          "thread": 140532516312896,
          "threadName": "MainThread"
         }
        ],
        "meta": {
         "block_status": {
          "CustMercTS_1": "SUCCESS",
          "NonSparkPath_1": "SUCCESS",
          "ReadCsvProjectSpace_1": "SUCCESS"
         },
         "blocks": [
          {
           "class_name": "CustMercTS",
           "fullname": "razor.project.blocks.ayan_spark_blocks_clone.CustMercTS",
           "id": "82b6026f-eeee-4a6d-b035-a31e8fb4c089",
           "inputs": [
            {
             "dataType": null,
             "default": null,
             "flow": "atomic",
             "help": null,
             "isdict": false,
             "islist": false,
             "label": "ip_data",
             "meta": {},
             "name": "ip_data",
             "series": false,
             "type": "DataFrame",
             "type_check": true
            },
            {
             "dataType": "dict",
             "default": {},
             "flow": "atomic",
             "help": null,
             "isdict": false,
             "islist": false,
             "label": "config",
             "meta": {},
             "name": "config",
             "series": false,
             "type": "dict",
             "type_check": true
            },
            {
             "dataType": "string",
             "default": "",
             "flow": "atomic",
             "help": null,
             "isdict": false,
             "islist": false,
             "label": "source",
             "meta": {},
             "name": "source",
             "series": false,
             "type": "str",
             "type_check": true
            }
           ],
           "outputs": [
            {
             "flow": "atomic",
             "help": null,
             "label": "customer_ts",
             "meta": {},
             "name": "customer_ts",
             "series": false,
             "type": "DataFrame",
             "type_check": true
            },
            {
             "flow": "atomic",
             "help": null,
             "label": "merchant_ts",
             "meta": {},
             "name": "merchant_ts",
             "series": false,
             "type": "DataFrame",
             "type_check": true
            }
           ],
           "overwritten": false,
           "published": true,
           "var_names": [
            "CustMercTS"
           ]
          },
          {
           "class_name": "ReadCsvProjectSpace",
           "fullname": "razor.project.blocks.ayan_spark_blocks_clone.ReadCsvProjectSpace",
           "id": "7c71273a-e9d9-4577-bc4d-97a9d5c7f029",
           "inputs": [
            {
             "dataType": "string",
             "default": "",
             "flow": "atomic",
             "help": null,
             "isdict": false,
             "islist": false,
             "label": "filename",
             "meta": {},
             "name": "filename",
             "series": false,
             "type": "str",
             "type_check": true
            },
            {
             "dataType": "dict",
             "default": {},
             "flow": "atomic",
             "help": null,
             "isdict": false,
             "islist": false,
             "label": "config",
             "meta": {},
             "name": "config",
             "series": false,
             "type": "dict",
             "type_check": true
            },
            {
             "dataType": "string",
             "default": "",
             "flow": "atomic",
             "help": null,
             "isdict": false,
             "islist": false,
             "label": "source",
             "meta": {},
             "name": "source",
             "series": false,
             "type": "str",
             "type_check": true
            }
           ],
           "outputs": [
            {
             "flow": "atomic",
             "help": null,
             "label": "data",
             "meta": {},
             "name": "data",
             "series": false,
             "type": "DataFrame",
             "type_check": true
            }
           ],
           "overwritten": false,
           "published": true,
           "var_names": [
            "ReadCsvProjectSpace"
           ]
          },
          {
           "class_name": "NonSparkPath",
           "fullname": "razor.project.blocks.ayan_spark_blocks_clone.NonSparkPath",
           "id": "dc356ac2-272c-4010-bac0-f69ffe219bfb",
           "inputs": [
            {
             "dataType": "string",
             "default": "",
             "flow": "atomic",
             "help": null,
             "isdict": false,
             "islist": false,
             "label": "ip_path",
             "meta": {},
             "name": "ip_path",
             "series": false,
             "type": "str",
             "type_check": true
            }
           ],
           "outputs": [
            {
             "flow": "atomic",
             "help": null,
             "label": "op_path",
             "meta": {},
             "name": "op_path",
             "series": false,
             "type": "str",
             "type_check": true
            }
           ],
           "overwritten": false,
           "published": true,
           "var_names": [
            "NonSparkPath"
           ]
          }
         ],
         "connections": [
          {
           "id": "73c74288-f0f1-4cdc-9798-d78741a450b7",
           "source": {
            "adapter": false,
            "instance_id": "c8fe6892-0fa7-4bf1-a489-40e7dffd2a62",
            "name": "data"
           },
           "target": {
            "adapter": false,
            "instance_id": "42373694-fb30-4792-9c7e-b7acfcdb87a4",
            "name": "ip_data"
           }
          },
          {
           "id": "052f5804-32de-4ce6-8e83-27123af7c00a",
           "source": {
            "adapter": false,
            "instance_id": "1f8c57da-2572-48a2-a4bf-0922a4d02c0b",
            "name": "op_path"
           },
           "target": {
            "adapter": false,
            "instance_id": "c8fe6892-0fa7-4bf1-a489-40e7dffd2a62",
            "name": "filename"
           }
          }
         ],
         "end": 1616654961.2683008,
         "id": "c71ad08e-0395-422d-b500-ed4f403ae264",
         "instances": [
          {
           "block_class": "82b6026f-eeee-4a6d-b035-a31e8fb4c089",
           "id": "42373694-fb30-4792-9c7e-b7acfcdb87a4",
           "name": "CustMercTS_1",
           "var_names": [
            "cm_ts"
           ]
          },
          {
           "block_class": "7c71273a-e9d9-4577-bc4d-97a9d5c7f029",
           "id": "c8fe6892-0fa7-4bf1-a489-40e7dffd2a62",
           "name": "ReadCsvProjectSpace_1",
           "var_names": [
            "rcp"
           ]
          },
          {
           "block_class": "dc356ac2-272c-4010-bac0-f69ffe219bfb",
           "id": "1f8c57da-2572-48a2-a4bf-0922a4d02c0b",
           "name": "NonSparkPath_1",
           "var_names": [
            "nsp"
           ]
          }
         ],
         "log_level": 20,
         "name": "temp",
         "start": 1616654907.5529516,
         "status": "SUCCESS",
         "system_logs": false,
         "var_names": []
        },
        "metrics": {},
        "runtime": {
         "CustMercTS_1": {
          "end": 1616654961.2603846,
          "load": 1616654907.7986293,
          "start": 1616654907.8217986
         },
         "NonSparkPath_1": {
          "end": 1616654907.884058,
          "load": 1616654907.554364,
          "start": 1616654907.5630376
         },
         "ReadCsvProjectSpace_1": {
          "end": 1616654921.057787,
          "load": 1616654907.7986293,
          "start": 1616654907.8217986
         }
        }
       },
       "store_in_notebook": true
      }
     },
     "output_type": "display_data"
    },
    {
     "data": {
      "text/plain": [
       "{}"
      ]
     },
     "execution_count": 12,
     "metadata": {},
     "output_type": "execute_result"
    }
   ],
   "source": [
    "pipe.execute()"
   ]
  },
  {
   "cell_type": "code",
   "execution_count": 17,
   "id": "heard-marker",
   "metadata": {},
   "outputs": [],
   "source": [
    "from razor.api import pipelines"
   ]
  },
  {
   "cell_type": "code",
   "execution_count": 19,
   "id": "fresh-dodge",
   "metadata": {},
   "outputs": [
    {
     "ename": "AttributeError",
     "evalue": "'Pipeline' object has no attribute '_repr_meta_'",
     "output_type": "error",
     "traceback": [
      "\u001b[0;31m---------------------------------------------------------------------------\u001b[0m",
      "\u001b[0;31mAttributeError\u001b[0m                            Traceback (most recent call last)",
      "\u001b[0;32m<ipython-input-19-d3da0892e580>\u001b[0m in \u001b[0;36m<module>\u001b[0;34m\u001b[0m\n\u001b[0;32m----> 1\u001b[0;31m \u001b[0mpipelines\u001b[0m\u001b[0;34m.\u001b[0m\u001b[0msave\u001b[0m\u001b[0;34m(\u001b[0m\u001b[0mpipe\u001b[0m\u001b[0;34m)\u001b[0m\u001b[0;34m\u001b[0m\u001b[0;34m\u001b[0m\u001b[0m\n\u001b[0m",
      "\u001b[0;32m/usr/local/lib/python3.7/dist-packages/razor/api/core/pipeline_manager.py\u001b[0m in \u001b[0;36msave\u001b[0;34m(self, pipeline, pipeline_vars, resources, overwrite)\u001b[0m\n\u001b[1;32m     65\u001b[0m                                                  \u001b[0mpipeline_vars\u001b[0m\u001b[0;34m=\u001b[0m\u001b[0mpipeline_vars\u001b[0m\u001b[0;34m,\u001b[0m\u001b[0;34m\u001b[0m\u001b[0;34m\u001b[0m\u001b[0m\n\u001b[1;32m     66\u001b[0m                                                  \u001b[0mresources\u001b[0m\u001b[0;34m=\u001b[0m\u001b[0mresources\u001b[0m\u001b[0;34m,\u001b[0m\u001b[0;34m\u001b[0m\u001b[0;34m\u001b[0m\u001b[0m\n\u001b[0;32m---> 67\u001b[0;31m                                                  overwrite=overwrite)\n\u001b[0m",
      "\u001b[0;32m/usr/local/lib/python3.7/dist-packages/razor/api/impl/pipeline_manager_impl.py\u001b[0m in \u001b[0;36msave_pipeline\u001b[0;34m(pipeline, pipeline_vars, resources, overwrite)\u001b[0m\n\u001b[1;32m    137\u001b[0m                                                \u001b[0mproject_id\u001b[0m\u001b[0;34m=\u001b[0m\u001b[0mUserContext\u001b[0m\u001b[0;34m.\u001b[0m\u001b[0mproject_id\u001b[0m\u001b[0;34m,\u001b[0m\u001b[0;34m\u001b[0m\u001b[0;34m\u001b[0m\u001b[0m\n\u001b[1;32m    138\u001b[0m                                                \u001b[0mpipeline_vars\u001b[0m\u001b[0;34m=\u001b[0m\u001b[0mpipeline_vars\u001b[0m\u001b[0;34m,\u001b[0m\u001b[0;34m\u001b[0m\u001b[0;34m\u001b[0m\u001b[0m\n\u001b[0;32m--> 139\u001b[0;31m                                                resources=resources if resources else {})\n\u001b[0m\u001b[1;32m    140\u001b[0m \u001b[0;34m\u001b[0m\u001b[0m\n\u001b[1;32m    141\u001b[0m         \u001b[0;31m# Block validation\u001b[0m\u001b[0;34m\u001b[0m\u001b[0;34m\u001b[0m\u001b[0;34m\u001b[0m\u001b[0m\n",
      "\u001b[0;32m/usr/local/lib/python3.7/dist-packages/razor/api/utils/serializers.py\u001b[0m in \u001b[0;36mserialize_to_ide_pipeline\u001b[0;34m(pipeline, engine_id, project_id, pipeline_vars, resources)\u001b[0m\n\u001b[1;32m     19\u001b[0m                                     \u001b[0mproject_id\u001b[0m\u001b[0;34m=\u001b[0m\u001b[0mproject_id\u001b[0m\u001b[0;34m,\u001b[0m\u001b[0;34m\u001b[0m\u001b[0;34m\u001b[0m\u001b[0m\n\u001b[1;32m     20\u001b[0m                                     \u001b[0mpipeline_vars\u001b[0m\u001b[0;34m=\u001b[0m\u001b[0mpipeline_vars\u001b[0m\u001b[0;34m,\u001b[0m\u001b[0;34m\u001b[0m\u001b[0;34m\u001b[0m\u001b[0m\n\u001b[0;32m---> 21\u001b[0;31m                                     resources=resources)\n\u001b[0m\u001b[1;32m     22\u001b[0m \u001b[0;34m\u001b[0m\u001b[0m\n\u001b[1;32m     23\u001b[0m     \u001b[0;32mfor\u001b[0m \u001b[0mblock\u001b[0m \u001b[0;32min\u001b[0m \u001b[0mserialized\u001b[0m\u001b[0;34m[\u001b[0m\u001b[0;34m\"blocks\"\u001b[0m\u001b[0;34m]\u001b[0m\u001b[0;34m:\u001b[0m\u001b[0;34m\u001b[0m\u001b[0;34m\u001b[0m\u001b[0m\n",
      "\u001b[0;32m/usr/local/lib/python3.7/dist-packages/razor/flow/serializers.py\u001b[0m in \u001b[0;36mserialize_pipeline\u001b[0;34m(pipeline, engine_id, project_id, pipeline_vars, resources)\u001b[0m\n\u001b[1;32m    578\u001b[0m \u001b[0;34m\u001b[0m\u001b[0m\n\u001b[1;32m    579\u001b[0m     \u001b[0;31m# Http flag\u001b[0m\u001b[0;34m\u001b[0m\u001b[0;34m\u001b[0m\u001b[0;34m\u001b[0m\u001b[0m\n\u001b[0;32m--> 580\u001b[0;31m     \u001b[0mpipeline_meta\u001b[0m \u001b[0;34m=\u001b[0m \u001b[0mpipeline\u001b[0m\u001b[0;34m.\u001b[0m\u001b[0m_repr_meta_\u001b[0m\u001b[0;34m(\u001b[0m\u001b[0;34m)\u001b[0m\u001b[0;34m\u001b[0m\u001b[0;34m\u001b[0m\u001b[0m\n\u001b[0m\u001b[1;32m    581\u001b[0m     \u001b[0;32mfor\u001b[0m \u001b[0mkey\u001b[0m\u001b[0;34m,\u001b[0m \u001b[0mdetails\u001b[0m \u001b[0;32min\u001b[0m \u001b[0mpipeline_meta\u001b[0m\u001b[0;34m[\u001b[0m\u001b[0;34m\"services\"\u001b[0m\u001b[0;34m]\u001b[0m\u001b[0;34m.\u001b[0m\u001b[0mitems\u001b[0m\u001b[0;34m(\u001b[0m\u001b[0;34m)\u001b[0m\u001b[0;34m:\u001b[0m\u001b[0;34m\u001b[0m\u001b[0;34m\u001b[0m\u001b[0m\n\u001b[1;32m    582\u001b[0m         \u001b[0;32mfor\u001b[0m \u001b[0mservice_blk\u001b[0m \u001b[0;32min\u001b[0m \u001b[0mservice_blocks\u001b[0m\u001b[0;34m:\u001b[0m\u001b[0;34m\u001b[0m\u001b[0;34m\u001b[0m\u001b[0m\n",
      "\u001b[0;31mAttributeError\u001b[0m: 'Pipeline' object has no attribute '_repr_meta_'"
     ]
    }
   ],
   "source": [
    "pipelines.save(pipe)"
   ]
  },
  {
   "cell_type": "code",
   "execution_count": null,
   "id": "civilian-twenty",
   "metadata": {},
   "outputs": [],
   "source": []
  }
 ],
 "metadata": {
  "kernelspec": {
   "display_name": "Python 3",
   "language": "python",
   "name": "python3"
  },
  "language_info": {
   "codemirror_mode": {
    "name": "ipython",
    "version": 3
   },
   "file_extension": ".py",
   "mimetype": "text/x-python",
   "name": "python",
   "nbconvert_exporter": "python",
   "pygments_lexer": "ipython3",
   "version": "3.7.10"
  }
 },
 "nbformat": 4,
 "nbformat_minor": 5
}
