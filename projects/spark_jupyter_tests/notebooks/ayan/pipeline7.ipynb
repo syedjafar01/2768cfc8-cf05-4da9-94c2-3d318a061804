{
 "cells": [
  {
   "cell_type": "code",
   "execution_count": 1,
   "id": "nutritional-sympathy",
   "metadata": {},
   "outputs": [],
   "source": [
    "import razor\n",
    "import razor.flow as rf\n",
    "from razor import api\n",
    "from razor.flow.spark import SparkBlock, SparkExecutor\n"
   ]
  },
  {
   "cell_type": "code",
   "execution_count": 2,
   "id": "detailed-adelaide",
   "metadata": {},
   "outputs": [],
   "source": [
    "import os\n",
    "import pandas as pd\n",
    "from datetime import datetime, timedelta\n",
    "from pyspark.sql import SparkSession, functions\n",
    "from pyspark.sql.dataframe import DataFrame\n",
    "from datetime import datetime, timedelta\n",
    "from dateutil.relativedelta import relativedelta\n",
    "from pyspark.sql.types import IntegerType, DateType, ArrayType, StringType, FloatType, TimestampType\n"
   ]
  },
  {
   "cell_type": "code",
   "execution_count": 3,
   "id": "abandoned-matrix",
   "metadata": {},
   "outputs": [],
   "source": [
    "from project.blocks.ayan_spark_blocks import MercStatic\n",
    "from project.blocks.ayan_spark_blocks import ReadCsvProjectSpace\n",
    "from project.blocks.ayan_spark_blocks import TranCityTS\n",
    "from project.blocks.ayan_spark_blocks import TranTypeTS\n",
    "from project.blocks.ayan_spark_blocks import NonSparkPath\n",
    "from project.blocks.ayan_spark_blocks import CustStatic\n",
    "from project.blocks.ayan_spark_blocks import ProdTypeTS\n",
    "from project.blocks.ayan_spark_blocks import CustMercTS\n",
    "from project.blocks.ayan_spark_blocks import DropDuplicates\n",
    "from project.blocks.ayan_spark_blocks import SparkConcat"
   ]
  },
  {
   "cell_type": "code",
   "execution_count": 4,
   "id": "executed-satin",
   "metadata": {},
   "outputs": [],
   "source": [
    "import os\n",
    "\n",
    "os.environ[\"PYTHONPATH\"] = \"/usr/local/bin/python:/home/aios/published-packages/\""
   ]
  },
  {
   "cell_type": "code",
   "execution_count": 5,
   "id": "positive-theory",
   "metadata": {},
   "outputs": [],
   "source": [
    "def project_space_path(path):\n",
    "    ps = api.datasources('Project Space')\n",
    "    return os.path.join(ps.abspath(), path)\n"
   ]
  },
  {
   "cell_type": "code",
   "execution_count": 6,
   "id": "stuck-series",
   "metadata": {},
   "outputs": [],
   "source": [
    "nsp = NonSparkPath(ip_path='customer_data.csv')"
   ]
  },
  {
   "cell_type": "code",
   "execution_count": 7,
   "id": "listed-change",
   "metadata": {},
   "outputs": [],
   "source": [
    "rcp = ReadCsvProjectSpace(filename = nsp.op_path, config={}, source=\"\")\n",
    "rcp.executor = SparkExecutor"
   ]
  },
  {
   "cell_type": "code",
   "execution_count": 8,
   "id": "sacred-measure",
   "metadata": {},
   "outputs": [],
   "source": [
    "cs = CustStatic(ip_data = rcp.data, config={}, source=\"\")\n",
    "cs.executor = SparkExecutor"
   ]
  },
  {
   "cell_type": "code",
   "execution_count": 9,
   "id": "adjusted-father",
   "metadata": {},
   "outputs": [],
   "source": [
    "drp = DropDuplicates(ip_data = cs.customer_static, config={}, source=\"\")\n",
    "drp.executor = SparkExecutor"
   ]
  },
  {
   "cell_type": "code",
   "execution_count": 10,
   "id": "sexual-acrylic",
   "metadata": {},
   "outputs": [],
   "source": [
    "ms = MercStatic(ip_data = rcp.data, config={}, source=\"\")\n",
    "ms.executor = SparkExecutor"
   ]
  },
  {
   "cell_type": "code",
   "execution_count": 11,
   "id": "geological-restriction",
   "metadata": {},
   "outputs": [],
   "source": [
    "cm_ts = CustMercTS(ip_data = rcp.data, config={}, source=\"\")\n",
    "cm_ts.executor = SparkExecutor"
   ]
  },
  {
   "cell_type": "code",
   "execution_count": 12,
   "id": "threatened-theology",
   "metadata": {},
   "outputs": [],
   "source": [
    "pt_ts = ProdTypeTS(ip_data = rcp.data, config={}, source=\"\")\n",
    "pt_ts.executor = SparkExecutor"
   ]
  },
  {
   "cell_type": "code",
   "execution_count": 13,
   "id": "gross-pilot",
   "metadata": {},
   "outputs": [],
   "source": [
    "tc_ts = TranCityTS(ip_data = rcp.data, config={}, source=\"\")\n",
    "tc_ts.executor = SparkExecutor"
   ]
  },
  {
   "cell_type": "code",
   "execution_count": 14,
   "id": "solved-glasgow",
   "metadata": {},
   "outputs": [],
   "source": [
    "tt_ts = TranTypeTS(ip_data = rcp.data, config={}, source=\"\")\n",
    "tt_ts.executor = SparkExecutor"
   ]
  },
  {
   "cell_type": "code",
   "execution_count": 15,
   "id": "shared-personal",
   "metadata": {},
   "outputs": [],
   "source": [
    "merged_cust = SparkConcat(df1=cm_ts.customer_ts, df2=cs.customer_static, cols=[\"card_number\",\"customer_name\"])\n",
    "merged_merc = SparkConcat(df1=cm_ts.merchant_ts, df2=ms.merchant_static, cols=[\"merchant_id\",\"merchant_city\",\"merchant_state\"])\n"
   ]
  },
  {
   "cell_type": "code",
   "execution_count": 16,
   "id": "dying-parameter",
   "metadata": {},
   "outputs": [
    {
     "ename": "NameError",
     "evalue": "name 'SparkToPandas' is not defined",
     "output_type": "error",
     "traceback": [
      "\u001b[0;31m---------------------------------------------------------------------------\u001b[0m",
      "\u001b[0;31mNameError\u001b[0m                                 Traceback (most recent call last)",
      "\u001b[0;32m<ipython-input-16-196aa90ad9a8>\u001b[0m in \u001b[0;36m<module>\u001b[0;34m\u001b[0m\n\u001b[0;32m----> 1\u001b[0;31m \u001b[0mprod_type_ts_pandas\u001b[0m \u001b[0;34m=\u001b[0m \u001b[0mSparkToPandas\u001b[0m\u001b[0;34m(\u001b[0m\u001b[0mdf1\u001b[0m \u001b[0;34m=\u001b[0m \u001b[0mpt_ts\u001b[0m\u001b[0;34m.\u001b[0m\u001b[0mprod_type_ts\u001b[0m\u001b[0;34m)\u001b[0m\u001b[0;34m\u001b[0m\u001b[0;34m\u001b[0m\u001b[0m\n\u001b[0m",
      "\u001b[0;31mNameError\u001b[0m: name 'SparkToPandas' is not defined"
     ]
    }
   ],
   "source": [
    "prod_type_ts_pandas = SparkToPandas(df1 = pt_ts.prod_type_ts)"
   ]
  },
  {
   "cell_type": "code",
   "execution_count": null,
   "id": "parliamentary-buffer",
   "metadata": {},
   "outputs": [],
   "source": [
    "pipe = rf.Pipeline('temp', targets = [merged_cust, merged_merc, prod_type_ts_pandas, tc_ts, tt_ts])"
   ]
  },
  {
   "cell_type": "code",
   "execution_count": null,
   "id": "leading-license",
   "metadata": {},
   "outputs": [],
   "source": [
    "pipe"
   ]
  },
  {
   "cell_type": "code",
   "execution_count": null,
   "id": "specified-brunswick",
   "metadata": {},
   "outputs": [],
   "source": [
    "pipe.execute()"
   ]
  },
  {
   "cell_type": "code",
   "execution_count": null,
   "id": "selected-woman",
   "metadata": {},
   "outputs": [],
   "source": []
  },
  {
   "cell_type": "code",
   "execution_count": null,
   "id": "dependent-morocco",
   "metadata": {},
   "outputs": [],
   "source": []
  }
 ],
 "metadata": {
  "kernelspec": {
   "display_name": "Python 3",
   "language": "python",
   "name": "python3"
  },
  "language_info": {
   "codemirror_mode": {
    "name": "ipython",
    "version": 3
   },
   "file_extension": ".py",
   "mimetype": "text/x-python",
   "name": "python",
   "nbconvert_exporter": "python",
   "pygments_lexer": "ipython3",
   "version": "3.7.10"
  }
 },
 "nbformat": 4,
 "nbformat_minor": 5
}
