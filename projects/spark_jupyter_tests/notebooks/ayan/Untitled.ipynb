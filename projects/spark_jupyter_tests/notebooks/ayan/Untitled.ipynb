{
 "cells": [
  {
   "cell_type": "code",
   "execution_count": 1,
   "id": "uniform-henry",
   "metadata": {},
   "outputs": [],
   "source": [
    "import os"
   ]
  },
  {
   "cell_type": "code",
   "execution_count": 2,
   "id": "neural-suite",
   "metadata": {},
   "outputs": [
    {
     "data": {
      "text/plain": [
       "'/usr/lib/jvm/java-8-openjdk-amd64/'"
      ]
     },
     "execution_count": 2,
     "metadata": {},
     "output_type": "execute_result"
    }
   ],
   "source": [
    "os.environ['JAVA_HOME']"
   ]
  },
  {
   "cell_type": "code",
   "execution_count": 3,
   "id": "essential-server",
   "metadata": {},
   "outputs": [],
   "source": [
    "import importlib\n",
    "x= importlib.import_module('razor.project.blocks.ayan_spark_blocks_clone' , '/home/aios/published-packages/')"
   ]
  },
  {
   "cell_type": "code",
   "execution_count": 9,
   "id": "coordinate-drink",
   "metadata": {},
   "outputs": [],
   "source": [
    "CustMercTS = x.__dict__['CustMercTS']"
   ]
  },
  {
   "cell_type": "code",
   "execution_count": null,
   "id": "trying-feature",
   "metadata": {},
   "outputs": [],
   "source": []
  }
 ],
 "metadata": {
  "kernelspec": {
   "display_name": "Python 3",
   "language": "python",
   "name": "python3"
  },
  "language_info": {
   "codemirror_mode": {
    "name": "ipython",
    "version": 3
   },
   "file_extension": ".py",
   "mimetype": "text/x-python",
   "name": "python",
   "nbconvert_exporter": "python",
   "pygments_lexer": "ipython3",
   "version": "3.7.10"
  }
 },
 "nbformat": 4,
 "nbformat_minor": 5
}
