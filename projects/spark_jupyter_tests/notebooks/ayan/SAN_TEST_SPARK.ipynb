{
 "cells": [
  {
   "cell_type": "code",
   "execution_count": 1,
   "id": "reduced-folks",
   "metadata": {},
   "outputs": [],
   "source": [
    "import razor\n",
    "import razor.flow as rf\n",
    "from razor import api\n",
    "from razor.flow.spark import SparkBlock, SparkExecutor"
   ]
  },
  {
   "cell_type": "code",
   "execution_count": 2,
   "id": "overall-blackberry",
   "metadata": {},
   "outputs": [],
   "source": [
    "import os\n",
    "from datetime import datetime, timedelta\n",
    "from pyspark.sql import SparkSession, functions\n",
    "from pyspark.sql.dataframe import DataFrame\n",
    "from datetime import datetime, timedelta\n",
    "from dateutil.relativedelta import relativedelta\n",
    "from pyspark.sql.types import IntegerType, DateType, ArrayType, StringType, FloatType, TimestampType\n"
   ]
  },
  {
   "cell_type": "code",
   "execution_count": 3,
   "id": "silent-malawi",
   "metadata": {},
   "outputs": [],
   "source": [
    "from razor.project.blocks.ayan_spark_blocks_clone import MercStatic\n",
    "from razor.project.blocks.ayan_spark_blocks_clone import ReadCsvProjectSpace\n",
    "from razor.project.blocks.ayan_spark_blocks_clone import TranCityTS\n",
    "from razor.project.blocks.ayan_spark_blocks_clone import TranTypeTS\n",
    "from razor.project.blocks.ayan_spark_blocks_clone import NonSparkPath\n",
    "from razor.project.blocks.ayan_spark_blocks_clone import CustStatic\n",
    "from razor.project.blocks.ayan_spark_blocks_clone import ProdTypeTS\n",
    "from razor.project.blocks.ayan_spark_blocks_clone import CustMercTS\n",
    "from razor.project.blocks.ayan_spark_blocks_clone import DropDuplicates"
   ]
  },
  {
   "cell_type": "code",
   "execution_count": 4,
   "id": "homeless-steel",
   "metadata": {},
   "outputs": [],
   "source": [
    "# from pyspark import SparkContext\n",
    "# #sc = SparkContext(\"local\", \"First App\")\n",
    "\n",
    "\n",
    "# from pyspark.sql import SparkSession\n",
    "# from pyspark import SparkConf\n",
    "\n",
    "# session = SparkSession.builder.appName(\"SAN\")\n",
    "# sc= session.getOrCreate()\n",
    "# sc.sparkContext._jvm"
   ]
  },
  {
   "cell_type": "code",
   "execution_count": 5,
   "id": "saving-reference",
   "metadata": {},
   "outputs": [],
   "source": [
    "def project_space_path(path):\n",
    "    ps = api.datasources('Project Space')\n",
    "    return os.path.join(ps.abspath(), path)\n"
   ]
  },
  {
   "cell_type": "code",
   "execution_count": 6,
   "id": "higher-energy",
   "metadata": {},
   "outputs": [],
   "source": [
    "nsp = NonSparkPath(ip_path='customer_data.csv')"
   ]
  },
  {
   "cell_type": "code",
   "execution_count": 7,
   "id": "occupied-dietary",
   "metadata": {},
   "outputs": [],
   "source": [
    "rcp = ReadCsvProjectSpace(filename = nsp.op_path, config={}, source=\"\")\n",
    "rcp.executor = SparkExecutor"
   ]
  },
  {
   "cell_type": "code",
   "execution_count": 8,
   "id": "changed-decimal",
   "metadata": {},
   "outputs": [],
   "source": [
    "cm_ts = CustMercTS(ip_data = rcp.data, config={}, source=\"\")\n",
    "cm_ts.executor = SparkExecutor"
   ]
  },
  {
   "cell_type": "code",
   "execution_count": 9,
   "id": "demographic-preservation",
   "metadata": {},
   "outputs": [],
   "source": [
    "pipe = rf.Pipeline('temp', targets = [cm_ts])"
   ]
  },
  {
   "cell_type": "code",
   "execution_count": 10,
   "id": "based-illinois",
   "metadata": {},
   "outputs": [
    {
     "data": {
      "application/vnd.razorthink.interactive+pipeline+view+json": {
       "blocks": [
        {
         "class_name": "NonSparkPath",
         "fullname": "razor.project.blocks.ayan_spark_blocks_clone.NonSparkPath",
         "id": "616382aa-e019-4746-93c0-d1eda74afd76",
         "inputs": [
          {
           "dataType": "string",
           "default": "",
           "flow": "atomic",
           "help": null,
           "isdict": false,
           "islist": false,
           "label": "ip_path",
           "meta": {},
           "name": "ip_path",
           "series": false,
           "type": "str",
           "type_check": true
          }
         ],
         "outputs": [
          {
           "flow": "atomic",
           "help": null,
           "label": "op_path",
           "meta": {},
           "name": "op_path",
           "series": false,
           "type": "str",
           "type_check": true
          }
         ],
         "overwritten": false,
         "published": true,
         "var_names": [
          "NonSparkPath"
         ]
        },
        {
         "class_name": "CustMercTS",
         "fullname": "razor.project.blocks.ayan_spark_blocks_clone.CustMercTS",
         "id": "dfc383fa-27d1-4265-96be-a05b9a88eeee",
         "inputs": [
          {
           "dataType": null,
           "default": null,
           "flow": "atomic",
           "help": null,
           "isdict": false,
           "islist": false,
           "label": "ip_data",
           "meta": {},
           "name": "ip_data",
           "series": false,
           "type": "DataFrame",
           "type_check": true
          },
          {
           "dataType": "dict",
           "default": {},
           "flow": "atomic",
           "help": null,
           "isdict": false,
           "islist": false,
           "label": "config",
           "meta": {},
           "name": "config",
           "series": false,
           "type": "dict",
           "type_check": true
          },
          {
           "dataType": "string",
           "default": "",
           "flow": "atomic",
           "help": null,
           "isdict": false,
           "islist": false,
           "label": "source",
           "meta": {},
           "name": "source",
           "series": false,
           "type": "str",
           "type_check": true
          }
         ],
         "outputs": [
          {
           "flow": "atomic",
           "help": null,
           "label": "customer_ts",
           "meta": {},
           "name": "customer_ts",
           "series": false,
           "type": "DataFrame",
           "type_check": true
          },
          {
           "flow": "atomic",
           "help": null,
           "label": "merchant_ts",
           "meta": {},
           "name": "merchant_ts",
           "series": false,
           "type": "DataFrame",
           "type_check": true
          }
         ],
         "overwritten": false,
         "published": true,
         "var_names": [
          "CustMercTS"
         ]
        },
        {
         "class_name": "ReadCsvProjectSpace",
         "fullname": "razor.project.blocks.ayan_spark_blocks_clone.ReadCsvProjectSpace",
         "id": "aeb26be7-f485-4dfd-a581-b750d6607846",
         "inputs": [
          {
           "dataType": "string",
           "default": "",
           "flow": "atomic",
           "help": null,
           "isdict": false,
           "islist": false,
           "label": "filename",
           "meta": {},
           "name": "filename",
           "series": false,
           "type": "str",
           "type_check": true
          },
          {
           "dataType": "dict",
           "default": {},
           "flow": "atomic",
           "help": null,
           "isdict": false,
           "islist": false,
           "label": "config",
           "meta": {},
           "name": "config",
           "series": false,
           "type": "dict",
           "type_check": true
          },
          {
           "dataType": "string",
           "default": "",
           "flow": "atomic",
           "help": null,
           "isdict": false,
           "islist": false,
           "label": "source",
           "meta": {},
           "name": "source",
           "series": false,
           "type": "str",
           "type_check": true
          }
         ],
         "outputs": [
          {
           "flow": "atomic",
           "help": null,
           "label": "data",
           "meta": {},
           "name": "data",
           "series": false,
           "type": "DataFrame",
           "type_check": true
          }
         ],
         "overwritten": false,
         "published": true,
         "var_names": [
          "ReadCsvProjectSpace"
         ]
        }
       ],
       "connections": [
        {
         "id": "efc828a7-114e-42e7-8dc8-a7614c0810e8",
         "source": {
          "adapter": false,
          "instance_id": "3c06da21-3123-4547-b972-135742a97c1b",
          "name": "data"
         },
         "target": {
          "adapter": false,
          "instance_id": "9acce9a6-0c0e-4d41-9e08-1db790e0e43d",
          "name": "ip_data"
         }
        },
        {
         "id": "18089195-3e90-4a16-811b-ab1162d7d68e",
         "source": {
          "adapter": false,
          "instance_id": "fcb0df11-d1cf-41ee-bd4b-b4dd65a3521b",
          "name": "op_path"
         },
         "target": {
          "adapter": false,
          "instance_id": "3c06da21-3123-4547-b972-135742a97c1b",
          "name": "filename"
         }
        }
       ],
       "id": "b6d6528b-ad7c-481a-846d-39b677adc878",
       "instances": [
        {
         "block_class": "dfc383fa-27d1-4265-96be-a05b9a88eeee",
         "id": "9acce9a6-0c0e-4d41-9e08-1db790e0e43d",
         "name": "CustMercTS_1",
         "var_names": [
          "cm_ts"
         ]
        },
        {
         "block_class": "aeb26be7-f485-4dfd-a581-b750d6607846",
         "id": "3c06da21-3123-4547-b972-135742a97c1b",
         "name": "ReadCsvProjectSpace_1",
         "var_names": [
          "rcp"
         ]
        },
        {
         "block_class": "616382aa-e019-4746-93c0-d1eda74afd76",
         "id": "fcb0df11-d1cf-41ee-bd4b-b4dd65a3521b",
         "name": "NonSparkPath_1",
         "var_names": [
          "nsp"
         ]
        }
       ],
       "name": "temp",
       "var_names": []
      },
      "image/svg+xml": [
       "<?xml version=\"1.0\" encoding=\"UTF-8\" standalone=\"no\"?>\n",
       "<!DOCTYPE svg PUBLIC \"-//W3C//DTD SVG 1.1//EN\"\n",
       " \"http://www.w3.org/Graphics/SVG/1.1/DTD/svg11.dtd\">\n",
       "<!-- Generated by graphviz version 2.43.0 (0)\n",
       " -->\n",
       "<!-- Title: %3 Pages: 1 -->\n",
       "<svg width=\"306pt\" height=\"210pt\"\n",
       " viewBox=\"0.00 0.00 305.86 210.00\" xmlns=\"http://www.w3.org/2000/svg\" xmlns:xlink=\"http://www.w3.org/1999/xlink\">\n",
       "<g id=\"graph0\" class=\"graph\" transform=\"scale(1 1) rotate(0) translate(4 206)\">\n",
       "<title>%3</title>\n",
       "<polygon fill=\"white\" stroke=\"transparent\" points=\"-4,4 -4,-206 301.86,-206 301.86,4 -4,4\"/>\n",
       "<!-- CustMercTS(&#39;CustMercTS_1&#39;) -->\n",
       "<g id=\"node1\" class=\"node\">\n",
       "<title>CustMercTS(&#39;CustMercTS_1&#39;)</title>\n",
       "<ellipse fill=\"none\" stroke=\"black\" cx=\"148.93\" cy=\"-18\" rx=\"92.34\" ry=\"18\"/>\n",
       "<text text-anchor=\"middle\" x=\"148.93\" y=\"-15.5\" font-family=\"Helvetica,sans-Serif\" font-size=\"10.00\">CustMercTS(&#39;CustMercTS_1&#39;)</text>\n",
       "</g>\n",
       "<!-- ReadCsvProjectSpace(&#39;ReadCsvProjectSpace_1&#39;) -->\n",
       "<g id=\"node2\" class=\"node\">\n",
       "<title>ReadCsvProjectSpace(&#39;ReadCsvProjectSpace_1&#39;)</title>\n",
       "<ellipse fill=\"none\" stroke=\"black\" cx=\"148.93\" cy=\"-101\" rx=\"148.86\" ry=\"18\"/>\n",
       "<text text-anchor=\"middle\" x=\"148.93\" y=\"-98.5\" font-family=\"Helvetica,sans-Serif\" font-size=\"10.00\">ReadCsvProjectSpace(&#39;ReadCsvProjectSpace_1&#39;)</text>\n",
       "</g>\n",
       "<!-- ReadCsvProjectSpace(&#39;ReadCsvProjectSpace_1&#39;)&#45;&gt;CustMercTS(&#39;CustMercTS_1&#39;) -->\n",
       "<g id=\"edge1\" class=\"edge\">\n",
       "<title>ReadCsvProjectSpace(&#39;ReadCsvProjectSpace_1&#39;)&#45;&gt;CustMercTS(&#39;CustMercTS_1&#39;)</title>\n",
       "<path fill=\"none\" stroke=\"black\" d=\"M148.93,-82.82C148.93,-72.19 148.93,-58.31 148.93,-46.2\"/>\n",
       "<polygon fill=\"black\" stroke=\"black\" points=\"152.43,-46.15 148.93,-36.15 145.43,-46.15 152.43,-46.15\"/>\n",
       "<text text-anchor=\"middle\" x=\"183.93\" y=\"-57\" font-family=\"Helvetica,sans-Serif\" font-size=\"10.00\">data&#45;&gt;ip_data</text>\n",
       "</g>\n",
       "<!-- NonSparkPath(&#39;NonSparkPath_1&#39;) -->\n",
       "<g id=\"node3\" class=\"node\">\n",
       "<title>NonSparkPath(&#39;NonSparkPath_1&#39;)</title>\n",
       "<ellipse fill=\"none\" stroke=\"black\" cx=\"148.93\" cy=\"-184\" rx=\"104.56\" ry=\"18\"/>\n",
       "<text text-anchor=\"middle\" x=\"148.93\" y=\"-181.5\" font-family=\"Helvetica,sans-Serif\" font-size=\"10.00\">NonSparkPath(&#39;NonSparkPath_1&#39;)</text>\n",
       "</g>\n",
       "<!-- NonSparkPath(&#39;NonSparkPath_1&#39;)&#45;&gt;ReadCsvProjectSpace(&#39;ReadCsvProjectSpace_1&#39;) -->\n",
       "<g id=\"edge2\" class=\"edge\">\n",
       "<title>NonSparkPath(&#39;NonSparkPath_1&#39;)&#45;&gt;ReadCsvProjectSpace(&#39;ReadCsvProjectSpace_1&#39;)</title>\n",
       "<path fill=\"none\" stroke=\"black\" d=\"M148.93,-165.82C148.93,-155.19 148.93,-141.31 148.93,-129.2\"/>\n",
       "<polygon fill=\"black\" stroke=\"black\" points=\"152.43,-129.15 148.93,-119.15 145.43,-129.15 152.43,-129.15\"/>\n",
       "<text text-anchor=\"middle\" x=\"195.93\" y=\"-140\" font-family=\"Helvetica,sans-Serif\" font-size=\"10.00\">op_path&#45;&gt;filename</text>\n",
       "</g>\n",
       "</g>\n",
       "</svg>\n"
      ],
      "text/plain": [
       "<razor.flow.async_pipeline.Pipeline at 0x7fb23494dfd0>"
      ]
     },
     "execution_count": 10,
     "metadata": {},
     "output_type": "execute_result"
    }
   ],
   "source": [
    "pipe"
   ]
  },
  {
   "cell_type": "code",
   "execution_count": 11,
   "id": "sharp-frost",
   "metadata": {},
   "outputs": [],
   "source": [
    "import os\n",
    "#os.environ\n",
    "os.environ[\"PYTHONPATH\"] = \"/usr/local/bin/python:/home/aios/published-packages/\"\n",
    "import sys"
   ]
  },
  {
   "cell_type": "code",
   "execution_count": 12,
   "id": "asian-palmer",
   "metadata": {},
   "outputs": [],
   "source": [
    "# def init_blocks():\n",
    "#     try:\n",
    "#         #sys.path.append('/home/aios/published-packages/')\n",
    "#         import project\n",
    "#         import org\n",
    "#         import marketplace\n",
    "#         sys.modules['razor.org'] = org\n",
    "#         sys.modules['razor.marketplace'] = marketplace\n",
    "#         sys.modules['razor.project'] = project\n",
    "#     except Exception as e:\n",
    "#         pass\n",
    "#         std_logger.exception(str(e))\n",
    "#         std_logger.error(\"Couldn't setup block space!\")"
   ]
  },
  {
   "cell_type": "code",
   "execution_count": 13,
   "id": "geographic-guidance",
   "metadata": {},
   "outputs": [],
   "source": [
    "init_blocks()"
   ]
  },
  {
   "cell_type": "code",
   "execution_count": 14,
   "id": "local-aberdeen",
   "metadata": {},
   "outputs": [],
   "source": [
    "# import os\n",
    "# #os.environ\n",
    "# os.environ[\"PYTHONPATH\"] = \"/usr/local/bin/python:/home/aios/published-packages/\""
   ]
  },
  {
   "cell_type": "code",
   "execution_count": 15,
   "id": "proved-missouri",
   "metadata": {},
   "outputs": [
    {
     "data": {
      "text/plain": [
       "['/home/aios/work-dir/ayan',\n",
       " '/usr/lib/python37.zip',\n",
       " '/usr/lib/python3.7',\n",
       " '/usr/lib/python3.7/lib-dynload',\n",
       " '',\n",
       " '/usr/local/lib/python3.7/dist-packages',\n",
       " '/usr/lib/python3/dist-packages',\n",
       " '/usr/local/lib/python3.7/dist-packages/IPython/extensions',\n",
       " '/home/aios/.ipython',\n",
       " '/home/aios/published-packages/']"
      ]
     },
     "execution_count": 15,
     "metadata": {},
     "output_type": "execute_result"
    }
   ],
   "source": [
    "sys.path"
   ]
  },
  {
   "cell_type": "code",
   "execution_count": 16,
   "id": "demonstrated-essay",
   "metadata": {},
   "outputs": [],
   "source": [
    "#sys.modules['razor.project']"
   ]
  },
  {
   "cell_type": "code",
   "execution_count": 17,
   "id": "julian-uncertainty",
   "metadata": {},
   "outputs": [
    {
     "name": "stdout",
     "output_type": "stream",
     "text": [
      "/usr/local/bin/python\n"
     ]
    }
   ],
   "source": [
    "!which python"
   ]
  },
  {
   "cell_type": "code",
   "execution_count": 18,
   "id": "approximate-guinea",
   "metadata": {},
   "outputs": [
    {
     "name": "stdout",
     "output_type": "stream",
     "text": [
      "log path: /tmp/tmpf5ca77qe/temp\n"
     ]
    },
    {
     "data": {
      "application/vnd.razorthink.run+monitor+json": "/tmp/tmpf5ca77qe/temp",
      "text/plain": [
       "<razor_tools.backend.ipython.mime.run_monitor.RunMonitor at 0x7fb234571290>"
      ]
     },
     "metadata": {
      "application/vnd.razorthink.run+monitor+json": {
       "run_data": {
        "apm": [
         {
          "cpu_percent": 0,
          "cpu_time": 0.01,
          "name": "NonSparkPath_1",
          "real_mem": 155897856,
          "time": 1616593031.766357
         },
         {
          "cpu_percent": 0,
          "cpu_time": 0.04,
          "name": "NonSparkPath_1",
          "real_mem": 157577216,
          "time": 1616593031.879792
         },
         {
          "cpu_percent": 64.7,
          "cpu_time": 0.06,
          "name": "NonSparkPath_1",
          "real_mem": 157798400,
          "time": 1616593032.0063689
         },
         {
          "cpu_percent": 0,
          "cpu_time": 0.01,
          "name": "CustMercTS_1",
          "real_mem": 156299264,
          "time": 1616593032.073389
         },
         {
          "cpu_percent": 0,
          "cpu_time": 0,
          "name": "ReadCsvProjectSpace_1",
          "real_mem": 156278784,
          "time": 1616593032.0516884
         },
         {
          "cpu_percent": 98.5,
          "cpu_time": 0.09,
          "name": "ReadCsvProjectSpace_1",
          "real_mem": 162312192,
          "time": 1616593032.1745048
         },
         {
          "cpu_percent": 0,
          "cpu_time": 0.11000000000000001,
          "name": "CustMercTS_1",
          "real_mem": 162684928,
          "time": 1616593032.1964896
         },
         {
          "cpu_percent": 98.3,
          "cpu_time": 0.26,
          "name": "ReadCsvProjectSpace_1",
          "real_mem": 198889472,
          "time": 1616593032.3188834
         },
         {
          "cpu_percent": 0,
          "cpu_time": 0.30000000000000004,
          "name": "CustMercTS_1",
          "real_mem": 205926400,
          "time": 1616593032.3618035
         },
         {
          "cpu_percent": 98.5,
          "cpu_time": 0.14,
          "name": "ReadCsvProjectSpace_1",
          "real_mem": 162979840,
          "time": 1616593032.4420664
         },
         {
          "cpu_percent": 197,
          "cpu_time": 0.19,
          "name": "CustMercTS_1",
          "real_mem": 179556352,
          "time": 1616593032.4849024
         },
         {
          "cpu_percent": 196.3,
          "cpu_time": 0.31,
          "name": "ReadCsvProjectSpace_1",
          "real_mem": 196046848,
          "time": 1616593032.565159
         },
         {
          "cpu_percent": 294.9,
          "cpu_time": 0.4,
          "name": "CustMercTS_1",
          "real_mem": 210915328,
          "time": 1616593032.6080124
         },
         {
          "cpu_percent": 196.7,
          "cpu_time": 0.5900000000000001,
          "name": "ReadCsvProjectSpace_1",
          "real_mem": 225341440,
          "time": 1616593032.6881638
         },
         {
          "cpu_percent": 196.6,
          "cpu_time": 0.6499999999999999,
          "name": "CustMercTS_1",
          "real_mem": 230477824,
          "time": 1616593032.7315047
         },
         {
          "cpu_percent": 160.4,
          "cpu_time": 0.74,
          "name": "ReadCsvProjectSpace_1",
          "real_mem": 243965952,
          "time": 1616593032.8137465
         },
         {
          "cpu_percent": 295.5,
          "cpu_time": 0.8400000000000001,
          "name": "CustMercTS_1",
          "real_mem": 246394880,
          "time": 1616593032.8559582
         },
         {
          "cpu_percent": 98.5,
          "cpu_time": 0.96,
          "name": "ReadCsvProjectSpace_1",
          "real_mem": 252956672,
          "time": 1616593032.9364362
         },
         {
          "cpu_percent": 98.4,
          "cpu_time": 1.01,
          "name": "CustMercTS_1",
          "real_mem": 255414272,
          "time": 1616593032.9787893
         },
         {
          "cpu_percent": 98,
          "cpu_time": 1.12,
          "name": "ReadCsvProjectSpace_1",
          "real_mem": 263585792,
          "time": 1616593033.059277
         },
         {
          "cpu_percent": 98.8,
          "cpu_time": 1.1800000000000002,
          "name": "CustMercTS_1",
          "real_mem": 266977280,
          "time": 1616593033.1016617
         },
         {
          "cpu_percent": 195.8,
          "cpu_time": 1.37,
          "name": "ReadCsvProjectSpace_1",
          "real_mem": 274698240,
          "time": 1616593033.1823845
         },
         {
          "cpu_percent": 0,
          "cpu_time": 1.4100000000000001,
          "name": "CustMercTS_1",
          "real_mem": 285495296,
          "time": 1616593033.2236557
         },
         {
          "cpu_percent": 194.2,
          "cpu_time": 1.54,
          "name": "ReadCsvProjectSpace_1",
          "real_mem": 290254848,
          "time": 1616593033.3068287
         },
         {
          "cpu_percent": 196.5,
          "cpu_time": 1.61,
          "name": "CustMercTS_1",
          "real_mem": 290971648,
          "time": 1616593033.3470855
         },
         {
          "cpu_percent": 197,
          "cpu_time": 1.77,
          "name": "ReadCsvProjectSpace_1",
          "real_mem": 293568512,
          "time": 1616593033.4296055
         },
         {
          "cpu_percent": 296.2,
          "cpu_time": 1.86,
          "name": "CustMercTS_1",
          "real_mem": 293736448,
          "time": 1616593033.4709442
         },
         {
          "cpu_percent": 196.5,
          "cpu_time": 1.99,
          "name": "ReadCsvProjectSpace_1",
          "real_mem": 295727104,
          "time": 1616593033.5536358
         },
         {
          "cpu_percent": 196.9,
          "cpu_time": 2.06,
          "name": "CustMercTS_1",
          "real_mem": 296665088,
          "time": 1616593033.5932918
         },
         {
          "cpu_percent": 197,
          "cpu_time": 2.25,
          "name": "ReadCsvProjectSpace_1",
          "real_mem": 305147904,
          "time": 1616593033.6769974
         },
         {
          "cpu_percent": 98.6,
          "cpu_time": 2.3200000000000003,
          "name": "CustMercTS_1",
          "real_mem": 306003968,
          "time": 1616593033.7155747
         },
         {
          "cpu_percent": 196.10000000000002,
          "cpu_time": 2.4299999999999997,
          "name": "ReadCsvProjectSpace_1",
          "real_mem": 307834880,
          "time": 1616593033.7996502
         },
         {
          "cpu_percent": 197.1,
          "cpu_time": 2.4899999999999998,
          "name": "CustMercTS_1",
          "real_mem": 308412416,
          "time": 1616593033.838044
         },
         {
          "cpu_percent": 197.1,
          "cpu_time": 2.65,
          "name": "ReadCsvProjectSpace_1",
          "real_mem": 309678080,
          "time": 1616593033.922243
         },
         {
          "cpu_percent": 197.2,
          "cpu_time": 2.71,
          "name": "CustMercTS_1",
          "real_mem": 310714368,
          "time": 1616593033.9610016
         },
         {
          "cpu_percent": 196.9,
          "cpu_time": 2.8400000000000003,
          "name": "ReadCsvProjectSpace_1",
          "real_mem": 323108864,
          "time": 1616593034.0444155
         },
         {
          "cpu_percent": 196.9,
          "cpu_time": 2.96,
          "name": "CustMercTS_1",
          "real_mem": 327086080,
          "time": 1616593034.0839016
         },
         {
          "cpu_percent": 495.2,
          "cpu_time": 3.0900000000000003,
          "name": "ReadCsvProjectSpace_1",
          "real_mem": 335597568,
          "time": 1616593034.167369
         },
         {
          "cpu_percent": 196.8,
          "cpu_time": 3.19,
          "name": "CustMercTS_1",
          "real_mem": 343486464,
          "time": 1616593034.2066264
         },
         {
          "cpu_percent": 395,
          "cpu_time": 3.4699999999999998,
          "name": "ReadCsvProjectSpace_1",
          "real_mem": 361365504,
          "time": 1616593034.2897832
         },
         {
          "cpu_percent": 387.8,
          "cpu_time": 3.61,
          "name": "CustMercTS_1",
          "real_mem": 361295872,
          "time": 1616593034.329694
         },
         {
          "cpu_percent": 98.4,
          "cpu_time": 3.8,
          "name": "ReadCsvProjectSpace_1",
          "real_mem": 369209344,
          "time": 1616593034.4126866
         },
         {
          "cpu_percent": 0,
          "cpu_time": 3.87,
          "name": "CustMercTS_1",
          "real_mem": 372338688,
          "time": 1616593034.4524057
         },
         {
          "cpu_percent": 196.7,
          "cpu_time": 3.8899999999999997,
          "name": "ReadCsvProjectSpace_1",
          "real_mem": 372449280,
          "time": 1616593034.5349772
         },
         {
          "cpu_percent": 98.7,
          "cpu_time": 4,
          "name": "CustMercTS_1",
          "real_mem": 373379072,
          "time": 1616593034.57682
         },
         {
          "cpu_percent": 196.7,
          "cpu_time": 4.13,
          "name": "ReadCsvProjectSpace_1",
          "real_mem": 375193600,
          "time": 1616593034.6579924
         },
         {
          "cpu_percent": 98.5,
          "cpu_time": 4.19,
          "name": "CustMercTS_1",
          "real_mem": 376164352,
          "time": 1616593034.6999483
         },
         {
          "cpu_percent": 294.1,
          "cpu_time": 4.3500000000000005,
          "name": "ReadCsvProjectSpace_1",
          "real_mem": 377012224,
          "time": 1616593034.7815776
         },
         {
          "cpu_percent": 197.3,
          "cpu_time": 4.47,
          "name": "CustMercTS_1",
          "real_mem": 378220544,
          "time": 1616593034.8236763
         },
         {
          "cpu_percent": 98.2,
          "cpu_time": 4.5600000000000005,
          "name": "ReadCsvProjectSpace_1",
          "real_mem": 379936768,
          "time": 1616593034.905279
         },
         {
          "cpu_percent": 98.4,
          "cpu_time": 4.6000000000000005,
          "name": "CustMercTS_1",
          "real_mem": 381882368,
          "time": 1616593034.9472618
         },
         {
          "cpu_percent": 98.3,
          "cpu_time": 4.72,
          "name": "ReadCsvProjectSpace_1",
          "real_mem": 383184896,
          "time": 1616593035.0285208
         },
         {
          "cpu_percent": 98.4,
          "cpu_time": 4.78,
          "name": "CustMercTS_1",
          "real_mem": 384421888,
          "time": 1616593035.0707204
         },
         {
          "cpu_percent": 393.6,
          "cpu_time": 4.95,
          "name": "ReadCsvProjectSpace_1",
          "real_mem": 387362816,
          "time": 1616593035.1510668
         },
         {
          "cpu_percent": 97.6,
          "cpu_time": 5.01,
          "name": "CustMercTS_1",
          "real_mem": 391069696,
          "time": 1616593035.1935859
         },
         {
          "cpu_percent": 98.2,
          "cpu_time": 5.13,
          "name": "ReadCsvProjectSpace_1",
          "real_mem": 399757312,
          "time": 1616593035.2741702
         },
         {
          "cpu_percent": 98.6,
          "cpu_time": 5.21,
          "name": "CustMercTS_1",
          "real_mem": 403050496,
          "time": 1616593035.316566
         },
         {
          "cpu_percent": 196.8,
          "cpu_time": 5.3500000000000005,
          "name": "ReadCsvProjectSpace_1",
          "real_mem": 415457280,
          "time": 1616593035.3974495
         },
         {
          "cpu_percent": 295.8,
          "cpu_time": 5.44,
          "name": "CustMercTS_1",
          "real_mem": 418975744,
          "time": 1616593035.4386666
         },
         {
          "cpu_percent": 98.5,
          "cpu_time": 5.57,
          "name": "ReadCsvProjectSpace_1",
          "real_mem": 430952448,
          "time": 1616593035.5211568
         },
         {
          "cpu_percent": 98.7,
          "cpu_time": 5.62,
          "name": "CustMercTS_1",
          "real_mem": 436891648,
          "time": 1616593035.562505
         },
         {
          "cpu_percent": 192.8,
          "cpu_time": 5.800000000000001,
          "name": "ReadCsvProjectSpace_1",
          "real_mem": 450396160,
          "time": 1616593035.6451857
         },
         {
          "cpu_percent": 98.4,
          "cpu_time": 5.890000000000001,
          "name": "CustMercTS_1",
          "real_mem": 465461248,
          "time": 1616593035.6866348
         },
         {
          "cpu_percent": 196.5,
          "cpu_time": 6.0600000000000005,
          "name": "ReadCsvProjectSpace_1",
          "real_mem": 467025920,
          "time": 1616593035.7702932
         },
         {
          "cpu_percent": 197.6,
          "cpu_time": 6.15,
          "name": "CustMercTS_1",
          "real_mem": 472477696,
          "time": 1616593035.8096123
         },
         {
          "cpu_percent": 194.4,
          "cpu_time": 6.74,
          "name": "ReadCsvProjectSpace_1",
          "real_mem": 483692544,
          "time": 1616593036.0436075
         },
         {
          "cpu_percent": 194.2,
          "cpu_time": 6.82,
          "name": "CustMercTS_1",
          "real_mem": 488341504,
          "time": 1616593036.0823703
         },
         {
          "cpu_percent": 394.5,
          "cpu_time": 7.62,
          "name": "ReadCsvProjectSpace_1",
          "real_mem": 508964864,
          "time": 1616593036.3157556
         },
         {
          "cpu_percent": 296,
          "cpu_time": 7.7299999999999995,
          "name": "CustMercTS_1",
          "real_mem": 514248704,
          "time": 1616593036.3551524
         },
         {
          "cpu_percent": 393.8,
          "cpu_time": 8.38,
          "name": "ReadCsvProjectSpace_1",
          "real_mem": 525684736,
          "time": 1616593036.588657
         },
         {
          "cpu_percent": 294.5,
          "cpu_time": 8.52,
          "name": "CustMercTS_1",
          "real_mem": 527077376,
          "time": 1616593036.628699
         },
         {
          "cpu_percent": 196.7,
          "cpu_time": 9.17,
          "name": "ReadCsvProjectSpace_1",
          "real_mem": 537436160,
          "time": 1616593036.8618984
         },
         {
          "cpu_percent": 197.2,
          "cpu_time": 9.25,
          "name": "CustMercTS_1",
          "real_mem": 539729920,
          "time": 1616593036.901671
         },
         {
          "cpu_percent": 194.6,
          "cpu_time": 9.71,
          "name": "ReadCsvProjectSpace_1",
          "real_mem": 548098048,
          "time": 1616593037.134361
         },
         {
          "cpu_percent": 295.1,
          "cpu_time": 9.83,
          "name": "CustMercTS_1",
          "real_mem": 548618240,
          "time": 1616593037.1757607
         },
         {
          "cpu_percent": 197,
          "cpu_time": 10.129999999999999,
          "name": "ReadCsvProjectSpace_1",
          "real_mem": 559788032,
          "time": 1616593037.4077647
         },
         {
          "cpu_percent": 196.6,
          "cpu_time": 10.19,
          "name": "CustMercTS_1",
          "real_mem": 562954240,
          "time": 1616593037.4492848
         },
         {
          "cpu_percent": 98.6,
          "cpu_time": 10.53,
          "name": "ReadCsvProjectSpace_1",
          "real_mem": 582590464,
          "time": 1616593037.6809323
         },
         {
          "cpu_percent": 394.5,
          "cpu_time": 10.629999999999999,
          "name": "CustMercTS_1",
          "real_mem": 608538624,
          "time": 1616593037.7223208
         },
         {
          "cpu_percent": 295.9,
          "cpu_time": 11.12,
          "name": "ReadCsvProjectSpace_1",
          "real_mem": 624492544,
          "time": 1616593037.953931
         },
         {
          "cpu_percent": 394.3,
          "cpu_time": 11.25,
          "name": "CustMercTS_1",
          "real_mem": 624992256,
          "time": 1616593037.995177
         },
         {
          "cpu_percent": 196.9,
          "cpu_time": 11.51,
          "name": "ReadCsvProjectSpace_1",
          "real_mem": 631586816,
          "time": 1616593038.2270207
         },
         {
          "cpu_percent": 395.4,
          "cpu_time": 11.62,
          "name": "CustMercTS_1",
          "real_mem": 632389632,
          "time": 1616593038.2684352
         },
         {
          "cpu_percent": 98.5,
          "cpu_time": 11.98,
          "name": "ReadCsvProjectSpace_1",
          "real_mem": 636948480,
          "time": 1616593038.5007172
         },
         {
          "cpu_percent": 97.4,
          "cpu_time": 12.04,
          "name": "CustMercTS_1",
          "real_mem": 637431808,
          "time": 1616593038.5423677
         },
         {
          "cpu_percent": 293.9,
          "cpu_time": 12.399999999999999,
          "name": "ReadCsvProjectSpace_1",
          "real_mem": 640151552,
          "time": 1616593038.7740796
         },
         {
          "cpu_percent": 294.6,
          "cpu_time": 12.49,
          "name": "CustMercTS_1",
          "real_mem": 640712704,
          "time": 1616593038.815924
         },
         {
          "cpu_percent": 197.1,
          "cpu_time": 12.87,
          "name": "ReadCsvProjectSpace_1",
          "real_mem": 643588096,
          "time": 1616593039.0477295
         },
         {
          "cpu_percent": 98.3,
          "cpu_time": 12.959999999999999,
          "name": "CustMercTS_1",
          "real_mem": 644243456,
          "time": 1616593039.0892313
         },
         {
          "cpu_percent": 98.4,
          "cpu_time": 13.399999999999999,
          "name": "ReadCsvProjectSpace_1",
          "real_mem": 647462912,
          "time": 1616593039.3209991
         },
         {
          "cpu_percent": 97.9,
          "cpu_time": 13.47,
          "name": "CustMercTS_1",
          "real_mem": 647979008,
          "time": 1616593039.362692
         },
         {
          "cpu_percent": 294.6,
          "cpu_time": 13.96,
          "name": "ReadCsvProjectSpace_1",
          "real_mem": 649469952,
          "time": 1616593039.5945826
         },
         {
          "cpu_percent": 294.4,
          "cpu_time": 14.07,
          "name": "CustMercTS_1",
          "real_mem": 649674752,
          "time": 1616593039.6360798
         },
         {
          "cpu_percent": 98.5,
          "cpu_time": 14.41,
          "name": "ReadCsvProjectSpace_1",
          "real_mem": 710520832,
          "time": 1616593039.8684468
         },
         {
          "cpu_percent": 98,
          "cpu_time": 14.48,
          "name": "CustMercTS_1",
          "real_mem": 729415680,
          "time": 1616593039.9100697
         },
         {
          "cpu_percent": 98.4,
          "cpu_time": 14.74,
          "name": "ReadCsvProjectSpace_1",
          "real_mem": 730517504,
          "time": 1616593040.141689
         },
         {
          "cpu_percent": 98.2,
          "cpu_time": 14.780000000000001,
          "name": "CustMercTS_1",
          "real_mem": 730677248,
          "time": 1616593040.1834528
         },
         {
          "cpu_percent": 98.3,
          "cpu_time": 15.06,
          "name": "ReadCsvProjectSpace_1",
          "real_mem": 763318272,
          "time": 1616593040.415531
         },
         {
          "cpu_percent": 98.4,
          "cpu_time": 15.1,
          "name": "CustMercTS_1",
          "real_mem": 763318272,
          "time": 1616593040.4572325
         },
         {
          "cpu_percent": 196.5,
          "cpu_time": 15.41,
          "name": "ReadCsvProjectSpace_1",
          "real_mem": 766832640,
          "time": 1616593040.6890025
         },
         {
          "cpu_percent": 249.6,
          "cpu_time": 15.49,
          "name": "CustMercTS_1",
          "real_mem": 767823872,
          "time": 1616593040.7324598
         },
         {
          "cpu_percent": 295.2,
          "cpu_time": 15.83,
          "name": "ReadCsvProjectSpace_1",
          "real_mem": 775077888,
          "time": 1616593040.963021
         },
         {
          "cpu_percent": 196.9,
          "cpu_time": 15.9,
          "name": "CustMercTS_1",
          "real_mem": 775655424,
          "time": 1616593041.0053716
         },
         {
          "cpu_percent": 392.9,
          "cpu_time": 16.61,
          "name": "ReadCsvProjectSpace_1",
          "real_mem": 778604544,
          "time": 1616593041.2377427
         },
         {
          "cpu_percent": 295.3,
          "cpu_time": 16.74,
          "name": "CustMercTS_1",
          "real_mem": 779010048,
          "time": 1616593041.279693
         },
         {
          "cpu_percent": 194.6,
          "cpu_time": 17.369999999999997,
          "name": "ReadCsvProjectSpace_1",
          "real_mem": 784838656,
          "time": 1616593041.5119598
         },
         {
          "cpu_percent": 295.7,
          "cpu_time": 17.479999999999997,
          "name": "CustMercTS_1",
          "real_mem": 786845696,
          "time": 1616593041.553501
         },
         {
          "cpu_percent": 196.7,
          "cpu_time": 18.009999999999998,
          "name": "ReadCsvProjectSpace_1",
          "real_mem": 792944640,
          "time": 1616593041.7853618
         },
         {
          "cpu_percent": 295.5,
          "cpu_time": 18.139999999999997,
          "name": "CustMercTS_1",
          "real_mem": 793853952,
          "time": 1616593041.8269536
         },
         {
          "cpu_percent": 393.1,
          "cpu_time": 18.7,
          "name": "ReadCsvProjectSpace_1",
          "real_mem": 797564928,
          "time": 1616593042.0593011
         },
         {
          "cpu_percent": 294.4,
          "cpu_time": 18.85,
          "name": "CustMercTS_1",
          "real_mem": 798703616,
          "time": 1616593042.1015837
         },
         {
          "cpu_percent": 295.3,
          "cpu_time": 19.57,
          "name": "ReadCsvProjectSpace_1",
          "real_mem": 817033216,
          "time": 1616593042.3340702
         },
         {
          "cpu_percent": 0,
          "cpu_time": 19.630000000000003,
          "name": "CustMercTS_1",
          "real_mem": 817270784,
          "time": 1616593042.3753436
         },
         {
          "cpu_percent": 98.5,
          "cpu_time": 20.16,
          "name": "ReadCsvProjectSpace_1",
          "real_mem": 814600192,
          "time": 1616593042.6070762
         },
         {
          "cpu_percent": 294.7,
          "cpu_time": 20.25,
          "name": "CustMercTS_1",
          "real_mem": 815099904,
          "time": 1616593042.6486702
         },
         {
          "cpu_percent": 98.3,
          "cpu_time": 20.51,
          "name": "ReadCsvProjectSpace_1",
          "real_mem": 815099904,
          "time": 1616593042.8808496
         },
         {
          "cpu_percent": 98.3,
          "cpu_time": 20.56,
          "name": "CustMercTS_1",
          "real_mem": 815099904,
          "time": 1616593042.9228961
         },
         {
          "cpu_percent": 196.6,
          "cpu_time": 21.07,
          "name": "ReadCsvProjectSpace_1",
          "real_mem": 816971776,
          "time": 1616593043.160455
         },
         {
          "cpu_percent": 195.9,
          "cpu_time": 21.15,
          "name": "CustMercTS_1",
          "real_mem": 818470912,
          "time": 1616593043.1972895
         },
         {
          "cpu_percent": 191,
          "cpu_time": 21.95,
          "name": "CustMercTS_1",
          "real_mem": 854401024,
          "time": 1616593043.4712265
         },
         {
          "cpu_percent": 294,
          "cpu_time": 23.27,
          "name": "CustMercTS_1",
          "real_mem": 859885568,
          "time": 1616593043.9943833
         },
         {
          "cpu_percent": 197,
          "cpu_time": 24.459999999999997,
          "name": "CustMercTS_1",
          "real_mem": 864579584,
          "time": 1616593044.5170822
         },
         {
          "cpu_percent": 195.9,
          "cpu_time": 25.509999999999998,
          "name": "CustMercTS_1",
          "real_mem": 865468416,
          "time": 1616593045.0396044
         },
         {
          "cpu_percent": 193.9,
          "cpu_time": 26.099999999999998,
          "name": "CustMercTS_1",
          "real_mem": 865558528,
          "time": 1616593045.56394
         },
         {
          "cpu_percent": 98.4,
          "cpu_time": 26.67,
          "name": "CustMercTS_1",
          "real_mem": 865996800,
          "time": 1616593046.0872052
         },
         {
          "cpu_percent": 197.1,
          "cpu_time": 27.31,
          "name": "CustMercTS_1",
          "real_mem": 866893824,
          "time": 1616593046.6096709
         },
         {
          "cpu_percent": 98,
          "cpu_time": 27.97,
          "name": "CustMercTS_1",
          "real_mem": 867098624,
          "time": 1616593047.1334877
         },
         {
          "cpu_percent": 295,
          "cpu_time": 28.57,
          "name": "CustMercTS_1",
          "real_mem": 867577856,
          "time": 1616593047.6561828
         },
         {
          "cpu_percent": 294.3,
          "cpu_time": 29.71,
          "name": "CustMercTS_1",
          "real_mem": 873095168,
          "time": 1616593048.1801474
         },
         {
          "cpu_percent": 393.8,
          "cpu_time": 31.72,
          "name": "CustMercTS_1",
          "real_mem": 886923264,
          "time": 1616593048.7097445
         },
         {
          "cpu_percent": 885.7,
          "cpu_time": 33.940000000000005,
          "name": "CustMercTS_1",
          "real_mem": 891564032,
          "time": 1616593049.2324011
         },
         {
          "cpu_percent": 96.8,
          "cpu_time": 36,
          "name": "CustMercTS_1",
          "real_mem": 895098880,
          "time": 1616593049.757199
         },
         {
          "cpu_percent": 97.3,
          "cpu_time": 37.56,
          "name": "CustMercTS_1",
          "real_mem": 900657152,
          "time": 1616593050.28048
         },
         {
          "cpu_percent": 98.1,
          "cpu_time": 38.13,
          "name": "CustMercTS_1",
          "real_mem": 900657152,
          "time": 1616593050.8036869
         },
         {
          "cpu_percent": 0,
          "cpu_time": 38.720000000000006,
          "name": "CustMercTS_1",
          "real_mem": 900784128,
          "time": 1616593051.327754
         },
         {
          "cpu_percent": 195.1,
          "cpu_time": 39.35,
          "name": "CustMercTS_1",
          "real_mem": 901308416,
          "time": 1616593051.8516421
         },
         {
          "cpu_percent": 98.1,
          "cpu_time": 39.95,
          "name": "CustMercTS_1",
          "real_mem": 901619712,
          "time": 1616593052.375788
         },
         {
          "cpu_percent": 98.2,
          "cpu_time": 40.550000000000004,
          "name": "CustMercTS_1",
          "real_mem": 901865472,
          "time": 1616593052.9000213
         },
         {
          "cpu_percent": 590.6,
          "cpu_time": 41.67,
          "name": "CustMercTS_1",
          "real_mem": 903843840,
          "time": 1616593053.4237645
         },
         {
          "cpu_percent": 293.7,
          "cpu_time": 43.529999999999994,
          "name": "CustMercTS_1",
          "real_mem": 908341248,
          "time": 1616593053.9488623
         }
        ],
        "logs": [
         {
          "asctime": "2021-03-24 13:37:11,749",
          "created": 1616593031.7490008,
          "extra": {},
          "filename": "async_executors.py",
          "funcName": "main",
          "levelname": "DEBUG",
          "lineno": 114,
          "message": "NonSparkPath_1: started async block execution\n",
          "name": "engine.logs:NonSparkPath_1",
          "pathname": "/usr/local/lib/python3.7/dist-packages/razor/flow/async_executors.py",
          "process": 13428,
          "processName": "ForkProcess-1:1",
          "thread": 140405612234560,
          "threadName": "MainThread"
         },
         {
          "asctime": "2021-03-24 13:37:11,766",
          "created": 1616593031.7665257,
          "extra": {},
          "filename": "async_executors.py",
          "funcName": "fill_atomic_inputs",
          "levelname": "INFO",
          "lineno": 250,
          "message": "NonSparkPath_1: waiting for atomic input: ip_path",
          "name": "engine.logs:NonSparkPath_1",
          "pathname": "/usr/local/lib/python3.7/dist-packages/razor/flow/async_executors.py",
          "process": 13428,
          "processName": "ForkProcess-1:1",
          "thread": 140405612234560,
          "threadName": "MainThread"
         },
         {
          "asctime": "2021-03-24 13:37:11,766",
          "created": 1616593031.766678,
          "extra": {},
          "filename": "async_executors.py",
          "funcName": "fill_atomic_inputs",
          "levelname": "DEBUG",
          "lineno": 253,
          "message": "NonSparkPath_1: got atomic input: customer_data.csv",
          "name": "engine.logs:NonSparkPath_1",
          "pathname": "/usr/local/lib/python3.7/dist-packages/razor/flow/async_executors.py",
          "process": 13428,
          "processName": "ForkProcess-1:1",
          "thread": 140405612234560,
          "threadName": "MainThread"
         },
         {
          "asctime": "2021-03-24 13:37:11,766",
          "created": 1616593031.7667308,
          "extra": {},
          "filename": "async_executors.py",
          "funcName": "main",
          "levelname": "DEBUG",
          "lineno": 130,
          "message": "NonSparkPath_1: triggering block run",
          "name": "engine.logs:NonSparkPath_1",
          "pathname": "/usr/local/lib/python3.7/dist-packages/razor/flow/async_executors.py",
          "process": 13428,
          "processName": "ForkProcess-1:1",
          "thread": 140405612234560,
          "threadName": "MainThread"
         },
         {
          "asctime": "2021-03-24 13:37:12,019",
          "created": 1616593032.0198317,
          "extra": {},
          "filename": "async_executors.py",
          "funcName": "distribute_output_queue",
          "levelname": "DEBUG",
          "lineno": 308,
          "message": "NonSparkPath_1: ---- dist output: /home/aios/projectspace/customer_data.csv -> ('ReadCsvProjectSpace_1', 'filename')",
          "name": "engine.logs:NonSparkPath_1",
          "pathname": "/usr/local/lib/python3.7/dist-packages/razor/flow/async_executors.py",
          "process": 13428,
          "processName": "ForkProcess-1:1",
          "thread": 140405612234560,
          "threadName": "MainThread"
         },
         {
          "asctime": "2021-03-24 13:37:12,020",
          "created": 1616593032.0201561,
          "extra": {},
          "filename": "async_executors.py",
          "funcName": "main",
          "levelname": "DEBUG",
          "lineno": 147,
          "message": "NonSparkPath_1: block thread completed",
          "name": "engine.logs:NonSparkPath_1",
          "pathname": "/usr/local/lib/python3.7/dist-packages/razor/flow/async_executors.py",
          "process": 13428,
          "processName": "ForkProcess-1:1",
          "thread": 140405612234560,
          "threadName": "MainThread"
         },
         {
          "asctime": "2021-03-24 13:37:12,020",
          "created": 1616593032.020252,
          "extra": {},
          "filename": "async_executors.py",
          "funcName": "main",
          "levelname": "DEBUG",
          "lineno": 149,
          "message": "NonSparkPath_1: block execution complete",
          "name": "engine.logs:NonSparkPath_1",
          "pathname": "/usr/local/lib/python3.7/dist-packages/razor/flow/async_executors.py",
          "process": 13428,
          "processName": "ForkProcess-1:1",
          "thread": 140405612234560,
          "threadName": "MainThread"
         },
         {
          "asctime": "2021-03-24 13:37:12,020",
          "created": 1616593032.0203657,
          "extra": {},
          "filename": "async_executors.py",
          "funcName": "distribute_output_queue",
          "levelname": "DEBUG",
          "lineno": 308,
          "message": "NonSparkPath_1: ---- dist output: b'__!\\tEndOfStream\\t!__' -> ('ReadCsvProjectSpace_1', 'filename')",
          "name": "engine.logs:NonSparkPath_1",
          "pathname": "/usr/local/lib/python3.7/dist-packages/razor/flow/async_executors.py",
          "process": 13428,
          "processName": "ForkProcess-1:1",
          "thread": 140405612234560,
          "threadName": "MainThread"
         },
         {
          "asctime": "2021-03-24 13:37:12,035",
          "created": 1616593032.035424,
          "extra": {},
          "filename": "async_executors.py",
          "funcName": "main",
          "levelname": "DEBUG",
          "lineno": 114,
          "message": "ReadCsvProjectSpace_1: started async block execution\n",
          "name": "engine.logs:ReadCsvProjectSpace_1",
          "pathname": "/usr/local/lib/python3.7/dist-packages/razor/flow/async_executors.py",
          "process": 13437,
          "processName": "ForkProcess-1:2",
          "thread": 140405612234560,
          "threadName": "MainThread"
         },
         {
          "asctime": "2021-03-24 13:37:12,036",
          "created": 1616593032.0369072,
          "extra": {},
          "filename": "async_executors.py",
          "funcName": "main",
          "levelname": "DEBUG",
          "lineno": 114,
          "message": "CustMercTS_1: started async block execution\n",
          "name": "engine.logs:CustMercTS_1",
          "pathname": "/usr/local/lib/python3.7/dist-packages/razor/flow/async_executors.py",
          "process": 13437,
          "processName": "ForkProcess-1:2",
          "thread": 140405612234560,
          "threadName": "MainThread"
         },
         {
          "asctime": "2021-03-24 13:37:12,073",
          "created": 1616593032.0735605,
          "extra": {},
          "filename": "async_executors.py",
          "funcName": "fill_atomic_inputs",
          "levelname": "INFO",
          "lineno": 250,
          "message": "CustMercTS_1: waiting for atomic input: ip_data",
          "name": "engine.logs:CustMercTS_1",
          "pathname": "/usr/local/lib/python3.7/dist-packages/razor/flow/async_executors.py",
          "process": 13437,
          "processName": "ForkProcess-1:2",
          "thread": 140405612234560,
          "threadName": "MainThread"
         },
         {
          "asctime": "2021-03-24 13:37:12,051",
          "created": 1616593032.051868,
          "extra": {},
          "filename": "async_executors.py",
          "funcName": "fill_atomic_inputs",
          "levelname": "INFO",
          "lineno": 250,
          "message": "ReadCsvProjectSpace_1: waiting for atomic input: filename",
          "name": "engine.logs:ReadCsvProjectSpace_1",
          "pathname": "/usr/local/lib/python3.7/dist-packages/razor/flow/async_executors.py",
          "process": 13437,
          "processName": "ForkProcess-1:2",
          "thread": 140405612234560,
          "threadName": "MainThread"
         },
         {
          "asctime": "2021-03-24 13:37:12,079",
          "created": 1616593032.0798912,
          "extra": {},
          "filename": "async_executors.py",
          "funcName": "start_input_receiver",
          "levelname": "DEBUG",
          "lineno": 173,
          "message": "NonSparkPath_1: received cmd: start_sender, (), {'out_name': 'op_path', 'target': ('ReadCsvProjectSpace_1', 'filename'), 'out_addr': 'tcp://0.0.0.0:52639', 'in_memory': None}",
          "name": "engine.logs:NonSparkPath_1",
          "pathname": "/usr/local/lib/python3.7/dist-packages/razor/flow/async_executors.py",
          "process": 13428,
          "processName": "ForkProcess-1:1",
          "thread": 140405612234560,
          "threadName": "MainThread"
         },
         {
          "asctime": "2021-03-24 13:37:12,080",
          "created": 1616593032.080284,
          "extra": {},
          "filename": "async_executors.py",
          "funcName": "start_output_sender",
          "levelname": "DEBUG",
          "lineno": 370,
          "message": "NonSparkPath_1: got start_sender, op_path, ('ReadCsvProjectSpace_1', 'filename')",
          "name": "engine.logs:NonSparkPath_1",
          "pathname": "/usr/local/lib/python3.7/dist-packages/razor/flow/async_executors.py",
          "process": 13428,
          "processName": "ForkProcess-1:1",
          "thread": 140405612234560,
          "threadName": "MainThread"
         },
         {
          "asctime": "2021-03-24 13:37:12,081",
          "created": 1616593032.0811138,
          "extra": {},
          "filename": "async_executors.py",
          "funcName": "start_output_sender",
          "levelname": "DEBUG",
          "lineno": 388,
          "message": "NonSparkPath_1: SENT, filename, /home/aios/projectspace/customer_data.csv, ('ReadCsvProjectSpace_1', 'filename')",
          "name": "engine.logs:NonSparkPath_1",
          "pathname": "/usr/local/lib/python3.7/dist-packages/razor/flow/async_executors.py",
          "process": 13428,
          "processName": "ForkProcess-1:1",
          "thread": 140405612234560,
          "threadName": "MainThread"
         },
         {
          "asctime": "2021-03-24 13:37:12,081",
          "created": 1616593032.081346,
          "extra": {},
          "filename": "async_executors.py",
          "funcName": "start_output_sender",
          "levelname": "DEBUG",
          "lineno": 388,
          "message": "NonSparkPath_1: SENT, filename, b'__!\\tEndOfStream\\t!__', ('ReadCsvProjectSpace_1', 'filename')",
          "name": "engine.logs:NonSparkPath_1",
          "pathname": "/usr/local/lib/python3.7/dist-packages/razor/flow/async_executors.py",
          "process": 13428,
          "processName": "ForkProcess-1:1",
          "thread": 140405612234560,
          "threadName": "MainThread"
         },
         {
          "asctime": "2021-03-24 13:37:12,081",
          "created": 1616593032.0816185,
          "extra": {},
          "filename": "async_executors.py",
          "funcName": "start_output_sender",
          "levelname": "DEBUG",
          "lineno": 391,
          "message": "NonSparkPath_1: completed output: ('op_path', ('ReadCsvProjectSpace_1', 'filename'))",
          "name": "engine.logs:NonSparkPath_1",
          "pathname": "/usr/local/lib/python3.7/dist-packages/razor/flow/async_executors.py",
          "process": 13428,
          "processName": "ForkProcess-1:1",
          "thread": 140405612234560,
          "threadName": "MainThread"
         },
         {
          "asctime": "2021-03-24 13:37:12,082",
          "created": 1616593032.0822322,
          "extra": {},
          "filename": "async_executors.py",
          "funcName": "start_input_receiver",
          "levelname": "DEBUG",
          "lineno": 177,
          "message": "ReadCsvProjectSpace_1: received data: filename, /home/aios/projectspace/customer_data.csv",
          "name": "engine.logs:ReadCsvProjectSpace_1",
          "pathname": "/usr/local/lib/python3.7/dist-packages/razor/flow/async_executors.py",
          "process": 13437,
          "processName": "ForkProcess-1:2",
          "thread": 140405612234560,
          "threadName": "MainThread"
         },
         {
          "asctime": "2021-03-24 13:37:12,082",
          "created": 1616593032.0826795,
          "extra": {},
          "filename": "async_executors.py",
          "funcName": "start_input_receiver",
          "levelname": "DEBUG",
          "lineno": 177,
          "message": "ReadCsvProjectSpace_1: received data: filename, b'__!\\tEndOfStream\\t!__'",
          "name": "engine.logs:ReadCsvProjectSpace_1",
          "pathname": "/usr/local/lib/python3.7/dist-packages/razor/flow/async_executors.py",
          "process": 13437,
          "processName": "ForkProcess-1:2",
          "thread": 140405612234560,
          "threadName": "MainThread"
         },
         {
          "asctime": "2021-03-24 13:37:12,082",
          "created": 1616593032.0828493,
          "extra": {},
          "filename": "async_executors.py",
          "funcName": "fill_atomic_inputs",
          "levelname": "DEBUG",
          "lineno": 253,
          "message": "ReadCsvProjectSpace_1: got atomic input: /home/aios/projectspace/customer_data.csv",
          "name": "engine.logs:ReadCsvProjectSpace_1",
          "pathname": "/usr/local/lib/python3.7/dist-packages/razor/flow/async_executors.py",
          "process": 13437,
          "processName": "ForkProcess-1:2",
          "thread": 140405612234560,
          "threadName": "MainThread"
         },
         {
          "asctime": "2021-03-24 13:37:12,082",
          "created": 1616593032.0829303,
          "extra": {},
          "filename": "async_executors.py",
          "funcName": "fill_atomic_inputs",
          "levelname": "INFO",
          "lineno": 250,
          "message": "ReadCsvProjectSpace_1: waiting for atomic input: config",
          "name": "engine.logs:ReadCsvProjectSpace_1",
          "pathname": "/usr/local/lib/python3.7/dist-packages/razor/flow/async_executors.py",
          "process": 13437,
          "processName": "ForkProcess-1:2",
          "thread": 140405612234560,
          "threadName": "MainThread"
         },
         {
          "asctime": "2021-03-24 13:37:12,083",
          "created": 1616593032.0830112,
          "extra": {},
          "filename": "async_executors.py",
          "funcName": "fill_atomic_inputs",
          "levelname": "DEBUG",
          "lineno": 253,
          "message": "ReadCsvProjectSpace_1: got atomic input: {}",
          "name": "engine.logs:ReadCsvProjectSpace_1",
          "pathname": "/usr/local/lib/python3.7/dist-packages/razor/flow/async_executors.py",
          "process": 13437,
          "processName": "ForkProcess-1:2",
          "thread": 140405612234560,
          "threadName": "MainThread"
         },
         {
          "asctime": "2021-03-24 13:37:12,083",
          "created": 1616593032.0830898,
          "extra": {},
          "filename": "async_executors.py",
          "funcName": "fill_atomic_inputs",
          "levelname": "INFO",
          "lineno": 250,
          "message": "ReadCsvProjectSpace_1: waiting for atomic input: source",
          "name": "engine.logs:ReadCsvProjectSpace_1",
          "pathname": "/usr/local/lib/python3.7/dist-packages/razor/flow/async_executors.py",
          "process": 13437,
          "processName": "ForkProcess-1:2",
          "thread": 140405612234560,
          "threadName": "MainThread"
         },
         {
          "asctime": "2021-03-24 13:37:12,083",
          "created": 1616593032.0831718,
          "extra": {},
          "filename": "async_executors.py",
          "funcName": "fill_atomic_inputs",
          "levelname": "DEBUG",
          "lineno": 253,
          "message": "ReadCsvProjectSpace_1: got atomic input: ",
          "name": "engine.logs:ReadCsvProjectSpace_1",
          "pathname": "/usr/local/lib/python3.7/dist-packages/razor/flow/async_executors.py",
          "process": 13437,
          "processName": "ForkProcess-1:2",
          "thread": 140405612234560,
          "threadName": "MainThread"
         },
         {
          "asctime": "2021-03-24 13:37:12,083",
          "created": 1616593032.0832336,
          "extra": {},
          "filename": "async_executors.py",
          "funcName": "main",
          "levelname": "DEBUG",
          "lineno": 130,
          "message": "ReadCsvProjectSpace_1: triggering block run",
          "name": "engine.logs:ReadCsvProjectSpace_1",
          "pathname": "/usr/local/lib/python3.7/dist-packages/razor/flow/async_executors.py",
          "process": 13437,
          "processName": "ForkProcess-1:2",
          "thread": 140405612234560,
          "threadName": "MainThread"
         },
         {
          "asctime": "2021-03-24 13:37:12,086",
          "created": 1616593032.0866923,
          "extra": {},
          "filename": "async_executors.py",
          "funcName": "start_input_receiver",
          "levelname": "DEBUG",
          "lineno": 173,
          "message": "NonSparkPath_1: received cmd: terminate, (), {}",
          "name": "engine.logs:NonSparkPath_1",
          "pathname": "/usr/local/lib/python3.7/dist-packages/razor/flow/async_executors.py",
          "process": 13428,
          "processName": "ForkProcess-1:1",
          "thread": 140405612234560,
          "threadName": "MainThread"
         },
         {
          "asctime": "2021-03-24 13:37:23,095",
          "created": 1616593043.095281,
          "exc_info": null,
          "extra": {},
          "filename": null,
          "full_message": null,
          "funcName": null,
          "levelname": "STDOUT",
          "lineno": null,
          "message": "Hello---1\n",
          "name": "block.stdout:ReadCsvProjectSpace_1",
          "pathname": null,
          "process": null,
          "processName": null,
          "thread": null,
          "threadName": null
         },
         {
          "asctime": "2021-03-24 13:37:23,109",
          "created": 1616593043.1095746,
          "exc_info": null,
          "extra": {},
          "filename": null,
          "full_message": null,
          "funcName": null,
          "levelname": "STDOUT",
          "lineno": null,
          "message": "root\n |-- transaction_id: string (nullable = true)\n |-- time: string (nullable = true)\n |-- customer_name: string (nullable = true)\n |-- card_number: string (nullable = true)\n |-- card_type: string (nullable = true)\n |-- physical_card_type: string (nullable = true)\n |-- merchant_id: string (nullable = true)\n |-- merchant_city: string (nullable = true)\n |-- merchant_state: string (nullable = true)\n |-- transaction_type: string (nullable = true)\n |-- transaction_type_sub: string (nullable = true)\n |-- amount: string (nullable = true)\n |-- product_type: string (nullable = true)\n |-- fraud_risk: string (nullable = true)\n |-- One Time Heavy Loot Score: string (nullable = true)\n |-- Drastic Transaction Change Pattern Score: string (nullable = true)\n |-- Parasitic Fraud Score: string (nullable = true)\n |-- Purchase Behavior Variation Score: string (nullable = true)\n |-- Preferred Merchant Variation Score: string (nullable = true)\n |-- Multiple Location Fraud Score: string (nullable = true)\n |-- Fraudster Merchant Score: string (nullable = true)\n |-- no_of_transactions_in_the_day: string (nullable = true)\n |-- max_transaction_amount_in_the_day: string (nullable = true)\n |-- avg_transaction_amount_in_the_day: string (nullable = true)\n |-- no_of_transactions_in_the_month: string (nullable = true)\n |-- max_transaction_amount_the_month: string (nullable = true)\n |-- avg_transaction_amount_the_month: string (nullable = true)\n |-- no_of_transactions_of_the_same_merchant_in_the_day: string (nullable = true)\n |-- max_transactions_of_the_same_merchant_in_the_day: string (nullable = true)\n |-- avg_transactions_of_the_same_merchant_in_the_day: string (nullable = true)\n |-- no_of_transactions_of_the_same_merchant_in_the_month: string (nullable = true)\n |-- max_transactions_of_the_same_merchant_in_the_month: string (nullable = true)\n |-- avg_transactions_of_the_same_merchant_in_the_month: string (nullable = true)\n\n",
          "name": "block.stdout:ReadCsvProjectSpace_1",
          "pathname": null,
          "process": null,
          "processName": null,
          "thread": null,
          "threadName": null
         },
         {
          "asctime": "2021-03-24 13:37:23,109",
          "created": 1616593043.1097195,
          "exc_info": null,
          "extra": {},
          "filename": null,
          "full_message": null,
          "funcName": null,
          "levelname": "STDOUT",
          "lineno": null,
          "message": "BYE!!\n",
          "name": "block.stdout:ReadCsvProjectSpace_1",
          "pathname": null,
          "process": null,
          "processName": null,
          "thread": null,
          "threadName": null
         },
         {
          "asctime": "2021-03-24 13:37:23,109",
          "created": 1616593043.1098163,
          "exc_info": null,
          "extra": {},
          "filename": null,
          "full_message": null,
          "funcName": null,
          "levelname": "STDOUT",
          "lineno": null,
          "message": "SPARK SESSION <py4j.java_gateway.JVMView object at 0x7fb2343be3d0>\n",
          "name": "block.stdout:ReadCsvProjectSpace_1",
          "pathname": null,
          "process": null,
          "processName": null,
          "thread": null,
          "threadName": null
         },
         {
          "asctime": "2021-03-24 13:37:23,137",
          "created": 1616593043.1372786,
          "extra": {},
          "filename": "async_executors.py",
          "funcName": "distribute_output_queue",
          "levelname": "DEBUG",
          "lineno": 308,
          "message": "ReadCsvProjectSpace_1: ---- dist output: DataFrame[transaction_id: string, time: string, customer_name: string, card_number: string, card_type: string, physical_card_type: string, merchant_id: string, merchant_city: string, merchant_state: string, transaction_type: string, transaction_type_sub: string, amount: string, product_type: string, fraud_risk: string, One Time Heavy Loot Score: string, Drastic Transaction Change Pattern Score: string, Parasitic Fraud Score: string, Purchase Behavior Variation Score: string, Preferred Merchant Variation Score: string, Multiple Location Fraud Score: string, Fraudster Merchant Score: string, no_of_transactions_in_the_day: string, max_transaction_amount_in_the_day: string, avg_transaction_amount_in_the_day: string, no_of_transactions_in_the_month: string, max_transaction_amount_the_month: string, avg_transaction_amount_the_month: string, no_of_transactions_of_the_same_merchant_in_the_day: string, max_transactions_of_the_same_merchant_in_the_day: string, avg_transactions_of_the_same_merchant_in_the_day: string, no_of_transactions_of_the_same_merchant_in_the_month: string, max_transactions_of_the_same_merchant_in_the_month: string, avg_transactions_of_the_same_merchant_in_the_month: string] -> ('CustMercTS_1', 'ip_data')",
          "name": "engine.logs:ReadCsvProjectSpace_1",
          "pathname": "/usr/local/lib/python3.7/dist-packages/razor/flow/async_executors.py",
          "process": 13437,
          "processName": "ForkProcess-1:2",
          "thread": 140405612234560,
          "threadName": "MainThread"
         },
         {
          "asctime": "2021-03-24 13:37:23,137",
          "created": 1616593043.1377048,
          "extra": {},
          "filename": "async_executors.py",
          "funcName": "main",
          "levelname": "DEBUG",
          "lineno": 147,
          "message": "ReadCsvProjectSpace_1: block thread completed",
          "name": "engine.logs:ReadCsvProjectSpace_1",
          "pathname": "/usr/local/lib/python3.7/dist-packages/razor/flow/async_executors.py",
          "process": 13437,
          "processName": "ForkProcess-1:2",
          "thread": 140405612234560,
          "threadName": "MainThread"
         },
         {
          "asctime": "2021-03-24 13:37:23,137",
          "created": 1616593043.1377819,
          "extra": {},
          "filename": "async_executors.py",
          "funcName": "main",
          "levelname": "DEBUG",
          "lineno": 149,
          "message": "ReadCsvProjectSpace_1: block execution complete",
          "name": "engine.logs:ReadCsvProjectSpace_1",
          "pathname": "/usr/local/lib/python3.7/dist-packages/razor/flow/async_executors.py",
          "process": 13437,
          "processName": "ForkProcess-1:2",
          "thread": 140405612234560,
          "threadName": "MainThread"
         },
         {
          "asctime": "2021-03-24 13:37:23,138",
          "created": 1616593043.1380532,
          "extra": {},
          "filename": "async_executors.py",
          "funcName": "distribute_output_queue",
          "levelname": "DEBUG",
          "lineno": 308,
          "message": "ReadCsvProjectSpace_1: ---- dist output: b'__!\\tEndOfStream\\t!__' -> ('CustMercTS_1', 'ip_data')",
          "name": "engine.logs:ReadCsvProjectSpace_1",
          "pathname": "/usr/local/lib/python3.7/dist-packages/razor/flow/async_executors.py",
          "process": 13437,
          "processName": "ForkProcess-1:2",
          "thread": 140405612234560,
          "threadName": "MainThread"
         },
         {
          "asctime": "2021-03-24 13:37:23,164",
          "created": 1616593043.1644657,
          "extra": {},
          "filename": "async_executors.py",
          "funcName": "start_input_receiver",
          "levelname": "DEBUG",
          "lineno": 173,
          "message": "ReadCsvProjectSpace_1: received cmd: start_sender, (), {'out_name': 'data', 'target': ('CustMercTS_1', 'ip_data'), 'out_addr': 'tcp://0.0.0.0:60344', 'in_memory': True}",
          "name": "engine.logs:ReadCsvProjectSpace_1",
          "pathname": "/usr/local/lib/python3.7/dist-packages/razor/flow/async_executors.py",
          "process": 13437,
          "processName": "ForkProcess-1:2",
          "thread": 140405612234560,
          "threadName": "MainThread"
         },
         {
          "asctime": "2021-03-24 13:37:23,164",
          "created": 1616593043.1649954,
          "extra": {},
          "filename": "async_executors.py",
          "funcName": "start_output_sender",
          "levelname": "DEBUG",
          "lineno": 370,
          "message": "ReadCsvProjectSpace_1: got start_sender, data, ('CustMercTS_1', 'ip_data')",
          "name": "engine.logs:ReadCsvProjectSpace_1",
          "pathname": "/usr/local/lib/python3.7/dist-packages/razor/flow/async_executors.py",
          "process": 13437,
          "processName": "ForkProcess-1:2",
          "thread": 140405612234560,
          "threadName": "MainThread"
         },
         {
          "asctime": "2021-03-24 13:37:23,166",
          "created": 1616593043.166156,
          "extra": {},
          "filename": "async_executors.py",
          "funcName": "start_output_sender",
          "levelname": "DEBUG",
          "lineno": 375,
          "message": "ReadCsvProjectSpace_1: SENT, ip_data, DataFrame[transaction_id: string, time: string, customer_name: string, card_number: string, card_type: string, physical_card_type: string, merchant_id: string, merchant_city: string, merchant_state: string, transaction_type: string, transaction_type_sub: string, amount: string, product_type: string, fraud_risk: string, One Time Heavy Loot Score: string, Drastic Transaction Change Pattern Score: string, Parasitic Fraud Score: string, Purchase Behavior Variation Score: string, Preferred Merchant Variation Score: string, Multiple Location Fraud Score: string, Fraudster Merchant Score: string, no_of_transactions_in_the_day: string, max_transaction_amount_in_the_day: string, avg_transaction_amount_in_the_day: string, no_of_transactions_in_the_month: string, max_transaction_amount_the_month: string, avg_transaction_amount_the_month: string, no_of_transactions_of_the_same_merchant_in_the_day: string, max_transactions_of_the_same_merchant_in_the_day: string, avg_transactions_of_the_same_merchant_in_the_day: string, no_of_transactions_of_the_same_merchant_in_the_month: string, max_transactions_of_the_same_merchant_in_the_month: string, avg_transactions_of_the_same_merchant_in_the_month: string], ('CustMercTS_1', 'ip_data')",
          "name": "engine.logs:ReadCsvProjectSpace_1",
          "pathname": "/usr/local/lib/python3.7/dist-packages/razor/flow/async_executors.py",
          "process": 13437,
          "processName": "ForkProcess-1:2",
          "thread": 140405612234560,
          "threadName": "MainThread"
         },
         {
          "asctime": "2021-03-24 13:37:23,166",
          "created": 1616593043.1663408,
          "extra": {},
          "filename": "async_executors.py",
          "funcName": "start_output_sender",
          "levelname": "DEBUG",
          "lineno": 375,
          "message": "ReadCsvProjectSpace_1: SENT, ip_data, b'__!\\tEndOfStream\\t!__', ('CustMercTS_1', 'ip_data')",
          "name": "engine.logs:ReadCsvProjectSpace_1",
          "pathname": "/usr/local/lib/python3.7/dist-packages/razor/flow/async_executors.py",
          "process": 13437,
          "processName": "ForkProcess-1:2",
          "thread": 140405612234560,
          "threadName": "MainThread"
         },
         {
          "asctime": "2021-03-24 13:37:23,168",
          "created": 1616593043.1685102,
          "extra": {},
          "filename": "async_executors.py",
          "funcName": "fill_atomic_inputs",
          "levelname": "DEBUG",
          "lineno": 253,
          "message": "CustMercTS_1: got atomic input: DataFrame[transaction_id: string, time: string, customer_name: string, card_number: string, card_type: string, physical_card_type: string, merchant_id: string, merchant_city: string, merchant_state: string, transaction_type: string, transaction_type_sub: string, amount: string, product_type: string, fraud_risk: string, One Time Heavy Loot Score: string, Drastic Transaction Change Pattern Score: string, Parasitic Fraud Score: string, Purchase Behavior Variation Score: string, Preferred Merchant Variation Score: string, Multiple Location Fraud Score: string, Fraudster Merchant Score: string, no_of_transactions_in_the_day: string, max_transaction_amount_in_the_day: string, avg_transaction_amount_in_the_day: string, no_of_transactions_in_the_month: string, max_transaction_amount_the_month: string, avg_transaction_amount_the_month: string, no_of_transactions_of_the_same_merchant_in_the_day: string, max_transactions_of_the_same_merchant_in_the_day: string, avg_transactions_of_the_same_merchant_in_the_day: string, no_of_transactions_of_the_same_merchant_in_the_month: string, max_transactions_of_the_same_merchant_in_the_month: string, avg_transactions_of_the_same_merchant_in_the_month: string]",
          "name": "engine.logs:CustMercTS_1",
          "pathname": "/usr/local/lib/python3.7/dist-packages/razor/flow/async_executors.py",
          "process": 13437,
          "processName": "ForkProcess-1:2",
          "thread": 140405612234560,
          "threadName": "MainThread"
         },
         {
          "asctime": "2021-03-24 13:37:23,166",
          "created": 1616593043.1666005,
          "extra": {},
          "filename": "async_executors.py",
          "funcName": "start_output_sender",
          "levelname": "DEBUG",
          "lineno": 379,
          "message": "ReadCsvProjectSpace_1: completed output: ('data', ('CustMercTS_1', 'ip_data'))",
          "name": "engine.logs:ReadCsvProjectSpace_1",
          "pathname": "/usr/local/lib/python3.7/dist-packages/razor/flow/async_executors.py",
          "process": 13437,
          "processName": "ForkProcess-1:2",
          "thread": 140405612234560,
          "threadName": "MainThread"
         },
         {
          "asctime": "2021-03-24 13:37:23,168",
          "created": 1616593043.1686385,
          "extra": {},
          "filename": "async_executors.py",
          "funcName": "fill_atomic_inputs",
          "levelname": "INFO",
          "lineno": 250,
          "message": "CustMercTS_1: waiting for atomic input: config",
          "name": "engine.logs:CustMercTS_1",
          "pathname": "/usr/local/lib/python3.7/dist-packages/razor/flow/async_executors.py",
          "process": 13437,
          "processName": "ForkProcess-1:2",
          "thread": 140405612234560,
          "threadName": "MainThread"
         },
         {
          "asctime": "2021-03-24 13:37:23,168",
          "created": 1616593043.1687074,
          "extra": {},
          "filename": "async_executors.py",
          "funcName": "fill_atomic_inputs",
          "levelname": "DEBUG",
          "lineno": 253,
          "message": "CustMercTS_1: got atomic input: {}",
          "name": "engine.logs:CustMercTS_1",
          "pathname": "/usr/local/lib/python3.7/dist-packages/razor/flow/async_executors.py",
          "process": 13437,
          "processName": "ForkProcess-1:2",
          "thread": 140405612234560,
          "threadName": "MainThread"
         },
         {
          "asctime": "2021-03-24 13:37:23,172",
          "created": 1616593043.1723852,
          "extra": {},
          "filename": "async_executors.py",
          "funcName": "fill_atomic_inputs",
          "levelname": "INFO",
          "lineno": 250,
          "message": "CustMercTS_1: waiting for atomic input: source",
          "name": "engine.logs:CustMercTS_1",
          "pathname": "/usr/local/lib/python3.7/dist-packages/razor/flow/async_executors.py",
          "process": 13437,
          "processName": "ForkProcess-1:2",
          "thread": 140405612234560,
          "threadName": "MainThread"
         },
         {
          "asctime": "2021-03-24 13:37:23,198",
          "created": 1616593043.1981568,
          "extra": {},
          "filename": "async_executors.py",
          "funcName": "start_input_receiver",
          "levelname": "DEBUG",
          "lineno": 173,
          "message": "ReadCsvProjectSpace_1: received cmd: terminate, (), {}",
          "name": "engine.logs:ReadCsvProjectSpace_1",
          "pathname": "/usr/local/lib/python3.7/dist-packages/razor/flow/async_executors.py",
          "process": 13437,
          "processName": "ForkProcess-1:2",
          "thread": 140405612234560,
          "threadName": "MainThread"
         },
         {
          "asctime": "2021-03-24 13:37:23,172",
          "created": 1616593043.172617,
          "extra": {},
          "filename": "async_executors.py",
          "funcName": "fill_atomic_inputs",
          "levelname": "DEBUG",
          "lineno": 253,
          "message": "CustMercTS_1: got atomic input: ",
          "name": "engine.logs:CustMercTS_1",
          "pathname": "/usr/local/lib/python3.7/dist-packages/razor/flow/async_executors.py",
          "process": 13437,
          "processName": "ForkProcess-1:2",
          "thread": 140405612234560,
          "threadName": "MainThread"
         },
         {
          "asctime": "2021-03-24 13:37:23,172",
          "created": 1616593043.1727169,
          "extra": {},
          "filename": "async_executors.py",
          "funcName": "main",
          "levelname": "DEBUG",
          "lineno": 130,
          "message": "CustMercTS_1: triggering block run",
          "name": "engine.logs:CustMercTS_1",
          "pathname": "/usr/local/lib/python3.7/dist-packages/razor/flow/async_executors.py",
          "process": 13437,
          "processName": "ForkProcess-1:2",
          "thread": 140405612234560,
          "threadName": "MainThread"
         },
         {
          "asctime": "2021-03-24 13:37:29,989",
          "created": 1616593049.989022,
          "exc_info": null,
          "extra": {},
          "filename": null,
          "full_message": null,
          "funcName": null,
          "levelname": "STDOUT",
          "lineno": null,
          "message": "{clone} row count is: 2202\n",
          "name": "block.stdout:CustMercTS_1",
          "pathname": null,
          "process": null,
          "processName": null,
          "thread": null,
          "threadName": null
         },
         {
          "asctime": "2021-03-24 13:37:30,007",
          "created": 1616593050.0078552,
          "exc_info": null,
          "extra": {},
          "filename": null,
          "full_message": null,
          "funcName": null,
          "levelname": "STDOUT",
          "lineno": null,
          "message": "SPARK SESSION ONE  <py4j.java_gateway.JVMView object at 0x7fb2343be3d0>\n",
          "name": "block.stdout:CustMercTS_1",
          "pathname": null,
          "process": null,
          "processName": null,
          "thread": null,
          "threadName": null
         },
         {
          "asctime": "2021-03-24 13:37:34,578",
          "created": 1616593054.5780265,
          "exc_info": "Traceback (most recent call last):\n\n  File \"/usr/local/lib/python3.7/dist-packages/razor/flow/async_executors.py\", line 276, in run_block\n    self.block.run()\n\n  File \"/home/aios/published-packages/project/blocks/ayan_spark_blocks_clone/blocks.py\", line 686, in run\n    customer_ts.show()\n\n  File \"/usr/local/lib/python3.7/dist-packages/pyspark/sql/dataframe.py\", line 440, in show\n    print(self._jdf.showString(n, 20, vertical))\n\n  File \"/usr/local/lib/python3.7/dist-packages/py4j/java_gateway.py\", line 1305, in __call__\n    answer, self.gateway_client, self.target_id, self.name)\n\n  File \"/usr/local/lib/python3.7/dist-packages/pyspark/sql/utils.py\", line 137, in deco\n    raise_from(converted)\n\n  File \"<string>\", line 3, in raise_from\n\npyspark.sql.utils.PythonException: \n  An exception was thrown from Python worker in the executor. The below is the Python worker stacktrace.\nTraceback (most recent call last):\n  File \"/usr/local/lib/python3.7/dist-packages/pyspark/worker.py\", line 589, in main\n    func, profiler, deserializer, serializer = read_udfs(pickleSer, infile, eval_type)\n  File \"/usr/local/lib/python3.7/dist-packages/pyspark/worker.py\", line 447, in read_udfs\n    udfs.append(read_single_udf(pickleSer, infile, eval_type, runner_conf, udf_index=i))\n  File \"/usr/local/lib/python3.7/dist-packages/pyspark/worker.py\", line 254, in read_single_udf\n    f, return_type = read_command(pickleSer, infile)\n  File \"/usr/local/lib/python3.7/dist-packages/pyspark/worker.py\", line 74, in read_command\n    command = serializer._read_with_length(file)\n  File \"/usr/local/lib/python3.7/dist-packages/pyspark/serializers.py\", line 172, in _read_with_length\n    return self.loads(obj)\n  File \"/usr/local/lib/python3.7/dist-packages/pyspark/serializers.py\", line 458, in loads\n    return pickle.loads(obj, encoding=encoding)\nModuleNotFoundError: No module named 'razor.project'\n\n",
          "extra": {},
          "filename": "async_executors.py",
          "full_message": "Traceback (most recent call last):\n\n  File \"/usr/local/lib/python3.7/dist-packages/razor/flow/async_executors.py\", line 276, in run_block\n    self.block.run()\n\n  File \"/home/aios/published-packages/project/blocks/ayan_spark_blocks_clone/blocks.py\", line 686, in run\n    customer_ts.show()\n\n  File \"/usr/local/lib/python3.7/dist-packages/pyspark/sql/dataframe.py\", line 440, in show\n    print(self._jdf.showString(n, 20, vertical))\n\n  File \"/usr/local/lib/python3.7/dist-packages/py4j/java_gateway.py\", line 1305, in __call__\n    answer, self.gateway_client, self.target_id, self.name)\n\n  File \"/usr/local/lib/python3.7/dist-packages/pyspark/sql/utils.py\", line 137, in deco\n    raise_from(converted)\n\n  File \"<string>\", line 3, in raise_from\n\npyspark.sql.utils.PythonException: \n  An exception was thrown from Python worker in the executor. The below is the Python worker stacktrace.\nTraceback (most recent call last):\n  File \"/usr/local/lib/python3.7/dist-packages/pyspark/worker.py\", line 589, in main\n    func, profiler, deserializer, serializer = read_udfs(pickleSer, infile, eval_type)\n  File \"/usr/local/lib/python3.7/dist-packages/pyspark/worker.py\", line 447, in read_udfs\n    udfs.append(read_single_udf(pickleSer, infile, eval_type, runner_conf, udf_index=i))\n  File \"/usr/local/lib/python3.7/dist-packages/pyspark/worker.py\", line 254, in read_single_udf\n    f, return_type = read_command(pickleSer, infile)\n  File \"/usr/local/lib/python3.7/dist-packages/pyspark/worker.py\", line 74, in read_command\n    command = serializer._read_with_length(file)\n  File \"/usr/local/lib/python3.7/dist-packages/pyspark/serializers.py\", line 172, in _read_with_length\n    return self.loads(obj)\n  File \"/usr/local/lib/python3.7/dist-packages/pyspark/serializers.py\", line 458, in loads\n    return pickle.loads(obj, encoding=encoding)\nModuleNotFoundError: No module named 'razor.project'\n\n",
          "funcName": "run_block",
          "levelname": "ERROR",
          "lineno": 278,
          "message": "\n  An exception was thrown from Python worker in the executor. The below is the Python worker stacktrace.\nTraceback (most recent call last):\n  File \"/usr/local/lib/python3.7/dist-packages/pyspark/worker.py\", line 589, in main\n    func, profiler, deserializer, serializer = read_udfs(pickleSer, infile, eval_type)\n  File \"/usr/local/lib/python3.7/dist-packages/pyspark/worker.py\", line 447, in read_udfs\n    udfs.append(read_single_udf(pickleSer, infile, eval_type, runner_conf, udf_index=i))\n  File \"/usr/local/lib/python3.7/dist-packages/pyspark/worker.py\", line 254, in read_single_udf\n    f, return_type = read_command(pickleSer, infile)\n  File \"/usr/local/lib/python3.7/dist-packages/pyspark/worker.py\", line 74, in read_command\n    command = serializer._read_with_length(file)\n  File \"/usr/local/lib/python3.7/dist-packages/pyspark/serializers.py\", line 172, in _read_with_length\n    return self.loads(obj)\n  File \"/usr/local/lib/python3.7/dist-packages/pyspark/serializers.py\", line 458, in loads\n    return pickle.loads(obj, encoding=encoding)\nModuleNotFoundError: No module named 'razor.project'\n",
          "name": "block.stderr:CustMercTS_1",
          "pathname": "/usr/local/lib/python3.7/dist-packages/razor/flow/async_executors.py",
          "process": 13437,
          "processName": "ForkProcess-1:2",
          "thread": 140405547419392,
          "threadName": "ThreadPoolExecutor-0_0"
         },
         {
          "asctime": "2021-03-24 13:37:34,673",
          "created": 1616593054.6735067,
          "extra": {},
          "filename": "async_executors.py",
          "funcName": "main",
          "levelname": "DEBUG",
          "lineno": 144,
          "message": "Block: 'CustMercTS_1': Unhandled Exception: PythonException('\\n  An exception was thrown from Python worker in the executor. The below is the Python worker stacktrace.\\nTraceback (most recent call last):\\n  File \"/usr/local/lib/python3.7/dist-packages/pyspark/worker.py\", line 589, in main\\n    func, profiler, deserializer, serializer = read_udfs(pickleSer, infile, eval_type)\\n  File \"/usr/local/lib/python3.7/dist-packages/pyspark/worker.py\", line 447, in read_udfs\\n    udfs.append(read_single_udf(pickleSer, infile, eval_type, runner_conf, udf_index=i))\\n  File \"/usr/local/lib/python3.7/dist-packages/pyspark/worker.py\", line 254, in read_single_udf\\n    f, return_type = read_command(pickleSer, infile)\\n  File \"/usr/local/lib/python3.7/dist-packages/pyspark/worker.py\", line 74, in read_command\\n    command = serializer._read_with_length(file)\\n  File \"/usr/local/lib/python3.7/dist-packages/pyspark/serializers.py\", line 172, in _read_with_length\\n    return self.loads(obj)\\n  File \"/usr/local/lib/python3.7/dist-packages/pyspark/serializers.py\", line 458, in loads\\n    return pickle.loads(obj, encoding=encoding)\\nModuleNotFoundError: No module named \\'razor.project\\'\\n', 'org.apache.spark.SparkException: Job aborted due to stage failure: Task 0 in stage 9.0 failed 1 times, most recent failure: Lost task 0.0 in stage 9.0 (TID 208, dep-ser-c797e8d5-a3a0-4e0b-8149-68aaa70b7e55-ide-6748777dfzxh2l, executor driver): org.apache.spark.api.python.PythonException: Traceback (most recent call last):\\n  File \"/usr/local/lib/python3.7/dist-packages/pyspark/worker.py\", line 589, in main\\n    func, profiler, deserializer, serializer = read_udfs(pickleSer, infile, eval_type)\\n  File \"/usr/local/lib/python3.7/dist-packages/pyspark/worker.py\", line 447, in read_udfs\\n    udfs.append(read_single_udf(pickleSer, infile, eval_type, runner_conf, udf_index=i))\\n  File \"/usr/local/lib/python3.7/dist-packages/pyspark/worker.py\", line 254, in read_single_udf\\n    f, return_type = read_command(pickleSer, infile)\\n  File \"/usr/local/lib/python3.7/dist-packages/pyspark/worker.py\", line 74, in read_command\\n    command = serializer._read_with_length(file)\\n  File \"/usr/local/lib/python3.7/dist-packages/pyspark/serializers.py\", line 172, in _read_with_length\\n    return self.loads(obj)\\n  File \"/usr/local/lib/python3.7/dist-packages/pyspark/serializers.py\", line 458, in loads\\n    return pickle.loads(obj, encoding=encoding)\\nModuleNotFoundError: No module named \\'razor.project\\'\\n\\n\\tat org.apache.spark.api.python.BasePythonRunner$ReaderIterator.handlePythonException(PythonRunner.scala:503)\\n\\tat org.apache.spark.sql.execution.python.PythonUDFRunner$$anon$2.read(PythonUDFRunner.scala:81)\\n\\tat org.apache.spark.sql.execution.python.PythonUDFRunner$$anon$2.read(PythonUDFRunner.scala:64)\\n\\tat org.apache.spark.api.python.BasePythonRunner$ReaderIterator.hasNext(PythonRunner.scala:456)\\n\\tat org.apache.spark.InterruptibleIterator.hasNext(InterruptibleIterator.scala:37)\\n\\tat scala.collection.Iterator$$anon$11.hasNext(Iterator.scala:489)\\n\\tat scala.collection.Iterator$$anon$10.hasNext(Iterator.scala:458)\\n\\tat scala.collection.Iterator$$anon$10.hasNext(Iterator.scala:458)\\n\\tat org.apache.spark.sql.catalyst.expressions.GeneratedClass$GeneratedIteratorForCodegenStage5.processNext(Unknown Source)\\n\\tat org.apache.spark.sql.execution.BufferedRowIterator.hasNext(BufferedRowIterator.java:43)\\n\\tat org.apache.spark.sql.execution.WholeStageCodegenExec$$anon$1.hasNext(WholeStageCodegenExec.scala:729)\\n\\tat scala.collection.Iterator$$anon$10.hasNext(Iterator.scala:458)\\n\\tat scala.collection.Iterator$$anon$10.hasNext(Iterator.scala:458)\\n\\tat scala.collection.Iterator$$anon$10.hasNext(Iterator.scala:458)\\n\\tat scala.collection.Iterator$GroupedIterator.fill(Iterator.scala:1209)\\n\\tat scala.collection.Iterator$GroupedIterator.hasNext(Iterator.scala:1215)\\n\\tat scala.collection.Iterator$$anon$10.hasNext(Iterator.scala:458)\\n\\tat scala.collection.Iterator.foreach(Iterator.scala:941)\\n\\tat scala.collection.Iterator.foreach$(Iterator.scala:941)\\n\\tat scala.collection.AbstractIterator.foreach(Iterator.scala:1429)\\n\\tat org.apache.spark.api.python.PythonRDD$.writeIteratorToStream(PythonRDD.scala:295)\\n\\tat org.apache.spark.sql.execution.python.PythonUDFRunner$$anon$1.writeIteratorToStream(PythonUDFRunner.scala:50)\\n\\tat org.apache.spark.api.python.BasePythonRunner$WriterThread.$anonfun$run$1(PythonRunner.scala:383)\\n\\tat org.apache.spark.util.Utils$.logUncaughtExceptions(Utils.scala:1932)\\n\\tat org.apache.spark.api.python.BasePythonRunner$WriterThread.run(PythonRunner.scala:218)\\n\\nDriver stacktrace:\\n\\tat org.apache.spark.scheduler.DAGScheduler.failJobAndIndependentStages(DAGScheduler.scala:2023)\\n\\tat org.apache.spark.scheduler.DAGScheduler.$anonfun$abortStage$2(DAGScheduler.scala:1972)\\n\\tat org.apache.spark.scheduler.DAGScheduler.$anonfun$abortStage$2$adapted(DAGScheduler.scala:1971)\\n\\tat scala.collection.mutable.ResizableArray.foreach(ResizableArray.scala:62)\\n\\tat scala.collection.mutable.ResizableArray.foreach$(ResizableArray.scala:55)\\n\\tat scala.collection.mutable.ArrayBuffer.foreach(ArrayBuffer.scala:49)\\n\\tat org.apache.spark.scheduler.DAGScheduler.abortStage(DAGScheduler.scala:1971)\\n\\tat org.apache.spark.scheduler.DAGScheduler.$anonfun$handleTaskSetFailed$1(DAGScheduler.scala:950)\\n\\tat org.apache.spark.scheduler.DAGScheduler.$anonfun$handleTaskSetFailed$1$adapted(DAGScheduler.scala:950)\\n\\tat scala.Option.foreach(Option.scala:407)\\n\\tat org.apache.spark.scheduler.DAGScheduler.handleTaskSetFailed(DAGScheduler.scala:950)\\n\\tat org.apache.spark.scheduler.DAGSchedulerEventProcessLoop.doOnReceive(DAGScheduler.scala:2203)\\n\\tat org.apache.spark.scheduler.DAGSchedulerEventProcessLoop.onReceive(DAGScheduler.scala:2152)\\n\\tat org.apache.spark.scheduler.DAGSchedulerEventProcessLoop.onReceive(DAGScheduler.scala:2141)\\n\\tat org.apache.spark.util.EventLoop$$anon$1.run(EventLoop.scala:49)\\n\\tat org.apache.spark.scheduler.DAGScheduler.runJob(DAGScheduler.scala:752)\\n\\tat org.apache.spark.SparkContext.runJob(SparkContext.scala:2093)\\n\\tat org.apache.spark.SparkContext.runJob(SparkContext.scala:2114)\\n\\tat org.apache.spark.SparkContext.runJob(SparkContext.scala:2133)\\n\\tat org.apache.spark.sql.execution.SparkPlan.executeTake(SparkPlan.scala:467)\\n\\tat org.apache.spark.sql.execution.SparkPlan.executeTake(SparkPlan.scala:420)\\n\\tat org.apache.spark.sql.execution.CollectLimitExec.executeCollect(limit.scala:47)\\n\\tat org.apache.spark.sql.Dataset.collectFromPlan(Dataset.scala:3625)\\n\\tat org.apache.spark.sql.Dataset.$anonfun$head$1(Dataset.scala:2695)\\n\\tat org.apache.spark.sql.Dataset.$anonfun$withAction$1(Dataset.scala:3616)\\n\\tat org.apache.spark.sql.execution.SQLExecution$.$anonfun$withNewExecutionId$5(SQLExecution.scala:100)\\n\\tat org.apache.spark.sql.execution.SQLExecution$.withSQLConfPropagated(SQLExecution.scala:160)\\n\\tat org.apache.spark.sql.execution.SQLExecution$.$anonfun$withNewExecutionId$1(SQLExecution.scala:87)\\n\\tat org.apache.spark.sql.SparkSession.withActive(SparkSession.scala:763)\\n\\tat org.apache.spark.sql.execution.SQLExecution$.withNewExecutionId(SQLExecution.scala:64)\\n\\tat org.apache.spark.sql.Dataset.withAction(Dataset.scala:3614)\\n\\tat org.apache.spark.sql.Dataset.head(Dataset.scala:2695)\\n\\tat org.apache.spark.sql.Dataset.take(Dataset.scala:2902)\\n\\tat org.apache.spark.sql.Dataset.getRows(Dataset.scala:300)\\n\\tat org.apache.spark.sql.Dataset.showString(Dataset.scala:337)\\n\\tat sun.reflect.NativeMethodAccessorImpl.invoke0(Native Method)\\n\\tat sun.reflect.NativeMethodAccessorImpl.invoke(NativeMethodAccessorImpl.java:62)\\n\\tat sun.reflect.DelegatingMethodAccessorImpl.invoke(DelegatingMethodAccessorImpl.java:43)\\n\\tat java.lang.reflect.Method.invoke(Method.java:498)\\n\\tat py4j.reflection.MethodInvoker.invoke(MethodInvoker.java:244)\\n\\tat py4j.reflection.ReflectionEngine.invoke(ReflectionEngine.java:357)\\n\\tat py4j.Gateway.invoke(Gateway.java:282)\\n\\tat py4j.commands.AbstractCommand.invokeMethod(AbstractCommand.java:132)\\n\\tat py4j.commands.CallCommand.execute(CallCommand.java:79)\\n\\tat py4j.GatewayConnection.run(GatewayConnection.java:238)\\n\\tat java.lang.Thread.run(Thread.java:748)\\nCaused by: org.apache.spark.api.python.PythonException: Traceback (most recent call last):\\n  File \"/usr/local/lib/python3.7/dist-packages/pyspark/worker.py\", line 589, in main\\n    func, profiler, deserializer, serializer = read_udfs(pickleSer, infile, eval_type)\\n  File \"/usr/local/lib/python3.7/dist-packages/pyspark/worker.py\", line 447, in read_udfs\\n    udfs.append(read_single_udf(pickleSer, infile, eval_type, runner_conf, udf_index=i))\\n  File \"/usr/local/lib/python3.7/dist-packages/pyspark/worker.py\", line 254, in read_single_udf\\n    f, return_type = read_command(pickleSer, infile)\\n  File \"/usr/local/lib/python3.7/dist-packages/pyspark/worker.py\", line 74, in read_command\\n    command = serializer._read_with_length(file)\\n  File \"/usr/local/lib/python3.7/dist-packages/pyspark/serializers.py\", line 172, in _read_with_length\\n    return self.loads(obj)\\n  File \"/usr/local/lib/python3.7/dist-packages/pyspark/serializers.py\", line 458, in loads\\n    return pickle.loads(obj, encoding=encoding)\\nModuleNotFoundError: No module named \\'razor.project\\'\\n\\n\\tat org.apache.spark.api.python.BasePythonRunner$ReaderIterator.handlePythonException(PythonRunner.scala:503)\\n\\tat org.apache.spark.sql.execution.python.PythonUDFRunner$$anon$2.read(PythonUDFRunner.scala:81)\\n\\tat org.apache.spark.sql.execution.python.PythonUDFRunner$$anon$2.read(PythonUDFRunner.scala:64)\\n\\tat org.apache.spark.api.python.BasePythonRunner$ReaderIterator.hasNext(PythonRunner.scala:456)\\n\\tat org.apache.spark.InterruptibleIterator.hasNext(InterruptibleIterator.scala:37)\\n\\tat scala.collection.Iterator$$anon$11.hasNext(Iterator.scala:489)\\n\\tat scala.collection.Iterator$$anon$10.hasNext(Iterator.scala:458)\\n\\tat scala.collection.Iterator$$anon$10.hasNext(Iterator.scala:458)\\n\\tat org.apache.spark.sql.catalyst.expressions.GeneratedClass$GeneratedIteratorForCodegenStage5.processNext(Unknown Source)\\n\\tat org.apache.spark.sql.execution.BufferedRowIterator.hasNext(BufferedRowIterator.java:43)\\n\\tat org.apache.spark.sql.execution.WholeStageCodegenExec$$anon$1.hasNext(WholeStageCodegenExec.scala:729)\\n\\tat scala.collection.Iterator$$anon$10.hasNext(Iterator.scala:458)\\n\\tat scala.collection.Iterator$$anon$10.hasNext(Iterator.scala:458)\\n\\tat scala.collection.Iterator$$anon$10.hasNext(Iterator.scala:458)\\n\\tat scala.collection.Iterator$GroupedIterator.fill(Iterator.scala:1209)\\n\\tat scala.collection.Iterator$GroupedIterator.hasNext(Iterator.scala:1215)\\n\\tat scala.collection.Iterator$$anon$10.hasNext(Iterator.scala:458)\\n\\tat scala.collection.Iterator.foreach(Iterator.scala:941)\\n\\tat scala.collection.Iterator.foreach$(Iterator.scala:941)\\n\\tat scala.collection.AbstractIterator.foreach(Iterator.scala:1429)\\n\\tat org.apache.spark.api.python.PythonRDD$.writeIteratorToStream(PythonRDD.scala:295)\\n\\tat org.apache.spark.sql.execution.python.PythonUDFRunner$$anon$1.writeIteratorToStream(PythonUDFRunner.scala:50)\\n\\tat org.apache.spark.api.python.BasePythonRunner$WriterThread.$anonfun$run$1(PythonRunner.scala:383)\\n\\tat org.apache.spark.util.Utils$.logUncaughtExceptions(Utils.scala:1932)\\n\\tat org.apache.spark.api.python.BasePythonRunner$WriterThread.run(PythonRunner.scala:218)\\n'). All outputs from this block will be terminated. This may cause successor blocks to fail and pipeline to terminate incorrectly.",
          "name": "engine.logs:CustMercTS_1",
          "pathname": "/usr/local/lib/python3.7/dist-packages/razor/flow/async_executors.py",
          "process": 13437,
          "processName": "ForkProcess-1:2",
          "thread": 140405612234560,
          "threadName": "MainThread"
         },
         {
          "asctime": "2021-03-24 13:37:34,673",
          "created": 1616593054.6736279,
          "extra": {},
          "filename": "async_executors.py",
          "funcName": "main",
          "levelname": "DEBUG",
          "lineno": 147,
          "message": "CustMercTS_1: block thread completed",
          "name": "engine.logs:CustMercTS_1",
          "pathname": "/usr/local/lib/python3.7/dist-packages/razor/flow/async_executors.py",
          "process": 13437,
          "processName": "ForkProcess-1:2",
          "thread": 140405612234560,
          "threadName": "MainThread"
         },
         {
          "asctime": "2021-03-24 13:37:34,673",
          "created": 1616593054.6737065,
          "extra": {},
          "filename": "async_executors.py",
          "funcName": "main",
          "levelname": "DEBUG",
          "lineno": 149,
          "message": "CustMercTS_1: block execution complete",
          "name": "engine.logs:CustMercTS_1",
          "pathname": "/usr/local/lib/python3.7/dist-packages/razor/flow/async_executors.py",
          "process": 13437,
          "processName": "ForkProcess-1:2",
          "thread": 140405612234560,
          "threadName": "MainThread"
         }
        ],
        "meta": {
         "block_status": {
          "CustMercTS_1": "ERROR",
          "NonSparkPath_1": "SUCCESS",
          "ReadCsvProjectSpace_1": "SUCCESS"
         },
         "blocks": [
          {
           "class_name": "NonSparkPath",
           "fullname": "razor.project.blocks.ayan_spark_blocks_clone.NonSparkPath",
           "id": "616382aa-e019-4746-93c0-d1eda74afd76",
           "inputs": [
            {
             "dataType": "string",
             "default": "",
             "flow": "atomic",
             "help": null,
             "isdict": false,
             "islist": false,
             "label": "ip_path",
             "meta": {},
             "name": "ip_path",
             "series": false,
             "type": "str",
             "type_check": true
            }
           ],
           "outputs": [
            {
             "flow": "atomic",
             "help": null,
             "label": "op_path",
             "meta": {},
             "name": "op_path",
             "series": false,
             "type": "str",
             "type_check": true
            }
           ],
           "overwritten": false,
           "published": true,
           "var_names": [
            "NonSparkPath"
           ]
          },
          {
           "class_name": "CustMercTS",
           "fullname": "razor.project.blocks.ayan_spark_blocks_clone.CustMercTS",
           "id": "dfc383fa-27d1-4265-96be-a05b9a88eeee",
           "inputs": [
            {
             "dataType": null,
             "default": null,
             "flow": "atomic",
             "help": null,
             "isdict": false,
             "islist": false,
             "label": "ip_data",
             "meta": {},
             "name": "ip_data",
             "series": false,
             "type": "DataFrame",
             "type_check": true
            },
            {
             "dataType": "dict",
             "default": {},
             "flow": "atomic",
             "help": null,
             "isdict": false,
             "islist": false,
             "label": "config",
             "meta": {},
             "name": "config",
             "series": false,
             "type": "dict",
             "type_check": true
            },
            {
             "dataType": "string",
             "default": "",
             "flow": "atomic",
             "help": null,
             "isdict": false,
             "islist": false,
             "label": "source",
             "meta": {},
             "name": "source",
             "series": false,
             "type": "str",
             "type_check": true
            }
           ],
           "outputs": [
            {
             "flow": "atomic",
             "help": null,
             "label": "customer_ts",
             "meta": {},
             "name": "customer_ts",
             "series": false,
             "type": "DataFrame",
             "type_check": true
            },
            {
             "flow": "atomic",
             "help": null,
             "label": "merchant_ts",
             "meta": {},
             "name": "merchant_ts",
             "series": false,
             "type": "DataFrame",
             "type_check": true
            }
           ],
           "overwritten": false,
           "published": true,
           "var_names": [
            "CustMercTS"
           ]
          },
          {
           "class_name": "ReadCsvProjectSpace",
           "fullname": "razor.project.blocks.ayan_spark_blocks_clone.ReadCsvProjectSpace",
           "id": "aeb26be7-f485-4dfd-a581-b750d6607846",
           "inputs": [
            {
             "dataType": "string",
             "default": "",
             "flow": "atomic",
             "help": null,
             "isdict": false,
             "islist": false,
             "label": "filename",
             "meta": {},
             "name": "filename",
             "series": false,
             "type": "str",
             "type_check": true
            },
            {
             "dataType": "dict",
             "default": {},
             "flow": "atomic",
             "help": null,
             "isdict": false,
             "islist": false,
             "label": "config",
             "meta": {},
             "name": "config",
             "series": false,
             "type": "dict",
             "type_check": true
            },
            {
             "dataType": "string",
             "default": "",
             "flow": "atomic",
             "help": null,
             "isdict": false,
             "islist": false,
             "label": "source",
             "meta": {},
             "name": "source",
             "series": false,
             "type": "str",
             "type_check": true
            }
           ],
           "outputs": [
            {
             "flow": "atomic",
             "help": null,
             "label": "data",
             "meta": {},
             "name": "data",
             "series": false,
             "type": "DataFrame",
             "type_check": true
            }
           ],
           "overwritten": false,
           "published": true,
           "var_names": [
            "ReadCsvProjectSpace"
           ]
          }
         ],
         "connections": [
          {
           "id": "efc828a7-114e-42e7-8dc8-a7614c0810e8",
           "source": {
            "adapter": false,
            "instance_id": "3c06da21-3123-4547-b972-135742a97c1b",
            "name": "data"
           },
           "target": {
            "adapter": false,
            "instance_id": "9acce9a6-0c0e-4d41-9e08-1db790e0e43d",
            "name": "ip_data"
           }
          },
          {
           "id": "18089195-3e90-4a16-811b-ab1162d7d68e",
           "source": {
            "adapter": false,
            "instance_id": "fcb0df11-d1cf-41ee-bd4b-b4dd65a3521b",
            "name": "op_path"
           },
           "target": {
            "adapter": false,
            "instance_id": "3c06da21-3123-4547-b972-135742a97c1b",
            "name": "filename"
           }
          }
         ],
         "end": 1616593054.6890485,
         "id": "b6d6528b-ad7c-481a-846d-39b677adc878",
         "instances": [
          {
           "block_class": "dfc383fa-27d1-4265-96be-a05b9a88eeee",
           "id": "9acce9a6-0c0e-4d41-9e08-1db790e0e43d",
           "name": "CustMercTS_1",
           "var_names": [
            "cm_ts"
           ]
          },
          {
           "block_class": "aeb26be7-f485-4dfd-a581-b750d6607846",
           "id": "3c06da21-3123-4547-b972-135742a97c1b",
           "name": "ReadCsvProjectSpace_1",
           "var_names": [
            "rcp"
           ]
          },
          {
           "block_class": "616382aa-e019-4746-93c0-d1eda74afd76",
           "id": "fcb0df11-d1cf-41ee-bd4b-b4dd65a3521b",
           "name": "NonSparkPath_1",
           "var_names": [
            "nsp"
           ]
          }
         ],
         "log_level": 20,
         "name": "temp",
         "start": 1616593031.736199,
         "status": "ERROR",
         "system_logs": false,
         "var_names": []
        },
        "metrics": {},
        "runtime": {
         "CustMercTS_1": {
          "end": 1616593054.6871064,
          "load": 1616593032.0215304,
          "start": 1616593032.0301561
         },
         "NonSparkPath_1": {
          "end": 1616593032.0841749,
          "load": 1616593031.7379098,
          "start": 1616593031.7442944
         },
         "ReadCsvProjectSpace_1": {
          "end": 1616593043.1679423,
          "load": 1616593032.0215304,
          "start": 1616593032.0301561
         }
        }
       },
       "store_in_notebook": true
      }
     },
     "output_type": "display_data"
    },
    {
     "name": "stderr",
     "output_type": "stream",
     "text": [
      "ERROR:razor.flow.async_pipeline:Block: 'CustMercTS_1': Unhandled Exception: PythonException('\\n  An exception was thrown from Python worker in the executor. The below is the Python worker stacktrace.\\nTraceback (most recent call last):\\n  File \"/usr/local/lib/python3.7/dist-packages/pyspark/worker.py\", line 589, in main\\n    func, profiler, deserializer, serializer = read_udfs(pickleSer, infile, eval_type)\\n  File \"/usr/local/lib/python3.7/dist-packages/pyspark/worker.py\", line 447, in read_udfs\\n    udfs.append(read_single_udf(pickleSer, infile, eval_type, runner_conf, udf_index=i))\\n  File \"/usr/local/lib/python3.7/dist-packages/pyspark/worker.py\", line 254, in read_single_udf\\n    f, return_type = read_command(pickleSer, infile)\\n  File \"/usr/local/lib/python3.7/dist-packages/pyspark/worker.py\", line 74, in read_command\\n    command = serializer._read_with_length(file)\\n  File \"/usr/local/lib/python3.7/dist-packages/pyspark/serializers.py\", line 172, in _read_with_length\\n    return self.loads(obj)\\n  File \"/usr/local/lib/python3.7/dist-packages/pyspark/serializers.py\", line 458, in loads\\n    return pickle.loads(obj, encoding=encoding)\\nModuleNotFoundError: No module named \\'razor.project\\'\\n', 'org.apache.spark.SparkException: Job aborted due to stage failure: Task 0 in stage 9.0 failed 1 times, most recent failure: Lost task 0.0 in stage 9.0 (TID 208, dep-ser-c797e8d5-a3a0-4e0b-8149-68aaa70b7e55-ide-6748777dfzxh2l, executor driver): org.apache.spark.api.python.PythonException: Traceback (most recent call last):\\n  File \"/usr/local/lib/python3.7/dist-packages/pyspark/worker.py\", line 589, in main\\n    func, profiler, deserializer, serializer = read_udfs(pickleSer, infile, eval_type)\\n  File \"/usr/local/lib/python3.7/dist-packages/pyspark/worker.py\", line 447, in read_udfs\\n    udfs.append(read_single_udf(pickleSer, infile, eval_type, runner_conf, udf_index=i))\\n  File \"/usr/local/lib/python3.7/dist-packages/pyspark/worker.py\", line 254, in read_single_udf\\n    f, return_type = read_command(pickleSer, infile)\\n  File \"/usr/local/lib/python3.7/dist-packages/pyspark/worker.py\", line 74, in read_command\\n    command = serializer._read_with_length(file)\\n  File \"/usr/local/lib/python3.7/dist-packages/pyspark/serializers.py\", line 172, in _read_with_length\\n    return self.loads(obj)\\n  File \"/usr/local/lib/python3.7/dist-packages/pyspark/serializers.py\", line 458, in loads\\n    return pickle.loads(obj, encoding=encoding)\\nModuleNotFoundError: No module named \\'razor.project\\'\\n\\n\\tat org.apache.spark.api.python.BasePythonRunner$ReaderIterator.handlePythonException(PythonRunner.scala:503)\\n\\tat org.apache.spark.sql.execution.python.PythonUDFRunner$$anon$2.read(PythonUDFRunner.scala:81)\\n\\tat org.apache.spark.sql.execution.python.PythonUDFRunner$$anon$2.read(PythonUDFRunner.scala:64)\\n\\tat org.apache.spark.api.python.BasePythonRunner$ReaderIterator.hasNext(PythonRunner.scala:456)\\n\\tat org.apache.spark.InterruptibleIterator.hasNext(InterruptibleIterator.scala:37)\\n\\tat scala.collection.Iterator$$anon$11.hasNext(Iterator.scala:489)\\n\\tat scala.collection.Iterator$$anon$10.hasNext(Iterator.scala:458)\\n\\tat scala.collection.Iterator$$anon$10.hasNext(Iterator.scala:458)\\n\\tat org.apache.spark.sql.catalyst.expressions.GeneratedClass$GeneratedIteratorForCodegenStage5.processNext(Unknown Source)\\n\\tat org.apache.spark.sql.execution.BufferedRowIterator.hasNext(BufferedRowIterator.java:43)\\n\\tat org.apache.spark.sql.execution.WholeStageCodegenExec$$anon$1.hasNext(WholeStageCodegenExec.scala:729)\\n\\tat scala.collection.Iterator$$anon$10.hasNext(Iterator.scala:458)\\n\\tat scala.collection.Iterator$$anon$10.hasNext(Iterator.scala:458)\\n\\tat scala.collection.Iterator$$anon$10.hasNext(Iterator.scala:458)\\n\\tat scala.collection.Iterator$GroupedIterator.fill(Iterator.scala:1209)\\n\\tat scala.collection.Iterator$GroupedIterator.hasNext(Iterator.scala:1215)\\n\\tat scala.collection.Iterator$$anon$10.hasNext(Iterator.scala:458)\\n\\tat scala.collection.Iterator.foreach(Iterator.scala:941)\\n\\tat scala.collection.Iterator.foreach$(Iterator.scala:941)\\n\\tat scala.collection.AbstractIterator.foreach(Iterator.scala:1429)\\n\\tat org.apache.spark.api.python.PythonRDD$.writeIteratorToStream(PythonRDD.scala:295)\\n\\tat org.apache.spark.sql.execution.python.PythonUDFRunner$$anon$1.writeIteratorToStream(PythonUDFRunner.scala:50)\\n\\tat org.apache.spark.api.python.BasePythonRunner$WriterThread.$anonfun$run$1(PythonRunner.scala:383)\\n\\tat org.apache.spark.util.Utils$.logUncaughtExceptions(Utils.scala:1932)\\n\\tat org.apache.spark.api.python.BasePythonRunner$WriterThread.run(PythonRunner.scala:218)\\n\\nDriver stacktrace:\\n\\tat org.apache.spark.scheduler.DAGScheduler.failJobAndIndependentStages(DAGScheduler.scala:2023)\\n\\tat org.apache.spark.scheduler.DAGScheduler.$anonfun$abortStage$2(DAGScheduler.scala:1972)\\n\\tat org.apache.spark.scheduler.DAGScheduler.$anonfun$abortStage$2$adapted(DAGScheduler.scala:1971)\\n\\tat scala.collection.mutable.ResizableArray.foreach(ResizableArray.scala:62)\\n\\tat scala.collection.mutable.ResizableArray.foreach$(ResizableArray.scala:55)\\n\\tat scala.collection.mutable.ArrayBuffer.foreach(ArrayBuffer.scala:49)\\n\\tat org.apache.spark.scheduler.DAGScheduler.abortStage(DAGScheduler.scala:1971)\\n\\tat org.apache.spark.scheduler.DAGScheduler.$anonfun$handleTaskSetFailed$1(DAGScheduler.scala:950)\\n\\tat org.apache.spark.scheduler.DAGScheduler.$anonfun$handleTaskSetFailed$1$adapted(DAGScheduler.scala:950)\\n\\tat scala.Option.foreach(Option.scala:407)\\n\\tat org.apache.spark.scheduler.DAGScheduler.handleTaskSetFailed(DAGScheduler.scala:950)\\n\\tat org.apache.spark.scheduler.DAGSchedulerEventProcessLoop.doOnReceive(DAGScheduler.scala:2203)\\n\\tat org.apache.spark.scheduler.DAGSchedulerEventProcessLoop.onReceive(DAGScheduler.scala:2152)\\n\\tat org.apache.spark.scheduler.DAGSchedulerEventProcessLoop.onReceive(DAGScheduler.scala:2141)\\n\\tat org.apache.spark.util.EventLoop$$anon$1.run(EventLoop.scala:49)\\n\\tat org.apache.spark.scheduler.DAGScheduler.runJob(DAGScheduler.scala:752)\\n\\tat org.apache.spark.SparkContext.runJob(SparkContext.scala:2093)\\n\\tat org.apache.spark.SparkContext.runJob(SparkContext.scala:2114)\\n\\tat org.apache.spark.SparkContext.runJob(SparkContext.scala:2133)\\n\\tat org.apache.spark.sql.execution.SparkPlan.executeTake(SparkPlan.scala:467)\\n\\tat org.apache.spark.sql.execution.SparkPlan.executeTake(SparkPlan.scala:420)\\n\\tat org.apache.spark.sql.execution.CollectLimitExec.executeCollect(limit.scala:47)\\n\\tat org.apache.spark.sql.Dataset.collectFromPlan(Dataset.scala:3625)\\n\\tat org.apache.spark.sql.Dataset.$anonfun$head$1(Dataset.scala:2695)\\n\\tat org.apache.spark.sql.Dataset.$anonfun$withAction$1(Dataset.scala:3616)\\n\\tat org.apache.spark.sql.execution.SQLExecution$.$anonfun$withNewExecutionId$5(SQLExecution.scala:100)\\n\\tat org.apache.spark.sql.execution.SQLExecution$.withSQLConfPropagated(SQLExecution.scala:160)\\n\\tat org.apache.spark.sql.execution.SQLExecution$.$anonfun$withNewExecutionId$1(SQLExecution.scala:87)\\n\\tat org.apache.spark.sql.SparkSession.withActive(SparkSession.scala:763)\\n\\tat org.apache.spark.sql.execution.SQLExecution$.withNewExecutionId(SQLExecution.scala:64)\\n\\tat org.apache.spark.sql.Dataset.withAction(Dataset.scala:3614)\\n\\tat org.apache.spark.sql.Dataset.head(Dataset.scala:2695)\\n\\tat org.apache.spark.sql.Dataset.take(Dataset.scala:2902)\\n\\tat org.apache.spark.sql.Dataset.getRows(Dataset.scala:300)\\n\\tat org.apache.spark.sql.Dataset.showString(Dataset.scala:337)\\n\\tat sun.reflect.NativeMethodAccessorImpl.invoke0(Native Method)\\n\\tat sun.reflect.NativeMethodAccessorImpl.invoke(NativeMethodAccessorImpl.java:62)\\n\\tat sun.reflect.DelegatingMethodAccessorImpl.invoke(DelegatingMethodAccessorImpl.java:43)\\n\\tat java.lang.reflect.Method.invoke(Method.java:498)\\n\\tat py4j.reflection.MethodInvoker.invoke(MethodInvoker.java:244)\\n\\tat py4j.reflection.ReflectionEngine.invoke(ReflectionEngine.java:357)\\n\\tat py4j.Gateway.invoke(Gateway.java:282)\\n\\tat py4j.commands.AbstractCommand.invokeMethod(AbstractCommand.java:132)\\n\\tat py4j.commands.CallCommand.execute(CallCommand.java:79)\\n\\tat py4j.GatewayConnection.run(GatewayConnection.java:238)\\n\\tat java.lang.Thread.run(Thread.java:748)\\nCaused by: org.apache.spark.api.python.PythonException: Traceback (most recent call last):\\n  File \"/usr/local/lib/python3.7/dist-packages/pyspark/worker.py\", line 589, in main\\n    func, profiler, deserializer, serializer = read_udfs(pickleSer, infile, eval_type)\\n  File \"/usr/local/lib/python3.7/dist-packages/pyspark/worker.py\", line 447, in read_udfs\\n    udfs.append(read_single_udf(pickleSer, infile, eval_type, runner_conf, udf_index=i))\\n  File \"/usr/local/lib/python3.7/dist-packages/pyspark/worker.py\", line 254, in read_single_udf\\n    f, return_type = read_command(pickleSer, infile)\\n  File \"/usr/local/lib/python3.7/dist-packages/pyspark/worker.py\", line 74, in read_command\\n    command = serializer._read_with_length(file)\\n  File \"/usr/local/lib/python3.7/dist-packages/pyspark/serializers.py\", line 172, in _read_with_length\\n    return self.loads(obj)\\n  File \"/usr/local/lib/python3.7/dist-packages/pyspark/serializers.py\", line 458, in loads\\n    return pickle.loads(obj, encoding=encoding)\\nModuleNotFoundError: No module named \\'razor.project\\'\\n\\n\\tat org.apache.spark.api.python.BasePythonRunner$ReaderIterator.handlePythonException(PythonRunner.scala:503)\\n\\tat org.apache.spark.sql.execution.python.PythonUDFRunner$$anon$2.read(PythonUDFRunner.scala:81)\\n\\tat org.apache.spark.sql.execution.python.PythonUDFRunner$$anon$2.read(PythonUDFRunner.scala:64)\\n\\tat org.apache.spark.api.python.BasePythonRunner$ReaderIterator.hasNext(PythonRunner.scala:456)\\n\\tat org.apache.spark.InterruptibleIterator.hasNext(InterruptibleIterator.scala:37)\\n\\tat scala.collection.Iterator$$anon$11.hasNext(Iterator.scala:489)\\n\\tat scala.collection.Iterator$$anon$10.hasNext(Iterator.scala:458)\\n\\tat scala.collection.Iterator$$anon$10.hasNext(Iterator.scala:458)\\n\\tat org.apache.spark.sql.catalyst.expressions.GeneratedClass$GeneratedIteratorForCodegenStage5.processNext(Unknown Source)\\n\\tat org.apache.spark.sql.execution.BufferedRowIterator.hasNext(BufferedRowIterator.java:43)\\n\\tat org.apache.spark.sql.execution.WholeStageCodegenExec$$anon$1.hasNext(WholeStageCodegenExec.scala:729)\\n\\tat scala.collection.Iterator$$anon$10.hasNext(Iterator.scala:458)\\n\\tat scala.collection.Iterator$$anon$10.hasNext(Iterator.scala:458)\\n\\tat scala.collection.Iterator$$anon$10.hasNext(Iterator.scala:458)\\n\\tat scala.collection.Iterator$GroupedIterator.fill(Iterator.scala:1209)\\n\\tat scala.collection.Iterator$GroupedIterator.hasNext(Iterator.scala:1215)\\n\\tat scala.collection.Iterator$$anon$10.hasNext(Iterator.scala:458)\\n\\tat scala.collection.Iterator.foreach(Iterator.scala:941)\\n\\tat scala.collection.Iterator.foreach$(Iterator.scala:941)\\n\\tat scala.collection.AbstractIterator.foreach(Iterator.scala:1429)\\n\\tat org.apache.spark.api.python.PythonRDD$.writeIteratorToStream(PythonRDD.scala:295)\\n\\tat org.apache.spark.sql.execution.python.PythonUDFRunner$$anon$1.writeIteratorToStream(PythonUDFRunner.scala:50)\\n\\tat org.apache.spark.api.python.BasePythonRunner$WriterThread.$anonfun$run$1(PythonRunner.scala:383)\\n\\tat org.apache.spark.util.Utils$.logUncaughtExceptions(Utils.scala:1932)\\n\\tat org.apache.spark.api.python.BasePythonRunner$WriterThread.run(PythonRunner.scala:218)\\n'). All outputs from this block will be terminated. This may cause successor blocks to fail and pipeline to terminate incorrectly.\n",
      "Block: 'CustMercTS_1' terminated on interruption \n",
      "\n",
      "Pipeline: 'temp' terminated on interruption\n"
     ]
    },
    {
     "ename": "AttributeError",
     "evalue": "'NoneType' object has no attribute 'org'",
     "output_type": "error",
     "traceback": [
      "\u001b[0;31m---------------------------------------------------------------------------\u001b[0m",
      "\u001b[0;31mPythonException\u001b[0m                           Traceback (most recent call last)",
      "    \u001b[0;31m[... skipping hidden 1 frame]\u001b[0m\n",
      "\u001b[0;32m<ipython-input-18-ffaaf91f11f9>\u001b[0m in \u001b[0;36m<module>\u001b[0;34m\u001b[0m\n\u001b[0;32m----> 1\u001b[0;31m \u001b[0mpipe\u001b[0m\u001b[0;34m.\u001b[0m\u001b[0mexecute\u001b[0m\u001b[0;34m(\u001b[0m\u001b[0;34m)\u001b[0m\u001b[0;34m\u001b[0m\u001b[0;34m\u001b[0m\u001b[0m\n\u001b[0m",
      "\u001b[0;32m/usr/local/lib/python3.7/dist-packages/razor/flow/async_pipeline.py\u001b[0m in \u001b[0;36mexecute\u001b[0;34m(self, log_path, log_level, io_host, io_port, inputs, engine_config)\u001b[0m\n\u001b[1;32m    323\u001b[0m                 \u001b[0;32mfinally\u001b[0m\u001b[0;34m:\u001b[0m\u001b[0;34m\u001b[0m\u001b[0;34m\u001b[0m\u001b[0m\n\u001b[0;32m--> 324\u001b[0;31m                     \u001b[0msix\u001b[0m\u001b[0;34m.\u001b[0m\u001b[0mreraise\u001b[0m\u001b[0;34m(\u001b[0m\u001b[0mexc_class\u001b[0m\u001b[0;34m,\u001b[0m \u001b[0mexc\u001b[0m\u001b[0;34m,\u001b[0m \u001b[0mtb\u001b[0m\u001b[0;34m)\u001b[0m  \u001b[0;31m# todo: clear local stack frames from tb\u001b[0m\u001b[0;34m\u001b[0m\u001b[0;34m\u001b[0m\u001b[0m\n\u001b[0m\u001b[1;32m    325\u001b[0m             \u001b[0;32melse\u001b[0m\u001b[0;34m:\u001b[0m\u001b[0;34m\u001b[0m\u001b[0;34m\u001b[0m\u001b[0m\n",
      "\u001b[0;32m/usr/local/lib/python3.7/dist-packages/six.py\u001b[0m in \u001b[0;36mreraise\u001b[0;34m(tp, value, tb)\u001b[0m\n\u001b[1;32m    701\u001b[0m             \u001b[0;32mif\u001b[0m \u001b[0mvalue\u001b[0m\u001b[0;34m.\u001b[0m\u001b[0m__traceback__\u001b[0m \u001b[0;32mis\u001b[0m \u001b[0;32mnot\u001b[0m \u001b[0mtb\u001b[0m\u001b[0;34m:\u001b[0m\u001b[0;34m\u001b[0m\u001b[0;34m\u001b[0m\u001b[0m\n\u001b[0;32m--> 702\u001b[0;31m                 \u001b[0;32mraise\u001b[0m \u001b[0mvalue\u001b[0m\u001b[0;34m.\u001b[0m\u001b[0mwith_traceback\u001b[0m\u001b[0;34m(\u001b[0m\u001b[0mtb\u001b[0m\u001b[0;34m)\u001b[0m\u001b[0;34m\u001b[0m\u001b[0;34m\u001b[0m\u001b[0m\n\u001b[0m\u001b[1;32m    703\u001b[0m             \u001b[0;32mraise\u001b[0m \u001b[0mvalue\u001b[0m\u001b[0;34m\u001b[0m\u001b[0;34m\u001b[0m\u001b[0m\n",
      "\u001b[0;32m/usr/local/lib/python3.7/dist-packages/razor/flow/async_executors.py\u001b[0m in \u001b[0;36mmain\u001b[0;34m()\u001b[0m\n\u001b[1;32m    136\u001b[0m             \u001b[0mlogger\u001b[0m\u001b[0;34m.\u001b[0m\u001b[0mlog\u001b[0m\u001b[0;34m(\u001b[0m\u001b[0;36m10\u001b[0m\u001b[0;34m,\u001b[0m \u001b[0;34mf'{self.block.name}: waiting for block to finish'\u001b[0m\u001b[0;34m)\u001b[0m\u001b[0;34m\u001b[0m\u001b[0;34m\u001b[0m\u001b[0m\n\u001b[0;32m--> 137\u001b[0;31m             \u001b[0;32mawait\u001b[0m \u001b[0mblock_runner_task\u001b[0m\u001b[0;34m\u001b[0m\u001b[0;34m\u001b[0m\u001b[0m\n\u001b[0m\u001b[1;32m    138\u001b[0m             \u001b[0;32mawait\u001b[0m \u001b[0mself\u001b[0m\u001b[0;34m.\u001b[0m\u001b[0mdispatch\u001b[0m\u001b[0;34m(\u001b[0m\u001b[0;34m'block.complete'\u001b[0m\u001b[0;34m)\u001b[0m\u001b[0;34m\u001b[0m\u001b[0;34m\u001b[0m\u001b[0m\n",
      "\u001b[0;32m/usr/lib/python3.7/concurrent/futures/thread.py\u001b[0m in \u001b[0;36mrun\u001b[0;34m()\u001b[0m\n\u001b[1;32m     56\u001b[0m         \u001b[0;32mtry\u001b[0m\u001b[0;34m:\u001b[0m\u001b[0;34m\u001b[0m\u001b[0;34m\u001b[0m\u001b[0m\n\u001b[0;32m---> 57\u001b[0;31m             \u001b[0mresult\u001b[0m \u001b[0;34m=\u001b[0m \u001b[0mself\u001b[0m\u001b[0;34m.\u001b[0m\u001b[0mfn\u001b[0m\u001b[0;34m(\u001b[0m\u001b[0;34m*\u001b[0m\u001b[0mself\u001b[0m\u001b[0;34m.\u001b[0m\u001b[0margs\u001b[0m\u001b[0;34m,\u001b[0m \u001b[0;34m**\u001b[0m\u001b[0mself\u001b[0m\u001b[0;34m.\u001b[0m\u001b[0mkwargs\u001b[0m\u001b[0;34m)\u001b[0m\u001b[0;34m\u001b[0m\u001b[0;34m\u001b[0m\u001b[0m\n\u001b[0m\u001b[1;32m     58\u001b[0m         \u001b[0;32mexcept\u001b[0m \u001b[0mBaseException\u001b[0m \u001b[0;32mas\u001b[0m \u001b[0mexc\u001b[0m\u001b[0;34m:\u001b[0m\u001b[0;34m\u001b[0m\u001b[0;34m\u001b[0m\u001b[0m\n",
      "\u001b[0;32m/usr/local/lib/python3.7/dist-packages/razor/flow/async_executors.py\u001b[0m in \u001b[0;36mrun_block\u001b[0;34m()\u001b[0m\n\u001b[1;32m    278\u001b[0m                 \u001b[0mstderr_logger\u001b[0m\u001b[0;34m.\u001b[0m\u001b[0mexception\u001b[0m\u001b[0;34m(\u001b[0m\u001b[0mexp\u001b[0m\u001b[0;34m)\u001b[0m\u001b[0;34m\u001b[0m\u001b[0;34m\u001b[0m\u001b[0m\n\u001b[0;32m--> 279\u001b[0;31m                 \u001b[0;32mraise\u001b[0m \u001b[0mexp\u001b[0m\u001b[0;34m\u001b[0m\u001b[0;34m\u001b[0m\u001b[0m\n\u001b[0m\u001b[1;32m    280\u001b[0m \u001b[0;34m\u001b[0m\u001b[0m\n",
      "\u001b[0;32m/usr/local/lib/python3.7/dist-packages/razor/flow/async_executors.py\u001b[0m in \u001b[0;36mrun_block\u001b[0;34m()\u001b[0m\n\u001b[1;32m    275\u001b[0m             \u001b[0;32mtry\u001b[0m\u001b[0;34m:\u001b[0m\u001b[0;34m\u001b[0m\u001b[0;34m\u001b[0m\u001b[0m\n\u001b[0;32m--> 276\u001b[0;31m                 \u001b[0mself\u001b[0m\u001b[0;34m.\u001b[0m\u001b[0mblock\u001b[0m\u001b[0;34m.\u001b[0m\u001b[0mrun\u001b[0m\u001b[0;34m(\u001b[0m\u001b[0;34m)\u001b[0m\u001b[0;34m\u001b[0m\u001b[0;34m\u001b[0m\u001b[0m\n\u001b[0m\u001b[1;32m    277\u001b[0m             \u001b[0;32mexcept\u001b[0m \u001b[0mException\u001b[0m \u001b[0;32mas\u001b[0m \u001b[0mexp\u001b[0m\u001b[0;34m:\u001b[0m\u001b[0;34m\u001b[0m\u001b[0;34m\u001b[0m\u001b[0m\n",
      "\u001b[0;32m~/published-packages/project/blocks/ayan_spark_blocks_clone/blocks.py\u001b[0m in \u001b[0;36mrun\u001b[0;34m()\u001b[0m\n\u001b[1;32m    685\u001b[0m \u001b[0;34m\u001b[0m\u001b[0m\n\u001b[0;32m--> 686\u001b[0;31m         \u001b[0mcustomer_ts\u001b[0m\u001b[0;34m.\u001b[0m\u001b[0mshow\u001b[0m\u001b[0;34m(\u001b[0m\u001b[0;34m)\u001b[0m\u001b[0;34m\u001b[0m\u001b[0;34m\u001b[0m\u001b[0m\n\u001b[0m\u001b[1;32m    687\u001b[0m \u001b[0;34m\u001b[0m\u001b[0m\n",
      "\u001b[0;32m/usr/local/lib/python3.7/dist-packages/pyspark/sql/dataframe.py\u001b[0m in \u001b[0;36mshow\u001b[0;34m()\u001b[0m\n\u001b[1;32m    439\u001b[0m         \u001b[0;32mif\u001b[0m \u001b[0misinstance\u001b[0m\u001b[0;34m(\u001b[0m\u001b[0mtruncate\u001b[0m\u001b[0;34m,\u001b[0m \u001b[0mbool\u001b[0m\u001b[0;34m)\u001b[0m \u001b[0;32mand\u001b[0m \u001b[0mtruncate\u001b[0m\u001b[0;34m:\u001b[0m\u001b[0;34m\u001b[0m\u001b[0;34m\u001b[0m\u001b[0m\n\u001b[0;32m--> 440\u001b[0;31m             \u001b[0mprint\u001b[0m\u001b[0;34m(\u001b[0m\u001b[0mself\u001b[0m\u001b[0;34m.\u001b[0m\u001b[0m_jdf\u001b[0m\u001b[0;34m.\u001b[0m\u001b[0mshowString\u001b[0m\u001b[0;34m(\u001b[0m\u001b[0mn\u001b[0m\u001b[0;34m,\u001b[0m \u001b[0;36m20\u001b[0m\u001b[0;34m,\u001b[0m \u001b[0mvertical\u001b[0m\u001b[0;34m)\u001b[0m\u001b[0;34m)\u001b[0m\u001b[0;34m\u001b[0m\u001b[0;34m\u001b[0m\u001b[0m\n\u001b[0m\u001b[1;32m    441\u001b[0m         \u001b[0;32melse\u001b[0m\u001b[0;34m:\u001b[0m\u001b[0;34m\u001b[0m\u001b[0;34m\u001b[0m\u001b[0m\n",
      "\u001b[0;32m/usr/local/lib/python3.7/dist-packages/py4j/java_gateway.py\u001b[0m in \u001b[0;36m__call__\u001b[0;34m()\u001b[0m\n\u001b[1;32m   1304\u001b[0m         return_value = get_return_value(\n\u001b[0;32m-> 1305\u001b[0;31m             answer, self.gateway_client, self.target_id, self.name)\n\u001b[0m\u001b[1;32m   1306\u001b[0m \u001b[0;34m\u001b[0m\u001b[0m\n",
      "\u001b[0;32m/usr/local/lib/python3.7/dist-packages/pyspark/sql/utils.py\u001b[0m in \u001b[0;36mdeco\u001b[0;34m()\u001b[0m\n\u001b[1;32m    136\u001b[0m                 \u001b[0;31m# JVM exception message.\u001b[0m\u001b[0;34m\u001b[0m\u001b[0;34m\u001b[0m\u001b[0;34m\u001b[0m\u001b[0m\n\u001b[0;32m--> 137\u001b[0;31m                 \u001b[0mraise_from\u001b[0m\u001b[0;34m(\u001b[0m\u001b[0mconverted\u001b[0m\u001b[0;34m)\u001b[0m\u001b[0;34m\u001b[0m\u001b[0;34m\u001b[0m\u001b[0m\n\u001b[0m\u001b[1;32m    138\u001b[0m             \u001b[0;32melse\u001b[0m\u001b[0;34m:\u001b[0m\u001b[0;34m\u001b[0m\u001b[0;34m\u001b[0m\u001b[0m\n",
      "\u001b[0;32m/usr/local/lib/python3.7/dist-packages/pyspark/sql/utils.py\u001b[0m in \u001b[0;36mraise_from\u001b[0;34m()\u001b[0m\n",
      "\u001b[0;31m<class 'str'>\u001b[0m: (<class 'AttributeError'>, AttributeError(\"'NoneType' object has no attribute 'org'\"))",
      "\nDuring handling of the above exception, another exception occurred:\n",
      "\u001b[0;31mAttributeError\u001b[0m                            Traceback (most recent call last)",
      "    \u001b[0;31m[... skipping hidden 1 frame]\u001b[0m\n",
      "\u001b[0;32m/usr/local/lib/python3.7/dist-packages/IPython/core/interactiveshell.py\u001b[0m in \u001b[0;36mshowtraceback\u001b[0;34m(self, exc_tuple, filename, tb_offset, exception_only, running_compiled_code)\u001b[0m\n\u001b[1;32m   2064\u001b[0m                                             value, tb, tb_offset=tb_offset)\n\u001b[1;32m   2065\u001b[0m \u001b[0;34m\u001b[0m\u001b[0m\n\u001b[0;32m-> 2066\u001b[0;31m                     \u001b[0mself\u001b[0m\u001b[0;34m.\u001b[0m\u001b[0m_showtraceback\u001b[0m\u001b[0;34m(\u001b[0m\u001b[0metype\u001b[0m\u001b[0;34m,\u001b[0m \u001b[0mvalue\u001b[0m\u001b[0;34m,\u001b[0m \u001b[0mstb\u001b[0m\u001b[0;34m)\u001b[0m\u001b[0;34m\u001b[0m\u001b[0;34m\u001b[0m\u001b[0m\n\u001b[0m\u001b[1;32m   2067\u001b[0m                     \u001b[0;32mif\u001b[0m \u001b[0mself\u001b[0m\u001b[0;34m.\u001b[0m\u001b[0mcall_pdb\u001b[0m\u001b[0;34m:\u001b[0m\u001b[0;34m\u001b[0m\u001b[0;34m\u001b[0m\u001b[0m\n\u001b[1;32m   2068\u001b[0m                         \u001b[0;31m# drop into debugger\u001b[0m\u001b[0;34m\u001b[0m\u001b[0;34m\u001b[0m\u001b[0;34m\u001b[0m\u001b[0m\n",
      "\u001b[0;32m/usr/local/lib/python3.7/dist-packages/ipykernel/zmqshell.py\u001b[0m in \u001b[0;36m_showtraceback\u001b[0;34m(self, etype, evalue, stb)\u001b[0m\n\u001b[1;32m    547\u001b[0m             \u001b[0;34m'traceback'\u001b[0m \u001b[0;34m:\u001b[0m \u001b[0mstb\u001b[0m\u001b[0;34m,\u001b[0m\u001b[0;34m\u001b[0m\u001b[0;34m\u001b[0m\u001b[0m\n\u001b[1;32m    548\u001b[0m             \u001b[0;34m'ename'\u001b[0m \u001b[0;34m:\u001b[0m \u001b[0mstr\u001b[0m\u001b[0;34m(\u001b[0m\u001b[0metype\u001b[0m\u001b[0;34m.\u001b[0m\u001b[0m__name__\u001b[0m\u001b[0;34m)\u001b[0m\u001b[0;34m,\u001b[0m\u001b[0;34m\u001b[0m\u001b[0;34m\u001b[0m\u001b[0m\n\u001b[0;32m--> 549\u001b[0;31m             \u001b[0;34m'evalue'\u001b[0m \u001b[0;34m:\u001b[0m \u001b[0mpy3compat\u001b[0m\u001b[0;34m.\u001b[0m\u001b[0msafe_unicode\u001b[0m\u001b[0;34m(\u001b[0m\u001b[0mevalue\u001b[0m\u001b[0;34m)\u001b[0m\u001b[0;34m,\u001b[0m\u001b[0;34m\u001b[0m\u001b[0;34m\u001b[0m\u001b[0m\n\u001b[0m\u001b[1;32m    550\u001b[0m         }\n\u001b[1;32m    551\u001b[0m \u001b[0;34m\u001b[0m\u001b[0m\n",
      "\u001b[0;32m/usr/local/lib/python3.7/dist-packages/ipython_genutils/py3compat.py\u001b[0m in \u001b[0;36msafe_unicode\u001b[0;34m(e)\u001b[0m\n\u001b[1;32m     63\u001b[0m     \"\"\"\n\u001b[1;32m     64\u001b[0m     \u001b[0;32mtry\u001b[0m\u001b[0;34m:\u001b[0m\u001b[0;34m\u001b[0m\u001b[0;34m\u001b[0m\u001b[0m\n\u001b[0;32m---> 65\u001b[0;31m         \u001b[0;32mreturn\u001b[0m \u001b[0municode_type\u001b[0m\u001b[0;34m(\u001b[0m\u001b[0me\u001b[0m\u001b[0;34m)\u001b[0m\u001b[0;34m\u001b[0m\u001b[0;34m\u001b[0m\u001b[0m\n\u001b[0m\u001b[1;32m     66\u001b[0m     \u001b[0;32mexcept\u001b[0m \u001b[0mUnicodeError\u001b[0m\u001b[0;34m:\u001b[0m\u001b[0;34m\u001b[0m\u001b[0;34m\u001b[0m\u001b[0m\n\u001b[1;32m     67\u001b[0m         \u001b[0;32mpass\u001b[0m\u001b[0;34m\u001b[0m\u001b[0;34m\u001b[0m\u001b[0m\n",
      "\u001b[0;32m/usr/local/lib/python3.7/dist-packages/pyspark/sql/utils.py\u001b[0m in \u001b[0;36m__str__\u001b[0;34m(self)\u001b[0m\n\u001b[1;32m     41\u001b[0m \u001b[0;34m\u001b[0m\u001b[0m\n\u001b[1;32m     42\u001b[0m     \u001b[0;32mdef\u001b[0m \u001b[0m__str__\u001b[0m\u001b[0;34m(\u001b[0m\u001b[0mself\u001b[0m\u001b[0;34m)\u001b[0m\u001b[0;34m:\u001b[0m\u001b[0;34m\u001b[0m\u001b[0;34m\u001b[0m\u001b[0m\n\u001b[0;32m---> 43\u001b[0;31m         \u001b[0msql_conf\u001b[0m \u001b[0;34m=\u001b[0m \u001b[0mSparkContext\u001b[0m\u001b[0;34m.\u001b[0m\u001b[0m_jvm\u001b[0m\u001b[0;34m.\u001b[0m\u001b[0morg\u001b[0m\u001b[0;34m.\u001b[0m\u001b[0mapache\u001b[0m\u001b[0;34m.\u001b[0m\u001b[0mspark\u001b[0m\u001b[0;34m.\u001b[0m\u001b[0msql\u001b[0m\u001b[0;34m.\u001b[0m\u001b[0minternal\u001b[0m\u001b[0;34m.\u001b[0m\u001b[0mSQLConf\u001b[0m\u001b[0;34m.\u001b[0m\u001b[0mget\u001b[0m\u001b[0;34m(\u001b[0m\u001b[0;34m)\u001b[0m\u001b[0;34m\u001b[0m\u001b[0;34m\u001b[0m\u001b[0m\n\u001b[0m\u001b[1;32m     44\u001b[0m         \u001b[0mdebug_enabled\u001b[0m \u001b[0;34m=\u001b[0m \u001b[0msql_conf\u001b[0m\u001b[0;34m.\u001b[0m\u001b[0mpysparkJVMStacktraceEnabled\u001b[0m\u001b[0;34m(\u001b[0m\u001b[0;34m)\u001b[0m\u001b[0;34m\u001b[0m\u001b[0;34m\u001b[0m\u001b[0m\n\u001b[1;32m     45\u001b[0m         \u001b[0mdesc\u001b[0m \u001b[0;34m=\u001b[0m \u001b[0mself\u001b[0m\u001b[0;34m.\u001b[0m\u001b[0mdesc\u001b[0m\u001b[0;34m\u001b[0m\u001b[0;34m\u001b[0m\u001b[0m\n",
      "\u001b[0;31mAttributeError\u001b[0m: 'NoneType' object has no attribute 'org'"
     ]
    }
   ],
   "source": [
    "pipe.execute()"
   ]
  },
  {
   "cell_type": "code",
   "execution_count": null,
   "id": "demographic-butter",
   "metadata": {},
   "outputs": [],
   "source": [
    "from raz"
   ]
  },
  {
   "cell_type": "code",
   "execution_count": null,
   "id": "sought-wiring",
   "metadata": {},
   "outputs": [],
   "source": [
    "pip show pyspark"
   ]
  },
  {
   "cell_type": "code",
   "execution_count": null,
   "id": "military-battle",
   "metadata": {},
   "outputs": [],
   "source": []
  },
  {
   "cell_type": "code",
   "execution_count": null,
   "id": "noted-replacement",
   "metadata": {},
   "outputs": [],
   "source": []
  }
 ],
 "metadata": {
  "kernelspec": {
   "display_name": "Python 3",
   "language": "python",
   "name": "python3"
  },
  "language_info": {
   "codemirror_mode": {
    "name": "ipython",
    "version": 3
   },
   "file_extension": ".py",
   "mimetype": "text/x-python",
   "name": "python",
   "nbconvert_exporter": "python",
   "pygments_lexer": "ipython3",
   "version": "3.7.10"
  }
 },
 "nbformat": 4,
 "nbformat_minor": 5
}
