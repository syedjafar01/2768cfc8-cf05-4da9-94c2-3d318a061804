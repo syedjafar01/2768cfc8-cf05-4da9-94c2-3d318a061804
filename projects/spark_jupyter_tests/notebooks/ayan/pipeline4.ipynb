{
 "cells": [
  {
   "cell_type": "code",
   "execution_count": 1,
   "id": "banned-creativity",
   "metadata": {},
   "outputs": [],
   "source": [
    "import razor\n",
    "import razor.flow as rf\n",
    "from razor import api\n",
    "from razor.flow.spark import SparkBlock, SparkExecutor\n"
   ]
  },
  {
   "cell_type": "code",
   "execution_count": 2,
   "id": "loving-tragedy",
   "metadata": {},
   "outputs": [],
   "source": [
    "import os\n",
    "from datetime import datetime, timedelta\n",
    "from pyspark.sql import SparkSession, functions\n",
    "from pyspark.sql.dataframe import DataFrame\n",
    "from datetime import datetime, timedelta\n",
    "from dateutil.relativedelta import relativedelta\n",
    "from pyspark.sql.types import IntegerType, DateType, ArrayType, StringType, FloatType, TimestampType\n"
   ]
  },
  {
   "cell_type": "code",
   "execution_count": 3,
   "id": "palestinian-upset",
   "metadata": {},
   "outputs": [],
   "source": [
    "from razor.project.blocks.ayan_spark_blocks import MercStatic\n",
    "from razor.project.blocks.ayan_spark_blocks import ReadCsvProjectSpace\n",
    "from razor.project.blocks.ayan_spark_blocks import TranCityTS\n",
    "from razor.project.blocks.ayan_spark_blocks import TranTypeTS\n",
    "from razor.project.blocks.ayan_spark_blocks import NonSparkPath\n",
    "from razor.project.blocks.ayan_spark_blocks import CustStatic\n",
    "from razor.project.blocks.ayan_spark_blocks import ProdTypeTS\n",
    "from razor.project.blocks.ayan_spark_blocks import CustMercTS\n",
    "from razor.project.blocks.ayan_spark_blocks import DropDuplicates"
   ]
  },
  {
   "cell_type": "code",
   "execution_count": 4,
   "id": "regulated-anchor",
   "metadata": {},
   "outputs": [],
   "source": [
    "def project_space_path(path):\n",
    "    ps = api.datasources('Project Space')\n",
    "    return os.path.join(ps.abspath(), path)\n"
   ]
  },
  {
   "cell_type": "code",
   "execution_count": 5,
   "id": "economic-maine",
   "metadata": {},
   "outputs": [],
   "source": [
    "nsp = NonSparkPath(ip_path='customer_data.csv')"
   ]
  },
  {
   "cell_type": "code",
   "execution_count": 6,
   "id": "pacific-station",
   "metadata": {},
   "outputs": [],
   "source": [
    "rcp = ReadCsvProjectSpace(filename = nsp.op_path, config={}, source=\"\")\n",
    "rcp.executor = SparkExecutor"
   ]
  },
  {
   "cell_type": "code",
   "execution_count": 7,
   "id": "still-driving",
   "metadata": {},
   "outputs": [],
   "source": [
    "cs = CustStatic(ip_data = rcp.data, config={}, source=\"\")\n",
    "cs.executor = SparkExecutor"
   ]
  },
  {
   "cell_type": "code",
   "execution_count": 8,
   "id": "visible-bride",
   "metadata": {},
   "outputs": [],
   "source": [
    "drp = DropDuplicates(ip_data = cs.customer_static, config={}, source=\"\")\n",
    "drp.executor = SparkExecutor"
   ]
  },
  {
   "cell_type": "code",
   "execution_count": 9,
   "id": "fleet-facility",
   "metadata": {},
   "outputs": [],
   "source": [
    "ms = MercStatic(ip_data = rcp.data, config={}, source=\"\")\n",
    "ms.executor = SparkExecutor"
   ]
  },
  {
   "cell_type": "code",
   "execution_count": 10,
   "id": "restricted-gross",
   "metadata": {},
   "outputs": [],
   "source": [
    "cm_ts = CustMercTS(ip_data = rcp.data, config={}, source=\"\")\n",
    "cm_ts.executor = SparkExecutor"
   ]
  },
  {
   "cell_type": "code",
   "execution_count": null,
   "id": "gorgeous-adoption",
   "metadata": {},
   "outputs": [],
   "source": []
  },
  {
   "cell_type": "code",
   "execution_count": 11,
   "id": "organized-pacific",
   "metadata": {},
   "outputs": [],
   "source": [
    "pipe = rf.Pipeline('temp', targets = [cm_ts])"
   ]
  },
  {
   "cell_type": "code",
   "execution_count": 12,
   "id": "becoming-finish",
   "metadata": {},
   "outputs": [
    {
     "data": {
      "application/vnd.razorthink.interactive+pipeline+view+json": {
       "blocks": [
        {
         "class_name": "NonSparkPath",
         "fullname": "razor.project.blocks.ayan_spark_blocks.NonSparkPath",
         "id": "09791fe8-131e-4b6b-aef4-954ff5b05551",
         "inputs": [
          {
           "dataType": "string",
           "default": "",
           "flow": "atomic",
           "help": null,
           "isdict": false,
           "islist": false,
           "label": "ip_path",
           "meta": {},
           "name": "ip_path",
           "series": false,
           "type": "str",
           "type_check": true
          }
         ],
         "outputs": [
          {
           "flow": "atomic",
           "help": null,
           "label": "op_path",
           "meta": {},
           "name": "op_path",
           "series": false,
           "type": "str",
           "type_check": true
          }
         ],
         "overwritten": false,
         "published": true,
         "var_names": [
          "NonSparkPath"
         ]
        },
        {
         "class_name": "ReadCsvProjectSpace",
         "fullname": "razor.project.blocks.ayan_spark_blocks.ReadCsvProjectSpace",
         "id": "f7e26c3c-6407-42b7-9355-2c8d639d88d9",
         "inputs": [
          {
           "dataType": "string",
           "default": "",
           "flow": "atomic",
           "help": null,
           "isdict": false,
           "islist": false,
           "label": "filename",
           "meta": {},
           "name": "filename",
           "series": false,
           "type": "str",
           "type_check": true
          },
          {
           "dataType": "dict",
           "default": {},
           "flow": "atomic",
           "help": null,
           "isdict": false,
           "islist": false,
           "label": "config",
           "meta": {},
           "name": "config",
           "series": false,
           "type": "dict",
           "type_check": true
          },
          {
           "dataType": "string",
           "default": "",
           "flow": "atomic",
           "help": null,
           "isdict": false,
           "islist": false,
           "label": "source",
           "meta": {},
           "name": "source",
           "series": false,
           "type": "str",
           "type_check": true
          }
         ],
         "outputs": [
          {
           "flow": "atomic",
           "help": null,
           "label": "data",
           "meta": {},
           "name": "data",
           "series": false,
           "type": "DataFrame",
           "type_check": true
          }
         ],
         "overwritten": false,
         "published": true,
         "var_names": [
          "ReadCsvProjectSpace"
         ]
        },
        {
         "class_name": "CustMercTS",
         "fullname": "razor.project.blocks.ayan_spark_blocks.CustMercTS",
         "id": "85dd9c61-7d93-48a0-8170-71fd82c7e776",
         "inputs": [
          {
           "dataType": null,
           "default": null,
           "flow": "atomic",
           "help": null,
           "isdict": false,
           "islist": false,
           "label": "ip_data",
           "meta": {},
           "name": "ip_data",
           "series": false,
           "type": "DataFrame",
           "type_check": true
          },
          {
           "dataType": "dict",
           "default": {},
           "flow": "atomic",
           "help": null,
           "isdict": false,
           "islist": false,
           "label": "config",
           "meta": {},
           "name": "config",
           "series": false,
           "type": "dict",
           "type_check": true
          },
          {
           "dataType": "string",
           "default": "",
           "flow": "atomic",
           "help": null,
           "isdict": false,
           "islist": false,
           "label": "source",
           "meta": {},
           "name": "source",
           "series": false,
           "type": "str",
           "type_check": true
          }
         ],
         "outputs": [
          {
           "flow": "atomic",
           "help": null,
           "label": "customer_ts",
           "meta": {},
           "name": "customer_ts",
           "series": false,
           "type": "DataFrame",
           "type_check": true
          },
          {
           "flow": "atomic",
           "help": null,
           "label": "merchant_ts",
           "meta": {},
           "name": "merchant_ts",
           "series": false,
           "type": "DataFrame",
           "type_check": true
          }
         ],
         "overwritten": false,
         "published": true,
         "var_names": [
          "CustMercTS"
         ]
        }
       ],
       "connections": [
        {
         "id": "e989df02-7290-466c-8aee-72719e951483",
         "source": {
          "adapter": false,
          "instance_id": "dc4a97a9-799e-49ce-8279-15fe78bd2225",
          "name": "data"
         },
         "target": {
          "adapter": false,
          "instance_id": "79f22d96-bd9a-4d82-9be9-85ac7e80b025",
          "name": "ip_data"
         }
        },
        {
         "id": "97cd2b76-0627-4ed6-bf23-f66afd8fddf5",
         "source": {
          "adapter": false,
          "instance_id": "3cdb9dc8-1079-47c9-ac0d-0fa78970cca2",
          "name": "op_path"
         },
         "target": {
          "adapter": false,
          "instance_id": "dc4a97a9-799e-49ce-8279-15fe78bd2225",
          "name": "filename"
         }
        }
       ],
       "id": "a48cc463-1196-4c09-b2a3-0fa318f28b8d",
       "instances": [
        {
         "block_class": "85dd9c61-7d93-48a0-8170-71fd82c7e776",
         "id": "79f22d96-bd9a-4d82-9be9-85ac7e80b025",
         "name": "CustMercTS_1",
         "var_names": [
          "cm_ts"
         ]
        },
        {
         "block_class": "f7e26c3c-6407-42b7-9355-2c8d639d88d9",
         "id": "dc4a97a9-799e-49ce-8279-15fe78bd2225",
         "name": "ReadCsvProjectSpace_1",
         "var_names": [
          "rcp"
         ]
        },
        {
         "block_class": "09791fe8-131e-4b6b-aef4-954ff5b05551",
         "id": "3cdb9dc8-1079-47c9-ac0d-0fa78970cca2",
         "name": "NonSparkPath_1",
         "var_names": [
          "nsp"
         ]
        }
       ],
       "name": "temp",
       "var_names": []
      },
      "image/svg+xml": [
       "<?xml version=\"1.0\" encoding=\"UTF-8\" standalone=\"no\"?>\n",
       "<!DOCTYPE svg PUBLIC \"-//W3C//DTD SVG 1.1//EN\"\n",
       " \"http://www.w3.org/Graphics/SVG/1.1/DTD/svg11.dtd\">\n",
       "<!-- Generated by graphviz version 2.43.0 (0)\n",
       " -->\n",
       "<!-- Title: %3 Pages: 1 -->\n",
       "<svg width=\"306pt\" height=\"210pt\"\n",
       " viewBox=\"0.00 0.00 305.86 210.00\" xmlns=\"http://www.w3.org/2000/svg\" xmlns:xlink=\"http://www.w3.org/1999/xlink\">\n",
       "<g id=\"graph0\" class=\"graph\" transform=\"scale(1 1) rotate(0) translate(4 206)\">\n",
       "<title>%3</title>\n",
       "<polygon fill=\"white\" stroke=\"transparent\" points=\"-4,4 -4,-206 301.86,-206 301.86,4 -4,4\"/>\n",
       "<!-- CustMercTS(&#39;CustMercTS_1&#39;) -->\n",
       "<g id=\"node1\" class=\"node\">\n",
       "<title>CustMercTS(&#39;CustMercTS_1&#39;)</title>\n",
       "<ellipse fill=\"none\" stroke=\"black\" cx=\"148.93\" cy=\"-18\" rx=\"92.34\" ry=\"18\"/>\n",
       "<text text-anchor=\"middle\" x=\"148.93\" y=\"-15.5\" font-family=\"Helvetica,sans-Serif\" font-size=\"10.00\">CustMercTS(&#39;CustMercTS_1&#39;)</text>\n",
       "</g>\n",
       "<!-- ReadCsvProjectSpace(&#39;ReadCsvProjectSpace_1&#39;) -->\n",
       "<g id=\"node2\" class=\"node\">\n",
       "<title>ReadCsvProjectSpace(&#39;ReadCsvProjectSpace_1&#39;)</title>\n",
       "<ellipse fill=\"none\" stroke=\"black\" cx=\"148.93\" cy=\"-101\" rx=\"148.86\" ry=\"18\"/>\n",
       "<text text-anchor=\"middle\" x=\"148.93\" y=\"-98.5\" font-family=\"Helvetica,sans-Serif\" font-size=\"10.00\">ReadCsvProjectSpace(&#39;ReadCsvProjectSpace_1&#39;)</text>\n",
       "</g>\n",
       "<!-- ReadCsvProjectSpace(&#39;ReadCsvProjectSpace_1&#39;)&#45;&gt;CustMercTS(&#39;CustMercTS_1&#39;) -->\n",
       "<g id=\"edge1\" class=\"edge\">\n",
       "<title>ReadCsvProjectSpace(&#39;ReadCsvProjectSpace_1&#39;)&#45;&gt;CustMercTS(&#39;CustMercTS_1&#39;)</title>\n",
       "<path fill=\"none\" stroke=\"black\" d=\"M148.93,-82.82C148.93,-72.19 148.93,-58.31 148.93,-46.2\"/>\n",
       "<polygon fill=\"black\" stroke=\"black\" points=\"152.43,-46.15 148.93,-36.15 145.43,-46.15 152.43,-46.15\"/>\n",
       "<text text-anchor=\"middle\" x=\"183.93\" y=\"-57\" font-family=\"Helvetica,sans-Serif\" font-size=\"10.00\">data&#45;&gt;ip_data</text>\n",
       "</g>\n",
       "<!-- NonSparkPath(&#39;NonSparkPath_1&#39;) -->\n",
       "<g id=\"node3\" class=\"node\">\n",
       "<title>NonSparkPath(&#39;NonSparkPath_1&#39;)</title>\n",
       "<ellipse fill=\"none\" stroke=\"black\" cx=\"148.93\" cy=\"-184\" rx=\"104.56\" ry=\"18\"/>\n",
       "<text text-anchor=\"middle\" x=\"148.93\" y=\"-181.5\" font-family=\"Helvetica,sans-Serif\" font-size=\"10.00\">NonSparkPath(&#39;NonSparkPath_1&#39;)</text>\n",
       "</g>\n",
       "<!-- NonSparkPath(&#39;NonSparkPath_1&#39;)&#45;&gt;ReadCsvProjectSpace(&#39;ReadCsvProjectSpace_1&#39;) -->\n",
       "<g id=\"edge2\" class=\"edge\">\n",
       "<title>NonSparkPath(&#39;NonSparkPath_1&#39;)&#45;&gt;ReadCsvProjectSpace(&#39;ReadCsvProjectSpace_1&#39;)</title>\n",
       "<path fill=\"none\" stroke=\"black\" d=\"M148.93,-165.82C148.93,-155.19 148.93,-141.31 148.93,-129.2\"/>\n",
       "<polygon fill=\"black\" stroke=\"black\" points=\"152.43,-129.15 148.93,-119.15 145.43,-129.15 152.43,-129.15\"/>\n",
       "<text text-anchor=\"middle\" x=\"195.93\" y=\"-140\" font-family=\"Helvetica,sans-Serif\" font-size=\"10.00\">op_path&#45;&gt;filename</text>\n",
       "</g>\n",
       "</g>\n",
       "</svg>\n"
      ],
      "text/plain": [
       "<razor.flow.async_pipeline.Pipeline at 0x7fa8675b34d0>"
      ]
     },
     "execution_count": 12,
     "metadata": {},
     "output_type": "execute_result"
    }
   ],
   "source": [
    "pipe"
   ]
  },
  {
   "cell_type": "code",
   "execution_count": 13,
   "id": "placed-foundation",
   "metadata": {},
   "outputs": [
    {
     "name": "stdout",
     "output_type": "stream",
     "text": [
      "log path: /tmp/tmp8i46h1uw/temp\n"
     ]
    },
    {
     "data": {
      "application/vnd.razorthink.run+monitor+json": "/tmp/tmp8i46h1uw/temp",
      "text/plain": [
       "<razor_tools.backend.ipython.mime.run_monitor.RunMonitor at 0x7fa8675f5d90>"
      ]
     },
     "metadata": {
      "application/vnd.razorthink.run+monitor+json": {
       "run_data": {
        "apm": [
         {
          "cpu_percent": 0,
          "cpu_time": 0,
          "name": "NonSparkPath_1",
          "real_mem": 155885568,
          "time": 1616486349.4684865
         },
         {
          "cpu_percent": 0,
          "cpu_time": 0.03,
          "name": "NonSparkPath_1",
          "real_mem": 156139520,
          "time": 1616486349.6486583
         },
         {
          "cpu_percent": 0,
          "cpu_time": 0.05,
          "name": "NonSparkPath_1",
          "real_mem": 156278784,
          "time": 1616486349.7763393
         },
         {
          "cpu_percent": 0,
          "cpu_time": 0.06,
          "name": "NonSparkPath_1",
          "real_mem": 156377088,
          "time": 1616486349.9599674
         },
         {
          "cpu_percent": 0,
          "cpu_time": 0.07,
          "name": "NonSparkPath_1",
          "real_mem": 156377088,
          "time": 1616486350.1483755
         },
         {
          "cpu_percent": 0,
          "cpu_time": 0.01,
          "name": "ReadCsvProjectSpace_1",
          "real_mem": 156196864,
          "time": 1616486350.0496714
         },
         {
          "cpu_percent": 0,
          "cpu_time": 0.01,
          "name": "CustMercTS_1",
          "real_mem": 156340224,
          "time": 1616486350.0788429
         },
         {
          "cpu_percent": 0,
          "cpu_time": 0.02,
          "name": "ReadCsvProjectSpace_1",
          "real_mem": 156340224,
          "time": 1616486350.161283
         },
         {
          "cpu_percent": 20.8,
          "cpu_time": 0.04,
          "name": "CustMercTS_1",
          "real_mem": 157593600,
          "time": 1616486350.350078
         },
         {
          "cpu_percent": 0,
          "cpu_time": 0.060000000000000005,
          "name": "ReadCsvProjectSpace_1",
          "real_mem": 158760960,
          "time": 1616486350.37633
         },
         {
          "cpu_percent": 0,
          "cpu_time": 0.09,
          "name": "CustMercTS_1",
          "real_mem": 161079296,
          "time": 1616486350.4740841
         },
         {
          "cpu_percent": 96.6,
          "cpu_time": 0.14,
          "name": "ReadCsvProjectSpace_1",
          "real_mem": 184377344,
          "time": 1616486350.5808072
         },
         {
          "cpu_percent": 0,
          "cpu_time": 0.15,
          "name": "CustMercTS_1",
          "real_mem": 184918016,
          "time": 1616486350.6487858
         },
         {
          "cpu_percent": 196.3,
          "cpu_time": 0.23,
          "name": "ReadCsvProjectSpace_1",
          "real_mem": 193503232,
          "time": 1616486350.7591605
         },
         {
          "cpu_percent": 0,
          "cpu_time": 0.26,
          "name": "CustMercTS_1",
          "real_mem": 198918144,
          "time": 1616486350.803182
         },
         {
          "cpu_percent": 98.8,
          "cpu_time": 0.33,
          "name": "ReadCsvProjectSpace_1",
          "real_mem": 210468864,
          "time": 1616486351.0593693
         },
         {
          "cpu_percent": 0,
          "cpu_time": 0.39999999999999997,
          "name": "CustMercTS_1",
          "real_mem": 212189184,
          "time": 1616486351.180549
         },
         {
          "cpu_percent": 0,
          "cpu_time": 0.12,
          "name": "ReadCsvProjectSpace_1",
          "real_mem": 163201024,
          "time": 1616486351.3696177
         },
         {
          "cpu_percent": 0,
          "cpu_time": 0.17,
          "name": "ReadCsvProjectSpace_1",
          "real_mem": 178081792,
          "time": 1616486351.572104
         },
         {
          "cpu_percent": 11.4,
          "cpu_time": 0.14,
          "name": "CustMercTS_1",
          "real_mem": 174813184,
          "time": 1616486351.5487618
         },
         {
          "cpu_percent": 11.6,
          "cpu_time": 0.2,
          "name": "CustMercTS_1",
          "real_mem": 179224576,
          "time": 1616486351.7495375
         },
         {
          "cpu_percent": 0,
          "cpu_time": 0.21000000000000002,
          "name": "ReadCsvProjectSpace_1",
          "real_mem": 179494912,
          "time": 1616486351.8486972
         },
         {
          "cpu_percent": 0,
          "cpu_time": 0.23,
          "name": "CustMercTS_1",
          "real_mem": 179830784,
          "time": 1616486351.8746169
         },
         {
          "cpu_percent": 11.5,
          "cpu_time": 0.27,
          "name": "ReadCsvProjectSpace_1",
          "real_mem": 182362112,
          "time": 1616486352.0486999
         },
         {
          "cpu_percent": 196.3,
          "cpu_time": 0.31,
          "name": "CustMercTS_1",
          "real_mem": 189067264,
          "time": 1616486352.1601498
         },
         {
          "cpu_percent": 192.9,
          "cpu_time": 0.34,
          "name": "ReadCsvProjectSpace_1",
          "real_mem": 192876544,
          "time": 1616486352.260699
         },
         {
          "cpu_percent": 196.1,
          "cpu_time": 0.37,
          "name": "CustMercTS_1",
          "real_mem": 196526080,
          "time": 1616486352.3603323
         },
         {
          "cpu_percent": 0,
          "cpu_time": 0.38,
          "name": "ReadCsvProjectSpace_1",
          "real_mem": 197500928,
          "time": 1616486352.449344
         },
         {
          "cpu_percent": 0,
          "cpu_time": 0.41,
          "name": "CustMercTS_1",
          "real_mem": 203046912,
          "time": 1616486352.4834244
         },
         {
          "cpu_percent": 296.2,
          "cpu_time": 0.47000000000000003,
          "name": "ReadCsvProjectSpace_1",
          "real_mem": 208035840,
          "time": 1616486352.5722947
         },
         {
          "cpu_percent": 98.7,
          "cpu_time": 0.51,
          "name": "CustMercTS_1",
          "real_mem": 211677184,
          "time": 1616486352.7596936
         },
         {
          "cpu_percent": 293.1,
          "cpu_time": 0.55,
          "name": "ReadCsvProjectSpace_1",
          "real_mem": 213262336,
          "time": 1616486352.8591356
         },
         {
          "cpu_percent": 97.9,
          "cpu_time": 0.5900000000000001,
          "name": "CustMercTS_1",
          "real_mem": 215154688,
          "time": 1616486352.9701192
         },
         {
          "cpu_percent": 98.1,
          "cpu_time": 0.63,
          "name": "ReadCsvProjectSpace_1",
          "real_mem": 216395776,
          "time": 1616486353.0703225
         },
         {
          "cpu_percent": 0,
          "cpu_time": 0.65,
          "name": "CustMercTS_1",
          "real_mem": 218341376,
          "time": 1616486353.248588
         },
         {
          "cpu_percent": 11.5,
          "cpu_time": 0.6900000000000001,
          "name": "ReadCsvProjectSpace_1",
          "real_mem": 221851648,
          "time": 1616486353.3488116
         },
         {
          "cpu_percent": 0,
          "cpu_time": 0.72,
          "name": "CustMercTS_1",
          "real_mem": 223256576,
          "time": 1616486353.3718553
         },
         {
          "cpu_percent": 97.9,
          "cpu_time": 0.77,
          "name": "ReadCsvProjectSpace_1",
          "real_mem": 224624640,
          "time": 1616486353.4721577
         },
         {
          "cpu_percent": 96.7,
          "cpu_time": 0.81,
          "name": "CustMercTS_1",
          "real_mem": 226246656,
          "time": 1616486353.5735376
         },
         {
          "cpu_percent": 196,
          "cpu_time": 0.85,
          "name": "ReadCsvProjectSpace_1",
          "real_mem": 228438016,
          "time": 1616486353.670178
         },
         {
          "cpu_percent": 197,
          "cpu_time": 0.91,
          "name": "CustMercTS_1",
          "real_mem": 231100416,
          "time": 1616486353.859267
         },
         {
          "cpu_percent": 0,
          "cpu_time": 0.93,
          "name": "ReadCsvProjectSpace_1",
          "real_mem": 231100416,
          "time": 1616486353.9486454
         },
         {
          "cpu_percent": 0,
          "cpu_time": 0.9600000000000001,
          "name": "CustMercTS_1",
          "real_mem": 233738240,
          "time": 1616486353.9833462
         },
         {
          "cpu_percent": 11.3,
          "cpu_time": 1.03,
          "name": "ReadCsvProjectSpace_1",
          "real_mem": 241037312,
          "time": 1616486354.2485473
         },
         {
          "cpu_percent": 98.4,
          "cpu_time": 1.06,
          "name": "CustMercTS_1",
          "real_mem": 242118656,
          "time": 1616486354.2712586
         },
         {
          "cpu_percent": 11.5,
          "cpu_time": 1.09,
          "name": "ReadCsvProjectSpace_1",
          "real_mem": 242778112,
          "time": 1616486354.4484148
         },
         {
          "cpu_percent": 34.1,
          "cpu_time": 1.13,
          "name": "CustMercTS_1",
          "real_mem": 243671040,
          "time": 1616486354.5487542
         },
         {
          "cpu_percent": 23.1,
          "cpu_time": 1.16,
          "name": "ReadCsvProjectSpace_1",
          "real_mem": 244482048,
          "time": 1616486354.6487906
         },
         {
          "cpu_percent": 11.5,
          "cpu_time": 1.19,
          "name": "CustMercTS_1",
          "real_mem": 245293056,
          "time": 1616486354.7485504
         },
         {
          "cpu_percent": 98.1,
          "cpu_time": 1.22,
          "name": "ReadCsvProjectSpace_1",
          "real_mem": 245833728,
          "time": 1616486354.8485737
         },
         {
          "cpu_percent": 98.2,
          "cpu_time": 1.27,
          "name": "CustMercTS_1",
          "real_mem": 247214080,
          "time": 1616486354.9487083
         },
         {
          "cpu_percent": 98,
          "cpu_time": 1.31,
          "name": "ReadCsvProjectSpace_1",
          "real_mem": 248291328,
          "time": 1616486354.9721859
         },
         {
          "cpu_percent": 0,
          "cpu_time": 1.3599999999999999,
          "name": "ReadCsvProjectSpace_1",
          "real_mem": 250617856,
          "time": 1616486355.1708944
         },
         {
          "cpu_percent": 0,
          "cpu_time": 1.3299999999999998,
          "name": "CustMercTS_1",
          "real_mem": 249102336,
          "time": 1616486355.0725064
         },
         {
          "cpu_percent": 0,
          "cpu_time": 1.38,
          "name": "CustMercTS_1",
          "real_mem": 253915136,
          "time": 1616486355.3494775
         },
         {
          "cpu_percent": 98,
          "cpu_time": 1.41,
          "name": "ReadCsvProjectSpace_1",
          "real_mem": 254451712,
          "time": 1616486355.373887
         },
         {
          "cpu_percent": 97.5,
          "cpu_time": 1.43,
          "name": "CustMercTS_1",
          "real_mem": 254451712,
          "time": 1616486355.473343
         },
         {
          "cpu_percent": 98.2,
          "cpu_time": 1.46,
          "name": "ReadCsvProjectSpace_1",
          "real_mem": 254791680,
          "time": 1616486355.572122
         },
         {
          "cpu_percent": 97.3,
          "cpu_time": 1.49,
          "name": "CustMercTS_1",
          "real_mem": 254791680,
          "time": 1616486355.6716065
         },
         {
          "cpu_percent": 97.1,
          "cpu_time": 1.52,
          "name": "ReadCsvProjectSpace_1",
          "real_mem": 255057920,
          "time": 1616486355.7725706
         },
         {
          "cpu_percent": 0,
          "cpu_time": 1.54,
          "name": "CustMercTS_1",
          "real_mem": 255242240,
          "time": 1616486355.9483693
         },
         {
          "cpu_percent": 94.4,
          "cpu_time": 1.56,
          "name": "ReadCsvProjectSpace_1",
          "real_mem": 255455232,
          "time": 1616486355.971354
         },
         {
          "cpu_percent": 0,
          "cpu_time": 1.58,
          "name": "CustMercTS_1",
          "real_mem": 255602688,
          "time": 1616486356.072659
         },
         {
          "cpu_percent": 11.3,
          "cpu_time": 1.61,
          "name": "ReadCsvProjectSpace_1",
          "real_mem": 255766528,
          "time": 1616486356.249602
         },
         {
          "cpu_percent": 98,
          "cpu_time": 1.64,
          "name": "CustMercTS_1",
          "real_mem": 255766528,
          "time": 1616486356.2725046
         },
         {
          "cpu_percent": 0,
          "cpu_time": 1.66,
          "name": "ReadCsvProjectSpace_1",
          "real_mem": 256004096,
          "time": 1616486356.4484828
         },
         {
          "cpu_percent": 22.8,
          "cpu_time": 1.69,
          "name": "CustMercTS_1",
          "real_mem": 256360448,
          "time": 1616486356.5485024
         },
         {
          "cpu_percent": 22.5,
          "cpu_time": 1.78,
          "name": "ReadCsvProjectSpace_1",
          "real_mem": 256786432,
          "time": 1616486356.8487184
         },
         {
          "cpu_percent": 0,
          "cpu_time": 1.81,
          "name": "CustMercTS_1",
          "real_mem": 257138688,
          "time": 1616486356.9485128
         },
         {
          "cpu_percent": 98,
          "cpu_time": 1.9,
          "name": "ReadCsvProjectSpace_1",
          "real_mem": 257466368,
          "time": 1616486357.171065
         },
         {
          "cpu_percent": 98.1,
          "cpu_time": 1.94,
          "name": "CustMercTS_1",
          "real_mem": 257593344,
          "time": 1616486357.2712774
         },
         {
          "cpu_percent": 98.4,
          "cpu_time": 2.01,
          "name": "ReadCsvProjectSpace_1",
          "real_mem": 257810432,
          "time": 1616486357.4702146
         },
         {
          "cpu_percent": 22.7,
          "cpu_time": 2.05,
          "name": "CustMercTS_1",
          "real_mem": 267808768,
          "time": 1616486357.6483383
         },
         {
          "cpu_percent": 98.5,
          "cpu_time": 2.08,
          "name": "ReadCsvProjectSpace_1",
          "real_mem": 273530880,
          "time": 1616486357.7708151
         },
         {
          "cpu_percent": 98.3,
          "cpu_time": 2.16,
          "name": "CustMercTS_1",
          "real_mem": 274092032,
          "time": 1616486357.9718513
         },
         {
          "cpu_percent": 195.5,
          "cpu_time": 2.19,
          "name": "ReadCsvProjectSpace_1",
          "real_mem": 274214912,
          "time": 1616486358.0712748
         },
         {
          "cpu_percent": 11.4,
          "cpu_time": 2.24,
          "name": "CustMercTS_1",
          "real_mem": 275075072,
          "time": 1616486358.3487055
         },
         {
          "cpu_percent": 97.7,
          "cpu_time": 2.27,
          "name": "ReadCsvProjectSpace_1",
          "real_mem": 279719936,
          "time": 1616486358.371344
         },
         {
          "cpu_percent": 0,
          "cpu_time": 2.36,
          "name": "CustMercTS_1",
          "real_mem": 280666112,
          "time": 1616486358.7487228
         },
         {
          "cpu_percent": 195.2,
          "cpu_time": 2.4,
          "name": "ReadCsvProjectSpace_1",
          "real_mem": 281288704,
          "time": 1616486358.7715142
         },
         {
          "cpu_percent": 11.4,
          "cpu_time": 2.5,
          "name": "CustMercTS_1",
          "real_mem": 281976832,
          "time": 1616486359.1486375
         },
         {
          "cpu_percent": 11.5,
          "cpu_time": 2.52,
          "name": "ReadCsvProjectSpace_1",
          "real_mem": 282198016,
          "time": 1616486359.2488186
         },
         {
          "cpu_percent": 98.7,
          "cpu_time": 2.61,
          "name": "CustMercTS_1",
          "real_mem": 283041792,
          "time": 1616486359.4696734
         },
         {
          "cpu_percent": 22.5,
          "cpu_time": 2.65,
          "name": "ReadCsvProjectSpace_1",
          "real_mem": 283303936,
          "time": 1616486359.648628
         },
         {
          "cpu_percent": 11.4,
          "cpu_time": 2.69,
          "name": "CustMercTS_1",
          "real_mem": 283631616,
          "time": 1616486359.8484967
         },
         {
          "cpu_percent": 11.4,
          "cpu_time": 2.75,
          "name": "ReadCsvProjectSpace_1",
          "real_mem": 284463104,
          "time": 1616486360.0486867
         },
         {
          "cpu_percent": 28.5,
          "cpu_time": 2.84,
          "name": "CustMercTS_1",
          "real_mem": 285044736,
          "time": 1616486360.2486598
         },
         {
          "cpu_percent": 98,
          "cpu_time": 2.91,
          "name": "ReadCsvProjectSpace_1",
          "real_mem": 285966336,
          "time": 1616486360.3707633
         },
         {
          "cpu_percent": 22.8,
          "cpu_time": 2.97,
          "name": "CustMercTS_1",
          "real_mem": 286113792,
          "time": 1616486360.6487675
         },
         {
          "cpu_percent": 22.9,
          "cpu_time": 3,
          "name": "ReadCsvProjectSpace_1",
          "real_mem": 286412800,
          "time": 1616486360.748823
         },
         {
          "cpu_percent": 98.1,
          "cpu_time": 3.0999999999999996,
          "name": "CustMercTS_1",
          "real_mem": 287338496,
          "time": 1616486360.971048
         },
         {
          "cpu_percent": 11.5,
          "cpu_time": 3.13,
          "name": "ReadCsvProjectSpace_1",
          "real_mem": 287797248,
          "time": 1616486361.148674
         },
         {
          "cpu_percent": 11.4,
          "cpu_time": 3.17,
          "name": "CustMercTS_1",
          "real_mem": 288165888,
          "time": 1616486361.3487103
         },
         {
          "cpu_percent": 11.3,
          "cpu_time": 3.22,
          "name": "ReadCsvProjectSpace_1",
          "real_mem": 288870400,
          "time": 1616486361.548538
         },
         {
          "cpu_percent": 11.2,
          "cpu_time": 3.27,
          "name": "CustMercTS_1",
          "real_mem": 289267712,
          "time": 1616486361.748733
         },
         {
          "cpu_percent": 98.3,
          "cpu_time": 3.35,
          "name": "ReadCsvProjectSpace_1",
          "real_mem": 289726464,
          "time": 1616486361.8707979
         },
         {
          "cpu_percent": 11.3,
          "cpu_time": 3.38,
          "name": "CustMercTS_1",
          "real_mem": 290963456,
          "time": 1616486362.1485379
         },
         {
          "cpu_percent": 294.5,
          "cpu_time": 3.42,
          "name": "ReadCsvProjectSpace_1",
          "real_mem": 289411072,
          "time": 1616486362.1714268
         },
         {
          "cpu_percent": 98.4,
          "cpu_time": 3.5300000000000002,
          "name": "ReadCsvProjectSpace_1",
          "real_mem": 290131968,
          "time": 1616486362.5711071
         },
         {
          "cpu_percent": 11.4,
          "cpu_time": 3.5100000000000002,
          "name": "CustMercTS_1",
          "real_mem": 289865728,
          "time": 1616486362.548732
         },
         {
          "cpu_percent": 11.4,
          "cpu_time": 3.66,
          "name": "ReadCsvProjectSpace_1",
          "real_mem": 290918400,
          "time": 1616486363.048423
         },
         {
          "cpu_percent": 196.2,
          "cpu_time": 3.64,
          "name": "CustMercTS_1",
          "real_mem": 290721792,
          "time": 1616486362.8706963
         },
         {
          "cpu_percent": 11.6,
          "cpu_time": 3.73,
          "name": "CustMercTS_1",
          "real_mem": 291459072,
          "time": 1616486363.2484384
         },
         {
          "cpu_percent": 196.8,
          "cpu_time": 3.81,
          "name": "ReadCsvProjectSpace_1",
          "real_mem": 291717120,
          "time": 1616486363.3720145
         },
         {
          "cpu_percent": 97.1,
          "cpu_time": 3.87,
          "name": "CustMercTS_1",
          "real_mem": 292847616,
          "time": 1616486363.5714593
         },
         {
          "cpu_percent": 98.7,
          "cpu_time": 3.89,
          "name": "ReadCsvProjectSpace_1",
          "real_mem": 293203968,
          "time": 1616486363.6707175
         },
         {
          "cpu_percent": 11.4,
          "cpu_time": 3.96,
          "name": "CustMercTS_1",
          "real_mem": 293236736,
          "time": 1616486363.9486122
         },
         {
          "cpu_percent": 193.6,
          "cpu_time": 4.01,
          "name": "ReadCsvProjectSpace_1",
          "real_mem": 293654528,
          "time": 1616486363.971401
         },
         {
          "cpu_percent": 11.4,
          "cpu_time": 4.13,
          "name": "CustMercTS_1",
          "real_mem": 294146048,
          "time": 1616486364.3486307
         },
         {
          "cpu_percent": 98,
          "cpu_time": 4.15,
          "name": "ReadCsvProjectSpace_1",
          "real_mem": 294146048,
          "time": 1616486364.3718963
         },
         {
          "cpu_percent": 11.3,
          "cpu_time": 4.26,
          "name": "CustMercTS_1",
          "real_mem": 294813696,
          "time": 1616486364.7483523
         },
         {
          "cpu_percent": 11.4,
          "cpu_time": 4.3,
          "name": "ReadCsvProjectSpace_1",
          "real_mem": 295104512,
          "time": 1616486364.8485136
         },
         {
          "cpu_percent": 11.5,
          "cpu_time": 4.42,
          "name": "CustMercTS_1",
          "real_mem": 296407040,
          "time": 1616486365.1484478
         },
         {
          "cpu_percent": 11.4,
          "cpu_time": 4.46,
          "name": "ReadCsvProjectSpace_1",
          "real_mem": 296898560,
          "time": 1616486365.2485478
         },
         {
          "cpu_percent": 97.7,
          "cpu_time": 4.57,
          "name": "CustMercTS_1",
          "real_mem": 298172416,
          "time": 1616486365.4710274
         },
         {
          "cpu_percent": 11.6,
          "cpu_time": 4.63,
          "name": "ReadCsvProjectSpace_1",
          "real_mem": 298000384,
          "time": 1616486365.6486287
         },
         {
          "cpu_percent": 98,
          "cpu_time": 4.699999999999999,
          "name": "CustMercTS_1",
          "real_mem": 298233856,
          "time": 1616486365.770441
         },
         {
          "cpu_percent": 97.5,
          "cpu_time": 4.79,
          "name": "ReadCsvProjectSpace_1",
          "real_mem": 298536960,
          "time": 1616486365.9695148
         },
         {
          "cpu_percent": 293.1,
          "cpu_time": 4.840000000000001,
          "name": "CustMercTS_1",
          "real_mem": 298536960,
          "time": 1616486366.0711935
         },
         {
          "cpu_percent": 98.5,
          "cpu_time": 4.920000000000001,
          "name": "ReadCsvProjectSpace_1",
          "real_mem": 298844160,
          "time": 1616486366.2708523
         },
         {
          "cpu_percent": 98.2,
          "cpu_time": 4.96,
          "name": "CustMercTS_1",
          "real_mem": 299126784,
          "time": 1616486366.371224
         },
         {
          "cpu_percent": 97.3,
          "cpu_time": 5.0600000000000005,
          "name": "ReadCsvProjectSpace_1",
          "real_mem": 301056000,
          "time": 1616486366.6706777
         },
         {
          "cpu_percent": 98.3,
          "cpu_time": 5.1,
          "name": "CustMercTS_1",
          "real_mem": 301064192,
          "time": 1616486366.7484117
         },
         {
          "cpu_percent": 180.6,
          "cpu_time": 5.35,
          "name": "ReadCsvProjectSpace_1",
          "real_mem": 304041984,
          "time": 1616486367.3494575
         },
         {
          "cpu_percent": 193.6,
          "cpu_time": 5.39,
          "name": "CustMercTS_1",
          "real_mem": 304308224,
          "time": 1616486367.3718195
         },
         {
          "cpu_percent": 98,
          "cpu_time": 5.6499999999999995,
          "name": "ReadCsvProjectSpace_1",
          "real_mem": 307838976,
          "time": 1616486367.8739462
         },
         {
          "cpu_percent": 290.6,
          "cpu_time": 5.6899999999999995,
          "name": "CustMercTS_1",
          "real_mem": 312160256,
          "time": 1616486367.959172
         },
         {
          "cpu_percent": 0,
          "cpu_time": 5.890000000000001,
          "name": "ReadCsvProjectSpace_1",
          "real_mem": 314286080,
          "time": 1616486368.3992593
         },
         {
          "cpu_percent": 98.4,
          "cpu_time": 5.92,
          "name": "CustMercTS_1",
          "real_mem": 315117568,
          "time": 1616486368.4821286
         },
         {
          "cpu_percent": 193,
          "cpu_time": 6.18,
          "name": "ReadCsvProjectSpace_1",
          "real_mem": 317911040,
          "time": 1616486368.9701347
         },
         {
          "cpu_percent": 194,
          "cpu_time": 6.24,
          "name": "CustMercTS_1",
          "real_mem": 318271488,
          "time": 1616486369.0703986
         },
         {
          "cpu_percent": 114.1,
          "cpu_time": 6.470000000000001,
          "name": "ReadCsvProjectSpace_1",
          "real_mem": 320364544,
          "time": 1616486369.548393
         },
         {
          "cpu_percent": 196.4,
          "cpu_time": 6.55,
          "name": "CustMercTS_1",
          "real_mem": 321138688,
          "time": 1616486369.658961
         },
         {
          "cpu_percent": 196.6,
          "cpu_time": 6.75,
          "name": "ReadCsvProjectSpace_1",
          "real_mem": 323887104,
          "time": 1616486370.071867
         },
         {
          "cpu_percent": 13.4,
          "cpu_time": 6.84,
          "name": "CustMercTS_1",
          "real_mem": 325115904,
          "time": 1616486370.2484705
         },
         {
          "cpu_percent": 11.5,
          "cpu_time": 7.08,
          "name": "ReadCsvProjectSpace_1",
          "real_mem": 325709824,
          "time": 1616486370.7485564
         },
         {
          "cpu_percent": 11.5,
          "cpu_time": 7.1,
          "name": "CustMercTS_1",
          "real_mem": 325816320,
          "time": 1616486370.8483298
         },
         {
          "cpu_percent": 192.3,
          "cpu_time": 7.29,
          "name": "ReadCsvProjectSpace_1",
          "real_mem": 327856128,
          "time": 1616486371.2728646
         },
         {
          "cpu_percent": 98.3,
          "cpu_time": 7.31,
          "name": "CustMercTS_1",
          "real_mem": 328077312,
          "time": 1616486371.3708475
         },
         {
          "cpu_percent": 195.1,
          "cpu_time": 7.58,
          "name": "CustMercTS_1",
          "real_mem": 329035776,
          "time": 1616486371.9698966
         },
         {
          "cpu_percent": 98.3,
          "cpu_time": 7.539999999999999,
          "name": "ReadCsvProjectSpace_1",
          "real_mem": 328790016,
          "time": 1616486371.8716593
         },
         {
          "cpu_percent": 98.2,
          "cpu_time": 7.76,
          "name": "ReadCsvProjectSpace_1",
          "real_mem": 334516224,
          "time": 1616486372.4692633
         },
         {
          "cpu_percent": 196.4,
          "cpu_time": 7.800000000000001,
          "name": "CustMercTS_1",
          "real_mem": 334520320,
          "time": 1616486372.55935
         },
         {
          "cpu_percent": 189.5,
          "cpu_time": 8.06,
          "name": "ReadCsvProjectSpace_1",
          "real_mem": 338550784,
          "time": 1616486373.1486459
         },
         {
          "cpu_percent": 195.8,
          "cpu_time": 8.1,
          "name": "CustMercTS_1",
          "real_mem": 338800640,
          "time": 1616486373.1713164
         },
         {
          "cpu_percent": 195.5,
          "cpu_time": 8.33,
          "name": "ReadCsvProjectSpace_1",
          "real_mem": 342638592,
          "time": 1616486373.6723404
         },
         {
          "cpu_percent": 11.3,
          "cpu_time": 8.379999999999999,
          "name": "CustMercTS_1",
          "real_mem": 343588864,
          "time": 1616486373.848521
         },
         {
          "cpu_percent": 197.1,
          "cpu_time": 8.620000000000001,
          "name": "ReadCsvProjectSpace_1",
          "real_mem": 351162368,
          "time": 1616486374.270823
         },
         {
          "cpu_percent": 196.1,
          "cpu_time": 8.690000000000001,
          "name": "CustMercTS_1",
          "real_mem": 352980992,
          "time": 1616486374.3725207
         },
         {
          "cpu_percent": 97.8,
          "cpu_time": 9,
          "name": "CustMercTS_1",
          "real_mem": 360644608,
          "time": 1616486374.971899
         },
         {
          "cpu_percent": 22.8,
          "cpu_time": 8.950000000000001,
          "name": "ReadCsvProjectSpace_1",
          "real_mem": 360534016,
          "time": 1616486374.9487076
         },
         {
          "cpu_percent": 98.1,
          "cpu_time": 9.25,
          "name": "ReadCsvProjectSpace_1",
          "real_mem": 367652864,
          "time": 1616486375.4738386
         },
         {
          "cpu_percent": 196.3,
          "cpu_time": 9.3,
          "name": "CustMercTS_1",
          "real_mem": 370126848,
          "time": 1616486375.5716467
         },
         {
          "cpu_percent": 22.9,
          "cpu_time": 9.530000000000001,
          "name": "ReadCsvProjectSpace_1",
          "real_mem": 372805632,
          "time": 1616486376.1485302
         },
         {
          "cpu_percent": 22.7,
          "cpu_time": 9.57,
          "name": "CustMercTS_1",
          "real_mem": 373071872,
          "time": 1616486376.2487273
         },
         {
          "cpu_percent": 96.7,
          "cpu_time": 9.8,
          "name": "ReadCsvProjectSpace_1",
          "real_mem": 374947840,
          "time": 1616486376.6725516
         },
         {
          "cpu_percent": 22.9,
          "cpu_time": 9.85,
          "name": "CustMercTS_1",
          "real_mem": 377106432,
          "time": 1616486376.8492365
         },
         {
          "cpu_percent": 0,
          "cpu_time": 10.03,
          "name": "ReadCsvProjectSpace_1",
          "real_mem": 379813888,
          "time": 1616486377.2485821
         },
         {
          "cpu_percent": 97.6,
          "cpu_time": 10.12,
          "name": "CustMercTS_1",
          "real_mem": 380080128,
          "time": 1616486377.3740516
         },
         {
          "cpu_percent": 0,
          "cpu_time": 10.29,
          "name": "ReadCsvProjectSpace_1",
          "real_mem": 382103552,
          "time": 1616486377.8484795
         },
         {
          "cpu_percent": 22.8,
          "cpu_time": 10.37,
          "name": "CustMercTS_1",
          "real_mem": 382369792,
          "time": 1616486378.0486267
         },
         {
          "cpu_percent": 23.2,
          "cpu_time": 10.549999999999999,
          "name": "ReadCsvProjectSpace_1",
          "real_mem": 383787008,
          "time": 1616486378.4484465
         },
         {
          "cpu_percent": 195.5,
          "cpu_time": 10.639999999999999,
          "name": "CustMercTS_1",
          "real_mem": 384454656,
          "time": 1616486378.571636
         },
         {
          "cpu_percent": 192.4,
          "cpu_time": 11.09,
          "name": "ReadCsvProjectSpace_1",
          "real_mem": 387715072,
          "time": 1616486379.4727702
         },
         {
          "cpu_percent": 22.7,
          "cpu_time": 11.18,
          "name": "CustMercTS_1",
          "real_mem": 388046848,
          "time": 1616486379.7486856
         },
         {
          "cpu_percent": 196.3,
          "cpu_time": 11.629999999999999,
          "name": "ReadCsvProjectSpace_1",
          "real_mem": 391421952,
          "time": 1616486380.5708096
         },
         {
          "cpu_percent": 97.1,
          "cpu_time": 11.7,
          "name": "CustMercTS_1",
          "real_mem": 395202560,
          "time": 1616486380.772862
         },
         {
          "cpu_percent": 15.7,
          "cpu_time": 12.09,
          "name": "ReadCsvProjectSpace_1",
          "real_mem": 398917632,
          "time": 1616486381.6484764
         },
         {
          "cpu_percent": 197,
          "cpu_time": 12.25,
          "name": "CustMercTS_1",
          "real_mem": 399441920,
          "time": 1616486381.8708346
         },
         {
          "cpu_percent": 196.4,
          "cpu_time": 12.81,
          "name": "ReadCsvProjectSpace_1",
          "real_mem": 405413888,
          "time": 1616486382.673719
         },
         {
          "cpu_percent": 195.6,
          "cpu_time": 13.06,
          "name": "CustMercTS_1",
          "real_mem": 409001984,
          "time": 1616486382.970738
         },
         {
          "cpu_percent": 0,
          "cpu_time": 13.690000000000001,
          "name": "ReadCsvProjectSpace_1",
          "real_mem": 415981568,
          "time": 1616486383.6984665
         },
         {
          "cpu_percent": 0,
          "cpu_time": 13.92,
          "name": "CustMercTS_1",
          "real_mem": 417394688,
          "time": 1616486384.0483675
         },
         {
          "cpu_percent": 293.9,
          "cpu_time": 14.51,
          "name": "ReadCsvProjectSpace_1",
          "real_mem": 426164224,
          "time": 1616486384.7222853
         },
         {
          "cpu_percent": 0,
          "cpu_time": 14.77,
          "name": "CustMercTS_1",
          "real_mem": 428847104,
          "time": 1616486385.07416
         },
         {
          "cpu_percent": 196.9,
          "cpu_time": 15.41,
          "name": "ReadCsvProjectSpace_1",
          "real_mem": 432480256,
          "time": 1616486385.7700164
         },
         {
          "cpu_percent": 294.2,
          "cpu_time": 15.75,
          "name": "CustMercTS_1",
          "real_mem": 436027392,
          "time": 1616486386.0981483
         },
         {
          "cpu_percent": 196.3,
          "cpu_time": 16.43,
          "name": "ReadCsvProjectSpace_1",
          "real_mem": 440291328,
          "time": 1616486386.7934153
         },
         {
          "cpu_percent": 294.4,
          "cpu_time": 16.770000000000003,
          "name": "CustMercTS_1",
          "real_mem": 441585664,
          "time": 1616486387.1707537
         },
         {
          "cpu_percent": 197.4,
          "cpu_time": 17.380000000000003,
          "name": "ReadCsvProjectSpace_1",
          "real_mem": 445538304,
          "time": 1616486387.8176212
         },
         {
          "cpu_percent": 98.4,
          "cpu_time": 17.75,
          "name": "CustMercTS_1",
          "real_mem": 447344640,
          "time": 1616486388.1938436
         },
         {
          "cpu_percent": 98,
          "cpu_time": 18.39,
          "name": "ReadCsvProjectSpace_1",
          "real_mem": 454369280,
          "time": 1616486388.8693576
         },
         {
          "cpu_percent": 196.1,
          "cpu_time": 18.81,
          "name": "CustMercTS_1",
          "real_mem": 457461760,
          "time": 1616486389.270337
         },
         {
          "cpu_percent": 30.3,
          "cpu_time": 19.43,
          "name": "ReadCsvProjectSpace_1",
          "real_mem": 460320768,
          "time": 1616486389.948575
         },
         {
          "cpu_percent": 30.9,
          "cpu_time": 19.81,
          "name": "CustMercTS_1",
          "real_mem": 464912384,
          "time": 1616486390.3484738
         },
         {
          "cpu_percent": 98.6,
          "cpu_time": 20.43,
          "name": "ReadCsvProjectSpace_1",
          "real_mem": 471781376,
          "time": 1616486390.9724214
         },
         {
          "cpu_percent": 393.8,
          "cpu_time": 20.86,
          "name": "CustMercTS_1",
          "real_mem": 474664960,
          "time": 1616486391.3721197
         },
         {
          "cpu_percent": 97.8,
          "cpu_time": 21.47,
          "name": "ReadCsvProjectSpace_1",
          "real_mem": 478687232,
          "time": 1616486391.9963408
         },
         {
          "cpu_percent": 31.4,
          "cpu_time": 21.849999999999998,
          "name": "CustMercTS_1",
          "real_mem": 481308672,
          "time": 1616486392.4486346
         },
         {
          "cpu_percent": 98.2,
          "cpu_time": 22.45,
          "name": "ReadCsvProjectSpace_1",
          "real_mem": 487673856,
          "time": 1616486393.0707505
         },
         {
          "cpu_percent": 196.6,
          "cpu_time": 22.87,
          "name": "CustMercTS_1",
          "real_mem": 489472000,
          "time": 1616486393.4725575
         },
         {
          "cpu_percent": 196.2,
          "cpu_time": 23.48,
          "name": "ReadCsvProjectSpace_1",
          "real_mem": 490586112,
          "time": 1616486394.0941756
         },
         {
          "cpu_percent": 0,
          "cpu_time": 23.86,
          "name": "CustMercTS_1",
          "real_mem": 491540480,
          "time": 1616486394.4956834
         },
         {
          "cpu_percent": 294,
          "cpu_time": 24.87,
          "name": "CustMercTS_1",
          "real_mem": 525565952,
          "time": 1616486395.570041
         },
         {
          "cpu_percent": 190.6,
          "cpu_time": 25.89,
          "name": "CustMercTS_1",
          "real_mem": 527949824,
          "time": 1616486396.5935822
         },
         {
          "cpu_percent": 98.7,
          "cpu_time": 26.9,
          "name": "CustMercTS_1",
          "real_mem": 529907712,
          "time": 1616486397.6707711
         },
         {
          "cpu_percent": 196,
          "cpu_time": 27.919999999999998,
          "name": "CustMercTS_1",
          "real_mem": 531779584,
          "time": 1616486398.694015
         },
         {
          "cpu_percent": 98.7,
          "cpu_time": 28.89,
          "name": "CustMercTS_1",
          "real_mem": 535957504,
          "time": 1616486399.717445
         },
         {
          "cpu_percent": 195.7,
          "cpu_time": 29.900000000000002,
          "name": "CustMercTS_1",
          "real_mem": 537661440,
          "time": 1616486400.7703454
         },
         {
          "cpu_percent": 294.3,
          "cpu_time": 31.02,
          "name": "CustMercTS_1",
          "real_mem": 541364224,
          "time": 1616486401.8701515
         },
         {
          "cpu_percent": 98,
          "cpu_time": 31.99,
          "name": "CustMercTS_1",
          "real_mem": 578490368,
          "time": 1616486402.893806
         },
         {
          "cpu_percent": 294.4,
          "cpu_time": 33.03,
          "name": "CustMercTS_1",
          "real_mem": 590774272,
          "time": 1616486403.9703553
         },
         {
          "cpu_percent": 0,
          "cpu_time": 34.03,
          "name": "CustMercTS_1",
          "real_mem": 606396416,
          "time": 1616486404.9944115
         },
         {
          "cpu_percent": 391.8,
          "cpu_time": 35.07,
          "name": "CustMercTS_1",
          "real_mem": 608436224,
          "time": 1616486406.0704906
         },
         {
          "cpu_percent": 98.3,
          "cpu_time": 36.080000000000005,
          "name": "CustMercTS_1",
          "real_mem": 609673216,
          "time": 1616486407.0938127
         },
         {
          "cpu_percent": 295,
          "cpu_time": 37.11,
          "name": "CustMercTS_1",
          "real_mem": 611684352,
          "time": 1616486408.170272
         },
         {
          "cpu_percent": 98,
          "cpu_time": 38.129999999999995,
          "name": "CustMercTS_1",
          "real_mem": 613040128,
          "time": 1616486409.19378
         },
         {
          "cpu_percent": 0,
          "cpu_time": 39.43,
          "name": "CustMercTS_1",
          "real_mem": 618799104,
          "time": 1616486410.596157
         },
         {
          "cpu_percent": 98.6,
          "cpu_time": 40.32,
          "name": "CustMercTS_1",
          "real_mem": 621256704,
          "time": 1616486411.6694462
         },
         {
          "cpu_percent": 196.3,
          "cpu_time": 41.33,
          "name": "CustMercTS_1",
          "real_mem": 624955392,
          "time": 1616486412.693318
         },
         {
          "cpu_percent": 294,
          "cpu_time": 42.4,
          "name": "CustMercTS_1",
          "real_mem": 628600832,
          "time": 1616486413.7693944
         },
         {
          "cpu_percent": 0,
          "cpu_time": 43.41,
          "name": "CustMercTS_1",
          "real_mem": 662925312,
          "time": 1616486414.8487704
         },
         {
          "cpu_percent": 196.1,
          "cpu_time": 44.44,
          "name": "CustMercTS_1",
          "real_mem": 663445504,
          "time": 1616486415.8728511
         },
         {
          "cpu_percent": 294.3,
          "cpu_time": 45.45,
          "name": "CustMercTS_1",
          "real_mem": 663814144,
          "time": 1616486416.896176
         },
         {
          "cpu_percent": 294.5,
          "cpu_time": 46.49,
          "name": "CustMercTS_1",
          "real_mem": 665280512,
          "time": 1616486417.9711483
         }
        ],
        "logs": [
         {
          "asctime": "2021-03-23 07:59:09,448",
          "created": 1616486349.4488676,
          "extra": {},
          "filename": "async_executors.py",
          "funcName": "main",
          "levelname": "DEBUG",
          "lineno": 114,
          "message": "NonSparkPath_1: started async block execution\n",
          "name": "engine.logs:NonSparkPath_1",
          "pathname": "/usr/local/lib/python3.7/dist-packages/razor/flow/async_executors.py",
          "process": 8176,
          "processName": "ForkProcess-1:1",
          "thread": 140363586545472,
          "threadName": "MainThread"
         },
         {
          "asctime": "2021-03-23 07:59:09,468",
          "created": 1616486349.4686816,
          "extra": {},
          "filename": "async_executors.py",
          "funcName": "fill_atomic_inputs",
          "levelname": "INFO",
          "lineno": 250,
          "message": "NonSparkPath_1: waiting for atomic input: ip_path",
          "name": "engine.logs:NonSparkPath_1",
          "pathname": "/usr/local/lib/python3.7/dist-packages/razor/flow/async_executors.py",
          "process": 8176,
          "processName": "ForkProcess-1:1",
          "thread": 140363586545472,
          "threadName": "MainThread"
         },
         {
          "asctime": "2021-03-23 07:59:09,468",
          "created": 1616486349.4689152,
          "extra": {},
          "filename": "async_executors.py",
          "funcName": "fill_atomic_inputs",
          "levelname": "DEBUG",
          "lineno": 253,
          "message": "NonSparkPath_1: got atomic input: customer_data.csv",
          "name": "engine.logs:NonSparkPath_1",
          "pathname": "/usr/local/lib/python3.7/dist-packages/razor/flow/async_executors.py",
          "process": 8176,
          "processName": "ForkProcess-1:1",
          "thread": 140363586545472,
          "threadName": "MainThread"
         },
         {
          "asctime": "2021-03-23 07:59:09,469",
          "created": 1616486349.4690306,
          "extra": {},
          "filename": "async_executors.py",
          "funcName": "main",
          "levelname": "DEBUG",
          "lineno": 130,
          "message": "NonSparkPath_1: triggering block run",
          "name": "engine.logs:NonSparkPath_1",
          "pathname": "/usr/local/lib/python3.7/dist-packages/razor/flow/async_executors.py",
          "process": 8176,
          "processName": "ForkProcess-1:1",
          "thread": 140363586545472,
          "threadName": "MainThread"
         },
         {
          "asctime": "2021-03-23 07:59:09,851",
          "created": 1616486349.8518054,
          "extra": {},
          "filename": "async_executors.py",
          "funcName": "distribute_output_queue",
          "levelname": "DEBUG",
          "lineno": 308,
          "message": "NonSparkPath_1: ---- dist output: /home/aios/projectspace/customer_data.csv -> ('ReadCsvProjectSpace_1', 'filename')",
          "name": "engine.logs:NonSparkPath_1",
          "pathname": "/usr/local/lib/python3.7/dist-packages/razor/flow/async_executors.py",
          "process": 8176,
          "processName": "ForkProcess-1:1",
          "thread": 140363586545472,
          "threadName": "MainThread"
         },
         {
          "asctime": "2021-03-23 07:59:09,852",
          "created": 1616486349.8521295,
          "extra": {},
          "filename": "async_executors.py",
          "funcName": "main",
          "levelname": "DEBUG",
          "lineno": 147,
          "message": "NonSparkPath_1: block thread completed",
          "name": "engine.logs:NonSparkPath_1",
          "pathname": "/usr/local/lib/python3.7/dist-packages/razor/flow/async_executors.py",
          "process": 8176,
          "processName": "ForkProcess-1:1",
          "thread": 140363586545472,
          "threadName": "MainThread"
         },
         {
          "asctime": "2021-03-23 07:59:09,852",
          "created": 1616486349.852214,
          "extra": {},
          "filename": "async_executors.py",
          "funcName": "main",
          "levelname": "DEBUG",
          "lineno": 149,
          "message": "NonSparkPath_1: block execution complete",
          "name": "engine.logs:NonSparkPath_1",
          "pathname": "/usr/local/lib/python3.7/dist-packages/razor/flow/async_executors.py",
          "process": 8176,
          "processName": "ForkProcess-1:1",
          "thread": 140363586545472,
          "threadName": "MainThread"
         },
         {
          "asctime": "2021-03-23 07:59:09,852",
          "created": 1616486349.8523335,
          "extra": {},
          "filename": "async_executors.py",
          "funcName": "distribute_output_queue",
          "levelname": "DEBUG",
          "lineno": 308,
          "message": "NonSparkPath_1: ---- dist output: b'__!\\tEndOfStream\\t!__' -> ('ReadCsvProjectSpace_1', 'filename')",
          "name": "engine.logs:NonSparkPath_1",
          "pathname": "/usr/local/lib/python3.7/dist-packages/razor/flow/async_executors.py",
          "process": 8176,
          "processName": "ForkProcess-1:1",
          "thread": 140363586545472,
          "threadName": "MainThread"
         },
         {
          "asctime": "2021-03-23 07:59:09,959",
          "created": 1616486349.959295,
          "extra": {},
          "filename": "async_executors.py",
          "funcName": "main",
          "levelname": "DEBUG",
          "lineno": 114,
          "message": "CustMercTS_1: started async block execution\n",
          "name": "engine.logs:CustMercTS_1",
          "pathname": "/usr/local/lib/python3.7/dist-packages/razor/flow/async_executors.py",
          "process": 8186,
          "processName": "ForkProcess-1:2",
          "thread": 140363586545472,
          "threadName": "MainThread"
         },
         {
          "asctime": "2021-03-23 07:59:09,957",
          "created": 1616486349.9575725,
          "extra": {},
          "filename": "async_executors.py",
          "funcName": "main",
          "levelname": "DEBUG",
          "lineno": 114,
          "message": "ReadCsvProjectSpace_1: started async block execution\n",
          "name": "engine.logs:ReadCsvProjectSpace_1",
          "pathname": "/usr/local/lib/python3.7/dist-packages/razor/flow/async_executors.py",
          "process": 8186,
          "processName": "ForkProcess-1:2",
          "thread": 140363586545472,
          "threadName": "MainThread"
         },
         {
          "asctime": "2021-03-23 07:59:10,155",
          "created": 1616486350.1553786,
          "extra": {},
          "filename": "async_executors.py",
          "funcName": "start_input_receiver",
          "levelname": "DEBUG",
          "lineno": 173,
          "message": "NonSparkPath_1: received cmd: start_sender, (), {'out_name': 'op_path', 'target': ('ReadCsvProjectSpace_1', 'filename'), 'out_addr': 'tcp://0.0.0.0:52748', 'in_memory': None}",
          "name": "engine.logs:NonSparkPath_1",
          "pathname": "/usr/local/lib/python3.7/dist-packages/razor/flow/async_executors.py",
          "process": 8176,
          "processName": "ForkProcess-1:1",
          "thread": 140363586545472,
          "threadName": "MainThread"
         },
         {
          "asctime": "2021-03-23 07:59:10,155",
          "created": 1616486350.155859,
          "extra": {},
          "filename": "async_executors.py",
          "funcName": "start_output_sender",
          "levelname": "DEBUG",
          "lineno": 370,
          "message": "NonSparkPath_1: got start_sender, op_path, ('ReadCsvProjectSpace_1', 'filename')",
          "name": "engine.logs:NonSparkPath_1",
          "pathname": "/usr/local/lib/python3.7/dist-packages/razor/flow/async_executors.py",
          "process": 8176,
          "processName": "ForkProcess-1:1",
          "thread": 140363586545472,
          "threadName": "MainThread"
         },
         {
          "asctime": "2021-03-23 07:59:10,157",
          "created": 1616486350.1574318,
          "extra": {},
          "filename": "async_executors.py",
          "funcName": "start_output_sender",
          "levelname": "DEBUG",
          "lineno": 388,
          "message": "NonSparkPath_1: SENT, filename, /home/aios/projectspace/customer_data.csv, ('ReadCsvProjectSpace_1', 'filename')",
          "name": "engine.logs:NonSparkPath_1",
          "pathname": "/usr/local/lib/python3.7/dist-packages/razor/flow/async_executors.py",
          "process": 8176,
          "processName": "ForkProcess-1:1",
          "thread": 140363586545472,
          "threadName": "MainThread"
         },
         {
          "asctime": "2021-03-23 07:59:10,158",
          "created": 1616486350.1584382,
          "extra": {},
          "filename": "async_executors.py",
          "funcName": "start_output_sender",
          "levelname": "DEBUG",
          "lineno": 388,
          "message": "NonSparkPath_1: SENT, filename, b'__!\\tEndOfStream\\t!__', ('ReadCsvProjectSpace_1', 'filename')",
          "name": "engine.logs:NonSparkPath_1",
          "pathname": "/usr/local/lib/python3.7/dist-packages/razor/flow/async_executors.py",
          "process": 8176,
          "processName": "ForkProcess-1:1",
          "thread": 140363586545472,
          "threadName": "MainThread"
         },
         {
          "asctime": "2021-03-23 07:59:10,159",
          "created": 1616486350.1590173,
          "extra": {},
          "filename": "async_executors.py",
          "funcName": "start_output_sender",
          "levelname": "DEBUG",
          "lineno": 391,
          "message": "NonSparkPath_1: completed output: ('op_path', ('ReadCsvProjectSpace_1', 'filename'))",
          "name": "engine.logs:NonSparkPath_1",
          "pathname": "/usr/local/lib/python3.7/dist-packages/razor/flow/async_executors.py",
          "process": 8176,
          "processName": "ForkProcess-1:1",
          "thread": 140363586545472,
          "threadName": "MainThread"
         },
         {
          "asctime": "2021-03-23 07:59:10,049",
          "created": 1616486350.0498993,
          "extra": {},
          "filename": "async_executors.py",
          "funcName": "fill_atomic_inputs",
          "levelname": "INFO",
          "lineno": 250,
          "message": "ReadCsvProjectSpace_1: waiting for atomic input: filename",
          "name": "engine.logs:ReadCsvProjectSpace_1",
          "pathname": "/usr/local/lib/python3.7/dist-packages/razor/flow/async_executors.py",
          "process": 8186,
          "processName": "ForkProcess-1:2",
          "thread": 140363586545472,
          "threadName": "MainThread"
         },
         {
          "asctime": "2021-03-23 07:59:10,148",
          "created": 1616486350.1482182,
          "extra": {},
          "filename": "async_executors.py",
          "funcName": "fill_atomic_inputs",
          "levelname": "INFO",
          "lineno": 250,
          "message": "CustMercTS_1: waiting for atomic input: ip_data",
          "name": "engine.logs:CustMercTS_1",
          "pathname": "/usr/local/lib/python3.7/dist-packages/razor/flow/async_executors.py",
          "process": 8186,
          "processName": "ForkProcess-1:2",
          "thread": 140363586545472,
          "threadName": "MainThread"
         },
         {
          "asctime": "2021-03-23 07:59:10,166",
          "created": 1616486350.1661522,
          "extra": {},
          "filename": "async_executors.py",
          "funcName": "start_input_receiver",
          "levelname": "DEBUG",
          "lineno": 173,
          "message": "NonSparkPath_1: received cmd: terminate, (), {}",
          "name": "engine.logs:NonSparkPath_1",
          "pathname": "/usr/local/lib/python3.7/dist-packages/razor/flow/async_executors.py",
          "process": 8176,
          "processName": "ForkProcess-1:1",
          "thread": 140363586545472,
          "threadName": "MainThread"
         },
         {
          "asctime": "2021-03-23 07:59:10,164",
          "created": 1616486350.164166,
          "extra": {},
          "filename": "async_executors.py",
          "funcName": "start_input_receiver",
          "levelname": "DEBUG",
          "lineno": 177,
          "message": "ReadCsvProjectSpace_1: received data: filename, /home/aios/projectspace/customer_data.csv",
          "name": "engine.logs:ReadCsvProjectSpace_1",
          "pathname": "/usr/local/lib/python3.7/dist-packages/razor/flow/async_executors.py",
          "process": 8186,
          "processName": "ForkProcess-1:2",
          "thread": 140363586545472,
          "threadName": "MainThread"
         },
         {
          "asctime": "2021-03-23 07:59:10,164",
          "created": 1616486350.1646287,
          "extra": {},
          "filename": "async_executors.py",
          "funcName": "start_input_receiver",
          "levelname": "DEBUG",
          "lineno": 177,
          "message": "ReadCsvProjectSpace_1: received data: filename, b'__!\\tEndOfStream\\t!__'",
          "name": "engine.logs:ReadCsvProjectSpace_1",
          "pathname": "/usr/local/lib/python3.7/dist-packages/razor/flow/async_executors.py",
          "process": 8186,
          "processName": "ForkProcess-1:2",
          "thread": 140363586545472,
          "threadName": "MainThread"
         },
         {
          "asctime": "2021-03-23 07:59:10,164",
          "created": 1616486350.164958,
          "extra": {},
          "filename": "async_executors.py",
          "funcName": "fill_atomic_inputs",
          "levelname": "DEBUG",
          "lineno": 253,
          "message": "ReadCsvProjectSpace_1: got atomic input: /home/aios/projectspace/customer_data.csv",
          "name": "engine.logs:ReadCsvProjectSpace_1",
          "pathname": "/usr/local/lib/python3.7/dist-packages/razor/flow/async_executors.py",
          "process": 8186,
          "processName": "ForkProcess-1:2",
          "thread": 140363586545472,
          "threadName": "MainThread"
         },
         {
          "asctime": "2021-03-23 07:59:10,165",
          "created": 1616486350.1650643,
          "extra": {},
          "filename": "async_executors.py",
          "funcName": "fill_atomic_inputs",
          "levelname": "INFO",
          "lineno": 250,
          "message": "ReadCsvProjectSpace_1: waiting for atomic input: config",
          "name": "engine.logs:ReadCsvProjectSpace_1",
          "pathname": "/usr/local/lib/python3.7/dist-packages/razor/flow/async_executors.py",
          "process": 8186,
          "processName": "ForkProcess-1:2",
          "thread": 140363586545472,
          "threadName": "MainThread"
         },
         {
          "asctime": "2021-03-23 07:59:10,165",
          "created": 1616486350.165151,
          "extra": {},
          "filename": "async_executors.py",
          "funcName": "fill_atomic_inputs",
          "levelname": "DEBUG",
          "lineno": 253,
          "message": "ReadCsvProjectSpace_1: got atomic input: {}",
          "name": "engine.logs:ReadCsvProjectSpace_1",
          "pathname": "/usr/local/lib/python3.7/dist-packages/razor/flow/async_executors.py",
          "process": 8186,
          "processName": "ForkProcess-1:2",
          "thread": 140363586545472,
          "threadName": "MainThread"
         },
         {
          "asctime": "2021-03-23 07:59:10,165",
          "created": 1616486350.165216,
          "extra": {},
          "filename": "async_executors.py",
          "funcName": "fill_atomic_inputs",
          "levelname": "INFO",
          "lineno": 250,
          "message": "ReadCsvProjectSpace_1: waiting for atomic input: source",
          "name": "engine.logs:ReadCsvProjectSpace_1",
          "pathname": "/usr/local/lib/python3.7/dist-packages/razor/flow/async_executors.py",
          "process": 8186,
          "processName": "ForkProcess-1:2",
          "thread": 140363586545472,
          "threadName": "MainThread"
         },
         {
          "asctime": "2021-03-23 07:59:10,165",
          "created": 1616486350.1652875,
          "extra": {},
          "filename": "async_executors.py",
          "funcName": "fill_atomic_inputs",
          "levelname": "DEBUG",
          "lineno": 253,
          "message": "ReadCsvProjectSpace_1: got atomic input: ",
          "name": "engine.logs:ReadCsvProjectSpace_1",
          "pathname": "/usr/local/lib/python3.7/dist-packages/razor/flow/async_executors.py",
          "process": 8186,
          "processName": "ForkProcess-1:2",
          "thread": 140363586545472,
          "threadName": "MainThread"
         },
         {
          "asctime": "2021-03-23 07:59:10,165",
          "created": 1616486350.1653578,
          "extra": {},
          "filename": "async_executors.py",
          "funcName": "main",
          "levelname": "DEBUG",
          "lineno": 130,
          "message": "ReadCsvProjectSpace_1: triggering block run",
          "name": "engine.logs:ReadCsvProjectSpace_1",
          "pathname": "/usr/local/lib/python3.7/dist-packages/razor/flow/async_executors.py",
          "process": 8186,
          "processName": "ForkProcess-1:2",
          "thread": 140363586545472,
          "threadName": "MainThread"
         },
         {
          "asctime": "2021-03-23 07:59:54,262",
          "created": 1616486394.2628086,
          "exc_info": null,
          "extra": {},
          "filename": null,
          "full_message": null,
          "funcName": null,
          "levelname": "STDOUT",
          "lineno": null,
          "message": "Hello\n",
          "name": "block.stdout:ReadCsvProjectSpace_1",
          "pathname": null,
          "process": null,
          "processName": null,
          "thread": null,
          "threadName": null
         },
         {
          "asctime": "2021-03-23 07:59:54,279",
          "created": 1616486394.279033,
          "exc_info": null,
          "extra": {},
          "filename": null,
          "full_message": null,
          "funcName": null,
          "levelname": "STDOUT",
          "lineno": null,
          "message": "root\n |-- transaction_id: string (nullable = true)\n |-- time: string (nullable = true)\n |-- customer_name: string (nullable = true)\n |-- card_number: string (nullable = true)\n |-- card_type: string (nullable = true)\n |-- physical_card_type: string (nullable = true)\n |-- merchant_id: string (nullable = true)\n |-- merchant_city: string (nullable = true)\n |-- merchant_state: string (nullable = true)\n |-- transaction_type: string (nullable = true)\n |-- transaction_type_sub: string (nullable = true)\n |-- amount: string (nullable = true)\n |-- product_type: string (nullable = true)\n |-- fraud_risk: string (nullable = true)\n |-- One Time Heavy Loot Score: string (nullable = true)\n |-- Drastic Transaction Change Pattern Score: string (nullable = true)\n |-- Parasitic Fraud Score: string (nullable = true)\n |-- Purchase Behavior Variation Score: string (nullable = true)\n |-- Preferred Merchant Variation Score: string (nullable = true)\n |-- Multiple Location Fraud Score: string (nullable = true)\n |-- Fraudster Merchant Score: string (nullable = true)\n |-- no_of_transactions_in_the_day: string (nullable = true)\n |-- max_transaction_amount_in_the_day: string (nullable = true)\n |-- avg_transaction_amount_in_the_day: string (nullable = true)\n |-- no_of_transactions_in_the_month: string (nullable = true)\n |-- max_transaction_amount_the_month: string (nullable = true)\n |-- avg_transaction_amount_the_month: string (nullable = true)\n |-- no_of_transactions_of_the_same_merchant_in_the_day: string (nullable = true)\n |-- max_transactions_of_the_same_merchant_in_the_day: string (nullable = true)\n |-- avg_transactions_of_the_same_merchant_in_the_day: string (nullable = true)\n |-- no_of_transactions_of_the_same_merchant_in_the_month: string (nullable = true)\n |-- max_transactions_of_the_same_merchant_in_the_month: string (nullable = true)\n |-- avg_transactions_of_the_same_merchant_in_the_month: string (nullable = true)\n\n",
          "name": "block.stdout:ReadCsvProjectSpace_1",
          "pathname": null,
          "process": null,
          "processName": null,
          "thread": null,
          "threadName": null
         },
         {
          "asctime": "2021-03-23 07:59:54,378",
          "created": 1616486394.3787494,
          "extra": {},
          "filename": "async_executors.py",
          "funcName": "distribute_output_queue",
          "levelname": "DEBUG",
          "lineno": 308,
          "message": "ReadCsvProjectSpace_1: ---- dist output: DataFrame[transaction_id: string, time: string, customer_name: string, card_number: string, card_type: string, physical_card_type: string, merchant_id: string, merchant_city: string, merchant_state: string, transaction_type: string, transaction_type_sub: string, amount: string, product_type: string, fraud_risk: string, One Time Heavy Loot Score: string, Drastic Transaction Change Pattern Score: string, Parasitic Fraud Score: string, Purchase Behavior Variation Score: string, Preferred Merchant Variation Score: string, Multiple Location Fraud Score: string, Fraudster Merchant Score: string, no_of_transactions_in_the_day: string, max_transaction_amount_in_the_day: string, avg_transaction_amount_in_the_day: string, no_of_transactions_in_the_month: string, max_transaction_amount_the_month: string, avg_transaction_amount_the_month: string, no_of_transactions_of_the_same_merchant_in_the_day: string, max_transactions_of_the_same_merchant_in_the_day: string, avg_transactions_of_the_same_merchant_in_the_day: string, no_of_transactions_of_the_same_merchant_in_the_month: string, max_transactions_of_the_same_merchant_in_the_month: string, avg_transactions_of_the_same_merchant_in_the_month: string] -> ('CustMercTS_1', 'ip_data')",
          "name": "engine.logs:ReadCsvProjectSpace_1",
          "pathname": "/usr/local/lib/python3.7/dist-packages/razor/flow/async_executors.py",
          "process": 8186,
          "processName": "ForkProcess-1:2",
          "thread": 140363586545472,
          "threadName": "MainThread"
         },
         {
          "asctime": "2021-03-23 07:59:54,379",
          "created": 1616486394.379517,
          "extra": {},
          "filename": "async_executors.py",
          "funcName": "main",
          "levelname": "DEBUG",
          "lineno": 147,
          "message": "ReadCsvProjectSpace_1: block thread completed",
          "name": "engine.logs:ReadCsvProjectSpace_1",
          "pathname": "/usr/local/lib/python3.7/dist-packages/razor/flow/async_executors.py",
          "process": 8186,
          "processName": "ForkProcess-1:2",
          "thread": 140363586545472,
          "threadName": "MainThread"
         },
         {
          "asctime": "2021-03-23 07:59:54,379",
          "created": 1616486394.3796496,
          "extra": {},
          "filename": "async_executors.py",
          "funcName": "main",
          "levelname": "DEBUG",
          "lineno": 149,
          "message": "ReadCsvProjectSpace_1: block execution complete",
          "name": "engine.logs:ReadCsvProjectSpace_1",
          "pathname": "/usr/local/lib/python3.7/dist-packages/razor/flow/async_executors.py",
          "process": 8186,
          "processName": "ForkProcess-1:2",
          "thread": 140363586545472,
          "threadName": "MainThread"
         },
         {
          "asctime": "2021-03-23 07:59:54,379",
          "created": 1616486394.3799162,
          "extra": {},
          "filename": "async_executors.py",
          "funcName": "distribute_output_queue",
          "levelname": "DEBUG",
          "lineno": 308,
          "message": "ReadCsvProjectSpace_1: ---- dist output: b'__!\\tEndOfStream\\t!__' -> ('CustMercTS_1', 'ip_data')",
          "name": "engine.logs:ReadCsvProjectSpace_1",
          "pathname": "/usr/local/lib/python3.7/dist-packages/razor/flow/async_executors.py",
          "process": 8186,
          "processName": "ForkProcess-1:2",
          "thread": 140363586545472,
          "threadName": "MainThread"
         },
         {
          "asctime": "2021-03-23 07:59:54,384",
          "created": 1616486394.3849065,
          "extra": {},
          "filename": "async_executors.py",
          "funcName": "start_input_receiver",
          "levelname": "DEBUG",
          "lineno": 173,
          "message": "ReadCsvProjectSpace_1: received cmd: start_sender, (), {'out_name': 'data', 'target': ('CustMercTS_1', 'ip_data'), 'out_addr': 'tcp://0.0.0.0:55128', 'in_memory': True}",
          "name": "engine.logs:ReadCsvProjectSpace_1",
          "pathname": "/usr/local/lib/python3.7/dist-packages/razor/flow/async_executors.py",
          "process": 8186,
          "processName": "ForkProcess-1:2",
          "thread": 140363586545472,
          "threadName": "MainThread"
         },
         {
          "asctime": "2021-03-23 07:59:54,385",
          "created": 1616486394.3855119,
          "extra": {},
          "filename": "async_executors.py",
          "funcName": "start_output_sender",
          "levelname": "DEBUG",
          "lineno": 370,
          "message": "ReadCsvProjectSpace_1: got start_sender, data, ('CustMercTS_1', 'ip_data')",
          "name": "engine.logs:ReadCsvProjectSpace_1",
          "pathname": "/usr/local/lib/python3.7/dist-packages/razor/flow/async_executors.py",
          "process": 8186,
          "processName": "ForkProcess-1:2",
          "thread": 140363586545472,
          "threadName": "MainThread"
         },
         {
          "asctime": "2021-03-23 07:59:54,448",
          "created": 1616486394.4483323,
          "extra": {},
          "filename": "async_executors.py",
          "funcName": "fill_atomic_inputs",
          "levelname": "DEBUG",
          "lineno": 253,
          "message": "CustMercTS_1: got atomic input: DataFrame[transaction_id: string, time: string, customer_name: string, card_number: string, card_type: string, physical_card_type: string, merchant_id: string, merchant_city: string, merchant_state: string, transaction_type: string, transaction_type_sub: string, amount: string, product_type: string, fraud_risk: string, One Time Heavy Loot Score: string, Drastic Transaction Change Pattern Score: string, Parasitic Fraud Score: string, Purchase Behavior Variation Score: string, Preferred Merchant Variation Score: string, Multiple Location Fraud Score: string, Fraudster Merchant Score: string, no_of_transactions_in_the_day: string, max_transaction_amount_in_the_day: string, avg_transaction_amount_in_the_day: string, no_of_transactions_in_the_month: string, max_transaction_amount_the_month: string, avg_transaction_amount_the_month: string, no_of_transactions_of_the_same_merchant_in_the_day: string, max_transactions_of_the_same_merchant_in_the_day: string, avg_transactions_of_the_same_merchant_in_the_day: string, no_of_transactions_of_the_same_merchant_in_the_month: string, max_transactions_of_the_same_merchant_in_the_month: string, avg_transactions_of_the_same_merchant_in_the_month: string]",
          "name": "engine.logs:CustMercTS_1",
          "pathname": "/usr/local/lib/python3.7/dist-packages/razor/flow/async_executors.py",
          "process": 8186,
          "processName": "ForkProcess-1:2",
          "thread": 140363586545472,
          "threadName": "MainThread"
         },
         {
          "asctime": "2021-03-23 07:59:54,386",
          "created": 1616486394.3869429,
          "extra": {},
          "filename": "async_executors.py",
          "funcName": "start_output_sender",
          "levelname": "DEBUG",
          "lineno": 375,
          "message": "ReadCsvProjectSpace_1: SENT, ip_data, DataFrame[transaction_id: string, time: string, customer_name: string, card_number: string, card_type: string, physical_card_type: string, merchant_id: string, merchant_city: string, merchant_state: string, transaction_type: string, transaction_type_sub: string, amount: string, product_type: string, fraud_risk: string, One Time Heavy Loot Score: string, Drastic Transaction Change Pattern Score: string, Parasitic Fraud Score: string, Purchase Behavior Variation Score: string, Preferred Merchant Variation Score: string, Multiple Location Fraud Score: string, Fraudster Merchant Score: string, no_of_transactions_in_the_day: string, max_transaction_amount_in_the_day: string, avg_transaction_amount_in_the_day: string, no_of_transactions_in_the_month: string, max_transaction_amount_the_month: string, avg_transaction_amount_the_month: string, no_of_transactions_of_the_same_merchant_in_the_day: string, max_transactions_of_the_same_merchant_in_the_day: string, avg_transactions_of_the_same_merchant_in_the_day: string, no_of_transactions_of_the_same_merchant_in_the_month: string, max_transactions_of_the_same_merchant_in_the_month: string, avg_transactions_of_the_same_merchant_in_the_month: string], ('CustMercTS_1', 'ip_data')",
          "name": "engine.logs:ReadCsvProjectSpace_1",
          "pathname": "/usr/local/lib/python3.7/dist-packages/razor/flow/async_executors.py",
          "process": 8186,
          "processName": "ForkProcess-1:2",
          "thread": 140363586545472,
          "threadName": "MainThread"
         },
         {
          "asctime": "2021-03-23 07:59:54,448",
          "created": 1616486394.4486897,
          "extra": {},
          "filename": "async_executors.py",
          "funcName": "fill_atomic_inputs",
          "levelname": "INFO",
          "lineno": 250,
          "message": "CustMercTS_1: waiting for atomic input: config",
          "name": "engine.logs:CustMercTS_1",
          "pathname": "/usr/local/lib/python3.7/dist-packages/razor/flow/async_executors.py",
          "process": 8186,
          "processName": "ForkProcess-1:2",
          "thread": 140363586545472,
          "threadName": "MainThread"
         },
         {
          "asctime": "2021-03-23 07:59:54,387",
          "created": 1616486394.3871155,
          "extra": {},
          "filename": "async_executors.py",
          "funcName": "start_output_sender",
          "levelname": "DEBUG",
          "lineno": 375,
          "message": "ReadCsvProjectSpace_1: SENT, ip_data, b'__!\\tEndOfStream\\t!__', ('CustMercTS_1', 'ip_data')",
          "name": "engine.logs:ReadCsvProjectSpace_1",
          "pathname": "/usr/local/lib/python3.7/dist-packages/razor/flow/async_executors.py",
          "process": 8186,
          "processName": "ForkProcess-1:2",
          "thread": 140363586545472,
          "threadName": "MainThread"
         },
         {
          "asctime": "2021-03-23 07:59:54,449",
          "created": 1616486394.4491396,
          "extra": {},
          "filename": "async_executors.py",
          "funcName": "fill_atomic_inputs",
          "levelname": "DEBUG",
          "lineno": 253,
          "message": "CustMercTS_1: got atomic input: {}",
          "name": "engine.logs:CustMercTS_1",
          "pathname": "/usr/local/lib/python3.7/dist-packages/razor/flow/async_executors.py",
          "process": 8186,
          "processName": "ForkProcess-1:2",
          "thread": 140363586545472,
          "threadName": "MainThread"
         },
         {
          "asctime": "2021-03-23 07:59:54,387",
          "created": 1616486394.387173,
          "extra": {},
          "filename": "async_executors.py",
          "funcName": "start_output_sender",
          "levelname": "DEBUG",
          "lineno": 379,
          "message": "ReadCsvProjectSpace_1: completed output: ('data', ('CustMercTS_1', 'ip_data'))",
          "name": "engine.logs:ReadCsvProjectSpace_1",
          "pathname": "/usr/local/lib/python3.7/dist-packages/razor/flow/async_executors.py",
          "process": 8186,
          "processName": "ForkProcess-1:2",
          "thread": 140363586545472,
          "threadName": "MainThread"
         },
         {
          "asctime": "2021-03-23 07:59:54,449",
          "created": 1616486394.4492025,
          "extra": {},
          "filename": "async_executors.py",
          "funcName": "fill_atomic_inputs",
          "levelname": "INFO",
          "lineno": 250,
          "message": "CustMercTS_1: waiting for atomic input: source",
          "name": "engine.logs:CustMercTS_1",
          "pathname": "/usr/local/lib/python3.7/dist-packages/razor/flow/async_executors.py",
          "process": 8186,
          "processName": "ForkProcess-1:2",
          "thread": 140363586545472,
          "threadName": "MainThread"
         },
         {
          "asctime": "2021-03-23 07:59:54,451",
          "created": 1616486394.4518816,
          "extra": {},
          "filename": "async_executors.py",
          "funcName": "start_input_receiver",
          "levelname": "DEBUG",
          "lineno": 173,
          "message": "ReadCsvProjectSpace_1: received cmd: terminate, (), {}",
          "name": "engine.logs:ReadCsvProjectSpace_1",
          "pathname": "/usr/local/lib/python3.7/dist-packages/razor/flow/async_executors.py",
          "process": 8186,
          "processName": "ForkProcess-1:2",
          "thread": 140363586545472,
          "threadName": "MainThread"
         },
         {
          "asctime": "2021-03-23 07:59:54,449",
          "created": 1616486394.4492493,
          "extra": {},
          "filename": "async_executors.py",
          "funcName": "fill_atomic_inputs",
          "levelname": "DEBUG",
          "lineno": 253,
          "message": "CustMercTS_1: got atomic input: ",
          "name": "engine.logs:CustMercTS_1",
          "pathname": "/usr/local/lib/python3.7/dist-packages/razor/flow/async_executors.py",
          "process": 8186,
          "processName": "ForkProcess-1:2",
          "thread": 140363586545472,
          "threadName": "MainThread"
         },
         {
          "asctime": "2021-03-23 07:59:54,449",
          "created": 1616486394.4493039,
          "extra": {},
          "filename": "async_executors.py",
          "funcName": "main",
          "levelname": "DEBUG",
          "lineno": 130,
          "message": "CustMercTS_1: triggering block run",
          "name": "engine.logs:CustMercTS_1",
          "pathname": "/usr/local/lib/python3.7/dist-packages/razor/flow/async_executors.py",
          "process": 8186,
          "processName": "ForkProcess-1:2",
          "thread": 140363586545472,
          "threadName": "MainThread"
         },
         {
          "asctime": "2021-03-23 08:00:09,867",
          "created": 1616486409.867368,
          "exc_info": null,
          "extra": {},
          "filename": null,
          "full_message": null,
          "funcName": null,
          "levelname": "STDOUT",
          "lineno": null,
          "message": "2202\n",
          "name": "block.stdout:CustMercTS_1",
          "pathname": null,
          "process": null,
          "processName": null,
          "thread": null,
          "threadName": null
         },
         {
          "asctime": "2021-03-23 08:00:18,255",
          "created": 1616486418.2559564,
          "exc_info": null,
          "extra": {},
          "filename": null,
          "full_message": null,
          "funcName": null,
          "levelname": "STDOUT",
          "lineno": null,
          "message": "2202\n",
          "name": "block.stdout:CustMercTS_1",
          "pathname": null,
          "process": null,
          "processName": null,
          "thread": null,
          "threadName": null
         },
         {
          "asctime": "2021-03-23 08:00:18,270",
          "created": 1616486418.2702236,
          "extra": {},
          "filename": "async_executors.py",
          "funcName": "main",
          "levelname": "DEBUG",
          "lineno": 147,
          "message": "CustMercTS_1: block thread completed",
          "name": "engine.logs:CustMercTS_1",
          "pathname": "/usr/local/lib/python3.7/dist-packages/razor/flow/async_executors.py",
          "process": 8186,
          "processName": "ForkProcess-1:2",
          "thread": 140363586545472,
          "threadName": "MainThread"
         },
         {
          "asctime": "2021-03-23 08:00:18,270",
          "created": 1616486418.2703815,
          "extra": {},
          "filename": "async_executors.py",
          "funcName": "main",
          "levelname": "DEBUG",
          "lineno": 149,
          "message": "CustMercTS_1: block execution complete",
          "name": "engine.logs:CustMercTS_1",
          "pathname": "/usr/local/lib/python3.7/dist-packages/razor/flow/async_executors.py",
          "process": 8186,
          "processName": "ForkProcess-1:2",
          "thread": 140363586545472,
          "threadName": "MainThread"
         },
         {
          "asctime": "2021-03-23 08:00:18,278",
          "created": 1616486418.2782798,
          "extra": {},
          "filename": "async_executors.py",
          "funcName": "start_input_receiver",
          "levelname": "DEBUG",
          "lineno": 173,
          "message": "CustMercTS_1: received cmd: terminate, (), {}",
          "name": "engine.logs:CustMercTS_1",
          "pathname": "/usr/local/lib/python3.7/dist-packages/razor/flow/async_executors.py",
          "process": 8186,
          "processName": "ForkProcess-1:2",
          "thread": 140363586545472,
          "threadName": "MainThread"
         }
        ],
        "meta": {
         "block_status": {
          "CustMercTS_1": "SUCCESS",
          "NonSparkPath_1": "SUCCESS",
          "ReadCsvProjectSpace_1": "SUCCESS"
         },
         "blocks": [
          {
           "class_name": "NonSparkPath",
           "fullname": "razor.project.blocks.ayan_spark_blocks.NonSparkPath",
           "id": "09791fe8-131e-4b6b-aef4-954ff5b05551",
           "inputs": [
            {
             "dataType": "string",
             "default": "",
             "flow": "atomic",
             "help": null,
             "isdict": false,
             "islist": false,
             "label": "ip_path",
             "meta": {},
             "name": "ip_path",
             "series": false,
             "type": "str",
             "type_check": true
            }
           ],
           "outputs": [
            {
             "flow": "atomic",
             "help": null,
             "label": "op_path",
             "meta": {},
             "name": "op_path",
             "series": false,
             "type": "str",
             "type_check": true
            }
           ],
           "overwritten": false,
           "published": true,
           "var_names": [
            "NonSparkPath"
           ]
          },
          {
           "class_name": "ReadCsvProjectSpace",
           "fullname": "razor.project.blocks.ayan_spark_blocks.ReadCsvProjectSpace",
           "id": "f7e26c3c-6407-42b7-9355-2c8d639d88d9",
           "inputs": [
            {
             "dataType": "string",
             "default": "",
             "flow": "atomic",
             "help": null,
             "isdict": false,
             "islist": false,
             "label": "filename",
             "meta": {},
             "name": "filename",
             "series": false,
             "type": "str",
             "type_check": true
            },
            {
             "dataType": "dict",
             "default": {},
             "flow": "atomic",
             "help": null,
             "isdict": false,
             "islist": false,
             "label": "config",
             "meta": {},
             "name": "config",
             "series": false,
             "type": "dict",
             "type_check": true
            },
            {
             "dataType": "string",
             "default": "",
             "flow": "atomic",
             "help": null,
             "isdict": false,
             "islist": false,
             "label": "source",
             "meta": {},
             "name": "source",
             "series": false,
             "type": "str",
             "type_check": true
            }
           ],
           "outputs": [
            {
             "flow": "atomic",
             "help": null,
             "label": "data",
             "meta": {},
             "name": "data",
             "series": false,
             "type": "DataFrame",
             "type_check": true
            }
           ],
           "overwritten": false,
           "published": true,
           "var_names": [
            "ReadCsvProjectSpace"
           ]
          },
          {
           "class_name": "CustMercTS",
           "fullname": "razor.project.blocks.ayan_spark_blocks.CustMercTS",
           "id": "85dd9c61-7d93-48a0-8170-71fd82c7e776",
           "inputs": [
            {
             "dataType": null,
             "default": null,
             "flow": "atomic",
             "help": null,
             "isdict": false,
             "islist": false,
             "label": "ip_data",
             "meta": {},
             "name": "ip_data",
             "series": false,
             "type": "DataFrame",
             "type_check": true
            },
            {
             "dataType": "dict",
             "default": {},
             "flow": "atomic",
             "help": null,
             "isdict": false,
             "islist": false,
             "label": "config",
             "meta": {},
             "name": "config",
             "series": false,
             "type": "dict",
             "type_check": true
            },
            {
             "dataType": "string",
             "default": "",
             "flow": "atomic",
             "help": null,
             "isdict": false,
             "islist": false,
             "label": "source",
             "meta": {},
             "name": "source",
             "series": false,
             "type": "str",
             "type_check": true
            }
           ],
           "outputs": [
            {
             "flow": "atomic",
             "help": null,
             "label": "customer_ts",
             "meta": {},
             "name": "customer_ts",
             "series": false,
             "type": "DataFrame",
             "type_check": true
            },
            {
             "flow": "atomic",
             "help": null,
             "label": "merchant_ts",
             "meta": {},
             "name": "merchant_ts",
             "series": false,
             "type": "DataFrame",
             "type_check": true
            }
           ],
           "overwritten": false,
           "published": true,
           "var_names": [
            "CustMercTS"
           ]
          }
         ],
         "connections": [
          {
           "id": "e989df02-7290-466c-8aee-72719e951483",
           "source": {
            "adapter": false,
            "instance_id": "dc4a97a9-799e-49ce-8279-15fe78bd2225",
            "name": "data"
           },
           "target": {
            "adapter": false,
            "instance_id": "79f22d96-bd9a-4d82-9be9-85ac7e80b025",
            "name": "ip_data"
           }
          },
          {
           "id": "97cd2b76-0627-4ed6-bf23-f66afd8fddf5",
           "source": {
            "adapter": false,
            "instance_id": "3cdb9dc8-1079-47c9-ac0d-0fa78970cca2",
            "name": "op_path"
           },
           "target": {
            "adapter": false,
            "instance_id": "dc4a97a9-799e-49ce-8279-15fe78bd2225",
            "name": "filename"
           }
          }
         ],
         "end": 1616486418.2808263,
         "id": "a48cc463-1196-4c09-b2a3-0fa318f28b8d",
         "instances": [
          {
           "block_class": "85dd9c61-7d93-48a0-8170-71fd82c7e776",
           "id": "79f22d96-bd9a-4d82-9be9-85ac7e80b025",
           "name": "CustMercTS_1",
           "var_names": [
            "cm_ts"
           ]
          },
          {
           "block_class": "f7e26c3c-6407-42b7-9355-2c8d639d88d9",
           "id": "dc4a97a9-799e-49ce-8279-15fe78bd2225",
           "name": "ReadCsvProjectSpace_1",
           "var_names": [
            "rcp"
           ]
          },
          {
           "block_class": "09791fe8-131e-4b6b-aef4-954ff5b05551",
           "id": "3cdb9dc8-1079-47c9-ac0d-0fa78970cca2",
           "name": "NonSparkPath_1",
           "var_names": [
            "nsp"
           ]
          }
         ],
         "log_level": 20,
         "name": "temp",
         "start": 1616486349.3558238,
         "status": "SUCCESS",
         "system_logs": false,
         "var_names": []
        },
        "metrics": {},
        "runtime": {
         "CustMercTS_1": {
          "end": 1616486418.2751973,
          "load": 1616486349.853427,
          "start": 1616486349.8641512
         },
         "NonSparkPath_1": {
          "end": 1616486350.1631036,
          "load": 1616486349.358236,
          "start": 1616486349.3686838
         },
         "ReadCsvProjectSpace_1": {
          "end": 1616486394.4484916,
          "load": 1616486349.853427,
          "start": 1616486349.8641512
         }
        }
       },
       "store_in_notebook": true
      }
     },
     "output_type": "display_data"
    },
    {
     "data": {
      "text/plain": [
       "{}"
      ]
     },
     "execution_count": 13,
     "metadata": {},
     "output_type": "execute_result"
    }
   ],
   "source": [
    "pipe.execute()"
   ]
  },
  {
   "cell_type": "code",
   "execution_count": null,
   "id": "peripheral-intake",
   "metadata": {},
   "outputs": [],
   "source": []
  },
  {
   "cell_type": "code",
   "execution_count": null,
   "id": "unique-flavor",
   "metadata": {},
   "outputs": [],
   "source": []
  }
 ],
 "metadata": {
  "kernelspec": {
   "display_name": "Python 3",
   "language": "python",
   "name": "python3"
  },
  "language_info": {
   "codemirror_mode": {
    "name": "ipython",
    "version": 3
   },
   "file_extension": ".py",
   "mimetype": "text/x-python",
   "name": "python",
   "nbconvert_exporter": "python",
   "pygments_lexer": "ipython3",
   "version": "3.7.10"
  }
 },
 "nbformat": 4,
 "nbformat_minor": 5
}
