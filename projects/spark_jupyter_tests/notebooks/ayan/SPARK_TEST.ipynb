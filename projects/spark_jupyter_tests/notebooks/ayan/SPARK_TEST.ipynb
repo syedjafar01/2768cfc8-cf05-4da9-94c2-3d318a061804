{
 "cells": [
  {
   "cell_type": "code",
   "execution_count": 1,
   "id": "level-variance",
   "metadata": {},
   "outputs": [],
   "source": [
    "import razor\n",
    "import razor.flow as rf\n",
    "from razor import api\n",
    "from razor.flow.spark import SparkBlock, SparkExecutor\n"
   ]
  },
  {
   "cell_type": "code",
   "execution_count": 2,
   "id": "impressive-belarus",
   "metadata": {},
   "outputs": [],
   "source": [
    "import os\n",
    "from datetime import datetime, timedelta\n",
    "from pyspark.sql import SparkSession, functions\n",
    "from pyspark.sql.dataframe import DataFrame\n",
    "from datetime import datetime, timedelta\n",
    "from dateutil.relativedelta import relativedelta\n",
    "from pyspark.sql.types import IntegerType, DateType, ArrayType, StringType, FloatType, TimestampType\n"
   ]
  },
  {
   "cell_type": "code",
   "execution_count": 3,
   "id": "tribal-edinburgh",
   "metadata": {},
   "outputs": [],
   "source": [
    "from razor.project.blocks.ayan_spark_blocks_clone import MercStatic\n",
    "from razor.project.blocks.ayan_spark_blocks_clone import ReadCsvProjectSpace\n",
    "from razor.project.blocks.ayan_spark_blocks_clone import TranCityTS\n",
    "from razor.project.blocks.ayan_spark_blocks_clone import TranTypeTS\n",
    "from razor.project.blocks.ayan_spark_blocks_clone import NonSparkPath\n",
    "from razor.project.blocks.ayan_spark_blocks_clone import CustStatic\n",
    "from razor.project.blocks.ayan_spark_blocks_clone import ProdTypeTS\n",
    "from razor.project.blocks.ayan_spark_blocks_clone import CustMercTS\n",
    "from razor.project.blocks.ayan_spark_blocks_clone import DropDuplicates"
   ]
  },
  {
   "cell_type": "code",
   "execution_count": 4,
   "id": "brave-experience",
   "metadata": {},
   "outputs": [],
   "source": [
    "def project_space_path(path):\n",
    "    ps = api.datasources('Project Space')\n",
    "    return os.path.join(ps.abspath(), path)\n"
   ]
  },
  {
   "cell_type": "code",
   "execution_count": 5,
   "id": "moving-sunrise",
   "metadata": {},
   "outputs": [],
   "source": [
    "nsp = NonSparkPath(ip_path='customer_data.csv')"
   ]
  },
  {
   "cell_type": "code",
   "execution_count": 6,
   "id": "proved-better",
   "metadata": {},
   "outputs": [],
   "source": [
    "rcp = ReadCsvProjectSpace(filename = nsp.op_path, config={}, source=\"\")\n",
    "rcp.executor = SparkExecutor"
   ]
  },
  {
   "cell_type": "code",
   "execution_count": 7,
   "id": "automated-cooler",
   "metadata": {},
   "outputs": [],
   "source": [
    "cs = CustStatic(ip_data = rcp.data, config={}, source=\"\")\n",
    "cs.executor = SparkExecutor"
   ]
  },
  {
   "cell_type": "code",
   "execution_count": 8,
   "id": "educated-inspiration",
   "metadata": {},
   "outputs": [],
   "source": [
    "drp = DropDuplicates(ip_data = cs.customer_static, config={}, source=\"\")\n",
    "drp.executor = SparkExecutor"
   ]
  },
  {
   "cell_type": "code",
   "execution_count": 9,
   "id": "artistic-athletics",
   "metadata": {},
   "outputs": [],
   "source": [
    "ms = MercStatic(ip_data = rcp.data, config={}, source=\"\")\n",
    "ms.executor = SparkExecutor"
   ]
  },
  {
   "cell_type": "code",
   "execution_count": 10,
   "id": "coastal-playback",
   "metadata": {},
   "outputs": [],
   "source": [
    "cm_ts = CustMercTS(ip_data = rcp.data, config={}, source=\"\")\n",
    "cm_ts.executor = SparkExecutor"
   ]
  },
  {
   "cell_type": "code",
   "execution_count": null,
   "id": "noticed-zealand",
   "metadata": {},
   "outputs": [],
   "source": []
  },
  {
   "cell_type": "code",
   "execution_count": 11,
   "id": "preliminary-wealth",
   "metadata": {},
   "outputs": [],
   "source": [
    "pipe = rf.Pipeline('temp', targets = [cm_ts])"
   ]
  },
  {
   "cell_type": "code",
   "execution_count": 12,
   "id": "concerned-boring",
   "metadata": {},
   "outputs": [
    {
     "data": {
      "application/vnd.razorthink.interactive+pipeline+view+json": {
       "blocks": [
        {
         "class_name": "NonSparkPath",
         "fullname": "razor.project.blocks.ayan_spark_blocks_clone.NonSparkPath",
         "id": "0338944b-3b91-4758-ad0b-f49c715718b0",
         "inputs": [
          {
           "dataType": "string",
           "default": "",
           "flow": "atomic",
           "help": null,
           "isdict": false,
           "islist": false,
           "label": "ip_path",
           "meta": {},
           "name": "ip_path",
           "series": false,
           "type": "str",
           "type_check": true
          }
         ],
         "outputs": [
          {
           "flow": "atomic",
           "help": null,
           "label": "op_path",
           "meta": {},
           "name": "op_path",
           "series": false,
           "type": "str",
           "type_check": true
          }
         ],
         "overwritten": false,
         "published": true,
         "var_names": [
          "NonSparkPath"
         ]
        },
        {
         "class_name": "CustMercTS",
         "fullname": "razor.project.blocks.ayan_spark_blocks_clone.CustMercTS",
         "id": "3423246f-f4f5-4979-b356-b2aa26160fcb",
         "inputs": [
          {
           "dataType": null,
           "default": null,
           "flow": "atomic",
           "help": null,
           "isdict": false,
           "islist": false,
           "label": "ip_data",
           "meta": {},
           "name": "ip_data",
           "series": false,
           "type": "DataFrame",
           "type_check": true
          },
          {
           "dataType": "dict",
           "default": {},
           "flow": "atomic",
           "help": null,
           "isdict": false,
           "islist": false,
           "label": "config",
           "meta": {},
           "name": "config",
           "series": false,
           "type": "dict",
           "type_check": true
          },
          {
           "dataType": "string",
           "default": "",
           "flow": "atomic",
           "help": null,
           "isdict": false,
           "islist": false,
           "label": "source",
           "meta": {},
           "name": "source",
           "series": false,
           "type": "str",
           "type_check": true
          }
         ],
         "outputs": [
          {
           "flow": "atomic",
           "help": null,
           "label": "customer_ts",
           "meta": {},
           "name": "customer_ts",
           "series": false,
           "type": "DataFrame",
           "type_check": true
          },
          {
           "flow": "atomic",
           "help": null,
           "label": "merchant_ts",
           "meta": {},
           "name": "merchant_ts",
           "series": false,
           "type": "DataFrame",
           "type_check": true
          }
         ],
         "overwritten": false,
         "published": true,
         "var_names": [
          "CustMercTS"
         ]
        },
        {
         "class_name": "ReadCsvProjectSpace",
         "fullname": "razor.project.blocks.ayan_spark_blocks_clone.ReadCsvProjectSpace",
         "id": "90999bf0-f567-4abd-88d8-46cb8f515974",
         "inputs": [
          {
           "dataType": "string",
           "default": "",
           "flow": "atomic",
           "help": null,
           "isdict": false,
           "islist": false,
           "label": "filename",
           "meta": {},
           "name": "filename",
           "series": false,
           "type": "str",
           "type_check": true
          },
          {
           "dataType": "dict",
           "default": {},
           "flow": "atomic",
           "help": null,
           "isdict": false,
           "islist": false,
           "label": "config",
           "meta": {},
           "name": "config",
           "series": false,
           "type": "dict",
           "type_check": true
          },
          {
           "dataType": "string",
           "default": "",
           "flow": "atomic",
           "help": null,
           "isdict": false,
           "islist": false,
           "label": "source",
           "meta": {},
           "name": "source",
           "series": false,
           "type": "str",
           "type_check": true
          }
         ],
         "outputs": [
          {
           "flow": "atomic",
           "help": null,
           "label": "data",
           "meta": {},
           "name": "data",
           "series": false,
           "type": "DataFrame",
           "type_check": true
          }
         ],
         "overwritten": false,
         "published": true,
         "var_names": [
          "ReadCsvProjectSpace"
         ]
        }
       ],
       "connections": [
        {
         "id": "56071560-5d0d-45cf-a212-0154aaf4fd9c",
         "source": {
          "adapter": false,
          "instance_id": "4f46c6d6-b4e8-4aa8-b5be-eb5f10382f4b",
          "name": "op_path"
         },
         "target": {
          "adapter": false,
          "instance_id": "4181fe54-4569-4c45-913b-5dde94c12899",
          "name": "filename"
         }
        },
        {
         "id": "a953a5fb-5763-4abd-8967-a81e875736ad",
         "source": {
          "adapter": false,
          "instance_id": "4181fe54-4569-4c45-913b-5dde94c12899",
          "name": "data"
         },
         "target": {
          "adapter": false,
          "instance_id": "1523b27d-ff7e-4df4-b356-99925b388715",
          "name": "ip_data"
         }
        }
       ],
       "id": "da8eac96-2a40-477c-91e6-4d271ecc0f63",
       "instances": [
        {
         "block_class": "3423246f-f4f5-4979-b356-b2aa26160fcb",
         "id": "1523b27d-ff7e-4df4-b356-99925b388715",
         "name": "CustMercTS_1",
         "var_names": [
          "cm_ts"
         ]
        },
        {
         "block_class": "90999bf0-f567-4abd-88d8-46cb8f515974",
         "id": "4181fe54-4569-4c45-913b-5dde94c12899",
         "name": "ReadCsvProjectSpace_1",
         "var_names": [
          "rcp"
         ]
        },
        {
         "block_class": "0338944b-3b91-4758-ad0b-f49c715718b0",
         "id": "4f46c6d6-b4e8-4aa8-b5be-eb5f10382f4b",
         "name": "NonSparkPath_1",
         "var_names": [
          "nsp"
         ]
        }
       ],
       "name": "temp",
       "var_names": []
      },
      "image/svg+xml": [
       "<?xml version=\"1.0\" encoding=\"UTF-8\" standalone=\"no\"?>\n",
       "<!DOCTYPE svg PUBLIC \"-//W3C//DTD SVG 1.1//EN\"\n",
       " \"http://www.w3.org/Graphics/SVG/1.1/DTD/svg11.dtd\">\n",
       "<!-- Generated by graphviz version 2.43.0 (0)\n",
       " -->\n",
       "<!-- Title: %3 Pages: 1 -->\n",
       "<svg width=\"306pt\" height=\"210pt\"\n",
       " viewBox=\"0.00 0.00 305.86 210.00\" xmlns=\"http://www.w3.org/2000/svg\" xmlns:xlink=\"http://www.w3.org/1999/xlink\">\n",
       "<g id=\"graph0\" class=\"graph\" transform=\"scale(1 1) rotate(0) translate(4 206)\">\n",
       "<title>%3</title>\n",
       "<polygon fill=\"white\" stroke=\"transparent\" points=\"-4,4 -4,-206 301.86,-206 301.86,4 -4,4\"/>\n",
       "<!-- CustMercTS(&#39;CustMercTS_1&#39;) -->\n",
       "<g id=\"node1\" class=\"node\">\n",
       "<title>CustMercTS(&#39;CustMercTS_1&#39;)</title>\n",
       "<ellipse fill=\"none\" stroke=\"black\" cx=\"148.93\" cy=\"-18\" rx=\"92.34\" ry=\"18\"/>\n",
       "<text text-anchor=\"middle\" x=\"148.93\" y=\"-15.5\" font-family=\"Helvetica,sans-Serif\" font-size=\"10.00\">CustMercTS(&#39;CustMercTS_1&#39;)</text>\n",
       "</g>\n",
       "<!-- ReadCsvProjectSpace(&#39;ReadCsvProjectSpace_1&#39;) -->\n",
       "<g id=\"node2\" class=\"node\">\n",
       "<title>ReadCsvProjectSpace(&#39;ReadCsvProjectSpace_1&#39;)</title>\n",
       "<ellipse fill=\"none\" stroke=\"black\" cx=\"148.93\" cy=\"-101\" rx=\"148.86\" ry=\"18\"/>\n",
       "<text text-anchor=\"middle\" x=\"148.93\" y=\"-98.5\" font-family=\"Helvetica,sans-Serif\" font-size=\"10.00\">ReadCsvProjectSpace(&#39;ReadCsvProjectSpace_1&#39;)</text>\n",
       "</g>\n",
       "<!-- ReadCsvProjectSpace(&#39;ReadCsvProjectSpace_1&#39;)&#45;&gt;CustMercTS(&#39;CustMercTS_1&#39;) -->\n",
       "<g id=\"edge1\" class=\"edge\">\n",
       "<title>ReadCsvProjectSpace(&#39;ReadCsvProjectSpace_1&#39;)&#45;&gt;CustMercTS(&#39;CustMercTS_1&#39;)</title>\n",
       "<path fill=\"none\" stroke=\"black\" d=\"M148.93,-82.82C148.93,-72.19 148.93,-58.31 148.93,-46.2\"/>\n",
       "<polygon fill=\"black\" stroke=\"black\" points=\"152.43,-46.15 148.93,-36.15 145.43,-46.15 152.43,-46.15\"/>\n",
       "<text text-anchor=\"middle\" x=\"183.93\" y=\"-57\" font-family=\"Helvetica,sans-Serif\" font-size=\"10.00\">data&#45;&gt;ip_data</text>\n",
       "</g>\n",
       "<!-- NonSparkPath(&#39;NonSparkPath_1&#39;) -->\n",
       "<g id=\"node3\" class=\"node\">\n",
       "<title>NonSparkPath(&#39;NonSparkPath_1&#39;)</title>\n",
       "<ellipse fill=\"none\" stroke=\"black\" cx=\"148.93\" cy=\"-184\" rx=\"104.56\" ry=\"18\"/>\n",
       "<text text-anchor=\"middle\" x=\"148.93\" y=\"-181.5\" font-family=\"Helvetica,sans-Serif\" font-size=\"10.00\">NonSparkPath(&#39;NonSparkPath_1&#39;)</text>\n",
       "</g>\n",
       "<!-- NonSparkPath(&#39;NonSparkPath_1&#39;)&#45;&gt;ReadCsvProjectSpace(&#39;ReadCsvProjectSpace_1&#39;) -->\n",
       "<g id=\"edge2\" class=\"edge\">\n",
       "<title>NonSparkPath(&#39;NonSparkPath_1&#39;)&#45;&gt;ReadCsvProjectSpace(&#39;ReadCsvProjectSpace_1&#39;)</title>\n",
       "<path fill=\"none\" stroke=\"black\" d=\"M148.93,-165.82C148.93,-155.19 148.93,-141.31 148.93,-129.2\"/>\n",
       "<polygon fill=\"black\" stroke=\"black\" points=\"152.43,-129.15 148.93,-119.15 145.43,-129.15 152.43,-129.15\"/>\n",
       "<text text-anchor=\"middle\" x=\"195.93\" y=\"-140\" font-family=\"Helvetica,sans-Serif\" font-size=\"10.00\">op_path&#45;&gt;filename</text>\n",
       "</g>\n",
       "</g>\n",
       "</svg>\n"
      ],
      "text/plain": [
       "<razor.flow.async_pipeline.Pipeline at 0x7fa7be5b7350>"
      ]
     },
     "execution_count": 12,
     "metadata": {},
     "output_type": "execute_result"
    }
   ],
   "source": [
    "pipe"
   ]
  },
  {
   "cell_type": "code",
   "execution_count": 13,
   "id": "usual-upper",
   "metadata": {},
   "outputs": [
    {
     "name": "stdout",
     "output_type": "stream",
     "text": [
      "log path: /tmp/tmpns_qikw7/temp\n"
     ]
    },
    {
     "data": {
      "application/vnd.razorthink.run+monitor+json": "/tmp/tmpns_qikw7/temp",
      "text/plain": [
       "<razor_tools.backend.ipython.mime.run_monitor.RunMonitor at 0x7fa7be41e390>"
      ]
     },
     "metadata": {
      "application/vnd.razorthink.run+monitor+json": {
       "run_data": {
        "apm": [
         {
          "cpu_percent": 0,
          "cpu_time": 0.01,
          "name": "NonSparkPath_1",
          "real_mem": 155746304,
          "time": 1616498924.4912853
         },
         {
          "cpu_percent": 0,
          "cpu_time": 0.03,
          "name": "NonSparkPath_1",
          "real_mem": 155856896,
          "time": 1616498924.603638
         },
         {
          "cpu_percent": 0,
          "cpu_time": 0.05,
          "name": "NonSparkPath_1",
          "real_mem": 156237824,
          "time": 1616498924.7176287
         },
         {
          "cpu_percent": 0,
          "cpu_time": 0,
          "name": "ReadCsvProjectSpace_1",
          "real_mem": 156123136,
          "time": 1616498924.7690854
         },
         {
          "cpu_percent": 0,
          "cpu_time": 0.01,
          "name": "CustMercTS_1",
          "real_mem": 156168192,
          "time": 1616498924.7902558
         },
         {
          "cpu_percent": 98.7,
          "cpu_time": 0.11,
          "name": "CustMercTS_1",
          "real_mem": 184672256,
          "time": 1616498924.9357297
         },
         {
          "cpu_percent": 0,
          "cpu_time": 0.06,
          "name": "ReadCsvProjectSpace_1",
          "real_mem": 160980992,
          "time": 1616498924.8928092
         },
         {
          "cpu_percent": 192.6,
          "cpu_time": 0.23,
          "name": "ReadCsvProjectSpace_1",
          "real_mem": 198893568,
          "time": 1616498925.0699518
         },
         {
          "cpu_percent": 98,
          "cpu_time": 0.28,
          "name": "CustMercTS_1",
          "real_mem": 206069760,
          "time": 1616498925.1148567
         },
         {
          "cpu_percent": 0,
          "cpu_time": 0.08,
          "name": "ReadCsvProjectSpace_1",
          "real_mem": 163147776,
          "time": 1616498925.2136686
         },
         {
          "cpu_percent": 96.2,
          "cpu_time": 0.11,
          "name": "CustMercTS_1",
          "real_mem": 176001024,
          "time": 1616498925.2712674
         },
         {
          "cpu_percent": 45.9,
          "cpu_time": 0.18,
          "name": "ReadCsvProjectSpace_1",
          "real_mem": 181088256,
          "time": 1616498925.3484356
         },
         {
          "cpu_percent": 196.2,
          "cpu_time": 0.27,
          "name": "CustMercTS_1",
          "real_mem": 195428352,
          "time": 1616498925.395266
         },
         {
          "cpu_percent": 196.6,
          "cpu_time": 0.32,
          "name": "ReadCsvProjectSpace_1",
          "real_mem": 201658368,
          "time": 1616498925.4715545
         },
         {
          "cpu_percent": 0,
          "cpu_time": 0.37,
          "name": "CustMercTS_1",
          "real_mem": 207347712,
          "time": 1616498925.5487487
         },
         {
          "cpu_percent": 31.2,
          "cpu_time": 0.47000000000000003,
          "name": "ReadCsvProjectSpace_1",
          "real_mem": 210059264,
          "time": 1616498925.6483326
         },
         {
          "cpu_percent": 196.8,
          "cpu_time": 0.51,
          "name": "CustMercTS_1",
          "real_mem": 214204416,
          "time": 1616498925.6714754
         },
         {
          "cpu_percent": 294.5,
          "cpu_time": 0.6200000000000001,
          "name": "ReadCsvProjectSpace_1",
          "real_mem": 217608192,
          "time": 1616498925.7713752
         },
         {
          "cpu_percent": 96.7,
          "cpu_time": 0.6599999999999999,
          "name": "CustMercTS_1",
          "real_mem": 218251264,
          "time": 1616498925.7938695
         },
         {
          "cpu_percent": 98.6,
          "cpu_time": 0.73,
          "name": "ReadCsvProjectSpace_1",
          "real_mem": 225800192,
          "time": 1616498925.8948555
         },
         {
          "cpu_percent": 196.7,
          "cpu_time": 0.76,
          "name": "CustMercTS_1",
          "real_mem": 228507648,
          "time": 1616498925.9169497
         },
         {
          "cpu_percent": 0,
          "cpu_time": 0.86,
          "name": "ReadCsvProjectSpace_1",
          "real_mem": 230068224,
          "time": 1616498926.0178647
         },
         {
          "cpu_percent": 196.4,
          "cpu_time": 0.9099999999999999,
          "name": "CustMercTS_1",
          "real_mem": 230338560,
          "time": 1616498926.0711374
         },
         {
          "cpu_percent": 196.6,
          "cpu_time": 0.98,
          "name": "ReadCsvProjectSpace_1",
          "real_mem": 231636992,
          "time": 1616498926.172255
         },
         {
          "cpu_percent": 98.8,
          "cpu_time": 1.01,
          "name": "CustMercTS_1",
          "real_mem": 232173568,
          "time": 1616498926.1943762
         },
         {
          "cpu_percent": 98,
          "cpu_time": 1.1,
          "name": "ReadCsvProjectSpace_1",
          "real_mem": 233074688,
          "time": 1616498926.2952466
         },
         {
          "cpu_percent": 295.1,
          "cpu_time": 1.1500000000000001,
          "name": "CustMercTS_1",
          "real_mem": 233402368,
          "time": 1616498926.3175123
         },
         {
          "cpu_percent": 98.1,
          "cpu_time": 1.24,
          "name": "ReadCsvProjectSpace_1",
          "real_mem": 234295296,
          "time": 1616498926.4181268
         },
         {
          "cpu_percent": 192.7,
          "cpu_time": 1.29,
          "name": "CustMercTS_1",
          "real_mem": 234823680,
          "time": 1616498926.470111
         },
         {
          "cpu_percent": 196.1,
          "cpu_time": 1.36,
          "name": "ReadCsvProjectSpace_1",
          "real_mem": 234971136,
          "time": 1616498926.5591745
         },
         {
          "cpu_percent": 193.1,
          "cpu_time": 1.44,
          "name": "CustMercTS_1",
          "real_mem": 235466752,
          "time": 1616498926.5936604
         },
         {
          "cpu_percent": 97.8,
          "cpu_time": 1.48,
          "name": "ReadCsvProjectSpace_1",
          "real_mem": 237076480,
          "time": 1616498926.6820226
         },
         {
          "cpu_percent": 291.5,
          "cpu_time": 1.5299999999999998,
          "name": "CustMercTS_1",
          "real_mem": 249536512,
          "time": 1616498926.7175064
         },
         {
          "cpu_percent": 98.2,
          "cpu_time": 1.62,
          "name": "ReadCsvProjectSpace_1",
          "real_mem": 251105280,
          "time": 1616498926.8057783
         },
         {
          "cpu_percent": 197.1,
          "cpu_time": 1.67,
          "name": "CustMercTS_1",
          "real_mem": 251658240,
          "time": 1616498926.8706324
         },
         {
          "cpu_percent": 98.2,
          "cpu_time": 1.7400000000000002,
          "name": "ReadCsvProjectSpace_1",
          "real_mem": 252502016,
          "time": 1616498926.9593973
         },
         {
          "cpu_percent": 195.6,
          "cpu_time": 1.7999999999999998,
          "name": "CustMercTS_1",
          "real_mem": 253775872,
          "time": 1616498926.9929013
         },
         {
          "cpu_percent": 98.1,
          "cpu_time": 1.87,
          "name": "ReadCsvProjectSpace_1",
          "real_mem": 254730240,
          "time": 1616498927.0839152
         },
         {
          "cpu_percent": 0,
          "cpu_time": 1.92,
          "name": "CustMercTS_1",
          "real_mem": 255152128,
          "time": 1616498927.116799
         },
         {
          "cpu_percent": 98.2,
          "cpu_time": 2,
          "name": "ReadCsvProjectSpace_1",
          "real_mem": 256233472,
          "time": 1616498927.2079582
         },
         {
          "cpu_percent": 293.3,
          "cpu_time": 2.06,
          "name": "CustMercTS_1",
          "real_mem": 256897024,
          "time": 1616498927.269886
         },
         {
          "cpu_percent": 193.6,
          "cpu_time": 2.1599999999999997,
          "name": "ReadCsvProjectSpace_1",
          "real_mem": 257650688,
          "time": 1616498927.3708465
         },
         {
          "cpu_percent": 196.2,
          "cpu_time": 2.1999999999999997,
          "name": "CustMercTS_1",
          "real_mem": 258187264,
          "time": 1616498927.3929021
         },
         {
          "cpu_percent": 197.1,
          "cpu_time": 2.31,
          "name": "ReadCsvProjectSpace_1",
          "real_mem": 259600384,
          "time": 1616498927.493429
         },
         {
          "cpu_percent": 196.2,
          "cpu_time": 2.37,
          "name": "CustMercTS_1",
          "real_mem": 260530176,
          "time": 1616498927.570539
         },
         {
          "cpu_percent": 196.9,
          "cpu_time": 2.45,
          "name": "ReadCsvProjectSpace_1",
          "real_mem": 261165056,
          "time": 1616498927.6699824
         },
         {
          "cpu_percent": 197.4,
          "cpu_time": 2.49,
          "name": "CustMercTS_1",
          "real_mem": 262361088,
          "time": 1616498927.6930299
         },
         {
          "cpu_percent": 98,
          "cpu_time": 2.5500000000000003,
          "name": "ReadCsvProjectSpace_1",
          "real_mem": 262549504,
          "time": 1616498927.7929966
         },
         {
          "cpu_percent": 97.9,
          "cpu_time": 2.5900000000000003,
          "name": "CustMercTS_1",
          "real_mem": 263000064,
          "time": 1616498927.8481216
         },
         {
          "cpu_percent": 98.3,
          "cpu_time": 2.6799999999999997,
          "name": "ReadCsvProjectSpace_1",
          "real_mem": 264060928,
          "time": 1616498927.9157562
         },
         {
          "cpu_percent": 289.1,
          "cpu_time": 2.7199999999999998,
          "name": "CustMercTS_1",
          "real_mem": 264388608,
          "time": 1616498927.971606
         },
         {
          "cpu_percent": 0,
          "cpu_time": 2.78,
          "name": "ReadCsvProjectSpace_1",
          "real_mem": 265535488,
          "time": 1616498928.0383067
         },
         {
          "cpu_percent": 191.8,
          "cpu_time": 2.86,
          "name": "CustMercTS_1",
          "real_mem": 265768960,
          "time": 1616498928.0941834
         },
         {
          "cpu_percent": 98.2,
          "cpu_time": 2.9,
          "name": "ReadCsvProjectSpace_1",
          "real_mem": 266555392,
          "time": 1616498928.1705654
         },
         {
          "cpu_percent": 0,
          "cpu_time": 2.97,
          "name": "CustMercTS_1",
          "real_mem": 267100160,
          "time": 1616498928.218842
         },
         {
          "cpu_percent": 196.5,
          "cpu_time": 3.06,
          "name": "ReadCsvProjectSpace_1",
          "real_mem": 267427840,
          "time": 1616498928.292783
         },
         {
          "cpu_percent": 197,
          "cpu_time": 3.1,
          "name": "CustMercTS_1",
          "real_mem": 268447744,
          "time": 1616498928.3702967
         },
         {
          "cpu_percent": 98.3,
          "cpu_time": 3.17,
          "name": "ReadCsvProjectSpace_1",
          "real_mem": 269041664,
          "time": 1616498928.4160688
         },
         {
          "cpu_percent": 0,
          "cpu_time": 3.26,
          "name": "CustMercTS_1",
          "real_mem": 269725696,
          "time": 1616498928.4937537
         },
         {
          "cpu_percent": 0,
          "cpu_time": 3.3000000000000003,
          "name": "ReadCsvProjectSpace_1",
          "real_mem": 270082048,
          "time": 1616498928.5705283
         },
         {
          "cpu_percent": 0,
          "cpu_time": 3.35,
          "name": "CustMercTS_1",
          "real_mem": 270450688,
          "time": 1616498928.6167657
         },
         {
          "cpu_percent": 97.8,
          "cpu_time": 3.4400000000000004,
          "name": "ReadCsvProjectSpace_1",
          "real_mem": 271769600,
          "time": 1616498928.6933668
         },
         {
          "cpu_percent": 296,
          "cpu_time": 3.49,
          "name": "CustMercTS_1",
          "real_mem": 272240640,
          "time": 1616498928.7712462
         },
         {
          "cpu_percent": 196.5,
          "cpu_time": 3.5500000000000003,
          "name": "ReadCsvProjectSpace_1",
          "real_mem": 272928768,
          "time": 1616498928.8591962
         },
         {
          "cpu_percent": 97.3,
          "cpu_time": 3.63,
          "name": "CustMercTS_1",
          "real_mem": 273461248,
          "time": 1616498928.9481707
         },
         {
          "cpu_percent": 295.2,
          "cpu_time": 3.88,
          "name": "ReadCsvProjectSpace_1",
          "real_mem": 274501632,
          "time": 1616498929.1707492
         },
         {
          "cpu_percent": 196.2,
          "cpu_time": 3.98,
          "name": "CustMercTS_1",
          "real_mem": 275075072,
          "time": 1616498929.270447
         },
         {
          "cpu_percent": 98.6,
          "cpu_time": 4.11,
          "name": "ReadCsvProjectSpace_1",
          "real_mem": 276684800,
          "time": 1616498929.4442046
         },
         {
          "cpu_percent": 195.1,
          "cpu_time": 4.24,
          "name": "CustMercTS_1",
          "real_mem": 278011904,
          "time": 1616498929.570819
         },
         {
          "cpu_percent": 48.2,
          "cpu_time": 4.4,
          "name": "ReadCsvProjectSpace_1",
          "real_mem": 280051712,
          "time": 1616498929.7484756
         },
         {
          "cpu_percent": 196.6,
          "cpu_time": 4.55,
          "name": "CustMercTS_1",
          "real_mem": 282480640,
          "time": 1616498929.8702855
         },
         {
          "cpu_percent": 294.7,
          "cpu_time": 4.76,
          "name": "ReadCsvProjectSpace_1",
          "real_mem": 282038272,
          "time": 1616498930.0700326
         },
         {
          "cpu_percent": 98.4,
          "cpu_time": 4.83,
          "name": "CustMercTS_1",
          "real_mem": 282497024,
          "time": 1616498930.1694834
         },
         {
          "cpu_percent": 98.3,
          "cpu_time": 5.02,
          "name": "ReadCsvProjectSpace_1",
          "real_mem": 285188096,
          "time": 1616498930.369812
         },
         {
          "cpu_percent": 0,
          "cpu_time": 5.1,
          "name": "CustMercTS_1",
          "real_mem": 286199808,
          "time": 1616498930.4485712
         },
         {
          "cpu_percent": 0,
          "cpu_time": 5.29,
          "name": "ReadCsvProjectSpace_1",
          "real_mem": 288772096,
          "time": 1616498930.6487322
         },
         {
          "cpu_percent": 196.5,
          "cpu_time": 5.43,
          "name": "CustMercTS_1",
          "real_mem": 293306368,
          "time": 1616498930.769676
         },
         {
          "cpu_percent": 197,
          "cpu_time": 5.6,
          "name": "ReadCsvProjectSpace_1",
          "real_mem": 301760512,
          "time": 1616498930.9588435
         },
         {
          "cpu_percent": 98.3,
          "cpu_time": 5.7,
          "name": "CustMercTS_1",
          "real_mem": 302960640,
          "time": 1616498931.0699165
         },
         {
          "cpu_percent": 197.3,
          "cpu_time": 5.92,
          "name": "ReadCsvProjectSpace_1",
          "real_mem": 305717248,
          "time": 1616498931.2691545
         },
         {
          "cpu_percent": 98.3,
          "cpu_time": 6.01,
          "name": "CustMercTS_1",
          "real_mem": 306769920,
          "time": 1616498931.3711183
         },
         {
          "cpu_percent": 196.2,
          "cpu_time": 6.1899999999999995,
          "name": "ReadCsvProjectSpace_1",
          "real_mem": 308613120,
          "time": 1616498931.5701866
         },
         {
          "cpu_percent": 97.5,
          "cpu_time": 6.26,
          "name": "CustMercTS_1",
          "real_mem": 309608448,
          "time": 1616498931.6590106
         },
         {
          "cpu_percent": 197.3,
          "cpu_time": 6.470000000000001,
          "name": "ReadCsvProjectSpace_1",
          "real_mem": 311271424,
          "time": 1616498931.8589094
         },
         {
          "cpu_percent": 0,
          "cpu_time": 6.54,
          "name": "CustMercTS_1",
          "real_mem": 312033280,
          "time": 1616498931.931543
         },
         {
          "cpu_percent": 94,
          "cpu_time": 6.7700000000000005,
          "name": "ReadCsvProjectSpace_1",
          "real_mem": 316567552,
          "time": 1616498932.1706777
         },
         {
          "cpu_percent": 196.7,
          "cpu_time": 6.8100000000000005,
          "name": "CustMercTS_1",
          "real_mem": 316727296,
          "time": 1616498932.2042003
         },
         {
          "cpu_percent": 292.5,
          "cpu_time": 7.07,
          "name": "ReadCsvProjectSpace_1",
          "real_mem": 320229376,
          "time": 1616498932.4589903
         },
         {
          "cpu_percent": 196.7,
          "cpu_time": 7.11,
          "name": "CustMercTS_1",
          "real_mem": 321761280,
          "time": 1616498932.4808915
         },
         {
          "cpu_percent": 294.1,
          "cpu_time": 7.37,
          "name": "ReadCsvProjectSpace_1",
          "real_mem": 327143424,
          "time": 1616498932.7693238
         },
         {
          "cpu_percent": 196.5,
          "cpu_time": 7.43,
          "name": "CustMercTS_1",
          "real_mem": 329220096,
          "time": 1616498932.7913446
         },
         {
          "cpu_percent": 295.6,
          "cpu_time": 7.67,
          "name": "ReadCsvProjectSpace_1",
          "real_mem": 337567744,
          "time": 1616498933.0704257
         },
         {
          "cpu_percent": 30.1,
          "cpu_time": 7.72,
          "name": "CustMercTS_1",
          "real_mem": 337723392,
          "time": 1616498933.1491518
         },
         {
          "cpu_percent": 293.3,
          "cpu_time": 7.989999999999999,
          "name": "ReadCsvProjectSpace_1",
          "real_mem": 343674880,
          "time": 1616498933.3801525
         },
         {
          "cpu_percent": 98.5,
          "cpu_time": 8.05,
          "name": "CustMercTS_1",
          "real_mem": 345284608,
          "time": 1616498933.4708934
         },
         {
          "cpu_percent": 97.8,
          "cpu_time": 8.24,
          "name": "ReadCsvProjectSpace_1",
          "real_mem": 348860416,
          "time": 1616498933.670075
         },
         {
          "cpu_percent": 294,
          "cpu_time": 8.36,
          "name": "CustMercTS_1",
          "real_mem": 349483008,
          "time": 1616498933.7705064
         },
         {
          "cpu_percent": 196.8,
          "cpu_time": 8.53,
          "name": "ReadCsvProjectSpace_1",
          "real_mem": 352792576,
          "time": 1616498933.9702172
         },
         {
          "cpu_percent": 98.6,
          "cpu_time": 8.62,
          "name": "CustMercTS_1",
          "real_mem": 354394112,
          "time": 1616498934.069576
         },
         {
          "cpu_percent": 0,
          "cpu_time": 8.78,
          "name": "ReadCsvProjectSpace_1",
          "real_mem": 356253696,
          "time": 1616498934.243336
         },
         {
          "cpu_percent": 294.8,
          "cpu_time": 8.95,
          "name": "CustMercTS_1",
          "real_mem": 357552128,
          "time": 1616498934.374414
         },
         {
          "cpu_percent": 196.5,
          "cpu_time": 9.12,
          "name": "ReadCsvProjectSpace_1",
          "real_mem": 358395904,
          "time": 1616498934.5701213
         },
         {
          "cpu_percent": 195.7,
          "cpu_time": 9.209999999999999,
          "name": "CustMercTS_1",
          "real_mem": 359198720,
          "time": 1616498934.6703207
         },
         {
          "cpu_percent": 193.6,
          "cpu_time": 9.42,
          "name": "ReadCsvProjectSpace_1",
          "real_mem": 362016768,
          "time": 1616498934.870555
         },
         {
          "cpu_percent": 196.8,
          "cpu_time": 9.51,
          "name": "CustMercTS_1",
          "real_mem": 362553344,
          "time": 1616498934.970015
         },
         {
          "cpu_percent": 196.7,
          "cpu_time": 9.709999999999999,
          "name": "ReadCsvProjectSpace_1",
          "real_mem": 364609536,
          "time": 1616498935.170301
         },
         {
          "cpu_percent": 195.4,
          "cpu_time": 9.78,
          "name": "CustMercTS_1",
          "real_mem": 368812032,
          "time": 1616498935.2595441
         },
         {
          "cpu_percent": 196.2,
          "cpu_time": 9.99,
          "name": "ReadCsvProjectSpace_1",
          "real_mem": 368422912,
          "time": 1616498935.4694445
         },
         {
          "cpu_percent": 196,
          "cpu_time": 10.069999999999999,
          "name": "CustMercTS_1",
          "real_mem": 368615424,
          "time": 1616498935.5591257
         },
         {
          "cpu_percent": 194.7,
          "cpu_time": 10.299999999999999,
          "name": "ReadCsvProjectSpace_1",
          "real_mem": 370589696,
          "time": 1616498935.770021
         },
         {
          "cpu_percent": 194.3,
          "cpu_time": 10.399999999999999,
          "name": "CustMercTS_1",
          "real_mem": 374149120,
          "time": 1616498935.8700416
         },
         {
          "cpu_percent": 285.3,
          "cpu_time": 10.6,
          "name": "ReadCsvProjectSpace_1",
          "real_mem": 375021568,
          "time": 1616498936.0732324
         },
         {
          "cpu_percent": 195.5,
          "cpu_time": 10.680000000000001,
          "name": "CustMercTS_1",
          "real_mem": 376889344,
          "time": 1616498936.1703598
         },
         {
          "cpu_percent": 195.8,
          "cpu_time": 10.88,
          "name": "ReadCsvProjectSpace_1",
          "real_mem": 379822080,
          "time": 1616498936.3702428
         },
         {
          "cpu_percent": 194.1,
          "cpu_time": 10.97,
          "name": "CustMercTS_1",
          "real_mem": 380624896,
          "time": 1616498936.4697113
         },
         {
          "cpu_percent": 290.9,
          "cpu_time": 11.18,
          "name": "ReadCsvProjectSpace_1",
          "real_mem": 381575168,
          "time": 1616498936.670104
         },
         {
          "cpu_percent": 196.6,
          "cpu_time": 11.26,
          "name": "CustMercTS_1",
          "real_mem": 382902272,
          "time": 1616498936.7692392
         },
         {
          "cpu_percent": 196.3,
          "cpu_time": 11.44,
          "name": "ReadCsvProjectSpace_1",
          "real_mem": 383717376,
          "time": 1616498936.969402
         },
         {
          "cpu_percent": 196.5,
          "cpu_time": 11.53,
          "name": "CustMercTS_1",
          "real_mem": 384679936,
          "time": 1616498937.0695102
         },
         {
          "cpu_percent": 292.5,
          "cpu_time": 11.74,
          "name": "ReadCsvProjectSpace_1",
          "real_mem": 386797568,
          "time": 1616498937.270393
         },
         {
          "cpu_percent": 196.2,
          "cpu_time": 11.83,
          "name": "CustMercTS_1",
          "real_mem": 387391488,
          "time": 1616498937.3701448
         },
         {
          "cpu_percent": 195.9,
          "cpu_time": 12.26,
          "name": "ReadCsvProjectSpace_1",
          "real_mem": 392126464,
          "time": 1616498937.7938647
         },
         {
          "cpu_percent": 196,
          "cpu_time": 12.35,
          "name": "CustMercTS_1",
          "real_mem": 393224192,
          "time": 1616498937.892516
         },
         {
          "cpu_percent": 98,
          "cpu_time": 12.77,
          "name": "ReadCsvProjectSpace_1",
          "real_mem": 399990784,
          "time": 1616498938.3718255
         },
         {
          "cpu_percent": 196.2,
          "cpu_time": 12.83,
          "name": "CustMercTS_1",
          "real_mem": 400658432,
          "time": 1616498938.4157772
         },
         {
          "cpu_percent": 97.3,
          "cpu_time": 13.28,
          "name": "ReadCsvProjectSpace_1",
          "real_mem": 406405120,
          "time": 1616498938.8952394
         },
         {
          "cpu_percent": 97.8,
          "cpu_time": 13.33,
          "name": "CustMercTS_1",
          "real_mem": 408018944,
          "time": 1616498938.9391265
         },
         {
          "cpu_percent": 294.8,
          "cpu_time": 13.86,
          "name": "ReadCsvProjectSpace_1",
          "real_mem": 411521024,
          "time": 1616498939.469819
         },
         {
          "cpu_percent": 196.1,
          "cpu_time": 13.9,
          "name": "CustMercTS_1",
          "real_mem": 411598848,
          "time": 1616498939.4921725
         },
         {
          "cpu_percent": 196.6,
          "cpu_time": 14.4,
          "name": "ReadCsvProjectSpace_1",
          "real_mem": 415514624,
          "time": 1616498939.9941356
         },
         {
          "cpu_percent": 0,
          "cpu_time": 14.41,
          "name": "CustMercTS_1",
          "real_mem": 415514624,
          "time": 1616498940.0164757
         },
         {
          "cpu_percent": 289.6,
          "cpu_time": 14.92,
          "name": "ReadCsvProjectSpace_1",
          "real_mem": 412942336,
          "time": 1616498940.5591123
         },
         {
          "cpu_percent": 195.8,
          "cpu_time": 14.969999999999999,
          "name": "CustMercTS_1",
          "real_mem": 413024256,
          "time": 1616498940.5813508
         },
         {
          "cpu_percent": 196,
          "cpu_time": 15.45,
          "name": "ReadCsvProjectSpace_1",
          "real_mem": 416137216,
          "time": 1616498941.0838172
         },
         {
          "cpu_percent": 196.4,
          "cpu_time": 15.5,
          "name": "CustMercTS_1",
          "real_mem": 416174080,
          "time": 1616498941.1065552
         },
         {
          "cpu_percent": 196.9,
          "cpu_time": 16.03,
          "name": "ReadCsvProjectSpace_1",
          "real_mem": 419377152,
          "time": 1616498941.6702805
         },
         {
          "cpu_percent": 293.1,
          "cpu_time": 16.08,
          "name": "CustMercTS_1",
          "real_mem": 419737600,
          "time": 1616498941.6922657
         },
         {
          "cpu_percent": 96.3,
          "cpu_time": 16.51,
          "name": "ReadCsvProjectSpace_1",
          "real_mem": 422174720,
          "time": 1616498942.1949663
         },
         {
          "cpu_percent": 98.3,
          "cpu_time": 16.53,
          "name": "CustMercTS_1",
          "real_mem": 422268928,
          "time": 1616498942.216877
         },
         {
          "cpu_percent": 0,
          "cpu_time": 17.04,
          "name": "CustMercTS_1",
          "real_mem": 425132032,
          "time": 1616498942.7418103
         },
         {
          "cpu_percent": 0,
          "cpu_time": 17.04,
          "name": "ReadCsvProjectSpace_1",
          "real_mem": 425132032,
          "time": 1616498942.7193096
         },
         {
          "cpu_percent": 196.6,
          "cpu_time": 17.57,
          "name": "ReadCsvProjectSpace_1",
          "real_mem": 427958272,
          "time": 1616498943.2701764
         },
         {
          "cpu_percent": 196.8,
          "cpu_time": 17.619999999999997,
          "name": "CustMercTS_1",
          "real_mem": 428273664,
          "time": 1616498943.292657
         },
         {
          "cpu_percent": 196.2,
          "cpu_time": 18.11,
          "name": "ReadCsvProjectSpace_1",
          "real_mem": 430538752,
          "time": 1616498943.7952101
         },
         {
          "cpu_percent": 294.2,
          "cpu_time": 18.18,
          "name": "CustMercTS_1",
          "real_mem": 430669824,
          "time": 1616498943.8715496
         },
         {
          "cpu_percent": 294.9,
          "cpu_time": 18.65,
          "name": "ReadCsvProjectSpace_1",
          "real_mem": 433848320,
          "time": 1616498944.3592904
         },
         {
          "cpu_percent": 98.1,
          "cpu_time": 18.709999999999997,
          "name": "CustMercTS_1",
          "real_mem": 433848320,
          "time": 1616498944.3940213
         },
         {
          "cpu_percent": 197.4,
          "cpu_time": 19.18,
          "name": "ReadCsvProjectSpace_1",
          "real_mem": 442638336,
          "time": 1616498944.8822582
         },
         {
          "cpu_percent": 196.2,
          "cpu_time": 19.24,
          "name": "CustMercTS_1",
          "real_mem": 443764736,
          "time": 1616498944.97035
         },
         {
          "cpu_percent": 196.2,
          "cpu_time": 19.7,
          "name": "ReadCsvProjectSpace_1",
          "real_mem": 448569344,
          "time": 1616498945.4592605
         },
         {
          "cpu_percent": 196.6,
          "cpu_time": 19.77,
          "name": "CustMercTS_1",
          "real_mem": 448950272,
          "time": 1616498945.4933608
         },
         {
          "cpu_percent": 196.8,
          "cpu_time": 20.27,
          "name": "ReadCsvProjectSpace_1",
          "real_mem": 452984832,
          "time": 1616498945.9823172
         },
         {
          "cpu_percent": 195.9,
          "cpu_time": 20.34,
          "name": "CustMercTS_1",
          "real_mem": 453361664,
          "time": 1616498946.0711622
         },
         {
          "cpu_percent": 0,
          "cpu_time": 20.770000000000003,
          "name": "ReadCsvProjectSpace_1",
          "real_mem": 457142272,
          "time": 1616498946.5060654
         },
         {
          "cpu_percent": 98.3,
          "cpu_time": 20.85,
          "name": "CustMercTS_1",
          "real_mem": 457457664,
          "time": 1616498946.5938838
         },
         {
          "cpu_percent": 196.4,
          "cpu_time": 21.3,
          "name": "ReadCsvProjectSpace_1",
          "real_mem": 461750272,
          "time": 1616498947.07018
         },
         {
          "cpu_percent": 197.2,
          "cpu_time": 21.39,
          "name": "CustMercTS_1",
          "real_mem": 462565376,
          "time": 1616498947.1691356
         },
         {
          "cpu_percent": 15.3,
          "cpu_time": 21.84,
          "name": "ReadCsvProjectSpace_1",
          "real_mem": 466268160,
          "time": 1616498947.6483598
         },
         {
          "cpu_percent": 392.4,
          "cpu_time": 21.96,
          "name": "CustMercTS_1",
          "real_mem": 467103744,
          "time": 1616498947.7591722
         },
         {
          "cpu_percent": 197.1,
          "cpu_time": 22.349999999999998,
          "name": "ReadCsvProjectSpace_1",
          "real_mem": 469045248,
          "time": 1616498948.1709669
         },
         {
          "cpu_percent": 98.1,
          "cpu_time": 22.45,
          "name": "CustMercTS_1",
          "real_mem": 469811200,
          "time": 1616498948.282071
         },
         {
          "cpu_percent": 0,
          "cpu_time": 23.369999999999997,
          "name": "ReadCsvProjectSpace_1",
          "real_mem": 475983872,
          "time": 1616498949.2705534
         },
         {
          "cpu_percent": 96.7,
          "cpu_time": 23.41,
          "name": "CustMercTS_1",
          "real_mem": 477736960,
          "time": 1616498949.3055494
         },
         {
          "cpu_percent": 194.8,
          "cpu_time": 24.479999999999997,
          "name": "CustMercTS_1",
          "real_mem": 495566848,
          "time": 1616498950.3710732
         },
         {
          "cpu_percent": 0,
          "cpu_time": 25.5,
          "name": "CustMercTS_1",
          "real_mem": 489938944,
          "time": 1616498951.3936832
         },
         {
          "cpu_percent": 197.2,
          "cpu_time": 26.540000000000003,
          "name": "CustMercTS_1",
          "real_mem": 500035584,
          "time": 1616498952.4702344
         },
         {
          "cpu_percent": 197.2,
          "cpu_time": 27.549999999999997,
          "name": "CustMercTS_1",
          "real_mem": 502104064,
          "time": 1616498953.4936492
         },
         {
          "cpu_percent": 96.5,
          "cpu_time": 28.509999999999998,
          "name": "CustMercTS_1",
          "real_mem": 504385536,
          "time": 1616498954.5172002
         },
         {
          "cpu_percent": 195.9,
          "cpu_time": 29.52,
          "name": "CustMercTS_1",
          "real_mem": 505511936,
          "time": 1616498955.5402503
         },
         {
          "cpu_percent": 386.4,
          "cpu_time": 30.67,
          "name": "CustMercTS_1",
          "real_mem": 511954944,
          "time": 1616498956.670137
         },
         {
          "cpu_percent": 98.2,
          "cpu_time": 31.6,
          "name": "CustMercTS_1",
          "real_mem": 532750336,
          "time": 1616498957.6925514
         },
         {
          "cpu_percent": 0,
          "cpu_time": 32.629999999999995,
          "name": "CustMercTS_1",
          "real_mem": 567250944,
          "time": 1616498958.715785
         },
         {
          "cpu_percent": 291.6,
          "cpu_time": 33.66,
          "name": "CustMercTS_1",
          "real_mem": 569815040,
          "time": 1616498959.7704196
         },
         {
          "cpu_percent": 0,
          "cpu_time": 34.68,
          "name": "CustMercTS_1",
          "real_mem": 570810368,
          "time": 1616498960.795135
         },
         {
          "cpu_percent": 195.7,
          "cpu_time": 35.71,
          "name": "CustMercTS_1",
          "real_mem": 577871872,
          "time": 1616498961.8703604
         },
         {
          "cpu_percent": 293.1,
          "cpu_time": 36.739999999999995,
          "name": "CustMercTS_1",
          "real_mem": 582549504,
          "time": 1616498962.8948867
         },
         {
          "cpu_percent": 294.4,
          "cpu_time": 37.81,
          "name": "CustMercTS_1",
          "real_mem": 583712768,
          "time": 1616498963.981318
         },
         {
          "cpu_percent": 193.4,
          "cpu_time": 38.830000000000005,
          "name": "CustMercTS_1",
          "real_mem": 585285632,
          "time": 1616498965.0714765
         },
         {
          "cpu_percent": 97.6,
          "cpu_time": 39.86,
          "name": "CustMercTS_1",
          "real_mem": 588472320,
          "time": 1616498966.0941586
         },
         {
          "cpu_percent": 98.3,
          "cpu_time": 40.85,
          "name": "CustMercTS_1",
          "real_mem": 592478208,
          "time": 1616498967.1184213
         },
         {
          "cpu_percent": 98.1,
          "cpu_time": 41.92,
          "name": "CustMercTS_1",
          "real_mem": 594743296,
          "time": 1616498968.1918423
         },
         {
          "cpu_percent": 196.6,
          "cpu_time": 42.94,
          "name": "CustMercTS_1",
          "real_mem": 652988416,
          "time": 1616498969.2703552
         },
         {
          "cpu_percent": 98.2,
          "cpu_time": 43.91,
          "name": "CustMercTS_1",
          "real_mem": 660824064,
          "time": 1616498970.2931473
         },
         {
          "cpu_percent": 159.4,
          "cpu_time": 44.959999999999994,
          "name": "CustMercTS_1",
          "real_mem": 697655296,
          "time": 1616498971.384042
         }
        ],
        "logs": [
         {
          "asctime": "2021-03-23 11:28:44,473",
          "created": 1616498924.4733918,
          "extra": {},
          "filename": "async_executors.py",
          "funcName": "main",
          "levelname": "DEBUG",
          "lineno": 114,
          "message": "NonSparkPath_1: started async block execution\n",
          "name": "engine.logs:NonSparkPath_1",
          "pathname": "/usr/local/lib/python3.7/dist-packages/razor/flow/async_executors.py",
          "process": 369,
          "processName": "ForkProcess-1:1",
          "thread": 140360815884096,
          "threadName": "MainThread"
         },
         {
          "asctime": "2021-03-23 11:28:44,491",
          "created": 1616498924.491743,
          "extra": {},
          "filename": "async_executors.py",
          "funcName": "fill_atomic_inputs",
          "levelname": "INFO",
          "lineno": 250,
          "message": "NonSparkPath_1: waiting for atomic input: ip_path",
          "name": "engine.logs:NonSparkPath_1",
          "pathname": "/usr/local/lib/python3.7/dist-packages/razor/flow/async_executors.py",
          "process": 369,
          "processName": "ForkProcess-1:1",
          "thread": 140360815884096,
          "threadName": "MainThread"
         },
         {
          "asctime": "2021-03-23 11:28:44,491",
          "created": 1616498924.4919665,
          "extra": {},
          "filename": "async_executors.py",
          "funcName": "fill_atomic_inputs",
          "levelname": "DEBUG",
          "lineno": 253,
          "message": "NonSparkPath_1: got atomic input: customer_data.csv",
          "name": "engine.logs:NonSparkPath_1",
          "pathname": "/usr/local/lib/python3.7/dist-packages/razor/flow/async_executors.py",
          "process": 369,
          "processName": "ForkProcess-1:1",
          "thread": 140360815884096,
          "threadName": "MainThread"
         },
         {
          "asctime": "2021-03-23 11:28:44,492",
          "created": 1616498924.492034,
          "extra": {},
          "filename": "async_executors.py",
          "funcName": "main",
          "levelname": "DEBUG",
          "lineno": 130,
          "message": "NonSparkPath_1: triggering block run",
          "name": "engine.logs:NonSparkPath_1",
          "pathname": "/usr/local/lib/python3.7/dist-packages/razor/flow/async_executors.py",
          "process": 369,
          "processName": "ForkProcess-1:1",
          "thread": 140360815884096,
          "threadName": "MainThread"
         },
         {
          "asctime": "2021-03-23 11:28:44,717",
          "created": 1616498924.7178097,
          "extra": {},
          "filename": "async_executors.py",
          "funcName": "distribute_output_queue",
          "levelname": "DEBUG",
          "lineno": 308,
          "message": "NonSparkPath_1: ---- dist output: /home/aios/projectspace/customer_data.csv -> ('ReadCsvProjectSpace_1', 'filename')",
          "name": "engine.logs:NonSparkPath_1",
          "pathname": "/usr/local/lib/python3.7/dist-packages/razor/flow/async_executors.py",
          "process": 369,
          "processName": "ForkProcess-1:1",
          "thread": 140360815884096,
          "threadName": "MainThread"
         },
         {
          "asctime": "2021-03-23 11:28:44,718",
          "created": 1616498924.7181687,
          "extra": {},
          "filename": "async_executors.py",
          "funcName": "main",
          "levelname": "DEBUG",
          "lineno": 147,
          "message": "NonSparkPath_1: block thread completed",
          "name": "engine.logs:NonSparkPath_1",
          "pathname": "/usr/local/lib/python3.7/dist-packages/razor/flow/async_executors.py",
          "process": 369,
          "processName": "ForkProcess-1:1",
          "thread": 140360815884096,
          "threadName": "MainThread"
         },
         {
          "asctime": "2021-03-23 11:28:44,718",
          "created": 1616498924.7182586,
          "extra": {},
          "filename": "async_executors.py",
          "funcName": "main",
          "levelname": "DEBUG",
          "lineno": 149,
          "message": "NonSparkPath_1: block execution complete",
          "name": "engine.logs:NonSparkPath_1",
          "pathname": "/usr/local/lib/python3.7/dist-packages/razor/flow/async_executors.py",
          "process": 369,
          "processName": "ForkProcess-1:1",
          "thread": 140360815884096,
          "threadName": "MainThread"
         },
         {
          "asctime": "2021-03-23 11:28:44,718",
          "created": 1616498924.7186847,
          "extra": {},
          "filename": "async_executors.py",
          "funcName": "distribute_output_queue",
          "levelname": "DEBUG",
          "lineno": 308,
          "message": "NonSparkPath_1: ---- dist output: b'__!\\tEndOfStream\\t!__' -> ('ReadCsvProjectSpace_1', 'filename')",
          "name": "engine.logs:NonSparkPath_1",
          "pathname": "/usr/local/lib/python3.7/dist-packages/razor/flow/async_executors.py",
          "process": 369,
          "processName": "ForkProcess-1:1",
          "thread": 140360815884096,
          "threadName": "MainThread"
         },
         {
          "asctime": "2021-03-23 11:28:44,751",
          "created": 1616498924.7511437,
          "extra": {},
          "filename": "async_executors.py",
          "funcName": "main",
          "levelname": "DEBUG",
          "lineno": 114,
          "message": "ReadCsvProjectSpace_1: started async block execution\n",
          "name": "engine.logs:ReadCsvProjectSpace_1",
          "pathname": "/usr/local/lib/python3.7/dist-packages/razor/flow/async_executors.py",
          "process": 377,
          "processName": "ForkProcess-1:2",
          "thread": 140360815884096,
          "threadName": "MainThread"
         },
         {
          "asctime": "2021-03-23 11:28:44,753",
          "created": 1616498924.7530882,
          "extra": {},
          "filename": "async_executors.py",
          "funcName": "main",
          "levelname": "DEBUG",
          "lineno": 114,
          "message": "CustMercTS_1: started async block execution\n",
          "name": "engine.logs:CustMercTS_1",
          "pathname": "/usr/local/lib/python3.7/dist-packages/razor/flow/async_executors.py",
          "process": 377,
          "processName": "ForkProcess-1:2",
          "thread": 140360815884096,
          "threadName": "MainThread"
         },
         {
          "asctime": "2021-03-23 11:28:44,769",
          "created": 1616498924.7692785,
          "extra": {},
          "filename": "async_executors.py",
          "funcName": "fill_atomic_inputs",
          "levelname": "INFO",
          "lineno": 250,
          "message": "ReadCsvProjectSpace_1: waiting for atomic input: filename",
          "name": "engine.logs:ReadCsvProjectSpace_1",
          "pathname": "/usr/local/lib/python3.7/dist-packages/razor/flow/async_executors.py",
          "process": 377,
          "processName": "ForkProcess-1:2",
          "thread": 140360815884096,
          "threadName": "MainThread"
         },
         {
          "asctime": "2021-03-23 11:28:44,790",
          "created": 1616498924.7904687,
          "extra": {},
          "filename": "async_executors.py",
          "funcName": "fill_atomic_inputs",
          "levelname": "INFO",
          "lineno": 250,
          "message": "CustMercTS_1: waiting for atomic input: ip_data",
          "name": "engine.logs:CustMercTS_1",
          "pathname": "/usr/local/lib/python3.7/dist-packages/razor/flow/async_executors.py",
          "process": 377,
          "processName": "ForkProcess-1:2",
          "thread": 140360815884096,
          "threadName": "MainThread"
         },
         {
          "asctime": "2021-03-23 11:28:44,797",
          "created": 1616498924.7971764,
          "extra": {},
          "filename": "async_executors.py",
          "funcName": "start_input_receiver",
          "levelname": "DEBUG",
          "lineno": 173,
          "message": "NonSparkPath_1: received cmd: start_sender, (), {'out_name': 'op_path', 'target': ('ReadCsvProjectSpace_1', 'filename'), 'out_addr': 'tcp://0.0.0.0:50490', 'in_memory': None}",
          "name": "engine.logs:NonSparkPath_1",
          "pathname": "/usr/local/lib/python3.7/dist-packages/razor/flow/async_executors.py",
          "process": 369,
          "processName": "ForkProcess-1:1",
          "thread": 140360815884096,
          "threadName": "MainThread"
         },
         {
          "asctime": "2021-03-23 11:28:44,797",
          "created": 1616498924.7976546,
          "extra": {},
          "filename": "async_executors.py",
          "funcName": "start_output_sender",
          "levelname": "DEBUG",
          "lineno": 370,
          "message": "NonSparkPath_1: got start_sender, op_path, ('ReadCsvProjectSpace_1', 'filename')",
          "name": "engine.logs:NonSparkPath_1",
          "pathname": "/usr/local/lib/python3.7/dist-packages/razor/flow/async_executors.py",
          "process": 369,
          "processName": "ForkProcess-1:1",
          "thread": 140360815884096,
          "threadName": "MainThread"
         },
         {
          "asctime": "2021-03-23 11:28:44,798",
          "created": 1616498924.7985818,
          "extra": {},
          "filename": "async_executors.py",
          "funcName": "start_output_sender",
          "levelname": "DEBUG",
          "lineno": 388,
          "message": "NonSparkPath_1: SENT, filename, /home/aios/projectspace/customer_data.csv, ('ReadCsvProjectSpace_1', 'filename')",
          "name": "engine.logs:NonSparkPath_1",
          "pathname": "/usr/local/lib/python3.7/dist-packages/razor/flow/async_executors.py",
          "process": 369,
          "processName": "ForkProcess-1:1",
          "thread": 140360815884096,
          "threadName": "MainThread"
         },
         {
          "asctime": "2021-03-23 11:28:44,798",
          "created": 1616498924.7989347,
          "extra": {},
          "filename": "async_executors.py",
          "funcName": "start_output_sender",
          "levelname": "DEBUG",
          "lineno": 388,
          "message": "NonSparkPath_1: SENT, filename, b'__!\\tEndOfStream\\t!__', ('ReadCsvProjectSpace_1', 'filename')",
          "name": "engine.logs:NonSparkPath_1",
          "pathname": "/usr/local/lib/python3.7/dist-packages/razor/flow/async_executors.py",
          "process": 369,
          "processName": "ForkProcess-1:1",
          "thread": 140360815884096,
          "threadName": "MainThread"
         },
         {
          "asctime": "2021-03-23 11:28:44,799",
          "created": 1616498924.7992706,
          "extra": {},
          "filename": "async_executors.py",
          "funcName": "start_output_sender",
          "levelname": "DEBUG",
          "lineno": 391,
          "message": "NonSparkPath_1: completed output: ('op_path', ('ReadCsvProjectSpace_1', 'filename'))",
          "name": "engine.logs:NonSparkPath_1",
          "pathname": "/usr/local/lib/python3.7/dist-packages/razor/flow/async_executors.py",
          "process": 369,
          "processName": "ForkProcess-1:1",
          "thread": 140360815884096,
          "threadName": "MainThread"
         },
         {
          "asctime": "2021-03-23 11:28:44,799",
          "created": 1616498924.7997699,
          "extra": {},
          "filename": "async_executors.py",
          "funcName": "start_input_receiver",
          "levelname": "DEBUG",
          "lineno": 177,
          "message": "ReadCsvProjectSpace_1: received data: filename, /home/aios/projectspace/customer_data.csv",
          "name": "engine.logs:ReadCsvProjectSpace_1",
          "pathname": "/usr/local/lib/python3.7/dist-packages/razor/flow/async_executors.py",
          "process": 377,
          "processName": "ForkProcess-1:2",
          "thread": 140360815884096,
          "threadName": "MainThread"
         },
         {
          "asctime": "2021-03-23 11:28:44,800",
          "created": 1616498924.8003652,
          "extra": {},
          "filename": "async_executors.py",
          "funcName": "start_input_receiver",
          "levelname": "DEBUG",
          "lineno": 177,
          "message": "ReadCsvProjectSpace_1: received data: filename, b'__!\\tEndOfStream\\t!__'",
          "name": "engine.logs:ReadCsvProjectSpace_1",
          "pathname": "/usr/local/lib/python3.7/dist-packages/razor/flow/async_executors.py",
          "process": 377,
          "processName": "ForkProcess-1:2",
          "thread": 140360815884096,
          "threadName": "MainThread"
         },
         {
          "asctime": "2021-03-23 11:28:44,800",
          "created": 1616498924.8008225,
          "extra": {},
          "filename": "async_executors.py",
          "funcName": "fill_atomic_inputs",
          "levelname": "DEBUG",
          "lineno": 253,
          "message": "ReadCsvProjectSpace_1: got atomic input: /home/aios/projectspace/customer_data.csv",
          "name": "engine.logs:ReadCsvProjectSpace_1",
          "pathname": "/usr/local/lib/python3.7/dist-packages/razor/flow/async_executors.py",
          "process": 377,
          "processName": "ForkProcess-1:2",
          "thread": 140360815884096,
          "threadName": "MainThread"
         },
         {
          "asctime": "2021-03-23 11:28:44,801",
          "created": 1616498924.8010736,
          "extra": {},
          "filename": "async_executors.py",
          "funcName": "fill_atomic_inputs",
          "levelname": "INFO",
          "lineno": 250,
          "message": "ReadCsvProjectSpace_1: waiting for atomic input: config",
          "name": "engine.logs:ReadCsvProjectSpace_1",
          "pathname": "/usr/local/lib/python3.7/dist-packages/razor/flow/async_executors.py",
          "process": 377,
          "processName": "ForkProcess-1:2",
          "thread": 140360815884096,
          "threadName": "MainThread"
         },
         {
          "asctime": "2021-03-23 11:28:44,801",
          "created": 1616498924.8011982,
          "extra": {},
          "filename": "async_executors.py",
          "funcName": "fill_atomic_inputs",
          "levelname": "DEBUG",
          "lineno": 253,
          "message": "ReadCsvProjectSpace_1: got atomic input: {}",
          "name": "engine.logs:ReadCsvProjectSpace_1",
          "pathname": "/usr/local/lib/python3.7/dist-packages/razor/flow/async_executors.py",
          "process": 377,
          "processName": "ForkProcess-1:2",
          "thread": 140360815884096,
          "threadName": "MainThread"
         },
         {
          "asctime": "2021-03-23 11:28:44,801",
          "created": 1616498924.801278,
          "extra": {},
          "filename": "async_executors.py",
          "funcName": "fill_atomic_inputs",
          "levelname": "INFO",
          "lineno": 250,
          "message": "ReadCsvProjectSpace_1: waiting for atomic input: source",
          "name": "engine.logs:ReadCsvProjectSpace_1",
          "pathname": "/usr/local/lib/python3.7/dist-packages/razor/flow/async_executors.py",
          "process": 377,
          "processName": "ForkProcess-1:2",
          "thread": 140360815884096,
          "threadName": "MainThread"
         },
         {
          "asctime": "2021-03-23 11:28:44,801",
          "created": 1616498924.80137,
          "extra": {},
          "filename": "async_executors.py",
          "funcName": "fill_atomic_inputs",
          "levelname": "DEBUG",
          "lineno": 253,
          "message": "ReadCsvProjectSpace_1: got atomic input: ",
          "name": "engine.logs:ReadCsvProjectSpace_1",
          "pathname": "/usr/local/lib/python3.7/dist-packages/razor/flow/async_executors.py",
          "process": 377,
          "processName": "ForkProcess-1:2",
          "thread": 140360815884096,
          "threadName": "MainThread"
         },
         {
          "asctime": "2021-03-23 11:28:44,804",
          "created": 1616498924.8046691,
          "extra": {},
          "filename": "async_executors.py",
          "funcName": "start_input_receiver",
          "levelname": "DEBUG",
          "lineno": 173,
          "message": "NonSparkPath_1: received cmd: terminate, (), {}",
          "name": "engine.logs:NonSparkPath_1",
          "pathname": "/usr/local/lib/python3.7/dist-packages/razor/flow/async_executors.py",
          "process": 369,
          "processName": "ForkProcess-1:1",
          "thread": 140360815884096,
          "threadName": "MainThread"
         },
         {
          "asctime": "2021-03-23 11:28:44,801",
          "created": 1616498924.8014762,
          "extra": {},
          "filename": "async_executors.py",
          "funcName": "main",
          "levelname": "DEBUG",
          "lineno": 130,
          "message": "ReadCsvProjectSpace_1: triggering block run",
          "name": "engine.logs:ReadCsvProjectSpace_1",
          "pathname": "/usr/local/lib/python3.7/dist-packages/razor/flow/async_executors.py",
          "process": 377,
          "processName": "ForkProcess-1:2",
          "thread": 140360815884096,
          "threadName": "MainThread"
         },
         {
          "asctime": "2021-03-23 11:29:09,080",
          "created": 1616498949.0801253,
          "exc_info": null,
          "extra": {},
          "filename": null,
          "full_message": null,
          "funcName": null,
          "levelname": "STDOUT",
          "lineno": null,
          "message": "Hello\n",
          "name": "block.stdout:ReadCsvProjectSpace_1",
          "pathname": null,
          "process": null,
          "processName": null,
          "thread": null,
          "threadName": null
         },
         {
          "asctime": "2021-03-23 11:29:09,159",
          "created": 1616498949.1598203,
          "exc_info": null,
          "extra": {},
          "filename": null,
          "full_message": null,
          "funcName": null,
          "levelname": "STDOUT",
          "lineno": null,
          "message": "root\n |-- transaction_id: string (nullable = true)\n |-- time: string (nullable = true)\n |-- customer_name: string (nullable = true)\n |-- card_number: string (nullable = true)\n |-- card_type: string (nullable = true)\n |-- physical_card_type: string (nullable = true)\n |-- merchant_id: string (nullable = true)\n |-- merchant_city: string (nullable = true)\n |-- merchant_state: string (nullable = true)\n |-- transaction_type: string (nullable = true)\n |-- transaction_type_sub: string (nullable = true)\n |-- amount: string (nullable = true)\n |-- product_type: string (nullable = true)\n |-- fraud_risk: string (nullable = true)\n |-- One Time Heavy Loot Score: string (nullable = true)\n |-- Drastic Transaction Change Pattern Score: string (nullable = true)\n |-- Parasitic Fraud Score: string (nullable = true)\n |-- Purchase Behavior Variation Score: string (nullable = true)\n |-- Preferred Merchant Variation Score: string (nullable = true)\n |-- Multiple Location Fraud Score: string (nullable = true)\n |-- Fraudster Merchant Score: string (nullable = true)\n |-- no_of_transactions_in_the_day: string (nullable = true)\n |-- max_transaction_amount_in_the_day: string (nullable = true)\n |-- avg_transaction_amount_in_the_day: string (nullable = true)\n |-- no_of_transactions_in_the_month: string (nullable = true)\n |-- max_transaction_amount_the_month: string (nullable = true)\n |-- avg_transaction_amount_the_month: string (nullable = true)\n |-- no_of_transactions_of_the_same_merchant_in_the_day: string (nullable = true)\n |-- max_transactions_of_the_same_merchant_in_the_day: string (nullable = true)\n |-- avg_transactions_of_the_same_merchant_in_the_day: string (nullable = true)\n |-- no_of_transactions_of_the_same_merchant_in_the_month: string (nullable = true)\n |-- max_transactions_of_the_same_merchant_in_the_month: string (nullable = true)\n |-- avg_transactions_of_the_same_merchant_in_the_month: string (nullable = true)\n\n",
          "name": "block.stdout:ReadCsvProjectSpace_1",
          "pathname": null,
          "process": null,
          "processName": null,
          "thread": null,
          "threadName": null
         },
         {
          "asctime": "2021-03-23 11:29:09,196",
          "created": 1616498949.196582,
          "extra": {},
          "filename": "async_executors.py",
          "funcName": "distribute_output_queue",
          "levelname": "DEBUG",
          "lineno": 308,
          "message": "ReadCsvProjectSpace_1: ---- dist output: DataFrame[transaction_id: string, time: string, customer_name: string, card_number: string, card_type: string, physical_card_type: string, merchant_id: string, merchant_city: string, merchant_state: string, transaction_type: string, transaction_type_sub: string, amount: string, product_type: string, fraud_risk: string, One Time Heavy Loot Score: string, Drastic Transaction Change Pattern Score: string, Parasitic Fraud Score: string, Purchase Behavior Variation Score: string, Preferred Merchant Variation Score: string, Multiple Location Fraud Score: string, Fraudster Merchant Score: string, no_of_transactions_in_the_day: string, max_transaction_amount_in_the_day: string, avg_transaction_amount_in_the_day: string, no_of_transactions_in_the_month: string, max_transaction_amount_the_month: string, avg_transaction_amount_the_month: string, no_of_transactions_of_the_same_merchant_in_the_day: string, max_transactions_of_the_same_merchant_in_the_day: string, avg_transactions_of_the_same_merchant_in_the_day: string, no_of_transactions_of_the_same_merchant_in_the_month: string, max_transactions_of_the_same_merchant_in_the_month: string, avg_transactions_of_the_same_merchant_in_the_month: string] -> ('CustMercTS_1', 'ip_data')",
          "name": "engine.logs:ReadCsvProjectSpace_1",
          "pathname": "/usr/local/lib/python3.7/dist-packages/razor/flow/async_executors.py",
          "process": 377,
          "processName": "ForkProcess-1:2",
          "thread": 140360815884096,
          "threadName": "MainThread"
         },
         {
          "asctime": "2021-03-23 11:29:09,197",
          "created": 1616498949.1970596,
          "extra": {},
          "filename": "async_executors.py",
          "funcName": "main",
          "levelname": "DEBUG",
          "lineno": 147,
          "message": "ReadCsvProjectSpace_1: block thread completed",
          "name": "engine.logs:ReadCsvProjectSpace_1",
          "pathname": "/usr/local/lib/python3.7/dist-packages/razor/flow/async_executors.py",
          "process": 377,
          "processName": "ForkProcess-1:2",
          "thread": 140360815884096,
          "threadName": "MainThread"
         },
         {
          "asctime": "2021-03-23 11:29:09,197",
          "created": 1616498949.197153,
          "extra": {},
          "filename": "async_executors.py",
          "funcName": "main",
          "levelname": "DEBUG",
          "lineno": 149,
          "message": "ReadCsvProjectSpace_1: block execution complete",
          "name": "engine.logs:ReadCsvProjectSpace_1",
          "pathname": "/usr/local/lib/python3.7/dist-packages/razor/flow/async_executors.py",
          "process": 377,
          "processName": "ForkProcess-1:2",
          "thread": 140360815884096,
          "threadName": "MainThread"
         },
         {
          "asctime": "2021-03-23 11:29:09,197",
          "created": 1616498949.1974294,
          "extra": {},
          "filename": "async_executors.py",
          "funcName": "distribute_output_queue",
          "levelname": "DEBUG",
          "lineno": 308,
          "message": "ReadCsvProjectSpace_1: ---- dist output: b'__!\\tEndOfStream\\t!__' -> ('CustMercTS_1', 'ip_data')",
          "name": "engine.logs:ReadCsvProjectSpace_1",
          "pathname": "/usr/local/lib/python3.7/dist-packages/razor/flow/async_executors.py",
          "process": 377,
          "processName": "ForkProcess-1:2",
          "thread": 140360815884096,
          "threadName": "MainThread"
         },
         {
          "asctime": "2021-03-23 11:29:09,275",
          "created": 1616498949.2752233,
          "extra": {},
          "filename": "async_executors.py",
          "funcName": "start_input_receiver",
          "levelname": "DEBUG",
          "lineno": 173,
          "message": "ReadCsvProjectSpace_1: received cmd: start_sender, (), {'out_name': 'data', 'target': ('CustMercTS_1', 'ip_data'), 'out_addr': 'tcp://0.0.0.0:59902', 'in_memory': True}",
          "name": "engine.logs:ReadCsvProjectSpace_1",
          "pathname": "/usr/local/lib/python3.7/dist-packages/razor/flow/async_executors.py",
          "process": 377,
          "processName": "ForkProcess-1:2",
          "thread": 140360815884096,
          "threadName": "MainThread"
         },
         {
          "asctime": "2021-03-23 11:29:09,275",
          "created": 1616498949.2758121,
          "extra": {},
          "filename": "async_executors.py",
          "funcName": "start_output_sender",
          "levelname": "DEBUG",
          "lineno": 370,
          "message": "ReadCsvProjectSpace_1: got start_sender, data, ('CustMercTS_1', 'ip_data')",
          "name": "engine.logs:ReadCsvProjectSpace_1",
          "pathname": "/usr/local/lib/python3.7/dist-packages/razor/flow/async_executors.py",
          "process": 377,
          "processName": "ForkProcess-1:2",
          "thread": 140360815884096,
          "threadName": "MainThread"
         },
         {
          "asctime": "2021-03-23 11:29:09,278",
          "created": 1616498949.2787771,
          "extra": {},
          "filename": "async_executors.py",
          "funcName": "fill_atomic_inputs",
          "levelname": "DEBUG",
          "lineno": 253,
          "message": "CustMercTS_1: got atomic input: DataFrame[transaction_id: string, time: string, customer_name: string, card_number: string, card_type: string, physical_card_type: string, merchant_id: string, merchant_city: string, merchant_state: string, transaction_type: string, transaction_type_sub: string, amount: string, product_type: string, fraud_risk: string, One Time Heavy Loot Score: string, Drastic Transaction Change Pattern Score: string, Parasitic Fraud Score: string, Purchase Behavior Variation Score: string, Preferred Merchant Variation Score: string, Multiple Location Fraud Score: string, Fraudster Merchant Score: string, no_of_transactions_in_the_day: string, max_transaction_amount_in_the_day: string, avg_transaction_amount_in_the_day: string, no_of_transactions_in_the_month: string, max_transaction_amount_the_month: string, avg_transaction_amount_the_month: string, no_of_transactions_of_the_same_merchant_in_the_day: string, max_transactions_of_the_same_merchant_in_the_day: string, avg_transactions_of_the_same_merchant_in_the_day: string, no_of_transactions_of_the_same_merchant_in_the_month: string, max_transactions_of_the_same_merchant_in_the_month: string, avg_transactions_of_the_same_merchant_in_the_month: string]",
          "name": "engine.logs:CustMercTS_1",
          "pathname": "/usr/local/lib/python3.7/dist-packages/razor/flow/async_executors.py",
          "process": 377,
          "processName": "ForkProcess-1:2",
          "thread": 140360815884096,
          "threadName": "MainThread"
         },
         {
          "asctime": "2021-03-23 11:29:09,277",
          "created": 1616498949.2770562,
          "extra": {},
          "filename": "async_executors.py",
          "funcName": "start_output_sender",
          "levelname": "DEBUG",
          "lineno": 375,
          "message": "ReadCsvProjectSpace_1: SENT, ip_data, DataFrame[transaction_id: string, time: string, customer_name: string, card_number: string, card_type: string, physical_card_type: string, merchant_id: string, merchant_city: string, merchant_state: string, transaction_type: string, transaction_type_sub: string, amount: string, product_type: string, fraud_risk: string, One Time Heavy Loot Score: string, Drastic Transaction Change Pattern Score: string, Parasitic Fraud Score: string, Purchase Behavior Variation Score: string, Preferred Merchant Variation Score: string, Multiple Location Fraud Score: string, Fraudster Merchant Score: string, no_of_transactions_in_the_day: string, max_transaction_amount_in_the_day: string, avg_transaction_amount_in_the_day: string, no_of_transactions_in_the_month: string, max_transaction_amount_the_month: string, avg_transaction_amount_the_month: string, no_of_transactions_of_the_same_merchant_in_the_day: string, max_transactions_of_the_same_merchant_in_the_day: string, avg_transactions_of_the_same_merchant_in_the_day: string, no_of_transactions_of_the_same_merchant_in_the_month: string, max_transactions_of_the_same_merchant_in_the_month: string, avg_transactions_of_the_same_merchant_in_the_month: string], ('CustMercTS_1', 'ip_data')",
          "name": "engine.logs:ReadCsvProjectSpace_1",
          "pathname": "/usr/local/lib/python3.7/dist-packages/razor/flow/async_executors.py",
          "process": 377,
          "processName": "ForkProcess-1:2",
          "thread": 140360815884096,
          "threadName": "MainThread"
         },
         {
          "asctime": "2021-03-23 11:29:09,278",
          "created": 1616498949.2789044,
          "extra": {},
          "filename": "async_executors.py",
          "funcName": "fill_atomic_inputs",
          "levelname": "INFO",
          "lineno": 250,
          "message": "CustMercTS_1: waiting for atomic input: config",
          "name": "engine.logs:CustMercTS_1",
          "pathname": "/usr/local/lib/python3.7/dist-packages/razor/flow/async_executors.py",
          "process": 377,
          "processName": "ForkProcess-1:2",
          "thread": 140360815884096,
          "threadName": "MainThread"
         },
         {
          "asctime": "2021-03-23 11:29:09,277",
          "created": 1616498949.2772036,
          "extra": {},
          "filename": "async_executors.py",
          "funcName": "start_output_sender",
          "levelname": "DEBUG",
          "lineno": 375,
          "message": "ReadCsvProjectSpace_1: SENT, ip_data, b'__!\\tEndOfStream\\t!__', ('CustMercTS_1', 'ip_data')",
          "name": "engine.logs:ReadCsvProjectSpace_1",
          "pathname": "/usr/local/lib/python3.7/dist-packages/razor/flow/async_executors.py",
          "process": 377,
          "processName": "ForkProcess-1:2",
          "thread": 140360815884096,
          "threadName": "MainThread"
         },
         {
          "asctime": "2021-03-23 11:29:09,278",
          "created": 1616498949.2789907,
          "extra": {},
          "filename": "async_executors.py",
          "funcName": "fill_atomic_inputs",
          "levelname": "DEBUG",
          "lineno": 253,
          "message": "CustMercTS_1: got atomic input: {}",
          "name": "engine.logs:CustMercTS_1",
          "pathname": "/usr/local/lib/python3.7/dist-packages/razor/flow/async_executors.py",
          "process": 377,
          "processName": "ForkProcess-1:2",
          "thread": 140360815884096,
          "threadName": "MainThread"
         },
         {
          "asctime": "2021-03-23 11:29:09,277",
          "created": 1616498949.2772584,
          "extra": {},
          "filename": "async_executors.py",
          "funcName": "start_output_sender",
          "levelname": "DEBUG",
          "lineno": 379,
          "message": "ReadCsvProjectSpace_1: completed output: ('data', ('CustMercTS_1', 'ip_data'))",
          "name": "engine.logs:ReadCsvProjectSpace_1",
          "pathname": "/usr/local/lib/python3.7/dist-packages/razor/flow/async_executors.py",
          "process": 377,
          "processName": "ForkProcess-1:2",
          "thread": 140360815884096,
          "threadName": "MainThread"
         },
         {
          "asctime": "2021-03-23 11:29:09,279",
          "created": 1616498949.279033,
          "extra": {},
          "filename": "async_executors.py",
          "funcName": "fill_atomic_inputs",
          "levelname": "INFO",
          "lineno": 250,
          "message": "CustMercTS_1: waiting for atomic input: source",
          "name": "engine.logs:CustMercTS_1",
          "pathname": "/usr/local/lib/python3.7/dist-packages/razor/flow/async_executors.py",
          "process": 377,
          "processName": "ForkProcess-1:2",
          "thread": 140360815884096,
          "threadName": "MainThread"
         },
         {
          "asctime": "2021-03-23 11:29:09,279",
          "created": 1616498949.2790763,
          "extra": {},
          "filename": "async_executors.py",
          "funcName": "fill_atomic_inputs",
          "levelname": "DEBUG",
          "lineno": 253,
          "message": "CustMercTS_1: got atomic input: ",
          "name": "engine.logs:CustMercTS_1",
          "pathname": "/usr/local/lib/python3.7/dist-packages/razor/flow/async_executors.py",
          "process": 377,
          "processName": "ForkProcess-1:2",
          "thread": 140360815884096,
          "threadName": "MainThread"
         },
         {
          "asctime": "2021-03-23 11:29:09,279",
          "created": 1616498949.2791255,
          "extra": {},
          "filename": "async_executors.py",
          "funcName": "main",
          "levelname": "DEBUG",
          "lineno": 130,
          "message": "CustMercTS_1: triggering block run",
          "name": "engine.logs:CustMercTS_1",
          "pathname": "/usr/local/lib/python3.7/dist-packages/razor/flow/async_executors.py",
          "process": 377,
          "processName": "ForkProcess-1:2",
          "thread": 140360815884096,
          "threadName": "MainThread"
         },
         {
          "asctime": "2021-03-23 11:29:09,282",
          "created": 1616498949.2822914,
          "extra": {},
          "filename": "async_executors.py",
          "funcName": "start_input_receiver",
          "levelname": "DEBUG",
          "lineno": 173,
          "message": "ReadCsvProjectSpace_1: received cmd: terminate, (), {}",
          "name": "engine.logs:ReadCsvProjectSpace_1",
          "pathname": "/usr/local/lib/python3.7/dist-packages/razor/flow/async_executors.py",
          "process": 377,
          "processName": "ForkProcess-1:2",
          "thread": 140360815884096,
          "threadName": "MainThread"
         },
         {
          "asctime": "2021-03-23 11:29:24,767",
          "created": 1616498964.767954,
          "exc_info": null,
          "extra": {},
          "filename": null,
          "full_message": null,
          "funcName": null,
          "levelname": "STDOUT",
          "lineno": null,
          "message": "{clone} row count: 2202\n",
          "name": "block.stdout:CustMercTS_1",
          "pathname": null,
          "process": null,
          "processName": null,
          "thread": null,
          "threadName": null
         },
         {
          "asctime": "2021-03-23 11:29:31,553",
          "created": 1616498971.553123,
          "exc_info": "Traceback (most recent call last):\n\n  File \"/usr/local/lib/python3.7/dist-packages/razor/flow/async_executors.py\", line 276, in run_block\n    self.block.run()\n\n  File \"/home/aios/published-packages/project/blocks/ayan_spark_blocks_clone/blocks.py\", line 662, in run\n    customer_ts.show()\n\n  File \"/usr/local/lib/python3.7/dist-packages/pyspark/sql/dataframe.py\", line 440, in show\n    print(self._jdf.showString(n, 20, vertical))\n\n  File \"/usr/local/lib/python3.7/dist-packages/py4j/java_gateway.py\", line 1305, in __call__\n    answer, self.gateway_client, self.target_id, self.name)\n\n  File \"/usr/local/lib/python3.7/dist-packages/pyspark/sql/utils.py\", line 137, in deco\n    raise_from(converted)\n\n  File \"<string>\", line 3, in raise_from\n\npyspark.sql.utils.PythonException: \n  An exception was thrown from Python worker in the executor. The below is the Python worker stacktrace.\nTraceback (most recent call last):\n  File \"/opt/spark/python/lib/pyspark.zip/pyspark/worker.py\", line 589, in main\n    func, profiler, deserializer, serializer = read_udfs(pickleSer, infile, eval_type)\n  File \"/opt/spark/python/lib/pyspark.zip/pyspark/worker.py\", line 447, in read_udfs\n    udfs.append(read_single_udf(pickleSer, infile, eval_type, runner_conf, udf_index=i))\n  File \"/opt/spark/python/lib/pyspark.zip/pyspark/worker.py\", line 254, in read_single_udf\n    f, return_type = read_command(pickleSer, infile)\n  File \"/opt/spark/python/lib/pyspark.zip/pyspark/worker.py\", line 74, in read_command\n    command = serializer._read_with_length(file)\n  File \"/opt/spark/python/lib/pyspark.zip/pyspark/serializers.py\", line 172, in _read_with_length\n    return self.loads(obj)\n  File \"/opt/spark/python/lib/pyspark.zip/pyspark/serializers.py\", line 458, in loads\n    return pickle.loads(obj, encoding=encoding)\nModuleNotFoundError: No module named 'razor.project'\n\n",
          "extra": {},
          "filename": "async_executors.py",
          "full_message": "Traceback (most recent call last):\n\n  File \"/usr/local/lib/python3.7/dist-packages/razor/flow/async_executors.py\", line 276, in run_block\n    self.block.run()\n\n  File \"/home/aios/published-packages/project/blocks/ayan_spark_blocks_clone/blocks.py\", line 662, in run\n    customer_ts.show()\n\n  File \"/usr/local/lib/python3.7/dist-packages/pyspark/sql/dataframe.py\", line 440, in show\n    print(self._jdf.showString(n, 20, vertical))\n\n  File \"/usr/local/lib/python3.7/dist-packages/py4j/java_gateway.py\", line 1305, in __call__\n    answer, self.gateway_client, self.target_id, self.name)\n\n  File \"/usr/local/lib/python3.7/dist-packages/pyspark/sql/utils.py\", line 137, in deco\n    raise_from(converted)\n\n  File \"<string>\", line 3, in raise_from\n\npyspark.sql.utils.PythonException: \n  An exception was thrown from Python worker in the executor. The below is the Python worker stacktrace.\nTraceback (most recent call last):\n  File \"/opt/spark/python/lib/pyspark.zip/pyspark/worker.py\", line 589, in main\n    func, profiler, deserializer, serializer = read_udfs(pickleSer, infile, eval_type)\n  File \"/opt/spark/python/lib/pyspark.zip/pyspark/worker.py\", line 447, in read_udfs\n    udfs.append(read_single_udf(pickleSer, infile, eval_type, runner_conf, udf_index=i))\n  File \"/opt/spark/python/lib/pyspark.zip/pyspark/worker.py\", line 254, in read_single_udf\n    f, return_type = read_command(pickleSer, infile)\n  File \"/opt/spark/python/lib/pyspark.zip/pyspark/worker.py\", line 74, in read_command\n    command = serializer._read_with_length(file)\n  File \"/opt/spark/python/lib/pyspark.zip/pyspark/serializers.py\", line 172, in _read_with_length\n    return self.loads(obj)\n  File \"/opt/spark/python/lib/pyspark.zip/pyspark/serializers.py\", line 458, in loads\n    return pickle.loads(obj, encoding=encoding)\nModuleNotFoundError: No module named 'razor.project'\n\n",
          "funcName": "run_block",
          "levelname": "ERROR",
          "lineno": 278,
          "message": "\n  An exception was thrown from Python worker in the executor. The below is the Python worker stacktrace.\nTraceback (most recent call last):\n  File \"/opt/spark/python/lib/pyspark.zip/pyspark/worker.py\", line 589, in main\n    func, profiler, deserializer, serializer = read_udfs(pickleSer, infile, eval_type)\n  File \"/opt/spark/python/lib/pyspark.zip/pyspark/worker.py\", line 447, in read_udfs\n    udfs.append(read_single_udf(pickleSer, infile, eval_type, runner_conf, udf_index=i))\n  File \"/opt/spark/python/lib/pyspark.zip/pyspark/worker.py\", line 254, in read_single_udf\n    f, return_type = read_command(pickleSer, infile)\n  File \"/opt/spark/python/lib/pyspark.zip/pyspark/worker.py\", line 74, in read_command\n    command = serializer._read_with_length(file)\n  File \"/opt/spark/python/lib/pyspark.zip/pyspark/serializers.py\", line 172, in _read_with_length\n    return self.loads(obj)\n  File \"/opt/spark/python/lib/pyspark.zip/pyspark/serializers.py\", line 458, in loads\n    return pickle.loads(obj, encoding=encoding)\nModuleNotFoundError: No module named 'razor.project'\n",
          "name": "block.stderr:CustMercTS_1",
          "pathname": "/usr/local/lib/python3.7/dist-packages/razor/flow/async_executors.py",
          "process": 377,
          "processName": "ForkProcess-1:2",
          "thread": 140360742676224,
          "threadName": "ThreadPoolExecutor-0_0"
         },
         {
          "asctime": "2021-03-23 11:29:31,653",
          "created": 1616498971.6533191,
          "extra": {},
          "filename": "async_executors.py",
          "funcName": "main",
          "levelname": "DEBUG",
          "lineno": 144,
          "message": "Block: 'CustMercTS_1': Unhandled Exception: PythonException('\\n  An exception was thrown from Python worker in the executor. The below is the Python worker stacktrace.\\nTraceback (most recent call last):\\n  File \"/opt/spark/python/lib/pyspark.zip/pyspark/worker.py\", line 589, in main\\n    func, profiler, deserializer, serializer = read_udfs(pickleSer, infile, eval_type)\\n  File \"/opt/spark/python/lib/pyspark.zip/pyspark/worker.py\", line 447, in read_udfs\\n    udfs.append(read_single_udf(pickleSer, infile, eval_type, runner_conf, udf_index=i))\\n  File \"/opt/spark/python/lib/pyspark.zip/pyspark/worker.py\", line 254, in read_single_udf\\n    f, return_type = read_command(pickleSer, infile)\\n  File \"/opt/spark/python/lib/pyspark.zip/pyspark/worker.py\", line 74, in read_command\\n    command = serializer._read_with_length(file)\\n  File \"/opt/spark/python/lib/pyspark.zip/pyspark/serializers.py\", line 172, in _read_with_length\\n    return self.loads(obj)\\n  File \"/opt/spark/python/lib/pyspark.zip/pyspark/serializers.py\", line 458, in loads\\n    return pickle.loads(obj, encoding=encoding)\\nModuleNotFoundError: No module named \\'razor.project\\'\\n', 'org.apache.spark.SparkException: Job aborted due to stage failure: Task 0 in stage 9.0 failed 1 times, most recent failure: Lost task 0.0 in stage 9.0 (TID 208, dep-ser-722a8997-c05c-49f5-93dd-795544b67044-ide-7ccfb5568frxw9, executor driver): org.apache.spark.api.python.PythonException: Traceback (most recent call last):\\n  File \"/opt/spark/python/lib/pyspark.zip/pyspark/worker.py\", line 589, in main\\n    func, profiler, deserializer, serializer = read_udfs(pickleSer, infile, eval_type)\\n  File \"/opt/spark/python/lib/pyspark.zip/pyspark/worker.py\", line 447, in read_udfs\\n    udfs.append(read_single_udf(pickleSer, infile, eval_type, runner_conf, udf_index=i))\\n  File \"/opt/spark/python/lib/pyspark.zip/pyspark/worker.py\", line 254, in read_single_udf\\n    f, return_type = read_command(pickleSer, infile)\\n  File \"/opt/spark/python/lib/pyspark.zip/pyspark/worker.py\", line 74, in read_command\\n    command = serializer._read_with_length(file)\\n  File \"/opt/spark/python/lib/pyspark.zip/pyspark/serializers.py\", line 172, in _read_with_length\\n    return self.loads(obj)\\n  File \"/opt/spark/python/lib/pyspark.zip/pyspark/serializers.py\", line 458, in loads\\n    return pickle.loads(obj, encoding=encoding)\\nModuleNotFoundError: No module named \\'razor.project\\'\\n\\n\\tat org.apache.spark.api.python.BasePythonRunner$ReaderIterator.handlePythonException(PythonRunner.scala:503)\\n\\tat org.apache.spark.sql.execution.python.PythonUDFRunner$$anon$2.read(PythonUDFRunner.scala:81)\\n\\tat org.apache.spark.sql.execution.python.PythonUDFRunner$$anon$2.read(PythonUDFRunner.scala:64)\\n\\tat org.apache.spark.api.python.BasePythonRunner$ReaderIterator.hasNext(PythonRunner.scala:456)\\n\\tat org.apache.spark.InterruptibleIterator.hasNext(InterruptibleIterator.scala:37)\\n\\tat scala.collection.Iterator$$anon$11.hasNext(Iterator.scala:489)\\n\\tat scala.collection.Iterator$$anon$10.hasNext(Iterator.scala:458)\\n\\tat scala.collection.Iterator$$anon$10.hasNext(Iterator.scala:458)\\n\\tat org.apache.spark.sql.catalyst.expressions.GeneratedClass$GeneratedIteratorForCodegenStage5.processNext(Unknown Source)\\n\\tat org.apache.spark.sql.execution.BufferedRowIterator.hasNext(BufferedRowIterator.java:43)\\n\\tat org.apache.spark.sql.execution.WholeStageCodegenExec$$anon$1.hasNext(WholeStageCodegenExec.scala:729)\\n\\tat scala.collection.Iterator$$anon$10.hasNext(Iterator.scala:458)\\n\\tat scala.collection.Iterator$$anon$10.hasNext(Iterator.scala:458)\\n\\tat scala.collection.Iterator$$anon$10.hasNext(Iterator.scala:458)\\n\\tat scala.collection.Iterator$GroupedIterator.fill(Iterator.scala:1209)\\n\\tat scala.collection.Iterator$GroupedIterator.hasNext(Iterator.scala:1215)\\n\\tat scala.collection.Iterator$$anon$10.hasNext(Iterator.scala:458)\\n\\tat scala.collection.Iterator.foreach(Iterator.scala:941)\\n\\tat scala.collection.Iterator.foreach$(Iterator.scala:941)\\n\\tat scala.collection.AbstractIterator.foreach(Iterator.scala:1429)\\n\\tat org.apache.spark.api.python.PythonRDD$.writeIteratorToStream(PythonRDD.scala:295)\\n\\tat org.apache.spark.sql.execution.python.PythonUDFRunner$$anon$1.writeIteratorToStream(PythonUDFRunner.scala:50)\\n\\tat org.apache.spark.api.python.BasePythonRunner$WriterThread.$anonfun$run$1(PythonRunner.scala:383)\\n\\tat org.apache.spark.util.Utils$.logUncaughtExceptions(Utils.scala:1932)\\n\\tat org.apache.spark.api.python.BasePythonRunner$WriterThread.run(PythonRunner.scala:218)\\n\\nDriver stacktrace:\\n\\tat org.apache.spark.scheduler.DAGScheduler.failJobAndIndependentStages(DAGScheduler.scala:2023)\\n\\tat org.apache.spark.scheduler.DAGScheduler.$anonfun$abortStage$2(DAGScheduler.scala:1972)\\n\\tat org.apache.spark.scheduler.DAGScheduler.$anonfun$abortStage$2$adapted(DAGScheduler.scala:1971)\\n\\tat scala.collection.mutable.ResizableArray.foreach(ResizableArray.scala:62)\\n\\tat scala.collection.mutable.ResizableArray.foreach$(ResizableArray.scala:55)\\n\\tat scala.collection.mutable.ArrayBuffer.foreach(ArrayBuffer.scala:49)\\n\\tat org.apache.spark.scheduler.DAGScheduler.abortStage(DAGScheduler.scala:1971)\\n\\tat org.apache.spark.scheduler.DAGScheduler.$anonfun$handleTaskSetFailed$1(DAGScheduler.scala:950)\\n\\tat org.apache.spark.scheduler.DAGScheduler.$anonfun$handleTaskSetFailed$1$adapted(DAGScheduler.scala:950)\\n\\tat scala.Option.foreach(Option.scala:407)\\n\\tat org.apache.spark.scheduler.DAGScheduler.handleTaskSetFailed(DAGScheduler.scala:950)\\n\\tat org.apache.spark.scheduler.DAGSchedulerEventProcessLoop.doOnReceive(DAGScheduler.scala:2203)\\n\\tat org.apache.spark.scheduler.DAGSchedulerEventProcessLoop.onReceive(DAGScheduler.scala:2152)\\n\\tat org.apache.spark.scheduler.DAGSchedulerEventProcessLoop.onReceive(DAGScheduler.scala:2141)\\n\\tat org.apache.spark.util.EventLoop$$anon$1.run(EventLoop.scala:49)\\n\\tat org.apache.spark.scheduler.DAGScheduler.runJob(DAGScheduler.scala:752)\\n\\tat org.apache.spark.SparkContext.runJob(SparkContext.scala:2093)\\n\\tat org.apache.spark.SparkContext.runJob(SparkContext.scala:2114)\\n\\tat org.apache.spark.SparkContext.runJob(SparkContext.scala:2133)\\n\\tat org.apache.spark.sql.execution.SparkPlan.executeTake(SparkPlan.scala:467)\\n\\tat org.apache.spark.sql.execution.SparkPlan.executeTake(SparkPlan.scala:420)\\n\\tat org.apache.spark.sql.execution.CollectLimitExec.executeCollect(limit.scala:47)\\n\\tat org.apache.spark.sql.Dataset.collectFromPlan(Dataset.scala:3625)\\n\\tat org.apache.spark.sql.Dataset.$anonfun$head$1(Dataset.scala:2695)\\n\\tat org.apache.spark.sql.Dataset.$anonfun$withAction$1(Dataset.scala:3616)\\n\\tat org.apache.spark.sql.execution.SQLExecution$.$anonfun$withNewExecutionId$5(SQLExecution.scala:100)\\n\\tat org.apache.spark.sql.execution.SQLExecution$.withSQLConfPropagated(SQLExecution.scala:160)\\n\\tat org.apache.spark.sql.execution.SQLExecution$.$anonfun$withNewExecutionId$1(SQLExecution.scala:87)\\n\\tat org.apache.spark.sql.SparkSession.withActive(SparkSession.scala:763)\\n\\tat org.apache.spark.sql.execution.SQLExecution$.withNewExecutionId(SQLExecution.scala:64)\\n\\tat org.apache.spark.sql.Dataset.withAction(Dataset.scala:3614)\\n\\tat org.apache.spark.sql.Dataset.head(Dataset.scala:2695)\\n\\tat org.apache.spark.sql.Dataset.take(Dataset.scala:2902)\\n\\tat org.apache.spark.sql.Dataset.getRows(Dataset.scala:300)\\n\\tat org.apache.spark.sql.Dataset.showString(Dataset.scala:337)\\n\\tat sun.reflect.NativeMethodAccessorImpl.invoke0(Native Method)\\n\\tat sun.reflect.NativeMethodAccessorImpl.invoke(NativeMethodAccessorImpl.java:62)\\n\\tat sun.reflect.DelegatingMethodAccessorImpl.invoke(DelegatingMethodAccessorImpl.java:43)\\n\\tat java.lang.reflect.Method.invoke(Method.java:498)\\n\\tat py4j.reflection.MethodInvoker.invoke(MethodInvoker.java:244)\\n\\tat py4j.reflection.ReflectionEngine.invoke(ReflectionEngine.java:357)\\n\\tat py4j.Gateway.invoke(Gateway.java:282)\\n\\tat py4j.commands.AbstractCommand.invokeMethod(AbstractCommand.java:132)\\n\\tat py4j.commands.CallCommand.execute(CallCommand.java:79)\\n\\tat py4j.GatewayConnection.run(GatewayConnection.java:238)\\n\\tat java.lang.Thread.run(Thread.java:748)\\nCaused by: org.apache.spark.api.python.PythonException: Traceback (most recent call last):\\n  File \"/opt/spark/python/lib/pyspark.zip/pyspark/worker.py\", line 589, in main\\n    func, profiler, deserializer, serializer = read_udfs(pickleSer, infile, eval_type)\\n  File \"/opt/spark/python/lib/pyspark.zip/pyspark/worker.py\", line 447, in read_udfs\\n    udfs.append(read_single_udf(pickleSer, infile, eval_type, runner_conf, udf_index=i))\\n  File \"/opt/spark/python/lib/pyspark.zip/pyspark/worker.py\", line 254, in read_single_udf\\n    f, return_type = read_command(pickleSer, infile)\\n  File \"/opt/spark/python/lib/pyspark.zip/pyspark/worker.py\", line 74, in read_command\\n    command = serializer._read_with_length(file)\\n  File \"/opt/spark/python/lib/pyspark.zip/pyspark/serializers.py\", line 172, in _read_with_length\\n    return self.loads(obj)\\n  File \"/opt/spark/python/lib/pyspark.zip/pyspark/serializers.py\", line 458, in loads\\n    return pickle.loads(obj, encoding=encoding)\\nModuleNotFoundError: No module named \\'razor.project\\'\\n\\n\\tat org.apache.spark.api.python.BasePythonRunner$ReaderIterator.handlePythonException(PythonRunner.scala:503)\\n\\tat org.apache.spark.sql.execution.python.PythonUDFRunner$$anon$2.read(PythonUDFRunner.scala:81)\\n\\tat org.apache.spark.sql.execution.python.PythonUDFRunner$$anon$2.read(PythonUDFRunner.scala:64)\\n\\tat org.apache.spark.api.python.BasePythonRunner$ReaderIterator.hasNext(PythonRunner.scala:456)\\n\\tat org.apache.spark.InterruptibleIterator.hasNext(InterruptibleIterator.scala:37)\\n\\tat scala.collection.Iterator$$anon$11.hasNext(Iterator.scala:489)\\n\\tat scala.collection.Iterator$$anon$10.hasNext(Iterator.scala:458)\\n\\tat scala.collection.Iterator$$anon$10.hasNext(Iterator.scala:458)\\n\\tat org.apache.spark.sql.catalyst.expressions.GeneratedClass$GeneratedIteratorForCodegenStage5.processNext(Unknown Source)\\n\\tat org.apache.spark.sql.execution.BufferedRowIterator.hasNext(BufferedRowIterator.java:43)\\n\\tat org.apache.spark.sql.execution.WholeStageCodegenExec$$anon$1.hasNext(WholeStageCodegenExec.scala:729)\\n\\tat scala.collection.Iterator$$anon$10.hasNext(Iterator.scala:458)\\n\\tat scala.collection.Iterator$$anon$10.hasNext(Iterator.scala:458)\\n\\tat scala.collection.Iterator$$anon$10.hasNext(Iterator.scala:458)\\n\\tat scala.collection.Iterator$GroupedIterator.fill(Iterator.scala:1209)\\n\\tat scala.collection.Iterator$GroupedIterator.hasNext(Iterator.scala:1215)\\n\\tat scala.collection.Iterator$$anon$10.hasNext(Iterator.scala:458)\\n\\tat scala.collection.Iterator.foreach(Iterator.scala:941)\\n\\tat scala.collection.Iterator.foreach$(Iterator.scala:941)\\n\\tat scala.collection.AbstractIterator.foreach(Iterator.scala:1429)\\n\\tat org.apache.spark.api.python.PythonRDD$.writeIteratorToStream(PythonRDD.scala:295)\\n\\tat org.apache.spark.sql.execution.python.PythonUDFRunner$$anon$1.writeIteratorToStream(PythonUDFRunner.scala:50)\\n\\tat org.apache.spark.api.python.BasePythonRunner$WriterThread.$anonfun$run$1(PythonRunner.scala:383)\\n\\tat org.apache.spark.util.Utils$.logUncaughtExceptions(Utils.scala:1932)\\n\\tat org.apache.spark.api.python.BasePythonRunner$WriterThread.run(PythonRunner.scala:218)\\n'). All outputs from this block will be terminated. This may cause successor blocks to fail and pipeline to terminate incorrectly.",
          "name": "engine.logs:CustMercTS_1",
          "pathname": "/usr/local/lib/python3.7/dist-packages/razor/flow/async_executors.py",
          "process": 377,
          "processName": "ForkProcess-1:2",
          "thread": 140360815884096,
          "threadName": "MainThread"
         },
         {
          "asctime": "2021-03-23 11:29:31,653",
          "created": 1616498971.6534612,
          "extra": {},
          "filename": "async_executors.py",
          "funcName": "main",
          "levelname": "DEBUG",
          "lineno": 147,
          "message": "CustMercTS_1: block thread completed",
          "name": "engine.logs:CustMercTS_1",
          "pathname": "/usr/local/lib/python3.7/dist-packages/razor/flow/async_executors.py",
          "process": 377,
          "processName": "ForkProcess-1:2",
          "thread": 140360815884096,
          "threadName": "MainThread"
         },
         {
          "asctime": "2021-03-23 11:29:31,653",
          "created": 1616498971.653551,
          "extra": {},
          "filename": "async_executors.py",
          "funcName": "main",
          "levelname": "DEBUG",
          "lineno": 149,
          "message": "CustMercTS_1: block execution complete",
          "name": "engine.logs:CustMercTS_1",
          "pathname": "/usr/local/lib/python3.7/dist-packages/razor/flow/async_executors.py",
          "process": 377,
          "processName": "ForkProcess-1:2",
          "thread": 140360815884096,
          "threadName": "MainThread"
         }
        ],
        "meta": {
         "block_status": {
          "CustMercTS_1": "ERROR",
          "NonSparkPath_1": "SUCCESS",
          "ReadCsvProjectSpace_1": "SUCCESS"
         },
         "blocks": [
          {
           "class_name": "NonSparkPath",
           "fullname": "razor.project.blocks.ayan_spark_blocks_clone.NonSparkPath",
           "id": "0338944b-3b91-4758-ad0b-f49c715718b0",
           "inputs": [
            {
             "dataType": "string",
             "default": "",
             "flow": "atomic",
             "help": null,
             "isdict": false,
             "islist": false,
             "label": "ip_path",
             "meta": {},
             "name": "ip_path",
             "series": false,
             "type": "str",
             "type_check": true
            }
           ],
           "outputs": [
            {
             "flow": "atomic",
             "help": null,
             "label": "op_path",
             "meta": {},
             "name": "op_path",
             "series": false,
             "type": "str",
             "type_check": true
            }
           ],
           "overwritten": false,
           "published": true,
           "var_names": [
            "NonSparkPath"
           ]
          },
          {
           "class_name": "CustMercTS",
           "fullname": "razor.project.blocks.ayan_spark_blocks_clone.CustMercTS",
           "id": "3423246f-f4f5-4979-b356-b2aa26160fcb",
           "inputs": [
            {
             "dataType": null,
             "default": null,
             "flow": "atomic",
             "help": null,
             "isdict": false,
             "islist": false,
             "label": "ip_data",
             "meta": {},
             "name": "ip_data",
             "series": false,
             "type": "DataFrame",
             "type_check": true
            },
            {
             "dataType": "dict",
             "default": {},
             "flow": "atomic",
             "help": null,
             "isdict": false,
             "islist": false,
             "label": "config",
             "meta": {},
             "name": "config",
             "series": false,
             "type": "dict",
             "type_check": true
            },
            {
             "dataType": "string",
             "default": "",
             "flow": "atomic",
             "help": null,
             "isdict": false,
             "islist": false,
             "label": "source",
             "meta": {},
             "name": "source",
             "series": false,
             "type": "str",
             "type_check": true
            }
           ],
           "outputs": [
            {
             "flow": "atomic",
             "help": null,
             "label": "customer_ts",
             "meta": {},
             "name": "customer_ts",
             "series": false,
             "type": "DataFrame",
             "type_check": true
            },
            {
             "flow": "atomic",
             "help": null,
             "label": "merchant_ts",
             "meta": {},
             "name": "merchant_ts",
             "series": false,
             "type": "DataFrame",
             "type_check": true
            }
           ],
           "overwritten": false,
           "published": true,
           "var_names": [
            "CustMercTS"
           ]
          },
          {
           "class_name": "ReadCsvProjectSpace",
           "fullname": "razor.project.blocks.ayan_spark_blocks_clone.ReadCsvProjectSpace",
           "id": "90999bf0-f567-4abd-88d8-46cb8f515974",
           "inputs": [
            {
             "dataType": "string",
             "default": "",
             "flow": "atomic",
             "help": null,
             "isdict": false,
             "islist": false,
             "label": "filename",
             "meta": {},
             "name": "filename",
             "series": false,
             "type": "str",
             "type_check": true
            },
            {
             "dataType": "dict",
             "default": {},
             "flow": "atomic",
             "help": null,
             "isdict": false,
             "islist": false,
             "label": "config",
             "meta": {},
             "name": "config",
             "series": false,
             "type": "dict",
             "type_check": true
            },
            {
             "dataType": "string",
             "default": "",
             "flow": "atomic",
             "help": null,
             "isdict": false,
             "islist": false,
             "label": "source",
             "meta": {},
             "name": "source",
             "series": false,
             "type": "str",
             "type_check": true
            }
           ],
           "outputs": [
            {
             "flow": "atomic",
             "help": null,
             "label": "data",
             "meta": {},
             "name": "data",
             "series": false,
             "type": "DataFrame",
             "type_check": true
            }
           ],
           "overwritten": false,
           "published": true,
           "var_names": [
            "ReadCsvProjectSpace"
           ]
          }
         ],
         "connections": [
          {
           "id": "56071560-5d0d-45cf-a212-0154aaf4fd9c",
           "source": {
            "adapter": false,
            "instance_id": "4f46c6d6-b4e8-4aa8-b5be-eb5f10382f4b",
            "name": "op_path"
           },
           "target": {
            "adapter": false,
            "instance_id": "4181fe54-4569-4c45-913b-5dde94c12899",
            "name": "filename"
           }
          },
          {
           "id": "a953a5fb-5763-4abd-8967-a81e875736ad",
           "source": {
            "adapter": false,
            "instance_id": "4181fe54-4569-4c45-913b-5dde94c12899",
            "name": "data"
           },
           "target": {
            "adapter": false,
            "instance_id": "1523b27d-ff7e-4df4-b356-99925b388715",
            "name": "ip_data"
           }
          }
         ],
         "end": 1616498971.8845274,
         "id": "da8eac96-2a40-477c-91e6-4d271ecc0f63",
         "instances": [
          {
           "block_class": "3423246f-f4f5-4979-b356-b2aa26160fcb",
           "id": "1523b27d-ff7e-4df4-b356-99925b388715",
           "name": "CustMercTS_1",
           "var_names": [
            "cm_ts"
           ]
          },
          {
           "block_class": "90999bf0-f567-4abd-88d8-46cb8f515974",
           "id": "4181fe54-4569-4c45-913b-5dde94c12899",
           "name": "ReadCsvProjectSpace_1",
           "var_names": [
            "rcp"
           ]
          },
          {
           "block_class": "0338944b-3b91-4758-ad0b-f49c715718b0",
           "id": "4f46c6d6-b4e8-4aa8-b5be-eb5f10382f4b",
           "name": "NonSparkPath_1",
           "var_names": [
            "nsp"
           ]
          }
         ],
         "log_level": 20,
         "name": "temp",
         "start": 1616498924.4583783,
         "status": "ERROR",
         "system_logs": false,
         "var_names": []
        },
        "metrics": {},
        "runtime": {
         "CustMercTS_1": {
          "end": 1616498971.882775,
          "load": 1616498924.7202506,
          "start": 1616498924.7449415
         },
         "NonSparkPath_1": {
          "end": 1616498924.802082,
          "load": 1616498924.45989,
          "start": 1616498924.4678175
         },
         "ReadCsvProjectSpace_1": {
          "end": 1616498949.2795765,
          "load": 1616498924.7202506,
          "start": 1616498924.7449415
         }
        }
       },
       "store_in_notebook": true
      }
     },
     "output_type": "display_data"
    },
    {
     "name": "stderr",
     "output_type": "stream",
     "text": [
      "ERROR:razor.flow.async_pipeline:Block: 'CustMercTS_1': Unhandled Exception: PythonException('\\n  An exception was thrown from Python worker in the executor. The below is the Python worker stacktrace.\\nTraceback (most recent call last):\\n  File \"/opt/spark/python/lib/pyspark.zip/pyspark/worker.py\", line 589, in main\\n    func, profiler, deserializer, serializer = read_udfs(pickleSer, infile, eval_type)\\n  File \"/opt/spark/python/lib/pyspark.zip/pyspark/worker.py\", line 447, in read_udfs\\n    udfs.append(read_single_udf(pickleSer, infile, eval_type, runner_conf, udf_index=i))\\n  File \"/opt/spark/python/lib/pyspark.zip/pyspark/worker.py\", line 254, in read_single_udf\\n    f, return_type = read_command(pickleSer, infile)\\n  File \"/opt/spark/python/lib/pyspark.zip/pyspark/worker.py\", line 74, in read_command\\n    command = serializer._read_with_length(file)\\n  File \"/opt/spark/python/lib/pyspark.zip/pyspark/serializers.py\", line 172, in _read_with_length\\n    return self.loads(obj)\\n  File \"/opt/spark/python/lib/pyspark.zip/pyspark/serializers.py\", line 458, in loads\\n    return pickle.loads(obj, encoding=encoding)\\nModuleNotFoundError: No module named \\'razor.project\\'\\n', 'org.apache.spark.SparkException: Job aborted due to stage failure: Task 0 in stage 9.0 failed 1 times, most recent failure: Lost task 0.0 in stage 9.0 (TID 208, dep-ser-722a8997-c05c-49f5-93dd-795544b67044-ide-7ccfb5568frxw9, executor driver): org.apache.spark.api.python.PythonException: Traceback (most recent call last):\\n  File \"/opt/spark/python/lib/pyspark.zip/pyspark/worker.py\", line 589, in main\\n    func, profiler, deserializer, serializer = read_udfs(pickleSer, infile, eval_type)\\n  File \"/opt/spark/python/lib/pyspark.zip/pyspark/worker.py\", line 447, in read_udfs\\n    udfs.append(read_single_udf(pickleSer, infile, eval_type, runner_conf, udf_index=i))\\n  File \"/opt/spark/python/lib/pyspark.zip/pyspark/worker.py\", line 254, in read_single_udf\\n    f, return_type = read_command(pickleSer, infile)\\n  File \"/opt/spark/python/lib/pyspark.zip/pyspark/worker.py\", line 74, in read_command\\n    command = serializer._read_with_length(file)\\n  File \"/opt/spark/python/lib/pyspark.zip/pyspark/serializers.py\", line 172, in _read_with_length\\n    return self.loads(obj)\\n  File \"/opt/spark/python/lib/pyspark.zip/pyspark/serializers.py\", line 458, in loads\\n    return pickle.loads(obj, encoding=encoding)\\nModuleNotFoundError: No module named \\'razor.project\\'\\n\\n\\tat org.apache.spark.api.python.BasePythonRunner$ReaderIterator.handlePythonException(PythonRunner.scala:503)\\n\\tat org.apache.spark.sql.execution.python.PythonUDFRunner$$anon$2.read(PythonUDFRunner.scala:81)\\n\\tat org.apache.spark.sql.execution.python.PythonUDFRunner$$anon$2.read(PythonUDFRunner.scala:64)\\n\\tat org.apache.spark.api.python.BasePythonRunner$ReaderIterator.hasNext(PythonRunner.scala:456)\\n\\tat org.apache.spark.InterruptibleIterator.hasNext(InterruptibleIterator.scala:37)\\n\\tat scala.collection.Iterator$$anon$11.hasNext(Iterator.scala:489)\\n\\tat scala.collection.Iterator$$anon$10.hasNext(Iterator.scala:458)\\n\\tat scala.collection.Iterator$$anon$10.hasNext(Iterator.scala:458)\\n\\tat org.apache.spark.sql.catalyst.expressions.GeneratedClass$GeneratedIteratorForCodegenStage5.processNext(Unknown Source)\\n\\tat org.apache.spark.sql.execution.BufferedRowIterator.hasNext(BufferedRowIterator.java:43)\\n\\tat org.apache.spark.sql.execution.WholeStageCodegenExec$$anon$1.hasNext(WholeStageCodegenExec.scala:729)\\n\\tat scala.collection.Iterator$$anon$10.hasNext(Iterator.scala:458)\\n\\tat scala.collection.Iterator$$anon$10.hasNext(Iterator.scala:458)\\n\\tat scala.collection.Iterator$$anon$10.hasNext(Iterator.scala:458)\\n\\tat scala.collection.Iterator$GroupedIterator.fill(Iterator.scala:1209)\\n\\tat scala.collection.Iterator$GroupedIterator.hasNext(Iterator.scala:1215)\\n\\tat scala.collection.Iterator$$anon$10.hasNext(Iterator.scala:458)\\n\\tat scala.collection.Iterator.foreach(Iterator.scala:941)\\n\\tat scala.collection.Iterator.foreach$(Iterator.scala:941)\\n\\tat scala.collection.AbstractIterator.foreach(Iterator.scala:1429)\\n\\tat org.apache.spark.api.python.PythonRDD$.writeIteratorToStream(PythonRDD.scala:295)\\n\\tat org.apache.spark.sql.execution.python.PythonUDFRunner$$anon$1.writeIteratorToStream(PythonUDFRunner.scala:50)\\n\\tat org.apache.spark.api.python.BasePythonRunner$WriterThread.$anonfun$run$1(PythonRunner.scala:383)\\n\\tat org.apache.spark.util.Utils$.logUncaughtExceptions(Utils.scala:1932)\\n\\tat org.apache.spark.api.python.BasePythonRunner$WriterThread.run(PythonRunner.scala:218)\\n\\nDriver stacktrace:\\n\\tat org.apache.spark.scheduler.DAGScheduler.failJobAndIndependentStages(DAGScheduler.scala:2023)\\n\\tat org.apache.spark.scheduler.DAGScheduler.$anonfun$abortStage$2(DAGScheduler.scala:1972)\\n\\tat org.apache.spark.scheduler.DAGScheduler.$anonfun$abortStage$2$adapted(DAGScheduler.scala:1971)\\n\\tat scala.collection.mutable.ResizableArray.foreach(ResizableArray.scala:62)\\n\\tat scala.collection.mutable.ResizableArray.foreach$(ResizableArray.scala:55)\\n\\tat scala.collection.mutable.ArrayBuffer.foreach(ArrayBuffer.scala:49)\\n\\tat org.apache.spark.scheduler.DAGScheduler.abortStage(DAGScheduler.scala:1971)\\n\\tat org.apache.spark.scheduler.DAGScheduler.$anonfun$handleTaskSetFailed$1(DAGScheduler.scala:950)\\n\\tat org.apache.spark.scheduler.DAGScheduler.$anonfun$handleTaskSetFailed$1$adapted(DAGScheduler.scala:950)\\n\\tat scala.Option.foreach(Option.scala:407)\\n\\tat org.apache.spark.scheduler.DAGScheduler.handleTaskSetFailed(DAGScheduler.scala:950)\\n\\tat org.apache.spark.scheduler.DAGSchedulerEventProcessLoop.doOnReceive(DAGScheduler.scala:2203)\\n\\tat org.apache.spark.scheduler.DAGSchedulerEventProcessLoop.onReceive(DAGScheduler.scala:2152)\\n\\tat org.apache.spark.scheduler.DAGSchedulerEventProcessLoop.onReceive(DAGScheduler.scala:2141)\\n\\tat org.apache.spark.util.EventLoop$$anon$1.run(EventLoop.scala:49)\\n\\tat org.apache.spark.scheduler.DAGScheduler.runJob(DAGScheduler.scala:752)\\n\\tat org.apache.spark.SparkContext.runJob(SparkContext.scala:2093)\\n\\tat org.apache.spark.SparkContext.runJob(SparkContext.scala:2114)\\n\\tat org.apache.spark.SparkContext.runJob(SparkContext.scala:2133)\\n\\tat org.apache.spark.sql.execution.SparkPlan.executeTake(SparkPlan.scala:467)\\n\\tat org.apache.spark.sql.execution.SparkPlan.executeTake(SparkPlan.scala:420)\\n\\tat org.apache.spark.sql.execution.CollectLimitExec.executeCollect(limit.scala:47)\\n\\tat org.apache.spark.sql.Dataset.collectFromPlan(Dataset.scala:3625)\\n\\tat org.apache.spark.sql.Dataset.$anonfun$head$1(Dataset.scala:2695)\\n\\tat org.apache.spark.sql.Dataset.$anonfun$withAction$1(Dataset.scala:3616)\\n\\tat org.apache.spark.sql.execution.SQLExecution$.$anonfun$withNewExecutionId$5(SQLExecution.scala:100)\\n\\tat org.apache.spark.sql.execution.SQLExecution$.withSQLConfPropagated(SQLExecution.scala:160)\\n\\tat org.apache.spark.sql.execution.SQLExecution$.$anonfun$withNewExecutionId$1(SQLExecution.scala:87)\\n\\tat org.apache.spark.sql.SparkSession.withActive(SparkSession.scala:763)\\n\\tat org.apache.spark.sql.execution.SQLExecution$.withNewExecutionId(SQLExecution.scala:64)\\n\\tat org.apache.spark.sql.Dataset.withAction(Dataset.scala:3614)\\n\\tat org.apache.spark.sql.Dataset.head(Dataset.scala:2695)\\n\\tat org.apache.spark.sql.Dataset.take(Dataset.scala:2902)\\n\\tat org.apache.spark.sql.Dataset.getRows(Dataset.scala:300)\\n\\tat org.apache.spark.sql.Dataset.showString(Dataset.scala:337)\\n\\tat sun.reflect.NativeMethodAccessorImpl.invoke0(Native Method)\\n\\tat sun.reflect.NativeMethodAccessorImpl.invoke(NativeMethodAccessorImpl.java:62)\\n\\tat sun.reflect.DelegatingMethodAccessorImpl.invoke(DelegatingMethodAccessorImpl.java:43)\\n\\tat java.lang.reflect.Method.invoke(Method.java:498)\\n\\tat py4j.reflection.MethodInvoker.invoke(MethodInvoker.java:244)\\n\\tat py4j.reflection.ReflectionEngine.invoke(ReflectionEngine.java:357)\\n\\tat py4j.Gateway.invoke(Gateway.java:282)\\n\\tat py4j.commands.AbstractCommand.invokeMethod(AbstractCommand.java:132)\\n\\tat py4j.commands.CallCommand.execute(CallCommand.java:79)\\n\\tat py4j.GatewayConnection.run(GatewayConnection.java:238)\\n\\tat java.lang.Thread.run(Thread.java:748)\\nCaused by: org.apache.spark.api.python.PythonException: Traceback (most recent call last):\\n  File \"/opt/spark/python/lib/pyspark.zip/pyspark/worker.py\", line 589, in main\\n    func, profiler, deserializer, serializer = read_udfs(pickleSer, infile, eval_type)\\n  File \"/opt/spark/python/lib/pyspark.zip/pyspark/worker.py\", line 447, in read_udfs\\n    udfs.append(read_single_udf(pickleSer, infile, eval_type, runner_conf, udf_index=i))\\n  File \"/opt/spark/python/lib/pyspark.zip/pyspark/worker.py\", line 254, in read_single_udf\\n    f, return_type = read_command(pickleSer, infile)\\n  File \"/opt/spark/python/lib/pyspark.zip/pyspark/worker.py\", line 74, in read_command\\n    command = serializer._read_with_length(file)\\n  File \"/opt/spark/python/lib/pyspark.zip/pyspark/serializers.py\", line 172, in _read_with_length\\n    return self.loads(obj)\\n  File \"/opt/spark/python/lib/pyspark.zip/pyspark/serializers.py\", line 458, in loads\\n    return pickle.loads(obj, encoding=encoding)\\nModuleNotFoundError: No module named \\'razor.project\\'\\n\\n\\tat org.apache.spark.api.python.BasePythonRunner$ReaderIterator.handlePythonException(PythonRunner.scala:503)\\n\\tat org.apache.spark.sql.execution.python.PythonUDFRunner$$anon$2.read(PythonUDFRunner.scala:81)\\n\\tat org.apache.spark.sql.execution.python.PythonUDFRunner$$anon$2.read(PythonUDFRunner.scala:64)\\n\\tat org.apache.spark.api.python.BasePythonRunner$ReaderIterator.hasNext(PythonRunner.scala:456)\\n\\tat org.apache.spark.InterruptibleIterator.hasNext(InterruptibleIterator.scala:37)\\n\\tat scala.collection.Iterator$$anon$11.hasNext(Iterator.scala:489)\\n\\tat scala.collection.Iterator$$anon$10.hasNext(Iterator.scala:458)\\n\\tat scala.collection.Iterator$$anon$10.hasNext(Iterator.scala:458)\\n\\tat org.apache.spark.sql.catalyst.expressions.GeneratedClass$GeneratedIteratorForCodegenStage5.processNext(Unknown Source)\\n\\tat org.apache.spark.sql.execution.BufferedRowIterator.hasNext(BufferedRowIterator.java:43)\\n\\tat org.apache.spark.sql.execution.WholeStageCodegenExec$$anon$1.hasNext(WholeStageCodegenExec.scala:729)\\n\\tat scala.collection.Iterator$$anon$10.hasNext(Iterator.scala:458)\\n\\tat scala.collection.Iterator$$anon$10.hasNext(Iterator.scala:458)\\n\\tat scala.collection.Iterator$$anon$10.hasNext(Iterator.scala:458)\\n\\tat scala.collection.Iterator$GroupedIterator.fill(Iterator.scala:1209)\\n\\tat scala.collection.Iterator$GroupedIterator.hasNext(Iterator.scala:1215)\\n\\tat scala.collection.Iterator$$anon$10.hasNext(Iterator.scala:458)\\n\\tat scala.collection.Iterator.foreach(Iterator.scala:941)\\n\\tat scala.collection.Iterator.foreach$(Iterator.scala:941)\\n\\tat scala.collection.AbstractIterator.foreach(Iterator.scala:1429)\\n\\tat org.apache.spark.api.python.PythonRDD$.writeIteratorToStream(PythonRDD.scala:295)\\n\\tat org.apache.spark.sql.execution.python.PythonUDFRunner$$anon$1.writeIteratorToStream(PythonUDFRunner.scala:50)\\n\\tat org.apache.spark.api.python.BasePythonRunner$WriterThread.$anonfun$run$1(PythonRunner.scala:383)\\n\\tat org.apache.spark.util.Utils$.logUncaughtExceptions(Utils.scala:1932)\\n\\tat org.apache.spark.api.python.BasePythonRunner$WriterThread.run(PythonRunner.scala:218)\\n'). All outputs from this block will be terminated. This may cause successor blocks to fail and pipeline to terminate incorrectly.\n",
      "Block: 'CustMercTS_1' terminated on interruption \n",
      "\n",
      "Pipeline: 'temp' terminated on interruption\n"
     ]
    },
    {
     "ename": "AttributeError",
     "evalue": "'NoneType' object has no attribute 'org'",
     "output_type": "error",
     "traceback": [
      "\u001b[0;31m---------------------------------------------------------------------------\u001b[0m",
      "\u001b[0;31mPythonException\u001b[0m                           Traceback (most recent call last)",
      "    \u001b[0;31m[... skipping hidden 1 frame]\u001b[0m\n",
      "\u001b[0;32m<ipython-input-13-ffaaf91f11f9>\u001b[0m in \u001b[0;36m<module>\u001b[0;34m\u001b[0m\n\u001b[0;32m----> 1\u001b[0;31m \u001b[0mpipe\u001b[0m\u001b[0;34m.\u001b[0m\u001b[0mexecute\u001b[0m\u001b[0;34m(\u001b[0m\u001b[0;34m)\u001b[0m\u001b[0;34m\u001b[0m\u001b[0;34m\u001b[0m\u001b[0m\n\u001b[0m",
      "\u001b[0;32m/usr/local/lib/python3.7/dist-packages/razor/flow/async_pipeline.py\u001b[0m in \u001b[0;36mexecute\u001b[0;34m(self, log_path, log_level, io_host, io_port, inputs, engine_config)\u001b[0m\n\u001b[1;32m    323\u001b[0m                 \u001b[0;32mfinally\u001b[0m\u001b[0;34m:\u001b[0m\u001b[0;34m\u001b[0m\u001b[0;34m\u001b[0m\u001b[0m\n\u001b[0;32m--> 324\u001b[0;31m                     \u001b[0msix\u001b[0m\u001b[0;34m.\u001b[0m\u001b[0mreraise\u001b[0m\u001b[0;34m(\u001b[0m\u001b[0mexc_class\u001b[0m\u001b[0;34m,\u001b[0m \u001b[0mexc\u001b[0m\u001b[0;34m,\u001b[0m \u001b[0mtb\u001b[0m\u001b[0;34m)\u001b[0m  \u001b[0;31m# todo: clear local stack frames from tb\u001b[0m\u001b[0;34m\u001b[0m\u001b[0;34m\u001b[0m\u001b[0m\n\u001b[0m\u001b[1;32m    325\u001b[0m             \u001b[0;32melse\u001b[0m\u001b[0;34m:\u001b[0m\u001b[0;34m\u001b[0m\u001b[0;34m\u001b[0m\u001b[0m\n",
      "\u001b[0;32m/usr/local/lib/python3.7/dist-packages/six.py\u001b[0m in \u001b[0;36mreraise\u001b[0;34m(tp, value, tb)\u001b[0m\n\u001b[1;32m    701\u001b[0m             \u001b[0;32mif\u001b[0m \u001b[0mvalue\u001b[0m\u001b[0;34m.\u001b[0m\u001b[0m__traceback__\u001b[0m \u001b[0;32mis\u001b[0m \u001b[0;32mnot\u001b[0m \u001b[0mtb\u001b[0m\u001b[0;34m:\u001b[0m\u001b[0;34m\u001b[0m\u001b[0;34m\u001b[0m\u001b[0m\n\u001b[0;32m--> 702\u001b[0;31m                 \u001b[0;32mraise\u001b[0m \u001b[0mvalue\u001b[0m\u001b[0;34m.\u001b[0m\u001b[0mwith_traceback\u001b[0m\u001b[0;34m(\u001b[0m\u001b[0mtb\u001b[0m\u001b[0;34m)\u001b[0m\u001b[0;34m\u001b[0m\u001b[0;34m\u001b[0m\u001b[0m\n\u001b[0m\u001b[1;32m    703\u001b[0m             \u001b[0;32mraise\u001b[0m \u001b[0mvalue\u001b[0m\u001b[0;34m\u001b[0m\u001b[0;34m\u001b[0m\u001b[0m\n",
      "\u001b[0;32m/usr/local/lib/python3.7/dist-packages/razor/flow/async_executors.py\u001b[0m in \u001b[0;36mmain\u001b[0;34m()\u001b[0m\n\u001b[1;32m    136\u001b[0m             \u001b[0mlogger\u001b[0m\u001b[0;34m.\u001b[0m\u001b[0mlog\u001b[0m\u001b[0;34m(\u001b[0m\u001b[0;36m10\u001b[0m\u001b[0;34m,\u001b[0m \u001b[0;34mf'{self.block.name}: waiting for block to finish'\u001b[0m\u001b[0;34m)\u001b[0m\u001b[0;34m\u001b[0m\u001b[0;34m\u001b[0m\u001b[0m\n\u001b[0;32m--> 137\u001b[0;31m             \u001b[0;32mawait\u001b[0m \u001b[0mblock_runner_task\u001b[0m\u001b[0;34m\u001b[0m\u001b[0;34m\u001b[0m\u001b[0m\n\u001b[0m\u001b[1;32m    138\u001b[0m             \u001b[0;32mawait\u001b[0m \u001b[0mself\u001b[0m\u001b[0;34m.\u001b[0m\u001b[0mdispatch\u001b[0m\u001b[0;34m(\u001b[0m\u001b[0;34m'block.complete'\u001b[0m\u001b[0;34m)\u001b[0m\u001b[0;34m\u001b[0m\u001b[0;34m\u001b[0m\u001b[0m\n",
      "\u001b[0;32m/usr/lib/python3.7/concurrent/futures/thread.py\u001b[0m in \u001b[0;36mrun\u001b[0;34m()\u001b[0m\n\u001b[1;32m     56\u001b[0m         \u001b[0;32mtry\u001b[0m\u001b[0;34m:\u001b[0m\u001b[0;34m\u001b[0m\u001b[0;34m\u001b[0m\u001b[0m\n\u001b[0;32m---> 57\u001b[0;31m             \u001b[0mresult\u001b[0m \u001b[0;34m=\u001b[0m \u001b[0mself\u001b[0m\u001b[0;34m.\u001b[0m\u001b[0mfn\u001b[0m\u001b[0;34m(\u001b[0m\u001b[0;34m*\u001b[0m\u001b[0mself\u001b[0m\u001b[0;34m.\u001b[0m\u001b[0margs\u001b[0m\u001b[0;34m,\u001b[0m \u001b[0;34m**\u001b[0m\u001b[0mself\u001b[0m\u001b[0;34m.\u001b[0m\u001b[0mkwargs\u001b[0m\u001b[0;34m)\u001b[0m\u001b[0;34m\u001b[0m\u001b[0;34m\u001b[0m\u001b[0m\n\u001b[0m\u001b[1;32m     58\u001b[0m         \u001b[0;32mexcept\u001b[0m \u001b[0mBaseException\u001b[0m \u001b[0;32mas\u001b[0m \u001b[0mexc\u001b[0m\u001b[0;34m:\u001b[0m\u001b[0;34m\u001b[0m\u001b[0;34m\u001b[0m\u001b[0m\n",
      "\u001b[0;32m/usr/local/lib/python3.7/dist-packages/razor/flow/async_executors.py\u001b[0m in \u001b[0;36mrun_block\u001b[0;34m()\u001b[0m\n\u001b[1;32m    278\u001b[0m                 \u001b[0mstderr_logger\u001b[0m\u001b[0;34m.\u001b[0m\u001b[0mexception\u001b[0m\u001b[0;34m(\u001b[0m\u001b[0mexp\u001b[0m\u001b[0;34m)\u001b[0m\u001b[0;34m\u001b[0m\u001b[0;34m\u001b[0m\u001b[0m\n\u001b[0;32m--> 279\u001b[0;31m                 \u001b[0;32mraise\u001b[0m \u001b[0mexp\u001b[0m\u001b[0;34m\u001b[0m\u001b[0;34m\u001b[0m\u001b[0m\n\u001b[0m\u001b[1;32m    280\u001b[0m \u001b[0;34m\u001b[0m\u001b[0m\n",
      "\u001b[0;32m/usr/local/lib/python3.7/dist-packages/razor/flow/async_executors.py\u001b[0m in \u001b[0;36mrun_block\u001b[0;34m()\u001b[0m\n\u001b[1;32m    275\u001b[0m             \u001b[0;32mtry\u001b[0m\u001b[0;34m:\u001b[0m\u001b[0;34m\u001b[0m\u001b[0;34m\u001b[0m\u001b[0m\n\u001b[0;32m--> 276\u001b[0;31m                 \u001b[0mself\u001b[0m\u001b[0;34m.\u001b[0m\u001b[0mblock\u001b[0m\u001b[0;34m.\u001b[0m\u001b[0mrun\u001b[0m\u001b[0;34m(\u001b[0m\u001b[0;34m)\u001b[0m\u001b[0;34m\u001b[0m\u001b[0;34m\u001b[0m\u001b[0m\n\u001b[0m\u001b[1;32m    277\u001b[0m             \u001b[0;32mexcept\u001b[0m \u001b[0mException\u001b[0m \u001b[0;32mas\u001b[0m \u001b[0mexp\u001b[0m\u001b[0;34m:\u001b[0m\u001b[0;34m\u001b[0m\u001b[0;34m\u001b[0m\u001b[0m\n",
      "\u001b[0;32m~/published-packages/project/blocks/ayan_spark_blocks_clone/blocks.py\u001b[0m in \u001b[0;36mrun\u001b[0;34m()\u001b[0m\n\u001b[1;32m    661\u001b[0m         \u001b[0mprint\u001b[0m\u001b[0;34m(\u001b[0m\u001b[0;34m'{clone} row count:'\u001b[0m\u001b[0;34m,\u001b[0m \u001b[0mcustomer_ts\u001b[0m\u001b[0;34m.\u001b[0m\u001b[0mcount\u001b[0m\u001b[0;34m(\u001b[0m\u001b[0;34m)\u001b[0m\u001b[0;34m)\u001b[0m\u001b[0;34m\u001b[0m\u001b[0;34m\u001b[0m\u001b[0m\n\u001b[0;32m--> 662\u001b[0;31m         \u001b[0mcustomer_ts\u001b[0m\u001b[0;34m.\u001b[0m\u001b[0mshow\u001b[0m\u001b[0;34m(\u001b[0m\u001b[0;34m)\u001b[0m\u001b[0;34m\u001b[0m\u001b[0;34m\u001b[0m\u001b[0m\n\u001b[0m\u001b[1;32m    663\u001b[0m         \u001b[0mmerchant_ts\u001b[0m \u001b[0;34m=\u001b[0m \u001b[0mget_merchant_ts\u001b[0m\u001b[0;34m(\u001b[0m\u001b[0mipd\u001b[0m\u001b[0;34m)\u001b[0m\u001b[0;34m\u001b[0m\u001b[0;34m\u001b[0m\u001b[0m\n",
      "\u001b[0;32m/usr/local/lib/python3.7/dist-packages/pyspark/sql/dataframe.py\u001b[0m in \u001b[0;36mshow\u001b[0;34m()\u001b[0m\n\u001b[1;32m    439\u001b[0m         \u001b[0;32mif\u001b[0m \u001b[0misinstance\u001b[0m\u001b[0;34m(\u001b[0m\u001b[0mtruncate\u001b[0m\u001b[0;34m,\u001b[0m \u001b[0mbool\u001b[0m\u001b[0;34m)\u001b[0m \u001b[0;32mand\u001b[0m \u001b[0mtruncate\u001b[0m\u001b[0;34m:\u001b[0m\u001b[0;34m\u001b[0m\u001b[0;34m\u001b[0m\u001b[0m\n\u001b[0;32m--> 440\u001b[0;31m             \u001b[0mprint\u001b[0m\u001b[0;34m(\u001b[0m\u001b[0mself\u001b[0m\u001b[0;34m.\u001b[0m\u001b[0m_jdf\u001b[0m\u001b[0;34m.\u001b[0m\u001b[0mshowString\u001b[0m\u001b[0;34m(\u001b[0m\u001b[0mn\u001b[0m\u001b[0;34m,\u001b[0m \u001b[0;36m20\u001b[0m\u001b[0;34m,\u001b[0m \u001b[0mvertical\u001b[0m\u001b[0;34m)\u001b[0m\u001b[0;34m)\u001b[0m\u001b[0;34m\u001b[0m\u001b[0;34m\u001b[0m\u001b[0m\n\u001b[0m\u001b[1;32m    441\u001b[0m         \u001b[0;32melse\u001b[0m\u001b[0;34m:\u001b[0m\u001b[0;34m\u001b[0m\u001b[0;34m\u001b[0m\u001b[0m\n",
      "\u001b[0;32m/usr/local/lib/python3.7/dist-packages/py4j/java_gateway.py\u001b[0m in \u001b[0;36m__call__\u001b[0;34m()\u001b[0m\n\u001b[1;32m   1304\u001b[0m         return_value = get_return_value(\n\u001b[0;32m-> 1305\u001b[0;31m             answer, self.gateway_client, self.target_id, self.name)\n\u001b[0m\u001b[1;32m   1306\u001b[0m \u001b[0;34m\u001b[0m\u001b[0m\n",
      "\u001b[0;32m/usr/local/lib/python3.7/dist-packages/pyspark/sql/utils.py\u001b[0m in \u001b[0;36mdeco\u001b[0;34m()\u001b[0m\n\u001b[1;32m    136\u001b[0m                 \u001b[0;31m# JVM exception message.\u001b[0m\u001b[0;34m\u001b[0m\u001b[0;34m\u001b[0m\u001b[0;34m\u001b[0m\u001b[0m\n\u001b[0;32m--> 137\u001b[0;31m                 \u001b[0mraise_from\u001b[0m\u001b[0;34m(\u001b[0m\u001b[0mconverted\u001b[0m\u001b[0;34m)\u001b[0m\u001b[0;34m\u001b[0m\u001b[0;34m\u001b[0m\u001b[0m\n\u001b[0m\u001b[1;32m    138\u001b[0m             \u001b[0;32melse\u001b[0m\u001b[0;34m:\u001b[0m\u001b[0;34m\u001b[0m\u001b[0;34m\u001b[0m\u001b[0m\n",
      "\u001b[0;32m/usr/local/lib/python3.7/dist-packages/pyspark/sql/utils.py\u001b[0m in \u001b[0;36mraise_from\u001b[0;34m()\u001b[0m\n",
      "\u001b[0;31m<class 'str'>\u001b[0m: (<class 'AttributeError'>, AttributeError(\"'NoneType' object has no attribute 'org'\"))",
      "\nDuring handling of the above exception, another exception occurred:\n",
      "\u001b[0;31mAttributeError\u001b[0m                            Traceback (most recent call last)",
      "    \u001b[0;31m[... skipping hidden 1 frame]\u001b[0m\n",
      "\u001b[0;32m/usr/local/lib/python3.7/dist-packages/IPython/core/interactiveshell.py\u001b[0m in \u001b[0;36mshowtraceback\u001b[0;34m(self, exc_tuple, filename, tb_offset, exception_only, running_compiled_code)\u001b[0m\n\u001b[1;32m   2064\u001b[0m                                             value, tb, tb_offset=tb_offset)\n\u001b[1;32m   2065\u001b[0m \u001b[0;34m\u001b[0m\u001b[0m\n\u001b[0;32m-> 2066\u001b[0;31m                     \u001b[0mself\u001b[0m\u001b[0;34m.\u001b[0m\u001b[0m_showtraceback\u001b[0m\u001b[0;34m(\u001b[0m\u001b[0metype\u001b[0m\u001b[0;34m,\u001b[0m \u001b[0mvalue\u001b[0m\u001b[0;34m,\u001b[0m \u001b[0mstb\u001b[0m\u001b[0;34m)\u001b[0m\u001b[0;34m\u001b[0m\u001b[0;34m\u001b[0m\u001b[0m\n\u001b[0m\u001b[1;32m   2067\u001b[0m                     \u001b[0;32mif\u001b[0m \u001b[0mself\u001b[0m\u001b[0;34m.\u001b[0m\u001b[0mcall_pdb\u001b[0m\u001b[0;34m:\u001b[0m\u001b[0;34m\u001b[0m\u001b[0;34m\u001b[0m\u001b[0m\n\u001b[1;32m   2068\u001b[0m                         \u001b[0;31m# drop into debugger\u001b[0m\u001b[0;34m\u001b[0m\u001b[0;34m\u001b[0m\u001b[0;34m\u001b[0m\u001b[0m\n",
      "\u001b[0;32m/usr/local/lib/python3.7/dist-packages/ipykernel/zmqshell.py\u001b[0m in \u001b[0;36m_showtraceback\u001b[0;34m(self, etype, evalue, stb)\u001b[0m\n\u001b[1;32m    547\u001b[0m             \u001b[0;34m'traceback'\u001b[0m \u001b[0;34m:\u001b[0m \u001b[0mstb\u001b[0m\u001b[0;34m,\u001b[0m\u001b[0;34m\u001b[0m\u001b[0;34m\u001b[0m\u001b[0m\n\u001b[1;32m    548\u001b[0m             \u001b[0;34m'ename'\u001b[0m \u001b[0;34m:\u001b[0m \u001b[0mstr\u001b[0m\u001b[0;34m(\u001b[0m\u001b[0metype\u001b[0m\u001b[0;34m.\u001b[0m\u001b[0m__name__\u001b[0m\u001b[0;34m)\u001b[0m\u001b[0;34m,\u001b[0m\u001b[0;34m\u001b[0m\u001b[0;34m\u001b[0m\u001b[0m\n\u001b[0;32m--> 549\u001b[0;31m             \u001b[0;34m'evalue'\u001b[0m \u001b[0;34m:\u001b[0m \u001b[0mpy3compat\u001b[0m\u001b[0;34m.\u001b[0m\u001b[0msafe_unicode\u001b[0m\u001b[0;34m(\u001b[0m\u001b[0mevalue\u001b[0m\u001b[0;34m)\u001b[0m\u001b[0;34m,\u001b[0m\u001b[0;34m\u001b[0m\u001b[0;34m\u001b[0m\u001b[0m\n\u001b[0m\u001b[1;32m    550\u001b[0m         }\n\u001b[1;32m    551\u001b[0m \u001b[0;34m\u001b[0m\u001b[0m\n",
      "\u001b[0;32m/usr/local/lib/python3.7/dist-packages/ipython_genutils/py3compat.py\u001b[0m in \u001b[0;36msafe_unicode\u001b[0;34m(e)\u001b[0m\n\u001b[1;32m     63\u001b[0m     \"\"\"\n\u001b[1;32m     64\u001b[0m     \u001b[0;32mtry\u001b[0m\u001b[0;34m:\u001b[0m\u001b[0;34m\u001b[0m\u001b[0;34m\u001b[0m\u001b[0m\n\u001b[0;32m---> 65\u001b[0;31m         \u001b[0;32mreturn\u001b[0m \u001b[0municode_type\u001b[0m\u001b[0;34m(\u001b[0m\u001b[0me\u001b[0m\u001b[0;34m)\u001b[0m\u001b[0;34m\u001b[0m\u001b[0;34m\u001b[0m\u001b[0m\n\u001b[0m\u001b[1;32m     66\u001b[0m     \u001b[0;32mexcept\u001b[0m \u001b[0mUnicodeError\u001b[0m\u001b[0;34m:\u001b[0m\u001b[0;34m\u001b[0m\u001b[0;34m\u001b[0m\u001b[0m\n\u001b[1;32m     67\u001b[0m         \u001b[0;32mpass\u001b[0m\u001b[0;34m\u001b[0m\u001b[0;34m\u001b[0m\u001b[0m\n",
      "\u001b[0;32m/usr/local/lib/python3.7/dist-packages/pyspark/sql/utils.py\u001b[0m in \u001b[0;36m__str__\u001b[0;34m(self)\u001b[0m\n\u001b[1;32m     41\u001b[0m \u001b[0;34m\u001b[0m\u001b[0m\n\u001b[1;32m     42\u001b[0m     \u001b[0;32mdef\u001b[0m \u001b[0m__str__\u001b[0m\u001b[0;34m(\u001b[0m\u001b[0mself\u001b[0m\u001b[0;34m)\u001b[0m\u001b[0;34m:\u001b[0m\u001b[0;34m\u001b[0m\u001b[0;34m\u001b[0m\u001b[0m\n\u001b[0;32m---> 43\u001b[0;31m         \u001b[0msql_conf\u001b[0m \u001b[0;34m=\u001b[0m \u001b[0mSparkContext\u001b[0m\u001b[0;34m.\u001b[0m\u001b[0m_jvm\u001b[0m\u001b[0;34m.\u001b[0m\u001b[0morg\u001b[0m\u001b[0;34m.\u001b[0m\u001b[0mapache\u001b[0m\u001b[0;34m.\u001b[0m\u001b[0mspark\u001b[0m\u001b[0;34m.\u001b[0m\u001b[0msql\u001b[0m\u001b[0;34m.\u001b[0m\u001b[0minternal\u001b[0m\u001b[0;34m.\u001b[0m\u001b[0mSQLConf\u001b[0m\u001b[0;34m.\u001b[0m\u001b[0mget\u001b[0m\u001b[0;34m(\u001b[0m\u001b[0;34m)\u001b[0m\u001b[0;34m\u001b[0m\u001b[0;34m\u001b[0m\u001b[0m\n\u001b[0m\u001b[1;32m     44\u001b[0m         \u001b[0mdebug_enabled\u001b[0m \u001b[0;34m=\u001b[0m \u001b[0msql_conf\u001b[0m\u001b[0;34m.\u001b[0m\u001b[0mpysparkJVMStacktraceEnabled\u001b[0m\u001b[0;34m(\u001b[0m\u001b[0;34m)\u001b[0m\u001b[0;34m\u001b[0m\u001b[0;34m\u001b[0m\u001b[0m\n\u001b[1;32m     45\u001b[0m         \u001b[0mdesc\u001b[0m \u001b[0;34m=\u001b[0m \u001b[0mself\u001b[0m\u001b[0;34m.\u001b[0m\u001b[0mdesc\u001b[0m\u001b[0;34m\u001b[0m\u001b[0;34m\u001b[0m\u001b[0m\n",
      "\u001b[0;31mAttributeError\u001b[0m: 'NoneType' object has no attribute 'org'"
     ]
    }
   ],
   "source": [
    "pipe.execute()"
   ]
  },
  {
   "cell_type": "code",
   "execution_count": null,
   "id": "instrumental-juice",
   "metadata": {},
   "outputs": [],
   "source": []
  },
  {
   "cell_type": "code",
   "execution_count": null,
   "id": "circular-assault",
   "metadata": {},
   "outputs": [],
   "source": [
    "pip show pyspark"
   ]
  },
  {
   "cell_type": "code",
   "execution_count": 19,
   "id": "liable-device",
   "metadata": {},
   "outputs": [
    {
     "ename": "AttributeError",
     "evalue": "type object 'CustMercTS' has no attribute '__file__'",
     "output_type": "error",
     "traceback": [
      "\u001b[0;31m---------------------------------------------------------------------------\u001b[0m",
      "\u001b[0;31mAttributeError\u001b[0m                            Traceback (most recent call last)",
      "\u001b[0;32m<ipython-input-19-e48698a8172e>\u001b[0m in \u001b[0;36m<module>\u001b[0;34m\u001b[0m\n\u001b[0;32m----> 1\u001b[0;31m \u001b[0mCustMercTS\u001b[0m\u001b[0;34m.\u001b[0m\u001b[0m__file__\u001b[0m\u001b[0;34m\u001b[0m\u001b[0;34m\u001b[0m\u001b[0m\n\u001b[0m",
      "\u001b[0;31mAttributeError\u001b[0m: type object 'CustMercTS' has no attribute '__file__'"
     ]
    }
   ],
   "source": []
  },
  {
   "cell_type": "code",
   "execution_count": null,
   "id": "athletic-arctic",
   "metadata": {},
   "outputs": [],
   "source": []
  }
 ],
 "metadata": {
  "kernelspec": {
   "display_name": "Python 3",
   "language": "python",
   "name": "python3"
  },
  "language_info": {
   "codemirror_mode": {
    "name": "ipython",
    "version": 3
   },
   "file_extension": ".py",
   "mimetype": "text/x-python",
   "name": "python",
   "nbconvert_exporter": "python",
   "pygments_lexer": "ipython3",
   "version": "3.7.10"
  }
 },
 "nbformat": 4,
 "nbformat_minor": 5
}
