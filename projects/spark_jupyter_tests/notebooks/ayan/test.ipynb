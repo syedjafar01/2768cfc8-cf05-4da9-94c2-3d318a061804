{
 "cells": [
  {
   "cell_type": "code",
   "execution_count": 1,
   "id": "stylish-dynamics",
   "metadata": {},
   "outputs": [],
   "source": [
    "import razor\n",
    "import razor.flow as rf\n",
    "from razor import api\n",
    "from razor.flow.spark import SparkBlock, SparkExecutor\n",
    "\n",
    "import os\n",
    "from datetime import datetime, timedelta\n",
    "from pyspark.sql import SparkSession, functions\n",
    "from pyspark.sql.dataframe import DataFrame\n",
    "from datetime import datetime, timedelta\n",
    "from dateutil.relativedelta import relativedelta\n",
    "from pyspark.sql.types import IntegerType, DateType, ArrayType, StringType, FloatType, TimestampType\n",
    "\n",
    "from pyspark.sql.functions import pandas_udf, PandasUDFType,collect_set"
   ]
  },
  {
   "cell_type": "code",
   "execution_count": 2,
   "id": "intended-buying",
   "metadata": {},
   "outputs": [],
   "source": [
    "def project_space_path(path):\n",
    "    ps = api.datasources('Project Space')\n",
    "    return os.path.join(ps.abspath(), path)"
   ]
  },
  {
   "cell_type": "code",
   "execution_count": 3,
   "id": "optical-garden",
   "metadata": {},
   "outputs": [],
   "source": [
    "def get_customer_static_info(input_df):\n",
    "    customer_static = input_df.select([\"customer_name\", \"card_number\", \"card_type\"])\n",
    "    return customer_static\n",
    "\n",
    "def get_merchant_static_info(input_df):\n",
    "    merchant_static_temp = input_df.select([\"merchant_id\", \"product_type\"])\n",
    "    merchant_static_data = input_df.select([\"merchant_id\", \"merchant_city\", \"merchant_state\"])\n",
    "    merchant_static_temp = merchant_static_temp.groupBy(\"merchant_id\").agg(collect_set(\"product_type\").alias(\"list_of_product\"))\n",
    "    merchant_static = merchant_static_data.join(merchant_static_temp, on='merchant_id', how='left')\n",
    "    return merchant_static"
   ]
  },
  {
   "cell_type": "code",
   "execution_count": 4,
   "id": "present-miami",
   "metadata": {},
   "outputs": [],
   "source": [
    "def get_customer_ts(df):\n",
    "    df = df.withColumn(\"time\", df[\"time\"].cast(TimestampType()))\n",
    "    df = df.withColumn(\"amount\", df[\"amount\"].cast(IntegerType()))\n",
    "    df = df.select([\"transaction_id\", \"time\", \"customer_name\", \"card_number\", \"amount\"])\n",
    "    \n",
    "    df1 = df.withColumn(\"tuplecol\", functions.struct([functions.col(\"transaction_id\") , functions.col(\"time\") , functions.col(\"amount\")]))\n",
    "    \n",
    "    df2 = df1.groupby(\"card_number\").agg(functions.collect_list(\"tuplecol\"))\n",
    "    final_customer_df = df.join(df2, on='card_number', how = 'inner')\n",
    "    final_customer_df = final_customer_df.withColumnRenamed('collect_list(tuplecol)', 'tuplecol')\n",
    "    \n",
    "    time_udf = functions.udf(get_customer_timeseries_feature, ArrayType(ArrayType(IntegerType())))\n",
    "    final_customer_df=final_customer_df.withColumn(\"results\",time_udf(functions.col(\"tuplecol\"),functions.col(\"time\")))\n",
    "    \n",
    "    final_customer_df = final_customer_df.select([\"results\", \"transaction_id\"])\n",
    "    df = df.select([\"transaction_id\", \"time\", \"customer_name\", \"card_number\"])\n",
    "    final_customer_df = df.join(final_customer_df, on='transaction_id', how = 'inner')\n",
    "    \n",
    "    feature_vector_udf = functions.udf(get_feature_vector, IntegerType())\n",
    "    avg_feature_vector_udf = functions.udf(get_avg_feature_vector, FloatType())\n",
    "    \n",
    "    feature_type = ['sum','count','max', 'avg']\n",
    "    timespan = ['one_hour','six_hours','twelve_hours', 'twenty_four_hours', 'three_days', 'one_week', 'two_week', 'one_month']\n",
    "    for i in range(0,len(timespan)):\n",
    "        for j in range(0,len(feature_type)):\n",
    "            if feature_type[j]=='avg':\n",
    "                final_customer_df = final_customer_df.withColumn(\"last_\" + timespan[i] + \"_total_customer_transaction_\" + feature_type[j],avg_feature_vector_udf(functions.col(\"results\"),functions.lit(i)))\n",
    "            else:\n",
    "                final_customer_df = final_customer_df.withColumn(\"last_\" + timespan[i] + \"_total_customer_transaction_\" + feature_type[j],feature_vector_udf(functions.col(\"results\"),functions.lit(j),functions.lit(i)))\n",
    "    \n",
    "    final_customer_df = final_customer_df.drop('results')\n",
    "    \n",
    "    return final_customer_df\n",
    "\n",
    "\n",
    "def get_merchant_ts(df):\n",
    "    df = df.withColumn(\"time\", df[\"time\"].cast(TimestampType()))\n",
    "    df = df.withColumn(\"amount\", df[\"amount\"].cast(IntegerType()))\n",
    "    # df = df.select([\"transaction_id\", \"time\", \"customer_name\", \"card_number\", \"amount\"])\n",
    "    df = df.select(['transaction_id',\"time\", 'merchant_id', 'merchant_city', 'merchant_state',\"amount\"])\n",
    "    \n",
    "    df1 = df.withColumn(\"tuplecol\", functions.struct([functions.col(\"transaction_id\") , functions.col(\"time\") , functions.col(\"amount\")]))\n",
    "    \n",
    "    df2 = df1.groupby(\"merchant_id\").agg(functions.collect_list(\"tuplecol\"))\n",
    "    final_customer_df = df.join(df2, on='merchant_id', how = 'inner')\n",
    "    final_customer_df = final_customer_df.withColumnRenamed('collect_list(tuplecol)', 'tuplecol')\n",
    "    \n",
    "    time_udf = functions.udf(get_merchant_timeseries_feature, ArrayType(ArrayType(IntegerType())))\n",
    "    final_customer_df=final_customer_df.withColumn(\"results\",time_udf(functions.col(\"tuplecol\"),functions.col(\"time\"),functions.col(\"transaction_id\")))\n",
    "    \n",
    "    final_customer_df = final_customer_df.select([\"results\", \"transaction_id\"])\n",
    "    df = df.select(['transaction_id', 'merchant_id', 'merchant_city', 'merchant_state'])\n",
    "    final_customer_df = df.join(final_customer_df, on='transaction_id', how = 'inner')\n",
    "    \n",
    "    feature_vector_udf = functions.udf(get_feature_vector, IntegerType())\n",
    "    avg_feature_vector_udf = functions.udf(get_avg_feature_vector, FloatType())\n",
    "    \n",
    "    feature_type = ['sum','count','max', 'avg']\n",
    "    timespan = ['one_hour','six_hour','twelve_hour', 'twenty_four_hour', 'three_days']\n",
    "    for i in range(0,5):\n",
    "        for j in range(0,4):\n",
    "            if feature_type[j]=='avg':\n",
    "                final_customer_df = final_customer_df.withColumn(\"last_\" + timespan[i] + \"_total_merchant_transaction_\" + feature_type[j],avg_feature_vector_udf(functions.col(\"results\"),functions.lit(i)))\n",
    "            else:\n",
    "                final_customer_df = final_customer_df.withColumn(\"last_\" + timespan[i] + \"_total_merchant_transaction_\" + feature_type[j],feature_vector_udf(functions.col(\"results\"),functions.lit(j),functions.lit(i)))\n",
    "\n",
    "    final_customer_df = final_customer_df.drop('results')\n",
    "    \n",
    "    return final_customer_df\n",
    "\n",
    "\n",
    "def get_customer_timeseries_feature(history,current_time):\n",
    "    last_hour_amount_history = [0,]\n",
    "    last_6hour_amount_history = [0,]\n",
    "    last_12hour_amount_history = [0,]\n",
    "    last_24hour_amount_history = [0,]\n",
    "    last_3day_amount_history = [0,]\n",
    "    last_1week_amount_history = [0,]\n",
    "    last_2week_amount_history = [0,]\n",
    "    last_1month_amount_history = [0,]\n",
    "       \n",
    "    history = sorted(history,key=lambda a: a[1])\n",
    "    last_hour_time = current_time - timedelta(hours=1) \n",
    "    last_6hour_time = current_time - timedelta(hours=6)\n",
    "    last_12hour_time = current_time - timedelta(hours=12)\n",
    "    last_24hour_time = current_time - timedelta(hours=24)\n",
    "    last_3day_time = current_time - timedelta(hours=72)\n",
    "    last_1week_time = current_time - timedelta(days=7)\n",
    "    last_2week_time = current_time - timedelta(days=14)\n",
    "    last_1month_time = current_time - relativedelta(months=1)\n",
    "    \n",
    "    for item in history:\n",
    "        if (item[1] < current_time) and (item[1] >= last_hour_time):\n",
    "            last_hour_amount_history.append(item[2])\n",
    "            \n",
    "        if (item[1] < current_time) and (item[1] >= last_6hour_time):\n",
    "            last_6hour_amount_history.append(item[2])\n",
    "            \n",
    "        if (item[1] < current_time) and (item[1] >= last_12hour_time):\n",
    "            last_12hour_amount_history.append(item[2])\n",
    "            \n",
    "        if (item[1] < current_time) and (item[1] >= last_24hour_time):\n",
    "            last_24hour_amount_history.append(item[2])\n",
    "            \n",
    "        if (item[1] < current_time) and (item[1] >= last_3day_time):\n",
    "            last_3day_amount_history.append(item[2])\n",
    "        \n",
    "        if (item[1] < current_time) and (item[1] >= last_1week_time):\n",
    "            last_1week_amount_history.append(item[2])\n",
    "            \n",
    "        if (item[1] < current_time) and (item[1] >= last_2week_time):\n",
    "            last_2week_amount_history.append(item[2])\n",
    "            \n",
    "        if (item[1] < current_time) and (item[1] >= last_1month_time):\n",
    "            last_1month_amount_history.append(item[2])\n",
    "        \n",
    "        # amount_feature = [sum, count, avg, max]\n",
    "#     return [last_hour_amount_history,last_6hour_amount_history]\n",
    "    last_hour_amount_feature = [sum(last_hour_amount_history),len(last_hour_amount_history)-1,max(last_hour_amount_history)]\n",
    "    last_6hour_amount_feature = [sum(last_6hour_amount_history),len(last_6hour_amount_history)-1,max(last_6hour_amount_history)]\n",
    "    last_12hour_amount_feature = [sum(last_12hour_amount_history),len(last_12hour_amount_history)-1,max(last_12hour_amount_history)]\n",
    "    last_24hour_amount_feature = [sum(last_24hour_amount_history),len(last_24hour_amount_history)-1,max(last_24hour_amount_history)]\n",
    "    last_3day_amount_feature = [sum(last_3day_amount_history),len(last_3day_amount_history)-1,max(last_3day_amount_history)]\n",
    "    last_1week_amount_feature = [sum(last_1week_amount_history),len(last_1week_amount_history)-1,max(last_1week_amount_history)]\n",
    "    last_2week_amount_feature = [sum(last_2week_amount_history),len(last_2week_amount_history)-1,max(last_2week_amount_history)]\n",
    "    last_1month_amount_feature = [sum(last_1month_amount_history),len(last_1month_amount_history)-1,max(last_1month_amount_history)]\n",
    "\n",
    "\n",
    "\n",
    "\n",
    "    return [last_hour_amount_feature,last_6hour_amount_feature,last_12hour_amount_feature,last_24hour_amount_feature,last_3day_amount_feature,last_1week_amount_feature,last_2week_amount_feature,last_1month_amount_feature]\n",
    "\n",
    "def get_feature_vector(a,feature_type,timespan):\n",
    "    return int(a[timespan][feature_type])\n",
    "\n",
    "def get_avg_feature_vector(x,timespan):\n",
    "    a= x[timespan][0]\n",
    "    b= x[timespan][1]\n",
    "    if b==0:\n",
    "        return float(a/1)\n",
    "    else:\n",
    "        return float(a/b)\n",
    "\n",
    "\n",
    "def get_merchant_timeseries_feature(history,current_time,current_transaction_id):\n",
    "    last_hour_amount_history = [0,]\n",
    "    last_6hour_amount_history = [0,]\n",
    "    last_12hour_amount_history = [0,]\n",
    "    last_24hour_amount_history = [0,]\n",
    "    last_3day_amount_history = [0,]    \n",
    "           \n",
    "    history = sorted(history,key=lambda a: a[1])\n",
    "    last_hour_time = current_time - timedelta(hours=1) \n",
    "    last_6hour_time = current_time - timedelta(hours=6)\n",
    "    last_12hour_time = current_time - timedelta(hours=12)\n",
    "    last_24hour_time = current_time - timedelta(hours=24)\n",
    "    last_3day_time = current_time - timedelta(hours=72)\n",
    "    \n",
    "    for item in history:\n",
    "        if item[0]!=current_transaction_id:\n",
    "            if (item[1] <= current_time) and (item[1] >= last_hour_time):\n",
    "                last_hour_amount_history.append(item[2])\n",
    "\n",
    "            if (item[1] <= current_time) and (item[1] >= last_6hour_time):\n",
    "                last_6hour_amount_history.append(item[2])\n",
    "\n",
    "            if (item[1] <= current_time) and (item[1] >= last_12hour_time):\n",
    "                last_12hour_amount_history.append(item[2])\n",
    "\n",
    "            if (item[1] <= current_time) and (item[1] >= last_24hour_time):\n",
    "                last_24hour_amount_history.append(item[2])\n",
    "\n",
    "            if (item[1] <= current_time) and (item[1] >= last_3day_time):\n",
    "                last_3day_amount_history.append(item[2])\n",
    "\n",
    "        # amount_feature = [sum, count, avg, max]\n",
    "#     return [last_hour_amount_history,last_6hour_amount_history]\n",
    "    last_hour_amount_feature = [sum(last_hour_amount_history),len(last_hour_amount_history)-1,max(last_hour_amount_history)]\n",
    "    last_6hour_amount_feature = [sum(last_6hour_amount_history),len(last_6hour_amount_history)-1,max(last_6hour_amount_history)]\n",
    "    last_12hour_amount_feature = [sum(last_12hour_amount_history),len(last_12hour_amount_history)-1,max(last_12hour_amount_history)]\n",
    "    last_24hour_amount_feature = [sum(last_24hour_amount_history),len(last_24hour_amount_history)-1,max(last_24hour_amount_history)]\n",
    "    last_3day_amount_feature = [sum(last_3day_amount_history),len(last_3day_amount_history)-1,max(last_3day_amount_history)]\n",
    "\n",
    "    return [last_hour_amount_feature,last_6hour_amount_feature,last_12hour_amount_feature,last_24hour_amount_feature,last_3day_amount_feature]\n",
    "\n",
    "\n",
    "def get_product_type_ts(df):\n",
    "    df = df.withColumn(\"time\", df[\"time\"].cast(TimestampType()))\n",
    "    df = df.withColumn(\"amount\", df[\"amount\"].cast(IntegerType()))\n",
    "    df = df.select([\"transaction_id\", \"time\", 'product_type', \"customer_name\", \"card_number\", \"amount\"])\n",
    "    \n",
    "    product_list = [item.product_type for item in df.select(\"product_type\").distinct().collect()]\n",
    "    product_list.append('Others')\n",
    "    \n",
    "    df1 = df.withColumn(\"tuplecol\", functions.struct([functions.col(\"transaction_id\") , functions.col(\"product_type\") , functions.col(\"time\") , functions.col(\"amount\")]))\n",
    "    \n",
    "    df2 = df1.groupby(\"card_number\").agg(functions.collect_list(\"tuplecol\"))\n",
    "    final_customer_df = df.join(df2, on='card_number', how = 'inner')\n",
    "    final_customer_df = final_customer_df.withColumnRenamed('collect_list(tuplecol)', 'tuplecol')\n",
    "    \n",
    "    time_udf = functions.udf(get_product_type_timeseries_feature, ArrayType(ArrayType(FloatType())))\n",
    "    final_customer_df=final_customer_df.withColumn(\"results\",time_udf(functions.col(\"tuplecol\"),functions.col(\"product_type\"), functions.col(\"time\")))\n",
    "    \n",
    "    final_customer_df = final_customer_df.select([\"results\", \"transaction_id\"])\n",
    "    df = df.select([\"transaction_id\", \"time\", \"customer_name\", \"card_number\"])\n",
    "    final_customer_df = df.join(final_customer_df, on='transaction_id', how = 'inner')\n",
    "    \n",
    "    feature_vector_udf = functions.udf(get_feature_vector_prod_type, FloatType())\n",
    "\n",
    "    feature_type = ['count', 'avg_amount']\n",
    "    for i in range(0,len(product_list)):\n",
    "        for j in range(0,len(feature_type)):\n",
    "            final_customer_df = final_customer_df.withColumn(\"last_2_months_\" + product_list[i] + \"_\" + feature_type[j],feature_vector_udf(functions.col(\"results\"),functions.lit(i),functions.lit(j)))\n",
    "\n",
    "    final_customer_df = final_customer_df.drop('results')\n",
    "    \n",
    "    return final_customer_df\n",
    "\n",
    "\n",
    "def get_transaction_city_ts(df):\n",
    "    df = df.withColumn(\"time\", df[\"time\"].cast(TimestampType()))\n",
    "    df = df.withColumn(\"amount\", df[\"amount\"].cast(IntegerType()))\n",
    "    df = df.select([\"transaction_id\", \"time\", \"customer_name\", \"card_number\", \"merchant_city\"])\n",
    "    \n",
    "    df1 = df.withColumn(\"tuplecol\", functions.struct([functions.col(\"transaction_id\") , functions.col(\"time\") , functions.col(\"merchant_city\")]))\n",
    "    \n",
    "    df2 = df1.groupby(\"card_number\").agg(functions.collect_list(\"tuplecol\"))\n",
    "    final_customer_df = df.join(df2, on='card_number', how = 'inner')\n",
    "    final_customer_df = final_customer_df.withColumnRenamed('collect_list(tuplecol)', 'tuplecol')\n",
    "    \n",
    "    time_udf = functions.udf(get_trans_city_timeseries_feature, ArrayType(FloatType()))\n",
    "    final_customer_df=final_customer_df.withColumn(\"results\",time_udf(functions.col(\"tuplecol\"),functions.col(\"time\"),functions.col(\"merchant_city\")))\n",
    "    \n",
    "    final_customer_df = final_customer_df.select([\"results\", \"transaction_id\"])\n",
    "    df = df.select([\"transaction_id\", \"time\", \"customer_name\", \"card_number\"])\n",
    "    final_customer_df = df.join(final_customer_df, on='transaction_id', how = 'inner')\n",
    "    \n",
    "    feature_vector_udf = functions.udf(get_feature_vector_trans_city, FloatType())\n",
    "\n",
    "    timespan = ['one_hour','six_hours','twelve_hours', 'twenty_four_hours', 'three_days', 'one_week', 'two_week', 'one_month']\n",
    "\n",
    "    for i in range(0,len(timespan)):\n",
    "        final_customer_df = final_customer_df.withColumn(\"last_\" + timespan[i] + \"_City_Score\",feature_vector_udf(functions.col(\"results\"),functions.lit(i)))\n",
    "\n",
    "    final_customer_df = final_customer_df.drop('results')   \n",
    "    \n",
    "    return final_customer_df\n",
    "        \n",
    "\n",
    "def get_transaction_type_ts(df):\n",
    "    df = df.withColumn(\"time\", df[\"time\"].cast(TimestampType()))\n",
    "    df = df.withColumn(\"amount\", df[\"amount\"].cast(IntegerType()))\n",
    "    df = df.select([\"transaction_id\", \"time\", \"customer_name\", \"card_number\", \"transaction_type\", \"amount\"])\n",
    "    \n",
    "    transaction_types = [item.transaction_type for item in df.select(\"transaction_type\").distinct().collect()]\n",
    "\n",
    "    df1 = df.withColumn(\"tuplecol\", functions.struct([functions.col(\"transaction_id\"), functions.col(\"time\"), functions.col(\"amount\")]))\n",
    "    \n",
    "    df2 = df1.groupby(\"card_number\").agg(functions.collect_list(\"tuplecol\"))\n",
    "    final_customer_df = df.join(df2, on='card_number', how = 'inner')\n",
    "    final_customer_df = final_customer_df.withColumnRenamed('collect_list(tuplecol)', 'tuplecol')\n",
    "    \n",
    "    time_udf = functions.udf(get_trans_type_timeseries_feature, ArrayType(ArrayType(IntegerType())))\n",
    "    final_customer_df=final_customer_df.withColumn(\"results\", time_udf(functions.col(\"tuplecol\"), functions.col(\"transaction_type\"), functions.col(\"time\")))\n",
    "\n",
    "    final_customer_df = final_customer_df.select([\"results\", \"transaction_id\"])\n",
    "    df = df.select([\"transaction_id\", \"time\", \"customer_name\", \"card_number\"])\n",
    "    final_customer_df = df.join(final_customer_df, on='transaction_id', how = 'inner')\n",
    "    \n",
    "    feature_vector_udf = functions.udf(get_feature_vector_trans_type, IntegerType())\n",
    "    avg_feature_vector_udf = functions.udf(get_avg_feature_vector_trans_type, FloatType())\n",
    "    \n",
    "    transaction_modes = ['offline', 'online']\n",
    "    feature_type = ['sum','count','max', 'avg']\n",
    "    timespan = ['one_hour','six_hours','twelve_hours', 'twenty_four_hours', 'three_days', 'one_week', 'two_week', 'one_month']\n",
    "\n",
    "    for mode in transaction_modes:\n",
    "        for i in range(0,len(timespan)):\n",
    "            for j in range(0,len(feature_type)):\n",
    "                if feature_type[j]=='avg':\n",
    "                    final_customer_df = final_customer_df.withColumn(\"last_\" + timespan[i] + '_' + mode + \"_total_transaction_\" + feature_type[j],avg_feature_vector_udf(functions.col(\"results\"),functions.lit(mode),functions.lit(i)))\n",
    "                else:\n",
    "                    final_customer_df = final_customer_df.withColumn(\"last_\" + timespan[i] + '_' + mode + \"_total_transaction_\" + feature_type[j],feature_vector_udf(functions.col(\"results\"),functions.lit(mode),functions.lit(j),functions.lit(i)))\n",
    "\n",
    "    final_customer_df = final_customer_df.drop('results')\n",
    "    \n",
    "    return final_customer_df"
   ]
  },
  {
   "cell_type": "code",
   "execution_count": 5,
   "id": "powered-tennis",
   "metadata": {},
   "outputs": [],
   "source": [
    "@rf.block\n",
    "class NonSparkPath:\n",
    "    \n",
    "    __publish__ = True\n",
    "    __label__ = \"NonSpark_path_resolver\"\n",
    "    \n",
    "    # Atomic input - csv filename relative to project space\n",
    "    ip_path: str\n",
    "    # Atomic output of type spark DataFrame.\n",
    "    op_path: rf.Output[str]\n",
    "    \n",
    "    def run(self):\n",
    "        self.op_path.put(project_space_path(self.ip_path))\n",
    "        \n",
    "        "
   ]
  },
  {
   "cell_type": "code",
   "execution_count": 6,
   "id": "experienced-cooper",
   "metadata": {},
   "outputs": [],
   "source": [
    "@rf.block\n",
    "class ReadCsvProjectSpace(SparkBlock):\n",
    "    \n",
    "    # Atomic input - csv filename relative to project space\n",
    "    filename:str\n",
    "    # Atomic output of type spark DataFrame.\n",
    "    data: rf.Output[DataFrame]\n",
    "    \n",
    "    def run(self):\n",
    "#         self.spark: SparkSession\n",
    "        df = self.spark.read.csv(self.filename, header = True)\n",
    "        print(\"Hello\")\n",
    "        df.printSchema()\n",
    "        self.data.put(df)\n",
    "        "
   ]
  },
  {
   "cell_type": "code",
   "execution_count": 7,
   "id": "egyptian-steel",
   "metadata": {},
   "outputs": [],
   "source": [
    "@rf.block\n",
    "class CustMercTS(SparkBlock):\n",
    "    \n",
    "    # Atomic input - csv filename relative to project space\n",
    "    ip_data: DataFrame\n",
    "    # Atomic output of type spark DataFrame.\n",
    "    customer_ts: rf.Output[DataFrame]\n",
    "    merchant_ts: rf.Output[DataFrame]\n",
    "    \n",
    "    def run(self):\n",
    "        ipd = self.ip_data\n",
    "        customer_ts = get_customer_ts(self.ip_data)\n",
    "        # df.show()\n",
    "        customer_ts.show()\n",
    "        merchant_ts = get_merchant_ts(self.ip_data)\n",
    "        merchant_ts.show()\n",
    "        self.customer_ts.put(customer_ts)\n",
    "        self.merchant_ts.put(merchant_ts)\n",
    "        "
   ]
  },
  {
   "cell_type": "code",
   "execution_count": 8,
   "id": "sacred-seven",
   "metadata": {},
   "outputs": [],
   "source": [
    "nsp = NonSparkPath(ip_path='customer_data.csv')"
   ]
  },
  {
   "cell_type": "code",
   "execution_count": 9,
   "id": "animal-burden",
   "metadata": {},
   "outputs": [],
   "source": [
    "rcp = ReadCsvProjectSpace(filename = nsp.op_path, config={}, source=\"\")\n",
    "# rcp.executor = SparkExecutor"
   ]
  },
  {
   "cell_type": "code",
   "execution_count": 10,
   "id": "african-pastor",
   "metadata": {},
   "outputs": [],
   "source": [
    "cm_ts = CustMercTS(ip_data = rcp.data, config={}, source=\"\")\n",
    "# cm_ts.executor = SparkExecutor"
   ]
  },
  {
   "cell_type": "code",
   "execution_count": 11,
   "id": "champion-grill",
   "metadata": {},
   "outputs": [],
   "source": [
    "pipe = rf.Pipeline('temp', targets = [cm_ts])"
   ]
  },
  {
   "cell_type": "code",
   "execution_count": 12,
   "id": "major-ability",
   "metadata": {},
   "outputs": [
    {
     "data": {
      "application/vnd.razorthink.interactive+pipeline+view+json": {
       "blocks": [
        {
         "class_name": "ReadCsvProjectSpace",
         "fullname": ".ReadCsvProjectSpace",
         "id": "5c9fe7b7-310c-4a39-a242-59ae3d7f7d22",
         "inputs": [
          {
           "dataType": "string",
           "default": "",
           "flow": "atomic",
           "help": null,
           "isdict": false,
           "islist": false,
           "label": "filename",
           "meta": {},
           "name": "filename",
           "series": false,
           "type": "str",
           "type_check": true
          },
          {
           "dataType": "dict",
           "default": {},
           "flow": "atomic",
           "help": null,
           "isdict": false,
           "islist": false,
           "label": "config",
           "meta": {},
           "name": "config",
           "series": false,
           "type": "dict",
           "type_check": true
          },
          {
           "dataType": "string",
           "default": "",
           "flow": "atomic",
           "help": null,
           "isdict": false,
           "islist": false,
           "label": "source",
           "meta": {},
           "name": "source",
           "series": false,
           "type": "str",
           "type_check": true
          }
         ],
         "outputs": [
          {
           "flow": "atomic",
           "help": null,
           "label": "data",
           "meta": {},
           "name": "data",
           "series": false,
           "type": "DataFrame",
           "type_check": true
          }
         ],
         "overwritten": false,
         "published": false,
         "var_names": [
          "ReadCsvProjectSpace"
         ]
        },
        {
         "class_name": "CustMercTS",
         "fullname": ".CustMercTS",
         "id": "e85414c6-603f-4c1e-aa89-177d102b08fb",
         "inputs": [
          {
           "dataType": null,
           "default": null,
           "flow": "atomic",
           "help": null,
           "isdict": false,
           "islist": false,
           "label": "ip_data",
           "meta": {},
           "name": "ip_data",
           "series": false,
           "type": "DataFrame",
           "type_check": true
          },
          {
           "dataType": "dict",
           "default": {},
           "flow": "atomic",
           "help": null,
           "isdict": false,
           "islist": false,
           "label": "config",
           "meta": {},
           "name": "config",
           "series": false,
           "type": "dict",
           "type_check": true
          },
          {
           "dataType": "string",
           "default": "",
           "flow": "atomic",
           "help": null,
           "isdict": false,
           "islist": false,
           "label": "source",
           "meta": {},
           "name": "source",
           "series": false,
           "type": "str",
           "type_check": true
          }
         ],
         "outputs": [
          {
           "flow": "atomic",
           "help": null,
           "label": "customer_ts",
           "meta": {},
           "name": "customer_ts",
           "series": false,
           "type": "DataFrame",
           "type_check": true
          },
          {
           "flow": "atomic",
           "help": null,
           "label": "merchant_ts",
           "meta": {},
           "name": "merchant_ts",
           "series": false,
           "type": "DataFrame",
           "type_check": true
          }
         ],
         "overwritten": false,
         "published": false,
         "var_names": [
          "CustMercTS"
         ]
        },
        {
         "class_name": "NonSparkPath",
         "fullname": ".NonSparkPath",
         "id": "6f02d0ab-41ae-4289-9faf-54e94beb6fbb",
         "inputs": [
          {
           "dataType": "string",
           "default": "",
           "flow": "atomic",
           "help": null,
           "isdict": false,
           "islist": false,
           "label": "ip_path",
           "meta": {},
           "name": "ip_path",
           "series": false,
           "type": "str",
           "type_check": true
          }
         ],
         "outputs": [
          {
           "flow": "atomic",
           "help": null,
           "label": "op_path",
           "meta": {},
           "name": "op_path",
           "series": false,
           "type": "str",
           "type_check": true
          }
         ],
         "overwritten": false,
         "published": false,
         "var_names": [
          "NonSparkPath"
         ]
        }
       ],
       "connections": [
        {
         "id": "1789d203-0c6f-4854-9f97-70de0a31681e",
         "source": {
          "adapter": false,
          "instance_id": "f2ac6312-32f9-4c81-9d7f-57382e7677b7",
          "name": "data"
         },
         "target": {
          "adapter": false,
          "instance_id": "3fef627f-6e6c-4d90-8291-8ef26380e0f6",
          "name": "ip_data"
         }
        },
        {
         "id": "5dc22947-79a4-4628-b2eb-c1dc3c9b71b4",
         "source": {
          "adapter": false,
          "instance_id": "84f0552d-a98b-4c3b-be8c-ead3b72cd908",
          "name": "op_path"
         },
         "target": {
          "adapter": false,
          "instance_id": "f2ac6312-32f9-4c81-9d7f-57382e7677b7",
          "name": "filename"
         }
        }
       ],
       "id": "5ff3883b-0566-446f-a69f-f2c505b3c10c",
       "instances": [
        {
         "block_class": "e85414c6-603f-4c1e-aa89-177d102b08fb",
         "id": "3fef627f-6e6c-4d90-8291-8ef26380e0f6",
         "name": "CustMercTS_1",
         "var_names": [
          "cm_ts"
         ]
        },
        {
         "block_class": "5c9fe7b7-310c-4a39-a242-59ae3d7f7d22",
         "id": "f2ac6312-32f9-4c81-9d7f-57382e7677b7",
         "name": "ReadCsvProjectSpace_1",
         "var_names": [
          "rcp"
         ]
        },
        {
         "block_class": "6f02d0ab-41ae-4289-9faf-54e94beb6fbb",
         "id": "84f0552d-a98b-4c3b-be8c-ead3b72cd908",
         "name": "NonSparkPath_1",
         "var_names": [
          "nsp"
         ]
        }
       ],
       "name": "temp",
       "var_names": []
      },
      "image/svg+xml": [
       "<?xml version=\"1.0\" encoding=\"UTF-8\" standalone=\"no\"?>\n",
       "<!DOCTYPE svg PUBLIC \"-//W3C//DTD SVG 1.1//EN\"\n",
       " \"http://www.w3.org/Graphics/SVG/1.1/DTD/svg11.dtd\">\n",
       "<!-- Generated by graphviz version 2.43.0 (0)\n",
       " -->\n",
       "<!-- Title: %3 Pages: 1 -->\n",
       "<svg width=\"306pt\" height=\"210pt\"\n",
       " viewBox=\"0.00 0.00 305.86 210.00\" xmlns=\"http://www.w3.org/2000/svg\" xmlns:xlink=\"http://www.w3.org/1999/xlink\">\n",
       "<g id=\"graph0\" class=\"graph\" transform=\"scale(1 1) rotate(0) translate(4 206)\">\n",
       "<title>%3</title>\n",
       "<polygon fill=\"white\" stroke=\"transparent\" points=\"-4,4 -4,-206 301.86,-206 301.86,4 -4,4\"/>\n",
       "<!-- CustMercTS(&#39;CustMercTS_1&#39;) -->\n",
       "<g id=\"node1\" class=\"node\">\n",
       "<title>CustMercTS(&#39;CustMercTS_1&#39;)</title>\n",
       "<ellipse fill=\"none\" stroke=\"black\" cx=\"148.93\" cy=\"-18\" rx=\"92.34\" ry=\"18\"/>\n",
       "<text text-anchor=\"middle\" x=\"148.93\" y=\"-15.5\" font-family=\"Helvetica,sans-Serif\" font-size=\"10.00\">CustMercTS(&#39;CustMercTS_1&#39;)</text>\n",
       "</g>\n",
       "<!-- ReadCsvProjectSpace(&#39;ReadCsvProjectSpace_1&#39;) -->\n",
       "<g id=\"node2\" class=\"node\">\n",
       "<title>ReadCsvProjectSpace(&#39;ReadCsvProjectSpace_1&#39;)</title>\n",
       "<ellipse fill=\"none\" stroke=\"black\" cx=\"148.93\" cy=\"-101\" rx=\"148.86\" ry=\"18\"/>\n",
       "<text text-anchor=\"middle\" x=\"148.93\" y=\"-98.5\" font-family=\"Helvetica,sans-Serif\" font-size=\"10.00\">ReadCsvProjectSpace(&#39;ReadCsvProjectSpace_1&#39;)</text>\n",
       "</g>\n",
       "<!-- ReadCsvProjectSpace(&#39;ReadCsvProjectSpace_1&#39;)&#45;&gt;CustMercTS(&#39;CustMercTS_1&#39;) -->\n",
       "<g id=\"edge1\" class=\"edge\">\n",
       "<title>ReadCsvProjectSpace(&#39;ReadCsvProjectSpace_1&#39;)&#45;&gt;CustMercTS(&#39;CustMercTS_1&#39;)</title>\n",
       "<path fill=\"none\" stroke=\"black\" d=\"M148.93,-82.82C148.93,-72.19 148.93,-58.31 148.93,-46.2\"/>\n",
       "<polygon fill=\"black\" stroke=\"black\" points=\"152.43,-46.15 148.93,-36.15 145.43,-46.15 152.43,-46.15\"/>\n",
       "<text text-anchor=\"middle\" x=\"183.93\" y=\"-57\" font-family=\"Helvetica,sans-Serif\" font-size=\"10.00\">data&#45;&gt;ip_data</text>\n",
       "</g>\n",
       "<!-- NonSparkPath(&#39;NonSparkPath_1&#39;) -->\n",
       "<g id=\"node3\" class=\"node\">\n",
       "<title>NonSparkPath(&#39;NonSparkPath_1&#39;)</title>\n",
       "<ellipse fill=\"none\" stroke=\"black\" cx=\"148.93\" cy=\"-184\" rx=\"104.56\" ry=\"18\"/>\n",
       "<text text-anchor=\"middle\" x=\"148.93\" y=\"-181.5\" font-family=\"Helvetica,sans-Serif\" font-size=\"10.00\">NonSparkPath(&#39;NonSparkPath_1&#39;)</text>\n",
       "</g>\n",
       "<!-- NonSparkPath(&#39;NonSparkPath_1&#39;)&#45;&gt;ReadCsvProjectSpace(&#39;ReadCsvProjectSpace_1&#39;) -->\n",
       "<g id=\"edge2\" class=\"edge\">\n",
       "<title>NonSparkPath(&#39;NonSparkPath_1&#39;)&#45;&gt;ReadCsvProjectSpace(&#39;ReadCsvProjectSpace_1&#39;)</title>\n",
       "<path fill=\"none\" stroke=\"black\" d=\"M148.93,-165.82C148.93,-155.19 148.93,-141.31 148.93,-129.2\"/>\n",
       "<polygon fill=\"black\" stroke=\"black\" points=\"152.43,-129.15 148.93,-119.15 145.43,-129.15 152.43,-129.15\"/>\n",
       "<text text-anchor=\"middle\" x=\"195.93\" y=\"-140\" font-family=\"Helvetica,sans-Serif\" font-size=\"10.00\">op_path&#45;&gt;filename</text>\n",
       "</g>\n",
       "</g>\n",
       "</svg>\n"
      ],
      "text/plain": [
       "<razor.flow.async_pipeline.Pipeline at 0x7f60283704d0>"
      ]
     },
     "execution_count": 12,
     "metadata": {},
     "output_type": "execute_result"
    }
   ],
   "source": [
    "pipe"
   ]
  },
  {
   "cell_type": "code",
   "execution_count": 14,
   "id": "useful-simple",
   "metadata": {},
   "outputs": [
    {
     "name": "stdout",
     "output_type": "stream",
     "text": [
      "log path: /tmp/tmpktg72aix/temp\n"
     ]
    },
    {
     "data": {
      "application/vnd.razorthink.run+monitor+json": "/tmp/tmpktg72aix/temp",
      "text/plain": [
       "<razor_tools.backend.ipython.mime.run_monitor.RunMonitor at 0x7f6028223310>"
      ]
     },
     "metadata": {
      "application/vnd.razorthink.run+monitor+json": {
       "run_data": {
        "apm": [
         {
          "cpu_percent": 0,
          "cpu_time": 0,
          "name": "NonSparkPath_1",
          "real_mem": 156909568,
          "time": 1616580780.274542
         },
         {
          "cpu_percent": 0,
          "cpu_time": 0.02,
          "name": "NonSparkPath_1",
          "real_mem": 156946432,
          "time": 1616580780.3867831
         },
         {
          "cpu_percent": 0,
          "cpu_time": 0.03,
          "name": "NonSparkPath_1",
          "real_mem": 157315072,
          "time": 1616580780.4988782
         },
         {
          "cpu_percent": 0,
          "cpu_time": 0,
          "name": "ReadCsvProjectSpace_1",
          "real_mem": 157114368,
          "time": 1616580780.551381
         },
         {
          "cpu_percent": 0,
          "cpu_time": 0,
          "name": "CustMercTS_1",
          "real_mem": 157097984,
          "time": 1616580780.5302274
         },
         {
          "cpu_percent": 0,
          "cpu_time": 0.09,
          "name": "CustMercTS_1",
          "real_mem": 185962496,
          "time": 1616580780.6761067
         },
         {
          "cpu_percent": 197,
          "cpu_time": 0.18,
          "name": "ReadCsvProjectSpace_1",
          "real_mem": 196673536,
          "time": 1616580780.7197258
         },
         {
          "cpu_percent": 295.8,
          "cpu_time": 0.3,
          "name": "CustMercTS_1",
          "real_mem": 212561920,
          "time": 1616580780.8309314
         },
         {
          "cpu_percent": 0,
          "cpu_time": 0.31,
          "name": "ReadCsvProjectSpace_1",
          "real_mem": 213372928,
          "time": 1616580780.8879952
         },
         {
          "cpu_percent": 98.3,
          "cpu_time": 0.11000000000000001,
          "name": "CustMercTS_1",
          "real_mem": 179527680,
          "time": 1616580780.954407
         },
         {
          "cpu_percent": 196.5,
          "cpu_time": 0.18,
          "name": "ReadCsvProjectSpace_1",
          "real_mem": 184410112,
          "time": 1616580781.0119464
         },
         {
          "cpu_percent": 0,
          "cpu_time": 0.22999999999999998,
          "name": "CustMercTS_1",
          "real_mem": 196173824,
          "time": 1616580781.0768266
         },
         {
          "cpu_percent": 196.8,
          "cpu_time": 0.32,
          "name": "ReadCsvProjectSpace_1",
          "real_mem": 212504576,
          "time": 1616580781.1372828
         },
         {
          "cpu_percent": 197.1,
          "cpu_time": 0.39,
          "name": "CustMercTS_1",
          "real_mem": 216363008,
          "time": 1616580781.210291
         },
         {
          "cpu_percent": 98.5,
          "cpu_time": 0.46,
          "name": "ReadCsvProjectSpace_1",
          "real_mem": 222117888,
          "time": 1616580781.3096492
         },
         {
          "cpu_percent": 296.2,
          "cpu_time": 0.51,
          "name": "CustMercTS_1",
          "real_mem": 225333248,
          "time": 1616580781.3326716
         },
         {
          "cpu_percent": 98.5,
          "cpu_time": 0.5700000000000001,
          "name": "ReadCsvProjectSpace_1",
          "real_mem": 238166016,
          "time": 1616580781.432527
         },
         {
          "cpu_percent": 98.7,
          "cpu_time": 0.5900000000000001,
          "name": "CustMercTS_1",
          "real_mem": 241139712,
          "time": 1616580781.4545174
         },
         {
          "cpu_percent": 196.9,
          "cpu_time": 0.74,
          "name": "ReadCsvProjectSpace_1",
          "real_mem": 248221696,
          "time": 1616580781.6088228
         },
         {
          "cpu_percent": 197.1,
          "cpu_time": 0.79,
          "name": "CustMercTS_1",
          "real_mem": 253403136,
          "time": 1616580781.6309237
         },
         {
          "cpu_percent": 98.3,
          "cpu_time": 0.8600000000000001,
          "name": "ReadCsvProjectSpace_1",
          "real_mem": 254550016,
          "time": 1616580781.7321768
         },
         {
          "cpu_percent": 98.4,
          "cpu_time": 0.89,
          "name": "CustMercTS_1",
          "real_mem": 254939136,
          "time": 1616580781.754188
         },
         {
          "cpu_percent": 23,
          "cpu_time": 1,
          "name": "ReadCsvProjectSpace_1",
          "real_mem": 256200704,
          "time": 1616580781.888014
         },
         {
          "cpu_percent": 296.4,
          "cpu_time": 1.05,
          "name": "CustMercTS_1",
          "real_mem": 256679936,
          "time": 1616580781.9097831
         },
         {
          "cpu_percent": 197.1,
          "cpu_time": 1.1400000000000001,
          "name": "ReadCsvProjectSpace_1",
          "real_mem": 257708032,
          "time": 1616580782.0102837
         },
         {
          "cpu_percent": 196.3,
          "cpu_time": 1.1900000000000002,
          "name": "CustMercTS_1",
          "real_mem": 257941504,
          "time": 1616580782.032678
         },
         {
          "cpu_percent": 98.4,
          "cpu_time": 1.25,
          "name": "ReadCsvProjectSpace_1",
          "real_mem": 271745024,
          "time": 1616580782.1334658
         },
         {
          "cpu_percent": 197.5,
          "cpu_time": 1.28,
          "name": "CustMercTS_1",
          "real_mem": 272211968,
          "time": 1616580782.1553042
         },
         {
          "cpu_percent": 197.1,
          "cpu_time": 1.4100000000000001,
          "name": "CustMercTS_1",
          "real_mem": 279339008,
          "time": 1616580782.3093457
         },
         {
          "cpu_percent": 196.5,
          "cpu_time": 1.3800000000000001,
          "name": "ReadCsvProjectSpace_1",
          "real_mem": 278163456,
          "time": 1616580782.2559297
         },
         {
          "cpu_percent": 98.4,
          "cpu_time": 1.51,
          "name": "ReadCsvProjectSpace_1",
          "real_mem": 280674304,
          "time": 1616580782.408955
         },
         {
          "cpu_percent": 197.2,
          "cpu_time": 1.56,
          "name": "CustMercTS_1",
          "real_mem": 281112576,
          "time": 1616580782.4323077
         },
         {
          "cpu_percent": 295.4,
          "cpu_time": 1.6500000000000001,
          "name": "ReadCsvProjectSpace_1",
          "real_mem": 282329088,
          "time": 1616580782.5317566
         },
         {
          "cpu_percent": 0,
          "cpu_time": 1.6700000000000002,
          "name": "CustMercTS_1",
          "real_mem": 282759168,
          "time": 1616580782.555064
         },
         {
          "cpu_percent": 0,
          "cpu_time": 1.76,
          "name": "ReadCsvProjectSpace_1",
          "real_mem": 284246016,
          "time": 1616580782.655383
         },
         {
          "cpu_percent": 294.3,
          "cpu_time": 1.81,
          "name": "CustMercTS_1",
          "real_mem": 284905472,
          "time": 1616580782.7095106
         },
         {
          "cpu_percent": 196.4,
          "cpu_time": 1.9000000000000001,
          "name": "ReadCsvProjectSpace_1",
          "real_mem": 285523968,
          "time": 1616580782.809942
         },
         {
          "cpu_percent": 196.5,
          "cpu_time": 1.94,
          "name": "CustMercTS_1",
          "real_mem": 286064640,
          "time": 1616580782.8325548
         },
         {
          "cpu_percent": 196.5,
          "cpu_time": 2.04,
          "name": "ReadCsvProjectSpace_1",
          "real_mem": 287354880,
          "time": 1616580782.933309
         },
         {
          "cpu_percent": 0,
          "cpu_time": 2.05,
          "name": "CustMercTS_1",
          "real_mem": 287621120,
          "time": 1616580782.9555035
         },
         {
          "cpu_percent": 98.5,
          "cpu_time": 2.14,
          "name": "ReadCsvProjectSpace_1",
          "real_mem": 290209792,
          "time": 1616580783.055755
         },
         {
          "cpu_percent": 0,
          "cpu_time": 2.15,
          "name": "CustMercTS_1",
          "real_mem": 290308096,
          "time": 1616580783.0775425
         },
         {
          "cpu_percent": 0,
          "cpu_time": 2.25,
          "name": "ReadCsvProjectSpace_1",
          "real_mem": 291500032,
          "time": 1616580783.1782641
         },
         {
          "cpu_percent": 196.4,
          "cpu_time": 2.3,
          "name": "CustMercTS_1",
          "real_mem": 291774464,
          "time": 1616580783.2094083
         },
         {
          "cpu_percent": 197.4,
          "cpu_time": 2.38,
          "name": "ReadCsvProjectSpace_1",
          "real_mem": 292691968,
          "time": 1616580783.3089218
         },
         {
          "cpu_percent": 98.5,
          "cpu_time": 2.4099999999999997,
          "name": "CustMercTS_1",
          "real_mem": 292966400,
          "time": 1616580783.3324172
         },
         {
          "cpu_percent": 98.4,
          "cpu_time": 2.5,
          "name": "ReadCsvProjectSpace_1",
          "real_mem": 295247872,
          "time": 1616580783.4318838
         },
         {
          "cpu_percent": 0,
          "cpu_time": 2.5300000000000002,
          "name": "CustMercTS_1",
          "real_mem": 295383040,
          "time": 1616580783.4551446
         },
         {
          "cpu_percent": 98.6,
          "cpu_time": 2.65,
          "name": "ReadCsvProjectSpace_1",
          "real_mem": 296140800,
          "time": 1616580783.6100616
         },
         {
          "cpu_percent": 197.5,
          "cpu_time": 2.69,
          "name": "CustMercTS_1",
          "real_mem": 296493056,
          "time": 1616580783.631898
         },
         {
          "cpu_percent": 197.6,
          "cpu_time": 2.81,
          "name": "ReadCsvProjectSpace_1",
          "real_mem": 297652224,
          "time": 1616580783.7326071
         },
         {
          "cpu_percent": 197.1,
          "cpu_time": 2.84,
          "name": "CustMercTS_1",
          "real_mem": 297771008,
          "time": 1616580783.798449
         },
         {
          "cpu_percent": 289.2,
          "cpu_time": 2.96,
          "name": "ReadCsvProjectSpace_1",
          "real_mem": 298213376,
          "time": 1616580783.9092755
         },
         {
          "cpu_percent": 98.5,
          "cpu_time": 3,
          "name": "CustMercTS_1",
          "real_mem": 298266624,
          "time": 1616580783.9312778
         },
         {
          "cpu_percent": 0,
          "cpu_time": 3.09,
          "name": "ReadCsvProjectSpace_1",
          "real_mem": 299008000,
          "time": 1616580784.0321803
         },
         {
          "cpu_percent": 98.5,
          "cpu_time": 3.1500000000000004,
          "name": "CustMercTS_1",
          "real_mem": 299880448,
          "time": 1616580784.1098502
         },
         {
          "cpu_percent": 98.3,
          "cpu_time": 3.22,
          "name": "ReadCsvProjectSpace_1",
          "real_mem": 299917312,
          "time": 1616580784.2088368
         },
         {
          "cpu_percent": 290.8,
          "cpu_time": 3.2600000000000002,
          "name": "CustMercTS_1",
          "real_mem": 301789184,
          "time": 1616580784.2326221
         },
         {
          "cpu_percent": 296.5,
          "cpu_time": 3.34,
          "name": "ReadCsvProjectSpace_1",
          "real_mem": 302194688,
          "time": 1616580784.331655
         },
         {
          "cpu_percent": 98.6,
          "cpu_time": 3.39,
          "name": "CustMercTS_1",
          "real_mem": 302923776,
          "time": 1616580784.3555963
         },
         {
          "cpu_percent": 0,
          "cpu_time": 3.48,
          "name": "ReadCsvProjectSpace_1",
          "real_mem": 303939584,
          "time": 1616580784.4542503
         },
         {
          "cpu_percent": 98.4,
          "cpu_time": 3.5100000000000002,
          "name": "CustMercTS_1",
          "real_mem": 304623616,
          "time": 1616580784.509918
         },
         {
          "cpu_percent": 197,
          "cpu_time": 3.62,
          "name": "ReadCsvProjectSpace_1",
          "real_mem": 306929664,
          "time": 1616580784.6097748
         },
         {
          "cpu_percent": 196.7,
          "cpu_time": 3.68,
          "name": "CustMercTS_1",
          "real_mem": 308305920,
          "time": 1616580784.6321845
         },
         {
          "cpu_percent": 196.3,
          "cpu_time": 3.77,
          "name": "ReadCsvProjectSpace_1",
          "real_mem": 309223424,
          "time": 1616580784.7322445
         },
         {
          "cpu_percent": 98.5,
          "cpu_time": 3.91,
          "name": "CustMercTS_1",
          "real_mem": 308178944,
          "time": 1616580784.910785
         },
         {
          "cpu_percent": 97.9,
          "cpu_time": 3.98,
          "name": "ReadCsvProjectSpace_1",
          "real_mem": 309358592,
          "time": 1616580785.0109785
         },
         {
          "cpu_percent": 197.1,
          "cpu_time": 4.19,
          "name": "CustMercTS_1",
          "real_mem": 312442880,
          "time": 1616580785.2093692
         },
         {
          "cpu_percent": 98.6,
          "cpu_time": 4.28,
          "name": "ReadCsvProjectSpace_1",
          "real_mem": 313561088,
          "time": 1616580785.3086166
         },
         {
          "cpu_percent": 290.2,
          "cpu_time": 4.51,
          "name": "CustMercTS_1",
          "real_mem": 317235200,
          "time": 1616580785.510184
         },
         {
          "cpu_percent": 98.5,
          "cpu_time": 4.58,
          "name": "ReadCsvProjectSpace_1",
          "real_mem": 317616128,
          "time": 1616580785.6085625
         },
         {
          "cpu_percent": 196.9,
          "cpu_time": 4.79,
          "name": "CustMercTS_1",
          "real_mem": 320937984,
          "time": 1616580785.8093328
         },
         {
          "cpu_percent": 197.2,
          "cpu_time": 4.89,
          "name": "ReadCsvProjectSpace_1",
          "real_mem": 321703936,
          "time": 1616580785.9086547
         },
         {
          "cpu_percent": 97.2,
          "cpu_time": 5.06,
          "name": "CustMercTS_1",
          "real_mem": 324108288,
          "time": 1616580786.1095552
         },
         {
          "cpu_percent": 98.4,
          "cpu_time": 5.17,
          "name": "ReadCsvProjectSpace_1",
          "real_mem": 325423104,
          "time": 1616580786.2090914
         },
         {
          "cpu_percent": 295.8,
          "cpu_time": 5.37,
          "name": "CustMercTS_1",
          "real_mem": 326758400,
          "time": 1616580786.408966
         },
         {
          "cpu_percent": 98.3,
          "cpu_time": 5.4399999999999995,
          "name": "ReadCsvProjectSpace_1",
          "real_mem": 335298560,
          "time": 1616580786.5095375
         },
         {
          "cpu_percent": 294.9,
          "cpu_time": 5.68,
          "name": "CustMercTS_1",
          "real_mem": 342581248,
          "time": 1616580786.7092414
         },
         {
          "cpu_percent": 196.9,
          "cpu_time": 5.760000000000001,
          "name": "ReadCsvProjectSpace_1",
          "real_mem": 343658496,
          "time": 1616580786.808765
         },
         {
          "cpu_percent": 196.8,
          "cpu_time": 5.95,
          "name": "CustMercTS_1",
          "real_mem": 347578368,
          "time": 1616580787.0088408
         },
         {
          "cpu_percent": 196.3,
          "cpu_time": 6.0600000000000005,
          "name": "ReadCsvProjectSpace_1",
          "real_mem": 350572544,
          "time": 1616580787.1086504
         },
         {
          "cpu_percent": 98.5,
          "cpu_time": 6.24,
          "name": "CustMercTS_1",
          "real_mem": 363421696,
          "time": 1616580787.3086238
         },
         {
          "cpu_percent": 393.8,
          "cpu_time": 6.36,
          "name": "ReadCsvProjectSpace_1",
          "real_mem": 364802048,
          "time": 1616580787.4090009
         },
         {
          "cpu_percent": 296.3,
          "cpu_time": 6.53,
          "name": "CustMercTS_1",
          "real_mem": 370843648,
          "time": 1616580787.6091766
         },
         {
          "cpu_percent": 197,
          "cpu_time": 6.63,
          "name": "ReadCsvProjectSpace_1",
          "real_mem": 374046720,
          "time": 1616580787.7086287
         },
         {
          "cpu_percent": 196.9,
          "cpu_time": 6.83,
          "name": "CustMercTS_1",
          "real_mem": 379101184,
          "time": 1616580787.908776
         },
         {
          "cpu_percent": 197,
          "cpu_time": 6.92,
          "name": "ReadCsvProjectSpace_1",
          "real_mem": 380915712,
          "time": 1616580788.0094385
         },
         {
          "cpu_percent": 98.4,
          "cpu_time": 7.1,
          "name": "CustMercTS_1",
          "real_mem": 384118784,
          "time": 1616580788.2089097
         },
         {
          "cpu_percent": 295.2,
          "cpu_time": 7.22,
          "name": "ReadCsvProjectSpace_1",
          "real_mem": 384638976,
          "time": 1616580788.3087804
         },
         {
          "cpu_percent": 196.5,
          "cpu_time": 7.41,
          "name": "CustMercTS_1",
          "real_mem": 386592768,
          "time": 1616580788.5088518
         },
         {
          "cpu_percent": 292.8,
          "cpu_time": 7.51,
          "name": "ReadCsvProjectSpace_1",
          "real_mem": 387710976,
          "time": 1616580788.60885
         },
         {
          "cpu_percent": 197.2,
          "cpu_time": 7.68,
          "name": "CustMercTS_1",
          "real_mem": 390504448,
          "time": 1616580788.8085814
         },
         {
          "cpu_percent": 196.8,
          "cpu_time": 7.789999999999999,
          "name": "ReadCsvProjectSpace_1",
          "real_mem": 391266304,
          "time": 1616580788.9095128
         },
         {
          "cpu_percent": 196.7,
          "cpu_time": 7.970000000000001,
          "name": "CustMercTS_1",
          "real_mem": 396083200,
          "time": 1616580789.1094592
         },
         {
          "cpu_percent": 294.2,
          "cpu_time": 8.08,
          "name": "ReadCsvProjectSpace_1",
          "real_mem": 395309056,
          "time": 1616580789.209216
         },
         {
          "cpu_percent": 294.9,
          "cpu_time": 8.27,
          "name": "CustMercTS_1",
          "real_mem": 400408576,
          "time": 1616580789.4099684
         },
         {
          "cpu_percent": 294.6,
          "cpu_time": 8.35,
          "name": "ReadCsvProjectSpace_1",
          "real_mem": 401010688,
          "time": 1616580789.4988327
         },
         {
          "cpu_percent": 196.3,
          "cpu_time": 8.559999999999999,
          "name": "CustMercTS_1",
          "real_mem": 403767296,
          "time": 1616580789.7093081
         },
         {
          "cpu_percent": 197.1,
          "cpu_time": 8.649999999999999,
          "name": "ReadCsvProjectSpace_1",
          "real_mem": 404291584,
          "time": 1616580789.8088477
         },
         {
          "cpu_percent": 215.5,
          "cpu_time": 8.850000000000001,
          "name": "CustMercTS_1",
          "real_mem": 405385216,
          "time": 1616580790.0169137
         },
         {
          "cpu_percent": 295.6,
          "cpu_time": 8.940000000000001,
          "name": "ReadCsvProjectSpace_1",
          "real_mem": 408461312,
          "time": 1616580790.1098475
         },
         {
          "cpu_percent": 98.5,
          "cpu_time": 9.120000000000001,
          "name": "CustMercTS_1",
          "real_mem": 412938240,
          "time": 1616580790.308914
         },
         {
          "cpu_percent": 196.9,
          "cpu_time": 9.21,
          "name": "ReadCsvProjectSpace_1",
          "real_mem": 410652672,
          "time": 1616580790.4090252
         },
         {
          "cpu_percent": 393.2,
          "cpu_time": 9.41,
          "name": "CustMercTS_1",
          "real_mem": 412291072,
          "time": 1616580790.6097527
         },
         {
          "cpu_percent": 197,
          "cpu_time": 9.49,
          "name": "ReadCsvProjectSpace_1",
          "real_mem": 413036544,
          "time": 1616580790.7090101
         },
         {
          "cpu_percent": 98.6,
          "cpu_time": 9.65,
          "name": "CustMercTS_1",
          "real_mem": 415186944,
          "time": 1616580790.908912
         },
         {
          "cpu_percent": 98,
          "cpu_time": 9.77,
          "name": "ReadCsvProjectSpace_1",
          "real_mem": 417501184,
          "time": 1616580791.0110574
         },
         {
          "cpu_percent": 98.3,
          "cpu_time": 9.96,
          "name": "CustMercTS_1",
          "real_mem": 418217984,
          "time": 1616580791.209671
         },
         {
          "cpu_percent": 295.9,
          "cpu_time": 10.08,
          "name": "ReadCsvProjectSpace_1",
          "real_mem": 419307520,
          "time": 1616580791.3094919
         },
         {
          "cpu_percent": 295.5,
          "cpu_time": 10.27,
          "name": "CustMercTS_1",
          "real_mem": 420753408,
          "time": 1616580791.5089607
         },
         {
          "cpu_percent": 98.5,
          "cpu_time": 10.35,
          "name": "ReadCsvProjectSpace_1",
          "real_mem": 422191104,
          "time": 1616580791.6094751
         },
         {
          "cpu_percent": 98.5,
          "cpu_time": 10.55,
          "name": "CustMercTS_1",
          "real_mem": 424960000,
          "time": 1616580791.809358
         },
         {
          "cpu_percent": 98.6,
          "cpu_time": 10.65,
          "name": "ReadCsvProjectSpace_1",
          "real_mem": 425914368,
          "time": 1616580791.9088247
         },
         {
          "cpu_percent": 98.7,
          "cpu_time": 10.799999999999999,
          "name": "CustMercTS_1",
          "real_mem": 427687936,
          "time": 1616580792.0824225
         },
         {
          "cpu_percent": 0,
          "cpu_time": 10.889999999999999,
          "name": "ReadCsvProjectSpace_1",
          "real_mem": 428867584,
          "time": 1616580792.1824162
         },
         {
          "cpu_percent": 196.4,
          "cpu_time": 11.11,
          "name": "CustMercTS_1",
          "real_mem": 430112768,
          "time": 1616580792.398795
         },
         {
          "cpu_percent": 0,
          "cpu_time": 11.19,
          "name": "ReadCsvProjectSpace_1",
          "real_mem": 430428160,
          "time": 1616580792.455122
         },
         {
          "cpu_percent": 295.2,
          "cpu_time": 11.42,
          "name": "CustMercTS_1",
          "real_mem": 431960064,
          "time": 1616580792.70892
         },
         {
          "cpu_percent": 0,
          "cpu_time": 11.45,
          "name": "ReadCsvProjectSpace_1",
          "real_mem": 432529408,
          "time": 1616580792.7309303
         },
         {
          "cpu_percent": 97.7,
          "cpu_time": 11.7,
          "name": "CustMercTS_1",
          "real_mem": 434057216,
          "time": 1616580793.0089777
         },
         {
          "cpu_percent": 196.3,
          "cpu_time": 11.74,
          "name": "ReadCsvProjectSpace_1",
          "real_mem": 434171904,
          "time": 1616580793.0308518
         },
         {
          "cpu_percent": 294.8,
          "cpu_time": 12.309999999999999,
          "name": "ReadCsvProjectSpace_1",
          "real_mem": 437252096,
          "time": 1616580793.6109014
         },
         {
          "cpu_percent": 144.8,
          "cpu_time": 12.26,
          "name": "CustMercTS_1",
          "real_mem": 437137408,
          "time": 1616580793.5882227
         },
         {
          "cpu_percent": 296.1,
          "cpu_time": 12.79,
          "name": "CustMercTS_1",
          "real_mem": 440381440,
          "time": 1616580794.1116362
         },
         {
          "cpu_percent": 15.5,
          "cpu_time": 12.840000000000002,
          "name": "ReadCsvProjectSpace_1",
          "real_mem": 440586240,
          "time": 1616580794.187951
         },
         {
          "cpu_percent": 98.3,
          "cpu_time": 13.290000000000001,
          "name": "CustMercTS_1",
          "real_mem": 443609088,
          "time": 1616580794.6349497
         },
         {
          "cpu_percent": 98.3,
          "cpu_time": 13.33,
          "name": "ReadCsvProjectSpace_1",
          "real_mem": 443609088,
          "time": 1616580794.7104645
         },
         {
          "cpu_percent": 196.8,
          "cpu_time": 13.790000000000001,
          "name": "CustMercTS_1",
          "real_mem": 447037440,
          "time": 1616580795.1584034
         },
         {
          "cpu_percent": 98.4,
          "cpu_time": 13.83,
          "name": "ReadCsvProjectSpace_1",
          "real_mem": 448864256,
          "time": 1616580795.2337794
         },
         {
          "cpu_percent": 197.1,
          "cpu_time": 14.33,
          "name": "CustMercTS_1",
          "real_mem": 453144576,
          "time": 1616580795.709056
         },
         {
          "cpu_percent": 195.4,
          "cpu_time": 14.42,
          "name": "ReadCsvProjectSpace_1",
          "real_mem": 453763072,
          "time": 1616580795.809861
         },
         {
          "cpu_percent": 197.1,
          "cpu_time": 14.84,
          "name": "CustMercTS_1",
          "real_mem": 455667712,
          "time": 1616580796.2315917
         },
         {
          "cpu_percent": 98.5,
          "cpu_time": 14.93,
          "name": "ReadCsvProjectSpace_1",
          "real_mem": 456957952,
          "time": 1616580796.3319867
         },
         {
          "cpu_percent": 98.7,
          "cpu_time": 15.360000000000001,
          "name": "CustMercTS_1",
          "real_mem": 460124160,
          "time": 1616580796.8088124
         },
         {
          "cpu_percent": 0,
          "cpu_time": 15.44,
          "name": "ReadCsvProjectSpace_1",
          "real_mem": 460414976,
          "time": 1616580796.8543303
         },
         {
          "cpu_percent": 296.1,
          "cpu_time": 15.93,
          "name": "CustMercTS_1",
          "real_mem": 467636224,
          "time": 1616580797.3326771
         },
         {
          "cpu_percent": 295.1,
          "cpu_time": 15.99,
          "name": "ReadCsvProjectSpace_1",
          "real_mem": 467636224,
          "time": 1616580797.4095984
         },
         {
          "cpu_percent": 196.7,
          "cpu_time": 16.47,
          "name": "CustMercTS_1",
          "real_mem": 472420352,
          "time": 1616580797.9095922
         },
         {
          "cpu_percent": 98.5,
          "cpu_time": 16.51,
          "name": "ReadCsvProjectSpace_1",
          "real_mem": 472989696,
          "time": 1616580797.9315753
         },
         {
          "cpu_percent": 196.6,
          "cpu_time": 17,
          "name": "CustMercTS_1",
          "real_mem": 478863360,
          "time": 1616580798.433617
         },
         {
          "cpu_percent": 196.5,
          "cpu_time": 17.04,
          "name": "ReadCsvProjectSpace_1",
          "real_mem": 478863360,
          "time": 1616580798.5090108
         },
         {
          "cpu_percent": 196.6,
          "cpu_time": 17.520000000000003,
          "name": "CustMercTS_1",
          "real_mem": 481198080,
          "time": 1616580799.0089
         },
         {
          "cpu_percent": 39,
          "cpu_time": 17.580000000000002,
          "name": "ReadCsvProjectSpace_1",
          "real_mem": 481198080,
          "time": 1616580799.098174
         },
         {
          "cpu_percent": 0,
          "cpu_time": 18.040000000000003,
          "name": "CustMercTS_1",
          "real_mem": 482336768,
          "time": 1616580799.533394
         },
         {
          "cpu_percent": 197.3,
          "cpu_time": 18.110000000000003,
          "name": "ReadCsvProjectSpace_1",
          "real_mem": 483794944,
          "time": 1616580799.6208456
         },
         {
          "cpu_percent": 295.7,
          "cpu_time": 18.57,
          "name": "CustMercTS_1",
          "real_mem": 490192896,
          "time": 1616580800.1094527
         },
         {
          "cpu_percent": 194.5,
          "cpu_time": 19.080000000000002,
          "name": "CustMercTS_1",
          "real_mem": 498085888,
          "time": 1616580800.6326718
         },
         {
          "cpu_percent": 193.4,
          "cpu_time": 19.6,
          "name": "CustMercTS_1",
          "real_mem": 501878784,
          "time": 1616580801.2111127
         },
         {
          "cpu_percent": 196.6,
          "cpu_time": 20.14,
          "name": "CustMercTS_1",
          "real_mem": 503091200,
          "time": 1616580801.7358124
         },
         {
          "cpu_percent": 193.6,
          "cpu_time": 20.68,
          "name": "CustMercTS_1",
          "real_mem": 507125760,
          "time": 1616580802.3092923
         },
         {
          "cpu_percent": 15.3,
          "cpu_time": 21.21,
          "name": "CustMercTS_1",
          "real_mem": 509005824,
          "time": 1616580802.888462
         },
         {
          "cpu_percent": 197,
          "cpu_time": 21.75,
          "name": "CustMercTS_1",
          "real_mem": 509652992,
          "time": 1616580803.4131346
         },
         {
          "cpu_percent": 0,
          "cpu_time": 22.27,
          "name": "CustMercTS_1",
          "real_mem": 511737856,
          "time": 1616580803.9361787
         },
         {
          "cpu_percent": 98.4,
          "cpu_time": 23.24,
          "name": "CustMercTS_1",
          "real_mem": 514617344,
          "time": 1616580804.9593978
         },
         {
          "cpu_percent": 295.7,
          "cpu_time": 24.28,
          "name": "CustMercTS_1",
          "real_mem": 515661824,
          "time": 1616580806.009593
         },
         {
          "cpu_percent": 98.3,
          "cpu_time": 25.290000000000003,
          "name": "CustMercTS_1",
          "real_mem": 524812288,
          "time": 1616580807.0335896
         },
         {
          "cpu_percent": 98.3,
          "cpu_time": 26.23,
          "name": "CustMercTS_1",
          "real_mem": 561188864,
          "time": 1616580808.057369
         },
         {
          "cpu_percent": 294,
          "cpu_time": 27.290000000000003,
          "name": "CustMercTS_1",
          "real_mem": 578482176,
          "time": 1616580809.109378
         },
         {
          "cpu_percent": 98.3,
          "cpu_time": 28.28,
          "name": "CustMercTS_1",
          "real_mem": 610816000,
          "time": 1616580810.1432886
         },
         {
          "cpu_percent": 295.6,
          "cpu_time": 29.29,
          "name": "CustMercTS_1",
          "real_mem": 690085888,
          "time": 1616580811.3093138
         },
         {
          "cpu_percent": 98.7,
          "cpu_time": 30.4,
          "name": "CustMercTS_1",
          "real_mem": 723537920,
          "time": 1616580812.3884714
         },
         {
          "cpu_percent": 295.2,
          "cpu_time": 31.439999999999998,
          "name": "CustMercTS_1",
          "real_mem": 725803008,
          "time": 1616580813.44439
         },
         {
          "cpu_percent": 196.9,
          "cpu_time": 32.52,
          "name": "CustMercTS_1",
          "real_mem": 727666688,
          "time": 1616580814.5423565
         },
         {
          "cpu_percent": 294.5,
          "cpu_time": 33.61,
          "name": "CustMercTS_1",
          "real_mem": 730230784,
          "time": 1616580815.688356
         },
         {
          "cpu_percent": 295.6,
          "cpu_time": 34.260000000000005,
          "name": "CustMercTS_1",
          "real_mem": 732831744,
          "time": 1616580816.7432563
         },
         {
          "cpu_percent": 98.1,
          "cpu_time": 35.29,
          "name": "CustMercTS_1",
          "real_mem": 736841728,
          "time": 1616580817.8404071
         },
         {
          "cpu_percent": 196,
          "cpu_time": 36.36000000000001,
          "name": "CustMercTS_1",
          "real_mem": 743092224,
          "time": 1616580818.9418752
         },
         {
          "cpu_percent": 98.4,
          "cpu_time": 37.370000000000005,
          "name": "CustMercTS_1",
          "real_mem": 746987520,
          "time": 1616580820.0093532
         },
         {
          "cpu_percent": 295.4,
          "cpu_time": 38.54,
          "name": "CustMercTS_1",
          "real_mem": 750096384,
          "time": 1616580821.1988003
         },
         {
          "cpu_percent": 0,
          "cpu_time": 39.53,
          "name": "CustMercTS_1",
          "real_mem": 790052864,
          "time": 1616580822.288168
         },
         {
          "cpu_percent": 98.2,
          "cpu_time": 40.629999999999995,
          "name": "CustMercTS_1",
          "real_mem": 818032640,
          "time": 1616580823.3427536
         }
        ],
        "logs": [
         {
          "asctime": "2021-03-24 10:13:00,258",
          "created": 1616580780.2583718,
          "extra": {},
          "filename": "async_executors.py",
          "funcName": "main",
          "levelname": "DEBUG",
          "lineno": 114,
          "message": "NonSparkPath_1: started async block execution\n",
          "name": "engine.logs:NonSparkPath_1",
          "pathname": "/usr/local/lib/python3.7/dist-packages/razor/flow/async_executors.py",
          "process": 6734,
          "processName": "ForkProcess-2:1",
          "thread": 140053220955968,
          "threadName": "MainThread"
         },
         {
          "asctime": "2021-03-24 10:13:00,274",
          "created": 1616580780.2747235,
          "extra": {},
          "filename": "async_executors.py",
          "funcName": "fill_atomic_inputs",
          "levelname": "INFO",
          "lineno": 250,
          "message": "NonSparkPath_1: waiting for atomic input: ip_path",
          "name": "engine.logs:NonSparkPath_1",
          "pathname": "/usr/local/lib/python3.7/dist-packages/razor/flow/async_executors.py",
          "process": 6734,
          "processName": "ForkProcess-2:1",
          "thread": 140053220955968,
          "threadName": "MainThread"
         },
         {
          "asctime": "2021-03-24 10:13:00,274",
          "created": 1616580780.2748847,
          "extra": {},
          "filename": "async_executors.py",
          "funcName": "fill_atomic_inputs",
          "levelname": "DEBUG",
          "lineno": 253,
          "message": "NonSparkPath_1: got atomic input: customer_data.csv",
          "name": "engine.logs:NonSparkPath_1",
          "pathname": "/usr/local/lib/python3.7/dist-packages/razor/flow/async_executors.py",
          "process": 6734,
          "processName": "ForkProcess-2:1",
          "thread": 140053220955968,
          "threadName": "MainThread"
         },
         {
          "asctime": "2021-03-24 10:13:00,274",
          "created": 1616580780.2749872,
          "extra": {},
          "filename": "async_executors.py",
          "funcName": "main",
          "levelname": "DEBUG",
          "lineno": 130,
          "message": "NonSparkPath_1: triggering block run",
          "name": "engine.logs:NonSparkPath_1",
          "pathname": "/usr/local/lib/python3.7/dist-packages/razor/flow/async_executors.py",
          "process": 6734,
          "processName": "ForkProcess-2:1",
          "thread": 140053220955968,
          "threadName": "MainThread"
         },
         {
          "asctime": "2021-03-24 10:13:00,499",
          "created": 1616580780.4990878,
          "extra": {},
          "filename": "async_executors.py",
          "funcName": "distribute_output_queue",
          "levelname": "DEBUG",
          "lineno": 308,
          "message": "NonSparkPath_1: ---- dist output: /home/aios/projectspace/customer_data.csv -> ('ReadCsvProjectSpace_1', 'filename')",
          "name": "engine.logs:NonSparkPath_1",
          "pathname": "/usr/local/lib/python3.7/dist-packages/razor/flow/async_executors.py",
          "process": 6734,
          "processName": "ForkProcess-2:1",
          "thread": 140053220955968,
          "threadName": "MainThread"
         },
         {
          "asctime": "2021-03-24 10:13:00,499",
          "created": 1616580780.4993868,
          "extra": {},
          "filename": "async_executors.py",
          "funcName": "main",
          "levelname": "DEBUG",
          "lineno": 147,
          "message": "NonSparkPath_1: block thread completed",
          "name": "engine.logs:NonSparkPath_1",
          "pathname": "/usr/local/lib/python3.7/dist-packages/razor/flow/async_executors.py",
          "process": 6734,
          "processName": "ForkProcess-2:1",
          "thread": 140053220955968,
          "threadName": "MainThread"
         },
         {
          "asctime": "2021-03-24 10:13:00,499",
          "created": 1616580780.4994657,
          "extra": {},
          "filename": "async_executors.py",
          "funcName": "main",
          "levelname": "DEBUG",
          "lineno": 149,
          "message": "NonSparkPath_1: block execution complete",
          "name": "engine.logs:NonSparkPath_1",
          "pathname": "/usr/local/lib/python3.7/dist-packages/razor/flow/async_executors.py",
          "process": 6734,
          "processName": "ForkProcess-2:1",
          "thread": 140053220955968,
          "threadName": "MainThread"
         },
         {
          "asctime": "2021-03-24 10:13:00,499",
          "created": 1616580780.4995794,
          "extra": {},
          "filename": "async_executors.py",
          "funcName": "distribute_output_queue",
          "levelname": "DEBUG",
          "lineno": 308,
          "message": "NonSparkPath_1: ---- dist output: b'__!\\tEndOfStream\\t!__' -> ('ReadCsvProjectSpace_1', 'filename')",
          "name": "engine.logs:NonSparkPath_1",
          "pathname": "/usr/local/lib/python3.7/dist-packages/razor/flow/async_executors.py",
          "process": 6734,
          "processName": "ForkProcess-2:1",
          "thread": 140053220955968,
          "threadName": "MainThread"
         },
         {
          "asctime": "2021-03-24 10:13:00,513",
          "created": 1616580780.5136266,
          "extra": {},
          "filename": "async_executors.py",
          "funcName": "main",
          "levelname": "DEBUG",
          "lineno": 114,
          "message": "CustMercTS_1: started async block execution\n",
          "name": "engine.logs:CustMercTS_1",
          "pathname": "/usr/local/lib/python3.7/dist-packages/razor/flow/async_executors.py",
          "process": 6742,
          "processName": "ForkProcess-2:2",
          "thread": 140053220955968,
          "threadName": "MainThread"
         },
         {
          "asctime": "2021-03-24 10:13:00,515",
          "created": 1616580780.5154562,
          "extra": {},
          "filename": "async_executors.py",
          "funcName": "main",
          "levelname": "DEBUG",
          "lineno": 114,
          "message": "ReadCsvProjectSpace_1: started async block execution\n",
          "name": "engine.logs:ReadCsvProjectSpace_1",
          "pathname": "/usr/local/lib/python3.7/dist-packages/razor/flow/async_executors.py",
          "process": 6742,
          "processName": "ForkProcess-2:2",
          "thread": 140053220955968,
          "threadName": "MainThread"
         },
         {
          "asctime": "2021-03-24 10:13:00,551",
          "created": 1616580780.5515065,
          "extra": {},
          "filename": "async_executors.py",
          "funcName": "fill_atomic_inputs",
          "levelname": "INFO",
          "lineno": 250,
          "message": "ReadCsvProjectSpace_1: waiting for atomic input: filename",
          "name": "engine.logs:ReadCsvProjectSpace_1",
          "pathname": "/usr/local/lib/python3.7/dist-packages/razor/flow/async_executors.py",
          "process": 6742,
          "processName": "ForkProcess-2:2",
          "thread": 140053220955968,
          "threadName": "MainThread"
         },
         {
          "asctime": "2021-03-24 10:13:00,556",
          "created": 1616580780.5560894,
          "extra": {},
          "filename": "async_executors.py",
          "funcName": "start_input_receiver",
          "levelname": "DEBUG",
          "lineno": 173,
          "message": "NonSparkPath_1: received cmd: start_sender, (), {'out_name': 'op_path', 'target': ('ReadCsvProjectSpace_1', 'filename'), 'out_addr': 'tcp://0.0.0.0:60558', 'in_memory': None}",
          "name": "engine.logs:NonSparkPath_1",
          "pathname": "/usr/local/lib/python3.7/dist-packages/razor/flow/async_executors.py",
          "process": 6734,
          "processName": "ForkProcess-2:1",
          "thread": 140053220955968,
          "threadName": "MainThread"
         },
         {
          "asctime": "2021-03-24 10:13:00,530",
          "created": 1616580780.5304313,
          "extra": {},
          "filename": "async_executors.py",
          "funcName": "fill_atomic_inputs",
          "levelname": "INFO",
          "lineno": 250,
          "message": "CustMercTS_1: waiting for atomic input: ip_data",
          "name": "engine.logs:CustMercTS_1",
          "pathname": "/usr/local/lib/python3.7/dist-packages/razor/flow/async_executors.py",
          "process": 6742,
          "processName": "ForkProcess-2:2",
          "thread": 140053220955968,
          "threadName": "MainThread"
         },
         {
          "asctime": "2021-03-24 10:13:00,556",
          "created": 1616580780.5563672,
          "extra": {},
          "filename": "async_executors.py",
          "funcName": "start_output_sender",
          "levelname": "DEBUG",
          "lineno": 370,
          "message": "NonSparkPath_1: got start_sender, op_path, ('ReadCsvProjectSpace_1', 'filename')",
          "name": "engine.logs:NonSparkPath_1",
          "pathname": "/usr/local/lib/python3.7/dist-packages/razor/flow/async_executors.py",
          "process": 6734,
          "processName": "ForkProcess-2:1",
          "thread": 140053220955968,
          "threadName": "MainThread"
         },
         {
          "asctime": "2021-03-24 10:13:00,557",
          "created": 1616580780.5570238,
          "extra": {},
          "filename": "async_executors.py",
          "funcName": "start_output_sender",
          "levelname": "DEBUG",
          "lineno": 388,
          "message": "NonSparkPath_1: SENT, filename, /home/aios/projectspace/customer_data.csv, ('ReadCsvProjectSpace_1', 'filename')",
          "name": "engine.logs:NonSparkPath_1",
          "pathname": "/usr/local/lib/python3.7/dist-packages/razor/flow/async_executors.py",
          "process": 6734,
          "processName": "ForkProcess-2:1",
          "thread": 140053220955968,
          "threadName": "MainThread"
         },
         {
          "asctime": "2021-03-24 10:13:00,557",
          "created": 1616580780.5572262,
          "extra": {},
          "filename": "async_executors.py",
          "funcName": "start_output_sender",
          "levelname": "DEBUG",
          "lineno": 388,
          "message": "NonSparkPath_1: SENT, filename, b'__!\\tEndOfStream\\t!__', ('ReadCsvProjectSpace_1', 'filename')",
          "name": "engine.logs:NonSparkPath_1",
          "pathname": "/usr/local/lib/python3.7/dist-packages/razor/flow/async_executors.py",
          "process": 6734,
          "processName": "ForkProcess-2:1",
          "thread": 140053220955968,
          "threadName": "MainThread"
         },
         {
          "asctime": "2021-03-24 10:13:00,557",
          "created": 1616580780.557452,
          "extra": {},
          "filename": "async_executors.py",
          "funcName": "start_output_sender",
          "levelname": "DEBUG",
          "lineno": 391,
          "message": "NonSparkPath_1: completed output: ('op_path', ('ReadCsvProjectSpace_1', 'filename'))",
          "name": "engine.logs:NonSparkPath_1",
          "pathname": "/usr/local/lib/python3.7/dist-packages/razor/flow/async_executors.py",
          "process": 6734,
          "processName": "ForkProcess-2:1",
          "thread": 140053220955968,
          "threadName": "MainThread"
         },
         {
          "asctime": "2021-03-24 10:13:00,557",
          "created": 1616580780.5579019,
          "extra": {},
          "filename": "async_executors.py",
          "funcName": "start_input_receiver",
          "levelname": "DEBUG",
          "lineno": 177,
          "message": "ReadCsvProjectSpace_1: received data: filename, /home/aios/projectspace/customer_data.csv",
          "name": "engine.logs:ReadCsvProjectSpace_1",
          "pathname": "/usr/local/lib/python3.7/dist-packages/razor/flow/async_executors.py",
          "process": 6742,
          "processName": "ForkProcess-2:2",
          "thread": 140053220955968,
          "threadName": "MainThread"
         },
         {
          "asctime": "2021-03-24 10:13:00,558",
          "created": 1616580780.5584571,
          "extra": {},
          "filename": "async_executors.py",
          "funcName": "start_input_receiver",
          "levelname": "DEBUG",
          "lineno": 177,
          "message": "ReadCsvProjectSpace_1: received data: filename, b'__!\\tEndOfStream\\t!__'",
          "name": "engine.logs:ReadCsvProjectSpace_1",
          "pathname": "/usr/local/lib/python3.7/dist-packages/razor/flow/async_executors.py",
          "process": 6742,
          "processName": "ForkProcess-2:2",
          "thread": 140053220955968,
          "threadName": "MainThread"
         },
         {
          "asctime": "2021-03-24 10:13:00,558",
          "created": 1616580780.5586133,
          "extra": {},
          "filename": "async_executors.py",
          "funcName": "fill_atomic_inputs",
          "levelname": "DEBUG",
          "lineno": 253,
          "message": "ReadCsvProjectSpace_1: got atomic input: /home/aios/projectspace/customer_data.csv",
          "name": "engine.logs:ReadCsvProjectSpace_1",
          "pathname": "/usr/local/lib/python3.7/dist-packages/razor/flow/async_executors.py",
          "process": 6742,
          "processName": "ForkProcess-2:2",
          "thread": 140053220955968,
          "threadName": "MainThread"
         },
         {
          "asctime": "2021-03-24 10:13:00,561",
          "created": 1616580780.561554,
          "extra": {},
          "filename": "async_executors.py",
          "funcName": "start_input_receiver",
          "levelname": "DEBUG",
          "lineno": 173,
          "message": "NonSparkPath_1: received cmd: terminate, (), {}",
          "name": "engine.logs:NonSparkPath_1",
          "pathname": "/usr/local/lib/python3.7/dist-packages/razor/flow/async_executors.py",
          "process": 6734,
          "processName": "ForkProcess-2:1",
          "thread": 140053220955968,
          "threadName": "MainThread"
         },
         {
          "asctime": "2021-03-24 10:13:00,558",
          "created": 1616580780.558674,
          "extra": {},
          "filename": "async_executors.py",
          "funcName": "fill_atomic_inputs",
          "levelname": "INFO",
          "lineno": 250,
          "message": "ReadCsvProjectSpace_1: waiting for atomic input: config",
          "name": "engine.logs:ReadCsvProjectSpace_1",
          "pathname": "/usr/local/lib/python3.7/dist-packages/razor/flow/async_executors.py",
          "process": 6742,
          "processName": "ForkProcess-2:2",
          "thread": 140053220955968,
          "threadName": "MainThread"
         },
         {
          "asctime": "2021-03-24 10:13:00,558",
          "created": 1616580780.5587249,
          "extra": {},
          "filename": "async_executors.py",
          "funcName": "fill_atomic_inputs",
          "levelname": "DEBUG",
          "lineno": 253,
          "message": "ReadCsvProjectSpace_1: got atomic input: {}",
          "name": "engine.logs:ReadCsvProjectSpace_1",
          "pathname": "/usr/local/lib/python3.7/dist-packages/razor/flow/async_executors.py",
          "process": 6742,
          "processName": "ForkProcess-2:2",
          "thread": 140053220955968,
          "threadName": "MainThread"
         },
         {
          "asctime": "2021-03-24 10:13:00,558",
          "created": 1616580780.5587614,
          "extra": {},
          "filename": "async_executors.py",
          "funcName": "fill_atomic_inputs",
          "levelname": "INFO",
          "lineno": 250,
          "message": "ReadCsvProjectSpace_1: waiting for atomic input: source",
          "name": "engine.logs:ReadCsvProjectSpace_1",
          "pathname": "/usr/local/lib/python3.7/dist-packages/razor/flow/async_executors.py",
          "process": 6742,
          "processName": "ForkProcess-2:2",
          "thread": 140053220955968,
          "threadName": "MainThread"
         },
         {
          "asctime": "2021-03-24 10:13:00,558",
          "created": 1616580780.5588052,
          "extra": {},
          "filename": "async_executors.py",
          "funcName": "fill_atomic_inputs",
          "levelname": "DEBUG",
          "lineno": 253,
          "message": "ReadCsvProjectSpace_1: got atomic input: ",
          "name": "engine.logs:ReadCsvProjectSpace_1",
          "pathname": "/usr/local/lib/python3.7/dist-packages/razor/flow/async_executors.py",
          "process": 6742,
          "processName": "ForkProcess-2:2",
          "thread": 140053220955968,
          "threadName": "MainThread"
         },
         {
          "asctime": "2021-03-24 10:13:00,558",
          "created": 1616580780.5588443,
          "extra": {},
          "filename": "async_executors.py",
          "funcName": "main",
          "levelname": "DEBUG",
          "lineno": 130,
          "message": "ReadCsvProjectSpace_1: triggering block run",
          "name": "engine.logs:ReadCsvProjectSpace_1",
          "pathname": "/usr/local/lib/python3.7/dist-packages/razor/flow/async_executors.py",
          "process": 6742,
          "processName": "ForkProcess-2:2",
          "thread": 140053220955968,
          "threadName": "MainThread"
         },
         {
          "asctime": "2021-03-24 10:13:19,719",
          "created": 1616580799.7193944,
          "exc_info": null,
          "extra": {},
          "filename": null,
          "full_message": null,
          "funcName": null,
          "levelname": "STDOUT",
          "lineno": null,
          "message": "Hello\n",
          "name": "block.stdout:ReadCsvProjectSpace_1",
          "pathname": null,
          "process": null,
          "processName": null,
          "thread": null,
          "threadName": null
         },
         {
          "asctime": "2021-03-24 10:13:19,799",
          "created": 1616580799.799996,
          "exc_info": null,
          "extra": {},
          "filename": null,
          "full_message": null,
          "funcName": null,
          "levelname": "STDOUT",
          "lineno": null,
          "message": "root\n |-- transaction_id: string (nullable = true)\n |-- time: string (nullable = true)\n |-- customer_name: string (nullable = true)\n |-- card_number: string (nullable = true)\n |-- card_type: string (nullable = true)\n |-- physical_card_type: string (nullable = true)\n |-- merchant_id: string (nullable = true)\n |-- merchant_city: string (nullable = true)\n |-- merchant_state: string (nullable = true)\n |-- transaction_type: string (nullable = true)\n |-- transaction_type_sub: string (nullable = true)\n |-- amount: string (nullable = true)\n |-- product_type: string (nullable = true)\n |-- fraud_risk: string (nullable = true)\n |-- One Time Heavy Loot Score: string (nullable = true)\n |-- Drastic Transaction Change Pattern Score: string (nullable = true)\n |-- Parasitic Fraud Score: string (nullable = true)\n |-- Purchase Behavior Variation Score: string (nullable = true)\n |-- Preferred Merchant Variation Score: string (nullable = true)\n |-- Multiple Location Fraud Score: string (nullable = true)\n |-- Fraudster Merchant Score: string (nullable = true)\n |-- no_of_transactions_in_the_day: string (nullable = true)\n |-- max_transaction_amount_in_the_day: string (nullable = true)\n |-- avg_transaction_amount_in_the_day: string (nullable = true)\n |-- no_of_transactions_in_the_month: string (nullable = true)\n |-- max_transaction_amount_the_month: string (nullable = true)\n |-- avg_transaction_amount_the_month: string (nullable = true)\n |-- no_of_transactions_of_the_same_merchant_in_the_day: string (nullable = true)\n |-- max_transactions_of_the_same_merchant_in_the_day: string (nullable = true)\n |-- avg_transactions_of_the_same_merchant_in_the_day: string (nullable = true)\n |-- no_of_transactions_of_the_same_merchant_in_the_month: string (nullable = true)\n |-- max_transactions_of_the_same_merchant_in_the_month: string (nullable = true)\n |-- avg_transactions_of_the_same_merchant_in_the_month: string (nullable = true)\n\n",
          "name": "block.stdout:ReadCsvProjectSpace_1",
          "pathname": null,
          "process": null,
          "processName": null,
          "thread": null,
          "threadName": null
         },
         {
          "asctime": "2021-03-24 10:13:19,830",
          "created": 1616580799.830772,
          "extra": {},
          "filename": "async_executors.py",
          "funcName": "distribute_output_queue",
          "levelname": "DEBUG",
          "lineno": 308,
          "message": "ReadCsvProjectSpace_1: ---- dist output: DataFrame[transaction_id: string, time: string, customer_name: string, card_number: string, card_type: string, physical_card_type: string, merchant_id: string, merchant_city: string, merchant_state: string, transaction_type: string, transaction_type_sub: string, amount: string, product_type: string, fraud_risk: string, One Time Heavy Loot Score: string, Drastic Transaction Change Pattern Score: string, Parasitic Fraud Score: string, Purchase Behavior Variation Score: string, Preferred Merchant Variation Score: string, Multiple Location Fraud Score: string, Fraudster Merchant Score: string, no_of_transactions_in_the_day: string, max_transaction_amount_in_the_day: string, avg_transaction_amount_in_the_day: string, no_of_transactions_in_the_month: string, max_transaction_amount_the_month: string, avg_transaction_amount_the_month: string, no_of_transactions_of_the_same_merchant_in_the_day: string, max_transactions_of_the_same_merchant_in_the_day: string, avg_transactions_of_the_same_merchant_in_the_day: string, no_of_transactions_of_the_same_merchant_in_the_month: string, max_transactions_of_the_same_merchant_in_the_month: string, avg_transactions_of_the_same_merchant_in_the_month: string] -> ('CustMercTS_1', 'ip_data')",
          "name": "engine.logs:ReadCsvProjectSpace_1",
          "pathname": "/usr/local/lib/python3.7/dist-packages/razor/flow/async_executors.py",
          "process": 6742,
          "processName": "ForkProcess-2:2",
          "thread": 140053220955968,
          "threadName": "MainThread"
         },
         {
          "asctime": "2021-03-24 10:13:19,831",
          "created": 1616580799.831247,
          "extra": {},
          "filename": "async_executors.py",
          "funcName": "main",
          "levelname": "DEBUG",
          "lineno": 147,
          "message": "ReadCsvProjectSpace_1: block thread completed",
          "name": "engine.logs:ReadCsvProjectSpace_1",
          "pathname": "/usr/local/lib/python3.7/dist-packages/razor/flow/async_executors.py",
          "process": 6742,
          "processName": "ForkProcess-2:2",
          "thread": 140053220955968,
          "threadName": "MainThread"
         },
         {
          "asctime": "2021-03-24 10:13:19,831",
          "created": 1616580799.8313417,
          "extra": {},
          "filename": "async_executors.py",
          "funcName": "main",
          "levelname": "DEBUG",
          "lineno": 149,
          "message": "ReadCsvProjectSpace_1: block execution complete",
          "name": "engine.logs:ReadCsvProjectSpace_1",
          "pathname": "/usr/local/lib/python3.7/dist-packages/razor/flow/async_executors.py",
          "process": 6742,
          "processName": "ForkProcess-2:2",
          "thread": 140053220955968,
          "threadName": "MainThread"
         },
         {
          "asctime": "2021-03-24 10:13:19,831",
          "created": 1616580799.83163,
          "extra": {},
          "filename": "async_executors.py",
          "funcName": "distribute_output_queue",
          "levelname": "DEBUG",
          "lineno": 308,
          "message": "ReadCsvProjectSpace_1: ---- dist output: b'__!\\tEndOfStream\\t!__' -> ('CustMercTS_1', 'ip_data')",
          "name": "engine.logs:ReadCsvProjectSpace_1",
          "pathname": "/usr/local/lib/python3.7/dist-packages/razor/flow/async_executors.py",
          "process": 6742,
          "processName": "ForkProcess-2:2",
          "thread": 140053220955968,
          "threadName": "MainThread"
         },
         {
          "asctime": "2021-03-24 10:13:19,889",
          "created": 1616580799.8899536,
          "extra": {},
          "filename": "async_executors.py",
          "funcName": "start_input_receiver",
          "levelname": "DEBUG",
          "lineno": 173,
          "message": "ReadCsvProjectSpace_1: received cmd: start_sender, (), {'out_name': 'data', 'target': ('CustMercTS_1', 'ip_data'), 'out_addr': 'tcp://0.0.0.0:59665', 'in_memory': True}",
          "name": "engine.logs:ReadCsvProjectSpace_1",
          "pathname": "/usr/local/lib/python3.7/dist-packages/razor/flow/async_executors.py",
          "process": 6742,
          "processName": "ForkProcess-2:2",
          "thread": 140053220955968,
          "threadName": "MainThread"
         },
         {
          "asctime": "2021-03-24 10:13:19,890",
          "created": 1616580799.8904238,
          "extra": {},
          "filename": "async_executors.py",
          "funcName": "start_output_sender",
          "levelname": "DEBUG",
          "lineno": 370,
          "message": "ReadCsvProjectSpace_1: got start_sender, data, ('CustMercTS_1', 'ip_data')",
          "name": "engine.logs:ReadCsvProjectSpace_1",
          "pathname": "/usr/local/lib/python3.7/dist-packages/razor/flow/async_executors.py",
          "process": 6742,
          "processName": "ForkProcess-2:2",
          "thread": 140053220955968,
          "threadName": "MainThread"
         },
         {
          "asctime": "2021-03-24 10:13:19,891",
          "created": 1616580799.8916566,
          "extra": {},
          "filename": "async_executors.py",
          "funcName": "start_output_sender",
          "levelname": "DEBUG",
          "lineno": 375,
          "message": "ReadCsvProjectSpace_1: SENT, ip_data, DataFrame[transaction_id: string, time: string, customer_name: string, card_number: string, card_type: string, physical_card_type: string, merchant_id: string, merchant_city: string, merchant_state: string, transaction_type: string, transaction_type_sub: string, amount: string, product_type: string, fraud_risk: string, One Time Heavy Loot Score: string, Drastic Transaction Change Pattern Score: string, Parasitic Fraud Score: string, Purchase Behavior Variation Score: string, Preferred Merchant Variation Score: string, Multiple Location Fraud Score: string, Fraudster Merchant Score: string, no_of_transactions_in_the_day: string, max_transaction_amount_in_the_day: string, avg_transaction_amount_in_the_day: string, no_of_transactions_in_the_month: string, max_transaction_amount_the_month: string, avg_transaction_amount_the_month: string, no_of_transactions_of_the_same_merchant_in_the_day: string, max_transactions_of_the_same_merchant_in_the_day: string, avg_transactions_of_the_same_merchant_in_the_day: string, no_of_transactions_of_the_same_merchant_in_the_month: string, max_transactions_of_the_same_merchant_in_the_month: string, avg_transactions_of_the_same_merchant_in_the_month: string], ('CustMercTS_1', 'ip_data')",
          "name": "engine.logs:ReadCsvProjectSpace_1",
          "pathname": "/usr/local/lib/python3.7/dist-packages/razor/flow/async_executors.py",
          "process": 6742,
          "processName": "ForkProcess-2:2",
          "thread": 140053220955968,
          "threadName": "MainThread"
         },
         {
          "asctime": "2021-03-24 10:13:19,891",
          "created": 1616580799.8918753,
          "extra": {},
          "filename": "async_executors.py",
          "funcName": "start_output_sender",
          "levelname": "DEBUG",
          "lineno": 375,
          "message": "ReadCsvProjectSpace_1: SENT, ip_data, b'__!\\tEndOfStream\\t!__', ('CustMercTS_1', 'ip_data')",
          "name": "engine.logs:ReadCsvProjectSpace_1",
          "pathname": "/usr/local/lib/python3.7/dist-packages/razor/flow/async_executors.py",
          "process": 6742,
          "processName": "ForkProcess-2:2",
          "thread": 140053220955968,
          "threadName": "MainThread"
         },
         {
          "asctime": "2021-03-24 10:13:19,891",
          "created": 1616580799.8919337,
          "extra": {},
          "filename": "async_executors.py",
          "funcName": "start_output_sender",
          "levelname": "DEBUG",
          "lineno": 379,
          "message": "ReadCsvProjectSpace_1: completed output: ('data', ('CustMercTS_1', 'ip_data'))",
          "name": "engine.logs:ReadCsvProjectSpace_1",
          "pathname": "/usr/local/lib/python3.7/dist-packages/razor/flow/async_executors.py",
          "process": 6742,
          "processName": "ForkProcess-2:2",
          "thread": 140053220955968,
          "threadName": "MainThread"
         },
         {
          "asctime": "2021-03-24 10:13:19,893",
          "created": 1616580799.8934813,
          "extra": {},
          "filename": "async_executors.py",
          "funcName": "fill_atomic_inputs",
          "levelname": "DEBUG",
          "lineno": 253,
          "message": "CustMercTS_1: got atomic input: DataFrame[transaction_id: string, time: string, customer_name: string, card_number: string, card_type: string, physical_card_type: string, merchant_id: string, merchant_city: string, merchant_state: string, transaction_type: string, transaction_type_sub: string, amount: string, product_type: string, fraud_risk: string, One Time Heavy Loot Score: string, Drastic Transaction Change Pattern Score: string, Parasitic Fraud Score: string, Purchase Behavior Variation Score: string, Preferred Merchant Variation Score: string, Multiple Location Fraud Score: string, Fraudster Merchant Score: string, no_of_transactions_in_the_day: string, max_transaction_amount_in_the_day: string, avg_transaction_amount_in_the_day: string, no_of_transactions_in_the_month: string, max_transaction_amount_the_month: string, avg_transaction_amount_the_month: string, no_of_transactions_of_the_same_merchant_in_the_day: string, max_transactions_of_the_same_merchant_in_the_day: string, avg_transactions_of_the_same_merchant_in_the_day: string, no_of_transactions_of_the_same_merchant_in_the_month: string, max_transactions_of_the_same_merchant_in_the_month: string, avg_transactions_of_the_same_merchant_in_the_month: string]",
          "name": "engine.logs:CustMercTS_1",
          "pathname": "/usr/local/lib/python3.7/dist-packages/razor/flow/async_executors.py",
          "process": 6742,
          "processName": "ForkProcess-2:2",
          "thread": 140053220955968,
          "threadName": "MainThread"
         },
         {
          "asctime": "2021-03-24 10:13:19,893",
          "created": 1616580799.893587,
          "extra": {},
          "filename": "async_executors.py",
          "funcName": "fill_atomic_inputs",
          "levelname": "INFO",
          "lineno": 250,
          "message": "CustMercTS_1: waiting for atomic input: config",
          "name": "engine.logs:CustMercTS_1",
          "pathname": "/usr/local/lib/python3.7/dist-packages/razor/flow/async_executors.py",
          "process": 6742,
          "processName": "ForkProcess-2:2",
          "thread": 140053220955968,
          "threadName": "MainThread"
         },
         {
          "asctime": "2021-03-24 10:13:19,893",
          "created": 1616580799.8936508,
          "extra": {},
          "filename": "async_executors.py",
          "funcName": "fill_atomic_inputs",
          "levelname": "DEBUG",
          "lineno": 253,
          "message": "CustMercTS_1: got atomic input: {}",
          "name": "engine.logs:CustMercTS_1",
          "pathname": "/usr/local/lib/python3.7/dist-packages/razor/flow/async_executors.py",
          "process": 6742,
          "processName": "ForkProcess-2:2",
          "thread": 140053220955968,
          "threadName": "MainThread"
         },
         {
          "asctime": "2021-03-24 10:13:19,896",
          "created": 1616580799.896261,
          "extra": {},
          "filename": "async_executors.py",
          "funcName": "start_input_receiver",
          "levelname": "DEBUG",
          "lineno": 173,
          "message": "ReadCsvProjectSpace_1: received cmd: terminate, (), {}",
          "name": "engine.logs:ReadCsvProjectSpace_1",
          "pathname": "/usr/local/lib/python3.7/dist-packages/razor/flow/async_executors.py",
          "process": 6742,
          "processName": "ForkProcess-2:2",
          "thread": 140053220955968,
          "threadName": "MainThread"
         },
         {
          "asctime": "2021-03-24 10:13:19,893",
          "created": 1616580799.8936903,
          "extra": {},
          "filename": "async_executors.py",
          "funcName": "fill_atomic_inputs",
          "levelname": "INFO",
          "lineno": 250,
          "message": "CustMercTS_1: waiting for atomic input: source",
          "name": "engine.logs:CustMercTS_1",
          "pathname": "/usr/local/lib/python3.7/dist-packages/razor/flow/async_executors.py",
          "process": 6742,
          "processName": "ForkProcess-2:2",
          "thread": 140053220955968,
          "threadName": "MainThread"
         },
         {
          "asctime": "2021-03-24 10:13:19,893",
          "created": 1616580799.8937352,
          "extra": {},
          "filename": "async_executors.py",
          "funcName": "fill_atomic_inputs",
          "levelname": "DEBUG",
          "lineno": 253,
          "message": "CustMercTS_1: got atomic input: ",
          "name": "engine.logs:CustMercTS_1",
          "pathname": "/usr/local/lib/python3.7/dist-packages/razor/flow/async_executors.py",
          "process": 6742,
          "processName": "ForkProcess-2:2",
          "thread": 140053220955968,
          "threadName": "MainThread"
         },
         {
          "asctime": "2021-03-24 10:13:19,893",
          "created": 1616580799.8937864,
          "extra": {},
          "filename": "async_executors.py",
          "funcName": "main",
          "levelname": "DEBUG",
          "lineno": 130,
          "message": "CustMercTS_1: triggering block run",
          "name": "engine.logs:CustMercTS_1",
          "pathname": "/usr/local/lib/python3.7/dist-packages/razor/flow/async_executors.py",
          "process": 6742,
          "processName": "ForkProcess-2:2",
          "thread": 140053220955968,
          "threadName": "MainThread"
         },
         {
          "asctime": "2021-03-24 10:13:37,553",
          "created": 1616580817.553976,
          "exc_info": null,
          "extra": {},
          "filename": null,
          "full_message": null,
          "funcName": null,
          "levelname": "STDOUT",
          "lineno": null,
          "message": "+--------------------+-------------------+-----------------+--------------------+--------------------------------------------+----------------------------------------------+--------------------------------------------+--------------------------------------------+---------------------------------------------+-----------------------------------------------+---------------------------------------------+---------------------------------------------+------------------------------------------------+--------------------------------------------------+------------------------------------------------+------------------------------------------------+-----------------------------------------------------+-------------------------------------------------------+-----------------------------------------------------+-----------------------------------------------------+----------------------------------------------+------------------------------------------------+----------------------------------------------+----------------------------------------------+--------------------------------------------+----------------------------------------------+--------------------------------------------+--------------------------------------------+--------------------------------------------+----------------------------------------------+--------------------------------------------+--------------------------------------------+---------------------------------------------+-----------------------------------------------+---------------------------------------------+---------------------------------------------+\n|      transaction_id|               time|    customer_name|         card_number|last_one_hour_total_customer_transaction_sum|last_one_hour_total_customer_transaction_count|last_one_hour_total_customer_transaction_max|last_one_hour_total_customer_transaction_avg|last_six_hours_total_customer_transaction_sum|last_six_hours_total_customer_transaction_count|last_six_hours_total_customer_transaction_max|last_six_hours_total_customer_transaction_avg|last_twelve_hours_total_customer_transaction_sum|last_twelve_hours_total_customer_transaction_count|last_twelve_hours_total_customer_transaction_max|last_twelve_hours_total_customer_transaction_avg|last_twenty_four_hours_total_customer_transaction_sum|last_twenty_four_hours_total_customer_transaction_count|last_twenty_four_hours_total_customer_transaction_max|last_twenty_four_hours_total_customer_transaction_avg|last_three_days_total_customer_transaction_sum|last_three_days_total_customer_transaction_count|last_three_days_total_customer_transaction_max|last_three_days_total_customer_transaction_avg|last_one_week_total_customer_transaction_sum|last_one_week_total_customer_transaction_count|last_one_week_total_customer_transaction_max|last_one_week_total_customer_transaction_avg|last_two_week_total_customer_transaction_sum|last_two_week_total_customer_transaction_count|last_two_week_total_customer_transaction_max|last_two_week_total_customer_transaction_avg|last_one_month_total_customer_transaction_sum|last_one_month_total_customer_transaction_count|last_one_month_total_customer_transaction_max|last_one_month_total_customer_transaction_avg|\n+--------------------+-------------------+-----------------+--------------------+--------------------------------------------+----------------------------------------------+--------------------------------------------+--------------------------------------------+---------------------------------------------+-----------------------------------------------+---------------------------------------------+---------------------------------------------+------------------------------------------------+--------------------------------------------------+------------------------------------------------+------------------------------------------------+-----------------------------------------------------+-------------------------------------------------------+-----------------------------------------------------+-----------------------------------------------------+----------------------------------------------+------------------------------------------------+----------------------------------------------+----------------------------------------------+--------------------------------------------+----------------------------------------------+--------------------------------------------+--------------------------------------------+--------------------------------------------+----------------------------------------------+--------------------------------------------+--------------------------------------------+---------------------------------------------+-----------------------------------------------+---------------------------------------------+---------------------------------------------+\n|1f67ffa2-80e7-459...|2018-03-12 02:06:00|Elizabeth Brawley|b8ad67c3-effd-442...|                                           0|                                             0|                                           0|                                         0.0|                                            0|                                              0|                                            0|                                          0.0|                                               0|                                                 0|                                               0|                                             0.0|                                                    0|                                                      0|                                                    0|                                                  0.0|                                             0|                                               0|                                             0|                                           0.0|                                           0|                                             0|                                           0|                                         0.0|                                           0|                                             0|                                           0|                                         0.0|                                            0|                                              0|                                            0|                                          0.0|\n|6fb28235-14b0-480...|2018-03-12 16:31:00|Elizabeth Brawley|dd77d1cd-1f14-4fd...|                                           0|                                             0|                                           0|                                         0.0|                                            0|                                              0|                                            0|                                          0.0|                                               0|                                                 0|                                               0|                                             0.0|                                                    0|                                                      0|                                                    0|                                                  0.0|                                             0|                                               0|                                             0|                                           0.0|                                           0|                                             0|                                           0|                                         0.0|                                           0|                                             0|                                           0|                                         0.0|                                            0|                                              0|                                            0|                                          0.0|\n|89839019-b3ec-44b...|2018-03-12 13:21:00|Elizabeth Brawley|c8c62bd1-edb5-491...|                                           0|                                             0|                                           0|                                         0.0|                                            0|                                              0|                                            0|                                          0.0|                                               0|                                                 0|                                               0|                                             0.0|                                                    0|                                                      0|                                                    0|                                                  0.0|                                             0|                                               0|                                             0|                                           0.0|                                           0|                                             0|                                           0|                                         0.0|                                           0|                                             0|                                           0|                                         0.0|                                            0|                                              0|                                            0|                                          0.0|\n|4a0923eb-3fe1-4d4...|2018-03-12 14:11:00|Elizabeth Brawley|9f9ffcd8-87bd-417...|                                           0|                                             0|                                           0|                                         0.0|                                            0|                                              0|                                            0|                                          0.0|                                               0|                                                 0|                                               0|                                             0.0|                                                    0|                                                      0|                                                    0|                                                  0.0|                                             0|                                               0|                                             0|                                           0.0|                                           0|                                             0|                                           0|                                         0.0|                                           0|                                             0|                                           0|                                         0.0|                                            0|                                              0|                                            0|                                          0.0|\n|f7243898-036a-44f...|2018-03-12 13:15:00|Elizabeth Brawley|2bf7e056-eb23-4c8...|                                           0|                                             0|                                           0|                                         0.0|                                            0|                                              0|                                            0|                                          0.0|                                               0|                                                 0|                                               0|                                             0.0|                                                    0|                                                      0|                                                    0|                                                  0.0|                                             0|                                               0|                                             0|                                           0.0|                                           0|                                             0|                                           0|                                         0.0|                                           0|                                             0|                                           0|                                         0.0|                                            0|                                              0|                                            0|                                          0.0|\n|89489648-180a-439...|2018-03-12 09:15:00|Elizabeth Brawley|801d65c4-c2af-460...|                                           0|                                             0|                                           0|                                         0.0|                                            0|                                              0|                                            0|                                          0.0|                                               0|                                                 0|                                               0|                                             0.0|                                                    0|                                                      0|                                                    0|                                                  0.0|                                             0|                                               0|                                             0|                                           0.0|                                           0|                                             0|                                           0|                                         0.0|                                           0|                                             0|                                           0|                                         0.0|                                            0|                                              0|                                            0|                                          0.0|\n|3ce2dcd5-622f-4ec...|2018-03-12 12:35:00|Elizabeth Brawley|0a27a4f4-18a8-4fd...|                                           0|                                             0|                                           0|                                         0.0|                                            0|                                              0|                                            0|                                          0.0|                                               0|                                                 0|                                               0|                                             0.0|                                                    0|                                                      0|                                                    0|                                                  0.0|                                             0|                                               0|                                             0|                                           0.0|                                           0|                                             0|                                           0|                                         0.0|                                           0|                                             0|                                           0|                                         0.0|                                            0|                                              0|                                            0|                                          0.0|\n|5b74e885-074e-4b5...|2018-03-12 16:17:00|Elizabeth Brawley|9d8a297c-2a74-495...|                                           0|                                             0|                                           0|                                         0.0|                                            0|                                              0|                                            0|                                          0.0|                                               0|                                                 0|                                               0|                                             0.0|                                                    0|                                                      0|                                                    0|                                                  0.0|                                             0|                                               0|                                             0|                                           0.0|                                           0|                                             0|                                           0|                                         0.0|                                           0|                                             0|                                           0|                                         0.0|                                            0|                                              0|                                            0|                                          0.0|\n|0598fc62-135b-4d4...|2018-03-12 18:37:00|Elizabeth Brawley|ea33bae7-c6a4-4ce...|                                           0|                                             0|                                           0|                                         0.0|                                            0|                                              0|                                            0|                                          0.0|                                               0|                                                 0|                                               0|                                             0.0|                                                    0|                                                      0|                                                    0|                                                  0.0|                                             0|                                               0|                                             0|                                           0.0|                                           0|                                             0|                                           0|                                         0.0|                                           0|                                             0|                                           0|                                         0.0|                                            0|                                              0|                                            0|                                          0.0|\n|df236dad-4980-440...|2018-03-12 18:07:00|Elizabeth Brawley|617fe136-d245-4b6...|                                           0|                                             0|                                           0|                                         0.0|                                            0|                                              0|                                            0|                                          0.0|                                               0|                                                 0|                                               0|                                             0.0|                                                    0|                                                      0|                                                    0|                                                  0.0|                                             0|                                               0|                                             0|                                           0.0|                                           0|                                             0|                                           0|                                         0.0|                                           0|                                             0|                                           0|                                         0.0|                                            0|                                              0|                                            0|                                          0.0|\n|2ede14af-9a83-4ea...|2018-03-12 22:03:00|Elizabeth Brawley|88d39e1a-24ce-467...|                                           0|                                             0|                                           0|                                         0.0|                                            0|                                              0|                                            0|                                          0.0|                                               0|                                                 0|                                               0|                                             0.0|                                                    0|                                                      0|                                                    0|                                                  0.0|                                             0|                                               0|                                             0|                                           0.0|                                           0|                                             0|                                           0|                                         0.0|                                           0|                                             0|                                           0|                                         0.0|                                            0|                                              0|                                            0|                                          0.0|\n|5675879a-f5c9-402...|2018-03-12 01:55:00|Elizabeth Brawley|345536ad-a301-43a...|                                           0|                                             0|                                           0|                                         0.0|                                            0|                                              0|                                            0|                                          0.0|                                               0|                                                 0|                                               0|                                             0.0|                                                    0|                                                      0|                                                    0|                                                  0.0|                                             0|                                               0|                                             0|                                           0.0|                                           0|                                             0|                                           0|                                         0.0|                                           0|                                             0|                                           0|                                         0.0|                                            0|                                              0|                                            0|                                          0.0|\n|7013beb5-9539-467...|2018-03-12 23:02:00|Elizabeth Brawley|5d1458d4-c617-4f8...|                                           0|                                             0|                                           0|                                         0.0|                                            0|                                              0|                                            0|                                          0.0|                                               0|                                                 0|                                               0|                                             0.0|                                                    0|                                                      0|                                                    0|                                                  0.0|                                             0|                                               0|                                             0|                                           0.0|                                           0|                                             0|                                           0|                                         0.0|                                           0|                                             0|                                           0|                                         0.0|                                            0|                                              0|                                            0|                                          0.0|\n|db95a985-150f-4ea...|2018-03-12 04:59:00|Elizabeth Brawley|3d86f91f-8f02-4cd...|                                           0|                                             0|                                           0|                                         0.0|                                            0|                                              0|                                            0|                                          0.0|                                               0|                                                 0|                                               0|                                             0.0|                                                    0|                                                      0|                                                    0|                                                  0.0|                                             0|                                               0|                                             0|                                           0.0|                                           0|                                             0|                                           0|                                         0.0|                                           0|                                             0|                                           0|                                         0.0|                                            0|                                              0|                                            0|                                          0.0|\n|26ba833c-0a1b-4dd...|2018-03-12 13:36:00|Elizabeth Brawley|c50946aa-23e4-453...|                                           0|                                             0|                                           0|                                         0.0|                                            0|                                              0|                                            0|                                          0.0|                                               0|                                                 0|                                               0|                                             0.0|                                                    0|                                                      0|                                                    0|                                                  0.0|                                             0|                                               0|                                             0|                                           0.0|                                           0|                                             0|                                           0|                                         0.0|                                           0|                                             0|                                           0|                                         0.0|                                            0|                                              0|                                            0|                                          0.0|\n|71694f34-efa6-497...|2018-03-12 09:14:00|Elizabeth Brawley|20bdbcf0-11b7-4f8...|                                           0|                                             0|                                           0|                                         0.0|                                            0|                                              0|                                            0|                                          0.0|                                               0|                                                 0|                                               0|                                             0.0|                                                    0|                                                      0|                                                    0|                                                  0.0|                                             0|                                               0|                                             0|                                           0.0|                                           0|                                             0|                                           0|                                         0.0|                                           0|                                             0|                                           0|                                         0.0|                                            0|                                              0|                                            0|                                          0.0|\n|a56756e2-3082-44d...|2018-03-12 22:58:00|Elizabeth Brawley|862d37ef-2d9a-486...|                                           0|                                             0|                                           0|                                         0.0|                                            0|                                              0|                                            0|                                          0.0|                                               0|                                                 0|                                               0|                                             0.0|                                                    0|                                                      0|                                                    0|                                                  0.0|                                             0|                                               0|                                             0|                                           0.0|                                           0|                                             0|                                           0|                                         0.0|                                           0|                                             0|                                           0|                                         0.0|                                            0|                                              0|                                            0|                                          0.0|\n|c1454e5c-8972-4ea...|2018-07-09 17:03:00|  Brandon Sturkie|65b4eda1-a440-493...|                                           0|                                             0|                                           0|                                         0.0|                                            0|                                              0|                                            0|                                          0.0|                                               0|                                                 0|                                               0|                                             0.0|                                                    0|                                                      0|                                                    0|                                                  0.0|                                             0|                                               0|                                             0|                                           0.0|                                           0|                                             0|                                           0|                                         0.0|                                           0|                                             0|                                           0|                                         0.0|                                          826|                                              4|                                          299|                                        206.5|\n|4bdd16fe-a24d-495...|2018-07-14 13:46:00|  Brandon Sturkie|65b4eda1-a440-493...|                                           0|                                             0|                                           0|                                         0.0|                                            0|                                              0|                                            0|                                          0.0|                                               0|                                                 0|                                               0|                                             0.0|                                                    0|                                                      0|                                                    0|                                                  0.0|                                             0|                                               0|                                             0|                                           0.0|                                           6|                                             1|                                           6|                                         6.0|                                           6|                                             1|                                           6|                                         6.0|                                           15|                                              2|                                            9|                                          7.5|\n|09f022fd-f9c5-46e...|2018-07-18 23:28:00|  Brandon Sturkie|65b4eda1-a440-493...|                                           0|                                             0|                                           0|                                         0.0|                                            0|                                              0|                                            0|                                          0.0|                                               0|                                                 0|                                               0|                                             0.0|                                                    0|                                                      0|                                                    0|                                                  0.0|                                             0|                                               0|                                             0|                                           0.0|                                         240|                                             1|                                         240|                                       240.0|                                         246|                                             2|                                         240|                                       123.0|                                          246|                                              2|                                          240|                                        123.0|\n+--------------------+-------------------+-----------------+--------------------+--------------------------------------------+----------------------------------------------+--------------------------------------------+--------------------------------------------+---------------------------------------------+-----------------------------------------------+---------------------------------------------+---------------------------------------------+------------------------------------------------+--------------------------------------------------+------------------------------------------------+------------------------------------------------+-----------------------------------------------------+-------------------------------------------------------+-----------------------------------------------------+-----------------------------------------------------+----------------------------------------------+------------------------------------------------+----------------------------------------------+----------------------------------------------+--------------------------------------------+----------------------------------------------+--------------------------------------------+--------------------------------------------+--------------------------------------------+----------------------------------------------+--------------------------------------------+--------------------------------------------+---------------------------------------------+-----------------------------------------------+---------------------------------------------+---------------------------------------------+\nonly showing top 20 rows\n\n",
          "name": "block.stdout:CustMercTS_1",
          "pathname": null,
          "process": null,
          "processName": null,
          "thread": null,
          "threadName": null
         },
         {
          "asctime": "2021-03-24 10:13:43,336",
          "created": 1616580823.3363888,
          "exc_info": null,
          "extra": {},
          "filename": null,
          "full_message": null,
          "funcName": null,
          "levelname": "STDOUT",
          "lineno": null,
          "message": "+--------------------+-----------+-------------+--------------+--------------------------------------------+----------------------------------------------+--------------------------------------------+--------------------------------------------+--------------------------------------------+----------------------------------------------+--------------------------------------------+--------------------------------------------+-----------------------------------------------+-------------------------------------------------+-----------------------------------------------+-----------------------------------------------+----------------------------------------------------+------------------------------------------------------+----------------------------------------------------+----------------------------------------------------+----------------------------------------------+------------------------------------------------+----------------------------------------------+----------------------------------------------+\n|      transaction_id|merchant_id|merchant_city|merchant_state|last_one_hour_total_merchant_transaction_sum|last_one_hour_total_merchant_transaction_count|last_one_hour_total_merchant_transaction_max|last_one_hour_total_merchant_transaction_avg|last_six_hour_total_merchant_transaction_sum|last_six_hour_total_merchant_transaction_count|last_six_hour_total_merchant_transaction_max|last_six_hour_total_merchant_transaction_avg|last_twelve_hour_total_merchant_transaction_sum|last_twelve_hour_total_merchant_transaction_count|last_twelve_hour_total_merchant_transaction_max|last_twelve_hour_total_merchant_transaction_avg|last_twenty_four_hour_total_merchant_transaction_sum|last_twenty_four_hour_total_merchant_transaction_count|last_twenty_four_hour_total_merchant_transaction_max|last_twenty_four_hour_total_merchant_transaction_avg|last_three_days_total_merchant_transaction_sum|last_three_days_total_merchant_transaction_count|last_three_days_total_merchant_transaction_max|last_three_days_total_merchant_transaction_avg|\n+--------------------+-----------+-------------+--------------+--------------------------------------------+----------------------------------------------+--------------------------------------------+--------------------------------------------+--------------------------------------------+----------------------------------------------+--------------------------------------------+--------------------------------------------+-----------------------------------------------+-------------------------------------------------+-----------------------------------------------+-----------------------------------------------+----------------------------------------------------+------------------------------------------------------+----------------------------------------------------+----------------------------------------------------+----------------------------------------------+------------------------------------------------+----------------------------------------------+----------------------------------------------+\n|8bbd694f-cf23-4e9...|    1000795|    Bay Shore|      New York|                                           0|                                             0|                                           0|                                         0.0|                                           0|                                             0|                                           0|                                         0.0|                                              0|                                                0|                                              0|                                            0.0|                                                   0|                                                     0|                                                   0|                                                 0.0|                                             0|                                               0|                                             0|                                           0.0|\n|c9cbbdd6-2cf7-4ec...|    1000096|         Otto|       Wyoming|                                           0|                                             0|                                           0|                                         0.0|                                           0|                                             0|                                           0|                                         0.0|                                              0|                                                0|                                              0|                                            0.0|                                                   0|                                                     0|                                                   0|                                                 0.0|                                             0|                                               0|                                             0|                                           0.0|\n|25b44c0b-c06c-40c...|    1000096|         Otto|       Wyoming|                                           0|                                             0|                                           0|                                         0.0|                                           0|                                             0|                                           0|                                         0.0|                                              0|                                                0|                                              0|                                            0.0|                                                   0|                                                     0|                                                   0|                                                 0.0|                                             0|                                               0|                                             0|                                           0.0|\n|c11e0eb9-c78f-481...|    1000096|         Otto|       Wyoming|                                           0|                                             0|                                           0|                                         0.0|                                           0|                                             0|                                           0|                                         0.0|                                              0|                                                0|                                              0|                                            0.0|                                                   0|                                                     0|                                                   0|                                                 0.0|                                             0|                                               0|                                             0|                                           0.0|\n|dbe86b45-b1e2-444...|    1000096|         Otto|       Wyoming|                                           0|                                             0|                                           0|                                         0.0|                                           0|                                             0|                                           0|                                         0.0|                                              0|                                                0|                                              0|                                            0.0|                                                   0|                                                     0|                                                   0|                                                 0.0|                                             0|                                               0|                                             0|                                           0.0|\n|72df8902-73d1-4aa...|    1000113|      Henagar|       Alabama|                                           0|                                             0|                                           0|                                         0.0|                                           0|                                             0|                                           0|                                         0.0|                                              0|                                                0|                                              0|                                            0.0|                                                   0|                                                     0|                                                   0|                                                 0.0|                                             0|                                               0|                                             0|                                           0.0|\n|8fde6027-13f1-4e1...|    1000113|      Henagar|       Alabama|                                           0|                                             0|                                           0|                                         0.0|                                           0|                                             0|                                           0|                                         0.0|                                              0|                                                0|                                              0|                                            0.0|                                                   0|                                                     0|                                                   0|                                                 0.0|                                             0|                                               0|                                             0|                                           0.0|\n|32e15d54-b117-422...|    1000113|      Henagar|       Alabama|                                           0|                                             0|                                           0|                                         0.0|                                           0|                                             0|                                           0|                                         0.0|                                              0|                                                0|                                              0|                                            0.0|                                                   0|                                                     0|                                                   0|                                                 0.0|                                             0|                                               0|                                             0|                                           0.0|\n|9764a134-9793-437...|    1000113|      Henagar|       Alabama|                                           0|                                             0|                                           0|                                         0.0|                                           0|                                             0|                                           0|                                         0.0|                                              0|                                                0|                                              0|                                            0.0|                                                   0|                                                     0|                                                   0|                                                 0.0|                                             0|                                               0|                                             0|                                           0.0|\n|141649d9-d661-430...|    1000113|      Henagar|       Alabama|                                           0|                                             0|                                           0|                                         0.0|                                           6|                                             1|                                           6|                                         6.0|                                              6|                                                1|                                              6|                                            6.0|                                                   6|                                                     1|                                                   6|                                                 6.0|                                             6|                                               1|                                             6|                                           6.0|\n|49a2e33b-706c-46c...|    1000113|      Henagar|       Alabama|                                           0|                                             0|                                           0|                                         0.0|                                           0|                                             0|                                           0|                                         0.0|                                              0|                                                0|                                              0|                                            0.0|                                                   0|                                                     0|                                                   0|                                                 0.0|                                             0|                                               0|                                             0|                                           0.0|\n|32da9c21-ad11-42c...|    1000113|      Henagar|       Alabama|                                           0|                                             0|                                           0|                                         0.0|                                           0|                                             0|                                           0|                                         0.0|                                              0|                                                0|                                              0|                                            0.0|                                                   0|                                                     0|                                                   0|                                                 0.0|                                             0|                                               0|                                             0|                                           0.0|\n|12ae5674-aad1-49c...|    1000113|      Henagar|       Alabama|                                           0|                                             0|                                           0|                                         0.0|                                           0|                                             0|                                           0|                                         0.0|                                              0|                                                0|                                              0|                                            0.0|                                                  27|                                                     2|                                                  21|                                                13.5|                                            27|                                               2|                                            21|                                          13.5|\n|9fd21a2b-18a6-46f...|    1000113|      Henagar|       Alabama|                                           0|                                             0|                                           0|                                         0.0|                                           0|                                             0|                                           0|                                         0.0|                                              0|                                                0|                                              0|                                            0.0|                                                   0|                                                     0|                                                   0|                                                 0.0|                                             0|                                               0|                                             0|                                           0.0|\n|170d76f2-41c1-441...|    1000113|      Henagar|       Alabama|                                           0|                                             0|                                           0|                                         0.0|                                           0|                                             0|                                           0|                                         0.0|                                              0|                                                0|                                              0|                                            0.0|                                                   0|                                                     0|                                                   0|                                                 0.0|                                          2516|                                               1|                                          2516|                                        2516.0|\n|e0e2f964-3b0d-4d4...|    1000113|      Henagar|       Alabama|                                           0|                                             0|                                           0|                                         0.0|                                           0|                                             0|                                           0|                                         0.0|                                              0|                                                0|                                              0|                                            0.0|                                                   0|                                                     0|                                                   0|                                                 0.0|                                             0|                                               0|                                             0|                                           0.0|\n|07a38c41-37d4-463...|    1000113|      Henagar|       Alabama|                                           0|                                             0|                                           0|                                         0.0|                                           0|                                             0|                                           0|                                         0.0|                                              0|                                                0|                                              0|                                            0.0|                                                   0|                                                     0|                                                   0|                                                 0.0|                                             0|                                               0|                                             0|                                           0.0|\n|f35cf7d7-4607-40f...|    1000113|      Henagar|       Alabama|                                           0|                                             0|                                           0|                                         0.0|                                           0|                                             0|                                           0|                                         0.0|                                              0|                                                0|                                              0|                                            0.0|                                                   0|                                                     0|                                                   0|                                                 0.0|                                             0|                                               0|                                             0|                                           0.0|\n|2608cf70-a8c0-4d5...|    1001320|       Dacoma|      Oklahoma|                                           0|                                             0|                                           0|                                         0.0|                                           0|                                             0|                                           0|                                         0.0|                                              0|                                                0|                                              0|                                            0.0|                                                   0|                                                     0|                                                   0|                                                 0.0|                                             0|                                               0|                                             0|                                           0.0|\n|26c46b37-c0ad-425...|    1000376|     Sun City|        Kansas|                                           0|                                             0|                                           0|                                         0.0|                                           0|                                             0|                                           0|                                         0.0|                                              0|                                                0|                                              0|                                            0.0|                                                   0|                                                     0|                                                   0|                                                 0.0|                                             0|                                               0|                                             0|                                           0.0|\n+--------------------+-----------+-------------+--------------+--------------------------------------------+----------------------------------------------+--------------------------------------------+--------------------------------------------+--------------------------------------------+----------------------------------------------+--------------------------------------------+--------------------------------------------+-----------------------------------------------+-------------------------------------------------+-----------------------------------------------+-----------------------------------------------+----------------------------------------------------+------------------------------------------------------+----------------------------------------------------+----------------------------------------------------+----------------------------------------------+------------------------------------------------+----------------------------------------------+----------------------------------------------+\nonly showing top 20 rows\n\n",
          "name": "block.stdout:CustMercTS_1",
          "pathname": null,
          "process": null,
          "processName": null,
          "thread": null,
          "threadName": null
         },
         {
          "asctime": "2021-03-24 10:13:43,343",
          "created": 1616580823.3431842,
          "extra": {},
          "filename": "async_executors.py",
          "funcName": "main",
          "levelname": "DEBUG",
          "lineno": 147,
          "message": "CustMercTS_1: block thread completed",
          "name": "engine.logs:CustMercTS_1",
          "pathname": "/usr/local/lib/python3.7/dist-packages/razor/flow/async_executors.py",
          "process": 6742,
          "processName": "ForkProcess-2:2",
          "thread": 140053220955968,
          "threadName": "MainThread"
         },
         {
          "asctime": "2021-03-24 10:13:43,343",
          "created": 1616580823.343415,
          "extra": {},
          "filename": "async_executors.py",
          "funcName": "main",
          "levelname": "DEBUG",
          "lineno": 149,
          "message": "CustMercTS_1: block execution complete",
          "name": "engine.logs:CustMercTS_1",
          "pathname": "/usr/local/lib/python3.7/dist-packages/razor/flow/async_executors.py",
          "process": 6742,
          "processName": "ForkProcess-2:2",
          "thread": 140053220955968,
          "threadName": "MainThread"
         },
         {
          "asctime": "2021-03-24 10:13:43,350",
          "created": 1616580823.3500443,
          "extra": {},
          "filename": "async_executors.py",
          "funcName": "start_input_receiver",
          "levelname": "DEBUG",
          "lineno": 173,
          "message": "CustMercTS_1: received cmd: terminate, (), {}",
          "name": "engine.logs:CustMercTS_1",
          "pathname": "/usr/local/lib/python3.7/dist-packages/razor/flow/async_executors.py",
          "process": 6742,
          "processName": "ForkProcess-2:2",
          "thread": 140053220955968,
          "threadName": "MainThread"
         }
        ],
        "meta": {
         "block_status": {
          "CustMercTS_1": "SUCCESS",
          "NonSparkPath_1": "SUCCESS",
          "ReadCsvProjectSpace_1": "SUCCESS"
         },
         "blocks": [
          {
           "class_name": "ReadCsvProjectSpace",
           "fullname": ".ReadCsvProjectSpace",
           "id": "5c9fe7b7-310c-4a39-a242-59ae3d7f7d22",
           "inputs": [
            {
             "dataType": "string",
             "default": "",
             "flow": "atomic",
             "help": null,
             "isdict": false,
             "islist": false,
             "label": "filename",
             "meta": {},
             "name": "filename",
             "series": false,
             "type": "str",
             "type_check": true
            },
            {
             "dataType": "dict",
             "default": {},
             "flow": "atomic",
             "help": null,
             "isdict": false,
             "islist": false,
             "label": "config",
             "meta": {},
             "name": "config",
             "series": false,
             "type": "dict",
             "type_check": true
            },
            {
             "dataType": "string",
             "default": "",
             "flow": "atomic",
             "help": null,
             "isdict": false,
             "islist": false,
             "label": "source",
             "meta": {},
             "name": "source",
             "series": false,
             "type": "str",
             "type_check": true
            }
           ],
           "outputs": [
            {
             "flow": "atomic",
             "help": null,
             "label": "data",
             "meta": {},
             "name": "data",
             "series": false,
             "type": "DataFrame",
             "type_check": true
            }
           ],
           "overwritten": false,
           "published": false,
           "var_names": [
            "ReadCsvProjectSpace"
           ]
          },
          {
           "class_name": "CustMercTS",
           "fullname": ".CustMercTS",
           "id": "e85414c6-603f-4c1e-aa89-177d102b08fb",
           "inputs": [
            {
             "dataType": null,
             "default": null,
             "flow": "atomic",
             "help": null,
             "isdict": false,
             "islist": false,
             "label": "ip_data",
             "meta": {},
             "name": "ip_data",
             "series": false,
             "type": "DataFrame",
             "type_check": true
            },
            {
             "dataType": "dict",
             "default": {},
             "flow": "atomic",
             "help": null,
             "isdict": false,
             "islist": false,
             "label": "config",
             "meta": {},
             "name": "config",
             "series": false,
             "type": "dict",
             "type_check": true
            },
            {
             "dataType": "string",
             "default": "",
             "flow": "atomic",
             "help": null,
             "isdict": false,
             "islist": false,
             "label": "source",
             "meta": {},
             "name": "source",
             "series": false,
             "type": "str",
             "type_check": true
            }
           ],
           "outputs": [
            {
             "flow": "atomic",
             "help": null,
             "label": "customer_ts",
             "meta": {},
             "name": "customer_ts",
             "series": false,
             "type": "DataFrame",
             "type_check": true
            },
            {
             "flow": "atomic",
             "help": null,
             "label": "merchant_ts",
             "meta": {},
             "name": "merchant_ts",
             "series": false,
             "type": "DataFrame",
             "type_check": true
            }
           ],
           "overwritten": false,
           "published": false,
           "var_names": [
            "CustMercTS"
           ]
          },
          {
           "class_name": "NonSparkPath",
           "fullname": ".NonSparkPath",
           "id": "6f02d0ab-41ae-4289-9faf-54e94beb6fbb",
           "inputs": [
            {
             "dataType": "string",
             "default": "",
             "flow": "atomic",
             "help": null,
             "isdict": false,
             "islist": false,
             "label": "ip_path",
             "meta": {},
             "name": "ip_path",
             "series": false,
             "type": "str",
             "type_check": true
            }
           ],
           "outputs": [
            {
             "flow": "atomic",
             "help": null,
             "label": "op_path",
             "meta": {},
             "name": "op_path",
             "series": false,
             "type": "str",
             "type_check": true
            }
           ],
           "overwritten": false,
           "published": false,
           "var_names": [
            "NonSparkPath"
           ]
          }
         ],
         "connections": [
          {
           "id": "1789d203-0c6f-4854-9f97-70de0a31681e",
           "source": {
            "adapter": false,
            "instance_id": "f2ac6312-32f9-4c81-9d7f-57382e7677b7",
            "name": "data"
           },
           "target": {
            "adapter": false,
            "instance_id": "3fef627f-6e6c-4d90-8291-8ef26380e0f6",
            "name": "ip_data"
           }
          },
          {
           "id": "5dc22947-79a4-4628-b2eb-c1dc3c9b71b4",
           "source": {
            "adapter": false,
            "instance_id": "84f0552d-a98b-4c3b-be8c-ead3b72cd908",
            "name": "op_path"
           },
           "target": {
            "adapter": false,
            "instance_id": "f2ac6312-32f9-4c81-9d7f-57382e7677b7",
            "name": "filename"
           }
          }
         ],
         "end": 1616580823.3530643,
         "id": "5ff3883b-0566-446f-a69f-f2c505b3c10c",
         "instances": [
          {
           "block_class": "e85414c6-603f-4c1e-aa89-177d102b08fb",
           "id": "3fef627f-6e6c-4d90-8291-8ef26380e0f6",
           "name": "CustMercTS_1",
           "var_names": [
            "cm_ts"
           ]
          },
          {
           "block_class": "5c9fe7b7-310c-4a39-a242-59ae3d7f7d22",
           "id": "f2ac6312-32f9-4c81-9d7f-57382e7677b7",
           "name": "ReadCsvProjectSpace_1",
           "var_names": [
            "rcp"
           ]
          },
          {
           "block_class": "6f02d0ab-41ae-4289-9faf-54e94beb6fbb",
           "id": "84f0552d-a98b-4c3b-be8c-ead3b72cd908",
           "name": "NonSparkPath_1",
           "var_names": [
            "nsp"
           ]
          }
         ],
         "log_level": 20,
         "name": "temp",
         "start": 1616580780.2470741,
         "status": "SUCCESS",
         "system_logs": false,
         "var_names": []
        },
        "metrics": {},
        "runtime": {
         "CustMercTS_1": {
          "end": 1616580823.347956,
          "load": 1616580780.5007484,
          "start": 1616580780.5079288
         },
         "NonSparkPath_1": {
          "end": 1616580780.5595088,
          "load": 1616580780.248349,
          "start": 1616580780.2542994
         },
         "ReadCsvProjectSpace_1": {
          "end": 1616580799.8929636,
          "load": 1616580780.5007484,
          "start": 1616580780.5079288
         }
        }
       },
       "store_in_notebook": true
      }
     },
     "output_type": "display_data"
    },
    {
     "data": {
      "text/plain": [
       "{}"
      ]
     },
     "execution_count": 14,
     "metadata": {},
     "output_type": "execute_result"
    }
   ],
   "source": [
    "pipe.execute()"
   ]
  },
  {
   "cell_type": "code",
   "execution_count": null,
   "id": "sensitive-talent",
   "metadata": {},
   "outputs": [],
   "source": []
  },
  {
   "cell_type": "code",
   "execution_count": 14,
   "id": "southwest-needle",
   "metadata": {},
   "outputs": [],
   "source": [
    "import sys"
   ]
  },
  {
   "cell_type": "code",
   "execution_count": 15,
   "id": "elementary-outline",
   "metadata": {},
   "outputs": [
    {
     "data": {
      "text/plain": [
       "<module 'project' (namespace)>"
      ]
     },
     "execution_count": 15,
     "metadata": {},
     "output_type": "execute_result"
    }
   ],
   "source": [
    "sys.modules['razor.project']"
   ]
  },
  {
   "cell_type": "code",
   "execution_count": null,
   "id": "distinguished-banks",
   "metadata": {},
   "outputs": [],
   "source": []
  }
 ],
 "metadata": {
  "kernelspec": {
   "display_name": "Python 3",
   "language": "python",
   "name": "python3"
  },
  "language_info": {
   "codemirror_mode": {
    "name": "ipython",
    "version": 3
   },
   "file_extension": ".py",
   "mimetype": "text/x-python",
   "name": "python",
   "nbconvert_exporter": "python",
   "pygments_lexer": "ipython3",
   "version": "3.7.10"
  }
 },
 "nbformat": 4,
 "nbformat_minor": 5
}
