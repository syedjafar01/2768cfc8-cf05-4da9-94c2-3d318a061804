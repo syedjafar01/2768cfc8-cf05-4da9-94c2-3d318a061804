{
 "cells": [
  {
   "cell_type": "code",
   "execution_count": 1,
   "id": "orange-pillow",
   "metadata": {},
   "outputs": [],
   "source": [
    "import razor\n",
    "import razor.flow as rf\n",
    "from razor import api\n",
    "from razor.flow.spark import SparkBlock, SparkExecutor\n"
   ]
  },
  {
   "cell_type": "code",
   "execution_count": 2,
   "id": "interesting-industry",
   "metadata": {},
   "outputs": [],
   "source": [
    "import os\n",
    "from datetime import datetime, timedelta\n",
    "from pyspark.sql import SparkSession, functions\n",
    "from pyspark.sql.dataframe import DataFrame\n",
    "from datetime import datetime, timedelta\n",
    "from dateutil.relativedelta import relativedelta\n",
    "from pyspark.sql.types import IntegerType, DateType, ArrayType, StringType, FloatType, TimestampType\n"
   ]
  },
  {
   "cell_type": "code",
   "execution_count": 3,
   "id": "middle-maldives",
   "metadata": {},
   "outputs": [],
   "source": [
    "from project.blocks.ayan_spark_blocks import MercStatic\n",
    "from project.blocks.ayan_spark_blocks import ReadCsvProjectSpace\n",
    "from project.blocks.ayan_spark_blocks import TranCityTS\n",
    "from project.blocks.ayan_spark_blocks import TranTypeTS\n",
    "from project.blocks.ayan_spark_blocks import NonSparkPath\n",
    "from project.blocks.ayan_spark_blocks import CustStatic\n",
    "from project.blocks.ayan_spark_blocks import ProdTypeTS\n",
    "from project.blocks.ayan_spark_blocks import CustMercTS\n",
    "from project.blocks.ayan_spark_blocks import DropDuplicates\n",
    "from project.blocks.ayan_spark_blocks import SparkConcat"
   ]
  },
  {
   "cell_type": "code",
   "execution_count": 4,
   "id": "global-jewel",
   "metadata": {},
   "outputs": [],
   "source": [
    "import os\n",
    "\n",
    "os.environ[\"PYTHONPATH\"] = \"/usr/local/bin/python:/home/aios/published-packages/\""
   ]
  },
  {
   "cell_type": "code",
   "execution_count": 5,
   "id": "temporal-bruce",
   "metadata": {},
   "outputs": [],
   "source": [
    "# def project_space_path(path):\n",
    "#     ps = api.datasources('Project Space')\n",
    "#     return os.path.join(ps.abspath(), path)\n"
   ]
  },
  {
   "cell_type": "code",
   "execution_count": 6,
   "id": "empirical-chancellor",
   "metadata": {},
   "outputs": [],
   "source": [
    "nsp = NonSparkPath(ip_path='customer_data.csv')"
   ]
  },
  {
   "cell_type": "code",
   "execution_count": 7,
   "id": "dental-messaging",
   "metadata": {},
   "outputs": [],
   "source": [
    "rcp = ReadCsvProjectSpace(filename = nsp.op_path, config={}, source=\"\")\n",
    "rcp.executor = SparkExecutor"
   ]
  },
  {
   "cell_type": "code",
   "execution_count": 8,
   "id": "understanding-province",
   "metadata": {},
   "outputs": [],
   "source": [
    "cs = CustStatic(ip_data = rcp.data, config={}, source=\"\")\n",
    "cs.executor = SparkExecutor"
   ]
  },
  {
   "cell_type": "code",
   "execution_count": 9,
   "id": "forward-pearl",
   "metadata": {},
   "outputs": [],
   "source": [
    "drp = DropDuplicates(ip_data = cs.customer_static, config={}, source=\"\")\n",
    "drp.executor = SparkExecutor"
   ]
  },
  {
   "cell_type": "code",
   "execution_count": 10,
   "id": "current-northwest",
   "metadata": {},
   "outputs": [],
   "source": [
    "ms = MercStatic(ip_data = rcp.data, config={}, source=\"\")\n",
    "ms.executor = SparkExecutor"
   ]
  },
  {
   "cell_type": "code",
   "execution_count": 11,
   "id": "swiss-sheep",
   "metadata": {},
   "outputs": [],
   "source": [
    "cm_ts = CustMercTS(ip_data = rcp.data, config={}, source=\"\")\n",
    "cm_ts.executor = SparkExecutor"
   ]
  },
  {
   "cell_type": "code",
   "execution_count": 12,
   "id": "laughing-shade",
   "metadata": {},
   "outputs": [],
   "source": [
    "pt_ts = ProdTypeTS(ip_data = rcp.data, config={}, source=\"\")\n",
    "pt_ts.executor = SparkExecutor"
   ]
  },
  {
   "cell_type": "code",
   "execution_count": 13,
   "id": "boring-hardware",
   "metadata": {},
   "outputs": [],
   "source": [
    "tc_ts = TranCityTS(ip_data = rcp.data, config={}, source=\"\")\n",
    "tc_ts.executor = SparkExecutor"
   ]
  },
  {
   "cell_type": "code",
   "execution_count": 14,
   "id": "transsexual-scholarship",
   "metadata": {},
   "outputs": [],
   "source": [
    "tt_ts = TranTypeTS(ip_data = rcp.data, config={}, source=\"\")\n",
    "tt_ts.executor = SparkExecutor"
   ]
  },
  {
   "cell_type": "code",
   "execution_count": 15,
   "id": "talented-fiber",
   "metadata": {},
   "outputs": [],
   "source": [
    "merged_cust = SparkConcat(df1=cm_ts.customer_ts, df2=cs.customer_static, cols=[\"card_number\",\"customer_name\"])\n",
    "merged_merc = SparkConcat(df1=cm_ts.merchant_ts, df2=ms.merchant_static, cols=[\"merchant_id\",\"merchant_city\",\"merchant_state\"])\n"
   ]
  },
  {
   "cell_type": "code",
   "execution_count": 16,
   "id": "communist-foster",
   "metadata": {},
   "outputs": [],
   "source": [
    "pipe = rf.Pipeline('temp', targets = [merged_cust, merged_merc, pt_ts, tc_ts, tt_ts])"
   ]
  },
  {
   "cell_type": "code",
   "execution_count": 17,
   "id": "reverse-lesbian",
   "metadata": {},
   "outputs": [
    {
     "data": {
      "application/vnd.razorthink.interactive+pipeline+view+json": {
       "blocks": [
        {
         "class_name": "ProdTypeTS",
         "fullname": "razor.project.blocks.ayan_spark_blocks.ProdTypeTS",
         "id": "ddea124a-a3b9-477e-9cce-5f7a6ce42aec",
         "inputs": [
          {
           "dataType": null,
           "default": null,
           "flow": "atomic",
           "help": null,
           "isdict": false,
           "islist": false,
           "label": "ip_data",
           "meta": {},
           "name": "ip_data",
           "series": false,
           "type": "DataFrame",
           "type_check": true
          },
          {
           "dataType": "dict",
           "default": {},
           "flow": "atomic",
           "help": null,
           "isdict": false,
           "islist": false,
           "label": "config",
           "meta": {},
           "name": "config",
           "series": false,
           "type": "dict",
           "type_check": true
          },
          {
           "dataType": "string",
           "default": "",
           "flow": "atomic",
           "help": null,
           "isdict": false,
           "islist": false,
           "label": "source",
           "meta": {},
           "name": "source",
           "series": false,
           "type": "str",
           "type_check": true
          }
         ],
         "outputs": [
          {
           "flow": "atomic",
           "help": null,
           "label": "prod_type_ts",
           "meta": {},
           "name": "prod_type_ts",
           "series": false,
           "type": "DataFrame",
           "type_check": true
          }
         ],
         "overwritten": false,
         "published": true,
         "var_names": [
          "ProdTypeTS"
         ]
        },
        {
         "class_name": "MercStatic",
         "fullname": "razor.project.blocks.ayan_spark_blocks.MercStatic",
         "id": "d32a16bd-3126-40fb-84c0-2642326e56a5",
         "inputs": [
          {
           "dataType": null,
           "default": null,
           "flow": "atomic",
           "help": null,
           "isdict": false,
           "islist": false,
           "label": "ip_data",
           "meta": {},
           "name": "ip_data",
           "series": false,
           "type": "DataFrame",
           "type_check": true
          },
          {
           "dataType": "dict",
           "default": {},
           "flow": "atomic",
           "help": null,
           "isdict": false,
           "islist": false,
           "label": "config",
           "meta": {},
           "name": "config",
           "series": false,
           "type": "dict",
           "type_check": true
          },
          {
           "dataType": "string",
           "default": "",
           "flow": "atomic",
           "help": null,
           "isdict": false,
           "islist": false,
           "label": "source",
           "meta": {},
           "name": "source",
           "series": false,
           "type": "str",
           "type_check": true
          }
         ],
         "outputs": [
          {
           "flow": "atomic",
           "help": null,
           "label": "merchant_static",
           "meta": {},
           "name": "merchant_static",
           "series": false,
           "type": "DataFrame",
           "type_check": true
          }
         ],
         "overwritten": false,
         "published": true,
         "var_names": [
          "MercStatic"
         ]
        },
        {
         "class_name": "NonSparkPath",
         "fullname": "razor.project.blocks.ayan_spark_blocks.NonSparkPath",
         "id": "40f11a17-4c17-4ccb-8c66-7197bbacd6d9",
         "inputs": [
          {
           "dataType": "string",
           "default": "",
           "flow": "atomic",
           "help": null,
           "isdict": false,
           "islist": false,
           "label": "ip_path",
           "meta": {},
           "name": "ip_path",
           "series": false,
           "type": "str",
           "type_check": true
          }
         ],
         "outputs": [
          {
           "flow": "atomic",
           "help": null,
           "label": "op_path",
           "meta": {},
           "name": "op_path",
           "series": false,
           "type": "str",
           "type_check": true
          }
         ],
         "overwritten": false,
         "published": true,
         "var_names": [
          "NonSparkPath"
         ]
        },
        {
         "class_name": "SparkConcat",
         "fullname": "razor.project.blocks.ayan_spark_blocks.SparkConcat",
         "id": "9f461516-593b-460f-b646-0a4590e344d3",
         "inputs": [
          {
           "dataType": null,
           "default": null,
           "flow": "atomic",
           "help": null,
           "isdict": false,
           "islist": false,
           "label": "df1",
           "meta": {},
           "name": "df1",
           "series": false,
           "type": "DataFrame",
           "type_check": true
          },
          {
           "dataType": null,
           "default": null,
           "flow": "atomic",
           "help": null,
           "isdict": false,
           "islist": false,
           "label": "df2",
           "meta": {},
           "name": "df2",
           "series": false,
           "type": "DataFrame",
           "type_check": true
          },
          {
           "dataType": "list",
           "default": [],
           "flow": "atomic",
           "help": null,
           "isdict": false,
           "islist": false,
           "label": "cols",
           "meta": {},
           "name": "cols",
           "series": false,
           "type": "list",
           "type_check": true
          },
          {
           "dataType": "dict",
           "default": {},
           "flow": "atomic",
           "help": null,
           "isdict": false,
           "islist": false,
           "label": "config",
           "meta": {},
           "name": "config",
           "series": false,
           "type": "dict",
           "type_check": true
          },
          {
           "dataType": "string",
           "default": "",
           "flow": "atomic",
           "help": null,
           "isdict": false,
           "islist": false,
           "label": "source",
           "meta": {},
           "name": "source",
           "series": false,
           "type": "str",
           "type_check": true
          }
         ],
         "outputs": [
          {
           "flow": "atomic",
           "help": null,
           "label": "op_df",
           "meta": {},
           "name": "op_df",
           "series": false,
           "type": "DataFrame",
           "type_check": true
          }
         ],
         "overwritten": false,
         "published": true,
         "var_names": [
          "SparkConcat"
         ]
        },
        {
         "class_name": "ReadCsvProjectSpace",
         "fullname": "razor.project.blocks.ayan_spark_blocks.ReadCsvProjectSpace",
         "id": "e49699bc-1992-4fd1-9cc7-d95f2bfc3da0",
         "inputs": [
          {
           "dataType": "string",
           "default": "",
           "flow": "atomic",
           "help": null,
           "isdict": false,
           "islist": false,
           "label": "filename",
           "meta": {},
           "name": "filename",
           "series": false,
           "type": "str",
           "type_check": true
          },
          {
           "dataType": "dict",
           "default": {},
           "flow": "atomic",
           "help": null,
           "isdict": false,
           "islist": false,
           "label": "config",
           "meta": {},
           "name": "config",
           "series": false,
           "type": "dict",
           "type_check": true
          },
          {
           "dataType": "string",
           "default": "",
           "flow": "atomic",
           "help": null,
           "isdict": false,
           "islist": false,
           "label": "source",
           "meta": {},
           "name": "source",
           "series": false,
           "type": "str",
           "type_check": true
          }
         ],
         "outputs": [
          {
           "flow": "atomic",
           "help": null,
           "label": "data",
           "meta": {},
           "name": "data",
           "series": false,
           "type": "DataFrame",
           "type_check": true
          }
         ],
         "overwritten": false,
         "published": true,
         "var_names": [
          "ReadCsvProjectSpace"
         ]
        },
        {
         "class_name": "TranTypeTS",
         "fullname": "razor.project.blocks.ayan_spark_blocks.TranTypeTS",
         "id": "4e47556d-83b9-4136-8666-693982d29e60",
         "inputs": [
          {
           "dataType": null,
           "default": null,
           "flow": "atomic",
           "help": null,
           "isdict": false,
           "islist": false,
           "label": "ip_data",
           "meta": {},
           "name": "ip_data",
           "series": false,
           "type": "DataFrame",
           "type_check": true
          },
          {
           "dataType": "dict",
           "default": {},
           "flow": "atomic",
           "help": null,
           "isdict": false,
           "islist": false,
           "label": "config",
           "meta": {},
           "name": "config",
           "series": false,
           "type": "dict",
           "type_check": true
          },
          {
           "dataType": "string",
           "default": "",
           "flow": "atomic",
           "help": null,
           "isdict": false,
           "islist": false,
           "label": "source",
           "meta": {},
           "name": "source",
           "series": false,
           "type": "str",
           "type_check": true
          }
         ],
         "outputs": [
          {
           "flow": "atomic",
           "help": null,
           "label": "tran_type_ts",
           "meta": {},
           "name": "tran_type_ts",
           "series": false,
           "type": "DataFrame",
           "type_check": true
          }
         ],
         "overwritten": false,
         "published": true,
         "var_names": [
          "TranTypeTS"
         ]
        },
        {
         "class_name": "CustStatic",
         "fullname": "razor.project.blocks.ayan_spark_blocks.CustStatic",
         "id": "2187d042-7ea9-48b1-8fac-56131e450954",
         "inputs": [
          {
           "dataType": null,
           "default": null,
           "flow": "atomic",
           "help": null,
           "isdict": false,
           "islist": false,
           "label": "ip_data",
           "meta": {},
           "name": "ip_data",
           "series": false,
           "type": "DataFrame",
           "type_check": true
          },
          {
           "dataType": "dict",
           "default": {},
           "flow": "atomic",
           "help": null,
           "isdict": false,
           "islist": false,
           "label": "config",
           "meta": {},
           "name": "config",
           "series": false,
           "type": "dict",
           "type_check": true
          },
          {
           "dataType": "string",
           "default": "",
           "flow": "atomic",
           "help": null,
           "isdict": false,
           "islist": false,
           "label": "source",
           "meta": {},
           "name": "source",
           "series": false,
           "type": "str",
           "type_check": true
          }
         ],
         "outputs": [
          {
           "flow": "atomic",
           "help": null,
           "label": "customer_static",
           "meta": {},
           "name": "customer_static",
           "series": false,
           "type": "DataFrame",
           "type_check": true
          }
         ],
         "overwritten": false,
         "published": true,
         "var_names": [
          "CustStatic"
         ]
        },
        {
         "class_name": "TranCityTS",
         "fullname": "razor.project.blocks.ayan_spark_blocks.TranCityTS",
         "id": "d956ba0b-3b8d-4e84-b72c-08aa3fa51a8e",
         "inputs": [
          {
           "dataType": null,
           "default": null,
           "flow": "atomic",
           "help": null,
           "isdict": false,
           "islist": false,
           "label": "ip_data",
           "meta": {},
           "name": "ip_data",
           "series": false,
           "type": "DataFrame",
           "type_check": true
          },
          {
           "dataType": "dict",
           "default": {},
           "flow": "atomic",
           "help": null,
           "isdict": false,
           "islist": false,
           "label": "config",
           "meta": {},
           "name": "config",
           "series": false,
           "type": "dict",
           "type_check": true
          },
          {
           "dataType": "string",
           "default": "",
           "flow": "atomic",
           "help": null,
           "isdict": false,
           "islist": false,
           "label": "source",
           "meta": {},
           "name": "source",
           "series": false,
           "type": "str",
           "type_check": true
          }
         ],
         "outputs": [
          {
           "flow": "atomic",
           "help": null,
           "label": "tran_city_ts",
           "meta": {},
           "name": "tran_city_ts",
           "series": false,
           "type": "DataFrame",
           "type_check": true
          }
         ],
         "overwritten": false,
         "published": true,
         "var_names": [
          "TranCityTS"
         ]
        },
        {
         "class_name": "CustMercTS",
         "fullname": "razor.project.blocks.ayan_spark_blocks.CustMercTS",
         "id": "36887bbd-c00b-43b3-b7b9-173f6cd5b5c0",
         "inputs": [
          {
           "dataType": null,
           "default": null,
           "flow": "atomic",
           "help": null,
           "isdict": false,
           "islist": false,
           "label": "ip_data",
           "meta": {},
           "name": "ip_data",
           "series": false,
           "type": "DataFrame",
           "type_check": true
          },
          {
           "dataType": "dict",
           "default": {},
           "flow": "atomic",
           "help": null,
           "isdict": false,
           "islist": false,
           "label": "config",
           "meta": {},
           "name": "config",
           "series": false,
           "type": "dict",
           "type_check": true
          },
          {
           "dataType": "string",
           "default": "",
           "flow": "atomic",
           "help": null,
           "isdict": false,
           "islist": false,
           "label": "source",
           "meta": {},
           "name": "source",
           "series": false,
           "type": "str",
           "type_check": true
          }
         ],
         "outputs": [
          {
           "flow": "atomic",
           "help": null,
           "label": "customer_ts",
           "meta": {},
           "name": "customer_ts",
           "series": false,
           "type": "DataFrame",
           "type_check": true
          },
          {
           "flow": "atomic",
           "help": null,
           "label": "merchant_ts",
           "meta": {},
           "name": "merchant_ts",
           "series": false,
           "type": "DataFrame",
           "type_check": true
          }
         ],
         "overwritten": false,
         "published": true,
         "var_names": [
          "CustMercTS"
         ]
        }
       ],
       "connections": [
        {
         "id": "b77addc6-e241-430d-8dc2-e8a495095f93",
         "source": {
          "adapter": false,
          "instance_id": "3a37e86d-8c97-4417-ac71-c0987f39af9f",
          "name": "customer_static"
         },
         "target": {
          "adapter": false,
          "instance_id": "f272e096-c9cd-4a3b-b30a-eea2166b6cce",
          "name": "df2"
         }
        },
        {
         "id": "09e37e05-a7d2-4d5f-8ab0-b6b3ccd7efb8",
         "source": {
          "adapter": false,
          "instance_id": "79e33ac7-f8b4-43c8-ac20-7970a16a1ba5",
          "name": "data"
         },
         "target": {
          "adapter": false,
          "instance_id": "a2dc4360-9430-4029-8dfe-ff2236a9a393",
          "name": "ip_data"
         }
        },
        {
         "id": "ec480dbe-df56-4ce7-8003-1b705d7124f3",
         "source": {
          "adapter": false,
          "instance_id": "79e33ac7-f8b4-43c8-ac20-7970a16a1ba5",
          "name": "data"
         },
         "target": {
          "adapter": false,
          "instance_id": "979b0daa-3b01-4996-ac13-93a32592ac3a",
          "name": "ip_data"
         }
        },
        {
         "id": "c2d76f60-49c4-4bee-9877-6952305e5939",
         "source": {
          "adapter": false,
          "instance_id": "a2dc4360-9430-4029-8dfe-ff2236a9a393",
          "name": "customer_ts"
         },
         "target": {
          "adapter": false,
          "instance_id": "f272e096-c9cd-4a3b-b30a-eea2166b6cce",
          "name": "df1"
         }
        },
        {
         "id": "f78e7be4-6e12-4653-ae71-74e20c13f53a",
         "source": {
          "adapter": false,
          "instance_id": "79e33ac7-f8b4-43c8-ac20-7970a16a1ba5",
          "name": "data"
         },
         "target": {
          "adapter": false,
          "instance_id": "6fb07de5-65b3-4059-9839-17b9c0950520",
          "name": "ip_data"
         }
        },
        {
         "id": "1194c805-9d28-476e-bf22-523fb3636699",
         "source": {
          "adapter": false,
          "instance_id": "79e33ac7-f8b4-43c8-ac20-7970a16a1ba5",
          "name": "data"
         },
         "target": {
          "adapter": false,
          "instance_id": "a0466655-6321-43b4-a823-70d89ad175a4",
          "name": "ip_data"
         }
        },
        {
         "id": "6fd8d267-c821-4427-a4e6-eb535b548bbc",
         "source": {
          "adapter": false,
          "instance_id": "79e33ac7-f8b4-43c8-ac20-7970a16a1ba5",
          "name": "data"
         },
         "target": {
          "adapter": false,
          "instance_id": "d2d70050-8985-4ee5-a78b-69c95cc2a870",
          "name": "ip_data"
         }
        },
        {
         "id": "1599da3f-4fb9-44a5-ab92-fefb7850b424",
         "source": {
          "adapter": false,
          "instance_id": "d2d70050-8985-4ee5-a78b-69c95cc2a870",
          "name": "merchant_static"
         },
         "target": {
          "adapter": false,
          "instance_id": "136c99f5-2b8c-45d8-aaa2-caa28f5da879",
          "name": "df2"
         }
        },
        {
         "id": "567769af-b9fd-44ca-a00f-242d4ac6fb71",
         "source": {
          "adapter": false,
          "instance_id": "d02807bc-d1fa-4be4-b4af-19bdfb575734",
          "name": "op_path"
         },
         "target": {
          "adapter": false,
          "instance_id": "79e33ac7-f8b4-43c8-ac20-7970a16a1ba5",
          "name": "filename"
         }
        },
        {
         "id": "350b241e-3623-4764-a93f-3e2973a12b4b",
         "source": {
          "adapter": false,
          "instance_id": "79e33ac7-f8b4-43c8-ac20-7970a16a1ba5",
          "name": "data"
         },
         "target": {
          "adapter": false,
          "instance_id": "3a37e86d-8c97-4417-ac71-c0987f39af9f",
          "name": "ip_data"
         }
        },
        {
         "id": "dd656b1a-6468-4d97-968f-e95c50d3246a",
         "source": {
          "adapter": false,
          "instance_id": "a2dc4360-9430-4029-8dfe-ff2236a9a393",
          "name": "merchant_ts"
         },
         "target": {
          "adapter": false,
          "instance_id": "136c99f5-2b8c-45d8-aaa2-caa28f5da879",
          "name": "df1"
         }
        }
       ],
       "id": "3de8d9c5-1eb3-48dd-8f75-a8da9ec85a4e",
       "instances": [
        {
         "block_class": "9f461516-593b-460f-b646-0a4590e344d3",
         "id": "f272e096-c9cd-4a3b-b30a-eea2166b6cce",
         "name": "SparkConcat_1",
         "var_names": [
          "merged_cust"
         ]
        },
        {
         "block_class": "36887bbd-c00b-43b3-b7b9-173f6cd5b5c0",
         "id": "a2dc4360-9430-4029-8dfe-ff2236a9a393",
         "name": "CustMercTS_1",
         "var_names": [
          "cm_ts"
         ]
        },
        {
         "block_class": "e49699bc-1992-4fd1-9cc7-d95f2bfc3da0",
         "id": "79e33ac7-f8b4-43c8-ac20-7970a16a1ba5",
         "name": "ReadCsvProjectSpace_1",
         "var_names": [
          "rcp"
         ]
        },
        {
         "block_class": "40f11a17-4c17-4ccb-8c66-7197bbacd6d9",
         "id": "d02807bc-d1fa-4be4-b4af-19bdfb575734",
         "name": "NonSparkPath_1",
         "var_names": [
          "nsp"
         ]
        },
        {
         "block_class": "2187d042-7ea9-48b1-8fac-56131e450954",
         "id": "3a37e86d-8c97-4417-ac71-c0987f39af9f",
         "name": "CustStatic_1",
         "var_names": [
          "cs"
         ]
        },
        {
         "block_class": "9f461516-593b-460f-b646-0a4590e344d3",
         "id": "136c99f5-2b8c-45d8-aaa2-caa28f5da879",
         "name": "SparkConcat_2",
         "var_names": [
          "merged_merc"
         ]
        },
        {
         "block_class": "d32a16bd-3126-40fb-84c0-2642326e56a5",
         "id": "d2d70050-8985-4ee5-a78b-69c95cc2a870",
         "name": "MercStatic_1",
         "var_names": [
          "ms"
         ]
        },
        {
         "block_class": "ddea124a-a3b9-477e-9cce-5f7a6ce42aec",
         "id": "979b0daa-3b01-4996-ac13-93a32592ac3a",
         "name": "ProdTypeTS_1",
         "var_names": [
          "pt_ts"
         ]
        },
        {
         "block_class": "d956ba0b-3b8d-4e84-b72c-08aa3fa51a8e",
         "id": "a0466655-6321-43b4-a823-70d89ad175a4",
         "name": "TranCityTS_1",
         "var_names": [
          "tc_ts"
         ]
        },
        {
         "block_class": "4e47556d-83b9-4136-8666-693982d29e60",
         "id": "6fb07de5-65b3-4059-9839-17b9c0950520",
         "name": "TranTypeTS_1",
         "var_names": [
          "tt_ts"
         ]
        }
       ],
       "name": "temp",
       "var_names": []
      },
      "image/svg+xml": [
       "<?xml version=\"1.0\" encoding=\"UTF-8\" standalone=\"no\"?>\n",
       "<!DOCTYPE svg PUBLIC \"-//W3C//DTD SVG 1.1//EN\"\n",
       " \"http://www.w3.org/Graphics/SVG/1.1/DTD/svg11.dtd\">\n",
       "<!-- Generated by graphviz version 2.43.0 (0)\n",
       " -->\n",
       "<!-- Title: %3 Pages: 1 -->\n",
       "<svg width=\"1148pt\" height=\"293pt\"\n",
       " viewBox=\"0.00 0.00 1148.30 293.00\" xmlns=\"http://www.w3.org/2000/svg\" xmlns:xlink=\"http://www.w3.org/1999/xlink\">\n",
       "<g id=\"graph0\" class=\"graph\" transform=\"scale(1 1) rotate(0) translate(4 289)\">\n",
       "<title>%3</title>\n",
       "<polygon fill=\"white\" stroke=\"transparent\" points=\"-4,4 -4,-289 1144.3,-289 1144.3,4 -4,4\"/>\n",
       "<!-- SparkConcat(&#39;SparkConcat_1&#39;) -->\n",
       "<g id=\"node1\" class=\"node\">\n",
       "<title>SparkConcat(&#39;SparkConcat_1&#39;)</title>\n",
       "<ellipse fill=\"none\" stroke=\"black\" cx=\"183.41\" cy=\"-18\" rx=\"96.58\" ry=\"18\"/>\n",
       "<text text-anchor=\"middle\" x=\"183.41\" y=\"-15.5\" font-family=\"Helvetica,sans-Serif\" font-size=\"10.00\">SparkConcat(&#39;SparkConcat_1&#39;)</text>\n",
       "</g>\n",
       "<!-- CustMercTS(&#39;CustMercTS_1&#39;) -->\n",
       "<g id=\"node2\" class=\"node\">\n",
       "<title>CustMercTS(&#39;CustMercTS_1&#39;)</title>\n",
       "<ellipse fill=\"none\" stroke=\"black\" cx=\"275.41\" cy=\"-101\" rx=\"92.34\" ry=\"18\"/>\n",
       "<text text-anchor=\"middle\" x=\"275.41\" y=\"-98.5\" font-family=\"Helvetica,sans-Serif\" font-size=\"10.00\">CustMercTS(&#39;CustMercTS_1&#39;)</text>\n",
       "</g>\n",
       "<!-- CustMercTS(&#39;CustMercTS_1&#39;)&#45;&gt;SparkConcat(&#39;SparkConcat_1&#39;) -->\n",
       "<g id=\"edge1\" class=\"edge\">\n",
       "<title>CustMercTS(&#39;CustMercTS_1&#39;)&#45;&gt;SparkConcat(&#39;SparkConcat_1&#39;)</title>\n",
       "<path fill=\"none\" stroke=\"black\" d=\"M256.35,-83.22C243.03,-71.49 225.05,-55.66 210.28,-42.65\"/>\n",
       "<polygon fill=\"black\" stroke=\"black\" points=\"212.27,-39.74 202.45,-35.76 207.64,-45 212.27,-39.74\"/>\n",
       "<text text-anchor=\"middle\" x=\"279.41\" y=\"-57\" font-family=\"Helvetica,sans-Serif\" font-size=\"10.00\">customer_ts&#45;&gt;df1</text>\n",
       "</g>\n",
       "<!-- SparkConcat(&#39;SparkConcat_2&#39;) -->\n",
       "<g id=\"node6\" class=\"node\">\n",
       "<title>SparkConcat(&#39;SparkConcat_2&#39;)</title>\n",
       "<ellipse fill=\"none\" stroke=\"black\" cx=\"408.41\" cy=\"-18\" rx=\"96.58\" ry=\"18\"/>\n",
       "<text text-anchor=\"middle\" x=\"408.41\" y=\"-15.5\" font-family=\"Helvetica,sans-Serif\" font-size=\"10.00\">SparkConcat(&#39;SparkConcat_2&#39;)</text>\n",
       "</g>\n",
       "<!-- CustMercTS(&#39;CustMercTS_1&#39;)&#45;&gt;SparkConcat(&#39;SparkConcat_2&#39;) -->\n",
       "<g id=\"edge2\" class=\"edge\">\n",
       "<title>CustMercTS(&#39;CustMercTS_1&#39;)&#45;&gt;SparkConcat(&#39;SparkConcat_2&#39;)</title>\n",
       "<path fill=\"none\" stroke=\"black\" d=\"M302.33,-83.61C322.61,-71.26 350.61,-54.2 372.76,-40.72\"/>\n",
       "<polygon fill=\"black\" stroke=\"black\" points=\"374.82,-43.56 381.54,-35.37 371.18,-37.58 374.82,-43.56\"/>\n",
       "<text text-anchor=\"middle\" x=\"394.91\" y=\"-57\" font-family=\"Helvetica,sans-Serif\" font-size=\"10.00\">merchant_ts&#45;&gt;df1</text>\n",
       "</g>\n",
       "<!-- ReadCsvProjectSpace(&#39;ReadCsvProjectSpace_1&#39;) -->\n",
       "<g id=\"node3\" class=\"node\">\n",
       "<title>ReadCsvProjectSpace(&#39;ReadCsvProjectSpace_1&#39;)</title>\n",
       "<ellipse fill=\"none\" stroke=\"black\" cx=\"616.41\" cy=\"-184\" rx=\"148.86\" ry=\"18\"/>\n",
       "<text text-anchor=\"middle\" x=\"616.41\" y=\"-181.5\" font-family=\"Helvetica,sans-Serif\" font-size=\"10.00\">ReadCsvProjectSpace(&#39;ReadCsvProjectSpace_1&#39;)</text>\n",
       "</g>\n",
       "<!-- ReadCsvProjectSpace(&#39;ReadCsvProjectSpace_1&#39;)&#45;&gt;CustMercTS(&#39;CustMercTS_1&#39;) -->\n",
       "<g id=\"edge3\" class=\"edge\">\n",
       "<title>ReadCsvProjectSpace(&#39;ReadCsvProjectSpace_1&#39;)&#45;&gt;CustMercTS(&#39;CustMercTS_1&#39;)</title>\n",
       "<path fill=\"none\" stroke=\"black\" d=\"M548.44,-167.97C521.34,-161.89 489.87,-154.73 461.41,-148 420.73,-138.38 375.16,-127.11 339.31,-118.14\"/>\n",
       "<polygon fill=\"black\" stroke=\"black\" points=\"340.02,-114.71 329.47,-115.68 338.32,-121.5 340.02,-114.71\"/>\n",
       "<text text-anchor=\"middle\" x=\"496.41\" y=\"-140\" font-family=\"Helvetica,sans-Serif\" font-size=\"10.00\">data&#45;&gt;ip_data</text>\n",
       "</g>\n",
       "<!-- CustStatic(&#39;CustStatic_1&#39;) -->\n",
       "<g id=\"node5\" class=\"node\">\n",
       "<title>CustStatic(&#39;CustStatic_1&#39;)</title>\n",
       "<ellipse fill=\"none\" stroke=\"black\" cx=\"82.41\" cy=\"-101\" rx=\"82.33\" ry=\"18\"/>\n",
       "<text text-anchor=\"middle\" x=\"82.41\" y=\"-98.5\" font-family=\"Helvetica,sans-Serif\" font-size=\"10.00\">CustStatic(&#39;CustStatic_1&#39;)</text>\n",
       "</g>\n",
       "<!-- ReadCsvProjectSpace(&#39;ReadCsvProjectSpace_1&#39;)&#45;&gt;CustStatic(&#39;CustStatic_1&#39;) -->\n",
       "<g id=\"edge4\" class=\"edge\">\n",
       "<title>ReadCsvProjectSpace(&#39;ReadCsvProjectSpace_1&#39;)&#45;&gt;CustStatic(&#39;CustStatic_1&#39;)</title>\n",
       "<path fill=\"none\" stroke=\"black\" d=\"M515.38,-170.75C464.87,-164.39 402.85,-156.25 347.41,-148 270.3,-136.52 251.19,-132.53 174.41,-119 167.37,-117.76 160.04,-116.44 152.71,-115.11\"/>\n",
       "<polygon fill=\"black\" stroke=\"black\" points=\"153.23,-111.65 142.76,-113.3 151.97,-118.54 153.23,-111.65\"/>\n",
       "<text text-anchor=\"middle\" x=\"382.41\" y=\"-140\" font-family=\"Helvetica,sans-Serif\" font-size=\"10.00\">data&#45;&gt;ip_data</text>\n",
       "</g>\n",
       "<!-- MercStatic(&#39;MercStatic_1&#39;) -->\n",
       "<g id=\"node7\" class=\"node\">\n",
       "<title>MercStatic(&#39;MercStatic_1&#39;)</title>\n",
       "<ellipse fill=\"none\" stroke=\"black\" cx=\"471.41\" cy=\"-101\" rx=\"85.21\" ry=\"18\"/>\n",
       "<text text-anchor=\"middle\" x=\"471.41\" y=\"-98.5\" font-family=\"Helvetica,sans-Serif\" font-size=\"10.00\">MercStatic(&#39;MercStatic_1&#39;)</text>\n",
       "</g>\n",
       "<!-- ReadCsvProjectSpace(&#39;ReadCsvProjectSpace_1&#39;)&#45;&gt;MercStatic(&#39;MercStatic_1&#39;) -->\n",
       "<g id=\"edge5\" class=\"edge\">\n",
       "<title>ReadCsvProjectSpace(&#39;ReadCsvProjectSpace_1&#39;)&#45;&gt;MercStatic(&#39;MercStatic_1&#39;)</title>\n",
       "<path fill=\"none\" stroke=\"black\" d=\"M586.37,-166.22C564.01,-153.73 533.33,-136.59 509.29,-123.16\"/>\n",
       "<polygon fill=\"black\" stroke=\"black\" points=\"510.87,-120.03 500.43,-118.21 507.45,-126.14 510.87,-120.03\"/>\n",
       "<text text-anchor=\"middle\" x=\"588.41\" y=\"-140\" font-family=\"Helvetica,sans-Serif\" font-size=\"10.00\">data&#45;&gt;ip_data</text>\n",
       "</g>\n",
       "<!-- ProdTypeTS(&#39;ProdTypeTS_1&#39;) -->\n",
       "<g id=\"node8\" class=\"node\">\n",
       "<title>ProdTypeTS(&#39;ProdTypeTS_1&#39;)</title>\n",
       "<ellipse fill=\"none\" stroke=\"black\" cx=\"665.41\" cy=\"-101\" rx=\"90.81\" ry=\"18\"/>\n",
       "<text text-anchor=\"middle\" x=\"665.41\" y=\"-98.5\" font-family=\"Helvetica,sans-Serif\" font-size=\"10.00\">ProdTypeTS(&#39;ProdTypeTS_1&#39;)</text>\n",
       "</g>\n",
       "<!-- ReadCsvProjectSpace(&#39;ReadCsvProjectSpace_1&#39;)&#45;&gt;ProdTypeTS(&#39;ProdTypeTS_1&#39;) -->\n",
       "<g id=\"edge6\" class=\"edge\">\n",
       "<title>ReadCsvProjectSpace(&#39;ReadCsvProjectSpace_1&#39;)&#45;&gt;ProdTypeTS(&#39;ProdTypeTS_1&#39;)</title>\n",
       "<path fill=\"none\" stroke=\"black\" d=\"M626.8,-165.82C633.5,-154.76 642.32,-140.18 649.84,-127.75\"/>\n",
       "<polygon fill=\"black\" stroke=\"black\" points=\"652.85,-129.52 655.04,-119.15 646.87,-125.9 652.85,-129.52\"/>\n",
       "<text text-anchor=\"middle\" x=\"679.41\" y=\"-140\" font-family=\"Helvetica,sans-Serif\" font-size=\"10.00\">data&#45;&gt;ip_data</text>\n",
       "</g>\n",
       "<!-- TranCityTS(&#39;TranCityTS_1&#39;) -->\n",
       "<g id=\"node9\" class=\"node\">\n",
       "<title>TranCityTS(&#39;TranCityTS_1&#39;)</title>\n",
       "<ellipse fill=\"none\" stroke=\"black\" cx=\"859.41\" cy=\"-101\" rx=\"85.21\" ry=\"18\"/>\n",
       "<text text-anchor=\"middle\" x=\"859.41\" y=\"-98.5\" font-family=\"Helvetica,sans-Serif\" font-size=\"10.00\">TranCityTS(&#39;TranCityTS_1&#39;)</text>\n",
       "</g>\n",
       "<!-- ReadCsvProjectSpace(&#39;ReadCsvProjectSpace_1&#39;)&#45;&gt;TranCityTS(&#39;TranCityTS_1&#39;) -->\n",
       "<g id=\"edge7\" class=\"edge\">\n",
       "<title>ReadCsvProjectSpace(&#39;ReadCsvProjectSpace_1&#39;)&#45;&gt;TranCityTS(&#39;TranCityTS_1&#39;)</title>\n",
       "<path fill=\"none\" stroke=\"black\" d=\"M664.71,-166.9C705.55,-153.29 763.97,-133.82 806.15,-119.75\"/>\n",
       "<polygon fill=\"black\" stroke=\"black\" points=\"807.31,-123.06 815.69,-116.57 805.1,-116.41 807.31,-123.06\"/>\n",
       "<text text-anchor=\"middle\" x=\"788.41\" y=\"-140\" font-family=\"Helvetica,sans-Serif\" font-size=\"10.00\">data&#45;&gt;ip_data</text>\n",
       "</g>\n",
       "<!-- TranTypeTS(&#39;TranTypeTS_1&#39;) -->\n",
       "<g id=\"node10\" class=\"node\">\n",
       "<title>TranTypeTS(&#39;TranTypeTS_1&#39;)</title>\n",
       "<ellipse fill=\"none\" stroke=\"black\" cx=\"1051.41\" cy=\"-101\" rx=\"88.78\" ry=\"18\"/>\n",
       "<text text-anchor=\"middle\" x=\"1051.41\" y=\"-98.5\" font-family=\"Helvetica,sans-Serif\" font-size=\"10.00\">TranTypeTS(&#39;TranTypeTS_1&#39;)</text>\n",
       "</g>\n",
       "<!-- ReadCsvProjectSpace(&#39;ReadCsvProjectSpace_1&#39;)&#45;&gt;TranTypeTS(&#39;TranTypeTS_1&#39;) -->\n",
       "<g id=\"edge8\" class=\"edge\">\n",
       "<title>ReadCsvProjectSpace(&#39;ReadCsvProjectSpace_1&#39;)&#45;&gt;TranTypeTS(&#39;TranTypeTS_1&#39;)</title>\n",
       "<path fill=\"none\" stroke=\"black\" d=\"M703.29,-169.35C741.43,-163.17 786.7,-155.55 827.41,-148 879.85,-138.27 938.94,-126.08 983.26,-116.7\"/>\n",
       "<polygon fill=\"black\" stroke=\"black\" points=\"983.99,-120.12 993.05,-114.62 982.54,-113.27 983.99,-120.12\"/>\n",
       "<text text-anchor=\"middle\" x=\"918.41\" y=\"-140\" font-family=\"Helvetica,sans-Serif\" font-size=\"10.00\">data&#45;&gt;ip_data</text>\n",
       "</g>\n",
       "<!-- NonSparkPath(&#39;NonSparkPath_1&#39;) -->\n",
       "<g id=\"node4\" class=\"node\">\n",
       "<title>NonSparkPath(&#39;NonSparkPath_1&#39;)</title>\n",
       "<ellipse fill=\"none\" stroke=\"black\" cx=\"616.41\" cy=\"-267\" rx=\"104.56\" ry=\"18\"/>\n",
       "<text text-anchor=\"middle\" x=\"616.41\" y=\"-264.5\" font-family=\"Helvetica,sans-Serif\" font-size=\"10.00\">NonSparkPath(&#39;NonSparkPath_1&#39;)</text>\n",
       "</g>\n",
       "<!-- NonSparkPath(&#39;NonSparkPath_1&#39;)&#45;&gt;ReadCsvProjectSpace(&#39;ReadCsvProjectSpace_1&#39;) -->\n",
       "<g id=\"edge9\" class=\"edge\">\n",
       "<title>NonSparkPath(&#39;NonSparkPath_1&#39;)&#45;&gt;ReadCsvProjectSpace(&#39;ReadCsvProjectSpace_1&#39;)</title>\n",
       "<path fill=\"none\" stroke=\"black\" d=\"M616.41,-248.82C616.41,-238.19 616.41,-224.31 616.41,-212.2\"/>\n",
       "<polygon fill=\"black\" stroke=\"black\" points=\"619.91,-212.15 616.41,-202.15 612.91,-212.15 619.91,-212.15\"/>\n",
       "<text text-anchor=\"middle\" x=\"663.41\" y=\"-223\" font-family=\"Helvetica,sans-Serif\" font-size=\"10.00\">op_path&#45;&gt;filename</text>\n",
       "</g>\n",
       "<!-- CustStatic(&#39;CustStatic_1&#39;)&#45;&gt;SparkConcat(&#39;SparkConcat_1&#39;) -->\n",
       "<g id=\"edge10\" class=\"edge\">\n",
       "<title>CustStatic(&#39;CustStatic_1&#39;)&#45;&gt;SparkConcat(&#39;SparkConcat_1&#39;)</title>\n",
       "<path fill=\"none\" stroke=\"black\" d=\"M91.63,-82.69C97.27,-73.32 105.17,-62.05 114.41,-54 120.75,-48.49 128.11,-43.58 135.61,-39.31\"/>\n",
       "<polygon fill=\"black\" stroke=\"black\" points=\"137.26,-42.39 144.43,-34.59 133.96,-36.22 137.26,-42.39\"/>\n",
       "<text text-anchor=\"middle\" x=\"167.41\" y=\"-57\" font-family=\"Helvetica,sans-Serif\" font-size=\"10.00\">customer_static&#45;&gt;df2</text>\n",
       "</g>\n",
       "<!-- MercStatic(&#39;MercStatic_1&#39;)&#45;&gt;SparkConcat(&#39;SparkConcat_2&#39;) -->\n",
       "<g id=\"edge11\" class=\"edge\">\n",
       "<title>MercStatic(&#39;MercStatic_1&#39;)&#45;&gt;SparkConcat(&#39;SparkConcat_2&#39;)</title>\n",
       "<path fill=\"none\" stroke=\"black\" d=\"M463.85,-83.01C459.42,-73.96 453.34,-62.89 446.41,-54 443.4,-50.14 439.94,-46.33 436.37,-42.73\"/>\n",
       "<polygon fill=\"black\" stroke=\"black\" points=\"438.62,-40.04 428.97,-35.68 433.8,-45.11 438.62,-40.04\"/>\n",
       "<text text-anchor=\"middle\" x=\"507.91\" y=\"-57\" font-family=\"Helvetica,sans-Serif\" font-size=\"10.00\">merchant_static&#45;&gt;df2</text>\n",
       "</g>\n",
       "</g>\n",
       "</svg>\n"
      ],
      "text/plain": [
       "<razor.flow.async_pipeline.Pipeline at 0x7f79fd9a3f90>"
      ]
     },
     "execution_count": 17,
     "metadata": {},
     "output_type": "execute_result"
    }
   ],
   "source": [
    "pipe"
   ]
  },
  {
   "cell_type": "code",
   "execution_count": 19,
   "id": "smart-harvard",
   "metadata": {},
   "outputs": [
    {
     "name": "stdout",
     "output_type": "stream",
     "text": [
      "log path: /tmp/tmp09d4ewba/temp\n"
     ]
    },
    {
     "data": {
      "application/vnd.razorthink.run+monitor+json": "/tmp/tmp09d4ewba/temp",
      "text/plain": [
       "<razor_tools.backend.ipython.mime.run_monitor.RunMonitor at 0x7f79fd819490>"
      ]
     },
     "metadata": {
      "application/vnd.razorthink.run+monitor+json": {
       "run_data": {
        "apm": [
         {
          "cpu_percent": 0,
          "cpu_time": 0.01,
          "name": "NonSparkPath_1",
          "real_mem": 158580736,
          "time": 1616759531.2970316
         },
         {
          "cpu_percent": 0,
          "cpu_time": 0.04,
          "name": "NonSparkPath_1",
          "real_mem": 158720000,
          "time": 1616759531.4099066
         },
         {
          "cpu_percent": 0,
          "cpu_time": 0.04,
          "name": "NonSparkPath_1",
          "real_mem": 158720000,
          "time": 1616759531.522143
         },
         {
          "cpu_percent": 0,
          "cpu_time": 0.06,
          "name": "NonSparkPath_1",
          "real_mem": 159141888,
          "time": 1616759531.6346905
         },
         {
          "cpu_percent": 0,
          "cpu_time": 0.06,
          "name": "NonSparkPath_1",
          "real_mem": 159141888,
          "time": 1616759531.7588725
         },
         {
          "cpu_percent": 0,
          "cpu_time": 0.06,
          "name": "NonSparkPath_1",
          "real_mem": 159141888,
          "time": 1616759531.8711815
         },
         {
          "cpu_percent": 0,
          "cpu_time": 0.06,
          "name": "NonSparkPath_1",
          "real_mem": 159141888,
          "time": 1616759531.9832892
         },
         {
          "cpu_percent": 0,
          "cpu_time": 0.02,
          "name": "CustMercTS_1",
          "real_mem": 159313920,
          "time": 1616759531.7137377
         },
         {
          "cpu_percent": 0,
          "cpu_time": 0.04,
          "name": "CustStatic_1",
          "real_mem": 159473664,
          "time": 1616759531.765407
         },
         {
          "cpu_percent": 0,
          "cpu_time": 0.05,
          "name": "TranCityTS_1",
          "real_mem": 159641600,
          "time": 1616759531.7872612
         },
         {
          "cpu_percent": 0,
          "cpu_time": 0.06,
          "name": "SparkConcat_1",
          "real_mem": 159764480,
          "time": 1616759531.8113558
         },
         {
          "cpu_percent": 0,
          "cpu_time": 0.08,
          "name": "ReadCsvProjectSpace_1",
          "real_mem": 159916032,
          "time": 1616759531.8648112
         },
         {
          "cpu_percent": 0,
          "cpu_time": 0.11,
          "name": "TranTypeTS_1",
          "real_mem": 160153600,
          "time": 1616759531.9111664
         },
         {
          "cpu_percent": 0,
          "cpu_time": 0.12,
          "name": "MercStatic_1",
          "real_mem": 160350208,
          "time": 1616759531.9618661
         },
         {
          "cpu_percent": 0,
          "cpu_time": 0.13,
          "name": "SparkConcat_2",
          "real_mem": 160382976,
          "time": 1616759531.9845212
         },
         {
          "cpu_percent": 0,
          "cpu_time": 0.09,
          "name": "ProdTypeTS_1",
          "real_mem": 159948800,
          "time": 1616759531.888652
         },
         {
          "cpu_percent": 0,
          "cpu_time": 0.13,
          "name": "CustMercTS_1",
          "real_mem": 160382976,
          "time": 1616759531.9974575
         },
         {
          "cpu_percent": 0,
          "cpu_time": 0.14,
          "name": "TranCityTS_1",
          "real_mem": 160382976,
          "time": 1616759532.0203412
         },
         {
          "cpu_percent": 0,
          "cpu_time": 0.13,
          "name": "CustStatic_1",
          "real_mem": 160382976,
          "time": 1616759532.0089004
         },
         {
          "cpu_percent": 0,
          "cpu_time": 0.14,
          "name": "SparkConcat_1",
          "real_mem": 160382976,
          "time": 1616759532.0315168
         },
         {
          "cpu_percent": 0,
          "cpu_time": 0.14,
          "name": "ReadCsvProjectSpace_1",
          "real_mem": 160382976,
          "time": 1616759532.0427654
         },
         {
          "cpu_percent": 0,
          "cpu_time": 0.15,
          "name": "ProdTypeTS_1",
          "real_mem": 160534528,
          "time": 1616759532.0570745
         },
         {
          "cpu_percent": 0,
          "cpu_time": 0.15,
          "name": "TranTypeTS_1",
          "real_mem": 160534528,
          "time": 1616759532.06821
         },
         {
          "cpu_percent": 0,
          "cpu_time": 0.15,
          "name": "MercStatic_1",
          "real_mem": 160534528,
          "time": 1616759532.0809057
         },
         {
          "cpu_percent": 0,
          "cpu_time": 0.18,
          "name": "SparkConcat_2",
          "real_mem": 161853440,
          "time": 1616759532.148737
         },
         {
          "cpu_percent": 0,
          "cpu_time": 0.2,
          "name": "CustMercTS_1",
          "real_mem": 165212160,
          "time": 1616759532.172941
         },
         {
          "cpu_percent": 0,
          "cpu_time": 0.21,
          "name": "CustStatic_1",
          "real_mem": 165212160,
          "time": 1616759532.194903
         },
         {
          "cpu_percent": 0,
          "cpu_time": 0.25,
          "name": "TranCityTS_1",
          "real_mem": 188379136,
          "time": 1616759532.2484071
         },
         {
          "cpu_percent": 293.9,
          "cpu_time": 0.32,
          "name": "SparkConcat_1",
          "real_mem": 191856640,
          "time": 1616759532.291721
         },
         {
          "cpu_percent": 97.4,
          "cpu_time": 0.4,
          "name": "ProdTypeTS_1",
          "real_mem": 206082048,
          "time": 1616759532.3929496
         },
         {
          "cpu_percent": 0,
          "cpu_time": 0.43,
          "name": "TranTypeTS_1",
          "real_mem": 213463040,
          "time": 1616759532.4362
         },
         {
          "cpu_percent": 97.1,
          "cpu_time": 0.26,
          "name": "CustMercTS_1",
          "real_mem": 180166656,
          "time": 1616759532.5695431
         },
         {
          "cpu_percent": 0,
          "cpu_time": 0.22999999999999998,
          "name": "SparkConcat_2",
          "real_mem": 165212160,
          "time": 1616759532.5128062
         },
         {
          "cpu_percent": 196.3,
          "cpu_time": 0.49,
          "name": "MercStatic_1",
          "real_mem": 216215552,
          "time": 1616759532.4798503
         },
         {
          "cpu_percent": 96.8,
          "cpu_time": 0.29000000000000004,
          "name": "CustStatic_1",
          "real_mem": 182530048,
          "time": 1616759532.5918567
         },
         {
          "cpu_percent": 97.6,
          "cpu_time": 0.31,
          "name": "TranCityTS_1",
          "real_mem": 183402496,
          "time": 1616759532.613765
         },
         {
          "cpu_percent": 0,
          "cpu_time": 0.36,
          "name": "ReadCsvProjectSpace_1",
          "real_mem": 198627328,
          "time": 1616759532.3484135
         },
         {
          "cpu_percent": 0,
          "cpu_time": 0.46,
          "name": "MercStatic_1",
          "real_mem": 207056896,
          "time": 1616759532.7702405
         },
         {
          "cpu_percent": 98.4,
          "cpu_time": 0.42000000000000004,
          "name": "ProdTypeTS_1",
          "real_mem": 196853760,
          "time": 1616759532.6922145
         },
         {
          "cpu_percent": 97.5,
          "cpu_time": 0.33,
          "name": "SparkConcat_1",
          "real_mem": 184213504,
          "time": 1616759532.637152
         },
         {
          "cpu_percent": 0,
          "cpu_time": 0.43000000000000005,
          "name": "TranTypeTS_1",
          "real_mem": 198750208,
          "time": 1616759532.7141778
         },
         {
          "cpu_percent": 196.9,
          "cpu_time": 0.51,
          "name": "SparkConcat_2",
          "real_mem": 212533248,
          "time": 1616759532.7919745
         },
         {
          "cpu_percent": 97.9,
          "cpu_time": 0.38,
          "name": "ReadCsvProjectSpace_1",
          "real_mem": 190820352,
          "time": 1616759532.6703305
         },
         {
          "cpu_percent": 295.3,
          "cpu_time": 0.7,
          "name": "ReadCsvProjectSpace_1",
          "real_mem": 225378304,
          "time": 1616759532.9925234
         },
         {
          "cpu_percent": 0,
          "cpu_time": 0.52,
          "name": "CustMercTS_1",
          "real_mem": 214441984,
          "time": 1616759532.815324
         },
         {
          "cpu_percent": 393.1,
          "cpu_time": 0.58,
          "name": "CustStatic_1",
          "real_mem": 217661440,
          "time": 1616759532.8702035
         },
         {
          "cpu_percent": 0,
          "cpu_time": 0.61,
          "name": "TranCityTS_1",
          "real_mem": 219283456,
          "time": 1616759532.8926783
         },
         {
          "cpu_percent": 98.8,
          "cpu_time": 0.6499999999999999,
          "name": "SparkConcat_1",
          "real_mem": 221163520,
          "time": 1616759532.9701786
         },
         {
          "cpu_percent": 197.8,
          "cpu_time": 0.74,
          "name": "ProdTypeTS_1",
          "real_mem": 227966976,
          "time": 1616759533.0592752
         },
         {
          "cpu_percent": 196.7,
          "cpu_time": 0.79,
          "name": "TranTypeTS_1",
          "real_mem": 230232064,
          "time": 1616759533.0818295
         },
         {
          "cpu_percent": 0,
          "cpu_time": 0.8,
          "name": "MercStatic_1",
          "real_mem": 230936576,
          "time": 1616759533.1041687
         },
         {
          "cpu_percent": 196.6,
          "cpu_time": 0.84,
          "name": "SparkConcat_2",
          "real_mem": 233222144,
          "time": 1616759533.1697552
         },
         {
          "cpu_percent": 98.5,
          "cpu_time": 0.87,
          "name": "CustMercTS_1",
          "real_mem": 236191744,
          "time": 1616759533.1917744
         },
         {
          "cpu_percent": 98.4,
          "cpu_time": 0.89,
          "name": "CustStatic_1",
          "real_mem": 242139136,
          "time": 1616759533.2135618
         },
         {
          "cpu_percent": 196.3,
          "cpu_time": 0.92,
          "name": "TranCityTS_1",
          "real_mem": 245112832,
          "time": 1616759533.2591834
         },
         {
          "cpu_percent": 195.1,
          "cpu_time": 0.95,
          "name": "SparkConcat_1",
          "real_mem": 246857728,
          "time": 1616759533.281381
         },
         {
          "cpu_percent": 295.2,
          "cpu_time": 0.99,
          "name": "ReadCsvProjectSpace_1",
          "real_mem": 247668736,
          "time": 1616759533.3035128
         },
         {
          "cpu_percent": 197.2,
          "cpu_time": 1.04,
          "name": "ProdTypeTS_1",
          "real_mem": 249016320,
          "time": 1616759533.3693655
         },
         {
          "cpu_percent": 295.2,
          "cpu_time": 1.1,
          "name": "TranTypeTS_1",
          "real_mem": 251486208,
          "time": 1616759533.3915246
         },
         {
          "cpu_percent": 98.3,
          "cpu_time": 1.12,
          "name": "MercStatic_1",
          "real_mem": 252567552,
          "time": 1616759533.4591827
         },
         {
          "cpu_percent": 295.7,
          "cpu_time": 1.1600000000000001,
          "name": "SparkConcat_2",
          "real_mem": 257163264,
          "time": 1616759533.4825833
         },
         {
          "cpu_percent": 98.3,
          "cpu_time": 1.1800000000000002,
          "name": "CustMercTS_1",
          "real_mem": 257699840,
          "time": 1616759533.5047464
         },
         {
          "cpu_percent": 98,
          "cpu_time": 1.21,
          "name": "TranCityTS_1",
          "real_mem": 258240512,
          "time": 1616759533.5704374
         },
         {
          "cpu_percent": 0,
          "cpu_time": 1.19,
          "name": "CustStatic_1",
          "real_mem": 257699840,
          "time": 1616759533.527017
         },
         {
          "cpu_percent": 98.5,
          "cpu_time": 1.25,
          "name": "SparkConcat_1",
          "real_mem": 258240512,
          "time": 1616759533.5924869
         },
         {
          "cpu_percent": 98.3,
          "cpu_time": 1.27,
          "name": "ReadCsvProjectSpace_1",
          "real_mem": 258699264,
          "time": 1616759533.6142664
         },
         {
          "cpu_percent": 0,
          "cpu_time": 1.28,
          "name": "ProdTypeTS_1",
          "real_mem": 258846720,
          "time": 1616759533.6484098
         },
         {
          "cpu_percent": 295.5,
          "cpu_time": 1.33,
          "name": "TranTypeTS_1",
          "real_mem": 259018752,
          "time": 1616759533.670307
         },
         {
          "cpu_percent": 98.4,
          "cpu_time": 1.36,
          "name": "MercStatic_1",
          "real_mem": 259284992,
          "time": 1616759533.6921735
         },
         {
          "cpu_percent": 98.7,
          "cpu_time": 1.3800000000000001,
          "name": "SparkConcat_2",
          "real_mem": 259637248,
          "time": 1616759533.714319
         },
         {
          "cpu_percent": 194.9,
          "cpu_time": 1.4100000000000001,
          "name": "CustMercTS_1",
          "real_mem": 259981312,
          "time": 1616759533.769873
         },
         {
          "cpu_percent": 0,
          "cpu_time": 1.47,
          "name": "TranCityTS_1",
          "real_mem": 260702208,
          "time": 1616759533.8146772
         },
         {
          "cpu_percent": 98,
          "cpu_time": 1.45,
          "name": "CustStatic_1",
          "real_mem": 260435968,
          "time": 1616759533.792872
         },
         {
          "cpu_percent": 196.4,
          "cpu_time": 1.52,
          "name": "SparkConcat_1",
          "real_mem": 261226496,
          "time": 1616759533.869864
         },
         {
          "cpu_percent": 196.7,
          "cpu_time": 1.56,
          "name": "ReadCsvProjectSpace_1",
          "real_mem": 261931008,
          "time": 1616759533.8918316
         },
         {
          "cpu_percent": 98.1,
          "cpu_time": 1.59,
          "name": "ProdTypeTS_1",
          "real_mem": 261509120,
          "time": 1616759533.970033
         },
         {
          "cpu_percent": 98.4,
          "cpu_time": 1.62,
          "name": "TranTypeTS_1",
          "real_mem": 272318464,
          "time": 1616759533.9933183
         },
         {
          "cpu_percent": 98.4,
          "cpu_time": 1.6500000000000001,
          "name": "MercStatic_1",
          "real_mem": 275042304,
          "time": 1616759534.015523
         },
         {
          "cpu_percent": 0,
          "cpu_time": 1.6700000000000002,
          "name": "SparkConcat_2",
          "real_mem": 275185664,
          "time": 1616759534.0372572
         },
         {
          "cpu_percent": 98.4,
          "cpu_time": 1.7,
          "name": "CustMercTS_1",
          "real_mem": 275808256,
          "time": 1616759534.070192
         },
         {
          "cpu_percent": 98.3,
          "cpu_time": 1.73,
          "name": "CustStatic_1",
          "real_mem": 276160512,
          "time": 1616759534.0922062
         },
         {
          "cpu_percent": 96.6,
          "cpu_time": 1.75,
          "name": "TranCityTS_1",
          "real_mem": 277557248,
          "time": 1616759534.1141036
         },
         {
          "cpu_percent": 0,
          "cpu_time": 1.76,
          "name": "SparkConcat_1",
          "real_mem": 281071616,
          "time": 1616759534.148206
         },
         {
          "cpu_percent": 196.9,
          "cpu_time": 1.8,
          "name": "ReadCsvProjectSpace_1",
          "real_mem": 281722880,
          "time": 1616759534.1711612
         },
         {
          "cpu_percent": 98.2,
          "cpu_time": 1.84,
          "name": "ProdTypeTS_1",
          "real_mem": 282406912,
          "time": 1616759534.19784
         },
         {
          "cpu_percent": 197.3,
          "cpu_time": 1.8900000000000001,
          "name": "TranTypeTS_1",
          "real_mem": 283238400,
          "time": 1616759534.2707093
         },
         {
          "cpu_percent": 194.7,
          "cpu_time": 1.9300000000000002,
          "name": "MercStatic_1",
          "real_mem": 283369472,
          "time": 1616759534.2925313
         },
         {
          "cpu_percent": 0,
          "cpu_time": 1.9500000000000002,
          "name": "SparkConcat_2",
          "real_mem": 283697152,
          "time": 1616759534.3145506
         },
         {
          "cpu_percent": 98.3,
          "cpu_time": 1.98,
          "name": "CustMercTS_1",
          "real_mem": 284155904,
          "time": 1616759534.3697593
         },
         {
          "cpu_percent": 195.8,
          "cpu_time": 2.14,
          "name": "ProdTypeTS_1",
          "real_mem": 285847552,
          "time": 1616759534.548827
         },
         {
          "cpu_percent": 193.3,
          "cpu_time": 2.03,
          "name": "CustStatic_1",
          "real_mem": 284438528,
          "time": 1616759534.3920445
         },
         {
          "cpu_percent": 98.2,
          "cpu_time": 2.1,
          "name": "ReadCsvProjectSpace_1",
          "real_mem": 285364224,
          "time": 1616759534.4916265
         },
         {
          "cpu_percent": 195.7,
          "cpu_time": 2.08,
          "name": "SparkConcat_1",
          "real_mem": 285093888,
          "time": 1616759534.4698298
         },
         {
          "cpu_percent": 0,
          "cpu_time": 2.05,
          "name": "TranCityTS_1",
          "real_mem": 284598272,
          "time": 1616759534.4139113
         },
         {
          "cpu_percent": 98.1,
          "cpu_time": 2.18,
          "name": "TranTypeTS_1",
          "real_mem": 286375936,
          "time": 1616759534.5722115
         },
         {
          "cpu_percent": 196.4,
          "cpu_time": 2.22,
          "name": "MercStatic_1",
          "real_mem": 286744576,
          "time": 1616759534.5942008
         },
         {
          "cpu_percent": 98.4,
          "cpu_time": 2.27,
          "name": "SparkConcat_2",
          "real_mem": 287485952,
          "time": 1616759534.669892
         },
         {
          "cpu_percent": 98.2,
          "cpu_time": 2.3,
          "name": "CustMercTS_1",
          "real_mem": 287727616,
          "time": 1616759534.692156
         },
         {
          "cpu_percent": 44.9,
          "cpu_time": 2.33,
          "name": "CustStatic_1",
          "real_mem": 287866880,
          "time": 1616759534.7485547
         },
         {
          "cpu_percent": 196.5,
          "cpu_time": 2.37,
          "name": "TranCityTS_1",
          "real_mem": 288305152,
          "time": 1616759534.7706957
         },
         {
          "cpu_percent": 294.3,
          "cpu_time": 2.42,
          "name": "SparkConcat_1",
          "real_mem": 288845824,
          "time": 1616759534.7939618
         },
         {
          "cpu_percent": 98.6,
          "cpu_time": 2.4499999999999997,
          "name": "ReadCsvProjectSpace_1",
          "real_mem": 289247232,
          "time": 1616759534.8697
         },
         {
          "cpu_percent": 97.8,
          "cpu_time": 2.48,
          "name": "ProdTypeTS_1",
          "real_mem": 289660928,
          "time": 1616759534.8914843
         },
         {
          "cpu_percent": 98.5,
          "cpu_time": 2.5,
          "name": "TranTypeTS_1",
          "real_mem": 290283520,
          "time": 1616759534.9135516
         },
         {
          "cpu_percent": 0,
          "cpu_time": 2.52,
          "name": "MercStatic_1",
          "real_mem": 290594816,
          "time": 1616759534.9357202
         },
         {
          "cpu_percent": 295,
          "cpu_time": 2.57,
          "name": "SparkConcat_2",
          "real_mem": 290955264,
          "time": 1616759534.9701872
         },
         {
          "cpu_percent": 96.6,
          "cpu_time": 2.6,
          "name": "CustMercTS_1",
          "real_mem": 291250176,
          "time": 1616759534.994516
         },
         {
          "cpu_percent": 0,
          "cpu_time": 2.62,
          "name": "CustStatic_1",
          "real_mem": 291250176,
          "time": 1616759535.0167377
         },
         {
          "cpu_percent": 0,
          "cpu_time": 2.6399999999999997,
          "name": "TranCityTS_1",
          "real_mem": 291876864,
          "time": 1616759535.0707998
         },
         {
          "cpu_percent": 197,
          "cpu_time": 2.67,
          "name": "SparkConcat_1",
          "real_mem": 293044224,
          "time": 1616759535.0925102
         },
         {
          "cpu_percent": 98.3,
          "cpu_time": 2.69,
          "name": "ReadCsvProjectSpace_1",
          "real_mem": 293310464,
          "time": 1616759535.1145623
         },
         {
          "cpu_percent": 0,
          "cpu_time": 2.72,
          "name": "ProdTypeTS_1",
          "real_mem": 293380096,
          "time": 1616759535.1482592
         },
         {
          "cpu_percent": 98.3,
          "cpu_time": 2.79,
          "name": "SparkConcat_2",
          "real_mem": 294285312,
          "time": 1616759535.2145593
         },
         {
          "cpu_percent": 98.1,
          "cpu_time": 2.75,
          "name": "TranTypeTS_1",
          "real_mem": 293666816,
          "time": 1616759535.170689
         },
         {
          "cpu_percent": 98.1,
          "cpu_time": 2.77,
          "name": "MercStatic_1",
          "real_mem": 294203392,
          "time": 1616759535.1926944
         },
         {
          "cpu_percent": 281.7,
          "cpu_time": 2.85,
          "name": "CustMercTS_1",
          "real_mem": 294612992,
          "time": 1616759535.2737253
         },
         {
          "cpu_percent": 28,
          "cpu_time": 2.89,
          "name": "CustStatic_1",
          "real_mem": 294985728,
          "time": 1616759535.3584821
         },
         {
          "cpu_percent": 196.6,
          "cpu_time": 2.9299999999999997,
          "name": "TranCityTS_1",
          "real_mem": 295149568,
          "time": 1616759535.380422
         },
         {
          "cpu_percent": 232.2,
          "cpu_time": 2.98,
          "name": "SparkConcat_1",
          "real_mem": 295530496,
          "time": 1616759535.4054737
         },
         {
          "cpu_percent": 196.3,
          "cpu_time": 3.02,
          "name": "ReadCsvProjectSpace_1",
          "real_mem": 295866368,
          "time": 1616759535.4693851
         },
         {
          "cpu_percent": 196.3,
          "cpu_time": 3.05,
          "name": "ProdTypeTS_1",
          "real_mem": 296767488,
          "time": 1616759535.4913886
         },
         {
          "cpu_percent": 96.6,
          "cpu_time": 3.08,
          "name": "TranTypeTS_1",
          "real_mem": 297193472,
          "time": 1616759535.5138574
         },
         {
          "cpu_percent": 196.4,
          "cpu_time": 3.13,
          "name": "MercStatic_1",
          "real_mem": 298000384,
          "time": 1616759535.571881
         },
         {
          "cpu_percent": 191.5,
          "cpu_time": 3.17,
          "name": "SparkConcat_2",
          "real_mem": 298000384,
          "time": 1616759535.5973773
         },
         {
          "cpu_percent": 374,
          "cpu_time": 3.2399999999999998,
          "name": "CustMercTS_1",
          "real_mem": 298573824,
          "time": 1616759535.6705077
         },
         {
          "cpu_percent": 0,
          "cpu_time": 3.27,
          "name": "CustStatic_1",
          "real_mem": 298729472,
          "time": 1616759535.6933157
         },
         {
          "cpu_percent": 98.6,
          "cpu_time": 3.32,
          "name": "SparkConcat_1",
          "real_mem": 299368448,
          "time": 1616759535.7926812
         },
         {
          "cpu_percent": 98.6,
          "cpu_time": 3.3,
          "name": "TranCityTS_1",
          "real_mem": 299020288,
          "time": 1616759535.7708023
         },
         {
          "cpu_percent": 95.9,
          "cpu_time": 3.44,
          "name": "TranTypeTS_1",
          "real_mem": 299773952,
          "time": 1616759535.8930087
         },
         {
          "cpu_percent": 98.4,
          "cpu_time": 3.48,
          "name": "MercStatic_1",
          "real_mem": 300146688,
          "time": 1616759535.9698193
         },
         {
          "cpu_percent": 192.3,
          "cpu_time": 3.54,
          "name": "SparkConcat_2",
          "real_mem": 300933120,
          "time": 1616759535.992182
         },
         {
          "cpu_percent": 0,
          "cpu_time": 3.54,
          "name": "CustMercTS_1",
          "real_mem": 300974080,
          "time": 1616759536.0145483
         },
         {
          "cpu_percent": 0,
          "cpu_time": 3.54,
          "name": "CustStatic_1",
          "real_mem": 300974080,
          "time": 1616759536.0383115
         },
         {
          "cpu_percent": 46.6,
          "cpu_time": 3.3600000000000003,
          "name": "ReadCsvProjectSpace_1",
          "real_mem": 299368448,
          "time": 1616759535.848468
         },
         {
          "cpu_percent": 196.1,
          "cpu_time": 3.41,
          "name": "ProdTypeTS_1",
          "real_mem": 299659264,
          "time": 1616759535.8707013
         },
         {
          "cpu_percent": 196.4,
          "cpu_time": 3.6,
          "name": "TranCityTS_1",
          "real_mem": 300974080,
          "time": 1616759536.0701442
         },
         {
          "cpu_percent": 45.1,
          "cpu_time": 3.6500000000000004,
          "name": "SparkConcat_1",
          "real_mem": 301244416,
          "time": 1616759536.1487613
         },
         {
          "cpu_percent": 295.9,
          "cpu_time": 3.7,
          "name": "ReadCsvProjectSpace_1",
          "real_mem": 301559808,
          "time": 1616759536.1704566
         },
         {
          "cpu_percent": 30.1,
          "cpu_time": 3.74,
          "name": "ProdTypeTS_1",
          "real_mem": 301559808,
          "time": 1616759536.2484963
         },
         {
          "cpu_percent": 197.5,
          "cpu_time": 3.79,
          "name": "TranTypeTS_1",
          "real_mem": 302026752,
          "time": 1616759536.2702885
         },
         {
          "cpu_percent": 296.2,
          "cpu_time": 3.85,
          "name": "MercStatic_1",
          "real_mem": 302092288,
          "time": 1616759536.3588433
         },
         {
          "cpu_percent": 290.1,
          "cpu_time": 3.91,
          "name": "SparkConcat_2",
          "real_mem": 302497792,
          "time": 1616759536.3808165
         },
         {
          "cpu_percent": 196.7,
          "cpu_time": 3.98,
          "name": "CustStatic_1",
          "real_mem": 303419392,
          "time": 1616759536.4701874
         },
         {
          "cpu_percent": 0,
          "cpu_time": 3.94,
          "name": "CustMercTS_1",
          "real_mem": 302497792,
          "time": 1616759536.4027817
         },
         {
          "cpu_percent": 97.1,
          "cpu_time": 4.01,
          "name": "TranCityTS_1",
          "real_mem": 303271936,
          "time": 1616759536.4921973
         },
         {
          "cpu_percent": 0,
          "cpu_time": 4.0200000000000005,
          "name": "SparkConcat_1",
          "real_mem": 303271936,
          "time": 1616759536.514799
         },
         {
          "cpu_percent": 98.3,
          "cpu_time": 4.05,
          "name": "ReadCsvProjectSpace_1",
          "real_mem": 303542272,
          "time": 1616759536.5717897
         },
         {
          "cpu_percent": 0,
          "cpu_time": 4.07,
          "name": "ProdTypeTS_1",
          "real_mem": 304865280,
          "time": 1616759536.5947454
         },
         {
          "cpu_percent": 0,
          "cpu_time": 4.07,
          "name": "TranTypeTS_1",
          "real_mem": 304865280,
          "time": 1616759536.6170146
         },
         {
          "cpu_percent": 0,
          "cpu_time": 4.07,
          "name": "MercStatic_1",
          "real_mem": 304865280,
          "time": 1616759536.6391356
         },
         {
          "cpu_percent": 0,
          "cpu_time": 4.07,
          "name": "SparkConcat_2",
          "real_mem": 304865280,
          "time": 1616759536.6611235
         },
         {
          "cpu_percent": 98.1,
          "cpu_time": 4.08,
          "name": "CustMercTS_1",
          "real_mem": 304865280,
          "time": 1616759536.683246
         },
         {
          "cpu_percent": 196.7,
          "cpu_time": 4.14,
          "name": "CustStatic_1",
          "real_mem": 304996352,
          "time": 1616759536.70631
         },
         {
          "cpu_percent": 96.7,
          "cpu_time": 4.16,
          "name": "TranCityTS_1",
          "real_mem": 305385472,
          "time": 1616759536.7290356
         },
         {
          "cpu_percent": 295.1,
          "cpu_time": 4.26,
          "name": "ReadCsvProjectSpace_1",
          "real_mem": 306581504,
          "time": 1616759536.7933292
         },
         {
          "cpu_percent": 292,
          "cpu_time": 4.220000000000001,
          "name": "SparkConcat_1",
          "real_mem": 306180096,
          "time": 1616759536.771219
         },
         {
          "cpu_percent": 289.6,
          "cpu_time": 4.32,
          "name": "ProdTypeTS_1",
          "real_mem": 307036160,
          "time": 1616759536.8715904
         },
         {
          "cpu_percent": 190.8,
          "cpu_time": 4.36,
          "name": "TranTypeTS_1",
          "real_mem": 307302400,
          "time": 1616759536.8948107
         },
         {
          "cpu_percent": 98,
          "cpu_time": 4.4,
          "name": "MercStatic_1",
          "real_mem": 307879936,
          "time": 1616759536.970034
         },
         {
          "cpu_percent": 98.5,
          "cpu_time": 4.43,
          "name": "SparkConcat_2",
          "real_mem": 307965952,
          "time": 1616759536.99176
         },
         {
          "cpu_percent": 98.2,
          "cpu_time": 4.45,
          "name": "CustMercTS_1",
          "real_mem": 308482048,
          "time": 1616759537.013757
         },
         {
          "cpu_percent": 196.4,
          "cpu_time": 4.49,
          "name": "CustStatic_1",
          "real_mem": 309022720,
          "time": 1616759537.070732
         },
         {
          "cpu_percent": 0,
          "cpu_time": 4.550000000000001,
          "name": "SparkConcat_1",
          "real_mem": 309878784,
          "time": 1616759537.1145213
         },
         {
          "cpu_percent": 196.5,
          "cpu_time": 4.539999999999999,
          "name": "TranCityTS_1",
          "real_mem": 309846016,
          "time": 1616759537.092505
         },
         {
          "cpu_percent": 295.1,
          "cpu_time": 4.6,
          "name": "ReadCsvProjectSpace_1",
          "real_mem": 310939648,
          "time": 1616759537.1702642
         },
         {
          "cpu_percent": 15.2,
          "cpu_time": 4.640000000000001,
          "name": "ProdTypeTS_1",
          "real_mem": 311394304,
          "time": 1616759537.248683
         },
         {
          "cpu_percent": 194.2,
          "cpu_time": 4.7,
          "name": "TranTypeTS_1",
          "real_mem": 312201216,
          "time": 1616759537.2709646
         },
         {
          "cpu_percent": 98.2,
          "cpu_time": 4.74,
          "name": "MercStatic_1",
          "real_mem": 312561664,
          "time": 1616759537.2936676
         },
         {
          "cpu_percent": 294.3,
          "cpu_time": 4.79,
          "name": "SparkConcat_2",
          "real_mem": 313077760,
          "time": 1616759537.370633
         },
         {
          "cpu_percent": 196.9,
          "cpu_time": 4.84,
          "name": "CustMercTS_1",
          "real_mem": 311111680,
          "time": 1616759537.3927531
         },
         {
          "cpu_percent": 97.9,
          "cpu_time": 4.91,
          "name": "TranCityTS_1",
          "real_mem": 311980032,
          "time": 1616759537.4931197
         },
         {
          "cpu_percent": 0,
          "cpu_time": 4.93,
          "name": "SparkConcat_1",
          "real_mem": 312246272,
          "time": 1616759537.5152535
         },
         {
          "cpu_percent": 97.9,
          "cpu_time": 4.88,
          "name": "CustStatic_1",
          "real_mem": 311549952,
          "time": 1616759537.4712827
         },
         {
          "cpu_percent": 98.4,
          "cpu_time": 4.95,
          "name": "ReadCsvProjectSpace_1",
          "real_mem": 312569856,
          "time": 1616759537.570278
         },
         {
          "cpu_percent": 196.7,
          "cpu_time": 4.99,
          "name": "ProdTypeTS_1",
          "real_mem": 313102336,
          "time": 1616759537.5931869
         },
         {
          "cpu_percent": 97.9,
          "cpu_time": 5.01,
          "name": "TranTypeTS_1",
          "real_mem": 313573376,
          "time": 1616759537.6150584
         },
         {
          "cpu_percent": 0,
          "cpu_time": 5.02,
          "name": "MercStatic_1",
          "real_mem": 313573376,
          "time": 1616759537.6382246
         },
         {
          "cpu_percent": 195.6,
          "cpu_time": 5.08,
          "name": "CustMercTS_1",
          "real_mem": 314822656,
          "time": 1616759537.6928263
         },
         {
          "cpu_percent": 92.6,
          "cpu_time": 5.04,
          "name": "SparkConcat_2",
          "real_mem": 314388480,
          "time": 1616759537.6705494
         },
         {
          "cpu_percent": 97.5,
          "cpu_time": 5.140000000000001,
          "name": "TranCityTS_1",
          "real_mem": 315453440,
          "time": 1616759537.7698884
         },
         {
          "cpu_percent": 98.2,
          "cpu_time": 5.109999999999999,
          "name": "CustStatic_1",
          "real_mem": 315088896,
          "time": 1616759537.7160804
         },
         {
          "cpu_percent": 196.6,
          "cpu_time": 5.17,
          "name": "SparkConcat_1",
          "real_mem": 315559936,
          "time": 1616759537.7940676
         },
         {
          "cpu_percent": 98.3,
          "cpu_time": 5.2,
          "name": "ReadCsvProjectSpace_1",
          "real_mem": 315969536,
          "time": 1616759537.8161411
         },
         {
          "cpu_percent": 0,
          "cpu_time": 5.21,
          "name": "ProdTypeTS_1",
          "real_mem": 315969536,
          "time": 1616759537.8484273
         },
         {
          "cpu_percent": 196.4,
          "cpu_time": 5.24,
          "name": "TranTypeTS_1",
          "real_mem": 316506112,
          "time": 1616759537.870482
         },
         {
          "cpu_percent": 193.8,
          "cpu_time": 5.2700000000000005,
          "name": "MercStatic_1",
          "real_mem": 317063168,
          "time": 1616759537.8923118
         },
         {
          "cpu_percent": 0,
          "cpu_time": 5.29,
          "name": "SparkConcat_2",
          "real_mem": 317198336,
          "time": 1616759537.9148297
         },
         {
          "cpu_percent": 197.1,
          "cpu_time": 5.34,
          "name": "CustMercTS_1",
          "real_mem": 317415424,
          "time": 1616759537.9694297
         },
         {
          "cpu_percent": 98.5,
          "cpu_time": 5.37,
          "name": "CustStatic_1",
          "real_mem": 317816832,
          "time": 1616759537.9910738
         },
         {
          "cpu_percent": 98.1,
          "cpu_time": 5.39,
          "name": "TranCityTS_1",
          "real_mem": 318185472,
          "time": 1616759538.0135257
         },
         {
          "cpu_percent": 98.7,
          "cpu_time": 5.43,
          "name": "SparkConcat_1",
          "real_mem": 319258624,
          "time": 1616759538.0697563
         },
         {
          "cpu_percent": 0,
          "cpu_time": 5.49,
          "name": "ProdTypeTS_1",
          "real_mem": 321839104,
          "time": 1616759538.1140504
         },
         {
          "cpu_percent": 195.6,
          "cpu_time": 5.48,
          "name": "ReadCsvProjectSpace_1",
          "real_mem": 321839104,
          "time": 1616759538.091753
         },
         {
          "cpu_percent": 196.6,
          "cpu_time": 5.53,
          "name": "TranTypeTS_1",
          "real_mem": 329007104,
          "time": 1616759538.1697848
         },
         {
          "cpu_percent": 195.9,
          "cpu_time": 5.58,
          "name": "MercStatic_1",
          "real_mem": 331431936,
          "time": 1616759538.1926286
         },
         {
          "cpu_percent": 196.3,
          "cpu_time": 5.64,
          "name": "SparkConcat_2",
          "real_mem": 331841536,
          "time": 1616759538.271182
         },
         {
          "cpu_percent": 195.5,
          "cpu_time": 5.67,
          "name": "CustMercTS_1",
          "real_mem": 331993088,
          "time": 1616759538.2929928
         },
         {
          "cpu_percent": 0,
          "cpu_time": 5.67,
          "name": "CustStatic_1",
          "real_mem": 332103680,
          "time": 1616759538.3148499
         },
         {
          "cpu_percent": 0,
          "cpu_time": 5.7299999999999995,
          "name": "SparkConcat_1",
          "real_mem": 333008896,
          "time": 1616759538.3924453
         },
         {
          "cpu_percent": 97.5,
          "cpu_time": 5.71,
          "name": "TranCityTS_1",
          "real_mem": 332513280,
          "time": 1616759538.3703969
         },
         {
          "cpu_percent": 97.1,
          "cpu_time": 5.75,
          "name": "ReadCsvProjectSpace_1",
          "real_mem": 333160448,
          "time": 1616759538.470755
         },
         {
          "cpu_percent": 98,
          "cpu_time": 5.779999999999999,
          "name": "ProdTypeTS_1",
          "real_mem": 333545472,
          "time": 1616759538.4930298
         },
         {
          "cpu_percent": 196.5,
          "cpu_time": 5.819999999999999,
          "name": "TranTypeTS_1",
          "real_mem": 333885440,
          "time": 1616759538.5698106
         },
         {
          "cpu_percent": 0,
          "cpu_time": 5.88,
          "name": "SparkConcat_2",
          "real_mem": 334983168,
          "time": 1616759538.6138432
         },
         {
          "cpu_percent": 97.7,
          "cpu_time": 5.84,
          "name": "MercStatic_1",
          "real_mem": 334983168,
          "time": 1616759538.5917766
         },
         {
          "cpu_percent": 295.9,
          "cpu_time": 5.930000000000001,
          "name": "CustMercTS_1",
          "real_mem": 335646720,
          "time": 1616759538.6707878
         },
         {
          "cpu_percent": 0,
          "cpu_time": 5.98,
          "name": "TranCityTS_1",
          "real_mem": 335958016,
          "time": 1616759538.7141123
         },
         {
          "cpu_percent": 198.2,
          "cpu_time": 5.98,
          "name": "CustStatic_1",
          "real_mem": 335958016,
          "time": 1616759538.692304
         },
         {
          "cpu_percent": 295.6,
          "cpu_time": 6.03,
          "name": "SparkConcat_1",
          "real_mem": 336490496,
          "time": 1616759538.7703264
         },
         {
          "cpu_percent": 196.7,
          "cpu_time": 6.07,
          "name": "ReadCsvProjectSpace_1",
          "real_mem": 336674816,
          "time": 1616759538.7926705
         },
         {
          "cpu_percent": 354.8,
          "cpu_time": 6.14,
          "name": "ProdTypeTS_1",
          "real_mem": 337448960,
          "time": 1616759538.8715458
         },
         {
          "cpu_percent": 0,
          "cpu_time": 6.17,
          "name": "TranTypeTS_1",
          "real_mem": 337448960,
          "time": 1616759538.8944247
         },
         {
          "cpu_percent": 98.4,
          "cpu_time": 6.1899999999999995,
          "name": "MercStatic_1",
          "real_mem": 337907712,
          "time": 1616759538.970178
         },
         {
          "cpu_percent": 196.3,
          "cpu_time": 6.22,
          "name": "SparkConcat_2",
          "real_mem": 338268160,
          "time": 1616759538.9932895
         },
         {
          "cpu_percent": 0,
          "cpu_time": 6.25,
          "name": "CustStatic_1",
          "real_mem": 338804736,
          "time": 1616759539.0374513
         },
         {
          "cpu_percent": 196.4,
          "cpu_time": 6.25,
          "name": "CustMercTS_1",
          "real_mem": 338804736,
          "time": 1616759539.0150888
         },
         {
          "cpu_percent": 98.2,
          "cpu_time": 6.26,
          "name": "TranCityTS_1",
          "real_mem": 338804736,
          "time": 1616759539.0592902
         },
         {
          "cpu_percent": 98.2,
          "cpu_time": 6.28,
          "name": "SparkConcat_1",
          "real_mem": 339070976,
          "time": 1616759539.0816107
         },
         {
          "cpu_percent": 196.6,
          "cpu_time": 6.340000000000001,
          "name": "ReadCsvProjectSpace_1",
          "real_mem": 339877888,
          "time": 1616759539.1050165
         },
         {
          "cpu_percent": 196.4,
          "cpu_time": 6.36,
          "name": "TranTypeTS_1",
          "real_mem": 339877888,
          "time": 1616759539.1502802
         },
         {
          "cpu_percent": 96.8,
          "cpu_time": 6.380000000000001,
          "name": "MercStatic_1",
          "real_mem": 340099072,
          "time": 1616759539.1725028
         },
         {
          "cpu_percent": 0,
          "cpu_time": 6.340000000000001,
          "name": "ProdTypeTS_1",
          "real_mem": 339877888,
          "time": 1616759539.1282923
         },
         {
          "cpu_percent": 194.1,
          "cpu_time": 6.430000000000001,
          "name": "SparkConcat_2",
          "real_mem": 340537344,
          "time": 1616759539.1960497
         },
         {
          "cpu_percent": 197,
          "cpu_time": 6.48,
          "name": "CustMercTS_1",
          "real_mem": 340590592,
          "time": 1616759539.2703652
         },
         {
          "cpu_percent": 196.4,
          "cpu_time": 6.54,
          "name": "CustStatic_1",
          "real_mem": 340647936,
          "time": 1616759539.2922134
         },
         {
          "cpu_percent": 386.9,
          "cpu_time": 6.6000000000000005,
          "name": "TranCityTS_1",
          "real_mem": 340758528,
          "time": 1616759539.3698483
         },
         {
          "cpu_percent": 0,
          "cpu_time": 6.63,
          "name": "SparkConcat_1",
          "real_mem": 341258240,
          "time": 1616759539.3923984
         },
         {
          "cpu_percent": 98.1,
          "cpu_time": 6.72,
          "name": "ProdTypeTS_1",
          "real_mem": 341745664,
          "time": 1616759539.4929817
         },
         {
          "cpu_percent": 98,
          "cpu_time": 6.75,
          "name": "TranTypeTS_1",
          "real_mem": 341897216,
          "time": 1616759539.5699701
         },
         {
          "cpu_percent": 97.8,
          "cpu_time": 6.79,
          "name": "MercStatic_1",
          "real_mem": 342405120,
          "time": 1616759539.5922961
         },
         {
          "cpu_percent": 196.6,
          "cpu_time": 6.69,
          "name": "ReadCsvProjectSpace_1",
          "real_mem": 341598208,
          "time": 1616759539.4707444
         },
         {
          "cpu_percent": 45.3,
          "cpu_time": 6.82,
          "name": "SparkConcat_2",
          "real_mem": 342945792,
          "time": 1616759539.6483843
         },
         {
          "cpu_percent": 196.8,
          "cpu_time": 6.87,
          "name": "CustMercTS_1",
          "real_mem": 343207936,
          "time": 1616759539.670867
         },
         {
          "cpu_percent": 98.3,
          "cpu_time": 6.89,
          "name": "CustStatic_1",
          "real_mem": 343207936,
          "time": 1616759539.6928463
         },
         {
          "cpu_percent": 98,
          "cpu_time": 6.92,
          "name": "TranCityTS_1",
          "real_mem": 344584192,
          "time": 1616759539.7155712
         },
         {
          "cpu_percent": 196.6,
          "cpu_time": 6.96,
          "name": "SparkConcat_1",
          "real_mem": 344965120,
          "time": 1616759539.7701812
         },
         {
          "cpu_percent": 44.9,
          "cpu_time": 7.029999999999999,
          "name": "ReadCsvProjectSpace_1",
          "real_mem": 345415680,
          "time": 1616759539.8486326
         },
         {
          "cpu_percent": 294.1,
          "cpu_time": 7.08,
          "name": "ProdTypeTS_1",
          "real_mem": 345554944,
          "time": 1616759539.8704362
         },
         {
          "cpu_percent": 0,
          "cpu_time": 7.109999999999999,
          "name": "TranTypeTS_1",
          "real_mem": 346357760,
          "time": 1616759539.9486585
         },
         {
          "cpu_percent": 296.1,
          "cpu_time": 7.16,
          "name": "MercStatic_1",
          "real_mem": 347099136,
          "time": 1616759539.970583
         },
         {
          "cpu_percent": 98.2,
          "cpu_time": 7.199999999999999,
          "name": "SparkConcat_2",
          "real_mem": 348061696,
          "time": 1616759540.048713
         },
         {
          "cpu_percent": 391,
          "cpu_time": 7.26,
          "name": "CustMercTS_1",
          "real_mem": 348803072,
          "time": 1616759540.0712862
         },
         {
          "cpu_percent": 98.3,
          "cpu_time": 7.3100000000000005,
          "name": "CustStatic_1",
          "real_mem": 349343744,
          "time": 1616759540.0935082
         },
         {
          "cpu_percent": 196.2,
          "cpu_time": 7.3500000000000005,
          "name": "TranCityTS_1",
          "real_mem": 350298112,
          "time": 1616759540.1701553
         },
         {
          "cpu_percent": 194.9,
          "cpu_time": 7.41,
          "name": "SparkConcat_1",
          "real_mem": 351776768,
          "time": 1616759540.1920147
         },
         {
          "cpu_percent": 274,
          "cpu_time": 7.46,
          "name": "ReadCsvProjectSpace_1",
          "real_mem": 352137216,
          "time": 1616759540.2716293
         },
         {
          "cpu_percent": 196.6,
          "cpu_time": 7.5,
          "name": "ProdTypeTS_1",
          "real_mem": 354770944,
          "time": 1616759540.2933812
         },
         {
          "cpu_percent": 98.3,
          "cpu_time": 7.64,
          "name": "CustMercTS_1",
          "real_mem": 365109248,
          "time": 1616759540.4720445
         },
         {
          "cpu_percent": 196.5,
          "cpu_time": 7.54,
          "name": "TranTypeTS_1",
          "real_mem": 358322176,
          "time": 1616759540.3711264
         },
         {
          "cpu_percent": 196.3,
          "cpu_time": 7.58,
          "name": "MercStatic_1",
          "real_mem": 359669760,
          "time": 1616759540.393212
         },
         {
          "cpu_percent": 0,
          "cpu_time": 7.58,
          "name": "SparkConcat_2",
          "real_mem": 359895040,
          "time": 1616759540.4153345
         },
         {
          "cpu_percent": 98,
          "cpu_time": 7.68,
          "name": "CustStatic_1",
          "real_mem": 365621248,
          "time": 1616759540.4953268
         },
         {
          "cpu_percent": 195.5,
          "cpu_time": 7.72,
          "name": "TranCityTS_1",
          "real_mem": 366415872,
          "time": 1616759540.5703642
         },
         {
          "cpu_percent": 292.9,
          "cpu_time": 7.779999999999999,
          "name": "SparkConcat_1",
          "real_mem": 366923776,
          "time": 1616759540.5926216
         },
         {
          "cpu_percent": 394.7,
          "cpu_time": 7.859999999999999,
          "name": "ReadCsvProjectSpace_1",
          "real_mem": 367681536,
          "time": 1616759540.6712027
         },
         {
          "cpu_percent": 0,
          "cpu_time": 7.880000000000001,
          "name": "ProdTypeTS_1",
          "real_mem": 367681536,
          "time": 1616759540.693311
         },
         {
          "cpu_percent": 293.1,
          "cpu_time": 7.96,
          "name": "TranTypeTS_1",
          "real_mem": 368263168,
          "time": 1616759540.7704837
         },
         {
          "cpu_percent": 393.2,
          "cpu_time": 8.02,
          "name": "MercStatic_1",
          "real_mem": 368070656,
          "time": 1616759540.8591747
         },
         {
          "cpu_percent": 196.6,
          "cpu_time": 8.06,
          "name": "SparkConcat_2",
          "real_mem": 372019200,
          "time": 1616759540.8809571
         },
         {
          "cpu_percent": 0,
          "cpu_time": 8.07,
          "name": "CustMercTS_1",
          "real_mem": 372559872,
          "time": 1616759540.9027512
         },
         {
          "cpu_percent": 196.3,
          "cpu_time": 8.17,
          "name": "TranCityTS_1",
          "real_mem": 375582720,
          "time": 1616759540.994167
         },
         {
          "cpu_percent": 196.8,
          "cpu_time": 8.129999999999999,
          "name": "CustStatic_1",
          "real_mem": 373694464,
          "time": 1616759540.9720852
         },
         {
          "cpu_percent": 195.8,
          "cpu_time": 8.21,
          "name": "SparkConcat_1",
          "real_mem": 376356864,
          "time": 1616759541.0702028
         },
         {
          "cpu_percent": 292.8,
          "cpu_time": 8.27,
          "name": "ReadCsvProjectSpace_1",
          "real_mem": 375996416,
          "time": 1616759541.0933414
         },
         {
          "cpu_percent": 195.1,
          "cpu_time": 8.31,
          "name": "ProdTypeTS_1",
          "real_mem": 379248640,
          "time": 1616759541.1707764
         },
         {
          "cpu_percent": 196.3,
          "cpu_time": 8.35,
          "name": "TranTypeTS_1",
          "real_mem": 379736064,
          "time": 1616759541.1928942
         },
         {
          "cpu_percent": 191.6,
          "cpu_time": 8.5,
          "name": "CustMercTS_1",
          "real_mem": 382676992,
          "time": 1616759541.3702316
         },
         {
          "cpu_percent": 196.8,
          "cpu_time": 8.46,
          "name": "SparkConcat_2",
          "real_mem": 380137472,
          "time": 1616759541.2926764
         },
         {
          "cpu_percent": 196.2,
          "cpu_time": 8.41,
          "name": "MercStatic_1",
          "real_mem": 379867136,
          "time": 1616759541.2706094
         },
         {
          "cpu_percent": 196.7,
          "cpu_time": 8.58,
          "name": "TranCityTS_1",
          "real_mem": 383266816,
          "time": 1616759541.4695241
         },
         {
          "cpu_percent": 196.8,
          "cpu_time": 8.54,
          "name": "CustStatic_1",
          "real_mem": 383266816,
          "time": 1616759541.3937387
         },
         {
          "cpu_percent": 97.6,
          "cpu_time": 8.62,
          "name": "SparkConcat_1",
          "real_mem": 384016384,
          "time": 1616759541.4913383
         },
         {
          "cpu_percent": 98.3,
          "cpu_time": 8.64,
          "name": "ReadCsvProjectSpace_1",
          "real_mem": 384311296,
          "time": 1616759541.5151875
         },
         {
          "cpu_percent": 196.8,
          "cpu_time": 8.68,
          "name": "ProdTypeTS_1",
          "real_mem": 384675840,
          "time": 1616759541.5701783
         },
         {
          "cpu_percent": 97.5,
          "cpu_time": 8.71,
          "name": "TranTypeTS_1",
          "real_mem": 385196032,
          "time": 1616759541.5924356
         },
         {
          "cpu_percent": 98.3,
          "cpu_time": 8.73,
          "name": "MercStatic_1",
          "real_mem": 385462272,
          "time": 1616759541.6157973
         },
         {
          "cpu_percent": 0,
          "cpu_time": 8.73,
          "name": "SparkConcat_2",
          "real_mem": 385462272,
          "time": 1616759541.6381848
         },
         {
          "cpu_percent": 98.3,
          "cpu_time": 8.77,
          "name": "CustMercTS_1",
          "real_mem": 386273280,
          "time": 1616759541.6702123
         },
         {
          "cpu_percent": 294.3,
          "cpu_time": 8.82,
          "name": "CustStatic_1",
          "real_mem": 386441216,
          "time": 1616759541.693252
         },
         {
          "cpu_percent": 0,
          "cpu_time": 8.84,
          "name": "TranCityTS_1",
          "real_mem": 386441216,
          "time": 1616759541.715081
         },
         {
          "cpu_percent": 195.9,
          "cpu_time": 8.88,
          "name": "SparkConcat_1",
          "real_mem": 386756608,
          "time": 1616759541.7705595
         },
         {
          "cpu_percent": 97.2,
          "cpu_time": 8.930000000000001,
          "name": "ReadCsvProjectSpace_1",
          "real_mem": 387555328,
          "time": 1616759541.7938776
         },
         {
          "cpu_percent": 294,
          "cpu_time": 8.98,
          "name": "ProdTypeTS_1",
          "real_mem": 388259840,
          "time": 1616759541.8706884
         },
         {
          "cpu_percent": 0,
          "cpu_time": 9.020000000000001,
          "name": "TranTypeTS_1",
          "real_mem": 388259840,
          "time": 1616759541.893763
         },
         {
          "cpu_percent": 98.2,
          "cpu_time": 9.110000000000001,
          "name": "SparkConcat_2",
          "real_mem": 388612096,
          "time": 1616759541.9921176
         },
         {
          "cpu_percent": 294.7,
          "cpu_time": 9.08,
          "name": "MercStatic_1",
          "real_mem": 388288512,
          "time": 1616759541.9701433
         },
         {
          "cpu_percent": 196.8,
          "cpu_time": 9.18,
          "name": "CustMercTS_1",
          "real_mem": 388874240,
          "time": 1616759542.0718372
         },
         {
          "cpu_percent": 196,
          "cpu_time": 9.22,
          "name": "CustStatic_1",
          "real_mem": 389566464,
          "time": 1616759542.0937455
         },
         {
          "cpu_percent": 195.8,
          "cpu_time": 9.26,
          "name": "TranCityTS_1",
          "real_mem": 389832704,
          "time": 1616759542.1701825
         },
         {
          "cpu_percent": 194.4,
          "cpu_time": 9.31,
          "name": "SparkConcat_1",
          "real_mem": 390103040,
          "time": 1616759542.1933384
         },
         {
          "cpu_percent": 196.4,
          "cpu_time": 9.36,
          "name": "ReadCsvProjectSpace_1",
          "real_mem": 390410240,
          "time": 1616759542.2698708
         },
         {
          "cpu_percent": 196.4,
          "cpu_time": 9.41,
          "name": "ProdTypeTS_1",
          "real_mem": 390410240,
          "time": 1616759542.2924209
         },
         {
          "cpu_percent": 295.1,
          "cpu_time": 9.46,
          "name": "TranTypeTS_1",
          "real_mem": 392028160,
          "time": 1616759542.3698306
         },
         {
          "cpu_percent": 194.8,
          "cpu_time": 9.5,
          "name": "MercStatic_1",
          "real_mem": 392298496,
          "time": 1616759542.393373
         },
         {
          "cpu_percent": 194.8,
          "cpu_time": 9.55,
          "name": "SparkConcat_2",
          "real_mem": 392777728,
          "time": 1616759542.4701297
         },
         {
          "cpu_percent": 196.1,
          "cpu_time": 9.6,
          "name": "CustMercTS_1",
          "real_mem": 393195520,
          "time": 1616759542.4922228
         },
         {
          "cpu_percent": 286.3,
          "cpu_time": 9.65,
          "name": "CustStatic_1",
          "real_mem": 393359360,
          "time": 1616759542.5703847
         },
         {
          "cpu_percent": 97,
          "cpu_time": 9.69,
          "name": "TranCityTS_1",
          "real_mem": 394305536,
          "time": 1616759542.5931563
         },
         {
          "cpu_percent": 98.3,
          "cpu_time": 9.78,
          "name": "ReadCsvProjectSpace_1",
          "real_mem": 397688832,
          "time": 1616759542.6917129
         },
         {
          "cpu_percent": 197.1,
          "cpu_time": 9.74,
          "name": "SparkConcat_1",
          "real_mem": 397107200,
          "time": 1616759542.6697757
         },
         {
          "cpu_percent": 194.9,
          "cpu_time": 9.84,
          "name": "ProdTypeTS_1",
          "real_mem": 397955072,
          "time": 1616759542.77014
         },
         {
          "cpu_percent": 195.3,
          "cpu_time": 9.879999999999999,
          "name": "TranTypeTS_1",
          "real_mem": 395513856,
          "time": 1616759542.8484457
         },
         {
          "cpu_percent": 196.3,
          "cpu_time": 9.93,
          "name": "MercStatic_1",
          "real_mem": 395780096,
          "time": 1616759542.870838
         },
         {
          "cpu_percent": 195.9,
          "cpu_time": 9.98,
          "name": "SparkConcat_2",
          "real_mem": 396050432,
          "time": 1616759542.9484692
         },
         {
          "cpu_percent": 196.5,
          "cpu_time": 10.04,
          "name": "CustMercTS_1",
          "real_mem": 396562432,
          "time": 1616759542.970888
         },
         {
          "cpu_percent": 195.9,
          "cpu_time": 10.08,
          "name": "CustStatic_1",
          "real_mem": 397070336,
          "time": 1616759542.9947002
         },
         {
          "cpu_percent": 295.1,
          "cpu_time": 10.17,
          "name": "SparkConcat_1",
          "real_mem": 402141184,
          "time": 1616759543.0925345
         },
         {
          "cpu_percent": 296.8,
          "cpu_time": 10.129999999999999,
          "name": "TranCityTS_1",
          "real_mem": 398315520,
          "time": 1616759543.0704546
         },
         {
          "cpu_percent": 196.7,
          "cpu_time": 10.219999999999999,
          "name": "ReadCsvProjectSpace_1",
          "real_mem": 402321408,
          "time": 1616759543.1697936
         },
         {
          "cpu_percent": 98.1,
          "cpu_time": 10.27,
          "name": "ProdTypeTS_1",
          "real_mem": 402759680,
          "time": 1616759543.1923692
         },
         {
          "cpu_percent": 98.2,
          "cpu_time": 10.32,
          "name": "TranTypeTS_1",
          "real_mem": 402898944,
          "time": 1616759543.2694697
         },
         {
          "cpu_percent": 196.9,
          "cpu_time": 10.370000000000001,
          "name": "MercStatic_1",
          "real_mem": 403423232,
          "time": 1616759543.2916064
         },
         {
          "cpu_percent": 98,
          "cpu_time": 10.46,
          "name": "CustMercTS_1",
          "real_mem": 404500480,
          "time": 1616759543.391048
         },
         {
          "cpu_percent": 294,
          "cpu_time": 10.430000000000001,
          "name": "SparkConcat_2",
          "real_mem": 403423232,
          "time": 1616759543.369313
         },
         {
          "cpu_percent": 196.3,
          "cpu_time": 10.5,
          "name": "CustStatic_1",
          "real_mem": 405479424,
          "time": 1616759543.469842
         },
         {
          "cpu_percent": 294,
          "cpu_time": 10.56,
          "name": "TranCityTS_1",
          "real_mem": 405839872,
          "time": 1616759543.4924428
         },
         {
          "cpu_percent": 195.7,
          "cpu_time": 10.600000000000001,
          "name": "SparkConcat_1",
          "real_mem": 406106112,
          "time": 1616759543.5696104
         },
         {
          "cpu_percent": 193.7,
          "cpu_time": 10.65,
          "name": "ReadCsvProjectSpace_1",
          "real_mem": 406204416,
          "time": 1616759543.5915365
         },
         {
          "cpu_percent": 196.4,
          "cpu_time": 10.700000000000001,
          "name": "ProdTypeTS_1",
          "real_mem": 406642688,
          "time": 1616759543.669983
         },
         {
          "cpu_percent": 195.8,
          "cpu_time": 10.75,
          "name": "TranTypeTS_1",
          "real_mem": 406982656,
          "time": 1616759543.6927252
         },
         {
          "cpu_percent": 193.3,
          "cpu_time": 10.790000000000001,
          "name": "MercStatic_1",
          "real_mem": 407330816,
          "time": 1616759543.7700522
         },
         {
          "cpu_percent": 128.5,
          "cpu_time": 10.84,
          "name": "SparkConcat_2",
          "real_mem": 407330816,
          "time": 1616759543.8492901
         },
         {
          "cpu_percent": 281.9,
          "cpu_time": 10.9,
          "name": "CustMercTS_1",
          "real_mem": 410034176,
          "time": 1616759543.8737376
         },
         {
          "cpu_percent": 0,
          "cpu_time": 10.94,
          "name": "CustStatic_1",
          "real_mem": 410836992,
          "time": 1616759543.8965456
         },
         {
          "cpu_percent": 196.9,
          "cpu_time": 10.98,
          "name": "TranCityTS_1",
          "real_mem": 411344896,
          "time": 1616759543.9690325
         },
         {
          "cpu_percent": 98.2,
          "cpu_time": 11.03,
          "name": "SparkConcat_1",
          "real_mem": 411660288,
          "time": 1616759543.9907963
         },
         {
          "cpu_percent": 196,
          "cpu_time": 11.08,
          "name": "ReadCsvProjectSpace_1",
          "real_mem": 412200960,
          "time": 1616759544.070328
         },
         {
          "cpu_percent": 97.6,
          "cpu_time": 11.129999999999999,
          "name": "ProdTypeTS_1",
          "real_mem": 412205056,
          "time": 1616759544.0931864
         },
         {
          "cpu_percent": 194.2,
          "cpu_time": 11.18,
          "name": "TranTypeTS_1",
          "real_mem": 412737536,
          "time": 1616759544.1709034
         },
         {
          "cpu_percent": 197,
          "cpu_time": 11.219999999999999,
          "name": "MercStatic_1",
          "real_mem": 412987392,
          "time": 1616759544.1928596
         },
         {
          "cpu_percent": 196.7,
          "cpu_time": 11.27,
          "name": "SparkConcat_2",
          "real_mem": 413425664,
          "time": 1616759544.2708416
         },
         {
          "cpu_percent": 195.2,
          "cpu_time": 11.31,
          "name": "CustMercTS_1",
          "real_mem": 413425664,
          "time": 1616759544.2928367
         },
         {
          "cpu_percent": 196.1,
          "cpu_time": 11.36,
          "name": "CustStatic_1",
          "real_mem": 414027776,
          "time": 1616759544.370194
         },
         {
          "cpu_percent": 196.7,
          "cpu_time": 11.41,
          "name": "TranCityTS_1",
          "real_mem": 414138368,
          "time": 1616759544.3922431
         },
         {
          "cpu_percent": 290.4,
          "cpu_time": 11.459999999999999,
          "name": "SparkConcat_1",
          "real_mem": 414683136,
          "time": 1616759544.4698203
         },
         {
          "cpu_percent": 194.1,
          "cpu_time": 11.51,
          "name": "ReadCsvProjectSpace_1",
          "real_mem": 414949376,
          "time": 1616759544.492531
         },
         {
          "cpu_percent": 196.7,
          "cpu_time": 11.549999999999999,
          "name": "ProdTypeTS_1",
          "real_mem": 415293440,
          "time": 1616759544.5707843
         },
         {
          "cpu_percent": 195.1,
          "cpu_time": 11.6,
          "name": "TranTypeTS_1",
          "real_mem": 415731712,
          "time": 1616759544.648327
         },
         {
          "cpu_percent": 97.3,
          "cpu_time": 11.639999999999999,
          "name": "MercStatic_1",
          "real_mem": 416067584,
          "time": 1616759544.6720126
         },
         {
          "cpu_percent": 196.4,
          "cpu_time": 11.68,
          "name": "SparkConcat_2",
          "real_mem": 416403456,
          "time": 1616759544.6951602
         },
         {
          "cpu_percent": 0,
          "cpu_time": 11.7,
          "name": "CustMercTS_1",
          "real_mem": 416403456,
          "time": 1616759544.7174606
         },
         {
          "cpu_percent": 96.5,
          "cpu_time": 11.719999999999999,
          "name": "CustStatic_1",
          "real_mem": 416792576,
          "time": 1616759544.770119
         },
         {
          "cpu_percent": 98.2,
          "cpu_time": 11.739999999999998,
          "name": "TranCityTS_1",
          "real_mem": 417107968,
          "time": 1616759544.792085
         },
         {
          "cpu_percent": 95.9,
          "cpu_time": 11.77,
          "name": "SparkConcat_1",
          "real_mem": 417267712,
          "time": 1616759544.815454
         },
         {
          "cpu_percent": 0,
          "cpu_time": 11.780000000000001,
          "name": "ReadCsvProjectSpace_1",
          "real_mem": 417267712,
          "time": 1616759544.8378475
         },
         {
          "cpu_percent": 196.1,
          "cpu_time": 11.809999999999999,
          "name": "ProdTypeTS_1",
          "real_mem": 419201024,
          "time": 1616759544.8711956
         },
         {
          "cpu_percent": 98.2,
          "cpu_time": 11.9,
          "name": "TranTypeTS_1",
          "real_mem": 419479552,
          "time": 1616759544.9693432
         },
         {
          "cpu_percent": 98.1,
          "cpu_time": 11.96,
          "name": "SparkConcat_2",
          "real_mem": 419479552,
          "time": 1616759545.013369
         },
         {
          "cpu_percent": 97.9,
          "cpu_time": 11.92,
          "name": "MercStatic_1",
          "real_mem": 419479552,
          "time": 1616759544.9914484
         },
         {
          "cpu_percent": 0,
          "cpu_time": 11.98,
          "name": "CustMercTS_1",
          "real_mem": 419696640,
          "time": 1616759545.035411
         },
         {
          "cpu_percent": 196.5,
          "cpu_time": 12.030000000000001,
          "name": "CustStatic_1",
          "real_mem": 419696640,
          "time": 1616759545.0712183
         },
         {
          "cpu_percent": 0,
          "cpu_time": 12.07,
          "name": "TranCityTS_1",
          "real_mem": 419958784,
          "time": 1616759545.1030846
         },
         {
          "cpu_percent": 197.1,
          "cpu_time": 12.1,
          "name": "SparkConcat_1",
          "real_mem": 420098048,
          "time": 1616759545.169846
         },
         {
          "cpu_percent": 97.6,
          "cpu_time": 12.120000000000001,
          "name": "ReadCsvProjectSpace_1",
          "real_mem": 420466688,
          "time": 1616759545.1918385
         },
         {
          "cpu_percent": 98,
          "cpu_time": 12.14,
          "name": "ProdTypeTS_1",
          "real_mem": 420761600,
          "time": 1616759545.2141588
         },
         {
          "cpu_percent": 0,
          "cpu_time": 12.15,
          "name": "TranTypeTS_1",
          "real_mem": 421404672,
          "time": 1616759545.2421286
         },
         {
          "cpu_percent": 197.2,
          "cpu_time": 12.21,
          "name": "MercStatic_1",
          "real_mem": 421699584,
          "time": 1616759545.269779
         },
         {
          "cpu_percent": 193.9,
          "cpu_time": 12.25,
          "name": "SparkConcat_2",
          "real_mem": 422019072,
          "time": 1616759545.291956
         },
         {
          "cpu_percent": 0,
          "cpu_time": 12.26,
          "name": "CustMercTS_1",
          "real_mem": 422019072,
          "time": 1616759545.314135
         },
         {
          "cpu_percent": 194.8,
          "cpu_time": 12.35,
          "name": "TranCityTS_1",
          "real_mem": 422567936,
          "time": 1616759545.3993254
         },
         {
          "cpu_percent": 196.4,
          "cpu_time": 12.31,
          "name": "CustStatic_1",
          "real_mem": 422117376,
          "time": 1616759545.377367
         },
         {
          "cpu_percent": 196.6,
          "cpu_time": 12.39,
          "name": "SparkConcat_1",
          "real_mem": 423268352,
          "time": 1616759545.4705546
         },
         {
          "cpu_percent": 98.3,
          "cpu_time": 12.41,
          "name": "ReadCsvProjectSpace_1",
          "real_mem": 423538688,
          "time": 1616759545.4925618
         },
         {
          "cpu_percent": 90.1,
          "cpu_time": 12.44,
          "name": "ProdTypeTS_1",
          "real_mem": 424542208,
          "time": 1616759545.515446
         },
         {
          "cpu_percent": 196,
          "cpu_time": 12.48,
          "name": "TranTypeTS_1",
          "real_mem": 424849408,
          "time": 1616759545.569332
         },
         {
          "cpu_percent": 0,
          "cpu_time": 12.54,
          "name": "SparkConcat_2",
          "real_mem": 425644032,
          "time": 1616759545.6136792
         },
         {
          "cpu_percent": 197.3,
          "cpu_time": 12.53,
          "name": "MercStatic_1",
          "real_mem": 425644032,
          "time": 1616759545.5917668
         },
         {
          "cpu_percent": 98.3,
          "cpu_time": 12.569999999999999,
          "name": "CustMercTS_1",
          "real_mem": 426594304,
          "time": 1616759545.669712
         },
         {
          "cpu_percent": 98.2,
          "cpu_time": 12.59,
          "name": "CustStatic_1",
          "real_mem": 427220992,
          "time": 1616759545.6923003
         },
         {
          "cpu_percent": 96.8,
          "cpu_time": 12.62,
          "name": "TranCityTS_1",
          "real_mem": 427831296,
          "time": 1616759545.7143338
         },
         {
          "cpu_percent": 0,
          "cpu_time": 12.639999999999999,
          "name": "SparkConcat_1",
          "real_mem": 427831296,
          "time": 1616759545.7440357
         },
         {
          "cpu_percent": 197.3,
          "cpu_time": 12.67,
          "name": "ReadCsvProjectSpace_1",
          "real_mem": 428138496,
          "time": 1616759545.769757
         },
         {
          "cpu_percent": 195.9,
          "cpu_time": 12.719999999999999,
          "name": "ProdTypeTS_1",
          "real_mem": 428740608,
          "time": 1616759545.7923353
         },
         {
          "cpu_percent": 196.5,
          "cpu_time": 12.780000000000001,
          "name": "TranTypeTS_1",
          "real_mem": 429367296,
          "time": 1616759545.869566
         },
         {
          "cpu_percent": 196.4,
          "cpu_time": 12.82,
          "name": "MercStatic_1",
          "real_mem": 429543424,
          "time": 1616759545.8913183
         },
         {
          "cpu_percent": 0,
          "cpu_time": 12.829999999999998,
          "name": "SparkConcat_2",
          "real_mem": 429809664,
          "time": 1616759545.9136522
         },
         {
          "cpu_percent": 196.7,
          "cpu_time": 12.870000000000001,
          "name": "CustMercTS_1",
          "real_mem": 430206976,
          "time": 1616759545.9707065
         },
         {
          "cpu_percent": 193.5,
          "cpu_time": 12.91,
          "name": "CustStatic_1",
          "real_mem": 430424064,
          "time": 1616759545.9928575
         },
         {
          "cpu_percent": 98,
          "cpu_time": 12.940000000000001,
          "name": "TranCityTS_1",
          "real_mem": 430907392,
          "time": 1616759546.0703344
         },
         {
          "cpu_percent": 95.9,
          "cpu_time": 12.98,
          "name": "SparkConcat_1",
          "real_mem": 431284224,
          "time": 1616759546.0932753
         },
         {
          "cpu_percent": 196.7,
          "cpu_time": 13.010000000000002,
          "name": "ReadCsvProjectSpace_1",
          "real_mem": 431726592,
          "time": 1616759546.1152413
         },
         {
          "cpu_percent": 97.8,
          "cpu_time": 13.05,
          "name": "ProdTypeTS_1",
          "real_mem": 432021504,
          "time": 1616759546.1699982
         },
         {
          "cpu_percent": 98.3,
          "cpu_time": 13.08,
          "name": "TranTypeTS_1",
          "real_mem": 432545792,
          "time": 1616759546.1921513
         },
         {
          "cpu_percent": 98.3,
          "cpu_time": 13.110000000000001,
          "name": "MercStatic_1",
          "real_mem": 432873472,
          "time": 1616759546.2138276
         },
         {
          "cpu_percent": 98.2,
          "cpu_time": 13.14,
          "name": "SparkConcat_2",
          "real_mem": 432902144,
          "time": 1616759546.2701514
         },
         {
          "cpu_percent": 98,
          "cpu_time": 13.17,
          "name": "CustMercTS_1",
          "real_mem": 433242112,
          "time": 1616759546.2927997
         },
         {
          "cpu_percent": 98.3,
          "cpu_time": 13.200000000000001,
          "name": "CustStatic_1",
          "real_mem": 433774592,
          "time": 1616759546.3146799
         },
         {
          "cpu_percent": 97.9,
          "cpu_time": 13.23,
          "name": "TranCityTS_1",
          "real_mem": 434221056,
          "time": 1616759546.3700368
         },
         {
          "cpu_percent": 96.6,
          "cpu_time": 13.26,
          "name": "SparkConcat_1",
          "real_mem": 434507776,
          "time": 1616759546.392137
         },
         {
          "cpu_percent": 67.2,
          "cpu_time": 13.3,
          "name": "ReadCsvProjectSpace_1",
          "real_mem": 434745344,
          "time": 1616759546.448408
         },
         {
          "cpu_percent": 197.1,
          "cpu_time": 13.38,
          "name": "TranTypeTS_1",
          "real_mem": 435277824,
          "time": 1616759546.4932058
         },
         {
          "cpu_percent": 196.2,
          "cpu_time": 13.33,
          "name": "ProdTypeTS_1",
          "real_mem": 434917376,
          "time": 1616759546.4712677
         },
         {
          "cpu_percent": 0,
          "cpu_time": 13.4,
          "name": "MercStatic_1",
          "real_mem": 435277824,
          "time": 1616759546.5162814
         },
         {
          "cpu_percent": 97.9,
          "cpu_time": 13.43,
          "name": "SparkConcat_2",
          "real_mem": 435580928,
          "time": 1616759546.5744255
         },
         {
          "cpu_percent": 197.1,
          "cpu_time": 13.46,
          "name": "CustMercTS_1",
          "real_mem": 435703808,
          "time": 1616759546.5961719
         },
         {
          "cpu_percent": 0,
          "cpu_time": 13.48,
          "name": "CustStatic_1",
          "real_mem": 435703808,
          "time": 1616759546.6182818
         },
         {
          "cpu_percent": 98.2,
          "cpu_time": 13.51,
          "name": "TranCityTS_1",
          "real_mem": 436162560,
          "time": 1616759546.6707878
         },
         {
          "cpu_percent": 293.9,
          "cpu_time": 13.57,
          "name": "SparkConcat_1",
          "real_mem": 436244480,
          "time": 1616759546.693027
         },
         {
          "cpu_percent": 197.6,
          "cpu_time": 13.62,
          "name": "ReadCsvProjectSpace_1",
          "real_mem": 436436992,
          "time": 1616759546.7702909
         },
         {
          "cpu_percent": 196.9,
          "cpu_time": 13.709999999999999,
          "name": "TranTypeTS_1",
          "real_mem": 436748288,
          "time": 1616759546.859059
         },
         {
          "cpu_percent": 197.2,
          "cpu_time": 13.67,
          "name": "ProdTypeTS_1",
          "real_mem": 436547584,
          "time": 1616759546.7921515
         },
         {
          "cpu_percent": 196.7,
          "cpu_time": 13.799999999999999,
          "name": "SparkConcat_2",
          "real_mem": 436985856,
          "time": 1616759546.9590905
         },
         {
          "cpu_percent": 294.9,
          "cpu_time": 13.77,
          "name": "MercStatic_1",
          "real_mem": 436928512,
          "time": 1616759546.881609
         },
         {
          "cpu_percent": 196.8,
          "cpu_time": 13.83,
          "name": "CustMercTS_1",
          "real_mem": 437284864,
          "time": 1616759546.9812117
         },
         {
          "cpu_percent": 196.5,
          "cpu_time": 13.899999999999999,
          "name": "CustStatic_1",
          "real_mem": 437518336,
          "time": 1616759547.0591357
         },
         {
          "cpu_percent": 195.3,
          "cpu_time": 13.94,
          "name": "TranCityTS_1",
          "real_mem": 437764096,
          "time": 1616759547.0813007
         },
         {
          "cpu_percent": 0,
          "cpu_time": 13.969999999999999,
          "name": "SparkConcat_1",
          "real_mem": 437809152,
          "time": 1616759547.1031728
         },
         {
          "cpu_percent": 296.7,
          "cpu_time": 14.03,
          "name": "ReadCsvProjectSpace_1",
          "real_mem": 438607872,
          "time": 1616759547.1706011
         },
         {
          "cpu_percent": 194.2,
          "cpu_time": 14.059999999999999,
          "name": "ProdTypeTS_1",
          "real_mem": 439083008,
          "time": 1616759547.1926413
         },
         {
          "cpu_percent": 97.9,
          "cpu_time": 14.09,
          "name": "TranTypeTS_1",
          "real_mem": 439558144,
          "time": 1616759547.2706394
         },
         {
          "cpu_percent": 195.6,
          "cpu_time": 14.120000000000001,
          "name": "MercStatic_1",
          "real_mem": 439898112,
          "time": 1616759547.2926238
         },
         {
          "cpu_percent": 98.1,
          "cpu_time": 14.149999999999999,
          "name": "SparkConcat_2",
          "real_mem": 440078336,
          "time": 1616759547.3151803
         },
         {
          "cpu_percent": 0,
          "cpu_time": 14.16,
          "name": "CustMercTS_1",
          "real_mem": 440344576,
          "time": 1616759547.3373137
         },
         {
          "cpu_percent": 196.7,
          "cpu_time": 14.2,
          "name": "CustStatic_1",
          "real_mem": 440463360,
          "time": 1616759547.3702242
         },
         {
          "cpu_percent": 196.2,
          "cpu_time": 14.239999999999998,
          "name": "TranCityTS_1",
          "real_mem": 440586240,
          "time": 1616759547.3922288
         },
         {
          "cpu_percent": 294.7,
          "cpu_time": 14.309999999999999,
          "name": "SparkConcat_1",
          "real_mem": 441073664,
          "time": 1616759547.4698575
         },
         {
          "cpu_percent": 197.2,
          "cpu_time": 14.350000000000001,
          "name": "ReadCsvProjectSpace_1",
          "real_mem": 441073664,
          "time": 1616759547.4921997
         },
         {
          "cpu_percent": 196.1,
          "cpu_time": 14.370000000000001,
          "name": "ProdTypeTS_1",
          "real_mem": 441073664,
          "time": 1616759547.559181
         },
         {
          "cpu_percent": 98.3,
          "cpu_time": 14.4,
          "name": "TranTypeTS_1",
          "real_mem": 441303040,
          "time": 1616759547.5818725
         },
         {
          "cpu_percent": 196.6,
          "cpu_time": 14.43,
          "name": "MercStatic_1",
          "real_mem": 441376768,
          "time": 1616759547.6038446
         },
         {
          "cpu_percent": 47.1,
          "cpu_time": 14.450000000000001,
          "name": "SparkConcat_2",
          "real_mem": 441376768,
          "time": 1616759547.658815
         },
         {
          "cpu_percent": 196.5,
          "cpu_time": 14.48,
          "name": "CustMercTS_1",
          "real_mem": 441757696,
          "time": 1616759547.6808534
         },
         {
          "cpu_percent": 294,
          "cpu_time": 14.530000000000001,
          "name": "CustStatic_1",
          "real_mem": 441880576,
          "time": 1616759547.7031903
         },
         {
          "cpu_percent": 98.6,
          "cpu_time": 14.57,
          "name": "TranCityTS_1",
          "real_mem": 442146816,
          "time": 1616759547.7701578
         },
         {
          "cpu_percent": 195.2,
          "cpu_time": 14.6,
          "name": "SparkConcat_1",
          "real_mem": 442597376,
          "time": 1616759547.7923927
         },
         {
          "cpu_percent": 0,
          "cpu_time": 14.620000000000001,
          "name": "ReadCsvProjectSpace_1",
          "real_mem": 442597376,
          "time": 1616759547.8483644
         },
         {
          "cpu_percent": 195.5,
          "cpu_time": 14.700000000000001,
          "name": "TranTypeTS_1",
          "real_mem": 442904576,
          "time": 1616759547.8928022
         },
         {
          "cpu_percent": 98.4,
          "cpu_time": 14.65,
          "name": "ProdTypeTS_1",
          "real_mem": 442757120,
          "time": 1616759547.8708327
         },
         {
          "cpu_percent": 0,
          "cpu_time": 14.73,
          "name": "MercStatic_1",
          "real_mem": 442978304,
          "time": 1616759547.9487133
         },
         {
          "cpu_percent": 196.5,
          "cpu_time": 14.82,
          "name": "CustMercTS_1",
          "real_mem": 443285504,
          "time": 1616759547.9940052
         },
         {
          "cpu_percent": 268,
          "cpu_time": 14.77,
          "name": "SparkConcat_2",
          "real_mem": 442978304,
          "time": 1616759547.9721968
         },
         {
          "cpu_percent": 97,
          "cpu_time": 14.85,
          "name": "CustStatic_1",
          "real_mem": 443604992,
          "time": 1616759548.0701144
         },
         {
          "cpu_percent": 98.3,
          "cpu_time": 14.870000000000001,
          "name": "TranCityTS_1",
          "real_mem": 443830272,
          "time": 1616759548.092308
         },
         {
          "cpu_percent": 98.4,
          "cpu_time": 14.91,
          "name": "SparkConcat_1",
          "real_mem": 444186624,
          "time": 1616759548.1142182
         },
         {
          "cpu_percent": 195.9,
          "cpu_time": 14.969999999999999,
          "name": "ReadCsvProjectSpace_1",
          "real_mem": 444436480,
          "time": 1616759548.1706104
         },
         {
          "cpu_percent": 196.4,
          "cpu_time": 15.01,
          "name": "ProdTypeTS_1",
          "real_mem": 444739584,
          "time": 1616759548.1944284
         },
         {
          "cpu_percent": 98.3,
          "cpu_time": 15.04,
          "name": "TranTypeTS_1",
          "real_mem": 445120512,
          "time": 1616759548.2701192
         },
         {
          "cpu_percent": 196.7,
          "cpu_time": 15.11,
          "name": "SparkConcat_2",
          "real_mem": 445411328,
          "time": 1616759548.3150373
         },
         {
          "cpu_percent": 98.5,
          "cpu_time": 15.14,
          "name": "CustMercTS_1",
          "real_mem": 445464576,
          "time": 1616759548.3697126
         },
         {
          "cpu_percent": 294.9,
          "cpu_time": 15.08,
          "name": "MercStatic_1",
          "real_mem": 445120512,
          "time": 1616759548.293325
         },
         {
          "cpu_percent": 195,
          "cpu_time": 15.18,
          "name": "CustStatic_1",
          "real_mem": 445825024,
          "time": 1616759548.392067
         },
         {
          "cpu_percent": 295.4,
          "cpu_time": 15.229999999999999,
          "name": "TranCityTS_1",
          "real_mem": 445870080,
          "time": 1616759548.459043
         },
         {
          "cpu_percent": 197.4,
          "cpu_time": 15.27,
          "name": "SparkConcat_1",
          "real_mem": 445947904,
          "time": 1616759548.4805732
         },
         {
          "cpu_percent": 195.8,
          "cpu_time": 15.34,
          "name": "ProdTypeTS_1",
          "real_mem": 446025728,
          "time": 1616759548.581059
         },
         {
          "cpu_percent": 196.4,
          "cpu_time": 15.309999999999999,
          "name": "ReadCsvProjectSpace_1",
          "real_mem": 445947904,
          "time": 1616759548.5591443
         },
         {
          "cpu_percent": 95.9,
          "cpu_time": 15.379999999999999,
          "name": "TranTypeTS_1",
          "real_mem": 446025728,
          "time": 1616759548.603574
         },
         {
          "cpu_percent": 394.3,
          "cpu_time": 15.44,
          "name": "MercStatic_1",
          "real_mem": 446078976,
          "time": 1616759548.6704304
         },
         {
          "cpu_percent": 196.4,
          "cpu_time": 15.479999999999999,
          "name": "SparkConcat_2",
          "real_mem": 446431232,
          "time": 1616759548.693045
         },
         {
          "cpu_percent": 98.3,
          "cpu_time": 15.510000000000002,
          "name": "CustStatic_1",
          "real_mem": 447475712,
          "time": 1616759548.7694414
         },
         {
          "cpu_percent": 0,
          "cpu_time": 15.489999999999998,
          "name": "CustMercTS_1",
          "real_mem": 446431232,
          "time": 1616759548.7153857
         },
         {
          "cpu_percent": 197,
          "cpu_time": 15.579999999999998,
          "name": "SparkConcat_1",
          "real_mem": 447750144,
          "time": 1616759548.8484132
         },
         {
          "cpu_percent": 97.5,
          "cpu_time": 15.55,
          "name": "TranCityTS_1",
          "real_mem": 447475712,
          "time": 1616759548.7920904
         },
         {
          "cpu_percent": 31,
          "cpu_time": 15.680000000000001,
          "name": "ProdTypeTS_1",
          "real_mem": 447950848,
          "time": 1616759548.948541
         },
         {
          "cpu_percent": 195.6,
          "cpu_time": 15.63,
          "name": "ReadCsvProjectSpace_1",
          "real_mem": 447750144,
          "time": 1616759548.8718507
         },
         {
          "cpu_percent": 196.2,
          "cpu_time": 15.74,
          "name": "TranTypeTS_1",
          "real_mem": 448389120,
          "time": 1616759548.9722064
         },
         {
          "cpu_percent": 196.4,
          "cpu_time": 15.790000000000001,
          "name": "MercStatic_1",
          "real_mem": 448507904,
          "time": 1616759549.059049
         },
         {
          "cpu_percent": 96,
          "cpu_time": 15.83,
          "name": "SparkConcat_2",
          "real_mem": 448577536,
          "time": 1616759549.0811071
         },
         {
          "cpu_percent": 196.6,
          "cpu_time": 15.89,
          "name": "CustStatic_1",
          "real_mem": 448925696,
          "time": 1616759549.169797
         },
         {
          "cpu_percent": 196.5,
          "cpu_time": 15.92,
          "name": "TranCityTS_1",
          "real_mem": 449208320,
          "time": 1616759549.1915598
         },
         {
          "cpu_percent": 96.6,
          "cpu_time": 15.850000000000001,
          "name": "CustMercTS_1",
          "real_mem": 448647168,
          "time": 1616759549.1038814
         },
         {
          "cpu_percent": 98.2,
          "cpu_time": 15.940000000000001,
          "name": "SparkConcat_1",
          "real_mem": 449437696,
          "time": 1616759549.2141848
         },
         {
          "cpu_percent": 98.2,
          "cpu_time": 15.98,
          "name": "ReadCsvProjectSpace_1",
          "real_mem": 449527808,
          "time": 1616759549.259007
         },
         {
          "cpu_percent": 196.5,
          "cpu_time": 16.009999999999998,
          "name": "ProdTypeTS_1",
          "real_mem": 449867776,
          "time": 1616759549.281756
         },
         {
          "cpu_percent": 196.4,
          "cpu_time": 16.04,
          "name": "TranTypeTS_1",
          "real_mem": 449867776,
          "time": 1616759549.3041325
         },
         {
          "cpu_percent": 0,
          "cpu_time": 16.04,
          "name": "MercStatic_1",
          "real_mem": 449867776,
          "time": 1616759549.3317323
         },
         {
          "cpu_percent": 98.2,
          "cpu_time": 16.08,
          "name": "SparkConcat_2",
          "real_mem": 449982464,
          "time": 1616759549.370252
         },
         {
          "cpu_percent": 98.3,
          "cpu_time": 16.11,
          "name": "CustMercTS_1",
          "real_mem": 450535424,
          "time": 1616759549.3926148
         },
         {
          "cpu_percent": 195.8,
          "cpu_time": 16.17,
          "name": "CustStatic_1",
          "real_mem": 450797568,
          "time": 1616759549.4693527
         },
         {
          "cpu_percent": 98.5,
          "cpu_time": 16.189999999999998,
          "name": "TranCityTS_1",
          "real_mem": 451014656,
          "time": 1616759549.4917123
         },
         {
          "cpu_percent": 98.2,
          "cpu_time": 16.22,
          "name": "SparkConcat_1",
          "real_mem": 451342336,
          "time": 1616759549.5135794
         },
         {
          "cpu_percent": 0,
          "cpu_time": 16.240000000000002,
          "name": "ReadCsvProjectSpace_1",
          "real_mem": 451342336,
          "time": 1616759549.536576
         },
         {
          "cpu_percent": 98.3,
          "cpu_time": 16.26,
          "name": "ProdTypeTS_1",
          "real_mem": 451465216,
          "time": 1616759549.5719008
         },
         {
          "cpu_percent": 192.1,
          "cpu_time": 16.3,
          "name": "TranTypeTS_1",
          "real_mem": 451465216,
          "time": 1616759549.5947125
         },
         {
          "cpu_percent": 98.6,
          "cpu_time": 16.32,
          "name": "MercStatic_1",
          "real_mem": 451465216,
          "time": 1616759549.6169467
         },
         {
          "cpu_percent": 98.3,
          "cpu_time": 16.34,
          "name": "SparkConcat_2",
          "real_mem": 451489792,
          "time": 1616759549.6591022
         },
         {
          "cpu_percent": 97.7,
          "cpu_time": 16.37,
          "name": "CustMercTS_1",
          "real_mem": 451559424,
          "time": 1616759549.6815667
         },
         {
          "cpu_percent": 0,
          "cpu_time": 16.45,
          "name": "CustStatic_1",
          "real_mem": 451813376,
          "time": 1616759549.7694573
         },
         {
          "cpu_percent": 97.4,
          "cpu_time": 16.48,
          "name": "TranCityTS_1",
          "real_mem": 451997696,
          "time": 1616759549.791344
         },
         {
          "cpu_percent": 98,
          "cpu_time": 16.5,
          "name": "SparkConcat_1",
          "real_mem": 451997696,
          "time": 1616759549.8132226
         },
         {
          "cpu_percent": 0,
          "cpu_time": 16.52,
          "name": "ReadCsvProjectSpace_1",
          "real_mem": 451997696,
          "time": 1616759549.8359106
         },
         {
          "cpu_percent": 197.2,
          "cpu_time": 16.57,
          "name": "ProdTypeTS_1",
          "real_mem": 452358144,
          "time": 1616759549.872755
         },
         {
          "cpu_percent": 96.3,
          "cpu_time": 16.6,
          "name": "TranTypeTS_1",
          "real_mem": 452685824,
          "time": 1616759549.8949656
         },
         {
          "cpu_percent": 0,
          "cpu_time": 16.62,
          "name": "MercStatic_1",
          "real_mem": 452685824,
          "time": 1616759549.9172063
         },
         {
          "cpu_percent": 0,
          "cpu_time": 16.62,
          "name": "SparkConcat_2",
          "real_mem": 452685824,
          "time": 1616759549.940064
         },
         {
          "cpu_percent": 97.5,
          "cpu_time": 16.64,
          "name": "CustMercTS_1",
          "real_mem": 452976640,
          "time": 1616759549.969979
         },
         {
          "cpu_percent": 98.1,
          "cpu_time": 16.73,
          "name": "CustStatic_1",
          "real_mem": 453636096,
          "time": 1616759550.0692296
         },
         {
          "cpu_percent": 98.6,
          "cpu_time": 16.75,
          "name": "TranCityTS_1",
          "real_mem": 453906432,
          "time": 1616759550.091535
         },
         {
          "cpu_percent": 196,
          "cpu_time": 16.8,
          "name": "SparkConcat_1",
          "real_mem": 453984256,
          "time": 1616759550.1133559
         },
         {
          "cpu_percent": 295.2,
          "cpu_time": 16.83,
          "name": "ReadCsvProjectSpace_1",
          "real_mem": 454307840,
          "time": 1616759550.159173
         },
         {
          "cpu_percent": 195.4,
          "cpu_time": 16.88,
          "name": "ProdTypeTS_1",
          "real_mem": 454758400,
          "time": 1616759550.1821527
         },
         {
          "cpu_percent": 0,
          "cpu_time": 16.9,
          "name": "TranTypeTS_1",
          "real_mem": 454758400,
          "time": 1616759550.2041488
         },
         {
          "cpu_percent": 98.2,
          "cpu_time": 16.919999999999998,
          "name": "MercStatic_1",
          "real_mem": 455069696,
          "time": 1616759550.2698507
         },
         {
          "cpu_percent": 97.6,
          "cpu_time": 16.95,
          "name": "SparkConcat_2",
          "real_mem": 455159808,
          "time": 1616759550.2916925
         },
         {
          "cpu_percent": 98.6,
          "cpu_time": 16.97,
          "name": "CustMercTS_1",
          "real_mem": 455376896,
          "time": 1616759550.3142216
         },
         {
          "cpu_percent": 0,
          "cpu_time": 16.99,
          "name": "CustStatic_1",
          "real_mem": 455376896,
          "time": 1616759550.3424275
         },
         {
          "cpu_percent": 196.2,
          "cpu_time": 17.009999999999998,
          "name": "TranCityTS_1",
          "real_mem": 455540736,
          "time": 1616759550.3643436
         },
         {
          "cpu_percent": 254,
          "cpu_time": 17.05,
          "name": "SparkConcat_1",
          "real_mem": 455860224,
          "time": 1616759550.3890007
         },
         {
          "cpu_percent": 98,
          "cpu_time": 17.11,
          "name": "ReadCsvProjectSpace_1",
          "real_mem": 456261632,
          "time": 1616759550.469232
         },
         {
          "cpu_percent": 98.4,
          "cpu_time": 17.13,
          "name": "ProdTypeTS_1",
          "real_mem": 456523776,
          "time": 1616759550.4911175
         },
         {
          "cpu_percent": 196.8,
          "cpu_time": 17.169999999999998,
          "name": "TranTypeTS_1",
          "real_mem": 456658944,
          "time": 1616759550.513101
         },
         {
          "cpu_percent": 196.8,
          "cpu_time": 17.21,
          "name": "MercStatic_1",
          "real_mem": 456851456,
          "time": 1616759550.5592415
         },
         {
          "cpu_percent": 98.3,
          "cpu_time": 17.23,
          "name": "SparkConcat_2",
          "real_mem": 456851456,
          "time": 1616759550.5813086
         },
         {
          "cpu_percent": 87.4,
          "cpu_time": 17.259999999999998,
          "name": "CustMercTS_1",
          "real_mem": 457658368,
          "time": 1616759550.6049943
         },
         {
          "cpu_percent": 0,
          "cpu_time": 17.28,
          "name": "CustStatic_1",
          "real_mem": 457658368,
          "time": 1616759550.6272562
         },
         {
          "cpu_percent": 0,
          "cpu_time": 17.28,
          "name": "TranCityTS_1",
          "real_mem": 457658368,
          "time": 1616759550.649631
         },
         {
          "cpu_percent": 195.9,
          "cpu_time": 17.32,
          "name": "SparkConcat_1",
          "real_mem": 458067968,
          "time": 1616759550.6722894
         },
         {
          "cpu_percent": 195.6,
          "cpu_time": 17.419999999999998,
          "name": "ReadCsvProjectSpace_1",
          "real_mem": 458694656,
          "time": 1616759550.7694113
         },
         {
          "cpu_percent": 194.1,
          "cpu_time": 17.48,
          "name": "ProdTypeTS_1",
          "real_mem": 459083776,
          "time": 1616759550.7919796
         },
         {
          "cpu_percent": 192.8,
          "cpu_time": 17.53,
          "name": "TranTypeTS_1",
          "real_mem": 459157504,
          "time": 1616759550.8705206
         },
         {
          "cpu_percent": 195.4,
          "cpu_time": 17.57,
          "name": "MercStatic_1",
          "real_mem": 459407360,
          "time": 1616759550.8932657
         },
         {
          "cpu_percent": 98.2,
          "cpu_time": 17.6,
          "name": "SparkConcat_2",
          "real_mem": 459722752,
          "time": 1616759550.9706125
         },
         {
          "cpu_percent": 196,
          "cpu_time": 17.650000000000002,
          "name": "CustMercTS_1",
          "real_mem": 459972608,
          "time": 1616759551.048216
         },
         {
          "cpu_percent": 196.4,
          "cpu_time": 17.72,
          "name": "CustStatic_1",
          "real_mem": 459972608,
          "time": 1616759551.0719383
         },
         {
          "cpu_percent": 195.6,
          "cpu_time": 17.759999999999998,
          "name": "TranCityTS_1",
          "real_mem": 460189696,
          "time": 1616759551.0940843
         },
         {
          "cpu_percent": 238.8,
          "cpu_time": 17.81,
          "name": "SparkConcat_1",
          "real_mem": 460320768,
          "time": 1616759551.1732178
         },
         {
          "cpu_percent": 97.8,
          "cpu_time": 17.849999999999998,
          "name": "ReadCsvProjectSpace_1",
          "real_mem": 460320768,
          "time": 1616759551.1953537
         },
         {
          "cpu_percent": 294.7,
          "cpu_time": 17.91,
          "name": "ProdTypeTS_1",
          "real_mem": 460603392,
          "time": 1616759551.2706876
         },
         {
          "cpu_percent": 0,
          "cpu_time": 18.06,
          "name": "SparkConcat_2",
          "real_mem": 461262848,
          "time": 1616759551.3930187
         },
         {
          "cpu_percent": 0,
          "cpu_time": 17.96,
          "name": "TranTypeTS_1",
          "real_mem": 461045760,
          "time": 1616759551.29373
         },
         {
          "cpu_percent": 293.5,
          "cpu_time": 18.029999999999998,
          "name": "MercStatic_1",
          "real_mem": 461262848,
          "time": 1616759551.3707821
         },
         {
          "cpu_percent": 196.9,
          "cpu_time": 18.119999999999997,
          "name": "CustMercTS_1",
          "real_mem": 461635584,
          "time": 1616759551.470611
         },
         {
          "cpu_percent": 0,
          "cpu_time": 18.14,
          "name": "CustStatic_1",
          "real_mem": 462176256,
          "time": 1616759551.492709
         },
         {
          "cpu_percent": 196.1,
          "cpu_time": 18.18,
          "name": "TranCityTS_1",
          "real_mem": 462176256,
          "time": 1616759551.5703163
         },
         {
          "cpu_percent": 30.8,
          "cpu_time": 18.23,
          "name": "SparkConcat_1",
          "real_mem": 462176256,
          "time": 1616759551.649007
         },
         {
          "cpu_percent": 196.2,
          "cpu_time": 18.279999999999998,
          "name": "ReadCsvProjectSpace_1",
          "real_mem": 463581184,
          "time": 1616759551.6714725
         },
         {
          "cpu_percent": 98.4,
          "cpu_time": 18.34,
          "name": "ProdTypeTS_1",
          "real_mem": 464117760,
          "time": 1616759551.6936295
         },
         {
          "cpu_percent": 391.6,
          "cpu_time": 18.4,
          "name": "TranTypeTS_1",
          "real_mem": 465076224,
          "time": 1616759551.7706413
         },
         {
          "cpu_percent": 196.1,
          "cpu_time": 18.479999999999997,
          "name": "SparkConcat_2",
          "real_mem": 467099648,
          "time": 1616759551.8696175
         },
         {
          "cpu_percent": 97.7,
          "cpu_time": 18.439999999999998,
          "name": "MercStatic_1",
          "real_mem": 466956288,
          "time": 1616759551.794482
         },
         {
          "cpu_percent": 192,
          "cpu_time": 18.529999999999998,
          "name": "CustMercTS_1",
          "real_mem": 467099648,
          "time": 1616759551.8927906
         },
         {
          "cpu_percent": 194.7,
          "cpu_time": 18.57,
          "name": "CustStatic_1",
          "real_mem": 467099648,
          "time": 1616759551.969944
         },
         {
          "cpu_percent": 194.9,
          "cpu_time": 18.62,
          "name": "TranCityTS_1",
          "real_mem": 467365888,
          "time": 1616759551.9925253
         },
         {
          "cpu_percent": 196.9,
          "cpu_time": 18.64,
          "name": "SparkConcat_1",
          "real_mem": 468443136,
          "time": 1616759552.0591846
         },
         {
          "cpu_percent": 196.3,
          "cpu_time": 18.7,
          "name": "ReadCsvProjectSpace_1",
          "real_mem": 468443136,
          "time": 1616759552.0811331
         },
         {
          "cpu_percent": 0,
          "cpu_time": 18.72,
          "name": "ProdTypeTS_1",
          "real_mem": 468983808,
          "time": 1616759552.1034033
         },
         {
          "cpu_percent": 196.2,
          "cpu_time": 18.77,
          "name": "TranTypeTS_1",
          "real_mem": 469766144,
          "time": 1616759552.1730027
         },
         {
          "cpu_percent": 97.2,
          "cpu_time": 18.82,
          "name": "MercStatic_1",
          "real_mem": 469766144,
          "time": 1616759552.1957676
         },
         {
          "cpu_percent": 194,
          "cpu_time": 18.87,
          "name": "SparkConcat_2",
          "real_mem": 470032384,
          "time": 1616759552.2722104
         },
         {
          "cpu_percent": 294.9,
          "cpu_time": 19.06,
          "name": "CustMercTS_1",
          "real_mem": 472375296,
          "time": 1616759552.4696476
         },
         {
          "cpu_percent": 0,
          "cpu_time": 19.09,
          "name": "CustStatic_1",
          "real_mem": 472690688,
          "time": 1616759552.4937418
         },
         {
          "cpu_percent": 98.3,
          "cpu_time": 19.12,
          "name": "TranCityTS_1",
          "real_mem": 473661440,
          "time": 1616759552.5705118
         },
         {
          "cpu_percent": 196.5,
          "cpu_time": 19.169999999999998,
          "name": "SparkConcat_1",
          "real_mem": 474247168,
          "time": 1616759552.5932026
         },
         {
          "cpu_percent": 0,
          "cpu_time": 19.19,
          "name": "ReadCsvProjectSpace_1",
          "real_mem": 474247168,
          "time": 1616759552.615717
         },
         {
          "cpu_percent": 295.3,
          "cpu_time": 19.25,
          "name": "ProdTypeTS_1",
          "real_mem": 474247168,
          "time": 1616759552.6705034
         },
         {
          "cpu_percent": 195.7,
          "cpu_time": 19.31,
          "name": "TranTypeTS_1",
          "real_mem": 474726400,
          "time": 1616759552.7591321
         },
         {
          "cpu_percent": 196.9,
          "cpu_time": 19.36,
          "name": "MercStatic_1",
          "real_mem": 474726400,
          "time": 1616759552.7811537
         },
         {
          "cpu_percent": 0,
          "cpu_time": 19.38,
          "name": "SparkConcat_2",
          "real_mem": 474726400,
          "time": 1616759552.8037255
         },
         {
          "cpu_percent": 196.6,
          "cpu_time": 19.57,
          "name": "CustMercTS_1",
          "real_mem": 475631616,
          "time": 1616759552.992292
         },
         {
          "cpu_percent": 196.4,
          "cpu_time": 19.630000000000003,
          "name": "CustStatic_1",
          "real_mem": 475893760,
          "time": 1616759553.0705917
         },
         {
          "cpu_percent": 196.6,
          "cpu_time": 19.67,
          "name": "TranCityTS_1",
          "real_mem": 476225536,
          "time": 1616759553.0928826
         },
         {
          "cpu_percent": 196.4,
          "cpu_time": 19.720000000000002,
          "name": "SparkConcat_1",
          "real_mem": 476225536,
          "time": 1616759553.171052
         },
         {
          "cpu_percent": 195.7,
          "cpu_time": 19.77,
          "name": "ReadCsvProjectSpace_1",
          "real_mem": 476565504,
          "time": 1616759553.1931653
         },
         {
          "cpu_percent": 294.9,
          "cpu_time": 19.830000000000002,
          "name": "ProdTypeTS_1",
          "real_mem": 477556736,
          "time": 1616759553.271023
         },
         {
          "cpu_percent": 0,
          "cpu_time": 19.869999999999997,
          "name": "TranTypeTS_1",
          "real_mem": 478367744,
          "time": 1616759553.2937257
         },
         {
          "cpu_percent": 252.8,
          "cpu_time": 19.93,
          "name": "MercStatic_1",
          "real_mem": 478961664,
          "time": 1616759553.3726335
         },
         {
          "cpu_percent": 0,
          "cpu_time": 19.959999999999997,
          "name": "SparkConcat_2",
          "real_mem": 479129600,
          "time": 1616759553.3950822
         },
         {
          "cpu_percent": 294.2,
          "cpu_time": 20.11,
          "name": "CustMercTS_1",
          "real_mem": 480342016,
          "time": 1616759553.569905
         },
         {
          "cpu_percent": 0,
          "cpu_time": 20.150000000000002,
          "name": "CustStatic_1",
          "real_mem": 480342016,
          "time": 1616759553.5936434
         },
         {
          "cpu_percent": 196.8,
          "cpu_time": 20.19,
          "name": "TranCityTS_1",
          "real_mem": 480608256,
          "time": 1616759553.671254
         },
         {
          "cpu_percent": 15.3,
          "cpu_time": 20.23,
          "name": "SparkConcat_1",
          "real_mem": 480661504,
          "time": 1616759553.7485492
         },
         {
          "cpu_percent": 296,
          "cpu_time": 20.299999999999997,
          "name": "ReadCsvProjectSpace_1",
          "real_mem": 480661504,
          "time": 1616759553.771046
         },
         {
          "cpu_percent": 15.3,
          "cpu_time": 20.34,
          "name": "ProdTypeTS_1",
          "real_mem": 480940032,
          "time": 1616759553.8487139
         },
         {
          "cpu_percent": 294.1,
          "cpu_time": 20.4,
          "name": "TranTypeTS_1",
          "real_mem": 481206272,
          "time": 1616759553.8710487
         },
         {
          "cpu_percent": 196.8,
          "cpu_time": 20.44,
          "name": "MercStatic_1",
          "real_mem": 481353728,
          "time": 1616759553.8948689
         },
         {
          "cpu_percent": 194.2,
          "cpu_time": 20.48,
          "name": "SparkConcat_2",
          "real_mem": 481714176,
          "time": 1616759553.970474
         },
         {
          "cpu_percent": 0,
          "cpu_time": 20.62,
          "name": "CustMercTS_1",
          "real_mem": 482828288,
          "time": 1616759554.1484342
         },
         {
          "cpu_percent": 196.5,
          "cpu_time": 20.67,
          "name": "CustStatic_1",
          "real_mem": 483270656,
          "time": 1616759554.1710136
         },
         {
          "cpu_percent": 98.4,
          "cpu_time": 20.73,
          "name": "TranCityTS_1",
          "real_mem": 483270656,
          "time": 1616759554.193734
         },
         {
          "cpu_percent": 289.7,
          "cpu_time": 20.78,
          "name": "SparkConcat_1",
          "real_mem": 483270656,
          "time": 1616759554.2708573
         },
         {
          "cpu_percent": 98.5,
          "cpu_time": 20.82,
          "name": "ReadCsvProjectSpace_1",
          "real_mem": 483643392,
          "time": 1616759554.2936337
         },
         {
          "cpu_percent": 197,
          "cpu_time": 20.87,
          "name": "ProdTypeTS_1",
          "real_mem": 483758080,
          "time": 1616759554.371576
         },
         {
          "cpu_percent": 0,
          "cpu_time": 20.900000000000002,
          "name": "TranTypeTS_1",
          "real_mem": 484024320,
          "time": 1616759554.3937511
         },
         {
          "cpu_percent": 196.6,
          "cpu_time": 20.96,
          "name": "MercStatic_1",
          "real_mem": 484294656,
          "time": 1616759554.4709349
         },
         {
          "cpu_percent": 98.1,
          "cpu_time": 21,
          "name": "SparkConcat_2",
          "real_mem": 484618240,
          "time": 1616759554.4933057
         },
         {
          "cpu_percent": 196.2,
          "cpu_time": 21.16,
          "name": "CustMercTS_1",
          "real_mem": 486350848,
          "time": 1616759554.672218
         },
         {
          "cpu_percent": 97.1,
          "cpu_time": 21.200000000000003,
          "name": "CustStatic_1",
          "real_mem": 486453248,
          "time": 1616759554.7483737
         },
         {
          "cpu_percent": 196.4,
          "cpu_time": 21.25,
          "name": "TranCityTS_1",
          "real_mem": 486813696,
          "time": 1616759554.7716298
         },
         {
          "cpu_percent": 0,
          "cpu_time": 21.28,
          "name": "SparkConcat_1",
          "real_mem": 487624704,
          "time": 1616759554.7960074
         },
         {
          "cpu_percent": 295.2,
          "cpu_time": 21.34,
          "name": "ReadCsvProjectSpace_1",
          "real_mem": 488800256,
          "time": 1616759554.8698416
         },
         {
          "cpu_percent": 196.4,
          "cpu_time": 21.39,
          "name": "ProdTypeTS_1",
          "real_mem": 489226240,
          "time": 1616759554.8949618
         },
         {
          "cpu_percent": 194.3,
          "cpu_time": 21.43,
          "name": "TranTypeTS_1",
          "real_mem": 489492480,
          "time": 1616759554.9697788
         },
         {
          "cpu_percent": 196.1,
          "cpu_time": 21.48,
          "name": "MercStatic_1",
          "real_mem": 489971712,
          "time": 1616759554.9934165
         },
         {
          "cpu_percent": 194.1,
          "cpu_time": 21.52,
          "name": "SparkConcat_2",
          "real_mem": 490332160,
          "time": 1616759555.0701258
         },
         {
          "cpu_percent": 114.2,
          "cpu_time": 21.67,
          "name": "CustMercTS_1",
          "real_mem": 490872832,
          "time": 1616759555.2484272
         },
         {
          "cpu_percent": 295.1,
          "cpu_time": 21.73,
          "name": "CustStatic_1",
          "real_mem": 491094016,
          "time": 1616759555.2706306
         },
         {
          "cpu_percent": 98,
          "cpu_time": 21.77,
          "name": "TranCityTS_1",
          "real_mem": 491143168,
          "time": 1616759555.294511
         },
         {
          "cpu_percent": 98.2,
          "cpu_time": 21.799999999999997,
          "name": "SparkConcat_1",
          "real_mem": 491143168,
          "time": 1616759555.370545
         },
         {
          "cpu_percent": 98.3,
          "cpu_time": 21.83,
          "name": "ReadCsvProjectSpace_1",
          "real_mem": 491143168,
          "time": 1616759555.3925922
         },
         {
          "cpu_percent": 98.3,
          "cpu_time": 21.849999999999998,
          "name": "ProdTypeTS_1",
          "real_mem": 491143168,
          "time": 1616759555.4172425
         },
         {
          "cpu_percent": 98.3,
          "cpu_time": 21.9,
          "name": "TranTypeTS_1",
          "real_mem": 491143168,
          "time": 1616759555.493306
         },
         {
          "cpu_percent": 98,
          "cpu_time": 21.93,
          "name": "MercStatic_1",
          "real_mem": 491143168,
          "time": 1616759555.515725
         },
         {
          "cpu_percent": 197.4,
          "cpu_time": 22.04,
          "name": "SparkConcat_2",
          "real_mem": 491335680,
          "time": 1616759555.5956163
         },
         {
          "cpu_percent": 392.2,
          "cpu_time": 22.22,
          "name": "CustMercTS_1",
          "real_mem": 492220416,
          "time": 1616759555.7721927
         },
         {
          "cpu_percent": 0,
          "cpu_time": 22.240000000000002,
          "name": "CustStatic_1",
          "real_mem": 492220416,
          "time": 1616759555.7942643
         },
         {
          "cpu_percent": 294.6,
          "cpu_time": 22.3,
          "name": "TranCityTS_1",
          "real_mem": 492482560,
          "time": 1616759555.8708138
         },
         {
          "cpu_percent": 0,
          "cpu_time": 22.330000000000002,
          "name": "SparkConcat_1",
          "real_mem": 492924928,
          "time": 1616759555.892872
         },
         {
          "cpu_percent": 295.3,
          "cpu_time": 22.39,
          "name": "ReadCsvProjectSpace_1",
          "real_mem": 493064192,
          "time": 1616759555.9710715
         },
         {
          "cpu_percent": 98.1,
          "cpu_time": 22.43,
          "name": "ProdTypeTS_1",
          "real_mem": 493064192,
          "time": 1616759555.9931831
         },
         {
          "cpu_percent": 196.8,
          "cpu_time": 22.47,
          "name": "TranTypeTS_1",
          "real_mem": 493064192,
          "time": 1616759556.070682
         },
         {
          "cpu_percent": 97.7,
          "cpu_time": 22.52,
          "name": "MercStatic_1",
          "real_mem": 493064192,
          "time": 1616759556.0933924
         },
         {
          "cpu_percent": 195.5,
          "cpu_time": 22.57,
          "name": "SparkConcat_2",
          "real_mem": 493064192,
          "time": 1616759556.1694841
         },
         {
          "cpu_percent": 98.9,
          "cpu_time": 22.71,
          "name": "CustStatic_1",
          "real_mem": 493064192,
          "time": 1616759556.3194218
         },
         {
          "cpu_percent": 97.8,
          "cpu_time": 22.69,
          "name": "CustMercTS_1",
          "real_mem": 493064192,
          "time": 1616759556.297164
         },
         {
          "cpu_percent": 15.4,
          "cpu_time": 22.810000000000002,
          "name": "TranCityTS_1",
          "real_mem": 493318144,
          "time": 1616759556.4485874
         },
         {
          "cpu_percent": 294.7,
          "cpu_time": 22.87,
          "name": "SparkConcat_1",
          "real_mem": 493588480,
          "time": 1616759556.470529
         },
         {
          "cpu_percent": 0,
          "cpu_time": 22.91,
          "name": "ReadCsvProjectSpace_1",
          "real_mem": 493834240,
          "time": 1616759556.4945352
         },
         {
          "cpu_percent": 293.7,
          "cpu_time": 22.96,
          "name": "ProdTypeTS_1",
          "real_mem": 494014464,
          "time": 1616759556.570612
         },
         {
          "cpu_percent": 15.3,
          "cpu_time": 23,
          "name": "TranTypeTS_1",
          "real_mem": 494292992,
          "time": 1616759556.6484194
         },
         {
          "cpu_percent": 195.3,
          "cpu_time": 23.06,
          "name": "MercStatic_1",
          "real_mem": 494338048,
          "time": 1616759556.6703508
         },
         {
          "cpu_percent": 98.6,
          "cpu_time": 23.09,
          "name": "SparkConcat_2",
          "real_mem": 494391296,
          "time": 1616759556.6924458
         },
         {
          "cpu_percent": 196.8,
          "cpu_time": 23.3,
          "name": "CustStatic_1",
          "real_mem": 495222784,
          "time": 1616759556.9722967
         },
         {
          "cpu_percent": 36.1,
          "cpu_time": 23.45,
          "name": "TranCityTS_1",
          "real_mem": 495763456,
          "time": 1616759557.1490524
         },
         {
          "cpu_percent": 394.2,
          "cpu_time": 23.54,
          "name": "SparkConcat_1",
          "real_mem": 495919104,
          "time": 1616759557.1712198
         },
         {
          "cpu_percent": 0,
          "cpu_time": 23.240000000000002,
          "name": "CustMercTS_1",
          "real_mem": 495222784,
          "time": 1616759556.8977623
         },
         {
          "cpu_percent": 391.7,
          "cpu_time": 23.8,
          "name": "TranTypeTS_1",
          "real_mem": 497160192,
          "time": 1616759557.4711177
         },
         {
          "cpu_percent": 208.89999999999998,
          "cpu_time": 23.85,
          "name": "MercStatic_1",
          "real_mem": 497160192,
          "time": 1616759557.5591269
         },
         {
          "cpu_percent": 0,
          "cpu_time": 23.919999999999998,
          "name": "SparkConcat_2",
          "real_mem": 497233920,
          "time": 1616759557.594785
         },
         {
          "cpu_percent": 23.5,
          "cpu_time": 24.01,
          "name": "CustMercTS_1",
          "real_mem": 497451008,
          "time": 1616759557.7485502
         },
         {
          "cpu_percent": 195.7,
          "cpu_time": 24.299999999999997,
          "name": "SparkConcat_1",
          "real_mem": 497979392,
          "time": 1616759557.9721198
         },
         {
          "cpu_percent": 34.1,
          "cpu_time": 24.11,
          "name": "CustStatic_1",
          "real_mem": 497528832,
          "time": 1616759557.8487659
         },
         {
          "cpu_percent": 98.3,
          "cpu_time": 23.73,
          "name": "ProdTypeTS_1",
          "real_mem": 497090560,
          "time": 1616759557.3876605
         },
         {
          "cpu_percent": 0,
          "cpu_time": 24.66,
          "name": "SparkConcat_2",
          "real_mem": 518184960,
          "time": 1616759558.449455
         },
         {
          "cpu_percent": 98.3,
          "cpu_time": 24.48,
          "name": "ProdTypeTS_1",
          "real_mem": 498544640,
          "time": 1616759558.2485046
         },
         {
          "cpu_percent": 197.4,
          "cpu_time": 24.72,
          "name": "CustMercTS_1",
          "real_mem": 523591680,
          "time": 1616759558.4730268
         },
         {
          "cpu_percent": 193.6,
          "cpu_time": 24.630000000000003,
          "name": "MercStatic_1",
          "real_mem": 509534208,
          "time": 1616759558.3708794
         },
         {
          "cpu_percent": 688.3,
          "cpu_time": 24.84,
          "name": "CustStatic_1",
          "real_mem": 523853824,
          "time": 1616759558.559625
         },
         {
          "cpu_percent": 97.9,
          "cpu_time": 24.209999999999997,
          "name": "TranCityTS_1",
          "real_mem": 497528832,
          "time": 1616759557.8873923
         },
         {
          "cpu_percent": 155.7,
          "cpu_time": 24.96,
          "name": "SparkConcat_1",
          "real_mem": 524402688,
          "time": 1616759558.7490823
         },
         {
          "cpu_percent": 98.3,
          "cpu_time": 23.630000000000003,
          "name": "ReadCsvProjectSpace_1",
          "real_mem": 496214016,
          "time": 1616759557.2752934
         },
         {
          "cpu_percent": 0,
          "cpu_time": 24.85,
          "name": "TranCityTS_1",
          "real_mem": 523853824,
          "time": 1616759558.5817556
         },
         {
          "cpu_percent": 196.4,
          "cpu_time": 24.59,
          "name": "TranTypeTS_1",
          "real_mem": 498733056,
          "time": 1616759558.2709668
         },
         {
          "cpu_percent": 23,
          "cpu_time": 25.13,
          "name": "ProdTypeTS_1",
          "real_mem": 525205504,
          "time": 1616759558.948689
         },
         {
          "cpu_percent": 12.3,
          "cpu_time": 25.23,
          "name": "TranTypeTS_1",
          "real_mem": 525475840,
          "time": 1616759559.0486953
         },
         {
          "cpu_percent": 484.5,
          "cpu_time": 25.330000000000002,
          "name": "MercStatic_1",
          "real_mem": 525508608,
          "time": 1616759559.072007
         },
         {
          "cpu_percent": 394.4,
          "cpu_time": 25.41,
          "name": "SparkConcat_2",
          "real_mem": 525778944,
          "time": 1616759559.169814
         },
         {
          "cpu_percent": 0,
          "cpu_time": 25.42,
          "name": "CustMercTS_1",
          "real_mem": 525778944,
          "time": 1616759559.1916044
         },
         {
          "cpu_percent": 196.8,
          "cpu_time": 25.520000000000003,
          "name": "CustStatic_1",
          "real_mem": 525914112,
          "time": 1616759559.2707467
         },
         {
          "cpu_percent": 34.3,
          "cpu_time": 25.6,
          "name": "TranCityTS_1",
          "real_mem": 526094336,
          "time": 1616759559.449138
         },
         {
          "cpu_percent": 34.4,
          "cpu_time": 25.7,
          "name": "SparkConcat_1",
          "real_mem": 526381056,
          "time": 1616759559.5486438
         },
         {
          "cpu_percent": 394.7,
          "cpu_time": 25.86,
          "name": "ProdTypeTS_1",
          "real_mem": 527065088,
          "time": 1616759559.6706824
         },
         {
          "cpu_percent": 0,
          "cpu_time": 25.900000000000002,
          "name": "TranTypeTS_1",
          "real_mem": 527065088,
          "time": 1616759559.6938076
         },
         {
          "cpu_percent": 588.1,
          "cpu_time": 26.060000000000002,
          "name": "SparkConcat_2",
          "real_mem": 527851520,
          "time": 1616759559.8598065
         },
         {
          "cpu_percent": 295.3,
          "cpu_time": 25.950000000000003,
          "name": "MercStatic_1",
          "real_mem": 527605760,
          "time": 1616759559.7712193
         },
         {
          "cpu_percent": 0,
          "cpu_time": 26.08,
          "name": "CustMercTS_1",
          "real_mem": 527851520,
          "time": 1616759559.8823957
         },
         {
          "cpu_percent": 34.1,
          "cpu_time": 26.18,
          "name": "CustStatic_1",
          "real_mem": 527892480,
          "time": 1616759560.0490978
         },
         {
          "cpu_percent": 0,
          "cpu_time": 24.299999999999997,
          "name": "ReadCsvProjectSpace_1",
          "real_mem": 497979392,
          "time": 1616759557.9941287
         },
         {
          "cpu_percent": 46.3,
          "cpu_time": 25.04,
          "name": "ReadCsvProjectSpace_1",
          "real_mem": 524992512,
          "time": 1616759558.8486981
         },
         {
          "cpu_percent": 490.1,
          "cpu_time": 26.26,
          "name": "TranCityTS_1",
          "real_mem": 527904768,
          "time": 1616759560.0720856
         },
         {
          "cpu_percent": 492.3,
          "cpu_time": 26.34,
          "name": "SparkConcat_1",
          "real_mem": 528134144,
          "time": 1616759560.1698277
         },
         {
          "cpu_percent": 23,
          "cpu_time": 25.79,
          "name": "ReadCsvProjectSpace_1",
          "real_mem": 526729216,
          "time": 1616759559.6486354
         },
         {
          "cpu_percent": 484.2,
          "cpu_time": 26.54,
          "name": "ProdTypeTS_1",
          "real_mem": 529281024,
          "time": 1616759560.3716915
         },
         {
          "cpu_percent": 0,
          "cpu_time": 26.55,
          "name": "TranTypeTS_1",
          "real_mem": 529281024,
          "time": 1616759560.393849
         },
         {
          "cpu_percent": 589.5,
          "cpu_time": 26.459999999999997,
          "name": "ReadCsvProjectSpace_1",
          "real_mem": 529035264,
          "time": 1616759560.3480816
         },
         {
          "cpu_percent": 491,
          "cpu_time": 26.63,
          "name": "MercStatic_1",
          "real_mem": 529346560,
          "time": 1616759560.4710941
         },
         {
          "cpu_percent": 23.2,
          "cpu_time": 26.849999999999998,
          "name": "SparkConcat_2",
          "real_mem": 530083840,
          "time": 1616759560.7500598
         },
         {
          "cpu_percent": 196.7,
          "cpu_time": 26.93,
          "name": "CustMercTS_1",
          "real_mem": 530182144,
          "time": 1616759560.77224
         },
         {
          "cpu_percent": 34.1,
          "cpu_time": 27.04,
          "name": "CustStatic_1",
          "real_mem": 530182144,
          "time": 1616759560.948634
         },
         {
          "cpu_percent": 68.5,
          "cpu_time": 27.14,
          "name": "TranCityTS_1",
          "real_mem": 530857984,
          "time": 1616759561.0486448
         },
         {
          "cpu_percent": 155.8,
          "cpu_time": 27.23,
          "name": "SparkConcat_1",
          "real_mem": 530894848,
          "time": 1616759561.148348
         },
         {
          "cpu_percent": 12.8,
          "cpu_time": 27.52,
          "name": "MercStatic_1",
          "real_mem": 531718144,
          "time": 1616759561.4485655
         },
         {
          "cpu_percent": 192.6,
          "cpu_time": 27.38,
          "name": "ProdTypeTS_1",
          "real_mem": 531169280,
          "time": 1616759561.271212
         },
         {
          "cpu_percent": 504.2,
          "cpu_time": 27.48,
          "name": "TranTypeTS_1",
          "real_mem": 531718144,
          "time": 1616759561.3590362
         },
         {
          "cpu_percent": 69.4,
          "cpu_time": 27.610000000000003,
          "name": "SparkConcat_2",
          "real_mem": 532082688,
          "time": 1616759561.5484962
         },
         {
          "cpu_percent": 56.9,
          "cpu_time": 27.71,
          "name": "CustMercTS_1",
          "real_mem": 532594688,
          "time": 1616759561.6487186
         },
         {
          "cpu_percent": 393.6,
          "cpu_time": 27.8,
          "name": "CustStatic_1",
          "real_mem": 532996096,
          "time": 1616759561.6761436
         },
         {
          "cpu_percent": 590.2,
          "cpu_time": 28.01,
          "name": "SparkConcat_1",
          "real_mem": 533012480,
          "time": 1616759561.8708098
         },
         {
          "cpu_percent": 68.1,
          "cpu_time": 27.91,
          "name": "TranCityTS_1",
          "real_mem": 532996096,
          "time": 1616759561.84849
         },
         {
          "cpu_percent": 391.5,
          "cpu_time": 28.279999999999998,
          "name": "TranTypeTS_1",
          "real_mem": 533700608,
          "time": 1616759562.171342
         },
         {
          "cpu_percent": 22.5,
          "cpu_time": 28.2,
          "name": "ProdTypeTS_1",
          "real_mem": 533446656,
          "time": 1616759562.148503
         },
         {
          "cpu_percent": 392.2,
          "cpu_time": 28.33,
          "name": "MercStatic_1",
          "real_mem": 533778432,
          "time": 1616759562.259406
         },
         {
          "cpu_percent": 13.1,
          "cpu_time": 28.38,
          "name": "SparkConcat_2",
          "real_mem": 534048768,
          "time": 1616759562.3486054
         },
         {
          "cpu_percent": 34.3,
          "cpu_time": 28.47,
          "name": "CustMercTS_1",
          "real_mem": 534048768,
          "time": 1616759562.4484313
         },
         {
          "cpu_percent": 393.9,
          "cpu_time": 28.56,
          "name": "CustStatic_1",
          "real_mem": 534048768,
          "time": 1616759562.4729803
         },
         {
          "cpu_percent": 492,
          "cpu_time": 28.75,
          "name": "SparkConcat_1",
          "real_mem": 534536192,
          "time": 1616759562.6700838
         },
         {
          "cpu_percent": 292.7,
          "cpu_time": 28.66,
          "name": "TranCityTS_1",
          "real_mem": 534495232,
          "time": 1616759562.5727918
         },
         {
          "cpu_percent": 489.4,
          "cpu_time": 29,
          "name": "ProdTypeTS_1",
          "real_mem": 536956928,
          "time": 1616759562.9593856
         },
         {
          "cpu_percent": 13.1,
          "cpu_time": 29.05,
          "name": "TranTypeTS_1",
          "real_mem": 539119616,
          "time": 1616759563.0490057
         },
         {
          "cpu_percent": 685.4,
          "cpu_time": 29.21,
          "name": "SparkConcat_2",
          "real_mem": 539406336,
          "time": 1616759563.1593263
         },
         {
          "cpu_percent": 195.2,
          "cpu_time": 29.130000000000003,
          "name": "MercStatic_1",
          "real_mem": 539406336,
          "time": 1616759563.0726063
         },
         {
          "cpu_percent": 0,
          "cpu_time": 29.240000000000002,
          "name": "CustMercTS_1",
          "real_mem": 539406336,
          "time": 1616759563.248136
         },
         {
          "cpu_percent": 291.8,
          "cpu_time": 29.38,
          "name": "TranCityTS_1",
          "real_mem": 542388224,
          "time": 1616759563.3600256
         },
         {
          "cpu_percent": 573.8,
          "cpu_time": 29.5,
          "name": "SparkConcat_1",
          "real_mem": 542887936,
          "time": 1616759563.4599595
         },
         {
          "cpu_percent": 492,
          "cpu_time": 29.32,
          "name": "CustStatic_1",
          "real_mem": 542322688,
          "time": 1616759563.2710729
         },
         {
          "cpu_percent": 588.1,
          "cpu_time": 29.72,
          "name": "ProdTypeTS_1",
          "real_mem": 543588352,
          "time": 1616759563.6706665
         },
         {
          "cpu_percent": 120.5,
          "cpu_time": 29.82,
          "name": "TranTypeTS_1",
          "real_mem": 544124928,
          "time": 1616759563.8487442
         },
         {
          "cpu_percent": 592.2,
          "cpu_time": 29.909999999999997,
          "name": "MercStatic_1",
          "real_mem": 544391168,
          "time": 1616759563.8713636
         },
         {
          "cpu_percent": 194.6,
          "cpu_time": 29.950000000000003,
          "name": "SparkConcat_2",
          "real_mem": 545812480,
          "time": 1616759563.9607034
         },
         {
          "cpu_percent": 492.9,
          "cpu_time": 30.060000000000002,
          "name": "CustMercTS_1",
          "real_mem": 546050048,
          "time": 1616759564.059761
         },
         {
          "cpu_percent": 0,
          "cpu_time": 30.19,
          "name": "TranCityTS_1",
          "real_mem": 546729984,
          "time": 1616759564.1813736
         },
         {
          "cpu_percent": 294.5,
          "cpu_time": 30.3,
          "name": "SparkConcat_1",
          "real_mem": 546766848,
          "time": 1616759564.2706232
         },
         {
          "cpu_percent": 391.9,
          "cpu_time": 30.43,
          "name": "ProdTypeTS_1",
          "real_mem": 547917824,
          "time": 1616759564.4591072
         },
         {
          "cpu_percent": 295.4,
          "cpu_time": 30.48,
          "name": "TranTypeTS_1",
          "real_mem": 548188160,
          "time": 1616759564.4812195
         },
         {
          "cpu_percent": 491.7,
          "cpu_time": 30.57,
          "name": "MercStatic_1",
          "real_mem": 548495360,
          "time": 1616759564.5701096
         },
         {
          "cpu_percent": 0,
          "cpu_time": 30.58,
          "name": "SparkConcat_2",
          "real_mem": 548495360,
          "time": 1616759564.6486135
         },
         {
          "cpu_percent": 34.7,
          "cpu_time": 30.669999999999998,
          "name": "CustMercTS_1",
          "real_mem": 548962304,
          "time": 1616759564.748603
         },
         {
          "cpu_percent": 391.8,
          "cpu_time": 30.85,
          "name": "TranCityTS_1",
          "real_mem": 549576704,
          "time": 1616759564.8702004
         },
         {
          "cpu_percent": 587.4,
          "cpu_time": 30.95,
          "name": "SparkConcat_1",
          "real_mem": 549625856,
          "time": 1616759564.9715786
         },
         {
          "cpu_percent": 25.9,
          "cpu_time": 31.15,
          "name": "ProdTypeTS_1",
          "real_mem": 550322176,
          "time": 1616759565.2484698
         },
         {
          "cpu_percent": 293.3,
          "cpu_time": 31.23,
          "name": "TranTypeTS_1",
          "real_mem": 550739968,
          "time": 1616759565.2714791
         },
         {
          "cpu_percent": 0,
          "cpu_time": 31.24,
          "name": "MercStatic_1",
          "real_mem": 558309376,
          "time": 1616759565.2935915
         },
         {
          "cpu_percent": 287.8,
          "cpu_time": 31.29,
          "name": "SparkConcat_2",
          "real_mem": 571555840,
          "time": 1616759565.3717532
         },
         {
          "cpu_percent": 0,
          "cpu_time": 31.340000000000003,
          "name": "CustMercTS_1",
          "real_mem": 571756544,
          "time": 1616759565.3943088
         },
         {
          "cpu_percent": 291.1,
          "cpu_time": 31.520000000000003,
          "name": "TranCityTS_1",
          "real_mem": 571904000,
          "time": 1616759565.5728478
         },
         {
          "cpu_percent": 580.8,
          "cpu_time": 31.63,
          "name": "SparkConcat_1",
          "real_mem": 572137472,
          "time": 1616759565.6698103
         },
         {
          "cpu_percent": 197,
          "cpu_time": 31.77,
          "name": "ProdTypeTS_1",
          "real_mem": 572190720,
          "time": 1616759565.8712974
         },
         {
          "cpu_percent": 394.5,
          "cpu_time": 31.85,
          "name": "TranTypeTS_1",
          "real_mem": 572473344,
          "time": 1616759565.9597266
         },
         {
          "cpu_percent": 13,
          "cpu_time": 31.900000000000002,
          "name": "MercStatic_1",
          "real_mem": 572526592,
          "time": 1616759566.0491188
         },
         {
          "cpu_percent": 34.7,
          "cpu_time": 32,
          "name": "SparkConcat_2",
          "real_mem": 572813312,
          "time": 1616759566.1485095
         },
         {
          "cpu_percent": 195.7,
          "cpu_time": 32.38,
          "name": "CustMercTS_1",
          "real_mem": 574963712,
          "time": 1616759566.473245
         },
         {
          "cpu_percent": 492.5,
          "cpu_time": 32.65,
          "name": "SparkConcat_1",
          "real_mem": 575655936,
          "time": 1616759566.7701344
         },
         {
          "cpu_percent": 392.9,
          "cpu_time": 32.85,
          "name": "ProdTypeTS_1",
          "real_mem": 576147456,
          "time": 1616759566.970438
         },
         {
          "cpu_percent": 0,
          "cpu_time": 32.87,
          "name": "TranTypeTS_1",
          "real_mem": 576147456,
          "time": 1616759566.992577
         },
         {
          "cpu_percent": 295.5,
          "cpu_time": 32.95,
          "name": "MercStatic_1",
          "real_mem": 576638976,
          "time": 1616759567.071276
         },
         {
          "cpu_percent": 34.6,
          "cpu_time": 33.05,
          "name": "SparkConcat_2",
          "real_mem": 576720896,
          "time": 1616759567.2484515
         },
         {
          "cpu_percent": 392.1,
          "cpu_time": 33.43,
          "name": "CustMercTS_1",
          "real_mem": 577482752,
          "time": 1616759567.5710776
         },
         {
          "cpu_percent": 392.7,
          "cpu_time": 33.69,
          "name": "SparkConcat_1",
          "real_mem": 578019328,
          "time": 1616759567.859475
         },
         {
          "cpu_percent": 294.7,
          "cpu_time": 33.92,
          "name": "ProdTypeTS_1",
          "real_mem": 578019328,
          "time": 1616759568.0695384
         },
         {
          "cpu_percent": 0,
          "cpu_time": 33.93,
          "name": "TranTypeTS_1",
          "real_mem": 578019328,
          "time": 1616759568.0924575
         },
         {
          "cpu_percent": 293.8,
          "cpu_time": 34.01,
          "name": "MercStatic_1",
          "real_mem": 578019328,
          "time": 1616759568.2485583
         },
         {
          "cpu_percent": 490.9,
          "cpu_time": 34.09,
          "name": "SparkConcat_2",
          "real_mem": 578256896,
          "time": 1616759568.2713728
         },
         {
          "cpu_percent": 296,
          "cpu_time": 34.449999999999996,
          "name": "CustMercTS_1",
          "real_mem": 578985984,
          "time": 1616759568.6706028
         },
         {
          "cpu_percent": 270.6,
          "cpu_time": 34.78,
          "name": "SparkConcat_1",
          "real_mem": 579485696,
          "time": 1616759568.97139
         },
         {
          "cpu_percent": 0,
          "cpu_time": 34.89,
          "name": "ProdTypeTS_1",
          "real_mem": 581648384,
          "time": 1616759569.0931602
         },
         {
          "cpu_percent": 289,
          "cpu_time": 34.97,
          "name": "TranTypeTS_1",
          "real_mem": 581787648,
          "time": 1616759569.1709626
         },
         {
          "cpu_percent": 295.4,
          "cpu_time": 35.06,
          "name": "MercStatic_1",
          "real_mem": 581816320,
          "time": 1616759569.271429
         },
         {
          "cpu_percent": 0,
          "cpu_time": 35.08,
          "name": "SparkConcat_2",
          "real_mem": 581816320,
          "time": 1616759569.2937906
         },
         {
          "cpu_percent": 0,
          "cpu_time": 35.48,
          "name": "CustMercTS_1",
          "real_mem": 581873664,
          "time": 1616759569.69379
         },
         {
          "cpu_percent": 0,
          "cpu_time": 35.760000000000005,
          "name": "SparkConcat_1",
          "real_mem": 582201344,
          "time": 1616759569.9947
         },
         {
          "cpu_percent": 394.1,
          "cpu_time": 35.93,
          "name": "ProdTypeTS_1",
          "real_mem": 582316032,
          "time": 1616759570.1697183
         },
         {
          "cpu_percent": 98,
          "cpu_time": 35.97,
          "name": "TranTypeTS_1",
          "real_mem": 582316032,
          "time": 1616759570.2590995
         },
         {
          "cpu_percent": 393.8,
          "cpu_time": 36.08,
          "name": "MercStatic_1",
          "real_mem": 582553600,
          "time": 1616759570.3589933
         },
         {
          "cpu_percent": 196.3,
          "cpu_time": 36.14,
          "name": "SparkConcat_2",
          "real_mem": 582647808,
          "time": 1616759570.4481897
         },
         {
          "cpu_percent": 387.9,
          "cpu_time": 36.49,
          "name": "CustMercTS_1",
          "real_mem": 583995392,
          "time": 1616759570.770067
         },
         {
          "cpu_percent": 289.9,
          "cpu_time": 36.8,
          "name": "SparkConcat_1",
          "real_mem": 584282112,
          "time": 1616759571.0702224
         },
         {
          "cpu_percent": 0,
          "cpu_time": 36.91,
          "name": "ProdTypeTS_1",
          "real_mem": 584282112,
          "time": 1616759571.1931765
         },
         {
          "cpu_percent": 195.8,
          "cpu_time": 37.019999999999996,
          "name": "TranTypeTS_1",
          "real_mem": 584663040,
          "time": 1616759571.3486555
         },
         {
          "cpu_percent": 26.1,
          "cpu_time": 37.099999999999994,
          "name": "MercStatic_1",
          "real_mem": 584663040,
          "time": 1616759571.4485328
         },
         {
          "cpu_percent": 291.6,
          "cpu_time": 37.169999999999995,
          "name": "SparkConcat_2",
          "real_mem": 584982528,
          "time": 1616759571.470484
         },
         {
          "cpu_percent": 196.5,
          "cpu_time": 37.51,
          "name": "CustMercTS_1",
          "real_mem": 589971456,
          "time": 1616759571.8591437
         },
         {
          "cpu_percent": 0,
          "cpu_time": 37.79,
          "name": "SparkConcat_1",
          "real_mem": 591400960,
          "time": 1616759572.148567
         },
         {
          "cpu_percent": 293.2,
          "cpu_time": 37.96,
          "name": "ProdTypeTS_1",
          "real_mem": 591552512,
          "time": 1616759572.2698228
         },
         {
          "cpu_percent": 295.1,
          "cpu_time": 38.04,
          "name": "TranTypeTS_1",
          "real_mem": 591659008,
          "time": 1616759572.3714428
         },
         {
          "cpu_percent": 393.7,
          "cpu_time": 38.17,
          "name": "MercStatic_1",
          "real_mem": 591679488,
          "time": 1616759572.4716592
         },
         {
          "cpu_percent": 390.4,
          "cpu_time": 38.24,
          "name": "SparkConcat_2",
          "real_mem": 591679488,
          "time": 1616759572.5704904
         },
         {
          "cpu_percent": 26.2,
          "cpu_time": 38.559999999999995,
          "name": "CustMercTS_1",
          "real_mem": 592138240,
          "time": 1616759572.9487445
         },
         {
          "cpu_percent": 292.7,
          "cpu_time": 38.81999999999999,
          "name": "SparkConcat_1",
          "real_mem": 592228352,
          "time": 1616759573.1715097
         },
         {
          "cpu_percent": 387.3,
          "cpu_time": 38.99,
          "name": "ProdTypeTS_1",
          "real_mem": 592371712,
          "time": 1616759573.3592768
         },
         {
          "cpu_percent": 0,
          "cpu_time": 39.04,
          "name": "TranTypeTS_1",
          "real_mem": 592560128,
          "time": 1616759573.3942564
         },
         {
          "cpu_percent": 389.5,
          "cpu_time": 39.18,
          "name": "MercStatic_1",
          "real_mem": 592674816,
          "time": 1616759573.5601783
         },
         {
          "cpu_percent": 0,
          "cpu_time": 39.230000000000004,
          "name": "SparkConcat_2",
          "real_mem": 592674816,
          "time": 1616759573.5938857
         },
         {
          "cpu_percent": 295.7,
          "cpu_time": 39.59,
          "name": "CustMercTS_1",
          "real_mem": 592887808,
          "time": 1616759573.9717593
         },
         {
          "cpu_percent": 0,
          "cpu_time": 39.81,
          "name": "SparkConcat_1",
          "real_mem": 592887808,
          "time": 1616759574.1958935
         },
         {
          "cpu_percent": 38.9,
          "cpu_time": 40.019999999999996,
          "name": "ProdTypeTS_1",
          "real_mem": 592887808,
          "time": 1616759574.4494486
         },
         {
          "cpu_percent": 295.8,
          "cpu_time": 40.089999999999996,
          "name": "TranTypeTS_1",
          "real_mem": 593043456,
          "time": 1616759574.471657
         },
         {
          "cpu_percent": 98.3,
          "cpu_time": 40.19,
          "name": "MercStatic_1",
          "real_mem": 593043456,
          "time": 1616759574.5831206
         },
         {
          "cpu_percent": 295.4,
          "cpu_time": 40.27,
          "name": "SparkConcat_2",
          "real_mem": 593313792,
          "time": 1616759574.6706145
         },
         {
          "cpu_percent": 393.9,
          "cpu_time": 40.620000000000005,
          "name": "CustMercTS_1",
          "real_mem": 593592320,
          "time": 1616759575.0591571
         },
         {
          "cpu_percent": 491.2,
          "cpu_time": 40.870000000000005,
          "name": "SparkConcat_1",
          "real_mem": 593764352,
          "time": 1616759575.2708604
         },
         {
          "cpu_percent": 70.1,
          "cpu_time": 41.07,
          "name": "ProdTypeTS_1",
          "real_mem": 593981440,
          "time": 1616759575.5484843
         },
         {
          "cpu_percent": 68.8,
          "cpu_time": 41.160000000000004,
          "name": "TranTypeTS_1",
          "real_mem": 594055168,
          "time": 1616759575.6483638
         },
         {
          "cpu_percent": 22.8,
          "cpu_time": 41.25,
          "name": "MercStatic_1",
          "real_mem": 594128896,
          "time": 1616759575.748658
         },
         {
          "cpu_percent": 196.2,
          "cpu_time": 41.339999999999996,
          "name": "SparkConcat_2",
          "real_mem": 598323200,
          "time": 1616759575.77145
         },
         {
          "cpu_percent": 197,
          "cpu_time": 41.62,
          "name": "CustMercTS_1",
          "real_mem": 600215552,
          "time": 1616759576.0837462
         },
         {
          "cpu_percent": 22.6,
          "cpu_time": 41.94,
          "name": "SparkConcat_1",
          "real_mem": 600674304,
          "time": 1616759576.4486134
         },
         {
          "cpu_percent": 393.2,
          "cpu_time": 42.129999999999995,
          "name": "ProdTypeTS_1",
          "real_mem": 601743360,
          "time": 1616759576.5718622
         },
         {
          "cpu_percent": 196.7,
          "cpu_time": 42.190000000000005,
          "name": "TranTypeTS_1",
          "real_mem": 601743360,
          "time": 1616759576.6723015
         },
         {
          "cpu_percent": 280.6,
          "cpu_time": 42.29,
          "name": "MercStatic_1",
          "real_mem": 601968640,
          "time": 1616759576.772511
         },
         {
          "cpu_percent": 15.6,
          "cpu_time": 42.32,
          "name": "SparkConcat_2",
          "real_mem": 601968640,
          "time": 1616759576.8484194
         },
         {
          "cpu_percent": 293.9,
          "cpu_time": 42.71,
          "name": "CustMercTS_1",
          "real_mem": 602693632,
          "time": 1616759577.1714995
         },
         {
          "cpu_percent": 295.2,
          "cpu_time": 43,
          "name": "SparkConcat_1",
          "real_mem": 603033600,
          "time": 1616759577.4738202
         },
         {
          "cpu_percent": 389.9,
          "cpu_time": 43.14,
          "name": "ProdTypeTS_1",
          "real_mem": 603107328,
          "time": 1616759577.6593008
         },
         {
          "cpu_percent": 0,
          "cpu_time": 43.19,
          "name": "TranTypeTS_1",
          "real_mem": 603377664,
          "time": 1616759577.6962402
         },
         {
          "cpu_percent": 295.2,
          "cpu_time": 43.379999999999995,
          "name": "MercStatic_1",
          "real_mem": 603488256,
          "time": 1616759577.8699152
         },
         {
          "cpu_percent": 294.3,
          "cpu_time": 43.43,
          "name": "SparkConcat_2",
          "real_mem": 603488256,
          "time": 1616759577.959211
         },
         {
          "cpu_percent": 390.8,
          "cpu_time": 43.760000000000005,
          "name": "CustMercTS_1",
          "real_mem": 603824128,
          "time": 1616759578.270459
         },
         {
          "cpu_percent": 393.5,
          "cpu_time": 44.06,
          "name": "SparkConcat_1",
          "real_mem": 604672000,
          "time": 1616759578.5706694
         },
         {
          "cpu_percent": 0,
          "cpu_time": 44.17,
          "name": "ProdTypeTS_1",
          "real_mem": 604758016,
          "time": 1616759578.6935818
         },
         {
          "cpu_percent": 393.8,
          "cpu_time": 44.26,
          "name": "TranTypeTS_1",
          "real_mem": 604848128,
          "time": 1616759578.7707593
         },
         {
          "cpu_percent": 196.1,
          "cpu_time": 44.47,
          "name": "MercStatic_1",
          "real_mem": 604909568,
          "time": 1616759579.0484035
         },
         {
          "cpu_percent": 197.3,
          "cpu_time": 44.519999999999996,
          "name": "SparkConcat_2",
          "real_mem": 604909568,
          "time": 1616759579.0708554
         },
         {
          "cpu_percent": 294.1,
          "cpu_time": 44.82,
          "name": "CustMercTS_1",
          "real_mem": 604909568,
          "time": 1616759579.3705494
         },
         {
          "cpu_percent": 393.6,
          "cpu_time": 45.080000000000005,
          "name": "SparkConcat_1",
          "real_mem": 605126656,
          "time": 1616759579.6595194
         },
         {
          "cpu_percent": 395.1,
          "cpu_time": 45.22,
          "name": "ProdTypeTS_1",
          "real_mem": 605667328,
          "time": 1616759579.7813754
         },
         {
          "cpu_percent": 0,
          "cpu_time": 45.24,
          "name": "TranTypeTS_1",
          "real_mem": 605667328,
          "time": 1616759579.8040798
         },
         {
          "cpu_percent": 290.8,
          "cpu_time": 45.48,
          "name": "MercStatic_1",
          "real_mem": 605667328,
          "time": 1616759580.0720212
         },
         {
          "cpu_percent": 391.9,
          "cpu_time": 45.56999999999999,
          "name": "SparkConcat_2",
          "real_mem": 605667328,
          "time": 1616759580.1592171
         },
         {
          "cpu_percent": 392.8,
          "cpu_time": 45.95,
          "name": "CustMercTS_1",
          "real_mem": 605806592,
          "time": 1616759580.5599506
         },
         {
          "cpu_percent": 293.6,
          "cpu_time": 46.129999999999995,
          "name": "SparkConcat_1",
          "real_mem": 605806592,
          "time": 1616759580.7593086
         },
         {
          "cpu_percent": 393.7,
          "cpu_time": 46.26,
          "name": "ProdTypeTS_1",
          "real_mem": 605806592,
          "time": 1616759580.8703787
         },
         {
          "cpu_percent": 290.6,
          "cpu_time": 46.32,
          "name": "TranTypeTS_1",
          "real_mem": 605806592,
          "time": 1616759580.9599087
         },
         {
          "cpu_percent": 194.5,
          "cpu_time": 46.49,
          "name": "MercStatic_1",
          "real_mem": 605868032,
          "time": 1616759581.1590638
         },
         {
          "cpu_percent": 294.4,
          "cpu_time": 46.56,
          "name": "SparkConcat_2",
          "real_mem": 605868032,
          "time": 1616759581.1813276
         },
         {
          "cpu_percent": 196.6,
          "cpu_time": 46.94,
          "name": "CustMercTS_1",
          "real_mem": 606027776,
          "time": 1616759581.5826466
         },
         {
          "cpu_percent": 39,
          "cpu_time": 47.15,
          "name": "SparkConcat_1",
          "real_mem": 606371840,
          "time": 1616759581.8487253
         },
         {
          "cpu_percent": 294.4,
          "cpu_time": 47.33,
          "name": "TranTypeTS_1",
          "real_mem": 606855168,
          "time": 1616759581.9830868
         },
         {
          "cpu_percent": 293.8,
          "cpu_time": 47.519999999999996,
          "name": "MercStatic_1",
          "real_mem": 607055872,
          "time": 1616759582.2482982
         },
         {
          "cpu_percent": 471.7,
          "cpu_time": 47.62,
          "name": "SparkConcat_2",
          "real_mem": 607076352,
          "time": 1616759582.2710528
         },
         {
          "cpu_percent": 295.7,
          "cpu_time": 47.95,
          "name": "CustMercTS_1",
          "real_mem": 607809536,
          "time": 1616759582.658774
         },
         {
          "cpu_percent": 294.5,
          "cpu_time": 48.18,
          "name": "SparkConcat_1",
          "real_mem": 608280576,
          "time": 1616759582.874416
         },
         {
          "cpu_percent": 98.3,
          "cpu_time": 48.36,
          "name": "TranTypeTS_1",
          "real_mem": 608653312,
          "time": 1616759583.07117
         },
         {
          "cpu_percent": 196.5,
          "cpu_time": 48.56,
          "name": "MercStatic_1",
          "real_mem": 608722944,
          "time": 1616759583.27174
         },
         {
          "cpu_percent": 97.5,
          "cpu_time": 48.58,
          "name": "SparkConcat_2",
          "real_mem": 621649920,
          "time": 1616759583.2939594
         },
         {
          "cpu_percent": 196.2,
          "cpu_time": 48.97,
          "name": "CustMercTS_1",
          "real_mem": 622256128,
          "time": 1616759583.6813776
         },
         {
          "cpu_percent": 195.7,
          "cpu_time": 49.2,
          "name": "SparkConcat_1",
          "real_mem": 631803904,
          "time": 1616759583.9600322
         },
         {
          "cpu_percent": 0,
          "cpu_time": 49.37,
          "name": "TranTypeTS_1",
          "real_mem": 637579264,
          "time": 1616759584.09436
         },
         {
          "cpu_percent": 98,
          "cpu_time": 49.57,
          "name": "MercStatic_1",
          "real_mem": 638160896,
          "time": 1616759584.294354
         },
         {
          "cpu_percent": 295.2,
          "cpu_time": 49.65,
          "name": "SparkConcat_2",
          "real_mem": 638349312,
          "time": 1616759584.3707166
         },
         {
          "cpu_percent": 196.9,
          "cpu_time": 50.01,
          "name": "CustMercTS_1",
          "real_mem": 641081344,
          "time": 1616759584.7700186
         },
         {
          "cpu_percent": 391.9,
          "cpu_time": 50.27,
          "name": "SparkConcat_1",
          "real_mem": 641159168,
          "time": 1616759585.0596893
         },
         {
          "cpu_percent": 0,
          "cpu_time": 50.43,
          "name": "TranTypeTS_1",
          "real_mem": 641257472,
          "time": 1616759585.193813
         },
         {
          "cpu_percent": 294.2,
          "cpu_time": 50.57,
          "name": "MercStatic_1",
          "real_mem": 641798144,
          "time": 1616759585.3592045
         },
         {
          "cpu_percent": 294,
          "cpu_time": 50.66,
          "name": "SparkConcat_2",
          "real_mem": 641798144,
          "time": 1616759585.4596453
         },
         {
          "cpu_percent": 109.4,
          "cpu_time": 51.06,
          "name": "CustMercTS_1",
          "real_mem": 641798144,
          "time": 1616759585.869628
         },
         {
          "cpu_percent": 59,
          "cpu_time": 51.39,
          "name": "SparkConcat_1",
          "real_mem": 643424256,
          "time": 1616759586.2485936
         },
         {
          "cpu_percent": 392.7,
          "cpu_time": 51.57,
          "name": "TranTypeTS_1",
          "real_mem": 643780608,
          "time": 1616759586.3713357
         },
         {
          "cpu_percent": 97.5,
          "cpu_time": 51.59,
          "name": "MercStatic_1",
          "real_mem": 643780608,
          "time": 1616759586.39533
         },
         {
          "cpu_percent": 392.5,
          "cpu_time": 51.69,
          "name": "SparkConcat_2",
          "real_mem": 644337664,
          "time": 1616759586.5486777
         },
         {
          "cpu_percent": 294.4,
          "cpu_time": 52.099999999999994,
          "name": "CustMercTS_1",
          "real_mem": 644435968,
          "time": 1616759586.9592173
         },
         {
          "cpu_percent": 295.5,
          "cpu_time": 52.44,
          "name": "SparkConcat_1",
          "real_mem": 644993024,
          "time": 1616759587.271753
         },
         {
          "cpu_percent": 491.09999999999997,
          "cpu_time": 52.650000000000006,
          "name": "TranTypeTS_1",
          "real_mem": 645640192,
          "time": 1616759587.471223
         },
         {
          "cpu_percent": 0,
          "cpu_time": 52.660000000000004,
          "name": "MercStatic_1",
          "real_mem": 645640192,
          "time": 1616759587.4933524
         },
         {
          "cpu_percent": 392.1,
          "cpu_time": 52.720000000000006,
          "name": "SparkConcat_2",
          "real_mem": 645640192,
          "time": 1616759587.5720356
         },
         {
          "cpu_percent": 97.2,
          "cpu_time": 53.13,
          "name": "CustMercTS_1",
          "real_mem": 647004160,
          "time": 1616759587.9821033
         },
         {
          "cpu_percent": 391.9,
          "cpu_time": 53.51,
          "name": "SparkConcat_1",
          "real_mem": 647004160,
          "time": 1616759588.3703241
         },
         {
          "cpu_percent": 385,
          "cpu_time": 53.72,
          "name": "TranTypeTS_1",
          "real_mem": 647032832,
          "time": 1616759588.570466
         },
         {
          "cpu_percent": 392.4,
          "cpu_time": 53.81,
          "name": "MercStatic_1",
          "real_mem": 648380416,
          "time": 1616759588.6707945
         },
         {
          "cpu_percent": 394.6,
          "cpu_time": 53.87,
          "name": "SparkConcat_2",
          "real_mem": 651431936,
          "time": 1616759588.7702963
         },
         {
          "cpu_percent": 293.6,
          "cpu_time": 54.18,
          "name": "CustMercTS_1",
          "real_mem": 652664832,
          "time": 1616759589.0706286
         },
         {
          "cpu_percent": 0,
          "cpu_time": 54.5,
          "name": "SparkConcat_1",
          "real_mem": 652820480,
          "time": 1616759589.4499533
         },
         {
          "cpu_percent": 0,
          "cpu_time": 54.699999999999996,
          "name": "TranTypeTS_1",
          "real_mem": 652935168,
          "time": 1616759589.5940657
         },
         {
          "cpu_percent": 295.7,
          "cpu_time": 54.809999999999995,
          "name": "MercStatic_1",
          "real_mem": 652935168,
          "time": 1616759589.7589574
         },
         {
          "cpu_percent": 196.2,
          "cpu_time": 54.910000000000004,
          "name": "SparkConcat_2",
          "real_mem": 653000704,
          "time": 1616759589.8591802
         },
         {
          "cpu_percent": 294.4,
          "cpu_time": 55.21,
          "name": "CustMercTS_1",
          "real_mem": 653238272,
          "time": 1616759590.1592405
         },
         {
          "cpu_percent": 291.9,
          "cpu_time": 55.54,
          "name": "SparkConcat_1",
          "real_mem": 654557184,
          "time": 1616759590.4729056
         },
         {
          "cpu_percent": 295,
          "cpu_time": 55.72,
          "name": "TranTypeTS_1",
          "real_mem": 654688256,
          "time": 1616759590.6702745
         },
         {
          "cpu_percent": 0,
          "cpu_time": 55.85,
          "name": "MercStatic_1",
          "real_mem": 654741504,
          "time": 1616759590.7894413
         },
         {
          "cpu_percent": 196.1,
          "cpu_time": 55.94,
          "name": "SparkConcat_2",
          "real_mem": 654888960,
          "time": 1616759590.94843
         },
         {
          "cpu_percent": 26.1,
          "cpu_time": 56.239999999999995,
          "name": "CustMercTS_1",
          "real_mem": 654962688,
          "time": 1616759591.249476
         },
         {
          "cpu_percent": 0,
          "cpu_time": 56.53,
          "name": "SparkConcat_1",
          "real_mem": 654962688,
          "time": 1616759591.4962535
         },
         {
          "cpu_percent": 295.1,
          "cpu_time": 56.75,
          "name": "TranTypeTS_1",
          "real_mem": 655495168,
          "time": 1616759591.759101
         },
         {
          "cpu_percent": 407.4,
          "cpu_time": 56.879999999999995,
          "name": "MercStatic_1",
          "real_mem": 655601664,
          "time": 1616759591.8696313
         },
         {
          "cpu_percent": 393.2,
          "cpu_time": 56.98,
          "name": "SparkConcat_2",
          "real_mem": 656228352,
          "time": 1616759591.9713316
         },
         {
          "cpu_percent": 98.3,
          "cpu_time": 57.22,
          "name": "CustMercTS_1",
          "real_mem": 669474816,
          "time": 1616759592.272632
         },
         {
          "cpu_percent": 196.6,
          "cpu_time": 57.55,
          "name": "SparkConcat_1",
          "real_mem": 671662080,
          "time": 1616759592.5810568
         },
         {
          "cpu_percent": 196.4,
          "cpu_time": 57.93,
          "name": "SparkConcat_2",
          "real_mem": 683896832,
          "time": 1616759592.994365
         },
         {
          "cpu_percent": 96.5,
          "cpu_time": 58.21,
          "name": "CustMercTS_1",
          "real_mem": 686956544,
          "time": 1616759593.2958965
         },
         {
          "cpu_percent": 196,
          "cpu_time": 58.550000000000004,
          "name": "SparkConcat_1",
          "real_mem": 709095424,
          "time": 1616759593.679854
         },
         {
          "cpu_percent": 0,
          "cpu_time": 58.99,
          "name": "SparkConcat_2",
          "real_mem": 720068608,
          "time": 1616759594.1485643
         },
         {
          "cpu_percent": 197.2,
          "cpu_time": 59.230000000000004,
          "name": "CustMercTS_1",
          "real_mem": 739360768,
          "time": 1616759594.379975
         },
         {
          "cpu_percent": 288,
          "cpu_time": 59.650000000000006,
          "name": "SparkConcat_1",
          "real_mem": 778772480,
          "time": 1616759594.848683
         },
         {
          "cpu_percent": 98.3,
          "cpu_time": 60.33,
          "name": "SparkConcat_2",
          "real_mem": 837414912,
          "time": 1616759595.569805
         },
         {
          "cpu_percent": 195.9,
          "cpu_time": 60.440000000000005,
          "name": "CustMercTS_1",
          "real_mem": 838766592,
          "time": 1616759595.6801987
         },
         {
          "cpu_percent": 98.3,
          "cpu_time": 60.72,
          "name": "SparkConcat_1",
          "real_mem": 844021760,
          "time": 1616759595.9590554
         },
         {
          "cpu_percent": 196,
          "cpu_time": 61.379999999999995,
          "name": "SparkConcat_2",
          "real_mem": 869736448,
          "time": 1616759596.626309
         },
         {
          "cpu_percent": 98.1,
          "cpu_time": 61.48,
          "name": "CustMercTS_1",
          "real_mem": 874098688,
          "time": 1616759596.735378
         },
         {
          "cpu_percent": 0,
          "cpu_time": 61.739999999999995,
          "name": "SparkConcat_1",
          "real_mem": 889118720,
          "time": 1616759597.0148287
         },
         {
          "cpu_percent": 98.4,
          "cpu_time": 62.35,
          "name": "SparkConcat_2",
          "real_mem": 923942912,
          "time": 1616759597.6815913
         },
         {
          "cpu_percent": 0,
          "cpu_time": 62.4,
          "name": "CustMercTS_1",
          "real_mem": 924094464,
          "time": 1616759597.790739
         },
         {
          "cpu_percent": 98.1,
          "cpu_time": 62.529999999999994,
          "name": "SparkConcat_1",
          "real_mem": 924758016,
          "time": 1616759598.0711842
         },
         {
          "cpu_percent": 98.2,
          "cpu_time": 62.88,
          "name": "SparkConcat_2",
          "real_mem": 928313344,
          "time": 1616759598.736309
         },
         {
          "cpu_percent": 98.3,
          "cpu_time": 62.980000000000004,
          "name": "CustMercTS_1",
          "real_mem": 932143104,
          "time": 1616759598.8456843
         },
         {
          "cpu_percent": 196.6,
          "cpu_time": 63.260000000000005,
          "name": "SparkConcat_1",
          "real_mem": 957661184,
          "time": 1616759599.1270783
         },
         {
          "cpu_percent": 98,
          "cpu_time": 64.03999999999999,
          "name": "SparkConcat_2",
          "real_mem": 998842368,
          "time": 1616759599.9355946
         },
         {
          "cpu_percent": 98.3,
          "cpu_time": 64.1,
          "name": "CustMercTS_1",
          "real_mem": 999940096,
          "time": 1616759600.0018396
         },
         {
          "cpu_percent": 0,
          "cpu_time": 64.26,
          "name": "SparkConcat_1",
          "real_mem": 1006845952,
          "time": 1616759600.1819403
         },
         {
          "cpu_percent": 97.1,
          "cpu_time": 65.06,
          "name": "SparkConcat_2",
          "real_mem": 1052889088,
          "time": 1616759601.002354
         },
         {
          "cpu_percent": 98.4,
          "cpu_time": 65.10000000000001,
          "name": "CustMercTS_1",
          "real_mem": 1056100352,
          "time": 1616759601.059062
         },
         {
          "cpu_percent": 197,
          "cpu_time": 65.28,
          "name": "SparkConcat_1",
          "real_mem": 1065779200,
          "time": 1616759601.2375035
         },
         {
          "cpu_percent": 0,
          "cpu_time": 65.86999999999999,
          "name": "SparkConcat_2",
          "real_mem": 1090539520,
          "time": 1616759602.0590994
         },
         {
          "cpu_percent": 98.4,
          "cpu_time": 65.92,
          "name": "CustMercTS_1",
          "real_mem": 1090592768,
          "time": 1616759602.1141808
         },
         {
          "cpu_percent": 98.3,
          "cpu_time": 66.00000000000001,
          "name": "SparkConcat_1",
          "real_mem": 1090785280,
          "time": 1616759602.3020933
         },
         {
          "cpu_percent": 98.2,
          "cpu_time": 66.6,
          "name": "SparkConcat_2",
          "real_mem": 1123733504,
          "time": 1616759603.1150706
         },
         {
          "cpu_percent": 98.4,
          "cpu_time": 66.66,
          "name": "CustMercTS_1",
          "real_mem": 1125724160,
          "time": 1616759603.1693876
         },
         {
          "cpu_percent": 196,
          "cpu_time": 66.83000000000001,
          "name": "SparkConcat_1",
          "real_mem": 1137020928,
          "time": 1616759603.3592596
         },
         {
          "cpu_percent": 196.60000000000002,
          "cpu_time": 67.83,
          "name": "CustMercTS_1",
          "real_mem": 1145638912,
          "time": 1616759604.3698032
         },
         {
          "cpu_percent": 196.89999999999998,
          "cpu_time": 67.74,
          "name": "SparkConcat_2",
          "real_mem": 1145638912,
          "time": 1616759604.2697575
         },
         {
          "cpu_percent": 110.9,
          "cpu_time": 68.25000000000001,
          "name": "SparkConcat_1",
          "real_mem": 1145638912,
          "time": 1616759604.780761
         },
         {
          "cpu_percent": 97.8,
          "cpu_time": 68.72,
          "name": "SparkConcat_2",
          "real_mem": 1179279360,
          "time": 1616759605.3250859
         },
         {
          "cpu_percent": 491.20000000000005,
          "cpu_time": 68.97,
          "name": "CustMercTS_1",
          "real_mem": 1179549696,
          "time": 1616759605.559278
         },
         {
          "cpu_percent": 293.7,
          "cpu_time": 69.46000000000001,
          "name": "SparkConcat_1",
          "real_mem": 1180188672,
          "time": 1616759606.0592136
         },
         {
          "cpu_percent": 292.6,
          "cpu_time": 70.22,
          "name": "SparkConcat_2",
          "real_mem": 1180758016,
          "time": 1616759606.8591316
         },
         {
          "cpu_percent": 196.7,
          "cpu_time": 70.36000000000001,
          "name": "CustMercTS_1",
          "real_mem": 1180758016,
          "time": 1616759606.9696782
         },
         {
          "cpu_percent": 195.3,
          "cpu_time": 70.72,
          "name": "SparkConcat_1",
          "real_mem": 1180770304,
          "time": 1616759607.3484495
         },
         {
          "cpu_percent": 109.7,
          "cpu_time": 71.32000000000001,
          "name": "SparkConcat_2",
          "real_mem": 1181884416,
          "time": 1616759608.0487208
         },
         {
          "cpu_percent": 293.6,
          "cpu_time": 71.53,
          "name": "CustMercTS_1",
          "real_mem": 1183199232,
          "time": 1616759608.1698654
         },
         {
          "cpu_percent": 293.8,
          "cpu_time": 71.87,
          "name": "SparkConcat_1",
          "real_mem": 1188220928,
          "time": 1616759608.4908347
         },
         {
          "cpu_percent": 195.5,
          "cpu_time": 72.56,
          "name": "SparkConcat_2",
          "real_mem": 1199017984,
          "time": 1616759609.2019591
         },
         {
          "cpu_percent": 393.3,
          "cpu_time": 72.68,
          "name": "CustMercTS_1",
          "real_mem": 1199828992,
          "time": 1616759609.3698287
         },
         {
          "cpu_percent": 98.4,
          "cpu_time": 72.99,
          "name": "SparkConcat_1",
          "real_mem": 1204600832,
          "time": 1616759609.7482445
         },
         {
          "cpu_percent": 226.1,
          "cpu_time": 73.64,
          "name": "SparkConcat_2",
          "real_mem": 1210421248,
          "time": 1616759610.3600671
         },
         {
          "cpu_percent": 392.40000000000003,
          "cpu_time": 73.81,
          "name": "CustMercTS_1",
          "real_mem": 1210421248,
          "time": 1616759610.4911213
         },
         {
          "cpu_percent": 196.39999999999998,
          "cpu_time": 74.14,
          "name": "SparkConcat_1",
          "real_mem": 1210425344,
          "time": 1616759610.8698297
         },
         {
          "cpu_percent": 196.5,
          "cpu_time": 74.72,
          "name": "SparkConcat_2",
          "real_mem": 1210425344,
          "time": 1616759611.4696493
         },
         {
          "cpu_percent": 230.10000000000002,
          "cpu_time": 74.92999999999999,
          "name": "CustMercTS_1",
          "real_mem": 1210425344,
          "time": 1616759611.6799624
         },
         {
          "cpu_percent": 0,
          "cpu_time": 75.24999999999999,
          "name": "SparkConcat_1",
          "real_mem": 1210425344,
          "time": 1616759612.0484686
         },
         {
          "cpu_percent": 219.70000000000002,
          "cpu_time": 75.89999999999999,
          "name": "SparkConcat_2",
          "real_mem": 1210515456,
          "time": 1616759612.6804652
         },
         {
          "cpu_percent": 196.9,
          "cpu_time": 75.96000000000001,
          "name": "CustMercTS_1",
          "real_mem": 1210531840,
          "time": 1616759612.7694466
         },
         {
          "cpu_percent": 123.9,
          "cpu_time": 76.38,
          "name": "SparkConcat_1",
          "real_mem": 1210802176,
          "time": 1616759613.1814985
         },
         {
          "cpu_percent": 487.2,
          "cpu_time": 77.04,
          "name": "SparkConcat_2",
          "real_mem": 1211580416,
          "time": 1616759613.8697212
         },
         {
          "cpu_percent": 196.3,
          "cpu_time": 77.19,
          "name": "CustMercTS_1",
          "real_mem": 1242583040,
          "time": 1616759614.059196
         },
         {
          "cpu_percent": 0,
          "cpu_time": 71.51,
          "name": "SparkConcat_1",
          "real_mem": 1067167744,
          "time": 1616759614.491434
         },
         {
          "cpu_percent": 196.5,
          "cpu_time": 71.94,
          "name": "SparkConcat_2",
          "real_mem": 1090293760,
          "time": 1616759614.9248254
         },
         {
          "cpu_percent": 99,
          "cpu_time": 72.12,
          "name": "CustMercTS_1",
          "real_mem": 1104044032,
          "time": 1616759615.1154
         },
         {
          "cpu_percent": 96.9,
          "cpu_time": 72.53,
          "name": "SparkConcat_1",
          "real_mem": 1127256064,
          "time": 1616759615.5468879
         },
         {
          "cpu_percent": 98,
          "cpu_time": 72.95,
          "name": "SparkConcat_2",
          "real_mem": 1152339968,
          "time": 1616759615.9791996
         },
         {
          "cpu_percent": 0,
          "cpu_time": 73.07,
          "name": "CustMercTS_1",
          "real_mem": 1160908800,
          "time": 1616759616.1703773
         },
         {
          "cpu_percent": 98.6,
          "cpu_time": 73.29,
          "name": "SparkConcat_1",
          "real_mem": 1161838592,
          "time": 1616759616.6014943
         },
         {
          "cpu_percent": 196.1,
          "cpu_time": 73.5,
          "name": "SparkConcat_2",
          "real_mem": 1162326016,
          "time": 1616759617.0358605
         },
         {
          "cpu_percent": 98.1,
          "cpu_time": 73.63000000000001,
          "name": "CustMercTS_1",
          "real_mem": 1166929920,
          "time": 1616759617.2260835
         },
         {
          "cpu_percent": 97.9,
          "cpu_time": 74.04,
          "name": "SparkConcat_1",
          "real_mem": 1200922624,
          "time": 1616759617.658213
         },
         {
          "cpu_percent": 316.4,
          "cpu_time": 74.65999999999998,
          "name": "SparkConcat_2",
          "real_mem": 1213186048,
          "time": 1616759618.3485854
         },
         {
          "cpu_percent": 196.1,
          "cpu_time": 74.84,
          "name": "CustMercTS_1",
          "real_mem": 1213263872,
          "time": 1616759618.459398
         },
         {
          "cpu_percent": 196.10000000000002,
          "cpu_time": 75.16,
          "name": "SparkConcat_1",
          "real_mem": 1213382656,
          "time": 1616759618.7802994
         },
         {
          "cpu_percent": 0,
          "cpu_time": 75.78999999999999,
          "name": "SparkConcat_2",
          "real_mem": 1213612032,
          "time": 1616759619.4053323
         },
         {
          "cpu_percent": 197.2,
          "cpu_time": 75.9,
          "name": "CustMercTS_1",
          "real_mem": 1213612032,
          "time": 1616759619.5698059
         },
         {
          "cpu_percent": 393.2,
          "cpu_time": 76.30999999999999,
          "name": "SparkConcat_1",
          "real_mem": 1213685760,
          "time": 1616759619.9803226
         },
         {
          "cpu_percent": 124,
          "cpu_time": 76.91999999999999,
          "name": "SparkConcat_2",
          "real_mem": 1213685760,
          "time": 1616759620.6485581
         },
         {
          "cpu_percent": 208.8,
          "cpu_time": 77.09999999999998,
          "name": "CustMercTS_1",
          "real_mem": 1213706240,
          "time": 1616759620.7803404
         },
         {
          "cpu_percent": 195.3,
          "cpu_time": 77.44,
          "name": "SparkConcat_1",
          "real_mem": 1213706240,
          "time": 1616759621.1485956
         },
         {
          "cpu_percent": 114,
          "cpu_time": 78.01999999999998,
          "name": "SparkConcat_2",
          "real_mem": 1213739008,
          "time": 1616759621.7587862
         },
         {
          "cpu_percent": 0,
          "cpu_time": 78.21000000000001,
          "name": "CustMercTS_1",
          "real_mem": 1213890560,
          "time": 1616759621.9022496
         },
         {
          "cpu_percent": 98.5,
          "cpu_time": 78.49000000000001,
          "name": "SparkConcat_1",
          "real_mem": 1214009344,
          "time": 1616759622.2484083
         },
         {
          "cpu_percent": 196.1,
          "cpu_time": 79.06,
          "name": "SparkConcat_2",
          "real_mem": 1215463424,
          "time": 1616759622.848152
         },
         {
          "cpu_percent": 0,
          "cpu_time": 79.18,
          "name": "CustMercTS_1",
          "real_mem": 1216040960,
          "time": 1616759622.9694896
         },
         {
          "cpu_percent": 196.8,
          "cpu_time": 79.51,
          "name": "SparkConcat_1",
          "real_mem": 1216167936,
          "time": 1616759623.3033128
         },
         {
          "cpu_percent": 195.9,
          "cpu_time": 80.08,
          "name": "SparkConcat_2",
          "real_mem": 1216921600,
          "time": 1616759623.9030147
         },
         {
          "cpu_percent": 98.2,
          "cpu_time": 80.2,
          "name": "CustMercTS_1",
          "real_mem": 1216921600,
          "time": 1616759624.0260112
         },
         {
          "cpu_percent": 39.1,
          "cpu_time": 80.64,
          "name": "SparkConcat_1",
          "real_mem": 1217642496,
          "time": 1616759624.4806695
         },
         {
          "cpu_percent": 0,
          "cpu_time": 81.19,
          "name": "SparkConcat_2",
          "real_mem": 1218363392,
          "time": 1616759625.0803196
         },
         {
          "cpu_percent": 0,
          "cpu_time": 81.3,
          "name": "CustMercTS_1",
          "real_mem": 1218412544,
          "time": 1616759625.1693888
         },
         {
          "cpu_percent": 0,
          "cpu_time": 81.7,
          "name": "SparkConcat_1",
          "real_mem": 1218568192,
          "time": 1616759625.5695393
         },
         {
          "cpu_percent": 294.7,
          "cpu_time": 82.33,
          "name": "SparkConcat_2",
          "real_mem": 1219108864,
          "time": 1616759626.2026556
         },
         {
          "cpu_percent": 195.6,
          "cpu_time": 82.42,
          "name": "CustMercTS_1",
          "real_mem": 1219379200,
          "time": 1616759626.3602548
         },
         {
          "cpu_percent": 0,
          "cpu_time": 82.76,
          "name": "SparkConcat_1",
          "real_mem": 1219661824,
          "time": 1616759626.6697104
         },
         {
          "cpu_percent": 96.6,
          "cpu_time": 83.42999999999999,
          "name": "SparkConcat_2",
          "real_mem": 1219973120,
          "time": 1616759627.3703501
         },
         {
          "cpu_percent": 195.3,
          "cpu_time": 83.52,
          "name": "CustMercTS_1",
          "real_mem": 1220345856,
          "time": 1616759627.469778
         },
         {
          "cpu_percent": 196.2,
          "cpu_time": 83.80999999999999,
          "name": "SparkConcat_1",
          "real_mem": 1220476928,
          "time": 1616759627.7697272
         },
         {
          "cpu_percent": 196.8,
          "cpu_time": 84.51,
          "name": "SparkConcat_2",
          "real_mem": 1221419008,
          "time": 1616759628.5485787
         },
         {
          "cpu_percent": 195.9,
          "cpu_time": 84.64999999999999,
          "name": "CustMercTS_1",
          "real_mem": 1221611520,
          "time": 1616759628.6694894
         },
         {
          "cpu_percent": 96.4,
          "cpu_time": 84.98,
          "name": "SparkConcat_1",
          "real_mem": 1222516736,
          "time": 1616759628.979605
         },
         {
          "cpu_percent": 97.9,
          "cpu_time": 85.58999999999999,
          "name": "SparkConcat_2",
          "real_mem": 1223565312,
          "time": 1616759629.6485848
         },
         {
          "cpu_percent": 195.2,
          "cpu_time": 85.76,
          "name": "CustMercTS_1",
          "real_mem": 1223749632,
          "time": 1616759629.7595618
         },
         {
          "cpu_percent": 0,
          "cpu_time": 86.05,
          "name": "SparkConcat_1",
          "real_mem": 1225564160,
          "time": 1616759630.0702393
         },
         {
          "cpu_percent": 98.1,
          "cpu_time": 86.64999999999999,
          "name": "SparkConcat_2",
          "real_mem": 1228967936,
          "time": 1616759630.7037504
         },
         {
          "cpu_percent": 98.1,
          "cpu_time": 86.75999999999999,
          "name": "CustMercTS_1",
          "real_mem": 1229238272,
          "time": 1616759630.8146017
         },
         {
          "cpu_percent": 95.8,
          "cpu_time": 87.08000000000001,
          "name": "SparkConcat_1",
          "real_mem": 1229733888,
          "time": 1616759631.125622
         },
         {
          "cpu_percent": 92.7,
          "cpu_time": 87.76,
          "name": "SparkConcat_2",
          "real_mem": 1230471168,
          "time": 1616759631.848589
         },
         {
          "cpu_percent": 294.9,
          "cpu_time": 87.87,
          "name": "CustMercTS_1",
          "real_mem": 1230471168,
          "time": 1616759631.958946
         },
         {
          "cpu_percent": 196.6,
          "cpu_time": 88.14999999999999,
          "name": "SparkConcat_1",
          "real_mem": 1232363520,
          "time": 1616759632.2485023
         },
         {
          "cpu_percent": 293.5,
          "cpu_time": 88.82,
          "name": "SparkConcat_2",
          "real_mem": 1262333952,
          "time": 1616759632.9486625
         },
         {
          "cpu_percent": 403.4,
          "cpu_time": 89.02999999999999,
          "name": "CustMercTS_1",
          "real_mem": 1262333952,
          "time": 1616759633.158701
         },
         {
          "cpu_percent": 141.4,
          "cpu_time": 89.38,
          "name": "SparkConcat_1",
          "real_mem": 1262338048,
          "time": 1616759633.5486913
         },
         {
          "cpu_percent": 97.5,
          "cpu_time": 89.89999999999999,
          "name": "SparkConcat_2",
          "real_mem": 1262338048,
          "time": 1616759634.0483763
         },
         {
          "cpu_percent": 209.2,
          "cpu_time": 90.16,
          "name": "CustMercTS_1",
          "real_mem": 1262338048,
          "time": 1616759634.2801285
         },
         {
          "cpu_percent": 97.2,
          "cpu_time": 90.47,
          "name": "SparkConcat_1",
          "real_mem": 1271259136,
          "time": 1616759634.603633
         },
         {
          "cpu_percent": 98.1,
          "cpu_time": 90.89,
          "name": "SparkConcat_2",
          "real_mem": 1296175104,
          "time": 1616759635.105456
         },
         {
          "cpu_percent": 97.8,
          "cpu_time": 91.11999999999999,
          "name": "CustMercTS_1",
          "real_mem": 1296207872,
          "time": 1616759635.3374064
         },
         {
          "cpu_percent": 96.3,
          "cpu_time": 91.42999999999999,
          "name": "SparkConcat_1",
          "real_mem": 1296240640,
          "time": 1616759635.6592827
         },
         {
          "cpu_percent": 195.4,
          "cpu_time": 91.92999999999999,
          "name": "SparkConcat_2",
          "real_mem": 1298169856,
          "time": 1616759636.1802335
         },
         {
          "cpu_percent": 295,
          "cpu_time": 92.17999999999999,
          "name": "CustMercTS_1",
          "real_mem": 1298743296,
          "time": 1616759636.4593656
         },
         {
          "cpu_percent": 0,
          "cpu_time": 92.49999999999999,
          "name": "SparkConcat_1",
          "real_mem": 1299152896,
          "time": 1616759636.7805495
         },
         {
          "cpu_percent": 96.5,
          "cpu_time": 93.02,
          "name": "SparkConcat_2",
          "real_mem": 1299697664,
          "time": 1616759637.3024657
         },
         {
          "cpu_percent": 193.8,
          "cpu_time": 93.27,
          "name": "CustMercTS_1",
          "real_mem": 1299914752,
          "time": 1616759637.5485213
         },
         {
          "cpu_percent": 97.1,
          "cpu_time": 93.64,
          "name": "SparkConcat_1",
          "real_mem": 1300267008,
          "time": 1616759637.9700687
         },
         {
          "cpu_percent": 195.7,
          "cpu_time": 94.11999999999999,
          "name": "SparkConcat_2",
          "real_mem": 1300406272,
          "time": 1616759638.459548
         },
         {
          "cpu_percent": 195,
          "cpu_time": 94.28999999999999,
          "name": "CustMercTS_1",
          "real_mem": 1300406272,
          "time": 1616759638.6484005
         },
         {
          "cpu_percent": 197.1,
          "cpu_time": 94.7,
          "name": "SparkConcat_1",
          "real_mem": 1301225472,
          "time": 1616759639.048504
         },
         {
          "cpu_percent": 98,
          "cpu_time": 95.19,
          "name": "SparkConcat_2",
          "real_mem": 1301856256,
          "time": 1616759639.5485191
         }
        ],
        "logs": [
         {
          "asctime": "2021-03-26 11:52:11,268",
          "created": 1616759531.2684171,
          "extra": {},
          "filename": "async_executors.py",
          "funcName": "main",
          "levelname": "DEBUG",
          "lineno": 114,
          "message": "NonSparkPath_1: started async block execution\n",
          "name": "engine.logs:NonSparkPath_1",
          "pathname": "/usr/local/lib/python3.7/dist-packages/razor/flow/async_executors.py",
          "process": 4064,
          "processName": "ForkProcess-1:1",
          "thread": 140164243511104,
          "threadName": "MainThread"
         },
         {
          "asctime": "2021-03-26 11:52:11,297",
          "created": 1616759531.2972693,
          "extra": {},
          "filename": "async_executors.py",
          "funcName": "fill_atomic_inputs",
          "levelname": "INFO",
          "lineno": 251,
          "message": "NonSparkPath_1: waiting for atomic input: ip_path",
          "name": "engine.logs:NonSparkPath_1",
          "pathname": "/usr/local/lib/python3.7/dist-packages/razor/flow/async_executors.py",
          "process": 4064,
          "processName": "ForkProcess-1:1",
          "thread": 140164243511104,
          "threadName": "MainThread"
         },
         {
          "asctime": "2021-03-26 11:52:11,297",
          "created": 1616759531.2976809,
          "extra": {},
          "filename": "async_executors.py",
          "funcName": "fill_atomic_inputs",
          "levelname": "DEBUG",
          "lineno": 254,
          "message": "NonSparkPath_1: got atomic input: customer_data.csv",
          "name": "engine.logs:NonSparkPath_1",
          "pathname": "/usr/local/lib/python3.7/dist-packages/razor/flow/async_executors.py",
          "process": 4064,
          "processName": "ForkProcess-1:1",
          "thread": 140164243511104,
          "threadName": "MainThread"
         },
         {
          "asctime": "2021-03-26 11:52:11,297",
          "created": 1616759531.2977433,
          "extra": {},
          "filename": "async_executors.py",
          "funcName": "main",
          "levelname": "DEBUG",
          "lineno": 130,
          "message": "NonSparkPath_1: triggering block run",
          "name": "engine.logs:NonSparkPath_1",
          "pathname": "/usr/local/lib/python3.7/dist-packages/razor/flow/async_executors.py",
          "process": 4064,
          "processName": "ForkProcess-1:1",
          "thread": 140164243511104,
          "threadName": "MainThread"
         },
         {
          "asctime": "2021-03-26 11:52:11,306",
          "created": 1616759531.306583,
          "extra": {},
          "filename": "async_executors.py",
          "funcName": "main",
          "levelname": "DEBUG",
          "lineno": 136,
          "message": "NonSparkPath_1: waiting for block to finish",
          "name": "engine.logs:NonSparkPath_1",
          "pathname": "/usr/local/lib/python3.7/dist-packages/razor/flow/async_executors.py",
          "process": 4064,
          "processName": "ForkProcess-1:1",
          "thread": 140164243511104,
          "threadName": "MainThread"
         },
         {
          "asctime": "2021-03-26 11:52:11,617",
          "created": 1616759531.6170392,
          "extra": {},
          "filename": "streams.py",
          "funcName": "flush",
          "levelname": "INFO",
          "lineno": 30,
          "message": "",
          "name": "block.stdout:NonSparkPath_1",
          "pathname": "/usr/local/lib/python3.7/dist-packages/razor/flow/streams.py",
          "process": 4064,
          "processName": "ForkProcess-1:1",
          "thread": 140164128339712,
          "threadName": "ThreadPoolExecutor-0_0"
         },
         {
          "asctime": "2021-03-26 11:52:11,617",
          "created": 1616759531.6173127,
          "extra": {},
          "filename": "streams.py",
          "funcName": "flush",
          "levelname": "Level 1",
          "lineno": 30,
          "message": "",
          "name": "block.stderr:NonSparkPath_1",
          "pathname": "/usr/local/lib/python3.7/dist-packages/razor/flow/streams.py",
          "process": 4064,
          "processName": "ForkProcess-1:1",
          "thread": 140164128339712,
          "threadName": "ThreadPoolExecutor-0_0"
         },
         {
          "asctime": "2021-03-26 11:52:11,617",
          "created": 1616759531.6176808,
          "extra": {},
          "filename": "async_executors.py",
          "funcName": "distribute_output_queue",
          "levelname": "DEBUG",
          "lineno": 315,
          "message": "NonSparkPath_1: ---- dist output: /home/aios/work-dir/projectspace/customer_data.csv -> ('ReadCsvProjectSpace_1', 'filename')",
          "name": "engine.logs:NonSparkPath_1",
          "pathname": "/usr/local/lib/python3.7/dist-packages/razor/flow/async_executors.py",
          "process": 4064,
          "processName": "ForkProcess-1:1",
          "thread": 140164243511104,
          "threadName": "MainThread"
         },
         {
          "asctime": "2021-03-26 11:52:11,618",
          "created": 1616759531.6181862,
          "extra": {},
          "filename": "async_executors.py",
          "funcName": "main",
          "levelname": "DEBUG",
          "lineno": 147,
          "message": "NonSparkPath_1: block thread completed",
          "name": "engine.logs:NonSparkPath_1",
          "pathname": "/usr/local/lib/python3.7/dist-packages/razor/flow/async_executors.py",
          "process": 4064,
          "processName": "ForkProcess-1:1",
          "thread": 140164243511104,
          "threadName": "MainThread"
         },
         {
          "asctime": "2021-03-26 11:52:11,618",
          "created": 1616759531.6183078,
          "extra": {},
          "filename": "async_executors.py",
          "funcName": "main",
          "levelname": "DEBUG",
          "lineno": 149,
          "message": "NonSparkPath_1: block execution complete",
          "name": "engine.logs:NonSparkPath_1",
          "pathname": "/usr/local/lib/python3.7/dist-packages/razor/flow/async_executors.py",
          "process": 4064,
          "processName": "ForkProcess-1:1",
          "thread": 140164243511104,
          "threadName": "MainThread"
         },
         {
          "asctime": "2021-03-26 11:52:11,618",
          "created": 1616759531.6185737,
          "extra": {},
          "filename": "async_executors.py",
          "funcName": "distribute_output_queue",
          "levelname": "DEBUG",
          "lineno": 315,
          "message": "NonSparkPath_1: ---- dist output: b'__!\\tEndOfStream\\t!__' -> ('ReadCsvProjectSpace_1', 'filename')",
          "name": "engine.logs:NonSparkPath_1",
          "pathname": "/usr/local/lib/python3.7/dist-packages/razor/flow/async_executors.py",
          "process": 4064,
          "processName": "ForkProcess-1:1",
          "thread": 140164243511104,
          "threadName": "MainThread"
         },
         {
          "asctime": "2021-03-26 11:52:11,679",
          "created": 1616759531.6790197,
          "extra": {},
          "filename": "async_executors.py",
          "funcName": "main",
          "levelname": "DEBUG",
          "lineno": 114,
          "message": "CustMercTS_1: started async block execution\n",
          "name": "engine.logs:CustMercTS_1",
          "pathname": "/usr/local/lib/python3.7/dist-packages/razor/flow/async_executors.py",
          "process": 4081,
          "processName": "ForkProcess-1:2",
          "thread": 140164243511104,
          "threadName": "MainThread"
         },
         {
          "asctime": "2021-03-26 11:52:11,680",
          "created": 1616759531.6807468,
          "extra": {},
          "filename": "async_executors.py",
          "funcName": "main",
          "levelname": "DEBUG",
          "lineno": 114,
          "message": "CustStatic_1: started async block execution\n",
          "name": "engine.logs:CustStatic_1",
          "pathname": "/usr/local/lib/python3.7/dist-packages/razor/flow/async_executors.py",
          "process": 4081,
          "processName": "ForkProcess-1:2",
          "thread": 140164243511104,
          "threadName": "MainThread"
         },
         {
          "asctime": "2021-03-26 11:52:11,685",
          "created": 1616759531.685763,
          "extra": {},
          "filename": "async_executors.py",
          "funcName": "main",
          "levelname": "DEBUG",
          "lineno": 114,
          "message": "TranCityTS_1: started async block execution\n",
          "name": "engine.logs:TranCityTS_1",
          "pathname": "/usr/local/lib/python3.7/dist-packages/razor/flow/async_executors.py",
          "process": 4081,
          "processName": "ForkProcess-1:2",
          "thread": 140164243511104,
          "threadName": "MainThread"
         },
         {
          "asctime": "2021-03-26 11:52:11,686",
          "created": 1616759531.6863527,
          "extra": {},
          "filename": "async_executors.py",
          "funcName": "main",
          "levelname": "DEBUG",
          "lineno": 114,
          "message": "SparkConcat_1: started async block execution\n",
          "name": "engine.logs:SparkConcat_1",
          "pathname": "/usr/local/lib/python3.7/dist-packages/razor/flow/async_executors.py",
          "process": 4081,
          "processName": "ForkProcess-1:2",
          "thread": 140164243511104,
          "threadName": "MainThread"
         },
         {
          "asctime": "2021-03-26 11:52:11,686",
          "created": 1616759531.6868515,
          "extra": {},
          "filename": "async_executors.py",
          "funcName": "main",
          "levelname": "DEBUG",
          "lineno": 114,
          "message": "ReadCsvProjectSpace_1: started async block execution\n",
          "name": "engine.logs:ReadCsvProjectSpace_1",
          "pathname": "/usr/local/lib/python3.7/dist-packages/razor/flow/async_executors.py",
          "process": 4081,
          "processName": "ForkProcess-1:2",
          "thread": 140164243511104,
          "threadName": "MainThread"
         },
         {
          "asctime": "2021-03-26 11:52:11,687",
          "created": 1616759531.687861,
          "extra": {},
          "filename": "async_executors.py",
          "funcName": "main",
          "levelname": "DEBUG",
          "lineno": 114,
          "message": "TranTypeTS_1: started async block execution\n",
          "name": "engine.logs:TranTypeTS_1",
          "pathname": "/usr/local/lib/python3.7/dist-packages/razor/flow/async_executors.py",
          "process": 4081,
          "processName": "ForkProcess-1:2",
          "thread": 140164243511104,
          "threadName": "MainThread"
         },
         {
          "asctime": "2021-03-26 11:52:11,688",
          "created": 1616759531.6882322,
          "extra": {},
          "filename": "async_executors.py",
          "funcName": "main",
          "levelname": "DEBUG",
          "lineno": 114,
          "message": "MercStatic_1: started async block execution\n",
          "name": "engine.logs:MercStatic_1",
          "pathname": "/usr/local/lib/python3.7/dist-packages/razor/flow/async_executors.py",
          "process": 4081,
          "processName": "ForkProcess-1:2",
          "thread": 140164243511104,
          "threadName": "MainThread"
         },
         {
          "asctime": "2021-03-26 11:52:11,688",
          "created": 1616759531.688667,
          "extra": {},
          "filename": "async_executors.py",
          "funcName": "main",
          "levelname": "DEBUG",
          "lineno": 114,
          "message": "SparkConcat_2: started async block execution\n",
          "name": "engine.logs:SparkConcat_2",
          "pathname": "/usr/local/lib/python3.7/dist-packages/razor/flow/async_executors.py",
          "process": 4081,
          "processName": "ForkProcess-1:2",
          "thread": 140164243511104,
          "threadName": "MainThread"
         },
         {
          "asctime": "2021-03-26 11:52:11,687",
          "created": 1616759531.6873493,
          "extra": {},
          "filename": "async_executors.py",
          "funcName": "main",
          "levelname": "DEBUG",
          "lineno": 114,
          "message": "ProdTypeTS_1: started async block execution\n",
          "name": "engine.logs:ProdTypeTS_1",
          "pathname": "/usr/local/lib/python3.7/dist-packages/razor/flow/async_executors.py",
          "process": 4081,
          "processName": "ForkProcess-1:2",
          "thread": 140164243511104,
          "threadName": "MainThread"
         },
         {
          "asctime": "2021-03-26 11:52:12,073",
          "created": 1616759532.0739744,
          "extra": {},
          "filename": "async_executors.py",
          "funcName": "start_input_receiver",
          "levelname": "DEBUG",
          "lineno": 174,
          "message": "NonSparkPath_1: received cmd: start_sender, (), {'out_name': 'op_path', 'target': ('ReadCsvProjectSpace_1', 'filename'), 'out_addr': 'tcp://0.0.0.0:58784', 'in_memory': None}",
          "name": "engine.logs:NonSparkPath_1",
          "pathname": "/usr/local/lib/python3.7/dist-packages/razor/flow/async_executors.py",
          "process": 4064,
          "processName": "ForkProcess-1:1",
          "thread": 140164243511104,
          "threadName": "MainThread"
         },
         {
          "asctime": "2021-03-26 11:52:12,074",
          "created": 1616759532.0744429,
          "extra": {},
          "filename": "async_executors.py",
          "funcName": "start_output_sender",
          "levelname": "DEBUG",
          "lineno": 378,
          "message": "NonSparkPath_1: got start_sender, op_path, ('ReadCsvProjectSpace_1', 'filename')",
          "name": "engine.logs:NonSparkPath_1",
          "pathname": "/usr/local/lib/python3.7/dist-packages/razor/flow/async_executors.py",
          "process": 4064,
          "processName": "ForkProcess-1:1",
          "thread": 140164243511104,
          "threadName": "MainThread"
         },
         {
          "asctime": "2021-03-26 11:52:12,075",
          "created": 1616759532.0756688,
          "extra": {},
          "filename": "async_executors.py",
          "funcName": "start_output_sender",
          "levelname": "DEBUG",
          "lineno": 396,
          "message": "NonSparkPath_1: SENT, filename, /home/aios/work-dir/projectspace/customer_data.csv, ('ReadCsvProjectSpace_1', 'filename')",
          "name": "engine.logs:NonSparkPath_1",
          "pathname": "/usr/local/lib/python3.7/dist-packages/razor/flow/async_executors.py",
          "process": 4064,
          "processName": "ForkProcess-1:1",
          "thread": 140164243511104,
          "threadName": "MainThread"
         },
         {
          "asctime": "2021-03-26 11:52:12,076",
          "created": 1616759532.0763085,
          "extra": {},
          "filename": "async_executors.py",
          "funcName": "start_output_sender",
          "levelname": "DEBUG",
          "lineno": 396,
          "message": "NonSparkPath_1: SENT, filename, b'__!\\tEndOfStream\\t!__', ('ReadCsvProjectSpace_1', 'filename')",
          "name": "engine.logs:NonSparkPath_1",
          "pathname": "/usr/local/lib/python3.7/dist-packages/razor/flow/async_executors.py",
          "process": 4064,
          "processName": "ForkProcess-1:1",
          "thread": 140164243511104,
          "threadName": "MainThread"
         },
         {
          "asctime": "2021-03-26 11:52:12,076",
          "created": 1616759532.0768063,
          "extra": {},
          "filename": "async_executors.py",
          "funcName": "start_output_sender",
          "levelname": "DEBUG",
          "lineno": 399,
          "message": "NonSparkPath_1: completed output: ('op_path', ('ReadCsvProjectSpace_1', 'filename'))",
          "name": "engine.logs:NonSparkPath_1",
          "pathname": "/usr/local/lib/python3.7/dist-packages/razor/flow/async_executors.py",
          "process": 4064,
          "processName": "ForkProcess-1:1",
          "thread": 140164243511104,
          "threadName": "MainThread"
         },
         {
          "asctime": "2021-03-26 11:52:11,713",
          "created": 1616759531.7139866,
          "extra": {},
          "filename": "async_executors.py",
          "funcName": "fill_atomic_inputs",
          "levelname": "INFO",
          "lineno": 251,
          "message": "CustMercTS_1: waiting for atomic input: ip_data",
          "name": "engine.logs:CustMercTS_1",
          "pathname": "/usr/local/lib/python3.7/dist-packages/razor/flow/async_executors.py",
          "process": 4081,
          "processName": "ForkProcess-1:2",
          "thread": 140164243511104,
          "threadName": "MainThread"
         },
         {
          "asctime": "2021-03-26 11:52:11,787",
          "created": 1616759531.7874486,
          "extra": {},
          "filename": "async_executors.py",
          "funcName": "fill_atomic_inputs",
          "levelname": "INFO",
          "lineno": 251,
          "message": "TranCityTS_1: waiting for atomic input: ip_data",
          "name": "engine.logs:TranCityTS_1",
          "pathname": "/usr/local/lib/python3.7/dist-packages/razor/flow/async_executors.py",
          "process": 4081,
          "processName": "ForkProcess-1:2",
          "thread": 140164243511104,
          "threadName": "MainThread"
         },
         {
          "asctime": "2021-03-26 11:52:11,765",
          "created": 1616759531.7655752,
          "extra": {},
          "filename": "async_executors.py",
          "funcName": "fill_atomic_inputs",
          "levelname": "INFO",
          "lineno": 251,
          "message": "CustStatic_1: waiting for atomic input: ip_data",
          "name": "engine.logs:CustStatic_1",
          "pathname": "/usr/local/lib/python3.7/dist-packages/razor/flow/async_executors.py",
          "process": 4081,
          "processName": "ForkProcess-1:2",
          "thread": 140164243511104,
          "threadName": "MainThread"
         },
         {
          "asctime": "2021-03-26 11:52:11,811",
          "created": 1616759531.811554,
          "extra": {},
          "filename": "async_executors.py",
          "funcName": "fill_atomic_inputs",
          "levelname": "INFO",
          "lineno": 251,
          "message": "SparkConcat_1: waiting for atomic input: df1",
          "name": "engine.logs:SparkConcat_1",
          "pathname": "/usr/local/lib/python3.7/dist-packages/razor/flow/async_executors.py",
          "process": 4081,
          "processName": "ForkProcess-1:2",
          "thread": 140164243511104,
          "threadName": "MainThread"
         },
         {
          "asctime": "2021-03-26 11:52:11,865",
          "created": 1616759531.8652298,
          "extra": {},
          "filename": "async_executors.py",
          "funcName": "fill_atomic_inputs",
          "levelname": "INFO",
          "lineno": 251,
          "message": "ReadCsvProjectSpace_1: waiting for atomic input: filename",
          "name": "engine.logs:ReadCsvProjectSpace_1",
          "pathname": "/usr/local/lib/python3.7/dist-packages/razor/flow/async_executors.py",
          "process": 4081,
          "processName": "ForkProcess-1:2",
          "thread": 140164243511104,
          "threadName": "MainThread"
         },
         {
          "asctime": "2021-03-26 11:52:11,888",
          "created": 1616759531.888843,
          "extra": {},
          "filename": "async_executors.py",
          "funcName": "fill_atomic_inputs",
          "levelname": "INFO",
          "lineno": 251,
          "message": "ProdTypeTS_1: waiting for atomic input: ip_data",
          "name": "engine.logs:ProdTypeTS_1",
          "pathname": "/usr/local/lib/python3.7/dist-packages/razor/flow/async_executors.py",
          "process": 4081,
          "processName": "ForkProcess-1:2",
          "thread": 140164243511104,
          "threadName": "MainThread"
         },
         {
          "asctime": "2021-03-26 11:52:11,911",
          "created": 1616759531.9114895,
          "extra": {},
          "filename": "async_executors.py",
          "funcName": "fill_atomic_inputs",
          "levelname": "INFO",
          "lineno": 251,
          "message": "TranTypeTS_1: waiting for atomic input: ip_data",
          "name": "engine.logs:TranTypeTS_1",
          "pathname": "/usr/local/lib/python3.7/dist-packages/razor/flow/async_executors.py",
          "process": 4081,
          "processName": "ForkProcess-1:2",
          "thread": 140164243511104,
          "threadName": "MainThread"
         },
         {
          "asctime": "2021-03-26 11:52:11,962",
          "created": 1616759531.9620879,
          "extra": {},
          "filename": "async_executors.py",
          "funcName": "fill_atomic_inputs",
          "levelname": "INFO",
          "lineno": 251,
          "message": "MercStatic_1: waiting for atomic input: ip_data",
          "name": "engine.logs:MercStatic_1",
          "pathname": "/usr/local/lib/python3.7/dist-packages/razor/flow/async_executors.py",
          "process": 4081,
          "processName": "ForkProcess-1:2",
          "thread": 140164243511104,
          "threadName": "MainThread"
         },
         {
          "asctime": "2021-03-26 11:52:11,984",
          "created": 1616759531.9846785,
          "extra": {},
          "filename": "async_executors.py",
          "funcName": "fill_atomic_inputs",
          "levelname": "INFO",
          "lineno": 251,
          "message": "SparkConcat_2: waiting for atomic input: df1",
          "name": "engine.logs:SparkConcat_2",
          "pathname": "/usr/local/lib/python3.7/dist-packages/razor/flow/async_executors.py",
          "process": 4081,
          "processName": "ForkProcess-1:2",
          "thread": 140164243511104,
          "threadName": "MainThread"
         },
         {
          "asctime": "2021-03-26 11:52:12,082",
          "created": 1616759532.082561,
          "extra": {},
          "filename": "async_executors.py",
          "funcName": "start_input_receiver",
          "levelname": "DEBUG",
          "lineno": 174,
          "message": "NonSparkPath_1: received cmd: terminate, (), {}",
          "name": "engine.logs:NonSparkPath_1",
          "pathname": "/usr/local/lib/python3.7/dist-packages/razor/flow/async_executors.py",
          "process": 4064,
          "processName": "ForkProcess-1:1",
          "thread": 140164243511104,
          "threadName": "MainThread"
         },
         {
          "asctime": "2021-03-26 11:52:12,083",
          "created": 1616759532.0830946,
          "extra": {},
          "filename": "async_executors.py",
          "funcName": "start_input_receiver",
          "levelname": "DEBUG",
          "lineno": 178,
          "message": "ReadCsvProjectSpace_1: received data: filename, /home/aios/work-dir/projectspace/customer_data.csv",
          "name": "engine.logs:ReadCsvProjectSpace_1",
          "pathname": "/usr/local/lib/python3.7/dist-packages/razor/flow/async_executors.py",
          "process": 4081,
          "processName": "ForkProcess-1:2",
          "thread": 140164243511104,
          "threadName": "MainThread"
         },
         {
          "asctime": "2021-03-26 11:52:12,083",
          "created": 1616759532.0834243,
          "extra": {},
          "filename": "async_executors.py",
          "funcName": "start_input_receiver",
          "levelname": "DEBUG",
          "lineno": 178,
          "message": "ReadCsvProjectSpace_1: received data: filename, b'__!\\tEndOfStream\\t!__'",
          "name": "engine.logs:ReadCsvProjectSpace_1",
          "pathname": "/usr/local/lib/python3.7/dist-packages/razor/flow/async_executors.py",
          "process": 4081,
          "processName": "ForkProcess-1:2",
          "thread": 140164243511104,
          "threadName": "MainThread"
         },
         {
          "asctime": "2021-03-26 11:52:12,083",
          "created": 1616759532.0835938,
          "extra": {},
          "filename": "async_executors.py",
          "funcName": "fill_atomic_inputs",
          "levelname": "DEBUG",
          "lineno": 254,
          "message": "ReadCsvProjectSpace_1: got atomic input: /home/aios/work-dir/projectspace/customer_data.csv",
          "name": "engine.logs:ReadCsvProjectSpace_1",
          "pathname": "/usr/local/lib/python3.7/dist-packages/razor/flow/async_executors.py",
          "process": 4081,
          "processName": "ForkProcess-1:2",
          "thread": 140164243511104,
          "threadName": "MainThread"
         },
         {
          "asctime": "2021-03-26 11:52:12,083",
          "created": 1616759532.0836465,
          "extra": {},
          "filename": "async_executors.py",
          "funcName": "fill_atomic_inputs",
          "levelname": "INFO",
          "lineno": 251,
          "message": "ReadCsvProjectSpace_1: waiting for atomic input: config",
          "name": "engine.logs:ReadCsvProjectSpace_1",
          "pathname": "/usr/local/lib/python3.7/dist-packages/razor/flow/async_executors.py",
          "process": 4081,
          "processName": "ForkProcess-1:2",
          "thread": 140164243511104,
          "threadName": "MainThread"
         },
         {
          "asctime": "2021-03-26 11:52:12,083",
          "created": 1616759532.083695,
          "extra": {},
          "filename": "async_executors.py",
          "funcName": "fill_atomic_inputs",
          "levelname": "DEBUG",
          "lineno": 254,
          "message": "ReadCsvProjectSpace_1: got atomic input: {}",
          "name": "engine.logs:ReadCsvProjectSpace_1",
          "pathname": "/usr/local/lib/python3.7/dist-packages/razor/flow/async_executors.py",
          "process": 4081,
          "processName": "ForkProcess-1:2",
          "thread": 140164243511104,
          "threadName": "MainThread"
         },
         {
          "asctime": "2021-03-26 11:52:12,083",
          "created": 1616759532.0837302,
          "extra": {},
          "filename": "async_executors.py",
          "funcName": "fill_atomic_inputs",
          "levelname": "INFO",
          "lineno": 251,
          "message": "ReadCsvProjectSpace_1: waiting for atomic input: source",
          "name": "engine.logs:ReadCsvProjectSpace_1",
          "pathname": "/usr/local/lib/python3.7/dist-packages/razor/flow/async_executors.py",
          "process": 4081,
          "processName": "ForkProcess-1:2",
          "thread": 140164243511104,
          "threadName": "MainThread"
         },
         {
          "asctime": "2021-03-26 11:52:12,083",
          "created": 1616759532.08377,
          "extra": {},
          "filename": "async_executors.py",
          "funcName": "fill_atomic_inputs",
          "levelname": "DEBUG",
          "lineno": 254,
          "message": "ReadCsvProjectSpace_1: got atomic input: ",
          "name": "engine.logs:ReadCsvProjectSpace_1",
          "pathname": "/usr/local/lib/python3.7/dist-packages/razor/flow/async_executors.py",
          "process": 4081,
          "processName": "ForkProcess-1:2",
          "thread": 140164243511104,
          "threadName": "MainThread"
         },
         {
          "asctime": "2021-03-26 11:52:12,083",
          "created": 1616759532.0838091,
          "extra": {},
          "filename": "async_executors.py",
          "funcName": "main",
          "levelname": "DEBUG",
          "lineno": 130,
          "message": "ReadCsvProjectSpace_1: triggering block run",
          "name": "engine.logs:ReadCsvProjectSpace_1",
          "pathname": "/usr/local/lib/python3.7/dist-packages/razor/flow/async_executors.py",
          "process": 4081,
          "processName": "ForkProcess-1:2",
          "thread": 140164243511104,
          "threadName": "MainThread"
         },
         {
          "asctime": "2021-03-26 11:52:12,087",
          "created": 1616759532.0874782,
          "extra": {},
          "filename": "async_executors.py",
          "funcName": "main",
          "levelname": "DEBUG",
          "lineno": 136,
          "message": "ReadCsvProjectSpace_1: waiting for block to finish",
          "name": "engine.logs:ReadCsvProjectSpace_1",
          "pathname": "/usr/local/lib/python3.7/dist-packages/razor/flow/async_executors.py",
          "process": 4081,
          "processName": "ForkProcess-1:2",
          "thread": 140164243511104,
          "threadName": "MainThread"
         },
         {
          "asctime": "2021-03-26 11:52:36,672",
          "created": 1616759556.6728065,
          "extra": {},
          "filename": "streams.py",
          "funcName": "flush",
          "levelname": "INFO",
          "lineno": 30,
          "message": "Hello\nroot\n |-- transaction_id: string (nullable = true)\n |-- time: string (nullable = true)\n |-- customer_name: string (nullable = true)\n |-- card_number: string (nullable = true)\n |-- card_type: string (nullable = true)\n |-- physical_card_type: string (nullable = true)\n |-- merchant_id: string (nullable = true)\n |-- merchant_city: string (nullable = true)\n |-- merchant_state: string (nullable = true)\n |-- transaction_type: string (nullable = true)\n |-- transaction_type_sub: string (nullable = true)\n |-- amount: string (nullable = true)\n |-- product_type: string (nullable = true)\n |-- fraud_risk: string (nullable = true)\n |-- One Time Heavy Loot Score: string (nullable = true)\n |-- Drastic Transaction Change Pattern Score: string (nullable = true)\n |-- Parasitic Fraud Score: string (nullable = true)\n |-- Purchase Behavior Variation Score: string (nullable = true)\n |-- Preferred Merchant Variation Score: string (nullable = true)\n |-- Multiple Location Fraud Score: string (nullable = true)\n |-- Fraudster Merchant Score: string (nullable = true)\n |-- no_of_transactions_in_the_day: string (nullable = true)\n |-- max_transaction_amount_in_the_day: string (nullable = true)\n |-- avg_transaction_amount_in_the_day: string (nullable = true)\n |-- no_of_transactions_in_the_month: string (nullable = true)\n |-- max_transaction_amount_the_month: string (nullable = true)\n |-- avg_transaction_amount_the_month: string (nullable = true)\n |-- no_of_transactions_of_the_same_merchant_in_the_day: string (nullable = true)\n |-- max_transactions_of_the_same_merchant_in_the_day: string (nullable = true)\n |-- avg_transactions_of_the_same_merchant_in_the_day: string (nullable = true)\n |-- no_of_transactions_of_the_same_merchant_in_the_month: string (nullable = true)\n |-- max_transactions_of_the_same_merchant_in_the_month: string (nullable = true)\n |-- avg_transactions_of_the_same_merchant_in_the_month: string (nullable = true)\n\n",
          "name": "block.stdout:ReadCsvProjectSpace_1",
          "pathname": "/usr/local/lib/python3.7/dist-packages/razor/flow/streams.py",
          "process": 4081,
          "processName": "ForkProcess-1:2",
          "thread": 140161081927424,
          "threadName": "ThreadPoolExecutor-0_0"
         },
         {
          "asctime": "2021-03-26 11:52:36,772",
          "created": 1616759556.7722623,
          "extra": {},
          "filename": "async_executors.py",
          "funcName": "distribute_output_queue",
          "levelname": "DEBUG",
          "lineno": 315,
          "message": "ReadCsvProjectSpace_1: ---- dist output: DataFrame[transaction_id: string, time: string, customer_name: string, card_number: string, card_type: string, physical_card_type: string, merchant_id: string, merchant_city: string, merchant_state: string, transaction_type: string, transaction_type_sub: string, amount: string, product_type: string, fraud_risk: string, One Time Heavy Loot Score: string, Drastic Transaction Change Pattern Score: string, Parasitic Fraud Score: string, Purchase Behavior Variation Score: string, Preferred Merchant Variation Score: string, Multiple Location Fraud Score: string, Fraudster Merchant Score: string, no_of_transactions_in_the_day: string, max_transaction_amount_in_the_day: string, avg_transaction_amount_in_the_day: string, no_of_transactions_in_the_month: string, max_transaction_amount_the_month: string, avg_transaction_amount_the_month: string, no_of_transactions_of_the_same_merchant_in_the_day: string, max_transactions_of_the_same_merchant_in_the_day: string, avg_transactions_of_the_same_merchant_in_the_day: string, no_of_transactions_of_the_same_merchant_in_the_month: string, max_transactions_of_the_same_merchant_in_the_month: string, avg_transactions_of_the_same_merchant_in_the_month: string] -> ('ProdTypeTS_1', 'ip_data')",
          "name": "engine.logs:ReadCsvProjectSpace_1",
          "pathname": "/usr/local/lib/python3.7/dist-packages/razor/flow/async_executors.py",
          "process": 4081,
          "processName": "ForkProcess-1:2",
          "thread": 140164243511104,
          "threadName": "MainThread"
         },
         {
          "asctime": "2021-03-26 11:52:36,773",
          "created": 1616759556.773626,
          "extra": {},
          "filename": "async_executors.py",
          "funcName": "distribute_output_queue",
          "levelname": "DEBUG",
          "lineno": 315,
          "message": "ReadCsvProjectSpace_1: ---- dist output: DataFrame[transaction_id: string, time: string, customer_name: string, card_number: string, card_type: string, physical_card_type: string, merchant_id: string, merchant_city: string, merchant_state: string, transaction_type: string, transaction_type_sub: string, amount: string, product_type: string, fraud_risk: string, One Time Heavy Loot Score: string, Drastic Transaction Change Pattern Score: string, Parasitic Fraud Score: string, Purchase Behavior Variation Score: string, Preferred Merchant Variation Score: string, Multiple Location Fraud Score: string, Fraudster Merchant Score: string, no_of_transactions_in_the_day: string, max_transaction_amount_in_the_day: string, avg_transaction_amount_in_the_day: string, no_of_transactions_in_the_month: string, max_transaction_amount_the_month: string, avg_transaction_amount_the_month: string, no_of_transactions_of_the_same_merchant_in_the_day: string, max_transactions_of_the_same_merchant_in_the_day: string, avg_transactions_of_the_same_merchant_in_the_day: string, no_of_transactions_of_the_same_merchant_in_the_month: string, max_transactions_of_the_same_merchant_in_the_month: string, avg_transactions_of_the_same_merchant_in_the_month: string] -> ('TranTypeTS_1', 'ip_data')",
          "name": "engine.logs:ReadCsvProjectSpace_1",
          "pathname": "/usr/local/lib/python3.7/dist-packages/razor/flow/async_executors.py",
          "process": 4081,
          "processName": "ForkProcess-1:2",
          "thread": 140164243511104,
          "threadName": "MainThread"
         },
         {
          "asctime": "2021-03-26 11:52:36,774",
          "created": 1616759556.774362,
          "extra": {},
          "filename": "async_executors.py",
          "funcName": "distribute_output_queue",
          "levelname": "DEBUG",
          "lineno": 315,
          "message": "ReadCsvProjectSpace_1: ---- dist output: DataFrame[transaction_id: string, time: string, customer_name: string, card_number: string, card_type: string, physical_card_type: string, merchant_id: string, merchant_city: string, merchant_state: string, transaction_type: string, transaction_type_sub: string, amount: string, product_type: string, fraud_risk: string, One Time Heavy Loot Score: string, Drastic Transaction Change Pattern Score: string, Parasitic Fraud Score: string, Purchase Behavior Variation Score: string, Preferred Merchant Variation Score: string, Multiple Location Fraud Score: string, Fraudster Merchant Score: string, no_of_transactions_in_the_day: string, max_transaction_amount_in_the_day: string, avg_transaction_amount_in_the_day: string, no_of_transactions_in_the_month: string, max_transaction_amount_the_month: string, avg_transaction_amount_the_month: string, no_of_transactions_of_the_same_merchant_in_the_day: string, max_transactions_of_the_same_merchant_in_the_day: string, avg_transactions_of_the_same_merchant_in_the_day: string, no_of_transactions_of_the_same_merchant_in_the_month: string, max_transactions_of_the_same_merchant_in_the_month: string, avg_transactions_of_the_same_merchant_in_the_month: string] -> ('MercStatic_1', 'ip_data')",
          "name": "engine.logs:ReadCsvProjectSpace_1",
          "pathname": "/usr/local/lib/python3.7/dist-packages/razor/flow/async_executors.py",
          "process": 4081,
          "processName": "ForkProcess-1:2",
          "thread": 140164243511104,
          "threadName": "MainThread"
         },
         {
          "asctime": "2021-03-26 11:52:36,784",
          "created": 1616759556.7845805,
          "extra": {},
          "filename": "async_executors.py",
          "funcName": "fill_atomic_inputs",
          "levelname": "DEBUG",
          "lineno": 254,
          "message": "CustMercTS_1: got atomic input: DataFrame[transaction_id: string, time: string, customer_name: string, card_number: string, card_type: string, physical_card_type: string, merchant_id: string, merchant_city: string, merchant_state: string, transaction_type: string, transaction_type_sub: string, amount: string, product_type: string, fraud_risk: string, One Time Heavy Loot Score: string, Drastic Transaction Change Pattern Score: string, Parasitic Fraud Score: string, Purchase Behavior Variation Score: string, Preferred Merchant Variation Score: string, Multiple Location Fraud Score: string, Fraudster Merchant Score: string, no_of_transactions_in_the_day: string, max_transaction_amount_in_the_day: string, avg_transaction_amount_in_the_day: string, no_of_transactions_in_the_month: string, max_transaction_amount_the_month: string, avg_transaction_amount_the_month: string, no_of_transactions_of_the_same_merchant_in_the_day: string, max_transactions_of_the_same_merchant_in_the_day: string, avg_transactions_of_the_same_merchant_in_the_day: string, no_of_transactions_of_the_same_merchant_in_the_month: string, max_transactions_of_the_same_merchant_in_the_month: string, avg_transactions_of_the_same_merchant_in_the_month: string]",
          "name": "engine.logs:CustMercTS_1",
          "pathname": "/usr/local/lib/python3.7/dist-packages/razor/flow/async_executors.py",
          "process": 4081,
          "processName": "ForkProcess-1:2",
          "thread": 140164243511104,
          "threadName": "MainThread"
         },
         {
          "asctime": "2021-03-26 11:52:36,775",
          "created": 1616759556.7750037,
          "extra": {},
          "filename": "async_executors.py",
          "funcName": "distribute_output_queue",
          "levelname": "DEBUG",
          "lineno": 315,
          "message": "ReadCsvProjectSpace_1: ---- dist output: DataFrame[transaction_id: string, time: string, customer_name: string, card_number: string, card_type: string, physical_card_type: string, merchant_id: string, merchant_city: string, merchant_state: string, transaction_type: string, transaction_type_sub: string, amount: string, product_type: string, fraud_risk: string, One Time Heavy Loot Score: string, Drastic Transaction Change Pattern Score: string, Parasitic Fraud Score: string, Purchase Behavior Variation Score: string, Preferred Merchant Variation Score: string, Multiple Location Fraud Score: string, Fraudster Merchant Score: string, no_of_transactions_in_the_day: string, max_transaction_amount_in_the_day: string, avg_transaction_amount_in_the_day: string, no_of_transactions_in_the_month: string, max_transaction_amount_the_month: string, avg_transaction_amount_the_month: string, no_of_transactions_of_the_same_merchant_in_the_day: string, max_transactions_of_the_same_merchant_in_the_day: string, avg_transactions_of_the_same_merchant_in_the_day: string, no_of_transactions_of_the_same_merchant_in_the_month: string, max_transactions_of_the_same_merchant_in_the_month: string, avg_transactions_of_the_same_merchant_in_the_month: string] -> ('CustStatic_1', 'ip_data')",
          "name": "engine.logs:ReadCsvProjectSpace_1",
          "pathname": "/usr/local/lib/python3.7/dist-packages/razor/flow/async_executors.py",
          "process": 4081,
          "processName": "ForkProcess-1:2",
          "thread": 140164243511104,
          "threadName": "MainThread"
         },
         {
          "asctime": "2021-03-26 11:52:36,784",
          "created": 1616759556.784712,
          "extra": {},
          "filename": "async_executors.py",
          "funcName": "fill_atomic_inputs",
          "levelname": "INFO",
          "lineno": 251,
          "message": "CustMercTS_1: waiting for atomic input: config",
          "name": "engine.logs:CustMercTS_1",
          "pathname": "/usr/local/lib/python3.7/dist-packages/razor/flow/async_executors.py",
          "process": 4081,
          "processName": "ForkProcess-1:2",
          "thread": 140164243511104,
          "threadName": "MainThread"
         },
         {
          "asctime": "2021-03-26 11:52:36,775",
          "created": 1616759556.7755442,
          "extra": {},
          "filename": "async_executors.py",
          "funcName": "distribute_output_queue",
          "levelname": "DEBUG",
          "lineno": 315,
          "message": "ReadCsvProjectSpace_1: ---- dist output: DataFrame[transaction_id: string, time: string, customer_name: string, card_number: string, card_type: string, physical_card_type: string, merchant_id: string, merchant_city: string, merchant_state: string, transaction_type: string, transaction_type_sub: string, amount: string, product_type: string, fraud_risk: string, One Time Heavy Loot Score: string, Drastic Transaction Change Pattern Score: string, Parasitic Fraud Score: string, Purchase Behavior Variation Score: string, Preferred Merchant Variation Score: string, Multiple Location Fraud Score: string, Fraudster Merchant Score: string, no_of_transactions_in_the_day: string, max_transaction_amount_in_the_day: string, avg_transaction_amount_in_the_day: string, no_of_transactions_in_the_month: string, max_transaction_amount_the_month: string, avg_transaction_amount_the_month: string, no_of_transactions_of_the_same_merchant_in_the_day: string, max_transactions_of_the_same_merchant_in_the_day: string, avg_transactions_of_the_same_merchant_in_the_day: string, no_of_transactions_of_the_same_merchant_in_the_month: string, max_transactions_of_the_same_merchant_in_the_month: string, avg_transactions_of_the_same_merchant_in_the_month: string] -> ('CustMercTS_1', 'ip_data')",
          "name": "engine.logs:ReadCsvProjectSpace_1",
          "pathname": "/usr/local/lib/python3.7/dist-packages/razor/flow/async_executors.py",
          "process": 4081,
          "processName": "ForkProcess-1:2",
          "thread": 140164243511104,
          "threadName": "MainThread"
         },
         {
          "asctime": "2021-03-26 11:52:36,776",
          "created": 1616759556.7760596,
          "extra": {},
          "filename": "async_executors.py",
          "funcName": "distribute_output_queue",
          "levelname": "DEBUG",
          "lineno": 315,
          "message": "ReadCsvProjectSpace_1: ---- dist output: DataFrame[transaction_id: string, time: string, customer_name: string, card_number: string, card_type: string, physical_card_type: string, merchant_id: string, merchant_city: string, merchant_state: string, transaction_type: string, transaction_type_sub: string, amount: string, product_type: string, fraud_risk: string, One Time Heavy Loot Score: string, Drastic Transaction Change Pattern Score: string, Parasitic Fraud Score: string, Purchase Behavior Variation Score: string, Preferred Merchant Variation Score: string, Multiple Location Fraud Score: string, Fraudster Merchant Score: string, no_of_transactions_in_the_day: string, max_transaction_amount_in_the_day: string, avg_transaction_amount_in_the_day: string, no_of_transactions_in_the_month: string, max_transaction_amount_the_month: string, avg_transaction_amount_the_month: string, no_of_transactions_of_the_same_merchant_in_the_day: string, max_transactions_of_the_same_merchant_in_the_day: string, avg_transactions_of_the_same_merchant_in_the_day: string, no_of_transactions_of_the_same_merchant_in_the_month: string, max_transactions_of_the_same_merchant_in_the_month: string, avg_transactions_of_the_same_merchant_in_the_month: string] -> ('TranCityTS_1', 'ip_data')",
          "name": "engine.logs:ReadCsvProjectSpace_1",
          "pathname": "/usr/local/lib/python3.7/dist-packages/razor/flow/async_executors.py",
          "process": 4081,
          "processName": "ForkProcess-1:2",
          "thread": 140164243511104,
          "threadName": "MainThread"
         },
         {
          "asctime": "2021-03-26 11:52:36,776",
          "created": 1616759556.776471,
          "extra": {},
          "filename": "async_executors.py",
          "funcName": "main",
          "levelname": "DEBUG",
          "lineno": 147,
          "message": "ReadCsvProjectSpace_1: block thread completed",
          "name": "engine.logs:ReadCsvProjectSpace_1",
          "pathname": "/usr/local/lib/python3.7/dist-packages/razor/flow/async_executors.py",
          "process": 4081,
          "processName": "ForkProcess-1:2",
          "thread": 140164243511104,
          "threadName": "MainThread"
         },
         {
          "asctime": "2021-03-26 11:52:36,776",
          "created": 1616759556.7765732,
          "extra": {},
          "filename": "async_executors.py",
          "funcName": "main",
          "levelname": "DEBUG",
          "lineno": 149,
          "message": "ReadCsvProjectSpace_1: block execution complete",
          "name": "engine.logs:ReadCsvProjectSpace_1",
          "pathname": "/usr/local/lib/python3.7/dist-packages/razor/flow/async_executors.py",
          "process": 4081,
          "processName": "ForkProcess-1:2",
          "thread": 140164243511104,
          "threadName": "MainThread"
         },
         {
          "asctime": "2021-03-26 11:52:36,776",
          "created": 1616759556.7768924,
          "extra": {},
          "filename": "async_executors.py",
          "funcName": "distribute_output_queue",
          "levelname": "DEBUG",
          "lineno": 315,
          "message": "ReadCsvProjectSpace_1: ---- dist output: b'__!\\tEndOfStream\\t!__' -> ('ProdTypeTS_1', 'ip_data')",
          "name": "engine.logs:ReadCsvProjectSpace_1",
          "pathname": "/usr/local/lib/python3.7/dist-packages/razor/flow/async_executors.py",
          "process": 4081,
          "processName": "ForkProcess-1:2",
          "thread": 140164243511104,
          "threadName": "MainThread"
         },
         {
          "asctime": "2021-03-26 11:52:36,776",
          "created": 1616759556.7769704,
          "extra": {},
          "filename": "async_executors.py",
          "funcName": "distribute_output_queue",
          "levelname": "DEBUG",
          "lineno": 315,
          "message": "ReadCsvProjectSpace_1: ---- dist output: b'__!\\tEndOfStream\\t!__' -> ('TranTypeTS_1', 'ip_data')",
          "name": "engine.logs:ReadCsvProjectSpace_1",
          "pathname": "/usr/local/lib/python3.7/dist-packages/razor/flow/async_executors.py",
          "process": 4081,
          "processName": "ForkProcess-1:2",
          "thread": 140164243511104,
          "threadName": "MainThread"
         },
         {
          "asctime": "2021-03-26 11:52:36,777",
          "created": 1616759556.7770243,
          "extra": {},
          "filename": "async_executors.py",
          "funcName": "distribute_output_queue",
          "levelname": "DEBUG",
          "lineno": 315,
          "message": "ReadCsvProjectSpace_1: ---- dist output: b'__!\\tEndOfStream\\t!__' -> ('MercStatic_1', 'ip_data')",
          "name": "engine.logs:ReadCsvProjectSpace_1",
          "pathname": "/usr/local/lib/python3.7/dist-packages/razor/flow/async_executors.py",
          "process": 4081,
          "processName": "ForkProcess-1:2",
          "thread": 140164243511104,
          "threadName": "MainThread"
         },
         {
          "asctime": "2021-03-26 11:52:36,777",
          "created": 1616759556.777104,
          "extra": {},
          "filename": "async_executors.py",
          "funcName": "distribute_output_queue",
          "levelname": "DEBUG",
          "lineno": 315,
          "message": "ReadCsvProjectSpace_1: ---- dist output: b'__!\\tEndOfStream\\t!__' -> ('CustStatic_1', 'ip_data')",
          "name": "engine.logs:ReadCsvProjectSpace_1",
          "pathname": "/usr/local/lib/python3.7/dist-packages/razor/flow/async_executors.py",
          "process": 4081,
          "processName": "ForkProcess-1:2",
          "thread": 140164243511104,
          "threadName": "MainThread"
         },
         {
          "asctime": "2021-03-26 11:52:36,777",
          "created": 1616759556.7771647,
          "extra": {},
          "filename": "async_executors.py",
          "funcName": "distribute_output_queue",
          "levelname": "DEBUG",
          "lineno": 315,
          "message": "ReadCsvProjectSpace_1: ---- dist output: b'__!\\tEndOfStream\\t!__' -> ('CustMercTS_1', 'ip_data')",
          "name": "engine.logs:ReadCsvProjectSpace_1",
          "pathname": "/usr/local/lib/python3.7/dist-packages/razor/flow/async_executors.py",
          "process": 4081,
          "processName": "ForkProcess-1:2",
          "thread": 140164243511104,
          "threadName": "MainThread"
         },
         {
          "asctime": "2021-03-26 11:52:36,777",
          "created": 1616759556.7772038,
          "extra": {},
          "filename": "async_executors.py",
          "funcName": "distribute_output_queue",
          "levelname": "DEBUG",
          "lineno": 315,
          "message": "ReadCsvProjectSpace_1: ---- dist output: b'__!\\tEndOfStream\\t!__' -> ('TranCityTS_1', 'ip_data')",
          "name": "engine.logs:ReadCsvProjectSpace_1",
          "pathname": "/usr/local/lib/python3.7/dist-packages/razor/flow/async_executors.py",
          "process": 4081,
          "processName": "ForkProcess-1:2",
          "thread": 140164243511104,
          "threadName": "MainThread"
         },
         {
          "asctime": "2021-03-26 11:52:36,780",
          "created": 1616759556.7806478,
          "extra": {},
          "filename": "async_executors.py",
          "funcName": "start_input_receiver",
          "levelname": "DEBUG",
          "lineno": 174,
          "message": "ReadCsvProjectSpace_1: received cmd: start_sender, (), {'out_name': 'data', 'target': ('CustMercTS_1', 'ip_data'), 'out_addr': 'tcp://0.0.0.0:61982', 'in_memory': True}",
          "name": "engine.logs:ReadCsvProjectSpace_1",
          "pathname": "/usr/local/lib/python3.7/dist-packages/razor/flow/async_executors.py",
          "process": 4081,
          "processName": "ForkProcess-1:2",
          "thread": 140164243511104,
          "threadName": "MainThread"
         },
         {
          "asctime": "2021-03-26 11:52:36,781",
          "created": 1616759556.7812343,
          "extra": {},
          "filename": "async_executors.py",
          "funcName": "start_output_sender",
          "levelname": "DEBUG",
          "lineno": 378,
          "message": "ReadCsvProjectSpace_1: got start_sender, data, ('CustMercTS_1', 'ip_data')",
          "name": "engine.logs:ReadCsvProjectSpace_1",
          "pathname": "/usr/local/lib/python3.7/dist-packages/razor/flow/async_executors.py",
          "process": 4081,
          "processName": "ForkProcess-1:2",
          "thread": 140164243511104,
          "threadName": "MainThread"
         },
         {
          "asctime": "2021-03-26 11:52:36,782",
          "created": 1616759556.7822156,
          "extra": {},
          "filename": "async_executors.py",
          "funcName": "start_output_sender",
          "levelname": "DEBUG",
          "lineno": 383,
          "message": "ReadCsvProjectSpace_1: SENT, ip_data, DataFrame[transaction_id: string, time: string, customer_name: string, card_number: string, card_type: string, physical_card_type: string, merchant_id: string, merchant_city: string, merchant_state: string, transaction_type: string, transaction_type_sub: string, amount: string, product_type: string, fraud_risk: string, One Time Heavy Loot Score: string, Drastic Transaction Change Pattern Score: string, Parasitic Fraud Score: string, Purchase Behavior Variation Score: string, Preferred Merchant Variation Score: string, Multiple Location Fraud Score: string, Fraudster Merchant Score: string, no_of_transactions_in_the_day: string, max_transaction_amount_in_the_day: string, avg_transaction_amount_in_the_day: string, no_of_transactions_in_the_month: string, max_transaction_amount_the_month: string, avg_transaction_amount_the_month: string, no_of_transactions_of_the_same_merchant_in_the_day: string, max_transactions_of_the_same_merchant_in_the_day: string, avg_transactions_of_the_same_merchant_in_the_day: string, no_of_transactions_of_the_same_merchant_in_the_month: string, max_transactions_of_the_same_merchant_in_the_month: string, avg_transactions_of_the_same_merchant_in_the_month: string], ('CustMercTS_1', 'ip_data')",
          "name": "engine.logs:ReadCsvProjectSpace_1",
          "pathname": "/usr/local/lib/python3.7/dist-packages/razor/flow/async_executors.py",
          "process": 4081,
          "processName": "ForkProcess-1:2",
          "thread": 140164243511104,
          "threadName": "MainThread"
         },
         {
          "asctime": "2021-03-26 11:52:36,782",
          "created": 1616759556.7824056,
          "extra": {},
          "filename": "async_executors.py",
          "funcName": "start_output_sender",
          "levelname": "DEBUG",
          "lineno": 383,
          "message": "ReadCsvProjectSpace_1: SENT, ip_data, b'__!\\tEndOfStream\\t!__', ('CustMercTS_1', 'ip_data')",
          "name": "engine.logs:ReadCsvProjectSpace_1",
          "pathname": "/usr/local/lib/python3.7/dist-packages/razor/flow/async_executors.py",
          "process": 4081,
          "processName": "ForkProcess-1:2",
          "thread": 140164243511104,
          "threadName": "MainThread"
         },
         {
          "asctime": "2021-03-26 11:52:36,782",
          "created": 1616759556.7825074,
          "extra": {},
          "filename": "async_executors.py",
          "funcName": "start_output_sender",
          "levelname": "DEBUG",
          "lineno": 387,
          "message": "ReadCsvProjectSpace_1: completed output: ('data', ('CustMercTS_1', 'ip_data'))",
          "name": "engine.logs:ReadCsvProjectSpace_1",
          "pathname": "/usr/local/lib/python3.7/dist-packages/razor/flow/async_executors.py",
          "process": 4081,
          "processName": "ForkProcess-1:2",
          "thread": 140164243511104,
          "threadName": "MainThread"
         },
         {
          "asctime": "2021-03-26 11:52:36,786",
          "created": 1616759556.78624,
          "extra": {},
          "filename": "async_executors.py",
          "funcName": "start_input_receiver",
          "levelname": "DEBUG",
          "lineno": 174,
          "message": "ReadCsvProjectSpace_1: received cmd: start_sender, (), {'out_name': 'data', 'target': ('CustStatic_1', 'ip_data'), 'out_addr': 'tcp://0.0.0.0:51900', 'in_memory': True}",
          "name": "engine.logs:ReadCsvProjectSpace_1",
          "pathname": "/usr/local/lib/python3.7/dist-packages/razor/flow/async_executors.py",
          "process": 4081,
          "processName": "ForkProcess-1:2",
          "thread": 140164243511104,
          "threadName": "MainThread"
         },
         {
          "asctime": "2021-03-26 11:52:36,784",
          "created": 1616759556.784781,
          "extra": {},
          "filename": "async_executors.py",
          "funcName": "fill_atomic_inputs",
          "levelname": "DEBUG",
          "lineno": 254,
          "message": "CustMercTS_1: got atomic input: {}",
          "name": "engine.logs:CustMercTS_1",
          "pathname": "/usr/local/lib/python3.7/dist-packages/razor/flow/async_executors.py",
          "process": 4081,
          "processName": "ForkProcess-1:2",
          "thread": 140164243511104,
          "threadName": "MainThread"
         },
         {
          "asctime": "2021-03-26 11:52:36,784",
          "created": 1616759556.7848206,
          "extra": {},
          "filename": "async_executors.py",
          "funcName": "fill_atomic_inputs",
          "levelname": "INFO",
          "lineno": 251,
          "message": "CustMercTS_1: waiting for atomic input: source",
          "name": "engine.logs:CustMercTS_1",
          "pathname": "/usr/local/lib/python3.7/dist-packages/razor/flow/async_executors.py",
          "process": 4081,
          "processName": "ForkProcess-1:2",
          "thread": 140164243511104,
          "threadName": "MainThread"
         },
         {
          "asctime": "2021-03-26 11:52:36,787",
          "created": 1616759556.7873545,
          "extra": {},
          "filename": "async_executors.py",
          "funcName": "start_output_sender",
          "levelname": "DEBUG",
          "lineno": 378,
          "message": "ReadCsvProjectSpace_1: got start_sender, data, ('CustStatic_1', 'ip_data')",
          "name": "engine.logs:ReadCsvProjectSpace_1",
          "pathname": "/usr/local/lib/python3.7/dist-packages/razor/flow/async_executors.py",
          "process": 4081,
          "processName": "ForkProcess-1:2",
          "thread": 140164243511104,
          "threadName": "MainThread"
         },
         {
          "asctime": "2021-03-26 11:52:36,784",
          "created": 1616759556.784862,
          "extra": {},
          "filename": "async_executors.py",
          "funcName": "fill_atomic_inputs",
          "levelname": "DEBUG",
          "lineno": 254,
          "message": "CustMercTS_1: got atomic input: ",
          "name": "engine.logs:CustMercTS_1",
          "pathname": "/usr/local/lib/python3.7/dist-packages/razor/flow/async_executors.py",
          "process": 4081,
          "processName": "ForkProcess-1:2",
          "thread": 140164243511104,
          "threadName": "MainThread"
         },
         {
          "asctime": "2021-03-26 11:52:36,850",
          "created": 1616759556.8507545,
          "extra": {},
          "filename": "async_executors.py",
          "funcName": "start_output_sender",
          "levelname": "DEBUG",
          "lineno": 383,
          "message": "ReadCsvProjectSpace_1: SENT, ip_data, DataFrame[transaction_id: string, time: string, customer_name: string, card_number: string, card_type: string, physical_card_type: string, merchant_id: string, merchant_city: string, merchant_state: string, transaction_type: string, transaction_type_sub: string, amount: string, product_type: string, fraud_risk: string, One Time Heavy Loot Score: string, Drastic Transaction Change Pattern Score: string, Parasitic Fraud Score: string, Purchase Behavior Variation Score: string, Preferred Merchant Variation Score: string, Multiple Location Fraud Score: string, Fraudster Merchant Score: string, no_of_transactions_in_the_day: string, max_transaction_amount_in_the_day: string, avg_transaction_amount_in_the_day: string, no_of_transactions_in_the_month: string, max_transaction_amount_the_month: string, avg_transaction_amount_the_month: string, no_of_transactions_of_the_same_merchant_in_the_day: string, max_transactions_of_the_same_merchant_in_the_day: string, avg_transactions_of_the_same_merchant_in_the_day: string, no_of_transactions_of_the_same_merchant_in_the_month: string, max_transactions_of_the_same_merchant_in_the_month: string, avg_transactions_of_the_same_merchant_in_the_month: string], ('CustStatic_1', 'ip_data')",
          "name": "engine.logs:ReadCsvProjectSpace_1",
          "pathname": "/usr/local/lib/python3.7/dist-packages/razor/flow/async_executors.py",
          "process": 4081,
          "processName": "ForkProcess-1:2",
          "thread": 140164243511104,
          "threadName": "MainThread"
         },
         {
          "asctime": "2021-03-26 11:52:36,784",
          "created": 1616759556.7849143,
          "extra": {},
          "filename": "async_executors.py",
          "funcName": "main",
          "levelname": "DEBUG",
          "lineno": 130,
          "message": "CustMercTS_1: triggering block run",
          "name": "engine.logs:CustMercTS_1",
          "pathname": "/usr/local/lib/python3.7/dist-packages/razor/flow/async_executors.py",
          "process": 4081,
          "processName": "ForkProcess-1:2",
          "thread": 140164243511104,
          "threadName": "MainThread"
         },
         {
          "asctime": "2021-03-26 11:52:36,851",
          "created": 1616759556.8510723,
          "extra": {},
          "filename": "async_executors.py",
          "funcName": "start_output_sender",
          "levelname": "DEBUG",
          "lineno": 383,
          "message": "ReadCsvProjectSpace_1: SENT, ip_data, b'__!\\tEndOfStream\\t!__', ('CustStatic_1', 'ip_data')",
          "name": "engine.logs:ReadCsvProjectSpace_1",
          "pathname": "/usr/local/lib/python3.7/dist-packages/razor/flow/async_executors.py",
          "process": 4081,
          "processName": "ForkProcess-1:2",
          "thread": 140164243511104,
          "threadName": "MainThread"
         },
         {
          "asctime": "2021-03-26 11:52:36,974",
          "created": 1616759556.974462,
          "extra": {},
          "filename": "async_executors.py",
          "funcName": "fill_atomic_inputs",
          "levelname": "DEBUG",
          "lineno": 254,
          "message": "CustStatic_1: got atomic input: DataFrame[transaction_id: string, time: string, customer_name: string, card_number: string, card_type: string, physical_card_type: string, merchant_id: string, merchant_city: string, merchant_state: string, transaction_type: string, transaction_type_sub: string, amount: string, product_type: string, fraud_risk: string, One Time Heavy Loot Score: string, Drastic Transaction Change Pattern Score: string, Parasitic Fraud Score: string, Purchase Behavior Variation Score: string, Preferred Merchant Variation Score: string, Multiple Location Fraud Score: string, Fraudster Merchant Score: string, no_of_transactions_in_the_day: string, max_transaction_amount_in_the_day: string, avg_transaction_amount_in_the_day: string, no_of_transactions_in_the_month: string, max_transaction_amount_the_month: string, avg_transaction_amount_the_month: string, no_of_transactions_of_the_same_merchant_in_the_day: string, max_transactions_of_the_same_merchant_in_the_day: string, avg_transactions_of_the_same_merchant_in_the_day: string, no_of_transactions_of_the_same_merchant_in_the_month: string, max_transactions_of_the_same_merchant_in_the_month: string, avg_transactions_of_the_same_merchant_in_the_month: string]",
          "name": "engine.logs:CustStatic_1",
          "pathname": "/usr/local/lib/python3.7/dist-packages/razor/flow/async_executors.py",
          "process": 4081,
          "processName": "ForkProcess-1:2",
          "thread": 140164243511104,
          "threadName": "MainThread"
         },
         {
          "asctime": "2021-03-26 11:52:36,785",
          "created": 1616759556.7858782,
          "extra": {},
          "filename": "async_executors.py",
          "funcName": "main",
          "levelname": "DEBUG",
          "lineno": 136,
          "message": "CustMercTS_1: waiting for block to finish",
          "name": "engine.logs:CustMercTS_1",
          "pathname": "/usr/local/lib/python3.7/dist-packages/razor/flow/async_executors.py",
          "process": 4081,
          "processName": "ForkProcess-1:2",
          "thread": 140164243511104,
          "threadName": "MainThread"
         },
         {
          "asctime": "2021-03-26 11:52:36,851",
          "created": 1616759556.851189,
          "extra": {},
          "filename": "async_executors.py",
          "funcName": "start_output_sender",
          "levelname": "DEBUG",
          "lineno": 387,
          "message": "ReadCsvProjectSpace_1: completed output: ('data', ('CustStatic_1', 'ip_data'))",
          "name": "engine.logs:ReadCsvProjectSpace_1",
          "pathname": "/usr/local/lib/python3.7/dist-packages/razor/flow/async_executors.py",
          "process": 4081,
          "processName": "ForkProcess-1:2",
          "thread": 140164243511104,
          "threadName": "MainThread"
         },
         {
          "asctime": "2021-03-26 11:52:36,974",
          "created": 1616759556.9747016,
          "extra": {},
          "filename": "async_executors.py",
          "funcName": "fill_atomic_inputs",
          "levelname": "INFO",
          "lineno": 251,
          "message": "CustStatic_1: waiting for atomic input: config",
          "name": "engine.logs:CustStatic_1",
          "pathname": "/usr/local/lib/python3.7/dist-packages/razor/flow/async_executors.py",
          "process": 4081,
          "processName": "ForkProcess-1:2",
          "thread": 140164243511104,
          "threadName": "MainThread"
         },
         {
          "asctime": "2021-03-26 11:52:36,851",
          "created": 1616759556.8513124,
          "extra": {},
          "filename": "async_executors.py",
          "funcName": "start_input_receiver",
          "levelname": "DEBUG",
          "lineno": 174,
          "message": "ReadCsvProjectSpace_1: received cmd: start_sender, (), {'out_name': 'data', 'target': ('ProdTypeTS_1', 'ip_data'), 'out_addr': 'tcp://0.0.0.0:53277', 'in_memory': True}",
          "name": "engine.logs:ReadCsvProjectSpace_1",
          "pathname": "/usr/local/lib/python3.7/dist-packages/razor/flow/async_executors.py",
          "process": 4081,
          "processName": "ForkProcess-1:2",
          "thread": 140164243511104,
          "threadName": "MainThread"
         },
         {
          "asctime": "2021-03-26 11:52:37,249",
          "created": 1616759557.2497158,
          "extra": {},
          "filename": "async_executors.py",
          "funcName": "fill_atomic_inputs",
          "levelname": "DEBUG",
          "lineno": 254,
          "message": "ProdTypeTS_1: got atomic input: DataFrame[transaction_id: string, time: string, customer_name: string, card_number: string, card_type: string, physical_card_type: string, merchant_id: string, merchant_city: string, merchant_state: string, transaction_type: string, transaction_type_sub: string, amount: string, product_type: string, fraud_risk: string, One Time Heavy Loot Score: string, Drastic Transaction Change Pattern Score: string, Parasitic Fraud Score: string, Purchase Behavior Variation Score: string, Preferred Merchant Variation Score: string, Multiple Location Fraud Score: string, Fraudster Merchant Score: string, no_of_transactions_in_the_day: string, max_transaction_amount_in_the_day: string, avg_transaction_amount_in_the_day: string, no_of_transactions_in_the_month: string, max_transaction_amount_the_month: string, avg_transaction_amount_the_month: string, no_of_transactions_of_the_same_merchant_in_the_day: string, max_transactions_of_the_same_merchant_in_the_day: string, avg_transactions_of_the_same_merchant_in_the_day: string, no_of_transactions_of_the_same_merchant_in_the_month: string, max_transactions_of_the_same_merchant_in_the_month: string, avg_transactions_of_the_same_merchant_in_the_month: string]",
          "name": "engine.logs:ProdTypeTS_1",
          "pathname": "/usr/local/lib/python3.7/dist-packages/razor/flow/async_executors.py",
          "process": 4081,
          "processName": "ForkProcess-1:2",
          "thread": 140164243511104,
          "threadName": "MainThread"
         },
         {
          "asctime": "2021-03-26 11:52:36,974",
          "created": 1616759556.9748194,
          "extra": {},
          "filename": "async_executors.py",
          "funcName": "fill_atomic_inputs",
          "levelname": "DEBUG",
          "lineno": 254,
          "message": "CustStatic_1: got atomic input: {}",
          "name": "engine.logs:CustStatic_1",
          "pathname": "/usr/local/lib/python3.7/dist-packages/razor/flow/async_executors.py",
          "process": 4081,
          "processName": "ForkProcess-1:2",
          "thread": 140164243511104,
          "threadName": "MainThread"
         },
         {
          "asctime": "2021-03-26 11:52:37,249",
          "created": 1616759557.249979,
          "extra": {},
          "filename": "async_executors.py",
          "funcName": "fill_atomic_inputs",
          "levelname": "INFO",
          "lineno": 251,
          "message": "ProdTypeTS_1: waiting for atomic input: config",
          "name": "engine.logs:ProdTypeTS_1",
          "pathname": "/usr/local/lib/python3.7/dist-packages/razor/flow/async_executors.py",
          "process": 4081,
          "processName": "ForkProcess-1:2",
          "thread": 140164243511104,
          "threadName": "MainThread"
         },
         {
          "asctime": "2021-03-26 11:52:36,974",
          "created": 1616759556.974894,
          "extra": {},
          "filename": "async_executors.py",
          "funcName": "fill_atomic_inputs",
          "levelname": "INFO",
          "lineno": 251,
          "message": "CustStatic_1: waiting for atomic input: source",
          "name": "engine.logs:CustStatic_1",
          "pathname": "/usr/local/lib/python3.7/dist-packages/razor/flow/async_executors.py",
          "process": 4081,
          "processName": "ForkProcess-1:2",
          "thread": 140164243511104,
          "threadName": "MainThread"
         },
         {
          "asctime": "2021-03-26 11:52:36,852",
          "created": 1616759556.8524296,
          "extra": {},
          "filename": "async_executors.py",
          "funcName": "start_output_sender",
          "levelname": "DEBUG",
          "lineno": 378,
          "message": "ReadCsvProjectSpace_1: got start_sender, data, ('ProdTypeTS_1', 'ip_data')",
          "name": "engine.logs:ReadCsvProjectSpace_1",
          "pathname": "/usr/local/lib/python3.7/dist-packages/razor/flow/async_executors.py",
          "process": 4081,
          "processName": "ForkProcess-1:2",
          "thread": 140164243511104,
          "threadName": "MainThread"
         },
         {
          "asctime": "2021-03-26 11:52:37,250",
          "created": 1616759557.2501233,
          "extra": {},
          "filename": "async_executors.py",
          "funcName": "fill_atomic_inputs",
          "levelname": "DEBUG",
          "lineno": 254,
          "message": "ProdTypeTS_1: got atomic input: {}",
          "name": "engine.logs:ProdTypeTS_1",
          "pathname": "/usr/local/lib/python3.7/dist-packages/razor/flow/async_executors.py",
          "process": 4081,
          "processName": "ForkProcess-1:2",
          "thread": 140164243511104,
          "threadName": "MainThread"
         },
         {
          "asctime": "2021-03-26 11:52:36,974",
          "created": 1616759556.974994,
          "extra": {},
          "filename": "async_executors.py",
          "funcName": "fill_atomic_inputs",
          "levelname": "DEBUG",
          "lineno": 254,
          "message": "CustStatic_1: got atomic input: ",
          "name": "engine.logs:CustStatic_1",
          "pathname": "/usr/local/lib/python3.7/dist-packages/razor/flow/async_executors.py",
          "process": 4081,
          "processName": "ForkProcess-1:2",
          "thread": 140164243511104,
          "threadName": "MainThread"
         },
         {
          "asctime": "2021-03-26 11:52:37,560",
          "created": 1616759557.560807,
          "extra": {},
          "filename": "async_executors.py",
          "funcName": "fill_atomic_inputs",
          "levelname": "DEBUG",
          "lineno": 254,
          "message": "MercStatic_1: got atomic input: DataFrame[transaction_id: string, time: string, customer_name: string, card_number: string, card_type: string, physical_card_type: string, merchant_id: string, merchant_city: string, merchant_state: string, transaction_type: string, transaction_type_sub: string, amount: string, product_type: string, fraud_risk: string, One Time Heavy Loot Score: string, Drastic Transaction Change Pattern Score: string, Parasitic Fraud Score: string, Purchase Behavior Variation Score: string, Preferred Merchant Variation Score: string, Multiple Location Fraud Score: string, Fraudster Merchant Score: string, no_of_transactions_in_the_day: string, max_transaction_amount_in_the_day: string, avg_transaction_amount_in_the_day: string, no_of_transactions_in_the_month: string, max_transaction_amount_the_month: string, avg_transaction_amount_the_month: string, no_of_transactions_of_the_same_merchant_in_the_day: string, max_transactions_of_the_same_merchant_in_the_day: string, avg_transactions_of_the_same_merchant_in_the_day: string, no_of_transactions_of_the_same_merchant_in_the_month: string, max_transactions_of_the_same_merchant_in_the_month: string, avg_transactions_of_the_same_merchant_in_the_month: string]",
          "name": "engine.logs:MercStatic_1",
          "pathname": "/usr/local/lib/python3.7/dist-packages/razor/flow/async_executors.py",
          "process": 4081,
          "processName": "ForkProcess-1:2",
          "thread": 140164243511104,
          "threadName": "MainThread"
         },
         {
          "asctime": "2021-03-26 11:52:36,874",
          "created": 1616759556.8742287,
          "extra": {},
          "filename": "async_executors.py",
          "funcName": "start_output_sender",
          "levelname": "DEBUG",
          "lineno": 383,
          "message": "ReadCsvProjectSpace_1: SENT, ip_data, DataFrame[transaction_id: string, time: string, customer_name: string, card_number: string, card_type: string, physical_card_type: string, merchant_id: string, merchant_city: string, merchant_state: string, transaction_type: string, transaction_type_sub: string, amount: string, product_type: string, fraud_risk: string, One Time Heavy Loot Score: string, Drastic Transaction Change Pattern Score: string, Parasitic Fraud Score: string, Purchase Behavior Variation Score: string, Preferred Merchant Variation Score: string, Multiple Location Fraud Score: string, Fraudster Merchant Score: string, no_of_transactions_in_the_day: string, max_transaction_amount_in_the_day: string, avg_transaction_amount_in_the_day: string, no_of_transactions_in_the_month: string, max_transaction_amount_the_month: string, avg_transaction_amount_the_month: string, no_of_transactions_of_the_same_merchant_in_the_day: string, max_transactions_of_the_same_merchant_in_the_day: string, avg_transactions_of_the_same_merchant_in_the_day: string, no_of_transactions_of_the_same_merchant_in_the_month: string, max_transactions_of_the_same_merchant_in_the_month: string, avg_transactions_of_the_same_merchant_in_the_month: string], ('ProdTypeTS_1', 'ip_data')",
          "name": "engine.logs:ReadCsvProjectSpace_1",
          "pathname": "/usr/local/lib/python3.7/dist-packages/razor/flow/async_executors.py",
          "process": 4081,
          "processName": "ForkProcess-1:2",
          "thread": 140164243511104,
          "threadName": "MainThread"
         },
         {
          "asctime": "2021-03-26 11:52:37,250",
          "created": 1616759557.2502093,
          "extra": {},
          "filename": "async_executors.py",
          "funcName": "fill_atomic_inputs",
          "levelname": "INFO",
          "lineno": 251,
          "message": "ProdTypeTS_1: waiting for atomic input: source",
          "name": "engine.logs:ProdTypeTS_1",
          "pathname": "/usr/local/lib/python3.7/dist-packages/razor/flow/async_executors.py",
          "process": 4081,
          "processName": "ForkProcess-1:2",
          "thread": 140164243511104,
          "threadName": "MainThread"
         },
         {
          "asctime": "2021-03-26 11:52:36,975",
          "created": 1616759556.9750752,
          "extra": {},
          "filename": "async_executors.py",
          "funcName": "main",
          "levelname": "DEBUG",
          "lineno": 130,
          "message": "CustStatic_1: triggering block run",
          "name": "engine.logs:CustStatic_1",
          "pathname": "/usr/local/lib/python3.7/dist-packages/razor/flow/async_executors.py",
          "process": 4081,
          "processName": "ForkProcess-1:2",
          "thread": 140164243511104,
          "threadName": "MainThread"
         },
         {
          "asctime": "2021-03-26 11:52:37,561",
          "created": 1616759557.5610487,
          "extra": {},
          "filename": "async_executors.py",
          "funcName": "fill_atomic_inputs",
          "levelname": "INFO",
          "lineno": 251,
          "message": "MercStatic_1: waiting for atomic input: config",
          "name": "engine.logs:MercStatic_1",
          "pathname": "/usr/local/lib/python3.7/dist-packages/razor/flow/async_executors.py",
          "process": 4081,
          "processName": "ForkProcess-1:2",
          "thread": 140164243511104,
          "threadName": "MainThread"
         },
         {
          "asctime": "2021-03-26 11:52:36,874",
          "created": 1616759556.8746881,
          "extra": {},
          "filename": "async_executors.py",
          "funcName": "start_output_sender",
          "levelname": "DEBUG",
          "lineno": 383,
          "message": "ReadCsvProjectSpace_1: SENT, ip_data, b'__!\\tEndOfStream\\t!__', ('ProdTypeTS_1', 'ip_data')",
          "name": "engine.logs:ReadCsvProjectSpace_1",
          "pathname": "/usr/local/lib/python3.7/dist-packages/razor/flow/async_executors.py",
          "process": 4081,
          "processName": "ForkProcess-1:2",
          "thread": 140164243511104,
          "threadName": "MainThread"
         },
         {
          "asctime": "2021-03-26 11:52:37,250",
          "created": 1616759557.2502818,
          "extra": {},
          "filename": "async_executors.py",
          "funcName": "fill_atomic_inputs",
          "levelname": "DEBUG",
          "lineno": 254,
          "message": "ProdTypeTS_1: got atomic input: ",
          "name": "engine.logs:ProdTypeTS_1",
          "pathname": "/usr/local/lib/python3.7/dist-packages/razor/flow/async_executors.py",
          "process": 4081,
          "processName": "ForkProcess-1:2",
          "thread": 140164243511104,
          "threadName": "MainThread"
         },
         {
          "asctime": "2021-03-26 11:52:37,852",
          "created": 1616759557.8525717,
          "extra": {},
          "filename": "async_executors.py",
          "funcName": "fill_atomic_inputs",
          "levelname": "DEBUG",
          "lineno": 254,
          "message": "TranCityTS_1: got atomic input: DataFrame[transaction_id: string, time: string, customer_name: string, card_number: string, card_type: string, physical_card_type: string, merchant_id: string, merchant_city: string, merchant_state: string, transaction_type: string, transaction_type_sub: string, amount: string, product_type: string, fraud_risk: string, One Time Heavy Loot Score: string, Drastic Transaction Change Pattern Score: string, Parasitic Fraud Score: string, Purchase Behavior Variation Score: string, Preferred Merchant Variation Score: string, Multiple Location Fraud Score: string, Fraudster Merchant Score: string, no_of_transactions_in_the_day: string, max_transaction_amount_in_the_day: string, avg_transaction_amount_in_the_day: string, no_of_transactions_in_the_month: string, max_transaction_amount_the_month: string, avg_transaction_amount_the_month: string, no_of_transactions_of_the_same_merchant_in_the_day: string, max_transactions_of_the_same_merchant_in_the_day: string, avg_transactions_of_the_same_merchant_in_the_day: string, no_of_transactions_of_the_same_merchant_in_the_month: string, max_transactions_of_the_same_merchant_in_the_month: string, avg_transactions_of_the_same_merchant_in_the_month: string]",
          "name": "engine.logs:TranCityTS_1",
          "pathname": "/usr/local/lib/python3.7/dist-packages/razor/flow/async_executors.py",
          "process": 4081,
          "processName": "ForkProcess-1:2",
          "thread": 140164243511104,
          "threadName": "MainThread"
         },
         {
          "asctime": "2021-03-26 11:52:36,976",
          "created": 1616759556.976136,
          "extra": {},
          "filename": "async_executors.py",
          "funcName": "main",
          "levelname": "DEBUG",
          "lineno": 136,
          "message": "CustStatic_1: waiting for block to finish",
          "name": "engine.logs:CustStatic_1",
          "pathname": "/usr/local/lib/python3.7/dist-packages/razor/flow/async_executors.py",
          "process": 4081,
          "processName": "ForkProcess-1:2",
          "thread": 140164243511104,
          "threadName": "MainThread"
         },
         {
          "asctime": "2021-03-26 11:52:37,561",
          "created": 1616759557.5611665,
          "extra": {},
          "filename": "async_executors.py",
          "funcName": "fill_atomic_inputs",
          "levelname": "DEBUG",
          "lineno": 254,
          "message": "MercStatic_1: got atomic input: {}",
          "name": "engine.logs:MercStatic_1",
          "pathname": "/usr/local/lib/python3.7/dist-packages/razor/flow/async_executors.py",
          "process": 4081,
          "processName": "ForkProcess-1:2",
          "thread": 140164243511104,
          "threadName": "MainThread"
         },
         {
          "asctime": "2021-03-26 11:52:37,852",
          "created": 1616759557.8527505,
          "extra": {},
          "filename": "async_executors.py",
          "funcName": "fill_atomic_inputs",
          "levelname": "INFO",
          "lineno": 251,
          "message": "TranCityTS_1: waiting for atomic input: config",
          "name": "engine.logs:TranCityTS_1",
          "pathname": "/usr/local/lib/python3.7/dist-packages/razor/flow/async_executors.py",
          "process": 4081,
          "processName": "ForkProcess-1:2",
          "thread": 140164243511104,
          "threadName": "MainThread"
         },
         {
          "asctime": "2021-03-26 11:52:37,250",
          "created": 1616759557.250374,
          "extra": {},
          "filename": "async_executors.py",
          "funcName": "main",
          "levelname": "DEBUG",
          "lineno": 130,
          "message": "ProdTypeTS_1: triggering block run",
          "name": "engine.logs:ProdTypeTS_1",
          "pathname": "/usr/local/lib/python3.7/dist-packages/razor/flow/async_executors.py",
          "process": 4081,
          "processName": "ForkProcess-1:2",
          "thread": 140164243511104,
          "threadName": "MainThread"
         },
         {
          "asctime": "2021-03-26 11:52:36,874",
          "created": 1616759556.8748803,
          "extra": {},
          "filename": "async_executors.py",
          "funcName": "start_output_sender",
          "levelname": "DEBUG",
          "lineno": 387,
          "message": "ReadCsvProjectSpace_1: completed output: ('data', ('ProdTypeTS_1', 'ip_data'))",
          "name": "engine.logs:ReadCsvProjectSpace_1",
          "pathname": "/usr/local/lib/python3.7/dist-packages/razor/flow/async_executors.py",
          "process": 4081,
          "processName": "ForkProcess-1:2",
          "thread": 140164243511104,
          "threadName": "MainThread"
         },
         {
          "asctime": "2021-03-26 11:52:37,561",
          "created": 1616759557.5612316,
          "extra": {},
          "filename": "async_executors.py",
          "funcName": "fill_atomic_inputs",
          "levelname": "INFO",
          "lineno": 251,
          "message": "MercStatic_1: waiting for atomic input: source",
          "name": "engine.logs:MercStatic_1",
          "pathname": "/usr/local/lib/python3.7/dist-packages/razor/flow/async_executors.py",
          "process": 4081,
          "processName": "ForkProcess-1:2",
          "thread": 140164243511104,
          "threadName": "MainThread"
         },
         {
          "asctime": "2021-03-26 11:52:36,875",
          "created": 1616759556.8751829,
          "extra": {},
          "filename": "async_executors.py",
          "funcName": "start_input_receiver",
          "levelname": "DEBUG",
          "lineno": 174,
          "message": "ReadCsvProjectSpace_1: received cmd: start_sender, (), {'out_name': 'data', 'target': ('MercStatic_1', 'ip_data'), 'out_addr': 'tcp://0.0.0.0:59000', 'in_memory': True}",
          "name": "engine.logs:ReadCsvProjectSpace_1",
          "pathname": "/usr/local/lib/python3.7/dist-packages/razor/flow/async_executors.py",
          "process": 4081,
          "processName": "ForkProcess-1:2",
          "thread": 140164243511104,
          "threadName": "MainThread"
         },
         {
          "asctime": "2021-03-26 11:52:37,251",
          "created": 1616759557.2514088,
          "extra": {},
          "filename": "async_executors.py",
          "funcName": "main",
          "levelname": "DEBUG",
          "lineno": 136,
          "message": "ProdTypeTS_1: waiting for block to finish",
          "name": "engine.logs:ProdTypeTS_1",
          "pathname": "/usr/local/lib/python3.7/dist-packages/razor/flow/async_executors.py",
          "process": 4081,
          "processName": "ForkProcess-1:2",
          "thread": 140164243511104,
          "threadName": "MainThread"
         },
         {
          "asctime": "2021-03-26 11:52:37,852",
          "created": 1616759557.852826,
          "extra": {},
          "filename": "async_executors.py",
          "funcName": "fill_atomic_inputs",
          "levelname": "DEBUG",
          "lineno": 254,
          "message": "TranCityTS_1: got atomic input: {}",
          "name": "engine.logs:TranCityTS_1",
          "pathname": "/usr/local/lib/python3.7/dist-packages/razor/flow/async_executors.py",
          "process": 4081,
          "processName": "ForkProcess-1:2",
          "thread": 140164243511104,
          "threadName": "MainThread"
         },
         {
          "asctime": "2021-03-26 11:52:38,055",
          "created": 1616759558.0554595,
          "extra": {},
          "filename": "async_executors.py",
          "funcName": "fill_atomic_inputs",
          "levelname": "DEBUG",
          "lineno": 254,
          "message": "TranTypeTS_1: got atomic input: DataFrame[transaction_id: string, time: string, customer_name: string, card_number: string, card_type: string, physical_card_type: string, merchant_id: string, merchant_city: string, merchant_state: string, transaction_type: string, transaction_type_sub: string, amount: string, product_type: string, fraud_risk: string, One Time Heavy Loot Score: string, Drastic Transaction Change Pattern Score: string, Parasitic Fraud Score: string, Purchase Behavior Variation Score: string, Preferred Merchant Variation Score: string, Multiple Location Fraud Score: string, Fraudster Merchant Score: string, no_of_transactions_in_the_day: string, max_transaction_amount_in_the_day: string, avg_transaction_amount_in_the_day: string, no_of_transactions_in_the_month: string, max_transaction_amount_the_month: string, avg_transaction_amount_the_month: string, no_of_transactions_of_the_same_merchant_in_the_day: string, max_transactions_of_the_same_merchant_in_the_day: string, avg_transactions_of_the_same_merchant_in_the_day: string, no_of_transactions_of_the_same_merchant_in_the_month: string, max_transactions_of_the_same_merchant_in_the_month: string, avg_transactions_of_the_same_merchant_in_the_month: string]",
          "name": "engine.logs:TranTypeTS_1",
          "pathname": "/usr/local/lib/python3.7/dist-packages/razor/flow/async_executors.py",
          "process": 4081,
          "processName": "ForkProcess-1:2",
          "thread": 140164243511104,
          "threadName": "MainThread"
         },
         {
          "asctime": "2021-03-26 11:52:37,561",
          "created": 1616759557.5613043,
          "extra": {},
          "filename": "async_executors.py",
          "funcName": "fill_atomic_inputs",
          "levelname": "DEBUG",
          "lineno": 254,
          "message": "MercStatic_1: got atomic input: ",
          "name": "engine.logs:MercStatic_1",
          "pathname": "/usr/local/lib/python3.7/dist-packages/razor/flow/async_executors.py",
          "process": 4081,
          "processName": "ForkProcess-1:2",
          "thread": 140164243511104,
          "threadName": "MainThread"
         },
         {
          "asctime": "2021-03-26 11:52:37,852",
          "created": 1616759557.8528683,
          "extra": {},
          "filename": "async_executors.py",
          "funcName": "fill_atomic_inputs",
          "levelname": "INFO",
          "lineno": 251,
          "message": "TranCityTS_1: waiting for atomic input: source",
          "name": "engine.logs:TranCityTS_1",
          "pathname": "/usr/local/lib/python3.7/dist-packages/razor/flow/async_executors.py",
          "process": 4081,
          "processName": "ForkProcess-1:2",
          "thread": 140164243511104,
          "threadName": "MainThread"
         },
         {
          "asctime": "2021-03-26 11:52:38,055",
          "created": 1616759558.055656,
          "extra": {},
          "filename": "async_executors.py",
          "funcName": "fill_atomic_inputs",
          "levelname": "INFO",
          "lineno": 251,
          "message": "TranTypeTS_1: waiting for atomic input: config",
          "name": "engine.logs:TranTypeTS_1",
          "pathname": "/usr/local/lib/python3.7/dist-packages/razor/flow/async_executors.py",
          "process": 4081,
          "processName": "ForkProcess-1:2",
          "thread": 140164243511104,
          "threadName": "MainThread"
         },
         {
          "asctime": "2021-03-26 11:52:37,561",
          "created": 1616759557.5613892,
          "extra": {},
          "filename": "async_executors.py",
          "funcName": "main",
          "levelname": "DEBUG",
          "lineno": 130,
          "message": "MercStatic_1: triggering block run",
          "name": "engine.logs:MercStatic_1",
          "pathname": "/usr/local/lib/python3.7/dist-packages/razor/flow/async_executors.py",
          "process": 4081,
          "processName": "ForkProcess-1:2",
          "thread": 140164243511104,
          "threadName": "MainThread"
         },
         {
          "asctime": "2021-03-26 11:52:37,052",
          "created": 1616759557.0522285,
          "extra": {},
          "filename": "async_executors.py",
          "funcName": "start_output_sender",
          "levelname": "DEBUG",
          "lineno": 378,
          "message": "ReadCsvProjectSpace_1: got start_sender, data, ('MercStatic_1', 'ip_data')",
          "name": "engine.logs:ReadCsvProjectSpace_1",
          "pathname": "/usr/local/lib/python3.7/dist-packages/razor/flow/async_executors.py",
          "process": 4081,
          "processName": "ForkProcess-1:2",
          "thread": 140164243511104,
          "threadName": "MainThread"
         },
         {
          "asctime": "2021-03-26 11:52:37,852",
          "created": 1616759557.8529139,
          "extra": {},
          "filename": "async_executors.py",
          "funcName": "fill_atomic_inputs",
          "levelname": "DEBUG",
          "lineno": 254,
          "message": "TranCityTS_1: got atomic input: ",
          "name": "engine.logs:TranCityTS_1",
          "pathname": "/usr/local/lib/python3.7/dist-packages/razor/flow/async_executors.py",
          "process": 4081,
          "processName": "ForkProcess-1:2",
          "thread": 140164243511104,
          "threadName": "MainThread"
         },
         {
          "asctime": "2021-03-26 11:52:38,055",
          "created": 1616759558.0557313,
          "extra": {},
          "filename": "async_executors.py",
          "funcName": "fill_atomic_inputs",
          "levelname": "DEBUG",
          "lineno": 254,
          "message": "TranTypeTS_1: got atomic input: {}",
          "name": "engine.logs:TranTypeTS_1",
          "pathname": "/usr/local/lib/python3.7/dist-packages/razor/flow/async_executors.py",
          "process": 4081,
          "processName": "ForkProcess-1:2",
          "thread": 140164243511104,
          "threadName": "MainThread"
         },
         {
          "asctime": "2021-03-26 11:52:37,562",
          "created": 1616759557.5627205,
          "extra": {},
          "filename": "async_executors.py",
          "funcName": "main",
          "levelname": "DEBUG",
          "lineno": 136,
          "message": "MercStatic_1: waiting for block to finish",
          "name": "engine.logs:MercStatic_1",
          "pathname": "/usr/local/lib/python3.7/dist-packages/razor/flow/async_executors.py",
          "process": 4081,
          "processName": "ForkProcess-1:2",
          "thread": 140164243511104,
          "threadName": "MainThread"
         },
         {
          "asctime": "2021-03-26 11:52:37,053",
          "created": 1616759557.0533888,
          "extra": {},
          "filename": "async_executors.py",
          "funcName": "start_output_sender",
          "levelname": "DEBUG",
          "lineno": 383,
          "message": "ReadCsvProjectSpace_1: SENT, ip_data, DataFrame[transaction_id: string, time: string, customer_name: string, card_number: string, card_type: string, physical_card_type: string, merchant_id: string, merchant_city: string, merchant_state: string, transaction_type: string, transaction_type_sub: string, amount: string, product_type: string, fraud_risk: string, One Time Heavy Loot Score: string, Drastic Transaction Change Pattern Score: string, Parasitic Fraud Score: string, Purchase Behavior Variation Score: string, Preferred Merchant Variation Score: string, Multiple Location Fraud Score: string, Fraudster Merchant Score: string, no_of_transactions_in_the_day: string, max_transaction_amount_in_the_day: string, avg_transaction_amount_in_the_day: string, no_of_transactions_in_the_month: string, max_transaction_amount_the_month: string, avg_transaction_amount_the_month: string, no_of_transactions_of_the_same_merchant_in_the_day: string, max_transactions_of_the_same_merchant_in_the_day: string, avg_transactions_of_the_same_merchant_in_the_day: string, no_of_transactions_of_the_same_merchant_in_the_month: string, max_transactions_of_the_same_merchant_in_the_month: string, avg_transactions_of_the_same_merchant_in_the_month: string], ('MercStatic_1', 'ip_data')",
          "name": "engine.logs:ReadCsvProjectSpace_1",
          "pathname": "/usr/local/lib/python3.7/dist-packages/razor/flow/async_executors.py",
          "process": 4081,
          "processName": "ForkProcess-1:2",
          "thread": 140164243511104,
          "threadName": "MainThread"
         },
         {
          "asctime": "2021-03-26 11:52:38,055",
          "created": 1616759558.055772,
          "extra": {},
          "filename": "async_executors.py",
          "funcName": "fill_atomic_inputs",
          "levelname": "INFO",
          "lineno": 251,
          "message": "TranTypeTS_1: waiting for atomic input: source",
          "name": "engine.logs:TranTypeTS_1",
          "pathname": "/usr/local/lib/python3.7/dist-packages/razor/flow/async_executors.py",
          "process": 4081,
          "processName": "ForkProcess-1:2",
          "thread": 140164243511104,
          "threadName": "MainThread"
         },
         {
          "asctime": "2021-03-26 11:52:37,853",
          "created": 1616759557.8530326,
          "extra": {},
          "filename": "async_executors.py",
          "funcName": "main",
          "levelname": "DEBUG",
          "lineno": 130,
          "message": "TranCityTS_1: triggering block run",
          "name": "engine.logs:TranCityTS_1",
          "pathname": "/usr/local/lib/python3.7/dist-packages/razor/flow/async_executors.py",
          "process": 4081,
          "processName": "ForkProcess-1:2",
          "thread": 140164243511104,
          "threadName": "MainThread"
         },
         {
          "asctime": "2021-03-26 11:52:37,053",
          "created": 1616759557.0535767,
          "extra": {},
          "filename": "async_executors.py",
          "funcName": "start_output_sender",
          "levelname": "DEBUG",
          "lineno": 383,
          "message": "ReadCsvProjectSpace_1: SENT, ip_data, b'__!\\tEndOfStream\\t!__', ('MercStatic_1', 'ip_data')",
          "name": "engine.logs:ReadCsvProjectSpace_1",
          "pathname": "/usr/local/lib/python3.7/dist-packages/razor/flow/async_executors.py",
          "process": 4081,
          "processName": "ForkProcess-1:2",
          "thread": 140164243511104,
          "threadName": "MainThread"
         },
         {
          "asctime": "2021-03-26 11:52:37,853",
          "created": 1616759557.853995,
          "extra": {},
          "filename": "async_executors.py",
          "funcName": "main",
          "levelname": "DEBUG",
          "lineno": 136,
          "message": "TranCityTS_1: waiting for block to finish",
          "name": "engine.logs:TranCityTS_1",
          "pathname": "/usr/local/lib/python3.7/dist-packages/razor/flow/async_executors.py",
          "process": 4081,
          "processName": "ForkProcess-1:2",
          "thread": 140164243511104,
          "threadName": "MainThread"
         },
         {
          "asctime": "2021-03-26 11:52:38,055",
          "created": 1616759558.055815,
          "extra": {},
          "filename": "async_executors.py",
          "funcName": "fill_atomic_inputs",
          "levelname": "DEBUG",
          "lineno": 254,
          "message": "TranTypeTS_1: got atomic input: ",
          "name": "engine.logs:TranTypeTS_1",
          "pathname": "/usr/local/lib/python3.7/dist-packages/razor/flow/async_executors.py",
          "process": 4081,
          "processName": "ForkProcess-1:2",
          "thread": 140164243511104,
          "threadName": "MainThread"
         },
         {
          "asctime": "2021-03-26 11:52:37,053",
          "created": 1616759557.0536435,
          "extra": {},
          "filename": "async_executors.py",
          "funcName": "start_output_sender",
          "levelname": "DEBUG",
          "lineno": 387,
          "message": "ReadCsvProjectSpace_1: completed output: ('data', ('MercStatic_1', 'ip_data'))",
          "name": "engine.logs:ReadCsvProjectSpace_1",
          "pathname": "/usr/local/lib/python3.7/dist-packages/razor/flow/async_executors.py",
          "process": 4081,
          "processName": "ForkProcess-1:2",
          "thread": 140164243511104,
          "threadName": "MainThread"
         },
         {
          "asctime": "2021-03-26 11:52:38,055",
          "created": 1616759558.0558827,
          "extra": {},
          "filename": "async_executors.py",
          "funcName": "main",
          "levelname": "DEBUG",
          "lineno": 130,
          "message": "TranTypeTS_1: triggering block run",
          "name": "engine.logs:TranTypeTS_1",
          "pathname": "/usr/local/lib/python3.7/dist-packages/razor/flow/async_executors.py",
          "process": 4081,
          "processName": "ForkProcess-1:2",
          "thread": 140164243511104,
          "threadName": "MainThread"
         },
         {
          "asctime": "2021-03-26 11:52:38,057",
          "created": 1616759558.0578752,
          "extra": {},
          "filename": "async_executors.py",
          "funcName": "main",
          "levelname": "DEBUG",
          "lineno": 136,
          "message": "TranTypeTS_1: waiting for block to finish",
          "name": "engine.logs:TranTypeTS_1",
          "pathname": "/usr/local/lib/python3.7/dist-packages/razor/flow/async_executors.py",
          "process": 4081,
          "processName": "ForkProcess-1:2",
          "thread": 140164243511104,
          "threadName": "MainThread"
         },
         {
          "asctime": "2021-03-26 11:52:37,053",
          "created": 1616759557.0537403,
          "extra": {},
          "filename": "async_executors.py",
          "funcName": "start_input_receiver",
          "levelname": "DEBUG",
          "lineno": 174,
          "message": "ReadCsvProjectSpace_1: received cmd: start_sender, (), {'out_name': 'data', 'target': ('TranCityTS_1', 'ip_data'), 'out_addr': 'tcp://0.0.0.0:61562', 'in_memory': True}",
          "name": "engine.logs:ReadCsvProjectSpace_1",
          "pathname": "/usr/local/lib/python3.7/dist-packages/razor/flow/async_executors.py",
          "process": 4081,
          "processName": "ForkProcess-1:2",
          "thread": 140164243511104,
          "threadName": "MainThread"
         },
         {
          "asctime": "2021-03-26 11:52:37,348",
          "created": 1616759557.348347,
          "extra": {},
          "filename": "async_executors.py",
          "funcName": "start_output_sender",
          "levelname": "DEBUG",
          "lineno": 378,
          "message": "ReadCsvProjectSpace_1: got start_sender, data, ('TranCityTS_1', 'ip_data')",
          "name": "engine.logs:ReadCsvProjectSpace_1",
          "pathname": "/usr/local/lib/python3.7/dist-packages/razor/flow/async_executors.py",
          "process": 4081,
          "processName": "ForkProcess-1:2",
          "thread": 140164243511104,
          "threadName": "MainThread"
         },
         {
          "asctime": "2021-03-26 11:52:37,364",
          "created": 1616759557.364026,
          "extra": {},
          "filename": "async_executors.py",
          "funcName": "start_output_sender",
          "levelname": "DEBUG",
          "lineno": 383,
          "message": "ReadCsvProjectSpace_1: SENT, ip_data, DataFrame[transaction_id: string, time: string, customer_name: string, card_number: string, card_type: string, physical_card_type: string, merchant_id: string, merchant_city: string, merchant_state: string, transaction_type: string, transaction_type_sub: string, amount: string, product_type: string, fraud_risk: string, One Time Heavy Loot Score: string, Drastic Transaction Change Pattern Score: string, Parasitic Fraud Score: string, Purchase Behavior Variation Score: string, Preferred Merchant Variation Score: string, Multiple Location Fraud Score: string, Fraudster Merchant Score: string, no_of_transactions_in_the_day: string, max_transaction_amount_in_the_day: string, avg_transaction_amount_in_the_day: string, no_of_transactions_in_the_month: string, max_transaction_amount_the_month: string, avg_transaction_amount_the_month: string, no_of_transactions_of_the_same_merchant_in_the_day: string, max_transactions_of_the_same_merchant_in_the_day: string, avg_transactions_of_the_same_merchant_in_the_day: string, no_of_transactions_of_the_same_merchant_in_the_month: string, max_transactions_of_the_same_merchant_in_the_month: string, avg_transactions_of_the_same_merchant_in_the_month: string], ('TranCityTS_1', 'ip_data')",
          "name": "engine.logs:ReadCsvProjectSpace_1",
          "pathname": "/usr/local/lib/python3.7/dist-packages/razor/flow/async_executors.py",
          "process": 4081,
          "processName": "ForkProcess-1:2",
          "thread": 140164243511104,
          "threadName": "MainThread"
         },
         {
          "asctime": "2021-03-26 11:52:37,364",
          "created": 1616759557.3643646,
          "extra": {},
          "filename": "async_executors.py",
          "funcName": "start_output_sender",
          "levelname": "DEBUG",
          "lineno": 383,
          "message": "ReadCsvProjectSpace_1: SENT, ip_data, b'__!\\tEndOfStream\\t!__', ('TranCityTS_1', 'ip_data')",
          "name": "engine.logs:ReadCsvProjectSpace_1",
          "pathname": "/usr/local/lib/python3.7/dist-packages/razor/flow/async_executors.py",
          "process": 4081,
          "processName": "ForkProcess-1:2",
          "thread": 140164243511104,
          "threadName": "MainThread"
         },
         {
          "asctime": "2021-03-26 11:52:37,364",
          "created": 1616759557.3644874,
          "extra": {},
          "filename": "async_executors.py",
          "funcName": "start_output_sender",
          "levelname": "DEBUG",
          "lineno": 387,
          "message": "ReadCsvProjectSpace_1: completed output: ('data', ('TranCityTS_1', 'ip_data'))",
          "name": "engine.logs:ReadCsvProjectSpace_1",
          "pathname": "/usr/local/lib/python3.7/dist-packages/razor/flow/async_executors.py",
          "process": 4081,
          "processName": "ForkProcess-1:2",
          "thread": 140164243511104,
          "threadName": "MainThread"
         },
         {
          "asctime": "2021-03-26 11:52:37,364",
          "created": 1616759557.3647082,
          "extra": {},
          "filename": "async_executors.py",
          "funcName": "start_input_receiver",
          "levelname": "DEBUG",
          "lineno": 174,
          "message": "ReadCsvProjectSpace_1: received cmd: start_sender, (), {'out_name': 'data', 'target': ('TranTypeTS_1', 'ip_data'), 'out_addr': 'tcp://0.0.0.0:58400', 'in_memory': True}",
          "name": "engine.logs:ReadCsvProjectSpace_1",
          "pathname": "/usr/local/lib/python3.7/dist-packages/razor/flow/async_executors.py",
          "process": 4081,
          "processName": "ForkProcess-1:2",
          "thread": 140164243511104,
          "threadName": "MainThread"
         },
         {
          "asctime": "2021-03-26 11:52:37,649",
          "created": 1616759557.6494734,
          "extra": {},
          "filename": "async_executors.py",
          "funcName": "start_output_sender",
          "levelname": "DEBUG",
          "lineno": 378,
          "message": "ReadCsvProjectSpace_1: got start_sender, data, ('TranTypeTS_1', 'ip_data')",
          "name": "engine.logs:ReadCsvProjectSpace_1",
          "pathname": "/usr/local/lib/python3.7/dist-packages/razor/flow/async_executors.py",
          "process": 4081,
          "processName": "ForkProcess-1:2",
          "thread": 140164243511104,
          "threadName": "MainThread"
         },
         {
          "asctime": "2021-03-26 11:52:37,651",
          "created": 1616759557.6510792,
          "extra": {},
          "filename": "async_executors.py",
          "funcName": "start_output_sender",
          "levelname": "DEBUG",
          "lineno": 383,
          "message": "ReadCsvProjectSpace_1: SENT, ip_data, DataFrame[transaction_id: string, time: string, customer_name: string, card_number: string, card_type: string, physical_card_type: string, merchant_id: string, merchant_city: string, merchant_state: string, transaction_type: string, transaction_type_sub: string, amount: string, product_type: string, fraud_risk: string, One Time Heavy Loot Score: string, Drastic Transaction Change Pattern Score: string, Parasitic Fraud Score: string, Purchase Behavior Variation Score: string, Preferred Merchant Variation Score: string, Multiple Location Fraud Score: string, Fraudster Merchant Score: string, no_of_transactions_in_the_day: string, max_transaction_amount_in_the_day: string, avg_transaction_amount_in_the_day: string, no_of_transactions_in_the_month: string, max_transaction_amount_the_month: string, avg_transaction_amount_the_month: string, no_of_transactions_of_the_same_merchant_in_the_day: string, max_transactions_of_the_same_merchant_in_the_day: string, avg_transactions_of_the_same_merchant_in_the_day: string, no_of_transactions_of_the_same_merchant_in_the_month: string, max_transactions_of_the_same_merchant_in_the_month: string, avg_transactions_of_the_same_merchant_in_the_month: string], ('TranTypeTS_1', 'ip_data')",
          "name": "engine.logs:ReadCsvProjectSpace_1",
          "pathname": "/usr/local/lib/python3.7/dist-packages/razor/flow/async_executors.py",
          "process": 4081,
          "processName": "ForkProcess-1:2",
          "thread": 140164243511104,
          "threadName": "MainThread"
         },
         {
          "asctime": "2021-03-26 11:52:37,651",
          "created": 1616759557.651255,
          "extra": {},
          "filename": "async_executors.py",
          "funcName": "start_output_sender",
          "levelname": "DEBUG",
          "lineno": 383,
          "message": "ReadCsvProjectSpace_1: SENT, ip_data, b'__!\\tEndOfStream\\t!__', ('TranTypeTS_1', 'ip_data')",
          "name": "engine.logs:ReadCsvProjectSpace_1",
          "pathname": "/usr/local/lib/python3.7/dist-packages/razor/flow/async_executors.py",
          "process": 4081,
          "processName": "ForkProcess-1:2",
          "thread": 140164243511104,
          "threadName": "MainThread"
         },
         {
          "asctime": "2021-03-26 11:52:37,651",
          "created": 1616759557.6513083,
          "extra": {},
          "filename": "async_executors.py",
          "funcName": "start_output_sender",
          "levelname": "DEBUG",
          "lineno": 387,
          "message": "ReadCsvProjectSpace_1: completed output: ('data', ('TranTypeTS_1', 'ip_data'))",
          "name": "engine.logs:ReadCsvProjectSpace_1",
          "pathname": "/usr/local/lib/python3.7/dist-packages/razor/flow/async_executors.py",
          "process": 4081,
          "processName": "ForkProcess-1:2",
          "thread": 140164243511104,
          "threadName": "MainThread"
         },
         {
          "asctime": "2021-03-26 11:52:40,248",
          "created": 1616759560.2486827,
          "extra": {},
          "filename": "async_executors.py",
          "funcName": "start_input_receiver",
          "levelname": "DEBUG",
          "lineno": 174,
          "message": "ReadCsvProjectSpace_1: received cmd: terminate, (), {}",
          "name": "engine.logs:ReadCsvProjectSpace_1",
          "pathname": "/usr/local/lib/python3.7/dist-packages/razor/flow/async_executors.py",
          "process": 4081,
          "processName": "ForkProcess-1:2",
          "thread": 140164243511104,
          "threadName": "MainThread"
         },
         {
          "asctime": "2021-03-26 11:52:41,653",
          "created": 1616759561.6538603,
          "extra": {},
          "filename": "async_executors.py",
          "funcName": "distribute_output_queue",
          "levelname": "DEBUG",
          "lineno": 315,
          "message": "CustStatic_1: ---- dist output: DataFrame[customer_name: string, card_number: string, card_type: string] -> ('SparkConcat_1', 'df2')",
          "name": "engine.logs:CustStatic_1",
          "pathname": "/usr/local/lib/python3.7/dist-packages/razor/flow/async_executors.py",
          "process": 4081,
          "processName": "ForkProcess-1:2",
          "thread": 140164243511104,
          "threadName": "MainThread"
         },
         {
          "asctime": "2021-03-26 11:52:41,676",
          "created": 1616759561.6765072,
          "extra": {},
          "filename": "async_executors.py",
          "funcName": "main",
          "levelname": "DEBUG",
          "lineno": 147,
          "message": "CustStatic_1: block thread completed",
          "name": "engine.logs:CustStatic_1",
          "pathname": "/usr/local/lib/python3.7/dist-packages/razor/flow/async_executors.py",
          "process": 4081,
          "processName": "ForkProcess-1:2",
          "thread": 140164243511104,
          "threadName": "MainThread"
         },
         {
          "asctime": "2021-03-26 11:52:41,676",
          "created": 1616759561.6766555,
          "extra": {},
          "filename": "async_executors.py",
          "funcName": "main",
          "levelname": "DEBUG",
          "lineno": 149,
          "message": "CustStatic_1: block execution complete",
          "name": "engine.logs:CustStatic_1",
          "pathname": "/usr/local/lib/python3.7/dist-packages/razor/flow/async_executors.py",
          "process": 4081,
          "processName": "ForkProcess-1:2",
          "thread": 140164243511104,
          "threadName": "MainThread"
         },
         {
          "asctime": "2021-03-26 11:52:41,948",
          "created": 1616759561.9488263,
          "extra": {},
          "filename": "async_executors.py",
          "funcName": "distribute_output_queue",
          "levelname": "DEBUG",
          "lineno": 315,
          "message": "CustStatic_1: ---- dist output: b'__!\\tEndOfStream\\t!__' -> ('SparkConcat_1', 'df2')",
          "name": "engine.logs:CustStatic_1",
          "pathname": "/usr/local/lib/python3.7/dist-packages/razor/flow/async_executors.py",
          "process": 4081,
          "processName": "ForkProcess-1:2",
          "thread": 140164243511104,
          "threadName": "MainThread"
         },
         {
          "asctime": "2021-03-26 11:52:42,449",
          "created": 1616759562.4496255,
          "extra": {},
          "filename": "async_executors.py",
          "funcName": "start_input_receiver",
          "levelname": "DEBUG",
          "lineno": 174,
          "message": "CustStatic_1: received cmd: start_sender, (), {'out_name': 'customer_static', 'target': ('SparkConcat_1', 'df2'), 'out_addr': 'tcp://0.0.0.0:64059', 'in_memory': True}",
          "name": "engine.logs:CustStatic_1",
          "pathname": "/usr/local/lib/python3.7/dist-packages/razor/flow/async_executors.py",
          "process": 4081,
          "processName": "ForkProcess-1:2",
          "thread": 140164243511104,
          "threadName": "MainThread"
         },
         {
          "asctime": "2021-03-26 11:52:42,670",
          "created": 1616759562.6704938,
          "extra": {},
          "filename": "async_executors.py",
          "funcName": "start_output_sender",
          "levelname": "DEBUG",
          "lineno": 378,
          "message": "CustStatic_1: got start_sender, customer_static, ('SparkConcat_1', 'df2')",
          "name": "engine.logs:CustStatic_1",
          "pathname": "/usr/local/lib/python3.7/dist-packages/razor/flow/async_executors.py",
          "process": 4081,
          "processName": "ForkProcess-1:2",
          "thread": 140164243511104,
          "threadName": "MainThread"
         },
         {
          "asctime": "2021-03-26 11:52:42,671",
          "created": 1616759562.6713934,
          "extra": {},
          "filename": "async_executors.py",
          "funcName": "start_output_sender",
          "levelname": "DEBUG",
          "lineno": 383,
          "message": "CustStatic_1: SENT, df2, DataFrame[customer_name: string, card_number: string, card_type: string], ('SparkConcat_1', 'df2')",
          "name": "engine.logs:CustStatic_1",
          "pathname": "/usr/local/lib/python3.7/dist-packages/razor/flow/async_executors.py",
          "process": 4081,
          "processName": "ForkProcess-1:2",
          "thread": 140164243511104,
          "threadName": "MainThread"
         },
         {
          "asctime": "2021-03-26 11:52:42,671",
          "created": 1616759562.6716044,
          "extra": {},
          "filename": "async_executors.py",
          "funcName": "start_output_sender",
          "levelname": "DEBUG",
          "lineno": 383,
          "message": "CustStatic_1: SENT, df2, b'__!\\tEndOfStream\\t!__', ('SparkConcat_1', 'df2')",
          "name": "engine.logs:CustStatic_1",
          "pathname": "/usr/local/lib/python3.7/dist-packages/razor/flow/async_executors.py",
          "process": 4081,
          "processName": "ForkProcess-1:2",
          "thread": 140164243511104,
          "threadName": "MainThread"
         },
         {
          "asctime": "2021-03-26 11:52:42,671",
          "created": 1616759562.6716635,
          "extra": {},
          "filename": "async_executors.py",
          "funcName": "start_output_sender",
          "levelname": "DEBUG",
          "lineno": 387,
          "message": "CustStatic_1: completed output: ('customer_static', ('SparkConcat_1', 'df2'))",
          "name": "engine.logs:CustStatic_1",
          "pathname": "/usr/local/lib/python3.7/dist-packages/razor/flow/async_executors.py",
          "process": 4081,
          "processName": "ForkProcess-1:2",
          "thread": 140164243511104,
          "threadName": "MainThread"
         },
         {
          "asctime": "2021-03-26 11:52:43,560",
          "created": 1616759563.5602038,
          "extra": {},
          "filename": "async_executors.py",
          "funcName": "start_input_receiver",
          "levelname": "DEBUG",
          "lineno": 174,
          "message": "CustStatic_1: received cmd: terminate, (), {}",
          "name": "engine.logs:CustStatic_1",
          "pathname": "/usr/local/lib/python3.7/dist-packages/razor/flow/async_executors.py",
          "process": 4081,
          "processName": "ForkProcess-1:2",
          "thread": 140164243511104,
          "threadName": "MainThread"
         },
         {
          "asctime": "2021-03-26 11:52:44,649",
          "created": 1616759564.6493235,
          "extra": {},
          "filename": "async_executors.py",
          "funcName": "main",
          "levelname": "DEBUG",
          "lineno": 147,
          "message": "TranCityTS_1: block thread completed",
          "name": "engine.logs:TranCityTS_1",
          "pathname": "/usr/local/lib/python3.7/dist-packages/razor/flow/async_executors.py",
          "process": 4081,
          "processName": "ForkProcess-1:2",
          "thread": 140164243511104,
          "threadName": "MainThread"
         },
         {
          "asctime": "2021-03-26 11:52:44,649",
          "created": 1616759564.6497796,
          "extra": {},
          "filename": "async_executors.py",
          "funcName": "main",
          "levelname": "DEBUG",
          "lineno": 149,
          "message": "TranCityTS_1: block execution complete",
          "name": "engine.logs:TranCityTS_1",
          "pathname": "/usr/local/lib/python3.7/dist-packages/razor/flow/async_executors.py",
          "process": 4081,
          "processName": "ForkProcess-1:2",
          "thread": 140164243511104,
          "threadName": "MainThread"
         },
         {
          "asctime": "2021-03-26 11:52:45,549",
          "created": 1616759565.549963,
          "extra": {},
          "filename": "async_executors.py",
          "funcName": "start_input_receiver",
          "levelname": "DEBUG",
          "lineno": 174,
          "message": "TranCityTS_1: received cmd: terminate, (), {}",
          "name": "engine.logs:TranCityTS_1",
          "pathname": "/usr/local/lib/python3.7/dist-packages/razor/flow/async_executors.py",
          "process": 4081,
          "processName": "ForkProcess-1:2",
          "thread": 140164243511104,
          "threadName": "MainThread"
         },
         {
          "asctime": "2021-03-26 11:53:01,050",
          "created": 1616759581.050317,
          "extra": {},
          "filename": "async_executors.py",
          "funcName": "main",
          "levelname": "DEBUG",
          "lineno": 147,
          "message": "ProdTypeTS_1: block thread completed",
          "name": "engine.logs:ProdTypeTS_1",
          "pathname": "/usr/local/lib/python3.7/dist-packages/razor/flow/async_executors.py",
          "process": 4081,
          "processName": "ForkProcess-1:2",
          "thread": 140164243511104,
          "threadName": "MainThread"
         },
         {
          "asctime": "2021-03-26 11:53:01,050",
          "created": 1616759581.0504768,
          "extra": {},
          "filename": "async_executors.py",
          "funcName": "main",
          "levelname": "DEBUG",
          "lineno": 149,
          "message": "ProdTypeTS_1: block execution complete",
          "name": "engine.logs:ProdTypeTS_1",
          "pathname": "/usr/local/lib/python3.7/dist-packages/razor/flow/async_executors.py",
          "process": 4081,
          "processName": "ForkProcess-1:2",
          "thread": 140164243511104,
          "threadName": "MainThread"
         },
         {
          "asctime": "2021-03-26 11:53:01,067",
          "created": 1616759581.0674033,
          "extra": {},
          "filename": "async_executors.py",
          "funcName": "start_input_receiver",
          "levelname": "DEBUG",
          "lineno": 174,
          "message": "ProdTypeTS_1: received cmd: terminate, (), {}",
          "name": "engine.logs:ProdTypeTS_1",
          "pathname": "/usr/local/lib/python3.7/dist-packages/razor/flow/async_executors.py",
          "process": 4081,
          "processName": "ForkProcess-1:2",
          "thread": 140164243511104,
          "threadName": "MainThread"
         },
         {
          "asctime": "2021-03-26 11:53:11,650",
          "created": 1616759591.6508892,
          "extra": {},
          "filename": "streams.py",
          "funcName": "flush",
          "levelname": "INFO",
          "lineno": 30,
          "message": "",
          "name": "block.stdout:TranTypeTS_1",
          "pathname": "/usr/local/lib/python3.7/dist-packages/razor/flow/streams.py",
          "process": 4081,
          "processName": "ForkProcess-1:2",
          "thread": 140161039963904,
          "threadName": "ThreadPoolExecutor-0_4"
         },
         {
          "asctime": "2021-03-26 11:53:11,651",
          "created": 1616759591.6511555,
          "extra": {},
          "filename": "streams.py",
          "funcName": "flush",
          "levelname": "Level 1",
          "lineno": 30,
          "message": "",
          "name": "block.stderr:TranTypeTS_1",
          "pathname": "/usr/local/lib/python3.7/dist-packages/razor/flow/streams.py",
          "process": 4081,
          "processName": "ForkProcess-1:2",
          "thread": 140161039963904,
          "threadName": "ThreadPoolExecutor-0_4"
         },
         {
          "asctime": "2021-03-26 11:53:11,671",
          "created": 1616759591.6711597,
          "extra": {},
          "filename": "async_executors.py",
          "funcName": "main",
          "levelname": "DEBUG",
          "lineno": 147,
          "message": "TranTypeTS_1: block thread completed",
          "name": "engine.logs:TranTypeTS_1",
          "pathname": "/usr/local/lib/python3.7/dist-packages/razor/flow/async_executors.py",
          "process": 4081,
          "processName": "ForkProcess-1:2",
          "thread": 140164243511104,
          "threadName": "MainThread"
         },
         {
          "asctime": "2021-03-26 11:53:11,671",
          "created": 1616759591.6713834,
          "extra": {},
          "filename": "async_executors.py",
          "funcName": "main",
          "levelname": "DEBUG",
          "lineno": 149,
          "message": "TranTypeTS_1: block execution complete",
          "name": "engine.logs:TranTypeTS_1",
          "pathname": "/usr/local/lib/python3.7/dist-packages/razor/flow/async_executors.py",
          "process": 4081,
          "processName": "ForkProcess-1:2",
          "thread": 140164243511104,
          "threadName": "MainThread"
         },
         {
          "asctime": "2021-03-26 11:53:11,766",
          "created": 1616759591.7669103,
          "extra": {},
          "filename": "async_executors.py",
          "funcName": "start_input_receiver",
          "levelname": "DEBUG",
          "lineno": 174,
          "message": "TranTypeTS_1: received cmd: terminate, (), {}",
          "name": "engine.logs:TranTypeTS_1",
          "pathname": "/usr/local/lib/python3.7/dist-packages/razor/flow/async_executors.py",
          "process": 4081,
          "processName": "ForkProcess-1:2",
          "thread": 140164243511104,
          "threadName": "MainThread"
         },
         {
          "asctime": "2021-03-26 11:53:12,292",
          "created": 1616759592.292511,
          "extra": {},
          "filename": "streams.py",
          "funcName": "flush",
          "levelname": "INFO",
          "lineno": 30,
          "message": "+-----------+--------------+--------------+--------------------+\n|merchant_id| merchant_city|merchant_state|     list_of_product|\n+-----------+--------------+--------------+--------------------+\n|    1000758|       Hampton|      Kentucky|         [Groceries]|\n|    1000711|        Galion|          Ohio|         [Groceries]|\n|    1000950|   Charlestown|  Rhode Island|           [PetCare]|\n|    1000860|            WJ|          Utah|         [Groceries]|\n|    1000624|Pass Christian|   Mississippi|[Groceries, Furni...|\n|    1001178|   Charlestown|  Rhode Island|[Groceries, PetCare]|\n|    1001001| College Grove|     Tennessee|           [PetCare]|\n|    1000677|       Kenmare|  North Dakota|[Groceries, Texti...|\n|    1000729|      Danville|       Georgia|[Cinema, Shows an...|\n|    1001096|     Pentwater|      Michigan|         [Groceries]|\n|    1001096|     Pentwater|      Michigan|         [Groceries]|\n|    1000853|        Jayton|         Texas|[Water, Electrici...|\n|    1001148|       Newport|      Nebraska|         [Groceries]|\n|    1001039|      Hamilton|North Carolina|[Cinema, Shows an...|\n|    1000911|        Dacoma|      Oklahoma|[Cinema, Shows an...|\n|    1000922|        Auburn| Massachusetts|         [Groceries]|\n|    1000883|    Pascagoula|   Mississippi|           [PetCare]|\n|    1000726|        Dacoma|      Oklahoma|           [PetCare]|\n|    1000842|    Flintville|     Tennessee|           [PetCare]|\n|    1000745|    Fall Creek|     Wisconsin|[Groceries, Water...|\n+-----------+--------------+--------------+--------------------+\nonly showing top 20 rows\n\n",
          "name": "block.stdout:MercStatic_1",
          "pathname": "/usr/local/lib/python3.7/dist-packages/razor/flow/streams.py",
          "process": 4081,
          "processName": "ForkProcess-1:2",
          "thread": 140161048356608,
          "threadName": "ThreadPoolExecutor-0_3"
         },
         {
          "asctime": "2021-03-26 11:53:12,352",
          "created": 1616759592.35249,
          "extra": {},
          "filename": "async_executors.py",
          "funcName": "distribute_output_queue",
          "levelname": "DEBUG",
          "lineno": 315,
          "message": "MercStatic_1: ---- dist output: DataFrame[merchant_id: string, merchant_city: string, merchant_state: string, list_of_product: array<string>] -> ('SparkConcat_2', 'df2')",
          "name": "engine.logs:MercStatic_1",
          "pathname": "/usr/local/lib/python3.7/dist-packages/razor/flow/async_executors.py",
          "process": 4081,
          "processName": "ForkProcess-1:2",
          "thread": 140164243511104,
          "threadName": "MainThread"
         },
         {
          "asctime": "2021-03-26 11:53:12,352",
          "created": 1616759592.3529627,
          "extra": {},
          "filename": "async_executors.py",
          "funcName": "main",
          "levelname": "DEBUG",
          "lineno": 147,
          "message": "MercStatic_1: block thread completed",
          "name": "engine.logs:MercStatic_1",
          "pathname": "/usr/local/lib/python3.7/dist-packages/razor/flow/async_executors.py",
          "process": 4081,
          "processName": "ForkProcess-1:2",
          "thread": 140164243511104,
          "threadName": "MainThread"
         },
         {
          "asctime": "2021-03-26 11:53:12,353",
          "created": 1616759592.3530915,
          "extra": {},
          "filename": "async_executors.py",
          "funcName": "main",
          "levelname": "DEBUG",
          "lineno": 149,
          "message": "MercStatic_1: block execution complete",
          "name": "engine.logs:MercStatic_1",
          "pathname": "/usr/local/lib/python3.7/dist-packages/razor/flow/async_executors.py",
          "process": 4081,
          "processName": "ForkProcess-1:2",
          "thread": 140164243511104,
          "threadName": "MainThread"
         },
         {
          "asctime": "2021-03-26 11:53:12,353",
          "created": 1616759592.353368,
          "extra": {},
          "filename": "async_executors.py",
          "funcName": "distribute_output_queue",
          "levelname": "DEBUG",
          "lineno": 315,
          "message": "MercStatic_1: ---- dist output: b'__!\\tEndOfStream\\t!__' -> ('SparkConcat_2', 'df2')",
          "name": "engine.logs:MercStatic_1",
          "pathname": "/usr/local/lib/python3.7/dist-packages/razor/flow/async_executors.py",
          "process": 4081,
          "processName": "ForkProcess-1:2",
          "thread": 140164243511104,
          "threadName": "MainThread"
         },
         {
          "asctime": "2021-03-26 11:53:12,358",
          "created": 1616759592.358166,
          "extra": {},
          "filename": "async_executors.py",
          "funcName": "start_input_receiver",
          "levelname": "DEBUG",
          "lineno": 174,
          "message": "MercStatic_1: received cmd: start_sender, (), {'out_name': 'merchant_static', 'target': ('SparkConcat_2', 'df2'), 'out_addr': 'tcp://0.0.0.0:57497', 'in_memory': True}",
          "name": "engine.logs:MercStatic_1",
          "pathname": "/usr/local/lib/python3.7/dist-packages/razor/flow/async_executors.py",
          "process": 4081,
          "processName": "ForkProcess-1:2",
          "thread": 140164243511104,
          "threadName": "MainThread"
         },
         {
          "asctime": "2021-03-26 11:53:12,358",
          "created": 1616759592.3585489,
          "extra": {},
          "filename": "async_executors.py",
          "funcName": "start_output_sender",
          "levelname": "DEBUG",
          "lineno": 378,
          "message": "MercStatic_1: got start_sender, merchant_static, ('SparkConcat_2', 'df2')",
          "name": "engine.logs:MercStatic_1",
          "pathname": "/usr/local/lib/python3.7/dist-packages/razor/flow/async_executors.py",
          "process": 4081,
          "processName": "ForkProcess-1:2",
          "thread": 140164243511104,
          "threadName": "MainThread"
         },
         {
          "asctime": "2021-03-26 11:53:12,359",
          "created": 1616759592.3598237,
          "extra": {},
          "filename": "async_executors.py",
          "funcName": "start_output_sender",
          "levelname": "DEBUG",
          "lineno": 383,
          "message": "MercStatic_1: SENT, df2, DataFrame[merchant_id: string, merchant_city: string, merchant_state: string, list_of_product: array<string>], ('SparkConcat_2', 'df2')",
          "name": "engine.logs:MercStatic_1",
          "pathname": "/usr/local/lib/python3.7/dist-packages/razor/flow/async_executors.py",
          "process": 4081,
          "processName": "ForkProcess-1:2",
          "thread": 140164243511104,
          "threadName": "MainThread"
         },
         {
          "asctime": "2021-03-26 11:53:12,360",
          "created": 1616759592.3600845,
          "extra": {},
          "filename": "async_executors.py",
          "funcName": "start_output_sender",
          "levelname": "DEBUG",
          "lineno": 383,
          "message": "MercStatic_1: SENT, df2, b'__!\\tEndOfStream\\t!__', ('SparkConcat_2', 'df2')",
          "name": "engine.logs:MercStatic_1",
          "pathname": "/usr/local/lib/python3.7/dist-packages/razor/flow/async_executors.py",
          "process": 4081,
          "processName": "ForkProcess-1:2",
          "thread": 140164243511104,
          "threadName": "MainThread"
         },
         {
          "asctime": "2021-03-26 11:53:12,360",
          "created": 1616759592.3601484,
          "extra": {},
          "filename": "async_executors.py",
          "funcName": "start_output_sender",
          "levelname": "DEBUG",
          "lineno": 387,
          "message": "MercStatic_1: completed output: ('merchant_static', ('SparkConcat_2', 'df2'))",
          "name": "engine.logs:MercStatic_1",
          "pathname": "/usr/local/lib/python3.7/dist-packages/razor/flow/async_executors.py",
          "process": 4081,
          "processName": "ForkProcess-1:2",
          "thread": 140164243511104,
          "threadName": "MainThread"
         },
         {
          "asctime": "2021-03-26 11:53:12,367",
          "created": 1616759592.3673656,
          "extra": {},
          "filename": "async_executors.py",
          "funcName": "start_input_receiver",
          "levelname": "DEBUG",
          "lineno": 174,
          "message": "MercStatic_1: received cmd: terminate, (), {}",
          "name": "engine.logs:MercStatic_1",
          "pathname": "/usr/local/lib/python3.7/dist-packages/razor/flow/async_executors.py",
          "process": 4081,
          "processName": "ForkProcess-1:2",
          "thread": 140164243511104,
          "threadName": "MainThread"
         },
         {
          "asctime": "2021-03-26 11:53:59,462",
          "created": 1616759639.4628277,
          "extra": {},
          "filename": "streams.py",
          "funcName": "flush",
          "levelname": "INFO",
          "lineno": 30,
          "message": "+--------------------+-------------------+-----------------+--------------------+--------------------------------------------+----------------------------------------------+--------------------------------------------+--------------------------------------------+---------------------------------------------+-----------------------------------------------+---------------------------------------------+---------------------------------------------+------------------------------------------------+--------------------------------------------------+------------------------------------------------+------------------------------------------------+-----------------------------------------------------+-------------------------------------------------------+-----------------------------------------------------+-----------------------------------------------------+----------------------------------------------+------------------------------------------------+----------------------------------------------+----------------------------------------------+--------------------------------------------+----------------------------------------------+--------------------------------------------+--------------------------------------------+--------------------------------------------+----------------------------------------------+--------------------------------------------+--------------------------------------------+---------------------------------------------+-----------------------------------------------+---------------------------------------------+---------------------------------------------+\n|      transaction_id|               time|    customer_name|         card_number|last_one_hour_total_customer_transaction_sum|last_one_hour_total_customer_transaction_count|last_one_hour_total_customer_transaction_max|last_one_hour_total_customer_transaction_avg|last_six_hours_total_customer_transaction_sum|last_six_hours_total_customer_transaction_count|last_six_hours_total_customer_transaction_max|last_six_hours_total_customer_transaction_avg|last_twelve_hours_total_customer_transaction_sum|last_twelve_hours_total_customer_transaction_count|last_twelve_hours_total_customer_transaction_max|last_twelve_hours_total_customer_transaction_avg|last_twenty_four_hours_total_customer_transaction_sum|last_twenty_four_hours_total_customer_transaction_count|last_twenty_four_hours_total_customer_transaction_max|last_twenty_four_hours_total_customer_transaction_avg|last_three_days_total_customer_transaction_sum|last_three_days_total_customer_transaction_count|last_three_days_total_customer_transaction_max|last_three_days_total_customer_transaction_avg|last_one_week_total_customer_transaction_sum|last_one_week_total_customer_transaction_count|last_one_week_total_customer_transaction_max|last_one_week_total_customer_transaction_avg|last_two_week_total_customer_transaction_sum|last_two_week_total_customer_transaction_count|last_two_week_total_customer_transaction_max|last_two_week_total_customer_transaction_avg|last_one_month_total_customer_transaction_sum|last_one_month_total_customer_transaction_count|last_one_month_total_customer_transaction_max|last_one_month_total_customer_transaction_avg|\n+--------------------+-------------------+-----------------+--------------------+--------------------------------------------+----------------------------------------------+--------------------------------------------+--------------------------------------------+---------------------------------------------+-----------------------------------------------+---------------------------------------------+---------------------------------------------+------------------------------------------------+--------------------------------------------------+------------------------------------------------+------------------------------------------------+-----------------------------------------------------+-------------------------------------------------------+-----------------------------------------------------+-----------------------------------------------------+----------------------------------------------+------------------------------------------------+----------------------------------------------+----------------------------------------------+--------------------------------------------+----------------------------------------------+--------------------------------------------+--------------------------------------------+--------------------------------------------+----------------------------------------------+--------------------------------------------+--------------------------------------------+---------------------------------------------+-----------------------------------------------+---------------------------------------------+---------------------------------------------+\n|1f67ffa2-80e7-459...|2018-03-12 02:06:00|Elizabeth Brawley|b8ad67c3-effd-442...|                                           0|                                             0|                                           0|                                         0.0|                                            0|                                              0|                                            0|                                          0.0|                                               0|                                                 0|                                               0|                                             0.0|                                                    0|                                                      0|                                                    0|                                                  0.0|                                             0|                                               0|                                             0|                                           0.0|                                           0|                                             0|                                           0|                                         0.0|                                           0|                                             0|                                           0|                                         0.0|                                            0|                                              0|                                            0|                                          0.0|\n|6fb28235-14b0-480...|2018-03-12 16:31:00|Elizabeth Brawley|dd77d1cd-1f14-4fd...|                                           0|                                             0|                                           0|                                         0.0|                                            0|                                              0|                                            0|                                          0.0|                                               0|                                                 0|                                               0|                                             0.0|                                                    0|                                                      0|                                                    0|                                                  0.0|                                             0|                                               0|                                             0|                                           0.0|                                           0|                                             0|                                           0|                                         0.0|                                           0|                                             0|                                           0|                                         0.0|                                            0|                                              0|                                            0|                                          0.0|\n|89839019-b3ec-44b...|2018-03-12 13:21:00|Elizabeth Brawley|c8c62bd1-edb5-491...|                                           0|                                             0|                                           0|                                         0.0|                                            0|                                              0|                                            0|                                          0.0|                                               0|                                                 0|                                               0|                                             0.0|                                                    0|                                                      0|                                                    0|                                                  0.0|                                             0|                                               0|                                             0|                                           0.0|                                           0|                                             0|                                           0|                                         0.0|                                           0|                                             0|                                           0|                                         0.0|                                            0|                                              0|                                            0|                                          0.0|\n|4a0923eb-3fe1-4d4...|2018-03-12 14:11:00|Elizabeth Brawley|9f9ffcd8-87bd-417...|                                           0|                                             0|                                           0|                                         0.0|                                            0|                                              0|                                            0|                                          0.0|                                               0|                                                 0|                                               0|                                             0.0|                                                    0|                                                      0|                                                    0|                                                  0.0|                                             0|                                               0|                                             0|                                           0.0|                                           0|                                             0|                                           0|                                         0.0|                                           0|                                             0|                                           0|                                         0.0|                                            0|                                              0|                                            0|                                          0.0|\n|f7243898-036a-44f...|2018-03-12 13:15:00|Elizabeth Brawley|2bf7e056-eb23-4c8...|                                           0|                                             0|                                           0|                                         0.0|                                            0|                                              0|                                            0|                                          0.0|                                               0|                                                 0|                                               0|                                             0.0|                                                    0|                                                      0|                                                    0|                                                  0.0|                                             0|                                               0|                                             0|                                           0.0|                                           0|                                             0|                                           0|                                         0.0|                                           0|                                             0|                                           0|                                         0.0|                                            0|                                              0|                                            0|                                          0.0|\n|89489648-180a-439...|2018-03-12 09:15:00|Elizabeth Brawley|801d65c4-c2af-460...|                                           0|                                             0|                                           0|                                         0.0|                                            0|                                              0|                                            0|                                          0.0|                                               0|                                                 0|                                               0|                                             0.0|                                                    0|                                                      0|                                                    0|                                                  0.0|                                             0|                                               0|                                             0|                                           0.0|                                           0|                                             0|                                           0|                                         0.0|                                           0|                                             0|                                           0|                                         0.0|                                            0|                                              0|                                            0|                                          0.0|\n|3ce2dcd5-622f-4ec...|2018-03-12 12:35:00|Elizabeth Brawley|0a27a4f4-18a8-4fd...|                                           0|                                             0|                                           0|                                         0.0|                                            0|                                              0|                                            0|                                          0.0|                                               0|                                                 0|                                               0|                                             0.0|                                                    0|                                                      0|                                                    0|                                                  0.0|                                             0|                                               0|                                             0|                                           0.0|                                           0|                                             0|                                           0|                                         0.0|                                           0|                                             0|                                           0|                                         0.0|                                            0|                                              0|                                            0|                                          0.0|\n|5b74e885-074e-4b5...|2018-03-12 16:17:00|Elizabeth Brawley|9d8a297c-2a74-495...|                                           0|                                             0|                                           0|                                         0.0|                                            0|                                              0|                                            0|                                          0.0|                                               0|                                                 0|                                               0|                                             0.0|                                                    0|                                                      0|                                                    0|                                                  0.0|                                             0|                                               0|                                             0|                                           0.0|                                           0|                                             0|                                           0|                                         0.0|                                           0|                                             0|                                           0|                                         0.0|                                            0|                                              0|                                            0|                                          0.0|\n|0598fc62-135b-4d4...|2018-03-12 18:37:00|Elizabeth Brawley|ea33bae7-c6a4-4ce...|                                           0|                                             0|                                           0|                                         0.0|                                            0|                                              0|                                            0|                                          0.0|                                               0|                                                 0|                                               0|                                             0.0|                                                    0|                                                      0|                                                    0|                                                  0.0|                                             0|                                               0|                                             0|                                           0.0|                                           0|                                             0|                                           0|                                         0.0|                                           0|                                             0|                                           0|                                         0.0|                                            0|                                              0|                                            0|                                          0.0|\n|df236dad-4980-440...|2018-03-12 18:07:00|Elizabeth Brawley|617fe136-d245-4b6...|                                           0|                                             0|                                           0|                                         0.0|                                            0|                                              0|                                            0|                                          0.0|                                               0|                                                 0|                                               0|                                             0.0|                                                    0|                                                      0|                                                    0|                                                  0.0|                                             0|                                               0|                                             0|                                           0.0|                                           0|                                             0|                                           0|                                         0.0|                                           0|                                             0|                                           0|                                         0.0|                                            0|                                              0|                                            0|                                          0.0|\n|2ede14af-9a83-4ea...|2018-03-12 22:03:00|Elizabeth Brawley|88d39e1a-24ce-467...|                                           0|                                             0|                                           0|                                         0.0|                                            0|                                              0|                                            0|                                          0.0|                                               0|                                                 0|                                               0|                                             0.0|                                                    0|                                                      0|                                                    0|                                                  0.0|                                             0|                                               0|                                             0|                                           0.0|                                           0|                                             0|                                           0|                                         0.0|                                           0|                                             0|                                           0|                                         0.0|                                            0|                                              0|                                            0|                                          0.0|\n|5675879a-f5c9-402...|2018-03-12 01:55:00|Elizabeth Brawley|345536ad-a301-43a...|                                           0|                                             0|                                           0|                                         0.0|                                            0|                                              0|                                            0|                                          0.0|                                               0|                                                 0|                                               0|                                             0.0|                                                    0|                                                      0|                                                    0|                                                  0.0|                                             0|                                               0|                                             0|                                           0.0|                                           0|                                             0|                                           0|                                         0.0|                                           0|                                             0|                                           0|                                         0.0|                                            0|                                              0|                                            0|                                          0.0|\n|7013beb5-9539-467...|2018-03-12 23:02:00|Elizabeth Brawley|5d1458d4-c617-4f8...|                                           0|                                             0|                                           0|                                         0.0|                                            0|                                              0|                                            0|                                          0.0|                                               0|                                                 0|                                               0|                                             0.0|                                                    0|                                                      0|                                                    0|                                                  0.0|                                             0|                                               0|                                             0|                                           0.0|                                           0|                                             0|                                           0|                                         0.0|                                           0|                                             0|                                           0|                                         0.0|                                            0|                                              0|                                            0|                                          0.0|\n|db95a985-150f-4ea...|2018-03-12 04:59:00|Elizabeth Brawley|3d86f91f-8f02-4cd...|                                           0|                                             0|                                           0|                                         0.0|                                            0|                                              0|                                            0|                                          0.0|                                               0|                                                 0|                                               0|                                             0.0|                                                    0|                                                      0|                                                    0|                                                  0.0|                                             0|                                               0|                                             0|                                           0.0|                                           0|                                             0|                                           0|                                         0.0|                                           0|                                             0|                                           0|                                         0.0|                                            0|                                              0|                                            0|                                          0.0|\n|26ba833c-0a1b-4dd...|2018-03-12 13:36:00|Elizabeth Brawley|c50946aa-23e4-453...|                                           0|                                             0|                                           0|                                         0.0|                                            0|                                              0|                                            0|                                          0.0|                                               0|                                                 0|                                               0|                                             0.0|                                                    0|                                                      0|                                                    0|                                                  0.0|                                             0|                                               0|                                             0|                                           0.0|                                           0|                                             0|                                           0|                                         0.0|                                           0|                                             0|                                           0|                                         0.0|                                            0|                                              0|                                            0|                                          0.0|\n|71694f34-efa6-497...|2018-03-12 09:14:00|Elizabeth Brawley|20bdbcf0-11b7-4f8...|                                           0|                                             0|                                           0|                                         0.0|                                            0|                                              0|                                            0|                                          0.0|                                               0|                                                 0|                                               0|                                             0.0|                                                    0|                                                      0|                                                    0|                                                  0.0|                                             0|                                               0|                                             0|                                           0.0|                                           0|                                             0|                                           0|                                         0.0|                                           0|                                             0|                                           0|                                         0.0|                                            0|                                              0|                                            0|                                          0.0|\n|a56756e2-3082-44d...|2018-03-12 22:58:00|Elizabeth Brawley|862d37ef-2d9a-486...|                                           0|                                             0|                                           0|                                         0.0|                                            0|                                              0|                                            0|                                          0.0|                                               0|                                                 0|                                               0|                                             0.0|                                                    0|                                                      0|                                                    0|                                                  0.0|                                             0|                                               0|                                             0|                                           0.0|                                           0|                                             0|                                           0|                                         0.0|                                           0|                                             0|                                           0|                                         0.0|                                            0|                                              0|                                            0|                                          0.0|\n|c1454e5c-8972-4ea...|2018-07-09 17:03:00|  Brandon Sturkie|65b4eda1-a440-493...|                                           0|                                             0|                                           0|                                         0.0|                                            0|                                              0|                                            0|                                          0.0|                                               0|                                                 0|                                               0|                                             0.0|                                                    0|                                                      0|                                                    0|                                                  0.0|                                             0|                                               0|                                             0|                                           0.0|                                           0|                                             0|                                           0|                                         0.0|                                           0|                                             0|                                           0|                                         0.0|                                          826|                                              4|                                          299|                                        206.5|\n|4bdd16fe-a24d-495...|2018-07-14 13:46:00|  Brandon Sturkie|65b4eda1-a440-493...|                                           0|                                             0|                                           0|                                         0.0|                                            0|                                              0|                                            0|                                          0.0|                                               0|                                                 0|                                               0|                                             0.0|                                                    0|                                                      0|                                                    0|                                                  0.0|                                             0|                                               0|                                             0|                                           0.0|                                           6|                                             1|                                           6|                                         6.0|                                           6|                                             1|                                           6|                                         6.0|                                           15|                                              2|                                            9|                                          7.5|\n|09f022fd-f9c5-46e...|2018-07-18 23:28:00|  Brandon Sturkie|65b4eda1-a440-493...|                                           0|                                             0|                                           0|                                         0.0|                                            0|                                              0|                                            0|                                          0.0|                                               0|                                                 0|                                               0|                                             0.0|                                                    0|                                                      0|                                                    0|                                                  0.0|                                             0|                                               0|                                             0|                                           0.0|                                         240|                                             1|                                         240|                                       240.0|                                         246|                                             2|                                         240|                                       123.0|                                          246|                                              2|                                          240|                                        123.0|\n+--------------------+-------------------+-----------------+--------------------+--------------------------------------------+----------------------------------------------+--------------------------------------------+--------------------------------------------+---------------------------------------------+-----------------------------------------------+---------------------------------------------+---------------------------------------------+------------------------------------------------+--------------------------------------------------+------------------------------------------------+------------------------------------------------+-----------------------------------------------------+-------------------------------------------------------+-----------------------------------------------------+-----------------------------------------------------+----------------------------------------------+------------------------------------------------+----------------------------------------------+----------------------------------------------+--------------------------------------------+----------------------------------------------+--------------------------------------------+--------------------------------------------+--------------------------------------------+----------------------------------------------+--------------------------------------------+--------------------------------------------+---------------------------------------------+-----------------------------------------------+---------------------------------------------+---------------------------------------------+\nonly showing top 20 rows\n\nrow count: 2202\n+--------------------+-----------+-------------+--------------+--------------------------------------------+----------------------------------------------+--------------------------------------------+--------------------------------------------+--------------------------------------------+----------------------------------------------+--------------------------------------------+--------------------------------------------+-----------------------------------------------+-------------------------------------------------+-----------------------------------------------+-----------------------------------------------+----------------------------------------------------+------------------------------------------------------+----------------------------------------------------+----------------------------------------------------+----------------------------------------------+------------------------------------------------+----------------------------------------------+----------------------------------------------+\n|      transaction_id|merchant_id|merchant_city|merchant_state|last_one_hour_total_merchant_transaction_sum|last_one_hour_total_merchant_transaction_count|last_one_hour_total_merchant_transaction_max|last_one_hour_total_merchant_transaction_avg|last_six_hour_total_merchant_transaction_sum|last_six_hour_total_merchant_transaction_count|last_six_hour_total_merchant_transaction_max|last_six_hour_total_merchant_transaction_avg|last_twelve_hour_total_merchant_transaction_sum|last_twelve_hour_total_merchant_transaction_count|last_twelve_hour_total_merchant_transaction_max|last_twelve_hour_total_merchant_transaction_avg|last_twenty_four_hour_total_merchant_transaction_sum|last_twenty_four_hour_total_merchant_transaction_count|last_twenty_four_hour_total_merchant_transaction_max|last_twenty_four_hour_total_merchant_transaction_avg|last_three_days_total_merchant_transaction_sum|last_three_days_total_merchant_transaction_count|last_three_days_total_merchant_transaction_max|last_three_days_total_merchant_transaction_avg|\n+--------------------+-----------+-------------+--------------+--------------------------------------------+----------------------------------------------+--------------------------------------------+--------------------------------------------+--------------------------------------------+----------------------------------------------+--------------------------------------------+--------------------------------------------+-----------------------------------------------+-------------------------------------------------+-----------------------------------------------+-----------------------------------------------+----------------------------------------------------+------------------------------------------------------+----------------------------------------------------+----------------------------------------------------+----------------------------------------------+------------------------------------------------+----------------------------------------------+----------------------------------------------+\n|8bbd694f-cf23-4e9...|    1000795|    Bay Shore|      New York|                                           0|                                             0|                                           0|                                         0.0|                                           0|                                             0|                                           0|                                         0.0|                                              0|                                                0|                                              0|                                            0.0|                                                   0|                                                     0|                                                   0|                                                 0.0|                                             0|                                               0|                                             0|                                           0.0|\n|c9cbbdd6-2cf7-4ec...|    1000096|         Otto|       Wyoming|                                           0|                                             0|                                           0|                                         0.0|                                           0|                                             0|                                           0|                                         0.0|                                              0|                                                0|                                              0|                                            0.0|                                                   0|                                                     0|                                                   0|                                                 0.0|                                             0|                                               0|                                             0|                                           0.0|\n|25b44c0b-c06c-40c...|    1000096|         Otto|       Wyoming|                                           0|                                             0|                                           0|                                         0.0|                                           0|                                             0|                                           0|                                         0.0|                                              0|                                                0|                                              0|                                            0.0|                                                   0|                                                     0|                                                   0|                                                 0.0|                                             0|                                               0|                                             0|                                           0.0|\n|c11e0eb9-c78f-481...|    1000096|         Otto|       Wyoming|                                           0|                                             0|                                           0|                                         0.0|                                           0|                                             0|                                           0|                                         0.0|                                              0|                                                0|                                              0|                                            0.0|                                                   0|                                                     0|                                                   0|                                                 0.0|                                             0|                                               0|                                             0|                                           0.0|\n|dbe86b45-b1e2-444...|    1000096|         Otto|       Wyoming|                                           0|                                             0|                                           0|                                         0.0|                                           0|                                             0|                                           0|                                         0.0|                                              0|                                                0|                                              0|                                            0.0|                                                   0|                                                     0|                                                   0|                                                 0.0|                                             0|                                               0|                                             0|                                           0.0|\n|72df8902-73d1-4aa...|    1000113|      Henagar|       Alabama|                                           0|                                             0|                                           0|                                         0.0|                                           0|                                             0|                                           0|                                         0.0|                                              0|                                                0|                                              0|                                            0.0|                                                   0|                                                     0|                                                   0|                                                 0.0|                                             0|                                               0|                                             0|                                           0.0|\n|8fde6027-13f1-4e1...|    1000113|      Henagar|       Alabama|                                           0|                                             0|                                           0|                                         0.0|                                           0|                                             0|                                           0|                                         0.0|                                              0|                                                0|                                              0|                                            0.0|                                                   0|                                                     0|                                                   0|                                                 0.0|                                             0|                                               0|                                             0|                                           0.0|\n|32e15d54-b117-422...|    1000113|      Henagar|       Alabama|                                           0|                                             0|                                           0|                                         0.0|                                           0|                                             0|                                           0|                                         0.0|                                              0|                                                0|                                              0|                                            0.0|                                                   0|                                                     0|                                                   0|                                                 0.0|                                             0|                                               0|                                             0|                                           0.0|\n|9764a134-9793-437...|    1000113|      Henagar|       Alabama|                                           0|                                             0|                                           0|                                         0.0|                                           0|                                             0|                                           0|                                         0.0|                                              0|                                                0|                                              0|                                            0.0|                                                   0|                                                     0|                                                   0|                                                 0.0|                                             0|                                               0|                                             0|                                           0.0|\n|141649d9-d661-430...|    1000113|      Henagar|       Alabama|                                           0|                                             0|                                           0|                                         0.0|                                           6|                                             1|                                           6|                                         6.0|                                              6|                                                1|                                              6|                                            6.0|                                                   6|                                                     1|                                                   6|                                                 6.0|                                             6|                                               1|                                             6|                                           6.0|\n|49a2e33b-706c-46c...|    1000113|      Henagar|       Alabama|                                           0|                                             0|                                           0|                                         0.0|                                           0|                                             0|                                           0|                                         0.0|                                              0|                                                0|                                              0|                                            0.0|                                                   0|                                                     0|                                                   0|                                                 0.0|                                             0|                                               0|                                             0|                                           0.0|\n|32da9c21-ad11-42c...|    1000113|      Henagar|       Alabama|                                           0|                                             0|                                           0|                                         0.0|                                           0|                                             0|                                           0|                                         0.0|                                              0|                                                0|                                              0|                                            0.0|                                                   0|                                                     0|                                                   0|                                                 0.0|                                             0|                                               0|                                             0|                                           0.0|\n|12ae5674-aad1-49c...|    1000113|      Henagar|       Alabama|                                           0|                                             0|                                           0|                                         0.0|                                           0|                                             0|                                           0|                                         0.0|                                              0|                                                0|                                              0|                                            0.0|                                                  27|                                                     2|                                                  21|                                                13.5|                                            27|                                               2|                                            21|                                          13.5|\n|9fd21a2b-18a6-46f...|    1000113|      Henagar|       Alabama|                                           0|                                             0|                                           0|                                         0.0|                                           0|                                             0|                                           0|                                         0.0|                                              0|                                                0|                                              0|                                            0.0|                                                   0|                                                     0|                                                   0|                                                 0.0|                                             0|                                               0|                                             0|                                           0.0|\n|170d76f2-41c1-441...|    1000113|      Henagar|       Alabama|                                           0|                                             0|                                           0|                                         0.0|                                           0|                                             0|                                           0|                                         0.0|                                              0|                                                0|                                              0|                                            0.0|                                                   0|                                                     0|                                                   0|                                                 0.0|                                          2516|                                               1|                                          2516|                                        2516.0|\n|e0e2f964-3b0d-4d4...|    1000113|      Henagar|       Alabama|                                           0|                                             0|                                           0|                                         0.0|                                           0|                                             0|                                           0|                                         0.0|                                              0|                                                0|                                              0|                                            0.0|                                                   0|                                                     0|                                                   0|                                                 0.0|                                             0|                                               0|                                             0|                                           0.0|\n|07a38c41-37d4-463...|    1000113|      Henagar|       Alabama|                                           0|                                             0|                                           0|                                         0.0|                                           0|                                             0|                                           0|                                         0.0|                                              0|                                                0|                                              0|                                            0.0|                                                   0|                                                     0|                                                   0|                                                 0.0|                                             0|                                               0|                                             0|                                           0.0|\n|f35cf7d7-4607-40f...|    1000113|      Henagar|       Alabama|                                           0|                                             0|                                           0|                                         0.0|                                           0|                                             0|                                           0|                                         0.0|                                              0|                                                0|                                              0|                                            0.0|                                                   0|                                                     0|                                                   0|                                                 0.0|                                             0|                                               0|                                             0|                                           0.0|\n|2608cf70-a8c0-4d5...|    1001320|       Dacoma|      Oklahoma|                                           0|                                             0|                                           0|                                         0.0|                                           0|                                             0|                                           0|                                         0.0|                                              0|                                                0|                                              0|                                            0.0|                                                   0|                                                     0|                                                   0|                                                 0.0|                                             0|                                               0|                                             0|                                           0.0|\n|26c46b37-c0ad-425...|    1000376|     Sun City|        Kansas|                                           0|                                             0|                                           0|                                         0.0|                                           0|                                             0|                                           0|                                         0.0|                                              0|                                                0|                                              0|                                            0.0|                                                   0|                                                     0|                                                   0|                                                 0.0|                                             0|                                               0|                                             0|                                           0.0|\n+--------------------+-----------+-------------+--------------+--------------------------------------------+----------------------------------------------+--------------------------------------------+--------------------------------------------+--------------------------------------------+----------------------------------------------+--------------------------------------------+--------------------------------------------+-----------------------------------------------+-------------------------------------------------+-----------------------------------------------+-----------------------------------------------+----------------------------------------------------+------------------------------------------------------+----------------------------------------------------+----------------------------------------------------+----------------------------------------------+------------------------------------------------+----------------------------------------------+----------------------------------------------+\nonly showing top 20 rows\n\nrow count: 2202\n",
          "name": "block.stdout:CustMercTS_1",
          "pathname": "/usr/local/lib/python3.7/dist-packages/razor/flow/streams.py",
          "process": 4081,
          "processName": "ForkProcess-1:2",
          "thread": 140161065142016,
          "threadName": "ThreadPoolExecutor-0_1"
         },
         {
          "asctime": "2021-03-26 11:53:59,555",
          "created": 1616759639.5552752,
          "extra": {},
          "filename": "async_executors.py",
          "funcName": "distribute_output_queue",
          "levelname": "DEBUG",
          "lineno": 315,
          "message": "CustMercTS_1: ---- dist output: DataFrame[transaction_id: string, time: timestamp, customer_name: string, card_number: string, last_one_hour_total_customer_transaction_sum: int, last_one_hour_total_customer_transaction_count: int, last_one_hour_total_customer_transaction_max: int, last_one_hour_total_customer_transaction_avg: float, last_six_hours_total_customer_transaction_sum: int, last_six_hours_total_customer_transaction_count: int, last_six_hours_total_customer_transaction_max: int, last_six_hours_total_customer_transaction_avg: float, last_twelve_hours_total_customer_transaction_sum: int, last_twelve_hours_total_customer_transaction_count: int, last_twelve_hours_total_customer_transaction_max: int, last_twelve_hours_total_customer_transaction_avg: float, last_twenty_four_hours_total_customer_transaction_sum: int, last_twenty_four_hours_total_customer_transaction_count: int, last_twenty_four_hours_total_customer_transaction_max: int, last_twenty_four_hours_total_customer_transaction_avg: float, last_three_days_total_customer_transaction_sum: int, last_three_days_total_customer_transaction_count: int, last_three_days_total_customer_transaction_max: int, last_three_days_total_customer_transaction_avg: float, last_one_week_total_customer_transaction_sum: int, last_one_week_total_customer_transaction_count: int, last_one_week_total_customer_transaction_max: int, last_one_week_total_customer_transaction_avg: float, last_two_week_total_customer_transaction_sum: int, last_two_week_total_customer_transaction_count: int, last_two_week_total_customer_transaction_max: int, last_two_week_total_customer_transaction_avg: float, last_one_month_total_customer_transaction_sum: int, last_one_month_total_customer_transaction_count: int, last_one_month_total_customer_transaction_max: int, last_one_month_total_customer_transaction_avg: float] -> ('SparkConcat_1', 'df1')",
          "name": "engine.logs:CustMercTS_1",
          "pathname": "/usr/local/lib/python3.7/dist-packages/razor/flow/async_executors.py",
          "process": 4081,
          "processName": "ForkProcess-1:2",
          "thread": 140164243511104,
          "threadName": "MainThread"
         },
         {
          "asctime": "2021-03-26 11:53:59,557",
          "created": 1616759639.5578616,
          "extra": {},
          "filename": "async_executors.py",
          "funcName": "distribute_output_queue",
          "levelname": "DEBUG",
          "lineno": 315,
          "message": "CustMercTS_1: ---- dist output: DataFrame[transaction_id: string, merchant_id: string, merchant_city: string, merchant_state: string, last_one_hour_total_merchant_transaction_sum: int, last_one_hour_total_merchant_transaction_count: int, last_one_hour_total_merchant_transaction_max: int, last_one_hour_total_merchant_transaction_avg: float, last_six_hour_total_merchant_transaction_sum: int, last_six_hour_total_merchant_transaction_count: int, last_six_hour_total_merchant_transaction_max: int, last_six_hour_total_merchant_transaction_avg: float, last_twelve_hour_total_merchant_transaction_sum: int, last_twelve_hour_total_merchant_transaction_count: int, last_twelve_hour_total_merchant_transaction_max: int, last_twelve_hour_total_merchant_transaction_avg: float, last_twenty_four_hour_total_merchant_transaction_sum: int, last_twenty_four_hour_total_merchant_transaction_count: int, last_twenty_four_hour_total_merchant_transaction_max: int, last_twenty_four_hour_total_merchant_transaction_avg: float, last_three_days_total_merchant_transaction_sum: int, last_three_days_total_merchant_transaction_count: int, last_three_days_total_merchant_transaction_max: int, last_three_days_total_merchant_transaction_avg: float] -> ('SparkConcat_2', 'df1')",
          "name": "engine.logs:CustMercTS_1",
          "pathname": "/usr/local/lib/python3.7/dist-packages/razor/flow/async_executors.py",
          "process": 4081,
          "processName": "ForkProcess-1:2",
          "thread": 140164243511104,
          "threadName": "MainThread"
         },
         {
          "asctime": "2021-03-26 11:53:59,558",
          "created": 1616759639.5583544,
          "extra": {},
          "filename": "async_executors.py",
          "funcName": "main",
          "levelname": "DEBUG",
          "lineno": 147,
          "message": "CustMercTS_1: block thread completed",
          "name": "engine.logs:CustMercTS_1",
          "pathname": "/usr/local/lib/python3.7/dist-packages/razor/flow/async_executors.py",
          "process": 4081,
          "processName": "ForkProcess-1:2",
          "thread": 140164243511104,
          "threadName": "MainThread"
         },
         {
          "asctime": "2021-03-26 11:53:59,558",
          "created": 1616759639.5584567,
          "extra": {},
          "filename": "async_executors.py",
          "funcName": "main",
          "levelname": "DEBUG",
          "lineno": 149,
          "message": "CustMercTS_1: block execution complete",
          "name": "engine.logs:CustMercTS_1",
          "pathname": "/usr/local/lib/python3.7/dist-packages/razor/flow/async_executors.py",
          "process": 4081,
          "processName": "ForkProcess-1:2",
          "thread": 140164243511104,
          "threadName": "MainThread"
         },
         {
          "asctime": "2021-03-26 11:53:59,559",
          "created": 1616759639.5594118,
          "extra": {},
          "filename": "async_executors.py",
          "funcName": "distribute_output_queue",
          "levelname": "DEBUG",
          "lineno": 315,
          "message": "CustMercTS_1: ---- dist output: b'__!\\tEndOfStream\\t!__' -> ('SparkConcat_1', 'df1')",
          "name": "engine.logs:CustMercTS_1",
          "pathname": "/usr/local/lib/python3.7/dist-packages/razor/flow/async_executors.py",
          "process": 4081,
          "processName": "ForkProcess-1:2",
          "thread": 140164243511104,
          "threadName": "MainThread"
         },
         {
          "asctime": "2021-03-26 11:53:59,559",
          "created": 1616759639.5595522,
          "extra": {},
          "filename": "async_executors.py",
          "funcName": "distribute_output_queue",
          "levelname": "DEBUG",
          "lineno": 315,
          "message": "CustMercTS_1: ---- dist output: b'__!\\tEndOfStream\\t!__' -> ('SparkConcat_2', 'df1')",
          "name": "engine.logs:CustMercTS_1",
          "pathname": "/usr/local/lib/python3.7/dist-packages/razor/flow/async_executors.py",
          "process": 4081,
          "processName": "ForkProcess-1:2",
          "thread": 140164243511104,
          "threadName": "MainThread"
         },
         {
          "asctime": "2021-03-26 11:53:59,565",
          "created": 1616759639.5650735,
          "extra": {},
          "filename": "async_executors.py",
          "funcName": "start_input_receiver",
          "levelname": "DEBUG",
          "lineno": 174,
          "message": "CustMercTS_1: received cmd: start_sender, (), {'out_name': 'customer_ts', 'target': ('SparkConcat_1', 'df1'), 'out_addr': 'tcp://0.0.0.0:64059', 'in_memory': True}",
          "name": "engine.logs:CustMercTS_1",
          "pathname": "/usr/local/lib/python3.7/dist-packages/razor/flow/async_executors.py",
          "process": 4081,
          "processName": "ForkProcess-1:2",
          "thread": 140164243511104,
          "threadName": "MainThread"
         },
         {
          "asctime": "2021-03-26 11:53:59,565",
          "created": 1616759639.565588,
          "extra": {},
          "filename": "async_executors.py",
          "funcName": "start_output_sender",
          "levelname": "DEBUG",
          "lineno": 378,
          "message": "CustMercTS_1: got start_sender, customer_ts, ('SparkConcat_1', 'df1')",
          "name": "engine.logs:CustMercTS_1",
          "pathname": "/usr/local/lib/python3.7/dist-packages/razor/flow/async_executors.py",
          "process": 4081,
          "processName": "ForkProcess-1:2",
          "thread": 140164243511104,
          "threadName": "MainThread"
         },
         {
          "asctime": "2021-03-26 11:53:59,566",
          "created": 1616759639.566459,
          "extra": {},
          "filename": "async_executors.py",
          "funcName": "start_output_sender",
          "levelname": "DEBUG",
          "lineno": 383,
          "message": "CustMercTS_1: SENT, df1, DataFrame[transaction_id: string, time: timestamp, customer_name: string, card_number: string, last_one_hour_total_customer_transaction_sum: int, last_one_hour_total_customer_transaction_count: int, last_one_hour_total_customer_transaction_max: int, last_one_hour_total_customer_transaction_avg: float, last_six_hours_total_customer_transaction_sum: int, last_six_hours_total_customer_transaction_count: int, last_six_hours_total_customer_transaction_max: int, last_six_hours_total_customer_transaction_avg: float, last_twelve_hours_total_customer_transaction_sum: int, last_twelve_hours_total_customer_transaction_count: int, last_twelve_hours_total_customer_transaction_max: int, last_twelve_hours_total_customer_transaction_avg: float, last_twenty_four_hours_total_customer_transaction_sum: int, last_twenty_four_hours_total_customer_transaction_count: int, last_twenty_four_hours_total_customer_transaction_max: int, last_twenty_four_hours_total_customer_transaction_avg: float, last_three_days_total_customer_transaction_sum: int, last_three_days_total_customer_transaction_count: int, last_three_days_total_customer_transaction_max: int, last_three_days_total_customer_transaction_avg: float, last_one_week_total_customer_transaction_sum: int, last_one_week_total_customer_transaction_count: int, last_one_week_total_customer_transaction_max: int, last_one_week_total_customer_transaction_avg: float, last_two_week_total_customer_transaction_sum: int, last_two_week_total_customer_transaction_count: int, last_two_week_total_customer_transaction_max: int, last_two_week_total_customer_transaction_avg: float, last_one_month_total_customer_transaction_sum: int, last_one_month_total_customer_transaction_count: int, last_one_month_total_customer_transaction_max: int, last_one_month_total_customer_transaction_avg: float], ('SparkConcat_1', 'df1')",
          "name": "engine.logs:CustMercTS_1",
          "pathname": "/usr/local/lib/python3.7/dist-packages/razor/flow/async_executors.py",
          "process": 4081,
          "processName": "ForkProcess-1:2",
          "thread": 140164243511104,
          "threadName": "MainThread"
         },
         {
          "asctime": "2021-03-26 11:53:59,566",
          "created": 1616759639.5666285,
          "extra": {},
          "filename": "async_executors.py",
          "funcName": "start_output_sender",
          "levelname": "DEBUG",
          "lineno": 383,
          "message": "CustMercTS_1: SENT, df1, b'__!\\tEndOfStream\\t!__', ('SparkConcat_1', 'df1')",
          "name": "engine.logs:CustMercTS_1",
          "pathname": "/usr/local/lib/python3.7/dist-packages/razor/flow/async_executors.py",
          "process": 4081,
          "processName": "ForkProcess-1:2",
          "thread": 140164243511104,
          "threadName": "MainThread"
         },
         {
          "asctime": "2021-03-26 11:53:59,569",
          "created": 1616759639.569024,
          "extra": {},
          "filename": "async_executors.py",
          "funcName": "fill_atomic_inputs",
          "levelname": "DEBUG",
          "lineno": 254,
          "message": "SparkConcat_1: got atomic input: DataFrame[transaction_id: string, time: timestamp, customer_name: string, card_number: string, last_one_hour_total_customer_transaction_sum: int, last_one_hour_total_customer_transaction_count: int, last_one_hour_total_customer_transaction_max: int, last_one_hour_total_customer_transaction_avg: float, last_six_hours_total_customer_transaction_sum: int, last_six_hours_total_customer_transaction_count: int, last_six_hours_total_customer_transaction_max: int, last_six_hours_total_customer_transaction_avg: float, last_twelve_hours_total_customer_transaction_sum: int, last_twelve_hours_total_customer_transaction_count: int, last_twelve_hours_total_customer_transaction_max: int, last_twelve_hours_total_customer_transaction_avg: float, last_twenty_four_hours_total_customer_transaction_sum: int, last_twenty_four_hours_total_customer_transaction_count: int, last_twenty_four_hours_total_customer_transaction_max: int, last_twenty_four_hours_total_customer_transaction_avg: float, last_three_days_total_customer_transaction_sum: int, last_three_days_total_customer_transaction_count: int, last_three_days_total_customer_transaction_max: int, last_three_days_total_customer_transaction_avg: float, last_one_week_total_customer_transaction_sum: int, last_one_week_total_customer_transaction_count: int, last_one_week_total_customer_transaction_max: int, last_one_week_total_customer_transaction_avg: float, last_two_week_total_customer_transaction_sum: int, last_two_week_total_customer_transaction_count: int, last_two_week_total_customer_transaction_max: int, last_two_week_total_customer_transaction_avg: float, last_one_month_total_customer_transaction_sum: int, last_one_month_total_customer_transaction_count: int, last_one_month_total_customer_transaction_max: int, last_one_month_total_customer_transaction_avg: float]",
          "name": "engine.logs:SparkConcat_1",
          "pathname": "/usr/local/lib/python3.7/dist-packages/razor/flow/async_executors.py",
          "process": 4081,
          "processName": "ForkProcess-1:2",
          "thread": 140164243511104,
          "threadName": "MainThread"
         },
         {
          "asctime": "2021-03-26 11:53:59,566",
          "created": 1616759639.5666845,
          "extra": {},
          "filename": "async_executors.py",
          "funcName": "start_output_sender",
          "levelname": "DEBUG",
          "lineno": 387,
          "message": "CustMercTS_1: completed output: ('customer_ts', ('SparkConcat_1', 'df1'))",
          "name": "engine.logs:CustMercTS_1",
          "pathname": "/usr/local/lib/python3.7/dist-packages/razor/flow/async_executors.py",
          "process": 4081,
          "processName": "ForkProcess-1:2",
          "thread": 140164243511104,
          "threadName": "MainThread"
         },
         {
          "asctime": "2021-03-26 11:53:59,569",
          "created": 1616759639.5691679,
          "extra": {},
          "filename": "async_executors.py",
          "funcName": "fill_atomic_inputs",
          "levelname": "INFO",
          "lineno": 251,
          "message": "SparkConcat_1: waiting for atomic input: df2",
          "name": "engine.logs:SparkConcat_1",
          "pathname": "/usr/local/lib/python3.7/dist-packages/razor/flow/async_executors.py",
          "process": 4081,
          "processName": "ForkProcess-1:2",
          "thread": 140164243511104,
          "threadName": "MainThread"
         },
         {
          "asctime": "2021-03-26 11:53:59,571",
          "created": 1616759639.5718968,
          "extra": {},
          "filename": "async_executors.py",
          "funcName": "start_input_receiver",
          "levelname": "DEBUG",
          "lineno": 174,
          "message": "CustMercTS_1: received cmd: start_sender, (), {'out_name': 'merchant_ts', 'target': ('SparkConcat_2', 'df1'), 'out_addr': 'tcp://0.0.0.0:57497', 'in_memory': True}",
          "name": "engine.logs:CustMercTS_1",
          "pathname": "/usr/local/lib/python3.7/dist-packages/razor/flow/async_executors.py",
          "process": 4081,
          "processName": "ForkProcess-1:2",
          "thread": 140164243511104,
          "threadName": "MainThread"
         },
         {
          "asctime": "2021-03-26 11:53:59,569",
          "created": 1616759639.5696306,
          "extra": {},
          "filename": "async_executors.py",
          "funcName": "fill_atomic_inputs",
          "levelname": "DEBUG",
          "lineno": 254,
          "message": "SparkConcat_1: got atomic input: DataFrame[customer_name: string, card_number: string, card_type: string]",
          "name": "engine.logs:SparkConcat_1",
          "pathname": "/usr/local/lib/python3.7/dist-packages/razor/flow/async_executors.py",
          "process": 4081,
          "processName": "ForkProcess-1:2",
          "thread": 140164243511104,
          "threadName": "MainThread"
         },
         {
          "asctime": "2021-03-26 11:53:59,573",
          "created": 1616759639.573225,
          "extra": {},
          "filename": "async_executors.py",
          "funcName": "start_output_sender",
          "levelname": "DEBUG",
          "lineno": 378,
          "message": "CustMercTS_1: got start_sender, merchant_ts, ('SparkConcat_2', 'df1')",
          "name": "engine.logs:CustMercTS_1",
          "pathname": "/usr/local/lib/python3.7/dist-packages/razor/flow/async_executors.py",
          "process": 4081,
          "processName": "ForkProcess-1:2",
          "thread": 140164243511104,
          "threadName": "MainThread"
         },
         {
          "asctime": "2021-03-26 11:53:59,569",
          "created": 1616759639.5697331,
          "extra": {},
          "filename": "async_executors.py",
          "funcName": "fill_atomic_inputs",
          "levelname": "INFO",
          "lineno": 251,
          "message": "SparkConcat_1: waiting for atomic input: cols",
          "name": "engine.logs:SparkConcat_1",
          "pathname": "/usr/local/lib/python3.7/dist-packages/razor/flow/async_executors.py",
          "process": 4081,
          "processName": "ForkProcess-1:2",
          "thread": 140164243511104,
          "threadName": "MainThread"
         },
         {
          "asctime": "2021-03-26 11:53:59,574",
          "created": 1616759639.574575,
          "extra": {},
          "filename": "async_executors.py",
          "funcName": "start_output_sender",
          "levelname": "DEBUG",
          "lineno": 383,
          "message": "CustMercTS_1: SENT, df1, DataFrame[transaction_id: string, merchant_id: string, merchant_city: string, merchant_state: string, last_one_hour_total_merchant_transaction_sum: int, last_one_hour_total_merchant_transaction_count: int, last_one_hour_total_merchant_transaction_max: int, last_one_hour_total_merchant_transaction_avg: float, last_six_hour_total_merchant_transaction_sum: int, last_six_hour_total_merchant_transaction_count: int, last_six_hour_total_merchant_transaction_max: int, last_six_hour_total_merchant_transaction_avg: float, last_twelve_hour_total_merchant_transaction_sum: int, last_twelve_hour_total_merchant_transaction_count: int, last_twelve_hour_total_merchant_transaction_max: int, last_twelve_hour_total_merchant_transaction_avg: float, last_twenty_four_hour_total_merchant_transaction_sum: int, last_twenty_four_hour_total_merchant_transaction_count: int, last_twenty_four_hour_total_merchant_transaction_max: int, last_twenty_four_hour_total_merchant_transaction_avg: float, last_three_days_total_merchant_transaction_sum: int, last_three_days_total_merchant_transaction_count: int, last_three_days_total_merchant_transaction_max: int, last_three_days_total_merchant_transaction_avg: float], ('SparkConcat_2', 'df1')",
          "name": "engine.logs:CustMercTS_1",
          "pathname": "/usr/local/lib/python3.7/dist-packages/razor/flow/async_executors.py",
          "process": 4081,
          "processName": "ForkProcess-1:2",
          "thread": 140164243511104,
          "threadName": "MainThread"
         },
         {
          "asctime": "2021-03-26 11:53:59,569",
          "created": 1616759639.5698142,
          "extra": {},
          "filename": "async_executors.py",
          "funcName": "fill_atomic_inputs",
          "levelname": "DEBUG",
          "lineno": 254,
          "message": "SparkConcat_1: got atomic input: ['card_number', 'customer_name']",
          "name": "engine.logs:SparkConcat_1",
          "pathname": "/usr/local/lib/python3.7/dist-packages/razor/flow/async_executors.py",
          "process": 4081,
          "processName": "ForkProcess-1:2",
          "thread": 140164243511104,
          "threadName": "MainThread"
         },
         {
          "asctime": "2021-03-26 11:53:59,574",
          "created": 1616759639.5747151,
          "extra": {},
          "filename": "async_executors.py",
          "funcName": "start_output_sender",
          "levelname": "DEBUG",
          "lineno": 383,
          "message": "CustMercTS_1: SENT, df1, b'__!\\tEndOfStream\\t!__', ('SparkConcat_2', 'df1')",
          "name": "engine.logs:CustMercTS_1",
          "pathname": "/usr/local/lib/python3.7/dist-packages/razor/flow/async_executors.py",
          "process": 4081,
          "processName": "ForkProcess-1:2",
          "thread": 140164243511104,
          "threadName": "MainThread"
         },
         {
          "asctime": "2021-03-26 11:53:59,569",
          "created": 1616759639.5698588,
          "extra": {},
          "filename": "async_executors.py",
          "funcName": "fill_atomic_inputs",
          "levelname": "INFO",
          "lineno": 251,
          "message": "SparkConcat_1: waiting for atomic input: config",
          "name": "engine.logs:SparkConcat_1",
          "pathname": "/usr/local/lib/python3.7/dist-packages/razor/flow/async_executors.py",
          "process": 4081,
          "processName": "ForkProcess-1:2",
          "thread": 140164243511104,
          "threadName": "MainThread"
         },
         {
          "asctime": "2021-03-26 11:53:59,577",
          "created": 1616759639.5777278,
          "extra": {},
          "filename": "async_executors.py",
          "funcName": "fill_atomic_inputs",
          "levelname": "DEBUG",
          "lineno": 254,
          "message": "SparkConcat_2: got atomic input: DataFrame[transaction_id: string, merchant_id: string, merchant_city: string, merchant_state: string, last_one_hour_total_merchant_transaction_sum: int, last_one_hour_total_merchant_transaction_count: int, last_one_hour_total_merchant_transaction_max: int, last_one_hour_total_merchant_transaction_avg: float, last_six_hour_total_merchant_transaction_sum: int, last_six_hour_total_merchant_transaction_count: int, last_six_hour_total_merchant_transaction_max: int, last_six_hour_total_merchant_transaction_avg: float, last_twelve_hour_total_merchant_transaction_sum: int, last_twelve_hour_total_merchant_transaction_count: int, last_twelve_hour_total_merchant_transaction_max: int, last_twelve_hour_total_merchant_transaction_avg: float, last_twenty_four_hour_total_merchant_transaction_sum: int, last_twenty_four_hour_total_merchant_transaction_count: int, last_twenty_four_hour_total_merchant_transaction_max: int, last_twenty_four_hour_total_merchant_transaction_avg: float, last_three_days_total_merchant_transaction_sum: int, last_three_days_total_merchant_transaction_count: int, last_three_days_total_merchant_transaction_max: int, last_three_days_total_merchant_transaction_avg: float]",
          "name": "engine.logs:SparkConcat_2",
          "pathname": "/usr/local/lib/python3.7/dist-packages/razor/flow/async_executors.py",
          "process": 4081,
          "processName": "ForkProcess-1:2",
          "thread": 140164243511104,
          "threadName": "MainThread"
         },
         {
          "asctime": "2021-03-26 11:53:59,569",
          "created": 1616759639.5699027,
          "extra": {},
          "filename": "async_executors.py",
          "funcName": "fill_atomic_inputs",
          "levelname": "DEBUG",
          "lineno": 254,
          "message": "SparkConcat_1: got atomic input: {}",
          "name": "engine.logs:SparkConcat_1",
          "pathname": "/usr/local/lib/python3.7/dist-packages/razor/flow/async_executors.py",
          "process": 4081,
          "processName": "ForkProcess-1:2",
          "thread": 140164243511104,
          "threadName": "MainThread"
         },
         {
          "asctime": "2021-03-26 11:53:59,574",
          "created": 1616759639.5747705,
          "extra": {},
          "filename": "async_executors.py",
          "funcName": "start_output_sender",
          "levelname": "DEBUG",
          "lineno": 387,
          "message": "CustMercTS_1: completed output: ('merchant_ts', ('SparkConcat_2', 'df1'))",
          "name": "engine.logs:CustMercTS_1",
          "pathname": "/usr/local/lib/python3.7/dist-packages/razor/flow/async_executors.py",
          "process": 4081,
          "processName": "ForkProcess-1:2",
          "thread": 140164243511104,
          "threadName": "MainThread"
         },
         {
          "asctime": "2021-03-26 11:53:59,577",
          "created": 1616759639.5778878,
          "extra": {},
          "filename": "async_executors.py",
          "funcName": "fill_atomic_inputs",
          "levelname": "INFO",
          "lineno": 251,
          "message": "SparkConcat_2: waiting for atomic input: df2",
          "name": "engine.logs:SparkConcat_2",
          "pathname": "/usr/local/lib/python3.7/dist-packages/razor/flow/async_executors.py",
          "process": 4081,
          "processName": "ForkProcess-1:2",
          "thread": 140164243511104,
          "threadName": "MainThread"
         },
         {
          "asctime": "2021-03-26 11:53:59,569",
          "created": 1616759639.569969,
          "extra": {},
          "filename": "async_executors.py",
          "funcName": "fill_atomic_inputs",
          "levelname": "INFO",
          "lineno": 251,
          "message": "SparkConcat_1: waiting for atomic input: source",
          "name": "engine.logs:SparkConcat_1",
          "pathname": "/usr/local/lib/python3.7/dist-packages/razor/flow/async_executors.py",
          "process": 4081,
          "processName": "ForkProcess-1:2",
          "thread": 140164243511104,
          "threadName": "MainThread"
         },
         {
          "asctime": "2021-03-26 11:53:59,578",
          "created": 1616759639.5784183,
          "extra": {},
          "filename": "async_executors.py",
          "funcName": "fill_atomic_inputs",
          "levelname": "DEBUG",
          "lineno": 254,
          "message": "SparkConcat_2: got atomic input: DataFrame[merchant_id: string, merchant_city: string, merchant_state: string, list_of_product: array<string>]",
          "name": "engine.logs:SparkConcat_2",
          "pathname": "/usr/local/lib/python3.7/dist-packages/razor/flow/async_executors.py",
          "process": 4081,
          "processName": "ForkProcess-1:2",
          "thread": 140164243511104,
          "threadName": "MainThread"
         },
         {
          "asctime": "2021-03-26 11:53:59,578",
          "created": 1616759639.5785573,
          "extra": {},
          "filename": "async_executors.py",
          "funcName": "fill_atomic_inputs",
          "levelname": "INFO",
          "lineno": 251,
          "message": "SparkConcat_2: waiting for atomic input: cols",
          "name": "engine.logs:SparkConcat_2",
          "pathname": "/usr/local/lib/python3.7/dist-packages/razor/flow/async_executors.py",
          "process": 4081,
          "processName": "ForkProcess-1:2",
          "thread": 140164243511104,
          "threadName": "MainThread"
         },
         {
          "asctime": "2021-03-26 11:53:59,582",
          "created": 1616759639.5823333,
          "extra": {},
          "filename": "async_executors.py",
          "funcName": "start_input_receiver",
          "levelname": "DEBUG",
          "lineno": 174,
          "message": "CustMercTS_1: received cmd: terminate, (), {}",
          "name": "engine.logs:CustMercTS_1",
          "pathname": "/usr/local/lib/python3.7/dist-packages/razor/flow/async_executors.py",
          "process": 4081,
          "processName": "ForkProcess-1:2",
          "thread": 140164243511104,
          "threadName": "MainThread"
         },
         {
          "asctime": "2021-03-26 11:53:59,578",
          "created": 1616759639.5786488,
          "extra": {},
          "filename": "async_executors.py",
          "funcName": "fill_atomic_inputs",
          "levelname": "DEBUG",
          "lineno": 254,
          "message": "SparkConcat_2: got atomic input: ['merchant_id', 'merchant_city', 'merchant_state']",
          "name": "engine.logs:SparkConcat_2",
          "pathname": "/usr/local/lib/python3.7/dist-packages/razor/flow/async_executors.py",
          "process": 4081,
          "processName": "ForkProcess-1:2",
          "thread": 140164243511104,
          "threadName": "MainThread"
         },
         {
          "asctime": "2021-03-26 11:53:59,570",
          "created": 1616759639.5700111,
          "extra": {},
          "filename": "async_executors.py",
          "funcName": "fill_atomic_inputs",
          "levelname": "DEBUG",
          "lineno": 254,
          "message": "SparkConcat_1: got atomic input: ",
          "name": "engine.logs:SparkConcat_1",
          "pathname": "/usr/local/lib/python3.7/dist-packages/razor/flow/async_executors.py",
          "process": 4081,
          "processName": "ForkProcess-1:2",
          "thread": 140164243511104,
          "threadName": "MainThread"
         },
         {
          "asctime": "2021-03-26 11:53:59,578",
          "created": 1616759639.5787067,
          "extra": {},
          "filename": "async_executors.py",
          "funcName": "fill_atomic_inputs",
          "levelname": "INFO",
          "lineno": 251,
          "message": "SparkConcat_2: waiting for atomic input: config",
          "name": "engine.logs:SparkConcat_2",
          "pathname": "/usr/local/lib/python3.7/dist-packages/razor/flow/async_executors.py",
          "process": 4081,
          "processName": "ForkProcess-1:2",
          "thread": 140164243511104,
          "threadName": "MainThread"
         },
         {
          "asctime": "2021-03-26 11:53:59,570",
          "created": 1616759639.5700653,
          "extra": {},
          "filename": "async_executors.py",
          "funcName": "main",
          "levelname": "DEBUG",
          "lineno": 130,
          "message": "SparkConcat_1: triggering block run",
          "name": "engine.logs:SparkConcat_1",
          "pathname": "/usr/local/lib/python3.7/dist-packages/razor/flow/async_executors.py",
          "process": 4081,
          "processName": "ForkProcess-1:2",
          "thread": 140164243511104,
          "threadName": "MainThread"
         },
         {
          "asctime": "2021-03-26 11:53:59,571",
          "created": 1616759639.5713315,
          "extra": {},
          "filename": "async_executors.py",
          "funcName": "main",
          "levelname": "DEBUG",
          "lineno": 136,
          "message": "SparkConcat_1: waiting for block to finish",
          "name": "engine.logs:SparkConcat_1",
          "pathname": "/usr/local/lib/python3.7/dist-packages/razor/flow/async_executors.py",
          "process": 4081,
          "processName": "ForkProcess-1:2",
          "thread": 140164243511104,
          "threadName": "MainThread"
         },
         {
          "asctime": "2021-03-26 11:53:59,578",
          "created": 1616759639.578771,
          "extra": {},
          "filename": "async_executors.py",
          "funcName": "fill_atomic_inputs",
          "levelname": "DEBUG",
          "lineno": 254,
          "message": "SparkConcat_2: got atomic input: {}",
          "name": "engine.logs:SparkConcat_2",
          "pathname": "/usr/local/lib/python3.7/dist-packages/razor/flow/async_executors.py",
          "process": 4081,
          "processName": "ForkProcess-1:2",
          "thread": 140164243511104,
          "threadName": "MainThread"
         },
         {
          "asctime": "2021-03-26 11:53:59,578",
          "created": 1616759639.5788367,
          "extra": {},
          "filename": "async_executors.py",
          "funcName": "fill_atomic_inputs",
          "levelname": "INFO",
          "lineno": 251,
          "message": "SparkConcat_2: waiting for atomic input: source",
          "name": "engine.logs:SparkConcat_2",
          "pathname": "/usr/local/lib/python3.7/dist-packages/razor/flow/async_executors.py",
          "process": 4081,
          "processName": "ForkProcess-1:2",
          "thread": 140164243511104,
          "threadName": "MainThread"
         },
         {
          "asctime": "2021-03-26 11:53:59,578",
          "created": 1616759639.5788963,
          "extra": {},
          "filename": "async_executors.py",
          "funcName": "fill_atomic_inputs",
          "levelname": "DEBUG",
          "lineno": 254,
          "message": "SparkConcat_2: got atomic input: ",
          "name": "engine.logs:SparkConcat_2",
          "pathname": "/usr/local/lib/python3.7/dist-packages/razor/flow/async_executors.py",
          "process": 4081,
          "processName": "ForkProcess-1:2",
          "thread": 140164243511104,
          "threadName": "MainThread"
         },
         {
          "asctime": "2021-03-26 11:53:59,578",
          "created": 1616759639.578999,
          "extra": {},
          "filename": "async_executors.py",
          "funcName": "main",
          "levelname": "DEBUG",
          "lineno": 130,
          "message": "SparkConcat_2: triggering block run",
          "name": "engine.logs:SparkConcat_2",
          "pathname": "/usr/local/lib/python3.7/dist-packages/razor/flow/async_executors.py",
          "process": 4081,
          "processName": "ForkProcess-1:2",
          "thread": 140164243511104,
          "threadName": "MainThread"
         },
         {
          "asctime": "2021-03-26 11:53:59,580",
          "created": 1616759639.5801096,
          "extra": {},
          "filename": "async_executors.py",
          "funcName": "main",
          "levelname": "DEBUG",
          "lineno": 136,
          "message": "SparkConcat_2: waiting for block to finish",
          "name": "engine.logs:SparkConcat_2",
          "pathname": "/usr/local/lib/python3.7/dist-packages/razor/flow/async_executors.py",
          "process": 4081,
          "processName": "ForkProcess-1:2",
          "thread": 140164243511104,
          "threadName": "MainThread"
         },
         {
          "asctime": "2021-03-26 11:53:59,749",
          "created": 1616759639.7495613,
          "extra": {},
          "filename": "async_executors.py",
          "funcName": "main",
          "levelname": "DEBUG",
          "lineno": 147,
          "message": "SparkConcat_1: block thread completed",
          "name": "engine.logs:SparkConcat_1",
          "pathname": "/usr/local/lib/python3.7/dist-packages/razor/flow/async_executors.py",
          "process": 4081,
          "processName": "ForkProcess-1:2",
          "thread": 140164243511104,
          "threadName": "MainThread"
         },
         {
          "asctime": "2021-03-26 11:53:59,749",
          "created": 1616759639.749801,
          "extra": {},
          "filename": "async_executors.py",
          "funcName": "main",
          "levelname": "DEBUG",
          "lineno": 149,
          "message": "SparkConcat_1: block execution complete",
          "name": "engine.logs:SparkConcat_1",
          "pathname": "/usr/local/lib/python3.7/dist-packages/razor/flow/async_executors.py",
          "process": 4081,
          "processName": "ForkProcess-1:2",
          "thread": 140164243511104,
          "threadName": "MainThread"
         },
         {
          "asctime": "2021-03-26 11:53:59,756",
          "created": 1616759639.756006,
          "extra": {},
          "filename": "async_executors.py",
          "funcName": "start_input_receiver",
          "levelname": "DEBUG",
          "lineno": 174,
          "message": "SparkConcat_1: received cmd: terminate, (), {}",
          "name": "engine.logs:SparkConcat_1",
          "pathname": "/usr/local/lib/python3.7/dist-packages/razor/flow/async_executors.py",
          "process": 4081,
          "processName": "ForkProcess-1:2",
          "thread": 140164243511104,
          "threadName": "MainThread"
         },
         {
          "asctime": "2021-03-26 11:53:59,848",
          "created": 1616759639.8488095,
          "extra": {},
          "filename": "streams.py",
          "funcName": "flush",
          "levelname": "INFO",
          "lineno": 30,
          "message": "",
          "name": "block.stdout:SparkConcat_2",
          "pathname": "/usr/local/lib/python3.7/dist-packages/razor/flow/streams.py",
          "process": 4081,
          "processName": "ForkProcess-1:2",
          "thread": 140160486340352,
          "threadName": "ThreadPoolExecutor-0_5"
         },
         {
          "asctime": "2021-03-26 11:53:59,849",
          "created": 1616759639.8490686,
          "extra": {},
          "filename": "streams.py",
          "funcName": "flush",
          "levelname": "Level 1",
          "lineno": 30,
          "message": "",
          "name": "block.stderr:SparkConcat_2",
          "pathname": "/usr/local/lib/python3.7/dist-packages/razor/flow/streams.py",
          "process": 4081,
          "processName": "ForkProcess-1:2",
          "thread": 140160486340352,
          "threadName": "ThreadPoolExecutor-0_5"
         },
         {
          "asctime": "2021-03-26 11:53:59,904",
          "created": 1616759639.904097,
          "extra": {},
          "filename": "async_executors.py",
          "funcName": "main",
          "levelname": "DEBUG",
          "lineno": 147,
          "message": "SparkConcat_2: block thread completed",
          "name": "engine.logs:SparkConcat_2",
          "pathname": "/usr/local/lib/python3.7/dist-packages/razor/flow/async_executors.py",
          "process": 4081,
          "processName": "ForkProcess-1:2",
          "thread": 140164243511104,
          "threadName": "MainThread"
         },
         {
          "asctime": "2021-03-26 11:53:59,904",
          "created": 1616759639.904252,
          "extra": {},
          "filename": "async_executors.py",
          "funcName": "main",
          "levelname": "DEBUG",
          "lineno": 149,
          "message": "SparkConcat_2: block execution complete",
          "name": "engine.logs:SparkConcat_2",
          "pathname": "/usr/local/lib/python3.7/dist-packages/razor/flow/async_executors.py",
          "process": 4081,
          "processName": "ForkProcess-1:2",
          "thread": 140164243511104,
          "threadName": "MainThread"
         }
        ],
        "meta": {
         "block_status": {
          "CustMercTS_1": "SUCCESS",
          "CustStatic_1": "SUCCESS",
          "MercStatic_1": "SUCCESS",
          "NonSparkPath_1": "SUCCESS",
          "ProdTypeTS_1": "SUCCESS",
          "ReadCsvProjectSpace_1": "SUCCESS",
          "SparkConcat_1": "SUCCESS",
          "SparkConcat_2": "SUCCESS",
          "TranCityTS_1": "SUCCESS",
          "TranTypeTS_1": "SUCCESS"
         },
         "blocks": [
          {
           "class_name": "ProdTypeTS",
           "fullname": "razor.project.blocks.ayan_spark_blocks.ProdTypeTS",
           "id": "ddea124a-a3b9-477e-9cce-5f7a6ce42aec",
           "inputs": [
            {
             "dataType": null,
             "default": null,
             "flow": "atomic",
             "help": null,
             "isdict": false,
             "islist": false,
             "label": "ip_data",
             "meta": {},
             "name": "ip_data",
             "series": false,
             "type": "DataFrame",
             "type_check": true
            },
            {
             "dataType": "dict",
             "default": {},
             "flow": "atomic",
             "help": null,
             "isdict": false,
             "islist": false,
             "label": "config",
             "meta": {},
             "name": "config",
             "series": false,
             "type": "dict",
             "type_check": true
            },
            {
             "dataType": "string",
             "default": "",
             "flow": "atomic",
             "help": null,
             "isdict": false,
             "islist": false,
             "label": "source",
             "meta": {},
             "name": "source",
             "series": false,
             "type": "str",
             "type_check": true
            }
           ],
           "outputs": [
            {
             "flow": "atomic",
             "help": null,
             "label": "prod_type_ts",
             "meta": {},
             "name": "prod_type_ts",
             "series": false,
             "type": "DataFrame",
             "type_check": true
            }
           ],
           "overwritten": false,
           "published": true,
           "var_names": [
            "ProdTypeTS"
           ]
          },
          {
           "class_name": "MercStatic",
           "fullname": "razor.project.blocks.ayan_spark_blocks.MercStatic",
           "id": "d32a16bd-3126-40fb-84c0-2642326e56a5",
           "inputs": [
            {
             "dataType": null,
             "default": null,
             "flow": "atomic",
             "help": null,
             "isdict": false,
             "islist": false,
             "label": "ip_data",
             "meta": {},
             "name": "ip_data",
             "series": false,
             "type": "DataFrame",
             "type_check": true
            },
            {
             "dataType": "dict",
             "default": {},
             "flow": "atomic",
             "help": null,
             "isdict": false,
             "islist": false,
             "label": "config",
             "meta": {},
             "name": "config",
             "series": false,
             "type": "dict",
             "type_check": true
            },
            {
             "dataType": "string",
             "default": "",
             "flow": "atomic",
             "help": null,
             "isdict": false,
             "islist": false,
             "label": "source",
             "meta": {},
             "name": "source",
             "series": false,
             "type": "str",
             "type_check": true
            }
           ],
           "outputs": [
            {
             "flow": "atomic",
             "help": null,
             "label": "merchant_static",
             "meta": {},
             "name": "merchant_static",
             "series": false,
             "type": "DataFrame",
             "type_check": true
            }
           ],
           "overwritten": false,
           "published": true,
           "var_names": [
            "MercStatic"
           ]
          },
          {
           "class_name": "NonSparkPath",
           "fullname": "razor.project.blocks.ayan_spark_blocks.NonSparkPath",
           "id": "40f11a17-4c17-4ccb-8c66-7197bbacd6d9",
           "inputs": [
            {
             "dataType": "string",
             "default": "",
             "flow": "atomic",
             "help": null,
             "isdict": false,
             "islist": false,
             "label": "ip_path",
             "meta": {},
             "name": "ip_path",
             "series": false,
             "type": "str",
             "type_check": true
            }
           ],
           "outputs": [
            {
             "flow": "atomic",
             "help": null,
             "label": "op_path",
             "meta": {},
             "name": "op_path",
             "series": false,
             "type": "str",
             "type_check": true
            }
           ],
           "overwritten": false,
           "published": true,
           "var_names": [
            "NonSparkPath"
           ]
          },
          {
           "class_name": "SparkConcat",
           "fullname": "razor.project.blocks.ayan_spark_blocks.SparkConcat",
           "id": "9f461516-593b-460f-b646-0a4590e344d3",
           "inputs": [
            {
             "dataType": null,
             "default": null,
             "flow": "atomic",
             "help": null,
             "isdict": false,
             "islist": false,
             "label": "df1",
             "meta": {},
             "name": "df1",
             "series": false,
             "type": "DataFrame",
             "type_check": true
            },
            {
             "dataType": null,
             "default": null,
             "flow": "atomic",
             "help": null,
             "isdict": false,
             "islist": false,
             "label": "df2",
             "meta": {},
             "name": "df2",
             "series": false,
             "type": "DataFrame",
             "type_check": true
            },
            {
             "dataType": "list",
             "default": [],
             "flow": "atomic",
             "help": null,
             "isdict": false,
             "islist": false,
             "label": "cols",
             "meta": {},
             "name": "cols",
             "series": false,
             "type": "list",
             "type_check": true
            },
            {
             "dataType": "dict",
             "default": {},
             "flow": "atomic",
             "help": null,
             "isdict": false,
             "islist": false,
             "label": "config",
             "meta": {},
             "name": "config",
             "series": false,
             "type": "dict",
             "type_check": true
            },
            {
             "dataType": "string",
             "default": "",
             "flow": "atomic",
             "help": null,
             "isdict": false,
             "islist": false,
             "label": "source",
             "meta": {},
             "name": "source",
             "series": false,
             "type": "str",
             "type_check": true
            }
           ],
           "outputs": [
            {
             "flow": "atomic",
             "help": null,
             "label": "op_df",
             "meta": {},
             "name": "op_df",
             "series": false,
             "type": "DataFrame",
             "type_check": true
            }
           ],
           "overwritten": false,
           "published": true,
           "var_names": [
            "SparkConcat"
           ]
          },
          {
           "class_name": "ReadCsvProjectSpace",
           "fullname": "razor.project.blocks.ayan_spark_blocks.ReadCsvProjectSpace",
           "id": "e49699bc-1992-4fd1-9cc7-d95f2bfc3da0",
           "inputs": [
            {
             "dataType": "string",
             "default": "",
             "flow": "atomic",
             "help": null,
             "isdict": false,
             "islist": false,
             "label": "filename",
             "meta": {},
             "name": "filename",
             "series": false,
             "type": "str",
             "type_check": true
            },
            {
             "dataType": "dict",
             "default": {},
             "flow": "atomic",
             "help": null,
             "isdict": false,
             "islist": false,
             "label": "config",
             "meta": {},
             "name": "config",
             "series": false,
             "type": "dict",
             "type_check": true
            },
            {
             "dataType": "string",
             "default": "",
             "flow": "atomic",
             "help": null,
             "isdict": false,
             "islist": false,
             "label": "source",
             "meta": {},
             "name": "source",
             "series": false,
             "type": "str",
             "type_check": true
            }
           ],
           "outputs": [
            {
             "flow": "atomic",
             "help": null,
             "label": "data",
             "meta": {},
             "name": "data",
             "series": false,
             "type": "DataFrame",
             "type_check": true
            }
           ],
           "overwritten": false,
           "published": true,
           "var_names": [
            "ReadCsvProjectSpace"
           ]
          },
          {
           "class_name": "TranTypeTS",
           "fullname": "razor.project.blocks.ayan_spark_blocks.TranTypeTS",
           "id": "4e47556d-83b9-4136-8666-693982d29e60",
           "inputs": [
            {
             "dataType": null,
             "default": null,
             "flow": "atomic",
             "help": null,
             "isdict": false,
             "islist": false,
             "label": "ip_data",
             "meta": {},
             "name": "ip_data",
             "series": false,
             "type": "DataFrame",
             "type_check": true
            },
            {
             "dataType": "dict",
             "default": {},
             "flow": "atomic",
             "help": null,
             "isdict": false,
             "islist": false,
             "label": "config",
             "meta": {},
             "name": "config",
             "series": false,
             "type": "dict",
             "type_check": true
            },
            {
             "dataType": "string",
             "default": "",
             "flow": "atomic",
             "help": null,
             "isdict": false,
             "islist": false,
             "label": "source",
             "meta": {},
             "name": "source",
             "series": false,
             "type": "str",
             "type_check": true
            }
           ],
           "outputs": [
            {
             "flow": "atomic",
             "help": null,
             "label": "tran_type_ts",
             "meta": {},
             "name": "tran_type_ts",
             "series": false,
             "type": "DataFrame",
             "type_check": true
            }
           ],
           "overwritten": false,
           "published": true,
           "var_names": [
            "TranTypeTS"
           ]
          },
          {
           "class_name": "CustStatic",
           "fullname": "razor.project.blocks.ayan_spark_blocks.CustStatic",
           "id": "2187d042-7ea9-48b1-8fac-56131e450954",
           "inputs": [
            {
             "dataType": null,
             "default": null,
             "flow": "atomic",
             "help": null,
             "isdict": false,
             "islist": false,
             "label": "ip_data",
             "meta": {},
             "name": "ip_data",
             "series": false,
             "type": "DataFrame",
             "type_check": true
            },
            {
             "dataType": "dict",
             "default": {},
             "flow": "atomic",
             "help": null,
             "isdict": false,
             "islist": false,
             "label": "config",
             "meta": {},
             "name": "config",
             "series": false,
             "type": "dict",
             "type_check": true
            },
            {
             "dataType": "string",
             "default": "",
             "flow": "atomic",
             "help": null,
             "isdict": false,
             "islist": false,
             "label": "source",
             "meta": {},
             "name": "source",
             "series": false,
             "type": "str",
             "type_check": true
            }
           ],
           "outputs": [
            {
             "flow": "atomic",
             "help": null,
             "label": "customer_static",
             "meta": {},
             "name": "customer_static",
             "series": false,
             "type": "DataFrame",
             "type_check": true
            }
           ],
           "overwritten": false,
           "published": true,
           "var_names": [
            "CustStatic"
           ]
          },
          {
           "class_name": "TranCityTS",
           "fullname": "razor.project.blocks.ayan_spark_blocks.TranCityTS",
           "id": "d956ba0b-3b8d-4e84-b72c-08aa3fa51a8e",
           "inputs": [
            {
             "dataType": null,
             "default": null,
             "flow": "atomic",
             "help": null,
             "isdict": false,
             "islist": false,
             "label": "ip_data",
             "meta": {},
             "name": "ip_data",
             "series": false,
             "type": "DataFrame",
             "type_check": true
            },
            {
             "dataType": "dict",
             "default": {},
             "flow": "atomic",
             "help": null,
             "isdict": false,
             "islist": false,
             "label": "config",
             "meta": {},
             "name": "config",
             "series": false,
             "type": "dict",
             "type_check": true
            },
            {
             "dataType": "string",
             "default": "",
             "flow": "atomic",
             "help": null,
             "isdict": false,
             "islist": false,
             "label": "source",
             "meta": {},
             "name": "source",
             "series": false,
             "type": "str",
             "type_check": true
            }
           ],
           "outputs": [
            {
             "flow": "atomic",
             "help": null,
             "label": "tran_city_ts",
             "meta": {},
             "name": "tran_city_ts",
             "series": false,
             "type": "DataFrame",
             "type_check": true
            }
           ],
           "overwritten": false,
           "published": true,
           "var_names": [
            "TranCityTS"
           ]
          },
          {
           "class_name": "CustMercTS",
           "fullname": "razor.project.blocks.ayan_spark_blocks.CustMercTS",
           "id": "36887bbd-c00b-43b3-b7b9-173f6cd5b5c0",
           "inputs": [
            {
             "dataType": null,
             "default": null,
             "flow": "atomic",
             "help": null,
             "isdict": false,
             "islist": false,
             "label": "ip_data",
             "meta": {},
             "name": "ip_data",
             "series": false,
             "type": "DataFrame",
             "type_check": true
            },
            {
             "dataType": "dict",
             "default": {},
             "flow": "atomic",
             "help": null,
             "isdict": false,
             "islist": false,
             "label": "config",
             "meta": {},
             "name": "config",
             "series": false,
             "type": "dict",
             "type_check": true
            },
            {
             "dataType": "string",
             "default": "",
             "flow": "atomic",
             "help": null,
             "isdict": false,
             "islist": false,
             "label": "source",
             "meta": {},
             "name": "source",
             "series": false,
             "type": "str",
             "type_check": true
            }
           ],
           "outputs": [
            {
             "flow": "atomic",
             "help": null,
             "label": "customer_ts",
             "meta": {},
             "name": "customer_ts",
             "series": false,
             "type": "DataFrame",
             "type_check": true
            },
            {
             "flow": "atomic",
             "help": null,
             "label": "merchant_ts",
             "meta": {},
             "name": "merchant_ts",
             "series": false,
             "type": "DataFrame",
             "type_check": true
            }
           ],
           "overwritten": false,
           "published": true,
           "var_names": [
            "CustMercTS"
           ]
          }
         ],
         "connections": [
          {
           "id": "b77addc6-e241-430d-8dc2-e8a495095f93",
           "source": {
            "adapter": false,
            "instance_id": "3a37e86d-8c97-4417-ac71-c0987f39af9f",
            "name": "customer_static"
           },
           "target": {
            "adapter": false,
            "instance_id": "f272e096-c9cd-4a3b-b30a-eea2166b6cce",
            "name": "df2"
           }
          },
          {
           "id": "09e37e05-a7d2-4d5f-8ab0-b6b3ccd7efb8",
           "source": {
            "adapter": false,
            "instance_id": "79e33ac7-f8b4-43c8-ac20-7970a16a1ba5",
            "name": "data"
           },
           "target": {
            "adapter": false,
            "instance_id": "a2dc4360-9430-4029-8dfe-ff2236a9a393",
            "name": "ip_data"
           }
          },
          {
           "id": "ec480dbe-df56-4ce7-8003-1b705d7124f3",
           "source": {
            "adapter": false,
            "instance_id": "79e33ac7-f8b4-43c8-ac20-7970a16a1ba5",
            "name": "data"
           },
           "target": {
            "adapter": false,
            "instance_id": "979b0daa-3b01-4996-ac13-93a32592ac3a",
            "name": "ip_data"
           }
          },
          {
           "id": "c2d76f60-49c4-4bee-9877-6952305e5939",
           "source": {
            "adapter": false,
            "instance_id": "a2dc4360-9430-4029-8dfe-ff2236a9a393",
            "name": "customer_ts"
           },
           "target": {
            "adapter": false,
            "instance_id": "f272e096-c9cd-4a3b-b30a-eea2166b6cce",
            "name": "df1"
           }
          },
          {
           "id": "f78e7be4-6e12-4653-ae71-74e20c13f53a",
           "source": {
            "adapter": false,
            "instance_id": "79e33ac7-f8b4-43c8-ac20-7970a16a1ba5",
            "name": "data"
           },
           "target": {
            "adapter": false,
            "instance_id": "6fb07de5-65b3-4059-9839-17b9c0950520",
            "name": "ip_data"
           }
          },
          {
           "id": "1194c805-9d28-476e-bf22-523fb3636699",
           "source": {
            "adapter": false,
            "instance_id": "79e33ac7-f8b4-43c8-ac20-7970a16a1ba5",
            "name": "data"
           },
           "target": {
            "adapter": false,
            "instance_id": "a0466655-6321-43b4-a823-70d89ad175a4",
            "name": "ip_data"
           }
          },
          {
           "id": "6fd8d267-c821-4427-a4e6-eb535b548bbc",
           "source": {
            "adapter": false,
            "instance_id": "79e33ac7-f8b4-43c8-ac20-7970a16a1ba5",
            "name": "data"
           },
           "target": {
            "adapter": false,
            "instance_id": "d2d70050-8985-4ee5-a78b-69c95cc2a870",
            "name": "ip_data"
           }
          },
          {
           "id": "1599da3f-4fb9-44a5-ab92-fefb7850b424",
           "source": {
            "adapter": false,
            "instance_id": "d2d70050-8985-4ee5-a78b-69c95cc2a870",
            "name": "merchant_static"
           },
           "target": {
            "adapter": false,
            "instance_id": "136c99f5-2b8c-45d8-aaa2-caa28f5da879",
            "name": "df2"
           }
          },
          {
           "id": "567769af-b9fd-44ca-a00f-242d4ac6fb71",
           "source": {
            "adapter": false,
            "instance_id": "d02807bc-d1fa-4be4-b4af-19bdfb575734",
            "name": "op_path"
           },
           "target": {
            "adapter": false,
            "instance_id": "79e33ac7-f8b4-43c8-ac20-7970a16a1ba5",
            "name": "filename"
           }
          },
          {
           "id": "350b241e-3623-4764-a93f-3e2973a12b4b",
           "source": {
            "adapter": false,
            "instance_id": "79e33ac7-f8b4-43c8-ac20-7970a16a1ba5",
            "name": "data"
           },
           "target": {
            "adapter": false,
            "instance_id": "3a37e86d-8c97-4417-ac71-c0987f39af9f",
            "name": "ip_data"
           }
          },
          {
           "id": "dd656b1a-6468-4d97-968f-e95c50d3246a",
           "source": {
            "adapter": false,
            "instance_id": "a2dc4360-9430-4029-8dfe-ff2236a9a393",
            "name": "merchant_ts"
           },
           "target": {
            "adapter": false,
            "instance_id": "136c99f5-2b8c-45d8-aaa2-caa28f5da879",
            "name": "df1"
           }
          }
         ],
         "end": 1616759639.9497464,
         "id": "3de8d9c5-1eb3-48dd-8f75-a8da9ec85a4e",
         "instances": [
          {
           "block_class": "9f461516-593b-460f-b646-0a4590e344d3",
           "id": "f272e096-c9cd-4a3b-b30a-eea2166b6cce",
           "name": "SparkConcat_1",
           "var_names": [
            "merged_cust"
           ]
          },
          {
           "block_class": "36887bbd-c00b-43b3-b7b9-173f6cd5b5c0",
           "id": "a2dc4360-9430-4029-8dfe-ff2236a9a393",
           "name": "CustMercTS_1",
           "var_names": [
            "cm_ts"
           ]
          },
          {
           "block_class": "e49699bc-1992-4fd1-9cc7-d95f2bfc3da0",
           "id": "79e33ac7-f8b4-43c8-ac20-7970a16a1ba5",
           "name": "ReadCsvProjectSpace_1",
           "var_names": [
            "rcp"
           ]
          },
          {
           "block_class": "40f11a17-4c17-4ccb-8c66-7197bbacd6d9",
           "id": "d02807bc-d1fa-4be4-b4af-19bdfb575734",
           "name": "NonSparkPath_1",
           "var_names": [
            "nsp"
           ]
          },
          {
           "block_class": "2187d042-7ea9-48b1-8fac-56131e450954",
           "id": "3a37e86d-8c97-4417-ac71-c0987f39af9f",
           "name": "CustStatic_1",
           "var_names": [
            "cs"
           ]
          },
          {
           "block_class": "9f461516-593b-460f-b646-0a4590e344d3",
           "id": "136c99f5-2b8c-45d8-aaa2-caa28f5da879",
           "name": "SparkConcat_2",
           "var_names": [
            "merged_merc"
           ]
          },
          {
           "block_class": "d32a16bd-3126-40fb-84c0-2642326e56a5",
           "id": "d2d70050-8985-4ee5-a78b-69c95cc2a870",
           "name": "MercStatic_1",
           "var_names": [
            "ms"
           ]
          },
          {
           "block_class": "ddea124a-a3b9-477e-9cce-5f7a6ce42aec",
           "id": "979b0daa-3b01-4996-ac13-93a32592ac3a",
           "name": "ProdTypeTS_1",
           "var_names": [
            "pt_ts"
           ]
          },
          {
           "block_class": "d956ba0b-3b8d-4e84-b72c-08aa3fa51a8e",
           "id": "a0466655-6321-43b4-a823-70d89ad175a4",
           "name": "TranCityTS_1",
           "var_names": [
            "tc_ts"
           ]
          },
          {
           "block_class": "4e47556d-83b9-4136-8666-693982d29e60",
           "id": "6fb07de5-65b3-4059-9839-17b9c0950520",
           "name": "TranTypeTS_1",
           "var_names": [
            "tt_ts"
           ]
          }
         ],
         "log_level": 20,
         "name": "temp",
         "start": 1616759531.2517555,
         "status": "SUCCESS",
         "system_logs": false,
         "var_names": []
        },
        "metrics": {},
        "runtime": {
         "CustMercTS_1": {
          "end": 1616759639.5775294,
          "load": 1616759531.6203406,
          "start": 1616759531.6725538
         },
         "CustStatic_1": {
          "end": 1616759563.2495577,
          "load": 1616759531.6203406,
          "start": 1616759531.6725538
         },
         "MercStatic_1": {
          "end": 1616759592.3640592,
          "load": 1616759531.6203406,
          "start": 1616759531.6725538
         },
         "NonSparkPath_1": {
          "end": 1616759532.0796845,
          "load": 1616759531.253507,
          "start": 1616759531.2628741
         },
         "ProdTypeTS_1": {
          "end": 1616759581.0648167,
          "load": 1616759531.6203406,
          "start": 1616759531.6725538
         },
         "ReadCsvProjectSpace_1": {
          "end": 1616759559.8608255,
          "load": 1616759531.6203406,
          "start": 1616759531.6725538
         },
         "SparkConcat_1": {
          "end": 1616759639.7538903,
          "load": 1616759531.6203406,
          "start": 1616759531.6725538
         },
         "SparkConcat_2": {
          "end": 1616759639.9090078,
          "load": 1616759531.6203406,
          "start": 1616759531.6725538
         },
         "TranCityTS_1": {
          "end": 1616759565.152536,
          "load": 1616759531.6203406,
          "start": 1616759531.6725538
         },
         "TranTypeTS_1": {
          "end": 1616759591.7638497,
          "load": 1616759531.6203406,
          "start": 1616759531.6725538
         }
        }
       },
       "store_in_notebook": true
      }
     },
     "output_type": "display_data"
    },
    {
     "name": "stdout",
     "output_type": "stream",
     "text": [
      "NonSparkPath_1 tcp://0.0.0.0:57857\n",
      "CustMercTS_1 tcp://0.0.0.0:61982\n",
      "CustStatic_1 tcp://0.0.0.0:51900\n",
      "TranCityTS_1 tcp://0.0.0.0:61562\n",
      "SparkConcat_1 tcp://0.0.0.0:64059\n",
      "ReadCsvProjectSpace_1 tcp://0.0.0.0:58784\n",
      "ProdTypeTS_1 tcp://0.0.0.0:53277\n",
      "TranTypeTS_1 tcp://0.0.0.0:58400\n",
      "MercStatic_1 tcp://0.0.0.0:59000\n",
      "SparkConcat_2 tcp://0.0.0.0:57497\n",
      "Hello\n",
      "root\n",
      " |-- transaction_id: string (nullable = true)\n",
      " |-- time: string (nullable = true)\n",
      " |-- customer_name: string (nullable = true)\n",
      " |-- card_number: string (nullable = true)\n",
      " |-- card_type: string (nullable = true)\n",
      " |-- physical_card_type: string (nullable = true)\n",
      " |-- merchant_id: string (nullable = true)\n",
      " |-- merchant_city: string (nullable = true)\n",
      " |-- merchant_state: string (nullable = true)\n",
      " |-- transaction_type: string (nullable = true)\n",
      " |-- transaction_type_sub: string (nullable = true)\n",
      " |-- amount: string (nullable = true)\n",
      " |-- product_type: string (nullable = true)\n",
      " |-- fraud_risk: string (nullable = true)\n",
      " |-- One Time Heavy Loot Score: string (nullable = true)\n",
      " |-- Drastic Transaction Change Pattern Score: string (nullable = true)\n",
      " |-- Parasitic Fraud Score: string (nullable = true)\n",
      " |-- Purchase Behavior Variation Score: string (nullable = true)\n",
      " |-- Preferred Merchant Variation Score: string (nullable = true)\n",
      " |-- Multiple Location Fraud Score: string (nullable = true)\n",
      " |-- Fraudster Merchant Score: string (nullable = true)\n",
      " |-- no_of_transactions_in_the_day: string (nullable = true)\n",
      " |-- max_transaction_amount_in_the_day: string (nullable = true)\n",
      " |-- avg_transaction_amount_in_the_day: string (nullable = true)\n",
      " |-- no_of_transactions_in_the_month: string (nullable = true)\n",
      " |-- max_transaction_amount_the_month: string (nullable = true)\n",
      " |-- avg_transaction_amount_the_month: string (nullable = true)\n",
      " |-- no_of_transactions_of_the_same_merchant_in_the_day: string (nullable = true)\n",
      " |-- max_transactions_of_the_same_merchant_in_the_day: string (nullable = true)\n",
      " |-- avg_transactions_of_the_same_merchant_in_the_day: string (nullable = true)\n",
      " |-- no_of_transactions_of_the_same_merchant_in_the_month: string (nullable = true)\n",
      " |-- max_transactions_of_the_same_merchant_in_the_month: string (nullable = true)\n",
      " |-- avg_transactions_of_the_same_merchant_in_the_month: string (nullable = true)\n",
      "\n",
      "+-----------+--------------+--------------+--------------------+\n",
      "|merchant_id| merchant_city|merchant_state|     list_of_product|\n",
      "+-----------+--------------+--------------+--------------------+\n",
      "|    1000758|       Hampton|      Kentucky|         [Groceries]|\n",
      "|    1000711|        Galion|          Ohio|         [Groceries]|\n",
      "|    1000950|   Charlestown|  Rhode Island|           [PetCare]|\n",
      "|    1000860|            WJ|          Utah|         [Groceries]|\n",
      "|    1000624|Pass Christian|   Mississippi|[Groceries, Furni...|\n",
      "|    1001178|   Charlestown|  Rhode Island|[Groceries, PetCare]|\n",
      "|    1001001| College Grove|     Tennessee|           [PetCare]|\n",
      "|    1000677|       Kenmare|  North Dakota|[Groceries, Texti...|\n",
      "|    1000729|      Danville|       Georgia|[Cinema, Shows an...|\n",
      "|    1001096|     Pentwater|      Michigan|         [Groceries]|\n",
      "|    1001096|     Pentwater|      Michigan|         [Groceries]|\n",
      "|    1000853|        Jayton|         Texas|[Water, Electrici...|\n",
      "|    1001148|       Newport|      Nebraska|         [Groceries]|\n",
      "|    1001039|      Hamilton|North Carolina|[Cinema, Shows an...|\n",
      "|    1000911|        Dacoma|      Oklahoma|[Cinema, Shows an...|\n",
      "|    1000922|        Auburn| Massachusetts|         [Groceries]|\n",
      "|    1000883|    Pascagoula|   Mississippi|           [PetCare]|\n",
      "|    1000726|        Dacoma|      Oklahoma|           [PetCare]|\n",
      "|    1000842|    Flintville|     Tennessee|           [PetCare]|\n",
      "|    1000745|    Fall Creek|     Wisconsin|[Groceries, Water...|\n",
      "+-----------+--------------+--------------+--------------------+\n",
      "only showing top 20 rows\n",
      "\n",
      "+--------------------+-------------------+-----------------+--------------------+--------------------------------------------+----------------------------------------------+--------------------------------------------+--------------------------------------------+---------------------------------------------+-----------------------------------------------+---------------------------------------------+---------------------------------------------+------------------------------------------------+--------------------------------------------------+------------------------------------------------+------------------------------------------------+-----------------------------------------------------+-------------------------------------------------------+-----------------------------------------------------+-----------------------------------------------------+----------------------------------------------+------------------------------------------------+----------------------------------------------+----------------------------------------------+--------------------------------------------+----------------------------------------------+--------------------------------------------+--------------------------------------------+--------------------------------------------+----------------------------------------------+--------------------------------------------+--------------------------------------------+---------------------------------------------+-----------------------------------------------+---------------------------------------------+---------------------------------------------+\n",
      "|      transaction_id|               time|    customer_name|         card_number|last_one_hour_total_customer_transaction_sum|last_one_hour_total_customer_transaction_count|last_one_hour_total_customer_transaction_max|last_one_hour_total_customer_transaction_avg|last_six_hours_total_customer_transaction_sum|last_six_hours_total_customer_transaction_count|last_six_hours_total_customer_transaction_max|last_six_hours_total_customer_transaction_avg|last_twelve_hours_total_customer_transaction_sum|last_twelve_hours_total_customer_transaction_count|last_twelve_hours_total_customer_transaction_max|last_twelve_hours_total_customer_transaction_avg|last_twenty_four_hours_total_customer_transaction_sum|last_twenty_four_hours_total_customer_transaction_count|last_twenty_four_hours_total_customer_transaction_max|last_twenty_four_hours_total_customer_transaction_avg|last_three_days_total_customer_transaction_sum|last_three_days_total_customer_transaction_count|last_three_days_total_customer_transaction_max|last_three_days_total_customer_transaction_avg|last_one_week_total_customer_transaction_sum|last_one_week_total_customer_transaction_count|last_one_week_total_customer_transaction_max|last_one_week_total_customer_transaction_avg|last_two_week_total_customer_transaction_sum|last_two_week_total_customer_transaction_count|last_two_week_total_customer_transaction_max|last_two_week_total_customer_transaction_avg|last_one_month_total_customer_transaction_sum|last_one_month_total_customer_transaction_count|last_one_month_total_customer_transaction_max|last_one_month_total_customer_transaction_avg|\n",
      "+--------------------+-------------------+-----------------+--------------------+--------------------------------------------+----------------------------------------------+--------------------------------------------+--------------------------------------------+---------------------------------------------+-----------------------------------------------+---------------------------------------------+---------------------------------------------+------------------------------------------------+--------------------------------------------------+------------------------------------------------+------------------------------------------------+-----------------------------------------------------+-------------------------------------------------------+-----------------------------------------------------+-----------------------------------------------------+----------------------------------------------+------------------------------------------------+----------------------------------------------+----------------------------------------------+--------------------------------------------+----------------------------------------------+--------------------------------------------+--------------------------------------------+--------------------------------------------+----------------------------------------------+--------------------------------------------+--------------------------------------------+---------------------------------------------+-----------------------------------------------+---------------------------------------------+---------------------------------------------+\n",
      "|1f67ffa2-80e7-459...|2018-03-12 02:06:00|Elizabeth Brawley|b8ad67c3-effd-442...|                                           0|                                             0|                                           0|                                         0.0|                                            0|                                              0|                                            0|                                          0.0|                                               0|                                                 0|                                               0|                                             0.0|                                                    0|                                                      0|                                                    0|                                                  0.0|                                             0|                                               0|                                             0|                                           0.0|                                           0|                                             0|                                           0|                                         0.0|                                           0|                                             0|                                           0|                                         0.0|                                            0|                                              0|                                            0|                                          0.0|\n",
      "|6fb28235-14b0-480...|2018-03-12 16:31:00|Elizabeth Brawley|dd77d1cd-1f14-4fd...|                                           0|                                             0|                                           0|                                         0.0|                                            0|                                              0|                                            0|                                          0.0|                                               0|                                                 0|                                               0|                                             0.0|                                                    0|                                                      0|                                                    0|                                                  0.0|                                             0|                                               0|                                             0|                                           0.0|                                           0|                                             0|                                           0|                                         0.0|                                           0|                                             0|                                           0|                                         0.0|                                            0|                                              0|                                            0|                                          0.0|\n",
      "|89839019-b3ec-44b...|2018-03-12 13:21:00|Elizabeth Brawley|c8c62bd1-edb5-491...|                                           0|                                             0|                                           0|                                         0.0|                                            0|                                              0|                                            0|                                          0.0|                                               0|                                                 0|                                               0|                                             0.0|                                                    0|                                                      0|                                                    0|                                                  0.0|                                             0|                                               0|                                             0|                                           0.0|                                           0|                                             0|                                           0|                                         0.0|                                           0|                                             0|                                           0|                                         0.0|                                            0|                                              0|                                            0|                                          0.0|\n",
      "|4a0923eb-3fe1-4d4...|2018-03-12 14:11:00|Elizabeth Brawley|9f9ffcd8-87bd-417...|                                           0|                                             0|                                           0|                                         0.0|                                            0|                                              0|                                            0|                                          0.0|                                               0|                                                 0|                                               0|                                             0.0|                                                    0|                                                      0|                                                    0|                                                  0.0|                                             0|                                               0|                                             0|                                           0.0|                                           0|                                             0|                                           0|                                         0.0|                                           0|                                             0|                                           0|                                         0.0|                                            0|                                              0|                                            0|                                          0.0|\n",
      "|f7243898-036a-44f...|2018-03-12 13:15:00|Elizabeth Brawley|2bf7e056-eb23-4c8...|                                           0|                                             0|                                           0|                                         0.0|                                            0|                                              0|                                            0|                                          0.0|                                               0|                                                 0|                                               0|                                             0.0|                                                    0|                                                      0|                                                    0|                                                  0.0|                                             0|                                               0|                                             0|                                           0.0|                                           0|                                             0|                                           0|                                         0.0|                                           0|                                             0|                                           0|                                         0.0|                                            0|                                              0|                                            0|                                          0.0|\n",
      "|89489648-180a-439...|2018-03-12 09:15:00|Elizabeth Brawley|801d65c4-c2af-460...|                                           0|                                             0|                                           0|                                         0.0|                                            0|                                              0|                                            0|                                          0.0|                                               0|                                                 0|                                               0|                                             0.0|                                                    0|                                                      0|                                                    0|                                                  0.0|                                             0|                                               0|                                             0|                                           0.0|                                           0|                                             0|                                           0|                                         0.0|                                           0|                                             0|                                           0|                                         0.0|                                            0|                                              0|                                            0|                                          0.0|\n",
      "|3ce2dcd5-622f-4ec...|2018-03-12 12:35:00|Elizabeth Brawley|0a27a4f4-18a8-4fd...|                                           0|                                             0|                                           0|                                         0.0|                                            0|                                              0|                                            0|                                          0.0|                                               0|                                                 0|                                               0|                                             0.0|                                                    0|                                                      0|                                                    0|                                                  0.0|                                             0|                                               0|                                             0|                                           0.0|                                           0|                                             0|                                           0|                                         0.0|                                           0|                                             0|                                           0|                                         0.0|                                            0|                                              0|                                            0|                                          0.0|\n",
      "|5b74e885-074e-4b5...|2018-03-12 16:17:00|Elizabeth Brawley|9d8a297c-2a74-495...|                                           0|                                             0|                                           0|                                         0.0|                                            0|                                              0|                                            0|                                          0.0|                                               0|                                                 0|                                               0|                                             0.0|                                                    0|                                                      0|                                                    0|                                                  0.0|                                             0|                                               0|                                             0|                                           0.0|                                           0|                                             0|                                           0|                                         0.0|                                           0|                                             0|                                           0|                                         0.0|                                            0|                                              0|                                            0|                                          0.0|\n",
      "|0598fc62-135b-4d4...|2018-03-12 18:37:00|Elizabeth Brawley|ea33bae7-c6a4-4ce...|                                           0|                                             0|                                           0|                                         0.0|                                            0|                                              0|                                            0|                                          0.0|                                               0|                                                 0|                                               0|                                             0.0|                                                    0|                                                      0|                                                    0|                                                  0.0|                                             0|                                               0|                                             0|                                           0.0|                                           0|                                             0|                                           0|                                         0.0|                                           0|                                             0|                                           0|                                         0.0|                                            0|                                              0|                                            0|                                          0.0|\n",
      "|df236dad-4980-440...|2018-03-12 18:07:00|Elizabeth Brawley|617fe136-d245-4b6...|                                           0|                                             0|                                           0|                                         0.0|                                            0|                                              0|                                            0|                                          0.0|                                               0|                                                 0|                                               0|                                             0.0|                                                    0|                                                      0|                                                    0|                                                  0.0|                                             0|                                               0|                                             0|                                           0.0|                                           0|                                             0|                                           0|                                         0.0|                                           0|                                             0|                                           0|                                         0.0|                                            0|                                              0|                                            0|                                          0.0|\n",
      "|2ede14af-9a83-4ea...|2018-03-12 22:03:00|Elizabeth Brawley|88d39e1a-24ce-467...|                                           0|                                             0|                                           0|                                         0.0|                                            0|                                              0|                                            0|                                          0.0|                                               0|                                                 0|                                               0|                                             0.0|                                                    0|                                                      0|                                                    0|                                                  0.0|                                             0|                                               0|                                             0|                                           0.0|                                           0|                                             0|                                           0|                                         0.0|                                           0|                                             0|                                           0|                                         0.0|                                            0|                                              0|                                            0|                                          0.0|\n",
      "|5675879a-f5c9-402...|2018-03-12 01:55:00|Elizabeth Brawley|345536ad-a301-43a...|                                           0|                                             0|                                           0|                                         0.0|                                            0|                                              0|                                            0|                                          0.0|                                               0|                                                 0|                                               0|                                             0.0|                                                    0|                                                      0|                                                    0|                                                  0.0|                                             0|                                               0|                                             0|                                           0.0|                                           0|                                             0|                                           0|                                         0.0|                                           0|                                             0|                                           0|                                         0.0|                                            0|                                              0|                                            0|                                          0.0|\n",
      "|7013beb5-9539-467...|2018-03-12 23:02:00|Elizabeth Brawley|5d1458d4-c617-4f8...|                                           0|                                             0|                                           0|                                         0.0|                                            0|                                              0|                                            0|                                          0.0|                                               0|                                                 0|                                               0|                                             0.0|                                                    0|                                                      0|                                                    0|                                                  0.0|                                             0|                                               0|                                             0|                                           0.0|                                           0|                                             0|                                           0|                                         0.0|                                           0|                                             0|                                           0|                                         0.0|                                            0|                                              0|                                            0|                                          0.0|\n",
      "|db95a985-150f-4ea...|2018-03-12 04:59:00|Elizabeth Brawley|3d86f91f-8f02-4cd...|                                           0|                                             0|                                           0|                                         0.0|                                            0|                                              0|                                            0|                                          0.0|                                               0|                                                 0|                                               0|                                             0.0|                                                    0|                                                      0|                                                    0|                                                  0.0|                                             0|                                               0|                                             0|                                           0.0|                                           0|                                             0|                                           0|                                         0.0|                                           0|                                             0|                                           0|                                         0.0|                                            0|                                              0|                                            0|                                          0.0|\n",
      "|26ba833c-0a1b-4dd...|2018-03-12 13:36:00|Elizabeth Brawley|c50946aa-23e4-453...|                                           0|                                             0|                                           0|                                         0.0|                                            0|                                              0|                                            0|                                          0.0|                                               0|                                                 0|                                               0|                                             0.0|                                                    0|                                                      0|                                                    0|                                                  0.0|                                             0|                                               0|                                             0|                                           0.0|                                           0|                                             0|                                           0|                                         0.0|                                           0|                                             0|                                           0|                                         0.0|                                            0|                                              0|                                            0|                                          0.0|\n",
      "|71694f34-efa6-497...|2018-03-12 09:14:00|Elizabeth Brawley|20bdbcf0-11b7-4f8...|                                           0|                                             0|                                           0|                                         0.0|                                            0|                                              0|                                            0|                                          0.0|                                               0|                                                 0|                                               0|                                             0.0|                                                    0|                                                      0|                                                    0|                                                  0.0|                                             0|                                               0|                                             0|                                           0.0|                                           0|                                             0|                                           0|                                         0.0|                                           0|                                             0|                                           0|                                         0.0|                                            0|                                              0|                                            0|                                          0.0|\n",
      "|a56756e2-3082-44d...|2018-03-12 22:58:00|Elizabeth Brawley|862d37ef-2d9a-486...|                                           0|                                             0|                                           0|                                         0.0|                                            0|                                              0|                                            0|                                          0.0|                                               0|                                                 0|                                               0|                                             0.0|                                                    0|                                                      0|                                                    0|                                                  0.0|                                             0|                                               0|                                             0|                                           0.0|                                           0|                                             0|                                           0|                                         0.0|                                           0|                                             0|                                           0|                                         0.0|                                            0|                                              0|                                            0|                                          0.0|\n",
      "|c1454e5c-8972-4ea...|2018-07-09 17:03:00|  Brandon Sturkie|65b4eda1-a440-493...|                                           0|                                             0|                                           0|                                         0.0|                                            0|                                              0|                                            0|                                          0.0|                                               0|                                                 0|                                               0|                                             0.0|                                                    0|                                                      0|                                                    0|                                                  0.0|                                             0|                                               0|                                             0|                                           0.0|                                           0|                                             0|                                           0|                                         0.0|                                           0|                                             0|                                           0|                                         0.0|                                          826|                                              4|                                          299|                                        206.5|\n",
      "|4bdd16fe-a24d-495...|2018-07-14 13:46:00|  Brandon Sturkie|65b4eda1-a440-493...|                                           0|                                             0|                                           0|                                         0.0|                                            0|                                              0|                                            0|                                          0.0|                                               0|                                                 0|                                               0|                                             0.0|                                                    0|                                                      0|                                                    0|                                                  0.0|                                             0|                                               0|                                             0|                                           0.0|                                           6|                                             1|                                           6|                                         6.0|                                           6|                                             1|                                           6|                                         6.0|                                           15|                                              2|                                            9|                                          7.5|\n",
      "|09f022fd-f9c5-46e...|2018-07-18 23:28:00|  Brandon Sturkie|65b4eda1-a440-493...|                                           0|                                             0|                                           0|                                         0.0|                                            0|                                              0|                                            0|                                          0.0|                                               0|                                                 0|                                               0|                                             0.0|                                                    0|                                                      0|                                                    0|                                                  0.0|                                             0|                                               0|                                             0|                                           0.0|                                         240|                                             1|                                         240|                                       240.0|                                         246|                                             2|                                         240|                                       123.0|                                          246|                                              2|                                          240|                                        123.0|\n",
      "+--------------------+-------------------+-----------------+--------------------+--------------------------------------------+----------------------------------------------+--------------------------------------------+--------------------------------------------+---------------------------------------------+-----------------------------------------------+---------------------------------------------+---------------------------------------------+------------------------------------------------+--------------------------------------------------+------------------------------------------------+------------------------------------------------+-----------------------------------------------------+-------------------------------------------------------+-----------------------------------------------------+-----------------------------------------------------+----------------------------------------------+------------------------------------------------+----------------------------------------------+----------------------------------------------+--------------------------------------------+----------------------------------------------+--------------------------------------------+--------------------------------------------+--------------------------------------------+----------------------------------------------+--------------------------------------------+--------------------------------------------+---------------------------------------------+-----------------------------------------------+---------------------------------------------+---------------------------------------------+\n",
      "only showing top 20 rows\n",
      "\n",
      "row count: 2202\n",
      "+--------------------+-----------+-------------+--------------+--------------------------------------------+----------------------------------------------+--------------------------------------------+--------------------------------------------+--------------------------------------------+----------------------------------------------+--------------------------------------------+--------------------------------------------+-----------------------------------------------+-------------------------------------------------+-----------------------------------------------+-----------------------------------------------+----------------------------------------------------+------------------------------------------------------+----------------------------------------------------+----------------------------------------------------+----------------------------------------------+------------------------------------------------+----------------------------------------------+----------------------------------------------+\n",
      "|      transaction_id|merchant_id|merchant_city|merchant_state|last_one_hour_total_merchant_transaction_sum|last_one_hour_total_merchant_transaction_count|last_one_hour_total_merchant_transaction_max|last_one_hour_total_merchant_transaction_avg|last_six_hour_total_merchant_transaction_sum|last_six_hour_total_merchant_transaction_count|last_six_hour_total_merchant_transaction_max|last_six_hour_total_merchant_transaction_avg|last_twelve_hour_total_merchant_transaction_sum|last_twelve_hour_total_merchant_transaction_count|last_twelve_hour_total_merchant_transaction_max|last_twelve_hour_total_merchant_transaction_avg|last_twenty_four_hour_total_merchant_transaction_sum|last_twenty_four_hour_total_merchant_transaction_count|last_twenty_four_hour_total_merchant_transaction_max|last_twenty_four_hour_total_merchant_transaction_avg|last_three_days_total_merchant_transaction_sum|last_three_days_total_merchant_transaction_count|last_three_days_total_merchant_transaction_max|last_three_days_total_merchant_transaction_avg|\n",
      "+--------------------+-----------+-------------+--------------+--------------------------------------------+----------------------------------------------+--------------------------------------------+--------------------------------------------+--------------------------------------------+----------------------------------------------+--------------------------------------------+--------------------------------------------+-----------------------------------------------+-------------------------------------------------+-----------------------------------------------+-----------------------------------------------+----------------------------------------------------+------------------------------------------------------+----------------------------------------------------+----------------------------------------------------+----------------------------------------------+------------------------------------------------+----------------------------------------------+----------------------------------------------+\n",
      "|8bbd694f-cf23-4e9...|    1000795|    Bay Shore|      New York|                                           0|                                             0|                                           0|                                         0.0|                                           0|                                             0|                                           0|                                         0.0|                                              0|                                                0|                                              0|                                            0.0|                                                   0|                                                     0|                                                   0|                                                 0.0|                                             0|                                               0|                                             0|                                           0.0|\n",
      "|c9cbbdd6-2cf7-4ec...|    1000096|         Otto|       Wyoming|                                           0|                                             0|                                           0|                                         0.0|                                           0|                                             0|                                           0|                                         0.0|                                              0|                                                0|                                              0|                                            0.0|                                                   0|                                                     0|                                                   0|                                                 0.0|                                             0|                                               0|                                             0|                                           0.0|\n",
      "|25b44c0b-c06c-40c...|    1000096|         Otto|       Wyoming|                                           0|                                             0|                                           0|                                         0.0|                                           0|                                             0|                                           0|                                         0.0|                                              0|                                                0|                                              0|                                            0.0|                                                   0|                                                     0|                                                   0|                                                 0.0|                                             0|                                               0|                                             0|                                           0.0|\n",
      "|c11e0eb9-c78f-481...|    1000096|         Otto|       Wyoming|                                           0|                                             0|                                           0|                                         0.0|                                           0|                                             0|                                           0|                                         0.0|                                              0|                                                0|                                              0|                                            0.0|                                                   0|                                                     0|                                                   0|                                                 0.0|                                             0|                                               0|                                             0|                                           0.0|\n",
      "|dbe86b45-b1e2-444...|    1000096|         Otto|       Wyoming|                                           0|                                             0|                                           0|                                         0.0|                                           0|                                             0|                                           0|                                         0.0|                                              0|                                                0|                                              0|                                            0.0|                                                   0|                                                     0|                                                   0|                                                 0.0|                                             0|                                               0|                                             0|                                           0.0|\n",
      "|72df8902-73d1-4aa...|    1000113|      Henagar|       Alabama|                                           0|                                             0|                                           0|                                         0.0|                                           0|                                             0|                                           0|                                         0.0|                                              0|                                                0|                                              0|                                            0.0|                                                   0|                                                     0|                                                   0|                                                 0.0|                                             0|                                               0|                                             0|                                           0.0|\n",
      "|8fde6027-13f1-4e1...|    1000113|      Henagar|       Alabama|                                           0|                                             0|                                           0|                                         0.0|                                           0|                                             0|                                           0|                                         0.0|                                              0|                                                0|                                              0|                                            0.0|                                                   0|                                                     0|                                                   0|                                                 0.0|                                             0|                                               0|                                             0|                                           0.0|\n",
      "|32e15d54-b117-422...|    1000113|      Henagar|       Alabama|                                           0|                                             0|                                           0|                                         0.0|                                           0|                                             0|                                           0|                                         0.0|                                              0|                                                0|                                              0|                                            0.0|                                                   0|                                                     0|                                                   0|                                                 0.0|                                             0|                                               0|                                             0|                                           0.0|\n",
      "|9764a134-9793-437...|    1000113|      Henagar|       Alabama|                                           0|                                             0|                                           0|                                         0.0|                                           0|                                             0|                                           0|                                         0.0|                                              0|                                                0|                                              0|                                            0.0|                                                   0|                                                     0|                                                   0|                                                 0.0|                                             0|                                               0|                                             0|                                           0.0|\n",
      "|141649d9-d661-430...|    1000113|      Henagar|       Alabama|                                           0|                                             0|                                           0|                                         0.0|                                           6|                                             1|                                           6|                                         6.0|                                              6|                                                1|                                              6|                                            6.0|                                                   6|                                                     1|                                                   6|                                                 6.0|                                             6|                                               1|                                             6|                                           6.0|\n",
      "|49a2e33b-706c-46c...|    1000113|      Henagar|       Alabama|                                           0|                                             0|                                           0|                                         0.0|                                           0|                                             0|                                           0|                                         0.0|                                              0|                                                0|                                              0|                                            0.0|                                                   0|                                                     0|                                                   0|                                                 0.0|                                             0|                                               0|                                             0|                                           0.0|\n",
      "|32da9c21-ad11-42c...|    1000113|      Henagar|       Alabama|                                           0|                                             0|                                           0|                                         0.0|                                           0|                                             0|                                           0|                                         0.0|                                              0|                                                0|                                              0|                                            0.0|                                                   0|                                                     0|                                                   0|                                                 0.0|                                             0|                                               0|                                             0|                                           0.0|\n",
      "|12ae5674-aad1-49c...|    1000113|      Henagar|       Alabama|                                           0|                                             0|                                           0|                                         0.0|                                           0|                                             0|                                           0|                                         0.0|                                              0|                                                0|                                              0|                                            0.0|                                                  27|                                                     2|                                                  21|                                                13.5|                                            27|                                               2|                                            21|                                          13.5|\n",
      "|9fd21a2b-18a6-46f...|    1000113|      Henagar|       Alabama|                                           0|                                             0|                                           0|                                         0.0|                                           0|                                             0|                                           0|                                         0.0|                                              0|                                                0|                                              0|                                            0.0|                                                   0|                                                     0|                                                   0|                                                 0.0|                                             0|                                               0|                                             0|                                           0.0|\n",
      "|170d76f2-41c1-441...|    1000113|      Henagar|       Alabama|                                           0|                                             0|                                           0|                                         0.0|                                           0|                                             0|                                           0|                                         0.0|                                              0|                                                0|                                              0|                                            0.0|                                                   0|                                                     0|                                                   0|                                                 0.0|                                          2516|                                               1|                                          2516|                                        2516.0|\n",
      "|e0e2f964-3b0d-4d4...|    1000113|      Henagar|       Alabama|                                           0|                                             0|                                           0|                                         0.0|                                           0|                                             0|                                           0|                                         0.0|                                              0|                                                0|                                              0|                                            0.0|                                                   0|                                                     0|                                                   0|                                                 0.0|                                             0|                                               0|                                             0|                                           0.0|\n",
      "|07a38c41-37d4-463...|    1000113|      Henagar|       Alabama|                                           0|                                             0|                                           0|                                         0.0|                                           0|                                             0|                                           0|                                         0.0|                                              0|                                                0|                                              0|                                            0.0|                                                   0|                                                     0|                                                   0|                                                 0.0|                                             0|                                               0|                                             0|                                           0.0|\n",
      "|f35cf7d7-4607-40f...|    1000113|      Henagar|       Alabama|                                           0|                                             0|                                           0|                                         0.0|                                           0|                                             0|                                           0|                                         0.0|                                              0|                                                0|                                              0|                                            0.0|                                                   0|                                                     0|                                                   0|                                                 0.0|                                             0|                                               0|                                             0|                                           0.0|\n",
      "|2608cf70-a8c0-4d5...|    1001320|       Dacoma|      Oklahoma|                                           0|                                             0|                                           0|                                         0.0|                                           0|                                             0|                                           0|                                         0.0|                                              0|                                                0|                                              0|                                            0.0|                                                   0|                                                     0|                                                   0|                                                 0.0|                                             0|                                               0|                                             0|                                           0.0|\n",
      "|26c46b37-c0ad-425...|    1000376|     Sun City|        Kansas|                                           0|                                             0|                                           0|                                         0.0|                                           0|                                             0|                                           0|                                         0.0|                                              0|                                                0|                                              0|                                            0.0|                                                   0|                                                     0|                                                   0|                                                 0.0|                                             0|                                               0|                                             0|                                           0.0|\n",
      "+--------------------+-----------+-------------+--------------+--------------------------------------------+----------------------------------------------+--------------------------------------------+--------------------------------------------+--------------------------------------------+----------------------------------------------+--------------------------------------------+--------------------------------------------+-----------------------------------------------+-------------------------------------------------+-----------------------------------------------+-----------------------------------------------+----------------------------------------------------+------------------------------------------------------+----------------------------------------------------+----------------------------------------------------+----------------------------------------------+------------------------------------------------+----------------------------------------------+----------------------------------------------+\n",
      "only showing top 20 rows\n",
      "\n",
      "row count: 2202\n"
     ]
    },
    {
     "data": {
      "text/plain": [
       "{}"
      ]
     },
     "execution_count": 19,
     "metadata": {},
     "output_type": "execute_result"
    }
   ],
   "source": [
    "pipe.execute()"
   ]
  },
  {
   "cell_type": "code",
   "execution_count": null,
   "id": "nominated-testimony",
   "metadata": {},
   "outputs": [
    {
     "name": "stdout",
     "output_type": "stream",
     "text": [
      "log path: /tmp/tmpg1lo6mit/temp\n"
     ]
    },
    {
     "data": {
      "application/vnd.razorthink.run+monitor+json": "/tmp/tmpg1lo6mit/temp",
      "text/plain": [
       "<razor_tools.backend.ipython.mime.run_monitor.RunMonitor at 0x7fa23376de10>"
      ]
     },
     "metadata": {
      "application/vnd.razorthink.run+monitor+json": {
       "store_in_notebook": true
      }
     },
     "output_type": "display_data"
    },
    {
     "name": "stdout",
     "output_type": "stream",
     "text": [
      "NonSparkPath_1 tcp://0.0.0.0:60209\n",
      "ReadCsvProjectSpace_1 tcp://0.0.0.0:62364\n",
      "MercStatic_1 tcp://0.0.0.0:55326\n",
      "ProdTypeTS_1 tcp://0.0.0.0:53293\n",
      "CustStatic_1 tcp://0.0.0.0:64009\n",
      "SparkConcat_1 tcp://0.0.0.0:61994\n",
      "SparkConcat_2 tcp://0.0.0.0:56240\n",
      "TranCityTS_1 tcp://0.0.0.0:60779\n",
      "TranTypeTS_1 tcp://0.0.0.0:59667\n",
      "CustMercTS_1 tcp://0.0.0.0:54150\n"
     ]
    }
   ],
   "source": [
    "pipe.execute()"
   ]
  },
  {
   "cell_type": "code",
   "execution_count": 18,
   "id": "broad-gibraltar",
   "metadata": {},
   "outputs": [
    {
     "ename": "SavePipelineError",
     "evalue": "Pipeline with name `temp` already exists. Use different name to save pipeline. Or set `overwrite=True` to update the existing pipeline.",
     "output_type": "error",
     "traceback": [
      "\u001b[0;31m---------------------------------------------------------------------------\u001b[0m",
      "\u001b[0;31mSavePipelineError\u001b[0m                         Traceback (most recent call last)",
      "\u001b[0;32m<ipython-input-18-716ac1d04f06>\u001b[0m in \u001b[0;36m<module>\u001b[0;34m\u001b[0m\n\u001b[0;32m----> 1\u001b[0;31m \u001b[0mrazor\u001b[0m\u001b[0;34m.\u001b[0m\u001b[0mapi\u001b[0m\u001b[0;34m.\u001b[0m\u001b[0mpipelines\u001b[0m\u001b[0;34m.\u001b[0m\u001b[0msave\u001b[0m\u001b[0;34m(\u001b[0m\u001b[0mpipe\u001b[0m\u001b[0;34m)\u001b[0m\u001b[0;34m\u001b[0m\u001b[0;34m\u001b[0m\u001b[0m\n\u001b[0m",
      "\u001b[0;32m/usr/local/lib/python3.7/dist-packages/razor/api/core/pipeline_manager.py\u001b[0m in \u001b[0;36msave\u001b[0;34m(self, pipeline, pipeline_vars, resources, overwrite)\u001b[0m\n\u001b[1;32m     65\u001b[0m                                                  \u001b[0mpipeline_vars\u001b[0m\u001b[0;34m=\u001b[0m\u001b[0mpipeline_vars\u001b[0m\u001b[0;34m,\u001b[0m\u001b[0;34m\u001b[0m\u001b[0;34m\u001b[0m\u001b[0m\n\u001b[1;32m     66\u001b[0m                                                  \u001b[0mresources\u001b[0m\u001b[0;34m=\u001b[0m\u001b[0mresources\u001b[0m\u001b[0;34m,\u001b[0m\u001b[0;34m\u001b[0m\u001b[0;34m\u001b[0m\u001b[0m\n\u001b[0;32m---> 67\u001b[0;31m                                                  overwrite=overwrite)\n\u001b[0m",
      "\u001b[0;32m/usr/local/lib/python3.7/dist-packages/razor/api/impl/pipeline_manager_impl.py\u001b[0m in \u001b[0;36msave_pipeline\u001b[0;34m(pipeline, pipeline_vars, resources, overwrite)\u001b[0m\n\u001b[1;32m    139\u001b[0m \u001b[0;34m\u001b[0m\u001b[0m\n\u001b[1;32m    140\u001b[0m         \u001b[0;31m# Register Pipeline\u001b[0m\u001b[0;34m\u001b[0m\u001b[0;34m\u001b[0m\u001b[0;34m\u001b[0m\u001b[0m\n\u001b[0;32m--> 141\u001b[0;31m         \u001b[0mreg_pipeline_res\u001b[0m \u001b[0;34m=\u001b[0m \u001b[0mPipelineManagerImpl\u001b[0m\u001b[0;34m.\u001b[0m\u001b[0mregister_pipeline\u001b[0m\u001b[0;34m(\u001b[0m\u001b[0mpipeline\u001b[0m\u001b[0;34m,\u001b[0m \u001b[0moverwrite\u001b[0m\u001b[0;34m)\u001b[0m\u001b[0;34m\u001b[0m\u001b[0;34m\u001b[0m\u001b[0m\n\u001b[0m\u001b[1;32m    142\u001b[0m \u001b[0;34m\u001b[0m\u001b[0m\n\u001b[1;32m    143\u001b[0m         \u001b[0;31m# Get serialized pipeline\u001b[0m\u001b[0;34m\u001b[0m\u001b[0;34m\u001b[0m\u001b[0;34m\u001b[0m\u001b[0m\n",
      "\u001b[0;32m/usr/local/lib/python3.7/dist-packages/razor/api/impl/pipeline_manager_impl.py\u001b[0m in \u001b[0;36mregister_pipeline\u001b[0;34m(pipeline, overwrite)\u001b[0m\n\u001b[1;32m     65\u001b[0m             \u001b[0;32melse\u001b[0m\u001b[0;34m:\u001b[0m\u001b[0;34m\u001b[0m\u001b[0;34m\u001b[0m\u001b[0m\n\u001b[1;32m     66\u001b[0m                 raise CommsErrorHandler.handle(SavePipelineError(\n\u001b[0;32m---> 67\u001b[0;31m                     str.format(ExceptionMessages.PIPELINE_ALREADY_EXISTS, pipeline.name)))\n\u001b[0m\u001b[1;32m     68\u001b[0m \u001b[0;34m\u001b[0m\u001b[0m\n\u001b[1;32m     69\u001b[0m         \u001b[0;32melse\u001b[0m\u001b[0;34m:\u001b[0m\u001b[0;34m\u001b[0m\u001b[0;34m\u001b[0m\u001b[0m\n",
      "\u001b[0;32m/usr/local/lib/python3.7/dist-packages/razor/api/utils/error_handler.py\u001b[0m in \u001b[0;36mhandle\u001b[0;34m(e)\u001b[0m\n\u001b[1;32m     71\u001b[0m                 \u001b[0;32mor\u001b[0m \u001b[0misinstance\u001b[0m\u001b[0;34m(\u001b[0m\u001b[0me\u001b[0m\u001b[0;34m,\u001b[0m \u001b[0mMetaNotFoundError\u001b[0m\u001b[0;34m)\u001b[0m\u001b[0;31m \u001b[0m\u001b[0;31m\\\u001b[0m\u001b[0;34m\u001b[0m\u001b[0;34m\u001b[0m\u001b[0m\n\u001b[1;32m     72\u001b[0m                 \u001b[0;32mor\u001b[0m \u001b[0misinstance\u001b[0m\u001b[0;34m(\u001b[0m\u001b[0me\u001b[0m\u001b[0;34m,\u001b[0m \u001b[0mInvalidBundle\u001b[0m\u001b[0;34m)\u001b[0m\u001b[0;34m:\u001b[0m\u001b[0;34m\u001b[0m\u001b[0;34m\u001b[0m\u001b[0m\n\u001b[0;32m---> 73\u001b[0;31m             \u001b[0;32mraise\u001b[0m \u001b[0me\u001b[0m \u001b[0;32mfrom\u001b[0m \u001b[0;32mNone\u001b[0m\u001b[0;34m\u001b[0m\u001b[0;34m\u001b[0m\u001b[0m\n\u001b[0m\u001b[1;32m     74\u001b[0m         \u001b[0;32melse\u001b[0m\u001b[0;34m:\u001b[0m\u001b[0;34m\u001b[0m\u001b[0;34m\u001b[0m\u001b[0m\n\u001b[1;32m     75\u001b[0m             \u001b[0;31m# Throw rest of the exceptions\u001b[0m\u001b[0;34m\u001b[0m\u001b[0;34m\u001b[0m\u001b[0;34m\u001b[0m\u001b[0m\n",
      "\u001b[0;31mSavePipelineError\u001b[0m: Pipeline with name `temp` already exists. Use different name to save pipeline. Or set `overwrite=True` to update the existing pipeline."
     ]
    }
   ],
   "source": [
    "razor.api.pipelines.save(pipe)"
   ]
  },
  {
   "cell_type": "code",
   "execution_count": null,
   "id": "olive-brief",
   "metadata": {},
   "outputs": [],
   "source": []
  },
  {
   "cell_type": "code",
   "execution_count": null,
   "id": "sensitive-programming",
   "metadata": {},
   "outputs": [],
   "source": []
  }
 ],
 "metadata": {
  "kernelspec": {
   "display_name": "Python 3",
   "language": "python",
   "name": "python3"
  },
  "language_info": {
   "codemirror_mode": {
    "name": "ipython",
    "version": 3
   },
   "file_extension": ".py",
   "mimetype": "text/x-python",
   "name": "python",
   "nbconvert_exporter": "python",
   "pygments_lexer": "ipython3",
   "version": "3.7.10"
  }
 },
 "nbformat": 4,
 "nbformat_minor": 5
}
