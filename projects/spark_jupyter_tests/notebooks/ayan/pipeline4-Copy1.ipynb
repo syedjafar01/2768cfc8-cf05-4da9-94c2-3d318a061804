{
 "cells": [
  {
   "cell_type": "code",
   "execution_count": 1,
   "id": "special-draft",
   "metadata": {},
   "outputs": [],
   "source": [
    "import razor\n",
    "import razor.flow as rf\n",
    "from razor import api\n",
    "from razor.flow.spark import SparkBlock, SparkExecutor"
   ]
  },
  {
   "cell_type": "code",
   "execution_count": 2,
   "id": "accessory-ecuador",
   "metadata": {},
   "outputs": [
    {
     "data": {
      "text/html": [
       "\n",
       "            <div>\n",
       "                <p><b>SparkSession - in-memory</b></p>\n",
       "                \n",
       "        <div>\n",
       "            <p><b>SparkContext</b></p>\n",
       "\n",
       "            <p><a href=\"http://dep-ser-7e8e95fa-80d9-4f2d-93cf-9a5f1fa0b947-ide-664cc855cvkzq5:4040\">Spark UI</a></p>\n",
       "\n",
       "            <dl>\n",
       "              <dt>Version</dt>\n",
       "                <dd><code>v3.0.0</code></dd>\n",
       "              <dt>Master</dt>\n",
       "                <dd><code>local[*]</code></dd>\n",
       "              <dt>AppName</dt>\n",
       "                <dd><code>SAN</code></dd>\n",
       "            </dl>\n",
       "        </div>\n",
       "        \n",
       "            </div>\n",
       "        "
      ],
      "text/plain": [
       "<pyspark.sql.session.SparkSession at 0x7f8b555b1610>"
      ]
     },
     "execution_count": 2,
     "metadata": {},
     "output_type": "execute_result"
    }
   ],
   "source": [
    "from pyspark import SparkContext\n",
    "#sc = SparkContext(\"local\", \"First App\")\n",
    "\n",
    "\n",
    "from pyspark.sql import SparkSession\n",
    "from pyspark import SparkConf\n",
    "\n",
    "session = SparkSession.builder.appName(\"SAN\")\n",
    "session.getOrCreate()\n",
    "\n",
    "\n",
    "\n"
   ]
  },
  {
   "cell_type": "code",
   "execution_count": 3,
   "id": "scheduled-overview",
   "metadata": {},
   "outputs": [
    {
     "data": {
      "text/plain": [
       "False"
      ]
     },
     "execution_count": 3,
     "metadata": {},
     "output_type": "execute_result"
    }
   ],
   "source": [
    "SparkContext._jvm is None"
   ]
  },
  {
   "cell_type": "code",
   "execution_count": null,
   "id": "indie-beach",
   "metadata": {},
   "outputs": [],
   "source": []
  },
  {
   "cell_type": "code",
   "execution_count": 4,
   "id": "refined-occasions",
   "metadata": {},
   "outputs": [
    {
     "data": {
      "text/plain": [
       "'/usr/bin/python3'"
      ]
     },
     "execution_count": 4,
     "metadata": {},
     "output_type": "execute_result"
    }
   ],
   "source": [
    "import sys\n",
    "sys.executable"
   ]
  },
  {
   "cell_type": "code",
   "execution_count": 5,
   "id": "cellular-edinburgh",
   "metadata": {},
   "outputs": [],
   "source": [
    "import os\n",
    "from datetime import datetime, timedelta\n",
    "from pyspark.sql import SparkSession, functions\n",
    "from pyspark.sql.dataframe import DataFrame\n",
    "from datetime import datetime, timedelta\n",
    "from dateutil.relativedelta import relativedelta\n",
    "from pyspark.sql.types import IntegerType, DateType, ArrayType, StringType, FloatType, TimestampType\n"
   ]
  },
  {
   "cell_type": "code",
   "execution_count": 6,
   "id": "fluid-chinese",
   "metadata": {},
   "outputs": [],
   "source": [
    "from project.blocks.ayan_spark_blocks_clone import MercStatic\n",
    "from project.blocks.ayan_spark_blocks_clone import ReadCsvProjectSpace\n",
    "from project.blocks.ayan_spark_blocks_clone import TranCityTS\n",
    "from project.blocks.ayan_spark_blocks_clone import TranTypeTS\n",
    "from project.blocks.ayan_spark_blocks_clone import NonSparkPath\n",
    "from project.blocks.ayan_spark_blocks_clone import CustStatic\n",
    "from project.blocks.ayan_spark_blocks_clone import ProdTypeTS\n",
    "from project.blocks.ayan_spark_blocks_clone import CustMercTS\n",
    "from project.blocks.ayan_spark_blocks_clone import DropDuplicates"
   ]
  },
  {
   "cell_type": "code",
   "execution_count": 7,
   "id": "fifteen-portable",
   "metadata": {},
   "outputs": [],
   "source": [
    "# import importlib\n",
    "# x= importlib.import_module('razor.project.blocks.ayan_spark_blocks_clone' , '/home/aios/published-packages/')\n",
    "# print(x)"
   ]
  },
  {
   "cell_type": "code",
   "execution_count": 8,
   "id": "conditional-comparative",
   "metadata": {},
   "outputs": [],
   "source": [
    "# CustMercTS = x.__dict__['CustMercTS']\n",
    "# ReadCsvProjectSpace = x.__dict__['ReadCsvProjectSpace']\n",
    "# NonSparkPath = x.__dict__['NonSparkPath']"
   ]
  },
  {
   "cell_type": "code",
   "execution_count": 9,
   "id": "ordinary-giant",
   "metadata": {},
   "outputs": [],
   "source": [
    "def project_space_path(path):\n",
    "    ps = api.datasources('Project Space')\n",
    "    return os.path.join(ps.abspath(), path)\n"
   ]
  },
  {
   "cell_type": "code",
   "execution_count": 10,
   "id": "durable-reader",
   "metadata": {},
   "outputs": [],
   "source": [
    "nsp = NonSparkPath(ip_path='customer_data.csv')"
   ]
  },
  {
   "cell_type": "code",
   "execution_count": 11,
   "id": "compliant-import",
   "metadata": {},
   "outputs": [],
   "source": [
    "rcp = ReadCsvProjectSpace(filename = nsp.op_path, config={}, source=\"\")\n",
    "rcp.executor = SparkExecutor"
   ]
  },
  {
   "cell_type": "code",
   "execution_count": 12,
   "id": "coordinate-spirit",
   "metadata": {},
   "outputs": [],
   "source": [
    "cm_ts = CustMercTS(ip_data = rcp.data, config={}, source=\"\")\n",
    "cm_ts.executor = SparkExecutor"
   ]
  },
  {
   "cell_type": "code",
   "execution_count": 13,
   "id": "boxed-license",
   "metadata": {},
   "outputs": [],
   "source": [
    "pipe = rf.Pipeline('temp', targets = [cm_ts])"
   ]
  },
  {
   "cell_type": "code",
   "execution_count": 14,
   "id": "ancient-spotlight",
   "metadata": {},
   "outputs": [
    {
     "data": {
      "application/vnd.razorthink.interactive+pipeline+view+json": {
       "blocks": [
        {
         "class_name": "ReadCsvProjectSpace",
         "fullname": "razor.project.blocks.ayan_spark_blocks_clone.ReadCsvProjectSpace",
         "id": "e8f8c5c9-c040-40d6-8057-f1cf539feef0",
         "inputs": [
          {
           "dataType": "string",
           "default": "",
           "flow": "atomic",
           "help": null,
           "isdict": false,
           "islist": false,
           "label": "filename",
           "meta": {},
           "name": "filename",
           "series": false,
           "type": "str",
           "type_check": true
          },
          {
           "dataType": "dict",
           "default": {},
           "flow": "atomic",
           "help": null,
           "isdict": false,
           "islist": false,
           "label": "config",
           "meta": {},
           "name": "config",
           "series": false,
           "type": "dict",
           "type_check": true
          },
          {
           "dataType": "string",
           "default": "",
           "flow": "atomic",
           "help": null,
           "isdict": false,
           "islist": false,
           "label": "source",
           "meta": {},
           "name": "source",
           "series": false,
           "type": "str",
           "type_check": true
          }
         ],
         "outputs": [
          {
           "flow": "atomic",
           "help": null,
           "label": "data",
           "meta": {},
           "name": "data",
           "series": false,
           "type": "DataFrame",
           "type_check": true
          }
         ],
         "overwritten": false,
         "published": true,
         "var_names": [
          "ReadCsvProjectSpace"
         ]
        },
        {
         "class_name": "NonSparkPath",
         "fullname": "razor.project.blocks.ayan_spark_blocks_clone.NonSparkPath",
         "id": "51e11241-6750-40a7-8da5-a91e99bccac1",
         "inputs": [
          {
           "dataType": "string",
           "default": "",
           "flow": "atomic",
           "help": null,
           "isdict": false,
           "islist": false,
           "label": "ip_path",
           "meta": {},
           "name": "ip_path",
           "series": false,
           "type": "str",
           "type_check": true
          }
         ],
         "outputs": [
          {
           "flow": "atomic",
           "help": null,
           "label": "op_path",
           "meta": {},
           "name": "op_path",
           "series": false,
           "type": "str",
           "type_check": true
          }
         ],
         "overwritten": false,
         "published": true,
         "var_names": [
          "NonSparkPath"
         ]
        },
        {
         "class_name": "CustMercTS",
         "fullname": "razor.project.blocks.ayan_spark_blocks_clone.CustMercTS",
         "id": "cfabbbdc-ec26-4142-ab5f-336483e44660",
         "inputs": [
          {
           "dataType": null,
           "default": null,
           "flow": "atomic",
           "help": null,
           "isdict": false,
           "islist": false,
           "label": "ip_data",
           "meta": {},
           "name": "ip_data",
           "series": false,
           "type": "DataFrame",
           "type_check": true
          },
          {
           "dataType": "dict",
           "default": {},
           "flow": "atomic",
           "help": null,
           "isdict": false,
           "islist": false,
           "label": "config",
           "meta": {},
           "name": "config",
           "series": false,
           "type": "dict",
           "type_check": true
          },
          {
           "dataType": "string",
           "default": "",
           "flow": "atomic",
           "help": null,
           "isdict": false,
           "islist": false,
           "label": "source",
           "meta": {},
           "name": "source",
           "series": false,
           "type": "str",
           "type_check": true
          }
         ],
         "outputs": [
          {
           "flow": "atomic",
           "help": null,
           "label": "customer_ts",
           "meta": {},
           "name": "customer_ts",
           "series": false,
           "type": "DataFrame",
           "type_check": true
          },
          {
           "flow": "atomic",
           "help": null,
           "label": "merchant_ts",
           "meta": {},
           "name": "merchant_ts",
           "series": false,
           "type": "DataFrame",
           "type_check": true
          }
         ],
         "overwritten": false,
         "published": true,
         "var_names": [
          "CustMercTS"
         ]
        }
       ],
       "connections": [
        {
         "id": "30af7bab-bee1-4555-9063-7b3a6a67b896",
         "source": {
          "adapter": false,
          "instance_id": "5d52d47e-0b3e-424c-aab1-5c3c69456ac2",
          "name": "data"
         },
         "target": {
          "adapter": false,
          "instance_id": "de7646cb-e521-4e2d-8992-5054597333e4",
          "name": "ip_data"
         }
        },
        {
         "id": "c40de670-fa02-4589-8d47-b16ffe6ecb61",
         "source": {
          "adapter": false,
          "instance_id": "1c4e5112-baf0-4819-98c3-ed50ff712c21",
          "name": "op_path"
         },
         "target": {
          "adapter": false,
          "instance_id": "5d52d47e-0b3e-424c-aab1-5c3c69456ac2",
          "name": "filename"
         }
        }
       ],
       "id": "ba91b959-1698-4085-af5f-f54a68ff5b49",
       "instances": [
        {
         "block_class": "cfabbbdc-ec26-4142-ab5f-336483e44660",
         "id": "de7646cb-e521-4e2d-8992-5054597333e4",
         "name": "CustMercTS_1",
         "var_names": [
          "cm_ts"
         ]
        },
        {
         "block_class": "e8f8c5c9-c040-40d6-8057-f1cf539feef0",
         "id": "5d52d47e-0b3e-424c-aab1-5c3c69456ac2",
         "name": "ReadCsvProjectSpace_1",
         "var_names": [
          "rcp"
         ]
        },
        {
         "block_class": "51e11241-6750-40a7-8da5-a91e99bccac1",
         "id": "1c4e5112-baf0-4819-98c3-ed50ff712c21",
         "name": "NonSparkPath_1",
         "var_names": [
          "nsp"
         ]
        }
       ],
       "name": "temp",
       "var_names": []
      },
      "image/svg+xml": [
       "<?xml version=\"1.0\" encoding=\"UTF-8\" standalone=\"no\"?>\n",
       "<!DOCTYPE svg PUBLIC \"-//W3C//DTD SVG 1.1//EN\"\n",
       " \"http://www.w3.org/Graphics/SVG/1.1/DTD/svg11.dtd\">\n",
       "<!-- Generated by graphviz version 2.43.0 (0)\n",
       " -->\n",
       "<!-- Title: %3 Pages: 1 -->\n",
       "<svg width=\"306pt\" height=\"210pt\"\n",
       " viewBox=\"0.00 0.00 305.86 210.00\" xmlns=\"http://www.w3.org/2000/svg\" xmlns:xlink=\"http://www.w3.org/1999/xlink\">\n",
       "<g id=\"graph0\" class=\"graph\" transform=\"scale(1 1) rotate(0) translate(4 206)\">\n",
       "<title>%3</title>\n",
       "<polygon fill=\"white\" stroke=\"transparent\" points=\"-4,4 -4,-206 301.86,-206 301.86,4 -4,4\"/>\n",
       "<!-- CustMercTS(&#39;CustMercTS_1&#39;) -->\n",
       "<g id=\"node1\" class=\"node\">\n",
       "<title>CustMercTS(&#39;CustMercTS_1&#39;)</title>\n",
       "<ellipse fill=\"none\" stroke=\"black\" cx=\"148.93\" cy=\"-18\" rx=\"92.34\" ry=\"18\"/>\n",
       "<text text-anchor=\"middle\" x=\"148.93\" y=\"-15.5\" font-family=\"Helvetica,sans-Serif\" font-size=\"10.00\">CustMercTS(&#39;CustMercTS_1&#39;)</text>\n",
       "</g>\n",
       "<!-- ReadCsvProjectSpace(&#39;ReadCsvProjectSpace_1&#39;) -->\n",
       "<g id=\"node2\" class=\"node\">\n",
       "<title>ReadCsvProjectSpace(&#39;ReadCsvProjectSpace_1&#39;)</title>\n",
       "<ellipse fill=\"none\" stroke=\"black\" cx=\"148.93\" cy=\"-101\" rx=\"148.86\" ry=\"18\"/>\n",
       "<text text-anchor=\"middle\" x=\"148.93\" y=\"-98.5\" font-family=\"Helvetica,sans-Serif\" font-size=\"10.00\">ReadCsvProjectSpace(&#39;ReadCsvProjectSpace_1&#39;)</text>\n",
       "</g>\n",
       "<!-- ReadCsvProjectSpace(&#39;ReadCsvProjectSpace_1&#39;)&#45;&gt;CustMercTS(&#39;CustMercTS_1&#39;) -->\n",
       "<g id=\"edge1\" class=\"edge\">\n",
       "<title>ReadCsvProjectSpace(&#39;ReadCsvProjectSpace_1&#39;)&#45;&gt;CustMercTS(&#39;CustMercTS_1&#39;)</title>\n",
       "<path fill=\"none\" stroke=\"black\" d=\"M148.93,-82.82C148.93,-72.19 148.93,-58.31 148.93,-46.2\"/>\n",
       "<polygon fill=\"black\" stroke=\"black\" points=\"152.43,-46.15 148.93,-36.15 145.43,-46.15 152.43,-46.15\"/>\n",
       "<text text-anchor=\"middle\" x=\"183.93\" y=\"-57\" font-family=\"Helvetica,sans-Serif\" font-size=\"10.00\">data&#45;&gt;ip_data</text>\n",
       "</g>\n",
       "<!-- NonSparkPath(&#39;NonSparkPath_1&#39;) -->\n",
       "<g id=\"node3\" class=\"node\">\n",
       "<title>NonSparkPath(&#39;NonSparkPath_1&#39;)</title>\n",
       "<ellipse fill=\"none\" stroke=\"black\" cx=\"148.93\" cy=\"-184\" rx=\"104.56\" ry=\"18\"/>\n",
       "<text text-anchor=\"middle\" x=\"148.93\" y=\"-181.5\" font-family=\"Helvetica,sans-Serif\" font-size=\"10.00\">NonSparkPath(&#39;NonSparkPath_1&#39;)</text>\n",
       "</g>\n",
       "<!-- NonSparkPath(&#39;NonSparkPath_1&#39;)&#45;&gt;ReadCsvProjectSpace(&#39;ReadCsvProjectSpace_1&#39;) -->\n",
       "<g id=\"edge2\" class=\"edge\">\n",
       "<title>NonSparkPath(&#39;NonSparkPath_1&#39;)&#45;&gt;ReadCsvProjectSpace(&#39;ReadCsvProjectSpace_1&#39;)</title>\n",
       "<path fill=\"none\" stroke=\"black\" d=\"M148.93,-165.82C148.93,-155.19 148.93,-141.31 148.93,-129.2\"/>\n",
       "<polygon fill=\"black\" stroke=\"black\" points=\"152.43,-129.15 148.93,-119.15 145.43,-129.15 152.43,-129.15\"/>\n",
       "<text text-anchor=\"middle\" x=\"195.93\" y=\"-140\" font-family=\"Helvetica,sans-Serif\" font-size=\"10.00\">op_path&#45;&gt;filename</text>\n",
       "</g>\n",
       "</g>\n",
       "</svg>\n"
      ],
      "text/plain": [
       "<razor.flow.async_pipeline.Pipeline at 0x7f8b552e1c50>"
      ]
     },
     "execution_count": 14,
     "metadata": {},
     "output_type": "execute_result"
    }
   ],
   "source": [
    "pipe"
   ]
  },
  {
   "cell_type": "code",
   "execution_count": 15,
   "id": "weighted-fountain",
   "metadata": {},
   "outputs": [],
   "source": [
    "import sys"
   ]
  },
  {
   "cell_type": "code",
   "execution_count": 16,
   "id": "unauthorized-cassette",
   "metadata": {},
   "outputs": [],
   "source": [
    "# def init_blocks():\n",
    "#     try:\n",
    "#         sys.path.append('/home/aios/published-packages/')\n",
    "#         import project\n",
    "#         import org\n",
    "#         import marketplace\n",
    "#         sys.modules['razor.org'] = org\n",
    "#         sys.modules['razor.marketplace'] = marketplace\n",
    "#         sys.modules['razor.project'] = project\n",
    "#     except Exception as e:\n",
    "#         pass\n",
    "# #         std_logger.exception(str(e))\n",
    "# #         std_logger.error(\"Couldn't setup block space!\")"
   ]
  },
  {
   "cell_type": "code",
   "execution_count": 17,
   "id": "ruled-strengthening",
   "metadata": {},
   "outputs": [],
   "source": [
    "#init_blocks()"
   ]
  },
  {
   "cell_type": "code",
   "execution_count": 18,
   "id": "exciting-binding",
   "metadata": {},
   "outputs": [],
   "source": [
    "import os\n",
    "#os.environ\n",
    "os.environ[\"PYTHON_PATH\"] = \"/usr/local/bin/python:/home/aios/published-packages/\""
   ]
  },
  {
   "cell_type": "code",
   "execution_count": 19,
   "id": "inner-consent",
   "metadata": {},
   "outputs": [
    {
     "data": {
      "text/plain": [
       "['/home/aios/work-dir/ayan',\n",
       " '/tmp/spark-7a48dcf9-5942-4af7-9868-d96a920bba45/userFiles-e205bf93-b36b-4f51-a978-27127acb1b43',\n",
       " '/usr/lib/python37.zip',\n",
       " '/usr/lib/python3.7',\n",
       " '/usr/lib/python3.7/lib-dynload',\n",
       " '',\n",
       " '/home/aios/.local/lib/python3.7/site-packages',\n",
       " '/usr/local/lib/python3.7/dist-packages',\n",
       " '/usr/lib/python3/dist-packages',\n",
       " '/usr/local/lib/python3.7/dist-packages/IPython/extensions',\n",
       " '/home/aios/.ipython',\n",
       " '/home/aios/published-packages/']"
      ]
     },
     "execution_count": 19,
     "metadata": {},
     "output_type": "execute_result"
    }
   ],
   "source": [
    "sys.path"
   ]
  },
  {
   "cell_type": "code",
   "execution_count": 20,
   "id": "healthy-volume",
   "metadata": {},
   "outputs": [
    {
     "data": {
      "text/plain": [
       "<module 'project' (namespace)>"
      ]
     },
     "execution_count": 20,
     "metadata": {},
     "output_type": "execute_result"
    }
   ],
   "source": [
    "sys.modules['razor.project']"
   ]
  },
  {
   "cell_type": "code",
   "execution_count": 21,
   "id": "extreme-place",
   "metadata": {},
   "outputs": [
    {
     "name": "stdout",
     "output_type": "stream",
     "text": [
      "/usr/local/bin/python\n"
     ]
    }
   ],
   "source": [
    "!which python"
   ]
  },
  {
   "cell_type": "code",
   "execution_count": 22,
   "id": "undefined-contrary",
   "metadata": {},
   "outputs": [
    {
     "name": "stdout",
     "output_type": "stream",
     "text": [
      "log path: /tmp/tmptk2qg6l1/temp\n"
     ]
    },
    {
     "data": {
      "application/vnd.razorthink.run+monitor+json": "/tmp/tmptk2qg6l1/temp",
      "text/plain": [
       "<razor_tools.backend.ipython.mime.run_monitor.RunMonitor at 0x7f8b553ad050>"
      ]
     },
     "metadata": {
      "application/vnd.razorthink.run+monitor+json": {
       "run_data": {
        "apm": [
         {
          "cpu_percent": 0,
          "cpu_time": 0,
          "name": "NonSparkPath_1",
          "real_mem": 157110272,
          "time": 1616581118.66299
         },
         {
          "cpu_percent": 0,
          "cpu_time": 0.03,
          "name": "NonSparkPath_1",
          "real_mem": 158740480,
          "time": 1616581118.775411
         },
         {
          "cpu_percent": 67.7,
          "cpu_time": 0.04,
          "name": "NonSparkPath_1",
          "real_mem": 159035392,
          "time": 1616581118.8919463
         },
         {
          "cpu_percent": 0,
          "cpu_time": 0,
          "name": "CustMercTS_1",
          "real_mem": 157405184,
          "time": 1616581118.9545457
         },
         {
          "cpu_percent": 0,
          "cpu_time": 0,
          "name": "ReadCsvProjectSpace_1",
          "real_mem": 157487104,
          "time": 1616581118.9831166
         },
         {
          "cpu_percent": 0,
          "cpu_time": 0.05,
          "name": "NonSparkPath_1",
          "real_mem": 159367168,
          "time": 1616581119.0033317
         },
         {
          "cpu_percent": 0,
          "cpu_time": 0.03,
          "name": "CustMercTS_1",
          "real_mem": 157782016,
          "time": 1616581119.0995739
         },
         {
          "cpu_percent": 0,
          "cpu_time": 0.03,
          "name": "ReadCsvProjectSpace_1",
          "real_mem": 157782016,
          "time": 1616581119.1108491
         },
         {
          "cpu_percent": 0,
          "cpu_time": 0.03,
          "name": "ReadCsvProjectSpace_1",
          "real_mem": 157782016,
          "time": 1616581119.2231154
         },
         {
          "cpu_percent": 0,
          "cpu_time": 0.03,
          "name": "CustMercTS_1",
          "real_mem": 157782016,
          "time": 1616581119.2117486
         },
         {
          "cpu_percent": 98.7,
          "cpu_time": 0.04,
          "name": "CustMercTS_1",
          "real_mem": 157782016,
          "time": 1616581119.3241882
         },
         {
          "cpu_percent": 0,
          "cpu_time": 0.04,
          "name": "ReadCsvProjectSpace_1",
          "real_mem": 157782016,
          "time": 1616581119.3360558
         },
         {
          "cpu_percent": 0,
          "cpu_time": 0.04,
          "name": "CustMercTS_1",
          "real_mem": 157782016,
          "time": 1616581119.4881403
         },
         {
          "cpu_percent": 0,
          "cpu_time": 0.04,
          "name": "ReadCsvProjectSpace_1",
          "real_mem": 157782016,
          "time": 1616581119.4999797
         },
         {
          "cpu_percent": 0,
          "cpu_time": 0.04,
          "name": "CustMercTS_1",
          "real_mem": 157782016,
          "time": 1616581119.6003513
         },
         {
          "cpu_percent": 0,
          "cpu_time": 0.04,
          "name": "ReadCsvProjectSpace_1",
          "real_mem": 157782016,
          "time": 1616581119.6122422
         },
         {
          "cpu_percent": 0,
          "cpu_time": 0.04,
          "name": "CustMercTS_1",
          "real_mem": 157782016,
          "time": 1616581119.713411
         },
         {
          "cpu_percent": 0,
          "cpu_time": 0.04,
          "name": "ReadCsvProjectSpace_1",
          "real_mem": 157782016,
          "time": 1616581119.7248461
         },
         {
          "cpu_percent": 0,
          "cpu_time": 0.05,
          "name": "CustMercTS_1",
          "real_mem": 157782016,
          "time": 1616581119.8259459
         },
         {
          "cpu_percent": 0,
          "cpu_time": 0.06,
          "name": "ReadCsvProjectSpace_1",
          "real_mem": 157782016,
          "time": 1616581119.8372672
         },
         {
          "cpu_percent": 0,
          "cpu_time": 0.06,
          "name": "CustMercTS_1",
          "real_mem": 157835264,
          "time": 1616581119.9384212
         },
         {
          "cpu_percent": 0,
          "cpu_time": 0.06,
          "name": "ReadCsvProjectSpace_1",
          "real_mem": 157835264,
          "time": 1616581119.9983788
         },
         {
          "cpu_percent": 0,
          "cpu_time": 0.06,
          "name": "CustMercTS_1",
          "real_mem": 157835264,
          "time": 1616581120.050376
         },
         {
          "cpu_percent": 0,
          "cpu_time": 0.06,
          "name": "ReadCsvProjectSpace_1",
          "real_mem": 157835264,
          "time": 1616581120.1102643
         },
         {
          "cpu_percent": 0,
          "cpu_time": 0.06,
          "name": "CustMercTS_1",
          "real_mem": 157835264,
          "time": 1616581120.198286
         },
         {
          "cpu_percent": 0,
          "cpu_time": 0.06,
          "name": "ReadCsvProjectSpace_1",
          "real_mem": 157835264,
          "time": 1616581120.2220507
         },
         {
          "cpu_percent": 0,
          "cpu_time": 0.07,
          "name": "CustMercTS_1",
          "real_mem": 157835264,
          "time": 1616581120.3102486
         },
         {
          "cpu_percent": 0,
          "cpu_time": 0.07,
          "name": "ReadCsvProjectSpace_1",
          "real_mem": 157835264,
          "time": 1616581120.3340511
         },
         {
          "cpu_percent": 0,
          "cpu_time": 0.07,
          "name": "CustMercTS_1",
          "real_mem": 157835264,
          "time": 1616581120.4220607
         },
         {
          "cpu_percent": 0,
          "cpu_time": 0.07,
          "name": "ReadCsvProjectSpace_1",
          "real_mem": 157835264,
          "time": 1616581120.446076
         },
         {
          "cpu_percent": 0,
          "cpu_time": 0.07,
          "name": "CustMercTS_1",
          "real_mem": 157835264,
          "time": 1616581120.534093
         },
         {
          "cpu_percent": 0,
          "cpu_time": 0.07,
          "name": "ReadCsvProjectSpace_1",
          "real_mem": 157835264,
          "time": 1616581120.5989642
         },
         {
          "cpu_percent": 0,
          "cpu_time": 0.07,
          "name": "CustMercTS_1",
          "real_mem": 157835264,
          "time": 1616581120.6982367
         },
         {
          "cpu_percent": 0,
          "cpu_time": 0.08,
          "name": "ReadCsvProjectSpace_1",
          "real_mem": 157835264,
          "time": 1616581120.7109435
         },
         {
          "cpu_percent": 0,
          "cpu_time": 0.08,
          "name": "CustMercTS_1",
          "real_mem": 157835264,
          "time": 1616581120.810845
         },
         {
          "cpu_percent": 0,
          "cpu_time": 0.08,
          "name": "ReadCsvProjectSpace_1",
          "real_mem": 157835264,
          "time": 1616581120.8248456
         },
         {
          "cpu_percent": 0,
          "cpu_time": 0.09,
          "name": "CustMercTS_1",
          "real_mem": 157835264,
          "time": 1616581120.9229689
         },
         {
          "cpu_percent": 0,
          "cpu_time": 0.09,
          "name": "ReadCsvProjectSpace_1",
          "real_mem": 157835264,
          "time": 1616581120.9367337
         },
         {
          "cpu_percent": 0,
          "cpu_time": 0.09,
          "name": "CustMercTS_1",
          "real_mem": 157835264,
          "time": 1616581121.0345633
         },
         {
          "cpu_percent": 0,
          "cpu_time": 0.09,
          "name": "ReadCsvProjectSpace_1",
          "real_mem": 157835264,
          "time": 1616581121.04822
         },
         {
          "cpu_percent": 0,
          "cpu_time": 0.09,
          "name": "CustMercTS_1",
          "real_mem": 157835264,
          "time": 1616581121.1481378
         },
         {
          "cpu_percent": 0,
          "cpu_time": 0.09,
          "name": "ReadCsvProjectSpace_1",
          "real_mem": 157835264,
          "time": 1616581121.1983402
         },
         {
          "cpu_percent": 0,
          "cpu_time": 0.09,
          "name": "CustMercTS_1",
          "real_mem": 157835264,
          "time": 1616581121.2994266
         },
         {
          "cpu_percent": 0,
          "cpu_time": 0.09,
          "name": "ReadCsvProjectSpace_1",
          "real_mem": 157835264,
          "time": 1616581121.3111827
         },
         {
          "cpu_percent": 0,
          "cpu_time": 0.1,
          "name": "CustMercTS_1",
          "real_mem": 157835264,
          "time": 1616581121.4117105
         },
         {
          "cpu_percent": 0,
          "cpu_time": 0.1,
          "name": "ReadCsvProjectSpace_1",
          "real_mem": 157835264,
          "time": 1616581121.4230075
         },
         {
          "cpu_percent": 0,
          "cpu_time": 0.1,
          "name": "CustMercTS_1",
          "real_mem": 157835264,
          "time": 1616581121.5243394
         },
         {
          "cpu_percent": 0,
          "cpu_time": 0.1,
          "name": "ReadCsvProjectSpace_1",
          "real_mem": 157835264,
          "time": 1616581121.5355866
         },
         {
          "cpu_percent": 0,
          "cpu_time": 0.11,
          "name": "CustMercTS_1",
          "real_mem": 157835264,
          "time": 1616581121.6363864
         },
         {
          "cpu_percent": 0,
          "cpu_time": 0.11,
          "name": "ReadCsvProjectSpace_1",
          "real_mem": 157835264,
          "time": 1616581121.6479146
         },
         {
          "cpu_percent": 0,
          "cpu_time": 0.11,
          "name": "ReadCsvProjectSpace_1",
          "real_mem": 157835264,
          "time": 1616581121.8101356
         },
         {
          "cpu_percent": 0,
          "cpu_time": 0.11,
          "name": "CustMercTS_1",
          "real_mem": 157835264,
          "time": 1616581121.7984993
         },
         {
          "cpu_percent": 0,
          "cpu_time": 0.11,
          "name": "CustMercTS_1",
          "real_mem": 157835264,
          "time": 1616581121.9108062
         },
         {
          "cpu_percent": 0,
          "cpu_time": 0.11,
          "name": "ReadCsvProjectSpace_1",
          "real_mem": 157835264,
          "time": 1616581121.92205
         },
         {
          "cpu_percent": 0,
          "cpu_time": 0.12,
          "name": "CustMercTS_1",
          "real_mem": 157835264,
          "time": 1616581122.0235176
         },
         {
          "cpu_percent": 0,
          "cpu_time": 0.12,
          "name": "ReadCsvProjectSpace_1",
          "real_mem": 157835264,
          "time": 1616581122.03534
         },
         {
          "cpu_percent": 0,
          "cpu_time": 0.12,
          "name": "CustMercTS_1",
          "real_mem": 157835264,
          "time": 1616581122.1352732
         },
         {
          "cpu_percent": 0,
          "cpu_time": 0.12,
          "name": "ReadCsvProjectSpace_1",
          "real_mem": 157835264,
          "time": 1616581122.187944
         },
         {
          "cpu_percent": 0,
          "cpu_time": 0.12,
          "name": "CustMercTS_1",
          "real_mem": 157835264,
          "time": 1616581122.2887998
         },
         {
          "cpu_percent": 0,
          "cpu_time": 0.12,
          "name": "ReadCsvProjectSpace_1",
          "real_mem": 157835264,
          "time": 1616581122.300575
         },
         {
          "cpu_percent": 0,
          "cpu_time": 0.12,
          "name": "CustMercTS_1",
          "real_mem": 157835264,
          "time": 1616581122.4011936
         },
         {
          "cpu_percent": 98.4,
          "cpu_time": 0.13,
          "name": "ReadCsvProjectSpace_1",
          "real_mem": 157835264,
          "time": 1616581122.412579
         },
         {
          "cpu_percent": 0,
          "cpu_time": 0.13,
          "name": "CustMercTS_1",
          "real_mem": 157835264,
          "time": 1616581122.5143538
         },
         {
          "cpu_percent": 0,
          "cpu_time": 0.14,
          "name": "ReadCsvProjectSpace_1",
          "real_mem": 157835264,
          "time": 1616581122.5255694
         },
         {
          "cpu_percent": 0,
          "cpu_time": 0.14,
          "name": "CustMercTS_1",
          "real_mem": 157835264,
          "time": 1616581122.6268394
         },
         {
          "cpu_percent": 0,
          "cpu_time": 0.14,
          "name": "ReadCsvProjectSpace_1",
          "real_mem": 157835264,
          "time": 1616581122.6380947
         },
         {
          "cpu_percent": 0,
          "cpu_time": 0.14,
          "name": "CustMercTS_1",
          "real_mem": 157835264,
          "time": 1616581122.8996434
         },
         {
          "cpu_percent": 0,
          "cpu_time": 0.14,
          "name": "ReadCsvProjectSpace_1",
          "real_mem": 157835264,
          "time": 1616581122.9123955
         },
         {
          "cpu_percent": 0,
          "cpu_time": 0.14,
          "name": "CustMercTS_1",
          "real_mem": 157835264,
          "time": 1616581123.1996396
         },
         {
          "cpu_percent": 0,
          "cpu_time": 0.14,
          "name": "ReadCsvProjectSpace_1",
          "real_mem": 157835264,
          "time": 1616581123.2114525
         },
         {
          "cpu_percent": 0,
          "cpu_time": 0.15,
          "name": "CustMercTS_1",
          "real_mem": 157835264,
          "time": 1616581123.4625082
         },
         {
          "cpu_percent": 0,
          "cpu_time": 0.15,
          "name": "ReadCsvProjectSpace_1",
          "real_mem": 157835264,
          "time": 1616581123.47391
         },
         {
          "cpu_percent": 0,
          "cpu_time": 0.15,
          "name": "CustMercTS_1",
          "real_mem": 157835264,
          "time": 1616581123.7261388
         },
         {
          "cpu_percent": 0,
          "cpu_time": 0.15,
          "name": "ReadCsvProjectSpace_1",
          "real_mem": 157835264,
          "time": 1616581123.7373624
         },
         {
          "cpu_percent": 0,
          "cpu_time": 0.15,
          "name": "CustMercTS_1",
          "real_mem": 157835264,
          "time": 1616581123.989406
         },
         {
          "cpu_percent": 0,
          "cpu_time": 0.15,
          "name": "ReadCsvProjectSpace_1",
          "real_mem": 157835264,
          "time": 1616581124.00124
         },
         {
          "cpu_percent": 0,
          "cpu_time": 0.15,
          "name": "CustMercTS_1",
          "real_mem": 157835264,
          "time": 1616581124.2530694
         },
         {
          "cpu_percent": 0,
          "cpu_time": 0.15,
          "name": "ReadCsvProjectSpace_1",
          "real_mem": 157835264,
          "time": 1616581124.2645934
         },
         {
          "cpu_percent": 0,
          "cpu_time": 0.16,
          "name": "CustMercTS_1",
          "real_mem": 157835264,
          "time": 1616581124.5161765
         },
         {
          "cpu_percent": 0,
          "cpu_time": 0.17,
          "name": "ReadCsvProjectSpace_1",
          "real_mem": 157835264,
          "time": 1616581124.527817
         },
         {
          "cpu_percent": 0,
          "cpu_time": 0.17,
          "name": "CustMercTS_1",
          "real_mem": 157835264,
          "time": 1616581124.798445
         },
         {
          "cpu_percent": 0,
          "cpu_time": 0.17,
          "name": "ReadCsvProjectSpace_1",
          "real_mem": 157835264,
          "time": 1616581124.8102672
         },
         {
          "cpu_percent": 0,
          "cpu_time": 0.17,
          "name": "CustMercTS_1",
          "real_mem": 157835264,
          "time": 1616581125.098596
         },
         {
          "cpu_percent": 0,
          "cpu_time": 0.17,
          "name": "ReadCsvProjectSpace_1",
          "real_mem": 157835264,
          "time": 1616581125.110304
         },
         {
          "cpu_percent": 0,
          "cpu_time": 0.17,
          "name": "CustMercTS_1",
          "real_mem": 157835264,
          "time": 1616581125.3984454
         },
         {
          "cpu_percent": 0,
          "cpu_time": 0.17,
          "name": "ReadCsvProjectSpace_1",
          "real_mem": 157835264,
          "time": 1616581125.4101672
         },
         {
          "cpu_percent": 0,
          "cpu_time": 0.18,
          "name": "ReadCsvProjectSpace_1",
          "real_mem": 157835264,
          "time": 1616581125.7104661
         },
         {
          "cpu_percent": 0,
          "cpu_time": 0.17,
          "name": "CustMercTS_1",
          "real_mem": 157835264,
          "time": 1616581125.6984792
         },
         {
          "cpu_percent": 0,
          "cpu_time": 0.18,
          "name": "CustMercTS_1",
          "real_mem": 157835264,
          "time": 1616581125.99908
         },
         {
          "cpu_percent": 0,
          "cpu_time": 0.18,
          "name": "ReadCsvProjectSpace_1",
          "real_mem": 157835264,
          "time": 1616581126.0108354
         },
         {
          "cpu_percent": 0,
          "cpu_time": 0.18,
          "name": "ReadCsvProjectSpace_1",
          "real_mem": 157835264,
          "time": 1616581126.3004644
         },
         {
          "cpu_percent": 0,
          "cpu_time": 0.18,
          "name": "CustMercTS_1",
          "real_mem": 157835264,
          "time": 1616581126.2880926
         },
         {
          "cpu_percent": 97.4,
          "cpu_time": 0.19,
          "name": "CustMercTS_1",
          "real_mem": 157835264,
          "time": 1616581126.5986173
         },
         {
          "cpu_percent": 0,
          "cpu_time": 0.19,
          "name": "ReadCsvProjectSpace_1",
          "real_mem": 157835264,
          "time": 1616581126.6103272
         },
         {
          "cpu_percent": 0,
          "cpu_time": 0.2,
          "name": "CustMercTS_1",
          "real_mem": 157835264,
          "time": 1616581126.8993893
         },
         {
          "cpu_percent": 0,
          "cpu_time": 0.2,
          "name": "ReadCsvProjectSpace_1",
          "real_mem": 157835264,
          "time": 1616581126.9115167
         },
         {
          "cpu_percent": 0,
          "cpu_time": 0.2,
          "name": "CustMercTS_1",
          "real_mem": 157835264,
          "time": 1616581127.1994634
         },
         {
          "cpu_percent": 0,
          "cpu_time": 0.2,
          "name": "ReadCsvProjectSpace_1",
          "real_mem": 157835264,
          "time": 1616581127.2113793
         },
         {
          "cpu_percent": 0,
          "cpu_time": 0.2,
          "name": "CustMercTS_1",
          "real_mem": 157835264,
          "time": 1616581127.462687
         },
         {
          "cpu_percent": 0,
          "cpu_time": 0.2,
          "name": "ReadCsvProjectSpace_1",
          "real_mem": 157835264,
          "time": 1616581127.4740593
         },
         {
          "cpu_percent": 0,
          "cpu_time": 0.2,
          "name": "CustMercTS_1",
          "real_mem": 157835264,
          "time": 1616581127.724887
         },
         {
          "cpu_percent": 0,
          "cpu_time": 0.21,
          "name": "ReadCsvProjectSpace_1",
          "real_mem": 157835264,
          "time": 1616581127.7983963
         },
         {
          "cpu_percent": 0,
          "cpu_time": 0.21,
          "name": "CustMercTS_1",
          "real_mem": 157835264,
          "time": 1616581127.9998507
         },
         {
          "cpu_percent": 0,
          "cpu_time": 0.21,
          "name": "ReadCsvProjectSpace_1",
          "real_mem": 157835264,
          "time": 1616581128.0996778
         },
         {
          "cpu_percent": 0,
          "cpu_time": 0.21,
          "name": "CustMercTS_1",
          "real_mem": 157835264,
          "time": 1616581128.2994668
         },
         {
          "cpu_percent": 0,
          "cpu_time": 0.21,
          "name": "ReadCsvProjectSpace_1",
          "real_mem": 157835264,
          "time": 1616581128.400646
         },
         {
          "cpu_percent": 0,
          "cpu_time": 0.21,
          "name": "CustMercTS_1",
          "real_mem": 157835264,
          "time": 1616581128.5991714
         },
         {
          "cpu_percent": 0,
          "cpu_time": 0.23,
          "name": "ReadCsvProjectSpace_1",
          "real_mem": 157835264,
          "time": 1616581128.6998684
         },
         {
          "cpu_percent": 0,
          "cpu_time": 0.23,
          "name": "CustMercTS_1",
          "real_mem": 157835264,
          "time": 1616581128.8984916
         },
         {
          "cpu_percent": 0,
          "cpu_time": 0.23,
          "name": "ReadCsvProjectSpace_1",
          "real_mem": 157835264,
          "time": 1616581128.9880981
         },
         {
          "cpu_percent": 0,
          "cpu_time": 0.23,
          "name": "CustMercTS_1",
          "real_mem": 157835264,
          "time": 1616581129.1994383
         },
         {
          "cpu_percent": 0,
          "cpu_time": 0.23,
          "name": "ReadCsvProjectSpace_1",
          "real_mem": 157835264,
          "time": 1616581129.2906718
         },
         {
          "cpu_percent": 0,
          "cpu_time": 0.23,
          "name": "CustMercTS_1",
          "real_mem": 157835264,
          "time": 1616581129.461931
         },
         {
          "cpu_percent": 0,
          "cpu_time": 0.24,
          "name": "ReadCsvProjectSpace_1",
          "real_mem": 157835264,
          "time": 1616581129.5529463
         },
         {
          "cpu_percent": 0,
          "cpu_time": 0.24,
          "name": "CustMercTS_1",
          "real_mem": 157835264,
          "time": 1616581129.7239456
         },
         {
          "cpu_percent": 0,
          "cpu_time": 0.24,
          "name": "ReadCsvProjectSpace_1",
          "real_mem": 157835264,
          "time": 1616581129.8151588
         },
         {
          "cpu_percent": 0,
          "cpu_time": 0.24,
          "name": "CustMercTS_1",
          "real_mem": 157835264,
          "time": 1616581129.9987662
         },
         {
          "cpu_percent": 0,
          "cpu_time": 0.24,
          "name": "ReadCsvProjectSpace_1",
          "real_mem": 157835264,
          "time": 1616581130.0998864
         },
         {
          "cpu_percent": 0,
          "cpu_time": 0.24,
          "name": "CustMercTS_1",
          "real_mem": 157835264,
          "time": 1616581130.2614815
         },
         {
          "cpu_percent": 0,
          "cpu_time": 0.25,
          "name": "ReadCsvProjectSpace_1",
          "real_mem": 157835264,
          "time": 1616581130.3984184
         },
         {
          "cpu_percent": 0,
          "cpu_time": 0.25,
          "name": "CustMercTS_1",
          "real_mem": 157835264,
          "time": 1616581130.5236602
         },
         {
          "cpu_percent": 0,
          "cpu_time": 0.25,
          "name": "ReadCsvProjectSpace_1",
          "real_mem": 158052352,
          "time": 1616581130.7224102
         },
         {
          "cpu_percent": 0,
          "cpu_time": 0.27,
          "name": "CustMercTS_1",
          "real_mem": 158052352,
          "time": 1616581131.088121
         },
         {
          "cpu_percent": 0,
          "cpu_time": 0.28,
          "name": "CustMercTS_1",
          "real_mem": 158097408,
          "time": 1616581131.6009293
         },
         {
          "cpu_percent": 0,
          "cpu_time": 0.3,
          "name": "CustMercTS_1",
          "real_mem": 158154752,
          "time": 1616581132.1135273
         },
         {
          "cpu_percent": 0,
          "cpu_time": 0.32,
          "name": "CustMercTS_1",
          "real_mem": 158154752,
          "time": 1616581132.625817
         },
         {
          "cpu_percent": 0,
          "cpu_time": 0.35,
          "name": "CustMercTS_1",
          "real_mem": 158154752,
          "time": 1616581133.1382725
         },
         {
          "cpu_percent": 0,
          "cpu_time": 0.36,
          "name": "CustMercTS_1",
          "real_mem": 158154752,
          "time": 1616581133.6983328
         },
         {
          "cpu_percent": 0,
          "cpu_time": 0.39,
          "name": "CustMercTS_1",
          "real_mem": 158154752,
          "time": 1616581134.2123842
         },
         {
          "cpu_percent": 0,
          "cpu_time": 0.41,
          "name": "CustMercTS_1",
          "real_mem": 158154752,
          "time": 1616581134.726086
         },
         {
          "cpu_percent": 0,
          "cpu_time": 0.43,
          "name": "CustMercTS_1",
          "real_mem": 158154752,
          "time": 1616581135.2881477
         },
         {
          "cpu_percent": 0,
          "cpu_time": 0.43,
          "name": "CustMercTS_1",
          "real_mem": 158154752,
          "time": 1616581135.8008883
         },
         {
          "cpu_percent": 0,
          "cpu_time": 0.43,
          "name": "CustMercTS_1",
          "real_mem": 158154752,
          "time": 1616581136.3133507
         },
         {
          "cpu_percent": 0,
          "cpu_time": 0.43,
          "name": "CustMercTS_1",
          "real_mem": 158154752,
          "time": 1616581136.8262382
         },
         {
          "cpu_percent": 0,
          "cpu_time": 0.44,
          "name": "CustMercTS_1",
          "real_mem": 158154752,
          "time": 1616581137.338173
         },
         {
          "cpu_percent": 0,
          "cpu_time": 0.44,
          "name": "CustMercTS_1",
          "real_mem": 158154752,
          "time": 1616581137.9004476
         },
         {
          "cpu_percent": 0,
          "cpu_time": 0.44,
          "name": "CustMercTS_1",
          "real_mem": 158154752,
          "time": 1616581138.4145348
         },
         {
          "cpu_percent": 0,
          "cpu_time": 0.45,
          "name": "CustMercTS_1",
          "real_mem": 158154752,
          "time": 1616581138.9278352
         },
         {
          "cpu_percent": 0,
          "cpu_time": 0.46,
          "name": "CustMercTS_1",
          "real_mem": 158154752,
          "time": 1616581139.8022406
         },
         {
          "cpu_percent": 0,
          "cpu_time": 0.47,
          "name": "CustMercTS_1",
          "real_mem": 158154752,
          "time": 1616581140.31879
         },
         {
          "cpu_percent": 0,
          "cpu_time": 0.47,
          "name": "CustMercTS_1",
          "real_mem": 158154752,
          "time": 1616581140.8314545
         },
         {
          "cpu_percent": 0,
          "cpu_time": 0.47,
          "name": "CustMercTS_1",
          "real_mem": 158154752,
          "time": 1616581141.399381
         },
         {
          "cpu_percent": 0,
          "cpu_time": 0.48,
          "name": "CustMercTS_1",
          "real_mem": 158154752,
          "time": 1616581142.4128213
         },
         {
          "cpu_percent": 0,
          "cpu_time": 0.48,
          "name": "CustMercTS_1",
          "real_mem": 158154752,
          "time": 1616581143.4266489
         },
         {
          "cpu_percent": 0,
          "cpu_time": 0.48,
          "name": "CustMercTS_1",
          "real_mem": 158154752,
          "time": 1616581144.4984019
         },
         {
          "cpu_percent": 0,
          "cpu_time": 0.48,
          "name": "CustMercTS_1",
          "real_mem": 158154752,
          "time": 1616581145.5116723
         },
         {
          "cpu_percent": 0,
          "cpu_time": 0.49,
          "name": "CustMercTS_1",
          "real_mem": 158154752,
          "time": 1616581146.524416
         },
         {
          "cpu_percent": 0,
          "cpu_time": 0.49,
          "name": "CustMercTS_1",
          "real_mem": 158154752,
          "time": 1616581147.5882704
         },
         {
          "cpu_percent": 0,
          "cpu_time": 0.49,
          "name": "CustMercTS_1",
          "real_mem": 158154752,
          "time": 1616581148.6004684
         },
         {
          "cpu_percent": 0,
          "cpu_time": 0.49,
          "name": "CustMercTS_1",
          "real_mem": 158154752,
          "time": 1616581149.68827
         },
         {
          "cpu_percent": 0,
          "cpu_time": 0.5,
          "name": "CustMercTS_1",
          "real_mem": 158154752,
          "time": 1616581150.7007823
         },
         {
          "cpu_percent": 0,
          "cpu_time": 0.51,
          "name": "CustMercTS_1",
          "real_mem": 158154752,
          "time": 1616581151.7134004
         },
         {
          "cpu_percent": 0,
          "cpu_time": 0.51,
          "name": "CustMercTS_1",
          "real_mem": 158154752,
          "time": 1616581152.7279372
         }
        ],
        "logs": [
         {
          "asctime": "2021-03-24 10:18:38,645",
          "created": 1616581118.645431,
          "extra": {},
          "filename": "async_executors.py",
          "funcName": "main",
          "levelname": "DEBUG",
          "lineno": 114,
          "message": "NonSparkPath_1: started async block execution\n",
          "name": "engine.logs:NonSparkPath_1",
          "pathname": "/usr/local/lib/python3.7/dist-packages/razor/flow/async_executors.py",
          "process": 7771,
          "processName": "ForkProcess-1:1",
          "thread": 140238661281600,
          "threadName": "MainThread"
         },
         {
          "asctime": "2021-03-24 10:18:38,663",
          "created": 1616581118.663232,
          "extra": {},
          "filename": "async_executors.py",
          "funcName": "fill_atomic_inputs",
          "levelname": "INFO",
          "lineno": 250,
          "message": "NonSparkPath_1: waiting for atomic input: ip_path",
          "name": "engine.logs:NonSparkPath_1",
          "pathname": "/usr/local/lib/python3.7/dist-packages/razor/flow/async_executors.py",
          "process": 7771,
          "processName": "ForkProcess-1:1",
          "thread": 140238661281600,
          "threadName": "MainThread"
         },
         {
          "asctime": "2021-03-24 10:18:38,663",
          "created": 1616581118.6635282,
          "extra": {},
          "filename": "async_executors.py",
          "funcName": "fill_atomic_inputs",
          "levelname": "DEBUG",
          "lineno": 253,
          "message": "NonSparkPath_1: got atomic input: customer_data.csv",
          "name": "engine.logs:NonSparkPath_1",
          "pathname": "/usr/local/lib/python3.7/dist-packages/razor/flow/async_executors.py",
          "process": 7771,
          "processName": "ForkProcess-1:1",
          "thread": 140238661281600,
          "threadName": "MainThread"
         },
         {
          "asctime": "2021-03-24 10:18:38,663",
          "created": 1616581118.6636353,
          "extra": {},
          "filename": "async_executors.py",
          "funcName": "main",
          "levelname": "DEBUG",
          "lineno": 130,
          "message": "NonSparkPath_1: triggering block run",
          "name": "engine.logs:NonSparkPath_1",
          "pathname": "/usr/local/lib/python3.7/dist-packages/razor/flow/async_executors.py",
          "process": 7771,
          "processName": "ForkProcess-1:1",
          "thread": 140238661281600,
          "threadName": "MainThread"
         },
         {
          "asctime": "2021-03-24 10:18:38,907",
          "created": 1616581118.9075193,
          "extra": {},
          "filename": "async_executors.py",
          "funcName": "distribute_output_queue",
          "levelname": "DEBUG",
          "lineno": 308,
          "message": "NonSparkPath_1: ---- dist output: /home/aios/projectspace/customer_data.csv -> ('ReadCsvProjectSpace_1', 'filename')",
          "name": "engine.logs:NonSparkPath_1",
          "pathname": "/usr/local/lib/python3.7/dist-packages/razor/flow/async_executors.py",
          "process": 7771,
          "processName": "ForkProcess-1:1",
          "thread": 140238661281600,
          "threadName": "MainThread"
         },
         {
          "asctime": "2021-03-24 10:18:38,907",
          "created": 1616581118.9078026,
          "extra": {},
          "filename": "async_executors.py",
          "funcName": "main",
          "levelname": "DEBUG",
          "lineno": 147,
          "message": "NonSparkPath_1: block thread completed",
          "name": "engine.logs:NonSparkPath_1",
          "pathname": "/usr/local/lib/python3.7/dist-packages/razor/flow/async_executors.py",
          "process": 7771,
          "processName": "ForkProcess-1:1",
          "thread": 140238661281600,
          "threadName": "MainThread"
         },
         {
          "asctime": "2021-03-24 10:18:38,907",
          "created": 1616581118.9078803,
          "extra": {},
          "filename": "async_executors.py",
          "funcName": "main",
          "levelname": "DEBUG",
          "lineno": 149,
          "message": "NonSparkPath_1: block execution complete",
          "name": "engine.logs:NonSparkPath_1",
          "pathname": "/usr/local/lib/python3.7/dist-packages/razor/flow/async_executors.py",
          "process": 7771,
          "processName": "ForkProcess-1:1",
          "thread": 140238661281600,
          "threadName": "MainThread"
         },
         {
          "asctime": "2021-03-24 10:18:38,907",
          "created": 1616581118.907981,
          "extra": {},
          "filename": "async_executors.py",
          "funcName": "distribute_output_queue",
          "levelname": "DEBUG",
          "lineno": 308,
          "message": "NonSparkPath_1: ---- dist output: b'__!\\tEndOfStream\\t!__' -> ('ReadCsvProjectSpace_1', 'filename')",
          "name": "engine.logs:NonSparkPath_1",
          "pathname": "/usr/local/lib/python3.7/dist-packages/razor/flow/async_executors.py",
          "process": 7771,
          "processName": "ForkProcess-1:1",
          "thread": 140238661281600,
          "threadName": "MainThread"
         },
         {
          "asctime": "2021-03-24 10:18:38,938",
          "created": 1616581118.9380608,
          "extra": {},
          "filename": "async_executors.py",
          "funcName": "main",
          "levelname": "DEBUG",
          "lineno": 114,
          "message": "CustMercTS_1: started async block execution\n",
          "name": "engine.logs:CustMercTS_1",
          "pathname": "/usr/local/lib/python3.7/dist-packages/razor/flow/async_executors.py",
          "process": 7779,
          "processName": "ForkProcess-1:2",
          "thread": 140238661281600,
          "threadName": "MainThread"
         },
         {
          "asctime": "2021-03-24 10:18:38,939",
          "created": 1616581118.9393237,
          "extra": {},
          "filename": "async_executors.py",
          "funcName": "main",
          "levelname": "DEBUG",
          "lineno": 114,
          "message": "ReadCsvProjectSpace_1: started async block execution\n",
          "name": "engine.logs:ReadCsvProjectSpace_1",
          "pathname": "/usr/local/lib/python3.7/dist-packages/razor/flow/async_executors.py",
          "process": 7779,
          "processName": "ForkProcess-1:2",
          "thread": 140238661281600,
          "threadName": "MainThread"
         },
         {
          "asctime": "2021-03-24 10:18:38,954",
          "created": 1616581118.9548373,
          "extra": {},
          "filename": "async_executors.py",
          "funcName": "fill_atomic_inputs",
          "levelname": "INFO",
          "lineno": 250,
          "message": "CustMercTS_1: waiting for atomic input: ip_data",
          "name": "engine.logs:CustMercTS_1",
          "pathname": "/usr/local/lib/python3.7/dist-packages/razor/flow/async_executors.py",
          "process": 7779,
          "processName": "ForkProcess-1:2",
          "thread": 140238661281600,
          "threadName": "MainThread"
         },
         {
          "asctime": "2021-03-24 10:18:38,983",
          "created": 1616581118.983311,
          "extra": {},
          "filename": "async_executors.py",
          "funcName": "fill_atomic_inputs",
          "levelname": "INFO",
          "lineno": 250,
          "message": "ReadCsvProjectSpace_1: waiting for atomic input: filename",
          "name": "engine.logs:ReadCsvProjectSpace_1",
          "pathname": "/usr/local/lib/python3.7/dist-packages/razor/flow/async_executors.py",
          "process": 7779,
          "processName": "ForkProcess-1:2",
          "thread": 140238661281600,
          "threadName": "MainThread"
         },
         {
          "asctime": "2021-03-24 10:18:38,989",
          "created": 1616581118.989194,
          "extra": {},
          "filename": "async_executors.py",
          "funcName": "start_input_receiver",
          "levelname": "DEBUG",
          "lineno": 173,
          "message": "NonSparkPath_1: received cmd: start_sender, (), {'out_name': 'op_path', 'target': ('ReadCsvProjectSpace_1', 'filename'), 'out_addr': 'tcp://0.0.0.0:59900', 'in_memory': None}",
          "name": "engine.logs:NonSparkPath_1",
          "pathname": "/usr/local/lib/python3.7/dist-packages/razor/flow/async_executors.py",
          "process": 7771,
          "processName": "ForkProcess-1:1",
          "thread": 140238661281600,
          "threadName": "MainThread"
         },
         {
          "asctime": "2021-03-24 10:18:38,989",
          "created": 1616581118.9895763,
          "extra": {},
          "filename": "async_executors.py",
          "funcName": "start_output_sender",
          "levelname": "DEBUG",
          "lineno": 370,
          "message": "NonSparkPath_1: got start_sender, op_path, ('ReadCsvProjectSpace_1', 'filename')",
          "name": "engine.logs:NonSparkPath_1",
          "pathname": "/usr/local/lib/python3.7/dist-packages/razor/flow/async_executors.py",
          "process": 7771,
          "processName": "ForkProcess-1:1",
          "thread": 140238661281600,
          "threadName": "MainThread"
         },
         {
          "asctime": "2021-03-24 10:18:38,991",
          "created": 1616581118.9917397,
          "extra": {},
          "filename": "async_executors.py",
          "funcName": "start_input_receiver",
          "levelname": "DEBUG",
          "lineno": 177,
          "message": "ReadCsvProjectSpace_1: received data: filename, /home/aios/projectspace/customer_data.csv",
          "name": "engine.logs:ReadCsvProjectSpace_1",
          "pathname": "/usr/local/lib/python3.7/dist-packages/razor/flow/async_executors.py",
          "process": 7779,
          "processName": "ForkProcess-1:2",
          "thread": 140238661281600,
          "threadName": "MainThread"
         },
         {
          "asctime": "2021-03-24 10:18:38,992",
          "created": 1616581118.9920144,
          "extra": {},
          "filename": "async_executors.py",
          "funcName": "start_input_receiver",
          "levelname": "DEBUG",
          "lineno": 177,
          "message": "ReadCsvProjectSpace_1: received data: filename, b'__!\\tEndOfStream\\t!__'",
          "name": "engine.logs:ReadCsvProjectSpace_1",
          "pathname": "/usr/local/lib/python3.7/dist-packages/razor/flow/async_executors.py",
          "process": 7779,
          "processName": "ForkProcess-1:2",
          "thread": 140238661281600,
          "threadName": "MainThread"
         },
         {
          "asctime": "2021-03-24 10:18:38,992",
          "created": 1616581118.9921985,
          "extra": {},
          "filename": "async_executors.py",
          "funcName": "fill_atomic_inputs",
          "levelname": "DEBUG",
          "lineno": 253,
          "message": "ReadCsvProjectSpace_1: got atomic input: /home/aios/projectspace/customer_data.csv",
          "name": "engine.logs:ReadCsvProjectSpace_1",
          "pathname": "/usr/local/lib/python3.7/dist-packages/razor/flow/async_executors.py",
          "process": 7779,
          "processName": "ForkProcess-1:2",
          "thread": 140238661281600,
          "threadName": "MainThread"
         },
         {
          "asctime": "2021-03-24 10:18:38,992",
          "created": 1616581118.9922545,
          "extra": {},
          "filename": "async_executors.py",
          "funcName": "fill_atomic_inputs",
          "levelname": "INFO",
          "lineno": 250,
          "message": "ReadCsvProjectSpace_1: waiting for atomic input: config",
          "name": "engine.logs:ReadCsvProjectSpace_1",
          "pathname": "/usr/local/lib/python3.7/dist-packages/razor/flow/async_executors.py",
          "process": 7779,
          "processName": "ForkProcess-1:2",
          "thread": 140238661281600,
          "threadName": "MainThread"
         },
         {
          "asctime": "2021-03-24 10:18:38,992",
          "created": 1616581118.9923031,
          "extra": {},
          "filename": "async_executors.py",
          "funcName": "fill_atomic_inputs",
          "levelname": "DEBUG",
          "lineno": 253,
          "message": "ReadCsvProjectSpace_1: got atomic input: {}",
          "name": "engine.logs:ReadCsvProjectSpace_1",
          "pathname": "/usr/local/lib/python3.7/dist-packages/razor/flow/async_executors.py",
          "process": 7779,
          "processName": "ForkProcess-1:2",
          "thread": 140238661281600,
          "threadName": "MainThread"
         },
         {
          "asctime": "2021-03-24 10:18:38,992",
          "created": 1616581118.9923472,
          "extra": {},
          "filename": "async_executors.py",
          "funcName": "fill_atomic_inputs",
          "levelname": "INFO",
          "lineno": 250,
          "message": "ReadCsvProjectSpace_1: waiting for atomic input: source",
          "name": "engine.logs:ReadCsvProjectSpace_1",
          "pathname": "/usr/local/lib/python3.7/dist-packages/razor/flow/async_executors.py",
          "process": 7779,
          "processName": "ForkProcess-1:2",
          "thread": 140238661281600,
          "threadName": "MainThread"
         },
         {
          "asctime": "2021-03-24 10:18:38,992",
          "created": 1616581118.9924126,
          "extra": {},
          "filename": "async_executors.py",
          "funcName": "fill_atomic_inputs",
          "levelname": "DEBUG",
          "lineno": 253,
          "message": "ReadCsvProjectSpace_1: got atomic input: ",
          "name": "engine.logs:ReadCsvProjectSpace_1",
          "pathname": "/usr/local/lib/python3.7/dist-packages/razor/flow/async_executors.py",
          "process": 7779,
          "processName": "ForkProcess-1:2",
          "thread": 140238661281600,
          "threadName": "MainThread"
         },
         {
          "asctime": "2021-03-24 10:18:38,992",
          "created": 1616581118.9924812,
          "extra": {},
          "filename": "async_executors.py",
          "funcName": "main",
          "levelname": "DEBUG",
          "lineno": 130,
          "message": "ReadCsvProjectSpace_1: triggering block run",
          "name": "engine.logs:ReadCsvProjectSpace_1",
          "pathname": "/usr/local/lib/python3.7/dist-packages/razor/flow/async_executors.py",
          "process": 7779,
          "processName": "ForkProcess-1:2",
          "thread": 140238661281600,
          "threadName": "MainThread"
         },
         {
          "asctime": "2021-03-24 10:18:38,990",
          "created": 1616581118.9904163,
          "extra": {},
          "filename": "async_executors.py",
          "funcName": "start_output_sender",
          "levelname": "DEBUG",
          "lineno": 388,
          "message": "NonSparkPath_1: SENT, filename, /home/aios/projectspace/customer_data.csv, ('ReadCsvProjectSpace_1', 'filename')",
          "name": "engine.logs:NonSparkPath_1",
          "pathname": "/usr/local/lib/python3.7/dist-packages/razor/flow/async_executors.py",
          "process": 7771,
          "processName": "ForkProcess-1:1",
          "thread": 140238661281600,
          "threadName": "MainThread"
         },
         {
          "asctime": "2021-03-24 10:18:38,990",
          "created": 1616581118.9906263,
          "extra": {},
          "filename": "async_executors.py",
          "funcName": "start_output_sender",
          "levelname": "DEBUG",
          "lineno": 388,
          "message": "NonSparkPath_1: SENT, filename, b'__!\\tEndOfStream\\t!__', ('ReadCsvProjectSpace_1', 'filename')",
          "name": "engine.logs:NonSparkPath_1",
          "pathname": "/usr/local/lib/python3.7/dist-packages/razor/flow/async_executors.py",
          "process": 7771,
          "processName": "ForkProcess-1:1",
          "thread": 140238661281600,
          "threadName": "MainThread"
         },
         {
          "asctime": "2021-03-24 10:18:38,990",
          "created": 1616581118.990856,
          "extra": {},
          "filename": "async_executors.py",
          "funcName": "start_output_sender",
          "levelname": "DEBUG",
          "lineno": 391,
          "message": "NonSparkPath_1: completed output: ('op_path', ('ReadCsvProjectSpace_1', 'filename'))",
          "name": "engine.logs:NonSparkPath_1",
          "pathname": "/usr/local/lib/python3.7/dist-packages/razor/flow/async_executors.py",
          "process": 7771,
          "processName": "ForkProcess-1:1",
          "thread": 140238661281600,
          "threadName": "MainThread"
         },
         {
          "asctime": "2021-03-24 10:18:39,008",
          "created": 1616581119.008184,
          "extra": {},
          "filename": "async_executors.py",
          "funcName": "start_input_receiver",
          "levelname": "DEBUG",
          "lineno": 173,
          "message": "NonSparkPath_1: received cmd: terminate, (), {}",
          "name": "engine.logs:NonSparkPath_1",
          "pathname": "/usr/local/lib/python3.7/dist-packages/razor/flow/async_executors.py",
          "process": 7771,
          "processName": "ForkProcess-1:1",
          "thread": 140238661281600,
          "threadName": "MainThread"
         },
         {
          "asctime": "2021-03-24 10:18:50,597",
          "created": 1616581130.5976331,
          "exc_info": null,
          "extra": {},
          "filename": null,
          "full_message": null,
          "funcName": null,
          "levelname": "STDOUT",
          "lineno": null,
          "message": "Hello\n",
          "name": "block.stdout:ReadCsvProjectSpace_1",
          "pathname": null,
          "process": null,
          "processName": null,
          "thread": null,
          "threadName": null
         },
         {
          "asctime": "2021-03-24 10:18:50,619",
          "created": 1616581130.6191986,
          "exc_info": null,
          "extra": {},
          "filename": null,
          "full_message": null,
          "funcName": null,
          "levelname": "STDOUT",
          "lineno": null,
          "message": "root\n |-- transaction_id: string (nullable = true)\n |-- time: string (nullable = true)\n |-- customer_name: string (nullable = true)\n |-- card_number: string (nullable = true)\n |-- card_type: string (nullable = true)\n |-- physical_card_type: string (nullable = true)\n |-- merchant_id: string (nullable = true)\n |-- merchant_city: string (nullable = true)\n |-- merchant_state: string (nullable = true)\n |-- transaction_type: string (nullable = true)\n |-- transaction_type_sub: string (nullable = true)\n |-- amount: string (nullable = true)\n |-- product_type: string (nullable = true)\n |-- fraud_risk: string (nullable = true)\n |-- One Time Heavy Loot Score: string (nullable = true)\n |-- Drastic Transaction Change Pattern Score: string (nullable = true)\n |-- Parasitic Fraud Score: string (nullable = true)\n |-- Purchase Behavior Variation Score: string (nullable = true)\n |-- Preferred Merchant Variation Score: string (nullable = true)\n |-- Multiple Location Fraud Score: string (nullable = true)\n |-- Fraudster Merchant Score: string (nullable = true)\n |-- no_of_transactions_in_the_day: string (nullable = true)\n |-- max_transaction_amount_in_the_day: string (nullable = true)\n |-- avg_transaction_amount_in_the_day: string (nullable = true)\n |-- no_of_transactions_in_the_month: string (nullable = true)\n |-- max_transaction_amount_the_month: string (nullable = true)\n |-- avg_transaction_amount_the_month: string (nullable = true)\n |-- no_of_transactions_of_the_same_merchant_in_the_day: string (nullable = true)\n |-- max_transactions_of_the_same_merchant_in_the_day: string (nullable = true)\n |-- avg_transactions_of_the_same_merchant_in_the_day: string (nullable = true)\n |-- no_of_transactions_of_the_same_merchant_in_the_month: string (nullable = true)\n |-- max_transactions_of_the_same_merchant_in_the_month: string (nullable = true)\n |-- avg_transactions_of_the_same_merchant_in_the_month: string (nullable = true)\n\n",
          "name": "block.stdout:ReadCsvProjectSpace_1",
          "pathname": null,
          "process": null,
          "processName": null,
          "thread": null,
          "threadName": null
         },
         {
          "asctime": "2021-03-24 10:18:50,710",
          "created": 1616581130.7104516,
          "extra": {},
          "filename": "async_executors.py",
          "funcName": "distribute_output_queue",
          "levelname": "DEBUG",
          "lineno": 308,
          "message": "ReadCsvProjectSpace_1: ---- dist output: DataFrame[transaction_id: string, time: string, customer_name: string, card_number: string, card_type: string, physical_card_type: string, merchant_id: string, merchant_city: string, merchant_state: string, transaction_type: string, transaction_type_sub: string, amount: string, product_type: string, fraud_risk: string, One Time Heavy Loot Score: string, Drastic Transaction Change Pattern Score: string, Parasitic Fraud Score: string, Purchase Behavior Variation Score: string, Preferred Merchant Variation Score: string, Multiple Location Fraud Score: string, Fraudster Merchant Score: string, no_of_transactions_in_the_day: string, max_transaction_amount_in_the_day: string, avg_transaction_amount_in_the_day: string, no_of_transactions_in_the_month: string, max_transaction_amount_the_month: string, avg_transaction_amount_the_month: string, no_of_transactions_of_the_same_merchant_in_the_day: string, max_transactions_of_the_same_merchant_in_the_day: string, avg_transactions_of_the_same_merchant_in_the_day: string, no_of_transactions_of_the_same_merchant_in_the_month: string, max_transactions_of_the_same_merchant_in_the_month: string, avg_transactions_of_the_same_merchant_in_the_month: string] -> ('CustMercTS_1', 'ip_data')",
          "name": "engine.logs:ReadCsvProjectSpace_1",
          "pathname": "/usr/local/lib/python3.7/dist-packages/razor/flow/async_executors.py",
          "process": 7779,
          "processName": "ForkProcess-1:2",
          "thread": 140238661281600,
          "threadName": "MainThread"
         },
         {
          "asctime": "2021-03-24 10:18:50,710",
          "created": 1616581130.710869,
          "extra": {},
          "filename": "async_executors.py",
          "funcName": "main",
          "levelname": "DEBUG",
          "lineno": 147,
          "message": "ReadCsvProjectSpace_1: block thread completed",
          "name": "engine.logs:ReadCsvProjectSpace_1",
          "pathname": "/usr/local/lib/python3.7/dist-packages/razor/flow/async_executors.py",
          "process": 7779,
          "processName": "ForkProcess-1:2",
          "thread": 140238661281600,
          "threadName": "MainThread"
         },
         {
          "asctime": "2021-03-24 10:18:50,710",
          "created": 1616581130.7109575,
          "extra": {},
          "filename": "async_executors.py",
          "funcName": "main",
          "levelname": "DEBUG",
          "lineno": 149,
          "message": "ReadCsvProjectSpace_1: block execution complete",
          "name": "engine.logs:ReadCsvProjectSpace_1",
          "pathname": "/usr/local/lib/python3.7/dist-packages/razor/flow/async_executors.py",
          "process": 7779,
          "processName": "ForkProcess-1:2",
          "thread": 140238661281600,
          "threadName": "MainThread"
         },
         {
          "asctime": "2021-03-24 10:18:50,711",
          "created": 1616581130.7112396,
          "extra": {},
          "filename": "async_executors.py",
          "funcName": "distribute_output_queue",
          "levelname": "DEBUG",
          "lineno": 308,
          "message": "ReadCsvProjectSpace_1: ---- dist output: b'__!\\tEndOfStream\\t!__' -> ('CustMercTS_1', 'ip_data')",
          "name": "engine.logs:ReadCsvProjectSpace_1",
          "pathname": "/usr/local/lib/python3.7/dist-packages/razor/flow/async_executors.py",
          "process": 7779,
          "processName": "ForkProcess-1:2",
          "thread": 140238661281600,
          "threadName": "MainThread"
         },
         {
          "asctime": "2021-03-24 10:18:50,726",
          "created": 1616581130.7261212,
          "extra": {},
          "filename": "async_executors.py",
          "funcName": "start_input_receiver",
          "levelname": "DEBUG",
          "lineno": 173,
          "message": "ReadCsvProjectSpace_1: received cmd: start_sender, (), {'out_name': 'data', 'target': ('CustMercTS_1', 'ip_data'), 'out_addr': 'tcp://0.0.0.0:60776', 'in_memory': True}",
          "name": "engine.logs:ReadCsvProjectSpace_1",
          "pathname": "/usr/local/lib/python3.7/dist-packages/razor/flow/async_executors.py",
          "process": 7779,
          "processName": "ForkProcess-1:2",
          "thread": 140238661281600,
          "threadName": "MainThread"
         },
         {
          "asctime": "2021-03-24 10:18:50,726",
          "created": 1616581130.7265475,
          "extra": {},
          "filename": "async_executors.py",
          "funcName": "start_output_sender",
          "levelname": "DEBUG",
          "lineno": 370,
          "message": "ReadCsvProjectSpace_1: got start_sender, data, ('CustMercTS_1', 'ip_data')",
          "name": "engine.logs:ReadCsvProjectSpace_1",
          "pathname": "/usr/local/lib/python3.7/dist-packages/razor/flow/async_executors.py",
          "process": 7779,
          "processName": "ForkProcess-1:2",
          "thread": 140238661281600,
          "threadName": "MainThread"
         },
         {
          "asctime": "2021-03-24 10:18:50,727",
          "created": 1616581130.7278593,
          "extra": {},
          "filename": "async_executors.py",
          "funcName": "start_output_sender",
          "levelname": "DEBUG",
          "lineno": 375,
          "message": "ReadCsvProjectSpace_1: SENT, ip_data, DataFrame[transaction_id: string, time: string, customer_name: string, card_number: string, card_type: string, physical_card_type: string, merchant_id: string, merchant_city: string, merchant_state: string, transaction_type: string, transaction_type_sub: string, amount: string, product_type: string, fraud_risk: string, One Time Heavy Loot Score: string, Drastic Transaction Change Pattern Score: string, Parasitic Fraud Score: string, Purchase Behavior Variation Score: string, Preferred Merchant Variation Score: string, Multiple Location Fraud Score: string, Fraudster Merchant Score: string, no_of_transactions_in_the_day: string, max_transaction_amount_in_the_day: string, avg_transaction_amount_in_the_day: string, no_of_transactions_in_the_month: string, max_transaction_amount_the_month: string, avg_transaction_amount_the_month: string, no_of_transactions_of_the_same_merchant_in_the_day: string, max_transactions_of_the_same_merchant_in_the_day: string, avg_transactions_of_the_same_merchant_in_the_day: string, no_of_transactions_of_the_same_merchant_in_the_month: string, max_transactions_of_the_same_merchant_in_the_month: string, avg_transactions_of_the_same_merchant_in_the_month: string], ('CustMercTS_1', 'ip_data')",
          "name": "engine.logs:ReadCsvProjectSpace_1",
          "pathname": "/usr/local/lib/python3.7/dist-packages/razor/flow/async_executors.py",
          "process": 7779,
          "processName": "ForkProcess-1:2",
          "thread": 140238661281600,
          "threadName": "MainThread"
         },
         {
          "asctime": "2021-03-24 10:18:50,729",
          "created": 1616581130.7293348,
          "extra": {},
          "filename": "async_executors.py",
          "funcName": "fill_atomic_inputs",
          "levelname": "DEBUG",
          "lineno": 253,
          "message": "CustMercTS_1: got atomic input: DataFrame[transaction_id: string, time: string, customer_name: string, card_number: string, card_type: string, physical_card_type: string, merchant_id: string, merchant_city: string, merchant_state: string, transaction_type: string, transaction_type_sub: string, amount: string, product_type: string, fraud_risk: string, One Time Heavy Loot Score: string, Drastic Transaction Change Pattern Score: string, Parasitic Fraud Score: string, Purchase Behavior Variation Score: string, Preferred Merchant Variation Score: string, Multiple Location Fraud Score: string, Fraudster Merchant Score: string, no_of_transactions_in_the_day: string, max_transaction_amount_in_the_day: string, avg_transaction_amount_in_the_day: string, no_of_transactions_in_the_month: string, max_transaction_amount_the_month: string, avg_transaction_amount_the_month: string, no_of_transactions_of_the_same_merchant_in_the_day: string, max_transactions_of_the_same_merchant_in_the_day: string, avg_transactions_of_the_same_merchant_in_the_day: string, no_of_transactions_of_the_same_merchant_in_the_month: string, max_transactions_of_the_same_merchant_in_the_month: string, avg_transactions_of_the_same_merchant_in_the_month: string]",
          "name": "engine.logs:CustMercTS_1",
          "pathname": "/usr/local/lib/python3.7/dist-packages/razor/flow/async_executors.py",
          "process": 7779,
          "processName": "ForkProcess-1:2",
          "thread": 140238661281600,
          "threadName": "MainThread"
         },
         {
          "asctime": "2021-03-24 10:18:50,727",
          "created": 1616581130.7279782,
          "extra": {},
          "filename": "async_executors.py",
          "funcName": "start_output_sender",
          "levelname": "DEBUG",
          "lineno": 375,
          "message": "ReadCsvProjectSpace_1: SENT, ip_data, b'__!\\tEndOfStream\\t!__', ('CustMercTS_1', 'ip_data')",
          "name": "engine.logs:ReadCsvProjectSpace_1",
          "pathname": "/usr/local/lib/python3.7/dist-packages/razor/flow/async_executors.py",
          "process": 7779,
          "processName": "ForkProcess-1:2",
          "thread": 140238661281600,
          "threadName": "MainThread"
         },
         {
          "asctime": "2021-03-24 10:18:50,728",
          "created": 1616581130.7280722,
          "extra": {},
          "filename": "async_executors.py",
          "funcName": "start_output_sender",
          "levelname": "DEBUG",
          "lineno": 379,
          "message": "ReadCsvProjectSpace_1: completed output: ('data', ('CustMercTS_1', 'ip_data'))",
          "name": "engine.logs:ReadCsvProjectSpace_1",
          "pathname": "/usr/local/lib/python3.7/dist-packages/razor/flow/async_executors.py",
          "process": 7779,
          "processName": "ForkProcess-1:2",
          "thread": 140238661281600,
          "threadName": "MainThread"
         },
         {
          "asctime": "2021-03-24 10:18:50,729",
          "created": 1616581130.7294595,
          "extra": {},
          "filename": "async_executors.py",
          "funcName": "fill_atomic_inputs",
          "levelname": "INFO",
          "lineno": 250,
          "message": "CustMercTS_1: waiting for atomic input: config",
          "name": "engine.logs:CustMercTS_1",
          "pathname": "/usr/local/lib/python3.7/dist-packages/razor/flow/async_executors.py",
          "process": 7779,
          "processName": "ForkProcess-1:2",
          "thread": 140238661281600,
          "threadName": "MainThread"
         },
         {
          "asctime": "2021-03-24 10:18:50,729",
          "created": 1616581130.729553,
          "extra": {},
          "filename": "async_executors.py",
          "funcName": "fill_atomic_inputs",
          "levelname": "DEBUG",
          "lineno": 253,
          "message": "CustMercTS_1: got atomic input: {}",
          "name": "engine.logs:CustMercTS_1",
          "pathname": "/usr/local/lib/python3.7/dist-packages/razor/flow/async_executors.py",
          "process": 7779,
          "processName": "ForkProcess-1:2",
          "thread": 140238661281600,
          "threadName": "MainThread"
         },
         {
          "asctime": "2021-03-24 10:18:50,729",
          "created": 1616581130.7296152,
          "extra": {},
          "filename": "async_executors.py",
          "funcName": "fill_atomic_inputs",
          "levelname": "INFO",
          "lineno": 250,
          "message": "CustMercTS_1: waiting for atomic input: source",
          "name": "engine.logs:CustMercTS_1",
          "pathname": "/usr/local/lib/python3.7/dist-packages/razor/flow/async_executors.py",
          "process": 7779,
          "processName": "ForkProcess-1:2",
          "thread": 140238661281600,
          "threadName": "MainThread"
         },
         {
          "asctime": "2021-03-24 10:18:50,788",
          "created": 1616581130.788893,
          "extra": {},
          "filename": "async_executors.py",
          "funcName": "start_input_receiver",
          "levelname": "DEBUG",
          "lineno": 173,
          "message": "ReadCsvProjectSpace_1: received cmd: terminate, (), {}",
          "name": "engine.logs:ReadCsvProjectSpace_1",
          "pathname": "/usr/local/lib/python3.7/dist-packages/razor/flow/async_executors.py",
          "process": 7779,
          "processName": "ForkProcess-1:2",
          "thread": 140238661281600,
          "threadName": "MainThread"
         },
         {
          "asctime": "2021-03-24 10:18:50,729",
          "created": 1616581130.7296815,
          "extra": {},
          "filename": "async_executors.py",
          "funcName": "fill_atomic_inputs",
          "levelname": "DEBUG",
          "lineno": 253,
          "message": "CustMercTS_1: got atomic input: ",
          "name": "engine.logs:CustMercTS_1",
          "pathname": "/usr/local/lib/python3.7/dist-packages/razor/flow/async_executors.py",
          "process": 7779,
          "processName": "ForkProcess-1:2",
          "thread": 140238661281600,
          "threadName": "MainThread"
         },
         {
          "asctime": "2021-03-24 10:18:50,729",
          "created": 1616581130.7297368,
          "extra": {},
          "filename": "async_executors.py",
          "funcName": "main",
          "levelname": "DEBUG",
          "lineno": 130,
          "message": "CustMercTS_1: triggering block run",
          "name": "engine.logs:CustMercTS_1",
          "pathname": "/usr/local/lib/python3.7/dist-packages/razor/flow/async_executors.py",
          "process": 7779,
          "processName": "ForkProcess-1:2",
          "thread": 140238661281600,
          "threadName": "MainThread"
         },
         {
          "asctime": "2021-03-24 10:19:06,600",
          "created": 1616581146.6002939,
          "exc_info": null,
          "extra": {},
          "filename": null,
          "full_message": null,
          "funcName": null,
          "levelname": "STDOUT",
          "lineno": null,
          "message": "{clone} row count: 2202\n",
          "name": "block.stdout:CustMercTS_1",
          "pathname": null,
          "process": null,
          "processName": null,
          "thread": null,
          "threadName": null
         },
         {
          "asctime": "2021-03-24 10:19:13,164",
          "created": 1616581153.1649685,
          "exc_info": "Traceback (most recent call last):\n\n  File \"/usr/local/lib/python3.7/dist-packages/razor/flow/async_executors.py\", line 276, in run_block\n    self.block.run()\n\n  File \"/home/aios/published-packages/project/blocks/ayan_spark_blocks_clone/blocks.py\", line 662, in run\n    customer_ts.show()\n\n  File \"/usr/local/lib/python3.7/dist-packages/pyspark/sql/dataframe.py\", line 440, in show\n    print(self._jdf.showString(n, 20, vertical))\n\n  File \"/usr/local/lib/python3.7/dist-packages/py4j/java_gateway.py\", line 1305, in __call__\n    answer, self.gateway_client, self.target_id, self.name)\n\n  File \"/usr/local/lib/python3.7/dist-packages/pyspark/sql/utils.py\", line 137, in deco\n    raise_from(converted)\n\n  File \"<string>\", line 3, in raise_from\n\npyspark.sql.utils.PythonException: \n  An exception was thrown from Python worker in the executor. The below is the Python worker stacktrace.\nTraceback (most recent call last):\n  File \"/opt/spark/python/lib/pyspark.zip/pyspark/worker.py\", line 589, in main\n    func, profiler, deserializer, serializer = read_udfs(pickleSer, infile, eval_type)\n  File \"/opt/spark/python/lib/pyspark.zip/pyspark/worker.py\", line 447, in read_udfs\n    udfs.append(read_single_udf(pickleSer, infile, eval_type, runner_conf, udf_index=i))\n  File \"/opt/spark/python/lib/pyspark.zip/pyspark/worker.py\", line 254, in read_single_udf\n    f, return_type = read_command(pickleSer, infile)\n  File \"/opt/spark/python/lib/pyspark.zip/pyspark/worker.py\", line 74, in read_command\n    command = serializer._read_with_length(file)\n  File \"/opt/spark/python/lib/pyspark.zip/pyspark/serializers.py\", line 172, in _read_with_length\n    return self.loads(obj)\n  File \"/opt/spark/python/lib/pyspark.zip/pyspark/serializers.py\", line 458, in loads\n    return pickle.loads(obj, encoding=encoding)\nModuleNotFoundError: No module named 'project'\n\n",
          "extra": {},
          "filename": "async_executors.py",
          "full_message": "Traceback (most recent call last):\n\n  File \"/usr/local/lib/python3.7/dist-packages/razor/flow/async_executors.py\", line 276, in run_block\n    self.block.run()\n\n  File \"/home/aios/published-packages/project/blocks/ayan_spark_blocks_clone/blocks.py\", line 662, in run\n    customer_ts.show()\n\n  File \"/usr/local/lib/python3.7/dist-packages/pyspark/sql/dataframe.py\", line 440, in show\n    print(self._jdf.showString(n, 20, vertical))\n\n  File \"/usr/local/lib/python3.7/dist-packages/py4j/java_gateway.py\", line 1305, in __call__\n    answer, self.gateway_client, self.target_id, self.name)\n\n  File \"/usr/local/lib/python3.7/dist-packages/pyspark/sql/utils.py\", line 137, in deco\n    raise_from(converted)\n\n  File \"<string>\", line 3, in raise_from\n\npyspark.sql.utils.PythonException: \n  An exception was thrown from Python worker in the executor. The below is the Python worker stacktrace.\nTraceback (most recent call last):\n  File \"/opt/spark/python/lib/pyspark.zip/pyspark/worker.py\", line 589, in main\n    func, profiler, deserializer, serializer = read_udfs(pickleSer, infile, eval_type)\n  File \"/opt/spark/python/lib/pyspark.zip/pyspark/worker.py\", line 447, in read_udfs\n    udfs.append(read_single_udf(pickleSer, infile, eval_type, runner_conf, udf_index=i))\n  File \"/opt/spark/python/lib/pyspark.zip/pyspark/worker.py\", line 254, in read_single_udf\n    f, return_type = read_command(pickleSer, infile)\n  File \"/opt/spark/python/lib/pyspark.zip/pyspark/worker.py\", line 74, in read_command\n    command = serializer._read_with_length(file)\n  File \"/opt/spark/python/lib/pyspark.zip/pyspark/serializers.py\", line 172, in _read_with_length\n    return self.loads(obj)\n  File \"/opt/spark/python/lib/pyspark.zip/pyspark/serializers.py\", line 458, in loads\n    return pickle.loads(obj, encoding=encoding)\nModuleNotFoundError: No module named 'project'\n\n",
          "funcName": "run_block",
          "levelname": "ERROR",
          "lineno": 278,
          "message": "\n  An exception was thrown from Python worker in the executor. The below is the Python worker stacktrace.\nTraceback (most recent call last):\n  File \"/opt/spark/python/lib/pyspark.zip/pyspark/worker.py\", line 589, in main\n    func, profiler, deserializer, serializer = read_udfs(pickleSer, infile, eval_type)\n  File \"/opt/spark/python/lib/pyspark.zip/pyspark/worker.py\", line 447, in read_udfs\n    udfs.append(read_single_udf(pickleSer, infile, eval_type, runner_conf, udf_index=i))\n  File \"/opt/spark/python/lib/pyspark.zip/pyspark/worker.py\", line 254, in read_single_udf\n    f, return_type = read_command(pickleSer, infile)\n  File \"/opt/spark/python/lib/pyspark.zip/pyspark/worker.py\", line 74, in read_command\n    command = serializer._read_with_length(file)\n  File \"/opt/spark/python/lib/pyspark.zip/pyspark/serializers.py\", line 172, in _read_with_length\n    return self.loads(obj)\n  File \"/opt/spark/python/lib/pyspark.zip/pyspark/serializers.py\", line 458, in loads\n    return pickle.loads(obj, encoding=encoding)\nModuleNotFoundError: No module named 'project'\n",
          "name": "block.stderr:CustMercTS_1",
          "pathname": "/usr/local/lib/python3.7/dist-packages/razor/flow/async_executors.py",
          "process": 7779,
          "processName": "ForkProcess-1:2",
          "thread": 140238596466432,
          "threadName": "ThreadPoolExecutor-0_1"
         },
         {
          "asctime": "2021-03-24 10:19:13,263",
          "created": 1616581153.2633078,
          "extra": {},
          "filename": "async_executors.py",
          "funcName": "main",
          "levelname": "DEBUG",
          "lineno": 144,
          "message": "Block: 'CustMercTS_1': Unhandled Exception: PythonException('\\n  An exception was thrown from Python worker in the executor. The below is the Python worker stacktrace.\\nTraceback (most recent call last):\\n  File \"/opt/spark/python/lib/pyspark.zip/pyspark/worker.py\", line 589, in main\\n    func, profiler, deserializer, serializer = read_udfs(pickleSer, infile, eval_type)\\n  File \"/opt/spark/python/lib/pyspark.zip/pyspark/worker.py\", line 447, in read_udfs\\n    udfs.append(read_single_udf(pickleSer, infile, eval_type, runner_conf, udf_index=i))\\n  File \"/opt/spark/python/lib/pyspark.zip/pyspark/worker.py\", line 254, in read_single_udf\\n    f, return_type = read_command(pickleSer, infile)\\n  File \"/opt/spark/python/lib/pyspark.zip/pyspark/worker.py\", line 74, in read_command\\n    command = serializer._read_with_length(file)\\n  File \"/opt/spark/python/lib/pyspark.zip/pyspark/serializers.py\", line 172, in _read_with_length\\n    return self.loads(obj)\\n  File \"/opt/spark/python/lib/pyspark.zip/pyspark/serializers.py\", line 458, in loads\\n    return pickle.loads(obj, encoding=encoding)\\nModuleNotFoundError: No module named \\'project\\'\\n', 'org.apache.spark.SparkException: Job aborted due to stage failure: Task 0 in stage 9.0 failed 1 times, most recent failure: Lost task 0.0 in stage 9.0 (TID 208, dep-ser-7e8e95fa-80d9-4f2d-93cf-9a5f1fa0b947-ide-664cc855cvkzq5, executor driver): org.apache.spark.api.python.PythonException: Traceback (most recent call last):\\n  File \"/opt/spark/python/lib/pyspark.zip/pyspark/worker.py\", line 589, in main\\n    func, profiler, deserializer, serializer = read_udfs(pickleSer, infile, eval_type)\\n  File \"/opt/spark/python/lib/pyspark.zip/pyspark/worker.py\", line 447, in read_udfs\\n    udfs.append(read_single_udf(pickleSer, infile, eval_type, runner_conf, udf_index=i))\\n  File \"/opt/spark/python/lib/pyspark.zip/pyspark/worker.py\", line 254, in read_single_udf\\n    f, return_type = read_command(pickleSer, infile)\\n  File \"/opt/spark/python/lib/pyspark.zip/pyspark/worker.py\", line 74, in read_command\\n    command = serializer._read_with_length(file)\\n  File \"/opt/spark/python/lib/pyspark.zip/pyspark/serializers.py\", line 172, in _read_with_length\\n    return self.loads(obj)\\n  File \"/opt/spark/python/lib/pyspark.zip/pyspark/serializers.py\", line 458, in loads\\n    return pickle.loads(obj, encoding=encoding)\\nModuleNotFoundError: No module named \\'project\\'\\n\\n\\tat org.apache.spark.api.python.BasePythonRunner$ReaderIterator.handlePythonException(PythonRunner.scala:503)\\n\\tat org.apache.spark.sql.execution.python.PythonUDFRunner$$anon$2.read(PythonUDFRunner.scala:81)\\n\\tat org.apache.spark.sql.execution.python.PythonUDFRunner$$anon$2.read(PythonUDFRunner.scala:64)\\n\\tat org.apache.spark.api.python.BasePythonRunner$ReaderIterator.hasNext(PythonRunner.scala:456)\\n\\tat org.apache.spark.InterruptibleIterator.hasNext(InterruptibleIterator.scala:37)\\n\\tat scala.collection.Iterator$$anon$11.hasNext(Iterator.scala:489)\\n\\tat scala.collection.Iterator$$anon$10.hasNext(Iterator.scala:458)\\n\\tat scala.collection.Iterator$$anon$10.hasNext(Iterator.scala:458)\\n\\tat org.apache.spark.sql.catalyst.expressions.GeneratedClass$GeneratedIteratorForCodegenStage5.processNext(Unknown Source)\\n\\tat org.apache.spark.sql.execution.BufferedRowIterator.hasNext(BufferedRowIterator.java:43)\\n\\tat org.apache.spark.sql.execution.WholeStageCodegenExec$$anon$1.hasNext(WholeStageCodegenExec.scala:729)\\n\\tat scala.collection.Iterator$$anon$10.hasNext(Iterator.scala:458)\\n\\tat scala.collection.Iterator$$anon$10.hasNext(Iterator.scala:458)\\n\\tat scala.collection.Iterator$$anon$10.hasNext(Iterator.scala:458)\\n\\tat scala.collection.Iterator$GroupedIterator.fill(Iterator.scala:1209)\\n\\tat scala.collection.Iterator$GroupedIterator.hasNext(Iterator.scala:1215)\\n\\tat scala.collection.Iterator$$anon$10.hasNext(Iterator.scala:458)\\n\\tat scala.collection.Iterator.foreach(Iterator.scala:941)\\n\\tat scala.collection.Iterator.foreach$(Iterator.scala:941)\\n\\tat scala.collection.AbstractIterator.foreach(Iterator.scala:1429)\\n\\tat org.apache.spark.api.python.PythonRDD$.writeIteratorToStream(PythonRDD.scala:295)\\n\\tat org.apache.spark.sql.execution.python.PythonUDFRunner$$anon$1.writeIteratorToStream(PythonUDFRunner.scala:50)\\n\\tat org.apache.spark.api.python.BasePythonRunner$WriterThread.$anonfun$run$1(PythonRunner.scala:383)\\n\\tat org.apache.spark.util.Utils$.logUncaughtExceptions(Utils.scala:1932)\\n\\tat org.apache.spark.api.python.BasePythonRunner$WriterThread.run(PythonRunner.scala:218)\\n\\nDriver stacktrace:\\n\\tat org.apache.spark.scheduler.DAGScheduler.failJobAndIndependentStages(DAGScheduler.scala:2023)\\n\\tat org.apache.spark.scheduler.DAGScheduler.$anonfun$abortStage$2(DAGScheduler.scala:1972)\\n\\tat org.apache.spark.scheduler.DAGScheduler.$anonfun$abortStage$2$adapted(DAGScheduler.scala:1971)\\n\\tat scala.collection.mutable.ResizableArray.foreach(ResizableArray.scala:62)\\n\\tat scala.collection.mutable.ResizableArray.foreach$(ResizableArray.scala:55)\\n\\tat scala.collection.mutable.ArrayBuffer.foreach(ArrayBuffer.scala:49)\\n\\tat org.apache.spark.scheduler.DAGScheduler.abortStage(DAGScheduler.scala:1971)\\n\\tat org.apache.spark.scheduler.DAGScheduler.$anonfun$handleTaskSetFailed$1(DAGScheduler.scala:950)\\n\\tat org.apache.spark.scheduler.DAGScheduler.$anonfun$handleTaskSetFailed$1$adapted(DAGScheduler.scala:950)\\n\\tat scala.Option.foreach(Option.scala:407)\\n\\tat org.apache.spark.scheduler.DAGScheduler.handleTaskSetFailed(DAGScheduler.scala:950)\\n\\tat org.apache.spark.scheduler.DAGSchedulerEventProcessLoop.doOnReceive(DAGScheduler.scala:2203)\\n\\tat org.apache.spark.scheduler.DAGSchedulerEventProcessLoop.onReceive(DAGScheduler.scala:2152)\\n\\tat org.apache.spark.scheduler.DAGSchedulerEventProcessLoop.onReceive(DAGScheduler.scala:2141)\\n\\tat org.apache.spark.util.EventLoop$$anon$1.run(EventLoop.scala:49)\\n\\tat org.apache.spark.scheduler.DAGScheduler.runJob(DAGScheduler.scala:752)\\n\\tat org.apache.spark.SparkContext.runJob(SparkContext.scala:2093)\\n\\tat org.apache.spark.SparkContext.runJob(SparkContext.scala:2114)\\n\\tat org.apache.spark.SparkContext.runJob(SparkContext.scala:2133)\\n\\tat org.apache.spark.sql.execution.SparkPlan.executeTake(SparkPlan.scala:467)\\n\\tat org.apache.spark.sql.execution.SparkPlan.executeTake(SparkPlan.scala:420)\\n\\tat org.apache.spark.sql.execution.CollectLimitExec.executeCollect(limit.scala:47)\\n\\tat org.apache.spark.sql.Dataset.collectFromPlan(Dataset.scala:3625)\\n\\tat org.apache.spark.sql.Dataset.$anonfun$head$1(Dataset.scala:2695)\\n\\tat org.apache.spark.sql.Dataset.$anonfun$withAction$1(Dataset.scala:3616)\\n\\tat org.apache.spark.sql.execution.SQLExecution$.$anonfun$withNewExecutionId$5(SQLExecution.scala:100)\\n\\tat org.apache.spark.sql.execution.SQLExecution$.withSQLConfPropagated(SQLExecution.scala:160)\\n\\tat org.apache.spark.sql.execution.SQLExecution$.$anonfun$withNewExecutionId$1(SQLExecution.scala:87)\\n\\tat org.apache.spark.sql.SparkSession.withActive(SparkSession.scala:763)\\n\\tat org.apache.spark.sql.execution.SQLExecution$.withNewExecutionId(SQLExecution.scala:64)\\n\\tat org.apache.spark.sql.Dataset.withAction(Dataset.scala:3614)\\n\\tat org.apache.spark.sql.Dataset.head(Dataset.scala:2695)\\n\\tat org.apache.spark.sql.Dataset.take(Dataset.scala:2902)\\n\\tat org.apache.spark.sql.Dataset.getRows(Dataset.scala:300)\\n\\tat org.apache.spark.sql.Dataset.showString(Dataset.scala:337)\\n\\tat sun.reflect.NativeMethodAccessorImpl.invoke0(Native Method)\\n\\tat sun.reflect.NativeMethodAccessorImpl.invoke(NativeMethodAccessorImpl.java:62)\\n\\tat sun.reflect.DelegatingMethodAccessorImpl.invoke(DelegatingMethodAccessorImpl.java:43)\\n\\tat java.lang.reflect.Method.invoke(Method.java:498)\\n\\tat py4j.reflection.MethodInvoker.invoke(MethodInvoker.java:244)\\n\\tat py4j.reflection.ReflectionEngine.invoke(ReflectionEngine.java:357)\\n\\tat py4j.Gateway.invoke(Gateway.java:282)\\n\\tat py4j.commands.AbstractCommand.invokeMethod(AbstractCommand.java:132)\\n\\tat py4j.commands.CallCommand.execute(CallCommand.java:79)\\n\\tat py4j.GatewayConnection.run(GatewayConnection.java:238)\\n\\tat java.lang.Thread.run(Thread.java:748)\\nCaused by: org.apache.spark.api.python.PythonException: Traceback (most recent call last):\\n  File \"/opt/spark/python/lib/pyspark.zip/pyspark/worker.py\", line 589, in main\\n    func, profiler, deserializer, serializer = read_udfs(pickleSer, infile, eval_type)\\n  File \"/opt/spark/python/lib/pyspark.zip/pyspark/worker.py\", line 447, in read_udfs\\n    udfs.append(read_single_udf(pickleSer, infile, eval_type, runner_conf, udf_index=i))\\n  File \"/opt/spark/python/lib/pyspark.zip/pyspark/worker.py\", line 254, in read_single_udf\\n    f, return_type = read_command(pickleSer, infile)\\n  File \"/opt/spark/python/lib/pyspark.zip/pyspark/worker.py\", line 74, in read_command\\n    command = serializer._read_with_length(file)\\n  File \"/opt/spark/python/lib/pyspark.zip/pyspark/serializers.py\", line 172, in _read_with_length\\n    return self.loads(obj)\\n  File \"/opt/spark/python/lib/pyspark.zip/pyspark/serializers.py\", line 458, in loads\\n    return pickle.loads(obj, encoding=encoding)\\nModuleNotFoundError: No module named \\'project\\'\\n\\n\\tat org.apache.spark.api.python.BasePythonRunner$ReaderIterator.handlePythonException(PythonRunner.scala:503)\\n\\tat org.apache.spark.sql.execution.python.PythonUDFRunner$$anon$2.read(PythonUDFRunner.scala:81)\\n\\tat org.apache.spark.sql.execution.python.PythonUDFRunner$$anon$2.read(PythonUDFRunner.scala:64)\\n\\tat org.apache.spark.api.python.BasePythonRunner$ReaderIterator.hasNext(PythonRunner.scala:456)\\n\\tat org.apache.spark.InterruptibleIterator.hasNext(InterruptibleIterator.scala:37)\\n\\tat scala.collection.Iterator$$anon$11.hasNext(Iterator.scala:489)\\n\\tat scala.collection.Iterator$$anon$10.hasNext(Iterator.scala:458)\\n\\tat scala.collection.Iterator$$anon$10.hasNext(Iterator.scala:458)\\n\\tat org.apache.spark.sql.catalyst.expressions.GeneratedClass$GeneratedIteratorForCodegenStage5.processNext(Unknown Source)\\n\\tat org.apache.spark.sql.execution.BufferedRowIterator.hasNext(BufferedRowIterator.java:43)\\n\\tat org.apache.spark.sql.execution.WholeStageCodegenExec$$anon$1.hasNext(WholeStageCodegenExec.scala:729)\\n\\tat scala.collection.Iterator$$anon$10.hasNext(Iterator.scala:458)\\n\\tat scala.collection.Iterator$$anon$10.hasNext(Iterator.scala:458)\\n\\tat scala.collection.Iterator$$anon$10.hasNext(Iterator.scala:458)\\n\\tat scala.collection.Iterator$GroupedIterator.fill(Iterator.scala:1209)\\n\\tat scala.collection.Iterator$GroupedIterator.hasNext(Iterator.scala:1215)\\n\\tat scala.collection.Iterator$$anon$10.hasNext(Iterator.scala:458)\\n\\tat scala.collection.Iterator.foreach(Iterator.scala:941)\\n\\tat scala.collection.Iterator.foreach$(Iterator.scala:941)\\n\\tat scala.collection.AbstractIterator.foreach(Iterator.scala:1429)\\n\\tat org.apache.spark.api.python.PythonRDD$.writeIteratorToStream(PythonRDD.scala:295)\\n\\tat org.apache.spark.sql.execution.python.PythonUDFRunner$$anon$1.writeIteratorToStream(PythonUDFRunner.scala:50)\\n\\tat org.apache.spark.api.python.BasePythonRunner$WriterThread.$anonfun$run$1(PythonRunner.scala:383)\\n\\tat org.apache.spark.util.Utils$.logUncaughtExceptions(Utils.scala:1932)\\n\\tat org.apache.spark.api.python.BasePythonRunner$WriterThread.run(PythonRunner.scala:218)\\n'). All outputs from this block will be terminated. This may cause successor blocks to fail and pipeline to terminate incorrectly.",
          "name": "engine.logs:CustMercTS_1",
          "pathname": "/usr/local/lib/python3.7/dist-packages/razor/flow/async_executors.py",
          "process": 7779,
          "processName": "ForkProcess-1:2",
          "thread": 140238661281600,
          "threadName": "MainThread"
         },
         {
          "asctime": "2021-03-24 10:19:13,263",
          "created": 1616581153.2634826,
          "extra": {},
          "filename": "async_executors.py",
          "funcName": "main",
          "levelname": "DEBUG",
          "lineno": 147,
          "message": "CustMercTS_1: block thread completed",
          "name": "engine.logs:CustMercTS_1",
          "pathname": "/usr/local/lib/python3.7/dist-packages/razor/flow/async_executors.py",
          "process": 7779,
          "processName": "ForkProcess-1:2",
          "thread": 140238661281600,
          "threadName": "MainThread"
         },
         {
          "asctime": "2021-03-24 10:19:13,263",
          "created": 1616581153.2635632,
          "extra": {},
          "filename": "async_executors.py",
          "funcName": "main",
          "levelname": "DEBUG",
          "lineno": 149,
          "message": "CustMercTS_1: block execution complete",
          "name": "engine.logs:CustMercTS_1",
          "pathname": "/usr/local/lib/python3.7/dist-packages/razor/flow/async_executors.py",
          "process": 7779,
          "processName": "ForkProcess-1:2",
          "thread": 140238661281600,
          "threadName": "MainThread"
         }
        ],
        "meta": {
         "block_status": {
          "CustMercTS_1": "ERROR",
          "NonSparkPath_1": "SUCCESS",
          "ReadCsvProjectSpace_1": "SUCCESS"
         },
         "blocks": [
          {
           "class_name": "ReadCsvProjectSpace",
           "fullname": "razor.project.blocks.ayan_spark_blocks_clone.ReadCsvProjectSpace",
           "id": "e8f8c5c9-c040-40d6-8057-f1cf539feef0",
           "inputs": [
            {
             "dataType": "string",
             "default": "",
             "flow": "atomic",
             "help": null,
             "isdict": false,
             "islist": false,
             "label": "filename",
             "meta": {},
             "name": "filename",
             "series": false,
             "type": "str",
             "type_check": true
            },
            {
             "dataType": "dict",
             "default": {},
             "flow": "atomic",
             "help": null,
             "isdict": false,
             "islist": false,
             "label": "config",
             "meta": {},
             "name": "config",
             "series": false,
             "type": "dict",
             "type_check": true
            },
            {
             "dataType": "string",
             "default": "",
             "flow": "atomic",
             "help": null,
             "isdict": false,
             "islist": false,
             "label": "source",
             "meta": {},
             "name": "source",
             "series": false,
             "type": "str",
             "type_check": true
            }
           ],
           "outputs": [
            {
             "flow": "atomic",
             "help": null,
             "label": "data",
             "meta": {},
             "name": "data",
             "series": false,
             "type": "DataFrame",
             "type_check": true
            }
           ],
           "overwritten": false,
           "published": true,
           "var_names": [
            "ReadCsvProjectSpace"
           ]
          },
          {
           "class_name": "NonSparkPath",
           "fullname": "razor.project.blocks.ayan_spark_blocks_clone.NonSparkPath",
           "id": "51e11241-6750-40a7-8da5-a91e99bccac1",
           "inputs": [
            {
             "dataType": "string",
             "default": "",
             "flow": "atomic",
             "help": null,
             "isdict": false,
             "islist": false,
             "label": "ip_path",
             "meta": {},
             "name": "ip_path",
             "series": false,
             "type": "str",
             "type_check": true
            }
           ],
           "outputs": [
            {
             "flow": "atomic",
             "help": null,
             "label": "op_path",
             "meta": {},
             "name": "op_path",
             "series": false,
             "type": "str",
             "type_check": true
            }
           ],
           "overwritten": false,
           "published": true,
           "var_names": [
            "NonSparkPath"
           ]
          },
          {
           "class_name": "CustMercTS",
           "fullname": "razor.project.blocks.ayan_spark_blocks_clone.CustMercTS",
           "id": "cfabbbdc-ec26-4142-ab5f-336483e44660",
           "inputs": [
            {
             "dataType": null,
             "default": null,
             "flow": "atomic",
             "help": null,
             "isdict": false,
             "islist": false,
             "label": "ip_data",
             "meta": {},
             "name": "ip_data",
             "series": false,
             "type": "DataFrame",
             "type_check": true
            },
            {
             "dataType": "dict",
             "default": {},
             "flow": "atomic",
             "help": null,
             "isdict": false,
             "islist": false,
             "label": "config",
             "meta": {},
             "name": "config",
             "series": false,
             "type": "dict",
             "type_check": true
            },
            {
             "dataType": "string",
             "default": "",
             "flow": "atomic",
             "help": null,
             "isdict": false,
             "islist": false,
             "label": "source",
             "meta": {},
             "name": "source",
             "series": false,
             "type": "str",
             "type_check": true
            }
           ],
           "outputs": [
            {
             "flow": "atomic",
             "help": null,
             "label": "customer_ts",
             "meta": {},
             "name": "customer_ts",
             "series": false,
             "type": "DataFrame",
             "type_check": true
            },
            {
             "flow": "atomic",
             "help": null,
             "label": "merchant_ts",
             "meta": {},
             "name": "merchant_ts",
             "series": false,
             "type": "DataFrame",
             "type_check": true
            }
           ],
           "overwritten": false,
           "published": true,
           "var_names": [
            "CustMercTS"
           ]
          }
         ],
         "connections": [
          {
           "id": "30af7bab-bee1-4555-9063-7b3a6a67b896",
           "source": {
            "adapter": false,
            "instance_id": "5d52d47e-0b3e-424c-aab1-5c3c69456ac2",
            "name": "data"
           },
           "target": {
            "adapter": false,
            "instance_id": "de7646cb-e521-4e2d-8992-5054597333e4",
            "name": "ip_data"
           }
          },
          {
           "id": "c40de670-fa02-4589-8d47-b16ffe6ecb61",
           "source": {
            "adapter": false,
            "instance_id": "1c4e5112-baf0-4819-98c3-ed50ff712c21",
            "name": "op_path"
           },
           "target": {
            "adapter": false,
            "instance_id": "5d52d47e-0b3e-424c-aab1-5c3c69456ac2",
            "name": "filename"
           }
          }
         ],
         "end": 1616581153.2785149,
         "id": "ba91b959-1698-4085-af5f-f54a68ff5b49",
         "instances": [
          {
           "block_class": "cfabbbdc-ec26-4142-ab5f-336483e44660",
           "id": "de7646cb-e521-4e2d-8992-5054597333e4",
           "name": "CustMercTS_1",
           "var_names": [
            "cm_ts"
           ]
          },
          {
           "block_class": "e8f8c5c9-c040-40d6-8057-f1cf539feef0",
           "id": "5d52d47e-0b3e-424c-aab1-5c3c69456ac2",
           "name": "ReadCsvProjectSpace_1",
           "var_names": [
            "rcp"
           ]
          },
          {
           "block_class": "51e11241-6750-40a7-8da5-a91e99bccac1",
           "id": "1c4e5112-baf0-4819-98c3-ed50ff712c21",
           "name": "NonSparkPath_1",
           "var_names": [
            "nsp"
           ]
          }
         ],
         "log_level": 20,
         "name": "temp",
         "start": 1616581118.632624,
         "status": "ERROR",
         "system_logs": false,
         "var_names": []
        },
        "metrics": {},
        "runtime": {
         "CustMercTS_1": {
          "end": 1616581153.2772925,
          "load": 1616581118.9090579,
          "start": 1616581118.9333827
         },
         "NonSparkPath_1": {
          "end": 1616581119.0053205,
          "load": 1616581118.6343317,
          "start": 1616581118.6410768
         },
         "ReadCsvProjectSpace_1": {
          "end": 1616581130.7292514,
          "load": 1616581118.9090579,
          "start": 1616581118.9333827
         }
        }
       },
       "store_in_notebook": true
      }
     },
     "output_type": "display_data"
    },
    {
     "name": "stderr",
     "output_type": "stream",
     "text": [
      "ERROR:razor.flow.async_pipeline:Block: 'CustMercTS_1': Unhandled Exception: PythonException('\\n  An exception was thrown from Python worker in the executor. The below is the Python worker stacktrace.\\nTraceback (most recent call last):\\n  File \"/opt/spark/python/lib/pyspark.zip/pyspark/worker.py\", line 589, in main\\n    func, profiler, deserializer, serializer = read_udfs(pickleSer, infile, eval_type)\\n  File \"/opt/spark/python/lib/pyspark.zip/pyspark/worker.py\", line 447, in read_udfs\\n    udfs.append(read_single_udf(pickleSer, infile, eval_type, runner_conf, udf_index=i))\\n  File \"/opt/spark/python/lib/pyspark.zip/pyspark/worker.py\", line 254, in read_single_udf\\n    f, return_type = read_command(pickleSer, infile)\\n  File \"/opt/spark/python/lib/pyspark.zip/pyspark/worker.py\", line 74, in read_command\\n    command = serializer._read_with_length(file)\\n  File \"/opt/spark/python/lib/pyspark.zip/pyspark/serializers.py\", line 172, in _read_with_length\\n    return self.loads(obj)\\n  File \"/opt/spark/python/lib/pyspark.zip/pyspark/serializers.py\", line 458, in loads\\n    return pickle.loads(obj, encoding=encoding)\\nModuleNotFoundError: No module named \\'project\\'\\n', 'org.apache.spark.SparkException: Job aborted due to stage failure: Task 0 in stage 9.0 failed 1 times, most recent failure: Lost task 0.0 in stage 9.0 (TID 208, dep-ser-7e8e95fa-80d9-4f2d-93cf-9a5f1fa0b947-ide-664cc855cvkzq5, executor driver): org.apache.spark.api.python.PythonException: Traceback (most recent call last):\\n  File \"/opt/spark/python/lib/pyspark.zip/pyspark/worker.py\", line 589, in main\\n    func, profiler, deserializer, serializer = read_udfs(pickleSer, infile, eval_type)\\n  File \"/opt/spark/python/lib/pyspark.zip/pyspark/worker.py\", line 447, in read_udfs\\n    udfs.append(read_single_udf(pickleSer, infile, eval_type, runner_conf, udf_index=i))\\n  File \"/opt/spark/python/lib/pyspark.zip/pyspark/worker.py\", line 254, in read_single_udf\\n    f, return_type = read_command(pickleSer, infile)\\n  File \"/opt/spark/python/lib/pyspark.zip/pyspark/worker.py\", line 74, in read_command\\n    command = serializer._read_with_length(file)\\n  File \"/opt/spark/python/lib/pyspark.zip/pyspark/serializers.py\", line 172, in _read_with_length\\n    return self.loads(obj)\\n  File \"/opt/spark/python/lib/pyspark.zip/pyspark/serializers.py\", line 458, in loads\\n    return pickle.loads(obj, encoding=encoding)\\nModuleNotFoundError: No module named \\'project\\'\\n\\n\\tat org.apache.spark.api.python.BasePythonRunner$ReaderIterator.handlePythonException(PythonRunner.scala:503)\\n\\tat org.apache.spark.sql.execution.python.PythonUDFRunner$$anon$2.read(PythonUDFRunner.scala:81)\\n\\tat org.apache.spark.sql.execution.python.PythonUDFRunner$$anon$2.read(PythonUDFRunner.scala:64)\\n\\tat org.apache.spark.api.python.BasePythonRunner$ReaderIterator.hasNext(PythonRunner.scala:456)\\n\\tat org.apache.spark.InterruptibleIterator.hasNext(InterruptibleIterator.scala:37)\\n\\tat scala.collection.Iterator$$anon$11.hasNext(Iterator.scala:489)\\n\\tat scala.collection.Iterator$$anon$10.hasNext(Iterator.scala:458)\\n\\tat scala.collection.Iterator$$anon$10.hasNext(Iterator.scala:458)\\n\\tat org.apache.spark.sql.catalyst.expressions.GeneratedClass$GeneratedIteratorForCodegenStage5.processNext(Unknown Source)\\n\\tat org.apache.spark.sql.execution.BufferedRowIterator.hasNext(BufferedRowIterator.java:43)\\n\\tat org.apache.spark.sql.execution.WholeStageCodegenExec$$anon$1.hasNext(WholeStageCodegenExec.scala:729)\\n\\tat scala.collection.Iterator$$anon$10.hasNext(Iterator.scala:458)\\n\\tat scala.collection.Iterator$$anon$10.hasNext(Iterator.scala:458)\\n\\tat scala.collection.Iterator$$anon$10.hasNext(Iterator.scala:458)\\n\\tat scala.collection.Iterator$GroupedIterator.fill(Iterator.scala:1209)\\n\\tat scala.collection.Iterator$GroupedIterator.hasNext(Iterator.scala:1215)\\n\\tat scala.collection.Iterator$$anon$10.hasNext(Iterator.scala:458)\\n\\tat scala.collection.Iterator.foreach(Iterator.scala:941)\\n\\tat scala.collection.Iterator.foreach$(Iterator.scala:941)\\n\\tat scala.collection.AbstractIterator.foreach(Iterator.scala:1429)\\n\\tat org.apache.spark.api.python.PythonRDD$.writeIteratorToStream(PythonRDD.scala:295)\\n\\tat org.apache.spark.sql.execution.python.PythonUDFRunner$$anon$1.writeIteratorToStream(PythonUDFRunner.scala:50)\\n\\tat org.apache.spark.api.python.BasePythonRunner$WriterThread.$anonfun$run$1(PythonRunner.scala:383)\\n\\tat org.apache.spark.util.Utils$.logUncaughtExceptions(Utils.scala:1932)\\n\\tat org.apache.spark.api.python.BasePythonRunner$WriterThread.run(PythonRunner.scala:218)\\n\\nDriver stacktrace:\\n\\tat org.apache.spark.scheduler.DAGScheduler.failJobAndIndependentStages(DAGScheduler.scala:2023)\\n\\tat org.apache.spark.scheduler.DAGScheduler.$anonfun$abortStage$2(DAGScheduler.scala:1972)\\n\\tat org.apache.spark.scheduler.DAGScheduler.$anonfun$abortStage$2$adapted(DAGScheduler.scala:1971)\\n\\tat scala.collection.mutable.ResizableArray.foreach(ResizableArray.scala:62)\\n\\tat scala.collection.mutable.ResizableArray.foreach$(ResizableArray.scala:55)\\n\\tat scala.collection.mutable.ArrayBuffer.foreach(ArrayBuffer.scala:49)\\n\\tat org.apache.spark.scheduler.DAGScheduler.abortStage(DAGScheduler.scala:1971)\\n\\tat org.apache.spark.scheduler.DAGScheduler.$anonfun$handleTaskSetFailed$1(DAGScheduler.scala:950)\\n\\tat org.apache.spark.scheduler.DAGScheduler.$anonfun$handleTaskSetFailed$1$adapted(DAGScheduler.scala:950)\\n\\tat scala.Option.foreach(Option.scala:407)\\n\\tat org.apache.spark.scheduler.DAGScheduler.handleTaskSetFailed(DAGScheduler.scala:950)\\n\\tat org.apache.spark.scheduler.DAGSchedulerEventProcessLoop.doOnReceive(DAGScheduler.scala:2203)\\n\\tat org.apache.spark.scheduler.DAGSchedulerEventProcessLoop.onReceive(DAGScheduler.scala:2152)\\n\\tat org.apache.spark.scheduler.DAGSchedulerEventProcessLoop.onReceive(DAGScheduler.scala:2141)\\n\\tat org.apache.spark.util.EventLoop$$anon$1.run(EventLoop.scala:49)\\n\\tat org.apache.spark.scheduler.DAGScheduler.runJob(DAGScheduler.scala:752)\\n\\tat org.apache.spark.SparkContext.runJob(SparkContext.scala:2093)\\n\\tat org.apache.spark.SparkContext.runJob(SparkContext.scala:2114)\\n\\tat org.apache.spark.SparkContext.runJob(SparkContext.scala:2133)\\n\\tat org.apache.spark.sql.execution.SparkPlan.executeTake(SparkPlan.scala:467)\\n\\tat org.apache.spark.sql.execution.SparkPlan.executeTake(SparkPlan.scala:420)\\n\\tat org.apache.spark.sql.execution.CollectLimitExec.executeCollect(limit.scala:47)\\n\\tat org.apache.spark.sql.Dataset.collectFromPlan(Dataset.scala:3625)\\n\\tat org.apache.spark.sql.Dataset.$anonfun$head$1(Dataset.scala:2695)\\n\\tat org.apache.spark.sql.Dataset.$anonfun$withAction$1(Dataset.scala:3616)\\n\\tat org.apache.spark.sql.execution.SQLExecution$.$anonfun$withNewExecutionId$5(SQLExecution.scala:100)\\n\\tat org.apache.spark.sql.execution.SQLExecution$.withSQLConfPropagated(SQLExecution.scala:160)\\n\\tat org.apache.spark.sql.execution.SQLExecution$.$anonfun$withNewExecutionId$1(SQLExecution.scala:87)\\n\\tat org.apache.spark.sql.SparkSession.withActive(SparkSession.scala:763)\\n\\tat org.apache.spark.sql.execution.SQLExecution$.withNewExecutionId(SQLExecution.scala:64)\\n\\tat org.apache.spark.sql.Dataset.withAction(Dataset.scala:3614)\\n\\tat org.apache.spark.sql.Dataset.head(Dataset.scala:2695)\\n\\tat org.apache.spark.sql.Dataset.take(Dataset.scala:2902)\\n\\tat org.apache.spark.sql.Dataset.getRows(Dataset.scala:300)\\n\\tat org.apache.spark.sql.Dataset.showString(Dataset.scala:337)\\n\\tat sun.reflect.NativeMethodAccessorImpl.invoke0(Native Method)\\n\\tat sun.reflect.NativeMethodAccessorImpl.invoke(NativeMethodAccessorImpl.java:62)\\n\\tat sun.reflect.DelegatingMethodAccessorImpl.invoke(DelegatingMethodAccessorImpl.java:43)\\n\\tat java.lang.reflect.Method.invoke(Method.java:498)\\n\\tat py4j.reflection.MethodInvoker.invoke(MethodInvoker.java:244)\\n\\tat py4j.reflection.ReflectionEngine.invoke(ReflectionEngine.java:357)\\n\\tat py4j.Gateway.invoke(Gateway.java:282)\\n\\tat py4j.commands.AbstractCommand.invokeMethod(AbstractCommand.java:132)\\n\\tat py4j.commands.CallCommand.execute(CallCommand.java:79)\\n\\tat py4j.GatewayConnection.run(GatewayConnection.java:238)\\n\\tat java.lang.Thread.run(Thread.java:748)\\nCaused by: org.apache.spark.api.python.PythonException: Traceback (most recent call last):\\n  File \"/opt/spark/python/lib/pyspark.zip/pyspark/worker.py\", line 589, in main\\n    func, profiler, deserializer, serializer = read_udfs(pickleSer, infile, eval_type)\\n  File \"/opt/spark/python/lib/pyspark.zip/pyspark/worker.py\", line 447, in read_udfs\\n    udfs.append(read_single_udf(pickleSer, infile, eval_type, runner_conf, udf_index=i))\\n  File \"/opt/spark/python/lib/pyspark.zip/pyspark/worker.py\", line 254, in read_single_udf\\n    f, return_type = read_command(pickleSer, infile)\\n  File \"/opt/spark/python/lib/pyspark.zip/pyspark/worker.py\", line 74, in read_command\\n    command = serializer._read_with_length(file)\\n  File \"/opt/spark/python/lib/pyspark.zip/pyspark/serializers.py\", line 172, in _read_with_length\\n    return self.loads(obj)\\n  File \"/opt/spark/python/lib/pyspark.zip/pyspark/serializers.py\", line 458, in loads\\n    return pickle.loads(obj, encoding=encoding)\\nModuleNotFoundError: No module named \\'project\\'\\n\\n\\tat org.apache.spark.api.python.BasePythonRunner$ReaderIterator.handlePythonException(PythonRunner.scala:503)\\n\\tat org.apache.spark.sql.execution.python.PythonUDFRunner$$anon$2.read(PythonUDFRunner.scala:81)\\n\\tat org.apache.spark.sql.execution.python.PythonUDFRunner$$anon$2.read(PythonUDFRunner.scala:64)\\n\\tat org.apache.spark.api.python.BasePythonRunner$ReaderIterator.hasNext(PythonRunner.scala:456)\\n\\tat org.apache.spark.InterruptibleIterator.hasNext(InterruptibleIterator.scala:37)\\n\\tat scala.collection.Iterator$$anon$11.hasNext(Iterator.scala:489)\\n\\tat scala.collection.Iterator$$anon$10.hasNext(Iterator.scala:458)\\n\\tat scala.collection.Iterator$$anon$10.hasNext(Iterator.scala:458)\\n\\tat org.apache.spark.sql.catalyst.expressions.GeneratedClass$GeneratedIteratorForCodegenStage5.processNext(Unknown Source)\\n\\tat org.apache.spark.sql.execution.BufferedRowIterator.hasNext(BufferedRowIterator.java:43)\\n\\tat org.apache.spark.sql.execution.WholeStageCodegenExec$$anon$1.hasNext(WholeStageCodegenExec.scala:729)\\n\\tat scala.collection.Iterator$$anon$10.hasNext(Iterator.scala:458)\\n\\tat scala.collection.Iterator$$anon$10.hasNext(Iterator.scala:458)\\n\\tat scala.collection.Iterator$$anon$10.hasNext(Iterator.scala:458)\\n\\tat scala.collection.Iterator$GroupedIterator.fill(Iterator.scala:1209)\\n\\tat scala.collection.Iterator$GroupedIterator.hasNext(Iterator.scala:1215)\\n\\tat scala.collection.Iterator$$anon$10.hasNext(Iterator.scala:458)\\n\\tat scala.collection.Iterator.foreach(Iterator.scala:941)\\n\\tat scala.collection.Iterator.foreach$(Iterator.scala:941)\\n\\tat scala.collection.AbstractIterator.foreach(Iterator.scala:1429)\\n\\tat org.apache.spark.api.python.PythonRDD$.writeIteratorToStream(PythonRDD.scala:295)\\n\\tat org.apache.spark.sql.execution.python.PythonUDFRunner$$anon$1.writeIteratorToStream(PythonUDFRunner.scala:50)\\n\\tat org.apache.spark.api.python.BasePythonRunner$WriterThread.$anonfun$run$1(PythonRunner.scala:383)\\n\\tat org.apache.spark.util.Utils$.logUncaughtExceptions(Utils.scala:1932)\\n\\tat org.apache.spark.api.python.BasePythonRunner$WriterThread.run(PythonRunner.scala:218)\\n'). All outputs from this block will be terminated. This may cause successor blocks to fail and pipeline to terminate incorrectly.\n",
      "Block: 'CustMercTS_1' terminated on interruption \n",
      "\n",
      "Pipeline: 'temp' terminated on interruption\n"
     ]
    },
    {
     "ename": "PythonException",
     "evalue": "\n  An exception was thrown from Python worker in the executor. The below is the Python worker stacktrace.\nTraceback (most recent call last):\n  File \"/opt/spark/python/lib/pyspark.zip/pyspark/worker.py\", line 589, in main\n    func, profiler, deserializer, serializer = read_udfs(pickleSer, infile, eval_type)\n  File \"/opt/spark/python/lib/pyspark.zip/pyspark/worker.py\", line 447, in read_udfs\n    udfs.append(read_single_udf(pickleSer, infile, eval_type, runner_conf, udf_index=i))\n  File \"/opt/spark/python/lib/pyspark.zip/pyspark/worker.py\", line 254, in read_single_udf\n    f, return_type = read_command(pickleSer, infile)\n  File \"/opt/spark/python/lib/pyspark.zip/pyspark/worker.py\", line 74, in read_command\n    command = serializer._read_with_length(file)\n  File \"/opt/spark/python/lib/pyspark.zip/pyspark/serializers.py\", line 172, in _read_with_length\n    return self.loads(obj)\n  File \"/opt/spark/python/lib/pyspark.zip/pyspark/serializers.py\", line 458, in loads\n    return pickle.loads(obj, encoding=encoding)\nModuleNotFoundError: No module named 'project'\n",
     "output_type": "error",
     "traceback": [
      "\u001b[0;31m---------------------------------------------------------------------------\u001b[0m",
      "\u001b[0;31mPythonException\u001b[0m                           Traceback (most recent call last)",
      "\u001b[0;32m<ipython-input-22-ffaaf91f11f9>\u001b[0m in \u001b[0;36m<module>\u001b[0;34m\u001b[0m\n\u001b[0;32m----> 1\u001b[0;31m \u001b[0mpipe\u001b[0m\u001b[0;34m.\u001b[0m\u001b[0mexecute\u001b[0m\u001b[0;34m(\u001b[0m\u001b[0;34m)\u001b[0m\u001b[0;34m\u001b[0m\u001b[0;34m\u001b[0m\u001b[0m\n\u001b[0m",
      "\u001b[0;32m/usr/local/lib/python3.7/dist-packages/razor/flow/async_pipeline.py\u001b[0m in \u001b[0;36mexecute\u001b[0;34m(self, log_path, log_level, io_host, io_port, inputs, engine_config)\u001b[0m\n\u001b[1;32m    322\u001b[0m                     \u001b[0mexc\u001b[0m \u001b[0;34m=\u001b[0m \u001b[0mUnsupportedException\u001b[0m\u001b[0;34m(\u001b[0m\u001b[0mexc_class\u001b[0m\u001b[0;34m,\u001b[0m \u001b[0mexc_args\u001b[0m\u001b[0;34m,\u001b[0m \u001b[0mexc_dict\u001b[0m\u001b[0;34m)\u001b[0m\u001b[0;34m\u001b[0m\u001b[0;34m\u001b[0m\u001b[0m\n\u001b[1;32m    323\u001b[0m                 \u001b[0;32mfinally\u001b[0m\u001b[0;34m:\u001b[0m\u001b[0;34m\u001b[0m\u001b[0;34m\u001b[0m\u001b[0m\n\u001b[0;32m--> 324\u001b[0;31m                     \u001b[0msix\u001b[0m\u001b[0;34m.\u001b[0m\u001b[0mreraise\u001b[0m\u001b[0;34m(\u001b[0m\u001b[0mexc_class\u001b[0m\u001b[0;34m,\u001b[0m \u001b[0mexc\u001b[0m\u001b[0;34m,\u001b[0m \u001b[0mtb\u001b[0m\u001b[0;34m)\u001b[0m  \u001b[0;31m# todo: clear local stack frames from tb\u001b[0m\u001b[0;34m\u001b[0m\u001b[0;34m\u001b[0m\u001b[0m\n\u001b[0m\u001b[1;32m    325\u001b[0m             \u001b[0;32melse\u001b[0m\u001b[0;34m:\u001b[0m\u001b[0;34m\u001b[0m\u001b[0;34m\u001b[0m\u001b[0m\n\u001b[1;32m    326\u001b[0m                 \u001b[0;32mreturn\u001b[0m \u001b[0mresult\u001b[0m\u001b[0;34m[\u001b[0m\u001b[0;34m'output'\u001b[0m\u001b[0;34m]\u001b[0m\u001b[0;34m\u001b[0m\u001b[0;34m\u001b[0m\u001b[0m\n",
      "\u001b[0;32m/usr/local/lib/python3.7/dist-packages/six.py\u001b[0m in \u001b[0;36mreraise\u001b[0;34m(tp, value, tb)\u001b[0m\n\u001b[1;32m    700\u001b[0m                 \u001b[0mvalue\u001b[0m \u001b[0;34m=\u001b[0m \u001b[0mtp\u001b[0m\u001b[0;34m(\u001b[0m\u001b[0;34m)\u001b[0m\u001b[0;34m\u001b[0m\u001b[0;34m\u001b[0m\u001b[0m\n\u001b[1;32m    701\u001b[0m             \u001b[0;32mif\u001b[0m \u001b[0mvalue\u001b[0m\u001b[0;34m.\u001b[0m\u001b[0m__traceback__\u001b[0m \u001b[0;32mis\u001b[0m \u001b[0;32mnot\u001b[0m \u001b[0mtb\u001b[0m\u001b[0;34m:\u001b[0m\u001b[0;34m\u001b[0m\u001b[0;34m\u001b[0m\u001b[0m\n\u001b[0;32m--> 702\u001b[0;31m                 \u001b[0;32mraise\u001b[0m \u001b[0mvalue\u001b[0m\u001b[0;34m.\u001b[0m\u001b[0mwith_traceback\u001b[0m\u001b[0;34m(\u001b[0m\u001b[0mtb\u001b[0m\u001b[0;34m)\u001b[0m\u001b[0;34m\u001b[0m\u001b[0;34m\u001b[0m\u001b[0m\n\u001b[0m\u001b[1;32m    703\u001b[0m             \u001b[0;32mraise\u001b[0m \u001b[0mvalue\u001b[0m\u001b[0;34m\u001b[0m\u001b[0;34m\u001b[0m\u001b[0m\n\u001b[1;32m    704\u001b[0m         \u001b[0;32mfinally\u001b[0m\u001b[0;34m:\u001b[0m\u001b[0;34m\u001b[0m\u001b[0;34m\u001b[0m\u001b[0m\n",
      "\u001b[0;32m/usr/local/lib/python3.7/dist-packages/razor/flow/async_executors.py\u001b[0m in \u001b[0;36mmain\u001b[0;34m()\u001b[0m\n\u001b[1;32m    135\u001b[0m         \u001b[0;32mtry\u001b[0m\u001b[0;34m:\u001b[0m\u001b[0;34m\u001b[0m\u001b[0;34m\u001b[0m\u001b[0m\n\u001b[1;32m    136\u001b[0m             \u001b[0mlogger\u001b[0m\u001b[0;34m.\u001b[0m\u001b[0mlog\u001b[0m\u001b[0;34m(\u001b[0m\u001b[0;36m10\u001b[0m\u001b[0;34m,\u001b[0m \u001b[0;34mf'{self.block.name}: waiting for block to finish'\u001b[0m\u001b[0;34m)\u001b[0m\u001b[0;34m\u001b[0m\u001b[0;34m\u001b[0m\u001b[0m\n\u001b[0;32m--> 137\u001b[0;31m             \u001b[0;32mawait\u001b[0m \u001b[0mblock_runner_task\u001b[0m\u001b[0;34m\u001b[0m\u001b[0;34m\u001b[0m\u001b[0m\n\u001b[0m\u001b[1;32m    138\u001b[0m             \u001b[0;32mawait\u001b[0m \u001b[0mself\u001b[0m\u001b[0;34m.\u001b[0m\u001b[0mdispatch\u001b[0m\u001b[0;34m(\u001b[0m\u001b[0;34m'block.complete'\u001b[0m\u001b[0;34m)\u001b[0m\u001b[0;34m\u001b[0m\u001b[0;34m\u001b[0m\u001b[0m\n\u001b[1;32m    139\u001b[0m         \u001b[0;32mexcept\u001b[0m \u001b[0mException\u001b[0m \u001b[0;32mas\u001b[0m \u001b[0mexp\u001b[0m\u001b[0;34m:\u001b[0m\u001b[0;34m\u001b[0m\u001b[0;34m\u001b[0m\u001b[0m\n",
      "\u001b[0;32m/usr/lib/python3.7/concurrent/futures/thread.py\u001b[0m in \u001b[0;36mrun\u001b[0;34m()\u001b[0m\n\u001b[1;32m     55\u001b[0m \u001b[0;34m\u001b[0m\u001b[0m\n\u001b[1;32m     56\u001b[0m         \u001b[0;32mtry\u001b[0m\u001b[0;34m:\u001b[0m\u001b[0;34m\u001b[0m\u001b[0;34m\u001b[0m\u001b[0m\n\u001b[0;32m---> 57\u001b[0;31m             \u001b[0mresult\u001b[0m \u001b[0;34m=\u001b[0m \u001b[0mself\u001b[0m\u001b[0;34m.\u001b[0m\u001b[0mfn\u001b[0m\u001b[0;34m(\u001b[0m\u001b[0;34m*\u001b[0m\u001b[0mself\u001b[0m\u001b[0;34m.\u001b[0m\u001b[0margs\u001b[0m\u001b[0;34m,\u001b[0m \u001b[0;34m**\u001b[0m\u001b[0mself\u001b[0m\u001b[0;34m.\u001b[0m\u001b[0mkwargs\u001b[0m\u001b[0;34m)\u001b[0m\u001b[0;34m\u001b[0m\u001b[0;34m\u001b[0m\u001b[0m\n\u001b[0m\u001b[1;32m     58\u001b[0m         \u001b[0;32mexcept\u001b[0m \u001b[0mBaseException\u001b[0m \u001b[0;32mas\u001b[0m \u001b[0mexc\u001b[0m\u001b[0;34m:\u001b[0m\u001b[0;34m\u001b[0m\u001b[0;34m\u001b[0m\u001b[0m\n\u001b[1;32m     59\u001b[0m             \u001b[0mself\u001b[0m\u001b[0;34m.\u001b[0m\u001b[0mfuture\u001b[0m\u001b[0;34m.\u001b[0m\u001b[0mset_exception\u001b[0m\u001b[0;34m(\u001b[0m\u001b[0mexc\u001b[0m\u001b[0;34m)\u001b[0m\u001b[0;34m\u001b[0m\u001b[0;34m\u001b[0m\u001b[0m\n",
      "\u001b[0;32m/usr/local/lib/python3.7/dist-packages/razor/flow/async_executors.py\u001b[0m in \u001b[0;36mrun_block\u001b[0;34m()\u001b[0m\n\u001b[1;32m    277\u001b[0m             \u001b[0;32mexcept\u001b[0m \u001b[0mException\u001b[0m \u001b[0;32mas\u001b[0m \u001b[0mexp\u001b[0m\u001b[0;34m:\u001b[0m\u001b[0;34m\u001b[0m\u001b[0;34m\u001b[0m\u001b[0m\n\u001b[1;32m    278\u001b[0m                 \u001b[0mstderr_logger\u001b[0m\u001b[0;34m.\u001b[0m\u001b[0mexception\u001b[0m\u001b[0;34m(\u001b[0m\u001b[0mexp\u001b[0m\u001b[0;34m)\u001b[0m\u001b[0;34m\u001b[0m\u001b[0;34m\u001b[0m\u001b[0m\n\u001b[0;32m--> 279\u001b[0;31m                 \u001b[0;32mraise\u001b[0m \u001b[0mexp\u001b[0m\u001b[0;34m\u001b[0m\u001b[0;34m\u001b[0m\u001b[0m\n\u001b[0m\u001b[1;32m    280\u001b[0m \u001b[0;34m\u001b[0m\u001b[0m\n\u001b[1;32m    281\u001b[0m     \u001b[0;32masync\u001b[0m \u001b[0;32mdef\u001b[0m \u001b[0mstart_pipeline_output_sender\u001b[0m\u001b[0;34m(\u001b[0m\u001b[0mself\u001b[0m\u001b[0;34m,\u001b[0m \u001b[0mout_name\u001b[0m\u001b[0;34m,\u001b[0m \u001b[0mqueue\u001b[0m\u001b[0;34m)\u001b[0m\u001b[0;34m:\u001b[0m\u001b[0;34m\u001b[0m\u001b[0;34m\u001b[0m\u001b[0m\n",
      "\u001b[0;32m/usr/local/lib/python3.7/dist-packages/razor/flow/async_executors.py\u001b[0m in \u001b[0;36mrun_block\u001b[0;34m()\u001b[0m\n\u001b[1;32m    274\u001b[0m         \u001b[0;32mwith\u001b[0m \u001b[0mredirect_stdout\u001b[0m\u001b[0;34m(\u001b[0m\u001b[0mstdout_stream\u001b[0m\u001b[0;34m)\u001b[0m\u001b[0;34m,\u001b[0m \u001b[0mredirect_stderr\u001b[0m\u001b[0;34m(\u001b[0m\u001b[0mstderr_stream\u001b[0m\u001b[0;34m)\u001b[0m\u001b[0;34m:\u001b[0m\u001b[0;34m\u001b[0m\u001b[0;34m\u001b[0m\u001b[0m\n\u001b[1;32m    275\u001b[0m             \u001b[0;32mtry\u001b[0m\u001b[0;34m:\u001b[0m\u001b[0;34m\u001b[0m\u001b[0;34m\u001b[0m\u001b[0m\n\u001b[0;32m--> 276\u001b[0;31m                 \u001b[0mself\u001b[0m\u001b[0;34m.\u001b[0m\u001b[0mblock\u001b[0m\u001b[0;34m.\u001b[0m\u001b[0mrun\u001b[0m\u001b[0;34m(\u001b[0m\u001b[0;34m)\u001b[0m\u001b[0;34m\u001b[0m\u001b[0;34m\u001b[0m\u001b[0m\n\u001b[0m\u001b[1;32m    277\u001b[0m             \u001b[0;32mexcept\u001b[0m \u001b[0mException\u001b[0m \u001b[0;32mas\u001b[0m \u001b[0mexp\u001b[0m\u001b[0;34m:\u001b[0m\u001b[0;34m\u001b[0m\u001b[0;34m\u001b[0m\u001b[0m\n\u001b[1;32m    278\u001b[0m                 \u001b[0mstderr_logger\u001b[0m\u001b[0;34m.\u001b[0m\u001b[0mexception\u001b[0m\u001b[0;34m(\u001b[0m\u001b[0mexp\u001b[0m\u001b[0;34m)\u001b[0m\u001b[0;34m\u001b[0m\u001b[0;34m\u001b[0m\u001b[0m\n",
      "\u001b[0;32m~/published-packages/project/blocks/ayan_spark_blocks_clone/blocks.py\u001b[0m in \u001b[0;36mrun\u001b[0;34m()\u001b[0m\n\u001b[1;32m    660\u001b[0m         \u001b[0mcustomer_ts\u001b[0m \u001b[0;34m=\u001b[0m \u001b[0mget_customer_ts\u001b[0m\u001b[0;34m(\u001b[0m\u001b[0mipd\u001b[0m\u001b[0;34m)\u001b[0m\u001b[0;34m\u001b[0m\u001b[0;34m\u001b[0m\u001b[0m\n\u001b[1;32m    661\u001b[0m         \u001b[0mprint\u001b[0m\u001b[0;34m(\u001b[0m\u001b[0;34m'{clone} row count:'\u001b[0m\u001b[0;34m,\u001b[0m \u001b[0mcustomer_ts\u001b[0m\u001b[0;34m.\u001b[0m\u001b[0mcount\u001b[0m\u001b[0;34m(\u001b[0m\u001b[0;34m)\u001b[0m\u001b[0;34m)\u001b[0m\u001b[0;34m\u001b[0m\u001b[0;34m\u001b[0m\u001b[0m\n\u001b[0;32m--> 662\u001b[0;31m         \u001b[0mcustomer_ts\u001b[0m\u001b[0;34m.\u001b[0m\u001b[0mshow\u001b[0m\u001b[0;34m(\u001b[0m\u001b[0;34m)\u001b[0m\u001b[0;34m\u001b[0m\u001b[0;34m\u001b[0m\u001b[0m\n\u001b[0m\u001b[1;32m    663\u001b[0m         \u001b[0mmerchant_ts\u001b[0m \u001b[0;34m=\u001b[0m \u001b[0mget_merchant_ts\u001b[0m\u001b[0;34m(\u001b[0m\u001b[0mipd\u001b[0m\u001b[0;34m)\u001b[0m\u001b[0;34m\u001b[0m\u001b[0;34m\u001b[0m\u001b[0m\n\u001b[1;32m    664\u001b[0m         \u001b[0mcustomer_ts\u001b[0m\u001b[0;34m.\u001b[0m\u001b[0mshow\u001b[0m\u001b[0;34m(\u001b[0m\u001b[0;34m)\u001b[0m\u001b[0;34m\u001b[0m\u001b[0;34m\u001b[0m\u001b[0m\n",
      "\u001b[0;32m/usr/local/lib/python3.7/dist-packages/pyspark/sql/dataframe.py\u001b[0m in \u001b[0;36mshow\u001b[0;34m()\u001b[0m\n\u001b[1;32m    438\u001b[0m         \"\"\"\n\u001b[1;32m    439\u001b[0m         \u001b[0;32mif\u001b[0m \u001b[0misinstance\u001b[0m\u001b[0;34m(\u001b[0m\u001b[0mtruncate\u001b[0m\u001b[0;34m,\u001b[0m \u001b[0mbool\u001b[0m\u001b[0;34m)\u001b[0m \u001b[0;32mand\u001b[0m \u001b[0mtruncate\u001b[0m\u001b[0;34m:\u001b[0m\u001b[0;34m\u001b[0m\u001b[0;34m\u001b[0m\u001b[0m\n\u001b[0;32m--> 440\u001b[0;31m             \u001b[0mprint\u001b[0m\u001b[0;34m(\u001b[0m\u001b[0mself\u001b[0m\u001b[0;34m.\u001b[0m\u001b[0m_jdf\u001b[0m\u001b[0;34m.\u001b[0m\u001b[0mshowString\u001b[0m\u001b[0;34m(\u001b[0m\u001b[0mn\u001b[0m\u001b[0;34m,\u001b[0m \u001b[0;36m20\u001b[0m\u001b[0;34m,\u001b[0m \u001b[0mvertical\u001b[0m\u001b[0;34m)\u001b[0m\u001b[0;34m)\u001b[0m\u001b[0;34m\u001b[0m\u001b[0;34m\u001b[0m\u001b[0m\n\u001b[0m\u001b[1;32m    441\u001b[0m         \u001b[0;32melse\u001b[0m\u001b[0;34m:\u001b[0m\u001b[0;34m\u001b[0m\u001b[0;34m\u001b[0m\u001b[0m\n\u001b[1;32m    442\u001b[0m             \u001b[0mprint\u001b[0m\u001b[0;34m(\u001b[0m\u001b[0mself\u001b[0m\u001b[0;34m.\u001b[0m\u001b[0m_jdf\u001b[0m\u001b[0;34m.\u001b[0m\u001b[0mshowString\u001b[0m\u001b[0;34m(\u001b[0m\u001b[0mn\u001b[0m\u001b[0;34m,\u001b[0m \u001b[0mint\u001b[0m\u001b[0;34m(\u001b[0m\u001b[0mtruncate\u001b[0m\u001b[0;34m)\u001b[0m\u001b[0;34m,\u001b[0m \u001b[0mvertical\u001b[0m\u001b[0;34m)\u001b[0m\u001b[0;34m)\u001b[0m\u001b[0;34m\u001b[0m\u001b[0;34m\u001b[0m\u001b[0m\n",
      "\u001b[0;32m/usr/local/lib/python3.7/dist-packages/py4j/java_gateway.py\u001b[0m in \u001b[0;36m__call__\u001b[0;34m()\u001b[0m\n\u001b[1;32m   1303\u001b[0m         \u001b[0manswer\u001b[0m \u001b[0;34m=\u001b[0m \u001b[0mself\u001b[0m\u001b[0;34m.\u001b[0m\u001b[0mgateway_client\u001b[0m\u001b[0;34m.\u001b[0m\u001b[0msend_command\u001b[0m\u001b[0;34m(\u001b[0m\u001b[0mcommand\u001b[0m\u001b[0;34m)\u001b[0m\u001b[0;34m\u001b[0m\u001b[0;34m\u001b[0m\u001b[0m\n\u001b[1;32m   1304\u001b[0m         return_value = get_return_value(\n\u001b[0;32m-> 1305\u001b[0;31m             answer, self.gateway_client, self.target_id, self.name)\n\u001b[0m\u001b[1;32m   1306\u001b[0m \u001b[0;34m\u001b[0m\u001b[0m\n\u001b[1;32m   1307\u001b[0m         \u001b[0;32mfor\u001b[0m \u001b[0mtemp_arg\u001b[0m \u001b[0;32min\u001b[0m \u001b[0mtemp_args\u001b[0m\u001b[0;34m:\u001b[0m\u001b[0;34m\u001b[0m\u001b[0;34m\u001b[0m\u001b[0m\n",
      "\u001b[0;32m/usr/local/lib/python3.7/dist-packages/pyspark/sql/utils.py\u001b[0m in \u001b[0;36mdeco\u001b[0;34m()\u001b[0m\n\u001b[1;32m    135\u001b[0m                 \u001b[0;31m# Hide where the exception came from that shows a non-Pythonic\u001b[0m\u001b[0;34m\u001b[0m\u001b[0;34m\u001b[0m\u001b[0;34m\u001b[0m\u001b[0m\n\u001b[1;32m    136\u001b[0m                 \u001b[0;31m# JVM exception message.\u001b[0m\u001b[0;34m\u001b[0m\u001b[0;34m\u001b[0m\u001b[0;34m\u001b[0m\u001b[0m\n\u001b[0;32m--> 137\u001b[0;31m                 \u001b[0mraise_from\u001b[0m\u001b[0;34m(\u001b[0m\u001b[0mconverted\u001b[0m\u001b[0;34m)\u001b[0m\u001b[0;34m\u001b[0m\u001b[0;34m\u001b[0m\u001b[0m\n\u001b[0m\u001b[1;32m    138\u001b[0m             \u001b[0;32melse\u001b[0m\u001b[0;34m:\u001b[0m\u001b[0;34m\u001b[0m\u001b[0;34m\u001b[0m\u001b[0m\n\u001b[1;32m    139\u001b[0m                 \u001b[0;32mraise\u001b[0m\u001b[0;34m\u001b[0m\u001b[0;34m\u001b[0m\u001b[0m\n",
      "\u001b[0;32m/usr/local/lib/python3.7/dist-packages/pyspark/sql/utils.py\u001b[0m in \u001b[0;36mraise_from\u001b[0;34m()\u001b[0m\n",
      "\u001b[0;31mPythonException\u001b[0m: \n  An exception was thrown from Python worker in the executor. The below is the Python worker stacktrace.\nTraceback (most recent call last):\n  File \"/opt/spark/python/lib/pyspark.zip/pyspark/worker.py\", line 589, in main\n    func, profiler, deserializer, serializer = read_udfs(pickleSer, infile, eval_type)\n  File \"/opt/spark/python/lib/pyspark.zip/pyspark/worker.py\", line 447, in read_udfs\n    udfs.append(read_single_udf(pickleSer, infile, eval_type, runner_conf, udf_index=i))\n  File \"/opt/spark/python/lib/pyspark.zip/pyspark/worker.py\", line 254, in read_single_udf\n    f, return_type = read_command(pickleSer, infile)\n  File \"/opt/spark/python/lib/pyspark.zip/pyspark/worker.py\", line 74, in read_command\n    command = serializer._read_with_length(file)\n  File \"/opt/spark/python/lib/pyspark.zip/pyspark/serializers.py\", line 172, in _read_with_length\n    return self.loads(obj)\n  File \"/opt/spark/python/lib/pyspark.zip/pyspark/serializers.py\", line 458, in loads\n    return pickle.loads(obj, encoding=encoding)\nModuleNotFoundError: No module named 'project'\n"
     ]
    }
   ],
   "source": [
    "pipe.execute()"
   ]
  },
  {
   "cell_type": "code",
   "execution_count": null,
   "id": "confident-samba",
   "metadata": {},
   "outputs": [],
   "source": [
    "from raz"
   ]
  },
  {
   "cell_type": "code",
   "execution_count": null,
   "id": "third-release",
   "metadata": {},
   "outputs": [],
   "source": [
    "pip show pyspark"
   ]
  },
  {
   "cell_type": "code",
   "execution_count": null,
   "id": "built-competition",
   "metadata": {},
   "outputs": [],
   "source": []
  },
  {
   "cell_type": "code",
   "execution_count": null,
   "id": "current-acrobat",
   "metadata": {},
   "outputs": [],
   "source": []
  }
 ],
 "metadata": {
  "kernelspec": {
   "display_name": "Python 3",
   "language": "python",
   "name": "python3"
  },
  "language_info": {
   "codemirror_mode": {
    "name": "ipython",
    "version": 3
   },
   "file_extension": ".py",
   "mimetype": "text/x-python",
   "name": "python",
   "nbconvert_exporter": "python",
   "pygments_lexer": "ipython3",
   "version": "3.7.10"
  }
 },
 "nbformat": 4,
 "nbformat_minor": 5
}
