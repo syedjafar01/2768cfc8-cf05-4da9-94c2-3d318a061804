{
 "cells": [
  {
   "cell_type": "code",
   "execution_count": null,
   "id": "practical-transcription",
   "metadata": {},
   "outputs": [],
   "source": [
    "import razor\n",
    "from razor import api\n",
    "import razor.flow as rf\n",
    "from razor.flow.spark import SparkBlock, SparkExecutor"
   ]
  },
  {
   "cell_type": "code",
   "execution_count": 7,
   "id": "unlike-shepherd",
   "metadata": {},
   "outputs": [
    {
     "data": {
      "text/html": [
       "\n",
       "            <div>\n",
       "                <p><b>SparkSession - in-memory</b></p>\n",
       "                \n",
       "        <div>\n",
       "            <p><b>SparkContext</b></p>\n",
       "\n",
       "            <p><a href=\"http://dep-ser-930648e2-1052-4221-bec6-b84bae70b70c-ide-5475d8849t6k42:4041\">Spark UI</a></p>\n",
       "\n",
       "            <dl>\n",
       "              <dt>Version</dt>\n",
       "                <dd><code>v3.0.0</code></dd>\n",
       "              <dt>Master</dt>\n",
       "                <dd><code>local[*]</code></dd>\n",
       "              <dt>AppName</dt>\n",
       "                <dd><code>SAN</code></dd>\n",
       "            </dl>\n",
       "        </div>\n",
       "        \n",
       "            </div>\n",
       "        "
      ],
      "text/plain": [
       "<pyspark.sql.session.SparkSession at 0x7f114c3644d0>"
      ]
     },
     "execution_count": 7,
     "metadata": {},
     "output_type": "execute_result"
    }
   ],
   "source": [
    "# from pyspark import SparkContext\n",
    "# #sc = SparkContext(\"local\", \"First App\")\n",
    "\n",
    "\n",
    "# from pyspark.sql import SparkSession\n",
    "# from pyspark import SparkConf\n",
    "\n",
    "# session = SparkSession.builder.appName(\"SAN\")\n",
    "# session.getOrCreate()\n",
    "\n",
    "\n",
    "\n"
   ]
  },
  {
   "cell_type": "code",
   "execution_count": 8,
   "id": "welsh-unemployment",
   "metadata": {},
   "outputs": [
    {
     "data": {
      "text/plain": [
       "<py4j.java_gateway.JVMView at 0x7f114c2e76d0>"
      ]
     },
     "execution_count": 8,
     "metadata": {},
     "output_type": "execute_result"
    }
   ],
   "source": [
    "# SparkContext._jvm"
   ]
  },
  {
   "cell_type": "code",
   "execution_count": null,
   "id": "apparent-thought",
   "metadata": {},
   "outputs": [],
   "source": []
  },
  {
   "cell_type": "code",
   "execution_count": 4,
   "id": "toxic-secret",
   "metadata": {},
   "outputs": [
    {
     "data": {
      "text/plain": [
       "'/usr/bin/python3'"
      ]
     },
     "execution_count": 4,
     "metadata": {},
     "output_type": "execute_result"
    }
   ],
   "source": [
    "# import sys\n",
    "# sys.executable"
   ]
  },
  {
   "cell_type": "code",
   "execution_count": 9,
   "id": "static-uzbekistan",
   "metadata": {},
   "outputs": [],
   "source": [
    "import os\n",
    "from datetime import datetime, timedelta\n",
    "from pyspark.sql import SparkSession, functions\n",
    "from pyspark.sql.dataframe import DataFrame\n",
    "from datetime import datetime, timedelta\n",
    "from dateutil.relativedelta import relativedelta\n",
    "from pyspark.sql.types import IntegerType, DateType, ArrayType, StringType, FloatType, TimestampType\n"
   ]
  },
  {
   "cell_type": "code",
   "execution_count": 11,
   "id": "generic-upgrade",
   "metadata": {},
   "outputs": [],
   "source": [
    "from project.blocks.ayan_spark_blocks_clone import MercStatic\n",
    "from project.blocks.ayan_spark_blocks_clone import ReadCsvProjectSpace\n",
    "from project.blocks.ayan_spark_blocks_clone import TranCityTS\n",
    "from project.blocks.ayan_spark_blocks_clone import TranTypeTS\n",
    "from project.blocks.ayan_spark_blocks_clone import NonSparkPath\n",
    "from project.blocks.ayan_spark_blocks_clone import CustStatic\n",
    "from project.blocks.ayan_spark_blocks_clone import ProdTypeTS\n",
    "from project.blocks.ayan_spark_blocks_clone import CustMercTS\n",
    "from project.blocks.ayan_spark_blocks_clone import DropDuplicates"
   ]
  },
  {
   "cell_type": "code",
   "execution_count": null,
   "id": "appointed-actor",
   "metadata": {},
   "outputs": [],
   "source": [
    "# import importlib\n",
    "# x= importlib.import_module('__init__' , '/home/aios/published-packages/project/blocks/ayan_spark_blocks_clone')\n",
    "# # print(x)"
   ]
  },
  {
   "cell_type": "code",
   "execution_count": null,
   "id": "adequate-taxation",
   "metadata": {},
   "outputs": [],
   "source": [
    "# CustMercTS = x.__dict__['CustMercTS']\n",
    "# ReadCsvProjectSpace = x.__dict__['ReadCsvProjectSpace']\n",
    "# NonSparkPath = x.__dict__['NonSparkPath']"
   ]
  },
  {
   "cell_type": "code",
   "execution_count": 12,
   "id": "commercial-glory",
   "metadata": {},
   "outputs": [],
   "source": [
    "def project_space_path(path):\n",
    "    ps = api.datasources('Project Space')\n",
    "    return os.path.join(ps.abspath(), path)\n"
   ]
  },
  {
   "cell_type": "code",
   "execution_count": 13,
   "id": "fossil-investigator",
   "metadata": {},
   "outputs": [],
   "source": [
    "nsp = NonSparkPath(ip_path='customer_data.csv')"
   ]
  },
  {
   "cell_type": "code",
   "execution_count": 14,
   "id": "therapeutic-narrative",
   "metadata": {},
   "outputs": [],
   "source": [
    "rcp = ReadCsvProjectSpace(filename = nsp.op_path, config={}, source=\"\")\n",
    "rcp.executor = SparkExecutor"
   ]
  },
  {
   "cell_type": "code",
   "execution_count": 15,
   "id": "cellular-detector",
   "metadata": {},
   "outputs": [],
   "source": [
    "cm_ts = CustMercTS(ip_data = rcp.data, config={}, source=\"\")\n",
    "cm_ts.executor = SparkExecutor"
   ]
  },
  {
   "cell_type": "code",
   "execution_count": null,
   "id": "drawn-season",
   "metadata": {},
   "outputs": [],
   "source": []
  },
  {
   "cell_type": "code",
   "execution_count": 16,
   "id": "aquatic-power",
   "metadata": {},
   "outputs": [],
   "source": [
    "pipe = rf.Pipeline('temp', targets = [cm_ts])"
   ]
  },
  {
   "cell_type": "code",
   "execution_count": 17,
   "id": "basic-jefferson",
   "metadata": {},
   "outputs": [
    {
     "data": {
      "application/vnd.razorthink.interactive+pipeline+view+json": {
       "blocks": [
        {
         "class_name": "NonSparkPath",
         "fullname": "razor.project.blocks.ayan_spark_blocks_clone.NonSparkPath",
         "id": "169b67e9-287b-4766-92d4-25fda7a8c90b",
         "inputs": [
          {
           "dataType": "string",
           "default": "",
           "flow": "atomic",
           "help": null,
           "isdict": false,
           "islist": false,
           "label": "ip_path",
           "meta": {},
           "name": "ip_path",
           "series": false,
           "type": "str",
           "type_check": true
          }
         ],
         "outputs": [
          {
           "flow": "atomic",
           "help": null,
           "label": "op_path",
           "meta": {},
           "name": "op_path",
           "series": false,
           "type": "str",
           "type_check": true
          }
         ],
         "overwritten": false,
         "published": true,
         "var_names": [
          "NonSparkPath"
         ]
        },
        {
         "class_name": "ReadCsvProjectSpace",
         "fullname": "razor.project.blocks.ayan_spark_blocks_clone.ReadCsvProjectSpace",
         "id": "dc3fd8b2-0e1b-4f68-a3b9-69fcdf41efa8",
         "inputs": [
          {
           "dataType": "string",
           "default": "",
           "flow": "atomic",
           "help": null,
           "isdict": false,
           "islist": false,
           "label": "filename",
           "meta": {},
           "name": "filename",
           "series": false,
           "type": "str",
           "type_check": true
          },
          {
           "dataType": "dict",
           "default": {},
           "flow": "atomic",
           "help": null,
           "isdict": false,
           "islist": false,
           "label": "config",
           "meta": {},
           "name": "config",
           "series": false,
           "type": "dict",
           "type_check": true
          },
          {
           "dataType": "string",
           "default": "",
           "flow": "atomic",
           "help": null,
           "isdict": false,
           "islist": false,
           "label": "source",
           "meta": {},
           "name": "source",
           "series": false,
           "type": "str",
           "type_check": true
          }
         ],
         "outputs": [
          {
           "flow": "atomic",
           "help": null,
           "label": "data",
           "meta": {},
           "name": "data",
           "series": false,
           "type": "DataFrame",
           "type_check": true
          }
         ],
         "overwritten": false,
         "published": true,
         "var_names": [
          "ReadCsvProjectSpace"
         ]
        },
        {
         "class_name": "CustMercTS",
         "fullname": "razor.project.blocks.ayan_spark_blocks_clone.CustMercTS",
         "id": "fa6b66fc-56ee-4d8f-b070-196ae4088cc6",
         "inputs": [
          {
           "dataType": null,
           "default": null,
           "flow": "atomic",
           "help": null,
           "isdict": false,
           "islist": false,
           "label": "ip_data",
           "meta": {},
           "name": "ip_data",
           "series": false,
           "type": "DataFrame",
           "type_check": true
          },
          {
           "dataType": "dict",
           "default": {},
           "flow": "atomic",
           "help": null,
           "isdict": false,
           "islist": false,
           "label": "config",
           "meta": {},
           "name": "config",
           "series": false,
           "type": "dict",
           "type_check": true
          },
          {
           "dataType": "string",
           "default": "",
           "flow": "atomic",
           "help": null,
           "isdict": false,
           "islist": false,
           "label": "source",
           "meta": {},
           "name": "source",
           "series": false,
           "type": "str",
           "type_check": true
          }
         ],
         "outputs": [
          {
           "flow": "atomic",
           "help": null,
           "label": "customer_ts",
           "meta": {},
           "name": "customer_ts",
           "series": false,
           "type": "DataFrame",
           "type_check": true
          },
          {
           "flow": "atomic",
           "help": null,
           "label": "merchant_ts",
           "meta": {},
           "name": "merchant_ts",
           "series": false,
           "type": "DataFrame",
           "type_check": true
          }
         ],
         "overwritten": false,
         "published": true,
         "var_names": [
          "CustMercTS"
         ]
        }
       ],
       "connections": [
        {
         "id": "ff4d7e65-73a0-4fc2-8826-ad242a49e1fa",
         "source": {
          "adapter": false,
          "instance_id": "b4069d75-910e-43c9-b369-be7fa445912c",
          "name": "data"
         },
         "target": {
          "adapter": false,
          "instance_id": "da37c201-9f9b-4b2d-91ec-058514e88061",
          "name": "ip_data"
         }
        },
        {
         "id": "30164d9a-49fa-47c1-b02b-692dfb4e9959",
         "source": {
          "adapter": false,
          "instance_id": "076144cc-3550-4302-bcf5-9578c2d7274a",
          "name": "op_path"
         },
         "target": {
          "adapter": false,
          "instance_id": "b4069d75-910e-43c9-b369-be7fa445912c",
          "name": "filename"
         }
        }
       ],
       "id": "e084851d-a467-498f-be2b-1dfd685b89bc",
       "instances": [
        {
         "block_class": "fa6b66fc-56ee-4d8f-b070-196ae4088cc6",
         "id": "da37c201-9f9b-4b2d-91ec-058514e88061",
         "name": "CustMercTS_1",
         "var_names": [
          "cm_ts"
         ]
        },
        {
         "block_class": "dc3fd8b2-0e1b-4f68-a3b9-69fcdf41efa8",
         "id": "b4069d75-910e-43c9-b369-be7fa445912c",
         "name": "ReadCsvProjectSpace_1",
         "var_names": [
          "rcp"
         ]
        },
        {
         "block_class": "169b67e9-287b-4766-92d4-25fda7a8c90b",
         "id": "076144cc-3550-4302-bcf5-9578c2d7274a",
         "name": "NonSparkPath_1",
         "var_names": [
          "nsp"
         ]
        }
       ],
       "name": "temp",
       "var_names": []
      },
      "image/svg+xml": [
       "<?xml version=\"1.0\" encoding=\"UTF-8\" standalone=\"no\"?>\n",
       "<!DOCTYPE svg PUBLIC \"-//W3C//DTD SVG 1.1//EN\"\n",
       " \"http://www.w3.org/Graphics/SVG/1.1/DTD/svg11.dtd\">\n",
       "<!-- Generated by graphviz version 2.43.0 (0)\n",
       " -->\n",
       "<!-- Title: %3 Pages: 1 -->\n",
       "<svg width=\"306pt\" height=\"210pt\"\n",
       " viewBox=\"0.00 0.00 305.86 210.00\" xmlns=\"http://www.w3.org/2000/svg\" xmlns:xlink=\"http://www.w3.org/1999/xlink\">\n",
       "<g id=\"graph0\" class=\"graph\" transform=\"scale(1 1) rotate(0) translate(4 206)\">\n",
       "<title>%3</title>\n",
       "<polygon fill=\"white\" stroke=\"transparent\" points=\"-4,4 -4,-206 301.86,-206 301.86,4 -4,4\"/>\n",
       "<!-- CustMercTS(&#39;CustMercTS_1&#39;) -->\n",
       "<g id=\"node1\" class=\"node\">\n",
       "<title>CustMercTS(&#39;CustMercTS_1&#39;)</title>\n",
       "<ellipse fill=\"none\" stroke=\"black\" cx=\"148.93\" cy=\"-18\" rx=\"92.34\" ry=\"18\"/>\n",
       "<text text-anchor=\"middle\" x=\"148.93\" y=\"-15.5\" font-family=\"Helvetica,sans-Serif\" font-size=\"10.00\">CustMercTS(&#39;CustMercTS_1&#39;)</text>\n",
       "</g>\n",
       "<!-- ReadCsvProjectSpace(&#39;ReadCsvProjectSpace_1&#39;) -->\n",
       "<g id=\"node2\" class=\"node\">\n",
       "<title>ReadCsvProjectSpace(&#39;ReadCsvProjectSpace_1&#39;)</title>\n",
       "<ellipse fill=\"none\" stroke=\"black\" cx=\"148.93\" cy=\"-101\" rx=\"148.86\" ry=\"18\"/>\n",
       "<text text-anchor=\"middle\" x=\"148.93\" y=\"-98.5\" font-family=\"Helvetica,sans-Serif\" font-size=\"10.00\">ReadCsvProjectSpace(&#39;ReadCsvProjectSpace_1&#39;)</text>\n",
       "</g>\n",
       "<!-- ReadCsvProjectSpace(&#39;ReadCsvProjectSpace_1&#39;)&#45;&gt;CustMercTS(&#39;CustMercTS_1&#39;) -->\n",
       "<g id=\"edge1\" class=\"edge\">\n",
       "<title>ReadCsvProjectSpace(&#39;ReadCsvProjectSpace_1&#39;)&#45;&gt;CustMercTS(&#39;CustMercTS_1&#39;)</title>\n",
       "<path fill=\"none\" stroke=\"black\" d=\"M148.93,-82.82C148.93,-72.19 148.93,-58.31 148.93,-46.2\"/>\n",
       "<polygon fill=\"black\" stroke=\"black\" points=\"152.43,-46.15 148.93,-36.15 145.43,-46.15 152.43,-46.15\"/>\n",
       "<text text-anchor=\"middle\" x=\"183.93\" y=\"-57\" font-family=\"Helvetica,sans-Serif\" font-size=\"10.00\">data&#45;&gt;ip_data</text>\n",
       "</g>\n",
       "<!-- NonSparkPath(&#39;NonSparkPath_1&#39;) -->\n",
       "<g id=\"node3\" class=\"node\">\n",
       "<title>NonSparkPath(&#39;NonSparkPath_1&#39;)</title>\n",
       "<ellipse fill=\"none\" stroke=\"black\" cx=\"148.93\" cy=\"-184\" rx=\"104.56\" ry=\"18\"/>\n",
       "<text text-anchor=\"middle\" x=\"148.93\" y=\"-181.5\" font-family=\"Helvetica,sans-Serif\" font-size=\"10.00\">NonSparkPath(&#39;NonSparkPath_1&#39;)</text>\n",
       "</g>\n",
       "<!-- NonSparkPath(&#39;NonSparkPath_1&#39;)&#45;&gt;ReadCsvProjectSpace(&#39;ReadCsvProjectSpace_1&#39;) -->\n",
       "<g id=\"edge2\" class=\"edge\">\n",
       "<title>NonSparkPath(&#39;NonSparkPath_1&#39;)&#45;&gt;ReadCsvProjectSpace(&#39;ReadCsvProjectSpace_1&#39;)</title>\n",
       "<path fill=\"none\" stroke=\"black\" d=\"M148.93,-165.82C148.93,-155.19 148.93,-141.31 148.93,-129.2\"/>\n",
       "<polygon fill=\"black\" stroke=\"black\" points=\"152.43,-129.15 148.93,-119.15 145.43,-129.15 152.43,-129.15\"/>\n",
       "<text text-anchor=\"middle\" x=\"195.93\" y=\"-140\" font-family=\"Helvetica,sans-Serif\" font-size=\"10.00\">op_path&#45;&gt;filename</text>\n",
       "</g>\n",
       "</g>\n",
       "</svg>\n"
      ],
      "text/plain": [
       "<razor.flow.async_pipeline.Pipeline at 0x7f114c08ae10>"
      ]
     },
     "execution_count": 17,
     "metadata": {},
     "output_type": "execute_result"
    }
   ],
   "source": [
    "pipe"
   ]
  },
  {
   "cell_type": "code",
   "execution_count": 18,
   "id": "pacific-guide",
   "metadata": {},
   "outputs": [
    {
     "data": {
      "text/plain": [
       "<module 'project' (namespace)>"
      ]
     },
     "execution_count": 18,
     "metadata": {},
     "output_type": "execute_result"
    }
   ],
   "source": [
    "sys.modules['razor.project']"
   ]
  },
  {
   "cell_type": "code",
   "execution_count": null,
   "id": "jewish-damage",
   "metadata": {},
   "outputs": [],
   "source": [
    "!which python"
   ]
  },
  {
   "cell_type": "code",
   "execution_count": null,
   "id": "portuguese-adaptation",
   "metadata": {},
   "outputs": [],
   "source": [
    "pipe.execute()"
   ]
  },
  {
   "cell_type": "code",
   "execution_count": null,
   "id": "sapphire-chart",
   "metadata": {},
   "outputs": [],
   "source": [
    "from raz"
   ]
  },
  {
   "cell_type": "code",
   "execution_count": null,
   "id": "satisfied-speed",
   "metadata": {},
   "outputs": [],
   "source": [
    "pip show pyspark"
   ]
  },
  {
   "cell_type": "code",
   "execution_count": null,
   "id": "technical-ultimate",
   "metadata": {},
   "outputs": [],
   "source": []
  },
  {
   "cell_type": "code",
   "execution_count": null,
   "id": "married-straight",
   "metadata": {},
   "outputs": [],
   "source": [
    "!ca"
   ]
  }
 ],
 "metadata": {
  "kernelspec": {
   "display_name": "Python 3",
   "language": "python",
   "name": "python3"
  },
  "language_info": {
   "codemirror_mode": {
    "name": "ipython",
    "version": 3
   },
   "file_extension": ".py",
   "mimetype": "text/x-python",
   "name": "python",
   "nbconvert_exporter": "python",
   "pygments_lexer": "ipython3",
   "version": "3.7.10"
  }
 },
 "nbformat": 4,
 "nbformat_minor": 5
}
