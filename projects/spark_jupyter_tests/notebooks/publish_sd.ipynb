{
 "cells": [
  {
   "cell_type": "code",
   "execution_count": 1,
   "id": "norman-onion",
   "metadata": {},
   "outputs": [],
   "source": [
    "from razor.api.core import BlockScope\n",
    "from razor.api import blocks\n",
    "import logging\n",
    "\n",
    "logging.basicConfig()\n",
    "logging.getLogger().setLevel(logging.INFO)\n"
   ]
  },
  {
   "cell_type": "code",
   "execution_count": 2,
   "id": "optical-holiday",
   "metadata": {},
   "outputs": [
    {
     "name": "stderr",
     "output_type": "stream",
     "text": [
      "INFO:razor.api.core.block_manager:Block bundle initialized successfully. Please refer sourya_spark_blocks/package.yaml to verify/update package.yaml further.\n"
     ]
    }
   ],
   "source": [
    "blocks.init_bundle(bundle=\"sourya_spark_blocks\", category=\"SouryaSpark\")"
   ]
  },
  {
   "cell_type": "code",
   "execution_count": 3,
   "id": "weekly-mortality",
   "metadata": {},
   "outputs": [
    {
     "name": "stderr",
     "output_type": "stream",
     "text": [
      "INFO:razor.api.impl.block_manager_impl:Packaging requested block bundle...\n",
      "INFO:razor.api.impl.block_manager_impl:Publishing block bundle...\n",
      "INFO:razor.api.impl.block_manager_impl:Block bundle `sourya_spark_blocks` published successfully.\n",
      "INFO:razor.api.impl.block_manager_impl:Make sure to restart the Jupyter kernel and then you can use the blocks as follows:\n",
      "INFO:razor.api.impl.block_manager_impl:from razor.project.blocks.sourya_spark_blocks import NonSparkCols\n",
      "INFO:razor.api.impl.block_manager_impl:from razor.project.blocks.sourya_spark_blocks import ReadCsvProjectSpace\n",
      "INFO:razor.api.impl.block_manager_impl:from razor.project.blocks.sourya_spark_blocks import NonSparkPath\n",
      "INFO:razor.api.impl.block_manager_impl:from razor.project.blocks.sourya_spark_blocks import DropDuplicates\n",
      "INFO:razor.api.impl.block_manager_impl:from razor.project.blocks.sourya_spark_blocks import RenameCol\n",
      "INFO:razor.api.impl.block_manager_impl:from razor.project.blocks.sourya_spark_blocks import ConcatData\n",
      "INFO:razor.api.impl.block_manager_impl:from razor.project.blocks.sourya_spark_blocks import SelectDataDescribe\n",
      "INFO:razor.api.impl.block_manager_impl:from razor.project.blocks.sourya_spark_blocks import SelectData\n",
      "INFO:razor.api.impl.block_manager_impl:from razor.project.blocks.sourya_spark_blocks import ReadCsvProjectSpaceETA\n"
     ]
    }
   ],
   "source": [
    "blocks.publish(bundle=\"sourya_spark_blocks\", scope=BlockScope.PROJECT, overwrite=True)"
   ]
  },
  {
   "cell_type": "code",
   "execution_count": null,
   "id": "balanced-islam",
   "metadata": {},
   "outputs": [],
   "source": []
  },
  {
   "cell_type": "code",
   "execution_count": null,
   "id": "future-editor",
   "metadata": {},
   "outputs": [],
   "source": []
  }
 ],
 "metadata": {
  "kernelspec": {
   "display_name": "Python 3",
   "language": "python",
   "name": "python3"
  },
  "language_info": {
   "codemirror_mode": {
    "name": "ipython",
    "version": 3
   },
   "file_extension": ".py",
   "mimetype": "text/x-python",
   "name": "python",
   "nbconvert_exporter": "python",
   "pygments_lexer": "ipython3",
   "version": "3.7.10"
  }
 },
 "nbformat": 4,
 "nbformat_minor": 5
}
