{
 "cells": [
  {
   "cell_type": "code",
   "execution_count": 1,
   "metadata": {},
   "outputs": [
    {
     "data": {
      "text/html": [
       "<html>\n",
       "            <h4>Library</h4>\n",
       "            <table width='100%'>\n",
       "                <tr>\n",
       "                    <th width='20%' style='align:left; text-align:center;'>Name</th>\n",
       "                    <th style='align:left; text-align:left;'>Technology</th>\n",
       "                    <th style='align:left; text-align:left;'>Install Status</th>\n",
       "                    <th style='align:left; text-align:left;'>Created by</th>\n",
       "                    <th style='align:left; text-align:left;'>Created on</th>\n",
       "                    <th style='align:left; text-align:left;'>Modified by</th>\n",
       "                    <th style='align:left; text-align:left;'>Modified on</th>\n",
       "                </tr><tr>\n",
       "                        <td width='20%' style='align:center; text-align:center;'>fastparquet</td>\n",
       "                        <td style='align:left; text-align:left;'>PYTHON</td>\n",
       "                        <td style='align:left; text-align:left;'>INSTALLED</td>\n",
       "                        <td style='align:left; text-align:left;'>Ayan Basak</td>\n",
       "                        <td style='align:left; text-align:left;'>Sep 25, 2020</td>\n",
       "                        <td style='align:left; text-align:left;'>Ayan Basak</td>\n",
       "                        <td style='align:left; text-align:left;'>Sep 25, 2020</td>\n",
       "                    </tr></table></html>"
      ],
      "text/plain": [
       "PlatformLibrary(id_='54865fdd-700e-494b-a8f8-0b6258aed7cf', artifact_version='01a8b174-7b78-4a53-bf28-5938922e4cd8', name='fastparquet', technology='PYTHON', installation_status='INSTALLED', created_by='Ayan Basak', created_on='2020-09-25T12:27:54.000+00:00', modified_by='Ayan Basak', modified_on='2020-09-25T12:27:54.000+00:00')"
      ]
     },
     "execution_count": 1,
     "metadata": {},
     "output_type": "execute_result"
    }
   ],
   "source": [
    "razor.api.libraries('fastparquet')\n"
   ]
  },
  {
   "cell_type": "code",
   "execution_count": 2,
   "metadata": {},
   "outputs": [
    {
     "data": {
      "text/html": [
       "<html>\n",
       "            <h4>Library</h4>\n",
       "            <table width='100%'>\n",
       "                <tr>\n",
       "                    <th width='20%' style='align:left; text-align:center;'>Name</th>\n",
       "                    <th style='align:left; text-align:left;'>Technology</th>\n",
       "                    <th style='align:left; text-align:left;'>Install Status</th>\n",
       "                    <th style='align:left; text-align:left;'>Created by</th>\n",
       "                    <th style='align:left; text-align:left;'>Created on</th>\n",
       "                    <th style='align:left; text-align:left;'>Modified by</th>\n",
       "                    <th style='align:left; text-align:left;'>Modified on</th>\n",
       "                </tr><tr>\n",
       "                        <td width='20%' style='align:center; text-align:center;'>pathos</td>\n",
       "                        <td style='align:left; text-align:left;'>PYTHON</td>\n",
       "                        <td style='align:left; text-align:left;'>INSTALLED</td>\n",
       "                        <td style='align:left; text-align:left;'>souryadipta das</td>\n",
       "                        <td style='align:left; text-align:left;'>Oct 05, 2020</td>\n",
       "                        <td style='align:left; text-align:left;'>souryadipta das</td>\n",
       "                        <td style='align:left; text-align:left;'>Oct 05, 2020</td>\n",
       "                    </tr></table></html>"
      ],
      "text/plain": [
       "PlatformLibrary(id_='c3014c0d-5548-4825-9138-1df9b52b9dff', artifact_version='6cf80487-9d54-48ce-b968-e5398318630b', name='pathos', technology='PYTHON', installation_status='INSTALLED', created_by='souryadipta das', created_on='2020-10-05T09:28:54.000+00:00', modified_by='souryadipta das', modified_on='2020-10-05T09:28:54.000+00:00')"
      ]
     },
     "execution_count": 2,
     "metadata": {},
     "output_type": "execute_result"
    }
   ],
   "source": [
    "razor.api.libraries('pathos')\n"
   ]
  },
  {
   "cell_type": "code",
   "execution_count": 3,
   "metadata": {},
   "outputs": [],
   "source": [
    "import razor\n"
   ]
  },
  {
   "cell_type": "code",
   "execution_count": 4,
   "metadata": {},
   "outputs": [],
   "source": [
    "config = {'cpu': 8 , 'ram': 36000}"
   ]
  },
  {
   "cell_type": "code",
   "execution_count": null,
   "metadata": {},
   "outputs": [],
   "source": []
  },
  {
   "cell_type": "code",
   "execution_count": 5,
   "metadata": {},
   "outputs": [],
   "source": [
    "# General imports\n",
    "import numpy as np\n",
    "import pandas as pd\n",
    "import os, sys, gc, time, warnings, pickle, psutil, random\n",
    "\n",
    "# custom imports\n",
    "from multiprocessing import Pool        # Multiprocess Runs\n",
    "# from pathos.multiprocessing import ProcessingPool as Pool\n",
    "\n",
    "warnings.filterwarnings('ignore')"
   ]
  },
  {
   "cell_type": "code",
   "execution_count": 6,
   "metadata": {},
   "outputs": [],
   "source": [
    "import razor.flow as rf\n",
    "from razor.api import datasources\n",
    "from razor import project_space_path\n",
    "import razor\n",
    "from razor import Technology, LibraryMode\n"
   ]
  },
  {
   "cell_type": "code",
   "execution_count": 7,
   "metadata": {},
   "outputs": [],
   "source": [
    "import typing as t"
   ]
  },
  {
   "cell_type": "code",
   "execution_count": null,
   "metadata": {},
   "outputs": [],
   "source": []
  },
  {
   "cell_type": "markdown",
   "metadata": {},
   "source": [
    "# Light GBM inference"
   ]
  },
  {
   "cell_type": "code",
   "execution_count": null,
   "metadata": {},
   "outputs": [],
   "source": []
  },
  {
   "cell_type": "code",
   "execution_count": 8,
   "metadata": {},
   "outputs": [],
   "source": [
    "lib1 = razor.api.libraries(name='lightgbm').artifact()\n",
    "# lib2 = razor.api.libraries(name='pathos').artifact()"
   ]
  },
  {
   "cell_type": "code",
   "execution_count": 9,
   "metadata": {},
   "outputs": [],
   "source": [
    "@rf.block(executor=rf.ContainerExecutor(cores=config['cpu'], memory=config['ram']))\n",
    "class Infer:\n",
    "#     config: t.Any\n",
    "    \n",
    "    __libs__ = [lib1]\n",
    "    \n",
    "    def init(self):\n",
    "        self.VER = 1                          # Our model version\n",
    "        self.SEED = 42  \n",
    "        \n",
    "        #PATHS for Features\n",
    "        self.ORIGINAL = project_space_path(\"M5Forecasting\")+\"/\"\n",
    "        self.BASE     = project_space_path('M5Forecasting/m5-simple-fe/grid_part_1.pkl')\n",
    "        self.PRICE    = project_space_path('M5Forecasting/m5-simple-fe/grid_part_2.pkl')\n",
    "        self.CALENDAR = project_space_path('M5Forecasting/m5-simple-fe/grid_part_3.pkl')\n",
    "        self.LAGS     = project_space_path('M5Forecasting/lags_df_28.pkl')\n",
    "        self.MEAN_ENC = project_space_path('M5Forecasting/mean_encoding_df.pkl')\n",
    "\n",
    "        #LIMITS and const\n",
    "        self.TARGET      = 'sales'            # Our target\n",
    "        self.START_TRAIN = 0                  # We can skip some rows (Nans/faster training)\n",
    "        self.END_TRAIN   = 1913               # End day of our train set\n",
    "        self.P_HORIZON   = 28                 # Prediction horizon\n",
    "        self.USE_AUX     = False               # Use or not pretrained models\n",
    "        self.N_CORES = psutil.cpu_count()     # Available CPU cores\n",
    "\n",
    "        # AUX(pretrained) Models paths\n",
    "        self.AUX_MODELS = './M5Forecasting/m5-aux-models/'\n",
    "\n",
    "\n",
    "        #STORES ids\n",
    "        self.STORES_IDS = pd.read_csv(self.ORIGINAL+'sales_train_validation.csv')['store_id']\n",
    "        self.STORES_IDS = list(self.STORES_IDS.unique())\n",
    "\n",
    "\n",
    "        #SPLITS for lags creation\n",
    "        self.SHIFT_DAY  = 28\n",
    "        self.N_LAGS     = 15\n",
    "        self.LAGS_SPLIT = [col for col in range(self.SHIFT_DAY, self.SHIFT_DAY + self.N_LAGS)]\n",
    "        \n",
    "        self.remove_features = ['id','state_id','store_id',\n",
    "                           'date','wm_yr_wk','d', self.TARGET]\n",
    "        self.mean_features   = ['enc_cat_id_mean','enc_cat_id_std',\n",
    "                           'enc_dept_id_mean','enc_dept_id_std',\n",
    "                           'enc_item_id_mean','enc_item_id_std'] \n",
    "\n",
    "            \n",
    "    def seed_everything(self, seed=0):\n",
    "        random.seed(seed)\n",
    "        np.random.seed(seed)\n",
    "\n",
    "\n",
    "    ## Multiprocess Runs\n",
    "    def df_parallelize_run(self, func, t_split):\n",
    "        num_cores = np.min([self.N_CORES,len(t_split)])\n",
    "        pool = Pool(num_cores)\n",
    "        df = pd.concat(pool.map(func, t_split), axis=1)\n",
    "        pool.close()\n",
    "        pool.join()\n",
    "        return df\n",
    "\n",
    "    def get_data_by_store(self, store):\n",
    "\n",
    "        # Read and contact basic feature\n",
    "        df1 = pd.read_pickle(self.BASE)\n",
    "#         df1 = df1[df1['store_id']==store]\n",
    "        df2 = pd.read_pickle(self.PRICE).iloc[:,2:]\n",
    "#         df2 = df2[df2['store_id']==store]\n",
    "        df3 = pd.read_pickle(self.CALENDAR).iloc[:,2:]\n",
    "        df = pd.concat([df1, df2, df3],\n",
    "                        axis=1)\n",
    "\n",
    "        # Leave only relevant store\n",
    "        df = df[df['store_id']==store]\n",
    "\n",
    "        # With memory limits we have to read \n",
    "        # lags and mean encoding features\n",
    "        # separately and drop items that we don't need.\n",
    "        # As our Features Grids are aligned \n",
    "        # we can use index to keep only necessary rows\n",
    "        # Alignment is good for us as concat uses less memory than merge.\n",
    "        df2 = pd.read_pickle(self.MEAN_ENC)[self.mean_features]\n",
    "        df2 = df2[df2.index.isin(df.index)]\n",
    "\n",
    "        df = pd.concat([df, df2], axis=1)\n",
    "        del df2 # to not reach memory limit \n",
    "        gc.collect()\n",
    "\n",
    "        df3 = pd.read_pickle(self.LAGS).iloc[:,3:]\n",
    "        df3 = df3[df3.index.isin(df.index)]\n",
    "\n",
    "\n",
    "        df = pd.concat([df, df3], axis=1)\n",
    "        del df3 # to not reach memory limit \n",
    "        gc.collect()\n",
    "\n",
    "        # Create features list\n",
    "        features = [col for col in list(df) if col not in self.remove_features]\n",
    "        \n",
    "        del df # to not reach memory limit \n",
    "        gc.collect()\n",
    "\n",
    "        return features\n",
    "\n",
    "    # Recombine Test set after training\n",
    "    def get_base_test(self):\n",
    "        base_test = pd.DataFrame()\n",
    "\n",
    "        for store_id in self.STORES_IDS:\n",
    "            temp_df = pd.read_pickle(project_space_path('M5Forecasting/test_'+store_id+'.pkl'))\n",
    "            temp_df['store_id'] = store_id\n",
    "            base_test = pd.concat([base_test, temp_df]).reset_index(drop=True)\n",
    "\n",
    "        return base_test\n",
    "\n",
    "\n",
    "    ########################### Helper to make dynamic rolling lags\n",
    "    #################################################################################\n",
    "    def make_lag(self, LAG_DAY):\n",
    "        lag_df = base_test[['id','d',self.TARGET]]\n",
    "        col_name = f'sales_lag_{str(LAG_DAY)}'\n",
    "        lag_df[col_name] = lag_df.groupby(['id'])[self.TARGET].transform(lambda x: x.shift(LAG_DAY)).astype(np.float16)\n",
    "        return lag_df[[col_name]]\n",
    "\n",
    "\n",
    "    def make_lag_roll(self, LAG_DAY, base_test):\n",
    "        shift_day = LAG_DAY[0]\n",
    "        roll_wind = LAG_DAY[1]\n",
    "        lag_df = base_test[['id','d',self.TARGET]]\n",
    "        col_name = f'rolling_mean_tmp_{str(shift_day)}_{str(roll_wind)}'\n",
    "        lag_df[col_name] = lag_df.groupby(['id'])[self.TARGET].transform(lambda x: x.shift(shift_day).rolling(roll_wind).mean())\n",
    "        return lag_df[[col_name]]\n",
    "    \n",
    "    def run(self):\n",
    "        ########################### Predict\n",
    "        #################################################################################\n",
    "\n",
    "        # Create Dummy DataFrame to store predictions\n",
    "        all_preds = pd.DataFrame()\n",
    "\n",
    "        # Join back the Test dataset with \n",
    "        # a small part of the training data \n",
    "        # to make recursive features\n",
    "        base_test = self.get_base_test()\n",
    "\n",
    "        # Timer to measure predictions time \n",
    "        main_time = time.time()\n",
    "\n",
    "        ROLS_SPLIT = []\n",
    "\n",
    "        for i in [1,7,14]:\n",
    "            for j in [7,14,30,60]:\n",
    "                ROLS_SPLIT.append([i,j])\n",
    "\n",
    "        # Loop over each prediction day\n",
    "        # As rolling lags are the most timeconsuming\n",
    "        # we will calculate it for whole day\n",
    "        for PREDICT_DAY in range(1,29):    \n",
    "            print('Predict | Day:', PREDICT_DAY)\n",
    "            start_time = time.time()\n",
    "\n",
    "            # Make temporary grid to calculate rolling lags\n",
    "            grid_df = base_test.copy()\n",
    "            lag_param_df = pd.DataFrame()\n",
    "            pool = Pool(4)\n",
    "            lag_param_df = pd.concat(pool.map(self.make_lag_roll, ROLS_SPLIT), axis=1)\n",
    "            pool.close()\n",
    "            pool.join()\n",
    "#             grid_df = pd.concat([grid_df, self.df_parallelize_run(self.make_lag_roll, ROLS_SPLIT)], axis=1)\n",
    "#             for lag_param in ROLS_SPLIT:\n",
    "#                 lag_param_df = pd.concat([lag_param_df, self.make_lag_roll(lag_param,base_test)], axis=1)\n",
    "            grid_df = pd.concat([grid_df, lag_param_df], axis=1)\n",
    "\n",
    "\n",
    "            for store_id in self.STORES_IDS:\n",
    "\n",
    "                # Read all our models and make predictions\n",
    "                # for each day/store pairs\n",
    "                model_path = project_space_path('M5Forecasting/lgb_model_'+store_id+'_v'+str(self.VER)+'.bin') \n",
    "                if self.USE_AUX:\n",
    "                    model_path = self.AUX_MODELS + model_path\n",
    "\n",
    "                estimator = pickle.load(open(model_path, 'rb'))\n",
    "\n",
    "                day_mask = base_test['d']==(self.END_TRAIN+ PREDICT_DAY)\n",
    "                store_mask = base_test['store_id']==store_id\n",
    "\n",
    "                mask = (day_mask)&(store_mask)\n",
    "                MODEL_FEATURES = self.get_data_by_store(store_id)\n",
    "                base_test[self.TARGET][mask] = estimator.predict(grid_df[mask][MODEL_FEATURES])\n",
    "\n",
    "            # Make good column naming and add \n",
    "            # to all_preds DataFrame\n",
    "            temp_df = base_test[day_mask][['id',self.TARGET]]\n",
    "            temp_df.columns = ['id','F'+str(PREDICT_DAY)]\n",
    "            if 'id' in list(all_preds):\n",
    "                all_preds = all_preds.merge(temp_df, on=['id'], how='left')\n",
    "            else:\n",
    "                all_preds = temp_df.copy()\n",
    "\n",
    "            print('#'*10, ' %0.2f min round |' % ((time.time() - start_time) / 60),\n",
    "                          ' %0.2f min total |' % ((time.time() - main_time) / 60),\n",
    "                          ' %0.2f day sales |' % (temp_df['F'+str(PREDICT_DAY)].sum()))\n",
    "            del temp_df\n",
    "\n",
    "        all_preds = all_preds.reset_index(drop=True)\n",
    "\n",
    "        submission = pd.read_csv(self.ORIGINAL+'sample_submission_accuracy.csv')[['id']]\n",
    "        submission = submission.merge(all_preds, on=['id'], how='left').fillna(0)\n",
    "        submission.to_csv(self.ORIGINAL+'submission_v'+str(self.VER)+'.csv', index=False)\n",
    "    "
   ]
  },
  {
   "cell_type": "code",
   "execution_count": 10,
   "metadata": {},
   "outputs": [],
   "source": [
    "infer = Infer()"
   ]
  },
  {
   "cell_type": "code",
   "execution_count": 11,
   "metadata": {},
   "outputs": [],
   "source": [
    "p = rf.Pipeline(\"multiproc_Infer_test\", targets=[infer])"
   ]
  },
  {
   "cell_type": "code",
   "execution_count": 12,
   "metadata": {},
   "outputs": [],
   "source": [
    "deployed_pipeline = razor.api.engines('DS-engine').execute(pipeline=p)\n"
   ]
  },
  {
   "cell_type": "code",
   "execution_count": 13,
   "metadata": {},
   "outputs": [
    {
     "data": {
      "application/vnd.razorthink.run+monitor+json": "/home/jovyan/logs/3f98c8d2-5cdb-4fb4-996f-472525eff3d4",
      "text/plain": [
       "<razor_tools.backend.ipython.mime.run_monitor.RunMonitor at 0x7fb874312190>"
      ]
     },
     "metadata": {
      "application/vnd.razorthink.run+monitor+json": {
       "store_in_notebook": false
      }
     },
     "output_type": "display_data"
    },
    {
     "data": {
      "text/html": [],
      "text/plain": [
       "PlatformPipelineRun(project_id='c0b26d85-a4c9-44f5-9d0e-f540dd2de644', pipeline_id='4400823a-093b-11eb-8ac5-0242ac110016', pipeline_name='multiproc_Infer_test', pipeline_run_id='3f98c8d2-5cdb-4fb4-996f-472525eff3d4', pipeline_version=None, comment=None, created_on='2020-10-08T07:52:51.692+00:00', start_time=None, end_time=None, eta=0, run_at=1602143571692, run_duration=0, compute_time=0, wait_time=51, ran_by_user=RanByUser(user_name='souryadipta das', email='souryadipta.das@razorthink.com'), status='IN_PROGRESS', block_status=[PlatformPipelineBlockRun(pipeline_run_id='3f98c8d2-5cdb-4fb4-996f-472525eff3d4', pipeline_name='multiproc_Infer_test', pipeline_status='IN_PROGRESS', block_id='e147929f-0552-4a94-a6fb-1ace644c50e5', block_run_id='35c13099-f38b-4f52-a585-42c4aea1e0db', block_name='Infer_1', resource_spec=ResourceAllocated(cores=8, memory=36000, use_gpu=False, gpu=0, use_gpu_if_available=False, cluster_configuration={'worker': None, 'workerCore': None, 'workerMemory': None, 'numberOfInstances': None, 'maxServerCount': None}, additional_env={}, run_env='PYTHON'), technology='PYTHON', status='READY_TO_GO', containers=[], cluster_id='e147929f-0552-4a94-a6fb-1ace644c50e5', _log=None, _metric=None, wait_time=0, compute_time=0, start_time=None, end_time=None, queued_at='2020-10-08T07:52:52.000+00:00')], run_number=348, pipeline_variable_list=[], block_run_details=[BlockRunDetail(block_id='e147929f-0552-4a94-a6fb-1ace644c50e5', block_run_id='35c13099-f38b-4f52-a585-42c4aea1e0db', block_name='Infer_1', technology='PYTHON', log_path=None, input_parameters='{}', output_parameters=None, status='READY_TO_GO', created_at='2020-10-08T07:52:51.773+00:00', queued_at='2020-10-08T07:52:52.000+00:00', start_time=None, end_time=None, compute_time=0, wait_time=0, run_time=0, block_run_output_list=[], resource_allocated=ResourceAllocated(cores=8, memory=36000, use_gpu=False, gpu=0, use_gpu_if_available=False, cluster_configuration={'worker': None, 'workerCore': None, 'workerMemory': None, 'numberOfInstances': None, 'maxServerCount': None}, additional_env={}, run_env='PYTHON'))], pipeline_json='{\\n  \"id\": \"4400823a-093b-11eb-8ac5-0242ac110016\",\\n  \"projectId\": \"c0b26d85-a4c9-44f5-9d0e-f540dd2de644\",\\n  \"name\": \"multiproc_Infer_test\",\\n  \"description\": \"\",\\n  \"blocks\": [\\n    {\\n      \"name\": \"Infer_1\",\\n      \"id\": \"e147929f-0552-4a94-a6fb-1ace644c50e5\",\\n      \"artifact_id\": null,\\n      \"class_name\": \"Infer\",\\n      \"code\": \"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\",\\n      \"isPublishedBlock\": false,\\n      \"source\": null,\\n      \"inputProperty\": {},\\n      \"outputProperty\": {},\\n      \"resourceRequirement\": {\\n        \"cores\": 8,\\n        \"memory\": 36000,\\n        \"useGpu\": false,\\n        \"gpu\": 0,\\n        \"useGpuIfAvailable\": false,\\n        \"clusterConfiguration\": {\\n          \"worker\": null,\\n          \"workerCore\": null,\\n          \"workerMemory\": null,\\n          \"numberOfInstances\": null,\\n          \"maxServerCount\": null\\n        },\\n        \"additionalEnv\": {},\\n        \"runEnv\": \"PYTHON\"\\n      },\\n      \"executionType\": \"BlockExecutor\",\\n      \"dependencies\": [\\n        {\\n          \"libraryId\": \"24d05fb2-8916-4d25-8127-276e57d0bc8d\",\\n          \"libraryVersionId\": \"67ceac05-426d-4c9a-a069-ceb1350c1623\"\\n        },\\n        {\\n          \"libraryId\": \"24d05fb2-8916-4d25-8127-276e57d0bc8d\",\\n          \"libraryVersionId\": \"67ceac05-426d-4c9a-a069-ceb1350c1623\"\\n        }\\n      ],\\n      \"system_dependencies\": null,\\n      \"meta_data\": null,\\n      \"process_id\": null,\\n      \"eta\": 0\\n    }\\n  ],\\n  \"connections\": [],\\n  \"priority\": \"LOW\",\\n  \"infraResourceEstimation\": null,\\n  \"resourceRequirement\": {\\n    \"cores\": null,\\n    \"memory\": null,\\n    \"useGpu\": null,\\n    \"gpu\": null,\\n    \"useGpuIfAvailable\": null,\\n    \"clusterConfiguration\": null,\\n    \"additionalEnv\": {},\\n    \"runEnv\": null\\n  },\\n  \"comments\": null,\\n  \"order\": null,\\n  \"uiData\": null,\\n  \"dom\": null,\\n  \"systemGenerated\": false,\\n  \"systemModel\": false,\\n  \"pipelineVariableList\": [],\\n  \"pipelineTemplateVersion\": 0.0,\\n  \"versionId\": null,\\n  \"engineId\": \"65ed2499-f8c9-4c4d-ad27-aa689bd1531e\",\\n  \"userId\": \"5da82833-9f26-45a6-b329-19ce45acfb70\",\\n  \"runInitiatedFrom\": \"JUPYTER\",\\n  \"processList\": null,\\n  \"processInfo\": null\\n}', dom='Yet to add', order=None, infra_resource='{\\n  \"zookeeper\": {\\n    \"cores\": 1,\\n    \"memory\": 1024,\\n    \"useGpu\": null,\\n    \"gpu\": null,\\n    \"useGpuIfAvailable\": null,\\n    \"clusterConfiguration\": null,\\n    \"additionalEnv\": {},\\n    \"runEnv\": null\\n  },\\n  \"kafka\": {\\n    \"cores\": 1,\\n    \"memory\": 1024,\\n    \"useGpu\": null,\\n    \"gpu\": null,\\n    \"useGpuIfAvailable\": null,\\n    \"clusterConfiguration\": null,\\n    \"additionalEnv\": {},\\n    \"runEnv\": null\\n  }\\n}', resource_spec=ResourceAllocated(cores=None, memory=None, use_gpu=None, gpu=None, use_gpu_if_available=None, cluster_configuration=None, additional_env={}, run_env=None), engine_id='65ed2499-f8c9-4c4d-ad27-aa689bd1531e', run_initiated_from='JUPYTER')"
      ]
     },
     "execution_count": 13,
     "metadata": {},
     "output_type": "execute_result"
    }
   ],
   "source": [
    "deployed_pipeline"
   ]
  },
  {
   "cell_type": "code",
   "execution_count": 14,
   "metadata": {},
   "outputs": [
    {
     "data": {
      "text/html": [
       "<html>\n",
       "\t<table width='100%'>\n",
       "\t\t<tr'><th>Slave Host</th><th>Type</th><th colspan='3' style='text-align: center;'>Usage</th></tr>\n",
       "\t\t<tbody>\n",
       "\t\t\t<tr><td>172.16.104.139 </td><td> INFRASTRUCTURE </td><td> CORE: Used 3 of 16 (18.75%)</td><td>RAM: Used 3.0 of 38.0GB (7.894736842105263%)</td></tr>\n",
       "\n",
       "\t\t\t<tr><td>172.16.114.99 </td><td> TECHNOLOGY </td><td> CORE: Used 9 of 32 (28.125%)</td><td>RAM: Used 39.15625 of 115.0GB (34.048913043478265%)</td></tr>\n",
       "\n",
       "\t\t</tbody>\n",
       "\t</table>\n",
       "</html>"
      ],
      "text/plain": [
       "PlatformEngineHealthList(slave_usage_array=[PlatformEngineHealth(server_ip='172.16.104.139', server_type='INFRASTRUCTURE', server_usage_info=[ServerUsageInfo(label='Current cpu usage', graph_type='bar', unit='', total=16, used=3, available=13, value='CORE'), ServerUsageInfo(label='Current memory usage', graph_type='bar', unit='GB', total=40802189312.0, used=3221225472.0, available=37580963840.0, value='RAM'), ServerUsageInfo(label='Current gpu usage', graph_type='bar', unit='', total=0, used=0, available=0, value='GPU')]), PlatformEngineHealth(server_ip='172.16.114.99', server_type='TECHNOLOGY', server_usage_info=[ServerUsageInfo(label='Current cpu usage', graph_type='bar', unit='', total=32, used=9, available=23, value='CORE'), ServerUsageInfo(label='Current memory usage', graph_type='bar', unit='GB', total=123480309760.0, used=42043703296.0, available=81436606464.0, value='RAM'), ServerUsageInfo(label='Current gpu usage', graph_type='bar', unit='', total=0, used=0, available=0, value='GPU')])])"
      ]
     },
     "execution_count": 14,
     "metadata": {},
     "output_type": "execute_result"
    }
   ],
   "source": [
    "razor.api.engines('DS-engine').health()"
   ]
  },
  {
   "cell_type": "code",
   "execution_count": null,
   "metadata": {},
   "outputs": [],
   "source": [
    "razor.api.engines('DS-engine').queue()"
   ]
  },
  {
   "cell_type": "code",
   "execution_count": null,
   "metadata": {},
   "outputs": [],
   "source": []
  },
  {
   "cell_type": "code",
   "execution_count": 15,
   "metadata": {},
   "outputs": [],
   "source": [
    "lib2 = razor.api.libraries(name='pathos')"
   ]
  },
  {
   "cell_type": "code",
   "execution_count": 16,
   "metadata": {},
   "outputs": [
    {
     "data": {
      "text/html": [
       "<html>\n",
       "            <h4>Library</h4>\n",
       "            <table width='100%'>\n",
       "                <tr>\n",
       "                    <th width='20%' style='align:left; text-align:center;'>Name</th>\n",
       "                    <th style='align:left; text-align:left;'>Technology</th>\n",
       "                    <th style='align:left; text-align:left;'>Install Status</th>\n",
       "                    <th style='align:left; text-align:left;'>Created by</th>\n",
       "                    <th style='align:left; text-align:left;'>Created on</th>\n",
       "                    <th style='align:left; text-align:left;'>Modified by</th>\n",
       "                    <th style='align:left; text-align:left;'>Modified on</th>\n",
       "                </tr><tr>\n",
       "                        <td width='20%' style='align:center; text-align:center;'>pathos</td>\n",
       "                        <td style='align:left; text-align:left;'>PYTHON</td>\n",
       "                        <td style='align:left; text-align:left;'>INSTALLED</td>\n",
       "                        <td style='align:left; text-align:left;'>souryadipta das</td>\n",
       "                        <td style='align:left; text-align:left;'>Oct 05, 2020</td>\n",
       "                        <td style='align:left; text-align:left;'>souryadipta das</td>\n",
       "                        <td style='align:left; text-align:left;'>Oct 05, 2020</td>\n",
       "                    </tr></table></html>"
      ],
      "text/plain": [
       "PlatformLibrary(id_='c3014c0d-5548-4825-9138-1df9b52b9dff', artifact_version='6cf80487-9d54-48ce-b968-e5398318630b', name='pathos', technology='PYTHON', installation_status='INSTALLED', created_by='souryadipta das', created_on='2020-10-05T09:28:54.000+00:00', modified_by='souryadipta das', modified_on='2020-10-05T09:28:54.000+00:00')"
      ]
     },
     "execution_count": 16,
     "metadata": {},
     "output_type": "execute_result"
    }
   ],
   "source": [
    "lib2"
   ]
  },
  {
   "cell_type": "code",
   "execution_count": null,
   "metadata": {},
   "outputs": [],
   "source": []
  }
 ],
 "metadata": {
  "kernelspec": {
   "display_name": "Python 3",
   "language": "python",
   "name": "python3"
  },
  "language_info": {
   "codemirror_mode": {
    "name": "ipython",
    "version": 3
   },
   "file_extension": ".py",
   "mimetype": "text/x-python",
   "name": "python",
   "nbconvert_exporter": "python",
   "pygments_lexer": "ipython3",
   "version": "3.7.6"
  }
 },
 "nbformat": 4,
 "nbformat_minor": 4
}
