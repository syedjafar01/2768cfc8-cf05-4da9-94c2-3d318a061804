{
 "cells": [
  {
   "cell_type": "code",
   "execution_count": 17,
   "metadata": {},
   "outputs": [],
   "source": [
    "import numpy as np\n",
    "import pandas as pd\n",
    "import os, sys, gc, time, warnings, pickle, psutil, random\n",
    "import logging\n",
    "from razor.api import project_space_path\n",
    "from math import ceil\n",
    "from razor.api import project_space_path\n",
    "import razor\n",
    "import razor.flow as rf\n",
    "import typing as t\n",
    "from sklearn.preprocessing import LabelEncoder\n",
    "\n",
    "warnings.filterwarnings('ignore')\n"
   ]
  },
  {
   "cell_type": "code",
   "execution_count": 18,
   "metadata": {},
   "outputs": [],
   "source": [
    "config = {'cpu': 8 , 'ram': 36000}"
   ]
  },
  {
   "cell_type": "code",
   "execution_count": 19,
   "metadata": {},
   "outputs": [],
   "source": [
    "lib1 = razor.api.libraries(name='lightgbm').artifact()"
   ]
  },
  {
   "cell_type": "code",
   "execution_count": null,
   "metadata": {},
   "outputs": [],
   "source": []
  },
  {
   "cell_type": "code",
   "execution_count": 20,
   "metadata": {},
   "outputs": [],
   "source": [
    "@rf.block(executor=rf.ContainerExecutor(cores=2, memory=3000))\n",
    "class Configs:\n",
    "    config: rf.Output[t.Any] = rf.Output(transport=rf.FileTransport)\n",
    "        \n",
    "    def run(self):\n",
    "        \n",
    "        dic = {\n",
    "          \"TARGET\": \"sales\",\n",
    "          \"END_TRAIN\": 1913,\n",
    "          \"MAIN_INDEX\": [\n",
    "            \"id\",\n",
    "            \"d\"\n",
    "          ],\n",
    "          'index_columns' : ['id','item_id','dept_id','cat_id','store_id','state_id'],\n",
    "          \"train_path\": \"M5Forecasting/sales_train_validation.csv\",\n",
    "          \"prices_path\": \"M5Forecasting/sell_prices.csv\",\n",
    "          \"calendar_path\" : \"M5Forecasting/calendar.csv\"\n",
    "        }\n",
    "        self.config.put(dic)\n",
    "        "
   ]
  },
  {
   "cell_type": "code",
   "execution_count": 21,
   "metadata": {},
   "outputs": [],
   "source": [
    "@rf.block(executor=rf.ContainerExecutor(cores=2, memory=10192))\n",
    "class Melter:\n",
    "    path: t.Any\n",
    "    config: t.Any\n",
    "    grid_df_path: rf.Output[t.Any] = rf.Output(transport=rf.FileTransport)\n",
    "        \n",
    "    def run(self):\n",
    "        \n",
    "        train_df=pd.read_csv(project_space_path(self.path))\n",
    "        print('Create Grid')\n",
    "        TARGET = self.config[\"TARGET\"]\n",
    "\n",
    "        # We can tranform horizontal representation \n",
    "        # to vertical \"view\"\n",
    "        # Our \"index\" will be 'id','item_id','dept_id','cat_id','store_id','state_id'\n",
    "        # and labels are 'd_' coulmns\n",
    "\n",
    "        index_columns = ['id','item_id','dept_id','cat_id','store_id','state_id']\n",
    "        df = pd.melt(train_df, \n",
    "                          id_vars = index_columns, \n",
    "                          var_name = 'd', \n",
    "                          value_name = TARGET)\n",
    "        \n",
    "        del train_df\n",
    "        gc.collect()\n",
    "        \n",
    "        df.to_csv(project_space_path('M5Forecasting/grid_df.csv'), index=False)\n",
    "        self.grid_df_path.put('M5Forecasting/grid_df.csv')\n"
   ]
  },
  {
   "cell_type": "code",
   "execution_count": null,
   "metadata": {},
   "outputs": [],
   "source": []
  },
  {
   "cell_type": "code",
   "execution_count": null,
   "metadata": {},
   "outputs": [],
   "source": []
  },
  {
   "cell_type": "code",
   "execution_count": 22,
   "metadata": {},
   "outputs": [],
   "source": [
    "@rf.block(executor=rf.ContainerExecutor(cores=2, memory=8192))\n",
    "class ValidDataCreator:\n",
    "    path: t.Any\n",
    "    config: t.Any\n",
    "    add_grid_path: rf.Output[t.Any] = rf.Output(transport=rf.FileTransport)\n",
    "            \n",
    "    def run(self):\n",
    "        import pandas as pd\n",
    "        import logging\n",
    "        \n",
    "        self.logger.info(\"Reading df\")\n",
    "        train_df=pd.read_csv(project_space_path(self.path))\n",
    "        self.logger.info(\"Reading df DONE...\")\n",
    "        \n",
    "        END_TRAIN = self.config[\"END_TRAIN\"]\n",
    "        TARGET = self.config[\"TARGET\"]\n",
    "        # If we look on train_df we se that \n",
    "        # we don't have a lot of traning rows\n",
    "        # but each day can provide more train data\n",
    "        print('Train rows:', len(train_df))\n",
    "\n",
    "        # To be able to make predictions\n",
    "        # we need to add \"test set\" to our grid\n",
    "        index_columns = self.config['index_columns']\n",
    "        df = pd.DataFrame()\n",
    "        for i in range(1,29):\n",
    "            temp_df = train_df[index_columns]\n",
    "            temp_df = temp_df.drop_duplicates()\n",
    "            temp_df['d'] = 'd_'+ str(END_TRAIN+i)\n",
    "            temp_df[TARGET] = np.nan\n",
    "            df = pd.concat([df,temp_df])\n",
    "            \n",
    "        del train_df\n",
    "        gc.collect()\n",
    "        df.to_csv(project_space_path('M5Forecasting/add_grid.csv'), index=False)\n",
    "        self.add_grid_path.put('M5Forecasting/add_grid.csv')\n"
   ]
  },
  {
   "cell_type": "code",
   "execution_count": 23,
   "metadata": {},
   "outputs": [],
   "source": [
    "@rf.block(executor=rf.ContainerExecutor(cores=2, memory=13000))\n",
    "class DataConcatenation:\n",
    "    grid_df_path: t.Any\n",
    "    add_grid_path: t.Any    \n",
    "    config: t.Any    \n",
    "    grid_df_int_path: rf.Output[t.Any] = rf.Output(transport=rf.FileTransport)\n",
    "        \n",
    "    def sizeof_fmt(num, suffix='B'):\n",
    "        for unit in ['','Ki','Mi','Gi','Ti','Pi','Ei','Zi']:\n",
    "            if abs(num) < 1024.0:\n",
    "                return \"%3.1f%s%s\" % (num, unit, suffix)\n",
    "            num /= 1024.0\n",
    "        return \"%.1f%s%s\" % (num, 'Yi', suffix)\n",
    "        \n",
    "        \n",
    "    def run(self): \n",
    "        \n",
    "        \n",
    "        grid_df = pd.read_csv(project_space_path(self.grid_df_path))\n",
    "        add_grid = pd.read_csv(project_space_path(self.add_grid_path))\n",
    "\n",
    "        grid_df = pd.concat([grid_df,add_grid])\n",
    "        grid_df = grid_df.reset_index(drop=True)\n",
    "\n",
    "\n",
    "        # Let's check our memory usage\n",
    "        self.logger.info(\"{:>20}: {:>8}\".format('Original grid_df', self.sizeof_fmt(grid_df.memory_usage(index=True).sum())))\n",
    "\n",
    "        # We can free some memory \n",
    "        # by converting \"strings\" to categorical\n",
    "        # it will not affect merging and \n",
    "        # we will not lose any valuable data\n",
    "        index_columns = self.config['index_columns']\n",
    "        for col in index_columns:\n",
    "            grid_df[col] = grid_df[col].astype('category')\n",
    "\n",
    "        # Let's check again memory usage\n",
    "        self.logger.info(\"{:>20}: {:>8}\".format('Reduced grid_df', self.sizeof_fmt(grid_df.memory_usage(index=True).sum())))\n",
    "\n",
    "        grid_df.to_csv(project_space_path('M5Forecasting/grid_df_int.csv'))\n",
    "        self.grid_df_int_path.put('M5Forecasting/grid_df_int.csv')\n"
   ]
  },
  {
   "cell_type": "code",
   "execution_count": 24,
   "metadata": {},
   "outputs": [],
   "source": [
    "@rf.block(executor=rf.ContainerExecutor(cores=2, memory=20000))\n",
    "class DataCreator1:\n",
    "    grid_df_path: t.Any\n",
    "    config: t.Any\n",
    "    grid_pkl_path: rf.Output[t.Any] = rf.Output(transport=rf.FileTransport)\n",
    "    \n",
    "    \n",
    "    def sizeof_fmt(self, num, suffix='B'):\n",
    "        for unit in ['','Ki','Mi','Gi','Ti','Pi','Ei','Zi']:\n",
    "            if abs(num) < 1024.0:\n",
    "                return \"%3.1f%s%s\" % (num, unit, suffix)\n",
    "            num /= 1024.0\n",
    "        return \"%.1f%s%s\" % (num, 'Yi', suffix)\n",
    "\n",
    "\n",
    "    def merge_by_concat(self, df1, df2, merge_on):\n",
    "        merged_gf = df1[merge_on]\n",
    "        merged_gf = merged_gf.merge(df2, on=merge_on, how='left')\n",
    "        new_columns = [col for col in list(merged_gf) if col not in merge_on]\n",
    "        df1 = pd.concat([df1, merged_gf[new_columns]], axis=1)\n",
    "        return df1\n",
    "    \n",
    "    def run(self):\n",
    "        from razor.api import project_space_path\n",
    "        \n",
    "        prices_df = pd.read_csv(project_space_path(self.config['prices_path']))\n",
    "        grid_df = pd.read_csv(project_space_path(self.grid_df_path))\n",
    "        self.logger.info(grid_df.dtypes)\n",
    "        calendar_df = pd.read_csv(project_space_path(self.config['calendar_path']))\n",
    "        # Prices are set by week\n",
    "        # so it we will have not very accurate release week \n",
    "        release_df = prices_df.groupby(['store_id','item_id'])['wm_yr_wk'].agg(['min']).reset_index()\n",
    "        release_df.columns = ['store_id','item_id','release']\n",
    "        self.logger.info('Release Df')\n",
    "        self.logger.info(release_df.head())\n",
    "        \n",
    "        self.logger.info('Release week')\n",
    "        # Now we can merge release_df\n",
    "        grid_df = self.merge_by_concat(grid_df, release_df, ['store_id','item_id'])\n",
    "        del release_df\n",
    "\n",
    "\n",
    "        grid_df = self.merge_by_concat(grid_df, calendar_df[['wm_yr_wk','d']], ['d'])\n",
    "        self.logger.info(grid_df.columns)\n",
    "\n",
    "        self.logger.info(grid_df.dtypes)\n",
    "        \n",
    "        # Now we can cutoff some rows \n",
    "        # and safe memory \n",
    "        grid_df = grid_df[grid_df['wm_yr_wk']>=grid_df['release']]\n",
    "        grid_df = grid_df.reset_index(drop=True)\n",
    "\n",
    "        # Let's check our memory usage\n",
    "        self.logger.info(\"{:>20}: {:>8}\".format('Original grid_df',self.sizeof_fmt(grid_df.memory_usage(index=True).sum())))\n",
    "\n",
    "        grid_df['release'] = grid_df['release'] - grid_df['release'].min()\n",
    "        grid_df['release'] = grid_df['release'].astype(np.int16)\n",
    "\n",
    "        # Let's check again memory usage\n",
    "        self.logger.info(\"{:>20}: {:>8}\".format('Reduced grid_df',self.sizeof_fmt(grid_df.memory_usage(index=True).sum())))\n",
    "\n",
    "        index_columns = self.config['index_columns']\n",
    "        for col in index_columns:\n",
    "            grid_df[col] = grid_df[col].astype('category')\n",
    "\n",
    "        grid_df.to_pickle(project_space_path('M5Forecasting/m5-simple-fe/grid_part_1.pkl'))\n",
    "        self.logger.info(grid_df.shape)\n",
    "        self.logger.info(grid_df.dtypes)\n",
    "        \n",
    "        grid_df.to_csv(project_space_path('M5Forecasting/grid_df_final.csv'))\n",
    "        self.grid_pkl_path.put(project_space_path('M5Forecasting/m5-simple-fe/grid_part_1.pkl'))\n",
    "                       \n",
    "                       "
   ]
  },
  {
   "cell_type": "code",
   "execution_count": 25,
   "metadata": {},
   "outputs": [],
   "source": [
    "@rf.block(executor=rf.ContainerExecutor(cores=2, memory=20000))\n",
    "class DataCreator2:\n",
    "    grid_path: t.Any\n",
    "    config: t.Any\n",
    "    grid_two_df_path: rf.Output[t.Any] = rf.Output(transport=rf.FileTransport)\n",
    "           \n",
    "    def sizeof_fmt(self, num, suffix='B'):\n",
    "            for unit in ['','Ki','Mi','Gi','Ti','Pi','Ei','Zi']:\n",
    "                if abs(num) < 1024.0:\n",
    "                    return \"%3.1f%s%s\" % (num, unit, suffix)\n",
    "                num /= 1024.0\n",
    "            return \"%.1f%s%s\" % (num, 'Yi', suffix)\n",
    "\n",
    "        \n",
    "    def merge_by_concat(self, df1, df2, merge_on):\n",
    "        merged_gf = df1[merge_on]\n",
    "        merged_gf = merged_gf.merge(df2, on=merge_on, how='left')\n",
    "        new_columns = [col for col in list(merged_gf) if col not in merge_on]\n",
    "        df1 = pd.concat([df1, merged_gf[new_columns]], axis=1)\n",
    "        return df1\n",
    "\n",
    "    def reduce_mem_usage(self, df, verbose=True):\n",
    "        numerics = ['int16', 'int32', 'int64', 'float16', 'float32', 'float64']\n",
    "        start_mem = df.memory_usage().sum() / 1024**2    \n",
    "        for col in df.columns:\n",
    "            col_type = df[col].dtypes\n",
    "            if col_type in numerics:\n",
    "                c_min = df[col].min()\n",
    "                c_max = df[col].max()\n",
    "                if str(col_type)[:3] == 'int':\n",
    "                    if c_min > np.iinfo(np.int8).min and c_max < np.iinfo(np.int8).max:\n",
    "                        df[col] = df[col].astype(np.int8)\n",
    "                    elif c_min > np.iinfo(np.int16).min and c_max < np.iinfo(np.int16).max:\n",
    "                           df[col] = df[col].astype(np.int16)\n",
    "                    elif c_min > np.iinfo(np.int32).min and c_max < np.iinfo(np.int32).max:\n",
    "                        df[col] = df[col].astype(np.int32)\n",
    "                    elif c_min > np.iinfo(np.int64).min and c_max < np.iinfo(np.int64).max:\n",
    "                        df[col] = df[col].astype(np.int64)  \n",
    "                else:\n",
    "                    if c_min > np.finfo(np.float16).min and c_max < np.finfo(np.float16).max:\n",
    "                        df[col] = df[col].astype(np.float16)\n",
    "                    elif c_min > np.finfo(np.float32).min and c_max < np.finfo(np.float32).max:\n",
    "                        df[col] = df[col].astype(np.float32)\n",
    "                    else:\n",
    "                        df[col] = df[col].astype(np.float64)    \n",
    "        end_mem = df.memory_usage().sum() / 1024**2\n",
    "\n",
    "        if verbose: \n",
    "            print('Mem. usage decreased to {:5.2f} Mb ({:.1f}% reduction)'.format(end_mem, 100 * (start_mem - end_mem) / start_mem))\n",
    "\n",
    "        return df\n",
    "    \n",
    "    def run(self):\n",
    "        from razor.api import project_space_path\n",
    "\n",
    "        prices_df=pd.read_csv(project_space_path(self.config[\"prices_path\"]))\n",
    "        calendar_df=pd.read_csv(project_space_path(self.config[\"calendar_path\"]))\n",
    "        \n",
    "        self.logger.info('Release week')\n",
    "        \n",
    "        self.logger.info('Prices')\n",
    "\n",
    "        # We can do some basic aggregations\n",
    "        prices_df['price_max'] = prices_df.groupby(['store_id','item_id'])['sell_price'].transform('max')\n",
    "        prices_df['price_min'] = prices_df.groupby(['store_id','item_id'])['sell_price'].transform('min')\n",
    "        prices_df['price_std'] = prices_df.groupby(['store_id','item_id'])['sell_price'].transform('std')\n",
    "        prices_df['price_mean'] = prices_df.groupby(['store_id','item_id'])['sell_price'].transform('mean')\n",
    "\n",
    "        # and do price normalization (min/max scaling)\n",
    "        prices_df['price_norm'] = prices_df['sell_price']/prices_df['price_max']\n",
    "\n",
    "        # Some items are can be inflation dependent\n",
    "        # and some items are very \"stable\"\n",
    "        prices_df['price_nunique'] = prices_df.groupby(['store_id','item_id'])['sell_price'].transform('nunique')\n",
    "        prices_df['item_nunique'] = prices_df.groupby(['store_id','sell_price'])['item_id'].transform('nunique')\n",
    "\n",
    "        # I would like some \"rolling\" aggregations\n",
    "        # but would like months and years as \"window\"\n",
    "        calendar_prices = calendar_df[['wm_yr_wk','month','year']]\n",
    "        calendar_prices = calendar_prices.drop_duplicates(subset=['wm_yr_wk'])\n",
    "        prices_df = prices_df.merge(calendar_prices[['wm_yr_wk','month','year']], on=['wm_yr_wk'], how='left')\n",
    "        del calendar_prices\n",
    "\n",
    "        # Now we can add price \"momentum\" (some sort of)\n",
    "        # Shifted by week \n",
    "        # by month mean\n",
    "        # by year mean\n",
    "        prices_df['price_momentum'] = prices_df['sell_price']/prices_df.groupby(['store_id','item_id'])['sell_price'].transform(lambda x: x.shift(1))\n",
    "        prices_df['price_momentum_m'] = prices_df['sell_price']/prices_df.groupby(['store_id','item_id','month'])['sell_price'].transform('mean')\n",
    "        prices_df['price_momentum_y'] = prices_df['sell_price']/prices_df.groupby(['store_id','item_id','year'])['sell_price'].transform('mean')\n",
    "\n",
    "        del prices_df['month'], prices_df['year']\n",
    "        gc.collect()\n",
    "        \n",
    "        ########################## Merge prices and save part 2\n",
    "        #################################################################################\n",
    "        self.logger.info('Merge prices and save part 2')\n",
    "\n",
    "        grid_df = pd.read_pickle(self.grid_path)\n",
    "        MAIN_INDEX=self.config[\"MAIN_INDEX\"]\n",
    "        \n",
    "        # Merge Prices\n",
    "        original_columns = list(grid_df)\n",
    "        grid_df = grid_df.merge(prices_df, on=['store_id','item_id','wm_yr_wk'], how='left')\n",
    "        keep_columns = [col for col in list(grid_df) if col not in original_columns]\n",
    "        grid_df = grid_df[MAIN_INDEX+keep_columns]\n",
    "        grid_df = self.reduce_mem_usage(grid_df)\n",
    "\n",
    "        # Safe part 2\n",
    "        grid_df.to_pickle(project_space_path('M5Forecasting/m5-simple-fe/grid_part_2.pkl'))\n",
    "        self.logger.info(f'Size: {grid_df.shape}')\n",
    "        grid_two_df_filepath = project_space_path('M5Forecasting/m5-simple-fe/grid_part_2.pkl')\n",
    "        self.grid_two_df_path.put(grid_two_df_filepath)\n",
    "\n",
    "        "
   ]
  },
  {
   "cell_type": "code",
   "execution_count": 26,
   "metadata": {},
   "outputs": [],
   "source": [
    "@rf.block(executor=rf.ContainerExecutor(cores=2, memory=20000))\n",
    "class DataCreator3:\n",
    "    grid_path: t.Any\n",
    "    config: t.Any\n",
    "    grid_three_df_path: rf.Output[t.Any] = rf.Output(transport=rf.FileTransport)\n",
    "    \n",
    "    def sizeof_fmt(self, num, suffix='B'):\n",
    "        for unit in ['','Ki','Mi','Gi','Ti','Pi','Ei','Zi']:\n",
    "            if abs(num) < 1024.0:\n",
    "                return \"%3.1f%s%s\" % (num, unit, suffix)\n",
    "            num /= 1024.0\n",
    "        return \"%.1f%s%s\" % (num, 'Yi', suffix)\n",
    "\n",
    "\n",
    "    def merge_by_concat(self, df1, df2, merge_on):\n",
    "        merged_gf = df1[merge_on]\n",
    "        merged_gf = merged_gf.merge(df2, on=merge_on, how='left')\n",
    "        new_columns = [col for col in list(merged_gf) if col not in merge_on]\n",
    "        df1 = pd.concat([df1, merged_gf[new_columns]], axis=1)\n",
    "        return df1\n",
    "    \n",
    "    def run(self):\n",
    "        from razor.api import project_space_path\n",
    "        \n",
    "        calendar_df=pd.read_csv(project_space_path(self.config[\"calendar_path\"]))\n",
    "        grid_df = pd.read_pickle(self.grid_path)\n",
    "        MAIN_INDEX=self.config[\"MAIN_INDEX\"]\n",
    "        \n",
    "        ########################### Merge calendar\n",
    "        #################################################################################\n",
    "        grid_df = grid_df[MAIN_INDEX]\n",
    "\n",
    "        # Merge calendar partly\n",
    "        icols = ['date',\n",
    "                 'd',\n",
    "                 'event_name_1',\n",
    "                 'event_type_1',\n",
    "                 'event_name_2',\n",
    "                 'event_type_2',\n",
    "                 'snap_CA',\n",
    "                 'snap_TX',\n",
    "                 'snap_WI']\n",
    "        \n",
    "        grid_df['d'] = grid_df['d'].apply(str)\n",
    "        grid_df = grid_df.merge(calendar_df[icols], on=['d'], how='left')\n",
    "\n",
    "        # Minify data\n",
    "        # 'snap_' columns we can convert to bool or int8\n",
    "        icols = ['event_name_1',\n",
    "                 'event_type_1',\n",
    "                 'event_name_2',\n",
    "                 'event_type_2',\n",
    "                 'snap_CA',\n",
    "                 'snap_TX',\n",
    "                 'snap_WI']\n",
    "        for col in icols:\n",
    "            grid_df[col] = grid_df[col].astype('category')\n",
    "\n",
    "        # Convert to DateTime\n",
    "        grid_df['date'] = pd.to_datetime(grid_df['date'])\n",
    "\n",
    "        # Make some features from date\n",
    "        grid_df['tm_d'] = grid_df['date'].dt.day.astype(np.int8)\n",
    "        grid_df['tm_w'] = grid_df['date'].dt.week.astype(np.int8)\n",
    "        grid_df['tm_m'] = grid_df['date'].dt.month.astype(np.int8)\n",
    "        grid_df['tm_y'] = grid_df['date'].dt.year\n",
    "        grid_df['tm_y'] = (grid_df['tm_y'] - grid_df['tm_y'].min()).astype(np.int8)\n",
    "        grid_df['tm_wm'] = grid_df['tm_d'].apply(lambda x: ceil(x/7)).astype(np.int8)\n",
    "\n",
    "        grid_df['tm_dw'] = grid_df['date'].dt.dayofweek.astype(np.int8)\n",
    "        grid_df['tm_w_end'] = (grid_df['tm_dw']>=5).astype(np.int8)\n",
    "\n",
    "        # Remove date\n",
    "        del grid_df['date']\n",
    "        ########################### Save part 3 (Dates)\n",
    "        #################################################################################\n",
    "        print('Save part 3')\n",
    "\n",
    "        # Safe part 3\n",
    "        grid_df.to_pickle(project_space_path('M5Forecasting/m5-simple-fe/grid_part_3.pkl'))\n",
    "        print('Size:', grid_df.shape)\n",
    "\n",
    "        # We don't need calendar_df anymore\n",
    "        del calendar_df\n",
    "        del grid_df\n",
    "        grid_three_df_filepath = project_space_path('M5Forecasting/m5-simple-fe/grid_part_3.pkl')\n",
    "        self.grid_three_df_path.put(grid_three_df_filepath)\n",
    "\n"
   ]
  },
  {
   "cell_type": "code",
   "execution_count": 27,
   "metadata": {},
   "outputs": [],
   "source": [
    "@rf.block(executor=rf.ContainerExecutor(cores=2, memory=20000))\n",
    "class LagCreator:\n",
    "    grid_path: t.Any\n",
    "    lag_df_path: rf.Output[t.Any] = rf.Output(transport=rf.FileTransport)\n",
    "        \n",
    "    def run(self):\n",
    "        ########################### Apply on grid_df\n",
    "\n",
    "        grid_df = pd.read_pickle(self.grid_path)\n",
    "\n",
    "        TARGET = 'sales'         # Our main target\n",
    "        END_TRAIN = 1913         # Last day in train set\n",
    "        MAIN_INDEX = ['id','d']  # We can identify item by these columns\n",
    "        \n",
    "        # We need only 'id','d','sales'\n",
    "        # to make lags and rollings\n",
    "        grid_df = grid_df[['id','d','sales']]\n",
    "        SHIFT_DAY = 28\n",
    "\n",
    "        # Lags\n",
    "        # with 28 day shift\n",
    "        start_time = time.time()\n",
    "        self.logger.info('Create lags')\n",
    "\n",
    "        LAG_DAYS = [col for col in range(SHIFT_DAY,SHIFT_DAY+15)]\n",
    "        grid_df = grid_df.assign(**{\n",
    "                '{}_lag_{}'.format(col, l): grid_df.groupby(['id'])[col].transform(lambda x: x.shift(l))\n",
    "                for l in LAG_DAYS\n",
    "                for col in [TARGET]\n",
    "            })\n",
    "\n",
    "        # Minify lag columns\n",
    "        for col in list(grid_df):\n",
    "            if 'lag' in col:\n",
    "                grid_df[col] = grid_df[col].astype(np.float16)\n",
    "\n",
    "        self.logger.info('%0.2f min: Lags' % ((time.time() - start_time) / 60))\n",
    "\n",
    "        # Rollings\n",
    "        # with 28 day shift\n",
    "        start_time = time.time()\n",
    "        self.logger.info('Create rolling aggs')\n",
    "\n",
    "        for i in [7,14,30,60,180]:\n",
    "            self.logger.info(f'Rolling period: {i}')\n",
    "            grid_df['rolling_mean_'+str(i)] = grid_df.groupby(['id'])[TARGET].transform(lambda x: x.shift(SHIFT_DAY).rolling(i).mean()).astype(np.float16)\n",
    "            grid_df['rolling_std_'+str(i)]  = grid_df.groupby(['id'])[TARGET].transform(lambda x: x.shift(SHIFT_DAY).rolling(i).std()).astype(np.float16)\n",
    "\n",
    "        # Rollings\n",
    "        # with sliding shift\n",
    "        for d_shift in [1,7,14]: \n",
    "            self.logger.info(f'Shifting period: {d_shift}')\n",
    "            for d_window in [7,14,30,60]:\n",
    "                col_name = 'rolling_mean_tmp_'+str(d_shift)+'_'+str(d_window)\n",
    "                grid_df[col_name] = grid_df.groupby(['id'])[TARGET].transform(lambda x: x.shift(d_shift).rolling(d_window).mean()).astype(np.float16)\n",
    "\n",
    "\n",
    "        self.logger.info('%0.2f min: Lags' % ((time.time() - start_time) / 60))\n",
    "\n",
    "        self.logger.info(f'Save lags and rollings  {grid_df.shape}')\n",
    "        lag_df_filepath = project_space_path(f'M5Forecasting/lags_df_{str(SHIFT_DAY)}.pkl')\n",
    "        grid_df.to_pickle(lag_df_filepath)\n",
    "        \n",
    "        self.lag_df_path.put(lag_df_filepath)\n",
    "        \n"
   ]
  },
  {
   "cell_type": "code",
   "execution_count": 28,
   "metadata": {},
   "outputs": [],
   "source": [
    "@rf.block(executor=rf.ContainerExecutor(cores=2, memory=16192))\n",
    "class Encoder:\n",
    "    grid_path: t.Any\n",
    "    encoded_df_path: rf.Output[t.Any] = rf.Output(transport=rf.FileTransport)\n",
    "        \n",
    "    def run(self):\n",
    "\n",
    "        # Read data\n",
    "        grid_df = pd.read_pickle(self.grid_path)\n",
    "        TARGET = 'sales'\n",
    "        \n",
    "        grid_df[[\"d\"]] = grid_df[[\"d\"]].apply(pd.to_numeric, errors='coerce', downcast=\"integer\")\n",
    "#         logging.info(grid_df.dtypes)\n",
    "        grid_df[grid_df['d']>(1913-28)][TARGET] = np.nan\n",
    "        base_cols = list(grid_df)\n",
    "\n",
    "        icols =  [\n",
    "                    ['state_id'],\n",
    "                    ['store_id'],\n",
    "                    ['cat_id'],\n",
    "                    ['dept_id'],\n",
    "                    ['state_id', 'cat_id'],\n",
    "                    ['state_id', 'dept_id'],\n",
    "                    ['store_id', 'cat_id'],\n",
    "                    ['store_id', 'dept_id'],\n",
    "                    ['item_id'],\n",
    "                    ['item_id', 'state_id'],\n",
    "                    ['item_id', 'store_id']\n",
    "                    ]\n",
    "\n",
    "        for col in icols:\n",
    "            self.logger.info('Encoding')\n",
    "            self.logger.info(col)\n",
    "            col_name = '_'+'_'.join(col)+'_'\n",
    "            grid_df['enc'+col_name+'mean'] = grid_df.groupby(col)[TARGET].transform('mean').astype(np.float16)\n",
    "            grid_df['enc'+col_name+'std'] = grid_df.groupby(col)[TARGET].transform('std').astype(np.float16)\n",
    "\n",
    "        keep_cols = [col for col in list(grid_df) if col not in base_cols]\n",
    "        grid_df = grid_df[['id','d']+keep_cols]\n",
    "\n",
    "        self.logger.info('Save Mean/Std encoding')\n",
    "        encoded_df_filepath = project_space_path('/M5Forecasting/mean_encoding_df.pkl')\n",
    "        grid_df.to_pickle(encoded_df_filepath)\n",
    "        self.encoded_df_path.put(encoded_df_filepath)\n",
    "        \n"
   ]
  },
  {
   "cell_type": "code",
   "execution_count": 29,
   "metadata": {},
   "outputs": [],
   "source": [
    "@rf.block(executor=rf.ContainerExecutor(cores=2, memory=36000, gpu=1))\n",
    "class Train:\n",
    "    BASE: t.Any\n",
    "    PRICE: t.Any\n",
    "    CALENDAR: t.Any\n",
    "    LAGS: t.Any     \n",
    "    MEAN_ENC: t.Any   \n",
    "        \n",
    "    __libs__ = [lib1]\n",
    "    \n",
    "    def init(self):\n",
    "        #PATHS for Features\n",
    "        self.ORIGINAL = project_space_path(\"M5Forecasting\")+\"/\"\n",
    "#         self.BASE     = project_space_path('M5Forecasting/m5-simple-fe/grid_part_1.pkl')\n",
    "#         self.PRICE    = project_space_path('M5Forecasting/m5-simple-fe/grid_part_2.pkl')\n",
    "#         self.CALENDAR = project_space_path('M5Forecasting/m5-simple-fe/grid_part_3.pkl')\n",
    "#         self.LAGS     = project_space_path('M5Forecasting/lags_df_28.pkl')\n",
    "#         self.MEAN_ENC = project_space_path('M5Forecasting/mean_encoding_df.pkl')\n",
    "\n",
    "        #LIMITS and const\n",
    "        self.TARGET      = 'sales'            # Our target\n",
    "        self.START_TRAIN = 0                  # We can skip some rows (Nans/faster training)\n",
    "        self.END_TRAIN   = 1913               # End day of our train set\n",
    "        self.P_HORIZON   = 28                 # Prediction horizon\n",
    "        self.USE_AUX     = False               # Use or not pretrained models\n",
    "        self.N_CORES = psutil.cpu_count()     # Available CPU cores\n",
    "\n",
    "        # AUX(pretrained) Models paths\n",
    "        self.AUX_MODELS = '../input/m5-aux-models/'\n",
    "\n",
    "\n",
    "        #STORES ids\n",
    "        self.STORES_IDS = pd.read_csv(self.ORIGINAL+'sales_train_validation.csv')['store_id']\n",
    "        self.STORES_IDS = list(self.STORES_IDS.unique())\n",
    "\n",
    "\n",
    "        #SPLITS for lags creation\n",
    "        self.SHIFT_DAY  = 28\n",
    "        self.N_LAGS     = 15\n",
    "        self.LAGS_SPLIT = [col for col in range(self.SHIFT_DAY, self.SHIFT_DAY + self.N_LAGS)]\n",
    "        \n",
    "        self.remove_features = ['id','state_id','store_id',\n",
    "                           'date','wm_yr_wk','d', self.TARGET]\n",
    "        self.mean_features   = ['enc_cat_id_mean','enc_cat_id_std',\n",
    "                           'enc_dept_id_mean','enc_dept_id_std',\n",
    "                           'enc_item_id_mean','enc_item_id_std'] \n",
    "\n",
    "            \n",
    "    def seed_everything(self, seed=0):\n",
    "        random.seed(seed)\n",
    "        np.random.seed(seed)\n",
    "\n",
    "\n",
    "    ## Multiprocess Runs\n",
    "    def df_parallelize_run(self, func, t_split):\n",
    "        num_cores = np.min([self.N_CORES,len(t_split)])\n",
    "        pool = Pool(num_cores)\n",
    "        df = pd.concat(pool.map(func, t_split), axis=1)\n",
    "        pool.close()\n",
    "        pool.join()\n",
    "        return df\n",
    "\n",
    "    def get_data_by_store(self, store):\n",
    "\n",
    "        # Read and contact basic feature\n",
    "        df1 = pd.read_pickle(self.BASE)\n",
    "#         df1 = df1[df1['store_id']==store]\n",
    "        df2 = pd.read_pickle(self.PRICE).iloc[:,2:]\n",
    "#         df2 = df2[df2['store_id']==store]\n",
    "        df3 = pd.read_pickle(self.CALENDAR).iloc[:,2:]\n",
    "        df = pd.concat([df1, df2, df3],\n",
    "                        axis=1)\n",
    "\n",
    "        # Leave only relevant store\n",
    "        df = df[df['store_id']==store]\n",
    "        df = df.drop(['Unnamed: 0'], 1)\n",
    "\n",
    "        df2 = pd.read_pickle(self.MEAN_ENC)[self.mean_features]\n",
    "        df2 = df2[df2.index.isin(df.index)]\n",
    "\n",
    "        df = pd.concat([df, df2], axis=1)\n",
    "        del df2 # to not reach memory limit \n",
    "        gc.collect()\n",
    "\n",
    "        df3 = pd.read_pickle(self.LAGS).iloc[:,3:]\n",
    "        df3 = df3[df3.index.isin(df.index)]\n",
    "\n",
    "\n",
    "        df = pd.concat([df, df3], axis=1)\n",
    "        del df3 # to not reach memory limit \n",
    "        gc.collect()\n",
    "\n",
    "        # Create features list\n",
    "        features = [col for col in list(df) if col not in self.remove_features]\n",
    "        df = df[['id','d',self.TARGET]+features]\n",
    "\n",
    "        # Skipping first n rows\n",
    "        df['d'] = df['d'].apply(lambda x: x[2:]).astype(np.int16)\n",
    "        df = df[df['d']>=self.START_TRAIN].reset_index(drop=True)\n",
    "\n",
    "        return df, features\n",
    "\n",
    "    # Recombine Test set after training\n",
    "    def get_base_test(self):\n",
    "        base_test = pd.DataFrame()\n",
    "\n",
    "        for store_id in self.STORES_IDS:\n",
    "            temp_df = pd.read_pickle('test_'+store_id+'.pkl')\n",
    "            for col in ['item_id', 'dept_id', 'cat_id']:\n",
    "                temp_df[col] = temp_df[col].astype('category')\n",
    "            temp_df['store_id'] = store_id\n",
    "            base_test = pd.concat([base_test, temp_df]).reset_index(drop=True)\n",
    "\n",
    "        return base_test\n",
    "\n",
    "\n",
    "    ########################### Helper to make dynamic rolling lags\n",
    "    #################################################################################\n",
    "    def make_lag(self, LAG_DAY):\n",
    "        lag_df = base_test[['id','d',self.TARGET]]\n",
    "        col_name = f'sales_lag_{str(LAG_DAY)}'\n",
    "        lag_df[col_name] = lag_df.groupby(['id'])[self.TARGET].transform(lambda x: x.shift(LAG_DAY)).astype(np.float16)\n",
    "        return lag_df[[col_name]]\n",
    "\n",
    "\n",
    "    def make_lag_roll(self, LAG_DAY):\n",
    "        shift_day = LAG_DAY[0]\n",
    "        roll_wind = LAG_DAY[1]\n",
    "        lag_df = base_test[['id','d',self.TARGET]]\n",
    "        col_name = f'rolling_mean_tmp_{str(shift_day)}_{str(roll_wind)}'\n",
    "        lag_df[col_name] = lag_df.groupby(['id'])[self.TARGET].transform(lambda x: x.shift(shift_day).rolling(roll_wind).mean())\n",
    "        return lag_df[[col_name]]\n",
    "    \n",
    "    def run(self):\n",
    "                         \n",
    "        import logging\n",
    "\n",
    "\n",
    "        import lightgbm as lgb\n",
    "        lgb_params = {\n",
    "                            'boosting_type': 'gbdt',\n",
    "                            'objective': 'tweedie',\n",
    "                            'tweedie_variance_power': 1.1,\n",
    "                            'metric': 'rmse',\n",
    "                            'subsample': 0.5,\n",
    "                            'subsample_freq': 1,\n",
    "                            'learning_rate': 0.03,\n",
    "                            'num_leaves': 2**11-1,\n",
    "                            'min_data_in_leaf': 2**12-1,\n",
    "                            'feature_fraction': 0.5,\n",
    "                            'max_bin': 100,\n",
    "                            'n_estimators': 1400,\n",
    "                            'boost_from_average': False,\n",
    "                            'verbose': -1,\n",
    "                        } \n",
    "\n",
    "\n",
    "                ########################### Vars\n",
    "        #################################################################################\n",
    "        VER = 1                          # Our model version\n",
    "        SEED = 42                      \n",
    "        self.seed_everything(SEED)      \n",
    "        lgb_params['seed'] = SEED        \n",
    "\n",
    "        #FEATURES to remove\n",
    "        ## These features lead to overfit\n",
    "        ## or values not present in test set\n",
    "\n",
    "        ROLS_SPLIT = []\n",
    "        \n",
    "        for i in [1,7,14]:\n",
    "            for j in [7,14,30,60]:\n",
    "                ROLS_SPLIT.append([i,j])\n",
    "\n",
    "\n",
    "        if self.USE_AUX:\n",
    "            lgb_params['n_estimators'] = 2\n",
    "\n",
    "        \n",
    "\n",
    "                ########################### Train Models\n",
    "        #################################################################################\n",
    "        for store_id in self.STORES_IDS:\n",
    "            self.logger.info('Train')\n",
    "            self.logger.info(store_id)\n",
    "\n",
    "            # Get grid for current store\n",
    "            grid_df, features_columns = self.get_data_by_store(store_id)\n",
    "#             self.logger.info(grid_df.head())            \n",
    "            \n",
    "            self.logger.info(\"Loaded grid Data\")\n",
    "\n",
    "            # Masks for \n",
    "            # Train (All data less than 1913)\n",
    "            # \"Validation\" (Last 28 days - not real validatio set)\n",
    "            # Test (All data greater than 1913 day, \n",
    "            #       with some gap for recursive features)\n",
    "            train_mask = grid_df['d']<=self.END_TRAIN\n",
    "            valid_mask = train_mask&(grid_df['d']>(self.END_TRAIN-self.P_HORIZON))\n",
    "            preds_mask = grid_df['d']>(self.END_TRAIN-100)\n",
    "\n",
    "            train_data = lgb.Dataset(grid_df[train_mask][features_columns], \n",
    "                               label=grid_df[train_mask][self.TARGET])\n",
    "            \n",
    "#             train_data.save_binary(project_space_path(\"M5Forecasting/train_data.bin\"))\n",
    "#             train_data = lgb.Dataset(project_space_path(\"M5Forecasting/train_data.bin\"))\n",
    "\n",
    "            valid_data = lgb.Dataset(grid_df[valid_mask][features_columns], \n",
    "                               label=grid_df[valid_mask][self.TARGET])\n",
    "\n",
    "            # Saving part of the dataset for later predictions\n",
    "            # Removing features that we need to calculate recursively \n",
    "            grid_df = grid_df[preds_mask].reset_index(drop=True)\n",
    "            keep_cols = [col for col in list(grid_df) if '_tmp_' not in col]\n",
    "            grid_df = grid_df[keep_cols]\n",
    "            grid_df.to_pickle(project_space_path(f\"M5Forecasting/test_{store_id}.pkl\"))\n",
    "            del grid_df\n",
    "            gc.collect()\n",
    "\n",
    "            # Launch seeder again to make lgb training 100% deterministic\n",
    "            # with each \"code line\" np.random \"evolves\" \n",
    "            # so we need (may want) to \"reset\" it\n",
    "            self.seed_everything(SEED)\n",
    "            estimator = lgb.train(lgb_params,\n",
    "                                  train_data,\n",
    "                                  valid_sets = [valid_data],\n",
    "                                  verbose_eval = 100,\n",
    "                                  )\n",
    "\n",
    "\n",
    "            model_name = 'lgb_model_'+store_id+'_v'+str(VER)+'.bin'\n",
    "            pickle.dump(estimator, open(project_space_path(f\"M5Forecasting/{model_name}\"), 'wb'))\n",
    "\n",
    "            # Remove temporary files and objects \n",
    "            # to free some hdd space and ram memory\n",
    "\n",
    "#             os.remove()\n",
    "            del train_data, valid_data, estimator\n",
    "            gc.collect()\n",
    "\n",
    "            # \"Keep\" models features for predictions\n",
    "            MODEL_FEATURES = features_columns\n",
    "\n"
   ]
  },
  {
   "cell_type": "code",
   "execution_count": null,
   "metadata": {},
   "outputs": [],
   "source": []
  },
  {
   "cell_type": "code",
   "execution_count": null,
   "metadata": {},
   "outputs": [],
   "source": []
  },
  {
   "cell_type": "code",
   "execution_count": 30,
   "metadata": {},
   "outputs": [],
   "source": [
    "configs = Configs()\n",
    "melter = Melter(path='M5Forecasting/train_df.csv',config=configs.config)\n",
    "valid_creator = ValidDataCreator(path='M5Forecasting/train_df.csv', config=configs.config)\n",
    "data_concat = DataConcatenation(config=configs.config, add_grid_path=valid_creator.add_grid_path, grid_df_path=melter.grid_df_path)\n",
    "data_creator1 = DataCreator1(config=configs.config, grid_df_path=data_concat.grid_df_int_path)\n",
    "data_creator2 = DataCreator2(config=configs.config, grid_path=data_creator1.grid_pkl_path)\n",
    "data_creator3 = DataCreator3(config=configs.config, grid_path=data_creator1.grid_pkl_path)\n",
    "lag_creator = LagCreator(grid_path = data_creator1.grid_pkl_path)\n",
    "encoder = Encoder(grid_path=data_creator1.grid_pkl_path)\n",
    "\n",
    "train = Train(BASE=data_creator1.grid_pkl_path, PRICE=data_creator2.grid_two_df_path, CALENDAR=data_creator3.grid_three_df_path, \n",
    "             LAGS=lag_creator.lag_df_path, MEAN_ENC=encoder.encoded_df_path)\n"
   ]
  },
  {
   "cell_type": "code",
   "execution_count": 31,
   "metadata": {},
   "outputs": [],
   "source": [
    "# train = Train()\n"
   ]
  },
  {
   "cell_type": "code",
   "execution_count": 32,
   "metadata": {},
   "outputs": [],
   "source": [
    "p = rf.Pipeline(\"Walmart Training Pipeline_gpu\", targets=[train])  #preprocess\n"
   ]
  },
  {
   "cell_type": "code",
   "execution_count": 33,
   "metadata": {},
   "outputs": [
    {
     "data": {
      "application/vnd.razorthink.interactive+pipeline+view+json": {
       "blocks": [
        {
         "class_name": "Configs",
         "id": "103a95df-07d8-4466-b454-3817c8c31d88",
         "inputs": [],
         "outputs": [
          {
           "flow": "atomic",
           "help": null,
           "label": "config",
           "meta": {},
           "name": "config",
           "series": false,
           "type": "Any",
           "type_check": true
          }
         ],
         "overwritten": false,
         "var_names": [
          "Configs"
         ]
        },
        {
         "class_name": "DataCreator2",
         "id": "3480464e-bd74-4641-9f99-7fb61cdad5ca",
         "inputs": [
          {
           "default": null,
           "flow": "atomic",
           "help": null,
           "isdict": false,
           "islist": false,
           "label": "grid_path",
           "meta": {},
           "name": "grid_path",
           "series": false,
           "type": "Any",
           "type_check": true
          },
          {
           "default": null,
           "flow": "atomic",
           "help": null,
           "isdict": false,
           "islist": false,
           "label": "config",
           "meta": {},
           "name": "config",
           "series": false,
           "type": "Any",
           "type_check": true
          }
         ],
         "outputs": [
          {
           "flow": "atomic",
           "help": null,
           "label": "grid_two_df_path",
           "meta": {},
           "name": "grid_two_df_path",
           "series": false,
           "type": "Any",
           "type_check": true
          }
         ],
         "overwritten": false,
         "var_names": [
          "DataCreator2"
         ]
        },
        {
         "class_name": "DataConcatenation",
         "id": "8b82830d-01b6-4479-be3a-b07a808c8ab1",
         "inputs": [
          {
           "default": null,
           "flow": "atomic",
           "help": null,
           "isdict": false,
           "islist": false,
           "label": "grid_df_path",
           "meta": {},
           "name": "grid_df_path",
           "series": false,
           "type": "Any",
           "type_check": true
          },
          {
           "default": null,
           "flow": "atomic",
           "help": null,
           "isdict": false,
           "islist": false,
           "label": "add_grid_path",
           "meta": {},
           "name": "add_grid_path",
           "series": false,
           "type": "Any",
           "type_check": true
          },
          {
           "default": null,
           "flow": "atomic",
           "help": null,
           "isdict": false,
           "islist": false,
           "label": "config",
           "meta": {},
           "name": "config",
           "series": false,
           "type": "Any",
           "type_check": true
          }
         ],
         "outputs": [
          {
           "flow": "atomic",
           "help": null,
           "label": "grid_df_int_path",
           "meta": {},
           "name": "grid_df_int_path",
           "series": false,
           "type": "Any",
           "type_check": true
          }
         ],
         "overwritten": false,
         "var_names": [
          "DataConcatenation"
         ]
        },
        {
         "class_name": "LagCreator",
         "id": "c33b259a-e666-446e-98b9-fce6d73d9628",
         "inputs": [
          {
           "default": null,
           "flow": "atomic",
           "help": null,
           "isdict": false,
           "islist": false,
           "label": "grid_path",
           "meta": {},
           "name": "grid_path",
           "series": false,
           "type": "Any",
           "type_check": true
          }
         ],
         "outputs": [
          {
           "flow": "atomic",
           "help": null,
           "label": "lag_df_path",
           "meta": {},
           "name": "lag_df_path",
           "series": false,
           "type": "Any",
           "type_check": true
          }
         ],
         "overwritten": false,
         "var_names": [
          "LagCreator"
         ]
        },
        {
         "class_name": "Melter",
         "id": "24a6c6d5-baf1-41f4-95e5-07ad1915d9de",
         "inputs": [
          {
           "default": null,
           "flow": "atomic",
           "help": null,
           "isdict": false,
           "islist": false,
           "label": "path",
           "meta": {},
           "name": "path",
           "series": false,
           "type": "Any",
           "type_check": true
          },
          {
           "default": null,
           "flow": "atomic",
           "help": null,
           "isdict": false,
           "islist": false,
           "label": "config",
           "meta": {},
           "name": "config",
           "series": false,
           "type": "Any",
           "type_check": true
          }
         ],
         "outputs": [
          {
           "flow": "atomic",
           "help": null,
           "label": "grid_df_path",
           "meta": {},
           "name": "grid_df_path",
           "series": false,
           "type": "Any",
           "type_check": true
          }
         ],
         "overwritten": false,
         "var_names": [
          "Melter"
         ]
        },
        {
         "class_name": "DataCreator3",
         "id": "ac79e8b6-8adb-41ea-8c7e-0aaf60ba178c",
         "inputs": [
          {
           "default": null,
           "flow": "atomic",
           "help": null,
           "isdict": false,
           "islist": false,
           "label": "grid_path",
           "meta": {},
           "name": "grid_path",
           "series": false,
           "type": "Any",
           "type_check": true
          },
          {
           "default": null,
           "flow": "atomic",
           "help": null,
           "isdict": false,
           "islist": false,
           "label": "config",
           "meta": {},
           "name": "config",
           "series": false,
           "type": "Any",
           "type_check": true
          }
         ],
         "outputs": [
          {
           "flow": "atomic",
           "help": null,
           "label": "grid_three_df_path",
           "meta": {},
           "name": "grid_three_df_path",
           "series": false,
           "type": "Any",
           "type_check": true
          }
         ],
         "overwritten": false,
         "var_names": [
          "DataCreator3"
         ]
        },
        {
         "class_name": "DataCreator1",
         "id": "2dc097f7-7ef2-4462-9ca2-16f69f960af3",
         "inputs": [
          {
           "default": null,
           "flow": "atomic",
           "help": null,
           "isdict": false,
           "islist": false,
           "label": "grid_df_path",
           "meta": {},
           "name": "grid_df_path",
           "series": false,
           "type": "Any",
           "type_check": true
          },
          {
           "default": null,
           "flow": "atomic",
           "help": null,
           "isdict": false,
           "islist": false,
           "label": "config",
           "meta": {},
           "name": "config",
           "series": false,
           "type": "Any",
           "type_check": true
          }
         ],
         "outputs": [
          {
           "flow": "atomic",
           "help": null,
           "label": "grid_pkl_path",
           "meta": {},
           "name": "grid_pkl_path",
           "series": false,
           "type": "Any",
           "type_check": true
          }
         ],
         "overwritten": false,
         "var_names": [
          "DataCreator1"
         ]
        },
        {
         "class_name": "ValidDataCreator",
         "id": "60c67b4b-74b6-4791-9001-da5e3d5a514d",
         "inputs": [
          {
           "default": null,
           "flow": "atomic",
           "help": null,
           "isdict": false,
           "islist": false,
           "label": "path",
           "meta": {},
           "name": "path",
           "series": false,
           "type": "Any",
           "type_check": true
          },
          {
           "default": null,
           "flow": "atomic",
           "help": null,
           "isdict": false,
           "islist": false,
           "label": "config",
           "meta": {},
           "name": "config",
           "series": false,
           "type": "Any",
           "type_check": true
          }
         ],
         "outputs": [
          {
           "flow": "atomic",
           "help": null,
           "label": "add_grid_path",
           "meta": {},
           "name": "add_grid_path",
           "series": false,
           "type": "Any",
           "type_check": true
          }
         ],
         "overwritten": false,
         "var_names": [
          "ValidDataCreator"
         ]
        },
        {
         "class_name": "Train",
         "id": "5ac82e2a-5d1b-4435-96ad-bc9689d7561f",
         "inputs": [
          {
           "default": null,
           "flow": "atomic",
           "help": null,
           "isdict": false,
           "islist": false,
           "label": "BASE",
           "meta": {},
           "name": "BASE",
           "series": false,
           "type": "Any",
           "type_check": true
          },
          {
           "default": null,
           "flow": "atomic",
           "help": null,
           "isdict": false,
           "islist": false,
           "label": "PRICE",
           "meta": {},
           "name": "PRICE",
           "series": false,
           "type": "Any",
           "type_check": true
          },
          {
           "default": null,
           "flow": "atomic",
           "help": null,
           "isdict": false,
           "islist": false,
           "label": "CALENDAR",
           "meta": {},
           "name": "CALENDAR",
           "series": false,
           "type": "Any",
           "type_check": true
          },
          {
           "default": null,
           "flow": "atomic",
           "help": null,
           "isdict": false,
           "islist": false,
           "label": "LAGS",
           "meta": {},
           "name": "LAGS",
           "series": false,
           "type": "Any",
           "type_check": true
          },
          {
           "default": null,
           "flow": "atomic",
           "help": null,
           "isdict": false,
           "islist": false,
           "label": "MEAN_ENC",
           "meta": {},
           "name": "MEAN_ENC",
           "series": false,
           "type": "Any",
           "type_check": true
          }
         ],
         "outputs": [],
         "overwritten": false,
         "var_names": [
          "Train"
         ]
        },
        {
         "class_name": "Encoder",
         "id": "da9991d8-7519-4172-8b24-e836ad1bf4f8",
         "inputs": [
          {
           "default": null,
           "flow": "atomic",
           "help": null,
           "isdict": false,
           "islist": false,
           "label": "grid_path",
           "meta": {},
           "name": "grid_path",
           "series": false,
           "type": "Any",
           "type_check": true
          }
         ],
         "outputs": [
          {
           "flow": "atomic",
           "help": null,
           "label": "encoded_df_path",
           "meta": {},
           "name": "encoded_df_path",
           "series": false,
           "type": "Any",
           "type_check": true
          }
         ],
         "overwritten": false,
         "var_names": [
          "Encoder"
         ]
        }
       ],
       "connections": [
        {
         "id": "d7951e70-7f98-4e9e-95c5-c12551b8adce",
         "source": {
          "adapter": false,
          "instance_id": "78a73b3c-02eb-42c6-9110-c727a4a787d3",
          "name": "grid_pkl_path"
         },
         "target": {
          "adapter": false,
          "instance_id": "ce97ef62-017b-4771-8122-6f06a706623d",
          "name": "grid_path"
         }
        },
        {
         "id": "4addfe67-d6c7-45b0-b5db-163aa69fab0c",
         "source": {
          "adapter": false,
          "instance_id": "5f07167e-0261-4c55-ab8e-c3136d31cdf1",
          "name": "grid_three_df_path"
         },
         "target": {
          "adapter": false,
          "instance_id": "7836f92d-f452-4fe4-8fea-d0ea4b0503d7",
          "name": "CALENDAR"
         }
        },
        {
         "id": "e3a21453-483d-44f7-a85c-b6edfd3f7993",
         "source": {
          "adapter": false,
          "instance_id": "04353df6-2cd5-419f-a90a-4696515197cc",
          "name": "grid_two_df_path"
         },
         "target": {
          "adapter": false,
          "instance_id": "7836f92d-f452-4fe4-8fea-d0ea4b0503d7",
          "name": "PRICE"
         }
        },
        {
         "id": "a2deb789-4677-4234-8279-7363d0ed111a",
         "source": {
          "adapter": false,
          "instance_id": "fa4da693-b1e4-403c-98e3-bd943d2bf38e",
          "name": "grid_df_int_path"
         },
         "target": {
          "adapter": false,
          "instance_id": "78a73b3c-02eb-42c6-9110-c727a4a787d3",
          "name": "grid_df_path"
         }
        },
        {
         "id": "a7526f77-4450-4aa5-a2d9-ba8a489eaee1",
         "source": {
          "adapter": false,
          "instance_id": "78a73b3c-02eb-42c6-9110-c727a4a787d3",
          "name": "grid_pkl_path"
         },
         "target": {
          "adapter": false,
          "instance_id": "7836f92d-f452-4fe4-8fea-d0ea4b0503d7",
          "name": "BASE"
         }
        },
        {
         "id": "fab67e1f-a616-4e52-ac49-ece672244a15",
         "source": {
          "adapter": false,
          "instance_id": "df21f726-e44e-423f-8530-4bc5ce622ab8",
          "name": "config"
         },
         "target": {
          "adapter": false,
          "instance_id": "5a2356d8-6ddc-4e75-85ed-7d6189c44280",
          "name": "config"
         }
        },
        {
         "id": "f2619d1b-901f-4ca6-a482-864b822718d8",
         "source": {
          "adapter": false,
          "instance_id": "df21f726-e44e-423f-8530-4bc5ce622ab8",
          "name": "config"
         },
         "target": {
          "adapter": false,
          "instance_id": "fa4da693-b1e4-403c-98e3-bd943d2bf38e",
          "name": "config"
         }
        },
        {
         "id": "7fc6a23c-1247-4568-bb43-111bce4959ff",
         "source": {
          "adapter": false,
          "instance_id": "df21f726-e44e-423f-8530-4bc5ce622ab8",
          "name": "config"
         },
         "target": {
          "adapter": false,
          "instance_id": "78a73b3c-02eb-42c6-9110-c727a4a787d3",
          "name": "config"
         }
        },
        {
         "id": "8c5dbb3c-2cc2-435a-a6dd-5678d4a2e362",
         "source": {
          "adapter": false,
          "instance_id": "78a73b3c-02eb-42c6-9110-c727a4a787d3",
          "name": "grid_pkl_path"
         },
         "target": {
          "adapter": false,
          "instance_id": "a79ec201-5e0e-42de-bac7-92e3ee8dcdb3",
          "name": "grid_path"
         }
        },
        {
         "id": "5874dfe8-6d6f-4ea4-9833-7819a3bfc931",
         "source": {
          "adapter": false,
          "instance_id": "5a2356d8-6ddc-4e75-85ed-7d6189c44280",
          "name": "grid_df_path"
         },
         "target": {
          "adapter": false,
          "instance_id": "fa4da693-b1e4-403c-98e3-bd943d2bf38e",
          "name": "grid_df_path"
         }
        },
        {
         "id": "b677d5d0-04c2-4696-8c46-38214e865a5e",
         "source": {
          "adapter": false,
          "instance_id": "df21f726-e44e-423f-8530-4bc5ce622ab8",
          "name": "config"
         },
         "target": {
          "adapter": false,
          "instance_id": "5f07167e-0261-4c55-ab8e-c3136d31cdf1",
          "name": "config"
         }
        },
        {
         "id": "c6d04884-eb90-4bf7-a661-ca5a455c153c",
         "source": {
          "adapter": false,
          "instance_id": "df21f726-e44e-423f-8530-4bc5ce622ab8",
          "name": "config"
         },
         "target": {
          "adapter": false,
          "instance_id": "c8945ded-0533-418a-b6ac-b7b5cbdb3895",
          "name": "config"
         }
        },
        {
         "id": "4923820c-5f02-480a-a278-aa649ba24564",
         "source": {
          "adapter": false,
          "instance_id": "a79ec201-5e0e-42de-bac7-92e3ee8dcdb3",
          "name": "lag_df_path"
         },
         "target": {
          "adapter": false,
          "instance_id": "7836f92d-f452-4fe4-8fea-d0ea4b0503d7",
          "name": "LAGS"
         }
        },
        {
         "id": "aea0f6ba-3640-4333-931c-c91d32f96995",
         "source": {
          "adapter": false,
          "instance_id": "78a73b3c-02eb-42c6-9110-c727a4a787d3",
          "name": "grid_pkl_path"
         },
         "target": {
          "adapter": false,
          "instance_id": "5f07167e-0261-4c55-ab8e-c3136d31cdf1",
          "name": "grid_path"
         }
        },
        {
         "id": "677ac181-c5da-4caa-91a3-1c987aff6577",
         "source": {
          "adapter": false,
          "instance_id": "ce97ef62-017b-4771-8122-6f06a706623d",
          "name": "encoded_df_path"
         },
         "target": {
          "adapter": false,
          "instance_id": "7836f92d-f452-4fe4-8fea-d0ea4b0503d7",
          "name": "MEAN_ENC"
         }
        },
        {
         "id": "5a2347ef-114e-45b3-a18c-30ec18747f1e",
         "source": {
          "adapter": false,
          "instance_id": "df21f726-e44e-423f-8530-4bc5ce622ab8",
          "name": "config"
         },
         "target": {
          "adapter": false,
          "instance_id": "04353df6-2cd5-419f-a90a-4696515197cc",
          "name": "config"
         }
        },
        {
         "id": "ce1b8234-4bb3-4886-8bcf-811eccf90aa2",
         "source": {
          "adapter": false,
          "instance_id": "78a73b3c-02eb-42c6-9110-c727a4a787d3",
          "name": "grid_pkl_path"
         },
         "target": {
          "adapter": false,
          "instance_id": "04353df6-2cd5-419f-a90a-4696515197cc",
          "name": "grid_path"
         }
        },
        {
         "id": "e7c24259-44f9-4c82-8729-17368429eaf3",
         "source": {
          "adapter": false,
          "instance_id": "c8945ded-0533-418a-b6ac-b7b5cbdb3895",
          "name": "add_grid_path"
         },
         "target": {
          "adapter": false,
          "instance_id": "fa4da693-b1e4-403c-98e3-bd943d2bf38e",
          "name": "add_grid_path"
         }
        }
       ],
       "id": "60ba3d69-801b-464e-bcb5-9118ea94e4b9",
       "instances": [
        {
         "block_class": "5ac82e2a-5d1b-4435-96ad-bc9689d7561f",
         "id": "7836f92d-f452-4fe4-8fea-d0ea4b0503d7",
         "name": "Train_1",
         "var_names": [
          "train"
         ]
        },
        {
         "block_class": "2dc097f7-7ef2-4462-9ca2-16f69f960af3",
         "id": "78a73b3c-02eb-42c6-9110-c727a4a787d3",
         "name": "DataCreator1_1",
         "var_names": [
          "data_creator1"
         ]
        },
        {
         "block_class": "8b82830d-01b6-4479-be3a-b07a808c8ab1",
         "id": "fa4da693-b1e4-403c-98e3-bd943d2bf38e",
         "name": "DataConcatenation_1",
         "var_names": [
          "data_concat"
         ]
        },
        {
         "block_class": "24a6c6d5-baf1-41f4-95e5-07ad1915d9de",
         "id": "5a2356d8-6ddc-4e75-85ed-7d6189c44280",
         "name": "Melter_1",
         "var_names": [
          "melter"
         ]
        },
        {
         "block_class": "103a95df-07d8-4466-b454-3817c8c31d88",
         "id": "df21f726-e44e-423f-8530-4bc5ce622ab8",
         "name": "Configs_1",
         "var_names": [
          "configs"
         ]
        },
        {
         "block_class": "60c67b4b-74b6-4791-9001-da5e3d5a514d",
         "id": "c8945ded-0533-418a-b6ac-b7b5cbdb3895",
         "name": "ValidDataCreator_1",
         "var_names": [
          "valid_creator"
         ]
        },
        {
         "block_class": "3480464e-bd74-4641-9f99-7fb61cdad5ca",
         "id": "04353df6-2cd5-419f-a90a-4696515197cc",
         "name": "DataCreator2_1",
         "var_names": [
          "data_creator2"
         ]
        },
        {
         "block_class": "ac79e8b6-8adb-41ea-8c7e-0aaf60ba178c",
         "id": "5f07167e-0261-4c55-ab8e-c3136d31cdf1",
         "name": "DataCreator3_1",
         "var_names": [
          "data_creator3"
         ]
        },
        {
         "block_class": "c33b259a-e666-446e-98b9-fce6d73d9628",
         "id": "a79ec201-5e0e-42de-bac7-92e3ee8dcdb3",
         "name": "LagCreator_1",
         "var_names": [
          "lag_creator"
         ]
        },
        {
         "block_class": "da9991d8-7519-4172-8b24-e836ad1bf4f8",
         "id": "ce97ef62-017b-4771-8122-6f06a706623d",
         "name": "Encoder_1",
         "var_names": [
          "encoder"
         ]
        }
       ],
       "name": "Walmart Training Pipeline_gpu",
       "var_names": []
      },
      "image/svg+xml": [
       "<?xml version=\"1.0\" encoding=\"UTF-8\" standalone=\"no\"?>\n",
       "<!DOCTYPE svg PUBLIC \"-//W3C//DTD SVG 1.1//EN\"\n",
       " \"http://www.w3.org/Graphics/SVG/1.1/DTD/svg11.dtd\">\n",
       "<!-- Generated by graphviz version 2.43.0 (0)\n",
       " -->\n",
       "<!-- Title: %3 Pages: 1 -->\n",
       "<svg width=\"947pt\" height=\"459pt\"\n",
       " viewBox=\"0.00 0.00 947.37 459.00\" xmlns=\"http://www.w3.org/2000/svg\" xmlns:xlink=\"http://www.w3.org/1999/xlink\">\n",
       "<g id=\"graph0\" class=\"graph\" transform=\"scale(1 1) rotate(0) translate(4 455)\">\n",
       "<title>%3</title>\n",
       "<polygon fill=\"white\" stroke=\"transparent\" points=\"-4,4 -4,-455 943.37,-455 943.37,4 -4,4\"/>\n",
       "<!-- Train(&#39;Train_1&#39;) -->\n",
       "<g id=\"node1\" class=\"node\">\n",
       "<title>Train(&#39;Train_1&#39;)</title>\n",
       "<ellipse fill=\"none\" stroke=\"black\" cx=\"394.12\" cy=\"-18\" rx=\"51.61\" ry=\"18\"/>\n",
       "<text text-anchor=\"middle\" x=\"394.12\" y=\"-15.5\" font-family=\"Helvetica,sans-Serif\" font-size=\"10.00\">Train(&#39;Train_1&#39;)</text>\n",
       "</g>\n",
       "<!-- DataCreator1(&#39;DataCreator1_1&#39;) -->\n",
       "<g id=\"node2\" class=\"node\">\n",
       "<title>DataCreator1(&#39;DataCreator1_1&#39;)</title>\n",
       "<ellipse fill=\"none\" stroke=\"black\" cx=\"379.12\" cy=\"-184\" rx=\"101\" ry=\"18\"/>\n",
       "<text text-anchor=\"middle\" x=\"379.12\" y=\"-181.5\" font-family=\"Helvetica,sans-Serif\" font-size=\"10.00\">DataCreator1(&#39;DataCreator1_1&#39;)</text>\n",
       "</g>\n",
       "<!-- DataCreator1(&#39;DataCreator1_1&#39;)&#45;&gt;Train(&#39;Train_1&#39;) -->\n",
       "<g id=\"edge1\" class=\"edge\">\n",
       "<title>DataCreator1(&#39;DataCreator1_1&#39;)&#45;&gt;Train(&#39;Train_1&#39;)</title>\n",
       "<path fill=\"none\" stroke=\"black\" d=\"M380.7,-165.76C383.31,-137.26 388.53,-80.12 391.64,-46.16\"/>\n",
       "<polygon fill=\"black\" stroke=\"black\" points=\"395.14,-46.29 392.57,-36.01 388.17,-45.65 395.14,-46.29\"/>\n",
       "<text text-anchor=\"middle\" x=\"439.12\" y=\"-98.5\" font-family=\"Helvetica,sans-Serif\" font-size=\"10.00\">grid_pkl_path&#45;&gt;BASE</text>\n",
       "</g>\n",
       "<!-- DataCreator2(&#39;DataCreator2_1&#39;) -->\n",
       "<g id=\"node7\" class=\"node\">\n",
       "<title>DataCreator2(&#39;DataCreator2_1&#39;)</title>\n",
       "<ellipse fill=\"none\" stroke=\"black\" cx=\"838.12\" cy=\"-101\" rx=\"101\" ry=\"18\"/>\n",
       "<text text-anchor=\"middle\" x=\"838.12\" y=\"-98.5\" font-family=\"Helvetica,sans-Serif\" font-size=\"10.00\">DataCreator2(&#39;DataCreator2_1&#39;)</text>\n",
       "</g>\n",
       "<!-- DataCreator1(&#39;DataCreator1_1&#39;)&#45;&gt;DataCreator2(&#39;DataCreator2_1&#39;) -->\n",
       "<g id=\"edge2\" class=\"edge\">\n",
       "<title>DataCreator1(&#39;DataCreator1_1&#39;)&#45;&gt;DataCreator2(&#39;DataCreator2_1&#39;)</title>\n",
       "<path fill=\"none\" stroke=\"black\" d=\"M448.34,-170.79C531.77,-156.06 671.67,-131.37 759.21,-115.92\"/>\n",
       "<polygon fill=\"black\" stroke=\"black\" points=\"759.86,-119.37 769.1,-114.18 758.64,-112.47 759.86,-119.37\"/>\n",
       "<text text-anchor=\"middle\" x=\"697.12\" y=\"-140\" font-family=\"Helvetica,sans-Serif\" font-size=\"10.00\">grid_pkl_path&#45;&gt;grid_path</text>\n",
       "</g>\n",
       "<!-- DataCreator3(&#39;DataCreator3_1&#39;) -->\n",
       "<g id=\"node8\" class=\"node\">\n",
       "<title>DataCreator3(&#39;DataCreator3_1&#39;)</title>\n",
       "<ellipse fill=\"none\" stroke=\"black\" cx=\"617.12\" cy=\"-101\" rx=\"101\" ry=\"18\"/>\n",
       "<text text-anchor=\"middle\" x=\"617.12\" y=\"-98.5\" font-family=\"Helvetica,sans-Serif\" font-size=\"10.00\">DataCreator3(&#39;DataCreator3_1&#39;)</text>\n",
       "</g>\n",
       "<!-- DataCreator1(&#39;DataCreator1_1&#39;)&#45;&gt;DataCreator3(&#39;DataCreator3_1&#39;) -->\n",
       "<g id=\"edge3\" class=\"edge\">\n",
       "<title>DataCreator1(&#39;DataCreator1_1&#39;)&#45;&gt;DataCreator3(&#39;DataCreator3_1&#39;)</title>\n",
       "<path fill=\"none\" stroke=\"black\" d=\"M397.63,-166.14C409.52,-156.2 425.76,-144.19 442.12,-137 458.78,-129.68 496.99,-121.71 533.47,-115.23\"/>\n",
       "<polygon fill=\"black\" stroke=\"black\" points=\"534.45,-118.61 543.7,-113.44 533.24,-111.71 534.45,-118.61\"/>\n",
       "<text text-anchor=\"middle\" x=\"504.12\" y=\"-140\" font-family=\"Helvetica,sans-Serif\" font-size=\"10.00\">grid_pkl_path&#45;&gt;grid_path</text>\n",
       "</g>\n",
       "<!-- LagCreator(&#39;LagCreator_1&#39;) -->\n",
       "<g id=\"node9\" class=\"node\">\n",
       "<title>LagCreator(&#39;LagCreator_1&#39;)</title>\n",
       "<ellipse fill=\"none\" stroke=\"black\" cx=\"87.12\" cy=\"-101\" rx=\"87.24\" ry=\"18\"/>\n",
       "<text text-anchor=\"middle\" x=\"87.12\" y=\"-98.5\" font-family=\"Helvetica,sans-Serif\" font-size=\"10.00\">LagCreator(&#39;LagCreator_1&#39;)</text>\n",
       "</g>\n",
       "<!-- DataCreator1(&#39;DataCreator1_1&#39;)&#45;&gt;LagCreator(&#39;LagCreator_1&#39;) -->\n",
       "<g id=\"edge4\" class=\"edge\">\n",
       "<title>DataCreator1(&#39;DataCreator1_1&#39;)&#45;&gt;LagCreator(&#39;LagCreator_1&#39;)</title>\n",
       "<path fill=\"none\" stroke=\"black\" d=\"M285.38,-177.19C224.7,-172.09 152.14,-163.07 125.12,-148 116.35,-143.11 108.77,-135.33 102.75,-127.54\"/>\n",
       "<polygon fill=\"black\" stroke=\"black\" points=\"105.48,-125.35 96.83,-119.24 99.78,-129.41 105.48,-125.35\"/>\n",
       "<text text-anchor=\"middle\" x=\"187.12\" y=\"-140\" font-family=\"Helvetica,sans-Serif\" font-size=\"10.00\">grid_pkl_path&#45;&gt;grid_path</text>\n",
       "</g>\n",
       "<!-- Encoder(&#39;Encoder_1&#39;) -->\n",
       "<g id=\"node10\" class=\"node\">\n",
       "<title>Encoder(&#39;Encoder_1&#39;)</title>\n",
       "<ellipse fill=\"none\" stroke=\"black\" cx=\"262.12\" cy=\"-101\" rx=\"70.1\" ry=\"18\"/>\n",
       "<text text-anchor=\"middle\" x=\"262.12\" y=\"-98.5\" font-family=\"Helvetica,sans-Serif\" font-size=\"10.00\">Encoder(&#39;Encoder_1&#39;)</text>\n",
       "</g>\n",
       "<!-- DataCreator1(&#39;DataCreator1_1&#39;)&#45;&gt;Encoder(&#39;Encoder_1&#39;) -->\n",
       "<g id=\"edge5\" class=\"edge\">\n",
       "<title>DataCreator1(&#39;DataCreator1_1&#39;)&#45;&gt;Encoder(&#39;Encoder_1&#39;)</title>\n",
       "<path fill=\"none\" stroke=\"black\" d=\"M309.56,-170.78C285.73,-165.08 263.25,-157.43 256.12,-148 252.11,-142.69 251.31,-136.01 252.08,-129.4\"/>\n",
       "<polygon fill=\"black\" stroke=\"black\" points=\"255.57,-129.79 254.32,-119.27 248.74,-128.28 255.57,-129.79\"/>\n",
       "<text text-anchor=\"middle\" x=\"318.12\" y=\"-140\" font-family=\"Helvetica,sans-Serif\" font-size=\"10.00\">grid_pkl_path&#45;&gt;grid_path</text>\n",
       "</g>\n",
       "<!-- DataConcatenation(&#39;DataConcatenation_1&#39;) -->\n",
       "<g id=\"node3\" class=\"node\">\n",
       "<title>DataConcatenation(&#39;DataConcatenation_1&#39;)</title>\n",
       "<ellipse fill=\"none\" stroke=\"black\" cx=\"379.12\" cy=\"-267\" rx=\"134.61\" ry=\"18\"/>\n",
       "<text text-anchor=\"middle\" x=\"379.12\" y=\"-264.5\" font-family=\"Helvetica,sans-Serif\" font-size=\"10.00\">DataConcatenation(&#39;DataConcatenation_1&#39;)</text>\n",
       "</g>\n",
       "<!-- DataConcatenation(&#39;DataConcatenation_1&#39;)&#45;&gt;DataCreator1(&#39;DataCreator1_1&#39;) -->\n",
       "<g id=\"edge6\" class=\"edge\">\n",
       "<title>DataConcatenation(&#39;DataConcatenation_1&#39;)&#45;&gt;DataCreator1(&#39;DataCreator1_1&#39;)</title>\n",
       "<path fill=\"none\" stroke=\"black\" d=\"M379.12,-248.82C379.12,-238.19 379.12,-224.31 379.12,-212.2\"/>\n",
       "<polygon fill=\"black\" stroke=\"black\" points=\"382.62,-212.15 379.12,-202.15 375.62,-212.15 382.62,-212.15\"/>\n",
       "<text text-anchor=\"middle\" x=\"455.12\" y=\"-223\" font-family=\"Helvetica,sans-Serif\" font-size=\"10.00\">grid_df_int_path&#45;&gt;grid_df_path</text>\n",
       "</g>\n",
       "<!-- Melter(&#39;Melter_1&#39;) -->\n",
       "<g id=\"node4\" class=\"node\">\n",
       "<title>Melter(&#39;Melter_1&#39;)</title>\n",
       "<ellipse fill=\"none\" stroke=\"black\" cx=\"379.12\" cy=\"-350\" rx=\"61.44\" ry=\"18\"/>\n",
       "<text text-anchor=\"middle\" x=\"379.12\" y=\"-347.5\" font-family=\"Helvetica,sans-Serif\" font-size=\"10.00\">Melter(&#39;Melter_1&#39;)</text>\n",
       "</g>\n",
       "<!-- Melter(&#39;Melter_1&#39;)&#45;&gt;DataConcatenation(&#39;DataConcatenation_1&#39;) -->\n",
       "<g id=\"edge7\" class=\"edge\">\n",
       "<title>Melter(&#39;Melter_1&#39;)&#45;&gt;DataConcatenation(&#39;DataConcatenation_1&#39;)</title>\n",
       "<path fill=\"none\" stroke=\"black\" d=\"M379.12,-331.82C379.12,-321.19 379.12,-307.31 379.12,-295.2\"/>\n",
       "<polygon fill=\"black\" stroke=\"black\" points=\"382.62,-295.15 379.12,-285.15 375.62,-295.15 382.62,-295.15\"/>\n",
       "<text text-anchor=\"middle\" x=\"446.12\" y=\"-306\" font-family=\"Helvetica,sans-Serif\" font-size=\"10.00\">grid_df_path&#45;&gt;grid_df_path</text>\n",
       "</g>\n",
       "<!-- Configs(&#39;Configs_1&#39;) -->\n",
       "<g id=\"node5\" class=\"node\">\n",
       "<title>Configs(&#39;Configs_1&#39;)</title>\n",
       "<ellipse fill=\"none\" stroke=\"black\" cx=\"505.12\" cy=\"-433\" rx=\"66.54\" ry=\"18\"/>\n",
       "<text text-anchor=\"middle\" x=\"505.12\" y=\"-430.5\" font-family=\"Helvetica,sans-Serif\" font-size=\"10.00\">Configs(&#39;Configs_1&#39;)</text>\n",
       "</g>\n",
       "<!-- Configs(&#39;Configs_1&#39;)&#45;&gt;DataCreator1(&#39;DataCreator1_1&#39;) -->\n",
       "<g id=\"edge11\" class=\"edge\">\n",
       "<title>Configs(&#39;Configs_1&#39;)&#45;&gt;DataCreator1(&#39;DataCreator1_1&#39;)</title>\n",
       "<path fill=\"none\" stroke=\"black\" d=\"M438.5,-432.05C388.1,-429.85 318.23,-421.89 262.12,-397 215.01,-376.1 198.93,-362.37 181.12,-314 158.74,-253.21 239.29,-218.33 304.31,-200.53\"/>\n",
       "<polygon fill=\"black\" stroke=\"black\" points=\"305.41,-203.86 314.19,-197.92 303.63,-197.09 305.41,-203.86\"/>\n",
       "<text text-anchor=\"middle\" x=\"216.62\" y=\"-306\" font-family=\"Helvetica,sans-Serif\" font-size=\"10.00\">config&#45;&gt;config</text>\n",
       "</g>\n",
       "<!-- Configs(&#39;Configs_1&#39;)&#45;&gt;DataConcatenation(&#39;DataConcatenation_1&#39;) -->\n",
       "<g id=\"edge10\" class=\"edge\">\n",
       "<title>Configs(&#39;Configs_1&#39;)&#45;&gt;DataConcatenation(&#39;DataConcatenation_1&#39;)</title>\n",
       "<path fill=\"none\" stroke=\"black\" d=\"M443.78,-425.99C373.04,-417.65 263.25,-399.86 238.12,-368 210.07,-332.43 264.11,-304.04 313.2,-286.73\"/>\n",
       "<polygon fill=\"black\" stroke=\"black\" points=\"314.58,-289.96 322.92,-283.42 312.33,-283.33 314.58,-289.96\"/>\n",
       "<text text-anchor=\"middle\" x=\"273.62\" y=\"-347.5\" font-family=\"Helvetica,sans-Serif\" font-size=\"10.00\">config&#45;&gt;config</text>\n",
       "</g>\n",
       "<!-- Configs(&#39;Configs_1&#39;)&#45;&gt;Melter(&#39;Melter_1&#39;) -->\n",
       "<g id=\"edge8\" class=\"edge\">\n",
       "<title>Configs(&#39;Configs_1&#39;)&#45;&gt;Melter(&#39;Melter_1&#39;)</title>\n",
       "<path fill=\"none\" stroke=\"black\" d=\"M480.53,-416.19C461.02,-403.65 433.55,-385.99 412.13,-372.22\"/>\n",
       "<polygon fill=\"black\" stroke=\"black\" points=\"413.96,-369.23 403.65,-366.77 410.17,-375.12 413.96,-369.23\"/>\n",
       "<text text-anchor=\"middle\" x=\"484.62\" y=\"-389\" font-family=\"Helvetica,sans-Serif\" font-size=\"10.00\">config&#45;&gt;config</text>\n",
       "</g>\n",
       "<!-- ValidDataCreator(&#39;ValidDataCreator_1&#39;) -->\n",
       "<g id=\"node6\" class=\"node\">\n",
       "<title>ValidDataCreator(&#39;ValidDataCreator_1&#39;)</title>\n",
       "<ellipse fill=\"none\" stroke=\"black\" cx=\"581.12\" cy=\"-350\" rx=\"122.38\" ry=\"18\"/>\n",
       "<text text-anchor=\"middle\" x=\"581.12\" y=\"-347.5\" font-family=\"Helvetica,sans-Serif\" font-size=\"10.00\">ValidDataCreator(&#39;ValidDataCreator_1&#39;)</text>\n",
       "</g>\n",
       "<!-- Configs(&#39;Configs_1&#39;)&#45;&gt;ValidDataCreator(&#39;ValidDataCreator_1&#39;) -->\n",
       "<g id=\"edge9\" class=\"edge\">\n",
       "<title>Configs(&#39;Configs_1&#39;)&#45;&gt;ValidDataCreator(&#39;ValidDataCreator_1&#39;)</title>\n",
       "<path fill=\"none\" stroke=\"black\" d=\"M520.87,-415.22C531.6,-403.78 545.98,-388.45 558.01,-375.64\"/>\n",
       "<polygon fill=\"black\" stroke=\"black\" points=\"560.84,-377.73 565.13,-368.04 555.74,-372.94 560.84,-377.73\"/>\n",
       "<text text-anchor=\"middle\" x=\"582.62\" y=\"-389\" font-family=\"Helvetica,sans-Serif\" font-size=\"10.00\">config&#45;&gt;config</text>\n",
       "</g>\n",
       "<!-- Configs(&#39;Configs_1&#39;)&#45;&gt;DataCreator2(&#39;DataCreator2_1&#39;) -->\n",
       "<g id=\"edge12\" class=\"edge\">\n",
       "<title>Configs(&#39;Configs_1&#39;)&#45;&gt;DataCreator2(&#39;DataCreator2_1&#39;)</title>\n",
       "<path fill=\"none\" stroke=\"black\" d=\"M570.51,-429.3C667.49,-423.49 838.12,-405.52 838.12,-351 838.12,-351 838.12,-351 838.12,-183 838.12,-165.06 838.12,-144.89 838.12,-129.16\"/>\n",
       "<polygon fill=\"black\" stroke=\"black\" points=\"841.62,-129.07 838.12,-119.07 834.62,-129.07 841.62,-129.07\"/>\n",
       "<text text-anchor=\"middle\" x=\"873.62\" y=\"-264.5\" font-family=\"Helvetica,sans-Serif\" font-size=\"10.00\">config&#45;&gt;config</text>\n",
       "</g>\n",
       "<!-- Configs(&#39;Configs_1&#39;)&#45;&gt;DataCreator3(&#39;DataCreator3_1&#39;) -->\n",
       "<g id=\"edge13\" class=\"edge\">\n",
       "<title>Configs(&#39;Configs_1&#39;)&#45;&gt;DataCreator3(&#39;DataCreator3_1&#39;)</title>\n",
       "<path fill=\"none\" stroke=\"black\" d=\"M561.28,-423.3C628.21,-411.3 731.12,-387 731.12,-351 731.12,-351 731.12,-351 731.12,-183 731.12,-161.63 731.92,-152.42 717.12,-137 709.88,-129.46 700.93,-123.54 691.38,-118.89\"/>\n",
       "<polygon fill=\"black\" stroke=\"black\" points=\"692.64,-115.63 682.08,-114.82 689.83,-122.04 692.64,-115.63\"/>\n",
       "<text text-anchor=\"middle\" x=\"766.62\" y=\"-264.5\" font-family=\"Helvetica,sans-Serif\" font-size=\"10.00\">config&#45;&gt;config</text>\n",
       "</g>\n",
       "<!-- ValidDataCreator(&#39;ValidDataCreator_1&#39;)&#45;&gt;DataConcatenation(&#39;DataConcatenation_1&#39;) -->\n",
       "<g id=\"edge14\" class=\"edge\">\n",
       "<title>ValidDataCreator(&#39;ValidDataCreator_1&#39;)&#45;&gt;DataConcatenation(&#39;DataConcatenation_1&#39;)</title>\n",
       "<path fill=\"none\" stroke=\"black\" d=\"M561.87,-332.22C549.75,-322.43 533.37,-310.57 517.12,-303 500.86,-295.43 482.73,-289.34 465.1,-284.5\"/>\n",
       "<polygon fill=\"black\" stroke=\"black\" points=\"465.93,-281.1 455.37,-281.93 464.15,-287.87 465.93,-281.1\"/>\n",
       "<text text-anchor=\"middle\" x=\"610.62\" y=\"-306\" font-family=\"Helvetica,sans-Serif\" font-size=\"10.00\">add_grid_path&#45;&gt;add_grid_path</text>\n",
       "</g>\n",
       "<!-- DataCreator2(&#39;DataCreator2_1&#39;)&#45;&gt;Train(&#39;Train_1&#39;) -->\n",
       "<g id=\"edge15\" class=\"edge\">\n",
       "<title>DataCreator2(&#39;DataCreator2_1&#39;)&#45;&gt;Train(&#39;Train_1&#39;)</title>\n",
       "<path fill=\"none\" stroke=\"black\" d=\"M793.02,-84.87C761.45,-74.79 718.11,-61.98 679.12,-54 602.3,-38.27 512.28,-28.66 454.28,-23.58\"/>\n",
       "<polygon fill=\"black\" stroke=\"black\" points=\"454.46,-20.09 444.19,-22.72 453.86,-27.06 454.46,-20.09\"/>\n",
       "<text text-anchor=\"middle\" x=\"785.62\" y=\"-57\" font-family=\"Helvetica,sans-Serif\" font-size=\"10.00\">grid_two_df_path&#45;&gt;PRICE</text>\n",
       "</g>\n",
       "<!-- DataCreator3(&#39;DataCreator3_1&#39;)&#45;&gt;Train(&#39;Train_1&#39;) -->\n",
       "<g id=\"edge16\" class=\"edge\">\n",
       "<title>DataCreator3(&#39;DataCreator3_1&#39;)&#45;&gt;Train(&#39;Train_1&#39;)</title>\n",
       "<path fill=\"none\" stroke=\"black\" d=\"M574.65,-84.57C535.54,-70.37 477.75,-49.38 438.16,-34.99\"/>\n",
       "<polygon fill=\"black\" stroke=\"black\" points=\"439.35,-31.7 428.75,-31.58 436.96,-38.28 439.35,-31.7\"/>\n",
       "<text text-anchor=\"middle\" x=\"596.62\" y=\"-57\" font-family=\"Helvetica,sans-Serif\" font-size=\"10.00\">grid_three_df_path&#45;&gt;CALENDAR</text>\n",
       "</g>\n",
       "<!-- LagCreator(&#39;LagCreator_1&#39;)&#45;&gt;Train(&#39;Train_1&#39;) -->\n",
       "<g id=\"edge17\" class=\"edge\">\n",
       "<title>LagCreator(&#39;LagCreator_1&#39;)&#45;&gt;Train(&#39;Train_1&#39;)</title>\n",
       "<path fill=\"none\" stroke=\"black\" d=\"M97.17,-82.73C104,-72.63 113.98,-60.61 126.12,-54 160.71,-35.16 265.19,-25.98 333.02,-21.89\"/>\n",
       "<polygon fill=\"black\" stroke=\"black\" points=\"333.38,-25.37 343.16,-21.3 332.97,-18.39 333.38,-25.37\"/>\n",
       "<text text-anchor=\"middle\" x=\"174.12\" y=\"-57\" font-family=\"Helvetica,sans-Serif\" font-size=\"10.00\">lag_df_path&#45;&gt;LAGS</text>\n",
       "</g>\n",
       "<!-- Encoder(&#39;Encoder_1&#39;)&#45;&gt;Train(&#39;Train_1&#39;) -->\n",
       "<g id=\"edge18\" class=\"edge\">\n",
       "<title>Encoder(&#39;Encoder_1&#39;)&#45;&gt;Train(&#39;Train_1&#39;)</title>\n",
       "<path fill=\"none\" stroke=\"black\" d=\"M239.2,-83.91C229.2,-74.92 221.33,-63.62 229.12,-54 242.32,-37.71 292.38,-28.69 333.93,-23.91\"/>\n",
       "<polygon fill=\"black\" stroke=\"black\" points=\"334.45,-27.37 344.01,-22.81 333.69,-20.41 334.45,-27.37\"/>\n",
       "<text text-anchor=\"middle\" x=\"304.62\" y=\"-57\" font-family=\"Helvetica,sans-Serif\" font-size=\"10.00\">encoded_df_path&#45;&gt;MEAN_ENC</text>\n",
       "</g>\n",
       "</g>\n",
       "</svg>\n"
      ],
      "text/plain": [
       "<razor.flow.pipeline.Pipeline at 0x7f3d43522e50>"
      ]
     },
     "execution_count": 33,
     "metadata": {},
     "output_type": "execute_result"
    }
   ],
   "source": [
    "p"
   ]
  },
  {
   "cell_type": "code",
   "execution_count": 34,
   "metadata": {},
   "outputs": [],
   "source": [
    "deployed_pipeline = razor.api.engines('DS-Engine-Load-Test').execute(pipeline=p)\n"
   ]
  },
  {
   "cell_type": "code",
   "execution_count": 35,
   "metadata": {},
   "outputs": [
    {
     "data": {
      "application/vnd.razorthink.run+monitor+json": "/home/jovyan/logs/219f20dd-a087-4edc-828e-bf40c5db4504",
      "text/plain": [
       "<razor_tools.backend.ipython.mime.run_monitor.RunMonitor at 0x7f3d32704810>"
      ]
     },
     "metadata": {
      "application/vnd.razorthink.run+monitor+json": {
       "store_in_notebook": false
      }
     },
     "output_type": "display_data"
    },
    {
     "data": {
      "text/html": [],
      "text/plain": [
       "PlatformPipelineRun(project_id='c0b26d85-a4c9-44f5-9d0e-f540dd2de644', pipeline_id='141100e0-3acd-11eb-afb1-0242ac110005', pipeline_name='Walmart Training Pipeline_gpu', pipeline_run_id='219f20dd-a087-4edc-828e-bf40c5db4504', pipeline_version=None, comment=None, created_on='2020-12-10T09:50:05.234+00:00', start_time=None, end_time=None, eta=0, run_at=1607593805234, run_duration=0, compute_time=0, wait_time=2486, ran_by_user=RanByUser(user_name='Pratiksha Parsai', email='pratiksha.parsai@razorthink.com'), status='YET_TO_START', block_status=[PlatformPipelineBlockRun(pipeline_run_id='219f20dd-a087-4edc-828e-bf40c5db4504', pipeline_name='Walmart Training Pipeline_gpu', pipeline_status='YET_TO_START', block_id='89d41f37-7481-4601-bdd5-50baa9243e73', block_run_id='a1473ae5-a5f8-4515-998e-3db123cd11f2', block_name='Configs_1', resource_spec=ResourceAllocated(cores=2, memory=3000, use_gpu=False, gpu=0, use_gpu_if_available=False, cluster_configuration={'worker': None, 'workerCore': None, 'workerMemory': None, 'numberOfInstances': None, 'maxServerCount': None}, additional_env={}, run_env='PYTHON'), technology='PYTHON', status='READY_TO_GO', containers=[], cluster_id='89d41f37-7481-4601-bdd5-50baa9243e73', _log=None, _metric=None, wait_time=2, compute_time=0, start_time=None, end_time=None, queued_at='2020-12-10T09:50:09.000+00:00'), PlatformPipelineBlockRun(pipeline_run_id='219f20dd-a087-4edc-828e-bf40c5db4504', pipeline_name='Walmart Training Pipeline_gpu', pipeline_status='YET_TO_START', block_id='41eb4ce2-0607-43fb-90f3-ded74ad529c8', block_run_id='f4f4248f-18b7-45ac-aa60-004b80b75d5e', block_name='ValidDataCreator_1', resource_spec=ResourceAllocated(cores=2, memory=8192, use_gpu=False, gpu=0, use_gpu_if_available=False, cluster_configuration={'worker': None, 'workerCore': None, 'workerMemory': None, 'numberOfInstances': None, 'maxServerCount': None}, additional_env={}, run_env='PYTHON'), technology='PYTHON', status='YET_TO_START', containers=[], cluster_id='41eb4ce2-0607-43fb-90f3-ded74ad529c8', _log=None, _metric=None, wait_time=0, compute_time=0, start_time=None, end_time=None, queued_at=None), PlatformPipelineBlockRun(pipeline_run_id='219f20dd-a087-4edc-828e-bf40c5db4504', pipeline_name='Walmart Training Pipeline_gpu', pipeline_status='YET_TO_START', block_id='8ce4fc16-2db8-490d-bc31-5569bd88744c', block_run_id='a725349f-7c1f-41f3-8663-f68305c8ca8c', block_name='Melter_1', resource_spec=ResourceAllocated(cores=2, memory=10192, use_gpu=False, gpu=0, use_gpu_if_available=False, cluster_configuration={'worker': None, 'workerCore': None, 'workerMemory': None, 'numberOfInstances': None, 'maxServerCount': None}, additional_env={}, run_env='PYTHON'), technology='PYTHON', status='YET_TO_START', containers=[], cluster_id='8ce4fc16-2db8-490d-bc31-5569bd88744c', _log=None, _metric=None, wait_time=0, compute_time=0, start_time=None, end_time=None, queued_at=None), PlatformPipelineBlockRun(pipeline_run_id='219f20dd-a087-4edc-828e-bf40c5db4504', pipeline_name='Walmart Training Pipeline_gpu', pipeline_status='YET_TO_START', block_id='c1a31644-4fe1-459f-867e-b47320bea035', block_run_id='37ae87f3-1ca6-4093-8a03-3c751a1c164d', block_name='DataConcatenation_1', resource_spec=ResourceAllocated(cores=2, memory=13000, use_gpu=False, gpu=0, use_gpu_if_available=False, cluster_configuration={'worker': None, 'workerCore': None, 'workerMemory': None, 'numberOfInstances': None, 'maxServerCount': None}, additional_env={}, run_env='PYTHON'), technology='PYTHON', status='YET_TO_START', containers=[], cluster_id='c1a31644-4fe1-459f-867e-b47320bea035', _log=None, _metric=None, wait_time=0, compute_time=0, start_time=None, end_time=None, queued_at=None), PlatformPipelineBlockRun(pipeline_run_id='219f20dd-a087-4edc-828e-bf40c5db4504', pipeline_name='Walmart Training Pipeline_gpu', pipeline_status='YET_TO_START', block_id='c92cc8f9-48ea-4af2-9c0c-e0512e7d1cda', block_run_id='3e344b8f-57c9-4b10-a692-d42c2db72db2', block_name='DataCreator1_1', resource_spec=ResourceAllocated(cores=2, memory=20000, use_gpu=False, gpu=0, use_gpu_if_available=False, cluster_configuration={'worker': None, 'workerCore': None, 'workerMemory': None, 'numberOfInstances': None, 'maxServerCount': None}, additional_env={}, run_env='PYTHON'), technology='PYTHON', status='YET_TO_START', containers=[], cluster_id='c92cc8f9-48ea-4af2-9c0c-e0512e7d1cda', _log=None, _metric=None, wait_time=0, compute_time=0, start_time=None, end_time=None, queued_at=None), PlatformPipelineBlockRun(pipeline_run_id='219f20dd-a087-4edc-828e-bf40c5db4504', pipeline_name='Walmart Training Pipeline_gpu', pipeline_status='YET_TO_START', block_id='06cdc2d1-bc4f-4913-831a-b7c12a879057', block_run_id='f43654f8-7b37-4d94-ad8d-08c2b815fd64', block_name='DataCreator3_1', resource_spec=ResourceAllocated(cores=2, memory=20000, use_gpu=False, gpu=0, use_gpu_if_available=False, cluster_configuration={'worker': None, 'workerCore': None, 'workerMemory': None, 'numberOfInstances': None, 'maxServerCount': None}, additional_env={}, run_env='PYTHON'), technology='PYTHON', status='YET_TO_START', containers=[], cluster_id='06cdc2d1-bc4f-4913-831a-b7c12a879057', _log=None, _metric=None, wait_time=0, compute_time=0, start_time=None, end_time=None, queued_at=None), PlatformPipelineBlockRun(pipeline_run_id='219f20dd-a087-4edc-828e-bf40c5db4504', pipeline_name='Walmart Training Pipeline_gpu', pipeline_status='YET_TO_START', block_id='23740599-853c-46be-9211-58a65cc54b5d', block_run_id='0a8f3464-8daa-4b31-9f17-b849ad1be676', block_name='LagCreator_1', resource_spec=ResourceAllocated(cores=2, memory=20000, use_gpu=False, gpu=0, use_gpu_if_available=False, cluster_configuration={'worker': None, 'workerCore': None, 'workerMemory': None, 'numberOfInstances': None, 'maxServerCount': None}, additional_env={}, run_env='PYTHON'), technology='PYTHON', status='YET_TO_START', containers=[], cluster_id='23740599-853c-46be-9211-58a65cc54b5d', _log=None, _metric=None, wait_time=0, compute_time=0, start_time=None, end_time=None, queued_at=None), PlatformPipelineBlockRun(pipeline_run_id='219f20dd-a087-4edc-828e-bf40c5db4504', pipeline_name='Walmart Training Pipeline_gpu', pipeline_status='YET_TO_START', block_id='717ac426-02b3-417c-a794-0022667e0eba', block_run_id='12fbfe14-9304-405a-a815-0b3eb57263a1', block_name='Encoder_1', resource_spec=ResourceAllocated(cores=2, memory=16192, use_gpu=False, gpu=0, use_gpu_if_available=False, cluster_configuration={'worker': None, 'workerCore': None, 'workerMemory': None, 'numberOfInstances': None, 'maxServerCount': None}, additional_env={}, run_env='PYTHON'), technology='PYTHON', status='YET_TO_START', containers=[], cluster_id='717ac426-02b3-417c-a794-0022667e0eba', _log=None, _metric=None, wait_time=0, compute_time=0, start_time=None, end_time=None, queued_at=None), PlatformPipelineBlockRun(pipeline_run_id='219f20dd-a087-4edc-828e-bf40c5db4504', pipeline_name='Walmart Training Pipeline_gpu', pipeline_status='YET_TO_START', block_id='1ea17616-4cc1-4054-8cc8-27002f971094', block_run_id='5d90ef6b-b73b-46c9-8e3e-a19f2fbbaff6', block_name='DataCreator2_1', resource_spec=ResourceAllocated(cores=2, memory=20000, use_gpu=False, gpu=0, use_gpu_if_available=False, cluster_configuration={'worker': None, 'workerCore': None, 'workerMemory': None, 'numberOfInstances': None, 'maxServerCount': None}, additional_env={}, run_env='PYTHON'), technology='PYTHON', status='YET_TO_START', containers=[], cluster_id='1ea17616-4cc1-4054-8cc8-27002f971094', _log=None, _metric=None, wait_time=0, compute_time=0, start_time=None, end_time=None, queued_at=None), PlatformPipelineBlockRun(pipeline_run_id='219f20dd-a087-4edc-828e-bf40c5db4504', pipeline_name='Walmart Training Pipeline_gpu', pipeline_status='YET_TO_START', block_id='6740eea5-a607-440b-bf6c-ebdc1ce6517f', block_run_id='a6aa5c7f-03f4-49a3-8bba-505febf86ca4', block_name='Train_1', resource_spec=ResourceAllocated(cores=2, memory=36000, use_gpu=True, gpu=1, use_gpu_if_available=False, cluster_configuration={'worker': None, 'workerCore': None, 'workerMemory': None, 'numberOfInstances': None, 'maxServerCount': None}, additional_env={}, run_env='PYTHON'), technology='PYTHON', status='YET_TO_START', containers=[], cluster_id='6740eea5-a607-440b-bf6c-ebdc1ce6517f', _log=None, _metric=None, wait_time=0, compute_time=0, start_time=None, end_time=None, queued_at=None)], run_number=362, pipeline_variable_list=[], block_run_details=[BlockRunDetail(block_id='89d41f37-7481-4601-bdd5-50baa9243e73', block_run_id='a1473ae5-a5f8-4515-998e-3db123cd11f2', block_name='Configs_1', technology='PYTHON', log_path=None, input_parameters='{}', output_parameters=None, status='READY_TO_GO', created_at='2020-12-10T09:50:05.971+00:00', queued_at='2020-12-10T09:50:09.000+00:00', start_time=None, end_time=None, compute_time=0, wait_time=2, run_time=2, block_run_output_list=[BlockRunOutputList(output_id='270213e6-8c9e-4d65-9509-fbc07a5c5f2d', output_name='config', created_on='2020-12-10T09:50:06.292+00:00', output_status='YET_TO_START', block_transport='FILE'), BlockRunOutputList(output_id='f3133955-a019-4bf2-8b01-bacb6f9aee70', output_name='config', created_on='2020-12-10T09:50:06.450+00:00', output_status='YET_TO_START', block_transport='FILE'), BlockRunOutputList(output_id='d3b90851-aa97-423e-a7d2-6c570e84d22d', output_name='config', created_on='2020-12-10T09:50:06.483+00:00', output_status='YET_TO_START', block_transport='FILE'), BlockRunOutputList(output_id='136c7c0f-8675-4dc7-aa7f-fb144fa2d8a1', output_name='config', created_on='2020-12-10T09:50:06.491+00:00', output_status='YET_TO_START', block_transport='FILE'), BlockRunOutputList(output_id='26ceb43d-b4d8-4a91-9b57-bae17057b095', output_name='config', created_on='2020-12-10T09:50:06.516+00:00', output_status='YET_TO_START', block_transport='FILE'), BlockRunOutputList(output_id='5847db6a-157d-481b-899e-df968dd463f0', output_name='config', created_on='2020-12-10T09:50:06.535+00:00', output_status='YET_TO_START', block_transport='FILE')], resource_allocated=ResourceAllocated(cores=2, memory=3000, use_gpu=False, gpu=0, use_gpu_if_available=False, cluster_configuration={'worker': None, 'workerCore': None, 'workerMemory': None, 'numberOfInstances': None, 'maxServerCount': None}, additional_env={}, run_env='PYTHON')), BlockRunDetail(block_id='41eb4ce2-0607-43fb-90f3-ded74ad529c8', block_run_id='f4f4248f-18b7-45ac-aa60-004b80b75d5e', block_name='ValidDataCreator_1', technology='PYTHON', log_path=None, input_parameters=None, output_parameters=None, status='YET_TO_START', created_at='2020-12-10T09:50:06.550+00:00', queued_at=None, start_time=None, end_time=None, compute_time=0, wait_time=0, run_time=0, block_run_output_list=[BlockRunOutputList(output_id='26cc387c-1c46-4378-abf9-33783ac5b8db', output_name='add_grid_path', created_on='2020-12-10T09:50:06.774+00:00', output_status='YET_TO_START', block_transport='FILE')], resource_allocated=ResourceAllocated(cores=2, memory=8192, use_gpu=False, gpu=0, use_gpu_if_available=False, cluster_configuration={'worker': None, 'workerCore': None, 'workerMemory': None, 'numberOfInstances': None, 'maxServerCount': None}, additional_env={}, run_env='PYTHON')), BlockRunDetail(block_id='8ce4fc16-2db8-490d-bc31-5569bd88744c', block_run_id='a725349f-7c1f-41f3-8663-f68305c8ca8c', block_name='Melter_1', technology='PYTHON', log_path=None, input_parameters=None, output_parameters=None, status='YET_TO_START', created_at='2020-12-10T09:50:06.791+00:00', queued_at=None, start_time=None, end_time=None, compute_time=0, wait_time=0, run_time=0, block_run_output_list=[BlockRunOutputList(output_id='9794d0d9-0366-4ebd-817c-adf93026a767', output_name='grid_df_path', created_on='2020-12-10T09:50:07.008+00:00', output_status='YET_TO_START', block_transport='FILE')], resource_allocated=ResourceAllocated(cores=2, memory=10192, use_gpu=False, gpu=0, use_gpu_if_available=False, cluster_configuration={'worker': None, 'workerCore': None, 'workerMemory': None, 'numberOfInstances': None, 'maxServerCount': None}, additional_env={}, run_env='PYTHON')), BlockRunDetail(block_id='c1a31644-4fe1-459f-867e-b47320bea035', block_run_id='37ae87f3-1ca6-4093-8a03-3c751a1c164d', block_name='DataConcatenation_1', technology='PYTHON', log_path=None, input_parameters=None, output_parameters=None, status='YET_TO_START', created_at='2020-12-10T09:50:07.041+00:00', queued_at=None, start_time=None, end_time=None, compute_time=0, wait_time=0, run_time=0, block_run_output_list=[BlockRunOutputList(output_id='ce536269-3e2c-497f-bb8a-f8761a31dc13', output_name='grid_df_int_path', created_on='2020-12-10T09:50:07.291+00:00', output_status='YET_TO_START', block_transport='FILE')], resource_allocated=ResourceAllocated(cores=2, memory=13000, use_gpu=False, gpu=0, use_gpu_if_available=False, cluster_configuration={'worker': None, 'workerCore': None, 'workerMemory': None, 'numberOfInstances': None, 'maxServerCount': None}, additional_env={}, run_env='PYTHON')), BlockRunDetail(block_id='c92cc8f9-48ea-4af2-9c0c-e0512e7d1cda', block_run_id='3e344b8f-57c9-4b10-a692-d42c2db72db2', block_name='DataCreator1_1', technology='PYTHON', log_path=None, input_parameters=None, output_parameters=None, status='YET_TO_START', created_at='2020-12-10T09:50:07.312+00:00', queued_at=None, start_time=None, end_time=None, compute_time=0, wait_time=0, run_time=0, block_run_output_list=[BlockRunOutputList(output_id='fcb4e8fc-10f0-4018-839d-9171f03b4a9d', output_name='grid_pkl_path', created_on='2020-12-10T09:50:07.707+00:00', output_status='YET_TO_START', block_transport='FILE'), BlockRunOutputList(output_id='58fb8f0d-0c90-4cfa-a0a0-663584faeeb6', output_name='grid_pkl_path', created_on='2020-12-10T09:50:07.723+00:00', output_status='YET_TO_START', block_transport='FILE'), BlockRunOutputList(output_id='ae7fe26c-75cf-423d-9dc2-c5c88cbdea38', output_name='grid_pkl_path', created_on='2020-12-10T09:50:07.731+00:00', output_status='YET_TO_START', block_transport='FILE'), BlockRunOutputList(output_id='d60a2c20-117d-41dd-a645-142e7b95f51a', output_name='grid_pkl_path', created_on='2020-12-10T09:50:07.739+00:00', output_status='YET_TO_START', block_transport='FILE'), BlockRunOutputList(output_id='1a719bc0-5784-4054-8f94-bf83f0d575b9', output_name='grid_pkl_path', created_on='2020-12-10T09:50:07.748+00:00', output_status='YET_TO_START', block_transport='FILE')], resource_allocated=ResourceAllocated(cores=2, memory=20000, use_gpu=False, gpu=0, use_gpu_if_available=False, cluster_configuration={'worker': None, 'workerCore': None, 'workerMemory': None, 'numberOfInstances': None, 'maxServerCount': None}, additional_env={}, run_env='PYTHON')), BlockRunDetail(block_id='06cdc2d1-bc4f-4913-831a-b7c12a879057', block_run_id='f43654f8-7b37-4d94-ad8d-08c2b815fd64', block_name='DataCreator3_1', technology='PYTHON', log_path=None, input_parameters=None, output_parameters=None, status='YET_TO_START', created_at='2020-12-10T09:50:07.764+00:00', queued_at=None, start_time=None, end_time=None, compute_time=0, wait_time=0, run_time=0, block_run_output_list=[BlockRunOutputList(output_id='7b9b501c-41e9-4dd7-a0f1-5f1a78704692', output_name='grid_three_df_path', created_on='2020-12-10T09:50:07.967+00:00', output_status='YET_TO_START', block_transport='FILE')], resource_allocated=ResourceAllocated(cores=2, memory=20000, use_gpu=False, gpu=0, use_gpu_if_available=False, cluster_configuration={'worker': None, 'workerCore': None, 'workerMemory': None, 'numberOfInstances': None, 'maxServerCount': None}, additional_env={}, run_env='PYTHON')), BlockRunDetail(block_id='23740599-853c-46be-9211-58a65cc54b5d', block_run_id='0a8f3464-8daa-4b31-9f17-b849ad1be676', block_name='LagCreator_1', technology='PYTHON', log_path=None, input_parameters=None, output_parameters=None, status='YET_TO_START', created_at='2020-12-10T09:50:07.996+00:00', queued_at=None, start_time=None, end_time=None, compute_time=0, wait_time=0, run_time=0, block_run_output_list=[BlockRunOutputList(output_id='6e7d7964-4c71-4c24-99ed-04c73cb8817b', output_name='lag_df_path', created_on='2020-12-10T09:50:08.217+00:00', output_status='YET_TO_START', block_transport='FILE')], resource_allocated=ResourceAllocated(cores=2, memory=20000, use_gpu=False, gpu=0, use_gpu_if_available=False, cluster_configuration={'worker': None, 'workerCore': None, 'workerMemory': None, 'numberOfInstances': None, 'maxServerCount': None}, additional_env={}, run_env='PYTHON')), BlockRunDetail(block_id='717ac426-02b3-417c-a794-0022667e0eba', block_run_id='12fbfe14-9304-405a-a815-0b3eb57263a1', block_name='Encoder_1', technology='PYTHON', log_path=None, input_parameters=None, output_parameters=None, status='YET_TO_START', created_at='2020-12-10T09:50:08.238+00:00', queued_at=None, start_time=None, end_time=None, compute_time=0, wait_time=0, run_time=0, block_run_output_list=[BlockRunOutputList(output_id='634745e7-3f79-4cef-8765-77476be643fd', output_name='encoded_df_path', created_on='2020-12-10T09:50:08.657+00:00', output_status='YET_TO_START', block_transport='FILE')], resource_allocated=ResourceAllocated(cores=2, memory=16192, use_gpu=False, gpu=0, use_gpu_if_available=False, cluster_configuration={'worker': None, 'workerCore': None, 'workerMemory': None, 'numberOfInstances': None, 'maxServerCount': None}, additional_env={}, run_env='PYTHON')), BlockRunDetail(block_id='1ea17616-4cc1-4054-8cc8-27002f971094', block_run_id='5d90ef6b-b73b-46c9-8e3e-a19f2fbbaff6', block_name='DataCreator2_1', technology='PYTHON', log_path=None, input_parameters=None, output_parameters=None, status='YET_TO_START', created_at='2020-12-10T09:50:08.684+00:00', queued_at=None, start_time=None, end_time=None, compute_time=0, wait_time=0, run_time=0, block_run_output_list=[BlockRunOutputList(output_id='b6473223-1880-4114-a7fe-26da78a3df0d', output_name='grid_two_df_path', created_on='2020-12-10T09:50:08.851+00:00', output_status='YET_TO_START', block_transport='FILE')], resource_allocated=ResourceAllocated(cores=2, memory=20000, use_gpu=False, gpu=0, use_gpu_if_available=False, cluster_configuration={'worker': None, 'workerCore': None, 'workerMemory': None, 'numberOfInstances': None, 'maxServerCount': None}, additional_env={}, run_env='PYTHON')), BlockRunDetail(block_id='6740eea5-a607-440b-bf6c-ebdc1ce6517f', block_run_id='a6aa5c7f-03f4-49a3-8bba-505febf86ca4', block_name='Train_1', technology='PYTHON', log_path=None, input_parameters=None, output_parameters=None, status='YET_TO_START', created_at='2020-12-10T09:50:08.973+00:00', queued_at=None, start_time=None, end_time=None, compute_time=0, wait_time=0, run_time=0, block_run_output_list=[], resource_allocated=ResourceAllocated(cores=2, memory=36000, use_gpu=True, gpu=1, use_gpu_if_available=False, cluster_configuration={'worker': None, 'workerCore': None, 'workerMemory': None, 'numberOfInstances': None, 'maxServerCount': None}, additional_env={}, run_env='PYTHON'))], pipeline_json='{\\n  \"id\": \"141100e0-3acd-11eb-afb1-0242ac110005\",\\n  \"projectId\": \"c0b26d85-a4c9-44f5-9d0e-f540dd2de644\",\\n  \"name\": \"Walmart Training Pipeline_gpu\",\\n  \"description\": \"\",\\n  \"blocks\": [\\n    {\\n      \"name\": \"Train_1\",\\n      \"id\": \"6740eea5-a607-440b-bf6c-ebdc1ce6517f\",\\n      \"artifact_id\": null,\\n      \"class_name\": \"Train\",\\n      \"code\": \"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\",\\n      \"isPublishedBlock\": false,\\n      \"source\": null,\\n      \"inputProperty\": {\\n        \"BASE\": {\\n          \"dtype\": \"Any\",\\n          \"required\": \"false\",\\n          \"series\": false,\\n          \"adapter\": \"eJxrYJmqxgABPYJFiVX5RXppOfnlern5Kak5xVN6ePLy8wviE1MSC0pSi6ZMnqIHAF/+ELQ=\",\\n          \"validator\": \"eJxrYJmqwQABPYJFiVX5RXppOfnlern5Kak5xVN6+PLy8wviyxJzMlMSS/KLpkyeogcAg2wRnQ==\",\\n          \"source_id\": \"c92cc8f9-48ea-4af2-9c0c-e0512e7d1cda\",\\n          \"source_name\": \"grid_pkl_path\",\\n          \"inferred_type\": \"BLOCK\",\\n          \"value\": null\\n        },\\n        \"PRICE\": {\\n          \"dtype\": \"Any\",\\n          \"required\": \"false\",\\n          \"series\": false,\\n          \"adapter\": \"eJxrYJmqxgABPYJFiVX5RXppOfnlern5Kak5xVN6ePLy8wviE1MSC0pSi6ZMnqIHAF/+ELQ=\",\\n          \"validator\": \"eJxrYJmqwQABPYJFiVX5RXppOfnlern5Kak5xVN6+PLy8wviyxJzMlMSS/KLpkyeogcAg2wRnQ==\",\\n          \"source_id\": \"1ea17616-4cc1-4054-8cc8-27002f971094\",\\n          \"source_name\": \"grid_two_df_path\",\\n          \"inferred_type\": \"BLOCK\",\\n          \"value\": null\\n        },\\n        \"CALENDAR\": {\\n          \"dtype\": \"Any\",\\n          \"required\": \"false\",\\n          \"series\": false,\\n          \"adapter\": \"eJxrYJmqxgABPYJFiVX5RXppOfnlern5Kak5xVN6ePLy8wviE1MSC0pSi6ZMnqIHAF/+ELQ=\",\\n          \"validator\": \"eJxrYJmqwQABPYJFiVX5RXppOfnlern5Kak5xVN6+PLy8wviyxJzMlMSS/KLpkyeogcAg2wRnQ==\",\\n          \"source_id\": \"06cdc2d1-bc4f-4913-831a-b7c12a879057\",\\n          \"source_name\": \"grid_three_df_path\",\\n          \"inferred_type\": \"BLOCK\",\\n          \"value\": null\\n        },\\n        \"LAGS\": {\\n          \"dtype\": \"Any\",\\n          \"required\": \"false\",\\n          \"series\": false,\\n          \"adapter\": \"eJxrYJmqxgABPYJFiVX5RXppOfnlern5Kak5xVN6ePLy8wviE1MSC0pSi6ZMnqIHAF/+ELQ=\",\\n          \"validator\": \"eJxrYJmqwQABPYJFiVX5RXppOfnlern5Kak5xVN6+PLy8wviyxJzMlMSS/KLpkyeogcAg2wRnQ==\",\\n          \"source_id\": \"23740599-853c-46be-9211-58a65cc54b5d\",\\n          \"source_name\": \"lag_df_path\",\\n          \"inferred_type\": \"BLOCK\",\\n          \"value\": null\\n        },\\n        \"MEAN_ENC\": {\\n          \"dtype\": \"Any\",\\n          \"required\": \"false\",\\n          \"series\": false,\\n          \"adapter\": \"eJxrYJmqxgABPYJFiVX5RXppOfnlern5Kak5xVN6ePLy8wviE1MSC0pSi6ZMnqIHAF/+ELQ=\",\\n          \"validator\": \"eJxrYJmqwQABPYJFiVX5RXppOfnlern5Kak5xVN6+PLy8wviyxJzMlMSS/KLpkyeogcAg2wRnQ==\",\\n          \"source_id\": \"717ac426-02b3-417c-a794-0022667e0eba\",\\n          \"source_name\": \"encoded_df_path\",\\n          \"inferred_type\": \"BLOCK\",\\n          \"value\": null\\n        }\\n      },\\n      \"outputProperty\": {},\\n      \"resourceRequirement\": {\\n        \"cores\": 2,\\n        \"memory\": 36000,\\n        \"useGpu\": true,\\n        \"gpu\": 1,\\n        \"useGpuIfAvailable\": false,\\n        \"clusterConfiguration\": {\\n          \"worker\": null,\\n          \"workerCore\": null,\\n          \"workerMemory\": null,\\n          \"numberOfInstances\": null,\\n          \"maxServerCount\": null\\n        },\\n        \"additionalEnv\": {},\\n        \"runEnv\": \"PYTHON\",\\n        \"dataSourceCredInfo\": {}\\n      },\\n      \"executionType\": \"BlockExecutor\",\\n      \"dependencies\": [\\n        {\\n          \"libraryId\": \"24d05fb2-8916-4d25-8127-276e57d0bc8d\",\\n          \"libraryVersionId\": \"67ceac05-426d-4c9a-a069-ceb1350c1623\"\\n        },\\n        {\\n          \"libraryId\": \"24d05fb2-8916-4d25-8127-276e57d0bc8d\",\\n          \"libraryVersionId\": \"67ceac05-426d-4c9a-a069-ceb1350c1623\"\\n        }\\n      ],\\n      \"system_dependencies\": null,\\n      \"meta_data\": null,\\n      \"process_id\": null,\\n      \"eta\": 0,\\n      \"services\": {}\\n    },\\n    {\\n      \"name\": \"DataCreator1_1\",\\n      \"id\": \"c92cc8f9-48ea-4af2-9c0c-e0512e7d1cda\",\\n      \"artifact_id\": null,\\n      \"class_name\": \"DataCreator1\",\\n      \"code\": \"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\",\\n      \"isPublishedBlock\": false,\\n      \"source\": null,\\n      \"inputProperty\": {\\n        \"grid_df_path\": {\\n          \"dtype\": \"Any\",\\n          \"required\": \"false\",\\n          \"series\": false,\\n          \"adapter\": \"eJxrYJmqxgABPYJFiVX5RXppOfnlern5Kak5xVN6ePLy8wviE1MSC0pSi6ZMnqIHAF/+ELQ=\",\\n          \"validator\": \"eJxrYJmqwQABPYJFiVX5RXppOfnlern5Kak5xVN6+PLy8wviyxJzMlMSS/KLpkyeogcAg2wRnQ==\",\\n          \"source_id\": \"c1a31644-4fe1-459f-867e-b47320bea035\",\\n          \"source_name\": \"grid_df_int_path\",\\n          \"inferred_type\": \"BLOCK\",\\n          \"value\": null\\n        },\\n        \"config\": {\\n          \"dtype\": \"Any\",\\n          \"required\": \"false\",\\n          \"series\": false,\\n          \"adapter\": \"eJxrYJmqxgABPYJFiVX5RXppOfnlern5Kak5xVN6ePLy8wviE1MSC0pSi6ZMnqIHAF/+ELQ=\",\\n          \"validator\": \"eJxrYJmqwQABPYJFiVX5RXppOfnlern5Kak5xVN6+PLy8wviyxJzMlMSS/KLpkyeogcAg2wRnQ==\",\\n          \"source_id\": \"89d41f37-7481-4601-bdd5-50baa9243e73\",\\n          \"source_name\": \"config\",\\n          \"inferred_type\": \"BLOCK\",\\n          \"value\": null\\n        }\\n      },\\n      \"outputProperty\": {\\n        \"grid_pkl_path\": {\\n          \"series\": false,\\n          \"adapter\": \"eJxrYJmqxgABPYJFiVX5RXppOfnlern5Kak5xVN6ePLy8wviE1MSC0pSi6ZMnqIHAF/+ELQ=\",\\n          \"transport\": \"FILE\"\\n        }\\n      },\\n      \"resourceRequirement\": {\\n        \"cores\": 2,\\n        \"memory\": 20000,\\n        \"useGpu\": false,\\n        \"gpu\": 0,\\n        \"useGpuIfAvailable\": false,\\n        \"clusterConfiguration\": {\\n          \"worker\": null,\\n          \"workerCore\": null,\\n          \"workerMemory\": null,\\n          \"numberOfInstances\": null,\\n          \"maxServerCount\": null\\n        },\\n        \"additionalEnv\": {},\\n        \"runEnv\": \"PYTHON\",\\n        \"dataSourceCredInfo\": {}\\n      },\\n      \"executionType\": \"BlockExecutor\",\\n      \"dependencies\": [],\\n      \"system_dependencies\": null,\\n      \"meta_data\": null,\\n      \"process_id\": null,\\n      \"eta\": 0,\\n      \"services\": {}\\n    },\\n    {\\n      \"name\": \"DataConcatenation_1\",\\n      \"id\": \"c1a31644-4fe1-459f-867e-b47320bea035\",\\n      \"artifact_id\": null,\\n      \"class_name\": \"DataConcatenation\",\\n      \"code\": \"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\",\\n      \"isPublishedBlock\": false,\\n      \"source\": null,\\n      \"inputProperty\": {\\n        \"grid_df_path\": {\\n          \"dtype\": \"Any\",\\n          \"required\": \"false\",\\n          \"series\": false,\\n          \"adapter\": \"eJxrYJmqxgABPYJFiVX5RXppOfnlern5Kak5xVN6ePLy8wviE1MSC0pSi6ZMnqIHAF/+ELQ=\",\\n          \"validator\": \"eJxrYJmqwQABPYJFiVX5RXppOfnlern5Kak5xVN6+PLy8wviyxJzMlMSS/KLpkyeogcAg2wRnQ==\",\\n          \"source_id\": \"8ce4fc16-2db8-490d-bc31-5569bd88744c\",\\n          \"source_name\": \"grid_df_path\",\\n          \"inferred_type\": \"BLOCK\",\\n          \"value\": null\\n        },\\n        \"add_grid_path\": {\\n          \"dtype\": \"Any\",\\n          \"required\": \"false\",\\n          \"series\": false,\\n          \"adapter\": \"eJxrYJmqxgABPYJFiVX5RXppOfnlern5Kak5xVN6ePLy8wviE1MSC0pSi6ZMnqIHAF/+ELQ=\",\\n          \"validator\": \"eJxrYJmqwQABPYJFiVX5RXppOfnlern5Kak5xVN6+PLy8wviyxJzMlMSS/KLpkyeogcAg2wRnQ==\",\\n          \"source_id\": \"41eb4ce2-0607-43fb-90f3-ded74ad529c8\",\\n          \"source_name\": \"add_grid_path\",\\n          \"inferred_type\": \"BLOCK\",\\n          \"value\": null\\n        },\\n        \"config\": {\\n          \"dtype\": \"Any\",\\n          \"required\": \"false\",\\n          \"series\": false,\\n          \"adapter\": \"eJxrYJmqxgABPYJFiVX5RXppOfnlern5Kak5xVN6ePLy8wviE1MSC0pSi6ZMnqIHAF/+ELQ=\",\\n          \"validator\": \"eJxrYJmqwQABPYJFiVX5RXppOfnlern5Kak5xVN6+PLy8wviyxJzMlMSS/KLpkyeogcAg2wRnQ==\",\\n          \"source_id\": \"89d41f37-7481-4601-bdd5-50baa9243e73\",\\n          \"source_name\": \"config\",\\n          \"inferred_type\": \"BLOCK\",\\n          \"value\": null\\n        }\\n      },\\n      \"outputProperty\": {\\n        \"grid_df_int_path\": {\\n          \"series\": false,\\n          \"adapter\": \"eJxrYJmqxgABPYJFiVX5RXppOfnlern5Kak5xVN6ePLy8wviE1MSC0pSi6ZMnqIHAF/+ELQ=\",\\n          \"transport\": \"FILE\"\\n        }\\n      },\\n      \"resourceRequirement\": {\\n        \"cores\": 2,\\n        \"memory\": 13000,\\n        \"useGpu\": false,\\n        \"gpu\": 0,\\n        \"useGpuIfAvailable\": false,\\n        \"clusterConfiguration\": {\\n          \"worker\": null,\\n          \"workerCore\": null,\\n          \"workerMemory\": null,\\n          \"numberOfInstances\": null,\\n          \"maxServerCount\": null\\n        },\\n        \"additionalEnv\": {},\\n        \"runEnv\": \"PYTHON\",\\n        \"dataSourceCredInfo\": {}\\n      },\\n      \"executionType\": \"BlockExecutor\",\\n      \"dependencies\": [],\\n      \"system_dependencies\": null,\\n      \"meta_data\": null,\\n      \"process_id\": null,\\n      \"eta\": 0,\\n      \"services\": {}\\n    },\\n    {\\n      \"name\": \"Melter_1\",\\n      \"id\": \"8ce4fc16-2db8-490d-bc31-5569bd88744c\",\\n      \"artifact_id\": null,\\n      \"class_name\": \"Melter\",\\n      \"code\": \"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\",\\n      \"isPublishedBlock\": false,\\n      \"source\": null,\\n      \"inputProperty\": {\\n        \"path\": {\\n          \"dtype\": \"Any\",\\n          \"required\": \"false\",\\n          \"series\": false,\\n          \"adapter\": \"eJxrYJmqxgABPYJFiVX5RXppOfnlern5Kak5xVN6ePLy8wviE1MSC0pSi6ZMnqIHAF/+ELQ=\",\\n          \"validator\": \"eJxrYJmqwQABPYJFiVX5RXppOfnlern5Kak5xVN6+PLy8wviyxJzMlMSS/KLpkyeogcAg2wRnQ==\",\\n          \"source_id\": null,\\n          \"source_name\": null,\\n          \"inferred_type\": \"STATIC\",\\n          \"value\": \"eJxrYJkqxwABPVK+pm75RanJicUlmXnp+iVFiZl58SlpesnFZVP0ANu4DIc=\"\\n        },\\n        \"config\": {\\n          \"dtype\": \"Any\",\\n          \"required\": \"false\",\\n          \"series\": false,\\n          \"adapter\": \"eJxrYJmqxgABPYJFiVX5RXppOfnlern5Kak5xVN6ePLy8wviE1MSC0pSi6ZMnqIHAF/+ELQ=\",\\n          \"validator\": \"eJxrYJmqwQABPYJFiVX5RXppOfnlern5Kak5xVN6+PLy8wviyxJzMlMSS/KLpkyeogcAg2wRnQ==\",\\n          \"source_id\": \"89d41f37-7481-4601-bdd5-50baa9243e73\",\\n          \"source_name\": \"config\",\\n          \"inferred_type\": \"BLOCK\",\\n          \"value\": null\\n        }\\n      },\\n      \"outputProperty\": {\\n        \"grid_df_path\": {\\n          \"series\": false,\\n          \"adapter\": \"eJxrYJmqxgABPYJFiVX5RXppOfnlern5Kak5xVN6ePLy8wviE1MSC0pSi6ZMnqIHAF/+ELQ=\",\\n          \"transport\": \"FILE\"\\n        }\\n      },\\n      \"resourceRequirement\": {\\n        \"cores\": 2,\\n        \"memory\": 10192,\\n        \"useGpu\": false,\\n        \"gpu\": 0,\\n        \"useGpuIfAvailable\": false,\\n        \"clusterConfiguration\": {\\n          \"worker\": null,\\n          \"workerCore\": null,\\n          \"workerMemory\": null,\\n          \"numberOfInstances\": null,\\n          \"maxServerCount\": null\\n        },\\n        \"additionalEnv\": {},\\n        \"runEnv\": \"PYTHON\",\\n        \"dataSourceCredInfo\": {}\\n      },\\n      \"executionType\": \"BlockExecutor\",\\n      \"dependencies\": [],\\n      \"system_dependencies\": null,\\n      \"meta_data\": null,\\n      \"process_id\": null,\\n      \"eta\": 0,\\n      \"services\": {}\\n    },\\n    {\\n      \"name\": \"Configs_1\",\\n      \"id\": \"89d41f37-7481-4601-bdd5-50baa9243e73\",\\n      \"artifact_id\": null,\\n      \"class_name\": \"Configs\",\\n      \"code\": \"eJyNVc9vE0cU3l3/jEMCBAoq/UHVk4kU2zgOJFWElJrQUitLFXIoBzQa74w9i9e7Zmc2iVGQWqFAkObQimkvbaVy6d9QzpX6b7VvZtexQRyaKPGbN+M373vve998n//5/pxlfuRlL4gSMvK9QUBrM7aSH6KYsjGJsaCID2hARRQiL8Ccq1eqyix5EQ3x4H17stxN/ED4IVcyL8YjCk5Zakdhz+9zxZwqy1dZiZVZQRaj7iPqCThwrJ7CIYRI5CGkXC4/azZJq9do4ebN1Var1aTrZLWBe15zA9Nmq7V2Q7lC7cK3qrKC0DAiSUDhm7IMC+yH2jyLEA7DSGDhRyEHD1xR9EweSs6haEQBXRTDvX0qfEGHOtGlGD+J4loviA5qUSJGiQAYxXvG0vtFQOSHECC3FY7B8RyS4OwS+/jaDyaZQoC7NFCuLHIa+5SrlzLPaDACT35IBdZJpFVhV2U+xEMwLsk5EeOQj6JYKPnBTAanbkhi4Y4f0L3Tc69UduOcz9HkLrbsyoKIoIlw3zynIaExMsdduRBTj/r7U0flcUIT6KD/hKqOJc8yzJEf+sLHAbiIepl0ZUWnijxGvYE6gXUuTkIF3V9EPT8IUC8JPV3djBNnp5wwW+AG7wLKCIEmbCi3I0L39OIYylft2B2r43TmOu12i9jEITmS7+v/BVIkJVImc/0iqZB5coYs/FZ6ah9Zj6w/7CP7tW1bxLpvqSqg5jiACuyMS9LxiZI2/JV0U5FelQgdCWMVPZwaZQ69pxNT01yb1Z21O+D2MId8+3UTFEEXIPl9KAsxXKp5fF/JT945SqEeo9j3KE/3r7y970GokODYbFZlcW9r96vtPSDitnsb7e1u3XWVrOzAB7rr3t7+DvrtQ/cOkRcFyVDPUiVNY4QFU3I+vSlbLUyCp2sBv0CqnKbsc6AbpNYDwhJgBSyvbvqjsWBRuOKHcGKl2VhprPawd3Nj/WYP924ptt4ptJesnGM7jmPnnUUbLLvsqGvX9Mh98y/8aOLNI7jOG+C+HjxXT56mM9jsQvIim81SP4i6OOCa9mVCezgJgMswC5CM0M5FUB2eQCOgvAnVW8V0mCEKW2brkHakyXwZzcgT4kk3PcXVQyjGzJibix4nODCjJecz3alp3srK4GCaQyJ2QQWQmVcDYBGhKdvBc6JPnJ+Zxm4QeQPoROFLbZjhf6rYglYrcuN643pjdQ2vrq23PG+t2+o2mhuNVUo3umSdXD9VK7bEDuQ5hEwsZDqQSdP5iTOTHeMFZfmcy6XJFsz5vum7+QYIXCpnKK2ecuF4QZZHsdY2MTZT+UWVbbKtdMbsTqFzob0krCOL2CfWrxZxfs89c2CCXOloySxNIr1IVRELEcOMsgfHSrbqLBrS+qNof4zDeuB3eb2WVXPFrEyl6rpS9bRStdEYBg7CCBqrzt9tx7IVWz5WhkYdW1cDy8q0wIp1oTjAI9AWw6MfJzxiPSgFc5kPH4OHUBXMAnYA/PiJDV0WgmcEO7H8NBWgSQFqm5AHsO9WLUuCCd3205o4RnfyUJNzJ6AqJ9aR/SyXaYoLebIHspDW4zkkoyU9hfJPBsV4UC+E7RSTw355f8ZV6MyBvJD1FumXAGXRXimagfnzf4Lhs2BcwyxdNa3dumrvorvfviK0XlpaL8FyjgDna2eKkx2yN6DS8C5wMYnyAprOlkEuyptcxCBgoAtvOk47bzkV+20lmEV8yMYcYENMA9xlgQvA3swCWwaK5iAmAOeA8iMvplp9e+EU4BSLgSjPIEQPqZeAYmuWXpyZyYkfxvI8zLoAiaTxduacPpIFw0igecEDTebQKdAZOozisdr5a17m+qPEvIHwieA9jUZaTHAAr3eOhiDmxW8f7H19z1XwBF5CZvx1jvBuhB4IRpSEAggNqdb+A6HPjhs=\",\\n      \"isPublishedBlock\": false,\\n      \"source\": null,\\n      \"inputProperty\": {},\\n      \"outputProperty\": {\\n        \"config\": {\\n          \"series\": false,\\n          \"adapter\": \"eJxrYJmqxgABPYJFiVX5RXppOfnlern5Kak5xVN6ePLy8wviE1MSC0pSi6ZMnqIHAF/+ELQ=\",\\n          \"transport\": \"FILE\"\\n        }\\n      },\\n      \"resourceRequirement\": {\\n        \"cores\": 2,\\n        \"memory\": 3000,\\n        \"useGpu\": false,\\n        \"gpu\": 0,\\n        \"useGpuIfAvailable\": false,\\n        \"clusterConfiguration\": {\\n          \"worker\": null,\\n          \"workerCore\": null,\\n          \"workerMemory\": null,\\n          \"numberOfInstances\": null,\\n          \"maxServerCount\": null\\n        },\\n        \"additionalEnv\": {},\\n        \"runEnv\": \"PYTHON\",\\n        \"dataSourceCredInfo\": {}\\n      },\\n      \"executionType\": \"BlockExecutor\",\\n      \"dependencies\": [],\\n      \"system_dependencies\": null,\\n      \"meta_data\": null,\\n      \"process_id\": null,\\n      \"eta\": 0,\\n      \"services\": {}\\n    },\\n    {\\n      \"name\": \"ValidDataCreator_1\",\\n      \"id\": \"41eb4ce2-0607-43fb-90f3-ded74ad529c8\",\\n      \"artifact_id\": null,\\n      \"class_name\": \"ValidDataCreator\",\\n      \"code\": \"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\",\\n      \"isPublishedBlock\": false,\\n      \"source\": null,\\n      \"inputProperty\": {\\n        \"path\": {\\n          \"dtype\": \"Any\",\\n          \"required\": \"false\",\\n          \"series\": false,\\n          \"adapter\": \"eJxrYJmqxgABPYJFiVX5RXppOfnlern5Kak5xVN6ePLy8wviE1MSC0pSi6ZMnqIHAF/+ELQ=\",\\n          \"validator\": \"eJxrYJmqwQABPYJFiVX5RXppOfnlern5Kak5xVN6+PLy8wviyxJzMlMSS/KLpkyeogcAg2wRnQ==\",\\n          \"source_id\": null,\\n          \"source_name\": null,\\n          \"inferred_type\": \"STATIC\",\\n          \"value\": \"eJxrYJkqxwABPVK+pm75RanJicUlmXnp+iVFiZl58SlpesnFZVP0ANu4DIc=\"\\n        },\\n        \"config\": {\\n          \"dtype\": \"Any\",\\n          \"required\": \"false\",\\n          \"series\": false,\\n          \"adapter\": \"eJxrYJmqxgABPYJFiVX5RXppOfnlern5Kak5xVN6ePLy8wviE1MSC0pSi6ZMnqIHAF/+ELQ=\",\\n          \"validator\": \"eJxrYJmqwQABPYJFiVX5RXppOfnlern5Kak5xVN6+PLy8wviyxJzMlMSS/KLpkyeogcAg2wRnQ==\",\\n          \"source_id\": \"89d41f37-7481-4601-bdd5-50baa9243e73\",\\n          \"source_name\": \"config\",\\n          \"inferred_type\": \"BLOCK\",\\n          \"value\": null\\n        }\\n      },\\n      \"outputProperty\": {\\n        \"add_grid_path\": {\\n          \"series\": false,\\n          \"adapter\": \"eJxrYJmqxgABPYJFiVX5RXppOfnlern5Kak5xVN6ePLy8wviE1MSC0pSi6ZMnqIHAF/+ELQ=\",\\n          \"transport\": \"FILE\"\\n        }\\n      },\\n      \"resourceRequirement\": {\\n        \"cores\": 2,\\n        \"memory\": 8192,\\n        \"useGpu\": false,\\n        \"gpu\": 0,\\n        \"useGpuIfAvailable\": false,\\n        \"clusterConfiguration\": {\\n          \"worker\": null,\\n          \"workerCore\": null,\\n          \"workerMemory\": null,\\n          \"numberOfInstances\": null,\\n          \"maxServerCount\": null\\n        },\\n        \"additionalEnv\": {},\\n        \"runEnv\": \"PYTHON\",\\n        \"dataSourceCredInfo\": {}\\n      },\\n      \"executionType\": \"BlockExecutor\",\\n      \"dependencies\": [],\\n      \"system_dependencies\": null,\\n      \"meta_data\": null,\\n      \"process_id\": null,\\n      \"eta\": 0,\\n      \"services\": {}\\n    },\\n    {\\n      \"name\": \"DataCreator2_1\",\\n      \"id\": \"1ea17616-4cc1-4054-8cc8-27002f971094\",\\n      \"artifact_id\": null,\\n      \"class_name\": \"DataCreator2\",\\n      \"code\": \"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\",\\n      \"isPublishedBlock\": false,\\n      \"source\": null,\\n      \"inputProperty\": {\\n        \"grid_path\": {\\n          \"dtype\": \"Any\",\\n          \"required\": \"false\",\\n          \"series\": false,\\n          \"adapter\": \"eJxrYJmqxgABPYJFiVX5RXppOfnlern5Kak5xVN6ePLy8wviE1MSC0pSi6ZMnqIHAF/+ELQ=\",\\n          \"validator\": \"eJxrYJmqwQABPYJFiVX5RXppOfnlern5Kak5xVN6+PLy8wviyxJzMlMSS/KLpkyeogcAg2wRnQ==\",\\n          \"source_id\": \"c92cc8f9-48ea-4af2-9c0c-e0512e7d1cda\",\\n          \"source_name\": \"grid_pkl_path\",\\n          \"inferred_type\": \"BLOCK\",\\n          \"value\": null\\n        },\\n        \"config\": {\\n          \"dtype\": \"Any\",\\n          \"required\": \"false\",\\n          \"series\": false,\\n          \"adapter\": \"eJxrYJmqxgABPYJFiVX5RXppOfnlern5Kak5xVN6ePLy8wviE1MSC0pSi6ZMnqIHAF/+ELQ=\",\\n          \"validator\": \"eJxrYJmqwQABPYJFiVX5RXppOfnlern5Kak5xVN6+PLy8wviyxJzMlMSS/KLpkyeogcAg2wRnQ==\",\\n          \"source_id\": \"89d41f37-7481-4601-bdd5-50baa9243e73\",\\n          \"source_name\": \"config\",\\n          \"inferred_type\": \"BLOCK\",\\n          \"value\": null\\n        }\\n      },\\n      \"outputProperty\": {\\n        \"grid_two_df_path\": {\\n          \"series\": false,\\n          \"adapter\": \"eJxrYJmqxgABPYJFiVX5RXppOfnlern5Kak5xVN6ePLy8wviE1MSC0pSi6ZMnqIHAF/+ELQ=\",\\n          \"transport\": \"FILE\"\\n        }\\n      },\\n      \"resourceRequirement\": {\\n        \"cores\": 2,\\n        \"memory\": 20000,\\n        \"useGpu\": false,\\n        \"gpu\": 0,\\n        \"useGpuIfAvailable\": false,\\n        \"clusterConfiguration\": {\\n          \"worker\": null,\\n          \"workerCore\": null,\\n          \"workerMemory\": null,\\n          \"numberOfInstances\": null,\\n          \"maxServerCount\": null\\n        },\\n        \"additionalEnv\": {},\\n        \"runEnv\": \"PYTHON\",\\n        \"dataSourceCredInfo\": {}\\n      },\\n      \"executionType\": \"BlockExecutor\",\\n      \"dependencies\": [],\\n      \"system_dependencies\": null,\\n      \"meta_data\": null,\\n      \"process_id\": null,\\n      \"eta\": 0,\\n      \"services\": {}\\n    },\\n    {\\n      \"name\": \"DataCreator3_1\",\\n      \"id\": \"06cdc2d1-bc4f-4913-831a-b7c12a879057\",\\n      \"artifact_id\": null,\\n      \"class_name\": \"DataCreator3\",\\n      \"code\": \"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\",\\n      \"isPublishedBlock\": false,\\n      \"source\": null,\\n      \"inputProperty\": {\\n        \"grid_path\": {\\n          \"dtype\": \"Any\",\\n          \"required\": \"false\",\\n          \"series\": false,\\n          \"adapter\": \"eJxrYJmqxgABPYJFiVX5RXppOfnlern5Kak5xVN6ePLy8wviE1MSC0pSi6ZMnqIHAF/+ELQ=\",\\n          \"validator\": \"eJxrYJmqwQABPYJFiVX5RXppOfnlern5Kak5xVN6+PLy8wviyxJzMlMSS/KLpkyeogcAg2wRnQ==\",\\n          \"source_id\": \"c92cc8f9-48ea-4af2-9c0c-e0512e7d1cda\",\\n          \"source_name\": \"grid_pkl_path\",\\n          \"inferred_type\": \"BLOCK\",\\n          \"value\": null\\n        },\\n        \"config\": {\\n          \"dtype\": \"Any\",\\n          \"required\": \"false\",\\n          \"series\": false,\\n          \"adapter\": \"eJxrYJmqxgABPYJFiVX5RXppOfnlern5Kak5xVN6ePLy8wviE1MSC0pSi6ZMnqIHAF/+ELQ=\",\\n          \"validator\": \"eJxrYJmqwQABPYJFiVX5RXppOfnlern5Kak5xVN6+PLy8wviyxJzMlMSS/KLpkyeogcAg2wRnQ==\",\\n          \"source_id\": \"89d41f37-7481-4601-bdd5-50baa9243e73\",\\n          \"source_name\": \"config\",\\n          \"inferred_type\": \"BLOCK\",\\n          \"value\": null\\n        }\\n      },\\n      \"outputProperty\": {\\n        \"grid_three_df_path\": {\\n          \"series\": false,\\n          \"adapter\": \"eJxrYJmqxgABPYJFiVX5RXppOfnlern5Kak5xVN6ePLy8wviE1MSC0pSi6ZMnqIHAF/+ELQ=\",\\n          \"transport\": \"FILE\"\\n        }\\n      },\\n      \"resourceRequirement\": {\\n        \"cores\": 2,\\n        \"memory\": 20000,\\n        \"useGpu\": false,\\n        \"gpu\": 0,\\n        \"useGpuIfAvailable\": false,\\n        \"clusterConfiguration\": {\\n          \"worker\": null,\\n          \"workerCore\": null,\\n          \"workerMemory\": null,\\n          \"numberOfInstances\": null,\\n          \"maxServerCount\": null\\n        },\\n        \"additionalEnv\": {},\\n        \"runEnv\": \"PYTHON\",\\n        \"dataSourceCredInfo\": {}\\n      },\\n      \"executionType\": \"BlockExecutor\",\\n      \"dependencies\": [],\\n      \"system_dependencies\": null,\\n      \"meta_data\": null,\\n      \"process_id\": null,\\n      \"eta\": 0,\\n      \"services\": {}\\n    },\\n    {\\n      \"name\": \"LagCreator_1\",\\n      \"id\": \"23740599-853c-46be-9211-58a65cc54b5d\",\\n      \"artifact_id\": null,\\n      \"class_name\": \"LagCreator\",\\n      \"code\": \"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\",\\n      \"isPublishedBlock\": false,\\n      \"source\": null,\\n      \"inputProperty\": {\\n        \"grid_path\": {\\n          \"dtype\": \"Any\",\\n          \"required\": \"false\",\\n          \"series\": false,\\n          \"adapter\": \"eJxrYJmqxgABPYJFiVX5RXppOfnlern5Kak5xVN6ePLy8wviE1MSC0pSi6ZMnqIHAF/+ELQ=\",\\n          \"validator\": \"eJxrYJmqwQABPYJFiVX5RXppOfnlern5Kak5xVN6+PLy8wviyxJzMlMSS/KLpkyeogcAg2wRnQ==\",\\n          \"source_id\": \"c92cc8f9-48ea-4af2-9c0c-e0512e7d1cda\",\\n          \"source_name\": \"grid_pkl_path\",\\n          \"inferred_type\": \"BLOCK\",\\n          \"value\": null\\n        }\\n      },\\n      \"outputProperty\": {\\n        \"lag_df_path\": {\\n          \"series\": false,\\n          \"adapter\": \"eJxrYJmqxgABPYJFiVX5RXppOfnlern5Kak5xVN6ePLy8wviE1MSC0pSi6ZMnqIHAF/+ELQ=\",\\n          \"transport\": \"FILE\"\\n        }\\n      },\\n      \"resourceRequirement\": {\\n        \"cores\": 2,\\n        \"memory\": 20000,\\n        \"useGpu\": false,\\n        \"gpu\": 0,\\n        \"useGpuIfAvailable\": false,\\n        \"clusterConfiguration\": {\\n          \"worker\": null,\\n          \"workerCore\": null,\\n          \"workerMemory\": null,\\n          \"numberOfInstances\": null,\\n          \"maxServerCount\": null\\n        },\\n        \"additionalEnv\": {},\\n        \"runEnv\": \"PYTHON\",\\n        \"dataSourceCredInfo\": {}\\n      },\\n      \"executionType\": \"BlockExecutor\",\\n      \"dependencies\": [],\\n      \"system_dependencies\": null,\\n      \"meta_data\": null,\\n      \"process_id\": null,\\n      \"eta\": 0,\\n      \"services\": {}\\n    },\\n    {\\n      \"name\": \"Encoder_1\",\\n      \"id\": \"717ac426-02b3-417c-a794-0022667e0eba\",\\n      \"artifact_id\": null,\\n      \"class_name\": \"Encoder\",\\n      \"code\": \"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\",\\n      \"isPublishedBlock\": false,\\n      \"source\": null,\\n      \"inputProperty\": {\\n        \"grid_path\": {\\n          \"dtype\": \"Any\",\\n          \"required\": \"false\",\\n          \"series\": false,\\n          \"adapter\": \"eJxrYJmqxgABPYJFiVX5RXppOfnlern5Kak5xVN6ePLy8wviE1MSC0pSi6ZMnqIHAF/+ELQ=\",\\n          \"validator\": \"eJxrYJmqwQABPYJFiVX5RXppOfnlern5Kak5xVN6+PLy8wviyxJzMlMSS/KLpkyeogcAg2wRnQ==\",\\n          \"source_id\": \"c92cc8f9-48ea-4af2-9c0c-e0512e7d1cda\",\\n          \"source_name\": \"grid_pkl_path\",\\n          \"inferred_type\": \"BLOCK\",\\n          \"value\": null\\n        }\\n      },\\n      \"outputProperty\": {\\n        \"encoded_df_path\": {\\n          \"series\": false,\\n          \"adapter\": \"eJxrYJmqxgABPYJFiVX5RXppOfnlern5Kak5xVN6ePLy8wviE1MSC0pSi6ZMnqIHAF/+ELQ=\",\\n          \"transport\": \"FILE\"\\n        }\\n      },\\n      \"resourceRequirement\": {\\n        \"cores\": 2,\\n        \"memory\": 16192,\\n        \"useGpu\": false,\\n        \"gpu\": 0,\\n        \"useGpuIfAvailable\": false,\\n        \"clusterConfiguration\": {\\n          \"worker\": null,\\n          \"workerCore\": null,\\n          \"workerMemory\": null,\\n          \"numberOfInstances\": null,\\n          \"maxServerCount\": null\\n        },\\n        \"additionalEnv\": {},\\n        \"runEnv\": \"PYTHON\",\\n        \"dataSourceCredInfo\": {}\\n      },\\n      \"executionType\": \"BlockExecutor\",\\n      \"dependencies\": [],\\n      \"system_dependencies\": null,\\n      \"meta_data\": null,\\n      \"process_id\": null,\\n      \"eta\": 0,\\n      \"services\": {}\\n    }\\n  ],\\n  \"connections\": [\\n    {\\n      \"source_block_id\": \"c1a31644-4fe1-459f-867e-b47320bea035\",\\n      \"target_block_id\": \"c92cc8f9-48ea-4af2-9c0c-e0512e7d1cda\",\\n      \"source_output\": \"grid_df_int_path\",\\n      \"target_input\": \"grid_df_path\"\\n    },\\n    {\\n      \"source_block_id\": \"41eb4ce2-0607-43fb-90f3-ded74ad529c8\",\\n      \"target_block_id\": \"c1a31644-4fe1-459f-867e-b47320bea035\",\\n      \"source_output\": \"add_grid_path\",\\n      \"target_input\": \"add_grid_path\"\\n    },\\n    {\\n      \"source_block_id\": \"c92cc8f9-48ea-4af2-9c0c-e0512e7d1cda\",\\n      \"target_block_id\": \"06cdc2d1-bc4f-4913-831a-b7c12a879057\",\\n      \"source_output\": \"grid_pkl_path\",\\n      \"target_input\": \"grid_path\"\\n    },\\n    {\\n      \"source_block_id\": \"89d41f37-7481-4601-bdd5-50baa9243e73\",\\n      \"target_block_id\": \"c92cc8f9-48ea-4af2-9c0c-e0512e7d1cda\",\\n      \"source_output\": \"config\",\\n      \"target_input\": \"config\"\\n    },\\n    {\\n      \"source_block_id\": \"717ac426-02b3-417c-a794-0022667e0eba\",\\n      \"target_block_id\": \"6740eea5-a607-440b-bf6c-ebdc1ce6517f\",\\n      \"source_output\": \"encoded_df_path\",\\n      \"target_input\": \"MEAN_ENC\"\\n    },\\n    {\\n      \"source_block_id\": \"c92cc8f9-48ea-4af2-9c0c-e0512e7d1cda\",\\n      \"target_block_id\": \"23740599-853c-46be-9211-58a65cc54b5d\",\\n      \"source_output\": \"grid_pkl_path\",\\n      \"target_input\": \"grid_path\"\\n    },\\n    {\\n      \"source_block_id\": \"c92cc8f9-48ea-4af2-9c0c-e0512e7d1cda\",\\n      \"target_block_id\": \"717ac426-02b3-417c-a794-0022667e0eba\",\\n      \"source_output\": \"grid_pkl_path\",\\n      \"target_input\": \"grid_path\"\\n    },\\n    {\\n      \"source_block_id\": \"c92cc8f9-48ea-4af2-9c0c-e0512e7d1cda\",\\n      \"target_block_id\": \"6740eea5-a607-440b-bf6c-ebdc1ce6517f\",\\n      \"source_output\": \"grid_pkl_path\",\\n      \"target_input\": \"BASE\"\\n    },\\n    {\\n      \"source_block_id\": \"8ce4fc16-2db8-490d-bc31-5569bd88744c\",\\n      \"target_block_id\": \"c1a31644-4fe1-459f-867e-b47320bea035\",\\n      \"source_output\": \"grid_df_path\",\\n      \"target_input\": \"grid_df_path\"\\n    },\\n    {\\n      \"source_block_id\": \"89d41f37-7481-4601-bdd5-50baa9243e73\",\\n      \"target_block_id\": \"c1a31644-4fe1-459f-867e-b47320bea035\",\\n      \"source_output\": \"config\",\\n      \"target_input\": \"config\"\\n    },\\n    {\\n      \"source_block_id\": \"89d41f37-7481-4601-bdd5-50baa9243e73\",\\n      \"target_block_id\": \"1ea17616-4cc1-4054-8cc8-27002f971094\",\\n      \"source_output\": \"config\",\\n      \"target_input\": \"config\"\\n    },\\n    {\\n      \"source_block_id\": \"89d41f37-7481-4601-bdd5-50baa9243e73\",\\n      \"target_block_id\": \"06cdc2d1-bc4f-4913-831a-b7c12a879057\",\\n      \"source_output\": \"config\",\\n      \"target_input\": \"config\"\\n    },\\n    {\\n      \"source_block_id\": \"1ea17616-4cc1-4054-8cc8-27002f971094\",\\n      \"target_block_id\": \"6740eea5-a607-440b-bf6c-ebdc1ce6517f\",\\n      \"source_output\": \"grid_two_df_path\",\\n      \"target_input\": \"PRICE\"\\n    },\\n    {\\n      \"source_block_id\": \"23740599-853c-46be-9211-58a65cc54b5d\",\\n      \"target_block_id\": \"6740eea5-a607-440b-bf6c-ebdc1ce6517f\",\\n      \"source_output\": \"lag_df_path\",\\n      \"target_input\": \"LAGS\"\\n    },\\n    {\\n      \"source_block_id\": \"c92cc8f9-48ea-4af2-9c0c-e0512e7d1cda\",\\n      \"target_block_id\": \"1ea17616-4cc1-4054-8cc8-27002f971094\",\\n      \"source_output\": \"grid_pkl_path\",\\n      \"target_input\": \"grid_path\"\\n    },\\n    {\\n      \"source_block_id\": \"06cdc2d1-bc4f-4913-831a-b7c12a879057\",\\n      \"target_block_id\": \"6740eea5-a607-440b-bf6c-ebdc1ce6517f\",\\n      \"source_output\": \"grid_three_df_path\",\\n      \"target_input\": \"CALENDAR\"\\n    },\\n    {\\n      \"source_block_id\": \"89d41f37-7481-4601-bdd5-50baa9243e73\",\\n      \"target_block_id\": \"41eb4ce2-0607-43fb-90f3-ded74ad529c8\",\\n      \"source_output\": \"config\",\\n      \"target_input\": \"config\"\\n    },\\n    {\\n      \"source_block_id\": \"89d41f37-7481-4601-bdd5-50baa9243e73\",\\n      \"target_block_id\": \"8ce4fc16-2db8-490d-bc31-5569bd88744c\",\\n      \"source_output\": \"config\",\\n      \"target_input\": \"config\"\\n    }\\n  ],\\n  \"priority\": \"LOW\",\\n  \"infraResourceEstimation\": null,\\n  \"resourceRequirement\": {\\n    \"cores\": null,\\n    \"memory\": null,\\n    \"useGpu\": null,\\n    \"gpu\": null,\\n    \"useGpuIfAvailable\": null,\\n    \"clusterConfiguration\": null,\\n    \"additionalEnv\": {},\\n    \"runEnv\": null,\\n    \"dataSourceCredInfo\": {}\\n  },\\n  \"comments\": null,\\n  \"order\": null,\\n  \"uiData\": null,\\n  \"dom\": null,\\n  \"systemGenerated\": false,\\n  \"systemModel\": false,\\n  \"pipelineVariableList\": [],\\n  \"pipelineTemplateVersion\": 0.0,\\n  \"versionId\": null,\\n  \"engineId\": \"a723b377-09ff-4869-bc03-e2690d149522\",\\n  \"userId\": \"7a62e822-9c12-420f-a01b-487164a9c724\",\\n  \"runInitiatedFrom\": \"JUPYTER\",\\n  \"processList\": null,\\n  \"processInfo\": {},\\n  \"services\": [],\\n  \"pipelineMeta\": {\\n    \"name\": \"Walmart Training Pipeline_gpu\",\\n    \"blocks\": {\\n      \"6740eea5-a607-440b-bf6c-ebdc1ce6517f\": {\\n        \"id\": \"6740eea5-a607-440b-bf6c-ebdc1ce6517f\",\\n        \"name\": \"Train_1\",\\n        \"resources\": null,\\n        \"meta\": null,\\n        \"domainDetails\": null,\\n        \"hasHttpRoutes\": false,\\n        \"logPath\": null\\n      },\\n      \"c92cc8f9-48ea-4af2-9c0c-e0512e7d1cda\": {\\n        \"id\": \"c92cc8f9-48ea-4af2-9c0c-e0512e7d1cda\",\\n        \"name\": \"DataCreator1_1\",\\n        \"resources\": null,\\n        \"meta\": null,\\n        \"domainDetails\": null,\\n        \"hasHttpRoutes\": false,\\n        \"logPath\": null\\n      },\\n      \"c1a31644-4fe1-459f-867e-b47320bea035\": {\\n        \"id\": \"c1a31644-4fe1-459f-867e-b47320bea035\",\\n        \"name\": \"DataConcatenation_1\",\\n        \"resources\": null,\\n        \"meta\": null,\\n        \"domainDetails\": null,\\n        \"hasHttpRoutes\": false,\\n        \"logPath\": null\\n      },\\n      \"8ce4fc16-2db8-490d-bc31-5569bd88744c\": {\\n        \"id\": \"8ce4fc16-2db8-490d-bc31-5569bd88744c\",\\n        \"name\": \"Melter_1\",\\n        \"resources\": null,\\n        \"meta\": null,\\n        \"domainDetails\": null,\\n        \"hasHttpRoutes\": false,\\n        \"logPath\": null\\n      },\\n      \"89d41f37-7481-4601-bdd5-50baa9243e73\": {\\n        \"id\": \"89d41f37-7481-4601-bdd5-50baa9243e73\",\\n        \"name\": \"Configs_1\",\\n        \"resources\": null,\\n        \"meta\": null,\\n        \"domainDetails\": null,\\n        \"hasHttpRoutes\": false,\\n        \"logPath\": null\\n      },\\n      \"41eb4ce2-0607-43fb-90f3-ded74ad529c8\": {\\n        \"id\": \"41eb4ce2-0607-43fb-90f3-ded74ad529c8\",\\n        \"name\": \"ValidDataCreator_1\",\\n        \"resources\": null,\\n        \"meta\": null,\\n        \"domainDetails\": null,\\n        \"hasHttpRoutes\": false,\\n        \"logPath\": null\\n      },\\n      \"1ea17616-4cc1-4054-8cc8-27002f971094\": {\\n        \"id\": \"1ea17616-4cc1-4054-8cc8-27002f971094\",\\n        \"name\": \"DataCreator2_1\",\\n        \"resources\": null,\\n        \"meta\": null,\\n        \"domainDetails\": null,\\n        \"hasHttpRoutes\": false,\\n        \"logPath\": null\\n      },\\n      \"06cdc2d1-bc4f-4913-831a-b7c12a879057\": {\\n        \"id\": \"06cdc2d1-bc4f-4913-831a-b7c12a879057\",\\n        \"name\": \"DataCreator3_1\",\\n        \"resources\": null,\\n        \"meta\": null,\\n        \"domainDetails\": null,\\n        \"hasHttpRoutes\": false,\\n        \"logPath\": null\\n      },\\n      \"23740599-853c-46be-9211-58a65cc54b5d\": {\\n        \"id\": \"23740599-853c-46be-9211-58a65cc54b5d\",\\n        \"name\": \"LagCreator_1\",\\n        \"resources\": null,\\n        \"meta\": null,\\n        \"domainDetails\": null,\\n        \"hasHttpRoutes\": false,\\n        \"logPath\": null\\n      },\\n      \"717ac426-02b3-417c-a794-0022667e0eba\": {\\n        \"id\": \"717ac426-02b3-417c-a794-0022667e0eba\",\\n        \"name\": \"Encoder_1\",\\n        \"resources\": null,\\n        \"meta\": null,\\n        \"domainDetails\": null,\\n        \"hasHttpRoutes\": false,\\n        \"logPath\": null\\n      }\\n    },\\n    \"services\": {}\\n  }\\n}', dom='Yet to add', order=None, infra_resource='{\\n  \"zookeeper\": {\\n    \"cores\": 1,\\n    \"memory\": 1024,\\n    \"useGpu\": null,\\n    \"gpu\": null,\\n    \"useGpuIfAvailable\": null,\\n    \"clusterConfiguration\": null,\\n    \"additionalEnv\": {},\\n    \"runEnv\": null,\\n    \"dataSourceCredInfo\": {}\\n  },\\n  \"kafka\": {\\n    \"cores\": 1,\\n    \"memory\": 1024,\\n    \"useGpu\": null,\\n    \"gpu\": null,\\n    \"useGpuIfAvailable\": null,\\n    \"clusterConfiguration\": null,\\n    \"additionalEnv\": {},\\n    \"runEnv\": null,\\n    \"dataSourceCredInfo\": {}\\n  }\\n}', resource_spec=ResourceAllocated(cores=None, memory=None, use_gpu=None, gpu=None, use_gpu_if_available=None, cluster_configuration=None, additional_env={}, run_env=None), engine_id='a723b377-09ff-4869-bc03-e2690d149522', run_initiated_from='JUPYTER')"
      ]
     },
     "execution_count": 35,
     "metadata": {},
     "output_type": "execute_result"
    }
   ],
   "source": [
    "deployed_pipeline"
   ]
  },
  {
   "cell_type": "code",
   "execution_count": null,
   "metadata": {},
   "outputs": [],
   "source": []
  },
  {
   "cell_type": "code",
   "execution_count": null,
   "metadata": {},
   "outputs": [],
   "source": []
  },
  {
   "cell_type": "code",
   "execution_count": null,
   "metadata": {},
   "outputs": [],
   "source": []
  }
 ],
 "metadata": {
  "kernelspec": {
   "display_name": "Python 3",
   "language": "python",
   "name": "python3"
  },
  "language_info": {
   "codemirror_mode": {
    "name": "ipython",
    "version": 3
   },
   "file_extension": ".py",
   "mimetype": "text/x-python",
   "name": "python",
   "nbconvert_exporter": "python",
   "pygments_lexer": "ipython3",
   "version": "3.7.10"
  }
 },
 "nbformat": 4,
 "nbformat_minor": 4
}
