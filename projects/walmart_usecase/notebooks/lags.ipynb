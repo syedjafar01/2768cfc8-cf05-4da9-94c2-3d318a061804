{
 "cells": [
  {
   "cell_type": "code",
   "execution_count": 1,
   "metadata": {},
   "outputs": [],
   "source": [
    "import numpy as np\n",
    "import pandas as pd\n",
    "import os, sys, gc, time, warnings, pickle, psutil, random\n",
    "\n",
    "import time\n",
    "\n",
    "warnings.filterwarnings('ignore')"
   ]
  },
  {
   "cell_type": "code",
   "execution_count": 2,
   "metadata": {},
   "outputs": [],
   "source": [
    "from razor.api import project_space_path\n",
    "import razor\n",
    "import razor.flow as rf\n",
    "import typing as t\n",
    "import logging\n",
    "import pandas as pd\n",
    "from razor.api import project_space_path\n"
   ]
  },
  {
   "cell_type": "code",
   "execution_count": null,
   "metadata": {},
   "outputs": [],
   "source": []
  },
  {
   "cell_type": "code",
   "execution_count": null,
   "metadata": {},
   "outputs": [],
   "source": []
  },
  {
   "cell_type": "markdown",
   "metadata": {},
   "source": [
    "# Original Lag Code"
   ]
  },
  {
   "cell_type": "code",
   "execution_count": null,
   "metadata": {},
   "outputs": [],
   "source": []
  },
  {
   "cell_type": "code",
   "execution_count": 3,
   "metadata": {},
   "outputs": [],
   "source": [
    "@rf.block(executor=rf.ContainerExecutor(cores=2, memory=20000))\n",
    "class LagCreator:\n",
    "    grid_path: t.Any\n",
    "        \n",
    "    def run(self):\n",
    "        ########################### Apply on grid_df\n",
    "\n",
    "        grid_df = pd.read_pickle(project_space_path(self.grid_path))\n",
    "\n",
    "        TARGET = 'sales'         # Our main target\n",
    "        END_TRAIN = 1913         # Last day in train set\n",
    "        MAIN_INDEX = ['id','d']  # We can identify item by these columns\n",
    "        \n",
    "        # We need only 'id','d','sales'\n",
    "        # to make lags and rollings\n",
    "        grid_df = grid_df[['id','d','sales']]\n",
    "        SHIFT_DAY = 28\n",
    "\n",
    "        # Lags\n",
    "        # with 28 day shift\n",
    "        start_time = time.time()\n",
    "        self.logger.info('Create lags')\n",
    "\n",
    "        LAG_DAYS = [col for col in range(SHIFT_DAY,SHIFT_DAY+15)]\n",
    "        grid_df = grid_df.assign(**{\n",
    "                '{}_lag_{}'.format(col, l): grid_df.groupby(['id'])[col].transform(lambda x: x.shift(l))\n",
    "                for l in LAG_DAYS\n",
    "                for col in [TARGET]\n",
    "            })\n",
    "\n",
    "        # Minify lag columns\n",
    "        for col in list(grid_df):\n",
    "            if 'lag' in col:\n",
    "                grid_df[col] = grid_df[col].astype(np.float16)\n",
    "\n",
    "        self.logger.info('%0.2f min: Lags' % ((time.time() - start_time) / 60))\n",
    "\n",
    "        # Rollings\n",
    "        # with 28 day shift\n",
    "        start_time = time.time()\n",
    "        self.logger.info('Create rolling aggs')\n",
    "\n",
    "        for i in [7,14,30,60,180]:\n",
    "            self.logger.info(f'Rolling period: {i}')\n",
    "            grid_df['rolling_mean_'+str(i)] = grid_df.groupby(['id'])[TARGET].transform(lambda x: x.shift(SHIFT_DAY).rolling(i).mean()).astype(np.float16)\n",
    "            grid_df['rolling_std_'+str(i)]  = grid_df.groupby(['id'])[TARGET].transform(lambda x: x.shift(SHIFT_DAY).rolling(i).std()).astype(np.float16)\n",
    "\n",
    "        # Rollings\n",
    "        # with sliding shift\n",
    "        for d_shift in [1,7,14]: \n",
    "            self.logger.info(f'Shifting period: {d_shift}')\n",
    "            for d_window in [7,14,30,60]:\n",
    "                col_name = 'rolling_mean_tmp_'+str(d_shift)+'_'+str(d_window)\n",
    "                grid_df[col_name] = grid_df.groupby(['id'])[TARGET].transform(lambda x: x.shift(d_shift).rolling(d_window).mean()).astype(np.float16)\n",
    "\n",
    "\n",
    "        self.logger.info('%0.2f min: Lags' % ((time.time() - start_time) / 60))\n",
    "\n",
    "        self.logger.info(f'Save lags and rollings  {grid_df.shape}')\n",
    "        grid_df.to_pickle(project_space_path(f'M5Forecasting/lags_df_{str(SHIFT_DAY)}.pkl'))\n"
   ]
  },
  {
   "cell_type": "code",
   "execution_count": 4,
   "metadata": {},
   "outputs": [],
   "source": [
    "lag_creator = LagCreator(grid_path = 'M5Forecasting/m5-simple-fe/grid_part_1.pkl')\n"
   ]
  },
  {
   "cell_type": "code",
   "execution_count": 5,
   "metadata": {},
   "outputs": [],
   "source": [
    "p = rf.Pipeline(\"lag_creator\", targets=[lag_creator])  #preprocess\n"
   ]
  },
  {
   "cell_type": "code",
   "execution_count": 6,
   "metadata": {},
   "outputs": [
    {
     "data": {
      "application/vnd.razorthink.interactive+pipeline+view+json": {
       "blocks": [
        {
         "class_name": "LagCreator",
         "id": "d21b4b02-38e9-42ce-9fd3-ee69df64f815",
         "inputs": [
          {
           "default": null,
           "flow": "atomic",
           "help": null,
           "label": "grid_path",
           "name": "grid_path",
           "series": false,
           "type": "Any",
           "type_check": true
          }
         ],
         "outputs": [],
         "overwritten": false,
         "var_names": [
          "LagCreator"
         ]
        }
       ],
       "connections": [],
       "id": "2c5ae418-036e-4d8b-bd36-1f942671a803",
       "instances": [
        {
         "block_class": "d21b4b02-38e9-42ce-9fd3-ee69df64f815",
         "id": "0a130857-5537-4a12-82dc-945d77e25478",
         "name": "LagCreator_1",
         "var_names": [
          "lag_creator"
         ]
        }
       ],
       "name": "lag_creator",
       "var_names": []
      },
      "image/svg+xml": [
       "<?xml version=\"1.0\" encoding=\"UTF-8\" standalone=\"no\"?>\n",
       "<!DOCTYPE svg PUBLIC \"-//W3C//DTD SVG 1.1//EN\"\n",
       " \"http://www.w3.org/Graphics/SVG/1.1/DTD/svg11.dtd\">\n",
       "<!-- Generated by graphviz version 2.40.1 (20161225.0304)\n",
       " -->\n",
       "<!-- Title: %3 Pages: 1 -->\n",
       "<svg width=\"182pt\" height=\"44pt\"\n",
       " viewBox=\"0.00 0.00 182.24 44.00\" xmlns=\"http://www.w3.org/2000/svg\" xmlns:xlink=\"http://www.w3.org/1999/xlink\">\n",
       "<g id=\"graph0\" class=\"graph\" transform=\"scale(1 1) rotate(0) translate(4 40)\">\n",
       "<title>%3</title>\n",
       "<polygon fill=\"#ffffff\" stroke=\"transparent\" points=\"-4,4 -4,-40 178.2442,-40 178.2442,4 -4,4\"/>\n",
       "<!-- LagCreator(&#39;LagCreator_1&#39;) -->\n",
       "<g id=\"node1\" class=\"node\">\n",
       "<title>LagCreator(&#39;LagCreator_1&#39;)</title>\n",
       "<ellipse fill=\"none\" stroke=\"#000000\" cx=\"87.1221\" cy=\"-18\" rx=\"87.2444\" ry=\"18\"/>\n",
       "<text text-anchor=\"middle\" x=\"87.1221\" y=\"-15.5\" font-family=\"Helvetica,sans-Serif\" font-size=\"10.00\" fill=\"#000000\">LagCreator(&#39;LagCreator_1&#39;)</text>\n",
       "</g>\n",
       "</g>\n",
       "</svg>\n"
      ],
      "text/plain": [
       "<razor.flow.pipeline.Pipeline at 0x7fea3dcb0f50>"
      ]
     },
     "metadata": {},
     "output_type": "display_data"
    }
   ],
   "source": [
    "p.show()"
   ]
  },
  {
   "cell_type": "code",
   "execution_count": 7,
   "metadata": {},
   "outputs": [],
   "source": [
    "deployed_pipeline = razor.api.engines('DS-engine').execute(pipeline=p)\n"
   ]
  },
  {
   "cell_type": "code",
   "execution_count": 8,
   "metadata": {},
   "outputs": [
    {
     "data": {
      "application/vnd.razorthink.run+monitor+json": "/home/jovyan/logs/69eaef81-dad9-43aa-ae18-840a86d10dac",
      "text/plain": [
       "<razor_tools.backend.ipython.mime.run_monitor.RunMonitor at 0x7fea31373210>"
      ]
     },
     "metadata": {
      "application/vnd.razorthink.run+monitor+json": {
       "store_in_notebook": false
      }
     },
     "output_type": "display_data"
    },
    {
     "data": {
      "text/html": [],
      "text/plain": [
       "PlatformPipelineRun(project_id='c0b26d85-a4c9-44f5-9d0e-f540dd2de644', pipeline_id='947bee16-03c8-11eb-9c1c-0242ac110009', pipeline_name='lag_creator', pipeline_run_id='69eaef81-dad9-43aa-ae18-840a86d10dac', pipeline_version=None, comment=None, created_on='2020-10-01T09:29:32.565+00:00', start_time=None, end_time=None, eta=0, run_at=1601544572565, run_duration=0, compute_time=0, wait_time=-46, ran_by_user=RanByUser(user_name='souryadipta das', email='souryadipta.das@razorthink.com'), status='IN_PROGRESS', block_status=[PlatformPipelineBlockRun(pipeline_run_id='69eaef81-dad9-43aa-ae18-840a86d10dac', pipeline_name='lag_creator', pipeline_status='IN_PROGRESS', block_id='674a1773-c144-4b01-908b-26b9b4b433c4', block_run_id='7e75788f-fa11-4b78-9edf-441235e2b1b3', block_name='LagCreator_1', resource_spec=ResourceAllocated(cores=2, memory=20000, use_gpu=False, gpu=0, use_gpu_if_available=False, cluster_configuration={'worker': None, 'workerCore': None, 'workerMemory': None, 'numberOfInstances': None, 'maxServerCount': None}, additional_env={}, run_env='PYTHON'), technology='PYTHON', status='READY_TO_GO', containers=[], cluster_id='674a1773-c144-4b01-908b-26b9b4b433c4', _log=None, _metric=None, wait_time=0, compute_time=0, start_time=None, end_time=None, queued_at='2020-10-01T09:29:33.000+00:00')], run_number=204, pipeline_variable_list=[], block_run_details=[BlockRunDetail(block_id='674a1773-c144-4b01-908b-26b9b4b433c4', block_run_id='7e75788f-fa11-4b78-9edf-441235e2b1b3', block_name='LagCreator_1', technology='PYTHON', log_path=None, input_parameters='{\\n  \"grid_path\": {\\n    \"dtype\": \"Any\",\\n    \"required\": \"false\",\\n    \"series\": false,\\n    \"adapter\": \"eJxrYJmqxgABPYJFiVX5RXppOfnlern5Kak5xVN6ePLy8wviE1MSC0pSi6ZMnqIHAF/+ELQ=\",\\n    \"validator\": \"eJxrYJmqwQABPYJFiVX5RXppOfnlern5Kak5xVN6+PLy8wviyxJzMlMSS/KLpkyeogcAg2wRnQ==\",\\n    \"source_id\": null,\\n    \"source_name\": null,\\n    \"inferred_type\": \"STATIC\",\\n    \"value\": \"eJxrYJmqxwABPVq+pm75RanJicUlmXnp+rmmusWZuQU5qbppqfrpRZkp8QWJRSXxhnoF2TlT9ADQohIn\"\\n  }\\n}', output_parameters=None, status='READY_TO_GO', created_at='2020-10-01T09:29:32.656+00:00', queued_at='2020-10-01T09:29:33.000+00:00', start_time=None, end_time=None, compute_time=0, wait_time=0, run_time=0, block_run_output_list=[], resource_allocated=ResourceAllocated(cores=2, memory=20000, use_gpu=False, gpu=0, use_gpu_if_available=False, cluster_configuration={'worker': None, 'workerCore': None, 'workerMemory': None, 'numberOfInstances': None, 'maxServerCount': None}, additional_env={}, run_env='PYTHON'))], pipeline_json='{\\n  \"id\": \"947bee16-03c8-11eb-9c1c-0242ac110009\",\\n  \"projectId\": \"c0b26d85-a4c9-44f5-9d0e-f540dd2de644\",\\n  \"name\": \"lag_creator\",\\n  \"description\": \"\",\\n  \"blocks\": [\\n    {\\n      \"name\": \"LagCreator_1\",\\n      \"id\": \"674a1773-c144-4b01-908b-26b9b4b433c4\",\\n      \"artifact_id\": null,\\n      \"class_name\": \"LagCreator\",\\n      \"code\": \"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\",\\n      \"isPublishedBlock\": false,\\n      \"source\": null,\\n      \"inputProperty\": {\\n        \"grid_path\": {\\n          \"dtype\": \"Any\",\\n          \"required\": \"false\",\\n          \"series\": false,\\n          \"adapter\": \"eJxrYJmqxgABPYJFiVX5RXppOfnlern5Kak5xVN6ePLy8wviE1MSC0pSi6ZMnqIHAF/+ELQ=\",\\n          \"validator\": \"eJxrYJmqwQABPYJFiVX5RXppOfnlern5Kak5xVN6+PLy8wviyxJzMlMSS/KLpkyeogcAg2wRnQ==\",\\n          \"source_id\": null,\\n          \"source_name\": null,\\n          \"inferred_type\": \"STATIC\",\\n          \"value\": \"eJxrYJmqxwABPVq+pm75RanJicUlmXnp+rmmusWZuQU5qbppqfrpRZkp8QWJRSXxhnoF2TlT9ADQohIn\"\\n        }\\n      },\\n      \"outputProperty\": {},\\n      \"resourceRequirement\": {\\n        \"cores\": 2,\\n        \"memory\": 20000,\\n        \"useGpu\": false,\\n        \"gpu\": 0,\\n        \"useGpuIfAvailable\": false,\\n        \"clusterConfiguration\": {\\n          \"worker\": null,\\n          \"workerCore\": null,\\n          \"workerMemory\": null,\\n          \"numberOfInstances\": null,\\n          \"maxServerCount\": null\\n        },\\n        \"additionalEnv\": {},\\n        \"runEnv\": \"PYTHON\"\\n      },\\n      \"executionType\": \"BlockExecutor\",\\n      \"dependencies\": [],\\n      \"system_dependencies\": null,\\n      \"meta_data\": null,\\n      \"process_id\": null,\\n      \"eta\": 0\\n    }\\n  ],\\n  \"connections\": [],\\n  \"priority\": \"LOW\",\\n  \"infraResourceEstimation\": null,\\n  \"resourceRequirement\": {\\n    \"cores\": null,\\n    \"memory\": null,\\n    \"useGpu\": null,\\n    \"gpu\": null,\\n    \"useGpuIfAvailable\": null,\\n    \"clusterConfiguration\": null,\\n    \"additionalEnv\": {},\\n    \"runEnv\": null\\n  },\\n  \"comments\": null,\\n  \"order\": null,\\n  \"uiData\": null,\\n  \"dom\": null,\\n  \"systemGenerated\": false,\\n  \"systemModel\": false,\\n  \"pipelineVariableList\": [],\\n  \"pipelineTemplateVersion\": 0.0,\\n  \"versionId\": null,\\n  \"engineId\": \"65ed2499-f8c9-4c4d-ad27-aa689bd1531e\",\\n  \"userId\": \"5da82833-9f26-45a6-b329-19ce45acfb70\",\\n  \"runInitiatedFrom\": \"JUPYTER\",\\n  \"processList\": null,\\n  \"processInfo\": null\\n}', dom='Yet to add', order=None, infra_resource='{\\n  \"zookeeper\": {\\n    \"cores\": 1,\\n    \"memory\": 1024,\\n    \"useGpu\": null,\\n    \"gpu\": null,\\n    \"useGpuIfAvailable\": null,\\n    \"clusterConfiguration\": null,\\n    \"additionalEnv\": {},\\n    \"runEnv\": null\\n  },\\n  \"kafka\": {\\n    \"cores\": 1,\\n    \"memory\": 1024,\\n    \"useGpu\": null,\\n    \"gpu\": null,\\n    \"useGpuIfAvailable\": null,\\n    \"clusterConfiguration\": null,\\n    \"additionalEnv\": {},\\n    \"runEnv\": null\\n  }\\n}', resource_spec=ResourceAllocated(cores=None, memory=None, use_gpu=None, gpu=None, use_gpu_if_available=None, cluster_configuration=None, additional_env={}, run_env=None), engine_id='65ed2499-f8c9-4c4d-ad27-aa689bd1531e', run_initiated_from='JUPYTER')"
      ]
     },
     "execution_count": 8,
     "metadata": {},
     "output_type": "execute_result"
    }
   ],
   "source": [
    "deployed_pipeline"
   ]
  },
  {
   "cell_type": "code",
   "execution_count": null,
   "metadata": {},
   "outputs": [],
   "source": []
  }
 ],
 "metadata": {
  "kernelspec": {
   "display_name": "Python 3",
   "language": "python",
   "name": "python3"
  },
  "language_info": {
   "codemirror_mode": {
    "name": "ipython",
    "version": 3
   },
   "file_extension": ".py",
   "mimetype": "text/x-python",
   "name": "python",
   "nbconvert_exporter": "python",
   "pygments_lexer": "ipython3",
   "version": "3.7.6"
  }
 },
 "nbformat": 4,
 "nbformat_minor": 4
}
