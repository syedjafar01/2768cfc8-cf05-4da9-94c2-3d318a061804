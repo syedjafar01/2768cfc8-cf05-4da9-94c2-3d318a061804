{
 "cells": [
  {
   "cell_type": "code",
   "execution_count": 1,
   "metadata": {},
   "outputs": [],
   "source": [
    "import pandas as pd\n",
    "from razor.api import project_space_path\n",
    "import gc\n"
   ]
  },
  {
   "cell_type": "code",
   "execution_count": 2,
   "metadata": {},
   "outputs": [],
   "source": [
    "calendar_df=pd.read_csv(project_space_path(\"M5Forecasting/calendar.csv\"))"
   ]
  },
  {
   "cell_type": "code",
   "execution_count": null,
   "metadata": {},
   "outputs": [],
   "source": [
    "grid_df = pd.read_pickle(project_space_path('M5Forecasting/debug/grid_part_1.pkl'))"
   ]
  },
  {
   "cell_type": "code",
   "execution_count": null,
   "metadata": {},
   "outputs": [],
   "source": [
    "grid_df.isnull().sum()"
   ]
  },
  {
   "cell_type": "code",
   "execution_count": null,
   "metadata": {},
   "outputs": [],
   "source": []
  },
  {
   "cell_type": "code",
   "execution_count": null,
   "metadata": {},
   "outputs": [],
   "source": []
  },
  {
   "cell_type": "code",
   "execution_count": 49,
   "metadata": {},
   "outputs": [
    {
     "data": {
      "text/html": [
       "<div>\n",
       "<style scoped>\n",
       "    .dataframe tbody tr th:only-of-type {\n",
       "        vertical-align: middle;\n",
       "    }\n",
       "\n",
       "    .dataframe tbody tr th {\n",
       "        vertical-align: top;\n",
       "    }\n",
       "\n",
       "    .dataframe thead th {\n",
       "        text-align: right;\n",
       "    }\n",
       "</style>\n",
       "<table border=\"1\" class=\"dataframe\">\n",
       "  <thead>\n",
       "    <tr style=\"text-align: right;\">\n",
       "      <th></th>\n",
       "      <th>date</th>\n",
       "      <th>wm_yr_wk</th>\n",
       "      <th>weekday</th>\n",
       "      <th>wday</th>\n",
       "      <th>month</th>\n",
       "      <th>year</th>\n",
       "      <th>d</th>\n",
       "      <th>event_name_1</th>\n",
       "      <th>event_type_1</th>\n",
       "      <th>event_name_2</th>\n",
       "      <th>event_type_2</th>\n",
       "      <th>snap_CA</th>\n",
       "      <th>snap_TX</th>\n",
       "      <th>snap_WI</th>\n",
       "    </tr>\n",
       "  </thead>\n",
       "  <tbody>\n",
       "    <tr>\n",
       "      <th>0</th>\n",
       "      <td>2011-01-29</td>\n",
       "      <td>11101</td>\n",
       "      <td>Saturday</td>\n",
       "      <td>1</td>\n",
       "      <td>1</td>\n",
       "      <td>2011</td>\n",
       "      <td>d_1</td>\n",
       "      <td>NaN</td>\n",
       "      <td>NaN</td>\n",
       "      <td>NaN</td>\n",
       "      <td>NaN</td>\n",
       "      <td>0</td>\n",
       "      <td>0</td>\n",
       "      <td>0</td>\n",
       "    </tr>\n",
       "    <tr>\n",
       "      <th>1</th>\n",
       "      <td>2011-01-30</td>\n",
       "      <td>11101</td>\n",
       "      <td>Sunday</td>\n",
       "      <td>2</td>\n",
       "      <td>1</td>\n",
       "      <td>2011</td>\n",
       "      <td>d_2</td>\n",
       "      <td>NaN</td>\n",
       "      <td>NaN</td>\n",
       "      <td>NaN</td>\n",
       "      <td>NaN</td>\n",
       "      <td>0</td>\n",
       "      <td>0</td>\n",
       "      <td>0</td>\n",
       "    </tr>\n",
       "    <tr>\n",
       "      <th>2</th>\n",
       "      <td>2011-01-31</td>\n",
       "      <td>11101</td>\n",
       "      <td>Monday</td>\n",
       "      <td>3</td>\n",
       "      <td>1</td>\n",
       "      <td>2011</td>\n",
       "      <td>d_3</td>\n",
       "      <td>NaN</td>\n",
       "      <td>NaN</td>\n",
       "      <td>NaN</td>\n",
       "      <td>NaN</td>\n",
       "      <td>0</td>\n",
       "      <td>0</td>\n",
       "      <td>0</td>\n",
       "    </tr>\n",
       "  </tbody>\n",
       "</table>\n",
       "</div>"
      ],
      "text/plain": [
       "         date  wm_yr_wk   weekday  wday  month  year    d event_name_1  \\\n",
       "0  2011-01-29     11101  Saturday     1      1  2011  d_1          NaN   \n",
       "1  2011-01-30     11101    Sunday     2      1  2011  d_2          NaN   \n",
       "2  2011-01-31     11101    Monday     3      1  2011  d_3          NaN   \n",
       "\n",
       "  event_type_1 event_name_2 event_type_2  snap_CA  snap_TX  snap_WI  \n",
       "0          NaN          NaN          NaN        0        0        0  \n",
       "1          NaN          NaN          NaN        0        0        0  \n",
       "2          NaN          NaN          NaN        0        0        0  "
      ]
     },
     "execution_count": 49,
     "metadata": {},
     "output_type": "execute_result"
    }
   ],
   "source": [
    "calendar_df.head(3)"
   ]
  },
  {
   "cell_type": "code",
   "execution_count": 5,
   "metadata": {},
   "outputs": [
    {
     "data": {
      "text/plain": [
       "date            object\n",
       "wm_yr_wk         int64\n",
       "weekday         object\n",
       "wday             int64\n",
       "month            int64\n",
       "year             int64\n",
       "d               object\n",
       "event_name_1    object\n",
       "event_type_1    object\n",
       "event_name_2    object\n",
       "event_type_2    object\n",
       "snap_CA          int64\n",
       "snap_TX          int64\n",
       "snap_WI          int64\n",
       "dtype: object"
      ]
     },
     "execution_count": 5,
     "metadata": {},
     "output_type": "execute_result"
    }
   ],
   "source": [
    "calendar_df.dtypes"
   ]
  },
  {
   "cell_type": "code",
   "execution_count": 3,
   "metadata": {},
   "outputs": [
    {
     "data": {
      "text/plain": [
       "(20444544, 10)"
      ]
     },
     "execution_count": 3,
     "metadata": {},
     "output_type": "execute_result"
    }
   ],
   "source": [
    "grid_df.shape"
   ]
  },
  {
   "cell_type": "code",
   "execution_count": 4,
   "metadata": {},
   "outputs": [
    {
     "data": {
      "text/plain": [
       "Index(['id', 'item_id', 'dept_id', 'cat_id', 'store_id', 'state_id', 'd',\n",
       "       'sales', 'release', 'wm_yr_wk'],\n",
       "      dtype='object')"
      ]
     },
     "execution_count": 4,
     "metadata": {},
     "output_type": "execute_result"
    }
   ],
   "source": [
    "grid_df.columns"
   ]
  },
  {
   "cell_type": "code",
   "execution_count": null,
   "metadata": {},
   "outputs": [],
   "source": []
  },
  {
   "cell_type": "code",
   "execution_count": null,
   "metadata": {},
   "outputs": [],
   "source": []
  },
  {
   "cell_type": "markdown",
   "metadata": {},
   "source": [
    "# Pre-Data"
   ]
  },
  {
   "cell_type": "code",
   "execution_count": null,
   "metadata": {},
   "outputs": [],
   "source": []
  },
  {
   "cell_type": "code",
   "execution_count": 7,
   "metadata": {},
   "outputs": [
    {
     "data": {
      "text/plain": [
       "(46881677, 9)"
      ]
     },
     "execution_count": 7,
     "metadata": {},
     "output_type": "execute_result"
    }
   ],
   "source": [
    "grid_1 = pd.read_pickle(project_space_path('M5Forecasting/m5-simple-fe/grid_part_1.pkl'))\n",
    "grid_1.shape"
   ]
  },
  {
   "cell_type": "code",
   "execution_count": 8,
   "metadata": {},
   "outputs": [
    {
     "data": {
      "text/plain": [
       "Index(['id', 'item_id', 'dept_id', 'cat_id', 'store_id', 'state_id', 'd',\n",
       "       'sales', 'release'],\n",
       "      dtype='object')"
      ]
     },
     "execution_count": 8,
     "metadata": {},
     "output_type": "execute_result"
    }
   ],
   "source": [
    "grid_1.columns"
   ]
  },
  {
   "cell_type": "code",
   "execution_count": 9,
   "metadata": {},
   "outputs": [
    {
     "data": {
      "text/plain": [
       "114"
      ]
     },
     "execution_count": 9,
     "metadata": {},
     "output_type": "execute_result"
    }
   ],
   "source": [
    "del grid_1\n",
    "gc.collect()"
   ]
  },
  {
   "cell_type": "code",
   "execution_count": null,
   "metadata": {},
   "outputs": [],
   "source": [
    "grid_2 = pd.read_pickle(project_space_path('M5Forecasting/m5-simple-fe/grid_part_2.pkl'))\n",
    "grid_2.shape"
   ]
  },
  {
   "cell_type": "code",
   "execution_count": 1,
   "metadata": {},
   "outputs": [
    {
     "ename": "NameError",
     "evalue": "name 'grid_2' is not defined",
     "output_type": "error",
     "traceback": [
      "\u001b[0;31m---------------------------------------------------------------------------\u001b[0m",
      "\u001b[0;31mNameError\u001b[0m                                 Traceback (most recent call last)",
      "\u001b[0;32m<ipython-input-1-a0a23baa8c92>\u001b[0m in \u001b[0;36m<module>\u001b[0;34m\u001b[0m\n\u001b[0;32m----> 1\u001b[0;31m \u001b[0;32mdel\u001b[0m \u001b[0mgrid_2\u001b[0m\u001b[0;34m\u001b[0m\u001b[0;34m\u001b[0m\u001b[0m\n\u001b[0m",
      "\u001b[0;31mNameError\u001b[0m: name 'grid_2' is not defined"
     ]
    }
   ],
   "source": [
    "del grid_2"
   ]
  },
  {
   "cell_type": "code",
   "execution_count": null,
   "metadata": {},
   "outputs": [],
   "source": [
    "grid_3 = pd.read_pickle(project_space_path('M5Forecasting/m5-simple-fe/grid_part_3.pkl'))"
   ]
  },
  {
   "cell_type": "code",
   "execution_count": null,
   "metadata": {},
   "outputs": [],
   "source": []
  },
  {
   "cell_type": "code",
   "execution_count": 6,
   "metadata": {},
   "outputs": [
    {
     "data": {
      "text/plain": [
       "a    int64\n",
       "dtype: object"
      ]
     },
     "execution_count": 6,
     "metadata": {},
     "output_type": "execute_result"
    }
   ],
   "source": [
    "d = pd.DataFrame({'a':[1,2,3,4,5]})\n",
    "d.dtypes"
   ]
  },
  {
   "cell_type": "code",
   "execution_count": 7,
   "metadata": {},
   "outputs": [
    {
     "data": {
      "text/plain": [
       "a    object\n",
       "dtype: object"
      ]
     },
     "execution_count": 7,
     "metadata": {},
     "output_type": "execute_result"
    }
   ],
   "source": [
    "d['a'] = d['a'].apply(str)\n",
    "d.dtypes"
   ]
  },
  {
   "cell_type": "code",
   "execution_count": null,
   "metadata": {},
   "outputs": [],
   "source": []
  },
  {
   "cell_type": "markdown",
   "metadata": {},
   "source": [
    "# Post"
   ]
  },
  {
   "cell_type": "code",
   "execution_count": null,
   "metadata": {},
   "outputs": [],
   "source": []
  },
  {
   "cell_type": "code",
   "execution_count": 2,
   "metadata": {},
   "outputs": [],
   "source": [
    "import razor.flow as rf\n",
    "import pandas as pd\n"
   ]
  },
  {
   "cell_type": "code",
   "execution_count": 3,
   "metadata": {},
   "outputs": [],
   "source": [
    "# grid_1 = pd.read_pickle(project_space_path('M5Forecasting/debug/grid_part_1.pkl'))\n",
    "# grid_1.shape"
   ]
  },
  {
   "cell_type": "code",
   "execution_count": 28,
   "metadata": {},
   "outputs": [],
   "source": [
    "lib1 = razor.api.libraries(name='lightgbm').artifact()"
   ]
  },
  {
   "cell_type": "code",
   "execution_count": 29,
   "metadata": {},
   "outputs": [],
   "source": [
    "@rf.block(executor=rf.ContainerExecutor(cores=2, memory=20000))\n",
    "class Test:\n",
    "    \n",
    "    __libs__ = [lib1]\n",
    "    \n",
    "    def run(self):\n",
    "        from razor.api import project_space_path\n",
    "        import pickle\n",
    "        \n",
    "#         grid_df=pd.read_csv(project_space_path(\"M5Forecasting/grid_df_int.csv\"))\n",
    "#         grid_df=pd.read_pickle(project_space_path(\"M5Forecasting/m5-simple-fe/grid_part_2.pkl\"))\n",
    "#         grid_df = pd.read_pickle(project_space_path('M5Forecasting/test_CA_1.pkl'))\n",
    "#         grid_df_int = pd.read_csv(project_space_path('M5Forecasting/grid_df_int.csv'))\n",
    "        model_path = project_space_path('M5Forecasting/lgb_model_'+'CA_1'+'_v1.bin') \n",
    "\n",
    "\n",
    "        estimator = pickle.load(open(model_path, 'rb'))\n",
    "        self.logger.info(estimator.feature_name())\n",
    "#         self.logger.info(grid_df['d'].head())\n",
    "#         self.logger.info(grid_df.columns)\n",
    "#         self.logger.info(grid_df.iloc[0, :].values)\n",
    "        \n",
    "#         MAIN_INDEX = [\"id\", \"d\"]\n",
    "        \n",
    "#         ########################### Merge calendar\n",
    "#         #################################################################################\n",
    "#         grid_df = grid_df[MAIN_INDEX]\n",
    "\n",
    "#         # Merge calendar partly\n",
    "#         icols = ['date',\n",
    "#                  'd',\n",
    "#                  'event_name_1',\n",
    "#                  'event_type_1',\n",
    "#                  'event_name_2',\n",
    "#                  'event_type_2',\n",
    "#                  'snap_CA',\n",
    "#                  'snap_TX',\n",
    "#                  'snap_WI']\n",
    "        \n",
    "# #         self.logger.info(f'dtypes  {grid_df.dtypes}')\n",
    "#         grid_df['d'] = grid_df['d'].apply(str)\n",
    "#         self.logger.info(grid_df.dtypes)\n",
    "#         self.logger.info(calendar_df.dtypes)\n",
    "#         self.logger.info(f'grid ,  {grid_df[\"d\"].values}')\n",
    "#         self.logger.info(f'calendar ,  {calendar_df[\"d\"].values}')\n",
    "# #         self.logger.info(f'Before NULL,  {calendar_df[icols].isnull().sum()}')\n",
    "#         grid_df = grid_df.merge(calendar_df[icols], on=['d'], how='left')\n",
    "#         self.logger.info(f'After NULL,  {grid_df.isnull().sum()}')\n",
    "        \n",
    "        "
   ]
  },
  {
   "cell_type": "code",
   "execution_count": 30,
   "metadata": {},
   "outputs": [],
   "source": [
    "test = Test()"
   ]
  },
  {
   "cell_type": "code",
   "execution_count": 31,
   "metadata": {},
   "outputs": [],
   "source": [
    "p = rf.Pipeline(\"Test\", targets=[test])  #preprocess\n"
   ]
  },
  {
   "cell_type": "code",
   "execution_count": 32,
   "metadata": {},
   "outputs": [],
   "source": [
    "deployed_pipeline = razor.api.engines('DS-engine').execute(pipeline=p)\n"
   ]
  },
  {
   "cell_type": "code",
   "execution_count": 35,
   "metadata": {},
   "outputs": [
    {
     "data": {
      "application/vnd.razorthink.run+monitor+json": "/home/jovyan/logs/3fbe4fd7-9ebd-434d-8fb3-4c0487107ec5",
      "text/plain": [
       "<razor_tools.backend.ipython.mime.run_monitor.RunMonitor at 0x7fd8d802df10>"
      ]
     },
     "metadata": {
      "application/vnd.razorthink.run+monitor+json": {
       "store_in_notebook": false
      }
     },
     "output_type": "display_data"
    },
    {
     "data": {
      "text/html": [],
      "text/plain": [
       "PlatformPipelineRun(project_id='c0b26d85-a4c9-44f5-9d0e-f540dd2de644', pipeline_id='f469f7ec-0872-11eb-a2d4-0242ac110008', pipeline_name='Test', pipeline_run_id='3fbe4fd7-9ebd-434d-8fb3-4c0487107ec5', pipeline_version=None, comment=None, created_on='2020-10-07T07:58:58.959+00:00', start_time=None, end_time=None, eta=0, run_at=1602057538959, run_duration=0, compute_time=0, wait_time=363, ran_by_user=RanByUser(user_name='Ayan Basak', email='ayan.basak@razorthink.com'), status='IN_PROGRESS', block_status=[PlatformPipelineBlockRun(pipeline_run_id='3fbe4fd7-9ebd-434d-8fb3-4c0487107ec5', pipeline_name='Test', pipeline_status='IN_PROGRESS', block_id='ec6b540e-492c-4dcf-b79a-c5e07b20a3ed', block_run_id='d1c40723-0086-468c-b0e9-6378ef9fd23c', block_name='Test_1', resource_spec=ResourceAllocated(cores=2, memory=20000, use_gpu=False, gpu=0, use_gpu_if_available=False, cluster_configuration={'worker': None, 'workerCore': None, 'workerMemory': None, 'numberOfInstances': None, 'maxServerCount': None}, additional_env={}, run_env='PYTHON'), technology='PYTHON', status='READY_TO_GO', containers=[], cluster_id='ec6b540e-492c-4dcf-b79a-c5e07b20a3ed', _log=None, _metric=None, wait_time=0, compute_time=0, start_time=None, end_time=None, queued_at='2020-10-07T07:58:59.000+00:00')], run_number=340, pipeline_variable_list=[], block_run_details=[BlockRunDetail(block_id='ec6b540e-492c-4dcf-b79a-c5e07b20a3ed', block_run_id='d1c40723-0086-468c-b0e9-6378ef9fd23c', block_name='Test_1', technology='PYTHON', log_path=None, input_parameters='{}', output_parameters=None, status='READY_TO_GO', created_at='2020-10-07T07:58:59.076+00:00', queued_at='2020-10-07T07:58:59.000+00:00', start_time=None, end_time=None, compute_time=0, wait_time=0, run_time=0, block_run_output_list=[], resource_allocated=ResourceAllocated(cores=2, memory=20000, use_gpu=False, gpu=0, use_gpu_if_available=False, cluster_configuration={'worker': None, 'workerCore': None, 'workerMemory': None, 'numberOfInstances': None, 'maxServerCount': None}, additional_env={}, run_env='PYTHON'))], pipeline_json='{\\n  \"id\": \"f469f7ec-0872-11eb-a2d4-0242ac110008\",\\n  \"projectId\": \"c0b26d85-a4c9-44f5-9d0e-f540dd2de644\",\\n  \"name\": \"Test\",\\n  \"description\": \"\",\\n  \"blocks\": [\\n    {\\n      \"name\": \"Test_1\",\\n      \"id\": \"ec6b540e-492c-4dcf-b79a-c5e07b20a3ed\",\\n      \"artifact_id\": null,\\n      \"class_name\": \"Test\",\\n      \"code\": \"eJxtlO9vGzUYx+8ulzTtuq0tExNUaJOYUCqRkFx+S9XECIxuYWFaCxIvJsv2+eJbLufjztdRlEigqRtIfod53/6bvIHH15RWiMuL2I8fP378fT6Pf3H//KtsFZ+6SyOR+0lIZxFrXBtr9QFKGT/xUywZymYsYlLEiEY4y/QfusYtdQfN8ez/1lSV5GEkwzjTypUnCQOjco9YJjV3atyt8TVe5WVVEeQVoxJWT/VSqzWEfEER0pNM3e8FQ6/LaJ96hHWC9mBIvV4PD9vdLvEGzGvpidQvYFdNbSA0F34eMdipqjDBYbwaRiHJYPiy8FuHWYrTkye+Vg+8jt/sBsSrD4atXr3je936oOX1616/x7p9v0noANy2Vlu+Z2kWirjY2etThmmzW+94Pb/eoUNcx83esE4ZabW7TdrqeW2dY1VK81iDSrdQEEYRCvKYSoix0u72lXbFEpjBehOthEOXqlVHwmdHZnIK162N7bE1LsNvNPrct30nsub20rYtGFuRs3QWtl96Yy9LC+esJN1FyXffOOf20l1Yr8pnlYV7tnZunRt/69DStcnYUjtJKkwRUJZgylCCJYej1MfPuo9FyijOIJvpZ9GUGJEh2dEj1ELHrQYJY62clGhppE3xzyJt4CTU/BNVuSTIjQQGyVyRMHCuRGI6ZSnMwzgQWm0GDMs8ZSjGc1aEcTMWBRCBf6o2Lk4r0lHrQE44x1Kk4Kbu7YfJieQirodxksu6N6w3KfGaAfM91u4/1Hx3XBltWPamXa1US1u23tszrDz9Gz4Dwg0EcekMTw0xE8OJyQDG/L383QqqtWkkCI4yw2XVZwHOI5mBs+uHACwYb0GvZCb7YxzlzCxVLiiEKMotrsR3VQmAhqW76FpnoSwnF64ZkKlu4DgWEhs2Lk77McdRsV9VTcs0DEdqY/b6KotcvlDrQDcmIJG5wi1UAIMoZ3QGlt+Mx/ZFUYJIvG6QSNAZdGP5CzMAsN7CUfymabQBoUPQj9FgQDrDQYv4PX/gBU3Sx/1+s9X7t9H4Dj9UWwgVsVChvWkuSHn70ihyeWXdubRmLD0OKVuZQe4wDqWR+6Mav8cf1MYOQO2M3fHh6ENpndmLAlEYOQtrYZ87K1wnp5ofcQJNghKRycso7zRv84O3EHg/kynACgCQsTNyLWfjP6VfFZc/WppI32V8ZGJ+CbPHE/71hB9wwp9M+NOXmn8DxgN4okoQE+TK+ETt0pSZtzCIG/twL4DjYePqLs+LqmwixH5iNAdUzRN051oJLu1Qhe2RiCW8Uiz9amWEI/Z+LcArF5pBTcsU+i/TYwfAYnORnuhn9yeqNE1yDW17G/5RmCGRGHBwpH9XJRYfQ5c9/+Ho4NuJzol6HxXVNjlmEsfQ3VTksdRjG1Jt/AM+IThd\",\\n      \"isPublishedBlock\": false,\\n      \"source\": null,\\n      \"inputProperty\": {},\\n      \"outputProperty\": {},\\n      \"resourceRequirement\": {\\n        \"cores\": 2,\\n        \"memory\": 20000,\\n        \"useGpu\": false,\\n        \"gpu\": 0,\\n        \"useGpuIfAvailable\": false,\\n        \"clusterConfiguration\": {\\n          \"worker\": null,\\n          \"workerCore\": null,\\n          \"workerMemory\": null,\\n          \"numberOfInstances\": null,\\n          \"maxServerCount\": null\\n        },\\n        \"additionalEnv\": {},\\n        \"runEnv\": \"PYTHON\"\\n      },\\n      \"executionType\": \"BlockExecutor\",\\n      \"dependencies\": [\\n        {\\n          \"libraryId\": \"24d05fb2-8916-4d25-8127-276e57d0bc8d\",\\n          \"libraryVersionId\": \"67ceac05-426d-4c9a-a069-ceb1350c1623\"\\n        },\\n        {\\n          \"libraryId\": \"24d05fb2-8916-4d25-8127-276e57d0bc8d\",\\n          \"libraryVersionId\": \"67ceac05-426d-4c9a-a069-ceb1350c1623\"\\n        }\\n      ],\\n      \"system_dependencies\": null,\\n      \"meta_data\": null,\\n      \"process_id\": null,\\n      \"eta\": 0\\n    }\\n  ],\\n  \"connections\": [],\\n  \"priority\": \"LOW\",\\n  \"infraResourceEstimation\": null,\\n  \"resourceRequirement\": {\\n    \"cores\": null,\\n    \"memory\": null,\\n    \"useGpu\": null,\\n    \"gpu\": null,\\n    \"useGpuIfAvailable\": null,\\n    \"clusterConfiguration\": null,\\n    \"additionalEnv\": {},\\n    \"runEnv\": null\\n  },\\n  \"comments\": null,\\n  \"order\": null,\\n  \"uiData\": null,\\n  \"dom\": null,\\n  \"systemGenerated\": false,\\n  \"systemModel\": false,\\n  \"pipelineVariableList\": [],\\n  \"pipelineTemplateVersion\": 0.0,\\n  \"versionId\": null,\\n  \"engineId\": \"65ed2499-f8c9-4c4d-ad27-aa689bd1531e\",\\n  \"userId\": \"c4080201-ccc9-4657-a457-7e18c100ff28\",\\n  \"runInitiatedFrom\": \"JUPYTER\",\\n  \"processList\": null,\\n  \"processInfo\": null\\n}', dom='Yet to add', order=None, infra_resource='{\\n  \"zookeeper\": {\\n    \"cores\": 1,\\n    \"memory\": 1024,\\n    \"useGpu\": null,\\n    \"gpu\": null,\\n    \"useGpuIfAvailable\": null,\\n    \"clusterConfiguration\": null,\\n    \"additionalEnv\": {},\\n    \"runEnv\": null\\n  },\\n  \"kafka\": {\\n    \"cores\": 1,\\n    \"memory\": 1024,\\n    \"useGpu\": null,\\n    \"gpu\": null,\\n    \"useGpuIfAvailable\": null,\\n    \"clusterConfiguration\": null,\\n    \"additionalEnv\": {},\\n    \"runEnv\": null\\n  }\\n}', resource_spec=ResourceAllocated(cores=None, memory=None, use_gpu=None, gpu=None, use_gpu_if_available=None, cluster_configuration=None, additional_env={}, run_env=None), engine_id='65ed2499-f8c9-4c4d-ad27-aa689bd1531e', run_initiated_from='JUPYTER')"
      ]
     },
     "execution_count": 35,
     "metadata": {},
     "output_type": "execute_result"
    }
   ],
   "source": [
    "deployed_pipeline"
   ]
  },
  {
   "cell_type": "code",
   "execution_count": null,
   "metadata": {},
   "outputs": [],
   "source": []
  }
 ],
 "metadata": {
  "kernelspec": {
   "display_name": "Python 3",
   "language": "python",
   "name": "python3"
  },
  "language_info": {
   "codemirror_mode": {
    "name": "ipython",
    "version": 3
   },
   "file_extension": ".py",
   "mimetype": "text/x-python",
   "name": "python",
   "nbconvert_exporter": "python",
   "pygments_lexer": "ipython3",
   "version": "3.7.6"
  }
 },
 "nbformat": 4,
 "nbformat_minor": 4
}
