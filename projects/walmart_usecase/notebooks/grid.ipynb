{
 "cells": [
  {
   "cell_type": "code",
   "execution_count": 1,
   "metadata": {},
   "outputs": [],
   "source": [
    "import numpy as np\n",
    "import pandas as pd\n",
    "import os, sys, gc, time, warnings, pickle, psutil, random\n",
    "import logging\n",
    "from razor.api import project_space_path\n",
    "from math import ceil\n",
    "\n",
    "from sklearn.preprocessing import LabelEncoder\n",
    "\n",
    "warnings.filterwarnings('ignore')\n"
   ]
  },
  {
   "cell_type": "code",
   "execution_count": 2,
   "metadata": {},
   "outputs": [],
   "source": [
    "from razor.api import project_space_path\n",
    "import razor\n",
    "from razor import Technology, LibraryMode\n",
    "import razor.flow as rf\n",
    "import typing as t\n"
   ]
  },
  {
   "cell_type": "code",
   "execution_count": 3,
   "metadata": {},
   "outputs": [],
   "source": [
    "@rf.block(executor=rf.ContainerExecutor(cores=2, memory=3000))\n",
    "class Configs:\n",
    "    config: rf.Output[t.Any] = rf.Output(transport=rf.FileTransport)\n",
    "        \n",
    "    def run(self):\n",
    "        \n",
    "        dic = {\n",
    "          \"TARGET\": \"sales\",\n",
    "          \"END_TRAIN\": 1913,\n",
    "          \"MAIN_INDEX\": [\n",
    "            \"id\",\n",
    "            \"d\"\n",
    "          ],\n",
    "          'index_columns' : ['id','item_id','dept_id','cat_id','store_id','state_id'],\n",
    "          \"train_path\": \"M5Forecasting/sales_train_validation.csv\",\n",
    "          \"prices_path\": \"M5Forecasting/sell_prices.csv\",\n",
    "          \"calendar_path\" : \"M5Forecasting/calendar.csv\"\n",
    "        }\n",
    "        self.config.put(dic)\n",
    "        "
   ]
  },
  {
   "cell_type": "code",
   "execution_count": 4,
   "metadata": {},
   "outputs": [],
   "source": [
    "configs = Configs()\n"
   ]
  },
  {
   "cell_type": "code",
   "execution_count": null,
   "metadata": {},
   "outputs": [],
   "source": []
  },
  {
   "cell_type": "code",
   "execution_count": null,
   "metadata": {},
   "outputs": [],
   "source": []
  },
  {
   "cell_type": "code",
   "execution_count": 5,
   "metadata": {},
   "outputs": [],
   "source": [
    "def get_memory_usage():\n",
    "    return np.round(psutil.Process(os.getpid()).memory_info()[0]/2.**30, 2) \n",
    "        \n",
    "def sizeof_fmt(num, suffix='B'):\n",
    "    for unit in ['','Ki','Mi','Gi','Ti','Pi','Ei','Zi']:\n",
    "        if abs(num) < 1024.0:\n",
    "            return \"%3.1f%s%s\" % (num, unit, suffix)\n",
    "        num /= 1024.0\n",
    "    return \"%.1f%s%s\" % (num, 'Yi', suffix)\n"
   ]
  },
  {
   "cell_type": "code",
   "execution_count": 6,
   "metadata": {},
   "outputs": [],
   "source": [
    "TARGET = 'sales'         # Our main target\n",
    "END_TRAIN = 1913         # Last day in train set\n",
    "MAIN_INDEX = ['id','d']  # We can identify item by these columns\n"
   ]
  },
  {
   "cell_type": "code",
   "execution_count": 8,
   "metadata": {},
   "outputs": [
    {
     "name": "stdout",
     "output_type": "stream",
     "text": [
      "Load Main Data\n"
     ]
    },
    {
     "ename": "KeyboardInterrupt",
     "evalue": "",
     "output_type": "error",
     "traceback": [
      "\u001b[0;31m---------------------------------------------------------------------------\u001b[0m",
      "\u001b[0;31mKeyboardInterrupt\u001b[0m                         Traceback (most recent call last)",
      "\u001b[0;32m<ipython-input-8-b42adb84a4e8>\u001b[0m in \u001b[0;36m<module>\u001b[0;34m\u001b[0m\n\u001b[1;32m      3\u001b[0m \u001b[0;31m# Here are reafing all our data\u001b[0m\u001b[0;34m\u001b[0m\u001b[0;34m\u001b[0m\u001b[0;34m\u001b[0m\u001b[0m\n\u001b[1;32m      4\u001b[0m \u001b[0;31m# without any limitations and dtype modification\u001b[0m\u001b[0;34m\u001b[0m\u001b[0;34m\u001b[0m\u001b[0;34m\u001b[0m\u001b[0m\n\u001b[0;32m----> 5\u001b[0;31m \u001b[0mtrain_df\u001b[0m \u001b[0;34m=\u001b[0m \u001b[0mpd\u001b[0m\u001b[0;34m.\u001b[0m\u001b[0mread_csv\u001b[0m\u001b[0;34m(\u001b[0m\u001b[0mproject_space_path\u001b[0m\u001b[0;34m(\u001b[0m\u001b[0;34m'M5Forecasting/sales_train_validation.csv'\u001b[0m\u001b[0;34m)\u001b[0m\u001b[0;34m)\u001b[0m\u001b[0;34m\u001b[0m\u001b[0;34m\u001b[0m\u001b[0m\n\u001b[0m\u001b[1;32m      6\u001b[0m \u001b[0mprices_df\u001b[0m \u001b[0;34m=\u001b[0m \u001b[0mpd\u001b[0m\u001b[0;34m.\u001b[0m\u001b[0mread_csv\u001b[0m\u001b[0;34m(\u001b[0m\u001b[0mproject_space_path\u001b[0m\u001b[0;34m(\u001b[0m\u001b[0;34m'M5Forecasting/sell_prices.csv'\u001b[0m\u001b[0;34m)\u001b[0m\u001b[0;34m)\u001b[0m\u001b[0;34m\u001b[0m\u001b[0;34m\u001b[0m\u001b[0m\n\u001b[1;32m      7\u001b[0m \u001b[0mcalendar_df\u001b[0m \u001b[0;34m=\u001b[0m \u001b[0mpd\u001b[0m\u001b[0;34m.\u001b[0m\u001b[0mread_csv\u001b[0m\u001b[0;34m(\u001b[0m\u001b[0mproject_space_path\u001b[0m\u001b[0;34m(\u001b[0m\u001b[0;34m'M5Forecasting/calendar.csv'\u001b[0m\u001b[0;34m)\u001b[0m\u001b[0;34m)\u001b[0m\u001b[0;34m\u001b[0m\u001b[0;34m\u001b[0m\u001b[0m\n",
      "\u001b[0;32m/opt/conda/lib/python3.7/site-packages/pandas/io/parsers.py\u001b[0m in \u001b[0;36mparser_f\u001b[0;34m(filepath_or_buffer, sep, delimiter, header, names, index_col, usecols, squeeze, prefix, mangle_dupe_cols, dtype, engine, converters, true_values, false_values, skipinitialspace, skiprows, skipfooter, nrows, na_values, keep_default_na, na_filter, verbose, skip_blank_lines, parse_dates, infer_datetime_format, keep_date_col, date_parser, dayfirst, cache_dates, iterator, chunksize, compression, thousands, decimal, lineterminator, quotechar, quoting, doublequote, escapechar, comment, encoding, dialect, error_bad_lines, warn_bad_lines, delim_whitespace, low_memory, memory_map, float_precision)\u001b[0m\n\u001b[1;32m    674\u001b[0m         )\n\u001b[1;32m    675\u001b[0m \u001b[0;34m\u001b[0m\u001b[0m\n\u001b[0;32m--> 676\u001b[0;31m         \u001b[0;32mreturn\u001b[0m \u001b[0m_read\u001b[0m\u001b[0;34m(\u001b[0m\u001b[0mfilepath_or_buffer\u001b[0m\u001b[0;34m,\u001b[0m \u001b[0mkwds\u001b[0m\u001b[0;34m)\u001b[0m\u001b[0;34m\u001b[0m\u001b[0;34m\u001b[0m\u001b[0m\n\u001b[0m\u001b[1;32m    677\u001b[0m \u001b[0;34m\u001b[0m\u001b[0m\n\u001b[1;32m    678\u001b[0m     \u001b[0mparser_f\u001b[0m\u001b[0;34m.\u001b[0m\u001b[0m__name__\u001b[0m \u001b[0;34m=\u001b[0m \u001b[0mname\u001b[0m\u001b[0;34m\u001b[0m\u001b[0;34m\u001b[0m\u001b[0m\n",
      "\u001b[0;32m/opt/conda/lib/python3.7/site-packages/pandas/io/parsers.py\u001b[0m in \u001b[0;36m_read\u001b[0;34m(filepath_or_buffer, kwds)\u001b[0m\n\u001b[1;32m    452\u001b[0m \u001b[0;34m\u001b[0m\u001b[0m\n\u001b[1;32m    453\u001b[0m     \u001b[0;32mtry\u001b[0m\u001b[0;34m:\u001b[0m\u001b[0;34m\u001b[0m\u001b[0;34m\u001b[0m\u001b[0m\n\u001b[0;32m--> 454\u001b[0;31m         \u001b[0mdata\u001b[0m \u001b[0;34m=\u001b[0m \u001b[0mparser\u001b[0m\u001b[0;34m.\u001b[0m\u001b[0mread\u001b[0m\u001b[0;34m(\u001b[0m\u001b[0mnrows\u001b[0m\u001b[0;34m)\u001b[0m\u001b[0;34m\u001b[0m\u001b[0;34m\u001b[0m\u001b[0m\n\u001b[0m\u001b[1;32m    455\u001b[0m     \u001b[0;32mfinally\u001b[0m\u001b[0;34m:\u001b[0m\u001b[0;34m\u001b[0m\u001b[0;34m\u001b[0m\u001b[0m\n\u001b[1;32m    456\u001b[0m         \u001b[0mparser\u001b[0m\u001b[0;34m.\u001b[0m\u001b[0mclose\u001b[0m\u001b[0;34m(\u001b[0m\u001b[0;34m)\u001b[0m\u001b[0;34m\u001b[0m\u001b[0;34m\u001b[0m\u001b[0m\n",
      "\u001b[0;32m/opt/conda/lib/python3.7/site-packages/pandas/io/parsers.py\u001b[0m in \u001b[0;36mread\u001b[0;34m(self, nrows)\u001b[0m\n\u001b[1;32m   1131\u001b[0m     \u001b[0;32mdef\u001b[0m \u001b[0mread\u001b[0m\u001b[0;34m(\u001b[0m\u001b[0mself\u001b[0m\u001b[0;34m,\u001b[0m \u001b[0mnrows\u001b[0m\u001b[0;34m=\u001b[0m\u001b[0;32mNone\u001b[0m\u001b[0;34m)\u001b[0m\u001b[0;34m:\u001b[0m\u001b[0;34m\u001b[0m\u001b[0;34m\u001b[0m\u001b[0m\n\u001b[1;32m   1132\u001b[0m         \u001b[0mnrows\u001b[0m \u001b[0;34m=\u001b[0m \u001b[0m_validate_integer\u001b[0m\u001b[0;34m(\u001b[0m\u001b[0;34m\"nrows\"\u001b[0m\u001b[0;34m,\u001b[0m \u001b[0mnrows\u001b[0m\u001b[0;34m)\u001b[0m\u001b[0;34m\u001b[0m\u001b[0;34m\u001b[0m\u001b[0m\n\u001b[0;32m-> 1133\u001b[0;31m         \u001b[0mret\u001b[0m \u001b[0;34m=\u001b[0m \u001b[0mself\u001b[0m\u001b[0;34m.\u001b[0m\u001b[0m_engine\u001b[0m\u001b[0;34m.\u001b[0m\u001b[0mread\u001b[0m\u001b[0;34m(\u001b[0m\u001b[0mnrows\u001b[0m\u001b[0;34m)\u001b[0m\u001b[0;34m\u001b[0m\u001b[0;34m\u001b[0m\u001b[0m\n\u001b[0m\u001b[1;32m   1134\u001b[0m \u001b[0;34m\u001b[0m\u001b[0m\n\u001b[1;32m   1135\u001b[0m         \u001b[0;31m# May alter columns / col_dict\u001b[0m\u001b[0;34m\u001b[0m\u001b[0;34m\u001b[0m\u001b[0;34m\u001b[0m\u001b[0m\n",
      "\u001b[0;32m/opt/conda/lib/python3.7/site-packages/pandas/io/parsers.py\u001b[0m in \u001b[0;36mread\u001b[0;34m(self, nrows)\u001b[0m\n\u001b[1;32m   2035\u001b[0m     \u001b[0;32mdef\u001b[0m \u001b[0mread\u001b[0m\u001b[0;34m(\u001b[0m\u001b[0mself\u001b[0m\u001b[0;34m,\u001b[0m \u001b[0mnrows\u001b[0m\u001b[0;34m=\u001b[0m\u001b[0;32mNone\u001b[0m\u001b[0;34m)\u001b[0m\u001b[0;34m:\u001b[0m\u001b[0;34m\u001b[0m\u001b[0;34m\u001b[0m\u001b[0m\n\u001b[1;32m   2036\u001b[0m         \u001b[0;32mtry\u001b[0m\u001b[0;34m:\u001b[0m\u001b[0;34m\u001b[0m\u001b[0;34m\u001b[0m\u001b[0m\n\u001b[0;32m-> 2037\u001b[0;31m             \u001b[0mdata\u001b[0m \u001b[0;34m=\u001b[0m \u001b[0mself\u001b[0m\u001b[0;34m.\u001b[0m\u001b[0m_reader\u001b[0m\u001b[0;34m.\u001b[0m\u001b[0mread\u001b[0m\u001b[0;34m(\u001b[0m\u001b[0mnrows\u001b[0m\u001b[0;34m)\u001b[0m\u001b[0;34m\u001b[0m\u001b[0;34m\u001b[0m\u001b[0m\n\u001b[0m\u001b[1;32m   2038\u001b[0m         \u001b[0;32mexcept\u001b[0m \u001b[0mStopIteration\u001b[0m\u001b[0;34m:\u001b[0m\u001b[0;34m\u001b[0m\u001b[0;34m\u001b[0m\u001b[0m\n\u001b[1;32m   2039\u001b[0m             \u001b[0;32mif\u001b[0m \u001b[0mself\u001b[0m\u001b[0;34m.\u001b[0m\u001b[0m_first_chunk\u001b[0m\u001b[0;34m:\u001b[0m\u001b[0;34m\u001b[0m\u001b[0;34m\u001b[0m\u001b[0m\n",
      "\u001b[0;32mpandas/_libs/parsers.pyx\u001b[0m in \u001b[0;36mpandas._libs.parsers.TextReader.read\u001b[0;34m()\u001b[0m\n",
      "\u001b[0;32mpandas/_libs/parsers.pyx\u001b[0m in \u001b[0;36mpandas._libs.parsers.TextReader._read_low_memory\u001b[0;34m()\u001b[0m\n",
      "\u001b[0;32mpandas/_libs/parsers.pyx\u001b[0m in \u001b[0;36mpandas._libs.parsers.TextReader._read_rows\u001b[0;34m()\u001b[0m\n",
      "\u001b[0;32mpandas/_libs/parsers.pyx\u001b[0m in \u001b[0;36mpandas._libs.parsers.TextReader._convert_column_data\u001b[0;34m()\u001b[0m\n",
      "\u001b[0;32mpandas/_libs/parsers.pyx\u001b[0m in \u001b[0;36mpandas._libs.parsers.TextReader._convert_tokens\u001b[0;34m()\u001b[0m\n",
      "\u001b[0;32mpandas/_libs/parsers.pyx\u001b[0m in \u001b[0;36mpandas._libs.parsers.TextReader._convert_with_dtype\u001b[0;34m()\u001b[0m\n",
      "\u001b[0;32m/opt/conda/lib/python3.7/site-packages/pandas/core/dtypes/common.py\u001b[0m in \u001b[0;36mis_categorical_dtype\u001b[0;34m(arr_or_dtype)\u001b[0m\n\u001b[1;32m    540\u001b[0m \u001b[0;34m\u001b[0m\u001b[0m\n\u001b[1;32m    541\u001b[0m \u001b[0;34m\u001b[0m\u001b[0m\n\u001b[0;32m--> 542\u001b[0;31m \u001b[0;32mdef\u001b[0m \u001b[0mis_categorical_dtype\u001b[0m\u001b[0;34m(\u001b[0m\u001b[0marr_or_dtype\u001b[0m\u001b[0;34m)\u001b[0m \u001b[0;34m->\u001b[0m \u001b[0mbool\u001b[0m\u001b[0;34m:\u001b[0m\u001b[0;34m\u001b[0m\u001b[0;34m\u001b[0m\u001b[0m\n\u001b[0m\u001b[1;32m    543\u001b[0m     \"\"\"\n\u001b[1;32m    544\u001b[0m     \u001b[0mCheck\u001b[0m \u001b[0mwhether\u001b[0m \u001b[0man\u001b[0m \u001b[0marray\u001b[0m\u001b[0;34m-\u001b[0m\u001b[0mlike\u001b[0m \u001b[0;32mor\u001b[0m \u001b[0mdtype\u001b[0m \u001b[0;32mis\u001b[0m \u001b[0mof\u001b[0m \u001b[0mthe\u001b[0m \u001b[0mCategorical\u001b[0m \u001b[0mdtype\u001b[0m\u001b[0;34m.\u001b[0m\u001b[0;34m\u001b[0m\u001b[0;34m\u001b[0m\u001b[0m\n",
      "\u001b[0;31mKeyboardInterrupt\u001b[0m: "
     ]
    }
   ],
   "source": [
    "print('Load Main Data')\n",
    "\n",
    "# Here are reafing all our data \n",
    "# without any limitations and dtype modification\n",
    "train_df = pd.read_csv(project_space_path('M5Forecasting/sales_train_validation.csv'))\n",
    "prices_df = pd.read_csv(project_space_path('M5Forecasting/sell_prices.csv'))\n",
    "calendar_df = pd.read_csv(project_space_path('M5Forecasting/calendar.csv'))\n"
   ]
  },
  {
   "cell_type": "code",
   "execution_count": 34,
   "metadata": {},
   "outputs": [],
   "source": [
    "train_df.to_csv(project_space_path('M5Forecasting/train_df.csv'), index=False)\n"
   ]
  },
  {
   "cell_type": "code",
   "execution_count": 7,
   "metadata": {},
   "outputs": [],
   "source": [
    "@rf.block(executor=rf.ContainerExecutor(cores=2, memory=10192))\n",
    "class Melter:\n",
    "    path: t.Any\n",
    "    grid_df_path: rf.Output[t.Any] = rf.Output(transport=rf.FileTransport)\n",
    "        \n",
    "    def run(self):\n",
    "        \n",
    "        train_df=pd.read_csv(project_space_path(self.path))\n",
    "        print('Create Grid')\n",
    "\n",
    "        # We can tranform horizontal representation \n",
    "        # to vertical \"view\"\n",
    "        # Our \"index\" will be 'id','item_id','dept_id','cat_id','store_id','state_id'\n",
    "        # and labels are 'd_' coulmns\n",
    "\n",
    "        index_columns = ['id','item_id','dept_id','cat_id','store_id','state_id']\n",
    "        df = pd.melt(train_df, \n",
    "                          id_vars = index_columns, \n",
    "                          var_name = 'd', \n",
    "                          value_name = TARGET)\n",
    "        \n",
    "        df.to_csv(project_space_path('M5Forecasting/grid_df.csv'), index=False)\n",
    "        self.grid_df_path.put('M5Forecasting/grid_df.csv')\n"
   ]
  },
  {
   "cell_type": "code",
   "execution_count": 8,
   "metadata": {},
   "outputs": [],
   "source": [
    "melter = Melter(path='M5Forecasting/train_df.csv')\n"
   ]
  },
  {
   "cell_type": "code",
   "execution_count": 9,
   "metadata": {},
   "outputs": [],
   "source": [
    "# p = rf.Pipeline(\"Melting\", targets=[melter])  #preprocess\n"
   ]
  },
  {
   "cell_type": "code",
   "execution_count": 10,
   "metadata": {},
   "outputs": [],
   "source": [
    "# deployed_pipeline = razor.api.engines('DS-engine').execute(pipeline=p)\n",
    "# "
   ]
  },
  {
   "cell_type": "code",
   "execution_count": null,
   "metadata": {},
   "outputs": [],
   "source": []
  },
  {
   "cell_type": "code",
   "execution_count": null,
   "metadata": {},
   "outputs": [],
   "source": []
  },
  {
   "cell_type": "code",
   "execution_count": 11,
   "metadata": {},
   "outputs": [],
   "source": [
    "@rf.block(executor=rf.ContainerExecutor(cores=2, memory=8192))\n",
    "class HeavyOp1:\n",
    "    path: t.Any\n",
    "    config: t.Any\n",
    "    add_grid_path: rf.Output[t.Any] = rf.Output(transport=rf.FileTransport)\n",
    "            \n",
    "    def run(self):\n",
    "        import pandas as pd\n",
    "        import logging\n",
    "        \n",
    "        self.logger.info(\"Reading df\")\n",
    "        train_df=pd.read_csv(project_space_path(self.path))\n",
    "        self.logger.info(\"Reading df DONE...\")\n",
    "        \n",
    "        END_TRAIN = self.config[\"END_TRAIN\"]\n",
    "        TARGET = self.config[\"TARGET\"]\n",
    "        # If we look on train_df we se that \n",
    "        # we don't have a lot of traning rows\n",
    "        # but each day can provide more train data\n",
    "        print('Train rows:', len(train_df))\n",
    "\n",
    "        # To be able to make predictions\n",
    "        # we need to add \"test set\" to our grid\n",
    "        index_columns = self.config['index_columns']\n",
    "        df = pd.DataFrame()\n",
    "        for i in range(1,29):\n",
    "            temp_df = train_df[index_columns]\n",
    "            temp_df = temp_df.drop_duplicates()\n",
    "            temp_df['d'] = 'd_'+ str(END_TRAIN+i)\n",
    "            temp_df[TARGET] = np.nan\n",
    "            df = pd.concat([df,temp_df])\n",
    "            \n",
    "        self.logger.info(f'add grid  {df.shape}')\n",
    "        df.to_csv(project_space_path('M5Forecasting/add_grid.csv'), index=False)\n",
    "        self.add_grid_path.put('M5Forecasting/add_grid.csv')\n"
   ]
  },
  {
   "cell_type": "code",
   "execution_count": 12,
   "metadata": {},
   "outputs": [],
   "source": [
    "heavy_op1 = HeavyOp1(path='M5Forecasting/train_df.csv', config=configs.config)\n"
   ]
  },
  {
   "cell_type": "code",
   "execution_count": 13,
   "metadata": {},
   "outputs": [],
   "source": [
    "# p = rf.Pipeline(\"heavy_op1\", targets=[heavy_op1], env=Technology.PYTHON)  #preprocess\n"
   ]
  },
  {
   "cell_type": "code",
   "execution_count": 14,
   "metadata": {},
   "outputs": [],
   "source": [
    "# deployed_pipeline = razor.api.engines('DS-engine').execute(pipeline=p)\n"
   ]
  },
  {
   "cell_type": "code",
   "execution_count": null,
   "metadata": {},
   "outputs": [],
   "source": []
  },
  {
   "cell_type": "code",
   "execution_count": null,
   "metadata": {},
   "outputs": [],
   "source": []
  },
  {
   "cell_type": "code",
   "execution_count": 15,
   "metadata": {},
   "outputs": [],
   "source": [
    "@rf.block(executor=rf.ContainerExecutor(cores=2, memory=13000))\n",
    "class HeavyOp2:\n",
    "    grid_df_path: t.Any\n",
    "    add_grid_path: t.Any    \n",
    "    config: t.Any    \n",
    "    grid_df_int_path: rf.Output[t.Any] = rf.Output(transport=rf.FileTransport)\n",
    "        \n",
    "    def run(self):\n",
    "        \n",
    "        def sizeof_fmt(num, suffix='B'):\n",
    "            for unit in ['','Ki','Mi','Gi','Ti','Pi','Ei','Zi']:\n",
    "                if abs(num) < 1024.0:\n",
    "                    return \"%3.1f%s%s\" % (num, unit, suffix)\n",
    "                num /= 1024.0\n",
    "            return \"%.1f%s%s\" % (num, 'Yi', suffix)\n",
    "        \n",
    "        \n",
    "        grid_df = pd.read_csv(project_space_path(self.grid_df_path))\n",
    "        add_grid = pd.read_csv(project_space_path(self.add_grid_path))\n",
    "\n",
    "        grid_df = pd.concat([grid_df,add_grid])\n",
    "        grid_df = grid_df.reset_index(drop=True)\n",
    "\n",
    "\n",
    "        # Let's check our memory usage\n",
    "        self.logger.info(\"{:>20}: {:>8}\".format('Original grid_df', sizeof_fmt(grid_df.memory_usage(index=True).sum())))\n",
    "\n",
    "        # We can free some memory \n",
    "        # by converting \"strings\" to categorical\n",
    "        # it will not affect merging and \n",
    "        # we will not lose any valuable data\n",
    "        index_columns = self.config['index_columns']\n",
    "        for col in index_columns:\n",
    "            grid_df[col] = grid_df[col].astype('category')\n",
    "\n",
    "        # Let's check again memory usage\n",
    "        self.logger.info(\"{:>20}: {:>8}\".format('Reduced grid_df', sizeof_fmt(grid_df.memory_usage(index=True).sum())))\n",
    "\n",
    "        self.logger.info(f'grid int  {grid_df.dtypes}')\n",
    "        grid_df.to_csv(project_space_path('M5Forecasting/grid_df_int.csv'), index=False)\n",
    "        self.grid_df_int_path.put('M5Forecasting/grid_df_int.csv')\n"
   ]
  },
  {
   "cell_type": "code",
   "execution_count": 16,
   "metadata": {},
   "outputs": [],
   "source": [
    "heavy_op2 = HeavyOp2(config=configs.config, add_grid_path=heavy_op1.add_grid_path, grid_df_path=melter.grid_df_path)\n",
    "# heavy_op2 = HeavyOp2(config=configs.config, add_grid_path=\"M5Forecasting/add_grid.csv\", grid_df_path=\"M5Forecasting/grid_df.csv\")\n"
   ]
  },
  {
   "cell_type": "code",
   "execution_count": 17,
   "metadata": {},
   "outputs": [],
   "source": [
    "# p = rf.Pipeline(\"heavy_op2\", targets=[heavy_op2])  #preprocess\n"
   ]
  },
  {
   "cell_type": "code",
   "execution_count": 18,
   "metadata": {},
   "outputs": [],
   "source": [
    "# deployed_pipeline = razor.api.engines('DS-engine').execute(pipeline=p)\n"
   ]
  },
  {
   "cell_type": "code",
   "execution_count": null,
   "metadata": {},
   "outputs": [],
   "source": []
  },
  {
   "cell_type": "code",
   "execution_count": null,
   "metadata": {},
   "outputs": [],
   "source": []
  },
  {
   "cell_type": "code",
   "execution_count": 19,
   "metadata": {},
   "outputs": [],
   "source": [
    "@rf.block(executor=rf.ContainerExecutor(cores=2, memory=20000))\n",
    "class HeavyOp3:\n",
    "    grid_df_path: t.Any\n",
    "    config: t.Any\n",
    "    grid_pkl_path: rf.Output[t.Any] = rf.Output(transport=rf.FileTransport)\n",
    "    \n",
    "    \n",
    "    def sizeof_fmt(self, num, suffix='B'):\n",
    "        for unit in ['','Ki','Mi','Gi','Ti','Pi','Ei','Zi']:\n",
    "            if abs(num) < 1024.0:\n",
    "                return \"%3.1f%s%s\" % (num, unit, suffix)\n",
    "            num /= 1024.0\n",
    "        return \"%.1f%s%s\" % (num, 'Yi', suffix)\n",
    "\n",
    "\n",
    "    def merge_by_concat(self, df1, df2, merge_on):\n",
    "        merged_gf = df1[merge_on]\n",
    "        merged_gf = merged_gf.merge(df2, on=merge_on, how='left')\n",
    "        new_columns = [col for col in list(merged_gf) if col not in merge_on]\n",
    "        df1 = pd.concat([df1, merged_gf[new_columns]], axis=1)\n",
    "        return df1\n",
    "    \n",
    "    def run(self):\n",
    "        from razor.api import project_space_path\n",
    "        \n",
    "        prices_df = pd.read_csv(project_space_path(self.config['prices_path']))\n",
    "        grid_df = pd.read_csv(project_space_path(self.grid_df_path))\n",
    "        self.logger.info(grid_df.dtypes)\n",
    "        calendar_df = pd.read_csv(project_space_path(self.config['calendar_path']))\n",
    "        # Prices are set by week\n",
    "        # so it we will have not very accurate release week \n",
    "        release_df = prices_df.groupby(['store_id','item_id'])['wm_yr_wk'].agg(['min']).reset_index()\n",
    "        release_df.columns = ['store_id','item_id','release']\n",
    "        self.logger.info('Release Df')\n",
    "        self.logger.info(release_df.head())\n",
    "        \n",
    "        self.logger.info('Release week')\n",
    "        # Now we can merge release_df\n",
    "        grid_df = self.merge_by_concat(grid_df, release_df, ['store_id','item_id'])\n",
    "        del release_df\n",
    "\n",
    "\n",
    "        grid_df = self.merge_by_concat(grid_df, calendar_df[['wm_yr_wk','d']], ['d'])\n",
    "        self.logger.info(grid_df.columns)\n",
    "\n",
    "        self.logger.info('@@@@@@@@@@@@@@@@@@@@@@@')\n",
    "        self.logger.info(grid_df.dtypes)\n",
    "        \n",
    "        # Now we can cutoff some rows \n",
    "        # and safe memory \n",
    "        grid_df = grid_df[grid_df['wm_yr_wk']>=grid_df['release']]\n",
    "        grid_df = grid_df.reset_index(drop=True)\n",
    "\n",
    "        # Let's check our memory usage\n",
    "        self.logger.info(\"{:>20}: {:>8}\".format('Original grid_df',self.sizeof_fmt(grid_df.memory_usage(index=True).sum())))\n",
    "\n",
    "        grid_df['release'] = grid_df['release'] - grid_df['release'].min()\n",
    "        grid_df['release'] = grid_df['release'].astype(np.int16)\n",
    "\n",
    "        # Let's check again memory usage\n",
    "        self.logger.info(\"{:>20}: {:>8}\".format('Reduced grid_df',self.sizeof_fmt(grid_df.memory_usage(index=True).sum())))\n",
    "\n",
    "        index_columns = self.config['index_columns']\n",
    "        for col in index_columns:\n",
    "            grid_df[col] = grid_df[col].astype('category')\n",
    "#         grid_df = grid_df.drop(['Unnamed: 0'], 1)\n",
    "#         grid_df.to_pickle(project_space_path('M5Forecasting/m5-simple-fe/grid_part_1.pkl'))\n",
    "#         grid_df['d'] = grid_df['d'].apply(lambda x: x[2:]).astype(np.int16)\n",
    "        grid_df.to_pickle(project_space_path('M5Forecasting/m5-simple-fe/grid_part_1.pkl'))\n",
    "        self.logger.info(grid_df.shape)\n",
    "        self.logger.info(grid_df.dtypes)\n",
    "        \n",
    "        grid_df.to_csv(project_space_path('M5Forecasting/grid_df_final.csv'))\n",
    "        self.grid_pkl_path.put('M5Forecasting/m5-simple-fe/grid_part_1.pkl')\n",
    "                       \n",
    "                       "
   ]
  },
  {
   "cell_type": "code",
   "execution_count": 20,
   "metadata": {},
   "outputs": [],
   "source": [
    "heavy_op3 = HeavyOp3(config=configs.config, grid_df_path=heavy_op2.grid_df_int_path)\n",
    "# heavy_op3 = HeavyOp3(config=configs.config, grid_df_path='M5Forecasting/grid_df_int.csv')\n"
   ]
  },
  {
   "cell_type": "code",
   "execution_count": null,
   "metadata": {},
   "outputs": [],
   "source": []
  },
  {
   "cell_type": "code",
   "execution_count": null,
   "metadata": {},
   "outputs": [],
   "source": []
  },
  {
   "cell_type": "code",
   "execution_count": 7,
   "metadata": {},
   "outputs": [],
   "source": [
    "@rf.block(executor=rf.ContainerExecutor(cores=2, memory=20000))\n",
    "class HeavyOp4:\n",
    "    grid_path: t.Any\n",
    "    config: t.Any\n",
    "        \n",
    "        \n",
    "    def sizeof_fmt(self, num, suffix='B'):\n",
    "            for unit in ['','Ki','Mi','Gi','Ti','Pi','Ei','Zi']:\n",
    "                if abs(num) < 1024.0:\n",
    "                    return \"%3.1f%s%s\" % (num, unit, suffix)\n",
    "                num /= 1024.0\n",
    "            return \"%.1f%s%s\" % (num, 'Yi', suffix)\n",
    "\n",
    "        \n",
    "    def merge_by_concat(self, df1, df2, merge_on):\n",
    "        merged_gf = df1[merge_on]\n",
    "        merged_gf = merged_gf.merge(df2, on=merge_on, how='left')\n",
    "        new_columns = [col for col in list(merged_gf) if col not in merge_on]\n",
    "        df1 = pd.concat([df1, merged_gf[new_columns]], axis=1)\n",
    "        return df1\n",
    "\n",
    "    def reduce_mem_usage(self, df, verbose=True):\n",
    "        numerics = ['int16', 'int32', 'int64', 'float16', 'float32', 'float64']\n",
    "        start_mem = df.memory_usage().sum() / 1024**2    \n",
    "        for col in df.columns:\n",
    "            col_type = df[col].dtypes\n",
    "            if col_type in numerics:\n",
    "                c_min = df[col].min()\n",
    "                c_max = df[col].max()\n",
    "                if str(col_type)[:3] == 'int':\n",
    "                    if c_min > np.iinfo(np.int8).min and c_max < np.iinfo(np.int8).max:\n",
    "                        df[col] = df[col].astype(np.int8)\n",
    "                    elif c_min > np.iinfo(np.int16).min and c_max < np.iinfo(np.int16).max:\n",
    "                           df[col] = df[col].astype(np.int16)\n",
    "                    elif c_min > np.iinfo(np.int32).min and c_max < np.iinfo(np.int32).max:\n",
    "                        df[col] = df[col].astype(np.int32)\n",
    "                    elif c_min > np.iinfo(np.int64).min and c_max < np.iinfo(np.int64).max:\n",
    "                        df[col] = df[col].astype(np.int64)  \n",
    "                else:\n",
    "                    if c_min > np.finfo(np.float16).min and c_max < np.finfo(np.float16).max:\n",
    "                        df[col] = df[col].astype(np.float16)\n",
    "                    elif c_min > np.finfo(np.float32).min and c_max < np.finfo(np.float32).max:\n",
    "                        df[col] = df[col].astype(np.float32)\n",
    "                    else:\n",
    "                        df[col] = df[col].astype(np.float64)    \n",
    "        end_mem = df.memory_usage().sum() / 1024**2\n",
    "\n",
    "        if verbose: \n",
    "            print('Mem. usage decreased to {:5.2f} Mb ({:.1f}% reduction)'.format(end_mem, 100 * (start_mem - end_mem) / start_mem))\n",
    "\n",
    "        return df\n",
    "    \n",
    "    def run(self):\n",
    "        from razor.api import project_space_path\n",
    "\n",
    "        prices_df=pd.read_csv(project_space_path(self.config[\"prices_path\"]))\n",
    "        calendar_df=pd.read_csv(project_space_path(self.config[\"calendar_path\"]))\n",
    "        \n",
    "        self.logger.info('Release week')\n",
    "        \n",
    "        self.logger.info('Prices')\n",
    "\n",
    "        # We can do some basic aggregations\n",
    "        prices_df['price_max'] = prices_df.groupby(['store_id','item_id'])['sell_price'].transform('max')\n",
    "        prices_df['price_min'] = prices_df.groupby(['store_id','item_id'])['sell_price'].transform('min')\n",
    "        prices_df['price_std'] = prices_df.groupby(['store_id','item_id'])['sell_price'].transform('std')\n",
    "        prices_df['price_mean'] = prices_df.groupby(['store_id','item_id'])['sell_price'].transform('mean')\n",
    "\n",
    "        # and do price normalization (min/max scaling)\n",
    "        prices_df['price_norm'] = prices_df['sell_price']/prices_df['price_max']\n",
    "\n",
    "        # Some items are can be inflation dependent\n",
    "        # and some items are very \"stable\"\n",
    "        prices_df['price_nunique'] = prices_df.groupby(['store_id','item_id'])['sell_price'].transform('nunique')\n",
    "        prices_df['item_nunique'] = prices_df.groupby(['store_id','sell_price'])['item_id'].transform('nunique')\n",
    "\n",
    "        # I would like some \"rolling\" aggregations\n",
    "        # but would like months and years as \"window\"\n",
    "        calendar_prices = calendar_df[['wm_yr_wk','month','year']]\n",
    "        calendar_prices = calendar_prices.drop_duplicates(subset=['wm_yr_wk'])\n",
    "        prices_df = prices_df.merge(calendar_prices[['wm_yr_wk','month','year']], on=['wm_yr_wk'], how='left')\n",
    "        del calendar_prices\n",
    "\n",
    "        # Now we can add price \"momentum\" (some sort of)\n",
    "        # Shifted by week \n",
    "        # by month mean\n",
    "        # by year mean\n",
    "        prices_df['price_momentum'] = prices_df['sell_price']/prices_df.groupby(['store_id','item_id'])['sell_price'].transform(lambda x: x.shift(1))\n",
    "        prices_df['price_momentum_m'] = prices_df['sell_price']/prices_df.groupby(['store_id','item_id','month'])['sell_price'].transform('mean')\n",
    "        prices_df['price_momentum_y'] = prices_df['sell_price']/prices_df.groupby(['store_id','item_id','year'])['sell_price'].transform('mean')\n",
    "\n",
    "        del prices_df['month'], prices_df['year']\n",
    "        \n",
    "        ########################## Merge prices and save part 2\n",
    "        #################################################################################\n",
    "        self.logger.info('Merge prices and save part 2')\n",
    "\n",
    "        grid_df = pd.read_pickle(project_space_path(self.grid_path))\n",
    "        MAIN_INDEX=self.config[\"MAIN_INDEX\"]\n",
    "        \n",
    "        # Merge Prices\n",
    "        original_columns = list(grid_df)\n",
    "        grid_df = grid_df.merge(prices_df, on=['store_id','item_id','wm_yr_wk'], how='left')\n",
    "        keep_columns = [col for col in list(grid_df) if col not in original_columns]\n",
    "        grid_df = grid_df[MAIN_INDEX+keep_columns]\n",
    "        grid_df = self.reduce_mem_usage(grid_df)\n",
    "\n",
    "        self.logger.info(grid_df.dtypes)\n",
    "        # Safe part 2\n",
    "        grid_df.to_pickle(project_space_path('M5Forecasting/m5-simple-fe/grid_part_2.pkl'))\n",
    "        self.logger.info(f'Size: {grid_df.shape}')\n",
    "\n",
    "        "
   ]
  },
  {
   "cell_type": "code",
   "execution_count": 8,
   "metadata": {},
   "outputs": [],
   "source": [
    "heavy_op4 = HeavyOp4(config=configs.config, grid_path='M5Forecasting/m5-simple-fe/grid_part_1.pkl')\n",
    "# heavy_op4 = HeavyOp4(config=configs.config, grid_path=heavy_op3.grid_pkl_path)\n"
   ]
  },
  {
   "cell_type": "code",
   "execution_count": 9,
   "metadata": {},
   "outputs": [],
   "source": [
    "# p = rf.Pipeline(\"heavy_op4\", targets=[heavy_op4])  #preprocess\n"
   ]
  },
  {
   "cell_type": "code",
   "execution_count": 10,
   "metadata": {},
   "outputs": [],
   "source": [
    "# deployed_pipeline = razor.api.engines('DS-engine').execute(pipeline=p)\n"
   ]
  },
  {
   "cell_type": "code",
   "execution_count": null,
   "metadata": {},
   "outputs": [],
   "source": []
  },
  {
   "cell_type": "code",
   "execution_count": null,
   "metadata": {},
   "outputs": [],
   "source": []
  },
  {
   "cell_type": "code",
   "execution_count": 11,
   "metadata": {},
   "outputs": [],
   "source": [
    "@rf.block(executor=rf.ContainerExecutor(cores=2, memory=20000))\n",
    "class HeavyOp5:\n",
    "    grid_path: t.Any\n",
    "    config: t.Any\n",
    "       \n",
    "    \n",
    "    def sizeof_fmt(self, num, suffix='B'):\n",
    "        for unit in ['','Ki','Mi','Gi','Ti','Pi','Ei','Zi']:\n",
    "            if abs(num) < 1024.0:\n",
    "                return \"%3.1f%s%s\" % (num, unit, suffix)\n",
    "            num /= 1024.0\n",
    "        return \"%.1f%s%s\" % (num, 'Yi', suffix)\n",
    "\n",
    "\n",
    "    def merge_by_concat(self, df1, df2, merge_on):\n",
    "        merged_gf = df1[merge_on]\n",
    "        merged_gf = merged_gf.merge(df2, on=merge_on, how='left')\n",
    "        new_columns = [col for col in list(merged_gf) if col not in merge_on]\n",
    "        df1 = pd.concat([df1, merged_gf[new_columns]], axis=1)\n",
    "        return df1\n",
    "    \n",
    "    def run(self):\n",
    "        from razor.api import project_space_path\n",
    "        \n",
    "        calendar_df=pd.read_csv(project_space_path(self.config[\"calendar_path\"]))\n",
    "        grid_df = pd.read_pickle(project_space_path(self.grid_path))\n",
    "        MAIN_INDEX=self.config[\"MAIN_INDEX\"]\n",
    "        \n",
    "        ########################### Merge calendar\n",
    "        #################################################################################\n",
    "        grid_df = grid_df[MAIN_INDEX]\n",
    "\n",
    "        # Merge calendar partly\n",
    "        icols = ['date',\n",
    "                 'd',\n",
    "                 'event_name_1',\n",
    "                 'event_type_1',\n",
    "                 'event_name_2',\n",
    "                 'event_type_2',\n",
    "                 'snap_CA',\n",
    "                 'snap_TX',\n",
    "                 'snap_WI']\n",
    "        \n",
    "#         self.logger.info(f'dtypes  {grid_df.dtypes}')\n",
    "        grid_df['d'] = grid_df['d'].apply(str)\n",
    "\n",
    "        grid_df = grid_df.merge(calendar_df[icols], on=['d'], how='left')\n",
    "\n",
    "        # Minify data\n",
    "        # 'snap_' columns we can convert to bool or int8\n",
    "        icols = ['event_name_1',\n",
    "                 'event_type_1',\n",
    "                 'event_name_2',\n",
    "                 'event_type_2',\n",
    "                 'snap_CA',\n",
    "                 'snap_TX',\n",
    "                 'snap_WI']\n",
    "        for col in icols:\n",
    "            grid_df[col] = grid_df[col].astype('category')\n",
    "\n",
    "        # Convert to DateTime\n",
    "        grid_df['date'] = pd.to_datetime(grid_df['date'])\n",
    "        \n",
    "\n",
    "        # Make some features from date\n",
    "        grid_df['tm_d'] = grid_df['date'].dt.day.astype(np.int8)\n",
    "        grid_df['tm_w'] = grid_df['date'].dt.week.astype(np.int8)\n",
    "        grid_df['tm_m'] = grid_df['date'].dt.month.astype(np.int8)\n",
    "        grid_df['tm_y'] = grid_df['date'].dt.year\n",
    "        grid_df['tm_y'] = (grid_df['tm_y'] - grid_df['tm_y'].min()).astype(np.int8)\n",
    "        grid_df['tm_wm'] = grid_df['tm_d'].apply(lambda x: ceil(x/7)).astype(np.int8)\n",
    "\n",
    "        grid_df['tm_dw'] = grid_df['date'].dt.dayofweek.astype(np.int8)\n",
    "        grid_df['tm_w_end'] = (grid_df['tm_dw']>=5).astype(np.int8)\n",
    "\n",
    "        # Remove date\n",
    "        del grid_df['date']\n",
    "        ########################### Save part 3 (Dates)\n",
    "        #################################################################################\n",
    "        print('Save part 3')\n",
    "\n",
    "        self.logger.info(grid_df.shape)\n",
    "        self.logger.info(grid_df.dtypes)\n",
    "        # Safe part 3\n",
    "        grid_df.to_pickle(project_space_path('M5Forecasting/m5-simple-fe/grid_part_3.pkl'))\n",
    "        print('Size:', grid_df.shape)\n",
    "\n",
    "        # We don't need calendar_df anymore\n",
    "        del calendar_df\n",
    "        del grid_df\n",
    "\n"
   ]
  },
  {
   "cell_type": "code",
   "execution_count": 12,
   "metadata": {},
   "outputs": [],
   "source": [
    "# heavy_op5 = HeavyOp5(config=configs.config, grid_path=heavy_op3.grid_pkl_path)\n",
    "heavy_op5 = HeavyOp5(config=configs.config, grid_path='M5Forecasting/debug/grid_part_1.pkl')\n"
   ]
  },
  {
   "cell_type": "code",
   "execution_count": 13,
   "metadata": {},
   "outputs": [],
   "source": [
    "p = rf.Pipeline(\"heavy_op5\", targets=[heavy_op4, heavy_op5])  #preprocess\n",
    "# p = rf.Pipeline(\"heavy_op3\", targets=[heavy_op3])  #preprocess\n"
   ]
  },
  {
   "cell_type": "code",
   "execution_count": 14,
   "metadata": {},
   "outputs": [
    {
     "data": {
      "application/vnd.razorthink.interactive+pipeline+view+json": {
       "blocks": [
        {
         "class_name": "HeavyOp5",
         "id": "dc71e70a-b686-4f27-b955-be8c693bf3d4",
         "inputs": [
          {
           "default": null,
           "flow": "atomic",
           "help": null,
           "label": "grid_path",
           "name": "grid_path",
           "series": false,
           "type": "Any",
           "type_check": true
          },
          {
           "default": null,
           "flow": "atomic",
           "help": null,
           "label": "config",
           "name": "config",
           "series": false,
           "type": "Any",
           "type_check": true
          }
         ],
         "outputs": [],
         "overwritten": false,
         "var_names": [
          "HeavyOp5"
         ]
        },
        {
         "class_name": "Configs",
         "id": "4cec8a9e-e985-4b84-a058-bd3756e0d924",
         "inputs": [],
         "outputs": [
          {
           "flow": "atomic",
           "help": null,
           "label": "config",
           "name": "config",
           "series": false,
           "type": "Any",
           "type_check": true
          }
         ],
         "overwritten": false,
         "var_names": [
          "Configs"
         ]
        },
        {
         "class_name": "HeavyOp4",
         "id": "527c0789-db11-4bf0-b407-73e122c3b477",
         "inputs": [
          {
           "default": null,
           "flow": "atomic",
           "help": null,
           "label": "grid_path",
           "name": "grid_path",
           "series": false,
           "type": "Any",
           "type_check": true
          },
          {
           "default": null,
           "flow": "atomic",
           "help": null,
           "label": "config",
           "name": "config",
           "series": false,
           "type": "Any",
           "type_check": true
          }
         ],
         "outputs": [],
         "overwritten": false,
         "var_names": [
          "HeavyOp4"
         ]
        }
       ],
       "connections": [
        {
         "id": "c5ada738-6d6c-452f-b901-88cb487d30eb",
         "source": {
          "adapter": false,
          "instance_id": "b45166e3-f069-4f07-91f7-d474ea83bb90",
          "name": "config"
         },
         "target": {
          "adapter": false,
          "instance_id": "100e8b5c-82d7-4e48-8a62-49b1314c8923",
          "name": "config"
         }
        },
        {
         "id": "79e1d25a-c73f-4d10-ada3-1abae42d9ef0",
         "source": {
          "adapter": false,
          "instance_id": "b45166e3-f069-4f07-91f7-d474ea83bb90",
          "name": "config"
         },
         "target": {
          "adapter": false,
          "instance_id": "19e5f846-7512-47fb-a178-7d4d82c8eccd",
          "name": "config"
         }
        }
       ],
       "id": "e01b39ec-a613-450d-a7ef-414519f751b5",
       "instances": [
        {
         "block_class": "527c0789-db11-4bf0-b407-73e122c3b477",
         "id": "19e5f846-7512-47fb-a178-7d4d82c8eccd",
         "name": "HeavyOp4_1",
         "var_names": [
          "heavy_op4"
         ]
        },
        {
         "block_class": "4cec8a9e-e985-4b84-a058-bd3756e0d924",
         "id": "b45166e3-f069-4f07-91f7-d474ea83bb90",
         "name": "Configs_1",
         "var_names": [
          "configs"
         ]
        },
        {
         "block_class": "dc71e70a-b686-4f27-b955-be8c693bf3d4",
         "id": "100e8b5c-82d7-4e48-8a62-49b1314c8923",
         "name": "HeavyOp5_1",
         "var_names": [
          "heavy_op5"
         ]
        }
       ],
       "name": "heavy_op5",
       "var_names": []
      },
      "image/svg+xml": [
       "<?xml version=\"1.0\" encoding=\"UTF-8\" standalone=\"no\"?>\n",
       "<!DOCTYPE svg PUBLIC \"-//W3C//DTD SVG 1.1//EN\"\n",
       " \"http://www.w3.org/Graphics/SVG/1.1/DTD/svg11.dtd\">\n",
       "<!-- Generated by graphviz version 2.40.1 (20161225.0304)\n",
       " -->\n",
       "<!-- Title: %3 Pages: 1 -->\n",
       "<svg width=\"362pt\" height=\"127pt\"\n",
       " viewBox=\"0.00 0.00 362.36 127.00\" xmlns=\"http://www.w3.org/2000/svg\" xmlns:xlink=\"http://www.w3.org/1999/xlink\">\n",
       "<g id=\"graph0\" class=\"graph\" transform=\"scale(1 1) rotate(0) translate(4 123)\">\n",
       "<title>%3</title>\n",
       "<polygon fill=\"#ffffff\" stroke=\"transparent\" points=\"-4,4 -4,-123 358.3576,-123 358.3576,4 -4,4\"/>\n",
       "<!-- HeavyOp4(&#39;HeavyOp4_1&#39;) -->\n",
       "<g id=\"node1\" class=\"node\">\n",
       "<title>HeavyOp4(&#39;HeavyOp4_1&#39;)</title>\n",
       "<ellipse fill=\"none\" stroke=\"#000000\" cx=\"84.1788\" cy=\"-18\" rx=\"84.358\" ry=\"18\"/>\n",
       "<text text-anchor=\"middle\" x=\"84.1788\" y=\"-15.5\" font-family=\"Helvetica,sans-Serif\" font-size=\"10.00\" fill=\"#000000\">HeavyOp4(&#39;HeavyOp4_1&#39;)</text>\n",
       "</g>\n",
       "<!-- Configs(&#39;Configs_1&#39;) -->\n",
       "<g id=\"node2\" class=\"node\">\n",
       "<title>Configs(&#39;Configs_1&#39;)</title>\n",
       "<ellipse fill=\"none\" stroke=\"#000000\" cx=\"177.1788\" cy=\"-101\" rx=\"66.5378\" ry=\"18\"/>\n",
       "<text text-anchor=\"middle\" x=\"177.1788\" y=\"-98.5\" font-family=\"Helvetica,sans-Serif\" font-size=\"10.00\" fill=\"#000000\">Configs(&#39;Configs_1&#39;)</text>\n",
       "</g>\n",
       "<!-- Configs(&#39;Configs_1&#39;)&#45;&gt;HeavyOp4(&#39;HeavyOp4_1&#39;) -->\n",
       "<g id=\"edge1\" class=\"edge\">\n",
       "<title>Configs(&#39;Configs_1&#39;)&#45;&gt;HeavyOp4(&#39;HeavyOp4_1&#39;)</title>\n",
       "<path fill=\"none\" stroke=\"#000000\" d=\"M157.4559,-83.3978C144.1395,-71.5133 126.3787,-55.6623 111.6779,-42.5422\"/>\n",
       "<polygon fill=\"#000000\" stroke=\"#000000\" points=\"113.6646,-39.6241 103.8733,-35.5768 109.0036,-44.8467 113.6646,-39.6241\"/>\n",
       "<text text-anchor=\"middle\" x=\"172.6788\" y=\"-57\" font-family=\"Helvetica,sans-Serif\" font-size=\"10.00\" fill=\"#000000\">config&#45;&gt;config</text>\n",
       "</g>\n",
       "<!-- HeavyOp5(&#39;HeavyOp5_1&#39;) -->\n",
       "<g id=\"node3\" class=\"node\">\n",
       "<title>HeavyOp5(&#39;HeavyOp5_1&#39;)</title>\n",
       "<ellipse fill=\"none\" stroke=\"#000000\" cx=\"270.1788\" cy=\"-18\" rx=\"84.358\" ry=\"18\"/>\n",
       "<text text-anchor=\"middle\" x=\"270.1788\" y=\"-15.5\" font-family=\"Helvetica,sans-Serif\" font-size=\"10.00\" fill=\"#000000\">HeavyOp5(&#39;HeavyOp5_1&#39;)</text>\n",
       "</g>\n",
       "<!-- Configs(&#39;Configs_1&#39;)&#45;&gt;HeavyOp5(&#39;HeavyOp5_1&#39;) -->\n",
       "<g id=\"edge2\" class=\"edge\">\n",
       "<title>Configs(&#39;Configs_1&#39;)&#45;&gt;HeavyOp5(&#39;HeavyOp5_1&#39;)</title>\n",
       "<path fill=\"none\" stroke=\"#000000\" d=\"M196.9017,-83.3978C210.2181,-71.5133 227.9789,-55.6623 242.6797,-42.5422\"/>\n",
       "<polygon fill=\"#000000\" stroke=\"#000000\" points=\"245.354,-44.8467 250.4843,-35.5768 240.693,-39.6241 245.354,-44.8467\"/>\n",
       "<text text-anchor=\"middle\" x=\"264.6788\" y=\"-57\" font-family=\"Helvetica,sans-Serif\" font-size=\"10.00\" fill=\"#000000\">config&#45;&gt;config</text>\n",
       "</g>\n",
       "</g>\n",
       "</svg>\n"
      ],
      "text/plain": [
       "<razor.flow.pipeline.Pipeline at 0x7f4210de7910>"
      ]
     },
     "execution_count": 14,
     "metadata": {},
     "output_type": "execute_result"
    }
   ],
   "source": [
    "p"
   ]
  },
  {
   "cell_type": "code",
   "execution_count": 15,
   "metadata": {},
   "outputs": [],
   "source": [
    "deployed_pipeline = razor.api.engines('DS-engine').execute(pipeline=p)\n"
   ]
  },
  {
   "cell_type": "code",
   "execution_count": 18,
   "metadata": {},
   "outputs": [
    {
     "data": {
      "application/vnd.razorthink.run+monitor+json": "/home/jovyan/logs/46510f32-96fa-4c13-aaa3-ed673ce025a2",
      "text/plain": [
       "<razor_tools.backend.ipython.mime.run_monitor.RunMonitor at 0x7f4210bad250>"
      ]
     },
     "metadata": {
      "application/vnd.razorthink.run+monitor+json": {
       "store_in_notebook": false
      }
     },
     "output_type": "display_data"
    },
    {
     "data": {
      "text/html": [],
      "text/plain": [
       "PlatformPipelineRun(project_id='c0b26d85-a4c9-44f5-9d0e-f540dd2de644', pipeline_id='4860b7dc-0733-11eb-a609-0242ac110004', pipeline_name='heavy_op5', pipeline_run_id='46510f32-96fa-4c13-aaa3-ed673ce025a2', pipeline_version=None, comment=None, created_on='2020-10-05T17:50:47.556+00:00', start_time=None, end_time=None, eta=0, run_at=1601920247556, run_duration=0, compute_time=0, wait_time=306, ran_by_user=RanByUser(user_name='Ayan Basak', email='ayan.basak@razorthink.com'), status='IN_PROGRESS', block_status=[PlatformPipelineBlockRun(pipeline_run_id='46510f32-96fa-4c13-aaa3-ed673ce025a2', pipeline_name='heavy_op5', pipeline_status='IN_PROGRESS', block_id='e7ea43e5-e6ba-4433-9b47-e7b93e6eabf0', block_run_id='86948115-39ba-438e-a541-3fdae8cdf543', block_name='Configs_1', resource_spec=ResourceAllocated(cores=2, memory=3000, use_gpu=False, gpu=0, use_gpu_if_available=False, cluster_configuration={'worker': None, 'workerCore': None, 'workerMemory': None, 'numberOfInstances': None, 'maxServerCount': None}, additional_env={}, run_env='PYTHON'), technology='PYTHON', status='READY_TO_GO', containers=[], cluster_id='e7ea43e5-e6ba-4433-9b47-e7b93e6eabf0', _log=None, _metric=None, wait_time=0, compute_time=0, start_time=None, end_time=None, queued_at='2020-10-05T17:50:48.000+00:00'), PlatformPipelineBlockRun(pipeline_run_id='46510f32-96fa-4c13-aaa3-ed673ce025a2', pipeline_name='heavy_op5', pipeline_status='IN_PROGRESS', block_id='ae4aab92-2026-47ec-8ee0-9090baffabcf', block_run_id='d5750f24-476e-442e-bf9a-ad4e0e88b23d', block_name='HeavyOp5_1', resource_spec=ResourceAllocated(cores=2, memory=20000, use_gpu=False, gpu=0, use_gpu_if_available=False, cluster_configuration={'worker': None, 'workerCore': None, 'workerMemory': None, 'numberOfInstances': None, 'maxServerCount': None}, additional_env={}, run_env='PYTHON'), technology='PYTHON', status='YET_TO_START', containers=[], cluster_id='ae4aab92-2026-47ec-8ee0-9090baffabcf', _log=None, _metric=None, wait_time=0, compute_time=0, start_time=None, end_time=None, queued_at=None), PlatformPipelineBlockRun(pipeline_run_id='46510f32-96fa-4c13-aaa3-ed673ce025a2', pipeline_name='heavy_op5', pipeline_status='IN_PROGRESS', block_id='38bba614-4fb6-4710-9527-fd371a9e9eda', block_run_id='24bdcf91-9ca9-46b8-a98b-b097c7e27b63', block_name='HeavyOp4_1', resource_spec=ResourceAllocated(cores=2, memory=20000, use_gpu=False, gpu=0, use_gpu_if_available=False, cluster_configuration={'worker': None, 'workerCore': None, 'workerMemory': None, 'numberOfInstances': None, 'maxServerCount': None}, additional_env={}, run_env='PYTHON'), technology='PYTHON', status='YET_TO_START', containers=[], cluster_id='38bba614-4fb6-4710-9527-fd371a9e9eda', _log=None, _metric=None, wait_time=0, compute_time=0, start_time=None, end_time=None, queued_at=None)], run_number=315, pipeline_variable_list=[], block_run_details=[BlockRunDetail(block_id='e7ea43e5-e6ba-4433-9b47-e7b93e6eabf0', block_run_id='86948115-39ba-438e-a541-3fdae8cdf543', block_name='Configs_1', technology='PYTHON', log_path=None, input_parameters='{}', output_parameters=None, status='READY_TO_GO', created_at='2020-10-05T17:50:47.670+00:00', queued_at='2020-10-05T17:50:48.000+00:00', start_time=None, end_time=None, compute_time=0, wait_time=0, run_time=0, block_run_output_list=[BlockRunOutputList(output_id='bb4c88f4-8e15-4666-80a6-446168745dbc', output_name='config', created_on='2020-10-05T17:50:47.804+00:00', output_status='YET_TO_START', block_transport='FILE'), BlockRunOutputList(output_id='3e511386-9b80-4041-9abd-51b0bee23766', output_name='config', created_on='2020-10-05T17:50:47.853+00:00', output_status='YET_TO_START', block_transport='FILE')], resource_allocated=ResourceAllocated(cores=2, memory=3000, use_gpu=False, gpu=0, use_gpu_if_available=False, cluster_configuration={'worker': None, 'workerCore': None, 'workerMemory': None, 'numberOfInstances': None, 'maxServerCount': None}, additional_env={}, run_env='PYTHON')), BlockRunDetail(block_id='ae4aab92-2026-47ec-8ee0-9090baffabcf', block_run_id='d5750f24-476e-442e-bf9a-ad4e0e88b23d', block_name='HeavyOp5_1', technology='PYTHON', log_path=None, input_parameters=None, output_parameters=None, status='YET_TO_START', created_at='2020-10-05T17:50:47.862+00:00', queued_at=None, start_time=None, end_time=None, compute_time=0, wait_time=0, run_time=0, block_run_output_list=[], resource_allocated=ResourceAllocated(cores=2, memory=20000, use_gpu=False, gpu=0, use_gpu_if_available=False, cluster_configuration={'worker': None, 'workerCore': None, 'workerMemory': None, 'numberOfInstances': None, 'maxServerCount': None}, additional_env={}, run_env='PYTHON')), BlockRunDetail(block_id='38bba614-4fb6-4710-9527-fd371a9e9eda', block_run_id='24bdcf91-9ca9-46b8-a98b-b097c7e27b63', block_name='HeavyOp4_1', technology='PYTHON', log_path=None, input_parameters=None, output_parameters=None, status='YET_TO_START', created_at='2020-10-05T17:50:47.935+00:00', queued_at=None, start_time=None, end_time=None, compute_time=0, wait_time=0, run_time=0, block_run_output_list=[], resource_allocated=ResourceAllocated(cores=2, memory=20000, use_gpu=False, gpu=0, use_gpu_if_available=False, cluster_configuration={'worker': None, 'workerCore': None, 'workerMemory': None, 'numberOfInstances': None, 'maxServerCount': None}, additional_env={}, run_env='PYTHON'))], pipeline_json='{\\n  \"id\": \"4860b7dc-0733-11eb-a609-0242ac110004\",\\n  \"projectId\": \"c0b26d85-a4c9-44f5-9d0e-f540dd2de644\",\\n  \"name\": \"heavy_op5\",\\n  \"description\": \"\",\\n  \"blocks\": [\\n    {\\n      \"name\": \"HeavyOp4_1\",\\n      \"id\": \"38bba614-4fb6-4710-9527-fd371a9e9eda\",\\n      \"artifact_id\": null,\\n      \"class_name\": \"HeavyOp4\",\\n      \"code\": \"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\",\\n      \"isPublishedBlock\": false,\\n      \"source\": null,\\n      \"inputProperty\": {\\n        \"grid_path\": {\\n          \"dtype\": \"Any\",\\n          \"required\": \"false\",\\n          \"series\": false,\\n          \"adapter\": \"eJxrYJmqxgABPYJFiVX5RXppOfnlern5Kak5xVN6ePLy8wviE1MSC0pSi6ZMnqIHAF/+ELQ=\",\\n          \"validator\": \"eJxrYJmqwQABPYJFiVX5RXppOfnlern5Kak5xVN6+PLy8wviyxJzMlMSS/KLpkyeogcAg2wRnQ==\",\\n          \"source_id\": null,\\n          \"source_name\": null,\\n          \"inferred_type\": \"STATIC\",\\n          \"value\": \"eJxrYJmqxwABPVq+pm75RanJicUlmXnp+rmmusWZuQU5qbppqfrpRZkp8QWJRSXxhnoF2TlT9ADQohIn\"\\n        },\\n        \"config\": {\\n          \"dtype\": \"Any\",\\n          \"required\": \"false\",\\n          \"series\": false,\\n          \"adapter\": \"eJxrYJmqxgABPYJFiVX5RXppOfnlern5Kak5xVN6ePLy8wviE1MSC0pSi6ZMnqIHAF/+ELQ=\",\\n          \"validator\": \"eJxrYJmqwQABPYJFiVX5RXppOfnlern5Kak5xVN6+PLy8wviyxJzMlMSS/KLpkyeogcAg2wRnQ==\",\\n          \"source_id\": \"e7ea43e5-e6ba-4433-9b47-e7b93e6eabf0\",\\n          \"source_name\": \"config\",\\n          \"inferred_type\": \"BLOCK\",\\n          \"value\": null\\n        }\\n      },\\n      \"outputProperty\": {},\\n      \"resourceRequirement\": {\\n        \"cores\": 2,\\n        \"memory\": 20000,\\n        \"useGpu\": false,\\n        \"gpu\": 0,\\n        \"useGpuIfAvailable\": false,\\n        \"clusterConfiguration\": {\\n          \"worker\": null,\\n          \"workerCore\": null,\\n          \"workerMemory\": null,\\n          \"numberOfInstances\": null,\\n          \"maxServerCount\": null\\n        },\\n        \"additionalEnv\": {},\\n        \"runEnv\": \"PYTHON\"\\n      },\\n      \"executionType\": \"BlockExecutor\",\\n      \"dependencies\": [],\\n      \"system_dependencies\": null,\\n      \"meta_data\": null,\\n      \"process_id\": null,\\n      \"eta\": 0\\n    },\\n    {\\n      \"name\": \"Configs_1\",\\n      \"id\": \"e7ea43e5-e6ba-4433-9b47-e7b93e6eabf0\",\\n      \"artifact_id\": null,\\n      \"class_name\": \"Configs\",\\n      \"code\": \"eJyNVV1vE0cU3V1/xiEJBAoqbWnVJ/MQOzROnFSIiprQUitLFSLRPqDpeGfWs/F61+zMJhgFqRUKBGnUPjB9aisVif9A/117Z3YdG8RDEyWeuTOeuffcc878XPz9zpxlfuQlL4xTMgq8QUgbM2MlP0QJZWOSYEERH9CQijhCXog5Vy9VnVnyAhriwfvWZLWXBqEIIq5kUYxHFIKy0okjP+hzxZw6K9ZZhVVZSZbj3j71BGw4Vk9gE0Ik9hBSLpef+S3a6+HWVmvVu9ba7PU219sbmLS+oOutVdz228oVahe+VZc1hIYxSUMK35RVmOAg0sMlhHAUxQKLII44ROCKsmfyUHIOxSMK1cUJ3NunIhB0qBNdTvDjOGn4YXzYiFMxSgWUUb5rRnq9DBUFERxQuBmNIfAMkuDsIvv46i8mmVKIezRUrixzmgSUqxeyyGg4gkgGBvtUFiM8hMFFOScSHPFRnAglP5i5+DQMdy/cDkK6d7rvpcovmgs4mlzB6q4siRh6B9fMcxoRmiCz3ZULCfVocDAN1B6mNIXGBY+p6lpyiWGOgigQAQ4hRNSLtCdrOlXkMeoN1AnMC0kaKWj6IvKDMER+Gnka1JwKS1MqmCUIQ3QB5TxAExJUOzGhe3pyDKjVu3bX6jrduW6n0yI2cUiBFPv6f4mUSYVUyVy/TGpknpwhC39WnthH1r71t31kv7Jti1j3LKWr5jgEBHbGFekEREkb/iq6l0jPKoSOhBmVPZwNqhxaTidDzW49rO+s34awhznk22+aQxF0AZI/AFiIoVDD4wdKfvLOVgp4jJLAozxbv/z2ugdHRQQnZrEuy3s3d7/Z3gP+bbu30N7uzTuukrUd+EB33FvbP0C/A+jeI+TFYTrUEqplaYywYErOZzfls4XJ4dlcwC+QqqCZ+gy0B6n5wFMCrIDplevBaCxYHK0EEexYWVtZXfOx197abPvYv6HYRrfUWbYKju04jl10Fm0Y2VVHXb2qhfbdv/CjeTeP4DZvgPtabq7Wm2YzjNn59HmuyEo/jHs45FpxVUJ9nIZAZVAA5CJ0cBG8hqfQB0A3pXqpnEkYTmF1tgFZx5rLl9CMKSGe9rJdXD0ALGbEbS56mOLQKEvO527T0LSVtcHhNIdU7IL2kVGpKWARoSnZIXKid5ybEWMvjL0BNKL0tR4YyT9RbEF71PpWe3PNb+ONrbW1Fl3v9da3CMXtVbzlr11r041Tj2LLLJVnETJnIdOA3JDOTYK52Zgo+MnnXC5PlkDmB6bt5htga5mJoQw95cL2kqyOEu1oYmxEuVlnX7KvMonZ3VL3fGdZWEcWsU+sPyzi/FV46oCAXOloo6xMTnqeeSEWIgGJsvvHSraaLB7S5n58MMZR8zBOBs1GjuZKGPR40yDV1Eg1M6QaozHoDY4RNFHdVx3HshWrHytDo66t0UCyNgVYsZ8AHOARWIvh0a8THjECUPgu68NH8ABQwWyfpcCP39jAZSFEIlgZySuZ/0wAaFyHPIB9Nxp5EizRbT/FxDG2UwRMzp6AqZxYR/bTQm4pLuTJ7stShsczSEYbeVbK67wUE0F+BMtZTQ5T78+4Dp1J5fm8t2gI0KL8tJeK5sW8/p/F8NliXMMsjZq2bo3au9Xd61wW2i4tbZcwco6gzlfOtE52wN6AScOzwMXklOfQdFYHt6he5yIB/wJfeNN1OkXLqdlvO8FsxQfskEPZcKYp3GX7LhT2ZrawOlC0AGdC4Ryq/MhLqDZfP5oWOK3FlCjPIEQfUS8Fw9YsvTCjyUkcZHkOtC7AIWmynQenb2TJMBJoXvLAkjl0CnyGDuNkrHb+mZeF/ig1TyB8InhO45E2ExzCm12gEXh5+fsf97696yp4AS8iI3+dIzwbkQeGEaeRAEJDqo3/AJ6oihI=\",\\n      \"isPublishedBlock\": false,\\n      \"source\": null,\\n      \"inputProperty\": {},\\n      \"outputProperty\": {\\n        \"config\": {\\n          \"series\": false,\\n          \"adapter\": \"eJxrYJmqxgABPYJFiVX5RXppOfnlern5Kak5xVN6ePLy8wviE1MSC0pSi6ZMnqIHAF/+ELQ=\",\\n          \"transport\": \"FILE\"\\n        }\\n      },\\n      \"resourceRequirement\": {\\n        \"cores\": 2,\\n        \"memory\": 3000,\\n        \"useGpu\": false,\\n        \"gpu\": 0,\\n        \"useGpuIfAvailable\": false,\\n        \"clusterConfiguration\": {\\n          \"worker\": null,\\n          \"workerCore\": null,\\n          \"workerMemory\": null,\\n          \"numberOfInstances\": null,\\n          \"maxServerCount\": null\\n        },\\n        \"additionalEnv\": {},\\n        \"runEnv\": \"PYTHON\"\\n      },\\n      \"executionType\": \"BlockExecutor\",\\n      \"dependencies\": [],\\n      \"system_dependencies\": null,\\n      \"meta_data\": null,\\n      \"process_id\": null,\\n      \"eta\": 0\\n    },\\n    {\\n      \"name\": \"HeavyOp5_1\",\\n      \"id\": \"ae4aab92-2026-47ec-8ee0-9090baffabcf\",\\n      \"artifact_id\": null,\\n      \"class_name\": \"HeavyOp5\",\\n      \"code\": \"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\",\\n      \"isPublishedBlock\": false,\\n      \"source\": null,\\n      \"inputProperty\": {\\n        \"grid_path\": {\\n          \"dtype\": \"Any\",\\n          \"required\": \"false\",\\n          \"series\": false,\\n          \"adapter\": \"eJxrYJmqxgABPYJFiVX5RXppOfnlern5Kak5xVN6ePLy8wviE1MSC0pSi6ZMnqIHAF/+ELQ=\",\\n          \"validator\": \"eJxrYJmqwQABPYJFiVX5RXppOfnlern5Kak5xVN6+PLy8wviyxJzMlMSS/KLpkyeogcAg2wRnQ==\",\\n          \"source_id\": null,\\n          \"source_name\": null,\\n          \"inferred_type\": \"STATIC\",\\n          \"value\": \"eJxrYJmqzgABPcq+pm75RanJicUlmXnp+impSaXp+ulFmSnxBYlFJfGGegXZOVP0AF2jD88=\"\\n        },\\n        \"config\": {\\n          \"dtype\": \"Any\",\\n          \"required\": \"false\",\\n          \"series\": false,\\n          \"adapter\": \"eJxrYJmqxgABPYJFiVX5RXppOfnlern5Kak5xVN6ePLy8wviE1MSC0pSi6ZMnqIHAF/+ELQ=\",\\n          \"validator\": \"eJxrYJmqwQABPYJFiVX5RXppOfnlern5Kak5xVN6+PLy8wviyxJzMlMSS/KLpkyeogcAg2wRnQ==\",\\n          \"source_id\": \"e7ea43e5-e6ba-4433-9b47-e7b93e6eabf0\",\\n          \"source_name\": \"config\",\\n          \"inferred_type\": \"BLOCK\",\\n          \"value\": null\\n        }\\n      },\\n      \"outputProperty\": {},\\n      \"resourceRequirement\": {\\n        \"cores\": 2,\\n        \"memory\": 20000,\\n        \"useGpu\": false,\\n        \"gpu\": 0,\\n        \"useGpuIfAvailable\": false,\\n        \"clusterConfiguration\": {\\n          \"worker\": null,\\n          \"workerCore\": null,\\n          \"workerMemory\": null,\\n          \"numberOfInstances\": null,\\n          \"maxServerCount\": null\\n        },\\n        \"additionalEnv\": {},\\n        \"runEnv\": \"PYTHON\"\\n      },\\n      \"executionType\": \"BlockExecutor\",\\n      \"dependencies\": [],\\n      \"system_dependencies\": null,\\n      \"meta_data\": null,\\n      \"process_id\": null,\\n      \"eta\": 0\\n    }\\n  ],\\n  \"connections\": [\\n    {\\n      \"source_block_id\": \"e7ea43e5-e6ba-4433-9b47-e7b93e6eabf0\",\\n      \"target_block_id\": \"ae4aab92-2026-47ec-8ee0-9090baffabcf\",\\n      \"source_output\": \"config\",\\n      \"target_input\": \"config\"\\n    },\\n    {\\n      \"source_block_id\": \"e7ea43e5-e6ba-4433-9b47-e7b93e6eabf0\",\\n      \"target_block_id\": \"38bba614-4fb6-4710-9527-fd371a9e9eda\",\\n      \"source_output\": \"config\",\\n      \"target_input\": \"config\"\\n    }\\n  ],\\n  \"priority\": \"LOW\",\\n  \"infraResourceEstimation\": null,\\n  \"resourceRequirement\": {\\n    \"cores\": null,\\n    \"memory\": null,\\n    \"useGpu\": null,\\n    \"gpu\": null,\\n    \"useGpuIfAvailable\": null,\\n    \"clusterConfiguration\": null,\\n    \"additionalEnv\": {},\\n    \"runEnv\": null\\n  },\\n  \"comments\": null,\\n  \"order\": null,\\n  \"uiData\": null,\\n  \"dom\": null,\\n  \"systemGenerated\": false,\\n  \"systemModel\": false,\\n  \"pipelineVariableList\": [],\\n  \"pipelineTemplateVersion\": 0.0,\\n  \"versionId\": null,\\n  \"engineId\": \"65ed2499-f8c9-4c4d-ad27-aa689bd1531e\",\\n  \"userId\": \"c4080201-ccc9-4657-a457-7e18c100ff28\",\\n  \"runInitiatedFrom\": \"JUPYTER\",\\n  \"processList\": null,\\n  \"processInfo\": null\\n}', dom='Yet to add', order=None, infra_resource='{\\n  \"zookeeper\": {\\n    \"cores\": 1,\\n    \"memory\": 1024,\\n    \"useGpu\": null,\\n    \"gpu\": null,\\n    \"useGpuIfAvailable\": null,\\n    \"clusterConfiguration\": null,\\n    \"additionalEnv\": {},\\n    \"runEnv\": null\\n  },\\n  \"kafka\": {\\n    \"cores\": 1,\\n    \"memory\": 1024,\\n    \"useGpu\": null,\\n    \"gpu\": null,\\n    \"useGpuIfAvailable\": null,\\n    \"clusterConfiguration\": null,\\n    \"additionalEnv\": {},\\n    \"runEnv\": null\\n  }\\n}', resource_spec=ResourceAllocated(cores=None, memory=None, use_gpu=None, gpu=None, use_gpu_if_available=None, cluster_configuration=None, additional_env={}, run_env=None), engine_id='65ed2499-f8c9-4c4d-ad27-aa689bd1531e', run_initiated_from='JUPYTER')"
      ]
     },
     "execution_count": 18,
     "metadata": {},
     "output_type": "execute_result"
    }
   ],
   "source": [
    "deployed_pipeline"
   ]
  },
  {
   "cell_type": "code",
   "execution_count": null,
   "metadata": {},
   "outputs": [],
   "source": []
  }
 ],
 "metadata": {
  "kernelspec": {
   "display_name": "Python 3",
   "language": "python",
   "name": "python3"
  },
  "language_info": {
   "codemirror_mode": {
    "name": "ipython",
    "version": 3
   },
   "file_extension": ".py",
   "mimetype": "text/x-python",
   "name": "python",
   "nbconvert_exporter": "python",
   "pygments_lexer": "ipython3",
   "version": "3.7.6"
  }
 },
 "nbformat": 4,
 "nbformat_minor": 4
}
