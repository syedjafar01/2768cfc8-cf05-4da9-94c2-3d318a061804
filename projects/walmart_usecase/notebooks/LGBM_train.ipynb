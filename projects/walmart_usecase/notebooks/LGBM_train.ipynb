{
 "cells": [
  {
   "cell_type": "code",
   "execution_count": 1,
   "metadata": {},
   "outputs": [
    {
     "data": {
      "text/html": [
       "<html>\n",
       "            <h4>Library</h4>\n",
       "            <table width='100%'>\n",
       "                <tr>\n",
       "                    <th width='20%' style='align:left; text-align:center;'>Name</th>\n",
       "                    <th style='align:left; text-align:left;'>Technology</th>\n",
       "                    <th style='align:left; text-align:left;'>Install Status</th>\n",
       "                    <th style='align:left; text-align:left;'>Created by</th>\n",
       "                    <th style='align:left; text-align:left;'>Created on</th>\n",
       "                    <th style='align:left; text-align:left;'>Modified by</th>\n",
       "                    <th style='align:left; text-align:left;'>Modified on</th>\n",
       "                </tr><tr>\n",
       "                        <td width='20%' style='align:center; text-align:center;'>fastparquet</td>\n",
       "                        <td style='align:left; text-align:left;'>PYTHON</td>\n",
       "                        <td style='align:left; text-align:left;'>INSTALLED</td>\n",
       "                        <td style='align:left; text-align:left;'>Ayan Basak</td>\n",
       "                        <td style='align:left; text-align:left;'>Sep 25, 2020</td>\n",
       "                        <td style='align:left; text-align:left;'>Ayan Basak</td>\n",
       "                        <td style='align:left; text-align:left;'>Sep 25, 2020</td>\n",
       "                    </tr></table></html>"
      ],
      "text/plain": [
       "PlatformLibrary(id_='54865fdd-700e-494b-a8f8-0b6258aed7cf', artifact_version='01a8b174-7b78-4a53-bf28-5938922e4cd8', name='fastparquet', technology='PYTHON', installation_status='INSTALLED', created_by='Ayan Basak', created_on='2020-09-25T12:27:54.000+00:00', modified_by='Ayan Basak', modified_on='2020-09-25T12:27:54.000+00:00')"
      ]
     },
     "execution_count": 1,
     "metadata": {},
     "output_type": "execute_result"
    }
   ],
   "source": [
    "razor.api.libraries('fastparquet')\n"
   ]
  },
  {
   "cell_type": "code",
   "execution_count": 2,
   "metadata": {},
   "outputs": [],
   "source": [
    "import razor\n"
   ]
  },
  {
   "cell_type": "code",
   "execution_count": 3,
   "metadata": {},
   "outputs": [],
   "source": [
    "config = {'cpu': 8 , 'ram': 36000}"
   ]
  },
  {
   "cell_type": "code",
   "execution_count": null,
   "metadata": {},
   "outputs": [],
   "source": []
  },
  {
   "cell_type": "code",
   "execution_count": 4,
   "metadata": {},
   "outputs": [],
   "source": [
    "# General imports\n",
    "import numpy as np\n",
    "import pandas as pd\n",
    "import os, sys, gc, time, warnings, pickle, psutil, random\n",
    "\n",
    "# custom imports\n",
    "from multiprocessing import Pool        # Multiprocess Runs\n",
    "\n",
    "warnings.filterwarnings('ignore')"
   ]
  },
  {
   "cell_type": "code",
   "execution_count": 5,
   "metadata": {},
   "outputs": [],
   "source": [
    "import razor.flow as rf\n",
    "from razor.api import datasources\n",
    "from razor import project_space_path\n",
    "import razor\n",
    "from razor import Technology, LibraryMode\n"
   ]
  },
  {
   "cell_type": "code",
   "execution_count": 6,
   "metadata": {},
   "outputs": [],
   "source": [
    "import typing as t"
   ]
  },
  {
   "cell_type": "code",
   "execution_count": null,
   "metadata": {},
   "outputs": [],
   "source": []
  },
  {
   "cell_type": "markdown",
   "metadata": {},
   "source": [
    "# Light GBM modelling"
   ]
  },
  {
   "cell_type": "code",
   "execution_count": null,
   "metadata": {},
   "outputs": [],
   "source": []
  },
  {
   "cell_type": "code",
   "execution_count": 7,
   "metadata": {},
   "outputs": [],
   "source": [
    "lib1 = razor.api.libraries(name='lightgbm').artifact()"
   ]
  },
  {
   "cell_type": "code",
   "execution_count": 8,
   "metadata": {},
   "outputs": [],
   "source": [
    "@rf.block(executor=rf.ContainerExecutor(cores=config['cpu'], memory=config['ram']))\n",
    "class Train:\n",
    "#     config: t.Any\n",
    "    \n",
    "    __libs__ = [lib1]\n",
    "    \n",
    "    def init(self):\n",
    "        #PATHS for Features\n",
    "        self.ORIGINAL = project_space_path(\"M5Forecasting\")+\"/\"\n",
    "        self.BASE     = project_space_path('M5Forecasting/m5-simple-fe/grid_part_1.pkl')\n",
    "        self.PRICE    = project_space_path('M5Forecasting/m5-simple-fe/grid_part_2.pkl')\n",
    "        self.CALENDAR = project_space_path('M5Forecasting/m5-simple-fe/grid_part_3.pkl')\n",
    "        self.LAGS     = project_space_path('M5Forecasting/lags_df_28.pkl')\n",
    "        self.MEAN_ENC = project_space_path('M5Forecasting/mean_encoding_df.pkl')\n",
    "\n",
    "        #LIMITS and const\n",
    "        self.TARGET      = 'sales'            # Our target\n",
    "        self.START_TRAIN = 0                  # We can skip some rows (Nans/faster training)\n",
    "        self.END_TRAIN   = 1913               # End day of our train set\n",
    "        self.P_HORIZON   = 28                 # Prediction horizon\n",
    "        self.USE_AUX     = False               # Use or not pretrained models\n",
    "        self.N_CORES = psutil.cpu_count()     # Available CPU cores\n",
    "\n",
    "        # AUX(pretrained) Models paths\n",
    "        self.AUX_MODELS = '../input/m5-aux-models/'\n",
    "\n",
    "\n",
    "        #STORES ids\n",
    "        self.STORES_IDS = pd.read_csv(self.ORIGINAL+'sales_train_validation.csv')['store_id']\n",
    "        self.STORES_IDS = list(self.STORES_IDS.unique())\n",
    "\n",
    "\n",
    "        #SPLITS for lags creation\n",
    "        self.SHIFT_DAY  = 28\n",
    "        self.N_LAGS     = 15\n",
    "        self.LAGS_SPLIT = [col for col in range(self.SHIFT_DAY, self.SHIFT_DAY + self.N_LAGS)]\n",
    "        \n",
    "        self.remove_features = ['id','state_id','store_id',\n",
    "                           'date','wm_yr_wk','d', self.TARGET]\n",
    "        self.mean_features   = ['enc_cat_id_mean','enc_cat_id_std',\n",
    "                           'enc_dept_id_mean','enc_dept_id_std',\n",
    "                           'enc_item_id_mean','enc_item_id_std'] \n",
    "\n",
    "            \n",
    "    def seed_everything(self, seed=0):\n",
    "        random.seed(seed)\n",
    "        np.random.seed(seed)\n",
    "\n",
    "\n",
    "    ## Multiprocess Runs\n",
    "    def df_parallelize_run(self, func, t_split):\n",
    "        num_cores = np.min([self.N_CORES,len(t_split)])\n",
    "        pool = Pool(num_cores)\n",
    "        df = pd.concat(pool.map(func, t_split), axis=1)\n",
    "        pool.close()\n",
    "        pool.join()\n",
    "        return df\n",
    "\n",
    "    def get_data_by_store(self, store):\n",
    "\n",
    "        # Read and contact basic feature\n",
    "        df1 = pd.read_pickle(self.BASE)\n",
    "#         df1 = df1[df1['store_id']==store]\n",
    "        df2 = pd.read_pickle(self.PRICE).iloc[:,2:]\n",
    "#         df2 = df2[df2['store_id']==store]\n",
    "        df3 = pd.read_pickle(self.CALENDAR).iloc[:,2:]\n",
    "        df = pd.concat([df1, df2, df3],\n",
    "                        axis=1)\n",
    "\n",
    "        # Leave only relevant store\n",
    "        df = df[df['store_id']==store]\n",
    "\n",
    "        # With memory limits we have to read \n",
    "        # lags and mean encoding features\n",
    "        # separately and drop items that we don't need.\n",
    "        # As our Features Grids are aligned \n",
    "        # we can use index to keep only necessary rows\n",
    "        # Alignment is good for us as concat uses less memory than merge.\n",
    "        df2 = pd.read_pickle(self.MEAN_ENC)[self.mean_features]\n",
    "        df2 = df2[df2.index.isin(df.index)]\n",
    "\n",
    "        df = pd.concat([df, df2], axis=1)\n",
    "        del df2 # to not reach memory limit \n",
    "        gc.collect()\n",
    "\n",
    "        df3 = pd.read_pickle(self.LAGS).iloc[:,3:]\n",
    "        df3 = df3[df3.index.isin(df.index)]\n",
    "\n",
    "\n",
    "        df = pd.concat([df, df3], axis=1)\n",
    "        del df3 # to not reach memory limit \n",
    "        gc.collect()\n",
    "\n",
    "        # Create features list\n",
    "        features = [col for col in list(df) if col not in self.remove_features]\n",
    "        df = df[['id','d',self.TARGET]+features]\n",
    "\n",
    "        # Skipping first n rows\n",
    "        df = df[df['d']>=self.START_TRAIN].reset_index(drop=True)\n",
    "\n",
    "        return df, features\n",
    "\n",
    "    # Recombine Test set after training\n",
    "    def get_base_test(self):\n",
    "        base_test = pd.DataFrame()\n",
    "\n",
    "        for store_id in self.STORES_IDS:\n",
    "            temp_df = pd.read_pickle('test_'+store_id+'.pkl')\n",
    "            temp_df['store_id'] = store_id\n",
    "            base_test = pd.concat([base_test, temp_df]).reset_index(drop=True)\n",
    "\n",
    "        return base_test\n",
    "\n",
    "\n",
    "    ########################### Helper to make dynamic rolling lags\n",
    "    #################################################################################\n",
    "    def make_lag(self, LAG_DAY):\n",
    "        lag_df = base_test[['id','d',self.TARGET]]\n",
    "        col_name = f'sales_lag_{str(LAG_DAY)}'\n",
    "        lag_df[col_name] = lag_df.groupby(['id'])[self.TARGET].transform(lambda x: x.shift(LAG_DAY)).astype(np.float16)\n",
    "        return lag_df[[col_name]]\n",
    "\n",
    "\n",
    "    def make_lag_roll(self, LAG_DAY):\n",
    "        shift_day = LAG_DAY[0]\n",
    "        roll_wind = LAG_DAY[1]\n",
    "        lag_df = base_test[['id','d',self.TARGET]]\n",
    "        col_name = f'rolling_mean_tmp_{str(shift_day)}_{str(roll_wind)}'\n",
    "        lag_df[col_name] = lag_df.groupby(['id'])[self.TARGET].transform(lambda x: x.shift(shift_day).rolling(roll_wind).mean())\n",
    "        return lag_df[[col_name]]\n",
    "    \n",
    "    def run(self):\n",
    "                         \n",
    "        import logging\n",
    "\n",
    "\n",
    "        import lightgbm as lgb\n",
    "        lgb_params = {\n",
    "                            'boosting_type': 'gbdt',\n",
    "                            'objective': 'tweedie',\n",
    "                            'tweedie_variance_power': 1.1,\n",
    "                            'metric': 'rmse',\n",
    "                            'subsample': 0.5,\n",
    "                            'subsample_freq': 1,\n",
    "                            'learning_rate': 0.03,\n",
    "                            'num_leaves': 2**11-1,\n",
    "                            'min_data_in_leaf': 2**12-1,\n",
    "                            'feature_fraction': 0.5,\n",
    "                            'max_bin': 100,\n",
    "                            'n_estimators': 1400,\n",
    "                            'boost_from_average': False,\n",
    "                            'verbose': -1,\n",
    "                        } \n",
    "\n",
    "\n",
    "                ########################### Vars\n",
    "        #################################################################################\n",
    "        VER = 1                          # Our model version\n",
    "        SEED = 42                      \n",
    "        self.seed_everything(SEED)      \n",
    "        lgb_params['seed'] = SEED        \n",
    "\n",
    "        #FEATURES to remove\n",
    "        ## These features lead to overfit\n",
    "        ## or values not present in test set\n",
    "\n",
    "\n",
    "\n",
    "#         base_df = pd.read_csv(project_space_path(\"M5Forecasting/sales_train_validation.csv\"))\n",
    "#         price_df = pd.read_csv(project_space_path(\"M5Forecasting/sell_prices.csv\"))\n",
    "#         calendar_df = pd.read_csv(project_space_path(\"M5Forecasting/calendar.csv\"))\n",
    "\n",
    "#         base_df.to_pickle(project_space_path('M5Forecasting/m5-simple-fe/grid_part_1.pkl'))\n",
    "#         price_df.to_pickle(project_space_path('M5Forecasting/m5-simple-fe/grid_part_2.pkl'))\n",
    "#         calendar_df.to_pickle(project_space_path('M5Forecasting/m5-simple-fe/grid_part_3.pkl'))\n",
    "\n",
    "        ROLS_SPLIT = []\n",
    "        \n",
    "        for i in [1,7,14]:\n",
    "            for j in [7,14,30,60]:\n",
    "                ROLS_SPLIT.append([i,j])\n",
    "\n",
    "\n",
    "        if self.USE_AUX:\n",
    "            lgb_params['n_estimators'] = 2\n",
    "\n",
    "        \n",
    "\n",
    "                ########################### Train Models\n",
    "        #################################################################################\n",
    "        for store_id in self.STORES_IDS:\n",
    "            logging.info('Train')\n",
    "            logging.info(store_id)\n",
    "\n",
    "            # Get grid for current store\n",
    "            grid_df, features_columns = self.get_data_by_store(store_id)\n",
    "            \n",
    "            logging.info(\"Loaded grid Data\")\n",
    "\n",
    "            # Masks for \n",
    "            # Train (All data less than 1913)\n",
    "            # \"Validation\" (Last 28 days - not real validatio set)\n",
    "            # Test (All data greater than 1913 day, \n",
    "            #       with some gap for recursive features)\n",
    "            train_mask = grid_df['d']<=self.END_TRAIN\n",
    "            valid_mask = train_mask&(grid_df['d']>(self.END_TRAIN-self.P_HORIZON))\n",
    "            preds_mask = grid_df['d']>(self.END_TRAIN-100)\n",
    "\n",
    "            train_data = lgb.Dataset(grid_df[train_mask][features_columns], \n",
    "                               label=grid_df[train_mask][self.TARGET])\n",
    "            \n",
    "#             train_data.save_binary(project_space_path(\"M5Forecasting/train_data.bin\"))\n",
    "#             train_data = lgb.Dataset(project_space_path(\"M5Forecasting/train_data.bin\"))\n",
    "\n",
    "            valid_data = lgb.Dataset(grid_df[valid_mask][features_columns], \n",
    "                               label=grid_df[valid_mask][self.TARGET])\n",
    "\n",
    "            # Saving part of the dataset for later predictions\n",
    "            # Removing features that we need to calculate recursively \n",
    "            grid_df = grid_df[preds_mask].reset_index(drop=True)\n",
    "            keep_cols = [col for col in list(grid_df) if '_tmp_' not in col]\n",
    "            grid_df = grid_df[keep_cols]\n",
    "            grid_df.to_pickle(project_space_path(f\"M5Forecasting/test_{store_id}.pkl\"))\n",
    "            del grid_df\n",
    "            gc.collect()\n",
    "\n",
    "            # Launch seeder again to make lgb training 100% deterministic\n",
    "            # with each \"code line\" np.random \"evolves\" \n",
    "            # so we need (may want) to \"reset\" it\n",
    "            self.seed_everything(SEED)\n",
    "            estimator = lgb.train(lgb_params,\n",
    "                                  train_data,\n",
    "                                  valid_sets = [valid_data],\n",
    "                                  verbose_eval = 100,\n",
    "                                  )\n",
    "\n",
    "\n",
    "            model_name = 'lgb_model_'+store_id+'_v'+str(VER)+'.bin'\n",
    "            pickle.dump(estimator, open(project_space_path(f\"M5Forecasting/{model_name}\"), 'wb'))\n",
    "\n",
    "            # Remove temporary files and objects \n",
    "            # to free some hdd space and ram memory\n",
    "\n",
    "#             os.remove()\n",
    "            del train_data, valid_data, estimator\n",
    "            gc.collect()\n",
    "\n",
    "            # \"Keep\" models features for predictions\n",
    "            MODEL_FEATURES = features_columns\n",
    "\n"
   ]
  },
  {
   "cell_type": "code",
   "execution_count": null,
   "metadata": {},
   "outputs": [],
   "source": []
  },
  {
   "cell_type": "code",
   "execution_count": 9,
   "metadata": {},
   "outputs": [],
   "source": [
    "train = Train()\n"
   ]
  },
  {
   "cell_type": "code",
   "execution_count": 10,
   "metadata": {},
   "outputs": [],
   "source": [
    "p = rf.Pipeline(\"Train\", targets=[train])  #preprocess\n"
   ]
  },
  {
   "cell_type": "code",
   "execution_count": 11,
   "metadata": {},
   "outputs": [
    {
     "data": {
      "application/vnd.razorthink.interactive+pipeline+view+json": {
       "blocks": [
        {
         "class_name": "Train",
         "id": "753662a7-4cef-4da8-88cb-47b76045f03f",
         "inputs": [],
         "outputs": [],
         "overwritten": false,
         "var_names": [
          "Train"
         ]
        }
       ],
       "connections": [],
       "id": "8932cd80-37e5-467b-8273-fc474c534963",
       "instances": [
        {
         "block_class": "753662a7-4cef-4da8-88cb-47b76045f03f",
         "id": "5c745ca3-3cfb-4096-9196-834e60a51968",
         "name": "Train_1",
         "var_names": [
          "train"
         ]
        }
       ],
       "name": "Train",
       "var_names": []
      },
      "image/svg+xml": [
       "<?xml version=\"1.0\" encoding=\"UTF-8\" standalone=\"no\"?>\n",
       "<!DOCTYPE svg PUBLIC \"-//W3C//DTD SVG 1.1//EN\"\n",
       " \"http://www.w3.org/Graphics/SVG/1.1/DTD/svg11.dtd\">\n",
       "<!-- Generated by graphviz version 2.40.1 (20161225.0304)\n",
       " -->\n",
       "<!-- Title: %3 Pages: 1 -->\n",
       "<svg width=\"112pt\" height=\"44pt\"\n",
       " viewBox=\"0.00 0.00 111.60 44.00\" xmlns=\"http://www.w3.org/2000/svg\" xmlns:xlink=\"http://www.w3.org/1999/xlink\">\n",
       "<g id=\"graph0\" class=\"graph\" transform=\"scale(1 1) rotate(0) translate(4 40)\">\n",
       "<title>%3</title>\n",
       "<polygon fill=\"#ffffff\" stroke=\"transparent\" points=\"-4,4 -4,-40 107.6047,-40 107.6047,4 -4,4\"/>\n",
       "<!-- Train(&#39;Train_1&#39;) -->\n",
       "<g id=\"node1\" class=\"node\">\n",
       "<title>Train(&#39;Train_1&#39;)</title>\n",
       "<ellipse fill=\"none\" stroke=\"#000000\" cx=\"51.8023\" cy=\"-18\" rx=\"51.6054\" ry=\"18\"/>\n",
       "<text text-anchor=\"middle\" x=\"51.8023\" y=\"-15.5\" font-family=\"Helvetica,sans-Serif\" font-size=\"10.00\" fill=\"#000000\">Train(&#39;Train_1&#39;)</text>\n",
       "</g>\n",
       "</g>\n",
       "</svg>\n"
      ],
      "text/plain": [
       "<razor.flow.pipeline.Pipeline at 0x7f1f39563110>"
      ]
     },
     "execution_count": 11,
     "metadata": {},
     "output_type": "execute_result"
    }
   ],
   "source": [
    "p"
   ]
  },
  {
   "cell_type": "code",
   "execution_count": 12,
   "metadata": {},
   "outputs": [],
   "source": [
    "# lib1 = razor.api.libraries(name='lightgbm').artifact()\n"
   ]
  },
  {
   "cell_type": "code",
   "execution_count": 13,
   "metadata": {},
   "outputs": [],
   "source": [
    "deployed_pipeline = razor.api.engines('DS-engine').execute(pipeline=p)\n"
   ]
  },
  {
   "cell_type": "code",
   "execution_count": 14,
   "metadata": {},
   "outputs": [
    {
     "data": {
      "application/vnd.razorthink.run+monitor+json": "/home/jovyan/logs/e951828d-d62a-4f5b-b5d0-532e18e0879c",
      "text/plain": [
       "<razor_tools.backend.ipython.mime.run_monitor.RunMonitor at 0x7f1f392d7410>"
      ]
     },
     "metadata": {
      "application/vnd.razorthink.run+monitor+json": {
       "store_in_notebook": false
      }
     },
     "output_type": "display_data"
    },
    {
     "data": {
      "text/html": [],
      "text/plain": [
       "PlatformPipelineRun(project_id='c0b26d85-a4c9-44f5-9d0e-f540dd2de644', pipeline_id='635a8c92-06e4-11eb-82ef-0242ac11000c', pipeline_name='Train', pipeline_run_id='e951828d-d62a-4f5b-b5d0-532e18e0879c', pipeline_version=None, comment=None, created_on='2020-10-05T08:25:55.887+00:00', start_time=None, end_time=None, eta=0, run_at=1601886355887, run_duration=0, compute_time=0, wait_time=293, ran_by_user=RanByUser(user_name='souryadipta das', email='souryadipta.das@razorthink.com'), status='IN_PROGRESS', block_status=[PlatformPipelineBlockRun(pipeline_run_id='e951828d-d62a-4f5b-b5d0-532e18e0879c', pipeline_name='Train', pipeline_status='IN_PROGRESS', block_id='00a8eee8-e04b-49a8-a756-bccec7c1d8cb', block_run_id='8bee7451-ed70-468c-aee5-c1aea5ceb527', block_name='Train_1', resource_spec=ResourceAllocated(cores=8, memory=36000, use_gpu=False, gpu=0, use_gpu_if_available=False, cluster_configuration={'worker': None, 'workerCore': None, 'workerMemory': None, 'numberOfInstances': None, 'maxServerCount': None}, additional_env={}, run_env='PYTHON'), technology='PYTHON', status='READY_TO_GO', containers=[], cluster_id='00a8eee8-e04b-49a8-a756-bccec7c1d8cb', _log=None, _metric=None, wait_time=0, compute_time=0, start_time=None, end_time=None, queued_at='2020-10-05T08:25:56.000+00:00')], run_number=281, pipeline_variable_list=[], block_run_details=[BlockRunDetail(block_id='00a8eee8-e04b-49a8-a756-bccec7c1d8cb', block_run_id='8bee7451-ed70-468c-aee5-c1aea5ceb527', block_name='Train_1', technology='PYTHON', log_path=None, input_parameters='{}', output_parameters=None, status='READY_TO_GO', created_at='2020-10-05T08:25:55.985+00:00', queued_at='2020-10-05T08:25:56.000+00:00', start_time=None, end_time=None, compute_time=0, wait_time=0, run_time=0, block_run_output_list=[], resource_allocated=ResourceAllocated(cores=8, memory=36000, use_gpu=False, gpu=0, use_gpu_if_available=False, cluster_configuration={'worker': None, 'workerCore': None, 'workerMemory': None, 'numberOfInstances': None, 'maxServerCount': None}, additional_env={}, run_env='PYTHON'))], pipeline_json='{\\n  \"id\": \"635a8c92-06e4-11eb-82ef-0242ac11000c\",\\n  \"projectId\": \"c0b26d85-a4c9-44f5-9d0e-f540dd2de644\",\\n  \"name\": \"Train\",\\n  \"description\": \"\",\\n  \"blocks\": [\\n    {\\n      \"name\": \"Train_1\",\\n      \"id\": \"00a8eee8-e04b-49a8-a756-bccec7c1d8cb\",\\n      \"artifact_id\": null,\\n      \"class_name\": \"Train\",\\n      \"code\": \"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\",\\n      \"isPublishedBlock\": false,\\n      \"source\": null,\\n      \"inputProperty\": {},\\n      \"outputProperty\": {},\\n      \"resourceRequirement\": {\\n        \"cores\": 8,\\n        \"memory\": 36000,\\n        \"useGpu\": false,\\n        \"gpu\": 0,\\n        \"useGpuIfAvailable\": false,\\n        \"clusterConfiguration\": {\\n          \"worker\": null,\\n          \"workerCore\": null,\\n          \"workerMemory\": null,\\n          \"numberOfInstances\": null,\\n          \"maxServerCount\": null\\n        },\\n        \"additionalEnv\": {},\\n        \"runEnv\": \"PYTHON\"\\n      },\\n      \"executionType\": \"BlockExecutor\",\\n      \"dependencies\": [\\n        {\\n          \"libraryId\": \"24d05fb2-8916-4d25-8127-276e57d0bc8d\",\\n          \"libraryVersionId\": \"67ceac05-426d-4c9a-a069-ceb1350c1623\"\\n        },\\n        {\\n          \"libraryId\": \"24d05fb2-8916-4d25-8127-276e57d0bc8d\",\\n          \"libraryVersionId\": \"67ceac05-426d-4c9a-a069-ceb1350c1623\"\\n        }\\n      ],\\n      \"system_dependencies\": null,\\n      \"meta_data\": null,\\n      \"process_id\": null,\\n      \"eta\": 0\\n    }\\n  ],\\n  \"connections\": [],\\n  \"priority\": \"LOW\",\\n  \"infraResourceEstimation\": null,\\n  \"resourceRequirement\": {\\n    \"cores\": null,\\n    \"memory\": null,\\n    \"useGpu\": null,\\n    \"gpu\": null,\\n    \"useGpuIfAvailable\": null,\\n    \"clusterConfiguration\": null,\\n    \"additionalEnv\": {},\\n    \"runEnv\": null\\n  },\\n  \"comments\": null,\\n  \"order\": null,\\n  \"uiData\": null,\\n  \"dom\": null,\\n  \"systemGenerated\": false,\\n  \"systemModel\": false,\\n  \"pipelineVariableList\": [],\\n  \"pipelineTemplateVersion\": 0.0,\\n  \"versionId\": null,\\n  \"engineId\": \"65ed2499-f8c9-4c4d-ad27-aa689bd1531e\",\\n  \"userId\": \"5da82833-9f26-45a6-b329-19ce45acfb70\",\\n  \"runInitiatedFrom\": \"JUPYTER\",\\n  \"processList\": null,\\n  \"processInfo\": null\\n}', dom='Yet to add', order=None, infra_resource='{\\n  \"zookeeper\": {\\n    \"cores\": 1,\\n    \"memory\": 1024,\\n    \"useGpu\": null,\\n    \"gpu\": null,\\n    \"useGpuIfAvailable\": null,\\n    \"clusterConfiguration\": null,\\n    \"additionalEnv\": {},\\n    \"runEnv\": null\\n  },\\n  \"kafka\": {\\n    \"cores\": 1,\\n    \"memory\": 1024,\\n    \"useGpu\": null,\\n    \"gpu\": null,\\n    \"useGpuIfAvailable\": null,\\n    \"clusterConfiguration\": null,\\n    \"additionalEnv\": {},\\n    \"runEnv\": null\\n  }\\n}', resource_spec=ResourceAllocated(cores=None, memory=None, use_gpu=None, gpu=None, use_gpu_if_available=None, cluster_configuration=None, additional_env={}, run_env=None), engine_id='65ed2499-f8c9-4c4d-ad27-aa689bd1531e', run_initiated_from='JUPYTER')"
      ]
     },
     "execution_count": 14,
     "metadata": {},
     "output_type": "execute_result"
    }
   ],
   "source": [
    "deployed_pipeline\n"
   ]
  },
  {
   "cell_type": "code",
   "execution_count": null,
   "metadata": {},
   "outputs": [],
   "source": []
  },
  {
   "cell_type": "code",
   "execution_count": 31,
   "metadata": {},
   "outputs": [
    {
     "data": {
      "text/html": [
       "<html>\n",
       "\t<table width='100%'>\n",
       "\t\t<tr'><th>Slave Host</th><th>Type</th><th colspan='3' style='text-align: center;'>Usage</th></tr>\n",
       "\t\t<tbody>\n",
       "\t\t\t<tr><td>172.16.104.139 </td><td> INFRASTRUCTURE </td><td> CORE: Used 6 of 16 (37.5%)</td><td>RAM: Used 6.0 of 38.0GB (15.789473684210526%)</td></tr>\n",
       "\n",
       "\t\t\t<tr><td>172.16.114.99 </td><td> TECHNOLOGY </td><td> CORE: Used 13 of 32 (40.625%)</td><td>RAM: Used 66.5 of 115.0GB (57.826086956521735%)</td></tr>\n",
       "\n",
       "\t\t</tbody>\n",
       "\t</table>\n",
       "</html>"
      ],
      "text/plain": [
       "PlatformEngineHealthList(slave_usage_array=[PlatformEngineHealth(server_ip='172.16.104.139', server_type='INFRASTRUCTURE', server_usage_info=[ServerUsageInfo(label='Current cpu usage', graph_type='bar', unit='', total=16, used=6, available=10, value='CORE'), ServerUsageInfo(label='Current memory usage', graph_type='bar', unit='GB', total=40802189312.0, used=6442450944.0, available=34359738368.0, value='RAM'), ServerUsageInfo(label='Current gpu usage', graph_type='bar', unit='', total=0, used=0, available=0, value='GPU')]), PlatformEngineHealth(server_ip='172.16.114.99', server_type='TECHNOLOGY', server_usage_info=[ServerUsageInfo(label='Current cpu usage', graph_type='bar', unit='', total=32, used=13, available=19, value='CORE'), ServerUsageInfo(label='Current memory usage', graph_type='bar', unit='GB', total=123480309760.0, used=71403831296.0, available=52076478464.0, value='RAM'), ServerUsageInfo(label='Current gpu usage', graph_type='bar', unit='', total=0, used=0, available=0, value='GPU')])])"
      ]
     },
     "execution_count": 31,
     "metadata": {},
     "output_type": "execute_result"
    }
   ],
   "source": [
    "razor.api.engines('DS-engine').health()"
   ]
  },
  {
   "cell_type": "code",
   "execution_count": 33,
   "metadata": {},
   "outputs": [
    {
     "data": {
      "text/html": [
       "\n",
       "        <html>\n",
       "            <body>\n",
       "                <h4>Engine Queue</h4>\n",
       "                <h4>Number of queued blocks: 0</h4>\n",
       "                <table width='100%'>\n",
       "                <tr>\n",
       "                    <th style='align:left; text-align:left;'>Block</th>\n",
       "                    <th style='align:left; text-align:left;'>Pipeline</th>\n",
       "                    <th style='align:left; text-align:left;'>Wait Time(hours:minutes:seconds)</th>\n",
       "                </tr>\n",
       "        \n",
       "                </table>\n",
       "            </body>\n",
       "        </html>\n",
       "        "
      ],
      "text/plain": [
       "PlatformQueueStatusList(queue_list=[])"
      ]
     },
     "execution_count": 33,
     "metadata": {},
     "output_type": "execute_result"
    }
   ],
   "source": [
    "razor.api.engines('DS-engine').queue()"
   ]
  },
  {
   "cell_type": "code",
   "execution_count": null,
   "metadata": {},
   "outputs": [],
   "source": []
  },
  {
   "cell_type": "code",
   "execution_count": null,
   "metadata": {},
   "outputs": [],
   "source": []
  },
  {
   "cell_type": "code",
   "execution_count": null,
   "metadata": {},
   "outputs": [],
   "source": []
  }
 ],
 "metadata": {
  "kernelspec": {
   "display_name": "Python 3",
   "language": "python",
   "name": "python3"
  },
  "language_info": {
   "codemirror_mode": {
    "name": "ipython",
    "version": 3
   },
   "file_extension": ".py",
   "mimetype": "text/x-python",
   "name": "python",
   "nbconvert_exporter": "python",
   "pygments_lexer": "ipython3",
   "version": "3.7.6"
  }
 },
 "nbformat": 4,
 "nbformat_minor": 4
}
