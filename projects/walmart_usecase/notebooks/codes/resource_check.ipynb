{
 "cells": [
  {
   "cell_type": "code",
   "execution_count": 1,
   "metadata": {},
   "outputs": [],
   "source": [
    "import razor"
   ]
  },
  {
   "cell_type": "code",
   "execution_count": 7,
   "metadata": {},
   "outputs": [
    {
     "data": {
      "text/html": [
       "<html>\n",
       "\t<table width='100%'>\n",
       "\t\t<tr'><th>Slave Host</th><th>Type</th><th colspan='3' style='text-align: center;'>Usage</th></tr>\n",
       "\t\t<tbody>\n",
       "\t\t\t<tr><td>172.16.104.139 </td><td> INFRASTRUCTURE </td><td> CORE: Used 6 of 16 (37.5%)</td><td>RAM: Used 6.0 of 38.0GB (15.789473684210526%)</td></tr>\n",
       "\n",
       "\t\t\t<tr><td>172.16.114.99 </td><td> TECHNOLOGY </td><td> CORE: Used 18 of 32 (56.25%)</td><td>RAM: Used 29.578125 of 115.0GB (25.720108695652172%)</td></tr>\n",
       "\n",
       "\t\t</tbody>\n",
       "\t</table>\n",
       "</html>"
      ],
      "text/plain": [
       "PlatformEngineHealthList(slave_usage_array=[PlatformEngineHealth(server_ip='172.16.104.139', server_type='INFRASTRUCTURE', server_usage_info=[ServerUsageInfo(label='Current cpu usage', graph_type='bar', unit='', total=16, used=6, available=10, value='CORE'), ServerUsageInfo(label='Current memory usage', graph_type='bar', unit='GB', total=40802189312.0, used=6442450944.0, available=34359738368.0, value='RAM'), ServerUsageInfo(label='Current gpu usage', graph_type='bar', unit='', total=0, used=0, available=0, value='GPU')]), PlatformEngineHealth(server_ip='172.16.114.99', server_type='TECHNOLOGY', server_usage_info=[ServerUsageInfo(label='Current cpu usage', graph_type='bar', unit='', total=32, used=18, available=14, value='CORE'), ServerUsageInfo(label='Current memory usage', graph_type='bar', unit='GB', total=123480309760.0, used=31759269888.0, available=91721039872.0, value='RAM'), ServerUsageInfo(label='Current gpu usage', graph_type='bar', unit='', total=0, used=0, available=0, value='GPU')])])"
      ]
     },
     "execution_count": 7,
     "metadata": {},
     "output_type": "execute_result"
    }
   ],
   "source": [
    "razor.api.engines('DS-engine').health()"
   ]
  },
  {
   "cell_type": "code",
   "execution_count": 6,
   "metadata": {},
   "outputs": [
    {
     "data": {
      "text/html": [
       "\n",
       "        <html>\n",
       "            <body>\n",
       "                <h4>Engine Queue</h4>\n",
       "                <h4>Number of queued blocks: 3</h4>\n",
       "                <table width='100%'>\n",
       "                <tr>\n",
       "                    <th style='align:left; text-align:left;'>Block</th>\n",
       "                    <th style='align:left; text-align:left;'>Pipeline</th>\n",
       "                    <th style='align:left; text-align:left;'>Wait Time(hours:minutes:seconds)</th>\n",
       "                </tr>\n",
       "        \n",
       "                <tr>\n",
       "                    <td style='align:left; text-align:left;'>Reader1</td>\n",
       "                    <td style='align:left; text-align:left;'>ConfigFixTest</td>\n",
       "                    <td style='align:left; text-align:left;'>0:07:37</td>\n",
       "                </tr>\n",
       "            \n",
       "                <tr>\n",
       "                    <td style='align:left; text-align:left;'>Reader2</td>\n",
       "                    <td style='align:left; text-align:left;'>ConfigFixTest</td>\n",
       "                    <td style='align:left; text-align:left;'>0:07:37</td>\n",
       "                </tr>\n",
       "            \n",
       "                <tr>\n",
       "                    <td style='align:left; text-align:left;'>ConcatenateDF_1</td>\n",
       "                    <td style='align:left; text-align:left;'>Train</td>\n",
       "                    <td style='align:left; text-align:left;'>0:01:30</td>\n",
       "                </tr>\n",
       "            \n",
       "                </table>\n",
       "            </body>\n",
       "        </html>\n",
       "        "
      ],
      "text/plain": [
       "PlatformQueueStatusList(queue_list=[PlatformQueueStatus(block_run_id='43e2c0b2-50df-4fa2-8e84-50d76b029e8f', block_id='289ef0d8-af08-4b4d-aa6e-069cfee1f3eb', block_name='Reader1', pipeline_run_id='db41603a-0c9c-42cd-89f8-33ab345ad542', pipeline_id='25c9877c-fd64-11ea-8f5c-0242ac110004', pipeline_name='ConfigFixTest', project_id='26304c5d-0d05-44a5-ac8e-89058fd17c6e', wait_time=457, published_by=RanByUser(user_name='Sandeep Soman', email='sandeep.soman@razorthink.com'), resource_spec=ResourceAllocated(cores=1, memory=1024, use_gpu=False, gpu=0, use_gpu_if_available=False, cluster_configuration={'worker': 1, 'workerCore': 5, 'workerMemory': 3072, 'numberOfInstances': None, 'maxServerCount': None}, additional_env={'SPARK_EXECUTOR_INSTANCES': '2', 'SPARK_EXECUTOR_CORES': '2', 'SPARK_EXECUTOR_MEMORY': '1g'}, run_env='PY_SPARK')), PlatformQueueStatus(block_run_id='dbab5686-6581-4626-85d9-ed0f681698f7', block_id='e0a8c727-71c7-40c8-aa72-f6f30cf762da', block_name='Reader2', pipeline_run_id='db41603a-0c9c-42cd-89f8-33ab345ad542', pipeline_id='25c9877c-fd64-11ea-8f5c-0242ac110004', pipeline_name='ConfigFixTest', project_id='26304c5d-0d05-44a5-ac8e-89058fd17c6e', wait_time=457, published_by=RanByUser(user_name='Sandeep Soman', email='sandeep.soman@razorthink.com'), resource_spec=ResourceAllocated(cores=1, memory=1024, use_gpu=False, gpu=0, use_gpu_if_available=False, cluster_configuration={'worker': 1, 'workerCore': 1, 'workerMemory': 1024, 'numberOfInstances': None, 'maxServerCount': None}, additional_env={'SPARK_EXECUTOR_INSTANCES': '1', 'SPARK_EXECUTOR_CORES': '1', 'SPARK_EXECUTOR_MEMORY': '1g'}, run_env='PY_SPARK')), PlatformQueueStatus(block_run_id='78b30ff0-3ccc-4e5f-b26d-c05f6ba72664', block_id='567379cb-6dc7-4300-9b03-41f8ec47aa59', block_name='ConcatenateDF_1', pipeline_run_id='3788e5cc-4a8d-47eb-bc2c-8bd9d3ef2ba2', pipeline_id='4caa6d3c-fd61-11ea-ad38-0242ac110003', pipeline_name='Train', project_id='c0b26d85-a4c9-44f5-9d0e-f540dd2de644', wait_time=90, published_by=RanByUser(user_name='Ayan Basak', email='ayan.basak@razorthink.com'), resource_spec=ResourceAllocated(cores=2, memory=18000, use_gpu=False, gpu=0, use_gpu_if_available=False, cluster_configuration={'worker': None, 'workerCore': None, 'workerMemory': None, 'numberOfInstances': None, 'maxServerCount': None}, additional_env={}, run_env='PYTHON'))])"
      ]
     },
     "execution_count": 6,
     "metadata": {},
     "output_type": "execute_result"
    }
   ],
   "source": [
    "\n",
    "razor.api.engines(name='DS-engine').queue()"
   ]
  },
  {
   "cell_type": "code",
   "execution_count": null,
   "metadata": {},
   "outputs": [],
   "source": []
  }
 ],
 "metadata": {
  "kernelspec": {
   "display_name": "Python 3",
   "language": "python",
   "name": "python3"
  },
  "language_info": {
   "codemirror_mode": {
    "name": "ipython",
    "version": 3
   },
   "file_extension": ".py",
   "mimetype": "text/x-python",
   "name": "python",
   "nbconvert_exporter": "python",
   "pygments_lexer": "ipython3",
   "version": "3.7.6"
  }
 },
 "nbformat": 4,
 "nbformat_minor": 4
}
