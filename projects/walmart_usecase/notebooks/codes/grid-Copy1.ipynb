{
 "cells": [
  {
   "cell_type": "code",
   "execution_count": 1,
   "metadata": {},
   "outputs": [],
   "source": [
    "import numpy as np\n",
    "import pandas as pd\n",
    "import os, sys, gc, time, warnings, pickle, psutil, random\n",
    "import logging\n",
    "from razor.api import project_space_path\n",
    "from math import ceil\n",
    "\n",
    "from sklearn.preprocessing import LabelEncoder\n",
    "\n",
    "warnings.filterwarnings('ignore')\n"
   ]
  },
  {
   "cell_type": "code",
   "execution_count": 2,
   "metadata": {},
   "outputs": [],
   "source": [
    "from razor.api import project_space_path\n",
    "import razor\n",
    "from razor import Technology, LibraryMode\n",
    "import razor.flow as rf\n",
    "import typing as t\n"
   ]
  },
  {
   "cell_type": "code",
   "execution_count": 3,
   "metadata": {},
   "outputs": [],
   "source": [
    "@rf.block(executor=rf.ContainerExecutor(cores=2, memory=3000))\n",
    "class Configs:\n",
    "    config: rf.Output[t.Any] = rf.Output(transport=rf.FileTransport)\n",
    "        \n",
    "    def run(self):\n",
    "        \n",
    "        dic = {\n",
    "          \"TARGET\": \"sales\",\n",
    "          \"END_TRAIN\": 1913,\n",
    "          \"MAIN_INDEX\": [\n",
    "            \"id\",\n",
    "            \"d\"\n",
    "          ],\n",
    "          'index_columns' : ['id','item_id','dept_id','cat_id','store_id','state_id'],\n",
    "          \"train_path\": \"M5Forecasting/sales_train_validation.csv\",\n",
    "          \"prices_path\": \"M5Forecasting/sell_prices.csv\",\n",
    "          \"calendar_path\" : \"M5Forecasting/calendar.csv\"\n",
    "        }\n",
    "        self.config.put(dic)\n",
    "        "
   ]
  },
  {
   "cell_type": "code",
   "execution_count": 4,
   "metadata": {},
   "outputs": [],
   "source": [
    "configs = Configs()\n"
   ]
  },
  {
   "cell_type": "code",
   "execution_count": null,
   "metadata": {},
   "outputs": [],
   "source": []
  },
  {
   "cell_type": "code",
   "execution_count": null,
   "metadata": {},
   "outputs": [],
   "source": []
  },
  {
   "cell_type": "code",
   "execution_count": 5,
   "metadata": {},
   "outputs": [],
   "source": [
    "def get_memory_usage():\n",
    "    return np.round(psutil.Process(os.getpid()).memory_info()[0]/2.**30, 2) \n",
    "        \n",
    "def sizeof_fmt(num, suffix='B'):\n",
    "    for unit in ['','Ki','Mi','Gi','Ti','Pi','Ei','Zi']:\n",
    "        if abs(num) < 1024.0:\n",
    "            return \"%3.1f%s%s\" % (num, unit, suffix)\n",
    "        num /= 1024.0\n",
    "    return \"%.1f%s%s\" % (num, 'Yi', suffix)\n"
   ]
  },
  {
   "cell_type": "code",
   "execution_count": 6,
   "metadata": {},
   "outputs": [],
   "source": [
    "TARGET = 'sales'         # Our main target\n",
    "END_TRAIN = 1913         # Last day in train set\n",
    "MAIN_INDEX = ['id','d']  # We can identify item by these columns\n"
   ]
  },
  {
   "cell_type": "code",
   "execution_count": 8,
   "metadata": {},
   "outputs": [
    {
     "name": "stdout",
     "output_type": "stream",
     "text": [
      "Load Main Data\n"
     ]
    },
    {
     "ename": "KeyboardInterrupt",
     "evalue": "",
     "output_type": "error",
     "traceback": [
      "\u001b[0;31m---------------------------------------------------------------------------\u001b[0m",
      "\u001b[0;31mKeyboardInterrupt\u001b[0m                         Traceback (most recent call last)",
      "\u001b[0;32m<ipython-input-8-b42adb84a4e8>\u001b[0m in \u001b[0;36m<module>\u001b[0;34m\u001b[0m\n\u001b[1;32m      3\u001b[0m \u001b[0;31m# Here are reafing all our data\u001b[0m\u001b[0;34m\u001b[0m\u001b[0;34m\u001b[0m\u001b[0;34m\u001b[0m\u001b[0m\n\u001b[1;32m      4\u001b[0m \u001b[0;31m# without any limitations and dtype modification\u001b[0m\u001b[0;34m\u001b[0m\u001b[0;34m\u001b[0m\u001b[0;34m\u001b[0m\u001b[0m\n\u001b[0;32m----> 5\u001b[0;31m \u001b[0mtrain_df\u001b[0m \u001b[0;34m=\u001b[0m \u001b[0mpd\u001b[0m\u001b[0;34m.\u001b[0m\u001b[0mread_csv\u001b[0m\u001b[0;34m(\u001b[0m\u001b[0mproject_space_path\u001b[0m\u001b[0;34m(\u001b[0m\u001b[0;34m'M5Forecasting/sales_train_validation.csv'\u001b[0m\u001b[0;34m)\u001b[0m\u001b[0;34m)\u001b[0m\u001b[0;34m\u001b[0m\u001b[0;34m\u001b[0m\u001b[0m\n\u001b[0m\u001b[1;32m      6\u001b[0m \u001b[0mprices_df\u001b[0m \u001b[0;34m=\u001b[0m \u001b[0mpd\u001b[0m\u001b[0;34m.\u001b[0m\u001b[0mread_csv\u001b[0m\u001b[0;34m(\u001b[0m\u001b[0mproject_space_path\u001b[0m\u001b[0;34m(\u001b[0m\u001b[0;34m'M5Forecasting/sell_prices.csv'\u001b[0m\u001b[0;34m)\u001b[0m\u001b[0;34m)\u001b[0m\u001b[0;34m\u001b[0m\u001b[0;34m\u001b[0m\u001b[0m\n\u001b[1;32m      7\u001b[0m \u001b[0mcalendar_df\u001b[0m \u001b[0;34m=\u001b[0m \u001b[0mpd\u001b[0m\u001b[0;34m.\u001b[0m\u001b[0mread_csv\u001b[0m\u001b[0;34m(\u001b[0m\u001b[0mproject_space_path\u001b[0m\u001b[0;34m(\u001b[0m\u001b[0;34m'M5Forecasting/calendar.csv'\u001b[0m\u001b[0;34m)\u001b[0m\u001b[0;34m)\u001b[0m\u001b[0;34m\u001b[0m\u001b[0;34m\u001b[0m\u001b[0m\n",
      "\u001b[0;32m/opt/conda/lib/python3.7/site-packages/pandas/io/parsers.py\u001b[0m in \u001b[0;36mparser_f\u001b[0;34m(filepath_or_buffer, sep, delimiter, header, names, index_col, usecols, squeeze, prefix, mangle_dupe_cols, dtype, engine, converters, true_values, false_values, skipinitialspace, skiprows, skipfooter, nrows, na_values, keep_default_na, na_filter, verbose, skip_blank_lines, parse_dates, infer_datetime_format, keep_date_col, date_parser, dayfirst, cache_dates, iterator, chunksize, compression, thousands, decimal, lineterminator, quotechar, quoting, doublequote, escapechar, comment, encoding, dialect, error_bad_lines, warn_bad_lines, delim_whitespace, low_memory, memory_map, float_precision)\u001b[0m\n\u001b[1;32m    674\u001b[0m         )\n\u001b[1;32m    675\u001b[0m \u001b[0;34m\u001b[0m\u001b[0m\n\u001b[0;32m--> 676\u001b[0;31m         \u001b[0;32mreturn\u001b[0m \u001b[0m_read\u001b[0m\u001b[0;34m(\u001b[0m\u001b[0mfilepath_or_buffer\u001b[0m\u001b[0;34m,\u001b[0m \u001b[0mkwds\u001b[0m\u001b[0;34m)\u001b[0m\u001b[0;34m\u001b[0m\u001b[0;34m\u001b[0m\u001b[0m\n\u001b[0m\u001b[1;32m    677\u001b[0m \u001b[0;34m\u001b[0m\u001b[0m\n\u001b[1;32m    678\u001b[0m     \u001b[0mparser_f\u001b[0m\u001b[0;34m.\u001b[0m\u001b[0m__name__\u001b[0m \u001b[0;34m=\u001b[0m \u001b[0mname\u001b[0m\u001b[0;34m\u001b[0m\u001b[0;34m\u001b[0m\u001b[0m\n",
      "\u001b[0;32m/opt/conda/lib/python3.7/site-packages/pandas/io/parsers.py\u001b[0m in \u001b[0;36m_read\u001b[0;34m(filepath_or_buffer, kwds)\u001b[0m\n\u001b[1;32m    452\u001b[0m \u001b[0;34m\u001b[0m\u001b[0m\n\u001b[1;32m    453\u001b[0m     \u001b[0;32mtry\u001b[0m\u001b[0;34m:\u001b[0m\u001b[0;34m\u001b[0m\u001b[0;34m\u001b[0m\u001b[0m\n\u001b[0;32m--> 454\u001b[0;31m         \u001b[0mdata\u001b[0m \u001b[0;34m=\u001b[0m \u001b[0mparser\u001b[0m\u001b[0;34m.\u001b[0m\u001b[0mread\u001b[0m\u001b[0;34m(\u001b[0m\u001b[0mnrows\u001b[0m\u001b[0;34m)\u001b[0m\u001b[0;34m\u001b[0m\u001b[0;34m\u001b[0m\u001b[0m\n\u001b[0m\u001b[1;32m    455\u001b[0m     \u001b[0;32mfinally\u001b[0m\u001b[0;34m:\u001b[0m\u001b[0;34m\u001b[0m\u001b[0;34m\u001b[0m\u001b[0m\n\u001b[1;32m    456\u001b[0m         \u001b[0mparser\u001b[0m\u001b[0;34m.\u001b[0m\u001b[0mclose\u001b[0m\u001b[0;34m(\u001b[0m\u001b[0;34m)\u001b[0m\u001b[0;34m\u001b[0m\u001b[0;34m\u001b[0m\u001b[0m\n",
      "\u001b[0;32m/opt/conda/lib/python3.7/site-packages/pandas/io/parsers.py\u001b[0m in \u001b[0;36mread\u001b[0;34m(self, nrows)\u001b[0m\n\u001b[1;32m   1131\u001b[0m     \u001b[0;32mdef\u001b[0m \u001b[0mread\u001b[0m\u001b[0;34m(\u001b[0m\u001b[0mself\u001b[0m\u001b[0;34m,\u001b[0m \u001b[0mnrows\u001b[0m\u001b[0;34m=\u001b[0m\u001b[0;32mNone\u001b[0m\u001b[0;34m)\u001b[0m\u001b[0;34m:\u001b[0m\u001b[0;34m\u001b[0m\u001b[0;34m\u001b[0m\u001b[0m\n\u001b[1;32m   1132\u001b[0m         \u001b[0mnrows\u001b[0m \u001b[0;34m=\u001b[0m \u001b[0m_validate_integer\u001b[0m\u001b[0;34m(\u001b[0m\u001b[0;34m\"nrows\"\u001b[0m\u001b[0;34m,\u001b[0m \u001b[0mnrows\u001b[0m\u001b[0;34m)\u001b[0m\u001b[0;34m\u001b[0m\u001b[0;34m\u001b[0m\u001b[0m\n\u001b[0;32m-> 1133\u001b[0;31m         \u001b[0mret\u001b[0m \u001b[0;34m=\u001b[0m \u001b[0mself\u001b[0m\u001b[0;34m.\u001b[0m\u001b[0m_engine\u001b[0m\u001b[0;34m.\u001b[0m\u001b[0mread\u001b[0m\u001b[0;34m(\u001b[0m\u001b[0mnrows\u001b[0m\u001b[0;34m)\u001b[0m\u001b[0;34m\u001b[0m\u001b[0;34m\u001b[0m\u001b[0m\n\u001b[0m\u001b[1;32m   1134\u001b[0m \u001b[0;34m\u001b[0m\u001b[0m\n\u001b[1;32m   1135\u001b[0m         \u001b[0;31m# May alter columns / col_dict\u001b[0m\u001b[0;34m\u001b[0m\u001b[0;34m\u001b[0m\u001b[0;34m\u001b[0m\u001b[0m\n",
      "\u001b[0;32m/opt/conda/lib/python3.7/site-packages/pandas/io/parsers.py\u001b[0m in \u001b[0;36mread\u001b[0;34m(self, nrows)\u001b[0m\n\u001b[1;32m   2035\u001b[0m     \u001b[0;32mdef\u001b[0m \u001b[0mread\u001b[0m\u001b[0;34m(\u001b[0m\u001b[0mself\u001b[0m\u001b[0;34m,\u001b[0m \u001b[0mnrows\u001b[0m\u001b[0;34m=\u001b[0m\u001b[0;32mNone\u001b[0m\u001b[0;34m)\u001b[0m\u001b[0;34m:\u001b[0m\u001b[0;34m\u001b[0m\u001b[0;34m\u001b[0m\u001b[0m\n\u001b[1;32m   2036\u001b[0m         \u001b[0;32mtry\u001b[0m\u001b[0;34m:\u001b[0m\u001b[0;34m\u001b[0m\u001b[0;34m\u001b[0m\u001b[0m\n\u001b[0;32m-> 2037\u001b[0;31m             \u001b[0mdata\u001b[0m \u001b[0;34m=\u001b[0m \u001b[0mself\u001b[0m\u001b[0;34m.\u001b[0m\u001b[0m_reader\u001b[0m\u001b[0;34m.\u001b[0m\u001b[0mread\u001b[0m\u001b[0;34m(\u001b[0m\u001b[0mnrows\u001b[0m\u001b[0;34m)\u001b[0m\u001b[0;34m\u001b[0m\u001b[0;34m\u001b[0m\u001b[0m\n\u001b[0m\u001b[1;32m   2038\u001b[0m         \u001b[0;32mexcept\u001b[0m \u001b[0mStopIteration\u001b[0m\u001b[0;34m:\u001b[0m\u001b[0;34m\u001b[0m\u001b[0;34m\u001b[0m\u001b[0m\n\u001b[1;32m   2039\u001b[0m             \u001b[0;32mif\u001b[0m \u001b[0mself\u001b[0m\u001b[0;34m.\u001b[0m\u001b[0m_first_chunk\u001b[0m\u001b[0;34m:\u001b[0m\u001b[0;34m\u001b[0m\u001b[0;34m\u001b[0m\u001b[0m\n",
      "\u001b[0;32mpandas/_libs/parsers.pyx\u001b[0m in \u001b[0;36mpandas._libs.parsers.TextReader.read\u001b[0;34m()\u001b[0m\n",
      "\u001b[0;32mpandas/_libs/parsers.pyx\u001b[0m in \u001b[0;36mpandas._libs.parsers.TextReader._read_low_memory\u001b[0;34m()\u001b[0m\n",
      "\u001b[0;32mpandas/_libs/parsers.pyx\u001b[0m in \u001b[0;36mpandas._libs.parsers.TextReader._read_rows\u001b[0;34m()\u001b[0m\n",
      "\u001b[0;32mpandas/_libs/parsers.pyx\u001b[0m in \u001b[0;36mpandas._libs.parsers.TextReader._convert_column_data\u001b[0;34m()\u001b[0m\n",
      "\u001b[0;32mpandas/_libs/parsers.pyx\u001b[0m in \u001b[0;36mpandas._libs.parsers.TextReader._convert_tokens\u001b[0;34m()\u001b[0m\n",
      "\u001b[0;32mpandas/_libs/parsers.pyx\u001b[0m in \u001b[0;36mpandas._libs.parsers.TextReader._convert_with_dtype\u001b[0;34m()\u001b[0m\n",
      "\u001b[0;32m/opt/conda/lib/python3.7/site-packages/pandas/core/dtypes/common.py\u001b[0m in \u001b[0;36mis_categorical_dtype\u001b[0;34m(arr_or_dtype)\u001b[0m\n\u001b[1;32m    540\u001b[0m \u001b[0;34m\u001b[0m\u001b[0m\n\u001b[1;32m    541\u001b[0m \u001b[0;34m\u001b[0m\u001b[0m\n\u001b[0;32m--> 542\u001b[0;31m \u001b[0;32mdef\u001b[0m \u001b[0mis_categorical_dtype\u001b[0m\u001b[0;34m(\u001b[0m\u001b[0marr_or_dtype\u001b[0m\u001b[0;34m)\u001b[0m \u001b[0;34m->\u001b[0m \u001b[0mbool\u001b[0m\u001b[0;34m:\u001b[0m\u001b[0;34m\u001b[0m\u001b[0;34m\u001b[0m\u001b[0m\n\u001b[0m\u001b[1;32m    543\u001b[0m     \"\"\"\n\u001b[1;32m    544\u001b[0m     \u001b[0mCheck\u001b[0m \u001b[0mwhether\u001b[0m \u001b[0man\u001b[0m \u001b[0marray\u001b[0m\u001b[0;34m-\u001b[0m\u001b[0mlike\u001b[0m \u001b[0;32mor\u001b[0m \u001b[0mdtype\u001b[0m \u001b[0;32mis\u001b[0m \u001b[0mof\u001b[0m \u001b[0mthe\u001b[0m \u001b[0mCategorical\u001b[0m \u001b[0mdtype\u001b[0m\u001b[0;34m.\u001b[0m\u001b[0;34m\u001b[0m\u001b[0;34m\u001b[0m\u001b[0m\n",
      "\u001b[0;31mKeyboardInterrupt\u001b[0m: "
     ]
    }
   ],
   "source": [
    "print('Load Main Data')\n",
    "\n",
    "# Here are reafing all our data \n",
    "# without any limitations and dtype modification\n",
    "train_df = pd.read_csv(project_space_path('M5Forecasting/sales_train_validation.csv'))\n",
    "prices_df = pd.read_csv(project_space_path('M5Forecasting/sell_prices.csv'))\n",
    "calendar_df = pd.read_csv(project_space_path('M5Forecasting/calendar.csv'))\n"
   ]
  },
  {
   "cell_type": "code",
   "execution_count": 34,
   "metadata": {},
   "outputs": [],
   "source": [
    "train_df.to_csv(project_space_path('M5Forecasting/train_df.csv'), index=False)\n"
   ]
  },
  {
   "cell_type": "code",
   "execution_count": 7,
   "metadata": {},
   "outputs": [],
   "source": [
    "@rf.block(executor=rf.ContainerExecutor(cores=2, memory=10192))\n",
    "class Melter:\n",
    "    path: t.Any\n",
    "    grid_df_path: rf.Output[t.Any] = rf.Output(transport=rf.FileTransport)\n",
    "        \n",
    "    def run(self):\n",
    "        \n",
    "        train_df=pd.read_csv(project_space_path(self.path))\n",
    "        print('Create Grid')\n",
    "\n",
    "        # We can tranform horizontal representation \n",
    "        # to vertical \"view\"\n",
    "        # Our \"index\" will be 'id','item_id','dept_id','cat_id','store_id','state_id'\n",
    "        # and labels are 'd_' coulmns\n",
    "\n",
    "        index_columns = ['id','item_id','dept_id','cat_id','store_id','state_id']\n",
    "        df = pd.melt(train_df, \n",
    "                          id_vars = index_columns, \n",
    "                          var_name = 'd', \n",
    "                          value_name = TARGET)\n",
    "        \n",
    "        df.to_csv(project_space_path('M5Forecasting/grid_df.csv'), index=False)\n",
    "        self.grid_df_path.put('M5Forecasting/grid_df.csv')\n"
   ]
  },
  {
   "cell_type": "code",
   "execution_count": 8,
   "metadata": {},
   "outputs": [],
   "source": [
    "melter = Melter(path='M5Forecasting/train_df.csv')\n"
   ]
  },
  {
   "cell_type": "code",
   "execution_count": 9,
   "metadata": {},
   "outputs": [],
   "source": [
    "# p = rf.Pipeline(\"Melting\", targets=[melter])  #preprocess\n"
   ]
  },
  {
   "cell_type": "code",
   "execution_count": 10,
   "metadata": {},
   "outputs": [],
   "source": [
    "# deployed_pipeline = razor.api.engines('DS-engine').execute(pipeline=p)\n",
    "# "
   ]
  },
  {
   "cell_type": "code",
   "execution_count": null,
   "metadata": {},
   "outputs": [],
   "source": []
  },
  {
   "cell_type": "code",
   "execution_count": null,
   "metadata": {},
   "outputs": [],
   "source": []
  },
  {
   "cell_type": "code",
   "execution_count": 11,
   "metadata": {},
   "outputs": [],
   "source": [
    "@rf.block(executor=rf.ContainerExecutor(cores=2, memory=8192))\n",
    "class HeavyOp1:\n",
    "    path: t.Any\n",
    "    config: t.Any\n",
    "    add_grid_path: rf.Output[t.Any] = rf.Output(transport=rf.FileTransport)\n",
    "            \n",
    "    def run(self):\n",
    "        import pandas as pd\n",
    "        import logging\n",
    "        \n",
    "        self.logger.info(\"Reading df\")\n",
    "        train_df=pd.read_csv(project_space_path(self.path))\n",
    "        self.logger.info(\"Reading df DONE...\")\n",
    "        \n",
    "        END_TRAIN = self.config[\"END_TRAIN\"]\n",
    "        TARGET = self.config[\"TARGET\"]\n",
    "        # If we look on train_df we se that \n",
    "        # we don't have a lot of traning rows\n",
    "        # but each day can provide more train data\n",
    "        print('Train rows:', len(train_df))\n",
    "\n",
    "        # To be able to make predictions\n",
    "        # we need to add \"test set\" to our grid\n",
    "        index_columns = self.config['index_columns']\n",
    "        df = pd.DataFrame()\n",
    "        for i in range(1,29):\n",
    "            temp_df = train_df[index_columns]\n",
    "            temp_df = temp_df.drop_duplicates()\n",
    "            temp_df['d'] = 'd_'+ str(END_TRAIN+i)\n",
    "            temp_df[TARGET] = np.nan\n",
    "            df = pd.concat([df,temp_df])\n",
    "            \n",
    "        self.logger.info(f'add grid  {df.shape}')\n",
    "        df.to_csv(project_space_path('M5Forecasting/add_grid.csv'), index=False)\n",
    "        self.add_grid_path.put('M5Forecasting/add_grid.csv')\n"
   ]
  },
  {
   "cell_type": "code",
   "execution_count": 12,
   "metadata": {},
   "outputs": [],
   "source": [
    "heavy_op1 = HeavyOp1(path='M5Forecasting/train_df.csv', config=configs.config)\n"
   ]
  },
  {
   "cell_type": "code",
   "execution_count": 13,
   "metadata": {},
   "outputs": [],
   "source": [
    "# p = rf.Pipeline(\"heavy_op1\", targets=[heavy_op1], env=Technology.PYTHON)  #preprocess\n"
   ]
  },
  {
   "cell_type": "code",
   "execution_count": 14,
   "metadata": {},
   "outputs": [],
   "source": [
    "# deployed_pipeline = razor.api.engines('DS-engine').execute(pipeline=p)\n"
   ]
  },
  {
   "cell_type": "code",
   "execution_count": null,
   "metadata": {},
   "outputs": [],
   "source": []
  },
  {
   "cell_type": "code",
   "execution_count": null,
   "metadata": {},
   "outputs": [],
   "source": []
  },
  {
   "cell_type": "code",
   "execution_count": 15,
   "metadata": {},
   "outputs": [],
   "source": [
    "@rf.block(executor=rf.ContainerExecutor(cores=2, memory=13000))\n",
    "class HeavyOp2:\n",
    "    grid_df_path: t.Any\n",
    "    add_grid_path: t.Any    \n",
    "    config: t.Any    \n",
    "    grid_df_int_path: rf.Output[t.Any] = rf.Output(transport=rf.FileTransport)\n",
    "        \n",
    "    def run(self):\n",
    "        \n",
    "        def sizeof_fmt(num, suffix='B'):\n",
    "            for unit in ['','Ki','Mi','Gi','Ti','Pi','Ei','Zi']:\n",
    "                if abs(num) < 1024.0:\n",
    "                    return \"%3.1f%s%s\" % (num, unit, suffix)\n",
    "                num /= 1024.0\n",
    "            return \"%.1f%s%s\" % (num, 'Yi', suffix)\n",
    "        \n",
    "        \n",
    "        grid_df = pd.read_csv(project_space_path(self.grid_df_path))\n",
    "        add_grid = pd.read_csv(project_space_path(self.add_grid_path))\n",
    "\n",
    "        grid_df = pd.concat([grid_df,add_grid])\n",
    "        grid_df = grid_df.reset_index(drop=True)\n",
    "\n",
    "\n",
    "        # Let's check our memory usage\n",
    "        self.logger.info(\"{:>20}: {:>8}\".format('Original grid_df', sizeof_fmt(grid_df.memory_usage(index=True).sum())))\n",
    "\n",
    "        # We can free some memory \n",
    "        # by converting \"strings\" to categorical\n",
    "        # it will not affect merging and \n",
    "        # we will not lose any valuable data\n",
    "        index_columns = self.config['index_columns']\n",
    "        for col in index_columns:\n",
    "            grid_df[col] = grid_df[col].astype('category')\n",
    "\n",
    "        # Let's check again memory usage\n",
    "        self.logger.info(\"{:>20}: {:>8}\".format('Reduced grid_df', sizeof_fmt(grid_df.memory_usage(index=True).sum())))\n",
    "\n",
    "        self.logger.info(f'grid int  {grid_df.head()}')\n",
    "        grid_df.to_csv(project_space_path('M5Forecasting/grid_df_int.csv'))\n",
    "        self.grid_df_int_path.put('M5Forecasting/grid_df_int.csv')\n"
   ]
  },
  {
   "cell_type": "code",
   "execution_count": 16,
   "metadata": {},
   "outputs": [],
   "source": [
    "heavy_op2 = HeavyOp2(config=configs.config, add_grid_path=heavy_op1.add_grid_path, grid_df_path=melter.grid_df_path)\n",
    "# heavy_op2 = HeavyOp2(config=configs.config, add_grid_path=\"M5Forecasting/add_grid.csv\", grid_df_path=\"M5Forecasting/grid_df.csv\")\n"
   ]
  },
  {
   "cell_type": "code",
   "execution_count": 17,
   "metadata": {},
   "outputs": [],
   "source": [
    "# p = rf.Pipeline(\"heavy_op2\", targets=[heavy_op2])  #preprocess\n"
   ]
  },
  {
   "cell_type": "code",
   "execution_count": 18,
   "metadata": {},
   "outputs": [],
   "source": [
    "# deployed_pipeline = razor.api.engines('DS-engine').execute(pipeline=p)\n"
   ]
  },
  {
   "cell_type": "code",
   "execution_count": null,
   "metadata": {},
   "outputs": [],
   "source": []
  },
  {
   "cell_type": "code",
   "execution_count": null,
   "metadata": {},
   "outputs": [],
   "source": []
  },
  {
   "cell_type": "code",
   "execution_count": 19,
   "metadata": {},
   "outputs": [],
   "source": [
    "@rf.block(executor=rf.ContainerExecutor(cores=2, memory=20000))\n",
    "class HeavyOp3:\n",
    "    grid_df_path: t.Any\n",
    "    config: t.Any\n",
    "    grid_pkl_path: rf.Output[t.Any] = rf.Output(transport=rf.FileTransport)\n",
    "    \n",
    "    \n",
    "    def sizeof_fmt(self, num, suffix='B'):\n",
    "        for unit in ['','Ki','Mi','Gi','Ti','Pi','Ei','Zi']:\n",
    "            if abs(num) < 1024.0:\n",
    "                return \"%3.1f%s%s\" % (num, unit, suffix)\n",
    "            num /= 1024.0\n",
    "        return \"%.1f%s%s\" % (num, 'Yi', suffix)\n",
    "\n",
    "\n",
    "    def merge_by_concat(self, df1, df2, merge_on):\n",
    "        merged_gf = df1[merge_on]\n",
    "        merged_gf = merged_gf.merge(df2, on=merge_on, how='left')\n",
    "        new_columns = [col for col in list(merged_gf) if col not in merge_on]\n",
    "        df1 = pd.concat([df1, merged_gf[new_columns]], axis=1)\n",
    "        return df1\n",
    "    \n",
    "    def run(self):\n",
    "        from razor.api import project_space_path\n",
    "        \n",
    "        prices_df = pd.read_csv(project_space_path(self.config['prices_path']))\n",
    "        grid_df = pd.read_csv(project_space_path(self.grid_df_path))\n",
    "        calendar_df = pd.read_csv(project_space_path(self.config['calendar_path']))\n",
    "        # Prices are set by week\n",
    "        # so it we will have not very accurate release week \n",
    "        release_df = prices_df.groupby(['store_id','item_id'])['wm_yr_wk'].agg(['min']).reset_index()\n",
    "        release_df.columns = ['store_id','item_id','release']\n",
    "        self.logger.info('Release Df')\n",
    "        self.logger.info(release_df.head())\n",
    "        \n",
    "        self.logger.info('Release week')\n",
    "        # Now we can merge release_df\n",
    "        grid_df = self.merge_by_concat(grid_df, release_df, ['store_id','item_id'])\n",
    "        del release_df\n",
    "\n",
    "\n",
    "        grid_df = self.merge_by_concat(grid_df, calendar_df[['wm_yr_wk','d']], ['d'])\n",
    "        self.logger.info(grid_df.columns)\n",
    "\n",
    "        # Now we can cutoff some rows \n",
    "        # and safe memory \n",
    "        grid_df = grid_df[grid_df['wm_yr_wk']>=grid_df['release']]\n",
    "        grid_df = grid_df.reset_index(drop=True)\n",
    "\n",
    "        # Let's check our memory usage\n",
    "        self.logger.info(\"{:>20}: {:>8}\".format('Original grid_df',self.sizeof_fmt(grid_df.memory_usage(index=True).sum())))\n",
    "\n",
    "        grid_df['release'] = grid_df['release'] - grid_df['release'].min()\n",
    "        grid_df['release'] = grid_df['release'].astype(np.int16)\n",
    "\n",
    "        # Let's check again memory usage\n",
    "        self.logger.info(\"{:>20}: {:>8}\".format('Reduced grid_df',self.sizeof_fmt(grid_df.memory_usage(index=True).sum())))\n",
    "\n",
    "        grid_df = grid_df.drop(['Unnamed: 0'], 1)\n",
    "#         grid_df.to_pickle(project_space_path('M5Forecasting/m5-simple-fe/grid_part_1.pkl'))\n",
    "        grid_df.to_pickle(project_space_path('M5Forecasting/m5-simple-fe/grid_part_1.pkl'))\n",
    "        self.logger.info(grid_df.shape)\n",
    "        self.logger.info(grid_df.columns)\n",
    "        \n",
    "        grid_df.to_csv(project_space_path('M5Forecasting/grid_df_final.csv'))\n",
    "        self.grid_pkl_path.put('M5Forecasting/m5-simple-fe/grid_part_1.pkl')\n",
    "                       \n",
    "                       "
   ]
  },
  {
   "cell_type": "code",
   "execution_count": 20,
   "metadata": {},
   "outputs": [],
   "source": [
    "heavy_op3 = HeavyOp3(config=configs.config, grid_df_path=heavy_op2.grid_df_int_path)\n",
    "# heavy_op3 = HeavyOp3(config=configs.config, grid_df_path='M5Forecasting/grid_df_int.csv')\n"
   ]
  },
  {
   "cell_type": "code",
   "execution_count": null,
   "metadata": {},
   "outputs": [],
   "source": []
  },
  {
   "cell_type": "code",
   "execution_count": null,
   "metadata": {},
   "outputs": [],
   "source": []
  },
  {
   "cell_type": "code",
   "execution_count": 21,
   "metadata": {},
   "outputs": [],
   "source": [
    "@rf.block(executor=rf.ContainerExecutor(cores=2, memory=20000))\n",
    "class HeavyOp4:\n",
    "    grid_path: t.Any\n",
    "    config: t.Any\n",
    "        \n",
    "        \n",
    "    def sizeof_fmt(self, num, suffix='B'):\n",
    "            for unit in ['','Ki','Mi','Gi','Ti','Pi','Ei','Zi']:\n",
    "                if abs(num) < 1024.0:\n",
    "                    return \"%3.1f%s%s\" % (num, unit, suffix)\n",
    "                num /= 1024.0\n",
    "            return \"%.1f%s%s\" % (num, 'Yi', suffix)\n",
    "\n",
    "        \n",
    "    def merge_by_concat(self, df1, df2, merge_on):\n",
    "        merged_gf = df1[merge_on]\n",
    "        merged_gf = merged_gf.merge(df2, on=merge_on, how='left')\n",
    "        new_columns = [col for col in list(merged_gf) if col not in merge_on]\n",
    "        df1 = pd.concat([df1, merged_gf[new_columns]], axis=1)\n",
    "        return df1\n",
    "\n",
    "    def reduce_mem_usage(self, df, verbose=True):\n",
    "        numerics = ['int16', 'int32', 'int64', 'float16', 'float32', 'float64']\n",
    "        start_mem = df.memory_usage().sum() / 1024**2    \n",
    "        for col in df.columns:\n",
    "            col_type = df[col].dtypes\n",
    "            if col_type in numerics:\n",
    "                c_min = df[col].min()\n",
    "                c_max = df[col].max()\n",
    "                if str(col_type)[:3] == 'int':\n",
    "                    if c_min > np.iinfo(np.int8).min and c_max < np.iinfo(np.int8).max:\n",
    "                        df[col] = df[col].astype(np.int8)\n",
    "                    elif c_min > np.iinfo(np.int16).min and c_max < np.iinfo(np.int16).max:\n",
    "                           df[col] = df[col].astype(np.int16)\n",
    "                    elif c_min > np.iinfo(np.int32).min and c_max < np.iinfo(np.int32).max:\n",
    "                        df[col] = df[col].astype(np.int32)\n",
    "                    elif c_min > np.iinfo(np.int64).min and c_max < np.iinfo(np.int64).max:\n",
    "                        df[col] = df[col].astype(np.int64)  \n",
    "                else:\n",
    "                    if c_min > np.finfo(np.float16).min and c_max < np.finfo(np.float16).max:\n",
    "                        df[col] = df[col].astype(np.float16)\n",
    "                    elif c_min > np.finfo(np.float32).min and c_max < np.finfo(np.float32).max:\n",
    "                        df[col] = df[col].astype(np.float32)\n",
    "                    else:\n",
    "                        df[col] = df[col].astype(np.float64)    \n",
    "        end_mem = df.memory_usage().sum() / 1024**2\n",
    "\n",
    "        if verbose: \n",
    "            print('Mem. usage decreased to {:5.2f} Mb ({:.1f}% reduction)'.format(end_mem, 100 * (start_mem - end_mem) / start_mem))\n",
    "\n",
    "        return df\n",
    "    \n",
    "    def run(self):\n",
    "        from razor.api import project_space_path\n",
    "\n",
    "        prices_df=pd.read_csv(project_space_path(self.config[\"prices_path\"]))\n",
    "        calendar_df=pd.read_csv(project_space_path(self.config[\"calendar_path\"]))\n",
    "        \n",
    "        self.logger.info('Release week')\n",
    "        \n",
    "        self.logger.info('Prices')\n",
    "\n",
    "        # We can do some basic aggregations\n",
    "        prices_df['price_max'] = prices_df.groupby(['store_id','item_id'])['sell_price'].transform('max')\n",
    "        prices_df['price_min'] = prices_df.groupby(['store_id','item_id'])['sell_price'].transform('min')\n",
    "        prices_df['price_std'] = prices_df.groupby(['store_id','item_id'])['sell_price'].transform('std')\n",
    "        prices_df['price_mean'] = prices_df.groupby(['store_id','item_id'])['sell_price'].transform('mean')\n",
    "\n",
    "        # and do price normalization (min/max scaling)\n",
    "        prices_df['price_norm'] = prices_df['sell_price']/prices_df['price_max']\n",
    "\n",
    "        # Some items are can be inflation dependent\n",
    "        # and some items are very \"stable\"\n",
    "        prices_df['price_nunique'] = prices_df.groupby(['store_id','item_id'])['sell_price'].transform('nunique')\n",
    "        prices_df['item_nunique'] = prices_df.groupby(['store_id','sell_price'])['item_id'].transform('nunique')\n",
    "\n",
    "        # I would like some \"rolling\" aggregations\n",
    "        # but would like months and years as \"window\"\n",
    "        calendar_prices = calendar_df[['wm_yr_wk','month','year']]\n",
    "        calendar_prices = calendar_prices.drop_duplicates(subset=['wm_yr_wk'])\n",
    "        prices_df = prices_df.merge(calendar_prices[['wm_yr_wk','month','year']], on=['wm_yr_wk'], how='left')\n",
    "        del calendar_prices\n",
    "\n",
    "        # Now we can add price \"momentum\" (some sort of)\n",
    "        # Shifted by week \n",
    "        # by month mean\n",
    "        # by year mean\n",
    "        prices_df['price_momentum'] = prices_df['sell_price']/prices_df.groupby(['store_id','item_id'])['sell_price'].transform(lambda x: x.shift(1))\n",
    "        prices_df['price_momentum_m'] = prices_df['sell_price']/prices_df.groupby(['store_id','item_id','month'])['sell_price'].transform('mean')\n",
    "        prices_df['price_momentum_y'] = prices_df['sell_price']/prices_df.groupby(['store_id','item_id','year'])['sell_price'].transform('mean')\n",
    "\n",
    "        del prices_df['month'], prices_df['year']\n",
    "        \n",
    "        ########################## Merge prices and save part 2\n",
    "        #################################################################################\n",
    "        self.logger.info('Merge prices and save part 2')\n",
    "\n",
    "        grid_df = pd.read_pickle(project_space_path(self.grid_path))\n",
    "        MAIN_INDEX=self.config[\"MAIN_INDEX\"]\n",
    "        \n",
    "        # Merge Prices\n",
    "        original_columns = list(grid_df)\n",
    "        grid_df = grid_df.merge(prices_df, on=['store_id','item_id','wm_yr_wk'], how='left')\n",
    "        keep_columns = [col for col in list(grid_df) if col not in original_columns]\n",
    "        grid_df = grid_df[MAIN_INDEX+keep_columns]\n",
    "        grid_df = self.reduce_mem_usage(grid_df)\n",
    "\n",
    "        # Safe part 2\n",
    "        grid_df.to_pickle(project_space_path('M5Forecasting/m5-simple-fe/grid_part_2.pkl'))\n",
    "        self.logger.info(f'Size: {grid_df.shape}')\n",
    "\n",
    "        "
   ]
  },
  {
   "cell_type": "code",
   "execution_count": 22,
   "metadata": {},
   "outputs": [],
   "source": [
    "heavy_op4 = HeavyOp4(config=configs.config, grid_path='M5Forecasting/m5-simple-fe/grid_part_1.pkl')\n",
    "# heavy_op4 = HeavyOp4(config=configs.config, grid_path=heavy_op3.grid_pkl_path)\n"
   ]
  },
  {
   "cell_type": "code",
   "execution_count": 23,
   "metadata": {},
   "outputs": [],
   "source": [
    "# p = rf.Pipeline(\"heavy_op4\", targets=[heavy_op4])  #preprocess\n"
   ]
  },
  {
   "cell_type": "code",
   "execution_count": 24,
   "metadata": {},
   "outputs": [],
   "source": [
    "# deployed_pipeline = razor.api.engines('DS-engine').execute(pipeline=p)\n"
   ]
  },
  {
   "cell_type": "code",
   "execution_count": null,
   "metadata": {},
   "outputs": [],
   "source": []
  },
  {
   "cell_type": "code",
   "execution_count": null,
   "metadata": {},
   "outputs": [],
   "source": []
  },
  {
   "cell_type": "code",
   "execution_count": 25,
   "metadata": {},
   "outputs": [],
   "source": [
    "@rf.block(executor=rf.ContainerExecutor(cores=2, memory=20000))\n",
    "class HeavyOp5:\n",
    "    grid_path: t.Any\n",
    "    config: t.Any\n",
    "       \n",
    "    \n",
    "    def sizeof_fmt(self, num, suffix='B'):\n",
    "        for unit in ['','Ki','Mi','Gi','Ti','Pi','Ei','Zi']:\n",
    "            if abs(num) < 1024.0:\n",
    "                return \"%3.1f%s%s\" % (num, unit, suffix)\n",
    "            num /= 1024.0\n",
    "        return \"%.1f%s%s\" % (num, 'Yi', suffix)\n",
    "\n",
    "\n",
    "    def merge_by_concat(self, df1, df2, merge_on):\n",
    "        merged_gf = df1[merge_on]\n",
    "        merged_gf = merged_gf.merge(df2, on=merge_on, how='left')\n",
    "        new_columns = [col for col in list(merged_gf) if col not in merge_on]\n",
    "        df1 = pd.concat([df1, merged_gf[new_columns]], axis=1)\n",
    "        return df1\n",
    "    \n",
    "    def run(self):\n",
    "        from razor.api import project_space_path\n",
    "        \n",
    "        calendar_df=pd.read_csv(project_space_path(self.config[\"calendar_path\"]))\n",
    "        grid_df = pd.read_pickle(project_space_path(self.grid_path))\n",
    "        MAIN_INDEX=self.config[\"MAIN_INDEX\"]\n",
    "        \n",
    "        ########################### Merge calendar\n",
    "        #################################################################################\n",
    "        grid_df = grid_df[MAIN_INDEX]\n",
    "\n",
    "        # Merge calendar partly\n",
    "        icols = ['date',\n",
    "                 'd',\n",
    "                 'event_name_1',\n",
    "                 'event_type_1',\n",
    "                 'event_name_2',\n",
    "                 'event_type_2',\n",
    "                 'snap_CA',\n",
    "                 'snap_TX',\n",
    "                 'snap_WI']\n",
    "        \n",
    "#         self.logger.info(f'dtypes  {grid_df.dtypes}')\n",
    "        grid_df['d'] = grid_df['d'].apply(str)\n",
    "#         self.logger.info(grid_df.dtypes)\n",
    "#         self.logger.info(calendar_df.dtypes)\n",
    "\n",
    "#         self.logger.info(f'Before NULL,  {calendar_df[icols].isnull().sum()}')\n",
    "        grid_df = grid_df.merge(calendar_df[icols], on=['d'], how='left')\n",
    "#         self.logger.info(f'After NULL,  {grid_df.isnull().sum()}')\n",
    "\n",
    "        # Minify data\n",
    "        # 'snap_' columns we can convert to bool or int8\n",
    "        icols = ['event_name_1',\n",
    "                 'event_type_1',\n",
    "                 'event_name_2',\n",
    "                 'event_type_2',\n",
    "                 'snap_CA',\n",
    "                 'snap_TX',\n",
    "                 'snap_WI']\n",
    "        for col in icols:\n",
    "            grid_df[col] = grid_df[col].astype('category')\n",
    "\n",
    "        # Convert to DateTime\n",
    "        grid_df['date'] = pd.to_datetime(grid_df['date'])\n",
    "        \n",
    "\n",
    "        # Make some features from date\n",
    "        grid_df['tm_d'] = grid_df['date'].dt.day.astype(np.int8)\n",
    "        grid_df['tm_w'] = grid_df['date'].dt.week.astype(np.int8)\n",
    "        grid_df['tm_m'] = grid_df['date'].dt.month.astype(np.int8)\n",
    "        grid_df['tm_y'] = grid_df['date'].dt.year\n",
    "        grid_df['tm_y'] = (grid_df['tm_y'] - grid_df['tm_y'].min()).astype(np.int8)\n",
    "        grid_df['tm_wm'] = grid_df['tm_d'].apply(lambda x: ceil(x/7)).astype(np.int8)\n",
    "\n",
    "        grid_df['tm_dw'] = grid_df['date'].dt.dayofweek.astype(np.int8)\n",
    "        grid_df['tm_w_end'] = (grid_df['tm_dw']>=5).astype(np.int8)\n",
    "\n",
    "        # Remove date\n",
    "        del grid_df['date']\n",
    "        ########################### Save part 3 (Dates)\n",
    "        #################################################################################\n",
    "        print('Save part 3')\n",
    "\n",
    "        # Safe part 3\n",
    "        grid_df.to_pickle(project_space_path('M5Forecasting/m5-simple-fe/grid_part_3.pkl'))\n",
    "        print('Size:', grid_df.shape)\n",
    "\n",
    "        # We don't need calendar_df anymore\n",
    "        del calendar_df\n",
    "        del grid_df\n",
    "\n"
   ]
  },
  {
   "cell_type": "code",
   "execution_count": 26,
   "metadata": {},
   "outputs": [],
   "source": [
    "heavy_op5 = HeavyOp5(config=configs.config, grid_path=heavy_op3.grid_pkl_path)\n",
    "# heavy_op5 = HeavyOp5(config=configs.config, grid_path='M5Forecasting/debug/grid_part_1.pkl')\n"
   ]
  },
  {
   "cell_type": "code",
   "execution_count": 27,
   "metadata": {},
   "outputs": [],
   "source": [
    "p = rf.Pipeline(\"heavy_op5\", targets=[heavy_op4, heavy_op5])  #preprocess\n",
    "# p = rf.Pipeline(\"heavy_op5\", targets=[heavy_op5])  #preprocess\n"
   ]
  },
  {
   "cell_type": "code",
   "execution_count": 28,
   "metadata": {},
   "outputs": [
    {
     "data": {
      "application/vnd.razorthink.interactive+pipeline+view+json": {
       "blocks": [
        {
         "class_name": "HeavyOp5",
         "id": "fde8e4e7-2b52-46f0-a613-fffcaa8010cd",
         "inputs": [
          {
           "default": null,
           "flow": "atomic",
           "help": null,
           "label": "grid_path",
           "name": "grid_path",
           "series": false,
           "type": "Any",
           "type_check": true
          },
          {
           "default": null,
           "flow": "atomic",
           "help": null,
           "label": "config",
           "name": "config",
           "series": false,
           "type": "Any",
           "type_check": true
          }
         ],
         "outputs": [],
         "overwritten": false,
         "var_names": [
          "HeavyOp5"
         ]
        },
        {
         "class_name": "Melter",
         "id": "0f35e4f1-6866-4a7f-8660-bd3d5f82e53c",
         "inputs": [
          {
           "default": null,
           "flow": "atomic",
           "help": null,
           "label": "path",
           "name": "path",
           "series": false,
           "type": "Any",
           "type_check": true
          }
         ],
         "outputs": [
          {
           "flow": "atomic",
           "help": null,
           "label": "grid_df_path",
           "name": "grid_df_path",
           "series": false,
           "type": "Any",
           "type_check": true
          }
         ],
         "overwritten": false,
         "var_names": [
          "Melter"
         ]
        },
        {
         "class_name": "HeavyOp2",
         "id": "32d05572-56aa-4488-be9a-804d365c535e",
         "inputs": [
          {
           "default": null,
           "flow": "atomic",
           "help": null,
           "label": "grid_df_path",
           "name": "grid_df_path",
           "series": false,
           "type": "Any",
           "type_check": true
          },
          {
           "default": null,
           "flow": "atomic",
           "help": null,
           "label": "add_grid_path",
           "name": "add_grid_path",
           "series": false,
           "type": "Any",
           "type_check": true
          },
          {
           "default": null,
           "flow": "atomic",
           "help": null,
           "label": "config",
           "name": "config",
           "series": false,
           "type": "Any",
           "type_check": true
          }
         ],
         "outputs": [
          {
           "flow": "atomic",
           "help": null,
           "label": "grid_df_int_path",
           "name": "grid_df_int_path",
           "series": false,
           "type": "Any",
           "type_check": true
          }
         ],
         "overwritten": false,
         "var_names": [
          "HeavyOp2"
         ]
        },
        {
         "class_name": "HeavyOp3",
         "id": "01693d83-0872-466a-a44c-b59a41a8f364",
         "inputs": [
          {
           "default": null,
           "flow": "atomic",
           "help": null,
           "label": "grid_df_path",
           "name": "grid_df_path",
           "series": false,
           "type": "Any",
           "type_check": true
          },
          {
           "default": null,
           "flow": "atomic",
           "help": null,
           "label": "config",
           "name": "config",
           "series": false,
           "type": "Any",
           "type_check": true
          }
         ],
         "outputs": [
          {
           "flow": "atomic",
           "help": null,
           "label": "grid_pkl_path",
           "name": "grid_pkl_path",
           "series": false,
           "type": "Any",
           "type_check": true
          }
         ],
         "overwritten": false,
         "var_names": [
          "HeavyOp3"
         ]
        },
        {
         "class_name": "HeavyOp4",
         "id": "693e89ef-4cc2-4ee8-8419-fcb119f5d6ca",
         "inputs": [
          {
           "default": null,
           "flow": "atomic",
           "help": null,
           "label": "grid_path",
           "name": "grid_path",
           "series": false,
           "type": "Any",
           "type_check": true
          },
          {
           "default": null,
           "flow": "atomic",
           "help": null,
           "label": "config",
           "name": "config",
           "series": false,
           "type": "Any",
           "type_check": true
          }
         ],
         "outputs": [],
         "overwritten": false,
         "var_names": [
          "HeavyOp4"
         ]
        },
        {
         "class_name": "HeavyOp1",
         "id": "c2e17d6f-a062-46f5-852f-12f7fce58ebc",
         "inputs": [
          {
           "default": null,
           "flow": "atomic",
           "help": null,
           "label": "path",
           "name": "path",
           "series": false,
           "type": "Any",
           "type_check": true
          },
          {
           "default": null,
           "flow": "atomic",
           "help": null,
           "label": "config",
           "name": "config",
           "series": false,
           "type": "Any",
           "type_check": true
          }
         ],
         "outputs": [
          {
           "flow": "atomic",
           "help": null,
           "label": "add_grid_path",
           "name": "add_grid_path",
           "series": false,
           "type": "Any",
           "type_check": true
          }
         ],
         "overwritten": false,
         "var_names": [
          "HeavyOp1"
         ]
        },
        {
         "class_name": "Configs",
         "id": "e2ef0bd3-b46f-4b72-a227-8f05e433c8fe",
         "inputs": [],
         "outputs": [
          {
           "flow": "atomic",
           "help": null,
           "label": "config",
           "name": "config",
           "series": false,
           "type": "Any",
           "type_check": true
          }
         ],
         "overwritten": false,
         "var_names": [
          "Configs"
         ]
        }
       ],
       "connections": [
        {
         "id": "11865833-7754-4b0b-a7d0-12fb0cc87b81",
         "source": {
          "adapter": false,
          "instance_id": "9e604db9-f02c-468c-945f-3c2c99f73e0b",
          "name": "add_grid_path"
         },
         "target": {
          "adapter": false,
          "instance_id": "f001f195-c133-4fb0-bbfc-e68909033267",
          "name": "add_grid_path"
         }
        },
        {
         "id": "16e3d09e-be23-46fe-b7ca-bb40a566aa4f",
         "source": {
          "adapter": false,
          "instance_id": "8b870daf-7864-450d-87ae-baa59532f205",
          "name": "grid_pkl_path"
         },
         "target": {
          "adapter": false,
          "instance_id": "604b19e5-3d5d-451c-b736-162fb50f147c",
          "name": "grid_path"
         }
        },
        {
         "id": "62b62f04-e310-4635-a1b8-b8fb888afbf5",
         "source": {
          "adapter": false,
          "instance_id": "b0cdb5bf-5467-4cb1-9d39-23079213691e",
          "name": "grid_df_path"
         },
         "target": {
          "adapter": false,
          "instance_id": "f001f195-c133-4fb0-bbfc-e68909033267",
          "name": "grid_df_path"
         }
        },
        {
         "id": "54428bb4-cc9e-49fa-afa3-81cf2dc132a1",
         "source": {
          "adapter": false,
          "instance_id": "641d187f-edb6-4403-99e1-af7498a35e27",
          "name": "config"
         },
         "target": {
          "adapter": false,
          "instance_id": "55e125e4-1ca9-444f-9bc2-3caeba8dfae4",
          "name": "config"
         }
        },
        {
         "id": "71bf499f-91e7-4719-af34-270feba864df",
         "source": {
          "adapter": false,
          "instance_id": "641d187f-edb6-4403-99e1-af7498a35e27",
          "name": "config"
         },
         "target": {
          "adapter": false,
          "instance_id": "9e604db9-f02c-468c-945f-3c2c99f73e0b",
          "name": "config"
         }
        },
        {
         "id": "4c361861-d225-4a34-9ffb-86f769b1bdd7",
         "source": {
          "adapter": false,
          "instance_id": "641d187f-edb6-4403-99e1-af7498a35e27",
          "name": "config"
         },
         "target": {
          "adapter": false,
          "instance_id": "8b870daf-7864-450d-87ae-baa59532f205",
          "name": "config"
         }
        },
        {
         "id": "8e351a08-6e80-431e-9af4-2e2c324c5297",
         "source": {
          "adapter": false,
          "instance_id": "641d187f-edb6-4403-99e1-af7498a35e27",
          "name": "config"
         },
         "target": {
          "adapter": false,
          "instance_id": "f001f195-c133-4fb0-bbfc-e68909033267",
          "name": "config"
         }
        },
        {
         "id": "84d51233-40d3-4759-acba-ea3dbe916b79",
         "source": {
          "adapter": false,
          "instance_id": "641d187f-edb6-4403-99e1-af7498a35e27",
          "name": "config"
         },
         "target": {
          "adapter": false,
          "instance_id": "604b19e5-3d5d-451c-b736-162fb50f147c",
          "name": "config"
         }
        },
        {
         "id": "e5e0ffd1-f70d-4724-8fb3-0fc12b469a09",
         "source": {
          "adapter": false,
          "instance_id": "f001f195-c133-4fb0-bbfc-e68909033267",
          "name": "grid_df_int_path"
         },
         "target": {
          "adapter": false,
          "instance_id": "8b870daf-7864-450d-87ae-baa59532f205",
          "name": "grid_df_path"
         }
        }
       ],
       "id": "48926352-0c2b-4076-90f4-af0542cd7138",
       "instances": [
        {
         "block_class": "693e89ef-4cc2-4ee8-8419-fcb119f5d6ca",
         "id": "55e125e4-1ca9-444f-9bc2-3caeba8dfae4",
         "name": "HeavyOp4_1",
         "var_names": [
          "heavy_op4"
         ]
        },
        {
         "block_class": "e2ef0bd3-b46f-4b72-a227-8f05e433c8fe",
         "id": "641d187f-edb6-4403-99e1-af7498a35e27",
         "name": "Configs_1",
         "var_names": [
          "configs"
         ]
        },
        {
         "block_class": "fde8e4e7-2b52-46f0-a613-fffcaa8010cd",
         "id": "604b19e5-3d5d-451c-b736-162fb50f147c",
         "name": "HeavyOp5_1",
         "var_names": [
          "heavy_op5"
         ]
        },
        {
         "block_class": "01693d83-0872-466a-a44c-b59a41a8f364",
         "id": "8b870daf-7864-450d-87ae-baa59532f205",
         "name": "HeavyOp3_1",
         "var_names": [
          "heavy_op3"
         ]
        },
        {
         "block_class": "32d05572-56aa-4488-be9a-804d365c535e",
         "id": "f001f195-c133-4fb0-bbfc-e68909033267",
         "name": "HeavyOp2_1",
         "var_names": [
          "heavy_op2"
         ]
        },
        {
         "block_class": "0f35e4f1-6866-4a7f-8660-bd3d5f82e53c",
         "id": "b0cdb5bf-5467-4cb1-9d39-23079213691e",
         "name": "Melter_1",
         "var_names": [
          "melter"
         ]
        },
        {
         "block_class": "c2e17d6f-a062-46f5-852f-12f7fce58ebc",
         "id": "9e604db9-f02c-468c-945f-3c2c99f73e0b",
         "name": "HeavyOp1_1",
         "var_names": [
          "heavy_op1"
         ]
        }
       ],
       "name": "heavy_op5",
       "var_names": []
      },
      "image/svg+xml": [
       "<?xml version=\"1.0\" encoding=\"UTF-8\" standalone=\"no\"?>\n",
       "<!DOCTYPE svg PUBLIC \"-//W3C//DTD SVG 1.1//EN\"\n",
       " \"http://www.w3.org/Graphics/SVG/1.1/DTD/svg11.dtd\">\n",
       "<!-- Generated by graphviz version 2.40.1 (20161225.0304)\n",
       " -->\n",
       "<!-- Title: %3 Pages: 1 -->\n",
       "<svg width=\"803pt\" height=\"376pt\"\n",
       " viewBox=\"0.00 0.00 803.18 376.00\" xmlns=\"http://www.w3.org/2000/svg\" xmlns:xlink=\"http://www.w3.org/1999/xlink\">\n",
       "<g id=\"graph0\" class=\"graph\" transform=\"scale(1 1) rotate(0) translate(4 372)\">\n",
       "<title>%3</title>\n",
       "<polygon fill=\"#ffffff\" stroke=\"transparent\" points=\"-4,4 -4,-372 799.1788,-372 799.1788,4 -4,4\"/>\n",
       "<!-- HeavyOp4(&#39;HeavyOp4_1&#39;) -->\n",
       "<g id=\"node1\" class=\"node\">\n",
       "<title>HeavyOp4(&#39;HeavyOp4_1&#39;)</title>\n",
       "<ellipse fill=\"none\" stroke=\"#000000\" cx=\"84.1788\" cy=\"-267\" rx=\"84.358\" ry=\"18\"/>\n",
       "<text text-anchor=\"middle\" x=\"84.1788\" y=\"-264.5\" font-family=\"Helvetica,sans-Serif\" font-size=\"10.00\" fill=\"#000000\">HeavyOp4(&#39;HeavyOp4_1&#39;)</text>\n",
       "</g>\n",
       "<!-- Configs(&#39;Configs_1&#39;) -->\n",
       "<g id=\"node2\" class=\"node\">\n",
       "<title>Configs(&#39;Configs_1&#39;)</title>\n",
       "<ellipse fill=\"none\" stroke=\"#000000\" cx=\"295.1788\" cy=\"-350\" rx=\"66.5378\" ry=\"18\"/>\n",
       "<text text-anchor=\"middle\" x=\"295.1788\" y=\"-347.5\" font-family=\"Helvetica,sans-Serif\" font-size=\"10.00\" fill=\"#000000\">Configs(&#39;Configs_1&#39;)</text>\n",
       "</g>\n",
       "<!-- Configs(&#39;Configs_1&#39;)&#45;&gt;HeavyOp4(&#39;HeavyOp4_1&#39;) -->\n",
       "<g id=\"edge1\" class=\"edge\">\n",
       "<title>Configs(&#39;Configs_1&#39;)&#45;&gt;HeavyOp4(&#39;HeavyOp4_1&#39;)</title>\n",
       "<path fill=\"none\" stroke=\"#000000\" d=\"M233.1591,-343.4329C187.6302,-337.5954 130.5001,-327.8312 111.1788,-314 104.2922,-309.0702 98.9106,-301.7976 94.827,-294.4389\"/>\n",
       "<polygon fill=\"#000000\" stroke=\"#000000\" points=\"97.8679,-292.6898 90.3331,-285.2415 91.5786,-295.7629 97.8679,-292.6898\"/>\n",
       "<text text-anchor=\"middle\" x=\"146.6788\" y=\"-306\" font-family=\"Helvetica,sans-Serif\" font-size=\"10.00\" fill=\"#000000\">config&#45;&gt;config</text>\n",
       "</g>\n",
       "<!-- HeavyOp5(&#39;HeavyOp5_1&#39;) -->\n",
       "<g id=\"node3\" class=\"node\">\n",
       "<title>HeavyOp5(&#39;HeavyOp5_1&#39;)</title>\n",
       "<ellipse fill=\"none\" stroke=\"#000000\" cx=\"212.1788\" cy=\"-18\" rx=\"84.358\" ry=\"18\"/>\n",
       "<text text-anchor=\"middle\" x=\"212.1788\" y=\"-15.5\" font-family=\"Helvetica,sans-Serif\" font-size=\"10.00\" fill=\"#000000\">HeavyOp5(&#39;HeavyOp5_1&#39;)</text>\n",
       "</g>\n",
       "<!-- Configs(&#39;Configs_1&#39;)&#45;&gt;HeavyOp5(&#39;HeavyOp5_1&#39;) -->\n",
       "<g id=\"edge5\" class=\"edge\">\n",
       "<title>Configs(&#39;Configs_1&#39;)&#45;&gt;HeavyOp5(&#39;HeavyOp5_1&#39;)</title>\n",
       "<path fill=\"none\" stroke=\"#000000\" d=\"M256.0514,-335.334C228.3792,-322.1374 196.1788,-299.746 196.1788,-267 196.1788,-267 196.1788,-267 196.1788,-101 196.1788,-82.4613 200.075,-62.0077 204.0221,-46.0434\"/>\n",
       "<polygon fill=\"#000000\" stroke=\"#000000\" points=\"207.4349,-46.8267 206.5828,-36.2662 200.6633,-45.0531 207.4349,-46.8267\"/>\n",
       "<text text-anchor=\"middle\" x=\"231.6788\" y=\"-181.5\" font-family=\"Helvetica,sans-Serif\" font-size=\"10.00\" fill=\"#000000\">config&#45;&gt;config</text>\n",
       "</g>\n",
       "<!-- HeavyOp3(&#39;HeavyOp3_1&#39;) -->\n",
       "<g id=\"node4\" class=\"node\">\n",
       "<title>HeavyOp3(&#39;HeavyOp3_1&#39;)</title>\n",
       "<ellipse fill=\"none\" stroke=\"#000000\" cx=\"308.1788\" cy=\"-101\" rx=\"84.358\" ry=\"18\"/>\n",
       "<text text-anchor=\"middle\" x=\"308.1788\" y=\"-98.5\" font-family=\"Helvetica,sans-Serif\" font-size=\"10.00\" fill=\"#000000\">HeavyOp3(&#39;HeavyOp3_1&#39;)</text>\n",
       "</g>\n",
       "<!-- Configs(&#39;Configs_1&#39;)&#45;&gt;HeavyOp3(&#39;HeavyOp3_1&#39;) -->\n",
       "<g id=\"edge4\" class=\"edge\">\n",
       "<title>Configs(&#39;Configs_1&#39;)&#45;&gt;HeavyOp3(&#39;HeavyOp3_1&#39;)</title>\n",
       "<path fill=\"none\" stroke=\"#000000\" d=\"M296.1347,-331.6904C298.3846,-288.5957 304.0267,-180.5283 306.7129,-129.0767\"/>\n",
       "<polygon fill=\"#000000\" stroke=\"#000000\" points=\"310.2128,-129.1695 307.239,-119.0006 303.2223,-128.8045 310.2128,-129.1695\"/>\n",
       "<text text-anchor=\"middle\" x=\"337.6788\" y=\"-223\" font-family=\"Helvetica,sans-Serif\" font-size=\"10.00\" fill=\"#000000\">config&#45;&gt;config</text>\n",
       "</g>\n",
       "<!-- HeavyOp2(&#39;HeavyOp2_1&#39;) -->\n",
       "<g id=\"node5\" class=\"node\">\n",
       "<title>HeavyOp2(&#39;HeavyOp2_1&#39;)</title>\n",
       "<ellipse fill=\"none\" stroke=\"#000000\" cx=\"433.1788\" cy=\"-184\" rx=\"84.358\" ry=\"18\"/>\n",
       "<text text-anchor=\"middle\" x=\"433.1788\" y=\"-181.5\" font-family=\"Helvetica,sans-Serif\" font-size=\"10.00\" fill=\"#000000\">HeavyOp2(&#39;HeavyOp2_1&#39;)</text>\n",
       "</g>\n",
       "<!-- Configs(&#39;Configs_1&#39;)&#45;&gt;HeavyOp2(&#39;HeavyOp2_1&#39;) -->\n",
       "<g id=\"edge3\" class=\"edge\">\n",
       "<title>Configs(&#39;Configs_1&#39;)&#45;&gt;HeavyOp2(&#39;HeavyOp2_1&#39;)</title>\n",
       "<path fill=\"none\" stroke=\"#000000\" d=\"M307.5077,-331.9447C321.8423,-311.308 346.5634,-276.7964 370.1788,-249 381.8643,-235.2456 395.7441,-220.7506 407.4978,-208.9477\"/>\n",
       "<polygon fill=\"#000000\" stroke=\"#000000\" points=\"410.2482,-211.1485 414.8701,-201.615 405.3118,-206.1854 410.2482,-211.1485\"/>\n",
       "<text text-anchor=\"middle\" x=\"405.6788\" y=\"-264.5\" font-family=\"Helvetica,sans-Serif\" font-size=\"10.00\" fill=\"#000000\">config&#45;&gt;config</text>\n",
       "</g>\n",
       "<!-- HeavyOp1(&#39;HeavyOp1_1&#39;) -->\n",
       "<g id=\"node7\" class=\"node\">\n",
       "<title>HeavyOp1(&#39;HeavyOp1_1&#39;)</title>\n",
       "<ellipse fill=\"none\" stroke=\"#000000\" cx=\"534.1788\" cy=\"-267\" rx=\"84.358\" ry=\"18\"/>\n",
       "<text text-anchor=\"middle\" x=\"534.1788\" y=\"-264.5\" font-family=\"Helvetica,sans-Serif\" font-size=\"10.00\" fill=\"#000000\">HeavyOp1(&#39;HeavyOp1_1&#39;)</text>\n",
       "</g>\n",
       "<!-- Configs(&#39;Configs_1&#39;)&#45;&gt;HeavyOp1(&#39;HeavyOp1_1&#39;) -->\n",
       "<g id=\"edge2\" class=\"edge\">\n",
       "<title>Configs(&#39;Configs_1&#39;)&#45;&gt;HeavyOp1(&#39;HeavyOp1_1&#39;)</title>\n",
       "<path fill=\"none\" stroke=\"#000000\" d=\"M336.2644,-335.7318C376.094,-321.8997 436.7317,-300.8415 480.3889,-285.6802\"/>\n",
       "<polygon fill=\"#000000\" stroke=\"#000000\" points=\"481.6883,-288.934 489.9866,-282.3471 479.3918,-282.3214 481.6883,-288.934\"/>\n",
       "<text text-anchor=\"middle\" x=\"464.6788\" y=\"-306\" font-family=\"Helvetica,sans-Serif\" font-size=\"10.00\" fill=\"#000000\">config&#45;&gt;config</text>\n",
       "</g>\n",
       "<!-- HeavyOp3(&#39;HeavyOp3_1&#39;)&#45;&gt;HeavyOp5(&#39;HeavyOp5_1&#39;) -->\n",
       "<g id=\"edge6\" class=\"edge\">\n",
       "<title>HeavyOp3(&#39;HeavyOp3_1&#39;)&#45;&gt;HeavyOp5(&#39;HeavyOp5_1&#39;)</title>\n",
       "<path fill=\"none\" stroke=\"#000000\" d=\"M287.8197,-83.3978C273.9464,-71.4033 255.4001,-55.3684 240.1443,-42.1785\"/>\n",
       "<polygon fill=\"#000000\" stroke=\"#000000\" points=\"242.3624,-39.4695 232.5086,-35.5768 237.7842,-44.7648 242.3624,-39.4695\"/>\n",
       "<text text-anchor=\"middle\" x=\"328.1788\" y=\"-57\" font-family=\"Helvetica,sans-Serif\" font-size=\"10.00\" fill=\"#000000\">grid_pkl_path&#45;&gt;grid_path</text>\n",
       "</g>\n",
       "<!-- HeavyOp2(&#39;HeavyOp2_1&#39;)&#45;&gt;HeavyOp3(&#39;HeavyOp3_1&#39;) -->\n",
       "<g id=\"edge7\" class=\"edge\">\n",
       "<title>HeavyOp2(&#39;HeavyOp2_1&#39;)&#45;&gt;HeavyOp3(&#39;HeavyOp3_1&#39;)</title>\n",
       "<path fill=\"none\" stroke=\"#000000\" d=\"M407.2787,-166.8023C388.5073,-154.3381 362.9348,-137.358 342.4693,-123.7689\"/>\n",
       "<polygon fill=\"#000000\" stroke=\"#000000\" points=\"344.3125,-120.7915 334.0457,-118.1756 340.4404,-126.623 344.3125,-120.7915\"/>\n",
       "<text text-anchor=\"middle\" x=\"454.1788\" y=\"-140\" font-family=\"Helvetica,sans-Serif\" font-size=\"10.00\" fill=\"#000000\">grid_df_int_path&#45;&gt;grid_df_path</text>\n",
       "</g>\n",
       "<!-- Melter(&#39;Melter_1&#39;) -->\n",
       "<g id=\"node6\" class=\"node\">\n",
       "<title>Melter(&#39;Melter_1&#39;)</title>\n",
       "<ellipse fill=\"none\" stroke=\"#000000\" cx=\"697.1788\" cy=\"-267\" rx=\"60.7649\" ry=\"18\"/>\n",
       "<text text-anchor=\"middle\" x=\"697.1788\" y=\"-264.5\" font-family=\"Helvetica,sans-Serif\" font-size=\"10.00\" fill=\"#000000\">Melter(&#39;Melter_1&#39;)</text>\n",
       "</g>\n",
       "<!-- Melter(&#39;Melter_1&#39;)&#45;&gt;HeavyOp2(&#39;HeavyOp2_1&#39;) -->\n",
       "<g id=\"edge8\" class=\"edge\">\n",
       "<title>Melter(&#39;Melter_1&#39;)&#45;&gt;HeavyOp2(&#39;HeavyOp2_1&#39;)</title>\n",
       "<path fill=\"none\" stroke=\"#000000\" d=\"M682.1325,-249.0677C672.5997,-238.9155 659.4126,-226.9033 645.1788,-220 622.9454,-209.2169 567.017,-199.9594 518.1869,-193.5332\"/>\n",
       "<polygon fill=\"#000000\" stroke=\"#000000\" points=\"518.5747,-190.0543 508.209,-192.2457 517.6789,-196.9967 518.5747,-190.0543\"/>\n",
       "<text text-anchor=\"middle\" x=\"728.1788\" y=\"-223\" font-family=\"Helvetica,sans-Serif\" font-size=\"10.00\" fill=\"#000000\">grid_df_path&#45;&gt;grid_df_path</text>\n",
       "</g>\n",
       "<!-- HeavyOp1(&#39;HeavyOp1_1&#39;)&#45;&gt;HeavyOp2(&#39;HeavyOp2_1&#39;) -->\n",
       "<g id=\"edge9\" class=\"edge\">\n",
       "<title>HeavyOp1(&#39;HeavyOp1_1&#39;)&#45;&gt;HeavyOp2(&#39;HeavyOp2_1&#39;)</title>\n",
       "<path fill=\"none\" stroke=\"#000000\" d=\"M512.7593,-249.3978C498.1635,-237.4033 478.6512,-221.3684 462.6008,-208.1785\"/>\n",
       "<polygon fill=\"#000000\" stroke=\"#000000\" points=\"464.5155,-205.2218 454.5674,-201.5768 460.0712,-210.6299 464.5155,-205.2218\"/>\n",
       "<text text-anchor=\"middle\" x=\"565.6788\" y=\"-223\" font-family=\"Helvetica,sans-Serif\" font-size=\"10.00\" fill=\"#000000\">add_grid_path&#45;&gt;add_grid_path</text>\n",
       "</g>\n",
       "</g>\n",
       "</svg>\n"
      ],
      "text/plain": [
       "<razor.flow.pipeline.Pipeline at 0x7f1baf571950>"
      ]
     },
     "execution_count": 28,
     "metadata": {},
     "output_type": "execute_result"
    }
   ],
   "source": [
    "p"
   ]
  },
  {
   "cell_type": "code",
   "execution_count": 29,
   "metadata": {},
   "outputs": [],
   "source": [
    "deployed_pipeline = razor.api.engines('DS-engine').execute(pipeline=p)\n"
   ]
  },
  {
   "cell_type": "code",
   "execution_count": 30,
   "metadata": {},
   "outputs": [
    {
     "data": {
      "application/vnd.razorthink.run+monitor+json": "/home/jovyan/logs/66cc3aca-1a9c-4a3e-bcaa-17d433e5a13a",
      "text/plain": [
       "<razor_tools.backend.ipython.mime.run_monitor.RunMonitor at 0x7f1baf343850>"
      ]
     },
     "metadata": {
      "application/vnd.razorthink.run+monitor+json": {
       "store_in_notebook": false
      }
     },
     "output_type": "display_data"
    },
    {
     "data": {
      "text/html": [],
      "text/plain": [
       "PlatformPipelineRun(project_id='c0b26d85-a4c9-44f5-9d0e-f540dd2de644', pipeline_id='ea0b7b00-061e-11eb-a699-0242ac110004', pipeline_name='heavy_op5', pipeline_run_id='66cc3aca-1a9c-4a3e-bcaa-17d433e5a13a', pipeline_version=None, comment=None, created_on='2020-10-04T08:52:23.899+00:00', start_time=None, end_time=None, eta=0, run_at=1601801543899, run_duration=0, compute_time=0, wait_time=438, ran_by_user=RanByUser(user_name='Ayan Basak', email='ayan.basak@razorthink.com'), status='IN_PROGRESS', block_status=[PlatformPipelineBlockRun(pipeline_run_id='66cc3aca-1a9c-4a3e-bcaa-17d433e5a13a', pipeline_name='heavy_op5', pipeline_status='IN_PROGRESS', block_id='c3419326-2ca8-47a0-9510-02820270eb0e', block_run_id='671da520-fc32-431d-b86a-9465cadd686e', block_name='Configs_1', resource_spec=ResourceAllocated(cores=2, memory=3000, use_gpu=False, gpu=0, use_gpu_if_available=False, cluster_configuration={'worker': None, 'workerCore': None, 'workerMemory': None, 'numberOfInstances': None, 'maxServerCount': None}, additional_env={}, run_env='PYTHON'), technology='PYTHON', status='READY_TO_GO', containers=[], cluster_id='c3419326-2ca8-47a0-9510-02820270eb0e', _log=None, _metric=None, wait_time=0, compute_time=0, start_time=None, end_time=None, queued_at='2020-10-04T08:52:25.000+00:00'), PlatformPipelineBlockRun(pipeline_run_id='66cc3aca-1a9c-4a3e-bcaa-17d433e5a13a', pipeline_name='heavy_op5', pipeline_status='IN_PROGRESS', block_id='eb9ec22d-7b15-485a-9783-2c2c877d448d', block_run_id='c2f0fd4e-555a-4634-b640-52928ed416a6', block_name='Melter_1', resource_spec=ResourceAllocated(cores=2, memory=10192, use_gpu=False, gpu=0, use_gpu_if_available=False, cluster_configuration={'worker': None, 'workerCore': None, 'workerMemory': None, 'numberOfInstances': None, 'maxServerCount': None}, additional_env={}, run_env='PYTHON'), technology='PYTHON', status='READY_TO_GO', containers=[], cluster_id='eb9ec22d-7b15-485a-9783-2c2c877d448d', _log=None, _metric=None, wait_time=0, compute_time=0, start_time=None, end_time=None, queued_at='2020-10-04T08:52:25.000+00:00'), PlatformPipelineBlockRun(pipeline_run_id='66cc3aca-1a9c-4a3e-bcaa-17d433e5a13a', pipeline_name='heavy_op5', pipeline_status='IN_PROGRESS', block_id='8fdb4b7c-a5ec-4c6d-9208-67afde20d8c3', block_run_id='9177bac4-d5ee-4c97-98aa-4333a742d9d8', block_name='HeavyOp4_1', resource_spec=ResourceAllocated(cores=2, memory=20000, use_gpu=False, gpu=0, use_gpu_if_available=False, cluster_configuration={'worker': None, 'workerCore': None, 'workerMemory': None, 'numberOfInstances': None, 'maxServerCount': None}, additional_env={}, run_env='PYTHON'), technology='PYTHON', status='YET_TO_START', containers=[], cluster_id='8fdb4b7c-a5ec-4c6d-9208-67afde20d8c3', _log=None, _metric=None, wait_time=0, compute_time=0, start_time=None, end_time=None, queued_at=None), PlatformPipelineBlockRun(pipeline_run_id='66cc3aca-1a9c-4a3e-bcaa-17d433e5a13a', pipeline_name='heavy_op5', pipeline_status='IN_PROGRESS', block_id='c5797e32-4f1a-4971-a64c-5e6c6b84c83d', block_run_id='96c750ed-6f71-43d6-8397-308f9d73858a', block_name='HeavyOp1_1', resource_spec=ResourceAllocated(cores=2, memory=8192, use_gpu=False, gpu=0, use_gpu_if_available=False, cluster_configuration={'worker': None, 'workerCore': None, 'workerMemory': None, 'numberOfInstances': None, 'maxServerCount': None}, additional_env={}, run_env='PYTHON'), technology='PYTHON', status='YET_TO_START', containers=[], cluster_id='c5797e32-4f1a-4971-a64c-5e6c6b84c83d', _log=None, _metric=None, wait_time=0, compute_time=0, start_time=None, end_time=None, queued_at=None), PlatformPipelineBlockRun(pipeline_run_id='66cc3aca-1a9c-4a3e-bcaa-17d433e5a13a', pipeline_name='heavy_op5', pipeline_status='IN_PROGRESS', block_id='28ef8589-7914-4738-9bfa-0b94572cfd9c', block_run_id='0b9bc59e-2c64-4024-9eab-bc331f8c60e7', block_name='HeavyOp2_1', resource_spec=ResourceAllocated(cores=2, memory=13000, use_gpu=False, gpu=0, use_gpu_if_available=False, cluster_configuration={'worker': None, 'workerCore': None, 'workerMemory': None, 'numberOfInstances': None, 'maxServerCount': None}, additional_env={}, run_env='PYTHON'), technology='PYTHON', status='YET_TO_START', containers=[], cluster_id='28ef8589-7914-4738-9bfa-0b94572cfd9c', _log=None, _metric=None, wait_time=0, compute_time=0, start_time=None, end_time=None, queued_at=None), PlatformPipelineBlockRun(pipeline_run_id='66cc3aca-1a9c-4a3e-bcaa-17d433e5a13a', pipeline_name='heavy_op5', pipeline_status='IN_PROGRESS', block_id='6dd8313e-dd14-448e-aab6-0aff900b50b0', block_run_id='a006d1b3-1093-49ac-9b83-77761a57987c', block_name='HeavyOp3_1', resource_spec=ResourceAllocated(cores=2, memory=20000, use_gpu=False, gpu=0, use_gpu_if_available=False, cluster_configuration={'worker': None, 'workerCore': None, 'workerMemory': None, 'numberOfInstances': None, 'maxServerCount': None}, additional_env={}, run_env='PYTHON'), technology='PYTHON', status='YET_TO_START', containers=[], cluster_id='6dd8313e-dd14-448e-aab6-0aff900b50b0', _log=None, _metric=None, wait_time=0, compute_time=0, start_time=None, end_time=None, queued_at=None), PlatformPipelineBlockRun(pipeline_run_id='66cc3aca-1a9c-4a3e-bcaa-17d433e5a13a', pipeline_name='heavy_op5', pipeline_status='IN_PROGRESS', block_id='38a27c2e-c569-47d6-ab84-5d013a8f37eb', block_run_id='2783e8dc-815b-40a8-b1e4-2fb31c251cd0', block_name='HeavyOp5_1', resource_spec=ResourceAllocated(cores=2, memory=20000, use_gpu=False, gpu=0, use_gpu_if_available=False, cluster_configuration={'worker': None, 'workerCore': None, 'workerMemory': None, 'numberOfInstances': None, 'maxServerCount': None}, additional_env={}, run_env='PYTHON'), technology='PYTHON', status='YET_TO_START', containers=[], cluster_id='38a27c2e-c569-47d6-ab84-5d013a8f37eb', _log=None, _metric=None, wait_time=0, compute_time=0, start_time=None, end_time=None, queued_at=None)], run_number=270, pipeline_variable_list=[], block_run_details=[BlockRunDetail(block_id='c3419326-2ca8-47a0-9510-02820270eb0e', block_run_id='671da520-fc32-431d-b86a-9465cadd686e', block_name='Configs_1', technology='PYTHON', log_path=None, input_parameters='{}', output_parameters=None, status='READY_TO_GO', created_at='2020-10-04T08:52:23.988+00:00', queued_at='2020-10-04T08:52:25.000+00:00', start_time=None, end_time=None, compute_time=0, wait_time=0, run_time=0, block_run_output_list=[BlockRunOutputList(output_id='301f870c-df0c-47c4-a40d-75bc7f41b09b', output_name='config', created_on='2020-10-04T08:52:24.095+00:00', output_status='YET_TO_START', block_transport='FILE'), BlockRunOutputList(output_id='3210e355-94ca-4b24-bea4-54b41b7839a4', output_name='config', created_on='2020-10-04T08:52:24.099+00:00', output_status='YET_TO_START', block_transport='FILE'), BlockRunOutputList(output_id='f22bc053-92ec-472a-b0dc-83592f18f7c7', output_name='config', created_on='2020-10-04T08:52:24.105+00:00', output_status='YET_TO_START', block_transport='FILE'), BlockRunOutputList(output_id='e27e1e0f-d34c-45e2-996b-713ced570782', output_name='config', created_on='2020-10-04T08:52:24.112+00:00', output_status='YET_TO_START', block_transport='FILE'), BlockRunOutputList(output_id='c250940d-9e48-4589-aa80-b0d6f198c55c', output_name='config', created_on='2020-10-04T08:52:24.121+00:00', output_status='YET_TO_START', block_transport='FILE')], resource_allocated=ResourceAllocated(cores=2, memory=3000, use_gpu=False, gpu=0, use_gpu_if_available=False, cluster_configuration={'worker': None, 'workerCore': None, 'workerMemory': None, 'numberOfInstances': None, 'maxServerCount': None}, additional_env={}, run_env='PYTHON')), BlockRunDetail(block_id='eb9ec22d-7b15-485a-9783-2c2c877d448d', block_run_id='c2f0fd4e-555a-4634-b640-52928ed416a6', block_name='Melter_1', technology='PYTHON', log_path=None, input_parameters='{\\n  \"path\": {\\n    \"dtype\": \"Any\",\\n    \"required\": \"false\",\\n    \"series\": false,\\n    \"adapter\": \"eJxrYJmqxgABPYJFiVX5RXppOfnlern5Kak5xVN6ePLy8wviE1MSC0pSi6ZMnqIHAF/+ELQ=\",\\n    \"validator\": \"eJxrYJmqwQABPYJFiVX5RXppOfnlern5Kak5xVN6+PLy8wviyxJzMlMSS/KLpkyeogcAg2wRnQ==\",\\n    \"source_id\": null,\\n    \"source_name\": null,\\n    \"inferred_type\": \"STATIC\",\\n    \"value\": \"eJxrYJkqxwABPVK+pm75RanJicUlmXnp+iVFiZl58SlpesnFZVP0ANu4DIc=\"\\n  }\\n}', output_parameters=None, status='READY_TO_GO', created_at='2020-10-04T08:52:24.125+00:00', queued_at='2020-10-04T08:52:25.000+00:00', start_time=None, end_time=None, compute_time=0, wait_time=0, run_time=0, block_run_output_list=[BlockRunOutputList(output_id='a9c456ab-04ea-4ecb-8403-527b6a39b19f', output_name='grid_df_path', created_on='2020-10-04T08:52:24.328+00:00', output_status='YET_TO_START', block_transport='FILE')], resource_allocated=ResourceAllocated(cores=2, memory=10192, use_gpu=False, gpu=0, use_gpu_if_available=False, cluster_configuration={'worker': None, 'workerCore': None, 'workerMemory': None, 'numberOfInstances': None, 'maxServerCount': None}, additional_env={}, run_env='PYTHON')), BlockRunDetail(block_id='8fdb4b7c-a5ec-4c6d-9208-67afde20d8c3', block_run_id='9177bac4-d5ee-4c97-98aa-4333a742d9d8', block_name='HeavyOp4_1', technology='PYTHON', log_path=None, input_parameters=None, output_parameters=None, status='YET_TO_START', created_at='2020-10-04T08:52:24.339+00:00', queued_at=None, start_time=None, end_time=None, compute_time=0, wait_time=0, run_time=0, block_run_output_list=[], resource_allocated=ResourceAllocated(cores=2, memory=20000, use_gpu=False, gpu=0, use_gpu_if_available=False, cluster_configuration={'worker': None, 'workerCore': None, 'workerMemory': None, 'numberOfInstances': None, 'maxServerCount': None}, additional_env={}, run_env='PYTHON')), BlockRunDetail(block_id='c5797e32-4f1a-4971-a64c-5e6c6b84c83d', block_run_id='96c750ed-6f71-43d6-8397-308f9d73858a', block_name='HeavyOp1_1', technology='PYTHON', log_path=None, input_parameters=None, output_parameters=None, status='YET_TO_START', created_at='2020-10-04T08:52:24.420+00:00', queued_at=None, start_time=None, end_time=None, compute_time=0, wait_time=0, run_time=0, block_run_output_list=[BlockRunOutputList(output_id='1c632eb7-9663-4b94-aece-1328308d10ec', output_name='add_grid_path', created_on='2020-10-04T08:52:24.498+00:00', output_status='YET_TO_START', block_transport='FILE')], resource_allocated=ResourceAllocated(cores=2, memory=8192, use_gpu=False, gpu=0, use_gpu_if_available=False, cluster_configuration={'worker': None, 'workerCore': None, 'workerMemory': None, 'numberOfInstances': None, 'maxServerCount': None}, additional_env={}, run_env='PYTHON')), BlockRunDetail(block_id='28ef8589-7914-4738-9bfa-0b94572cfd9c', block_run_id='0b9bc59e-2c64-4024-9eab-bc331f8c60e7', block_name='HeavyOp2_1', technology='PYTHON', log_path=None, input_parameters=None, output_parameters=None, status='YET_TO_START', created_at='2020-10-04T08:52:24.511+00:00', queued_at=None, start_time=None, end_time=None, compute_time=0, wait_time=0, run_time=0, block_run_output_list=[BlockRunOutputList(output_id='1e1e3d94-0650-467b-9667-e86919c50e10', output_name='grid_df_int_path', created_on='2020-10-04T08:52:24.647+00:00', output_status='YET_TO_START', block_transport='FILE')], resource_allocated=ResourceAllocated(cores=2, memory=13000, use_gpu=False, gpu=0, use_gpu_if_available=False, cluster_configuration={'worker': None, 'workerCore': None, 'workerMemory': None, 'numberOfInstances': None, 'maxServerCount': None}, additional_env={}, run_env='PYTHON')), BlockRunDetail(block_id='6dd8313e-dd14-448e-aab6-0aff900b50b0', block_run_id='a006d1b3-1093-49ac-9b83-77761a57987c', block_name='HeavyOp3_1', technology='PYTHON', log_path=None, input_parameters=None, output_parameters=None, status='YET_TO_START', created_at='2020-10-04T08:52:24.655+00:00', queued_at=None, start_time=None, end_time=None, compute_time=0, wait_time=0, run_time=0, block_run_output_list=[BlockRunOutputList(output_id='c9b39e15-6040-4070-b7f5-cfe4ff262029', output_name='grid_pkl_path', created_on='2020-10-04T08:52:24.739+00:00', output_status='YET_TO_START', block_transport='FILE')], resource_allocated=ResourceAllocated(cores=2, memory=20000, use_gpu=False, gpu=0, use_gpu_if_available=False, cluster_configuration={'worker': None, 'workerCore': None, 'workerMemory': None, 'numberOfInstances': None, 'maxServerCount': None}, additional_env={}, run_env='PYTHON')), BlockRunDetail(block_id='38a27c2e-c569-47d6-ab84-5d013a8f37eb', block_run_id='2783e8dc-815b-40a8-b1e4-2fb31c251cd0', block_name='HeavyOp5_1', technology='PYTHON', log_path=None, input_parameters=None, output_parameters=None, status='YET_TO_START', created_at='2020-10-04T08:52:24.746+00:00', queued_at=None, start_time=None, end_time=None, compute_time=0, wait_time=0, run_time=0, block_run_output_list=[], resource_allocated=ResourceAllocated(cores=2, memory=20000, use_gpu=False, gpu=0, use_gpu_if_available=False, cluster_configuration={'worker': None, 'workerCore': None, 'workerMemory': None, 'numberOfInstances': None, 'maxServerCount': None}, additional_env={}, run_env='PYTHON'))], pipeline_json='{\\n  \"id\": \"ea0b7b00-061e-11eb-a699-0242ac110004\",\\n  \"projectId\": \"c0b26d85-a4c9-44f5-9d0e-f540dd2de644\",\\n  \"name\": \"heavy_op5\",\\n  \"description\": \"\",\\n  \"blocks\": [\\n    {\\n      \"name\": \"HeavyOp4_1\",\\n      \"id\": \"8fdb4b7c-a5ec-4c6d-9208-67afde20d8c3\",\\n      \"artifact_id\": null,\\n      \"class_name\": \"HeavyOp4\",\\n      \"code\": \"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\",\\n      \"isPublishedBlock\": false,\\n      \"source\": null,\\n      \"inputProperty\": {\\n        \"grid_path\": {\\n          \"dtype\": \"Any\",\\n          \"required\": \"false\",\\n          \"series\": false,\\n          \"adapter\": \"eJxrYJmqxgABPYJFiVX5RXppOfnlern5Kak5xVN6ePLy8wviE1MSC0pSi6ZMnqIHAF/+ELQ=\",\\n          \"validator\": \"eJxrYJmqwQABPYJFiVX5RXppOfnlern5Kak5xVN6+PLy8wviyxJzMlMSS/KLpkyeogcAg2wRnQ==\",\\n          \"source_id\": null,\\n          \"source_name\": null,\\n          \"inferred_type\": \"STATIC\",\\n          \"value\": \"eJxrYJmqxwABPVq+pm75RanJicUlmXnp+rmmusWZuQU5qbppqfrpRZkp8QWJRSXxhnoF2TlT9ADQohIn\"\\n        },\\n        \"config\": {\\n          \"dtype\": \"Any\",\\n          \"required\": \"false\",\\n          \"series\": false,\\n          \"adapter\": \"eJxrYJmqxgABPYJFiVX5RXppOfnlern5Kak5xVN6ePLy8wviE1MSC0pSi6ZMnqIHAF/+ELQ=\",\\n          \"validator\": \"eJxrYJmqwQABPYJFiVX5RXppOfnlern5Kak5xVN6+PLy8wviyxJzMlMSS/KLpkyeogcAg2wRnQ==\",\\n          \"source_id\": \"c3419326-2ca8-47a0-9510-02820270eb0e\",\\n          \"source_name\": \"config\",\\n          \"inferred_type\": \"BLOCK\",\\n          \"value\": null\\n        }\\n      },\\n      \"outputProperty\": {},\\n      \"resourceRequirement\": {\\n        \"cores\": 2,\\n        \"memory\": 20000,\\n        \"useGpu\": false,\\n        \"gpu\": 0,\\n        \"useGpuIfAvailable\": false,\\n        \"clusterConfiguration\": {\\n          \"worker\": null,\\n          \"workerCore\": null,\\n          \"workerMemory\": null,\\n          \"numberOfInstances\": null,\\n          \"maxServerCount\": null\\n        },\\n        \"additionalEnv\": {},\\n        \"runEnv\": \"PYTHON\"\\n      },\\n      \"executionType\": \"BlockExecutor\",\\n      \"dependencies\": [],\\n      \"system_dependencies\": null,\\n      \"meta_data\": null,\\n      \"process_id\": null,\\n      \"eta\": 0\\n    },\\n    {\\n      \"name\": \"Configs_1\",\\n      \"id\": \"c3419326-2ca8-47a0-9510-02820270eb0e\",\\n      \"artifact_id\": null,\\n      \"class_name\": \"Configs\",\\n      \"code\": \"eJyNVV1vFDcUnZn9zIYECBRU2tKqT8tDdoF8V4iKLqGlqwxViET7gFyv7VlPdjKzjD0Ji4LUCgWCZLUPuE9tpSL1P9B/1157ZrML4qGJkrWvvfa9555z/FP5t7szjv1RF0mUZHQYkkHEWlNjrT5EKeMjmmLJkBiwiMkkRiTCQuhXuskddR7t4cH71lS9l4WRDGOhVVmOhgyCqtZJ4iDsC829Ji83eY3XeUVVk94uIxI2HOmnsAkhmhCEtC/UZ3iFXt1YCth1snR1mWyQ9XXSW8XLG2treClYuk60L/U2fKupGgjtJTSLGHxT1WGCw9gMTyOE4ziRWIZJLCACV1SJzUOrGZQMGVSXpHBvn8lQsj2T6EKKnyRpK4iSg1aSyWEmoYzqPTsy61WoKIzhgNKteASB55CE4Bf4x1d+tslUItxjkfZVVbA0ZEK/VGXOoiFEcjD4p6oc4z0YXFAzMsWxGCap1OqDqYtPwnD33J0wYjsn+17p4qKZUKDxFbzpq4pMoHdwzaxgMWUpstt9NZcywsL9SaDxKGMZNC58wnTXUac5FiiMQxniCEJUv8x6qmFSRYQzMtDHMC+lWayh6fMoCKMIBVlMDKgFFU5PqGCXIAzROVTwAI1JUO8klO2YyRGg1uy6XafrdWe6nc4ydalHS7TcN/8rtEprtE5n+lXaoLP0FJ37o/bUPXR2nb/cQ/e16zrUue9oU7XAESCwNaopL6RaufBXM71EZlajbCjtqEpwPqgLaDkbDw27zbC5tXIHwgQLyLfftoci6AIkvw+wUEuhFhH7Wn3yzlYGeAzTkDCRr196e53AUTHFqV1squrOre2vN3eAf5v+bbSzfeuur1VjCz7QXf/25vfQ7xC69xiRJMr2jIQaeRpDLLlWs/lNxWxufHg+l/ALpCoZpj4H7UFqAfCUAitgevlGOBxJnsSLYQw7FpcWry4FmKxtrK8FOLip+Wq30llwSp7reZ5b9uZdGLl1T1+5YoT27b/wY3g3i+A2MsB9Izff6M2wGcb8XPaiUGStHyU9HAmjuDplAc4ioDIoAHKRJjgPXiMy6AOgmzGzVM0lDKfwJl+FrBPD5YtoypSQyHr5LqEfAhZT4rYXPcpwZJWlZgu3aRnaqsbgYJJDJrdB+8iq1BYwj9CE7BA5NjvOTomxFyVkAI2ofGUGVvJPNZ8zHhWwNbLaW1+hpHdtOSAEb6ysr/ZWrmGIrq2uXTvxKL7AM3UGIXsWsg0oDOnsOFiYjY2Cn3wu1MJ4CWS+b9tuvwG2lpsYytHTPmyvqPowNY4mR1aU603+Bf8yl5jbrXTPdRakc+hQ99j53aHen6VnHgjIV54xytr4pBe5F2IpU5Aof3Ck1XKbJ3usvZvsj3DcPkjSQbtVoLkYhT3Rtki1DVLtHKnWcAR6g2MkS3X3dcdzXM2bR9rSqOsaNJBqTADW/EcAB3gE1mJ59MuYR5wCFIHP+/ARPgRUMN/lGfDjVz7weQSRGFaG6nLuP2MAWjcgD2DfzVaRBE9N208w8aztlAGTM8dgKsfOofusVFiKD3nyB6qS4/EckjFGnpfyd1GKjaAghuW8Jo/r92fchM5k6lzRW7QH0KLitFeaFcX8/T+LEdPF+JZZBjVj3Qa1d6u737kkjV06xi5h5B1Cna+9SZ18n78Bk4ZnQcjxKS+g6bwJblG/IWQK/gW+8KbrdcqO13DfdoLpivf5gYCy4UxbuM93fSjszXRhTaBoCc6EwgVU+RFJmTHfIJ4UOKnFlqhOIcQeM5KBYRuWnp/S5DgOsjwLWpfgkCzdLIKTN7JiGQk0rxCwZAGdAp9he0k60lv/zKpSf5jZJxA+ETynydCYCY7gzS6xGLy8+t0PO9/c8zW8gBeQlb/JEZ6NmIBhJFksgdCQaus/hYSKxg==\",\\n      \"isPublishedBlock\": false,\\n      \"source\": null,\\n      \"inputProperty\": {},\\n      \"outputProperty\": {\\n        \"config\": {\\n          \"series\": false,\\n          \"adapter\": \"eJxrYJmqxgABPYJFiVX5RXppOfnlern5Kak5xVN6ePLy8wviE1MSC0pSi6ZMnqIHAF/+ELQ=\",\\n          \"transport\": \"FILE\"\\n        }\\n      },\\n      \"resourceRequirement\": {\\n        \"cores\": 2,\\n        \"memory\": 3000,\\n        \"useGpu\": false,\\n        \"gpu\": 0,\\n        \"useGpuIfAvailable\": false,\\n        \"clusterConfiguration\": {\\n          \"worker\": null,\\n          \"workerCore\": null,\\n          \"workerMemory\": null,\\n          \"numberOfInstances\": null,\\n          \"maxServerCount\": null\\n        },\\n        \"additionalEnv\": {},\\n        \"runEnv\": \"PYTHON\"\\n      },\\n      \"executionType\": \"BlockExecutor\",\\n      \"dependencies\": [],\\n      \"system_dependencies\": null,\\n      \"meta_data\": null,\\n      \"process_id\": null,\\n      \"eta\": 0\\n    },\\n    {\\n      \"name\": \"HeavyOp5_1\",\\n      \"id\": \"38a27c2e-c569-47d6-ab84-5d013a8f37eb\",\\n      \"artifact_id\": null,\\n      \"class_name\": \"HeavyOp5\",\\n      \"code\": \"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\",\\n      \"isPublishedBlock\": false,\\n      \"source\": null,\\n      \"inputProperty\": {\\n        \"grid_path\": {\\n          \"dtype\": \"Any\",\\n          \"required\": \"false\",\\n          \"series\": false,\\n          \"adapter\": \"eJxrYJmqxgABPYJFiVX5RXppOfnlern5Kak5xVN6ePLy8wviE1MSC0pSi6ZMnqIHAF/+ELQ=\",\\n          \"validator\": \"eJxrYJmqwQABPYJFiVX5RXppOfnlern5Kak5xVN6+PLy8wviyxJzMlMSS/KLpkyeogcAg2wRnQ==\",\\n          \"source_id\": \"6dd8313e-dd14-448e-aab6-0aff900b50b0\",\\n          \"source_name\": \"grid_pkl_path\",\\n          \"inferred_type\": \"BLOCK\",\\n          \"value\": null\\n        },\\n        \"config\": {\\n          \"dtype\": \"Any\",\\n          \"required\": \"false\",\\n          \"series\": false,\\n          \"adapter\": \"eJxrYJmqxgABPYJFiVX5RXppOfnlern5Kak5xVN6ePLy8wviE1MSC0pSi6ZMnqIHAF/+ELQ=\",\\n          \"validator\": \"eJxrYJmqwQABPYJFiVX5RXppOfnlern5Kak5xVN6+PLy8wviyxJzMlMSS/KLpkyeogcAg2wRnQ==\",\\n          \"source_id\": \"c3419326-2ca8-47a0-9510-02820270eb0e\",\\n          \"source_name\": \"config\",\\n          \"inferred_type\": \"BLOCK\",\\n          \"value\": null\\n        }\\n      },\\n      \"outputProperty\": {},\\n      \"resourceRequirement\": {\\n        \"cores\": 2,\\n        \"memory\": 20000,\\n        \"useGpu\": false,\\n        \"gpu\": 0,\\n        \"useGpuIfAvailable\": false,\\n        \"clusterConfiguration\": {\\n          \"worker\": null,\\n          \"workerCore\": null,\\n          \"workerMemory\": null,\\n          \"numberOfInstances\": null,\\n          \"maxServerCount\": null\\n        },\\n        \"additionalEnv\": {},\\n        \"runEnv\": \"PYTHON\"\\n      },\\n      \"executionType\": \"BlockExecutor\",\\n      \"dependencies\": [],\\n      \"system_dependencies\": null,\\n      \"meta_data\": null,\\n      \"process_id\": null,\\n      \"eta\": 0\\n    },\\n    {\\n      \"name\": \"HeavyOp3_1\",\\n      \"id\": \"6dd8313e-dd14-448e-aab6-0aff900b50b0\",\\n      \"artifact_id\": null,\\n      \"class_name\": \"HeavyOp3\",\\n      \"code\": \"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\",\\n      \"isPublishedBlock\": false,\\n      \"source\": null,\\n      \"inputProperty\": {\\n        \"grid_df_path\": {\\n          \"dtype\": \"Any\",\\n          \"required\": \"false\",\\n          \"series\": false,\\n          \"adapter\": \"eJxrYJmqxgABPYJFiVX5RXppOfnlern5Kak5xVN6ePLy8wviE1MSC0pSi6ZMnqIHAF/+ELQ=\",\\n          \"validator\": \"eJxrYJmqwQABPYJFiVX5RXppOfnlern5Kak5xVN6+PLy8wviyxJzMlMSS/KLpkyeogcAg2wRnQ==\",\\n          \"source_id\": \"28ef8589-7914-4738-9bfa-0b94572cfd9c\",\\n          \"source_name\": \"grid_df_int_path\",\\n          \"inferred_type\": \"BLOCK\",\\n          \"value\": null\\n        },\\n        \"config\": {\\n          \"dtype\": \"Any\",\\n          \"required\": \"false\",\\n          \"series\": false,\\n          \"adapter\": \"eJxrYJmqxgABPYJFiVX5RXppOfnlern5Kak5xVN6ePLy8wviE1MSC0pSi6ZMnqIHAF/+ELQ=\",\\n          \"validator\": \"eJxrYJmqwQABPYJFiVX5RXppOfnlern5Kak5xVN6+PLy8wviyxJzMlMSS/KLpkyeogcAg2wRnQ==\",\\n          \"source_id\": \"c3419326-2ca8-47a0-9510-02820270eb0e\",\\n          \"source_name\": \"config\",\\n          \"inferred_type\": \"BLOCK\",\\n          \"value\": null\\n        }\\n      },\\n      \"outputProperty\": {\\n        \"grid_pkl_path\": {\\n          \"series\": false,\\n          \"adapter\": \"eJxrYJmqxgABPYJFiVX5RXppOfnlern5Kak5xVN6ePLy8wviE1MSC0pSi6ZMnqIHAF/+ELQ=\",\\n          \"transport\": \"FILE\"\\n        }\\n      },\\n      \"resourceRequirement\": {\\n        \"cores\": 2,\\n        \"memory\": 20000,\\n        \"useGpu\": false,\\n        \"gpu\": 0,\\n        \"useGpuIfAvailable\": false,\\n        \"clusterConfiguration\": {\\n          \"worker\": null,\\n          \"workerCore\": null,\\n          \"workerMemory\": null,\\n          \"numberOfInstances\": null,\\n          \"maxServerCount\": null\\n        },\\n        \"additionalEnv\": {},\\n        \"runEnv\": \"PYTHON\"\\n      },\\n      \"executionType\": \"BlockExecutor\",\\n      \"dependencies\": [],\\n      \"system_dependencies\": null,\\n      \"meta_data\": null,\\n      \"process_id\": null,\\n      \"eta\": 0\\n    },\\n    {\\n      \"name\": \"HeavyOp2_1\",\\n      \"id\": \"28ef8589-7914-4738-9bfa-0b94572cfd9c\",\\n      \"artifact_id\": null,\\n      \"class_name\": \"HeavyOp2\",\\n      \"code\": \"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\",\\n      \"isPublishedBlock\": false,\\n      \"source\": null,\\n      \"inputProperty\": {\\n        \"grid_df_path\": {\\n          \"dtype\": \"Any\",\\n          \"required\": \"false\",\\n          \"series\": false,\\n          \"adapter\": \"eJxrYJmqxgABPYJFiVX5RXppOfnlern5Kak5xVN6ePLy8wviE1MSC0pSi6ZMnqIHAF/+ELQ=\",\\n          \"validator\": \"eJxrYJmqwQABPYJFiVX5RXppOfnlern5Kak5xVN6+PLy8wviyxJzMlMSS/KLpkyeogcAg2wRnQ==\",\\n          \"source_id\": \"eb9ec22d-7b15-485a-9783-2c2c877d448d\",\\n          \"source_name\": \"grid_df_path\",\\n          \"inferred_type\": \"BLOCK\",\\n          \"value\": null\\n        },\\n        \"add_grid_path\": {\\n          \"dtype\": \"Any\",\\n          \"required\": \"false\",\\n          \"series\": false,\\n          \"adapter\": \"eJxrYJmqxgABPYJFiVX5RXppOfnlern5Kak5xVN6ePLy8wviE1MSC0pSi6ZMnqIHAF/+ELQ=\",\\n          \"validator\": \"eJxrYJmqwQABPYJFiVX5RXppOfnlern5Kak5xVN6+PLy8wviyxJzMlMSS/KLpkyeogcAg2wRnQ==\",\\n          \"source_id\": \"c5797e32-4f1a-4971-a64c-5e6c6b84c83d\",\\n          \"source_name\": \"add_grid_path\",\\n          \"inferred_type\": \"BLOCK\",\\n          \"value\": null\\n        },\\n        \"config\": {\\n          \"dtype\": \"Any\",\\n          \"required\": \"false\",\\n          \"series\": false,\\n          \"adapter\": \"eJxrYJmqxgABPYJFiVX5RXppOfnlern5Kak5xVN6ePLy8wviE1MSC0pSi6ZMnqIHAF/+ELQ=\",\\n          \"validator\": \"eJxrYJmqwQABPYJFiVX5RXppOfnlern5Kak5xVN6+PLy8wviyxJzMlMSS/KLpkyeogcAg2wRnQ==\",\\n          \"source_id\": \"c3419326-2ca8-47a0-9510-02820270eb0e\",\\n          \"source_name\": \"config\",\\n          \"inferred_type\": \"BLOCK\",\\n          \"value\": null\\n        }\\n      },\\n      \"outputProperty\": {\\n        \"grid_df_int_path\": {\\n          \"series\": false,\\n          \"adapter\": \"eJxrYJmqxgABPYJFiVX5RXppOfnlern5Kak5xVN6ePLy8wviE1MSC0pSi6ZMnqIHAF/+ELQ=\",\\n          \"transport\": \"FILE\"\\n        }\\n      },\\n      \"resourceRequirement\": {\\n        \"cores\": 2,\\n        \"memory\": 13000,\\n        \"useGpu\": false,\\n        \"gpu\": 0,\\n        \"useGpuIfAvailable\": false,\\n        \"clusterConfiguration\": {\\n          \"worker\": null,\\n          \"workerCore\": null,\\n          \"workerMemory\": null,\\n          \"numberOfInstances\": null,\\n          \"maxServerCount\": null\\n        },\\n        \"additionalEnv\": {},\\n        \"runEnv\": \"PYTHON\"\\n      },\\n      \"executionType\": \"BlockExecutor\",\\n      \"dependencies\": [],\\n      \"system_dependencies\": null,\\n      \"meta_data\": null,\\n      \"process_id\": null,\\n      \"eta\": 0\\n    },\\n    {\\n      \"name\": \"Melter_1\",\\n      \"id\": \"eb9ec22d-7b15-485a-9783-2c2c877d448d\",\\n      \"artifact_id\": null,\\n      \"class_name\": \"Melter\",\\n      \"code\": \"eJyNVltv3MYZJblXSZYvcuLAKhAYLdqsgHrlyLpYqBE03VzaLrQJbAFF4AaDWc7sDiUuSZND2etKaANZtgxM0AdPn4oCFtCX9qF5z0te8t7+C/+M9syQ690UbpEVIA7nm8t3Oed8/EP1T50Fx/7UW34Y5ywJ/P2Qt2fGWl0lKRdjllLJSbbPQy7jiPghzTL9XLeEo94gI7r/Optq9vMglEGUaVWV44RjUtV3eCh5qoXXEtWWaIimqKl63N/jvoT9RB9p1SCExT4hupepa/TGxhrnNzeYv7mxvu2vbfc531qjPr956wbndE33pL6DXS01T8goZnnIsVM18UKDyAwvEEKjKJZUBnGUYcYsriZUCrgDv4JoqFXl/Whs/Ds3TANG2IAU9jkSJxyxxyncGnIZSD4yy5ZS+ihO24MwftCOc5nkEkHWP7Ej2MXVJ3AqF8vi2soX9r5aSPs81D1Vz3ga8Ew/U1XBwwQzRW7EVVWN6AiDZTUnUxplSZxKrd6cuenVNC5b/CgI+e6rdc91edFckJHJFWKlp2oyRilxzULGI8ZTYpf31GLKfR4cTCfm7+c8Rx2DR1x3HXVB0IwEUSADGmKK6Wd5X80bV4kvuL+vT/FeSfNIAwPnySAIQzLII98kuUTGhSkyrMkkxlGLpIQFmWCi2YkZ3zUvJ8haq+t2nW61W+92Or+VzgtXeofOXuXYPXOPXFll7rHrOsxjFVZlNVZnjWH9yJPOXu3QPfRYU9bZ3JfVo8phZa8hPTZ/7LIFdu5Lz3VwSvPFHJs/M/udu45uISmdlAPZ1z5G1bXyzL+GqTGxI8YTaUd1nxaDZgYo8MnQcMIMXbuNkQOaojJNPIgtpZo/oCFyal+egks7Gx9hu08zhD9cLaHW9rMDwKEWoDwPkQKJKnqJuQG+MWKsailJY0MRkiWAfgFOcUXVkjSIAJLqCKyCm7vv3/n4w10D69juA5YqBpHmyGrGwwEOBYiQe4bhor2R+HGYjwxJPUzilLdvB8lYiji6HkTYfH3r+o3N7S22dusmXWdb72mx1a13lhzvottsXHTrroe/prfk6pUVQ8Vf/xs/g8QFAj/9fTo0hOwZRpo8YCwu509LzjaGYdynYWZexK76YQF2mgRtH4lqMyopyeI8RcwjGuEo8PCnn4ZUDuJ09AGsd61xp7C1X5MlYO43qpbREIQQd4C/uSzvB6OSNKqe0IjRzCIvV03GBzQPwS/QkgWQJMjReehhlqPqtpjGVC90BoGIFbGlKlArzL5FZoST4JZiVaY/12phRoHMmc37OQ1LjBSK2DZUUvP7D6Yu5PIOBIhY5bApPE/IlICYOTUrLs0IRD+M/X1UsvYLM0B8T3CZWDQ62ueMrg38PuP+5vq7N27RbXpz491+/xYfrK+vbdJXOiqWxGN1kRB7FrEQKEQTeJu9C9FxFE7N/cos2eGSTkWoUQahxR9R9w/KF5Tixz3xk2finR7ydkW0oHlzSGrArMBi7fkojhMyncKOzVPDg/t5kEKDoDmZujTxrRTewrll8aNMLU1MUMCDwOeFDZJjsUCKCuoe7q6pJsACbZdjq1bbLfEz8fNCe9xurXu5syShGMw9df4MtflL5diDYvSUZzpKY3LS06IrUClTIEjcO9FqfVXEI766Fx+MabT6IE73V9tlNq6HQT9btSlcNSlcLcrVTsbAIY4xfbF71vEcV4uVE23Z1HVNSbian2ZeiwEqBDpBcy2d/jahk9hDIvKeOMDj4ecoGBVj8Ri5/rt41BO/w8wRLL9XbxfCPElA+zb8AAnfa5dOiC8M9l7lxENOPCjy5c7FU/fQOXUO3eNKqaE9+CnuqVqRjydwxnS4IpS/lqHYGTKIYC5i8sRXr/e4hco8RhUt6siIG/YXhz3XvIzlm+8ZSzYbS8+iW71JyGx/nwJiWZyVGPhH1/1f3onl1+dTfD2bsG//X3jLCO9yCdzvFZ/453cCQNVNTzZVn1bH7VZQnbuda4folMSR7gs8TZfDqHKIap1502qZFJ+Il5YTcSYnx4Gq9wwpgejm7UyirQyh9C+7XqfuQOPn/0vdZ+M7EU8yBAn82zB7Ymzo/XImjBbea6qCYw2jr4irOQr3A9+2XuBiWrNpdDZodY4Q/pD7ObTA8O6NGfmZzEOBLnXiSKKp8fTDcnKqRDXLMRC3ZhpKBuxBvfkoTsd651/vqMowye3XDp4EX05xYiSahujHFR6h8dY//Wz3l5/0ND52rhCrqsZHtP4IDcaPc3TfrgtX2/8BdltVWw==\",\\n      \"isPublishedBlock\": false,\\n      \"source\": null,\\n      \"inputProperty\": {\\n        \"path\": {\\n          \"dtype\": \"Any\",\\n          \"required\": \"false\",\\n          \"series\": false,\\n          \"adapter\": \"eJxrYJmqxgABPYJFiVX5RXppOfnlern5Kak5xVN6ePLy8wviE1MSC0pSi6ZMnqIHAF/+ELQ=\",\\n          \"validator\": \"eJxrYJmqwQABPYJFiVX5RXppOfnlern5Kak5xVN6+PLy8wviyxJzMlMSS/KLpkyeogcAg2wRnQ==\",\\n          \"source_id\": null,\\n          \"source_name\": null,\\n          \"inferred_type\": \"STATIC\",\\n          \"value\": \"eJxrYJkqxwABPVK+pm75RanJicUlmXnp+iVFiZl58SlpesnFZVP0ANu4DIc=\"\\n        }\\n      },\\n      \"outputProperty\": {\\n        \"grid_df_path\": {\\n          \"series\": false,\\n          \"adapter\": \"eJxrYJmqxgABPYJFiVX5RXppOfnlern5Kak5xVN6ePLy8wviE1MSC0pSi6ZMnqIHAF/+ELQ=\",\\n          \"transport\": \"FILE\"\\n        }\\n      },\\n      \"resourceRequirement\": {\\n        \"cores\": 2,\\n        \"memory\": 10192,\\n        \"useGpu\": false,\\n        \"gpu\": 0,\\n        \"useGpuIfAvailable\": false,\\n        \"clusterConfiguration\": {\\n          \"worker\": null,\\n          \"workerCore\": null,\\n          \"workerMemory\": null,\\n          \"numberOfInstances\": null,\\n          \"maxServerCount\": null\\n        },\\n        \"additionalEnv\": {},\\n        \"runEnv\": \"PYTHON\"\\n      },\\n      \"executionType\": \"BlockExecutor\",\\n      \"dependencies\": [],\\n      \"system_dependencies\": null,\\n      \"meta_data\": null,\\n      \"process_id\": null,\\n      \"eta\": 0\\n    },\\n    {\\n      \"name\": \"HeavyOp1_1\",\\n      \"id\": \"c5797e32-4f1a-4971-a64c-5e6c6b84c83d\",\\n      \"artifact_id\": null,\\n      \"class_name\": \"HeavyOp1\",\\n      \"code\": \"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\",\\n      \"isPublishedBlock\": false,\\n      \"source\": null,\\n      \"inputProperty\": {\\n        \"path\": {\\n          \"dtype\": \"Any\",\\n          \"required\": \"false\",\\n          \"series\": false,\\n          \"adapter\": \"eJxrYJmqxgABPYJFiVX5RXppOfnlern5Kak5xVN6ePLy8wviE1MSC0pSi6ZMnqIHAF/+ELQ=\",\\n          \"validator\": \"eJxrYJmqwQABPYJFiVX5RXppOfnlern5Kak5xVN6+PLy8wviyxJzMlMSS/KLpkyeogcAg2wRnQ==\",\\n          \"source_id\": null,\\n          \"source_name\": null,\\n          \"inferred_type\": \"STATIC\",\\n          \"value\": \"eJxrYJkqxwABPVK+pm75RanJicUlmXnp+iVFiZl58SlpesnFZVP0ANu4DIc=\"\\n        },\\n        \"config\": {\\n          \"dtype\": \"Any\",\\n          \"required\": \"false\",\\n          \"series\": false,\\n          \"adapter\": \"eJxrYJmqxgABPYJFiVX5RXppOfnlern5Kak5xVN6ePLy8wviE1MSC0pSi6ZMnqIHAF/+ELQ=\",\\n          \"validator\": \"eJxrYJmqwQABPYJFiVX5RXppOfnlern5Kak5xVN6+PLy8wviyxJzMlMSS/KLpkyeogcAg2wRnQ==\",\\n          \"source_id\": \"c3419326-2ca8-47a0-9510-02820270eb0e\",\\n          \"source_name\": \"config\",\\n          \"inferred_type\": \"BLOCK\",\\n          \"value\": null\\n        }\\n      },\\n      \"outputProperty\": {\\n        \"add_grid_path\": {\\n          \"series\": false,\\n          \"adapter\": \"eJxrYJmqxgABPYJFiVX5RXppOfnlern5Kak5xVN6ePLy8wviE1MSC0pSi6ZMnqIHAF/+ELQ=\",\\n          \"transport\": \"FILE\"\\n        }\\n      },\\n      \"resourceRequirement\": {\\n        \"cores\": 2,\\n        \"memory\": 8192,\\n        \"useGpu\": false,\\n        \"gpu\": 0,\\n        \"useGpuIfAvailable\": false,\\n        \"clusterConfiguration\": {\\n          \"worker\": null,\\n          \"workerCore\": null,\\n          \"workerMemory\": null,\\n          \"numberOfInstances\": null,\\n          \"maxServerCount\": null\\n        },\\n        \"additionalEnv\": {},\\n        \"runEnv\": \"PYTHON\"\\n      },\\n      \"executionType\": \"BlockExecutor\",\\n      \"dependencies\": [],\\n      \"system_dependencies\": null,\\n      \"meta_data\": null,\\n      \"process_id\": null,\\n      \"eta\": 0\\n    }\\n  ],\\n  \"connections\": [\\n    {\\n      \"source_block_id\": \"c3419326-2ca8-47a0-9510-02820270eb0e\",\\n      \"target_block_id\": \"38a27c2e-c569-47d6-ab84-5d013a8f37eb\",\\n      \"source_output\": \"config\",\\n      \"target_input\": \"config\"\\n    },\\n    {\\n      \"source_block_id\": \"c3419326-2ca8-47a0-9510-02820270eb0e\",\\n      \"target_block_id\": \"8fdb4b7c-a5ec-4c6d-9208-67afde20d8c3\",\\n      \"source_output\": \"config\",\\n      \"target_input\": \"config\"\\n    },\\n    {\\n      \"source_block_id\": \"eb9ec22d-7b15-485a-9783-2c2c877d448d\",\\n      \"target_block_id\": \"28ef8589-7914-4738-9bfa-0b94572cfd9c\",\\n      \"source_output\": \"grid_df_path\",\\n      \"target_input\": \"grid_df_path\"\\n    },\\n    {\\n      \"source_block_id\": \"c3419326-2ca8-47a0-9510-02820270eb0e\",\\n      \"target_block_id\": \"c5797e32-4f1a-4971-a64c-5e6c6b84c83d\",\\n      \"source_output\": \"config\",\\n      \"target_input\": \"config\"\\n    },\\n    {\\n      \"source_block_id\": \"6dd8313e-dd14-448e-aab6-0aff900b50b0\",\\n      \"target_block_id\": \"38a27c2e-c569-47d6-ab84-5d013a8f37eb\",\\n      \"source_output\": \"grid_pkl_path\",\\n      \"target_input\": \"grid_path\"\\n    },\\n    {\\n      \"source_block_id\": \"28ef8589-7914-4738-9bfa-0b94572cfd9c\",\\n      \"target_block_id\": \"6dd8313e-dd14-448e-aab6-0aff900b50b0\",\\n      \"source_output\": \"grid_df_int_path\",\\n      \"target_input\": \"grid_df_path\"\\n    },\\n    {\\n      \"source_block_id\": \"c3419326-2ca8-47a0-9510-02820270eb0e\",\\n      \"target_block_id\": \"6dd8313e-dd14-448e-aab6-0aff900b50b0\",\\n      \"source_output\": \"config\",\\n      \"target_input\": \"config\"\\n    },\\n    {\\n      \"source_block_id\": \"c3419326-2ca8-47a0-9510-02820270eb0e\",\\n      \"target_block_id\": \"28ef8589-7914-4738-9bfa-0b94572cfd9c\",\\n      \"source_output\": \"config\",\\n      \"target_input\": \"config\"\\n    },\\n    {\\n      \"source_block_id\": \"c5797e32-4f1a-4971-a64c-5e6c6b84c83d\",\\n      \"target_block_id\": \"28ef8589-7914-4738-9bfa-0b94572cfd9c\",\\n      \"source_output\": \"add_grid_path\",\\n      \"target_input\": \"add_grid_path\"\\n    }\\n  ],\\n  \"priority\": \"LOW\",\\n  \"infraResourceEstimation\": null,\\n  \"resourceRequirement\": {\\n    \"cores\": null,\\n    \"memory\": null,\\n    \"useGpu\": null,\\n    \"gpu\": null,\\n    \"useGpuIfAvailable\": null,\\n    \"clusterConfiguration\": null,\\n    \"additionalEnv\": {},\\n    \"runEnv\": null\\n  },\\n  \"comments\": null,\\n  \"order\": null,\\n  \"uiData\": null,\\n  \"dom\": null,\\n  \"systemGenerated\": false,\\n  \"systemModel\": false,\\n  \"pipelineVariableList\": [],\\n  \"pipelineTemplateVersion\": 0.0,\\n  \"versionId\": null,\\n  \"engineId\": \"65ed2499-f8c9-4c4d-ad27-aa689bd1531e\",\\n  \"userId\": \"c4080201-ccc9-4657-a457-7e18c100ff28\",\\n  \"runInitiatedFrom\": \"JUPYTER\",\\n  \"processList\": null,\\n  \"processInfo\": null\\n}', dom='Yet to add', order=None, infra_resource='{\\n  \"zookeeper\": {\\n    \"cores\": 1,\\n    \"memory\": 1024,\\n    \"useGpu\": null,\\n    \"gpu\": null,\\n    \"useGpuIfAvailable\": null,\\n    \"clusterConfiguration\": null,\\n    \"additionalEnv\": {},\\n    \"runEnv\": null\\n  },\\n  \"kafka\": {\\n    \"cores\": 1,\\n    \"memory\": 1024,\\n    \"useGpu\": null,\\n    \"gpu\": null,\\n    \"useGpuIfAvailable\": null,\\n    \"clusterConfiguration\": null,\\n    \"additionalEnv\": {},\\n    \"runEnv\": null\\n  }\\n}', resource_spec=ResourceAllocated(cores=None, memory=None, use_gpu=None, gpu=None, use_gpu_if_available=None, cluster_configuration=None, additional_env={}, run_env=None), engine_id='65ed2499-f8c9-4c4d-ad27-aa689bd1531e', run_initiated_from='JUPYTER')"
      ]
     },
     "execution_count": 30,
     "metadata": {},
     "output_type": "execute_result"
    }
   ],
   "source": [
    "deployed_pipeline"
   ]
  },
  {
   "cell_type": "code",
   "execution_count": null,
   "metadata": {},
   "outputs": [],
   "source": []
  }
 ],
 "metadata": {
  "kernelspec": {
   "display_name": "Python 3",
   "language": "python",
   "name": "python3"
  },
  "language_info": {
   "codemirror_mode": {
    "name": "ipython",
    "version": 3
   },
   "file_extension": ".py",
   "mimetype": "text/x-python",
   "name": "python",
   "nbconvert_exporter": "python",
   "pygments_lexer": "ipython3",
   "version": "3.7.6"
  }
 },
 "nbformat": 4,
 "nbformat_minor": 4
}
