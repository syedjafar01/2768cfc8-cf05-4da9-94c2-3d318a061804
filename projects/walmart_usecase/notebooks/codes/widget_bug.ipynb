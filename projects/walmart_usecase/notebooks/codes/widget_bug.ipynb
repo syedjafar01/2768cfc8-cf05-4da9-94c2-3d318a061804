{
 "cells": [
  {
   "cell_type": "code",
   "execution_count": 1,
   "metadata": {},
   "outputs": [],
   "source": [
    "import numpy as np\n",
    "import pandas as pd\n",
    "import os, sys, gc, time, warnings, pickle, psutil, random\n",
    "\n",
    "from math import ceil\n",
    "\n",
    "from sklearn.preprocessing import LabelEncoder\n",
    "\n",
    "warnings.filterwarnings('ignore')\n"
   ]
  },
  {
   "cell_type": "code",
   "execution_count": 2,
   "metadata": {},
   "outputs": [],
   "source": [
    "from razor import Block, inputs, outputs, Pipeline\n",
    "from razor.api import project_space_path\n",
    "import razor\n",
    "from razor import Technology, LibraryMode\n",
    "from razor.core.blocks import ContainerExecutor\n",
    "from razor.core.blocks.transports import FileTransport\n"
   ]
  },
  {
   "cell_type": "code",
   "execution_count": 3,
   "metadata": {},
   "outputs": [],
   "source": [
    "@outputs.atomic.generic('config')\n",
    "class Configs(Block):\n",
    "    def run(self, config):\n",
    "        \n",
    "        dic = {\n",
    "          \"TARGET\": \"sales\",\n",
    "          \"END_TRAIN\": 1913,\n",
    "          \"MAIN_INDEX\": [\n",
    "            \"id\",\n",
    "            \"d\"\n",
    "          ],\n",
    "          \"train_path\": \"M5Forecasting/sales_train_validation.csv\",\n",
    "          \"prices_df\": \"M5Forecasting/sell_prices.csv\",\n",
    "          \"calendar_path\" : \"M5Forecasting/calendar.csv\"\n",
    "        }\n",
    "        config.put(dic)\n",
    "        "
   ]
  },
  {
   "cell_type": "code",
   "execution_count": 4,
   "metadata": {},
   "outputs": [],
   "source": [
    "configs = (\n",
    "    Configs()\n",
    "    .config(transport=FileTransport)\n",
    ")"
   ]
  },
  {
   "cell_type": "code",
   "execution_count": 5,
   "metadata": {},
   "outputs": [],
   "source": [
    "@inputs.atomic.string('path')\n",
    "@inputs.atomic.generic('config')\n",
    "class HeavyOp1(Block):\n",
    "    def run(self, path, config):\n",
    "        import pandas as pd\n",
    "        import logging\n",
    "        \n",
    "        logging.info(\"Test\")\n",
    "        self.logger.info(\"Reading df\")\n",
    "        train_df=pd.read_csv(path, config)\n",
    "        "
   ]
  },
  {
   "cell_type": "code",
   "execution_count": 6,
   "metadata": {},
   "outputs": [],
   "source": [
    "heavy_op1 = (\n",
    "    HeavyOp1()\n",
    "    .path('M5Forecasting/train_df.csv', adapter=project_space_path)  # (series, string)\n",
    "    .config(configs.config)\n",
    "    .executor(ContainerExecutor(cores=2, memory=8192))\n",
    ")"
   ]
  },
  {
   "cell_type": "code",
   "execution_count": 7,
   "metadata": {},
   "outputs": [],
   "source": [
    "p = Pipeline(\"heavy_op1\", targets=[heavy_op1], env=Technology.PYTHON)  #preprocess\n"
   ]
  },
  {
   "cell_type": "code",
   "execution_count": 8,
   "metadata": {},
   "outputs": [
    {
     "data": {
      "application/vnd.razorthink.interactive+pipeline+view+json": {
       "blocks": [
        {
         "class_name": "Configs",
         "id": "856c20d5-e41b-42d6-a17c-e2da7566e55e",
         "inputs": [],
         "outputs": [
          {
           "doc": null,
           "dtype": "generic",
           "flow": "series",
           "label": null,
           "name": "config"
          }
         ],
         "overwritten": false,
         "var_names": [
          "Configs"
         ]
        },
        {
         "class_name": "HeavyOp1",
         "id": "13ee613f-ddf6-49a3-82e9-5a60cecf4669",
         "inputs": [
          {
           "default": null,
           "doc": null,
           "dtype": "generic",
           "flow": "series",
           "label": null,
           "name": "config",
           "required": false
          },
          {
           "default": "",
           "doc": null,
           "dtype": "string",
           "flow": "series",
           "label": null,
           "name": "path",
           "required": false
          }
         ],
         "outputs": [],
         "overwritten": false,
         "var_names": [
          "HeavyOp1"
         ]
        }
       ],
       "connections": [
        {
         "id": "de3a6221-3d08-47eb-86d8-c4d8e3437def",
         "source": {
          "adapter": false,
          "instance_id": "cfb81d29-4615-4b3e-b2d3-9ad14627601c",
          "name": "config"
         },
         "target": {
          "adapter": false,
          "instance_id": "277add1f-3cd7-4259-a7eb-088732123f0d",
          "name": "config"
         }
        }
       ],
       "id": "c108b40e-2606-4b81-95fb-c0f69e0d2835",
       "instances": [
        {
         "block_class": "13ee613f-ddf6-49a3-82e9-5a60cecf4669",
         "id": "277add1f-3cd7-4259-a7eb-088732123f0d",
         "name": "HeavyOp1_1",
         "var_names": [
          "heavy_op1"
         ]
        },
        {
         "block_class": "856c20d5-e41b-42d6-a17c-e2da7566e55e",
         "id": "cfb81d29-4615-4b3e-b2d3-9ad14627601c",
         "name": "Configs_1",
         "var_names": [
          "configs"
         ]
        }
       ],
       "name": "heavy_op1",
       "var_names": []
      },
      "image/svg+xml": [
       "<?xml version=\"1.0\" encoding=\"UTF-8\" standalone=\"no\"?>\n",
       "<!DOCTYPE svg PUBLIC \"-//W3C//DTD SVG 1.1//EN\"\n",
       " \"http://www.w3.org/Graphics/SVG/1.1/DTD/svg11.dtd\">\n",
       "<!-- Generated by graphviz version 2.40.1 (20161225.0304)\n",
       " -->\n",
       "<!-- Title: %3 Pages: 1 -->\n",
       "<svg width=\"173pt\" height=\"127pt\"\n",
       " viewBox=\"0.00 0.00 172.83 127.00\" xmlns=\"http://www.w3.org/2000/svg\" xmlns:xlink=\"http://www.w3.org/1999/xlink\">\n",
       "<g id=\"graph0\" class=\"graph\" transform=\"scale(1 1) rotate(0) translate(4 123)\">\n",
       "<title>%3</title>\n",
       "<polygon fill=\"#ffffff\" stroke=\"transparent\" points=\"-4,4 -4,-123 168.8256,-123 168.8256,4 -4,4\"/>\n",
       "<!-- (HeavyOp1) HeavyOp1_1 -->\n",
       "<g id=\"node1\" class=\"node\">\n",
       "<title>(HeavyOp1) HeavyOp1_1</title>\n",
       "<ellipse fill=\"none\" stroke=\"#000000\" cx=\"82.4128\" cy=\"-18\" rx=\"82.3257\" ry=\"18\"/>\n",
       "<text text-anchor=\"middle\" x=\"82.4128\" y=\"-15.5\" font-family=\"Helvetica,sans-Serif\" font-size=\"10.00\" fill=\"#000000\">(HeavyOp1) HeavyOp1_1</text>\n",
       "</g>\n",
       "<!-- (Configs) Configs_1 -->\n",
       "<g id=\"node2\" class=\"node\">\n",
       "<title>(Configs) Configs_1</title>\n",
       "<ellipse fill=\"none\" stroke=\"#000000\" cx=\"82.4128\" cy=\"-101\" rx=\"64.5068\" ry=\"18\"/>\n",
       "<text text-anchor=\"middle\" x=\"82.4128\" y=\"-98.5\" font-family=\"Helvetica,sans-Serif\" font-size=\"10.00\" fill=\"#000000\">(Configs) Configs_1</text>\n",
       "</g>\n",
       "<!-- (Configs) Configs_1&#45;&gt;(HeavyOp1) HeavyOp1_1 -->\n",
       "<g id=\"edge1\" class=\"edge\">\n",
       "<title>(Configs) Configs_1&#45;&gt;(HeavyOp1) HeavyOp1_1</title>\n",
       "<path fill=\"none\" stroke=\"#000000\" d=\"M82.4128,-82.9902C82.4128,-72.2963 82.4128,-58.4994 82.4128,-46.3706\"/>\n",
       "<polygon fill=\"#000000\" stroke=\"#000000\" points=\"85.9129,-46.2612 82.4128,-36.2612 78.9129,-46.2613 85.9129,-46.2612\"/>\n",
       "<text text-anchor=\"middle\" x=\"117.9128\" y=\"-57\" font-family=\"Helvetica,sans-Serif\" font-size=\"10.00\" fill=\"#000000\">config&#45;&gt;config</text>\n",
       "</g>\n",
       "</g>\n",
       "</svg>\n"
      ],
      "text/plain": [
       "<razor.core.pipeline.pipeline.Pipeline at 0x7fd746ab1ed0>"
      ]
     },
     "metadata": {},
     "output_type": "display_data"
    }
   ],
   "source": [
    "p.show()"
   ]
  },
  {
   "cell_type": "code",
   "execution_count": 9,
   "metadata": {},
   "outputs": [],
   "source": [
    "deployed_pipeline = razor.api.engines('DS-engine').execute(pipeline=p)\n"
   ]
  },
  {
   "cell_type": "code",
   "execution_count": 12,
   "metadata": {},
   "outputs": [
    {
     "data": {
      "application/vnd.razorthink.run+monitor+json": "/home/jovyan/logs/7783e41c-dd66-4742-bd95-c7554c3ed983",
      "text/plain": [
       "<razor_tools.backend.ipython.mime.run_monitor.RunMonitor at 0x7fd746975910>"
      ]
     },
     "metadata": {
      "application/vnd.razorthink.run+monitor+json": {
       "store_in_notebook": false
      }
     },
     "output_type": "display_data"
    },
    {
     "data": {
      "text/html": [],
      "text/plain": [
       "PlatformPipelineRun(project_id='c0b26d85-a4c9-44f5-9d0e-f540dd2de644', pipeline_id='085c62b6-de3a-11ea-9a36-bbbb6f98a62b', pipeline_name='heavy_op1', pipeline_run_id='7783e41c-dd66-4742-bd95-c7554c3ed983', pipeline_version=None, comment=None, created_on='2020-08-14T14:25:42.649+0000', start_time=None, end_time=None, eta=0, run_at=1597415142649, run_duration=0, compute_time=0, wait_time=0, ran_by_user=RanByUser(user_name='Ayan Basak', email='ayan.basak@razorthink.com'), status='IN_PROGRESS', block_status=[PlatformPipelineBlockRun(pipeline_run_id='7783e41c-dd66-4742-bd95-c7554c3ed983', pipeline_name='heavy_op1', pipeline_status='IN_PROGRESS', block_id='4a82651b-015f-4c50-b152-71e3c63d0af5', block_run_id='9c6f2b3c-80b5-4af5-a71e-cb6f33a1f14a', block_name='Configs_1', resource_spec=ResourceAllocated(cores=1, memory=1024, use_gpu=False, gpu=0, use_gpu_if_available=False, additional_resource_spec={}, run_env='PYTHON'), technology='PYTHON', status='READY_TO_GO', containers=[], cluster_id='4a82651b-015f-4c50-b152-71e3c63d0af5', _log=None, _metric=None, wait_time=0, compute_time=0, start_time=None, end_time=None, queued_at='2020-08-14T14:25:43.000+0000'), PlatformPipelineBlockRun(pipeline_run_id='7783e41c-dd66-4742-bd95-c7554c3ed983', pipeline_name='heavy_op1', pipeline_status='IN_PROGRESS', block_id='73c663df-cac4-47d9-8efc-33f1b95aad7b', block_run_id='fd20e9e5-7b44-4060-a25f-394e102ab079', block_name='HeavyOp1_1', resource_spec=ResourceAllocated(cores=2, memory=8192, use_gpu=False, gpu=0, use_gpu_if_available=False, additional_resource_spec={}, run_env='PYTHON'), technology='PYTHON', status='YET_TO_START', containers=[], cluster_id='73c663df-cac4-47d9-8efc-33f1b95aad7b', _log=None, _metric=None, wait_time=0, compute_time=0, start_time=None, end_time=None, queued_at=None)], run_number=73, pipeline_variable_list=[], block_run_details=[BlockRunDetail(block_id='4a82651b-015f-4c50-b152-71e3c63d0af5', block_run_id='9c6f2b3c-80b5-4af5-a71e-cb6f33a1f14a', block_name='Configs_1', technology='PYTHON', log_path=None, input_parameters='{}', output_parameters=None, status='READY_TO_GO', created_at='2020-08-14T14:25:42.687+0000', queued_at='2020-08-14T14:25:43.000+0000', start_time=None, end_time=None, compute_time=0, wait_time=0, run_time=0, block_run_output_list=[BlockRunOutputList(output_id='13c6899f-6eb0-48ff-9cc8-cb9f748c8b30', output_name='config', created_on='2020-08-14T14:25:42.688+0000', output_status='YET_TO_START', block_transport='FILE')], resource_allocated=ResourceAllocated(cores=1, memory=1024, use_gpu=False, gpu=0, use_gpu_if_available=False, additional_resource_spec={}, run_env='PYTHON')), BlockRunDetail(block_id='73c663df-cac4-47d9-8efc-33f1b95aad7b', block_run_id='fd20e9e5-7b44-4060-a25f-394e102ab079', block_name='HeavyOp1_1', technology='PYTHON', log_path=None, input_parameters=None, output_parameters=None, status='YET_TO_START', created_at='2020-08-14T14:25:42.702+0000', queued_at=None, start_time=None, end_time=None, compute_time=0, wait_time=0, run_time=0, block_run_output_list=[], resource_allocated=ResourceAllocated(cores=2, memory=8192, use_gpu=False, gpu=0, use_gpu_if_available=False, additional_resource_spec={}, run_env='PYTHON'))], pipeline_json='{\\n  \"id\": \"085c62b6-de3a-11ea-9a36-bbbb6f98a62b\",\\n  \"projectId\": \"c0b26d85-a4c9-44f5-9d0e-f540dd2de644\",\\n  \"name\": \"heavy_op1\",\\n  \"description\": \"\",\\n  \"blocks\": [\\n    {\\n      \"name\": \"HeavyOp1_1\",\\n      \"id\": \"73c663df-cac4-47d9-8efc-33f1b95aad7b\",\\n      \"artifact_id\": null,\\n      \"class_name\": \"HeavyOp1\",\\n      \"code\": \"eJxtUk1v0zAYTpr0Q90YHMYGF7QDh27TKtq1WychxOgFCBTouCLLiZ061LWzxB4qaiUuE5rkG+a+/Sn+Dthpx3aYD/br9/t93ueH//uP5xRHbUaUS5Qm0Zji5i1Zq8cgw2SKMigwyMeYYsEZiCjMc/1LN4ij1sEEju+yqVooEyoSlmvli2mKjVLVXmN4Nv2QtrR6lMHvPGtGPMPNkPJonC8frcqvrGD8z/VcqyoAiEcA6EGutlpH+3Gn190Pw+ioc9DrHB3iVvisHbcP2+2424Z6IPTQRDVUHYAJR5JiE6lq5gMTZkUvk0ybxtdAnFAKYskikXC2HOf+zTiFyaiN9h5YzgL+D9LnCH+2n3NTrxF4gRNUAj/o9w+QixzqzL3idef+zL8sodKV6zoz56tnZK+QvUt/5s5KV6V5GTknjm4MAkf5n3EutKoPMUQJG22hWAszSyWFDEGDTJXy0cgYDKQJi7lWFavAmWkoMyEgys+KAD/HNDZOKRTEOEWcxYkJKqVIk6eqJjILRpFcPXmepFNBONtLWCrFXnev10W4F3a67cMWfKHJw8Dv1x235tZKdXfV1dvbFuK3f82xOK8AkMJoDEcW6IFFmsGJlcm6/LncRXVEeQhpbtdZQziGkorcOPsoiYRVrhnS5TLD4AxSia2pslieyaJ8m9D0oTzDA2PaBLcoCnIZLlxz/UWrFcgYF9BudFHtVEJaxKvVa+41LQNUffztphMphmb1BQA5WL62c7Jrr5dkV5VRsfq7aLt0Vw+OBZ8kUUHeN1ZniVKmMMRUD8jxQFWXBS1MGT6VSYaRvpBkZ1Fkh7wj79XGrSwnIjPLvs5FPtos5JNyNBleSKk2QOFlG84FZBEGEZdM6MA18zT/AS2QdQ0=\",\\n      \"isPublishedBlock\": false,\\n      \"source\": null,\\n      \"inputProperty\": {\\n        \"config\": {\\n          \"dtype\": \"generic\",\\n          \"required\": \"false\",\\n          \"series\": false,\\n          \"adapter\": \"eJxrYJlqzAABPRJFiVX5RXrJ+UWpekk5+cnZxXqZeQWlJcVTeoScQHxPEE8vMSWxoCS1aMrkKXoAUvYVmA==\",\\n          \"validator\": \"eJxrYJlqygABPRJFiVX5RXrJ+UWpekk5+cnZxXqZeQWlJcVTekScQHxPEE+vLDEnMyWxJL9oyuQpegCAUhaB\",\\n          \"source_id\": \"4a82651b-015f-4c50-b152-71e3c63d0af5\",\\n          \"source_name\": \"config\",\\n          \"inferred_type\": \"BLOCK\",\\n          \"value\": null\\n        },\\n        \"path\": {\\n          \"dtype\": \"string\",\\n          \"required\": \"false\",\\n          \"series\": false,\\n          \"adapter\": \"eJxrYJkazgABPUpFiVX5RXqJBZl6yflFqXopiSWJ8cX5pUXJqfG5iXmJ6alFU3p0AnISS9Lyi3JdgLLBYElfiJxeQVF+VmpySXxxQSJQR0FiScaUyVP0AGu0JDo=\",\\n          \"validator\": \"eJxrYJnqyAABPRJFiVX5RXrJ+UWpekk5+cnZxXqZeQWlJcVTehQcS/JzM5OdQKLBJUWZeemeIBm9ssSczJTEkvyiKZOn6AEArzAbbQ==\",\\n          \"source_id\": null,\\n          \"source_name\": null,\\n          \"inferred_type\": \"STATIC\",\\n          \"value\": \"eJxrYJkqxwABPVK+pm75RanJicUlmXnp+iVFiZl58SlpesnFZVP0ANu4DIc=\"\\n        }\\n      },\\n      \"outputProperty\": {},\\n      \"resourceRequirement\": {\\n        \"cores\": 2,\\n        \"memory\": 8192,\\n        \"useGpu\": false,\\n        \"gpu\": 0,\\n        \"useGpuIfAvailable\": false,\\n        \"runEnv\": \"PYTHON\",\\n        \"additionalResourceSpec\": {}\\n      },\\n      \"executionType\": \"BlockExecutor\",\\n      \"dependencies\": [],\\n      \"system_dependencies\": null,\\n      \"meta_data\": null,\\n      \"eta\": 0\\n    },\\n    {\\n      \"name\": \"Configs_1\",\\n      \"id\": \"4a82651b-015f-4c50-b152-71e3c63d0af5\",\\n      \"artifact_id\": null,\\n      \"class_name\": \"Configs\",\\n      \"code\": \"eJxtU0tvEzEQ3t08adVCpUIpEogDh/TQoJCkaiSEVNIUlaiLFHLggiyv7WRXcdZhbRcVtRKXqhffMDcO8B+5w3iTqOXh1crj+ebxjWf8ufj1Z8HLl9kiXGg6S8iEs/oN2ZptlLH4jGZYMSQnjDMlUkQ4ltJ+sbXYM5toiif/w0w10glXSSqtKaqzGQOlqXRFOkrGoLqf4U8iqxORsXrEBZnIxWZN6aUTwPzSXoALQlQQhGwozeNOM2rhvcazZqsTtdqEdWinFTVZh1Hcjgjbs6GyA/CqmRWEpoJqzsDTVOGAk9SJhUynFnivo1HCORrplKhEpItqbl9Xk0OgBu0aWpSClnVUu4KyoTtcQr5aP+h7/UK/0u92n1CfBrRAi+OAlmiZVmj1W/kiOPe/e+fBD9/3qPfWs7XQlCTmTNqTs4oJEmqND3/tpH0EF0KwhGTjp7kFUpmjfop5QrGjWify1JqHf5kyKGaWJYTJOf7gT5xAqJTiLAdrpjw8GLzqDa251QsP0XBwcBxas3ICGzoOD3vv4DBPO8MqBqt5ZERH1qwtQ80xBZ8pzLSCmzBFoAEmZZJ3GfQ0IfbKmkfPk9mZikW6m6RgutvcbbP9xgiz5v4+ZS9sfLdf6N7xCoEfBIFfhD/wq4Hd2XHdfP0LlmvpKoKUZILHrqeha2qKp06ON/XVou2VMRcR5tJNTpWyEdZcSTAuAhPllOsw3lJnzF2oZg4qz+cEopiiCwhsgLggAG2hG48BSR3NTaV9b80qTlOh8o7Ms33QmOf+ZnUx5XU3a2Zl8vGaiFYDs4GEVnANEi0F8I8bQD/uxQ1TovmUme1/X8jS3GwcKDFNSP5Q3uRKN5UljiPGbRgfhVqaeyiHEYInqHBKGCJCp8r2fSBR/w1dAIJd\",\\n      \"isPublishedBlock\": false,\\n      \"source\": null,\\n      \"inputProperty\": {},\\n      \"outputProperty\": {\\n        \"config\": {\\n          \"series\": false,\\n          \"adapter\": \"eJxrYJlqygABPZJFiVX5RXrJ+UWpekk5+cnZxXr5pSUFpSXFU3qEnUAC/mCuXmJKYkFJatGUyVP0AIR/Fp4=\",\\n          \"transport\": \"FILE\"\\n        }\\n      },\\n      \"resourceRequirement\": {\\n        \"cores\": 1,\\n        \"memory\": 1024,\\n        \"useGpu\": false,\\n        \"gpu\": 0,\\n        \"useGpuIfAvailable\": false,\\n        \"runEnv\": \"PYTHON\",\\n        \"additionalResourceSpec\": {}\\n      },\\n      \"executionType\": \"BlockExecutor\",\\n      \"dependencies\": [],\\n      \"system_dependencies\": null,\\n      \"meta_data\": null,\\n      \"eta\": 0\\n    }\\n  ],\\n  \"connections\": [\\n    {\\n      \"source_block_id\": \"4a82651b-015f-4c50-b152-71e3c63d0af5\",\\n      \"target_block_id\": \"73c663df-cac4-47d9-8efc-33f1b95aad7b\",\\n      \"source_output\": \"config\",\\n      \"target_input\": \"config\"\\n    }\\n  ],\\n  \"priority\": \"LOW\",\\n  \"infraResourceEstimation\": null,\\n  \"resourceRequirement\": {},\\n  \"comments\": null,\\n  \"order\": null,\\n  \"uiData\": null,\\n  \"dom\": null,\\n  \"systemGenerated\": false,\\n  \"systemModel\": false,\\n  \"pipelineVariableList\": [],\\n  \"pipelineTemplateVersion\": 0.0,\\n  \"versionId\": null,\\n  \"engineId\": \"65ed2499-f8c9-4c4d-ad27-aa689bd1531e\",\\n  \"userId\": \"c4080201-ccc9-4657-a457-7e18c100ff28\",\\n  \"runInitiatedFrom\": \"JUPYTER\"\\n}', dom='Yet to add', order=None, infra_resource='{\\n  \"zookeeper\": {\\n    \"cores\": 1,\\n    \"memory\":  1024\\n  },\\n  \"kafka\": {\\n    \"cores\": 1,\\n    \"memory\": 1024,\\n    \"additionalResourceSpec\":{}\\n  }\\n}', resource_spec={}, engine_id='65ed2499-f8c9-4c4d-ad27-aa689bd1531e', run_initiated_from='JUPYTER')"
      ]
     },
     "execution_count": 12,
     "metadata": {},
     "output_type": "execute_result"
    }
   ],
   "source": [
    "deployed_pipeline"
   ]
  },
  {
   "cell_type": "code",
   "execution_count": null,
   "metadata": {},
   "outputs": [],
   "source": []
  },
  {
   "cell_type": "code",
   "execution_count": null,
   "metadata": {},
   "outputs": [],
   "source": []
  }
 ],
 "metadata": {
  "kernelspec": {
   "display_name": "Python 3",
   "language": "python",
   "name": "python3"
  },
  "language_info": {
   "codemirror_mode": {
    "name": "ipython",
    "version": 3
   },
   "file_extension": ".py",
   "mimetype": "text/x-python",
   "name": "python",
   "nbconvert_exporter": "python",
   "pygments_lexer": "ipython3",
   "version": "3.7.4"
  }
 },
 "nbformat": 4,
 "nbformat_minor": 4
}
