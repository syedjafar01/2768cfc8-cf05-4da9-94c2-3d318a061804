{
 "cells": [
  {
   "cell_type": "code",
   "execution_count": 1,
   "metadata": {},
   "outputs": [],
   "source": [
    "import numpy as np\n",
    "import pandas as pd\n",
    "import os, sys, gc, time, warnings, pickle, psutil, random\n",
    "\n",
    "from math import ceil\n",
    "\n",
    "from sklearn.preprocessing import LabelEncoder\n",
    "\n",
    "warnings.filterwarnings('ignore')\n"
   ]
  },
  {
   "cell_type": "code",
   "execution_count": 2,
   "metadata": {},
   "outputs": [],
   "source": [
    "from razor import Block, inputs, outputs, Pipeline\n",
    "from razor.api import project_space_path\n",
    "import razor\n",
    "from razor import Technology, LibraryMode\n",
    "from razor.core.blocks import ContainerExecutor\n",
    "from razor.core.blocks.transports import FileTransport\n"
   ]
  },
  {
   "cell_type": "code",
   "execution_count": 3,
   "metadata": {},
   "outputs": [],
   "source": [
    "@outputs.atomic.generic('config')\n",
    "class Configs(Block):\n",
    "    def run(self, config):\n",
    "        \n",
    "        dic = {\n",
    "          \"TARGET\": \"sales\",\n",
    "          \"END_TRAIN\": 1913,\n",
    "          \"MAIN_INDEX\": [\n",
    "            \"id\",\n",
    "            \"d\"\n",
    "          ],\n",
    "          'index_columns' : ['id','item_id','dept_id','cat_id','store_id','state_id'],\n",
    "          \"train_path\": \"M5Forecasting/sales_train_validation.csv\",\n",
    "          \"prices_path\": \"M5Forecasting/sell_prices.csv\",\n",
    "          \"calendar_path\" : \"M5Forecasting/calendar.csv\"\n",
    "        }\n",
    "        config.put(dic)\n",
    "        "
   ]
  },
  {
   "cell_type": "code",
   "execution_count": 4,
   "metadata": {},
   "outputs": [],
   "source": [
    "configs = (\n",
    "    Configs()\n",
    "    .config(transport=FileTransport)\n",
    ")"
   ]
  },
  {
   "cell_type": "code",
   "execution_count": null,
   "metadata": {},
   "outputs": [],
   "source": []
  },
  {
   "cell_type": "code",
   "execution_count": null,
   "metadata": {},
   "outputs": [],
   "source": []
  },
  {
   "cell_type": "code",
   "execution_count": 4,
   "metadata": {},
   "outputs": [],
   "source": [
    "def get_memory_usage():\n",
    "    return np.round(psutil.Process(os.getpid()).memory_info()[0]/2.**30, 2) \n",
    "        \n",
    "def sizeof_fmt(num, suffix='B'):\n",
    "    for unit in ['','Ki','Mi','Gi','Ti','Pi','Ei','Zi']:\n",
    "        if abs(num) < 1024.0:\n",
    "            return \"%3.1f%s%s\" % (num, unit, suffix)\n",
    "        num /= 1024.0\n",
    "    return \"%.1f%s%s\" % (num, 'Yi', suffix)\n"
   ]
  },
  {
   "cell_type": "code",
   "execution_count": 5,
   "metadata": {},
   "outputs": [],
   "source": [
    "## Memory Reducer\n",
    "# :df pandas dataframe to reduce size             # type: pd.DataFrame()\n",
    "# :verbose                                        # type: bool\n",
    "def reduce_mem_usage(df, verbose=True):\n",
    "    numerics = ['int16', 'int32', 'int64', 'float16', 'float32', 'float64']\n",
    "    start_mem = df.memory_usage().sum() / 1024**2    \n",
    "    for col in df.columns:\n",
    "        col_type = df[col].dtypes\n",
    "        if col_type in numerics:\n",
    "            c_min = df[col].min()\n",
    "            c_max = df[col].max()\n",
    "            if str(col_type)[:3] == 'int':\n",
    "                if c_min > np.iinfo(np.int8).min and c_max < np.iinfo(np.int8).max:\n",
    "                    df[col] = df[col].astype(np.int8)\n",
    "                elif c_min > np.iinfo(np.int16).min and c_max < np.iinfo(np.int16).max:\n",
    "                       df[col] = df[col].astype(np.int16)\n",
    "                elif c_min > np.iinfo(np.int32).min and c_max < np.iinfo(np.int32).max:\n",
    "                    df[col] = df[col].astype(np.int32)\n",
    "                elif c_min > np.iinfo(np.int64).min and c_max < np.iinfo(np.int64).max:\n",
    "                    df[col] = df[col].astype(np.int64)  \n",
    "            else:\n",
    "                if c_min > np.finfo(np.float16).min and c_max < np.finfo(np.float16).max:\n",
    "                    df[col] = df[col].astype(np.float16)\n",
    "                elif c_min > np.finfo(np.float32).min and c_max < np.finfo(np.float32).max:\n",
    "                    df[col] = df[col].astype(np.float32)\n",
    "                else:\n",
    "                    df[col] = df[col].astype(np.float64)    \n",
    "    end_mem = df.memory_usage().sum() / 1024**2\n",
    "    if verbose: print('Mem. usage decreased to {:5.2f} Mb ({:.1f}% reduction)'.format(end_mem, 100 * (start_mem - end_mem) / start_mem))\n",
    "    return df\n"
   ]
  },
  {
   "cell_type": "code",
   "execution_count": 6,
   "metadata": {},
   "outputs": [],
   "source": [
    "## Merging by concat to not lose dtypes\n",
    "def merge_by_concat(df1, df2, merge_on):\n",
    "    merged_gf = df1[merge_on]\n",
    "    merged_gf = merged_gf.merge(df2, on=merge_on, how='left')\n",
    "    new_columns = [col for col in list(merged_gf) if col not in merge_on]\n",
    "    df1 = pd.concat([df1, merged_gf[new_columns]], axis=1)\n",
    "    return df1\n"
   ]
  },
  {
   "cell_type": "code",
   "execution_count": 7,
   "metadata": {},
   "outputs": [],
   "source": [
    "TARGET = 'sales'         # Our main target\n",
    "END_TRAIN = 1913         # Last day in train set\n",
    "MAIN_INDEX = ['id','d']  # We can identify item by these columns\n"
   ]
  },
  {
   "cell_type": "code",
   "execution_count": 8,
   "metadata": {},
   "outputs": [
    {
     "name": "stdout",
     "output_type": "stream",
     "text": [
      "Load Main Data\n"
     ]
    }
   ],
   "source": [
    "print('Load Main Data')\n",
    "\n",
    "# Here are reafing all our data \n",
    "# without any limitations and dtype modification\n",
    "train_df = pd.read_csv(project_space_path('M5Forecasting/sales_train_validation.csv'))\n",
    "prices_df = pd.read_csv(project_space_path('M5Forecasting/sell_prices.csv'))\n",
    "calendar_df = pd.read_csv(project_space_path('M5Forecasting/calendar.csv'))\n"
   ]
  },
  {
   "cell_type": "code",
   "execution_count": 9,
   "metadata": {},
   "outputs": [],
   "source": [
    "train_df.to_csv(project_space_path('M5Forecasting/train_df.csv'), index=False)\n"
   ]
  },
  {
   "cell_type": "code",
   "execution_count": 31,
   "metadata": {},
   "outputs": [],
   "source": [
    "@inputs.atomic.string('path')\n",
    "class Melter(Block):\n",
    "    def run(self, path):\n",
    "        import logging\n",
    "        from razor.api import project_space_path\n",
    "        import pandas as pd\n",
    "        \n",
    "        train_df=pd.read_csv(path)\n",
    "        print('Create Grid')\n",
    "\n",
    "        # We can tranform horizontal representation \n",
    "        # to vertical \"view\"\n",
    "        # Our \"index\" will be 'id','item_id','dept_id','cat_id','store_id','state_id'\n",
    "        # and labels are 'd_' coulmns\n",
    "\n",
    "        index_columns = ['id','item_id','dept_id','cat_id','store_id','state_id']\n",
    "        grid_df = pd.melt(train_df, \n",
    "                          id_vars = index_columns, \n",
    "                          var_name = 'd', \n",
    "                          value_name = TARGET)\n",
    "        \n",
    "        grid_df.to_csv(project_space_path('M5Forecasting/grid_df.csv'), index=False)\n"
   ]
  },
  {
   "cell_type": "code",
   "execution_count": 32,
   "metadata": {},
   "outputs": [],
   "source": [
    "melter = (\n",
    "    Melter()\n",
    "    .path('M5Forecasting/train_df.csv', adapter=project_space_path)  # (series, string)\n",
    "    .executor(ContainerExecutor(cores=2, memory=8192))\n",
    ")"
   ]
  },
  {
   "cell_type": "code",
   "execution_count": 33,
   "metadata": {},
   "outputs": [],
   "source": [
    "p = Pipeline(\"Melting\", targets=[melter], env=Technology.PYTHON)  #preprocess\n"
   ]
  },
  {
   "cell_type": "code",
   "execution_count": 34,
   "metadata": {},
   "outputs": [],
   "source": [
    "deployed_pipeline = razor.api.engines('DS-engine').execute(pipeline=p)\n"
   ]
  },
  {
   "cell_type": "code",
   "execution_count": 35,
   "metadata": {},
   "outputs": [
    {
     "data": {
      "application/vnd.razorthink.run+monitor+json": "/home/jovyan/logs/1c17bedf-2cfe-4aba-853e-7e96663e89d1",
      "text/plain": [
       "<razor_tools.backend.ipython.mime.run_monitor.RunMonitor at 0x7fbe377f3d90>"
      ]
     },
     "metadata": {
      "application/vnd.razorthink.run+monitor+json": {
       "store_in_notebook": false
      }
     },
     "output_type": "display_data"
    },
    {
     "data": {
      "text/html": [],
      "text/plain": [
       "PlatformPipelineRun(project_id='c0b26d85-a4c9-44f5-9d0e-f540dd2de644', pipeline_id='7290680e-d7a9-11ea-b461-fb359244d9a7', pipeline_name='Melting', pipeline_run_id='1c17bedf-2cfe-4aba-853e-7e96663e89d1', pipeline_version=None, comment=None, created_on='2020-08-06T05:55:36.772+0000', start_time=None, end_time=None, eta=0, run_at=1596693336772, run_duration=0, compute_time=0, wait_time=0, ran_by_user=RanByUser(user_name='Ayan Basak', email='ayan.basak@razorthink.com'), status='IN_PROGRESS', block_status=[PlatformPipelineBlockRun(pipeline_run_id='1c17bedf-2cfe-4aba-853e-7e96663e89d1', pipeline_name='Melting', pipeline_status='IN_PROGRESS', block_id='a3bd3ff0-3685-4e8f-8750-c67fdfee5d5d', block_run_id='c839d1b5-6bfd-494e-9fbb-1006c74e3f41', block_name='Melter_1', resource_spec=ResourceAllocated(cores=2, memory=8192, use_gpu=False, gpu=0, use_gpu_if_available=False, additional_resource_spec={}, run_env='PYTHON'), technology='PYTHON', status='READY_TO_GO', containers=[], cluster_id='a3bd3ff0-3685-4e8f-8750-c67fdfee5d5d', _log=None, _metric=None, wait_time=0, compute_time=0, start_time=None, end_time=None, queued_at='2020-08-06T05:55:37.000+0000')], run_number=16, pipeline_variable_list=[], block_run_details=[BlockRunDetail(block_id='a3bd3ff0-3685-4e8f-8750-c67fdfee5d5d', block_run_id='c839d1b5-6bfd-494e-9fbb-1006c74e3f41', block_name='Melter_1', technology='PYTHON', log_path=None, input_parameters='{\\n  \"path\": {\\n    \"dtype\": \"string\",\\n    \"required\": \"false\",\\n    \"series\": false,\\n    \"adapter\": \"eJxrYJkazgABPUpFiVX5RXqJBZl6yflFqXopiSWJ8cX5pUXJqfG5iXmJ6alFU3p0AnISS9Lyi3JdgLLBYElfiJxeQVF+VmpySXxxQSJQR0FiScaUyVP0AGu0JDo=\",\\n    \"validator\": \"eJxrYJnqyAABPRJFiVX5RXrJ+UWpekk5+cnZxXqZeQWlJcVTehQcS/JzM5OdQKLBJUWZeemeIBm9ssSczJTEkvyiKZOn6AEArzAbbQ==\",\\n    \"source_id\": null,\\n    \"source_name\": null,\\n    \"inferred_type\": \"STATIC\",\\n    \"value\": \"eJxrYJkqxwABPVK+pm75RanJicUlmXnp+iVFiZl58SlpesnFZVP0ANu4DIc=\"\\n  }\\n}', output_parameters=None, status='READY_TO_GO', created_at='2020-08-06T05:55:36.807+0000', queued_at='2020-08-06T05:55:37.000+0000', start_time=None, end_time=None, compute_time=0, wait_time=0, run_time=0, block_run_output_list=[], resource_allocated=ResourceAllocated(cores=2, memory=8192, use_gpu=False, gpu=0, use_gpu_if_available=False, additional_resource_spec={}, run_env='PYTHON'))], pipeline_json='{\\n  \"id\": \"7290680e-d7a9-11ea-b461-fb359244d9a7\",\\n  \"projectId\": \"c0b26d85-a4c9-44f5-9d0e-f540dd2de644\",\\n  \"name\": \"Melting\",\\n  \"description\": \"\",\\n  \"blocks\": [\\n    {\\n      \"name\": \"Melter_1\",\\n      \"id\": \"a3bd3ff0-3685-4e8f-8750-c67fdfee5d5d\",\\n      \"artifact_id\": null,\\n      \"class_name\": \"Melter\",\\n      \"code\": \"eJxtU81vFDcUn5mdLzYkRSiEciLHcMiWbbIJkSIkWNGoXbGHEI6V5bU9O5P1joexHZpqV0JCCCE5p7p3+j/0/2ufvYvggEcaP/u95/fx+7138d//xoFf5j7hQtOmIjPOet/I1jxALSuvaYsVQ3LGOFOiRoRjKe1fdq8MzDaa49n3dCaf6IqrqpbWxOq6YXBp0peMK9Za82OL/xRtj4iW9SZckJlcb9Ykz50A1h/s0poMISoIQnYsze7gaHDI+pM+HTymh5geT45PCoIPDg6LYzw5edy3Y2XPwWvPdBGaC6o5A0+TwwFXtRM7ra4tpL2FiopzVOiaqErU62J++FqMV8E13G6idSXoSxn5UFB24Q4fIN7eKBoFo3yUjobDgoY04MEygj3i4TxadsLA33WW8SL+HC/Cf8JlohLaeR+CJqYJTWlGc3prmi7TRXyZLpJFSrsqoxs38TJbZJf5okNvvw/pJt26icAneBXYvfEoMHebVlwyopBsMGGowaqEhMzGsGWA1+5ZW1FrIvfLKsXmyEuUNcpLKcErIZcKYPgiOqSdGHo3iq5wC6DksKEaz4ES3SvMNVsdPgJDXg5+AXeCJXRo+tMUgiJa9Ii8sp9MUtWU/QFJKcAk42I6BRtrbq3Qx01ly12TNrim2AWBvClyniZp2qpWwJw5EAZyvXh2fvbiAgQlvIF7L5aMF2Di6y5/hpeixtWgWgc2BdWmD4+I4HrueJitswN38/C0aq5VKer9qm602j/o7+Pi5GjQxweHJ8fsqS3vjTrDnSDMw9thHnXDPLsTpmEEXx7ZR48c0377D5aj2waC7pMZnjq+jR3hXHtALrf1xzUlsykXE8wlHMonJpGYM2mlySkrsOZKgl9MK6Ic67dgCKUGUHyvnSpd0RkeNLFvfXnPdGAyQHUffTOySOrJylTa34ELuK4FYAocd4FN/kZjvsZxNYs9NxGmO3v7NQ+tzmEUfFskWu8u61Moo7woT01C/SR8b4rX1mbnmRLzivhZfqUAzOmvTuOmJ+F4wrgdl6/Hjo4+qjWBx/+NrlpG7SctzQ7yzi4BYGUNBCdCAydGIeTX+x/Q2cKn\",\\n      \"isPublishedBlock\": false,\\n      \"source\": null,\\n      \"inputProperty\": {\\n        \"path\": {\\n          \"dtype\": \"string\",\\n          \"required\": \"false\",\\n          \"series\": false,\\n          \"adapter\": \"eJxrYJkazgABPUpFiVX5RXqJBZl6yflFqXopiSWJ8cX5pUXJqfG5iXmJ6alFU3p0AnISS9Lyi3JdgLLBYElfiJxeQVF+VmpySXxxQSJQR0FiScaUyVP0AGu0JDo=\",\\n          \"validator\": \"eJxrYJnqyAABPRJFiVX5RXrJ+UWpekk5+cnZxXqZeQWlJcVTehQcS/JzM5OdQKLBJUWZeemeIBm9ssSczJTEkvyiKZOn6AEArzAbbQ==\",\\n          \"source_id\": null,\\n          \"source_name\": null,\\n          \"inferred_type\": \"STATIC\",\\n          \"value\": \"eJxrYJkqxwABPVK+pm75RanJicUlmXnp+iVFiZl58SlpesnFZVP0ANu4DIc=\"\\n        }\\n      },\\n      \"outputProperty\": {},\\n      \"resourceRequirement\": {\\n        \"cores\": 2,\\n        \"memory\": 8192,\\n        \"useGpu\": false,\\n        \"gpu\": 0,\\n        \"useGpuIfAvailable\": false,\\n        \"runEnv\": \"PYTHON\",\\n        \"additionalResourceSpec\": {}\\n      },\\n      \"executionType\": \"BlockExecutor\",\\n      \"dependencies\": [],\\n      \"system_dependencies\": null,\\n      \"meta_data\": null,\\n      \"eta\": 0\\n    }\\n  ],\\n  \"connections\": [],\\n  \"priority\": \"LOW\",\\n  \"infraResourceEstimation\": null,\\n  \"resourceRequirement\": {},\\n  \"comments\": null,\\n  \"order\": null,\\n  \"uiData\": null,\\n  \"dom\": null,\\n  \"systemGenerated\": false,\\n  \"systemModel\": false,\\n  \"pipelineVariableList\": [],\\n  \"pipelineTemplateVersion\": 0.0,\\n  \"versionId\": null,\\n  \"engineId\": \"65ed2499-f8c9-4c4d-ad27-aa689bd1531e\",\\n  \"userId\": \"c4080201-ccc9-4657-a457-7e18c100ff28\",\\n  \"runInitiatedFrom\": \"JUPYTER\"\\n}', dom='Yet to add', order=None, infra_resource='{\\n  \"zookeeper\": {\\n    \"cores\": 1,\\n    \"memory\":  1024\\n  },\\n  \"kafka\": {\\n    \"cores\": 1,\\n    \"memory\": 1024,\\n    \"additionalResourceSpec\":{}\\n  }\\n}', resource_spec={}, engine_id='65ed2499-f8c9-4c4d-ad27-aa689bd1531e', run_initiated_from='JUPYTER')"
      ]
     },
     "execution_count": 35,
     "metadata": {},
     "output_type": "execute_result"
    }
   ],
   "source": [
    "deployed_pipeline"
   ]
  },
  {
   "cell_type": "code",
   "execution_count": null,
   "metadata": {},
   "outputs": [],
   "source": []
  },
  {
   "cell_type": "code",
   "execution_count": 3,
   "metadata": {},
   "outputs": [],
   "source": [
    "# grid_df=pd.read_csv(project_space_path('M5Forecasting/grid_df.csv'))"
   ]
  },
  {
   "cell_type": "code",
   "execution_count": 6,
   "metadata": {},
   "outputs": [],
   "source": [
    "@inputs.atomic.string('path')\n",
    "@inputs.atomic.generic('config')\n",
    "class HeavyOp1(Block):\n",
    "    def run(self, path, config):\n",
    "        import pandas as pd\n",
    "        import logging\n",
    "        \n",
    "        self.logger.info(\"Reading df\")\n",
    "        train_df=pd.read_csv(path)\n",
    "        self.logger.info(\"Reading df DONE...\")\n",
    "        \n",
    "        END_TRAIN = config[\"END_TRAIN\"]\n",
    "        TARGET = config[\"TARGET\"]\n",
    "        # If we look on train_df we se that \n",
    "        # we don't have a lot of traning rows\n",
    "        # but each day can provide more train data\n",
    "        print('Train rows:', len(train_df))\n",
    "\n",
    "        # To be able to make predictions\n",
    "        # we need to add \"test set\" to our grid\n",
    "        index_columns = config['index_columns']\n",
    "        add_grid = pd.DataFrame()\n",
    "        for i in range(1,29):\n",
    "            temp_df = train_df[index_columns]\n",
    "            temp_df = temp_df.drop_duplicates()\n",
    "            temp_df['d'] = 'd_'+ str(END_TRAIN+i)\n",
    "            temp_df[TARGET] = np.nan\n",
    "            add_grid = pd.concat([add_grid,temp_df])\n",
    "            \n",
    "        add_grid.to_csv(project_space_path('M5Forecasting/add_grid.csv'), index=False)\n"
   ]
  },
  {
   "cell_type": "code",
   "execution_count": 7,
   "metadata": {},
   "outputs": [],
   "source": [
    "heavy_op1 = (\n",
    "    HeavyOp1()\n",
    "    .path('M5Forecasting/train_df.csv', adapter=project_space_path)  # (series, string)\n",
    "    .config(configs.config)\n",
    "    .executor(ContainerExecutor(cores=2, memory=8192))\n",
    ")"
   ]
  },
  {
   "cell_type": "code",
   "execution_count": 8,
   "metadata": {},
   "outputs": [],
   "source": [
    "p = Pipeline(\"heavy_op1\", targets=[heavy_op1], env=Technology.PYTHON)  #preprocess\n"
   ]
  },
  {
   "cell_type": "code",
   "execution_count": 9,
   "metadata": {},
   "outputs": [
    {
     "data": {
      "application/vnd.razorthink.interactive+pipeline+view+json": {
       "blocks": [
        {
         "class_name": "HeavyOp1",
         "id": "94c4b12f-1249-4265-935c-fb1b40df1a97",
         "inputs": [
          {
           "default": null,
           "doc": null,
           "dtype": "generic",
           "flow": "series",
           "label": null,
           "name": "config",
           "required": false
          },
          {
           "default": "",
           "doc": null,
           "dtype": "string",
           "flow": "series",
           "label": null,
           "name": "path",
           "required": false
          }
         ],
         "outputs": [],
         "overwritten": false,
         "var_names": [
          "HeavyOp1"
         ]
        },
        {
         "class_name": "Configs",
         "id": "a40e81a7-e431-413d-b13e-f1fe477a720d",
         "inputs": [],
         "outputs": [
          {
           "doc": null,
           "dtype": "generic",
           "flow": "series",
           "label": null,
           "name": "config"
          }
         ],
         "overwritten": false,
         "var_names": [
          "Configs"
         ]
        }
       ],
       "connections": [
        {
         "id": "e817a5e6-d570-4103-bd13-9b1d1f76d8d4",
         "source": {
          "adapter": false,
          "instance_id": "0a686966-8c4f-4e91-853a-defc7e97095b",
          "name": "config"
         },
         "target": {
          "adapter": false,
          "instance_id": "40a20c3a-26f7-48d0-9a89-301b5715b9cd",
          "name": "config"
         }
        }
       ],
       "id": "ad0d652b-cca0-459a-90d3-da36c2c2b04a",
       "instances": [
        {
         "block_class": "94c4b12f-1249-4265-935c-fb1b40df1a97",
         "id": "40a20c3a-26f7-48d0-9a89-301b5715b9cd",
         "name": "HeavyOp1_1",
         "var_names": [
          "heavy_op1"
         ]
        },
        {
         "block_class": "a40e81a7-e431-413d-b13e-f1fe477a720d",
         "id": "0a686966-8c4f-4e91-853a-defc7e97095b",
         "name": "Configs_1",
         "var_names": [
          "configs"
         ]
        }
       ],
       "name": "heavy_op1",
       "var_names": []
      },
      "image/svg+xml": [
       "<?xml version=\"1.0\" encoding=\"UTF-8\" standalone=\"no\"?>\n",
       "<!DOCTYPE svg PUBLIC \"-//W3C//DTD SVG 1.1//EN\"\n",
       " \"http://www.w3.org/Graphics/SVG/1.1/DTD/svg11.dtd\">\n",
       "<!-- Generated by graphviz version 2.40.1 (20161225.0304)\n",
       " -->\n",
       "<!-- Title: %3 Pages: 1 -->\n",
       "<svg width=\"173pt\" height=\"127pt\"\n",
       " viewBox=\"0.00 0.00 172.83 127.00\" xmlns=\"http://www.w3.org/2000/svg\" xmlns:xlink=\"http://www.w3.org/1999/xlink\">\n",
       "<g id=\"graph0\" class=\"graph\" transform=\"scale(1 1) rotate(0) translate(4 123)\">\n",
       "<title>%3</title>\n",
       "<polygon fill=\"#ffffff\" stroke=\"transparent\" points=\"-4,4 -4,-123 168.8256,-123 168.8256,4 -4,4\"/>\n",
       "<!-- (HeavyOp1) HeavyOp1_1 -->\n",
       "<g id=\"node1\" class=\"node\">\n",
       "<title>(HeavyOp1) HeavyOp1_1</title>\n",
       "<ellipse fill=\"none\" stroke=\"#000000\" cx=\"82.4128\" cy=\"-18\" rx=\"82.3257\" ry=\"18\"/>\n",
       "<text text-anchor=\"middle\" x=\"82.4128\" y=\"-15.5\" font-family=\"Helvetica,sans-Serif\" font-size=\"10.00\" fill=\"#000000\">(HeavyOp1) HeavyOp1_1</text>\n",
       "</g>\n",
       "<!-- (Configs) Configs_1 -->\n",
       "<g id=\"node2\" class=\"node\">\n",
       "<title>(Configs) Configs_1</title>\n",
       "<ellipse fill=\"none\" stroke=\"#000000\" cx=\"82.4128\" cy=\"-101\" rx=\"64.5068\" ry=\"18\"/>\n",
       "<text text-anchor=\"middle\" x=\"82.4128\" y=\"-98.5\" font-family=\"Helvetica,sans-Serif\" font-size=\"10.00\" fill=\"#000000\">(Configs) Configs_1</text>\n",
       "</g>\n",
       "<!-- (Configs) Configs_1&#45;&gt;(HeavyOp1) HeavyOp1_1 -->\n",
       "<g id=\"edge1\" class=\"edge\">\n",
       "<title>(Configs) Configs_1&#45;&gt;(HeavyOp1) HeavyOp1_1</title>\n",
       "<path fill=\"none\" stroke=\"#000000\" d=\"M82.4128,-82.9902C82.4128,-72.2963 82.4128,-58.4994 82.4128,-46.3706\"/>\n",
       "<polygon fill=\"#000000\" stroke=\"#000000\" points=\"85.9129,-46.2612 82.4128,-36.2612 78.9129,-46.2613 85.9129,-46.2612\"/>\n",
       "<text text-anchor=\"middle\" x=\"117.9128\" y=\"-57\" font-family=\"Helvetica,sans-Serif\" font-size=\"10.00\" fill=\"#000000\">config&#45;&gt;config</text>\n",
       "</g>\n",
       "</g>\n",
       "</svg>\n"
      ],
      "text/plain": [
       "<razor.core.pipeline.pipeline.Pipeline at 0x7f1bb4db2fd0>"
      ]
     },
     "metadata": {},
     "output_type": "display_data"
    }
   ],
   "source": [
    "p.show()"
   ]
  },
  {
   "cell_type": "code",
   "execution_count": 10,
   "metadata": {},
   "outputs": [],
   "source": [
    "deployed_pipeline = razor.api.engines('DS-engine').execute(pipeline=p)\n"
   ]
  },
  {
   "cell_type": "code",
   "execution_count": 11,
   "metadata": {},
   "outputs": [
    {
     "data": {
      "application/vnd.razorthink.run+monitor+json": "/home/jovyan/logs/c7e1854c-fdb7-4362-8247-0a66179dd1bb",
      "text/plain": [
       "<razor_tools.backend.ipython.mime.run_monitor.RunMonitor at 0x7f1bb4de4dd0>"
      ]
     },
     "metadata": {
      "application/vnd.razorthink.run+monitor+json": {
       "store_in_notebook": false
      }
     },
     "output_type": "display_data"
    },
    {
     "data": {
      "text/html": [],
      "text/plain": [
       "PlatformPipelineRun(project_id='c0b26d85-a4c9-44f5-9d0e-f540dd2de644', pipeline_id='7003bde0-d7ca-11ea-bc65-ff90592416b5', pipeline_name='heavy_op1', pipeline_run_id='c7e1854c-fdb7-4362-8247-0a66179dd1bb', pipeline_version=None, comment=None, created_on='2020-08-06T09:51:46.945+0000', start_time=None, end_time=None, eta=0, run_at=1596707506945, run_duration=0, compute_time=0, wait_time=0, ran_by_user=RanByUser(user_name='Ayan Basak', email='ayan.basak@razorthink.com'), status='IN_PROGRESS', block_status=[PlatformPipelineBlockRun(pipeline_run_id='c7e1854c-fdb7-4362-8247-0a66179dd1bb', pipeline_name='heavy_op1', pipeline_status='IN_PROGRESS', block_id='24a53e33-c255-4f31-bb41-5a409264ffdc', block_run_id='24f929d6-3f09-44af-8376-eb966295329d', block_name='Configs_1', resource_spec=ResourceAllocated(cores=1, memory=1024, use_gpu=False, gpu=0, use_gpu_if_available=False, additional_resource_spec={}, run_env='PYTHON'), technology='PYTHON', status='READY_TO_GO', containers=[], cluster_id='24a53e33-c255-4f31-bb41-5a409264ffdc', _log=None, _metric=None, wait_time=0, compute_time=0, start_time=None, end_time=None, queued_at='2020-08-06T09:51:47.000+0000'), PlatformPipelineBlockRun(pipeline_run_id='c7e1854c-fdb7-4362-8247-0a66179dd1bb', pipeline_name='heavy_op1', pipeline_status='IN_PROGRESS', block_id='15f144a9-9a32-4531-9756-4b6c8d1513d9', block_run_id='50eafbcb-0ada-4c80-b031-281746c0a3dd', block_name='HeavyOp1_1', resource_spec=ResourceAllocated(cores=2, memory=8192, use_gpu=False, gpu=0, use_gpu_if_available=False, additional_resource_spec={}, run_env='PYTHON'), technology='PYTHON', status='YET_TO_START', containers=[], cluster_id='15f144a9-9a32-4531-9756-4b6c8d1513d9', _log=None, _metric=None, wait_time=0, compute_time=0, start_time=None, end_time=None, queued_at=None)], run_number=35, pipeline_variable_list=[], block_run_details=[BlockRunDetail(block_id='24a53e33-c255-4f31-bb41-5a409264ffdc', block_run_id='24f929d6-3f09-44af-8376-eb966295329d', block_name='Configs_1', technology='PYTHON', log_path=None, input_parameters='{}', output_parameters=None, status='READY_TO_GO', created_at='2020-08-06T09:51:46.989+0000', queued_at='2020-08-06T09:51:47.000+0000', start_time=None, end_time=None, compute_time=0, wait_time=0, run_time=0, block_run_output_list=[BlockRunOutputList(output_id='21373b50-aba5-49ae-9d71-ac6d79119156', output_name='config', created_on='2020-08-06T09:51:46.989+0000', output_status='YET_TO_START', block_transport='FILE')], resource_allocated=ResourceAllocated(cores=1, memory=1024, use_gpu=False, gpu=0, use_gpu_if_available=False, additional_resource_spec={}, run_env='PYTHON')), BlockRunDetail(block_id='15f144a9-9a32-4531-9756-4b6c8d1513d9', block_run_id='50eafbcb-0ada-4c80-b031-281746c0a3dd', block_name='HeavyOp1_1', technology='PYTHON', log_path=None, input_parameters=None, output_parameters=None, status='YET_TO_START', created_at='2020-08-06T09:51:47.015+0000', queued_at=None, start_time=None, end_time=None, compute_time=0, wait_time=0, run_time=0, block_run_output_list=[], resource_allocated=ResourceAllocated(cores=2, memory=8192, use_gpu=False, gpu=0, use_gpu_if_available=False, additional_resource_spec={}, run_env='PYTHON'))], pipeline_json='{\\n  \"id\": \"7003bde0-d7ca-11ea-bc65-ff90592416b5\",\\n  \"projectId\": \"c0b26d85-a4c9-44f5-9d0e-f540dd2de644\",\\n  \"name\": \"heavy_op1\",\\n  \"description\": \"\",\\n  \"blocks\": [\\n    {\\n      \"name\": \"HeavyOp1_1\",\\n      \"id\": \"15f144a9-9a32-4531-9756-4b6c8d1513d9\",\\n      \"artifact_id\": null,\\n      \"class_name\": \"HeavyOp1\",\\n      \"code\": \"eJxtVFtPG0cU3l2v7fWFSykNTaVWKOkDkYobIIFSoSrUJm1qxakAqU/RaLwze8HrmWV3BkK1riqhqEKaPnX6Dv+q/6Y9szYlD6xkz5lzzpz7d353/96vWeWnVvyES5LG/iihnQ9orR6ijEYXJMOConxEEyo4Q36C81z/pdciSy2jMR7dJ1PeUMaJiFmulSsuUgpM5f1I8dnFm3RDq08z/CvPOj7PaGeYcH+Uzw6tqt8bAvTf64lWdYQI9xHSg1ytfrNDnu8EG/4zPwie7W49HT7d3d7cDnbwxmbg72z5eiD0IbxaU02ExpzIhMJL5cEFx8yQlUwyDYHPoyBOEhRI5ouYs1k6C3fplCJgA3cOzXJB/yfS5YQem8t78LfWr/Stfrtf63e7/xCbWIk1qZSnPXEL68S5rhDnxratonLtFvaNPanOuJWS615XiqncIe5Da1KDswpnXVRJTdSK6qV96dgWqROPNEiTtEg7rE08sFa/sSaNdwPhkTkyf+n0rLcvJs2iWnjwulW0rhsgb5EF0SxqRXPFurRXrKJFFvcs0TppF62ivmdimisaRSuECCaN099+sYrGybxYIB9d2mSJfPyn8WwdWXpt0LdU85BiErNwlQRaLd1dVntvBgedTkerxsGgh44P918NtKod7x/+cHCsVes4g/qvZvw8/1YrJybQ11jQMSopQlNRUjUfTwkvFzAYt6SZPiD7dv9z5RBoog38z14/fwk6Ps6hMeHXmBAUZjHp+PmZvlLVmBH6DrojYBZqKWYEw2TVEx6GoA2eDEUzmM2YBRy8ZJAKMm9VNc1iJmBSEsognR4W+GWGx4CGaoZZCOcCyXiKiEyTGAKmYLiSC7DlsBRIhpnJhDOQASH41OxSmvET6guUp9inKMUiKoNzc5pALd2SUb4LYgjQSYmONpUnTOEQVDt6FD1Wc2VayOeJHBtkebdpQ01iyA9KmhplcPzFXpxeiIiz9ZilUqxvrwNihnSL7pIh9r/T0Sd9t/ulZXu257Ttpt12mg7Q7ry7CDzz8+xl4C85+skTg6qf/oXPQKuFIHp/hEODrYEBF4PyAB0tyz9m8KuHCR/iJDeX6IV6NEU7TuMp4gkUFeVcZlCJMWa4bMVXPydYBDwbm5IflcLXU1nnntoBMvcAm41cDuNxyjNhcFllcpxelKCUyiM0wDIROQTpktgXZp3Mw37LJczWGU4kNaLadE9A9Mo1iUBlVAVWDohW0AfbEIGnqWqu38JIY8Y4jCYsD5Ol8k4lTsr3qn275jpm2ajm6PwuEikOYcuULcnR7CyL1DN/NOqpKim3zH0bcqauFvcFH8d+uSdfGV6Ze4KHNNGDKBgYSJUOTXsyeirjjBJ9JaPu1Ek3Oo0y9eADK0cChj68tRVJYyU6U5aOzq+kVA9QqWUCBjgy6IHPJYCkb0M+nf8AyXlGdQ==\",\\n      \"isPublishedBlock\": false,\\n      \"source\": null,\\n      \"inputProperty\": {\\n        \"config\": {\\n          \"dtype\": \"generic\",\\n          \"required\": \"false\",\\n          \"series\": false,\\n          \"adapter\": \"eJxrYJlqzAABPRJFiVX5RXrJ+UWpekk5+cnZxXqZeQWlJcVTeoScQHxPEE8vMSWxoCS1aMrkKXoAUvYVmA==\",\\n          \"validator\": \"eJxrYJlqygABPRJFiVX5RXrJ+UWpekk5+cnZxXqZeQWlJcVTekScQHxPEE+vLDEnMyWxJL9oyuQpegCAUhaB\",\\n          \"source_id\": \"24a53e33-c255-4f31-bb41-5a409264ffdc\",\\n          \"source_name\": \"config\",\\n          \"inferred_type\": \"BLOCK\",\\n          \"value\": null\\n        },\\n        \"path\": {\\n          \"dtype\": \"string\",\\n          \"required\": \"false\",\\n          \"series\": false,\\n          \"adapter\": \"eJxrYJkazgABPUpFiVX5RXqJBZl6yflFqXopiSWJ8cX5pUXJqfG5iXmJ6alFU3p0AnISS9Lyi3JdgLLBYElfiJxeQVF+VmpySXxxQSJQR0FiScaUyVP0AGu0JDo=\",\\n          \"validator\": \"eJxrYJnqyAABPRJFiVX5RXrJ+UWpekk5+cnZxXqZeQWlJcVTehQcS/JzM5OdQKLBJUWZeemeIBm9ssSczJTEkvyiKZOn6AEArzAbbQ==\",\\n          \"source_id\": null,\\n          \"source_name\": null,\\n          \"inferred_type\": \"STATIC\",\\n          \"value\": \"eJxrYJkqxwABPVK+pm75RanJicUlmXnp+iVFiZl58SlpesnFZVP0ANu4DIc=\"\\n        }\\n      },\\n      \"outputProperty\": {},\\n      \"resourceRequirement\": {\\n        \"cores\": 2,\\n        \"memory\": 8192,\\n        \"useGpu\": false,\\n        \"gpu\": 0,\\n        \"useGpuIfAvailable\": false,\\n        \"runEnv\": \"PYTHON\",\\n        \"additionalResourceSpec\": {}\\n      },\\n      \"executionType\": \"BlockExecutor\",\\n      \"dependencies\": [],\\n      \"system_dependencies\": null,\\n      \"meta_data\": null,\\n      \"eta\": 0\\n    },\\n    {\\n      \"name\": \"Configs_1\",\\n      \"id\": \"24a53e33-c255-4f31-bb41-5a409264ffdc\",\\n      \"artifact_id\": null,\\n      \"class_name\": \"Configs\",\\n      \"code\": \"eJxtU0tvEzEQzm6etGqhUqEUCcSBQzg0NEnTphJCKmmKStRFCj1wQZbXdrKrOOuwtouCWolL1YtvmBsH+I/cYbxJ1PLwauXxfPP4xjP+XPj6M5/LltkgXGg6icmIs9oN2ZpNlLJoSlOsGJIjxpkSCSIcS2m/2GqUM+tojEf/w0wl1DFXcSKtKajphIHSlDsiGcRDUN1P8SeR1ohIWS3kgozkfLOm+NIJYH5pL8AFISoIQjaQ5vHubr3V3sa0Xd/f2Wns4XZju9lshGFrv07rjXDPBsr2watqlhAaC6o5A09TgQOOEyfmU51Y4L2KBjHnaKATomKRzKu5fV1NBoEatCtoXgpa1FHpCMpO3eES8lV7fi/Xy/fKvU7nCfWoT/O0MPRpkZZomVa+lS78c+977tz/4Xk5mnubs9XAFCXmTNqTadn4MbXGg7960jqCCyFYQrLhs8wCqdRRP8M8pthRrRF5Zs3Dv0wZFDNJY8LkDH/wJ04gVEJxmoFVUzo96L/qnlpzqxscotP+wXFgzdIJbOg4OOy+g8Ms7QSrCKxmkREdWLOyCDXDFHwmP9EKbsIUgAaYlEjWZdDTmNgrax49jydTFYlkK07AdKu51WLt+gCzZrtN2Qsb3e3lO3dyed/zfd8rwO97Fd8+feq6+foXLNfSZQQpyQgPXU8D19QEj50creuredvLQy5CzKWbnAplA6y5kmBcACbKKVdhvKVOmbtQzRxUms0JRDEFFxDYAHFBANpANx4DkjqcmUr73pplnCRCZR2ZZfugMc/8zfJ8ymtu1szS6OM1Ea36Zg0JreAaJFoI4B/VgX7UjeqmSLMpM5v/vpCFuVk7UGIck+yhvMmUbiqLHIeM2yA6CrQ091AGIwRPUOGEMESETpTteUCi9hvonID6\",\\n      \"isPublishedBlock\": false,\\n      \"source\": null,\\n      \"inputProperty\": {},\\n      \"outputProperty\": {\\n        \"config\": {\\n          \"series\": false,\\n          \"adapter\": \"eJxrYJlqygABPZJFiVX5RXrJ+UWpekk5+cnZxXr5pSUFpSXFU3qEnUAC/mCuXmJKYkFJatGUyVP0AIR/Fp4=\",\\n          \"transport\": \"FILE\"\\n        }\\n      },\\n      \"resourceRequirement\": {\\n        \"cores\": 1,\\n        \"memory\": 1024,\\n        \"useGpu\": false,\\n        \"gpu\": 0,\\n        \"useGpuIfAvailable\": false,\\n        \"runEnv\": \"PYTHON\",\\n        \"additionalResourceSpec\": {}\\n      },\\n      \"executionType\": \"BlockExecutor\",\\n      \"dependencies\": [],\\n      \"system_dependencies\": null,\\n      \"meta_data\": null,\\n      \"eta\": 0\\n    }\\n  ],\\n  \"connections\": [\\n    {\\n      \"source_block_id\": \"24a53e33-c255-4f31-bb41-5a409264ffdc\",\\n      \"target_block_id\": \"15f144a9-9a32-4531-9756-4b6c8d1513d9\",\\n      \"source_output\": \"config\",\\n      \"target_input\": \"config\"\\n    }\\n  ],\\n  \"priority\": \"LOW\",\\n  \"infraResourceEstimation\": null,\\n  \"resourceRequirement\": {},\\n  \"comments\": null,\\n  \"order\": null,\\n  \"uiData\": null,\\n  \"dom\": null,\\n  \"systemGenerated\": false,\\n  \"systemModel\": false,\\n  \"pipelineVariableList\": [],\\n  \"pipelineTemplateVersion\": 0.0,\\n  \"versionId\": null,\\n  \"engineId\": \"65ed2499-f8c9-4c4d-ad27-aa689bd1531e\",\\n  \"userId\": \"c4080201-ccc9-4657-a457-7e18c100ff28\",\\n  \"runInitiatedFrom\": \"JUPYTER\"\\n}', dom='Yet to add', order=None, infra_resource='{\\n  \"zookeeper\": {\\n    \"cores\": 1,\\n    \"memory\":  1024\\n  },\\n  \"kafka\": {\\n    \"cores\": 1,\\n    \"memory\": 1024,\\n    \"additionalResourceSpec\":{}\\n  }\\n}', resource_spec={}, engine_id='65ed2499-f8c9-4c4d-ad27-aa689bd1531e', run_initiated_from='JUPYTER')"
      ]
     },
     "execution_count": 11,
     "metadata": {},
     "output_type": "execute_result"
    }
   ],
   "source": [
    "deployed_pipeline"
   ]
  },
  {
   "cell_type": "code",
   "execution_count": 12,
   "metadata": {},
   "outputs": [],
   "source": [
    "# deployed_pipeline.run_status()"
   ]
  },
  {
   "cell_type": "code",
   "execution_count": 13,
   "metadata": {},
   "outputs": [],
   "source": [
    "# # Remove some temoprary DFs\n",
    "# del temp_df, add_grid\n",
    "\n",
    "# # We will not need original train_df\n",
    "# # anymore and can remove it\n",
    "# del train_df"
   ]
  },
  {
   "cell_type": "code",
   "execution_count": 6,
   "metadata": {},
   "outputs": [],
   "source": [
    "@inputs.atomic.string('grid_df_path')\n",
    "@inputs.atomic.string('add_grid_path')\n",
    "@inputs.atomic.generic('config')\n",
    "class HeavyOp2(Block):\n",
    "    def run(self, grid_df_path, add_grid_path, config):\n",
    "        \n",
    "        def sizeof_fmt(num, suffix='B'):\n",
    "            for unit in ['','Ki','Mi','Gi','Ti','Pi','Ei','Zi']:\n",
    "                if abs(num) < 1024.0:\n",
    "                    return \"%3.1f%s%s\" % (num, unit, suffix)\n",
    "                num /= 1024.0\n",
    "            return \"%.1f%s%s\" % (num, 'Yi', suffix)\n",
    "        \n",
    "        \n",
    "        grid_df = pd.read_csv(grid_df_path)\n",
    "        add_grid = pd.read_csv(add_grid_path)\n",
    "\n",
    "        grid_df = pd.concat([grid_df,add_grid])\n",
    "        grid_df = grid_df.reset_index(drop=True)\n",
    "\n",
    "\n",
    "        # Let's check our memory usage\n",
    "        self.logger.info(\"{:>20}: {:>8}\".format('Original grid_df', sizeof_fmt(grid_df.memory_usage(index=True).sum())))\n",
    "\n",
    "        # We can free some memory \n",
    "        # by converting \"strings\" to categorical\n",
    "        # it will not affect merging and \n",
    "        # we will not lose any valuable data\n",
    "        index_columns = config['index_columns']\n",
    "        for col in index_columns:\n",
    "            grid_df[col] = grid_df[col].astype('category')\n",
    "\n",
    "        # Let's check again memory usage\n",
    "        self.logger.info(\"{:>20}: {:>8}\".format('Reduced grid_df', sizeof_fmt(grid_df.memory_usage(index=True).sum())))\n",
    "\n",
    "        grid_df.to_csv(project_space_path('M5Forecasting/grid_df_int.csv'))\n"
   ]
  },
  {
   "cell_type": "code",
   "execution_count": 7,
   "metadata": {},
   "outputs": [],
   "source": [
    "heavy_op2 = (\n",
    "    HeavyOp2()\n",
    "    .config(configs.config)  # (series, string)\n",
    "    .add_grid_path('M5Forecasting/add_grid.csv', adapter=project_space_path)  # (series, string)\n",
    "    .grid_df_path('M5Forecasting/grid_df.csv', adapter=project_space_path)  # (series, string)\n",
    "    .executor(ContainerExecutor(cores=2, memory=13000))\n",
    ")"
   ]
  },
  {
   "cell_type": "code",
   "execution_count": 8,
   "metadata": {},
   "outputs": [],
   "source": [
    "p = Pipeline(\"heavy_op2\", targets=[heavy_op2], env=Technology.PYTHON)  #preprocess\n"
   ]
  },
  {
   "cell_type": "code",
   "execution_count": 9,
   "metadata": {},
   "outputs": [
    {
     "data": {
      "application/vnd.razorthink.interactive+pipeline+view+json": {
       "blocks": [
        {
         "class_name": "Configs",
         "id": "28b2d878-059e-4721-98f4-5ca8dfc4be43",
         "inputs": [],
         "outputs": [
          {
           "doc": null,
           "dtype": "generic",
           "flow": "series",
           "label": null,
           "name": "config"
          }
         ],
         "overwritten": false,
         "var_names": [
          "Configs"
         ]
        },
        {
         "class_name": "HeavyOp2",
         "id": "6dc23c17-e164-44a9-91a0-27008d37371b",
         "inputs": [
          {
           "default": null,
           "doc": null,
           "dtype": "generic",
           "flow": "series",
           "label": null,
           "name": "config",
           "required": false
          },
          {
           "default": "",
           "doc": null,
           "dtype": "string",
           "flow": "series",
           "label": null,
           "name": "add_grid_path",
           "required": false
          },
          {
           "default": "",
           "doc": null,
           "dtype": "string",
           "flow": "series",
           "label": null,
           "name": "grid_df_path",
           "required": false
          }
         ],
         "outputs": [],
         "overwritten": false,
         "var_names": [
          "HeavyOp2"
         ]
        }
       ],
       "connections": [
        {
         "id": "2a7f76f4-5b15-40b9-813d-103f1726a55a",
         "source": {
          "adapter": false,
          "instance_id": "9eb46583-d6aa-466c-842f-5176b5f90e60",
          "name": "config"
         },
         "target": {
          "adapter": false,
          "instance_id": "84a0925c-f269-4384-a449-3f1c536e10c6",
          "name": "config"
         }
        }
       ],
       "id": "33a97297-9b55-41be-bd1b-74bc84d34aa8",
       "instances": [
        {
         "block_class": "6dc23c17-e164-44a9-91a0-27008d37371b",
         "id": "84a0925c-f269-4384-a449-3f1c536e10c6",
         "name": "HeavyOp2_1",
         "var_names": [
          "heavy_op2"
         ]
        },
        {
         "block_class": "28b2d878-059e-4721-98f4-5ca8dfc4be43",
         "id": "9eb46583-d6aa-466c-842f-5176b5f90e60",
         "name": "Configs_1",
         "var_names": [
          "configs"
         ]
        }
       ],
       "name": "heavy_op2",
       "var_names": []
      },
      "image/svg+xml": [
       "<?xml version=\"1.0\" encoding=\"UTF-8\" standalone=\"no\"?>\n",
       "<!DOCTYPE svg PUBLIC \"-//W3C//DTD SVG 1.1//EN\"\n",
       " \"http://www.w3.org/Graphics/SVG/1.1/DTD/svg11.dtd\">\n",
       "<!-- Generated by graphviz version 2.40.1 (20161225.0304)\n",
       " -->\n",
       "<!-- Title: %3 Pages: 1 -->\n",
       "<svg width=\"173pt\" height=\"127pt\"\n",
       " viewBox=\"0.00 0.00 172.83 127.00\" xmlns=\"http://www.w3.org/2000/svg\" xmlns:xlink=\"http://www.w3.org/1999/xlink\">\n",
       "<g id=\"graph0\" class=\"graph\" transform=\"scale(1 1) rotate(0) translate(4 123)\">\n",
       "<title>%3</title>\n",
       "<polygon fill=\"#ffffff\" stroke=\"transparent\" points=\"-4,4 -4,-123 168.8256,-123 168.8256,4 -4,4\"/>\n",
       "<!-- (HeavyOp2) HeavyOp2_1 -->\n",
       "<g id=\"node1\" class=\"node\">\n",
       "<title>(HeavyOp2) HeavyOp2_1</title>\n",
       "<ellipse fill=\"none\" stroke=\"#000000\" cx=\"82.4128\" cy=\"-18\" rx=\"82.3257\" ry=\"18\"/>\n",
       "<text text-anchor=\"middle\" x=\"82.4128\" y=\"-15.5\" font-family=\"Helvetica,sans-Serif\" font-size=\"10.00\" fill=\"#000000\">(HeavyOp2) HeavyOp2_1</text>\n",
       "</g>\n",
       "<!-- (Configs) Configs_1 -->\n",
       "<g id=\"node2\" class=\"node\">\n",
       "<title>(Configs) Configs_1</title>\n",
       "<ellipse fill=\"none\" stroke=\"#000000\" cx=\"82.4128\" cy=\"-101\" rx=\"64.5068\" ry=\"18\"/>\n",
       "<text text-anchor=\"middle\" x=\"82.4128\" y=\"-98.5\" font-family=\"Helvetica,sans-Serif\" font-size=\"10.00\" fill=\"#000000\">(Configs) Configs_1</text>\n",
       "</g>\n",
       "<!-- (Configs) Configs_1&#45;&gt;(HeavyOp2) HeavyOp2_1 -->\n",
       "<g id=\"edge1\" class=\"edge\">\n",
       "<title>(Configs) Configs_1&#45;&gt;(HeavyOp2) HeavyOp2_1</title>\n",
       "<path fill=\"none\" stroke=\"#000000\" d=\"M82.4128,-82.9902C82.4128,-72.2963 82.4128,-58.4994 82.4128,-46.3706\"/>\n",
       "<polygon fill=\"#000000\" stroke=\"#000000\" points=\"85.9129,-46.2612 82.4128,-36.2612 78.9129,-46.2613 85.9129,-46.2612\"/>\n",
       "<text text-anchor=\"middle\" x=\"117.9128\" y=\"-57\" font-family=\"Helvetica,sans-Serif\" font-size=\"10.00\" fill=\"#000000\">config&#45;&gt;config</text>\n",
       "</g>\n",
       "</g>\n",
       "</svg>\n"
      ],
      "text/plain": [
       "<razor.core.pipeline.pipeline.Pipeline at 0x7fd7001dc250>"
      ]
     },
     "metadata": {},
     "output_type": "display_data"
    }
   ],
   "source": [
    "p.show()"
   ]
  },
  {
   "cell_type": "code",
   "execution_count": 10,
   "metadata": {},
   "outputs": [],
   "source": [
    "deployed_pipeline = razor.api.engines('DS-engine').execute(pipeline=p)\n"
   ]
  },
  {
   "cell_type": "code",
   "execution_count": 11,
   "metadata": {},
   "outputs": [
    {
     "data": {
      "application/vnd.razorthink.run+monitor+json": "/home/jovyan/logs/9d8c20fd-f2e3-4b91-8e81-e77327b59e8c",
      "text/plain": [
       "<razor_tools.backend.ipython.mime.run_monitor.RunMonitor at 0x7fd700d27fd0>"
      ]
     },
     "metadata": {
      "application/vnd.razorthink.run+monitor+json": {
       "store_in_notebook": false
      }
     },
     "output_type": "display_data"
    },
    {
     "data": {
      "text/html": [],
      "text/plain": [
       "PlatformPipelineRun(project_id='c0b26d85-a4c9-44f5-9d0e-f540dd2de644', pipeline_id='c0f9dac4-d7d2-11ea-ac4f-b3f45cf275d7', pipeline_name='heavy_op2', pipeline_run_id='9d8c20fd-f2e3-4b91-8e81-e77327b59e8c', pipeline_version=None, comment=None, created_on='2020-08-06T10:51:18.075+0000', start_time=None, end_time=None, eta=0, run_at=1596711078075, run_duration=0, compute_time=0, wait_time=0, ran_by_user=RanByUser(user_name='Ayan Basak', email='ayan.basak@razorthink.com'), status='IN_PROGRESS', block_status=[PlatformPipelineBlockRun(pipeline_run_id='9d8c20fd-f2e3-4b91-8e81-e77327b59e8c', pipeline_name='heavy_op2', pipeline_status='IN_PROGRESS', block_id='4506d3f7-5b9c-4099-aba3-ce8ae200e43d', block_run_id='cd721462-663b-4e07-ad7b-1c32af4731b0', block_name='Configs_1', resource_spec=ResourceAllocated(cores=1, memory=1024, use_gpu=False, gpu=0, use_gpu_if_available=False, additional_resource_spec={}, run_env='PYTHON'), technology='PYTHON', status='READY_TO_GO', containers=[], cluster_id='4506d3f7-5b9c-4099-aba3-ce8ae200e43d', _log=None, _metric=None, wait_time=0, compute_time=0, start_time=None, end_time=None, queued_at='2020-08-06T10:51:18.000+0000'), PlatformPipelineBlockRun(pipeline_run_id='9d8c20fd-f2e3-4b91-8e81-e77327b59e8c', pipeline_name='heavy_op2', pipeline_status='IN_PROGRESS', block_id='e5e3e8de-9c7f-4c65-b2cf-a88160bce5e7', block_run_id='7bd0687b-15dc-4b03-a8a9-a3892b0e503d', block_name='HeavyOp2_1', resource_spec=ResourceAllocated(cores=2, memory=13000, use_gpu=False, gpu=0, use_gpu_if_available=False, additional_resource_spec={}, run_env='PYTHON'), technology='PYTHON', status='YET_TO_START', containers=[], cluster_id='e5e3e8de-9c7f-4c65-b2cf-a88160bce5e7', _log=None, _metric=None, wait_time=0, compute_time=0, start_time=None, end_time=None, queued_at=None)], run_number=42, pipeline_variable_list=[], block_run_details=[BlockRunDetail(block_id='4506d3f7-5b9c-4099-aba3-ce8ae200e43d', block_run_id='cd721462-663b-4e07-ad7b-1c32af4731b0', block_name='Configs_1', technology='PYTHON', log_path=None, input_parameters='{}', output_parameters=None, status='READY_TO_GO', created_at='2020-08-06T10:51:18.103+0000', queued_at='2020-08-06T10:51:18.000+0000', start_time=None, end_time=None, compute_time=0, wait_time=0, run_time=0, block_run_output_list=[BlockRunOutputList(output_id='11a8ff10-01a7-420c-b117-baabeb523a52', output_name='config', created_on='2020-08-06T10:51:18.104+0000', output_status='YET_TO_START', block_transport='FILE')], resource_allocated=ResourceAllocated(cores=1, memory=1024, use_gpu=False, gpu=0, use_gpu_if_available=False, additional_resource_spec={}, run_env='PYTHON')), BlockRunDetail(block_id='e5e3e8de-9c7f-4c65-b2cf-a88160bce5e7', block_run_id='7bd0687b-15dc-4b03-a8a9-a3892b0e503d', block_name='HeavyOp2_1', technology='PYTHON', log_path=None, input_parameters=None, output_parameters=None, status='YET_TO_START', created_at='2020-08-06T10:51:18.126+0000', queued_at=None, start_time=None, end_time=None, compute_time=0, wait_time=0, run_time=0, block_run_output_list=[], resource_allocated=ResourceAllocated(cores=2, memory=13000, use_gpu=False, gpu=0, use_gpu_if_available=False, additional_resource_spec={}, run_env='PYTHON'))], pipeline_json='{\\n  \"id\": \"c0f9dac4-d7d2-11ea-ac4f-b3f45cf275d7\",\\n  \"projectId\": \"c0b26d85-a4c9-44f5-9d0e-f540dd2de644\",\\n  \"name\": \"heavy_op2\",\\n  \"description\": \"\",\\n  \"blocks\": [\\n    {\\n      \"name\": \"HeavyOp2_1\",\\n      \"id\": \"e5e3e8de-9c7f-4c65-b2cf-a88160bce5e7\",\\n      \"artifact_id\": null,\\n      \"class_name\": \"HeavyOp2\",\\n      \"code\": \"eJx1VG1vE0cQvndfnARQBaF8IIoQqYzUuCYlJCAUFUJLW4uAEiBqJbRa3+75Lj7fXm53aUJtiQpSirRIlbr9nvyN/qP+inb27LxUSh1lb2bnfXbmeeP9+XdgVT91OcqYJEUa9TLaPEVrdQWVNNkjJRYU8R7NqGA5ijLMuf5DNxJLXUR93DtLpsKOTDOR5lwrT+wVFC5V+C3Fr/aeFItafVri16xsRqykzU7Goh4ff7TyHxgC9Pf1UKsaQoRFCOl1ruZuLrVad1qdOFqKW7cWO3fw8gppxbeWWytk8Q6I9LrQG2DVUHWE+ozIjIKlCoHBaW5It5S5hsTPoTjNMhTLPBIpy8flnD8ppxLBNdxOo3Et6LiQNUboM8PsQ7xG22tb7Qn4W1v7i0wTh7jv7KEnrAN7YB/aQ7+iHKACoJyBPwi6hvMH/rZLPOJ/NLS17R34JDgISG3ggaQGkvCjfRAeWm/tQ9C3rYFLJq5Yw9ru7KD20Ho5MwzBV3jFOpgg9UPb0Pesne0t65Svyf/15R/UxSSZAh44Ym1aurGu7Ac6mW20HajHbfvtzbXV3SaxIdZnQ0eA37c2cXpWeZ24A2vgDOzYnQHLgUWcq9bQ2gm2LOIB5x9JwGdDWVo57RSOx+Z4ZI5n5nhqjq/N8WOqhX701e/jgZyY/7J5M57n8zAN4fwx6fxg1JSLOxz6rtxc9rUKuIzjdBemTOap0O+1mr2XFnsiYflCmhdSLNxewFGLLNPFm6SzsryqVZ2nrymLUdwXul1bq1t23Z6yz8G/vnHDDJCaOxrUJoxL8x7MI874avOU3W/KIyUrTB7TP99dXWwN787BdwUm9sKTMu2mOc7mumVKEIlhpNOc0N1KuaJQxDLZN7sRRrBbXVbuaXV+gxIZUXJidvXx0jewIBHmMHzdL8b3KM1FM+KvdDK3D/1oKKcg4KikmCBzrYKI5eBWq8mScirQKLgKMtbt0hI6leYxAz5mZd+oTfVpHzJAkuMuLL3Lq75CUDPgKhBs5PaTomTbNBKIFziiqMAiqcJ7nGaQ7NRRepVATWNCUHU14k1ScdrVyW1VOy4wPFLSyX3lQlPAYbKUXGr7azOWUw/rdt2Bd/GuByG80Yx73Rm/0Pf/wM/s+SQC/1EPEjcQYTY9x31DJxfl+zEW1LoZ68ADGibZUNdG0IOLdAQ/BAuMOJMlFNXHOa569PnTDAvToIcg3ayEj0ey5hltAJh4BEAxwWUn7ResFAYkggLnBPMKIqQKCY2xzASHLD2SRsKA2zlAWy5Lil7hTFIjCkaoBekrz1Sik0vKBQAE0WV0CpsRhBqpcv0SXhrnORPYQJkpU4U7EmeVvZo6Pcsw/L2fTjKRYgMwr1oTjsbfqktb5hDJlvLJaArOwOuxurpwX7B+GlWo/Z25M8X7Ge7QTK8ncl3VxgHN+5R0R6YlJfqDTF6MgrxI3iS/qJlTXjZFCfN+5Ct5Z7wk+8m15Fewej6yeg5WH/4rkmoGVfamFC5wDs8TMZnDlttQafNfkWmCYQ==\",\\n      \"isPublishedBlock\": false,\\n      \"source\": null,\\n      \"inputProperty\": {\\n        \"config\": {\\n          \"dtype\": \"generic\",\\n          \"required\": \"false\",\\n          \"series\": false,\\n          \"adapter\": \"eJxrYJlqzAABPRJFiVX5RXrJ+UWpekk5+cnZxXqZeQWlJcVTeoScQHxPEE8vMSWxoCS1aMrkKXoAUvYVmA==\",\\n          \"validator\": \"eJxrYJlqygABPRJFiVX5RXrJ+UWpekk5+cnZxXqZeQWlJcVTekScQHxPEE+vLDEnMyWxJL9oyuQpegCAUhaB\",\\n          \"source_id\": \"4506d3f7-5b9c-4099-aba3-ce8ae200e43d\",\\n          \"source_name\": \"config\",\\n          \"inferred_type\": \"BLOCK\",\\n          \"value\": null\\n        },\\n        \"add_grid_path\": {\\n          \"dtype\": \"string\",\\n          \"required\": \"false\",\\n          \"series\": false,\\n          \"adapter\": \"eJxrYJkazgABPUpFiVX5RXqJBZl6yflFqXopiSWJ8cX5pUXJqfG5iXmJ6alFU3p0AnISS9Lyi3JdgLLBYElfiJxeQVF+VmpySXxxQSJQR0FiScaUyVP0AGu0JDo=\",\\n          \"validator\": \"eJxrYJnqyAABPRJFiVX5RXrJ+UWpekk5+cnZxXqZeQWlJcVTehQcS/JzM5OdQKLBJUWZeemeIBm9ssSczJTEkvyiKZOn6AEArzAbbQ==\",\\n          \"source_id\": null,\\n          \"source_name\": null,\\n          \"inferred_type\": \"STATIC\",\\n          \"value\": \"eJxrYJkqxwABPVK+pm75RanJicUlmXnp+okpKfHpRZkpesnFZVP0ANotDG4=\"\\n        },\\n        \"grid_df_path\": {\\n          \"dtype\": \"string\",\\n          \"required\": \"false\",\\n          \"series\": false,\\n          \"adapter\": \"eJxrYJkazgABPUpFiVX5RXqJBZl6yflFqXopiSWJ8cX5pUXJqfG5iXmJ6alFU3p0AnISS9Lyi3JdgLLBYElfiJxeQVF+VmpySXxxQSJQR0FiScaUyVP0AGu0JDo=\",\\n          \"validator\": \"eJxrYJnqyAABPRJFiVX5RXrJ+UWpekk5+cnZxXqZeQWlJcVTehQcS/JzM5OdQKLBJUWZeemeIBm9ssSczJTEkvyiKZOn6AEArzAbbQ==\",\\n          \"source_id\": null,\\n          \"source_name\": null,\\n          \"inferred_type\": \"STATIC\",\\n          \"value\": \"eJxrYJkqywABPZK+pm75RanJicUlmXnp+ulFmSnxKWl6ycVlU/QAzfQMDQ==\"\\n        }\\n      },\\n      \"outputProperty\": {},\\n      \"resourceRequirement\": {\\n        \"cores\": 2,\\n        \"memory\": 13000,\\n        \"useGpu\": false,\\n        \"gpu\": 0,\\n        \"useGpuIfAvailable\": false,\\n        \"runEnv\": \"PYTHON\",\\n        \"additionalResourceSpec\": {}\\n      },\\n      \"executionType\": \"BlockExecutor\",\\n      \"dependencies\": [],\\n      \"system_dependencies\": null,\\n      \"meta_data\": null,\\n      \"eta\": 0\\n    },\\n    {\\n      \"name\": \"Configs_1\",\\n      \"id\": \"4506d3f7-5b9c-4099-aba3-ce8ae200e43d\",\\n      \"artifact_id\": null,\\n      \"class_name\": \"Configs\",\\n      \"code\": \"eJxtU0tvEzEQzm6eTWhRUaEUCcQxPTSkL7aVEFJJS1VCFyn0wAVZXtvJruKsw9ouFLUSl6oX3zA3DvBLYbxJ1PLYKLuf52F/M/7mS+nbYamQP2aZcKHpOCFDzlo3sDUrKGPxGc2wYkgOGWdKpIhwLKX9aptxwSyhER7+z2dqkU64SlJpTUmdjRkYTbUj0n4yANP9DH8WWYuIjLUiLshQTj/WlF84AOGX9gJSEKKCIGRDaR4HQbTxdDsiJOjjrfVoC5MdFmyur7fX27vtLRrYUNkeZDVNHaGRoJozyDQ1WOAkdbCY6dQC7wXUTzhHfZ0SlYh0Ws3t62pyF5jBOo+mpaBZHbWOoOzELS7hvGbX7xa6xe5ct9PZoB71aZGWBu5dphVapTU6N6jQOm3QW3T+e/XCP/d+FM79n55XoIW3BdsMTVlizqQ9PqsaP6HWePCvJoqNkFtVKRurHFUInoCaVNC6GXTX42DzePslmAmWwHbwJN8UqczVfop5QrGrtUXkqTUP/wpl0I1xlhAmJ/4Hf/oJbJVSnOXOpqmc7PUOD06smTsI99FJb+8otKZ+DB90FO4fvLNmPkkp+4SI4HrkNFCf0BhjFUPW5CRE+xA423riU/AzxbFW0FpTAlp9V3UuG7DThNgrax49S8ZnKhbpWpJC6NrW2u5OGwebO7t4BwfPbXy3W+zcKRR9z/d9r+QveIC8mm9XV51AXv2Cx6mkgeBQMsQDJ5PQ6STFI4fjJX01VVJ1wEWEuXRirFHWx5orCcEl4KKccQEmRmq4DGixZs5VmUgPdjEltyHwAeqCgGsZ3ZgvJHU0CZX2vTUNnKZC5Xc0Oe2DxjzPN43p4LScfE19+PGaiFY9s4iEVtAIiWYA8uMA6MfdODBlmgvXrPw7dLNws7inxCgh+ey9yY1O6GWOI8ZtGL8OtTT3UO5GCKZa4ZQwuF6dKtv1gETrN0fznt4=\",\\n      \"isPublishedBlock\": false,\\n      \"source\": null,\\n      \"inputProperty\": {},\\n      \"outputProperty\": {\\n        \"config\": {\\n          \"series\": false,\\n          \"adapter\": \"eJxrYJlqygABPZJFiVX5RXrJ+UWpekk5+cnZxXr5pSUFpSXFU3qEnUAC/mCuXmJKYkFJatGUyVP0AIR/Fp4=\",\\n          \"transport\": \"FILE\"\\n        }\\n      },\\n      \"resourceRequirement\": {\\n        \"cores\": 1,\\n        \"memory\": 1024,\\n        \"useGpu\": false,\\n        \"gpu\": 0,\\n        \"useGpuIfAvailable\": false,\\n        \"runEnv\": \"PYTHON\",\\n        \"additionalResourceSpec\": {}\\n      },\\n      \"executionType\": \"BlockExecutor\",\\n      \"dependencies\": [],\\n      \"system_dependencies\": null,\\n      \"meta_data\": null,\\n      \"eta\": 0\\n    }\\n  ],\\n  \"connections\": [\\n    {\\n      \"source_block_id\": \"4506d3f7-5b9c-4099-aba3-ce8ae200e43d\",\\n      \"target_block_id\": \"e5e3e8de-9c7f-4c65-b2cf-a88160bce5e7\",\\n      \"source_output\": \"config\",\\n      \"target_input\": \"config\"\\n    }\\n  ],\\n  \"priority\": \"LOW\",\\n  \"infraResourceEstimation\": null,\\n  \"resourceRequirement\": {},\\n  \"comments\": null,\\n  \"order\": null,\\n  \"uiData\": null,\\n  \"dom\": null,\\n  \"systemGenerated\": false,\\n  \"systemModel\": false,\\n  \"pipelineVariableList\": [],\\n  \"pipelineTemplateVersion\": 0.0,\\n  \"versionId\": null,\\n  \"engineId\": \"65ed2499-f8c9-4c4d-ad27-aa689bd1531e\",\\n  \"userId\": \"c4080201-ccc9-4657-a457-7e18c100ff28\",\\n  \"runInitiatedFrom\": \"JUPYTER\"\\n}', dom='Yet to add', order=None, infra_resource='{\\n  \"zookeeper\": {\\n    \"cores\": 1,\\n    \"memory\":  1024\\n  },\\n  \"kafka\": {\\n    \"cores\": 1,\\n    \"memory\": 1024,\\n    \"additionalResourceSpec\":{}\\n  }\\n}', resource_spec={}, engine_id='65ed2499-f8c9-4c4d-ad27-aa689bd1531e', run_initiated_from='JUPYTER')"
      ]
     },
     "execution_count": 11,
     "metadata": {},
     "output_type": "execute_result"
    }
   ],
   "source": [
    "deployed_pipeline"
   ]
  },
  {
   "cell_type": "code",
   "execution_count": null,
   "metadata": {},
   "outputs": [],
   "source": []
  },
  {
   "cell_type": "code",
   "execution_count": 12,
   "metadata": {},
   "outputs": [],
   "source": [
    "@inputs.atomic.string('grid_df_path')\n",
    "@inputs.atomic.generic('config')\n",
    "class HeavyOp3(Block):\n",
    "    def run(self, grid_df_path, config):\n",
    "        from razor.api import project_space_path\n",
    "        \n",
    "        def sizeof_fmt(num, suffix='B'):\n",
    "            for unit in ['','Ki','Mi','Gi','Ti','Pi','Ei','Zi']:\n",
    "                if abs(num) < 1024.0:\n",
    "                    return \"%3.1f%s%s\" % (num, unit, suffix)\n",
    "                num /= 1024.0\n",
    "            return \"%.1f%s%s\" % (num, 'Yi', suffix)\n",
    "\n",
    "        self.logger.info('Release week')\n",
    "        \n",
    "        def merge_by_concat(df1, df2, merge_on):\n",
    "            merged_gf = df1[merge_on]\n",
    "            merged_gf = merged_gf.merge(df2, on=merge_on, how='left')\n",
    "            new_columns = [col for col in list(merged_gf) if col not in merge_on]\n",
    "            df1 = pd.concat([df1, merged_gf[new_columns]], axis=1)\n",
    "            return df1\n",
    "\n",
    "        \n",
    "        prices_df = pd.read_csv(project_space_path(config['prices_path']))\n",
    "        grid_df = pd.read_csv(grid_df_path)\n",
    "        calendar_df = pd.read_csv(project_space_path(config['calendar_path']))\n",
    "        # Prices are set by week\n",
    "        # so it we will have not very accurate release week \n",
    "        release_df = prices_df.groupby(['store_id','item_id'])['wm_yr_wk'].agg(['min']).reset_index()\n",
    "        release_df.columns = ['store_id','item_id','release']\n",
    "        self.logger.info('Release Df')\n",
    "        self.logger.info(release_df.head())\n",
    "        \n",
    "        # Now we can merge release_df\n",
    "        grid_df = merge_by_concat(grid_df, release_df, ['store_id','item_id'])\n",
    "        del release_df\n",
    "\n",
    "\n",
    "        grid_df = merge_by_concat(grid_df, calendar_df[['wm_yr_wk','d']], ['d'])\n",
    "\n",
    "        # Now we can cutoff some rows \n",
    "        # and safe memory \n",
    "        grid_df = grid_df[grid_df['wm_yr_wk']>=grid_df['release']]\n",
    "        grid_df = grid_df.reset_index(drop=True)\n",
    "\n",
    "        # Let's check our memory usage\n",
    "        self.logger.info(\"{:>20}: {:>8}\".format('Original grid_df',sizeof_fmt(grid_df.memory_usage(index=True).sum())))\n",
    "\n",
    "        grid_df['release'] = grid_df['release'] - grid_df['release'].min()\n",
    "        grid_df['release'] = grid_df['release'].astype(np.int16)\n",
    "\n",
    "        # Let's check again memory usage\n",
    "        self.logger.info(\"{:>20}: {:>8}\".format('Reduced grid_df',sizeof_fmt(grid_df.memory_usage(index=True).sum())))\n",
    "\n",
    "        grid_df.to_pickle(project_space_path('M5Forecasting/m5-simple-fe/grid_part_1.pkl'))\n",
    "        grid_df.to_csv(project_space_path('M5Forecasting/grid_df_final.pkl'))\n",
    "                       \n",
    "                       "
   ]
  },
  {
   "cell_type": "code",
   "execution_count": 13,
   "metadata": {},
   "outputs": [],
   "source": [
    "heavy_op3 = (\n",
    "    HeavyOp3()\n",
    "    .config(configs.config)  # (series, generic)\n",
    "    .grid_df_path('M5Forecasting/grid_df_int.csv', adapter=project_space_path)  # (series, string)\n",
    "    .executor(ContainerExecutor(cores=2, memory=20000))\n",
    ")"
   ]
  },
  {
   "cell_type": "code",
   "execution_count": 14,
   "metadata": {},
   "outputs": [],
   "source": [
    "p = Pipeline(\"heavy_op3\", targets=[heavy_op3], env=Technology.PYTHON)  #preprocess\n"
   ]
  },
  {
   "cell_type": "code",
   "execution_count": 15,
   "metadata": {},
   "outputs": [
    {
     "data": {
      "application/vnd.razorthink.interactive+pipeline+view+json": {
       "blocks": [
        {
         "class_name": "HeavyOp3",
         "id": "2f59f7af-4971-4b48-9b6a-4f80a240248f",
         "inputs": [
          {
           "default": null,
           "doc": null,
           "dtype": "generic",
           "flow": "series",
           "label": null,
           "name": "config",
           "required": false
          },
          {
           "default": "",
           "doc": null,
           "dtype": "string",
           "flow": "series",
           "label": null,
           "name": "grid_df_path",
           "required": false
          }
         ],
         "outputs": [],
         "overwritten": false,
         "var_names": [
          "HeavyOp3"
         ]
        },
        {
         "class_name": "Configs",
         "id": "2dd902b5-2331-4519-8753-755eab833916",
         "inputs": [],
         "outputs": [
          {
           "doc": null,
           "dtype": "generic",
           "flow": "series",
           "label": null,
           "name": "config"
          }
         ],
         "overwritten": false,
         "var_names": [
          "Configs"
         ]
        }
       ],
       "connections": [
        {
         "id": "31eee9a7-50b9-44a5-b595-ac42590d1423",
         "source": {
          "adapter": false,
          "instance_id": "27749091-1618-4582-9016-3135e63438a4",
          "name": "config"
         },
         "target": {
          "adapter": false,
          "instance_id": "88d9f07d-3b79-4950-8221-0bec2dc7f001",
          "name": "config"
         }
        }
       ],
       "id": "c990831a-2366-4c84-b082-b6abe19b4723",
       "instances": [
        {
         "block_class": "2f59f7af-4971-4b48-9b6a-4f80a240248f",
         "id": "88d9f07d-3b79-4950-8221-0bec2dc7f001",
         "name": "HeavyOp3_1",
         "var_names": [
          "heavy_op3"
         ]
        },
        {
         "block_class": "2dd902b5-2331-4519-8753-755eab833916",
         "id": "27749091-1618-4582-9016-3135e63438a4",
         "name": "Configs_1",
         "var_names": [
          "configs"
         ]
        }
       ],
       "name": "heavy_op3",
       "var_names": []
      },
      "image/svg+xml": [
       "<?xml version=\"1.0\" encoding=\"UTF-8\" standalone=\"no\"?>\n",
       "<!DOCTYPE svg PUBLIC \"-//W3C//DTD SVG 1.1//EN\"\n",
       " \"http://www.w3.org/Graphics/SVG/1.1/DTD/svg11.dtd\">\n",
       "<!-- Generated by graphviz version 2.40.1 (20161225.0304)\n",
       " -->\n",
       "<!-- Title: %3 Pages: 1 -->\n",
       "<svg width=\"173pt\" height=\"127pt\"\n",
       " viewBox=\"0.00 0.00 172.83 127.00\" xmlns=\"http://www.w3.org/2000/svg\" xmlns:xlink=\"http://www.w3.org/1999/xlink\">\n",
       "<g id=\"graph0\" class=\"graph\" transform=\"scale(1 1) rotate(0) translate(4 123)\">\n",
       "<title>%3</title>\n",
       "<polygon fill=\"#ffffff\" stroke=\"transparent\" points=\"-4,4 -4,-123 168.8256,-123 168.8256,4 -4,4\"/>\n",
       "<!-- (HeavyOp3) HeavyOp3_1 -->\n",
       "<g id=\"node1\" class=\"node\">\n",
       "<title>(HeavyOp3) HeavyOp3_1</title>\n",
       "<ellipse fill=\"none\" stroke=\"#000000\" cx=\"82.4128\" cy=\"-18\" rx=\"82.3257\" ry=\"18\"/>\n",
       "<text text-anchor=\"middle\" x=\"82.4128\" y=\"-15.5\" font-family=\"Helvetica,sans-Serif\" font-size=\"10.00\" fill=\"#000000\">(HeavyOp3) HeavyOp3_1</text>\n",
       "</g>\n",
       "<!-- (Configs) Configs_1 -->\n",
       "<g id=\"node2\" class=\"node\">\n",
       "<title>(Configs) Configs_1</title>\n",
       "<ellipse fill=\"none\" stroke=\"#000000\" cx=\"82.4128\" cy=\"-101\" rx=\"64.5068\" ry=\"18\"/>\n",
       "<text text-anchor=\"middle\" x=\"82.4128\" y=\"-98.5\" font-family=\"Helvetica,sans-Serif\" font-size=\"10.00\" fill=\"#000000\">(Configs) Configs_1</text>\n",
       "</g>\n",
       "<!-- (Configs) Configs_1&#45;&gt;(HeavyOp3) HeavyOp3_1 -->\n",
       "<g id=\"edge1\" class=\"edge\">\n",
       "<title>(Configs) Configs_1&#45;&gt;(HeavyOp3) HeavyOp3_1</title>\n",
       "<path fill=\"none\" stroke=\"#000000\" d=\"M82.4128,-82.9902C82.4128,-72.2963 82.4128,-58.4994 82.4128,-46.3706\"/>\n",
       "<polygon fill=\"#000000\" stroke=\"#000000\" points=\"85.9129,-46.2612 82.4128,-36.2612 78.9129,-46.2613 85.9129,-46.2612\"/>\n",
       "<text text-anchor=\"middle\" x=\"117.9128\" y=\"-57\" font-family=\"Helvetica,sans-Serif\" font-size=\"10.00\" fill=\"#000000\">config&#45;&gt;config</text>\n",
       "</g>\n",
       "</g>\n",
       "</svg>\n"
      ],
      "text/plain": [
       "<razor.core.pipeline.pipeline.Pipeline at 0x7fac4ee2ed90>"
      ]
     },
     "metadata": {},
     "output_type": "display_data"
    }
   ],
   "source": [
    "p.show()"
   ]
  },
  {
   "cell_type": "code",
   "execution_count": 16,
   "metadata": {},
   "outputs": [],
   "source": [
    "deployed_pipeline = razor.api.engines('DS-engine').execute(pipeline=p)\n"
   ]
  },
  {
   "cell_type": "code",
   "execution_count": 17,
   "metadata": {},
   "outputs": [
    {
     "data": {
      "application/vnd.razorthink.run+monitor+json": "/home/jovyan/logs/60a89c90-3231-4759-ab1f-b184c79339cb",
      "text/plain": [
       "<razor_tools.backend.ipython.mime.run_monitor.RunMonitor at 0x7fac4ee7d7d0>"
      ]
     },
     "metadata": {
      "application/vnd.razorthink.run+monitor+json": {
       "store_in_notebook": false
      }
     },
     "output_type": "display_data"
    },
    {
     "data": {
      "text/html": [],
      "text/plain": [
       "PlatformPipelineRun(project_id='c0b26d85-a4c9-44f5-9d0e-f540dd2de644', pipeline_id='9eb65358-d86c-11ea-ad86-431d80c6c5a4', pipeline_name='heavy_op3', pipeline_run_id='60a89c90-3231-4759-ab1f-b184c79339cb', pipeline_version=None, comment=None, created_on='2020-08-07T05:12:45.656+0000', start_time=None, end_time=None, eta=0, run_at=1596777165656, run_duration=0, compute_time=0, wait_time=0, ran_by_user=RanByUser(user_name='Ayan Basak', email='ayan.basak@razorthink.com'), status='IN_PROGRESS', block_status=[PlatformPipelineBlockRun(pipeline_run_id='60a89c90-3231-4759-ab1f-b184c79339cb', pipeline_name='heavy_op3', pipeline_status='IN_PROGRESS', block_id='1312f5ec-9662-41a7-bf21-176bd2a676e9', block_run_id='5ba418f5-417b-4849-8b0c-8abc8a3f47e1', block_name='Configs_1', resource_spec=ResourceAllocated(cores=1, memory=1024, use_gpu=False, gpu=0, use_gpu_if_available=False, additional_resource_spec={}, run_env='PYTHON'), technology='PYTHON', status='READY_TO_GO', containers=[], cluster_id='1312f5ec-9662-41a7-bf21-176bd2a676e9', _log=None, _metric=None, wait_time=0, compute_time=0, start_time=None, end_time=None, queued_at='2020-08-07T05:12:46.000+0000'), PlatformPipelineBlockRun(pipeline_run_id='60a89c90-3231-4759-ab1f-b184c79339cb', pipeline_name='heavy_op3', pipeline_status='IN_PROGRESS', block_id='e58d3952-36e3-4b08-a7e6-ed53e5d24da6', block_run_id='6afe5e7f-df31-42e3-b3fe-6b6aec570efc', block_name='HeavyOp3_1', resource_spec=ResourceAllocated(cores=2, memory=20000, use_gpu=False, gpu=0, use_gpu_if_available=False, additional_resource_spec={}, run_env='PYTHON'), technology='PYTHON', status='YET_TO_START', containers=[], cluster_id='e58d3952-36e3-4b08-a7e6-ed53e5d24da6', _log=None, _metric=None, wait_time=0, compute_time=0, start_time=None, end_time=None, queued_at=None)], run_number=48, pipeline_variable_list=[], block_run_details=[BlockRunDetail(block_id='1312f5ec-9662-41a7-bf21-176bd2a676e9', block_run_id='5ba418f5-417b-4849-8b0c-8abc8a3f47e1', block_name='Configs_1', technology='PYTHON', log_path=None, input_parameters='{}', output_parameters=None, status='READY_TO_GO', created_at='2020-08-07T05:12:45.690+0000', queued_at='2020-08-07T05:12:46.000+0000', start_time=None, end_time=None, compute_time=0, wait_time=0, run_time=0, block_run_output_list=[BlockRunOutputList(output_id='e35e699a-13bc-4cba-b56c-0fdf521db489', output_name='config', created_on='2020-08-07T05:12:45.691+0000', output_status='YET_TO_START', block_transport='FILE')], resource_allocated=ResourceAllocated(cores=1, memory=1024, use_gpu=False, gpu=0, use_gpu_if_available=False, additional_resource_spec={}, run_env='PYTHON')), BlockRunDetail(block_id='e58d3952-36e3-4b08-a7e6-ed53e5d24da6', block_run_id='6afe5e7f-df31-42e3-b3fe-6b6aec570efc', block_name='HeavyOp3_1', technology='PYTHON', log_path=None, input_parameters=None, output_parameters=None, status='YET_TO_START', created_at='2020-08-07T05:12:45.704+0000', queued_at=None, start_time=None, end_time=None, compute_time=0, wait_time=0, run_time=0, block_run_output_list=[], resource_allocated=ResourceAllocated(cores=2, memory=20000, use_gpu=False, gpu=0, use_gpu_if_available=False, additional_resource_spec={}, run_env='PYTHON'))], pipeline_json='{\\n  \"id\": \"9eb65358-d86c-11ea-ad86-431d80c6c5a4\",\\n  \"projectId\": \"c0b26d85-a4c9-44f5-9d0e-f540dd2de644\",\\n  \"name\": \"heavy_op3\",\\n  \"description\": \"\",\\n  \"blocks\": [\\n    {\\n      \"name\": \"HeavyOp3_1\",\\n      \"id\": \"e58d3952-36e3-4b08-a7e6-ed53e5d24da6\",\\n      \"artifact_id\": null,\\n      \"class_name\": \"HeavyOp3\",\\n      \"code\": \"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\",\\n      \"isPublishedBlock\": false,\\n      \"source\": null,\\n      \"inputProperty\": {\\n        \"config\": {\\n          \"dtype\": \"generic\",\\n          \"required\": \"false\",\\n          \"series\": false,\\n          \"adapter\": \"eJxrYJlqzAABPRJFiVX5RXrJ+UWpekk5+cnZxXqZeQWlJcVTeoScQHxPEE8vMSWxoCS1aMrkKXoAUvYVmA==\",\\n          \"validator\": \"eJxrYJlqygABPRJFiVX5RXrJ+UWpekk5+cnZxXqZeQWlJcVTekScQHxPEE+vLDEnMyWxJL9oyuQpegCAUhaB\",\\n          \"source_id\": \"1312f5ec-9662-41a7-bf21-176bd2a676e9\",\\n          \"source_name\": \"config\",\\n          \"inferred_type\": \"BLOCK\",\\n          \"value\": null\\n        },\\n        \"grid_df_path\": {\\n          \"dtype\": \"string\",\\n          \"required\": \"false\",\\n          \"series\": false,\\n          \"adapter\": \"eJxrYJkazgABPUpFiVX5RXqJBZl6yflFqXopiSWJ8cX5pUXJqfG5iXmJ6alFU3p0AnISS9Lyi3JdgLLBYElfiJxeQVF+VmpySXxxQSJQR0FiScaUyVP0AGu0JDo=\",\\n          \"validator\": \"eJxrYJnqyAABPRJFiVX5RXrJ+UWpekk5+cnZxXqZeQWlJcVTehQcS/JzM5OdQKLBJUWZeemeIBm9ssSczJTEkvyiKZOn6AEArzAbbQ==\",\\n          \"source_id\": null,\\n          \"source_name\": null,\\n          \"inferred_type\": \"STATIC\",\\n          \"value\": \"eJxrYJmqyAABPbK+pm75RanJicUlmXnp+ulFmSnxKWnxmXklesnFZVP0AARuDb8=\"\\n        }\\n      },\\n      \"outputProperty\": {},\\n      \"resourceRequirement\": {\\n        \"cores\": 2,\\n        \"memory\": 20000,\\n        \"useGpu\": false,\\n        \"gpu\": 0,\\n        \"useGpuIfAvailable\": false,\\n        \"runEnv\": \"PYTHON\",\\n        \"additionalResourceSpec\": {}\\n      },\\n      \"executionType\": \"BlockExecutor\",\\n      \"dependencies\": [],\\n      \"system_dependencies\": null,\\n      \"meta_data\": null,\\n      \"eta\": 0\\n    },\\n    {\\n      \"name\": \"Configs_1\",\\n      \"id\": \"1312f5ec-9662-41a7-bf21-176bd2a676e9\",\\n      \"artifact_id\": null,\\n      \"class_name\": \"Configs\",\\n      \"code\": \"eJxtU0tvEzEQzm6eTUhRUaEUCcQxHBpKkzathJBKWlAJXaTQAxdkObY3u4qzDmu7ENRKXKpefMPcOMAvhfEmUctjo+x+8/TM+JsvhW9HhVz2mDXChaaTmIw4a17D1qyjlEVTmmLFkBwxzpRIEOFYSvvVNqKcWUVjPPqfzVQGOuYqTqQ1BTWdMFCaclckYTwE1d0UfxZpk4iUNQdckJGcf6wpPncA3C/sOYQgRAVByAbSPGzvsV0S7pBBO+y0W51NTFgrJNtse5fsha0nOzZQtg9RDVNFaCyo5gwiTQUEHCcO5lOdWKh7GYUx5yjUCVGxSObd3LzqJjOBGrR1NG8FLfqodAVlJ064gPMaPb+X6+V7S71ud4t61Kd5Whi6d5GWaJlW6NKwRKu0Rm/Q+vfyuX/m/cid+T89L0dzb3O2EZiixJxJezwtGz+m1njwL8eKjZGTypRNVIZKBM9ARSoY3QK663Gwcbz9AtQES6h2+DhLilTqej/FPKbY9dok8tSa+3+5MpjGJI0JkzP7vT/tBFIlFKeZsWFKJ/v9l4cn1iwdBgfopL9/FFhTPYYPOgoODt9ZU48Tyj4hIrgeOw5UZ2VMsIqsqc1Omkv1RfKZrOBn8hOtYLimAIWFru+MOKCnMbGX1jx4Gk+mKhLJRpyA60Zro723u0kH7dYO29p8ZqPbvXz3Vi7ve77vewV/2QPkVXz76JGjyKtf8Die1BAcSkZ46IgSOKYkeOxwtKov51wqD7kYYC4dHSuUhVhzJcG5ALUop1yGnZEargOGrJkzlWbkgyym4BJCPVC6IGBaQ9c2DEk9mLlK+x7mgpNEqOyWZqd90Jhn8aY2X52mI7Cpjj5eFaJV36wgoRUMQqIFgPioA+VHvahjijSjrln/d+0W7mZlX4lxTLLte5MpHdWLHA8Yt0H0OtDS3EGZGSHYa4UTwuCCdaJsz4Mimr8BIvigZg==\",\\n      \"isPublishedBlock\": false,\\n      \"source\": null,\\n      \"inputProperty\": {},\\n      \"outputProperty\": {\\n        \"config\": {\\n          \"series\": false,\\n          \"adapter\": \"eJxrYJlqygABPZJFiVX5RXrJ+UWpekk5+cnZxXr5pSUFpSXFU3qEnUAC/mCuXmJKYkFJatGUyVP0AIR/Fp4=\",\\n          \"transport\": \"FILE\"\\n        }\\n      },\\n      \"resourceRequirement\": {\\n        \"cores\": 1,\\n        \"memory\": 1024,\\n        \"useGpu\": false,\\n        \"gpu\": 0,\\n        \"useGpuIfAvailable\": false,\\n        \"runEnv\": \"PYTHON\",\\n        \"additionalResourceSpec\": {}\\n      },\\n      \"executionType\": \"BlockExecutor\",\\n      \"dependencies\": [],\\n      \"system_dependencies\": null,\\n      \"meta_data\": null,\\n      \"eta\": 0\\n    }\\n  ],\\n  \"connections\": [\\n    {\\n      \"source_block_id\": \"1312f5ec-9662-41a7-bf21-176bd2a676e9\",\\n      \"target_block_id\": \"e58d3952-36e3-4b08-a7e6-ed53e5d24da6\",\\n      \"source_output\": \"config\",\\n      \"target_input\": \"config\"\\n    }\\n  ],\\n  \"priority\": \"LOW\",\\n  \"infraResourceEstimation\": null,\\n  \"resourceRequirement\": {},\\n  \"comments\": null,\\n  \"order\": null,\\n  \"uiData\": null,\\n  \"dom\": null,\\n  \"systemGenerated\": false,\\n  \"systemModel\": false,\\n  \"pipelineVariableList\": [],\\n  \"pipelineTemplateVersion\": 0.0,\\n  \"versionId\": null,\\n  \"engineId\": \"65ed2499-f8c9-4c4d-ad27-aa689bd1531e\",\\n  \"userId\": \"c4080201-ccc9-4657-a457-7e18c100ff28\",\\n  \"runInitiatedFrom\": \"JUPYTER\"\\n}', dom='Yet to add', order=None, infra_resource='{\\n  \"zookeeper\": {\\n    \"cores\": 1,\\n    \"memory\":  1024\\n  },\\n  \"kafka\": {\\n    \"cores\": 1,\\n    \"memory\": 1024,\\n    \"additionalResourceSpec\":{}\\n  }\\n}', resource_spec={}, engine_id='65ed2499-f8c9-4c4d-ad27-aa689bd1531e', run_initiated_from='JUPYTER')"
      ]
     },
     "execution_count": 17,
     "metadata": {},
     "output_type": "execute_result"
    }
   ],
   "source": [
    "deployed_pipeline"
   ]
  },
  {
   "cell_type": "code",
   "execution_count": null,
   "metadata": {},
   "outputs": [],
   "source": []
  },
  {
   "cell_type": "code",
   "execution_count": 42,
   "metadata": {},
   "outputs": [],
   "source": [
    "# @inputs.atomic.string('prices_df_path')\n",
    "# @inputs.atomic.string('calendar_df_path')\n",
    "@inputs.atomic.string('grid_path')\n",
    "@inputs.atomic.generic('config')\n",
    "class HeavyOp4(Block):\n",
    "    def run(self, grid_path, config):\n",
    "        from razor.api import project_space_path\n",
    "        \n",
    "        def sizeof_fmt(num, suffix='B'):\n",
    "            for unit in ['','Ki','Mi','Gi','Ti','Pi','Ei','Zi']:\n",
    "                if abs(num) < 1024.0:\n",
    "                    return \"%3.1f%s%s\" % (num, unit, suffix)\n",
    "                num /= 1024.0\n",
    "            return \"%.1f%s%s\" % (num, 'Yi', suffix)\n",
    "\n",
    "        self.logger.info('Release week')\n",
    "        \n",
    "        def merge_by_concat(df1, df2, merge_on):\n",
    "            merged_gf = df1[merge_on]\n",
    "            merged_gf = merged_gf.merge(df2, on=merge_on, how='left')\n",
    "            new_columns = [col for col in list(merged_gf) if col not in merge_on]\n",
    "            df1 = pd.concat([df1, merged_gf[new_columns]], axis=1)\n",
    "            return df1\n",
    "        \n",
    "        def reduce_mem_usage(df, verbose=True):\n",
    "            numerics = ['int16', 'int32', 'int64', 'float16', 'float32', 'float64']\n",
    "            start_mem = df.memory_usage().sum() / 1024**2    \n",
    "            for col in df.columns:\n",
    "                col_type = df[col].dtypes\n",
    "                if col_type in numerics:\n",
    "                    c_min = df[col].min()\n",
    "                    c_max = df[col].max()\n",
    "                    if str(col_type)[:3] == 'int':\n",
    "                        if c_min > np.iinfo(np.int8).min and c_max < np.iinfo(np.int8).max:\n",
    "                            df[col] = df[col].astype(np.int8)\n",
    "                        elif c_min > np.iinfo(np.int16).min and c_max < np.iinfo(np.int16).max:\n",
    "                               df[col] = df[col].astype(np.int16)\n",
    "                        elif c_min > np.iinfo(np.int32).min and c_max < np.iinfo(np.int32).max:\n",
    "                            df[col] = df[col].astype(np.int32)\n",
    "                        elif c_min > np.iinfo(np.int64).min and c_max < np.iinfo(np.int64).max:\n",
    "                            df[col] = df[col].astype(np.int64)  \n",
    "                    else:\n",
    "                        if c_min > np.finfo(np.float16).min and c_max < np.finfo(np.float16).max:\n",
    "                            df[col] = df[col].astype(np.float16)\n",
    "                        elif c_min > np.finfo(np.float32).min and c_max < np.finfo(np.float32).max:\n",
    "                            df[col] = df[col].astype(np.float32)\n",
    "                        else:\n",
    "                            df[col] = df[col].astype(np.float64)    \n",
    "            end_mem = df.memory_usage().sum() / 1024**2\n",
    "            \n",
    "            if verbose: \n",
    "                print('Mem. usage decreased to {:5.2f} Mb ({:.1f}% reduction)'.format(end_mem, 100 * (start_mem - end_mem) / start_mem))\n",
    "            \n",
    "            return df\n",
    "\n",
    "        prices_df=pd.read_csv(project_space_path(config[\"prices_path\"]))\n",
    "        calendar_df=pd.read_csv(project_space_path(config[\"calendar_path\"]))\n",
    "        \n",
    "        self.logger.info('Prices')\n",
    "\n",
    "        # We can do some basic aggregations\n",
    "        prices_df['price_max'] = prices_df.groupby(['store_id','item_id'])['sell_price'].transform('max')\n",
    "        prices_df['price_min'] = prices_df.groupby(['store_id','item_id'])['sell_price'].transform('min')\n",
    "        prices_df['price_std'] = prices_df.groupby(['store_id','item_id'])['sell_price'].transform('std')\n",
    "        prices_df['price_mean'] = prices_df.groupby(['store_id','item_id'])['sell_price'].transform('mean')\n",
    "\n",
    "        # and do price normalization (min/max scaling)\n",
    "        prices_df['price_norm'] = prices_df['sell_price']/prices_df['price_max']\n",
    "\n",
    "        # Some items are can be inflation dependent\n",
    "        # and some items are very \"stable\"\n",
    "        prices_df['price_nunique'] = prices_df.groupby(['store_id','item_id'])['sell_price'].transform('nunique')\n",
    "        prices_df['item_nunique'] = prices_df.groupby(['store_id','sell_price'])['item_id'].transform('nunique')\n",
    "\n",
    "        # I would like some \"rolling\" aggregations\n",
    "        # but would like months and years as \"window\"\n",
    "        calendar_prices = calendar_df[['wm_yr_wk','month','year']]\n",
    "        calendar_prices = calendar_prices.drop_duplicates(subset=['wm_yr_wk'])\n",
    "        prices_df = prices_df.merge(calendar_prices[['wm_yr_wk','month','year']], on=['wm_yr_wk'], how='left')\n",
    "        del calendar_prices\n",
    "\n",
    "        # Now we can add price \"momentum\" (some sort of)\n",
    "        # Shifted by week \n",
    "        # by month mean\n",
    "        # by year mean\n",
    "        prices_df['price_momentum'] = prices_df['sell_price']/prices_df.groupby(['store_id','item_id'])['sell_price'].transform(lambda x: x.shift(1))\n",
    "        prices_df['price_momentum_m'] = prices_df['sell_price']/prices_df.groupby(['store_id','item_id','month'])['sell_price'].transform('mean')\n",
    "        prices_df['price_momentum_y'] = prices_df['sell_price']/prices_df.groupby(['store_id','item_id','year'])['sell_price'].transform('mean')\n",
    "\n",
    "        del prices_df['month'], prices_df['year']\n",
    "        \n",
    "        ########################## Merge prices and save part 2\n",
    "        #################################################################################\n",
    "        self.logger.info('Merge prices and save part 2')\n",
    "\n",
    "        grid_df = pd.read_pickle(grid_path)\n",
    "        MAIN_INDEX=config[\"MAIN_INDEX\"]\n",
    "        \n",
    "        # Merge Prices\n",
    "        original_columns = list(grid_df)\n",
    "        grid_df = grid_df.merge(prices_df, on=['store_id','item_id','wm_yr_wk'], how='left')\n",
    "        keep_columns = [col for col in list(grid_df) if col not in original_columns]\n",
    "        grid_df = grid_df[MAIN_INDEX+keep_columns]\n",
    "        grid_df = reduce_mem_usage(grid_df)\n",
    "\n",
    "        # Safe part 2\n",
    "        grid_df.to_pickle(project_space_path('M5Forecasting/m5-simple-fe/grid_part_2.pkl'))\n",
    "        self.logger.info('Size:', grid_df.shape)\n",
    "\n",
    "        "
   ]
  },
  {
   "cell_type": "code",
   "execution_count": 43,
   "metadata": {},
   "outputs": [],
   "source": [
    "heavy_op4 = (\n",
    "    HeavyOp4()\n",
    "    .config(configs.config)  # (series, generic)\n",
    "    .grid_path('M5Forecasting/m5-simple-fe/grid_part_1.pkl', adapter=project_space_path)  # (series, string)\n",
    "    .executor(ContainerExecutor(cores=3, memory=20000))\n",
    ")"
   ]
  },
  {
   "cell_type": "code",
   "execution_count": 44,
   "metadata": {},
   "outputs": [],
   "source": [
    "p = Pipeline(\"heavy_op4\", targets=[heavy_op4], env=Technology.PYTHON)  #preprocess\n"
   ]
  },
  {
   "cell_type": "code",
   "execution_count": 45,
   "metadata": {},
   "outputs": [
    {
     "data": {
      "application/vnd.razorthink.interactive+pipeline+view+json": {
       "blocks": [
        {
         "class_name": "Configs",
         "id": "2dd902b5-2331-4519-8753-755eab833916",
         "inputs": [],
         "outputs": [
          {
           "doc": null,
           "dtype": "generic",
           "flow": "series",
           "label": null,
           "name": "config"
          }
         ],
         "overwritten": false,
         "var_names": [
          "Configs"
         ]
        },
        {
         "class_name": "HeavyOp4",
         "id": "f4e4fd02-00bf-401b-a74f-328041dabbab",
         "inputs": [
          {
           "default": null,
           "doc": null,
           "dtype": "generic",
           "flow": "series",
           "label": null,
           "name": "config",
           "required": false
          },
          {
           "default": "",
           "doc": null,
           "dtype": "string",
           "flow": "series",
           "label": null,
           "name": "grid_path",
           "required": false
          }
         ],
         "outputs": [],
         "overwritten": false,
         "var_names": [
          "HeavyOp4"
         ]
        }
       ],
       "connections": [
        {
         "id": "d90698ce-ac49-4d12-b143-6df4009ca6f3",
         "source": {
          "adapter": false,
          "instance_id": "27749091-1618-4582-9016-3135e63438a4",
          "name": "config"
         },
         "target": {
          "adapter": false,
          "instance_id": "c8d8153e-3395-4962-b521-fb9526e65fd5",
          "name": "config"
         }
        }
       ],
       "id": "98bd833d-1a18-4125-b2bf-82ddacefb48d",
       "instances": [
        {
         "block_class": "f4e4fd02-00bf-401b-a74f-328041dabbab",
         "id": "c8d8153e-3395-4962-b521-fb9526e65fd5",
         "name": "HeavyOp4_1",
         "var_names": [
          "heavy_op4"
         ]
        },
        {
         "block_class": "2dd902b5-2331-4519-8753-755eab833916",
         "id": "27749091-1618-4582-9016-3135e63438a4",
         "name": "Configs_1",
         "var_names": [
          "configs"
         ]
        }
       ],
       "name": "heavy_op4",
       "var_names": []
      },
      "image/svg+xml": [
       "<?xml version=\"1.0\" encoding=\"UTF-8\" standalone=\"no\"?>\n",
       "<!DOCTYPE svg PUBLIC \"-//W3C//DTD SVG 1.1//EN\"\n",
       " \"http://www.w3.org/Graphics/SVG/1.1/DTD/svg11.dtd\">\n",
       "<!-- Generated by graphviz version 2.40.1 (20161225.0304)\n",
       " -->\n",
       "<!-- Title: %3 Pages: 1 -->\n",
       "<svg width=\"173pt\" height=\"127pt\"\n",
       " viewBox=\"0.00 0.00 172.83 127.00\" xmlns=\"http://www.w3.org/2000/svg\" xmlns:xlink=\"http://www.w3.org/1999/xlink\">\n",
       "<g id=\"graph0\" class=\"graph\" transform=\"scale(1 1) rotate(0) translate(4 123)\">\n",
       "<title>%3</title>\n",
       "<polygon fill=\"#ffffff\" stroke=\"transparent\" points=\"-4,4 -4,-123 168.8256,-123 168.8256,4 -4,4\"/>\n",
       "<!-- (HeavyOp4) HeavyOp4_1 -->\n",
       "<g id=\"node1\" class=\"node\">\n",
       "<title>(HeavyOp4) HeavyOp4_1</title>\n",
       "<ellipse fill=\"none\" stroke=\"#000000\" cx=\"82.4128\" cy=\"-18\" rx=\"82.3257\" ry=\"18\"/>\n",
       "<text text-anchor=\"middle\" x=\"82.4128\" y=\"-15.5\" font-family=\"Helvetica,sans-Serif\" font-size=\"10.00\" fill=\"#000000\">(HeavyOp4) HeavyOp4_1</text>\n",
       "</g>\n",
       "<!-- (Configs) Configs_1 -->\n",
       "<g id=\"node2\" class=\"node\">\n",
       "<title>(Configs) Configs_1</title>\n",
       "<ellipse fill=\"none\" stroke=\"#000000\" cx=\"82.4128\" cy=\"-101\" rx=\"64.5068\" ry=\"18\"/>\n",
       "<text text-anchor=\"middle\" x=\"82.4128\" y=\"-98.5\" font-family=\"Helvetica,sans-Serif\" font-size=\"10.00\" fill=\"#000000\">(Configs) Configs_1</text>\n",
       "</g>\n",
       "<!-- (Configs) Configs_1&#45;&gt;(HeavyOp4) HeavyOp4_1 -->\n",
       "<g id=\"edge1\" class=\"edge\">\n",
       "<title>(Configs) Configs_1&#45;&gt;(HeavyOp4) HeavyOp4_1</title>\n",
       "<path fill=\"none\" stroke=\"#000000\" d=\"M82.4128,-82.9902C82.4128,-72.2963 82.4128,-58.4994 82.4128,-46.3706\"/>\n",
       "<polygon fill=\"#000000\" stroke=\"#000000\" points=\"85.9129,-46.2612 82.4128,-36.2612 78.9129,-46.2613 85.9129,-46.2612\"/>\n",
       "<text text-anchor=\"middle\" x=\"117.9128\" y=\"-57\" font-family=\"Helvetica,sans-Serif\" font-size=\"10.00\" fill=\"#000000\">config&#45;&gt;config</text>\n",
       "</g>\n",
       "</g>\n",
       "</svg>\n"
      ],
      "text/plain": [
       "<razor.core.pipeline.pipeline.Pipeline at 0x7fac4ed768d0>"
      ]
     },
     "metadata": {},
     "output_type": "display_data"
    }
   ],
   "source": [
    "p.show()"
   ]
  },
  {
   "cell_type": "code",
   "execution_count": 46,
   "metadata": {},
   "outputs": [],
   "source": [
    "deployed_pipeline = razor.api.engines('DS-engine').execute(pipeline=p)\n"
   ]
  },
  {
   "cell_type": "code",
   "execution_count": 47,
   "metadata": {},
   "outputs": [
    {
     "data": {
      "application/vnd.razorthink.run+monitor+json": "/home/jovyan/logs/67782285-2522-4cef-80fc-498d26ff6857",
      "text/plain": [
       "<razor_tools.backend.ipython.mime.run_monitor.RunMonitor at 0x7fac4ed6c8d0>"
      ]
     },
     "metadata": {
      "application/vnd.razorthink.run+monitor+json": {
       "store_in_notebook": false
      }
     },
     "output_type": "display_data"
    },
    {
     "data": {
      "text/html": [],
      "text/plain": [
       "PlatformPipelineRun(project_id='c0b26d85-a4c9-44f5-9d0e-f540dd2de644', pipeline_id='ce705726-d874-11ea-ad86-431d80c6c5a4', pipeline_name='heavy_op4', pipeline_run_id='67782285-2522-4cef-80fc-498d26ff6857', pipeline_version=None, comment=None, created_on='2020-08-07T06:11:18.977+0000', start_time=None, end_time=None, eta=0, run_at=1596780678977, run_duration=0, compute_time=0, wait_time=0, ran_by_user=RanByUser(user_name='Ayan Basak', email='ayan.basak@razorthink.com'), status='IN_PROGRESS', block_status=[PlatformPipelineBlockRun(pipeline_run_id='67782285-2522-4cef-80fc-498d26ff6857', pipeline_name='heavy_op4', pipeline_status='IN_PROGRESS', block_id='1312f5ec-9662-41a7-bf21-176bd2a676e9', block_run_id='bbc321b6-d96d-4ba3-aa8d-b9c26eef0e85', block_name='Configs_1', resource_spec=ResourceAllocated(cores=1, memory=1024, use_gpu=False, gpu=0, use_gpu_if_available=False, additional_resource_spec={}, run_env='PYTHON'), technology='PYTHON', status='READY_TO_GO', containers=[], cluster_id='1312f5ec-9662-41a7-bf21-176bd2a676e9', _log=None, _metric=None, wait_time=0, compute_time=0, start_time=None, end_time=None, queued_at='2020-08-07T06:11:19.000+0000'), PlatformPipelineBlockRun(pipeline_run_id='67782285-2522-4cef-80fc-498d26ff6857', pipeline_name='heavy_op4', pipeline_status='IN_PROGRESS', block_id='e1d96a27-b97b-4758-a5fe-03d5d56db5b1', block_run_id='d578a81e-b627-453e-94f3-48538e8315b3', block_name='HeavyOp4_1', resource_spec=ResourceAllocated(cores=3, memory=20000, use_gpu=False, gpu=0, use_gpu_if_available=False, additional_resource_spec={}, run_env='PYTHON'), technology='PYTHON', status='YET_TO_START', containers=[], cluster_id='e1d96a27-b97b-4758-a5fe-03d5d56db5b1', _log=None, _metric=None, wait_time=0, compute_time=0, start_time=None, end_time=None, queued_at=None)], run_number=53, pipeline_variable_list=[], block_run_details=[BlockRunDetail(block_id='1312f5ec-9662-41a7-bf21-176bd2a676e9', block_run_id='bbc321b6-d96d-4ba3-aa8d-b9c26eef0e85', block_name='Configs_1', technology='PYTHON', log_path=None, input_parameters='{}', output_parameters=None, status='READY_TO_GO', created_at='2020-08-07T06:11:19.017+0000', queued_at='2020-08-07T06:11:19.000+0000', start_time=None, end_time=None, compute_time=0, wait_time=0, run_time=0, block_run_output_list=[BlockRunOutputList(output_id='9f7b7393-17c7-4dd7-ba17-7ad059f17118', output_name='config', created_on='2020-08-07T06:11:19.018+0000', output_status='YET_TO_START', block_transport='FILE')], resource_allocated=ResourceAllocated(cores=1, memory=1024, use_gpu=False, gpu=0, use_gpu_if_available=False, additional_resource_spec={}, run_env='PYTHON')), BlockRunDetail(block_id='e1d96a27-b97b-4758-a5fe-03d5d56db5b1', block_run_id='d578a81e-b627-453e-94f3-48538e8315b3', block_name='HeavyOp4_1', technology='PYTHON', log_path=None, input_parameters=None, output_parameters=None, status='YET_TO_START', created_at='2020-08-07T06:11:19.031+0000', queued_at=None, start_time=None, end_time=None, compute_time=0, wait_time=0, run_time=0, block_run_output_list=[], resource_allocated=ResourceAllocated(cores=3, memory=20000, use_gpu=False, gpu=0, use_gpu_if_available=False, additional_resource_spec={}, run_env='PYTHON'))], pipeline_json='{\\n  \"id\": \"ce705726-d874-11ea-ad86-431d80c6c5a4\",\\n  \"projectId\": \"c0b26d85-a4c9-44f5-9d0e-f540dd2de644\",\\n  \"name\": \"heavy_op4\",\\n  \"description\": \"\",\\n  \"blocks\": [\\n    {\\n      \"name\": \"HeavyOp4_1\",\\n      \"id\": \"e1d96a27-b97b-4758-a5fe-03d5d56db5b1\",\\n      \"artifact_id\": null,\\n      \"class_name\": \"HeavyOp4\",\\n      \"code\": \"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\",\\n      \"isPublishedBlock\": false,\\n      \"source\": null,\\n      \"inputProperty\": {\\n        \"config\": {\\n          \"dtype\": \"generic\",\\n          \"required\": \"false\",\\n          \"series\": false,\\n          \"adapter\": \"eJxrYJlqzAABPRJFiVX5RXrJ+UWpekk5+cnZxXqZeQWlJcVTeoScQHxPEE8vMSWxoCS1aMrkKXoAUvYVmA==\",\\n          \"validator\": \"eJxrYJlqygABPRJFiVX5RXrJ+UWpekk5+cnZxXqZeQWlJcVTekScQHxPEE+vLDEnMyWxJL9oyuQpegCAUhaB\",\\n          \"source_id\": \"1312f5ec-9662-41a7-bf21-176bd2a676e9\",\\n          \"source_name\": \"config\",\\n          \"inferred_type\": \"BLOCK\",\\n          \"value\": null\\n        },\\n        \"grid_path\": {\\n          \"dtype\": \"string\",\\n          \"required\": \"false\",\\n          \"series\": false,\\n          \"adapter\": \"eJxrYJkazgABPUpFiVX5RXqJBZl6yflFqXopiSWJ8cX5pUXJqfG5iXmJ6alFU3p0AnISS9Lyi3JdgLLBYElfiJxeQVF+VmpySXxxQSJQR0FiScaUyVP0AGu0JDo=\",\\n          \"validator\": \"eJxrYJnqyAABPRJFiVX5RXrJ+UWpekk5+cnZxXqZeQWlJcVTehQcS/JzM5OdQKLBJUWZeemeIBm9ssSczJTEkvyiKZOn6AEArzAbbQ==\",\\n          \"source_id\": null,\\n          \"source_name\": null,\\n          \"inferred_type\": \"STATIC\",\\n          \"value\": \"eJxrYJmqxwABPVq+pm75RanJicUlmXnp+rmmusWZuQU5qbppqfrpRZkp8QWJRSXxhnoF2TlT9ADQohIn\"\\n        }\\n      },\\n      \"outputProperty\": {},\\n      \"resourceRequirement\": {\\n        \"cores\": 3,\\n        \"memory\": 20000,\\n        \"useGpu\": false,\\n        \"gpu\": 0,\\n        \"useGpuIfAvailable\": false,\\n        \"runEnv\": \"PYTHON\",\\n        \"additionalResourceSpec\": {}\\n      },\\n      \"executionType\": \"BlockExecutor\",\\n      \"dependencies\": [],\\n      \"system_dependencies\": null,\\n      \"meta_data\": null,\\n      \"eta\": 0\\n    },\\n    {\\n      \"name\": \"Configs_1\",\\n      \"id\": \"1312f5ec-9662-41a7-bf21-176bd2a676e9\",\\n      \"artifact_id\": null,\\n      \"class_name\": \"Configs\",\\n      \"code\": \"eJxtU0tvEzEQzm6eTUhRUaEUCcQxHBpKkzathJBKWlAJXaTQAxdkObY3u4qzDmu7ENRKXKpefMPcOMAvhfEmUctjo+x+8/TM+JsvhW9HhVz2mDXChaaTmIw4a17D1qyjlEVTmmLFkBwxzpRIEOFYSvvVNqKcWUVjPPqfzVQGOuYqTqQ1BTWdMFCaclckYTwE1d0UfxZpk4iUNQdckJGcf6wpPncA3C/sOYQgRAVByAbSPGzvsV0S7pBBO+y0W51NTFgrJNtse5fsha0nOzZQtg9RDVNFaCyo5gwiTQUEHCcO5lOdWKh7GYUx5yjUCVGxSObd3LzqJjOBGrR1NG8FLfqodAVlJ064gPMaPb+X6+V7S71ud4t61Kd5Whi6d5GWaJlW6NKwRKu0Rm/Q+vfyuX/m/cid+T89L0dzb3O2EZiixJxJezwtGz+m1njwL8eKjZGTypRNVIZKBM9ARSoY3QK663Gwcbz9AtQES6h2+DhLilTqej/FPKbY9dok8tSa+3+5MpjGJI0JkzP7vT/tBFIlFKeZsWFKJ/v9l4cn1iwdBgfopL9/FFhTPYYPOgoODt9ZU48Tyj4hIrgeOw5UZ2VMsIqsqc1Omkv1RfKZrOBn8hOtYLimAIWFru+MOKCnMbGX1jx4Gk+mKhLJRpyA60Zro723u0kH7dYO29p8ZqPbvXz3Vi7ve77vewV/2QPkVXz76JGjyKtf8Die1BAcSkZ46IgSOKYkeOxwtKov51wqD7kYYC4dHSuUhVhzJcG5ALUop1yGnZEargOGrJkzlWbkgyym4BJCPVC6IGBaQ9c2DEk9mLlK+x7mgpNEqOyWZqd90Jhn8aY2X52mI7Cpjj5eFaJV36wgoRUMQqIFgPioA+VHvahjijSjrln/d+0W7mZlX4lxTLLte5MpHdWLHA8Yt0H0OtDS3EGZGSHYa4UTwuCCdaJsz4Mimr8BIvigZg==\",\\n      \"isPublishedBlock\": false,\\n      \"source\": null,\\n      \"inputProperty\": {},\\n      \"outputProperty\": {\\n        \"config\": {\\n          \"series\": false,\\n          \"adapter\": \"eJxrYJlqygABPZJFiVX5RXrJ+UWpekk5+cnZxXr5pSUFpSXFU3qEnUAC/mCuXmJKYkFJatGUyVP0AIR/Fp4=\",\\n          \"transport\": \"FILE\"\\n        }\\n      },\\n      \"resourceRequirement\": {\\n        \"cores\": 1,\\n        \"memory\": 1024,\\n        \"useGpu\": false,\\n        \"gpu\": 0,\\n        \"useGpuIfAvailable\": false,\\n        \"runEnv\": \"PYTHON\",\\n        \"additionalResourceSpec\": {}\\n      },\\n      \"executionType\": \"BlockExecutor\",\\n      \"dependencies\": [],\\n      \"system_dependencies\": null,\\n      \"meta_data\": null,\\n      \"eta\": 0\\n    }\\n  ],\\n  \"connections\": [\\n    {\\n      \"source_block_id\": \"1312f5ec-9662-41a7-bf21-176bd2a676e9\",\\n      \"target_block_id\": \"e1d96a27-b97b-4758-a5fe-03d5d56db5b1\",\\n      \"source_output\": \"config\",\\n      \"target_input\": \"config\"\\n    }\\n  ],\\n  \"priority\": \"LOW\",\\n  \"infraResourceEstimation\": null,\\n  \"resourceRequirement\": {},\\n  \"comments\": null,\\n  \"order\": null,\\n  \"uiData\": null,\\n  \"dom\": null,\\n  \"systemGenerated\": false,\\n  \"systemModel\": false,\\n  \"pipelineVariableList\": [],\\n  \"pipelineTemplateVersion\": 0.0,\\n  \"versionId\": null,\\n  \"engineId\": \"65ed2499-f8c9-4c4d-ad27-aa689bd1531e\",\\n  \"userId\": \"c4080201-ccc9-4657-a457-7e18c100ff28\",\\n  \"runInitiatedFrom\": \"JUPYTER\"\\n}', dom='Yet to add', order=None, infra_resource='{\\n  \"zookeeper\": {\\n    \"cores\": 1,\\n    \"memory\":  1024\\n  },\\n  \"kafka\": {\\n    \"cores\": 1,\\n    \"memory\": 1024,\\n    \"additionalResourceSpec\":{}\\n  }\\n}', resource_spec={}, engine_id='65ed2499-f8c9-4c4d-ad27-aa689bd1531e', run_initiated_from='JUPYTER')"
      ]
     },
     "execution_count": 47,
     "metadata": {},
     "output_type": "execute_result"
    }
   ],
   "source": [
    "deployed_pipeline"
   ]
  },
  {
   "cell_type": "code",
   "execution_count": null,
   "metadata": {},
   "outputs": [],
   "source": []
  },
  {
   "cell_type": "code",
   "execution_count": null,
   "metadata": {},
   "outputs": [],
   "source": []
  },
  {
   "cell_type": "code",
   "execution_count": 53,
   "metadata": {},
   "outputs": [],
   "source": [
    "# @inputs.atomic.string('prices_df_path')\n",
    "# @inputs.atomic.string('calendar_df_path')\n",
    "@inputs.atomic.string('grid_path')\n",
    "@inputs.atomic.generic('config')\n",
    "class HeavyOp5(Block):\n",
    "    def run(self, grid_path, config):\n",
    "        from razor.api import project_space_path\n",
    "        \n",
    "        def sizeof_fmt(num, suffix='B'):\n",
    "            for unit in ['','Ki','Mi','Gi','Ti','Pi','Ei','Zi']:\n",
    "                if abs(num) < 1024.0:\n",
    "                    return \"%3.1f%s%s\" % (num, unit, suffix)\n",
    "                num /= 1024.0\n",
    "            return \"%.1f%s%s\" % (num, 'Yi', suffix)\n",
    "\n",
    "        self.logger.info('Release week')\n",
    "        \n",
    "        def merge_by_concat(df1, df2, merge_on):\n",
    "            merged_gf = df1[merge_on]\n",
    "            merged_gf = merged_gf.merge(df2, on=merge_on, how='left')\n",
    "            new_columns = [col for col in list(merged_gf) if col not in merge_on]\n",
    "            df1 = pd.concat([df1, merged_gf[new_columns]], axis=1)\n",
    "            return df1\n",
    "\n",
    "        \n",
    "        calendar_df=pd.read_csv(project_space_path(config[\"calendar_path\"]))\n",
    "        grid_df = pd.read_pickle(grid_path)\n",
    "        MAIN_INDEX=config[\"MAIN_INDEX\"]\n",
    "        \n",
    "        ########################### Merge calendar\n",
    "        #################################################################################\n",
    "        grid_df = grid_df[MAIN_INDEX]\n",
    "\n",
    "        # Merge calendar partly\n",
    "        icols = ['date',\n",
    "                 'd',\n",
    "                 'event_name_1',\n",
    "                 'event_type_1',\n",
    "                 'event_name_2',\n",
    "                 'event_type_2',\n",
    "                 'snap_CA',\n",
    "                 'snap_TX',\n",
    "                 'snap_WI']\n",
    "\n",
    "        grid_df = grid_df.merge(calendar_df[icols], on=['d'], how='left')\n",
    "\n",
    "        # Minify data\n",
    "        # 'snap_' columns we can convert to bool or int8\n",
    "        icols = ['event_name_1',\n",
    "                 'event_type_1',\n",
    "                 'event_name_2',\n",
    "                 'event_type_2',\n",
    "                 'snap_CA',\n",
    "                 'snap_TX',\n",
    "                 'snap_WI']\n",
    "        for col in icols:\n",
    "            grid_df[col] = grid_df[col].astype('category')\n",
    "\n",
    "        # Convert to DateTime\n",
    "        grid_df['date'] = pd.to_datetime(grid_df['date'])\n",
    "\n",
    "        # Make some features from date\n",
    "        grid_df['tm_d'] = grid_df['date'].dt.day.astype(np.int8)\n",
    "        grid_df['tm_w'] = grid_df['date'].dt.week.astype(np.int8)\n",
    "        grid_df['tm_m'] = grid_df['date'].dt.month.astype(np.int8)\n",
    "        grid_df['tm_y'] = grid_df['date'].dt.year\n",
    "        grid_df['tm_y'] = (grid_df['tm_y'] - grid_df['tm_y'].min()).astype(np.int8)\n",
    "        grid_df['tm_wm'] = grid_df['tm_d'].apply(lambda x: ceil(x/7)).astype(np.int8)\n",
    "\n",
    "        grid_df['tm_dw'] = grid_df['date'].dt.dayofweek.astype(np.int8)\n",
    "        grid_df['tm_w_end'] = (grid_df['tm_dw']>=5).astype(np.int8)\n",
    "\n",
    "        # Remove date\n",
    "        del grid_df['date']\n",
    "        ########################### Save part 3 (Dates)\n",
    "        #################################################################################\n",
    "        print('Save part 3')\n",
    "\n",
    "        # Safe part 3\n",
    "        grid_df.to_pickle(project_space_path('M5Forecasting/m5-simple-fe/grid_part_3.pkl'))\n",
    "        print('Size:', grid_df.shape)\n",
    "\n",
    "        # We don't need calendar_df anymore\n",
    "        del calendar_df\n",
    "        del grid_df\n",
    "\n"
   ]
  },
  {
   "cell_type": "code",
   "execution_count": 54,
   "metadata": {},
   "outputs": [],
   "source": [
    "heavy_op5 = (\n",
    "    HeavyOp5()\n",
    "    .config(configs.config)  # (series, generic)\n",
    "    .grid_path('M5Forecasting/m5-simple-fe/grid_part_1.pkl', adapter=project_space_path)  # (series, string)\n",
    "    .executor(ContainerExecutor(cores=3, memory=20000))\n",
    ")"
   ]
  },
  {
   "cell_type": "code",
   "execution_count": 55,
   "metadata": {},
   "outputs": [],
   "source": [
    "p = Pipeline(\"heavy_op5\", targets=[heavy_op5], env=Technology.PYTHON)  #preprocess\n"
   ]
  },
  {
   "cell_type": "code",
   "execution_count": 56,
   "metadata": {},
   "outputs": [],
   "source": [
    "deployed_pipeline = razor.api.engines('DS-engine').execute(pipeline=p)\n"
   ]
  },
  {
   "cell_type": "code",
   "execution_count": 57,
   "metadata": {},
   "outputs": [
    {
     "data": {
      "application/vnd.razorthink.run+monitor+json": "/home/jovyan/logs/f28118d6-f6cf-45ea-b7d8-7f07e2d5d3a7",
      "text/plain": [
       "<razor_tools.backend.ipython.mime.run_monitor.RunMonitor at 0x7fac4ed67710>"
      ]
     },
     "metadata": {
      "application/vnd.razorthink.run+monitor+json": {
       "store_in_notebook": false
      }
     },
     "output_type": "display_data"
    },
    {
     "data": {
      "text/html": [],
      "text/plain": [
       "PlatformPipelineRun(project_id='c0b26d85-a4c9-44f5-9d0e-f540dd2de644', pipeline_id='55711658-d879-11ea-ad86-431d80c6c5a4', pipeline_name='heavy_op5', pipeline_run_id='f28118d6-f6cf-45ea-b7d8-7f07e2d5d3a7', pipeline_version=None, comment=None, created_on='2020-08-07T06:43:43.036+0000', start_time=None, end_time=None, eta=0, run_at=1596782623036, run_duration=0, compute_time=0, wait_time=0, ran_by_user=RanByUser(user_name='Ayan Basak', email='ayan.basak@razorthink.com'), status='IN_PROGRESS', block_status=[PlatformPipelineBlockRun(pipeline_run_id='f28118d6-f6cf-45ea-b7d8-7f07e2d5d3a7', pipeline_name='heavy_op5', pipeline_status='IN_PROGRESS', block_id='1312f5ec-9662-41a7-bf21-176bd2a676e9', block_run_id='809c25b6-a44b-4b8f-ac62-f99e3acecaaa', block_name='Configs_1', resource_spec=ResourceAllocated(cores=1, memory=1024, use_gpu=False, gpu=0, use_gpu_if_available=False, additional_resource_spec={}, run_env='PYTHON'), technology='PYTHON', status='READY_TO_GO', containers=[], cluster_id='1312f5ec-9662-41a7-bf21-176bd2a676e9', _log=None, _metric=None, wait_time=0, compute_time=0, start_time=None, end_time=None, queued_at='2020-08-07T06:43:43.000+0000'), PlatformPipelineBlockRun(pipeline_run_id='f28118d6-f6cf-45ea-b7d8-7f07e2d5d3a7', pipeline_name='heavy_op5', pipeline_status='IN_PROGRESS', block_id='c9a23287-6732-4163-aecd-d7008b306a5f', block_run_id='df3a2817-11d7-48f1-b977-487d0d67dc2a', block_name='HeavyOp5_1', resource_spec=ResourceAllocated(cores=3, memory=20000, use_gpu=False, gpu=0, use_gpu_if_available=False, additional_resource_spec={}, run_env='PYTHON'), technology='PYTHON', status='YET_TO_START', containers=[], cluster_id='c9a23287-6732-4163-aecd-d7008b306a5f', _log=None, _metric=None, wait_time=0, compute_time=0, start_time=None, end_time=None, queued_at=None)], run_number=55, pipeline_variable_list=[], block_run_details=[BlockRunDetail(block_id='1312f5ec-9662-41a7-bf21-176bd2a676e9', block_run_id='809c25b6-a44b-4b8f-ac62-f99e3acecaaa', block_name='Configs_1', technology='PYTHON', log_path=None, input_parameters='{}', output_parameters=None, status='READY_TO_GO', created_at='2020-08-07T06:43:43.083+0000', queued_at='2020-08-07T06:43:43.000+0000', start_time=None, end_time=None, compute_time=0, wait_time=0, run_time=0, block_run_output_list=[BlockRunOutputList(output_id='66e919a4-3d6a-4756-8496-62a77d4e6371', output_name='config', created_on='2020-08-07T06:43:43.084+0000', output_status='YET_TO_START', block_transport='FILE')], resource_allocated=ResourceAllocated(cores=1, memory=1024, use_gpu=False, gpu=0, use_gpu_if_available=False, additional_resource_spec={}, run_env='PYTHON')), BlockRunDetail(block_id='c9a23287-6732-4163-aecd-d7008b306a5f', block_run_id='df3a2817-11d7-48f1-b977-487d0d67dc2a', block_name='HeavyOp5_1', technology='PYTHON', log_path=None, input_parameters=None, output_parameters=None, status='YET_TO_START', created_at='2020-08-07T06:43:43.105+0000', queued_at=None, start_time=None, end_time=None, compute_time=0, wait_time=0, run_time=0, block_run_output_list=[], resource_allocated=ResourceAllocated(cores=3, memory=20000, use_gpu=False, gpu=0, use_gpu_if_available=False, additional_resource_spec={}, run_env='PYTHON'))], pipeline_json='{\\n  \"id\": \"55711658-d879-11ea-ad86-431d80c6c5a4\",\\n  \"projectId\": \"c0b26d85-a4c9-44f5-9d0e-f540dd2de644\",\\n  \"name\": \"heavy_op5\",\\n  \"description\": \"\",\\n  \"blocks\": [\\n    {\\n      \"name\": \"HeavyOp5_1\",\\n      \"id\": \"c9a23287-6732-4163-aecd-d7008b306a5f\",\\n      \"artifact_id\": null,\\n      \"class_name\": \"HeavyOp5\",\\n      \"code\": \"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\",\\n      \"isPublishedBlock\": false,\\n      \"source\": null,\\n      \"inputProperty\": {\\n        \"config\": {\\n          \"dtype\": \"generic\",\\n          \"required\": \"false\",\\n          \"series\": false,\\n          \"adapter\": \"eJxrYJlqzAABPRJFiVX5RXrJ+UWpekk5+cnZxXqZeQWlJcVTeoScQHxPEE8vMSWxoCS1aMrkKXoAUvYVmA==\",\\n          \"validator\": \"eJxrYJlqygABPRJFiVX5RXrJ+UWpekk5+cnZxXqZeQWlJcVTekScQHxPEE+vLDEnMyWxJL9oyuQpegCAUhaB\",\\n          \"source_id\": \"1312f5ec-9662-41a7-bf21-176bd2a676e9\",\\n          \"source_name\": \"config\",\\n          \"inferred_type\": \"BLOCK\",\\n          \"value\": null\\n        },\\n        \"grid_path\": {\\n          \"dtype\": \"string\",\\n          \"required\": \"false\",\\n          \"series\": false,\\n          \"adapter\": \"eJxrYJkazgABPUpFiVX5RXqJBZl6yflFqXopiSWJ8cX5pUXJqfG5iXmJ6alFU3p0AnISS9Lyi3JdgLLBYElfiJxeQVF+VmpySXxxQSJQR0FiScaUyVP0AGu0JDo=\",\\n          \"validator\": \"eJxrYJnqyAABPRJFiVX5RXrJ+UWpekk5+cnZxXqZeQWlJcVTehQcS/JzM5OdQKLBJUWZeemeIBm9ssSczJTEkvyiKZOn6AEArzAbbQ==\",\\n          \"source_id\": null,\\n          \"source_name\": null,\\n          \"inferred_type\": \"STATIC\",\\n          \"value\": \"eJxrYJmqxwABPVq+pm75RanJicUlmXnp+rmmusWZuQU5qbppqfrpRZkp8QWJRSXxhnoF2TlT9ADQohIn\"\\n        }\\n      },\\n      \"outputProperty\": {},\\n      \"resourceRequirement\": {\\n        \"cores\": 3,\\n        \"memory\": 20000,\\n        \"useGpu\": false,\\n        \"gpu\": 0,\\n        \"useGpuIfAvailable\": false,\\n        \"runEnv\": \"PYTHON\",\\n        \"additionalResourceSpec\": {}\\n      },\\n      \"executionType\": \"BlockExecutor\",\\n      \"dependencies\": [],\\n      \"system_dependencies\": null,\\n      \"meta_data\": null,\\n      \"eta\": 0\\n    },\\n    {\\n      \"name\": \"Configs_1\",\\n      \"id\": \"1312f5ec-9662-41a7-bf21-176bd2a676e9\",\\n      \"artifact_id\": null,\\n      \"class_name\": \"Configs\",\\n      \"code\": \"eJxtU0tvEzEQzm6eTUhRUaEUCcQxHBpKkzathJBKWlAJXaTQAxdkObY3u4qzDmu7ENRKXKpefMPcOMAvhfEmUctjo+x+8/TM+JsvhW9HhVz2mDXChaaTmIw4a17D1qyjlEVTmmLFkBwxzpRIEOFYSvvVNqKcWUVjPPqfzVQGOuYqTqQ1BTWdMFCaclckYTwE1d0UfxZpk4iUNQdckJGcf6wpPncA3C/sOYQgRAVByAbSPGzvsV0S7pBBO+y0W51NTFgrJNtse5fsha0nOzZQtg9RDVNFaCyo5gwiTQUEHCcO5lOdWKh7GYUx5yjUCVGxSObd3LzqJjOBGrR1NG8FLfqodAVlJ064gPMaPb+X6+V7S71ud4t61Kd5Whi6d5GWaJlW6NKwRKu0Rm/Q+vfyuX/m/cid+T89L0dzb3O2EZiixJxJezwtGz+m1njwL8eKjZGTypRNVIZKBM9ARSoY3QK663Gwcbz9AtQES6h2+DhLilTqej/FPKbY9dok8tSa+3+5MpjGJI0JkzP7vT/tBFIlFKeZsWFKJ/v9l4cn1iwdBgfopL9/FFhTPYYPOgoODt9ZU48Tyj4hIrgeOw5UZ2VMsIqsqc1Omkv1RfKZrOBn8hOtYLimAIWFru+MOKCnMbGX1jx4Gk+mKhLJRpyA60Zro723u0kH7dYO29p8ZqPbvXz3Vi7ve77vewV/2QPkVXz76JGjyKtf8Die1BAcSkZ46IgSOKYkeOxwtKov51wqD7kYYC4dHSuUhVhzJcG5ALUop1yGnZEargOGrJkzlWbkgyym4BJCPVC6IGBaQ9c2DEk9mLlK+x7mgpNEqOyWZqd90Jhn8aY2X52mI7Cpjj5eFaJV36wgoRUMQqIFgPioA+VHvahjijSjrln/d+0W7mZlX4lxTLLte5MpHdWLHA8Yt0H0OtDS3EGZGSHYa4UTwuCCdaJsz4Mimr8BIvigZg==\",\\n      \"isPublishedBlock\": false,\\n      \"source\": null,\\n      \"inputProperty\": {},\\n      \"outputProperty\": {\\n        \"config\": {\\n          \"series\": false,\\n          \"adapter\": \"eJxrYJlqygABPZJFiVX5RXrJ+UWpekk5+cnZxXr5pSUFpSXFU3qEnUAC/mCuXmJKYkFJatGUyVP0AIR/Fp4=\",\\n          \"transport\": \"FILE\"\\n        }\\n      },\\n      \"resourceRequirement\": {\\n        \"cores\": 1,\\n        \"memory\": 1024,\\n        \"useGpu\": false,\\n        \"gpu\": 0,\\n        \"useGpuIfAvailable\": false,\\n        \"runEnv\": \"PYTHON\",\\n        \"additionalResourceSpec\": {}\\n      },\\n      \"executionType\": \"BlockExecutor\",\\n      \"dependencies\": [],\\n      \"system_dependencies\": null,\\n      \"meta_data\": null,\\n      \"eta\": 0\\n    }\\n  ],\\n  \"connections\": [\\n    {\\n      \"source_block_id\": \"1312f5ec-9662-41a7-bf21-176bd2a676e9\",\\n      \"target_block_id\": \"c9a23287-6732-4163-aecd-d7008b306a5f\",\\n      \"source_output\": \"config\",\\n      \"target_input\": \"config\"\\n    }\\n  ],\\n  \"priority\": \"LOW\",\\n  \"infraResourceEstimation\": null,\\n  \"resourceRequirement\": {},\\n  \"comments\": null,\\n  \"order\": null,\\n  \"uiData\": null,\\n  \"dom\": null,\\n  \"systemGenerated\": false,\\n  \"systemModel\": false,\\n  \"pipelineVariableList\": [],\\n  \"pipelineTemplateVersion\": 0.0,\\n  \"versionId\": null,\\n  \"engineId\": \"65ed2499-f8c9-4c4d-ad27-aa689bd1531e\",\\n  \"userId\": \"c4080201-ccc9-4657-a457-7e18c100ff28\",\\n  \"runInitiatedFrom\": \"JUPYTER\"\\n}', dom='Yet to add', order=None, infra_resource='{\\n  \"zookeeper\": {\\n    \"cores\": 1,\\n    \"memory\":  1024\\n  },\\n  \"kafka\": {\\n    \"cores\": 1,\\n    \"memory\": 1024,\\n    \"additionalResourceSpec\":{}\\n  }\\n}', resource_spec={}, engine_id='65ed2499-f8c9-4c4d-ad27-aa689bd1531e', run_initiated_from='JUPYTER')"
      ]
     },
     "execution_count": 57,
     "metadata": {},
     "output_type": "execute_result"
    }
   ],
   "source": [
    "deployed_pipeline"
   ]
  },
  {
   "cell_type": "code",
   "execution_count": null,
   "metadata": {},
   "outputs": [],
   "source": []
  },
  {
   "cell_type": "code",
   "execution_count": null,
   "metadata": {},
   "outputs": [],
   "source": []
  }
 ],
 "metadata": {
  "kernelspec": {
   "display_name": "Python 3",
   "language": "python",
   "name": "python3"
  },
  "language_info": {
   "codemirror_mode": {
    "name": "ipython",
    "version": 3
   },
   "file_extension": ".py",
   "mimetype": "text/x-python",
   "name": "python",
   "nbconvert_exporter": "python",
   "pygments_lexer": "ipython3",
   "version": "3.7.6"
  }
 },
 "nbformat": 4,
 "nbformat_minor": 4
}
