{
 "cells": [
  {
   "cell_type": "code",
   "execution_count": 1,
   "metadata": {},
   "outputs": [],
   "source": [
    "import numpy as np\n",
    "import pandas as pd\n",
    "import os, sys, gc, time, warnings, pickle, psutil, random\n",
    "import logging\n",
    "from razor.api import project_space_path\n",
    "from math import ceil\n",
    "from razor.api import project_space_path\n",
    "import razor\n",
    "import razor.flow as rf\n",
    "import typing as t\n",
    "from sklearn.preprocessing import LabelEncoder\n",
    "\n",
    "warnings.filterwarnings('ignore')\n"
   ]
  },
  {
   "cell_type": "code",
   "execution_count": 2,
   "metadata": {},
   "outputs": [],
   "source": [
    "config = {'cpu': 8 , 'ram': 36000}"
   ]
  },
  {
   "cell_type": "code",
   "execution_count": 3,
   "metadata": {},
   "outputs": [],
   "source": [
    "lib1 = razor.api.libraries(name='lightgbm').artifact()"
   ]
  },
  {
   "cell_type": "code",
   "execution_count": null,
   "metadata": {},
   "outputs": [],
   "source": []
  },
  {
   "cell_type": "code",
   "execution_count": 4,
   "metadata": {},
   "outputs": [],
   "source": [
    "@rf.block(executor=rf.ContainerExecutor(cores=2, memory=3000))\n",
    "class Configs:\n",
    "    config: rf.Output[t.Any] = rf.Output(transport=rf.FileTransport)\n",
    "        \n",
    "    def run(self):\n",
    "        \n",
    "        dic = {\n",
    "          \"TARGET\": \"sales\",\n",
    "          \"END_TRAIN\": 1913,\n",
    "          \"MAIN_INDEX\": [\n",
    "            \"id\",\n",
    "            \"d\"\n",
    "          ],\n",
    "          'index_columns' : ['id','item_id','dept_id','cat_id','store_id','state_id'],\n",
    "          \"train_path\": \"M5Forecasting/sales_train_validation.csv\",\n",
    "          \"prices_path\": \"M5Forecasting/sell_prices.csv\",\n",
    "          \"calendar_path\" : \"M5Forecasting/calendar.csv\"\n",
    "        }\n",
    "        self.config.put(dic)\n",
    "        "
   ]
  },
  {
   "cell_type": "code",
   "execution_count": 5,
   "metadata": {},
   "outputs": [],
   "source": [
    "@rf.block(executor=rf.ContainerExecutor(cores=2, memory=10192))\n",
    "class Melter:\n",
    "    path: t.Any\n",
    "    config: t.Any\n",
    "    grid_df_path: rf.Output[t.Any] = rf.Output(transport=rf.FileTransport)\n",
    "        \n",
    "    def run(self):\n",
    "        \n",
    "        train_df=pd.read_csv(project_space_path(self.path))\n",
    "        print('Create Grid')\n",
    "        TARGET = self.config[\"TARGET\"]\n",
    "\n",
    "        # We can tranform horizontal representation \n",
    "        # to vertical \"view\"\n",
    "        # Our \"index\" will be 'id','item_id','dept_id','cat_id','store_id','state_id'\n",
    "        # and labels are 'd_' coulmns\n",
    "\n",
    "        index_columns = ['id','item_id','dept_id','cat_id','store_id','state_id']\n",
    "        df = pd.melt(train_df, \n",
    "                          id_vars = index_columns, \n",
    "                          var_name = 'd', \n",
    "                          value_name = TARGET)\n",
    "        \n",
    "        df.to_csv(project_space_path('M5Forecasting/grid_df.csv'), index=False)\n",
    "        self.grid_df_path.put('M5Forecasting/grid_df.csv')\n"
   ]
  },
  {
   "cell_type": "code",
   "execution_count": 6,
   "metadata": {},
   "outputs": [],
   "source": [
    "@rf.block(executor=rf.ContainerExecutor(cores=2, memory=8192))\n",
    "class ValidDataCreator:\n",
    "    path: t.Any\n",
    "    config: t.Any\n",
    "    add_grid_path: rf.Output[t.Any] = rf.Output(transport=rf.FileTransport)\n",
    "            \n",
    "    def run(self):\n",
    "        import pandas as pd\n",
    "        import logging\n",
    "        \n",
    "        self.logger.info(\"Reading df\")\n",
    "        train_df=pd.read_csv(project_space_path(self.path))\n",
    "        self.logger.info(\"Reading df DONE...\")\n",
    "        \n",
    "        END_TRAIN = self.config[\"END_TRAIN\"]\n",
    "        TARGET = self.config[\"TARGET\"]\n",
    "        # If we look on train_df we se that \n",
    "        # we don't have a lot of traning rows\n",
    "        # but each day can provide more train data\n",
    "        print('Train rows:', len(train_df))\n",
    "\n",
    "        # To be able to make predictions\n",
    "        # we need to add \"test set\" to our grid\n",
    "        index_columns = self.config['index_columns']\n",
    "        df = pd.DataFrame()\n",
    "        for i in range(1,29):\n",
    "            temp_df = train_df[index_columns]\n",
    "            temp_df = temp_df.drop_duplicates()\n",
    "            temp_df['d'] = 'd_'+ str(END_TRAIN+i)\n",
    "            temp_df[TARGET] = np.nan\n",
    "            df = pd.concat([df,temp_df])\n",
    "            \n",
    "        df.to_csv(project_space_path('M5Forecasting/add_grid.csv'), index=False)\n",
    "        self.add_grid_path.put('M5Forecasting/add_grid.csv')\n"
   ]
  },
  {
   "cell_type": "code",
   "execution_count": 7,
   "metadata": {},
   "outputs": [],
   "source": [
    "@rf.block(executor=rf.ContainerExecutor(cores=2, memory=13000))\n",
    "class DataConcatenation:\n",
    "    grid_df_path: t.Any\n",
    "    add_grid_path: t.Any    \n",
    "    config: t.Any    \n",
    "    grid_df_int_path: rf.Output[t.Any] = rf.Output(transport=rf.FileTransport)\n",
    "        \n",
    "    def run(self):\n",
    "        \n",
    "        def sizeof_fmt(num, suffix='B'):\n",
    "            for unit in ['','Ki','Mi','Gi','Ti','Pi','Ei','Zi']:\n",
    "                if abs(num) < 1024.0:\n",
    "                    return \"%3.1f%s%s\" % (num, unit, suffix)\n",
    "                num /= 1024.0\n",
    "            return \"%.1f%s%s\" % (num, 'Yi', suffix)\n",
    "        \n",
    "        \n",
    "        grid_df = pd.read_csv(project_space_path(self.grid_df_path))\n",
    "        add_grid = pd.read_csv(project_space_path(self.add_grid_path))\n",
    "\n",
    "        grid_df = pd.concat([grid_df,add_grid])\n",
    "        grid_df = grid_df.reset_index(drop=True)\n",
    "\n",
    "\n",
    "        # Let's check our memory usage\n",
    "        self.logger.info(\"{:>20}: {:>8}\".format('Original grid_df', sizeof_fmt(grid_df.memory_usage(index=True).sum())))\n",
    "\n",
    "        # We can free some memory \n",
    "        # by converting \"strings\" to categorical\n",
    "        # it will not affect merging and \n",
    "        # we will not lose any valuable data\n",
    "        index_columns = self.config['index_columns']\n",
    "        for col in index_columns:\n",
    "            grid_df[col] = grid_df[col].astype('category')\n",
    "\n",
    "        # Let's check again memory usage\n",
    "        self.logger.info(\"{:>20}: {:>8}\".format('Reduced grid_df', sizeof_fmt(grid_df.memory_usage(index=True).sum())))\n",
    "\n",
    "        grid_df.to_csv(project_space_path('M5Forecasting/grid_df_int.csv'))\n",
    "        self.grid_df_int_path.put('M5Forecasting/grid_df_int.csv')\n"
   ]
  },
  {
   "cell_type": "code",
   "execution_count": 8,
   "metadata": {},
   "outputs": [],
   "source": [
    "@rf.block(executor=rf.ContainerExecutor(cores=2, memory=20000))\n",
    "class DataCreator1:\n",
    "    grid_df_path: t.Any\n",
    "    config: t.Any\n",
    "    grid_pkl_path: rf.Output[t.Any] = rf.Output(transport=rf.FileTransport)\n",
    "    \n",
    "    \n",
    "    def sizeof_fmt(self, num, suffix='B'):\n",
    "        for unit in ['','Ki','Mi','Gi','Ti','Pi','Ei','Zi']:\n",
    "            if abs(num) < 1024.0:\n",
    "                return \"%3.1f%s%s\" % (num, unit, suffix)\n",
    "            num /= 1024.0\n",
    "        return \"%.1f%s%s\" % (num, 'Yi', suffix)\n",
    "\n",
    "\n",
    "    def merge_by_concat(self, df1, df2, merge_on):\n",
    "        merged_gf = df1[merge_on]\n",
    "        merged_gf = merged_gf.merge(df2, on=merge_on, how='left')\n",
    "        new_columns = [col for col in list(merged_gf) if col not in merge_on]\n",
    "        df1 = pd.concat([df1, merged_gf[new_columns]], axis=1)\n",
    "        return df1\n",
    "    \n",
    "    def run(self):\n",
    "        from razor.api import project_space_path\n",
    "        \n",
    "        prices_df = pd.read_csv(project_space_path(self.config['prices_path']))\n",
    "        grid_df = pd.read_csv(project_space_path(self.grid_df_path))\n",
    "        self.logger.info(grid_df.dtypes)\n",
    "        calendar_df = pd.read_csv(project_space_path(self.config['calendar_path']))\n",
    "        # Prices are set by week\n",
    "        # so it we will have not very accurate release week \n",
    "        release_df = prices_df.groupby(['store_id','item_id'])['wm_yr_wk'].agg(['min']).reset_index()\n",
    "        release_df.columns = ['store_id','item_id','release']\n",
    "        self.logger.info('Release Df')\n",
    "        self.logger.info(release_df.head())\n",
    "        \n",
    "        self.logger.info('Release week')\n",
    "        # Now we can merge release_df\n",
    "        grid_df = self.merge_by_concat(grid_df, release_df, ['store_id','item_id'])\n",
    "        del release_df\n",
    "\n",
    "\n",
    "        grid_df = self.merge_by_concat(grid_df, calendar_df[['wm_yr_wk','d']], ['d'])\n",
    "        self.logger.info(grid_df.columns)\n",
    "\n",
    "        self.logger.info(grid_df.dtypes)\n",
    "        \n",
    "        # Now we can cutoff some rows \n",
    "        # and safe memory \n",
    "        grid_df = grid_df[grid_df['wm_yr_wk']>=grid_df['release']]\n",
    "        grid_df = grid_df.reset_index(drop=True)\n",
    "\n",
    "        # Let's check our memory usage\n",
    "        self.logger.info(\"{:>20}: {:>8}\".format('Original grid_df',self.sizeof_fmt(grid_df.memory_usage(index=True).sum())))\n",
    "\n",
    "        grid_df['release'] = grid_df['release'] - grid_df['release'].min()\n",
    "        grid_df['release'] = grid_df['release'].astype(np.int16)\n",
    "\n",
    "        # Let's check again memory usage\n",
    "        self.logger.info(\"{:>20}: {:>8}\".format('Reduced grid_df',self.sizeof_fmt(grid_df.memory_usage(index=True).sum())))\n",
    "\n",
    "        index_columns = self.config['index_columns']\n",
    "        for col in index_columns:\n",
    "            grid_df[col] = grid_df[col].astype('category')\n",
    "\n",
    "        grid_df.to_pickle(project_space_path('M5Forecasting/m5-simple-fe/grid_part_1.pkl'))\n",
    "        self.logger.info(grid_df.shape)\n",
    "        self.logger.info(grid_df.dtypes)\n",
    "        \n",
    "        grid_df.to_csv(project_space_path('M5Forecasting/grid_df_final.csv'))\n",
    "        self.grid_pkl_path.put(project_space_path('M5Forecasting/m5-simple-fe/grid_part_1.pkl'))\n",
    "                       \n",
    "                       "
   ]
  },
  {
   "cell_type": "code",
   "execution_count": 9,
   "metadata": {},
   "outputs": [],
   "source": [
    "@rf.block(executor=rf.ContainerExecutor(cores=2, memory=20000))\n",
    "class DataCreator2:\n",
    "    grid_path: t.Any\n",
    "    config: t.Any\n",
    "    grid_two_df_path: rf.Output[t.Any] = rf.Output(transport=rf.FileTransport)\n",
    "           \n",
    "    def sizeof_fmt(self, num, suffix='B'):\n",
    "            for unit in ['','Ki','Mi','Gi','Ti','Pi','Ei','Zi']:\n",
    "                if abs(num) < 1024.0:\n",
    "                    return \"%3.1f%s%s\" % (num, unit, suffix)\n",
    "                num /= 1024.0\n",
    "            return \"%.1f%s%s\" % (num, 'Yi', suffix)\n",
    "\n",
    "        \n",
    "    def merge_by_concat(self, df1, df2, merge_on):\n",
    "        merged_gf = df1[merge_on]\n",
    "        merged_gf = merged_gf.merge(df2, on=merge_on, how='left')\n",
    "        new_columns = [col for col in list(merged_gf) if col not in merge_on]\n",
    "        df1 = pd.concat([df1, merged_gf[new_columns]], axis=1)\n",
    "        return df1\n",
    "\n",
    "    def reduce_mem_usage(self, df, verbose=True):\n",
    "        numerics = ['int16', 'int32', 'int64', 'float16', 'float32', 'float64']\n",
    "        start_mem = df.memory_usage().sum() / 1024**2    \n",
    "        for col in df.columns:\n",
    "            col_type = df[col].dtypes\n",
    "            if col_type in numerics:\n",
    "                c_min = df[col].min()\n",
    "                c_max = df[col].max()\n",
    "                if str(col_type)[:3] == 'int':\n",
    "                    if c_min > np.iinfo(np.int8).min and c_max < np.iinfo(np.int8).max:\n",
    "                        df[col] = df[col].astype(np.int8)\n",
    "                    elif c_min > np.iinfo(np.int16).min and c_max < np.iinfo(np.int16).max:\n",
    "                           df[col] = df[col].astype(np.int16)\n",
    "                    elif c_min > np.iinfo(np.int32).min and c_max < np.iinfo(np.int32).max:\n",
    "                        df[col] = df[col].astype(np.int32)\n",
    "                    elif c_min > np.iinfo(np.int64).min and c_max < np.iinfo(np.int64).max:\n",
    "                        df[col] = df[col].astype(np.int64)  \n",
    "                else:\n",
    "                    if c_min > np.finfo(np.float16).min and c_max < np.finfo(np.float16).max:\n",
    "                        df[col] = df[col].astype(np.float16)\n",
    "                    elif c_min > np.finfo(np.float32).min and c_max < np.finfo(np.float32).max:\n",
    "                        df[col] = df[col].astype(np.float32)\n",
    "                    else:\n",
    "                        df[col] = df[col].astype(np.float64)    \n",
    "        end_mem = df.memory_usage().sum() / 1024**2\n",
    "\n",
    "        if verbose: \n",
    "            print('Mem. usage decreased to {:5.2f} Mb ({:.1f}% reduction)'.format(end_mem, 100 * (start_mem - end_mem) / start_mem))\n",
    "\n",
    "        return df\n",
    "    \n",
    "    def run(self):\n",
    "        from razor.api import project_space_path\n",
    "\n",
    "        prices_df=pd.read_csv(project_space_path(self.config[\"prices_path\"]))\n",
    "        calendar_df=pd.read_csv(project_space_path(self.config[\"calendar_path\"]))\n",
    "        \n",
    "        self.logger.info('Release week')\n",
    "        \n",
    "        self.logger.info('Prices')\n",
    "\n",
    "        # We can do some basic aggregations\n",
    "        prices_df['price_max'] = prices_df.groupby(['store_id','item_id'])['sell_price'].transform('max')\n",
    "        prices_df['price_min'] = prices_df.groupby(['store_id','item_id'])['sell_price'].transform('min')\n",
    "        prices_df['price_std'] = prices_df.groupby(['store_id','item_id'])['sell_price'].transform('std')\n",
    "        prices_df['price_mean'] = prices_df.groupby(['store_id','item_id'])['sell_price'].transform('mean')\n",
    "\n",
    "        # and do price normalization (min/max scaling)\n",
    "        prices_df['price_norm'] = prices_df['sell_price']/prices_df['price_max']\n",
    "\n",
    "        # Some items are can be inflation dependent\n",
    "        # and some items are very \"stable\"\n",
    "        prices_df['price_nunique'] = prices_df.groupby(['store_id','item_id'])['sell_price'].transform('nunique')\n",
    "        prices_df['item_nunique'] = prices_df.groupby(['store_id','sell_price'])['item_id'].transform('nunique')\n",
    "\n",
    "        # I would like some \"rolling\" aggregations\n",
    "        # but would like months and years as \"window\"\n",
    "        calendar_prices = calendar_df[['wm_yr_wk','month','year']]\n",
    "        calendar_prices = calendar_prices.drop_duplicates(subset=['wm_yr_wk'])\n",
    "        prices_df = prices_df.merge(calendar_prices[['wm_yr_wk','month','year']], on=['wm_yr_wk'], how='left')\n",
    "        del calendar_prices\n",
    "\n",
    "        # Now we can add price \"momentum\" (some sort of)\n",
    "        # Shifted by week \n",
    "        # by month mean\n",
    "        # by year mean\n",
    "        prices_df['price_momentum'] = prices_df['sell_price']/prices_df.groupby(['store_id','item_id'])['sell_price'].transform(lambda x: x.shift(1))\n",
    "        prices_df['price_momentum_m'] = prices_df['sell_price']/prices_df.groupby(['store_id','item_id','month'])['sell_price'].transform('mean')\n",
    "        prices_df['price_momentum_y'] = prices_df['sell_price']/prices_df.groupby(['store_id','item_id','year'])['sell_price'].transform('mean')\n",
    "\n",
    "        del prices_df['month'], prices_df['year']\n",
    "        \n",
    "        ########################## Merge prices and save part 2\n",
    "        #################################################################################\n",
    "        self.logger.info('Merge prices and save part 2')\n",
    "\n",
    "        grid_df = pd.read_pickle(self.grid_path)\n",
    "        MAIN_INDEX=self.config[\"MAIN_INDEX\"]\n",
    "        \n",
    "        # Merge Prices\n",
    "        original_columns = list(grid_df)\n",
    "        grid_df = grid_df.merge(prices_df, on=['store_id','item_id','wm_yr_wk'], how='left')\n",
    "        keep_columns = [col for col in list(grid_df) if col not in original_columns]\n",
    "        grid_df = grid_df[MAIN_INDEX+keep_columns]\n",
    "        grid_df = self.reduce_mem_usage(grid_df)\n",
    "\n",
    "        # Safe part 2\n",
    "        grid_df.to_pickle(project_space_path('M5Forecasting/m5-simple-fe/grid_part_2.pkl'))\n",
    "        self.logger.info(f'Size: {grid_df.shape}')\n",
    "        grid_two_df_filepath = project_space_path('M5Forecasting/m5-simple-fe/grid_part_2.pkl')\n",
    "        self.grid_two_df_path.put(grid_two_df_filepath)\n",
    "\n",
    "        "
   ]
  },
  {
   "cell_type": "code",
   "execution_count": 10,
   "metadata": {},
   "outputs": [],
   "source": [
    "@rf.block(executor=rf.ContainerExecutor(cores=2, memory=20000))\n",
    "class DataCreator3:\n",
    "    grid_path: t.Any\n",
    "    config: t.Any\n",
    "    grid_three_df_path: rf.Output[t.Any] = rf.Output(transport=rf.FileTransport)\n",
    "    \n",
    "    def sizeof_fmt(self, num, suffix='B'):\n",
    "        for unit in ['','Ki','Mi','Gi','Ti','Pi','Ei','Zi']:\n",
    "            if abs(num) < 1024.0:\n",
    "                return \"%3.1f%s%s\" % (num, unit, suffix)\n",
    "            num /= 1024.0\n",
    "        return \"%.1f%s%s\" % (num, 'Yi', suffix)\n",
    "\n",
    "\n",
    "    def merge_by_concat(self, df1, df2, merge_on):\n",
    "        merged_gf = df1[merge_on]\n",
    "        merged_gf = merged_gf.merge(df2, on=merge_on, how='left')\n",
    "        new_columns = [col for col in list(merged_gf) if col not in merge_on]\n",
    "        df1 = pd.concat([df1, merged_gf[new_columns]], axis=1)\n",
    "        return df1\n",
    "    \n",
    "    def run(self):\n",
    "        from razor.api import project_space_path\n",
    "        \n",
    "        calendar_df=pd.read_csv(project_space_path(self.config[\"calendar_path\"]))\n",
    "        grid_df = pd.read_pickle(self.grid_path)\n",
    "        MAIN_INDEX=self.config[\"MAIN_INDEX\"]\n",
    "        \n",
    "        ########################### Merge calendar\n",
    "        #################################################################################\n",
    "        grid_df = grid_df[MAIN_INDEX]\n",
    "\n",
    "        # Merge calendar partly\n",
    "        icols = ['date',\n",
    "                 'd',\n",
    "                 'event_name_1',\n",
    "                 'event_type_1',\n",
    "                 'event_name_2',\n",
    "                 'event_type_2',\n",
    "                 'snap_CA',\n",
    "                 'snap_TX',\n",
    "                 'snap_WI']\n",
    "        \n",
    "        grid_df['d'] = grid_df['d'].apply(str)\n",
    "        grid_df = grid_df.merge(calendar_df[icols], on=['d'], how='left')\n",
    "\n",
    "        # Minify data\n",
    "        # 'snap_' columns we can convert to bool or int8\n",
    "        icols = ['event_name_1',\n",
    "                 'event_type_1',\n",
    "                 'event_name_2',\n",
    "                 'event_type_2',\n",
    "                 'snap_CA',\n",
    "                 'snap_TX',\n",
    "                 'snap_WI']\n",
    "        for col in icols:\n",
    "            grid_df[col] = grid_df[col].astype('category')\n",
    "\n",
    "        # Convert to DateTime\n",
    "        grid_df['date'] = pd.to_datetime(grid_df['date'])\n",
    "\n",
    "        # Make some features from date\n",
    "        grid_df['tm_d'] = grid_df['date'].dt.day.astype(np.int8)\n",
    "        grid_df['tm_w'] = grid_df['date'].dt.week.astype(np.int8)\n",
    "        grid_df['tm_m'] = grid_df['date'].dt.month.astype(np.int8)\n",
    "        grid_df['tm_y'] = grid_df['date'].dt.year\n",
    "        grid_df['tm_y'] = (grid_df['tm_y'] - grid_df['tm_y'].min()).astype(np.int8)\n",
    "        grid_df['tm_wm'] = grid_df['tm_d'].apply(lambda x: ceil(x/7)).astype(np.int8)\n",
    "\n",
    "        grid_df['tm_dw'] = grid_df['date'].dt.dayofweek.astype(np.int8)\n",
    "        grid_df['tm_w_end'] = (grid_df['tm_dw']>=5).astype(np.int8)\n",
    "\n",
    "        # Remove date\n",
    "        del grid_df['date']\n",
    "        ########################### Save part 3 (Dates)\n",
    "        #################################################################################\n",
    "        print('Save part 3')\n",
    "\n",
    "        # Safe part 3\n",
    "        grid_df.to_pickle(project_space_path('M5Forecasting/m5-simple-fe/grid_part_3.pkl'))\n",
    "        print('Size:', grid_df.shape)\n",
    "\n",
    "        # We don't need calendar_df anymore\n",
    "        del calendar_df\n",
    "        del grid_df\n",
    "        grid_three_df_filepath = project_space_path('M5Forecasting/m5-simple-fe/grid_part_3.pkl')\n",
    "        self.grid_three_df_path.put(grid_three_df_filepath)\n",
    "\n"
   ]
  },
  {
   "cell_type": "code",
   "execution_count": 11,
   "metadata": {},
   "outputs": [],
   "source": [
    "@rf.block(executor=rf.ContainerExecutor(cores=2, memory=20000))\n",
    "class LagCreator:\n",
    "    grid_path: t.Any\n",
    "    lag_df_path: rf.Output[t.Any] = rf.Output(transport=rf.FileTransport)\n",
    "        \n",
    "    def run(self):\n",
    "        ########################### Apply on grid_df\n",
    "\n",
    "        grid_df = pd.read_pickle(self.grid_path)\n",
    "\n",
    "        TARGET = 'sales'         # Our main target\n",
    "        END_TRAIN = 1913         # Last day in train set\n",
    "        MAIN_INDEX = ['id','d']  # We can identify item by these columns\n",
    "        \n",
    "        # We need only 'id','d','sales'\n",
    "        # to make lags and rollings\n",
    "        grid_df = grid_df[['id','d','sales']]\n",
    "        SHIFT_DAY = 28\n",
    "\n",
    "        # Lags\n",
    "        # with 28 day shift\n",
    "        start_time = time.time()\n",
    "        self.logger.info('Create lags')\n",
    "\n",
    "        LAG_DAYS = [col for col in range(SHIFT_DAY,SHIFT_DAY+15)]\n",
    "        grid_df = grid_df.assign(**{\n",
    "                '{}_lag_{}'.format(col, l): grid_df.groupby(['id'])[col].transform(lambda x: x.shift(l))\n",
    "                for l in LAG_DAYS\n",
    "                for col in [TARGET]\n",
    "            })\n",
    "\n",
    "        # Minify lag columns\n",
    "        for col in list(grid_df):\n",
    "            if 'lag' in col:\n",
    "                grid_df[col] = grid_df[col].astype(np.float16)\n",
    "\n",
    "        self.logger.info('%0.2f min: Lags' % ((time.time() - start_time) / 60))\n",
    "\n",
    "        # Rollings\n",
    "        # with 28 day shift\n",
    "        start_time = time.time()\n",
    "        self.logger.info('Create rolling aggs')\n",
    "\n",
    "        for i in [7,14,30,60,180]:\n",
    "            self.logger.info(f'Rolling period: {i}')\n",
    "            grid_df['rolling_mean_'+str(i)] = grid_df.groupby(['id'])[TARGET].transform(lambda x: x.shift(SHIFT_DAY).rolling(i).mean()).astype(np.float16)\n",
    "            grid_df['rolling_std_'+str(i)]  = grid_df.groupby(['id'])[TARGET].transform(lambda x: x.shift(SHIFT_DAY).rolling(i).std()).astype(np.float16)\n",
    "\n",
    "        # Rollings\n",
    "        # with sliding shift\n",
    "        for d_shift in [1,7,14]: \n",
    "            self.logger.info(f'Shifting period: {d_shift}')\n",
    "            for d_window in [7,14,30,60]:\n",
    "                col_name = 'rolling_mean_tmp_'+str(d_shift)+'_'+str(d_window)\n",
    "                grid_df[col_name] = grid_df.groupby(['id'])[TARGET].transform(lambda x: x.shift(d_shift).rolling(d_window).mean()).astype(np.float16)\n",
    "\n",
    "\n",
    "        self.logger.info('%0.2f min: Lags' % ((time.time() - start_time) / 60))\n",
    "\n",
    "        self.logger.info(f'Save lags and rollings  {grid_df.shape}')\n",
    "        lag_df_filepath = project_space_path(f'M5Forecasting/lags_df_{str(SHIFT_DAY)}.pkl')\n",
    "        grid_df.to_pickle(lag_df_filepath)\n",
    "        \n",
    "        self.lag_df_path.put(lag_df_filepath)\n",
    "        \n"
   ]
  },
  {
   "cell_type": "code",
   "execution_count": 12,
   "metadata": {},
   "outputs": [],
   "source": [
    "@rf.block(executor=rf.ContainerExecutor(cores=2, memory=16192))\n",
    "class Encoder:\n",
    "    grid_path: t.Any\n",
    "    encoded_df_path: rf.Output[t.Any] = rf.Output(transport=rf.FileTransport)\n",
    "        \n",
    "    def run(self):\n",
    "\n",
    "        # Read data\n",
    "        grid_df = pd.read_pickle(self.grid_path)\n",
    "        TARGET = 'sales'\n",
    "        \n",
    "        grid_df[[\"d\"]] = grid_df[[\"d\"]].apply(pd.to_numeric, errors='coerce', downcast=\"integer\")\n",
    "#         logging.info(grid_df.dtypes)\n",
    "        grid_df[grid_df['d']>(1913-28)][TARGET] = np.nan\n",
    "        base_cols = list(grid_df)\n",
    "\n",
    "        icols =  [\n",
    "                    ['state_id'],\n",
    "                    ['store_id'],\n",
    "                    ['cat_id'],\n",
    "                    ['dept_id'],\n",
    "                    ['state_id', 'cat_id'],\n",
    "                    ['state_id', 'dept_id'],\n",
    "                    ['store_id', 'cat_id'],\n",
    "                    ['store_id', 'dept_id'],\n",
    "                    ['item_id'],\n",
    "                    ['item_id', 'state_id'],\n",
    "                    ['item_id', 'store_id']\n",
    "                    ]\n",
    "\n",
    "        for col in icols:\n",
    "            self.logger.info('Encoding')\n",
    "            self.logger.info(col)\n",
    "            col_name = '_'+'_'.join(col)+'_'\n",
    "            grid_df['enc'+col_name+'mean'] = grid_df.groupby(col)[TARGET].transform('mean').astype(np.float16)\n",
    "            grid_df['enc'+col_name+'std'] = grid_df.groupby(col)[TARGET].transform('std').astype(np.float16)\n",
    "\n",
    "        keep_cols = [col for col in list(grid_df) if col not in base_cols]\n",
    "        grid_df = grid_df[['id','d']+keep_cols]\n",
    "\n",
    "        self.logger.info('Save Mean/Std encoding')\n",
    "        encoded_df_filepath = project_space_path('/M5Forecasting/mean_encoding_df.pkl')\n",
    "        grid_df.to_pickle(encoded_df_filepath)\n",
    "        self.encoded_df_path.put(encoded_df_filepath)\n",
    "        \n"
   ]
  },
  {
   "cell_type": "code",
   "execution_count": 13,
   "metadata": {},
   "outputs": [],
   "source": [
    "@rf.block(executor=rf.ContainerExecutor(cores=2, memory=36000))\n",
    "class Train:\n",
    "    BASE: t.Any\n",
    "    PRICE: t.Any\n",
    "    CALENDAR: t.Any\n",
    "    LAGS: t.Any     \n",
    "    MEAN_ENC: t.Any   \n",
    "        \n",
    "    __libs__ = [lib1]\n",
    "    \n",
    "    def init(self):\n",
    "        #PATHS for Features\n",
    "        self.ORIGINAL = project_space_path(\"M5Forecasting\")+\"/\"\n",
    "#         self.BASE     = project_space_path('M5Forecasting/m5-simple-fe/grid_part_1.pkl')\n",
    "#         self.PRICE    = project_space_path('M5Forecasting/m5-simple-fe/grid_part_2.pkl')\n",
    "#         self.CALENDAR = project_space_path('M5Forecasting/m5-simple-fe/grid_part_3.pkl')\n",
    "#         self.LAGS     = project_space_path('M5Forecasting/lags_df_28.pkl')\n",
    "#         self.MEAN_ENC = project_space_path('M5Forecasting/mean_encoding_df.pkl')\n",
    "\n",
    "        #LIMITS and const\n",
    "        self.TARGET      = 'sales'            # Our target\n",
    "        self.START_TRAIN = 0                  # We can skip some rows (Nans/faster training)\n",
    "        self.END_TRAIN   = 1913               # End day of our train set\n",
    "        self.P_HORIZON   = 28                 # Prediction horizon\n",
    "        self.USE_AUX     = False               # Use or not pretrained models\n",
    "        self.N_CORES = psutil.cpu_count()     # Available CPU cores\n",
    "\n",
    "        # AUX(pretrained) Models paths\n",
    "        self.AUX_MODELS = '../input/m5-aux-models/'\n",
    "\n",
    "\n",
    "        #STORES ids\n",
    "        self.STORES_IDS = pd.read_csv(self.ORIGINAL+'sales_train_validation.csv')['store_id']\n",
    "        self.STORES_IDS = list(self.STORES_IDS.unique())\n",
    "\n",
    "\n",
    "        #SPLITS for lags creation\n",
    "        self.SHIFT_DAY  = 28\n",
    "        self.N_LAGS     = 15\n",
    "        self.LAGS_SPLIT = [col for col in range(self.SHIFT_DAY, self.SHIFT_DAY + self.N_LAGS)]\n",
    "        \n",
    "        self.remove_features = ['id','state_id','store_id',\n",
    "                           'date','wm_yr_wk','d', self.TARGET]\n",
    "        self.mean_features   = ['enc_cat_id_mean','enc_cat_id_std',\n",
    "                           'enc_dept_id_mean','enc_dept_id_std',\n",
    "                           'enc_item_id_mean','enc_item_id_std'] \n",
    "\n",
    "            \n",
    "    def seed_everything(self, seed=0):\n",
    "        random.seed(seed)\n",
    "        np.random.seed(seed)\n",
    "\n",
    "\n",
    "    ## Multiprocess Runs\n",
    "    def df_parallelize_run(self, func, t_split):\n",
    "        num_cores = np.min([self.N_CORES,len(t_split)])\n",
    "        pool = Pool(num_cores)\n",
    "        df = pd.concat(pool.map(func, t_split), axis=1)\n",
    "        pool.close()\n",
    "        pool.join()\n",
    "        return df\n",
    "\n",
    "    def get_data_by_store(self, store):\n",
    "\n",
    "        # Read and contact basic feature\n",
    "        df1 = pd.read_pickle(self.BASE)\n",
    "#         df1 = df1[df1['store_id']==store]\n",
    "        df2 = pd.read_pickle(self.PRICE).iloc[:,2:]\n",
    "#         df2 = df2[df2['store_id']==store]\n",
    "        df3 = pd.read_pickle(self.CALENDAR).iloc[:,2:]\n",
    "        df = pd.concat([df1, df2, df3],\n",
    "                        axis=1)\n",
    "\n",
    "        # Leave only relevant store\n",
    "        df = df[df['store_id']==store]\n",
    "        df = df.drop(['Unnamed: 0'], 1)\n",
    "\n",
    "        df2 = pd.read_pickle(self.MEAN_ENC)[self.mean_features]\n",
    "        df2 = df2[df2.index.isin(df.index)]\n",
    "\n",
    "        df = pd.concat([df, df2], axis=1)\n",
    "        del df2 # to not reach memory limit \n",
    "        gc.collect()\n",
    "\n",
    "        df3 = pd.read_pickle(self.LAGS).iloc[:,3:]\n",
    "        df3 = df3[df3.index.isin(df.index)]\n",
    "\n",
    "\n",
    "        df = pd.concat([df, df3], axis=1)\n",
    "        del df3 # to not reach memory limit \n",
    "        gc.collect()\n",
    "\n",
    "        # Create features list\n",
    "        features = [col for col in list(df) if col not in self.remove_features]\n",
    "        df = df[['id','d',self.TARGET]+features]\n",
    "\n",
    "        # Skipping first n rows\n",
    "        df['d'] = df['d'].apply(lambda x: x[2:]).astype(np.int16)\n",
    "        df = df[df['d']>=self.START_TRAIN].reset_index(drop=True)\n",
    "\n",
    "        return df, features\n",
    "\n",
    "    # Recombine Test set after training\n",
    "    def get_base_test(self):\n",
    "        base_test = pd.DataFrame()\n",
    "\n",
    "        for store_id in self.STORES_IDS:\n",
    "            temp_df = pd.read_pickle('test_'+store_id+'.pkl')\n",
    "            for col in ['item_id', 'dept_id', 'cat_id']:\n",
    "                temp_df[col] = temp_df[col].astype('category')\n",
    "            temp_df['store_id'] = store_id\n",
    "            base_test = pd.concat([base_test, temp_df]).reset_index(drop=True)\n",
    "\n",
    "        return base_test\n",
    "\n",
    "\n",
    "    ########################### Helper to make dynamic rolling lags\n",
    "    #################################################################################\n",
    "    def make_lag(self, LAG_DAY):\n",
    "        lag_df = base_test[['id','d',self.TARGET]]\n",
    "        col_name = f'sales_lag_{str(LAG_DAY)}'\n",
    "        lag_df[col_name] = lag_df.groupby(['id'])[self.TARGET].transform(lambda x: x.shift(LAG_DAY)).astype(np.float16)\n",
    "        return lag_df[[col_name]]\n",
    "\n",
    "\n",
    "    def make_lag_roll(self, LAG_DAY):\n",
    "        shift_day = LAG_DAY[0]\n",
    "        roll_wind = LAG_DAY[1]\n",
    "        lag_df = base_test[['id','d',self.TARGET]]\n",
    "        col_name = f'rolling_mean_tmp_{str(shift_day)}_{str(roll_wind)}'\n",
    "        lag_df[col_name] = lag_df.groupby(['id'])[self.TARGET].transform(lambda x: x.shift(shift_day).rolling(roll_wind).mean())\n",
    "        return lag_df[[col_name]]\n",
    "    \n",
    "    def run(self):\n",
    "                         \n",
    "        import logging\n",
    "\n",
    "\n",
    "        import lightgbm as lgb\n",
    "        lgb_params = {\n",
    "                            'boosting_type': 'gbdt',\n",
    "                            'objective': 'tweedie',\n",
    "                            'tweedie_variance_power': 1.1,\n",
    "                            'metric': 'rmse',\n",
    "                            'subsample': 0.5,\n",
    "                            'subsample_freq': 1,\n",
    "                            'learning_rate': 0.03,\n",
    "                            'num_leaves': 2**11-1,\n",
    "                            'min_data_in_leaf': 2**12-1,\n",
    "                            'feature_fraction': 0.5,\n",
    "                            'max_bin': 100,\n",
    "                            'n_estimators': 1400,\n",
    "                            'boost_from_average': False,\n",
    "                            'verbose': -1,\n",
    "                        } \n",
    "\n",
    "\n",
    "                ########################### Vars\n",
    "        #################################################################################\n",
    "        VER = 1                          # Our model version\n",
    "        SEED = 42                      \n",
    "        self.seed_everything(SEED)      \n",
    "        lgb_params['seed'] = SEED        \n",
    "\n",
    "        #FEATURES to remove\n",
    "        ## These features lead to overfit\n",
    "        ## or values not present in test set\n",
    "\n",
    "        ROLS_SPLIT = []\n",
    "        \n",
    "        for i in [1,7,14]:\n",
    "            for j in [7,14,30,60]:\n",
    "                ROLS_SPLIT.append([i,j])\n",
    "\n",
    "\n",
    "        if self.USE_AUX:\n",
    "            lgb_params['n_estimators'] = 2\n",
    "\n",
    "        \n",
    "\n",
    "                ########################### Train Models\n",
    "        #################################################################################\n",
    "        for store_id in self.STORES_IDS:\n",
    "            self.logger.info('Train')\n",
    "            self.logger.info(store_id)\n",
    "\n",
    "            # Get grid for current store\n",
    "            grid_df, features_columns = self.get_data_by_store(store_id)\n",
    "#             self.logger.info(grid_df.head())            \n",
    "            \n",
    "            self.logger.info(\"Loaded grid Data\")\n",
    "\n",
    "            # Masks for \n",
    "            # Train (All data less than 1913)\n",
    "            # \"Validation\" (Last 28 days - not real validatio set)\n",
    "            # Test (All data greater than 1913 day, \n",
    "            #       with some gap for recursive features)\n",
    "            train_mask = grid_df['d']<=self.END_TRAIN\n",
    "            valid_mask = train_mask&(grid_df['d']>(self.END_TRAIN-self.P_HORIZON))\n",
    "            preds_mask = grid_df['d']>(self.END_TRAIN-100)\n",
    "\n",
    "            train_data = lgb.Dataset(grid_df[train_mask][features_columns], \n",
    "                               label=grid_df[train_mask][self.TARGET])\n",
    "            \n",
    "#             train_data.save_binary(project_space_path(\"M5Forecasting/train_data.bin\"))\n",
    "#             train_data = lgb.Dataset(project_space_path(\"M5Forecasting/train_data.bin\"))\n",
    "\n",
    "            valid_data = lgb.Dataset(grid_df[valid_mask][features_columns], \n",
    "                               label=grid_df[valid_mask][self.TARGET])\n",
    "\n",
    "            # Saving part of the dataset for later predictions\n",
    "            # Removing features that we need to calculate recursively \n",
    "            grid_df = grid_df[preds_mask].reset_index(drop=True)\n",
    "            keep_cols = [col for col in list(grid_df) if '_tmp_' not in col]\n",
    "            grid_df = grid_df[keep_cols]\n",
    "            grid_df.to_pickle(project_space_path(f\"M5Forecasting/test_{store_id}.pkl\"))\n",
    "            del grid_df\n",
    "            gc.collect()\n",
    "\n",
    "            # Launch seeder again to make lgb training 100% deterministic\n",
    "            # with each \"code line\" np.random \"evolves\" \n",
    "            # so we need (may want) to \"reset\" it\n",
    "            self.seed_everything(SEED)\n",
    "            estimator = lgb.train(lgb_params,\n",
    "                                  train_data,\n",
    "                                  valid_sets = [valid_data],\n",
    "                                  verbose_eval = 100,\n",
    "                                  )\n",
    "\n",
    "\n",
    "            model_name = 'lgb_model_'+store_id+'_v'+str(VER)+'.bin'\n",
    "            pickle.dump(estimator, open(project_space_path(f\"M5Forecasting/{model_name}\"), 'wb'))\n",
    "\n",
    "            # Remove temporary files and objects \n",
    "            # to free some hdd space and ram memory\n",
    "\n",
    "#             os.remove()\n",
    "            del train_data, valid_data, estimator\n",
    "            gc.collect()\n",
    "\n",
    "            # \"Keep\" models features for predictions\n",
    "            MODEL_FEATURES = features_columns\n",
    "\n"
   ]
  },
  {
   "cell_type": "code",
   "execution_count": null,
   "metadata": {},
   "outputs": [],
   "source": []
  },
  {
   "cell_type": "code",
   "execution_count": null,
   "metadata": {},
   "outputs": [],
   "source": []
  },
  {
   "cell_type": "code",
   "execution_count": 14,
   "metadata": {},
   "outputs": [],
   "source": [
    "configs = Configs()\n",
    "melter = Melter(path='M5Forecasting/train_df.csv',config=configs.config)\n",
    "valid_creator = ValidDataCreator(path='M5Forecasting/train_df.csv', config=configs.config)\n",
    "data_concat = DataConcatenation(config=configs.config, add_grid_path=valid_creator.add_grid_path, grid_df_path=melter.grid_df_path)\n",
    "data_creator1 = DataCreator1(config=configs.config, grid_df_path=data_concat.grid_df_int_path)\n",
    "data_creator2 = DataCreator2(config=configs.config, grid_path=data_creator1.grid_pkl_path)\n",
    "data_creator3 = DataCreator3(config=configs.config, grid_path=data_creator1.grid_pkl_path)\n",
    "lag_creator = LagCreator(grid_path = data_creator1.grid_pkl_path)\n",
    "encoder = Encoder(grid_path=data_creator1.grid_pkl_path)\n",
    "\n",
    "train = Train(BASE=data_creator1.grid_pkl_path, PRICE=data_creator2.grid_two_df_path, CALENDAR=data_creator3.grid_three_df_path, \n",
    "             LAGS=lag_creator.lag_df_path, MEAN_ENC=encoder.encoded_df_path)\n"
   ]
  },
  {
   "cell_type": "code",
   "execution_count": 15,
   "metadata": {},
   "outputs": [],
   "source": [
    "# train = Train()\n"
   ]
  },
  {
   "cell_type": "code",
   "execution_count": 16,
   "metadata": {},
   "outputs": [],
   "source": [
    "p = rf.Pipeline(\"Walmart Training Pipeline\", targets=[train])  #preprocess\n"
   ]
  },
  {
   "cell_type": "code",
   "execution_count": 17,
   "metadata": {},
   "outputs": [
    {
     "data": {
      "application/vnd.razorthink.interactive+pipeline+view+json": {
       "blocks": [
        {
         "class_name": "DataConcatenation",
         "id": "8b70c075-ecce-4d65-929c-b09a74775b5d",
         "inputs": [
          {
           "default": null,
           "flow": "atomic",
           "help": null,
           "label": "grid_df_path",
           "name": "grid_df_path",
           "series": false,
           "type": "Any",
           "type_check": true
          },
          {
           "default": null,
           "flow": "atomic",
           "help": null,
           "label": "add_grid_path",
           "name": "add_grid_path",
           "series": false,
           "type": "Any",
           "type_check": true
          },
          {
           "default": null,
           "flow": "atomic",
           "help": null,
           "label": "config",
           "name": "config",
           "series": false,
           "type": "Any",
           "type_check": true
          }
         ],
         "outputs": [
          {
           "flow": "atomic",
           "help": null,
           "label": "grid_df_int_path",
           "name": "grid_df_int_path",
           "series": false,
           "type": "Any",
           "type_check": true
          }
         ],
         "overwritten": false,
         "var_names": [
          "DataConcatenation"
         ]
        },
        {
         "class_name": "Melter",
         "id": "4c4600b9-45a3-43dd-a2d5-7a533a80f5be",
         "inputs": [
          {
           "default": null,
           "flow": "atomic",
           "help": null,
           "label": "path",
           "name": "path",
           "series": false,
           "type": "Any",
           "type_check": true
          },
          {
           "default": null,
           "flow": "atomic",
           "help": null,
           "label": "config",
           "name": "config",
           "series": false,
           "type": "Any",
           "type_check": true
          }
         ],
         "outputs": [
          {
           "flow": "atomic",
           "help": null,
           "label": "grid_df_path",
           "name": "grid_df_path",
           "series": false,
           "type": "Any",
           "type_check": true
          }
         ],
         "overwritten": false,
         "var_names": [
          "Melter"
         ]
        },
        {
         "class_name": "ValidDataCreator",
         "id": "a5c0f436-273a-44f6-8b8d-a689aa7853ac",
         "inputs": [
          {
           "default": null,
           "flow": "atomic",
           "help": null,
           "label": "path",
           "name": "path",
           "series": false,
           "type": "Any",
           "type_check": true
          },
          {
           "default": null,
           "flow": "atomic",
           "help": null,
           "label": "config",
           "name": "config",
           "series": false,
           "type": "Any",
           "type_check": true
          }
         ],
         "outputs": [
          {
           "flow": "atomic",
           "help": null,
           "label": "add_grid_path",
           "name": "add_grid_path",
           "series": false,
           "type": "Any",
           "type_check": true
          }
         ],
         "overwritten": false,
         "var_names": [
          "ValidDataCreator"
         ]
        },
        {
         "class_name": "Encoder",
         "id": "e72a62cf-eb64-4b11-99b8-8e2781f0cc95",
         "inputs": [
          {
           "default": null,
           "flow": "atomic",
           "help": null,
           "label": "grid_path",
           "name": "grid_path",
           "series": false,
           "type": "Any",
           "type_check": true
          }
         ],
         "outputs": [
          {
           "flow": "atomic",
           "help": null,
           "label": "encoded_df_path",
           "name": "encoded_df_path",
           "series": false,
           "type": "Any",
           "type_check": true
          }
         ],
         "overwritten": false,
         "var_names": [
          "Encoder"
         ]
        },
        {
         "class_name": "DataCreator2",
         "id": "7d2280f5-2623-4dde-978e-dfb0e339bf1a",
         "inputs": [
          {
           "default": null,
           "flow": "atomic",
           "help": null,
           "label": "grid_path",
           "name": "grid_path",
           "series": false,
           "type": "Any",
           "type_check": true
          },
          {
           "default": null,
           "flow": "atomic",
           "help": null,
           "label": "config",
           "name": "config",
           "series": false,
           "type": "Any",
           "type_check": true
          }
         ],
         "outputs": [
          {
           "flow": "atomic",
           "help": null,
           "label": "grid_two_df_path",
           "name": "grid_two_df_path",
           "series": false,
           "type": "Any",
           "type_check": true
          }
         ],
         "overwritten": false,
         "var_names": [
          "DataCreator2"
         ]
        },
        {
         "class_name": "DataCreator1",
         "id": "7e0a79f2-1246-487e-a4a8-f0673bc0f395",
         "inputs": [
          {
           "default": null,
           "flow": "atomic",
           "help": null,
           "label": "grid_df_path",
           "name": "grid_df_path",
           "series": false,
           "type": "Any",
           "type_check": true
          },
          {
           "default": null,
           "flow": "atomic",
           "help": null,
           "label": "config",
           "name": "config",
           "series": false,
           "type": "Any",
           "type_check": true
          }
         ],
         "outputs": [
          {
           "flow": "atomic",
           "help": null,
           "label": "grid_pkl_path",
           "name": "grid_pkl_path",
           "series": false,
           "type": "Any",
           "type_check": true
          }
         ],
         "overwritten": false,
         "var_names": [
          "DataCreator1"
         ]
        },
        {
         "class_name": "Configs",
         "id": "8599c4ce-25ac-40da-9e3e-4666789ea8b0",
         "inputs": [],
         "outputs": [
          {
           "flow": "atomic",
           "help": null,
           "label": "config",
           "name": "config",
           "series": false,
           "type": "Any",
           "type_check": true
          }
         ],
         "overwritten": false,
         "var_names": [
          "Configs"
         ]
        },
        {
         "class_name": "Train",
         "id": "24be40ed-0544-4859-b752-e6d070e55b61",
         "inputs": [
          {
           "default": null,
           "flow": "atomic",
           "help": null,
           "label": "BASE",
           "name": "BASE",
           "series": false,
           "type": "Any",
           "type_check": true
          },
          {
           "default": null,
           "flow": "atomic",
           "help": null,
           "label": "PRICE",
           "name": "PRICE",
           "series": false,
           "type": "Any",
           "type_check": true
          },
          {
           "default": null,
           "flow": "atomic",
           "help": null,
           "label": "CALENDAR",
           "name": "CALENDAR",
           "series": false,
           "type": "Any",
           "type_check": true
          },
          {
           "default": null,
           "flow": "atomic",
           "help": null,
           "label": "LAGS",
           "name": "LAGS",
           "series": false,
           "type": "Any",
           "type_check": true
          },
          {
           "default": null,
           "flow": "atomic",
           "help": null,
           "label": "MEAN_ENC",
           "name": "MEAN_ENC",
           "series": false,
           "type": "Any",
           "type_check": true
          }
         ],
         "outputs": [],
         "overwritten": false,
         "var_names": [
          "Train"
         ]
        },
        {
         "class_name": "LagCreator",
         "id": "133c385a-f2fe-4c18-9588-d344f9c565e7",
         "inputs": [
          {
           "default": null,
           "flow": "atomic",
           "help": null,
           "label": "grid_path",
           "name": "grid_path",
           "series": false,
           "type": "Any",
           "type_check": true
          }
         ],
         "outputs": [
          {
           "flow": "atomic",
           "help": null,
           "label": "lag_df_path",
           "name": "lag_df_path",
           "series": false,
           "type": "Any",
           "type_check": true
          }
         ],
         "overwritten": false,
         "var_names": [
          "LagCreator"
         ]
        },
        {
         "class_name": "DataCreator3",
         "id": "92153a17-872f-494f-aa28-a0a9a293f147",
         "inputs": [
          {
           "default": null,
           "flow": "atomic",
           "help": null,
           "label": "grid_path",
           "name": "grid_path",
           "series": false,
           "type": "Any",
           "type_check": true
          },
          {
           "default": null,
           "flow": "atomic",
           "help": null,
           "label": "config",
           "name": "config",
           "series": false,
           "type": "Any",
           "type_check": true
          }
         ],
         "outputs": [
          {
           "flow": "atomic",
           "help": null,
           "label": "grid_three_df_path",
           "name": "grid_three_df_path",
           "series": false,
           "type": "Any",
           "type_check": true
          }
         ],
         "overwritten": false,
         "var_names": [
          "DataCreator3"
         ]
        }
       ],
       "connections": [
        {
         "id": "1cc469b1-a1c5-4697-ac71-52ea861e58b7",
         "source": {
          "adapter": false,
          "instance_id": "bbfe7847-693d-43a3-87e0-179ab018e4ef",
          "name": "lag_df_path"
         },
         "target": {
          "adapter": false,
          "instance_id": "e6ec053c-5744-4884-9f15-949f45393b70",
          "name": "LAGS"
         }
        },
        {
         "id": "467c639e-370d-4818-a085-b46f0f9a9e63",
         "source": {
          "adapter": false,
          "instance_id": "130e0c02-935d-47be-a9e1-817556eea114",
          "name": "config"
         },
         "target": {
          "adapter": false,
          "instance_id": "d7bf78a5-96c3-403b-9ce2-d38c643de1f2",
          "name": "config"
         }
        },
        {
         "id": "0007bbca-0a45-4afc-9c87-5ee8fa846c70",
         "source": {
          "adapter": false,
          "instance_id": "240f6a2c-88b4-4da7-af55-2036ad20f47b",
          "name": "grid_pkl_path"
         },
         "target": {
          "adapter": false,
          "instance_id": "b4a91c8e-31cb-4cc5-92cb-0a39d3551211",
          "name": "grid_path"
         }
        },
        {
         "id": "eb834a17-daaa-47ce-b1f0-f56a868ec3a2",
         "source": {
          "adapter": false,
          "instance_id": "87e839f4-9736-413b-a0d8-fa1714087bea",
          "name": "grid_df_int_path"
         },
         "target": {
          "adapter": false,
          "instance_id": "240f6a2c-88b4-4da7-af55-2036ad20f47b",
          "name": "grid_df_path"
         }
        },
        {
         "id": "cd06521b-e95f-4c38-8d2e-e68e143abc0b",
         "source": {
          "adapter": false,
          "instance_id": "240f6a2c-88b4-4da7-af55-2036ad20f47b",
          "name": "grid_pkl_path"
         },
         "target": {
          "adapter": false,
          "instance_id": "d7bf78a5-96c3-403b-9ce2-d38c643de1f2",
          "name": "grid_path"
         }
        },
        {
         "id": "31f2fff1-245d-489a-8cf5-2ef5acb3025e",
         "source": {
          "adapter": false,
          "instance_id": "b4a91c8e-31cb-4cc5-92cb-0a39d3551211",
          "name": "encoded_df_path"
         },
         "target": {
          "adapter": false,
          "instance_id": "e6ec053c-5744-4884-9f15-949f45393b70",
          "name": "MEAN_ENC"
         }
        },
        {
         "id": "0eda4a64-eb9f-405d-98d4-f2330faa0ba5",
         "source": {
          "adapter": false,
          "instance_id": "240f6a2c-88b4-4da7-af55-2036ad20f47b",
          "name": "grid_pkl_path"
         },
         "target": {
          "adapter": false,
          "instance_id": "8183f56b-92b2-46cc-a60d-e41199e49dc7",
          "name": "grid_path"
         }
        },
        {
         "id": "74f66e2b-17b1-4f7e-9ab6-a225bc257925",
         "source": {
          "adapter": false,
          "instance_id": "130e0c02-935d-47be-a9e1-817556eea114",
          "name": "config"
         },
         "target": {
          "adapter": false,
          "instance_id": "8183f56b-92b2-46cc-a60d-e41199e49dc7",
          "name": "config"
         }
        },
        {
         "id": "678f1811-0429-4335-a9e4-50674dc9519b",
         "source": {
          "adapter": false,
          "instance_id": "240f6a2c-88b4-4da7-af55-2036ad20f47b",
          "name": "grid_pkl_path"
         },
         "target": {
          "adapter": false,
          "instance_id": "e6ec053c-5744-4884-9f15-949f45393b70",
          "name": "BASE"
         }
        },
        {
         "id": "8ec94750-7867-4237-aed9-6e5b5687cf3d",
         "source": {
          "adapter": false,
          "instance_id": "240f6a2c-88b4-4da7-af55-2036ad20f47b",
          "name": "grid_pkl_path"
         },
         "target": {
          "adapter": false,
          "instance_id": "bbfe7847-693d-43a3-87e0-179ab018e4ef",
          "name": "grid_path"
         }
        },
        {
         "id": "c1cb1bcc-9b17-45d1-b009-683e2e44c454",
         "source": {
          "adapter": false,
          "instance_id": "130e0c02-935d-47be-a9e1-817556eea114",
          "name": "config"
         },
         "target": {
          "adapter": false,
          "instance_id": "c829fca5-d18e-457e-8f83-533c9c956882",
          "name": "config"
         }
        },
        {
         "id": "3df69238-beb3-43ba-985f-ca81cde08b39",
         "source": {
          "adapter": false,
          "instance_id": "130e0c02-935d-47be-a9e1-817556eea114",
          "name": "config"
         },
         "target": {
          "adapter": false,
          "instance_id": "87e839f4-9736-413b-a0d8-fa1714087bea",
          "name": "config"
         }
        },
        {
         "id": "2e7e439c-22aa-489f-b02d-df68124747b1",
         "source": {
          "adapter": false,
          "instance_id": "130e0c02-935d-47be-a9e1-817556eea114",
          "name": "config"
         },
         "target": {
          "adapter": false,
          "instance_id": "240f6a2c-88b4-4da7-af55-2036ad20f47b",
          "name": "config"
         }
        },
        {
         "id": "78da9fd6-026e-4e97-8ecb-c7eaef80431b",
         "source": {
          "adapter": false,
          "instance_id": "c829fca5-d18e-457e-8f83-533c9c956882",
          "name": "add_grid_path"
         },
         "target": {
          "adapter": false,
          "instance_id": "87e839f4-9736-413b-a0d8-fa1714087bea",
          "name": "add_grid_path"
         }
        },
        {
         "id": "1edce957-9fb5-4472-a4ae-7066dc6d3105",
         "source": {
          "adapter": false,
          "instance_id": "73aa67ce-e5aa-4cbb-8c3b-75ac07e8e8f1",
          "name": "grid_df_path"
         },
         "target": {
          "adapter": false,
          "instance_id": "87e839f4-9736-413b-a0d8-fa1714087bea",
          "name": "grid_df_path"
         }
        },
        {
         "id": "dbbeb925-e9d5-4661-8024-a38089465eeb",
         "source": {
          "adapter": false,
          "instance_id": "130e0c02-935d-47be-a9e1-817556eea114",
          "name": "config"
         },
         "target": {
          "adapter": false,
          "instance_id": "73aa67ce-e5aa-4cbb-8c3b-75ac07e8e8f1",
          "name": "config"
         }
        },
        {
         "id": "da803f58-1d76-418f-bea3-3ee3a2b92bb0",
         "source": {
          "adapter": false,
          "instance_id": "d7bf78a5-96c3-403b-9ce2-d38c643de1f2",
          "name": "grid_two_df_path"
         },
         "target": {
          "adapter": false,
          "instance_id": "e6ec053c-5744-4884-9f15-949f45393b70",
          "name": "PRICE"
         }
        },
        {
         "id": "e88226d1-7750-4ae2-90ab-bd0fd7bc205d",
         "source": {
          "adapter": false,
          "instance_id": "8183f56b-92b2-46cc-a60d-e41199e49dc7",
          "name": "grid_three_df_path"
         },
         "target": {
          "adapter": false,
          "instance_id": "e6ec053c-5744-4884-9f15-949f45393b70",
          "name": "CALENDAR"
         }
        }
       ],
       "id": "b32bae5d-2690-48e5-9d1d-8d96bafd451d",
       "instances": [
        {
         "block_class": "24be40ed-0544-4859-b752-e6d070e55b61",
         "id": "e6ec053c-5744-4884-9f15-949f45393b70",
         "name": "Train_1",
         "var_names": [
          "train"
         ]
        },
        {
         "block_class": "7e0a79f2-1246-487e-a4a8-f0673bc0f395",
         "id": "240f6a2c-88b4-4da7-af55-2036ad20f47b",
         "name": "DataCreator1_1",
         "var_names": [
          "data_creator1"
         ]
        },
        {
         "block_class": "8b70c075-ecce-4d65-929c-b09a74775b5d",
         "id": "87e839f4-9736-413b-a0d8-fa1714087bea",
         "name": "DataConcatenation_1",
         "var_names": [
          "data_concat"
         ]
        },
        {
         "block_class": "4c4600b9-45a3-43dd-a2d5-7a533a80f5be",
         "id": "73aa67ce-e5aa-4cbb-8c3b-75ac07e8e8f1",
         "name": "Melter_1",
         "var_names": [
          "melter"
         ]
        },
        {
         "block_class": "8599c4ce-25ac-40da-9e3e-4666789ea8b0",
         "id": "130e0c02-935d-47be-a9e1-817556eea114",
         "name": "Configs_1",
         "var_names": [
          "configs"
         ]
        },
        {
         "block_class": "a5c0f436-273a-44f6-8b8d-a689aa7853ac",
         "id": "c829fca5-d18e-457e-8f83-533c9c956882",
         "name": "ValidDataCreator_1",
         "var_names": [
          "valid_creator"
         ]
        },
        {
         "block_class": "7d2280f5-2623-4dde-978e-dfb0e339bf1a",
         "id": "d7bf78a5-96c3-403b-9ce2-d38c643de1f2",
         "name": "DataCreator2_1",
         "var_names": [
          "data_creator2"
         ]
        },
        {
         "block_class": "92153a17-872f-494f-aa28-a0a9a293f147",
         "id": "8183f56b-92b2-46cc-a60d-e41199e49dc7",
         "name": "DataCreator3_1",
         "var_names": [
          "data_creator3"
         ]
        },
        {
         "block_class": "133c385a-f2fe-4c18-9588-d344f9c565e7",
         "id": "bbfe7847-693d-43a3-87e0-179ab018e4ef",
         "name": "LagCreator_1",
         "var_names": [
          "lag_creator"
         ]
        },
        {
         "block_class": "e72a62cf-eb64-4b11-99b8-8e2781f0cc95",
         "id": "b4a91c8e-31cb-4cc5-92cb-0a39d3551211",
         "name": "Encoder_1",
         "var_names": [
          "encoder"
         ]
        }
       ],
       "name": "Walmart Training Pipeline",
       "var_names": []
      },
      "image/svg+xml": [
       "<?xml version=\"1.0\" encoding=\"UTF-8\" standalone=\"no\"?>\n",
       "<!DOCTYPE svg PUBLIC \"-//W3C//DTD SVG 1.1//EN\"\n",
       " \"http://www.w3.org/Graphics/SVG/1.1/DTD/svg11.dtd\">\n",
       "<!-- Generated by graphviz version 2.40.1 (20161225.0304)\n",
       " -->\n",
       "<!-- Title: %3 Pages: 1 -->\n",
       "<svg width=\"947pt\" height=\"459pt\"\n",
       " viewBox=\"0.00 0.00 947.37 459.00\" xmlns=\"http://www.w3.org/2000/svg\" xmlns:xlink=\"http://www.w3.org/1999/xlink\">\n",
       "<g id=\"graph0\" class=\"graph\" transform=\"scale(1 1) rotate(0) translate(4 455)\">\n",
       "<title>%3</title>\n",
       "<polygon fill=\"#ffffff\" stroke=\"transparent\" points=\"-4,4 -4,-455 943.3721,-455 943.3721,4 -4,4\"/>\n",
       "<!-- Train(&#39;Train_1&#39;) -->\n",
       "<g id=\"node1\" class=\"node\">\n",
       "<title>Train(&#39;Train_1&#39;)</title>\n",
       "<ellipse fill=\"none\" stroke=\"#000000\" cx=\"394.1221\" cy=\"-18\" rx=\"51.6054\" ry=\"18\"/>\n",
       "<text text-anchor=\"middle\" x=\"394.1221\" y=\"-15.5\" font-family=\"Helvetica,sans-Serif\" font-size=\"10.00\" fill=\"#000000\">Train(&#39;Train_1&#39;)</text>\n",
       "</g>\n",
       "<!-- DataCreator1(&#39;DataCreator1_1&#39;) -->\n",
       "<g id=\"node2\" class=\"node\">\n",
       "<title>DataCreator1(&#39;DataCreator1_1&#39;)</title>\n",
       "<ellipse fill=\"none\" stroke=\"#000000\" cx=\"380.1221\" cy=\"-184\" rx=\"101.0007\" ry=\"18\"/>\n",
       "<text text-anchor=\"middle\" x=\"380.1221\" y=\"-181.5\" font-family=\"Helvetica,sans-Serif\" font-size=\"10.00\" fill=\"#000000\">DataCreator1(&#39;DataCreator1_1&#39;)</text>\n",
       "</g>\n",
       "<!-- DataCreator1(&#39;DataCreator1_1&#39;)&#45;&gt;Train(&#39;Train_1&#39;) -->\n",
       "<g id=\"edge1\" class=\"edge\">\n",
       "<title>DataCreator1(&#39;DataCreator1_1&#39;)&#45;&gt;Train(&#39;Train_1&#39;)</title>\n",
       "<path fill=\"none\" stroke=\"#000000\" d=\"M381.647,-165.9191C384.077,-137.1059 388.8474,-80.5425 391.7336,-46.321\"/>\n",
       "<polygon fill=\"#000000\" stroke=\"#000000\" points=\"395.2462,-46.3174 392.5991,-36.0586 388.271,-45.7291 395.2462,-46.3174\"/>\n",
       "<text text-anchor=\"middle\" x=\"440.1221\" y=\"-98.5\" font-family=\"Helvetica,sans-Serif\" font-size=\"10.00\" fill=\"#000000\">grid_pkl_path&#45;&gt;BASE</text>\n",
       "</g>\n",
       "<!-- DataCreator2(&#39;DataCreator2_1&#39;) -->\n",
       "<g id=\"node7\" class=\"node\">\n",
       "<title>DataCreator2(&#39;DataCreator2_1&#39;)</title>\n",
       "<ellipse fill=\"none\" stroke=\"#000000\" cx=\"838.1221\" cy=\"-101\" rx=\"101.0007\" ry=\"18\"/>\n",
       "<text text-anchor=\"middle\" x=\"838.1221\" y=\"-98.5\" font-family=\"Helvetica,sans-Serif\" font-size=\"10.00\" fill=\"#000000\">DataCreator2(&#39;DataCreator2_1&#39;)</text>\n",
       "</g>\n",
       "<!-- DataCreator1(&#39;DataCreator1_1&#39;)&#45;&gt;DataCreator2(&#39;DataCreator2_1&#39;) -->\n",
       "<g id=\"edge2\" class=\"edge\">\n",
       "<title>DataCreator1(&#39;DataCreator1_1&#39;)&#45;&gt;DataCreator2(&#39;DataCreator2_1&#39;)</title>\n",
       "<path fill=\"none\" stroke=\"#000000\" d=\"M451.1821,-171.1223C533.8393,-156.1429 670.0228,-131.4634 756.8237,-115.7331\"/>\n",
       "<polygon fill=\"#000000\" stroke=\"#000000\" points=\"757.6798,-119.1351 766.8954,-113.9079 756.4316,-112.2473 757.6798,-119.1351\"/>\n",
       "<text text-anchor=\"middle\" x=\"698.1221\" y=\"-140\" font-family=\"Helvetica,sans-Serif\" font-size=\"10.00\" fill=\"#000000\">grid_pkl_path&#45;&gt;grid_path</text>\n",
       "</g>\n",
       "<!-- DataCreator3(&#39;DataCreator3_1&#39;) -->\n",
       "<g id=\"node8\" class=\"node\">\n",
       "<title>DataCreator3(&#39;DataCreator3_1&#39;)</title>\n",
       "<ellipse fill=\"none\" stroke=\"#000000\" cx=\"617.1221\" cy=\"-101\" rx=\"101.0007\" ry=\"18\"/>\n",
       "<text text-anchor=\"middle\" x=\"617.1221\" y=\"-98.5\" font-family=\"Helvetica,sans-Serif\" font-size=\"10.00\" fill=\"#000000\">DataCreator3(&#39;DataCreator3_1&#39;)</text>\n",
       "</g>\n",
       "<!-- DataCreator1(&#39;DataCreator1_1&#39;)&#45;&gt;DataCreator3(&#39;DataCreator3_1&#39;) -->\n",
       "<g id=\"edge3\" class=\"edge\">\n",
       "<title>DataCreator1(&#39;DataCreator1_1&#39;)&#45;&gt;DataCreator3(&#39;DataCreator3_1&#39;)</title>\n",
       "<path fill=\"none\" stroke=\"#000000\" d=\"M399.0426,-166.0887C410.6343,-156.0746 426.2535,-144.1965 442.1221,-137 458.4541,-129.5934 495.7344,-121.5332 531.7075,-114.9208\"/>\n",
       "<polygon fill=\"#000000\" stroke=\"#000000\" points=\"532.5829,-118.3194 541.8006,-113.0959 531.3374,-111.431 532.5829,-118.3194\"/>\n",
       "<text text-anchor=\"middle\" x=\"504.1221\" y=\"-140\" font-family=\"Helvetica,sans-Serif\" font-size=\"10.00\" fill=\"#000000\">grid_pkl_path&#45;&gt;grid_path</text>\n",
       "</g>\n",
       "<!-- LagCreator(&#39;LagCreator_1&#39;) -->\n",
       "<g id=\"node9\" class=\"node\">\n",
       "<title>LagCreator(&#39;LagCreator_1&#39;)</title>\n",
       "<ellipse fill=\"none\" stroke=\"#000000\" cx=\"87.1221\" cy=\"-101\" rx=\"87.2444\" ry=\"18\"/>\n",
       "<text text-anchor=\"middle\" x=\"87.1221\" y=\"-98.5\" font-family=\"Helvetica,sans-Serif\" font-size=\"10.00\" fill=\"#000000\">LagCreator(&#39;LagCreator_1&#39;)</text>\n",
       "</g>\n",
       "<!-- DataCreator1(&#39;DataCreator1_1&#39;)&#45;&gt;LagCreator(&#39;LagCreator_1&#39;) -->\n",
       "<g id=\"edge4\" class=\"edge\">\n",
       "<title>DataCreator1(&#39;DataCreator1_1&#39;)&#45;&gt;LagCreator(&#39;LagCreator_1&#39;)</title>\n",
       "<path fill=\"none\" stroke=\"#000000\" d=\"M284.5349,-177.9723C223.5246,-172.7247 151.018,-163.4639 124.1221,-148 115.5272,-143.0584 108.1971,-135.266 102.3838,-127.4364\"/>\n",
       "<polygon fill=\"#000000\" stroke=\"#000000\" points=\"105.2025,-125.3572 96.683,-119.059 99.4154,-129.2954 105.2025,-125.3572\"/>\n",
       "<text text-anchor=\"middle\" x=\"186.1221\" y=\"-140\" font-family=\"Helvetica,sans-Serif\" font-size=\"10.00\" fill=\"#000000\">grid_pkl_path&#45;&gt;grid_path</text>\n",
       "</g>\n",
       "<!-- Encoder(&#39;Encoder_1&#39;) -->\n",
       "<g id=\"node10\" class=\"node\">\n",
       "<title>Encoder(&#39;Encoder_1&#39;)</title>\n",
       "<ellipse fill=\"none\" stroke=\"#000000\" cx=\"262.1221\" cy=\"-101\" rx=\"70.1018\" ry=\"18\"/>\n",
       "<text text-anchor=\"middle\" x=\"262.1221\" y=\"-98.5\" font-family=\"Helvetica,sans-Serif\" font-size=\"10.00\" fill=\"#000000\">Encoder(&#39;Encoder_1&#39;)</text>\n",
       "</g>\n",
       "<!-- DataCreator1(&#39;DataCreator1_1&#39;)&#45;&gt;Encoder(&#39;Encoder_1&#39;) -->\n",
       "<g id=\"edge5\" class=\"edge\">\n",
       "<title>DataCreator1(&#39;DataCreator1_1&#39;)&#45;&gt;Encoder(&#39;Encoder_1&#39;)</title>\n",
       "<path fill=\"none\" stroke=\"#000000\" d=\"M309.3052,-171.1066C285.5305,-165.2316 263.2229,-157.4554 256.1221,-148 252.1025,-142.6474 251.2446,-135.9487 251.9444,-129.3005\"/>\n",
       "<polygon fill=\"#000000\" stroke=\"#000000\" points=\"255.4576,-129.6026 254.0961,-119.0956 248.6082,-128.1584 255.4576,-129.6026\"/>\n",
       "<text text-anchor=\"middle\" x=\"318.1221\" y=\"-140\" font-family=\"Helvetica,sans-Serif\" font-size=\"10.00\" fill=\"#000000\">grid_pkl_path&#45;&gt;grid_path</text>\n",
       "</g>\n",
       "<!-- DataConcatenation(&#39;DataConcatenation_1&#39;) -->\n",
       "<g id=\"node3\" class=\"node\">\n",
       "<title>DataConcatenation(&#39;DataConcatenation_1&#39;)</title>\n",
       "<ellipse fill=\"none\" stroke=\"#000000\" cx=\"380.1221\" cy=\"-267\" rx=\"134.6079\" ry=\"18\"/>\n",
       "<text text-anchor=\"middle\" x=\"380.1221\" y=\"-264.5\" font-family=\"Helvetica,sans-Serif\" font-size=\"10.00\" fill=\"#000000\">DataConcatenation(&#39;DataConcatenation_1&#39;)</text>\n",
       "</g>\n",
       "<!-- DataConcatenation(&#39;DataConcatenation_1&#39;)&#45;&gt;DataCreator1(&#39;DataCreator1_1&#39;) -->\n",
       "<g id=\"edge6\" class=\"edge\">\n",
       "<title>DataConcatenation(&#39;DataConcatenation_1&#39;)&#45;&gt;DataCreator1(&#39;DataCreator1_1&#39;)</title>\n",
       "<path fill=\"none\" stroke=\"#000000\" d=\"M380.1221,-248.9902C380.1221,-238.2963 380.1221,-224.4994 380.1221,-212.3706\"/>\n",
       "<polygon fill=\"#000000\" stroke=\"#000000\" points=\"383.6222,-212.2612 380.1221,-202.2612 376.6222,-212.2613 383.6222,-212.2612\"/>\n",
       "<text text-anchor=\"middle\" x=\"456.1221\" y=\"-223\" font-family=\"Helvetica,sans-Serif\" font-size=\"10.00\" fill=\"#000000\">grid_df_int_path&#45;&gt;grid_df_path</text>\n",
       "</g>\n",
       "<!-- Melter(&#39;Melter_1&#39;) -->\n",
       "<g id=\"node4\" class=\"node\">\n",
       "<title>Melter(&#39;Melter_1&#39;)</title>\n",
       "<ellipse fill=\"none\" stroke=\"#000000\" cx=\"380.1221\" cy=\"-350\" rx=\"60.7649\" ry=\"18\"/>\n",
       "<text text-anchor=\"middle\" x=\"380.1221\" y=\"-347.5\" font-family=\"Helvetica,sans-Serif\" font-size=\"10.00\" fill=\"#000000\">Melter(&#39;Melter_1&#39;)</text>\n",
       "</g>\n",
       "<!-- Melter(&#39;Melter_1&#39;)&#45;&gt;DataConcatenation(&#39;DataConcatenation_1&#39;) -->\n",
       "<g id=\"edge7\" class=\"edge\">\n",
       "<title>Melter(&#39;Melter_1&#39;)&#45;&gt;DataConcatenation(&#39;DataConcatenation_1&#39;)</title>\n",
       "<path fill=\"none\" stroke=\"#000000\" d=\"M380.1221,-331.9902C380.1221,-321.2963 380.1221,-307.4994 380.1221,-295.3706\"/>\n",
       "<polygon fill=\"#000000\" stroke=\"#000000\" points=\"383.6222,-295.2612 380.1221,-285.2612 376.6222,-295.2613 383.6222,-295.2612\"/>\n",
       "<text text-anchor=\"middle\" x=\"447.1221\" y=\"-306\" font-family=\"Helvetica,sans-Serif\" font-size=\"10.00\" fill=\"#000000\">grid_df_path&#45;&gt;grid_df_path</text>\n",
       "</g>\n",
       "<!-- Configs(&#39;Configs_1&#39;) -->\n",
       "<g id=\"node5\" class=\"node\">\n",
       "<title>Configs(&#39;Configs_1&#39;)</title>\n",
       "<ellipse fill=\"none\" stroke=\"#000000\" cx=\"505.1221\" cy=\"-433\" rx=\"66.5378\" ry=\"18\"/>\n",
       "<text text-anchor=\"middle\" x=\"505.1221\" y=\"-430.5\" font-family=\"Helvetica,sans-Serif\" font-size=\"10.00\" fill=\"#000000\">Configs(&#39;Configs_1&#39;)</text>\n",
       "</g>\n",
       "<!-- Configs(&#39;Configs_1&#39;)&#45;&gt;DataCreator1(&#39;DataCreator1_1&#39;) -->\n",
       "<g id=\"edge11\" class=\"edge\">\n",
       "<title>Configs(&#39;Configs_1&#39;)&#45;&gt;DataCreator1(&#39;DataCreator1_1&#39;)</title>\n",
       "<path fill=\"none\" stroke=\"#000000\" d=\"M441.6246,-427.5934C380.6115,-421.6844 293.2307,-411.1407 262.1221,-397 215.4801,-375.7984 199.8243,-362.0793 182.1221,-314 159.891,-253.6199 238.8018,-218.4848 303.523,-200.2912\"/>\n",
       "<polygon fill=\"#000000\" stroke=\"#000000\" points=\"304.6276,-203.6182 313.3626,-197.6222 302.795,-196.8623 304.6276,-203.6182\"/>\n",
       "<text text-anchor=\"middle\" x=\"217.6221\" y=\"-306\" font-family=\"Helvetica,sans-Serif\" font-size=\"10.00\" fill=\"#000000\">config&#45;&gt;config</text>\n",
       "</g>\n",
       "<!-- Configs(&#39;Configs_1&#39;)&#45;&gt;DataConcatenation(&#39;DataConcatenation_1&#39;) -->\n",
       "<g id=\"edge10\" class=\"edge\">\n",
       "<title>Configs(&#39;Configs_1&#39;)&#45;&gt;DataConcatenation(&#39;DataConcatenation_1&#39;)</title>\n",
       "<path fill=\"none\" stroke=\"#000000\" d=\"M442.7464,-426.5676C372.2263,-417.8573 263.9644,-399.6437 239.1221,-368 211.4056,-332.6951 263.7716,-304.261 312.3572,-286.6663\"/>\n",
       "<polygon fill=\"#000000\" stroke=\"#000000\" points=\"313.7159,-289.8991 321.9991,-283.2931 311.4042,-283.2918 313.7159,-289.8991\"/>\n",
       "<text text-anchor=\"middle\" x=\"274.6221\" y=\"-347.5\" font-family=\"Helvetica,sans-Serif\" font-size=\"10.00\" fill=\"#000000\">config&#45;&gt;config</text>\n",
       "</g>\n",
       "<!-- Configs(&#39;Configs_1&#39;)&#45;&gt;Melter(&#39;Melter_1&#39;) -->\n",
       "<g id=\"edge8\" class=\"edge\">\n",
       "<title>Configs(&#39;Configs_1&#39;)&#45;&gt;Melter(&#39;Melter_1&#39;)</title>\n",
       "<path fill=\"none\" stroke=\"#000000\" d=\"M479.8265,-416.2037C460.7256,-403.5207 434.3355,-385.9977 413.5037,-372.1654\"/>\n",
       "<polygon fill=\"#000000\" stroke=\"#000000\" points=\"415.2204,-369.1039 404.9535,-366.4881 411.3482,-374.9355 415.2204,-369.1039\"/>\n",
       "<text text-anchor=\"middle\" x=\"484.6221\" y=\"-389\" font-family=\"Helvetica,sans-Serif\" font-size=\"10.00\" fill=\"#000000\">config&#45;&gt;config</text>\n",
       "</g>\n",
       "<!-- ValidDataCreator(&#39;ValidDataCreator_1&#39;) -->\n",
       "<g id=\"node6\" class=\"node\">\n",
       "<title>ValidDataCreator(&#39;ValidDataCreator_1&#39;)</title>\n",
       "<ellipse fill=\"none\" stroke=\"#000000\" cx=\"581.1221\" cy=\"-350\" rx=\"122.3838\" ry=\"18\"/>\n",
       "<text text-anchor=\"middle\" x=\"581.1221\" y=\"-347.5\" font-family=\"Helvetica,sans-Serif\" font-size=\"10.00\" fill=\"#000000\">ValidDataCreator(&#39;ValidDataCreator_1&#39;)</text>\n",
       "</g>\n",
       "<!-- Configs(&#39;Configs_1&#39;)&#45;&gt;ValidDataCreator(&#39;ValidDataCreator_1&#39;) -->\n",
       "<g id=\"edge9\" class=\"edge\">\n",
       "<title>Configs(&#39;Configs_1&#39;)&#45;&gt;ValidDataCreator(&#39;ValidDataCreator_1&#39;)</title>\n",
       "<path fill=\"none\" stroke=\"#000000\" d=\"M521.2398,-415.3978C531.8483,-403.8122 545.9084,-388.4571 557.7387,-375.5372\"/>\n",
       "<polygon fill=\"#000000\" stroke=\"#000000\" points=\"560.5938,-377.6018 564.7657,-367.8629 555.4311,-372.8745 560.5938,-377.6018\"/>\n",
       "<text text-anchor=\"middle\" x=\"582.6221\" y=\"-389\" font-family=\"Helvetica,sans-Serif\" font-size=\"10.00\" fill=\"#000000\">config&#45;&gt;config</text>\n",
       "</g>\n",
       "<!-- Configs(&#39;Configs_1&#39;)&#45;&gt;DataCreator2(&#39;DataCreator2_1&#39;) -->\n",
       "<g id=\"edge12\" class=\"edge\">\n",
       "<title>Configs(&#39;Configs_1&#39;)&#45;&gt;DataCreator2(&#39;DataCreator2_1&#39;)</title>\n",
       "<path fill=\"none\" stroke=\"#000000\" d=\"M570.9122,-429.9008C667.9586,-423.5048 838.1221,-404.5168 838.1221,-350 838.1221,-350 838.1221,-350 838.1221,-184 838.1221,-165.8528 838.1221,-145.4737 838.1221,-129.4504\"/>\n",
       "<polygon fill=\"#000000\" stroke=\"#000000\" points=\"841.6222,-129.1342 838.1221,-119.1342 834.6222,-129.1342 841.6222,-129.1342\"/>\n",
       "<text text-anchor=\"middle\" x=\"873.6221\" y=\"-264.5\" font-family=\"Helvetica,sans-Serif\" font-size=\"10.00\" fill=\"#000000\">config&#45;&gt;config</text>\n",
       "</g>\n",
       "<!-- Configs(&#39;Configs_1&#39;)&#45;&gt;DataCreator3(&#39;DataCreator3_1&#39;) -->\n",
       "<g id=\"edge13\" class=\"edge\">\n",
       "<title>Configs(&#39;Configs_1&#39;)&#45;&gt;DataCreator3(&#39;DataCreator3_1&#39;)</title>\n",
       "<path fill=\"none\" stroke=\"#000000\" d=\"M562.1515,-423.6663C629.1021,-411.0575 731.1221,-385.9467 731.1221,-350 731.1221,-350 731.1221,-350 731.1221,-184 731.1221,-162.2041 732.0962,-152.8379 717.1221,-137 710.1341,-129.6089 701.5188,-123.7316 692.301,-119.0589\"/>\n",
       "<polygon fill=\"#000000\" stroke=\"#000000\" points=\"693.4708,-115.7455 682.9204,-114.7763 690.5636,-122.1133 693.4708,-115.7455\"/>\n",
       "<text text-anchor=\"middle\" x=\"766.6221\" y=\"-264.5\" font-family=\"Helvetica,sans-Serif\" font-size=\"10.00\" fill=\"#000000\">config&#45;&gt;config</text>\n",
       "</g>\n",
       "<!-- ValidDataCreator(&#39;ValidDataCreator_1&#39;)&#45;&gt;DataConcatenation(&#39;DataConcatenation_1&#39;) -->\n",
       "<g id=\"edge14\" class=\"edge\">\n",
       "<title>ValidDataCreator(&#39;ValidDataCreator_1&#39;)&#45;&gt;DataConcatenation(&#39;DataConcatenation_1&#39;)</title>\n",
       "<path fill=\"none\" stroke=\"#000000\" d=\"M561.429,-332.1753C549.6146,-322.317 533.8646,-310.567 518.1221,-303 502.4521,-295.4678 484.9959,-289.3592 467.9122,-284.4598\"/>\n",
       "<polygon fill=\"#000000\" stroke=\"#000000\" points=\"468.4829,-280.987 457.913,-281.7133 466.6288,-287.737 468.4829,-280.987\"/>\n",
       "<text text-anchor=\"middle\" x=\"611.6221\" y=\"-306\" font-family=\"Helvetica,sans-Serif\" font-size=\"10.00\" fill=\"#000000\">add_grid_path&#45;&gt;add_grid_path</text>\n",
       "</g>\n",
       "<!-- DataCreator2(&#39;DataCreator2_1&#39;)&#45;&gt;Train(&#39;Train_1&#39;) -->\n",
       "<g id=\"edge15\" class=\"edge\">\n",
       "<title>DataCreator2(&#39;DataCreator2_1&#39;)&#45;&gt;Train(&#39;Train_1&#39;)</title>\n",
       "<path fill=\"none\" stroke=\"#000000\" d=\"M791.3223,-84.992C759.9169,-74.7907 717.4376,-62.0278 679.1221,-54 602.5678,-37.9604 512.8474,-28.0621 454.8248,-22.8004\"/>\n",
       "<polygon fill=\"#000000\" stroke=\"#000000\" points=\"454.9968,-19.3019 444.7261,-21.9024 454.3768,-26.2744 454.9968,-19.3019\"/>\n",
       "<text text-anchor=\"middle\" x=\"785.6221\" y=\"-57\" font-family=\"Helvetica,sans-Serif\" font-size=\"10.00\" fill=\"#000000\">grid_two_df_path&#45;&gt;PRICE</text>\n",
       "</g>\n",
       "<!-- DataCreator3(&#39;DataCreator3_1&#39;)&#45;&gt;Train(&#39;Train_1&#39;) -->\n",
       "<g id=\"edge16\" class=\"edge\">\n",
       "<title>DataCreator3(&#39;DataCreator3_1&#39;)&#45;&gt;Train(&#39;Train_1&#39;)</title>\n",
       "<path fill=\"none\" stroke=\"#000000\" d=\"M573.3306,-84.7009C534.6257,-70.295 478.4023,-49.3689 439.2893,-34.8111\"/>\n",
       "<polygon fill=\"#000000\" stroke=\"#000000\" points=\"440.3279,-31.4631 429.7351,-31.255 437.8861,-38.0235 440.3279,-31.4631\"/>\n",
       "<text text-anchor=\"middle\" x=\"596.6221\" y=\"-57\" font-family=\"Helvetica,sans-Serif\" font-size=\"10.00\" fill=\"#000000\">grid_three_df_path&#45;&gt;CALENDAR</text>\n",
       "</g>\n",
       "<!-- LagCreator(&#39;LagCreator_1&#39;)&#45;&gt;Train(&#39;Train_1&#39;) -->\n",
       "<g id=\"edge17\" class=\"edge\">\n",
       "<title>LagCreator(&#39;LagCreator_1&#39;)&#45;&gt;Train(&#39;Train_1&#39;)</title>\n",
       "<path fill=\"none\" stroke=\"#000000\" d=\"M98.1347,-82.9013C105.3493,-72.6901 115.7285,-60.6744 128.1221,-54 162.4168,-35.5311 265.3479,-25.8319 332.6524,-21.3244\"/>\n",
       "<polygon fill=\"#000000\" stroke=\"#000000\" points=\"332.9695,-24.8113 342.7218,-20.6708 332.5161,-17.826 332.9695,-24.8113\"/>\n",
       "<text text-anchor=\"middle\" x=\"175.6221\" y=\"-57\" font-family=\"Helvetica,sans-Serif\" font-size=\"10.00\" fill=\"#000000\">lag_df_path&#45;&gt;LAGS</text>\n",
       "</g>\n",
       "<!-- Encoder(&#39;Encoder_1&#39;)&#45;&gt;Train(&#39;Train_1&#39;) -->\n",
       "<g id=\"edge18\" class=\"edge\">\n",
       "<title>Encoder(&#39;Encoder_1&#39;)&#45;&gt;Train(&#39;Train_1&#39;)</title>\n",
       "<path fill=\"none\" stroke=\"#000000\" d=\"M238.7939,-83.5625C229.488,-74.4986 222.5743,-63.3844 230.1221,-54 243.118,-37.8419 292.3202,-28.5247 333.4723,-23.4353\"/>\n",
       "<polygon fill=\"#000000\" stroke=\"#000000\" points=\"333.9395,-26.9046 343.4626,-22.2611 333.1224,-19.9524 333.9395,-26.9046\"/>\n",
       "<text text-anchor=\"middle\" x=\"305.1221\" y=\"-57\" font-family=\"Helvetica,sans-Serif\" font-size=\"10.00\" fill=\"#000000\">encoded_df_path&#45;&gt;MEAN_ENC</text>\n",
       "</g>\n",
       "</g>\n",
       "</svg>\n"
      ],
      "text/plain": [
       "<razor.flow.pipeline.Pipeline at 0x7f02b7b4a210>"
      ]
     },
     "execution_count": 17,
     "metadata": {},
     "output_type": "execute_result"
    }
   ],
   "source": [
    "p"
   ]
  },
  {
   "cell_type": "code",
   "execution_count": 18,
   "metadata": {},
   "outputs": [],
   "source": [
    "deployed_pipeline = razor.api.engines('DS-engine').execute(pipeline=p)\n"
   ]
  },
  {
   "cell_type": "code",
   "execution_count": 19,
   "metadata": {},
   "outputs": [
    {
     "data": {
      "application/vnd.razorthink.run+monitor+json": "/home/jovyan/logs/7faf7cb2-c4e2-41e7-9068-ad51ac396715",
      "text/plain": [
       "<razor_tools.backend.ipython.mime.run_monitor.RunMonitor at 0x7f02bd96e310>"
      ]
     },
     "metadata": {
      "application/vnd.razorthink.run+monitor+json": {
       "store_in_notebook": false
      }
     },
     "output_type": "display_data"
    },
    {
     "data": {
      "text/html": [],
      "text/plain": [
       "PlatformPipelineRun(project_id='c0b26d85-a4c9-44f5-9d0e-f540dd2de644', pipeline_id='3ee08afa-079e-11eb-8339-0242ac110009', pipeline_name='Walmart Training Pipeline', pipeline_run_id='7faf7cb2-c4e2-41e7-9068-ad51ac396715', pipeline_version=None, comment=None, created_on='2020-10-06T06:36:21.471+00:00', start_time=None, end_time=None, eta=0, run_at=1601966181471, run_duration=0, compute_time=0, wait_time=765, ran_by_user=RanByUser(user_name='Ayan Basak', email='ayan.basak@razorthink.com'), status='IN_PROGRESS', block_status=[PlatformPipelineBlockRun(pipeline_run_id='7faf7cb2-c4e2-41e7-9068-ad51ac396715', pipeline_name='Walmart Training Pipeline', pipeline_status='IN_PROGRESS', block_id='7fba7e54-2f7a-4ad6-9b3a-b24166931cec', block_run_id='e9440af9-06dc-4877-bd56-162b8a8e144f', block_name='Configs_1', resource_spec=ResourceAllocated(cores=2, memory=3000, use_gpu=False, gpu=0, use_gpu_if_available=False, cluster_configuration={'worker': None, 'workerCore': None, 'workerMemory': None, 'numberOfInstances': None, 'maxServerCount': None}, additional_env={}, run_env='PYTHON'), technology='PYTHON', status='READY_TO_GO', containers=[], cluster_id='7fba7e54-2f7a-4ad6-9b3a-b24166931cec', _log=None, _metric=None, wait_time=0, compute_time=0, start_time=None, end_time=None, queued_at='2020-10-06T06:36:23.000+00:00'), PlatformPipelineBlockRun(pipeline_run_id='7faf7cb2-c4e2-41e7-9068-ad51ac396715', pipeline_name='Walmart Training Pipeline', pipeline_status='IN_PROGRESS', block_id='898654ac-ec64-4413-a35f-0577718d3ccc', block_run_id='d9ddb880-a69d-413c-8289-84bd90f6fc46', block_name='ValidDataCreator_1', resource_spec=ResourceAllocated(cores=2, memory=8192, use_gpu=False, gpu=0, use_gpu_if_available=False, cluster_configuration={'worker': None, 'workerCore': None, 'workerMemory': None, 'numberOfInstances': None, 'maxServerCount': None}, additional_env={}, run_env='PYTHON'), technology='PYTHON', status='YET_TO_START', containers=[], cluster_id='898654ac-ec64-4413-a35f-0577718d3ccc', _log=None, _metric=None, wait_time=0, compute_time=0, start_time=None, end_time=None, queued_at=None), PlatformPipelineBlockRun(pipeline_run_id='7faf7cb2-c4e2-41e7-9068-ad51ac396715', pipeline_name='Walmart Training Pipeline', pipeline_status='IN_PROGRESS', block_id='eebc38ae-7b0c-42ff-ac73-0b75ca39e8a4', block_run_id='e9b12dc6-8aab-4e73-91f9-8e63250472d3', block_name='Melter_1', resource_spec=ResourceAllocated(cores=2, memory=10192, use_gpu=False, gpu=0, use_gpu_if_available=False, cluster_configuration={'worker': None, 'workerCore': None, 'workerMemory': None, 'numberOfInstances': None, 'maxServerCount': None}, additional_env={}, run_env='PYTHON'), technology='PYTHON', status='YET_TO_START', containers=[], cluster_id='eebc38ae-7b0c-42ff-ac73-0b75ca39e8a4', _log=None, _metric=None, wait_time=0, compute_time=0, start_time=None, end_time=None, queued_at=None), PlatformPipelineBlockRun(pipeline_run_id='7faf7cb2-c4e2-41e7-9068-ad51ac396715', pipeline_name='Walmart Training Pipeline', pipeline_status='IN_PROGRESS', block_id='81f64eb5-278b-4f2c-acc9-1cfd0424f2a7', block_run_id='f392f3ca-3000-4326-880f-095ba01a9a0f', block_name='DataConcatenation_1', resource_spec=ResourceAllocated(cores=2, memory=13000, use_gpu=False, gpu=0, use_gpu_if_available=False, cluster_configuration={'worker': None, 'workerCore': None, 'workerMemory': None, 'numberOfInstances': None, 'maxServerCount': None}, additional_env={}, run_env='PYTHON'), technology='PYTHON', status='YET_TO_START', containers=[], cluster_id='81f64eb5-278b-4f2c-acc9-1cfd0424f2a7', _log=None, _metric=None, wait_time=0, compute_time=0, start_time=None, end_time=None, queued_at=None), PlatformPipelineBlockRun(pipeline_run_id='7faf7cb2-c4e2-41e7-9068-ad51ac396715', pipeline_name='Walmart Training Pipeline', pipeline_status='IN_PROGRESS', block_id='43868c11-f6c6-4463-9960-ed9e2b7671ae', block_run_id='463de22a-9ec6-4d57-98b4-97355b242af8', block_name='DataCreator1_1', resource_spec=ResourceAllocated(cores=2, memory=20000, use_gpu=False, gpu=0, use_gpu_if_available=False, cluster_configuration={'worker': None, 'workerCore': None, 'workerMemory': None, 'numberOfInstances': None, 'maxServerCount': None}, additional_env={}, run_env='PYTHON'), technology='PYTHON', status='YET_TO_START', containers=[], cluster_id='43868c11-f6c6-4463-9960-ed9e2b7671ae', _log=None, _metric=None, wait_time=0, compute_time=0, start_time=None, end_time=None, queued_at=None), PlatformPipelineBlockRun(pipeline_run_id='7faf7cb2-c4e2-41e7-9068-ad51ac396715', pipeline_name='Walmart Training Pipeline', pipeline_status='IN_PROGRESS', block_id='387d4546-053e-40c7-9459-d9747b9d57bf', block_run_id='4f224b0e-c63e-4828-8a9f-d696a08ed9a4', block_name='DataCreator3_1', resource_spec=ResourceAllocated(cores=2, memory=20000, use_gpu=False, gpu=0, use_gpu_if_available=False, cluster_configuration={'worker': None, 'workerCore': None, 'workerMemory': None, 'numberOfInstances': None, 'maxServerCount': None}, additional_env={}, run_env='PYTHON'), technology='PYTHON', status='YET_TO_START', containers=[], cluster_id='387d4546-053e-40c7-9459-d9747b9d57bf', _log=None, _metric=None, wait_time=0, compute_time=0, start_time=None, end_time=None, queued_at=None), PlatformPipelineBlockRun(pipeline_run_id='7faf7cb2-c4e2-41e7-9068-ad51ac396715', pipeline_name='Walmart Training Pipeline', pipeline_status='IN_PROGRESS', block_id='0a417926-89c9-471d-a806-46f494b1b66d', block_run_id='5d023349-e6b0-4ee3-8e0a-df207fc82ba8', block_name='DataCreator2_1', resource_spec=ResourceAllocated(cores=2, memory=20000, use_gpu=False, gpu=0, use_gpu_if_available=False, cluster_configuration={'worker': None, 'workerCore': None, 'workerMemory': None, 'numberOfInstances': None, 'maxServerCount': None}, additional_env={}, run_env='PYTHON'), technology='PYTHON', status='YET_TO_START', containers=[], cluster_id='0a417926-89c9-471d-a806-46f494b1b66d', _log=None, _metric=None, wait_time=0, compute_time=0, start_time=None, end_time=None, queued_at=None), PlatformPipelineBlockRun(pipeline_run_id='7faf7cb2-c4e2-41e7-9068-ad51ac396715', pipeline_name='Walmart Training Pipeline', pipeline_status='IN_PROGRESS', block_id='a1b64aaf-177d-4a92-a4c7-0c98b5e0605d', block_run_id='cfa5449f-a397-40d6-a68b-a15ab4f2802d', block_name='LagCreator_1', resource_spec=ResourceAllocated(cores=2, memory=20000, use_gpu=False, gpu=0, use_gpu_if_available=False, cluster_configuration={'worker': None, 'workerCore': None, 'workerMemory': None, 'numberOfInstances': None, 'maxServerCount': None}, additional_env={}, run_env='PYTHON'), technology='PYTHON', status='YET_TO_START', containers=[], cluster_id='a1b64aaf-177d-4a92-a4c7-0c98b5e0605d', _log=None, _metric=None, wait_time=0, compute_time=0, start_time=None, end_time=None, queued_at=None), PlatformPipelineBlockRun(pipeline_run_id='7faf7cb2-c4e2-41e7-9068-ad51ac396715', pipeline_name='Walmart Training Pipeline', pipeline_status='IN_PROGRESS', block_id='97ae11d8-adb2-46ed-9061-a235ce52a489', block_run_id='fdab6919-800b-4756-bc0c-33b67e9ba487', block_name='Encoder_1', resource_spec=ResourceAllocated(cores=2, memory=16192, use_gpu=False, gpu=0, use_gpu_if_available=False, cluster_configuration={'worker': None, 'workerCore': None, 'workerMemory': None, 'numberOfInstances': None, 'maxServerCount': None}, additional_env={}, run_env='PYTHON'), technology='PYTHON', status='YET_TO_START', containers=[], cluster_id='97ae11d8-adb2-46ed-9061-a235ce52a489', _log=None, _metric=None, wait_time=0, compute_time=0, start_time=None, end_time=None, queued_at=None), PlatformPipelineBlockRun(pipeline_run_id='7faf7cb2-c4e2-41e7-9068-ad51ac396715', pipeline_name='Walmart Training Pipeline', pipeline_status='IN_PROGRESS', block_id='6c7b8e57-8eeb-4a38-9df0-43dae4b7bb04', block_run_id='4c134287-1666-4f20-a60d-190f19bf101c', block_name='Train_1', resource_spec=ResourceAllocated(cores=2, memory=36000, use_gpu=False, gpu=0, use_gpu_if_available=False, cluster_configuration={'worker': None, 'workerCore': None, 'workerMemory': None, 'numberOfInstances': None, 'maxServerCount': None}, additional_env={}, run_env='PYTHON'), technology='PYTHON', status='YET_TO_START', containers=[], cluster_id='6c7b8e57-8eeb-4a38-9df0-43dae4b7bb04', _log=None, _metric=None, wait_time=0, compute_time=0, start_time=None, end_time=None, queued_at=None)], run_number=331, pipeline_variable_list=[], block_run_details=[BlockRunDetail(block_id='7fba7e54-2f7a-4ad6-9b3a-b24166931cec', block_run_id='e9440af9-06dc-4877-bd56-162b8a8e144f', block_name='Configs_1', technology='PYTHON', log_path=None, input_parameters='{}', output_parameters=None, status='READY_TO_GO', created_at='2020-10-06T06:36:21.669+00:00', queued_at='2020-10-06T06:36:23.000+00:00', start_time=None, end_time=None, compute_time=0, wait_time=0, run_time=0, block_run_output_list=[BlockRunOutputList(output_id='bb5ff707-29a9-4d6e-a342-d6b74b93fee1', output_name='config', created_on='2020-10-06T06:36:21.887+00:00', output_status='YET_TO_START', block_transport='FILE'), BlockRunOutputList(output_id='6f34e54a-a917-47e9-824b-2873f0b5c154', output_name='config', created_on='2020-10-06T06:36:21.896+00:00', output_status='YET_TO_START', block_transport='FILE'), BlockRunOutputList(output_id='4be45415-5f62-4017-9843-aa5bfc9f89ac', output_name='config', created_on='2020-10-06T06:36:21.920+00:00', output_status='YET_TO_START', block_transport='FILE'), BlockRunOutputList(output_id='6e40e46d-d08a-4e35-a1a3-9917c44abe35', output_name='config', created_on='2020-10-06T06:36:21.925+00:00', output_status='YET_TO_START', block_transport='FILE'), BlockRunOutputList(output_id='f2c59220-043f-4d20-b6ed-8832b230bfac', output_name='config', created_on='2020-10-06T06:36:21.935+00:00', output_status='YET_TO_START', block_transport='FILE'), BlockRunOutputList(output_id='fe1ba458-1620-4d35-969b-c4d657a876ef', output_name='config', created_on='2020-10-06T06:36:21.941+00:00', output_status='YET_TO_START', block_transport='FILE')], resource_allocated=ResourceAllocated(cores=2, memory=3000, use_gpu=False, gpu=0, use_gpu_if_available=False, cluster_configuration={'worker': None, 'workerCore': None, 'workerMemory': None, 'numberOfInstances': None, 'maxServerCount': None}, additional_env={}, run_env='PYTHON')), BlockRunDetail(block_id='898654ac-ec64-4413-a35f-0577718d3ccc', block_run_id='d9ddb880-a69d-413c-8289-84bd90f6fc46', block_name='ValidDataCreator_1', technology='PYTHON', log_path=None, input_parameters=None, output_parameters=None, status='YET_TO_START', created_at='2020-10-06T06:36:21.950+00:00', queued_at=None, start_time=None, end_time=None, compute_time=0, wait_time=0, run_time=0, block_run_output_list=[BlockRunOutputList(output_id='1a92852a-3144-49c8-bd71-f8b56cf9f6cd', output_name='add_grid_path', created_on='2020-10-06T06:36:22.048+00:00', output_status='YET_TO_START', block_transport='FILE')], resource_allocated=ResourceAllocated(cores=2, memory=8192, use_gpu=False, gpu=0, use_gpu_if_available=False, cluster_configuration={'worker': None, 'workerCore': None, 'workerMemory': None, 'numberOfInstances': None, 'maxServerCount': None}, additional_env={}, run_env='PYTHON')), BlockRunDetail(block_id='eebc38ae-7b0c-42ff-ac73-0b75ca39e8a4', block_run_id='e9b12dc6-8aab-4e73-91f9-8e63250472d3', block_name='Melter_1', technology='PYTHON', log_path=None, input_parameters=None, output_parameters=None, status='YET_TO_START', created_at='2020-10-06T06:36:22.072+00:00', queued_at=None, start_time=None, end_time=None, compute_time=0, wait_time=0, run_time=0, block_run_output_list=[BlockRunOutputList(output_id='a288100d-3f77-4be4-834e-2071aa4fcfe0', output_name='grid_df_path', created_on='2020-10-06T06:36:22.186+00:00', output_status='YET_TO_START', block_transport='FILE')], resource_allocated=ResourceAllocated(cores=2, memory=10192, use_gpu=False, gpu=0, use_gpu_if_available=False, cluster_configuration={'worker': None, 'workerCore': None, 'workerMemory': None, 'numberOfInstances': None, 'maxServerCount': None}, additional_env={}, run_env='PYTHON')), BlockRunDetail(block_id='81f64eb5-278b-4f2c-acc9-1cfd0424f2a7', block_run_id='f392f3ca-3000-4326-880f-095ba01a9a0f', block_name='DataConcatenation_1', technology='PYTHON', log_path=None, input_parameters=None, output_parameters=None, status='YET_TO_START', created_at='2020-10-06T06:36:22.193+00:00', queued_at=None, start_time=None, end_time=None, compute_time=0, wait_time=0, run_time=0, block_run_output_list=[BlockRunOutputList(output_id='1a7c1ce6-3a53-40ac-9114-00d5e74aa773', output_name='grid_df_int_path', created_on='2020-10-06T06:36:22.261+00:00', output_status='YET_TO_START', block_transport='FILE')], resource_allocated=ResourceAllocated(cores=2, memory=13000, use_gpu=False, gpu=0, use_gpu_if_available=False, cluster_configuration={'worker': None, 'workerCore': None, 'workerMemory': None, 'numberOfInstances': None, 'maxServerCount': None}, additional_env={}, run_env='PYTHON')), BlockRunDetail(block_id='43868c11-f6c6-4463-9960-ed9e2b7671ae', block_run_id='463de22a-9ec6-4d57-98b4-97355b242af8', block_name='DataCreator1_1', technology='PYTHON', log_path=None, input_parameters=None, output_parameters=None, status='YET_TO_START', created_at='2020-10-06T06:36:22.274+00:00', queued_at=None, start_time=None, end_time=None, compute_time=0, wait_time=0, run_time=0, block_run_output_list=[BlockRunOutputList(output_id='e171fe05-17c1-41c2-8286-e4eccdbf0be4', output_name='grid_pkl_path', created_on='2020-10-06T06:36:22.388+00:00', output_status='YET_TO_START', block_transport='FILE'), BlockRunOutputList(output_id='aec68a70-8c5d-4329-9eca-a5faf521cfa8', output_name='grid_pkl_path', created_on='2020-10-06T06:36:22.402+00:00', output_status='YET_TO_START', block_transport='FILE'), BlockRunOutputList(output_id='5220b47e-c129-4d50-8889-1bdd4e51656e', output_name='grid_pkl_path', created_on='2020-10-06T06:36:22.418+00:00', output_status='YET_TO_START', block_transport='FILE'), BlockRunOutputList(output_id='0dde09c2-c888-4e38-b9b7-42f790958aa9', output_name='grid_pkl_path', created_on='2020-10-06T06:36:22.426+00:00', output_status='YET_TO_START', block_transport='FILE'), BlockRunOutputList(output_id='921c78fa-e329-4b58-bc9e-11d8c65629c8', output_name='grid_pkl_path', created_on='2020-10-06T06:36:22.435+00:00', output_status='YET_TO_START', block_transport='FILE')], resource_allocated=ResourceAllocated(cores=2, memory=20000, use_gpu=False, gpu=0, use_gpu_if_available=False, cluster_configuration={'worker': None, 'workerCore': None, 'workerMemory': None, 'numberOfInstances': None, 'maxServerCount': None}, additional_env={}, run_env='PYTHON')), BlockRunDetail(block_id='387d4546-053e-40c7-9459-d9747b9d57bf', block_run_id='4f224b0e-c63e-4828-8a9f-d696a08ed9a4', block_name='DataCreator3_1', technology='PYTHON', log_path=None, input_parameters=None, output_parameters=None, status='YET_TO_START', created_at='2020-10-06T06:36:22.454+00:00', queued_at=None, start_time=None, end_time=None, compute_time=0, wait_time=0, run_time=0, block_run_output_list=[BlockRunOutputList(output_id='a77f0511-c6ff-4775-94b5-a37005b7af03', output_name='grid_three_df_path', created_on='2020-10-06T06:36:22.553+00:00', output_status='YET_TO_START', block_transport='FILE')], resource_allocated=ResourceAllocated(cores=2, memory=20000, use_gpu=False, gpu=0, use_gpu_if_available=False, cluster_configuration={'worker': None, 'workerCore': None, 'workerMemory': None, 'numberOfInstances': None, 'maxServerCount': None}, additional_env={}, run_env='PYTHON')), BlockRunDetail(block_id='0a417926-89c9-471d-a806-46f494b1b66d', block_run_id='5d023349-e6b0-4ee3-8e0a-df207fc82ba8', block_name='DataCreator2_1', technology='PYTHON', log_path=None, input_parameters=None, output_parameters=None, status='YET_TO_START', created_at='2020-10-06T06:36:22.672+00:00', queued_at=None, start_time=None, end_time=None, compute_time=0, wait_time=0, run_time=0, block_run_output_list=[BlockRunOutputList(output_id='bdce8617-4ad1-4fef-8f8b-6799e52f627f', output_name='grid_two_df_path', created_on='2020-10-06T06:36:22.793+00:00', output_status='YET_TO_START', block_transport='FILE')], resource_allocated=ResourceAllocated(cores=2, memory=20000, use_gpu=False, gpu=0, use_gpu_if_available=False, cluster_configuration={'worker': None, 'workerCore': None, 'workerMemory': None, 'numberOfInstances': None, 'maxServerCount': None}, additional_env={}, run_env='PYTHON')), BlockRunDetail(block_id='a1b64aaf-177d-4a92-a4c7-0c98b5e0605d', block_run_id='cfa5449f-a397-40d6-a68b-a15ab4f2802d', block_name='LagCreator_1', technology='PYTHON', log_path=None, input_parameters=None, output_parameters=None, status='YET_TO_START', created_at='2020-10-06T06:36:22.800+00:00', queued_at=None, start_time=None, end_time=None, compute_time=0, wait_time=0, run_time=0, block_run_output_list=[BlockRunOutputList(output_id='a5027a96-766c-4357-ac88-271a3e9823b4', output_name='lag_df_path', created_on='2020-10-06T06:36:22.886+00:00', output_status='YET_TO_START', block_transport='FILE')], resource_allocated=ResourceAllocated(cores=2, memory=20000, use_gpu=False, gpu=0, use_gpu_if_available=False, cluster_configuration={'worker': None, 'workerCore': None, 'workerMemory': None, 'numberOfInstances': None, 'maxServerCount': None}, additional_env={}, run_env='PYTHON')), BlockRunDetail(block_id='97ae11d8-adb2-46ed-9061-a235ce52a489', block_run_id='fdab6919-800b-4756-bc0c-33b67e9ba487', block_name='Encoder_1', technology='PYTHON', log_path=None, input_parameters=None, output_parameters=None, status='YET_TO_START', created_at='2020-10-06T06:36:22.901+00:00', queued_at=None, start_time=None, end_time=None, compute_time=0, wait_time=0, run_time=0, block_run_output_list=[BlockRunOutputList(output_id='844f1a21-8510-405f-a7ca-bbb6d02c584c', output_name='encoded_df_path', created_on='2020-10-06T06:36:22.983+00:00', output_status='YET_TO_START', block_transport='FILE')], resource_allocated=ResourceAllocated(cores=2, memory=16192, use_gpu=False, gpu=0, use_gpu_if_available=False, cluster_configuration={'worker': None, 'workerCore': None, 'workerMemory': None, 'numberOfInstances': None, 'maxServerCount': None}, additional_env={}, run_env='PYTHON')), BlockRunDetail(block_id='6c7b8e57-8eeb-4a38-9df0-43dae4b7bb04', block_run_id='4c134287-1666-4f20-a60d-190f19bf101c', block_name='Train_1', technology='PYTHON', log_path=None, input_parameters=None, output_parameters=None, status='YET_TO_START', created_at='2020-10-06T06:36:22.999+00:00', queued_at=None, start_time=None, end_time=None, compute_time=0, wait_time=0, run_time=0, block_run_output_list=[], resource_allocated=ResourceAllocated(cores=2, memory=36000, use_gpu=False, gpu=0, use_gpu_if_available=False, cluster_configuration={'worker': None, 'workerCore': None, 'workerMemory': None, 'numberOfInstances': None, 'maxServerCount': None}, additional_env={}, run_env='PYTHON'))], pipeline_json='{\\n  \"id\": \"3ee08afa-079e-11eb-8339-0242ac110009\",\\n  \"projectId\": \"c0b26d85-a4c9-44f5-9d0e-f540dd2de644\",\\n  \"name\": \"Walmart Training Pipeline\",\\n  \"description\": \"\",\\n  \"blocks\": [\\n    {\\n      \"name\": \"Train_1\",\\n      \"id\": \"6c7b8e57-8eeb-4a38-9df0-43dae4b7bb04\",\\n      \"artifact_id\": null,\\n      \"class_name\": \"Train\",\\n      \"code\": \"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\",\\n      \"isPublishedBlock\": false,\\n      \"source\": null,\\n      \"inputProperty\": {\\n        \"BASE\": {\\n          \"dtype\": \"Any\",\\n          \"required\": \"false\",\\n          \"series\": false,\\n          \"adapter\": \"eJxrYJmqxgABPYJFiVX5RXppOfnlern5Kak5xVN6ePLy8wviE1MSC0pSi6ZMnqIHAF/+ELQ=\",\\n          \"validator\": \"eJxrYJmqwQABPYJFiVX5RXppOfnlern5Kak5xVN6+PLy8wviyxJzMlMSS/KLpkyeogcAg2wRnQ==\",\\n          \"source_id\": \"43868c11-f6c6-4463-9960-ed9e2b7671ae\",\\n          \"source_name\": \"grid_pkl_path\",\\n          \"inferred_type\": \"BLOCK\",\\n          \"value\": null\\n        },\\n        \"PRICE\": {\\n          \"dtype\": \"Any\",\\n          \"required\": \"false\",\\n          \"series\": false,\\n          \"adapter\": \"eJxrYJmqxgABPYJFiVX5RXppOfnlern5Kak5xVN6ePLy8wviE1MSC0pSi6ZMnqIHAF/+ELQ=\",\\n          \"validator\": \"eJxrYJmqwQABPYJFiVX5RXppOfnlern5Kak5xVN6+PLy8wviyxJzMlMSS/KLpkyeogcAg2wRnQ==\",\\n          \"source_id\": \"0a417926-89c9-471d-a806-46f494b1b66d\",\\n          \"source_name\": \"grid_two_df_path\",\\n          \"inferred_type\": \"BLOCK\",\\n          \"value\": null\\n        },\\n        \"CALENDAR\": {\\n          \"dtype\": \"Any\",\\n          \"required\": \"false\",\\n          \"series\": false,\\n          \"adapter\": \"eJxrYJmqxgABPYJFiVX5RXppOfnlern5Kak5xVN6ePLy8wviE1MSC0pSi6ZMnqIHAF/+ELQ=\",\\n          \"validator\": \"eJxrYJmqwQABPYJFiVX5RXppOfnlern5Kak5xVN6+PLy8wviyxJzMlMSS/KLpkyeogcAg2wRnQ==\",\\n          \"source_id\": \"387d4546-053e-40c7-9459-d9747b9d57bf\",\\n          \"source_name\": \"grid_three_df_path\",\\n          \"inferred_type\": \"BLOCK\",\\n          \"value\": null\\n        },\\n        \"LAGS\": {\\n          \"dtype\": \"Any\",\\n          \"required\": \"false\",\\n          \"series\": false,\\n          \"adapter\": \"eJxrYJmqxgABPYJFiVX5RXppOfnlern5Kak5xVN6ePLy8wviE1MSC0pSi6ZMnqIHAF/+ELQ=\",\\n          \"validator\": \"eJxrYJmqwQABPYJFiVX5RXppOfnlern5Kak5xVN6+PLy8wviyxJzMlMSS/KLpkyeogcAg2wRnQ==\",\\n          \"source_id\": \"a1b64aaf-177d-4a92-a4c7-0c98b5e0605d\",\\n          \"source_name\": \"lag_df_path\",\\n          \"inferred_type\": \"BLOCK\",\\n          \"value\": null\\n        },\\n        \"MEAN_ENC\": {\\n          \"dtype\": \"Any\",\\n          \"required\": \"false\",\\n          \"series\": false,\\n          \"adapter\": \"eJxrYJmqxgABPYJFiVX5RXppOfnlern5Kak5xVN6ePLy8wviE1MSC0pSi6ZMnqIHAF/+ELQ=\",\\n          \"validator\": \"eJxrYJmqwQABPYJFiVX5RXppOfnlern5Kak5xVN6+PLy8wviyxJzMlMSS/KLpkyeogcAg2wRnQ==\",\\n          \"source_id\": \"97ae11d8-adb2-46ed-9061-a235ce52a489\",\\n          \"source_name\": \"encoded_df_path\",\\n          \"inferred_type\": \"BLOCK\",\\n          \"value\": null\\n        }\\n      },\\n      \"outputProperty\": {},\\n      \"resourceRequirement\": {\\n        \"cores\": 2,\\n        \"memory\": 36000,\\n        \"useGpu\": false,\\n        \"gpu\": 0,\\n        \"useGpuIfAvailable\": false,\\n        \"clusterConfiguration\": {\\n          \"worker\": null,\\n          \"workerCore\": null,\\n          \"workerMemory\": null,\\n          \"numberOfInstances\": null,\\n          \"maxServerCount\": null\\n        },\\n        \"additionalEnv\": {},\\n        \"runEnv\": \"PYTHON\"\\n      },\\n      \"executionType\": \"BlockExecutor\",\\n      \"dependencies\": [\\n        {\\n          \"libraryId\": \"24d05fb2-8916-4d25-8127-276e57d0bc8d\",\\n          \"libraryVersionId\": \"67ceac05-426d-4c9a-a069-ceb1350c1623\"\\n        },\\n        {\\n          \"libraryId\": \"24d05fb2-8916-4d25-8127-276e57d0bc8d\",\\n          \"libraryVersionId\": \"67ceac05-426d-4c9a-a069-ceb1350c1623\"\\n        }\\n      ],\\n      \"system_dependencies\": null,\\n      \"meta_data\": null,\\n      \"process_id\": null,\\n      \"eta\": 0\\n    },\\n    {\\n      \"name\": \"DataCreator1_1\",\\n      \"id\": \"43868c11-f6c6-4463-9960-ed9e2b7671ae\",\\n      \"artifact_id\": null,\\n      \"class_name\": \"DataCreator1\",\\n      \"code\": \"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\",\\n      \"isPublishedBlock\": false,\\n      \"source\": null,\\n      \"inputProperty\": {\\n        \"grid_df_path\": {\\n          \"dtype\": \"Any\",\\n          \"required\": \"false\",\\n          \"series\": false,\\n          \"adapter\": \"eJxrYJmqxgABPYJFiVX5RXppOfnlern5Kak5xVN6ePLy8wviE1MSC0pSi6ZMnqIHAF/+ELQ=\",\\n          \"validator\": \"eJxrYJmqwQABPYJFiVX5RXppOfnlern5Kak5xVN6+PLy8wviyxJzMlMSS/KLpkyeogcAg2wRnQ==\",\\n          \"source_id\": \"81f64eb5-278b-4f2c-acc9-1cfd0424f2a7\",\\n          \"source_name\": \"grid_df_int_path\",\\n          \"inferred_type\": \"BLOCK\",\\n          \"value\": null\\n        },\\n        \"config\": {\\n          \"dtype\": \"Any\",\\n          \"required\": \"false\",\\n          \"series\": false,\\n          \"adapter\": \"eJxrYJmqxgABPYJFiVX5RXppOfnlern5Kak5xVN6ePLy8wviE1MSC0pSi6ZMnqIHAF/+ELQ=\",\\n          \"validator\": \"eJxrYJmqwQABPYJFiVX5RXppOfnlern5Kak5xVN6+PLy8wviyxJzMlMSS/KLpkyeogcAg2wRnQ==\",\\n          \"source_id\": \"7fba7e54-2f7a-4ad6-9b3a-b24166931cec\",\\n          \"source_name\": \"config\",\\n          \"inferred_type\": \"BLOCK\",\\n          \"value\": null\\n        }\\n      },\\n      \"outputProperty\": {\\n        \"grid_pkl_path\": {\\n          \"series\": false,\\n          \"adapter\": \"eJxrYJmqxgABPYJFiVX5RXppOfnlern5Kak5xVN6ePLy8wviE1MSC0pSi6ZMnqIHAF/+ELQ=\",\\n          \"transport\": \"FILE\"\\n        }\\n      },\\n      \"resourceRequirement\": {\\n        \"cores\": 2,\\n        \"memory\": 20000,\\n        \"useGpu\": false,\\n        \"gpu\": 0,\\n        \"useGpuIfAvailable\": false,\\n        \"clusterConfiguration\": {\\n          \"worker\": null,\\n          \"workerCore\": null,\\n          \"workerMemory\": null,\\n          \"numberOfInstances\": null,\\n          \"maxServerCount\": null\\n        },\\n        \"additionalEnv\": {},\\n        \"runEnv\": \"PYTHON\"\\n      },\\n      \"executionType\": \"BlockExecutor\",\\n      \"dependencies\": [],\\n      \"system_dependencies\": null,\\n      \"meta_data\": null,\\n      \"process_id\": null,\\n      \"eta\": 0\\n    },\\n    {\\n      \"name\": \"DataConcatenation_1\",\\n      \"id\": \"81f64eb5-278b-4f2c-acc9-1cfd0424f2a7\",\\n      \"artifact_id\": null,\\n      \"class_name\": \"DataConcatenation\",\\n      \"code\": \"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\",\\n      \"isPublishedBlock\": false,\\n      \"source\": null,\\n      \"inputProperty\": {\\n        \"grid_df_path\": {\\n          \"dtype\": \"Any\",\\n          \"required\": \"false\",\\n          \"series\": false,\\n          \"adapter\": \"eJxrYJmqxgABPYJFiVX5RXppOfnlern5Kak5xVN6ePLy8wviE1MSC0pSi6ZMnqIHAF/+ELQ=\",\\n          \"validator\": \"eJxrYJmqwQABPYJFiVX5RXppOfnlern5Kak5xVN6+PLy8wviyxJzMlMSS/KLpkyeogcAg2wRnQ==\",\\n          \"source_id\": \"eebc38ae-7b0c-42ff-ac73-0b75ca39e8a4\",\\n          \"source_name\": \"grid_df_path\",\\n          \"inferred_type\": \"BLOCK\",\\n          \"value\": null\\n        },\\n        \"add_grid_path\": {\\n          \"dtype\": \"Any\",\\n          \"required\": \"false\",\\n          \"series\": false,\\n          \"adapter\": \"eJxrYJmqxgABPYJFiVX5RXppOfnlern5Kak5xVN6ePLy8wviE1MSC0pSi6ZMnqIHAF/+ELQ=\",\\n          \"validator\": \"eJxrYJmqwQABPYJFiVX5RXppOfnlern5Kak5xVN6+PLy8wviyxJzMlMSS/KLpkyeogcAg2wRnQ==\",\\n          \"source_id\": \"898654ac-ec64-4413-a35f-0577718d3ccc\",\\n          \"source_name\": \"add_grid_path\",\\n          \"inferred_type\": \"BLOCK\",\\n          \"value\": null\\n        },\\n        \"config\": {\\n          \"dtype\": \"Any\",\\n          \"required\": \"false\",\\n          \"series\": false,\\n          \"adapter\": \"eJxrYJmqxgABPYJFiVX5RXppOfnlern5Kak5xVN6ePLy8wviE1MSC0pSi6ZMnqIHAF/+ELQ=\",\\n          \"validator\": \"eJxrYJmqwQABPYJFiVX5RXppOfnlern5Kak5xVN6+PLy8wviyxJzMlMSS/KLpkyeogcAg2wRnQ==\",\\n          \"source_id\": \"7fba7e54-2f7a-4ad6-9b3a-b24166931cec\",\\n          \"source_name\": \"config\",\\n          \"inferred_type\": \"BLOCK\",\\n          \"value\": null\\n        }\\n      },\\n      \"outputProperty\": {\\n        \"grid_df_int_path\": {\\n          \"series\": false,\\n          \"adapter\": \"eJxrYJmqxgABPYJFiVX5RXppOfnlern5Kak5xVN6ePLy8wviE1MSC0pSi6ZMnqIHAF/+ELQ=\",\\n          \"transport\": \"FILE\"\\n        }\\n      },\\n      \"resourceRequirement\": {\\n        \"cores\": 2,\\n        \"memory\": 13000,\\n        \"useGpu\": false,\\n        \"gpu\": 0,\\n        \"useGpuIfAvailable\": false,\\n        \"clusterConfiguration\": {\\n          \"worker\": null,\\n          \"workerCore\": null,\\n          \"workerMemory\": null,\\n          \"numberOfInstances\": null,\\n          \"maxServerCount\": null\\n        },\\n        \"additionalEnv\": {},\\n        \"runEnv\": \"PYTHON\"\\n      },\\n      \"executionType\": \"BlockExecutor\",\\n      \"dependencies\": [],\\n      \"system_dependencies\": null,\\n      \"meta_data\": null,\\n      \"process_id\": null,\\n      \"eta\": 0\\n    },\\n    {\\n      \"name\": \"Melter_1\",\\n      \"id\": \"eebc38ae-7b0c-42ff-ac73-0b75ca39e8a4\",\\n      \"artifact_id\": null,\\n      \"class_name\": \"Melter\",\\n      \"code\": \"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\",\\n      \"isPublishedBlock\": false,\\n      \"source\": null,\\n      \"inputProperty\": {\\n        \"path\": {\\n          \"dtype\": \"Any\",\\n          \"required\": \"false\",\\n          \"series\": false,\\n          \"adapter\": \"eJxrYJmqxgABPYJFiVX5RXppOfnlern5Kak5xVN6ePLy8wviE1MSC0pSi6ZMnqIHAF/+ELQ=\",\\n          \"validator\": \"eJxrYJmqwQABPYJFiVX5RXppOfnlern5Kak5xVN6+PLy8wviyxJzMlMSS/KLpkyeogcAg2wRnQ==\",\\n          \"source_id\": null,\\n          \"source_name\": null,\\n          \"inferred_type\": \"STATIC\",\\n          \"value\": \"eJxrYJkqxwABPVK+pm75RanJicUlmXnp+iVFiZl58SlpesnFZVP0ANu4DIc=\"\\n        },\\n        \"config\": {\\n          \"dtype\": \"Any\",\\n          \"required\": \"false\",\\n          \"series\": false,\\n          \"adapter\": \"eJxrYJmqxgABPYJFiVX5RXppOfnlern5Kak5xVN6ePLy8wviE1MSC0pSi6ZMnqIHAF/+ELQ=\",\\n          \"validator\": \"eJxrYJmqwQABPYJFiVX5RXppOfnlern5Kak5xVN6+PLy8wviyxJzMlMSS/KLpkyeogcAg2wRnQ==\",\\n          \"source_id\": \"7fba7e54-2f7a-4ad6-9b3a-b24166931cec\",\\n          \"source_name\": \"config\",\\n          \"inferred_type\": \"BLOCK\",\\n          \"value\": null\\n        }\\n      },\\n      \"outputProperty\": {\\n        \"grid_df_path\": {\\n          \"series\": false,\\n          \"adapter\": \"eJxrYJmqxgABPYJFiVX5RXppOfnlern5Kak5xVN6ePLy8wviE1MSC0pSi6ZMnqIHAF/+ELQ=\",\\n          \"transport\": \"FILE\"\\n        }\\n      },\\n      \"resourceRequirement\": {\\n        \"cores\": 2,\\n        \"memory\": 10192,\\n        \"useGpu\": false,\\n        \"gpu\": 0,\\n        \"useGpuIfAvailable\": false,\\n        \"clusterConfiguration\": {\\n          \"worker\": null,\\n          \"workerCore\": null,\\n          \"workerMemory\": null,\\n          \"numberOfInstances\": null,\\n          \"maxServerCount\": null\\n        },\\n        \"additionalEnv\": {},\\n        \"runEnv\": \"PYTHON\"\\n      },\\n      \"executionType\": \"BlockExecutor\",\\n      \"dependencies\": [],\\n      \"system_dependencies\": null,\\n      \"meta_data\": null,\\n      \"process_id\": null,\\n      \"eta\": 0\\n    },\\n    {\\n      \"name\": \"Configs_1\",\\n      \"id\": \"7fba7e54-2f7a-4ad6-9b3a-b24166931cec\",\\n      \"artifact_id\": null,\\n      \"class_name\": \"Configs\",\\n      \"code\": \"eJyNVV1vE0cU3V1/xiF8BAoqbWnVJ/MQmxQTJxWioia01MpShUi0D2g63pn1bLzeXXZmE4yC1AoFgjRqH5g+tZWKxH+g/669M7uODeKhiRLP3BnP3HvuOWd+Lv9+Z8EyP/KCF8YZSQJvFNLW3FjJD1FK2YSkWFDERzSkIo6QF2LO1UvVZJY8h8Z49L41WR9kQSiCiCtZFpOEQlDWenHkB0OumNNk5SarsTqryGo82KWegA2H6glsQojEHkLK5fKzDu7QLr1ytev5g86a52O64Q+6gwFZXcM+XSXKFWobvtWUDYTGMclCCt+UdZjgINLDUwjhKIoFFkEccYjAFVXP5KHkAooTCtXFKdw7pCIQdKwTXU7x4zht+WG834ozkWQCyqjeNSO9XoWKgggOKN2MJhB4Bklwdp59fPkXk0wlxAMaKldWOU0DytULWWY0TCCSg8E+leUIj2FwXi6IFEc8iVOh5AdzFx+H4e6l20FId473vVTFRQsBR9MrWNOVFRFD7+CaRU4jQlNktrtyKaUeDfZmgcbDjGbQuOAxVX1LnmKYoyAKRIBDCBH1IhvIhk4VeYx6I3UE81KaRQqafhL5QRgiP4s8DWpBhVMzKpglCEN0CRU8QFMS1HsxoTt6cgioNft23+o7/YV+r9chNnFIiZSH+n+FVEmN1MnCsEoaZJGcIEt/1p7YB9au9bd9YL+ybYtY9yylq+Y4BAS2JjXpBERJG/5qupdIz2qEJsKMqh7OB3UOLafToWa3Hja3rt2GsIc55Dtsm0MRdAGS3wNYiKFQy+N7Sn7yzlYKeCRp4FGer198e92DoyKCU7PYlNWdm9vfbO4A/zbdW2hn++YdV8nGFnygO+6tzR+g3wF07xHy4jAbawk18jQSLJiSi/lNxWxpeng+F/ALpCpppj4D7UFqPvCUACtgeul6kEwEi6OVIIIdK52VK1d97HU31rs+9m8ottav9JatkmM7jmOXnZM2jOy6oy5f1kL77l/40bxbRHCbN8JDLTdX602zGcbsbPa8UGRtGMYDHHKtuDqhPs5CoDIoAHIROngSvIZn0AdAN6N6qZpLGE5hTbYGWceayxfQnCkhng3yXVw9ACzmxG0uepjh0ChLLhZu09K0lY3R/iyHTGyD9pFRqSngJEIzskPkSO84MyfGQRh7I2hE5Ws9MJJ/otiS9igPdwcexZ1Bx9vo0NVrmNL11e4GJh75Yp10rxx7FFtmmTyNkDkLmQYUhnRmGizMxkTBTz7ncnm6BDLfM2033wBby00M5egpF7ZXZD1JtaOJiRHlepN9yb7KJWb3K/2zvWVhHVjEPrL+sIjzV+mpAwJypaONsjY96XnuhViIFCTK7h8q2WmzeEzbu/HeBEft/TgdtVsFmithMOBtg1RbI9XOkWolE9AbHCNoqvqveo5lK9Y8VIZGfVujgWRjBrBiPwE4wCOwFsOjX6c8YgSg8F02hI/gAaCC2S7LgB+/sZHLQohEsJLIS7n/TAFoXYc8gH03WkUSLNVtP8bEMbZTBkxOH4GpHFkH9tNSYSku5Mnuy0qOxzNIRht5XsrrohQTQX4Ey3lNDlPvz7gJncnk2aK3aAzQouK0l4oWxbz+n8Xw+WJcwyyNmrZujdq71d3rXRTaLi1tlzByDqDOV86sTrbH3oBJw7PAxfSU59B01gS3qF/nIgX/Al9403d6Zctp2G87wXzFe2yfQ9lwpincZbsuFPZmvrAmULQEZ0LhHKr8yEupNl8/mhU4q8WUKE8gRB9RLwPD1iw9N6fJaRxkeQa0LsAhabpZBGdvZMUwEmhe8cCSOXQKfIaO43Sitv5ZlKVhkpknED4RPKdxos0Eh/Bml2gEXl79/sedb++6Cl7A88jIX+cIz0bkgWHEWSSA0JBq6z9fOow4\",\\n      \"isPublishedBlock\": false,\\n      \"source\": null,\\n      \"inputProperty\": {},\\n      \"outputProperty\": {\\n        \"config\": {\\n          \"series\": false,\\n          \"adapter\": \"eJxrYJmqxgABPYJFiVX5RXppOfnlern5Kak5xVN6ePLy8wviE1MSC0pSi6ZMnqIHAF/+ELQ=\",\\n          \"transport\": \"FILE\"\\n        }\\n      },\\n      \"resourceRequirement\": {\\n        \"cores\": 2,\\n        \"memory\": 3000,\\n        \"useGpu\": false,\\n        \"gpu\": 0,\\n        \"useGpuIfAvailable\": false,\\n        \"clusterConfiguration\": {\\n          \"worker\": null,\\n          \"workerCore\": null,\\n          \"workerMemory\": null,\\n          \"numberOfInstances\": null,\\n          \"maxServerCount\": null\\n        },\\n        \"additionalEnv\": {},\\n        \"runEnv\": \"PYTHON\"\\n      },\\n      \"executionType\": \"BlockExecutor\",\\n      \"dependencies\": [],\\n      \"system_dependencies\": null,\\n      \"meta_data\": null,\\n      \"process_id\": null,\\n      \"eta\": 0\\n    },\\n    {\\n      \"name\": \"ValidDataCreator_1\",\\n      \"id\": \"898654ac-ec64-4413-a35f-0577718d3ccc\",\\n      \"artifact_id\": null,\\n      \"class_name\": \"ValidDataCreator\",\\n      \"code\": \"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\",\\n      \"isPublishedBlock\": false,\\n      \"source\": null,\\n      \"inputProperty\": {\\n        \"path\": {\\n          \"dtype\": \"Any\",\\n          \"required\": \"false\",\\n          \"series\": false,\\n          \"adapter\": \"eJxrYJmqxgABPYJFiVX5RXppOfnlern5Kak5xVN6ePLy8wviE1MSC0pSi6ZMnqIHAF/+ELQ=\",\\n          \"validator\": \"eJxrYJmqwQABPYJFiVX5RXppOfnlern5Kak5xVN6+PLy8wviyxJzMlMSS/KLpkyeogcAg2wRnQ==\",\\n          \"source_id\": null,\\n          \"source_name\": null,\\n          \"inferred_type\": \"STATIC\",\\n          \"value\": \"eJxrYJkqxwABPVK+pm75RanJicUlmXnp+iVFiZl58SlpesnFZVP0ANu4DIc=\"\\n        },\\n        \"config\": {\\n          \"dtype\": \"Any\",\\n          \"required\": \"false\",\\n          \"series\": false,\\n          \"adapter\": \"eJxrYJmqxgABPYJFiVX5RXppOfnlern5Kak5xVN6ePLy8wviE1MSC0pSi6ZMnqIHAF/+ELQ=\",\\n          \"validator\": \"eJxrYJmqwQABPYJFiVX5RXppOfnlern5Kak5xVN6+PLy8wviyxJzMlMSS/KLpkyeogcAg2wRnQ==\",\\n          \"source_id\": \"7fba7e54-2f7a-4ad6-9b3a-b24166931cec\",\\n          \"source_name\": \"config\",\\n          \"inferred_type\": \"BLOCK\",\\n          \"value\": null\\n        }\\n      },\\n      \"outputProperty\": {\\n        \"add_grid_path\": {\\n          \"series\": false,\\n          \"adapter\": \"eJxrYJmqxgABPYJFiVX5RXppOfnlern5Kak5xVN6ePLy8wviE1MSC0pSi6ZMnqIHAF/+ELQ=\",\\n          \"transport\": \"FILE\"\\n        }\\n      },\\n      \"resourceRequirement\": {\\n        \"cores\": 2,\\n        \"memory\": 8192,\\n        \"useGpu\": false,\\n        \"gpu\": 0,\\n        \"useGpuIfAvailable\": false,\\n        \"clusterConfiguration\": {\\n          \"worker\": null,\\n          \"workerCore\": null,\\n          \"workerMemory\": null,\\n          \"numberOfInstances\": null,\\n          \"maxServerCount\": null\\n        },\\n        \"additionalEnv\": {},\\n        \"runEnv\": \"PYTHON\"\\n      },\\n      \"executionType\": \"BlockExecutor\",\\n      \"dependencies\": [],\\n      \"system_dependencies\": null,\\n      \"meta_data\": null,\\n      \"process_id\": null,\\n      \"eta\": 0\\n    },\\n    {\\n      \"name\": \"DataCreator2_1\",\\n      \"id\": \"0a417926-89c9-471d-a806-46f494b1b66d\",\\n      \"artifact_id\": null,\\n      \"class_name\": \"DataCreator2\",\\n      \"code\": \"eJytWFtvG8cV3huvoi6WFdmSnJRJbVdSa8mSLVs2FDcxnYtDiEmdoE7aGtsld8lZcrlL70WyHDJo4diWgQngwtuHIk0gtukFeWrR/IT+gAJB3vKYH5A/ULTfzC4vsgWjASpCu7Mz58ycM/Od2/xK+e0XRwX+R49ULCfQW2alYRlLQ+2QzqiuQXZ0V/MN1WsYluE7tlqxNM8LH4XzRKBTalNrHDRG0+XAtHzT9kKq+DstA500d0XztYJraL7jroZEmifKPEmRNEnQpFOuGxUfVHfDTkhTqqo7FVUNSx7Nr5w/t7JyZqW8WimfPrtWPa+tr2mr61pZO796fq16YS0s+eE1cM3TrKo2HT2wDHDSND4002bNcVXVbNvxNd90bA89jDhTc01dbWk+CWkSIpp2LaTyy/YOEzVZceyqWQvJDJ3gdP62o+rVmDyjOi3DZWpA1Jrhm77RZFyTrnbbcZeqlrO95AR+K/ChfvJN3sI4mbkHQQMyR55f+DWXIWFpZcMKSzTpGa5peOEDqhDDaqEn2jWsr9haE405mvFdzfZajuuH9JmhlfrdWGz0VdMy3unTPQrjhTKmp/aWIIslmvAdHDKWGfEMWzdclZOX6KhrVAxza9CRvRkYAU7YvG2ERYGOE81TTdv0Tc1Clx4+CMo0y0RVK8SoNMJd9s2onapabfohQDKmVk3LUquBXWH7H0NnfAAdPsT2R6CjaowbtQeadMHRjXfYx11s3nxRLgpFpZgoFgqXbi3p4hXhxsmO7Att8Y6oSw3BPa7LbbEtt6WqPC28jX5delboiDeT1wVdwVeiNxLOl+apEFKpaOKxyR6vscc77PEWe7zCHj8zQz987aWHsbFkTpxZWqme8E5gs9Mn+k3pPUZGZa3sQc55qniGVcW3HTSBAC+oVs1bsIQAO8fontswWzs+cexTpg1snLpwarWyeuGCpq2vr5QvXArJejFVyApiVsyJY/gPFxYYxt/4D/7YcY6oQGKlodUY0ksM6gwkaJPDwf3YGFI1yylrlsfsKa0bVS2wGELEyxCQKroJa8PIGAzeC1xD3dKsAOgAFCMTwlRkkaxTGYaI3iPqkGdQvaAcUXnhjZCODBkXX+1moFkctfTIsMkvDeGCZhvbfaFKgX+NjjcNF/qUd1TYXkUDdC7Okw3y8jyOWygmceRy4fW2uCvMCB2lrdSFtrQr6Djej+SOcl+oirqsKx+mfbGt3AEs7oidhC/VGRiUdmJGqEl6Qk9+JHXEtsgPnyqWUYUgEiBJZeJsh/dCtpqI1SSsebhwtCa0hRsTjGNXaKRcwOc30k0F3AsLVFo6DbaKYzG26zS7YZmeX3GarUthcbIgJYGsdKQR5r8b8vOjp/dtx2MKL21YTgUHdmlpeC6RKtotk6HKZw6D8+D8GAVkb+mRr2L7hXFyDedVXQnZEx72A5rh9LpaAxhHbGMbS1lBE8eE7b1O3OI4Q1lanBCn8QsXyAdsmRho5OcxlIjWCckurDODczebsWehyZZm65rH7dIjlRKpgoyUiMmR45J6iTRuhKSJXocee5rmIbnJITDhGnpQMdSm0VQDD+geYICZfbaYKhYuL0oCP3Z23OxIa8kODnlP6Ap7YlfQU3OAx0Px1r/aYl26IjwUb/yzkwAIAIG63Em2k225kXQXo549pSt0UnE7gXbaBwU8iaCn70ozgp5pSA9F95ftlJ/aS/upeqYr1pWG4n7eTg/1JOB3Po9nyUZ97GtDsL/oc47EnN/0OUdizm+GOEf6nLf7nLmIE3K80OfNRby8b8Cd63Nv9LlH+9zf9rlH+9zfDnGP9rhvLnLuMfSN97k/5dy9voj70yHu8QO4J/rcX/e5J/rcXw9xTwxxD3oPDXqvC4+dcaYtPZTck/6knt073M7oIzDzzFFhSmgrc0JXuiOKQs/QE6btr5wL+fvMavQ+dxahG+FT4yNRi41FLYy+IQgTQlGmMohDem7TaC7lOSbzulEBjj1Dz/tO/v2La0ur1U5+s5yff/8i4kHnRJ6jmHnDhbCoM6vNAdCOuxNjmsoeiwqpninSpM6CHRpy02S+qKndYkQ+sgvJbjF5TbvqwOghyjrINS/KDf5IPiN/ookqHyV/Jn8hf6WJlssFTlYdt9l3CpIO+08hrJcdDwKkEZaQDFSwZMbzNddnFheS2zQNmaLISxMVlUvD3kyeFPIETsY9R7c4XVgV4DfYLwsPksNvWjwe/89H/1LvfVSckJLiMWk4ju13L/8gv6MJiNXa6fmT3bvhfo/S3e9Rnt3nUZ70HJFLkd3AHngR5tsziCXyZRJ7EUtoih1gxZf2WKgQ6oouzyB4dMWONNSnxH0yvhJ7ST3RZfiK2knelvZSekpP16SuqGeA37SeBXolfWTjoLEcHxs9cGyMj40fODbBxw6xMdbD5p8R5th78kD6w5x+qj+W4WPpobFnMCbr0/oR/WhNjkNrRp+uifrMRyK+pHq2rQzG+cisPoegK32g9KR4Yt1j+rMfCl2RS/bcQNqITj9Sk4c14lTfe4Lq6AFUeU515EX2PPpi7wSe70YnOIJv7Cz8PTuzF6BN0h9tJ+6ID4R2AnpIfN7pmhxrkOBpw/f140gbOB1PG1LtBKJE6ghLNDDT3lg7wedM7I0jfzzBcNA/+5OYd+Jj4ROJ9/HRThpjh/Ym22nWp0eZJlLnyZbrsBpH9ZC6GVElgUxsBAZbMby4shhFAgBD09z4O3cNlRV8TX7bMBqw6rc4MSzYA+oN1UT4T7Hqg7eySDotlc8Xkr/TDG9x6yV/639xD+P5II97eFtpGhoGsjHR8IcNR4JVbOSuqAUgYtzd+87x9fuf6e2muuOq25A20XRspoSyY2guT4PLnuFDaeKTgGwN0i0R4f3tQhZ7DZvsMq9dKor3MIFHzCpjoOItxnadpjcsrVnWNSRG7xaE2J3QF/a7gsAeTqViejoW6+Y0DdtnDnhif4d6QNdOSI9tslwlH51SHhlP3tO28A2vmUe8yG6+fLWkXi1deeXd75A9kh1ym6WNpF0kUa444bhmzbQ1q5+h9XLG409Trp8n0sXNtVcBiQqCAyrZ5ebaKQ+pmmWcqhrLcaULP7+61GpYOIq3kYlfzPOUMhOVklrLDMlXZJemsZSuVrytkMzSpOXUaobLYw8LQama6wStMvYlqkarHBzjuuu0VD1oWSayOeCT3KMjfJr4JoFMk/ukCx6n18POVmvxulZm1TGPU+SrGJSeygLWSN8Y2Nf4wDRiI0hxvTBG/k1zDcNo9feOTg0X7Sg/DW5OPHR9WVwrvCSIOWlKnJJyUk4+JvKfPKXgqYyh4DomSsl58aR4UsopoBCzcponyKw1Jk4h3IULdRi38JRs+fdPpsRf7g9gE48fbC9mZVSV3wvw2m5MVQflNXp2GcWhofK/DDQ0oHLiMmsgMb8HKcgouzlZv3Dh9OqZM+Xqevn02bP6WrliaOWVM6uVsrF+buX0Sv/mhEzWF6EOnVBVPp3Ky9L4poRM71sPhZ9hsczhKqPZNHxtcM2Qiku6sL7GpkurV+JvFPcnS+QHD8h8CRsxTRbIDM2g5DR1fosSkY/ZDmA06AXTeY7Hm4GJ+M7uFshs/TxIo+XqF9Gsb+AxPPksm7z+Ihv6MRs6v1t/CW8wB/RQT7/4doYrSObIcY9O9oY8w93iEGRjrLt/T6RGRXJYggIJmoY/bxmuv8MvNIYzDBG16uHCpA/712H7Hwu69Il8R2JujUrsPirVm+l+dH+k+cj14N+uwdOdXSbwPst1Z2tHs5e3HbexvBTv6inLLHvL/CiW2VEsR0e/hJyJJjGND0MtdguSIIZkMXYfRZGd4C9odnCCIbkRnXZa5aYBieo/wXcwDOAedoHWaY2YnIEs1q+x1z4UPxfd4/Q2Y+CcYoEiTPf3R+r7x4ldpFa77OJGjsNkCTIjWU1Ee3MvkopdjUWafRZrxnvUqg2KSEWpfh2EB0sP9EbKTkaYRmzzNTWe8lFoDFSr/e+qecOqlbgRsTvG6M5wgJLZ+lXMGWGj/lM0i+JTJCWzT9vnepn1DPaybrH5nq75bN3H6NNUrG/3Z43VmInxPnTfOVBo7rspNPf/VmguOsrDsfl+h7N8UlGAn91jsjuzATYZMhWkIifbUltQkRjjKfIyQIhTTKUNxHalAWIBMGz0D5m7+QMTblRVW47n9yaP4hpzebOoytIbqOoQni+FnLgoFdKCmMQv+9gV39AORHP/CA8WUYaKIjg7PsuQovNYKRGVjo9Y0J2BN5wJAOU5VrL6BqxmgOLBBkRhJ6eqxi2jEsD1Mic1NeTze/1w+4cKSOo00zbcV+LOgftPcIcEL5eoIBXxYJk0GZW+4Wa+ROVaK+CXyHirpqc6LVYka1b4gMqGvcXS2/feef3NUhiU6bTKwxmTERWqjaSs4gQobIsiRF36LxWsVV8=\",\\n      \"isPublishedBlock\": false,\\n      \"source\": null,\\n      \"inputProperty\": {\\n        \"grid_path\": {\\n          \"dtype\": \"Any\",\\n          \"required\": \"false\",\\n          \"series\": false,\\n          \"adapter\": \"eJxrYJmqxgABPYJFiVX5RXppOfnlern5Kak5xVN6ePLy8wviE1MSC0pSi6ZMnqIHAF/+ELQ=\",\\n          \"validator\": \"eJxrYJmqwQABPYJFiVX5RXppOfnlern5Kak5xVN6+PLy8wviyxJzMlMSS/KLpkyeogcAg2wRnQ==\",\\n          \"source_id\": \"43868c11-f6c6-4463-9960-ed9e2b7671ae\",\\n          \"source_name\": \"grid_pkl_path\",\\n          \"inferred_type\": \"BLOCK\",\\n          \"value\": null\\n        },\\n        \"config\": {\\n          \"dtype\": \"Any\",\\n          \"required\": \"false\",\\n          \"series\": false,\\n          \"adapter\": \"eJxrYJmqxgABPYJFiVX5RXppOfnlern5Kak5xVN6ePLy8wviE1MSC0pSi6ZMnqIHAF/+ELQ=\",\\n          \"validator\": \"eJxrYJmqwQABPYJFiVX5RXppOfnlern5Kak5xVN6+PLy8wviyxJzMlMSS/KLpkyeogcAg2wRnQ==\",\\n          \"source_id\": \"7fba7e54-2f7a-4ad6-9b3a-b24166931cec\",\\n          \"source_name\": \"config\",\\n          \"inferred_type\": \"BLOCK\",\\n          \"value\": null\\n        }\\n      },\\n      \"outputProperty\": {\\n        \"grid_two_df_path\": {\\n          \"series\": false,\\n          \"adapter\": \"eJxrYJmqxgABPYJFiVX5RXppOfnlern5Kak5xVN6ePLy8wviE1MSC0pSi6ZMnqIHAF/+ELQ=\",\\n          \"transport\": \"FILE\"\\n        }\\n      },\\n      \"resourceRequirement\": {\\n        \"cores\": 2,\\n        \"memory\": 20000,\\n        \"useGpu\": false,\\n        \"gpu\": 0,\\n        \"useGpuIfAvailable\": false,\\n        \"clusterConfiguration\": {\\n          \"worker\": null,\\n          \"workerCore\": null,\\n          \"workerMemory\": null,\\n          \"numberOfInstances\": null,\\n          \"maxServerCount\": null\\n        },\\n        \"additionalEnv\": {},\\n        \"runEnv\": \"PYTHON\"\\n      },\\n      \"executionType\": \"BlockExecutor\",\\n      \"dependencies\": [],\\n      \"system_dependencies\": null,\\n      \"meta_data\": null,\\n      \"process_id\": null,\\n      \"eta\": 0\\n    },\\n    {\\n      \"name\": \"DataCreator3_1\",\\n      \"id\": \"387d4546-053e-40c7-9459-d9747b9d57bf\",\\n      \"artifact_id\": null,\\n      \"class_name\": \"DataCreator3\",\\n      \"code\": \"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\",\\n      \"isPublishedBlock\": false,\\n      \"source\": null,\\n      \"inputProperty\": {\\n        \"grid_path\": {\\n          \"dtype\": \"Any\",\\n          \"required\": \"false\",\\n          \"series\": false,\\n          \"adapter\": \"eJxrYJmqxgABPYJFiVX5RXppOfnlern5Kak5xVN6ePLy8wviE1MSC0pSi6ZMnqIHAF/+ELQ=\",\\n          \"validator\": \"eJxrYJmqwQABPYJFiVX5RXppOfnlern5Kak5xVN6+PLy8wviyxJzMlMSS/KLpkyeogcAg2wRnQ==\",\\n          \"source_id\": \"43868c11-f6c6-4463-9960-ed9e2b7671ae\",\\n          \"source_name\": \"grid_pkl_path\",\\n          \"inferred_type\": \"BLOCK\",\\n          \"value\": null\\n        },\\n        \"config\": {\\n          \"dtype\": \"Any\",\\n          \"required\": \"false\",\\n          \"series\": false,\\n          \"adapter\": \"eJxrYJmqxgABPYJFiVX5RXppOfnlern5Kak5xVN6ePLy8wviE1MSC0pSi6ZMnqIHAF/+ELQ=\",\\n          \"validator\": \"eJxrYJmqwQABPYJFiVX5RXppOfnlern5Kak5xVN6+PLy8wviyxJzMlMSS/KLpkyeogcAg2wRnQ==\",\\n          \"source_id\": \"7fba7e54-2f7a-4ad6-9b3a-b24166931cec\",\\n          \"source_name\": \"config\",\\n          \"inferred_type\": \"BLOCK\",\\n          \"value\": null\\n        }\\n      },\\n      \"outputProperty\": {\\n        \"grid_three_df_path\": {\\n          \"series\": false,\\n          \"adapter\": \"eJxrYJmqxgABPYJFiVX5RXppOfnlern5Kak5xVN6ePLy8wviE1MSC0pSi6ZMnqIHAF/+ELQ=\",\\n          \"transport\": \"FILE\"\\n        }\\n      },\\n      \"resourceRequirement\": {\\n        \"cores\": 2,\\n        \"memory\": 20000,\\n        \"useGpu\": false,\\n        \"gpu\": 0,\\n        \"useGpuIfAvailable\": false,\\n        \"clusterConfiguration\": {\\n          \"worker\": null,\\n          \"workerCore\": null,\\n          \"workerMemory\": null,\\n          \"numberOfInstances\": null,\\n          \"maxServerCount\": null\\n        },\\n        \"additionalEnv\": {},\\n        \"runEnv\": \"PYTHON\"\\n      },\\n      \"executionType\": \"BlockExecutor\",\\n      \"dependencies\": [],\\n      \"system_dependencies\": null,\\n      \"meta_data\": null,\\n      \"process_id\": null,\\n      \"eta\": 0\\n    },\\n    {\\n      \"name\": \"LagCreator_1\",\\n      \"id\": \"a1b64aaf-177d-4a92-a4c7-0c98b5e0605d\",\\n      \"artifact_id\": null,\\n      \"class_name\": \"LagCreator\",\\n      \"code\": \"eJyVV99v28Yd55HUD8uxHdupYztpK3ToJmON7KSx43RG0NROmkSJWsQe0j4EtxPvpKNMkTJ5dOJULjqkiWXgMGwL91QUsIE+7KGPe9keBuwf2LBuGIYC7V77N+xl+x5JWUrbdJ1hiOT37r6/f3zuA/M33XEt/pMnLccLadu2Nh1WHniP5Az2Gd+hPhEMB5vMYcJzseWQIIieRCWuyRO4RTa/bU3ma6HtCNsNImmKnTYDoizcJI1VnxHh+RHXS9ws8RzP84zMerUmswTseRTtRjKHMfUsjKNqIIv03AKp1+rs7PLC0nliwf9ybfkstRaWXqUXFs+xqCqi23CqJAsYtzwaOgxOyjx8ENtVr2MYE9f1BBG25wZAUZuHGr5NcZsIHsksKGi7jUgal90dpeiwQxqY1tPlIey1mR9rLXMNJmzBWmrXhE8eeH657nj3yl4o2qEAY7NvxW+wzmceg2Ihn+XFuZ/HMjMOqTEnqspswHybBdG+NDlz2kBJfMRnpOmSFrzMyiHhEzdoe76I5HMDko7IIGzkqu2wjaN9T6JU0JAd4J4IPleVGeFBSEHMcMBcynwcb6/KEZ9ZzN7uEwpbIQshnvYDFlU0OcZJgG3XFjZxgESj/bAmC0pVbHFmbUZd+Db80I0gF0Zx3XYcXA9dSzk6zZCxfobES8oxmhzBaXrgXm7kVz3KNtTHI/BaqYIqWiVfyVWMNxZ0TRPaAepoTf0Q7ZsU7SOq7yJqULOh7+pdU71R1DBmNFjN7GvCODAOtV0DTpgHGZo9REijOZr/UBPZrtbV6NBJ7aG+pj1Eu2bXbObq2h7aM+s6LdDhD/MdU638AiTdf0Xku+ZDtKbdLe5m6LFOZjPrf9A1O5kZ7WBIFJrDh0h9rWhbH9zRUmkjifSOMa3R0VPalKakf02jMUW7/5geB87v72dS6ng385H2sa7WuubBMWo0EPBHIGtkT9vLgH4TdPLD/CHqy6YnxGg38xCd1Faedea5b5yZ6p/Z+vyOdl/Qk6CHs6+nekx39Z4e92/TGVi7sW/QWTilq1P01EkN3g31vpv9hlR9zwCpp78utZNd0X6Jtt6/o35r3+2tdO15iM1YTxNxnL4AUiEyH2n0xY9B+m4OZI93cumJiYPJ5J1q61pUgqQPiAMFcGsnJ3WbRhLRqHJaDscNiBWhwoOIv54kml4xKuurxxvA525+F3XQr/QtE7jMzUm9vAB9wfKc6HEkX1yx2zuCe+4Z24UiP3P27JlzzDq3eMGy2PKr9BK0uBXHDoTltdqXosrMqp5VTFSDki/1m18ZKqa84ngWcYJL5cETY32N8pXJ1ddtpdHyvtZFDZWFr+yirn4AFip/d5S/0Z5WRxTqQXmbGgd6B3W1Q/2JsTUaW1Diqz2WCIycXC10tAMogUMEi9VHEXiJ23UBRSfRffjlN2R+xSGtGiWgzqlVDegO0BMbfvxMG6htJTaUj07Lofd2sWqk7+1GQnVO3wvbtZ0o7Wx1z29Bu1QPIqK9iL/Jrz1W8gt9ZlFldtXM6jqCjRuXb795ZSPmA42b1iEe/N1H0f/wbZ+VNEAXGAYvL5TP1Yst232teFPlQGVFTqY54XuOA3OgSBpAL0HzGa28UFmp/A60P347XYNJYHv0tWL0tFtP9Nx6AHUAv/qhljiYr8tcyhcmYYsRV9n6U+VpfqdS5u/IofVr169u4LXL74KvbTAr8XXx2fnSc/BIyhgrtvj7a8RDaQSCDioyz9/hO/xBT/ixHmfYhiPgCL7Yi+T4ukqWp9xw5CZw0vhT+ohWG4Yv+r/04tsDOl0A5+QoThJU5im+Z7vUu3fkoel1sp0UcpG4tBe9oFiM5NStxaseDDcSKG3n1R41zyEC5famA0lTknobesIwOBhQQAJ3+BSMYRumr8w6XqPBYNybtlv3oEggYRuKDujGbrhAVzUbf8fzS+puGzIT5jMRZ5ci/jNOlIf9uLyI2jDR9j0FcXDQJhbrAQvhHcmelYaCDUozM2BOHVavVNfwxu3L16vQVm7BA1+vrl15Bz4CQXyBE1XzNy+/qXJnPeLXZB76FI4BhBxLIQzMZBZLE8qpFyrZ1UuacUw3kYny5igyzTw6pk+jCb2QGUV5NK2fjikFNIHOo2VTPQtoGi0bp/UT6AQq6NFcCTKlwX/Nn3DOH4i4Am/8B/4U8hjGYJu1SRoKhFUVClPqwDufDPdSnJZrOF4NUll98I8ADQwFYc1upRBGZtsQTRLEOID/Vr6UYB/StssWhLRMiSA48EIf3NgiLonj9MrbDhGqlazB6nq8eCtZK3+L4wGCfMz/lAY7FvMJfGbcsNXeib9DyDZWJ6EDIAuwmWoiCpeOAjgOQp/hbeKETC1lE8AJ1vE5fkEaAFuBehIPoGgMxiW7guguZNwAFFU881shcZKQjT5d8RDozXt9NUJxG5AojiFk7NtRjPtIDChdtWN8ACnWoGNsAkrMvKFewOrHIJCPKFC9eHGJLi2cry8vLC6ety4ysrDMXr1YP7dI6HKdLF04AtV8gn8hj2Mc88Lx1EsQNBTLoCywkEFE5dB1teUWE6SPRnOpERH/ChJiLf2AILxc5T/c5z+qgu+meAnA7xA41qbJ/eArOep6Xhv3SXBiqSvzPtsKbR/AKIDPQI73dEsReKLcLP9BICd6SwCFt22LJWuKfIT9cRLKqAoKZGQecgUam9iJsevFEv9Jv3VloHVNCBjHFAYsQBAdIIiuGpfU1R0j1+O0l9wRiIDqhz72KQzW8/Pca7H5pre9Q9z5e56/OV9OXXLGsWvBfOzHeeXH+SRmZchDmQU2ApK7criqayjic+kUriAVl9/LQt/9Ef8DhAmKTVU7qNPUkab16o3/ERzy5yr/Czz+ehcCR/hn/As+1zRgE/9blf8diP+AxX/KFxKw3nNDf+akqvDPVRoeeUaPgYoJnjneBXje1TrooZECMGjoc/xTmUm88jhRSV18Eps+SW2KKbju9pp6RW/mYeO3q16CKH0B8YvTEIaMagQJvycRS42a/v5GBYNGVeOMhwstHrj79dNjlv87yYhmDgRU0HdoyWef6eDmpKL0ndh8XjH7bpNnweTJNLu/r83N0pGc1C7IDXWPU424Hz01kE0AvsUOQH+sCRjGneS6gg7gqtJBh3o/msr5XzZfV1EcgSbvBaLHEQr7U1XCkPr5FZh6MHEvRfHOir6a1VAWJkiKgtM5MWjrl/xfARgMtRKbXOWfQT+ITw+YVAL+mWSkQheY4jMhBPaUFcM2yJ5+TPtmxtbLYxiz+8wKoX+oMj0x0LJ6dOha46ueK4jtMv9KSux3r0xcklDnGTV+AC/q0PVZy/N3olvFqjQa7TC+KsMTw7Xba6vWThy42xvM3YYyfvvdjWtvVSO4KU/huBMrHWGEuzCOLC90BVQ0qFr+L6WyPwk=\",\\n      \"isPublishedBlock\": false,\\n      \"source\": null,\\n      \"inputProperty\": {\\n        \"grid_path\": {\\n          \"dtype\": \"Any\",\\n          \"required\": \"false\",\\n          \"series\": false,\\n          \"adapter\": \"eJxrYJmqxgABPYJFiVX5RXppOfnlern5Kak5xVN6ePLy8wviE1MSC0pSi6ZMnqIHAF/+ELQ=\",\\n          \"validator\": \"eJxrYJmqwQABPYJFiVX5RXppOfnlern5Kak5xVN6+PLy8wviyxJzMlMSS/KLpkyeogcAg2wRnQ==\",\\n          \"source_id\": \"43868c11-f6c6-4463-9960-ed9e2b7671ae\",\\n          \"source_name\": \"grid_pkl_path\",\\n          \"inferred_type\": \"BLOCK\",\\n          \"value\": null\\n        }\\n      },\\n      \"outputProperty\": {\\n        \"lag_df_path\": {\\n          \"series\": false,\\n          \"adapter\": \"eJxrYJmqxgABPYJFiVX5RXppOfnlern5Kak5xVN6ePLy8wviE1MSC0pSi6ZMnqIHAF/+ELQ=\",\\n          \"transport\": \"FILE\"\\n        }\\n      },\\n      \"resourceRequirement\": {\\n        \"cores\": 2,\\n        \"memory\": 20000,\\n        \"useGpu\": false,\\n        \"gpu\": 0,\\n        \"useGpuIfAvailable\": false,\\n        \"clusterConfiguration\": {\\n          \"worker\": null,\\n          \"workerCore\": null,\\n          \"workerMemory\": null,\\n          \"numberOfInstances\": null,\\n          \"maxServerCount\": null\\n        },\\n        \"additionalEnv\": {},\\n        \"runEnv\": \"PYTHON\"\\n      },\\n      \"executionType\": \"BlockExecutor\",\\n      \"dependencies\": [],\\n      \"system_dependencies\": null,\\n      \"meta_data\": null,\\n      \"process_id\": null,\\n      \"eta\": 0\\n    },\\n    {\\n      \"name\": \"Encoder_1\",\\n      \"id\": \"97ae11d8-adb2-46ed-9061-a235ce52a489\",\\n      \"artifact_id\": null,\\n      \"class_name\": \"Encoder\",\\n      \"code\": \"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\",\\n      \"isPublishedBlock\": false,\\n      \"source\": null,\\n      \"inputProperty\": {\\n        \"grid_path\": {\\n          \"dtype\": \"Any\",\\n          \"required\": \"false\",\\n          \"series\": false,\\n          \"adapter\": \"eJxrYJmqxgABPYJFiVX5RXppOfnlern5Kak5xVN6ePLy8wviE1MSC0pSi6ZMnqIHAF/+ELQ=\",\\n          \"validator\": \"eJxrYJmqwQABPYJFiVX5RXppOfnlern5Kak5xVN6+PLy8wviyxJzMlMSS/KLpkyeogcAg2wRnQ==\",\\n          \"source_id\": \"43868c11-f6c6-4463-9960-ed9e2b7671ae\",\\n          \"source_name\": \"grid_pkl_path\",\\n          \"inferred_type\": \"BLOCK\",\\n          \"value\": null\\n        }\\n      },\\n      \"outputProperty\": {\\n        \"encoded_df_path\": {\\n          \"series\": false,\\n          \"adapter\": \"eJxrYJmqxgABPYJFiVX5RXppOfnlern5Kak5xVN6ePLy8wviE1MSC0pSi6ZMnqIHAF/+ELQ=\",\\n          \"transport\": \"FILE\"\\n        }\\n      },\\n      \"resourceRequirement\": {\\n        \"cores\": 2,\\n        \"memory\": 16192,\\n        \"useGpu\": false,\\n        \"gpu\": 0,\\n        \"useGpuIfAvailable\": false,\\n        \"clusterConfiguration\": {\\n          \"worker\": null,\\n          \"workerCore\": null,\\n          \"workerMemory\": null,\\n          \"numberOfInstances\": null,\\n          \"maxServerCount\": null\\n        },\\n        \"additionalEnv\": {},\\n        \"runEnv\": \"PYTHON\"\\n      },\\n      \"executionType\": \"BlockExecutor\",\\n      \"dependencies\": [],\\n      \"system_dependencies\": null,\\n      \"meta_data\": null,\\n      \"process_id\": null,\\n      \"eta\": 0\\n    }\\n  ],\\n  \"connections\": [\\n    {\\n      \"source_block_id\": \"43868c11-f6c6-4463-9960-ed9e2b7671ae\",\\n      \"target_block_id\": \"387d4546-053e-40c7-9459-d9747b9d57bf\",\\n      \"source_output\": \"grid_pkl_path\",\\n      \"target_input\": \"grid_path\"\\n    },\\n    {\\n      \"source_block_id\": \"81f64eb5-278b-4f2c-acc9-1cfd0424f2a7\",\\n      \"target_block_id\": \"43868c11-f6c6-4463-9960-ed9e2b7671ae\",\\n      \"source_output\": \"grid_df_int_path\",\\n      \"target_input\": \"grid_df_path\"\\n    },\\n    {\\n      \"source_block_id\": \"387d4546-053e-40c7-9459-d9747b9d57bf\",\\n      \"target_block_id\": \"6c7b8e57-8eeb-4a38-9df0-43dae4b7bb04\",\\n      \"source_output\": \"grid_three_df_path\",\\n      \"target_input\": \"CALENDAR\"\\n    },\\n    {\\n      \"source_block_id\": \"7fba7e54-2f7a-4ad6-9b3a-b24166931cec\",\\n      \"target_block_id\": \"81f64eb5-278b-4f2c-acc9-1cfd0424f2a7\",\\n      \"source_output\": \"config\",\\n      \"target_input\": \"config\"\\n    },\\n    {\\n      \"source_block_id\": \"898654ac-ec64-4413-a35f-0577718d3ccc\",\\n      \"target_block_id\": \"81f64eb5-278b-4f2c-acc9-1cfd0424f2a7\",\\n      \"source_output\": \"add_grid_path\",\\n      \"target_input\": \"add_grid_path\"\\n    },\\n    {\\n      \"source_block_id\": \"7fba7e54-2f7a-4ad6-9b3a-b24166931cec\",\\n      \"target_block_id\": \"43868c11-f6c6-4463-9960-ed9e2b7671ae\",\\n      \"source_output\": \"config\",\\n      \"target_input\": \"config\"\\n    },\\n    {\\n      \"source_block_id\": \"0a417926-89c9-471d-a806-46f494b1b66d\",\\n      \"target_block_id\": \"6c7b8e57-8eeb-4a38-9df0-43dae4b7bb04\",\\n      \"source_output\": \"grid_two_df_path\",\\n      \"target_input\": \"PRICE\"\\n    },\\n    {\\n      \"source_block_id\": \"7fba7e54-2f7a-4ad6-9b3a-b24166931cec\",\\n      \"target_block_id\": \"0a417926-89c9-471d-a806-46f494b1b66d\",\\n      \"source_output\": \"config\",\\n      \"target_input\": \"config\"\\n    },\\n    {\\n      \"source_block_id\": \"43868c11-f6c6-4463-9960-ed9e2b7671ae\",\\n      \"target_block_id\": \"0a417926-89c9-471d-a806-46f494b1b66d\",\\n      \"source_output\": \"grid_pkl_path\",\\n      \"target_input\": \"grid_path\"\\n    },\\n    {\\n      \"source_block_id\": \"a1b64aaf-177d-4a92-a4c7-0c98b5e0605d\",\\n      \"target_block_id\": \"6c7b8e57-8eeb-4a38-9df0-43dae4b7bb04\",\\n      \"source_output\": \"lag_df_path\",\\n      \"target_input\": \"LAGS\"\\n    },\\n    {\\n      \"source_block_id\": \"7fba7e54-2f7a-4ad6-9b3a-b24166931cec\",\\n      \"target_block_id\": \"898654ac-ec64-4413-a35f-0577718d3ccc\",\\n      \"source_output\": \"config\",\\n      \"target_input\": \"config\"\\n    },\\n    {\\n      \"source_block_id\": \"7fba7e54-2f7a-4ad6-9b3a-b24166931cec\",\\n      \"target_block_id\": \"eebc38ae-7b0c-42ff-ac73-0b75ca39e8a4\",\\n      \"source_output\": \"config\",\\n      \"target_input\": \"config\"\\n    },\\n    {\\n      \"source_block_id\": \"eebc38ae-7b0c-42ff-ac73-0b75ca39e8a4\",\\n      \"target_block_id\": \"81f64eb5-278b-4f2c-acc9-1cfd0424f2a7\",\\n      \"source_output\": \"grid_df_path\",\\n      \"target_input\": \"grid_df_path\"\\n    },\\n    {\\n      \"source_block_id\": \"43868c11-f6c6-4463-9960-ed9e2b7671ae\",\\n      \"target_block_id\": \"6c7b8e57-8eeb-4a38-9df0-43dae4b7bb04\",\\n      \"source_output\": \"grid_pkl_path\",\\n      \"target_input\": \"BASE\"\\n    },\\n    {\\n      \"source_block_id\": \"97ae11d8-adb2-46ed-9061-a235ce52a489\",\\n      \"target_block_id\": \"6c7b8e57-8eeb-4a38-9df0-43dae4b7bb04\",\\n      \"source_output\": \"encoded_df_path\",\\n      \"target_input\": \"MEAN_ENC\"\\n    },\\n    {\\n      \"source_block_id\": \"43868c11-f6c6-4463-9960-ed9e2b7671ae\",\\n      \"target_block_id\": \"a1b64aaf-177d-4a92-a4c7-0c98b5e0605d\",\\n      \"source_output\": \"grid_pkl_path\",\\n      \"target_input\": \"grid_path\"\\n    },\\n    {\\n      \"source_block_id\": \"43868c11-f6c6-4463-9960-ed9e2b7671ae\",\\n      \"target_block_id\": \"97ae11d8-adb2-46ed-9061-a235ce52a489\",\\n      \"source_output\": \"grid_pkl_path\",\\n      \"target_input\": \"grid_path\"\\n    },\\n    {\\n      \"source_block_id\": \"7fba7e54-2f7a-4ad6-9b3a-b24166931cec\",\\n      \"target_block_id\": \"387d4546-053e-40c7-9459-d9747b9d57bf\",\\n      \"source_output\": \"config\",\\n      \"target_input\": \"config\"\\n    }\\n  ],\\n  \"priority\": \"LOW\",\\n  \"infraResourceEstimation\": null,\\n  \"resourceRequirement\": {\\n    \"cores\": null,\\n    \"memory\": null,\\n    \"useGpu\": null,\\n    \"gpu\": null,\\n    \"useGpuIfAvailable\": null,\\n    \"clusterConfiguration\": null,\\n    \"additionalEnv\": {},\\n    \"runEnv\": null\\n  },\\n  \"comments\": null,\\n  \"order\": null,\\n  \"uiData\": null,\\n  \"dom\": null,\\n  \"systemGenerated\": false,\\n  \"systemModel\": false,\\n  \"pipelineVariableList\": [],\\n  \"pipelineTemplateVersion\": 0.0,\\n  \"versionId\": null,\\n  \"engineId\": \"65ed2499-f8c9-4c4d-ad27-aa689bd1531e\",\\n  \"userId\": \"c4080201-ccc9-4657-a457-7e18c100ff28\",\\n  \"runInitiatedFrom\": \"JUPYTER\",\\n  \"processList\": null,\\n  \"processInfo\": null\\n}', dom='Yet to add', order=None, infra_resource='{\\n  \"zookeeper\": {\\n    \"cores\": 1,\\n    \"memory\": 1024,\\n    \"useGpu\": null,\\n    \"gpu\": null,\\n    \"useGpuIfAvailable\": null,\\n    \"clusterConfiguration\": null,\\n    \"additionalEnv\": {},\\n    \"runEnv\": null\\n  },\\n  \"kafka\": {\\n    \"cores\": 1,\\n    \"memory\": 1024,\\n    \"useGpu\": null,\\n    \"gpu\": null,\\n    \"useGpuIfAvailable\": null,\\n    \"clusterConfiguration\": null,\\n    \"additionalEnv\": {},\\n    \"runEnv\": null\\n  }\\n}', resource_spec=ResourceAllocated(cores=None, memory=None, use_gpu=None, gpu=None, use_gpu_if_available=None, cluster_configuration=None, additional_env={}, run_env=None), engine_id='65ed2499-f8c9-4c4d-ad27-aa689bd1531e', run_initiated_from='JUPYTER')"
      ]
     },
     "execution_count": 19,
     "metadata": {},
     "output_type": "execute_result"
    }
   ],
   "source": [
    "deployed_pipeline"
   ]
  },
  {
   "cell_type": "code",
   "execution_count": null,
   "metadata": {},
   "outputs": [],
   "source": []
  },
  {
   "cell_type": "code",
   "execution_count": null,
   "metadata": {},
   "outputs": [],
   "source": []
  },
  {
   "cell_type": "code",
   "execution_count": null,
   "metadata": {},
   "outputs": [],
   "source": []
  }
 ],
 "metadata": {
  "kernelspec": {
   "display_name": "Python 3",
   "language": "python",
   "name": "python3"
  },
  "language_info": {
   "codemirror_mode": {
    "name": "ipython",
    "version": 3
   },
   "file_extension": ".py",
   "mimetype": "text/x-python",
   "name": "python",
   "nbconvert_exporter": "python",
   "pygments_lexer": "ipython3",
   "version": "3.7.6"
  }
 },
 "nbformat": 4,
 "nbformat_minor": 4
}
