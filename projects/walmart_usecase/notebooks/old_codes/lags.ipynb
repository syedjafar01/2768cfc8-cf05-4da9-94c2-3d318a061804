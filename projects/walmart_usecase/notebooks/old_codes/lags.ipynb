{
 "cells": [
  {
   "cell_type": "code",
   "execution_count": 13,
   "metadata": {},
   "outputs": [],
   "source": [
    "import numpy as np\n",
    "import pandas as pd\n",
    "import os, sys, gc, time, warnings, pickle, psutil, random\n",
    "\n",
    "import time\n",
    "\n",
    "warnings.filterwarnings('ignore')"
   ]
  },
  {
   "cell_type": "code",
   "execution_count": 14,
   "metadata": {},
   "outputs": [],
   "source": [
    "from razor.api import project_space_path\n",
    "import razor\n"
   ]
  },
  {
   "cell_type": "code",
   "execution_count": 15,
   "metadata": {},
   "outputs": [],
   "source": [
    "def get_memory_usage():\n",
    "    return np.round(psutil.Process(os.getpid()).memory_info()[0]/2.**30, 2) \n",
    "        \n",
    "def sizeof_fmt(num, suffix='B'):\n",
    "    for unit in ['','Ki','Mi','Gi','Ti','Pi','Ei','Zi']:\n",
    "        if abs(num) < 1024.0:\n",
    "            return \"%3.1f%s%s\" % (num, unit, suffix)\n",
    "        num /= 1024.0\n",
    "    return \"%.1f%s%s\" % (num, 'Yi', suffix)"
   ]
  },
  {
   "cell_type": "code",
   "execution_count": 16,
   "metadata": {},
   "outputs": [],
   "source": [
    "TARGET = 'sales'         # Our main target\n",
    "END_TRAIN = 1913         # Last day in train set\n",
    "MAIN_INDEX = ['id','d']  # We can identify item by these columns"
   ]
  },
  {
   "cell_type": "code",
   "execution_count": 17,
   "metadata": {},
   "outputs": [
    {
     "name": "stdout",
     "output_type": "stream",
     "text": [
      "Load Main Data\n"
     ]
    }
   ],
   "source": [
    "print('Load Main Data')\n",
    "\n",
    "# We will need only train dataset\n",
    "# to show lags concept\n",
    "train_df = pd.read_csv(project_space_path('M5Forecasting/sales_train_validation.csv'))\n",
    "\n",
    "# To make all calculations faster\n",
    "# we will limit dataset by 'CA' state\n",
    "train_df = train_df[train_df['state_id']=='CA']\n"
   ]
  },
  {
   "cell_type": "code",
   "execution_count": 18,
   "metadata": {},
   "outputs": [
    {
     "data": {
      "text/plain": [
       "(12196, 1919)"
      ]
     },
     "execution_count": 18,
     "metadata": {},
     "output_type": "execute_result"
    }
   ],
   "source": [
    "train_df.shape"
   ]
  },
  {
   "cell_type": "code",
   "execution_count": 19,
   "metadata": {},
   "outputs": [
    {
     "data": {
      "text/html": [
       "<div>\n",
       "<style scoped>\n",
       "    .dataframe tbody tr th:only-of-type {\n",
       "        vertical-align: middle;\n",
       "    }\n",
       "\n",
       "    .dataframe tbody tr th {\n",
       "        vertical-align: top;\n",
       "    }\n",
       "\n",
       "    .dataframe thead th {\n",
       "        text-align: right;\n",
       "    }\n",
       "</style>\n",
       "<table border=\"1\" class=\"dataframe\">\n",
       "  <thead>\n",
       "    <tr style=\"text-align: right;\">\n",
       "      <th></th>\n",
       "      <th>id</th>\n",
       "      <th>item_id</th>\n",
       "      <th>dept_id</th>\n",
       "      <th>cat_id</th>\n",
       "      <th>store_id</th>\n",
       "      <th>state_id</th>\n",
       "      <th>d_1</th>\n",
       "      <th>d_2</th>\n",
       "      <th>d_3</th>\n",
       "      <th>d_4</th>\n",
       "      <th>...</th>\n",
       "      <th>d_1904</th>\n",
       "      <th>d_1905</th>\n",
       "      <th>d_1906</th>\n",
       "      <th>d_1907</th>\n",
       "      <th>d_1908</th>\n",
       "      <th>d_1909</th>\n",
       "      <th>d_1910</th>\n",
       "      <th>d_1911</th>\n",
       "      <th>d_1912</th>\n",
       "      <th>d_1913</th>\n",
       "    </tr>\n",
       "  </thead>\n",
       "  <tbody>\n",
       "    <tr>\n",
       "      <th>0</th>\n",
       "      <td>HOBBIES_1_001_CA_1_validation</td>\n",
       "      <td>HOBBIES_1_001</td>\n",
       "      <td>HOBBIES_1</td>\n",
       "      <td>HOBBIES</td>\n",
       "      <td>CA_1</td>\n",
       "      <td>CA</td>\n",
       "      <td>0</td>\n",
       "      <td>0</td>\n",
       "      <td>0</td>\n",
       "      <td>0</td>\n",
       "      <td>...</td>\n",
       "      <td>1</td>\n",
       "      <td>3</td>\n",
       "      <td>0</td>\n",
       "      <td>1</td>\n",
       "      <td>1</td>\n",
       "      <td>1</td>\n",
       "      <td>3</td>\n",
       "      <td>0</td>\n",
       "      <td>1</td>\n",
       "      <td>1</td>\n",
       "    </tr>\n",
       "    <tr>\n",
       "      <th>1</th>\n",
       "      <td>HOBBIES_1_002_CA_1_validation</td>\n",
       "      <td>HOBBIES_1_002</td>\n",
       "      <td>HOBBIES_1</td>\n",
       "      <td>HOBBIES</td>\n",
       "      <td>CA_1</td>\n",
       "      <td>CA</td>\n",
       "      <td>0</td>\n",
       "      <td>0</td>\n",
       "      <td>0</td>\n",
       "      <td>0</td>\n",
       "      <td>...</td>\n",
       "      <td>0</td>\n",
       "      <td>0</td>\n",
       "      <td>0</td>\n",
       "      <td>0</td>\n",
       "      <td>0</td>\n",
       "      <td>1</td>\n",
       "      <td>0</td>\n",
       "      <td>0</td>\n",
       "      <td>0</td>\n",
       "      <td>0</td>\n",
       "    </tr>\n",
       "    <tr>\n",
       "      <th>2</th>\n",
       "      <td>HOBBIES_1_003_CA_1_validation</td>\n",
       "      <td>HOBBIES_1_003</td>\n",
       "      <td>HOBBIES_1</td>\n",
       "      <td>HOBBIES</td>\n",
       "      <td>CA_1</td>\n",
       "      <td>CA</td>\n",
       "      <td>0</td>\n",
       "      <td>0</td>\n",
       "      <td>0</td>\n",
       "      <td>0</td>\n",
       "      <td>...</td>\n",
       "      <td>2</td>\n",
       "      <td>1</td>\n",
       "      <td>2</td>\n",
       "      <td>1</td>\n",
       "      <td>1</td>\n",
       "      <td>1</td>\n",
       "      <td>0</td>\n",
       "      <td>1</td>\n",
       "      <td>1</td>\n",
       "      <td>1</td>\n",
       "    </tr>\n",
       "    <tr>\n",
       "      <th>3</th>\n",
       "      <td>HOBBIES_1_004_CA_1_validation</td>\n",
       "      <td>HOBBIES_1_004</td>\n",
       "      <td>HOBBIES_1</td>\n",
       "      <td>HOBBIES</td>\n",
       "      <td>CA_1</td>\n",
       "      <td>CA</td>\n",
       "      <td>0</td>\n",
       "      <td>0</td>\n",
       "      <td>0</td>\n",
       "      <td>0</td>\n",
       "      <td>...</td>\n",
       "      <td>1</td>\n",
       "      <td>0</td>\n",
       "      <td>5</td>\n",
       "      <td>4</td>\n",
       "      <td>1</td>\n",
       "      <td>0</td>\n",
       "      <td>1</td>\n",
       "      <td>3</td>\n",
       "      <td>7</td>\n",
       "      <td>2</td>\n",
       "    </tr>\n",
       "    <tr>\n",
       "      <th>4</th>\n",
       "      <td>HOBBIES_1_005_CA_1_validation</td>\n",
       "      <td>HOBBIES_1_005</td>\n",
       "      <td>HOBBIES_1</td>\n",
       "      <td>HOBBIES</td>\n",
       "      <td>CA_1</td>\n",
       "      <td>CA</td>\n",
       "      <td>0</td>\n",
       "      <td>0</td>\n",
       "      <td>0</td>\n",
       "      <td>0</td>\n",
       "      <td>...</td>\n",
       "      <td>2</td>\n",
       "      <td>1</td>\n",
       "      <td>1</td>\n",
       "      <td>0</td>\n",
       "      <td>1</td>\n",
       "      <td>1</td>\n",
       "      <td>2</td>\n",
       "      <td>2</td>\n",
       "      <td>2</td>\n",
       "      <td>4</td>\n",
       "    </tr>\n",
       "    <tr>\n",
       "      <th>5</th>\n",
       "      <td>HOBBIES_1_006_CA_1_validation</td>\n",
       "      <td>HOBBIES_1_006</td>\n",
       "      <td>HOBBIES_1</td>\n",
       "      <td>HOBBIES</td>\n",
       "      <td>CA_1</td>\n",
       "      <td>CA</td>\n",
       "      <td>0</td>\n",
       "      <td>0</td>\n",
       "      <td>0</td>\n",
       "      <td>0</td>\n",
       "      <td>...</td>\n",
       "      <td>0</td>\n",
       "      <td>1</td>\n",
       "      <td>0</td>\n",
       "      <td>1</td>\n",
       "      <td>0</td>\n",
       "      <td>0</td>\n",
       "      <td>0</td>\n",
       "      <td>2</td>\n",
       "      <td>0</td>\n",
       "      <td>0</td>\n",
       "    </tr>\n",
       "    <tr>\n",
       "      <th>6</th>\n",
       "      <td>HOBBIES_1_007_CA_1_validation</td>\n",
       "      <td>HOBBIES_1_007</td>\n",
       "      <td>HOBBIES_1</td>\n",
       "      <td>HOBBIES</td>\n",
       "      <td>CA_1</td>\n",
       "      <td>CA</td>\n",
       "      <td>0</td>\n",
       "      <td>0</td>\n",
       "      <td>0</td>\n",
       "      <td>0</td>\n",
       "      <td>...</td>\n",
       "      <td>0</td>\n",
       "      <td>0</td>\n",
       "      <td>0</td>\n",
       "      <td>1</td>\n",
       "      <td>0</td>\n",
       "      <td>1</td>\n",
       "      <td>0</td>\n",
       "      <td>0</td>\n",
       "      <td>1</td>\n",
       "      <td>1</td>\n",
       "    </tr>\n",
       "    <tr>\n",
       "      <th>7</th>\n",
       "      <td>HOBBIES_1_008_CA_1_validation</td>\n",
       "      <td>HOBBIES_1_008</td>\n",
       "      <td>HOBBIES_1</td>\n",
       "      <td>HOBBIES</td>\n",
       "      <td>CA_1</td>\n",
       "      <td>CA</td>\n",
       "      <td>12</td>\n",
       "      <td>15</td>\n",
       "      <td>0</td>\n",
       "      <td>0</td>\n",
       "      <td>...</td>\n",
       "      <td>0</td>\n",
       "      <td>0</td>\n",
       "      <td>1</td>\n",
       "      <td>37</td>\n",
       "      <td>3</td>\n",
       "      <td>4</td>\n",
       "      <td>6</td>\n",
       "      <td>3</td>\n",
       "      <td>2</td>\n",
       "      <td>1</td>\n",
       "    </tr>\n",
       "    <tr>\n",
       "      <th>8</th>\n",
       "      <td>HOBBIES_1_009_CA_1_validation</td>\n",
       "      <td>HOBBIES_1_009</td>\n",
       "      <td>HOBBIES_1</td>\n",
       "      <td>HOBBIES</td>\n",
       "      <td>CA_1</td>\n",
       "      <td>CA</td>\n",
       "      <td>2</td>\n",
       "      <td>0</td>\n",
       "      <td>7</td>\n",
       "      <td>3</td>\n",
       "      <td>...</td>\n",
       "      <td>0</td>\n",
       "      <td>0</td>\n",
       "      <td>1</td>\n",
       "      <td>1</td>\n",
       "      <td>6</td>\n",
       "      <td>0</td>\n",
       "      <td>0</td>\n",
       "      <td>0</td>\n",
       "      <td>0</td>\n",
       "      <td>0</td>\n",
       "    </tr>\n",
       "    <tr>\n",
       "      <th>9</th>\n",
       "      <td>HOBBIES_1_010_CA_1_validation</td>\n",
       "      <td>HOBBIES_1_010</td>\n",
       "      <td>HOBBIES_1</td>\n",
       "      <td>HOBBIES</td>\n",
       "      <td>CA_1</td>\n",
       "      <td>CA</td>\n",
       "      <td>0</td>\n",
       "      <td>0</td>\n",
       "      <td>1</td>\n",
       "      <td>0</td>\n",
       "      <td>...</td>\n",
       "      <td>1</td>\n",
       "      <td>0</td>\n",
       "      <td>0</td>\n",
       "      <td>0</td>\n",
       "      <td>0</td>\n",
       "      <td>0</td>\n",
       "      <td>0</td>\n",
       "      <td>2</td>\n",
       "      <td>0</td>\n",
       "      <td>2</td>\n",
       "    </tr>\n",
       "  </tbody>\n",
       "</table>\n",
       "<p>10 rows × 1919 columns</p>\n",
       "</div>"
      ],
      "text/plain": [
       "                              id        item_id    dept_id   cat_id store_id  \\\n",
       "0  HOBBIES_1_001_CA_1_validation  HOBBIES_1_001  HOBBIES_1  HOBBIES     CA_1   \n",
       "1  HOBBIES_1_002_CA_1_validation  HOBBIES_1_002  HOBBIES_1  HOBBIES     CA_1   \n",
       "2  HOBBIES_1_003_CA_1_validation  HOBBIES_1_003  HOBBIES_1  HOBBIES     CA_1   \n",
       "3  HOBBIES_1_004_CA_1_validation  HOBBIES_1_004  HOBBIES_1  HOBBIES     CA_1   \n",
       "4  HOBBIES_1_005_CA_1_validation  HOBBIES_1_005  HOBBIES_1  HOBBIES     CA_1   \n",
       "5  HOBBIES_1_006_CA_1_validation  HOBBIES_1_006  HOBBIES_1  HOBBIES     CA_1   \n",
       "6  HOBBIES_1_007_CA_1_validation  HOBBIES_1_007  HOBBIES_1  HOBBIES     CA_1   \n",
       "7  HOBBIES_1_008_CA_1_validation  HOBBIES_1_008  HOBBIES_1  HOBBIES     CA_1   \n",
       "8  HOBBIES_1_009_CA_1_validation  HOBBIES_1_009  HOBBIES_1  HOBBIES     CA_1   \n",
       "9  HOBBIES_1_010_CA_1_validation  HOBBIES_1_010  HOBBIES_1  HOBBIES     CA_1   \n",
       "\n",
       "  state_id  d_1  d_2  d_3  d_4  ...  d_1904  d_1905  d_1906  d_1907  d_1908  \\\n",
       "0       CA    0    0    0    0  ...       1       3       0       1       1   \n",
       "1       CA    0    0    0    0  ...       0       0       0       0       0   \n",
       "2       CA    0    0    0    0  ...       2       1       2       1       1   \n",
       "3       CA    0    0    0    0  ...       1       0       5       4       1   \n",
       "4       CA    0    0    0    0  ...       2       1       1       0       1   \n",
       "5       CA    0    0    0    0  ...       0       1       0       1       0   \n",
       "6       CA    0    0    0    0  ...       0       0       0       1       0   \n",
       "7       CA   12   15    0    0  ...       0       0       1      37       3   \n",
       "8       CA    2    0    7    3  ...       0       0       1       1       6   \n",
       "9       CA    0    0    1    0  ...       1       0       0       0       0   \n",
       "\n",
       "   d_1909  d_1910  d_1911  d_1912  d_1913  \n",
       "0       1       3       0       1       1  \n",
       "1       1       0       0       0       0  \n",
       "2       1       0       1       1       1  \n",
       "3       0       1       3       7       2  \n",
       "4       1       2       2       2       4  \n",
       "5       0       0       2       0       0  \n",
       "6       1       0       0       1       1  \n",
       "7       4       6       3       2       1  \n",
       "8       0       0       0       0       0  \n",
       "9       0       0       2       0       2  \n",
       "\n",
       "[10 rows x 1919 columns]"
      ]
     },
     "execution_count": 19,
     "metadata": {},
     "output_type": "execute_result"
    }
   ],
   "source": [
    "train_df.iloc[:10]"
   ]
  },
  {
   "cell_type": "code",
   "execution_count": null,
   "metadata": {},
   "outputs": [],
   "source": [
    "# index_columns = ['id','item_id','dept_id','cat_id','store_id','state_id']\n",
    "# train_df = pd.melt(train_df, \n",
    "#                   id_vars = index_columns, \n",
    "#                   var_name = 'd', \n",
    "#                   value_name = TARGET)\n",
    "\n",
    "# train_df[train_df['id']=='HOBBIES_1_001_CA_1_validation'].iloc[:10]\n"
   ]
  },
  {
   "cell_type": "code",
   "execution_count": null,
   "metadata": {},
   "outputs": [],
   "source": [
    "import razor.flow as rf\n",
    "import typing as t\n",
    "import logging\n",
    "import pandas as pd\n",
    "from razor.api import project_space_path\n"
   ]
  },
  {
   "cell_type": "code",
   "execution_count": null,
   "metadata": {},
   "outputs": [],
   "source": [
    "# train_df.to_csv(project_space_path('M5Forecasting/train_df.csv'), index=False)\n",
    "\n"
   ]
  },
  {
   "cell_type": "code",
   "execution_count": null,
   "metadata": {},
   "outputs": [],
   "source": [
    "@rf.block(executor=rf.ContainerExecutor(cores=2, memory=8192))\n",
    "class HeavyOps():\n",
    "    path: t.Any\n",
    "        \n",
    "    def run(self):\n",
    "\n",
    "        train_df = pd.read_csv(project_space_path(path))\n",
    "        \n",
    "        # Or same in \"compact\" manner\n",
    "        LAG_DAYS = [col for col in range(1,8)]\n",
    "        temp_df = train_df[['id','d',TARGET]]\n",
    "\n",
    "        start_time = time.time()\n",
    "        temp_df = temp_df.assign(**{\n",
    "                '{}_lag_{}'.format(col, l): temp_df.groupby(['id'])[col].transform(lambda x: x.shift(l))\n",
    "                for l in LAG_DAYS\n",
    "                for col in [TARGET]\n",
    "            })\n",
    "        \n",
    "        logging.info('%0.2f min: Time for bulk shift')\n",
    "        logging.info(time.time() - start_time / 60)\n",
    "        print('%0.2f min: Time for bulk shift' % ((time.time() - start_time) / 60))\n",
    "        \n",
    "        temp_df.to_csv(project_space_path('M5Forecasting/temp_df.csv'), index=False)\n",
    "        "
   ]
  },
  {
   "cell_type": "code",
   "execution_count": null,
   "metadata": {},
   "outputs": [],
   "source": [
    "heavy_ops = HeavyOps(path = 'M5Forecasting/train_df.csv')\n",
    "\n"
   ]
  },
  {
   "cell_type": "code",
   "execution_count": null,
   "metadata": {},
   "outputs": [],
   "source": [
    "p = rf.Pipeline(\"Heavy Operation\", targets=[heavy_ops])  #preprocess\n"
   ]
  },
  {
   "cell_type": "code",
   "execution_count": null,
   "metadata": {},
   "outputs": [],
   "source": [
    "p.show()"
   ]
  },
  {
   "cell_type": "code",
   "execution_count": null,
   "metadata": {},
   "outputs": [],
   "source": [
    "deployed_pipeline = razor.api.engines('DS-engine').execute(pipeline=p)\n"
   ]
  },
  {
   "cell_type": "code",
   "execution_count": null,
   "metadata": {},
   "outputs": [],
   "source": [
    "deployed_pipeline"
   ]
  },
  {
   "cell_type": "code",
   "execution_count": null,
   "metadata": {},
   "outputs": [],
   "source": []
  },
  {
   "cell_type": "code",
   "execution_count": null,
   "metadata": {},
   "outputs": [],
   "source": [
    "temp_df = pd.read_csv('M5Forecasting/temp_df.csv')\n",
    "\n",
    "\n"
   ]
  },
  {
   "cell_type": "code",
   "execution_count": null,
   "metadata": {},
   "outputs": [],
   "source": []
  },
  {
   "cell_type": "code",
   "execution_count": null,
   "metadata": {},
   "outputs": [],
   "source": []
  },
  {
   "cell_type": "markdown",
   "metadata": {},
   "source": [
    "# Original Lag Code"
   ]
  },
  {
   "cell_type": "code",
   "execution_count": null,
   "metadata": {},
   "outputs": [],
   "source": []
  },
  {
   "cell_type": "code",
   "execution_count": null,
   "metadata": {},
   "outputs": [],
   "source": [
    "@rf.block(executor=rf.ContainerExecutor(cores=2, memory=20000))\n",
    "class LagCreator:\n",
    "    grid_path: t.Any\n",
    "        \n",
    "    def run(self):\n",
    "        ########################### Apply on grid_df\n",
    "\n",
    "        grid_df = pd.read_pickle(project_space_path(self.grid_path))\n",
    "\n",
    "        TARGET = 'sales'         # Our main target\n",
    "        END_TRAIN = 1913         # Last day in train set\n",
    "        MAIN_INDEX = ['id','d']  # We can identify item by these columns\n",
    "        \n",
    "        # We need only 'id','d','sales'\n",
    "        # to make lags and rollings\n",
    "        grid_df = grid_df[['id','d','sales']]\n",
    "        SHIFT_DAY = 28\n",
    "\n",
    "        # Lags\n",
    "        # with 28 day shift\n",
    "        start_time = time.time()\n",
    "        self.logger.info('Create lags')\n",
    "\n",
    "        LAG_DAYS = [col for col in range(SHIFT_DAY,SHIFT_DAY+15)]\n",
    "        grid_df = grid_df.assign(**{\n",
    "                '{}_lag_{}'.format(col, l): grid_df.groupby(['id'])[col].transform(lambda x: x.shift(l))\n",
    "                for l in LAG_DAYS\n",
    "                for col in [TARGET]\n",
    "            })\n",
    "\n",
    "        # Minify lag columns\n",
    "        for col in list(grid_df):\n",
    "            if 'lag' in col:\n",
    "                grid_df[col] = grid_df[col].astype(np.float16)\n",
    "\n",
    "        self.logger.info('%0.2f min: Lags' % ((time.time() - start_time) / 60))\n",
    "\n",
    "        # Rollings\n",
    "        # with 28 day shift\n",
    "        start_time = time.time()\n",
    "        self.logger.info('Create rolling aggs')\n",
    "\n",
    "        for i in [7,14,30,60,180]:\n",
    "            self.logger.info(f'Rolling period: {i}')\n",
    "            grid_df['rolling_mean_'+str(i)] = grid_df.groupby(['id'])[TARGET].transform(lambda x: x.shift(SHIFT_DAY).rolling(i).mean()).astype(np.float16)\n",
    "            grid_df['rolling_std_'+str(i)]  = grid_df.groupby(['id'])[TARGET].transform(lambda x: x.shift(SHIFT_DAY).rolling(i).std()).astype(np.float16)\n",
    "\n",
    "        # Rollings\n",
    "        # with sliding shift\n",
    "        for d_shift in [1,7,14]: \n",
    "            self.logger.info(f'Shifting period: {d_shift}')\n",
    "            for d_window in [7,14,30,60]:\n",
    "                col_name = 'rolling_mean_tmp_'+str(d_shift)+'_'+str(d_window)\n",
    "                grid_df[col_name] = grid_df.groupby(['id'])[TARGET].transform(lambda x: x.shift(d_shift).rolling(d_window).mean()).astype(np.float16)\n",
    "\n",
    "\n",
    "        self.logger.info('%0.2f min: Lags' % ((time.time() - start_time) / 60))\n",
    "\n",
    "        self.logger.info(f'Save lags and rollings  {grid_df.shape}')\n",
    "        grid_df.to_pickle(project_space_path(f'M5Forecasting/lags_df_{str(SHIFT_DAY)}.pkl'))\n"
   ]
  },
  {
   "cell_type": "code",
   "execution_count": null,
   "metadata": {},
   "outputs": [],
   "source": [
    "lag_creator = LagCreator(grid_path = 'M5Forecasting/m5-simple-fe/grid_part_1.pkl')\n"
   ]
  },
  {
   "cell_type": "code",
   "execution_count": null,
   "metadata": {},
   "outputs": [],
   "source": [
    "p = rf.Pipeline(\"lag_creator\", targets=[lag_creator])  #preprocess\n"
   ]
  },
  {
   "cell_type": "code",
   "execution_count": null,
   "metadata": {},
   "outputs": [],
   "source": [
    "p.show()"
   ]
  },
  {
   "cell_type": "code",
   "execution_count": 37,
   "metadata": {},
   "outputs": [],
   "source": [
    "deployed_pipeline = razor.api.engines('DS-engine').execute(pipeline=p)\n"
   ]
  },
  {
   "cell_type": "code",
   "execution_count": 46,
   "metadata": {},
   "outputs": [
    {
     "data": {
      "application/vnd.razorthink.run+monitor+json": "/home/jovyan/logs/5729c8de-bfe0-4e1d-a2c9-c4955878fa16",
      "text/plain": [
       "<razor_tools.backend.ipython.mime.run_monitor.RunMonitor at 0x7f15b54f3410>"
      ]
     },
     "metadata": {
      "application/vnd.razorthink.run+monitor+json": {
       "store_in_notebook": false
      }
     },
     "output_type": "display_data"
    },
    {
     "data": {
      "text/html": [],
      "text/plain": [
       "PlatformPipelineRun(project_id='c0b26d85-a4c9-44f5-9d0e-f540dd2de644', pipeline_id='007f8806-0357-11eb-b88b-0242ac110004', pipeline_name='lag_creator', pipeline_run_id='5729c8de-bfe0-4e1d-a2c9-c4955878fa16', pipeline_version=None, comment=None, created_on='2020-09-30T19:56:17.662+00:00', start_time=None, end_time=None, eta=0, run_at=1601495777662, run_duration=0, compute_time=0, wait_time=37, ran_by_user=RanByUser(user_name='Ayan Basak', email='ayan.basak@razorthink.com'), status='IN_PROGRESS', block_status=[PlatformPipelineBlockRun(pipeline_run_id='5729c8de-bfe0-4e1d-a2c9-c4955878fa16', pipeline_name='lag_creator', pipeline_status='IN_PROGRESS', block_id='cb38302a-57a5-4d9c-9b60-8e11610bb429', block_run_id='f68703d1-f94a-4ed4-a4be-bf84776be6dc', block_name='LagCreator_1', resource_spec=ResourceAllocated(cores=2, memory=20000, use_gpu=False, gpu=0, use_gpu_if_available=False, cluster_configuration={'worker': None, 'workerCore': None, 'workerMemory': None, 'numberOfInstances': None, 'maxServerCount': None}, additional_env={}, run_env='PYTHON'), technology='PYTHON', status='READY_TO_GO', containers=[], cluster_id='cb38302a-57a5-4d9c-9b60-8e11610bb429', _log=None, _metric=None, wait_time=0, compute_time=0, start_time=None, end_time=None, queued_at='2020-09-30T19:56:18.000+00:00')], run_number=194, pipeline_variable_list=[], block_run_details=[BlockRunDetail(block_id='cb38302a-57a5-4d9c-9b60-8e11610bb429', block_run_id='f68703d1-f94a-4ed4-a4be-bf84776be6dc', block_name='LagCreator_1', technology='PYTHON', log_path=None, input_parameters='{\\n  \"grid_path\": {\\n    \"dtype\": \"Any\",\\n    \"required\": \"false\",\\n    \"series\": false,\\n    \"adapter\": \"eJxrYJmqxgABPYJFiVX5RXppOfnlern5Kak5xVN6ePLy8wviE1MSC0pSi6ZMnqIHAF/+ELQ=\",\\n    \"validator\": \"eJxrYJmqwQABPYJFiVX5RXppOfnlern5Kak5xVN6+PLy8wviyxJzMlMSS/KLpkyeogcAg2wRnQ==\",\\n    \"source_id\": null,\\n    \"source_name\": null,\\n    \"inferred_type\": \"STATIC\",\\n    \"value\": \"eJxrYJmqxwABPVq+pm75RanJicUlmXnp+rmmusWZuQU5qbppqfrpRZkp8QWJRSXxhnoF2TlT9ADQohIn\"\\n  }\\n}', output_parameters=None, status='READY_TO_GO', created_at='2020-09-30T19:56:17.758+00:00', queued_at='2020-09-30T19:56:18.000+00:00', start_time=None, end_time=None, compute_time=0, wait_time=0, run_time=0, block_run_output_list=[], resource_allocated=ResourceAllocated(cores=2, memory=20000, use_gpu=False, gpu=0, use_gpu_if_available=False, cluster_configuration={'worker': None, 'workerCore': None, 'workerMemory': None, 'numberOfInstances': None, 'maxServerCount': None}, additional_env={}, run_env='PYTHON'))], pipeline_json='{\\n  \"id\": \"007f8806-0357-11eb-b88b-0242ac110004\",\\n  \"projectId\": \"c0b26d85-a4c9-44f5-9d0e-f540dd2de644\",\\n  \"name\": \"lag_creator\",\\n  \"description\": \"\",\\n  \"blocks\": [\\n    {\\n      \"name\": \"LagCreator_1\",\\n      \"id\": \"cb38302a-57a5-4d9c-9b60-8e11610bb429\",\\n      \"artifact_id\": null,\\n      \"class_name\": \"LagCreator\",\\n      \"code\": \"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\",\\n      \"isPublishedBlock\": false,\\n      \"source\": null,\\n      \"inputProperty\": {\\n        \"grid_path\": {\\n          \"dtype\": \"Any\",\\n          \"required\": \"false\",\\n          \"series\": false,\\n          \"adapter\": \"eJxrYJmqxgABPYJFiVX5RXppOfnlern5Kak5xVN6ePLy8wviE1MSC0pSi6ZMnqIHAF/+ELQ=\",\\n          \"validator\": \"eJxrYJmqwQABPYJFiVX5RXppOfnlern5Kak5xVN6+PLy8wviyxJzMlMSS/KLpkyeogcAg2wRnQ==\",\\n          \"source_id\": null,\\n          \"source_name\": null,\\n          \"inferred_type\": \"STATIC\",\\n          \"value\": \"eJxrYJmqxwABPVq+pm75RanJicUlmXnp+rmmusWZuQU5qbppqfrpRZkp8QWJRSXxhnoF2TlT9ADQohIn\"\\n        }\\n      },\\n      \"outputProperty\": {},\\n      \"resourceRequirement\": {\\n        \"cores\": 2,\\n        \"memory\": 20000,\\n        \"useGpu\": false,\\n        \"gpu\": 0,\\n        \"useGpuIfAvailable\": false,\\n        \"clusterConfiguration\": {\\n          \"worker\": null,\\n          \"workerCore\": null,\\n          \"workerMemory\": null,\\n          \"numberOfInstances\": null,\\n          \"maxServerCount\": null\\n        },\\n        \"additionalEnv\": {},\\n        \"runEnv\": \"PYTHON\"\\n      },\\n      \"executionType\": \"BlockExecutor\",\\n      \"dependencies\": [],\\n      \"system_dependencies\": null,\\n      \"meta_data\": null,\\n      \"process_id\": null,\\n      \"eta\": 0\\n    }\\n  ],\\n  \"connections\": [],\\n  \"priority\": \"LOW\",\\n  \"infraResourceEstimation\": null,\\n  \"resourceRequirement\": {\\n    \"cores\": null,\\n    \"memory\": null,\\n    \"useGpu\": null,\\n    \"gpu\": null,\\n    \"useGpuIfAvailable\": null,\\n    \"clusterConfiguration\": null,\\n    \"additionalEnv\": {},\\n    \"runEnv\": null\\n  },\\n  \"comments\": null,\\n  \"order\": null,\\n  \"uiData\": null,\\n  \"dom\": null,\\n  \"systemGenerated\": false,\\n  \"systemModel\": false,\\n  \"pipelineVariableList\": [],\\n  \"pipelineTemplateVersion\": 0.0,\\n  \"versionId\": null,\\n  \"engineId\": \"65ed2499-f8c9-4c4d-ad27-aa689bd1531e\",\\n  \"userId\": \"c4080201-ccc9-4657-a457-7e18c100ff28\",\\n  \"runInitiatedFrom\": \"JUPYTER\",\\n  \"processList\": null,\\n  \"processInfo\": null\\n}', dom='Yet to add', order=None, infra_resource='{\\n  \"zookeeper\": {\\n    \"cores\": 1,\\n    \"memory\": 1024,\\n    \"useGpu\": null,\\n    \"gpu\": null,\\n    \"useGpuIfAvailable\": null,\\n    \"clusterConfiguration\": null,\\n    \"additionalEnv\": {},\\n    \"runEnv\": null\\n  },\\n  \"kafka\": {\\n    \"cores\": 1,\\n    \"memory\": 1024,\\n    \"useGpu\": null,\\n    \"gpu\": null,\\n    \"useGpuIfAvailable\": null,\\n    \"clusterConfiguration\": null,\\n    \"additionalEnv\": {},\\n    \"runEnv\": null\\n  }\\n}', resource_spec=ResourceAllocated(cores=None, memory=None, use_gpu=None, gpu=None, use_gpu_if_available=None, cluster_configuration=None, additional_env={}, run_env=None), engine_id='65ed2499-f8c9-4c4d-ad27-aa689bd1531e', run_initiated_from='JUPYTER')"
      ]
     },
     "execution_count": 46,
     "metadata": {},
     "output_type": "execute_result"
    }
   ],
   "source": [
    "deployed_pipeline"
   ]
  },
  {
   "cell_type": "code",
   "execution_count": null,
   "metadata": {},
   "outputs": [],
   "source": []
  }
 ],
 "metadata": {
  "kernelspec": {
   "display_name": "Python 3",
   "language": "python",
   "name": "python3"
  },
  "language_info": {
   "codemirror_mode": {
    "name": "ipython",
    "version": 3
   },
   "file_extension": ".py",
   "mimetype": "text/x-python",
   "name": "python",
   "nbconvert_exporter": "python",
   "pygments_lexer": "ipython3",
   "version": "3.7.6"
  }
 },
 "nbformat": 4,
 "nbformat_minor": 4
}
