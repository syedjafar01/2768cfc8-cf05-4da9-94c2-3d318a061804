{
 "cells": [
  {
   "cell_type": "code",
   "execution_count": 17,
   "metadata": {},
   "outputs": [
    {
     "data": {
      "text/html": [
       "<html>\n",
       "            <h4>Library</h4>\n",
       "            <table width='100%'>\n",
       "                <tr>\n",
       "                    <th width='20%' style='align:left; text-align:center;'>Name</th>\n",
       "                    <th style='align:left; text-align:left;'>Technology</th>\n",
       "                    <th style='align:left; text-align:left;'>Install Status</th>\n",
       "                    <th style='align:left; text-align:left;'>Created by</th>\n",
       "                    <th style='align:left; text-align:left;'>Created on</th>\n",
       "                    <th style='align:left; text-align:left;'>Modified by</th>\n",
       "                    <th style='align:left; text-align:left;'>Modified on</th>\n",
       "                </tr><tr>\n",
       "                        <td width='20%' style='align:center; text-align:center;'>fastparquet</td>\n",
       "                        <td style='align:left; text-align:left;'>PYTHON</td>\n",
       "                        <td style='align:left; text-align:left;'>INSTALLED</td>\n",
       "                        <td style='align:left; text-align:left;'>Ayan Basak</td>\n",
       "                        <td style='align:left; text-align:left;'>Sep 25, 2020</td>\n",
       "                        <td style='align:left; text-align:left;'>Ayan Basak</td>\n",
       "                        <td style='align:left; text-align:left;'>Sep 25, 2020</td>\n",
       "                    </tr></table></html>"
      ],
      "text/plain": [
       "PlatformLibrary(id_='54865fdd-700e-494b-a8f8-0b6258aed7cf', artifact_version='01a8b174-7b78-4a53-bf28-5938922e4cd8', name='fastparquet', technology='PYTHON', installation_status='INSTALLED', created_by='Ayan Basak', created_on='2020-09-25T12:27:54.000+00:00', modified_by='Ayan Basak', modified_on='2020-09-25T12:27:54.000+00:00')"
      ]
     },
     "execution_count": 17,
     "metadata": {},
     "output_type": "execute_result"
    }
   ],
   "source": [
    "razor.api.libraries('fastparquet')\n"
   ]
  },
  {
   "cell_type": "code",
   "execution_count": 18,
   "metadata": {},
   "outputs": [],
   "source": [
    "import razor\n"
   ]
  },
  {
   "cell_type": "code",
   "execution_count": 19,
   "metadata": {},
   "outputs": [],
   "source": [
    "config = {'cpu': 8 , 'ram': 36000}"
   ]
  },
  {
   "cell_type": "code",
   "execution_count": null,
   "metadata": {},
   "outputs": [],
   "source": []
  },
  {
   "cell_type": "code",
   "execution_count": 20,
   "metadata": {},
   "outputs": [],
   "source": [
    "# General imports\n",
    "import numpy as np\n",
    "import pandas as pd\n",
    "import os, sys, gc, time, warnings, pickle, psutil, random\n",
    "\n",
    "# custom imports\n",
    "from multiprocessing import Pool        # Multiprocess Runs\n",
    "\n",
    "warnings.filterwarnings('ignore')"
   ]
  },
  {
   "cell_type": "code",
   "execution_count": 21,
   "metadata": {},
   "outputs": [],
   "source": [
    "import razor.flow as rf\n",
    "from razor.api import datasources\n",
    "from razor import project_space_path\n",
    "import razor\n",
    "from razor import Technology, LibraryMode\n"
   ]
  },
  {
   "cell_type": "code",
   "execution_count": 22,
   "metadata": {},
   "outputs": [],
   "source": [
    "import typing as t"
   ]
  },
  {
   "cell_type": "code",
   "execution_count": null,
   "metadata": {},
   "outputs": [],
   "source": []
  },
  {
   "cell_type": "markdown",
   "metadata": {},
   "source": [
    "# Light GBM modelling"
   ]
  },
  {
   "cell_type": "code",
   "execution_count": null,
   "metadata": {},
   "outputs": [],
   "source": []
  },
  {
   "cell_type": "code",
   "execution_count": 23,
   "metadata": {},
   "outputs": [],
   "source": [
    "lib1 = razor.api.libraries(name='lightgbm').artifact()"
   ]
  },
  {
   "cell_type": "code",
   "execution_count": 24,
   "metadata": {},
   "outputs": [],
   "source": [
    "@rf.block(executor=rf.ContainerExecutor(cores=config['cpu'], memory=config['ram']))\n",
    "class Train:\n",
    "#     config: t.Any\n",
    "    \n",
    "    __libs__ = [lib1]\n",
    "    \n",
    "    def init(self):\n",
    "        #PATHS for Features\n",
    "        self.ORIGINAL = project_space_path(\"M5Forecasting\")+\"/\"\n",
    "        self.BASE     = project_space_path('M5Forecasting/m5-simple-fe/grid_part_1.pkl')\n",
    "        self.PRICE    = project_space_path('M5Forecasting/m5-simple-fe/grid_part_2.pkl')\n",
    "        self.CALENDAR = project_space_path('M5Forecasting/m5-simple-fe/grid_part_3.pkl')\n",
    "        self.LAGS     = project_space_path('M5Forecasting/lags_df_28.pkl')\n",
    "        self.MEAN_ENC = project_space_path('M5Forecasting/mean_encoding_df.pkl')\n",
    "\n",
    "        #LIMITS and const\n",
    "        self.TARGET      = 'sales'            # Our target\n",
    "        self.START_TRAIN = 0                  # We can skip some rows (Nans/faster training)\n",
    "        self.END_TRAIN   = 1913               # End day of our train set\n",
    "        self.P_HORIZON   = 28                 # Prediction horizon\n",
    "        self.USE_AUX     = False               # Use or not pretrained models\n",
    "        self.N_CORES = psutil.cpu_count()     # Available CPU cores\n",
    "\n",
    "        # AUX(pretrained) Models paths\n",
    "        self.AUX_MODELS = '../input/m5-aux-models/'\n",
    "\n",
    "\n",
    "        #STORES ids\n",
    "        self.STORES_IDS = pd.read_csv(self.ORIGINAL+'sales_train_validation.csv')['store_id']\n",
    "        self.STORES_IDS = list(self.STORES_IDS.unique())\n",
    "\n",
    "\n",
    "        #SPLITS for lags creation\n",
    "        self.SHIFT_DAY  = 28\n",
    "        self.N_LAGS     = 15\n",
    "        self.LAGS_SPLIT = [col for col in range(self.SHIFT_DAY, self.SHIFT_DAY + self.N_LAGS)]\n",
    "        \n",
    "        self.remove_features = ['id','state_id','store_id',\n",
    "                           'date','wm_yr_wk','d', self.TARGET]\n",
    "        self.mean_features   = ['enc_cat_id_mean','enc_cat_id_std',\n",
    "                           'enc_dept_id_mean','enc_dept_id_std',\n",
    "                           'enc_item_id_mean','enc_item_id_std'] \n",
    "\n",
    "            \n",
    "    def seed_everything(self, seed=0):\n",
    "        random.seed(seed)\n",
    "        np.random.seed(seed)\n",
    "\n",
    "\n",
    "    ## Multiprocess Runs\n",
    "    def df_parallelize_run(self, func, t_split):\n",
    "        num_cores = np.min([self.N_CORES,len(t_split)])\n",
    "        pool = Pool(num_cores)\n",
    "        df = pd.concat(pool.map(func, t_split), axis=1)\n",
    "        pool.close()\n",
    "        pool.join()\n",
    "        return df\n",
    "\n",
    "    def get_data_by_store(self, store):\n",
    "\n",
    "        # Read and contact basic feature\n",
    "        df1 = pd.read_pickle(self.BASE)\n",
    "#         df1 = df1[df1['store_id']==store]\n",
    "        df2 = pd.read_pickle(self.PRICE).iloc[:,2:]\n",
    "#         df2 = df2[df2['store_id']==store]\n",
    "        df3 = pd.read_pickle(self.CALENDAR).iloc[:,2:]\n",
    "        df = pd.concat([df1, df2, df3],\n",
    "                        axis=1)\n",
    "\n",
    "        # Leave only relevant store\n",
    "        df = df[df['store_id']==store]\n",
    "\n",
    "        # With memory limits we have to read \n",
    "        # lags and mean encoding features\n",
    "        # separately and drop items that we don't need.\n",
    "        # As our Features Grids are aligned \n",
    "        # we can use index to keep only necessary rows\n",
    "        # Alignment is good for us as concat uses less memory than merge.\n",
    "        df2 = pd.read_pickle(self.MEAN_ENC)[self.mean_features]\n",
    "        df2 = df2[df2.index.isin(df.index)]\n",
    "\n",
    "        df = pd.concat([df, df2], axis=1)\n",
    "        del df2 # to not reach memory limit \n",
    "        gc.collect()\n",
    "\n",
    "        df3 = pd.read_pickle(self.LAGS).iloc[:,3:]\n",
    "        df3 = df3[df3.index.isin(df.index)]\n",
    "\n",
    "\n",
    "        df = pd.concat([df, df3], axis=1)\n",
    "        del df3 # to not reach memory limit \n",
    "        gc.collect()\n",
    "\n",
    "        # Create features list\n",
    "        features = [col for col in list(df) if col not in self.remove_features]\n",
    "        df = df[['id','d',self.TARGET]+features]\n",
    "\n",
    "        # Skipping first n rows\n",
    "        df = df[df['d']>=self.START_TRAIN].reset_index(drop=True)\n",
    "\n",
    "        return df, features\n",
    "\n",
    "    # Recombine Test set after training\n",
    "    def get_base_test(self):\n",
    "        base_test = pd.DataFrame()\n",
    "\n",
    "        for store_id in self.STORES_IDS:\n",
    "            temp_df = pd.read_pickle('test_'+store_id+'.pkl')\n",
    "            temp_df['store_id'] = store_id\n",
    "            base_test = pd.concat([base_test, temp_df]).reset_index(drop=True)\n",
    "\n",
    "        return base_test\n",
    "\n",
    "\n",
    "    ########################### Helper to make dynamic rolling lags\n",
    "    #################################################################################\n",
    "    def make_lag(self, LAG_DAY):\n",
    "        lag_df = base_test[['id','d',self.TARGET]]\n",
    "        col_name = f'sales_lag_{str(LAG_DAY)}'\n",
    "        lag_df[col_name] = lag_df.groupby(['id'])[self.TARGET].transform(lambda x: x.shift(LAG_DAY)).astype(np.float16)\n",
    "        return lag_df[[col_name]]\n",
    "\n",
    "\n",
    "    def make_lag_roll(self, LAG_DAY):\n",
    "        shift_day = LAG_DAY[0]\n",
    "        roll_wind = LAG_DAY[1]\n",
    "        lag_df = base_test[['id','d',self.TARGET]]\n",
    "        col_name = f'rolling_mean_tmp_{str(shift_day)}_{str(roll_wind)}'\n",
    "        lag_df[col_name] = lag_df.groupby(['id'])[self.TARGET].transform(lambda x: x.shift(shift_day).rolling(roll_wind).mean())\n",
    "        return lag_df[[col_name]]\n",
    "    \n",
    "    def run(self):\n",
    "                         \n",
    "        import logging\n",
    "\n",
    "\n",
    "        import lightgbm as lgb\n",
    "        lgb_params = {\n",
    "                            'boosting_type': 'gbdt',\n",
    "                            'objective': 'tweedie',\n",
    "                            'tweedie_variance_power': 1.1,\n",
    "                            'metric': 'rmse',\n",
    "                            'subsample': 0.5,\n",
    "                            'subsample_freq': 1,\n",
    "                            'learning_rate': 0.03,\n",
    "                            'num_leaves': 2**11-1,\n",
    "                            'min_data_in_leaf': 2**12-1,\n",
    "                            'feature_fraction': 0.5,\n",
    "                            'max_bin': 100,\n",
    "                            'n_estimators': 1400,\n",
    "                            'boost_from_average': False,\n",
    "                            'verbose': -1,\n",
    "                        } \n",
    "\n",
    "\n",
    "                ########################### Vars\n",
    "        #################################################################################\n",
    "        VER = 1                          # Our model version\n",
    "        SEED = 42                      \n",
    "        self.seed_everything(SEED)      \n",
    "        lgb_params['seed'] = SEED        \n",
    "\n",
    "        #FEATURES to remove\n",
    "        ## These features lead to overfit\n",
    "        ## or values not present in test set\n",
    "\n",
    "\n",
    "\n",
    "#         base_df = pd.read_csv(project_space_path(\"M5Forecasting/sales_train_validation.csv\"))\n",
    "#         price_df = pd.read_csv(project_space_path(\"M5Forecasting/sell_prices.csv\"))\n",
    "#         calendar_df = pd.read_csv(project_space_path(\"M5Forecasting/calendar.csv\"))\n",
    "\n",
    "#         base_df.to_pickle(project_space_path('M5Forecasting/m5-simple-fe/grid_part_1.pkl'))\n",
    "#         price_df.to_pickle(project_space_path('M5Forecasting/m5-simple-fe/grid_part_2.pkl'))\n",
    "#         calendar_df.to_pickle(project_space_path('M5Forecasting/m5-simple-fe/grid_part_3.pkl'))\n",
    "\n",
    "        ROLS_SPLIT = []\n",
    "        \n",
    "        for i in [1,7,14]:\n",
    "            for j in [7,14,30,60]:\n",
    "                ROLS_SPLIT.append([i,j])\n",
    "\n",
    "\n",
    "        if self.USE_AUX:\n",
    "            lgb_params['n_estimators'] = 2\n",
    "\n",
    "        \n",
    "\n",
    "                ########################### Train Models\n",
    "        #################################################################################\n",
    "        for store_id in self.STORES_IDS:\n",
    "            logging.info('Train')\n",
    "            logging.info(store_id)\n",
    "\n",
    "            # Get grid for current store\n",
    "            grid_df, features_columns = self.get_data_by_store(store_id)\n",
    "            \n",
    "            logging.info(\"Loaded grid Data\")\n",
    "\n",
    "            # Masks for \n",
    "            # Train (All data less than 1913)\n",
    "            # \"Validation\" (Last 28 days - not real validatio set)\n",
    "            # Test (All data greater than 1913 day, \n",
    "            #       with some gap for recursive features)\n",
    "            train_mask = grid_df['d']<=self.END_TRAIN\n",
    "            valid_mask = train_mask&(grid_df['d']>(self.END_TRAIN-self.P_HORIZON))\n",
    "            preds_mask = grid_df['d']>(self.END_TRAIN-100)\n",
    "\n",
    "            train_data = lgb.Dataset(grid_df[train_mask][features_columns], \n",
    "                               label=grid_df[train_mask][self.TARGET])\n",
    "            \n",
    "#             train_data.save_binary(project_space_path(\"M5Forecasting/train_data.bin\"))\n",
    "#             train_data = lgb.Dataset(project_space_path(\"M5Forecasting/train_data.bin\"))\n",
    "\n",
    "            valid_data = lgb.Dataset(grid_df[valid_mask][features_columns], \n",
    "                               label=grid_df[valid_mask][self.TARGET])\n",
    "\n",
    "            # Saving part of the dataset for later predictions\n",
    "            # Removing features that we need to calculate recursively \n",
    "            grid_df = grid_df[preds_mask].reset_index(drop=True)\n",
    "            keep_cols = [col for col in list(grid_df) if '_tmp_' not in col]\n",
    "            grid_df = grid_df[keep_cols]\n",
    "            grid_df.to_pickle(project_space_path(f\"M5Forecasting/test_{store_id}.pkl\"))\n",
    "            del grid_df\n",
    "            gc.collect()\n",
    "\n",
    "            # Launch seeder again to make lgb training 100% deterministic\n",
    "            # with each \"code line\" np.random \"evolves\" \n",
    "            # so we need (may want) to \"reset\" it\n",
    "            self.seed_everything(SEED)\n",
    "            estimator = lgb.train(lgb_params,\n",
    "                                  train_data,\n",
    "                                  valid_sets = [valid_data],\n",
    "                                  verbose_eval = 100,\n",
    "                                  )\n",
    "\n",
    "\n",
    "            model_name = 'lgb_model_'+store_id+'_v'+str(VER)+'.bin'\n",
    "            pickle.dump(estimator, open(project_space_path(f\"M5Forecasting/{model_name}\"), 'wb'))\n",
    "\n",
    "            # Remove temporary files and objects \n",
    "            # to free some hdd space and ram memory\n",
    "\n",
    "#             os.remove()\n",
    "            del train_data, valid_data, estimator\n",
    "            gc.collect()\n",
    "\n",
    "            # \"Keep\" models features for predictions\n",
    "            MODEL_FEATURES = features_columns\n",
    "\n"
   ]
  },
  {
   "cell_type": "code",
   "execution_count": null,
   "metadata": {},
   "outputs": [],
   "source": []
  },
  {
   "cell_type": "code",
   "execution_count": 25,
   "metadata": {},
   "outputs": [],
   "source": [
    "train = Train()\n"
   ]
  },
  {
   "cell_type": "code",
   "execution_count": 26,
   "metadata": {},
   "outputs": [],
   "source": [
    "p = rf.Pipeline(\"Train\", targets=[train])  #preprocess\n"
   ]
  },
  {
   "cell_type": "code",
   "execution_count": 27,
   "metadata": {},
   "outputs": [
    {
     "data": {
      "application/vnd.razorthink.interactive+pipeline+view+json": {
       "blocks": [
        {
         "class_name": "Train",
         "id": "94b43274-476f-49d6-a48e-0ba508dfad22",
         "inputs": [],
         "outputs": [],
         "overwritten": false,
         "var_names": [
          "Train"
         ]
        }
       ],
       "connections": [],
       "id": "df0e06ec-faae-4b2c-beb0-4797aa5e833b",
       "instances": [
        {
         "block_class": "94b43274-476f-49d6-a48e-0ba508dfad22",
         "id": "1af2ddf5-0a2f-4d8d-a4c2-cee84a4a4daa",
         "name": "Train_1",
         "var_names": [
          "train"
         ]
        }
       ],
       "name": "Train",
       "var_names": []
      },
      "image/svg+xml": [
       "<?xml version=\"1.0\" encoding=\"UTF-8\" standalone=\"no\"?>\n",
       "<!DOCTYPE svg PUBLIC \"-//W3C//DTD SVG 1.1//EN\"\n",
       " \"http://www.w3.org/Graphics/SVG/1.1/DTD/svg11.dtd\">\n",
       "<!-- Generated by graphviz version 2.40.1 (20161225.0304)\n",
       " -->\n",
       "<!-- Title: %3 Pages: 1 -->\n",
       "<svg width=\"112pt\" height=\"44pt\"\n",
       " viewBox=\"0.00 0.00 111.60 44.00\" xmlns=\"http://www.w3.org/2000/svg\" xmlns:xlink=\"http://www.w3.org/1999/xlink\">\n",
       "<g id=\"graph0\" class=\"graph\" transform=\"scale(1 1) rotate(0) translate(4 40)\">\n",
       "<title>%3</title>\n",
       "<polygon fill=\"#ffffff\" stroke=\"transparent\" points=\"-4,4 -4,-40 107.6047,-40 107.6047,4 -4,4\"/>\n",
       "<!-- Train(&#39;Train_1&#39;) -->\n",
       "<g id=\"node1\" class=\"node\">\n",
       "<title>Train(&#39;Train_1&#39;)</title>\n",
       "<ellipse fill=\"none\" stroke=\"#000000\" cx=\"51.8023\" cy=\"-18\" rx=\"51.6054\" ry=\"18\"/>\n",
       "<text text-anchor=\"middle\" x=\"51.8023\" y=\"-15.5\" font-family=\"Helvetica,sans-Serif\" font-size=\"10.00\" fill=\"#000000\">Train(&#39;Train_1&#39;)</text>\n",
       "</g>\n",
       "</g>\n",
       "</svg>\n"
      ],
      "text/plain": [
       "<razor.flow.pipeline.Pipeline at 0x7fc17f91a290>"
      ]
     },
     "execution_count": 27,
     "metadata": {},
     "output_type": "execute_result"
    }
   ],
   "source": [
    "p"
   ]
  },
  {
   "cell_type": "code",
   "execution_count": 28,
   "metadata": {},
   "outputs": [],
   "source": [
    "# lib1 = razor.api.libraries(name='lightgbm').artifact()\n"
   ]
  },
  {
   "cell_type": "code",
   "execution_count": 29,
   "metadata": {},
   "outputs": [],
   "source": [
    "deployed_pipeline = razor.api.engines('DS-engine').execute(pipeline=p)\n"
   ]
  },
  {
   "cell_type": "code",
   "execution_count": 30,
   "metadata": {},
   "outputs": [
    {
     "data": {
      "application/vnd.razorthink.run+monitor+json": "/home/jovyan/logs/2f5fbd43-83ef-48b7-a7fa-edad0b946360",
      "text/plain": [
       "<razor_tools.backend.ipython.mime.run_monitor.RunMonitor at 0x7fc17845b890>"
      ]
     },
     "metadata": {
      "application/vnd.razorthink.run+monitor+json": {
       "store_in_notebook": false
      }
     },
     "output_type": "display_data"
    },
    {
     "data": {
      "text/html": [],
      "text/plain": [
       "PlatformPipelineRun(project_id='c0b26d85-a4c9-44f5-9d0e-f540dd2de644', pipeline_id='44a864ea-03bf-11eb-8704-0242ac110009', pipeline_name='Train', pipeline_run_id='2f5fbd43-83ef-48b7-a7fa-edad0b946360', pipeline_version=None, comment=None, created_on='2020-10-01T08:22:39.543+00:00', start_time=None, end_time=None, eta=0, run_at=1601540559543, run_duration=0, compute_time=0, wait_time=12, ran_by_user=RanByUser(user_name='souryadipta das', email='souryadipta.das@razorthink.com'), status='IN_PROGRESS', block_status=[PlatformPipelineBlockRun(pipeline_run_id='2f5fbd43-83ef-48b7-a7fa-edad0b946360', pipeline_name='Train', pipeline_status='IN_PROGRESS', block_id='3810c3a6-2ce9-4e62-b4f3-40efacad56c1', block_run_id='34967e04-de95-4574-870b-54d43e3b2ca7', block_name='Train_1', resource_spec=ResourceAllocated(cores=8, memory=36000, use_gpu=False, gpu=0, use_gpu_if_available=False, cluster_configuration={'worker': None, 'workerCore': None, 'workerMemory': None, 'numberOfInstances': None, 'maxServerCount': None}, additional_env={}, run_env='PYTHON'), technology='PYTHON', status='READY_TO_GO', containers=[], cluster_id='3810c3a6-2ce9-4e62-b4f3-40efacad56c1', _log=None, _metric=None, wait_time=0, compute_time=0, start_time=None, end_time=None, queued_at='2020-10-01T08:22:40.000+00:00')], run_number=203, pipeline_variable_list=[], block_run_details=[BlockRunDetail(block_id='3810c3a6-2ce9-4e62-b4f3-40efacad56c1', block_run_id='34967e04-de95-4574-870b-54d43e3b2ca7', block_name='Train_1', technology='PYTHON', log_path=None, input_parameters='{}', output_parameters=None, status='READY_TO_GO', created_at='2020-10-01T08:22:39.630+00:00', queued_at='2020-10-01T08:22:40.000+00:00', start_time=None, end_time=None, compute_time=0, wait_time=0, run_time=0, block_run_output_list=[], resource_allocated=ResourceAllocated(cores=8, memory=36000, use_gpu=False, gpu=0, use_gpu_if_available=False, cluster_configuration={'worker': None, 'workerCore': None, 'workerMemory': None, 'numberOfInstances': None, 'maxServerCount': None}, additional_env={}, run_env='PYTHON'))], pipeline_json='{\\n  \"id\": \"44a864ea-03bf-11eb-8704-0242ac110009\",\\n  \"projectId\": \"c0b26d85-a4c9-44f5-9d0e-f540dd2de644\",\\n  \"name\": \"Train\",\\n  \"description\": \"\",\\n  \"blocks\": [\\n    {\\n      \"name\": \"Train_1\",\\n      \"id\": \"3810c3a6-2ce9-4e62-b4f3-40efacad56c1\",\\n      \"artifact_id\": null,\\n      \"class_name\": \"Train\",\\n      \"code\": \"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\",\\n      \"isPublishedBlock\": false,\\n      \"source\": null,\\n      \"inputProperty\": {},\\n      \"outputProperty\": {},\\n      \"resourceRequirement\": {\\n        \"cores\": 8,\\n        \"memory\": 36000,\\n        \"useGpu\": false,\\n        \"gpu\": 0,\\n        \"useGpuIfAvailable\": false,\\n        \"clusterConfiguration\": {\\n          \"worker\": null,\\n          \"workerCore\": null,\\n          \"workerMemory\": null,\\n          \"numberOfInstances\": null,\\n          \"maxServerCount\": null\\n        },\\n        \"additionalEnv\": {},\\n        \"runEnv\": \"PYTHON\"\\n      },\\n      \"executionType\": \"BlockExecutor\",\\n      \"dependencies\": [\\n        {\\n          \"libraryId\": \"24d05fb2-8916-4d25-8127-276e57d0bc8d\",\\n          \"libraryVersionId\": \"67ceac05-426d-4c9a-a069-ceb1350c1623\"\\n        },\\n        {\\n          \"libraryId\": \"24d05fb2-8916-4d25-8127-276e57d0bc8d\",\\n          \"libraryVersionId\": \"67ceac05-426d-4c9a-a069-ceb1350c1623\"\\n        }\\n      ],\\n      \"system_dependencies\": null,\\n      \"meta_data\": null,\\n      \"process_id\": null,\\n      \"eta\": 0\\n    }\\n  ],\\n  \"connections\": [],\\n  \"priority\": \"LOW\",\\n  \"infraResourceEstimation\": null,\\n  \"resourceRequirement\": {\\n    \"cores\": null,\\n    \"memory\": null,\\n    \"useGpu\": null,\\n    \"gpu\": null,\\n    \"useGpuIfAvailable\": null,\\n    \"clusterConfiguration\": null,\\n    \"additionalEnv\": {},\\n    \"runEnv\": null\\n  },\\n  \"comments\": null,\\n  \"order\": null,\\n  \"uiData\": null,\\n  \"dom\": null,\\n  \"systemGenerated\": false,\\n  \"systemModel\": false,\\n  \"pipelineVariableList\": [],\\n  \"pipelineTemplateVersion\": 0.0,\\n  \"versionId\": null,\\n  \"engineId\": \"65ed2499-f8c9-4c4d-ad27-aa689bd1531e\",\\n  \"userId\": \"5da82833-9f26-45a6-b329-19ce45acfb70\",\\n  \"runInitiatedFrom\": \"JUPYTER\",\\n  \"processList\": null,\\n  \"processInfo\": null\\n}', dom='Yet to add', order=None, infra_resource='{\\n  \"zookeeper\": {\\n    \"cores\": 1,\\n    \"memory\": 1024,\\n    \"useGpu\": null,\\n    \"gpu\": null,\\n    \"useGpuIfAvailable\": null,\\n    \"clusterConfiguration\": null,\\n    \"additionalEnv\": {},\\n    \"runEnv\": null\\n  },\\n  \"kafka\": {\\n    \"cores\": 1,\\n    \"memory\": 1024,\\n    \"useGpu\": null,\\n    \"gpu\": null,\\n    \"useGpuIfAvailable\": null,\\n    \"clusterConfiguration\": null,\\n    \"additionalEnv\": {},\\n    \"runEnv\": null\\n  }\\n}', resource_spec=ResourceAllocated(cores=None, memory=None, use_gpu=None, gpu=None, use_gpu_if_available=None, cluster_configuration=None, additional_env={}, run_env=None), engine_id='65ed2499-f8c9-4c4d-ad27-aa689bd1531e', run_initiated_from='JUPYTER')"
      ]
     },
     "execution_count": 30,
     "metadata": {},
     "output_type": "execute_result"
    }
   ],
   "source": [
    "deployed_pipeline\n"
   ]
  },
  {
   "cell_type": "code",
   "execution_count": null,
   "metadata": {},
   "outputs": [],
   "source": []
  },
  {
   "cell_type": "code",
   "execution_count": 31,
   "metadata": {},
   "outputs": [
    {
     "data": {
      "text/html": [
       "<html>\n",
       "\t<table width='100%'>\n",
       "\t\t<tr'><th>Slave Host</th><th>Type</th><th colspan='3' style='text-align: center;'>Usage</th></tr>\n",
       "\t\t<tbody>\n",
       "\t\t\t<tr><td>172.16.104.139 </td><td> INFRASTRUCTURE </td><td> CORE: Used 6 of 16 (37.5%)</td><td>RAM: Used 6.0 of 38.0GB (15.789473684210526%)</td></tr>\n",
       "\n",
       "\t\t\t<tr><td>172.16.114.99 </td><td> TECHNOLOGY </td><td> CORE: Used 13 of 32 (40.625%)</td><td>RAM: Used 66.5 of 115.0GB (57.826086956521735%)</td></tr>\n",
       "\n",
       "\t\t</tbody>\n",
       "\t</table>\n",
       "</html>"
      ],
      "text/plain": [
       "PlatformEngineHealthList(slave_usage_array=[PlatformEngineHealth(server_ip='172.16.104.139', server_type='INFRASTRUCTURE', server_usage_info=[ServerUsageInfo(label='Current cpu usage', graph_type='bar', unit='', total=16, used=6, available=10, value='CORE'), ServerUsageInfo(label='Current memory usage', graph_type='bar', unit='GB', total=40802189312.0, used=6442450944.0, available=34359738368.0, value='RAM'), ServerUsageInfo(label='Current gpu usage', graph_type='bar', unit='', total=0, used=0, available=0, value='GPU')]), PlatformEngineHealth(server_ip='172.16.114.99', server_type='TECHNOLOGY', server_usage_info=[ServerUsageInfo(label='Current cpu usage', graph_type='bar', unit='', total=32, used=13, available=19, value='CORE'), ServerUsageInfo(label='Current memory usage', graph_type='bar', unit='GB', total=123480309760.0, used=71403831296.0, available=52076478464.0, value='RAM'), ServerUsageInfo(label='Current gpu usage', graph_type='bar', unit='', total=0, used=0, available=0, value='GPU')])])"
      ]
     },
     "execution_count": 31,
     "metadata": {},
     "output_type": "execute_result"
    }
   ],
   "source": [
    "razor.api.engines('DS-engine').health()"
   ]
  },
  {
   "cell_type": "code",
   "execution_count": 33,
   "metadata": {},
   "outputs": [
    {
     "data": {
      "text/html": [
       "\n",
       "        <html>\n",
       "            <body>\n",
       "                <h4>Engine Queue</h4>\n",
       "                <h4>Number of queued blocks: 0</h4>\n",
       "                <table width='100%'>\n",
       "                <tr>\n",
       "                    <th style='align:left; text-align:left;'>Block</th>\n",
       "                    <th style='align:left; text-align:left;'>Pipeline</th>\n",
       "                    <th style='align:left; text-align:left;'>Wait Time(hours:minutes:seconds)</th>\n",
       "                </tr>\n",
       "        \n",
       "                </table>\n",
       "            </body>\n",
       "        </html>\n",
       "        "
      ],
      "text/plain": [
       "PlatformQueueStatusList(queue_list=[])"
      ]
     },
     "execution_count": 33,
     "metadata": {},
     "output_type": "execute_result"
    }
   ],
   "source": [
    "razor.api.engines('DS-engine').queue()"
   ]
  },
  {
   "cell_type": "code",
   "execution_count": null,
   "metadata": {},
   "outputs": [],
   "source": []
  },
  {
   "cell_type": "code",
   "execution_count": null,
   "metadata": {},
   "outputs": [],
   "source": []
  },
  {
   "cell_type": "code",
   "execution_count": null,
   "metadata": {},
   "outputs": [],
   "source": []
  }
 ],
 "metadata": {
  "kernelspec": {
   "display_name": "Python 3",
   "language": "python",
   "name": "python3"
  },
  "language_info": {
   "codemirror_mode": {
    "name": "ipython",
    "version": 3
   },
   "file_extension": ".py",
   "mimetype": "text/x-python",
   "name": "python",
   "nbconvert_exporter": "python",
   "pygments_lexer": "ipython3",
   "version": "3.7.6"
  }
 },
 "nbformat": 4,
 "nbformat_minor": 4
}
