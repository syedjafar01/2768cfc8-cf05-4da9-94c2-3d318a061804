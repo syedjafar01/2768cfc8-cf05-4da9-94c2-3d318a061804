{
 "cells": [
  {
   "cell_type": "code",
   "execution_count": 1,
   "metadata": {},
   "outputs": [
    {
     "data": {
      "text/html": [
       "<html>\n",
       "            <h4>Library</h4>\n",
       "            <table width='100%'>\n",
       "                <tr>\n",
       "                    <th width='20%' style='align:left; text-align:center;'>Name</th>\n",
       "                    <th style='align:left; text-align:left;'>Technology</th>\n",
       "                    <th style='align:left; text-align:left;'>Install Status</th>\n",
       "                    <th style='align:left; text-align:left;'>Created by</th>\n",
       "                    <th style='align:left; text-align:left;'>Created on</th>\n",
       "                    <th style='align:left; text-align:left;'>Modified by</th>\n",
       "                    <th style='align:left; text-align:left;'>Modified on</th>\n",
       "                </tr><tr>\n",
       "                        <td width='20%' style='align:center; text-align:center;'>fastparquet</td>\n",
       "                        <td style='align:left; text-align:left;'>PYTHON</td>\n",
       "                        <td style='align:left; text-align:left;'>INSTALLED</td>\n",
       "                        <td style='align:left; text-align:left;'>Ayan Basak</td>\n",
       "                        <td style='align:left; text-align:left;'>Sep 25, 2020</td>\n",
       "                        <td style='align:left; text-align:left;'>Ayan Basak</td>\n",
       "                        <td style='align:left; text-align:left;'>Sep 25, 2020</td>\n",
       "                    </tr></table></html>"
      ],
      "text/plain": [
       "PlatformLibrary(id_='54865fdd-700e-494b-a8f8-0b6258aed7cf', artifact_version='01a8b174-7b78-4a53-bf28-5938922e4cd8', name='fastparquet', technology='PYTHON', installation_status='INSTALLED', created_by='Ayan Basak', created_on='2020-09-25T12:27:54.000+00:00', modified_by='Ayan Basak', modified_on='2020-09-25T12:27:54.000+00:00')"
      ]
     },
     "execution_count": 1,
     "metadata": {},
     "output_type": "execute_result"
    }
   ],
   "source": [
    "razor.api.libraries('fastparquet')\n"
   ]
  },
  {
   "cell_type": "code",
   "execution_count": 2,
   "metadata": {},
   "outputs": [],
   "source": [
    "import razor\n"
   ]
  },
  {
   "cell_type": "code",
   "execution_count": 3,
   "metadata": {},
   "outputs": [],
   "source": [
    "config = {'cpu': 8 , 'ram': 36000}"
   ]
  },
  {
   "cell_type": "code",
   "execution_count": null,
   "metadata": {},
   "outputs": [],
   "source": []
  },
  {
   "cell_type": "code",
   "execution_count": 4,
   "metadata": {},
   "outputs": [],
   "source": [
    "# General imports\n",
    "import numpy as np\n",
    "import pandas as pd\n",
    "import os, sys, gc, time, warnings, pickle, psutil, random\n",
    "\n",
    "# custom imports\n",
    "from multiprocessing import Pool        # Multiprocess Runs\n",
    "\n",
    "warnings.filterwarnings('ignore')"
   ]
  },
  {
   "cell_type": "code",
   "execution_count": 5,
   "metadata": {},
   "outputs": [],
   "source": [
    "import razor.flow as rf\n",
    "from razor.api import datasources\n",
    "from razor import project_space_path\n",
    "import razor\n",
    "from razor import Technology, LibraryMode\n"
   ]
  },
  {
   "cell_type": "code",
   "execution_count": 6,
   "metadata": {},
   "outputs": [],
   "source": [
    "import typing as t"
   ]
  },
  {
   "cell_type": "code",
   "execution_count": null,
   "metadata": {},
   "outputs": [],
   "source": []
  },
  {
   "cell_type": "markdown",
   "metadata": {},
   "source": [
    "# Light GBM inference"
   ]
  },
  {
   "cell_type": "code",
   "execution_count": null,
   "metadata": {},
   "outputs": [],
   "source": []
  },
  {
   "cell_type": "code",
   "execution_count": 9,
   "metadata": {},
   "outputs": [],
   "source": [
    "lib1 = razor.api.libraries(name='lightgbm').artifact()"
   ]
  },
  {
   "cell_type": "code",
   "execution_count": 32,
   "metadata": {},
   "outputs": [],
   "source": [
    "@rf.block(executor=rf.ContainerExecutor(cores=config['cpu'], memory=config['ram']))\n",
    "class Infer:\n",
    "#     config: t.Any\n",
    "    \n",
    "    __libs__ = [lib1]\n",
    "    \n",
    "    def init(self):\n",
    "        self.VER = 1                          # Our model version\n",
    "        self.SEED = 42  \n",
    "        \n",
    "        #PATHS for Features\n",
    "        self.ORIGINAL = project_space_path(\"M5Forecasting\")+\"/\"\n",
    "        self.BASE     = project_space_path('M5Forecasting/m5-simple-fe/grid_part_1 .pkl')\n",
    "        self.PRICE    = project_space_path('M5Forecasting/m5-simple-fe/grid_part_2.pkl')\n",
    "        self.CALENDAR = project_space_path('M5Forecasting/m5-simple-fe/grid_part_3.pkl')\n",
    "        self.LAGS     = project_space_path('M5Forecasting/lags_df_28.pkl')\n",
    "        self.MEAN_ENC = project_space_path('M5Forecasting/mean_encoding_df.pkl')\n",
    "\n",
    "        #LIMITS and const\n",
    "        self.TARGET      = 'sales'            # Our target\n",
    "        self.START_TRAIN = 0                  # We can skip some rows (Nans/faster training)\n",
    "        self.END_TRAIN   = 1913               # End day of our train set\n",
    "        self.P_HORIZON   = 28                 # Prediction horizon\n",
    "        self.USE_AUX     = False               # Use or not pretrained models\n",
    "        self.N_CORES = psutil.cpu_count()     # Available CPU cores\n",
    "\n",
    "        # AUX(pretrained) Models paths\n",
    "        self.AUX_MODELS = './M5Forecasting/m5-aux-models/'\n",
    "\n",
    "\n",
    "        #STORES ids\n",
    "        self.STORES_IDS = pd.read_csv(self.ORIGINAL+'sales_train_validation.csv')['store_id']\n",
    "        self.STORES_IDS = list(self.STORES_IDS.unique())\n",
    "\n",
    "\n",
    "        #SPLITS for lags creation\n",
    "        self.SHIFT_DAY  = 28\n",
    "        self.N_LAGS     = 15\n",
    "        self.LAGS_SPLIT = [col for col in range(self.SHIFT_DAY, self.SHIFT_DAY + self.N_LAGS)]\n",
    "        \n",
    "        self.remove_features = ['id','state_id','store_id',\n",
    "                           'date','wm_yr_wk','d', self.TARGET]\n",
    "        self.mean_features   = ['enc_cat_id_mean','enc_cat_id_std',\n",
    "                           'enc_dept_id_mean','enc_dept_id_std',\n",
    "                           'enc_item_id_mean','enc_item_id_std'] \n",
    "\n",
    "            \n",
    "    def seed_everything(self, seed=0):\n",
    "        random.seed(seed)\n",
    "        np.random.seed(seed)\n",
    "\n",
    "\n",
    "    ## Multiprocess Runs\n",
    "    def df_parallelize_run(self, func, t_split):\n",
    "        num_cores = np.min([self.N_CORES,len(t_split)])\n",
    "        pool = Pool(num_cores)\n",
    "        df = pd.concat(pool.map(func, t_split), axis=1)\n",
    "        pool.close()\n",
    "        pool.join()\n",
    "        return df\n",
    "\n",
    "    def get_data_by_store(self, store):\n",
    "\n",
    "        # Read and contact basic feature\n",
    "        df1 = pd.read_pickle(self.BASE)\n",
    "#         df1 = df1[df1['store_id']==store]\n",
    "        df2 = pd.read_pickle(self.PRICE).iloc[:,2:]\n",
    "#         df2 = df2[df2['store_id']==store]\n",
    "        df3 = pd.read_pickle(self.CALENDAR).iloc[:,2:]\n",
    "        df = pd.concat([df1, df2, df3],\n",
    "                        axis=1)\n",
    "\n",
    "        # Leave only relevant store\n",
    "        df = df[df['store_id']==store]\n",
    "\n",
    "        # With memory limits we have to read \n",
    "        # lags and mean encoding features\n",
    "        # separately and drop items that we don't need.\n",
    "        # As our Features Grids are aligned \n",
    "        # we can use index to keep only necessary rows\n",
    "        # Alignment is good for us as concat uses less memory than merge.\n",
    "        df2 = pd.read_pickle(self.MEAN_ENC)[self.mean_features]\n",
    "        df2 = df2[df2.index.isin(df.index)]\n",
    "\n",
    "        df = pd.concat([df, df2], axis=1)\n",
    "        del df2 # to not reach memory limit \n",
    "        gc.collect()\n",
    "\n",
    "        df3 = pd.read_pickle(self.LAGS).iloc[:,3:]\n",
    "        df3 = df3[df3.index.isin(df.index)]\n",
    "\n",
    "\n",
    "        df = pd.concat([df, df3], axis=1)\n",
    "        del df3 # to not reach memory limit \n",
    "        gc.collect()\n",
    "\n",
    "        # Create features list\n",
    "        features = [col for col in list(df) if col not in self.remove_features]\n",
    "        \n",
    "        del df # to not reach memory limit \n",
    "        gc.collect()\n",
    "\n",
    "        return features\n",
    "\n",
    "    # Recombine Test set after training\n",
    "    def get_base_test(self):\n",
    "        base_test = pd.DataFrame()\n",
    "\n",
    "        for store_id in self.STORES_IDS:\n",
    "            temp_df = pd.read_pickle(project_space_path('M5Forecasting/test_'+store_id+'.pkl'))\n",
    "            temp_df['store_id'] = store_id\n",
    "            base_test = pd.concat([base_test, temp_df]).reset_index(drop=True)\n",
    "\n",
    "        return base_test\n",
    "\n",
    "\n",
    "    ########################### Helper to make dynamic rolling lags\n",
    "    #################################################################################\n",
    "    def make_lag(self, LAG_DAY):\n",
    "        lag_df = base_test[['id','d',self.TARGET]]\n",
    "        col_name = f'sales_lag_{str(LAG_DAY)}'\n",
    "        lag_df[col_name] = lag_df.groupby(['id'])[self.TARGET].transform(lambda x: x.shift(LAG_DAY)).astype(np.float16)\n",
    "        return lag_df[[col_name]]\n",
    "\n",
    "\n",
    "    def make_lag_roll(self, LAG_DAY, base_test):\n",
    "        shift_day = LAG_DAY[0]\n",
    "        roll_wind = LAG_DAY[1]\n",
    "        lag_df = base_test[['id','d',self.TARGET]]\n",
    "        col_name = f'rolling_mean_tmp_{str(shift_day)}_{str(roll_wind)}'\n",
    "        lag_df[col_name] = lag_df.groupby(['id'])[self.TARGET].transform(lambda x: x.shift(shift_day).rolling(roll_wind).mean())\n",
    "        return lag_df[[col_name]]\n",
    "    \n",
    "    def run(self):\n",
    "        ########################### Predict\n",
    "        #################################################################################\n",
    "\n",
    "        # Create Dummy DataFrame to store predictions\n",
    "        all_preds = pd.DataFrame()\n",
    "\n",
    "        # Join back the Test dataset with \n",
    "        # a small part of the training data \n",
    "        # to make recursive features\n",
    "        base_test = self.get_base_test()\n",
    "\n",
    "        # Timer to measure predictions time \n",
    "        main_time = time.time()\n",
    "\n",
    "        ROLS_SPLIT = []\n",
    "\n",
    "        for i in [1,7,14]:\n",
    "            for j in [7,14,30,60]:\n",
    "                ROLS_SPLIT.append([i,j])\n",
    "\n",
    "        # Loop over each prediction day\n",
    "        # As rolling lags are the most timeconsuming\n",
    "        # we will calculate it for whole day\n",
    "        for PREDICT_DAY in range(1,29):    \n",
    "            print('Predict | Day:', PREDICT_DAY)\n",
    "            start_time = time.time()\n",
    "\n",
    "            # Make temporary grid to calculate rolling lags\n",
    "            grid_df = base_test.copy()\n",
    "            lag_param_df = pd.DataFrame()\n",
    "#             grid_df = pd.concat([grid_df, self.df_parallelize_run(self.make_lag_roll, ROLS_SPLIT)], axis=1)\n",
    "            for lag_param in ROLS_SPLIT:\n",
    "                lag_param_df = pd.concat([lag_param_df, self.make_lag_roll(lag_param,base_test)], axis=1)\n",
    "            grid_df = pd.concat([grid_df, lag_param_df], axis=1)\n",
    "\n",
    "\n",
    "            for store_id in self.STORES_IDS:\n",
    "\n",
    "                # Read all our models and make predictions\n",
    "                # for each day/store pairs\n",
    "                model_path = project_space_path('M5Forecasting/lgb_model_'+store_id+'_v'+str(self.VER)+'.bin') \n",
    "                if self.USE_AUX:\n",
    "                    model_path = self.AUX_MODELS + model_path\n",
    "\n",
    "                estimator = pickle.load(open(model_path, 'rb'))\n",
    "\n",
    "                day_mask = base_test['d']==(self.END_TRAIN+ PREDICT_DAY)\n",
    "                store_mask = base_test['store_id']==store_id\n",
    "\n",
    "                mask = (day_mask)&(store_mask)\n",
    "                MODEL_FEATURES = self.get_data_by_store(store_id)\n",
    "                base_test[self.TARGET][mask] = estimator.predict(grid_df[mask][MODEL_FEATURES])\n",
    "\n",
    "            # Make good column naming and add \n",
    "            # to all_preds DataFrame\n",
    "            temp_df = base_test[day_mask][['id',self.TARGET]]\n",
    "            temp_df.columns = ['id','F'+str(PREDICT_DAY)]\n",
    "            if 'id' in list(all_preds):\n",
    "                all_preds = all_preds.merge(temp_df, on=['id'], how='left')\n",
    "            else:\n",
    "                all_preds = temp_df.copy()\n",
    "\n",
    "            print('#'*10, ' %0.2f min round |' % ((time.time() - start_time) / 60),\n",
    "                          ' %0.2f min total |' % ((time.time() - main_time) / 60),\n",
    "                          ' %0.2f day sales |' % (temp_df['F'+str(PREDICT_DAY)].sum()))\n",
    "            del temp_df\n",
    "\n",
    "        all_preds = all_preds.reset_index(drop=True)\n",
    "\n",
    "        submission = pd.read_csv(self.ORIGINAL+'sample_submission_accuracy.csv')[['id']]\n",
    "        submission = submission.merge(all_preds, on=['id'], how='left').fillna(0)\n",
    "        submission.to_csv(self.ORIGINAL+'submission_v'+str(self.VER)+'.csv', index=False)\n",
    "    "
   ]
  },
  {
   "cell_type": "code",
   "execution_count": 33,
   "metadata": {},
   "outputs": [],
   "source": [
    "infer = Infer()"
   ]
  },
  {
   "cell_type": "code",
   "execution_count": 34,
   "metadata": {},
   "outputs": [],
   "source": [
    "p = rf.Pipeline(\"Infer\", targets=[infer])"
   ]
  },
  {
   "cell_type": "code",
   "execution_count": 35,
   "metadata": {},
   "outputs": [],
   "source": [
    "deployed_pipeline = razor.api.engines('DS-engine').execute(pipeline=p)\n"
   ]
  },
  {
   "cell_type": "code",
   "execution_count": 36,
   "metadata": {},
   "outputs": [
    {
     "data": {
      "application/vnd.razorthink.run+monitor+json": "/home/jovyan/logs/6a12061f-e3db-4179-b4e1-90c4a7fa5162",
      "text/plain": [
       "<razor_tools.backend.ipython.mime.run_monitor.RunMonitor at 0x7f8dd1dfde10>"
      ]
     },
     "metadata": {
      "application/vnd.razorthink.run+monitor+json": {
       "store_in_notebook": false
      }
     },
     "output_type": "display_data"
    },
    {
     "data": {
      "text/html": [],
      "text/plain": [
       "PlatformPipelineRun(project_id='c0b26d85-a4c9-44f5-9d0e-f540dd2de644', pipeline_id='de250320-0244-11eb-8476-0242ac11000d', pipeline_name='Infer', pipeline_run_id='6a12061f-e3db-4179-b4e1-90c4a7fa5162', pipeline_version=None, comment=None, created_on='2020-09-29T11:13:57.601+00:00', start_time=None, end_time=None, eta=0, run_at=1601378037601, run_duration=0, compute_time=0, wait_time=-47, ran_by_user=RanByUser(user_name='souryadipta das', email='souryadipta.das@razorthink.com'), status='IN_PROGRESS', block_status=[PlatformPipelineBlockRun(pipeline_run_id='6a12061f-e3db-4179-b4e1-90c4a7fa5162', pipeline_name='Infer', pipeline_status='IN_PROGRESS', block_id='c33b927f-dd0a-4990-9755-59411172735d', block_run_id='08fabf38-0a41-449f-a11f-5e58ac787d47', block_name='Infer_1', resource_spec=ResourceAllocated(cores=8, memory=36000, use_gpu=False, gpu=0, use_gpu_if_available=False, cluster_configuration={'worker': None, 'workerCore': None, 'workerMemory': None, 'numberOfInstances': None, 'maxServerCount': None}, additional_env={}, run_env='PYTHON'), technology='PYTHON', status='READY_TO_GO', containers=[], cluster_id='c33b927f-dd0a-4990-9755-59411172735d', _log=None, _metric=None, wait_time=0, compute_time=0, start_time=None, end_time=None, queued_at='2020-09-29T11:13:58.000+00:00')], run_number=173, pipeline_variable_list=[], block_run_details=[BlockRunDetail(block_id='c33b927f-dd0a-4990-9755-59411172735d', block_run_id='08fabf38-0a41-449f-a11f-5e58ac787d47', block_name='Infer_1', technology='PYTHON', log_path=None, input_parameters='{}', output_parameters=None, status='READY_TO_GO', created_at='2020-09-29T11:13:57.705+00:00', queued_at='2020-09-29T11:13:58.000+00:00', start_time=None, end_time=None, compute_time=0, wait_time=0, run_time=0, block_run_output_list=[], resource_allocated=ResourceAllocated(cores=8, memory=36000, use_gpu=False, gpu=0, use_gpu_if_available=False, cluster_configuration={'worker': None, 'workerCore': None, 'workerMemory': None, 'numberOfInstances': None, 'maxServerCount': None}, additional_env={}, run_env='PYTHON'))], pipeline_json='{\\n  \"id\": \"de250320-0244-11eb-8476-0242ac11000d\",\\n  \"projectId\": \"c0b26d85-a4c9-44f5-9d0e-f540dd2de644\",\\n  \"name\": \"Infer\",\\n  \"description\": \"\",\\n  \"blocks\": [\\n    {\\n      \"name\": \"Infer_1\",\\n      \"id\": \"c33b927f-dd0a-4990-9755-59411172735d\",\\n      \"artifact_id\": null,\\n      \"class_name\": \"Infer\",\\n      \"code\": \"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\",\\n      \"isPublishedBlock\": false,\\n      \"source\": null,\\n      \"inputProperty\": {},\\n      \"outputProperty\": {},\\n      \"resourceRequirement\": {\\n        \"cores\": 8,\\n        \"memory\": 36000,\\n        \"useGpu\": false,\\n        \"gpu\": 0,\\n        \"useGpuIfAvailable\": false,\\n        \"clusterConfiguration\": {\\n          \"worker\": null,\\n          \"workerCore\": null,\\n          \"workerMemory\": null,\\n          \"numberOfInstances\": null,\\n          \"maxServerCount\": null\\n        },\\n        \"additionalEnv\": {},\\n        \"runEnv\": \"PYTHON\"\\n      },\\n      \"executionType\": \"BlockExecutor\",\\n      \"dependencies\": [\\n        {\\n          \"libraryId\": \"24d05fb2-8916-4d25-8127-276e57d0bc8d\",\\n          \"libraryVersionId\": \"67ceac05-426d-4c9a-a069-ceb1350c1623\"\\n        },\\n        {\\n          \"libraryId\": \"24d05fb2-8916-4d25-8127-276e57d0bc8d\",\\n          \"libraryVersionId\": \"67ceac05-426d-4c9a-a069-ceb1350c1623\"\\n        }\\n      ],\\n      \"system_dependencies\": null,\\n      \"meta_data\": null,\\n      \"process_id\": null,\\n      \"eta\": 0\\n    }\\n  ],\\n  \"connections\": [],\\n  \"priority\": \"LOW\",\\n  \"infraResourceEstimation\": null,\\n  \"resourceRequirement\": {\\n    \"cores\": null,\\n    \"memory\": null,\\n    \"useGpu\": null,\\n    \"gpu\": null,\\n    \"useGpuIfAvailable\": null,\\n    \"clusterConfiguration\": null,\\n    \"additionalEnv\": {},\\n    \"runEnv\": null\\n  },\\n  \"comments\": null,\\n  \"order\": null,\\n  \"uiData\": null,\\n  \"dom\": null,\\n  \"systemGenerated\": false,\\n  \"systemModel\": false,\\n  \"pipelineVariableList\": [],\\n  \"pipelineTemplateVersion\": 0.0,\\n  \"versionId\": null,\\n  \"engineId\": \"65ed2499-f8c9-4c4d-ad27-aa689bd1531e\",\\n  \"userId\": \"5da82833-9f26-45a6-b329-19ce45acfb70\",\\n  \"runInitiatedFrom\": \"JUPYTER\",\\n  \"processList\": null,\\n  \"processInfo\": null\\n}', dom='Yet to add', order=None, infra_resource='{\\n  \"zookeeper\": {\\n    \"cores\": 1,\\n    \"memory\": 1024,\\n    \"useGpu\": null,\\n    \"gpu\": null,\\n    \"useGpuIfAvailable\": null,\\n    \"clusterConfiguration\": null,\\n    \"additionalEnv\": {},\\n    \"runEnv\": null\\n  },\\n  \"kafka\": {\\n    \"cores\": 1,\\n    \"memory\": 1024,\\n    \"useGpu\": null,\\n    \"gpu\": null,\\n    \"useGpuIfAvailable\": null,\\n    \"clusterConfiguration\": null,\\n    \"additionalEnv\": {},\\n    \"runEnv\": null\\n  }\\n}', resource_spec=ResourceAllocated(cores=None, memory=None, use_gpu=None, gpu=None, use_gpu_if_available=None, cluster_configuration=None, additional_env={}, run_env=None), engine_id='65ed2499-f8c9-4c4d-ad27-aa689bd1531e', run_initiated_from='JUPYTER')"
      ]
     },
     "execution_count": 36,
     "metadata": {},
     "output_type": "execute_result"
    }
   ],
   "source": [
    "deployed_pipeline"
   ]
  },
  {
   "cell_type": "code",
   "execution_count": null,
   "metadata": {},
   "outputs": [],
   "source": [
    "razor.api.engines('DS-engine').health()"
   ]
  },
  {
   "cell_type": "code",
   "execution_count": null,
   "metadata": {},
   "outputs": [],
   "source": [
    "razor.api.engines('DS-engine').queue()"
   ]
  },
  {
   "cell_type": "code",
   "execution_count": null,
   "metadata": {},
   "outputs": [],
   "source": []
  },
  {
   "cell_type": "code",
   "execution_count": null,
   "metadata": {},
   "outputs": [],
   "source": []
  }
 ],
 "metadata": {
  "kernelspec": {
   "display_name": "Python 3",
   "language": "python",
   "name": "python3"
  },
  "language_info": {
   "codemirror_mode": {
    "name": "ipython",
    "version": 3
   },
   "file_extension": ".py",
   "mimetype": "text/x-python",
   "name": "python",
   "nbconvert_exporter": "python",
   "pygments_lexer": "ipython3",
   "version": "3.7.6"
  }
 },
 "nbformat": 4,
 "nbformat_minor": 4
}
