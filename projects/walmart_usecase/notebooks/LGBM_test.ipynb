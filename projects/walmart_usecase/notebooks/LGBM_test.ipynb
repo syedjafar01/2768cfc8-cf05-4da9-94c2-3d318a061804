{
 "cells": [
  {
   "cell_type": "code",
   "execution_count": 1,
   "metadata": {},
   "outputs": [
    {
     "data": {
      "text/html": [
       "<html>\n",
       "            <h4>Library</h4>\n",
       "            <table width='100%'>\n",
       "                <tr>\n",
       "                    <th width='20%' style='align:left; text-align:center;'>Name</th>\n",
       "                    <th style='align:left; text-align:left;'>Technology</th>\n",
       "                    <th style='align:left; text-align:left;'>Install Status</th>\n",
       "                    <th style='align:left; text-align:left;'>Created by</th>\n",
       "                    <th style='align:left; text-align:left;'>Created on</th>\n",
       "                    <th style='align:left; text-align:left;'>Modified by</th>\n",
       "                    <th style='align:left; text-align:left;'>Modified on</th>\n",
       "                </tr><tr>\n",
       "                        <td width='20%' style='align:center; text-align:center;'>fastparquet</td>\n",
       "                        <td style='align:left; text-align:left;'>PYTHON</td>\n",
       "                        <td style='align:left; text-align:left;'>INSTALLED</td>\n",
       "                        <td style='align:left; text-align:left;'>Ayan Basak</td>\n",
       "                        <td style='align:left; text-align:left;'>Sep 25, 2020</td>\n",
       "                        <td style='align:left; text-align:left;'>Ayan Basak</td>\n",
       "                        <td style='align:left; text-align:left;'>Sep 25, 2020</td>\n",
       "                    </tr></table></html>"
      ],
      "text/plain": [
       "PlatformLibrary(id_='54865fdd-700e-494b-a8f8-0b6258aed7cf', artifact_version='01a8b174-7b78-4a53-bf28-5938922e4cd8', name='fastparquet', technology='PYTHON', installation_status='INSTALLED', created_by='Ayan Basak', created_on='2020-09-25T12:27:54.000+00:00', modified_by='Ayan Basak', modified_on='2020-09-25T12:27:54.000+00:00')"
      ]
     },
     "execution_count": 1,
     "metadata": {},
     "output_type": "execute_result"
    }
   ],
   "source": [
    "razor.api.libraries('fastparquet')\n"
   ]
  },
  {
   "cell_type": "code",
   "execution_count": 2,
   "metadata": {},
   "outputs": [],
   "source": [
    "import razor\n"
   ]
  },
  {
   "cell_type": "code",
   "execution_count": 3,
   "metadata": {},
   "outputs": [],
   "source": [
    "config = {'cpu': 8 , 'ram': 36000}"
   ]
  },
  {
   "cell_type": "code",
   "execution_count": null,
   "metadata": {},
   "outputs": [],
   "source": []
  },
  {
   "cell_type": "code",
   "execution_count": 4,
   "metadata": {},
   "outputs": [],
   "source": [
    "# General imports\n",
    "import numpy as np\n",
    "import pandas as pd\n",
    "import os, sys, gc, time, warnings, pickle, psutil, random\n",
    "\n",
    "# custom imports\n",
    "from multiprocessing import Pool        # Multiprocess Runs\n",
    "\n",
    "warnings.filterwarnings('ignore')"
   ]
  },
  {
   "cell_type": "code",
   "execution_count": 5,
   "metadata": {},
   "outputs": [],
   "source": [
    "import razor.flow as rf\n",
    "from razor.api import datasources\n",
    "from razor import project_space_path\n",
    "import razor\n",
    "from razor import Technology, LibraryMode\n"
   ]
  },
  {
   "cell_type": "code",
   "execution_count": 6,
   "metadata": {},
   "outputs": [],
   "source": [
    "import typing as t"
   ]
  },
  {
   "cell_type": "code",
   "execution_count": null,
   "metadata": {},
   "outputs": [],
   "source": []
  },
  {
   "cell_type": "markdown",
   "metadata": {},
   "source": [
    "# Light GBM inference"
   ]
  },
  {
   "cell_type": "code",
   "execution_count": null,
   "metadata": {},
   "outputs": [],
   "source": []
  },
  {
   "cell_type": "code",
   "execution_count": 7,
   "metadata": {},
   "outputs": [],
   "source": [
    "lib1 = razor.api.libraries(name='lightgbm').artifact()"
   ]
  },
  {
   "cell_type": "code",
   "execution_count": 8,
   "metadata": {},
   "outputs": [],
   "source": [
    "@rf.block(executor=rf.ContainerExecutor(cores=config['cpu'], memory=config['ram'], gpu=1))\n",
    "class Infer:\n",
    "#     config: t.Any\n",
    "    \n",
    "    __libs__ = [lib1]\n",
    "    \n",
    "    def init(self):\n",
    "        self.VER = 1                          # Our model version\n",
    "        self.SEED = 42  \n",
    "        \n",
    "        #PATHS for Features\n",
    "        self.ORIGINAL = project_space_path(\"M5Forecasting\")+\"/\"\n",
    "        self.BASE     = project_space_path('M5Forecasting/m5-simple-fe/grid_part_1.pkl')\n",
    "        self.PRICE    = project_space_path('M5Forecasting/m5-simple-fe/grid_part_2.pkl')\n",
    "        self.CALENDAR = project_space_path('M5Forecasting/m5-simple-fe/grid_part_3.pkl')\n",
    "        self.LAGS     = project_space_path('M5Forecasting/lags_df_28.pkl')\n",
    "        self.MEAN_ENC = project_space_path('M5Forecasting/mean_encoding_df.pkl')\n",
    "\n",
    "        #LIMITS and const\n",
    "        self.TARGET      = 'sales'            # Our target\n",
    "        self.START_TRAIN = 0                  # We can skip some rows (Nans/faster training)\n",
    "        self.END_TRAIN   = 1913               # End day of our train set\n",
    "        self.P_HORIZON   = 28                 # Prediction horizon\n",
    "        self.USE_AUX     = False               # Use or not pretrained models\n",
    "        self.N_CORES = psutil.cpu_count()     # Available CPU cores\n",
    "\n",
    "        # AUX(pretrained) Models paths\n",
    "        self.AUX_MODELS = './M5Forecasting/m5-aux-models/'\n",
    "\n",
    "\n",
    "        #STORES ids\n",
    "        self.STORES_IDS = pd.read_csv(self.ORIGINAL+'sales_train_validation.csv')['store_id']\n",
    "        self.STORES_IDS = list(self.STORES_IDS.unique())\n",
    "\n",
    "\n",
    "        #SPLITS for lags creation\n",
    "        self.SHIFT_DAY  = 28\n",
    "        self.N_LAGS     = 15\n",
    "        self.LAGS_SPLIT = [col for col in range(self.SHIFT_DAY, self.SHIFT_DAY + self.N_LAGS)]\n",
    "        \n",
    "        self.remove_features = ['id','state_id','store_id',\n",
    "                           'date','wm_yr_wk','d', self.TARGET]\n",
    "        self.mean_features   = ['enc_cat_id_mean','enc_cat_id_std',\n",
    "                           'enc_dept_id_mean','enc_dept_id_std',\n",
    "                           'enc_item_id_mean','enc_item_id_std'] \n",
    "\n",
    "            \n",
    "    def seed_everything(self, seed=0):\n",
    "        random.seed(seed)\n",
    "        np.random.seed(seed)\n",
    "\n",
    "\n",
    "    ## Multiprocess Runs\n",
    "    def df_parallelize_run(self, func, t_split):\n",
    "        num_cores = np.min([self.N_CORES,len(t_split)])\n",
    "        pool = Pool(num_cores)\n",
    "        df = pd.concat(pool.map(func, t_split), axis=1)\n",
    "        pool.close()\n",
    "        pool.join()\n",
    "        return df\n",
    "\n",
    "    def get_data_by_store(self, store):\n",
    "\n",
    "        # Read and contact basic feature\n",
    "        df1 = pd.read_pickle(self.BASE)\n",
    "#         df1 = df1[df1['store_id']==store]\n",
    "        df2 = pd.read_pickle(self.PRICE).iloc[:,2:]\n",
    "#         df2 = df2[df2['store_id']==store]\n",
    "        df3 = pd.read_pickle(self.CALENDAR).iloc[:,2:]\n",
    "        df = pd.concat([df1, df2, df3],\n",
    "                        axis=1)\n",
    "\n",
    "        # Leave only relevant store\n",
    "        df = df[df['store_id']==store]\n",
    "\n",
    "        # With memory limits we have to read \n",
    "        # lags and mean encoding features\n",
    "        # separately and drop items that we don't need.\n",
    "        # As our Features Grids are aligned \n",
    "        # we can use index to keep only necessary rows\n",
    "        # Alignment is good for us as concat uses less memory than merge.\n",
    "        df2 = pd.read_pickle(self.MEAN_ENC)[self.mean_features]\n",
    "        df2 = df2[df2.index.isin(df.index)]\n",
    "\n",
    "        df = pd.concat([df, df2], axis=1)\n",
    "        del df2 # to not reach memory limit \n",
    "        gc.collect()\n",
    "\n",
    "        df3 = pd.read_pickle(self.LAGS).iloc[:,3:]\n",
    "        df3 = df3[df3.index.isin(df.index)]\n",
    "\n",
    "\n",
    "        df = pd.concat([df, df3], axis=1)\n",
    "        del df3 # to not reach memory limit \n",
    "        gc.collect()\n",
    "\n",
    "        # Create features list\n",
    "        features = [col for col in list(df) if col not in self.remove_features]\n",
    "        features = [col for col in features if col not in ['Unnamed: 0']]\n",
    "        \n",
    "        del df # to not reach memory limit \n",
    "        gc.collect()\n",
    "        \n",
    "        return features\n",
    "\n",
    "    # Recombine Test set after training\n",
    "    def get_base_test(self):\n",
    "        base_test = pd.DataFrame()\n",
    "\n",
    "        for store_id in self.STORES_IDS:\n",
    "            temp_df = pd.read_pickle(project_space_path('M5Forecasting/test_'+store_id+'.pkl'))\n",
    "            temp_df['store_id'] = store_id\n",
    "            base_test = pd.concat([base_test, temp_df]).reset_index(drop=True)\n",
    "\n",
    "        return base_test\n",
    "\n",
    "\n",
    "    ########################### Helper to make dynamic rolling lags\n",
    "    #################################################################################\n",
    "    def make_lag(self, LAG_DAY):\n",
    "        lag_df = base_test[['id','d',self.TARGET]]\n",
    "        col_name = f'sales_lag_{str(LAG_DAY)}'\n",
    "        lag_df[col_name] = lag_df.groupby(['id'])[self.TARGET].transform(lambda x: x.shift(LAG_DAY)).astype(np.float16)\n",
    "        return lag_df[[col_name]]\n",
    "\n",
    "\n",
    "    def make_lag_roll(self, LAG_DAY, base_test):\n",
    "        shift_day = LAG_DAY[0]\n",
    "        roll_wind = LAG_DAY[1]\n",
    "        lag_df = base_test[['id','d',self.TARGET]]\n",
    "        col_name = f'rolling_mean_tmp_{str(shift_day)}_{str(roll_wind)}'\n",
    "        lag_df[col_name] = lag_df.groupby(['id'])[self.TARGET].transform(lambda x: x.shift(shift_day).rolling(roll_wind).mean())\n",
    "        return lag_df[[col_name]]\n",
    "    \n",
    "    def run(self):\n",
    "        ########################### Predict\n",
    "        #################################################################################\n",
    "\n",
    "        # Create Dummy DataFrame to store predictions\n",
    "        all_preds = pd.DataFrame()\n",
    "\n",
    "        # Join back the Test dataset with \n",
    "        # a small part of the training data \n",
    "        # to make recursive features\n",
    "        base_test = self.get_base_test()\n",
    "\n",
    "        # Timer to measure predictions time \n",
    "        main_time = time.time()\n",
    "\n",
    "        ROLS_SPLIT = []\n",
    "\n",
    "        for i in [1,7,14]:\n",
    "            for j in [7,14,30,60]:\n",
    "                ROLS_SPLIT.append([i,j])\n",
    "\n",
    "        # Loop over each prediction day\n",
    "        # As rolling lags are the most timeconsuming\n",
    "        # we will calculate it for whole day\n",
    "        for PREDICT_DAY in range(1,29):    \n",
    "            print('Predict | Day:', PREDICT_DAY)\n",
    "            start_time = time.time()\n",
    "\n",
    "            # Make temporary grid to calculate rolling lags\n",
    "            grid_df = base_test.copy()\n",
    "            lag_param_df = pd.DataFrame()\n",
    "#             grid_df = pd.concat([grid_df, self.df_parallelize_run(self.make_lag_roll, ROLS_SPLIT)], axis=1)\n",
    "            for lag_param in ROLS_SPLIT:\n",
    "                lag_param_df = pd.concat([lag_param_df, self.make_lag_roll(lag_param,base_test)], axis=1)\n",
    "            grid_df = pd.concat([grid_df, lag_param_df], axis=1)\n",
    "\n",
    "\n",
    "            for store_id in self.STORES_IDS:\n",
    "                self.logger.info(store_id)\n",
    "\n",
    "                # Read all our models and make predictions\n",
    "                # for each day/store pairs\n",
    "                model_path = project_space_path('M5Forecasting/lgb_model_'+store_id+'_v'+str(self.VER)+'.bin') \n",
    "                if self.USE_AUX:\n",
    "                    model_path = self.AUX_MODELS + model_path\n",
    "\n",
    "                estimator = pickle.load(open(model_path, 'rb'))\n",
    "\n",
    "                day_mask = base_test['d']==(self.END_TRAIN+ PREDICT_DAY)\n",
    "                store_mask = base_test['store_id']==store_id\n",
    "\n",
    "                mask = (day_mask)&(store_mask)\n",
    "                MODEL_FEATURES = self.get_data_by_store(store_id)\n",
    "                base_test[self.TARGET][mask] = estimator.predict(grid_df[mask][MODEL_FEATURES])\n",
    "\n",
    "            # Make good column naming and add \n",
    "            # to all_preds DataFrame\n",
    "            temp_df = base_test[day_mask][['id',self.TARGET]]\n",
    "            temp_df.columns = ['id','F'+str(PREDICT_DAY)]\n",
    "            if 'id' in list(all_preds):\n",
    "                all_preds = all_preds.merge(temp_df, on=['id'], how='left')\n",
    "            else:\n",
    "                all_preds = temp_df.copy()\n",
    "\n",
    "            print('#'*10, ' %0.2f min round |' % ((time.time() - start_time) / 60),\n",
    "                          ' %0.2f min total |' % ((time.time() - main_time) / 60),\n",
    "                          ' %0.2f day sales |' % (temp_df['F'+str(PREDICT_DAY)].sum()))\n",
    "            del temp_df\n",
    "\n",
    "        all_preds = all_preds.reset_index(drop=True)\n",
    "\n",
    "        submission = pd.read_csv(self.ORIGINAL+'sample_submission_accuracy.csv')[['id']]\n",
    "        submission = submission.merge(all_preds, on=['id'], how='left').fillna(0)\n",
    "        submission.to_csv(self.ORIGINAL+'submission_v'+str(self.VER)+'.csv', index=False)\n",
    "    "
   ]
  },
  {
   "cell_type": "code",
   "execution_count": 9,
   "metadata": {},
   "outputs": [],
   "source": [
    "infer = Infer()"
   ]
  },
  {
   "cell_type": "code",
   "execution_count": 10,
   "metadata": {},
   "outputs": [],
   "source": [
    "p = rf.Pipeline(\"Walmart Inference Pipeline_gpu\", targets=[infer])"
   ]
  },
  {
   "cell_type": "code",
   "execution_count": 11,
   "metadata": {},
   "outputs": [],
   "source": [
    "deployed_pipeline = razor.api.engines('DS-Engine-Load-Test').execute(pipeline=p)\n"
   ]
  },
  {
   "cell_type": "code",
   "execution_count": 12,
   "metadata": {},
   "outputs": [
    {
     "data": {
      "application/vnd.razorthink.run+monitor+json": "/home/jovyan/logs/9d1d035d-ecaf-4076-b65a-97109b84ec48",
      "text/plain": [
       "<razor_tools.backend.ipython.mime.run_monitor.RunMonitor at 0x7f4186757ed0>"
      ]
     },
     "metadata": {
      "application/vnd.razorthink.run+monitor+json": {
       "store_in_notebook": false
      }
     },
     "output_type": "display_data"
    },
    {
     "data": {
      "text/html": [],
      "text/plain": [
       "PlatformPipelineRun(project_id='c0b26d85-a4c9-44f5-9d0e-f540dd2de644', pipeline_id='0dd7164a-12d9-11eb-8009-0242ac110006', pipeline_name='Walmart Inference Pipeline_gpu', pipeline_run_id='9d1d035d-ecaf-4076-b65a-97109b84ec48', pipeline_version=None, comment=None, created_on='2020-10-20T13:35:01.797+00:00', start_time=None, end_time=None, eta=0, run_at=1603200901797, run_duration=0, compute_time=0, wait_time=229, ran_by_user=RanByUser(user_name='avinash bharadwaj', email='avinash.bharadwaj@razorthink.com'), status='IN_PROGRESS', block_status=[PlatformPipelineBlockRun(pipeline_run_id='9d1d035d-ecaf-4076-b65a-97109b84ec48', pipeline_name='Walmart Inference Pipeline_gpu', pipeline_status='IN_PROGRESS', block_id='9ec26d7d-092e-422e-a44e-a0c32390c7cb', block_run_id='53331d97-0ace-49df-b5fd-4b8b6fcbbe81', block_name='Infer_1', resource_spec=ResourceAllocated(cores=8, memory=36000, use_gpu=True, gpu=1, use_gpu_if_available=False, cluster_configuration={'worker': None, 'workerCore': None, 'workerMemory': None, 'numberOfInstances': None, 'maxServerCount': None}, additional_env={}, run_env='PYTHON'), technology='PYTHON', status='READY_TO_GO', containers=[], cluster_id='9ec26d7d-092e-422e-a44e-a0c32390c7cb', _log=None, _metric=None, wait_time=0, compute_time=0, start_time=None, end_time=None, queued_at='2020-10-20T13:35:02.000+00:00')], run_number=361, pipeline_variable_list=[], block_run_details=[BlockRunDetail(block_id='9ec26d7d-092e-422e-a44e-a0c32390c7cb', block_run_id='53331d97-0ace-49df-b5fd-4b8b6fcbbe81', block_name='Infer_1', technology='PYTHON', log_path=None, input_parameters='{}', output_parameters=None, status='READY_TO_GO', created_at='2020-10-20T13:35:01.920+00:00', queued_at='2020-10-20T13:35:02.000+00:00', start_time=None, end_time=None, compute_time=0, wait_time=0, run_time=0, block_run_output_list=[], resource_allocated=ResourceAllocated(cores=8, memory=36000, use_gpu=True, gpu=1, use_gpu_if_available=False, cluster_configuration={'worker': None, 'workerCore': None, 'workerMemory': None, 'numberOfInstances': None, 'maxServerCount': None}, additional_env={}, run_env='PYTHON'))], pipeline_json='{\\n  \"id\": \"0dd7164a-12d9-11eb-8009-0242ac110006\",\\n  \"projectId\": \"c0b26d85-a4c9-44f5-9d0e-f540dd2de644\",\\n  \"name\": \"Walmart Inference Pipeline_gpu\",\\n  \"description\": \"\",\\n  \"blocks\": [\\n    {\\n      \"name\": \"Infer_1\",\\n      \"id\": \"9ec26d7d-092e-422e-a44e-a0c32390c7cb\",\\n      \"artifact_id\": null,\\n      \"class_name\": \"Infer\",\\n      \"code\": \"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\",\\n      \"isPublishedBlock\": false,\\n      \"source\": null,\\n      \"inputProperty\": {},\\n      \"outputProperty\": {},\\n      \"resourceRequirement\": {\\n        \"cores\": 8,\\n        \"memory\": 36000,\\n        \"useGpu\": true,\\n        \"gpu\": 1,\\n        \"useGpuIfAvailable\": false,\\n        \"clusterConfiguration\": {\\n          \"worker\": null,\\n          \"workerCore\": null,\\n          \"workerMemory\": null,\\n          \"numberOfInstances\": null,\\n          \"maxServerCount\": null\\n        },\\n        \"additionalEnv\": {},\\n        \"runEnv\": \"PYTHON\"\\n      },\\n      \"executionType\": \"BlockExecutor\",\\n      \"dependencies\": [\\n        {\\n          \"libraryId\": \"24d05fb2-8916-4d25-8127-276e57d0bc8d\",\\n          \"libraryVersionId\": \"67ceac05-426d-4c9a-a069-ceb1350c1623\"\\n        },\\n        {\\n          \"libraryId\": \"24d05fb2-8916-4d25-8127-276e57d0bc8d\",\\n          \"libraryVersionId\": \"67ceac05-426d-4c9a-a069-ceb1350c1623\"\\n        }\\n      ],\\n      \"system_dependencies\": null,\\n      \"meta_data\": null,\\n      \"process_id\": null,\\n      \"eta\": 0\\n    }\\n  ],\\n  \"connections\": [],\\n  \"priority\": \"LOW\",\\n  \"infraResourceEstimation\": null,\\n  \"resourceRequirement\": {\\n    \"cores\": null,\\n    \"memory\": null,\\n    \"useGpu\": null,\\n    \"gpu\": null,\\n    \"useGpuIfAvailable\": null,\\n    \"clusterConfiguration\": null,\\n    \"additionalEnv\": {},\\n    \"runEnv\": null\\n  },\\n  \"comments\": null,\\n  \"order\": null,\\n  \"uiData\": null,\\n  \"dom\": null,\\n  \"systemGenerated\": false,\\n  \"systemModel\": false,\\n  \"pipelineVariableList\": [],\\n  \"pipelineTemplateVersion\": 0.0,\\n  \"versionId\": null,\\n  \"engineId\": \"a723b377-09ff-4869-bc03-e2690d149522\",\\n  \"userId\": \"86fa5355-5961-41a1-9603-795971e5298d\",\\n  \"runInitiatedFrom\": \"JUPYTER\",\\n  \"processList\": null,\\n  \"processInfo\": null\\n}', dom='Yet to add', order=None, infra_resource='{\\n  \"zookeeper\": {\\n    \"cores\": 1,\\n    \"memory\": 1024,\\n    \"useGpu\": null,\\n    \"gpu\": null,\\n    \"useGpuIfAvailable\": null,\\n    \"clusterConfiguration\": null,\\n    \"additionalEnv\": {},\\n    \"runEnv\": null\\n  },\\n  \"kafka\": {\\n    \"cores\": 1,\\n    \"memory\": 1024,\\n    \"useGpu\": null,\\n    \"gpu\": null,\\n    \"useGpuIfAvailable\": null,\\n    \"clusterConfiguration\": null,\\n    \"additionalEnv\": {},\\n    \"runEnv\": null\\n  }\\n}', resource_spec=ResourceAllocated(cores=None, memory=None, use_gpu=None, gpu=None, use_gpu_if_available=None, cluster_configuration=None, additional_env={}, run_env=None), engine_id='a723b377-09ff-4869-bc03-e2690d149522', run_initiated_from='JUPYTER')"
      ]
     },
     "execution_count": 12,
     "metadata": {},
     "output_type": "execute_result"
    }
   ],
   "source": [
    "deployed_pipeline"
   ]
  },
  {
   "cell_type": "code",
   "execution_count": 13,
   "metadata": {},
   "outputs": [
    {
     "data": {
      "text/html": [
       "<html>\n",
       "\t<table width='100%'>\n",
       "\t\t<tr'><th>Slave Host</th><th>Type</th><th colspan='3' style='text-align: center;'>Usage</th></tr>\n",
       "\t\t<tbody>\n",
       "\t\t\t<tr><td>172.16.104.139 </td><td> INFRASTRUCTURE </td><td> CORE: Used 3 of 16 (18.75%)</td><td>RAM: Used 3.0 of 38.0GB (7.894736842105263%)</td></tr>\n",
       "\n",
       "\t\t\t<tr><td>172.16.114.99 </td><td> TECHNOLOGY </td><td> CORE: Used 13 of 32 (40.625%)</td><td>RAM: Used 85.40625 of 115.0GB (74.26630434782608%)</td></tr>\n",
       "\n",
       "\t\t</tbody>\n",
       "\t</table>\n",
       "</html>"
      ],
      "text/plain": [
       "PlatformEngineHealthList(slave_usage_array=[PlatformEngineHealth(server_ip='172.16.104.139', server_type='INFRASTRUCTURE', server_usage_info=[ServerUsageInfo(label='Current cpu usage', graph_type='bar', unit='', total=16, used=3, available=13, value='CORE'), ServerUsageInfo(label='Current memory usage', graph_type='bar', unit='GB', total=40802189312.0, used=3221225472.0, available=37580963840.0, value='RAM'), ServerUsageInfo(label='Current gpu usage', graph_type='bar', unit='', total=0, used=0, available=0, value='GPU')]), PlatformEngineHealth(server_ip='172.16.114.99', server_type='TECHNOLOGY', server_usage_info=[ServerUsageInfo(label='Current cpu usage', graph_type='bar', unit='', total=32, used=13, available=19, value='CORE'), ServerUsageInfo(label='Current memory usage', graph_type='bar', unit='GB', total=123480309760.0, used=91704262656.0, available=31776047104.0, value='RAM'), ServerUsageInfo(label='Current gpu usage', graph_type='bar', unit='', total=0, used=0, available=0, value='GPU')])])"
      ]
     },
     "execution_count": 13,
     "metadata": {},
     "output_type": "execute_result"
    }
   ],
   "source": [
    "razor.api.engines('DS-engine').health()"
   ]
  },
  {
   "cell_type": "code",
   "execution_count": null,
   "metadata": {},
   "outputs": [],
   "source": [
    "razor.api.engines('DS-engine').queue()"
   ]
  },
  {
   "cell_type": "code",
   "execution_count": null,
   "metadata": {},
   "outputs": [],
   "source": []
  },
  {
   "cell_type": "code",
   "execution_count": 15,
   "metadata": {},
   "outputs": [],
   "source": [
    "lib2 = razor.api.libraries(name='pathos')"
   ]
  },
  {
   "cell_type": "code",
   "execution_count": null,
   "metadata": {},
   "outputs": [],
   "source": []
  }
 ],
 "metadata": {
  "kernelspec": {
   "display_name": "Python 3",
   "language": "python",
   "name": "python3"
  },
  "language_info": {
   "codemirror_mode": {
    "name": "ipython",
    "version": 3
   },
   "file_extension": ".py",
   "mimetype": "text/x-python",
   "name": "python",
   "nbconvert_exporter": "python",
   "pygments_lexer": "ipython3",
   "version": "3.7.10"
  }
 },
 "nbformat": 4,
 "nbformat_minor": 4
}
