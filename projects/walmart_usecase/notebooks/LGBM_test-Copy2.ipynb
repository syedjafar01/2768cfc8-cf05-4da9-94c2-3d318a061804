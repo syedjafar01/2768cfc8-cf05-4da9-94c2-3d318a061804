{
 "cells": [
  {
   "cell_type": "code",
   "execution_count": 1,
   "metadata": {},
   "outputs": [
    {
     "data": {
      "text/html": [
       "<html>\n",
       "            <h4>Library</h4>\n",
       "            <table width='100%'>\n",
       "                <tr>\n",
       "                    <th width='20%' style='align:left; text-align:center;'>Name</th>\n",
       "                    <th style='align:left; text-align:left;'>Technology</th>\n",
       "                    <th style='align:left; text-align:left;'>Install Status</th>\n",
       "                    <th style='align:left; text-align:left;'>Created by</th>\n",
       "                    <th style='align:left; text-align:left;'>Created on</th>\n",
       "                    <th style='align:left; text-align:left;'>Modified by</th>\n",
       "                    <th style='align:left; text-align:left;'>Modified on</th>\n",
       "                </tr><tr>\n",
       "                        <td width='20%' style='align:center; text-align:center;'>fastparquet</td>\n",
       "                        <td style='align:left; text-align:left;'>PYTHON</td>\n",
       "                        <td style='align:left; text-align:left;'>INSTALLED</td>\n",
       "                        <td style='align:left; text-align:left;'>Ayan Basak</td>\n",
       "                        <td style='align:left; text-align:left;'>Sep 25, 2020</td>\n",
       "                        <td style='align:left; text-align:left;'>Ayan Basak</td>\n",
       "                        <td style='align:left; text-align:left;'>Sep 25, 2020</td>\n",
       "                    </tr></table></html>"
      ],
      "text/plain": [
       "PlatformLibrary(id_='54865fdd-700e-494b-a8f8-0b6258aed7cf', artifact_version='01a8b174-7b78-4a53-bf28-5938922e4cd8', name='fastparquet', technology='PYTHON', installation_status='INSTALLED', created_by='Ayan Basak', created_on='2020-09-25T12:27:54.000+00:00', modified_by='Ayan Basak', modified_on='2020-09-25T12:27:54.000+00:00')"
      ]
     },
     "execution_count": 1,
     "metadata": {},
     "output_type": "execute_result"
    }
   ],
   "source": [
    "razor.api.libraries('fastparquet')\n"
   ]
  },
  {
   "cell_type": "code",
   "execution_count": 2,
   "metadata": {},
   "outputs": [],
   "source": [
    "import razor\n"
   ]
  },
  {
   "cell_type": "code",
   "execution_count": 3,
   "metadata": {},
   "outputs": [],
   "source": [
    "config = {'cpu': 8 , 'ram': 36000}"
   ]
  },
  {
   "cell_type": "code",
   "execution_count": null,
   "metadata": {},
   "outputs": [],
   "source": []
  },
  {
   "cell_type": "code",
   "execution_count": 4,
   "metadata": {},
   "outputs": [],
   "source": [
    "# General imports\n",
    "import numpy as np\n",
    "import pandas as pd\n",
    "import os, sys, gc, time, warnings, pickle, psutil, random\n",
    "\n",
    "# custom imports\n",
    "from multiprocessing import Pool        # Multiprocess Runs\n",
    "\n",
    "warnings.filterwarnings('ignore')"
   ]
  },
  {
   "cell_type": "code",
   "execution_count": 5,
   "metadata": {},
   "outputs": [],
   "source": [
    "import razor.flow as rf\n",
    "from razor.api import datasources\n",
    "from razor import project_space_path\n",
    "import razor\n",
    "from razor import Technology, LibraryMode\n"
   ]
  },
  {
   "cell_type": "code",
   "execution_count": 6,
   "metadata": {},
   "outputs": [],
   "source": [
    "import typing as t"
   ]
  },
  {
   "cell_type": "code",
   "execution_count": null,
   "metadata": {},
   "outputs": [],
   "source": []
  },
  {
   "cell_type": "markdown",
   "metadata": {},
   "source": [
    "# Light GBM inference"
   ]
  },
  {
   "cell_type": "code",
   "execution_count": null,
   "metadata": {},
   "outputs": [],
   "source": []
  },
  {
   "cell_type": "code",
   "execution_count": 7,
   "metadata": {},
   "outputs": [],
   "source": [
    "lib1 = razor.api.libraries(name='lightgbm').artifact()"
   ]
  },
  {
   "cell_type": "code",
   "execution_count": 8,
   "metadata": {},
   "outputs": [],
   "source": [
    "@rf.block(executor=rf.ContainerExecutor(cores=config['cpu'], memory=config['ram']))\n",
    "class Infer:\n",
    "#     config: t.Any\n",
    "    \n",
    "    __libs__ = [lib1]\n",
    "    \n",
    "    def init(self):\n",
    "        self.VER = 1                          # Our model version\n",
    "        self.SEED = 42  \n",
    "        \n",
    "        #PATHS for Features\n",
    "        self.ORIGINAL = project_space_path(\"M5Forecasting\")+\"/\"\n",
    "        self.BASE     = project_space_path('M5Forecasting/m5-simple-fe/grid_part_1.pkl')\n",
    "        self.PRICE    = project_space_path('M5Forecasting/m5-simple-fe/grid_part_2.pkl')\n",
    "        self.CALENDAR = project_space_path('M5Forecasting/m5-simple-fe/grid_part_3.pkl')\n",
    "        self.LAGS     = project_space_path('M5Forecasting/lags_df_28.pkl')\n",
    "        self.MEAN_ENC = project_space_path('M5Forecasting/mean_encoding_df.pkl')\n",
    "\n",
    "        #LIMITS and const\n",
    "        self.TARGET      = 'sales'            # Our target\n",
    "        self.START_TRAIN = 0                  # We can skip some rows (Nans/faster training)\n",
    "        self.END_TRAIN   = 1913               # End day of our train set\n",
    "        self.P_HORIZON   = 28                 # Prediction horizon\n",
    "        self.USE_AUX     = False               # Use or not pretrained models\n",
    "        self.N_CORES = psutil.cpu_count()     # Available CPU cores\n",
    "\n",
    "        # AUX(pretrained) Models paths\n",
    "        self.AUX_MODELS = './M5Forecasting/m5-aux-models/'\n",
    "\n",
    "\n",
    "        #STORES ids\n",
    "        self.STORES_IDS = pd.read_csv(self.ORIGINAL+'sales_train_validation.csv')['store_id']\n",
    "        self.STORES_IDS = list(self.STORES_IDS.unique())\n",
    "\n",
    "\n",
    "        #SPLITS for lags creation\n",
    "        self.SHIFT_DAY  = 28\n",
    "        self.N_LAGS     = 15\n",
    "        self.LAGS_SPLIT = [col for col in range(self.SHIFT_DAY, self.SHIFT_DAY + self.N_LAGS)]\n",
    "        \n",
    "        self.remove_features = ['id','state_id','store_id',\n",
    "                           'date','wm_yr_wk','d', self.TARGET]\n",
    "        self.mean_features   = ['enc_cat_id_mean','enc_cat_id_std',\n",
    "                           'enc_dept_id_mean','enc_dept_id_std',\n",
    "                           'enc_item_id_mean','enc_item_id_std'] \n",
    "\n",
    "            \n",
    "    def seed_everything(self, seed=0):\n",
    "        random.seed(seed)\n",
    "        np.random.seed(seed)\n",
    "\n",
    "\n",
    "    ## Multiprocess Runs\n",
    "    def df_parallelize_run(self, func, t_split):\n",
    "        num_cores = np.min([self.N_CORES,len(t_split)])\n",
    "        pool = Pool(num_cores)\n",
    "        df = pd.concat(pool.map(func, t_split), axis=1)\n",
    "        pool.close()\n",
    "        pool.join()\n",
    "        return df\n",
    "\n",
    "    def get_data_by_store(self, store):\n",
    "\n",
    "        # Read and contact basic feature\n",
    "        df1 = pd.read_pickle(self.BASE)\n",
    "#         df1 = df1[df1['store_id']==store]\n",
    "        df2 = pd.read_pickle(self.PRICE).iloc[:,2:]\n",
    "#         df2 = df2[df2['store_id']==store]\n",
    "        df3 = pd.read_pickle(self.CALENDAR).iloc[:,2:]\n",
    "        df = pd.concat([df1, df2, df3],\n",
    "                        axis=1)\n",
    "\n",
    "        # Leave only relevant store\n",
    "        df = df[df['store_id']==store]\n",
    "\n",
    "        # With memory limits we have to read \n",
    "        # lags and mean encoding features\n",
    "        # separately and drop items that we don't need.\n",
    "        # As our Features Grids are aligned \n",
    "        # we can use index to keep only necessary rows\n",
    "        # Alignment is good for us as concat uses less memory than merge.\n",
    "        df2 = pd.read_pickle(self.MEAN_ENC)[self.mean_features]\n",
    "        df2 = df2[df2.index.isin(df.index)]\n",
    "\n",
    "        df = pd.concat([df, df2], axis=1)\n",
    "        del df2 # to not reach memory limit \n",
    "        gc.collect()\n",
    "\n",
    "        df3 = pd.read_pickle(self.LAGS).iloc[:,3:]\n",
    "        df3 = df3[df3.index.isin(df.index)]\n",
    "\n",
    "\n",
    "        df = pd.concat([df, df3], axis=1)\n",
    "        del df3 # to not reach memory limit \n",
    "        gc.collect()\n",
    "\n",
    "        # Create features list\n",
    "        features = [col for col in list(df) if col not in self.remove_features]\n",
    "        features = [col for col in features if col not in ['Unnamed: 0']]\n",
    "        \n",
    "        del df # to not reach memory limit \n",
    "        gc.collect()\n",
    "        \n",
    "        return features\n",
    "\n",
    "    # Recombine Test set after training\n",
    "    def get_base_test(self):\n",
    "        base_test = pd.DataFrame()\n",
    "\n",
    "        for store_id in self.STORES_IDS:\n",
    "            temp_df = pd.read_pickle(project_space_path('M5Forecasting/test_'+store_id+'.pkl'))\n",
    "            temp_df['store_id'] = store_id\n",
    "            base_test = pd.concat([base_test, temp_df]).reset_index(drop=True)\n",
    "\n",
    "        return base_test\n",
    "\n",
    "\n",
    "    ########################### Helper to make dynamic rolling lags\n",
    "    #################################################################################\n",
    "    def make_lag(self, LAG_DAY):\n",
    "        lag_df = base_test[['id','d',self.TARGET]]\n",
    "        col_name = f'sales_lag_{str(LAG_DAY)}'\n",
    "        lag_df[col_name] = lag_df.groupby(['id'])[self.TARGET].transform(lambda x: x.shift(LAG_DAY)).astype(np.float16)\n",
    "        return lag_df[[col_name]]\n",
    "\n",
    "\n",
    "    def make_lag_roll(self, LAG_DAY, base_test):\n",
    "        shift_day = LAG_DAY[0]\n",
    "        roll_wind = LAG_DAY[1]\n",
    "        lag_df = base_test[['id','d',self.TARGET]]\n",
    "        col_name = f'rolling_mean_tmp_{str(shift_day)}_{str(roll_wind)}'\n",
    "        lag_df[col_name] = lag_df.groupby(['id'])[self.TARGET].transform(lambda x: x.shift(shift_day).rolling(roll_wind).mean())\n",
    "        return lag_df[[col_name]]\n",
    "    \n",
    "    def run(self):\n",
    "        ########################### Predict\n",
    "        #################################################################################\n",
    "\n",
    "        # Create Dummy DataFrame to store predictions\n",
    "        all_preds = pd.DataFrame()\n",
    "\n",
    "        # Join back the Test dataset with \n",
    "        # a small part of the training data \n",
    "        # to make recursive features\n",
    "        base_test = self.get_base_test()\n",
    "\n",
    "        # Timer to measure predictions time \n",
    "        main_time = time.time()\n",
    "\n",
    "        ROLS_SPLIT = []\n",
    "\n",
    "        for i in [1,7,14]:\n",
    "            for j in [7,14,30,60]:\n",
    "                ROLS_SPLIT.append([i,j])\n",
    "        \n",
    "        # Make temporary grid to calculate rolling lags\n",
    "        grid_df = base_test.copy()\n",
    "        lag_param_df = pd.DataFrame()\n",
    "#             grid_df = pd.concat([grid_df, self.df_parallelize_run(self.make_lag_roll, ROLS_SPLIT)], axis=1)\n",
    "        for lag_param in ROLS_SPLIT:\n",
    "            lag_param_df = pd.concat([lag_param_df, self.make_lag_roll(lag_param,base_test)], axis=1)\n",
    "        grid_df = pd.concat([grid_df, lag_param_df], axis=1)\n",
    "\n",
    "\n",
    "        # Loop over each prediction day\n",
    "        # As rolling lags are the most timeconsuming\n",
    "        # we will calculate it for whole day\n",
    "        for PREDICT_DAY in range(1,29):    \n",
    "            print('Predict | Day:', PREDICT_DAY)\n",
    "            start_time = time.time()\n",
    "\n",
    "            for store_id in self.STORES_IDS:\n",
    "                self.logger.info(store_id)\n",
    "\n",
    "                # Read all our models and make predictions\n",
    "                # for each day/store pairs\n",
    "                model_path = project_space_path('M5Forecasting/lgb_model_'+store_id+'_v'+str(self.VER)+'.bin') \n",
    "                if self.USE_AUX:\n",
    "                    model_path = self.AUX_MODELS + model_path\n",
    "\n",
    "                estimator = pickle.load(open(model_path, 'rb'))\n",
    "\n",
    "                day_mask = base_test['d']==(self.END_TRAIN+ PREDICT_DAY)\n",
    "                store_mask = base_test['store_id']==store_id\n",
    "\n",
    "                mask = (day_mask)&(store_mask)\n",
    "                MODEL_FEATURES = self.get_data_by_store(store_id)\n",
    "                base_test[self.TARGET][mask] = estimator.predict(grid_df[mask][MODEL_FEATURES])\n",
    "\n",
    "            # Make good column naming and add \n",
    "            # to all_preds DataFrame\n",
    "            temp_df = base_test[day_mask][['id',self.TARGET]]\n",
    "            temp_df.columns = ['id','F'+str(PREDICT_DAY)]\n",
    "            if 'id' in list(all_preds):\n",
    "                all_preds = all_preds.merge(temp_df, on=['id'], how='left')\n",
    "            else:\n",
    "                all_preds = temp_df.copy()\n",
    "\n",
    "            print('#'*10, ' %0.2f min round |' % ((time.time() - start_time) / 60),\n",
    "                          ' %0.2f min total |' % ((time.time() - main_time) / 60),\n",
    "                          ' %0.2f day sales |' % (temp_df['F'+str(PREDICT_DAY)].sum()))\n",
    "            del temp_df\n",
    "\n",
    "        all_preds = all_preds.reset_index(drop=True)\n",
    "\n",
    "        submission = pd.read_csv(self.ORIGINAL+'sample_submission_accuracy.csv')[['id']]\n",
    "        submission = submission.merge(all_preds, on=['id'], how='left').fillna(0)\n",
    "        submission.to_csv(self.ORIGINAL+'submission_v'+str(self.VER)+'.csv', index=False)\n",
    "    "
   ]
  },
  {
   "cell_type": "code",
   "execution_count": 9,
   "metadata": {},
   "outputs": [],
   "source": [
    "infer = Infer()"
   ]
  },
  {
   "cell_type": "code",
   "execution_count": 10,
   "metadata": {},
   "outputs": [],
   "source": [
    "p = rf.Pipeline(\"Walmart Inference Pipeline_cpu\", targets=[infer])"
   ]
  },
  {
   "cell_type": "code",
   "execution_count": 11,
   "metadata": {},
   "outputs": [],
   "source": [
    "deployed_pipeline = razor.api.engines('DS-engine').execute(pipeline=p)\n"
   ]
  },
  {
   "cell_type": "code",
   "execution_count": 12,
   "metadata": {},
   "outputs": [
    {
     "data": {
      "application/vnd.razorthink.run+monitor+json": "/home/jovyan/logs/de6dbde1-cc8b-41f1-91eb-8b79ebf754b4",
      "text/plain": [
       "<razor_tools.backend.ipython.mime.run_monitor.RunMonitor at 0x7f252caaca50>"
      ]
     },
     "metadata": {
      "application/vnd.razorthink.run+monitor+json": {
       "store_in_notebook": false
      }
     },
     "output_type": "display_data"
    },
    {
     "data": {
      "text/html": [],
      "text/plain": [
       "PlatformPipelineRun(project_id='c0b26d85-a4c9-44f5-9d0e-f540dd2de644', pipeline_id='c1bdbcf4-0e97-11eb-957f-0242ac110004', pipeline_name='Walmart Inference Pipeline_cpu', pipeline_run_id='de6dbde1-cc8b-41f1-91eb-8b79ebf754b4', pipeline_version=None, comment=None, created_on='2020-10-15T03:37:32.174+00:00', start_time=None, end_time=None, eta=0, run_at=1602733052174, run_duration=0, compute_time=0, wait_time=589, ran_by_user=RanByUser(user_name='souryadipta das', email='souryadipta.das@razorthink.com'), status='IN_PROGRESS', block_status=[PlatformPipelineBlockRun(pipeline_run_id='de6dbde1-cc8b-41f1-91eb-8b79ebf754b4', pipeline_name='Walmart Inference Pipeline_cpu', pipeline_status='IN_PROGRESS', block_id='af299ae9-e200-4e6a-926c-f067dd463d29', block_run_id='f7057894-f941-45b7-949e-5ad3eec505fe', block_name='Infer_1', resource_spec=ResourceAllocated(cores=8, memory=36000, use_gpu=False, gpu=0, use_gpu_if_available=False, cluster_configuration={'worker': None, 'workerCore': None, 'workerMemory': None, 'numberOfInstances': None, 'maxServerCount': None}, additional_env={}, run_env='PYTHON'), technology='PYTHON', status='READY_TO_GO', containers=[], cluster_id='af299ae9-e200-4e6a-926c-f067dd463d29', _log=None, _metric=None, wait_time=0, compute_time=0, start_time=None, end_time=None, queued_at='2020-10-15T03:37:32.000+00:00')], run_number=353, pipeline_variable_list=[], block_run_details=[BlockRunDetail(block_id='af299ae9-e200-4e6a-926c-f067dd463d29', block_run_id='f7057894-f941-45b7-949e-5ad3eec505fe', block_name='Infer_1', technology='PYTHON', log_path=None, input_parameters='{}', output_parameters=None, status='READY_TO_GO', created_at='2020-10-15T03:37:32.291+00:00', queued_at='2020-10-15T03:37:32.000+00:00', start_time=None, end_time=None, compute_time=0, wait_time=0, run_time=0, block_run_output_list=[], resource_allocated=ResourceAllocated(cores=8, memory=36000, use_gpu=False, gpu=0, use_gpu_if_available=False, cluster_configuration={'worker': None, 'workerCore': None, 'workerMemory': None, 'numberOfInstances': None, 'maxServerCount': None}, additional_env={}, run_env='PYTHON'))], pipeline_json='{\\n  \"id\": \"c1bdbcf4-0e97-11eb-957f-0242ac110004\",\\n  \"projectId\": \"c0b26d85-a4c9-44f5-9d0e-f540dd2de644\",\\n  \"name\": \"Walmart Inference Pipeline_cpu\",\\n  \"description\": \"\",\\n  \"blocks\": [\\n    {\\n      \"name\": \"Infer_1\",\\n      \"id\": \"af299ae9-e200-4e6a-926c-f067dd463d29\",\\n      \"artifact_id\": null,\\n      \"class_name\": \"Infer\",\\n      \"code\": \"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\",\\n      \"isPublishedBlock\": false,\\n      \"source\": null,\\n      \"inputProperty\": {},\\n      \"outputProperty\": {},\\n      \"resourceRequirement\": {\\n        \"cores\": 8,\\n        \"memory\": 36000,\\n        \"useGpu\": false,\\n        \"gpu\": 0,\\n        \"useGpuIfAvailable\": false,\\n        \"clusterConfiguration\": {\\n          \"worker\": null,\\n          \"workerCore\": null,\\n          \"workerMemory\": null,\\n          \"numberOfInstances\": null,\\n          \"maxServerCount\": null\\n        },\\n        \"additionalEnv\": {},\\n        \"runEnv\": \"PYTHON\"\\n      },\\n      \"executionType\": \"BlockExecutor\",\\n      \"dependencies\": [\\n        {\\n          \"libraryId\": \"24d05fb2-8916-4d25-8127-276e57d0bc8d\",\\n          \"libraryVersionId\": \"67ceac05-426d-4c9a-a069-ceb1350c1623\"\\n        },\\n        {\\n          \"libraryId\": \"24d05fb2-8916-4d25-8127-276e57d0bc8d\",\\n          \"libraryVersionId\": \"67ceac05-426d-4c9a-a069-ceb1350c1623\"\\n        }\\n      ],\\n      \"system_dependencies\": null,\\n      \"meta_data\": null,\\n      \"process_id\": null,\\n      \"eta\": 0\\n    }\\n  ],\\n  \"connections\": [],\\n  \"priority\": \"LOW\",\\n  \"infraResourceEstimation\": null,\\n  \"resourceRequirement\": {\\n    \"cores\": null,\\n    \"memory\": null,\\n    \"useGpu\": null,\\n    \"gpu\": null,\\n    \"useGpuIfAvailable\": null,\\n    \"clusterConfiguration\": null,\\n    \"additionalEnv\": {},\\n    \"runEnv\": null\\n  },\\n  \"comments\": null,\\n  \"order\": null,\\n  \"uiData\": null,\\n  \"dom\": null,\\n  \"systemGenerated\": false,\\n  \"systemModel\": false,\\n  \"pipelineVariableList\": [],\\n  \"pipelineTemplateVersion\": 0.0,\\n  \"versionId\": null,\\n  \"engineId\": \"65ed2499-f8c9-4c4d-ad27-aa689bd1531e\",\\n  \"userId\": \"5da82833-9f26-45a6-b329-19ce45acfb70\",\\n  \"runInitiatedFrom\": \"JUPYTER\",\\n  \"processList\": null,\\n  \"processInfo\": null\\n}', dom='Yet to add', order=None, infra_resource='{\\n  \"zookeeper\": {\\n    \"cores\": 1,\\n    \"memory\": 1024,\\n    \"useGpu\": null,\\n    \"gpu\": null,\\n    \"useGpuIfAvailable\": null,\\n    \"clusterConfiguration\": null,\\n    \"additionalEnv\": {},\\n    \"runEnv\": null\\n  },\\n  \"kafka\": {\\n    \"cores\": 1,\\n    \"memory\": 1024,\\n    \"useGpu\": null,\\n    \"gpu\": null,\\n    \"useGpuIfAvailable\": null,\\n    \"clusterConfiguration\": null,\\n    \"additionalEnv\": {},\\n    \"runEnv\": null\\n  }\\n}', resource_spec=ResourceAllocated(cores=None, memory=None, use_gpu=None, gpu=None, use_gpu_if_available=None, cluster_configuration=None, additional_env={}, run_env=None), engine_id='65ed2499-f8c9-4c4d-ad27-aa689bd1531e', run_initiated_from='JUPYTER')"
      ]
     },
     "execution_count": 12,
     "metadata": {},
     "output_type": "execute_result"
    }
   ],
   "source": [
    "deployed_pipeline"
   ]
  },
  {
   "cell_type": "code",
   "execution_count": 13,
   "metadata": {},
   "outputs": [
    {
     "data": {
      "text/html": [
       "<html>\n",
       "\t<table width='100%'>\n",
       "\t\t<tr'><th>Slave Host</th><th>Type</th><th colspan='3' style='text-align: center;'>Usage</th></tr>\n",
       "\t\t<tbody>\n",
       "\t\t\t<tr><td>172.16.104.139 </td><td> INFRASTRUCTURE </td><td> CORE: Used 3 of 16 (18.75%)</td><td>RAM: Used 3.0 of 38.0GB (7.894736842105263%)</td></tr>\n",
       "\n",
       "\t\t\t<tr><td>172.16.114.99 </td><td> TECHNOLOGY </td><td> CORE: Used 13 of 32 (40.625%)</td><td>RAM: Used 85.40625 of 115.0GB (74.26630434782608%)</td></tr>\n",
       "\n",
       "\t\t</tbody>\n",
       "\t</table>\n",
       "</html>"
      ],
      "text/plain": [
       "PlatformEngineHealthList(slave_usage_array=[PlatformEngineHealth(server_ip='172.16.104.139', server_type='INFRASTRUCTURE', server_usage_info=[ServerUsageInfo(label='Current cpu usage', graph_type='bar', unit='', total=16, used=3, available=13, value='CORE'), ServerUsageInfo(label='Current memory usage', graph_type='bar', unit='GB', total=40802189312.0, used=3221225472.0, available=37580963840.0, value='RAM'), ServerUsageInfo(label='Current gpu usage', graph_type='bar', unit='', total=0, used=0, available=0, value='GPU')]), PlatformEngineHealth(server_ip='172.16.114.99', server_type='TECHNOLOGY', server_usage_info=[ServerUsageInfo(label='Current cpu usage', graph_type='bar', unit='', total=32, used=13, available=19, value='CORE'), ServerUsageInfo(label='Current memory usage', graph_type='bar', unit='GB', total=123480309760.0, used=91704262656.0, available=31776047104.0, value='RAM'), ServerUsageInfo(label='Current gpu usage', graph_type='bar', unit='', total=0, used=0, available=0, value='GPU')])])"
      ]
     },
     "execution_count": 13,
     "metadata": {},
     "output_type": "execute_result"
    }
   ],
   "source": [
    "razor.api.engines('DS-engine').health()"
   ]
  },
  {
   "cell_type": "code",
   "execution_count": null,
   "metadata": {},
   "outputs": [],
   "source": [
    "razor.api.engines('DS-engine').queue()"
   ]
  },
  {
   "cell_type": "code",
   "execution_count": null,
   "metadata": {},
   "outputs": [],
   "source": []
  },
  {
   "cell_type": "code",
   "execution_count": 15,
   "metadata": {},
   "outputs": [],
   "source": [
    "lib2 = razor.api.libraries(name='pathos')"
   ]
  },
  {
   "cell_type": "code",
   "execution_count": null,
   "metadata": {},
   "outputs": [],
   "source": []
  }
 ],
 "metadata": {
  "kernelspec": {
   "display_name": "Python 3",
   "language": "python",
   "name": "python3"
  },
  "language_info": {
   "codemirror_mode": {
    "name": "ipython",
    "version": 3
   },
   "file_extension": ".py",
   "mimetype": "text/x-python",
   "name": "python",
   "nbconvert_exporter": "python",
   "pygments_lexer": "ipython3",
   "version": "3.7.6"
  }
 },
 "nbformat": 4,
 "nbformat_minor": 4
}
