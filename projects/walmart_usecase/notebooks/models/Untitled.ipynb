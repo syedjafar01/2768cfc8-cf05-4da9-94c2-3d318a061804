{
 "cells": [
  {
   "cell_type": "code",
   "execution_count": 6,
   "metadata": {},
   "outputs": [
    {
     "data": {
      "text/plain": [
       "razor.api.core.model.engine.PlatformEngineSlave"
      ]
     },
     "execution_count": 6,
     "metadata": {},
     "output_type": "execute_result"
    }
   ],
   "source": [
    "type(razor.api.engines('DS-engine').slaves('infra'))"
   ]
  },
  {
   "cell_type": "code",
   "execution_count": 9,
   "metadata": {},
   "outputs": [
    {
     "data": {
      "text/plain": [
       "razor.api.core.model.engine.PlatformEngineContainerList"
      ]
     },
     "execution_count": 9,
     "metadata": {},
     "output_type": "execute_result"
    }
   ],
   "source": [
    "type(razor.api.engines('DS-engine').containers())"
   ]
  },
  {
   "cell_type": "code",
   "execution_count": 12,
   "metadata": {},
   "outputs": [
    {
     "data": {
      "text/plain": [
       "PlatformEngineContainer(engine_usage_id='455124b1-1923-4622-ba24-6a2aee734a10', engine_node_id='2e637b97-9d36-425d-b63e-69820eab27d9', id_='29ceff5fff625591fdb0b00458e2ef7f341325acfbccfe55d974ef2ae5b44fd7', cluster_id=None, host='172.16.114.99', port=None, allocated_ram=1073741824.0, allocated_cpu_core=1, allocated_gpu_core=None, technology='python', server_requested_at=1591019755763, release_requested_at=None, published_on=1600430781418, gpu_cards_allocated=None, cpu_cards_allocated='3', tenant_id='6367bff1-5e57-4d65-adb2-9ed0a3239433', block_id=None, project_id=None, pipeline_id=None, block_name=None, pipeline_name=None, block_run_id=None, pipeline_run_id=None, pipeline_run_name=None, run_by_user_id=None, run_by_user_email=None, engine_id='65ed2499-f8c9-4c4d-ad27-aa689bd1531e', slave=Slave(slave_id='ebf9afce-6738-491c-b658-88dab22a0b3d', host_name='tech1', ip='172.16.114.99', username='root', ssh_key=None, ram=123480309760.0, cores=32, hdd=1759218604441.6, gpu=False, is_active=True, created_by=None, created_on=None, modified_on=None, modified_by=None, status='Running', server_category=None, slave_server_type='Technology', gpu_cores=0, tenant_id='6367bff1-5e57-4d65-adb2-9ed0a3239433'), version=None, is_process_executor=None, process_id=None)"
      ]
     },
     "execution_count": 12,
     "metadata": {},
     "output_type": "execute_result"
    }
   ],
   "source": [
    "razor.api.engines('DS-engine').containers().containers[0]"
   ]
  },
  {
   "cell_type": "code",
   "execution_count": 14,
   "metadata": {},
   "outputs": [
    {
     "data": {
      "text/plain": [
       "PlatformEngineContainer(engine_usage_id='01585bcc-7502-45df-8006-65932f2d426e', engine_node_id='0490f023-a334-42f4-992a-e71bf030edb8', id_='ed48bcb2992abfacb0707f62ad15aa28c715cd9d9b97e1cfb08fe32b6a1455bc', cluster_id='8c5d24a4-422e-461b-81da-6f5805865106', host='172.16.104.139', port=None, allocated_ram=1073741824.0, allocated_cpu_core=1, allocated_gpu_core=None, technology='zookeeper', server_requested_at=1600902971469, release_requested_at=None, published_on=1600903415548, gpu_cards_allocated=None, cpu_cards_allocated='3', tenant_id='6367bff1-5e57-4d65-adb2-9ed0a3239433', block_id='8c5d24a4-422e-461b-81da-6f5805865106', project_id='2c8825ae-865c-4870-8d73-50403e16badf', pipeline_id='bfcd7228-fdf2-11ea-a8a6-0242ac110002', block_name='LoadImages_1', pipeline_name='Image Classification_lr_decay_test', block_run_id='c8915e1d-ff04-4907-a110-b038fe2cbd39', pipeline_run_id='88567b6c-65e1-4719-9701-92508bf47a59', pipeline_run_name='RUN - 120', run_by_user_id='5da82833-9f26-45a6-b329-19ce45acfb70', run_by_user_email='souryadipta.das@razorthink.com', engine_id='65ed2499-f8c9-4c4d-ad27-aa689bd1531e', slave=Slave(slave_id='e7bc3035-930b-4ad0-8935-7286e2cdb1f8', host_name='infra', ip='172.16.104.139', username='root', ssh_key=None, ram=40802189312.0, cores=16, hdd=581968068608.0, gpu=False, is_active=True, created_by=None, created_on=None, modified_on=None, modified_by=None, status='Running', server_category=None, slave_server_type='Infrastructure', gpu_cores=0, tenant_id='6367bff1-5e57-4d65-adb2-9ed0a3239433'), version=None, is_process_executor=None, process_id=None)"
      ]
     },
     "execution_count": 14,
     "metadata": {},
     "output_type": "execute_result"
    }
   ],
   "source": [
    "razor.api.engines('DS-engine').slaves('infra').containers().containers[0]"
   ]
  },
  {
   "cell_type": "code",
   "execution_count": 16,
   "metadata": {},
   "outputs": [
    {
     "data": {
      "text/plain": [
       "razor.api.core.model.engine.PlatformEngineHealthList"
      ]
     },
     "execution_count": 16,
     "metadata": {},
     "output_type": "execute_result"
    }
   ],
   "source": [
    "type(razor.api.engines('DS-engine').health())"
   ]
  },
  {
   "cell_type": "code",
   "execution_count": 17,
   "metadata": {},
   "outputs": [
    {
     "data": {
      "text/html": [
       "<html>\n",
       "            <h4>Slaves</h4>\n",
       "            <h5>Number of slaves found: 2</h5>\n",
       "            <table width='100%'>\n",
       "                <tr>\n",
       "                    <th style='align:left; text-align:left;'>Sl.No.</th>\n",
       "                    <th style='align:left; text-align:left;'>Slave Host Name</th>\n",
       "                    <th style='align:left; text-align:left;'>Slave Type</th>\n",
       "                    <th style='align:left; text-align:left;'>Slave Host Address</th>\n",
       "                    <th style='align:left; text-align:left;'>Memory</th>\n",
       "                    <th style='align:left; text-align:left;'>CPU Cores</th>\n",
       "                    <th style='align:left; text-align:left;'>GPUs</th>\n",
       "                    <th style='align:left; text-align:left;'>Disk</th>\n",
       "                    <th style='align:left; text-align:left;'>GPU Supported</th>\n",
       "                    <th style='align:left; text-align:left;'>GPU Cores</th>\n",
       "                    <th style='align:left; text-align:left;'>Status</th>\n",
       "                </tr><tr>\n",
       "                            <td style='align:left; text-align:left;'>1</td>\n",
       "                            <td style='align:left; text-align:left;'>infra</td>\n",
       "                            <td style='align:left; text-align:left;'>Infrastructure</td>\n",
       "                            <td style='align:left; text-align:left;'>172.16.104.139</td>\n",
       "                            <td style='align:left; text-align:left;'>38 GB</td>\n",
       "                            <td style='align:left; text-align:left;'>16</td>\n",
       "                            <td style='align:left; text-align:left;'>0</td>\n",
       "                            <td style='align:left; text-align:left;'>542 GB</td>\n",
       "                            <td style='align:left; text-align:left;'>False</td>\n",
       "                            <td style='align:left; text-align:left;'>0</td>\n",
       "                            <td style='align:left; text-align:left;'>Running</td>\n",
       "                        </tr><tr>\n",
       "                            <td style='align:left; text-align:left;'>2</td>\n",
       "                            <td style='align:left; text-align:left;'>tech1</td>\n",
       "                            <td style='align:left; text-align:left;'>Technology</td>\n",
       "                            <td style='align:left; text-align:left;'>172.16.114.99</td>\n",
       "                            <td style='align:left; text-align:left;'>115 GB</td>\n",
       "                            <td style='align:left; text-align:left;'>32</td>\n",
       "                            <td style='align:left; text-align:left;'>0</td>\n",
       "                            <td style='align:left; text-align:left;'>2 TB</td>\n",
       "                            <td style='align:left; text-align:left;'>False</td>\n",
       "                            <td style='align:left; text-align:left;'>0</td>\n",
       "                            <td style='align:left; text-align:left;'>Running</td>\n",
       "                        </tr>\n",
       "                </table>\n",
       "            </html>\n",
       "        "
      ],
      "text/plain": [
       "PlatformEngineSlaveList(all_slaves=[PlatformEngineSlave(id_='e7bc3035-930b-4ad0-8935-7286e2cdb1f8', host_name='infra', ip='172.16.104.139', ram='38 GB', cores=16, gpu_cores=0, hdd='542 GB', to_ip=None, gpu=False, status='Running', message='', service_name=None, server_type_name='Infrastructure', server_type_id='e51b38a6-30ec-11e9-babd-fa163e093ca8', bulk=False, containers_list=[]), PlatformEngineSlave(id_='ebf9afce-6738-491c-b658-88dab22a0b3d', host_name='tech1', ip='172.16.114.99', ram='115 GB', cores=32, gpu_cores=0, hdd='2 TB', to_ip=None, gpu=False, status='Running', message='', service_name=None, server_type_name='Technology', server_type_id='f711eb25-30ec-11e9-babd-fa163e093ca8', bulk=False, containers_list=[])])"
      ]
     },
     "execution_count": 17,
     "metadata": {},
     "output_type": "execute_result"
    }
   ],
   "source": [
    "razor.api.engines('DS-engine').slaves()"
   ]
  },
  {
   "cell_type": "code",
   "execution_count": 18,
   "metadata": {},
   "outputs": [],
   "source": [
    "pltf_eng_hlth_list = razor.api.engines('DS-engine').health()"
   ]
  },
  {
   "cell_type": "code",
   "execution_count": 20,
   "metadata": {},
   "outputs": [
    {
     "data": {
      "text/plain": [
       "PlatformEngineHealth(server_ip='172.16.104.139', server_type='INFRASTRUCTURE', server_usage_info=[ServerUsageInfo(label='Current cpu usage', graph_type='bar', unit='', total=16, used=8, available=8, value='CORE'), ServerUsageInfo(label='Current memory usage', graph_type='bar', unit='GB', total=40802189312.0, used=8589934592.0, available=32212254720.0, value='RAM'), ServerUsageInfo(label='Current gpu usage', graph_type='bar', unit='', total=0, used=0, available=0, value='GPU')])"
      ]
     },
     "execution_count": 20,
     "metadata": {},
     "output_type": "execute_result"
    }
   ],
   "source": [
    "pltf_eng_hlth_list.slave_usage_array[0]"
   ]
  },
  {
   "cell_type": "code",
   "execution_count": 21,
   "metadata": {},
   "outputs": [
    {
     "data": {
      "text/plain": [
       "PlatformEngineHealth(server_ip='172.16.104.139', server_type='INFRASTRUCTURE', server_usage_info=[ServerUsageInfo(label='Current cpu usage', graph_type='bar', unit='', total=16, used=8, available=8, value='CORE'), ServerUsageInfo(label='Current memory usage', graph_type='bar', unit='GB', total=40802189312.0, used=8589934592.0, available=32212254720.0, value='RAM'), ServerUsageInfo(label='Current gpu usage', graph_type='bar', unit='', total=0, used=0, available=0, value='GPU')])"
      ]
     },
     "execution_count": 21,
     "metadata": {},
     "output_type": "execute_result"
    }
   ],
   "source": [
    "razor.api.engines('DS-engine').health().slave_usage_array[0]"
   ]
  },
  {
   "cell_type": "code",
   "execution_count": 24,
   "metadata": {},
   "outputs": [
    {
     "data": {
      "text/plain": [
       "razor.api.core.model.engine.PlatformQueueStatusList"
      ]
     },
     "execution_count": 24,
     "metadata": {},
     "output_type": "execute_result"
    }
   ],
   "source": [
    "type(razor.api.engines('DS-engine').queue())"
   ]
  },
  {
   "cell_type": "code",
   "execution_count": 27,
   "metadata": {},
   "outputs": [],
   "source": [
    "x = razor.api.engines('DS-engine').queue().queue_list"
   ]
  },
  {
   "cell_type": "code",
   "execution_count": 30,
   "metadata": {},
   "outputs": [
    {
     "data": {
      "text/plain": [
       "PlatformQueueStatus(block_run_id='19897faf-d27c-4087-aae3-22d8da453eb0', block_id='7976686e-941a-4bf9-92d9-a367ecdf3759', block_name='Add_1', pipeline_run_id='ce90b4bd-677b-4a54-bcf0-941c205b7171', pipeline_id='0a32669a-fe3c-11ea-89a0-0242ac110007', pipeline_name='Pipeline_4', project_id='c0b26d85-a4c9-44f5-9d0e-f540dd2de644', wait_time=5, published_by=RanByUser(user_name='ritanshu keshari', email='ritanshu.keshari@razorthink.com'), resource_spec=ResourceAllocated(cores=1, memory=1024, use_gpu=False, gpu=0, use_gpu_if_available=False, cluster_configuration={'worker': None, 'workerCore': None, 'workerMemory': None, 'numberOfInstances': None, 'maxServerCount': None}, additional_env={}, run_env='PYTHON'))"
      ]
     },
     "execution_count": 30,
     "metadata": {},
     "output_type": "execute_result"
    }
   ],
   "source": [
    "x.queue_list[0]"
   ]
  },
  {
   "cell_type": "code",
   "execution_count": 37,
   "metadata": {},
   "outputs": [
    {
     "data": {
      "text/plain": [
       "PlatformEngineResourceAllocations(engine_node_id='d1906ec5-cec7-4c73-bad0-90181b633b72', allocated_ram=1073741824.0, allocated_cpu_core=1, allocated_gpu_core=None, technology='kafka', server_requested_at=1590484995118, host='172.16.113.202')"
      ]
     },
     "execution_count": 37,
     "metadata": {},
     "output_type": "execute_result"
    }
   ],
   "source": [
    "razor.api.engines.allocations().plf_eng_res_alloc_list[0]"
   ]
  },
  {
   "cell_type": "code",
   "execution_count": 36,
   "metadata": {},
   "outputs": [
    {
     "data": {
      "text/plain": [
       "{'all_slaves': [PlatformEngineSlave(id_='e7bc3035-930b-4ad0-8935-7286e2cdb1f8', host_name='infra', ip='172.16.104.139', ram='38 GB', cores=16, gpu_cores=0, hdd='542 GB', to_ip=None, gpu=False, status='Running', message='', service_name=None, server_type_name='Infrastructure', server_type_id='e51b38a6-30ec-11e9-babd-fa163e093ca8', bulk=False, containers_list=[]),\n",
       "  PlatformEngineSlave(id_='ebf9afce-6738-491c-b658-88dab22a0b3d', host_name='tech1', ip='172.16.114.99', ram='115 GB', cores=32, gpu_cores=0, hdd='2 TB', to_ip=None, gpu=False, status='Running', message='', service_name=None, server_type_name='Technology', server_type_id='f711eb25-30ec-11e9-babd-fa163e093ca8', bulk=False, containers_list=[])]}"
      ]
     },
     "execution_count": 36,
     "metadata": {},
     "output_type": "execute_result"
    }
   ],
   "source": [
    "razor.api.engines('DS-engine').slaves().__dict__"
   ]
  },
  {
   "cell_type": "code",
   "execution_count": null,
   "metadata": {},
   "outputs": [],
   "source": []
  }
 ],
 "metadata": {
  "kernelspec": {
   "display_name": "Python 3",
   "language": "python",
   "name": "python3"
  },
  "language_info": {
   "codemirror_mode": {
    "name": "ipython",
    "version": 3
   },
   "file_extension": ".py",
   "mimetype": "text/x-python",
   "name": "python",
   "nbconvert_exporter": "python",
   "pygments_lexer": "ipython3",
   "version": "3.7.6"
  }
 },
 "nbformat": 4,
 "nbformat_minor": 4
}
