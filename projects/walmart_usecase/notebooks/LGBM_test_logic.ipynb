{
 "cells": [
  {
   "cell_type": "code",
   "execution_count": 1,
   "metadata": {},
   "outputs": [
    {
     "data": {
      "text/html": [
       "<html>\n",
       "            <h4>Library</h4>\n",
       "            <table width='100%'>\n",
       "                <tr>\n",
       "                    <th width='20%' style='align:left; text-align:center;'>Name</th>\n",
       "                    <th style='align:left; text-align:left;'>Technology</th>\n",
       "                    <th style='align:left; text-align:left;'>Install Status</th>\n",
       "                    <th style='align:left; text-align:left;'>Created by</th>\n",
       "                    <th style='align:left; text-align:left;'>Created on</th>\n",
       "                    <th style='align:left; text-align:left;'>Modified by</th>\n",
       "                    <th style='align:left; text-align:left;'>Modified on</th>\n",
       "                </tr><tr>\n",
       "                        <td width='20%' style='align:center; text-align:center;'>fastparquet</td>\n",
       "                        <td style='align:left; text-align:left;'>PYTHON</td>\n",
       "                        <td style='align:left; text-align:left;'>INSTALLED</td>\n",
       "                        <td style='align:left; text-align:left;'>Ayan Basak</td>\n",
       "                        <td style='align:left; text-align:left;'>Sep 25, 2020</td>\n",
       "                        <td style='align:left; text-align:left;'>Ayan Basak</td>\n",
       "                        <td style='align:left; text-align:left;'>Sep 25, 2020</td>\n",
       "                    </tr></table></html>"
      ],
      "text/plain": [
       "PlatformLibrary(id_='54865fdd-700e-494b-a8f8-0b6258aed7cf', artifact_version='01a8b174-7b78-4a53-bf28-5938922e4cd8', name='fastparquet', technology='PYTHON', installation_status='INSTALLED', created_by='Ayan Basak', created_on='2020-09-25T12:27:54.000+00:00', modified_by='Ayan Basak', modified_on='2020-09-25T12:27:54.000+00:00')"
      ]
     },
     "execution_count": 1,
     "metadata": {},
     "output_type": "execute_result"
    }
   ],
   "source": [
    "razor.api.libraries('fastparquet')\n"
   ]
  },
  {
   "cell_type": "code",
   "execution_count": 2,
   "metadata": {},
   "outputs": [],
   "source": [
    "import razor\n"
   ]
  },
  {
   "cell_type": "code",
   "execution_count": 3,
   "metadata": {},
   "outputs": [],
   "source": [
    "config = {'cpu': 8 , 'ram': 36000}"
   ]
  },
  {
   "cell_type": "code",
   "execution_count": null,
   "metadata": {},
   "outputs": [],
   "source": []
  },
  {
   "cell_type": "code",
   "execution_count": 4,
   "metadata": {},
   "outputs": [],
   "source": [
    "# General imports\n",
    "import numpy as np\n",
    "import pandas as pd\n",
    "import os, sys, gc, time, warnings, pickle, psutil, random\n",
    "\n",
    "# custom imports\n",
    "from multiprocessing import Pool        # Multiprocess Runs\n",
    "\n",
    "warnings.filterwarnings('ignore')"
   ]
  },
  {
   "cell_type": "code",
   "execution_count": 5,
   "metadata": {},
   "outputs": [],
   "source": [
    "import razor.flow as rf\n",
    "from razor.api import datasources\n",
    "from razor import project_space_path\n",
    "import razor\n",
    "from razor import Technology, LibraryMode\n"
   ]
  },
  {
   "cell_type": "code",
   "execution_count": 6,
   "metadata": {},
   "outputs": [],
   "source": [
    "import typing as t"
   ]
  },
  {
   "cell_type": "code",
   "execution_count": null,
   "metadata": {},
   "outputs": [],
   "source": []
  },
  {
   "cell_type": "markdown",
   "metadata": {},
   "source": [
    "# Light GBM inference"
   ]
  },
  {
   "cell_type": "code",
   "execution_count": null,
   "metadata": {},
   "outputs": [],
   "source": []
  },
  {
   "cell_type": "code",
   "execution_count": 7,
   "metadata": {},
   "outputs": [],
   "source": [
    "lib1 = razor.api.libraries(name='lightgbm').artifact()"
   ]
  },
  {
   "cell_type": "code",
   "execution_count": 8,
   "metadata": {},
   "outputs": [],
   "source": [
    "@rf.block(executor=rf.ContainerExecutor(cores=config['cpu'], memory=config['ram'], gpu=1))\n",
    "class Infer:\n",
    "#     config: t.Any\n",
    "    \n",
    "    __libs__ = [lib1]\n",
    "    \n",
    "    def init(self):\n",
    "        self.VER = 1                          # Our model version\n",
    "        self.SEED = 42  \n",
    "        \n",
    "        #PATHS for Features\n",
    "        self.ORIGINAL = project_space_path(\"M5Forecasting\")+\"/\"\n",
    "        self.BASE     = project_space_path('M5Forecasting/m5-simple-fe/grid_part_1.pkl')\n",
    "        self.PRICE    = project_space_path('M5Forecasting/m5-simple-fe/grid_part_2.pkl')\n",
    "        self.CALENDAR = project_space_path('M5Forecasting/m5-simple-fe/grid_part_3.pkl')\n",
    "        self.LAGS     = project_space_path('M5Forecasting/lags_df_28.pkl')\n",
    "        self.MEAN_ENC = project_space_path('M5Forecasting/mean_encoding_df.pkl')\n",
    "\n",
    "        #LIMITS and const\n",
    "        self.TARGET      = 'sales'            # Our target\n",
    "        self.START_TRAIN = 0                  # We can skip some rows (Nans/faster training)\n",
    "        self.END_TRAIN   = 1913               # End day of our train set\n",
    "        self.P_HORIZON   = 28                 # Prediction horizon\n",
    "        self.USE_AUX     = False               # Use or not pretrained models\n",
    "        self.N_CORES = psutil.cpu_count()     # Available CPU cores\n",
    "\n",
    "        # AUX(pretrained) Models paths\n",
    "        self.AUX_MODELS = './M5Forecasting/m5-aux-models/'\n",
    "\n",
    "\n",
    "        #STORES ids\n",
    "        self.STORES_IDS = pd.read_csv(self.ORIGINAL+'sales_train_validation.csv')['store_id']\n",
    "        self.STORES_IDS = list(self.STORES_IDS.unique())\n",
    "\n",
    "\n",
    "        #SPLITS for lags creation\n",
    "        self.SHIFT_DAY  = 28\n",
    "        self.N_LAGS     = 15\n",
    "        self.LAGS_SPLIT = [col for col in range(self.SHIFT_DAY, self.SHIFT_DAY + self.N_LAGS)]\n",
    "        \n",
    "        self.remove_features = ['id','state_id','store_id',\n",
    "                           'date','wm_yr_wk','d', self.TARGET]\n",
    "        self.mean_features   = ['enc_cat_id_mean','enc_cat_id_std',\n",
    "                           'enc_dept_id_mean','enc_dept_id_std',\n",
    "                           'enc_item_id_mean','enc_item_id_std'] \n",
    "\n",
    "            \n",
    "    def seed_everything(self, seed=0):\n",
    "        random.seed(seed)\n",
    "        np.random.seed(seed)\n",
    "\n",
    "\n",
    "    ## Multiprocess Runs\n",
    "    def df_parallelize_run(self, func, t_split):\n",
    "        num_cores = np.min([self.N_CORES,len(t_split)])\n",
    "        pool = Pool(num_cores)\n",
    "        df = pd.concat(pool.map(func, t_split), axis=1)\n",
    "        pool.close()\n",
    "        pool.join()\n",
    "        return df\n",
    "\n",
    "    def get_data_by_store(self, store):\n",
    "\n",
    "        # Read and contact basic feature\n",
    "        df1 = pd.read_pickle(self.BASE)\n",
    "#         df1 = df1[df1['store_id']==store]\n",
    "        df2 = pd.read_pickle(self.PRICE).iloc[:,2:]\n",
    "#         df2 = df2[df2['store_id']==store]\n",
    "        df3 = pd.read_pickle(self.CALENDAR).iloc[:,2:]\n",
    "        df = pd.concat([df1, df2, df3],\n",
    "                        axis=1)\n",
    "\n",
    "        # Leave only relevant store\n",
    "        df = df[df['store_id']==store]\n",
    "\n",
    "        # With memory limits we have to read \n",
    "        # lags and mean encoding features\n",
    "        # separately and drop items that we don't need.\n",
    "        # As our Features Grids are aligned \n",
    "        # we can use index to keep only necessary rows\n",
    "        # Alignment is good for us as concat uses less memory than merge.\n",
    "        df2 = pd.read_pickle(self.MEAN_ENC)[self.mean_features]\n",
    "        df2 = df2[df2.index.isin(df.index)]\n",
    "\n",
    "        df = pd.concat([df, df2], axis=1)\n",
    "        del df2 # to not reach memory limit \n",
    "        gc.collect()\n",
    "\n",
    "        df3 = pd.read_pickle(self.LAGS).iloc[:,3:]\n",
    "        df3 = df3[df3.index.isin(df.index)]\n",
    "\n",
    "\n",
    "        df = pd.concat([df, df3], axis=1)\n",
    "        del df3 # to not reach memory limit \n",
    "        gc.collect()\n",
    "\n",
    "        # Create features list\n",
    "        features = [col for col in list(df) if col not in self.remove_features]\n",
    "        features = [col for col in features if col not in ['Unnamed: 0']]\n",
    "        \n",
    "        del df # to not reach memory limit \n",
    "        gc.collect()\n",
    "        \n",
    "        return features\n",
    "\n",
    "    # Recombine Test set after training\n",
    "    def get_base_test(self):\n",
    "        base_test = pd.DataFrame()\n",
    "\n",
    "        for store_id in self.STORES_IDS:\n",
    "            temp_df = pd.read_pickle(project_space_path('M5Forecasting/test_'+store_id+'.pkl'))\n",
    "            temp_df['store_id'] = store_id\n",
    "            base_test = pd.concat([base_test, temp_df]).reset_index(drop=True)\n",
    "\n",
    "        return base_test\n",
    "\n",
    "\n",
    "    ########################### Helper to make dynamic rolling lags\n",
    "    #################################################################################\n",
    "    def make_lag(self, LAG_DAY):\n",
    "        lag_df = base_test[['id','d',self.TARGET]]\n",
    "        col_name = f'sales_lag_{str(LAG_DAY)}'\n",
    "        lag_df[col_name] = lag_df.groupby(['id'])[self.TARGET].transform(lambda x: x.shift(LAG_DAY)).astype(np.float16)\n",
    "        return lag_df[[col_name]]\n",
    "\n",
    "\n",
    "    def make_lag_roll(self, LAG_DAY, base_test):\n",
    "        shift_day = LAG_DAY[0]\n",
    "        roll_wind = LAG_DAY[1]\n",
    "        lag_df = base_test[['id','d',self.TARGET]]\n",
    "        col_name = f'rolling_mean_tmp_{str(shift_day)}_{str(roll_wind)}'\n",
    "        lag_df[col_name] = lag_df.groupby(['id'])[self.TARGET].transform(lambda x: x.shift(shift_day).rolling(roll_wind).mean())\n",
    "        return lag_df[[col_name]]\n",
    "    \n",
    "    def run(self):\n",
    "        ########################### Predict\n",
    "        #################################################################################\n",
    "\n",
    "        # Create Dummy DataFrame to store predictions\n",
    "        all_preds = pd.DataFrame()\n",
    "\n",
    "        # Join back the Test dataset with \n",
    "        # a small part of the training data \n",
    "        # to make recursive features\n",
    "        base_test = self.get_base_test()\n",
    "\n",
    "        # Timer to measure predictions time \n",
    "        main_time = time.time()\n",
    "\n",
    "        ROLS_SPLIT = []\n",
    "\n",
    "        for i in [1,7,14]:\n",
    "            for j in [7,14,30,60]:\n",
    "                ROLS_SPLIT.append([i,j])\n",
    "\n",
    "        # Loop over each prediction day\n",
    "        # As rolling lags are the most timeconsuming\n",
    "        # we will calculate it for whole day\n",
    "#         for PREDICT_DAY in range(1,29):    \n",
    "#             print('Predict | Day:', PREDICT_DAY)\n",
    "#             start_time = time.time()\n",
    "\n",
    "        # Make temporary grid to calculate rolling lags\n",
    "        grid_df = base_test.copy()\n",
    "        lag_param_df = pd.DataFrame()\n",
    "#             grid_df = pd.concat([grid_df, self.df_parallelize_run(self.make_lag_roll, ROLS_SPLIT)], axis=1)\n",
    "        for lag_param in ROLS_SPLIT:\n",
    "            lag_param_df = pd.concat([lag_param_df, self.make_lag_roll(lag_param,base_test)], axis=1)\n",
    "        grid_df = pd.concat([grid_df, lag_param_df], axis=1)\n",
    "            \n",
    "        for store_id in self.STORES_IDS:\n",
    "            self.logger.info(store_id)\n",
    "\n",
    "            # Read all our models and make predictions\n",
    "            # for each day/store pairs\n",
    "            model_path = project_space_path('M5Forecasting/lgb_model_'+store_id+'_v'+str(self.VER)+'.bin') \n",
    "            if self.USE_AUX:\n",
    "                model_path = self.AUX_MODELS + model_path\n",
    "\n",
    "            estimator = pickle.load(open(model_path, 'rb'))\n",
    "\n",
    "            for PREDICT_DAY in range(1,29):    \n",
    "            \n",
    "                day_mask = base_test['d']==(self.END_TRAIN+ PREDICT_DAY)\n",
    "                store_mask = base_test['store_id']==store_id\n",
    "\n",
    "                mask = (day_mask)&(store_mask)\n",
    "                MODEL_FEATURES = self.get_data_by_store(store_id)\n",
    "                base_test[self.TARGET][mask] = estimator.predict(grid_df[mask][MODEL_FEATURES])\n",
    "\n",
    "            # Make good column naming and add \n",
    "            # to all_preds DataFrame\n",
    "            temp_df = base_test[day_mask][['id',self.TARGET]]\n",
    "            temp_df.columns = ['id','F'+str(PREDICT_DAY)]\n",
    "            if 'id' in list(all_preds):\n",
    "                all_preds = all_preds.merge(temp_df, on=['id'], how='left')\n",
    "            else:\n",
    "                all_preds = temp_df.copy()\n",
    "\n",
    "            print('#'*10, ' %0.2f min round |' % ((time.time() - start_time) / 60),\n",
    "                          ' %0.2f min total |' % ((time.time() - main_time) / 60),\n",
    "                          ' %0.2f day sales |' % (temp_df['F'+str(PREDICT_DAY)].sum()))\n",
    "            del temp_df\n",
    "\n",
    "        all_preds = all_preds.reset_index(drop=True)\n",
    "\n",
    "        submission = pd.read_csv(self.ORIGINAL+'sample_submission_accuracy.csv')[['id']]\n",
    "        submission = submission.merge(all_preds, on=['id'], how='left').fillna(0)\n",
    "        submission.to_csv(self.ORIGINAL+'submission_v'+str(self.VER)+'.csv', index=False)\n",
    "    "
   ]
  },
  {
   "cell_type": "code",
   "execution_count": 9,
   "metadata": {},
   "outputs": [],
   "source": [
    "infer = Infer()"
   ]
  },
  {
   "cell_type": "code",
   "execution_count": 10,
   "metadata": {},
   "outputs": [],
   "source": [
    "p = rf.Pipeline(\"Walmart Inference Pipeline_gpu\", targets=[infer])"
   ]
  },
  {
   "cell_type": "code",
   "execution_count": 11,
   "metadata": {},
   "outputs": [],
   "source": [
    "deployed_pipeline = razor.api.engines('DS-Engine-Load-Test').execute(pipeline=p)\n"
   ]
  },
  {
   "cell_type": "code",
   "execution_count": 12,
   "metadata": {},
   "outputs": [
    {
     "data": {
      "application/vnd.razorthink.run+monitor+json": "/home/jovyan/logs/63ee22b9-94a4-4e08-8424-8bbf00b1301f",
      "text/plain": [
       "<razor_tools.backend.ipython.mime.run_monitor.RunMonitor at 0x7f15ea9da050>"
      ]
     },
     "metadata": {
      "application/vnd.razorthink.run+monitor+json": {
       "store_in_notebook": false
      }
     },
     "output_type": "display_data"
    },
    {
     "data": {
      "text/html": [],
      "text/plain": [
       "PlatformPipelineRun(project_id='c0b26d85-a4c9-44f5-9d0e-f540dd2de644', pipeline_id='26ea9982-091e-11eb-bf49-0242ac110006', pipeline_name='Walmart Inference Pipeline_gpu', pipeline_run_id='63ee22b9-94a4-4e08-8424-8bbf00b1301f', pipeline_version=None, comment=None, created_on='2020-10-08T04:24:27.718+00:00', start_time=None, end_time=None, eta=0, run_at=1602131067718, run_duration=0, compute_time=0, wait_time=67, ran_by_user=RanByUser(user_name='souryadipta das', email='souryadipta.das@razorthink.com'), status='IN_PROGRESS', block_status=[PlatformPipelineBlockRun(pipeline_run_id='63ee22b9-94a4-4e08-8424-8bbf00b1301f', pipeline_name='Walmart Inference Pipeline_gpu', pipeline_status='IN_PROGRESS', block_id='eea23515-c76f-44ca-9b23-e7dd731dd1e0', block_run_id='10c996ec-6aea-4e95-8995-f7b84764d440', block_name='Infer_1', resource_spec=ResourceAllocated(cores=8, memory=36000, use_gpu=True, gpu=1, use_gpu_if_available=False, cluster_configuration={'worker': None, 'workerCore': None, 'workerMemory': None, 'numberOfInstances': None, 'maxServerCount': None}, additional_env={}, run_env='PYTHON'), technology='PYTHON', status='READY_TO_GO', containers=[], cluster_id='eea23515-c76f-44ca-9b23-e7dd731dd1e0', _log=None, _metric=None, wait_time=0, compute_time=0, start_time=None, end_time=None, queued_at='2020-10-08T04:24:28.000+00:00')], run_number=346, pipeline_variable_list=[], block_run_details=[BlockRunDetail(block_id='eea23515-c76f-44ca-9b23-e7dd731dd1e0', block_run_id='10c996ec-6aea-4e95-8995-f7b84764d440', block_name='Infer_1', technology='PYTHON', log_path=None, input_parameters='{}', output_parameters=None, status='READY_TO_GO', created_at='2020-10-08T04:24:27.824+00:00', queued_at='2020-10-08T04:24:28.000+00:00', start_time=None, end_time=None, compute_time=0, wait_time=0, run_time=0, block_run_output_list=[], resource_allocated=ResourceAllocated(cores=8, memory=36000, use_gpu=True, gpu=1, use_gpu_if_available=False, cluster_configuration={'worker': None, 'workerCore': None, 'workerMemory': None, 'numberOfInstances': None, 'maxServerCount': None}, additional_env={}, run_env='PYTHON'))], pipeline_json='{\\n  \"id\": \"26ea9982-091e-11eb-bf49-0242ac110006\",\\n  \"projectId\": \"c0b26d85-a4c9-44f5-9d0e-f540dd2de644\",\\n  \"name\": \"Walmart Inference Pipeline_gpu\",\\n  \"description\": \"\",\\n  \"blocks\": [\\n    {\\n      \"name\": \"Infer_1\",\\n      \"id\": \"eea23515-c76f-44ca-9b23-e7dd731dd1e0\",\\n      \"artifact_id\": null,\\n      \"class_name\": \"Infer\",\\n      \"code\": \"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\",\\n      \"isPublishedBlock\": false,\\n      \"source\": null,\\n      \"inputProperty\": {},\\n      \"outputProperty\": {},\\n      \"resourceRequirement\": {\\n        \"cores\": 8,\\n        \"memory\": 36000,\\n        \"useGpu\": true,\\n        \"gpu\": 1,\\n        \"useGpuIfAvailable\": false,\\n        \"clusterConfiguration\": {\\n          \"worker\": null,\\n          \"workerCore\": null,\\n          \"workerMemory\": null,\\n          \"numberOfInstances\": null,\\n          \"maxServerCount\": null\\n        },\\n        \"additionalEnv\": {},\\n        \"runEnv\": \"PYTHON\"\\n      },\\n      \"executionType\": \"BlockExecutor\",\\n      \"dependencies\": [\\n        {\\n          \"libraryId\": \"24d05fb2-8916-4d25-8127-276e57d0bc8d\",\\n          \"libraryVersionId\": \"67ceac05-426d-4c9a-a069-ceb1350c1623\"\\n        },\\n        {\\n          \"libraryId\": \"24d05fb2-8916-4d25-8127-276e57d0bc8d\",\\n          \"libraryVersionId\": \"67ceac05-426d-4c9a-a069-ceb1350c1623\"\\n        }\\n      ],\\n      \"system_dependencies\": null,\\n      \"meta_data\": null,\\n      \"process_id\": null,\\n      \"eta\": 0\\n    }\\n  ],\\n  \"connections\": [],\\n  \"priority\": \"LOW\",\\n  \"infraResourceEstimation\": null,\\n  \"resourceRequirement\": {\\n    \"cores\": null,\\n    \"memory\": null,\\n    \"useGpu\": null,\\n    \"gpu\": null,\\n    \"useGpuIfAvailable\": null,\\n    \"clusterConfiguration\": null,\\n    \"additionalEnv\": {},\\n    \"runEnv\": null\\n  },\\n  \"comments\": null,\\n  \"order\": null,\\n  \"uiData\": null,\\n  \"dom\": null,\\n  \"systemGenerated\": false,\\n  \"systemModel\": false,\\n  \"pipelineVariableList\": [],\\n  \"pipelineTemplateVersion\": 0.0,\\n  \"versionId\": null,\\n  \"engineId\": \"a723b377-09ff-4869-bc03-e2690d149522\",\\n  \"userId\": \"5da82833-9f26-45a6-b329-19ce45acfb70\",\\n  \"runInitiatedFrom\": \"JUPYTER\",\\n  \"processList\": null,\\n  \"processInfo\": null\\n}', dom='Yet to add', order=None, infra_resource='{\\n  \"zookeeper\": {\\n    \"cores\": 1,\\n    \"memory\": 1024,\\n    \"useGpu\": null,\\n    \"gpu\": null,\\n    \"useGpuIfAvailable\": null,\\n    \"clusterConfiguration\": null,\\n    \"additionalEnv\": {},\\n    \"runEnv\": null\\n  },\\n  \"kafka\": {\\n    \"cores\": 1,\\n    \"memory\": 1024,\\n    \"useGpu\": null,\\n    \"gpu\": null,\\n    \"useGpuIfAvailable\": null,\\n    \"clusterConfiguration\": null,\\n    \"additionalEnv\": {},\\n    \"runEnv\": null\\n  }\\n}', resource_spec=ResourceAllocated(cores=None, memory=None, use_gpu=None, gpu=None, use_gpu_if_available=None, cluster_configuration=None, additional_env={}, run_env=None), engine_id='a723b377-09ff-4869-bc03-e2690d149522', run_initiated_from='JUPYTER')"
      ]
     },
     "execution_count": 12,
     "metadata": {},
     "output_type": "execute_result"
    }
   ],
   "source": [
    "deployed_pipeline"
   ]
  },
  {
   "cell_type": "code",
   "execution_count": 13,
   "metadata": {},
   "outputs": [
    {
     "data": {
      "text/html": [
       "<html>\n",
       "\t<table width='100%'>\n",
       "\t\t<tr'><th>Slave Host</th><th>Type</th><th colspan='3' style='text-align: center;'>Usage</th></tr>\n",
       "\t\t<tbody>\n",
       "\t\t\t<tr><td>172.16.104.139 </td><td> INFRASTRUCTURE </td><td> CORE: Used 3 of 16 (18.75%)</td><td>RAM: Used 3.0 of 38.0GB (7.894736842105263%)</td></tr>\n",
       "\n",
       "\t\t\t<tr><td>172.16.114.99 </td><td> TECHNOLOGY </td><td> CORE: Used 13 of 32 (40.625%)</td><td>RAM: Used 85.40625 of 115.0GB (74.26630434782608%)</td></tr>\n",
       "\n",
       "\t\t</tbody>\n",
       "\t</table>\n",
       "</html>"
      ],
      "text/plain": [
       "PlatformEngineHealthList(slave_usage_array=[PlatformEngineHealth(server_ip='172.16.104.139', server_type='INFRASTRUCTURE', server_usage_info=[ServerUsageInfo(label='Current cpu usage', graph_type='bar', unit='', total=16, used=3, available=13, value='CORE'), ServerUsageInfo(label='Current memory usage', graph_type='bar', unit='GB', total=40802189312.0, used=3221225472.0, available=37580963840.0, value='RAM'), ServerUsageInfo(label='Current gpu usage', graph_type='bar', unit='', total=0, used=0, available=0, value='GPU')]), PlatformEngineHealth(server_ip='172.16.114.99', server_type='TECHNOLOGY', server_usage_info=[ServerUsageInfo(label='Current cpu usage', graph_type='bar', unit='', total=32, used=13, available=19, value='CORE'), ServerUsageInfo(label='Current memory usage', graph_type='bar', unit='GB', total=123480309760.0, used=91704262656.0, available=31776047104.0, value='RAM'), ServerUsageInfo(label='Current gpu usage', graph_type='bar', unit='', total=0, used=0, available=0, value='GPU')])])"
      ]
     },
     "execution_count": 13,
     "metadata": {},
     "output_type": "execute_result"
    }
   ],
   "source": [
    "razor.api.engines('DS-engine').health()"
   ]
  },
  {
   "cell_type": "code",
   "execution_count": null,
   "metadata": {},
   "outputs": [],
   "source": [
    "razor.api.engines('DS-engine').queue()"
   ]
  },
  {
   "cell_type": "code",
   "execution_count": null,
   "metadata": {},
   "outputs": [],
   "source": []
  },
  {
   "cell_type": "code",
   "execution_count": 15,
   "metadata": {},
   "outputs": [],
   "source": [
    "lib2 = razor.api.libraries(name='pathos')"
   ]
  },
  {
   "cell_type": "code",
   "execution_count": null,
   "metadata": {},
   "outputs": [],
   "source": []
  }
 ],
 "metadata": {
  "kernelspec": {
   "display_name": "Python 3",
   "language": "python",
   "name": "python3"
  },
  "language_info": {
   "codemirror_mode": {
    "name": "ipython",
    "version": 3
   },
   "file_extension": ".py",
   "mimetype": "text/x-python",
   "name": "python",
   "nbconvert_exporter": "python",
   "pygments_lexer": "ipython3",
   "version": "3.7.6"
  }
 },
 "nbformat": 4,
 "nbformat_minor": 4
}
