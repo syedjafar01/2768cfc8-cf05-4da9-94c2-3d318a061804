{
 "cells": [
  {
   "cell_type": "code",
   "execution_count": 1,
   "id": "settled-metabolism",
   "metadata": {},
   "outputs": [],
   "source": [
    "from razor.api.core import BlockScope\n",
    "from razor.api import blocks\n",
    "import logging\n",
    "\n",
    "logging.basicConfig()\n",
    "logging.getLogger().setLevel(logging.INFO)\n"
   ]
  },
  {
   "cell_type": "code",
   "execution_count": 7,
   "id": "wrong-afghanistan",
   "metadata": {},
   "outputs": [
    {
     "name": "stderr",
     "output_type": "stream",
     "text": [
      "INFO:razor.api.core.block_manager:Block bundle initialized successfully. Please refer walmart_infer/package.yaml to verify/update package.yaml further.\n"
     ]
    }
   ],
   "source": [
    "blocks.init_bundle(bundle=\"walmart_infer\", category=\"INFER\")"
   ]
  },
  {
   "cell_type": "code",
   "execution_count": 8,
   "id": "private-stage",
   "metadata": {},
   "outputs": [
    {
     "name": "stderr",
     "output_type": "stream",
     "text": [
      "INFO:razor.api.impl.block_manager_impl:Packaging requested block bundle...\n",
      "INFO:razor.api.impl.block_manager_impl:Publishing block bundle...\n",
      "INFO:razor.api.impl.block_manager_impl:Block bundle `walmart_infer` published successfully.\n",
      "INFO:razor.api.impl.block_manager_impl:Make sure to restart the Jupyter kernel and then you can use the blocks as follows:\n",
      "INFO:razor.api.impl.block_manager_impl:from razor.project.blocks.walmart_infer import Infer\n"
     ]
    }
   ],
   "source": [
    "blocks.publish(bundle=\"walmart_infer\", scope=BlockScope.PROJECT, overwrite=True)"
   ]
  },
  {
   "cell_type": "code",
   "execution_count": null,
   "id": "hungarian-ecology",
   "metadata": {},
   "outputs": [],
   "source": []
  },
  {
   "cell_type": "code",
   "execution_count": null,
   "id": "solid-examination",
   "metadata": {},
   "outputs": [],
   "source": []
  }
 ],
 "metadata": {
  "kernelspec": {
   "display_name": "Python 3",
   "language": "python",
   "name": "python3"
  },
  "language_info": {
   "codemirror_mode": {
    "name": "ipython",
    "version": 3
   },
   "file_extension": ".py",
   "mimetype": "text/x-python",
   "name": "python",
   "nbconvert_exporter": "python",
   "pygments_lexer": "ipython3",
   "version": "3.7.10"
  }
 },
 "nbformat": 4,
 "nbformat_minor": 5
}
