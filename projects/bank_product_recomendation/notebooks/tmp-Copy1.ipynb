{
 "cells": [
  {
   "cell_type": "code",
   "execution_count": 34,
   "metadata": {},
   "outputs": [],
   "source": [
    "import pandas as pd"
   ]
  },
  {
   "cell_type": "code",
   "execution_count": 35,
   "metadata": {},
   "outputs": [
    {
     "data": {
      "text/plain": [
       "(3350601, 3)"
      ]
     },
     "execution_count": 35,
     "metadata": {},
     "output_type": "execute_result"
    }
   ],
   "source": [
    "df = pd.read_csv(razor.api.project_space_path(\"bank-product-recommendation/data/train.txt\"),sep=\"|\")\n",
    "df = df[['ID_Customer', 'Cod_Prod', 'Cod_Fecha']]\n",
    "df.shape"
   ]
  },
  {
   "cell_type": "code",
   "execution_count": 36,
   "metadata": {},
   "outputs": [
    {
     "name": "stderr",
     "output_type": "stream",
     "text": [
      "/opt/conda/lib/python3.7/site-packages/ipykernel_launcher.py:2: FutureWarning: The pandas.datetime class is deprecated and will be removed from pandas in a future version. Import from datetime module instead.\n",
      "  \n"
     ]
    }
   ],
   "source": [
    "df[\"Cod_Fecha\"] =  pd.to_datetime(df[\"Cod_Fecha\"],format='%Y-%m')\n",
    "primerMes = pd.datetime(2007, 1, 1, 0, 0, 0)"
   ]
  },
  {
   "cell_type": "code",
   "execution_count": 37,
   "metadata": {},
   "outputs": [
    {
     "name": "stdout",
     "output_type": "stream",
     "text": [
      "(3350601, 3)\n",
      "2586137\n"
     ]
    }
   ],
   "source": [
    "print(df.shape)\n",
    "print((df[\"Cod_Fecha\"]>=primerMes).sum())"
   ]
  },
  {
   "cell_type": "code",
   "execution_count": 38,
   "metadata": {},
   "outputs": [],
   "source": [
    "df = df.loc[df[\"Cod_Fecha\"]>=primerMes,]"
   ]
  },
  {
   "cell_type": "code",
   "execution_count": 39,
   "metadata": {},
   "outputs": [
    {
     "data": {
      "text/html": [
       "<div>\n",
       "<style scoped>\n",
       "    .dataframe tbody tr th:only-of-type {\n",
       "        vertical-align: middle;\n",
       "    }\n",
       "\n",
       "    .dataframe tbody tr th {\n",
       "        vertical-align: top;\n",
       "    }\n",
       "\n",
       "    .dataframe thead th {\n",
       "        text-align: right;\n",
       "    }\n",
       "</style>\n",
       "<table border=\"1\" class=\"dataframe\">\n",
       "  <thead>\n",
       "    <tr style=\"text-align: right;\">\n",
       "      <th></th>\n",
       "      <th>ID_Customer</th>\n",
       "      <th>Cod_Prod</th>\n",
       "      <th>Cod_Fecha</th>\n",
       "    </tr>\n",
       "  </thead>\n",
       "  <tbody>\n",
       "    <tr>\n",
       "      <th>0</th>\n",
       "      <td>A0000001</td>\n",
       "      <td>601</td>\n",
       "      <td>2007-05-01</td>\n",
       "    </tr>\n",
       "    <tr>\n",
       "      <th>1</th>\n",
       "      <td>A0000001</td>\n",
       "      <td>704</td>\n",
       "      <td>2013-04-01</td>\n",
       "    </tr>\n",
       "    <tr>\n",
       "      <th>4</th>\n",
       "      <td>A0000001</td>\n",
       "      <td>1011</td>\n",
       "      <td>2011-04-01</td>\n",
       "    </tr>\n",
       "    <tr>\n",
       "      <th>7</th>\n",
       "      <td>A0000002</td>\n",
       "      <td>9992</td>\n",
       "      <td>2015-02-01</td>\n",
       "    </tr>\n",
       "    <tr>\n",
       "      <th>10</th>\n",
       "      <td>A0000003</td>\n",
       "      <td>301</td>\n",
       "      <td>2012-05-01</td>\n",
       "    </tr>\n",
       "  </tbody>\n",
       "</table>\n",
       "</div>"
      ],
      "text/plain": [
       "   ID_Customer  Cod_Prod  Cod_Fecha\n",
       "0     A0000001       601 2007-05-01\n",
       "1     A0000001       704 2013-04-01\n",
       "4     A0000001      1011 2011-04-01\n",
       "7     A0000002      9992 2015-02-01\n",
       "10    A0000003       301 2012-05-01"
      ]
     },
     "execution_count": 39,
     "metadata": {},
     "output_type": "execute_result"
    }
   ],
   "source": [
    "df.head()"
   ]
  },
  {
   "cell_type": "code",
   "execution_count": 40,
   "metadata": {},
   "outputs": [
    {
     "data": {
      "text/html": [
       "<div>\n",
       "<style scoped>\n",
       "    .dataframe tbody tr th:only-of-type {\n",
       "        vertical-align: middle;\n",
       "    }\n",
       "\n",
       "    .dataframe tbody tr th {\n",
       "        vertical-align: top;\n",
       "    }\n",
       "\n",
       "    .dataframe thead th {\n",
       "        text-align: right;\n",
       "    }\n",
       "</style>\n",
       "<table border=\"1\" class=\"dataframe\">\n",
       "  <thead>\n",
       "    <tr style=\"text-align: right;\">\n",
       "      <th></th>\n",
       "      <th>Cod_Prod</th>\n",
       "      <th>Product Names</th>\n",
       "      <th>Product Category</th>\n",
       "    </tr>\n",
       "  </thead>\n",
       "  <tbody>\n",
       "    <tr>\n",
       "      <th>0</th>\n",
       "      <td>601</td>\n",
       "      <td>EverydayCheckingAccounts</td>\n",
       "      <td>Checking Accounts</td>\n",
       "    </tr>\n",
       "    <tr>\n",
       "      <th>1</th>\n",
       "      <td>301</td>\n",
       "      <td>ClearAccessBankingCheckingAccounts</td>\n",
       "      <td>Checking Accounts</td>\n",
       "    </tr>\n",
       "    <tr>\n",
       "      <th>2</th>\n",
       "      <td>201</td>\n",
       "      <td>PreferredCheckingAccounts</td>\n",
       "      <td>Checking Accounts</td>\n",
       "    </tr>\n",
       "    <tr>\n",
       "      <th>3</th>\n",
       "      <td>2302</td>\n",
       "      <td>Everydaysavingaccount</td>\n",
       "      <td>Saving Accounts</td>\n",
       "    </tr>\n",
       "    <tr>\n",
       "      <th>4</th>\n",
       "      <td>9991</td>\n",
       "      <td>DebitCard</td>\n",
       "      <td>Debit Card</td>\n",
       "    </tr>\n",
       "    <tr>\n",
       "      <th>...</th>\n",
       "      <td>...</td>\n",
       "      <td>...</td>\n",
       "      <td>...</td>\n",
       "    </tr>\n",
       "    <tr>\n",
       "      <th>89</th>\n",
       "      <td>803</td>\n",
       "      <td>DisciplinedUSCoreA</td>\n",
       "      <td>Mutual Funds</td>\n",
       "    </tr>\n",
       "    <tr>\n",
       "      <th>90</th>\n",
       "      <td>2901</td>\n",
       "      <td>DisciplinedUSCoreAdmin</td>\n",
       "      <td>Mutual Funds</td>\n",
       "    </tr>\n",
       "    <tr>\n",
       "      <th>91</th>\n",
       "      <td>1308</td>\n",
       "      <td>DisciplinedUSCoreC</td>\n",
       "      <td>Mutual Funds</td>\n",
       "    </tr>\n",
       "    <tr>\n",
       "      <th>92</th>\n",
       "      <td>502</td>\n",
       "      <td>DiscoveryA</td>\n",
       "      <td>Mutual Funds</td>\n",
       "    </tr>\n",
       "    <tr>\n",
       "      <th>93</th>\n",
       "      <td>1312</td>\n",
       "      <td>DiscoveryAdmin</td>\n",
       "      <td>Mutual Funds</td>\n",
       "    </tr>\n",
       "  </tbody>\n",
       "</table>\n",
       "<p>94 rows × 3 columns</p>\n",
       "</div>"
      ],
      "text/plain": [
       "    Cod_Prod                       Product Names   Product Category\n",
       "0        601            EverydayCheckingAccounts  Checking Accounts\n",
       "1        301  ClearAccessBankingCheckingAccounts  Checking Accounts\n",
       "2        201           PreferredCheckingAccounts  Checking Accounts\n",
       "3       2302               Everydaysavingaccount    Saving Accounts\n",
       "4       9991                           DebitCard         Debit Card\n",
       "..       ...                                 ...                ...\n",
       "89       803                  DisciplinedUSCoreA       Mutual Funds\n",
       "90      2901              DisciplinedUSCoreAdmin       Mutual Funds\n",
       "91      1308                  DisciplinedUSCoreC       Mutual Funds\n",
       "92       502                          DiscoveryA       Mutual Funds\n",
       "93      1312                      DiscoveryAdmin       Mutual Funds\n",
       "\n",
       "[94 rows x 3 columns]"
      ]
     },
     "execution_count": 40,
     "metadata": {},
     "output_type": "execute_result"
    }
   ],
   "source": [
    "prod_map = pd.read_csv('DataGeneration/data/product_details.csv', usecols = ['Cod_Prod','Product Names','Product Category'])\n",
    "prod_map['Product Names'] = prod_map['Product Names'].str.strip()\n",
    "prod_map['Product Names'] = prod_map['Product Names'].str.replace('\\W', '')\n",
    "prod_map"
   ]
  },
  {
   "cell_type": "code",
   "execution_count": 41,
   "metadata": {},
   "outputs": [
    {
     "data": {
      "text/html": [
       "<div>\n",
       "<style scoped>\n",
       "    .dataframe tbody tr th:only-of-type {\n",
       "        vertical-align: middle;\n",
       "    }\n",
       "\n",
       "    .dataframe tbody tr th {\n",
       "        vertical-align: top;\n",
       "    }\n",
       "\n",
       "    .dataframe thead th {\n",
       "        text-align: right;\n",
       "    }\n",
       "</style>\n",
       "<table border=\"1\" class=\"dataframe\">\n",
       "  <thead>\n",
       "    <tr style=\"text-align: right;\">\n",
       "      <th></th>\n",
       "      <th>ID_Customer</th>\n",
       "      <th>Cod_Prod</th>\n",
       "      <th>Cod_Fecha</th>\n",
       "      <th>Product Names</th>\n",
       "      <th>Product Category</th>\n",
       "    </tr>\n",
       "  </thead>\n",
       "  <tbody>\n",
       "    <tr>\n",
       "      <th>0</th>\n",
       "      <td>A0000001</td>\n",
       "      <td>601</td>\n",
       "      <td>2007-05-01</td>\n",
       "      <td>EverydayCheckingAccounts</td>\n",
       "      <td>Checking Accounts</td>\n",
       "    </tr>\n",
       "    <tr>\n",
       "      <th>1</th>\n",
       "      <td>A0000004</td>\n",
       "      <td>601</td>\n",
       "      <td>2008-05-01</td>\n",
       "      <td>EverydayCheckingAccounts</td>\n",
       "      <td>Checking Accounts</td>\n",
       "    </tr>\n",
       "    <tr>\n",
       "      <th>2</th>\n",
       "      <td>A0000006</td>\n",
       "      <td>601</td>\n",
       "      <td>2012-11-01</td>\n",
       "      <td>EverydayCheckingAccounts</td>\n",
       "      <td>Checking Accounts</td>\n",
       "    </tr>\n",
       "    <tr>\n",
       "      <th>3</th>\n",
       "      <td>A0000007</td>\n",
       "      <td>601</td>\n",
       "      <td>2012-08-01</td>\n",
       "      <td>EverydayCheckingAccounts</td>\n",
       "      <td>Checking Accounts</td>\n",
       "    </tr>\n",
       "    <tr>\n",
       "      <th>4</th>\n",
       "      <td>A0000008</td>\n",
       "      <td>601</td>\n",
       "      <td>2014-03-01</td>\n",
       "      <td>EverydayCheckingAccounts</td>\n",
       "      <td>Checking Accounts</td>\n",
       "    </tr>\n",
       "  </tbody>\n",
       "</table>\n",
       "</div>"
      ],
      "text/plain": [
       "  ID_Customer  Cod_Prod  Cod_Fecha             Product Names  \\\n",
       "0    A0000001       601 2007-05-01  EverydayCheckingAccounts   \n",
       "1    A0000004       601 2008-05-01  EverydayCheckingAccounts   \n",
       "2    A0000006       601 2012-11-01  EverydayCheckingAccounts   \n",
       "3    A0000007       601 2012-08-01  EverydayCheckingAccounts   \n",
       "4    A0000008       601 2014-03-01  EverydayCheckingAccounts   \n",
       "\n",
       "    Product Category  \n",
       "0  Checking Accounts  \n",
       "1  Checking Accounts  \n",
       "2  Checking Accounts  \n",
       "3  Checking Accounts  \n",
       "4  Checking Accounts  "
      ]
     },
     "execution_count": 41,
     "metadata": {},
     "output_type": "execute_result"
    }
   ],
   "source": [
    "df = df.merge(prod_map,on='Cod_Prod')\n",
    "df.head()"
   ]
  },
  {
   "cell_type": "code",
   "execution_count": 42,
   "metadata": {},
   "outputs": [
    {
     "name": "stdout",
     "output_type": "stream",
     "text": [
      "(2586137, 5)\n",
      "602673\n"
     ]
    }
   ],
   "source": [
    "print(df.shape)\n",
    "print(df.ID_Customer.nunique())"
   ]
  },
  {
   "cell_type": "code",
   "execution_count": 43,
   "metadata": {},
   "outputs": [
    {
     "data": {
      "text/plain": [
       "['ClassicValueFundInst',\n",
       " 'RothIRA',\n",
       " 'Premier2YearFlexibleCashISAExclusivelyforPremiercustomers',\n",
       " 'DiversifiedCapBldrC',\n",
       " 'Usefundsfromyourhomemortgage',\n",
       " '2YearFlexibleBond',\n",
       " 'BusinessLoan',\n",
       " 'CareerandCommunityCollegeStudentLoan',\n",
       " 'AdjustableRateGovtInst',\n",
       " 'InstantCashISA']"
      ]
     },
     "execution_count": 43,
     "metadata": {},
     "output_type": "execute_result"
    }
   ],
   "source": [
    "products = list(set(df['Product Names']))\n",
    "products[:10]"
   ]
  },
  {
   "cell_type": "code",
   "execution_count": 44,
   "metadata": {},
   "outputs": [
    {
     "name": "stdout",
     "output_type": "stream",
     "text": [
      "93\n"
     ]
    },
    {
     "data": {
      "text/plain": [
       "['DiscoveryAdmin']"
      ]
     },
     "execution_count": 44,
     "metadata": {},
     "output_type": "execute_result"
    }
   ],
   "source": [
    "print(len(products))\n",
    "[p for p in prod_map['Product Names'] if p not in products] #<-- mutual fund missing"
   ]
  },
  {
   "cell_type": "code",
   "execution_count": 46,
   "metadata": {},
   "outputs": [
    {
     "name": "stdout",
     "output_type": "stream",
     "text": [
      "EverydayCheckingAccounts-----------Checking Accounts\n",
      "ClearAccessBankingCheckingAccounts-----------Checking Accounts\n",
      "PreferredCheckingAccounts-----------Checking Accounts\n",
      "Everydaysavingaccount-----------Saving Accounts\n",
      "DebitCard-----------Debit Card\n"
     ]
    }
   ],
   "source": [
    "i=0\n",
    "for p,q in zip(prod_map['Product Names'],prod_map['Product Category']):\n",
    "    if p!='DiscoveryAdmin' and i !=5:\n",
    "        print(p+\"-----------\"+q)\n",
    "        df.loc[df['Product Names']==p,p]=2\n",
    "        df.loc[df['Product Category']==q,p]=1\n",
    "        df.loc[(df['Product Names']!=p) & (df['Product Category']!=q),p]=0\n",
    "        i+=1"
   ]
  },
  {
   "cell_type": "code",
   "execution_count": 47,
   "metadata": {},
   "outputs": [
    {
     "data": {
      "text/html": [
       "<div>\n",
       "<style scoped>\n",
       "    .dataframe tbody tr th:only-of-type {\n",
       "        vertical-align: middle;\n",
       "    }\n",
       "\n",
       "    .dataframe tbody tr th {\n",
       "        vertical-align: top;\n",
       "    }\n",
       "\n",
       "    .dataframe thead th {\n",
       "        text-align: right;\n",
       "    }\n",
       "</style>\n",
       "<table border=\"1\" class=\"dataframe\">\n",
       "  <thead>\n",
       "    <tr style=\"text-align: right;\">\n",
       "      <th></th>\n",
       "      <th>ID_Customer</th>\n",
       "      <th>Cod_Prod</th>\n",
       "      <th>Cod_Fecha</th>\n",
       "      <th>Product Names</th>\n",
       "      <th>Product Category</th>\n",
       "      <th>EverydayCheckingAccounts</th>\n",
       "      <th>ClearAccessBankingCheckingAccounts</th>\n",
       "      <th>PreferredCheckingAccounts</th>\n",
       "      <th>Everydaysavingaccount</th>\n",
       "      <th>DebitCard</th>\n",
       "    </tr>\n",
       "  </thead>\n",
       "  <tbody>\n",
       "    <tr>\n",
       "      <th>0</th>\n",
       "      <td>A0000001</td>\n",
       "      <td>601</td>\n",
       "      <td>2007-05-01</td>\n",
       "      <td>EverydayCheckingAccounts</td>\n",
       "      <td>Checking Accounts</td>\n",
       "      <td>1.0</td>\n",
       "      <td>1.0</td>\n",
       "      <td>1.0</td>\n",
       "      <td>0.0</td>\n",
       "      <td>0.0</td>\n",
       "    </tr>\n",
       "    <tr>\n",
       "      <th>1</th>\n",
       "      <td>A0000004</td>\n",
       "      <td>601</td>\n",
       "      <td>2008-05-01</td>\n",
       "      <td>EverydayCheckingAccounts</td>\n",
       "      <td>Checking Accounts</td>\n",
       "      <td>1.0</td>\n",
       "      <td>1.0</td>\n",
       "      <td>1.0</td>\n",
       "      <td>0.0</td>\n",
       "      <td>0.0</td>\n",
       "    </tr>\n",
       "    <tr>\n",
       "      <th>2</th>\n",
       "      <td>A0000006</td>\n",
       "      <td>601</td>\n",
       "      <td>2012-11-01</td>\n",
       "      <td>EverydayCheckingAccounts</td>\n",
       "      <td>Checking Accounts</td>\n",
       "      <td>1.0</td>\n",
       "      <td>1.0</td>\n",
       "      <td>1.0</td>\n",
       "      <td>0.0</td>\n",
       "      <td>0.0</td>\n",
       "    </tr>\n",
       "    <tr>\n",
       "      <th>3</th>\n",
       "      <td>A0000007</td>\n",
       "      <td>601</td>\n",
       "      <td>2012-08-01</td>\n",
       "      <td>EverydayCheckingAccounts</td>\n",
       "      <td>Checking Accounts</td>\n",
       "      <td>1.0</td>\n",
       "      <td>1.0</td>\n",
       "      <td>1.0</td>\n",
       "      <td>0.0</td>\n",
       "      <td>0.0</td>\n",
       "    </tr>\n",
       "    <tr>\n",
       "      <th>4</th>\n",
       "      <td>A0000008</td>\n",
       "      <td>601</td>\n",
       "      <td>2014-03-01</td>\n",
       "      <td>EverydayCheckingAccounts</td>\n",
       "      <td>Checking Accounts</td>\n",
       "      <td>1.0</td>\n",
       "      <td>1.0</td>\n",
       "      <td>1.0</td>\n",
       "      <td>0.0</td>\n",
       "      <td>0.0</td>\n",
       "    </tr>\n",
       "    <tr>\n",
       "      <th>...</th>\n",
       "      <td>...</td>\n",
       "      <td>...</td>\n",
       "      <td>...</td>\n",
       "      <td>...</td>\n",
       "      <td>...</td>\n",
       "      <td>...</td>\n",
       "      <td>...</td>\n",
       "      <td>...</td>\n",
       "      <td>...</td>\n",
       "      <td>...</td>\n",
       "    </tr>\n",
       "    <tr>\n",
       "      <th>2586132</th>\n",
       "      <td>A0456842</td>\n",
       "      <td>104</td>\n",
       "      <td>2007-05-01</td>\n",
       "      <td>ClassicValueFundC</td>\n",
       "      <td>Mutual Funds</td>\n",
       "      <td>0.0</td>\n",
       "      <td>0.0</td>\n",
       "      <td>0.0</td>\n",
       "      <td>0.0</td>\n",
       "      <td>0.0</td>\n",
       "    </tr>\n",
       "    <tr>\n",
       "      <th>2586133</th>\n",
       "      <td>A0456990</td>\n",
       "      <td>104</td>\n",
       "      <td>2009-06-01</td>\n",
       "      <td>ClassicValueFundC</td>\n",
       "      <td>Mutual Funds</td>\n",
       "      <td>0.0</td>\n",
       "      <td>0.0</td>\n",
       "      <td>0.0</td>\n",
       "      <td>0.0</td>\n",
       "      <td>0.0</td>\n",
       "    </tr>\n",
       "    <tr>\n",
       "      <th>2586134</th>\n",
       "      <td>A0457559</td>\n",
       "      <td>104</td>\n",
       "      <td>2009-02-01</td>\n",
       "      <td>ClassicValueFundC</td>\n",
       "      <td>Mutual Funds</td>\n",
       "      <td>0.0</td>\n",
       "      <td>0.0</td>\n",
       "      <td>0.0</td>\n",
       "      <td>0.0</td>\n",
       "      <td>0.0</td>\n",
       "    </tr>\n",
       "    <tr>\n",
       "      <th>2586135</th>\n",
       "      <td>A0458116</td>\n",
       "      <td>104</td>\n",
       "      <td>2007-06-01</td>\n",
       "      <td>ClassicValueFundC</td>\n",
       "      <td>Mutual Funds</td>\n",
       "      <td>0.0</td>\n",
       "      <td>0.0</td>\n",
       "      <td>0.0</td>\n",
       "      <td>0.0</td>\n",
       "      <td>0.0</td>\n",
       "    </tr>\n",
       "    <tr>\n",
       "      <th>2586136</th>\n",
       "      <td>A0458251</td>\n",
       "      <td>104</td>\n",
       "      <td>2007-12-01</td>\n",
       "      <td>ClassicValueFundC</td>\n",
       "      <td>Mutual Funds</td>\n",
       "      <td>0.0</td>\n",
       "      <td>0.0</td>\n",
       "      <td>0.0</td>\n",
       "      <td>0.0</td>\n",
       "      <td>0.0</td>\n",
       "    </tr>\n",
       "  </tbody>\n",
       "</table>\n",
       "<p>2586137 rows × 10 columns</p>\n",
       "</div>"
      ],
      "text/plain": [
       "        ID_Customer  Cod_Prod  Cod_Fecha             Product Names  \\\n",
       "0          A0000001       601 2007-05-01  EverydayCheckingAccounts   \n",
       "1          A0000004       601 2008-05-01  EverydayCheckingAccounts   \n",
       "2          A0000006       601 2012-11-01  EverydayCheckingAccounts   \n",
       "3          A0000007       601 2012-08-01  EverydayCheckingAccounts   \n",
       "4          A0000008       601 2014-03-01  EverydayCheckingAccounts   \n",
       "...             ...       ...        ...                       ...   \n",
       "2586132    A0456842       104 2007-05-01         ClassicValueFundC   \n",
       "2586133    A0456990       104 2009-06-01         ClassicValueFundC   \n",
       "2586134    A0457559       104 2009-02-01         ClassicValueFundC   \n",
       "2586135    A0458116       104 2007-06-01         ClassicValueFundC   \n",
       "2586136    A0458251       104 2007-12-01         ClassicValueFundC   \n",
       "\n",
       "          Product Category  EverydayCheckingAccounts  \\\n",
       "0        Checking Accounts                       1.0   \n",
       "1        Checking Accounts                       1.0   \n",
       "2        Checking Accounts                       1.0   \n",
       "3        Checking Accounts                       1.0   \n",
       "4        Checking Accounts                       1.0   \n",
       "...                    ...                       ...   \n",
       "2586132       Mutual Funds                       0.0   \n",
       "2586133       Mutual Funds                       0.0   \n",
       "2586134       Mutual Funds                       0.0   \n",
       "2586135       Mutual Funds                       0.0   \n",
       "2586136       Mutual Funds                       0.0   \n",
       "\n",
       "         ClearAccessBankingCheckingAccounts  PreferredCheckingAccounts  \\\n",
       "0                                       1.0                        1.0   \n",
       "1                                       1.0                        1.0   \n",
       "2                                       1.0                        1.0   \n",
       "3                                       1.0                        1.0   \n",
       "4                                       1.0                        1.0   \n",
       "...                                     ...                        ...   \n",
       "2586132                                 0.0                        0.0   \n",
       "2586133                                 0.0                        0.0   \n",
       "2586134                                 0.0                        0.0   \n",
       "2586135                                 0.0                        0.0   \n",
       "2586136                                 0.0                        0.0   \n",
       "\n",
       "         Everydaysavingaccount  DebitCard  \n",
       "0                          0.0        0.0  \n",
       "1                          0.0        0.0  \n",
       "2                          0.0        0.0  \n",
       "3                          0.0        0.0  \n",
       "4                          0.0        0.0  \n",
       "...                        ...        ...  \n",
       "2586132                    0.0        0.0  \n",
       "2586133                    0.0        0.0  \n",
       "2586134                    0.0        0.0  \n",
       "2586135                    0.0        0.0  \n",
       "2586136                    0.0        0.0  \n",
       "\n",
       "[2586137 rows x 10 columns]"
      ]
     },
     "execution_count": 47,
     "metadata": {},
     "output_type": "execute_result"
    }
   ],
   "source": [
    "df"
   ]
  },
  {
   "cell_type": "code",
   "execution_count": 2,
   "metadata": {},
   "outputs": [],
   "source": [
    "import razor.flow as rf\n",
    "import numpy as np\n",
    "\n",
    "@rf.block\n",
    "class CustomDataGenSession:\n",
    "    out_df: rf.Output[pd.core.frame.DataFrame]\n",
    "    def run(self):\n",
    "        df = pd.read_csv(razor.api.project_space_path(\"/train.txt\"),sep=\"|\")\n",
    "        df = df[['ID_Customer', 'Cod_Prod', 'Cod_Fecha']]\n",
    "        df[\"Cod_Fecha\"] =  pd.to_datetime(df[\"Cod_Fecha\"],format='%Y-%m')\n",
    "        primerMes = pd.datetime(2007, 1, 1, 0, 0, 0)\n",
    "        df = df.loc[df[\"Cod_Fecha\"]>=primerMes,]\n",
    "        prod_map = pd.read_csv(razor.api.project_space_path(\"/cajamar_product_map.csv\"))\n",
    "        prod_map['Product Names'] = prod_map['Product Names'].str.strip()\n",
    "        prod_map['Product Names'] = prod_map['Product Names'].str.replace('\\W', '')\n",
    "        df = df.merge(prod_map,on='Cod_Prod')\n",
    "        for p,q in zip(prod_map['Product Names'],prod_map['Product Category']):\n",
    "            if p!='DiscoveryAdmin':\n",
    "                print(p+\"-----------\"+q)\n",
    "                df.loc[(df['Product Names']!=p) & (df['Product Category']!=q),p]=0\n",
    "                df.loc[df['Product Category']==q,p]=np.random.choice(np.arange(25,100),(df['Product Category']==q).sum())\n",
    "                df.loc[df['Product Names']==p,p]=np.random.choice(np.arange(10,75),(df['Product Names']==p).sum())\n",
    "                df[p] = df[p].astype('int')\n",
    "        #roll to cust month with every customer and every month with prev month logic\n",
    "        col_prods = [x for x in list(prod_map['Product Names']) if x!=\"DiscoveryAdmin\"]\n",
    "        df = df.groupby(['ID_Customer','Cod_Fecha'])[col_prods].sum().reset_index()\n",
    "        df.to_csv(razor.api.project_space_path(\"/sess_data.csv\"),index=False)\n",
    "        # self.logger.info(df.head())\n",
    "        # self.logger.info(df.columns)\n",
    "        self.out_df.put(df)"
   ]
  },
  {
   "cell_type": "code",
   "execution_count": 2,
   "metadata": {},
   "outputs": [],
   "source": [
    "import razor.flow as rf\n",
    "import numpy as np\n",
    "\n",
    "@rf.block\n",
    "class CustomDataGenSession2:\n",
    "    out_df: rf.Output[pd.core.frame.DataFrame]\n",
    "    def run(self):\n",
    "        df = pd.read_csv(razor.api.project_space_path(\"/sess_data.csv\"))\n",
    "        tmp1 = df[['Cod_Fecha']].drop_duplicates().copy()\n",
    "        tmp1['key'] = 1\n",
    "        tmp2 = df[['ID_Customer']].drop_duplicates().copy()\n",
    "        tmp2['key'] = 1\n",
    "        tmp3 = tmp1.merge(tmp2,on='key')\n",
    "        del(tmp1)\n",
    "        del(tmp2)\n",
    "        tmp3 = tmp3.sort_values(['ID_Customer','Cod_Fecha']).reset_index()\n",
    "        tmp3 = tmp3.drop(columns=['index','key'])\n",
    "        # df = tmp3.merge(df,how=\"left\",on=['ID_Customer','Cod_Fecha']).fillna(0)\n",
    "        tmp3.to_csv(razor.api.project_space_path(\"/sess_data_main.csv\"),index=False)\n",
    "        self.logger.info(tmp3.head())\n",
    "        self.out_df.put(tmp3)"
   ]
  },
  {
   "cell_type": "code",
   "execution_count": 15,
   "metadata": {},
   "outputs": [],
   "source": [
    "import razor.flow as rf\n",
    "import numpy as np\n",
    "\n",
    "@rf.block\n",
    "class CustomDataGenSession3:\n",
    "    out_df: rf.Output[pd.core.frame.DataFrame]\n",
    "    def run(self):\n",
    "        df = pd.read_csv(razor.api.project_space_path(\"/sess_data.csv\"))\n",
    "        tmp3 = pd.read_csv(razor.api.project_space_path(\"/sess_data_main.csv\"))\n",
    "        df = tmp3.merge(df,how=\"left\",on=['ID_Customer','Cod_Fecha'])\n",
    "        df.to_csv(razor.api.project_space_path(\"/sess_data_final.csv\"),index=False)\n",
    "        self.logger.info(tmp3.head())\n",
    "        self.out_df.put(tmp3)"
   ]
  },
  {
   "cell_type": "code",
   "execution_count": 16,
   "metadata": {},
   "outputs": [],
   "source": [
    "cust_gen_sess = CustomDataGenSession3()\n",
    "cust_gen_sess.executor =  rf.ContainerExecutor(cores=20, memory=70048)"
   ]
  },
  {
   "cell_type": "code",
   "execution_count": 17,
   "metadata": {},
   "outputs": [
    {
     "data": {
      "application/vnd.razorthink.interactive+pipeline+view+json": {
       "blocks": [
        {
         "class_name": "CustomDataGenSession3",
         "id": "d4f6121d-c93d-4438-9dd0-9490ee260f95",
         "inputs": [],
         "outputs": [
          {
           "flow": "atomic",
           "help": null,
           "label": "out_df",
           "name": "out_df",
           "series": false,
           "type": "DataFrame",
           "type_check": true
          }
         ],
         "overwritten": false,
         "var_names": [
          "CustomDataGenSession3"
         ]
        }
       ],
       "connections": [],
       "id": "ff050aa5-6964-43b6-87b1-628a9d296923",
       "instances": [
        {
         "block_class": "d4f6121d-c93d-4438-9dd0-9490ee260f95",
         "id": "f685df63-f57a-4ffa-81d3-8a211762400c",
         "name": "CustomDataGenSession3_1",
         "var_names": [
          "cust_gen_sess"
         ]
        }
       ],
       "name": "cust_datagen_session",
       "var_names": []
      },
      "image/svg+xml": [
       "<?xml version=\"1.0\" encoding=\"UTF-8\" standalone=\"no\"?>\n",
       "<!DOCTYPE svg PUBLIC \"-//W3C//DTD SVG 1.1//EN\"\n",
       " \"http://www.w3.org/Graphics/SVG/1.1/DTD/svg11.dtd\">\n",
       "<!-- Generated by graphviz version 2.43.0 (0)\n",
       " -->\n",
       "<!-- Title: %3 Pages: 1 -->\n",
       "<svg width=\"348pt\" height=\"44pt\"\n",
       " viewBox=\"0.00 0.00 348.25 44.00\" xmlns=\"http://www.w3.org/2000/svg\" xmlns:xlink=\"http://www.w3.org/1999/xlink\">\n",
       "<g id=\"graph0\" class=\"graph\" transform=\"scale(1 1) rotate(0) translate(4 40)\">\n",
       "<title>%3</title>\n",
       "<polygon fill=\"white\" stroke=\"transparent\" points=\"-4,4 -4,-40 344.25,-40 344.25,4 -4,4\"/>\n",
       "<!-- CustomDataGenSession3(&#39;CustomDataGenSession3_1&#39;) -->\n",
       "<g id=\"node1\" class=\"node\">\n",
       "<title>CustomDataGenSession3(&#39;CustomDataGenSession3_1&#39;)</title>\n",
       "<ellipse fill=\"none\" stroke=\"black\" cx=\"170.12\" cy=\"-18\" rx=\"170.25\" ry=\"18\"/>\n",
       "<text text-anchor=\"middle\" x=\"170.12\" y=\"-15.5\" font-family=\"Helvetica,sans-Serif\" font-size=\"10.00\">CustomDataGenSession3(&#39;CustomDataGenSession3_1&#39;)</text>\n",
       "</g>\n",
       "</g>\n",
       "</svg>\n"
      ],
      "text/plain": [
       "<razor.flow.pipeline.Pipeline at 0x7fb77781ce90>"
      ]
     },
     "execution_count": 17,
     "metadata": {},
     "output_type": "execute_result"
    }
   ],
   "source": [
    "pipeline = rf.Pipeline(name=\"cust_datagen_session\",targets=[cust_gen_sess])\n",
    "pipeline"
   ]
  },
  {
   "cell_type": "code",
   "execution_count": 18,
   "metadata": {},
   "outputs": [
    {
     "data": {
      "application/vnd.razorthink.run+monitor+json": "/home/jovyan/logs/3617b655-814f-4710-8a1c-e7ea935c8939",
      "text/plain": [
       "<razor_tools.backend.ipython.mime.run_monitor.RunMonitor at 0x7fb7777fcd10>"
      ]
     },
     "metadata": {
      "application/vnd.razorthink.run+monitor+json": {
       "store_in_notebook": false
      }
     },
     "output_type": "display_data"
    },
    {
     "data": {
      "text/html": [],
      "text/plain": [
       "PlatformPipelineRun(project_id='847228a6-2721-483c-a761-529bbb5cf0af', pipeline_id='041e9794-2991-11eb-b21a-0242ac110004', pipeline_name='cust_datagen_session', pipeline_run_id='3617b655-814f-4710-8a1c-e7ea935c8939', pipeline_version=None, comment=None, created_on='2020-11-18T11:27:24.357+00:00', start_time=None, end_time=None, eta=0, run_at=1605698844357, run_duration=0, compute_time=0, wait_time=282, ran_by_user=RanByUser(user_name='Sidharth Behera', email='siddharth.behera@razorthink.com'), status='YET_TO_START', block_status=[PlatformPipelineBlockRun(pipeline_run_id='3617b655-814f-4710-8a1c-e7ea935c8939', pipeline_name='cust_datagen_session', pipeline_status='YET_TO_START', block_id='94ae5216-a773-441c-a39e-47424ef49cbd', block_run_id='c07a6b0c-3431-4fa7-b284-a4f8743a468f', block_name='CustomDataGenSession3_1', resource_spec=ResourceAllocated(cores=20, memory=70048, use_gpu=False, gpu=0, use_gpu_if_available=False, cluster_configuration={'worker': None, 'workerCore': None, 'workerMemory': None, 'numberOfInstances': None, 'maxServerCount': None}, additional_env={}, run_env='PYTHON'), technology='PYTHON', status='READY_TO_GO', containers=[], cluster_id='94ae5216-a773-441c-a39e-47424ef49cbd', _log=None, _metric=None, wait_time=0, compute_time=0, start_time=None, end_time=None, queued_at='2020-11-18T11:27:25.000+00:00')], run_number=29, pipeline_variable_list=[], block_run_details=[BlockRunDetail(block_id='94ae5216-a773-441c-a39e-47424ef49cbd', block_run_id='c07a6b0c-3431-4fa7-b284-a4f8743a468f', block_name='CustomDataGenSession3_1', technology='PYTHON', log_path=None, input_parameters='{}', output_parameters=None, status='READY_TO_GO', created_at='2020-11-18T11:27:24.527+00:00', queued_at='2020-11-18T11:27:25.000+00:00', start_time=None, end_time=None, compute_time=0, wait_time=0, run_time=0, block_run_output_list=[], resource_allocated=ResourceAllocated(cores=20, memory=70048, use_gpu=False, gpu=0, use_gpu_if_available=False, cluster_configuration={'worker': None, 'workerCore': None, 'workerMemory': None, 'numberOfInstances': None, 'maxServerCount': None}, additional_env={}, run_env='PYTHON'))], pipeline_json='{\\n  \"id\": \"041e9794-2991-11eb-b21a-0242ac110004\",\\n  \"projectId\": \"847228a6-2721-483c-a761-529bbb5cf0af\",\\n  \"name\": \"cust_datagen_session\",\\n  \"description\": \"\",\\n  \"blocks\": [\\n    {\\n      \"name\": \"CustomDataGenSession3_1\",\\n      \"id\": \"94ae5216-a773-441c-a39e-47424ef49cbd\",\\n      \"artifact_id\": null,\\n      \"class_name\": \"CustomDataGenSession3\",\\n      \"code\": \"eJyNVs9vE0cU3l3/iJ2UAAkNoq1KharKqIpNYmOwQBxqoGotGYlUnIqG2Z1Zz8br3e3ObGgqR2qFQoI0nDI9VFWl5Nj+Ddwq9d9q38yusYU41D549s3svPd973tf8nP5179qlvnIy14YZyQJvHFImwtrJa+glLJ9kmJBER/TkIo4Ql6IOVcnqsEseQlN8Ph9e7LmZkEogogrWRb7CYWg/LCfcRFP7mOBv6bRDuU8iKO2Yk6DlRtsidVYRVZjd5d6Ao4fqgMllxAisYeQGnL5Wa+7ddvbvtVub23f6tymros77nbH7/lbHVhvYzUU6jG81ZDLCE1ikoUU3pQ1eMBBpJfnEcJRFAssIDOHCKSoxplAxFeyjuKEAtY4hbwjKgJBJ7rstRT/FKdNP4yfN+FskgkAVX1kVnr/YoIjgnnTi1Pa9FM8AebqGuRDsz5RL6EqLktpFingbBX5QRgiP4s8XUXB5Pk5k2YLwhA9hwoa0YzDWj8m9Dv9cAi3Ngb2wBqUBpVBvx8J69QWzm7ptEzsM/ge2AsRx0ScqbNbmdqkRMqkMnJI9XXpwJ7au9Xi1NKZTWqk/tqxram1u3Ramzqn9TPrzDbPy6crU0evibVjqcZQrrY4NBERwNr0+J6S6/OA4TyPlkPqCyVXvrmPcgVQYLgOQNBD6jGsZInFz5V0gIyXSl5auMMPIhyaS17JShAR+iPAFtBgJyHARUoxQSZFxfQIbsJJAB1L0lirCPEEexQlWDA4AmlH0JqqiPN3qmE8GulSykHkx/DD4DrFNmRJNxYKLnMagi4cLY6ymCRtdaTk1btBsi9YHG0GEZzb3Lq5eavb7bqdXm/7JnbvKXZtsNT/wLLX4HvJ3rAv2Or6dS3Mb/+Fj1bnCoKSvDEeaXkOtT4jEAqs2Xp2VCh4aRTGLg65fmA9kEKdZ24wSeLUaK6aa86IgN1hT9gdvcpkjVAfZyEodCjLJIBBAoWvwlDzLKVoD4cZ1VvVfDogoSzr3FC0LMGgwdZltGABCJLmR7l6CoU8kcuF2DXPJvkTWc/nYxahcmVhxnT+2g8ZDk0aeeW9FtDUoyGXx8/n1WfiMQwkCrELA6FZWkVmBpDHqDeGyLE+cXFhNN0w9sYwmZWv9MKM3YFi57RxkPYN9zbudV1Cup1ep9trE7eN/ZvEwze222361jjYGkvlBYTMXcg0uHCJi7Ng4QAmyjbYJ9d/Mf2qmEo1tZymAdD1SuspTHQfzOyyqwyDtuoixRE3bRzK5TkiwONyuTbLApfsBR4tkoNt5SaF8haqIWSuyBrIHBxL7BsP+bzBvmBf5o5ggyOs99cETC2xj63fLeL8UXrhwNQOpaONcGl201HudViIFLrHHhwq2WkxGNHWbry3j6NWGLi81Swas2meDOktTXorJ72Z7IMk4RoB4zT4u+9YtmL4UBnZD2xNLICd90qxR8Az6B6c0Oj+ZKZ7tgOsfj9kT+EHPQWCMXvGUmBOMXfIPIiMYWciP83tckZA8y7UAdNyr1kUwWKtoLecOMCJMygDJxeO7al1bE3tF6XCx4ZQJ3sgKzkfL6EY3cMcyj8FFBNBvvanHJPDfnt/xQ3oTCrXC5mgCVCLittOFC3A/Pk/wfBFMEMjUs1aEAVCs/Yuup3+R9rxp8avYeVMAeeZM8fJOHsDf1NQEnMxu+UIms4w+G7tLhdpEI3Awd4MnH7Zcpbfca5FxJwJDrDhTgN8yJ4NAdibRWAYJFqCOwE4B5Qfe2DX8I+EH80BzrEYiHIDmeHVYS5wBN7txVkkQEOw2/wP1eBHkA==\",\\n      \"isPublishedBlock\": false,\\n      \"source\": null,\\n      \"inputProperty\": {},\\n      \"outputProperty\": {\\n        \"out_df\": {\\n          \"series\": false,\\n          \"adapter\": \"eJxrYJmqxgABPYJFiVX5RXppOfnlern5Kak5xVN6ePLy8wviE1MSC0pSi6ZMnqIHAF/+ELQ=\",\\n          \"transport\": \"KAFKA\"\\n        }\\n      },\\n      \"resourceRequirement\": {\\n        \"cores\": 20,\\n        \"memory\": 70048,\\n        \"useGpu\": false,\\n        \"gpu\": 0,\\n        \"useGpuIfAvailable\": false,\\n        \"clusterConfiguration\": {\\n          \"worker\": null,\\n          \"workerCore\": null,\\n          \"workerMemory\": null,\\n          \"numberOfInstances\": null,\\n          \"maxServerCount\": null\\n        },\\n        \"additionalEnv\": {},\\n        \"runEnv\": \"PYTHON\"\\n      },\\n      \"executionType\": \"BlockExecutor\",\\n      \"dependencies\": [],\\n      \"system_dependencies\": null,\\n      \"meta_data\": null,\\n      \"process_id\": null,\\n      \"eta\": 0,\\n      \"services\": {}\\n    }\\n  ],\\n  \"connections\": [],\\n  \"priority\": \"LOW\",\\n  \"infraResourceEstimation\": null,\\n  \"resourceRequirement\": {\\n    \"cores\": null,\\n    \"memory\": null,\\n    \"useGpu\": null,\\n    \"gpu\": null,\\n    \"useGpuIfAvailable\": null,\\n    \"clusterConfiguration\": null,\\n    \"additionalEnv\": {},\\n    \"runEnv\": null\\n  },\\n  \"comments\": null,\\n  \"order\": null,\\n  \"uiData\": null,\\n  \"dom\": null,\\n  \"systemGenerated\": false,\\n  \"systemModel\": false,\\n  \"pipelineVariableList\": [],\\n  \"pipelineTemplateVersion\": 0.0,\\n  \"versionId\": null,\\n  \"engineId\": \"a723b377-09ff-4869-bc03-e2690d149522\",\\n  \"userId\": \"530f7de9-d6ce-41fd-8d31-e780eff640f9\",\\n  \"runInitiatedFrom\": \"JUPYTER\",\\n  \"processList\": null,\\n  \"processInfo\": {},\\n  \"services\": [],\\n  \"pipelineMeta\": {\\n    \"name\": \"cust_datagen_session\",\\n    \"blocks\": {\\n      \"94ae5216-a773-441c-a39e-47424ef49cbd\": {\\n        \"id\": \"94ae5216-a773-441c-a39e-47424ef49cbd\",\\n        \"name\": \"CustomDataGenSession3_1\",\\n        \"resources\": null,\\n        \"meta\": null,\\n        \"domainDetails\": null,\\n        \"hasHttpRoutes\": false,\\n        \"logPath\": null\\n      }\\n    },\\n    \"services\": {}\\n  }\\n}', dom='Yet to add', order=None, infra_resource='{\\n  \"zookeeper\": {\\n    \"cores\": 1,\\n    \"memory\": 1024,\\n    \"useGpu\": null,\\n    \"gpu\": null,\\n    \"useGpuIfAvailable\": null,\\n    \"clusterConfiguration\": null,\\n    \"additionalEnv\": {},\\n    \"runEnv\": null\\n  },\\n  \"kafka\": {\\n    \"cores\": 1,\\n    \"memory\": 1024,\\n    \"useGpu\": null,\\n    \"gpu\": null,\\n    \"useGpuIfAvailable\": null,\\n    \"clusterConfiguration\": null,\\n    \"additionalEnv\": {},\\n    \"runEnv\": null\\n  }\\n}', resource_spec=ResourceAllocated(cores=None, memory=None, use_gpu=None, gpu=None, use_gpu_if_available=None, cluster_configuration=None, additional_env={}, run_env=None), engine_id='a723b377-09ff-4869-bc03-e2690d149522', run_initiated_from='JUPYTER')"
      ]
     },
     "execution_count": 18,
     "metadata": {},
     "output_type": "execute_result"
    }
   ],
   "source": [
    "razor.api.engines('DS-Engine-Load-Test').execute(pipeline)"
   ]
  },
  {
   "cell_type": "code",
   "execution_count": 14,
   "metadata": {},
   "outputs": [
    {
     "data": {
      "text/html": [
       "<div>\n",
       "<style scoped>\n",
       "    .dataframe tbody tr th:only-of-type {\n",
       "        vertical-align: middle;\n",
       "    }\n",
       "\n",
       "    .dataframe tbody tr th {\n",
       "        vertical-align: top;\n",
       "    }\n",
       "\n",
       "    .dataframe thead th {\n",
       "        text-align: right;\n",
       "    }\n",
       "</style>\n",
       "<table border=\"1\" class=\"dataframe\">\n",
       "  <thead>\n",
       "    <tr style=\"text-align: right;\">\n",
       "      <th></th>\n",
       "      <th>Cod_Fecha</th>\n",
       "      <th>ID_Customer</th>\n",
       "    </tr>\n",
       "  </thead>\n",
       "  <tbody>\n",
       "    <tr>\n",
       "      <th>0</th>\n",
       "      <td>2007-01-01</td>\n",
       "      <td>A0000001</td>\n",
       "    </tr>\n",
       "    <tr>\n",
       "      <th>1</th>\n",
       "      <td>2007-02-01</td>\n",
       "      <td>A0000001</td>\n",
       "    </tr>\n",
       "    <tr>\n",
       "      <th>2</th>\n",
       "      <td>2007-03-01</td>\n",
       "      <td>A0000001</td>\n",
       "    </tr>\n",
       "    <tr>\n",
       "      <th>3</th>\n",
       "      <td>2007-04-01</td>\n",
       "      <td>A0000001</td>\n",
       "    </tr>\n",
       "    <tr>\n",
       "      <th>4</th>\n",
       "      <td>2007-05-01</td>\n",
       "      <td>A0000001</td>\n",
       "    </tr>\n",
       "    <tr>\n",
       "      <th>5</th>\n",
       "      <td>2007-06-01</td>\n",
       "      <td>A0000001</td>\n",
       "    </tr>\n",
       "    <tr>\n",
       "      <th>6</th>\n",
       "      <td>2007-07-01</td>\n",
       "      <td>A0000001</td>\n",
       "    </tr>\n",
       "    <tr>\n",
       "      <th>7</th>\n",
       "      <td>2007-08-01</td>\n",
       "      <td>A0000001</td>\n",
       "    </tr>\n",
       "    <tr>\n",
       "      <th>8</th>\n",
       "      <td>2007-09-01</td>\n",
       "      <td>A0000001</td>\n",
       "    </tr>\n",
       "    <tr>\n",
       "      <th>9</th>\n",
       "      <td>2007-10-01</td>\n",
       "      <td>A0000001</td>\n",
       "    </tr>\n",
       "    <tr>\n",
       "      <th>10</th>\n",
       "      <td>2007-11-01</td>\n",
       "      <td>A0000001</td>\n",
       "    </tr>\n",
       "    <tr>\n",
       "      <th>11</th>\n",
       "      <td>2007-12-01</td>\n",
       "      <td>A0000001</td>\n",
       "    </tr>\n",
       "    <tr>\n",
       "      <th>12</th>\n",
       "      <td>2008-01-01</td>\n",
       "      <td>A0000001</td>\n",
       "    </tr>\n",
       "    <tr>\n",
       "      <th>13</th>\n",
       "      <td>2008-02-01</td>\n",
       "      <td>A0000001</td>\n",
       "    </tr>\n",
       "    <tr>\n",
       "      <th>14</th>\n",
       "      <td>2008-03-01</td>\n",
       "      <td>A0000001</td>\n",
       "    </tr>\n",
       "    <tr>\n",
       "      <th>15</th>\n",
       "      <td>2008-04-01</td>\n",
       "      <td>A0000001</td>\n",
       "    </tr>\n",
       "    <tr>\n",
       "      <th>16</th>\n",
       "      <td>2008-05-01</td>\n",
       "      <td>A0000001</td>\n",
       "    </tr>\n",
       "    <tr>\n",
       "      <th>17</th>\n",
       "      <td>2008-06-01</td>\n",
       "      <td>A0000001</td>\n",
       "    </tr>\n",
       "    <tr>\n",
       "      <th>18</th>\n",
       "      <td>2008-07-01</td>\n",
       "      <td>A0000001</td>\n",
       "    </tr>\n",
       "    <tr>\n",
       "      <th>19</th>\n",
       "      <td>2008-08-01</td>\n",
       "      <td>A0000001</td>\n",
       "    </tr>\n",
       "  </tbody>\n",
       "</table>\n",
       "</div>"
      ],
      "text/plain": [
       "     Cod_Fecha ID_Customer\n",
       "0   2007-01-01    A0000001\n",
       "1   2007-02-01    A0000001\n",
       "2   2007-03-01    A0000001\n",
       "3   2007-04-01    A0000001\n",
       "4   2007-05-01    A0000001\n",
       "5   2007-06-01    A0000001\n",
       "6   2007-07-01    A0000001\n",
       "7   2007-08-01    A0000001\n",
       "8   2007-09-01    A0000001\n",
       "9   2007-10-01    A0000001\n",
       "10  2007-11-01    A0000001\n",
       "11  2007-12-01    A0000001\n",
       "12  2008-01-01    A0000001\n",
       "13  2008-02-01    A0000001\n",
       "14  2008-03-01    A0000001\n",
       "15  2008-04-01    A0000001\n",
       "16  2008-05-01    A0000001\n",
       "17  2008-06-01    A0000001\n",
       "18  2008-07-01    A0000001\n",
       "19  2008-08-01    A0000001"
      ]
     },
     "execution_count": 14,
     "metadata": {},
     "output_type": "execute_result"
    }
   ],
   "source": [
    "df = pd.read_csv(razor.api.project_space_path(\"/sess_data_final.csv\"),nrows=20)T\n",
    "df"
   ]
  },
  {
   "cell_type": "code",
   "execution_count": null,
   "metadata": {},
   "outputs": [],
   "source": [
    "tmp1 = df[['Cod_Fecha']].drop_duplicates().copy()\n",
    "tmp1['key'] = 1\n",
    "tmp2 = df[['ID_Customer']].drop_duplicates().copy()\n",
    "tmp2['key'] = 1\n",
    "tmp3 = tmp1.merge(tmp2,on='key')\n",
    "del(tmp1)\n",
    "del(tmp2)"
   ]
  },
  {
   "cell_type": "code",
   "execution_count": null,
   "metadata": {},
   "outputs": [],
   "source": []
  }
 ],
 "metadata": {
  "kernelspec": {
   "display_name": "Python 3",
   "language": "python",
   "name": "python3"
  },
  "language_info": {
   "codemirror_mode": {
    "name": "ipython",
    "version": 3
   },
   "file_extension": ".py",
   "mimetype": "text/x-python",
   "name": "python",
   "nbconvert_exporter": "python",
   "pygments_lexer": "ipython3",
   "version": "3.7.6"
  }
 },
 "nbformat": 4,
 "nbformat_minor": 4
}
