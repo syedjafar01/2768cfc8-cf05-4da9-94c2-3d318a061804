{
 "cells": [
  {
   "cell_type": "markdown",
   "metadata": {
    "colab_type": "text",
    "id": "e39kjaPoIgNJ"
   },
   "source": [
    "# ***Bank recommendation system***\n",
    "\n",
    "### Notebook for predicting products to purchase.\n",
    "\n",
    "\n",
    "Author: David Jimenez"
   ]
  },
  {
   "cell_type": "markdown",
   "metadata": {
    "colab_type": "text",
    "id": "b5DIO2qpdQUz"
   },
   "source": [
    "## INTRODUCTION\n",
    "Being able to have an analysis of the basket of effective financial products is a challenge when it comes to satisfying the needs of customers within their life cycle of relationship with the entity. The final result translates into a recommendation engine that allows us to cover both the up-selling and cross-selling part.\n",
    "\n",
    "<img src=\"https://drive.google.com/uc?export=view&id=14VkAcJDyLCrmRLkhCCUWjdZewr8MRUnd\">\n",
    "\n",
    "In this script you will have the historical hirings made by clients during their relationship with the Entity and a series of additional socio-demographic attributes that will allow you to further adjust the hiring profile. Through this information, we will predict the new financial products that each client will hire.\n",
    "\n",
    "## THE DATASET\n",
    "The sequence of historical hiring of a group of clients, individuals and autonomous, of the Cajamar Group is provided through 94 modalities of products including socio-demographic attributes. The challenge is to predict the next product to be hired by the customer and that would form their ideal future basket of financial products.\n",
    "\n",
    "Dataset Training: The total number of records is 3,350,601 with 8 variables per record. With the Train file we are going to build a predictive model that allows determining the next product to be hired by the client, for this we have this transaction file where each record shows the hiring of a financial product per client, we will have as many records as historical hiring has the client.\n",
    "\n",
    "#### Variables\n",
    "\n",
    "*   *ID_Customer*: Customer identifier.\n",
    "*   *Cod_Prod*: Code of the contracted product modality.\n",
    "*  *Cod_Fecha*: Date of contracting the product modality. (Format YYYY-MM)\n",
    "*  *Socio_Demo_01-05*: Socio-demographic variables related to the client.\n",
    "\n",
    "The following variables are categorical (nominal):\n",
    "\n",
    "*  Socio_Demo_01.\n",
    "\n",
    "1: Age <18 years\n",
    "\n",
    "2: Age> = 18 years and Age <30 years\n",
    "\n",
    "3: Age> = 30 years and Age <45 years\n",
    "\n",
    "4: Age> = 45 years and Age <65 years\n",
    "\n",
    "5: Age> = 65 years\n",
    "\n",
    "*  Socio_Demo_02.\n",
    "\n",
    "1: Seniority <1 year\n",
    "\n",
    "2: Antiquity> = 1 year and Antiquity <5 years\n",
    "\n",
    "3: Antiquity> = 5 years and Antiquity <10 years\n",
    "\n",
    "4: Antiquity> = 10 years and Antiquity <20 years\n",
    "\n",
    "5: Antiquity> = 20 years\n",
    "\n",
    "*  Socio_Demo_03.\n",
    "\n",
    "1: Revenue <€ 6,000\n",
    "\n",
    "2: Revenue> = € 6,000 and Income <€ 12,000\n",
    "\n",
    "3: Income> = € 12,000 and Income <€ 24,000\n",
    "\n",
    "4: Income> = € 24,000 and Income <€ 32,000\n",
    "\n",
    "5: Revenue> = € 32,000\n",
    "\n",
    "\n",
    "The following variables are categorical (nominal):\n",
    "\n",
    "* *Cod_Prod*.: Code of the contracted product modality.\n",
    "*  *Socio_Demo_04*: Sex (1: Man, 2: Woman)\n",
    "*  *Socio_Demo_05*: Segment (00: Private | 01: Farmer | 02: Business | 03: Self-Employed)\n",
    "\n",
    "\n",
    "\n",
    "#### Geographical scope: \n",
    "The analysis has information from customers throughout the Spanish territory.\n",
    "\n",
    "#### Temporary window\n",
    "All the hiring of financial products made by the client during his relationship with the Entity have been taken into account."
   ]
  },
  {
   "cell_type": "markdown",
   "metadata": {
    "colab_type": "text",
    "id": "XWyR_F2nIgNK"
   },
   "source": [
    "We begin to import the packages, modules and libraries that we are going to use.\n",
    "The \"projectFunctions.py\" function is designed for the project and must be found in the same folder as this Notebook.\n",
    "\n",
    "**Note**: for the execution of the code you must have installed the classifier xgboost, if we don't have it we can\n",
    "<a href=\"https://pypi.python.org/pypi/xgboost/\"> install easily </a> with * pip install xgboost *.\n",
    "\n",
    "We choose a seed to make these results reproducible (tests have been done with seed 206)."
   ]
  },
  {
   "cell_type": "code",
   "execution_count": 3,
   "metadata": {
    "colab": {},
    "colab_type": "code",
    "id": "Nwc-6Be5IgNL"
   },
   "outputs": [],
   "source": [
    "import projectFunctions as pF\n",
    "import pandas as pd\n",
    "import matplotlib.pyplot as plt\n",
    "from xgboost.sklearn import XGBClassifier\n",
    "random_seed = 206"
   ]
  },
  {
   "cell_type": "code",
   "execution_count": 4,
   "metadata": {
    "colab": {},
    "colab_type": "code",
    "id": "nkWB-Dm7Lz25"
   },
   "outputs": [],
   "source": [
    "# Uncomment If we want to run the notebook in the free cloud Google Colab and run \n",
    "# this cell to upload data files: train.txt, test.txt, PIB.txt and projectFunctions.py\n",
    "\n",
    "#from google.colab import files\n",
    "\n",
    "#uploaded = files.upload()\n",
    "\n",
    "#for fn in uploaded.keys():\n",
    "#  print('User uploaded file \"{name}\" with length {length} bytes'.format(\n",
    "#      name=fn, length=len(uploaded[fn])))"
   ]
  },
  {
   "cell_type": "code",
   "execution_count": 5,
   "metadata": {
    "colab": {
     "base_uri": "https://localhost:8080/",
     "height": 51
    },
    "colab_type": "code",
    "id": "-VIvZKoycrLe",
    "outputId": "0c980fee-52e1-4d13-a530-717584dbf9b0"
   },
   "outputs": [],
   "source": [
    "#!ls"
   ]
  },
  {
   "cell_type": "markdown",
   "metadata": {
    "colab_type": "text",
    "id": "NupepdAQIgNR"
   },
   "source": [
    "### **Load data**\n",
    "\n",
    "In the next cell we create a variable with the path of the training and test file. We use the *loadData ()* function that loads the data with the specified input format and sorts these by user and date."
   ]
  },
  {
   "cell_type": "code",
   "execution_count": 7,
   "metadata": {
    "colab": {},
    "colab_type": "code",
    "id": "K1ACJQQrIgNS"
   },
   "outputs": [],
   "source": [
    "# Load datasets\n",
    "df_train = pF.loadData(\"project-space/bank-product-recommendation/data/train.txt\")\n",
    "df_train.head()\n",
    "\n",
    "df_test = pF.loadData(\"project-space/bank-product-recommendation/data/test.txt\")"
   ]
  },
  {
   "cell_type": "code",
   "execution_count": 8,
   "metadata": {
    "colab": {
     "base_uri": "https://localhost:8080/",
     "height": 34
    },
    "colab_type": "code",
    "id": "MUhRFho754l_",
    "outputId": "5adaf294-ad90-45d3-c4c4-f7e9f9d2b268"
   },
   "outputs": [
    {
     "data": {
      "text/plain": [
       "(3350601, 8)"
      ]
     },
     "execution_count": 8,
     "metadata": {},
     "output_type": "execute_result"
    }
   ],
   "source": [
    "df_train.shape"
   ]
  },
  {
   "cell_type": "code",
   "execution_count": 9,
   "metadata": {},
   "outputs": [
    {
     "data": {
      "text/html": [
       "<div>\n",
       "<style scoped>\n",
       "    .dataframe tbody tr th:only-of-type {\n",
       "        vertical-align: middle;\n",
       "    }\n",
       "\n",
       "    .dataframe tbody tr th {\n",
       "        vertical-align: top;\n",
       "    }\n",
       "\n",
       "    .dataframe thead th {\n",
       "        text-align: right;\n",
       "    }\n",
       "</style>\n",
       "<table border=\"1\" class=\"dataframe\">\n",
       "  <thead>\n",
       "    <tr style=\"text-align: right;\">\n",
       "      <th></th>\n",
       "      <th>ID_Customer</th>\n",
       "      <th>Cod_Prod</th>\n",
       "      <th>Cod_Fecha</th>\n",
       "      <th>Socio_Demo_01</th>\n",
       "      <th>Socio_Demo_02</th>\n",
       "      <th>Socio_Demo_03</th>\n",
       "      <th>Socio_Demo_04</th>\n",
       "      <th>Socio_Demo_05</th>\n",
       "    </tr>\n",
       "  </thead>\n",
       "  <tbody>\n",
       "    <tr>\n",
       "      <th>0</th>\n",
       "      <td>B0676372</td>\n",
       "      <td>601</td>\n",
       "      <td>1978-01</td>\n",
       "      <td>5</td>\n",
       "      <td>5</td>\n",
       "      <td>2</td>\n",
       "      <td>1</td>\n",
       "      <td>0</td>\n",
       "    </tr>\n",
       "    <tr>\n",
       "      <th>1</th>\n",
       "      <td>B0676373</td>\n",
       "      <td>601</td>\n",
       "      <td>1993-07</td>\n",
       "      <td>5</td>\n",
       "      <td>5</td>\n",
       "      <td>2</td>\n",
       "      <td>1</td>\n",
       "      <td>0</td>\n",
       "    </tr>\n",
       "    <tr>\n",
       "      <th>2</th>\n",
       "      <td>B0676374</td>\n",
       "      <td>601</td>\n",
       "      <td>1995-08</td>\n",
       "      <td>3</td>\n",
       "      <td>5</td>\n",
       "      <td>3</td>\n",
       "      <td>1</td>\n",
       "      <td>3</td>\n",
       "    </tr>\n",
       "    <tr>\n",
       "      <th>3</th>\n",
       "      <td>B0676374</td>\n",
       "      <td>301</td>\n",
       "      <td>2002-11</td>\n",
       "      <td>3</td>\n",
       "      <td>5</td>\n",
       "      <td>3</td>\n",
       "      <td>1</td>\n",
       "      <td>3</td>\n",
       "    </tr>\n",
       "    <tr>\n",
       "      <th>4</th>\n",
       "      <td>B0676374</td>\n",
       "      <td>2704</td>\n",
       "      <td>2003-10</td>\n",
       "      <td>3</td>\n",
       "      <td>5</td>\n",
       "      <td>3</td>\n",
       "      <td>1</td>\n",
       "      <td>3</td>\n",
       "    </tr>\n",
       "    <tr>\n",
       "      <th>...</th>\n",
       "      <td>...</td>\n",
       "      <td>...</td>\n",
       "      <td>...</td>\n",
       "      <td>...</td>\n",
       "      <td>...</td>\n",
       "      <td>...</td>\n",
       "      <td>...</td>\n",
       "      <td>...</td>\n",
       "    </tr>\n",
       "    <tr>\n",
       "      <th>1147682</th>\n",
       "      <td>B0967086</td>\n",
       "      <td>2302</td>\n",
       "      <td>2016-11</td>\n",
       "      <td>3</td>\n",
       "      <td>1</td>\n",
       "      <td>1</td>\n",
       "      <td>1</td>\n",
       "      <td>0</td>\n",
       "    </tr>\n",
       "    <tr>\n",
       "      <th>1147683</th>\n",
       "      <td>B0967086</td>\n",
       "      <td>9991</td>\n",
       "      <td>2016-11</td>\n",
       "      <td>3</td>\n",
       "      <td>1</td>\n",
       "      <td>1</td>\n",
       "      <td>1</td>\n",
       "      <td>0</td>\n",
       "    </tr>\n",
       "    <tr>\n",
       "      <th>1147684</th>\n",
       "      <td>B0967090</td>\n",
       "      <td>601</td>\n",
       "      <td>2016-09</td>\n",
       "      <td>4</td>\n",
       "      <td>1</td>\n",
       "      <td>2</td>\n",
       "      <td>2</td>\n",
       "      <td>0</td>\n",
       "    </tr>\n",
       "    <tr>\n",
       "      <th>1147685</th>\n",
       "      <td>B0967091</td>\n",
       "      <td>201</td>\n",
       "      <td>2015-10</td>\n",
       "      <td>4</td>\n",
       "      <td>2</td>\n",
       "      <td>1</td>\n",
       "      <td>1</td>\n",
       "      <td>0</td>\n",
       "    </tr>\n",
       "    <tr>\n",
       "      <th>1147686</th>\n",
       "      <td>B0967091</td>\n",
       "      <td>601</td>\n",
       "      <td>2015-10</td>\n",
       "      <td>4</td>\n",
       "      <td>2</td>\n",
       "      <td>1</td>\n",
       "      <td>1</td>\n",
       "      <td>0</td>\n",
       "    </tr>\n",
       "  </tbody>\n",
       "</table>\n",
       "<p>1147687 rows × 8 columns</p>\n",
       "</div>"
      ],
      "text/plain": [
       "        ID_Customer  Cod_Prod Cod_Fecha  Socio_Demo_01  Socio_Demo_02  \\\n",
       "0          B0676372       601   1978-01              5              5   \n",
       "1          B0676373       601   1993-07              5              5   \n",
       "2          B0676374       601   1995-08              3              5   \n",
       "3          B0676374       301   2002-11              3              5   \n",
       "4          B0676374      2704   2003-10              3              5   \n",
       "...             ...       ...       ...            ...            ...   \n",
       "1147682    B0967086      2302   2016-11              3              1   \n",
       "1147683    B0967086      9991   2016-11              3              1   \n",
       "1147684    B0967090       601   2016-09              4              1   \n",
       "1147685    B0967091       201   2015-10              4              2   \n",
       "1147686    B0967091       601   2015-10              4              2   \n",
       "\n",
       "         Socio_Demo_03  Socio_Demo_04  Socio_Demo_05  \n",
       "0                    2              1              0  \n",
       "1                    2              1              0  \n",
       "2                    3              1              3  \n",
       "3                    3              1              3  \n",
       "4                    3              1              3  \n",
       "...                ...            ...            ...  \n",
       "1147682              1              1              0  \n",
       "1147683              1              1              0  \n",
       "1147684              2              2              0  \n",
       "1147685              1              1              0  \n",
       "1147686              1              1              0  \n",
       "\n",
       "[1147687 rows x 8 columns]"
      ]
     },
     "execution_count": 9,
     "metadata": {},
     "output_type": "execute_result"
    }
   ],
   "source": [
    "df_test"
   ]
  },
  {
   "cell_type": "code",
   "execution_count": null,
   "metadata": {},
   "outputs": [],
   "source": []
  },
  {
   "cell_type": "code",
   "execution_count": null,
   "metadata": {},
   "outputs": [],
   "source": []
  },
  {
   "cell_type": "code",
   "execution_count": 6,
   "metadata": {
    "colab": {
     "base_uri": "https://localhost:8080/",
     "height": 51
    },
    "colab_type": "code",
    "id": "irnxdVNgydTB",
    "outputId": "61ccf205-1e70-4fb9-cbe3-45db5f170834"
   },
   "outputs": [
    {
     "name": "stdout",
     "output_type": "stream",
     "text": [
      "676370 users\n",
      "94 products\n"
     ]
    }
   ],
   "source": [
    "n_users = df_train.ID_Customer.unique().shape[0]\n",
    "n_items = df_train['Cod_Prod'].unique().shape[0]\n",
    "print(str(n_users) + ' users') \n",
    "print(str(n_items) + ' products') "
   ]
  },
  {
   "cell_type": "markdown",
   "metadata": {
    "colab_type": "text",
    "id": "qT5g4-vw5-J4"
   },
   "source": [
    "## Data Visualization\n",
    "We are going to plot the differents variables with their values to visualizate the data."
   ]
  },
  {
   "cell_type": "code",
   "execution_count": null,
   "metadata": {
    "colab": {
     "base_uri": "https://localhost:8080/",
     "height": 136
    },
    "colab_type": "code",
    "id": "WgVw_30C4SKn",
    "outputId": "e324347f-5e74-405e-a58b-52405d4158e6"
   },
   "outputs": [
    {
     "data": {
      "text/plain": [
       "Socio_Demo_01\n",
       "1      47430\n",
       "2     282960\n",
       "3    1077626\n",
       "4    1355148\n",
       "5     587437\n",
       "dtype: int64"
      ]
     },
     "execution_count": 5,
     "metadata": {
      "tags": []
     },
     "output_type": "execute_result"
    }
   ],
   "source": [
    "df_train.groupby(['Socio_Demo_01']).size()"
   ]
  },
  {
   "cell_type": "code",
   "execution_count": null,
   "metadata": {
    "colab": {
     "base_uri": "https://localhost:8080/",
     "height": 351
    },
    "colab_type": "code",
    "id": "3xylr4zf4R7T",
    "outputId": "88a6b6be-28bf-447f-998b-e6b7394a45d9"
   },
   "outputs": [
    {
     "data": {
      "image/png": "[encoded data removed]",
      "text/plain": [
       "<Figure size 432x288 with 1 Axes>"
      ]
     },
     "metadata": {
      "tags": []
     },
     "output_type": "display_data"
    }
   ],
   "source": [
    "labels = '>18', '18-30','30-45','45-65', '>65'\n",
    "sizes = [47430, 282960, 1077626, 1355148, 587437]\n",
    "plt.pie(sizes, labels=labels, autopct='%1.1f%%', shadow=True, startangle=140)\n",
    " \n",
    "plt.axis('equal')\n",
    "plt.title('Age',fontsize=20)\n",
    "plt.show()\n"
   ]
  },
  {
   "cell_type": "code",
   "execution_count": null,
   "metadata": {
    "colab": {
     "base_uri": "https://localhost:8080/",
     "height": 136
    },
    "colab_type": "code",
    "id": "crnQwfZq4-XB",
    "outputId": "99419878-565c-4d3f-8fcb-0dabeb59353b"
   },
   "outputs": [
    {
     "data": {
      "text/plain": [
       "Socio_Demo_02\n",
       "1      18221\n",
       "2     279788\n",
       "3     478017\n",
       "4    1312300\n",
       "5    1262275\n",
       "dtype: int64"
      ]
     },
     "execution_count": 7,
     "metadata": {
      "tags": []
     },
     "output_type": "execute_result"
    }
   ],
   "source": [
    "df_train.groupby(['Socio_Demo_02']).size()"
   ]
  },
  {
   "cell_type": "code",
   "execution_count": null,
   "metadata": {
    "colab": {
     "base_uri": "https://localhost:8080/",
     "height": 351
    },
    "colab_type": "code",
    "id": "Z4qsDJ9I4-I2",
    "outputId": "c2361ffd-40e9-46f2-dbb2-19f78f22a91a"
   },
   "outputs": [
    {
     "data": {
      "image/png": "[encoded data removed]",
      "text/plain": [
       "<Figure size 432x288 with 1 Axes>"
      ]
     },
     "metadata": {
      "tags": []
     },
     "output_type": "display_data"
    }
   ],
   "source": [
    "labels = '<1 year' , '1-5', '5-10', '10-20', '>20'\n",
    "sizes = [18221, 279788, 478017, 1312300,1262275]\n",
    "plt.pie(sizes, labels=labels, autopct='%1.1f%%', shadow=True, startangle=140)\n",
    " \n",
    "plt.axis('equal')\n",
    "plt.title('Seniority',fontsize=20)\n",
    "plt.show()"
   ]
  },
  {
   "cell_type": "code",
   "execution_count": null,
   "metadata": {
    "colab": {
     "base_uri": "https://localhost:8080/",
     "height": 136
    },
    "colab_type": "code",
    "id": "kNYtKaS15JjD",
    "outputId": "7e6d83b4-1eab-4f29-c328-c02b23131ad8"
   },
   "outputs": [
    {
     "data": {
      "text/plain": [
       "Socio_Demo_03\n",
       "1     499949\n",
       "2    1175007\n",
       "3     984109\n",
       "4     253218\n",
       "5     438318\n",
       "dtype: int64"
      ]
     },
     "execution_count": 9,
     "metadata": {
      "tags": []
     },
     "output_type": "execute_result"
    }
   ],
   "source": [
    "df_train.groupby(['Socio_Demo_03']).size()"
   ]
  },
  {
   "cell_type": "code",
   "execution_count": null,
   "metadata": {
    "colab": {
     "base_uri": "https://localhost:8080/",
     "height": 351
    },
    "colab_type": "code",
    "id": "M-P22v4R5JW8",
    "outputId": "9b6edb3e-124f-420b-d549-2a6f8f435aa4"
   },
   "outputs": [
    {
     "data": {
      "image/png": "[encoded data removed]",
      "text/plain": [
       "<Figure size 432x288 with 1 Axes>"
      ]
     },
     "metadata": {
      "tags": []
     },
     "output_type": "display_data"
    }
   ],
   "source": [
    "labels = '<6K', '6-12K', '12-24K', '24-32K', '>32K'\n",
    "sizes = [499949, 1175007, 984109, 253218, 438318]\n",
    "plt.pie(sizes, labels=labels, autopct='%1.1f%%', shadow=True, startangle=140)\n",
    " \n",
    "plt.axis('equal')\n",
    "plt.title('Outcome',fontsize=20)\n",
    "plt.show()"
   ]
  },
  {
   "cell_type": "code",
   "execution_count": null,
   "metadata": {
    "colab": {
     "base_uri": "https://localhost:8080/",
     "height": 85
    },
    "colab_type": "code",
    "id": "0NJVGSDAzdrv",
    "outputId": "6e122b4e-528d-4c7e-d623-e80ff803030f"
   },
   "outputs": [
    {
     "data": {
      "text/plain": [
       "Socio_Demo_04\n",
       "1    1866368\n",
       "2    1484233\n",
       "dtype: int64"
      ]
     },
     "execution_count": 11,
     "metadata": {
      "tags": []
     },
     "output_type": "execute_result"
    }
   ],
   "source": [
    "df_train.groupby(['Socio_Demo_04']).size()"
   ]
  },
  {
   "cell_type": "code",
   "execution_count": null,
   "metadata": {
    "colab": {
     "base_uri": "https://localhost:8080/",
     "height": 351
    },
    "colab_type": "code",
    "id": "1OHLrNNWwrpS",
    "outputId": "5e358999-5123-47ea-db99-9639a6777d5b"
   },
   "outputs": [
    {
     "data": {
      "image/png": "[encoded data removed]",
      "text/plain": [
       "<Figure size 432x288 with 1 Axes>"
      ]
     },
     "metadata": {
      "tags": []
     },
     "output_type": "display_data"
    }
   ],
   "source": [
    "labels = 'Women', 'Men'\n",
    "sizes = [1484233, 1866368]\n",
    "plt.pie(sizes, labels=labels, autopct='%1.1f%%', shadow=True, startangle=140)\n",
    " \n",
    "plt.axis('equal')\n",
    "plt.title('Gender',fontsize=20)\n",
    "plt.show()\n"
   ]
  },
  {
   "cell_type": "code",
   "execution_count": null,
   "metadata": {
    "colab": {
     "base_uri": "https://localhost:8080/",
     "height": 119
    },
    "colab_type": "code",
    "id": "iteY5kjQowJJ",
    "outputId": "21ce3177-cb1b-461f-c392-5ac2810085b4"
   },
   "outputs": [
    {
     "data": {
      "text/plain": [
       "Socio_Demo_05\n",
       "0    2657685\n",
       "1     163495\n",
       "2     155285\n",
       "3     374136\n",
       "dtype: int64"
      ]
     },
     "execution_count": 13,
     "metadata": {
      "tags": []
     },
     "output_type": "execute_result"
    }
   ],
   "source": [
    "df_train.groupby(['Socio_Demo_05']).size()"
   ]
  },
  {
   "cell_type": "code",
   "execution_count": null,
   "metadata": {
    "colab": {
     "base_uri": "https://localhost:8080/",
     "height": 351
    },
    "colab_type": "code",
    "id": "q_LXxgs81u6C",
    "outputId": "1ee431dc-11d9-4bb5-9ca3-6858bb84fe86"
   },
   "outputs": [
    {
     "data": {
      "image/png": "[encoded data removed]",
      "text/plain": [
       "<Figure size 432x288 with 1 Axes>"
      ]
     },
     "metadata": {
      "tags": []
     },
     "output_type": "display_data"
    }
   ],
   "source": [
    "labels = 'Private' , 'Farmer', 'Business', 'Self-Employed'\n",
    "sizes = [2657685, 163495, 155285, 374136]\n",
    "plt.pie(sizes, labels=labels, autopct='%1.1f%%', shadow=True, startangle=140)\n",
    " \n",
    "plt.axis('equal')\n",
    "plt.title('Profession',fontsize=20)\n",
    "plt.show()"
   ]
  },
  {
   "cell_type": "code",
   "execution_count": null,
   "metadata": {
    "colab": {
     "base_uri": "https://localhost:8080/",
     "height": 170
    },
    "colab_type": "code",
    "id": "tdwHI_0kgnxL",
    "outputId": "1657a29c-f1fa-4e15-e561-e38a6983468e"
   },
   "outputs": [
    {
     "name": "stdout",
     "output_type": "stream",
     "text": [
      "Total code product:\n"
     ]
    },
    {
     "data": {
      "text/plain": [
       "array([2501, 2503,  601, 1011,  704,  301,  801, 9992,  201, 2301, 9993,\n",
       "       9991, 2205, 2302, 2704, 1401, 1020, 1001, 3401, 2602,  506, 2707,\n",
       "       1013, 2202, 2705, 2601, 2701, 2702,  706, 2102, 1007, 1801, 1804,\n",
       "        707, 3001, 2201, 2203, 1022, 1306,  102, 2401, 1010, 1017,  503,\n",
       "       2204, 1309, 2105,  103, 2106, 2706, 1805, 1002, 1803, 1301, 1310,\n",
       "       2103, 1004, 1009, 1802, 1019, 1012, 2104,  702, 2206,  708,  705,\n",
       "       1307, 1302, 1311, 1005,  101, 1006, 1501, 1304, 2703, 1008, 3101,\n",
       "       1015, 1303, 1014,  703, 1021,  804, 1305, 1806, 2502,  803, 1308,\n",
       "       2901, 1312,  502, 2801,  104,  504])"
      ]
     },
     "execution_count": 15,
     "metadata": {
      "tags": []
     },
     "output_type": "execute_result"
    }
   ],
   "source": [
    "print('Total code product:')\n",
    "df_train['Cod_Prod'].unique()"
   ]
  },
  {
   "cell_type": "code",
   "execution_count": null,
   "metadata": {
    "colab": {
     "base_uri": "https://localhost:8080/",
     "height": 1071
    },
    "colab_type": "code",
    "id": "kQVr9LG_c6mI",
    "outputId": "df955961-62ff-4c39-bac9-fc8109ae542f",
    "scrolled": true
   },
   "outputs": [
    {
     "name": "stdout",
     "output_type": "stream",
     "text": [
      "Frecuency of apparition for each Cod_Prod\n"
     ]
    },
    {
     "data": {
      "text/plain": [
       "601     661756\n",
       "301     426169\n",
       "201     339686\n",
       "2302    268166\n",
       "9993    230423\n",
       "9991    230423\n",
       "2205    106478\n",
       "2704    101727\n",
       "2601    100163\n",
       "704      91809\n",
       "1011     78006\n",
       "9992     71662\n",
       "2301     66305\n",
       "2705     52034\n",
       "2503     46955\n",
       "2501     46599\n",
       "2602     42616\n",
       "2707     31287\n",
       "2701     29799\n",
       "706      29228\n",
       "1804     19882\n",
       "2102     17157\n",
       "1020     16175\n",
       "801      15528\n",
       "2106     15150\n",
       "1801     14558\n",
       "2201     13908\n",
       "707      13722\n",
       "3001     11184\n",
       "1013     10731\n",
       "         ...  \n",
       "506        669\n",
       "1019       605\n",
       "3101       586\n",
       "1012       558\n",
       "1303       497\n",
       "1501       485\n",
       "2105       324\n",
       "101        261\n",
       "1005       259\n",
       "1803       257\n",
       "1010       219\n",
       "1806       209\n",
       "1006       152\n",
       "104        105\n",
       "504         69\n",
       "703         67\n",
       "1004        37\n",
       "2801        34\n",
       "1015        28\n",
       "2502        24\n",
       "804         21\n",
       "1008        20\n",
       "2104        19\n",
       "1305        18\n",
       "1014        17\n",
       "803          9\n",
       "2901         6\n",
       "1308         5\n",
       "502          3\n",
       "1312         1\n",
       "Length: 94, dtype: int64"
      ]
     },
     "execution_count": 16,
     "metadata": {
      "tags": []
     },
     "output_type": "execute_result"
    }
   ],
   "source": [
    "print('Frecuency of apparition for each Cod_Prod')\n",
    "pd.value_counts(df_train['Cod_Prod'].values, sort=True)"
   ]
  },
  {
   "cell_type": "markdown",
   "metadata": {
    "colab_type": "text",
    "id": "-jRmdYqnIgNV"
   },
   "source": [
    "<a id=\"transf\"></a>\n",
    "## **Preprocessing data**\n",
    "\n",
    "In the next cell we carry out the transformation of the data with the two functions:\n",
    "\n",
    "- ***tratamientoFecha***: (Datetreatment) is responsible for adding a new attribute corresponding to the number of days that have passed since 01-01-1950 for each record. \n",
    "\n",
    "\n",
    "- ***mapProduct:*** which is responsible for mapping the products to integer values ordered by their frequency of appearance in the training file."
   ]
  },
  {
   "cell_type": "code",
   "execution_count": 7,
   "metadata": {
    "colab": {},
    "colab_type": "code",
    "id": "wp20HKnJIgNW"
   },
   "outputs": [],
   "source": [
    "# Train transformation\n",
    "df_train = pF.tratamientoFecha(df_train)\n",
    "df_train = pF.mapProduct(df_train)\n",
    "\n",
    "# Test transformacion\n",
    "df_test = pF.tratamientoFecha(df_test)\n",
    "df_test = pF.mapProdByDict(df_test)"
   ]
  },
  {
   "cell_type": "markdown",
   "metadata": {
    "colab_type": "text",
    "id": "D7COWTdqIgNZ"
   },
   "source": [
    "We use all the data for the creation of the different maps used for the generation of new features:\n",
    "\n",
    "- ***mapAparicionProduct:*** generates a map of dates when the different products of the training set appear, assigning an ascending whole value.\n",
    "\n",
    "- ***mapDiasInicio:*** generates a map to which you assign each training and test user the day on which you made the first purchase. This will be used to estimate the number of days since you registered in the database until you purchased the last product.\n",
    "\n",
    "- ***mapYearPIB:*** loads a map of annual GDP per capita Spanish that must be in the same folder as this Notebook, whose name must be PIB.txt."
   ]
  },
  {
   "cell_type": "code",
   "execution_count": 9,
   "metadata": {
    "colab": {},
    "colab_type": "code",
    "id": "BDQelYZTIgNZ"
   },
   "outputs": [],
   "source": [
    "__ = pF.mapAparicionProd(df_train)\n",
    "__ = pF.mapDiasInicio(df_train)\n",
    "__ = pF.mapDiasInicio(df_test)\n",
    "__ = pF.mapYearPIB()"
   ]
  },
  {
   "cell_type": "markdown",
   "metadata": {
    "colab_type": "text",
    "id": "TXzSpy7nIgNc"
   },
   "source": [
    "### **Treatment of the time series**\n",
    "\n",
    "In the next cell we will include as attributes the previous products purchased by the users, as well as the number of days elapsed since 01-01-1950 until the acquisition of each of the previous products."
   ]
  },
  {
   "cell_type": "code",
   "execution_count": 10,
   "metadata": {
    "colab": {},
    "colab_type": "code",
    "id": "uMX4Nvp7IgNd"
   },
   "outputs": [],
   "source": [
    "# Number of previous products to considerate\n",
    "nant = 8\n",
    "incluir_num_dias = True\n",
    "\n",
    "# Train\n",
    "df_train = pF.addProdAnt(df_train, nant, incluir_num_dias)\n",
    "\n",
    "# Test\n",
    "df_test = pF.addProdAnt(df_test, nant, incluir_num_dias)"
   ]
  },
  {
   "cell_type": "markdown",
   "metadata": {
    "colab_type": "text",
    "id": "V7-tjvo-m3U3"
   },
   "source": [
    "#### **Dataframe creation**\n",
    "In the next cell we create three dataframes of the time series:\n",
    "- *dfTr2model*: this training dataframe is what we will use to generate the prediction model.\n",
    "- *dfTs2eval*: this test dataframe will be used to evaluate the results of the prediction. In this way, it will help us estimate how we will do it in prediction.\n",
    "- *dfTs2predict*: this test dataframe is what we will use to carry out the prediction. The chosen data corresponds to the last entry for each user."
   ]
  },
  {
   "cell_type": "code",
   "execution_count": 11,
   "metadata": {
    "colab": {},
    "colab_type": "code",
    "id": "yELYpJNpnIa_"
   },
   "outputs": [],
   "source": [
    "# Training subset\n",
    "dfTr2model = pF.ultimoElementoSerie(df_train)\n",
    "\n",
    "# Evaluation subset\n",
    "dfTs2eval = pF.ultimoElementoSerie(df_test)\n",
    "\n",
    "# Prediction subset\n",
    "dfTs2predict = pF.createTest(df_test)"
   ]
  },
  {
   "cell_type": "markdown",
   "metadata": {
    "colab_type": "text",
    "id": "zfpOW4V_nU6Y"
   },
   "source": [
    "We add the number of products purchased as a feature. For the prediction dataframe we indicate that you take all the products purchased."
   ]
  },
  {
   "cell_type": "code",
   "execution_count": 12,
   "metadata": {
    "colab": {},
    "colab_type": "code",
    "id": "Tmsd6zoznYBk"
   },
   "outputs": [],
   "source": [
    "dfTr2model[\"Num_Prod_Ant\"] = pF.numProductosComprados(df_train)\n",
    "dfTs2eval[\"Num_Prod_Ant\"] = pF.numProductosComprados(df_train)\n",
    "dfTs2predict[\"Num_Prod_Ant\"] = pF.numProductosComprados(df_train, test = True)"
   ]
  },
  {
   "cell_type": "markdown",
   "metadata": {
    "colab_type": "text",
    "id": "guORvO4fnsMX"
   },
   "source": [
    "### Dataset reduction\n",
    "\n",
    "**Sub-sampling**\n",
    "\n",
    "Due to the large amount of data provided in the training file, we performed a random sub-sampling of the * train * dataframe in order to carry out the training of the models in a reasonable time.\n",
    "This sub-sampling is performed in a stratified manner, as explained in the report.\n",
    "In our case we are left with 20% of the train data, which is more than 120,000 records.\n",
    "\n",
    "Once the training model to be implemented in the validation phase has been chosen, in order to estimate the goodness of the classifier on the test set, it is decided to evaluate the success rate on this set."
   ]
  },
  {
   "cell_type": "code",
   "execution_count": 13,
   "metadata": {
    "colab": {
     "base_uri": "https://localhost:8080/",
     "height": 71
    },
    "colab_type": "code",
    "id": "1R7QaADEnotv",
    "outputId": "3185b34d-1964-45ee-e73b-ff2d513bf4b3"
   },
   "outputs": [
    {
     "name": "stderr",
     "output_type": "stream",
     "text": [
      "/usr/local/lib/python3.5/dist-packages/sklearn/model_selection/_split.py:2026: FutureWarning: From version 0.21, test_size will always complement train_size unless both are specified.\n",
      "  FutureWarning)\n"
     ]
    }
   ],
   "source": [
    "# Training subset\n",
    "size = .2\n",
    "dfTr2model = pF.subset(df_train, df_train.Cod_Prod, size = size)\n",
    "\n",
    "# Test subset, for evaluation on this data set\n",
    "size = .2\n",
    "dfTs2eval = pF.subset(df_test, df_test.Cod_Prod, size = size)"
   ]
  },
  {
   "cell_type": "markdown",
   "metadata": {
    "colab_type": "text",
    "id": "ehkFSBzwn9T0"
   },
   "source": [
    "**Elimination of minority classes**\n",
    "\n",
    "In order to eliminate the minority classes of the training set we *prune* it.\n",
    "\n",
    "For the test case it would not be necessary because you do not need to model any class with this."
   ]
  },
  {
   "cell_type": "code",
   "execution_count": 14,
   "metadata": {
    "colab": {
     "base_uri": "https://localhost:8080/",
     "height": 68
    },
    "colab_type": "code",
    "id": "Md03GvfBn-oc",
    "outputId": "43b44f19-44c5-41a2-fa64-286f9e633945"
   },
   "outputs": [
    {
     "name": "stdout",
     "output_type": "stream",
     "text": [
      "Number of classes: 60 \n",
      "Percentage of data: 99.71766250820747 %\n",
      "Minimum of samples: 215.0\n"
     ]
    }
   ],
   "source": [
    "clases = 60\n",
    "resto = False\n",
    "\n",
    "dfTr2model = pF.classPrune2(dfTr2model, dfTr2model.Cod_Prod, nc = clases, resto = resto)"
   ]
  },
  {
   "cell_type": "markdown",
   "metadata": {
    "colab_type": "text",
    "id": "N8IwqPPkIgN1"
   },
   "source": [
    "\n",
    "\n",
    "<a id=\"feat\"></a>\n",
    "## Treatment of features\n",
    "\n",
    "**New features**\n",
    "\n",
    "In the next cell we add the characteristics to the data sets. Some of these functions use the maps loaded at the beginning of the Notebook. This process may take a while to run, but not more than 5 minutes (depends on the computer and the amount of data).\n",
    "\n",
    "- **restaFechas**: is responsible for subtracting the days between the previous products that each customer has purchased and creating a corresponding column.\n",
    "\n",
    "\n",
    "- **acontecimiento**: creates a column with the event of Cajamar according to the time in which the user buys the previous product. The event is marked by the merger of the rural banks.\n",
    "\n",
    "\n",
    "- **addPIBAnt**: creates a column with the GDP per capita of the years in which the user buys the previous product.\n",
    "\n",
    "\n",
    "- **addDiasInicioAnt**: create a column with the days that have passed since the user started buying, taking into account the date of purchase of the previous product."
   ]
  },
  {
   "cell_type": "code",
   "execution_count": 15,
   "metadata": {
    "colab": {
     "base_uri": "https://localhost:8080/",
     "height": 68
    },
    "colab_type": "code",
    "id": "Mr0lYav5IgN3",
    "outputId": "9f813717-be8d-4f49-f56e-8c5cb7475b97"
   },
   "outputs": [
    {
     "name": "stdout",
     "output_type": "stream",
     "text": [
      "Creation of features for training set completed.\n",
      "Creation of features for evaluation set completed.\n",
      "Creation of features for prediction set completed.\n"
     ]
    }
   ],
   "source": [
    "dfTr2model = pF.restaFechas(dfTr2model)\n",
    "dfTr2model = pF.acontecimiento(dfTr2model)\n",
    "dfTr2model = pF.addPIBAnt(dfTr2model)\n",
    "dfTr2model = pF.addDiasInicioAnt(dfTr2model)\n",
    "print(\"Creation of features for training set completed.\")\n",
    "\n",
    "dfTs2eval = pF.restaFechas(dfTs2eval)\n",
    "dfTs2eval = pF.acontecimiento(dfTs2eval)\n",
    "dfTs2eval = pF.addPIBAnt(dfTs2eval)\n",
    "dfTs2eval = pF.addDiasInicioAnt(dfTs2eval)\n",
    "print(\"Creation of features for evaluation set completed.\")\n",
    "\n",
    "dfTs2predict = pF.restaFechas(dfTs2predict)\n",
    "dfTs2predict = pF.acontecimiento(dfTs2predict)\n",
    "dfTs2predict = pF.addPIBAnt(dfTs2predict)\n",
    "dfTs2predict = pF.addDiasInicioAnt(dfTs2predict)\n",
    "print(\"Creation of features for prediction set completed.\")"
   ]
  },
  {
   "cell_type": "markdown",
   "metadata": {
    "colab_type": "text",
    "id": "ZWg6fFVPIgN5"
   },
   "source": [
    "**Expansion of variables**\n",
    "\n",
    "In the next cell we carry out the expansion of categorical variables, in which as many columns as possible values can be created the variable passed by argument."
   ]
  },
  {
   "cell_type": "code",
   "execution_count": 16,
   "metadata": {
    "colab": {
     "base_uri": "https://localhost:8080/",
     "height": 68
    },
    "colab_type": "code",
    "id": "xN14BlGUIgN6",
    "outputId": "1514ec4c-9b49-4628-d02c-590d25382331"
   },
   "outputs": [
    {
     "name": "stdout",
     "output_type": "stream",
     "text": [
      "Expanding Socio_Demo_05 to dimension 4\n",
      "Expanding Socio_Demo_05 to dimension 4\n",
      "Expanding Socio_Demo_05 to dimension 4\n"
     ]
    }
   ],
   "source": [
    "variable = \"Socio_Demo_05\"\n",
    "\n",
    "dfTr2model = pF.expandirVariable(dfTr2model, variable)\n",
    "dfTs2eval = pF.expandirVariable(dfTs2eval, variable)\n",
    "dfTs2predict = pF.expandirVariable(dfTs2predict, variable)"
   ]
  },
  {
   "cell_type": "markdown",
   "metadata": {
    "colab_type": "text",
    "id": "BiwsI_eLv7vN"
   },
   "source": [
    "#### **Feature selection**\n",
    "\n",
    "In the next cell we eliminate attributes that have served us to calculate other variables but that we do not really have at the time of making the prediction.\n",
    "\n",
    "The attributes to eliminate in this part are:\n",
    "\n",
    "- **Cod_Fecha**: this attribute is eliminated, since in the real scenario we can not know when the user is going to buy the new product.\n",
    "\n",
    "\n",
    "- **Cod_Fecha_Ant**: it is a column in date format when I bought the previous product, we eliminated it because we have already made the relevant transformations, and it is not useful in date format.\n",
    "\n",
    "\n",
    "- **Num_Dias**: this column is not available because we do not have the current purchase date to know how many days have passed since 1950."
   ]
  },
  {
   "cell_type": "code",
   "execution_count": 17,
   "metadata": {
    "colab": {},
    "colab_type": "code",
    "id": "MKL7oZUKrGX4"
   },
   "outputs": [],
   "source": [
    "columns2drop = [\"Cod_Fecha\", \"Cod_Fecha_Ant\", \"Num_Dias\"]\n",
    "\n",
    "dfTr2model = dfTr2model.drop(columns2drop, axis=1)\n",
    "dfTs2eval = dfTs2eval.drop(columns2drop, axis=1)\n",
    "dfTs2predict = dfTs2predict.drop(columns2drop,axis=1)"
   ]
  },
  {
   "cell_type": "markdown",
   "metadata": {
    "colab_type": "text",
    "id": "_p0VRGZcv9FW"
   },
   "source": [
    "## **Machine Learning model**\n",
    "In the next cell we extract the columns with which we will carry out the training of our classifier.\n",
    "\n"
   ]
  },
  {
   "cell_type": "code",
   "execution_count": 18,
   "metadata": {
    "colab": {
     "base_uri": "https://localhost:8080/",
     "height": 54
    },
    "colab_type": "code",
    "id": "8kf_6A4TrT43",
    "outputId": "1863d3c3-1c87-4da6-9303-d7d31b020757"
   },
   "outputs": [
    {
     "name": "stdout",
     "output_type": "stream",
     "text": [
      "['Socio_Demo_01', 'Socio_Demo_02', 'Socio_Demo_03', 'Socio_Demo_04', 'Cod_Prod_Ant1', 'Num_Dias_Ant1', 'Cod_Prod_Ant2', 'Num_Dias_Ant2', 'Cod_Prod_Ant3', 'Num_Dias_Ant3', 'Cod_Prod_Ant4', 'Num_Dias_Ant4', 'Cod_Prod_Ant5', 'Num_Dias_Ant5', 'Cod_Prod_Ant6', 'Num_Dias_Ant6', 'Cod_Prod_Ant7', 'Num_Dias_Ant7', 'Cod_Prod_Ant8', 'Num_Dias_Ant8', 'Diferencia_Fechas_1', 'Diferencia_Fechas_2', 'Diferencia_Fechas_3', 'Diferencia_Fechas_4', 'Diferencia_Fechas_5', 'Diferencia_Fechas_6', 'Diferencia_Fechas_7', 'AcontecimientoAnt', 'PIB_Ant', 'DiasDesde_Inicio', 'Socio_Demo_05_1', 'Socio_Demo_05_2', 'Socio_Demo_05_3', 'Socio_Demo_05_4']\n"
     ]
    }
   ],
   "source": [
    "# We choose the training data by eliminating the product code and the user ID.\n",
    "columns = list(dfTr2model.columns[2:len(dfTr2model.columns)])\n",
    "\n",
    "print(columns)"
   ]
  },
  {
   "cell_type": "markdown",
   "metadata": {
    "colab_type": "text",
    "id": "Lz_PkQe8rTS4"
   },
   "source": [
    "<a id=\"train\"> </a>\n",
    "## **Training**\n",
    "\n",
    "In the next cell we carry out the entry of our classifier *XGBoost* with the optimal parameters obtained from the validation phase. \n",
    "\n",
    "***Note: We should do a tuning of parameters to find the best values that improve the model.***"
   ]
  },
  {
   "cell_type": "code",
   "execution_count": null,
   "metadata": {
    "colab": {},
    "colab_type": "code",
    "id": "5eRUWErqrn_l",
    "outputId": "10432235-054e-4b14-c05b-71d914b175dd"
   },
   "outputs": [
    {
     "name": "stdout",
     "output_type": "stream",
     "text": [
      "Number of processors:  40\n"
     ]
    }
   ],
   "source": [
    "# Uncoment and comment from import ... If we have a trained model file\n",
    "# we can load it with:\n",
    "import pickle\n",
    "estimator = pickle.load(open(\"trained_model.pickle.dat\", \"rb\"))\n",
    "\n",
    "#import multiprocessing\n",
    "#nproc = multiprocessing.cpu_count() # For a fastest train, we use all cpu processors\n",
    "#print('Number of processors: ',nproc)\n",
    "#estimator=XGBClassifier(learning_rate = 0.1,\n",
    "#                       nthread = nproc,\n",
    "#                       base_score = 0.2,\n",
    "#                       n_estimators = 200,\n",
    "#                       seed = random_seed,\n",
    "#                       max_depth = 8)"
   ]
  },
  {
   "cell_type": "code",
   "execution_count": null,
   "metadata": {
    "colab": {},
    "colab_type": "code",
    "id": "osOHQ1kWxZxh",
    "outputId": "619a1dfa-adb4-42e1-e2e2-bc5f5cb986b9"
   },
   "outputs": [
    {
     "data": {
      "text/plain": [
       "XGBClassifier(base_score=0.2, booster='gbtree', colsample_bylevel=1,\n",
       "       colsample_bytree=1, gamma=0, learning_rate=0.1, max_delta_step=0,\n",
       "       max_depth=8, min_child_weight=1, missing=None, n_estimators=200,\n",
       "       n_jobs=1, nthread=40, objective='multi:softprob', random_state=0,\n",
       "       reg_alpha=0, reg_lambda=1, scale_pos_weight=1, seed=206,\n",
       "       silent=True, subsample=1)"
      ]
     },
     "execution_count": 29,
     "metadata": {
      "tags": []
     },
     "output_type": "execute_result"
    }
   ],
   "source": [
    "#estimator.fit(dfTr2model[columns], dfTr2model.Cod_Prod)"
   ]
  },
  {
   "cell_type": "code",
   "execution_count": null,
   "metadata": {
    "colab": {},
    "colab_type": "code",
    "id": "Wm89dHJWJnLZ"
   },
   "outputs": [],
   "source": [
    "# Uncomment if we want save model to file\n",
    "#import pickle\n",
    "#pickle.dump(estimator, open(\"trained_model.pickle.dat\", \"wb\"))"
   ]
  },
  {
   "cell_type": "markdown",
   "metadata": {
    "colab_type": "text",
    "id": "mWAqtMA9sE2F"
   },
   "source": [
    "**Evaluation of the test data**\n",
    "\n",
    "In order to observe the results of the test predictions, the trained classifier is evaluated on the subset of test data."
   ]
  },
  {
   "cell_type": "code",
   "execution_count": 19,
   "metadata": {
    "colab": {},
    "colab_type": "code",
    "id": "TkGWwuuRsFd-"
   },
   "outputs": [
    {
     "name": "stdout",
     "output_type": "stream",
     "text": [
      "Score obtained in test: 0.4731568331031598\n"
     ]
    },
    {
     "name": "stderr",
     "output_type": "stream",
     "text": [
      "/usr/local/lib/python3.5/dist-packages/sklearn/preprocessing/label.py:151: DeprecationWarning: The truth value of an empty array is ambiguous. Returning False, but in future this will result in an error. Use `array.size > 0` to check that an array is not empty.\n",
      "  if diff:\n"
     ]
    }
   ],
   "source": [
    "tsScore = estimator.score(dfTs2eval[columns], dfTs2eval.Cod_Prod)\n",
    "\n",
    "print(\"Score obtained in test: \"+ str(tsScore))"
   ]
  },
  {
   "cell_type": "markdown",
   "metadata": {
    "colab_type": "text",
    "id": "Al-N1cIesVsP"
   },
   "source": [
    "<a id=\"predict\"> </a>\n",
    "## **Prediction**\n",
    "\n",
    "We make the prediction of the future products to be hired by the customers of the test dataset."
   ]
  },
  {
   "cell_type": "code",
   "execution_count": 20,
   "metadata": {
    "colab": {},
    "colab_type": "code",
    "id": "qmF0Rz_bsXDF",
    "outputId": "a63db964-5a41-4280-de7a-e65981f2c8a8"
   },
   "outputs": [
    {
     "name": "stderr",
     "output_type": "stream",
     "text": [
      "/usr/local/lib/python3.5/dist-packages/sklearn/preprocessing/label.py:151: DeprecationWarning: The truth value of an empty array is ambiguous. Returning False, but in future this will result in an error. Use `array.size > 0` to check that an array is not empty.\n",
      "  if diff:\n"
     ]
    }
   ],
   "source": [
    "Cod_Prod_predicted = estimator.predict(dfTs2predict[columns])"
   ]
  },
  {
   "cell_type": "markdown",
   "metadata": {
    "colab_type": "text",
    "id": "8B64JNpnsbM2"
   },
   "source": [
    "**Creation of the results dataframe**\n",
    "\n",
    "In the next cell, the creation of a dataframe with the customer's ID and the product code to be purchased is carried out.\n",
    "\n",
    "Subsequently, an inverse mapping of these product codes is performed."
   ]
  },
  {
   "cell_type": "code",
   "execution_count": 21,
   "metadata": {
    "colab": {},
    "colab_type": "code",
    "id": "ZmH3AgUYsalS",
    "outputId": "43095cd3-6dd1-4095-c40f-276fbebd49cf"
   },
   "outputs": [
    {
     "data": {
      "text/html": [
       "<div>\n",
       "<style scoped>\n",
       "    .dataframe tbody tr th:only-of-type {\n",
       "        vertical-align: middle;\n",
       "    }\n",
       "\n",
       "    .dataframe tbody tr th {\n",
       "        vertical-align: top;\n",
       "    }\n",
       "\n",
       "    .dataframe thead th {\n",
       "        text-align: right;\n",
       "    }\n",
       "</style>\n",
       "<table border=\"1\" class=\"dataframe\">\n",
       "  <thead>\n",
       "    <tr style=\"text-align: right;\">\n",
       "      <th></th>\n",
       "      <th>ID_Customer</th>\n",
       "      <th>Cod_Prod</th>\n",
       "    </tr>\n",
       "  </thead>\n",
       "  <tbody>\n",
       "    <tr>\n",
       "      <th>0</th>\n",
       "      <td>B0676372</td>\n",
       "      <td>0301</td>\n",
       "    </tr>\n",
       "    <tr>\n",
       "      <th>1</th>\n",
       "      <td>B0676373</td>\n",
       "      <td>0301</td>\n",
       "    </tr>\n",
       "    <tr>\n",
       "      <th>2</th>\n",
       "      <td>B0676374</td>\n",
       "      <td>9993</td>\n",
       "    </tr>\n",
       "    <tr>\n",
       "      <th>3</th>\n",
       "      <td>B0676376</td>\n",
       "      <td>9991</td>\n",
       "    </tr>\n",
       "    <tr>\n",
       "      <th>4</th>\n",
       "      <td>B0676377</td>\n",
       "      <td>0301</td>\n",
       "    </tr>\n",
       "  </tbody>\n",
       "</table>\n",
       "</div>"
      ],
      "text/plain": [
       "  ID_Customer Cod_Prod\n",
       "0    B0676372     0301\n",
       "1    B0676373     0301\n",
       "2    B0676374     9993\n",
       "3    B0676376     9991\n",
       "4    B0676377     0301"
      ]
     },
     "execution_count": 21,
     "metadata": {},
     "output_type": "execute_result"
    }
   ],
   "source": [
    "# We create a new column with the prediction.\n",
    "dfresults = pd.DataFrame([dfTs2predict[\"ID_Customer\"],Cod_Prod_predicted],[\"ID_Customer\", \"Cod_Prod\"]).transpose()\n",
    "\n",
    "# The mapping of the products is carried out in reverse.\n",
    "dfresults = pF.getDfMap(dfresults)\n",
    "\n",
    "dfresults.head()"
   ]
  },
  {
   "cell_type": "markdown",
   "metadata": {
    "colab_type": "text",
    "id": "ztFpQoTCsuxf"
   },
   "source": [
    "**Export of results**\n",
    "\n",
    "Finally, we export the dataframe with the results to the output format: ID_Customer, Cod_Prod"
   ]
  },
  {
   "cell_type": "code",
   "execution_count": null,
   "metadata": {
    "colab": {},
    "colab_type": "code",
    "id": "bqygLnHnstGn"
   },
   "outputs": [],
   "source": [
    "fileName = \"output_prediction.csv\"\n",
    "dfresults.to_csv(fileName, encoding='utf-8', index=False)"
   ]
  }
 ],
 "metadata": {
  "colab": {
   "collapsed_sections": [],
   "name": "notebook_bank_recommendation_system.ipynb",
   "provenance": [],
   "version": "0.3.2"
  },
  "kernelspec": {
   "display_name": "Python 3",
   "language": "python",
   "name": "python3"
  },
  "language_info": {
   "codemirror_mode": {
    "name": "ipython",
    "version": 3
   },
   "file_extension": ".py",
   "mimetype": "text/x-python",
   "name": "python",
   "nbconvert_exporter": "python",
   "pygments_lexer": "ipython3",
   "version": "3.7.6"
  }
 },
 "nbformat": 4,
 "nbformat_minor": 4
}
