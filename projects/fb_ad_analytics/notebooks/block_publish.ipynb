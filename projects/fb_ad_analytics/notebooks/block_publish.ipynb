{
 "cells": [
  {
   "cell_type": "code",
   "execution_count": 1,
   "id": "periodic-florence",
   "metadata": {},
   "outputs": [],
   "source": [
    "from razor import api\n",
    "from razor.api.core import BlockScope\n",
    "#api.blocks.init_bundle('etl_data', category='etl')\n",
    "api.blocks.init_bundle('model_train', category='model_train')"
   ]
  },
  {
   "cell_type": "code",
   "execution_count": 3,
   "id": "operating-highland",
   "metadata": {},
   "outputs": [],
   "source": [
    "#api.blocks.publish(bundle='./etl_data', scope=BlockScope.PROJECT, overwrite=True)\n",
    "api.blocks.publish(bundle='./model_train', scope=BlockScope.PROJECT, overwrite=True)"
   ]
  },
  {
   "cell_type": "code",
   "execution_count": null,
   "id": "considered-aviation",
   "metadata": {},
   "outputs": [],
   "source": []
  }
 ],
 "metadata": {
  "kernelspec": {
   "display_name": "Python 3",
   "language": "python",
   "name": "python3"
  },
  "language_info": {
   "codemirror_mode": {
    "name": "ipython",
    "version": 3
   },
   "file_extension": ".py",
   "mimetype": "text/x-python",
   "name": "python",
   "nbconvert_exporter": "python",
   "pygments_lexer": "ipython3",
   "version": "3.7.10"
  }
 },
 "nbformat": 4,
 "nbformat_minor": 5
}
