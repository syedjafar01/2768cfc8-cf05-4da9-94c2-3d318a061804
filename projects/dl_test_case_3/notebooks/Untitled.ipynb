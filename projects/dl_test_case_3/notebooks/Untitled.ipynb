{
 "cells": [
  {
   "cell_type": "code",
   "execution_count": null,
   "id": "fallen-drama",
   "metadata": {},
   "outputs": [],
   "source": [
    "import razor.flow as rf\n",
    "\n",
    "\n",
    "@rf.block()\n",
    "class LoggerBlock:\n",
    "    __publish__ = True\n",
    "    __label__ = \"LoggerBlock\"\n",
    "    \n",
    "    def run()\n",
    "    "
   ]
  }
 ],
 "metadata": {
  "kernelspec": {
   "display_name": "Python 3",
   "language": "python",
   "name": "python3"
  },
  "language_info": {
   "codemirror_mode": {
    "name": "ipython",
    "version": 3
   },
   "file_extension": ".py",
   "mimetype": "text/x-python",
   "name": "python",
   "nbconvert_exporter": "python",
   "pygments_lexer": "ipython3",
   "version": "3.7.10"
  }
 },
 "nbformat": 4,
 "nbformat_minor": 5
}
