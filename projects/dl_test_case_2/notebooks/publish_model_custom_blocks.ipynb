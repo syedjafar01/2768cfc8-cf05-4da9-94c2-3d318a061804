{
 "cells": [
  {
   "cell_type": "code",
   "execution_count": 4,
   "id": "durable-biography",
   "metadata": {},
   "outputs": [],
   "source": [
    "layer_bundle_path = \"custom_layers\"\n",
    "loss_bundle_path = \"custom_losses\"\n",
    "metric_bundle_path = \"custom_metrics\""
   ]
  },
  {
   "cell_type": "code",
   "execution_count": 3,
   "id": "deadly-postage",
   "metadata": {},
   "outputs": [],
   "source": [
    "# import zipfile\n",
    "# with zipfile.ZipFile(\"custom_metrics.zip\", 'r') as zip_ref:\n",
    "#     zip_ref.extractall('.')"
   ]
  },
  {
   "cell_type": "code",
   "execution_count": 7,
   "id": "organizational-spouse",
   "metadata": {},
   "outputs": [
    {
     "ename": "ImportError",
     "evalue": "cannot import name 'dl_blocks' from 'razor.api' (/usr/local/lib/python3.7/dist-packages/razor/api/__init__.py)",
     "output_type": "error",
     "traceback": [
      "\u001b[0;31m---------------------------------------------------------------------------\u001b[0m",
      "\u001b[0;31mImportError\u001b[0m                               Traceback (most recent call last)",
      "\u001b[0;32m<ipython-input-7-71ca79d0bd50>\u001b[0m in \u001b[0;36m<module>\u001b[0;34m\u001b[0m\n\u001b[0;32m----> 1\u001b[0;31m \u001b[0;32mfrom\u001b[0m \u001b[0mrazor\u001b[0m\u001b[0;34m.\u001b[0m\u001b[0mapi\u001b[0m \u001b[0;32mimport\u001b[0m \u001b[0mdl_blocks\u001b[0m\u001b[0;34m\u001b[0m\u001b[0;34m\u001b[0m\u001b[0m\n\u001b[0m\u001b[1;32m      2\u001b[0m \u001b[0;32mfrom\u001b[0m \u001b[0mrazor\u001b[0m\u001b[0;34m.\u001b[0m\u001b[0mapi\u001b[0m\u001b[0;34m.\u001b[0m\u001b[0mcore\u001b[0m \u001b[0;32mimport\u001b[0m \u001b[0mDLBlockType\u001b[0m\u001b[0;34m,\u001b[0m \u001b[0mBlockScope\u001b[0m\u001b[0;34m\u001b[0m\u001b[0;34m\u001b[0m\u001b[0m\n\u001b[1;32m      3\u001b[0m \u001b[0;34m\u001b[0m\u001b[0m\n\u001b[1;32m      4\u001b[0m dl_blocks.publish(bundle=layer_bundle_path, category=DLBlockType.CUSTOM_TF_CODE, \n\u001b[1;32m      5\u001b[0m                   scope=BlockScope.PROJECT, overwrite=False)\n",
      "\u001b[0;31mImportError\u001b[0m: cannot import name 'dl_blocks' from 'razor.api' (/usr/local/lib/python3.7/dist-packages/razor/api/__init__.py)"
     ]
    }
   ],
   "source": [
    "from razor.api import dl_blocks\n",
    "from razor.api.core import DLBlockType, BlockScope\n",
    "\n",
    "dl_blocks.publish(bundle=layer_bundle_path, category=DLBlockType.CUSTOM_TF_CODE, \n",
    "                  scope=BlockScope.PROJECT, overwrite=False)"
   ]
  },
  {
   "cell_type": "code",
   "execution_count": 6,
   "id": "loved-being",
   "metadata": {},
   "outputs": [
    {
     "ename": "NameError",
     "evalue": "name 'dl_blocks' is not defined",
     "output_type": "error",
     "traceback": [
      "\u001b[0;31m---------------------------------------------------------------------------\u001b[0m",
      "\u001b[0;31mNameError\u001b[0m                                 Traceback (most recent call last)",
      "\u001b[0;32m<ipython-input-6-f806e505c599>\u001b[0m in \u001b[0;36m<module>\u001b[0;34m\u001b[0m\n\u001b[0;32m----> 1\u001b[0;31m dl_blocks.publish(bundle=loss_bundle_path, category=DLBlockType.LOSS, \n\u001b[0m\u001b[1;32m      2\u001b[0m                   scope=BlockScope.PROJECT, overwrite=True)\n",
      "\u001b[0;31mNameError\u001b[0m: name 'dl_blocks' is not defined"
     ]
    }
   ],
   "source": [
    "dl_blocks.publish(bundle=loss_bundle_path, category=DLBlockType.LOSS, \n",
    "                  scope=BlockScope.PROJECT, overwrite=True)"
   ]
  },
  {
   "cell_type": "code",
   "execution_count": null,
   "id": "collected-regression",
   "metadata": {},
   "outputs": [],
   "source": [
    "dl_blocks.publish(bundle=metric_bundle_path, category=DLBlockType.METRIC, \n",
    "                  scope=BlockScope.PROJECT, overwrite=True)"
   ]
  }
 ],
 "metadata": {
  "kernelspec": {
   "display_name": "Python 3",
   "language": "python",
   "name": "python3"
  },
  "language_info": {
   "codemirror_mode": {
    "name": "ipython",
    "version": 3
   },
   "file_extension": ".py",
   "mimetype": "text/x-python",
   "name": "python",
   "nbconvert_exporter": "python",
   "pygments_lexer": "ipython3",
   "version": "3.7.10"
  }
 },
 "nbformat": 4,
 "nbformat_minor": 5
}
