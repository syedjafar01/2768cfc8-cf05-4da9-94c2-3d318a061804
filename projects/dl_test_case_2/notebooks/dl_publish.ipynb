{
 "cells": [
  {
   "cell_type": "code",
   "execution_count": 4,
   "id": "single-bouquet",
   "metadata": {},
   "outputs": [],
   "source": [
    "import zipfile\n",
    "with zipfile.ZipFile(\"Tensorflow.zip\", 'r') as zip_ref:\n",
    "    zip_ref.extractall('.')"
   ]
  },
  {
   "cell_type": "code",
   "execution_count": 5,
   "id": "reasonable-layout",
   "metadata": {},
   "outputs": [],
   "source": [
    "from razor.api import blocks\n",
    "from razor.api.core import BlockScope"
   ]
  },
  {
   "cell_type": "code",
   "execution_count": 6,
   "id": "surgical-cheese",
   "metadata": {},
   "outputs": [],
   "source": [
    "blocks.publish(bundle=\"Tensorflow\", scope=BlockScope.PROJECT, overwrite=True)"
   ]
  },
  {
   "cell_type": "code",
   "execution_count": null,
   "id": "secure-rugby",
   "metadata": {},
   "outputs": [],
   "source": [
    "# blocks.init_bundle(bundle=\"Tensorflow\", category=\"Project Blocks\")"
   ]
  },
  {
   "cell_type": "code",
   "execution_count": 2,
   "id": "yellow-discount",
   "metadata": {},
   "outputs": [],
   "source": [
    "import rztdl"
   ]
  },
  {
   "cell_type": "code",
   "execution_count": 3,
   "id": "curious-collapse",
   "metadata": {},
   "outputs": [
    {
     "data": {
      "text/plain": [
       "'4.1.5-patch'"
      ]
     },
     "execution_count": 3,
     "metadata": {},
     "output_type": "execute_result"
    }
   ],
   "source": [
    "rztdl.__version__"
   ]
  },
  {
   "cell_type": "code",
   "execution_count": 4,
   "id": "determined-latin",
   "metadata": {},
   "outputs": [
    {
     "ename": "ImportError",
     "evalue": "cannot import name 'dl_blocks' from 'razor.api' (/usr/local/lib/python3.7/dist-packages/razor/api/__init__.py)",
     "output_type": "error",
     "traceback": [
      "\u001b[0;31m---------------------------------------------------------------------------\u001b[0m",
      "\u001b[0;31mImportError\u001b[0m                               Traceback (most recent call last)",
      "\u001b[0;32m<ipython-input-4-73c6fd5d2c49>\u001b[0m in \u001b[0;36m<module>\u001b[0;34m\u001b[0m\n\u001b[0;32m----> 1\u001b[0;31m \u001b[0;32mfrom\u001b[0m \u001b[0mrazor\u001b[0m\u001b[0;34m.\u001b[0m\u001b[0mapi\u001b[0m \u001b[0;32mimport\u001b[0m \u001b[0mdl_blocks\u001b[0m\u001b[0;34m\u001b[0m\u001b[0;34m\u001b[0m\u001b[0m\n\u001b[0m\u001b[1;32m      2\u001b[0m \u001b[0;32mfrom\u001b[0m \u001b[0mrazor\u001b[0m\u001b[0;34m.\u001b[0m\u001b[0mapi\u001b[0m\u001b[0;34m.\u001b[0m\u001b[0mcore\u001b[0m \u001b[0;32mimport\u001b[0m \u001b[0mDLBlockType\u001b[0m\u001b[0;34m,\u001b[0m \u001b[0mBlockScope\u001b[0m\u001b[0;34m\u001b[0m\u001b[0;34m\u001b[0m\u001b[0m\n",
      "\u001b[0;31mImportError\u001b[0m: cannot import name 'dl_blocks' from 'razor.api' (/usr/local/lib/python3.7/dist-packages/razor/api/__init__.py)"
     ]
    }
   ],
   "source": [
    "from razor.api import dl_blocks\n",
    "from razor.api.core import DLBlockType, BlockScope"
   ]
  },
  {
   "cell_type": "code",
   "execution_count": null,
   "id": "distinct-peripheral",
   "metadata": {},
   "outputs": [],
   "source": [
    "dl_blocks.publish(bundle=\"/Users/vyshnavmt/codes/RZTDL_rearchitecture/Publish_blcoks/custom_blocks\",\n",
    "                  category=DLBlockType.CUSTOM_TF_CODE,\n",
    "                  scope=BlockScope.PROJECT, overwrite=True)"
   ]
  }
 ],
 "metadata": {
  "kernelspec": {
   "display_name": "Python 3",
   "language": "python",
   "name": "python3"
  },
  "language_info": {
   "codemirror_mode": {
    "name": "ipython",
    "version": 3
   },
   "file_extension": ".py",
   "mimetype": "text/x-python",
   "name": "python",
   "nbconvert_exporter": "python",
   "pygments_lexer": "ipython3",
   "version": "3.7.10"
  }
 },
 "nbformat": 4,
 "nbformat_minor": 5
}
