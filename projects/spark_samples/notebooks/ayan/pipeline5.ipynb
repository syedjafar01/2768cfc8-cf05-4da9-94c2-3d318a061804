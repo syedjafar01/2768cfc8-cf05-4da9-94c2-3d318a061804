{
 "cells": [
  {
   "cell_type": "code",
   "execution_count": 1,
   "id": "broke-height",
   "metadata": {},
   "outputs": [],
   "source": [
    "import razor\n",
    "import razor.flow as rf\n",
    "from razor import api\n",
    "from razor.flow.spark import SparkBlock, SparkExecutor\n"
   ]
  },
  {
   "cell_type": "code",
   "execution_count": 2,
   "id": "collaborative-division",
   "metadata": {},
   "outputs": [],
   "source": [
    "import os\n",
    "from datetime import datetime, timedelta\n",
    "from pyspark.sql import SparkSession, functions\n",
    "from pyspark.sql.dataframe import DataFrame\n",
    "from datetime import datetime, timedelta\n",
    "from dateutil.relativedelta import relativedelta\n",
    "from pyspark.sql.types import IntegerType, DateType, ArrayType, StringType, FloatType, TimestampType\n"
   ]
  },
  {
   "cell_type": "code",
   "execution_count": 3,
   "id": "attempted-command",
   "metadata": {},
   "outputs": [],
   "source": [
    "from razor.project.blocks.ayan_spark_blocks import MercStatic\n",
    "from razor.project.blocks.ayan_spark_blocks import ReadCsvProjectSpace\n",
    "from razor.project.blocks.ayan_spark_blocks import TranCityTS\n",
    "from razor.project.blocks.ayan_spark_blocks import TranTypeTS\n",
    "from razor.project.blocks.ayan_spark_blocks import NonSparkPath\n",
    "from razor.project.blocks.ayan_spark_blocks import CustStatic\n",
    "from razor.project.blocks.ayan_spark_blocks import ProdTypeTS\n",
    "from razor.project.blocks.ayan_spark_blocks import CustMercTS\n",
    "from razor.project.blocks.ayan_spark_blocks import DropDuplicates"
   ]
  },
  {
   "cell_type": "code",
   "execution_count": 4,
   "id": "compliant-hopkins",
   "metadata": {},
   "outputs": [],
   "source": [
    "def project_space_path(path):\n",
    "    ps = api.datasources('Project Space')\n",
    "    return os.path.join(ps.abspath(), path)\n"
   ]
  },
  {
   "cell_type": "code",
   "execution_count": 5,
   "id": "executed-lottery",
   "metadata": {},
   "outputs": [],
   "source": [
    "nsp = NonSparkPath(ip_path='customer_data.csv')"
   ]
  },
  {
   "cell_type": "code",
   "execution_count": 6,
   "id": "fantastic-dominant",
   "metadata": {},
   "outputs": [],
   "source": [
    "rcp = ReadCsvProjectSpace(filename = nsp.op_path, config={}, source=\"\")\n",
    "rcp.executor = SparkExecutor"
   ]
  },
  {
   "cell_type": "code",
   "execution_count": 7,
   "id": "documented-compiler",
   "metadata": {},
   "outputs": [],
   "source": [
    "cs = CustStatic(ip_data = rcp.data, config={}, source=\"\")\n",
    "cs.executor = SparkExecutor"
   ]
  },
  {
   "cell_type": "code",
   "execution_count": 8,
   "id": "abandoned-symbol",
   "metadata": {},
   "outputs": [],
   "source": [
    "drp = DropDuplicates(ip_data = cs.customer_static, config={}, source=\"\")\n",
    "drp.executor = SparkExecutor"
   ]
  },
  {
   "cell_type": "code",
   "execution_count": 9,
   "id": "buried-characterization",
   "metadata": {},
   "outputs": [],
   "source": [
    "ms = MercStatic(ip_data = rcp.data, config={}, source=\"\")\n",
    "ms.executor = SparkExecutor"
   ]
  },
  {
   "cell_type": "code",
   "execution_count": 10,
   "id": "cheap-effects",
   "metadata": {},
   "outputs": [],
   "source": [
    "cm_ts = CustMercTS(ip_data = rcp.data, config={}, source=\"\")\n",
    "cm_ts.executor = SparkExecutor"
   ]
  },
  {
   "cell_type": "code",
   "execution_count": 11,
   "id": "provincial-academy",
   "metadata": {},
   "outputs": [],
   "source": [
    "pt_ts = ProdTypeTS(ip_data = rcp.data, config={}, source=\"\")\n",
    "pt_ts.executor = SparkExecutor"
   ]
  },
  {
   "cell_type": "code",
   "execution_count": 12,
   "id": "vanilla-malaysia",
   "metadata": {},
   "outputs": [],
   "source": [
    "tc_ts = TranCityTS(ip_data = rcp.data, config={}, source=\"\")\n",
    "tc_ts.executor = SparkExecutor"
   ]
  },
  {
   "cell_type": "code",
   "execution_count": 13,
   "id": "following-thailand",
   "metadata": {},
   "outputs": [],
   "source": [
    "tt_ts = TranTypeTS(ip_data = rcp.data, config={}, source=\"\")\n",
    "tt_ts.executor = SparkExecutor"
   ]
  },
  {
   "cell_type": "code",
   "execution_count": null,
   "id": "varied-europe",
   "metadata": {},
   "outputs": [],
   "source": []
  },
  {
   "cell_type": "code",
   "execution_count": 14,
   "id": "incident-procedure",
   "metadata": {},
   "outputs": [],
   "source": [
    "pipe = rf.Pipeline('temp', targets = [drp, cs, cm_ts, pt_ts, tc_ts, tt_ts])"
   ]
  },
  {
   "cell_type": "code",
   "execution_count": 15,
   "id": "loose-popularity",
   "metadata": {},
   "outputs": [
    {
     "data": {
      "application/vnd.razorthink.interactive+pipeline+view+json": {
       "blocks": [
        {
         "class_name": "TranTypeTS",
         "fullname": "razor.project.blocks.ayan_spark_blocks.TranTypeTS",
         "id": "51a5a45c-7826-49cf-9ee1-047108c34b25",
         "inputs": [
          {
           "dataType": null,
           "default": null,
           "flow": "atomic",
           "help": null,
           "isdict": false,
           "islist": false,
           "label": "ip_data",
           "meta": {},
           "name": "ip_data",
           "series": false,
           "type": "DataFrame",
           "type_check": true
          },
          {
           "dataType": "dict",
           "default": {},
           "flow": "atomic",
           "help": null,
           "isdict": false,
           "islist": false,
           "label": "config",
           "meta": {},
           "name": "config",
           "series": false,
           "type": "dict",
           "type_check": true
          },
          {
           "dataType": "string",
           "default": "",
           "flow": "atomic",
           "help": null,
           "isdict": false,
           "islist": false,
           "label": "source",
           "meta": {},
           "name": "source",
           "series": false,
           "type": "str",
           "type_check": true
          }
         ],
         "outputs": [
          {
           "flow": "atomic",
           "help": null,
           "label": "tran_type_ts",
           "meta": {},
           "name": "tran_type_ts",
           "series": false,
           "type": "DataFrame",
           "type_check": true
          }
         ],
         "overwritten": false,
         "published": true,
         "var_names": [
          "TranTypeTS"
         ]
        },
        {
         "class_name": "DropDuplicates",
         "fullname": "razor.project.blocks.ayan_spark_blocks.DropDuplicates",
         "id": "eb3d4e54-06c2-40b2-98d9-dbba29d2fc39",
         "inputs": [
          {
           "dataType": null,
           "default": null,
           "flow": "atomic",
           "help": null,
           "isdict": false,
           "islist": false,
           "label": "ip_data",
           "meta": {},
           "name": "ip_data",
           "series": false,
           "type": "DataFrame",
           "type_check": true
          },
          {
           "dataType": "dict",
           "default": {},
           "flow": "atomic",
           "help": null,
           "isdict": false,
           "islist": false,
           "label": "config",
           "meta": {},
           "name": "config",
           "series": false,
           "type": "dict",
           "type_check": true
          },
          {
           "dataType": "string",
           "default": "",
           "flow": "atomic",
           "help": null,
           "isdict": false,
           "islist": false,
           "label": "source",
           "meta": {},
           "name": "source",
           "series": false,
           "type": "str",
           "type_check": true
          }
         ],
         "outputs": [
          {
           "flow": "atomic",
           "help": null,
           "label": "op_data",
           "meta": {},
           "name": "op_data",
           "series": false,
           "type": "DataFrame",
           "type_check": true
          }
         ],
         "overwritten": false,
         "published": true,
         "var_names": [
          "DropDuplicates"
         ]
        },
        {
         "class_name": "NonSparkPath",
         "fullname": "razor.project.blocks.ayan_spark_blocks.NonSparkPath",
         "id": "4948a222-ed2b-409a-ad54-7a996745e190",
         "inputs": [
          {
           "dataType": "string",
           "default": "",
           "flow": "atomic",
           "help": null,
           "isdict": false,
           "islist": false,
           "label": "ip_path",
           "meta": {},
           "name": "ip_path",
           "series": false,
           "type": "str",
           "type_check": true
          }
         ],
         "outputs": [
          {
           "flow": "atomic",
           "help": null,
           "label": "op_path",
           "meta": {},
           "name": "op_path",
           "series": false,
           "type": "str",
           "type_check": true
          }
         ],
         "overwritten": false,
         "published": true,
         "var_names": [
          "NonSparkPath"
         ]
        },
        {
         "class_name": "TranCityTS",
         "fullname": "razor.project.blocks.ayan_spark_blocks.TranCityTS",
         "id": "2fde5b33-1b9b-4dbc-82cf-65443f31e351",
         "inputs": [
          {
           "dataType": null,
           "default": null,
           "flow": "atomic",
           "help": null,
           "isdict": false,
           "islist": false,
           "label": "ip_data",
           "meta": {},
           "name": "ip_data",
           "series": false,
           "type": "DataFrame",
           "type_check": true
          },
          {
           "dataType": "dict",
           "default": {},
           "flow": "atomic",
           "help": null,
           "isdict": false,
           "islist": false,
           "label": "config",
           "meta": {},
           "name": "config",
           "series": false,
           "type": "dict",
           "type_check": true
          },
          {
           "dataType": "string",
           "default": "",
           "flow": "atomic",
           "help": null,
           "isdict": false,
           "islist": false,
           "label": "source",
           "meta": {},
           "name": "source",
           "series": false,
           "type": "str",
           "type_check": true
          }
         ],
         "outputs": [
          {
           "flow": "atomic",
           "help": null,
           "label": "tran_city_ts",
           "meta": {},
           "name": "tran_city_ts",
           "series": false,
           "type": "DataFrame",
           "type_check": true
          }
         ],
         "overwritten": false,
         "published": true,
         "var_names": [
          "TranCityTS"
         ]
        },
        {
         "class_name": "CustStatic",
         "fullname": "razor.project.blocks.ayan_spark_blocks.CustStatic",
         "id": "591b1ec7-f9bf-4d33-81bc-e017086d3c5b",
         "inputs": [
          {
           "dataType": null,
           "default": null,
           "flow": "atomic",
           "help": null,
           "isdict": false,
           "islist": false,
           "label": "ip_data",
           "meta": {},
           "name": "ip_data",
           "series": false,
           "type": "DataFrame",
           "type_check": true
          },
          {
           "dataType": "dict",
           "default": {},
           "flow": "atomic",
           "help": null,
           "isdict": false,
           "islist": false,
           "label": "config",
           "meta": {},
           "name": "config",
           "series": false,
           "type": "dict",
           "type_check": true
          },
          {
           "dataType": "string",
           "default": "",
           "flow": "atomic",
           "help": null,
           "isdict": false,
           "islist": false,
           "label": "source",
           "meta": {},
           "name": "source",
           "series": false,
           "type": "str",
           "type_check": true
          }
         ],
         "outputs": [
          {
           "flow": "atomic",
           "help": null,
           "label": "customer_static",
           "meta": {},
           "name": "customer_static",
           "series": false,
           "type": "DataFrame",
           "type_check": true
          }
         ],
         "overwritten": false,
         "published": true,
         "var_names": [
          "CustStatic"
         ]
        },
        {
         "class_name": "CustMercTS",
         "fullname": "razor.project.blocks.ayan_spark_blocks.CustMercTS",
         "id": "09e50c80-1ff9-449e-8432-abc80990ef56",
         "inputs": [
          {
           "dataType": null,
           "default": null,
           "flow": "atomic",
           "help": null,
           "isdict": false,
           "islist": false,
           "label": "ip_data",
           "meta": {},
           "name": "ip_data",
           "series": false,
           "type": "DataFrame",
           "type_check": true
          },
          {
           "dataType": "dict",
           "default": {},
           "flow": "atomic",
           "help": null,
           "isdict": false,
           "islist": false,
           "label": "config",
           "meta": {},
           "name": "config",
           "series": false,
           "type": "dict",
           "type_check": true
          },
          {
           "dataType": "string",
           "default": "",
           "flow": "atomic",
           "help": null,
           "isdict": false,
           "islist": false,
           "label": "source",
           "meta": {},
           "name": "source",
           "series": false,
           "type": "str",
           "type_check": true
          }
         ],
         "outputs": [
          {
           "flow": "atomic",
           "help": null,
           "label": "customer_ts",
           "meta": {},
           "name": "customer_ts",
           "series": false,
           "type": "DataFrame",
           "type_check": true
          },
          {
           "flow": "atomic",
           "help": null,
           "label": "merchant_ts",
           "meta": {},
           "name": "merchant_ts",
           "series": false,
           "type": "DataFrame",
           "type_check": true
          }
         ],
         "overwritten": false,
         "published": true,
         "var_names": [
          "CustMercTS"
         ]
        },
        {
         "class_name": "ProdTypeTS",
         "fullname": "razor.project.blocks.ayan_spark_blocks.ProdTypeTS",
         "id": "b4f1db6e-c6f2-40e4-8c36-00557fc70a98",
         "inputs": [
          {
           "dataType": null,
           "default": null,
           "flow": "atomic",
           "help": null,
           "isdict": false,
           "islist": false,
           "label": "ip_data",
           "meta": {},
           "name": "ip_data",
           "series": false,
           "type": "DataFrame",
           "type_check": true
          },
          {
           "dataType": "dict",
           "default": {},
           "flow": "atomic",
           "help": null,
           "isdict": false,
           "islist": false,
           "label": "config",
           "meta": {},
           "name": "config",
           "series": false,
           "type": "dict",
           "type_check": true
          },
          {
           "dataType": "string",
           "default": "",
           "flow": "atomic",
           "help": null,
           "isdict": false,
           "islist": false,
           "label": "source",
           "meta": {},
           "name": "source",
           "series": false,
           "type": "str",
           "type_check": true
          }
         ],
         "outputs": [
          {
           "flow": "atomic",
           "help": null,
           "label": "prod_type_ts",
           "meta": {},
           "name": "prod_type_ts",
           "series": false,
           "type": "DataFrame",
           "type_check": true
          }
         ],
         "overwritten": false,
         "published": true,
         "var_names": [
          "ProdTypeTS"
         ]
        },
        {
         "class_name": "ReadCsvProjectSpace",
         "fullname": "razor.project.blocks.ayan_spark_blocks.ReadCsvProjectSpace",
         "id": "5aa11834-8396-4b25-a409-6bea5b33ad1b",
         "inputs": [
          {
           "dataType": "string",
           "default": "",
           "flow": "atomic",
           "help": null,
           "isdict": false,
           "islist": false,
           "label": "filename",
           "meta": {},
           "name": "filename",
           "series": false,
           "type": "str",
           "type_check": true
          },
          {
           "dataType": "dict",
           "default": {},
           "flow": "atomic",
           "help": null,
           "isdict": false,
           "islist": false,
           "label": "config",
           "meta": {},
           "name": "config",
           "series": false,
           "type": "dict",
           "type_check": true
          },
          {
           "dataType": "string",
           "default": "",
           "flow": "atomic",
           "help": null,
           "isdict": false,
           "islist": false,
           "label": "source",
           "meta": {},
           "name": "source",
           "series": false,
           "type": "str",
           "type_check": true
          }
         ],
         "outputs": [
          {
           "flow": "atomic",
           "help": null,
           "label": "data",
           "meta": {},
           "name": "data",
           "series": false,
           "type": "DataFrame",
           "type_check": true
          }
         ],
         "overwritten": false,
         "published": true,
         "var_names": [
          "ReadCsvProjectSpace"
         ]
        }
       ],
       "connections": [
        {
         "id": "77189288-72cc-49ab-b024-946b7e3e8b02",
         "source": {
          "adapter": false,
          "instance_id": "3777b19d-b963-4341-8146-1a3d722c8836",
          "name": "data"
         },
         "target": {
          "adapter": false,
          "instance_id": "9f11f008-b448-4586-9688-e6b3be334d37",
          "name": "ip_data"
         }
        },
        {
         "id": "b1d9c7c6-100e-4ac0-ab03-43b8069089ea",
         "source": {
          "adapter": false,
          "instance_id": "3777b19d-b963-4341-8146-1a3d722c8836",
          "name": "data"
         },
         "target": {
          "adapter": false,
          "instance_id": "08a93d73-3947-4f80-b245-82e1e7b9150c",
          "name": "ip_data"
         }
        },
        {
         "id": "e06bbdf5-39a1-424f-8f22-5cd5ea97139b",
         "source": {
          "adapter": false,
          "instance_id": "3777b19d-b963-4341-8146-1a3d722c8836",
          "name": "data"
         },
         "target": {
          "adapter": false,
          "instance_id": "bdde2d65-0b4a-43f7-b7f3-8b7f0f0e9cd9",
          "name": "ip_data"
         }
        },
        {
         "id": "893d7e14-ab51-4150-95dd-73d31def8aa2",
         "source": {
          "adapter": false,
          "instance_id": "3777b19d-b963-4341-8146-1a3d722c8836",
          "name": "data"
         },
         "target": {
          "adapter": false,
          "instance_id": "96379317-bcae-4f23-949b-1422f66f4225",
          "name": "ip_data"
         }
        },
        {
         "id": "1c82b1cf-5609-4c7a-814f-ea1392082b78",
         "source": {
          "adapter": false,
          "instance_id": "9f11f008-b448-4586-9688-e6b3be334d37",
          "name": "customer_static"
         },
         "target": {
          "adapter": false,
          "instance_id": "5db91a29-54d3-4afc-93fd-84f54a8311d4",
          "name": "ip_data"
         }
        },
        {
         "id": "ec87d209-7832-4622-adee-7d252805b6d5",
         "source": {
          "adapter": false,
          "instance_id": "3777b19d-b963-4341-8146-1a3d722c8836",
          "name": "data"
         },
         "target": {
          "adapter": false,
          "instance_id": "caf0c4d2-078f-45af-9b49-c41cdd1905d9",
          "name": "ip_data"
         }
        },
        {
         "id": "5e786882-9207-4f78-b4a8-fdb80d3b47ac",
         "source": {
          "adapter": false,
          "instance_id": "2852b809-8bae-49a2-a3e3-7b15778ed221",
          "name": "op_path"
         },
         "target": {
          "adapter": false,
          "instance_id": "3777b19d-b963-4341-8146-1a3d722c8836",
          "name": "filename"
         }
        }
       ],
       "id": "f5e9aac8-5ff4-43c1-af79-6262c59f7012",
       "instances": [
        {
         "block_class": "eb3d4e54-06c2-40b2-98d9-dbba29d2fc39",
         "id": "5db91a29-54d3-4afc-93fd-84f54a8311d4",
         "name": "DropDuplicates_1",
         "var_names": [
          "drp"
         ]
        },
        {
         "block_class": "591b1ec7-f9bf-4d33-81bc-e017086d3c5b",
         "id": "9f11f008-b448-4586-9688-e6b3be334d37",
         "name": "CustStatic_1",
         "var_names": [
          "cs"
         ]
        },
        {
         "block_class": "5aa11834-8396-4b25-a409-6bea5b33ad1b",
         "id": "3777b19d-b963-4341-8146-1a3d722c8836",
         "name": "ReadCsvProjectSpace_1",
         "var_names": [
          "rcp"
         ]
        },
        {
         "block_class": "4948a222-ed2b-409a-ad54-7a996745e190",
         "id": "2852b809-8bae-49a2-a3e3-7b15778ed221",
         "name": "NonSparkPath_1",
         "var_names": [
          "nsp"
         ]
        },
        {
         "block_class": "09e50c80-1ff9-449e-8432-abc80990ef56",
         "id": "96379317-bcae-4f23-949b-1422f66f4225",
         "name": "CustMercTS_1",
         "var_names": [
          "cm_ts"
         ]
        },
        {
         "block_class": "b4f1db6e-c6f2-40e4-8c36-00557fc70a98",
         "id": "bdde2d65-0b4a-43f7-b7f3-8b7f0f0e9cd9",
         "name": "ProdTypeTS_1",
         "var_names": [
          "pt_ts"
         ]
        },
        {
         "block_class": "2fde5b33-1b9b-4dbc-82cf-65443f31e351",
         "id": "08a93d73-3947-4f80-b245-82e1e7b9150c",
         "name": "TranCityTS_1",
         "var_names": [
          "tc_ts"
         ]
        },
        {
         "block_class": "51a5a45c-7826-49cf-9ee1-047108c34b25",
         "id": "caf0c4d2-078f-45af-9b49-c41cdd1905d9",
         "name": "TranTypeTS_1",
         "var_names": [
          "tt_ts"
         ]
        }
       ],
       "name": "temp",
       "var_names": []
      },
      "image/svg+xml": [
       "<?xml version=\"1.0\" encoding=\"UTF-8\" standalone=\"no\"?>\n",
       "<!DOCTYPE svg PUBLIC \"-//W3C//DTD SVG 1.1//EN\"\n",
       " \"http://www.w3.org/Graphics/SVG/1.1/DTD/svg11.dtd\">\n",
       "<!-- Generated by graphviz version 2.43.0 (0)\n",
       " -->\n",
       "<!-- Title: %3 Pages: 1 -->\n",
       "<svg width=\"989pt\" height=\"293pt\"\n",
       " viewBox=\"0.00 0.00 989.32 293.00\" xmlns=\"http://www.w3.org/2000/svg\" xmlns:xlink=\"http://www.w3.org/1999/xlink\">\n",
       "<g id=\"graph0\" class=\"graph\" transform=\"scale(1 1) rotate(0) translate(4 289)\">\n",
       "<title>%3</title>\n",
       "<polygon fill=\"white\" stroke=\"transparent\" points=\"-4,4 -4,-289 985.32,-289 985.32,4 -4,4\"/>\n",
       "<!-- DropDuplicates(&#39;DropDuplicates_1&#39;) -->\n",
       "<g id=\"node1\" class=\"node\">\n",
       "<title>DropDuplicates(&#39;DropDuplicates_1&#39;)</title>\n",
       "<ellipse fill=\"none\" stroke=\"black\" cx=\"112.43\" cy=\"-18\" rx=\"112.37\" ry=\"18\"/>\n",
       "<text text-anchor=\"middle\" x=\"112.43\" y=\"-15.5\" font-family=\"Helvetica,sans-Serif\" font-size=\"10.00\">DropDuplicates(&#39;DropDuplicates_1&#39;)</text>\n",
       "</g>\n",
       "<!-- CustStatic(&#39;CustStatic_1&#39;) -->\n",
       "<g id=\"node2\" class=\"node\">\n",
       "<title>CustStatic(&#39;CustStatic_1&#39;)</title>\n",
       "<ellipse fill=\"none\" stroke=\"black\" cx=\"112.43\" cy=\"-101\" rx=\"82.33\" ry=\"18\"/>\n",
       "<text text-anchor=\"middle\" x=\"112.43\" y=\"-98.5\" font-family=\"Helvetica,sans-Serif\" font-size=\"10.00\">CustStatic(&#39;CustStatic_1&#39;)</text>\n",
       "</g>\n",
       "<!-- CustStatic(&#39;CustStatic_1&#39;)&#45;&gt;DropDuplicates(&#39;DropDuplicates_1&#39;) -->\n",
       "<g id=\"edge1\" class=\"edge\">\n",
       "<title>CustStatic(&#39;CustStatic_1&#39;)&#45;&gt;DropDuplicates(&#39;DropDuplicates_1&#39;)</title>\n",
       "<path fill=\"none\" stroke=\"black\" d=\"M112.43,-82.82C112.43,-72.19 112.43,-58.31 112.43,-46.2\"/>\n",
       "<polygon fill=\"black\" stroke=\"black\" points=\"115.93,-46.15 112.43,-36.15 108.93,-46.15 115.93,-46.15\"/>\n",
       "<text text-anchor=\"middle\" x=\"175.93\" y=\"-57\" font-family=\"Helvetica,sans-Serif\" font-size=\"10.00\">customer_static&#45;&gt;ip_data</text>\n",
       "</g>\n",
       "<!-- ReadCsvProjectSpace(&#39;ReadCsvProjectSpace_1&#39;) -->\n",
       "<g id=\"node3\" class=\"node\">\n",
       "<title>ReadCsvProjectSpace(&#39;ReadCsvProjectSpace_1&#39;)</title>\n",
       "<ellipse fill=\"none\" stroke=\"black\" cx=\"506.43\" cy=\"-184\" rx=\"148.86\" ry=\"18\"/>\n",
       "<text text-anchor=\"middle\" x=\"506.43\" y=\"-181.5\" font-family=\"Helvetica,sans-Serif\" font-size=\"10.00\">ReadCsvProjectSpace(&#39;ReadCsvProjectSpace_1&#39;)</text>\n",
       "</g>\n",
       "<!-- ReadCsvProjectSpace(&#39;ReadCsvProjectSpace_1&#39;)&#45;&gt;CustStatic(&#39;CustStatic_1&#39;) -->\n",
       "<g id=\"edge2\" class=\"edge\">\n",
       "<title>ReadCsvProjectSpace(&#39;ReadCsvProjectSpace_1&#39;)&#45;&gt;CustStatic(&#39;CustStatic_1&#39;)</title>\n",
       "<path fill=\"none\" stroke=\"black\" d=\"M427.13,-168.65C394.09,-162.52 355.36,-155.15 320.43,-148 272.23,-138.14 217.96,-126.1 176.94,-116.82\"/>\n",
       "<polygon fill=\"black\" stroke=\"black\" points=\"177.6,-113.38 167.08,-114.58 176.05,-120.21 177.6,-113.38\"/>\n",
       "<text text-anchor=\"middle\" x=\"355.43\" y=\"-140\" font-family=\"Helvetica,sans-Serif\" font-size=\"10.00\">data&#45;&gt;ip_data</text>\n",
       "</g>\n",
       "<!-- CustMercTS(&#39;CustMercTS_1&#39;) -->\n",
       "<g id=\"node5\" class=\"node\">\n",
       "<title>CustMercTS(&#39;CustMercTS_1&#39;)</title>\n",
       "<ellipse fill=\"none\" stroke=\"black\" cx=\"305.43\" cy=\"-101\" rx=\"92.34\" ry=\"18\"/>\n",
       "<text text-anchor=\"middle\" x=\"305.43\" y=\"-98.5\" font-family=\"Helvetica,sans-Serif\" font-size=\"10.00\">CustMercTS(&#39;CustMercTS_1&#39;)</text>\n",
       "</g>\n",
       "<!-- ReadCsvProjectSpace(&#39;ReadCsvProjectSpace_1&#39;)&#45;&gt;CustMercTS(&#39;CustMercTS_1&#39;) -->\n",
       "<g id=\"edge3\" class=\"edge\">\n",
       "<title>ReadCsvProjectSpace(&#39;ReadCsvProjectSpace_1&#39;)&#45;&gt;CustMercTS(&#39;CustMercTS_1&#39;)</title>\n",
       "<path fill=\"none\" stroke=\"black\" d=\"M465.76,-166.61C433.15,-153.47 387.33,-135 353.02,-121.18\"/>\n",
       "<polygon fill=\"black\" stroke=\"black\" points=\"354.25,-117.9 343.67,-117.41 351.63,-124.39 354.25,-117.9\"/>\n",
       "<text text-anchor=\"middle\" x=\"453.43\" y=\"-140\" font-family=\"Helvetica,sans-Serif\" font-size=\"10.00\">data&#45;&gt;ip_data</text>\n",
       "</g>\n",
       "<!-- ProdTypeTS(&#39;ProdTypeTS_1&#39;) -->\n",
       "<g id=\"node6\" class=\"node\">\n",
       "<title>ProdTypeTS(&#39;ProdTypeTS_1&#39;)</title>\n",
       "<ellipse fill=\"none\" stroke=\"black\" cx=\"506.43\" cy=\"-101\" rx=\"90.81\" ry=\"18\"/>\n",
       "<text text-anchor=\"middle\" x=\"506.43\" y=\"-98.5\" font-family=\"Helvetica,sans-Serif\" font-size=\"10.00\">ProdTypeTS(&#39;ProdTypeTS_1&#39;)</text>\n",
       "</g>\n",
       "<!-- ReadCsvProjectSpace(&#39;ReadCsvProjectSpace_1&#39;)&#45;&gt;ProdTypeTS(&#39;ProdTypeTS_1&#39;) -->\n",
       "<g id=\"edge4\" class=\"edge\">\n",
       "<title>ReadCsvProjectSpace(&#39;ReadCsvProjectSpace_1&#39;)&#45;&gt;ProdTypeTS(&#39;ProdTypeTS_1&#39;)</title>\n",
       "<path fill=\"none\" stroke=\"black\" d=\"M506.43,-165.82C506.43,-155.19 506.43,-141.31 506.43,-129.2\"/>\n",
       "<polygon fill=\"black\" stroke=\"black\" points=\"509.93,-129.15 506.43,-119.15 502.93,-129.15 509.93,-129.15\"/>\n",
       "<text text-anchor=\"middle\" x=\"541.43\" y=\"-140\" font-family=\"Helvetica,sans-Serif\" font-size=\"10.00\">data&#45;&gt;ip_data</text>\n",
       "</g>\n",
       "<!-- TranCityTS(&#39;TranCityTS_1&#39;) -->\n",
       "<g id=\"node7\" class=\"node\">\n",
       "<title>TranCityTS(&#39;TranCityTS_1&#39;)</title>\n",
       "<ellipse fill=\"none\" stroke=\"black\" cx=\"700.43\" cy=\"-101\" rx=\"85.21\" ry=\"18\"/>\n",
       "<text text-anchor=\"middle\" x=\"700.43\" y=\"-98.5\" font-family=\"Helvetica,sans-Serif\" font-size=\"10.00\">TranCityTS(&#39;TranCityTS_1&#39;)</text>\n",
       "</g>\n",
       "<!-- ReadCsvProjectSpace(&#39;ReadCsvProjectSpace_1&#39;)&#45;&gt;TranCityTS(&#39;TranCityTS_1&#39;) -->\n",
       "<g id=\"edge5\" class=\"edge\">\n",
       "<title>ReadCsvProjectSpace(&#39;ReadCsvProjectSpace_1&#39;)&#45;&gt;TranCityTS(&#39;TranCityTS_1&#39;)</title>\n",
       "<path fill=\"none\" stroke=\"black\" d=\"M545.69,-166.61C577.13,-153.48 621.3,-135.04 654.4,-121.22\"/>\n",
       "<polygon fill=\"black\" stroke=\"black\" points=\"655.98,-124.35 663.86,-117.27 653.28,-117.89 655.98,-124.35\"/>\n",
       "<text text-anchor=\"middle\" x=\"650.43\" y=\"-140\" font-family=\"Helvetica,sans-Serif\" font-size=\"10.00\">data&#45;&gt;ip_data</text>\n",
       "</g>\n",
       "<!-- TranTypeTS(&#39;TranTypeTS_1&#39;) -->\n",
       "<g id=\"node8\" class=\"node\">\n",
       "<title>TranTypeTS(&#39;TranTypeTS_1&#39;)</title>\n",
       "<ellipse fill=\"none\" stroke=\"black\" cx=\"892.43\" cy=\"-101\" rx=\"88.78\" ry=\"18\"/>\n",
       "<text text-anchor=\"middle\" x=\"892.43\" y=\"-98.5\" font-family=\"Helvetica,sans-Serif\" font-size=\"10.00\">TranTypeTS(&#39;TranTypeTS_1&#39;)</text>\n",
       "</g>\n",
       "<!-- ReadCsvProjectSpace(&#39;ReadCsvProjectSpace_1&#39;)&#45;&gt;TranTypeTS(&#39;TranTypeTS_1&#39;) -->\n",
       "<g id=\"edge6\" class=\"edge\">\n",
       "<title>ReadCsvProjectSpace(&#39;ReadCsvProjectSpace_1&#39;)&#45;&gt;TranTypeTS(&#39;TranTypeTS_1&#39;)</title>\n",
       "<path fill=\"none\" stroke=\"black\" d=\"M584.92,-168.59C617.32,-162.49 655.24,-155.14 689.43,-148 735.58,-138.36 787.4,-126.6 827.14,-117.39\"/>\n",
       "<polygon fill=\"black\" stroke=\"black\" points=\"828.02,-120.77 836.97,-115.1 826.44,-113.96 828.02,-120.77\"/>\n",
       "<text text-anchor=\"middle\" x=\"775.43\" y=\"-140\" font-family=\"Helvetica,sans-Serif\" font-size=\"10.00\">data&#45;&gt;ip_data</text>\n",
       "</g>\n",
       "<!-- NonSparkPath(&#39;NonSparkPath_1&#39;) -->\n",
       "<g id=\"node4\" class=\"node\">\n",
       "<title>NonSparkPath(&#39;NonSparkPath_1&#39;)</title>\n",
       "<ellipse fill=\"none\" stroke=\"black\" cx=\"506.43\" cy=\"-267\" rx=\"104.56\" ry=\"18\"/>\n",
       "<text text-anchor=\"middle\" x=\"506.43\" y=\"-264.5\" font-family=\"Helvetica,sans-Serif\" font-size=\"10.00\">NonSparkPath(&#39;NonSparkPath_1&#39;)</text>\n",
       "</g>\n",
       "<!-- NonSparkPath(&#39;NonSparkPath_1&#39;)&#45;&gt;ReadCsvProjectSpace(&#39;ReadCsvProjectSpace_1&#39;) -->\n",
       "<g id=\"edge7\" class=\"edge\">\n",
       "<title>NonSparkPath(&#39;NonSparkPath_1&#39;)&#45;&gt;ReadCsvProjectSpace(&#39;ReadCsvProjectSpace_1&#39;)</title>\n",
       "<path fill=\"none\" stroke=\"black\" d=\"M506.43,-248.82C506.43,-238.19 506.43,-224.31 506.43,-212.2\"/>\n",
       "<polygon fill=\"black\" stroke=\"black\" points=\"509.93,-212.15 506.43,-202.15 502.93,-212.15 509.93,-212.15\"/>\n",
       "<text text-anchor=\"middle\" x=\"553.43\" y=\"-223\" font-family=\"Helvetica,sans-Serif\" font-size=\"10.00\">op_path&#45;&gt;filename</text>\n",
       "</g>\n",
       "</g>\n",
       "</svg>\n"
      ],
      "text/plain": [
       "<razor.flow.async_pipeline.Pipeline at 0x7f8ee96d6c90>"
      ]
     },
     "execution_count": 15,
     "metadata": {},
     "output_type": "execute_result"
    }
   ],
   "source": [
    "pipe"
   ]
  },
  {
   "cell_type": "code",
   "execution_count": 16,
   "id": "romantic-hopkins",
   "metadata": {},
   "outputs": [
    {
     "name": "stdout",
     "output_type": "stream",
     "text": [
      "log path: /tmp/tmpve89ktdx/temp\n"
     ]
    },
    {
     "data": {
      "application/vnd.razorthink.run+monitor+json": "/tmp/tmpve89ktdx/temp",
      "text/plain": [
       "<razor_tools.backend.ipython.mime.run_monitor.RunMonitor at 0x7f8f6855ed50>"
      ]
     },
     "metadata": {
      "application/vnd.razorthink.run+monitor+json": {
       "run_data": {
        "apm": [
         {
          "cpu_percent": 0,
          "cpu_time": 0.01,
          "name": "NonSparkPath_1",
          "real_mem": 155148288,
          "time": 1616486293.2101073
         },
         {
          "cpu_percent": 0,
          "cpu_time": 0.03,
          "name": "NonSparkPath_1",
          "real_mem": 156860416,
          "time": 1616486293.3228028
         },
         {
          "cpu_percent": 0,
          "cpu_time": 0.03,
          "name": "NonSparkPath_1",
          "real_mem": 156860416,
          "time": 1616486293.435307
         },
         {
          "cpu_percent": 0,
          "cpu_time": 0.05,
          "name": "NonSparkPath_1",
          "real_mem": 157175808,
          "time": 1616486293.5479505
         },
         {
          "cpu_percent": 0,
          "cpu_time": 0.01,
          "name": "ProdTypeTS_1",
          "real_mem": 155684864,
          "time": 1616486293.5247595
         },
         {
          "cpu_percent": 0,
          "cpu_time": 0.03,
          "name": "CustStatic_1",
          "real_mem": 155856896,
          "time": 1616486293.5668359
         },
         {
          "cpu_percent": 0,
          "cpu_time": 0.01,
          "name": "CustMercTS_1",
          "real_mem": 155774976,
          "time": 1616486293.551744
         },
         {
          "cpu_percent": 0,
          "cpu_time": 0.03,
          "name": "TranTypeTS_1",
          "real_mem": 156012544,
          "time": 1616486293.5811782
         },
         {
          "cpu_percent": 0,
          "cpu_time": 0.03,
          "name": "DropDuplicates_1",
          "real_mem": 156094464,
          "time": 1616486293.5956929
         },
         {
          "cpu_percent": 0,
          "cpu_time": 0.03,
          "name": "TranCityTS_1",
          "real_mem": 156246016,
          "time": 1616486293.6095984
         },
         {
          "cpu_percent": 98.2,
          "cpu_time": 0.05,
          "name": "ReadCsvProjectSpace_1",
          "real_mem": 156385280,
          "time": 1616486293.6237288
         },
         {
          "cpu_percent": 0,
          "cpu_time": 0.05,
          "name": "ProdTypeTS_1",
          "real_mem": 156385280,
          "time": 1616486293.6378915
         },
         {
          "cpu_percent": 0,
          "cpu_time": 0.06,
          "name": "NonSparkPath_1",
          "real_mem": 157306880,
          "time": 1616486293.660483
         },
         {
          "cpu_percent": 83.2,
          "cpu_time": 0.07,
          "name": "CustMercTS_1",
          "real_mem": 157630464,
          "time": 1616486293.6690474
         },
         {
          "cpu_percent": 98.1,
          "cpu_time": 0.09,
          "name": "CustStatic_1",
          "real_mem": 161202176,
          "time": 1616486293.6936615
         },
         {
          "cpu_percent": 0,
          "cpu_time": 0.09,
          "name": "TranTypeTS_1",
          "real_mem": 163287040,
          "time": 1616486293.74868
         },
         {
          "cpu_percent": 196,
          "cpu_time": 0.25,
          "name": "ReadCsvProjectSpace_1",
          "real_mem": 194355200,
          "time": 1616486293.880198
         },
         {
          "cpu_percent": 0,
          "cpu_time": 0.27999999999999997,
          "name": "ProdTypeTS_1",
          "real_mem": 200667136,
          "time": 1616486293.9485629
         },
         {
          "cpu_percent": 97.8,
          "cpu_time": 0.19,
          "name": "TranCityTS_1",
          "real_mem": 186814464,
          "time": 1616486293.836424
         },
         {
          "cpu_percent": 98.3,
          "cpu_time": 0.13,
          "name": "DropDuplicates_1",
          "real_mem": 184049664,
          "time": 1616486293.7928722
         },
         {
          "cpu_percent": 294.8,
          "cpu_time": 0.34,
          "name": "CustMercTS_1",
          "real_mem": 208834560,
          "time": 1616486293.9922652
         },
         {
          "cpu_percent": 98.5,
          "cpu_time": 0.36,
          "name": "CustStatic_1",
          "real_mem": 211705856,
          "time": 1616486294.0589569
         },
         {
          "cpu_percent": 0,
          "cpu_time": 0.11,
          "name": "TranTypeTS_1",
          "real_mem": 163291136,
          "time": 1616486294.1026568
         },
         {
          "cpu_percent": 98.4,
          "cpu_time": 0.15,
          "name": "DropDuplicates_1",
          "real_mem": 175185920,
          "time": 1616486294.1482809
         },
         {
          "cpu_percent": 98,
          "cpu_time": 0.16999999999999998,
          "name": "TranCityTS_1",
          "real_mem": 177950720,
          "time": 1616486294.1703029
         },
         {
          "cpu_percent": 196.4,
          "cpu_time": 0.22999999999999998,
          "name": "ProdTypeTS_1",
          "real_mem": 181399552,
          "time": 1616486294.2153945
         },
         {
          "cpu_percent": 0,
          "cpu_time": 0.25,
          "name": "CustMercTS_1",
          "real_mem": 182673408,
          "time": 1616486294.2379055
         },
         {
          "cpu_percent": 295.6,
          "cpu_time": 0.29000000000000004,
          "name": "CustStatic_1",
          "real_mem": 189001728,
          "time": 1616486294.270399
         },
         {
          "cpu_percent": 98.4,
          "cpu_time": 0.2,
          "name": "ReadCsvProjectSpace_1",
          "real_mem": 179363840,
          "time": 1616486294.1934278
         },
         {
          "cpu_percent": 98.7,
          "cpu_time": 0.32,
          "name": "TranTypeTS_1",
          "real_mem": 195133440,
          "time": 1616486294.2927897
         },
         {
          "cpu_percent": 0,
          "cpu_time": 0.32999999999999996,
          "name": "DropDuplicates_1",
          "real_mem": 195977216,
          "time": 1616486294.3152785
         },
         {
          "cpu_percent": 96.5,
          "cpu_time": 0.37,
          "name": "TranCityTS_1",
          "real_mem": 202604544,
          "time": 1616486294.3703895
         },
         {
          "cpu_percent": 98.4,
          "cpu_time": 0.46,
          "name": "ProdTypeTS_1",
          "real_mem": 211828736,
          "time": 1616486294.4698296
         },
         {
          "cpu_percent": 98.6,
          "cpu_time": 0.54,
          "name": "CustStatic_1",
          "real_mem": 216096768,
          "time": 1616486294.5717125
         },
         {
          "cpu_percent": 14.7,
          "cpu_time": 0.5,
          "name": "CustMercTS_1",
          "real_mem": 213868544,
          "time": 1616486294.5495546
         },
         {
          "cpu_percent": 196.7,
          "cpu_time": 0.41000000000000003,
          "name": "ReadCsvProjectSpace_1",
          "real_mem": 207810560,
          "time": 1616486294.3932695
         },
         {
          "cpu_percent": 98,
          "cpu_time": 0.5900000000000001,
          "name": "TranTypeTS_1",
          "real_mem": 218406912,
          "time": 1616486294.5947704
         },
         {
          "cpu_percent": 0,
          "cpu_time": 0.66,
          "name": "TranCityTS_1",
          "real_mem": 222613504,
          "time": 1616486294.6926663
         },
         {
          "cpu_percent": 295.5,
          "cpu_time": 0.7100000000000001,
          "name": "ReadCsvProjectSpace_1",
          "real_mem": 224813056,
          "time": 1616486294.7702904
         },
         {
          "cpu_percent": 196.4,
          "cpu_time": 0.74,
          "name": "ProdTypeTS_1",
          "real_mem": 226885632,
          "time": 1616486294.8592625
         },
         {
          "cpu_percent": 197.1,
          "cpu_time": 0.64,
          "name": "DropDuplicates_1",
          "real_mem": 221233152,
          "time": 1616486294.6703715
         },
         {
          "cpu_percent": 196.8,
          "cpu_time": 0.77,
          "name": "CustMercTS_1",
          "real_mem": 229175296,
          "time": 1616486294.8829489
         },
         {
          "cpu_percent": 96.6,
          "cpu_time": 0.81,
          "name": "CustStatic_1",
          "real_mem": 231874560,
          "time": 1616486294.9705462
         },
         {
          "cpu_percent": 96.2,
          "cpu_time": 0.8200000000000001,
          "name": "TranTypeTS_1",
          "real_mem": 238092288,
          "time": 1616486294.992769
         },
         {
          "cpu_percent": 0,
          "cpu_time": 0.8200000000000001,
          "name": "DropDuplicates_1",
          "real_mem": 238092288,
          "time": 1616486295.0484679
         },
         {
          "cpu_percent": 97.7,
          "cpu_time": 0.86,
          "name": "TranCityTS_1",
          "real_mem": 241065984,
          "time": 1616486295.071356
         },
         {
          "cpu_percent": 98.1,
          "cpu_time": 0.88,
          "name": "ReadCsvProjectSpace_1",
          "real_mem": 242409472,
          "time": 1616486295.0952678
         },
         {
          "cpu_percent": 194.4,
          "cpu_time": 0.93,
          "name": "ProdTypeTS_1",
          "real_mem": 243216384,
          "time": 1616486295.1709602
         },
         {
          "cpu_percent": 294.7,
          "cpu_time": 0.9800000000000001,
          "name": "CustMercTS_1",
          "real_mem": 244023296,
          "time": 1616486295.1932707
         },
         {
          "cpu_percent": 96.9,
          "cpu_time": 1.04,
          "name": "CustStatic_1",
          "real_mem": 244834304,
          "time": 1616486295.271058
         },
         {
          "cpu_percent": 191.7,
          "cpu_time": 1.08,
          "name": "TranTypeTS_1",
          "real_mem": 247537664,
          "time": 1616486295.2948356
         },
         {
          "cpu_percent": 98,
          "cpu_time": 1.1,
          "name": "DropDuplicates_1",
          "real_mem": 248516608,
          "time": 1616486295.3593264
         },
         {
          "cpu_percent": 196.6,
          "cpu_time": 1.13,
          "name": "TranCityTS_1",
          "real_mem": 252919808,
          "time": 1616486295.381317
         },
         {
          "cpu_percent": 98.4,
          "cpu_time": 1.19,
          "name": "ProdTypeTS_1",
          "real_mem": 253804544,
          "time": 1616486295.469698
         },
         {
          "cpu_percent": 196.7,
          "cpu_time": 1.17,
          "name": "ReadCsvProjectSpace_1",
          "real_mem": 253456384,
          "time": 1616486295.403733
         },
         {
          "cpu_percent": 97.5,
          "cpu_time": 1.22,
          "name": "CustMercTS_1",
          "real_mem": 254070784,
          "time": 1616486295.4935837
         },
         {
          "cpu_percent": 98.1,
          "cpu_time": 1.24,
          "name": "CustStatic_1",
          "real_mem": 254255104,
          "time": 1616486295.515781
         },
         {
          "cpu_percent": 0,
          "cpu_time": 1.25,
          "name": "TranTypeTS_1",
          "real_mem": 254468096,
          "time": 1616486295.5377297
         },
         {
          "cpu_percent": 97.9,
          "cpu_time": 1.28,
          "name": "DropDuplicates_1",
          "real_mem": 254787584,
          "time": 1616486295.5701573
         },
         {
          "cpu_percent": 96.7,
          "cpu_time": 1.3299999999999998,
          "name": "TranCityTS_1",
          "real_mem": 255324160,
          "time": 1616486295.593865
         },
         {
          "cpu_percent": 96.8,
          "cpu_time": 1.3599999999999999,
          "name": "ReadCsvProjectSpace_1",
          "real_mem": 255696896,
          "time": 1616486295.669555
         },
         {
          "cpu_percent": 194.1,
          "cpu_time": 1.39,
          "name": "ProdTypeTS_1",
          "real_mem": 255844352,
          "time": 1616486295.692136
         },
         {
          "cpu_percent": 0,
          "cpu_time": 1.42,
          "name": "CustMercTS_1",
          "real_mem": 256229376,
          "time": 1616486295.714789
         },
         {
          "cpu_percent": 197.1,
          "cpu_time": 1.49,
          "name": "CustStatic_1",
          "real_mem": 257241088,
          "time": 1616486295.771161
         },
         {
          "cpu_percent": 196,
          "cpu_time": 1.53,
          "name": "TranTypeTS_1",
          "real_mem": 257155072,
          "time": 1616486295.8485012
         },
         {
          "cpu_percent": 196.7,
          "cpu_time": 1.57,
          "name": "DropDuplicates_1",
          "real_mem": 257961984,
          "time": 1616486295.8710268
         },
         {
          "cpu_percent": 196.7,
          "cpu_time": 1.6099999999999999,
          "name": "TranCityTS_1",
          "real_mem": 257572864,
          "time": 1616486295.8943408
         },
         {
          "cpu_percent": 196.9,
          "cpu_time": 1.64,
          "name": "ReadCsvProjectSpace_1",
          "real_mem": 262959104,
          "time": 1616486295.969554
         },
         {
          "cpu_percent": 98.1,
          "cpu_time": 1.67,
          "name": "ProdTypeTS_1",
          "real_mem": 271380480,
          "time": 1616486295.991733
         },
         {
          "cpu_percent": 170.2,
          "cpu_time": 1.72,
          "name": "CustMercTS_1",
          "real_mem": 271826944,
          "time": 1616486296.015418
         },
         {
          "cpu_percent": 97.8,
          "cpu_time": 1.76,
          "name": "CustStatic_1",
          "real_mem": 272146432,
          "time": 1616486296.0702405
         },
         {
          "cpu_percent": 0,
          "cpu_time": 1.81,
          "name": "DropDuplicates_1",
          "real_mem": 273580032,
          "time": 1616486296.1153018
         },
         {
          "cpu_percent": 94.3,
          "cpu_time": 1.83,
          "name": "TranCityTS_1",
          "real_mem": 277635072,
          "time": 1616486296.170517
         },
         {
          "cpu_percent": 97.3,
          "cpu_time": 1.79,
          "name": "TranTypeTS_1",
          "real_mem": 273043456,
          "time": 1616486296.0924165
         },
         {
          "cpu_percent": 98.1,
          "cpu_time": 1.8699999999999999,
          "name": "ReadCsvProjectSpace_1",
          "real_mem": 278159360,
          "time": 1616486296.193676
         },
         {
          "cpu_percent": 197,
          "cpu_time": 1.92,
          "name": "ProdTypeTS_1",
          "real_mem": 278503424,
          "time": 1616486296.2706633
         },
         {
          "cpu_percent": 0,
          "cpu_time": 1.94,
          "name": "CustMercTS_1",
          "real_mem": 278818816,
          "time": 1616486296.3484
         },
         {
          "cpu_percent": 196.1,
          "cpu_time": 1.97,
          "name": "CustStatic_1",
          "real_mem": 279601152,
          "time": 1616486296.3708656
         },
         {
          "cpu_percent": 0,
          "cpu_time": 1.99,
          "name": "TranTypeTS_1",
          "real_mem": 279654400,
          "time": 1616486296.4481544
         },
         {
          "cpu_percent": 98.5,
          "cpu_time": 2.05,
          "name": "DropDuplicates_1",
          "real_mem": 279965696,
          "time": 1616486296.473338
         },
         {
          "cpu_percent": 0,
          "cpu_time": 2.06,
          "name": "TranCityTS_1",
          "real_mem": 280195072,
          "time": 1616486296.4956875
         },
         {
          "cpu_percent": 97.8,
          "cpu_time": 2.09,
          "name": "ReadCsvProjectSpace_1",
          "real_mem": 280461312,
          "time": 1616486296.5704808
         },
         {
          "cpu_percent": 197.9,
          "cpu_time": 2.13,
          "name": "ProdTypeTS_1",
          "real_mem": 280616960,
          "time": 1616486296.592696
         },
         {
          "cpu_percent": 0,
          "cpu_time": 2.1399999999999997,
          "name": "CustMercTS_1",
          "real_mem": 280780800,
          "time": 1616486296.6172276
         },
         {
          "cpu_percent": 98.4,
          "cpu_time": 2.17,
          "name": "CustStatic_1",
          "real_mem": 281341952,
          "time": 1616486296.670353
         },
         {
          "cpu_percent": 294.4,
          "cpu_time": 2.21,
          "name": "TranTypeTS_1",
          "real_mem": 281604096,
          "time": 1616486296.6922555
         },
         {
          "cpu_percent": 193.8,
          "cpu_time": 2.24,
          "name": "DropDuplicates_1",
          "real_mem": 281952256,
          "time": 1616486296.7144032
         },
         {
          "cpu_percent": 193.4,
          "cpu_time": 2.34,
          "name": "ProdTypeTS_1",
          "real_mem": 282836992,
          "time": 1616486296.8704522
         },
         {
          "cpu_percent": 195.9,
          "cpu_time": 2.28,
          "name": "TranCityTS_1",
          "real_mem": 282456064,
          "time": 1616486296.7712388
         },
         {
          "cpu_percent": 98.3,
          "cpu_time": 2.3,
          "name": "ReadCsvProjectSpace_1",
          "real_mem": 282456064,
          "time": 1616486296.793351
         },
         {
          "cpu_percent": 97,
          "cpu_time": 2.37,
          "name": "CustMercTS_1",
          "real_mem": 283582464,
          "time": 1616486296.8938906
         },
         {
          "cpu_percent": 196.8,
          "cpu_time": 2.3899999999999997,
          "name": "CustStatic_1",
          "real_mem": 283656192,
          "time": 1616486296.9591055
         },
         {
          "cpu_percent": 98.4,
          "cpu_time": 2.42,
          "name": "TranTypeTS_1",
          "real_mem": 284053504,
          "time": 1616486296.981912
         },
         {
          "cpu_percent": 190,
          "cpu_time": 2.48,
          "name": "DropDuplicates_1",
          "real_mem": 284520448,
          "time": 1616486297.0046024
         },
         {
          "cpu_percent": 193,
          "cpu_time": 2.5300000000000002,
          "name": "TranCityTS_1",
          "real_mem": 285032448,
          "time": 1616486297.0710616
         },
         {
          "cpu_percent": 96,
          "cpu_time": 2.56,
          "name": "ReadCsvProjectSpace_1",
          "real_mem": 285573120,
          "time": 1616486297.0935485
         },
         {
          "cpu_percent": 98.2,
          "cpu_time": 2.6,
          "name": "ProdTypeTS_1",
          "real_mem": 285478912,
          "time": 1616486297.1715672
         },
         {
          "cpu_percent": 196.39999999999998,
          "cpu_time": 2.6399999999999997,
          "name": "CustMercTS_1",
          "real_mem": 285880320,
          "time": 1616486297.194322
         },
         {
          "cpu_percent": 194.6,
          "cpu_time": 2.6999999999999997,
          "name": "CustStatic_1",
          "real_mem": 287055872,
          "time": 1616486297.2718484
         },
         {
          "cpu_percent": 98.3,
          "cpu_time": 2.73,
          "name": "TranTypeTS_1",
          "real_mem": 286629888,
          "time": 1616486297.2943466
         },
         {
          "cpu_percent": 0,
          "cpu_time": 2.74,
          "name": "DropDuplicates_1",
          "real_mem": 286801920,
          "time": 1616486297.3171093
         },
         {
          "cpu_percent": 196.7,
          "cpu_time": 2.77,
          "name": "TranCityTS_1",
          "real_mem": 287227904,
          "time": 1616486297.370215
         },
         {
          "cpu_percent": 98.4,
          "cpu_time": 2.81,
          "name": "ReadCsvProjectSpace_1",
          "real_mem": 287535104,
          "time": 1616486297.3921602
         },
         {
          "cpu_percent": 0,
          "cpu_time": 2.8299999999999996,
          "name": "ProdTypeTS_1",
          "real_mem": 287535104,
          "time": 1616486297.4149668
         },
         {
          "cpu_percent": 96.9,
          "cpu_time": 2.8499999999999996,
          "name": "CustMercTS_1",
          "real_mem": 287965184,
          "time": 1616486297.4705017
         },
         {
          "cpu_percent": 98.2,
          "cpu_time": 2.8699999999999997,
          "name": "CustStatic_1",
          "real_mem": 289312768,
          "time": 1616486297.4927404
         },
         {
          "cpu_percent": 98.5,
          "cpu_time": 2.9,
          "name": "TranTypeTS_1",
          "real_mem": 289624064,
          "time": 1616486297.515214
         },
         {
          "cpu_percent": 0,
          "cpu_time": 2.9099999999999997,
          "name": "DropDuplicates_1",
          "real_mem": 289951744,
          "time": 1616486297.5375068
         },
         {
          "cpu_percent": 294.6,
          "cpu_time": 2.95,
          "name": "TranCityTS_1",
          "real_mem": 290205696,
          "time": 1616486297.5701132
         },
         {
          "cpu_percent": 196.5,
          "cpu_time": 2.98,
          "name": "ReadCsvProjectSpace_1",
          "real_mem": 290471936,
          "time": 1616486297.59255
         },
         {
          "cpu_percent": 196.3,
          "cpu_time": 3.0100000000000002,
          "name": "ProdTypeTS_1",
          "real_mem": 290918400,
          "time": 1616486297.6147597
         },
         {
          "cpu_percent": 196.7,
          "cpu_time": 3.06,
          "name": "CustMercTS_1",
          "real_mem": 291180544,
          "time": 1616486297.6709666
         },
         {
          "cpu_percent": 98.6,
          "cpu_time": 3.09,
          "name": "CustStatic_1",
          "real_mem": 291377152,
          "time": 1616486297.6932063
         },
         {
          "cpu_percent": 0,
          "cpu_time": 3.0999999999999996,
          "name": "TranTypeTS_1",
          "real_mem": 291377152,
          "time": 1616486297.7155952
         },
         {
          "cpu_percent": 98.4,
          "cpu_time": 3.1399999999999997,
          "name": "DropDuplicates_1",
          "real_mem": 291950592,
          "time": 1616486297.7704785
         },
         {
          "cpu_percent": 196.8,
          "cpu_time": 3.1799999999999997,
          "name": "TranCityTS_1",
          "real_mem": 292012032,
          "time": 1616486297.7927325
         },
         {
          "cpu_percent": 0,
          "cpu_time": 3.19,
          "name": "ReadCsvProjectSpace_1",
          "real_mem": 292012032,
          "time": 1616486297.8153992
         },
         {
          "cpu_percent": 98.7,
          "cpu_time": 3.22,
          "name": "ProdTypeTS_1",
          "real_mem": 292261888,
          "time": 1616486297.8698263
         },
         {
          "cpu_percent": 97.7,
          "cpu_time": 3.24,
          "name": "CustMercTS_1",
          "real_mem": 293441536,
          "time": 1616486297.8918009
         },
         {
          "cpu_percent": 97.9,
          "cpu_time": 3.2800000000000002,
          "name": "CustStatic_1",
          "real_mem": 293937152,
          "time": 1616486297.9143264
         },
         {
          "cpu_percent": 97.8,
          "cpu_time": 3.29,
          "name": "TranTypeTS_1",
          "real_mem": 293937152,
          "time": 1616486297.936895
         },
         {
          "cpu_percent": 196.4,
          "cpu_time": 3.31,
          "name": "DropDuplicates_1",
          "real_mem": 294473728,
          "time": 1616486297.9592936
         },
         {
          "cpu_percent": 294.8,
          "cpu_time": 3.36,
          "name": "TranCityTS_1",
          "real_mem": 294612992,
          "time": 1616486297.98208
         },
         {
          "cpu_percent": 0,
          "cpu_time": 3.38,
          "name": "ReadCsvProjectSpace_1",
          "real_mem": 294748160,
          "time": 1616486298.0049107
         },
         {
          "cpu_percent": 196,
          "cpu_time": 3.45,
          "name": "ProdTypeTS_1",
          "real_mem": 295215104,
          "time": 1616486298.0709093
         },
         {
          "cpu_percent": 0,
          "cpu_time": 3.47,
          "name": "CustMercTS_1",
          "real_mem": 295239680,
          "time": 1616486298.0937996
         },
         {
          "cpu_percent": 98.1,
          "cpu_time": 3.48,
          "name": "CustStatic_1",
          "real_mem": 295505920,
          "time": 1616486298.1591918
         },
         {
          "cpu_percent": 195.7,
          "cpu_time": 3.5100000000000002,
          "name": "TranTypeTS_1",
          "real_mem": 295763968,
          "time": 1616486298.1809542
         },
         {
          "cpu_percent": 197.4,
          "cpu_time": 3.56,
          "name": "DropDuplicates_1",
          "real_mem": 296022016,
          "time": 1616486298.202812
         },
         {
          "cpu_percent": 196.3,
          "cpu_time": 3.6100000000000003,
          "name": "TranCityTS_1",
          "real_mem": 296284160,
          "time": 1616486298.2707105
         },
         {
          "cpu_percent": 196.8,
          "cpu_time": 3.7,
          "name": "ProdTypeTS_1",
          "real_mem": 297336832,
          "time": 1616486298.3705022
         },
         {
          "cpu_percent": 196.2,
          "cpu_time": 3.6599999999999997,
          "name": "ReadCsvProjectSpace_1",
          "real_mem": 296546304,
          "time": 1616486298.3484159
         },
         {
          "cpu_percent": 290.5,
          "cpu_time": 3.75,
          "name": "CustMercTS_1",
          "real_mem": 297361408,
          "time": 1616486298.3924792
         },
         {
          "cpu_percent": 0,
          "cpu_time": 3.7600000000000002,
          "name": "CustStatic_1",
          "real_mem": 297361408,
          "time": 1616486298.4162657
         },
         {
          "cpu_percent": 294.6,
          "cpu_time": 3.81,
          "name": "TranTypeTS_1",
          "real_mem": 297623552,
          "time": 1616486298.4712806
         },
         {
          "cpu_percent": 291.6,
          "cpu_time": 3.91,
          "name": "TranCityTS_1",
          "real_mem": 297885696,
          "time": 1616486298.5704632
         },
         {
          "cpu_percent": 30.6,
          "cpu_time": 3.8600000000000003,
          "name": "DropDuplicates_1",
          "real_mem": 297672704,
          "time": 1616486298.5484662
         },
         {
          "cpu_percent": 97.7,
          "cpu_time": 3.96,
          "name": "ReadCsvProjectSpace_1",
          "real_mem": 298221568,
          "time": 1616486298.593485
         },
         {
          "cpu_percent": 291.7,
          "cpu_time": 4.0200000000000005,
          "name": "ProdTypeTS_1",
          "real_mem": 298393600,
          "time": 1616486298.6704562
         },
         {
          "cpu_percent": 0,
          "cpu_time": 4.05,
          "name": "CustMercTS_1",
          "real_mem": 298553344,
          "time": 1616486298.6927638
         },
         {
          "cpu_percent": 196.4,
          "cpu_time": 4.09,
          "name": "CustStatic_1",
          "real_mem": 299397120,
          "time": 1616486298.770416
         },
         {
          "cpu_percent": 96.5,
          "cpu_time": 4.13,
          "name": "TranTypeTS_1",
          "real_mem": 298897408,
          "time": 1616486298.7935145
         },
         {
          "cpu_percent": 193.4,
          "cpu_time": 4.16,
          "name": "DropDuplicates_1",
          "real_mem": 299266048,
          "time": 1616486298.8705628
         },
         {
          "cpu_percent": 0,
          "cpu_time": 4.24,
          "name": "ProdTypeTS_1",
          "real_mem": 301051904,
          "time": 1616486298.9373977
         },
         {
          "cpu_percent": 294.3,
          "cpu_time": 4.24,
          "name": "ReadCsvProjectSpace_1",
          "real_mem": 300785664,
          "time": 1616486298.9153326
         },
         {
          "cpu_percent": 98.2,
          "cpu_time": 4.1899999999999995,
          "name": "TranCityTS_1",
          "real_mem": 299266048,
          "time": 1616486298.8928142
         },
         {
          "cpu_percent": 196.4,
          "cpu_time": 4.2700000000000005,
          "name": "CustMercTS_1",
          "real_mem": 300826624,
          "time": 1616486298.971379
         },
         {
          "cpu_percent": 196.5,
          "cpu_time": 4.3,
          "name": "CustStatic_1",
          "real_mem": 300838912,
          "time": 1616486298.9934206
         },
         {
          "cpu_percent": 192.3,
          "cpu_time": 4.34,
          "name": "TranTypeTS_1",
          "real_mem": 301387776,
          "time": 1616486299.059645
         },
         {
          "cpu_percent": 97,
          "cpu_time": 4.37,
          "name": "DropDuplicates_1",
          "real_mem": 302305280,
          "time": 1616486299.084001
         },
         {
          "cpu_percent": 292.7,
          "cpu_time": 4.43,
          "name": "TranCityTS_1",
          "real_mem": 302526464,
          "time": 1616486299.1066654
         },
         {
          "cpu_percent": 295.4,
          "cpu_time": 4.48,
          "name": "ReadCsvProjectSpace_1",
          "real_mem": 302927872,
          "time": 1616486299.170587
         },
         {
          "cpu_percent": 196.2,
          "cpu_time": 4.5200000000000005,
          "name": "ProdTypeTS_1",
          "real_mem": 303190016,
          "time": 1616486299.1926587
         },
         {
          "cpu_percent": 98.1,
          "cpu_time": 4.5600000000000005,
          "name": "CustMercTS_1",
          "real_mem": 303620096,
          "time": 1616486299.2693732
         },
         {
          "cpu_percent": 98.3,
          "cpu_time": 4.58,
          "name": "CustStatic_1",
          "real_mem": 305324032,
          "time": 1616486299.2922235
         },
         {
          "cpu_percent": 97.7,
          "cpu_time": 4.61,
          "name": "TranTypeTS_1",
          "real_mem": 305717248,
          "time": 1616486299.3143368
         },
         {
          "cpu_percent": 191,
          "cpu_time": 4.66,
          "name": "DropDuplicates_1",
          "real_mem": 306581504,
          "time": 1616486299.3703759
         },
         {
          "cpu_percent": 288.6,
          "cpu_time": 4.76,
          "name": "ReadCsvProjectSpace_1",
          "real_mem": 309841920,
          "time": 1616486299.470747
         },
         {
          "cpu_percent": 196.4,
          "cpu_time": 4.8,
          "name": "ProdTypeTS_1",
          "real_mem": 311181312,
          "time": 1616486299.4930947
         },
         {
          "cpu_percent": 295.1,
          "cpu_time": 4.85,
          "name": "CustMercTS_1",
          "real_mem": 311779328,
          "time": 1616486299.5706937
         },
         {
          "cpu_percent": 197.1,
          "cpu_time": 4.71,
          "name": "TranCityTS_1",
          "real_mem": 308625408,
          "time": 1616486299.3937836
         },
         {
          "cpu_percent": 191.7,
          "cpu_time": 4.8999999999999995,
          "name": "CustStatic_1",
          "real_mem": 312102912,
          "time": 1616486299.5946686
         },
         {
          "cpu_percent": 196.8,
          "cpu_time": 4.95,
          "name": "TranTypeTS_1",
          "real_mem": 315650048,
          "time": 1616486299.6707008
         },
         {
          "cpu_percent": 96,
          "cpu_time": 5.07,
          "name": "ReadCsvProjectSpace_1",
          "real_mem": 321167360,
          "time": 1616486299.7927322
         },
         {
          "cpu_percent": 97.8,
          "cpu_time": 5.029999999999999,
          "name": "TranCityTS_1",
          "real_mem": 320655360,
          "time": 1616486299.7706404
         },
         {
          "cpu_percent": 294.3,
          "cpu_time": 4.989999999999999,
          "name": "DropDuplicates_1",
          "real_mem": 320229376,
          "time": 1616486299.6930716
         },
         {
          "cpu_percent": 0,
          "cpu_time": 5.08,
          "name": "ProdTypeTS_1",
          "real_mem": 321433600,
          "time": 1616486299.8157573
         },
         {
          "cpu_percent": 98.3,
          "cpu_time": 5.11,
          "name": "CustMercTS_1",
          "real_mem": 321757184,
          "time": 1616486299.8704915
         },
         {
          "cpu_percent": 94.3,
          "cpu_time": 5.13,
          "name": "CustStatic_1",
          "real_mem": 322306048,
          "time": 1616486299.8931763
         },
         {
          "cpu_percent": 98.1,
          "cpu_time": 5.16,
          "name": "TranTypeTS_1",
          "real_mem": 322572288,
          "time": 1616486299.9162595
         },
         {
          "cpu_percent": 0,
          "cpu_time": 5.17,
          "name": "DropDuplicates_1",
          "real_mem": 322572288,
          "time": 1616486299.9397514
         },
         {
          "cpu_percent": 98.3,
          "cpu_time": 5.180000000000001,
          "name": "TranCityTS_1",
          "real_mem": 323129344,
          "time": 1616486299.9621391
         },
         {
          "cpu_percent": 180.6,
          "cpu_time": 5.220000000000001,
          "name": "ReadCsvProjectSpace_1",
          "real_mem": 323575808,
          "time": 1616486299.9852304
         },
         {
          "cpu_percent": 98.7,
          "cpu_time": 5.26,
          "name": "ProdTypeTS_1",
          "real_mem": 323829760,
          "time": 1616486300.007185
         },
         {
          "cpu_percent": 0,
          "cpu_time": 5.27,
          "name": "CustMercTS_1",
          "real_mem": 324096000,
          "time": 1616486300.0300207
         },
         {
          "cpu_percent": 196.5,
          "cpu_time": 5.31,
          "name": "CustStatic_1",
          "real_mem": 324460544,
          "time": 1616486300.0700965
         },
         {
          "cpu_percent": 98.7,
          "cpu_time": 5.34,
          "name": "TranTypeTS_1",
          "real_mem": 324579328,
          "time": 1616486300.092757
         },
         {
          "cpu_percent": 0,
          "cpu_time": 5.359999999999999,
          "name": "DropDuplicates_1",
          "real_mem": 324579328,
          "time": 1616486300.1148572
         },
         {
          "cpu_percent": 98.3,
          "cpu_time": 5.39,
          "name": "TranCityTS_1",
          "real_mem": 324976640,
          "time": 1616486300.1702049
         },
         {
          "cpu_percent": 196.9,
          "cpu_time": 5.43,
          "name": "ReadCsvProjectSpace_1",
          "real_mem": 325398528,
          "time": 1616486300.1925597
         },
         {
          "cpu_percent": 97,
          "cpu_time": 5.460000000000001,
          "name": "ProdTypeTS_1",
          "real_mem": 325857280,
          "time": 1616486300.2146337
         },
         {
          "cpu_percent": 195.9,
          "cpu_time": 5.539999999999999,
          "name": "CustStatic_1",
          "real_mem": 326758400,
          "time": 1616486300.2917466
         },
         {
          "cpu_percent": 196.7,
          "cpu_time": 5.5,
          "name": "CustMercTS_1",
          "real_mem": 326078464,
          "time": 1616486300.2697248
         },
         {
          "cpu_percent": 294.4,
          "cpu_time": 5.609999999999999,
          "name": "TranTypeTS_1",
          "real_mem": 327024640,
          "time": 1616486300.3753557
         },
         {
          "cpu_percent": 0,
          "cpu_time": 5.65,
          "name": "DropDuplicates_1",
          "real_mem": 327294976,
          "time": 1616486300.3976884
         },
         {
          "cpu_percent": 98.1,
          "cpu_time": 5.69,
          "name": "TranCityTS_1",
          "real_mem": 327860224,
          "time": 1616486300.4705992
         },
         {
          "cpu_percent": 0,
          "cpu_time": 5.71,
          "name": "ReadCsvProjectSpace_1",
          "real_mem": 327860224,
          "time": 1616486300.4956925
         },
         {
          "cpu_percent": 98.5,
          "cpu_time": 5.74,
          "name": "ProdTypeTS_1",
          "real_mem": 328314880,
          "time": 1616486300.5703826
         },
         {
          "cpu_percent": 0,
          "cpu_time": 5.760000000000001,
          "name": "CustMercTS_1",
          "real_mem": 328695808,
          "time": 1616486300.5926983
         },
         {
          "cpu_percent": 88.5,
          "cpu_time": 5.8100000000000005,
          "name": "CustStatic_1",
          "real_mem": 329199616,
          "time": 1616486300.6708646
         },
         {
          "cpu_percent": 0,
          "cpu_time": 5.83,
          "name": "TranTypeTS_1",
          "real_mem": 329465856,
          "time": 1616486300.695438
         },
         {
          "cpu_percent": 97.8,
          "cpu_time": 5.85,
          "name": "DropDuplicates_1",
          "real_mem": 329850880,
          "time": 1616486300.770331
         },
         {
          "cpu_percent": 98,
          "cpu_time": 5.89,
          "name": "TranCityTS_1",
          "real_mem": 330113024,
          "time": 1616486300.7930977
         },
         {
          "cpu_percent": 294.7,
          "cpu_time": 5.93,
          "name": "ReadCsvProjectSpace_1",
          "real_mem": 330289152,
          "time": 1616486300.8700056
         },
         {
          "cpu_percent": 98.2,
          "cpu_time": 5.95,
          "name": "ProdTypeTS_1",
          "real_mem": 330551296,
          "time": 1616486300.8923545
         },
         {
          "cpu_percent": 96.6,
          "cpu_time": 5.97,
          "name": "CustMercTS_1",
          "real_mem": 331632640,
          "time": 1616486300.970891
         },
         {
          "cpu_percent": 15.3,
          "cpu_time": 5.99,
          "name": "CustStatic_1",
          "real_mem": 331632640,
          "time": 1616486301.0499601
         },
         {
          "cpu_percent": 294.2,
          "cpu_time": 6.050000000000001,
          "name": "TranTypeTS_1",
          "real_mem": 332218368,
          "time": 1616486301.0723155
         },
         {
          "cpu_percent": 0,
          "cpu_time": 6.0600000000000005,
          "name": "DropDuplicates_1",
          "real_mem": 332328960,
          "time": 1616486301.0947957
         },
         {
          "cpu_percent": 193,
          "cpu_time": 6.109999999999999,
          "name": "TranCityTS_1",
          "real_mem": 332648448,
          "time": 1616486301.1727693
         },
         {
          "cpu_percent": 0,
          "cpu_time": 6.119999999999999,
          "name": "ReadCsvProjectSpace_1",
          "real_mem": 332648448,
          "time": 1616486301.2482347
         },
         {
          "cpu_percent": 181.7,
          "cpu_time": 6.19,
          "name": "ProdTypeTS_1",
          "real_mem": 333295616,
          "time": 1616486301.2718549
         },
         {
          "cpu_percent": 0,
          "cpu_time": 6.21,
          "name": "CustMercTS_1",
          "real_mem": 333295616,
          "time": 1616486301.2938933
         },
         {
          "cpu_percent": 192.9,
          "cpu_time": 6.26,
          "name": "CustStatic_1",
          "real_mem": 333508608,
          "time": 1616486301.3714721
         },
         {
          "cpu_percent": 0,
          "cpu_time": 6.2700000000000005,
          "name": "TranTypeTS_1",
          "real_mem": 333668352,
          "time": 1616486301.448908
         },
         {
          "cpu_percent": 197.1,
          "cpu_time": 6.32,
          "name": "DropDuplicates_1",
          "real_mem": 333930496,
          "time": 1616486301.5486932
         },
         {
          "cpu_percent": 98.2,
          "cpu_time": 6.35,
          "name": "TranCityTS_1",
          "real_mem": 334036992,
          "time": 1616486301.5724483
         },
         {
          "cpu_percent": 98.2,
          "cpu_time": 6.37,
          "name": "ReadCsvProjectSpace_1",
          "real_mem": 334577664,
          "time": 1616486301.5957913
         },
         {
          "cpu_percent": 195.4,
          "cpu_time": 6.41,
          "name": "ProdTypeTS_1",
          "real_mem": 334925824,
          "time": 1616486301.6707945
         },
         {
          "cpu_percent": 98.1,
          "cpu_time": 6.46,
          "name": "CustStatic_1",
          "real_mem": 335990784,
          "time": 1616486301.7708938
         },
         {
          "cpu_percent": 0,
          "cpu_time": 6.43,
          "name": "CustMercTS_1",
          "real_mem": 335192064,
          "time": 1616486301.6930943
         },
         {
          "cpu_percent": 0,
          "cpu_time": 6.49,
          "name": "TranTypeTS_1",
          "real_mem": 336076800,
          "time": 1616486301.8492668
         },
         {
          "cpu_percent": 0,
          "cpu_time": 6.55,
          "name": "TranCityTS_1",
          "real_mem": 336355328,
          "time": 1616486301.895118
         },
         {
          "cpu_percent": 187,
          "cpu_time": 6.529999999999999,
          "name": "DropDuplicates_1",
          "real_mem": 336281600,
          "time": 1616486301.872768
         },
         {
          "cpu_percent": 196.5,
          "cpu_time": 6.590000000000001,
          "name": "ReadCsvProjectSpace_1",
          "real_mem": 336519168,
          "time": 1616486301.9708862
         },
         {
          "cpu_percent": 0,
          "cpu_time": 6.62,
          "name": "ProdTypeTS_1",
          "real_mem": 336601088,
          "time": 1616486301.993394
         },
         {
          "cpu_percent": 194.6,
          "cpu_time": 6.67,
          "name": "CustMercTS_1",
          "real_mem": 336625664,
          "time": 1616486302.0718143
         },
         {
          "cpu_percent": 193,
          "cpu_time": 6.73,
          "name": "CustStatic_1",
          "real_mem": 337080320,
          "time": 1616486302.170698
         },
         {
          "cpu_percent": 0,
          "cpu_time": 6.75,
          "name": "TranTypeTS_1",
          "real_mem": 337084416,
          "time": 1616486302.1934922
         },
         {
          "cpu_percent": 389.7,
          "cpu_time": 6.8100000000000005,
          "name": "DropDuplicates_1",
          "real_mem": 337768448,
          "time": 1616486302.2709
         },
         {
          "cpu_percent": 196.4,
          "cpu_time": 6.83,
          "name": "TranCityTS_1",
          "real_mem": 337813504,
          "time": 1616486302.3592029
         },
         {
          "cpu_percent": 98,
          "cpu_time": 6.87,
          "name": "ReadCsvProjectSpace_1",
          "real_mem": 337817600,
          "time": 1616486302.3813217
         },
         {
          "cpu_percent": 98.2,
          "cpu_time": 6.8999999999999995,
          "name": "ProdTypeTS_1",
          "real_mem": 337985536,
          "time": 1616486302.4703915
         },
         {
          "cpu_percent": 97.9,
          "cpu_time": 6.92,
          "name": "CustMercTS_1",
          "real_mem": 338149376,
          "time": 1616486302.4935918
         },
         {
          "cpu_percent": 193,
          "cpu_time": 6.96,
          "name": "CustStatic_1",
          "real_mem": 339177472,
          "time": 1616486302.5722356
         },
         {
          "cpu_percent": 0,
          "cpu_time": 6.989999999999999,
          "name": "TranTypeTS_1",
          "real_mem": 339181568,
          "time": 1616486302.5946574
         },
         {
          "cpu_percent": 193.1,
          "cpu_time": 7.029999999999999,
          "name": "DropDuplicates_1",
          "real_mem": 339427328,
          "time": 1616486302.6723385
         },
         {
          "cpu_percent": 0,
          "cpu_time": 7.04,
          "name": "TranCityTS_1",
          "real_mem": 339427328,
          "time": 1616486302.748341
         },
         {
          "cpu_percent": 98.7,
          "cpu_time": 7.06,
          "name": "ReadCsvProjectSpace_1",
          "real_mem": 339427328,
          "time": 1616486302.7709975
         },
         {
          "cpu_percent": 196.4,
          "cpu_time": 7.1000000000000005,
          "name": "ProdTypeTS_1",
          "real_mem": 341188608,
          "time": 1616486302.8490129
         },
         {
          "cpu_percent": 281.6,
          "cpu_time": 7.15,
          "name": "CustMercTS_1",
          "real_mem": 341442560,
          "time": 1616486302.8724027
         },
         {
          "cpu_percent": 389.3,
          "cpu_time": 7.220000000000001,
          "name": "CustStatic_1",
          "real_mem": 341467136,
          "time": 1616486302.9719398
         },
         {
          "cpu_percent": 0,
          "cpu_time": 7.23,
          "name": "TranTypeTS_1",
          "real_mem": 341725184,
          "time": 1616486302.9942288
         },
         {
          "cpu_percent": 294.3,
          "cpu_time": 7.29,
          "name": "DropDuplicates_1",
          "real_mem": 342241280,
          "time": 1616486303.070716
         },
         {
          "cpu_percent": 0,
          "cpu_time": 7.3,
          "name": "TranCityTS_1",
          "real_mem": 342511616,
          "time": 1616486303.0937622
         },
         {
          "cpu_percent": 196.6,
          "cpu_time": 7.35,
          "name": "ReadCsvProjectSpace_1",
          "real_mem": 342081536,
          "time": 1616486303.1706958
         },
         {
          "cpu_percent": 0,
          "cpu_time": 7.36,
          "name": "ProdTypeTS_1",
          "real_mem": 343269376,
          "time": 1616486303.1935778
         },
         {
          "cpu_percent": 292.4,
          "cpu_time": 7.41,
          "name": "CustMercTS_1",
          "real_mem": 343105536,
          "time": 1616486303.2706158
         },
         {
          "cpu_percent": 196.4,
          "cpu_time": 7.47,
          "name": "CustStatic_1",
          "real_mem": 344010752,
          "time": 1616486303.371208
         },
         {
          "cpu_percent": 0,
          "cpu_time": 7.4799999999999995,
          "name": "TranTypeTS_1",
          "real_mem": 344027136,
          "time": 1616486303.39329
         },
         {
          "cpu_percent": 22.6,
          "cpu_time": 7.52,
          "name": "DropDuplicates_1",
          "real_mem": 344403968,
          "time": 1616486303.5485756
         },
         {
          "cpu_percent": 11.4,
          "cpu_time": 7.55,
          "name": "TranCityTS_1",
          "real_mem": 344940544,
          "time": 1616486303.6484716
         },
         {
          "cpu_percent": 0,
          "cpu_time": 7.569999999999999,
          "name": "ReadCsvProjectSpace_1",
          "real_mem": 345296896,
          "time": 1616486303.7486098
         },
         {
          "cpu_percent": 196.6,
          "cpu_time": 7.630000000000001,
          "name": "ProdTypeTS_1",
          "real_mem": 346226688,
          "time": 1616486303.7711673
         },
         {
          "cpu_percent": 0,
          "cpu_time": 7.640000000000001,
          "name": "CustMercTS_1",
          "real_mem": 346226688,
          "time": 1616486303.8487415
         },
         {
          "cpu_percent": 0,
          "cpu_time": 7.709999999999999,
          "name": "TranTypeTS_1",
          "real_mem": 348483584,
          "time": 1616486303.893753
         },
         {
          "cpu_percent": 293.4,
          "cpu_time": 7.6899999999999995,
          "name": "CustStatic_1",
          "real_mem": 348483584,
          "time": 1616486303.8712347
         },
         {
          "cpu_percent": 196.8,
          "cpu_time": 7.76,
          "name": "DropDuplicates_1",
          "real_mem": 349122560,
          "time": 1616486303.9716094
         },
         {
          "cpu_percent": 196.3,
          "cpu_time": 7.8100000000000005,
          "name": "TranCityTS_1",
          "real_mem": 349532160,
          "time": 1616486304.1591904
         },
         {
          "cpu_percent": 0,
          "cpu_time": 7.84,
          "name": "ReadCsvProjectSpace_1",
          "real_mem": 349532160,
          "time": 1616486304.1823888
         },
         {
          "cpu_percent": 196.6,
          "cpu_time": 7.89,
          "name": "ProdTypeTS_1",
          "real_mem": 354033664,
          "time": 1616486304.271033
         },
         {
          "cpu_percent": 0,
          "cpu_time": 7.9,
          "name": "CustMercTS_1",
          "real_mem": 354304000,
          "time": 1616486304.2932644
         },
         {
          "cpu_percent": 0,
          "cpu_time": 7.97,
          "name": "TranTypeTS_1",
          "real_mem": 360009728,
          "time": 1616486304.3930848
         },
         {
          "cpu_percent": 98.3,
          "cpu_time": 7.94,
          "name": "CustStatic_1",
          "real_mem": 356225024,
          "time": 1616486304.3707082
         },
         {
          "cpu_percent": 292.2,
          "cpu_time": 8.02,
          "name": "DropDuplicates_1",
          "real_mem": 360484864,
          "time": 1616486304.4715474
         },
         {
          "cpu_percent": 0,
          "cpu_time": 8.02,
          "name": "TranCityTS_1",
          "real_mem": 360755200,
          "time": 1616486304.4944756
         },
         {
          "cpu_percent": 196.4,
          "cpu_time": 8.07,
          "name": "ReadCsvProjectSpace_1",
          "real_mem": 361627648,
          "time": 1616486304.5723271
         },
         {
          "cpu_percent": 0,
          "cpu_time": 8.09,
          "name": "ProdTypeTS_1",
          "real_mem": 361627648,
          "time": 1616486304.5955575
         },
         {
          "cpu_percent": 295.3,
          "cpu_time": 8.15,
          "name": "CustMercTS_1",
          "real_mem": 362119168,
          "time": 1616486304.6720295
         },
         {
          "cpu_percent": 392.9,
          "cpu_time": 8.22,
          "name": "TranTypeTS_1",
          "real_mem": 362356736,
          "time": 1616486304.7704656
         },
         {
          "cpu_percent": 0,
          "cpu_time": 8.16,
          "name": "CustStatic_1",
          "real_mem": 362119168,
          "time": 1616486304.695217
         },
         {
          "cpu_percent": 0,
          "cpu_time": 8.23,
          "name": "DropDuplicates_1",
          "real_mem": 362356736,
          "time": 1616486304.793385
         },
         {
          "cpu_percent": 22.7,
          "cpu_time": 8.299999999999999,
          "name": "TranCityTS_1",
          "real_mem": 362860544,
          "time": 1616486304.9484515
         },
         {
          "cpu_percent": 383.9,
          "cpu_time": 8.370000000000001,
          "name": "ReadCsvProjectSpace_1",
          "real_mem": 363032576,
          "time": 1616486304.971646
         },
         {
          "cpu_percent": 195.7,
          "cpu_time": 8.43,
          "name": "CustMercTS_1",
          "real_mem": 364797952,
          "time": 1616486305.0711224
         },
         {
          "cpu_percent": 0,
          "cpu_time": 8.370000000000001,
          "name": "ProdTypeTS_1",
          "real_mem": 363032576,
          "time": 1616486304.9938235
         },
         {
          "cpu_percent": 98.1,
          "cpu_time": 8.45,
          "name": "CustStatic_1",
          "real_mem": 367599616,
          "time": 1616486305.1590836
         },
         {
          "cpu_percent": 195.1,
          "cpu_time": 8.51,
          "name": "TranTypeTS_1",
          "real_mem": 368140288,
          "time": 1616486305.1825757
         },
         {
          "cpu_percent": 196.7,
          "cpu_time": 8.56,
          "name": "DropDuplicates_1",
          "real_mem": 370184192,
          "time": 1616486305.2716095
         },
         {
          "cpu_percent": 197,
          "cpu_time": 8.62,
          "name": "TranCityTS_1",
          "real_mem": 370999296,
          "time": 1616486305.371326
         },
         {
          "cpu_percent": 12.9,
          "cpu_time": 8.7,
          "name": "ProdTypeTS_1",
          "real_mem": 373432320,
          "time": 1616486305.5484047
         },
         {
          "cpu_percent": 196.4,
          "cpu_time": 8.75,
          "name": "CustMercTS_1",
          "real_mem": 373940224,
          "time": 1616486305.572243
         },
         {
          "cpu_percent": 195.7,
          "cpu_time": 8.66,
          "name": "ReadCsvProjectSpace_1",
          "real_mem": 372342784,
          "time": 1616486305.4590647
         },
         {
          "cpu_percent": 0,
          "cpu_time": 8.77,
          "name": "CustStatic_1",
          "real_mem": 373940224,
          "time": 1616486305.5944235
         },
         {
          "cpu_percent": 295,
          "cpu_time": 8.83,
          "name": "TranTypeTS_1",
          "real_mem": 374063104,
          "time": 1616486305.6702356
         },
         {
          "cpu_percent": 195.4,
          "cpu_time": 8.86,
          "name": "DropDuplicates_1",
          "real_mem": 375410688,
          "time": 1616486305.759208
         },
         {
          "cpu_percent": 13,
          "cpu_time": 8.91,
          "name": "TranCityTS_1",
          "real_mem": 376524800,
          "time": 1616486305.848462
         },
         {
          "cpu_percent": 196.8,
          "cpu_time": 8.96,
          "name": "ReadCsvProjectSpace_1",
          "real_mem": 377663488,
          "time": 1616486305.8719482
         },
         {
          "cpu_percent": 195.5,
          "cpu_time": 8.989999999999998,
          "name": "ProdTypeTS_1",
          "real_mem": 377663488,
          "time": 1616486305.959141
         },
         {
          "cpu_percent": 196,
          "cpu_time": 9.02,
          "name": "CustMercTS_1",
          "real_mem": 378118144,
          "time": 1616486305.981316
         },
         {
          "cpu_percent": 0,
          "cpu_time": 9.040000000000001,
          "name": "CustStatic_1",
          "real_mem": 378384384,
          "time": 1616486306.003472
         },
         {
          "cpu_percent": 98.3,
          "cpu_time": 9.06,
          "name": "TranTypeTS_1",
          "real_mem": 378707968,
          "time": 1616486306.0712407
         },
         {
          "cpu_percent": 0,
          "cpu_time": 9.08,
          "name": "DropDuplicates_1",
          "real_mem": 379064320,
          "time": 1616486306.094308
         },
         {
          "cpu_percent": 97.5,
          "cpu_time": 9.120000000000001,
          "name": "TranCityTS_1",
          "real_mem": 379428864,
          "time": 1616486306.1754885
         },
         {
          "cpu_percent": 97.7,
          "cpu_time": 9.15,
          "name": "ReadCsvProjectSpace_1",
          "real_mem": 379584512,
          "time": 1616486306.1976876
         },
         {
          "cpu_percent": 167.6,
          "cpu_time": 9.18,
          "name": "ProdTypeTS_1",
          "real_mem": 380121088,
          "time": 1616486306.27338
         },
         {
          "cpu_percent": 0,
          "cpu_time": 9.21,
          "name": "CustMercTS_1",
          "real_mem": 380928000,
          "time": 1616486306.2953563
         },
         {
          "cpu_percent": 197.1,
          "cpu_time": 9.24,
          "name": "CustStatic_1",
          "real_mem": 381108224,
          "time": 1616486306.3703356
         },
         {
          "cpu_percent": 0,
          "cpu_time": 9.26,
          "name": "TranTypeTS_1",
          "real_mem": 381108224,
          "time": 1616486306.3929448
         },
         {
          "cpu_percent": 294.1,
          "cpu_time": 9.31,
          "name": "DropDuplicates_1",
          "real_mem": 381419520,
          "time": 1616486306.4703066
         },
         {
          "cpu_percent": 295.8,
          "cpu_time": 9.36,
          "name": "TranCityTS_1",
          "real_mem": 382263296,
          "time": 1616486306.5591037
         },
         {
          "cpu_percent": 98.3,
          "cpu_time": 9.39,
          "name": "ReadCsvProjectSpace_1",
          "real_mem": 382414848,
          "time": 1616486306.580896
         },
         {
          "cpu_percent": 295.8,
          "cpu_time": 9.49,
          "name": "CustMercTS_1",
          "real_mem": 382816256,
          "time": 1616486306.7589822
         },
         {
          "cpu_percent": 196.5,
          "cpu_time": 9.45,
          "name": "ProdTypeTS_1",
          "real_mem": 382750720,
          "time": 1616486306.6704895
         },
         {
          "cpu_percent": 12.9,
          "cpu_time": 9.53,
          "name": "CustStatic_1",
          "real_mem": 382816256,
          "time": 1616486306.8485513
         },
         {
          "cpu_percent": 294.7,
          "cpu_time": 9.58,
          "name": "TranTypeTS_1",
          "real_mem": 383123456,
          "time": 1616486306.8706315
         },
         {
          "cpu_percent": 196.2,
          "cpu_time": 9.62,
          "name": "DropDuplicates_1",
          "real_mem": 383578112,
          "time": 1616486306.9587724
         },
         {
          "cpu_percent": 193.1,
          "cpu_time": 9.66,
          "name": "TranCityTS_1",
          "real_mem": 384253952,
          "time": 1616486306.9815133
         },
         {
          "cpu_percent": 195.9,
          "cpu_time": 9.76,
          "name": "ProdTypeTS_1",
          "real_mem": 385064960,
          "time": 1616486307.159236
         },
         {
          "cpu_percent": 196.9,
          "cpu_time": 9.71,
          "name": "ReadCsvProjectSpace_1",
          "real_mem": 384786432,
          "time": 1616486307.0700767
         },
         {
          "cpu_percent": 196.7,
          "cpu_time": 9.84,
          "name": "CustStatic_1",
          "real_mem": 385380352,
          "time": 1616486307.269886
         },
         {
          "cpu_percent": 0,
          "cpu_time": 9.86,
          "name": "TranTypeTS_1",
          "real_mem": 385380352,
          "time": 1616486307.2919142
         },
         {
          "cpu_percent": 97.8,
          "cpu_time": 9.8,
          "name": "CustMercTS_1",
          "real_mem": 385064960,
          "time": 1616486307.1818938
         },
         {
          "cpu_percent": 196.5,
          "cpu_time": 9.93,
          "name": "DropDuplicates_1",
          "real_mem": 385646592,
          "time": 1616486307.3707724
         },
         {
          "cpu_percent": 0,
          "cpu_time": 9.94,
          "name": "TranCityTS_1",
          "real_mem": 386023424,
          "time": 1616486307.3931615
         },
         {
          "cpu_percent": 193.7,
          "cpu_time": 9.979999999999999,
          "name": "ReadCsvProjectSpace_1",
          "real_mem": 386314240,
          "time": 1616486307.4707668
         },
         {
          "cpu_percent": 293.6,
          "cpu_time": 10.059999999999999,
          "name": "CustMercTS_1",
          "real_mem": 386674688,
          "time": 1616486307.5733273
         },
         {
          "cpu_percent": 0,
          "cpu_time": 9.99,
          "name": "ProdTypeTS_1",
          "real_mem": 386519040,
          "time": 1616486307.4943476
         },
         {
          "cpu_percent": 0,
          "cpu_time": 10.069999999999999,
          "name": "CustStatic_1",
          "real_mem": 386674688,
          "time": 1616486307.5969033
         },
         {
          "cpu_percent": 295.3,
          "cpu_time": 10.12,
          "name": "TranTypeTS_1",
          "real_mem": 386940928,
          "time": 1616486307.670244
         },
         {
          "cpu_percent": 0,
          "cpu_time": 10.129999999999999,
          "name": "DropDuplicates_1",
          "real_mem": 387174400,
          "time": 1616486307.7486672
         },
         {
          "cpu_percent": 196.3,
          "cpu_time": 10.17,
          "name": "TranCityTS_1",
          "real_mem": 387584000,
          "time": 1616486307.7707603
         },
         {
          "cpu_percent": 197.1,
          "cpu_time": 10.209999999999999,
          "name": "ReadCsvProjectSpace_1",
          "real_mem": 387584000,
          "time": 1616486307.8588495
         },
         {
          "cpu_percent": 296,
          "cpu_time": 10.270000000000001,
          "name": "ProdTypeTS_1",
          "real_mem": 390922240,
          "time": 1616486307.8805368
         },
         {
          "cpu_percent": 196.8,
          "cpu_time": 10.32,
          "name": "CustMercTS_1",
          "real_mem": 391258112,
          "time": 1616486307.9705653
         },
         {
          "cpu_percent": 0,
          "cpu_time": 10.34,
          "name": "CustStatic_1",
          "real_mem": 391593984,
          "time": 1616486307.9928598
         },
         {
          "cpu_percent": 294.7,
          "cpu_time": 10.39,
          "name": "TranTypeTS_1",
          "real_mem": 391876608,
          "time": 1616486308.0716643
         },
         {
          "cpu_percent": 0,
          "cpu_time": 10.4,
          "name": "DropDuplicates_1",
          "real_mem": 391876608,
          "time": 1616486308.0945022
         },
         {
          "cpu_percent": 196.6,
          "cpu_time": 10.440000000000001,
          "name": "TranCityTS_1",
          "real_mem": 392142848,
          "time": 1616486308.170696
         },
         {
          "cpu_percent": 0,
          "cpu_time": 10.530000000000001,
          "name": "CustMercTS_1",
          "real_mem": 392380416,
          "time": 1616486308.2941616
         },
         {
          "cpu_percent": 196.2,
          "cpu_time": 10.5,
          "name": "ProdTypeTS_1",
          "real_mem": 392380416,
          "time": 1616486308.2708108
         },
         {
          "cpu_percent": 0,
          "cpu_time": 10.46,
          "name": "ReadCsvProjectSpace_1",
          "real_mem": 392413184,
          "time": 1616486308.1936448
         },
         {
          "cpu_percent": 294.9,
          "cpu_time": 10.59,
          "name": "CustStatic_1",
          "real_mem": 392867840,
          "time": 1616486308.3707757
         },
         {
          "cpu_percent": 0,
          "cpu_time": 10.6,
          "name": "TranTypeTS_1",
          "real_mem": 392867840,
          "time": 1616486308.3932061
         },
         {
          "cpu_percent": 186,
          "cpu_time": 10.65,
          "name": "DropDuplicates_1",
          "real_mem": 393408512,
          "time": 1616486308.4714122
         },
         {
          "cpu_percent": 0,
          "cpu_time": 10.66,
          "name": "TranCityTS_1",
          "real_mem": 396652544,
          "time": 1616486308.494201
         },
         {
          "cpu_percent": 173.5,
          "cpu_time": 10.72,
          "name": "ReadCsvProjectSpace_1",
          "real_mem": 397053952,
          "time": 1616486308.5713446
         },
         {
          "cpu_percent": 15.7,
          "cpu_time": 10.74,
          "name": "ProdTypeTS_1",
          "real_mem": 397053952,
          "time": 1616486308.6507623
         },
         {
          "cpu_percent": 195.9,
          "cpu_time": 10.78,
          "name": "CustMercTS_1",
          "real_mem": 397721600,
          "time": 1616486308.673205
         },
         {
          "cpu_percent": 0,
          "cpu_time": 10.79,
          "name": "CustStatic_1",
          "real_mem": 397721600,
          "time": 1616486308.6961014
         },
         {
          "cpu_percent": 197.1,
          "cpu_time": 10.84,
          "name": "TranTypeTS_1",
          "real_mem": 398049280,
          "time": 1616486308.7704225
         },
         {
          "cpu_percent": 267.2,
          "cpu_time": 10.92,
          "name": "TranCityTS_1",
          "real_mem": 398368768,
          "time": 1616486308.8718185
         },
         {
          "cpu_percent": 0,
          "cpu_time": 10.87,
          "name": "DropDuplicates_1",
          "real_mem": 398049280,
          "time": 1616486308.7937162
         },
         {
          "cpu_percent": 0,
          "cpu_time": 10.93,
          "name": "ReadCsvProjectSpace_1",
          "real_mem": 398368768,
          "time": 1616486308.9482567
         },
         {
          "cpu_percent": 196.7,
          "cpu_time": 10.98,
          "name": "ProdTypeTS_1",
          "real_mem": 398782464,
          "time": 1616486309.048322
         },
         {
          "cpu_percent": 0,
          "cpu_time": 11.059999999999999,
          "name": "CustStatic_1",
          "real_mem": 400601088,
          "time": 1616486309.1486638
         },
         {
          "cpu_percent": 196.5,
          "cpu_time": 11.04,
          "name": "CustMercTS_1",
          "real_mem": 400601088,
          "time": 1616486309.0708637
         },
         {
          "cpu_percent": 0,
          "cpu_time": 11.12,
          "name": "DropDuplicates_1",
          "real_mem": 400961536,
          "time": 1616486309.1958263
         },
         {
          "cpu_percent": 195.7,
          "cpu_time": 11.11,
          "name": "TranTypeTS_1",
          "real_mem": 400961536,
          "time": 1616486309.1734746
         },
         {
          "cpu_percent": 196.6,
          "cpu_time": 11.18,
          "name": "TranCityTS_1",
          "real_mem": 401326080,
          "time": 1616486309.2714107
         },
         {
          "cpu_percent": 283.3,
          "cpu_time": 11.239999999999998,
          "name": "ReadCsvProjectSpace_1",
          "real_mem": 393797632,
          "time": 1616486309.370532
         },
         {
          "cpu_percent": 0,
          "cpu_time": 11.260000000000002,
          "name": "ProdTypeTS_1",
          "real_mem": 393867264,
          "time": 1616486309.393864
         },
         {
          "cpu_percent": 196.2,
          "cpu_time": 11.309999999999999,
          "name": "CustMercTS_1",
          "real_mem": 394207232,
          "time": 1616486309.4710534
         },
         {
          "cpu_percent": 0,
          "cpu_time": 11.33,
          "name": "CustStatic_1",
          "real_mem": 394207232,
          "time": 1616486309.4940534
         },
         {
          "cpu_percent": 196.1,
          "cpu_time": 11.38,
          "name": "TranTypeTS_1",
          "real_mem": 394547200,
          "time": 1616486309.5709069
         },
         {
          "cpu_percent": 0,
          "cpu_time": 11.39,
          "name": "DropDuplicates_1",
          "real_mem": 394547200,
          "time": 1616486309.5934315
         },
         {
          "cpu_percent": 0,
          "cpu_time": 11.440000000000001,
          "name": "TranCityTS_1",
          "real_mem": 394547200,
          "time": 1616486309.6815937
         },
         {
          "cpu_percent": 197.3,
          "cpu_time": 11.5,
          "name": "ReadCsvProjectSpace_1",
          "real_mem": 399949824,
          "time": 1616486309.7717972
         },
         {
          "cpu_percent": 97.8,
          "cpu_time": 11.51,
          "name": "ProdTypeTS_1",
          "real_mem": 399949824,
          "time": 1616486309.7944272
         },
         {
          "cpu_percent": 197.3,
          "cpu_time": 11.58,
          "name": "CustMercTS_1",
          "real_mem": 400211968,
          "time": 1616486309.8701134
         },
         {
          "cpu_percent": 196.2,
          "cpu_time": 11.61,
          "name": "CustStatic_1",
          "real_mem": 401256448,
          "time": 1616486309.9593813
         },
         {
          "cpu_percent": 97.8,
          "cpu_time": 11.65,
          "name": "TranTypeTS_1",
          "real_mem": 401326080,
          "time": 1616486309.982511
         },
         {
          "cpu_percent": 0,
          "cpu_time": 11.719999999999999,
          "name": "TranCityTS_1",
          "real_mem": 401612800,
          "time": 1616486310.0928822
         },
         {
          "cpu_percent": 196.4,
          "cpu_time": 11.69,
          "name": "DropDuplicates_1",
          "real_mem": 401612800,
          "time": 1616486310.0700767
         },
         {
          "cpu_percent": 294.3,
          "cpu_time": 11.77,
          "name": "ReadCsvProjectSpace_1",
          "real_mem": 401833984,
          "time": 1616486310.1720176
         },
         {
          "cpu_percent": 196.8,
          "cpu_time": 11.82,
          "name": "CustMercTS_1",
          "real_mem": 402100224,
          "time": 1616486310.270831
         },
         {
          "cpu_percent": 0,
          "cpu_time": 11.78,
          "name": "ProdTypeTS_1",
          "real_mem": 401833984,
          "time": 1616486310.1943927
         },
         {
          "cpu_percent": 196,
          "cpu_time": 11.86,
          "name": "CustStatic_1",
          "real_mem": 402194432,
          "time": 1616486310.3593185
         },
         {
          "cpu_percent": 98,
          "cpu_time": 11.91,
          "name": "TranTypeTS_1",
          "real_mem": 402194432,
          "time": 1616486310.3817744
         },
         {
          "cpu_percent": 293.2,
          "cpu_time": 11.96,
          "name": "DropDuplicates_1",
          "real_mem": 406290432,
          "time": 1616486310.4713738
         },
         {
          "cpu_percent": 0,
          "cpu_time": 11.969999999999999,
          "name": "TranCityTS_1",
          "real_mem": 406560768,
          "time": 1616486310.494276
         },
         {
          "cpu_percent": 196.2,
          "cpu_time": 12.010000000000002,
          "name": "ReadCsvProjectSpace_1",
          "real_mem": 407138304,
          "time": 1616486310.57066
         },
         {
          "cpu_percent": 0,
          "cpu_time": 12.02,
          "name": "ProdTypeTS_1",
          "real_mem": 407678976,
          "time": 1616486310.5928223
         },
         {
          "cpu_percent": 285.1,
          "cpu_time": 12.09,
          "name": "CustMercTS_1",
          "real_mem": 408498176,
          "time": 1616486310.6717145
         },
         {
          "cpu_percent": 181,
          "cpu_time": 12.120000000000001,
          "name": "CustStatic_1",
          "real_mem": 408498176,
          "time": 1616486310.759831
         },
         {
          "cpu_percent": 26,
          "cpu_time": 12.17,
          "name": "TranTypeTS_1",
          "real_mem": 407597056,
          "time": 1616486310.8487165
         },
         {
          "cpu_percent": 194.2,
          "cpu_time": 12.21,
          "name": "DropDuplicates_1",
          "real_mem": 409485312,
          "time": 1616486310.8724797
         },
         {
          "cpu_percent": 197,
          "cpu_time": 12.25,
          "name": "TranCityTS_1",
          "real_mem": 409485312,
          "time": 1616486310.9592571
         },
         {
          "cpu_percent": 196.3,
          "cpu_time": 12.290000000000001,
          "name": "ReadCsvProjectSpace_1",
          "real_mem": 409640960,
          "time": 1616486310.9818647
         },
         {
          "cpu_percent": 192.4,
          "cpu_time": 12.33,
          "name": "ProdTypeTS_1",
          "real_mem": 409968640,
          "time": 1616486311.0706513
         },
         {
          "cpu_percent": 294.5,
          "cpu_time": 12.41,
          "name": "CustStatic_1",
          "real_mem": 411037696,
          "time": 1616486311.1707492
         },
         {
          "cpu_percent": 0,
          "cpu_time": 12.35,
          "name": "CustMercTS_1",
          "real_mem": 409968640,
          "time": 1616486311.1481051
         },
         {
          "cpu_percent": 195.8,
          "cpu_time": 12.47,
          "name": "DropDuplicates_1",
          "real_mem": 411643904,
          "time": 1616486311.270856
         },
         {
          "cpu_percent": 0,
          "cpu_time": 12.42,
          "name": "TranTypeTS_1",
          "real_mem": 411037696,
          "time": 1616486311.1944096
         },
         {
          "cpu_percent": 0,
          "cpu_time": 12.49,
          "name": "TranCityTS_1",
          "real_mem": 411680768,
          "time": 1616486311.3487785
         },
         {
          "cpu_percent": 195.8,
          "cpu_time": 12.53,
          "name": "ReadCsvProjectSpace_1",
          "real_mem": 411942912,
          "time": 1616486311.3717093
         },
         {
          "cpu_percent": 0,
          "cpu_time": 12.55,
          "name": "ProdTypeTS_1",
          "real_mem": 411942912,
          "time": 1616486311.3955202
         },
         {
          "cpu_percent": 97.8,
          "cpu_time": 12.61,
          "name": "CustStatic_1",
          "real_mem": 412250112,
          "time": 1616486311.5594046
         },
         {
          "cpu_percent": 197,
          "cpu_time": 12.6,
          "name": "CustMercTS_1",
          "real_mem": 412209152,
          "time": 1616486311.4721174
         },
         {
          "cpu_percent": 97.1,
          "cpu_time": 12.64,
          "name": "TranTypeTS_1",
          "real_mem": 414089216,
          "time": 1616486311.5816631
         },
         {
          "cpu_percent": 0,
          "cpu_time": 12.65,
          "name": "DropDuplicates_1",
          "real_mem": 414089216,
          "time": 1616486311.648449
         },
         {
          "cpu_percent": 288.9,
          "cpu_time": 12.709999999999999,
          "name": "TranCityTS_1",
          "real_mem": 414195712,
          "time": 1616486311.671499
         },
         {
          "cpu_percent": 0,
          "cpu_time": 12.719999999999999,
          "name": "ReadCsvProjectSpace_1",
          "real_mem": 414195712,
          "time": 1616486311.6935341
         },
         {
          "cpu_percent": 196.5,
          "cpu_time": 12.77,
          "name": "ProdTypeTS_1",
          "real_mem": 414195712,
          "time": 1616486311.7706094
         },
         {
          "cpu_percent": 0,
          "cpu_time": 12.79,
          "name": "CustMercTS_1",
          "real_mem": 414195712,
          "time": 1616486311.7935772
         },
         {
          "cpu_percent": 96.1,
          "cpu_time": 12.809999999999999,
          "name": "CustStatic_1",
          "real_mem": 414195712,
          "time": 1616486311.8715491
         },
         {
          "cpu_percent": 0,
          "cpu_time": 12.82,
          "name": "TranTypeTS_1",
          "real_mem": 414195712,
          "time": 1616486311.8942323
         },
         {
          "cpu_percent": 294.7,
          "cpu_time": 12.87,
          "name": "DropDuplicates_1",
          "real_mem": 414748672,
          "time": 1616486311.9713373
         },
         {
          "cpu_percent": 0,
          "cpu_time": 12.879999999999999,
          "name": "TranCityTS_1",
          "real_mem": 414748672,
          "time": 1616486311.9933484
         },
         {
          "cpu_percent": 196.4,
          "cpu_time": 12.940000000000001,
          "name": "ReadCsvProjectSpace_1",
          "real_mem": 414818304,
          "time": 1616486312.0711887
         },
         {
          "cpu_percent": 195.8,
          "cpu_time": 12.98,
          "name": "ProdTypeTS_1",
          "real_mem": 414969856,
          "time": 1616486312.159271
         },
         {
          "cpu_percent": 98.2,
          "cpu_time": 13.02,
          "name": "CustMercTS_1",
          "real_mem": 414969856,
          "time": 1616486312.1814234
         },
         {
          "cpu_percent": 98,
          "cpu_time": 13.04,
          "name": "CustStatic_1",
          "real_mem": 415223808,
          "time": 1616486312.2592874
         },
         {
          "cpu_percent": 98.2,
          "cpu_time": 13.059999999999999,
          "name": "TranTypeTS_1",
          "real_mem": 415461376,
          "time": 1616486312.281704
         },
         {
          "cpu_percent": 0,
          "cpu_time": 13.07,
          "name": "DropDuplicates_1",
          "real_mem": 415764480,
          "time": 1616486312.3487873
         },
         {
          "cpu_percent": 195.8,
          "cpu_time": 13.11,
          "name": "TranCityTS_1",
          "real_mem": 416038912,
          "time": 1616486312.3712459
         },
         {
          "cpu_percent": 0,
          "cpu_time": 13.13,
          "name": "ReadCsvProjectSpace_1",
          "real_mem": 416038912,
          "time": 1616486312.3947985
         },
         {
          "cpu_percent": 196.4,
          "cpu_time": 13.19,
          "name": "ProdTypeTS_1",
          "real_mem": 416366592,
          "time": 1616486312.472112
         },
         {
          "cpu_percent": 195.8,
          "cpu_time": 13.22,
          "name": "CustMercTS_1",
          "real_mem": 416460800,
          "time": 1616486312.559276
         },
         {
          "cpu_percent": 98.4,
          "cpu_time": 13.26,
          "name": "CustStatic_1",
          "real_mem": 416727040,
          "time": 1616486312.5827901
         },
         {
          "cpu_percent": 196,
          "cpu_time": 13.3,
          "name": "TranTypeTS_1",
          "real_mem": 417075200,
          "time": 1616486312.670065
         },
         {
          "cpu_percent": 197.2,
          "cpu_time": 13.35,
          "name": "DropDuplicates_1",
          "real_mem": 417341440,
          "time": 1616486312.7590837
         },
         {
          "cpu_percent": 98.4,
          "cpu_time": 13.39,
          "name": "TranCityTS_1",
          "real_mem": 417660928,
          "time": 1616486312.780901
         },
         {
          "cpu_percent": 196.5,
          "cpu_time": 13.44,
          "name": "ReadCsvProjectSpace_1",
          "real_mem": 418193408,
          "time": 1616486312.8705692
         },
         {
          "cpu_percent": 98.4,
          "cpu_time": 13.46,
          "name": "ProdTypeTS_1",
          "real_mem": 418394112,
          "time": 1616486312.8935883
         },
         {
          "cpu_percent": 98.4,
          "cpu_time": 13.48,
          "name": "CustMercTS_1",
          "real_mem": 419188736,
          "time": 1616486312.970594
         },
         {
          "cpu_percent": 196.6,
          "cpu_time": 13.51,
          "name": "CustStatic_1",
          "real_mem": 420012032,
          "time": 1616486313.0482278
         },
         {
          "cpu_percent": 97.8,
          "cpu_time": 13.53,
          "name": "TranTypeTS_1",
          "real_mem": 420757504,
          "time": 1616486313.073056
         },
         {
          "cpu_percent": 0,
          "cpu_time": 13.55,
          "name": "DropDuplicates_1",
          "real_mem": 421023744,
          "time": 1616486313.1486287
         },
         {
          "cpu_percent": 195.8,
          "cpu_time": 13.59,
          "name": "TranCityTS_1",
          "real_mem": 421355520,
          "time": 1616486313.1710057
         },
         {
          "cpu_percent": 15.4,
          "cpu_time": 13.61,
          "name": "ReadCsvProjectSpace_1",
          "real_mem": 421699584,
          "time": 1616486313.248499
         },
         {
          "cpu_percent": 98.4,
          "cpu_time": 13.629999999999999,
          "name": "ProdTypeTS_1",
          "real_mem": 421965824,
          "time": 1616486313.2704623
         },
         {
          "cpu_percent": 98.2,
          "cpu_time": 13.66,
          "name": "CustMercTS_1",
          "real_mem": 422277120,
          "time": 1616486313.293202
         },
         {
          "cpu_percent": 196.8,
          "cpu_time": 13.709999999999999,
          "name": "CustStatic_1",
          "real_mem": 422907904,
          "time": 1616486313.3700008
         },
         {
          "cpu_percent": 0,
          "cpu_time": 13.719999999999999,
          "name": "TranTypeTS_1",
          "real_mem": 423075840,
          "time": 1616486313.392089
         },
         {
          "cpu_percent": 97.5,
          "cpu_time": 13.75,
          "name": "DropDuplicates_1",
          "real_mem": 423075840,
          "time": 1616486313.4710388
         },
         {
          "cpu_percent": 0,
          "cpu_time": 13.77,
          "name": "TranCityTS_1",
          "real_mem": 423473152,
          "time": 1616486313.4931738
         },
         {
          "cpu_percent": 98.1,
          "cpu_time": 13.79,
          "name": "ReadCsvProjectSpace_1",
          "real_mem": 423956480,
          "time": 1616486313.5714645
         },
         {
          "cpu_percent": 112.3,
          "cpu_time": 13.95,
          "name": "ProdTypeTS_1",
          "real_mem": 425504768,
          "time": 1616486313.848435
         },
         {
          "cpu_percent": 97.9,
          "cpu_time": 13.969999999999999,
          "name": "CustMercTS_1",
          "real_mem": 425922560,
          "time": 1616486313.8709776
         },
         {
          "cpu_percent": 98.1,
          "cpu_time": 14,
          "name": "CustStatic_1",
          "real_mem": 425984000,
          "time": 1616486313.8934524
         },
         {
          "cpu_percent": 197.4,
          "cpu_time": 14.030000000000001,
          "name": "TranTypeTS_1",
          "real_mem": 426401792,
          "time": 1616486313.9707317
         },
         {
          "cpu_percent": 0,
          "cpu_time": 14.05,
          "name": "DropDuplicates_1",
          "real_mem": 426500096,
          "time": 1616486313.9938443
         },
         {
          "cpu_percent": 97.1,
          "cpu_time": 14.08,
          "name": "TranCityTS_1",
          "real_mem": 426500096,
          "time": 1616486314.070523
         },
         {
          "cpu_percent": 97.5,
          "cpu_time": 14.100000000000001,
          "name": "ReadCsvProjectSpace_1",
          "real_mem": 427028480,
          "time": 1616486314.0944014
         },
         {
          "cpu_percent": 196.6,
          "cpu_time": 14.34,
          "name": "ProdTypeTS_1",
          "real_mem": 429162496,
          "time": 1616486314.3715007
         },
         {
          "cpu_percent": 15.3,
          "cpu_time": 14.360000000000001,
          "name": "CustMercTS_1",
          "real_mem": 429260800,
          "time": 1616486314.4485936
         },
         {
          "cpu_percent": 196.1,
          "cpu_time": 14.39,
          "name": "CustStatic_1",
          "real_mem": 429289472,
          "time": 1616486314.4710133
         },
         {
          "cpu_percent": 30.5,
          "cpu_time": 14.450000000000001,
          "name": "TranTypeTS_1",
          "real_mem": 429760512,
          "time": 1616486314.548464
         },
         {
          "cpu_percent": 297,
          "cpu_time": 14.5,
          "name": "DropDuplicates_1",
          "real_mem": 429846528,
          "time": 1616486314.57059
         },
         {
          "cpu_percent": 0,
          "cpu_time": 14.530000000000001,
          "name": "TranCityTS_1",
          "real_mem": 429846528,
          "time": 1616486314.6483092
         },
         {
          "cpu_percent": 197.1,
          "cpu_time": 14.56,
          "name": "ReadCsvProjectSpace_1",
          "real_mem": 429879296,
          "time": 1616486314.6711743
         },
         {
          "cpu_percent": 0,
          "cpu_time": 14.790000000000001,
          "name": "ProdTypeTS_1",
          "real_mem": 431005696,
          "time": 1616486314.8952496
         },
         {
          "cpu_percent": 391.1,
          "cpu_time": 14.9,
          "name": "CustMercTS_1",
          "real_mem": 431149056,
          "time": 1616486314.9723074
         },
         {
          "cpu_percent": 0,
          "cpu_time": 14.9,
          "name": "CustStatic_1",
          "real_mem": 431149056,
          "time": 1616486314.9951813
         },
         {
          "cpu_percent": 392.6,
          "cpu_time": 14.97,
          "name": "TranTypeTS_1",
          "real_mem": 431702016,
          "time": 1616486315.0716977
         },
         {
          "cpu_percent": 196.4,
          "cpu_time": 15.02,
          "name": "DropDuplicates_1",
          "real_mem": 432295936,
          "time": 1616486315.1702576
         },
         {
          "cpu_percent": 97.9,
          "cpu_time": 15.05,
          "name": "TranCityTS_1",
          "real_mem": 432873472,
          "time": 1616486315.1927722
         },
         {
          "cpu_percent": 98.3,
          "cpu_time": 15.08,
          "name": "ReadCsvProjectSpace_1",
          "real_mem": 433053696,
          "time": 1616486315.2712026
         },
         {
          "cpu_percent": 0,
          "cpu_time": 15.24,
          "name": "ProdTypeTS_1",
          "real_mem": 433930240,
          "time": 1616486315.4184887
         },
         {
          "cpu_percent": 387.3,
          "cpu_time": 15.37,
          "name": "CustMercTS_1",
          "real_mem": 435142656,
          "time": 1616486315.5704587
         },
         {
          "cpu_percent": 0,
          "cpu_time": 15.379999999999999,
          "name": "CustStatic_1",
          "real_mem": 435142656,
          "time": 1616486315.5927138
         },
         {
          "cpu_percent": 196.7,
          "cpu_time": 15.43,
          "name": "TranTypeTS_1",
          "real_mem": 435212288,
          "time": 1616486315.6710453
         },
         {
          "cpu_percent": 0,
          "cpu_time": 15.45,
          "name": "DropDuplicates_1",
          "real_mem": 435290112,
          "time": 1616486315.7483246
         },
         {
          "cpu_percent": 196.3,
          "cpu_time": 15.5,
          "name": "TranCityTS_1",
          "real_mem": 435707904,
          "time": 1616486315.771199
         },
         {
          "cpu_percent": 196.2,
          "cpu_time": 15.559999999999999,
          "name": "ReadCsvProjectSpace_1",
          "real_mem": 435793920,
          "time": 1616486315.7941422
         },
         {
          "cpu_percent": 393.2,
          "cpu_time": 15.709999999999999,
          "name": "ProdTypeTS_1",
          "real_mem": 436105216,
          "time": 1616486315.970319
         },
         {
          "cpu_percent": 295.9,
          "cpu_time": 15.819999999999999,
          "name": "CustMercTS_1",
          "real_mem": 436985856,
          "time": 1616486316.0932007
         },
         {
          "cpu_percent": 196.1,
          "cpu_time": 15.850000000000001,
          "name": "CustStatic_1",
          "real_mem": 436985856,
          "time": 1616486316.1593041
         },
         {
          "cpu_percent": 98.2,
          "cpu_time": 15.91,
          "name": "TranTypeTS_1",
          "real_mem": 437055488,
          "time": 1616486316.194203
         },
         {
          "cpu_percent": 98.5,
          "cpu_time": 15.940000000000001,
          "name": "DropDuplicates_1",
          "real_mem": 437071872,
          "time": 1616486316.27139
         },
         {
          "cpu_percent": 96.4,
          "cpu_time": 15.98,
          "name": "TranCityTS_1",
          "real_mem": 437354496,
          "time": 1616486316.2936928
         },
         {
          "cpu_percent": 0,
          "cpu_time": 16.01,
          "name": "ReadCsvProjectSpace_1",
          "real_mem": 437637120,
          "time": 1616486316.31872
         },
         {
          "cpu_percent": 0,
          "cpu_time": 16.19,
          "name": "ProdTypeTS_1",
          "real_mem": 439078912,
          "time": 1616486316.4933667
         },
         {
          "cpu_percent": 192.4,
          "cpu_time": 16.29,
          "name": "CustMercTS_1",
          "real_mem": 439443456,
          "time": 1616486316.6702213
         },
         {
          "cpu_percent": 98.3,
          "cpu_time": 16.31,
          "name": "CustStatic_1",
          "real_mem": 439443456,
          "time": 1616486316.692467
         },
         {
          "cpu_percent": 98.3,
          "cpu_time": 16.33,
          "name": "TranTypeTS_1",
          "real_mem": 439779328,
          "time": 1616486316.771211
         },
         {
          "cpu_percent": 196.7,
          "cpu_time": 16.38,
          "name": "DropDuplicates_1",
          "real_mem": 439951360,
          "time": 1616486316.7936
         },
         {
          "cpu_percent": 97.3,
          "cpu_time": 16.39,
          "name": "TranCityTS_1",
          "real_mem": 439951360,
          "time": 1616486316.859748
         },
         {
          "cpu_percent": 97.7,
          "cpu_time": 16.419999999999998,
          "name": "ReadCsvProjectSpace_1",
          "real_mem": 440012800,
          "time": 1616486316.8823614
         },
         {
          "cpu_percent": 95.3,
          "cpu_time": 16.58,
          "name": "ProdTypeTS_1",
          "real_mem": 440561664,
          "time": 1616486317.0704634
         },
         {
          "cpu_percent": 98.3,
          "cpu_time": 16.7,
          "name": "CustMercTS_1",
          "real_mem": 441729024,
          "time": 1616486317.1933312
         },
         {
          "cpu_percent": 0,
          "cpu_time": 16.72,
          "name": "CustStatic_1",
          "real_mem": 441831424,
          "time": 1616486317.2154355
         },
         {
          "cpu_percent": 0,
          "cpu_time": 16.79,
          "name": "TranTypeTS_1",
          "real_mem": 441888768,
          "time": 1616486317.2947912
         },
         {
          "cpu_percent": 98.2,
          "cpu_time": 16.81,
          "name": "DropDuplicates_1",
          "real_mem": 442183680,
          "time": 1616486317.3707538
         },
         {
          "cpu_percent": 98,
          "cpu_time": 16.85,
          "name": "TranCityTS_1",
          "real_mem": 442183680,
          "time": 1616486317.3936722
         },
         {
          "cpu_percent": 196.2,
          "cpu_time": 16.89,
          "name": "ReadCsvProjectSpace_1",
          "real_mem": 442564608,
          "time": 1616486317.4704988
         },
         {
          "cpu_percent": 151.5,
          "cpu_time": 17.03,
          "name": "ProdTypeTS_1",
          "real_mem": 442888192,
          "time": 1616486317.673471
         },
         {
          "cpu_percent": 98.4,
          "cpu_time": 17.09,
          "name": "CustMercTS_1",
          "real_mem": 443191296,
          "time": 1616486317.7704923
         },
         {
          "cpu_percent": 96.7,
          "cpu_time": 17.12,
          "name": "CustStatic_1",
          "real_mem": 443404288,
          "time": 1616486317.7924118
         },
         {
          "cpu_percent": 196.6,
          "cpu_time": 17.150000000000002,
          "name": "TranTypeTS_1",
          "real_mem": 443564032,
          "time": 1616486317.871304
         },
         {
          "cpu_percent": 98.1,
          "cpu_time": 17.18,
          "name": "DropDuplicates_1",
          "real_mem": 443842560,
          "time": 1616486317.8947968
         },
         {
          "cpu_percent": 0,
          "cpu_time": 17.2,
          "name": "TranCityTS_1",
          "real_mem": 444108800,
          "time": 1616486317.9175322
         },
         {
          "cpu_percent": 186.7,
          "cpu_time": 17.26,
          "name": "ReadCsvProjectSpace_1",
          "real_mem": 444489728,
          "time": 1616486317.994682
         },
         {
          "cpu_percent": 196.8,
          "cpu_time": 17.41,
          "name": "ProdTypeTS_1",
          "real_mem": 445530112,
          "time": 1616486318.1966958
         },
         {
          "cpu_percent": 98.2,
          "cpu_time": 17.49,
          "name": "CustMercTS_1",
          "real_mem": 445853696,
          "time": 1616486318.2936556
         },
         {
          "cpu_percent": 197.4,
          "cpu_time": 17.53,
          "name": "CustStatic_1",
          "real_mem": 445853696,
          "time": 1616486318.316114
         },
         {
          "cpu_percent": 0,
          "cpu_time": 17.59,
          "name": "TranTypeTS_1",
          "real_mem": 446119936,
          "time": 1616486318.4485002
         },
         {
          "cpu_percent": 98,
          "cpu_time": 17.650000000000002,
          "name": "TranCityTS_1",
          "real_mem": 446193664,
          "time": 1616486318.4928136
         },
         {
          "cpu_percent": 196.4,
          "cpu_time": 17.630000000000003,
          "name": "DropDuplicates_1",
          "real_mem": 446193664,
          "time": 1616486318.4707074
         },
         {
          "cpu_percent": 98.1,
          "cpu_time": 17.68,
          "name": "ReadCsvProjectSpace_1",
          "real_mem": 446193664,
          "time": 1616486318.5170755
         },
         {
          "cpu_percent": 196.7,
          "cpu_time": 17.86,
          "name": "ProdTypeTS_1",
          "real_mem": 447660032,
          "time": 1616486318.7202036
         },
         {
          "cpu_percent": 23.7,
          "cpu_time": 17.95,
          "name": "CustMercTS_1",
          "real_mem": 448409600,
          "time": 1616486318.8487494
         },
         {
          "cpu_percent": 196.5,
          "cpu_time": 18,
          "name": "CustStatic_1",
          "real_mem": 448630784,
          "time": 1616486318.8712885
         },
         {
          "cpu_percent": 97.9,
          "cpu_time": 18.07,
          "name": "TranTypeTS_1",
          "real_mem": 449085440,
          "time": 1616486318.97203
         },
         {
          "cpu_percent": 98.4,
          "cpu_time": 18.09,
          "name": "DropDuplicates_1",
          "real_mem": 449212416,
          "time": 1616486318.9942174
         },
         {
          "cpu_percent": 98.2,
          "cpu_time": 18.13,
          "name": "TranCityTS_1",
          "real_mem": 449212416,
          "time": 1616486319.0170324
         },
         {
          "cpu_percent": 97.3,
          "cpu_time": 18.150000000000002,
          "name": "ReadCsvProjectSpace_1",
          "real_mem": 449478656,
          "time": 1616486319.0706937
         },
         {
          "cpu_percent": 98.2,
          "cpu_time": 18.349999999999998,
          "name": "ProdTypeTS_1",
          "real_mem": 450883584,
          "time": 1616486319.269839
         },
         {
          "cpu_percent": 196.4,
          "cpu_time": 18.459999999999997,
          "name": "CustMercTS_1",
          "real_mem": 451477504,
          "time": 1616486319.3723316
         },
         {
          "cpu_percent": 98.2,
          "cpu_time": 18.49,
          "name": "CustStatic_1",
          "real_mem": 445571072,
          "time": 1616486319.3951936
         },
         {
          "cpu_percent": 294.2,
          "cpu_time": 18.59,
          "name": "TranTypeTS_1",
          "real_mem": 446291968,
          "time": 1616486319.495218
         },
         {
          "cpu_percent": 196.6,
          "cpu_time": 18.66,
          "name": "DropDuplicates_1",
          "real_mem": 446668800,
          "time": 1616486319.570858
         },
         {
          "cpu_percent": 0,
          "cpu_time": 18.7,
          "name": "TranCityTS_1",
          "real_mem": 446668800,
          "time": 1616486319.648196
         },
         {
          "cpu_percent": 191.1,
          "cpu_time": 18.75,
          "name": "ReadCsvProjectSpace_1",
          "real_mem": 447008768,
          "time": 1616486319.6710925
         },
         {
          "cpu_percent": 197.2,
          "cpu_time": 18.880000000000003,
          "name": "ProdTypeTS_1",
          "real_mem": 448221184,
          "time": 1616486319.7930825
         },
         {
          "cpu_percent": 196.6,
          "cpu_time": 19,
          "name": "CustMercTS_1",
          "real_mem": 448483328,
          "time": 1616486319.896546
         },
         {
          "cpu_percent": 195.1,
          "cpu_time": 19.04,
          "name": "CustStatic_1",
          "real_mem": 448557056,
          "time": 1616486319.970479
         },
         {
          "cpu_percent": 195.7,
          "cpu_time": 19.11,
          "name": "TranTypeTS_1",
          "real_mem": 448860160,
          "time": 1616486320.0696833
         },
         {
          "cpu_percent": 0,
          "cpu_time": 19.14,
          "name": "DropDuplicates_1",
          "real_mem": 448966656,
          "time": 1616486320.0938256
         },
         {
          "cpu_percent": 197,
          "cpu_time": 19.18,
          "name": "TranCityTS_1",
          "real_mem": 449232896,
          "time": 1616486320.1708388
         },
         {
          "cpu_percent": 0,
          "cpu_time": 19.21,
          "name": "ReadCsvProjectSpace_1",
          "real_mem": 449232896,
          "time": 1616486320.194429
         },
         {
          "cpu_percent": 196.6,
          "cpu_time": 19.34,
          "name": "ProdTypeTS_1",
          "real_mem": 450301952,
          "time": 1616486320.36978
         },
         {
          "cpu_percent": 196.6,
          "cpu_time": 19.43,
          "name": "CustMercTS_1",
          "real_mem": 453914624,
          "time": 1616486320.4716654
         },
         {
          "cpu_percent": 98.1,
          "cpu_time": 19.49,
          "name": "CustStatic_1",
          "real_mem": 455811072,
          "time": 1616486320.4938145
         },
         {
          "cpu_percent": 30.1,
          "cpu_time": 19.58,
          "name": "TranTypeTS_1",
          "real_mem": 458297344,
          "time": 1616486320.6487746
         },
         {
          "cpu_percent": 196.6,
          "cpu_time": 19.62,
          "name": "DropDuplicates_1",
          "real_mem": 459177984,
          "time": 1616486320.671136
         },
         {
          "cpu_percent": 98.1,
          "cpu_time": 19.66,
          "name": "TranCityTS_1",
          "real_mem": 462151680,
          "time": 1616486320.693579
         },
         {
          "cpu_percent": 196.4,
          "cpu_time": 19.720000000000002,
          "name": "ReadCsvProjectSpace_1",
          "real_mem": 462151680,
          "time": 1616486320.770567
         },
         {
          "cpu_percent": 194,
          "cpu_time": 19.86,
          "name": "ProdTypeTS_1",
          "real_mem": 462782464,
          "time": 1616486320.8924472
         },
         {
          "cpu_percent": 194.7,
          "cpu_time": 19.95,
          "name": "CustMercTS_1",
          "real_mem": 463831040,
          "time": 1616486320.9946494
         },
         {
          "cpu_percent": 196.8,
          "cpu_time": 19.990000000000002,
          "name": "CustStatic_1",
          "real_mem": 463994880,
          "time": 1616486321.0699778
         },
         {
          "cpu_percent": 195.1,
          "cpu_time": 20.1,
          "name": "TranTypeTS_1",
          "real_mem": 464334848,
          "time": 1616486321.1722882
         },
         {
          "cpu_percent": 96.8,
          "cpu_time": 20.130000000000003,
          "name": "DropDuplicates_1",
          "real_mem": 465174528,
          "time": 1616486321.1944885
         },
         {
          "cpu_percent": 394.4,
          "cpu_time": 20.2,
          "name": "TranCityTS_1",
          "real_mem": 465289216,
          "time": 1616486321.2702239
         },
         {
          "cpu_percent": 97.5,
          "cpu_time": 20.25,
          "name": "ReadCsvProjectSpace_1",
          "real_mem": 465526784,
          "time": 1616486321.2924654
         },
         {
          "cpu_percent": 196.7,
          "cpu_time": 20.37,
          "name": "ProdTypeTS_1",
          "real_mem": 465862656,
          "time": 1616486321.4697902
         },
         {
          "cpu_percent": 196.4,
          "cpu_time": 20.46,
          "name": "CustMercTS_1",
          "real_mem": 466325504,
          "time": 1616486321.5706758
         },
         {
          "cpu_percent": 0,
          "cpu_time": 20.5,
          "name": "CustStatic_1",
          "real_mem": 466821120,
          "time": 1616486321.5927591
         },
         {
          "cpu_percent": 97.9,
          "cpu_time": 20.59,
          "name": "TranTypeTS_1",
          "real_mem": 467775488,
          "time": 1616486321.6956215
         },
         {
          "cpu_percent": 197,
          "cpu_time": 20.63,
          "name": "DropDuplicates_1",
          "real_mem": 467963904,
          "time": 1616486321.7703743
         },
         {
          "cpu_percent": 196.7,
          "cpu_time": 20.689999999999998,
          "name": "TranCityTS_1",
          "real_mem": 468254720,
          "time": 1616486321.7929058
         },
         {
          "cpu_percent": 196.1,
          "cpu_time": 20.76,
          "name": "ReadCsvProjectSpace_1",
          "real_mem": 468500480,
          "time": 1616486321.8718112
         },
         {
          "cpu_percent": 98.3,
          "cpu_time": 20.89,
          "name": "ProdTypeTS_1",
          "real_mem": 469147648,
          "time": 1616486322.0483818
         },
         {
          "cpu_percent": 294.7,
          "cpu_time": 21,
          "name": "CustMercTS_1",
          "real_mem": 470081536,
          "time": 1616486322.1591952
         },
         {
          "cpu_percent": 195.9,
          "cpu_time": 21.07,
          "name": "CustStatic_1",
          "real_mem": 470540288,
          "time": 1616486322.1814034
         },
         {
          "cpu_percent": 295.4,
          "cpu_time": 21.150000000000002,
          "name": "TranTypeTS_1",
          "real_mem": 471740416,
          "time": 1616486322.271372
         },
         {
          "cpu_percent": 292.3,
          "cpu_time": 21.200000000000003,
          "name": "DropDuplicates_1",
          "real_mem": 471867392,
          "time": 1616486322.359385
         },
         {
          "cpu_percent": 293.4,
          "cpu_time": 21.25,
          "name": "TranCityTS_1",
          "real_mem": 471867392,
          "time": 1616486322.3825982
         },
         {
          "cpu_percent": 194.1,
          "cpu_time": 21.310000000000002,
          "name": "ReadCsvProjectSpace_1",
          "real_mem": 472113152,
          "time": 1616486322.4706345
         },
         {
          "cpu_percent": 196.4,
          "cpu_time": 21.400000000000002,
          "name": "ProdTypeTS_1",
          "real_mem": 472588288,
          "time": 1616486322.5718935
         },
         {
          "cpu_percent": 13.2,
          "cpu_time": 21.53,
          "name": "CustMercTS_1",
          "real_mem": 473169920,
          "time": 1616486322.7485807
         },
         {
          "cpu_percent": 196,
          "cpu_time": 21.58,
          "name": "CustStatic_1",
          "real_mem": 473436160,
          "time": 1616486322.7707944
         },
         {
          "cpu_percent": 195.3,
          "cpu_time": 21.64,
          "name": "TranTypeTS_1",
          "real_mem": 473800704,
          "time": 1616486322.8593187
         },
         {
          "cpu_percent": 196,
          "cpu_time": 21.69,
          "name": "DropDuplicates_1",
          "real_mem": 473800704,
          "time": 1616486322.8813667
         },
         {
          "cpu_percent": 0,
          "cpu_time": 21.7,
          "name": "TranCityTS_1",
          "real_mem": 474071040,
          "time": 1616486322.9057686
         },
         {
          "cpu_percent": 0,
          "cpu_time": 21.81,
          "name": "ReadCsvProjectSpace_1",
          "real_mem": 475078656,
          "time": 1616486323.0486338
         },
         {
          "cpu_percent": 96.3,
          "cpu_time": 21.91,
          "name": "ProdTypeTS_1",
          "real_mem": 475639808,
          "time": 1616486323.0947542
         },
         {
          "cpu_percent": 196.8,
          "cpu_time": 22.05,
          "name": "CustMercTS_1",
          "real_mem": 476430336,
          "time": 1616486323.2713857
         },
         {
          "cpu_percent": 195.9,
          "cpu_time": 22.09,
          "name": "CustStatic_1",
          "real_mem": 476794880,
          "time": 1616486323.2937062
         },
         {
          "cpu_percent": 196.3,
          "cpu_time": 22.169999999999998,
          "name": "TranTypeTS_1",
          "real_mem": 477061120,
          "time": 1616486323.3821373
         },
         {
          "cpu_percent": 0,
          "cpu_time": 22.18,
          "name": "DropDuplicates_1",
          "real_mem": 477061120,
          "time": 1616486323.4043674
         },
         {
          "cpu_percent": 294.7,
          "cpu_time": 22.240000000000002,
          "name": "TranCityTS_1",
          "real_mem": 477437952,
          "time": 1616486323.471264
         },
         {
          "cpu_percent": 294.7,
          "cpu_time": 22.330000000000002,
          "name": "ReadCsvProjectSpace_1",
          "real_mem": 479199232,
          "time": 1616486323.5724342
         },
         {
          "cpu_percent": 295.3,
          "cpu_time": 22.42,
          "name": "ProdTypeTS_1",
          "real_mem": 480043008,
          "time": 1616486323.669234
         },
         {
          "cpu_percent": 195.4,
          "cpu_time": 22.560000000000002,
          "name": "CustMercTS_1",
          "real_mem": 480620544,
          "time": 1616486323.7944756
         },
         {
          "cpu_percent": 195.7,
          "cpu_time": 22.61,
          "name": "CustStatic_1",
          "real_mem": 480882688,
          "time": 1616486323.8708117
         },
         {
          "cpu_percent": 0,
          "cpu_time": 22.64,
          "name": "TranTypeTS_1",
          "real_mem": 480882688,
          "time": 1616486323.9052775
         },
         {
          "cpu_percent": 196.7,
          "cpu_time": 22.68,
          "name": "DropDuplicates_1",
          "real_mem": 481964032,
          "time": 1616486323.970341
         },
         {
          "cpu_percent": 98.6,
          "cpu_time": 22.71,
          "name": "TranCityTS_1",
          "real_mem": 482488320,
          "time": 1616486323.9943736
         },
         {
          "cpu_percent": 98.1,
          "cpu_time": 22.77,
          "name": "ReadCsvProjectSpace_1",
          "real_mem": 482488320,
          "time": 1616486324.0955396
         },
         {
          "cpu_percent": 15.5,
          "cpu_time": 22.91,
          "name": "ProdTypeTS_1",
          "real_mem": 482615296,
          "time": 1616486324.2494304
         },
         {
          "cpu_percent": 288.7,
          "cpu_time": 23.060000000000002,
          "name": "CustMercTS_1",
          "real_mem": 483725312,
          "time": 1616486324.3708515
         },
         {
          "cpu_percent": 196.9,
          "cpu_time": 23.11,
          "name": "CustStatic_1",
          "real_mem": 483725312,
          "time": 1616486324.4597821
         },
         {
          "cpu_percent": 294.8,
          "cpu_time": 23.17,
          "name": "TranTypeTS_1",
          "real_mem": 484134912,
          "time": 1616486324.482882
         },
         {
          "cpu_percent": 195.9,
          "cpu_time": 23.28,
          "name": "TranCityTS_1",
          "real_mem": 484274176,
          "time": 1616486324.6700368
         },
         {
          "cpu_percent": 0,
          "cpu_time": 23.3,
          "name": "ReadCsvProjectSpace_1",
          "real_mem": 484519936,
          "time": 1616486324.6930463
         },
         {
          "cpu_percent": 195.9,
          "cpu_time": 23.23,
          "name": "DropDuplicates_1",
          "real_mem": 484274176,
          "time": 1616486324.5712192
         },
         {
          "cpu_percent": 290.6,
          "cpu_time": 23.8,
          "name": "ProdTypeTS_1",
          "real_mem": 485150720,
          "time": 1616486325.2724586
         },
         {
          "cpu_percent": 98.7,
          "cpu_time": 23.91,
          "name": "CustMercTS_1",
          "real_mem": 485179392,
          "time": 1616486325.4483736
         },
         {
          "cpu_percent": 13.1,
          "cpu_time": 23.98,
          "name": "CustStatic_1",
          "real_mem": 485732352,
          "time": 1616486325.5484922
         },
         {
          "cpu_percent": 98.3,
          "cpu_time": 24.020000000000003,
          "name": "TranTypeTS_1",
          "real_mem": 485793792,
          "time": 1616486325.5708177
         },
         {
          "cpu_percent": 0,
          "cpu_time": 24.099999999999998,
          "name": "DropDuplicates_1",
          "real_mem": 486166528,
          "time": 1616486325.684372
         },
         {
          "cpu_percent": 0,
          "cpu_time": 24.099999999999998,
          "name": "TranCityTS_1",
          "real_mem": 486166528,
          "time": 1616486325.7071915
         },
         {
          "cpu_percent": 0,
          "cpu_time": 24.11,
          "name": "ReadCsvProjectSpace_1",
          "real_mem": 486166528,
          "time": 1616486325.7301855
         },
         {
          "cpu_percent": 22.8,
          "cpu_time": 24.78,
          "name": "ProdTypeTS_1",
          "real_mem": 489943040,
          "time": 1616486326.4486947
         },
         {
          "cpu_percent": 11.5,
          "cpu_time": 24.87,
          "name": "CustMercTS_1",
          "real_mem": 489971712,
          "time": 1616486326.5486329
         },
         {
          "cpu_percent": 69.2,
          "cpu_time": 24.95,
          "name": "CustStatic_1",
          "real_mem": 490115072,
          "time": 1616486326.6485412
         },
         {
          "cpu_percent": 196.6,
          "cpu_time": 25.21,
          "name": "TranCityTS_1",
          "real_mem": 491405312,
          "time": 1616486326.8708394
         },
         {
          "cpu_percent": 23.1,
          "cpu_time": 25.16,
          "name": "DropDuplicates_1",
          "real_mem": 490328064,
          "time": 1616486326.8486147
         },
         {
          "cpu_percent": 11.7,
          "cpu_time": 25.06,
          "name": "TranTypeTS_1",
          "real_mem": 490242048,
          "time": 1616486326.7486346
         },
         {
          "cpu_percent": 58.5,
          "cpu_time": 25.82,
          "name": "ProdTypeTS_1",
          "real_mem": 491806720,
          "time": 1616486327.5495021
         },
         {
          "cpu_percent": 294.8,
          "cpu_time": 25.91,
          "name": "CustMercTS_1",
          "real_mem": 491933696,
          "time": 1616486327.5729077
         },
         {
          "cpu_percent": 195.6,
          "cpu_time": 26.009999999999998,
          "name": "CustStatic_1",
          "real_mem": 492601344,
          "time": 1616486327.748676
         },
         {
          "cpu_percent": 195.8,
          "cpu_time": 26.09,
          "name": "TranTypeTS_1",
          "real_mem": 496992256,
          "time": 1616486327.7714572
         },
         {
          "cpu_percent": 23.5,
          "cpu_time": 26.2,
          "name": "DropDuplicates_1",
          "real_mem": 497192960,
          "time": 1616486327.9486423
         },
         {
          "cpu_percent": 197,
          "cpu_time": 26.240000000000002,
          "name": "TranCityTS_1",
          "real_mem": 507158528,
          "time": 1616486327.9715197
         },
         {
          "cpu_percent": 46.9,
          "cpu_time": 26.869999999999997,
          "name": "ProdTypeTS_1",
          "real_mem": 524939264,
          "time": 1616486328.648426
         },
         {
          "cpu_percent": 393.6,
          "cpu_time": 26.939999999999998,
          "name": "CustMercTS_1",
          "real_mem": 525578240,
          "time": 1616486328.6706002
         },
         {
          "cpu_percent": 394,
          "cpu_time": 27.03,
          "name": "CustStatic_1",
          "real_mem": 530173952,
          "time": 1616486328.7712967
         },
         {
          "cpu_percent": 0,
          "cpu_time": 27.07,
          "name": "TranTypeTS_1",
          "real_mem": 530173952,
          "time": 1616486328.7941122
         },
         {
          "cpu_percent": 393.8,
          "cpu_time": 27.229999999999997,
          "name": "DropDuplicates_1",
          "real_mem": 530669568,
          "time": 1616486328.9719524
         },
         {
          "cpu_percent": 490,
          "cpu_time": 27.339999999999996,
          "name": "TranCityTS_1",
          "real_mem": 530939904,
          "time": 1616486329.069709
         },
         {
          "cpu_percent": 11.7,
          "cpu_time": 27.93,
          "name": "ProdTypeTS_1",
          "real_mem": 532959232,
          "time": 1616486329.748615
         },
         {
          "cpu_percent": 390.8,
          "cpu_time": 28.07,
          "name": "CustMercTS_1",
          "real_mem": 534786048,
          "time": 1616486329.859784
         },
         {
          "cpu_percent": 589,
          "cpu_time": 28.29,
          "name": "TranTypeTS_1",
          "real_mem": 535203840,
          "time": 1616486330.060012
         },
         {
          "cpu_percent": 768.8000000000001,
          "cpu_time": 28.2,
          "name": "CustStatic_1",
          "real_mem": 534945792,
          "time": 1616486329.9596488
         },
         {
          "cpu_percent": 491.6,
          "cpu_time": 28.37,
          "name": "DropDuplicates_1",
          "real_mem": 535203840,
          "time": 1616486330.16002
         },
         {
          "cpu_percent": 33.8,
          "cpu_time": 28.5,
          "name": "TranCityTS_1",
          "real_mem": 535781376,
          "time": 1616486330.350227
         },
         {
          "cpu_percent": 391.8,
          "cpu_time": 28.94,
          "name": "ProdTypeTS_1",
          "real_mem": 536879104,
          "time": 1616486330.7722857
         },
         {
          "cpu_percent": 0,
          "cpu_time": 29.03,
          "name": "CustMercTS_1",
          "real_mem": 537141248,
          "time": 1616486330.883781
         },
         {
          "cpu_percent": 393.4,
          "cpu_time": 29.28,
          "name": "TranTypeTS_1",
          "real_mem": 542007296,
          "time": 1616486331.1605504
         },
         {
          "cpu_percent": 0,
          "cpu_time": 29.509999999999998,
          "name": "TranCityTS_1",
          "real_mem": 543277056,
          "time": 1616486331.3804822
         },
         {
          "cpu_percent": 34.6,
          "cpu_time": 29.99,
          "name": "ProdTypeTS_1",
          "real_mem": 545230848,
          "time": 1616486331.9486496
         },
         {
          "cpu_percent": 45.6,
          "cpu_time": 30.09,
          "name": "CustMercTS_1",
          "real_mem": 545521664,
          "time": 1616486332.0485184
         },
         {
          "cpu_percent": 195.6,
          "cpu_time": 30.29,
          "name": "TranTypeTS_1",
          "real_mem": 547004416,
          "time": 1616486332.1838534
         },
         {
          "cpu_percent": 393,
          "cpu_time": 30.580000000000002,
          "name": "TranCityTS_1",
          "real_mem": 547729408,
          "time": 1616486332.4707668
         },
         {
          "cpu_percent": 35.4,
          "cpu_time": 30.95,
          "name": "ProdTypeTS_1",
          "real_mem": 565649408,
          "time": 1616486333.0488691
         },
         {
          "cpu_percent": 23.1,
          "cpu_time": 31.02,
          "name": "CustMercTS_1",
          "real_mem": 565755904,
          "time": 1616486333.1484683
         },
         {
          "cpu_percent": 291.4,
          "cpu_time": 31.18,
          "name": "TranTypeTS_1",
          "real_mem": 566030336,
          "time": 1616486333.2713666
         },
         {
          "cpu_percent": 293.4,
          "cpu_time": 31.41,
          "name": "TranCityTS_1",
          "real_mem": 566267904,
          "time": 1616486333.5720057
         },
         {
          "cpu_percent": 34.5,
          "cpu_time": 31.86,
          "name": "ProdTypeTS_1",
          "real_mem": 567640064,
          "time": 1616486334.1492078
         },
         {
          "cpu_percent": 392.7,
          "cpu_time": 31.96,
          "name": "CustMercTS_1",
          "real_mem": 567713792,
          "time": 1616486334.1717622
         },
         {
          "cpu_percent": 196.2,
          "cpu_time": 32.13,
          "name": "TranTypeTS_1",
          "real_mem": 568287232,
          "time": 1616486334.3729825
         },
         {
          "cpu_percent": 196.3,
          "cpu_time": 32.86,
          "name": "ProdTypeTS_1",
          "real_mem": 571285504,
          "time": 1616486335.1723783
         },
         {
          "cpu_percent": 196,
          "cpu_time": 32.92,
          "name": "CustMercTS_1",
          "real_mem": 571285504,
          "time": 1616486335.1943138
         },
         {
          "cpu_percent": 293.9,
          "cpu_time": 33.2,
          "name": "TranTypeTS_1",
          "real_mem": 571502592,
          "time": 1616486335.471432
         },
         {
          "cpu_percent": 392.9,
          "cpu_time": 33.95,
          "name": "ProdTypeTS_1",
          "real_mem": 572502016,
          "time": 1616486336.2710218
         },
         {
          "cpu_percent": 392.8,
          "cpu_time": 34.05,
          "name": "CustMercTS_1",
          "real_mem": 572596224,
          "time": 1616486336.3704593
         },
         {
          "cpu_percent": 98.2,
          "cpu_time": 34.17,
          "name": "TranTypeTS_1",
          "real_mem": 574390272,
          "time": 1616486336.4938948
         },
         {
          "cpu_percent": 98.1,
          "cpu_time": 34.94,
          "name": "ProdTypeTS_1",
          "real_mem": 576131072,
          "time": 1616486337.348393
         },
         {
          "cpu_percent": 0,
          "cpu_time": 35.04,
          "name": "CustMercTS_1",
          "real_mem": 576237568,
          "time": 1616486337.4485946
         },
         {
          "cpu_percent": 196.2,
          "cpu_time": 35.22,
          "name": "TranTypeTS_1",
          "real_mem": 576483328,
          "time": 1616486337.5813038
         },
         {
          "cpu_percent": 394.3,
          "cpu_time": 35.980000000000004,
          "name": "ProdTypeTS_1",
          "real_mem": 578408448,
          "time": 1616486338.4485269
         },
         {
          "cpu_percent": 294,
          "cpu_time": 36.05,
          "name": "CustMercTS_1",
          "real_mem": 578408448,
          "time": 1616486338.4709861
         },
         {
          "cpu_percent": 196.7,
          "cpu_time": 36.25,
          "name": "TranTypeTS_1",
          "real_mem": 578576384,
          "time": 1616486338.670363
         },
         {
          "cpu_percent": 293.8,
          "cpu_time": 37.08,
          "name": "CustMercTS_1",
          "real_mem": 580382720,
          "time": 1616486339.5592797
         },
         {
          "cpu_percent": 197.1,
          "cpu_time": 37.019999999999996,
          "name": "ProdTypeTS_1",
          "real_mem": 580382720,
          "time": 1616486339.4720402
         },
         {
          "cpu_percent": 389.7,
          "cpu_time": 37.28,
          "name": "TranTypeTS_1",
          "real_mem": 580624384,
          "time": 1616486339.7594242
         },
         {
          "cpu_percent": 0,
          "cpu_time": 38.010000000000005,
          "name": "ProdTypeTS_1",
          "real_mem": 581447680,
          "time": 1616486340.4956331
         },
         {
          "cpu_percent": 98,
          "cpu_time": 38.11,
          "name": "CustMercTS_1",
          "real_mem": 581447680,
          "time": 1616486340.5823026
         },
         {
          "cpu_percent": 13,
          "cpu_time": 38.3,
          "name": "TranTypeTS_1",
          "real_mem": 581554176,
          "time": 1616486340.8488421
         },
         {
          "cpu_percent": 192.5,
          "cpu_time": 39.03,
          "name": "ProdTypeTS_1",
          "real_mem": 582283264,
          "time": 1616486341.5709803
         },
         {
          "cpu_percent": 45.6,
          "cpu_time": 39.15,
          "name": "CustMercTS_1",
          "real_mem": 582606848,
          "time": 1616486341.7487214
         },
         {
          "cpu_percent": 294.8,
          "cpu_time": 39.36,
          "name": "TranTypeTS_1",
          "real_mem": 582983680,
          "time": 1616486341.882428
         },
         {
          "cpu_percent": 377,
          "cpu_time": 40.07,
          "name": "ProdTypeTS_1",
          "real_mem": 584359936,
          "time": 1616486342.6598747
         },
         {
          "cpu_percent": 194.4,
          "cpu_time": 40.17,
          "name": "CustMercTS_1",
          "real_mem": 584552448,
          "time": 1616486342.7719564
         },
         {
          "cpu_percent": 392.5,
          "cpu_time": 40.379999999999995,
          "name": "TranTypeTS_1",
          "real_mem": 584818688,
          "time": 1616486342.9692624
         },
         {
          "cpu_percent": 194.9,
          "cpu_time": 41.08,
          "name": "ProdTypeTS_1",
          "real_mem": 585490432,
          "time": 1616486343.6842675
         },
         {
          "cpu_percent": 0,
          "cpu_time": 41.190000000000005,
          "name": "CustMercTS_1",
          "real_mem": 585621504,
          "time": 1616486343.795831
         },
         {
          "cpu_percent": 365.4,
          "cpu_time": 41.42,
          "name": "TranTypeTS_1",
          "real_mem": 586051584,
          "time": 1616486344.060022
         },
         {
          "cpu_percent": 295.2,
          "cpu_time": 42.120000000000005,
          "name": "ProdTypeTS_1",
          "real_mem": 587444224,
          "time": 1616486344.7697327
         },
         {
          "cpu_percent": 290.5,
          "cpu_time": 42.21,
          "name": "CustMercTS_1",
          "real_mem": 587517952,
          "time": 1616486344.8714576
         },
         {
          "cpu_percent": 375.6,
          "cpu_time": 42.48,
          "name": "TranTypeTS_1",
          "real_mem": 588517376,
          "time": 1616486345.159436
         },
         {
          "cpu_percent": 294.5,
          "cpu_time": 43.13,
          "name": "ProdTypeTS_1",
          "real_mem": 589508608,
          "time": 1616486345.8589764
         },
         {
          "cpu_percent": 0,
          "cpu_time": 43.209999999999994,
          "name": "CustMercTS_1",
          "real_mem": 589852672,
          "time": 1616486345.8938813
         },
         {
          "cpu_percent": 98,
          "cpu_time": 43.47,
          "name": "TranTypeTS_1",
          "real_mem": 590712832,
          "time": 1616486346.1834207
         },
         {
          "cpu_percent": 13,
          "cpu_time": 44.16,
          "name": "ProdTypeTS_1",
          "real_mem": 590880768,
          "time": 1616486346.9485204
         },
         {
          "cpu_percent": 294.9,
          "cpu_time": 44.239999999999995,
          "name": "CustMercTS_1",
          "real_mem": 590880768,
          "time": 1616486346.9727347
         },
         {
          "cpu_percent": 394.2,
          "cpu_time": 44.54,
          "name": "TranTypeTS_1",
          "real_mem": 591032320,
          "time": 1616486347.2708838
         },
         {
          "cpu_percent": 294.5,
          "cpu_time": 45.19,
          "name": "ProdTypeTS_1",
          "real_mem": 591290368,
          "time": 1616486347.9721346
         },
         {
          "cpu_percent": 393.4,
          "cpu_time": 45.26,
          "name": "CustMercTS_1",
          "real_mem": 591290368,
          "time": 1616486348.0593302
         },
         {
          "cpu_percent": 390.4,
          "cpu_time": 45.56,
          "name": "TranTypeTS_1",
          "real_mem": 591605760,
          "time": 1616486348.3592405
         },
         {
          "cpu_percent": 287.3,
          "cpu_time": 46.26,
          "name": "CustMercTS_1",
          "real_mem": 592359424,
          "time": 1616486349.0846694
         },
         {
          "cpu_percent": 13,
          "cpu_time": 46.47,
          "name": "TranTypeTS_1",
          "real_mem": 593678336,
          "time": 1616486349.4486926
         },
         {
          "cpu_percent": 246.5,
          "cpu_time": 47.05,
          "name": "CustMercTS_1",
          "real_mem": 594485248,
          "time": 1616486350.1727142
         },
         {
          "cpu_percent": 98.3,
          "cpu_time": 47.19,
          "name": "TranTypeTS_1",
          "real_mem": 601993216,
          "time": 1616486350.4723768
         },
         {
          "cpu_percent": 22.9,
          "cpu_time": 47.64,
          "name": "CustMercTS_1",
          "real_mem": 604962816,
          "time": 1616486351.3485124
         },
         {
          "cpu_percent": 98,
          "cpu_time": 47.82,
          "name": "TranTypeTS_1",
          "real_mem": 624144384,
          "time": 1616486351.5702112
         },
         {
          "cpu_percent": 0,
          "cpu_time": 48.37,
          "name": "CustMercTS_1",
          "real_mem": 624562176,
          "time": 1616486352.448146
         },
         {
          "cpu_percent": 292.2,
          "cpu_time": 48.56999999999999,
          "name": "TranTypeTS_1",
          "real_mem": 630226944,
          "time": 1616486352.760256
         },
         {
          "cpu_percent": 282.4,
          "cpu_time": 49.04,
          "name": "CustMercTS_1",
          "real_mem": 630226944,
          "time": 1616486353.5597026
         },
         {
          "cpu_percent": 0,
          "cpu_time": 49.17,
          "name": "TranTypeTS_1",
          "real_mem": 630226944,
          "time": 1616486353.7838218
         },
         {
          "cpu_percent": 97.7,
          "cpu_time": 49.65,
          "name": "CustMercTS_1",
          "real_mem": 631132160,
          "time": 1616486354.583707
         },
         {
          "cpu_percent": 195.2,
          "cpu_time": 49.82,
          "name": "TranTypeTS_1",
          "real_mem": 631132160,
          "time": 1616486354.8709438
         },
         {
          "cpu_percent": 0,
          "cpu_time": 50.349999999999994,
          "name": "CustMercTS_1",
          "real_mem": 631824384,
          "time": 1616486355.6823857
         },
         {
          "cpu_percent": 294.2,
          "cpu_time": 50.550000000000004,
          "name": "TranTypeTS_1",
          "real_mem": 631975936,
          "time": 1616486355.969587
         },
         {
          "cpu_percent": 23,
          "cpu_time": 51.1,
          "name": "CustMercTS_1",
          "real_mem": 633032704,
          "time": 1616486356.8485074
         },
         {
          "cpu_percent": 196,
          "cpu_time": 51.28,
          "name": "TranTypeTS_1",
          "real_mem": 633491456,
          "time": 1616486357.0704646
         },
         {
          "cpu_percent": 34.7,
          "cpu_time": 51.78,
          "name": "CustMercTS_1",
          "real_mem": 633905152,
          "time": 1616486357.9485846
         },
         {
          "cpu_percent": 11.4,
          "cpu_time": 51.96,
          "name": "TranTypeTS_1",
          "real_mem": 638255104,
          "time": 1616486358.2486336
         },
         {
          "cpu_percent": 11.5,
          "cpu_time": 52.46,
          "name": "CustMercTS_1",
          "real_mem": 640155648,
          "time": 1616486359.0488052
         },
         {
          "cpu_percent": 292.7,
          "cpu_time": 52.65,
          "name": "TranTypeTS_1",
          "real_mem": 640344064,
          "time": 1616486359.2717476
         },
         {
          "cpu_percent": 291.29999999999995,
          "cpu_time": 53.15,
          "name": "CustMercTS_1",
          "real_mem": 643137536,
          "time": 1616486360.0728967
         },
         {
          "cpu_percent": 195.8,
          "cpu_time": 53.33,
          "name": "TranTypeTS_1",
          "real_mem": 643411968,
          "time": 1616486360.4483168
         },
         {
          "cpu_percent": 195.4,
          "cpu_time": 53.85,
          "name": "CustMercTS_1",
          "real_mem": 644841472,
          "time": 1616486361.1728344
         },
         {
          "cpu_percent": 121.30000000000001,
          "cpu_time": 54.07,
          "name": "TranTypeTS_1",
          "real_mem": 645160960,
          "time": 1616486361.5486262
         },
         {
          "cpu_percent": 195.1,
          "cpu_time": 54.580000000000005,
          "name": "CustMercTS_1",
          "real_mem": 645730304,
          "time": 1616486362.2728407
         },
         {
          "cpu_percent": 57.6,
          "cpu_time": 54.78,
          "name": "TranTypeTS_1",
          "real_mem": 645730304,
          "time": 1616486362.6486623
         },
         {
          "cpu_percent": 0,
          "cpu_time": 55.25,
          "name": "CustMercTS_1",
          "real_mem": 646811648,
          "time": 1616486363.3843799
         },
         {
          "cpu_percent": 195.7,
          "cpu_time": 55.43,
          "name": "TranTypeTS_1",
          "real_mem": 646811648,
          "time": 1616486363.6724854
         },
         {
          "cpu_percent": 293.5,
          "cpu_time": 55.94,
          "name": "CustMercTS_1",
          "real_mem": 647069696,
          "time": 1616486364.5601373
         },
         {
          "cpu_percent": 97.8,
          "cpu_time": 56.050000000000004,
          "name": "TranTypeTS_1",
          "real_mem": 647069696,
          "time": 1616486364.8485384
         },
         {
          "cpu_percent": 181.4,
          "cpu_time": 56.510000000000005,
          "name": "CustMercTS_1",
          "real_mem": 647069696,
          "time": 1616486365.6614757
         },
         {
          "cpu_percent": 23.1,
          "cpu_time": 56.65,
          "name": "TranTypeTS_1",
          "real_mem": 648151040,
          "time": 1616486365.9495177
         },
         {
          "cpu_percent": 0,
          "cpu_time": 57.05,
          "name": "CustMercTS_1",
          "real_mem": 648151040,
          "time": 1616486366.6848683
         },
         {
          "cpu_percent": 98.1,
          "cpu_time": 57.559999999999995,
          "name": "CustMercTS_1",
          "real_mem": 648409088,
          "time": 1616486367.7719367
         },
         {
          "cpu_percent": 0,
          "cpu_time": 58.03,
          "name": "CustMercTS_1",
          "real_mem": 648998912,
          "time": 1616486368.7954788
         },
         {
          "cpu_percent": 196,
          "cpu_time": 58.47,
          "name": "CustMercTS_1",
          "real_mem": 650657792,
          "time": 1616486369.8714879
         },
         {
          "cpu_percent": 93.9,
          "cpu_time": 59.02,
          "name": "CustMercTS_1",
          "real_mem": 652087296,
          "time": 1616486370.9708908
         },
         {
          "cpu_percent": 195.5,
          "cpu_time": 59.6,
          "name": "CustMercTS_1",
          "real_mem": 669130752,
          "time": 1616486372.0714068
         },
         {
          "cpu_percent": 195.4,
          "cpu_time": 60.169999999999995,
          "name": "CustMercTS_1",
          "real_mem": 685891584,
          "time": 1616486373.2488124
         },
         {
          "cpu_percent": 91.8,
          "cpu_time": 60.67,
          "name": "CustMercTS_1",
          "real_mem": 685891584,
          "time": 1616486374.2732615
         },
         {
          "cpu_percent": 11.4,
          "cpu_time": 61.150000000000006,
          "name": "CustMercTS_1",
          "real_mem": 685944832,
          "time": 1616486375.4485736
         },
         {
          "cpu_percent": 196.1,
          "cpu_time": 61.67,
          "name": "CustMercTS_1",
          "real_mem": 685944832,
          "time": 1616486376.548379
         },
         {
          "cpu_percent": 11.5,
          "cpu_time": 62.220000000000006,
          "name": "CustMercTS_1",
          "real_mem": 685944832,
          "time": 1616486377.648734
         },
         {
          "cpu_percent": 0,
          "cpu_time": 62.769999999999996,
          "name": "CustMercTS_1",
          "real_mem": 694697984,
          "time": 1616486378.7484705
         },
         {
          "cpu_percent": 22.9,
          "cpu_time": 63.27,
          "name": "CustMercTS_1",
          "real_mem": 695058432,
          "time": 1616486379.8488948
         }
        ],
        "logs": [
         {
          "asctime": "2021-03-23 07:58:13,192",
          "created": 1616486293.192765,
          "extra": {},
          "filename": "async_executors.py",
          "funcName": "main",
          "levelname": "DEBUG",
          "lineno": 114,
          "message": "NonSparkPath_1: started async block execution\n",
          "name": "engine.logs:NonSparkPath_1",
          "pathname": "/usr/local/lib/python3.7/dist-packages/razor/flow/async_executors.py",
          "process": 7855,
          "processName": "ForkProcess-1:1",
          "thread": 140254031537984,
          "threadName": "MainThread"
         },
         {
          "asctime": "2021-03-23 07:58:13,210",
          "created": 1616486293.210302,
          "extra": {},
          "filename": "async_executors.py",
          "funcName": "fill_atomic_inputs",
          "levelname": "INFO",
          "lineno": 250,
          "message": "NonSparkPath_1: waiting for atomic input: ip_path",
          "name": "engine.logs:NonSparkPath_1",
          "pathname": "/usr/local/lib/python3.7/dist-packages/razor/flow/async_executors.py",
          "process": 7855,
          "processName": "ForkProcess-1:1",
          "thread": 140254031537984,
          "threadName": "MainThread"
         },
         {
          "asctime": "2021-03-23 07:58:13,210",
          "created": 1616486293.2107694,
          "extra": {},
          "filename": "async_executors.py",
          "funcName": "fill_atomic_inputs",
          "levelname": "DEBUG",
          "lineno": 253,
          "message": "NonSparkPath_1: got atomic input: customer_data.csv",
          "name": "engine.logs:NonSparkPath_1",
          "pathname": "/usr/local/lib/python3.7/dist-packages/razor/flow/async_executors.py",
          "process": 7855,
          "processName": "ForkProcess-1:1",
          "thread": 140254031537984,
          "threadName": "MainThread"
         },
         {
          "asctime": "2021-03-23 07:58:13,210",
          "created": 1616486293.2108278,
          "extra": {},
          "filename": "async_executors.py",
          "funcName": "main",
          "levelname": "DEBUG",
          "lineno": 130,
          "message": "NonSparkPath_1: triggering block run",
          "name": "engine.logs:NonSparkPath_1",
          "pathname": "/usr/local/lib/python3.7/dist-packages/razor/flow/async_executors.py",
          "process": 7855,
          "processName": "ForkProcess-1:1",
          "thread": 140254031537984,
          "threadName": "MainThread"
         },
         {
          "asctime": "2021-03-23 07:58:13,460",
          "created": 1616486293.4606812,
          "extra": {},
          "filename": "async_executors.py",
          "funcName": "distribute_output_queue",
          "levelname": "DEBUG",
          "lineno": 308,
          "message": "NonSparkPath_1: ---- dist output: /home/aios/projectspace/customer_data.csv -> ('ReadCsvProjectSpace_1', 'filename')",
          "name": "engine.logs:NonSparkPath_1",
          "pathname": "/usr/local/lib/python3.7/dist-packages/razor/flow/async_executors.py",
          "process": 7855,
          "processName": "ForkProcess-1:1",
          "thread": 140254031537984,
          "threadName": "MainThread"
         },
         {
          "asctime": "2021-03-23 07:58:13,461",
          "created": 1616486293.46112,
          "extra": {},
          "filename": "async_executors.py",
          "funcName": "main",
          "levelname": "DEBUG",
          "lineno": 147,
          "message": "NonSparkPath_1: block thread completed",
          "name": "engine.logs:NonSparkPath_1",
          "pathname": "/usr/local/lib/python3.7/dist-packages/razor/flow/async_executors.py",
          "process": 7855,
          "processName": "ForkProcess-1:1",
          "thread": 140254031537984,
          "threadName": "MainThread"
         },
         {
          "asctime": "2021-03-23 07:58:13,461",
          "created": 1616486293.4612405,
          "extra": {},
          "filename": "async_executors.py",
          "funcName": "main",
          "levelname": "DEBUG",
          "lineno": 149,
          "message": "NonSparkPath_1: block execution complete",
          "name": "engine.logs:NonSparkPath_1",
          "pathname": "/usr/local/lib/python3.7/dist-packages/razor/flow/async_executors.py",
          "process": 7855,
          "processName": "ForkProcess-1:1",
          "thread": 140254031537984,
          "threadName": "MainThread"
         },
         {
          "asctime": "2021-03-23 07:58:13,461",
          "created": 1616486293.4613569,
          "extra": {},
          "filename": "async_executors.py",
          "funcName": "distribute_output_queue",
          "levelname": "DEBUG",
          "lineno": 308,
          "message": "NonSparkPath_1: ---- dist output: b'__!\\tEndOfStream\\t!__' -> ('ReadCsvProjectSpace_1', 'filename')",
          "name": "engine.logs:NonSparkPath_1",
          "pathname": "/usr/local/lib/python3.7/dist-packages/razor/flow/async_executors.py",
          "process": 7855,
          "processName": "ForkProcess-1:1",
          "thread": 140254031537984,
          "threadName": "MainThread"
         },
         {
          "asctime": "2021-03-23 07:58:13,505",
          "created": 1616486293.5058205,
          "extra": {},
          "filename": "async_executors.py",
          "funcName": "main",
          "levelname": "DEBUG",
          "lineno": 114,
          "message": "CustMercTS_1: started async block execution\n",
          "name": "engine.logs:CustMercTS_1",
          "pathname": "/usr/local/lib/python3.7/dist-packages/razor/flow/async_executors.py",
          "process": 7863,
          "processName": "ForkProcess-1:2",
          "thread": 140254031537984,
          "threadName": "MainThread"
         },
         {
          "asctime": "2021-03-23 07:58:13,503",
          "created": 1616486293.5038261,
          "extra": {},
          "filename": "async_executors.py",
          "funcName": "main",
          "levelname": "DEBUG",
          "lineno": 114,
          "message": "ProdTypeTS_1: started async block execution\n",
          "name": "engine.logs:ProdTypeTS_1",
          "pathname": "/usr/local/lib/python3.7/dist-packages/razor/flow/async_executors.py",
          "process": 7863,
          "processName": "ForkProcess-1:2",
          "thread": 140254031537984,
          "threadName": "MainThread"
         },
         {
          "asctime": "2021-03-23 07:58:13,507",
          "created": 1616486293.507006,
          "extra": {},
          "filename": "async_executors.py",
          "funcName": "main",
          "levelname": "DEBUG",
          "lineno": 114,
          "message": "TranTypeTS_1: started async block execution\n",
          "name": "engine.logs:TranTypeTS_1",
          "pathname": "/usr/local/lib/python3.7/dist-packages/razor/flow/async_executors.py",
          "process": 7863,
          "processName": "ForkProcess-1:2",
          "thread": 140254031537984,
          "threadName": "MainThread"
         },
         {
          "asctime": "2021-03-23 07:58:13,507",
          "created": 1616486293.5074115,
          "extra": {},
          "filename": "async_executors.py",
          "funcName": "main",
          "levelname": "DEBUG",
          "lineno": 114,
          "message": "DropDuplicates_1: started async block execution\n",
          "name": "engine.logs:DropDuplicates_1",
          "pathname": "/usr/local/lib/python3.7/dist-packages/razor/flow/async_executors.py",
          "process": 7863,
          "processName": "ForkProcess-1:2",
          "thread": 140254031537984,
          "threadName": "MainThread"
         },
         {
          "asctime": "2021-03-23 07:58:13,506",
          "created": 1616486293.5065238,
          "extra": {},
          "filename": "async_executors.py",
          "funcName": "main",
          "levelname": "DEBUG",
          "lineno": 114,
          "message": "CustStatic_1: started async block execution\n",
          "name": "engine.logs:CustStatic_1",
          "pathname": "/usr/local/lib/python3.7/dist-packages/razor/flow/async_executors.py",
          "process": 7863,
          "processName": "ForkProcess-1:2",
          "thread": 140254031537984,
          "threadName": "MainThread"
         },
         {
          "asctime": "2021-03-23 07:58:13,507",
          "created": 1616486293.5079906,
          "extra": {},
          "filename": "async_executors.py",
          "funcName": "main",
          "levelname": "DEBUG",
          "lineno": 114,
          "message": "TranCityTS_1: started async block execution\n",
          "name": "engine.logs:TranCityTS_1",
          "pathname": "/usr/local/lib/python3.7/dist-packages/razor/flow/async_executors.py",
          "process": 7863,
          "processName": "ForkProcess-1:2",
          "thread": 140254031537984,
          "threadName": "MainThread"
         },
         {
          "asctime": "2021-03-23 07:58:13,508",
          "created": 1616486293.508354,
          "extra": {},
          "filename": "async_executors.py",
          "funcName": "main",
          "levelname": "DEBUG",
          "lineno": 114,
          "message": "ReadCsvProjectSpace_1: started async block execution\n",
          "name": "engine.logs:ReadCsvProjectSpace_1",
          "pathname": "/usr/local/lib/python3.7/dist-packages/razor/flow/async_executors.py",
          "process": 7863,
          "processName": "ForkProcess-1:2",
          "thread": 140254031537984,
          "threadName": "MainThread"
         },
         {
          "asctime": "2021-03-23 07:58:13,525",
          "created": 1616486293.5252047,
          "extra": {},
          "filename": "async_executors.py",
          "funcName": "fill_atomic_inputs",
          "levelname": "INFO",
          "lineno": 250,
          "message": "ProdTypeTS_1: waiting for atomic input: ip_data",
          "name": "engine.logs:ProdTypeTS_1",
          "pathname": "/usr/local/lib/python3.7/dist-packages/razor/flow/async_executors.py",
          "process": 7863,
          "processName": "ForkProcess-1:2",
          "thread": 140254031537984,
          "threadName": "MainThread"
         },
         {
          "asctime": "2021-03-23 07:58:13,645",
          "created": 1616486293.6455083,
          "extra": {},
          "filename": "async_executors.py",
          "funcName": "start_input_receiver",
          "levelname": "DEBUG",
          "lineno": 173,
          "message": "NonSparkPath_1: received cmd: start_sender, (), {'out_name': 'op_path', 'target': ('ReadCsvProjectSpace_1', 'filename'), 'out_addr': 'tcp://0.0.0.0:55071', 'in_memory': None}",
          "name": "engine.logs:NonSparkPath_1",
          "pathname": "/usr/local/lib/python3.7/dist-packages/razor/flow/async_executors.py",
          "process": 7855,
          "processName": "ForkProcess-1:1",
          "thread": 140254031537984,
          "threadName": "MainThread"
         },
         {
          "asctime": "2021-03-23 07:58:13,567",
          "created": 1616486293.5671403,
          "extra": {},
          "filename": "async_executors.py",
          "funcName": "fill_atomic_inputs",
          "levelname": "INFO",
          "lineno": 250,
          "message": "CustStatic_1: waiting for atomic input: ip_data",
          "name": "engine.logs:CustStatic_1",
          "pathname": "/usr/local/lib/python3.7/dist-packages/razor/flow/async_executors.py",
          "process": 7863,
          "processName": "ForkProcess-1:2",
          "thread": 140254031537984,
          "threadName": "MainThread"
         },
         {
          "asctime": "2021-03-23 07:58:13,552",
          "created": 1616486293.5521312,
          "extra": {},
          "filename": "async_executors.py",
          "funcName": "fill_atomic_inputs",
          "levelname": "INFO",
          "lineno": 250,
          "message": "CustMercTS_1: waiting for atomic input: ip_data",
          "name": "engine.logs:CustMercTS_1",
          "pathname": "/usr/local/lib/python3.7/dist-packages/razor/flow/async_executors.py",
          "process": 7863,
          "processName": "ForkProcess-1:2",
          "thread": 140254031537984,
          "threadName": "MainThread"
         },
         {
          "asctime": "2021-03-23 07:58:13,581",
          "created": 1616486293.581475,
          "extra": {},
          "filename": "async_executors.py",
          "funcName": "fill_atomic_inputs",
          "levelname": "INFO",
          "lineno": 250,
          "message": "TranTypeTS_1: waiting for atomic input: ip_data",
          "name": "engine.logs:TranTypeTS_1",
          "pathname": "/usr/local/lib/python3.7/dist-packages/razor/flow/async_executors.py",
          "process": 7863,
          "processName": "ForkProcess-1:2",
          "thread": 140254031537984,
          "threadName": "MainThread"
         },
         {
          "asctime": "2021-03-23 07:58:13,595",
          "created": 1616486293.5958707,
          "extra": {},
          "filename": "async_executors.py",
          "funcName": "fill_atomic_inputs",
          "levelname": "INFO",
          "lineno": 250,
          "message": "DropDuplicates_1: waiting for atomic input: ip_data",
          "name": "engine.logs:DropDuplicates_1",
          "pathname": "/usr/local/lib/python3.7/dist-packages/razor/flow/async_executors.py",
          "process": 7863,
          "processName": "ForkProcess-1:2",
          "thread": 140254031537984,
          "threadName": "MainThread"
         },
         {
          "asctime": "2021-03-23 07:58:13,609",
          "created": 1616486293.609763,
          "extra": {},
          "filename": "async_executors.py",
          "funcName": "fill_atomic_inputs",
          "levelname": "INFO",
          "lineno": 250,
          "message": "TranCityTS_1: waiting for atomic input: ip_data",
          "name": "engine.logs:TranCityTS_1",
          "pathname": "/usr/local/lib/python3.7/dist-packages/razor/flow/async_executors.py",
          "process": 7863,
          "processName": "ForkProcess-1:2",
          "thread": 140254031537984,
          "threadName": "MainThread"
         },
         {
          "asctime": "2021-03-23 07:58:13,624",
          "created": 1616486293.6241488,
          "extra": {},
          "filename": "async_executors.py",
          "funcName": "fill_atomic_inputs",
          "levelname": "INFO",
          "lineno": 250,
          "message": "ReadCsvProjectSpace_1: waiting for atomic input: filename",
          "name": "engine.logs:ReadCsvProjectSpace_1",
          "pathname": "/usr/local/lib/python3.7/dist-packages/razor/flow/async_executors.py",
          "process": 7863,
          "processName": "ForkProcess-1:2",
          "thread": 140254031537984,
          "threadName": "MainThread"
         },
         {
          "asctime": "2021-03-23 07:58:13,645",
          "created": 1616486293.6458278,
          "extra": {},
          "filename": "async_executors.py",
          "funcName": "start_output_sender",
          "levelname": "DEBUG",
          "lineno": 370,
          "message": "NonSparkPath_1: got start_sender, op_path, ('ReadCsvProjectSpace_1', 'filename')",
          "name": "engine.logs:NonSparkPath_1",
          "pathname": "/usr/local/lib/python3.7/dist-packages/razor/flow/async_executors.py",
          "process": 7855,
          "processName": "ForkProcess-1:1",
          "thread": 140254031537984,
          "threadName": "MainThread"
         },
         {
          "asctime": "2021-03-23 07:58:13,648",
          "created": 1616486293.6481872,
          "extra": {},
          "filename": "async_executors.py",
          "funcName": "start_input_receiver",
          "levelname": "DEBUG",
          "lineno": 177,
          "message": "ReadCsvProjectSpace_1: received data: filename, /home/aios/projectspace/customer_data.csv",
          "name": "engine.logs:ReadCsvProjectSpace_1",
          "pathname": "/usr/local/lib/python3.7/dist-packages/razor/flow/async_executors.py",
          "process": 7863,
          "processName": "ForkProcess-1:2",
          "thread": 140254031537984,
          "threadName": "MainThread"
         },
         {
          "asctime": "2021-03-23 07:58:13,648",
          "created": 1616486293.6485379,
          "extra": {},
          "filename": "async_executors.py",
          "funcName": "start_input_receiver",
          "levelname": "DEBUG",
          "lineno": 177,
          "message": "ReadCsvProjectSpace_1: received data: filename, b'__!\\tEndOfStream\\t!__'",
          "name": "engine.logs:ReadCsvProjectSpace_1",
          "pathname": "/usr/local/lib/python3.7/dist-packages/razor/flow/async_executors.py",
          "process": 7863,
          "processName": "ForkProcess-1:2",
          "thread": 140254031537984,
          "threadName": "MainThread"
         },
         {
          "asctime": "2021-03-23 07:58:13,646",
          "created": 1616486293.6469452,
          "extra": {},
          "filename": "async_executors.py",
          "funcName": "start_output_sender",
          "levelname": "DEBUG",
          "lineno": 388,
          "message": "NonSparkPath_1: SENT, filename, /home/aios/projectspace/customer_data.csv, ('ReadCsvProjectSpace_1', 'filename')",
          "name": "engine.logs:NonSparkPath_1",
          "pathname": "/usr/local/lib/python3.7/dist-packages/razor/flow/async_executors.py",
          "process": 7855,
          "processName": "ForkProcess-1:1",
          "thread": 140254031537984,
          "threadName": "MainThread"
         },
         {
          "asctime": "2021-03-23 07:58:13,647",
          "created": 1616486293.6472745,
          "extra": {},
          "filename": "async_executors.py",
          "funcName": "start_output_sender",
          "levelname": "DEBUG",
          "lineno": 388,
          "message": "NonSparkPath_1: SENT, filename, b'__!\\tEndOfStream\\t!__', ('ReadCsvProjectSpace_1', 'filename')",
          "name": "engine.logs:NonSparkPath_1",
          "pathname": "/usr/local/lib/python3.7/dist-packages/razor/flow/async_executors.py",
          "process": 7855,
          "processName": "ForkProcess-1:1",
          "thread": 140254031537984,
          "threadName": "MainThread"
         },
         {
          "asctime": "2021-03-23 07:58:13,647",
          "created": 1616486293.6475255,
          "extra": {},
          "filename": "async_executors.py",
          "funcName": "start_output_sender",
          "levelname": "DEBUG",
          "lineno": 391,
          "message": "NonSparkPath_1: completed output: ('op_path', ('ReadCsvProjectSpace_1', 'filename'))",
          "name": "engine.logs:NonSparkPath_1",
          "pathname": "/usr/local/lib/python3.7/dist-packages/razor/flow/async_executors.py",
          "process": 7855,
          "processName": "ForkProcess-1:1",
          "thread": 140254031537984,
          "threadName": "MainThread"
         },
         {
          "asctime": "2021-03-23 07:58:13,664",
          "created": 1616486293.6648304,
          "extra": {},
          "filename": "async_executors.py",
          "funcName": "start_input_receiver",
          "levelname": "DEBUG",
          "lineno": 173,
          "message": "NonSparkPath_1: received cmd: terminate, (), {}",
          "name": "engine.logs:NonSparkPath_1",
          "pathname": "/usr/local/lib/python3.7/dist-packages/razor/flow/async_executors.py",
          "process": 7855,
          "processName": "ForkProcess-1:1",
          "thread": 140254031537984,
          "threadName": "MainThread"
         },
         {
          "asctime": "2021-03-23 07:58:13,648",
          "created": 1616486293.6487048,
          "extra": {},
          "filename": "async_executors.py",
          "funcName": "fill_atomic_inputs",
          "levelname": "DEBUG",
          "lineno": 253,
          "message": "ReadCsvProjectSpace_1: got atomic input: /home/aios/projectspace/customer_data.csv",
          "name": "engine.logs:ReadCsvProjectSpace_1",
          "pathname": "/usr/local/lib/python3.7/dist-packages/razor/flow/async_executors.py",
          "process": 7863,
          "processName": "ForkProcess-1:2",
          "thread": 140254031537984,
          "threadName": "MainThread"
         },
         {
          "asctime": "2021-03-23 07:58:13,648",
          "created": 1616486293.648758,
          "extra": {},
          "filename": "async_executors.py",
          "funcName": "fill_atomic_inputs",
          "levelname": "INFO",
          "lineno": 250,
          "message": "ReadCsvProjectSpace_1: waiting for atomic input: config",
          "name": "engine.logs:ReadCsvProjectSpace_1",
          "pathname": "/usr/local/lib/python3.7/dist-packages/razor/flow/async_executors.py",
          "process": 7863,
          "processName": "ForkProcess-1:2",
          "thread": 140254031537984,
          "threadName": "MainThread"
         },
         {
          "asctime": "2021-03-23 07:58:13,648",
          "created": 1616486293.6488068,
          "extra": {},
          "filename": "async_executors.py",
          "funcName": "fill_atomic_inputs",
          "levelname": "DEBUG",
          "lineno": 253,
          "message": "ReadCsvProjectSpace_1: got atomic input: {}",
          "name": "engine.logs:ReadCsvProjectSpace_1",
          "pathname": "/usr/local/lib/python3.7/dist-packages/razor/flow/async_executors.py",
          "process": 7863,
          "processName": "ForkProcess-1:2",
          "thread": 140254031537984,
          "threadName": "MainThread"
         },
         {
          "asctime": "2021-03-23 07:58:13,648",
          "created": 1616486293.6488423,
          "extra": {},
          "filename": "async_executors.py",
          "funcName": "fill_atomic_inputs",
          "levelname": "INFO",
          "lineno": 250,
          "message": "ReadCsvProjectSpace_1: waiting for atomic input: source",
          "name": "engine.logs:ReadCsvProjectSpace_1",
          "pathname": "/usr/local/lib/python3.7/dist-packages/razor/flow/async_executors.py",
          "process": 7863,
          "processName": "ForkProcess-1:2",
          "thread": 140254031537984,
          "threadName": "MainThread"
         },
         {
          "asctime": "2021-03-23 07:58:13,648",
          "created": 1616486293.6488907,
          "extra": {},
          "filename": "async_executors.py",
          "funcName": "fill_atomic_inputs",
          "levelname": "DEBUG",
          "lineno": 253,
          "message": "ReadCsvProjectSpace_1: got atomic input: ",
          "name": "engine.logs:ReadCsvProjectSpace_1",
          "pathname": "/usr/local/lib/python3.7/dist-packages/razor/flow/async_executors.py",
          "process": 7863,
          "processName": "ForkProcess-1:2",
          "thread": 140254031537984,
          "threadName": "MainThread"
         },
         {
          "asctime": "2021-03-23 07:58:13,648",
          "created": 1616486293.6489832,
          "extra": {},
          "filename": "async_executors.py",
          "funcName": "main",
          "levelname": "DEBUG",
          "lineno": 130,
          "message": "ReadCsvProjectSpace_1: triggering block run",
          "name": "engine.logs:ReadCsvProjectSpace_1",
          "pathname": "/usr/local/lib/python3.7/dist-packages/razor/flow/async_executors.py",
          "process": 7863,
          "processName": "ForkProcess-1:2",
          "thread": 140254031537984,
          "threadName": "MainThread"
         },
         {
          "asctime": "2021-03-23 07:58:45,474",
          "created": 1616486325.4744186,
          "exc_info": null,
          "extra": {},
          "filename": null,
          "full_message": null,
          "funcName": null,
          "levelname": "STDOUT",
          "lineno": null,
          "message": "Hello\n",
          "name": "block.stdout:ReadCsvProjectSpace_1",
          "pathname": null,
          "process": null,
          "processName": null,
          "thread": null,
          "threadName": null
         },
         {
          "asctime": "2021-03-23 07:58:45,564",
          "created": 1616486325.564121,
          "exc_info": null,
          "extra": {},
          "filename": null,
          "full_message": null,
          "funcName": null,
          "levelname": "STDOUT",
          "lineno": null,
          "message": "root\n |-- transaction_id: string (nullable = true)\n |-- time: string (nullable = true)\n |-- customer_name: string (nullable = true)\n |-- card_number: string (nullable = true)\n |-- card_type: string (nullable = true)\n |-- physical_card_type: string (nullable = true)\n |-- merchant_id: string (nullable = true)\n |-- merchant_city: string (nullable = true)\n |-- merchant_state: string (nullable = true)\n |-- transaction_type: string (nullable = true)\n |-- transaction_type_sub: string (nullable = true)\n |-- amount: string (nullable = true)\n |-- product_type: string (nullable = true)\n |-- fraud_risk: string (nullable = true)\n |-- One Time Heavy Loot Score: string (nullable = true)\n |-- Drastic Transaction Change Pattern Score: string (nullable = true)\n |-- Parasitic Fraud Score: string (nullable = true)\n |-- Purchase Behavior Variation Score: string (nullable = true)\n |-- Preferred Merchant Variation Score: string (nullable = true)\n |-- Multiple Location Fraud Score: string (nullable = true)\n |-- Fraudster Merchant Score: string (nullable = true)\n |-- no_of_transactions_in_the_day: string (nullable = true)\n |-- max_transaction_amount_in_the_day: string (nullable = true)\n |-- avg_transaction_amount_in_the_day: string (nullable = true)\n |-- no_of_transactions_in_the_month: string (nullable = true)\n |-- max_transaction_amount_the_month: string (nullable = true)\n |-- avg_transaction_amount_the_month: string (nullable = true)\n |-- no_of_transactions_of_the_same_merchant_in_the_day: string (nullable = true)\n |-- max_transactions_of_the_same_merchant_in_the_day: string (nullable = true)\n |-- avg_transactions_of_the_same_merchant_in_the_day: string (nullable = true)\n |-- no_of_transactions_of_the_same_merchant_in_the_month: string (nullable = true)\n |-- max_transactions_of_the_same_merchant_in_the_month: string (nullable = true)\n |-- avg_transactions_of_the_same_merchant_in_the_month: string (nullable = true)\n\n",
          "name": "block.stdout:ReadCsvProjectSpace_1",
          "pathname": null,
          "process": null,
          "processName": null,
          "thread": null,
          "threadName": null
         },
         {
          "asctime": "2021-03-23 07:58:45,658",
          "created": 1616486325.658285,
          "extra": {},
          "filename": "async_executors.py",
          "funcName": "distribute_output_queue",
          "levelname": "DEBUG",
          "lineno": 308,
          "message": "ReadCsvProjectSpace_1: ---- dist output: DataFrame[transaction_id: string, time: string, customer_name: string, card_number: string, card_type: string, physical_card_type: string, merchant_id: string, merchant_city: string, merchant_state: string, transaction_type: string, transaction_type_sub: string, amount: string, product_type: string, fraud_risk: string, One Time Heavy Loot Score: string, Drastic Transaction Change Pattern Score: string, Parasitic Fraud Score: string, Purchase Behavior Variation Score: string, Preferred Merchant Variation Score: string, Multiple Location Fraud Score: string, Fraudster Merchant Score: string, no_of_transactions_in_the_day: string, max_transaction_amount_in_the_day: string, avg_transaction_amount_in_the_day: string, no_of_transactions_in_the_month: string, max_transaction_amount_the_month: string, avg_transaction_amount_the_month: string, no_of_transactions_of_the_same_merchant_in_the_day: string, max_transactions_of_the_same_merchant_in_the_day: string, avg_transactions_of_the_same_merchant_in_the_day: string, no_of_transactions_of_the_same_merchant_in_the_month: string, max_transactions_of_the_same_merchant_in_the_month: string, avg_transactions_of_the_same_merchant_in_the_month: string] -> ('CustStatic_1', 'ip_data')",
          "name": "engine.logs:ReadCsvProjectSpace_1",
          "pathname": "/usr/local/lib/python3.7/dist-packages/razor/flow/async_executors.py",
          "process": 7863,
          "processName": "ForkProcess-1:2",
          "thread": 140254031537984,
          "threadName": "MainThread"
         },
         {
          "asctime": "2021-03-23 07:58:45,659",
          "created": 1616486325.6595736,
          "extra": {},
          "filename": "async_executors.py",
          "funcName": "distribute_output_queue",
          "levelname": "DEBUG",
          "lineno": 308,
          "message": "ReadCsvProjectSpace_1: ---- dist output: DataFrame[transaction_id: string, time: string, customer_name: string, card_number: string, card_type: string, physical_card_type: string, merchant_id: string, merchant_city: string, merchant_state: string, transaction_type: string, transaction_type_sub: string, amount: string, product_type: string, fraud_risk: string, One Time Heavy Loot Score: string, Drastic Transaction Change Pattern Score: string, Parasitic Fraud Score: string, Purchase Behavior Variation Score: string, Preferred Merchant Variation Score: string, Multiple Location Fraud Score: string, Fraudster Merchant Score: string, no_of_transactions_in_the_day: string, max_transaction_amount_in_the_day: string, avg_transaction_amount_in_the_day: string, no_of_transactions_in_the_month: string, max_transaction_amount_the_month: string, avg_transaction_amount_the_month: string, no_of_transactions_of_the_same_merchant_in_the_day: string, max_transactions_of_the_same_merchant_in_the_day: string, avg_transactions_of_the_same_merchant_in_the_day: string, no_of_transactions_of_the_same_merchant_in_the_month: string, max_transactions_of_the_same_merchant_in_the_month: string, avg_transactions_of_the_same_merchant_in_the_month: string] -> ('ProdTypeTS_1', 'ip_data')",
          "name": "engine.logs:ReadCsvProjectSpace_1",
          "pathname": "/usr/local/lib/python3.7/dist-packages/razor/flow/async_executors.py",
          "process": 7863,
          "processName": "ForkProcess-1:2",
          "thread": 140254031537984,
          "threadName": "MainThread"
         },
         {
          "asctime": "2021-03-23 07:58:45,660",
          "created": 1616486325.6602979,
          "extra": {},
          "filename": "async_executors.py",
          "funcName": "distribute_output_queue",
          "levelname": "DEBUG",
          "lineno": 308,
          "message": "ReadCsvProjectSpace_1: ---- dist output: DataFrame[transaction_id: string, time: string, customer_name: string, card_number: string, card_type: string, physical_card_type: string, merchant_id: string, merchant_city: string, merchant_state: string, transaction_type: string, transaction_type_sub: string, amount: string, product_type: string, fraud_risk: string, One Time Heavy Loot Score: string, Drastic Transaction Change Pattern Score: string, Parasitic Fraud Score: string, Purchase Behavior Variation Score: string, Preferred Merchant Variation Score: string, Multiple Location Fraud Score: string, Fraudster Merchant Score: string, no_of_transactions_in_the_day: string, max_transaction_amount_in_the_day: string, avg_transaction_amount_in_the_day: string, no_of_transactions_in_the_month: string, max_transaction_amount_the_month: string, avg_transaction_amount_the_month: string, no_of_transactions_of_the_same_merchant_in_the_day: string, max_transactions_of_the_same_merchant_in_the_day: string, avg_transactions_of_the_same_merchant_in_the_day: string, no_of_transactions_of_the_same_merchant_in_the_month: string, max_transactions_of_the_same_merchant_in_the_month: string, avg_transactions_of_the_same_merchant_in_the_month: string] -> ('TranTypeTS_1', 'ip_data')",
          "name": "engine.logs:ReadCsvProjectSpace_1",
          "pathname": "/usr/local/lib/python3.7/dist-packages/razor/flow/async_executors.py",
          "process": 7863,
          "processName": "ForkProcess-1:2",
          "thread": 140254031537984,
          "threadName": "MainThread"
         },
         {
          "asctime": "2021-03-23 07:58:45,660",
          "created": 1616486325.6607935,
          "extra": {},
          "filename": "async_executors.py",
          "funcName": "distribute_output_queue",
          "levelname": "DEBUG",
          "lineno": 308,
          "message": "ReadCsvProjectSpace_1: ---- dist output: DataFrame[transaction_id: string, time: string, customer_name: string, card_number: string, card_type: string, physical_card_type: string, merchant_id: string, merchant_city: string, merchant_state: string, transaction_type: string, transaction_type_sub: string, amount: string, product_type: string, fraud_risk: string, One Time Heavy Loot Score: string, Drastic Transaction Change Pattern Score: string, Parasitic Fraud Score: string, Purchase Behavior Variation Score: string, Preferred Merchant Variation Score: string, Multiple Location Fraud Score: string, Fraudster Merchant Score: string, no_of_transactions_in_the_day: string, max_transaction_amount_in_the_day: string, avg_transaction_amount_in_the_day: string, no_of_transactions_in_the_month: string, max_transaction_amount_the_month: string, avg_transaction_amount_the_month: string, no_of_transactions_of_the_same_merchant_in_the_day: string, max_transactions_of_the_same_merchant_in_the_day: string, avg_transactions_of_the_same_merchant_in_the_day: string, no_of_transactions_of_the_same_merchant_in_the_month: string, max_transactions_of_the_same_merchant_in_the_month: string, avg_transactions_of_the_same_merchant_in_the_month: string] -> ('CustMercTS_1', 'ip_data')",
          "name": "engine.logs:ReadCsvProjectSpace_1",
          "pathname": "/usr/local/lib/python3.7/dist-packages/razor/flow/async_executors.py",
          "process": 7863,
          "processName": "ForkProcess-1:2",
          "thread": 140254031537984,
          "threadName": "MainThread"
         },
         {
          "asctime": "2021-03-23 07:58:45,661",
          "created": 1616486325.6613355,
          "extra": {},
          "filename": "async_executors.py",
          "funcName": "distribute_output_queue",
          "levelname": "DEBUG",
          "lineno": 308,
          "message": "ReadCsvProjectSpace_1: ---- dist output: DataFrame[transaction_id: string, time: string, customer_name: string, card_number: string, card_type: string, physical_card_type: string, merchant_id: string, merchant_city: string, merchant_state: string, transaction_type: string, transaction_type_sub: string, amount: string, product_type: string, fraud_risk: string, One Time Heavy Loot Score: string, Drastic Transaction Change Pattern Score: string, Parasitic Fraud Score: string, Purchase Behavior Variation Score: string, Preferred Merchant Variation Score: string, Multiple Location Fraud Score: string, Fraudster Merchant Score: string, no_of_transactions_in_the_day: string, max_transaction_amount_in_the_day: string, avg_transaction_amount_in_the_day: string, no_of_transactions_in_the_month: string, max_transaction_amount_the_month: string, avg_transaction_amount_the_month: string, no_of_transactions_of_the_same_merchant_in_the_day: string, max_transactions_of_the_same_merchant_in_the_day: string, avg_transactions_of_the_same_merchant_in_the_day: string, no_of_transactions_of_the_same_merchant_in_the_month: string, max_transactions_of_the_same_merchant_in_the_month: string, avg_transactions_of_the_same_merchant_in_the_month: string] -> ('TranCityTS_1', 'ip_data')",
          "name": "engine.logs:ReadCsvProjectSpace_1",
          "pathname": "/usr/local/lib/python3.7/dist-packages/razor/flow/async_executors.py",
          "process": 7863,
          "processName": "ForkProcess-1:2",
          "thread": 140254031537984,
          "threadName": "MainThread"
         },
         {
          "asctime": "2021-03-23 07:58:45,661",
          "created": 1616486325.6617212,
          "extra": {},
          "filename": "async_executors.py",
          "funcName": "main",
          "levelname": "DEBUG",
          "lineno": 147,
          "message": "ReadCsvProjectSpace_1: block thread completed",
          "name": "engine.logs:ReadCsvProjectSpace_1",
          "pathname": "/usr/local/lib/python3.7/dist-packages/razor/flow/async_executors.py",
          "process": 7863,
          "processName": "ForkProcess-1:2",
          "thread": 140254031537984,
          "threadName": "MainThread"
         },
         {
          "asctime": "2021-03-23 07:58:45,661",
          "created": 1616486325.661801,
          "extra": {},
          "filename": "async_executors.py",
          "funcName": "main",
          "levelname": "DEBUG",
          "lineno": 149,
          "message": "ReadCsvProjectSpace_1: block execution complete",
          "name": "engine.logs:ReadCsvProjectSpace_1",
          "pathname": "/usr/local/lib/python3.7/dist-packages/razor/flow/async_executors.py",
          "process": 7863,
          "processName": "ForkProcess-1:2",
          "thread": 140254031537984,
          "threadName": "MainThread"
         },
         {
          "asctime": "2021-03-23 07:58:45,662",
          "created": 1616486325.6621327,
          "extra": {},
          "filename": "async_executors.py",
          "funcName": "distribute_output_queue",
          "levelname": "DEBUG",
          "lineno": 308,
          "message": "ReadCsvProjectSpace_1: ---- dist output: b'__!\\tEndOfStream\\t!__' -> ('CustStatic_1', 'ip_data')",
          "name": "engine.logs:ReadCsvProjectSpace_1",
          "pathname": "/usr/local/lib/python3.7/dist-packages/razor/flow/async_executors.py",
          "process": 7863,
          "processName": "ForkProcess-1:2",
          "thread": 140254031537984,
          "threadName": "MainThread"
         },
         {
          "asctime": "2021-03-23 07:58:45,662",
          "created": 1616486325.6621938,
          "extra": {},
          "filename": "async_executors.py",
          "funcName": "distribute_output_queue",
          "levelname": "DEBUG",
          "lineno": 308,
          "message": "ReadCsvProjectSpace_1: ---- dist output: b'__!\\tEndOfStream\\t!__' -> ('ProdTypeTS_1', 'ip_data')",
          "name": "engine.logs:ReadCsvProjectSpace_1",
          "pathname": "/usr/local/lib/python3.7/dist-packages/razor/flow/async_executors.py",
          "process": 7863,
          "processName": "ForkProcess-1:2",
          "thread": 140254031537984,
          "threadName": "MainThread"
         },
         {
          "asctime": "2021-03-23 07:58:45,662",
          "created": 1616486325.6622412,
          "extra": {},
          "filename": "async_executors.py",
          "funcName": "distribute_output_queue",
          "levelname": "DEBUG",
          "lineno": 308,
          "message": "ReadCsvProjectSpace_1: ---- dist output: b'__!\\tEndOfStream\\t!__' -> ('TranTypeTS_1', 'ip_data')",
          "name": "engine.logs:ReadCsvProjectSpace_1",
          "pathname": "/usr/local/lib/python3.7/dist-packages/razor/flow/async_executors.py",
          "process": 7863,
          "processName": "ForkProcess-1:2",
          "thread": 140254031537984,
          "threadName": "MainThread"
         },
         {
          "asctime": "2021-03-23 07:58:45,736",
          "created": 1616486325.7360013,
          "extra": {},
          "filename": "async_executors.py",
          "funcName": "fill_atomic_inputs",
          "levelname": "DEBUG",
          "lineno": 253,
          "message": "CustStatic_1: got atomic input: DataFrame[transaction_id: string, time: string, customer_name: string, card_number: string, card_type: string, physical_card_type: string, merchant_id: string, merchant_city: string, merchant_state: string, transaction_type: string, transaction_type_sub: string, amount: string, product_type: string, fraud_risk: string, One Time Heavy Loot Score: string, Drastic Transaction Change Pattern Score: string, Parasitic Fraud Score: string, Purchase Behavior Variation Score: string, Preferred Merchant Variation Score: string, Multiple Location Fraud Score: string, Fraudster Merchant Score: string, no_of_transactions_in_the_day: string, max_transaction_amount_in_the_day: string, avg_transaction_amount_in_the_day: string, no_of_transactions_in_the_month: string, max_transaction_amount_the_month: string, avg_transaction_amount_the_month: string, no_of_transactions_of_the_same_merchant_in_the_day: string, max_transactions_of_the_same_merchant_in_the_day: string, avg_transactions_of_the_same_merchant_in_the_day: string, no_of_transactions_of_the_same_merchant_in_the_month: string, max_transactions_of_the_same_merchant_in_the_month: string, avg_transactions_of_the_same_merchant_in_the_month: string]",
          "name": "engine.logs:CustStatic_1",
          "pathname": "/usr/local/lib/python3.7/dist-packages/razor/flow/async_executors.py",
          "process": 7863,
          "processName": "ForkProcess-1:2",
          "thread": 140254031537984,
          "threadName": "MainThread"
         },
         {
          "asctime": "2021-03-23 07:58:45,662",
          "created": 1616486325.6622815,
          "extra": {},
          "filename": "async_executors.py",
          "funcName": "distribute_output_queue",
          "levelname": "DEBUG",
          "lineno": 308,
          "message": "ReadCsvProjectSpace_1: ---- dist output: b'__!\\tEndOfStream\\t!__' -> ('CustMercTS_1', 'ip_data')",
          "name": "engine.logs:ReadCsvProjectSpace_1",
          "pathname": "/usr/local/lib/python3.7/dist-packages/razor/flow/async_executors.py",
          "process": 7863,
          "processName": "ForkProcess-1:2",
          "thread": 140254031537984,
          "threadName": "MainThread"
         },
         {
          "asctime": "2021-03-23 07:58:45,736",
          "created": 1616486325.7361605,
          "extra": {},
          "filename": "async_executors.py",
          "funcName": "fill_atomic_inputs",
          "levelname": "INFO",
          "lineno": 250,
          "message": "CustStatic_1: waiting for atomic input: config",
          "name": "engine.logs:CustStatic_1",
          "pathname": "/usr/local/lib/python3.7/dist-packages/razor/flow/async_executors.py",
          "process": 7863,
          "processName": "ForkProcess-1:2",
          "thread": 140254031537984,
          "threadName": "MainThread"
         },
         {
          "asctime": "2021-03-23 07:58:45,662",
          "created": 1616486325.662319,
          "extra": {},
          "filename": "async_executors.py",
          "funcName": "distribute_output_queue",
          "levelname": "DEBUG",
          "lineno": 308,
          "message": "ReadCsvProjectSpace_1: ---- dist output: b'__!\\tEndOfStream\\t!__' -> ('TranCityTS_1', 'ip_data')",
          "name": "engine.logs:ReadCsvProjectSpace_1",
          "pathname": "/usr/local/lib/python3.7/dist-packages/razor/flow/async_executors.py",
          "process": 7863,
          "processName": "ForkProcess-1:2",
          "thread": 140254031537984,
          "threadName": "MainThread"
         },
         {
          "asctime": "2021-03-23 07:58:45,736",
          "created": 1616486325.7362995,
          "extra": {},
          "filename": "async_executors.py",
          "funcName": "fill_atomic_inputs",
          "levelname": "DEBUG",
          "lineno": 253,
          "message": "CustStatic_1: got atomic input: {}",
          "name": "engine.logs:CustStatic_1",
          "pathname": "/usr/local/lib/python3.7/dist-packages/razor/flow/async_executors.py",
          "process": 7863,
          "processName": "ForkProcess-1:2",
          "thread": 140254031537984,
          "threadName": "MainThread"
         },
         {
          "asctime": "2021-03-23 07:58:45,951",
          "created": 1616486325.9519045,
          "extra": {},
          "filename": "async_executors.py",
          "funcName": "fill_atomic_inputs",
          "levelname": "DEBUG",
          "lineno": 253,
          "message": "CustMercTS_1: got atomic input: DataFrame[transaction_id: string, time: string, customer_name: string, card_number: string, card_type: string, physical_card_type: string, merchant_id: string, merchant_city: string, merchant_state: string, transaction_type: string, transaction_type_sub: string, amount: string, product_type: string, fraud_risk: string, One Time Heavy Loot Score: string, Drastic Transaction Change Pattern Score: string, Parasitic Fraud Score: string, Purchase Behavior Variation Score: string, Preferred Merchant Variation Score: string, Multiple Location Fraud Score: string, Fraudster Merchant Score: string, no_of_transactions_in_the_day: string, max_transaction_amount_in_the_day: string, avg_transaction_amount_in_the_day: string, no_of_transactions_in_the_month: string, max_transaction_amount_the_month: string, avg_transaction_amount_the_month: string, no_of_transactions_of_the_same_merchant_in_the_day: string, max_transactions_of_the_same_merchant_in_the_day: string, avg_transactions_of_the_same_merchant_in_the_day: string, no_of_transactions_of_the_same_merchant_in_the_month: string, max_transactions_of_the_same_merchant_in_the_month: string, avg_transactions_of_the_same_merchant_in_the_month: string]",
          "name": "engine.logs:CustMercTS_1",
          "pathname": "/usr/local/lib/python3.7/dist-packages/razor/flow/async_executors.py",
          "process": 7863,
          "processName": "ForkProcess-1:2",
          "thread": 140254031537984,
          "threadName": "MainThread"
         },
         {
          "asctime": "2021-03-23 07:58:45,736",
          "created": 1616486325.7363696,
          "extra": {},
          "filename": "async_executors.py",
          "funcName": "fill_atomic_inputs",
          "levelname": "INFO",
          "lineno": 250,
          "message": "CustStatic_1: waiting for atomic input: source",
          "name": "engine.logs:CustStatic_1",
          "pathname": "/usr/local/lib/python3.7/dist-packages/razor/flow/async_executors.py",
          "process": 7863,
          "processName": "ForkProcess-1:2",
          "thread": 140254031537984,
          "threadName": "MainThread"
         },
         {
          "asctime": "2021-03-23 07:58:45,730",
          "created": 1616486325.7306514,
          "extra": {},
          "filename": "async_executors.py",
          "funcName": "start_input_receiver",
          "levelname": "DEBUG",
          "lineno": 173,
          "message": "ReadCsvProjectSpace_1: received cmd: start_sender, (), {'out_name': 'data', 'target': ('CustStatic_1', 'ip_data'), 'out_addr': 'tcp://0.0.0.0:53060', 'in_memory': True}",
          "name": "engine.logs:ReadCsvProjectSpace_1",
          "pathname": "/usr/local/lib/python3.7/dist-packages/razor/flow/async_executors.py",
          "process": 7863,
          "processName": "ForkProcess-1:2",
          "thread": 140254031537984,
          "threadName": "MainThread"
         },
         {
          "asctime": "2021-03-23 07:58:45,952",
          "created": 1616486325.9520993,
          "extra": {},
          "filename": "async_executors.py",
          "funcName": "fill_atomic_inputs",
          "levelname": "INFO",
          "lineno": 250,
          "message": "CustMercTS_1: waiting for atomic input: config",
          "name": "engine.logs:CustMercTS_1",
          "pathname": "/usr/local/lib/python3.7/dist-packages/razor/flow/async_executors.py",
          "process": 7863,
          "processName": "ForkProcess-1:2",
          "thread": 140254031537984,
          "threadName": "MainThread"
         },
         {
          "asctime": "2021-03-23 07:58:45,736",
          "created": 1616486325.7364306,
          "extra": {},
          "filename": "async_executors.py",
          "funcName": "fill_atomic_inputs",
          "levelname": "DEBUG",
          "lineno": 253,
          "message": "CustStatic_1: got atomic input: ",
          "name": "engine.logs:CustStatic_1",
          "pathname": "/usr/local/lib/python3.7/dist-packages/razor/flow/async_executors.py",
          "process": 7863,
          "processName": "ForkProcess-1:2",
          "thread": 140254031537984,
          "threadName": "MainThread"
         },
         {
          "asctime": "2021-03-23 07:58:45,952",
          "created": 1616486325.9521723,
          "extra": {},
          "filename": "async_executors.py",
          "funcName": "fill_atomic_inputs",
          "levelname": "DEBUG",
          "lineno": 253,
          "message": "CustMercTS_1: got atomic input: {}",
          "name": "engine.logs:CustMercTS_1",
          "pathname": "/usr/local/lib/python3.7/dist-packages/razor/flow/async_executors.py",
          "process": 7863,
          "processName": "ForkProcess-1:2",
          "thread": 140254031537984,
          "threadName": "MainThread"
         },
         {
          "asctime": "2021-03-23 07:58:45,964",
          "created": 1616486325.964091,
          "extra": {},
          "filename": "async_executors.py",
          "funcName": "fill_atomic_inputs",
          "levelname": "DEBUG",
          "lineno": 253,
          "message": "ProdTypeTS_1: got atomic input: DataFrame[transaction_id: string, time: string, customer_name: string, card_number: string, card_type: string, physical_card_type: string, merchant_id: string, merchant_city: string, merchant_state: string, transaction_type: string, transaction_type_sub: string, amount: string, product_type: string, fraud_risk: string, One Time Heavy Loot Score: string, Drastic Transaction Change Pattern Score: string, Parasitic Fraud Score: string, Purchase Behavior Variation Score: string, Preferred Merchant Variation Score: string, Multiple Location Fraud Score: string, Fraudster Merchant Score: string, no_of_transactions_in_the_day: string, max_transaction_amount_in_the_day: string, avg_transaction_amount_in_the_day: string, no_of_transactions_in_the_month: string, max_transaction_amount_the_month: string, avg_transaction_amount_the_month: string, no_of_transactions_of_the_same_merchant_in_the_day: string, max_transactions_of_the_same_merchant_in_the_day: string, avg_transactions_of_the_same_merchant_in_the_day: string, no_of_transactions_of_the_same_merchant_in_the_month: string, max_transactions_of_the_same_merchant_in_the_month: string, avg_transactions_of_the_same_merchant_in_the_month: string]",
          "name": "engine.logs:ProdTypeTS_1",
          "pathname": "/usr/local/lib/python3.7/dist-packages/razor/flow/async_executors.py",
          "process": 7863,
          "processName": "ForkProcess-1:2",
          "thread": 140254031537984,
          "threadName": "MainThread"
         },
         {
          "asctime": "2021-03-23 07:58:45,736",
          "created": 1616486325.7364974,
          "extra": {},
          "filename": "async_executors.py",
          "funcName": "main",
          "levelname": "DEBUG",
          "lineno": 130,
          "message": "CustStatic_1: triggering block run",
          "name": "engine.logs:CustStatic_1",
          "pathname": "/usr/local/lib/python3.7/dist-packages/razor/flow/async_executors.py",
          "process": 7863,
          "processName": "ForkProcess-1:2",
          "thread": 140254031537984,
          "threadName": "MainThread"
         },
         {
          "asctime": "2021-03-23 07:58:45,731",
          "created": 1616486325.7312138,
          "extra": {},
          "filename": "async_executors.py",
          "funcName": "start_output_sender",
          "levelname": "DEBUG",
          "lineno": 370,
          "message": "ReadCsvProjectSpace_1: got start_sender, data, ('CustStatic_1', 'ip_data')",
          "name": "engine.logs:ReadCsvProjectSpace_1",
          "pathname": "/usr/local/lib/python3.7/dist-packages/razor/flow/async_executors.py",
          "process": 7863,
          "processName": "ForkProcess-1:2",
          "thread": 140254031537984,
          "threadName": "MainThread"
         },
         {
          "asctime": "2021-03-23 07:58:45,952",
          "created": 1616486325.952214,
          "extra": {},
          "filename": "async_executors.py",
          "funcName": "fill_atomic_inputs",
          "levelname": "INFO",
          "lineno": 250,
          "message": "CustMercTS_1: waiting for atomic input: source",
          "name": "engine.logs:CustMercTS_1",
          "pathname": "/usr/local/lib/python3.7/dist-packages/razor/flow/async_executors.py",
          "process": 7863,
          "processName": "ForkProcess-1:2",
          "thread": 140254031537984,
          "threadName": "MainThread"
         },
         {
          "asctime": "2021-03-23 07:58:45,964",
          "created": 1616486325.964238,
          "extra": {},
          "filename": "async_executors.py",
          "funcName": "fill_atomic_inputs",
          "levelname": "INFO",
          "lineno": 250,
          "message": "ProdTypeTS_1: waiting for atomic input: config",
          "name": "engine.logs:ProdTypeTS_1",
          "pathname": "/usr/local/lib/python3.7/dist-packages/razor/flow/async_executors.py",
          "process": 7863,
          "processName": "ForkProcess-1:2",
          "thread": 140254031537984,
          "threadName": "MainThread"
         },
         {
          "asctime": "2021-03-23 07:58:45,732",
          "created": 1616486325.7321694,
          "extra": {},
          "filename": "async_executors.py",
          "funcName": "start_output_sender",
          "levelname": "DEBUG",
          "lineno": 375,
          "message": "ReadCsvProjectSpace_1: SENT, ip_data, DataFrame[transaction_id: string, time: string, customer_name: string, card_number: string, card_type: string, physical_card_type: string, merchant_id: string, merchant_city: string, merchant_state: string, transaction_type: string, transaction_type_sub: string, amount: string, product_type: string, fraud_risk: string, One Time Heavy Loot Score: string, Drastic Transaction Change Pattern Score: string, Parasitic Fraud Score: string, Purchase Behavior Variation Score: string, Preferred Merchant Variation Score: string, Multiple Location Fraud Score: string, Fraudster Merchant Score: string, no_of_transactions_in_the_day: string, max_transaction_amount_in_the_day: string, avg_transaction_amount_in_the_day: string, no_of_transactions_in_the_month: string, max_transaction_amount_the_month: string, avg_transaction_amount_the_month: string, no_of_transactions_of_the_same_merchant_in_the_day: string, max_transactions_of_the_same_merchant_in_the_day: string, avg_transactions_of_the_same_merchant_in_the_day: string, no_of_transactions_of_the_same_merchant_in_the_month: string, max_transactions_of_the_same_merchant_in_the_month: string, avg_transactions_of_the_same_merchant_in_the_month: string], ('CustStatic_1', 'ip_data')",
          "name": "engine.logs:ReadCsvProjectSpace_1",
          "pathname": "/usr/local/lib/python3.7/dist-packages/razor/flow/async_executors.py",
          "process": 7863,
          "processName": "ForkProcess-1:2",
          "thread": 140254031537984,
          "threadName": "MainThread"
         },
         {
          "asctime": "2021-03-23 07:58:45,964",
          "created": 1616486325.964308,
          "extra": {},
          "filename": "async_executors.py",
          "funcName": "fill_atomic_inputs",
          "levelname": "DEBUG",
          "lineno": 253,
          "message": "ProdTypeTS_1: got atomic input: {}",
          "name": "engine.logs:ProdTypeTS_1",
          "pathname": "/usr/local/lib/python3.7/dist-packages/razor/flow/async_executors.py",
          "process": 7863,
          "processName": "ForkProcess-1:2",
          "thread": 140254031537984,
          "threadName": "MainThread"
         },
         {
          "asctime": "2021-03-23 07:58:45,976",
          "created": 1616486325.9761212,
          "extra": {},
          "filename": "async_executors.py",
          "funcName": "fill_atomic_inputs",
          "levelname": "DEBUG",
          "lineno": 253,
          "message": "TranCityTS_1: got atomic input: DataFrame[transaction_id: string, time: string, customer_name: string, card_number: string, card_type: string, physical_card_type: string, merchant_id: string, merchant_city: string, merchant_state: string, transaction_type: string, transaction_type_sub: string, amount: string, product_type: string, fraud_risk: string, One Time Heavy Loot Score: string, Drastic Transaction Change Pattern Score: string, Parasitic Fraud Score: string, Purchase Behavior Variation Score: string, Preferred Merchant Variation Score: string, Multiple Location Fraud Score: string, Fraudster Merchant Score: string, no_of_transactions_in_the_day: string, max_transaction_amount_in_the_day: string, avg_transaction_amount_in_the_day: string, no_of_transactions_in_the_month: string, max_transaction_amount_the_month: string, avg_transaction_amount_the_month: string, no_of_transactions_of_the_same_merchant_in_the_day: string, max_transactions_of_the_same_merchant_in_the_day: string, avg_transactions_of_the_same_merchant_in_the_day: string, no_of_transactions_of_the_same_merchant_in_the_month: string, max_transactions_of_the_same_merchant_in_the_month: string, avg_transactions_of_the_same_merchant_in_the_month: string]",
          "name": "engine.logs:TranCityTS_1",
          "pathname": "/usr/local/lib/python3.7/dist-packages/razor/flow/async_executors.py",
          "process": 7863,
          "processName": "ForkProcess-1:2",
          "thread": 140254031537984,
          "threadName": "MainThread"
         },
         {
          "asctime": "2021-03-23 07:58:45,952",
          "created": 1616486325.952258,
          "extra": {},
          "filename": "async_executors.py",
          "funcName": "fill_atomic_inputs",
          "levelname": "DEBUG",
          "lineno": 253,
          "message": "CustMercTS_1: got atomic input: ",
          "name": "engine.logs:CustMercTS_1",
          "pathname": "/usr/local/lib/python3.7/dist-packages/razor/flow/async_executors.py",
          "process": 7863,
          "processName": "ForkProcess-1:2",
          "thread": 140254031537984,
          "threadName": "MainThread"
         },
         {
          "asctime": "2021-03-23 07:58:45,952",
          "created": 1616486325.9523098,
          "extra": {},
          "filename": "async_executors.py",
          "funcName": "main",
          "levelname": "DEBUG",
          "lineno": 130,
          "message": "CustMercTS_1: triggering block run",
          "name": "engine.logs:CustMercTS_1",
          "pathname": "/usr/local/lib/python3.7/dist-packages/razor/flow/async_executors.py",
          "process": 7863,
          "processName": "ForkProcess-1:2",
          "thread": 140254031537984,
          "threadName": "MainThread"
         },
         {
          "asctime": "2021-03-23 07:58:45,732",
          "created": 1616486325.732352,
          "extra": {},
          "filename": "async_executors.py",
          "funcName": "start_output_sender",
          "levelname": "DEBUG",
          "lineno": 375,
          "message": "ReadCsvProjectSpace_1: SENT, ip_data, b'__!\\tEndOfStream\\t!__', ('CustStatic_1', 'ip_data')",
          "name": "engine.logs:ReadCsvProjectSpace_1",
          "pathname": "/usr/local/lib/python3.7/dist-packages/razor/flow/async_executors.py",
          "process": 7863,
          "processName": "ForkProcess-1:2",
          "thread": 140254031537984,
          "threadName": "MainThread"
         },
         {
          "asctime": "2021-03-23 07:58:45,964",
          "created": 1616486325.9643495,
          "extra": {},
          "filename": "async_executors.py",
          "funcName": "fill_atomic_inputs",
          "levelname": "INFO",
          "lineno": 250,
          "message": "ProdTypeTS_1: waiting for atomic input: source",
          "name": "engine.logs:ProdTypeTS_1",
          "pathname": "/usr/local/lib/python3.7/dist-packages/razor/flow/async_executors.py",
          "process": 7863,
          "processName": "ForkProcess-1:2",
          "thread": 140254031537984,
          "threadName": "MainThread"
         },
         {
          "asctime": "2021-03-23 07:58:45,976",
          "created": 1616486325.9763107,
          "extra": {},
          "filename": "async_executors.py",
          "funcName": "fill_atomic_inputs",
          "levelname": "INFO",
          "lineno": 250,
          "message": "TranCityTS_1: waiting for atomic input: config",
          "name": "engine.logs:TranCityTS_1",
          "pathname": "/usr/local/lib/python3.7/dist-packages/razor/flow/async_executors.py",
          "process": 7863,
          "processName": "ForkProcess-1:2",
          "thread": 140254031537984,
          "threadName": "MainThread"
         },
         {
          "asctime": "2021-03-23 07:58:45,732",
          "created": 1616486325.7324429,
          "extra": {},
          "filename": "async_executors.py",
          "funcName": "start_output_sender",
          "levelname": "DEBUG",
          "lineno": 379,
          "message": "ReadCsvProjectSpace_1: completed output: ('data', ('CustStatic_1', 'ip_data'))",
          "name": "engine.logs:ReadCsvProjectSpace_1",
          "pathname": "/usr/local/lib/python3.7/dist-packages/razor/flow/async_executors.py",
          "process": 7863,
          "processName": "ForkProcess-1:2",
          "thread": 140254031537984,
          "threadName": "MainThread"
         },
         {
          "asctime": "2021-03-23 07:58:45,964",
          "created": 1616486325.9643924,
          "extra": {},
          "filename": "async_executors.py",
          "funcName": "fill_atomic_inputs",
          "levelname": "DEBUG",
          "lineno": 253,
          "message": "ProdTypeTS_1: got atomic input: ",
          "name": "engine.logs:ProdTypeTS_1",
          "pathname": "/usr/local/lib/python3.7/dist-packages/razor/flow/async_executors.py",
          "process": 7863,
          "processName": "ForkProcess-1:2",
          "thread": 140254031537984,
          "threadName": "MainThread"
         },
         {
          "asctime": "2021-03-23 07:58:45,976",
          "created": 1616486325.9764183,
          "extra": {},
          "filename": "async_executors.py",
          "funcName": "fill_atomic_inputs",
          "levelname": "DEBUG",
          "lineno": 253,
          "message": "TranCityTS_1: got atomic input: {}",
          "name": "engine.logs:TranCityTS_1",
          "pathname": "/usr/local/lib/python3.7/dist-packages/razor/flow/async_executors.py",
          "process": 7863,
          "processName": "ForkProcess-1:2",
          "thread": 140254031537984,
          "threadName": "MainThread"
         },
         {
          "asctime": "2021-03-23 07:58:45,732",
          "created": 1616486325.7328837,
          "extra": {},
          "filename": "async_executors.py",
          "funcName": "start_input_receiver",
          "levelname": "DEBUG",
          "lineno": 173,
          "message": "ReadCsvProjectSpace_1: received cmd: start_sender, (), {'out_name': 'data', 'target': ('CustMercTS_1', 'ip_data'), 'out_addr': 'tcp://0.0.0.0:52989', 'in_memory': True}",
          "name": "engine.logs:ReadCsvProjectSpace_1",
          "pathname": "/usr/local/lib/python3.7/dist-packages/razor/flow/async_executors.py",
          "process": 7863,
          "processName": "ForkProcess-1:2",
          "thread": 140254031537984,
          "threadName": "MainThread"
         },
         {
          "asctime": "2021-03-23 07:58:45,964",
          "created": 1616486325.9644437,
          "extra": {},
          "filename": "async_executors.py",
          "funcName": "main",
          "levelname": "DEBUG",
          "lineno": 130,
          "message": "ProdTypeTS_1: triggering block run",
          "name": "engine.logs:ProdTypeTS_1",
          "pathname": "/usr/local/lib/python3.7/dist-packages/razor/flow/async_executors.py",
          "process": 7863,
          "processName": "ForkProcess-1:2",
          "thread": 140254031537984,
          "threadName": "MainThread"
         },
         {
          "asctime": "2021-03-23 07:58:45,976",
          "created": 1616486325.9764905,
          "extra": {},
          "filename": "async_executors.py",
          "funcName": "fill_atomic_inputs",
          "levelname": "INFO",
          "lineno": 250,
          "message": "TranCityTS_1: waiting for atomic input: source",
          "name": "engine.logs:TranCityTS_1",
          "pathname": "/usr/local/lib/python3.7/dist-packages/razor/flow/async_executors.py",
          "process": 7863,
          "processName": "ForkProcess-1:2",
          "thread": 140254031537984,
          "threadName": "MainThread"
         },
         {
          "asctime": "2021-03-23 07:58:45,976",
          "created": 1616486325.9765701,
          "extra": {},
          "filename": "async_executors.py",
          "funcName": "fill_atomic_inputs",
          "levelname": "DEBUG",
          "lineno": 253,
          "message": "TranCityTS_1: got atomic input: ",
          "name": "engine.logs:TranCityTS_1",
          "pathname": "/usr/local/lib/python3.7/dist-packages/razor/flow/async_executors.py",
          "process": 7863,
          "processName": "ForkProcess-1:2",
          "thread": 140254031537984,
          "threadName": "MainThread"
         },
         {
          "asctime": "2021-03-23 07:58:46,061",
          "created": 1616486326.0613086,
          "extra": {},
          "filename": "async_executors.py",
          "funcName": "fill_atomic_inputs",
          "levelname": "DEBUG",
          "lineno": 253,
          "message": "TranTypeTS_1: got atomic input: DataFrame[transaction_id: string, time: string, customer_name: string, card_number: string, card_type: string, physical_card_type: string, merchant_id: string, merchant_city: string, merchant_state: string, transaction_type: string, transaction_type_sub: string, amount: string, product_type: string, fraud_risk: string, One Time Heavy Loot Score: string, Drastic Transaction Change Pattern Score: string, Parasitic Fraud Score: string, Purchase Behavior Variation Score: string, Preferred Merchant Variation Score: string, Multiple Location Fraud Score: string, Fraudster Merchant Score: string, no_of_transactions_in_the_day: string, max_transaction_amount_in_the_day: string, avg_transaction_amount_in_the_day: string, no_of_transactions_in_the_month: string, max_transaction_amount_the_month: string, avg_transaction_amount_the_month: string, no_of_transactions_of_the_same_merchant_in_the_day: string, max_transactions_of_the_same_merchant_in_the_day: string, avg_transactions_of_the_same_merchant_in_the_day: string, no_of_transactions_of_the_same_merchant_in_the_month: string, max_transactions_of_the_same_merchant_in_the_month: string, avg_transactions_of_the_same_merchant_in_the_month: string]",
          "name": "engine.logs:TranTypeTS_1",
          "pathname": "/usr/local/lib/python3.7/dist-packages/razor/flow/async_executors.py",
          "process": 7863,
          "processName": "ForkProcess-1:2",
          "thread": 140254031537984,
          "threadName": "MainThread"
         },
         {
          "asctime": "2021-03-23 07:58:45,733",
          "created": 1616486325.7333755,
          "extra": {},
          "filename": "async_executors.py",
          "funcName": "start_output_sender",
          "levelname": "DEBUG",
          "lineno": 370,
          "message": "ReadCsvProjectSpace_1: got start_sender, data, ('CustMercTS_1', 'ip_data')",
          "name": "engine.logs:ReadCsvProjectSpace_1",
          "pathname": "/usr/local/lib/python3.7/dist-packages/razor/flow/async_executors.py",
          "process": 7863,
          "processName": "ForkProcess-1:2",
          "thread": 140254031537984,
          "threadName": "MainThread"
         },
         {
          "asctime": "2021-03-23 07:58:46,061",
          "created": 1616486326.061502,
          "extra": {},
          "filename": "async_executors.py",
          "funcName": "fill_atomic_inputs",
          "levelname": "INFO",
          "lineno": 250,
          "message": "TranTypeTS_1: waiting for atomic input: config",
          "name": "engine.logs:TranTypeTS_1",
          "pathname": "/usr/local/lib/python3.7/dist-packages/razor/flow/async_executors.py",
          "process": 7863,
          "processName": "ForkProcess-1:2",
          "thread": 140254031537984,
          "threadName": "MainThread"
         },
         {
          "asctime": "2021-03-23 07:58:45,976",
          "created": 1616486325.9766574,
          "extra": {},
          "filename": "async_executors.py",
          "funcName": "main",
          "levelname": "DEBUG",
          "lineno": 130,
          "message": "TranCityTS_1: triggering block run",
          "name": "engine.logs:TranCityTS_1",
          "pathname": "/usr/local/lib/python3.7/dist-packages/razor/flow/async_executors.py",
          "process": 7863,
          "processName": "ForkProcess-1:2",
          "thread": 140254031537984,
          "threadName": "MainThread"
         },
         {
          "asctime": "2021-03-23 07:58:45,734",
          "created": 1616486325.734352,
          "extra": {},
          "filename": "async_executors.py",
          "funcName": "start_output_sender",
          "levelname": "DEBUG",
          "lineno": 375,
          "message": "ReadCsvProjectSpace_1: SENT, ip_data, DataFrame[transaction_id: string, time: string, customer_name: string, card_number: string, card_type: string, physical_card_type: string, merchant_id: string, merchant_city: string, merchant_state: string, transaction_type: string, transaction_type_sub: string, amount: string, product_type: string, fraud_risk: string, One Time Heavy Loot Score: string, Drastic Transaction Change Pattern Score: string, Parasitic Fraud Score: string, Purchase Behavior Variation Score: string, Preferred Merchant Variation Score: string, Multiple Location Fraud Score: string, Fraudster Merchant Score: string, no_of_transactions_in_the_day: string, max_transaction_amount_in_the_day: string, avg_transaction_amount_in_the_day: string, no_of_transactions_in_the_month: string, max_transaction_amount_the_month: string, avg_transaction_amount_the_month: string, no_of_transactions_of_the_same_merchant_in_the_day: string, max_transactions_of_the_same_merchant_in_the_day: string, avg_transactions_of_the_same_merchant_in_the_day: string, no_of_transactions_of_the_same_merchant_in_the_month: string, max_transactions_of_the_same_merchant_in_the_month: string, avg_transactions_of_the_same_merchant_in_the_month: string], ('CustMercTS_1', 'ip_data')",
          "name": "engine.logs:ReadCsvProjectSpace_1",
          "pathname": "/usr/local/lib/python3.7/dist-packages/razor/flow/async_executors.py",
          "process": 7863,
          "processName": "ForkProcess-1:2",
          "thread": 140254031537984,
          "threadName": "MainThread"
         },
         {
          "asctime": "2021-03-23 07:58:46,061",
          "created": 1616486326.0615838,
          "extra": {},
          "filename": "async_executors.py",
          "funcName": "fill_atomic_inputs",
          "levelname": "DEBUG",
          "lineno": 253,
          "message": "TranTypeTS_1: got atomic input: {}",
          "name": "engine.logs:TranTypeTS_1",
          "pathname": "/usr/local/lib/python3.7/dist-packages/razor/flow/async_executors.py",
          "process": 7863,
          "processName": "ForkProcess-1:2",
          "thread": 140254031537984,
          "threadName": "MainThread"
         },
         {
          "asctime": "2021-03-23 07:58:45,734",
          "created": 1616486325.7345014,
          "extra": {},
          "filename": "async_executors.py",
          "funcName": "start_output_sender",
          "levelname": "DEBUG",
          "lineno": 375,
          "message": "ReadCsvProjectSpace_1: SENT, ip_data, b'__!\\tEndOfStream\\t!__', ('CustMercTS_1', 'ip_data')",
          "name": "engine.logs:ReadCsvProjectSpace_1",
          "pathname": "/usr/local/lib/python3.7/dist-packages/razor/flow/async_executors.py",
          "process": 7863,
          "processName": "ForkProcess-1:2",
          "thread": 140254031537984,
          "threadName": "MainThread"
         },
         {
          "asctime": "2021-03-23 07:58:46,061",
          "created": 1616486326.0616286,
          "extra": {},
          "filename": "async_executors.py",
          "funcName": "fill_atomic_inputs",
          "levelname": "INFO",
          "lineno": 250,
          "message": "TranTypeTS_1: waiting for atomic input: source",
          "name": "engine.logs:TranTypeTS_1",
          "pathname": "/usr/local/lib/python3.7/dist-packages/razor/flow/async_executors.py",
          "process": 7863,
          "processName": "ForkProcess-1:2",
          "thread": 140254031537984,
          "threadName": "MainThread"
         },
         {
          "asctime": "2021-03-23 07:58:45,734",
          "created": 1616486325.7345653,
          "extra": {},
          "filename": "async_executors.py",
          "funcName": "start_output_sender",
          "levelname": "DEBUG",
          "lineno": 379,
          "message": "ReadCsvProjectSpace_1: completed output: ('data', ('CustMercTS_1', 'ip_data'))",
          "name": "engine.logs:ReadCsvProjectSpace_1",
          "pathname": "/usr/local/lib/python3.7/dist-packages/razor/flow/async_executors.py",
          "process": 7863,
          "processName": "ForkProcess-1:2",
          "thread": 140254031537984,
          "threadName": "MainThread"
         },
         {
          "asctime": "2021-03-23 07:58:46,061",
          "created": 1616486326.0616724,
          "extra": {},
          "filename": "async_executors.py",
          "funcName": "fill_atomic_inputs",
          "levelname": "DEBUG",
          "lineno": 253,
          "message": "TranTypeTS_1: got atomic input: ",
          "name": "engine.logs:TranTypeTS_1",
          "pathname": "/usr/local/lib/python3.7/dist-packages/razor/flow/async_executors.py",
          "process": 7863,
          "processName": "ForkProcess-1:2",
          "thread": 140254031537984,
          "threadName": "MainThread"
         },
         {
          "asctime": "2021-03-23 07:58:45,734",
          "created": 1616486325.734654,
          "extra": {},
          "filename": "async_executors.py",
          "funcName": "start_input_receiver",
          "levelname": "DEBUG",
          "lineno": 173,
          "message": "ReadCsvProjectSpace_1: received cmd: start_sender, (), {'out_name': 'data', 'target': ('ProdTypeTS_1', 'ip_data'), 'out_addr': 'tcp://0.0.0.0:63201', 'in_memory': True}",
          "name": "engine.logs:ReadCsvProjectSpace_1",
          "pathname": "/usr/local/lib/python3.7/dist-packages/razor/flow/async_executors.py",
          "process": 7863,
          "processName": "ForkProcess-1:2",
          "thread": 140254031537984,
          "threadName": "MainThread"
         },
         {
          "asctime": "2021-03-23 07:58:46,061",
          "created": 1616486326.061728,
          "extra": {},
          "filename": "async_executors.py",
          "funcName": "main",
          "levelname": "DEBUG",
          "lineno": 130,
          "message": "TranTypeTS_1: triggering block run",
          "name": "engine.logs:TranTypeTS_1",
          "pathname": "/usr/local/lib/python3.7/dist-packages/razor/flow/async_executors.py",
          "process": 7863,
          "processName": "ForkProcess-1:2",
          "thread": 140254031537984,
          "threadName": "MainThread"
         },
         {
          "asctime": "2021-03-23 07:58:45,944",
          "created": 1616486325.9440985,
          "extra": {},
          "filename": "async_executors.py",
          "funcName": "start_output_sender",
          "levelname": "DEBUG",
          "lineno": 370,
          "message": "ReadCsvProjectSpace_1: got start_sender, data, ('ProdTypeTS_1', 'ip_data')",
          "name": "engine.logs:ReadCsvProjectSpace_1",
          "pathname": "/usr/local/lib/python3.7/dist-packages/razor/flow/async_executors.py",
          "process": 7863,
          "processName": "ForkProcess-1:2",
          "thread": 140254031537984,
          "threadName": "MainThread"
         },
         {
          "asctime": "2021-03-23 07:58:45,949",
          "created": 1616486325.9496622,
          "extra": {},
          "filename": "async_executors.py",
          "funcName": "start_output_sender",
          "levelname": "DEBUG",
          "lineno": 375,
          "message": "ReadCsvProjectSpace_1: SENT, ip_data, DataFrame[transaction_id: string, time: string, customer_name: string, card_number: string, card_type: string, physical_card_type: string, merchant_id: string, merchant_city: string, merchant_state: string, transaction_type: string, transaction_type_sub: string, amount: string, product_type: string, fraud_risk: string, One Time Heavy Loot Score: string, Drastic Transaction Change Pattern Score: string, Parasitic Fraud Score: string, Purchase Behavior Variation Score: string, Preferred Merchant Variation Score: string, Multiple Location Fraud Score: string, Fraudster Merchant Score: string, no_of_transactions_in_the_day: string, max_transaction_amount_in_the_day: string, avg_transaction_amount_in_the_day: string, no_of_transactions_in_the_month: string, max_transaction_amount_the_month: string, avg_transaction_amount_the_month: string, no_of_transactions_of_the_same_merchant_in_the_day: string, max_transactions_of_the_same_merchant_in_the_day: string, avg_transactions_of_the_same_merchant_in_the_day: string, no_of_transactions_of_the_same_merchant_in_the_month: string, max_transactions_of_the_same_merchant_in_the_month: string, avg_transactions_of_the_same_merchant_in_the_month: string], ('ProdTypeTS_1', 'ip_data')",
          "name": "engine.logs:ReadCsvProjectSpace_1",
          "pathname": "/usr/local/lib/python3.7/dist-packages/razor/flow/async_executors.py",
          "process": 7863,
          "processName": "ForkProcess-1:2",
          "thread": 140254031537984,
          "threadName": "MainThread"
         },
         {
          "asctime": "2021-03-23 07:58:45,949",
          "created": 1616486325.949877,
          "extra": {},
          "filename": "async_executors.py",
          "funcName": "start_output_sender",
          "levelname": "DEBUG",
          "lineno": 375,
          "message": "ReadCsvProjectSpace_1: SENT, ip_data, b'__!\\tEndOfStream\\t!__', ('ProdTypeTS_1', 'ip_data')",
          "name": "engine.logs:ReadCsvProjectSpace_1",
          "pathname": "/usr/local/lib/python3.7/dist-packages/razor/flow/async_executors.py",
          "process": 7863,
          "processName": "ForkProcess-1:2",
          "thread": 140254031537984,
          "threadName": "MainThread"
         },
         {
          "asctime": "2021-03-23 07:58:45,949",
          "created": 1616486325.9499528,
          "extra": {},
          "filename": "async_executors.py",
          "funcName": "start_output_sender",
          "levelname": "DEBUG",
          "lineno": 379,
          "message": "ReadCsvProjectSpace_1: completed output: ('data', ('ProdTypeTS_1', 'ip_data'))",
          "name": "engine.logs:ReadCsvProjectSpace_1",
          "pathname": "/usr/local/lib/python3.7/dist-packages/razor/flow/async_executors.py",
          "process": 7863,
          "processName": "ForkProcess-1:2",
          "thread": 140254031537984,
          "threadName": "MainThread"
         },
         {
          "asctime": "2021-03-23 07:58:45,950",
          "created": 1616486325.9500859,
          "extra": {},
          "filename": "async_executors.py",
          "funcName": "start_input_receiver",
          "levelname": "DEBUG",
          "lineno": 173,
          "message": "ReadCsvProjectSpace_1: received cmd: start_sender, (), {'out_name': 'data', 'target': ('TranCityTS_1', 'ip_data'), 'out_addr': 'tcp://0.0.0.0:61286', 'in_memory': True}",
          "name": "engine.logs:ReadCsvProjectSpace_1",
          "pathname": "/usr/local/lib/python3.7/dist-packages/razor/flow/async_executors.py",
          "process": 7863,
          "processName": "ForkProcess-1:2",
          "thread": 140254031537984,
          "threadName": "MainThread"
         },
         {
          "asctime": "2021-03-23 07:58:45,954",
          "created": 1616486325.9547575,
          "extra": {},
          "filename": "async_executors.py",
          "funcName": "start_output_sender",
          "levelname": "DEBUG",
          "lineno": 370,
          "message": "ReadCsvProjectSpace_1: got start_sender, data, ('TranCityTS_1', 'ip_data')",
          "name": "engine.logs:ReadCsvProjectSpace_1",
          "pathname": "/usr/local/lib/python3.7/dist-packages/razor/flow/async_executors.py",
          "process": 7863,
          "processName": "ForkProcess-1:2",
          "thread": 140254031537984,
          "threadName": "MainThread"
         },
         {
          "asctime": "2021-03-23 07:58:45,960",
          "created": 1616486325.9608126,
          "extra": {},
          "filename": "async_executors.py",
          "funcName": "start_output_sender",
          "levelname": "DEBUG",
          "lineno": 375,
          "message": "ReadCsvProjectSpace_1: SENT, ip_data, DataFrame[transaction_id: string, time: string, customer_name: string, card_number: string, card_type: string, physical_card_type: string, merchant_id: string, merchant_city: string, merchant_state: string, transaction_type: string, transaction_type_sub: string, amount: string, product_type: string, fraud_risk: string, One Time Heavy Loot Score: string, Drastic Transaction Change Pattern Score: string, Parasitic Fraud Score: string, Purchase Behavior Variation Score: string, Preferred Merchant Variation Score: string, Multiple Location Fraud Score: string, Fraudster Merchant Score: string, no_of_transactions_in_the_day: string, max_transaction_amount_in_the_day: string, avg_transaction_amount_in_the_day: string, no_of_transactions_in_the_month: string, max_transaction_amount_the_month: string, avg_transaction_amount_the_month: string, no_of_transactions_of_the_same_merchant_in_the_day: string, max_transactions_of_the_same_merchant_in_the_day: string, avg_transactions_of_the_same_merchant_in_the_day: string, no_of_transactions_of_the_same_merchant_in_the_month: string, max_transactions_of_the_same_merchant_in_the_month: string, avg_transactions_of_the_same_merchant_in_the_month: string], ('TranCityTS_1', 'ip_data')",
          "name": "engine.logs:ReadCsvProjectSpace_1",
          "pathname": "/usr/local/lib/python3.7/dist-packages/razor/flow/async_executors.py",
          "process": 7863,
          "processName": "ForkProcess-1:2",
          "thread": 140254031537984,
          "threadName": "MainThread"
         },
         {
          "asctime": "2021-03-23 07:58:45,961",
          "created": 1616486325.961167,
          "extra": {},
          "filename": "async_executors.py",
          "funcName": "start_output_sender",
          "levelname": "DEBUG",
          "lineno": 375,
          "message": "ReadCsvProjectSpace_1: SENT, ip_data, b'__!\\tEndOfStream\\t!__', ('TranCityTS_1', 'ip_data')",
          "name": "engine.logs:ReadCsvProjectSpace_1",
          "pathname": "/usr/local/lib/python3.7/dist-packages/razor/flow/async_executors.py",
          "process": 7863,
          "processName": "ForkProcess-1:2",
          "thread": 140254031537984,
          "threadName": "MainThread"
         },
         {
          "asctime": "2021-03-23 07:58:45,961",
          "created": 1616486325.9612505,
          "extra": {},
          "filename": "async_executors.py",
          "funcName": "start_output_sender",
          "levelname": "DEBUG",
          "lineno": 379,
          "message": "ReadCsvProjectSpace_1: completed output: ('data', ('TranCityTS_1', 'ip_data'))",
          "name": "engine.logs:ReadCsvProjectSpace_1",
          "pathname": "/usr/local/lib/python3.7/dist-packages/razor/flow/async_executors.py",
          "process": 7863,
          "processName": "ForkProcess-1:2",
          "thread": 140254031537984,
          "threadName": "MainThread"
         },
         {
          "asctime": "2021-03-23 07:58:45,961",
          "created": 1616486325.961355,
          "extra": {},
          "filename": "async_executors.py",
          "funcName": "start_input_receiver",
          "levelname": "DEBUG",
          "lineno": 173,
          "message": "ReadCsvProjectSpace_1: received cmd: start_sender, (), {'out_name': 'data', 'target': ('TranTypeTS_1', 'ip_data'), 'out_addr': 'tcp://0.0.0.0:59435', 'in_memory': True}",
          "name": "engine.logs:ReadCsvProjectSpace_1",
          "pathname": "/usr/local/lib/python3.7/dist-packages/razor/flow/async_executors.py",
          "process": 7863,
          "processName": "ForkProcess-1:2",
          "thread": 140254031537984,
          "threadName": "MainThread"
         },
         {
          "asctime": "2021-03-23 07:58:45,967",
          "created": 1616486325.9671762,
          "extra": {},
          "filename": "async_executors.py",
          "funcName": "start_output_sender",
          "levelname": "DEBUG",
          "lineno": 370,
          "message": "ReadCsvProjectSpace_1: got start_sender, data, ('TranTypeTS_1', 'ip_data')",
          "name": "engine.logs:ReadCsvProjectSpace_1",
          "pathname": "/usr/local/lib/python3.7/dist-packages/razor/flow/async_executors.py",
          "process": 7863,
          "processName": "ForkProcess-1:2",
          "thread": 140254031537984,
          "threadName": "MainThread"
         },
         {
          "asctime": "2021-03-23 07:58:45,973",
          "created": 1616486325.9732006,
          "extra": {},
          "filename": "async_executors.py",
          "funcName": "start_output_sender",
          "levelname": "DEBUG",
          "lineno": 375,
          "message": "ReadCsvProjectSpace_1: SENT, ip_data, DataFrame[transaction_id: string, time: string, customer_name: string, card_number: string, card_type: string, physical_card_type: string, merchant_id: string, merchant_city: string, merchant_state: string, transaction_type: string, transaction_type_sub: string, amount: string, product_type: string, fraud_risk: string, One Time Heavy Loot Score: string, Drastic Transaction Change Pattern Score: string, Parasitic Fraud Score: string, Purchase Behavior Variation Score: string, Preferred Merchant Variation Score: string, Multiple Location Fraud Score: string, Fraudster Merchant Score: string, no_of_transactions_in_the_day: string, max_transaction_amount_in_the_day: string, avg_transaction_amount_in_the_day: string, no_of_transactions_in_the_month: string, max_transaction_amount_the_month: string, avg_transaction_amount_the_month: string, no_of_transactions_of_the_same_merchant_in_the_day: string, max_transactions_of_the_same_merchant_in_the_day: string, avg_transactions_of_the_same_merchant_in_the_day: string, no_of_transactions_of_the_same_merchant_in_the_month: string, max_transactions_of_the_same_merchant_in_the_month: string, avg_transactions_of_the_same_merchant_in_the_month: string], ('TranTypeTS_1', 'ip_data')",
          "name": "engine.logs:ReadCsvProjectSpace_1",
          "pathname": "/usr/local/lib/python3.7/dist-packages/razor/flow/async_executors.py",
          "process": 7863,
          "processName": "ForkProcess-1:2",
          "thread": 140254031537984,
          "threadName": "MainThread"
         },
         {
          "asctime": "2021-03-23 07:58:45,973",
          "created": 1616486325.9734724,
          "extra": {},
          "filename": "async_executors.py",
          "funcName": "start_output_sender",
          "levelname": "DEBUG",
          "lineno": 375,
          "message": "ReadCsvProjectSpace_1: SENT, ip_data, b'__!\\tEndOfStream\\t!__', ('TranTypeTS_1', 'ip_data')",
          "name": "engine.logs:ReadCsvProjectSpace_1",
          "pathname": "/usr/local/lib/python3.7/dist-packages/razor/flow/async_executors.py",
          "process": 7863,
          "processName": "ForkProcess-1:2",
          "thread": 140254031537984,
          "threadName": "MainThread"
         },
         {
          "asctime": "2021-03-23 07:58:45,973",
          "created": 1616486325.9735827,
          "extra": {},
          "filename": "async_executors.py",
          "funcName": "start_output_sender",
          "levelname": "DEBUG",
          "lineno": 379,
          "message": "ReadCsvProjectSpace_1: completed output: ('data', ('TranTypeTS_1', 'ip_data'))",
          "name": "engine.logs:ReadCsvProjectSpace_1",
          "pathname": "/usr/local/lib/python3.7/dist-packages/razor/flow/async_executors.py",
          "process": 7863,
          "processName": "ForkProcess-1:2",
          "thread": 140254031537984,
          "threadName": "MainThread"
         },
         {
          "asctime": "2021-03-23 07:58:46,250",
          "created": 1616486326.2502437,
          "extra": {},
          "filename": "async_executors.py",
          "funcName": "start_input_receiver",
          "levelname": "DEBUG",
          "lineno": 173,
          "message": "ReadCsvProjectSpace_1: received cmd: terminate, (), {}",
          "name": "engine.logs:ReadCsvProjectSpace_1",
          "pathname": "/usr/local/lib/python3.7/dist-packages/razor/flow/async_executors.py",
          "process": 7863,
          "processName": "ForkProcess-1:2",
          "thread": 140254031537984,
          "threadName": "MainThread"
         },
         {
          "asctime": "2021-03-23 07:58:50,252",
          "created": 1616486330.2522244,
          "exc_info": null,
          "extra": {},
          "filename": null,
          "full_message": null,
          "funcName": null,
          "levelname": "STDOUT",
          "lineno": null,
          "message": "+-------------+--------------------+------------------+\n|customer_name|         card_number|         card_type|\n+-------------+--------------------+------------------+\n|Patrick Duran|47e2fcaf-2dc4-4fd...|current_debit_card|\n|Patrick Duran|47e2fcaf-2dc4-4fd...|current_debit_card|\n|Patrick Duran|47e2fcaf-2dc4-4fd...|current_debit_card|\n|Patrick Duran|47e2fcaf-2dc4-4fd...|current_debit_card|\n|Patrick Duran|47e2fcaf-2dc4-4fd...|current_debit_card|\n|Patrick Duran|47e2fcaf-2dc4-4fd...|current_debit_card|\n|Patrick Duran|47e2fcaf-2dc4-4fd...|current_debit_card|\n|Patrick Duran|47e2fcaf-2dc4-4fd...|current_debit_card|\n|Patrick Duran|47e2fcaf-2dc4-4fd...|current_debit_card|\n|Patrick Duran|47e2fcaf-2dc4-4fd...|current_debit_card|\n|Patrick Duran|47e2fcaf-2dc4-4fd...|current_debit_card|\n|Patrick Duran|47e2fcaf-2dc4-4fd...|current_debit_card|\n|Patrick Duran|47e2fcaf-2dc4-4fd...|current_debit_card|\n|Patrick Duran|47e2fcaf-2dc4-4fd...|current_debit_card|\n|Patrick Duran|47e2fcaf-2dc4-4fd...|current_debit_card|\n|Patrick Duran|47e2fcaf-2dc4-4fd...|current_debit_card|\n|Patrick Duran|47e2fcaf-2dc4-4fd...|current_debit_card|\n|Patrick Duran|47e2fcaf-2dc4-4fd...|current_debit_card|\n|Patrick Duran|47e2fcaf-2dc4-4fd...|current_debit_card|\n|Patrick Duran|47e2fcaf-2dc4-4fd...|current_debit_card|\n+-------------+--------------------+------------------+\nonly showing top 20 rows\n\n",
          "name": "block.stdout:CustStatic_1",
          "pathname": null,
          "process": null,
          "processName": null,
          "thread": null,
          "threadName": null
         },
         {
          "asctime": "2021-03-23 07:58:50,369",
          "created": 1616486330.3696637,
          "extra": {},
          "filename": "async_executors.py",
          "funcName": "distribute_output_queue",
          "levelname": "DEBUG",
          "lineno": 308,
          "message": "CustStatic_1: ---- dist output: DataFrame[customer_name: string, card_number: string, card_type: string] -> ('DropDuplicates_1', 'ip_data')",
          "name": "engine.logs:CustStatic_1",
          "pathname": "/usr/local/lib/python3.7/dist-packages/razor/flow/async_executors.py",
          "process": 7863,
          "processName": "ForkProcess-1:2",
          "thread": 140254031537984,
          "threadName": "MainThread"
         },
         {
          "asctime": "2021-03-23 07:58:50,370",
          "created": 1616486330.370111,
          "extra": {},
          "filename": "async_executors.py",
          "funcName": "main",
          "levelname": "DEBUG",
          "lineno": 147,
          "message": "CustStatic_1: block thread completed",
          "name": "engine.logs:CustStatic_1",
          "pathname": "/usr/local/lib/python3.7/dist-packages/razor/flow/async_executors.py",
          "process": 7863,
          "processName": "ForkProcess-1:2",
          "thread": 140254031537984,
          "threadName": "MainThread"
         },
         {
          "asctime": "2021-03-23 07:58:50,370",
          "created": 1616486330.3701987,
          "extra": {},
          "filename": "async_executors.py",
          "funcName": "main",
          "levelname": "DEBUG",
          "lineno": 149,
          "message": "CustStatic_1: block execution complete",
          "name": "engine.logs:CustStatic_1",
          "pathname": "/usr/local/lib/python3.7/dist-packages/razor/flow/async_executors.py",
          "process": 7863,
          "processName": "ForkProcess-1:2",
          "thread": 140254031537984,
          "threadName": "MainThread"
         },
         {
          "asctime": "2021-03-23 07:58:50,459",
          "created": 1616486330.459865,
          "extra": {},
          "filename": "async_executors.py",
          "funcName": "distribute_output_queue",
          "levelname": "DEBUG",
          "lineno": 308,
          "message": "CustStatic_1: ---- dist output: b'__!\\tEndOfStream\\t!__' -> ('DropDuplicates_1', 'ip_data')",
          "name": "engine.logs:CustStatic_1",
          "pathname": "/usr/local/lib/python3.7/dist-packages/razor/flow/async_executors.py",
          "process": 7863,
          "processName": "ForkProcess-1:2",
          "thread": 140254031537984,
          "threadName": "MainThread"
         },
         {
          "asctime": "2021-03-23 07:58:50,464",
          "created": 1616486330.4641097,
          "extra": {},
          "filename": "async_executors.py",
          "funcName": "start_input_receiver",
          "levelname": "DEBUG",
          "lineno": 173,
          "message": "CustStatic_1: received cmd: start_sender, (), {'out_name': 'customer_static', 'target': ('DropDuplicates_1', 'ip_data'), 'out_addr': 'tcp://0.0.0.0:59125', 'in_memory': True}",
          "name": "engine.logs:CustStatic_1",
          "pathname": "/usr/local/lib/python3.7/dist-packages/razor/flow/async_executors.py",
          "process": 7863,
          "processName": "ForkProcess-1:2",
          "thread": 140254031537984,
          "threadName": "MainThread"
         },
         {
          "asctime": "2021-03-23 07:58:50,464",
          "created": 1616486330.4644718,
          "extra": {},
          "filename": "async_executors.py",
          "funcName": "start_output_sender",
          "levelname": "DEBUG",
          "lineno": 370,
          "message": "CustStatic_1: got start_sender, customer_static, ('DropDuplicates_1', 'ip_data')",
          "name": "engine.logs:CustStatic_1",
          "pathname": "/usr/local/lib/python3.7/dist-packages/razor/flow/async_executors.py",
          "process": 7863,
          "processName": "ForkProcess-1:2",
          "thread": 140254031537984,
          "threadName": "MainThread"
         },
         {
          "asctime": "2021-03-23 07:58:50,550",
          "created": 1616486330.5502083,
          "extra": {},
          "filename": "async_executors.py",
          "funcName": "fill_atomic_inputs",
          "levelname": "DEBUG",
          "lineno": 253,
          "message": "DropDuplicates_1: got atomic input: DataFrame[customer_name: string, card_number: string, card_type: string]",
          "name": "engine.logs:DropDuplicates_1",
          "pathname": "/usr/local/lib/python3.7/dist-packages/razor/flow/async_executors.py",
          "process": 7863,
          "processName": "ForkProcess-1:2",
          "thread": 140254031537984,
          "threadName": "MainThread"
         },
         {
          "asctime": "2021-03-23 07:58:50,465",
          "created": 1616486330.46524,
          "extra": {},
          "filename": "async_executors.py",
          "funcName": "start_output_sender",
          "levelname": "DEBUG",
          "lineno": 375,
          "message": "CustStatic_1: SENT, ip_data, DataFrame[customer_name: string, card_number: string, card_type: string], ('DropDuplicates_1', 'ip_data')",
          "name": "engine.logs:CustStatic_1",
          "pathname": "/usr/local/lib/python3.7/dist-packages/razor/flow/async_executors.py",
          "process": 7863,
          "processName": "ForkProcess-1:2",
          "thread": 140254031537984,
          "threadName": "MainThread"
         },
         {
          "asctime": "2021-03-23 07:58:50,550",
          "created": 1616486330.550464,
          "extra": {},
          "filename": "async_executors.py",
          "funcName": "fill_atomic_inputs",
          "levelname": "INFO",
          "lineno": 250,
          "message": "DropDuplicates_1: waiting for atomic input: config",
          "name": "engine.logs:DropDuplicates_1",
          "pathname": "/usr/local/lib/python3.7/dist-packages/razor/flow/async_executors.py",
          "process": 7863,
          "processName": "ForkProcess-1:2",
          "thread": 140254031537984,
          "threadName": "MainThread"
         },
         {
          "asctime": "2021-03-23 07:58:50,465",
          "created": 1616486330.465445,
          "extra": {},
          "filename": "async_executors.py",
          "funcName": "start_output_sender",
          "levelname": "DEBUG",
          "lineno": 375,
          "message": "CustStatic_1: SENT, ip_data, b'__!\\tEndOfStream\\t!__', ('DropDuplicates_1', 'ip_data')",
          "name": "engine.logs:CustStatic_1",
          "pathname": "/usr/local/lib/python3.7/dist-packages/razor/flow/async_executors.py",
          "process": 7863,
          "processName": "ForkProcess-1:2",
          "thread": 140254031537984,
          "threadName": "MainThread"
         },
         {
          "asctime": "2021-03-23 07:58:50,550",
          "created": 1616486330.5506096,
          "extra": {},
          "filename": "async_executors.py",
          "funcName": "fill_atomic_inputs",
          "levelname": "DEBUG",
          "lineno": 253,
          "message": "DropDuplicates_1: got atomic input: {}",
          "name": "engine.logs:DropDuplicates_1",
          "pathname": "/usr/local/lib/python3.7/dist-packages/razor/flow/async_executors.py",
          "process": 7863,
          "processName": "ForkProcess-1:2",
          "thread": 140254031537984,
          "threadName": "MainThread"
         },
         {
          "asctime": "2021-03-23 07:58:50,465",
          "created": 1616486330.4655428,
          "extra": {},
          "filename": "async_executors.py",
          "funcName": "start_output_sender",
          "levelname": "DEBUG",
          "lineno": 379,
          "message": "CustStatic_1: completed output: ('customer_static', ('DropDuplicates_1', 'ip_data'))",
          "name": "engine.logs:CustStatic_1",
          "pathname": "/usr/local/lib/python3.7/dist-packages/razor/flow/async_executors.py",
          "process": 7863,
          "processName": "ForkProcess-1:2",
          "thread": 140254031537984,
          "threadName": "MainThread"
         },
         {
          "asctime": "2021-03-23 07:58:50,550",
          "created": 1616486330.550694,
          "extra": {},
          "filename": "async_executors.py",
          "funcName": "fill_atomic_inputs",
          "levelname": "INFO",
          "lineno": 250,
          "message": "DropDuplicates_1: waiting for atomic input: source",
          "name": "engine.logs:DropDuplicates_1",
          "pathname": "/usr/local/lib/python3.7/dist-packages/razor/flow/async_executors.py",
          "process": 7863,
          "processName": "ForkProcess-1:2",
          "thread": 140254031537984,
          "threadName": "MainThread"
         },
         {
          "asctime": "2021-03-23 07:58:50,554",
          "created": 1616486330.5549142,
          "extra": {},
          "filename": "async_executors.py",
          "funcName": "start_input_receiver",
          "levelname": "DEBUG",
          "lineno": 173,
          "message": "CustStatic_1: received cmd: terminate, (), {}",
          "name": "engine.logs:CustStatic_1",
          "pathname": "/usr/local/lib/python3.7/dist-packages/razor/flow/async_executors.py",
          "process": 7863,
          "processName": "ForkProcess-1:2",
          "thread": 140254031537984,
          "threadName": "MainThread"
         },
         {
          "asctime": "2021-03-23 07:58:50,550",
          "created": 1616486330.5508063,
          "extra": {},
          "filename": "async_executors.py",
          "funcName": "fill_atomic_inputs",
          "levelname": "DEBUG",
          "lineno": 253,
          "message": "DropDuplicates_1: got atomic input: ",
          "name": "engine.logs:DropDuplicates_1",
          "pathname": "/usr/local/lib/python3.7/dist-packages/razor/flow/async_executors.py",
          "process": 7863,
          "processName": "ForkProcess-1:2",
          "thread": 140254031537984,
          "threadName": "MainThread"
         },
         {
          "asctime": "2021-03-23 07:58:50,550",
          "created": 1616486330.550952,
          "extra": {},
          "filename": "async_executors.py",
          "funcName": "main",
          "levelname": "DEBUG",
          "lineno": 130,
          "message": "DropDuplicates_1: triggering block run",
          "name": "engine.logs:DropDuplicates_1",
          "pathname": "/usr/local/lib/python3.7/dist-packages/razor/flow/async_executors.py",
          "process": 7863,
          "processName": "ForkProcess-1:2",
          "thread": 140254031537984,
          "threadName": "MainThread"
         },
         {
          "asctime": "2021-03-23 07:58:50,558",
          "created": 1616486330.558833,
          "extra": {},
          "filename": "async_executors.py",
          "funcName": "main",
          "levelname": "DEBUG",
          "lineno": 147,
          "message": "DropDuplicates_1: block thread completed",
          "name": "engine.logs:DropDuplicates_1",
          "pathname": "/usr/local/lib/python3.7/dist-packages/razor/flow/async_executors.py",
          "process": 7863,
          "processName": "ForkProcess-1:2",
          "thread": 140254031537984,
          "threadName": "MainThread"
         },
         {
          "asctime": "2021-03-23 07:58:50,559",
          "created": 1616486330.5593145,
          "extra": {},
          "filename": "async_executors.py",
          "funcName": "main",
          "levelname": "DEBUG",
          "lineno": 149,
          "message": "DropDuplicates_1: block execution complete",
          "name": "engine.logs:DropDuplicates_1",
          "pathname": "/usr/local/lib/python3.7/dist-packages/razor/flow/async_executors.py",
          "process": 7863,
          "processName": "ForkProcess-1:2",
          "thread": 140254031537984,
          "threadName": "MainThread"
         },
         {
          "asctime": "2021-03-23 07:58:50,660",
          "created": 1616486330.6604218,
          "extra": {},
          "filename": "async_executors.py",
          "funcName": "start_input_receiver",
          "levelname": "DEBUG",
          "lineno": 173,
          "message": "DropDuplicates_1: received cmd: terminate, (), {}",
          "name": "engine.logs:DropDuplicates_1",
          "pathname": "/usr/local/lib/python3.7/dist-packages/razor/flow/async_executors.py",
          "process": 7863,
          "processName": "ForkProcess-1:2",
          "thread": 140254031537984,
          "threadName": "MainThread"
         },
         {
          "asctime": "2021-03-23 07:58:52,662",
          "created": 1616486332.6625211,
          "extra": {},
          "filename": "async_executors.py",
          "funcName": "main",
          "levelname": "DEBUG",
          "lineno": 147,
          "message": "TranCityTS_1: block thread completed",
          "name": "engine.logs:TranCityTS_1",
          "pathname": "/usr/local/lib/python3.7/dist-packages/razor/flow/async_executors.py",
          "process": 7863,
          "processName": "ForkProcess-1:2",
          "thread": 140254031537984,
          "threadName": "MainThread"
         },
         {
          "asctime": "2021-03-23 07:58:52,662",
          "created": 1616486332.6626832,
          "extra": {},
          "filename": "async_executors.py",
          "funcName": "main",
          "levelname": "DEBUG",
          "lineno": 149,
          "message": "TranCityTS_1: block execution complete",
          "name": "engine.logs:TranCityTS_1",
          "pathname": "/usr/local/lib/python3.7/dist-packages/razor/flow/async_executors.py",
          "process": 7863,
          "processName": "ForkProcess-1:2",
          "thread": 140254031537984,
          "threadName": "MainThread"
         },
         {
          "asctime": "2021-03-23 07:58:53,670",
          "created": 1616486333.6705368,
          "extra": {},
          "filename": "async_executors.py",
          "funcName": "start_input_receiver",
          "levelname": "DEBUG",
          "lineno": 173,
          "message": "TranCityTS_1: received cmd: terminate, (), {}",
          "name": "engine.logs:TranCityTS_1",
          "pathname": "/usr/local/lib/python3.7/dist-packages/razor/flow/async_executors.py",
          "process": 7863,
          "processName": "ForkProcess-1:2",
          "thread": 140254031537984,
          "threadName": "MainThread"
         },
         {
          "asctime": "2021-03-23 07:59:08,457",
          "created": 1616486348.4578307,
          "extra": {},
          "filename": "async_executors.py",
          "funcName": "main",
          "levelname": "DEBUG",
          "lineno": 147,
          "message": "ProdTypeTS_1: block thread completed",
          "name": "engine.logs:ProdTypeTS_1",
          "pathname": "/usr/local/lib/python3.7/dist-packages/razor/flow/async_executors.py",
          "process": 7863,
          "processName": "ForkProcess-1:2",
          "thread": 140254031537984,
          "threadName": "MainThread"
         },
         {
          "asctime": "2021-03-23 07:59:08,458",
          "created": 1616486348.4580812,
          "extra": {},
          "filename": "async_executors.py",
          "funcName": "main",
          "levelname": "DEBUG",
          "lineno": 149,
          "message": "ProdTypeTS_1: block execution complete",
          "name": "engine.logs:ProdTypeTS_1",
          "pathname": "/usr/local/lib/python3.7/dist-packages/razor/flow/async_executors.py",
          "process": 7863,
          "processName": "ForkProcess-1:2",
          "thread": 140254031537984,
          "threadName": "MainThread"
         },
         {
          "asctime": "2021-03-23 07:59:08,464",
          "created": 1616486348.4640856,
          "extra": {},
          "filename": "async_executors.py",
          "funcName": "start_input_receiver",
          "levelname": "DEBUG",
          "lineno": 173,
          "message": "ProdTypeTS_1: received cmd: terminate, (), {}",
          "name": "engine.logs:ProdTypeTS_1",
          "pathname": "/usr/local/lib/python3.7/dist-packages/razor/flow/async_executors.py",
          "process": 7863,
          "processName": "ForkProcess-1:2",
          "thread": 140254031537984,
          "threadName": "MainThread"
         },
         {
          "asctime": "2021-03-23 07:59:22,364",
          "created": 1616486362.3641007,
          "exc_info": null,
          "extra": {},
          "filename": null,
          "full_message": null,
          "funcName": null,
          "levelname": "STDOUT",
          "lineno": null,
          "message": "2202\n",
          "name": "block.stdout:CustMercTS_1",
          "pathname": null,
          "process": null,
          "processName": null,
          "thread": null,
          "threadName": null
         },
         {
          "asctime": "2021-03-23 07:59:25,959",
          "created": 1616486365.959201,
          "extra": {},
          "filename": "async_executors.py",
          "funcName": "main",
          "levelname": "DEBUG",
          "lineno": 147,
          "message": "TranTypeTS_1: block thread completed",
          "name": "engine.logs:TranTypeTS_1",
          "pathname": "/usr/local/lib/python3.7/dist-packages/razor/flow/async_executors.py",
          "process": 7863,
          "processName": "ForkProcess-1:2",
          "thread": 140254031537984,
          "threadName": "MainThread"
         },
         {
          "asctime": "2021-03-23 07:59:25,959",
          "created": 1616486365.9593492,
          "extra": {},
          "filename": "async_executors.py",
          "funcName": "main",
          "levelname": "DEBUG",
          "lineno": 149,
          "message": "TranTypeTS_1: block execution complete",
          "name": "engine.logs:TranTypeTS_1",
          "pathname": "/usr/local/lib/python3.7/dist-packages/razor/flow/async_executors.py",
          "process": 7863,
          "processName": "ForkProcess-1:2",
          "thread": 140254031537984,
          "threadName": "MainThread"
         },
         {
          "asctime": "2021-03-23 07:59:26,073",
          "created": 1616486366.073743,
          "extra": {},
          "filename": "async_executors.py",
          "funcName": "start_input_receiver",
          "levelname": "DEBUG",
          "lineno": 173,
          "message": "TranTypeTS_1: received cmd: terminate, (), {}",
          "name": "engine.logs:TranTypeTS_1",
          "pathname": "/usr/local/lib/python3.7/dist-packages/razor/flow/async_executors.py",
          "process": 7863,
          "processName": "ForkProcess-1:2",
          "thread": 140254031537984,
          "threadName": "MainThread"
         },
         {
          "asctime": "2021-03-23 07:59:40,148",
          "created": 1616486380.1485832,
          "extra": {},
          "filename": "async_executors.py",
          "funcName": "main",
          "levelname": "DEBUG",
          "lineno": 147,
          "message": "CustMercTS_1: block thread completed",
          "name": "engine.logs:CustMercTS_1",
          "pathname": "/usr/local/lib/python3.7/dist-packages/razor/flow/async_executors.py",
          "process": 7863,
          "processName": "ForkProcess-1:2",
          "thread": 140254031537984,
          "threadName": "MainThread"
         },
         {
          "asctime": "2021-03-23 07:59:40,148",
          "created": 1616486380.1487548,
          "extra": {},
          "filename": "async_executors.py",
          "funcName": "main",
          "levelname": "DEBUG",
          "lineno": 149,
          "message": "CustMercTS_1: block execution complete",
          "name": "engine.logs:CustMercTS_1",
          "pathname": "/usr/local/lib/python3.7/dist-packages/razor/flow/async_executors.py",
          "process": 7863,
          "processName": "ForkProcess-1:2",
          "thread": 140254031537984,
          "threadName": "MainThread"
         },
         {
          "asctime": "2021-03-23 07:59:40,275",
          "created": 1616486380.2753963,
          "extra": {},
          "filename": "async_executors.py",
          "funcName": "start_input_receiver",
          "levelname": "DEBUG",
          "lineno": 173,
          "message": "CustMercTS_1: received cmd: terminate, (), {}",
          "name": "engine.logs:CustMercTS_1",
          "pathname": "/usr/local/lib/python3.7/dist-packages/razor/flow/async_executors.py",
          "process": 7863,
          "processName": "ForkProcess-1:2",
          "thread": 140254031537984,
          "threadName": "MainThread"
         }
        ],
        "meta": {
         "block_status": {
          "CustMercTS_1": "SUCCESS",
          "CustStatic_1": "SUCCESS",
          "DropDuplicates_1": "SUCCESS",
          "NonSparkPath_1": "SUCCESS",
          "ProdTypeTS_1": "SUCCESS",
          "ReadCsvProjectSpace_1": "SUCCESS",
          "TranCityTS_1": "SUCCESS",
          "TranTypeTS_1": "SUCCESS"
         },
         "blocks": [
          {
           "class_name": "TranTypeTS",
           "fullname": "razor.project.blocks.ayan_spark_blocks.TranTypeTS",
           "id": "51a5a45c-7826-49cf-9ee1-047108c34b25",
           "inputs": [
            {
             "dataType": null,
             "default": null,
             "flow": "atomic",
             "help": null,
             "isdict": false,
             "islist": false,
             "label": "ip_data",
             "meta": {},
             "name": "ip_data",
             "series": false,
             "type": "DataFrame",
             "type_check": true
            },
            {
             "dataType": "dict",
             "default": {},
             "flow": "atomic",
             "help": null,
             "isdict": false,
             "islist": false,
             "label": "config",
             "meta": {},
             "name": "config",
             "series": false,
             "type": "dict",
             "type_check": true
            },
            {
             "dataType": "string",
             "default": "",
             "flow": "atomic",
             "help": null,
             "isdict": false,
             "islist": false,
             "label": "source",
             "meta": {},
             "name": "source",
             "series": false,
             "type": "str",
             "type_check": true
            }
           ],
           "outputs": [
            {
             "flow": "atomic",
             "help": null,
             "label": "tran_type_ts",
             "meta": {},
             "name": "tran_type_ts",
             "series": false,
             "type": "DataFrame",
             "type_check": true
            }
           ],
           "overwritten": false,
           "published": true,
           "var_names": [
            "TranTypeTS"
           ]
          },
          {
           "class_name": "DropDuplicates",
           "fullname": "razor.project.blocks.ayan_spark_blocks.DropDuplicates",
           "id": "eb3d4e54-06c2-40b2-98d9-dbba29d2fc39",
           "inputs": [
            {
             "dataType": null,
             "default": null,
             "flow": "atomic",
             "help": null,
             "isdict": false,
             "islist": false,
             "label": "ip_data",
             "meta": {},
             "name": "ip_data",
             "series": false,
             "type": "DataFrame",
             "type_check": true
            },
            {
             "dataType": "dict",
             "default": {},
             "flow": "atomic",
             "help": null,
             "isdict": false,
             "islist": false,
             "label": "config",
             "meta": {},
             "name": "config",
             "series": false,
             "type": "dict",
             "type_check": true
            },
            {
             "dataType": "string",
             "default": "",
             "flow": "atomic",
             "help": null,
             "isdict": false,
             "islist": false,
             "label": "source",
             "meta": {},
             "name": "source",
             "series": false,
             "type": "str",
             "type_check": true
            }
           ],
           "outputs": [
            {
             "flow": "atomic",
             "help": null,
             "label": "op_data",
             "meta": {},
             "name": "op_data",
             "series": false,
             "type": "DataFrame",
             "type_check": true
            }
           ],
           "overwritten": false,
           "published": true,
           "var_names": [
            "DropDuplicates"
           ]
          },
          {
           "class_name": "NonSparkPath",
           "fullname": "razor.project.blocks.ayan_spark_blocks.NonSparkPath",
           "id": "4948a222-ed2b-409a-ad54-7a996745e190",
           "inputs": [
            {
             "dataType": "string",
             "default": "",
             "flow": "atomic",
             "help": null,
             "isdict": false,
             "islist": false,
             "label": "ip_path",
             "meta": {},
             "name": "ip_path",
             "series": false,
             "type": "str",
             "type_check": true
            }
           ],
           "outputs": [
            {
             "flow": "atomic",
             "help": null,
             "label": "op_path",
             "meta": {},
             "name": "op_path",
             "series": false,
             "type": "str",
             "type_check": true
            }
           ],
           "overwritten": false,
           "published": true,
           "var_names": [
            "NonSparkPath"
           ]
          },
          {
           "class_name": "TranCityTS",
           "fullname": "razor.project.blocks.ayan_spark_blocks.TranCityTS",
           "id": "2fde5b33-1b9b-4dbc-82cf-65443f31e351",
           "inputs": [
            {
             "dataType": null,
             "default": null,
             "flow": "atomic",
             "help": null,
             "isdict": false,
             "islist": false,
             "label": "ip_data",
             "meta": {},
             "name": "ip_data",
             "series": false,
             "type": "DataFrame",
             "type_check": true
            },
            {
             "dataType": "dict",
             "default": {},
             "flow": "atomic",
             "help": null,
             "isdict": false,
             "islist": false,
             "label": "config",
             "meta": {},
             "name": "config",
             "series": false,
             "type": "dict",
             "type_check": true
            },
            {
             "dataType": "string",
             "default": "",
             "flow": "atomic",
             "help": null,
             "isdict": false,
             "islist": false,
             "label": "source",
             "meta": {},
             "name": "source",
             "series": false,
             "type": "str",
             "type_check": true
            }
           ],
           "outputs": [
            {
             "flow": "atomic",
             "help": null,
             "label": "tran_city_ts",
             "meta": {},
             "name": "tran_city_ts",
             "series": false,
             "type": "DataFrame",
             "type_check": true
            }
           ],
           "overwritten": false,
           "published": true,
           "var_names": [
            "TranCityTS"
           ]
          },
          {
           "class_name": "CustStatic",
           "fullname": "razor.project.blocks.ayan_spark_blocks.CustStatic",
           "id": "591b1ec7-f9bf-4d33-81bc-e017086d3c5b",
           "inputs": [
            {
             "dataType": null,
             "default": null,
             "flow": "atomic",
             "help": null,
             "isdict": false,
             "islist": false,
             "label": "ip_data",
             "meta": {},
             "name": "ip_data",
             "series": false,
             "type": "DataFrame",
             "type_check": true
            },
            {
             "dataType": "dict",
             "default": {},
             "flow": "atomic",
             "help": null,
             "isdict": false,
             "islist": false,
             "label": "config",
             "meta": {},
             "name": "config",
             "series": false,
             "type": "dict",
             "type_check": true
            },
            {
             "dataType": "string",
             "default": "",
             "flow": "atomic",
             "help": null,
             "isdict": false,
             "islist": false,
             "label": "source",
             "meta": {},
             "name": "source",
             "series": false,
             "type": "str",
             "type_check": true
            }
           ],
           "outputs": [
            {
             "flow": "atomic",
             "help": null,
             "label": "customer_static",
             "meta": {},
             "name": "customer_static",
             "series": false,
             "type": "DataFrame",
             "type_check": true
            }
           ],
           "overwritten": false,
           "published": true,
           "var_names": [
            "CustStatic"
           ]
          },
          {
           "class_name": "CustMercTS",
           "fullname": "razor.project.blocks.ayan_spark_blocks.CustMercTS",
           "id": "09e50c80-1ff9-449e-8432-abc80990ef56",
           "inputs": [
            {
             "dataType": null,
             "default": null,
             "flow": "atomic",
             "help": null,
             "isdict": false,
             "islist": false,
             "label": "ip_data",
             "meta": {},
             "name": "ip_data",
             "series": false,
             "type": "DataFrame",
             "type_check": true
            },
            {
             "dataType": "dict",
             "default": {},
             "flow": "atomic",
             "help": null,
             "isdict": false,
             "islist": false,
             "label": "config",
             "meta": {},
             "name": "config",
             "series": false,
             "type": "dict",
             "type_check": true
            },
            {
             "dataType": "string",
             "default": "",
             "flow": "atomic",
             "help": null,
             "isdict": false,
             "islist": false,
             "label": "source",
             "meta": {},
             "name": "source",
             "series": false,
             "type": "str",
             "type_check": true
            }
           ],
           "outputs": [
            {
             "flow": "atomic",
             "help": null,
             "label": "customer_ts",
             "meta": {},
             "name": "customer_ts",
             "series": false,
             "type": "DataFrame",
             "type_check": true
            },
            {
             "flow": "atomic",
             "help": null,
             "label": "merchant_ts",
             "meta": {},
             "name": "merchant_ts",
             "series": false,
             "type": "DataFrame",
             "type_check": true
            }
           ],
           "overwritten": false,
           "published": true,
           "var_names": [
            "CustMercTS"
           ]
          },
          {
           "class_name": "ProdTypeTS",
           "fullname": "razor.project.blocks.ayan_spark_blocks.ProdTypeTS",
           "id": "b4f1db6e-c6f2-40e4-8c36-00557fc70a98",
           "inputs": [
            {
             "dataType": null,
             "default": null,
             "flow": "atomic",
             "help": null,
             "isdict": false,
             "islist": false,
             "label": "ip_data",
             "meta": {},
             "name": "ip_data",
             "series": false,
             "type": "DataFrame",
             "type_check": true
            },
            {
             "dataType": "dict",
             "default": {},
             "flow": "atomic",
             "help": null,
             "isdict": false,
             "islist": false,
             "label": "config",
             "meta": {},
             "name": "config",
             "series": false,
             "type": "dict",
             "type_check": true
            },
            {
             "dataType": "string",
             "default": "",
             "flow": "atomic",
             "help": null,
             "isdict": false,
             "islist": false,
             "label": "source",
             "meta": {},
             "name": "source",
             "series": false,
             "type": "str",
             "type_check": true
            }
           ],
           "outputs": [
            {
             "flow": "atomic",
             "help": null,
             "label": "prod_type_ts",
             "meta": {},
             "name": "prod_type_ts",
             "series": false,
             "type": "DataFrame",
             "type_check": true
            }
           ],
           "overwritten": false,
           "published": true,
           "var_names": [
            "ProdTypeTS"
           ]
          },
          {
           "class_name": "ReadCsvProjectSpace",
           "fullname": "razor.project.blocks.ayan_spark_blocks.ReadCsvProjectSpace",
           "id": "5aa11834-8396-4b25-a409-6bea5b33ad1b",
           "inputs": [
            {
             "dataType": "string",
             "default": "",
             "flow": "atomic",
             "help": null,
             "isdict": false,
             "islist": false,
             "label": "filename",
             "meta": {},
             "name": "filename",
             "series": false,
             "type": "str",
             "type_check": true
            },
            {
             "dataType": "dict",
             "default": {},
             "flow": "atomic",
             "help": null,
             "isdict": false,
             "islist": false,
             "label": "config",
             "meta": {},
             "name": "config",
             "series": false,
             "type": "dict",
             "type_check": true
            },
            {
             "dataType": "string",
             "default": "",
             "flow": "atomic",
             "help": null,
             "isdict": false,
             "islist": false,
             "label": "source",
             "meta": {},
             "name": "source",
             "series": false,
             "type": "str",
             "type_check": true
            }
           ],
           "outputs": [
            {
             "flow": "atomic",
             "help": null,
             "label": "data",
             "meta": {},
             "name": "data",
             "series": false,
             "type": "DataFrame",
             "type_check": true
            }
           ],
           "overwritten": false,
           "published": true,
           "var_names": [
            "ReadCsvProjectSpace"
           ]
          }
         ],
         "connections": [
          {
           "id": "77189288-72cc-49ab-b024-946b7e3e8b02",
           "source": {
            "adapter": false,
            "instance_id": "3777b19d-b963-4341-8146-1a3d722c8836",
            "name": "data"
           },
           "target": {
            "adapter": false,
            "instance_id": "9f11f008-b448-4586-9688-e6b3be334d37",
            "name": "ip_data"
           }
          },
          {
           "id": "b1d9c7c6-100e-4ac0-ab03-43b8069089ea",
           "source": {
            "adapter": false,
            "instance_id": "3777b19d-b963-4341-8146-1a3d722c8836",
            "name": "data"
           },
           "target": {
            "adapter": false,
            "instance_id": "08a93d73-3947-4f80-b245-82e1e7b9150c",
            "name": "ip_data"
           }
          },
          {
           "id": "e06bbdf5-39a1-424f-8f22-5cd5ea97139b",
           "source": {
            "adapter": false,
            "instance_id": "3777b19d-b963-4341-8146-1a3d722c8836",
            "name": "data"
           },
           "target": {
            "adapter": false,
            "instance_id": "bdde2d65-0b4a-43f7-b7f3-8b7f0f0e9cd9",
            "name": "ip_data"
           }
          },
          {
           "id": "893d7e14-ab51-4150-95dd-73d31def8aa2",
           "source": {
            "adapter": false,
            "instance_id": "3777b19d-b963-4341-8146-1a3d722c8836",
            "name": "data"
           },
           "target": {
            "adapter": false,
            "instance_id": "96379317-bcae-4f23-949b-1422f66f4225",
            "name": "ip_data"
           }
          },
          {
           "id": "1c82b1cf-5609-4c7a-814f-ea1392082b78",
           "source": {
            "adapter": false,
            "instance_id": "9f11f008-b448-4586-9688-e6b3be334d37",
            "name": "customer_static"
           },
           "target": {
            "adapter": false,
            "instance_id": "5db91a29-54d3-4afc-93fd-84f54a8311d4",
            "name": "ip_data"
           }
          },
          {
           "id": "ec87d209-7832-4622-adee-7d252805b6d5",
           "source": {
            "adapter": false,
            "instance_id": "3777b19d-b963-4341-8146-1a3d722c8836",
            "name": "data"
           },
           "target": {
            "adapter": false,
            "instance_id": "caf0c4d2-078f-45af-9b49-c41cdd1905d9",
            "name": "ip_data"
           }
          },
          {
           "id": "5e786882-9207-4f78-b4a8-fdb80d3b47ac",
           "source": {
            "adapter": false,
            "instance_id": "2852b809-8bae-49a2-a3e3-7b15778ed221",
            "name": "op_path"
           },
           "target": {
            "adapter": false,
            "instance_id": "3777b19d-b963-4341-8146-1a3d722c8836",
            "name": "filename"
           }
          }
         ],
         "end": 1616486380.2798507,
         "id": "f5e9aac8-5ff4-43c1-af79-6262c59f7012",
         "instances": [
          {
           "block_class": "eb3d4e54-06c2-40b2-98d9-dbba29d2fc39",
           "id": "5db91a29-54d3-4afc-93fd-84f54a8311d4",
           "name": "DropDuplicates_1",
           "var_names": [
            "drp"
           ]
          },
          {
           "block_class": "591b1ec7-f9bf-4d33-81bc-e017086d3c5b",
           "id": "9f11f008-b448-4586-9688-e6b3be334d37",
           "name": "CustStatic_1",
           "var_names": [
            "cs"
           ]
          },
          {
           "block_class": "5aa11834-8396-4b25-a409-6bea5b33ad1b",
           "id": "3777b19d-b963-4341-8146-1a3d722c8836",
           "name": "ReadCsvProjectSpace_1",
           "var_names": [
            "rcp"
           ]
          },
          {
           "block_class": "4948a222-ed2b-409a-ad54-7a996745e190",
           "id": "2852b809-8bae-49a2-a3e3-7b15778ed221",
           "name": "NonSparkPath_1",
           "var_names": [
            "nsp"
           ]
          },
          {
           "block_class": "09e50c80-1ff9-449e-8432-abc80990ef56",
           "id": "96379317-bcae-4f23-949b-1422f66f4225",
           "name": "CustMercTS_1",
           "var_names": [
            "cm_ts"
           ]
          },
          {
           "block_class": "b4f1db6e-c6f2-40e4-8c36-00557fc70a98",
           "id": "bdde2d65-0b4a-43f7-b7f3-8b7f0f0e9cd9",
           "name": "ProdTypeTS_1",
           "var_names": [
            "pt_ts"
           ]
          },
          {
           "block_class": "2fde5b33-1b9b-4dbc-82cf-65443f31e351",
           "id": "08a93d73-3947-4f80-b245-82e1e7b9150c",
           "name": "TranCityTS_1",
           "var_names": [
            "tc_ts"
           ]
          },
          {
           "block_class": "51a5a45c-7826-49cf-9ee1-047108c34b25",
           "id": "caf0c4d2-078f-45af-9b49-c41cdd1905d9",
           "name": "TranTypeTS_1",
           "var_names": [
            "tt_ts"
           ]
          }
         ],
         "log_level": 20,
         "name": "temp",
         "start": 1616486293.1769848,
         "status": "SUCCESS",
         "system_logs": false,
         "var_names": []
        },
        "metrics": {},
        "runtime": {
         "CustMercTS_1": {
          "end": 1616486380.2733386,
          "load": 1616486293.462574,
          "start": 1616486293.4973574
         },
         "CustStatic_1": {
          "end": 1616486330.5502477,
          "load": 1616486293.462574,
          "start": 1616486293.4973574
         },
         "DropDuplicates_1": {
          "end": 1616486330.6573281,
          "load": 1616486293.462574,
          "start": 1616486293.4973574
         },
         "NonSparkPath_1": {
          "end": 1616486293.6621065,
          "load": 1616486293.1787932,
          "start": 1616486293.187302
         },
         "ProdTypeTS_1": {
          "end": 1616486348.4618351,
          "load": 1616486293.462574,
          "start": 1616486293.4973574
         },
         "ReadCsvProjectSpace_1": {
          "end": 1616486326.161905,
          "load": 1616486293.462574,
          "start": 1616486293.4973574
         },
         "TranCityTS_1": {
          "end": 1616486333.664334,
          "load": 1616486293.462574,
          "start": 1616486293.4973574
         },
         "TranTypeTS_1": {
          "end": 1616486366.04883,
          "load": 1616486293.462574,
          "start": 1616486293.4973574
         }
        }
       },
       "store_in_notebook": true
      }
     },
     "output_type": "display_data"
    },
    {
     "name": "stdout",
     "output_type": "stream",
     "text": [
      "2202\n"
     ]
    },
    {
     "data": {
      "text/plain": [
       "{}"
      ]
     },
     "execution_count": 16,
     "metadata": {},
     "output_type": "execute_result"
    }
   ],
   "source": [
    "pipe.execute()"
   ]
  },
  {
   "cell_type": "code",
   "execution_count": null,
   "id": "connected-diving",
   "metadata": {},
   "outputs": [],
   "source": []
  },
  {
   "cell_type": "code",
   "execution_count": null,
   "id": "developing-heath",
   "metadata": {},
   "outputs": [],
   "source": []
  }
 ],
 "metadata": {
  "kernelspec": {
   "display_name": "Python 3",
   "language": "python",
   "name": "python3"
  },
  "language_info": {
   "codemirror_mode": {
    "name": "ipython",
    "version": 3
   },
   "file_extension": ".py",
   "mimetype": "text/x-python",
   "name": "python",
   "nbconvert_exporter": "python",
   "pygments_lexer": "ipython3",
   "version": "3.7.10"
  }
 },
 "nbformat": 4,
 "nbformat_minor": 5
}
