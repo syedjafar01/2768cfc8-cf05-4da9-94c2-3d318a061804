{
 "cells": [
  {
   "cell_type": "code",
   "execution_count": 1,
   "id": "plastic-penalty",
   "metadata": {},
   "outputs": [],
   "source": [
    "import razor\n",
    "import razor.flow as rf\n",
    "from razor import api\n",
    "from razor.flow.spark import SparkBlock, SparkExecutor\n"
   ]
  },
  {
   "cell_type": "code",
   "execution_count": 2,
   "id": "independent-google",
   "metadata": {},
   "outputs": [],
   "source": [
    "import os\n",
    "from datetime import datetime, timedelta\n",
    "from pyspark.sql import SparkSession, functions\n",
    "from pyspark.sql.dataframe import DataFrame\n",
    "from datetime import datetime, timedelta\n",
    "from dateutil.relativedelta import relativedelta\n",
    "from pyspark.sql.types import IntegerType, DateType, ArrayType, StringType, FloatType, TimestampType\n"
   ]
  },
  {
   "cell_type": "code",
   "execution_count": 3,
   "id": "herbal-milwaukee",
   "metadata": {},
   "outputs": [],
   "source": [
    "from razor.project.blocks.ayan_spark_blocks import MercStatic\n",
    "from razor.project.blocks.ayan_spark_blocks import ReadCsvProjectSpace\n",
    "from razor.project.blocks.ayan_spark_blocks import TranCityTS\n",
    "from razor.project.blocks.ayan_spark_blocks import TranTypeTS\n",
    "from razor.project.blocks.ayan_spark_blocks import NonSparkPath\n",
    "from razor.project.blocks.ayan_spark_blocks import CustStatic\n",
    "from razor.project.blocks.ayan_spark_blocks import ProdTypeTS\n",
    "from razor.project.blocks.ayan_spark_blocks import CustMercTS\n",
    "from razor.project.blocks.ayan_spark_blocks import DropDuplicates\n",
    "from razor.project.blocks.ayan_spark_blocks import SparkConcat"
   ]
  },
  {
   "cell_type": "code",
   "execution_count": 4,
   "id": "human-dispatch",
   "metadata": {},
   "outputs": [],
   "source": [
    "def project_space_path(path):\n",
    "    ps = api.datasources('Project Space')\n",
    "    return os.path.join(ps.abspath(), path)\n"
   ]
  },
  {
   "cell_type": "code",
   "execution_count": 5,
   "id": "floppy-thesis",
   "metadata": {},
   "outputs": [],
   "source": [
    "nsp = NonSparkPath(ip_path='customer_data.csv')"
   ]
  },
  {
   "cell_type": "code",
   "execution_count": 6,
   "id": "decimal-alexander",
   "metadata": {},
   "outputs": [],
   "source": [
    "rcp = ReadCsvProjectSpace(filename = nsp.op_path, config={}, source=\"\")\n",
    "rcp.executor = SparkExecutor"
   ]
  },
  {
   "cell_type": "code",
   "execution_count": 7,
   "id": "aging-attention",
   "metadata": {},
   "outputs": [],
   "source": [
    "cs = CustStatic(ip_data = rcp.data, config={}, source=\"\")\n",
    "cs.executor = SparkExecutor"
   ]
  },
  {
   "cell_type": "code",
   "execution_count": 8,
   "id": "cultural-surname",
   "metadata": {},
   "outputs": [],
   "source": [
    "drp = DropDuplicates(ip_data = cs.customer_static, config={}, source=\"\")\n",
    "drp.executor = SparkExecutor"
   ]
  },
  {
   "cell_type": "code",
   "execution_count": 9,
   "id": "adjacent-buying",
   "metadata": {},
   "outputs": [],
   "source": [
    "ms = MercStatic(ip_data = rcp.data, config={}, source=\"\")\n",
    "ms.executor = SparkExecutor"
   ]
  },
  {
   "cell_type": "code",
   "execution_count": 10,
   "id": "loose-twelve",
   "metadata": {},
   "outputs": [],
   "source": [
    "cm_ts = CustMercTS(ip_data = rcp.data, config={}, source=\"\")\n",
    "cm_ts.executor = SparkExecutor"
   ]
  },
  {
   "cell_type": "code",
   "execution_count": 11,
   "id": "spoken-station",
   "metadata": {},
   "outputs": [],
   "source": [
    "pt_ts = ProdTypeTS(ip_data = rcp.data, config={}, source=\"\")\n",
    "pt_ts.executor = SparkExecutor"
   ]
  },
  {
   "cell_type": "code",
   "execution_count": 12,
   "id": "heard-comment",
   "metadata": {},
   "outputs": [],
   "source": [
    "tc_ts = TranCityTS(ip_data = rcp.data, config={}, source=\"\")\n",
    "tc_ts.executor = SparkExecutor"
   ]
  },
  {
   "cell_type": "code",
   "execution_count": 13,
   "id": "initial-preservation",
   "metadata": {},
   "outputs": [],
   "source": [
    "tt_ts = TranTypeTS(ip_data = rcp.data, config={}, source=\"\")\n",
    "tt_ts.executor = SparkExecutor"
   ]
  },
  {
   "cell_type": "code",
   "execution_count": 17,
   "id": "unusual-semester",
   "metadata": {},
   "outputs": [],
   "source": [
    "merged_cust = SparkConcat(df1=cm_ts.customer_ts, df2=cs.customer_static, cols=[\"card_number\",\"customer_name\"])\n",
    "merged_merc = SparkConcat(df1=cm_ts.merchant_ts, df2=ms.merchant_static, cols=[\"merchant_id\",\"merchant_city\",\"merchant_state\"])\n"
   ]
  },
  {
   "cell_type": "code",
   "execution_count": 18,
   "id": "aquatic-nepal",
   "metadata": {},
   "outputs": [],
   "source": [
    "pipe = rf.Pipeline('temp', targets = [merged_cust, merged_merc, pt_ts, tc_ts, tt_ts])"
   ]
  },
  {
   "cell_type": "code",
   "execution_count": 19,
   "id": "incorrect-server",
   "metadata": {},
   "outputs": [
    {
     "data": {
      "application/vnd.razorthink.interactive+pipeline+view+json": {
       "blocks": [
        {
         "class_name": "SparkConcat",
         "fullname": "razor.project.blocks.ayan_spark_blocks.SparkConcat",
         "id": "64c9014f-e144-4733-9fcb-0b3d34b5b8d3",
         "inputs": [
          {
           "dataType": null,
           "default": null,
           "flow": "atomic",
           "help": null,
           "isdict": false,
           "islist": false,
           "label": "df1",
           "meta": {},
           "name": "df1",
           "series": false,
           "type": "DataFrame",
           "type_check": true
          },
          {
           "dataType": null,
           "default": null,
           "flow": "atomic",
           "help": null,
           "isdict": false,
           "islist": false,
           "label": "df2",
           "meta": {},
           "name": "df2",
           "series": false,
           "type": "DataFrame",
           "type_check": true
          },
          {
           "dataType": "list",
           "default": [],
           "flow": "atomic",
           "help": null,
           "isdict": false,
           "islist": false,
           "label": "cols",
           "meta": {},
           "name": "cols",
           "series": false,
           "type": "list",
           "type_check": true
          },
          {
           "dataType": "dict",
           "default": {},
           "flow": "atomic",
           "help": null,
           "isdict": false,
           "islist": false,
           "label": "config",
           "meta": {},
           "name": "config",
           "series": false,
           "type": "dict",
           "type_check": true
          },
          {
           "dataType": "string",
           "default": "",
           "flow": "atomic",
           "help": null,
           "isdict": false,
           "islist": false,
           "label": "source",
           "meta": {},
           "name": "source",
           "series": false,
           "type": "str",
           "type_check": true
          }
         ],
         "outputs": [
          {
           "flow": "atomic",
           "help": null,
           "label": "op_df",
           "meta": {},
           "name": "op_df",
           "series": false,
           "type": "DataFrame",
           "type_check": true
          }
         ],
         "overwritten": false,
         "published": true,
         "var_names": [
          "SparkConcat"
         ]
        },
        {
         "class_name": "TranTypeTS",
         "fullname": "razor.project.blocks.ayan_spark_blocks.TranTypeTS",
         "id": "3e56d526-6e89-4741-a295-b798f8afcf62",
         "inputs": [
          {
           "dataType": null,
           "default": null,
           "flow": "atomic",
           "help": null,
           "isdict": false,
           "islist": false,
           "label": "ip_data",
           "meta": {},
           "name": "ip_data",
           "series": false,
           "type": "DataFrame",
           "type_check": true
          },
          {
           "dataType": "dict",
           "default": {},
           "flow": "atomic",
           "help": null,
           "isdict": false,
           "islist": false,
           "label": "config",
           "meta": {},
           "name": "config",
           "series": false,
           "type": "dict",
           "type_check": true
          },
          {
           "dataType": "string",
           "default": "",
           "flow": "atomic",
           "help": null,
           "isdict": false,
           "islist": false,
           "label": "source",
           "meta": {},
           "name": "source",
           "series": false,
           "type": "str",
           "type_check": true
          }
         ],
         "outputs": [
          {
           "flow": "atomic",
           "help": null,
           "label": "tran_type_ts",
           "meta": {},
           "name": "tran_type_ts",
           "series": false,
           "type": "DataFrame",
           "type_check": true
          }
         ],
         "overwritten": false,
         "published": true,
         "var_names": [
          "TranTypeTS"
         ]
        },
        {
         "class_name": "NonSparkPath",
         "fullname": "razor.project.blocks.ayan_spark_blocks.NonSparkPath",
         "id": "086a819f-dd57-418e-ae1d-a92e1db39f89",
         "inputs": [
          {
           "dataType": "string",
           "default": "",
           "flow": "atomic",
           "help": null,
           "isdict": false,
           "islist": false,
           "label": "ip_path",
           "meta": {},
           "name": "ip_path",
           "series": false,
           "type": "str",
           "type_check": true
          }
         ],
         "outputs": [
          {
           "flow": "atomic",
           "help": null,
           "label": "op_path",
           "meta": {},
           "name": "op_path",
           "series": false,
           "type": "str",
           "type_check": true
          }
         ],
         "overwritten": false,
         "published": true,
         "var_names": [
          "NonSparkPath"
         ]
        },
        {
         "class_name": "TranCityTS",
         "fullname": "razor.project.blocks.ayan_spark_blocks.TranCityTS",
         "id": "d4ca1bc9-f77b-4855-abff-c1e2d82edd26",
         "inputs": [
          {
           "dataType": null,
           "default": null,
           "flow": "atomic",
           "help": null,
           "isdict": false,
           "islist": false,
           "label": "ip_data",
           "meta": {},
           "name": "ip_data",
           "series": false,
           "type": "DataFrame",
           "type_check": true
          },
          {
           "dataType": "dict",
           "default": {},
           "flow": "atomic",
           "help": null,
           "isdict": false,
           "islist": false,
           "label": "config",
           "meta": {},
           "name": "config",
           "series": false,
           "type": "dict",
           "type_check": true
          },
          {
           "dataType": "string",
           "default": "",
           "flow": "atomic",
           "help": null,
           "isdict": false,
           "islist": false,
           "label": "source",
           "meta": {},
           "name": "source",
           "series": false,
           "type": "str",
           "type_check": true
          }
         ],
         "outputs": [
          {
           "flow": "atomic",
           "help": null,
           "label": "tran_city_ts",
           "meta": {},
           "name": "tran_city_ts",
           "series": false,
           "type": "DataFrame",
           "type_check": true
          }
         ],
         "overwritten": false,
         "published": true,
         "var_names": [
          "TranCityTS"
         ]
        },
        {
         "class_name": "CustMercTS",
         "fullname": "razor.project.blocks.ayan_spark_blocks.CustMercTS",
         "id": "1c048de1-9b67-48e5-98c0-b892fe79cd86",
         "inputs": [
          {
           "dataType": null,
           "default": null,
           "flow": "atomic",
           "help": null,
           "isdict": false,
           "islist": false,
           "label": "ip_data",
           "meta": {},
           "name": "ip_data",
           "series": false,
           "type": "DataFrame",
           "type_check": true
          },
          {
           "dataType": "dict",
           "default": {},
           "flow": "atomic",
           "help": null,
           "isdict": false,
           "islist": false,
           "label": "config",
           "meta": {},
           "name": "config",
           "series": false,
           "type": "dict",
           "type_check": true
          },
          {
           "dataType": "string",
           "default": "",
           "flow": "atomic",
           "help": null,
           "isdict": false,
           "islist": false,
           "label": "source",
           "meta": {},
           "name": "source",
           "series": false,
           "type": "str",
           "type_check": true
          }
         ],
         "outputs": [
          {
           "flow": "atomic",
           "help": null,
           "label": "customer_ts",
           "meta": {},
           "name": "customer_ts",
           "series": false,
           "type": "DataFrame",
           "type_check": true
          },
          {
           "flow": "atomic",
           "help": null,
           "label": "merchant_ts",
           "meta": {},
           "name": "merchant_ts",
           "series": false,
           "type": "DataFrame",
           "type_check": true
          }
         ],
         "overwritten": false,
         "published": true,
         "var_names": [
          "CustMercTS"
         ]
        },
        {
         "class_name": "ProdTypeTS",
         "fullname": "razor.project.blocks.ayan_spark_blocks.ProdTypeTS",
         "id": "baf0afbe-10b2-4efe-908c-4b1004017812",
         "inputs": [
          {
           "dataType": null,
           "default": null,
           "flow": "atomic",
           "help": null,
           "isdict": false,
           "islist": false,
           "label": "ip_data",
           "meta": {},
           "name": "ip_data",
           "series": false,
           "type": "DataFrame",
           "type_check": true
          },
          {
           "dataType": "dict",
           "default": {},
           "flow": "atomic",
           "help": null,
           "isdict": false,
           "islist": false,
           "label": "config",
           "meta": {},
           "name": "config",
           "series": false,
           "type": "dict",
           "type_check": true
          },
          {
           "dataType": "string",
           "default": "",
           "flow": "atomic",
           "help": null,
           "isdict": false,
           "islist": false,
           "label": "source",
           "meta": {},
           "name": "source",
           "series": false,
           "type": "str",
           "type_check": true
          }
         ],
         "outputs": [
          {
           "flow": "atomic",
           "help": null,
           "label": "prod_type_ts",
           "meta": {},
           "name": "prod_type_ts",
           "series": false,
           "type": "DataFrame",
           "type_check": true
          }
         ],
         "overwritten": false,
         "published": true,
         "var_names": [
          "ProdTypeTS"
         ]
        },
        {
         "class_name": "ReadCsvProjectSpace",
         "fullname": "razor.project.blocks.ayan_spark_blocks.ReadCsvProjectSpace",
         "id": "55a34d71-0022-4ab9-968e-d22aa75a6422",
         "inputs": [
          {
           "dataType": "string",
           "default": "",
           "flow": "atomic",
           "help": null,
           "isdict": false,
           "islist": false,
           "label": "filename",
           "meta": {},
           "name": "filename",
           "series": false,
           "type": "str",
           "type_check": true
          },
          {
           "dataType": "dict",
           "default": {},
           "flow": "atomic",
           "help": null,
           "isdict": false,
           "islist": false,
           "label": "config",
           "meta": {},
           "name": "config",
           "series": false,
           "type": "dict",
           "type_check": true
          },
          {
           "dataType": "string",
           "default": "",
           "flow": "atomic",
           "help": null,
           "isdict": false,
           "islist": false,
           "label": "source",
           "meta": {},
           "name": "source",
           "series": false,
           "type": "str",
           "type_check": true
          }
         ],
         "outputs": [
          {
           "flow": "atomic",
           "help": null,
           "label": "data",
           "meta": {},
           "name": "data",
           "series": false,
           "type": "DataFrame",
           "type_check": true
          }
         ],
         "overwritten": false,
         "published": true,
         "var_names": [
          "ReadCsvProjectSpace"
         ]
        },
        {
         "class_name": "CustStatic",
         "fullname": "razor.project.blocks.ayan_spark_blocks.CustStatic",
         "id": "e7f67d91-e108-45ba-9b9b-0bc7fbc8af6c",
         "inputs": [
          {
           "dataType": null,
           "default": null,
           "flow": "atomic",
           "help": null,
           "isdict": false,
           "islist": false,
           "label": "ip_data",
           "meta": {},
           "name": "ip_data",
           "series": false,
           "type": "DataFrame",
           "type_check": true
          },
          {
           "dataType": "dict",
           "default": {},
           "flow": "atomic",
           "help": null,
           "isdict": false,
           "islist": false,
           "label": "config",
           "meta": {},
           "name": "config",
           "series": false,
           "type": "dict",
           "type_check": true
          },
          {
           "dataType": "string",
           "default": "",
           "flow": "atomic",
           "help": null,
           "isdict": false,
           "islist": false,
           "label": "source",
           "meta": {},
           "name": "source",
           "series": false,
           "type": "str",
           "type_check": true
          }
         ],
         "outputs": [
          {
           "flow": "atomic",
           "help": null,
           "label": "customer_static",
           "meta": {},
           "name": "customer_static",
           "series": false,
           "type": "DataFrame",
           "type_check": true
          }
         ],
         "overwritten": false,
         "published": true,
         "var_names": [
          "CustStatic"
         ]
        },
        {
         "class_name": "MercStatic",
         "fullname": "razor.project.blocks.ayan_spark_blocks.MercStatic",
         "id": "2349474b-adfb-41df-93d3-7e72d99f600e",
         "inputs": [
          {
           "dataType": null,
           "default": null,
           "flow": "atomic",
           "help": null,
           "isdict": false,
           "islist": false,
           "label": "ip_data",
           "meta": {},
           "name": "ip_data",
           "series": false,
           "type": "DataFrame",
           "type_check": true
          },
          {
           "dataType": "dict",
           "default": {},
           "flow": "atomic",
           "help": null,
           "isdict": false,
           "islist": false,
           "label": "config",
           "meta": {},
           "name": "config",
           "series": false,
           "type": "dict",
           "type_check": true
          },
          {
           "dataType": "string",
           "default": "",
           "flow": "atomic",
           "help": null,
           "isdict": false,
           "islist": false,
           "label": "source",
           "meta": {},
           "name": "source",
           "series": false,
           "type": "str",
           "type_check": true
          }
         ],
         "outputs": [
          {
           "flow": "atomic",
           "help": null,
           "label": "merchant_static",
           "meta": {},
           "name": "merchant_static",
           "series": false,
           "type": "DataFrame",
           "type_check": true
          }
         ],
         "overwritten": false,
         "published": true,
         "var_names": [
          "MercStatic"
         ]
        }
       ],
       "connections": [
        {
         "id": "4d787605-ad11-4311-b755-a296c9a93e90",
         "source": {
          "adapter": false,
          "instance_id": "3893ba35-3931-4146-9151-8665b275a66c",
          "name": "merchant_ts"
         },
         "target": {
          "adapter": false,
          "instance_id": "bc969e32-643f-4312-bada-36410e2bb471",
          "name": "df1"
         }
        },
        {
         "id": "ca822ee5-b538-4d30-929c-35e3322fd3b8",
         "source": {
          "adapter": false,
          "instance_id": "f99a7f58-0c5a-4b75-bcea-b4ca52bb1f39",
          "name": "data"
         },
         "target": {
          "adapter": false,
          "instance_id": "4b70bf22-977e-4619-bcdf-3164aabb7ae4",
          "name": "ip_data"
         }
        },
        {
         "id": "fca810de-7080-42ec-92b2-115df310081e",
         "source": {
          "adapter": false,
          "instance_id": "f99a7f58-0c5a-4b75-bcea-b4ca52bb1f39",
          "name": "data"
         },
         "target": {
          "adapter": false,
          "instance_id": "5aa659b8-dc65-435a-8beb-4405421dbc0e",
          "name": "ip_data"
         }
        },
        {
         "id": "fd4ee428-47e8-4fdf-9a7a-6389bff371df",
         "source": {
          "adapter": false,
          "instance_id": "00c176ba-8515-4fb9-a558-0b79281f2c65",
          "name": "customer_static"
         },
         "target": {
          "adapter": false,
          "instance_id": "3675c120-ae7e-43b1-9d8c-1fa55c0939fa",
          "name": "df2"
         }
        },
        {
         "id": "43b0d7e4-dba4-46da-8cf7-817dff64eabc",
         "source": {
          "adapter": false,
          "instance_id": "4412d4da-f518-409c-961d-952ee1c9287e",
          "name": "merchant_static"
         },
         "target": {
          "adapter": false,
          "instance_id": "bc969e32-643f-4312-bada-36410e2bb471",
          "name": "df2"
         }
        },
        {
         "id": "eb8c8485-3e58-4e83-8513-9a7c0796f15e",
         "source": {
          "adapter": false,
          "instance_id": "3893ba35-3931-4146-9151-8665b275a66c",
          "name": "customer_ts"
         },
         "target": {
          "adapter": false,
          "instance_id": "3675c120-ae7e-43b1-9d8c-1fa55c0939fa",
          "name": "df1"
         }
        },
        {
         "id": "2fa92fbd-fdd2-47b5-985a-9978829d536e",
         "source": {
          "adapter": false,
          "instance_id": "f99a7f58-0c5a-4b75-bcea-b4ca52bb1f39",
          "name": "data"
         },
         "target": {
          "adapter": false,
          "instance_id": "00c176ba-8515-4fb9-a558-0b79281f2c65",
          "name": "ip_data"
         }
        },
        {
         "id": "b44d78d4-1623-4b72-bf94-07b5801c2fdf",
         "source": {
          "adapter": false,
          "instance_id": "39678dae-7892-4ae0-bb34-3aebf54d6f4e",
          "name": "op_path"
         },
         "target": {
          "adapter": false,
          "instance_id": "f99a7f58-0c5a-4b75-bcea-b4ca52bb1f39",
          "name": "filename"
         }
        },
        {
         "id": "934e4162-f51d-4b21-a7ff-683a6e898c83",
         "source": {
          "adapter": false,
          "instance_id": "f99a7f58-0c5a-4b75-bcea-b4ca52bb1f39",
          "name": "data"
         },
         "target": {
          "adapter": false,
          "instance_id": "4412d4da-f518-409c-961d-952ee1c9287e",
          "name": "ip_data"
         }
        },
        {
         "id": "b5d00561-ef75-478f-a7ec-34d3910b3570",
         "source": {
          "adapter": false,
          "instance_id": "f99a7f58-0c5a-4b75-bcea-b4ca52bb1f39",
          "name": "data"
         },
         "target": {
          "adapter": false,
          "instance_id": "3893ba35-3931-4146-9151-8665b275a66c",
          "name": "ip_data"
         }
        },
        {
         "id": "1117f463-f9ce-42d0-ae28-af61355c67fa",
         "source": {
          "adapter": false,
          "instance_id": "f99a7f58-0c5a-4b75-bcea-b4ca52bb1f39",
          "name": "data"
         },
         "target": {
          "adapter": false,
          "instance_id": "cbbf5ca9-5d07-4110-b4c9-c18d4e6ff26c",
          "name": "ip_data"
         }
        }
       ],
       "id": "1ac77562-0572-43b6-87a3-e7adef63becb",
       "instances": [
        {
         "block_class": "64c9014f-e144-4733-9fcb-0b3d34b5b8d3",
         "id": "3675c120-ae7e-43b1-9d8c-1fa55c0939fa",
         "name": "SparkConcat_1",
         "var_names": [
          "merged_cust"
         ]
        },
        {
         "block_class": "1c048de1-9b67-48e5-98c0-b892fe79cd86",
         "id": "3893ba35-3931-4146-9151-8665b275a66c",
         "name": "CustMercTS_1",
         "var_names": [
          "cm_ts"
         ]
        },
        {
         "block_class": "55a34d71-0022-4ab9-968e-d22aa75a6422",
         "id": "f99a7f58-0c5a-4b75-bcea-b4ca52bb1f39",
         "name": "ReadCsvProjectSpace_1",
         "var_names": [
          "rcp"
         ]
        },
        {
         "block_class": "086a819f-dd57-418e-ae1d-a92e1db39f89",
         "id": "39678dae-7892-4ae0-bb34-3aebf54d6f4e",
         "name": "NonSparkPath_1",
         "var_names": [
          "nsp"
         ]
        },
        {
         "block_class": "e7f67d91-e108-45ba-9b9b-0bc7fbc8af6c",
         "id": "00c176ba-8515-4fb9-a558-0b79281f2c65",
         "name": "CustStatic_1",
         "var_names": [
          "cs"
         ]
        },
        {
         "block_class": "64c9014f-e144-4733-9fcb-0b3d34b5b8d3",
         "id": "bc969e32-643f-4312-bada-36410e2bb471",
         "name": "SparkConcat_2",
         "var_names": [
          "merged_merc"
         ]
        },
        {
         "block_class": "2349474b-adfb-41df-93d3-7e72d99f600e",
         "id": "4412d4da-f518-409c-961d-952ee1c9287e",
         "name": "MercStatic_1",
         "var_names": [
          "ms"
         ]
        },
        {
         "block_class": "baf0afbe-10b2-4efe-908c-4b1004017812",
         "id": "cbbf5ca9-5d07-4110-b4c9-c18d4e6ff26c",
         "name": "ProdTypeTS_1",
         "var_names": [
          "pt_ts"
         ]
        },
        {
         "block_class": "d4ca1bc9-f77b-4855-abff-c1e2d82edd26",
         "id": "4b70bf22-977e-4619-bcdf-3164aabb7ae4",
         "name": "TranCityTS_1",
         "var_names": [
          "tc_ts"
         ]
        },
        {
         "block_class": "3e56d526-6e89-4741-a295-b798f8afcf62",
         "id": "5aa659b8-dc65-435a-8beb-4405421dbc0e",
         "name": "TranTypeTS_1",
         "var_names": [
          "tt_ts"
         ]
        }
       ],
       "name": "temp",
       "var_names": []
      },
      "image/svg+xml": [
       "<?xml version=\"1.0\" encoding=\"UTF-8\" standalone=\"no\"?>\n",
       "<!DOCTYPE svg PUBLIC \"-//W3C//DTD SVG 1.1//EN\"\n",
       " \"http://www.w3.org/Graphics/SVG/1.1/DTD/svg11.dtd\">\n",
       "<!-- Generated by graphviz version 2.43.0 (0)\n",
       " -->\n",
       "<!-- Title: %3 Pages: 1 -->\n",
       "<svg width=\"1148pt\" height=\"293pt\"\n",
       " viewBox=\"0.00 0.00 1148.30 293.00\" xmlns=\"http://www.w3.org/2000/svg\" xmlns:xlink=\"http://www.w3.org/1999/xlink\">\n",
       "<g id=\"graph0\" class=\"graph\" transform=\"scale(1 1) rotate(0) translate(4 289)\">\n",
       "<title>%3</title>\n",
       "<polygon fill=\"white\" stroke=\"transparent\" points=\"-4,4 -4,-289 1144.3,-289 1144.3,4 -4,4\"/>\n",
       "<!-- SparkConcat(&#39;SparkConcat_1&#39;) -->\n",
       "<g id=\"node1\" class=\"node\">\n",
       "<title>SparkConcat(&#39;SparkConcat_1&#39;)</title>\n",
       "<ellipse fill=\"none\" stroke=\"black\" cx=\"183.41\" cy=\"-18\" rx=\"96.58\" ry=\"18\"/>\n",
       "<text text-anchor=\"middle\" x=\"183.41\" y=\"-15.5\" font-family=\"Helvetica,sans-Serif\" font-size=\"10.00\">SparkConcat(&#39;SparkConcat_1&#39;)</text>\n",
       "</g>\n",
       "<!-- CustMercTS(&#39;CustMercTS_1&#39;) -->\n",
       "<g id=\"node2\" class=\"node\">\n",
       "<title>CustMercTS(&#39;CustMercTS_1&#39;)</title>\n",
       "<ellipse fill=\"none\" stroke=\"black\" cx=\"275.41\" cy=\"-101\" rx=\"92.34\" ry=\"18\"/>\n",
       "<text text-anchor=\"middle\" x=\"275.41\" y=\"-98.5\" font-family=\"Helvetica,sans-Serif\" font-size=\"10.00\">CustMercTS(&#39;CustMercTS_1&#39;)</text>\n",
       "</g>\n",
       "<!-- CustMercTS(&#39;CustMercTS_1&#39;)&#45;&gt;SparkConcat(&#39;SparkConcat_1&#39;) -->\n",
       "<g id=\"edge1\" class=\"edge\">\n",
       "<title>CustMercTS(&#39;CustMercTS_1&#39;)&#45;&gt;SparkConcat(&#39;SparkConcat_1&#39;)</title>\n",
       "<path fill=\"none\" stroke=\"black\" d=\"M256.35,-83.22C243.03,-71.49 225.05,-55.66 210.28,-42.65\"/>\n",
       "<polygon fill=\"black\" stroke=\"black\" points=\"212.27,-39.74 202.45,-35.76 207.64,-45 212.27,-39.74\"/>\n",
       "<text text-anchor=\"middle\" x=\"279.41\" y=\"-57\" font-family=\"Helvetica,sans-Serif\" font-size=\"10.00\">customer_ts&#45;&gt;df1</text>\n",
       "</g>\n",
       "<!-- SparkConcat(&#39;SparkConcat_2&#39;) -->\n",
       "<g id=\"node6\" class=\"node\">\n",
       "<title>SparkConcat(&#39;SparkConcat_2&#39;)</title>\n",
       "<ellipse fill=\"none\" stroke=\"black\" cx=\"408.41\" cy=\"-18\" rx=\"96.58\" ry=\"18\"/>\n",
       "<text text-anchor=\"middle\" x=\"408.41\" y=\"-15.5\" font-family=\"Helvetica,sans-Serif\" font-size=\"10.00\">SparkConcat(&#39;SparkConcat_2&#39;)</text>\n",
       "</g>\n",
       "<!-- CustMercTS(&#39;CustMercTS_1&#39;)&#45;&gt;SparkConcat(&#39;SparkConcat_2&#39;) -->\n",
       "<g id=\"edge2\" class=\"edge\">\n",
       "<title>CustMercTS(&#39;CustMercTS_1&#39;)&#45;&gt;SparkConcat(&#39;SparkConcat_2&#39;)</title>\n",
       "<path fill=\"none\" stroke=\"black\" d=\"M302.33,-83.61C322.61,-71.26 350.61,-54.2 372.76,-40.72\"/>\n",
       "<polygon fill=\"black\" stroke=\"black\" points=\"374.82,-43.56 381.54,-35.37 371.18,-37.58 374.82,-43.56\"/>\n",
       "<text text-anchor=\"middle\" x=\"394.91\" y=\"-57\" font-family=\"Helvetica,sans-Serif\" font-size=\"10.00\">merchant_ts&#45;&gt;df1</text>\n",
       "</g>\n",
       "<!-- ReadCsvProjectSpace(&#39;ReadCsvProjectSpace_1&#39;) -->\n",
       "<g id=\"node3\" class=\"node\">\n",
       "<title>ReadCsvProjectSpace(&#39;ReadCsvProjectSpace_1&#39;)</title>\n",
       "<ellipse fill=\"none\" stroke=\"black\" cx=\"616.41\" cy=\"-184\" rx=\"148.86\" ry=\"18\"/>\n",
       "<text text-anchor=\"middle\" x=\"616.41\" y=\"-181.5\" font-family=\"Helvetica,sans-Serif\" font-size=\"10.00\">ReadCsvProjectSpace(&#39;ReadCsvProjectSpace_1&#39;)</text>\n",
       "</g>\n",
       "<!-- ReadCsvProjectSpace(&#39;ReadCsvProjectSpace_1&#39;)&#45;&gt;CustMercTS(&#39;CustMercTS_1&#39;) -->\n",
       "<g id=\"edge3\" class=\"edge\">\n",
       "<title>ReadCsvProjectSpace(&#39;ReadCsvProjectSpace_1&#39;)&#45;&gt;CustMercTS(&#39;CustMercTS_1&#39;)</title>\n",
       "<path fill=\"none\" stroke=\"black\" d=\"M548.44,-167.97C521.34,-161.89 489.87,-154.73 461.41,-148 420.73,-138.38 375.16,-127.11 339.31,-118.14\"/>\n",
       "<polygon fill=\"black\" stroke=\"black\" points=\"340.02,-114.71 329.47,-115.68 338.32,-121.5 340.02,-114.71\"/>\n",
       "<text text-anchor=\"middle\" x=\"496.41\" y=\"-140\" font-family=\"Helvetica,sans-Serif\" font-size=\"10.00\">data&#45;&gt;ip_data</text>\n",
       "</g>\n",
       "<!-- CustStatic(&#39;CustStatic_1&#39;) -->\n",
       "<g id=\"node5\" class=\"node\">\n",
       "<title>CustStatic(&#39;CustStatic_1&#39;)</title>\n",
       "<ellipse fill=\"none\" stroke=\"black\" cx=\"82.41\" cy=\"-101\" rx=\"82.33\" ry=\"18\"/>\n",
       "<text text-anchor=\"middle\" x=\"82.41\" y=\"-98.5\" font-family=\"Helvetica,sans-Serif\" font-size=\"10.00\">CustStatic(&#39;CustStatic_1&#39;)</text>\n",
       "</g>\n",
       "<!-- ReadCsvProjectSpace(&#39;ReadCsvProjectSpace_1&#39;)&#45;&gt;CustStatic(&#39;CustStatic_1&#39;) -->\n",
       "<g id=\"edge4\" class=\"edge\">\n",
       "<title>ReadCsvProjectSpace(&#39;ReadCsvProjectSpace_1&#39;)&#45;&gt;CustStatic(&#39;CustStatic_1&#39;)</title>\n",
       "<path fill=\"none\" stroke=\"black\" d=\"M515.38,-170.75C464.87,-164.39 402.85,-156.25 347.41,-148 270.3,-136.52 251.19,-132.53 174.41,-119 167.37,-117.76 160.04,-116.44 152.71,-115.11\"/>\n",
       "<polygon fill=\"black\" stroke=\"black\" points=\"153.23,-111.65 142.76,-113.3 151.97,-118.54 153.23,-111.65\"/>\n",
       "<text text-anchor=\"middle\" x=\"382.41\" y=\"-140\" font-family=\"Helvetica,sans-Serif\" font-size=\"10.00\">data&#45;&gt;ip_data</text>\n",
       "</g>\n",
       "<!-- MercStatic(&#39;MercStatic_1&#39;) -->\n",
       "<g id=\"node7\" class=\"node\">\n",
       "<title>MercStatic(&#39;MercStatic_1&#39;)</title>\n",
       "<ellipse fill=\"none\" stroke=\"black\" cx=\"471.41\" cy=\"-101\" rx=\"85.21\" ry=\"18\"/>\n",
       "<text text-anchor=\"middle\" x=\"471.41\" y=\"-98.5\" font-family=\"Helvetica,sans-Serif\" font-size=\"10.00\">MercStatic(&#39;MercStatic_1&#39;)</text>\n",
       "</g>\n",
       "<!-- ReadCsvProjectSpace(&#39;ReadCsvProjectSpace_1&#39;)&#45;&gt;MercStatic(&#39;MercStatic_1&#39;) -->\n",
       "<g id=\"edge5\" class=\"edge\">\n",
       "<title>ReadCsvProjectSpace(&#39;ReadCsvProjectSpace_1&#39;)&#45;&gt;MercStatic(&#39;MercStatic_1&#39;)</title>\n",
       "<path fill=\"none\" stroke=\"black\" d=\"M586.37,-166.22C564.01,-153.73 533.33,-136.59 509.29,-123.16\"/>\n",
       "<polygon fill=\"black\" stroke=\"black\" points=\"510.87,-120.03 500.43,-118.21 507.45,-126.14 510.87,-120.03\"/>\n",
       "<text text-anchor=\"middle\" x=\"588.41\" y=\"-140\" font-family=\"Helvetica,sans-Serif\" font-size=\"10.00\">data&#45;&gt;ip_data</text>\n",
       "</g>\n",
       "<!-- ProdTypeTS(&#39;ProdTypeTS_1&#39;) -->\n",
       "<g id=\"node8\" class=\"node\">\n",
       "<title>ProdTypeTS(&#39;ProdTypeTS_1&#39;)</title>\n",
       "<ellipse fill=\"none\" stroke=\"black\" cx=\"665.41\" cy=\"-101\" rx=\"90.81\" ry=\"18\"/>\n",
       "<text text-anchor=\"middle\" x=\"665.41\" y=\"-98.5\" font-family=\"Helvetica,sans-Serif\" font-size=\"10.00\">ProdTypeTS(&#39;ProdTypeTS_1&#39;)</text>\n",
       "</g>\n",
       "<!-- ReadCsvProjectSpace(&#39;ReadCsvProjectSpace_1&#39;)&#45;&gt;ProdTypeTS(&#39;ProdTypeTS_1&#39;) -->\n",
       "<g id=\"edge6\" class=\"edge\">\n",
       "<title>ReadCsvProjectSpace(&#39;ReadCsvProjectSpace_1&#39;)&#45;&gt;ProdTypeTS(&#39;ProdTypeTS_1&#39;)</title>\n",
       "<path fill=\"none\" stroke=\"black\" d=\"M626.8,-165.82C633.5,-154.76 642.32,-140.18 649.84,-127.75\"/>\n",
       "<polygon fill=\"black\" stroke=\"black\" points=\"652.85,-129.52 655.04,-119.15 646.87,-125.9 652.85,-129.52\"/>\n",
       "<text text-anchor=\"middle\" x=\"679.41\" y=\"-140\" font-family=\"Helvetica,sans-Serif\" font-size=\"10.00\">data&#45;&gt;ip_data</text>\n",
       "</g>\n",
       "<!-- TranCityTS(&#39;TranCityTS_1&#39;) -->\n",
       "<g id=\"node9\" class=\"node\">\n",
       "<title>TranCityTS(&#39;TranCityTS_1&#39;)</title>\n",
       "<ellipse fill=\"none\" stroke=\"black\" cx=\"859.41\" cy=\"-101\" rx=\"85.21\" ry=\"18\"/>\n",
       "<text text-anchor=\"middle\" x=\"859.41\" y=\"-98.5\" font-family=\"Helvetica,sans-Serif\" font-size=\"10.00\">TranCityTS(&#39;TranCityTS_1&#39;)</text>\n",
       "</g>\n",
       "<!-- ReadCsvProjectSpace(&#39;ReadCsvProjectSpace_1&#39;)&#45;&gt;TranCityTS(&#39;TranCityTS_1&#39;) -->\n",
       "<g id=\"edge7\" class=\"edge\">\n",
       "<title>ReadCsvProjectSpace(&#39;ReadCsvProjectSpace_1&#39;)&#45;&gt;TranCityTS(&#39;TranCityTS_1&#39;)</title>\n",
       "<path fill=\"none\" stroke=\"black\" d=\"M664.71,-166.9C705.55,-153.29 763.97,-133.82 806.15,-119.75\"/>\n",
       "<polygon fill=\"black\" stroke=\"black\" points=\"807.31,-123.06 815.69,-116.57 805.1,-116.41 807.31,-123.06\"/>\n",
       "<text text-anchor=\"middle\" x=\"788.41\" y=\"-140\" font-family=\"Helvetica,sans-Serif\" font-size=\"10.00\">data&#45;&gt;ip_data</text>\n",
       "</g>\n",
       "<!-- TranTypeTS(&#39;TranTypeTS_1&#39;) -->\n",
       "<g id=\"node10\" class=\"node\">\n",
       "<title>TranTypeTS(&#39;TranTypeTS_1&#39;)</title>\n",
       "<ellipse fill=\"none\" stroke=\"black\" cx=\"1051.41\" cy=\"-101\" rx=\"88.78\" ry=\"18\"/>\n",
       "<text text-anchor=\"middle\" x=\"1051.41\" y=\"-98.5\" font-family=\"Helvetica,sans-Serif\" font-size=\"10.00\">TranTypeTS(&#39;TranTypeTS_1&#39;)</text>\n",
       "</g>\n",
       "<!-- ReadCsvProjectSpace(&#39;ReadCsvProjectSpace_1&#39;)&#45;&gt;TranTypeTS(&#39;TranTypeTS_1&#39;) -->\n",
       "<g id=\"edge8\" class=\"edge\">\n",
       "<title>ReadCsvProjectSpace(&#39;ReadCsvProjectSpace_1&#39;)&#45;&gt;TranTypeTS(&#39;TranTypeTS_1&#39;)</title>\n",
       "<path fill=\"none\" stroke=\"black\" d=\"M703.29,-169.35C741.43,-163.17 786.7,-155.55 827.41,-148 879.85,-138.27 938.94,-126.08 983.26,-116.7\"/>\n",
       "<polygon fill=\"black\" stroke=\"black\" points=\"983.99,-120.12 993.05,-114.62 982.54,-113.27 983.99,-120.12\"/>\n",
       "<text text-anchor=\"middle\" x=\"918.41\" y=\"-140\" font-family=\"Helvetica,sans-Serif\" font-size=\"10.00\">data&#45;&gt;ip_data</text>\n",
       "</g>\n",
       "<!-- NonSparkPath(&#39;NonSparkPath_1&#39;) -->\n",
       "<g id=\"node4\" class=\"node\">\n",
       "<title>NonSparkPath(&#39;NonSparkPath_1&#39;)</title>\n",
       "<ellipse fill=\"none\" stroke=\"black\" cx=\"616.41\" cy=\"-267\" rx=\"104.56\" ry=\"18\"/>\n",
       "<text text-anchor=\"middle\" x=\"616.41\" y=\"-264.5\" font-family=\"Helvetica,sans-Serif\" font-size=\"10.00\">NonSparkPath(&#39;NonSparkPath_1&#39;)</text>\n",
       "</g>\n",
       "<!-- NonSparkPath(&#39;NonSparkPath_1&#39;)&#45;&gt;ReadCsvProjectSpace(&#39;ReadCsvProjectSpace_1&#39;) -->\n",
       "<g id=\"edge9\" class=\"edge\">\n",
       "<title>NonSparkPath(&#39;NonSparkPath_1&#39;)&#45;&gt;ReadCsvProjectSpace(&#39;ReadCsvProjectSpace_1&#39;)</title>\n",
       "<path fill=\"none\" stroke=\"black\" d=\"M616.41,-248.82C616.41,-238.19 616.41,-224.31 616.41,-212.2\"/>\n",
       "<polygon fill=\"black\" stroke=\"black\" points=\"619.91,-212.15 616.41,-202.15 612.91,-212.15 619.91,-212.15\"/>\n",
       "<text text-anchor=\"middle\" x=\"663.41\" y=\"-223\" font-family=\"Helvetica,sans-Serif\" font-size=\"10.00\">op_path&#45;&gt;filename</text>\n",
       "</g>\n",
       "<!-- CustStatic(&#39;CustStatic_1&#39;)&#45;&gt;SparkConcat(&#39;SparkConcat_1&#39;) -->\n",
       "<g id=\"edge10\" class=\"edge\">\n",
       "<title>CustStatic(&#39;CustStatic_1&#39;)&#45;&gt;SparkConcat(&#39;SparkConcat_1&#39;)</title>\n",
       "<path fill=\"none\" stroke=\"black\" d=\"M91.63,-82.69C97.27,-73.32 105.17,-62.05 114.41,-54 120.75,-48.49 128.11,-43.58 135.61,-39.31\"/>\n",
       "<polygon fill=\"black\" stroke=\"black\" points=\"137.26,-42.39 144.43,-34.59 133.96,-36.22 137.26,-42.39\"/>\n",
       "<text text-anchor=\"middle\" x=\"167.41\" y=\"-57\" font-family=\"Helvetica,sans-Serif\" font-size=\"10.00\">customer_static&#45;&gt;df2</text>\n",
       "</g>\n",
       "<!-- MercStatic(&#39;MercStatic_1&#39;)&#45;&gt;SparkConcat(&#39;SparkConcat_2&#39;) -->\n",
       "<g id=\"edge11\" class=\"edge\">\n",
       "<title>MercStatic(&#39;MercStatic_1&#39;)&#45;&gt;SparkConcat(&#39;SparkConcat_2&#39;)</title>\n",
       "<path fill=\"none\" stroke=\"black\" d=\"M463.85,-83.01C459.42,-73.96 453.34,-62.89 446.41,-54 443.4,-50.14 439.94,-46.33 436.37,-42.73\"/>\n",
       "<polygon fill=\"black\" stroke=\"black\" points=\"438.62,-40.04 428.97,-35.68 433.8,-45.11 438.62,-40.04\"/>\n",
       "<text text-anchor=\"middle\" x=\"507.91\" y=\"-57\" font-family=\"Helvetica,sans-Serif\" font-size=\"10.00\">merchant_static&#45;&gt;df2</text>\n",
       "</g>\n",
       "</g>\n",
       "</svg>\n"
      ],
      "text/plain": [
       "<razor.flow.async_pipeline.Pipeline at 0x7f5270d9ec90>"
      ]
     },
     "execution_count": 19,
     "metadata": {},
     "output_type": "execute_result"
    }
   ],
   "source": [
    "pipe"
   ]
  },
  {
   "cell_type": "code",
   "execution_count": null,
   "id": "discrete-penalty",
   "metadata": {},
   "outputs": [
    {
     "name": "stdout",
     "output_type": "stream",
     "text": [
      "log path: /tmp/tmp1daxlg4l/temp\n"
     ]
    },
    {
     "data": {
      "application/vnd.razorthink.run+monitor+json": "/tmp/tmp1daxlg4l/temp",
      "text/plain": [
       "<razor_tools.backend.ipython.mime.run_monitor.RunMonitor at 0x7f5270c08090>"
      ]
     },
     "metadata": {
      "application/vnd.razorthink.run+monitor+json": {
       "run_data": {
        "apm": [
         {
          "cpu_percent": 0,
          "cpu_time": 0,
          "name": "NonSparkPath_1",
          "real_mem": 157114368,
          "time": 1616491658.5577838
         },
         {
          "cpu_percent": 0,
          "cpu_time": 0.03,
          "name": "NonSparkPath_1",
          "real_mem": 157220864,
          "time": 1616491658.6709979
         },
         {
          "cpu_percent": 0,
          "cpu_time": 0.04,
          "name": "NonSparkPath_1",
          "real_mem": 157691904,
          "time": 1616491658.7858078
         },
         {
          "cpu_percent": 0,
          "cpu_time": 0.04,
          "name": "NonSparkPath_1",
          "real_mem": 157691904,
          "time": 1616491658.898269
         },
         {
          "cpu_percent": 0,
          "cpu_time": 0.01,
          "name": "CustMercTS_1",
          "real_mem": 157835264,
          "time": 1616491658.8402958
         },
         {
          "cpu_percent": 0,
          "cpu_time": 0.02,
          "name": "ProdTypeTS_1",
          "real_mem": 157859840,
          "time": 1616491658.8672636
         },
         {
          "cpu_percent": 0,
          "cpu_time": 0.02,
          "name": "TranCityTS_1",
          "real_mem": 157929472,
          "time": 1616491658.8814378
         },
         {
          "cpu_percent": 0,
          "cpu_time": 0.02,
          "name": "SparkConcat_1",
          "real_mem": 158068736,
          "time": 1616491658.8951042
         },
         {
          "cpu_percent": 0,
          "cpu_time": 0.03,
          "name": "SparkConcat_2",
          "real_mem": 158216192,
          "time": 1616491658.9092145
         },
         {
          "cpu_percent": 0,
          "cpu_time": 0.04,
          "name": "MercStatic_1",
          "real_mem": 158343168,
          "time": 1616491658.9225316
         },
         {
          "cpu_percent": 0,
          "cpu_time": 0.04,
          "name": "ReadCsvProjectSpace_1",
          "real_mem": 158539776,
          "time": 1616491658.9400988
         },
         {
          "cpu_percent": 0,
          "cpu_time": 0.05,
          "name": "TranTypeTS_1",
          "real_mem": 158670848,
          "time": 1616491658.9768724
         },
         {
          "cpu_percent": 0,
          "cpu_time": 0.05,
          "name": "CustStatic_1",
          "real_mem": 158539776,
          "time": 1616491658.96295
         },
         {
          "cpu_percent": 0,
          "cpu_time": 0.05,
          "name": "NonSparkPath_1",
          "real_mem": 157691904,
          "time": 1616491659.0104468
         },
         {
          "cpu_percent": 0,
          "cpu_time": 0.05,
          "name": "CustMercTS_1",
          "real_mem": 158670848,
          "time": 1616491658.9898696
         },
         {
          "cpu_percent": 0,
          "cpu_time": 0.05,
          "name": "ProdTypeTS_1",
          "real_mem": 158670848,
          "time": 1616491659.0012295
         },
         {
          "cpu_percent": 0,
          "cpu_time": 0.06,
          "name": "TranCityTS_1",
          "real_mem": 158720000,
          "time": 1616491659.014625
         },
         {
          "cpu_percent": 0,
          "cpu_time": 0.07,
          "name": "SparkConcat_1",
          "real_mem": 158720000,
          "time": 1616491659.0262218
         },
         {
          "cpu_percent": 0,
          "cpu_time": 0.07,
          "name": "SparkConcat_2",
          "real_mem": 158720000,
          "time": 1616491659.0397775
         },
         {
          "cpu_percent": 0,
          "cpu_time": 0.07,
          "name": "MercStatic_1",
          "real_mem": 158720000,
          "time": 1616491659.051309
         },
         {
          "cpu_percent": 97.7,
          "cpu_time": 0.08,
          "name": "ReadCsvProjectSpace_1",
          "real_mem": 158720000,
          "time": 1616491659.064486
         },
         {
          "cpu_percent": 0,
          "cpu_time": 0.08,
          "name": "CustStatic_1",
          "real_mem": 158720000,
          "time": 1616491659.0773559
         },
         {
          "cpu_percent": 0,
          "cpu_time": 0.1,
          "name": "TranTypeTS_1",
          "real_mem": 159780864,
          "time": 1616491659.1084945
         },
         {
          "cpu_percent": 97.9,
          "cpu_time": 0.13,
          "name": "CustMercTS_1",
          "real_mem": 163250176,
          "time": 1616491659.1334033
         },
         {
          "cpu_percent": 98.3,
          "cpu_time": 0.15,
          "name": "ProdTypeTS_1",
          "real_mem": 184979456,
          "time": 1616491659.176877
         },
         {
          "cpu_percent": 98.5,
          "cpu_time": 0.2,
          "name": "TranCityTS_1",
          "real_mem": 188895232,
          "time": 1616491659.2211542
         },
         {
          "cpu_percent": 294.6,
          "cpu_time": 0.26,
          "name": "SparkConcat_1",
          "real_mem": 195248128,
          "time": 1616491659.2653012
         },
         {
          "cpu_percent": 97.8,
          "cpu_time": 0.31,
          "name": "SparkConcat_2",
          "real_mem": 202588160,
          "time": 1616491659.3094428
         },
         {
          "cpu_percent": 192,
          "cpu_time": 0.37,
          "name": "MercStatic_1",
          "real_mem": 212852736,
          "time": 1616491659.391977
         },
         {
          "cpu_percent": 0,
          "cpu_time": 0.15,
          "name": "CustStatic_1",
          "real_mem": 163254272,
          "time": 1616491659.4932222
         },
         {
          "cpu_percent": 98.3,
          "cpu_time": 0.18,
          "name": "TranTypeTS_1",
          "real_mem": 178925568,
          "time": 1616491659.5166597
         },
         {
          "cpu_percent": 0,
          "cpu_time": 0.2,
          "name": "CustMercTS_1",
          "real_mem": 180744192,
          "time": 1616491659.539267
         },
         {
          "cpu_percent": 97.5,
          "cpu_time": 0.23,
          "name": "ProdTypeTS_1",
          "real_mem": 181616640,
          "time": 1616491659.5704165
         },
         {
          "cpu_percent": 197.4,
          "cpu_time": 0.27,
          "name": "TranCityTS_1",
          "real_mem": 184434688,
          "time": 1616491659.5925496
         },
         {
          "cpu_percent": 97.6,
          "cpu_time": 0.31,
          "name": "SparkConcat_1",
          "real_mem": 190541824,
          "time": 1616491659.6150858
         },
         {
          "cpu_percent": 196.5,
          "cpu_time": 0.35,
          "name": "SparkConcat_2",
          "real_mem": 197537792,
          "time": 1616491659.6698203
         },
         {
          "cpu_percent": 98.3,
          "cpu_time": 0.43000000000000005,
          "name": "ReadCsvProjectSpace_1",
          "real_mem": 214880256,
          "time": 1616491659.4590464
         },
         {
          "cpu_percent": 0,
          "cpu_time": 0.38,
          "name": "MercStatic_1",
          "real_mem": 205459456,
          "time": 1616491659.6938722
         },
         {
          "cpu_percent": 296.1,
          "cpu_time": 0.44999999999999996,
          "name": "ReadCsvProjectSpace_1",
          "real_mem": 212598784,
          "time": 1616491659.7706325
         },
         {
          "cpu_percent": 295.1,
          "cpu_time": 0.49,
          "name": "CustStatic_1",
          "real_mem": 215990272,
          "time": 1616491659.7928975
         },
         {
          "cpu_percent": 98.4,
          "cpu_time": 0.54,
          "name": "TranTypeTS_1",
          "real_mem": 218501120,
          "time": 1616491659.8715959
         },
         {
          "cpu_percent": 295.2,
          "cpu_time": 0.59,
          "name": "CustMercTS_1",
          "real_mem": 222879744,
          "time": 1616491659.8941808
         },
         {
          "cpu_percent": 195.8,
          "cpu_time": 0.65,
          "name": "ProdTypeTS_1",
          "real_mem": 226701312,
          "time": 1616491659.9718618
         },
         {
          "cpu_percent": 97.5,
          "cpu_time": 0.68,
          "name": "TranCityTS_1",
          "real_mem": 229490688,
          "time": 1616491660.0482712
         },
         {
          "cpu_percent": 294.2,
          "cpu_time": 0.75,
          "name": "SparkConcat_1",
          "real_mem": 232013824,
          "time": 1616491660.071423
         },
         {
          "cpu_percent": 0,
          "cpu_time": 0.77,
          "name": "SparkConcat_2",
          "real_mem": 234303488,
          "time": 1616491660.0939045
         },
         {
          "cpu_percent": 97.7,
          "cpu_time": 0.8,
          "name": "MercStatic_1",
          "real_mem": 240791552,
          "time": 1616491660.1708987
         },
         {
          "cpu_percent": 98,
          "cpu_time": 0.8300000000000001,
          "name": "ReadCsvProjectSpace_1",
          "real_mem": 243765248,
          "time": 1616491660.1934102
         },
         {
          "cpu_percent": 98.4,
          "cpu_time": 0.8600000000000001,
          "name": "CustStatic_1",
          "real_mem": 245153792,
          "time": 1616491660.2166588
         },
         {
          "cpu_percent": 30.4,
          "cpu_time": 0.96,
          "name": "CustMercTS_1",
          "real_mem": 247316480,
          "time": 1616491660.3484144
         },
         {
          "cpu_percent": 97.9,
          "cpu_time": 0.9099999999999999,
          "name": "TranTypeTS_1",
          "real_mem": 245964800,
          "time": 1616491660.2703655
         },
         {
          "cpu_percent": 196,
          "cpu_time": 1,
          "name": "ProdTypeTS_1",
          "real_mem": 250032128,
          "time": 1616491660.3720748
         },
         {
          "cpu_percent": 98.3,
          "cpu_time": 1.04,
          "name": "TranCityTS_1",
          "real_mem": 255336448,
          "time": 1616491660.394524
         },
         {
          "cpu_percent": 0,
          "cpu_time": 1.05,
          "name": "SparkConcat_1",
          "real_mem": 255422464,
          "time": 1616491660.4168582
         },
         {
          "cpu_percent": 98.3,
          "cpu_time": 1.09,
          "name": "SparkConcat_2",
          "real_mem": 256229376,
          "time": 1616491660.471782
         },
         {
          "cpu_percent": 293.9,
          "cpu_time": 1.19,
          "name": "CustStatic_1",
          "real_mem": 257044480,
          "time": 1616491660.570331
         },
         {
          "cpu_percent": 96.3,
          "cpu_time": 1.11,
          "name": "MercStatic_1",
          "real_mem": 256499712,
          "time": 1616491660.494056
         },
         {
          "cpu_percent": 97.9,
          "cpu_time": 1.14,
          "name": "ReadCsvProjectSpace_1",
          "real_mem": 256770048,
          "time": 1616491660.516302
         },
         {
          "cpu_percent": 85.8,
          "cpu_time": 1.22,
          "name": "TranTypeTS_1",
          "real_mem": 257556480,
          "time": 1616491660.595097
         },
         {
          "cpu_percent": 0,
          "cpu_time": 1.24,
          "name": "CustMercTS_1",
          "real_mem": 257556480,
          "time": 1616491660.617758
         },
         {
          "cpu_percent": 0,
          "cpu_time": 1.24,
          "name": "ProdTypeTS_1",
          "real_mem": 257556480,
          "time": 1616491660.640089
         },
         {
          "cpu_percent": 97,
          "cpu_time": 1.27,
          "name": "TranCityTS_1",
          "real_mem": 257822720,
          "time": 1616491660.670394
         },
         {
          "cpu_percent": 98.6,
          "cpu_time": 1.31,
          "name": "SparkConcat_1",
          "real_mem": 258203648,
          "time": 1616491660.6927774
         },
         {
          "cpu_percent": 46.5,
          "cpu_time": 1.34,
          "name": "SparkConcat_2",
          "real_mem": 258281472,
          "time": 1616491660.74884
         },
         {
          "cpu_percent": 294.5,
          "cpu_time": 1.39,
          "name": "MercStatic_1",
          "real_mem": 259076096,
          "time": 1616491660.7714272
         },
         {
          "cpu_percent": 0,
          "cpu_time": 1.43,
          "name": "ReadCsvProjectSpace_1",
          "real_mem": 259457024,
          "time": 1616491660.7946692
         },
         {
          "cpu_percent": 196.4,
          "cpu_time": 1.48,
          "name": "CustStatic_1",
          "real_mem": 259457024,
          "time": 1616491660.8726513
         },
         {
          "cpu_percent": 15.7,
          "cpu_time": 1.53,
          "name": "TranTypeTS_1",
          "real_mem": 259805184,
          "time": 1616491660.9493682
         },
         {
          "cpu_percent": 194.4,
          "cpu_time": 1.57,
          "name": "CustMercTS_1",
          "real_mem": 260620288,
          "time": 1616491660.9717817
         },
         {
          "cpu_percent": 0,
          "cpu_time": 1.59,
          "name": "ProdTypeTS_1",
          "real_mem": 260620288,
          "time": 1616491660.993845
         },
         {
          "cpu_percent": 98.5,
          "cpu_time": 1.61,
          "name": "TranCityTS_1",
          "real_mem": 260239360,
          "time": 1616491661.0707192
         },
         {
          "cpu_percent": 96.5,
          "cpu_time": 1.64,
          "name": "SparkConcat_1",
          "real_mem": 268886016,
          "time": 1616491661.094683
         },
         {
          "cpu_percent": 98.3,
          "cpu_time": 1.69,
          "name": "MercStatic_1",
          "real_mem": 274046976,
          "time": 1616491661.170845
         },
         {
          "cpu_percent": 0,
          "cpu_time": 1.65,
          "name": "SparkConcat_2",
          "real_mem": 273780736,
          "time": 1616491661.1167912
         },
         {
          "cpu_percent": 98.5,
          "cpu_time": 1.72,
          "name": "ReadCsvProjectSpace_1",
          "real_mem": 274440192,
          "time": 1616491661.1941948
         },
         {
          "cpu_percent": 23.8,
          "cpu_time": 1.76,
          "name": "CustStatic_1",
          "real_mem": 275058688,
          "time": 1616491661.2484543
         },
         {
          "cpu_percent": 98.2,
          "cpu_time": 1.79,
          "name": "TranTypeTS_1",
          "real_mem": 276762624,
          "time": 1616491661.2707567
         },
         {
          "cpu_percent": 196.5,
          "cpu_time": 1.82,
          "name": "CustMercTS_1",
          "real_mem": 280354816,
          "time": 1616491661.2936034
         },
         {
          "cpu_percent": 0,
          "cpu_time": 1.85,
          "name": "ProdTypeTS_1",
          "real_mem": 280477696,
          "time": 1616491661.3483453
         },
         {
          "cpu_percent": 98.2,
          "cpu_time": 1.8800000000000001,
          "name": "TranCityTS_1",
          "real_mem": 281059328,
          "time": 1616491661.3705144
         },
         {
          "cpu_percent": 197.1,
          "cpu_time": 1.92,
          "name": "SparkConcat_1",
          "real_mem": 281903104,
          "time": 1616491661.3933108
         },
         {
          "cpu_percent": 0,
          "cpu_time": 1.95,
          "name": "SparkConcat_2",
          "real_mem": 282025984,
          "time": 1616491661.448519
         },
         {
          "cpu_percent": 98.3,
          "cpu_time": 1.98,
          "name": "MercStatic_1",
          "real_mem": 282292224,
          "time": 1616491661.4712045
         },
         {
          "cpu_percent": 98.3,
          "cpu_time": 2.02,
          "name": "ReadCsvProjectSpace_1",
          "real_mem": 282578944,
          "time": 1616491661.49381
         },
         {
          "cpu_percent": 195.5,
          "cpu_time": 2.06,
          "name": "CustStatic_1",
          "real_mem": 283045888,
          "time": 1616491661.5594368
         },
         {
          "cpu_percent": 196.5,
          "cpu_time": 2.1,
          "name": "TranTypeTS_1",
          "real_mem": 283279360,
          "time": 1616491661.582172
         },
         {
          "cpu_percent": 97.6,
          "cpu_time": 2.12,
          "name": "CustMercTS_1",
          "real_mem": 283820032,
          "time": 1616491661.6481667
         },
         {
          "cpu_percent": 98.8,
          "cpu_time": 2.16,
          "name": "ProdTypeTS_1",
          "real_mem": 284155904,
          "time": 1616491661.670888
         },
         {
          "cpu_percent": 196.9,
          "cpu_time": 2.21,
          "name": "TranCityTS_1",
          "real_mem": 284741632,
          "time": 1616491661.6936853
         },
         {
          "cpu_percent": 0,
          "cpu_time": 2.2199999999999998,
          "name": "SparkConcat_1",
          "real_mem": 284872704,
          "time": 1616491661.7483609
         },
         {
          "cpu_percent": 286.7,
          "cpu_time": 2.27,
          "name": "SparkConcat_2",
          "real_mem": 285179904,
          "time": 1616491661.7716298
         },
         {
          "cpu_percent": 94.3,
          "cpu_time": 2.3,
          "name": "MercStatic_1",
          "real_mem": 285982720,
          "time": 1616491661.795225
         },
         {
          "cpu_percent": 196.8,
          "cpu_time": 2.36,
          "name": "CustStatic_1",
          "real_mem": 286339072,
          "time": 1616491661.8709133
         },
         {
          "cpu_percent": 0,
          "cpu_time": 2.31,
          "name": "ReadCsvProjectSpace_1",
          "real_mem": 286134272,
          "time": 1616491661.8178039
         },
         {
          "cpu_percent": 97.5,
          "cpu_time": 2.42,
          "name": "TranTypeTS_1",
          "real_mem": 287158272,
          "time": 1616491661.894885
         },
         {
          "cpu_percent": 95.2,
          "cpu_time": 2.46,
          "name": "CustMercTS_1",
          "real_mem": 287461376,
          "time": 1616491661.9698632
         },
         {
          "cpu_percent": 96.6,
          "cpu_time": 2.49,
          "name": "ProdTypeTS_1",
          "real_mem": 287682560,
          "time": 1616491661.9922447
         },
         {
          "cpu_percent": 195.5,
          "cpu_time": 2.55,
          "name": "TranCityTS_1",
          "real_mem": 288538624,
          "time": 1616491662.0708427
         },
         {
          "cpu_percent": 196.3,
          "cpu_time": 2.5999999999999996,
          "name": "SparkConcat_1",
          "real_mem": 289181696,
          "time": 1616491662.0934918
         },
         {
          "cpu_percent": 0,
          "cpu_time": 2.61,
          "name": "SparkConcat_2",
          "real_mem": 289181696,
          "time": 1616491662.1487074
         },
         {
          "cpu_percent": 98.5,
          "cpu_time": 2.63,
          "name": "MercStatic_1",
          "real_mem": 289447936,
          "time": 1616491662.1707714
         },
         {
          "cpu_percent": 96.6,
          "cpu_time": 2.6599999999999997,
          "name": "ReadCsvProjectSpace_1",
          "real_mem": 289894400,
          "time": 1616491662.19307
         },
         {
          "cpu_percent": 195.7,
          "cpu_time": 2.71,
          "name": "CustStatic_1",
          "real_mem": 290238464,
          "time": 1616491662.215747
         },
         {
          "cpu_percent": 196.4,
          "cpu_time": 2.75,
          "name": "TranTypeTS_1",
          "real_mem": 290340864,
          "time": 1616491662.271041
         },
         {
          "cpu_percent": 98.4,
          "cpu_time": 2.79,
          "name": "ProdTypeTS_1",
          "real_mem": 292384768,
          "time": 1616491662.3158886
         },
         {
          "cpu_percent": 98.3,
          "cpu_time": 2.77,
          "name": "CustMercTS_1",
          "real_mem": 291037184,
          "time": 1616491662.2937353
         },
         {
          "cpu_percent": 196.8,
          "cpu_time": 2.8499999999999996,
          "name": "SparkConcat_1",
          "real_mem": 293052416,
          "time": 1616491662.393755
         },
         {
          "cpu_percent": 195.6,
          "cpu_time": 2.82,
          "name": "TranCityTS_1",
          "real_mem": 292667392,
          "time": 1616491662.3713
         },
         {
          "cpu_percent": 96.8,
          "cpu_time": 2.9,
          "name": "SparkConcat_2",
          "real_mem": 293318656,
          "time": 1616491662.4168746
         },
         {
          "cpu_percent": 0,
          "cpu_time": 2.98,
          "name": "CustStatic_1",
          "real_mem": 294051840,
          "time": 1616491662.5146368
         },
         {
          "cpu_percent": 296.1,
          "cpu_time": 2.96,
          "name": "ReadCsvProjectSpace_1",
          "real_mem": 293994496,
          "time": 1616491662.492239
         },
         {
          "cpu_percent": 98,
          "cpu_time": 2.92,
          "name": "MercStatic_1",
          "real_mem": 293588992,
          "time": 1616491662.469613
         },
         {
          "cpu_percent": 196,
          "cpu_time": 3.04,
          "name": "CustMercTS_1",
          "real_mem": 294408192,
          "time": 1616491662.580896
         },
         {
          "cpu_percent": 196.2,
          "cpu_time": 3,
          "name": "TranTypeTS_1",
          "real_mem": 294051840,
          "time": 1616491662.5589948
         },
         {
          "cpu_percent": 196.8,
          "cpu_time": 3.08,
          "name": "ProdTypeTS_1",
          "real_mem": 294825984,
          "time": 1616491662.6482515
         },
         {
          "cpu_percent": 197.4,
          "cpu_time": 3.1199999999999997,
          "name": "TranCityTS_1",
          "real_mem": 295145472,
          "time": 1616491662.6703708
         },
         {
          "cpu_percent": 98.2,
          "cpu_time": 3.1399999999999997,
          "name": "SparkConcat_1",
          "real_mem": 295411712,
          "time": 1616491662.6927075
         },
         {
          "cpu_percent": 0,
          "cpu_time": 3.17,
          "name": "SparkConcat_2",
          "real_mem": 296329216,
          "time": 1616491662.7160964
         },
         {
          "cpu_percent": 196.3,
          "cpu_time": 3.2,
          "name": "MercStatic_1",
          "real_mem": 296697856,
          "time": 1616491662.7710674
         },
         {
          "cpu_percent": 196.3,
          "cpu_time": 3.25,
          "name": "ReadCsvProjectSpace_1",
          "real_mem": 297365504,
          "time": 1616491662.7944434
         },
         {
          "cpu_percent": 0,
          "cpu_time": 3.27,
          "name": "CustStatic_1",
          "real_mem": 297410560,
          "time": 1616491662.8170364
         },
         {
          "cpu_percent": 295.5,
          "cpu_time": 3.33,
          "name": "TranTypeTS_1",
          "real_mem": 297975808,
          "time": 1616491662.8707674
         },
         {
          "cpu_percent": 0,
          "cpu_time": 3.36,
          "name": "CustMercTS_1",
          "real_mem": 297975808,
          "time": 1616491662.8933306
         },
         {
          "cpu_percent": 0,
          "cpu_time": 3.3899999999999997,
          "name": "ProdTypeTS_1",
          "real_mem": 298385408,
          "time": 1616491662.9717247
         },
         {
          "cpu_percent": 97.8,
          "cpu_time": 3.4099999999999997,
          "name": "TranCityTS_1",
          "real_mem": 298745856,
          "time": 1616491662.9938676
         },
         {
          "cpu_percent": 293.6,
          "cpu_time": 3.5100000000000002,
          "name": "SparkConcat_2",
          "real_mem": 298962944,
          "time": 1616491663.0702817
         },
         {
          "cpu_percent": 0,
          "cpu_time": 3.55,
          "name": "MercStatic_1",
          "real_mem": 299307008,
          "time": 1616491663.0925317
         },
         {
          "cpu_percent": 0,
          "cpu_time": 3.44,
          "name": "SparkConcat_1",
          "real_mem": 298745856,
          "time": 1616491663.0162747
         },
         {
          "cpu_percent": 98.3,
          "cpu_time": 3.58,
          "name": "ReadCsvProjectSpace_1",
          "real_mem": 299937792,
          "time": 1616491663.1710567
         },
         {
          "cpu_percent": 196.1,
          "cpu_time": 3.6799999999999997,
          "name": "TranTypeTS_1",
          "real_mem": 300650496,
          "time": 1616491663.2701254
         },
         {
          "cpu_percent": 195.7,
          "cpu_time": 3.73,
          "name": "CustMercTS_1",
          "real_mem": 300650496,
          "time": 1616491663.2924652
         },
         {
          "cpu_percent": 296.1,
          "cpu_time": 3.64,
          "name": "CustStatic_1",
          "real_mem": 300249088,
          "time": 1616491663.1932101
         },
         {
          "cpu_percent": 394.8,
          "cpu_time": 3.8000000000000003,
          "name": "ProdTypeTS_1",
          "real_mem": 300724224,
          "time": 1616491663.3706388
         },
         {
          "cpu_percent": 0,
          "cpu_time": 3.83,
          "name": "TranCityTS_1",
          "real_mem": 300773376,
          "time": 1616491663.448418
         },
         {
          "cpu_percent": 196.7,
          "cpu_time": 3.8800000000000003,
          "name": "SparkConcat_1",
          "real_mem": 301256704,
          "time": 1616491663.4708073
         },
         {
          "cpu_percent": 98.4,
          "cpu_time": 3.92,
          "name": "SparkConcat_2",
          "real_mem": 301273088,
          "time": 1616491663.493235
         },
         {
          "cpu_percent": 194.6,
          "cpu_time": 3.97,
          "name": "MercStatic_1",
          "real_mem": 301809664,
          "time": 1616491663.570142
         },
         {
          "cpu_percent": 98.3,
          "cpu_time": 4.01,
          "name": "ReadCsvProjectSpace_1",
          "real_mem": 301334528,
          "time": 1616491663.5925007
         },
         {
          "cpu_percent": 98.2,
          "cpu_time": 4.09,
          "name": "TranTypeTS_1",
          "real_mem": 301981696,
          "time": 1616491663.6931276
         },
         {
          "cpu_percent": 96.5,
          "cpu_time": 4.05,
          "name": "CustStatic_1",
          "real_mem": 301711360,
          "time": 1616491663.670967
         },
         {
          "cpu_percent": 97.7,
          "cpu_time": 4.11,
          "name": "CustMercTS_1",
          "real_mem": 303509504,
          "time": 1616491663.716183
         },
         {
          "cpu_percent": 98.2,
          "cpu_time": 4.14,
          "name": "ProdTypeTS_1",
          "real_mem": 303775744,
          "time": 1616491663.770164
         },
         {
          "cpu_percent": 0,
          "cpu_time": 4.21,
          "name": "SparkConcat_1",
          "real_mem": 304336896,
          "time": 1616491663.8166232
         },
         {
          "cpu_percent": 357.7,
          "cpu_time": 4.2,
          "name": "TranCityTS_1",
          "real_mem": 304017408,
          "time": 1616491663.7945075
         },
         {
          "cpu_percent": 98.5,
          "cpu_time": 4.25,
          "name": "SparkConcat_2",
          "real_mem": 305246208,
          "time": 1616491663.8770077
         },
         {
          "cpu_percent": 196.7,
          "cpu_time": 4.28,
          "name": "MercStatic_1",
          "real_mem": 305643520,
          "time": 1616491663.898947
         },
         {
          "cpu_percent": 0,
          "cpu_time": 4.3100000000000005,
          "name": "ReadCsvProjectSpace_1",
          "real_mem": 305717248,
          "time": 1616491663.9211433
         },
         {
          "cpu_percent": 197.2,
          "cpu_time": 4.3500000000000005,
          "name": "CustStatic_1",
          "real_mem": 305717248,
          "time": 1616491663.9704804
         },
         {
          "cpu_percent": 98.4,
          "cpu_time": 4.38,
          "name": "TranTypeTS_1",
          "real_mem": 306135040,
          "time": 1616491663.9931493
         },
         {
          "cpu_percent": 0,
          "cpu_time": 4.4,
          "name": "CustMercTS_1",
          "real_mem": 306176000,
          "time": 1616491664.0160522
         },
         {
          "cpu_percent": 196.7,
          "cpu_time": 4.44,
          "name": "ProdTypeTS_1",
          "real_mem": 306761728,
          "time": 1616491664.0708902
         },
         {
          "cpu_percent": 196.8,
          "cpu_time": 4.47,
          "name": "TranCityTS_1",
          "real_mem": 306847744,
          "time": 1616491664.0930417
         },
         {
          "cpu_percent": 45.7,
          "cpu_time": 4.5,
          "name": "SparkConcat_1",
          "real_mem": 307113984,
          "time": 1616491664.1493964
         },
         {
          "cpu_percent": 191,
          "cpu_time": 4.529999999999999,
          "name": "SparkConcat_2",
          "real_mem": 307896320,
          "time": 1616491664.1726258
         },
         {
          "cpu_percent": 197,
          "cpu_time": 4.569999999999999,
          "name": "MercStatic_1",
          "real_mem": 308568064,
          "time": 1616491664.1947665
         },
         {
          "cpu_percent": 0,
          "cpu_time": 4.58,
          "name": "ReadCsvProjectSpace_1",
          "real_mem": 308621312,
          "time": 1616491664.2176325
         },
         {
          "cpu_percent": 196.9,
          "cpu_time": 4.74,
          "name": "CustMercTS_1",
          "real_mem": 310714368,
          "time": 1616491664.3702903
         },
         {
          "cpu_percent": 195.9,
          "cpu_time": 4.68,
          "name": "TranTypeTS_1",
          "real_mem": 310173696,
          "time": 1616491664.2927365
         },
         {
          "cpu_percent": 196.7,
          "cpu_time": 4.630000000000001,
          "name": "CustStatic_1",
          "real_mem": 309911552,
          "time": 1616491664.270246
         },
         {
          "cpu_percent": 196.7,
          "cpu_time": 4.8,
          "name": "ProdTypeTS_1",
          "real_mem": 311599104,
          "time": 1616491664.4587934
         },
         {
          "cpu_percent": 294.3,
          "cpu_time": 4.8500000000000005,
          "name": "TranCityTS_1",
          "real_mem": 311599104,
          "time": 1616491664.4812884
         },
         {
          "cpu_percent": 0,
          "cpu_time": 4.87,
          "name": "SparkConcat_1",
          "real_mem": 311975936,
          "time": 1616491664.5046325
         },
         {
          "cpu_percent": 294.1,
          "cpu_time": 4.92,
          "name": "SparkConcat_2",
          "real_mem": 309170176,
          "time": 1616491664.5706923
         },
         {
          "cpu_percent": 98.6,
          "cpu_time": 5,
          "name": "ReadCsvProjectSpace_1",
          "real_mem": 310509568,
          "time": 1616491664.6705978
         },
         {
          "cpu_percent": 195.9,
          "cpu_time": 4.96,
          "name": "MercStatic_1",
          "real_mem": 309596160,
          "time": 1616491664.593152
         },
         {
          "cpu_percent": 97.7,
          "cpu_time": 5.02,
          "name": "CustStatic_1",
          "real_mem": 311042048,
          "time": 1616491664.6948416
         },
         {
          "cpu_percent": 97.9,
          "cpu_time": 5.05,
          "name": "TranTypeTS_1",
          "real_mem": 311308288,
          "time": 1616491664.7182138
         },
         {
          "cpu_percent": 98.1,
          "cpu_time": 5.08,
          "name": "CustMercTS_1",
          "real_mem": 311869440,
          "time": 1616491664.7706854
         },
         {
          "cpu_percent": 196.6,
          "cpu_time": 5.12,
          "name": "ProdTypeTS_1",
          "real_mem": 312336384,
          "time": 1616491664.793774
         },
         {
          "cpu_percent": 98,
          "cpu_time": 5.1499999999999995,
          "name": "TranCityTS_1",
          "real_mem": 312893440,
          "time": 1616491664.8591292
         },
         {
          "cpu_percent": 196.7,
          "cpu_time": 5.1899999999999995,
          "name": "SparkConcat_1",
          "real_mem": 313159680,
          "time": 1616491664.881143
         },
         {
          "cpu_percent": 98.4,
          "cpu_time": 5.210000000000001,
          "name": "SparkConcat_2",
          "real_mem": 313315328,
          "time": 1616491664.9031515
         },
         {
          "cpu_percent": 294.3,
          "cpu_time": 5.25,
          "name": "MercStatic_1",
          "real_mem": 313532416,
          "time": 1616491664.9253042
         },
         {
          "cpu_percent": 196.7,
          "cpu_time": 5.289999999999999,
          "name": "ReadCsvProjectSpace_1",
          "real_mem": 314056704,
          "time": 1616491664.9714236
         },
         {
          "cpu_percent": 196.4,
          "cpu_time": 5.33,
          "name": "CustStatic_1",
          "real_mem": 314392576,
          "time": 1616491664.9944663
         },
         {
          "cpu_percent": 0,
          "cpu_time": 5.33,
          "name": "TranTypeTS_1",
          "real_mem": 314658816,
          "time": 1616491665.0486996
         },
         {
          "cpu_percent": 196.4,
          "cpu_time": 5.37,
          "name": "CustMercTS_1",
          "real_mem": 314925056,
          "time": 1616491665.0708191
         },
         {
          "cpu_percent": 196.3,
          "cpu_time": 5.42,
          "name": "ProdTypeTS_1",
          "real_mem": 316125184,
          "time": 1616491665.0933676
         },
         {
          "cpu_percent": 0,
          "cpu_time": 5.43,
          "name": "TranCityTS_1",
          "real_mem": 316125184,
          "time": 1616491665.116889
         },
         {
          "cpu_percent": 195,
          "cpu_time": 5.48,
          "name": "SparkConcat_1",
          "real_mem": 319049728,
          "time": 1616491665.1713035
         },
         {
          "cpu_percent": 193.6,
          "cpu_time": 5.53,
          "name": "SparkConcat_2",
          "real_mem": 320827392,
          "time": 1616491665.193678
         },
         {
          "cpu_percent": 196,
          "cpu_time": 5.58,
          "name": "MercStatic_1",
          "real_mem": 321196032,
          "time": 1616491665.2714846
         },
         {
          "cpu_percent": 98,
          "cpu_time": 5.609999999999999,
          "name": "ReadCsvProjectSpace_1",
          "real_mem": 322002944,
          "time": 1616491665.2944129
         },
         {
          "cpu_percent": 0,
          "cpu_time": 5.630000000000001,
          "name": "CustStatic_1",
          "real_mem": 323895296,
          "time": 1616491665.317988
         },
         {
          "cpu_percent": 196.9,
          "cpu_time": 5.699999999999999,
          "name": "CustMercTS_1",
          "real_mem": 324706304,
          "time": 1616491665.3935585
         },
         {
          "cpu_percent": 196.6,
          "cpu_time": 5.66,
          "name": "TranTypeTS_1",
          "real_mem": 324214784,
          "time": 1616491665.371082
         },
         {
          "cpu_percent": 98.6,
          "cpu_time": 5.73,
          "name": "ProdTypeTS_1",
          "real_mem": 325197824,
          "time": 1616491665.4593084
         },
         {
          "cpu_percent": 0,
          "cpu_time": 5.78,
          "name": "SparkConcat_1",
          "real_mem": 325832704,
          "time": 1616491665.503782
         },
         {
          "cpu_percent": 98.1,
          "cpu_time": 5.82,
          "name": "SparkConcat_2",
          "real_mem": 326160384,
          "time": 1616491665.526211
         },
         {
          "cpu_percent": 98.3,
          "cpu_time": 5.75,
          "name": "TranCityTS_1",
          "real_mem": 325677056,
          "time": 1616491665.4816303
         },
         {
          "cpu_percent": 193.6,
          "cpu_time": 5.96,
          "name": "TranTypeTS_1",
          "real_mem": 328814592,
          "time": 1616491665.670467
         },
         {
          "cpu_percent": 196.4,
          "cpu_time": 6.01,
          "name": "CustMercTS_1",
          "real_mem": 328859648,
          "time": 1616491665.6935182
         },
         {
          "cpu_percent": 98.1,
          "cpu_time": 5.92,
          "name": "CustStatic_1",
          "real_mem": 327917568,
          "time": 1616491665.6166716
         },
         {
          "cpu_percent": 194.5,
          "cpu_time": 5.890000000000001,
          "name": "ReadCsvProjectSpace_1",
          "real_mem": 327827456,
          "time": 1616491665.5940306
         },
         {
          "cpu_percent": 98.1,
          "cpu_time": 5.86,
          "name": "MercStatic_1",
          "real_mem": 326426624,
          "time": 1616491665.5717485
         },
         {
          "cpu_percent": 190.8,
          "cpu_time": 6.06,
          "name": "ProdTypeTS_1",
          "real_mem": 329584640,
          "time": 1616491665.771945
         },
         {
          "cpu_percent": 98.2,
          "cpu_time": 6.1,
          "name": "TranCityTS_1",
          "real_mem": 329691136,
          "time": 1616491665.7941475
         },
         {
          "cpu_percent": 197.3,
          "cpu_time": 6.1499999999999995,
          "name": "SparkConcat_1",
          "real_mem": 330022912,
          "time": 1616491665.8704967
         },
         {
          "cpu_percent": 197,
          "cpu_time": 6.1899999999999995,
          "name": "SparkConcat_2",
          "real_mem": 330395648,
          "time": 1616491665.892314
         },
         {
          "cpu_percent": 195.7,
          "cpu_time": 6.25,
          "name": "MercStatic_1",
          "real_mem": 330395648,
          "time": 1616491665.9700084
         },
         {
          "cpu_percent": 196.2,
          "cpu_time": 6.31,
          "name": "ReadCsvProjectSpace_1",
          "real_mem": 331399168,
          "time": 1616491666.05915
         },
         {
          "cpu_percent": 190.4,
          "cpu_time": 6.34,
          "name": "CustStatic_1",
          "real_mem": 331796480,
          "time": 1616491666.081913
         },
         {
          "cpu_percent": 96.9,
          "cpu_time": 6.359999999999999,
          "name": "TranTypeTS_1",
          "real_mem": 332066816,
          "time": 1616491666.1044772
         },
         {
          "cpu_percent": 0,
          "cpu_time": 6.390000000000001,
          "name": "CustMercTS_1",
          "real_mem": 332333056,
          "time": 1616491666.1483555
         },
         {
          "cpu_percent": 196.5,
          "cpu_time": 6.430000000000001,
          "name": "ProdTypeTS_1",
          "real_mem": 332566528,
          "time": 1616491666.17067
         },
         {
          "cpu_percent": 294.5,
          "cpu_time": 6.470000000000001,
          "name": "TranCityTS_1",
          "real_mem": 332615680,
          "time": 1616491666.193241
         },
         {
          "cpu_percent": 0,
          "cpu_time": 6.48,
          "name": "SparkConcat_1",
          "real_mem": 332881920,
          "time": 1616491666.2167647
         },
         {
          "cpu_percent": 195.7,
          "cpu_time": 6.53,
          "name": "SparkConcat_2",
          "real_mem": 333172736,
          "time": 1616491666.270373
         },
         {
          "cpu_percent": 98.1,
          "cpu_time": 6.57,
          "name": "MercStatic_1",
          "real_mem": 333172736,
          "time": 1616491666.2929535
         },
         {
          "cpu_percent": 196.3,
          "cpu_time": 6.62,
          "name": "ReadCsvProjectSpace_1",
          "real_mem": 333316096,
          "time": 1616491666.3708162
         },
         {
          "cpu_percent": 197.5,
          "cpu_time": 6.67,
          "name": "CustStatic_1",
          "real_mem": 334057472,
          "time": 1616491666.3938496
         },
         {
          "cpu_percent": 196.1,
          "cpu_time": 6.76,
          "name": "CustMercTS_1",
          "real_mem": 334663680,
          "time": 1616491666.482307
         },
         {
          "cpu_percent": 290.5,
          "cpu_time": 6.71,
          "name": "TranTypeTS_1",
          "real_mem": 334221312,
          "time": 1616491666.4594843
         },
         {
          "cpu_percent": 97,
          "cpu_time": 6.77,
          "name": "ProdTypeTS_1",
          "real_mem": 340066304,
          "time": 1616491666.5049844
         },
         {
          "cpu_percent": 98.2,
          "cpu_time": 6.79,
          "name": "TranCityTS_1",
          "real_mem": 340324352,
          "time": 1616491666.5707936
         },
         {
          "cpu_percent": 98,
          "cpu_time": 6.83,
          "name": "SparkConcat_1",
          "real_mem": 341344256,
          "time": 1616491666.593191
         },
         {
          "cpu_percent": 98.2,
          "cpu_time": 6.9,
          "name": "MercStatic_1",
          "real_mem": 341602304,
          "time": 1616491666.67077
         },
         {
          "cpu_percent": 23.3,
          "cpu_time": 6.859999999999999,
          "name": "SparkConcat_2",
          "real_mem": 341348352,
          "time": 1616491666.6484601
         },
         {
          "cpu_percent": 98.3,
          "cpu_time": 6.92,
          "name": "ReadCsvProjectSpace_1",
          "real_mem": 341602304,
          "time": 1616491666.693313
         },
         {
          "cpu_percent": 195.6,
          "cpu_time": 6.95,
          "name": "CustStatic_1",
          "real_mem": 343085056,
          "time": 1616491666.7153213
         },
         {
          "cpu_percent": 294.3,
          "cpu_time": 7.010000000000001,
          "name": "TranTypeTS_1",
          "real_mem": 343724032,
          "time": 1616491666.7709785
         },
         {
          "cpu_percent": 98.2,
          "cpu_time": 7.050000000000001,
          "name": "CustMercTS_1",
          "real_mem": 344616960,
          "time": 1616491666.79325
         },
         {
          "cpu_percent": 294.5,
          "cpu_time": 7.11,
          "name": "ProdTypeTS_1",
          "real_mem": 344457216,
          "time": 1616491666.8703737
         },
         {
          "cpu_percent": 196.2,
          "cpu_time": 7.15,
          "name": "TranCityTS_1",
          "real_mem": 344952832,
          "time": 1616491666.8934104
         },
         {
          "cpu_percent": 196.3,
          "cpu_time": 7.2,
          "name": "SparkConcat_1",
          "real_mem": 345841664,
          "time": 1616491666.971289
         },
         {
          "cpu_percent": 15.6,
          "cpu_time": 7.24,
          "name": "SparkConcat_2",
          "real_mem": 346546176,
          "time": 1616491667.0485926
         },
         {
          "cpu_percent": 196.2,
          "cpu_time": 7.489999999999999,
          "name": "CustMercTS_1",
          "real_mem": 351313920,
          "time": 1616491667.271197
         },
         {
          "cpu_percent": 195.9,
          "cpu_time": 7.28,
          "name": "MercStatic_1",
          "real_mem": 347234304,
          "time": 1616491667.0709455
         },
         {
          "cpu_percent": 95.8,
          "cpu_time": 7.34,
          "name": "ReadCsvProjectSpace_1",
          "real_mem": 347758592,
          "time": 1616491667.0937715
         },
         {
          "cpu_percent": 195.9,
          "cpu_time": 7.39,
          "name": "CustStatic_1",
          "real_mem": 348663808,
          "time": 1616491667.169888
         },
         {
          "cpu_percent": 98.5,
          "cpu_time": 7.43,
          "name": "TranTypeTS_1",
          "real_mem": 350949376,
          "time": 1616491667.1924653
         },
         {
          "cpu_percent": 97.8,
          "cpu_time": 7.52,
          "name": "ProdTypeTS_1",
          "real_mem": 351936512,
          "time": 1616491667.2953622
         },
         {
          "cpu_percent": 196.2,
          "cpu_time": 7.57,
          "name": "TranCityTS_1",
          "real_mem": 355835904,
          "time": 1616491667.371414
         },
         {
          "cpu_percent": 195.3,
          "cpu_time": 7.619999999999999,
          "name": "SparkConcat_1",
          "real_mem": 356986880,
          "time": 1616491667.3944085
         },
         {
          "cpu_percent": 196.3,
          "cpu_time": 7.66,
          "name": "SparkConcat_2",
          "real_mem": 358690816,
          "time": 1616491667.4711041
         },
         {
          "cpu_percent": 196,
          "cpu_time": 7.81,
          "name": "CustStatic_1",
          "real_mem": 364851200,
          "time": 1616491667.6483185
         },
         {
          "cpu_percent": 196.7,
          "cpu_time": 7.709999999999999,
          "name": "MercStatic_1",
          "real_mem": 363212800,
          "time": 1616491667.4939373
         },
         {
          "cpu_percent": 196.3,
          "cpu_time": 7.76,
          "name": "ReadCsvProjectSpace_1",
          "real_mem": 364503040,
          "time": 1616491667.570379
         },
         {
          "cpu_percent": 196.6,
          "cpu_time": 7.88,
          "name": "TranTypeTS_1",
          "real_mem": 365023232,
          "time": 1616491667.6727269
         },
         {
          "cpu_percent": 0,
          "cpu_time": 8,
          "name": "ProdTypeTS_1",
          "real_mem": 366026752,
          "time": 1616491667.783578
         },
         {
          "cpu_percent": 0,
          "cpu_time": 8.11,
          "name": "SparkConcat_1",
          "real_mem": 367923200,
          "time": 1616491667.8920646
         },
         {
          "cpu_percent": 294.6,
          "cpu_time": 8.16,
          "name": "SparkConcat_2",
          "real_mem": 371478528,
          "time": 1616491667.971818
         },
         {
          "cpu_percent": 195.3,
          "cpu_time": 8.2,
          "name": "MercStatic_1",
          "real_mem": 372658176,
          "time": 1616491667.994293
         },
         {
          "cpu_percent": 295.3,
          "cpu_time": 8.08,
          "name": "TranCityTS_1",
          "real_mem": 367263744,
          "time": 1616491667.8696778
         },
         {
          "cpu_percent": 388.1,
          "cpu_time": 7.96,
          "name": "CustMercTS_1",
          "real_mem": 366026752,
          "time": 1616491667.760907
         },
         {
          "cpu_percent": 196.2,
          "cpu_time": 8.26,
          "name": "ReadCsvProjectSpace_1",
          "real_mem": 374005760,
          "time": 1616491668.0727167
         },
         {
          "cpu_percent": 0,
          "cpu_time": 8.28,
          "name": "CustStatic_1",
          "real_mem": 374464512,
          "time": 1616491668.0958219
         },
         {
          "cpu_percent": 272.4,
          "cpu_time": 8.35,
          "name": "TranTypeTS_1",
          "real_mem": 376676352,
          "time": 1616491668.1741602
         },
         {
          "cpu_percent": 178.7,
          "cpu_time": 8.45,
          "name": "ProdTypeTS_1",
          "real_mem": 377782272,
          "time": 1616491668.2738082
         },
         {
          "cpu_percent": 289.6,
          "cpu_time": 8.55,
          "name": "SparkConcat_1",
          "real_mem": 379809792,
          "time": 1616491668.371218
         },
         {
          "cpu_percent": 97.7,
          "cpu_time": 8.39,
          "name": "CustMercTS_1",
          "real_mem": 377294848,
          "time": 1616491668.1963038
         },
         {
          "cpu_percent": 15.9,
          "cpu_time": 8.49,
          "name": "TranCityTS_1",
          "real_mem": 377921536,
          "time": 1616491668.3484597
         },
         {
          "cpu_percent": 0,
          "cpu_time": 8.57,
          "name": "SparkConcat_2",
          "real_mem": 380854272,
          "time": 1616491668.395296
         },
         {
          "cpu_percent": 98.4,
          "cpu_time": 8.620000000000001,
          "name": "MercStatic_1",
          "real_mem": 381538304,
          "time": 1616491668.472827
         },
         {
          "cpu_percent": 195.9,
          "cpu_time": 8.66,
          "name": "ReadCsvProjectSpace_1",
          "real_mem": 381804544,
          "time": 1616491668.4948144
         },
         {
          "cpu_percent": 0,
          "cpu_time": 8.67,
          "name": "CustStatic_1",
          "real_mem": 381984768,
          "time": 1616491668.5171516
         },
         {
          "cpu_percent": 98,
          "cpu_time": 8.7,
          "name": "TranTypeTS_1",
          "real_mem": 382545920,
          "time": 1616491668.570371
         },
         {
          "cpu_percent": 98,
          "cpu_time": 8.73,
          "name": "CustMercTS_1",
          "real_mem": 382906368,
          "time": 1616491668.5926168
         },
         {
          "cpu_percent": 98.3,
          "cpu_time": 8.76,
          "name": "ProdTypeTS_1",
          "real_mem": 383434752,
          "time": 1616491668.616802
         },
         {
          "cpu_percent": 0,
          "cpu_time": 8.86,
          "name": "SparkConcat_2",
          "real_mem": 384679936,
          "time": 1616491668.7188158
         },
         {
          "cpu_percent": 196.5,
          "cpu_time": 8.799999999999999,
          "name": "TranCityTS_1",
          "real_mem": 383700992,
          "time": 1616491668.6711485
         },
         {
          "cpu_percent": 196.6,
          "cpu_time": 8.83,
          "name": "SparkConcat_1",
          "real_mem": 384507904,
          "time": 1616491668.696043
         },
         {
          "cpu_percent": 192.9,
          "cpu_time": 8.91,
          "name": "MercStatic_1",
          "real_mem": 384679936,
          "time": 1616491668.770764
         },
         {
          "cpu_percent": 196.5,
          "cpu_time": 8.95,
          "name": "ReadCsvProjectSpace_1",
          "real_mem": 384991232,
          "time": 1616491668.7937694
         },
         {
          "cpu_percent": 290.1,
          "cpu_time": 9.02,
          "name": "CustStatic_1",
          "real_mem": 385142784,
          "time": 1616491668.870007
         },
         {
          "cpu_percent": 0,
          "cpu_time": 9.05,
          "name": "TranTypeTS_1",
          "real_mem": 385953792,
          "time": 1616491668.8926158
         },
         {
          "cpu_percent": 97.3,
          "cpu_time": 9.149999999999999,
          "name": "ProdTypeTS_1",
          "real_mem": 386617344,
          "time": 1616491668.993307
         },
         {
          "cpu_percent": 294.4,
          "cpu_time": 9.100000000000001,
          "name": "CustMercTS_1",
          "real_mem": 386453504,
          "time": 1616491668.9708512
         },
         {
          "cpu_percent": 295.4,
          "cpu_time": 9.200000000000001,
          "name": "TranCityTS_1",
          "real_mem": 386920448,
          "time": 1616491669.0706296
         },
         {
          "cpu_percent": 195.7,
          "cpu_time": 9.25,
          "name": "SparkConcat_1",
          "real_mem": 387186688,
          "time": 1616491669.1481102
         },
         {
          "cpu_percent": 197.4,
          "cpu_time": 9.290000000000001,
          "name": "SparkConcat_2",
          "real_mem": 388136960,
          "time": 1616491669.1703393
         },
         {
          "cpu_percent": 196.4,
          "cpu_time": 9.33,
          "name": "MercStatic_1",
          "real_mem": 388403200,
          "time": 1616491669.192794
         },
         {
          "cpu_percent": 195.6,
          "cpu_time": 9.38,
          "name": "ReadCsvProjectSpace_1",
          "real_mem": 388767744,
          "time": 1616491669.2696319
         },
         {
          "cpu_percent": 195,
          "cpu_time": 9.43,
          "name": "CustStatic_1",
          "real_mem": 389074944,
          "time": 1616491669.2921698
         },
         {
          "cpu_percent": 193.5,
          "cpu_time": 9.5,
          "name": "TranTypeTS_1",
          "real_mem": 389341184,
          "time": 1616491669.3709145
         },
         {
          "cpu_percent": 196.7,
          "cpu_time": 9.540000000000001,
          "name": "CustMercTS_1",
          "real_mem": 390959104,
          "time": 1616491669.394623
         },
         {
          "cpu_percent": 289,
          "cpu_time": 9.59,
          "name": "ProdTypeTS_1",
          "real_mem": 391340032,
          "time": 1616491669.4707217
         },
         {
          "cpu_percent": 97.9,
          "cpu_time": 9.620000000000001,
          "name": "TranCityTS_1",
          "real_mem": 391692288,
          "time": 1616491669.4936187
         },
         {
          "cpu_percent": 196.7,
          "cpu_time": 9.67,
          "name": "SparkConcat_1",
          "real_mem": 391958528,
          "time": 1616491669.5707026
         },
         {
          "cpu_percent": 98,
          "cpu_time": 9.71,
          "name": "SparkConcat_2",
          "real_mem": 392114176,
          "time": 1616491669.5931203
         },
         {
          "cpu_percent": 192.6,
          "cpu_time": 9.76,
          "name": "MercStatic_1",
          "real_mem": 392380416,
          "time": 1616491669.6707852
         },
         {
          "cpu_percent": 194,
          "cpu_time": 9.81,
          "name": "ReadCsvProjectSpace_1",
          "real_mem": 392437760,
          "time": 1616491669.6930897
         },
         {
          "cpu_percent": 195.7,
          "cpu_time": 9.87,
          "name": "CustStatic_1",
          "real_mem": 392839168,
          "time": 1616491669.7713342
         },
         {
          "cpu_percent": 15.4,
          "cpu_time": 9.91,
          "name": "TranTypeTS_1",
          "real_mem": 394739712,
          "time": 1616491669.8494
         },
         {
          "cpu_percent": 192,
          "cpu_time": 9.959999999999999,
          "name": "CustMercTS_1",
          "real_mem": 395190272,
          "time": 1616491669.872222
         },
         {
          "cpu_percent": 0,
          "cpu_time": 10,
          "name": "ProdTypeTS_1",
          "real_mem": 395456512,
          "time": 1616491669.8957763
         },
         {
          "cpu_percent": 196.1,
          "cpu_time": 10.049999999999999,
          "name": "TranCityTS_1",
          "real_mem": 395726848,
          "time": 1616491669.9705746
         },
         {
          "cpu_percent": 15.4,
          "cpu_time": 10.09,
          "name": "SparkConcat_1",
          "real_mem": 395984896,
          "time": 1616491670.04882
         },
         {
          "cpu_percent": 196.2,
          "cpu_time": 10.139999999999999,
          "name": "SparkConcat_2",
          "real_mem": 396365824,
          "time": 1616491670.0714965
         },
         {
          "cpu_percent": 97.6,
          "cpu_time": 10.19,
          "name": "MercStatic_1",
          "real_mem": 396902400,
          "time": 1616491670.0987756
         },
         {
          "cpu_percent": 196,
          "cpu_time": 10.229999999999999,
          "name": "ReadCsvProjectSpace_1",
          "real_mem": 397979648,
          "time": 1616491670.170651
         },
         {
          "cpu_percent": 287,
          "cpu_time": 10.28,
          "name": "CustStatic_1",
          "real_mem": 401522688,
          "time": 1616491670.1935613
         },
         {
          "cpu_percent": 0,
          "cpu_time": 10.28,
          "name": "TranTypeTS_1",
          "real_mem": 401522688,
          "time": 1616491670.2166286
         },
         {
          "cpu_percent": 293.9,
          "cpu_time": 10.33,
          "name": "CustMercTS_1",
          "real_mem": 401620992,
          "time": 1616491670.2714932
         },
         {
          "cpu_percent": 97.8,
          "cpu_time": 10.379999999999999,
          "name": "ProdTypeTS_1",
          "real_mem": 402071552,
          "time": 1616491670.2943583
         },
         {
          "cpu_percent": 196.7,
          "cpu_time": 10.430000000000001,
          "name": "TranCityTS_1",
          "real_mem": 402219008,
          "time": 1616491670.3711202
         },
         {
          "cpu_percent": 194.5,
          "cpu_time": 10.48,
          "name": "SparkConcat_1",
          "real_mem": 402411520,
          "time": 1616491670.394224
         },
         {
          "cpu_percent": 192.4,
          "cpu_time": 10.520000000000001,
          "name": "SparkConcat_2",
          "real_mem": 402763776,
          "time": 1616491670.4707448
         },
         {
          "cpu_percent": 97.5,
          "cpu_time": 10.57,
          "name": "MercStatic_1",
          "real_mem": 403030016,
          "time": 1616491670.4940948
         },
         {
          "cpu_percent": 196.5,
          "cpu_time": 10.620000000000001,
          "name": "ReadCsvProjectSpace_1",
          "real_mem": 404230144,
          "time": 1616491670.571148
         },
         {
          "cpu_percent": 195.5,
          "cpu_time": 10.66,
          "name": "CustStatic_1",
          "real_mem": 404799488,
          "time": 1616491670.5937183
         },
         {
          "cpu_percent": 294.5,
          "cpu_time": 10.71,
          "name": "TranTypeTS_1",
          "real_mem": 405155840,
          "time": 1616491670.670411
         },
         {
          "cpu_percent": 196.5,
          "cpu_time": 10.75,
          "name": "CustMercTS_1",
          "real_mem": 405528576,
          "time": 1616491670.6936584
         },
         {
          "cpu_percent": 196.6,
          "cpu_time": 10.850000000000001,
          "name": "TranCityTS_1",
          "real_mem": 406016000,
          "time": 1616491670.792879
         },
         {
          "cpu_percent": 196.3,
          "cpu_time": 10.91,
          "name": "SparkConcat_1",
          "real_mem": 406466560,
          "time": 1616491670.8705232
         },
         {
          "cpu_percent": 190.9,
          "cpu_time": 10.790000000000001,
          "name": "ProdTypeTS_1",
          "real_mem": 405794816,
          "time": 1616491670.7704558
         },
         {
          "cpu_percent": 98,
          "cpu_time": 10.95,
          "name": "SparkConcat_2",
          "real_mem": 406552576,
          "time": 1616491670.8943422
         },
         {
          "cpu_percent": 188.3,
          "cpu_time": 10.99,
          "name": "MercStatic_1",
          "real_mem": 406552576,
          "time": 1616491670.9717984
         },
         {
          "cpu_percent": 98.2,
          "cpu_time": 11.04,
          "name": "ReadCsvProjectSpace_1",
          "real_mem": 406822912,
          "time": 1616491670.994864
         },
         {
          "cpu_percent": 195.6,
          "cpu_time": 11.09,
          "name": "CustStatic_1",
          "real_mem": 410058752,
          "time": 1616491671.071493
         },
         {
          "cpu_percent": 97.1,
          "cpu_time": 11.139999999999999,
          "name": "TranTypeTS_1",
          "real_mem": 410562560,
          "time": 1616491671.09609
         },
         {
          "cpu_percent": 196.4,
          "cpu_time": 11.18,
          "name": "CustMercTS_1",
          "real_mem": 410873856,
          "time": 1616491671.1702096
         },
         {
          "cpu_percent": 196.2,
          "cpu_time": 11.229999999999999,
          "name": "ProdTypeTS_1",
          "real_mem": 411410432,
          "time": 1616491671.192744
         },
         {
          "cpu_percent": 195.9,
          "cpu_time": 11.29,
          "name": "TranCityTS_1",
          "real_mem": 411443200,
          "time": 1616491671.2722485
         },
         {
          "cpu_percent": 97.8,
          "cpu_time": 11.319999999999999,
          "name": "SparkConcat_1",
          "real_mem": 411443200,
          "time": 1616491671.294713
         },
         {
          "cpu_percent": 0,
          "cpu_time": 11.33,
          "name": "SparkConcat_2",
          "real_mem": 411443200,
          "time": 1616491671.316909
         },
         {
          "cpu_percent": 97.8,
          "cpu_time": 11.35,
          "name": "MercStatic_1",
          "real_mem": 411443200,
          "time": 1616491671.3715618
         },
         {
          "cpu_percent": 196.8,
          "cpu_time": 11.389999999999999,
          "name": "ReadCsvProjectSpace_1",
          "real_mem": 411709440,
          "time": 1616491671.3944526
         },
         {
          "cpu_percent": 293.9,
          "cpu_time": 11.46,
          "name": "TranTypeTS_1",
          "real_mem": 412119040,
          "time": 1616491671.47081
         },
         {
          "cpu_percent": 0,
          "cpu_time": 11.399999999999999,
          "name": "CustStatic_1",
          "real_mem": 411709440,
          "time": 1616491671.4170723
         },
         {
          "cpu_percent": 98.1,
          "cpu_time": 11.489999999999998,
          "name": "CustMercTS_1",
          "real_mem": 412119040,
          "time": 1616491671.4951434
         },
         {
          "cpu_percent": 183.5,
          "cpu_time": 11.54,
          "name": "ProdTypeTS_1",
          "real_mem": 412405760,
          "time": 1616491671.5715623
         },
         {
          "cpu_percent": 195.6,
          "cpu_time": 11.600000000000001,
          "name": "TranCityTS_1",
          "real_mem": 413003776,
          "time": 1616491671.648348
         },
         {
          "cpu_percent": 196.8,
          "cpu_time": 11.66,
          "name": "SparkConcat_1",
          "real_mem": 413114368,
          "time": 1616491671.6707373
         },
         {
          "cpu_percent": 0,
          "cpu_time": 11.690000000000001,
          "name": "SparkConcat_2",
          "real_mem": 413528064,
          "time": 1616491671.6936343
         },
         {
          "cpu_percent": 196.3,
          "cpu_time": 11.74,
          "name": "MercStatic_1",
          "real_mem": 414216192,
          "time": 1616491671.770898
         },
         {
          "cpu_percent": 196.3,
          "cpu_time": 11.780000000000001,
          "name": "ReadCsvProjectSpace_1",
          "real_mem": 414404608,
          "time": 1616491671.7937794
         },
         {
          "cpu_percent": 98.5,
          "cpu_time": 11.81,
          "name": "CustStatic_1",
          "real_mem": 414670848,
          "time": 1616491671.8704693
         },
         {
          "cpu_percent": 196.4,
          "cpu_time": 11.85,
          "name": "TranTypeTS_1",
          "real_mem": 414801920,
          "time": 1616491671.8933527
         },
         {
          "cpu_percent": 0,
          "cpu_time": 11.88,
          "name": "CustMercTS_1",
          "real_mem": 415133696,
          "time": 1616491671.9157264
         },
         {
          "cpu_percent": 98.2,
          "cpu_time": 11.91,
          "name": "ProdTypeTS_1",
          "real_mem": 415596544,
          "time": 1616491671.9702966
         },
         {
          "cpu_percent": 96.8,
          "cpu_time": 11.94,
          "name": "TranCityTS_1",
          "real_mem": 415911936,
          "time": 1616491671.993392
         },
         {
          "cpu_percent": 97.6,
          "cpu_time": 11.97,
          "name": "SparkConcat_1",
          "real_mem": 416178176,
          "time": 1616491672.015685
         },
         {
          "cpu_percent": 97.8,
          "cpu_time": 12,
          "name": "SparkConcat_2",
          "real_mem": 416333824,
          "time": 1616491672.0703056
         },
         {
          "cpu_percent": 98.2,
          "cpu_time": 12.02,
          "name": "MercStatic_1",
          "real_mem": 418263040,
          "time": 1616491672.0933318
         },
         {
          "cpu_percent": 97.9,
          "cpu_time": 12.05,
          "name": "ReadCsvProjectSpace_1",
          "real_mem": 418390016,
          "time": 1616491672.1157033
         },
         {
          "cpu_percent": 98.1,
          "cpu_time": 12.09,
          "name": "CustStatic_1",
          "real_mem": 418390016,
          "time": 1616491672.1713796
         },
         {
          "cpu_percent": 97,
          "cpu_time": 12.11,
          "name": "TranTypeTS_1",
          "real_mem": 418390016,
          "time": 1616491672.1938295
         },
         {
          "cpu_percent": 98,
          "cpu_time": 12.129999999999999,
          "name": "CustMercTS_1",
          "real_mem": 418390016,
          "time": 1616491672.2160788
         },
         {
          "cpu_percent": 0,
          "cpu_time": 12.15,
          "name": "ProdTypeTS_1",
          "real_mem": 418603008,
          "time": 1616491672.2437932
         },
         {
          "cpu_percent": 293.4,
          "cpu_time": 12.209999999999999,
          "name": "TranCityTS_1",
          "real_mem": 418770944,
          "time": 1616491672.270985
         },
         {
          "cpu_percent": 96.3,
          "cpu_time": 12.25,
          "name": "SparkConcat_1",
          "real_mem": 419037184,
          "time": 1616491672.295312
         },
         {
          "cpu_percent": 0,
          "cpu_time": 12.26,
          "name": "SparkConcat_2",
          "real_mem": 419037184,
          "time": 1616491672.3440602
         },
         {
          "cpu_percent": 195.3,
          "cpu_time": 12.29,
          "name": "MercStatic_1",
          "real_mem": 419180544,
          "time": 1616491672.3713164
         },
         {
          "cpu_percent": 196.2,
          "cpu_time": 12.319999999999999,
          "name": "ReadCsvProjectSpace_1",
          "real_mem": 419540992,
          "time": 1616491672.394467
         },
         {
          "cpu_percent": 196.5,
          "cpu_time": 12.379999999999999,
          "name": "CustStatic_1",
          "real_mem": 420102144,
          "time": 1616491672.4702382
         },
         {
          "cpu_percent": 195.8,
          "cpu_time": 12.43,
          "name": "TranTypeTS_1",
          "real_mem": 420773888,
          "time": 1616491672.548194
         },
         {
          "cpu_percent": 378.5,
          "cpu_time": 12.5,
          "name": "CustMercTS_1",
          "real_mem": 421150720,
          "time": 1616491672.5735917
         },
         {
          "cpu_percent": 98,
          "cpu_time": 12.55,
          "name": "ProdTypeTS_1",
          "real_mem": 421298176,
          "time": 1616491672.5963395
         },
         {
          "cpu_percent": 196.6,
          "cpu_time": 12.63,
          "name": "SparkConcat_1",
          "real_mem": 421752832,
          "time": 1616491672.6927414
         },
         {
          "cpu_percent": 196.1,
          "cpu_time": 12.59,
          "name": "TranCityTS_1",
          "real_mem": 421564416,
          "time": 1616491672.670556
         },
         {
          "cpu_percent": 98,
          "cpu_time": 12.65,
          "name": "MercStatic_1",
          "real_mem": 422387712,
          "time": 1616491672.7703176
         },
         {
          "cpu_percent": 0,
          "cpu_time": 12.63,
          "name": "SparkConcat_2",
          "real_mem": 422121472,
          "time": 1616491672.7157052
         },
         {
          "cpu_percent": 196.5,
          "cpu_time": 12.680000000000001,
          "name": "ReadCsvProjectSpace_1",
          "real_mem": 423395328,
          "time": 1616491672.792641
         },
         {
          "cpu_percent": 98.2,
          "cpu_time": 12.73,
          "name": "CustStatic_1",
          "real_mem": 423964672,
          "time": 1616491672.815718
         },
         {
          "cpu_percent": 196.1,
          "cpu_time": 12.780000000000001,
          "name": "TranTypeTS_1",
          "real_mem": 424767488,
          "time": 1616491672.870875
         },
         {
          "cpu_percent": 195.8,
          "cpu_time": 12.82,
          "name": "CustMercTS_1",
          "real_mem": 425787392,
          "time": 1616491672.8937643
         },
         {
          "cpu_percent": 294.2,
          "cpu_time": 12.85,
          "name": "ProdTypeTS_1",
          "real_mem": 426053632,
          "time": 1616491672.9591665
         },
         {
          "cpu_percent": 196.6,
          "cpu_time": 12.9,
          "name": "TranCityTS_1",
          "real_mem": 426676224,
          "time": 1616491672.9824378
         },
         {
          "cpu_percent": 0,
          "cpu_time": 12.92,
          "name": "SparkConcat_1",
          "real_mem": 426946560,
          "time": 1616491673.005001
         },
         {
          "cpu_percent": 98.1,
          "cpu_time": 12.94,
          "name": "SparkConcat_2",
          "real_mem": 427278336,
          "time": 1616491673.071272
         },
         {
          "cpu_percent": 98.2,
          "cpu_time": 13,
          "name": "ReadCsvProjectSpace_1",
          "real_mem": 427933696,
          "time": 1616491673.1165745
         },
         {
          "cpu_percent": 196.2,
          "cpu_time": 12.97,
          "name": "MercStatic_1",
          "real_mem": 427339776,
          "time": 1616491673.0940287
         },
         {
          "cpu_percent": 98.4,
          "cpu_time": 13.03,
          "name": "CustStatic_1",
          "real_mem": 428294144,
          "time": 1616491673.1707
         },
         {
          "cpu_percent": 196.2,
          "cpu_time": 13.08,
          "name": "TranTypeTS_1",
          "real_mem": 428724224,
          "time": 1616491673.1939826
         },
         {
          "cpu_percent": 0,
          "cpu_time": 13.1,
          "name": "CustMercTS_1",
          "real_mem": 428724224,
          "time": 1616491673.216399
         },
         {
          "cpu_percent": 196.2,
          "cpu_time": 13.15,
          "name": "ProdTypeTS_1",
          "real_mem": 429191168,
          "time": 1616491673.2717748
         },
         {
          "cpu_percent": 98.3,
          "cpu_time": 13.2,
          "name": "TranCityTS_1",
          "real_mem": 429670400,
          "time": 1616491673.2963114
         },
         {
          "cpu_percent": 98.5,
          "cpu_time": 13.23,
          "name": "SparkConcat_1",
          "real_mem": 429932544,
          "time": 1616491673.3707025
         },
         {
          "cpu_percent": 97.9,
          "cpu_time": 13.26,
          "name": "SparkConcat_2",
          "real_mem": 430415872,
          "time": 1616491673.3941975
         },
         {
          "cpu_percent": 196.8,
          "cpu_time": 13.33,
          "name": "ReadCsvProjectSpace_1",
          "real_mem": 430878720,
          "time": 1616491673.4709563
         },
         {
          "cpu_percent": 98.2,
          "cpu_time": 13.28,
          "name": "MercStatic_1",
          "real_mem": 430706688,
          "time": 1616491673.4175334
         },
         {
          "cpu_percent": 190.6,
          "cpu_time": 13.36,
          "name": "CustStatic_1",
          "real_mem": 431443968,
          "time": 1616491673.4942317
         },
         {
          "cpu_percent": 23.7,
          "cpu_time": 13.379999999999999,
          "name": "TranTypeTS_1",
          "real_mem": 431611904,
          "time": 1616491673.5487247
         },
         {
          "cpu_percent": 98.3,
          "cpu_time": 13.420000000000002,
          "name": "CustMercTS_1",
          "real_mem": 432062464,
          "time": 1616491673.5717769
         },
         {
          "cpu_percent": 98.1,
          "cpu_time": 13.440000000000001,
          "name": "ProdTypeTS_1",
          "real_mem": 432328704,
          "time": 1616491673.5946143
         },
         {
          "cpu_percent": 98.1,
          "cpu_time": 13.469999999999999,
          "name": "TranCityTS_1",
          "real_mem": 432664576,
          "time": 1616491673.6168752
         },
         {
          "cpu_percent": 98.3,
          "cpu_time": 13.5,
          "name": "SparkConcat_1",
          "real_mem": 433168384,
          "time": 1616491673.6698217
         },
         {
          "cpu_percent": 196.5,
          "cpu_time": 13.54,
          "name": "SparkConcat_2",
          "real_mem": 433283072,
          "time": 1616491673.6924481
         },
         {
          "cpu_percent": 96.7,
          "cpu_time": 13.57,
          "name": "MercStatic_1",
          "real_mem": 433651712,
          "time": 1616491673.7153995
         },
         {
          "cpu_percent": 97.6,
          "cpu_time": 13.600000000000001,
          "name": "ReadCsvProjectSpace_1",
          "real_mem": 433893376,
          "time": 1616491673.7710478
         },
         {
          "cpu_percent": 98.7,
          "cpu_time": 13.620000000000001,
          "name": "CustStatic_1",
          "real_mem": 434024448,
          "time": 1616491673.793534
         },
         {
          "cpu_percent": 0,
          "cpu_time": 13.66,
          "name": "TranTypeTS_1",
          "real_mem": 434434048,
          "time": 1616491673.822591
         },
         {
          "cpu_percent": 195.2,
          "cpu_time": 13.700000000000001,
          "name": "CustMercTS_1",
          "real_mem": 434909184,
          "time": 1616491673.8706138
         },
         {
          "cpu_percent": 197.2,
          "cpu_time": 13.73,
          "name": "ProdTypeTS_1",
          "real_mem": 434909184,
          "time": 1616491673.8932183
         },
         {
          "cpu_percent": 195.1,
          "cpu_time": 13.77,
          "name": "TranCityTS_1",
          "real_mem": 435216384,
          "time": 1616491673.9163141
         },
         {
          "cpu_percent": 196.5,
          "cpu_time": 13.8,
          "name": "SparkConcat_1",
          "real_mem": 435216384,
          "time": 1616491673.9710953
         },
         {
          "cpu_percent": 196.8,
          "cpu_time": 13.84,
          "name": "SparkConcat_2",
          "real_mem": 435359744,
          "time": 1616491673.9930654
         },
         {
          "cpu_percent": 0,
          "cpu_time": 13.86,
          "name": "MercStatic_1",
          "real_mem": 435392512,
          "time": 1616491674.0488415
         },
         {
          "cpu_percent": 197.3,
          "cpu_time": 13.9,
          "name": "ReadCsvProjectSpace_1",
          "real_mem": 435568640,
          "time": 1616491674.0714698
         },
         {
          "cpu_percent": 197.5,
          "cpu_time": 13.95,
          "name": "CustStatic_1",
          "real_mem": 435720192,
          "time": 1616491674.093487
         },
         {
          "cpu_percent": 190.5,
          "cpu_time": 14.01,
          "name": "TranTypeTS_1",
          "real_mem": 436113408,
          "time": 1616491674.171844
         },
         {
          "cpu_percent": 0,
          "cpu_time": 14.040000000000001,
          "name": "CustMercTS_1",
          "real_mem": 436129792,
          "time": 1616491674.2484083
         },
         {
          "cpu_percent": 196.7,
          "cpu_time": 14.09,
          "name": "ProdTypeTS_1",
          "real_mem": 436244480,
          "time": 1616491674.2706573
         },
         {
          "cpu_percent": 45.6,
          "cpu_time": 14.14,
          "name": "TranCityTS_1",
          "real_mem": 436625408,
          "time": 1616491674.3485131
         },
         {
          "cpu_percent": 295.5,
          "cpu_time": 14.2,
          "name": "SparkConcat_1",
          "real_mem": 436797440,
          "time": 1616491674.3712556
         },
         {
          "cpu_percent": 97.9,
          "cpu_time": 14.24,
          "name": "SparkConcat_2",
          "real_mem": 436936704,
          "time": 1616491674.3936758
         },
         {
          "cpu_percent": 197.3,
          "cpu_time": 14.29,
          "name": "MercStatic_1",
          "real_mem": 437215232,
          "time": 1616491674.4702284
         },
         {
          "cpu_percent": 0,
          "cpu_time": 14.34,
          "name": "CustStatic_1",
          "real_mem": 437972992,
          "time": 1616491674.5152261
         },
         {
          "cpu_percent": 294.2,
          "cpu_time": 14.33,
          "name": "ReadCsvProjectSpace_1",
          "real_mem": 437706752,
          "time": 1616491674.4927847
         },
         {
          "cpu_percent": 98.1,
          "cpu_time": 14.36,
          "name": "TranTypeTS_1",
          "real_mem": 438145024,
          "time": 1616491674.5708869
         },
         {
          "cpu_percent": 98,
          "cpu_time": 14.379999999999999,
          "name": "CustMercTS_1",
          "real_mem": 438484992,
          "time": 1616491674.5941498
         },
         {
          "cpu_percent": 97,
          "cpu_time": 14.43,
          "name": "ProdTypeTS_1",
          "real_mem": 438484992,
          "time": 1616491674.6481915
         },
         {
          "cpu_percent": 293.1,
          "cpu_time": 14.479999999999999,
          "name": "TranCityTS_1",
          "real_mem": 429813760,
          "time": 1616491674.6723468
         },
         {
          "cpu_percent": 95.7,
          "cpu_time": 14.52,
          "name": "SparkConcat_1",
          "real_mem": 429944832,
          "time": 1616491674.6949122
         },
         {
          "cpu_percent": 0,
          "cpu_time": 14.53,
          "name": "SparkConcat_2",
          "real_mem": 429944832,
          "time": 1616491674.7485344
         },
         {
          "cpu_percent": 98.3,
          "cpu_time": 14.569999999999999,
          "name": "MercStatic_1",
          "real_mem": 431292416,
          "time": 1616491674.7718616
         },
         {
          "cpu_percent": 31,
          "cpu_time": 14.62,
          "name": "ReadCsvProjectSpace_1",
          "real_mem": 432558080,
          "time": 1616491674.8483999
         },
         {
          "cpu_percent": 194.1,
          "cpu_time": 14.66,
          "name": "CustStatic_1",
          "real_mem": 432594944,
          "time": 1616491674.8722224
         },
         {
          "cpu_percent": 196.8,
          "cpu_time": 14.7,
          "name": "TranTypeTS_1",
          "real_mem": 432594944,
          "time": 1616491674.8945541
         },
         {
          "cpu_percent": 98.2,
          "cpu_time": 14.719999999999999,
          "name": "CustMercTS_1",
          "real_mem": 432594944,
          "time": 1616491674.9167764
         },
         {
          "cpu_percent": 196,
          "cpu_time": 14.770000000000001,
          "name": "ProdTypeTS_1",
          "real_mem": 432594944,
          "time": 1616491674.9710515
         },
         {
          "cpu_percent": 97.2,
          "cpu_time": 14.8,
          "name": "TranCityTS_1",
          "real_mem": 432640000,
          "time": 1616491674.9938767
         },
         {
          "cpu_percent": 0,
          "cpu_time": 14.81,
          "name": "SparkConcat_1",
          "real_mem": 432640000,
          "time": 1616491675.0160694
         },
         {
          "cpu_percent": 189.5,
          "cpu_time": 14.84,
          "name": "SparkConcat_2",
          "real_mem": 433016832,
          "time": 1616491675.071172
         },
         {
          "cpu_percent": 197.2,
          "cpu_time": 14.89,
          "name": "MercStatic_1",
          "real_mem": 433291264,
          "time": 1616491675.0937881
         },
         {
          "cpu_percent": 197.3,
          "cpu_time": 14.940000000000001,
          "name": "ReadCsvProjectSpace_1",
          "real_mem": 433483776,
          "time": 1616491675.1703367
         },
         {
          "cpu_percent": 196.5,
          "cpu_time": 14.98,
          "name": "CustStatic_1",
          "real_mem": 433836032,
          "time": 1616491675.192348
         },
         {
          "cpu_percent": 0,
          "cpu_time": 14.99,
          "name": "TranTypeTS_1",
          "real_mem": 433836032,
          "time": 1616491675.214545
         },
         {
          "cpu_percent": 0,
          "cpu_time": 14.99,
          "name": "CustMercTS_1",
          "real_mem": 433836032,
          "time": 1616491675.2370365
         },
         {
          "cpu_percent": 197.3,
          "cpu_time": 15.040000000000001,
          "name": "ProdTypeTS_1",
          "real_mem": 434036736,
          "time": 1616491675.2711089
         },
         {
          "cpu_percent": 98.7,
          "cpu_time": 15.06,
          "name": "TranCityTS_1",
          "real_mem": 434036736,
          "time": 1616491675.293527
         },
         {
          "cpu_percent": 196.1,
          "cpu_time": 15.13,
          "name": "SparkConcat_1",
          "real_mem": 434130944,
          "time": 1616491675.3594468
         },
         {
          "cpu_percent": 0,
          "cpu_time": 15.19,
          "name": "MercStatic_1",
          "real_mem": 434401280,
          "time": 1616491675.4048963
         },
         {
          "cpu_percent": 197.6,
          "cpu_time": 15.17,
          "name": "SparkConcat_2",
          "real_mem": 434401280,
          "time": 1616491675.3823378
         },
         {
          "cpu_percent": 98.2,
          "cpu_time": 15.22,
          "name": "ReadCsvProjectSpace_1",
          "real_mem": 434401280,
          "time": 1616491675.470877
         },
         {
          "cpu_percent": 98,
          "cpu_time": 15.25,
          "name": "CustStatic_1",
          "real_mem": 434663424,
          "time": 1616491675.493327
         },
         {
          "cpu_percent": 97.7,
          "cpu_time": 15.29,
          "name": "TranTypeTS_1",
          "real_mem": 435470336,
          "time": 1616491675.5165193
         },
         {
          "cpu_percent": 290.4,
          "cpu_time": 15.34,
          "name": "CustMercTS_1",
          "real_mem": 435511296,
          "time": 1616491675.5708847
         },
         {
          "cpu_percent": 196.4,
          "cpu_time": 15.379999999999999,
          "name": "ProdTypeTS_1",
          "real_mem": 435789824,
          "time": 1616491675.5944264
         },
         {
          "cpu_percent": 196.6,
          "cpu_time": 15.42,
          "name": "TranCityTS_1",
          "real_mem": 436109312,
          "time": 1616491675.670669
         },
         {
          "cpu_percent": 98.4,
          "cpu_time": 15.45,
          "name": "SparkConcat_1",
          "real_mem": 436187136,
          "time": 1616491675.6932504
         },
         {
          "cpu_percent": 0,
          "cpu_time": 15.459999999999999,
          "name": "SparkConcat_2",
          "real_mem": 436359168,
          "time": 1616491675.7484236
         },
         {
          "cpu_percent": 295.2,
          "cpu_time": 15.559999999999999,
          "name": "ReadCsvProjectSpace_1",
          "real_mem": 436690944,
          "time": 1616491675.7954452
         },
         {
          "cpu_percent": 98,
          "cpu_time": 15.52,
          "name": "MercStatic_1",
          "real_mem": 436690944,
          "time": 1616491675.7727895
         },
         {
          "cpu_percent": 0,
          "cpu_time": 15.569999999999999,
          "name": "CustStatic_1",
          "real_mem": 436764672,
          "time": 1616491675.848516
         },
         {
          "cpu_percent": 196.7,
          "cpu_time": 15.719999999999999,
          "name": "ProdTypeTS_1",
          "real_mem": 437035008,
          "time": 1616491675.9699976
         },
         {
          "cpu_percent": 196.4,
          "cpu_time": 15.61,
          "name": "TranTypeTS_1",
          "real_mem": 436932608,
          "time": 1616491675.8718474
         },
         {
          "cpu_percent": 295.2,
          "cpu_time": 15.66,
          "name": "CustMercTS_1",
          "real_mem": 436998144,
          "time": 1616491675.8942313
         },
         {
          "cpu_percent": 0,
          "cpu_time": 15.760000000000002,
          "name": "SparkConcat_1",
          "real_mem": 437035008,
          "time": 1616491676.0158117
         },
         {
          "cpu_percent": 196.6,
          "cpu_time": 15.75,
          "name": "TranCityTS_1",
          "real_mem": 437035008,
          "time": 1616491675.9928408
         },
         {
          "cpu_percent": 196.1,
          "cpu_time": 15.809999999999999,
          "name": "SparkConcat_2",
          "real_mem": 437145600,
          "time": 1616491676.0715888
         },
         {
          "cpu_percent": 30.9,
          "cpu_time": 15.860000000000001,
          "name": "MercStatic_1",
          "real_mem": 437407744,
          "time": 1616491676.148426
         },
         {
          "cpu_percent": 193.9,
          "cpu_time": 15.9,
          "name": "ReadCsvProjectSpace_1",
          "real_mem": 437608448,
          "time": 1616491676.1718886
         },
         {
          "cpu_percent": 178.4,
          "cpu_time": 15.930000000000001,
          "name": "CustStatic_1",
          "real_mem": 437854208,
          "time": 1616491676.195529
         },
         {
          "cpu_percent": 196.3,
          "cpu_time": 15.98,
          "name": "CustMercTS_1",
          "real_mem": 438882304,
          "time": 1616491676.2705896
         },
         {
          "cpu_percent": 0,
          "cpu_time": 15.950000000000001,
          "name": "TranTypeTS_1",
          "real_mem": 438665216,
          "time": 1616491676.2483296
         },
         {
          "cpu_percent": 196.2,
          "cpu_time": 16.009999999999998,
          "name": "ProdTypeTS_1",
          "real_mem": 438943744,
          "time": 1616491676.294051
         },
         {
          "cpu_percent": 0,
          "cpu_time": 16.03,
          "name": "TranCityTS_1",
          "real_mem": 438943744,
          "time": 1616491676.3164268
         },
         {
          "cpu_percent": 98.6,
          "cpu_time": 16.07,
          "name": "SparkConcat_1",
          "real_mem": 439242752,
          "time": 1616491676.3703167
         },
         {
          "cpu_percent": 295.1,
          "cpu_time": 16.13,
          "name": "SparkConcat_2",
          "real_mem": 439447552,
          "time": 1616491676.3934124
         },
         {
          "cpu_percent": 189.1,
          "cpu_time": 16.18,
          "name": "MercStatic_1",
          "real_mem": 439533568,
          "time": 1616491676.4731126
         },
         {
          "cpu_percent": 31.6,
          "cpu_time": 16.23,
          "name": "ReadCsvProjectSpace_1",
          "real_mem": 439660544,
          "time": 1616491676.5484157
         },
         {
          "cpu_percent": 196.3,
          "cpu_time": 16.28,
          "name": "CustStatic_1",
          "real_mem": 440033280,
          "time": 1616491676.5708551
         },
         {
          "cpu_percent": 98.3,
          "cpu_time": 16.3,
          "name": "TranTypeTS_1",
          "real_mem": 440102912,
          "time": 1616491676.5932531
         },
         {
          "cpu_percent": 157.6,
          "cpu_time": 16.38,
          "name": "TranCityTS_1",
          "real_mem": 440713216,
          "time": 1616491676.6997156
         },
         {
          "cpu_percent": 0,
          "cpu_time": 16.32,
          "name": "CustMercTS_1",
          "real_mem": 440102912,
          "time": 1616491676.6154792
         },
         {
          "cpu_percent": 97.8,
          "cpu_time": 16.34,
          "name": "ProdTypeTS_1",
          "real_mem": 440389632,
          "time": 1616491676.6704092
         },
         {
          "cpu_percent": 98.6,
          "cpu_time": 16.41,
          "name": "SparkConcat_1",
          "real_mem": 441004032,
          "time": 1616491676.722379
         },
         {
          "cpu_percent": 98.3,
          "cpu_time": 16.45,
          "name": "SparkConcat_2",
          "real_mem": 441049088,
          "time": 1616491676.770725
         },
         {
          "cpu_percent": 98,
          "cpu_time": 16.48,
          "name": "MercStatic_1",
          "real_mem": 441589760,
          "time": 1616491676.7938228
         },
         {
          "cpu_percent": 96.9,
          "cpu_time": 16.52,
          "name": "ReadCsvProjectSpace_1",
          "real_mem": 441733120,
          "time": 1616491676.8222737
         },
         {
          "cpu_percent": 97.9,
          "cpu_time": 16.54,
          "name": "CustStatic_1",
          "real_mem": 441733120,
          "time": 1616491676.8706253
         },
         {
          "cpu_percent": 98.3,
          "cpu_time": 16.57,
          "name": "TranTypeTS_1",
          "real_mem": 442064896,
          "time": 1616491676.8936877
         },
         {
          "cpu_percent": 98.1,
          "cpu_time": 16.61,
          "name": "CustMercTS_1",
          "real_mem": 442138624,
          "time": 1616491676.9158666
         },
         {
          "cpu_percent": 97.9,
          "cpu_time": 16.63,
          "name": "ProdTypeTS_1",
          "real_mem": 442437632,
          "time": 1616491676.9698558
         },
         {
          "cpu_percent": 293.1,
          "cpu_time": 16.67,
          "name": "TranCityTS_1",
          "real_mem": 442601472,
          "time": 1616491676.9923453
         },
         {
          "cpu_percent": 68.8,
          "cpu_time": 16.71,
          "name": "SparkConcat_1",
          "real_mem": 442630144,
          "time": 1616491677.0488946
         },
         {
          "cpu_percent": 197,
          "cpu_time": 16.75,
          "name": "SparkConcat_2",
          "real_mem": 442953728,
          "time": 1616491677.0717292
         },
         {
          "cpu_percent": 30.8,
          "cpu_time": 16.79,
          "name": "MercStatic_1",
          "real_mem": 443244544,
          "time": 1616491677.14854
         },
         {
          "cpu_percent": 195.1,
          "cpu_time": 16.85,
          "name": "ReadCsvProjectSpace_1",
          "real_mem": 443244544,
          "time": 1616491677.1717632
         },
         {
          "cpu_percent": 98.6,
          "cpu_time": 16.88,
          "name": "CustStatic_1",
          "real_mem": 443244544,
          "time": 1616491677.1937795
         },
         {
          "cpu_percent": 196.6,
          "cpu_time": 16.92,
          "name": "TranTypeTS_1",
          "real_mem": 443506688,
          "time": 1616491677.26979
         },
         {
          "cpu_percent": 97.1,
          "cpu_time": 16.97,
          "name": "CustMercTS_1",
          "real_mem": 443551744,
          "time": 1616491677.2938
         },
         {
          "cpu_percent": 98.1,
          "cpu_time": 17,
          "name": "ProdTypeTS_1",
          "real_mem": 443793408,
          "time": 1616491677.371299
         },
         {
          "cpu_percent": 96.2,
          "cpu_time": 17.02,
          "name": "TranCityTS_1",
          "real_mem": 443883520,
          "time": 1616491677.3936706
         },
         {
          "cpu_percent": 98.1,
          "cpu_time": 17.06,
          "name": "SparkConcat_1",
          "real_mem": 444035072,
          "time": 1616491677.4170442
         },
         {
          "cpu_percent": 0,
          "cpu_time": 17.07,
          "name": "SparkConcat_2",
          "real_mem": 444342272,
          "time": 1616491677.4395585
         },
         {
          "cpu_percent": 98.2,
          "cpu_time": 17.169999999999998,
          "name": "CustStatic_1",
          "real_mem": 445067264,
          "time": 1616491677.5177042
         },
         {
          "cpu_percent": 98.1,
          "cpu_time": 17.099999999999998,
          "name": "MercStatic_1",
          "real_mem": 444628992,
          "time": 1616491677.472093
         },
         {
          "cpu_percent": 197,
          "cpu_time": 17.14,
          "name": "ReadCsvProjectSpace_1",
          "real_mem": 444801024,
          "time": 1616491677.4946294
         },
         {
          "cpu_percent": 98,
          "cpu_time": 17.2,
          "name": "TranTypeTS_1",
          "real_mem": 445231104,
          "time": 1616491677.5698073
         },
         {
          "cpu_percent": 97.9,
          "cpu_time": 17.23,
          "name": "CustMercTS_1",
          "real_mem": 445566976,
          "time": 1616491677.5927608
         },
         {
          "cpu_percent": 196.6,
          "cpu_time": 17.3,
          "name": "ProdTypeTS_1",
          "real_mem": 446099456,
          "time": 1616491677.6697197
         },
         {
          "cpu_percent": 98.5,
          "cpu_time": 17.35,
          "name": "TranCityTS_1",
          "real_mem": 446365696,
          "time": 1616491677.694593
         },
         {
          "cpu_percent": 0,
          "cpu_time": 17.36,
          "name": "SparkConcat_1",
          "real_mem": 446365696,
          "time": 1616491677.7170753
         },
         {
          "cpu_percent": 98.3,
          "cpu_time": 17.380000000000003,
          "name": "SparkConcat_2",
          "real_mem": 446492672,
          "time": 1616491677.7711673
         },
         {
          "cpu_percent": 98.2,
          "cpu_time": 17.41,
          "name": "MercStatic_1",
          "real_mem": 446492672,
          "time": 1616491677.7937293
         },
         {
          "cpu_percent": 97.7,
          "cpu_time": 17.43,
          "name": "ReadCsvProjectSpace_1",
          "real_mem": 446758912,
          "time": 1616491677.8158395
         },
         {
          "cpu_percent": 0,
          "cpu_time": 17.45,
          "name": "CustStatic_1",
          "real_mem": 446849024,
          "time": 1616491677.8393233
         },
         {
          "cpu_percent": 196.7,
          "cpu_time": 17.49,
          "name": "TranTypeTS_1",
          "real_mem": 446889984,
          "time": 1616491677.870738
         },
         {
          "cpu_percent": 193.2,
          "cpu_time": 17.52,
          "name": "CustMercTS_1",
          "real_mem": 447270912,
          "time": 1616491677.8935053
         },
         {
          "cpu_percent": 90.9,
          "cpu_time": 17.57,
          "name": "ProdTypeTS_1",
          "real_mem": 447741952,
          "time": 1616491677.9713326
         },
         {
          "cpu_percent": 293.3,
          "cpu_time": 17.62,
          "name": "TranCityTS_1",
          "real_mem": 447881216,
          "time": 1616491677.9933603
         },
         {
          "cpu_percent": 0,
          "cpu_time": 17.64,
          "name": "SparkConcat_1",
          "real_mem": 447881216,
          "time": 1616491678.0160367
         },
         {
          "cpu_percent": 97.9,
          "cpu_time": 17.689999999999998,
          "name": "SparkConcat_2",
          "real_mem": 448212992,
          "time": 1616491678.0713046
         },
         {
          "cpu_percent": 98.4,
          "cpu_time": 17.71,
          "name": "MercStatic_1",
          "real_mem": 448270336,
          "time": 1616491678.09376
         },
         {
          "cpu_percent": 0,
          "cpu_time": 17.74,
          "name": "ReadCsvProjectSpace_1",
          "real_mem": 448536576,
          "time": 1616491678.1165233
         },
         {
          "cpu_percent": 196.4,
          "cpu_time": 17.77,
          "name": "CustStatic_1",
          "real_mem": 448729088,
          "time": 1616491678.1704426
         },
         {
          "cpu_percent": 195.5,
          "cpu_time": 17.82,
          "name": "TranTypeTS_1",
          "real_mem": 448843776,
          "time": 1616491678.1932983
         },
         {
          "cpu_percent": 0,
          "cpu_time": 17.84,
          "name": "CustMercTS_1",
          "real_mem": 449183744,
          "time": 1616491678.2157626
         },
         {
          "cpu_percent": 0,
          "cpu_time": 17.92,
          "name": "TranCityTS_1",
          "real_mem": 449839104,
          "time": 1616491678.3483071
         },
         {
          "cpu_percent": 195.6,
          "cpu_time": 17.89,
          "name": "ProdTypeTS_1",
          "real_mem": 449568768,
          "time": 1616491678.27157
         },
         {
          "cpu_percent": 195.7,
          "cpu_time": 18.080000000000002,
          "name": "MercStatic_1",
          "real_mem": 450322432,
          "time": 1616491678.4711647
         },
         {
          "cpu_percent": 292.3,
          "cpu_time": 17.98,
          "name": "SparkConcat_1",
          "real_mem": 449945600,
          "time": 1616491678.3713226
         },
         {
          "cpu_percent": 0,
          "cpu_time": 18.02,
          "name": "SparkConcat_2",
          "real_mem": 450019328,
          "time": 1616491678.394798
         },
         {
          "cpu_percent": 97.8,
          "cpu_time": 18.12,
          "name": "ReadCsvProjectSpace_1",
          "real_mem": 450592768,
          "time": 1616491678.4940603
         },
         {
          "cpu_percent": 195.7,
          "cpu_time": 18.17,
          "name": "CustStatic_1",
          "real_mem": 450732032,
          "time": 1616491678.5699632
         },
         {
          "cpu_percent": 0,
          "cpu_time": 18.22,
          "name": "CustMercTS_1",
          "real_mem": 451543040,
          "time": 1616491678.6139684
         },
         {
          "cpu_percent": 195.8,
          "cpu_time": 18.21,
          "name": "TranTypeTS_1",
          "real_mem": 451543040,
          "time": 1616491678.5919466
         },
         {
          "cpu_percent": 98.3,
          "cpu_time": 18.26,
          "name": "ProdTypeTS_1",
          "real_mem": 451801088,
          "time": 1616491678.672705
         },
         {
          "cpu_percent": 196.4,
          "cpu_time": 18.31,
          "name": "TranCityTS_1",
          "real_mem": 451801088,
          "time": 1616491678.6949928
         },
         {
          "cpu_percent": 195.7,
          "cpu_time": 18.36,
          "name": "SparkConcat_1",
          "real_mem": 451997696,
          "time": 1616491678.771695
         },
         {
          "cpu_percent": 98.2,
          "cpu_time": 18.4,
          "name": "SparkConcat_2",
          "real_mem": 452079616,
          "time": 1616491678.7936926
         },
         {
          "cpu_percent": 293.8,
          "cpu_time": 18.45,
          "name": "MercStatic_1",
          "real_mem": 452100096,
          "time": 1616491678.871252
         },
         {
          "cpu_percent": 98.1,
          "cpu_time": 18.49,
          "name": "ReadCsvProjectSpace_1",
          "real_mem": 452362240,
          "time": 1616491678.8936586
         },
         {
          "cpu_percent": 264.7,
          "cpu_time": 18.560000000000002,
          "name": "CustStatic_1",
          "real_mem": 452481024,
          "time": 1616491678.972747
         },
         {
          "cpu_percent": 0,
          "cpu_time": 18.59,
          "name": "TranTypeTS_1",
          "real_mem": 452599808,
          "time": 1616491678.995747
         },
         {
          "cpu_percent": 294.3,
          "cpu_time": 18.650000000000002,
          "name": "CustMercTS_1",
          "real_mem": 452902912,
          "time": 1616491679.0708215
         },
         {
          "cpu_percent": 96.8,
          "cpu_time": 18.69,
          "name": "ProdTypeTS_1",
          "real_mem": 452902912,
          "time": 1616491679.09414
         },
         {
          "cpu_percent": 97.7,
          "cpu_time": 18.76,
          "name": "SparkConcat_1",
          "real_mem": 453529600,
          "time": 1616491679.192882
         },
         {
          "cpu_percent": 98.2,
          "cpu_time": 18.73,
          "name": "TranCityTS_1",
          "real_mem": 453242880,
          "time": 1616491679.170857
         },
         {
          "cpu_percent": 0,
          "cpu_time": 18.78,
          "name": "SparkConcat_2",
          "real_mem": 453607424,
          "time": 1616491679.2155685
         },
         {
          "cpu_percent": 96.7,
          "cpu_time": 18.810000000000002,
          "name": "MercStatic_1",
          "real_mem": 454418432,
          "time": 1616491679.2720625
         },
         {
          "cpu_percent": 196.5,
          "cpu_time": 18.85,
          "name": "ReadCsvProjectSpace_1",
          "real_mem": 454799360,
          "time": 1616491679.2942176
         },
         {
          "cpu_percent": 0,
          "cpu_time": 18.87,
          "name": "CustStatic_1",
          "real_mem": 454799360,
          "time": 1616491679.3177829
         },
         {
          "cpu_percent": 294.4,
          "cpu_time": 18.93,
          "name": "TranTypeTS_1",
          "real_mem": 455225344,
          "time": 1616491679.3738856
         },
         {
          "cpu_percent": 98,
          "cpu_time": 19.009999999999998,
          "name": "ProdTypeTS_1",
          "real_mem": 455602176,
          "time": 1616491679.4710815
         },
         {
          "cpu_percent": 98.1,
          "cpu_time": 18.98,
          "name": "CustMercTS_1",
          "real_mem": 455286784,
          "time": 1616491679.3971977
         },
         {
          "cpu_percent": 194.7,
          "cpu_time": 19.05,
          "name": "TranCityTS_1",
          "real_mem": 455712768,
          "time": 1616491679.4941826
         },
         {
          "cpu_percent": 0,
          "cpu_time": 19.07,
          "name": "SparkConcat_1",
          "real_mem": 455905280,
          "time": 1616491679.516847
         },
         {
          "cpu_percent": 98.3,
          "cpu_time": 19.099999999999998,
          "name": "SparkConcat_2",
          "real_mem": 456261632,
          "time": 1616491679.5710673
         },
         {
          "cpu_percent": 97.8,
          "cpu_time": 19.15,
          "name": "MercStatic_1",
          "real_mem": 456704000,
          "time": 1616491679.5942323
         },
         {
          "cpu_percent": 0,
          "cpu_time": 19.169999999999998,
          "name": "ReadCsvProjectSpace_1",
          "real_mem": 456765440,
          "time": 1616491679.6168885
         },
         {
          "cpu_percent": 97,
          "cpu_time": 19.209999999999997,
          "name": "CustStatic_1",
          "real_mem": 456871936,
          "time": 1616491679.6720014
         },
         {
          "cpu_percent": 98.3,
          "cpu_time": 19.259999999999998,
          "name": "TranTypeTS_1",
          "real_mem": 457166848,
          "time": 1616491679.694165
         },
         {
          "cpu_percent": 85.7,
          "cpu_time": 19.46,
          "name": "CustMercTS_1",
          "real_mem": 458125312,
          "time": 1616491679.9222174
         },
         {
          "cpu_percent": 98,
          "cpu_time": 19.51,
          "name": "ProdTypeTS_1",
          "real_mem": 458391552,
          "time": 1616491679.9944627
         },
         {
          "cpu_percent": 44.8,
          "cpu_time": 19.55,
          "name": "TranCityTS_1",
          "real_mem": 458653696,
          "time": 1616491680.0518308
         },
         {
          "cpu_percent": 289.5,
          "cpu_time": 19.62,
          "name": "SparkConcat_1",
          "real_mem": 458653696,
          "time": 1616491680.07615
         },
         {
          "cpu_percent": 0,
          "cpu_time": 19.63,
          "name": "SparkConcat_2",
          "real_mem": 458653696,
          "time": 1616491680.1014185
         },
         {
          "cpu_percent": 193.4,
          "cpu_time": 19.72,
          "name": "MercStatic_1",
          "real_mem": 459669504,
          "time": 1616491680.1742005
         },
         {
          "cpu_percent": 196.2,
          "cpu_time": 19.759999999999998,
          "name": "ReadCsvProjectSpace_1",
          "real_mem": 460210176,
          "time": 1616491680.2591872
         },
         {
          "cpu_percent": 393.2,
          "cpu_time": 19.82,
          "name": "CustStatic_1",
          "real_mem": 460709888,
          "time": 1616491680.2816598
         },
         {
          "cpu_percent": 0,
          "cpu_time": 19.83,
          "name": "TranTypeTS_1",
          "real_mem": 460709888,
          "time": 1616491680.3041375
         },
         {
          "cpu_percent": 98.1,
          "cpu_time": 19.970000000000002,
          "name": "CustMercTS_1",
          "real_mem": 462184448,
          "time": 1616491680.4698532
         },
         {
          "cpu_percent": 98.2,
          "cpu_time": 20.060000000000002,
          "name": "ProdTypeTS_1",
          "real_mem": 463237120,
          "time": 1616491680.5704625
         },
         {
          "cpu_percent": 98.1,
          "cpu_time": 20.1,
          "name": "TranCityTS_1",
          "real_mem": 463638528,
          "time": 1616491680.5934153
         },
         {
          "cpu_percent": 0,
          "cpu_time": 20.110000000000003,
          "name": "SparkConcat_1",
          "real_mem": 463769600,
          "time": 1616491680.6167583
         },
         {
          "cpu_percent": 291.2,
          "cpu_time": 20.169999999999998,
          "name": "SparkConcat_2",
          "real_mem": 463769600,
          "time": 1616491680.67138
         },
         {
          "cpu_percent": 16.6,
          "cpu_time": 20.21,
          "name": "MercStatic_1",
          "real_mem": 464273408,
          "time": 1616491680.7484105
         },
         {
          "cpu_percent": 196.5,
          "cpu_time": 20.3,
          "name": "ReadCsvProjectSpace_1",
          "real_mem": 464818176,
          "time": 1616491680.7828841
         },
         {
          "cpu_percent": 293.7,
          "cpu_time": 20.37,
          "name": "CustStatic_1",
          "real_mem": 465080320,
          "time": 1616491680.8713362
         },
         {
          "cpu_percent": 197.1,
          "cpu_time": 20.419999999999998,
          "name": "TranTypeTS_1",
          "real_mem": 465133568,
          "time": 1616491680.9592266
         },
         {
          "cpu_percent": 30.6,
          "cpu_time": 20.5,
          "name": "CustMercTS_1",
          "real_mem": 465367040,
          "time": 1616491681.0486164
         },
         {
          "cpu_percent": 196,
          "cpu_time": 20.59,
          "name": "ProdTypeTS_1",
          "real_mem": 466845696,
          "time": 1616491681.0938258
         },
         {
          "cpu_percent": 295.2,
          "cpu_time": 20.63,
          "name": "TranCityTS_1",
          "real_mem": 466845696,
          "time": 1616491681.1590426
         },
         {
          "cpu_percent": 294.8,
          "cpu_time": 20.689999999999998,
          "name": "SparkConcat_1",
          "real_mem": 467214336,
          "time": 1616491681.1823075
         },
         {
          "cpu_percent": 294.9,
          "cpu_time": 20.76,
          "name": "SparkConcat_2",
          "real_mem": 467677184,
          "time": 1616491681.2717144
         },
         {
          "cpu_percent": 0,
          "cpu_time": 20.78,
          "name": "MercStatic_1",
          "real_mem": 467886080,
          "time": 1616491681.2942307
         },
         {
          "cpu_percent": 194,
          "cpu_time": 20.830000000000002,
          "name": "ReadCsvProjectSpace_1",
          "real_mem": 468152320,
          "time": 1616491681.3711796
         },
         {
          "cpu_percent": 98.4,
          "cpu_time": 20.87,
          "name": "CustStatic_1",
          "real_mem": 468258816,
          "time": 1616491681.3937175
         },
         {
          "cpu_percent": 195.7,
          "cpu_time": 20.94,
          "name": "TranTypeTS_1",
          "real_mem": 468652032,
          "time": 1616491681.4821184
         },
         {
          "cpu_percent": 196.7,
          "cpu_time": 21.02,
          "name": "CustMercTS_1",
          "real_mem": 468987904,
          "time": 1616491681.5739563
         },
         {
          "cpu_percent": 187.2,
          "cpu_time": 21.11,
          "name": "ProdTypeTS_1",
          "real_mem": 469708800,
          "time": 1616491681.6702967
         },
         {
          "cpu_percent": 98.4,
          "cpu_time": 21.15,
          "name": "TranCityTS_1",
          "real_mem": 470773760,
          "time": 1616491681.694657
         },
         {
          "cpu_percent": 196.4,
          "cpu_time": 21.2,
          "name": "SparkConcat_1",
          "real_mem": 471220224,
          "time": 1616491681.7708545
         },
         {
          "cpu_percent": 196.7,
          "cpu_time": 21.26,
          "name": "SparkConcat_2",
          "real_mem": 471691264,
          "time": 1616491681.795138
         },
         {
          "cpu_percent": 197.2,
          "cpu_time": 21.310000000000002,
          "name": "MercStatic_1",
          "real_mem": 471957504,
          "time": 1616491681.8702831
         },
         {
          "cpu_percent": 97.7,
          "cpu_time": 21.35,
          "name": "ReadCsvProjectSpace_1",
          "real_mem": 472129536,
          "time": 1616491681.8946936
         },
         {
          "cpu_percent": 197,
          "cpu_time": 21.4,
          "name": "CustStatic_1",
          "real_mem": 472129536,
          "time": 1616491681.9707255
         },
         {
          "cpu_percent": 0,
          "cpu_time": 21.439999999999998,
          "name": "TranTypeTS_1",
          "real_mem": 472129536,
          "time": 1616491682.0486944
         },
         {
          "cpu_percent": 96.8,
          "cpu_time": 21.520000000000003,
          "name": "CustMercTS_1",
          "real_mem": 473890816,
          "time": 1616491682.09687
         },
         {
          "cpu_percent": 98.5,
          "cpu_time": 21.58,
          "name": "ProdTypeTS_1",
          "real_mem": 473890816,
          "time": 1616491682.1938539
         },
         {
          "cpu_percent": 98.2,
          "cpu_time": 21.6,
          "name": "TranCityTS_1",
          "real_mem": 473890816,
          "time": 1616491682.2176516
         },
         {
          "cpu_percent": 196.3,
          "cpu_time": 21.68,
          "name": "SparkConcat_1",
          "real_mem": 474005504,
          "time": 1616491682.294296
         },
         {
          "cpu_percent": 0,
          "cpu_time": 21.71,
          "name": "SparkConcat_2",
          "real_mem": 474267648,
          "time": 1616491682.3483884
         },
         {
          "cpu_percent": 295.1,
          "cpu_time": 21.860000000000003,
          "name": "MercStatic_1",
          "real_mem": 474750976,
          "time": 1616491682.4589374
         },
         {
          "cpu_percent": 196.6,
          "cpu_time": 21.919999999999998,
          "name": "ReadCsvProjectSpace_1",
          "real_mem": 475045888,
          "time": 1616491682.4812863
         },
         {
          "cpu_percent": 294.6,
          "cpu_time": 21.99,
          "name": "CustStatic_1",
          "real_mem": 475758592,
          "time": 1616491682.5704856
         },
         {
          "cpu_percent": 0,
          "cpu_time": 22.02,
          "name": "TranTypeTS_1",
          "real_mem": 475758592,
          "time": 1616491682.5934303
         },
         {
          "cpu_percent": 196.5,
          "cpu_time": 22.07,
          "name": "CustMercTS_1",
          "real_mem": 475844608,
          "time": 1616491682.670787
         },
         {
          "cpu_percent": 196.1,
          "cpu_time": 22.189999999999998,
          "name": "TranCityTS_1",
          "real_mem": 475947008,
          "time": 1616491682.7937548
         },
         {
          "cpu_percent": 195.5,
          "cpu_time": 22.15,
          "name": "ProdTypeTS_1",
          "real_mem": 475947008,
          "time": 1616491682.7713995
         },
         {
          "cpu_percent": 0,
          "cpu_time": 22.2,
          "name": "SparkConcat_1",
          "real_mem": 475947008,
          "time": 1616491682.8167906
         },
         {
          "cpu_percent": 292.4,
          "cpu_time": 22.26,
          "name": "SparkConcat_2",
          "real_mem": 475947008,
          "time": 1616491682.872379
         },
         {
          "cpu_percent": 0,
          "cpu_time": 22.4,
          "name": "ReadCsvProjectSpace_1",
          "real_mem": 475947008,
          "time": 1616491683.0060241
         },
         {
          "cpu_percent": 196.7,
          "cpu_time": 22.38,
          "name": "MercStatic_1",
          "real_mem": 475947008,
          "time": 1616491682.983479
         },
         {
          "cpu_percent": 15.4,
          "cpu_time": 22.49,
          "name": "CustStatic_1",
          "real_mem": 475947008,
          "time": 1616491683.148539
         },
         {
          "cpu_percent": 293.7,
          "cpu_time": 22.549999999999997,
          "name": "TranTypeTS_1",
          "real_mem": 477700096,
          "time": 1616491683.1716387
         },
         {
          "cpu_percent": 195.7,
          "cpu_time": 22.59,
          "name": "CustMercTS_1",
          "real_mem": 478781440,
          "time": 1616491683.194654
         },
         {
          "cpu_percent": 197,
          "cpu_time": 22.71,
          "name": "ProdTypeTS_1",
          "real_mem": 480657408,
          "time": 1616491683.359263
         },
         {
          "cpu_percent": 196.7,
          "cpu_time": 22.76,
          "name": "TranCityTS_1",
          "real_mem": 482279424,
          "time": 1616491683.382192
         },
         {
          "cpu_percent": 0,
          "cpu_time": 22.77,
          "name": "SparkConcat_1",
          "real_mem": 483360768,
          "time": 1616491683.4049025
         },
         {
          "cpu_percent": 196.3,
          "cpu_time": 22.819999999999997,
          "name": "SparkConcat_2",
          "real_mem": 483901440,
          "time": 1616491683.4707851
         },
         {
          "cpu_percent": 97.7,
          "cpu_time": 22.94,
          "name": "MercStatic_1",
          "real_mem": 487739392,
          "time": 1616491683.5883715
         },
         {
          "cpu_percent": 98.1,
          "cpu_time": 22.96,
          "name": "ReadCsvProjectSpace_1",
          "real_mem": 487739392,
          "time": 1616491683.610605
         },
         {
          "cpu_percent": 97.5,
          "cpu_time": 22.990000000000002,
          "name": "CustStatic_1",
          "real_mem": 487739392,
          "time": 1616491683.6729083
         },
         {
          "cpu_percent": 195.5,
          "cpu_time": 23.02,
          "name": "TranTypeTS_1",
          "real_mem": 488280064,
          "time": 1616491683.6956239
         },
         {
          "cpu_percent": 0,
          "cpu_time": 23.03,
          "name": "CustMercTS_1",
          "real_mem": 488431616,
          "time": 1616491683.7187831
         },
         {
          "cpu_percent": 257.4,
          "cpu_time": 23.29,
          "name": "ProdTypeTS_1",
          "real_mem": 489295872,
          "time": 1616491683.9746578
         },
         {
          "cpu_percent": 98.3,
          "cpu_time": 23.490000000000002,
          "name": "TranCityTS_1",
          "real_mem": 489541632,
          "time": 1616491684.1711063
         },
         {
          "cpu_percent": 591.1,
          "cpu_time": 23.68,
          "name": "SparkConcat_2",
          "real_mem": 489725952,
          "time": 1616491684.3597279
         },
         {
          "cpu_percent": 692.8000000000001,
          "cpu_time": 23.59,
          "name": "SparkConcat_1",
          "real_mem": 489586688,
          "time": 1616491684.2601802
         },
         {
          "cpu_percent": 63.3,
          "cpu_time": 23.810000000000002,
          "name": "MercStatic_1",
          "real_mem": 489869312,
          "time": 1616491684.5501354
         },
         {
          "cpu_percent": 287.9,
          "cpu_time": 24.12,
          "name": "TranTypeTS_1",
          "real_mem": 490905600,
          "time": 1616491684.8597114
         },
         {
          "cpu_percent": 25.8,
          "cpu_time": 24,
          "name": "CustStatic_1",
          "real_mem": 490799104,
          "time": 1616491684.7485497
         },
         {
          "cpu_percent": 378.8,
          "cpu_time": 24.25,
          "name": "CustMercTS_1",
          "real_mem": 491008000,
          "time": 1616491684.96449
         },
         {
          "cpu_percent": 292.1,
          "cpu_time": 24.58,
          "name": "SparkConcat_2",
          "real_mem": 492675072,
          "time": 1616491685.359524
         },
         {
          "cpu_percent": 167.3,
          "cpu_time": 24.49,
          "name": "SparkConcat_1",
          "real_mem": 492503040,
          "time": 1616491685.2541444
         },
         {
          "cpu_percent": 0,
          "cpu_time": 24.28,
          "name": "ProdTypeTS_1",
          "real_mem": 491008000,
          "time": 1616491685.049322
         },
         {
          "cpu_percent": 690.4,
          "cpu_time": 24.72,
          "name": "MercStatic_1",
          "real_mem": 492793856,
          "time": 1616491685.4593499
         },
         {
          "cpu_percent": 683.4,
          "cpu_time": 24.909999999999997,
          "name": "CustStatic_1",
          "real_mem": 493912064,
          "time": 1616491685.6594257
         },
         {
          "cpu_percent": 11.7,
          "cpu_time": 24.37,
          "name": "TranCityTS_1",
          "real_mem": 491008000,
          "time": 1616491685.1488311
         },
         {
          "cpu_percent": 23,
          "cpu_time": 25.03,
          "name": "CustMercTS_1",
          "real_mem": 496443392,
          "time": 1616491685.848658
         },
         {
          "cpu_percent": 196.5,
          "cpu_time": 25.12,
          "name": "ProdTypeTS_1",
          "real_mem": 505360384,
          "time": 1616491685.871784
         },
         {
          "cpu_percent": 196.7,
          "cpu_time": 25.17,
          "name": "TranCityTS_1",
          "real_mem": 516714496,
          "time": 1616491685.9711857
         },
         {
          "cpu_percent": 196.3,
          "cpu_time": 25.38,
          "name": "MercStatic_1",
          "real_mem": 527175680,
          "time": 1616491686.1700103
         },
         {
          "cpu_percent": 588.2,
          "cpu_time": 25.3,
          "name": "SparkConcat_2",
          "real_mem": 526921728,
          "time": 1616491686.0710223
         },
         {
          "cpu_percent": 15.9,
          "cpu_time": 25.22,
          "name": "SparkConcat_1",
          "real_mem": 526446592,
          "time": 1616491686.0483654
         },
         {
          "cpu_percent": 0,
          "cpu_time": 24.94,
          "name": "TranTypeTS_1",
          "real_mem": 493912064,
          "time": 1616491685.6826358
         },
         {
          "cpu_percent": 56.6,
          "cpu_time": 25.59,
          "name": "CustStatic_1",
          "real_mem": 529858560,
          "time": 1616491686.4488206
         },
         {
          "cpu_percent": 133.8,
          "cpu_time": 25.689999999999998,
          "name": "TranTypeTS_1",
          "real_mem": 530399232,
          "time": 1616491686.5484767
         },
         {
          "cpu_percent": 391.3,
          "cpu_time": 25.779999999999998,
          "name": "CustMercTS_1",
          "real_mem": 530468864,
          "time": 1616491686.5712402
         },
         {
          "cpu_percent": 0,
          "cpu_time": 25.88,
          "name": "ProdTypeTS_1",
          "real_mem": 530472960,
          "time": 1616491686.6864705
         },
         {
          "cpu_percent": 489.7,
          "cpu_time": 25.979999999999997,
          "name": "TranCityTS_1",
          "real_mem": 530472960,
          "time": 1616491686.7715914
         },
         {
          "cpu_percent": 0,
          "cpu_time": 26.069999999999997,
          "name": "SparkConcat_2",
          "real_mem": 530735104,
          "time": 1616491686.8928487
         },
         {
          "cpu_percent": 0,
          "cpu_time": 26.069999999999997,
          "name": "MercStatic_1",
          "real_mem": 530735104,
          "time": 1616491686.9154117
         },
         {
          "cpu_percent": 492.8,
          "cpu_time": 26.069999999999997,
          "name": "SparkConcat_1",
          "real_mem": 530735104,
          "time": 1616491686.8704188
         },
         {
          "cpu_percent": 485.5,
          "cpu_time": 26.259999999999998,
          "name": "CustStatic_1",
          "real_mem": 535060480,
          "time": 1616491687.1492274
         },
         {
          "cpu_percent": 295.1,
          "cpu_time": 26.33,
          "name": "TranTypeTS_1",
          "real_mem": 535060480,
          "time": 1616491687.1729388
         },
         {
          "cpu_percent": 192.4,
          "cpu_time": 26.409999999999997,
          "name": "CustMercTS_1",
          "real_mem": 535662592,
          "time": 1616491687.2707853
         },
         {
          "cpu_percent": 304.8,
          "cpu_time": 23.93,
          "name": "ReadCsvProjectSpace_1",
          "real_mem": 489947136,
          "time": 1616491684.659146
         },
         {
          "cpu_percent": 295.3,
          "cpu_time": 24.78,
          "name": "ReadCsvProjectSpace_1",
          "real_mem": 492896256,
          "time": 1616491685.5592756
         },
         {
          "cpu_percent": 591,
          "cpu_time": 25.48,
          "name": "ReadCsvProjectSpace_1",
          "real_mem": 527175680,
          "time": 1616491686.2597532
         },
         {
          "cpu_percent": 0,
          "cpu_time": 26.45,
          "name": "ProdTypeTS_1",
          "real_mem": 535662592,
          "time": 1616491687.2952037
         },
         {
          "cpu_percent": 0,
          "cpu_time": 26.45,
          "name": "TranCityTS_1",
          "real_mem": 535662592,
          "time": 1616491687.3182645
         },
         {
          "cpu_percent": 584.6999999999999,
          "cpu_time": 26.17,
          "name": "ReadCsvProjectSpace_1",
          "real_mem": 530735104,
          "time": 1616491686.971242
         },
         {
          "cpu_percent": 785.4,
          "cpu_time": 26.630000000000003,
          "name": "SparkConcat_1",
          "real_mem": 536412160,
          "time": 1616491687.45937
         },
         {
          "cpu_percent": 0,
          "cpu_time": 26.64,
          "name": "SparkConcat_2",
          "real_mem": 536412160,
          "time": 1616491687.4818823
         },
         {
          "cpu_percent": 485.2,
          "cpu_time": 26.720000000000002,
          "name": "MercStatic_1",
          "real_mem": 536412160,
          "time": 1616491687.5707567
         },
         {
          "cpu_percent": 404.59999999999997,
          "cpu_time": 26.88,
          "name": "CustStatic_1",
          "real_mem": 537214976,
          "time": 1616491687.7594266
         },
         {
          "cpu_percent": 195.9,
          "cpu_time": 26.95,
          "name": "TranTypeTS_1",
          "real_mem": 537214976,
          "time": 1616491687.8592603
         },
         {
          "cpu_percent": 196.5,
          "cpu_time": 27.03,
          "name": "CustMercTS_1",
          "real_mem": 537214976,
          "time": 1616491687.8819134
         },
         {
          "cpu_percent": 491.2,
          "cpu_time": 27.11,
          "name": "ProdTypeTS_1",
          "real_mem": 537505792,
          "time": 1616491687.9708998
         },
         {
          "cpu_percent": 591,
          "cpu_time": 27.2,
          "name": "TranCityTS_1",
          "real_mem": 537604096,
          "time": 1616491688.0699918
         },
         {
          "cpu_percent": 178.5,
          "cpu_time": 27.31,
          "name": "SparkConcat_1",
          "real_mem": 537722880,
          "time": 1616491688.248427
         },
         {
          "cpu_percent": 376.9,
          "cpu_time": 27.389999999999997,
          "name": "SparkConcat_2",
          "real_mem": 538251264,
          "time": 1616491688.2715135
         },
         {
          "cpu_percent": 0,
          "cpu_time": 27.4,
          "name": "MercStatic_1",
          "real_mem": 538251264,
          "time": 1616491688.2950277
         },
         {
          "cpu_percent": 58.5,
          "cpu_time": 27.590000000000003,
          "name": "CustStatic_1",
          "real_mem": 539000832,
          "time": 1616491688.5485883
         },
         {
          "cpu_percent": 68.5,
          "cpu_time": 27.89,
          "name": "ProdTypeTS_1",
          "real_mem": 540078080,
          "time": 1616491688.8485496
         },
         {
          "cpu_percent": 34.2,
          "cpu_time": 27.770000000000003,
          "name": "CustMercTS_1",
          "real_mem": 539557888,
          "time": 1616491688.7484877
         },
         {
          "cpu_percent": 390.4,
          "cpu_time": 27.68,
          "name": "TranTypeTS_1",
          "real_mem": 539471872,
          "time": 1616491688.57268
         }
        ],
        "logs": [
         {
          "asctime": "2021-03-23 09:27:38,540",
          "created": 1616491658.5402498,
          "extra": {},
          "filename": "async_executors.py",
          "funcName": "main",
          "levelname": "DEBUG",
          "lineno": 114,
          "message": "NonSparkPath_1: started async block execution\n",
          "name": "engine.logs:NonSparkPath_1",
          "pathname": "/usr/local/lib/python3.7/dist-packages/razor/flow/async_executors.py",
          "process": 10479,
          "processName": "ForkProcess-1:1",
          "thread": 139994310412096,
          "threadName": "MainThread"
         },
         {
          "asctime": "2021-03-23 09:27:38,558",
          "created": 1616491658.55823,
          "extra": {},
          "filename": "async_executors.py",
          "funcName": "fill_atomic_inputs",
          "levelname": "INFO",
          "lineno": 250,
          "message": "NonSparkPath_1: waiting for atomic input: ip_path",
          "name": "engine.logs:NonSparkPath_1",
          "pathname": "/usr/local/lib/python3.7/dist-packages/razor/flow/async_executors.py",
          "process": 10479,
          "processName": "ForkProcess-1:1",
          "thread": 139994310412096,
          "threadName": "MainThread"
         },
         {
          "asctime": "2021-03-23 09:27:38,558",
          "created": 1616491658.5584211,
          "extra": {},
          "filename": "async_executors.py",
          "funcName": "fill_atomic_inputs",
          "levelname": "DEBUG",
          "lineno": 253,
          "message": "NonSparkPath_1: got atomic input: customer_data.csv",
          "name": "engine.logs:NonSparkPath_1",
          "pathname": "/usr/local/lib/python3.7/dist-packages/razor/flow/async_executors.py",
          "process": 10479,
          "processName": "ForkProcess-1:1",
          "thread": 139994310412096,
          "threadName": "MainThread"
         },
         {
          "asctime": "2021-03-23 09:27:38,558",
          "created": 1616491658.558483,
          "extra": {},
          "filename": "async_executors.py",
          "funcName": "main",
          "levelname": "DEBUG",
          "lineno": 130,
          "message": "NonSparkPath_1: triggering block run",
          "name": "engine.logs:NonSparkPath_1",
          "pathname": "/usr/local/lib/python3.7/dist-packages/razor/flow/async_executors.py",
          "process": 10479,
          "processName": "ForkProcess-1:1",
          "thread": 139994310412096,
          "threadName": "MainThread"
         },
         {
          "asctime": "2021-03-23 09:27:38,786",
          "created": 1616491658.7861662,
          "extra": {},
          "filename": "async_executors.py",
          "funcName": "distribute_output_queue",
          "levelname": "DEBUG",
          "lineno": 308,
          "message": "NonSparkPath_1: ---- dist output: /home/aios/projectspace/customer_data.csv -> ('ReadCsvProjectSpace_1', 'filename')",
          "name": "engine.logs:NonSparkPath_1",
          "pathname": "/usr/local/lib/python3.7/dist-packages/razor/flow/async_executors.py",
          "process": 10479,
          "processName": "ForkProcess-1:1",
          "thread": 139994310412096,
          "threadName": "MainThread"
         },
         {
          "asctime": "2021-03-23 09:27:38,786",
          "created": 1616491658.7864907,
          "extra": {},
          "filename": "async_executors.py",
          "funcName": "main",
          "levelname": "DEBUG",
          "lineno": 147,
          "message": "NonSparkPath_1: block thread completed",
          "name": "engine.logs:NonSparkPath_1",
          "pathname": "/usr/local/lib/python3.7/dist-packages/razor/flow/async_executors.py",
          "process": 10479,
          "processName": "ForkProcess-1:1",
          "thread": 139994310412096,
          "threadName": "MainThread"
         },
         {
          "asctime": "2021-03-23 09:27:38,786",
          "created": 1616491658.7865663,
          "extra": {},
          "filename": "async_executors.py",
          "funcName": "main",
          "levelname": "DEBUG",
          "lineno": 149,
          "message": "NonSparkPath_1: block execution complete",
          "name": "engine.logs:NonSparkPath_1",
          "pathname": "/usr/local/lib/python3.7/dist-packages/razor/flow/async_executors.py",
          "process": 10479,
          "processName": "ForkProcess-1:1",
          "thread": 139994310412096,
          "threadName": "MainThread"
         },
         {
          "asctime": "2021-03-23 09:27:38,786",
          "created": 1616491658.7866766,
          "extra": {},
          "filename": "async_executors.py",
          "funcName": "distribute_output_queue",
          "levelname": "DEBUG",
          "lineno": 308,
          "message": "NonSparkPath_1: ---- dist output: b'__!\\tEndOfStream\\t!__' -> ('ReadCsvProjectSpace_1', 'filename')",
          "name": "engine.logs:NonSparkPath_1",
          "pathname": "/usr/local/lib/python3.7/dist-packages/razor/flow/async_executors.py",
          "process": 10479,
          "processName": "ForkProcess-1:1",
          "thread": 139994310412096,
          "threadName": "MainThread"
         },
         {
          "asctime": "2021-03-23 09:27:38,819",
          "created": 1616491658.819003,
          "extra": {},
          "filename": "async_executors.py",
          "funcName": "main",
          "levelname": "DEBUG",
          "lineno": 114,
          "message": "CustMercTS_1: started async block execution\n",
          "name": "engine.logs:CustMercTS_1",
          "pathname": "/usr/local/lib/python3.7/dist-packages/razor/flow/async_executors.py",
          "process": 10487,
          "processName": "ForkProcess-1:2",
          "thread": 139994310412096,
          "threadName": "MainThread"
         },
         {
          "asctime": "2021-03-23 09:27:38,820",
          "created": 1616491658.8208168,
          "extra": {},
          "filename": "async_executors.py",
          "funcName": "main",
          "levelname": "DEBUG",
          "lineno": 114,
          "message": "ProdTypeTS_1: started async block execution\n",
          "name": "engine.logs:ProdTypeTS_1",
          "pathname": "/usr/local/lib/python3.7/dist-packages/razor/flow/async_executors.py",
          "process": 10487,
          "processName": "ForkProcess-1:2",
          "thread": 139994310412096,
          "threadName": "MainThread"
         },
         {
          "asctime": "2021-03-23 09:27:38,821",
          "created": 1616491658.8213646,
          "extra": {},
          "filename": "async_executors.py",
          "funcName": "main",
          "levelname": "DEBUG",
          "lineno": 114,
          "message": "TranCityTS_1: started async block execution\n",
          "name": "engine.logs:TranCityTS_1",
          "pathname": "/usr/local/lib/python3.7/dist-packages/razor/flow/async_executors.py",
          "process": 10487,
          "processName": "ForkProcess-1:2",
          "thread": 139994310412096,
          "threadName": "MainThread"
         },
         {
          "asctime": "2021-03-23 09:27:38,821",
          "created": 1616491658.821972,
          "extra": {},
          "filename": "async_executors.py",
          "funcName": "main",
          "levelname": "DEBUG",
          "lineno": 114,
          "message": "SparkConcat_1: started async block execution\n",
          "name": "engine.logs:SparkConcat_1",
          "pathname": "/usr/local/lib/python3.7/dist-packages/razor/flow/async_executors.py",
          "process": 10487,
          "processName": "ForkProcess-1:2",
          "thread": 139994310412096,
          "threadName": "MainThread"
         },
         {
          "asctime": "2021-03-23 09:27:38,822",
          "created": 1616491658.8224404,
          "extra": {},
          "filename": "async_executors.py",
          "funcName": "main",
          "levelname": "DEBUG",
          "lineno": 114,
          "message": "SparkConcat_2: started async block execution\n",
          "name": "engine.logs:SparkConcat_2",
          "pathname": "/usr/local/lib/python3.7/dist-packages/razor/flow/async_executors.py",
          "process": 10487,
          "processName": "ForkProcess-1:2",
          "thread": 139994310412096,
          "threadName": "MainThread"
         },
         {
          "asctime": "2021-03-23 09:27:38,822",
          "created": 1616491658.8228712,
          "extra": {},
          "filename": "async_executors.py",
          "funcName": "main",
          "levelname": "DEBUG",
          "lineno": 114,
          "message": "MercStatic_1: started async block execution\n",
          "name": "engine.logs:MercStatic_1",
          "pathname": "/usr/local/lib/python3.7/dist-packages/razor/flow/async_executors.py",
          "process": 10487,
          "processName": "ForkProcess-1:2",
          "thread": 139994310412096,
          "threadName": "MainThread"
         },
         {
          "asctime": "2021-03-23 09:27:38,823",
          "created": 1616491658.8232648,
          "extra": {},
          "filename": "async_executors.py",
          "funcName": "main",
          "levelname": "DEBUG",
          "lineno": 114,
          "message": "ReadCsvProjectSpace_1: started async block execution\n",
          "name": "engine.logs:ReadCsvProjectSpace_1",
          "pathname": "/usr/local/lib/python3.7/dist-packages/razor/flow/async_executors.py",
          "process": 10487,
          "processName": "ForkProcess-1:2",
          "thread": 139994310412096,
          "threadName": "MainThread"
         },
         {
          "asctime": "2021-03-23 09:27:38,824",
          "created": 1616491658.8245614,
          "extra": {},
          "filename": "async_executors.py",
          "funcName": "main",
          "levelname": "DEBUG",
          "lineno": 114,
          "message": "TranTypeTS_1: started async block execution\n",
          "name": "engine.logs:TranTypeTS_1",
          "pathname": "/usr/local/lib/python3.7/dist-packages/razor/flow/async_executors.py",
          "process": 10487,
          "processName": "ForkProcess-1:2",
          "thread": 139994310412096,
          "threadName": "MainThread"
         },
         {
          "asctime": "2021-03-23 09:27:38,824",
          "created": 1616491658.8241365,
          "extra": {},
          "filename": "async_executors.py",
          "funcName": "main",
          "levelname": "DEBUG",
          "lineno": 114,
          "message": "CustStatic_1: started async block execution\n",
          "name": "engine.logs:CustStatic_1",
          "pathname": "/usr/local/lib/python3.7/dist-packages/razor/flow/async_executors.py",
          "process": 10487,
          "processName": "ForkProcess-1:2",
          "thread": 139994310412096,
          "threadName": "MainThread"
         },
         {
          "asctime": "2021-03-23 09:27:39,032",
          "created": 1616491659.0322,
          "extra": {},
          "filename": "async_executors.py",
          "funcName": "start_input_receiver",
          "levelname": "DEBUG",
          "lineno": 173,
          "message": "NonSparkPath_1: received cmd: start_sender, (), {'out_name': 'op_path', 'target': ('ReadCsvProjectSpace_1', 'filename'), 'out_addr': 'tcp://0.0.0.0:60597', 'in_memory': None}",
          "name": "engine.logs:NonSparkPath_1",
          "pathname": "/usr/local/lib/python3.7/dist-packages/razor/flow/async_executors.py",
          "process": 10479,
          "processName": "ForkProcess-1:1",
          "thread": 139994310412096,
          "threadName": "MainThread"
         },
         {
          "asctime": "2021-03-23 09:27:39,032",
          "created": 1616491659.0328028,
          "extra": {},
          "filename": "async_executors.py",
          "funcName": "start_output_sender",
          "levelname": "DEBUG",
          "lineno": 370,
          "message": "NonSparkPath_1: got start_sender, op_path, ('ReadCsvProjectSpace_1', 'filename')",
          "name": "engine.logs:NonSparkPath_1",
          "pathname": "/usr/local/lib/python3.7/dist-packages/razor/flow/async_executors.py",
          "process": 10479,
          "processName": "ForkProcess-1:1",
          "thread": 139994310412096,
          "threadName": "MainThread"
         },
         {
          "asctime": "2021-03-23 09:27:39,033",
          "created": 1616491659.0336366,
          "extra": {},
          "filename": "async_executors.py",
          "funcName": "start_output_sender",
          "levelname": "DEBUG",
          "lineno": 388,
          "message": "NonSparkPath_1: SENT, filename, /home/aios/projectspace/customer_data.csv, ('ReadCsvProjectSpace_1', 'filename')",
          "name": "engine.logs:NonSparkPath_1",
          "pathname": "/usr/local/lib/python3.7/dist-packages/razor/flow/async_executors.py",
          "process": 10479,
          "processName": "ForkProcess-1:1",
          "thread": 139994310412096,
          "threadName": "MainThread"
         },
         {
          "asctime": "2021-03-23 09:27:39,033",
          "created": 1616491659.0338717,
          "extra": {},
          "filename": "async_executors.py",
          "funcName": "start_output_sender",
          "levelname": "DEBUG",
          "lineno": 388,
          "message": "NonSparkPath_1: SENT, filename, b'__!\\tEndOfStream\\t!__', ('ReadCsvProjectSpace_1', 'filename')",
          "name": "engine.logs:NonSparkPath_1",
          "pathname": "/usr/local/lib/python3.7/dist-packages/razor/flow/async_executors.py",
          "process": 10479,
          "processName": "ForkProcess-1:1",
          "thread": 139994310412096,
          "threadName": "MainThread"
         },
         {
          "asctime": "2021-03-23 09:27:39,034",
          "created": 1616491659.0342388,
          "extra": {},
          "filename": "async_executors.py",
          "funcName": "start_output_sender",
          "levelname": "DEBUG",
          "lineno": 391,
          "message": "NonSparkPath_1: completed output: ('op_path', ('ReadCsvProjectSpace_1', 'filename'))",
          "name": "engine.logs:NonSparkPath_1",
          "pathname": "/usr/local/lib/python3.7/dist-packages/razor/flow/async_executors.py",
          "process": 10479,
          "processName": "ForkProcess-1:1",
          "thread": 139994310412096,
          "threadName": "MainThread"
         },
         {
          "asctime": "2021-03-23 09:27:39,039",
          "created": 1616491659.0395927,
          "extra": {},
          "filename": "async_executors.py",
          "funcName": "start_input_receiver",
          "levelname": "DEBUG",
          "lineno": 173,
          "message": "NonSparkPath_1: received cmd: terminate, (), {}",
          "name": "engine.logs:NonSparkPath_1",
          "pathname": "/usr/local/lib/python3.7/dist-packages/razor/flow/async_executors.py",
          "process": 10479,
          "processName": "ForkProcess-1:1",
          "thread": 139994310412096,
          "threadName": "MainThread"
         },
         {
          "asctime": "2021-03-23 09:27:38,840",
          "created": 1616491658.8406205,
          "extra": {},
          "filename": "async_executors.py",
          "funcName": "fill_atomic_inputs",
          "levelname": "INFO",
          "lineno": 250,
          "message": "CustMercTS_1: waiting for atomic input: ip_data",
          "name": "engine.logs:CustMercTS_1",
          "pathname": "/usr/local/lib/python3.7/dist-packages/razor/flow/async_executors.py",
          "process": 10487,
          "processName": "ForkProcess-1:2",
          "thread": 139994310412096,
          "threadName": "MainThread"
         },
         {
          "asctime": "2021-03-23 09:27:38,867",
          "created": 1616491658.8676174,
          "extra": {},
          "filename": "async_executors.py",
          "funcName": "fill_atomic_inputs",
          "levelname": "INFO",
          "lineno": 250,
          "message": "ProdTypeTS_1: waiting for atomic input: ip_data",
          "name": "engine.logs:ProdTypeTS_1",
          "pathname": "/usr/local/lib/python3.7/dist-packages/razor/flow/async_executors.py",
          "process": 10487,
          "processName": "ForkProcess-1:2",
          "thread": 139994310412096,
          "threadName": "MainThread"
         },
         {
          "asctime": "2021-03-23 09:27:38,881",
          "created": 1616491658.8816032,
          "extra": {},
          "filename": "async_executors.py",
          "funcName": "fill_atomic_inputs",
          "levelname": "INFO",
          "lineno": 250,
          "message": "TranCityTS_1: waiting for atomic input: ip_data",
          "name": "engine.logs:TranCityTS_1",
          "pathname": "/usr/local/lib/python3.7/dist-packages/razor/flow/async_executors.py",
          "process": 10487,
          "processName": "ForkProcess-1:2",
          "thread": 139994310412096,
          "threadName": "MainThread"
         },
         {
          "asctime": "2021-03-23 09:27:38,895",
          "created": 1616491658.8952978,
          "extra": {},
          "filename": "async_executors.py",
          "funcName": "fill_atomic_inputs",
          "levelname": "INFO",
          "lineno": 250,
          "message": "SparkConcat_1: waiting for atomic input: df1",
          "name": "engine.logs:SparkConcat_1",
          "pathname": "/usr/local/lib/python3.7/dist-packages/razor/flow/async_executors.py",
          "process": 10487,
          "processName": "ForkProcess-1:2",
          "thread": 139994310412096,
          "threadName": "MainThread"
         },
         {
          "asctime": "2021-03-23 09:27:38,909",
          "created": 1616491658.9093792,
          "extra": {},
          "filename": "async_executors.py",
          "funcName": "fill_atomic_inputs",
          "levelname": "INFO",
          "lineno": 250,
          "message": "SparkConcat_2: waiting for atomic input: df1",
          "name": "engine.logs:SparkConcat_2",
          "pathname": "/usr/local/lib/python3.7/dist-packages/razor/flow/async_executors.py",
          "process": 10487,
          "processName": "ForkProcess-1:2",
          "thread": 139994310412096,
          "threadName": "MainThread"
         },
         {
          "asctime": "2021-03-23 09:27:38,922",
          "created": 1616491658.922703,
          "extra": {},
          "filename": "async_executors.py",
          "funcName": "fill_atomic_inputs",
          "levelname": "INFO",
          "lineno": 250,
          "message": "MercStatic_1: waiting for atomic input: ip_data",
          "name": "engine.logs:MercStatic_1",
          "pathname": "/usr/local/lib/python3.7/dist-packages/razor/flow/async_executors.py",
          "process": 10487,
          "processName": "ForkProcess-1:2",
          "thread": 139994310412096,
          "threadName": "MainThread"
         },
         {
          "asctime": "2021-03-23 09:27:38,963",
          "created": 1616491658.963113,
          "extra": {},
          "filename": "async_executors.py",
          "funcName": "fill_atomic_inputs",
          "levelname": "INFO",
          "lineno": 250,
          "message": "CustStatic_1: waiting for atomic input: ip_data",
          "name": "engine.logs:CustStatic_1",
          "pathname": "/usr/local/lib/python3.7/dist-packages/razor/flow/async_executors.py",
          "process": 10487,
          "processName": "ForkProcess-1:2",
          "thread": 139994310412096,
          "threadName": "MainThread"
         },
         {
          "asctime": "2021-03-23 09:27:38,940",
          "created": 1616491658.9402678,
          "extra": {},
          "filename": "async_executors.py",
          "funcName": "fill_atomic_inputs",
          "levelname": "INFO",
          "lineno": 250,
          "message": "ReadCsvProjectSpace_1: waiting for atomic input: filename",
          "name": "engine.logs:ReadCsvProjectSpace_1",
          "pathname": "/usr/local/lib/python3.7/dist-packages/razor/flow/async_executors.py",
          "process": 10487,
          "processName": "ForkProcess-1:2",
          "thread": 139994310412096,
          "threadName": "MainThread"
         },
         {
          "asctime": "2021-03-23 09:27:38,977",
          "created": 1616491658.9770613,
          "extra": {},
          "filename": "async_executors.py",
          "funcName": "fill_atomic_inputs",
          "levelname": "INFO",
          "lineno": 250,
          "message": "TranTypeTS_1: waiting for atomic input: ip_data",
          "name": "engine.logs:TranTypeTS_1",
          "pathname": "/usr/local/lib/python3.7/dist-packages/razor/flow/async_executors.py",
          "process": 10487,
          "processName": "ForkProcess-1:2",
          "thread": 139994310412096,
          "threadName": "MainThread"
         },
         {
          "asctime": "2021-03-23 09:27:39,065",
          "created": 1616491659.0651643,
          "extra": {},
          "filename": "async_executors.py",
          "funcName": "start_input_receiver",
          "levelname": "DEBUG",
          "lineno": 177,
          "message": "ReadCsvProjectSpace_1: received data: filename, /home/aios/projectspace/customer_data.csv",
          "name": "engine.logs:ReadCsvProjectSpace_1",
          "pathname": "/usr/local/lib/python3.7/dist-packages/razor/flow/async_executors.py",
          "process": 10487,
          "processName": "ForkProcess-1:2",
          "thread": 139994310412096,
          "threadName": "MainThread"
         },
         {
          "asctime": "2021-03-23 09:27:39,077",
          "created": 1616491659.0776114,
          "extra": {},
          "filename": "async_executors.py",
          "funcName": "start_input_receiver",
          "levelname": "DEBUG",
          "lineno": 177,
          "message": "ReadCsvProjectSpace_1: received data: filename, b'__!\\tEndOfStream\\t!__'",
          "name": "engine.logs:ReadCsvProjectSpace_1",
          "pathname": "/usr/local/lib/python3.7/dist-packages/razor/flow/async_executors.py",
          "process": 10487,
          "processName": "ForkProcess-1:2",
          "thread": 139994310412096,
          "threadName": "MainThread"
         },
         {
          "asctime": "2021-03-23 09:27:39,078",
          "created": 1616491659.078083,
          "extra": {},
          "filename": "async_executors.py",
          "funcName": "fill_atomic_inputs",
          "levelname": "DEBUG",
          "lineno": 253,
          "message": "ReadCsvProjectSpace_1: got atomic input: /home/aios/projectspace/customer_data.csv",
          "name": "engine.logs:ReadCsvProjectSpace_1",
          "pathname": "/usr/local/lib/python3.7/dist-packages/razor/flow/async_executors.py",
          "process": 10487,
          "processName": "ForkProcess-1:2",
          "thread": 139994310412096,
          "threadName": "MainThread"
         },
         {
          "asctime": "2021-03-23 09:27:39,078",
          "created": 1616491659.0781827,
          "extra": {},
          "filename": "async_executors.py",
          "funcName": "fill_atomic_inputs",
          "levelname": "INFO",
          "lineno": 250,
          "message": "ReadCsvProjectSpace_1: waiting for atomic input: config",
          "name": "engine.logs:ReadCsvProjectSpace_1",
          "pathname": "/usr/local/lib/python3.7/dist-packages/razor/flow/async_executors.py",
          "process": 10487,
          "processName": "ForkProcess-1:2",
          "thread": 139994310412096,
          "threadName": "MainThread"
         },
         {
          "asctime": "2021-03-23 09:27:39,078",
          "created": 1616491659.0782404,
          "extra": {},
          "filename": "async_executors.py",
          "funcName": "fill_atomic_inputs",
          "levelname": "DEBUG",
          "lineno": 253,
          "message": "ReadCsvProjectSpace_1: got atomic input: {}",
          "name": "engine.logs:ReadCsvProjectSpace_1",
          "pathname": "/usr/local/lib/python3.7/dist-packages/razor/flow/async_executors.py",
          "process": 10487,
          "processName": "ForkProcess-1:2",
          "thread": 139994310412096,
          "threadName": "MainThread"
         },
         {
          "asctime": "2021-03-23 09:27:39,078",
          "created": 1616491659.078299,
          "extra": {},
          "filename": "async_executors.py",
          "funcName": "fill_atomic_inputs",
          "levelname": "INFO",
          "lineno": 250,
          "message": "ReadCsvProjectSpace_1: waiting for atomic input: source",
          "name": "engine.logs:ReadCsvProjectSpace_1",
          "pathname": "/usr/local/lib/python3.7/dist-packages/razor/flow/async_executors.py",
          "process": 10487,
          "processName": "ForkProcess-1:2",
          "thread": 139994310412096,
          "threadName": "MainThread"
         },
         {
          "asctime": "2021-03-23 09:27:39,078",
          "created": 1616491659.0783608,
          "extra": {},
          "filename": "async_executors.py",
          "funcName": "fill_atomic_inputs",
          "levelname": "DEBUG",
          "lineno": 253,
          "message": "ReadCsvProjectSpace_1: got atomic input: ",
          "name": "engine.logs:ReadCsvProjectSpace_1",
          "pathname": "/usr/local/lib/python3.7/dist-packages/razor/flow/async_executors.py",
          "process": 10487,
          "processName": "ForkProcess-1:2",
          "thread": 139994310412096,
          "threadName": "MainThread"
         },
         {
          "asctime": "2021-03-23 09:27:39,078",
          "created": 1616491659.0784295,
          "extra": {},
          "filename": "async_executors.py",
          "funcName": "main",
          "levelname": "DEBUG",
          "lineno": 130,
          "message": "ReadCsvProjectSpace_1: triggering block run",
          "name": "engine.logs:ReadCsvProjectSpace_1",
          "pathname": "/usr/local/lib/python3.7/dist-packages/razor/flow/async_executors.py",
          "process": 10487,
          "processName": "ForkProcess-1:2",
          "thread": 139994310412096,
          "threadName": "MainThread"
         },
         {
          "asctime": "2021-03-23 09:28:03,363",
          "created": 1616491683.363138,
          "exc_info": null,
          "extra": {},
          "filename": null,
          "full_message": null,
          "funcName": null,
          "levelname": "STDOUT",
          "lineno": null,
          "message": "Hello\n",
          "name": "block.stdout:ReadCsvProjectSpace_1",
          "pathname": null,
          "process": null,
          "processName": null,
          "thread": null,
          "threadName": null
         },
         {
          "asctime": "2021-03-23 09:28:03,455",
          "created": 1616491683.4551554,
          "exc_info": null,
          "extra": {},
          "filename": null,
          "full_message": null,
          "funcName": null,
          "levelname": "STDOUT",
          "lineno": null,
          "message": "root\n |-- transaction_id: string (nullable = true)\n |-- time: string (nullable = true)\n |-- customer_name: string (nullable = true)\n |-- card_number: string (nullable = true)\n |-- card_type: string (nullable = true)\n |-- physical_card_type: string (nullable = true)\n |-- merchant_id: string (nullable = true)\n |-- merchant_city: string (nullable = true)\n |-- merchant_state: string (nullable = true)\n |-- transaction_type: string (nullable = true)\n |-- transaction_type_sub: string (nullable = true)\n |-- amount: string (nullable = true)\n |-- product_type: string (nullable = true)\n |-- fraud_risk: string (nullable = true)\n |-- One Time Heavy Loot Score: string (nullable = true)\n |-- Drastic Transaction Change Pattern Score: string (nullable = true)\n |-- Parasitic Fraud Score: string (nullable = true)\n |-- Purchase Behavior Variation Score: string (nullable = true)\n |-- Preferred Merchant Variation Score: string (nullable = true)\n |-- Multiple Location Fraud Score: string (nullable = true)\n |-- Fraudster Merchant Score: string (nullable = true)\n |-- no_of_transactions_in_the_day: string (nullable = true)\n |-- max_transaction_amount_in_the_day: string (nullable = true)\n |-- avg_transaction_amount_in_the_day: string (nullable = true)\n |-- no_of_transactions_in_the_month: string (nullable = true)\n |-- max_transaction_amount_the_month: string (nullable = true)\n |-- avg_transaction_amount_the_month: string (nullable = true)\n |-- no_of_transactions_of_the_same_merchant_in_the_day: string (nullable = true)\n |-- max_transactions_of_the_same_merchant_in_the_day: string (nullable = true)\n |-- avg_transactions_of_the_same_merchant_in_the_day: string (nullable = true)\n |-- no_of_transactions_of_the_same_merchant_in_the_month: string (nullable = true)\n |-- max_transactions_of_the_same_merchant_in_the_month: string (nullable = true)\n |-- avg_transactions_of_the_same_merchant_in_the_month: string (nullable = true)\n\n",
          "name": "block.stdout:ReadCsvProjectSpace_1",
          "pathname": null,
          "process": null,
          "processName": null,
          "thread": null,
          "threadName": null
         },
         {
          "asctime": "2021-03-23 09:28:03,558",
          "created": 1616491683.5582592,
          "extra": {},
          "filename": "async_executors.py",
          "funcName": "distribute_output_queue",
          "levelname": "DEBUG",
          "lineno": 308,
          "message": "ReadCsvProjectSpace_1: ---- dist output: DataFrame[transaction_id: string, time: string, customer_name: string, card_number: string, card_type: string, physical_card_type: string, merchant_id: string, merchant_city: string, merchant_state: string, transaction_type: string, transaction_type_sub: string, amount: string, product_type: string, fraud_risk: string, One Time Heavy Loot Score: string, Drastic Transaction Change Pattern Score: string, Parasitic Fraud Score: string, Purchase Behavior Variation Score: string, Preferred Merchant Variation Score: string, Multiple Location Fraud Score: string, Fraudster Merchant Score: string, no_of_transactions_in_the_day: string, max_transaction_amount_in_the_day: string, avg_transaction_amount_in_the_day: string, no_of_transactions_in_the_month: string, max_transaction_amount_the_month: string, avg_transaction_amount_the_month: string, no_of_transactions_of_the_same_merchant_in_the_day: string, max_transactions_of_the_same_merchant_in_the_day: string, avg_transactions_of_the_same_merchant_in_the_day: string, no_of_transactions_of_the_same_merchant_in_the_month: string, max_transactions_of_the_same_merchant_in_the_month: string, avg_transactions_of_the_same_merchant_in_the_month: string] -> ('MercStatic_1', 'ip_data')",
          "name": "engine.logs:ReadCsvProjectSpace_1",
          "pathname": "/usr/local/lib/python3.7/dist-packages/razor/flow/async_executors.py",
          "process": 10487,
          "processName": "ForkProcess-1:2",
          "thread": 139994310412096,
          "threadName": "MainThread"
         },
         {
          "asctime": "2021-03-23 09:28:03,560",
          "created": 1616491683.5603008,
          "extra": {},
          "filename": "async_executors.py",
          "funcName": "distribute_output_queue",
          "levelname": "DEBUG",
          "lineno": 308,
          "message": "ReadCsvProjectSpace_1: ---- dist output: DataFrame[transaction_id: string, time: string, customer_name: string, card_number: string, card_type: string, physical_card_type: string, merchant_id: string, merchant_city: string, merchant_state: string, transaction_type: string, transaction_type_sub: string, amount: string, product_type: string, fraud_risk: string, One Time Heavy Loot Score: string, Drastic Transaction Change Pattern Score: string, Parasitic Fraud Score: string, Purchase Behavior Variation Score: string, Preferred Merchant Variation Score: string, Multiple Location Fraud Score: string, Fraudster Merchant Score: string, no_of_transactions_in_the_day: string, max_transaction_amount_in_the_day: string, avg_transaction_amount_in_the_day: string, no_of_transactions_in_the_month: string, max_transaction_amount_the_month: string, avg_transaction_amount_the_month: string, no_of_transactions_of_the_same_merchant_in_the_day: string, max_transactions_of_the_same_merchant_in_the_day: string, avg_transactions_of_the_same_merchant_in_the_day: string, no_of_transactions_of_the_same_merchant_in_the_month: string, max_transactions_of_the_same_merchant_in_the_month: string, avg_transactions_of_the_same_merchant_in_the_month: string] -> ('TranTypeTS_1', 'ip_data')",
          "name": "engine.logs:ReadCsvProjectSpace_1",
          "pathname": "/usr/local/lib/python3.7/dist-packages/razor/flow/async_executors.py",
          "process": 10487,
          "processName": "ForkProcess-1:2",
          "thread": 139994310412096,
          "threadName": "MainThread"
         },
         {
          "asctime": "2021-03-23 09:28:03,561",
          "created": 1616491683.561085,
          "extra": {},
          "filename": "async_executors.py",
          "funcName": "distribute_output_queue",
          "levelname": "DEBUG",
          "lineno": 308,
          "message": "ReadCsvProjectSpace_1: ---- dist output: DataFrame[transaction_id: string, time: string, customer_name: string, card_number: string, card_type: string, physical_card_type: string, merchant_id: string, merchant_city: string, merchant_state: string, transaction_type: string, transaction_type_sub: string, amount: string, product_type: string, fraud_risk: string, One Time Heavy Loot Score: string, Drastic Transaction Change Pattern Score: string, Parasitic Fraud Score: string, Purchase Behavior Variation Score: string, Preferred Merchant Variation Score: string, Multiple Location Fraud Score: string, Fraudster Merchant Score: string, no_of_transactions_in_the_day: string, max_transaction_amount_in_the_day: string, avg_transaction_amount_in_the_day: string, no_of_transactions_in_the_month: string, max_transaction_amount_the_month: string, avg_transaction_amount_the_month: string, no_of_transactions_of_the_same_merchant_in_the_day: string, max_transactions_of_the_same_merchant_in_the_day: string, avg_transactions_of_the_same_merchant_in_the_day: string, no_of_transactions_of_the_same_merchant_in_the_month: string, max_transactions_of_the_same_merchant_in_the_month: string, avg_transactions_of_the_same_merchant_in_the_month: string] -> ('TranCityTS_1', 'ip_data')",
          "name": "engine.logs:ReadCsvProjectSpace_1",
          "pathname": "/usr/local/lib/python3.7/dist-packages/razor/flow/async_executors.py",
          "process": 10487,
          "processName": "ForkProcess-1:2",
          "thread": 139994310412096,
          "threadName": "MainThread"
         },
         {
          "asctime": "2021-03-23 09:28:03,561",
          "created": 1616491683.5616453,
          "extra": {},
          "filename": "async_executors.py",
          "funcName": "distribute_output_queue",
          "levelname": "DEBUG",
          "lineno": 308,
          "message": "ReadCsvProjectSpace_1: ---- dist output: DataFrame[transaction_id: string, time: string, customer_name: string, card_number: string, card_type: string, physical_card_type: string, merchant_id: string, merchant_city: string, merchant_state: string, transaction_type: string, transaction_type_sub: string, amount: string, product_type: string, fraud_risk: string, One Time Heavy Loot Score: string, Drastic Transaction Change Pattern Score: string, Parasitic Fraud Score: string, Purchase Behavior Variation Score: string, Preferred Merchant Variation Score: string, Multiple Location Fraud Score: string, Fraudster Merchant Score: string, no_of_transactions_in_the_day: string, max_transaction_amount_in_the_day: string, avg_transaction_amount_in_the_day: string, no_of_transactions_in_the_month: string, max_transaction_amount_the_month: string, avg_transaction_amount_the_month: string, no_of_transactions_of_the_same_merchant_in_the_day: string, max_transactions_of_the_same_merchant_in_the_day: string, avg_transactions_of_the_same_merchant_in_the_day: string, no_of_transactions_of_the_same_merchant_in_the_month: string, max_transactions_of_the_same_merchant_in_the_month: string, avg_transactions_of_the_same_merchant_in_the_month: string] -> ('CustStatic_1', 'ip_data')",
          "name": "engine.logs:ReadCsvProjectSpace_1",
          "pathname": "/usr/local/lib/python3.7/dist-packages/razor/flow/async_executors.py",
          "process": 10487,
          "processName": "ForkProcess-1:2",
          "thread": 139994310412096,
          "threadName": "MainThread"
         },
         {
          "asctime": "2021-03-23 09:28:03,562",
          "created": 1616491683.5628734,
          "extra": {},
          "filename": "async_executors.py",
          "funcName": "distribute_output_queue",
          "levelname": "DEBUG",
          "lineno": 308,
          "message": "ReadCsvProjectSpace_1: ---- dist output: DataFrame[transaction_id: string, time: string, customer_name: string, card_number: string, card_type: string, physical_card_type: string, merchant_id: string, merchant_city: string, merchant_state: string, transaction_type: string, transaction_type_sub: string, amount: string, product_type: string, fraud_risk: string, One Time Heavy Loot Score: string, Drastic Transaction Change Pattern Score: string, Parasitic Fraud Score: string, Purchase Behavior Variation Score: string, Preferred Merchant Variation Score: string, Multiple Location Fraud Score: string, Fraudster Merchant Score: string, no_of_transactions_in_the_day: string, max_transaction_amount_in_the_day: string, avg_transaction_amount_in_the_day: string, no_of_transactions_in_the_month: string, max_transaction_amount_the_month: string, avg_transaction_amount_the_month: string, no_of_transactions_of_the_same_merchant_in_the_day: string, max_transactions_of_the_same_merchant_in_the_day: string, avg_transactions_of_the_same_merchant_in_the_day: string, no_of_transactions_of_the_same_merchant_in_the_month: string, max_transactions_of_the_same_merchant_in_the_month: string, avg_transactions_of_the_same_merchant_in_the_month: string] -> ('CustMercTS_1', 'ip_data')",
          "name": "engine.logs:ReadCsvProjectSpace_1",
          "pathname": "/usr/local/lib/python3.7/dist-packages/razor/flow/async_executors.py",
          "process": 10487,
          "processName": "ForkProcess-1:2",
          "thread": 139994310412096,
          "threadName": "MainThread"
         },
         {
          "asctime": "2021-03-23 09:28:03,563",
          "created": 1616491683.5638025,
          "extra": {},
          "filename": "async_executors.py",
          "funcName": "distribute_output_queue",
          "levelname": "DEBUG",
          "lineno": 308,
          "message": "ReadCsvProjectSpace_1: ---- dist output: DataFrame[transaction_id: string, time: string, customer_name: string, card_number: string, card_type: string, physical_card_type: string, merchant_id: string, merchant_city: string, merchant_state: string, transaction_type: string, transaction_type_sub: string, amount: string, product_type: string, fraud_risk: string, One Time Heavy Loot Score: string, Drastic Transaction Change Pattern Score: string, Parasitic Fraud Score: string, Purchase Behavior Variation Score: string, Preferred Merchant Variation Score: string, Multiple Location Fraud Score: string, Fraudster Merchant Score: string, no_of_transactions_in_the_day: string, max_transaction_amount_in_the_day: string, avg_transaction_amount_in_the_day: string, no_of_transactions_in_the_month: string, max_transaction_amount_the_month: string, avg_transaction_amount_the_month: string, no_of_transactions_of_the_same_merchant_in_the_day: string, max_transactions_of_the_same_merchant_in_the_day: string, avg_transactions_of_the_same_merchant_in_the_day: string, no_of_transactions_of_the_same_merchant_in_the_month: string, max_transactions_of_the_same_merchant_in_the_month: string, avg_transactions_of_the_same_merchant_in_the_month: string] -> ('ProdTypeTS_1', 'ip_data')",
          "name": "engine.logs:ReadCsvProjectSpace_1",
          "pathname": "/usr/local/lib/python3.7/dist-packages/razor/flow/async_executors.py",
          "process": 10487,
          "processName": "ForkProcess-1:2",
          "thread": 139994310412096,
          "threadName": "MainThread"
         },
         {
          "asctime": "2021-03-23 09:28:03,564",
          "created": 1616491683.564265,
          "extra": {},
          "filename": "async_executors.py",
          "funcName": "main",
          "levelname": "DEBUG",
          "lineno": 147,
          "message": "ReadCsvProjectSpace_1: block thread completed",
          "name": "engine.logs:ReadCsvProjectSpace_1",
          "pathname": "/usr/local/lib/python3.7/dist-packages/razor/flow/async_executors.py",
          "process": 10487,
          "processName": "ForkProcess-1:2",
          "thread": 139994310412096,
          "threadName": "MainThread"
         },
         {
          "asctime": "2021-03-23 09:28:03,564",
          "created": 1616491683.5646913,
          "extra": {},
          "filename": "async_executors.py",
          "funcName": "main",
          "levelname": "DEBUG",
          "lineno": 149,
          "message": "ReadCsvProjectSpace_1: block execution complete",
          "name": "engine.logs:ReadCsvProjectSpace_1",
          "pathname": "/usr/local/lib/python3.7/dist-packages/razor/flow/async_executors.py",
          "process": 10487,
          "processName": "ForkProcess-1:2",
          "thread": 139994310412096,
          "threadName": "MainThread"
         },
         {
          "asctime": "2021-03-23 09:28:03,565",
          "created": 1616491683.5651946,
          "extra": {},
          "filename": "async_executors.py",
          "funcName": "distribute_output_queue",
          "levelname": "DEBUG",
          "lineno": 308,
          "message": "ReadCsvProjectSpace_1: ---- dist output: b'__!\\tEndOfStream\\t!__' -> ('MercStatic_1', 'ip_data')",
          "name": "engine.logs:ReadCsvProjectSpace_1",
          "pathname": "/usr/local/lib/python3.7/dist-packages/razor/flow/async_executors.py",
          "process": 10487,
          "processName": "ForkProcess-1:2",
          "thread": 139994310412096,
          "threadName": "MainThread"
         },
         {
          "asctime": "2021-03-23 09:28:03,565",
          "created": 1616491683.5653107,
          "extra": {},
          "filename": "async_executors.py",
          "funcName": "distribute_output_queue",
          "levelname": "DEBUG",
          "lineno": 308,
          "message": "ReadCsvProjectSpace_1: ---- dist output: b'__!\\tEndOfStream\\t!__' -> ('TranTypeTS_1', 'ip_data')",
          "name": "engine.logs:ReadCsvProjectSpace_1",
          "pathname": "/usr/local/lib/python3.7/dist-packages/razor/flow/async_executors.py",
          "process": 10487,
          "processName": "ForkProcess-1:2",
          "thread": 139994310412096,
          "threadName": "MainThread"
         },
         {
          "asctime": "2021-03-23 09:28:03,565",
          "created": 1616491683.565386,
          "extra": {},
          "filename": "async_executors.py",
          "funcName": "distribute_output_queue",
          "levelname": "DEBUG",
          "lineno": 308,
          "message": "ReadCsvProjectSpace_1: ---- dist output: b'__!\\tEndOfStream\\t!__' -> ('TranCityTS_1', 'ip_data')",
          "name": "engine.logs:ReadCsvProjectSpace_1",
          "pathname": "/usr/local/lib/python3.7/dist-packages/razor/flow/async_executors.py",
          "process": 10487,
          "processName": "ForkProcess-1:2",
          "thread": 139994310412096,
          "threadName": "MainThread"
         },
         {
          "asctime": "2021-03-23 09:28:03,565",
          "created": 1616491683.565447,
          "extra": {},
          "filename": "async_executors.py",
          "funcName": "distribute_output_queue",
          "levelname": "DEBUG",
          "lineno": 308,
          "message": "ReadCsvProjectSpace_1: ---- dist output: b'__!\\tEndOfStream\\t!__' -> ('CustStatic_1', 'ip_data')",
          "name": "engine.logs:ReadCsvProjectSpace_1",
          "pathname": "/usr/local/lib/python3.7/dist-packages/razor/flow/async_executors.py",
          "process": 10487,
          "processName": "ForkProcess-1:2",
          "thread": 139994310412096,
          "threadName": "MainThread"
         },
         {
          "asctime": "2021-03-23 09:28:03,565",
          "created": 1616491683.5655189,
          "extra": {},
          "filename": "async_executors.py",
          "funcName": "distribute_output_queue",
          "levelname": "DEBUG",
          "lineno": 308,
          "message": "ReadCsvProjectSpace_1: ---- dist output: b'__!\\tEndOfStream\\t!__' -> ('CustMercTS_1', 'ip_data')",
          "name": "engine.logs:ReadCsvProjectSpace_1",
          "pathname": "/usr/local/lib/python3.7/dist-packages/razor/flow/async_executors.py",
          "process": 10487,
          "processName": "ForkProcess-1:2",
          "thread": 139994310412096,
          "threadName": "MainThread"
         },
         {
          "asctime": "2021-03-23 09:28:03,565",
          "created": 1616491683.565579,
          "extra": {},
          "filename": "async_executors.py",
          "funcName": "distribute_output_queue",
          "levelname": "DEBUG",
          "lineno": 308,
          "message": "ReadCsvProjectSpace_1: ---- dist output: b'__!\\tEndOfStream\\t!__' -> ('ProdTypeTS_1', 'ip_data')",
          "name": "engine.logs:ReadCsvProjectSpace_1",
          "pathname": "/usr/local/lib/python3.7/dist-packages/razor/flow/async_executors.py",
          "process": 10487,
          "processName": "ForkProcess-1:2",
          "thread": 139994310412096,
          "threadName": "MainThread"
         },
         {
          "asctime": "2021-03-23 09:28:03,696",
          "created": 1616491683.6961043,
          "extra": {},
          "filename": "async_executors.py",
          "funcName": "start_input_receiver",
          "levelname": "DEBUG",
          "lineno": 173,
          "message": "ReadCsvProjectSpace_1: received cmd: start_sender, (), {'out_name': 'data', 'target': ('CustMercTS_1', 'ip_data'), 'out_addr': 'tcp://0.0.0.0:64936', 'in_memory': True}",
          "name": "engine.logs:ReadCsvProjectSpace_1",
          "pathname": "/usr/local/lib/python3.7/dist-packages/razor/flow/async_executors.py",
          "process": 10487,
          "processName": "ForkProcess-1:2",
          "thread": 139994310412096,
          "threadName": "MainThread"
         },
         {
          "asctime": "2021-03-23 09:28:03,748",
          "created": 1616491683.748239,
          "extra": {},
          "filename": "async_executors.py",
          "funcName": "start_output_sender",
          "levelname": "DEBUG",
          "lineno": 370,
          "message": "ReadCsvProjectSpace_1: got start_sender, data, ('CustMercTS_1', 'ip_data')",
          "name": "engine.logs:ReadCsvProjectSpace_1",
          "pathname": "/usr/local/lib/python3.7/dist-packages/razor/flow/async_executors.py",
          "process": 10487,
          "processName": "ForkProcess-1:2",
          "thread": 139994310412096,
          "threadName": "MainThread"
         },
         {
          "asctime": "2021-03-23 09:28:03,750",
          "created": 1616491683.750187,
          "extra": {},
          "filename": "async_executors.py",
          "funcName": "start_output_sender",
          "levelname": "DEBUG",
          "lineno": 375,
          "message": "ReadCsvProjectSpace_1: SENT, ip_data, DataFrame[transaction_id: string, time: string, customer_name: string, card_number: string, card_type: string, physical_card_type: string, merchant_id: string, merchant_city: string, merchant_state: string, transaction_type: string, transaction_type_sub: string, amount: string, product_type: string, fraud_risk: string, One Time Heavy Loot Score: string, Drastic Transaction Change Pattern Score: string, Parasitic Fraud Score: string, Purchase Behavior Variation Score: string, Preferred Merchant Variation Score: string, Multiple Location Fraud Score: string, Fraudster Merchant Score: string, no_of_transactions_in_the_day: string, max_transaction_amount_in_the_day: string, avg_transaction_amount_in_the_day: string, no_of_transactions_in_the_month: string, max_transaction_amount_the_month: string, avg_transaction_amount_the_month: string, no_of_transactions_of_the_same_merchant_in_the_day: string, max_transactions_of_the_same_merchant_in_the_day: string, avg_transactions_of_the_same_merchant_in_the_day: string, no_of_transactions_of_the_same_merchant_in_the_month: string, max_transactions_of_the_same_merchant_in_the_month: string, avg_transactions_of_the_same_merchant_in_the_month: string], ('CustMercTS_1', 'ip_data')",
          "name": "engine.logs:ReadCsvProjectSpace_1",
          "pathname": "/usr/local/lib/python3.7/dist-packages/razor/flow/async_executors.py",
          "process": 10487,
          "processName": "ForkProcess-1:2",
          "thread": 139994310412096,
          "threadName": "MainThread"
         },
         {
          "asctime": "2021-03-23 09:28:03,750",
          "created": 1616491683.7503848,
          "extra": {},
          "filename": "async_executors.py",
          "funcName": "start_output_sender",
          "levelname": "DEBUG",
          "lineno": 375,
          "message": "ReadCsvProjectSpace_1: SENT, ip_data, b'__!\\tEndOfStream\\t!__', ('CustMercTS_1', 'ip_data')",
          "name": "engine.logs:ReadCsvProjectSpace_1",
          "pathname": "/usr/local/lib/python3.7/dist-packages/razor/flow/async_executors.py",
          "process": 10487,
          "processName": "ForkProcess-1:2",
          "thread": 139994310412096,
          "threadName": "MainThread"
         },
         {
          "asctime": "2021-03-23 09:28:03,755",
          "created": 1616491683.755055,
          "extra": {},
          "filename": "async_executors.py",
          "funcName": "fill_atomic_inputs",
          "levelname": "DEBUG",
          "lineno": 253,
          "message": "CustMercTS_1: got atomic input: DataFrame[transaction_id: string, time: string, customer_name: string, card_number: string, card_type: string, physical_card_type: string, merchant_id: string, merchant_city: string, merchant_state: string, transaction_type: string, transaction_type_sub: string, amount: string, product_type: string, fraud_risk: string, One Time Heavy Loot Score: string, Drastic Transaction Change Pattern Score: string, Parasitic Fraud Score: string, Purchase Behavior Variation Score: string, Preferred Merchant Variation Score: string, Multiple Location Fraud Score: string, Fraudster Merchant Score: string, no_of_transactions_in_the_day: string, max_transaction_amount_in_the_day: string, avg_transaction_amount_in_the_day: string, no_of_transactions_in_the_month: string, max_transaction_amount_the_month: string, avg_transaction_amount_the_month: string, no_of_transactions_of_the_same_merchant_in_the_day: string, max_transactions_of_the_same_merchant_in_the_day: string, avg_transactions_of_the_same_merchant_in_the_day: string, no_of_transactions_of_the_same_merchant_in_the_month: string, max_transactions_of_the_same_merchant_in_the_month: string, avg_transactions_of_the_same_merchant_in_the_month: string]",
          "name": "engine.logs:CustMercTS_1",
          "pathname": "/usr/local/lib/python3.7/dist-packages/razor/flow/async_executors.py",
          "process": 10487,
          "processName": "ForkProcess-1:2",
          "thread": 139994310412096,
          "threadName": "MainThread"
         },
         {
          "asctime": "2021-03-23 09:28:03,750",
          "created": 1616491683.7504601,
          "extra": {},
          "filename": "async_executors.py",
          "funcName": "start_output_sender",
          "levelname": "DEBUG",
          "lineno": 379,
          "message": "ReadCsvProjectSpace_1: completed output: ('data', ('CustMercTS_1', 'ip_data'))",
          "name": "engine.logs:ReadCsvProjectSpace_1",
          "pathname": "/usr/local/lib/python3.7/dist-packages/razor/flow/async_executors.py",
          "process": 10487,
          "processName": "ForkProcess-1:2",
          "thread": 139994310412096,
          "threadName": "MainThread"
         },
         {
          "asctime": "2021-03-23 09:28:03,755",
          "created": 1616491683.7552035,
          "extra": {},
          "filename": "async_executors.py",
          "funcName": "fill_atomic_inputs",
          "levelname": "INFO",
          "lineno": 250,
          "message": "CustMercTS_1: waiting for atomic input: config",
          "name": "engine.logs:CustMercTS_1",
          "pathname": "/usr/local/lib/python3.7/dist-packages/razor/flow/async_executors.py",
          "process": 10487,
          "processName": "ForkProcess-1:2",
          "thread": 139994310412096,
          "threadName": "MainThread"
         },
         {
          "asctime": "2021-03-23 09:28:03,750",
          "created": 1616491683.7505534,
          "extra": {},
          "filename": "async_executors.py",
          "funcName": "start_input_receiver",
          "levelname": "DEBUG",
          "lineno": 173,
          "message": "ReadCsvProjectSpace_1: received cmd: start_sender, (), {'out_name': 'data', 'target': ('CustStatic_1', 'ip_data'), 'out_addr': 'tcp://0.0.0.0:64571', 'in_memory': True}",
          "name": "engine.logs:ReadCsvProjectSpace_1",
          "pathname": "/usr/local/lib/python3.7/dist-packages/razor/flow/async_executors.py",
          "process": 10487,
          "processName": "ForkProcess-1:2",
          "thread": 139994310412096,
          "threadName": "MainThread"
         },
         {
          "asctime": "2021-03-23 09:28:03,755",
          "created": 1616491683.755277,
          "extra": {},
          "filename": "async_executors.py",
          "funcName": "fill_atomic_inputs",
          "levelname": "DEBUG",
          "lineno": 253,
          "message": "CustMercTS_1: got atomic input: {}",
          "name": "engine.logs:CustMercTS_1",
          "pathname": "/usr/local/lib/python3.7/dist-packages/razor/flow/async_executors.py",
          "process": 10487,
          "processName": "ForkProcess-1:2",
          "thread": 139994310412096,
          "threadName": "MainThread"
         },
         {
          "asctime": "2021-03-23 09:28:03,761",
          "created": 1616491683.76185,
          "extra": {},
          "filename": "async_executors.py",
          "funcName": "fill_atomic_inputs",
          "levelname": "DEBUG",
          "lineno": 253,
          "message": "CustStatic_1: got atomic input: DataFrame[transaction_id: string, time: string, customer_name: string, card_number: string, card_type: string, physical_card_type: string, merchant_id: string, merchant_city: string, merchant_state: string, transaction_type: string, transaction_type_sub: string, amount: string, product_type: string, fraud_risk: string, One Time Heavy Loot Score: string, Drastic Transaction Change Pattern Score: string, Parasitic Fraud Score: string, Purchase Behavior Variation Score: string, Preferred Merchant Variation Score: string, Multiple Location Fraud Score: string, Fraudster Merchant Score: string, no_of_transactions_in_the_day: string, max_transaction_amount_in_the_day: string, avg_transaction_amount_in_the_day: string, no_of_transactions_in_the_month: string, max_transaction_amount_the_month: string, avg_transaction_amount_the_month: string, no_of_transactions_of_the_same_merchant_in_the_day: string, max_transactions_of_the_same_merchant_in_the_day: string, avg_transactions_of_the_same_merchant_in_the_day: string, no_of_transactions_of_the_same_merchant_in_the_month: string, max_transactions_of_the_same_merchant_in_the_month: string, avg_transactions_of_the_same_merchant_in_the_month: string]",
          "name": "engine.logs:CustStatic_1",
          "pathname": "/usr/local/lib/python3.7/dist-packages/razor/flow/async_executors.py",
          "process": 10487,
          "processName": "ForkProcess-1:2",
          "thread": 139994310412096,
          "threadName": "MainThread"
         },
         {
          "asctime": "2021-03-23 09:28:03,755",
          "created": 1616491683.7553186,
          "extra": {},
          "filename": "async_executors.py",
          "funcName": "fill_atomic_inputs",
          "levelname": "INFO",
          "lineno": 250,
          "message": "CustMercTS_1: waiting for atomic input: source",
          "name": "engine.logs:CustMercTS_1",
          "pathname": "/usr/local/lib/python3.7/dist-packages/razor/flow/async_executors.py",
          "process": 10487,
          "processName": "ForkProcess-1:2",
          "thread": 139994310412096,
          "threadName": "MainThread"
         },
         {
          "asctime": "2021-03-23 09:28:03,761",
          "created": 1616491683.7619998,
          "extra": {},
          "filename": "async_executors.py",
          "funcName": "fill_atomic_inputs",
          "levelname": "INFO",
          "lineno": 250,
          "message": "CustStatic_1: waiting for atomic input: config",
          "name": "engine.logs:CustStatic_1",
          "pathname": "/usr/local/lib/python3.7/dist-packages/razor/flow/async_executors.py",
          "process": 10487,
          "processName": "ForkProcess-1:2",
          "thread": 139994310412096,
          "threadName": "MainThread"
         },
         {
          "asctime": "2021-03-23 09:28:03,751",
          "created": 1616491683.751262,
          "extra": {},
          "filename": "async_executors.py",
          "funcName": "start_output_sender",
          "levelname": "DEBUG",
          "lineno": 370,
          "message": "ReadCsvProjectSpace_1: got start_sender, data, ('CustStatic_1', 'ip_data')",
          "name": "engine.logs:ReadCsvProjectSpace_1",
          "pathname": "/usr/local/lib/python3.7/dist-packages/razor/flow/async_executors.py",
          "process": 10487,
          "processName": "ForkProcess-1:2",
          "thread": 139994310412096,
          "threadName": "MainThread"
         },
         {
          "asctime": "2021-03-23 09:28:03,755",
          "created": 1616491683.755363,
          "extra": {},
          "filename": "async_executors.py",
          "funcName": "fill_atomic_inputs",
          "levelname": "DEBUG",
          "lineno": 253,
          "message": "CustMercTS_1: got atomic input: ",
          "name": "engine.logs:CustMercTS_1",
          "pathname": "/usr/local/lib/python3.7/dist-packages/razor/flow/async_executors.py",
          "process": 10487,
          "processName": "ForkProcess-1:2",
          "thread": 139994310412096,
          "threadName": "MainThread"
         },
         {
          "asctime": "2021-03-23 09:28:03,762",
          "created": 1616491683.7622561,
          "extra": {},
          "filename": "async_executors.py",
          "funcName": "fill_atomic_inputs",
          "levelname": "DEBUG",
          "lineno": 253,
          "message": "CustStatic_1: got atomic input: {}",
          "name": "engine.logs:CustStatic_1",
          "pathname": "/usr/local/lib/python3.7/dist-packages/razor/flow/async_executors.py",
          "process": 10487,
          "processName": "ForkProcess-1:2",
          "thread": 139994310412096,
          "threadName": "MainThread"
         },
         {
          "asctime": "2021-03-23 09:28:03,752",
          "created": 1616491683.7525165,
          "extra": {},
          "filename": "async_executors.py",
          "funcName": "start_output_sender",
          "levelname": "DEBUG",
          "lineno": 375,
          "message": "ReadCsvProjectSpace_1: SENT, ip_data, DataFrame[transaction_id: string, time: string, customer_name: string, card_number: string, card_type: string, physical_card_type: string, merchant_id: string, merchant_city: string, merchant_state: string, transaction_type: string, transaction_type_sub: string, amount: string, product_type: string, fraud_risk: string, One Time Heavy Loot Score: string, Drastic Transaction Change Pattern Score: string, Parasitic Fraud Score: string, Purchase Behavior Variation Score: string, Preferred Merchant Variation Score: string, Multiple Location Fraud Score: string, Fraudster Merchant Score: string, no_of_transactions_in_the_day: string, max_transaction_amount_in_the_day: string, avg_transaction_amount_in_the_day: string, no_of_transactions_in_the_month: string, max_transaction_amount_the_month: string, avg_transaction_amount_the_month: string, no_of_transactions_of_the_same_merchant_in_the_day: string, max_transactions_of_the_same_merchant_in_the_day: string, avg_transactions_of_the_same_merchant_in_the_day: string, no_of_transactions_of_the_same_merchant_in_the_month: string, max_transactions_of_the_same_merchant_in_the_month: string, avg_transactions_of_the_same_merchant_in_the_month: string], ('CustStatic_1', 'ip_data')",
          "name": "engine.logs:ReadCsvProjectSpace_1",
          "pathname": "/usr/local/lib/python3.7/dist-packages/razor/flow/async_executors.py",
          "process": 10487,
          "processName": "ForkProcess-1:2",
          "thread": 139994310412096,
          "threadName": "MainThread"
         },
         {
          "asctime": "2021-03-23 09:28:03,775",
          "created": 1616491683.7758932,
          "extra": {},
          "filename": "async_executors.py",
          "funcName": "fill_atomic_inputs",
          "levelname": "DEBUG",
          "lineno": 253,
          "message": "MercStatic_1: got atomic input: DataFrame[transaction_id: string, time: string, customer_name: string, card_number: string, card_type: string, physical_card_type: string, merchant_id: string, merchant_city: string, merchant_state: string, transaction_type: string, transaction_type_sub: string, amount: string, product_type: string, fraud_risk: string, One Time Heavy Loot Score: string, Drastic Transaction Change Pattern Score: string, Parasitic Fraud Score: string, Purchase Behavior Variation Score: string, Preferred Merchant Variation Score: string, Multiple Location Fraud Score: string, Fraudster Merchant Score: string, no_of_transactions_in_the_day: string, max_transaction_amount_in_the_day: string, avg_transaction_amount_in_the_day: string, no_of_transactions_in_the_month: string, max_transaction_amount_the_month: string, avg_transaction_amount_the_month: string, no_of_transactions_of_the_same_merchant_in_the_day: string, max_transactions_of_the_same_merchant_in_the_day: string, avg_transactions_of_the_same_merchant_in_the_day: string, no_of_transactions_of_the_same_merchant_in_the_month: string, max_transactions_of_the_same_merchant_in_the_month: string, avg_transactions_of_the_same_merchant_in_the_month: string]",
          "name": "engine.logs:MercStatic_1",
          "pathname": "/usr/local/lib/python3.7/dist-packages/razor/flow/async_executors.py",
          "process": 10487,
          "processName": "ForkProcess-1:2",
          "thread": 139994310412096,
          "threadName": "MainThread"
         },
         {
          "asctime": "2021-03-23 09:28:03,755",
          "created": 1616491683.7554176,
          "extra": {},
          "filename": "async_executors.py",
          "funcName": "main",
          "levelname": "DEBUG",
          "lineno": 130,
          "message": "CustMercTS_1: triggering block run",
          "name": "engine.logs:CustMercTS_1",
          "pathname": "/usr/local/lib/python3.7/dist-packages/razor/flow/async_executors.py",
          "process": 10487,
          "processName": "ForkProcess-1:2",
          "thread": 139994310412096,
          "threadName": "MainThread"
         },
         {
          "asctime": "2021-03-23 09:28:03,762",
          "created": 1616491683.7623057,
          "extra": {},
          "filename": "async_executors.py",
          "funcName": "fill_atomic_inputs",
          "levelname": "INFO",
          "lineno": 250,
          "message": "CustStatic_1: waiting for atomic input: source",
          "name": "engine.logs:CustStatic_1",
          "pathname": "/usr/local/lib/python3.7/dist-packages/razor/flow/async_executors.py",
          "process": 10487,
          "processName": "ForkProcess-1:2",
          "thread": 139994310412096,
          "threadName": "MainThread"
         },
         {
          "asctime": "2021-03-23 09:28:03,752",
          "created": 1616491683.7527242,
          "extra": {},
          "filename": "async_executors.py",
          "funcName": "start_output_sender",
          "levelname": "DEBUG",
          "lineno": 375,
          "message": "ReadCsvProjectSpace_1: SENT, ip_data, b'__!\\tEndOfStream\\t!__', ('CustStatic_1', 'ip_data')",
          "name": "engine.logs:ReadCsvProjectSpace_1",
          "pathname": "/usr/local/lib/python3.7/dist-packages/razor/flow/async_executors.py",
          "process": 10487,
          "processName": "ForkProcess-1:2",
          "thread": 139994310412096,
          "threadName": "MainThread"
         },
         {
          "asctime": "2021-03-23 09:28:03,776",
          "created": 1616491683.776111,
          "extra": {},
          "filename": "async_executors.py",
          "funcName": "fill_atomic_inputs",
          "levelname": "INFO",
          "lineno": 250,
          "message": "MercStatic_1: waiting for atomic input: config",
          "name": "engine.logs:MercStatic_1",
          "pathname": "/usr/local/lib/python3.7/dist-packages/razor/flow/async_executors.py",
          "process": 10487,
          "processName": "ForkProcess-1:2",
          "thread": 139994310412096,
          "threadName": "MainThread"
         },
         {
          "asctime": "2021-03-23 09:28:03,762",
          "created": 1616491683.7623467,
          "extra": {},
          "filename": "async_executors.py",
          "funcName": "fill_atomic_inputs",
          "levelname": "DEBUG",
          "lineno": 253,
          "message": "CustStatic_1: got atomic input: ",
          "name": "engine.logs:CustStatic_1",
          "pathname": "/usr/local/lib/python3.7/dist-packages/razor/flow/async_executors.py",
          "process": 10487,
          "processName": "ForkProcess-1:2",
          "thread": 139994310412096,
          "threadName": "MainThread"
         },
         {
          "asctime": "2021-03-23 09:28:03,752",
          "created": 1616491683.752817,
          "extra": {},
          "filename": "async_executors.py",
          "funcName": "start_output_sender",
          "levelname": "DEBUG",
          "lineno": 379,
          "message": "ReadCsvProjectSpace_1: completed output: ('data', ('CustStatic_1', 'ip_data'))",
          "name": "engine.logs:ReadCsvProjectSpace_1",
          "pathname": "/usr/local/lib/python3.7/dist-packages/razor/flow/async_executors.py",
          "process": 10487,
          "processName": "ForkProcess-1:2",
          "thread": 139994310412096,
          "threadName": "MainThread"
         },
         {
          "asctime": "2021-03-23 09:28:03,776",
          "created": 1616491683.776227,
          "extra": {},
          "filename": "async_executors.py",
          "funcName": "fill_atomic_inputs",
          "levelname": "DEBUG",
          "lineno": 253,
          "message": "MercStatic_1: got atomic input: {}",
          "name": "engine.logs:MercStatic_1",
          "pathname": "/usr/local/lib/python3.7/dist-packages/razor/flow/async_executors.py",
          "process": 10487,
          "processName": "ForkProcess-1:2",
          "thread": 139994310412096,
          "threadName": "MainThread"
         },
         {
          "asctime": "2021-03-23 09:28:03,762",
          "created": 1616491683.7623968,
          "extra": {},
          "filename": "async_executors.py",
          "funcName": "main",
          "levelname": "DEBUG",
          "lineno": 130,
          "message": "CustStatic_1: triggering block run",
          "name": "engine.logs:CustStatic_1",
          "pathname": "/usr/local/lib/python3.7/dist-packages/razor/flow/async_executors.py",
          "process": 10487,
          "processName": "ForkProcess-1:2",
          "thread": 139994310412096,
          "threadName": "MainThread"
         },
         {
          "asctime": "2021-03-23 09:28:03,753",
          "created": 1616491683.753224,
          "extra": {},
          "filename": "async_executors.py",
          "funcName": "start_input_receiver",
          "levelname": "DEBUG",
          "lineno": 173,
          "message": "ReadCsvProjectSpace_1: received cmd: start_sender, (), {'out_name': 'data', 'target': ('MercStatic_1', 'ip_data'), 'out_addr': 'tcp://0.0.0.0:59197', 'in_memory': True}",
          "name": "engine.logs:ReadCsvProjectSpace_1",
          "pathname": "/usr/local/lib/python3.7/dist-packages/razor/flow/async_executors.py",
          "process": 10487,
          "processName": "ForkProcess-1:2",
          "thread": 139994310412096,
          "threadName": "MainThread"
         },
         {
          "asctime": "2021-03-23 09:28:03,776",
          "created": 1616491683.776306,
          "extra": {},
          "filename": "async_executors.py",
          "funcName": "fill_atomic_inputs",
          "levelname": "INFO",
          "lineno": 250,
          "message": "MercStatic_1: waiting for atomic input: source",
          "name": "engine.logs:MercStatic_1",
          "pathname": "/usr/local/lib/python3.7/dist-packages/razor/flow/async_executors.py",
          "process": 10487,
          "processName": "ForkProcess-1:2",
          "thread": 139994310412096,
          "threadName": "MainThread"
         },
         {
          "asctime": "2021-03-23 09:28:03,869",
          "created": 1616491683.8693974,
          "extra": {},
          "filename": "async_executors.py",
          "funcName": "fill_atomic_inputs",
          "levelname": "DEBUG",
          "lineno": 253,
          "message": "ProdTypeTS_1: got atomic input: DataFrame[transaction_id: string, time: string, customer_name: string, card_number: string, card_type: string, physical_card_type: string, merchant_id: string, merchant_city: string, merchant_state: string, transaction_type: string, transaction_type_sub: string, amount: string, product_type: string, fraud_risk: string, One Time Heavy Loot Score: string, Drastic Transaction Change Pattern Score: string, Parasitic Fraud Score: string, Purchase Behavior Variation Score: string, Preferred Merchant Variation Score: string, Multiple Location Fraud Score: string, Fraudster Merchant Score: string, no_of_transactions_in_the_day: string, max_transaction_amount_in_the_day: string, avg_transaction_amount_in_the_day: string, no_of_transactions_in_the_month: string, max_transaction_amount_the_month: string, avg_transaction_amount_the_month: string, no_of_transactions_of_the_same_merchant_in_the_day: string, max_transactions_of_the_same_merchant_in_the_day: string, avg_transactions_of_the_same_merchant_in_the_day: string, no_of_transactions_of_the_same_merchant_in_the_month: string, max_transactions_of_the_same_merchant_in_the_month: string, avg_transactions_of_the_same_merchant_in_the_month: string]",
          "name": "engine.logs:ProdTypeTS_1",
          "pathname": "/usr/local/lib/python3.7/dist-packages/razor/flow/async_executors.py",
          "process": 10487,
          "processName": "ForkProcess-1:2",
          "thread": 139994310412096,
          "threadName": "MainThread"
         },
         {
          "asctime": "2021-03-23 09:28:04,055",
          "created": 1616491684.055226,
          "extra": {},
          "filename": "async_executors.py",
          "funcName": "fill_atomic_inputs",
          "levelname": "DEBUG",
          "lineno": 253,
          "message": "TranCityTS_1: got atomic input: DataFrame[transaction_id: string, time: string, customer_name: string, card_number: string, card_type: string, physical_card_type: string, merchant_id: string, merchant_city: string, merchant_state: string, transaction_type: string, transaction_type_sub: string, amount: string, product_type: string, fraud_risk: string, One Time Heavy Loot Score: string, Drastic Transaction Change Pattern Score: string, Parasitic Fraud Score: string, Purchase Behavior Variation Score: string, Preferred Merchant Variation Score: string, Multiple Location Fraud Score: string, Fraudster Merchant Score: string, no_of_transactions_in_the_day: string, max_transaction_amount_in_the_day: string, avg_transaction_amount_in_the_day: string, no_of_transactions_in_the_month: string, max_transaction_amount_the_month: string, avg_transaction_amount_the_month: string, no_of_transactions_of_the_same_merchant_in_the_day: string, max_transactions_of_the_same_merchant_in_the_day: string, avg_transactions_of_the_same_merchant_in_the_day: string, no_of_transactions_of_the_same_merchant_in_the_month: string, max_transactions_of_the_same_merchant_in_the_month: string, avg_transactions_of_the_same_merchant_in_the_month: string]",
          "name": "engine.logs:TranCityTS_1",
          "pathname": "/usr/local/lib/python3.7/dist-packages/razor/flow/async_executors.py",
          "process": 10487,
          "processName": "ForkProcess-1:2",
          "thread": 139994310412096,
          "threadName": "MainThread"
         },
         {
          "asctime": "2021-03-23 09:28:03,776",
          "created": 1616491683.7763836,
          "extra": {},
          "filename": "async_executors.py",
          "funcName": "fill_atomic_inputs",
          "levelname": "DEBUG",
          "lineno": 253,
          "message": "MercStatic_1: got atomic input: ",
          "name": "engine.logs:MercStatic_1",
          "pathname": "/usr/local/lib/python3.7/dist-packages/razor/flow/async_executors.py",
          "process": 10487,
          "processName": "ForkProcess-1:2",
          "thread": 139994310412096,
          "threadName": "MainThread"
         },
         {
          "asctime": "2021-03-23 09:28:03,869",
          "created": 1616491683.8695674,
          "extra": {},
          "filename": "async_executors.py",
          "funcName": "fill_atomic_inputs",
          "levelname": "INFO",
          "lineno": 250,
          "message": "ProdTypeTS_1: waiting for atomic input: config",
          "name": "engine.logs:ProdTypeTS_1",
          "pathname": "/usr/local/lib/python3.7/dist-packages/razor/flow/async_executors.py",
          "process": 10487,
          "processName": "ForkProcess-1:2",
          "thread": 139994310412096,
          "threadName": "MainThread"
         },
         {
          "asctime": "2021-03-23 09:28:03,757",
          "created": 1616491683.7574868,
          "extra": {},
          "filename": "async_executors.py",
          "funcName": "start_output_sender",
          "levelname": "DEBUG",
          "lineno": 370,
          "message": "ReadCsvProjectSpace_1: got start_sender, data, ('MercStatic_1', 'ip_data')",
          "name": "engine.logs:ReadCsvProjectSpace_1",
          "pathname": "/usr/local/lib/python3.7/dist-packages/razor/flow/async_executors.py",
          "process": 10487,
          "processName": "ForkProcess-1:2",
          "thread": 139994310412096,
          "threadName": "MainThread"
         },
         {
          "asctime": "2021-03-23 09:28:03,776",
          "created": 1616491683.7765052,
          "extra": {},
          "filename": "async_executors.py",
          "funcName": "main",
          "levelname": "DEBUG",
          "lineno": 130,
          "message": "MercStatic_1: triggering block run",
          "name": "engine.logs:MercStatic_1",
          "pathname": "/usr/local/lib/python3.7/dist-packages/razor/flow/async_executors.py",
          "process": 10487,
          "processName": "ForkProcess-1:2",
          "thread": 139994310412096,
          "threadName": "MainThread"
         },
         {
          "asctime": "2021-03-23 09:28:03,869",
          "created": 1616491683.8696752,
          "extra": {},
          "filename": "async_executors.py",
          "funcName": "fill_atomic_inputs",
          "levelname": "DEBUG",
          "lineno": 253,
          "message": "ProdTypeTS_1: got atomic input: {}",
          "name": "engine.logs:ProdTypeTS_1",
          "pathname": "/usr/local/lib/python3.7/dist-packages/razor/flow/async_executors.py",
          "process": 10487,
          "processName": "ForkProcess-1:2",
          "thread": 139994310412096,
          "threadName": "MainThread"
         },
         {
          "asctime": "2021-03-23 09:28:03,869",
          "created": 1616491683.8697457,
          "extra": {},
          "filename": "async_executors.py",
          "funcName": "fill_atomic_inputs",
          "levelname": "INFO",
          "lineno": 250,
          "message": "ProdTypeTS_1: waiting for atomic input: source",
          "name": "engine.logs:ProdTypeTS_1",
          "pathname": "/usr/local/lib/python3.7/dist-packages/razor/flow/async_executors.py",
          "process": 10487,
          "processName": "ForkProcess-1:2",
          "thread": 139994310412096,
          "threadName": "MainThread"
         },
         {
          "asctime": "2021-03-23 09:28:04,055",
          "created": 1616491684.055427,
          "extra": {},
          "filename": "async_executors.py",
          "funcName": "fill_atomic_inputs",
          "levelname": "INFO",
          "lineno": 250,
          "message": "TranCityTS_1: waiting for atomic input: config",
          "name": "engine.logs:TranCityTS_1",
          "pathname": "/usr/local/lib/python3.7/dist-packages/razor/flow/async_executors.py",
          "process": 10487,
          "processName": "ForkProcess-1:2",
          "thread": 139994310412096,
          "threadName": "MainThread"
         },
         {
          "asctime": "2021-03-23 09:28:03,869",
          "created": 1616491683.8698244,
          "extra": {},
          "filename": "async_executors.py",
          "funcName": "fill_atomic_inputs",
          "levelname": "DEBUG",
          "lineno": 253,
          "message": "ProdTypeTS_1: got atomic input: ",
          "name": "engine.logs:ProdTypeTS_1",
          "pathname": "/usr/local/lib/python3.7/dist-packages/razor/flow/async_executors.py",
          "process": 10487,
          "processName": "ForkProcess-1:2",
          "thread": 139994310412096,
          "threadName": "MainThread"
         },
         {
          "asctime": "2021-03-23 09:28:04,055",
          "created": 1616491684.055543,
          "extra": {},
          "filename": "async_executors.py",
          "funcName": "fill_atomic_inputs",
          "levelname": "DEBUG",
          "lineno": 253,
          "message": "TranCityTS_1: got atomic input: {}",
          "name": "engine.logs:TranCityTS_1",
          "pathname": "/usr/local/lib/python3.7/dist-packages/razor/flow/async_executors.py",
          "process": 10487,
          "processName": "ForkProcess-1:2",
          "thread": 139994310412096,
          "threadName": "MainThread"
         },
         {
          "asctime": "2021-03-23 09:28:04,455",
          "created": 1616491684.4553516,
          "extra": {},
          "filename": "async_executors.py",
          "funcName": "fill_atomic_inputs",
          "levelname": "DEBUG",
          "lineno": 253,
          "message": "TranTypeTS_1: got atomic input: DataFrame[transaction_id: string, time: string, customer_name: string, card_number: string, card_type: string, physical_card_type: string, merchant_id: string, merchant_city: string, merchant_state: string, transaction_type: string, transaction_type_sub: string, amount: string, product_type: string, fraud_risk: string, One Time Heavy Loot Score: string, Drastic Transaction Change Pattern Score: string, Parasitic Fraud Score: string, Purchase Behavior Variation Score: string, Preferred Merchant Variation Score: string, Multiple Location Fraud Score: string, Fraudster Merchant Score: string, no_of_transactions_in_the_day: string, max_transaction_amount_in_the_day: string, avg_transaction_amount_in_the_day: string, no_of_transactions_in_the_month: string, max_transaction_amount_the_month: string, avg_transaction_amount_the_month: string, no_of_transactions_of_the_same_merchant_in_the_day: string, max_transactions_of_the_same_merchant_in_the_day: string, avg_transactions_of_the_same_merchant_in_the_day: string, no_of_transactions_of_the_same_merchant_in_the_month: string, max_transactions_of_the_same_merchant_in_the_month: string, avg_transactions_of_the_same_merchant_in_the_month: string]",
          "name": "engine.logs:TranTypeTS_1",
          "pathname": "/usr/local/lib/python3.7/dist-packages/razor/flow/async_executors.py",
          "process": 10487,
          "processName": "ForkProcess-1:2",
          "thread": 139994310412096,
          "threadName": "MainThread"
         },
         {
          "asctime": "2021-03-23 09:28:03,760",
          "created": 1616491683.76051,
          "extra": {},
          "filename": "async_executors.py",
          "funcName": "start_output_sender",
          "levelname": "DEBUG",
          "lineno": 375,
          "message": "ReadCsvProjectSpace_1: SENT, ip_data, DataFrame[transaction_id: string, time: string, customer_name: string, card_number: string, card_type: string, physical_card_type: string, merchant_id: string, merchant_city: string, merchant_state: string, transaction_type: string, transaction_type_sub: string, amount: string, product_type: string, fraud_risk: string, One Time Heavy Loot Score: string, Drastic Transaction Change Pattern Score: string, Parasitic Fraud Score: string, Purchase Behavior Variation Score: string, Preferred Merchant Variation Score: string, Multiple Location Fraud Score: string, Fraudster Merchant Score: string, no_of_transactions_in_the_day: string, max_transaction_amount_in_the_day: string, avg_transaction_amount_in_the_day: string, no_of_transactions_in_the_month: string, max_transaction_amount_the_month: string, avg_transaction_amount_the_month: string, no_of_transactions_of_the_same_merchant_in_the_day: string, max_transactions_of_the_same_merchant_in_the_day: string, avg_transactions_of_the_same_merchant_in_the_day: string, no_of_transactions_of_the_same_merchant_in_the_month: string, max_transactions_of_the_same_merchant_in_the_month: string, avg_transactions_of_the_same_merchant_in_the_month: string], ('MercStatic_1', 'ip_data')",
          "name": "engine.logs:ReadCsvProjectSpace_1",
          "pathname": "/usr/local/lib/python3.7/dist-packages/razor/flow/async_executors.py",
          "process": 10487,
          "processName": "ForkProcess-1:2",
          "thread": 139994310412096,
          "threadName": "MainThread"
         },
         {
          "asctime": "2021-03-23 09:28:03,760",
          "created": 1616491683.7607136,
          "extra": {},
          "filename": "async_executors.py",
          "funcName": "start_output_sender",
          "levelname": "DEBUG",
          "lineno": 375,
          "message": "ReadCsvProjectSpace_1: SENT, ip_data, b'__!\\tEndOfStream\\t!__', ('MercStatic_1', 'ip_data')",
          "name": "engine.logs:ReadCsvProjectSpace_1",
          "pathname": "/usr/local/lib/python3.7/dist-packages/razor/flow/async_executors.py",
          "process": 10487,
          "processName": "ForkProcess-1:2",
          "thread": 139994310412096,
          "threadName": "MainThread"
         },
         {
          "asctime": "2021-03-23 09:28:03,760",
          "created": 1616491683.7607684,
          "extra": {},
          "filename": "async_executors.py",
          "funcName": "start_output_sender",
          "levelname": "DEBUG",
          "lineno": 379,
          "message": "ReadCsvProjectSpace_1: completed output: ('data', ('MercStatic_1', 'ip_data'))",
          "name": "engine.logs:ReadCsvProjectSpace_1",
          "pathname": "/usr/local/lib/python3.7/dist-packages/razor/flow/async_executors.py",
          "process": 10487,
          "processName": "ForkProcess-1:2",
          "thread": 139994310412096,
          "threadName": "MainThread"
         },
         {
          "asctime": "2021-03-23 09:28:04,055",
          "created": 1616491684.0556245,
          "extra": {},
          "filename": "async_executors.py",
          "funcName": "fill_atomic_inputs",
          "levelname": "INFO",
          "lineno": 250,
          "message": "TranCityTS_1: waiting for atomic input: source",
          "name": "engine.logs:TranCityTS_1",
          "pathname": "/usr/local/lib/python3.7/dist-packages/razor/flow/async_executors.py",
          "process": 10487,
          "processName": "ForkProcess-1:2",
          "thread": 139994310412096,
          "threadName": "MainThread"
         },
         {
          "asctime": "2021-03-23 09:28:04,455",
          "created": 1616491684.4555883,
          "extra": {},
          "filename": "async_executors.py",
          "funcName": "fill_atomic_inputs",
          "levelname": "INFO",
          "lineno": 250,
          "message": "TranTypeTS_1: waiting for atomic input: config",
          "name": "engine.logs:TranTypeTS_1",
          "pathname": "/usr/local/lib/python3.7/dist-packages/razor/flow/async_executors.py",
          "process": 10487,
          "processName": "ForkProcess-1:2",
          "thread": 139994310412096,
          "threadName": "MainThread"
         },
         {
          "asctime": "2021-03-23 09:28:03,948",
          "created": 1616491683.948979,
          "extra": {},
          "filename": "async_executors.py",
          "funcName": "main",
          "levelname": "DEBUG",
          "lineno": 130,
          "message": "ProdTypeTS_1: triggering block run",
          "name": "engine.logs:ProdTypeTS_1",
          "pathname": "/usr/local/lib/python3.7/dist-packages/razor/flow/async_executors.py",
          "process": 10487,
          "processName": "ForkProcess-1:2",
          "thread": 139994310412096,
          "threadName": "MainThread"
         },
         {
          "asctime": "2021-03-23 09:28:03,760",
          "created": 1616491683.7608714,
          "extra": {},
          "filename": "async_executors.py",
          "funcName": "start_input_receiver",
          "levelname": "DEBUG",
          "lineno": 173,
          "message": "ReadCsvProjectSpace_1: received cmd: start_sender, (), {'out_name': 'data', 'target': ('ProdTypeTS_1', 'ip_data'), 'out_addr': 'tcp://0.0.0.0:53514', 'in_memory': True}",
          "name": "engine.logs:ReadCsvProjectSpace_1",
          "pathname": "/usr/local/lib/python3.7/dist-packages/razor/flow/async_executors.py",
          "process": 10487,
          "processName": "ForkProcess-1:2",
          "thread": 139994310412096,
          "threadName": "MainThread"
         },
         {
          "asctime": "2021-03-23 09:28:04,055",
          "created": 1616491684.0556912,
          "extra": {},
          "filename": "async_executors.py",
          "funcName": "fill_atomic_inputs",
          "levelname": "DEBUG",
          "lineno": 253,
          "message": "TranCityTS_1: got atomic input: ",
          "name": "engine.logs:TranCityTS_1",
          "pathname": "/usr/local/lib/python3.7/dist-packages/razor/flow/async_executors.py",
          "process": 10487,
          "processName": "ForkProcess-1:2",
          "thread": 139994310412096,
          "threadName": "MainThread"
         },
         {
          "asctime": "2021-03-23 09:28:04,455",
          "created": 1616491684.4557042,
          "extra": {},
          "filename": "async_executors.py",
          "funcName": "fill_atomic_inputs",
          "levelname": "DEBUG",
          "lineno": 253,
          "message": "TranTypeTS_1: got atomic input: {}",
          "name": "engine.logs:TranTypeTS_1",
          "pathname": "/usr/local/lib/python3.7/dist-packages/razor/flow/async_executors.py",
          "process": 10487,
          "processName": "ForkProcess-1:2",
          "thread": 139994310412096,
          "threadName": "MainThread"
         },
         {
          "asctime": "2021-03-23 09:28:04,055",
          "created": 1616491684.0557525,
          "extra": {},
          "filename": "async_executors.py",
          "funcName": "main",
          "levelname": "DEBUG",
          "lineno": 130,
          "message": "TranCityTS_1: triggering block run",
          "name": "engine.logs:TranCityTS_1",
          "pathname": "/usr/local/lib/python3.7/dist-packages/razor/flow/async_executors.py",
          "process": 10487,
          "processName": "ForkProcess-1:2",
          "thread": 139994310412096,
          "threadName": "MainThread"
         },
         {
          "asctime": "2021-03-23 09:28:04,455",
          "created": 1616491684.4557803,
          "extra": {},
          "filename": "async_executors.py",
          "funcName": "fill_atomic_inputs",
          "levelname": "INFO",
          "lineno": 250,
          "message": "TranTypeTS_1: waiting for atomic input: source",
          "name": "engine.logs:TranTypeTS_1",
          "pathname": "/usr/local/lib/python3.7/dist-packages/razor/flow/async_executors.py",
          "process": 10487,
          "processName": "ForkProcess-1:2",
          "thread": 139994310412096,
          "threadName": "MainThread"
         },
         {
          "asctime": "2021-03-23 09:28:03,766",
          "created": 1616491683.7664323,
          "extra": {},
          "filename": "async_executors.py",
          "funcName": "start_output_sender",
          "levelname": "DEBUG",
          "lineno": 370,
          "message": "ReadCsvProjectSpace_1: got start_sender, data, ('ProdTypeTS_1', 'ip_data')",
          "name": "engine.logs:ReadCsvProjectSpace_1",
          "pathname": "/usr/local/lib/python3.7/dist-packages/razor/flow/async_executors.py",
          "process": 10487,
          "processName": "ForkProcess-1:2",
          "thread": 139994310412096,
          "threadName": "MainThread"
         },
         {
          "asctime": "2021-03-23 09:28:04,455",
          "created": 1616491684.4558656,
          "extra": {},
          "filename": "async_executors.py",
          "funcName": "fill_atomic_inputs",
          "levelname": "DEBUG",
          "lineno": 253,
          "message": "TranTypeTS_1: got atomic input: ",
          "name": "engine.logs:TranTypeTS_1",
          "pathname": "/usr/local/lib/python3.7/dist-packages/razor/flow/async_executors.py",
          "process": 10487,
          "processName": "ForkProcess-1:2",
          "thread": 139994310412096,
          "threadName": "MainThread"
         },
         {
          "asctime": "2021-03-23 09:28:03,773",
          "created": 1616491683.7733345,
          "extra": {},
          "filename": "async_executors.py",
          "funcName": "start_output_sender",
          "levelname": "DEBUG",
          "lineno": 375,
          "message": "ReadCsvProjectSpace_1: SENT, ip_data, DataFrame[transaction_id: string, time: string, customer_name: string, card_number: string, card_type: string, physical_card_type: string, merchant_id: string, merchant_city: string, merchant_state: string, transaction_type: string, transaction_type_sub: string, amount: string, product_type: string, fraud_risk: string, One Time Heavy Loot Score: string, Drastic Transaction Change Pattern Score: string, Parasitic Fraud Score: string, Purchase Behavior Variation Score: string, Preferred Merchant Variation Score: string, Multiple Location Fraud Score: string, Fraudster Merchant Score: string, no_of_transactions_in_the_day: string, max_transaction_amount_in_the_day: string, avg_transaction_amount_in_the_day: string, no_of_transactions_in_the_month: string, max_transaction_amount_the_month: string, avg_transaction_amount_the_month: string, no_of_transactions_of_the_same_merchant_in_the_day: string, max_transactions_of_the_same_merchant_in_the_day: string, avg_transactions_of_the_same_merchant_in_the_day: string, no_of_transactions_of_the_same_merchant_in_the_month: string, max_transactions_of_the_same_merchant_in_the_month: string, avg_transactions_of_the_same_merchant_in_the_month: string], ('ProdTypeTS_1', 'ip_data')",
          "name": "engine.logs:ReadCsvProjectSpace_1",
          "pathname": "/usr/local/lib/python3.7/dist-packages/razor/flow/async_executors.py",
          "process": 10487,
          "processName": "ForkProcess-1:2",
          "thread": 139994310412096,
          "threadName": "MainThread"
         },
         {
          "asctime": "2021-03-23 09:28:04,455",
          "created": 1616491684.455976,
          "extra": {},
          "filename": "async_executors.py",
          "funcName": "main",
          "levelname": "DEBUG",
          "lineno": 130,
          "message": "TranTypeTS_1: triggering block run",
          "name": "engine.logs:TranTypeTS_1",
          "pathname": "/usr/local/lib/python3.7/dist-packages/razor/flow/async_executors.py",
          "process": 10487,
          "processName": "ForkProcess-1:2",
          "thread": 139994310412096,
          "threadName": "MainThread"
         },
         {
          "asctime": "2021-03-23 09:28:03,773",
          "created": 1616491683.7735803,
          "extra": {},
          "filename": "async_executors.py",
          "funcName": "start_output_sender",
          "levelname": "DEBUG",
          "lineno": 375,
          "message": "ReadCsvProjectSpace_1: SENT, ip_data, b'__!\\tEndOfStream\\t!__', ('ProdTypeTS_1', 'ip_data')",
          "name": "engine.logs:ReadCsvProjectSpace_1",
          "pathname": "/usr/local/lib/python3.7/dist-packages/razor/flow/async_executors.py",
          "process": 10487,
          "processName": "ForkProcess-1:2",
          "thread": 139994310412096,
          "threadName": "MainThread"
         },
         {
          "asctime": "2021-03-23 09:28:03,773",
          "created": 1616491683.7736838,
          "extra": {},
          "filename": "async_executors.py",
          "funcName": "start_output_sender",
          "levelname": "DEBUG",
          "lineno": 379,
          "message": "ReadCsvProjectSpace_1: completed output: ('data', ('ProdTypeTS_1', 'ip_data'))",
          "name": "engine.logs:ReadCsvProjectSpace_1",
          "pathname": "/usr/local/lib/python3.7/dist-packages/razor/flow/async_executors.py",
          "process": 10487,
          "processName": "ForkProcess-1:2",
          "thread": 139994310412096,
          "threadName": "MainThread"
         },
         {
          "asctime": "2021-03-23 09:28:03,773",
          "created": 1616491683.7738273,
          "extra": {},
          "filename": "async_executors.py",
          "funcName": "start_input_receiver",
          "levelname": "DEBUG",
          "lineno": 173,
          "message": "ReadCsvProjectSpace_1: received cmd: start_sender, (), {'out_name': 'data', 'target': ('TranCityTS_1', 'ip_data'), 'out_addr': 'tcp://0.0.0.0:60476', 'in_memory': True}",
          "name": "engine.logs:ReadCsvProjectSpace_1",
          "pathname": "/usr/local/lib/python3.7/dist-packages/razor/flow/async_executors.py",
          "process": 10487,
          "processName": "ForkProcess-1:2",
          "thread": 139994310412096,
          "threadName": "MainThread"
         },
         {
          "asctime": "2021-03-23 09:28:03,864",
          "created": 1616491683.8645074,
          "extra": {},
          "filename": "async_executors.py",
          "funcName": "start_output_sender",
          "levelname": "DEBUG",
          "lineno": 370,
          "message": "ReadCsvProjectSpace_1: got start_sender, data, ('TranCityTS_1', 'ip_data')",
          "name": "engine.logs:ReadCsvProjectSpace_1",
          "pathname": "/usr/local/lib/python3.7/dist-packages/razor/flow/async_executors.py",
          "process": 10487,
          "processName": "ForkProcess-1:2",
          "thread": 139994310412096,
          "threadName": "MainThread"
         },
         {
          "asctime": "2021-03-23 09:28:03,866",
          "created": 1616491683.8668332,
          "extra": {},
          "filename": "async_executors.py",
          "funcName": "start_output_sender",
          "levelname": "DEBUG",
          "lineno": 375,
          "message": "ReadCsvProjectSpace_1: SENT, ip_data, DataFrame[transaction_id: string, time: string, customer_name: string, card_number: string, card_type: string, physical_card_type: string, merchant_id: string, merchant_city: string, merchant_state: string, transaction_type: string, transaction_type_sub: string, amount: string, product_type: string, fraud_risk: string, One Time Heavy Loot Score: string, Drastic Transaction Change Pattern Score: string, Parasitic Fraud Score: string, Purchase Behavior Variation Score: string, Preferred Merchant Variation Score: string, Multiple Location Fraud Score: string, Fraudster Merchant Score: string, no_of_transactions_in_the_day: string, max_transaction_amount_in_the_day: string, avg_transaction_amount_in_the_day: string, no_of_transactions_in_the_month: string, max_transaction_amount_the_month: string, avg_transaction_amount_the_month: string, no_of_transactions_of_the_same_merchant_in_the_day: string, max_transactions_of_the_same_merchant_in_the_day: string, avg_transactions_of_the_same_merchant_in_the_day: string, no_of_transactions_of_the_same_merchant_in_the_month: string, max_transactions_of_the_same_merchant_in_the_month: string, avg_transactions_of_the_same_merchant_in_the_month: string], ('TranCityTS_1', 'ip_data')",
          "name": "engine.logs:ReadCsvProjectSpace_1",
          "pathname": "/usr/local/lib/python3.7/dist-packages/razor/flow/async_executors.py",
          "process": 10487,
          "processName": "ForkProcess-1:2",
          "thread": 139994310412096,
          "threadName": "MainThread"
         },
         {
          "asctime": "2021-03-23 09:28:03,867",
          "created": 1616491683.867151,
          "extra": {},
          "filename": "async_executors.py",
          "funcName": "start_output_sender",
          "levelname": "DEBUG",
          "lineno": 375,
          "message": "ReadCsvProjectSpace_1: SENT, ip_data, b'__!\\tEndOfStream\\t!__', ('TranCityTS_1', 'ip_data')",
          "name": "engine.logs:ReadCsvProjectSpace_1",
          "pathname": "/usr/local/lib/python3.7/dist-packages/razor/flow/async_executors.py",
          "process": 10487,
          "processName": "ForkProcess-1:2",
          "thread": 139994310412096,
          "threadName": "MainThread"
         },
         {
          "asctime": "2021-03-23 09:28:03,867",
          "created": 1616491683.8673003,
          "extra": {},
          "filename": "async_executors.py",
          "funcName": "start_output_sender",
          "levelname": "DEBUG",
          "lineno": 379,
          "message": "ReadCsvProjectSpace_1: completed output: ('data', ('TranCityTS_1', 'ip_data'))",
          "name": "engine.logs:ReadCsvProjectSpace_1",
          "pathname": "/usr/local/lib/python3.7/dist-packages/razor/flow/async_executors.py",
          "process": 10487,
          "processName": "ForkProcess-1:2",
          "thread": 139994310412096,
          "threadName": "MainThread"
         },
         {
          "asctime": "2021-03-23 09:28:03,867",
          "created": 1616491683.8674693,
          "extra": {},
          "filename": "async_executors.py",
          "funcName": "start_input_receiver",
          "levelname": "DEBUG",
          "lineno": 173,
          "message": "ReadCsvProjectSpace_1: received cmd: start_sender, (), {'out_name': 'data', 'target': ('TranTypeTS_1', 'ip_data'), 'out_addr': 'tcp://0.0.0.0:51584', 'in_memory': True}",
          "name": "engine.logs:ReadCsvProjectSpace_1",
          "pathname": "/usr/local/lib/python3.7/dist-packages/razor/flow/async_executors.py",
          "process": 10487,
          "processName": "ForkProcess-1:2",
          "thread": 139994310412096,
          "threadName": "MainThread"
         },
         {
          "asctime": "2021-03-23 09:28:03,975",
          "created": 1616491683.9759047,
          "extra": {},
          "filename": "async_executors.py",
          "funcName": "start_output_sender",
          "levelname": "DEBUG",
          "lineno": 370,
          "message": "ReadCsvProjectSpace_1: got start_sender, data, ('TranTypeTS_1', 'ip_data')",
          "name": "engine.logs:ReadCsvProjectSpace_1",
          "pathname": "/usr/local/lib/python3.7/dist-packages/razor/flow/async_executors.py",
          "process": 10487,
          "processName": "ForkProcess-1:2",
          "thread": 139994310412096,
          "threadName": "MainThread"
         },
         {
          "asctime": "2021-03-23 09:28:04,050",
          "created": 1616491684.050325,
          "extra": {},
          "filename": "async_executors.py",
          "funcName": "start_output_sender",
          "levelname": "DEBUG",
          "lineno": 375,
          "message": "ReadCsvProjectSpace_1: SENT, ip_data, DataFrame[transaction_id: string, time: string, customer_name: string, card_number: string, card_type: string, physical_card_type: string, merchant_id: string, merchant_city: string, merchant_state: string, transaction_type: string, transaction_type_sub: string, amount: string, product_type: string, fraud_risk: string, One Time Heavy Loot Score: string, Drastic Transaction Change Pattern Score: string, Parasitic Fraud Score: string, Purchase Behavior Variation Score: string, Preferred Merchant Variation Score: string, Multiple Location Fraud Score: string, Fraudster Merchant Score: string, no_of_transactions_in_the_day: string, max_transaction_amount_in_the_day: string, avg_transaction_amount_in_the_day: string, no_of_transactions_in_the_month: string, max_transaction_amount_the_month: string, avg_transaction_amount_the_month: string, no_of_transactions_of_the_same_merchant_in_the_day: string, max_transactions_of_the_same_merchant_in_the_day: string, avg_transactions_of_the_same_merchant_in_the_day: string, no_of_transactions_of_the_same_merchant_in_the_month: string, max_transactions_of_the_same_merchant_in_the_month: string, avg_transactions_of_the_same_merchant_in_the_month: string], ('TranTypeTS_1', 'ip_data')",
          "name": "engine.logs:ReadCsvProjectSpace_1",
          "pathname": "/usr/local/lib/python3.7/dist-packages/razor/flow/async_executors.py",
          "process": 10487,
          "processName": "ForkProcess-1:2",
          "thread": 139994310412096,
          "threadName": "MainThread"
         },
         {
          "asctime": "2021-03-23 09:28:04,050",
          "created": 1616491684.0506608,
          "extra": {},
          "filename": "async_executors.py",
          "funcName": "start_output_sender",
          "levelname": "DEBUG",
          "lineno": 375,
          "message": "ReadCsvProjectSpace_1: SENT, ip_data, b'__!\\tEndOfStream\\t!__', ('TranTypeTS_1', 'ip_data')",
          "name": "engine.logs:ReadCsvProjectSpace_1",
          "pathname": "/usr/local/lib/python3.7/dist-packages/razor/flow/async_executors.py",
          "process": 10487,
          "processName": "ForkProcess-1:2",
          "thread": 139994310412096,
          "threadName": "MainThread"
         },
         {
          "asctime": "2021-03-23 09:28:04,050",
          "created": 1616491684.0507867,
          "extra": {},
          "filename": "async_executors.py",
          "funcName": "start_output_sender",
          "levelname": "DEBUG",
          "lineno": 379,
          "message": "ReadCsvProjectSpace_1: completed output: ('data', ('TranTypeTS_1', 'ip_data'))",
          "name": "engine.logs:ReadCsvProjectSpace_1",
          "pathname": "/usr/local/lib/python3.7/dist-packages/razor/flow/async_executors.py",
          "process": 10487,
          "processName": "ForkProcess-1:2",
          "thread": 139994310412096,
          "threadName": "MainThread"
         },
         {
          "asctime": "2021-03-23 09:28:07,272",
          "created": 1616491687.272046,
          "extra": {},
          "filename": "async_executors.py",
          "funcName": "start_input_receiver",
          "levelname": "DEBUG",
          "lineno": 173,
          "message": "ReadCsvProjectSpace_1: received cmd: terminate, (), {}",
          "name": "engine.logs:ReadCsvProjectSpace_1",
          "pathname": "/usr/local/lib/python3.7/dist-packages/razor/flow/async_executors.py",
          "process": 10487,
          "processName": "ForkProcess-1:2",
          "thread": 139994310412096,
          "threadName": "MainThread"
         },
         {
          "asctime": "2021-03-23 09:28:07,967",
          "created": 1616491687.967166,
          "exc_info": "Traceback (most recent call last):\n\n  File \"/usr/local/lib/python3.7/dist-packages/razor/flow/async_executors.py\", line 276, in run_block\n    self.block.run()\n\n  File \"/home/aios/published-packages/project/blocks/ayan_spark_blocks/blocks.py\", line 459, in run\n    transaction_city_ts = get_transaction_city_ts(self.ip_data)\n\n  File \"/home/aios/published-packages/project/blocks/ayan_spark_blocks/blocks.py\", line 265, in get_transaction_city_ts\n    time_udf = functions.udf(get_trans_city_timeseries_feature, ArrayType(FloatType()))\n\nNameError: name 'get_trans_city_timeseries_feature' is not defined\n",
          "extra": {},
          "filename": "async_executors.py",
          "full_message": "Traceback (most recent call last):\n\n  File \"/usr/local/lib/python3.7/dist-packages/razor/flow/async_executors.py\", line 276, in run_block\n    self.block.run()\n\n  File \"/home/aios/published-packages/project/blocks/ayan_spark_blocks/blocks.py\", line 459, in run\n    transaction_city_ts = get_transaction_city_ts(self.ip_data)\n\n  File \"/home/aios/published-packages/project/blocks/ayan_spark_blocks/blocks.py\", line 265, in get_transaction_city_ts\n    time_udf = functions.udf(get_trans_city_timeseries_feature, ArrayType(FloatType()))\n\nNameError: name 'get_trans_city_timeseries_feature' is not defined\n",
          "funcName": "run_block",
          "levelname": "ERROR",
          "lineno": 278,
          "message": "name 'get_trans_city_timeseries_feature' is not defined",
          "name": "block.stderr:TranCityTS_1",
          "pathname": "/usr/local/lib/python3.7/dist-packages/razor/flow/async_executors.py",
          "process": 10487,
          "processName": "ForkProcess-1:2",
          "thread": 139990700914432,
          "threadName": "ThreadPoolExecutor-0_4"
         },
         {
          "asctime": "2021-03-23 09:28:08,149",
          "created": 1616491688.1490276,
          "extra": {},
          "filename": "async_executors.py",
          "funcName": "main",
          "levelname": "DEBUG",
          "lineno": 144,
          "message": "Block: 'TranCityTS_1': Unhandled Exception: NameError(\"name 'get_trans_city_timeseries_feature' is not defined\"). All outputs from this block will be terminated. This may cause successor blocks to fail and pipeline to terminate incorrectly.",
          "name": "engine.logs:TranCityTS_1",
          "pathname": "/usr/local/lib/python3.7/dist-packages/razor/flow/async_executors.py",
          "process": 10487,
          "processName": "ForkProcess-1:2",
          "thread": 139994310412096,
          "threadName": "MainThread"
         },
         {
          "asctime": "2021-03-23 09:28:08,149",
          "created": 1616491688.1491861,
          "extra": {},
          "filename": "async_executors.py",
          "funcName": "main",
          "levelname": "DEBUG",
          "lineno": 147,
          "message": "TranCityTS_1: block thread completed",
          "name": "engine.logs:TranCityTS_1",
          "pathname": "/usr/local/lib/python3.7/dist-packages/razor/flow/async_executors.py",
          "process": 10487,
          "processName": "ForkProcess-1:2",
          "thread": 139994310412096,
          "threadName": "MainThread"
         },
         {
          "asctime": "2021-03-23 09:28:08,149",
          "created": 1616491688.149268,
          "extra": {},
          "filename": "async_executors.py",
          "funcName": "main",
          "levelname": "DEBUG",
          "lineno": 149,
          "message": "TranCityTS_1: block execution complete",
          "name": "engine.logs:TranCityTS_1",
          "pathname": "/usr/local/lib/python3.7/dist-packages/razor/flow/async_executors.py",
          "process": 10487,
          "processName": "ForkProcess-1:2",
          "thread": 139994310412096,
          "threadName": "MainThread"
         }
        ],
        "meta": {
         "block_status": {
          "CustMercTS_1": "STOPPED",
          "CustStatic_1": "STOPPED",
          "MercStatic_1": "STOPPED",
          "NonSparkPath_1": "SUCCESS",
          "ProdTypeTS_1": "STOPPED",
          "ReadCsvProjectSpace_1": "SUCCESS",
          "SparkConcat_1": "STOPPED",
          "SparkConcat_2": "STOPPED",
          "TranCityTS_1": "ERROR",
          "TranTypeTS_1": "STOPPED"
         },
         "blocks": [
          {
           "class_name": "SparkConcat",
           "fullname": "razor.project.blocks.ayan_spark_blocks.SparkConcat",
           "id": "64c9014f-e144-4733-9fcb-0b3d34b5b8d3",
           "inputs": [
            {
             "dataType": null,
             "default": null,
             "flow": "atomic",
             "help": null,
             "isdict": false,
             "islist": false,
             "label": "df1",
             "meta": {},
             "name": "df1",
             "series": false,
             "type": "DataFrame",
             "type_check": true
            },
            {
             "dataType": null,
             "default": null,
             "flow": "atomic",
             "help": null,
             "isdict": false,
             "islist": false,
             "label": "df2",
             "meta": {},
             "name": "df2",
             "series": false,
             "type": "DataFrame",
             "type_check": true
            },
            {
             "dataType": "list",
             "default": [],
             "flow": "atomic",
             "help": null,
             "isdict": false,
             "islist": false,
             "label": "cols",
             "meta": {},
             "name": "cols",
             "series": false,
             "type": "list",
             "type_check": true
            },
            {
             "dataType": "dict",
             "default": {},
             "flow": "atomic",
             "help": null,
             "isdict": false,
             "islist": false,
             "label": "config",
             "meta": {},
             "name": "config",
             "series": false,
             "type": "dict",
             "type_check": true
            },
            {
             "dataType": "string",
             "default": "",
             "flow": "atomic",
             "help": null,
             "isdict": false,
             "islist": false,
             "label": "source",
             "meta": {},
             "name": "source",
             "series": false,
             "type": "str",
             "type_check": true
            }
           ],
           "outputs": [
            {
             "flow": "atomic",
             "help": null,
             "label": "op_df",
             "meta": {},
             "name": "op_df",
             "series": false,
             "type": "DataFrame",
             "type_check": true
            }
           ],
           "overwritten": false,
           "published": true,
           "var_names": [
            "SparkConcat"
           ]
          },
          {
           "class_name": "TranTypeTS",
           "fullname": "razor.project.blocks.ayan_spark_blocks.TranTypeTS",
           "id": "3e56d526-6e89-4741-a295-b798f8afcf62",
           "inputs": [
            {
             "dataType": null,
             "default": null,
             "flow": "atomic",
             "help": null,
             "isdict": false,
             "islist": false,
             "label": "ip_data",
             "meta": {},
             "name": "ip_data",
             "series": false,
             "type": "DataFrame",
             "type_check": true
            },
            {
             "dataType": "dict",
             "default": {},
             "flow": "atomic",
             "help": null,
             "isdict": false,
             "islist": false,
             "label": "config",
             "meta": {},
             "name": "config",
             "series": false,
             "type": "dict",
             "type_check": true
            },
            {
             "dataType": "string",
             "default": "",
             "flow": "atomic",
             "help": null,
             "isdict": false,
             "islist": false,
             "label": "source",
             "meta": {},
             "name": "source",
             "series": false,
             "type": "str",
             "type_check": true
            }
           ],
           "outputs": [
            {
             "flow": "atomic",
             "help": null,
             "label": "tran_type_ts",
             "meta": {},
             "name": "tran_type_ts",
             "series": false,
             "type": "DataFrame",
             "type_check": true
            }
           ],
           "overwritten": false,
           "published": true,
           "var_names": [
            "TranTypeTS"
           ]
          },
          {
           "class_name": "NonSparkPath",
           "fullname": "razor.project.blocks.ayan_spark_blocks.NonSparkPath",
           "id": "086a819f-dd57-418e-ae1d-a92e1db39f89",
           "inputs": [
            {
             "dataType": "string",
             "default": "",
             "flow": "atomic",
             "help": null,
             "isdict": false,
             "islist": false,
             "label": "ip_path",
             "meta": {},
             "name": "ip_path",
             "series": false,
             "type": "str",
             "type_check": true
            }
           ],
           "outputs": [
            {
             "flow": "atomic",
             "help": null,
             "label": "op_path",
             "meta": {},
             "name": "op_path",
             "series": false,
             "type": "str",
             "type_check": true
            }
           ],
           "overwritten": false,
           "published": true,
           "var_names": [
            "NonSparkPath"
           ]
          },
          {
           "class_name": "TranCityTS",
           "fullname": "razor.project.blocks.ayan_spark_blocks.TranCityTS",
           "id": "d4ca1bc9-f77b-4855-abff-c1e2d82edd26",
           "inputs": [
            {
             "dataType": null,
             "default": null,
             "flow": "atomic",
             "help": null,
             "isdict": false,
             "islist": false,
             "label": "ip_data",
             "meta": {},
             "name": "ip_data",
             "series": false,
             "type": "DataFrame",
             "type_check": true
            },
            {
             "dataType": "dict",
             "default": {},
             "flow": "atomic",
             "help": null,
             "isdict": false,
             "islist": false,
             "label": "config",
             "meta": {},
             "name": "config",
             "series": false,
             "type": "dict",
             "type_check": true
            },
            {
             "dataType": "string",
             "default": "",
             "flow": "atomic",
             "help": null,
             "isdict": false,
             "islist": false,
             "label": "source",
             "meta": {},
             "name": "source",
             "series": false,
             "type": "str",
             "type_check": true
            }
           ],
           "outputs": [
            {
             "flow": "atomic",
             "help": null,
             "label": "tran_city_ts",
             "meta": {},
             "name": "tran_city_ts",
             "series": false,
             "type": "DataFrame",
             "type_check": true
            }
           ],
           "overwritten": false,
           "published": true,
           "var_names": [
            "TranCityTS"
           ]
          },
          {
           "class_name": "CustMercTS",
           "fullname": "razor.project.blocks.ayan_spark_blocks.CustMercTS",
           "id": "1c048de1-9b67-48e5-98c0-b892fe79cd86",
           "inputs": [
            {
             "dataType": null,
             "default": null,
             "flow": "atomic",
             "help": null,
             "isdict": false,
             "islist": false,
             "label": "ip_data",
             "meta": {},
             "name": "ip_data",
             "series": false,
             "type": "DataFrame",
             "type_check": true
            },
            {
             "dataType": "dict",
             "default": {},
             "flow": "atomic",
             "help": null,
             "isdict": false,
             "islist": false,
             "label": "config",
             "meta": {},
             "name": "config",
             "series": false,
             "type": "dict",
             "type_check": true
            },
            {
             "dataType": "string",
             "default": "",
             "flow": "atomic",
             "help": null,
             "isdict": false,
             "islist": false,
             "label": "source",
             "meta": {},
             "name": "source",
             "series": false,
             "type": "str",
             "type_check": true
            }
           ],
           "outputs": [
            {
             "flow": "atomic",
             "help": null,
             "label": "customer_ts",
             "meta": {},
             "name": "customer_ts",
             "series": false,
             "type": "DataFrame",
             "type_check": true
            },
            {
             "flow": "atomic",
             "help": null,
             "label": "merchant_ts",
             "meta": {},
             "name": "merchant_ts",
             "series": false,
             "type": "DataFrame",
             "type_check": true
            }
           ],
           "overwritten": false,
           "published": true,
           "var_names": [
            "CustMercTS"
           ]
          },
          {
           "class_name": "ProdTypeTS",
           "fullname": "razor.project.blocks.ayan_spark_blocks.ProdTypeTS",
           "id": "baf0afbe-10b2-4efe-908c-4b1004017812",
           "inputs": [
            {
             "dataType": null,
             "default": null,
             "flow": "atomic",
             "help": null,
             "isdict": false,
             "islist": false,
             "label": "ip_data",
             "meta": {},
             "name": "ip_data",
             "series": false,
             "type": "DataFrame",
             "type_check": true
            },
            {
             "dataType": "dict",
             "default": {},
             "flow": "atomic",
             "help": null,
             "isdict": false,
             "islist": false,
             "label": "config",
             "meta": {},
             "name": "config",
             "series": false,
             "type": "dict",
             "type_check": true
            },
            {
             "dataType": "string",
             "default": "",
             "flow": "atomic",
             "help": null,
             "isdict": false,
             "islist": false,
             "label": "source",
             "meta": {},
             "name": "source",
             "series": false,
             "type": "str",
             "type_check": true
            }
           ],
           "outputs": [
            {
             "flow": "atomic",
             "help": null,
             "label": "prod_type_ts",
             "meta": {},
             "name": "prod_type_ts",
             "series": false,
             "type": "DataFrame",
             "type_check": true
            }
           ],
           "overwritten": false,
           "published": true,
           "var_names": [
            "ProdTypeTS"
           ]
          },
          {
           "class_name": "ReadCsvProjectSpace",
           "fullname": "razor.project.blocks.ayan_spark_blocks.ReadCsvProjectSpace",
           "id": "55a34d71-0022-4ab9-968e-d22aa75a6422",
           "inputs": [
            {
             "dataType": "string",
             "default": "",
             "flow": "atomic",
             "help": null,
             "isdict": false,
             "islist": false,
             "label": "filename",
             "meta": {},
             "name": "filename",
             "series": false,
             "type": "str",
             "type_check": true
            },
            {
             "dataType": "dict",
             "default": {},
             "flow": "atomic",
             "help": null,
             "isdict": false,
             "islist": false,
             "label": "config",
             "meta": {},
             "name": "config",
             "series": false,
             "type": "dict",
             "type_check": true
            },
            {
             "dataType": "string",
             "default": "",
             "flow": "atomic",
             "help": null,
             "isdict": false,
             "islist": false,
             "label": "source",
             "meta": {},
             "name": "source",
             "series": false,
             "type": "str",
             "type_check": true
            }
           ],
           "outputs": [
            {
             "flow": "atomic",
             "help": null,
             "label": "data",
             "meta": {},
             "name": "data",
             "series": false,
             "type": "DataFrame",
             "type_check": true
            }
           ],
           "overwritten": false,
           "published": true,
           "var_names": [
            "ReadCsvProjectSpace"
           ]
          },
          {
           "class_name": "CustStatic",
           "fullname": "razor.project.blocks.ayan_spark_blocks.CustStatic",
           "id": "e7f67d91-e108-45ba-9b9b-0bc7fbc8af6c",
           "inputs": [
            {
             "dataType": null,
             "default": null,
             "flow": "atomic",
             "help": null,
             "isdict": false,
             "islist": false,
             "label": "ip_data",
             "meta": {},
             "name": "ip_data",
             "series": false,
             "type": "DataFrame",
             "type_check": true
            },
            {
             "dataType": "dict",
             "default": {},
             "flow": "atomic",
             "help": null,
             "isdict": false,
             "islist": false,
             "label": "config",
             "meta": {},
             "name": "config",
             "series": false,
             "type": "dict",
             "type_check": true
            },
            {
             "dataType": "string",
             "default": "",
             "flow": "atomic",
             "help": null,
             "isdict": false,
             "islist": false,
             "label": "source",
             "meta": {},
             "name": "source",
             "series": false,
             "type": "str",
             "type_check": true
            }
           ],
           "outputs": [
            {
             "flow": "atomic",
             "help": null,
             "label": "customer_static",
             "meta": {},
             "name": "customer_static",
             "series": false,
             "type": "DataFrame",
             "type_check": true
            }
           ],
           "overwritten": false,
           "published": true,
           "var_names": [
            "CustStatic"
           ]
          },
          {
           "class_name": "MercStatic",
           "fullname": "razor.project.blocks.ayan_spark_blocks.MercStatic",
           "id": "2349474b-adfb-41df-93d3-7e72d99f600e",
           "inputs": [
            {
             "dataType": null,
             "default": null,
             "flow": "atomic",
             "help": null,
             "isdict": false,
             "islist": false,
             "label": "ip_data",
             "meta": {},
             "name": "ip_data",
             "series": false,
             "type": "DataFrame",
             "type_check": true
            },
            {
             "dataType": "dict",
             "default": {},
             "flow": "atomic",
             "help": null,
             "isdict": false,
             "islist": false,
             "label": "config",
             "meta": {},
             "name": "config",
             "series": false,
             "type": "dict",
             "type_check": true
            },
            {
             "dataType": "string",
             "default": "",
             "flow": "atomic",
             "help": null,
             "isdict": false,
             "islist": false,
             "label": "source",
             "meta": {},
             "name": "source",
             "series": false,
             "type": "str",
             "type_check": true
            }
           ],
           "outputs": [
            {
             "flow": "atomic",
             "help": null,
             "label": "merchant_static",
             "meta": {},
             "name": "merchant_static",
             "series": false,
             "type": "DataFrame",
             "type_check": true
            }
           ],
           "overwritten": false,
           "published": true,
           "var_names": [
            "MercStatic"
           ]
          }
         ],
         "connections": [
          {
           "id": "4d787605-ad11-4311-b755-a296c9a93e90",
           "source": {
            "adapter": false,
            "instance_id": "3893ba35-3931-4146-9151-8665b275a66c",
            "name": "merchant_ts"
           },
           "target": {
            "adapter": false,
            "instance_id": "bc969e32-643f-4312-bada-36410e2bb471",
            "name": "df1"
           }
          },
          {
           "id": "ca822ee5-b538-4d30-929c-35e3322fd3b8",
           "source": {
            "adapter": false,
            "instance_id": "f99a7f58-0c5a-4b75-bcea-b4ca52bb1f39",
            "name": "data"
           },
           "target": {
            "adapter": false,
            "instance_id": "4b70bf22-977e-4619-bcdf-3164aabb7ae4",
            "name": "ip_data"
           }
          },
          {
           "id": "fca810de-7080-42ec-92b2-115df310081e",
           "source": {
            "adapter": false,
            "instance_id": "f99a7f58-0c5a-4b75-bcea-b4ca52bb1f39",
            "name": "data"
           },
           "target": {
            "adapter": false,
            "instance_id": "5aa659b8-dc65-435a-8beb-4405421dbc0e",
            "name": "ip_data"
           }
          },
          {
           "id": "fd4ee428-47e8-4fdf-9a7a-6389bff371df",
           "source": {
            "adapter": false,
            "instance_id": "00c176ba-8515-4fb9-a558-0b79281f2c65",
            "name": "customer_static"
           },
           "target": {
            "adapter": false,
            "instance_id": "3675c120-ae7e-43b1-9d8c-1fa55c0939fa",
            "name": "df2"
           }
          },
          {
           "id": "43b0d7e4-dba4-46da-8cf7-817dff64eabc",
           "source": {
            "adapter": false,
            "instance_id": "4412d4da-f518-409c-961d-952ee1c9287e",
            "name": "merchant_static"
           },
           "target": {
            "adapter": false,
            "instance_id": "bc969e32-643f-4312-bada-36410e2bb471",
            "name": "df2"
           }
          },
          {
           "id": "eb8c8485-3e58-4e83-8513-9a7c0796f15e",
           "source": {
            "adapter": false,
            "instance_id": "3893ba35-3931-4146-9151-8665b275a66c",
            "name": "customer_ts"
           },
           "target": {
            "adapter": false,
            "instance_id": "3675c120-ae7e-43b1-9d8c-1fa55c0939fa",
            "name": "df1"
           }
          },
          {
           "id": "2fa92fbd-fdd2-47b5-985a-9978829d536e",
           "source": {
            "adapter": false,
            "instance_id": "f99a7f58-0c5a-4b75-bcea-b4ca52bb1f39",
            "name": "data"
           },
           "target": {
            "adapter": false,
            "instance_id": "00c176ba-8515-4fb9-a558-0b79281f2c65",
            "name": "ip_data"
           }
          },
          {
           "id": "b44d78d4-1623-4b72-bf94-07b5801c2fdf",
           "source": {
            "adapter": false,
            "instance_id": "39678dae-7892-4ae0-bb34-3aebf54d6f4e",
            "name": "op_path"
           },
           "target": {
            "adapter": false,
            "instance_id": "f99a7f58-0c5a-4b75-bcea-b4ca52bb1f39",
            "name": "filename"
           }
          },
          {
           "id": "934e4162-f51d-4b21-a7ff-683a6e898c83",
           "source": {
            "adapter": false,
            "instance_id": "f99a7f58-0c5a-4b75-bcea-b4ca52bb1f39",
            "name": "data"
           },
           "target": {
            "adapter": false,
            "instance_id": "4412d4da-f518-409c-961d-952ee1c9287e",
            "name": "ip_data"
           }
          },
          {
           "id": "b5d00561-ef75-478f-a7ec-34d3910b3570",
           "source": {
            "adapter": false,
            "instance_id": "f99a7f58-0c5a-4b75-bcea-b4ca52bb1f39",
            "name": "data"
           },
           "target": {
            "adapter": false,
            "instance_id": "3893ba35-3931-4146-9151-8665b275a66c",
            "name": "ip_data"
           }
          },
          {
           "id": "1117f463-f9ce-42d0-ae28-af61355c67fa",
           "source": {
            "adapter": false,
            "instance_id": "f99a7f58-0c5a-4b75-bcea-b4ca52bb1f39",
            "name": "data"
           },
           "target": {
            "adapter": false,
            "instance_id": "cbbf5ca9-5d07-4110-b4c9-c18d4e6ff26c",
            "name": "ip_data"
           }
          }
         ],
         "end": 1616491689.4581401,
         "id": "1ac77562-0572-43b6-87a3-e7adef63becb",
         "instances": [
          {
           "block_class": "64c9014f-e144-4733-9fcb-0b3d34b5b8d3",
           "id": "3675c120-ae7e-43b1-9d8c-1fa55c0939fa",
           "name": "SparkConcat_1",
           "var_names": [
            "merged_cust"
           ]
          },
          {
           "block_class": "1c048de1-9b67-48e5-98c0-b892fe79cd86",
           "id": "3893ba35-3931-4146-9151-8665b275a66c",
           "name": "CustMercTS_1",
           "var_names": [
            "cm_ts"
           ]
          },
          {
           "block_class": "55a34d71-0022-4ab9-968e-d22aa75a6422",
           "id": "f99a7f58-0c5a-4b75-bcea-b4ca52bb1f39",
           "name": "ReadCsvProjectSpace_1",
           "var_names": [
            "rcp"
           ]
          },
          {
           "block_class": "086a819f-dd57-418e-ae1d-a92e1db39f89",
           "id": "39678dae-7892-4ae0-bb34-3aebf54d6f4e",
           "name": "NonSparkPath_1",
           "var_names": [
            "nsp"
           ]
          },
          {
           "block_class": "e7f67d91-e108-45ba-9b9b-0bc7fbc8af6c",
           "id": "00c176ba-8515-4fb9-a558-0b79281f2c65",
           "name": "CustStatic_1",
           "var_names": [
            "cs"
           ]
          },
          {
           "block_class": "64c9014f-e144-4733-9fcb-0b3d34b5b8d3",
           "id": "bc969e32-643f-4312-bada-36410e2bb471",
           "name": "SparkConcat_2",
           "var_names": [
            "merged_merc"
           ]
          },
          {
           "block_class": "2349474b-adfb-41df-93d3-7e72d99f600e",
           "id": "4412d4da-f518-409c-961d-952ee1c9287e",
           "name": "MercStatic_1",
           "var_names": [
            "ms"
           ]
          },
          {
           "block_class": "baf0afbe-10b2-4efe-908c-4b1004017812",
           "id": "cbbf5ca9-5d07-4110-b4c9-c18d4e6ff26c",
           "name": "ProdTypeTS_1",
           "var_names": [
            "pt_ts"
           ]
          },
          {
           "block_class": "d4ca1bc9-f77b-4855-abff-c1e2d82edd26",
           "id": "4b70bf22-977e-4619-bcdf-3164aabb7ae4",
           "name": "TranCityTS_1",
           "var_names": [
            "tc_ts"
           ]
          },
          {
           "block_class": "3e56d526-6e89-4741-a295-b798f8afcf62",
           "id": "5aa659b8-dc65-435a-8beb-4405421dbc0e",
           "name": "TranTypeTS_1",
           "var_names": [
            "tt_ts"
           ]
          }
         ],
         "log_level": 20,
         "name": "temp",
         "start": 1616491658.5247989,
         "status": "ERROR",
         "system_logs": false,
         "var_names": []
        },
        "metrics": {},
        "runtime": {
         "CustMercTS_1": {
          "end": 1616491689.3558154,
          "load": 1616491658.7882621,
          "start": 1616491658.812547
         },
         "CustStatic_1": {
          "end": 1616491689.452397,
          "load": 1616491658.7882621,
          "start": 1616491658.812547
         },
         "MercStatic_1": {
          "end": 1616491689.4495268,
          "load": 1616491658.7882621,
          "start": 1616491658.812547
         },
         "NonSparkPath_1": {
          "end": 1616491659.036517,
          "load": 1616491658.526461,
          "start": 1616491658.534535
         },
         "ProdTypeTS_1": {
          "end": 1616491689.3577418,
          "load": 1616491658.7882621,
          "start": 1616491658.812547
         },
         "ReadCsvProjectSpace_1": {
          "end": 1616491687.1510804,
          "load": 1616491658.7882621,
          "start": 1616491658.812547
         },
         "SparkConcat_1": {
          "end": 1616491689.3681967,
          "load": 1616491658.7882621,
          "start": 1616491658.812547
         },
         "SparkConcat_2": {
          "end": 1616491689.3743217,
          "load": 1616491658.7882621,
          "start": 1616491658.812547
         },
         "TranCityTS_1": {
          "end": 1616491689.3630936,
          "load": 1616491658.7882621,
          "start": 1616491658.812547
         },
         "TranTypeTS_1": {
          "end": 1616491689.4551954,
          "load": 1616491658.7882621,
          "start": 1616491658.812547
         }
        }
       },
       "store_in_notebook": true
      }
     },
     "output_type": "display_data"
    },
    {
     "name": "stderr",
     "output_type": "stream",
     "text": [
      "ERROR:razor.flow.async_pipeline:Block: 'TranCityTS_1': Unhandled Exception: NameError(\"name 'get_trans_city_timeseries_feature' is not defined\"). All outputs from this block will be terminated. This may cause successor blocks to fail and pipeline to terminate incorrectly.\n",
      "Pipeline: 'temp' terminated on interruption\n"
     ]
    }
   ],
   "source": [
    "pipe.execute()"
   ]
  },
  {
   "cell_type": "code",
   "execution_count": null,
   "id": "infinite-industry",
   "metadata": {},
   "outputs": [],
   "source": []
  },
  {
   "cell_type": "code",
   "execution_count": null,
   "id": "heard-handy",
   "metadata": {},
   "outputs": [],
   "source": []
  }
 ],
 "metadata": {
  "kernelspec": {
   "display_name": "Python 3",
   "language": "python",
   "name": "python3"
  },
  "language_info": {
   "codemirror_mode": {
    "name": "ipython",
    "version": 3
   },
   "file_extension": ".py",
   "mimetype": "text/x-python",
   "name": "python",
   "nbconvert_exporter": "python",
   "pygments_lexer": "ipython3",
   "version": "3.7.10"
  }
 },
 "nbformat": 4,
 "nbformat_minor": 5
}
