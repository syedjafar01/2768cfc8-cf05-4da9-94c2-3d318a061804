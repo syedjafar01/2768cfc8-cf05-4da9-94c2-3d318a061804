{
 "cells": [
  {
   "cell_type": "code",
   "execution_count": 1,
   "id": "advance-needle",
   "metadata": {},
   "outputs": [],
   "source": [
    "import razor\n",
    "import razor.flow as rf\n",
    "from razor import api\n",
    "from razor.flow.spark import SparkBlock, SparkExecutor\n"
   ]
  },
  {
   "cell_type": "code",
   "execution_count": 2,
   "id": "moving-shoulder",
   "metadata": {},
   "outputs": [],
   "source": [
    "import os\n",
    "from datetime import datetime, timedelta\n",
    "from pyspark.sql import SparkSession, functions\n",
    "from pyspark.sql.dataframe import DataFrame\n",
    "from datetime import datetime, timedelta\n",
    "from dateutil.relativedelta import relativedelta"
   ]
  },
  {
   "cell_type": "code",
   "execution_count": 3,
   "id": "isolated-beatles",
   "metadata": {},
   "outputs": [],
   "source": [
    "def project_space_path(path):\n",
    "    ps = api.datasources('Project Space')\n",
    "    return os.path.join(ps.abspath(), path)\n"
   ]
  },
  {
   "cell_type": "code",
   "execution_count": 4,
   "id": "integral-party",
   "metadata": {},
   "outputs": [],
   "source": [
    "from pyspark.sql.functions import pandas_udf, PandasUDFType,collect_set\n",
    "\n",
    "def get_customer_static_info(input_df):\n",
    "    customer_static = input_df.select([\"customer_name\", \"card_number\", \"card_type\"])\n",
    "    return customer_static\n",
    "\n",
    "def get_merchant_static_info(input_df):\n",
    "    merchant_static_temp = input_df.select([\"merchant_id\", \"product_type\"])\n",
    "    merchant_static_data = input_df.select([\"merchant_id\", \"merchant_city\", \"merchant_state\"])\n",
    "    merchant_static_temp = merchant_static_temp.groupBy(\"merchant_id\").agg(collect_set(\"product_type\").alias(\"list_of_product\"))\n",
    "    merchant_static = merchant_static_data.join(merchant_static_temp, on='merchant_id', how='left')\n",
    "    return merchant_static\n"
   ]
  },
  {
   "cell_type": "code",
   "execution_count": null,
   "id": "micro-correlation",
   "metadata": {},
   "outputs": [],
   "source": []
  },
  {
   "cell_type": "code",
   "execution_count": 5,
   "id": "fallen-track",
   "metadata": {},
   "outputs": [],
   "source": [
    "@rf.block\n",
    "class NonSparkPath:\n",
    "    \n",
    "#     __publish__ = True\n",
    "#     __label__ = \"Spark read csv block\"\n",
    "#     __description__ = \"Read a csv file from project space and output as a spark dataframe\"\n",
    "#     __tags__ = [\"spark\", \"filter\", \"big data\",\"csv\",\"projectspace\"]\n",
    "#     __category__ = \"Spark\"\n",
    "#     __technology__ = razor.Technology.SPARK\n",
    "    \n",
    "    # Atomic input - csv filename relative to project space\n",
    "    ip_path: str\n",
    "    # Atomic output of type spark DataFrame.\n",
    "    op_path: rf.Output[str]\n",
    "    \n",
    "    def run(self):\n",
    "        self.op_path.put(project_space_path(self.ip_path))\n",
    "        "
   ]
  },
  {
   "cell_type": "code",
   "execution_count": 6,
   "id": "bigger-desktop",
   "metadata": {},
   "outputs": [],
   "source": [
    "nsp = NonSparkPath(ip_path='customer_data.csv')"
   ]
  },
  {
   "cell_type": "code",
   "execution_count": 7,
   "id": "prompt-telling",
   "metadata": {},
   "outputs": [
    {
     "data": {
      "text/plain": [
       "{'op_path': '/home/aios/projectspace/customer_data.csv'}"
      ]
     },
     "execution_count": 7,
     "metadata": {},
     "output_type": "execute_result"
    }
   ],
   "source": [
    "nsp.execute()"
   ]
  },
  {
   "cell_type": "code",
   "execution_count": 8,
   "id": "bottom-times",
   "metadata": {},
   "outputs": [],
   "source": [
    "@rf.block\n",
    "class ReadCsvProjectSpace(SparkBlock):\n",
    "    \n",
    "#     __publish__ = True\n",
    "#     __label__ = \"Spark read csv block\"\n",
    "#     __description__ = \"Read a csv file from project space and output as a spark dataframe\"\n",
    "#     __tags__ = [\"spark\", \"filter\", \"big data\",\"csv\",\"projectspace\"]\n",
    "#     __category__ = \"Spark\"\n",
    "#     __technology__ = razor.Technology.SPARK\n",
    "    \n",
    "    # Atomic input - csv filename relative to project space\n",
    "    filename:str\n",
    "    # Atomic output of type spark DataFrame.\n",
    "    data: rf.Output[DataFrame]\n",
    "    \n",
    "    def run(self):\n",
    "        df = self.spark.read.csv(self.filename, header = True)\n",
    "        print(\"Hello\")\n",
    "        df.printSchema()\n",
    "        self.data.put(df)\n",
    "        "
   ]
  },
  {
   "cell_type": "code",
   "execution_count": 9,
   "id": "upset-construction",
   "metadata": {},
   "outputs": [],
   "source": [
    "rcp = ReadCsvProjectSpace(filename = nsp.op_path, config={}, source=\"\")\n",
    "rcp.executor = SparkExecutor"
   ]
  },
  {
   "cell_type": "code",
   "execution_count": 10,
   "id": "pediatric-charge",
   "metadata": {},
   "outputs": [],
   "source": [
    "rcp.execute()"
   ]
  },
  {
   "cell_type": "code",
   "execution_count": 11,
   "id": "capable-provider",
   "metadata": {},
   "outputs": [],
   "source": [
    "@rf.block\n",
    "class RandomProcess1(SparkBlock):\n",
    "    \n",
    "#     __publish__ = True\n",
    "#     __label__ = \"Spark read csv block\"\n",
    "#     __description__ = \"Read a csv file from project space and output as a spark dataframe\"\n",
    "#     __tags__ = [\"spark\", \"filter\", \"big data\",\"csv\",\"projectspace\"]\n",
    "#     __category__ = \"Spark\"\n",
    "#     __technology__ = razor.Technology.SPARK\n",
    "    \n",
    "    # Atomic input - csv filename relative to project space\n",
    "    ip_data: DataFrame\n",
    "    # Atomic output of type spark DataFrame.\n",
    "    op_data: rf.Output[DataFrame]\n",
    "    \n",
    "    def run(self):\n",
    "        customer_static = get_customer_static_info(self.ip_data)\n",
    "        customer_static.show()\n",
    "        self.op_data.put(customer_static)\n",
    "        \n",
    "        "
   ]
  },
  {
   "cell_type": "code",
   "execution_count": 12,
   "id": "reduced-newsletter",
   "metadata": {},
   "outputs": [],
   "source": [
    "rp1 = RandomProcess1(ip_data = rcp.data, config={}, source=\"\")\n",
    "rp1.executor = SparkExecutor"
   ]
  },
  {
   "cell_type": "code",
   "execution_count": 13,
   "id": "informed-bearing",
   "metadata": {},
   "outputs": [],
   "source": [
    "@rf.block\n",
    "class DropDuplicates(SparkBlock):\n",
    "    \n",
    "#     __publish__ = True\n",
    "#     __label__ = \"Spark read csv block\"\n",
    "#     __description__ = \"Read a csv file from project space and output as a spark dataframe\"\n",
    "#     __tags__ = [\"spark\", \"filter\", \"big data\",\"csv\",\"projectspace\"]\n",
    "#     __category__ = \"Spark\"\n",
    "#     __technology__ = razor.Technology.SPARK\n",
    "    \n",
    "    # Atomic input - csv filename relative to project space\n",
    "    ip_data: DataFrame\n",
    "    # Atomic output of type spark DataFrame.\n",
    "    op_data: rf.Output[DataFrame]\n",
    "    \n",
    "    def run(self):\n",
    "        ip_data = self.ip_data.dropDuplicates()\n",
    "        self.op_data.put(ip_data)\n",
    "        "
   ]
  },
  {
   "cell_type": "code",
   "execution_count": 14,
   "id": "fifty-significance",
   "metadata": {},
   "outputs": [],
   "source": [
    "drp = DropDuplicates(ip_data = rp1.op_data, config={}, source=\"\")\n",
    "drp.executor = SparkExecutor"
   ]
  },
  {
   "cell_type": "code",
   "execution_count": 15,
   "id": "liberal-geneva",
   "metadata": {},
   "outputs": [],
   "source": [
    "@rf.block\n",
    "class RandomProcess2(SparkBlock):\n",
    "    \n",
    "#     __publish__ = True\n",
    "#     __label__ = \"Spark read csv block\"\n",
    "#     __description__ = \"Read a csv file from project space and output as a spark dataframe\"\n",
    "#     __tags__ = [\"spark\", \"filter\", \"big data\",\"csv\",\"projectspace\"]\n",
    "#     __category__ = \"Spark\"\n",
    "#     __technology__ = razor.Technology.SPARK\n",
    "    \n",
    "    # Atomic input - csv filename relative to project space\n",
    "    ip_data: DataFrame\n",
    "    # Atomic output of type spark DataFrame.\n",
    "    op_data: rf.Output[DataFrame]\n",
    "    \n",
    "    def run(self):\n",
    "        merchant_static = get_merchant_static_info(self.ip_data)\n",
    "        merchant_static.show()\n",
    "        self.op_data.put(merchant_static)\n",
    "        \n",
    "        "
   ]
  },
  {
   "cell_type": "code",
   "execution_count": 16,
   "id": "numerical-selection",
   "metadata": {},
   "outputs": [],
   "source": [
    "rp2 = RandomProcess2(ip_data = rcp.data, config={}, source=\"\")\n",
    "rp2.executor = SparkExecutor"
   ]
  },
  {
   "cell_type": "code",
   "execution_count": 17,
   "id": "light-cover",
   "metadata": {},
   "outputs": [],
   "source": [
    "pipe = rf.Pipeline(targets = [drp, rp2])"
   ]
  },
  {
   "cell_type": "code",
   "execution_count": 18,
   "id": "obvious-taxation",
   "metadata": {},
   "outputs": [
    {
     "data": {
      "application/vnd.razorthink.interactive+pipeline+view+json": {
       "blocks": [
        {
         "class_name": "ReadCsvProjectSpace",
         "fullname": ".ReadCsvProjectSpace",
         "id": "0c7bdea8-f553-4a1f-9aac-a6f6e9716ad7",
         "inputs": [
          {
           "dataType": "string",
           "default": "",
           "flow": "atomic",
           "help": null,
           "isdict": false,
           "islist": false,
           "label": "filename",
           "meta": {},
           "name": "filename",
           "series": false,
           "type": "str",
           "type_check": true
          },
          {
           "dataType": "dict",
           "default": {},
           "flow": "atomic",
           "help": null,
           "isdict": false,
           "islist": false,
           "label": "config",
           "meta": {},
           "name": "config",
           "series": false,
           "type": "dict",
           "type_check": true
          },
          {
           "dataType": "string",
           "default": "",
           "flow": "atomic",
           "help": null,
           "isdict": false,
           "islist": false,
           "label": "source",
           "meta": {},
           "name": "source",
           "series": false,
           "type": "str",
           "type_check": true
          }
         ],
         "outputs": [
          {
           "flow": "atomic",
           "help": null,
           "label": "data",
           "meta": {},
           "name": "data",
           "series": false,
           "type": "DataFrame",
           "type_check": true
          }
         ],
         "overwritten": false,
         "published": false,
         "var_names": [
          "ReadCsvProjectSpace"
         ]
        },
        {
         "class_name": "DropDuplicates",
         "fullname": ".DropDuplicates",
         "id": "fa3f87c3-2a45-4cb7-8a13-9c510dabb7d1",
         "inputs": [
          {
           "dataType": null,
           "default": null,
           "flow": "atomic",
           "help": null,
           "isdict": false,
           "islist": false,
           "label": "ip_data",
           "meta": {},
           "name": "ip_data",
           "series": false,
           "type": "DataFrame",
           "type_check": true
          },
          {
           "dataType": "dict",
           "default": {},
           "flow": "atomic",
           "help": null,
           "isdict": false,
           "islist": false,
           "label": "config",
           "meta": {},
           "name": "config",
           "series": false,
           "type": "dict",
           "type_check": true
          },
          {
           "dataType": "string",
           "default": "",
           "flow": "atomic",
           "help": null,
           "isdict": false,
           "islist": false,
           "label": "source",
           "meta": {},
           "name": "source",
           "series": false,
           "type": "str",
           "type_check": true
          }
         ],
         "outputs": [
          {
           "flow": "atomic",
           "help": null,
           "label": "op_data",
           "meta": {},
           "name": "op_data",
           "series": false,
           "type": "DataFrame",
           "type_check": true
          }
         ],
         "overwritten": false,
         "published": false,
         "var_names": [
          "DropDuplicates"
         ]
        },
        {
         "class_name": "NonSparkPath",
         "fullname": ".NonSparkPath",
         "id": "eb81942d-5c7f-49af-af96-7fbdd47e24bb",
         "inputs": [
          {
           "dataType": "string",
           "default": "",
           "flow": "atomic",
           "help": null,
           "isdict": false,
           "islist": false,
           "label": "ip_path",
           "meta": {},
           "name": "ip_path",
           "series": false,
           "type": "str",
           "type_check": true
          }
         ],
         "outputs": [
          {
           "flow": "atomic",
           "help": null,
           "label": "op_path",
           "meta": {},
           "name": "op_path",
           "series": false,
           "type": "str",
           "type_check": true
          }
         ],
         "overwritten": false,
         "published": false,
         "var_names": [
          "NonSparkPath"
         ]
        },
        {
         "class_name": "RandomProcess2",
         "fullname": ".RandomProcess2",
         "id": "1a0613b2-2fd5-4882-ad0c-c8598b2054e5",
         "inputs": [
          {
           "dataType": null,
           "default": null,
           "flow": "atomic",
           "help": null,
           "isdict": false,
           "islist": false,
           "label": "ip_data",
           "meta": {},
           "name": "ip_data",
           "series": false,
           "type": "DataFrame",
           "type_check": true
          },
          {
           "dataType": "dict",
           "default": {},
           "flow": "atomic",
           "help": null,
           "isdict": false,
           "islist": false,
           "label": "config",
           "meta": {},
           "name": "config",
           "series": false,
           "type": "dict",
           "type_check": true
          },
          {
           "dataType": "string",
           "default": "",
           "flow": "atomic",
           "help": null,
           "isdict": false,
           "islist": false,
           "label": "source",
           "meta": {},
           "name": "source",
           "series": false,
           "type": "str",
           "type_check": true
          }
         ],
         "outputs": [
          {
           "flow": "atomic",
           "help": null,
           "label": "op_data",
           "meta": {},
           "name": "op_data",
           "series": false,
           "type": "DataFrame",
           "type_check": true
          }
         ],
         "overwritten": false,
         "published": false,
         "var_names": [
          "RandomProcess2"
         ]
        },
        {
         "class_name": "RandomProcess1",
         "fullname": ".RandomProcess1",
         "id": "008cb89e-7fe0-4585-90ba-1e2df1956c99",
         "inputs": [
          {
           "dataType": null,
           "default": null,
           "flow": "atomic",
           "help": null,
           "isdict": false,
           "islist": false,
           "label": "ip_data",
           "meta": {},
           "name": "ip_data",
           "series": false,
           "type": "DataFrame",
           "type_check": true
          },
          {
           "dataType": "dict",
           "default": {},
           "flow": "atomic",
           "help": null,
           "isdict": false,
           "islist": false,
           "label": "config",
           "meta": {},
           "name": "config",
           "series": false,
           "type": "dict",
           "type_check": true
          },
          {
           "dataType": "string",
           "default": "",
           "flow": "atomic",
           "help": null,
           "isdict": false,
           "islist": false,
           "label": "source",
           "meta": {},
           "name": "source",
           "series": false,
           "type": "str",
           "type_check": true
          }
         ],
         "outputs": [
          {
           "flow": "atomic",
           "help": null,
           "label": "op_data",
           "meta": {},
           "name": "op_data",
           "series": false,
           "type": "DataFrame",
           "type_check": true
          }
         ],
         "overwritten": false,
         "published": false,
         "var_names": [
          "RandomProcess1"
         ]
        }
       ],
       "connections": [
        {
         "id": "b7b25e55-e427-4ed6-9e20-42f81920af39",
         "source": {
          "adapter": false,
          "instance_id": "5811204a-a1fe-49b6-aa0e-a2d9dd3e1076",
          "name": "op_path"
         },
         "target": {
          "adapter": false,
          "instance_id": "b93390d1-b989-43d1-a643-23a3c10db87a",
          "name": "filename"
         }
        },
        {
         "id": "91b95fbc-b281-4f0c-bf6a-e99d3e00fda0",
         "source": {
          "adapter": false,
          "instance_id": "b93390d1-b989-43d1-a643-23a3c10db87a",
          "name": "data"
         },
         "target": {
          "adapter": false,
          "instance_id": "a08560e0-8be9-48dd-b754-c3fb6e1d06af",
          "name": "ip_data"
         }
        },
        {
         "id": "f0bac473-6085-4458-912a-f8aa0837145f",
         "source": {
          "adapter": false,
          "instance_id": "a08560e0-8be9-48dd-b754-c3fb6e1d06af",
          "name": "op_data"
         },
         "target": {
          "adapter": false,
          "instance_id": "a74d0ae2-996f-4bf5-a78d-dcf566bb0aa1",
          "name": "ip_data"
         }
        },
        {
         "id": "f33be652-49aa-40ef-846b-fd741a7c4ccf",
         "source": {
          "adapter": false,
          "instance_id": "b93390d1-b989-43d1-a643-23a3c10db87a",
          "name": "data"
         },
         "target": {
          "adapter": false,
          "instance_id": "758af422-3ee4-424c-ba31-fe5ef6294100",
          "name": "ip_data"
         }
        }
       ],
       "id": "fef18cb5-f25a-4b64-ba9f-1816cc4f769a",
       "instances": [
        {
         "block_class": "fa3f87c3-2a45-4cb7-8a13-9c510dabb7d1",
         "id": "a74d0ae2-996f-4bf5-a78d-dcf566bb0aa1",
         "name": "DropDuplicates_1",
         "var_names": [
          "drp"
         ]
        },
        {
         "block_class": "008cb89e-7fe0-4585-90ba-1e2df1956c99",
         "id": "a08560e0-8be9-48dd-b754-c3fb6e1d06af",
         "name": "RandomProcess1_1",
         "var_names": [
          "rp1"
         ]
        },
        {
         "block_class": "0c7bdea8-f553-4a1f-9aac-a6f6e9716ad7",
         "id": "b93390d1-b989-43d1-a643-23a3c10db87a",
         "name": "ReadCsvProjectSpace_1",
         "var_names": [
          "rcp"
         ]
        },
        {
         "block_class": "eb81942d-5c7f-49af-af96-7fbdd47e24bb",
         "id": "5811204a-a1fe-49b6-aa0e-a2d9dd3e1076",
         "name": "NonSparkPath_1",
         "var_names": [
          "nsp"
         ]
        },
        {
         "block_class": "1a0613b2-2fd5-4882-ad0c-c8598b2054e5",
         "id": "758af422-3ee4-424c-ba31-fe5ef6294100",
         "name": "RandomProcess2_1",
         "var_names": [
          "rp2"
         ]
        }
       ],
       "name": "Pipeline_1",
       "var_names": []
      },
      "image/svg+xml": [
       "<?xml version=\"1.0\" encoding=\"UTF-8\" standalone=\"no\"?>\n",
       "<!DOCTYPE svg PUBLIC \"-//W3C//DTD SVG 1.1//EN\"\n",
       " \"http://www.w3.org/Graphics/SVG/1.1/DTD/svg11.dtd\">\n",
       "<!-- Generated by graphviz version 2.43.0 (0)\n",
       " -->\n",
       "<!-- Title: %3 Pages: 1 -->\n",
       "<svg width=\"518pt\" height=\"293pt\"\n",
       " viewBox=\"0.00 0.00 518.06 293.00\" xmlns=\"http://www.w3.org/2000/svg\" xmlns:xlink=\"http://www.w3.org/1999/xlink\">\n",
       "<g id=\"graph0\" class=\"graph\" transform=\"scale(1 1) rotate(0) translate(4 289)\">\n",
       "<title>%3</title>\n",
       "<polygon fill=\"white\" stroke=\"transparent\" points=\"-4,4 -4,-289 514.06,-289 514.06,4 -4,4\"/>\n",
       "<!-- DropDuplicates(&#39;DropDuplicates_1&#39;) -->\n",
       "<g id=\"node1\" class=\"node\">\n",
       "<title>DropDuplicates(&#39;DropDuplicates_1&#39;)</title>\n",
       "<ellipse fill=\"none\" stroke=\"black\" cx=\"123.03\" cy=\"-18\" rx=\"112.37\" ry=\"18\"/>\n",
       "<text text-anchor=\"middle\" x=\"123.03\" y=\"-15.5\" font-family=\"Helvetica,sans-Serif\" font-size=\"10.00\">DropDuplicates(&#39;DropDuplicates_1&#39;)</text>\n",
       "</g>\n",
       "<!-- RandomProcess1(&#39;RandomProcess1_1&#39;) -->\n",
       "<g id=\"node2\" class=\"node\">\n",
       "<title>RandomProcess1(&#39;RandomProcess1_1&#39;)</title>\n",
       "<ellipse fill=\"none\" stroke=\"black\" cx=\"123.03\" cy=\"-101\" rx=\"123.06\" ry=\"18\"/>\n",
       "<text text-anchor=\"middle\" x=\"123.03\" y=\"-98.5\" font-family=\"Helvetica,sans-Serif\" font-size=\"10.00\">RandomProcess1(&#39;RandomProcess1_1&#39;)</text>\n",
       "</g>\n",
       "<!-- RandomProcess1(&#39;RandomProcess1_1&#39;)&#45;&gt;DropDuplicates(&#39;DropDuplicates_1&#39;) -->\n",
       "<g id=\"edge1\" class=\"edge\">\n",
       "<title>RandomProcess1(&#39;RandomProcess1_1&#39;)&#45;&gt;DropDuplicates(&#39;DropDuplicates_1&#39;)</title>\n",
       "<path fill=\"none\" stroke=\"black\" d=\"M123.03,-82.82C123.03,-72.19 123.03,-58.31 123.03,-46.2\"/>\n",
       "<polygon fill=\"black\" stroke=\"black\" points=\"126.53,-46.15 123.03,-36.15 119.53,-46.15 126.53,-46.15\"/>\n",
       "<text text-anchor=\"middle\" x=\"167.03\" y=\"-57\" font-family=\"Helvetica,sans-Serif\" font-size=\"10.00\">op_data&#45;&gt;ip_data</text>\n",
       "</g>\n",
       "<!-- ReadCsvProjectSpace(&#39;ReadCsvProjectSpace_1&#39;) -->\n",
       "<g id=\"node3\" class=\"node\">\n",
       "<title>ReadCsvProjectSpace(&#39;ReadCsvProjectSpace_1&#39;)</title>\n",
       "<ellipse fill=\"none\" stroke=\"black\" cx=\"255.03\" cy=\"-184\" rx=\"148.86\" ry=\"18\"/>\n",
       "<text text-anchor=\"middle\" x=\"255.03\" y=\"-181.5\" font-family=\"Helvetica,sans-Serif\" font-size=\"10.00\">ReadCsvProjectSpace(&#39;ReadCsvProjectSpace_1&#39;)</text>\n",
       "</g>\n",
       "<!-- ReadCsvProjectSpace(&#39;ReadCsvProjectSpace_1&#39;)&#45;&gt;RandomProcess1(&#39;RandomProcess1_1&#39;) -->\n",
       "<g id=\"edge2\" class=\"edge\">\n",
       "<title>ReadCsvProjectSpace(&#39;ReadCsvProjectSpace_1&#39;)&#45;&gt;RandomProcess1(&#39;RandomProcess1_1&#39;)</title>\n",
       "<path fill=\"none\" stroke=\"black\" d=\"M227.68,-166.22C207.77,-154 180.61,-137.33 158.95,-124.04\"/>\n",
       "<polygon fill=\"black\" stroke=\"black\" points=\"160.7,-121.01 150.35,-118.76 157.04,-126.98 160.7,-121.01\"/>\n",
       "<text text-anchor=\"middle\" x=\"232.03\" y=\"-140\" font-family=\"Helvetica,sans-Serif\" font-size=\"10.00\">data&#45;&gt;ip_data</text>\n",
       "</g>\n",
       "<!-- RandomProcess2(&#39;RandomProcess2_1&#39;) -->\n",
       "<g id=\"node5\" class=\"node\">\n",
       "<title>RandomProcess2(&#39;RandomProcess2_1&#39;)</title>\n",
       "<ellipse fill=\"none\" stroke=\"black\" cx=\"387.03\" cy=\"-101\" rx=\"123.06\" ry=\"18\"/>\n",
       "<text text-anchor=\"middle\" x=\"387.03\" y=\"-98.5\" font-family=\"Helvetica,sans-Serif\" font-size=\"10.00\">RandomProcess2(&#39;RandomProcess2_1&#39;)</text>\n",
       "</g>\n",
       "<!-- ReadCsvProjectSpace(&#39;ReadCsvProjectSpace_1&#39;)&#45;&gt;RandomProcess2(&#39;RandomProcess2_1&#39;) -->\n",
       "<g id=\"edge3\" class=\"edge\">\n",
       "<title>ReadCsvProjectSpace(&#39;ReadCsvProjectSpace_1&#39;)&#45;&gt;RandomProcess2(&#39;RandomProcess2_1&#39;)</title>\n",
       "<path fill=\"none\" stroke=\"black\" d=\"M282.38,-166.22C302.29,-154 329.45,-137.33 351.11,-124.04\"/>\n",
       "<polygon fill=\"black\" stroke=\"black\" points=\"353.02,-126.98 359.72,-118.76 349.36,-121.01 353.02,-126.98\"/>\n",
       "<text text-anchor=\"middle\" x=\"363.03\" y=\"-140\" font-family=\"Helvetica,sans-Serif\" font-size=\"10.00\">data&#45;&gt;ip_data</text>\n",
       "</g>\n",
       "<!-- NonSparkPath(&#39;NonSparkPath_1&#39;) -->\n",
       "<g id=\"node4\" class=\"node\">\n",
       "<title>NonSparkPath(&#39;NonSparkPath_1&#39;)</title>\n",
       "<ellipse fill=\"none\" stroke=\"black\" cx=\"255.03\" cy=\"-267\" rx=\"104.56\" ry=\"18\"/>\n",
       "<text text-anchor=\"middle\" x=\"255.03\" y=\"-264.5\" font-family=\"Helvetica,sans-Serif\" font-size=\"10.00\">NonSparkPath(&#39;NonSparkPath_1&#39;)</text>\n",
       "</g>\n",
       "<!-- NonSparkPath(&#39;NonSparkPath_1&#39;)&#45;&gt;ReadCsvProjectSpace(&#39;ReadCsvProjectSpace_1&#39;) -->\n",
       "<g id=\"edge4\" class=\"edge\">\n",
       "<title>NonSparkPath(&#39;NonSparkPath_1&#39;)&#45;&gt;ReadCsvProjectSpace(&#39;ReadCsvProjectSpace_1&#39;)</title>\n",
       "<path fill=\"none\" stroke=\"black\" d=\"M255.03,-248.82C255.03,-238.19 255.03,-224.31 255.03,-212.2\"/>\n",
       "<polygon fill=\"black\" stroke=\"black\" points=\"258.53,-212.15 255.03,-202.15 251.53,-212.15 258.53,-212.15\"/>\n",
       "<text text-anchor=\"middle\" x=\"302.03\" y=\"-223\" font-family=\"Helvetica,sans-Serif\" font-size=\"10.00\">op_path&#45;&gt;filename</text>\n",
       "</g>\n",
       "</g>\n",
       "</svg>\n"
      ],
      "text/plain": [
       "<razor.flow.async_pipeline.Pipeline at 0x7f1d59511250>"
      ]
     },
     "execution_count": 18,
     "metadata": {},
     "output_type": "execute_result"
    }
   ],
   "source": [
    "pipe"
   ]
  },
  {
   "cell_type": "code",
   "execution_count": 19,
   "id": "synthetic-behalf",
   "metadata": {},
   "outputs": [
    {
     "name": "stdout",
     "output_type": "stream",
     "text": [
      "log path: /tmp/tmpx2sjv1rv/Pipeline_1\n"
     ]
    },
    {
     "data": {
      "application/vnd.razorthink.run+monitor+json": "/tmp/tmpx2sjv1rv/Pipeline_1",
      "text/plain": [
       "<razor_tools.backend.ipython.mime.run_monitor.RunMonitor at 0x7f1d59311e50>"
      ]
     },
     "metadata": {
      "application/vnd.razorthink.run+monitor+json": {
       "run_data": {
        "apm": [
         {
          "cpu_percent": 0,
          "cpu_time": 0.01,
          "name": "NonSparkPath_1",
          "real_mem": 155361280,
          "time": 1616419209.759254
         },
         {
          "cpu_percent": 0,
          "cpu_time": 0.03,
          "name": "NonSparkPath_1",
          "real_mem": 155430912,
          "time": 1616419209.8728697
         },
         {
          "cpu_percent": 0,
          "cpu_time": 0.03,
          "name": "NonSparkPath_1",
          "real_mem": 155455488,
          "time": 1616419209.9858625
         },
         {
          "cpu_percent": 0,
          "cpu_time": 0.06,
          "name": "NonSparkPath_1",
          "real_mem": 155897856,
          "time": 1616419210.1629422
         },
         {
          "cpu_percent": 0,
          "cpu_time": 0.06,
          "name": "NonSparkPath_1",
          "real_mem": 155897856,
          "time": 1616419210.3602316
         },
         {
          "cpu_percent": 0,
          "cpu_time": 0.06,
          "name": "NonSparkPath_1",
          "real_mem": 155897856,
          "time": 1616419210.472824
         },
         {
          "cpu_percent": 0,
          "cpu_time": 0.07,
          "name": "NonSparkPath_1",
          "real_mem": 155897856,
          "time": 1616419210.585247
         },
         {
          "cpu_percent": 0,
          "cpu_time": 0.01,
          "name": "RandomProcess1_1",
          "real_mem": 155820032,
          "time": 1616419210.3697507
         },
         {
          "cpu_percent": 0,
          "cpu_time": 0.02,
          "name": "DropDuplicates_1",
          "real_mem": 155955200,
          "time": 1616419210.5488334
         },
         {
          "cpu_percent": 0,
          "cpu_time": 0.02,
          "name": "ReadCsvProjectSpace_1",
          "real_mem": 155865088,
          "time": 1616419210.4598527
         },
         {
          "cpu_percent": 0,
          "cpu_time": 0.03,
          "name": "RandomProcess2_1",
          "real_mem": 156078080,
          "time": 1616419210.5653648
         },
         {
          "cpu_percent": 0,
          "cpu_time": 0.03,
          "name": "RandomProcess1_1",
          "real_mem": 156078080,
          "time": 1616419210.5779042
         },
         {
          "cpu_percent": 0,
          "cpu_time": 0.03,
          "name": "ReadCsvProjectSpace_1",
          "real_mem": 156078080,
          "time": 1616419210.5891986
         },
         {
          "cpu_percent": 0,
          "cpu_time": 0.04,
          "name": "DropDuplicates_1",
          "real_mem": 156160000,
          "time": 1616419210.6620815
         },
         {
          "cpu_percent": 0,
          "cpu_time": 0.06,
          "name": "RandomProcess2_1",
          "real_mem": 157237248,
          "time": 1616419210.8600461
         },
         {
          "cpu_percent": 98.4,
          "cpu_time": 0.15000000000000002,
          "name": "DropDuplicates_1",
          "real_mem": 183742464,
          "time": 1616419211.2596307
         },
         {
          "cpu_percent": 0,
          "cpu_time": 0.08,
          "name": "RandomProcess1_1",
          "real_mem": 160784384,
          "time": 1616419210.9594383
         },
         {
          "cpu_percent": 98.6,
          "cpu_time": 0.22,
          "name": "RandomProcess1_1",
          "real_mem": 187699200,
          "time": 1616419211.559403
         },
         {
          "cpu_percent": 98.1,
          "cpu_time": 0.1,
          "name": "ReadCsvProjectSpace_1",
          "real_mem": 180920320,
          "time": 1616419211.0594285
         },
         {
          "cpu_percent": 98.1,
          "cpu_time": 0.17,
          "name": "RandomProcess2_1",
          "real_mem": 184623104,
          "time": 1616419211.35936
         },
         {
          "cpu_percent": 0,
          "cpu_time": 0.4,
          "name": "RandomProcess1_1",
          "real_mem": 211050496,
          "time": 1616419212.2485323
         },
         {
          "cpu_percent": 0,
          "cpu_time": 0.26,
          "name": "ReadCsvProjectSpace_1",
          "real_mem": 193929216,
          "time": 1616419211.7484813
         },
         {
          "cpu_percent": 197.3,
          "cpu_time": 0.31,
          "name": "DropDuplicates_1",
          "real_mem": 199823360,
          "time": 1616419211.8589146
         },
         {
          "cpu_percent": 194.7,
          "cpu_time": 0.35,
          "name": "RandomProcess2_1",
          "real_mem": 207765504,
          "time": 1616419212.0592854
         },
         {
          "cpu_percent": 0,
          "cpu_time": 0.13,
          "name": "DropDuplicates_1",
          "real_mem": 160792576,
          "time": 1616419212.4699547
         },
         {
          "cpu_percent": 98.7,
          "cpu_time": 0.44,
          "name": "ReadCsvProjectSpace_1",
          "real_mem": 212402176,
          "time": 1616419212.3694901
         },
         {
          "cpu_percent": 193.60000000000002,
          "cpu_time": 0.16999999999999998,
          "name": "RandomProcess2_1",
          "real_mem": 175083520,
          "time": 1616419212.5700352
         },
         {
          "cpu_percent": 98.1,
          "cpu_time": 0.19,
          "name": "RandomProcess1_1",
          "real_mem": 177537024,
          "time": 1616419212.6717923
         },
         {
          "cpu_percent": 0,
          "cpu_time": 0.21,
          "name": "ReadCsvProjectSpace_1",
          "real_mem": 178679808,
          "time": 1616419212.848046
         },
         {
          "cpu_percent": 98.2,
          "cpu_time": 0.22999999999999998,
          "name": "DropDuplicates_1",
          "real_mem": 178950144,
          "time": 1616419212.8707554
         },
         {
          "cpu_percent": 0,
          "cpu_time": 0.25,
          "name": "RandomProcess2_1",
          "real_mem": 179290112,
          "time": 1616419213.0486052
         },
         {
          "cpu_percent": 98.8,
          "cpu_time": 0.30000000000000004,
          "name": "RandomProcess1_1",
          "real_mem": 184348672,
          "time": 1616419213.159278
         },
         {
          "cpu_percent": 98.4,
          "cpu_time": 0.33,
          "name": "ReadCsvProjectSpace_1",
          "real_mem": 188526592,
          "time": 1616419213.2592509
         },
         {
          "cpu_percent": 97.9,
          "cpu_time": 0.36,
          "name": "DropDuplicates_1",
          "real_mem": 192851968,
          "time": 1616419213.3598244
         },
         {
          "cpu_percent": 0,
          "cpu_time": 0.38,
          "name": "RandomProcess2_1",
          "real_mem": 193986560,
          "time": 1616419213.4485257
         },
         {
          "cpu_percent": 11.2,
          "cpu_time": 0.44999999999999996,
          "name": "ReadCsvProjectSpace_1",
          "real_mem": 203931648,
          "time": 1616419213.6491878
         },
         {
          "cpu_percent": 96.8,
          "cpu_time": 0.41000000000000003,
          "name": "RandomProcess1_1",
          "real_mem": 196911104,
          "time": 1616419213.4750068
         },
         {
          "cpu_percent": 98.3,
          "cpu_time": 0.48,
          "name": "DropDuplicates_1",
          "real_mem": 208384000,
          "time": 1616419213.6729739
         },
         {
          "cpu_percent": 98.2,
          "cpu_time": 0.55,
          "name": "RandomProcess1_1",
          "real_mem": 212738048,
          "time": 1616419213.8717713
         },
         {
          "cpu_percent": 0,
          "cpu_time": 0.51,
          "name": "RandomProcess2_1",
          "real_mem": 210780160,
          "time": 1616419213.848791
         },
         {
          "cpu_percent": 196.7,
          "cpu_time": 0.6,
          "name": "ReadCsvProjectSpace_1",
          "real_mem": 214360064,
          "time": 1616419213.9712565
         },
         {
          "cpu_percent": 0,
          "cpu_time": 0.62,
          "name": "DropDuplicates_1",
          "real_mem": 215523328,
          "time": 1616419214.1491115
         },
         {
          "cpu_percent": 23,
          "cpu_time": 0.66,
          "name": "RandomProcess2_1",
          "real_mem": 216604672,
          "time": 1616419214.2487357
         },
         {
          "cpu_percent": 11.4,
          "cpu_time": 0.6900000000000001,
          "name": "RandomProcess1_1",
          "real_mem": 220196864,
          "time": 1616419214.3495557
         },
         {
          "cpu_percent": 11.5,
          "cpu_time": 0.7300000000000001,
          "name": "ReadCsvProjectSpace_1",
          "real_mem": 221937664,
          "time": 1616419214.448644
         },
         {
          "cpu_percent": 11.5,
          "cpu_time": 0.79,
          "name": "RandomProcess2_1",
          "real_mem": 225447936,
          "time": 1616419214.6487267
         },
         {
          "cpu_percent": 0,
          "cpu_time": 0.76,
          "name": "DropDuplicates_1",
          "real_mem": 224096256,
          "time": 1616419214.5486798
         },
         {
          "cpu_percent": 11.5,
          "cpu_time": 0.81,
          "name": "RandomProcess1_1",
          "real_mem": 227336192,
          "time": 1616419214.748394
         },
         {
          "cpu_percent": 98.4,
          "cpu_time": 0.8899999999999999,
          "name": "DropDuplicates_1",
          "real_mem": 231231488,
          "time": 1616419214.87131
         },
         {
          "cpu_percent": 11.5,
          "cpu_time": 0.8500000000000001,
          "name": "ReadCsvProjectSpace_1",
          "real_mem": 228261888,
          "time": 1616419214.8484733
         },
         {
          "cpu_percent": 98.3,
          "cpu_time": 0.9099999999999999,
          "name": "RandomProcess2_1",
          "real_mem": 237719552,
          "time": 1616419214.9720125
         },
         {
          "cpu_percent": 196.4,
          "cpu_time": 0.94,
          "name": "RandomProcess1_1",
          "real_mem": 240693248,
          "time": 1616419215.0714014
         },
         {
          "cpu_percent": 97.8,
          "cpu_time": 0.96,
          "name": "ReadCsvProjectSpace_1",
          "real_mem": 241487872,
          "time": 1616419215.1707985
         },
         {
          "cpu_percent": 11.5,
          "cpu_time": 1.03,
          "name": "RandomProcess2_1",
          "real_mem": 243376128,
          "time": 1616419215.4484127
         },
         {
          "cpu_percent": 11.2,
          "cpu_time": 1,
          "name": "DropDuplicates_1",
          "real_mem": 242565120,
          "time": 1616419215.3487005
         },
         {
          "cpu_percent": 197.1,
          "cpu_time": 1.1,
          "name": "ReadCsvProjectSpace_1",
          "real_mem": 245268480,
          "time": 1616419215.5709655
         },
         {
          "cpu_percent": 11.5,
          "cpu_time": 1.07,
          "name": "RandomProcess1_1",
          "real_mem": 243916800,
          "time": 1616419215.5484884
         },
         {
          "cpu_percent": 11.4,
          "cpu_time": 1.1400000000000001,
          "name": "DropDuplicates_1",
          "real_mem": 246620160,
          "time": 1616419215.748806
         },
         {
          "cpu_percent": 98,
          "cpu_time": 1.18,
          "name": "RandomProcess2_1",
          "real_mem": 247877632,
          "time": 1616419215.7717257
         },
         {
          "cpu_percent": 98.3,
          "cpu_time": 1.23,
          "name": "ReadCsvProjectSpace_1",
          "real_mem": 252608512,
          "time": 1616419215.9706063
         },
         {
          "cpu_percent": 97.5,
          "cpu_time": 1.2,
          "name": "RandomProcess1_1",
          "real_mem": 250634240,
          "time": 1616419215.9480414
         },
         {
          "cpu_percent": 11.4,
          "cpu_time": 1.25,
          "name": "DropDuplicates_1",
          "real_mem": 253145088,
          "time": 1616419216.1485744
         },
         {
          "cpu_percent": 96.4,
          "cpu_time": 1.28,
          "name": "RandomProcess2_1",
          "real_mem": 253489152,
          "time": 1616419216.1714442
         },
         {
          "cpu_percent": 98,
          "cpu_time": 1.31,
          "name": "RandomProcess1_1",
          "real_mem": 253489152,
          "time": 1616419216.2716577
         },
         {
          "cpu_percent": 0,
          "cpu_time": 1.33,
          "name": "ReadCsvProjectSpace_1",
          "real_mem": 253755392,
          "time": 1616419216.4488049
         },
         {
          "cpu_percent": 11.5,
          "cpu_time": 1.35,
          "name": "DropDuplicates_1",
          "real_mem": 253755392,
          "time": 1616419216.5492442
         },
         {
          "cpu_percent": 0,
          "cpu_time": 1.3699999999999999,
          "name": "RandomProcess2_1",
          "real_mem": 254152704,
          "time": 1616419216.648496
         },
         {
          "cpu_percent": 11.4,
          "cpu_time": 1.39,
          "name": "RandomProcess1_1",
          "real_mem": 254300160,
          "time": 1616419216.7486744
         },
         {
          "cpu_percent": 193.8,
          "cpu_time": 1.45,
          "name": "ReadCsvProjectSpace_1",
          "real_mem": 254738432,
          "time": 1616419216.8591444
         },
         {
          "cpu_percent": 98.4,
          "cpu_time": 1.47,
          "name": "DropDuplicates_1",
          "real_mem": 254812160,
          "time": 1616419216.9591389
         },
         {
          "cpu_percent": 195.8,
          "cpu_time": 1.51,
          "name": "RandomProcess2_1",
          "real_mem": 255074304,
          "time": 1616419217.0595918
         },
         {
          "cpu_percent": 10.2,
          "cpu_time": 1.53,
          "name": "RandomProcess1_1",
          "real_mem": 255426560,
          "time": 1616419217.2492297
         },
         {
          "cpu_percent": 11.5,
          "cpu_time": 1.58,
          "name": "DropDuplicates_1",
          "real_mem": 255504384,
          "time": 1616419217.4491732
         },
         {
          "cpu_percent": 0,
          "cpu_time": 1.55,
          "name": "ReadCsvProjectSpace_1",
          "real_mem": 255504384,
          "time": 1616419217.2725384
         },
         {
          "cpu_percent": 20.1,
          "cpu_time": 1.6300000000000001,
          "name": "RandomProcess2_1",
          "real_mem": 256495616,
          "time": 1616419217.6487389
         },
         {
          "cpu_percent": 188.5,
          "cpu_time": 1.68,
          "name": "ReadCsvProjectSpace_1",
          "real_mem": 257155072,
          "time": 1616419217.7609916
         },
         {
          "cpu_percent": 0,
          "cpu_time": 1.65,
          "name": "RandomProcess1_1",
          "real_mem": 256884736,
          "time": 1616419217.6713912
         },
         {
          "cpu_percent": 98.2,
          "cpu_time": 1.7,
          "name": "DropDuplicates_1",
          "real_mem": 256593920,
          "time": 1616419217.8592222
         },
         {
          "cpu_percent": 98.7,
          "cpu_time": 1.72,
          "name": "RandomProcess2_1",
          "real_mem": 256876544,
          "time": 1616419217.9590466
         },
         {
          "cpu_percent": 0,
          "cpu_time": 1.76,
          "name": "RandomProcess1_1",
          "real_mem": 256876544,
          "time": 1616419217.9822707
         },
         {
          "cpu_percent": 34.2,
          "cpu_time": 1.81,
          "name": "ReadCsvProjectSpace_1",
          "real_mem": 257413120,
          "time": 1616419218.1491356
         },
         {
          "cpu_percent": 0,
          "cpu_time": 1.84,
          "name": "DropDuplicates_1",
          "real_mem": 256753664,
          "time": 1616419218.1720676
         },
         {
          "cpu_percent": 98.1,
          "cpu_time": 1.87,
          "name": "RandomProcess2_1",
          "real_mem": 257257472,
          "time": 1616419218.2703056
         },
         {
          "cpu_percent": 98.4,
          "cpu_time": 1.8800000000000001,
          "name": "RandomProcess1_1",
          "real_mem": 263745536,
          "time": 1616419218.3593247
         },
         {
          "cpu_percent": 0,
          "cpu_time": 1.8900000000000001,
          "name": "ReadCsvProjectSpace_1",
          "real_mem": 271585280,
          "time": 1616419218.3837068
         },
         {
          "cpu_percent": 98.5,
          "cpu_time": 1.93,
          "name": "DropDuplicates_1",
          "real_mem": 272076800,
          "time": 1616419218.470708
         },
         {
          "cpu_percent": 98.1,
          "cpu_time": 2.04,
          "name": "ReadCsvProjectSpace_1",
          "real_mem": 273154048,
          "time": 1616419218.771684
         },
         {
          "cpu_percent": 98.3,
          "cpu_time": 2.01,
          "name": "RandomProcess1_1",
          "real_mem": 272748544,
          "time": 1616419218.7483022
         },
         {
          "cpu_percent": 132.8,
          "cpu_time": 1.98,
          "name": "RandomProcess2_1",
          "real_mem": 272494592,
          "time": 1616419218.648423
         },
         {
          "cpu_percent": 98.2,
          "cpu_time": 2.07,
          "name": "DropDuplicates_1",
          "real_mem": 273698816,
          "time": 1616419218.8695502
         },
         {
          "cpu_percent": 98,
          "cpu_time": 2.08,
          "name": "RandomProcess2_1",
          "real_mem": 277532672,
          "time": 1616419218.9592147
         },
         {
          "cpu_percent": 0,
          "cpu_time": 2.1,
          "name": "RandomProcess1_1",
          "real_mem": 278343680,
          "time": 1616419219.0485513
         },
         {
          "cpu_percent": 34.3,
          "cpu_time": 2.14,
          "name": "ReadCsvProjectSpace_1",
          "real_mem": 278814720,
          "time": 1616419219.1483936
         },
         {
          "cpu_percent": 0,
          "cpu_time": 2.17,
          "name": "DropDuplicates_1",
          "real_mem": 279146496,
          "time": 1616419219.1725912
         },
         {
          "cpu_percent": 196.9,
          "cpu_time": 2.2199999999999998,
          "name": "RandomProcess2_1",
          "real_mem": 279474176,
          "time": 1616419219.2697296
         },
         {
          "cpu_percent": 197,
          "cpu_time": 2.26,
          "name": "RandomProcess1_1",
          "real_mem": 280162304,
          "time": 1616419219.4481351
         },
         {
          "cpu_percent": 11.6,
          "cpu_time": 2.3,
          "name": "ReadCsvProjectSpace_1",
          "real_mem": 280367104,
          "time": 1616419219.5486095
         },
         {
          "cpu_percent": 98.2,
          "cpu_time": 2.32,
          "name": "DropDuplicates_1",
          "real_mem": 280858624,
          "time": 1616419219.5717115
         },
         {
          "cpu_percent": 0,
          "cpu_time": 2.3499999999999996,
          "name": "RandomProcess2_1",
          "real_mem": 281124864,
          "time": 1616419219.6712465
         },
         {
          "cpu_percent": 197.5,
          "cpu_time": 2.3899999999999997,
          "name": "RandomProcess1_1",
          "real_mem": 281378816,
          "time": 1616419219.772573
         },
         {
          "cpu_percent": 98.3,
          "cpu_time": 2.43,
          "name": "ReadCsvProjectSpace_1",
          "real_mem": 281378816,
          "time": 1616419219.8710032
         },
         {
          "cpu_percent": 98.1,
          "cpu_time": 2.46,
          "name": "DropDuplicates_1",
          "real_mem": 281870336,
          "time": 1616419220.0480857
         },
         {
          "cpu_percent": 196.4,
          "cpu_time": 2.49,
          "name": "RandomProcess2_1",
          "real_mem": 282132480,
          "time": 1616419220.0708818
         },
         {
          "cpu_percent": 0,
          "cpu_time": 2.5,
          "name": "RandomProcess1_1",
          "real_mem": 282132480,
          "time": 1616419220.094339
         },
         {
          "cpu_percent": 196.6,
          "cpu_time": 2.52,
          "name": "ReadCsvProjectSpace_1",
          "real_mem": 282513408,
          "time": 1616419220.1600423
         },
         {
          "cpu_percent": 0,
          "cpu_time": 2.53,
          "name": "DropDuplicates_1",
          "real_mem": 282513408,
          "time": 1616419220.1837652
         },
         {
          "cpu_percent": 196.6,
          "cpu_time": 2.57,
          "name": "RandomProcess2_1",
          "real_mem": 282853376,
          "time": 1616419220.2717884
         },
         {
          "cpu_percent": 160.7,
          "cpu_time": 2.6,
          "name": "RandomProcess1_1",
          "real_mem": 283070464,
          "time": 1616419220.3733811
         },
         {
          "cpu_percent": 194.5,
          "cpu_time": 2.65,
          "name": "ReadCsvProjectSpace_1",
          "real_mem": 283336704,
          "time": 1616419220.469667
         },
         {
          "cpu_percent": 13,
          "cpu_time": 2.6999999999999997,
          "name": "RandomProcess2_1",
          "real_mem": 284225536,
          "time": 1616419220.6486952
         },
         {
          "cpu_percent": 98,
          "cpu_time": 2.67,
          "name": "DropDuplicates_1",
          "real_mem": 283684864,
          "time": 1616419220.5593348
         },
         {
          "cpu_percent": 23.1,
          "cpu_time": 2.7399999999999998,
          "name": "RandomProcess1_1",
          "real_mem": 284463104,
          "time": 1616419220.748852
         },
         {
          "cpu_percent": 166.9,
          "cpu_time": 2.78,
          "name": "ReadCsvProjectSpace_1",
          "real_mem": 284708864,
          "time": 1616419220.773306
         },
         {
          "cpu_percent": 96.2,
          "cpu_time": 2.8400000000000003,
          "name": "DropDuplicates_1",
          "real_mem": 285569024,
          "time": 1616419220.8722239
         },
         {
          "cpu_percent": 22.6,
          "cpu_time": 2.8800000000000003,
          "name": "RandomProcess2_1",
          "real_mem": 285507584,
          "time": 1616419221.0484717
         },
         {
          "cpu_percent": 98.6,
          "cpu_time": 2.91,
          "name": "RandomProcess1_1",
          "real_mem": 285868032,
          "time": 1616419221.0716789
         },
         {
          "cpu_percent": 22.3,
          "cpu_time": 2.95,
          "name": "ReadCsvProjectSpace_1",
          "real_mem": 286461952,
          "time": 1616419221.249183
         },
         {
          "cpu_percent": 196.5,
          "cpu_time": 3,
          "name": "DropDuplicates_1",
          "real_mem": 286789632,
          "time": 1616419221.2717757
         },
         {
          "cpu_percent": 98.2,
          "cpu_time": 3.04,
          "name": "RandomProcess2_1",
          "real_mem": 287313920,
          "time": 1616419221.3707006
         },
         {
          "cpu_percent": 97.2,
          "cpu_time": 3.07,
          "name": "RandomProcess1_1",
          "real_mem": 287756288,
          "time": 1616419221.4718971
         },
         {
          "cpu_percent": 197.3,
          "cpu_time": 3.1,
          "name": "ReadCsvProjectSpace_1",
          "real_mem": 288022528,
          "time": 1616419221.648839
         },
         {
          "cpu_percent": 22.8,
          "cpu_time": 3.1500000000000004,
          "name": "DropDuplicates_1",
          "real_mem": 288342016,
          "time": 1616419221.7492263
         },
         {
          "cpu_percent": 98.2,
          "cpu_time": 3.17,
          "name": "RandomProcess2_1",
          "real_mem": 288608256,
          "time": 1616419221.7719603
         },
         {
          "cpu_percent": 98.4,
          "cpu_time": 3.2,
          "name": "RandomProcess1_1",
          "real_mem": 290156544,
          "time": 1616419221.8722224
         },
         {
          "cpu_percent": 98.6,
          "cpu_time": 3.2399999999999998,
          "name": "ReadCsvProjectSpace_1",
          "real_mem": 290447360,
          "time": 1616419221.9698305
         },
         {
          "cpu_percent": 98.4,
          "cpu_time": 3.26,
          "name": "DropDuplicates_1",
          "real_mem": 290783232,
          "time": 1616419222.0728106
         },
         {
          "cpu_percent": 97.7,
          "cpu_time": 3.31,
          "name": "RandomProcess2_1",
          "real_mem": 291024896,
          "time": 1616419222.1703095
         },
         {
          "cpu_percent": 98.4,
          "cpu_time": 3.33,
          "name": "RandomProcess1_1",
          "real_mem": 291291136,
          "time": 1616419222.269776
         },
         {
          "cpu_percent": 0,
          "cpu_time": 3.3400000000000003,
          "name": "ReadCsvProjectSpace_1",
          "real_mem": 291561472,
          "time": 1616419222.292428
         },
         {
          "cpu_percent": 22.6,
          "cpu_time": 3.37,
          "name": "DropDuplicates_1",
          "real_mem": 291889152,
          "time": 1616419222.4490385
         },
         {
          "cpu_percent": 22.9,
          "cpu_time": 3.4200000000000004,
          "name": "RandomProcess2_1",
          "real_mem": 292012032,
          "time": 1616419222.548641
         },
         {
          "cpu_percent": 193.2,
          "cpu_time": 3.4699999999999998,
          "name": "RandomProcess1_1",
          "real_mem": 292265984,
          "time": 1616419222.5720572
         },
         {
          "cpu_percent": 196.7,
          "cpu_time": 3.5,
          "name": "ReadCsvProjectSpace_1",
          "real_mem": 292413440,
          "time": 1616419222.6707106
         },
         {
          "cpu_percent": 98.3,
          "cpu_time": 3.54,
          "name": "DropDuplicates_1",
          "real_mem": 292536320,
          "time": 1616419222.7721028
         },
         {
          "cpu_percent": 104.9,
          "cpu_time": 3.58,
          "name": "RandomProcess2_1",
          "real_mem": 292880384,
          "time": 1616419222.9489825
         },
         {
          "cpu_percent": 0,
          "cpu_time": 3.6100000000000003,
          "name": "RandomProcess1_1",
          "real_mem": 293109760,
          "time": 1616419222.9720275
         },
         {
          "cpu_percent": 98.7,
          "cpu_time": 3.64,
          "name": "ReadCsvProjectSpace_1",
          "real_mem": 293376000,
          "time": 1616419223.0698812
         },
         {
          "cpu_percent": 98.4,
          "cpu_time": 3.66,
          "name": "DropDuplicates_1",
          "real_mem": 293916672,
          "time": 1616419223.1594667
         },
         {
          "cpu_percent": 197,
          "cpu_time": 3.7,
          "name": "RandomProcess2_1",
          "real_mem": 294653952,
          "time": 1616419223.2702456
         },
         {
          "cpu_percent": 98.4,
          "cpu_time": 3.74,
          "name": "RandomProcess1_1",
          "real_mem": 294739968,
          "time": 1616419223.3706918
         },
         {
          "cpu_percent": 33.8,
          "cpu_time": 3.8,
          "name": "ReadCsvProjectSpace_1",
          "real_mem": 295448576,
          "time": 1616419223.5491242
         },
         {
          "cpu_percent": 295.9,
          "cpu_time": 3.8600000000000003,
          "name": "DropDuplicates_1",
          "real_mem": 295559168,
          "time": 1616419223.6590328
         },
         {
          "cpu_percent": 0,
          "cpu_time": 3.87,
          "name": "RandomProcess2_1",
          "real_mem": 295714816,
          "time": 1616419223.681806
         },
         {
          "cpu_percent": 0,
          "cpu_time": 3.92,
          "name": "RandomProcess1_1",
          "real_mem": 295833600,
          "time": 1616419223.771854
         },
         {
          "cpu_percent": 0,
          "cpu_time": 3.94,
          "name": "ReadCsvProjectSpace_1",
          "real_mem": 296161280,
          "time": 1616419223.9485438
         },
         {
          "cpu_percent": 0,
          "cpu_time": 3.96,
          "name": "DropDuplicates_1",
          "real_mem": 296161280,
          "time": 1616419223.9724045
         },
         {
          "cpu_percent": 98.1,
          "cpu_time": 3.99,
          "name": "RandomProcess2_1",
          "real_mem": 296513536,
          "time": 1616419224.0699964
         },
         {
          "cpu_percent": 98.7,
          "cpu_time": 4.01,
          "name": "RandomProcess1_1",
          "real_mem": 296513536,
          "time": 1616419224.170137
         },
         {
          "cpu_percent": 0,
          "cpu_time": 4.04,
          "name": "ReadCsvProjectSpace_1",
          "real_mem": 296513536,
          "time": 1616419224.3485355
         },
         {
          "cpu_percent": 11.5,
          "cpu_time": 4.09,
          "name": "DropDuplicates_1",
          "real_mem": 296538112,
          "time": 1616419224.4485295
         },
         {
          "cpu_percent": 0,
          "cpu_time": 4.13,
          "name": "RandomProcess2_1",
          "real_mem": 296828928,
          "time": 1616419224.472911
         },
         {
          "cpu_percent": 11.3,
          "cpu_time": 4.16,
          "name": "RandomProcess1_1",
          "real_mem": 297369600,
          "time": 1616419224.6492825
         },
         {
          "cpu_percent": 23.1,
          "cpu_time": 4.2,
          "name": "ReadCsvProjectSpace_1",
          "real_mem": 297775104,
          "time": 1616419224.7485096
         },
         {
          "cpu_percent": 207.3,
          "cpu_time": 4.26,
          "name": "DropDuplicates_1",
          "real_mem": 297967616,
          "time": 1616419224.8590953
         },
         {
          "cpu_percent": 197,
          "cpu_time": 4.29,
          "name": "RandomProcess2_1",
          "real_mem": 298037248,
          "time": 1616419224.9589624
         },
         {
          "cpu_percent": 0,
          "cpu_time": 4.3,
          "name": "RandomProcess1_1",
          "real_mem": 298037248,
          "time": 1616419224.9819005
         },
         {
          "cpu_percent": 11.6,
          "cpu_time": 4.35,
          "name": "ReadCsvProjectSpace_1",
          "real_mem": 298037248,
          "time": 1616419225.149212
         },
         {
          "cpu_percent": 0,
          "cpu_time": 4.37,
          "name": "DropDuplicates_1",
          "real_mem": 298299392,
          "time": 1616419225.2494998
         },
         {
          "cpu_percent": 98.3,
          "cpu_time": 4.46,
          "name": "RandomProcess1_1",
          "real_mem": 301654016,
          "time": 1616419225.371047
         },
         {
          "cpu_percent": 98.3,
          "cpu_time": 4.42,
          "name": "RandomProcess2_1",
          "real_mem": 300036096,
          "time": 1616419225.2727716
         },
         {
          "cpu_percent": 195.8,
          "cpu_time": 4.51,
          "name": "ReadCsvProjectSpace_1",
          "real_mem": 302260224,
          "time": 1616419225.471089
         },
         {
          "cpu_percent": 98.1,
          "cpu_time": 4.55,
          "name": "DropDuplicates_1",
          "real_mem": 302329856,
          "time": 1616419225.571226
         },
         {
          "cpu_percent": 294.2,
          "cpu_time": 4.62,
          "name": "RandomProcess2_1",
          "real_mem": 301969408,
          "time": 1616419225.7481935
         },
         {
          "cpu_percent": 195.2,
          "cpu_time": 4.67,
          "name": "RandomProcess1_1",
          "real_mem": 302206976,
          "time": 1616419225.7713423
         },
         {
          "cpu_percent": 11.4,
          "cpu_time": 4.72,
          "name": "ReadCsvProjectSpace_1",
          "real_mem": 302514176,
          "time": 1616419225.948782
         },
         {
          "cpu_percent": 98.6,
          "cpu_time": 4.75,
          "name": "DropDuplicates_1",
          "real_mem": 302780416,
          "time": 1616419225.97229
         },
         {
          "cpu_percent": 98.4,
          "cpu_time": 4.78,
          "name": "RandomProcess2_1",
          "real_mem": 304332800,
          "time": 1616419226.0710552
         },
         {
          "cpu_percent": 295.6,
          "cpu_time": 4.83,
          "name": "RandomProcess1_1",
          "real_mem": 304340992,
          "time": 1616419226.1726491
         },
         {
          "cpu_percent": 98.1,
          "cpu_time": 4.869999999999999,
          "name": "ReadCsvProjectSpace_1",
          "real_mem": 304345088,
          "time": 1616419226.2711008
         },
         {
          "cpu_percent": 98.5,
          "cpu_time": 4.91,
          "name": "DropDuplicates_1",
          "real_mem": 304644096,
          "time": 1616419226.3712816
         },
         {
          "cpu_percent": 107,
          "cpu_time": 4.95,
          "name": "RandomProcess2_1",
          "real_mem": 305405952,
          "time": 1616419226.5484276
         },
         {
          "cpu_percent": 98.1,
          "cpu_time": 4.98,
          "name": "RandomProcess1_1",
          "real_mem": 305803264,
          "time": 1616419226.5722177
         },
         {
          "cpu_percent": 96.7,
          "cpu_time": 5.0200000000000005,
          "name": "ReadCsvProjectSpace_1",
          "real_mem": 306368512,
          "time": 1616419226.7482994
         },
         {
          "cpu_percent": 98.7,
          "cpu_time": 5.07,
          "name": "DropDuplicates_1",
          "real_mem": 306634752,
          "time": 1616419226.7714531
         },
         {
          "cpu_percent": 196.8,
          "cpu_time": 5.1499999999999995,
          "name": "RandomProcess1_1",
          "real_mem": 307298304,
          "time": 1616419226.9708087
         },
         {
          "cpu_percent": 197.1,
          "cpu_time": 5.109999999999999,
          "name": "RandomProcess2_1",
          "real_mem": 306884608,
          "time": 1616419226.8696265
         },
         {
          "cpu_percent": 98.2,
          "cpu_time": 5.18,
          "name": "ReadCsvProjectSpace_1",
          "real_mem": 307384320,
          "time": 1616419227.0710902
         },
         {
          "cpu_percent": 0,
          "cpu_time": 5.21,
          "name": "DropDuplicates_1",
          "real_mem": 307908608,
          "time": 1616419227.1705825
         },
         {
          "cpu_percent": 93.7,
          "cpu_time": 5.239999999999999,
          "name": "RandomProcess2_1",
          "real_mem": 308445184,
          "time": 1616419227.25949
         },
         {
          "cpu_percent": 0,
          "cpu_time": 5.2700000000000005,
          "name": "RandomProcess1_1",
          "real_mem": 308674560,
          "time": 1616419227.282474
         },
         {
          "cpu_percent": 196.1,
          "cpu_time": 5.3100000000000005,
          "name": "ReadCsvProjectSpace_1",
          "real_mem": 309047296,
          "time": 1616419227.3715835
         },
         {
          "cpu_percent": 291.8,
          "cpu_time": 5.3500000000000005,
          "name": "DropDuplicates_1",
          "real_mem": 309313536,
          "time": 1616419227.471116
         },
         {
          "cpu_percent": 22.7,
          "cpu_time": 5.41,
          "name": "RandomProcess2_1",
          "real_mem": 309358592,
          "time": 1616419227.6492505
         },
         {
          "cpu_percent": 98.3,
          "cpu_time": 5.45,
          "name": "RandomProcess1_1",
          "real_mem": 309358592,
          "time": 1616419227.6729472
         },
         {
          "cpu_percent": 98.4,
          "cpu_time": 5.49,
          "name": "ReadCsvProjectSpace_1",
          "real_mem": 309891072,
          "time": 1616419227.7707453
         },
         {
          "cpu_percent": 196.6,
          "cpu_time": 5.54,
          "name": "DropDuplicates_1",
          "real_mem": 311476224,
          "time": 1616419227.8724198
         },
         {
          "cpu_percent": 98.5,
          "cpu_time": 5.58,
          "name": "RandomProcess2_1",
          "real_mem": 311820288,
          "time": 1616419227.9729595
         },
         {
          "cpu_percent": 0,
          "cpu_time": 5.59,
          "name": "RandomProcess1_1",
          "real_mem": 311820288,
          "time": 1616419228.0484414
         },
         {
          "cpu_percent": 98.1,
          "cpu_time": 5.62,
          "name": "ReadCsvProjectSpace_1",
          "real_mem": 312123392,
          "time": 1616419228.071401
         },
         {
          "cpu_percent": 91.7,
          "cpu_time": 5.67,
          "name": "DropDuplicates_1",
          "real_mem": 312975360,
          "time": 1616419228.1705587
         },
         {
          "cpu_percent": 98,
          "cpu_time": 5.71,
          "name": "RandomProcess2_1",
          "real_mem": 312532992,
          "time": 1616419228.25932
         },
         {
          "cpu_percent": 98,
          "cpu_time": 5.760000000000001,
          "name": "RandomProcess1_1",
          "real_mem": 313810944,
          "time": 1616419228.370944
         },
         {
          "cpu_percent": 196.8,
          "cpu_time": 5.800000000000001,
          "name": "ReadCsvProjectSpace_1",
          "real_mem": 313974784,
          "time": 1616419228.4708319
         },
         {
          "cpu_percent": 0,
          "cpu_time": 5.8100000000000005,
          "name": "DropDuplicates_1",
          "real_mem": 314224640,
          "time": 1616419228.4938226
         },
         {
          "cpu_percent": 98.1,
          "cpu_time": 5.83,
          "name": "RandomProcess2_1",
          "real_mem": 314580992,
          "time": 1616419228.5714529
         },
         {
          "cpu_percent": 98.3,
          "cpu_time": 5.880000000000001,
          "name": "RandomProcess1_1",
          "real_mem": 314810368,
          "time": 1616419228.6696863
         },
         {
          "cpu_percent": 194.4,
          "cpu_time": 5.97,
          "name": "ReadCsvProjectSpace_1",
          "real_mem": 315797504,
          "time": 1616419228.7702613
         },
         {
          "cpu_percent": 0,
          "cpu_time": 5.98,
          "name": "DropDuplicates_1",
          "real_mem": 316076032,
          "time": 1616419228.8482103
         },
         {
          "cpu_percent": 196.9,
          "cpu_time": 6.03,
          "name": "RandomProcess2_1",
          "real_mem": 316313600,
          "time": 1616419228.8708518
         },
         {
          "cpu_percent": 196.6,
          "cpu_time": 6.1,
          "name": "RandomProcess1_1",
          "real_mem": 317706240,
          "time": 1616419228.9698052
         },
         {
          "cpu_percent": 196.1,
          "cpu_time": 6.15,
          "name": "ReadCsvProjectSpace_1",
          "real_mem": 320397312,
          "time": 1616419229.0695865
         },
         {
          "cpu_percent": 197.3,
          "cpu_time": 6.22,
          "name": "DropDuplicates_1",
          "real_mem": 320643072,
          "time": 1616419229.1694345
         },
         {
          "cpu_percent": 98.1,
          "cpu_time": 6.25,
          "name": "RandomProcess2_1",
          "real_mem": 320561152,
          "time": 1616419229.260639
         },
         {
          "cpu_percent": 0,
          "cpu_time": 6.27,
          "name": "RandomProcess1_1",
          "real_mem": 320561152,
          "time": 1616419229.3484344
         },
         {
          "cpu_percent": 98.5,
          "cpu_time": 6.3,
          "name": "ReadCsvProjectSpace_1",
          "real_mem": 323256320,
          "time": 1616419229.3716626
         },
         {
          "cpu_percent": 98.4,
          "cpu_time": 6.35,
          "name": "RandomProcess2_1",
          "real_mem": 323702784,
          "time": 1616419229.5728292
         },
         {
          "cpu_percent": 97.8,
          "cpu_time": 6.33,
          "name": "DropDuplicates_1",
          "real_mem": 323571712,
          "time": 1616419229.5486658
         },
         {
          "cpu_percent": 98,
          "cpu_time": 6.380000000000001,
          "name": "RandomProcess1_1",
          "real_mem": 324218880,
          "time": 1616419229.6706114
         },
         {
          "cpu_percent": 22.5,
          "cpu_time": 6.42,
          "name": "ReadCsvProjectSpace_1",
          "real_mem": 324444160,
          "time": 1616419229.848668
         },
         {
          "cpu_percent": 0,
          "cpu_time": 6.45,
          "name": "DropDuplicates_1",
          "real_mem": 324841472,
          "time": 1616419229.9485772
         },
         {
          "cpu_percent": 98.2,
          "cpu_time": 6.47,
          "name": "RandomProcess2_1",
          "real_mem": 325140480,
          "time": 1616419229.9715204
         },
         {
          "cpu_percent": 98.3,
          "cpu_time": 6.49,
          "name": "RandomProcess1_1",
          "real_mem": 325292032,
          "time": 1616419230.0702927
         },
         {
          "cpu_percent": 97.9,
          "cpu_time": 6.54,
          "name": "ReadCsvProjectSpace_1",
          "real_mem": 325685248,
          "time": 1616419230.171565
         },
         {
          "cpu_percent": 11.4,
          "cpu_time": 6.61,
          "name": "RandomProcess2_1",
          "real_mem": 327147520,
          "time": 1616419230.4483957
         },
         {
          "cpu_percent": 0,
          "cpu_time": 6.56,
          "name": "DropDuplicates_1",
          "real_mem": 325738496,
          "time": 1616419230.271417
         },
         {
          "cpu_percent": 98.3,
          "cpu_time": 6.68,
          "name": "ReadCsvProjectSpace_1",
          "real_mem": 327401472,
          "time": 1616419230.5715687
         },
         {
          "cpu_percent": 97.2,
          "cpu_time": 6.64,
          "name": "RandomProcess1_1",
          "real_mem": 327147520,
          "time": 1616419230.5486257
         },
         {
          "cpu_percent": 196.2,
          "cpu_time": 6.74,
          "name": "DropDuplicates_1",
          "real_mem": 328081408,
          "time": 1616419230.6713514
         },
         {
          "cpu_percent": 295.6,
          "cpu_time": 6.789999999999999,
          "name": "RandomProcess2_1",
          "real_mem": 328884224,
          "time": 1616419230.7713993
         },
         {
          "cpu_percent": 196.5,
          "cpu_time": 6.86,
          "name": "RandomProcess1_1",
          "real_mem": 329154560,
          "time": 1616419230.8712964
         },
         {
          "cpu_percent": 0,
          "cpu_time": 6.87,
          "name": "ReadCsvProjectSpace_1",
          "real_mem": 329379840,
          "time": 1616419230.8938959
         },
         {
          "cpu_percent": 196.6,
          "cpu_time": 6.91,
          "name": "DropDuplicates_1",
          "real_mem": 329768960,
          "time": 1616419230.9709415
         },
         {
          "cpu_percent": 194.7,
          "cpu_time": 6.970000000000001,
          "name": "RandomProcess2_1",
          "real_mem": 330149888,
          "time": 1616419231.0699985
         },
         {
          "cpu_percent": 98.5,
          "cpu_time": 7.02,
          "name": "RandomProcess1_1",
          "real_mem": 330862592,
          "time": 1616419231.1770563
         },
         {
          "cpu_percent": 0,
          "cpu_time": 7.04,
          "name": "ReadCsvProjectSpace_1",
          "real_mem": 330862592,
          "time": 1616419231.1993334
         },
         {
          "cpu_percent": 98.1,
          "cpu_time": 7.07,
          "name": "DropDuplicates_1",
          "real_mem": 331395072,
          "time": 1616419231.271245
         },
         {
          "cpu_percent": 11.2,
          "cpu_time": 7.11,
          "name": "RandomProcess2_1",
          "real_mem": 331935744,
          "time": 1616419231.4485698
         },
         {
          "cpu_percent": 23,
          "cpu_time": 7.16,
          "name": "RandomProcess1_1",
          "real_mem": 332201984,
          "time": 1616419231.5485125
         },
         {
          "cpu_percent": 98.7,
          "cpu_time": 7.18,
          "name": "ReadCsvProjectSpace_1",
          "real_mem": 332398592,
          "time": 1616419231.5714934
         },
         {
          "cpu_percent": 11.3,
          "cpu_time": 7.210000000000001,
          "name": "DropDuplicates_1",
          "real_mem": 332398592,
          "time": 1616419231.748575
         },
         {
          "cpu_percent": 0,
          "cpu_time": 7.24,
          "name": "RandomProcess2_1",
          "real_mem": 332398592,
          "time": 1616419231.8485627
         },
         {
          "cpu_percent": 195.4,
          "cpu_time": 7.32,
          "name": "ReadCsvProjectSpace_1",
          "real_mem": 332939264,
          "time": 1616419231.9713132
         },
         {
          "cpu_percent": 11.5,
          "cpu_time": 7.279999999999999,
          "name": "RandomProcess1_1",
          "real_mem": 332693504,
          "time": 1616419231.9485173
         },
         {
          "cpu_percent": 11.5,
          "cpu_time": 7.359999999999999,
          "name": "DropDuplicates_1",
          "real_mem": 332992512,
          "time": 1616419232.1485653
         },
         {
          "cpu_percent": 98.3,
          "cpu_time": 7.41,
          "name": "RandomProcess2_1",
          "real_mem": 332992512,
          "time": 1616419232.1711738
         },
         {
          "cpu_percent": 23.3,
          "cpu_time": 7.49,
          "name": "ReadCsvProjectSpace_1",
          "real_mem": 333504512,
          "time": 1616419232.4494517
         },
         {
          "cpu_percent": 0,
          "cpu_time": 7.46,
          "name": "RandomProcess1_1",
          "real_mem": 332992512,
          "time": 1616419232.3497682
         },
         {
          "cpu_percent": 98.2,
          "cpu_time": 7.53,
          "name": "DropDuplicates_1",
          "real_mem": 333750272,
          "time": 1616419232.4722483
         },
         {
          "cpu_percent": 0,
          "cpu_time": 7.56,
          "name": "RandomProcess2_1",
          "real_mem": 333897728,
          "time": 1616419232.6493068
         },
         {
          "cpu_percent": 98,
          "cpu_time": 7.61,
          "name": "RandomProcess1_1",
          "real_mem": 334102528,
          "time": 1616419232.7482224
         },
         {
          "cpu_percent": 98.2,
          "cpu_time": 7.6499999999999995,
          "name": "DropDuplicates_1",
          "real_mem": 339726336,
          "time": 1616419232.8703256
         },
         {
          "cpu_percent": 0,
          "cpu_time": 7.63,
          "name": "ReadCsvProjectSpace_1",
          "real_mem": 338153472,
          "time": 1616419232.7718422
         },
         {
          "cpu_percent": 97.9,
          "cpu_time": 7.6899999999999995,
          "name": "RandomProcess2_1",
          "real_mem": 340488192,
          "time": 1616419232.9709845
         },
         {
          "cpu_percent": 0,
          "cpu_time": 7.77,
          "name": "RandomProcess1_1",
          "real_mem": 341024768,
          "time": 1616419233.3485591
         },
         {
          "cpu_percent": 11.5,
          "cpu_time": 7.82,
          "name": "ReadCsvProjectSpace_1",
          "real_mem": 341024768,
          "time": 1616419233.4483473
         },
         {
          "cpu_percent": 98,
          "cpu_time": 7.88,
          "name": "RandomProcess2_1",
          "real_mem": 342872064,
          "time": 1616419233.571729
         },
         {
          "cpu_percent": 23.1,
          "cpu_time": 7.8500000000000005,
          "name": "DropDuplicates_1",
          "real_mem": 342872064,
          "time": 1616419233.548494
         },
         {
          "cpu_percent": 11.5,
          "cpu_time": 8,
          "name": "RandomProcess1_1",
          "real_mem": 342761472,
          "time": 1616419233.948518
         },
         {
          "cpu_percent": 11.5,
          "cpu_time": 8.04,
          "name": "ReadCsvProjectSpace_1",
          "real_mem": 343027712,
          "time": 1616419234.0484865
         },
         {
          "cpu_percent": 97.8,
          "cpu_time": 8.129999999999999,
          "name": "RandomProcess2_1",
          "real_mem": 345387008,
          "time": 1616419234.1715143
         },
         {
          "cpu_percent": 195.8,
          "cpu_time": 8.09,
          "name": "DropDuplicates_1",
          "real_mem": 343605248,
          "time": 1616419234.0717912
         },
         {
          "cpu_percent": 98.3,
          "cpu_time": 8.25,
          "name": "RandomProcess1_1",
          "real_mem": 345284608,
          "time": 1616419234.4728782
         },
         {
          "cpu_percent": 0,
          "cpu_time": 8.29,
          "name": "ReadCsvProjectSpace_1",
          "real_mem": 347086848,
          "time": 1616419234.6485648
         },
         {
          "cpu_percent": 11.5,
          "cpu_time": 8.34,
          "name": "DropDuplicates_1",
          "real_mem": 347893760,
          "time": 1616419234.7484558
         },
         {
          "cpu_percent": 97.9,
          "cpu_time": 8.39,
          "name": "RandomProcess2_1",
          "real_mem": 349859840,
          "time": 1616419234.7717452
         },
         {
          "cpu_percent": 98.3,
          "cpu_time": 8.49,
          "name": "RandomProcess1_1",
          "real_mem": 350715904,
          "time": 1616419235.0717196
         },
         {
          "cpu_percent": 98.2,
          "cpu_time": 8.540000000000001,
          "name": "ReadCsvProjectSpace_1",
          "real_mem": 353169408,
          "time": 1616419235.1717687
         },
         {
          "cpu_percent": 0,
          "cpu_time": 8.57,
          "name": "DropDuplicates_1",
          "real_mem": 354562048,
          "time": 1616419235.3486257
         },
         {
          "cpu_percent": 11.5,
          "cpu_time": 8.62,
          "name": "RandomProcess2_1",
          "real_mem": 355233792,
          "time": 1616419235.4487858
         },
         {
          "cpu_percent": 196.4,
          "cpu_time": 8.73,
          "name": "RandomProcess1_1",
          "real_mem": 359870464,
          "time": 1616419235.6708953
         },
         {
          "cpu_percent": 11.6,
          "cpu_time": 8.76,
          "name": "ReadCsvProjectSpace_1",
          "real_mem": 360677376,
          "time": 1616419235.8483653
         },
         {
          "cpu_percent": 11.6,
          "cpu_time": 8.82,
          "name": "DropDuplicates_1",
          "real_mem": 361783296,
          "time": 1616419235.9483662
         },
         {
          "cpu_percent": 196,
          "cpu_time": 8.889999999999999,
          "name": "RandomProcess2_1",
          "real_mem": 362569728,
          "time": 1616419236.0592222
         },
         {
          "cpu_percent": 11.4,
          "cpu_time": 9.040000000000001,
          "name": "RandomProcess1_1",
          "real_mem": 364085248,
          "time": 1616419236.3487842
         },
         {
          "cpu_percent": 11.4,
          "cpu_time": 9.08,
          "name": "ReadCsvProjectSpace_1",
          "real_mem": 364261376,
          "time": 1616419236.4491138
         },
         {
          "cpu_percent": 11.5,
          "cpu_time": 9.110000000000001,
          "name": "DropDuplicates_1",
          "real_mem": 364507136,
          "time": 1616419236.54933
         },
         {
          "cpu_percent": 98.4,
          "cpu_time": 9.17,
          "name": "RandomProcess2_1",
          "real_mem": 364507136,
          "time": 1616419236.6497533
         },
         {
          "cpu_percent": 11.6,
          "cpu_time": 9.27,
          "name": "RandomProcess1_1",
          "real_mem": 369160192,
          "time": 1616419236.9487512
         },
         {
          "cpu_percent": 11.6,
          "cpu_time": 9.31,
          "name": "ReadCsvProjectSpace_1",
          "real_mem": 370515968,
          "time": 1616419237.0484629
         },
         {
          "cpu_percent": 196,
          "cpu_time": 9.35,
          "name": "DropDuplicates_1",
          "real_mem": 372760576,
          "time": 1616419237.072378
         },
         {
          "cpu_percent": 20.7,
          "cpu_time": 9.4,
          "name": "RandomProcess2_1",
          "real_mem": 374075392,
          "time": 1616419237.2587023
         },
         {
          "cpu_percent": 23.1,
          "cpu_time": 9.53,
          "name": "RandomProcess1_1",
          "real_mem": 375377920,
          "time": 1616419237.548735
         },
         {
          "cpu_percent": 11.5,
          "cpu_time": 9.62,
          "name": "DropDuplicates_1",
          "real_mem": 375820288,
          "time": 1616419237.7483692
         },
         {
          "cpu_percent": 11.5,
          "cpu_time": 9.57,
          "name": "ReadCsvProjectSpace_1",
          "real_mem": 375803904,
          "time": 1616419237.6485157
         },
         {
          "cpu_percent": 196.2,
          "cpu_time": 9.68,
          "name": "RandomProcess2_1",
          "real_mem": 376614912,
          "time": 1616419237.859296
         },
         {
          "cpu_percent": 11.7,
          "cpu_time": 9.77,
          "name": "RandomProcess1_1",
          "real_mem": 378707968,
          "time": 1616419238.1484826
         },
         {
          "cpu_percent": 197.1,
          "cpu_time": 9.83,
          "name": "ReadCsvProjectSpace_1",
          "real_mem": 379453440,
          "time": 1616419238.2590878
         },
         {
          "cpu_percent": 0,
          "cpu_time": 9.85,
          "name": "DropDuplicates_1",
          "real_mem": 379453440,
          "time": 1616419238.2820528
         },
         {
          "cpu_percent": 0,
          "cpu_time": 9.879999999999999,
          "name": "RandomProcess2_1",
          "real_mem": 380039168,
          "time": 1616419238.3833928
         },
         {
          "cpu_percent": 196,
          "cpu_time": 9.969999999999999,
          "name": "RandomProcess1_1",
          "real_mem": 381145088,
          "time": 1616419238.6721854
         },
         {
          "cpu_percent": 0,
          "cpu_time": 10.01,
          "name": "ReadCsvProjectSpace_1",
          "real_mem": 381202432,
          "time": 1616419238.7837925
         },
         {
          "cpu_percent": 95.9,
          "cpu_time": 10.04,
          "name": "DropDuplicates_1",
          "real_mem": 381202432,
          "time": 1616419238.87123
         },
         {
          "cpu_percent": 98.3,
          "cpu_time": 10.09,
          "name": "RandomProcess2_1",
          "real_mem": 381509632,
          "time": 1616419238.97135
         },
         {
          "cpu_percent": 34.3,
          "cpu_time": 10.239999999999998,
          "name": "RandomProcess1_1",
          "real_mem": 381960192,
          "time": 1616419239.348467
         },
         {
          "cpu_percent": 295.1,
          "cpu_time": 10.329999999999998,
          "name": "ReadCsvProjectSpace_1",
          "real_mem": 382115840,
          "time": 1616419239.4591382
         },
         {
          "cpu_percent": 192.3,
          "cpu_time": 10.36,
          "name": "DropDuplicates_1",
          "real_mem": 382382080,
          "time": 1616419239.5594227
         },
         {
          "cpu_percent": 0,
          "cpu_time": 10.379999999999999,
          "name": "RandomProcess2_1",
          "real_mem": 382918656,
          "time": 1616419239.5823228
         },
         {
          "cpu_percent": 11.6,
          "cpu_time": 10.48,
          "name": "RandomProcess1_1",
          "real_mem": 383549440,
          "time": 1616419239.9485025
         },
         {
          "cpu_percent": 0,
          "cpu_time": 10.530000000000001,
          "name": "ReadCsvProjectSpace_1",
          "real_mem": 384360448,
          "time": 1616419239.9828784
         },
         {
          "cpu_percent": 196,
          "cpu_time": 10.59,
          "name": "DropDuplicates_1",
          "real_mem": 384696320,
          "time": 1616419240.1593082
         },
         {
          "cpu_percent": 0,
          "cpu_time": 10.620000000000001,
          "name": "RandomProcess2_1",
          "real_mem": 384696320,
          "time": 1616419240.1821592
         },
         {
          "cpu_percent": 98.1,
          "cpu_time": 10.75,
          "name": "RandomProcess1_1",
          "real_mem": 385228800,
          "time": 1616419240.472017
         },
         {
          "cpu_percent": 11.5,
          "cpu_time": 10.780000000000001,
          "name": "ReadCsvProjectSpace_1",
          "real_mem": 385380352,
          "time": 1616419240.648568
         },
         {
          "cpu_percent": 195.8,
          "cpu_time": 10.85,
          "name": "DropDuplicates_1",
          "real_mem": 385536000,
          "time": 1616419240.7594275
         },
         {
          "cpu_percent": 196.2,
          "cpu_time": 10.88,
          "name": "RandomProcess2_1",
          "real_mem": 385536000,
          "time": 1616419240.859124
         },
         {
          "cpu_percent": 193.7,
          "cpu_time": 11,
          "name": "RandomProcess1_1",
          "real_mem": 386129920,
          "time": 1616419241.0698757
         },
         {
          "cpu_percent": 23.2,
          "cpu_time": 11.040000000000001,
          "name": "ReadCsvProjectSpace_1",
          "real_mem": 386392064,
          "time": 1616419241.2486484
         },
         {
          "cpu_percent": 0,
          "cpu_time": 11.09,
          "name": "DropDuplicates_1",
          "real_mem": 386392064,
          "time": 1616419241.2832048
         },
         {
          "cpu_percent": 288.7,
          "cpu_time": 11.15,
          "name": "RandomProcess2_1",
          "real_mem": 387379200,
          "time": 1616419241.4596124
         },
         {
          "cpu_percent": 97.9,
          "cpu_time": 11.25,
          "name": "RandomProcess1_1",
          "real_mem": 389591040,
          "time": 1616419241.670055
         },
         {
          "cpu_percent": 196.1,
          "cpu_time": 11.29,
          "name": "ReadCsvProjectSpace_1",
          "real_mem": 390189056,
          "time": 1616419241.7721548
         },
         {
          "cpu_percent": 292.9,
          "cpu_time": 11.34,
          "name": "DropDuplicates_1",
          "real_mem": 390721536,
          "time": 1616419241.8712025
         },
         {
          "cpu_percent": 0,
          "cpu_time": 11.41,
          "name": "RandomProcess2_1",
          "real_mem": 391147520,
          "time": 1616419241.9838562
         },
         {
          "cpu_percent": 22.5,
          "cpu_time": 11.54,
          "name": "RandomProcess1_1",
          "real_mem": 393408512,
          "time": 1616419242.348548
         },
         {
          "cpu_percent": 98.3,
          "cpu_time": 11.57,
          "name": "ReadCsvProjectSpace_1",
          "real_mem": 395243520,
          "time": 1616419242.3712227
         },
         {
          "cpu_percent": 11.4,
          "cpu_time": 11.62,
          "name": "DropDuplicates_1",
          "real_mem": 395362304,
          "time": 1616419242.5487626
         },
         {
          "cpu_percent": 0,
          "cpu_time": 11.629999999999999,
          "name": "RandomProcess2_1",
          "real_mem": 395403264,
          "time": 1616419242.5719836
         },
         {
          "cpu_percent": 186.4,
          "cpu_time": 11.75,
          "name": "RandomProcess1_1",
          "real_mem": 399564800,
          "time": 1616419242.96005
         },
         {
          "cpu_percent": 98.6,
          "cpu_time": 11.809999999999999,
          "name": "ReadCsvProjectSpace_1",
          "real_mem": 400089088,
          "time": 1616419243.0708358
         },
         {
          "cpu_percent": 197,
          "cpu_time": 11.86,
          "name": "DropDuplicates_1",
          "real_mem": 400379904,
          "time": 1616419243.1702712
         },
         {
          "cpu_percent": 0,
          "cpu_time": 11.870000000000001,
          "name": "RandomProcess2_1",
          "real_mem": 400379904,
          "time": 1616419243.1926377
         },
         {
          "cpu_percent": 196.7,
          "cpu_time": 12.07,
          "name": "RandomProcess1_1",
          "real_mem": 401625088,
          "time": 1616419243.559299
         },
         {
          "cpu_percent": 98.3,
          "cpu_time": 12.129999999999999,
          "name": "ReadCsvProjectSpace_1",
          "real_mem": 401985536,
          "time": 1616419243.6696541
         },
         {
          "cpu_percent": 0,
          "cpu_time": 12.16,
          "name": "DropDuplicates_1",
          "real_mem": 402247680,
          "time": 1616419243.6945188
         },
         {
          "cpu_percent": 197.2,
          "cpu_time": 12.200000000000001,
          "name": "RandomProcess2_1",
          "real_mem": 402341888,
          "time": 1616419243.7704225
         },
         {
          "cpu_percent": 0,
          "cpu_time": 12.370000000000001,
          "name": "RandomProcess1_1",
          "real_mem": 403357696,
          "time": 1616419244.1484807
         },
         {
          "cpu_percent": 195.3,
          "cpu_time": 12.47,
          "name": "ReadCsvProjectSpace_1",
          "real_mem": 403447808,
          "time": 1616419244.2707157
         },
         {
          "cpu_percent": 0,
          "cpu_time": 12.48,
          "name": "DropDuplicates_1",
          "real_mem": 403447808,
          "time": 1616419244.293509
         },
         {
          "cpu_percent": 190.2,
          "cpu_time": 12.52,
          "name": "RandomProcess2_1",
          "real_mem": 406683648,
          "time": 1616419244.3708606
         },
         {
          "cpu_percent": 196.8,
          "cpu_time": 12.7,
          "name": "RandomProcess1_1",
          "real_mem": 407474176,
          "time": 1616419244.67128
         },
         {
          "cpu_percent": 295.6,
          "cpu_time": 12.790000000000001,
          "name": "ReadCsvProjectSpace_1",
          "real_mem": 407867392,
          "time": 1616419244.8696272
         },
         {
          "cpu_percent": 196.7,
          "cpu_time": 12.84,
          "name": "DropDuplicates_1",
          "real_mem": 408018944,
          "time": 1616419244.9701366
         },
         {
          "cpu_percent": 195.7,
          "cpu_time": 12.86,
          "name": "RandomProcess2_1",
          "real_mem": 408182784,
          "time": 1616419245.0595248
         },
         {
          "cpu_percent": 197.2,
          "cpu_time": 13.25,
          "name": "RandomProcess1_1",
          "real_mem": 414957568,
          "time": 1616419245.7692966
         },
         {
          "cpu_percent": 194.6,
          "cpu_time": 13.35,
          "name": "ReadCsvProjectSpace_1",
          "real_mem": 415604736,
          "time": 1616419245.970597
         },
         {
          "cpu_percent": 196.8,
          "cpu_time": 13.389999999999999,
          "name": "DropDuplicates_1",
          "real_mem": 415870976,
          "time": 1616419246.0702345
         },
         {
          "cpu_percent": 291,
          "cpu_time": 13.44,
          "name": "RandomProcess2_1",
          "real_mem": 416804864,
          "time": 1616419246.1706238
         },
         {
          "cpu_percent": 98,
          "cpu_time": 14.04,
          "name": "RandomProcess1_1",
          "real_mem": 422924288,
          "time": 1616419246.7937098
         },
         {
          "cpu_percent": 192,
          "cpu_time": 14.209999999999999,
          "name": "ReadCsvProjectSpace_1",
          "real_mem": 424423424,
          "time": 1616419246.9943092
         },
         {
          "cpu_percent": 98.1,
          "cpu_time": 14.309999999999999,
          "name": "DropDuplicates_1",
          "real_mem": 426786816,
          "time": 1616419247.0933704
         },
         {
          "cpu_percent": 196.6,
          "cpu_time": 14.399999999999999,
          "name": "RandomProcess2_1",
          "real_mem": 428908544,
          "time": 1616419247.1933658
         },
         {
          "cpu_percent": 0,
          "cpu_time": 15.02,
          "name": "RandomProcess1_1",
          "real_mem": 433831936,
          "time": 1616419247.8169832
         },
         {
          "cpu_percent": 98.3,
          "cpu_time": 15.21,
          "name": "ReadCsvProjectSpace_1",
          "real_mem": 435367936,
          "time": 1616419248.0178788
         },
         {
          "cpu_percent": 46.2,
          "cpu_time": 15.309999999999999,
          "name": "DropDuplicates_1",
          "real_mem": 436129792,
          "time": 1616419248.1495273
         },
         {
          "cpu_percent": 294,
          "cpu_time": 15.45,
          "name": "RandomProcess2_1",
          "real_mem": 436764672,
          "time": 1616419248.2703352
         },
         {
          "cpu_percent": 196.9,
          "cpu_time": 16,
          "name": "RandomProcess1_1",
          "real_mem": 440246272,
          "time": 1616419248.8703375
         },
         {
          "cpu_percent": 98.6,
          "cpu_time": 16.19,
          "name": "ReadCsvProjectSpace_1",
          "real_mem": 441016320,
          "time": 1616419249.0709941
         },
         {
          "cpu_percent": 193.9,
          "cpu_time": 16.31,
          "name": "DropDuplicates_1",
          "real_mem": 441307136,
          "time": 1616419249.1729105
         },
         {
          "cpu_percent": 195.9,
          "cpu_time": 16.43,
          "name": "RandomProcess2_1",
          "real_mem": 442093568,
          "time": 1616419249.294232
         },
         {
          "cpu_percent": 196.2,
          "cpu_time": 17.009999999999998,
          "name": "RandomProcess1_1",
          "real_mem": 444657664,
          "time": 1616419249.8940735
         },
         {
          "cpu_percent": 196.4,
          "cpu_time": 17.209999999999997,
          "name": "ReadCsvProjectSpace_1",
          "real_mem": 445169664,
          "time": 1616419250.0944364
         },
         {
          "cpu_percent": 98.1,
          "cpu_time": 17.31,
          "name": "DropDuplicates_1",
          "real_mem": 445915136,
          "time": 1616419250.196697
         },
         {
          "cpu_percent": 98.3,
          "cpu_time": 17.41,
          "name": "RandomProcess2_1",
          "real_mem": 446529536,
          "time": 1616419250.3184829
         },
         {
          "cpu_percent": 98.3,
          "cpu_time": 17.979999999999997,
          "name": "RandomProcess1_1",
          "real_mem": 450076672,
          "time": 1616419250.9187403
         },
         {
          "cpu_percent": 98.5,
          "cpu_time": 18.17,
          "name": "ReadCsvProjectSpace_1",
          "real_mem": 450478080,
          "time": 1616419251.1176665
         },
         {
          "cpu_percent": 96.2,
          "cpu_time": 18.26,
          "name": "DropDuplicates_1",
          "real_mem": 450809856,
          "time": 1616419251.219713
         },
         {
          "cpu_percent": 55.1,
          "cpu_time": 18.39,
          "name": "RandomProcess2_1",
          "real_mem": 452075520,
          "time": 1616419251.3496294
         },
         {
          "cpu_percent": 196.7,
          "cpu_time": 19.009999999999998,
          "name": "RandomProcess1_1",
          "real_mem": 456200192,
          "time": 1616419251.9705
         },
         {
          "cpu_percent": 294.7,
          "cpu_time": 19.21,
          "name": "ReadCsvProjectSpace_1",
          "real_mem": 457543680,
          "time": 1616419252.1708398
         },
         {
          "cpu_percent": 197.1,
          "cpu_time": 19.299999999999997,
          "name": "DropDuplicates_1",
          "real_mem": 457818112,
          "time": 1616419252.2703135
         },
         {
          "cpu_percent": 196.8,
          "cpu_time": 19.39,
          "name": "RandomProcess2_1",
          "real_mem": 458448896,
          "time": 1616419252.3728802
         },
         {
          "cpu_percent": 194.1,
          "cpu_time": 20.009999999999998,
          "name": "RandomProcess1_1",
          "real_mem": 462790656,
          "time": 1616419252.994612
         },
         {
          "cpu_percent": 196.1,
          "cpu_time": 20.2,
          "name": "ReadCsvProjectSpace_1",
          "real_mem": 465145856,
          "time": 1616419253.1936736
         },
         {
          "cpu_percent": 30.8,
          "cpu_time": 20.31,
          "name": "DropDuplicates_1",
          "real_mem": 465653760,
          "time": 1616419253.348414
         },
         {
          "cpu_percent": 97.1,
          "cpu_time": 20.39,
          "name": "RandomProcess2_1",
          "real_mem": 459575296,
          "time": 1616419253.396123
         },
         {
          "cpu_percent": 290.9,
          "cpu_time": 21.03,
          "name": "RandomProcess1_1",
          "real_mem": 457777152,
          "time": 1616419254.0706427
         },
         {
          "cpu_percent": 98.3,
          "cpu_time": 21.17,
          "name": "ReadCsvProjectSpace_1",
          "real_mem": 458838016,
          "time": 1616419254.216318
         },
         {
          "cpu_percent": 197.1,
          "cpu_time": 21.330000000000002,
          "name": "DropDuplicates_1",
          "real_mem": 460275712,
          "time": 1616419254.3710458
         },
         {
          "cpu_percent": 197.3,
          "cpu_time": 21.41,
          "name": "RandomProcess2_1",
          "real_mem": 460378112,
          "time": 1616419254.4701777
         },
         {
          "cpu_percent": 195,
          "cpu_time": 22.05,
          "name": "RandomProcess1_1",
          "real_mem": 466075648,
          "time": 1616419255.0953174
         },
         {
          "cpu_percent": 195.1,
          "cpu_time": 22.18,
          "name": "ReadCsvProjectSpace_1",
          "real_mem": 467185664,
          "time": 1616419255.2694087
         },
         {
          "cpu_percent": 31.2,
          "cpu_time": 22.34,
          "name": "DropDuplicates_1",
          "real_mem": 467906560,
          "time": 1616419255.4486022
         },
         {
          "cpu_percent": 98,
          "cpu_time": 22.42,
          "name": "RandomProcess2_1",
          "real_mem": 468303872,
          "time": 1616419255.4930387
         },
         {
          "cpu_percent": 196.3,
          "cpu_time": 23.04,
          "name": "RandomProcess1_1",
          "real_mem": 470233088,
          "time": 1616419256.1702976
         },
         {
          "cpu_percent": 294.2,
          "cpu_time": 23.18,
          "name": "ReadCsvProjectSpace_1",
          "real_mem": 470233088,
          "time": 1616419256.2924788
         },
         {
          "cpu_percent": 195.5,
          "cpu_time": 23.34,
          "name": "DropDuplicates_1",
          "real_mem": 470233088,
          "time": 1616419256.4724562
         },
         {
          "cpu_percent": 292.8,
          "cpu_time": 23.43,
          "name": "RandomProcess2_1",
          "real_mem": 470405120,
          "time": 1616419256.5702944
         },
         {
          "cpu_percent": 293.8,
          "cpu_time": 24.07,
          "name": "RandomProcess1_1",
          "real_mem": 485920768,
          "time": 1616419257.2591891
         },
         {
          "cpu_percent": 393.6,
          "cpu_time": 24.35,
          "name": "DropDuplicates_1",
          "real_mem": 490524672,
          "time": 1616419257.5589488
         },
         {
          "cpu_percent": 98.4,
          "cpu_time": 24.419999999999998,
          "name": "RandomProcess2_1",
          "real_mem": 490524672,
          "time": 1616419257.5944238
         },
         {
          "cpu_percent": 295.5,
          "cpu_time": 25.1,
          "name": "RandomProcess1_1",
          "real_mem": 490323968,
          "time": 1616419258.2831733
         },
         {
          "cpu_percent": 0,
          "cpu_time": 25.37,
          "name": "DropDuplicates_1",
          "real_mem": 487346176,
          "time": 1616419258.6485705
         },
         {
          "cpu_percent": 294.8,
          "cpu_time": 25.450000000000003,
          "name": "RandomProcess2_1",
          "real_mem": 487346176,
          "time": 1616419258.6709485
         },
         {
          "cpu_percent": 195.6,
          "cpu_time": 26.389999999999997,
          "name": "RandomProcess2_1",
          "real_mem": 490471424,
          "time": 1616419259.694418
         },
         {
          "cpu_percent": 195.9,
          "cpu_time": 27.43,
          "name": "RandomProcess2_1",
          "real_mem": 503951360,
          "time": 1616419260.781096
         },
         {
          "cpu_percent": 196.9,
          "cpu_time": 28.47,
          "name": "RandomProcess2_1",
          "real_mem": 543109120,
          "time": 1616419261.8697684
         },
         {
          "cpu_percent": 0,
          "cpu_time": 29.49,
          "name": "RandomProcess2_1",
          "real_mem": 556904448,
          "time": 1616419262.9484584
         },
         {
          "cpu_percent": 289.6,
          "cpu_time": 30.5,
          "name": "RandomProcess2_1",
          "real_mem": 558166016,
          "time": 1616419263.97161
         },
         {
          "cpu_percent": 98.3,
          "cpu_time": 31.51,
          "name": "RandomProcess2_1",
          "real_mem": 560496640,
          "time": 1616419264.995065
         },
         {
          "cpu_percent": 196.1,
          "cpu_time": 32.47,
          "name": "RandomProcess2_1",
          "real_mem": 562282496,
          "time": 1616419266.070403
         },
         {
          "cpu_percent": 98.5,
          "cpu_time": 33.49,
          "name": "RandomProcess2_1",
          "real_mem": 564121600,
          "time": 1616419267.093781
         },
         {
          "cpu_percent": 295.5,
          "cpu_time": 34.39,
          "name": "RandomProcess2_1",
          "real_mem": 565420032,
          "time": 1616419268.1695313
         },
         {
          "cpu_percent": 98.1,
          "cpu_time": 35.36,
          "name": "RandomProcess2_1",
          "real_mem": 567377920,
          "time": 1616419269.1931994
         }
        ],
        "logs": [
         {
          "asctime": "2021-03-22 13:20:09,652",
          "created": 1616419209.6522913,
          "extra": {},
          "filename": "async_executors.py",
          "funcName": "main",
          "levelname": "DEBUG",
          "lineno": 114,
          "message": "NonSparkPath_1: started async block execution\n",
          "name": "engine.logs:NonSparkPath_1",
          "pathname": "/usr/local/lib/python3.7/dist-packages/razor/flow/async_executors.py",
          "process": 3506,
          "processName": "ForkProcess-2:1",
          "thread": 139766280914752,
          "threadName": "MainThread"
         },
         {
          "asctime": "2021-03-22 13:20:09,759",
          "created": 1616419209.759932,
          "extra": {},
          "filename": "async_executors.py",
          "funcName": "fill_atomic_inputs",
          "levelname": "INFO",
          "lineno": 250,
          "message": "NonSparkPath_1: waiting for atomic input: ip_path",
          "name": "engine.logs:NonSparkPath_1",
          "pathname": "/usr/local/lib/python3.7/dist-packages/razor/flow/async_executors.py",
          "process": 3506,
          "processName": "ForkProcess-2:1",
          "thread": 139766280914752,
          "threadName": "MainThread"
         },
         {
          "asctime": "2021-03-22 13:20:09,760",
          "created": 1616419209.7601938,
          "extra": {},
          "filename": "async_executors.py",
          "funcName": "fill_atomic_inputs",
          "levelname": "DEBUG",
          "lineno": 253,
          "message": "NonSparkPath_1: got atomic input: customer_data.csv",
          "name": "engine.logs:NonSparkPath_1",
          "pathname": "/usr/local/lib/python3.7/dist-packages/razor/flow/async_executors.py",
          "process": 3506,
          "processName": "ForkProcess-2:1",
          "thread": 139766280914752,
          "threadName": "MainThread"
         },
         {
          "asctime": "2021-03-22 13:20:09,760",
          "created": 1616419209.7602816,
          "extra": {},
          "filename": "async_executors.py",
          "funcName": "main",
          "levelname": "DEBUG",
          "lineno": 130,
          "message": "NonSparkPath_1: triggering block run",
          "name": "engine.logs:NonSparkPath_1",
          "pathname": "/usr/local/lib/python3.7/dist-packages/razor/flow/async_executors.py",
          "process": 3506,
          "processName": "ForkProcess-2:1",
          "thread": 139766280914752,
          "threadName": "MainThread"
         },
         {
          "asctime": "2021-03-22 13:20:10,163",
          "created": 1616419210.163201,
          "extra": {},
          "filename": "async_executors.py",
          "funcName": "distribute_output_queue",
          "levelname": "DEBUG",
          "lineno": 308,
          "message": "NonSparkPath_1: ---- dist output: /home/aios/projectspace/customer_data.csv -> ('ReadCsvProjectSpace_1', 'filename')",
          "name": "engine.logs:NonSparkPath_1",
          "pathname": "/usr/local/lib/python3.7/dist-packages/razor/flow/async_executors.py",
          "process": 3506,
          "processName": "ForkProcess-2:1",
          "thread": 139766280914752,
          "threadName": "MainThread"
         },
         {
          "asctime": "2021-03-22 13:20:10,163",
          "created": 1616419210.163621,
          "extra": {},
          "filename": "async_executors.py",
          "funcName": "main",
          "levelname": "DEBUG",
          "lineno": 147,
          "message": "NonSparkPath_1: block thread completed",
          "name": "engine.logs:NonSparkPath_1",
          "pathname": "/usr/local/lib/python3.7/dist-packages/razor/flow/async_executors.py",
          "process": 3506,
          "processName": "ForkProcess-2:1",
          "thread": 139766280914752,
          "threadName": "MainThread"
         },
         {
          "asctime": "2021-03-22 13:20:10,163",
          "created": 1616419210.1637647,
          "extra": {},
          "filename": "async_executors.py",
          "funcName": "main",
          "levelname": "DEBUG",
          "lineno": 149,
          "message": "NonSparkPath_1: block execution complete",
          "name": "engine.logs:NonSparkPath_1",
          "pathname": "/usr/local/lib/python3.7/dist-packages/razor/flow/async_executors.py",
          "process": 3506,
          "processName": "ForkProcess-2:1",
          "thread": 139766280914752,
          "threadName": "MainThread"
         },
         {
          "asctime": "2021-03-22 13:20:10,163",
          "created": 1616419210.1639957,
          "extra": {},
          "filename": "async_executors.py",
          "funcName": "distribute_output_queue",
          "levelname": "DEBUG",
          "lineno": 308,
          "message": "NonSparkPath_1: ---- dist output: b'__!\\tEndOfStream\\t!__' -> ('ReadCsvProjectSpace_1', 'filename')",
          "name": "engine.logs:NonSparkPath_1",
          "pathname": "/usr/local/lib/python3.7/dist-packages/razor/flow/async_executors.py",
          "process": 3506,
          "processName": "ForkProcess-2:1",
          "thread": 139766280914752,
          "threadName": "MainThread"
         },
         {
          "asctime": "2021-03-22 13:20:10,259",
          "created": 1616419210.259776,
          "extra": {},
          "filename": "async_executors.py",
          "funcName": "main",
          "levelname": "DEBUG",
          "lineno": 114,
          "message": "RandomProcess1_1: started async block execution\n",
          "name": "engine.logs:RandomProcess1_1",
          "pathname": "/usr/local/lib/python3.7/dist-packages/razor/flow/async_executors.py",
          "process": 3515,
          "processName": "ForkProcess-2:2",
          "thread": 139766280914752,
          "threadName": "MainThread"
         },
         {
          "asctime": "2021-03-22 13:20:10,349",
          "created": 1616419210.349434,
          "extra": {},
          "filename": "async_executors.py",
          "funcName": "main",
          "levelname": "DEBUG",
          "lineno": 114,
          "message": "DropDuplicates_1: started async block execution\n",
          "name": "engine.logs:DropDuplicates_1",
          "pathname": "/usr/local/lib/python3.7/dist-packages/razor/flow/async_executors.py",
          "process": 3515,
          "processName": "ForkProcess-2:2",
          "thread": 139766280914752,
          "threadName": "MainThread"
         },
         {
          "asctime": "2021-03-22 13:20:10,262",
          "created": 1616419210.2622108,
          "extra": {},
          "filename": "async_executors.py",
          "funcName": "main",
          "levelname": "DEBUG",
          "lineno": 114,
          "message": "ReadCsvProjectSpace_1: started async block execution\n",
          "name": "engine.logs:ReadCsvProjectSpace_1",
          "pathname": "/usr/local/lib/python3.7/dist-packages/razor/flow/async_executors.py",
          "process": 3515,
          "processName": "ForkProcess-2:2",
          "thread": 139766280914752,
          "threadName": "MainThread"
         },
         {
          "asctime": "2021-03-22 13:20:10,350",
          "created": 1616419210.3504102,
          "extra": {},
          "filename": "async_executors.py",
          "funcName": "main",
          "levelname": "DEBUG",
          "lineno": 114,
          "message": "RandomProcess2_1: started async block execution\n",
          "name": "engine.logs:RandomProcess2_1",
          "pathname": "/usr/local/lib/python3.7/dist-packages/razor/flow/async_executors.py",
          "process": 3515,
          "processName": "ForkProcess-2:2",
          "thread": 139766280914752,
          "threadName": "MainThread"
         },
         {
          "asctime": "2021-03-22 13:20:10,657",
          "created": 1616419210.6579945,
          "extra": {},
          "filename": "async_executors.py",
          "funcName": "start_input_receiver",
          "levelname": "DEBUG",
          "lineno": 173,
          "message": "NonSparkPath_1: received cmd: start_sender, (), {'out_name': 'op_path', 'target': ('ReadCsvProjectSpace_1', 'filename'), 'out_addr': 'tcp://0.0.0.0:60646', 'in_memory': None}",
          "name": "engine.logs:NonSparkPath_1",
          "pathname": "/usr/local/lib/python3.7/dist-packages/razor/flow/async_executors.py",
          "process": 3506,
          "processName": "ForkProcess-2:1",
          "thread": 139766280914752,
          "threadName": "MainThread"
         },
         {
          "asctime": "2021-03-22 13:20:10,658",
          "created": 1616419210.6586404,
          "extra": {},
          "filename": "async_executors.py",
          "funcName": "start_output_sender",
          "levelname": "DEBUG",
          "lineno": 370,
          "message": "NonSparkPath_1: got start_sender, op_path, ('ReadCsvProjectSpace_1', 'filename')",
          "name": "engine.logs:NonSparkPath_1",
          "pathname": "/usr/local/lib/python3.7/dist-packages/razor/flow/async_executors.py",
          "process": 3506,
          "processName": "ForkProcess-2:1",
          "thread": 139766280914752,
          "threadName": "MainThread"
         },
         {
          "asctime": "2021-03-22 13:20:10,659",
          "created": 1616419210.659628,
          "extra": {},
          "filename": "async_executors.py",
          "funcName": "start_output_sender",
          "levelname": "DEBUG",
          "lineno": 388,
          "message": "NonSparkPath_1: SENT, filename, /home/aios/projectspace/customer_data.csv, ('ReadCsvProjectSpace_1', 'filename')",
          "name": "engine.logs:NonSparkPath_1",
          "pathname": "/usr/local/lib/python3.7/dist-packages/razor/flow/async_executors.py",
          "process": 3506,
          "processName": "ForkProcess-2:1",
          "thread": 139766280914752,
          "threadName": "MainThread"
         },
         {
          "asctime": "2021-03-22 13:20:10,660",
          "created": 1616419210.6600196,
          "extra": {},
          "filename": "async_executors.py",
          "funcName": "start_output_sender",
          "levelname": "DEBUG",
          "lineno": 388,
          "message": "NonSparkPath_1: SENT, filename, b'__!\\tEndOfStream\\t!__', ('ReadCsvProjectSpace_1', 'filename')",
          "name": "engine.logs:NonSparkPath_1",
          "pathname": "/usr/local/lib/python3.7/dist-packages/razor/flow/async_executors.py",
          "process": 3506,
          "processName": "ForkProcess-2:1",
          "thread": 139766280914752,
          "threadName": "MainThread"
         },
         {
          "asctime": "2021-03-22 13:20:10,370",
          "created": 1616419210.370003,
          "extra": {},
          "filename": "async_executors.py",
          "funcName": "fill_atomic_inputs",
          "levelname": "INFO",
          "lineno": 250,
          "message": "RandomProcess1_1: waiting for atomic input: ip_data",
          "name": "engine.logs:RandomProcess1_1",
          "pathname": "/usr/local/lib/python3.7/dist-packages/razor/flow/async_executors.py",
          "process": 3515,
          "processName": "ForkProcess-2:2",
          "thread": 139766280914752,
          "threadName": "MainThread"
         },
         {
          "asctime": "2021-03-22 13:20:10,460",
          "created": 1616419210.460048,
          "extra": {},
          "filename": "async_executors.py",
          "funcName": "fill_atomic_inputs",
          "levelname": "INFO",
          "lineno": 250,
          "message": "ReadCsvProjectSpace_1: waiting for atomic input: filename",
          "name": "engine.logs:ReadCsvProjectSpace_1",
          "pathname": "/usr/local/lib/python3.7/dist-packages/razor/flow/async_executors.py",
          "process": 3515,
          "processName": "ForkProcess-2:2",
          "thread": 139766280914752,
          "threadName": "MainThread"
         },
         {
          "asctime": "2021-03-22 13:20:10,549",
          "created": 1616419210.5491,
          "extra": {},
          "filename": "async_executors.py",
          "funcName": "fill_atomic_inputs",
          "levelname": "INFO",
          "lineno": 250,
          "message": "DropDuplicates_1: waiting for atomic input: ip_data",
          "name": "engine.logs:DropDuplicates_1",
          "pathname": "/usr/local/lib/python3.7/dist-packages/razor/flow/async_executors.py",
          "process": 3515,
          "processName": "ForkProcess-2:2",
          "thread": 139766280914752,
          "threadName": "MainThread"
         },
         {
          "asctime": "2021-03-22 13:20:10,565",
          "created": 1616419210.5655456,
          "extra": {},
          "filename": "async_executors.py",
          "funcName": "fill_atomic_inputs",
          "levelname": "INFO",
          "lineno": 250,
          "message": "RandomProcess2_1: waiting for atomic input: ip_data",
          "name": "engine.logs:RandomProcess2_1",
          "pathname": "/usr/local/lib/python3.7/dist-packages/razor/flow/async_executors.py",
          "process": 3515,
          "processName": "ForkProcess-2:2",
          "thread": 139766280914752,
          "threadName": "MainThread"
         },
         {
          "asctime": "2021-03-22 13:20:10,660",
          "created": 1616419210.6603367,
          "extra": {},
          "filename": "async_executors.py",
          "funcName": "start_output_sender",
          "levelname": "DEBUG",
          "lineno": 391,
          "message": "NonSparkPath_1: completed output: ('op_path', ('ReadCsvProjectSpace_1', 'filename'))",
          "name": "engine.logs:NonSparkPath_1",
          "pathname": "/usr/local/lib/python3.7/dist-packages/razor/flow/async_executors.py",
          "process": 3506,
          "processName": "ForkProcess-2:1",
          "thread": 139766280914752,
          "threadName": "MainThread"
         },
         {
          "asctime": "2021-03-22 13:20:10,665",
          "created": 1616419210.6658444,
          "extra": {},
          "filename": "async_executors.py",
          "funcName": "start_input_receiver",
          "levelname": "DEBUG",
          "lineno": 173,
          "message": "NonSparkPath_1: received cmd: terminate, (), {}",
          "name": "engine.logs:NonSparkPath_1",
          "pathname": "/usr/local/lib/python3.7/dist-packages/razor/flow/async_executors.py",
          "process": 3506,
          "processName": "ForkProcess-2:1",
          "thread": 139766280914752,
          "threadName": "MainThread"
         },
         {
          "asctime": "2021-03-22 13:20:10,663",
          "created": 1616419210.6635203,
          "extra": {},
          "filename": "async_executors.py",
          "funcName": "start_input_receiver",
          "levelname": "DEBUG",
          "lineno": 177,
          "message": "ReadCsvProjectSpace_1: received data: filename, /home/aios/projectspace/customer_data.csv",
          "name": "engine.logs:ReadCsvProjectSpace_1",
          "pathname": "/usr/local/lib/python3.7/dist-packages/razor/flow/async_executors.py",
          "process": 3515,
          "processName": "ForkProcess-2:2",
          "thread": 139766280914752,
          "threadName": "MainThread"
         },
         {
          "asctime": "2021-03-22 13:20:10,663",
          "created": 1616419210.663987,
          "extra": {},
          "filename": "async_executors.py",
          "funcName": "start_input_receiver",
          "levelname": "DEBUG",
          "lineno": 177,
          "message": "ReadCsvProjectSpace_1: received data: filename, b'__!\\tEndOfStream\\t!__'",
          "name": "engine.logs:ReadCsvProjectSpace_1",
          "pathname": "/usr/local/lib/python3.7/dist-packages/razor/flow/async_executors.py",
          "process": 3515,
          "processName": "ForkProcess-2:2",
          "thread": 139766280914752,
          "threadName": "MainThread"
         },
         {
          "asctime": "2021-03-22 13:20:10,664",
          "created": 1616419210.6643085,
          "extra": {},
          "filename": "async_executors.py",
          "funcName": "fill_atomic_inputs",
          "levelname": "DEBUG",
          "lineno": 253,
          "message": "ReadCsvProjectSpace_1: got atomic input: /home/aios/projectspace/customer_data.csv",
          "name": "engine.logs:ReadCsvProjectSpace_1",
          "pathname": "/usr/local/lib/python3.7/dist-packages/razor/flow/async_executors.py",
          "process": 3515,
          "processName": "ForkProcess-2:2",
          "thread": 139766280914752,
          "threadName": "MainThread"
         },
         {
          "asctime": "2021-03-22 13:20:10,664",
          "created": 1616419210.6644456,
          "extra": {},
          "filename": "async_executors.py",
          "funcName": "fill_atomic_inputs",
          "levelname": "INFO",
          "lineno": 250,
          "message": "ReadCsvProjectSpace_1: waiting for atomic input: config",
          "name": "engine.logs:ReadCsvProjectSpace_1",
          "pathname": "/usr/local/lib/python3.7/dist-packages/razor/flow/async_executors.py",
          "process": 3515,
          "processName": "ForkProcess-2:2",
          "thread": 139766280914752,
          "threadName": "MainThread"
         },
         {
          "asctime": "2021-03-22 13:20:10,664",
          "created": 1616419210.6645367,
          "extra": {},
          "filename": "async_executors.py",
          "funcName": "fill_atomic_inputs",
          "levelname": "DEBUG",
          "lineno": 253,
          "message": "ReadCsvProjectSpace_1: got atomic input: {}",
          "name": "engine.logs:ReadCsvProjectSpace_1",
          "pathname": "/usr/local/lib/python3.7/dist-packages/razor/flow/async_executors.py",
          "process": 3515,
          "processName": "ForkProcess-2:2",
          "thread": 139766280914752,
          "threadName": "MainThread"
         },
         {
          "asctime": "2021-03-22 13:20:10,664",
          "created": 1616419210.6646104,
          "extra": {},
          "filename": "async_executors.py",
          "funcName": "fill_atomic_inputs",
          "levelname": "INFO",
          "lineno": 250,
          "message": "ReadCsvProjectSpace_1: waiting for atomic input: source",
          "name": "engine.logs:ReadCsvProjectSpace_1",
          "pathname": "/usr/local/lib/python3.7/dist-packages/razor/flow/async_executors.py",
          "process": 3515,
          "processName": "ForkProcess-2:2",
          "thread": 139766280914752,
          "threadName": "MainThread"
         },
         {
          "asctime": "2021-03-22 13:20:10,664",
          "created": 1616419210.6646829,
          "extra": {},
          "filename": "async_executors.py",
          "funcName": "fill_atomic_inputs",
          "levelname": "DEBUG",
          "lineno": 253,
          "message": "ReadCsvProjectSpace_1: got atomic input: ",
          "name": "engine.logs:ReadCsvProjectSpace_1",
          "pathname": "/usr/local/lib/python3.7/dist-packages/razor/flow/async_executors.py",
          "process": 3515,
          "processName": "ForkProcess-2:2",
          "thread": 139766280914752,
          "threadName": "MainThread"
         },
         {
          "asctime": "2021-03-22 13:20:10,664",
          "created": 1616419210.6647544,
          "extra": {},
          "filename": "async_executors.py",
          "funcName": "main",
          "levelname": "DEBUG",
          "lineno": 130,
          "message": "ReadCsvProjectSpace_1: triggering block run",
          "name": "engine.logs:ReadCsvProjectSpace_1",
          "pathname": "/usr/local/lib/python3.7/dist-packages/razor/flow/async_executors.py",
          "process": 3515,
          "processName": "ForkProcess-2:2",
          "thread": 139766280914752,
          "threadName": "MainThread"
         },
         {
          "asctime": "2021-03-22 13:20:56,750",
          "created": 1616419256.7505355,
          "exc_info": null,
          "extra": {},
          "filename": null,
          "full_message": null,
          "funcName": null,
          "levelname": "STDOUT",
          "lineno": null,
          "message": "Hello\n",
          "name": "block.stdout:ReadCsvProjectSpace_1",
          "pathname": null,
          "process": null,
          "processName": null,
          "thread": null,
          "threadName": null
         },
         {
          "asctime": "2021-03-22 13:20:56,764",
          "created": 1616419256.7648675,
          "exc_info": null,
          "extra": {},
          "filename": null,
          "full_message": null,
          "funcName": null,
          "levelname": "STDOUT",
          "lineno": null,
          "message": "root\n |-- transaction_id: string (nullable = true)\n |-- time: string (nullable = true)\n |-- customer_name: string (nullable = true)\n |-- card_number: string (nullable = true)\n |-- card_type: string (nullable = true)\n |-- physical_card_type: string (nullable = true)\n |-- merchant_id: string (nullable = true)\n |-- merchant_city: string (nullable = true)\n |-- merchant_state: string (nullable = true)\n |-- transaction_type: string (nullable = true)\n |-- transaction_type_sub: string (nullable = true)\n |-- amount: string (nullable = true)\n |-- product_type: string (nullable = true)\n |-- fraud_risk: string (nullable = true)\n |-- One Time Heavy Loot Score: string (nullable = true)\n |-- Drastic Transaction Change Pattern Score: string (nullable = true)\n |-- Parasitic Fraud Score: string (nullable = true)\n |-- Purchase Behavior Variation Score: string (nullable = true)\n |-- Preferred Merchant Variation Score: string (nullable = true)\n |-- Multiple Location Fraud Score: string (nullable = true)\n |-- Fraudster Merchant Score: string (nullable = true)\n |-- no_of_transactions_in_the_day: string (nullable = true)\n |-- max_transaction_amount_in_the_day: string (nullable = true)\n |-- avg_transaction_amount_in_the_day: string (nullable = true)\n |-- no_of_transactions_in_the_month: string (nullable = true)\n |-- max_transaction_amount_the_month: string (nullable = true)\n |-- avg_transaction_amount_the_month: string (nullable = true)\n |-- no_of_transactions_of_the_same_merchant_in_the_day: string (nullable = true)\n |-- max_transactions_of_the_same_merchant_in_the_day: string (nullable = true)\n |-- avg_transactions_of_the_same_merchant_in_the_day: string (nullable = true)\n |-- no_of_transactions_of_the_same_merchant_in_the_month: string (nullable = true)\n |-- max_transactions_of_the_same_merchant_in_the_month: string (nullable = true)\n |-- avg_transactions_of_the_same_merchant_in_the_month: string (nullable = true)\n\n",
          "name": "block.stdout:ReadCsvProjectSpace_1",
          "pathname": null,
          "process": null,
          "processName": null,
          "thread": null,
          "threadName": null
         },
         {
          "asctime": "2021-03-22 13:20:56,853",
          "created": 1616419256.8534827,
          "extra": {},
          "filename": "async_executors.py",
          "funcName": "distribute_output_queue",
          "levelname": "DEBUG",
          "lineno": 308,
          "message": "ReadCsvProjectSpace_1: ---- dist output: DataFrame[transaction_id: string, time: string, customer_name: string, card_number: string, card_type: string, physical_card_type: string, merchant_id: string, merchant_city: string, merchant_state: string, transaction_type: string, transaction_type_sub: string, amount: string, product_type: string, fraud_risk: string, One Time Heavy Loot Score: string, Drastic Transaction Change Pattern Score: string, Parasitic Fraud Score: string, Purchase Behavior Variation Score: string, Preferred Merchant Variation Score: string, Multiple Location Fraud Score: string, Fraudster Merchant Score: string, no_of_transactions_in_the_day: string, max_transaction_amount_in_the_day: string, avg_transaction_amount_in_the_day: string, no_of_transactions_in_the_month: string, max_transaction_amount_the_month: string, avg_transaction_amount_the_month: string, no_of_transactions_of_the_same_merchant_in_the_day: string, max_transactions_of_the_same_merchant_in_the_day: string, avg_transactions_of_the_same_merchant_in_the_day: string, no_of_transactions_of_the_same_merchant_in_the_month: string, max_transactions_of_the_same_merchant_in_the_month: string, avg_transactions_of_the_same_merchant_in_the_month: string] -> ('RandomProcess1_1', 'ip_data')",
          "name": "engine.logs:ReadCsvProjectSpace_1",
          "pathname": "/usr/local/lib/python3.7/dist-packages/razor/flow/async_executors.py",
          "process": 3515,
          "processName": "ForkProcess-2:2",
          "thread": 139766280914752,
          "threadName": "MainThread"
         },
         {
          "asctime": "2021-03-22 13:20:56,854",
          "created": 1616419256.8546455,
          "extra": {},
          "filename": "async_executors.py",
          "funcName": "distribute_output_queue",
          "levelname": "DEBUG",
          "lineno": 308,
          "message": "ReadCsvProjectSpace_1: ---- dist output: DataFrame[transaction_id: string, time: string, customer_name: string, card_number: string, card_type: string, physical_card_type: string, merchant_id: string, merchant_city: string, merchant_state: string, transaction_type: string, transaction_type_sub: string, amount: string, product_type: string, fraud_risk: string, One Time Heavy Loot Score: string, Drastic Transaction Change Pattern Score: string, Parasitic Fraud Score: string, Purchase Behavior Variation Score: string, Preferred Merchant Variation Score: string, Multiple Location Fraud Score: string, Fraudster Merchant Score: string, no_of_transactions_in_the_day: string, max_transaction_amount_in_the_day: string, avg_transaction_amount_in_the_day: string, no_of_transactions_in_the_month: string, max_transaction_amount_the_month: string, avg_transaction_amount_the_month: string, no_of_transactions_of_the_same_merchant_in_the_day: string, max_transactions_of_the_same_merchant_in_the_day: string, avg_transactions_of_the_same_merchant_in_the_day: string, no_of_transactions_of_the_same_merchant_in_the_month: string, max_transactions_of_the_same_merchant_in_the_month: string, avg_transactions_of_the_same_merchant_in_the_month: string] -> ('RandomProcess2_1', 'ip_data')",
          "name": "engine.logs:ReadCsvProjectSpace_1",
          "pathname": "/usr/local/lib/python3.7/dist-packages/razor/flow/async_executors.py",
          "process": 3515,
          "processName": "ForkProcess-2:2",
          "thread": 139766280914752,
          "threadName": "MainThread"
         },
         {
          "asctime": "2021-03-22 13:20:56,855",
          "created": 1616419256.8550282,
          "extra": {},
          "filename": "async_executors.py",
          "funcName": "main",
          "levelname": "DEBUG",
          "lineno": 147,
          "message": "ReadCsvProjectSpace_1: block thread completed",
          "name": "engine.logs:ReadCsvProjectSpace_1",
          "pathname": "/usr/local/lib/python3.7/dist-packages/razor/flow/async_executors.py",
          "process": 3515,
          "processName": "ForkProcess-2:2",
          "thread": 139766280914752,
          "threadName": "MainThread"
         },
         {
          "asctime": "2021-03-22 13:20:56,855",
          "created": 1616419256.8551242,
          "extra": {},
          "filename": "async_executors.py",
          "funcName": "main",
          "levelname": "DEBUG",
          "lineno": 149,
          "message": "ReadCsvProjectSpace_1: block execution complete",
          "name": "engine.logs:ReadCsvProjectSpace_1",
          "pathname": "/usr/local/lib/python3.7/dist-packages/razor/flow/async_executors.py",
          "process": 3515,
          "processName": "ForkProcess-2:2",
          "thread": 139766280914752,
          "threadName": "MainThread"
         },
         {
          "asctime": "2021-03-22 13:20:56,855",
          "created": 1616419256.8556685,
          "extra": {},
          "filename": "async_executors.py",
          "funcName": "distribute_output_queue",
          "levelname": "DEBUG",
          "lineno": 308,
          "message": "ReadCsvProjectSpace_1: ---- dist output: b'__!\\tEndOfStream\\t!__' -> ('RandomProcess1_1', 'ip_data')",
          "name": "engine.logs:ReadCsvProjectSpace_1",
          "pathname": "/usr/local/lib/python3.7/dist-packages/razor/flow/async_executors.py",
          "process": 3515,
          "processName": "ForkProcess-2:2",
          "thread": 139766280914752,
          "threadName": "MainThread"
         },
         {
          "asctime": "2021-03-22 13:20:56,855",
          "created": 1616419256.8557339,
          "extra": {},
          "filename": "async_executors.py",
          "funcName": "distribute_output_queue",
          "levelname": "DEBUG",
          "lineno": 308,
          "message": "ReadCsvProjectSpace_1: ---- dist output: b'__!\\tEndOfStream\\t!__' -> ('RandomProcess2_1', 'ip_data')",
          "name": "engine.logs:ReadCsvProjectSpace_1",
          "pathname": "/usr/local/lib/python3.7/dist-packages/razor/flow/async_executors.py",
          "process": 3515,
          "processName": "ForkProcess-2:2",
          "thread": 139766280914752,
          "threadName": "MainThread"
         },
         {
          "asctime": "2021-03-22 13:20:56,862",
          "created": 1616419256.8629014,
          "extra": {},
          "filename": "async_executors.py",
          "funcName": "start_input_receiver",
          "levelname": "DEBUG",
          "lineno": 173,
          "message": "ReadCsvProjectSpace_1: received cmd: start_sender, (), {'out_name': 'data', 'target': ('RandomProcess1_1', 'ip_data'), 'out_addr': 'tcp://0.0.0.0:63139', 'in_memory': True}",
          "name": "engine.logs:ReadCsvProjectSpace_1",
          "pathname": "/usr/local/lib/python3.7/dist-packages/razor/flow/async_executors.py",
          "process": 3515,
          "processName": "ForkProcess-2:2",
          "thread": 139766280914752,
          "threadName": "MainThread"
         },
         {
          "asctime": "2021-03-22 13:20:56,863",
          "created": 1616419256.8632283,
          "extra": {},
          "filename": "async_executors.py",
          "funcName": "start_output_sender",
          "levelname": "DEBUG",
          "lineno": 370,
          "message": "ReadCsvProjectSpace_1: got start_sender, data, ('RandomProcess1_1', 'ip_data')",
          "name": "engine.logs:ReadCsvProjectSpace_1",
          "pathname": "/usr/local/lib/python3.7/dist-packages/razor/flow/async_executors.py",
          "process": 3515,
          "processName": "ForkProcess-2:2",
          "thread": 139766280914752,
          "threadName": "MainThread"
         },
         {
          "asctime": "2021-03-22 13:20:56,864",
          "created": 1616419256.8641782,
          "extra": {},
          "filename": "async_executors.py",
          "funcName": "start_output_sender",
          "levelname": "DEBUG",
          "lineno": 375,
          "message": "ReadCsvProjectSpace_1: SENT, ip_data, DataFrame[transaction_id: string, time: string, customer_name: string, card_number: string, card_type: string, physical_card_type: string, merchant_id: string, merchant_city: string, merchant_state: string, transaction_type: string, transaction_type_sub: string, amount: string, product_type: string, fraud_risk: string, One Time Heavy Loot Score: string, Drastic Transaction Change Pattern Score: string, Parasitic Fraud Score: string, Purchase Behavior Variation Score: string, Preferred Merchant Variation Score: string, Multiple Location Fraud Score: string, Fraudster Merchant Score: string, no_of_transactions_in_the_day: string, max_transaction_amount_in_the_day: string, avg_transaction_amount_in_the_day: string, no_of_transactions_in_the_month: string, max_transaction_amount_the_month: string, avg_transaction_amount_the_month: string, no_of_transactions_of_the_same_merchant_in_the_day: string, max_transactions_of_the_same_merchant_in_the_day: string, avg_transactions_of_the_same_merchant_in_the_day: string, no_of_transactions_of_the_same_merchant_in_the_month: string, max_transactions_of_the_same_merchant_in_the_month: string, avg_transactions_of_the_same_merchant_in_the_month: string], ('RandomProcess1_1', 'ip_data')",
          "name": "engine.logs:ReadCsvProjectSpace_1",
          "pathname": "/usr/local/lib/python3.7/dist-packages/razor/flow/async_executors.py",
          "process": 3515,
          "processName": "ForkProcess-2:2",
          "thread": 139766280914752,
          "threadName": "MainThread"
         },
         {
          "asctime": "2021-03-22 13:20:56,864",
          "created": 1616419256.8643289,
          "extra": {},
          "filename": "async_executors.py",
          "funcName": "start_output_sender",
          "levelname": "DEBUG",
          "lineno": 375,
          "message": "ReadCsvProjectSpace_1: SENT, ip_data, b'__!\\tEndOfStream\\t!__', ('RandomProcess1_1', 'ip_data')",
          "name": "engine.logs:ReadCsvProjectSpace_1",
          "pathname": "/usr/local/lib/python3.7/dist-packages/razor/flow/async_executors.py",
          "process": 3515,
          "processName": "ForkProcess-2:2",
          "thread": 139766280914752,
          "threadName": "MainThread"
         },
         {
          "asctime": "2021-03-22 13:20:56,865",
          "created": 1616419256.8658526,
          "extra": {},
          "filename": "async_executors.py",
          "funcName": "fill_atomic_inputs",
          "levelname": "DEBUG",
          "lineno": 253,
          "message": "RandomProcess1_1: got atomic input: DataFrame[transaction_id: string, time: string, customer_name: string, card_number: string, card_type: string, physical_card_type: string, merchant_id: string, merchant_city: string, merchant_state: string, transaction_type: string, transaction_type_sub: string, amount: string, product_type: string, fraud_risk: string, One Time Heavy Loot Score: string, Drastic Transaction Change Pattern Score: string, Parasitic Fraud Score: string, Purchase Behavior Variation Score: string, Preferred Merchant Variation Score: string, Multiple Location Fraud Score: string, Fraudster Merchant Score: string, no_of_transactions_in_the_day: string, max_transaction_amount_in_the_day: string, avg_transaction_amount_in_the_day: string, no_of_transactions_in_the_month: string, max_transaction_amount_the_month: string, avg_transaction_amount_the_month: string, no_of_transactions_of_the_same_merchant_in_the_day: string, max_transactions_of_the_same_merchant_in_the_day: string, avg_transactions_of_the_same_merchant_in_the_day: string, no_of_transactions_of_the_same_merchant_in_the_month: string, max_transactions_of_the_same_merchant_in_the_month: string, avg_transactions_of_the_same_merchant_in_the_month: string]",
          "name": "engine.logs:RandomProcess1_1",
          "pathname": "/usr/local/lib/python3.7/dist-packages/razor/flow/async_executors.py",
          "process": 3515,
          "processName": "ForkProcess-2:2",
          "thread": 139766280914752,
          "threadName": "MainThread"
         },
         {
          "asctime": "2021-03-22 13:20:56,864",
          "created": 1616419256.8644083,
          "extra": {},
          "filename": "async_executors.py",
          "funcName": "start_output_sender",
          "levelname": "DEBUG",
          "lineno": 379,
          "message": "ReadCsvProjectSpace_1: completed output: ('data', ('RandomProcess1_1', 'ip_data'))",
          "name": "engine.logs:ReadCsvProjectSpace_1",
          "pathname": "/usr/local/lib/python3.7/dist-packages/razor/flow/async_executors.py",
          "process": 3515,
          "processName": "ForkProcess-2:2",
          "thread": 139766280914752,
          "threadName": "MainThread"
         },
         {
          "asctime": "2021-03-22 13:20:56,866",
          "created": 1616419256.8662164,
          "extra": {},
          "filename": "async_executors.py",
          "funcName": "fill_atomic_inputs",
          "levelname": "INFO",
          "lineno": 250,
          "message": "RandomProcess1_1: waiting for atomic input: config",
          "name": "engine.logs:RandomProcess1_1",
          "pathname": "/usr/local/lib/python3.7/dist-packages/razor/flow/async_executors.py",
          "process": 3515,
          "processName": "ForkProcess-2:2",
          "thread": 139766280914752,
          "threadName": "MainThread"
         },
         {
          "asctime": "2021-03-22 13:20:56,866",
          "created": 1616419256.866339,
          "extra": {},
          "filename": "async_executors.py",
          "funcName": "fill_atomic_inputs",
          "levelname": "DEBUG",
          "lineno": 253,
          "message": "RandomProcess1_1: got atomic input: {}",
          "name": "engine.logs:RandomProcess1_1",
          "pathname": "/usr/local/lib/python3.7/dist-packages/razor/flow/async_executors.py",
          "process": 3515,
          "processName": "ForkProcess-2:2",
          "thread": 139766280914752,
          "threadName": "MainThread"
         },
         {
          "asctime": "2021-03-22 13:20:56,866",
          "created": 1616419256.8664117,
          "extra": {},
          "filename": "async_executors.py",
          "funcName": "fill_atomic_inputs",
          "levelname": "INFO",
          "lineno": 250,
          "message": "RandomProcess1_1: waiting for atomic input: source",
          "name": "engine.logs:RandomProcess1_1",
          "pathname": "/usr/local/lib/python3.7/dist-packages/razor/flow/async_executors.py",
          "process": 3515,
          "processName": "ForkProcess-2:2",
          "thread": 139766280914752,
          "threadName": "MainThread"
         },
         {
          "asctime": "2021-03-22 13:20:56,868",
          "created": 1616419256.8686275,
          "extra": {},
          "filename": "async_executors.py",
          "funcName": "start_input_receiver",
          "levelname": "DEBUG",
          "lineno": 173,
          "message": "ReadCsvProjectSpace_1: received cmd: start_sender, (), {'out_name': 'data', 'target': ('RandomProcess2_1', 'ip_data'), 'out_addr': 'tcp://0.0.0.0:60452', 'in_memory': True}",
          "name": "engine.logs:ReadCsvProjectSpace_1",
          "pathname": "/usr/local/lib/python3.7/dist-packages/razor/flow/async_executors.py",
          "process": 3515,
          "processName": "ForkProcess-2:2",
          "thread": 139766280914752,
          "threadName": "MainThread"
         },
         {
          "asctime": "2021-03-22 13:20:56,866",
          "created": 1616419256.8664892,
          "extra": {},
          "filename": "async_executors.py",
          "funcName": "fill_atomic_inputs",
          "levelname": "DEBUG",
          "lineno": 253,
          "message": "RandomProcess1_1: got atomic input: ",
          "name": "engine.logs:RandomProcess1_1",
          "pathname": "/usr/local/lib/python3.7/dist-packages/razor/flow/async_executors.py",
          "process": 3515,
          "processName": "ForkProcess-2:2",
          "thread": 139766280914752,
          "threadName": "MainThread"
         },
         {
          "asctime": "2021-03-22 13:20:56,869",
          "created": 1616419256.8695621,
          "extra": {},
          "filename": "async_executors.py",
          "funcName": "start_output_sender",
          "levelname": "DEBUG",
          "lineno": 370,
          "message": "ReadCsvProjectSpace_1: got start_sender, data, ('RandomProcess2_1', 'ip_data')",
          "name": "engine.logs:ReadCsvProjectSpace_1",
          "pathname": "/usr/local/lib/python3.7/dist-packages/razor/flow/async_executors.py",
          "process": 3515,
          "processName": "ForkProcess-2:2",
          "thread": 139766280914752,
          "threadName": "MainThread"
         },
         {
          "asctime": "2021-03-22 13:20:56,866",
          "created": 1616419256.8665688,
          "extra": {},
          "filename": "async_executors.py",
          "funcName": "main",
          "levelname": "DEBUG",
          "lineno": 130,
          "message": "RandomProcess1_1: triggering block run",
          "name": "engine.logs:RandomProcess1_1",
          "pathname": "/usr/local/lib/python3.7/dist-packages/razor/flow/async_executors.py",
          "process": 3515,
          "processName": "ForkProcess-2:2",
          "thread": 139766280914752,
          "threadName": "MainThread"
         },
         {
          "asctime": "2021-03-22 13:20:56,876",
          "created": 1616419256.876469,
          "extra": {},
          "filename": "async_executors.py",
          "funcName": "fill_atomic_inputs",
          "levelname": "DEBUG",
          "lineno": 253,
          "message": "RandomProcess2_1: got atomic input: DataFrame[transaction_id: string, time: string, customer_name: string, card_number: string, card_type: string, physical_card_type: string, merchant_id: string, merchant_city: string, merchant_state: string, transaction_type: string, transaction_type_sub: string, amount: string, product_type: string, fraud_risk: string, One Time Heavy Loot Score: string, Drastic Transaction Change Pattern Score: string, Parasitic Fraud Score: string, Purchase Behavior Variation Score: string, Preferred Merchant Variation Score: string, Multiple Location Fraud Score: string, Fraudster Merchant Score: string, no_of_transactions_in_the_day: string, max_transaction_amount_in_the_day: string, avg_transaction_amount_in_the_day: string, no_of_transactions_in_the_month: string, max_transaction_amount_the_month: string, avg_transaction_amount_the_month: string, no_of_transactions_of_the_same_merchant_in_the_day: string, max_transactions_of_the_same_merchant_in_the_day: string, avg_transactions_of_the_same_merchant_in_the_day: string, no_of_transactions_of_the_same_merchant_in_the_month: string, max_transactions_of_the_same_merchant_in_the_month: string, avg_transactions_of_the_same_merchant_in_the_month: string]",
          "name": "engine.logs:RandomProcess2_1",
          "pathname": "/usr/local/lib/python3.7/dist-packages/razor/flow/async_executors.py",
          "process": 3515,
          "processName": "ForkProcess-2:2",
          "thread": 139766280914752,
          "threadName": "MainThread"
         },
         {
          "asctime": "2021-03-22 13:20:56,874",
          "created": 1616419256.8747985,
          "extra": {},
          "filename": "async_executors.py",
          "funcName": "start_output_sender",
          "levelname": "DEBUG",
          "lineno": 375,
          "message": "ReadCsvProjectSpace_1: SENT, ip_data, DataFrame[transaction_id: string, time: string, customer_name: string, card_number: string, card_type: string, physical_card_type: string, merchant_id: string, merchant_city: string, merchant_state: string, transaction_type: string, transaction_type_sub: string, amount: string, product_type: string, fraud_risk: string, One Time Heavy Loot Score: string, Drastic Transaction Change Pattern Score: string, Parasitic Fraud Score: string, Purchase Behavior Variation Score: string, Preferred Merchant Variation Score: string, Multiple Location Fraud Score: string, Fraudster Merchant Score: string, no_of_transactions_in_the_day: string, max_transaction_amount_in_the_day: string, avg_transaction_amount_in_the_day: string, no_of_transactions_in_the_month: string, max_transaction_amount_the_month: string, avg_transaction_amount_the_month: string, no_of_transactions_of_the_same_merchant_in_the_day: string, max_transactions_of_the_same_merchant_in_the_day: string, avg_transactions_of_the_same_merchant_in_the_day: string, no_of_transactions_of_the_same_merchant_in_the_month: string, max_transactions_of_the_same_merchant_in_the_month: string, avg_transactions_of_the_same_merchant_in_the_month: string], ('RandomProcess2_1', 'ip_data')",
          "name": "engine.logs:ReadCsvProjectSpace_1",
          "pathname": "/usr/local/lib/python3.7/dist-packages/razor/flow/async_executors.py",
          "process": 3515,
          "processName": "ForkProcess-2:2",
          "thread": 139766280914752,
          "threadName": "MainThread"
         },
         {
          "asctime": "2021-03-22 13:20:56,876",
          "created": 1616419256.876622,
          "extra": {},
          "filename": "async_executors.py",
          "funcName": "fill_atomic_inputs",
          "levelname": "INFO",
          "lineno": 250,
          "message": "RandomProcess2_1: waiting for atomic input: config",
          "name": "engine.logs:RandomProcess2_1",
          "pathname": "/usr/local/lib/python3.7/dist-packages/razor/flow/async_executors.py",
          "process": 3515,
          "processName": "ForkProcess-2:2",
          "thread": 139766280914752,
          "threadName": "MainThread"
         },
         {
          "asctime": "2021-03-22 13:20:56,875",
          "created": 1616419256.8750384,
          "extra": {},
          "filename": "async_executors.py",
          "funcName": "start_output_sender",
          "levelname": "DEBUG",
          "lineno": 375,
          "message": "ReadCsvProjectSpace_1: SENT, ip_data, b'__!\\tEndOfStream\\t!__', ('RandomProcess2_1', 'ip_data')",
          "name": "engine.logs:ReadCsvProjectSpace_1",
          "pathname": "/usr/local/lib/python3.7/dist-packages/razor/flow/async_executors.py",
          "process": 3515,
          "processName": "ForkProcess-2:2",
          "thread": 139766280914752,
          "threadName": "MainThread"
         },
         {
          "asctime": "2021-03-22 13:20:56,876",
          "created": 1616419256.8766866,
          "extra": {},
          "filename": "async_executors.py",
          "funcName": "fill_atomic_inputs",
          "levelname": "DEBUG",
          "lineno": 253,
          "message": "RandomProcess2_1: got atomic input: {}",
          "name": "engine.logs:RandomProcess2_1",
          "pathname": "/usr/local/lib/python3.7/dist-packages/razor/flow/async_executors.py",
          "process": 3515,
          "processName": "ForkProcess-2:2",
          "thread": 139766280914752,
          "threadName": "MainThread"
         },
         {
          "asctime": "2021-03-22 13:20:56,875",
          "created": 1616419256.875099,
          "extra": {},
          "filename": "async_executors.py",
          "funcName": "start_output_sender",
          "levelname": "DEBUG",
          "lineno": 379,
          "message": "ReadCsvProjectSpace_1: completed output: ('data', ('RandomProcess2_1', 'ip_data'))",
          "name": "engine.logs:ReadCsvProjectSpace_1",
          "pathname": "/usr/local/lib/python3.7/dist-packages/razor/flow/async_executors.py",
          "process": 3515,
          "processName": "ForkProcess-2:2",
          "thread": 139766280914752,
          "threadName": "MainThread"
         },
         {
          "asctime": "2021-03-22 13:20:56,876",
          "created": 1616419256.8767257,
          "extra": {},
          "filename": "async_executors.py",
          "funcName": "fill_atomic_inputs",
          "levelname": "INFO",
          "lineno": 250,
          "message": "RandomProcess2_1: waiting for atomic input: source",
          "name": "engine.logs:RandomProcess2_1",
          "pathname": "/usr/local/lib/python3.7/dist-packages/razor/flow/async_executors.py",
          "process": 3515,
          "processName": "ForkProcess-2:2",
          "thread": 139766280914752,
          "threadName": "MainThread"
         },
         {
          "asctime": "2021-03-22 13:20:56,880",
          "created": 1616419256.8802989,
          "extra": {},
          "filename": "async_executors.py",
          "funcName": "start_input_receiver",
          "levelname": "DEBUG",
          "lineno": 173,
          "message": "ReadCsvProjectSpace_1: received cmd: terminate, (), {}",
          "name": "engine.logs:ReadCsvProjectSpace_1",
          "pathname": "/usr/local/lib/python3.7/dist-packages/razor/flow/async_executors.py",
          "process": 3515,
          "processName": "ForkProcess-2:2",
          "thread": 139766280914752,
          "threadName": "MainThread"
         },
         {
          "asctime": "2021-03-22 13:20:56,876",
          "created": 1616419256.8767672,
          "extra": {},
          "filename": "async_executors.py",
          "funcName": "fill_atomic_inputs",
          "levelname": "DEBUG",
          "lineno": 253,
          "message": "RandomProcess2_1: got atomic input: ",
          "name": "engine.logs:RandomProcess2_1",
          "pathname": "/usr/local/lib/python3.7/dist-packages/razor/flow/async_executors.py",
          "process": 3515,
          "processName": "ForkProcess-2:2",
          "thread": 139766280914752,
          "threadName": "MainThread"
         },
         {
          "asctime": "2021-03-22 13:20:56,876",
          "created": 1616419256.876823,
          "extra": {},
          "filename": "async_executors.py",
          "funcName": "main",
          "levelname": "DEBUG",
          "lineno": 130,
          "message": "RandomProcess2_1: triggering block run",
          "name": "engine.logs:RandomProcess2_1",
          "pathname": "/usr/local/lib/python3.7/dist-packages/razor/flow/async_executors.py",
          "process": 3515,
          "processName": "ForkProcess-2:2",
          "thread": 139766280914752,
          "threadName": "MainThread"
         },
         {
          "asctime": "2021-03-22 13:20:59,065",
          "created": 1616419259.0650163,
          "exc_info": null,
          "extra": {},
          "filename": null,
          "full_message": null,
          "funcName": null,
          "levelname": "STDOUT",
          "lineno": null,
          "message": "+-------------+--------------------+------------------+\n|customer_name|         card_number|         card_type|\n+-------------+--------------------+------------------+\n|Patrick Duran|47e2fcaf-2dc4-4fd...|current_debit_card|\n|Patrick Duran|47e2fcaf-2dc4-4fd...|current_debit_card|\n|Patrick Duran|47e2fcaf-2dc4-4fd...|current_debit_card|\n|Patrick Duran|47e2fcaf-2dc4-4fd...|current_debit_card|\n|Patrick Duran|47e2fcaf-2dc4-4fd...|current_debit_card|\n|Patrick Duran|47e2fcaf-2dc4-4fd...|current_debit_card|\n|Patrick Duran|47e2fcaf-2dc4-4fd...|current_debit_card|\n|Patrick Duran|47e2fcaf-2dc4-4fd...|current_debit_card|\n|Patrick Duran|47e2fcaf-2dc4-4fd...|current_debit_card|\n|Patrick Duran|47e2fcaf-2dc4-4fd...|current_debit_card|\n|Patrick Duran|47e2fcaf-2dc4-4fd...|current_debit_card|\n|Patrick Duran|47e2fcaf-2dc4-4fd...|current_debit_card|\n|Patrick Duran|47e2fcaf-2dc4-4fd...|current_debit_card|\n|Patrick Duran|47e2fcaf-2dc4-4fd...|current_debit_card|\n|Patrick Duran|47e2fcaf-2dc4-4fd...|current_debit_card|\n|Patrick Duran|47e2fcaf-2dc4-4fd...|current_debit_card|\n|Patrick Duran|47e2fcaf-2dc4-4fd...|current_debit_card|\n|Patrick Duran|47e2fcaf-2dc4-4fd...|current_debit_card|\n|Patrick Duran|47e2fcaf-2dc4-4fd...|current_debit_card|\n|Patrick Duran|47e2fcaf-2dc4-4fd...|current_debit_card|\n+-------------+--------------------+------------------+\nonly showing top 20 rows\n\n",
          "name": "block.stdout:RandomProcess1_1",
          "pathname": null,
          "process": null,
          "processName": null,
          "thread": null,
          "threadName": null
         },
         {
          "asctime": "2021-03-22 13:20:59,067",
          "created": 1616419259.067635,
          "extra": {},
          "filename": "async_executors.py",
          "funcName": "distribute_output_queue",
          "levelname": "DEBUG",
          "lineno": 308,
          "message": "RandomProcess1_1: ---- dist output: DataFrame[customer_name: string, card_number: string, card_type: string] -> ('DropDuplicates_1', 'ip_data')",
          "name": "engine.logs:RandomProcess1_1",
          "pathname": "/usr/local/lib/python3.7/dist-packages/razor/flow/async_executors.py",
          "process": 3515,
          "processName": "ForkProcess-2:2",
          "thread": 139766280914752,
          "threadName": "MainThread"
         },
         {
          "asctime": "2021-03-22 13:20:59,067",
          "created": 1616419259.0679939,
          "extra": {},
          "filename": "async_executors.py",
          "funcName": "main",
          "levelname": "DEBUG",
          "lineno": 147,
          "message": "RandomProcess1_1: block thread completed",
          "name": "engine.logs:RandomProcess1_1",
          "pathname": "/usr/local/lib/python3.7/dist-packages/razor/flow/async_executors.py",
          "process": 3515,
          "processName": "ForkProcess-2:2",
          "thread": 139766280914752,
          "threadName": "MainThread"
         },
         {
          "asctime": "2021-03-22 13:20:59,068",
          "created": 1616419259.0680778,
          "extra": {},
          "filename": "async_executors.py",
          "funcName": "main",
          "levelname": "DEBUG",
          "lineno": 149,
          "message": "RandomProcess1_1: block execution complete",
          "name": "engine.logs:RandomProcess1_1",
          "pathname": "/usr/local/lib/python3.7/dist-packages/razor/flow/async_executors.py",
          "process": 3515,
          "processName": "ForkProcess-2:2",
          "thread": 139766280914752,
          "threadName": "MainThread"
         },
         {
          "asctime": "2021-03-22 13:20:59,068",
          "created": 1616419259.0683491,
          "extra": {},
          "filename": "async_executors.py",
          "funcName": "distribute_output_queue",
          "levelname": "DEBUG",
          "lineno": 308,
          "message": "RandomProcess1_1: ---- dist output: b'__!\\tEndOfStream\\t!__' -> ('DropDuplicates_1', 'ip_data')",
          "name": "engine.logs:RandomProcess1_1",
          "pathname": "/usr/local/lib/python3.7/dist-packages/razor/flow/async_executors.py",
          "process": 3515,
          "processName": "ForkProcess-2:2",
          "thread": 139766280914752,
          "threadName": "MainThread"
         },
         {
          "asctime": "2021-03-22 13:20:59,072",
          "created": 1616419259.0724232,
          "extra": {},
          "filename": "async_executors.py",
          "funcName": "start_input_receiver",
          "levelname": "DEBUG",
          "lineno": 173,
          "message": "RandomProcess1_1: received cmd: start_sender, (), {'out_name': 'op_data', 'target': ('DropDuplicates_1', 'ip_data'), 'out_addr': 'tcp://0.0.0.0:64597', 'in_memory': True}",
          "name": "engine.logs:RandomProcess1_1",
          "pathname": "/usr/local/lib/python3.7/dist-packages/razor/flow/async_executors.py",
          "process": 3515,
          "processName": "ForkProcess-2:2",
          "thread": 139766280914752,
          "threadName": "MainThread"
         },
         {
          "asctime": "2021-03-22 13:20:59,148",
          "created": 1616419259.1483765,
          "extra": {},
          "filename": "async_executors.py",
          "funcName": "start_output_sender",
          "levelname": "DEBUG",
          "lineno": 370,
          "message": "RandomProcess1_1: got start_sender, op_data, ('DropDuplicates_1', 'ip_data')",
          "name": "engine.logs:RandomProcess1_1",
          "pathname": "/usr/local/lib/python3.7/dist-packages/razor/flow/async_executors.py",
          "process": 3515,
          "processName": "ForkProcess-2:2",
          "thread": 139766280914752,
          "threadName": "MainThread"
         },
         {
          "asctime": "2021-03-22 13:20:59,149",
          "created": 1616419259.1495788,
          "extra": {},
          "filename": "async_executors.py",
          "funcName": "start_output_sender",
          "levelname": "DEBUG",
          "lineno": 375,
          "message": "RandomProcess1_1: SENT, ip_data, DataFrame[customer_name: string, card_number: string, card_type: string], ('DropDuplicates_1', 'ip_data')",
          "name": "engine.logs:RandomProcess1_1",
          "pathname": "/usr/local/lib/python3.7/dist-packages/razor/flow/async_executors.py",
          "process": 3515,
          "processName": "ForkProcess-2:2",
          "thread": 139766280914752,
          "threadName": "MainThread"
         },
         {
          "asctime": "2021-03-22 13:20:59,149",
          "created": 1616419259.1497533,
          "extra": {},
          "filename": "async_executors.py",
          "funcName": "start_output_sender",
          "levelname": "DEBUG",
          "lineno": 375,
          "message": "RandomProcess1_1: SENT, ip_data, b'__!\\tEndOfStream\\t!__', ('DropDuplicates_1', 'ip_data')",
          "name": "engine.logs:RandomProcess1_1",
          "pathname": "/usr/local/lib/python3.7/dist-packages/razor/flow/async_executors.py",
          "process": 3515,
          "processName": "ForkProcess-2:2",
          "thread": 139766280914752,
          "threadName": "MainThread"
         },
         {
          "asctime": "2021-03-22 13:20:59,151",
          "created": 1616419259.1516805,
          "extra": {},
          "filename": "async_executors.py",
          "funcName": "fill_atomic_inputs",
          "levelname": "DEBUG",
          "lineno": 253,
          "message": "DropDuplicates_1: got atomic input: DataFrame[customer_name: string, card_number: string, card_type: string]",
          "name": "engine.logs:DropDuplicates_1",
          "pathname": "/usr/local/lib/python3.7/dist-packages/razor/flow/async_executors.py",
          "process": 3515,
          "processName": "ForkProcess-2:2",
          "thread": 139766280914752,
          "threadName": "MainThread"
         },
         {
          "asctime": "2021-03-22 13:20:59,149",
          "created": 1616419259.1498163,
          "extra": {},
          "filename": "async_executors.py",
          "funcName": "start_output_sender",
          "levelname": "DEBUG",
          "lineno": 379,
          "message": "RandomProcess1_1: completed output: ('op_data', ('DropDuplicates_1', 'ip_data'))",
          "name": "engine.logs:RandomProcess1_1",
          "pathname": "/usr/local/lib/python3.7/dist-packages/razor/flow/async_executors.py",
          "process": 3515,
          "processName": "ForkProcess-2:2",
          "thread": 139766280914752,
          "threadName": "MainThread"
         },
         {
          "asctime": "2021-03-22 13:20:59,151",
          "created": 1616419259.1518276,
          "extra": {},
          "filename": "async_executors.py",
          "funcName": "fill_atomic_inputs",
          "levelname": "INFO",
          "lineno": 250,
          "message": "DropDuplicates_1: waiting for atomic input: config",
          "name": "engine.logs:DropDuplicates_1",
          "pathname": "/usr/local/lib/python3.7/dist-packages/razor/flow/async_executors.py",
          "process": 3515,
          "processName": "ForkProcess-2:2",
          "thread": 139766280914752,
          "threadName": "MainThread"
         },
         {
          "asctime": "2021-03-22 13:20:59,151",
          "created": 1616419259.151899,
          "extra": {},
          "filename": "async_executors.py",
          "funcName": "fill_atomic_inputs",
          "levelname": "DEBUG",
          "lineno": 253,
          "message": "DropDuplicates_1: got atomic input: {}",
          "name": "engine.logs:DropDuplicates_1",
          "pathname": "/usr/local/lib/python3.7/dist-packages/razor/flow/async_executors.py",
          "process": 3515,
          "processName": "ForkProcess-2:2",
          "thread": 139766280914752,
          "threadName": "MainThread"
         },
         {
          "asctime": "2021-03-22 13:20:59,151",
          "created": 1616419259.151967,
          "extra": {},
          "filename": "async_executors.py",
          "funcName": "fill_atomic_inputs",
          "levelname": "INFO",
          "lineno": 250,
          "message": "DropDuplicates_1: waiting for atomic input: source",
          "name": "engine.logs:DropDuplicates_1",
          "pathname": "/usr/local/lib/python3.7/dist-packages/razor/flow/async_executors.py",
          "process": 3515,
          "processName": "ForkProcess-2:2",
          "thread": 139766280914752,
          "threadName": "MainThread"
         },
         {
          "asctime": "2021-03-22 13:20:59,152",
          "created": 1616419259.1520133,
          "extra": {},
          "filename": "async_executors.py",
          "funcName": "fill_atomic_inputs",
          "levelname": "DEBUG",
          "lineno": 253,
          "message": "DropDuplicates_1: got atomic input: ",
          "name": "engine.logs:DropDuplicates_1",
          "pathname": "/usr/local/lib/python3.7/dist-packages/razor/flow/async_executors.py",
          "process": 3515,
          "processName": "ForkProcess-2:2",
          "thread": 139766280914752,
          "threadName": "MainThread"
         },
         {
          "asctime": "2021-03-22 13:20:59,160",
          "created": 1616419259.1604831,
          "extra": {},
          "filename": "async_executors.py",
          "funcName": "start_input_receiver",
          "levelname": "DEBUG",
          "lineno": 173,
          "message": "RandomProcess1_1: received cmd: terminate, (), {}",
          "name": "engine.logs:RandomProcess1_1",
          "pathname": "/usr/local/lib/python3.7/dist-packages/razor/flow/async_executors.py",
          "process": 3515,
          "processName": "ForkProcess-2:2",
          "thread": 139766280914752,
          "threadName": "MainThread"
         },
         {
          "asctime": "2021-03-22 13:20:59,152",
          "created": 1616419259.152069,
          "extra": {},
          "filename": "async_executors.py",
          "funcName": "main",
          "levelname": "DEBUG",
          "lineno": 130,
          "message": "DropDuplicates_1: triggering block run",
          "name": "engine.logs:DropDuplicates_1",
          "pathname": "/usr/local/lib/python3.7/dist-packages/razor/flow/async_executors.py",
          "process": 3515,
          "processName": "ForkProcess-2:2",
          "thread": 139766280914752,
          "threadName": "MainThread"
         },
         {
          "asctime": "2021-03-22 13:20:59,252",
          "created": 1616419259.252737,
          "extra": {},
          "filename": "async_executors.py",
          "funcName": "main",
          "levelname": "DEBUG",
          "lineno": 147,
          "message": "DropDuplicates_1: block thread completed",
          "name": "engine.logs:DropDuplicates_1",
          "pathname": "/usr/local/lib/python3.7/dist-packages/razor/flow/async_executors.py",
          "process": 3515,
          "processName": "ForkProcess-2:2",
          "thread": 139766280914752,
          "threadName": "MainThread"
         },
         {
          "asctime": "2021-03-22 13:20:59,252",
          "created": 1616419259.2528906,
          "extra": {},
          "filename": "async_executors.py",
          "funcName": "main",
          "levelname": "DEBUG",
          "lineno": 149,
          "message": "DropDuplicates_1: block execution complete",
          "name": "engine.logs:DropDuplicates_1",
          "pathname": "/usr/local/lib/python3.7/dist-packages/razor/flow/async_executors.py",
          "process": 3515,
          "processName": "ForkProcess-2:2",
          "thread": 139766280914752,
          "threadName": "MainThread"
         },
         {
          "asctime": "2021-03-22 13:20:59,260",
          "created": 1616419259.2601497,
          "extra": {},
          "filename": "async_executors.py",
          "funcName": "start_input_receiver",
          "levelname": "DEBUG",
          "lineno": 173,
          "message": "DropDuplicates_1: received cmd: terminate, (), {}",
          "name": "engine.logs:DropDuplicates_1",
          "pathname": "/usr/local/lib/python3.7/dist-packages/razor/flow/async_executors.py",
          "process": 3515,
          "processName": "ForkProcess-2:2",
          "thread": 139766280914752,
          "threadName": "MainThread"
         },
         {
          "asctime": "2021-03-22 13:21:09,471",
          "created": 1616419269.471656,
          "extra": {},
          "filename": "async_executors.py",
          "funcName": "main",
          "levelname": "DEBUG",
          "lineno": 147,
          "message": "RandomProcess2_1: block thread completed",
          "name": "engine.logs:RandomProcess2_1",
          "pathname": "/usr/local/lib/python3.7/dist-packages/razor/flow/async_executors.py",
          "process": 3515,
          "processName": "ForkProcess-2:2",
          "thread": 139766280914752,
          "threadName": "MainThread"
         },
         {
          "asctime": "2021-03-22 13:21:09,471",
          "created": 1616419269.4717977,
          "extra": {},
          "filename": "async_executors.py",
          "funcName": "main",
          "levelname": "DEBUG",
          "lineno": 149,
          "message": "RandomProcess2_1: block execution complete",
          "name": "engine.logs:RandomProcess2_1",
          "pathname": "/usr/local/lib/python3.7/dist-packages/razor/flow/async_executors.py",
          "process": 3515,
          "processName": "ForkProcess-2:2",
          "thread": 139766280914752,
          "threadName": "MainThread"
         },
         {
          "asctime": "2021-03-22 13:21:09,549",
          "created": 1616419269.5491352,
          "extra": {},
          "filename": "async_executors.py",
          "funcName": "start_input_receiver",
          "levelname": "DEBUG",
          "lineno": 173,
          "message": "RandomProcess2_1: received cmd: terminate, (), {}",
          "name": "engine.logs:RandomProcess2_1",
          "pathname": "/usr/local/lib/python3.7/dist-packages/razor/flow/async_executors.py",
          "process": 3515,
          "processName": "ForkProcess-2:2",
          "thread": 139766280914752,
          "threadName": "MainThread"
         }
        ],
        "meta": {
         "block_status": {
          "DropDuplicates_1": "SUCCESS",
          "NonSparkPath_1": "SUCCESS",
          "RandomProcess1_1": "SUCCESS",
          "RandomProcess2_1": "SUCCESS",
          "ReadCsvProjectSpace_1": "SUCCESS"
         },
         "blocks": [
          {
           "class_name": "ReadCsvProjectSpace",
           "fullname": ".ReadCsvProjectSpace",
           "id": "0c7bdea8-f553-4a1f-9aac-a6f6e9716ad7",
           "inputs": [
            {
             "dataType": "string",
             "default": "",
             "flow": "atomic",
             "help": null,
             "isdict": false,
             "islist": false,
             "label": "filename",
             "meta": {},
             "name": "filename",
             "series": false,
             "type": "str",
             "type_check": true
            },
            {
             "dataType": "dict",
             "default": {},
             "flow": "atomic",
             "help": null,
             "isdict": false,
             "islist": false,
             "label": "config",
             "meta": {},
             "name": "config",
             "series": false,
             "type": "dict",
             "type_check": true
            },
            {
             "dataType": "string",
             "default": "",
             "flow": "atomic",
             "help": null,
             "isdict": false,
             "islist": false,
             "label": "source",
             "meta": {},
             "name": "source",
             "series": false,
             "type": "str",
             "type_check": true
            }
           ],
           "outputs": [
            {
             "flow": "atomic",
             "help": null,
             "label": "data",
             "meta": {},
             "name": "data",
             "series": false,
             "type": "DataFrame",
             "type_check": true
            }
           ],
           "overwritten": false,
           "published": false,
           "var_names": [
            "ReadCsvProjectSpace"
           ]
          },
          {
           "class_name": "DropDuplicates",
           "fullname": ".DropDuplicates",
           "id": "fa3f87c3-2a45-4cb7-8a13-9c510dabb7d1",
           "inputs": [
            {
             "dataType": null,
             "default": null,
             "flow": "atomic",
             "help": null,
             "isdict": false,
             "islist": false,
             "label": "ip_data",
             "meta": {},
             "name": "ip_data",
             "series": false,
             "type": "DataFrame",
             "type_check": true
            },
            {
             "dataType": "dict",
             "default": {},
             "flow": "atomic",
             "help": null,
             "isdict": false,
             "islist": false,
             "label": "config",
             "meta": {},
             "name": "config",
             "series": false,
             "type": "dict",
             "type_check": true
            },
            {
             "dataType": "string",
             "default": "",
             "flow": "atomic",
             "help": null,
             "isdict": false,
             "islist": false,
             "label": "source",
             "meta": {},
             "name": "source",
             "series": false,
             "type": "str",
             "type_check": true
            }
           ],
           "outputs": [
            {
             "flow": "atomic",
             "help": null,
             "label": "op_data",
             "meta": {},
             "name": "op_data",
             "series": false,
             "type": "DataFrame",
             "type_check": true
            }
           ],
           "overwritten": false,
           "published": false,
           "var_names": [
            "DropDuplicates"
           ]
          },
          {
           "class_name": "NonSparkPath",
           "fullname": ".NonSparkPath",
           "id": "eb81942d-5c7f-49af-af96-7fbdd47e24bb",
           "inputs": [
            {
             "dataType": "string",
             "default": "",
             "flow": "atomic",
             "help": null,
             "isdict": false,
             "islist": false,
             "label": "ip_path",
             "meta": {},
             "name": "ip_path",
             "series": false,
             "type": "str",
             "type_check": true
            }
           ],
           "outputs": [
            {
             "flow": "atomic",
             "help": null,
             "label": "op_path",
             "meta": {},
             "name": "op_path",
             "series": false,
             "type": "str",
             "type_check": true
            }
           ],
           "overwritten": false,
           "published": false,
           "var_names": [
            "NonSparkPath"
           ]
          },
          {
           "class_name": "RandomProcess2",
           "fullname": ".RandomProcess2",
           "id": "1a0613b2-2fd5-4882-ad0c-c8598b2054e5",
           "inputs": [
            {
             "dataType": null,
             "default": null,
             "flow": "atomic",
             "help": null,
             "isdict": false,
             "islist": false,
             "label": "ip_data",
             "meta": {},
             "name": "ip_data",
             "series": false,
             "type": "DataFrame",
             "type_check": true
            },
            {
             "dataType": "dict",
             "default": {},
             "flow": "atomic",
             "help": null,
             "isdict": false,
             "islist": false,
             "label": "config",
             "meta": {},
             "name": "config",
             "series": false,
             "type": "dict",
             "type_check": true
            },
            {
             "dataType": "string",
             "default": "",
             "flow": "atomic",
             "help": null,
             "isdict": false,
             "islist": false,
             "label": "source",
             "meta": {},
             "name": "source",
             "series": false,
             "type": "str",
             "type_check": true
            }
           ],
           "outputs": [
            {
             "flow": "atomic",
             "help": null,
             "label": "op_data",
             "meta": {},
             "name": "op_data",
             "series": false,
             "type": "DataFrame",
             "type_check": true
            }
           ],
           "overwritten": false,
           "published": false,
           "var_names": [
            "RandomProcess2"
           ]
          },
          {
           "class_name": "RandomProcess1",
           "fullname": ".RandomProcess1",
           "id": "008cb89e-7fe0-4585-90ba-1e2df1956c99",
           "inputs": [
            {
             "dataType": null,
             "default": null,
             "flow": "atomic",
             "help": null,
             "isdict": false,
             "islist": false,
             "label": "ip_data",
             "meta": {},
             "name": "ip_data",
             "series": false,
             "type": "DataFrame",
             "type_check": true
            },
            {
             "dataType": "dict",
             "default": {},
             "flow": "atomic",
             "help": null,
             "isdict": false,
             "islist": false,
             "label": "config",
             "meta": {},
             "name": "config",
             "series": false,
             "type": "dict",
             "type_check": true
            },
            {
             "dataType": "string",
             "default": "",
             "flow": "atomic",
             "help": null,
             "isdict": false,
             "islist": false,
             "label": "source",
             "meta": {},
             "name": "source",
             "series": false,
             "type": "str",
             "type_check": true
            }
           ],
           "outputs": [
            {
             "flow": "atomic",
             "help": null,
             "label": "op_data",
             "meta": {},
             "name": "op_data",
             "series": false,
             "type": "DataFrame",
             "type_check": true
            }
           ],
           "overwritten": false,
           "published": false,
           "var_names": [
            "RandomProcess1"
           ]
          }
         ],
         "connections": [
          {
           "id": "b7b25e55-e427-4ed6-9e20-42f81920af39",
           "source": {
            "adapter": false,
            "instance_id": "5811204a-a1fe-49b6-aa0e-a2d9dd3e1076",
            "name": "op_path"
           },
           "target": {
            "adapter": false,
            "instance_id": "b93390d1-b989-43d1-a643-23a3c10db87a",
            "name": "filename"
           }
          },
          {
           "id": "91b95fbc-b281-4f0c-bf6a-e99d3e00fda0",
           "source": {
            "adapter": false,
            "instance_id": "b93390d1-b989-43d1-a643-23a3c10db87a",
            "name": "data"
           },
           "target": {
            "adapter": false,
            "instance_id": "a08560e0-8be9-48dd-b754-c3fb6e1d06af",
            "name": "ip_data"
           }
          },
          {
           "id": "f0bac473-6085-4458-912a-f8aa0837145f",
           "source": {
            "adapter": false,
            "instance_id": "a08560e0-8be9-48dd-b754-c3fb6e1d06af",
            "name": "op_data"
           },
           "target": {
            "adapter": false,
            "instance_id": "a74d0ae2-996f-4bf5-a78d-dcf566bb0aa1",
            "name": "ip_data"
           }
          },
          {
           "id": "f33be652-49aa-40ef-846b-fd741a7c4ccf",
           "source": {
            "adapter": false,
            "instance_id": "b93390d1-b989-43d1-a643-23a3c10db87a",
            "name": "data"
           },
           "target": {
            "adapter": false,
            "instance_id": "758af422-3ee4-424c-ba31-fe5ef6294100",
            "name": "ip_data"
           }
          }
         ],
         "end": 1616419269.552359,
         "id": "fef18cb5-f25a-4b64-ba9f-1816cc4f769a",
         "instances": [
          {
           "block_class": "fa3f87c3-2a45-4cb7-8a13-9c510dabb7d1",
           "id": "a74d0ae2-996f-4bf5-a78d-dcf566bb0aa1",
           "name": "DropDuplicates_1",
           "var_names": [
            "drp"
           ]
          },
          {
           "block_class": "008cb89e-7fe0-4585-90ba-1e2df1956c99",
           "id": "a08560e0-8be9-48dd-b754-c3fb6e1d06af",
           "name": "RandomProcess1_1",
           "var_names": [
            "rp1"
           ]
          },
          {
           "block_class": "0c7bdea8-f553-4a1f-9aac-a6f6e9716ad7",
           "id": "b93390d1-b989-43d1-a643-23a3c10db87a",
           "name": "ReadCsvProjectSpace_1",
           "var_names": [
            "rcp"
           ]
          },
          {
           "block_class": "eb81942d-5c7f-49af-af96-7fbdd47e24bb",
           "id": "5811204a-a1fe-49b6-aa0e-a2d9dd3e1076",
           "name": "NonSparkPath_1",
           "var_names": [
            "nsp"
           ]
          },
          {
           "block_class": "1a0613b2-2fd5-4882-ad0c-c8598b2054e5",
           "id": "758af422-3ee4-424c-ba31-fe5ef6294100",
           "name": "RandomProcess2_1",
           "var_names": [
            "rp2"
           ]
          }
         ],
         "log_level": 20,
         "name": "Pipeline_1",
         "start": 1616419209.5557814,
         "status": "SUCCESS",
         "system_logs": false,
         "var_names": []
        },
        "metrics": {},
        "runtime": {
         "DropDuplicates_1": {
          "end": 1616419259.257382,
          "load": 1616419210.1664093,
          "start": 1616419210.2507021
         },
         "NonSparkPath_1": {
          "end": 1616419210.663456,
          "load": 1616419209.557154,
          "start": 1616419209.5658422
         },
         "RandomProcess1_1": {
          "end": 1616419259.1511307,
          "load": 1616419210.1664093,
          "start": 1616419210.2507021
         },
         "RandomProcess2_1": {
          "end": 1616419269.4752176,
          "load": 1616419210.1664093,
          "start": 1616419210.2507021
         },
         "ReadCsvProjectSpace_1": {
          "end": 1616419256.8772962,
          "load": 1616419210.1664093,
          "start": 1616419210.2507021
         }
        }
       },
       "store_in_notebook": true
      }
     },
     "output_type": "display_data"
    },
    {
     "name": "stdout",
     "output_type": "stream",
     "text": [
      "+-----------+--------------+--------------+--------------------+\n",
      "|merchant_id| merchant_city|merchant_state|     list_of_product|\n",
      "+-----------+--------------+--------------+--------------------+\n",
      "|    1000758|       Hampton|      Kentucky|         [Groceries]|\n",
      "|    1000711|        Galion|          Ohio|         [Groceries]|\n",
      "|    1000950|   Charlestown|  Rhode Island|           [PetCare]|\n",
      "|    1000860|            WJ|          Utah|         [Groceries]|\n",
      "|    1000624|Pass Christian|   Mississippi|[Groceries, Furni...|\n",
      "|    1001178|   Charlestown|  Rhode Island|[Groceries, PetCare]|\n",
      "|    1001001| College Grove|     Tennessee|           [PetCare]|\n",
      "|    1000677|       Kenmare|  North Dakota|[Groceries, Texti...|\n",
      "|    1000729|      Danville|       Georgia|[Cinema, Shows an...|\n",
      "|    1001096|     Pentwater|      Michigan|         [Groceries]|\n",
      "|    1001096|     Pentwater|      Michigan|         [Groceries]|\n",
      "|    1000853|        Jayton|         Texas|[Water, Electrici...|\n",
      "|    1001148|       Newport|      Nebraska|         [Groceries]|\n",
      "|    1001039|      Hamilton|North Carolina|[Cinema, Shows an...|\n",
      "|    1000911|        Dacoma|      Oklahoma|[Cinema, Shows an...|\n",
      "|    1000922|        Auburn| Massachusetts|         [Groceries]|\n",
      "|    1000883|    Pascagoula|   Mississippi|           [PetCare]|\n",
      "|    1000726|        Dacoma|      Oklahoma|           [PetCare]|\n",
      "|    1000842|    Flintville|     Tennessee|           [PetCare]|\n",
      "|    1000745|    Fall Creek|     Wisconsin|[Groceries, Water...|\n",
      "+-----------+--------------+--------------+--------------------+\n",
      "only showing top 20 rows\n",
      "\n"
     ]
    },
    {
     "data": {
      "text/plain": [
       "{}"
      ]
     },
     "execution_count": 19,
     "metadata": {},
     "output_type": "execute_result"
    }
   ],
   "source": [
    "pipe.execute()"
   ]
  },
  {
   "cell_type": "code",
   "execution_count": null,
   "id": "equipped-minneapolis",
   "metadata": {},
   "outputs": [],
   "source": []
  },
  {
   "cell_type": "code",
   "execution_count": null,
   "id": "neither-certification",
   "metadata": {},
   "outputs": [],
   "source": []
  }
 ],
 "metadata": {
  "kernelspec": {
   "display_name": "Python 3",
   "language": "python",
   "name": "python3"
  },
  "language_info": {
   "codemirror_mode": {
    "name": "ipython",
    "version": 3
   },
   "file_extension": ".py",
   "mimetype": "text/x-python",
   "name": "python",
   "nbconvert_exporter": "python",
   "pygments_lexer": "ipython3",
   "version": "3.7.10"
  }
 },
 "nbformat": 4,
 "nbformat_minor": 5
}
