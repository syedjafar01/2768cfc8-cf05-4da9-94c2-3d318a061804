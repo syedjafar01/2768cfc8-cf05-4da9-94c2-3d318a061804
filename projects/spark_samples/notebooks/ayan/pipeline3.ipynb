{
 "cells": [
  {
   "cell_type": "code",
   "execution_count": 1,
   "id": "excited-offer",
   "metadata": {},
   "outputs": [],
   "source": [
    "import razor\n",
    "import razor.flow as rf\n",
    "from razor import api\n",
    "from razor.flow.spark import SparkBlock, SparkExecutor\n"
   ]
  },
  {
   "cell_type": "code",
   "execution_count": 2,
   "id": "great-groove",
   "metadata": {},
   "outputs": [],
   "source": [
    "import os\n",
    "from datetime import datetime, timedelta\n",
    "from pyspark.sql import SparkSession, functions\n",
    "from pyspark.sql.dataframe import DataFrame\n",
    "from datetime import datetime, timedelta\n",
    "from dateutil.relativedelta import relativedelta\n",
    "from pyspark.sql.types import IntegerType, DateType, ArrayType, StringType, FloatType, TimestampType\n"
   ]
  },
  {
   "cell_type": "code",
   "execution_count": 3,
   "id": "descending-louisiana",
   "metadata": {},
   "outputs": [],
   "source": [
    "# from razor.project.blocks.ayan_spark_blocks import RandomProcess2\n",
    "# from razor.project.blocks.ayan_spark_blocks import DropDuplicates\n",
    "# from razor.project.blocks.ayan_spark_blocks import RandomProcess1\n",
    "# from razor.project.blocks.ayan_spark_blocks import RandomProcess3\n",
    "# from razor.project.blocks.ayan_spark_blocks import NonSparkPath\n",
    "# from razor.project.blocks.ayan_spark_blocks import ReadCsvProjectSpace"
   ]
  },
  {
   "cell_type": "code",
   "execution_count": 4,
   "id": "waiting-harvey",
   "metadata": {},
   "outputs": [],
   "source": [
    "def project_space_path(path):\n",
    "    ps = api.datasources('Project Space')\n",
    "    return os.path.join(ps.abspath(), path)\n"
   ]
  },
  {
   "cell_type": "code",
   "execution_count": 5,
   "id": "artificial-disclosure",
   "metadata": {},
   "outputs": [],
   "source": [
    "from pyspark.sql.functions import pandas_udf, PandasUDFType,collect_set\n",
    "\n",
    "def get_customer_static_info(input_df):\n",
    "    customer_static = input_df.select([\"customer_name\", \"card_number\", \"card_type\"])\n",
    "    return customer_static\n",
    "\n",
    "def get_merchant_static_info(input_df):\n",
    "    merchant_static_temp = input_df.select([\"merchant_id\", \"product_type\"])\n",
    "    merchant_static_data = input_df.select([\"merchant_id\", \"merchant_city\", \"merchant_state\"])\n",
    "    merchant_static_temp = merchant_static_temp.groupBy(\"merchant_id\").agg(collect_set(\"product_type\").alias(\"list_of_product\"))\n",
    "    merchant_static = merchant_static_data.join(merchant_static_temp, on='merchant_id', how='left')\n",
    "    return merchant_static\n"
   ]
  },
  {
   "cell_type": "code",
   "execution_count": 6,
   "id": "imported-sugar",
   "metadata": {},
   "outputs": [],
   "source": [
    "def get_customer_ts(df):\n",
    "    df = df.withColumn(\"time\", df[\"time\"].cast(TimestampType()))\n",
    "    df = df.withColumn(\"amount\", df[\"amount\"].cast(IntegerType()))\n",
    "    df = df.select([\"transaction_id\", \"time\", \"customer_name\", \"card_number\", \"amount\"])\n",
    "    \n",
    "    df1 = df.withColumn(\"tuplecol\", functions.struct([functions.col(\"transaction_id\") , functions.col(\"time\") , functions.col(\"amount\")]))\n",
    "    \n",
    "    df2 = df1.groupby(\"card_number\").agg(functions.collect_list(\"tuplecol\"))\n",
    "    final_customer_df = df.join(df2, on='card_number', how = 'inner')\n",
    "    final_customer_df = final_customer_df.withColumnRenamed('collect_list(tuplecol)', 'tuplecol')\n",
    "    \n",
    "    time_udf = functions.udf(get_customer_timeseries_feature, ArrayType(ArrayType(IntegerType())))\n",
    "    final_customer_df=final_customer_df.withColumn(\"results\",time_udf(functions.col(\"tuplecol\"),functions.col(\"time\")))\n",
    "    \n",
    "    final_customer_df = final_customer_df.select([\"results\", \"transaction_id\"])\n",
    "    df = df.select([\"transaction_id\", \"time\", \"customer_name\", \"card_number\"])\n",
    "    final_customer_df = df.join(final_customer_df, on='transaction_id', how = 'inner')\n",
    "    \n",
    "    feature_vector_udf = functions.udf(get_feature_vector, IntegerType())\n",
    "    avg_feature_vector_udf = functions.udf(get_avg_feature_vector, FloatType())\n",
    "    \n",
    "    feature_type = ['sum','count','max', 'avg']\n",
    "    timespan = ['one_hour','six_hours','twelve_hours', 'twenty_four_hours', 'three_days', 'one_week', 'two_week', 'one_month']\n",
    "    for i in range(0,len(timespan)):\n",
    "        for j in range(0,len(feature_type)):\n",
    "            if feature_type[j]=='avg':\n",
    "                final_customer_df = final_customer_df.withColumn(\"last_\" + timespan[i] + \"_total_customer_transaction_\" + feature_type[j],avg_feature_vector_udf(functions.col(\"results\"),functions.lit(i)))\n",
    "            else:\n",
    "                final_customer_df = final_customer_df.withColumn(\"last_\" + timespan[i] + \"_total_customer_transaction_\" + feature_type[j],feature_vector_udf(functions.col(\"results\"),functions.lit(j),functions.lit(i)))\n",
    "    \n",
    "    final_customer_df = final_customer_df.drop('results')\n",
    "    \n",
    "    return final_customer_df\n"
   ]
  },
  {
   "cell_type": "code",
   "execution_count": 7,
   "id": "considerable-delaware",
   "metadata": {},
   "outputs": [],
   "source": [
    "def get_merchant_ts(df):\n",
    "    df = df.withColumn(\"time\", df[\"time\"].cast(TimestampType()))\n",
    "    df = df.withColumn(\"amount\", df[\"amount\"].cast(IntegerType()))\n",
    "    # df = df.select([\"transaction_id\", \"time\", \"customer_name\", \"card_number\", \"amount\"])\n",
    "    df = df.select(['transaction_id',\"time\", 'merchant_id', 'merchant_city', 'merchant_state',\"amount\"])\n",
    "    \n",
    "    df1 = df.withColumn(\"tuplecol\", functions.struct([functions.col(\"transaction_id\") , functions.col(\"time\") , functions.col(\"amount\")]))\n",
    "    \n",
    "    df2 = df1.groupby(\"merchant_id\").agg(functions.collect_list(\"tuplecol\"))\n",
    "    final_customer_df = df.join(df2, on='merchant_id', how = 'inner')\n",
    "    final_customer_df = final_customer_df.withColumnRenamed('collect_list(tuplecol)', 'tuplecol')\n",
    "    \n",
    "    time_udf = functions.udf(get_merchant_timeseries_feature, ArrayType(ArrayType(IntegerType())))\n",
    "    final_customer_df=final_customer_df.withColumn(\"results\",time_udf(functions.col(\"tuplecol\"),functions.col(\"time\"),functions.col(\"transaction_id\")))\n",
    "    \n",
    "    final_customer_df = final_customer_df.select([\"results\", \"transaction_id\"])\n",
    "    df = df.select(['transaction_id', 'merchant_id', 'merchant_city', 'merchant_state'])\n",
    "    final_customer_df = df.join(final_customer_df, on='transaction_id', how = 'inner')\n",
    "    \n",
    "    feature_vector_udf = functions.udf(get_feature_vector, IntegerType())\n",
    "    avg_feature_vector_udf = functions.udf(get_avg_feature_vector, FloatType())\n",
    "    \n",
    "    feature_type = ['sum','count','max', 'avg']\n",
    "    timespan = ['one_hour','six_hour','twelve_hour', 'twenty_four_hour', 'three_days']\n",
    "    for i in range(0,5):\n",
    "        for j in range(0,4):\n",
    "            if feature_type[j]=='avg':\n",
    "                final_customer_df = final_customer_df.withColumn(\"last_\" + timespan[i] + \"_total_merchant_transaction_\" + feature_type[j],avg_feature_vector_udf(functions.col(\"results\"),functions.lit(i)))\n",
    "            else:\n",
    "                final_customer_df = final_customer_df.withColumn(\"last_\" + timespan[i] + \"_total_merchant_transaction_\" + feature_type[j],feature_vector_udf(functions.col(\"results\"),functions.lit(j),functions.lit(i)))\n",
    "\n",
    "    final_customer_df = final_customer_df.drop('results')\n",
    "    \n",
    "    return final_customer_df"
   ]
  },
  {
   "cell_type": "code",
   "execution_count": 8,
   "id": "fatal-performer",
   "metadata": {},
   "outputs": [],
   "source": [
    "def get_customer_timeseries_feature(history,current_time):\n",
    "    last_hour_amount_history = [0,]\n",
    "    last_6hour_amount_history = [0,]\n",
    "    last_12hour_amount_history = [0,]\n",
    "    last_24hour_amount_history = [0,]\n",
    "    last_3day_amount_history = [0,]\n",
    "    last_1week_amount_history = [0,]\n",
    "    last_2week_amount_history = [0,]\n",
    "    last_1month_amount_history = [0,]\n",
    "       \n",
    "    history = sorted(history,key=lambda a: a[1])\n",
    "    last_hour_time = current_time - timedelta(hours=1) \n",
    "    last_6hour_time = current_time - timedelta(hours=6)\n",
    "    last_12hour_time = current_time - timedelta(hours=12)\n",
    "    last_24hour_time = current_time - timedelta(hours=24)\n",
    "    last_3day_time = current_time - timedelta(hours=72)\n",
    "    last_1week_time = current_time - timedelta(days=7)\n",
    "    last_2week_time = current_time - timedelta(days=14)\n",
    "    last_1month_time = current_time - relativedelta(months=1)\n",
    "    \n",
    "    for item in history:\n",
    "        if (item[1] < current_time) and (item[1] >= last_hour_time):\n",
    "            last_hour_amount_history.append(item[2])\n",
    "            \n",
    "        if (item[1] < current_time) and (item[1] >= last_6hour_time):\n",
    "            last_6hour_amount_history.append(item[2])\n",
    "            \n",
    "        if (item[1] < current_time) and (item[1] >= last_12hour_time):\n",
    "            last_12hour_amount_history.append(item[2])\n",
    "            \n",
    "        if (item[1] < current_time) and (item[1] >= last_24hour_time):\n",
    "            last_24hour_amount_history.append(item[2])\n",
    "            \n",
    "        if (item[1] < current_time) and (item[1] >= last_3day_time):\n",
    "            last_3day_amount_history.append(item[2])\n",
    "        \n",
    "        if (item[1] < current_time) and (item[1] >= last_1week_time):\n",
    "            last_1week_amount_history.append(item[2])\n",
    "            \n",
    "        if (item[1] < current_time) and (item[1] >= last_2week_time):\n",
    "            last_2week_amount_history.append(item[2])\n",
    "            \n",
    "        if (item[1] < current_time) and (item[1] >= last_1month_time):\n",
    "            last_1month_amount_history.append(item[2])\n",
    "        \n",
    "        # amount_feature = [sum, count, avg, max]\n",
    "#     return [last_hour_amount_history,last_6hour_amount_history]\n",
    "    last_hour_amount_feature = [sum(last_hour_amount_history),len(last_hour_amount_history)-1,max(last_hour_amount_history)]\n",
    "    last_6hour_amount_feature = [sum(last_6hour_amount_history),len(last_6hour_amount_history)-1,max(last_6hour_amount_history)]\n",
    "    last_12hour_amount_feature = [sum(last_12hour_amount_history),len(last_12hour_amount_history)-1,max(last_12hour_amount_history)]\n",
    "    last_24hour_amount_feature = [sum(last_24hour_amount_history),len(last_24hour_amount_history)-1,max(last_24hour_amount_history)]\n",
    "    last_3day_amount_feature = [sum(last_3day_amount_history),len(last_3day_amount_history)-1,max(last_3day_amount_history)]\n",
    "    last_1week_amount_feature = [sum(last_1week_amount_history),len(last_1week_amount_history)-1,max(last_1week_amount_history)]\n",
    "    last_2week_amount_feature = [sum(last_2week_amount_history),len(last_2week_amount_history)-1,max(last_2week_amount_history)]\n",
    "    last_1month_amount_feature = [sum(last_1month_amount_history),len(last_1month_amount_history)-1,max(last_1month_amount_history)]\n",
    "\n",
    "\n",
    "\n",
    "\n",
    "    return [last_hour_amount_feature,last_6hour_amount_feature,last_12hour_amount_feature,last_24hour_amount_feature,last_3day_amount_feature,last_1week_amount_feature,last_2week_amount_feature,last_1month_amount_feature]\n",
    "\n",
    "def get_feature_vector(a,feature_type,timespan):\n",
    "    return int(a[timespan][feature_type])\n",
    "\n",
    "def get_avg_feature_vector(x,timespan):\n",
    "    a= x[timespan][0]\n",
    "    b= x[timespan][1]\n",
    "    if b==0:\n",
    "        return float(a/1)\n",
    "    else:\n",
    "        return float(a/b)\n",
    "\n",
    "\n",
    "def get_merchant_timeseries_feature(history,current_time,current_transaction_id):\n",
    "    last_hour_amount_history = [0,]\n",
    "    last_6hour_amount_history = [0,]\n",
    "    last_12hour_amount_history = [0,]\n",
    "    last_24hour_amount_history = [0,]\n",
    "    last_3day_amount_history = [0,]    \n",
    "           \n",
    "    history = sorted(history,key=lambda a: a[1])\n",
    "    last_hour_time = current_time - timedelta(hours=1) \n",
    "    last_6hour_time = current_time - timedelta(hours=6)\n",
    "    last_12hour_time = current_time - timedelta(hours=12)\n",
    "    last_24hour_time = current_time - timedelta(hours=24)\n",
    "    last_3day_time = current_time - timedelta(hours=72)\n",
    "    \n",
    "    for item in history:\n",
    "        if item[0]!=current_transaction_id:\n",
    "            if (item[1] <= current_time) and (item[1] >= last_hour_time):\n",
    "                last_hour_amount_history.append(item[2])\n",
    "\n",
    "            if (item[1] <= current_time) and (item[1] >= last_6hour_time):\n",
    "                last_6hour_amount_history.append(item[2])\n",
    "\n",
    "            if (item[1] <= current_time) and (item[1] >= last_12hour_time):\n",
    "                last_12hour_amount_history.append(item[2])\n",
    "\n",
    "            if (item[1] <= current_time) and (item[1] >= last_24hour_time):\n",
    "                last_24hour_amount_history.append(item[2])\n",
    "\n",
    "            if (item[1] <= current_time) and (item[1] >= last_3day_time):\n",
    "                last_3day_amount_history.append(item[2])\n",
    "\n",
    "        # amount_feature = [sum, count, avg, max]\n",
    "#     return [last_hour_amount_history,last_6hour_amount_history]\n",
    "    last_hour_amount_feature = [sum(last_hour_amount_history),len(last_hour_amount_history)-1,max(last_hour_amount_history)]\n",
    "    last_6hour_amount_feature = [sum(last_6hour_amount_history),len(last_6hour_amount_history)-1,max(last_6hour_amount_history)]\n",
    "    last_12hour_amount_feature = [sum(last_12hour_amount_history),len(last_12hour_amount_history)-1,max(last_12hour_amount_history)]\n",
    "    last_24hour_amount_feature = [sum(last_24hour_amount_history),len(last_24hour_amount_history)-1,max(last_24hour_amount_history)]\n",
    "    last_3day_amount_feature = [sum(last_3day_amount_history),len(last_3day_amount_history)-1,max(last_3day_amount_history)]\n",
    "\n",
    "    return [last_hour_amount_feature,last_6hour_amount_feature,last_12hour_amount_feature,last_24hour_amount_feature,last_3day_amount_feature]\n",
    "\n"
   ]
  },
  {
   "cell_type": "code",
   "execution_count": null,
   "id": "seasonal-agency",
   "metadata": {},
   "outputs": [],
   "source": []
  },
  {
   "cell_type": "code",
   "execution_count": 9,
   "id": "vanilla-reputation",
   "metadata": {},
   "outputs": [],
   "source": [
    "@rf.block\n",
    "class NonSparkPath:\n",
    "    \n",
    "#     __publish__ = True\n",
    "#     __label__ = \"Spark read csv block\"\n",
    "#     __description__ = \"Read a csv file from project space and output as a spark dataframe\"\n",
    "#     __tags__ = [\"spark\", \"filter\", \"big data\",\"csv\",\"projectspace\"]\n",
    "#     __category__ = \"Spark\"\n",
    "#     __technology__ = razor.Technology.SPARK\n",
    "    \n",
    "    # Atomic input - csv filename relative to project space\n",
    "    ip_path: str\n",
    "    # Atomic output of type spark DataFrame.\n",
    "    op_path: rf.Output[str]\n",
    "    \n",
    "    def run(self):\n",
    "        self.op_path.put(project_space_path(self.ip_path))\n",
    "        "
   ]
  },
  {
   "cell_type": "code",
   "execution_count": 10,
   "id": "advanced-transition",
   "metadata": {},
   "outputs": [],
   "source": [
    "nsp = NonSparkPath(ip_path='customer_data.csv')"
   ]
  },
  {
   "cell_type": "code",
   "execution_count": 11,
   "id": "reliable-girlfriend",
   "metadata": {},
   "outputs": [
    {
     "data": {
      "text/plain": [
       "{'op_path': '/home/aios/projectspace/customer_data.csv'}"
      ]
     },
     "execution_count": 11,
     "metadata": {},
     "output_type": "execute_result"
    }
   ],
   "source": [
    "nsp.execute()"
   ]
  },
  {
   "cell_type": "code",
   "execution_count": 12,
   "id": "sought-whale",
   "metadata": {},
   "outputs": [],
   "source": [
    "@rf.block\n",
    "class ReadCsvProjectSpace(SparkBlock):\n",
    "    \n",
    "#     __publish__ = True\n",
    "#     __label__ = \"Spark read csv block\"\n",
    "#     __description__ = \"Read a csv file from project space and output as a spark dataframe\"\n",
    "#     __tags__ = [\"spark\", \"filter\", \"big data\",\"csv\",\"projectspace\"]\n",
    "#     __category__ = \"Spark\"\n",
    "#     __technology__ = razor.Technology.SPARK\n",
    "    \n",
    "    # Atomic input - csv filename relative to project space\n",
    "    filename:str\n",
    "    # Atomic output of type spark DataFrame.\n",
    "    data: rf.Output[DataFrame]\n",
    "    \n",
    "    def run(self):\n",
    "        df = self.spark.read.csv(self.filename, header = True)\n",
    "        print(\"Hello\")\n",
    "        df.printSchema()\n",
    "        self.data.put(df)\n",
    "        "
   ]
  },
  {
   "cell_type": "code",
   "execution_count": 13,
   "id": "provincial-letters",
   "metadata": {},
   "outputs": [],
   "source": [
    "rcp = ReadCsvProjectSpace(filename = nsp.op_path, config={}, source=\"\")\n",
    "rcp.executor = SparkExecutor"
   ]
  },
  {
   "cell_type": "code",
   "execution_count": 14,
   "id": "reserved-destiny",
   "metadata": {},
   "outputs": [],
   "source": [
    "@rf.block\n",
    "class RandomProcess1(SparkBlock):\n",
    "    \n",
    "#     __publish__ = True\n",
    "#     __label__ = \"Spark read csv block\"\n",
    "#     __description__ = \"Read a csv file from project space and output as a spark dataframe\"\n",
    "#     __tags__ = [\"spark\", \"filter\", \"big data\",\"csv\",\"projectspace\"]\n",
    "#     __category__ = \"Spark\"\n",
    "#     __technology__ = razor.Technology.SPARK\n",
    "    \n",
    "    # Atomic input - csv filename relative to project space\n",
    "    ip_data: DataFrame\n",
    "    # Atomic output of type spark DataFrame.\n",
    "    op_data: rf.Output[DataFrame]\n",
    "    \n",
    "    def run(self):\n",
    "        customer_static = get_customer_static_info(self.ip_data)\n",
    "        customer_static.show()\n",
    "        self.op_data.put(customer_static)\n",
    "        \n",
    "        "
   ]
  },
  {
   "cell_type": "code",
   "execution_count": 15,
   "id": "criminal-patrol",
   "metadata": {},
   "outputs": [],
   "source": [
    "rp1 = RandomProcess1(ip_data = rcp.data, config={}, source=\"\")\n",
    "rp1.executor = SparkExecutor"
   ]
  },
  {
   "cell_type": "code",
   "execution_count": 16,
   "id": "biblical-radiation",
   "metadata": {},
   "outputs": [],
   "source": [
    "@rf.block\n",
    "class DropDuplicates(SparkBlock):\n",
    "    \n",
    "#     __publish__ = True\n",
    "#     __label__ = \"Spark read csv block\"\n",
    "#     __description__ = \"Read a csv file from project space and output as a spark dataframe\"\n",
    "#     __tags__ = [\"spark\", \"filter\", \"big data\",\"csv\",\"projectspace\"]\n",
    "#     __category__ = \"Spark\"\n",
    "#     __technology__ = razor.Technology.SPARK\n",
    "    \n",
    "    # Atomic input - csv filename relative to project space\n",
    "    ip_data: DataFrame\n",
    "    # Atomic output of type spark DataFrame.\n",
    "    op_data: rf.Output[DataFrame]\n",
    "    \n",
    "    def run(self):\n",
    "        ip_data = self.ip_data.dropDuplicates()\n",
    "        self.op_data.put(ip_data)\n",
    "        "
   ]
  },
  {
   "cell_type": "code",
   "execution_count": 17,
   "id": "lonely-antigua",
   "metadata": {},
   "outputs": [],
   "source": [
    "drp = DropDuplicates(ip_data = rp1.op_data, config={}, source=\"\")\n",
    "drp.executor = SparkExecutor"
   ]
  },
  {
   "cell_type": "code",
   "execution_count": 18,
   "id": "religious-source",
   "metadata": {},
   "outputs": [],
   "source": [
    "@rf.block\n",
    "class RandomProcess2(SparkBlock):\n",
    "    \n",
    "#     __publish__ = True\n",
    "#     __label__ = \"Spark read csv block\"\n",
    "#     __description__ = \"Read a csv file from project space and output as a spark dataframe\"\n",
    "#     __tags__ = [\"spark\", \"filter\", \"big data\",\"csv\",\"projectspace\"]\n",
    "#     __category__ = \"Spark\"\n",
    "#     __technology__ = razor.Technology.SPARK\n",
    "    \n",
    "    # Atomic input - csv filename relative to project space\n",
    "    ip_data: DataFrame\n",
    "    # Atomic output of type spark DataFrame.\n",
    "    op_data: rf.Output[DataFrame]\n",
    "    \n",
    "    def run(self):\n",
    "        merchant_static = get_merchant_static_info(self.ip_data)\n",
    "        merchant_static.show()\n",
    "        self.op_data.put(merchant_static)\n",
    "        \n",
    "        "
   ]
  },
  {
   "cell_type": "code",
   "execution_count": 19,
   "id": "quantitative-veteran",
   "metadata": {},
   "outputs": [],
   "source": [
    "rp2 = RandomProcess2(ip_data = rcp.data, config={}, source=\"\")\n",
    "rp2.executor = SparkExecutor"
   ]
  },
  {
   "cell_type": "code",
   "execution_count": 20,
   "id": "painful-cloud",
   "metadata": {},
   "outputs": [],
   "source": [
    "@rf.block\n",
    "class RandomProcess3(SparkBlock):\n",
    "    \n",
    "#     __publish__ = True\n",
    "#     __label__ = \"Spark read csv block\"\n",
    "#     __description__ = \"Read a csv file from project space and output as a spark dataframe\"\n",
    "#     __tags__ = [\"spark\", \"filter\", \"big data\",\"csv\",\"projectspace\"]\n",
    "#     __category__ = \"Spark\"\n",
    "#     __technology__ = razor.Technology.SPARK\n",
    "    \n",
    "    # Atomic input - csv filename relative to project space\n",
    "    ip_data: DataFrame\n",
    "    # Atomic output of type spark DataFrame.\n",
    "    op_data1: rf.Output[DataFrame]\n",
    "    op_data2: rf.Output[DataFrame]\n",
    "    \n",
    "    def run(self):\n",
    "        customer_ts = get_customer_ts(self.ip_data)\n",
    "        customer_ts.show()\n",
    "        merchant_ts = get_merchant_ts(self.ip_data)\n",
    "        merchant_ts.show()\n",
    "        self.op_data1.put(customer_ts)\n",
    "        self.op_data2.put(merchant_ts)\n",
    "        \n",
    "        "
   ]
  },
  {
   "cell_type": "code",
   "execution_count": 21,
   "id": "gothic-alliance",
   "metadata": {},
   "outputs": [],
   "source": [
    "rp3 = RandomProcess3(ip_data = rcp.data, config={}, source=\"\")\n",
    "rp3.executor = SparkExecutor"
   ]
  },
  {
   "cell_type": "code",
   "execution_count": 22,
   "id": "collaborative-penguin",
   "metadata": {},
   "outputs": [],
   "source": [
    "pipe = rf.Pipeline('temp', targets = [rp3, rp2, drp, ])"
   ]
  },
  {
   "cell_type": "code",
   "execution_count": 23,
   "id": "demographic-nelson",
   "metadata": {},
   "outputs": [
    {
     "data": {
      "application/vnd.razorthink.interactive+pipeline+view+json": {
       "blocks": [
        {
         "class_name": "NonSparkPath",
         "fullname": ".NonSparkPath",
         "id": "4d0e658c-114e-42ed-8083-b7ee40859784",
         "inputs": [
          {
           "dataType": "string",
           "default": "",
           "flow": "atomic",
           "help": null,
           "isdict": false,
           "islist": false,
           "label": "ip_path",
           "meta": {},
           "name": "ip_path",
           "series": false,
           "type": "str",
           "type_check": true
          }
         ],
         "outputs": [
          {
           "flow": "atomic",
           "help": null,
           "label": "op_path",
           "meta": {},
           "name": "op_path",
           "series": false,
           "type": "str",
           "type_check": true
          }
         ],
         "overwritten": false,
         "published": false,
         "var_names": [
          "NonSparkPath"
         ]
        },
        {
         "class_name": "ReadCsvProjectSpace",
         "fullname": ".ReadCsvProjectSpace",
         "id": "2cb3a885-7672-4590-bc9c-ca9fa654a037",
         "inputs": [
          {
           "dataType": "string",
           "default": "",
           "flow": "atomic",
           "help": null,
           "isdict": false,
           "islist": false,
           "label": "filename",
           "meta": {},
           "name": "filename",
           "series": false,
           "type": "str",
           "type_check": true
          },
          {
           "dataType": "dict",
           "default": {},
           "flow": "atomic",
           "help": null,
           "isdict": false,
           "islist": false,
           "label": "config",
           "meta": {},
           "name": "config",
           "series": false,
           "type": "dict",
           "type_check": true
          },
          {
           "dataType": "string",
           "default": "",
           "flow": "atomic",
           "help": null,
           "isdict": false,
           "islist": false,
           "label": "source",
           "meta": {},
           "name": "source",
           "series": false,
           "type": "str",
           "type_check": true
          }
         ],
         "outputs": [
          {
           "flow": "atomic",
           "help": null,
           "label": "data",
           "meta": {},
           "name": "data",
           "series": false,
           "type": "DataFrame",
           "type_check": true
          }
         ],
         "overwritten": false,
         "published": false,
         "var_names": [
          "ReadCsvProjectSpace"
         ]
        },
        {
         "class_name": "RandomProcess2",
         "fullname": ".RandomProcess2",
         "id": "ccc90321-2345-4985-90fb-c9ff6f81b1f5",
         "inputs": [
          {
           "dataType": null,
           "default": null,
           "flow": "atomic",
           "help": null,
           "isdict": false,
           "islist": false,
           "label": "ip_data",
           "meta": {},
           "name": "ip_data",
           "series": false,
           "type": "DataFrame",
           "type_check": true
          },
          {
           "dataType": "dict",
           "default": {},
           "flow": "atomic",
           "help": null,
           "isdict": false,
           "islist": false,
           "label": "config",
           "meta": {},
           "name": "config",
           "series": false,
           "type": "dict",
           "type_check": true
          },
          {
           "dataType": "string",
           "default": "",
           "flow": "atomic",
           "help": null,
           "isdict": false,
           "islist": false,
           "label": "source",
           "meta": {},
           "name": "source",
           "series": false,
           "type": "str",
           "type_check": true
          }
         ],
         "outputs": [
          {
           "flow": "atomic",
           "help": null,
           "label": "op_data",
           "meta": {},
           "name": "op_data",
           "series": false,
           "type": "DataFrame",
           "type_check": true
          }
         ],
         "overwritten": false,
         "published": false,
         "var_names": [
          "RandomProcess2"
         ]
        },
        {
         "class_name": "RandomProcess3",
         "fullname": ".RandomProcess3",
         "id": "8ff1b5b3-7fd6-4ba7-8775-af6fa96fa7c1",
         "inputs": [
          {
           "dataType": null,
           "default": null,
           "flow": "atomic",
           "help": null,
           "isdict": false,
           "islist": false,
           "label": "ip_data",
           "meta": {},
           "name": "ip_data",
           "series": false,
           "type": "DataFrame",
           "type_check": true
          },
          {
           "dataType": "dict",
           "default": {},
           "flow": "atomic",
           "help": null,
           "isdict": false,
           "islist": false,
           "label": "config",
           "meta": {},
           "name": "config",
           "series": false,
           "type": "dict",
           "type_check": true
          },
          {
           "dataType": "string",
           "default": "",
           "flow": "atomic",
           "help": null,
           "isdict": false,
           "islist": false,
           "label": "source",
           "meta": {},
           "name": "source",
           "series": false,
           "type": "str",
           "type_check": true
          }
         ],
         "outputs": [
          {
           "flow": "atomic",
           "help": null,
           "label": "op_data1",
           "meta": {},
           "name": "op_data1",
           "series": false,
           "type": "DataFrame",
           "type_check": true
          },
          {
           "flow": "atomic",
           "help": null,
           "label": "op_data2",
           "meta": {},
           "name": "op_data2",
           "series": false,
           "type": "DataFrame",
           "type_check": true
          }
         ],
         "overwritten": false,
         "published": false,
         "var_names": [
          "RandomProcess3"
         ]
        },
        {
         "class_name": "DropDuplicates",
         "fullname": ".DropDuplicates",
         "id": "05be49e1-2217-4e33-a6ff-54aaf03796c4",
         "inputs": [
          {
           "dataType": null,
           "default": null,
           "flow": "atomic",
           "help": null,
           "isdict": false,
           "islist": false,
           "label": "ip_data",
           "meta": {},
           "name": "ip_data",
           "series": false,
           "type": "DataFrame",
           "type_check": true
          },
          {
           "dataType": "dict",
           "default": {},
           "flow": "atomic",
           "help": null,
           "isdict": false,
           "islist": false,
           "label": "config",
           "meta": {},
           "name": "config",
           "series": false,
           "type": "dict",
           "type_check": true
          },
          {
           "dataType": "string",
           "default": "",
           "flow": "atomic",
           "help": null,
           "isdict": false,
           "islist": false,
           "label": "source",
           "meta": {},
           "name": "source",
           "series": false,
           "type": "str",
           "type_check": true
          }
         ],
         "outputs": [
          {
           "flow": "atomic",
           "help": null,
           "label": "op_data",
           "meta": {},
           "name": "op_data",
           "series": false,
           "type": "DataFrame",
           "type_check": true
          }
         ],
         "overwritten": false,
         "published": false,
         "var_names": [
          "DropDuplicates"
         ]
        },
        {
         "class_name": "RandomProcess1",
         "fullname": ".RandomProcess1",
         "id": "c3a0cbf6-d8e0-4ff0-b1af-dfc397b93fa8",
         "inputs": [
          {
           "dataType": null,
           "default": null,
           "flow": "atomic",
           "help": null,
           "isdict": false,
           "islist": false,
           "label": "ip_data",
           "meta": {},
           "name": "ip_data",
           "series": false,
           "type": "DataFrame",
           "type_check": true
          },
          {
           "dataType": "dict",
           "default": {},
           "flow": "atomic",
           "help": null,
           "isdict": false,
           "islist": false,
           "label": "config",
           "meta": {},
           "name": "config",
           "series": false,
           "type": "dict",
           "type_check": true
          },
          {
           "dataType": "string",
           "default": "",
           "flow": "atomic",
           "help": null,
           "isdict": false,
           "islist": false,
           "label": "source",
           "meta": {},
           "name": "source",
           "series": false,
           "type": "str",
           "type_check": true
          }
         ],
         "outputs": [
          {
           "flow": "atomic",
           "help": null,
           "label": "op_data",
           "meta": {},
           "name": "op_data",
           "series": false,
           "type": "DataFrame",
           "type_check": true
          }
         ],
         "overwritten": false,
         "published": false,
         "var_names": [
          "RandomProcess1"
         ]
        }
       ],
       "connections": [
        {
         "id": "1d5919ca-d212-4d2e-9588-bd8f7def9981",
         "source": {
          "adapter": false,
          "instance_id": "8fd958d9-23b3-41f1-9112-ef95a0f8e2e2",
          "name": "data"
         },
         "target": {
          "adapter": false,
          "instance_id": "76331b4d-2854-4b4a-aa40-f3bd5dc8dcbf",
          "name": "ip_data"
         }
        },
        {
         "id": "1e8fdcf6-5c6e-4e78-a46a-1429c9e6307b",
         "source": {
          "adapter": false,
          "instance_id": "e05ed575-b8a2-4ef5-9b3e-8f93452fc469",
          "name": "op_path"
         },
         "target": {
          "adapter": false,
          "instance_id": "8fd958d9-23b3-41f1-9112-ef95a0f8e2e2",
          "name": "filename"
         }
        },
        {
         "id": "a3b1ff9f-c67e-4a3b-b096-8cc15fa7f125",
         "source": {
          "adapter": false,
          "instance_id": "8fd958d9-23b3-41f1-9112-ef95a0f8e2e2",
          "name": "data"
         },
         "target": {
          "adapter": false,
          "instance_id": "95cc1270-45a8-4219-bb6a-c8b9f0e6b046",
          "name": "ip_data"
         }
        },
        {
         "id": "cbd771d0-eb7e-4ba9-a904-c9d237544c47",
         "source": {
          "adapter": false,
          "instance_id": "76331b4d-2854-4b4a-aa40-f3bd5dc8dcbf",
          "name": "op_data"
         },
         "target": {
          "adapter": false,
          "instance_id": "c76377f1-2396-449c-b50e-9196e3ea865e",
          "name": "ip_data"
         }
        },
        {
         "id": "d3f27db4-6696-4198-83a1-7a881fa18a4a",
         "source": {
          "adapter": false,
          "instance_id": "8fd958d9-23b3-41f1-9112-ef95a0f8e2e2",
          "name": "data"
         },
         "target": {
          "adapter": false,
          "instance_id": "bdd67c70-46ef-4e86-ab0b-93b7cfaf7973",
          "name": "ip_data"
         }
        }
       ],
       "id": "86fc958e-7e66-4737-a89c-1bc65ba38f8d",
       "instances": [
        {
         "block_class": "8ff1b5b3-7fd6-4ba7-8775-af6fa96fa7c1",
         "id": "95cc1270-45a8-4219-bb6a-c8b9f0e6b046",
         "name": "RandomProcess3_1",
         "var_names": [
          "rp3"
         ]
        },
        {
         "block_class": "2cb3a885-7672-4590-bc9c-ca9fa654a037",
         "id": "8fd958d9-23b3-41f1-9112-ef95a0f8e2e2",
         "name": "ReadCsvProjectSpace_1",
         "var_names": [
          "rcp"
         ]
        },
        {
         "block_class": "4d0e658c-114e-42ed-8083-b7ee40859784",
         "id": "e05ed575-b8a2-4ef5-9b3e-8f93452fc469",
         "name": "NonSparkPath_1",
         "var_names": [
          "nsp"
         ]
        },
        {
         "block_class": "ccc90321-2345-4985-90fb-c9ff6f81b1f5",
         "id": "bdd67c70-46ef-4e86-ab0b-93b7cfaf7973",
         "name": "RandomProcess2_1",
         "var_names": [
          "rp2"
         ]
        },
        {
         "block_class": "05be49e1-2217-4e33-a6ff-54aaf03796c4",
         "id": "c76377f1-2396-449c-b50e-9196e3ea865e",
         "name": "DropDuplicates_1",
         "var_names": [
          "drp"
         ]
        },
        {
         "block_class": "c3a0cbf6-d8e0-4ff0-b1af-dfc397b93fa8",
         "id": "76331b4d-2854-4b4a-aa40-f3bd5dc8dcbf",
         "name": "RandomProcess1_1",
         "var_names": [
          "rp1"
         ]
        }
       ],
       "name": "temp",
       "var_names": []
      },
      "image/svg+xml": [
       "<?xml version=\"1.0\" encoding=\"UTF-8\" standalone=\"no\"?>\n",
       "<!DOCTYPE svg PUBLIC \"-//W3C//DTD SVG 1.1//EN\"\n",
       " \"http://www.w3.org/Graphics/SVG/1.1/DTD/svg11.dtd\">\n",
       "<!-- Generated by graphviz version 2.43.0 (0)\n",
       " -->\n",
       "<!-- Title: %3 Pages: 1 -->\n",
       "<svg width=\"782pt\" height=\"293pt\"\n",
       " viewBox=\"0.00 0.00 782.06 293.00\" xmlns=\"http://www.w3.org/2000/svg\" xmlns:xlink=\"http://www.w3.org/1999/xlink\">\n",
       "<g id=\"graph0\" class=\"graph\" transform=\"scale(1 1) rotate(0) translate(4 289)\">\n",
       "<title>%3</title>\n",
       "<polygon fill=\"white\" stroke=\"transparent\" points=\"-4,4 -4,-289 778.06,-289 778.06,4 -4,4\"/>\n",
       "<!-- RandomProcess3(&#39;RandomProcess3_1&#39;) -->\n",
       "<g id=\"node1\" class=\"node\">\n",
       "<title>RandomProcess3(&#39;RandomProcess3_1&#39;)</title>\n",
       "<ellipse fill=\"none\" stroke=\"black\" cx=\"123.03\" cy=\"-101\" rx=\"123.06\" ry=\"18\"/>\n",
       "<text text-anchor=\"middle\" x=\"123.03\" y=\"-98.5\" font-family=\"Helvetica,sans-Serif\" font-size=\"10.00\">RandomProcess3(&#39;RandomProcess3_1&#39;)</text>\n",
       "</g>\n",
       "<!-- ReadCsvProjectSpace(&#39;ReadCsvProjectSpace_1&#39;) -->\n",
       "<g id=\"node2\" class=\"node\">\n",
       "<title>ReadCsvProjectSpace(&#39;ReadCsvProjectSpace_1&#39;)</title>\n",
       "<ellipse fill=\"none\" stroke=\"black\" cx=\"387.03\" cy=\"-184\" rx=\"148.86\" ry=\"18\"/>\n",
       "<text text-anchor=\"middle\" x=\"387.03\" y=\"-181.5\" font-family=\"Helvetica,sans-Serif\" font-size=\"10.00\">ReadCsvProjectSpace(&#39;ReadCsvProjectSpace_1&#39;)</text>\n",
       "</g>\n",
       "<!-- ReadCsvProjectSpace(&#39;ReadCsvProjectSpace_1&#39;)&#45;&gt;RandomProcess3(&#39;RandomProcess3_1&#39;) -->\n",
       "<g id=\"edge1\" class=\"edge\">\n",
       "<title>ReadCsvProjectSpace(&#39;ReadCsvProjectSpace_1&#39;)&#45;&gt;RandomProcess3(&#39;RandomProcess3_1&#39;)</title>\n",
       "<path fill=\"none\" stroke=\"black\" d=\"M335.19,-167.09C291.54,-153.7 229.07,-134.54 183.22,-120.47\"/>\n",
       "<polygon fill=\"black\" stroke=\"black\" points=\"184,-117.04 173.41,-117.46 181.94,-123.74 184,-117.04\"/>\n",
       "<text text-anchor=\"middle\" x=\"306.03\" y=\"-140\" font-family=\"Helvetica,sans-Serif\" font-size=\"10.00\">data&#45;&gt;ip_data</text>\n",
       "</g>\n",
       "<!-- RandomProcess2(&#39;RandomProcess2_1&#39;) -->\n",
       "<g id=\"node4\" class=\"node\">\n",
       "<title>RandomProcess2(&#39;RandomProcess2_1&#39;)</title>\n",
       "<ellipse fill=\"none\" stroke=\"black\" cx=\"387.03\" cy=\"-101\" rx=\"123.06\" ry=\"18\"/>\n",
       "<text text-anchor=\"middle\" x=\"387.03\" y=\"-98.5\" font-family=\"Helvetica,sans-Serif\" font-size=\"10.00\">RandomProcess2(&#39;RandomProcess2_1&#39;)</text>\n",
       "</g>\n",
       "<!-- ReadCsvProjectSpace(&#39;ReadCsvProjectSpace_1&#39;)&#45;&gt;RandomProcess2(&#39;RandomProcess2_1&#39;) -->\n",
       "<g id=\"edge2\" class=\"edge\">\n",
       "<title>ReadCsvProjectSpace(&#39;ReadCsvProjectSpace_1&#39;)&#45;&gt;RandomProcess2(&#39;RandomProcess2_1&#39;)</title>\n",
       "<path fill=\"none\" stroke=\"black\" d=\"M387.03,-165.82C387.03,-155.19 387.03,-141.31 387.03,-129.2\"/>\n",
       "<polygon fill=\"black\" stroke=\"black\" points=\"390.53,-129.15 387.03,-119.15 383.53,-129.15 390.53,-129.15\"/>\n",
       "<text text-anchor=\"middle\" x=\"422.03\" y=\"-140\" font-family=\"Helvetica,sans-Serif\" font-size=\"10.00\">data&#45;&gt;ip_data</text>\n",
       "</g>\n",
       "<!-- RandomProcess1(&#39;RandomProcess1_1&#39;) -->\n",
       "<g id=\"node6\" class=\"node\">\n",
       "<title>RandomProcess1(&#39;RandomProcess1_1&#39;)</title>\n",
       "<ellipse fill=\"none\" stroke=\"black\" cx=\"651.03\" cy=\"-101\" rx=\"123.06\" ry=\"18\"/>\n",
       "<text text-anchor=\"middle\" x=\"651.03\" y=\"-98.5\" font-family=\"Helvetica,sans-Serif\" font-size=\"10.00\">RandomProcess1(&#39;RandomProcess1_1&#39;)</text>\n",
       "</g>\n",
       "<!-- ReadCsvProjectSpace(&#39;ReadCsvProjectSpace_1&#39;)&#45;&gt;RandomProcess1(&#39;RandomProcess1_1&#39;) -->\n",
       "<g id=\"edge3\" class=\"edge\">\n",
       "<title>ReadCsvProjectSpace(&#39;ReadCsvProjectSpace_1&#39;)&#45;&gt;RandomProcess1(&#39;RandomProcess1_1&#39;)</title>\n",
       "<path fill=\"none\" stroke=\"black\" d=\"M438.87,-167.09C482.52,-153.7 544.99,-134.54 590.84,-120.47\"/>\n",
       "<polygon fill=\"black\" stroke=\"black\" points=\"592.12,-123.74 600.65,-117.46 590.06,-117.04 592.12,-123.74\"/>\n",
       "<text text-anchor=\"middle\" x=\"570.03\" y=\"-140\" font-family=\"Helvetica,sans-Serif\" font-size=\"10.00\">data&#45;&gt;ip_data</text>\n",
       "</g>\n",
       "<!-- NonSparkPath(&#39;NonSparkPath_1&#39;) -->\n",
       "<g id=\"node3\" class=\"node\">\n",
       "<title>NonSparkPath(&#39;NonSparkPath_1&#39;)</title>\n",
       "<ellipse fill=\"none\" stroke=\"black\" cx=\"387.03\" cy=\"-267\" rx=\"104.56\" ry=\"18\"/>\n",
       "<text text-anchor=\"middle\" x=\"387.03\" y=\"-264.5\" font-family=\"Helvetica,sans-Serif\" font-size=\"10.00\">NonSparkPath(&#39;NonSparkPath_1&#39;)</text>\n",
       "</g>\n",
       "<!-- NonSparkPath(&#39;NonSparkPath_1&#39;)&#45;&gt;ReadCsvProjectSpace(&#39;ReadCsvProjectSpace_1&#39;) -->\n",
       "<g id=\"edge4\" class=\"edge\">\n",
       "<title>NonSparkPath(&#39;NonSparkPath_1&#39;)&#45;&gt;ReadCsvProjectSpace(&#39;ReadCsvProjectSpace_1&#39;)</title>\n",
       "<path fill=\"none\" stroke=\"black\" d=\"M387.03,-248.82C387.03,-238.19 387.03,-224.31 387.03,-212.2\"/>\n",
       "<polygon fill=\"black\" stroke=\"black\" points=\"390.53,-212.15 387.03,-202.15 383.53,-212.15 390.53,-212.15\"/>\n",
       "<text text-anchor=\"middle\" x=\"434.03\" y=\"-223\" font-family=\"Helvetica,sans-Serif\" font-size=\"10.00\">op_path&#45;&gt;filename</text>\n",
       "</g>\n",
       "<!-- DropDuplicates(&#39;DropDuplicates_1&#39;) -->\n",
       "<g id=\"node5\" class=\"node\">\n",
       "<title>DropDuplicates(&#39;DropDuplicates_1&#39;)</title>\n",
       "<ellipse fill=\"none\" stroke=\"black\" cx=\"651.03\" cy=\"-18\" rx=\"112.37\" ry=\"18\"/>\n",
       "<text text-anchor=\"middle\" x=\"651.03\" y=\"-15.5\" font-family=\"Helvetica,sans-Serif\" font-size=\"10.00\">DropDuplicates(&#39;DropDuplicates_1&#39;)</text>\n",
       "</g>\n",
       "<!-- RandomProcess1(&#39;RandomProcess1_1&#39;)&#45;&gt;DropDuplicates(&#39;DropDuplicates_1&#39;) -->\n",
       "<g id=\"edge5\" class=\"edge\">\n",
       "<title>RandomProcess1(&#39;RandomProcess1_1&#39;)&#45;&gt;DropDuplicates(&#39;DropDuplicates_1&#39;)</title>\n",
       "<path fill=\"none\" stroke=\"black\" d=\"M651.03,-82.82C651.03,-72.19 651.03,-58.31 651.03,-46.2\"/>\n",
       "<polygon fill=\"black\" stroke=\"black\" points=\"654.53,-46.15 651.03,-36.15 647.53,-46.15 654.53,-46.15\"/>\n",
       "<text text-anchor=\"middle\" x=\"695.03\" y=\"-57\" font-family=\"Helvetica,sans-Serif\" font-size=\"10.00\">op_data&#45;&gt;ip_data</text>\n",
       "</g>\n",
       "</g>\n",
       "</svg>\n"
      ],
      "text/plain": [
       "<razor.flow.async_pipeline.Pipeline at 0x7f61f6fdc710>"
      ]
     },
     "execution_count": 23,
     "metadata": {},
     "output_type": "execute_result"
    }
   ],
   "source": [
    "pipe"
   ]
  },
  {
   "cell_type": "code",
   "execution_count": 24,
   "id": "centered-lucas",
   "metadata": {},
   "outputs": [
    {
     "name": "stdout",
     "output_type": "stream",
     "text": [
      "log path: /tmp/tmpc5_lyu0q/temp\n"
     ]
    },
    {
     "data": {
      "application/vnd.razorthink.run+monitor+json": "/tmp/tmpc5_lyu0q/temp",
      "text/plain": [
       "<razor_tools.backend.ipython.mime.run_monitor.RunMonitor at 0x7f61f6da8e10>"
      ]
     },
     "metadata": {
      "application/vnd.razorthink.run+monitor+json": {
       "run_data": {
        "apm": [
         {
          "cpu_percent": 0,
          "cpu_time": 0.01,
          "name": "NonSparkPath_1",
          "real_mem": 155516928,
          "time": 1616473990.6959486
         },
         {
          "cpu_percent": 0,
          "cpu_time": 0.03,
          "name": "NonSparkPath_1",
          "real_mem": 155631616,
          "time": 1616473990.8088682
         },
         {
          "cpu_percent": 0,
          "cpu_time": 0.05,
          "name": "NonSparkPath_1",
          "real_mem": 156102656,
          "time": 1616473990.922214
         },
         {
          "cpu_percent": 0,
          "cpu_time": 0,
          "name": "RandomProcess1_1",
          "real_mem": 155844608,
          "time": 1616473990.9432344
         },
         {
          "cpu_percent": 0,
          "cpu_time": 0.02,
          "name": "DropDuplicates_1",
          "real_mem": 155856896,
          "time": 1616473990.9661694
         },
         {
          "cpu_percent": 0,
          "cpu_time": 0.02,
          "name": "RandomProcess2_1",
          "real_mem": 156123136,
          "time": 1616473990.9945383
         },
         {
          "cpu_percent": 0,
          "cpu_time": 0.03,
          "name": "ReadCsvProjectSpace_1",
          "real_mem": 156246016,
          "time": 1616473991.0079117
         },
         {
          "cpu_percent": 0,
          "cpu_time": 0.02,
          "name": "RandomProcess3_1",
          "real_mem": 155979776,
          "time": 1616473990.980282
         },
         {
          "cpu_percent": 0,
          "cpu_time": 0.06,
          "name": "NonSparkPath_1",
          "real_mem": 156327936,
          "time": 1616473991.0345423
         },
         {
          "cpu_percent": 196.6,
          "cpu_time": 0.08,
          "name": "RandomProcess1_1",
          "real_mem": 160858112,
          "time": 1616473991.0707674
         },
         {
          "cpu_percent": 0,
          "cpu_time": 0.08,
          "name": "DropDuplicates_1",
          "real_mem": 163020800,
          "time": 1616473991.1042917
         },
         {
          "cpu_percent": 97.3,
          "cpu_time": 0.13,
          "name": "RandomProcess3_1",
          "real_mem": 184791040,
          "time": 1616473991.1591318
         },
         {
          "cpu_percent": 196.6,
          "cpu_time": 0.21000000000000002,
          "name": "RandomProcess2_1",
          "real_mem": 193347584,
          "time": 1616473991.2025187
         },
         {
          "cpu_percent": 0,
          "cpu_time": 0.23000000000000004,
          "name": "ReadCsvProjectSpace_1",
          "real_mem": 196059136,
          "time": 1616473991.2591977
         },
         {
          "cpu_percent": 98.2,
          "cpu_time": 0.29000000000000004,
          "name": "RandomProcess1_1",
          "real_mem": 203345920,
          "time": 1616473991.3027067
         },
         {
          "cpu_percent": 196.6,
          "cpu_time": 0.35000000000000003,
          "name": "DropDuplicates_1",
          "real_mem": 212070400,
          "time": 1616473991.3701525
         },
         {
          "cpu_percent": 0,
          "cpu_time": 0.12,
          "name": "RandomProcess2_1",
          "real_mem": 169185280,
          "time": 1616473991.424881
         },
         {
          "cpu_percent": 0,
          "cpu_time": 0.1,
          "name": "RandomProcess3_1",
          "real_mem": 160866304,
          "time": 1616473991.4028103
         },
         {
          "cpu_percent": 98.2,
          "cpu_time": 0.14,
          "name": "ReadCsvProjectSpace_1",
          "real_mem": 176676864,
          "time": 1616473991.470078
         },
         {
          "cpu_percent": 197,
          "cpu_time": 0.16999999999999998,
          "name": "RandomProcess1_1",
          "real_mem": 178663424,
          "time": 1616473991.4918046
         },
         {
          "cpu_percent": 0,
          "cpu_time": 0.18,
          "name": "DropDuplicates_1",
          "real_mem": 179265536,
          "time": 1616473991.5143838
         },
         {
          "cpu_percent": 196.7,
          "cpu_time": 0.22,
          "name": "RandomProcess3_1",
          "real_mem": 181600256,
          "time": 1616473991.559179
         },
         {
          "cpu_percent": 98.6,
          "cpu_time": 0.26,
          "name": "RandomProcess2_1",
          "real_mem": 188002304,
          "time": 1616473991.5817745
         },
         {
          "cpu_percent": 97.4,
          "cpu_time": 0.31,
          "name": "ReadCsvProjectSpace_1",
          "real_mem": 193765376,
          "time": 1616473991.6057324
         },
         {
          "cpu_percent": 196.3,
          "cpu_time": 0.33999999999999997,
          "name": "RandomProcess1_1",
          "real_mem": 198475776,
          "time": 1616473991.6712642
         },
         {
          "cpu_percent": 196.3,
          "cpu_time": 0.38,
          "name": "DropDuplicates_1",
          "real_mem": 206303232,
          "time": 1616473991.694201
         },
         {
          "cpu_percent": 0,
          "cpu_time": 0.38,
          "name": "RandomProcess3_1",
          "real_mem": 206819328,
          "time": 1616473991.7183495
         },
         {
          "cpu_percent": 0,
          "cpu_time": 0.39,
          "name": "RandomProcess2_1",
          "real_mem": 206819328,
          "time": 1616473991.740402
         },
         {
          "cpu_percent": 294.7,
          "cpu_time": 0.45,
          "name": "ReadCsvProjectSpace_1",
          "real_mem": 211431424,
          "time": 1616473991.7706604
         },
         {
          "cpu_percent": 98.1,
          "cpu_time": 0.49,
          "name": "RandomProcess1_1",
          "real_mem": 213590016,
          "time": 1616473991.7942388
         },
         {
          "cpu_percent": 293.6,
          "cpu_time": 0.53,
          "name": "DropDuplicates_1",
          "real_mem": 215556096,
          "time": 1616473991.8704374
         },
         {
          "cpu_percent": 196.3,
          "cpu_time": 0.5700000000000001,
          "name": "RandomProcess3_1",
          "real_mem": 220561408,
          "time": 1616473991.893445
         },
         {
          "cpu_percent": 98.6,
          "cpu_time": 0.61,
          "name": "RandomProcess2_1",
          "real_mem": 222859264,
          "time": 1616473991.9702308
         },
         {
          "cpu_percent": 196.4,
          "cpu_time": 0.66,
          "name": "ReadCsvProjectSpace_1",
          "real_mem": 225021952,
          "time": 1616473991.9922605
         },
         {
          "cpu_percent": 22.6,
          "cpu_time": 0.68,
          "name": "RandomProcess1_1",
          "real_mem": 227192832,
          "time": 1616473992.0484118
         },
         {
          "cpu_percent": 193.2,
          "cpu_time": 0.71,
          "name": "DropDuplicates_1",
          "real_mem": 231104512,
          "time": 1616473992.071025
         },
         {
          "cpu_percent": 0,
          "cpu_time": 0.73,
          "name": "RandomProcess3_1",
          "real_mem": 237322240,
          "time": 1616473992.093229
         },
         {
          "cpu_percent": 196.1,
          "cpu_time": 0.76,
          "name": "RandomProcess2_1",
          "real_mem": 240574464,
          "time": 1616473992.1155255
         },
         {
          "cpu_percent": 0,
          "cpu_time": 0.77,
          "name": "ReadCsvProjectSpace_1",
          "real_mem": 240574464,
          "time": 1616473992.1379626
         },
         {
          "cpu_percent": 98.7,
          "cpu_time": 0.8,
          "name": "RandomProcess1_1",
          "real_mem": 242413568,
          "time": 1616473992.1727197
         },
         {
          "cpu_percent": 292.6,
          "cpu_time": 0.85,
          "name": "DropDuplicates_1",
          "real_mem": 243224576,
          "time": 1616473992.1946564
         },
         {
          "cpu_percent": 0,
          "cpu_time": 0.88,
          "name": "RandomProcess3_1",
          "real_mem": 243494912,
          "time": 1616473992.217094
         },
         {
          "cpu_percent": 196.6,
          "cpu_time": 0.92,
          "name": "RandomProcess2_1",
          "real_mem": 245379072,
          "time": 1616473992.2706604
         },
         {
          "cpu_percent": 95.6,
          "cpu_time": 0.9500000000000001,
          "name": "ReadCsvProjectSpace_1",
          "real_mem": 247832576,
          "time": 1616473992.2931094
         },
         {
          "cpu_percent": 196.3,
          "cpu_time": 1,
          "name": "RandomProcess1_1",
          "real_mem": 252403712,
          "time": 1616473992.3698306
         },
         {
          "cpu_percent": 97.3,
          "cpu_time": 1.03,
          "name": "DropDuplicates_1",
          "real_mem": 252940288,
          "time": 1616473992.3924794
         },
         {
          "cpu_percent": 98.8,
          "cpu_time": 1.05,
          "name": "RandomProcess3_1",
          "real_mem": 253288448,
          "time": 1616473992.4145184
         },
         {
          "cpu_percent": 98.4,
          "cpu_time": 1.06,
          "name": "ReadCsvProjectSpace_1",
          "real_mem": 253288448,
          "time": 1616473992.458405
         },
         {
          "cpu_percent": 0,
          "cpu_time": 1.05,
          "name": "RandomProcess2_1",
          "real_mem": 253288448,
          "time": 1616473992.436709
         },
         {
          "cpu_percent": 98.4,
          "cpu_time": 1.1099999999999999,
          "name": "RandomProcess1_1",
          "real_mem": 253947904,
          "time": 1616473992.4927926
         },
         {
          "cpu_percent": 196.3,
          "cpu_time": 1.14,
          "name": "DropDuplicates_1",
          "real_mem": 254259200,
          "time": 1616473992.5149822
         },
         {
          "cpu_percent": 0,
          "cpu_time": 1.15,
          "name": "RandomProcess3_1",
          "real_mem": 254259200,
          "time": 1616473992.537347
         },
         {
          "cpu_percent": 97.8,
          "cpu_time": 1.19,
          "name": "RandomProcess2_1",
          "real_mem": 254521344,
          "time": 1616473992.5702844
         },
         {
          "cpu_percent": 98.3,
          "cpu_time": 1.22,
          "name": "ReadCsvProjectSpace_1",
          "real_mem": 255053824,
          "time": 1616473992.5936344
         },
         {
          "cpu_percent": 0,
          "cpu_time": 1.23,
          "name": "RandomProcess1_1",
          "real_mem": 255225856,
          "time": 1616473992.6485605
         },
         {
          "cpu_percent": 196.6,
          "cpu_time": 1.3399999999999999,
          "name": "RandomProcess3_1",
          "real_mem": 256905216,
          "time": 1616473992.6946697
         },
         {
          "cpu_percent": 195.9,
          "cpu_time": 1.28,
          "name": "DropDuplicates_1",
          "real_mem": 255500288,
          "time": 1616473992.6720512
         },
         {
          "cpu_percent": 196.3,
          "cpu_time": 1.39,
          "name": "RandomProcess2_1",
          "real_mem": 256073728,
          "time": 1616473992.771157
         },
         {
          "cpu_percent": 195.3,
          "cpu_time": 1.43,
          "name": "ReadCsvProjectSpace_1",
          "real_mem": 257425408,
          "time": 1616473992.7933118
         },
         {
          "cpu_percent": 196.6,
          "cpu_time": 1.48,
          "name": "RandomProcess1_1",
          "real_mem": 257069056,
          "time": 1616473992.8701808
         },
         {
          "cpu_percent": 97.4,
          "cpu_time": 1.51,
          "name": "DropDuplicates_1",
          "real_mem": 257318912,
          "time": 1616473992.8934853
         },
         {
          "cpu_percent": 0,
          "cpu_time": 1.53,
          "name": "RandomProcess3_1",
          "real_mem": 261099520,
          "time": 1616473992.916387
         },
         {
          "cpu_percent": 98.7,
          "cpu_time": 1.55,
          "name": "RandomProcess2_1",
          "real_mem": 270987264,
          "time": 1616473992.970089
         },
         {
          "cpu_percent": 194.8,
          "cpu_time": 1.5799999999999998,
          "name": "ReadCsvProjectSpace_1",
          "real_mem": 271327232,
          "time": 1616473992.9920607
         },
         {
          "cpu_percent": 0,
          "cpu_time": 1.6199999999999999,
          "name": "RandomProcess1_1",
          "real_mem": 271581184,
          "time": 1616473993.0158336
         },
         {
          "cpu_percent": 96.9,
          "cpu_time": 1.67,
          "name": "DropDuplicates_1",
          "real_mem": 272281600,
          "time": 1616473993.0715353
         },
         {
          "cpu_percent": 98.4,
          "cpu_time": 1.7,
          "name": "RandomProcess3_1",
          "real_mem": 274509824,
          "time": 1616473993.0940006
         },
         {
          "cpu_percent": 0,
          "cpu_time": 1.71,
          "name": "RandomProcess2_1",
          "real_mem": 277213184,
          "time": 1616473993.1164296
         },
         {
          "cpu_percent": 196.5,
          "cpu_time": 1.74,
          "name": "ReadCsvProjectSpace_1",
          "real_mem": 277639168,
          "time": 1616473993.1707523
         },
         {
          "cpu_percent": 98.2,
          "cpu_time": 1.79,
          "name": "RandomProcess1_1",
          "real_mem": 278040576,
          "time": 1616473993.193355
         },
         {
          "cpu_percent": 0,
          "cpu_time": 1.81,
          "name": "DropDuplicates_1",
          "real_mem": 278351872,
          "time": 1616473993.2166715
         },
         {
          "cpu_percent": 192.9,
          "cpu_time": 1.84,
          "name": "RandomProcess3_1",
          "real_mem": 278982656,
          "time": 1616473993.2708278
         },
         {
          "cpu_percent": 196.8,
          "cpu_time": 1.8699999999999999,
          "name": "RandomProcess2_1",
          "real_mem": 279298048,
          "time": 1616473993.2926757
         },
         {
          "cpu_percent": 97.8,
          "cpu_time": 1.9,
          "name": "ReadCsvProjectSpace_1",
          "real_mem": 279564288,
          "time": 1616473993.315061
         },
         {
          "cpu_percent": 98.3,
          "cpu_time": 1.92,
          "name": "RandomProcess1_1",
          "real_mem": 280051712,
          "time": 1616473993.370653
         },
         {
          "cpu_percent": 170.8,
          "cpu_time": 1.98,
          "name": "DropDuplicates_1",
          "real_mem": 280326144,
          "time": 1616473993.3947902
         },
         {
          "cpu_percent": 98.2,
          "cpu_time": 2.04,
          "name": "RandomProcess2_1",
          "real_mem": 280805376,
          "time": 1616473993.4808702
         },
         {
          "cpu_percent": 98.6,
          "cpu_time": 2.01,
          "name": "RandomProcess3_1",
          "real_mem": 280539136,
          "time": 1616473993.4588637
         },
         {
          "cpu_percent": 97.6,
          "cpu_time": 2.0700000000000003,
          "name": "ReadCsvProjectSpace_1",
          "real_mem": 281145344,
          "time": 1616473993.5036094
         },
         {
          "cpu_percent": 0,
          "cpu_time": 2.08,
          "name": "RandomProcess1_1",
          "real_mem": 281407488,
          "time": 1616473993.5258486
         },
         {
          "cpu_percent": 287.3,
          "cpu_time": 2.15,
          "name": "DropDuplicates_1",
          "real_mem": 281870336,
          "time": 1616473993.5714588
         },
         {
          "cpu_percent": 98,
          "cpu_time": 2.17,
          "name": "RandomProcess3_1",
          "real_mem": 282025984,
          "time": 1616473993.5944679
         },
         {
          "cpu_percent": 0,
          "cpu_time": 2.1799999999999997,
          "name": "RandomProcess2_1",
          "real_mem": 282120192,
          "time": 1616473993.617825
         },
         {
          "cpu_percent": 98.2,
          "cpu_time": 2.2199999999999998,
          "name": "ReadCsvProjectSpace_1",
          "real_mem": 282664960,
          "time": 1616473993.6711898
         },
         {
          "cpu_percent": 197,
          "cpu_time": 2.2699999999999996,
          "name": "RandomProcess1_1",
          "real_mem": 283443200,
          "time": 1616473993.692952
         },
         {
          "cpu_percent": 98.4,
          "cpu_time": 2.3,
          "name": "DropDuplicates_1",
          "real_mem": 283705344,
          "time": 1616473993.769546
         },
         {
          "cpu_percent": 196.2,
          "cpu_time": 2.3499999999999996,
          "name": "RandomProcess3_1",
          "real_mem": 284008448,
          "time": 1616473993.7922175
         },
         {
          "cpu_percent": 0,
          "cpu_time": 2.3600000000000003,
          "name": "RandomProcess2_1",
          "real_mem": 284008448,
          "time": 1616473993.814592
         },
         {
          "cpu_percent": 196,
          "cpu_time": 2.43,
          "name": "ReadCsvProjectSpace_1",
          "real_mem": 284987392,
          "time": 1616473993.8710842
         },
         {
          "cpu_percent": 196.10000000000002,
          "cpu_time": 2.4800000000000004,
          "name": "RandomProcess1_1",
          "real_mem": 284770304,
          "time": 1616473993.8935657
         },
         {
          "cpu_percent": 147.5,
          "cpu_time": 2.51,
          "name": "DropDuplicates_1",
          "real_mem": 285376512,
          "time": 1616473993.9748478
         },
         {
          "cpu_percent": 295.4,
          "cpu_time": 2.5599999999999996,
          "name": "RandomProcess3_1",
          "real_mem": 285712384,
          "time": 1616473993.9973102
         },
         {
          "cpu_percent": 0,
          "cpu_time": 2.5700000000000003,
          "name": "RandomProcess2_1",
          "real_mem": 285712384,
          "time": 1616473994.0482597
         },
         {
          "cpu_percent": 98.3,
          "cpu_time": 2.65,
          "name": "RandomProcess1_1",
          "real_mem": 286584832,
          "time": 1616473994.0933444
         },
         {
          "cpu_percent": 189.1,
          "cpu_time": 2.6100000000000003,
          "name": "ReadCsvProjectSpace_1",
          "real_mem": 286138368,
          "time": 1616473994.0712686
         },
         {
          "cpu_percent": 0,
          "cpu_time": 2.66,
          "name": "DropDuplicates_1",
          "real_mem": 286584832,
          "time": 1616473994.1172755
         },
         {
          "cpu_percent": 98.6,
          "cpu_time": 2.69,
          "name": "RandomProcess3_1",
          "real_mem": 287027200,
          "time": 1616473994.1708488
         },
         {
          "cpu_percent": 197.2,
          "cpu_time": 2.73,
          "name": "RandomProcess2_1",
          "real_mem": 287027200,
          "time": 1616473994.1934278
         },
         {
          "cpu_percent": 0,
          "cpu_time": 2.75,
          "name": "ReadCsvProjectSpace_1",
          "real_mem": 287293440,
          "time": 1616473994.2487772
         },
         {
          "cpu_percent": 98.3,
          "cpu_time": 2.78,
          "name": "RandomProcess1_1",
          "real_mem": 288268288,
          "time": 1616473994.270793
         },
         {
          "cpu_percent": 97,
          "cpu_time": 2.8,
          "name": "DropDuplicates_1",
          "real_mem": 289083392,
          "time": 1616473994.29312
         },
         {
          "cpu_percent": 98.4,
          "cpu_time": 2.8299999999999996,
          "name": "RandomProcess3_1",
          "real_mem": 289472512,
          "time": 1616473994.3163757
         },
         {
          "cpu_percent": 98.2,
          "cpu_time": 2.86,
          "name": "RandomProcess2_1",
          "real_mem": 289988608,
          "time": 1616473994.3708642
         },
         {
          "cpu_percent": 98.5,
          "cpu_time": 2.9,
          "name": "ReadCsvProjectSpace_1",
          "real_mem": 290258944,
          "time": 1616473994.3937142
         },
         {
          "cpu_percent": 197.2,
          "cpu_time": 2.93,
          "name": "RandomProcess1_1",
          "real_mem": 290562048,
          "time": 1616473994.4153285
         },
         {
          "cpu_percent": 293.9,
          "cpu_time": 2.99,
          "name": "DropDuplicates_1",
          "real_mem": 290775040,
          "time": 1616473994.4694607
         },
         {
          "cpu_percent": 15,
          "cpu_time": 3.04,
          "name": "RandomProcess3_1",
          "real_mem": 291016704,
          "time": 1616473994.548592
         },
         {
          "cpu_percent": 97.7,
          "cpu_time": 3.07,
          "name": "RandomProcess2_1",
          "real_mem": 291594240,
          "time": 1616473994.5714214
         },
         {
          "cpu_percent": 0,
          "cpu_time": 3.1199999999999997,
          "name": "RandomProcess1_1",
          "real_mem": 291889152,
          "time": 1616473994.648148
         },
         {
          "cpu_percent": 294.1,
          "cpu_time": 3.11,
          "name": "ReadCsvProjectSpace_1",
          "real_mem": 291672064,
          "time": 1616473994.5934787
         },
         {
          "cpu_percent": 98,
          "cpu_time": 3.15,
          "name": "DropDuplicates_1",
          "real_mem": 291889152,
          "time": 1616473994.6713371
         },
         {
          "cpu_percent": 194.6,
          "cpu_time": 3.19,
          "name": "RandomProcess3_1",
          "real_mem": 293068800,
          "time": 1616473994.6938934
         },
         {
          "cpu_percent": 196.3,
          "cpu_time": 3.2600000000000002,
          "name": "ReadCsvProjectSpace_1",
          "real_mem": 294043648,
          "time": 1616473994.770627
         },
         {
          "cpu_percent": 47.1,
          "cpu_time": 3.22,
          "name": "RandomProcess2_1",
          "real_mem": 293474304,
          "time": 1616473994.7484
         },
         {
          "cpu_percent": 391.9,
          "cpu_time": 3.32,
          "name": "RandomProcess1_1",
          "real_mem": 294551552,
          "time": 1616473994.793382
         },
         {
          "cpu_percent": 291.1,
          "cpu_time": 3.3699999999999997,
          "name": "DropDuplicates_1",
          "real_mem": 294645760,
          "time": 1616473994.8707542
         },
         {
          "cpu_percent": 113.7,
          "cpu_time": 3.41,
          "name": "RandomProcess3_1",
          "real_mem": 294940672,
          "time": 1616473994.9487555
         },
         {
          "cpu_percent": 291.4,
          "cpu_time": 3.48,
          "name": "ReadCsvProjectSpace_1",
          "real_mem": 295444480,
          "time": 1616473994.9936712
         },
         {
          "cpu_percent": 195.6,
          "cpu_time": 3.44,
          "name": "RandomProcess2_1",
          "real_mem": 295284736,
          "time": 1616473994.9714708
         },
         {
          "cpu_percent": 295,
          "cpu_time": 3.5300000000000002,
          "name": "RandomProcess1_1",
          "real_mem": 295739392,
          "time": 1616473995.0593512
         },
         {
          "cpu_percent": 196.7,
          "cpu_time": 3.5700000000000003,
          "name": "DropDuplicates_1",
          "real_mem": 296009728,
          "time": 1616473995.0815666
         },
         {
          "cpu_percent": 0,
          "cpu_time": 3.5900000000000003,
          "name": "RandomProcess3_1",
          "real_mem": 296009728,
          "time": 1616473995.1482434
         },
         {
          "cpu_percent": 196.6,
          "cpu_time": 3.6399999999999997,
          "name": "RandomProcess2_1",
          "real_mem": 296800256,
          "time": 1616473995.170904
         },
         {
          "cpu_percent": 31.4,
          "cpu_time": 3.69,
          "name": "ReadCsvProjectSpace_1",
          "real_mem": 297213952,
          "time": 1616473995.2486928
         },
         {
          "cpu_percent": 294.6,
          "cpu_time": 3.7399999999999998,
          "name": "RandomProcess1_1",
          "real_mem": 297291776,
          "time": 1616473995.2720304
         },
         {
          "cpu_percent": 97.7,
          "cpu_time": 3.8699999999999997,
          "name": "RandomProcess2_1",
          "real_mem": 297553920,
          "time": 1616473995.4481335
         },
         {
          "cpu_percent": 0,
          "cpu_time": 3.77,
          "name": "DropDuplicates_1",
          "real_mem": 297291776,
          "time": 1616473995.348441
         },
         {
          "cpu_percent": 293.8,
          "cpu_time": 3.83,
          "name": "RandomProcess3_1",
          "real_mem": 297336832,
          "time": 1616473995.370758
         },
         {
          "cpu_percent": 290.9,
          "cpu_time": 3.94,
          "name": "ReadCsvProjectSpace_1",
          "real_mem": 298217472,
          "time": 1616473995.4708455
         },
         {
          "cpu_percent": 0,
          "cpu_time": 3.97,
          "name": "RandomProcess1_1",
          "real_mem": 298487808,
          "time": 1616473995.4929125
         },
         {
          "cpu_percent": 195.3,
          "cpu_time": 4.02,
          "name": "DropDuplicates_1",
          "real_mem": 298606592,
          "time": 1616473995.5710566
         },
         {
          "cpu_percent": 98.1,
          "cpu_time": 4.06,
          "name": "RandomProcess3_1",
          "real_mem": 298606592,
          "time": 1616473995.593636
         },
         {
          "cpu_percent": 195.1,
          "cpu_time": 4.1000000000000005,
          "name": "RandomProcess2_1",
          "real_mem": 299241472,
          "time": 1616473995.6706948
         },
         {
          "cpu_percent": 98.2,
          "cpu_time": 4.12,
          "name": "ReadCsvProjectSpace_1",
          "real_mem": 299241472,
          "time": 1616473995.69306
         },
         {
          "cpu_percent": 0,
          "cpu_time": 4.15,
          "name": "RandomProcess1_1",
          "real_mem": 300769280,
          "time": 1616473995.7171233
         },
         {
          "cpu_percent": 98.1,
          "cpu_time": 4.18,
          "name": "DropDuplicates_1",
          "real_mem": 300769280,
          "time": 1616473995.769899
         },
         {
          "cpu_percent": 193,
          "cpu_time": 4.2299999999999995,
          "name": "RandomProcess3_1",
          "real_mem": 301019136,
          "time": 1616473995.797961
         },
         {
          "cpu_percent": 0,
          "cpu_time": 4.26,
          "name": "RandomProcess2_1",
          "real_mem": 301125632,
          "time": 1616473995.8210216
         },
         {
          "cpu_percent": 98.4,
          "cpu_time": 4.3,
          "name": "ReadCsvProjectSpace_1",
          "real_mem": 301441024,
          "time": 1616473995.87159
         },
         {
          "cpu_percent": 98.3,
          "cpu_time": 4.33,
          "name": "RandomProcess1_1",
          "real_mem": 302358528,
          "time": 1616473995.8957143
         },
         {
          "cpu_percent": 98.4,
          "cpu_time": 4.3500000000000005,
          "name": "DropDuplicates_1",
          "real_mem": 302358528,
          "time": 1616473995.9178696
         },
         {
          "cpu_percent": 98.3,
          "cpu_time": 4.390000000000001,
          "name": "RandomProcess3_1",
          "real_mem": 302665728,
          "time": 1616473995.970628
         },
         {
          "cpu_percent": 98.4,
          "cpu_time": 4.43,
          "name": "RandomProcess2_1",
          "real_mem": 303091712,
          "time": 1616473995.9931872
         },
         {
          "cpu_percent": 0,
          "cpu_time": 4.4399999999999995,
          "name": "ReadCsvProjectSpace_1",
          "real_mem": 303153152,
          "time": 1616473996.0156913
         },
         {
          "cpu_percent": 98.1,
          "cpu_time": 4.47,
          "name": "RandomProcess1_1",
          "real_mem": 303652864,
          "time": 1616473996.0711713
         },
         {
          "cpu_percent": 196.5,
          "cpu_time": 4.52,
          "name": "DropDuplicates_1",
          "real_mem": 303738880,
          "time": 1616473996.0936663
         },
         {
          "cpu_percent": 0,
          "cpu_time": 4.529999999999999,
          "name": "RandomProcess3_1",
          "real_mem": 304005120,
          "time": 1616473996.1162174
         },
         {
          "cpu_percent": 98.3,
          "cpu_time": 4.56,
          "name": "RandomProcess2_1",
          "real_mem": 304508928,
          "time": 1616473996.1702414
         },
         {
          "cpu_percent": 196.7,
          "cpu_time": 4.609999999999999,
          "name": "ReadCsvProjectSpace_1",
          "real_mem": 305000448,
          "time": 1616473996.1935894
         },
         {
          "cpu_percent": 195.9,
          "cpu_time": 4.64,
          "name": "RandomProcess1_1",
          "real_mem": 305635328,
          "time": 1616473996.259232
         },
         {
          "cpu_percent": 197.3,
          "cpu_time": 4.69,
          "name": "DropDuplicates_1",
          "real_mem": 306860032,
          "time": 1616473996.2812002
         },
         {
          "cpu_percent": 97.9,
          "cpu_time": 4.73,
          "name": "RandomProcess3_1",
          "real_mem": 306864128,
          "time": 1616473996.3484807
         },
         {
          "cpu_percent": 195.2,
          "cpu_time": 4.78,
          "name": "RandomProcess2_1",
          "real_mem": 307396608,
          "time": 1616473996.3710098
         },
         {
          "cpu_percent": 30.5,
          "cpu_time": 4.83,
          "name": "ReadCsvProjectSpace_1",
          "real_mem": 308301824,
          "time": 1616473996.4486327
         },
         {
          "cpu_percent": 195.5,
          "cpu_time": 4.87,
          "name": "RandomProcess1_1",
          "real_mem": 308301824,
          "time": 1616473996.4710476
         },
         {
          "cpu_percent": 97.5,
          "cpu_time": 4.91,
          "name": "DropDuplicates_1",
          "real_mem": 306655232,
          "time": 1616473996.494286
         },
         {
          "cpu_percent": 196.7,
          "cpu_time": 4.95,
          "name": "RandomProcess3_1",
          "real_mem": 308002816,
          "time": 1616473996.5702474
         },
         {
          "cpu_percent": 97.3,
          "cpu_time": 4.9799999999999995,
          "name": "RandomProcess2_1",
          "real_mem": 308207616,
          "time": 1616473996.5934398
         },
         {
          "cpu_percent": 98,
          "cpu_time": 5.01,
          "name": "ReadCsvProjectSpace_1",
          "real_mem": 308637696,
          "time": 1616473996.6171942
         },
         {
          "cpu_percent": 0,
          "cpu_time": 5.1,
          "name": "RandomProcess1_1",
          "real_mem": 310239232,
          "time": 1616473996.744552
         },
         {
          "cpu_percent": 96.3,
          "cpu_time": 5.12,
          "name": "DropDuplicates_1",
          "real_mem": 310882304,
          "time": 1616473996.7699656
         },
         {
          "cpu_percent": 98.3,
          "cpu_time": 5.22,
          "name": "RandomProcess3_1",
          "real_mem": 312012800,
          "time": 1616473996.8697724
         },
         {
          "cpu_percent": 194.4,
          "cpu_time": 5.3100000000000005,
          "name": "ReadCsvProjectSpace_1",
          "real_mem": 312520704,
          "time": 1616473996.9136677
         },
         {
          "cpu_percent": 195.8,
          "cpu_time": 5.27,
          "name": "RandomProcess2_1",
          "real_mem": 312147968,
          "time": 1616473996.8918502
         },
         {
          "cpu_percent": 97.8,
          "cpu_time": 5.4,
          "name": "RandomProcess1_1",
          "real_mem": 313724928,
          "time": 1616473997.017616
         },
         {
          "cpu_percent": 98.1,
          "cpu_time": 5.43,
          "name": "DropDuplicates_1",
          "real_mem": 314138624,
          "time": 1616473997.0711067
         },
         {
          "cpu_percent": 196.6,
          "cpu_time": 5.529999999999999,
          "name": "RandomProcess3_1",
          "real_mem": 315072512,
          "time": 1616473997.1696963
         },
         {
          "cpu_percent": 388.8,
          "cpu_time": 5.59,
          "name": "RandomProcess2_1",
          "real_mem": 318844928,
          "time": 1616473997.2481256
         },
         {
          "cpu_percent": 193.9,
          "cpu_time": 5.640000000000001,
          "name": "ReadCsvProjectSpace_1",
          "real_mem": 321810432,
          "time": 1616473997.2704844
         },
         {
          "cpu_percent": 98.9,
          "cpu_time": 5.680000000000001,
          "name": "RandomProcess1_1",
          "real_mem": 322195456,
          "time": 1616473997.2934115
         },
         {
          "cpu_percent": 196,
          "cpu_time": 5.720000000000001,
          "name": "DropDuplicates_1",
          "real_mem": 322830336,
          "time": 1616473997.371117
         },
         {
          "cpu_percent": 98.4,
          "cpu_time": 5.79,
          "name": "RandomProcess3_1",
          "real_mem": 323817472,
          "time": 1616473997.4690976
         },
         {
          "cpu_percent": 98.6,
          "cpu_time": 5.88,
          "name": "RandomProcess2_1",
          "real_mem": 325259264,
          "time": 1616473997.5207486
         },
         {
          "cpu_percent": 197.2,
          "cpu_time": 5.91,
          "name": "ReadCsvProjectSpace_1",
          "real_mem": 325345280,
          "time": 1616473997.570151
         },
         {
          "cpu_percent": 196.5,
          "cpu_time": 5.95,
          "name": "RandomProcess1_1",
          "real_mem": 325963776,
          "time": 1616473997.592206
         },
         {
          "cpu_percent": 293.8,
          "cpu_time": 6.02,
          "name": "DropDuplicates_1",
          "real_mem": 326500352,
          "time": 1616473997.669273
         },
         {
          "cpu_percent": 196,
          "cpu_time": 6.109999999999999,
          "name": "RandomProcess3_1",
          "real_mem": 327016448,
          "time": 1616473997.7710755
         },
         {
          "cpu_percent": 98.1,
          "cpu_time": 6.17,
          "name": "RandomProcess2_1",
          "real_mem": 327311360,
          "time": 1616473997.7934356
         },
         {
          "cpu_percent": 98.4,
          "cpu_time": 6.199999999999999,
          "name": "ReadCsvProjectSpace_1",
          "real_mem": 327516160,
          "time": 1616473997.8707
         },
         {
          "cpu_percent": 192.3,
          "cpu_time": 6.25,
          "name": "RandomProcess1_1",
          "real_mem": 328261632,
          "time": 1616473997.8932352
         },
         {
          "cpu_percent": 97.9,
          "cpu_time": 6.289999999999999,
          "name": "DropDuplicates_1",
          "real_mem": 328876032,
          "time": 1616473997.969337
         },
         {
          "cpu_percent": 98.5,
          "cpu_time": 6.390000000000001,
          "name": "RandomProcess3_1",
          "real_mem": 329904128,
          "time": 1616473998.0701923
         },
         {
          "cpu_percent": 197.3,
          "cpu_time": 6.43,
          "name": "RandomProcess2_1",
          "real_mem": 329904128,
          "time": 1616473998.0921566
         },
         {
          "cpu_percent": 197.3,
          "cpu_time": 6.5,
          "name": "ReadCsvProjectSpace_1",
          "real_mem": 330502144,
          "time": 1616473998.1701858
         },
         {
          "cpu_percent": 196.1,
          "cpu_time": 6.6000000000000005,
          "name": "DropDuplicates_1",
          "real_mem": 330657792,
          "time": 1616473998.2705193
         },
         {
          "cpu_percent": 30,
          "cpu_time": 6.55,
          "name": "RandomProcess1_1",
          "real_mem": 330567680,
          "time": 1616473998.2483122
         },
         {
          "cpu_percent": 393.4,
          "cpu_time": 6.73,
          "name": "RandomProcess3_1",
          "real_mem": 331743232,
          "time": 1616473998.3696005
         },
         {
          "cpu_percent": 0,
          "cpu_time": 6.75,
          "name": "RandomProcess2_1",
          "real_mem": 331939840,
          "time": 1616473998.3918858
         },
         {
          "cpu_percent": 196.1,
          "cpu_time": 6.78,
          "name": "ReadCsvProjectSpace_1",
          "real_mem": 332529664,
          "time": 1616473998.470353
         },
         {
          "cpu_percent": 196.4,
          "cpu_time": 6.88,
          "name": "DropDuplicates_1",
          "real_mem": 333848576,
          "time": 1616473998.5700274
         },
         {
          "cpu_percent": 0,
          "cpu_time": 6.83,
          "name": "RandomProcess1_1",
          "real_mem": 333586432,
          "time": 1616473998.5217535
         },
         {
          "cpu_percent": 194.9,
          "cpu_time": 7,
          "name": "RandomProcess3_1",
          "real_mem": 335941632,
          "time": 1616473998.669745
         },
         {
          "cpu_percent": 98.1,
          "cpu_time": 7.040000000000001,
          "name": "RandomProcess2_1",
          "real_mem": 336019456,
          "time": 1616473998.691889
         },
         {
          "cpu_percent": 196.6,
          "cpu_time": 7.1,
          "name": "ReadCsvProjectSpace_1",
          "real_mem": 336433152,
          "time": 1616473998.7711093
         },
         {
          "cpu_percent": 0,
          "cpu_time": 7.140000000000001,
          "name": "RandomProcess1_1",
          "real_mem": 337350656,
          "time": 1616473998.7940247
         },
         {
          "cpu_percent": 196.2,
          "cpu_time": 7.18,
          "name": "DropDuplicates_1",
          "real_mem": 337817600,
          "time": 1616473998.871061
         },
         {
          "cpu_percent": 283.4,
          "cpu_time": 7.29,
          "name": "RandomProcess3_1",
          "real_mem": 339341312,
          "time": 1616473998.9701748
         },
         {
          "cpu_percent": 195.8,
          "cpu_time": 7.3500000000000005,
          "name": "RandomProcess2_1",
          "real_mem": 340336640,
          "time": 1616473999.0591552
         },
         {
          "cpu_percent": 196.5,
          "cpu_time": 7.4,
          "name": "ReadCsvProjectSpace_1",
          "real_mem": 342794240,
          "time": 1616473999.0813787
         },
         {
          "cpu_percent": 0,
          "cpu_time": 7.42,
          "name": "RandomProcess1_1",
          "real_mem": 343089152,
          "time": 1616473999.1032634
         },
         {
          "cpu_percent": 294.7,
          "cpu_time": 7.470000000000001,
          "name": "DropDuplicates_1",
          "real_mem": 343625728,
          "time": 1616473999.1710653
         },
         {
          "cpu_percent": 294.8,
          "cpu_time": 7.57,
          "name": "RandomProcess3_1",
          "real_mem": 348659712,
          "time": 1616473999.269345
         },
         {
          "cpu_percent": 195.3,
          "cpu_time": 7.66,
          "name": "RandomProcess2_1",
          "real_mem": 355102720,
          "time": 1616473999.3719914
         },
         {
          "cpu_percent": 194.6,
          "cpu_time": 7.7,
          "name": "ReadCsvProjectSpace_1",
          "real_mem": 356548608,
          "time": 1616473999.3942835
         },
         {
          "cpu_percent": 196.1,
          "cpu_time": 7.8,
          "name": "DropDuplicates_1",
          "real_mem": 357163008,
          "time": 1616473999.4925313
         },
         {
          "cpu_percent": 193.8,
          "cpu_time": 7.75,
          "name": "RandomProcess1_1",
          "real_mem": 356945920,
          "time": 1616473999.4702907
         },
         {
          "cpu_percent": 291.9,
          "cpu_time": 7.88,
          "name": "RandomProcess3_1",
          "real_mem": 357662720,
          "time": 1616473999.570474
         },
         {
          "cpu_percent": 197.3,
          "cpu_time": 7.97,
          "name": "RandomProcess2_1",
          "real_mem": 358227968,
          "time": 1616473999.6706984
         },
         {
          "cpu_percent": 393.1,
          "cpu_time": 8.030000000000001,
          "name": "ReadCsvProjectSpace_1",
          "real_mem": 361185280,
          "time": 1616473999.7589593
         },
         {
          "cpu_percent": 196.2,
          "cpu_time": 8.07,
          "name": "RandomProcess1_1",
          "real_mem": 362950656,
          "time": 1616473999.7812216
         },
         {
          "cpu_percent": 0,
          "cpu_time": 8.09,
          "name": "DropDuplicates_1",
          "real_mem": 363593728,
          "time": 1616473999.8032203
         },
         {
          "cpu_percent": 197.4,
          "cpu_time": 8.14,
          "name": "RandomProcess3_1",
          "real_mem": 364814336,
          "time": 1616473999.8701737
         },
         {
          "cpu_percent": 98.7,
          "cpu_time": 8.24,
          "name": "RandomProcess2_1",
          "real_mem": 366014464,
          "time": 1616473999.96939
         },
         {
          "cpu_percent": 190.5,
          "cpu_time": 8.34,
          "name": "ReadCsvProjectSpace_1",
          "real_mem": 368668672,
          "time": 1616474000.0710456
         },
         {
          "cpu_percent": 192.5,
          "cpu_time": 8.389999999999999,
          "name": "RandomProcess1_1",
          "real_mem": 369205248,
          "time": 1616474000.1484284
         },
         {
          "cpu_percent": 294.3,
          "cpu_time": 8.44,
          "name": "DropDuplicates_1",
          "real_mem": 371449856,
          "time": 1616474000.170823
         },
         {
          "cpu_percent": 97.7,
          "cpu_time": 8.49,
          "name": "RandomProcess3_1",
          "real_mem": 371949568,
          "time": 1616474000.1932151
         },
         {
          "cpu_percent": 194.2,
          "cpu_time": 8.540000000000001,
          "name": "RandomProcess2_1",
          "real_mem": 372420608,
          "time": 1616474000.2717032
         },
         {
          "cpu_percent": 96.7,
          "cpu_time": 8.610000000000001,
          "name": "ReadCsvProjectSpace_1",
          "real_mem": 373268480,
          "time": 1616474000.3697836
         },
         {
          "cpu_percent": 0,
          "cpu_time": 8.66,
          "name": "RandomProcess1_1",
          "real_mem": 374423552,
          "time": 1616474000.4218535
         },
         {
          "cpu_percent": 0,
          "cpu_time": 8.73,
          "name": "RandomProcess3_1",
          "real_mem": 375218176,
          "time": 1616474000.4922373
         },
         {
          "cpu_percent": 98.3,
          "cpu_time": 8.700000000000001,
          "name": "DropDuplicates_1",
          "real_mem": 374792192,
          "time": 1616474000.4703147
         },
         {
          "cpu_percent": 196.5,
          "cpu_time": 8.81,
          "name": "RandomProcess2_1",
          "real_mem": 376197120,
          "time": 1616474000.5701141
         },
         {
          "cpu_percent": 291.7,
          "cpu_time": 8.91,
          "name": "ReadCsvProjectSpace_1",
          "real_mem": 376512512,
          "time": 1616474000.6697514
         },
         {
          "cpu_percent": 312.09999999999997,
          "cpu_time": 9.02,
          "name": "RandomProcess1_1",
          "real_mem": 377528320,
          "time": 1616474000.7697022
         },
         {
          "cpu_percent": 393.3,
          "cpu_time": 9.13,
          "name": "RandomProcess3_1",
          "real_mem": 377704448,
          "time": 1616474000.8702695
         },
         {
          "cpu_percent": 193.6,
          "cpu_time": 9.06,
          "name": "DropDuplicates_1",
          "real_mem": 377528320,
          "time": 1616474000.7918286
         },
         {
          "cpu_percent": 15.3,
          "cpu_time": 9.16,
          "name": "RandomProcess2_1",
          "real_mem": 377970688,
          "time": 1616474000.9486318
         },
         {
          "cpu_percent": 195.2,
          "cpu_time": 9.21,
          "name": "ReadCsvProjectSpace_1",
          "real_mem": 378105856,
          "time": 1616474000.9717026
         },
         {
          "cpu_percent": 195.4,
          "cpu_time": 9.3,
          "name": "RandomProcess1_1",
          "real_mem": 379580416,
          "time": 1616474001.070638
         },
         {
          "cpu_percent": 196.7,
          "cpu_time": 9.39,
          "name": "DropDuplicates_1",
          "real_mem": 380162048,
          "time": 1616474001.170082
         },
         {
          "cpu_percent": 196.5,
          "cpu_time": 9.44,
          "name": "RandomProcess3_1",
          "real_mem": 380162048,
          "time": 1616474001.1922393
         },
         {
          "cpu_percent": 295,
          "cpu_time": 9.49,
          "name": "RandomProcess2_1",
          "real_mem": 380698624,
          "time": 1616474001.2712884
         },
         {
          "cpu_percent": 98.2,
          "cpu_time": 9.54,
          "name": "ReadCsvProjectSpace_1",
          "real_mem": 380911616,
          "time": 1616474001.2933652
         },
         {
          "cpu_percent": 192.9,
          "cpu_time": 9.6,
          "name": "RandomProcess1_1",
          "real_mem": 381165568,
          "time": 1616474001.3706021
         },
         {
          "cpu_percent": 292.2,
          "cpu_time": 9.69,
          "name": "DropDuplicates_1",
          "real_mem": 381751296,
          "time": 1616474001.4701083
         },
         {
          "cpu_percent": 294.9,
          "cpu_time": 9.74,
          "name": "RandomProcess3_1",
          "real_mem": 383905792,
          "time": 1616474001.4921432
         },
         {
          "cpu_percent": 196.7,
          "cpu_time": 9.78,
          "name": "RandomProcess2_1",
          "real_mem": 385126400,
          "time": 1616474001.5711226
         },
         {
          "cpu_percent": 195.4,
          "cpu_time": 9.83,
          "name": "ReadCsvProjectSpace_1",
          "real_mem": 385495040,
          "time": 1616474001.5933015
         },
         {
          "cpu_percent": 195.5,
          "cpu_time": 9.87,
          "name": "RandomProcess1_1",
          "real_mem": 386195456,
          "time": 1616474001.6708035
         },
         {
          "cpu_percent": 195.9,
          "cpu_time": 9.95,
          "name": "DropDuplicates_1",
          "real_mem": 383827968,
          "time": 1616474001.759038
         },
         {
          "cpu_percent": 196.5,
          "cpu_time": 9.99,
          "name": "RandomProcess3_1",
          "real_mem": 384364544,
          "time": 1616474001.7812254
         },
         {
          "cpu_percent": 197.3,
          "cpu_time": 10.049999999999999,
          "name": "RandomProcess2_1",
          "real_mem": 384917504,
          "time": 1616474001.8696656
         },
         {
          "cpu_percent": 44.7,
          "cpu_time": 10.11,
          "name": "ReadCsvProjectSpace_1",
          "real_mem": 386367488,
          "time": 1616474001.948426
         },
         {
          "cpu_percent": 291.4,
          "cpu_time": 10.16,
          "name": "RandomProcess1_1",
          "real_mem": 386646016,
          "time": 1616474001.971612
         },
         {
          "cpu_percent": 196.6,
          "cpu_time": 10.25,
          "name": "DropDuplicates_1",
          "real_mem": 390823936,
          "time": 1616474002.0695288
         },
         {
          "cpu_percent": 292.7,
          "cpu_time": 10.309999999999999,
          "name": "RandomProcess3_1",
          "real_mem": 390995968,
          "time": 1616474002.0918238
         },
         {
          "cpu_percent": 196,
          "cpu_time": 10.36,
          "name": "RandomProcess2_1",
          "real_mem": 391331840,
          "time": 1616474002.1704137
         },
         {
          "cpu_percent": 196.7,
          "cpu_time": 10.5,
          "name": "RandomProcess1_1",
          "real_mem": 393420800,
          "time": 1616474002.2921472
         },
         {
          "cpu_percent": 196.6,
          "cpu_time": 10.46,
          "name": "ReadCsvProjectSpace_1",
          "real_mem": 391913472,
          "time": 1616474002.270311
         },
         {
          "cpu_percent": 196.6,
          "cpu_time": 10.55,
          "name": "DropDuplicates_1",
          "real_mem": 393932800,
          "time": 1616474002.370194
         },
         {
          "cpu_percent": 196.6,
          "cpu_time": 10.59,
          "name": "RandomProcess3_1",
          "real_mem": 394076160,
          "time": 1616474002.3921523
         },
         {
          "cpu_percent": 196.5,
          "cpu_time": 10.64,
          "name": "RandomProcess2_1",
          "real_mem": 394452992,
          "time": 1616474002.4707837
         },
         {
          "cpu_percent": 196.4,
          "cpu_time": 10.74,
          "name": "ReadCsvProjectSpace_1",
          "real_mem": 395120640,
          "time": 1616474002.572395
         },
         {
          "cpu_percent": 197.9,
          "cpu_time": 10.780000000000001,
          "name": "RandomProcess1_1",
          "real_mem": 395386880,
          "time": 1616474002.5944712
         },
         {
          "cpu_percent": 196.1,
          "cpu_time": 10.84,
          "name": "DropDuplicates_1",
          "real_mem": 395579392,
          "time": 1616474002.67105
         },
         {
          "cpu_percent": 196.2,
          "cpu_time": 10.89,
          "name": "RandomProcess3_1",
          "real_mem": 395579392,
          "time": 1616474002.692812
         },
         {
          "cpu_percent": 294.3,
          "cpu_time": 10.94,
          "name": "RandomProcess2_1",
          "real_mem": 398823424,
          "time": 1616474002.7704022
         },
         {
          "cpu_percent": 195.8,
          "cpu_time": 11.03,
          "name": "ReadCsvProjectSpace_1",
          "real_mem": 399609856,
          "time": 1616474002.8707612
         },
         {
          "cpu_percent": 195.5,
          "cpu_time": 11.08,
          "name": "RandomProcess1_1",
          "real_mem": 400433152,
          "time": 1616474002.8944447
         },
         {
          "cpu_percent": 172.5,
          "cpu_time": 11.13,
          "name": "DropDuplicates_1",
          "real_mem": 400433152,
          "time": 1616474002.972503
         },
         {
          "cpu_percent": 15.5,
          "cpu_time": 11.16,
          "name": "RandomProcess3_1",
          "real_mem": 400699392,
          "time": 1616474003.0484972
         },
         {
          "cpu_percent": 289,
          "cpu_time": 11.22,
          "name": "RandomProcess2_1",
          "real_mem": 400945152,
          "time": 1616474003.070962
         },
         {
          "cpu_percent": 278.9,
          "cpu_time": 11.32,
          "name": "ReadCsvProjectSpace_1",
          "real_mem": 401387520,
          "time": 1616474003.1715577
         },
         {
          "cpu_percent": 196,
          "cpu_time": 11.36,
          "name": "RandomProcess1_1",
          "real_mem": 402001920,
          "time": 1616474003.1938062
         },
         {
          "cpu_percent": 193.7,
          "cpu_time": 11.41,
          "name": "DropDuplicates_1",
          "real_mem": 402186240,
          "time": 1616474003.2711093
         },
         {
          "cpu_percent": 197.1,
          "cpu_time": 11.49,
          "name": "RandomProcess3_1",
          "real_mem": 402911232,
          "time": 1616474003.3700159
         },
         {
          "cpu_percent": 194.8,
          "cpu_time": 11.54,
          "name": "RandomProcess2_1",
          "real_mem": 403066880,
          "time": 1616474003.3920233
         },
         {
          "cpu_percent": 194.3,
          "cpu_time": 11.6,
          "name": "ReadCsvProjectSpace_1",
          "real_mem": 403333120,
          "time": 1616474003.4707284
         },
         {
          "cpu_percent": 293.7,
          "cpu_time": 11.69,
          "name": "RandomProcess1_1",
          "real_mem": 404045824,
          "time": 1616474003.5692177
         },
         {
          "cpu_percent": 195.9,
          "cpu_time": 11.74,
          "name": "DropDuplicates_1",
          "real_mem": 404545536,
          "time": 1616474003.5916157
         },
         {
          "cpu_percent": 98.2,
          "cpu_time": 11.78,
          "name": "RandomProcess3_1",
          "real_mem": 404856832,
          "time": 1616474003.6693285
         },
         {
          "cpu_percent": 196.6,
          "cpu_time": 11.809999999999999,
          "name": "RandomProcess2_1",
          "real_mem": 405278720,
          "time": 1616474003.6913302
         },
         {
          "cpu_percent": 195.4,
          "cpu_time": 11.86,
          "name": "ReadCsvProjectSpace_1",
          "real_mem": 407334912,
          "time": 1616474003.7714276
         },
         {
          "cpu_percent": 98,
          "cpu_time": 11.940000000000001,
          "name": "RandomProcess1_1",
          "real_mem": 407334912,
          "time": 1616474003.859165
         },
         {
          "cpu_percent": 97.6,
          "cpu_time": 11.96,
          "name": "DropDuplicates_1",
          "real_mem": 407334912,
          "time": 1616474003.8816295
         },
         {
          "cpu_percent": 191.7,
          "cpu_time": 12.06,
          "name": "RandomProcess3_1",
          "real_mem": 407711744,
          "time": 1616474003.9596326
         },
         {
          "cpu_percent": 196.2,
          "cpu_time": 12.110000000000001,
          "name": "RandomProcess2_1",
          "real_mem": 408121344,
          "time": 1616474003.9818704
         },
         {
          "cpu_percent": 98.1,
          "cpu_time": 12.15,
          "name": "ReadCsvProjectSpace_1",
          "real_mem": 408473600,
          "time": 1616474004.0700347
         },
         {
          "cpu_percent": 196,
          "cpu_time": 12.270000000000001,
          "name": "RandomProcess1_1",
          "real_mem": 409759744,
          "time": 1616474004.1695893
         },
         {
          "cpu_percent": 196.4,
          "cpu_time": 12.32,
          "name": "DropDuplicates_1",
          "real_mem": 410025984,
          "time": 1616474004.1921318
         },
         {
          "cpu_percent": 196.3,
          "cpu_time": 12.360000000000001,
          "name": "RandomProcess3_1",
          "real_mem": 410120192,
          "time": 1616474004.2707713
         },
         {
          "cpu_percent": 194.9,
          "cpu_time": 12.41,
          "name": "RandomProcess2_1",
          "real_mem": 410456064,
          "time": 1616474004.2931037
         },
         {
          "cpu_percent": 0,
          "cpu_time": 12.43,
          "name": "ReadCsvProjectSpace_1",
          "real_mem": 411021312,
          "time": 1616474004.370494
         },
         {
          "cpu_percent": 196.5,
          "cpu_time": 12.55,
          "name": "RandomProcess1_1",
          "real_mem": 413130752,
          "time": 1616474004.4700112
         },
         {
          "cpu_percent": 98.2,
          "cpu_time": 12.58,
          "name": "DropDuplicates_1",
          "real_mem": 413667328,
          "time": 1616474004.4932098
         },
         {
          "cpu_percent": 98.3,
          "cpu_time": 12.620000000000001,
          "name": "RandomProcess3_1",
          "real_mem": 414625792,
          "time": 1616474004.5693111
         },
         {
          "cpu_percent": 98.1,
          "cpu_time": 12.64,
          "name": "RandomProcess2_1",
          "real_mem": 415248384,
          "time": 1616474004.5914292
         },
         {
          "cpu_percent": 98.1,
          "cpu_time": 12.69,
          "name": "ReadCsvProjectSpace_1",
          "real_mem": 416157696,
          "time": 1616474004.6434464
         },
         {
          "cpu_percent": 0,
          "cpu_time": 12.8,
          "name": "RandomProcess1_1",
          "real_mem": 417554432,
          "time": 1616474004.7432153
         },
         {
          "cpu_percent": 98.3,
          "cpu_time": 12.83,
          "name": "DropDuplicates_1",
          "real_mem": 417820672,
          "time": 1616474004.7702692
         },
         {
          "cpu_percent": 98.1,
          "cpu_time": 12.92,
          "name": "RandomProcess3_1",
          "real_mem": 418877440,
          "time": 1616474004.870072
         },
         {
          "cpu_percent": 98.2,
          "cpu_time": 12.95,
          "name": "RandomProcess2_1",
          "real_mem": 419512320,
          "time": 1616474004.8921547
         },
         {
          "cpu_percent": 166,
          "cpu_time": 12.98,
          "name": "ReadCsvProjectSpace_1",
          "real_mem": 419688448,
          "time": 1616474004.9185662
         },
         {
          "cpu_percent": 23.8,
          "cpu_time": 13.07,
          "name": "RandomProcess1_1",
          "real_mem": 420974592,
          "time": 1616474005.0486622
         },
         {
          "cpu_percent": 196.3,
          "cpu_time": 13.11,
          "name": "DropDuplicates_1",
          "real_mem": 420974592,
          "time": 1616474005.0710588
         },
         {
          "cpu_percent": 0,
          "cpu_time": 13.17,
          "name": "RandomProcess3_1",
          "real_mem": 422191104,
          "time": 1616474005.1432118
         },
         {
          "cpu_percent": 196.5,
          "cpu_time": 13.2,
          "name": "RandomProcess2_1",
          "real_mem": 422457344,
          "time": 1616474005.1700852
         },
         {
          "cpu_percent": 96.5,
          "cpu_time": 13.23,
          "name": "ReadCsvProjectSpace_1",
          "real_mem": 422543360,
          "time": 1616474005.192494
         },
         {
          "cpu_percent": 294.9,
          "cpu_time": 13.629999999999999,
          "name": "RandomProcess1_1",
          "real_mem": 424710144,
          "time": 1616474005.5714424
         },
         {
          "cpu_percent": 0,
          "cpu_time": 13.66,
          "name": "DropDuplicates_1",
          "real_mem": 424837120,
          "time": 1616474005.5938535
         },
         {
          "cpu_percent": 195.9,
          "cpu_time": 13.709999999999999,
          "name": "RandomProcess3_1",
          "real_mem": 425017344,
          "time": 1616474005.6713383
         },
         {
          "cpu_percent": 30.7,
          "cpu_time": 13.76,
          "name": "RandomProcess2_1",
          "real_mem": 425406464,
          "time": 1616474005.7486157
         },
         {
          "cpu_percent": 196.4,
          "cpu_time": 13.799999999999999,
          "name": "ReadCsvProjectSpace_1",
          "real_mem": 425484288,
          "time": 1616474005.7714238
         },
         {
          "cpu_percent": 194.8,
          "cpu_time": 14.12,
          "name": "RandomProcess1_1",
          "real_mem": 428363776,
          "time": 1616474006.0964966
         },
         {
          "cpu_percent": 98.1,
          "cpu_time": 14.18,
          "name": "DropDuplicates_1",
          "real_mem": 428429312,
          "time": 1616474006.170993
         },
         {
          "cpu_percent": 97.4,
          "cpu_time": 14.23,
          "name": "RandomProcess3_1",
          "real_mem": 428630016,
          "time": 1616474006.1941097
         },
         {
          "cpu_percent": 96.2,
          "cpu_time": 14.270000000000001,
          "name": "RandomProcess2_1",
          "real_mem": 428896256,
          "time": 1616474006.2722065
         },
         {
          "cpu_percent": 97.9,
          "cpu_time": 14.31,
          "name": "ReadCsvProjectSpace_1",
          "real_mem": 428929024,
          "time": 1616474006.294576
         },
         {
          "cpu_percent": 0,
          "cpu_time": 14.620000000000001,
          "name": "RandomProcess1_1",
          "real_mem": 425218048,
          "time": 1616474006.6205244
         },
         {
          "cpu_percent": 294.6,
          "cpu_time": 14.72,
          "name": "DropDuplicates_1",
          "real_mem": 425623552,
          "time": 1616474006.6938329
         },
         {
          "cpu_percent": 0,
          "cpu_time": 14.73,
          "name": "RandomProcess3_1",
          "real_mem": 425623552,
          "time": 1616474006.716654
         },
         {
          "cpu_percent": 0,
          "cpu_time": 14.82,
          "name": "RandomProcess2_1",
          "real_mem": 425889792,
          "time": 1616474006.8011131
         },
         {
          "cpu_percent": 97.6,
          "cpu_time": 14.860000000000001,
          "name": "ReadCsvProjectSpace_1",
          "real_mem": 426426368,
          "time": 1616474006.869951
         },
         {
          "cpu_percent": 195.9,
          "cpu_time": 15.15,
          "name": "RandomProcess1_1",
          "real_mem": 428290048,
          "time": 1616474007.1704571
         },
         {
          "cpu_percent": 194.1,
          "cpu_time": 15.21,
          "name": "DropDuplicates_1",
          "real_mem": 428642304,
          "time": 1616474007.2167716
         },
         {
          "cpu_percent": 196.8,
          "cpu_time": 15.25,
          "name": "RandomProcess3_1",
          "real_mem": 429002752,
          "time": 1616474007.2703853
         },
         {
          "cpu_percent": 197.2,
          "cpu_time": 15.34,
          "name": "RandomProcess2_1",
          "real_mem": 429080576,
          "time": 1616474007.369816
         },
         {
          "cpu_percent": 195.6,
          "cpu_time": 15.39,
          "name": "ReadCsvProjectSpace_1",
          "real_mem": 429137920,
          "time": 1616474007.3922083
         },
         {
          "cpu_percent": 193.7,
          "cpu_time": 15.68,
          "name": "RandomProcess1_1",
          "real_mem": 431034368,
          "time": 1616474007.69359
         },
         {
          "cpu_percent": 295,
          "cpu_time": 15.74,
          "name": "DropDuplicates_1",
          "real_mem": 431034368,
          "time": 1616474007.7705786
         },
         {
          "cpu_percent": 196.3,
          "cpu_time": 15.78,
          "name": "RandomProcess3_1",
          "real_mem": 431378432,
          "time": 1616474007.7925973
         },
         {
          "cpu_percent": 0,
          "cpu_time": 15.88,
          "name": "RandomProcess2_1",
          "real_mem": 431726592,
          "time": 1616474007.9486787
         },
         {
          "cpu_percent": 293.8,
          "cpu_time": 15.93,
          "name": "ReadCsvProjectSpace_1",
          "real_mem": 431775744,
          "time": 1616474007.9710093
         },
         {
          "cpu_percent": 97.8,
          "cpu_time": 16.16,
          "name": "RandomProcess1_1",
          "real_mem": 433741824,
          "time": 1616474008.2162957
         },
         {
          "cpu_percent": 196.7,
          "cpu_time": 16.240000000000002,
          "name": "DropDuplicates_1",
          "real_mem": 434151424,
          "time": 1616474008.293248
         },
         {
          "cpu_percent": 98.2,
          "cpu_time": 16.27,
          "name": "RandomProcess3_1",
          "real_mem": 434233344,
          "time": 1616474008.31547
         },
         {
          "cpu_percent": 196.8,
          "cpu_time": 16.41,
          "name": "RandomProcess2_1",
          "real_mem": 434786304,
          "time": 1616474008.4719474
         },
         {
          "cpu_percent": 171.7,
          "cpu_time": 16.45,
          "name": "ReadCsvProjectSpace_1",
          "real_mem": 434847744,
          "time": 1616474008.4965596
         },
         {
          "cpu_percent": 97.7,
          "cpu_time": 16.650000000000002,
          "name": "RandomProcess1_1",
          "real_mem": 436183040,
          "time": 1616474008.7389908
         },
         {
          "cpu_percent": 0,
          "cpu_time": 16.75,
          "name": "DropDuplicates_1",
          "real_mem": 436678656,
          "time": 1616474008.8175519
         },
         {
          "cpu_percent": 98.3,
          "cpu_time": 16.78,
          "name": "RandomProcess3_1",
          "real_mem": 437145600,
          "time": 1616474008.8712184
         },
         {
          "cpu_percent": 292.2,
          "cpu_time": 17,
          "name": "ReadCsvProjectSpace_1",
          "real_mem": 438366208,
          "time": 1616474009.0709157
         },
         {
          "cpu_percent": 15.5,
          "cpu_time": 16.95,
          "name": "RandomProcess2_1",
          "real_mem": 438161408,
          "time": 1616474009.0486376
         },
         {
          "cpu_percent": 196.9,
          "cpu_time": 17.16,
          "name": "RandomProcess1_1",
          "real_mem": 440274944,
          "time": 1616474009.2702527
         },
         {
          "cpu_percent": 191.7,
          "cpu_time": 17.27,
          "name": "DropDuplicates_1",
          "real_mem": 440954880,
          "time": 1616474009.3699312
         },
         {
          "cpu_percent": 197,
          "cpu_time": 17.310000000000002,
          "name": "RandomProcess3_1",
          "real_mem": 441311232,
          "time": 1616474009.3941712
         },
         {
          "cpu_percent": 195,
          "cpu_time": 17.459999999999997,
          "name": "RandomProcess2_1",
          "real_mem": 442503168,
          "time": 1616474009.5719507
         },
         {
          "cpu_percent": 196.9,
          "cpu_time": 17.509999999999998,
          "name": "ReadCsvProjectSpace_1",
          "real_mem": 442761216,
          "time": 1616474009.5938222
         },
         {
          "cpu_percent": 30.8,
          "cpu_time": 17.73,
          "name": "RandomProcess1_1",
          "real_mem": 443916288,
          "time": 1616474009.848723
         },
         {
          "cpu_percent": 197.2,
          "cpu_time": 17.8,
          "name": "DropDuplicates_1",
          "real_mem": 444289024,
          "time": 1616474009.8927088
         },
         {
          "cpu_percent": 294,
          "cpu_time": 17.84,
          "name": "RandomProcess3_1",
          "real_mem": 445157376,
          "time": 1616474009.9591095
         },
         {
          "cpu_percent": 293,
          "cpu_time": 18.01,
          "name": "RandomProcess2_1",
          "real_mem": 445833216,
          "time": 1616474010.0961187
         },
         {
          "cpu_percent": 294.6,
          "cpu_time": 18.069999999999997,
          "name": "ReadCsvProjectSpace_1",
          "real_mem": 446062592,
          "time": 1616474010.171224
         },
         {
          "cpu_percent": 296,
          "cpu_time": 18.25,
          "name": "RandomProcess1_1",
          "real_mem": 446869504,
          "time": 1616474010.3713527
         },
         {
          "cpu_percent": 0,
          "cpu_time": 18.299999999999997,
          "name": "DropDuplicates_1",
          "real_mem": 447299584,
          "time": 1616474010.4158902
         },
         {
          "cpu_percent": 293.9,
          "cpu_time": 18.369999999999997,
          "name": "RandomProcess3_1",
          "real_mem": 447950848,
          "time": 1616474010.4813647
         },
         {
          "cpu_percent": 195.8,
          "cpu_time": 18.529999999999998,
          "name": "RandomProcess2_1",
          "real_mem": 449503232,
          "time": 1616474010.6697595
         },
         {
          "cpu_percent": 196.9,
          "cpu_time": 18.59,
          "name": "ReadCsvProjectSpace_1",
          "real_mem": 449503232,
          "time": 1616474010.748529
         },
         {
          "cpu_percent": 195.6,
          "cpu_time": 18.78,
          "name": "RandomProcess1_1",
          "real_mem": 450621440,
          "time": 1616474010.8944294
         },
         {
          "cpu_percent": 393,
          "cpu_time": 18.85,
          "name": "DropDuplicates_1",
          "real_mem": 450760704,
          "time": 1616474010.970561
         },
         {
          "cpu_percent": 0,
          "cpu_time": 18.900000000000002,
          "name": "RandomProcess3_1",
          "real_mem": 451727360,
          "time": 1616474011.0699658
         },
         {
          "cpu_percent": 196.6,
          "cpu_time": 19.05,
          "name": "RandomProcess2_1",
          "real_mem": 452243456,
          "time": 1616474011.1926782
         },
         {
          "cpu_percent": 96.5,
          "cpu_time": 19.11,
          "name": "ReadCsvProjectSpace_1",
          "real_mem": 452562944,
          "time": 1616474011.272025
         },
         {
          "cpu_percent": 98.2,
          "cpu_time": 19.259999999999998,
          "name": "RandomProcess1_1",
          "real_mem": 454459392,
          "time": 1616474011.4178715
         },
         {
          "cpu_percent": 30.8,
          "cpu_time": 19.36,
          "name": "DropDuplicates_1",
          "real_mem": 454979584,
          "time": 1616474011.5485315
         },
         {
          "cpu_percent": 196.4,
          "cpu_time": 19.46,
          "name": "RandomProcess3_1",
          "real_mem": 456105984,
          "time": 1616474011.5924664
         },
         {
          "cpu_percent": 294.5,
          "cpu_time": 19.62,
          "name": "RandomProcess2_1",
          "real_mem": 457740288,
          "time": 1616474011.7703285
         },
         {
          "cpu_percent": 0,
          "cpu_time": 19.650000000000002,
          "name": "ReadCsvProjectSpace_1",
          "real_mem": 458010624,
          "time": 1616474011.7944195
         },
         {
          "cpu_percent": 287.9,
          "cpu_time": 19.810000000000002,
          "name": "RandomProcess1_1",
          "real_mem": 459145216,
          "time": 1616474011.9702072
         },
         {
          "cpu_percent": 197.1,
          "cpu_time": 19.87,
          "name": "DropDuplicates_1",
          "real_mem": 459866112,
          "time": 1616474012.0708547
         },
         {
          "cpu_percent": 98.2,
          "cpu_time": 19.93,
          "name": "RandomProcess3_1",
          "real_mem": 460353536,
          "time": 1616474012.1155849
         },
         {
          "cpu_percent": 15.5,
          "cpu_time": 20.14,
          "name": "RandomProcess2_1",
          "real_mem": 461357056,
          "time": 1616474012.3486245
         },
         {
          "cpu_percent": 196.5,
          "cpu_time": 20.18,
          "name": "ReadCsvProjectSpace_1",
          "real_mem": 462561280,
          "time": 1616474012.370738
         },
         {
          "cpu_percent": 98,
          "cpu_time": 20.32,
          "name": "RandomProcess1_1",
          "real_mem": 463319040,
          "time": 1616474012.493037
         },
         {
          "cpu_percent": 196.2,
          "cpu_time": 20.43,
          "name": "DropDuplicates_1",
          "real_mem": 464171008,
          "time": 1616474012.594409
         },
         {
          "cpu_percent": 196,
          "cpu_time": 20.48,
          "name": "RandomProcess3_1",
          "real_mem": 464687104,
          "time": 1616474012.6716137
         },
         {
          "cpu_percent": 290.6,
          "cpu_time": 20.71,
          "name": "ReadCsvProjectSpace_1",
          "real_mem": 467406848,
          "time": 1616474012.8938017
         },
         {
          "cpu_percent": 195.1,
          "cpu_time": 20.67,
          "name": "RandomProcess2_1",
          "real_mem": 466362368,
          "time": 1616474012.8715553
         },
         {
          "cpu_percent": 98.4,
          "cpu_time": 20.86,
          "name": "RandomProcess1_1",
          "real_mem": 468639744,
          "time": 1616474013.069728
         },
         {
          "cpu_percent": 196.6,
          "cpu_time": 20.97,
          "name": "DropDuplicates_1",
          "real_mem": 468869120,
          "time": 1616474013.1694934
         },
         {
          "cpu_percent": 98.2,
          "cpu_time": 21.01,
          "name": "RandomProcess3_1",
          "real_mem": 468975616,
          "time": 1616474013.1941235
         },
         {
          "cpu_percent": 98.2,
          "cpu_time": 21.15,
          "name": "RandomProcess2_1",
          "real_mem": 468975616,
          "time": 1616474013.3942986
         },
         {
          "cpu_percent": 193.7,
          "cpu_time": 21.19,
          "name": "ReadCsvProjectSpace_1",
          "real_mem": 469499904,
          "time": 1616474013.41665
         },
         {
          "cpu_percent": 0,
          "cpu_time": 21.38,
          "name": "RandomProcess1_1",
          "real_mem": 470634496,
          "time": 1616474013.5945854
         },
         {
          "cpu_percent": 195.7,
          "cpu_time": 21.490000000000002,
          "name": "DropDuplicates_1",
          "real_mem": 470978560,
          "time": 1616474013.6923118
         },
         {
          "cpu_percent": 196.1,
          "cpu_time": 21.549999999999997,
          "name": "RandomProcess3_1",
          "real_mem": 471367680,
          "time": 1616474013.7710729
         },
         {
          "cpu_percent": 98,
          "cpu_time": 21.72,
          "name": "RandomProcess2_1",
          "real_mem": 471408640,
          "time": 1616474013.970183
         },
         {
          "cpu_percent": 195.2,
          "cpu_time": 21.759999999999998,
          "name": "ReadCsvProjectSpace_1",
          "real_mem": 471408640,
          "time": 1616474013.992265
         },
         {
          "cpu_percent": 196.3,
          "cpu_time": 21.919999999999998,
          "name": "RandomProcess1_1",
          "real_mem": 471564288,
          "time": 1616474014.1700244
         },
         {
          "cpu_percent": 197.1,
          "cpu_time": 21.99,
          "name": "DropDuplicates_1",
          "real_mem": 471867392,
          "time": 1616474014.2591553
         },
         {
          "cpu_percent": 196.7,
          "cpu_time": 22.05,
          "name": "RandomProcess3_1",
          "real_mem": 471867392,
          "time": 1616474014.2934372
         },
         {
          "cpu_percent": 14.9,
          "cpu_time": 22.270000000000003,
          "name": "RandomProcess2_1",
          "real_mem": 472412160,
          "time": 1616474014.550444
         },
         {
          "cpu_percent": 0,
          "cpu_time": 22.35,
          "name": "ReadCsvProjectSpace_1",
          "real_mem": 472948736,
          "time": 1616474014.6073372
         },
         {
          "cpu_percent": 13.3,
          "cpu_time": 22.62,
          "name": "DropDuplicates_1",
          "real_mem": 473632768,
          "time": 1616474014.9488063
         },
         {
          "cpu_percent": 389.5,
          "cpu_time": 22.7,
          "name": "RandomProcess3_1",
          "real_mem": 474443776,
          "time": 1616474014.9715645
         },
         {
          "cpu_percent": 297.09999999999997,
          "cpu_time": 22.57,
          "name": "RandomProcess1_1",
          "real_mem": 473632768,
          "time": 1616474014.860824
         },
         {
          "cpu_percent": 0,
          "cpu_time": 22.8,
          "name": "RandomProcess2_1",
          "real_mem": 475033600,
          "time": 1616474015.149836
         },
         {
          "cpu_percent": 13.4,
          "cpu_time": 23.090000000000003,
          "name": "RandomProcess1_1",
          "real_mem": 476184576,
          "time": 1616474015.4486609
         },
         {
          "cpu_percent": 57.6,
          "cpu_time": 23.18,
          "name": "DropDuplicates_1",
          "real_mem": 478031872,
          "time": 1616474015.548381
         },
         {
          "cpu_percent": 197.1,
          "cpu_time": 23.259999999999998,
          "name": "RandomProcess3_1",
          "real_mem": 480329728,
          "time": 1616474015.5703614
         },
         {
          "cpu_percent": 47.2,
          "cpu_time": 23.37,
          "name": "RandomProcess2_1",
          "real_mem": 480808960,
          "time": 1616474015.74845
         },
         {
          "cpu_percent": 196.9,
          "cpu_time": 23.66,
          "name": "RandomProcess1_1",
          "real_mem": 486293504,
          "time": 1616474016.0487375
         },
         {
          "cpu_percent": 295.4,
          "cpu_time": 23.740000000000002,
          "name": "DropDuplicates_1",
          "real_mem": 494268416,
          "time": 1616474016.0710714
         },
         {
          "cpu_percent": 97.2,
          "cpu_time": 23.76,
          "name": "RandomProcess3_1",
          "real_mem": 502378496,
          "time": 1616474016.1590123
         },
         {
          "cpu_percent": 392.9,
          "cpu_time": 23.93,
          "name": "RandomProcess2_1",
          "real_mem": 518868992,
          "time": 1616474016.2722938
         },
         {
          "cpu_percent": 490.1,
          "cpu_time": 24.74,
          "name": "RandomProcess1_1",
          "real_mem": 520527872,
          "time": 1616474017.0732627
         },
         {
          "cpu_percent": 491.8,
          "cpu_time": 24.88,
          "name": "RandomProcess3_1",
          "real_mem": 521089024,
          "time": 1616474017.2592695
         },
         {
          "cpu_percent": 294.8,
          "cpu_time": 24.82,
          "name": "DropDuplicates_1",
          "real_mem": 520962048,
          "time": 1616474017.170829
         },
         {
          "cpu_percent": 56.6,
          "cpu_time": 25.02,
          "name": "RandomProcess2_1",
          "real_mem": 521543680,
          "time": 1616474017.4485893
         },
         {
          "cpu_percent": 0,
          "cpu_time": 25.86,
          "name": "RandomProcess3_1",
          "real_mem": 524206080,
          "time": 1616474018.2941666
         },
         {
          "cpu_percent": 394.5,
          "cpu_time": 26.04,
          "name": "RandomProcess2_1",
          "real_mem": 524623872,
          "time": 1616474018.4709492
         },
         {
          "cpu_percent": 0,
          "cpu_time": 26.94,
          "name": "RandomProcess3_1",
          "real_mem": 526725120,
          "time": 1616474019.392407
         },
         {
          "cpu_percent": 295.2,
          "cpu_time": 27.1,
          "name": "RandomProcess2_1",
          "real_mem": 527536128,
          "time": 1616474019.5708945
         },
         {
          "cpu_percent": 14.9,
          "cpu_time": 28.01,
          "name": "RandomProcess3_1",
          "real_mem": 531529728,
          "time": 1616474020.5485334
         },
         {
          "cpu_percent": 491.2,
          "cpu_time": 28.14,
          "name": "RandomProcess2_1",
          "real_mem": 532131840,
          "time": 1616474020.6590655
         },
         {
          "cpu_percent": 393.3,
          "cpu_time": 29.06,
          "name": "RandomProcess3_1",
          "real_mem": 562626560,
          "time": 1616474021.5718606
         },
         {
          "cpu_percent": 293.7,
          "cpu_time": 29.16,
          "name": "RandomProcess2_1",
          "real_mem": 580050944,
          "time": 1616474021.682827
         },
         {
          "cpu_percent": 489.29999999999995,
          "cpu_time": 30.14,
          "name": "RandomProcess3_1",
          "real_mem": 606089216,
          "time": 1616474022.6713378
         },
         {
          "cpu_percent": 293.6,
          "cpu_time": 30.220000000000002,
          "name": "RandomProcess2_1",
          "real_mem": 606195712,
          "time": 1616474022.770808
         },
         {
          "cpu_percent": 0,
          "cpu_time": 31.12,
          "name": "RandomProcess3_1",
          "real_mem": 615800832,
          "time": 1616474023.6944885
         },
         {
          "cpu_percent": 0,
          "cpu_time": 31.220000000000002,
          "name": "RandomProcess2_1",
          "real_mem": 616673280,
          "time": 1616474023.7941644
         },
         {
          "cpu_percent": 196.5,
          "cpu_time": 32.160000000000004,
          "name": "RandomProcess3_1",
          "real_mem": 617525248,
          "time": 1616474024.7700179
         },
         {
          "cpu_percent": 291.6,
          "cpu_time": 32.27,
          "name": "RandomProcess2_1",
          "real_mem": 617656320,
          "time": 1616474024.8710656
         },
         {
          "cpu_percent": 391,
          "cpu_time": 33.21,
          "name": "RandomProcess3_1",
          "real_mem": 618856448,
          "time": 1616474025.8593512
         },
         {
          "cpu_percent": 393.4,
          "cpu_time": 33.31,
          "name": "RandomProcess2_1",
          "real_mem": 620478464,
          "time": 1616474025.9694579
         },
         {
          "cpu_percent": 26.3,
          "cpu_time": 34.22,
          "name": "RandomProcess3_1",
          "real_mem": 622133248,
          "time": 1616474026.948621
         },
         {
          "cpu_percent": 0,
          "cpu_time": 34.32,
          "name": "RandomProcess2_1",
          "real_mem": 622428160,
          "time": 1616474026.992576
         },
         {
          "cpu_percent": 294.6,
          "cpu_time": 35.300000000000004,
          "name": "RandomProcess3_1",
          "real_mem": 623112192,
          "time": 1616474027.9723825
         },
         {
          "cpu_percent": 387.2,
          "cpu_time": 35.38,
          "name": "RandomProcess2_1",
          "real_mem": 623247360,
          "time": 1616474028.0708644
         },
         {
          "cpu_percent": 0,
          "cpu_time": 36.28,
          "name": "RandomProcess3_1",
          "real_mem": 625123328,
          "time": 1616474028.995785
         },
         {
          "cpu_percent": 44.7,
          "cpu_time": 36.47,
          "name": "RandomProcess2_1",
          "real_mem": 625123328,
          "time": 1616474029.2488363
         },
         {
          "cpu_percent": 294.8,
          "cpu_time": 37.309999999999995,
          "name": "RandomProcess3_1",
          "real_mem": 626171904,
          "time": 1616474030.0701625
         },
         {
          "cpu_percent": 289.3,
          "cpu_time": 37.51,
          "name": "RandomProcess2_1",
          "real_mem": 626311168,
          "time": 1616474030.2721658
         },
         {
          "cpu_percent": 0,
          "cpu_time": 38.309999999999995,
          "name": "RandomProcess3_1",
          "real_mem": 628097024,
          "time": 1616474031.0942981
         },
         {
          "cpu_percent": 15.6,
          "cpu_time": 38.52,
          "name": "RandomProcess2_1",
          "real_mem": 628137984,
          "time": 1616474031.3497443
         },
         {
          "cpu_percent": 295,
          "cpu_time": 39.38,
          "name": "RandomProcess3_1",
          "real_mem": 628965376,
          "time": 1616474032.1792037
         },
         {
          "cpu_percent": 295,
          "cpu_time": 39.559999999999995,
          "name": "RandomProcess2_1",
          "real_mem": 629051392,
          "time": 1616474032.373201
         },
         {
          "cpu_percent": 293.4,
          "cpu_time": 40.42,
          "name": "RandomProcess3_1",
          "real_mem": 631185408,
          "time": 1616474033.2714922
         },
         {
          "cpu_percent": 293.9,
          "cpu_time": 40.64,
          "name": "RandomProcess2_1",
          "real_mem": 631357440,
          "time": 1616474033.4701757
         },
         {
          "cpu_percent": 0,
          "cpu_time": 41.41,
          "name": "RandomProcess3_1",
          "real_mem": 652402688,
          "time": 1616474034.2951
         },
         {
          "cpu_percent": 196.4,
          "cpu_time": 42.42999999999999,
          "name": "RandomProcess3_1",
          "real_mem": 684654592,
          "time": 1616474035.3808527
         },
         {
          "cpu_percent": 392.4,
          "cpu_time": 43.529999999999994,
          "name": "RandomProcess3_1",
          "real_mem": 734261248,
          "time": 1616474036.5591846
         },
         {
          "cpu_percent": 0,
          "cpu_time": 44.599999999999994,
          "name": "RandomProcess3_1",
          "real_mem": 803635200,
          "time": 1616474037.614008
         },
         {
          "cpu_percent": 195.8,
          "cpu_time": 45.66,
          "name": "RandomProcess3_1",
          "real_mem": 804528128,
          "time": 1616474038.7593124
         },
         {
          "cpu_percent": 294.8,
          "cpu_time": 46.74,
          "name": "RandomProcess3_1",
          "real_mem": 834957312,
          "time": 1616474039.859914
         },
         {
          "cpu_percent": 197,
          "cpu_time": 47.800000000000004,
          "name": "RandomProcess3_1",
          "real_mem": 836173824,
          "time": 1616474040.9484737
         },
         {
          "cpu_percent": 0,
          "cpu_time": 48.41,
          "name": "RandomProcess3_1",
          "real_mem": 840368128,
          "time": 1616474042.080123
         },
         {
          "cpu_percent": 290.9,
          "cpu_time": 49.54,
          "name": "RandomProcess3_1",
          "real_mem": 842199040,
          "time": 1616474043.2591162
         },
         {
          "cpu_percent": 197.1,
          "cpu_time": 50.61,
          "name": "RandomProcess3_1",
          "real_mem": 843096064,
          "time": 1616474044.3705204
         },
         {
          "cpu_percent": 196,
          "cpu_time": 51.71,
          "name": "RandomProcess3_1",
          "real_mem": 848678912,
          "time": 1616474045.4693997
         },
         {
          "cpu_percent": 98,
          "cpu_time": 52.730000000000004,
          "name": "RandomProcess3_1",
          "real_mem": 849846272,
          "time": 1616474046.525389
         },
         {
          "cpu_percent": 195.5,
          "cpu_time": 53.769999999999996,
          "name": "RandomProcess3_1",
          "real_mem": 851030016,
          "time": 1616474047.6591637
         },
         {
          "cpu_percent": 98.2,
          "cpu_time": 54.85,
          "name": "RandomProcess3_1",
          "real_mem": 869199872,
          "time": 1616474048.7495067
         },
         {
          "cpu_percent": 0,
          "cpu_time": 0.01,
          "name": "NonSparkPath_1",
          "real_mem": 155516928,
          "time": 1616473990.6959486
         },
         {
          "cpu_percent": 0,
          "cpu_time": 0.03,
          "name": "NonSparkPath_1",
          "real_mem": 155631616,
          "time": 1616473990.8088682
         },
         {
          "cpu_percent": 0,
          "cpu_time": 0.05,
          "name": "NonSparkPath_1",
          "real_mem": 156102656,
          "time": 1616473990.922214
         },
         {
          "cpu_percent": 0,
          "cpu_time": 0,
          "name": "RandomProcess1_1",
          "real_mem": 155844608,
          "time": 1616473990.9432344
         },
         {
          "cpu_percent": 0,
          "cpu_time": 0.02,
          "name": "DropDuplicates_1",
          "real_mem": 155856896,
          "time": 1616473990.9661694
         },
         {
          "cpu_percent": 0,
          "cpu_time": 0.02,
          "name": "RandomProcess2_1",
          "real_mem": 156123136,
          "time": 1616473990.9945383
         },
         {
          "cpu_percent": 0,
          "cpu_time": 0.03,
          "name": "ReadCsvProjectSpace_1",
          "real_mem": 156246016,
          "time": 1616473991.0079117
         },
         {
          "cpu_percent": 0,
          "cpu_time": 0.02,
          "name": "RandomProcess3_1",
          "real_mem": 155979776,
          "time": 1616473990.980282
         },
         {
          "cpu_percent": 0,
          "cpu_time": 0.06,
          "name": "NonSparkPath_1",
          "real_mem": 156327936,
          "time": 1616473991.0345423
         },
         {
          "cpu_percent": 196.6,
          "cpu_time": 0.08,
          "name": "RandomProcess1_1",
          "real_mem": 160858112,
          "time": 1616473991.0707674
         },
         {
          "cpu_percent": 0,
          "cpu_time": 0.08,
          "name": "DropDuplicates_1",
          "real_mem": 163020800,
          "time": 1616473991.1042917
         },
         {
          "cpu_percent": 97.3,
          "cpu_time": 0.13,
          "name": "RandomProcess3_1",
          "real_mem": 184791040,
          "time": 1616473991.1591318
         },
         {
          "cpu_percent": 196.6,
          "cpu_time": 0.21000000000000002,
          "name": "RandomProcess2_1",
          "real_mem": 193347584,
          "time": 1616473991.2025187
         },
         {
          "cpu_percent": 0,
          "cpu_time": 0.23000000000000004,
          "name": "ReadCsvProjectSpace_1",
          "real_mem": 196059136,
          "time": 1616473991.2591977
         },
         {
          "cpu_percent": 98.2,
          "cpu_time": 0.29000000000000004,
          "name": "RandomProcess1_1",
          "real_mem": 203345920,
          "time": 1616473991.3027067
         },
         {
          "cpu_percent": 196.6,
          "cpu_time": 0.35000000000000003,
          "name": "DropDuplicates_1",
          "real_mem": 212070400,
          "time": 1616473991.3701525
         },
         {
          "cpu_percent": 0,
          "cpu_time": 0.12,
          "name": "RandomProcess2_1",
          "real_mem": 169185280,
          "time": 1616473991.424881
         },
         {
          "cpu_percent": 0,
          "cpu_time": 0.1,
          "name": "RandomProcess3_1",
          "real_mem": 160866304,
          "time": 1616473991.4028103
         },
         {
          "cpu_percent": 98.2,
          "cpu_time": 0.14,
          "name": "ReadCsvProjectSpace_1",
          "real_mem": 176676864,
          "time": 1616473991.470078
         },
         {
          "cpu_percent": 197,
          "cpu_time": 0.16999999999999998,
          "name": "RandomProcess1_1",
          "real_mem": 178663424,
          "time": 1616473991.4918046
         },
         {
          "cpu_percent": 0,
          "cpu_time": 0.18,
          "name": "DropDuplicates_1",
          "real_mem": 179265536,
          "time": 1616473991.5143838
         },
         {
          "cpu_percent": 196.7,
          "cpu_time": 0.22,
          "name": "RandomProcess3_1",
          "real_mem": 181600256,
          "time": 1616473991.559179
         },
         {
          "cpu_percent": 98.6,
          "cpu_time": 0.26,
          "name": "RandomProcess2_1",
          "real_mem": 188002304,
          "time": 1616473991.5817745
         },
         {
          "cpu_percent": 97.4,
          "cpu_time": 0.31,
          "name": "ReadCsvProjectSpace_1",
          "real_mem": 193765376,
          "time": 1616473991.6057324
         },
         {
          "cpu_percent": 196.3,
          "cpu_time": 0.33999999999999997,
          "name": "RandomProcess1_1",
          "real_mem": 198475776,
          "time": 1616473991.6712642
         },
         {
          "cpu_percent": 196.3,
          "cpu_time": 0.38,
          "name": "DropDuplicates_1",
          "real_mem": 206303232,
          "time": 1616473991.694201
         },
         {
          "cpu_percent": 0,
          "cpu_time": 0.38,
          "name": "RandomProcess3_1",
          "real_mem": 206819328,
          "time": 1616473991.7183495
         },
         {
          "cpu_percent": 0,
          "cpu_time": 0.39,
          "name": "RandomProcess2_1",
          "real_mem": 206819328,
          "time": 1616473991.740402
         },
         {
          "cpu_percent": 294.7,
          "cpu_time": 0.45,
          "name": "ReadCsvProjectSpace_1",
          "real_mem": 211431424,
          "time": 1616473991.7706604
         },
         {
          "cpu_percent": 98.1,
          "cpu_time": 0.49,
          "name": "RandomProcess1_1",
          "real_mem": 213590016,
          "time": 1616473991.7942388
         },
         {
          "cpu_percent": 293.6,
          "cpu_time": 0.53,
          "name": "DropDuplicates_1",
          "real_mem": 215556096,
          "time": 1616473991.8704374
         },
         {
          "cpu_percent": 196.3,
          "cpu_time": 0.5700000000000001,
          "name": "RandomProcess3_1",
          "real_mem": 220561408,
          "time": 1616473991.893445
         },
         {
          "cpu_percent": 98.6,
          "cpu_time": 0.61,
          "name": "RandomProcess2_1",
          "real_mem": 222859264,
          "time": 1616473991.9702308
         },
         {
          "cpu_percent": 196.4,
          "cpu_time": 0.66,
          "name": "ReadCsvProjectSpace_1",
          "real_mem": 225021952,
          "time": 1616473991.9922605
         },
         {
          "cpu_percent": 22.6,
          "cpu_time": 0.68,
          "name": "RandomProcess1_1",
          "real_mem": 227192832,
          "time": 1616473992.0484118
         },
         {
          "cpu_percent": 193.2,
          "cpu_time": 0.71,
          "name": "DropDuplicates_1",
          "real_mem": 231104512,
          "time": 1616473992.071025
         },
         {
          "cpu_percent": 0,
          "cpu_time": 0.73,
          "name": "RandomProcess3_1",
          "real_mem": 237322240,
          "time": 1616473992.093229
         },
         {
          "cpu_percent": 196.1,
          "cpu_time": 0.76,
          "name": "RandomProcess2_1",
          "real_mem": 240574464,
          "time": 1616473992.1155255
         },
         {
          "cpu_percent": 0,
          "cpu_time": 0.77,
          "name": "ReadCsvProjectSpace_1",
          "real_mem": 240574464,
          "time": 1616473992.1379626
         },
         {
          "cpu_percent": 98.7,
          "cpu_time": 0.8,
          "name": "RandomProcess1_1",
          "real_mem": 242413568,
          "time": 1616473992.1727197
         },
         {
          "cpu_percent": 292.6,
          "cpu_time": 0.85,
          "name": "DropDuplicates_1",
          "real_mem": 243224576,
          "time": 1616473992.1946564
         },
         {
          "cpu_percent": 0,
          "cpu_time": 0.88,
          "name": "RandomProcess3_1",
          "real_mem": 243494912,
          "time": 1616473992.217094
         },
         {
          "cpu_percent": 196.6,
          "cpu_time": 0.92,
          "name": "RandomProcess2_1",
          "real_mem": 245379072,
          "time": 1616473992.2706604
         },
         {
          "cpu_percent": 95.6,
          "cpu_time": 0.9500000000000001,
          "name": "ReadCsvProjectSpace_1",
          "real_mem": 247832576,
          "time": 1616473992.2931094
         },
         {
          "cpu_percent": 196.3,
          "cpu_time": 1,
          "name": "RandomProcess1_1",
          "real_mem": 252403712,
          "time": 1616473992.3698306
         },
         {
          "cpu_percent": 97.3,
          "cpu_time": 1.03,
          "name": "DropDuplicates_1",
          "real_mem": 252940288,
          "time": 1616473992.3924794
         },
         {
          "cpu_percent": 98.8,
          "cpu_time": 1.05,
          "name": "RandomProcess3_1",
          "real_mem": 253288448,
          "time": 1616473992.4145184
         },
         {
          "cpu_percent": 98.4,
          "cpu_time": 1.06,
          "name": "ReadCsvProjectSpace_1",
          "real_mem": 253288448,
          "time": 1616473992.458405
         },
         {
          "cpu_percent": 0,
          "cpu_time": 1.05,
          "name": "RandomProcess2_1",
          "real_mem": 253288448,
          "time": 1616473992.436709
         },
         {
          "cpu_percent": 98.4,
          "cpu_time": 1.1099999999999999,
          "name": "RandomProcess1_1",
          "real_mem": 253947904,
          "time": 1616473992.4927926
         },
         {
          "cpu_percent": 196.3,
          "cpu_time": 1.14,
          "name": "DropDuplicates_1",
          "real_mem": 254259200,
          "time": 1616473992.5149822
         },
         {
          "cpu_percent": 0,
          "cpu_time": 1.15,
          "name": "RandomProcess3_1",
          "real_mem": 254259200,
          "time": 1616473992.537347
         },
         {
          "cpu_percent": 97.8,
          "cpu_time": 1.19,
          "name": "RandomProcess2_1",
          "real_mem": 254521344,
          "time": 1616473992.5702844
         },
         {
          "cpu_percent": 98.3,
          "cpu_time": 1.22,
          "name": "ReadCsvProjectSpace_1",
          "real_mem": 255053824,
          "time": 1616473992.5936344
         },
         {
          "cpu_percent": 0,
          "cpu_time": 1.23,
          "name": "RandomProcess1_1",
          "real_mem": 255225856,
          "time": 1616473992.6485605
         },
         {
          "cpu_percent": 196.6,
          "cpu_time": 1.3399999999999999,
          "name": "RandomProcess3_1",
          "real_mem": 256905216,
          "time": 1616473992.6946697
         },
         {
          "cpu_percent": 195.9,
          "cpu_time": 1.28,
          "name": "DropDuplicates_1",
          "real_mem": 255500288,
          "time": 1616473992.6720512
         },
         {
          "cpu_percent": 196.3,
          "cpu_time": 1.39,
          "name": "RandomProcess2_1",
          "real_mem": 256073728,
          "time": 1616473992.771157
         },
         {
          "cpu_percent": 195.3,
          "cpu_time": 1.43,
          "name": "ReadCsvProjectSpace_1",
          "real_mem": 257425408,
          "time": 1616473992.7933118
         },
         {
          "cpu_percent": 196.6,
          "cpu_time": 1.48,
          "name": "RandomProcess1_1",
          "real_mem": 257069056,
          "time": 1616473992.8701808
         },
         {
          "cpu_percent": 97.4,
          "cpu_time": 1.51,
          "name": "DropDuplicates_1",
          "real_mem": 257318912,
          "time": 1616473992.8934853
         },
         {
          "cpu_percent": 0,
          "cpu_time": 1.53,
          "name": "RandomProcess3_1",
          "real_mem": 261099520,
          "time": 1616473992.916387
         },
         {
          "cpu_percent": 98.7,
          "cpu_time": 1.55,
          "name": "RandomProcess2_1",
          "real_mem": 270987264,
          "time": 1616473992.970089
         },
         {
          "cpu_percent": 194.8,
          "cpu_time": 1.5799999999999998,
          "name": "ReadCsvProjectSpace_1",
          "real_mem": 271327232,
          "time": 1616473992.9920607
         },
         {
          "cpu_percent": 0,
          "cpu_time": 1.6199999999999999,
          "name": "RandomProcess1_1",
          "real_mem": 271581184,
          "time": 1616473993.0158336
         },
         {
          "cpu_percent": 96.9,
          "cpu_time": 1.67,
          "name": "DropDuplicates_1",
          "real_mem": 272281600,
          "time": 1616473993.0715353
         },
         {
          "cpu_percent": 98.4,
          "cpu_time": 1.7,
          "name": "RandomProcess3_1",
          "real_mem": 274509824,
          "time": 1616473993.0940006
         },
         {
          "cpu_percent": 0,
          "cpu_time": 1.71,
          "name": "RandomProcess2_1",
          "real_mem": 277213184,
          "time": 1616473993.1164296
         },
         {
          "cpu_percent": 196.5,
          "cpu_time": 1.74,
          "name": "ReadCsvProjectSpace_1",
          "real_mem": 277639168,
          "time": 1616473993.1707523
         },
         {
          "cpu_percent": 98.2,
          "cpu_time": 1.79,
          "name": "RandomProcess1_1",
          "real_mem": 278040576,
          "time": 1616473993.193355
         },
         {
          "cpu_percent": 0,
          "cpu_time": 1.81,
          "name": "DropDuplicates_1",
          "real_mem": 278351872,
          "time": 1616473993.2166715
         },
         {
          "cpu_percent": 192.9,
          "cpu_time": 1.84,
          "name": "RandomProcess3_1",
          "real_mem": 278982656,
          "time": 1616473993.2708278
         },
         {
          "cpu_percent": 196.8,
          "cpu_time": 1.8699999999999999,
          "name": "RandomProcess2_1",
          "real_mem": 279298048,
          "time": 1616473993.2926757
         },
         {
          "cpu_percent": 97.8,
          "cpu_time": 1.9,
          "name": "ReadCsvProjectSpace_1",
          "real_mem": 279564288,
          "time": 1616473993.315061
         },
         {
          "cpu_percent": 98.3,
          "cpu_time": 1.92,
          "name": "RandomProcess1_1",
          "real_mem": 280051712,
          "time": 1616473993.370653
         },
         {
          "cpu_percent": 170.8,
          "cpu_time": 1.98,
          "name": "DropDuplicates_1",
          "real_mem": 280326144,
          "time": 1616473993.3947902
         },
         {
          "cpu_percent": 98.2,
          "cpu_time": 2.04,
          "name": "RandomProcess2_1",
          "real_mem": 280805376,
          "time": 1616473993.4808702
         },
         {
          "cpu_percent": 98.6,
          "cpu_time": 2.01,
          "name": "RandomProcess3_1",
          "real_mem": 280539136,
          "time": 1616473993.4588637
         },
         {
          "cpu_percent": 97.6,
          "cpu_time": 2.0700000000000003,
          "name": "ReadCsvProjectSpace_1",
          "real_mem": 281145344,
          "time": 1616473993.5036094
         },
         {
          "cpu_percent": 0,
          "cpu_time": 2.08,
          "name": "RandomProcess1_1",
          "real_mem": 281407488,
          "time": 1616473993.5258486
         },
         {
          "cpu_percent": 287.3,
          "cpu_time": 2.15,
          "name": "DropDuplicates_1",
          "real_mem": 281870336,
          "time": 1616473993.5714588
         },
         {
          "cpu_percent": 98,
          "cpu_time": 2.17,
          "name": "RandomProcess3_1",
          "real_mem": 282025984,
          "time": 1616473993.5944679
         },
         {
          "cpu_percent": 0,
          "cpu_time": 2.1799999999999997,
          "name": "RandomProcess2_1",
          "real_mem": 282120192,
          "time": 1616473993.617825
         },
         {
          "cpu_percent": 98.2,
          "cpu_time": 2.2199999999999998,
          "name": "ReadCsvProjectSpace_1",
          "real_mem": 282664960,
          "time": 1616473993.6711898
         },
         {
          "cpu_percent": 197,
          "cpu_time": 2.2699999999999996,
          "name": "RandomProcess1_1",
          "real_mem": 283443200,
          "time": 1616473993.692952
         },
         {
          "cpu_percent": 98.4,
          "cpu_time": 2.3,
          "name": "DropDuplicates_1",
          "real_mem": 283705344,
          "time": 1616473993.769546
         },
         {
          "cpu_percent": 196.2,
          "cpu_time": 2.3499999999999996,
          "name": "RandomProcess3_1",
          "real_mem": 284008448,
          "time": 1616473993.7922175
         },
         {
          "cpu_percent": 0,
          "cpu_time": 2.3600000000000003,
          "name": "RandomProcess2_1",
          "real_mem": 284008448,
          "time": 1616473993.814592
         },
         {
          "cpu_percent": 196,
          "cpu_time": 2.43,
          "name": "ReadCsvProjectSpace_1",
          "real_mem": 284987392,
          "time": 1616473993.8710842
         },
         {
          "cpu_percent": 196.10000000000002,
          "cpu_time": 2.4800000000000004,
          "name": "RandomProcess1_1",
          "real_mem": 284770304,
          "time": 1616473993.8935657
         },
         {
          "cpu_percent": 147.5,
          "cpu_time": 2.51,
          "name": "DropDuplicates_1",
          "real_mem": 285376512,
          "time": 1616473993.9748478
         },
         {
          "cpu_percent": 295.4,
          "cpu_time": 2.5599999999999996,
          "name": "RandomProcess3_1",
          "real_mem": 285712384,
          "time": 1616473993.9973102
         },
         {
          "cpu_percent": 0,
          "cpu_time": 2.5700000000000003,
          "name": "RandomProcess2_1",
          "real_mem": 285712384,
          "time": 1616473994.0482597
         },
         {
          "cpu_percent": 98.3,
          "cpu_time": 2.65,
          "name": "RandomProcess1_1",
          "real_mem": 286584832,
          "time": 1616473994.0933444
         },
         {
          "cpu_percent": 189.1,
          "cpu_time": 2.6100000000000003,
          "name": "ReadCsvProjectSpace_1",
          "real_mem": 286138368,
          "time": 1616473994.0712686
         },
         {
          "cpu_percent": 0,
          "cpu_time": 2.66,
          "name": "DropDuplicates_1",
          "real_mem": 286584832,
          "time": 1616473994.1172755
         },
         {
          "cpu_percent": 98.6,
          "cpu_time": 2.69,
          "name": "RandomProcess3_1",
          "real_mem": 287027200,
          "time": 1616473994.1708488
         },
         {
          "cpu_percent": 197.2,
          "cpu_time": 2.73,
          "name": "RandomProcess2_1",
          "real_mem": 287027200,
          "time": 1616473994.1934278
         },
         {
          "cpu_percent": 0,
          "cpu_time": 2.75,
          "name": "ReadCsvProjectSpace_1",
          "real_mem": 287293440,
          "time": 1616473994.2487772
         },
         {
          "cpu_percent": 98.3,
          "cpu_time": 2.78,
          "name": "RandomProcess1_1",
          "real_mem": 288268288,
          "time": 1616473994.270793
         },
         {
          "cpu_percent": 97,
          "cpu_time": 2.8,
          "name": "DropDuplicates_1",
          "real_mem": 289083392,
          "time": 1616473994.29312
         },
         {
          "cpu_percent": 98.4,
          "cpu_time": 2.8299999999999996,
          "name": "RandomProcess3_1",
          "real_mem": 289472512,
          "time": 1616473994.3163757
         },
         {
          "cpu_percent": 98.2,
          "cpu_time": 2.86,
          "name": "RandomProcess2_1",
          "real_mem": 289988608,
          "time": 1616473994.3708642
         },
         {
          "cpu_percent": 98.5,
          "cpu_time": 2.9,
          "name": "ReadCsvProjectSpace_1",
          "real_mem": 290258944,
          "time": 1616473994.3937142
         },
         {
          "cpu_percent": 197.2,
          "cpu_time": 2.93,
          "name": "RandomProcess1_1",
          "real_mem": 290562048,
          "time": 1616473994.4153285
         },
         {
          "cpu_percent": 293.9,
          "cpu_time": 2.99,
          "name": "DropDuplicates_1",
          "real_mem": 290775040,
          "time": 1616473994.4694607
         },
         {
          "cpu_percent": 15,
          "cpu_time": 3.04,
          "name": "RandomProcess3_1",
          "real_mem": 291016704,
          "time": 1616473994.548592
         },
         {
          "cpu_percent": 97.7,
          "cpu_time": 3.07,
          "name": "RandomProcess2_1",
          "real_mem": 291594240,
          "time": 1616473994.5714214
         },
         {
          "cpu_percent": 0,
          "cpu_time": 3.1199999999999997,
          "name": "RandomProcess1_1",
          "real_mem": 291889152,
          "time": 1616473994.648148
         },
         {
          "cpu_percent": 294.1,
          "cpu_time": 3.11,
          "name": "ReadCsvProjectSpace_1",
          "real_mem": 291672064,
          "time": 1616473994.5934787
         },
         {
          "cpu_percent": 98,
          "cpu_time": 3.15,
          "name": "DropDuplicates_1",
          "real_mem": 291889152,
          "time": 1616473994.6713371
         },
         {
          "cpu_percent": 194.6,
          "cpu_time": 3.19,
          "name": "RandomProcess3_1",
          "real_mem": 293068800,
          "time": 1616473994.6938934
         },
         {
          "cpu_percent": 196.3,
          "cpu_time": 3.2600000000000002,
          "name": "ReadCsvProjectSpace_1",
          "real_mem": 294043648,
          "time": 1616473994.770627
         },
         {
          "cpu_percent": 47.1,
          "cpu_time": 3.22,
          "name": "RandomProcess2_1",
          "real_mem": 293474304,
          "time": 1616473994.7484
         },
         {
          "cpu_percent": 391.9,
          "cpu_time": 3.32,
          "name": "RandomProcess1_1",
          "real_mem": 294551552,
          "time": 1616473994.793382
         },
         {
          "cpu_percent": 291.1,
          "cpu_time": 3.3699999999999997,
          "name": "DropDuplicates_1",
          "real_mem": 294645760,
          "time": 1616473994.8707542
         },
         {
          "cpu_percent": 113.7,
          "cpu_time": 3.41,
          "name": "RandomProcess3_1",
          "real_mem": 294940672,
          "time": 1616473994.9487555
         },
         {
          "cpu_percent": 291.4,
          "cpu_time": 3.48,
          "name": "ReadCsvProjectSpace_1",
          "real_mem": 295444480,
          "time": 1616473994.9936712
         },
         {
          "cpu_percent": 195.6,
          "cpu_time": 3.44,
          "name": "RandomProcess2_1",
          "real_mem": 295284736,
          "time": 1616473994.9714708
         },
         {
          "cpu_percent": 295,
          "cpu_time": 3.5300000000000002,
          "name": "RandomProcess1_1",
          "real_mem": 295739392,
          "time": 1616473995.0593512
         },
         {
          "cpu_percent": 196.7,
          "cpu_time": 3.5700000000000003,
          "name": "DropDuplicates_1",
          "real_mem": 296009728,
          "time": 1616473995.0815666
         },
         {
          "cpu_percent": 0,
          "cpu_time": 3.5900000000000003,
          "name": "RandomProcess3_1",
          "real_mem": 296009728,
          "time": 1616473995.1482434
         },
         {
          "cpu_percent": 196.6,
          "cpu_time": 3.6399999999999997,
          "name": "RandomProcess2_1",
          "real_mem": 296800256,
          "time": 1616473995.170904
         },
         {
          "cpu_percent": 31.4,
          "cpu_time": 3.69,
          "name": "ReadCsvProjectSpace_1",
          "real_mem": 297213952,
          "time": 1616473995.2486928
         },
         {
          "cpu_percent": 294.6,
          "cpu_time": 3.7399999999999998,
          "name": "RandomProcess1_1",
          "real_mem": 297291776,
          "time": 1616473995.2720304
         },
         {
          "cpu_percent": 97.7,
          "cpu_time": 3.8699999999999997,
          "name": "RandomProcess2_1",
          "real_mem": 297553920,
          "time": 1616473995.4481335
         },
         {
          "cpu_percent": 0,
          "cpu_time": 3.77,
          "name": "DropDuplicates_1",
          "real_mem": 297291776,
          "time": 1616473995.348441
         },
         {
          "cpu_percent": 293.8,
          "cpu_time": 3.83,
          "name": "RandomProcess3_1",
          "real_mem": 297336832,
          "time": 1616473995.370758
         },
         {
          "cpu_percent": 290.9,
          "cpu_time": 3.94,
          "name": "ReadCsvProjectSpace_1",
          "real_mem": 298217472,
          "time": 1616473995.4708455
         },
         {
          "cpu_percent": 0,
          "cpu_time": 3.97,
          "name": "RandomProcess1_1",
          "real_mem": 298487808,
          "time": 1616473995.4929125
         },
         {
          "cpu_percent": 195.3,
          "cpu_time": 4.02,
          "name": "DropDuplicates_1",
          "real_mem": 298606592,
          "time": 1616473995.5710566
         },
         {
          "cpu_percent": 98.1,
          "cpu_time": 4.06,
          "name": "RandomProcess3_1",
          "real_mem": 298606592,
          "time": 1616473995.593636
         },
         {
          "cpu_percent": 195.1,
          "cpu_time": 4.1000000000000005,
          "name": "RandomProcess2_1",
          "real_mem": 299241472,
          "time": 1616473995.6706948
         },
         {
          "cpu_percent": 98.2,
          "cpu_time": 4.12,
          "name": "ReadCsvProjectSpace_1",
          "real_mem": 299241472,
          "time": 1616473995.69306
         },
         {
          "cpu_percent": 0,
          "cpu_time": 4.15,
          "name": "RandomProcess1_1",
          "real_mem": 300769280,
          "time": 1616473995.7171233
         },
         {
          "cpu_percent": 98.1,
          "cpu_time": 4.18,
          "name": "DropDuplicates_1",
          "real_mem": 300769280,
          "time": 1616473995.769899
         },
         {
          "cpu_percent": 193,
          "cpu_time": 4.2299999999999995,
          "name": "RandomProcess3_1",
          "real_mem": 301019136,
          "time": 1616473995.797961
         },
         {
          "cpu_percent": 0,
          "cpu_time": 4.26,
          "name": "RandomProcess2_1",
          "real_mem": 301125632,
          "time": 1616473995.8210216
         },
         {
          "cpu_percent": 98.4,
          "cpu_time": 4.3,
          "name": "ReadCsvProjectSpace_1",
          "real_mem": 301441024,
          "time": 1616473995.87159
         },
         {
          "cpu_percent": 98.3,
          "cpu_time": 4.33,
          "name": "RandomProcess1_1",
          "real_mem": 302358528,
          "time": 1616473995.8957143
         },
         {
          "cpu_percent": 98.4,
          "cpu_time": 4.3500000000000005,
          "name": "DropDuplicates_1",
          "real_mem": 302358528,
          "time": 1616473995.9178696
         },
         {
          "cpu_percent": 98.3,
          "cpu_time": 4.390000000000001,
          "name": "RandomProcess3_1",
          "real_mem": 302665728,
          "time": 1616473995.970628
         },
         {
          "cpu_percent": 98.4,
          "cpu_time": 4.43,
          "name": "RandomProcess2_1",
          "real_mem": 303091712,
          "time": 1616473995.9931872
         },
         {
          "cpu_percent": 0,
          "cpu_time": 4.4399999999999995,
          "name": "ReadCsvProjectSpace_1",
          "real_mem": 303153152,
          "time": 1616473996.0156913
         },
         {
          "cpu_percent": 98.1,
          "cpu_time": 4.47,
          "name": "RandomProcess1_1",
          "real_mem": 303652864,
          "time": 1616473996.0711713
         },
         {
          "cpu_percent": 196.5,
          "cpu_time": 4.52,
          "name": "DropDuplicates_1",
          "real_mem": 303738880,
          "time": 1616473996.0936663
         },
         {
          "cpu_percent": 0,
          "cpu_time": 4.529999999999999,
          "name": "RandomProcess3_1",
          "real_mem": 304005120,
          "time": 1616473996.1162174
         },
         {
          "cpu_percent": 98.3,
          "cpu_time": 4.56,
          "name": "RandomProcess2_1",
          "real_mem": 304508928,
          "time": 1616473996.1702414
         },
         {
          "cpu_percent": 196.7,
          "cpu_time": 4.609999999999999,
          "name": "ReadCsvProjectSpace_1",
          "real_mem": 305000448,
          "time": 1616473996.1935894
         },
         {
          "cpu_percent": 195.9,
          "cpu_time": 4.64,
          "name": "RandomProcess1_1",
          "real_mem": 305635328,
          "time": 1616473996.259232
         },
         {
          "cpu_percent": 197.3,
          "cpu_time": 4.69,
          "name": "DropDuplicates_1",
          "real_mem": 306860032,
          "time": 1616473996.2812002
         },
         {
          "cpu_percent": 97.9,
          "cpu_time": 4.73,
          "name": "RandomProcess3_1",
          "real_mem": 306864128,
          "time": 1616473996.3484807
         },
         {
          "cpu_percent": 195.2,
          "cpu_time": 4.78,
          "name": "RandomProcess2_1",
          "real_mem": 307396608,
          "time": 1616473996.3710098
         },
         {
          "cpu_percent": 30.5,
          "cpu_time": 4.83,
          "name": "ReadCsvProjectSpace_1",
          "real_mem": 308301824,
          "time": 1616473996.4486327
         },
         {
          "cpu_percent": 195.5,
          "cpu_time": 4.87,
          "name": "RandomProcess1_1",
          "real_mem": 308301824,
          "time": 1616473996.4710476
         },
         {
          "cpu_percent": 97.5,
          "cpu_time": 4.91,
          "name": "DropDuplicates_1",
          "real_mem": 306655232,
          "time": 1616473996.494286
         },
         {
          "cpu_percent": 196.7,
          "cpu_time": 4.95,
          "name": "RandomProcess3_1",
          "real_mem": 308002816,
          "time": 1616473996.5702474
         },
         {
          "cpu_percent": 97.3,
          "cpu_time": 4.9799999999999995,
          "name": "RandomProcess2_1",
          "real_mem": 308207616,
          "time": 1616473996.5934398
         },
         {
          "cpu_percent": 98,
          "cpu_time": 5.01,
          "name": "ReadCsvProjectSpace_1",
          "real_mem": 308637696,
          "time": 1616473996.6171942
         },
         {
          "cpu_percent": 0,
          "cpu_time": 5.1,
          "name": "RandomProcess1_1",
          "real_mem": 310239232,
          "time": 1616473996.744552
         },
         {
          "cpu_percent": 96.3,
          "cpu_time": 5.12,
          "name": "DropDuplicates_1",
          "real_mem": 310882304,
          "time": 1616473996.7699656
         },
         {
          "cpu_percent": 98.3,
          "cpu_time": 5.22,
          "name": "RandomProcess3_1",
          "real_mem": 312012800,
          "time": 1616473996.8697724
         },
         {
          "cpu_percent": 194.4,
          "cpu_time": 5.3100000000000005,
          "name": "ReadCsvProjectSpace_1",
          "real_mem": 312520704,
          "time": 1616473996.9136677
         },
         {
          "cpu_percent": 195.8,
          "cpu_time": 5.27,
          "name": "RandomProcess2_1",
          "real_mem": 312147968,
          "time": 1616473996.8918502
         },
         {
          "cpu_percent": 97.8,
          "cpu_time": 5.4,
          "name": "RandomProcess1_1",
          "real_mem": 313724928,
          "time": 1616473997.017616
         },
         {
          "cpu_percent": 98.1,
          "cpu_time": 5.43,
          "name": "DropDuplicates_1",
          "real_mem": 314138624,
          "time": 1616473997.0711067
         },
         {
          "cpu_percent": 196.6,
          "cpu_time": 5.529999999999999,
          "name": "RandomProcess3_1",
          "real_mem": 315072512,
          "time": 1616473997.1696963
         },
         {
          "cpu_percent": 388.8,
          "cpu_time": 5.59,
          "name": "RandomProcess2_1",
          "real_mem": 318844928,
          "time": 1616473997.2481256
         },
         {
          "cpu_percent": 193.9,
          "cpu_time": 5.640000000000001,
          "name": "ReadCsvProjectSpace_1",
          "real_mem": 321810432,
          "time": 1616473997.2704844
         },
         {
          "cpu_percent": 98.9,
          "cpu_time": 5.680000000000001,
          "name": "RandomProcess1_1",
          "real_mem": 322195456,
          "time": 1616473997.2934115
         },
         {
          "cpu_percent": 196,
          "cpu_time": 5.720000000000001,
          "name": "DropDuplicates_1",
          "real_mem": 322830336,
          "time": 1616473997.371117
         },
         {
          "cpu_percent": 98.4,
          "cpu_time": 5.79,
          "name": "RandomProcess3_1",
          "real_mem": 323817472,
          "time": 1616473997.4690976
         },
         {
          "cpu_percent": 98.6,
          "cpu_time": 5.88,
          "name": "RandomProcess2_1",
          "real_mem": 325259264,
          "time": 1616473997.5207486
         },
         {
          "cpu_percent": 197.2,
          "cpu_time": 5.91,
          "name": "ReadCsvProjectSpace_1",
          "real_mem": 325345280,
          "time": 1616473997.570151
         },
         {
          "cpu_percent": 196.5,
          "cpu_time": 5.95,
          "name": "RandomProcess1_1",
          "real_mem": 325963776,
          "time": 1616473997.592206
         },
         {
          "cpu_percent": 293.8,
          "cpu_time": 6.02,
          "name": "DropDuplicates_1",
          "real_mem": 326500352,
          "time": 1616473997.669273
         },
         {
          "cpu_percent": 196,
          "cpu_time": 6.109999999999999,
          "name": "RandomProcess3_1",
          "real_mem": 327016448,
          "time": 1616473997.7710755
         },
         {
          "cpu_percent": 98.1,
          "cpu_time": 6.17,
          "name": "RandomProcess2_1",
          "real_mem": 327311360,
          "time": 1616473997.7934356
         },
         {
          "cpu_percent": 98.4,
          "cpu_time": 6.199999999999999,
          "name": "ReadCsvProjectSpace_1",
          "real_mem": 327516160,
          "time": 1616473997.8707
         },
         {
          "cpu_percent": 192.3,
          "cpu_time": 6.25,
          "name": "RandomProcess1_1",
          "real_mem": 328261632,
          "time": 1616473997.8932352
         },
         {
          "cpu_percent": 97.9,
          "cpu_time": 6.289999999999999,
          "name": "DropDuplicates_1",
          "real_mem": 328876032,
          "time": 1616473997.969337
         },
         {
          "cpu_percent": 98.5,
          "cpu_time": 6.390000000000001,
          "name": "RandomProcess3_1",
          "real_mem": 329904128,
          "time": 1616473998.0701923
         },
         {
          "cpu_percent": 197.3,
          "cpu_time": 6.43,
          "name": "RandomProcess2_1",
          "real_mem": 329904128,
          "time": 1616473998.0921566
         },
         {
          "cpu_percent": 197.3,
          "cpu_time": 6.5,
          "name": "ReadCsvProjectSpace_1",
          "real_mem": 330502144,
          "time": 1616473998.1701858
         },
         {
          "cpu_percent": 196.1,
          "cpu_time": 6.6000000000000005,
          "name": "DropDuplicates_1",
          "real_mem": 330657792,
          "time": 1616473998.2705193
         },
         {
          "cpu_percent": 30,
          "cpu_time": 6.55,
          "name": "RandomProcess1_1",
          "real_mem": 330567680,
          "time": 1616473998.2483122
         },
         {
          "cpu_percent": 393.4,
          "cpu_time": 6.73,
          "name": "RandomProcess3_1",
          "real_mem": 331743232,
          "time": 1616473998.3696005
         },
         {
          "cpu_percent": 0,
          "cpu_time": 6.75,
          "name": "RandomProcess2_1",
          "real_mem": 331939840,
          "time": 1616473998.3918858
         },
         {
          "cpu_percent": 196.1,
          "cpu_time": 6.78,
          "name": "ReadCsvProjectSpace_1",
          "real_mem": 332529664,
          "time": 1616473998.470353
         },
         {
          "cpu_percent": 196.4,
          "cpu_time": 6.88,
          "name": "DropDuplicates_1",
          "real_mem": 333848576,
          "time": 1616473998.5700274
         },
         {
          "cpu_percent": 0,
          "cpu_time": 6.83,
          "name": "RandomProcess1_1",
          "real_mem": 333586432,
          "time": 1616473998.5217535
         },
         {
          "cpu_percent": 194.9,
          "cpu_time": 7,
          "name": "RandomProcess3_1",
          "real_mem": 335941632,
          "time": 1616473998.669745
         },
         {
          "cpu_percent": 98.1,
          "cpu_time": 7.040000000000001,
          "name": "RandomProcess2_1",
          "real_mem": 336019456,
          "time": 1616473998.691889
         },
         {
          "cpu_percent": 196.6,
          "cpu_time": 7.1,
          "name": "ReadCsvProjectSpace_1",
          "real_mem": 336433152,
          "time": 1616473998.7711093
         },
         {
          "cpu_percent": 0,
          "cpu_time": 7.140000000000001,
          "name": "RandomProcess1_1",
          "real_mem": 337350656,
          "time": 1616473998.7940247
         },
         {
          "cpu_percent": 196.2,
          "cpu_time": 7.18,
          "name": "DropDuplicates_1",
          "real_mem": 337817600,
          "time": 1616473998.871061
         },
         {
          "cpu_percent": 283.4,
          "cpu_time": 7.29,
          "name": "RandomProcess3_1",
          "real_mem": 339341312,
          "time": 1616473998.9701748
         },
         {
          "cpu_percent": 195.8,
          "cpu_time": 7.3500000000000005,
          "name": "RandomProcess2_1",
          "real_mem": 340336640,
          "time": 1616473999.0591552
         },
         {
          "cpu_percent": 196.5,
          "cpu_time": 7.4,
          "name": "ReadCsvProjectSpace_1",
          "real_mem": 342794240,
          "time": 1616473999.0813787
         },
         {
          "cpu_percent": 0,
          "cpu_time": 7.42,
          "name": "RandomProcess1_1",
          "real_mem": 343089152,
          "time": 1616473999.1032634
         },
         {
          "cpu_percent": 294.7,
          "cpu_time": 7.470000000000001,
          "name": "DropDuplicates_1",
          "real_mem": 343625728,
          "time": 1616473999.1710653
         },
         {
          "cpu_percent": 294.8,
          "cpu_time": 7.57,
          "name": "RandomProcess3_1",
          "real_mem": 348659712,
          "time": 1616473999.269345
         },
         {
          "cpu_percent": 195.3,
          "cpu_time": 7.66,
          "name": "RandomProcess2_1",
          "real_mem": 355102720,
          "time": 1616473999.3719914
         },
         {
          "cpu_percent": 194.6,
          "cpu_time": 7.7,
          "name": "ReadCsvProjectSpace_1",
          "real_mem": 356548608,
          "time": 1616473999.3942835
         },
         {
          "cpu_percent": 196.1,
          "cpu_time": 7.8,
          "name": "DropDuplicates_1",
          "real_mem": 357163008,
          "time": 1616473999.4925313
         },
         {
          "cpu_percent": 193.8,
          "cpu_time": 7.75,
          "name": "RandomProcess1_1",
          "real_mem": 356945920,
          "time": 1616473999.4702907
         },
         {
          "cpu_percent": 291.9,
          "cpu_time": 7.88,
          "name": "RandomProcess3_1",
          "real_mem": 357662720,
          "time": 1616473999.570474
         },
         {
          "cpu_percent": 197.3,
          "cpu_time": 7.97,
          "name": "RandomProcess2_1",
          "real_mem": 358227968,
          "time": 1616473999.6706984
         },
         {
          "cpu_percent": 393.1,
          "cpu_time": 8.030000000000001,
          "name": "ReadCsvProjectSpace_1",
          "real_mem": 361185280,
          "time": 1616473999.7589593
         },
         {
          "cpu_percent": 196.2,
          "cpu_time": 8.07,
          "name": "RandomProcess1_1",
          "real_mem": 362950656,
          "time": 1616473999.7812216
         },
         {
          "cpu_percent": 0,
          "cpu_time": 8.09,
          "name": "DropDuplicates_1",
          "real_mem": 363593728,
          "time": 1616473999.8032203
         },
         {
          "cpu_percent": 197.4,
          "cpu_time": 8.14,
          "name": "RandomProcess3_1",
          "real_mem": 364814336,
          "time": 1616473999.8701737
         },
         {
          "cpu_percent": 98.7,
          "cpu_time": 8.24,
          "name": "RandomProcess2_1",
          "real_mem": 366014464,
          "time": 1616473999.96939
         },
         {
          "cpu_percent": 190.5,
          "cpu_time": 8.34,
          "name": "ReadCsvProjectSpace_1",
          "real_mem": 368668672,
          "time": 1616474000.0710456
         },
         {
          "cpu_percent": 192.5,
          "cpu_time": 8.389999999999999,
          "name": "RandomProcess1_1",
          "real_mem": 369205248,
          "time": 1616474000.1484284
         },
         {
          "cpu_percent": 294.3,
          "cpu_time": 8.44,
          "name": "DropDuplicates_1",
          "real_mem": 371449856,
          "time": 1616474000.170823
         },
         {
          "cpu_percent": 97.7,
          "cpu_time": 8.49,
          "name": "RandomProcess3_1",
          "real_mem": 371949568,
          "time": 1616474000.1932151
         },
         {
          "cpu_percent": 194.2,
          "cpu_time": 8.540000000000001,
          "name": "RandomProcess2_1",
          "real_mem": 372420608,
          "time": 1616474000.2717032
         },
         {
          "cpu_percent": 96.7,
          "cpu_time": 8.610000000000001,
          "name": "ReadCsvProjectSpace_1",
          "real_mem": 373268480,
          "time": 1616474000.3697836
         },
         {
          "cpu_percent": 0,
          "cpu_time": 8.66,
          "name": "RandomProcess1_1",
          "real_mem": 374423552,
          "time": 1616474000.4218535
         },
         {
          "cpu_percent": 0,
          "cpu_time": 8.73,
          "name": "RandomProcess3_1",
          "real_mem": 375218176,
          "time": 1616474000.4922373
         },
         {
          "cpu_percent": 98.3,
          "cpu_time": 8.700000000000001,
          "name": "DropDuplicates_1",
          "real_mem": 374792192,
          "time": 1616474000.4703147
         },
         {
          "cpu_percent": 196.5,
          "cpu_time": 8.81,
          "name": "RandomProcess2_1",
          "real_mem": 376197120,
          "time": 1616474000.5701141
         },
         {
          "cpu_percent": 291.7,
          "cpu_time": 8.91,
          "name": "ReadCsvProjectSpace_1",
          "real_mem": 376512512,
          "time": 1616474000.6697514
         },
         {
          "cpu_percent": 312.09999999999997,
          "cpu_time": 9.02,
          "name": "RandomProcess1_1",
          "real_mem": 377528320,
          "time": 1616474000.7697022
         },
         {
          "cpu_percent": 393.3,
          "cpu_time": 9.13,
          "name": "RandomProcess3_1",
          "real_mem": 377704448,
          "time": 1616474000.8702695
         },
         {
          "cpu_percent": 193.6,
          "cpu_time": 9.06,
          "name": "DropDuplicates_1",
          "real_mem": 377528320,
          "time": 1616474000.7918286
         },
         {
          "cpu_percent": 15.3,
          "cpu_time": 9.16,
          "name": "RandomProcess2_1",
          "real_mem": 377970688,
          "time": 1616474000.9486318
         },
         {
          "cpu_percent": 195.2,
          "cpu_time": 9.21,
          "name": "ReadCsvProjectSpace_1",
          "real_mem": 378105856,
          "time": 1616474000.9717026
         },
         {
          "cpu_percent": 195.4,
          "cpu_time": 9.3,
          "name": "RandomProcess1_1",
          "real_mem": 379580416,
          "time": 1616474001.070638
         },
         {
          "cpu_percent": 196.7,
          "cpu_time": 9.39,
          "name": "DropDuplicates_1",
          "real_mem": 380162048,
          "time": 1616474001.170082
         },
         {
          "cpu_percent": 196.5,
          "cpu_time": 9.44,
          "name": "RandomProcess3_1",
          "real_mem": 380162048,
          "time": 1616474001.1922393
         },
         {
          "cpu_percent": 295,
          "cpu_time": 9.49,
          "name": "RandomProcess2_1",
          "real_mem": 380698624,
          "time": 1616474001.2712884
         },
         {
          "cpu_percent": 98.2,
          "cpu_time": 9.54,
          "name": "ReadCsvProjectSpace_1",
          "real_mem": 380911616,
          "time": 1616474001.2933652
         },
         {
          "cpu_percent": 192.9,
          "cpu_time": 9.6,
          "name": "RandomProcess1_1",
          "real_mem": 381165568,
          "time": 1616474001.3706021
         },
         {
          "cpu_percent": 292.2,
          "cpu_time": 9.69,
          "name": "DropDuplicates_1",
          "real_mem": 381751296,
          "time": 1616474001.4701083
         },
         {
          "cpu_percent": 294.9,
          "cpu_time": 9.74,
          "name": "RandomProcess3_1",
          "real_mem": 383905792,
          "time": 1616474001.4921432
         },
         {
          "cpu_percent": 196.7,
          "cpu_time": 9.78,
          "name": "RandomProcess2_1",
          "real_mem": 385126400,
          "time": 1616474001.5711226
         },
         {
          "cpu_percent": 195.4,
          "cpu_time": 9.83,
          "name": "ReadCsvProjectSpace_1",
          "real_mem": 385495040,
          "time": 1616474001.5933015
         },
         {
          "cpu_percent": 195.5,
          "cpu_time": 9.87,
          "name": "RandomProcess1_1",
          "real_mem": 386195456,
          "time": 1616474001.6708035
         },
         {
          "cpu_percent": 195.9,
          "cpu_time": 9.95,
          "name": "DropDuplicates_1",
          "real_mem": 383827968,
          "time": 1616474001.759038
         },
         {
          "cpu_percent": 196.5,
          "cpu_time": 9.99,
          "name": "RandomProcess3_1",
          "real_mem": 384364544,
          "time": 1616474001.7812254
         },
         {
          "cpu_percent": 197.3,
          "cpu_time": 10.049999999999999,
          "name": "RandomProcess2_1",
          "real_mem": 384917504,
          "time": 1616474001.8696656
         },
         {
          "cpu_percent": 44.7,
          "cpu_time": 10.11,
          "name": "ReadCsvProjectSpace_1",
          "real_mem": 386367488,
          "time": 1616474001.948426
         },
         {
          "cpu_percent": 291.4,
          "cpu_time": 10.16,
          "name": "RandomProcess1_1",
          "real_mem": 386646016,
          "time": 1616474001.971612
         },
         {
          "cpu_percent": 196.6,
          "cpu_time": 10.25,
          "name": "DropDuplicates_1",
          "real_mem": 390823936,
          "time": 1616474002.0695288
         },
         {
          "cpu_percent": 292.7,
          "cpu_time": 10.309999999999999,
          "name": "RandomProcess3_1",
          "real_mem": 390995968,
          "time": 1616474002.0918238
         },
         {
          "cpu_percent": 196,
          "cpu_time": 10.36,
          "name": "RandomProcess2_1",
          "real_mem": 391331840,
          "time": 1616474002.1704137
         },
         {
          "cpu_percent": 196.7,
          "cpu_time": 10.5,
          "name": "RandomProcess1_1",
          "real_mem": 393420800,
          "time": 1616474002.2921472
         },
         {
          "cpu_percent": 196.6,
          "cpu_time": 10.46,
          "name": "ReadCsvProjectSpace_1",
          "real_mem": 391913472,
          "time": 1616474002.270311
         },
         {
          "cpu_percent": 196.6,
          "cpu_time": 10.55,
          "name": "DropDuplicates_1",
          "real_mem": 393932800,
          "time": 1616474002.370194
         },
         {
          "cpu_percent": 196.6,
          "cpu_time": 10.59,
          "name": "RandomProcess3_1",
          "real_mem": 394076160,
          "time": 1616474002.3921523
         },
         {
          "cpu_percent": 196.5,
          "cpu_time": 10.64,
          "name": "RandomProcess2_1",
          "real_mem": 394452992,
          "time": 1616474002.4707837
         },
         {
          "cpu_percent": 196.4,
          "cpu_time": 10.74,
          "name": "ReadCsvProjectSpace_1",
          "real_mem": 395120640,
          "time": 1616474002.572395
         },
         {
          "cpu_percent": 197.9,
          "cpu_time": 10.780000000000001,
          "name": "RandomProcess1_1",
          "real_mem": 395386880,
          "time": 1616474002.5944712
         },
         {
          "cpu_percent": 196.1,
          "cpu_time": 10.84,
          "name": "DropDuplicates_1",
          "real_mem": 395579392,
          "time": 1616474002.67105
         },
         {
          "cpu_percent": 196.2,
          "cpu_time": 10.89,
          "name": "RandomProcess3_1",
          "real_mem": 395579392,
          "time": 1616474002.692812
         },
         {
          "cpu_percent": 294.3,
          "cpu_time": 10.94,
          "name": "RandomProcess2_1",
          "real_mem": 398823424,
          "time": 1616474002.7704022
         },
         {
          "cpu_percent": 195.8,
          "cpu_time": 11.03,
          "name": "ReadCsvProjectSpace_1",
          "real_mem": 399609856,
          "time": 1616474002.8707612
         },
         {
          "cpu_percent": 195.5,
          "cpu_time": 11.08,
          "name": "RandomProcess1_1",
          "real_mem": 400433152,
          "time": 1616474002.8944447
         },
         {
          "cpu_percent": 172.5,
          "cpu_time": 11.13,
          "name": "DropDuplicates_1",
          "real_mem": 400433152,
          "time": 1616474002.972503
         },
         {
          "cpu_percent": 15.5,
          "cpu_time": 11.16,
          "name": "RandomProcess3_1",
          "real_mem": 400699392,
          "time": 1616474003.0484972
         },
         {
          "cpu_percent": 289,
          "cpu_time": 11.22,
          "name": "RandomProcess2_1",
          "real_mem": 400945152,
          "time": 1616474003.070962
         },
         {
          "cpu_percent": 278.9,
          "cpu_time": 11.32,
          "name": "ReadCsvProjectSpace_1",
          "real_mem": 401387520,
          "time": 1616474003.1715577
         },
         {
          "cpu_percent": 196,
          "cpu_time": 11.36,
          "name": "RandomProcess1_1",
          "real_mem": 402001920,
          "time": 1616474003.1938062
         },
         {
          "cpu_percent": 193.7,
          "cpu_time": 11.41,
          "name": "DropDuplicates_1",
          "real_mem": 402186240,
          "time": 1616474003.2711093
         },
         {
          "cpu_percent": 197.1,
          "cpu_time": 11.49,
          "name": "RandomProcess3_1",
          "real_mem": 402911232,
          "time": 1616474003.3700159
         },
         {
          "cpu_percent": 194.8,
          "cpu_time": 11.54,
          "name": "RandomProcess2_1",
          "real_mem": 403066880,
          "time": 1616474003.3920233
         },
         {
          "cpu_percent": 194.3,
          "cpu_time": 11.6,
          "name": "ReadCsvProjectSpace_1",
          "real_mem": 403333120,
          "time": 1616474003.4707284
         },
         {
          "cpu_percent": 293.7,
          "cpu_time": 11.69,
          "name": "RandomProcess1_1",
          "real_mem": 404045824,
          "time": 1616474003.5692177
         },
         {
          "cpu_percent": 195.9,
          "cpu_time": 11.74,
          "name": "DropDuplicates_1",
          "real_mem": 404545536,
          "time": 1616474003.5916157
         },
         {
          "cpu_percent": 98.2,
          "cpu_time": 11.78,
          "name": "RandomProcess3_1",
          "real_mem": 404856832,
          "time": 1616474003.6693285
         },
         {
          "cpu_percent": 196.6,
          "cpu_time": 11.809999999999999,
          "name": "RandomProcess2_1",
          "real_mem": 405278720,
          "time": 1616474003.6913302
         },
         {
          "cpu_percent": 195.4,
          "cpu_time": 11.86,
          "name": "ReadCsvProjectSpace_1",
          "real_mem": 407334912,
          "time": 1616474003.7714276
         },
         {
          "cpu_percent": 98,
          "cpu_time": 11.940000000000001,
          "name": "RandomProcess1_1",
          "real_mem": 407334912,
          "time": 1616474003.859165
         },
         {
          "cpu_percent": 97.6,
          "cpu_time": 11.96,
          "name": "DropDuplicates_1",
          "real_mem": 407334912,
          "time": 1616474003.8816295
         },
         {
          "cpu_percent": 191.7,
          "cpu_time": 12.06,
          "name": "RandomProcess3_1",
          "real_mem": 407711744,
          "time": 1616474003.9596326
         },
         {
          "cpu_percent": 196.2,
          "cpu_time": 12.110000000000001,
          "name": "RandomProcess2_1",
          "real_mem": 408121344,
          "time": 1616474003.9818704
         },
         {
          "cpu_percent": 98.1,
          "cpu_time": 12.15,
          "name": "ReadCsvProjectSpace_1",
          "real_mem": 408473600,
          "time": 1616474004.0700347
         },
         {
          "cpu_percent": 196,
          "cpu_time": 12.270000000000001,
          "name": "RandomProcess1_1",
          "real_mem": 409759744,
          "time": 1616474004.1695893
         },
         {
          "cpu_percent": 196.4,
          "cpu_time": 12.32,
          "name": "DropDuplicates_1",
          "real_mem": 410025984,
          "time": 1616474004.1921318
         },
         {
          "cpu_percent": 196.3,
          "cpu_time": 12.360000000000001,
          "name": "RandomProcess3_1",
          "real_mem": 410120192,
          "time": 1616474004.2707713
         },
         {
          "cpu_percent": 194.9,
          "cpu_time": 12.41,
          "name": "RandomProcess2_1",
          "real_mem": 410456064,
          "time": 1616474004.2931037
         },
         {
          "cpu_percent": 0,
          "cpu_time": 12.43,
          "name": "ReadCsvProjectSpace_1",
          "real_mem": 411021312,
          "time": 1616474004.370494
         },
         {
          "cpu_percent": 196.5,
          "cpu_time": 12.55,
          "name": "RandomProcess1_1",
          "real_mem": 413130752,
          "time": 1616474004.4700112
         },
         {
          "cpu_percent": 98.2,
          "cpu_time": 12.58,
          "name": "DropDuplicates_1",
          "real_mem": 413667328,
          "time": 1616474004.4932098
         },
         {
          "cpu_percent": 98.3,
          "cpu_time": 12.620000000000001,
          "name": "RandomProcess3_1",
          "real_mem": 414625792,
          "time": 1616474004.5693111
         },
         {
          "cpu_percent": 98.1,
          "cpu_time": 12.64,
          "name": "RandomProcess2_1",
          "real_mem": 415248384,
          "time": 1616474004.5914292
         },
         {
          "cpu_percent": 98.1,
          "cpu_time": 12.69,
          "name": "ReadCsvProjectSpace_1",
          "real_mem": 416157696,
          "time": 1616474004.6434464
         },
         {
          "cpu_percent": 0,
          "cpu_time": 12.8,
          "name": "RandomProcess1_1",
          "real_mem": 417554432,
          "time": 1616474004.7432153
         },
         {
          "cpu_percent": 98.3,
          "cpu_time": 12.83,
          "name": "DropDuplicates_1",
          "real_mem": 417820672,
          "time": 1616474004.7702692
         },
         {
          "cpu_percent": 98.1,
          "cpu_time": 12.92,
          "name": "RandomProcess3_1",
          "real_mem": 418877440,
          "time": 1616474004.870072
         },
         {
          "cpu_percent": 98.2,
          "cpu_time": 12.95,
          "name": "RandomProcess2_1",
          "real_mem": 419512320,
          "time": 1616474004.8921547
         },
         {
          "cpu_percent": 166,
          "cpu_time": 12.98,
          "name": "ReadCsvProjectSpace_1",
          "real_mem": 419688448,
          "time": 1616474004.9185662
         },
         {
          "cpu_percent": 23.8,
          "cpu_time": 13.07,
          "name": "RandomProcess1_1",
          "real_mem": 420974592,
          "time": 1616474005.0486622
         },
         {
          "cpu_percent": 196.3,
          "cpu_time": 13.11,
          "name": "DropDuplicates_1",
          "real_mem": 420974592,
          "time": 1616474005.0710588
         },
         {
          "cpu_percent": 0,
          "cpu_time": 13.17,
          "name": "RandomProcess3_1",
          "real_mem": 422191104,
          "time": 1616474005.1432118
         },
         {
          "cpu_percent": 196.5,
          "cpu_time": 13.2,
          "name": "RandomProcess2_1",
          "real_mem": 422457344,
          "time": 1616474005.1700852
         },
         {
          "cpu_percent": 96.5,
          "cpu_time": 13.23,
          "name": "ReadCsvProjectSpace_1",
          "real_mem": 422543360,
          "time": 1616474005.192494
         },
         {
          "cpu_percent": 294.9,
          "cpu_time": 13.629999999999999,
          "name": "RandomProcess1_1",
          "real_mem": 424710144,
          "time": 1616474005.5714424
         },
         {
          "cpu_percent": 0,
          "cpu_time": 13.66,
          "name": "DropDuplicates_1",
          "real_mem": 424837120,
          "time": 1616474005.5938535
         },
         {
          "cpu_percent": 195.9,
          "cpu_time": 13.709999999999999,
          "name": "RandomProcess3_1",
          "real_mem": 425017344,
          "time": 1616474005.6713383
         },
         {
          "cpu_percent": 30.7,
          "cpu_time": 13.76,
          "name": "RandomProcess2_1",
          "real_mem": 425406464,
          "time": 1616474005.7486157
         },
         {
          "cpu_percent": 196.4,
          "cpu_time": 13.799999999999999,
          "name": "ReadCsvProjectSpace_1",
          "real_mem": 425484288,
          "time": 1616474005.7714238
         },
         {
          "cpu_percent": 194.8,
          "cpu_time": 14.12,
          "name": "RandomProcess1_1",
          "real_mem": 428363776,
          "time": 1616474006.0964966
         },
         {
          "cpu_percent": 98.1,
          "cpu_time": 14.18,
          "name": "DropDuplicates_1",
          "real_mem": 428429312,
          "time": 1616474006.170993
         },
         {
          "cpu_percent": 97.4,
          "cpu_time": 14.23,
          "name": "RandomProcess3_1",
          "real_mem": 428630016,
          "time": 1616474006.1941097
         },
         {
          "cpu_percent": 96.2,
          "cpu_time": 14.270000000000001,
          "name": "RandomProcess2_1",
          "real_mem": 428896256,
          "time": 1616474006.2722065
         },
         {
          "cpu_percent": 97.9,
          "cpu_time": 14.31,
          "name": "ReadCsvProjectSpace_1",
          "real_mem": 428929024,
          "time": 1616474006.294576
         },
         {
          "cpu_percent": 0,
          "cpu_time": 14.620000000000001,
          "name": "RandomProcess1_1",
          "real_mem": 425218048,
          "time": 1616474006.6205244
         },
         {
          "cpu_percent": 294.6,
          "cpu_time": 14.72,
          "name": "DropDuplicates_1",
          "real_mem": 425623552,
          "time": 1616474006.6938329
         },
         {
          "cpu_percent": 0,
          "cpu_time": 14.73,
          "name": "RandomProcess3_1",
          "real_mem": 425623552,
          "time": 1616474006.716654
         },
         {
          "cpu_percent": 0,
          "cpu_time": 14.82,
          "name": "RandomProcess2_1",
          "real_mem": 425889792,
          "time": 1616474006.8011131
         },
         {
          "cpu_percent": 97.6,
          "cpu_time": 14.860000000000001,
          "name": "ReadCsvProjectSpace_1",
          "real_mem": 426426368,
          "time": 1616474006.869951
         },
         {
          "cpu_percent": 195.9,
          "cpu_time": 15.15,
          "name": "RandomProcess1_1",
          "real_mem": 428290048,
          "time": 1616474007.1704571
         },
         {
          "cpu_percent": 194.1,
          "cpu_time": 15.21,
          "name": "DropDuplicates_1",
          "real_mem": 428642304,
          "time": 1616474007.2167716
         },
         {
          "cpu_percent": 196.8,
          "cpu_time": 15.25,
          "name": "RandomProcess3_1",
          "real_mem": 429002752,
          "time": 1616474007.2703853
         },
         {
          "cpu_percent": 197.2,
          "cpu_time": 15.34,
          "name": "RandomProcess2_1",
          "real_mem": 429080576,
          "time": 1616474007.369816
         },
         {
          "cpu_percent": 195.6,
          "cpu_time": 15.39,
          "name": "ReadCsvProjectSpace_1",
          "real_mem": 429137920,
          "time": 1616474007.3922083
         },
         {
          "cpu_percent": 193.7,
          "cpu_time": 15.68,
          "name": "RandomProcess1_1",
          "real_mem": 431034368,
          "time": 1616474007.69359
         },
         {
          "cpu_percent": 295,
          "cpu_time": 15.74,
          "name": "DropDuplicates_1",
          "real_mem": 431034368,
          "time": 1616474007.7705786
         },
         {
          "cpu_percent": 196.3,
          "cpu_time": 15.78,
          "name": "RandomProcess3_1",
          "real_mem": 431378432,
          "time": 1616474007.7925973
         },
         {
          "cpu_percent": 0,
          "cpu_time": 15.88,
          "name": "RandomProcess2_1",
          "real_mem": 431726592,
          "time": 1616474007.9486787
         },
         {
          "cpu_percent": 293.8,
          "cpu_time": 15.93,
          "name": "ReadCsvProjectSpace_1",
          "real_mem": 431775744,
          "time": 1616474007.9710093
         },
         {
          "cpu_percent": 97.8,
          "cpu_time": 16.16,
          "name": "RandomProcess1_1",
          "real_mem": 433741824,
          "time": 1616474008.2162957
         },
         {
          "cpu_percent": 196.7,
          "cpu_time": 16.240000000000002,
          "name": "DropDuplicates_1",
          "real_mem": 434151424,
          "time": 1616474008.293248
         },
         {
          "cpu_percent": 98.2,
          "cpu_time": 16.27,
          "name": "RandomProcess3_1",
          "real_mem": 434233344,
          "time": 1616474008.31547
         },
         {
          "cpu_percent": 196.8,
          "cpu_time": 16.41,
          "name": "RandomProcess2_1",
          "real_mem": 434786304,
          "time": 1616474008.4719474
         },
         {
          "cpu_percent": 171.7,
          "cpu_time": 16.45,
          "name": "ReadCsvProjectSpace_1",
          "real_mem": 434847744,
          "time": 1616474008.4965596
         },
         {
          "cpu_percent": 97.7,
          "cpu_time": 16.650000000000002,
          "name": "RandomProcess1_1",
          "real_mem": 436183040,
          "time": 1616474008.7389908
         },
         {
          "cpu_percent": 0,
          "cpu_time": 16.75,
          "name": "DropDuplicates_1",
          "real_mem": 436678656,
          "time": 1616474008.8175519
         },
         {
          "cpu_percent": 98.3,
          "cpu_time": 16.78,
          "name": "RandomProcess3_1",
          "real_mem": 437145600,
          "time": 1616474008.8712184
         },
         {
          "cpu_percent": 292.2,
          "cpu_time": 17,
          "name": "ReadCsvProjectSpace_1",
          "real_mem": 438366208,
          "time": 1616474009.0709157
         },
         {
          "cpu_percent": 15.5,
          "cpu_time": 16.95,
          "name": "RandomProcess2_1",
          "real_mem": 438161408,
          "time": 1616474009.0486376
         },
         {
          "cpu_percent": 196.9,
          "cpu_time": 17.16,
          "name": "RandomProcess1_1",
          "real_mem": 440274944,
          "time": 1616474009.2702527
         },
         {
          "cpu_percent": 191.7,
          "cpu_time": 17.27,
          "name": "DropDuplicates_1",
          "real_mem": 440954880,
          "time": 1616474009.3699312
         },
         {
          "cpu_percent": 197,
          "cpu_time": 17.310000000000002,
          "name": "RandomProcess3_1",
          "real_mem": 441311232,
          "time": 1616474009.3941712
         },
         {
          "cpu_percent": 195,
          "cpu_time": 17.459999999999997,
          "name": "RandomProcess2_1",
          "real_mem": 442503168,
          "time": 1616474009.5719507
         },
         {
          "cpu_percent": 196.9,
          "cpu_time": 17.509999999999998,
          "name": "ReadCsvProjectSpace_1",
          "real_mem": 442761216,
          "time": 1616474009.5938222
         },
         {
          "cpu_percent": 30.8,
          "cpu_time": 17.73,
          "name": "RandomProcess1_1",
          "real_mem": 443916288,
          "time": 1616474009.848723
         },
         {
          "cpu_percent": 197.2,
          "cpu_time": 17.8,
          "name": "DropDuplicates_1",
          "real_mem": 444289024,
          "time": 1616474009.8927088
         },
         {
          "cpu_percent": 294,
          "cpu_time": 17.84,
          "name": "RandomProcess3_1",
          "real_mem": 445157376,
          "time": 1616474009.9591095
         },
         {
          "cpu_percent": 293,
          "cpu_time": 18.01,
          "name": "RandomProcess2_1",
          "real_mem": 445833216,
          "time": 1616474010.0961187
         },
         {
          "cpu_percent": 294.6,
          "cpu_time": 18.069999999999997,
          "name": "ReadCsvProjectSpace_1",
          "real_mem": 446062592,
          "time": 1616474010.171224
         },
         {
          "cpu_percent": 296,
          "cpu_time": 18.25,
          "name": "RandomProcess1_1",
          "real_mem": 446869504,
          "time": 1616474010.3713527
         },
         {
          "cpu_percent": 0,
          "cpu_time": 18.299999999999997,
          "name": "DropDuplicates_1",
          "real_mem": 447299584,
          "time": 1616474010.4158902
         },
         {
          "cpu_percent": 293.9,
          "cpu_time": 18.369999999999997,
          "name": "RandomProcess3_1",
          "real_mem": 447950848,
          "time": 1616474010.4813647
         },
         {
          "cpu_percent": 195.8,
          "cpu_time": 18.529999999999998,
          "name": "RandomProcess2_1",
          "real_mem": 449503232,
          "time": 1616474010.6697595
         },
         {
          "cpu_percent": 196.9,
          "cpu_time": 18.59,
          "name": "ReadCsvProjectSpace_1",
          "real_mem": 449503232,
          "time": 1616474010.748529
         },
         {
          "cpu_percent": 195.6,
          "cpu_time": 18.78,
          "name": "RandomProcess1_1",
          "real_mem": 450621440,
          "time": 1616474010.8944294
         },
         {
          "cpu_percent": 393,
          "cpu_time": 18.85,
          "name": "DropDuplicates_1",
          "real_mem": 450760704,
          "time": 1616474010.970561
         },
         {
          "cpu_percent": 0,
          "cpu_time": 18.900000000000002,
          "name": "RandomProcess3_1",
          "real_mem": 451727360,
          "time": 1616474011.0699658
         },
         {
          "cpu_percent": 196.6,
          "cpu_time": 19.05,
          "name": "RandomProcess2_1",
          "real_mem": 452243456,
          "time": 1616474011.1926782
         },
         {
          "cpu_percent": 96.5,
          "cpu_time": 19.11,
          "name": "ReadCsvProjectSpace_1",
          "real_mem": 452562944,
          "time": 1616474011.272025
         },
         {
          "cpu_percent": 98.2,
          "cpu_time": 19.259999999999998,
          "name": "RandomProcess1_1",
          "real_mem": 454459392,
          "time": 1616474011.4178715
         },
         {
          "cpu_percent": 30.8,
          "cpu_time": 19.36,
          "name": "DropDuplicates_1",
          "real_mem": 454979584,
          "time": 1616474011.5485315
         },
         {
          "cpu_percent": 196.4,
          "cpu_time": 19.46,
          "name": "RandomProcess3_1",
          "real_mem": 456105984,
          "time": 1616474011.5924664
         },
         {
          "cpu_percent": 294.5,
          "cpu_time": 19.62,
          "name": "RandomProcess2_1",
          "real_mem": 457740288,
          "time": 1616474011.7703285
         },
         {
          "cpu_percent": 0,
          "cpu_time": 19.650000000000002,
          "name": "ReadCsvProjectSpace_1",
          "real_mem": 458010624,
          "time": 1616474011.7944195
         },
         {
          "cpu_percent": 287.9,
          "cpu_time": 19.810000000000002,
          "name": "RandomProcess1_1",
          "real_mem": 459145216,
          "time": 1616474011.9702072
         },
         {
          "cpu_percent": 197.1,
          "cpu_time": 19.87,
          "name": "DropDuplicates_1",
          "real_mem": 459866112,
          "time": 1616474012.0708547
         },
         {
          "cpu_percent": 98.2,
          "cpu_time": 19.93,
          "name": "RandomProcess3_1",
          "real_mem": 460353536,
          "time": 1616474012.1155849
         },
         {
          "cpu_percent": 15.5,
          "cpu_time": 20.14,
          "name": "RandomProcess2_1",
          "real_mem": 461357056,
          "time": 1616474012.3486245
         },
         {
          "cpu_percent": 196.5,
          "cpu_time": 20.18,
          "name": "ReadCsvProjectSpace_1",
          "real_mem": 462561280,
          "time": 1616474012.370738
         },
         {
          "cpu_percent": 98,
          "cpu_time": 20.32,
          "name": "RandomProcess1_1",
          "real_mem": 463319040,
          "time": 1616474012.493037
         },
         {
          "cpu_percent": 196.2,
          "cpu_time": 20.43,
          "name": "DropDuplicates_1",
          "real_mem": 464171008,
          "time": 1616474012.594409
         },
         {
          "cpu_percent": 196,
          "cpu_time": 20.48,
          "name": "RandomProcess3_1",
          "real_mem": 464687104,
          "time": 1616474012.6716137
         },
         {
          "cpu_percent": 290.6,
          "cpu_time": 20.71,
          "name": "ReadCsvProjectSpace_1",
          "real_mem": 467406848,
          "time": 1616474012.8938017
         },
         {
          "cpu_percent": 195.1,
          "cpu_time": 20.67,
          "name": "RandomProcess2_1",
          "real_mem": 466362368,
          "time": 1616474012.8715553
         },
         {
          "cpu_percent": 98.4,
          "cpu_time": 20.86,
          "name": "RandomProcess1_1",
          "real_mem": 468639744,
          "time": 1616474013.069728
         },
         {
          "cpu_percent": 196.6,
          "cpu_time": 20.97,
          "name": "DropDuplicates_1",
          "real_mem": 468869120,
          "time": 1616474013.1694934
         },
         {
          "cpu_percent": 98.2,
          "cpu_time": 21.01,
          "name": "RandomProcess3_1",
          "real_mem": 468975616,
          "time": 1616474013.1941235
         },
         {
          "cpu_percent": 98.2,
          "cpu_time": 21.15,
          "name": "RandomProcess2_1",
          "real_mem": 468975616,
          "time": 1616474013.3942986
         },
         {
          "cpu_percent": 193.7,
          "cpu_time": 21.19,
          "name": "ReadCsvProjectSpace_1",
          "real_mem": 469499904,
          "time": 1616474013.41665
         },
         {
          "cpu_percent": 0,
          "cpu_time": 21.38,
          "name": "RandomProcess1_1",
          "real_mem": 470634496,
          "time": 1616474013.5945854
         },
         {
          "cpu_percent": 195.7,
          "cpu_time": 21.490000000000002,
          "name": "DropDuplicates_1",
          "real_mem": 470978560,
          "time": 1616474013.6923118
         },
         {
          "cpu_percent": 196.1,
          "cpu_time": 21.549999999999997,
          "name": "RandomProcess3_1",
          "real_mem": 471367680,
          "time": 1616474013.7710729
         },
         {
          "cpu_percent": 98,
          "cpu_time": 21.72,
          "name": "RandomProcess2_1",
          "real_mem": 471408640,
          "time": 1616474013.970183
         },
         {
          "cpu_percent": 195.2,
          "cpu_time": 21.759999999999998,
          "name": "ReadCsvProjectSpace_1",
          "real_mem": 471408640,
          "time": 1616474013.992265
         },
         {
          "cpu_percent": 196.3,
          "cpu_time": 21.919999999999998,
          "name": "RandomProcess1_1",
          "real_mem": 471564288,
          "time": 1616474014.1700244
         },
         {
          "cpu_percent": 197.1,
          "cpu_time": 21.99,
          "name": "DropDuplicates_1",
          "real_mem": 471867392,
          "time": 1616474014.2591553
         },
         {
          "cpu_percent": 196.7,
          "cpu_time": 22.05,
          "name": "RandomProcess3_1",
          "real_mem": 471867392,
          "time": 1616474014.2934372
         },
         {
          "cpu_percent": 14.9,
          "cpu_time": 22.270000000000003,
          "name": "RandomProcess2_1",
          "real_mem": 472412160,
          "time": 1616474014.550444
         },
         {
          "cpu_percent": 0,
          "cpu_time": 22.35,
          "name": "ReadCsvProjectSpace_1",
          "real_mem": 472948736,
          "time": 1616474014.6073372
         },
         {
          "cpu_percent": 13.3,
          "cpu_time": 22.62,
          "name": "DropDuplicates_1",
          "real_mem": 473632768,
          "time": 1616474014.9488063
         },
         {
          "cpu_percent": 389.5,
          "cpu_time": 22.7,
          "name": "RandomProcess3_1",
          "real_mem": 474443776,
          "time": 1616474014.9715645
         },
         {
          "cpu_percent": 297.09999999999997,
          "cpu_time": 22.57,
          "name": "RandomProcess1_1",
          "real_mem": 473632768,
          "time": 1616474014.860824
         },
         {
          "cpu_percent": 0,
          "cpu_time": 22.8,
          "name": "RandomProcess2_1",
          "real_mem": 475033600,
          "time": 1616474015.149836
         },
         {
          "cpu_percent": 13.4,
          "cpu_time": 23.090000000000003,
          "name": "RandomProcess1_1",
          "real_mem": 476184576,
          "time": 1616474015.4486609
         },
         {
          "cpu_percent": 57.6,
          "cpu_time": 23.18,
          "name": "DropDuplicates_1",
          "real_mem": 478031872,
          "time": 1616474015.548381
         },
         {
          "cpu_percent": 197.1,
          "cpu_time": 23.259999999999998,
          "name": "RandomProcess3_1",
          "real_mem": 480329728,
          "time": 1616474015.5703614
         },
         {
          "cpu_percent": 47.2,
          "cpu_time": 23.37,
          "name": "RandomProcess2_1",
          "real_mem": 480808960,
          "time": 1616474015.74845
         },
         {
          "cpu_percent": 196.9,
          "cpu_time": 23.66,
          "name": "RandomProcess1_1",
          "real_mem": 486293504,
          "time": 1616474016.0487375
         },
         {
          "cpu_percent": 295.4,
          "cpu_time": 23.740000000000002,
          "name": "DropDuplicates_1",
          "real_mem": 494268416,
          "time": 1616474016.0710714
         },
         {
          "cpu_percent": 97.2,
          "cpu_time": 23.76,
          "name": "RandomProcess3_1",
          "real_mem": 502378496,
          "time": 1616474016.1590123
         },
         {
          "cpu_percent": 392.9,
          "cpu_time": 23.93,
          "name": "RandomProcess2_1",
          "real_mem": 518868992,
          "time": 1616474016.2722938
         },
         {
          "cpu_percent": 490.1,
          "cpu_time": 24.74,
          "name": "RandomProcess1_1",
          "real_mem": 520527872,
          "time": 1616474017.0732627
         },
         {
          "cpu_percent": 491.8,
          "cpu_time": 24.88,
          "name": "RandomProcess3_1",
          "real_mem": 521089024,
          "time": 1616474017.2592695
         },
         {
          "cpu_percent": 294.8,
          "cpu_time": 24.82,
          "name": "DropDuplicates_1",
          "real_mem": 520962048,
          "time": 1616474017.170829
         },
         {
          "cpu_percent": 56.6,
          "cpu_time": 25.02,
          "name": "RandomProcess2_1",
          "real_mem": 521543680,
          "time": 1616474017.4485893
         },
         {
          "cpu_percent": 0,
          "cpu_time": 25.86,
          "name": "RandomProcess3_1",
          "real_mem": 524206080,
          "time": 1616474018.2941666
         },
         {
          "cpu_percent": 394.5,
          "cpu_time": 26.04,
          "name": "RandomProcess2_1",
          "real_mem": 524623872,
          "time": 1616474018.4709492
         },
         {
          "cpu_percent": 0,
          "cpu_time": 26.94,
          "name": "RandomProcess3_1",
          "real_mem": 526725120,
          "time": 1616474019.392407
         },
         {
          "cpu_percent": 295.2,
          "cpu_time": 27.1,
          "name": "RandomProcess2_1",
          "real_mem": 527536128,
          "time": 1616474019.5708945
         },
         {
          "cpu_percent": 14.9,
          "cpu_time": 28.01,
          "name": "RandomProcess3_1",
          "real_mem": 531529728,
          "time": 1616474020.5485334
         },
         {
          "cpu_percent": 491.2,
          "cpu_time": 28.14,
          "name": "RandomProcess2_1",
          "real_mem": 532131840,
          "time": 1616474020.6590655
         },
         {
          "cpu_percent": 393.3,
          "cpu_time": 29.06,
          "name": "RandomProcess3_1",
          "real_mem": 562626560,
          "time": 1616474021.5718606
         },
         {
          "cpu_percent": 293.7,
          "cpu_time": 29.16,
          "name": "RandomProcess2_1",
          "real_mem": 580050944,
          "time": 1616474021.682827
         },
         {
          "cpu_percent": 489.29999999999995,
          "cpu_time": 30.14,
          "name": "RandomProcess3_1",
          "real_mem": 606089216,
          "time": 1616474022.6713378
         },
         {
          "cpu_percent": 293.6,
          "cpu_time": 30.220000000000002,
          "name": "RandomProcess2_1",
          "real_mem": 606195712,
          "time": 1616474022.770808
         },
         {
          "cpu_percent": 0,
          "cpu_time": 31.12,
          "name": "RandomProcess3_1",
          "real_mem": 615800832,
          "time": 1616474023.6944885
         },
         {
          "cpu_percent": 0,
          "cpu_time": 31.220000000000002,
          "name": "RandomProcess2_1",
          "real_mem": 616673280,
          "time": 1616474023.7941644
         },
         {
          "cpu_percent": 196.5,
          "cpu_time": 32.160000000000004,
          "name": "RandomProcess3_1",
          "real_mem": 617525248,
          "time": 1616474024.7700179
         },
         {
          "cpu_percent": 291.6,
          "cpu_time": 32.27,
          "name": "RandomProcess2_1",
          "real_mem": 617656320,
          "time": 1616474024.8710656
         },
         {
          "cpu_percent": 391,
          "cpu_time": 33.21,
          "name": "RandomProcess3_1",
          "real_mem": 618856448,
          "time": 1616474025.8593512
         },
         {
          "cpu_percent": 393.4,
          "cpu_time": 33.31,
          "name": "RandomProcess2_1",
          "real_mem": 620478464,
          "time": 1616474025.9694579
         },
         {
          "cpu_percent": 26.3,
          "cpu_time": 34.22,
          "name": "RandomProcess3_1",
          "real_mem": 622133248,
          "time": 1616474026.948621
         },
         {
          "cpu_percent": 0,
          "cpu_time": 34.32,
          "name": "RandomProcess2_1",
          "real_mem": 622428160,
          "time": 1616474026.992576
         },
         {
          "cpu_percent": 294.6,
          "cpu_time": 35.300000000000004,
          "name": "RandomProcess3_1",
          "real_mem": 623112192,
          "time": 1616474027.9723825
         },
         {
          "cpu_percent": 387.2,
          "cpu_time": 35.38,
          "name": "RandomProcess2_1",
          "real_mem": 623247360,
          "time": 1616474028.0708644
         },
         {
          "cpu_percent": 0,
          "cpu_time": 36.28,
          "name": "RandomProcess3_1",
          "real_mem": 625123328,
          "time": 1616474028.995785
         },
         {
          "cpu_percent": 44.7,
          "cpu_time": 36.47,
          "name": "RandomProcess2_1",
          "real_mem": 625123328,
          "time": 1616474029.2488363
         },
         {
          "cpu_percent": 294.8,
          "cpu_time": 37.309999999999995,
          "name": "RandomProcess3_1",
          "real_mem": 626171904,
          "time": 1616474030.0701625
         },
         {
          "cpu_percent": 289.3,
          "cpu_time": 37.51,
          "name": "RandomProcess2_1",
          "real_mem": 626311168,
          "time": 1616474030.2721658
         },
         {
          "cpu_percent": 0,
          "cpu_time": 38.309999999999995,
          "name": "RandomProcess3_1",
          "real_mem": 628097024,
          "time": 1616474031.0942981
         },
         {
          "cpu_percent": 15.6,
          "cpu_time": 38.52,
          "name": "RandomProcess2_1",
          "real_mem": 628137984,
          "time": 1616474031.3497443
         },
         {
          "cpu_percent": 295,
          "cpu_time": 39.38,
          "name": "RandomProcess3_1",
          "real_mem": 628965376,
          "time": 1616474032.1792037
         },
         {
          "cpu_percent": 295,
          "cpu_time": 39.559999999999995,
          "name": "RandomProcess2_1",
          "real_mem": 629051392,
          "time": 1616474032.373201
         },
         {
          "cpu_percent": 293.4,
          "cpu_time": 40.42,
          "name": "RandomProcess3_1",
          "real_mem": 631185408,
          "time": 1616474033.2714922
         },
         {
          "cpu_percent": 293.9,
          "cpu_time": 40.64,
          "name": "RandomProcess2_1",
          "real_mem": 631357440,
          "time": 1616474033.4701757
         },
         {
          "cpu_percent": 0,
          "cpu_time": 41.41,
          "name": "RandomProcess3_1",
          "real_mem": 652402688,
          "time": 1616474034.2951
         },
         {
          "cpu_percent": 196.4,
          "cpu_time": 42.42999999999999,
          "name": "RandomProcess3_1",
          "real_mem": 684654592,
          "time": 1616474035.3808527
         },
         {
          "cpu_percent": 392.4,
          "cpu_time": 43.529999999999994,
          "name": "RandomProcess3_1",
          "real_mem": 734261248,
          "time": 1616474036.5591846
         },
         {
          "cpu_percent": 0,
          "cpu_time": 44.599999999999994,
          "name": "RandomProcess3_1",
          "real_mem": 803635200,
          "time": 1616474037.614008
         },
         {
          "cpu_percent": 195.8,
          "cpu_time": 45.66,
          "name": "RandomProcess3_1",
          "real_mem": 804528128,
          "time": 1616474038.7593124
         },
         {
          "cpu_percent": 294.8,
          "cpu_time": 46.74,
          "name": "RandomProcess3_1",
          "real_mem": 834957312,
          "time": 1616474039.859914
         },
         {
          "cpu_percent": 197,
          "cpu_time": 47.800000000000004,
          "name": "RandomProcess3_1",
          "real_mem": 836173824,
          "time": 1616474040.9484737
         },
         {
          "cpu_percent": 0,
          "cpu_time": 48.41,
          "name": "RandomProcess3_1",
          "real_mem": 840368128,
          "time": 1616474042.080123
         },
         {
          "cpu_percent": 290.9,
          "cpu_time": 49.54,
          "name": "RandomProcess3_1",
          "real_mem": 842199040,
          "time": 1616474043.2591162
         },
         {
          "cpu_percent": 197.1,
          "cpu_time": 50.61,
          "name": "RandomProcess3_1",
          "real_mem": 843096064,
          "time": 1616474044.3705204
         },
         {
          "cpu_percent": 196,
          "cpu_time": 51.71,
          "name": "RandomProcess3_1",
          "real_mem": 848678912,
          "time": 1616474045.4693997
         },
         {
          "cpu_percent": 98,
          "cpu_time": 52.730000000000004,
          "name": "RandomProcess3_1",
          "real_mem": 849846272,
          "time": 1616474046.525389
         },
         {
          "cpu_percent": 195.5,
          "cpu_time": 53.769999999999996,
          "name": "RandomProcess3_1",
          "real_mem": 851030016,
          "time": 1616474047.6591637
         },
         {
          "cpu_percent": 98.2,
          "cpu_time": 54.85,
          "name": "RandomProcess3_1",
          "real_mem": 869199872,
          "time": 1616474048.7495067
         }
        ],
        "logs": [
         {
          "asctime": "2021-03-23 04:33:10,676",
          "created": 1616473990.6769764,
          "extra": {},
          "filename": "async_executors.py",
          "funcName": "main",
          "levelname": "DEBUG",
          "lineno": 114,
          "message": "NonSparkPath_1: started async block execution\n",
          "name": "engine.logs:NonSparkPath_1",
          "pathname": "/usr/local/lib/python3.7/dist-packages/razor/flow/async_executors.py",
          "process": 1668,
          "processName": "ForkProcess-1:1",
          "thread": 140061051098944,
          "threadName": "MainThread"
         },
         {
          "asctime": "2021-03-23 04:33:10,696",
          "created": 1616473990.696146,
          "extra": {},
          "filename": "async_executors.py",
          "funcName": "fill_atomic_inputs",
          "levelname": "INFO",
          "lineno": 250,
          "message": "NonSparkPath_1: waiting for atomic input: ip_path",
          "name": "engine.logs:NonSparkPath_1",
          "pathname": "/usr/local/lib/python3.7/dist-packages/razor/flow/async_executors.py",
          "process": 1668,
          "processName": "ForkProcess-1:1",
          "thread": 140061051098944,
          "threadName": "MainThread"
         },
         {
          "asctime": "2021-03-23 04:33:10,696",
          "created": 1616473990.696334,
          "extra": {},
          "filename": "async_executors.py",
          "funcName": "fill_atomic_inputs",
          "levelname": "DEBUG",
          "lineno": 253,
          "message": "NonSparkPath_1: got atomic input: customer_data.csv",
          "name": "engine.logs:NonSparkPath_1",
          "pathname": "/usr/local/lib/python3.7/dist-packages/razor/flow/async_executors.py",
          "process": 1668,
          "processName": "ForkProcess-1:1",
          "thread": 140061051098944,
          "threadName": "MainThread"
         },
         {
          "asctime": "2021-03-23 04:33:10,696",
          "created": 1616473990.6964028,
          "extra": {},
          "filename": "async_executors.py",
          "funcName": "main",
          "levelname": "DEBUG",
          "lineno": 130,
          "message": "NonSparkPath_1: triggering block run",
          "name": "engine.logs:NonSparkPath_1",
          "pathname": "/usr/local/lib/python3.7/dist-packages/razor/flow/async_executors.py",
          "process": 1668,
          "processName": "ForkProcess-1:1",
          "thread": 140061051098944,
          "threadName": "MainThread"
         },
         {
          "asctime": "2021-03-23 04:33:10,890",
          "created": 1616473990.8903112,
          "extra": {},
          "filename": "async_executors.py",
          "funcName": "distribute_output_queue",
          "levelname": "DEBUG",
          "lineno": 308,
          "message": "NonSparkPath_1: ---- dist output: /home/aios/projectspace/customer_data.csv -> ('ReadCsvProjectSpace_1', 'filename')",
          "name": "engine.logs:NonSparkPath_1",
          "pathname": "/usr/local/lib/python3.7/dist-packages/razor/flow/async_executors.py",
          "process": 1668,
          "processName": "ForkProcess-1:1",
          "thread": 140061051098944,
          "threadName": "MainThread"
         },
         {
          "asctime": "2021-03-23 04:33:10,890",
          "created": 1616473990.8906748,
          "extra": {},
          "filename": "async_executors.py",
          "funcName": "main",
          "levelname": "DEBUG",
          "lineno": 147,
          "message": "NonSparkPath_1: block thread completed",
          "name": "engine.logs:NonSparkPath_1",
          "pathname": "/usr/local/lib/python3.7/dist-packages/razor/flow/async_executors.py",
          "process": 1668,
          "processName": "ForkProcess-1:1",
          "thread": 140061051098944,
          "threadName": "MainThread"
         },
         {
          "asctime": "2021-03-23 04:33:10,890",
          "created": 1616473990.8907626,
          "extra": {},
          "filename": "async_executors.py",
          "funcName": "main",
          "levelname": "DEBUG",
          "lineno": 149,
          "message": "NonSparkPath_1: block execution complete",
          "name": "engine.logs:NonSparkPath_1",
          "pathname": "/usr/local/lib/python3.7/dist-packages/razor/flow/async_executors.py",
          "process": 1668,
          "processName": "ForkProcess-1:1",
          "thread": 140061051098944,
          "threadName": "MainThread"
         },
         {
          "asctime": "2021-03-23 04:33:10,890",
          "created": 1616473990.8908806,
          "extra": {},
          "filename": "async_executors.py",
          "funcName": "distribute_output_queue",
          "levelname": "DEBUG",
          "lineno": 308,
          "message": "NonSparkPath_1: ---- dist output: b'__!\\tEndOfStream\\t!__' -> ('ReadCsvProjectSpace_1', 'filename')",
          "name": "engine.logs:NonSparkPath_1",
          "pathname": "/usr/local/lib/python3.7/dist-packages/razor/flow/async_executors.py",
          "process": 1668,
          "processName": "ForkProcess-1:1",
          "thread": 140061051098944,
          "threadName": "MainThread"
         },
         {
          "asctime": "2021-03-23 04:33:10,923",
          "created": 1616473990.9233046,
          "extra": {},
          "filename": "async_executors.py",
          "funcName": "main",
          "levelname": "DEBUG",
          "lineno": 114,
          "message": "RandomProcess1_1: started async block execution\n",
          "name": "engine.logs:RandomProcess1_1",
          "pathname": "/usr/local/lib/python3.7/dist-packages/razor/flow/async_executors.py",
          "process": 1676,
          "processName": "ForkProcess-1:2",
          "thread": 140061051098944,
          "threadName": "MainThread"
         },
         {
          "asctime": "2021-03-23 04:33:10,925",
          "created": 1616473990.925121,
          "extra": {},
          "filename": "async_executors.py",
          "funcName": "main",
          "levelname": "DEBUG",
          "lineno": 114,
          "message": "DropDuplicates_1: started async block execution\n",
          "name": "engine.logs:DropDuplicates_1",
          "pathname": "/usr/local/lib/python3.7/dist-packages/razor/flow/async_executors.py",
          "process": 1676,
          "processName": "ForkProcess-1:2",
          "thread": 140061051098944,
          "threadName": "MainThread"
         },
         {
          "asctime": "2021-03-23 04:33:10,926",
          "created": 1616473990.9264326,
          "extra": {},
          "filename": "async_executors.py",
          "funcName": "main",
          "levelname": "DEBUG",
          "lineno": 114,
          "message": "RandomProcess2_1: started async block execution\n",
          "name": "engine.logs:RandomProcess2_1",
          "pathname": "/usr/local/lib/python3.7/dist-packages/razor/flow/async_executors.py",
          "process": 1676,
          "processName": "ForkProcess-1:2",
          "thread": 140061051098944,
          "threadName": "MainThread"
         },
         {
          "asctime": "2021-03-23 04:33:10,926",
          "created": 1616473990.926969,
          "extra": {},
          "filename": "async_executors.py",
          "funcName": "main",
          "levelname": "DEBUG",
          "lineno": 114,
          "message": "ReadCsvProjectSpace_1: started async block execution\n",
          "name": "engine.logs:ReadCsvProjectSpace_1",
          "pathname": "/usr/local/lib/python3.7/dist-packages/razor/flow/async_executors.py",
          "process": 1676,
          "processName": "ForkProcess-1:2",
          "thread": 140061051098944,
          "threadName": "MainThread"
         },
         {
          "asctime": "2021-03-23 04:33:10,925",
          "created": 1616473990.925874,
          "extra": {},
          "filename": "async_executors.py",
          "funcName": "main",
          "levelname": "DEBUG",
          "lineno": 114,
          "message": "RandomProcess3_1: started async block execution\n",
          "name": "engine.logs:RandomProcess3_1",
          "pathname": "/usr/local/lib/python3.7/dist-packages/razor/flow/async_executors.py",
          "process": 1676,
          "processName": "ForkProcess-1:2",
          "thread": 140061051098944,
          "threadName": "MainThread"
         },
         {
          "asctime": "2021-03-23 04:33:10,943",
          "created": 1616473990.9434366,
          "extra": {},
          "filename": "async_executors.py",
          "funcName": "fill_atomic_inputs",
          "levelname": "INFO",
          "lineno": 250,
          "message": "RandomProcess1_1: waiting for atomic input: ip_data",
          "name": "engine.logs:RandomProcess1_1",
          "pathname": "/usr/local/lib/python3.7/dist-packages/razor/flow/async_executors.py",
          "process": 1676,
          "processName": "ForkProcess-1:2",
          "thread": 140061051098944,
          "threadName": "MainThread"
         },
         {
          "asctime": "2021-03-23 04:33:10,966",
          "created": 1616473990.9663696,
          "extra": {},
          "filename": "async_executors.py",
          "funcName": "fill_atomic_inputs",
          "levelname": "INFO",
          "lineno": 250,
          "message": "DropDuplicates_1: waiting for atomic input: ip_data",
          "name": "engine.logs:DropDuplicates_1",
          "pathname": "/usr/local/lib/python3.7/dist-packages/razor/flow/async_executors.py",
          "process": 1676,
          "processName": "ForkProcess-1:2",
          "thread": 140061051098944,
          "threadName": "MainThread"
         },
         {
          "asctime": "2021-03-23 04:33:10,994",
          "created": 1616473990.994708,
          "extra": {},
          "filename": "async_executors.py",
          "funcName": "fill_atomic_inputs",
          "levelname": "INFO",
          "lineno": 250,
          "message": "RandomProcess2_1: waiting for atomic input: ip_data",
          "name": "engine.logs:RandomProcess2_1",
          "pathname": "/usr/local/lib/python3.7/dist-packages/razor/flow/async_executors.py",
          "process": 1676,
          "processName": "ForkProcess-1:2",
          "thread": 140061051098944,
          "threadName": "MainThread"
         },
         {
          "asctime": "2021-03-23 04:33:11,008",
          "created": 1616473991.0081315,
          "extra": {},
          "filename": "async_executors.py",
          "funcName": "fill_atomic_inputs",
          "levelname": "INFO",
          "lineno": 250,
          "message": "ReadCsvProjectSpace_1: waiting for atomic input: filename",
          "name": "engine.logs:ReadCsvProjectSpace_1",
          "pathname": "/usr/local/lib/python3.7/dist-packages/razor/flow/async_executors.py",
          "process": 1676,
          "processName": "ForkProcess-1:2",
          "thread": 140061051098944,
          "threadName": "MainThread"
         },
         {
          "asctime": "2021-03-23 04:33:10,980",
          "created": 1616473990.9805317,
          "extra": {},
          "filename": "async_executors.py",
          "funcName": "fill_atomic_inputs",
          "levelname": "INFO",
          "lineno": 250,
          "message": "RandomProcess3_1: waiting for atomic input: ip_data",
          "name": "engine.logs:RandomProcess3_1",
          "pathname": "/usr/local/lib/python3.7/dist-packages/razor/flow/async_executors.py",
          "process": 1676,
          "processName": "ForkProcess-1:2",
          "thread": 140061051098944,
          "threadName": "MainThread"
         },
         {
          "asctime": "2021-03-23 04:33:11,017",
          "created": 1616473991.0173383,
          "extra": {},
          "filename": "async_executors.py",
          "funcName": "start_input_receiver",
          "levelname": "DEBUG",
          "lineno": 173,
          "message": "NonSparkPath_1: received cmd: start_sender, (), {'out_name': 'op_path', 'target': ('ReadCsvProjectSpace_1', 'filename'), 'out_addr': 'tcp://0.0.0.0:59801', 'in_memory': None}",
          "name": "engine.logs:NonSparkPath_1",
          "pathname": "/usr/local/lib/python3.7/dist-packages/razor/flow/async_executors.py",
          "process": 1668,
          "processName": "ForkProcess-1:1",
          "thread": 140061051098944,
          "threadName": "MainThread"
         },
         {
          "asctime": "2021-03-23 04:33:11,017",
          "created": 1616473991.0176897,
          "extra": {},
          "filename": "async_executors.py",
          "funcName": "start_output_sender",
          "levelname": "DEBUG",
          "lineno": 370,
          "message": "NonSparkPath_1: got start_sender, op_path, ('ReadCsvProjectSpace_1', 'filename')",
          "name": "engine.logs:NonSparkPath_1",
          "pathname": "/usr/local/lib/python3.7/dist-packages/razor/flow/async_executors.py",
          "process": 1668,
          "processName": "ForkProcess-1:1",
          "thread": 140061051098944,
          "threadName": "MainThread"
         },
         {
          "asctime": "2021-03-23 04:33:11,018",
          "created": 1616473991.018799,
          "extra": {},
          "filename": "async_executors.py",
          "funcName": "start_output_sender",
          "levelname": "DEBUG",
          "lineno": 388,
          "message": "NonSparkPath_1: SENT, filename, /home/aios/projectspace/customer_data.csv, ('ReadCsvProjectSpace_1', 'filename')",
          "name": "engine.logs:NonSparkPath_1",
          "pathname": "/usr/local/lib/python3.7/dist-packages/razor/flow/async_executors.py",
          "process": 1668,
          "processName": "ForkProcess-1:1",
          "thread": 140061051098944,
          "threadName": "MainThread"
         },
         {
          "asctime": "2021-03-23 04:33:11,019",
          "created": 1616473991.0190759,
          "extra": {},
          "filename": "async_executors.py",
          "funcName": "start_output_sender",
          "levelname": "DEBUG",
          "lineno": 388,
          "message": "NonSparkPath_1: SENT, filename, b'__!\\tEndOfStream\\t!__', ('ReadCsvProjectSpace_1', 'filename')",
          "name": "engine.logs:NonSparkPath_1",
          "pathname": "/usr/local/lib/python3.7/dist-packages/razor/flow/async_executors.py",
          "process": 1668,
          "processName": "ForkProcess-1:1",
          "thread": 140061051098944,
          "threadName": "MainThread"
         },
         {
          "asctime": "2021-03-23 04:33:11,019",
          "created": 1616473991.0193074,
          "extra": {},
          "filename": "async_executors.py",
          "funcName": "start_output_sender",
          "levelname": "DEBUG",
          "lineno": 391,
          "message": "NonSparkPath_1: completed output: ('op_path', ('ReadCsvProjectSpace_1', 'filename'))",
          "name": "engine.logs:NonSparkPath_1",
          "pathname": "/usr/local/lib/python3.7/dist-packages/razor/flow/async_executors.py",
          "process": 1668,
          "processName": "ForkProcess-1:1",
          "thread": 140061051098944,
          "threadName": "MainThread"
         },
         {
          "asctime": "2021-03-23 04:33:11,021",
          "created": 1616473991.0213633,
          "extra": {},
          "filename": "async_executors.py",
          "funcName": "start_input_receiver",
          "levelname": "DEBUG",
          "lineno": 177,
          "message": "ReadCsvProjectSpace_1: received data: filename, /home/aios/projectspace/customer_data.csv",
          "name": "engine.logs:ReadCsvProjectSpace_1",
          "pathname": "/usr/local/lib/python3.7/dist-packages/razor/flow/async_executors.py",
          "process": 1676,
          "processName": "ForkProcess-1:2",
          "thread": 140061051098944,
          "threadName": "MainThread"
         },
         {
          "asctime": "2021-03-23 04:33:11,022",
          "created": 1616473991.0221097,
          "extra": {},
          "filename": "async_executors.py",
          "funcName": "start_input_receiver",
          "levelname": "DEBUG",
          "lineno": 177,
          "message": "ReadCsvProjectSpace_1: received data: filename, b'__!\\tEndOfStream\\t!__'",
          "name": "engine.logs:ReadCsvProjectSpace_1",
          "pathname": "/usr/local/lib/python3.7/dist-packages/razor/flow/async_executors.py",
          "process": 1676,
          "processName": "ForkProcess-1:2",
          "thread": 140061051098944,
          "threadName": "MainThread"
         },
         {
          "asctime": "2021-03-23 04:33:11,022",
          "created": 1616473991.0223918,
          "extra": {},
          "filename": "async_executors.py",
          "funcName": "fill_atomic_inputs",
          "levelname": "DEBUG",
          "lineno": 253,
          "message": "ReadCsvProjectSpace_1: got atomic input: /home/aios/projectspace/customer_data.csv",
          "name": "engine.logs:ReadCsvProjectSpace_1",
          "pathname": "/usr/local/lib/python3.7/dist-packages/razor/flow/async_executors.py",
          "process": 1676,
          "processName": "ForkProcess-1:2",
          "thread": 140061051098944,
          "threadName": "MainThread"
         },
         {
          "asctime": "2021-03-23 04:33:11,022",
          "created": 1616473991.022496,
          "extra": {},
          "filename": "async_executors.py",
          "funcName": "fill_atomic_inputs",
          "levelname": "INFO",
          "lineno": 250,
          "message": "ReadCsvProjectSpace_1: waiting for atomic input: config",
          "name": "engine.logs:ReadCsvProjectSpace_1",
          "pathname": "/usr/local/lib/python3.7/dist-packages/razor/flow/async_executors.py",
          "process": 1676,
          "processName": "ForkProcess-1:2",
          "thread": 140061051098944,
          "threadName": "MainThread"
         },
         {
          "asctime": "2021-03-23 04:33:11,022",
          "created": 1616473991.0225852,
          "extra": {},
          "filename": "async_executors.py",
          "funcName": "fill_atomic_inputs",
          "levelname": "DEBUG",
          "lineno": 253,
          "message": "ReadCsvProjectSpace_1: got atomic input: {}",
          "name": "engine.logs:ReadCsvProjectSpace_1",
          "pathname": "/usr/local/lib/python3.7/dist-packages/razor/flow/async_executors.py",
          "process": 1676,
          "processName": "ForkProcess-1:2",
          "thread": 140061051098944,
          "threadName": "MainThread"
         },
         {
          "asctime": "2021-03-23 04:33:11,022",
          "created": 1616473991.0226526,
          "extra": {},
          "filename": "async_executors.py",
          "funcName": "fill_atomic_inputs",
          "levelname": "INFO",
          "lineno": 250,
          "message": "ReadCsvProjectSpace_1: waiting for atomic input: source",
          "name": "engine.logs:ReadCsvProjectSpace_1",
          "pathname": "/usr/local/lib/python3.7/dist-packages/razor/flow/async_executors.py",
          "process": 1676,
          "processName": "ForkProcess-1:2",
          "thread": 140061051098944,
          "threadName": "MainThread"
         },
         {
          "asctime": "2021-03-23 04:33:11,022",
          "created": 1616473991.022708,
          "extra": {},
          "filename": "async_executors.py",
          "funcName": "fill_atomic_inputs",
          "levelname": "DEBUG",
          "lineno": 253,
          "message": "ReadCsvProjectSpace_1: got atomic input: ",
          "name": "engine.logs:ReadCsvProjectSpace_1",
          "pathname": "/usr/local/lib/python3.7/dist-packages/razor/flow/async_executors.py",
          "process": 1676,
          "processName": "ForkProcess-1:2",
          "thread": 140061051098944,
          "threadName": "MainThread"
         },
         {
          "asctime": "2021-03-23 04:33:11,022",
          "created": 1616473991.0227814,
          "extra": {},
          "filename": "async_executors.py",
          "funcName": "main",
          "levelname": "DEBUG",
          "lineno": 130,
          "message": "ReadCsvProjectSpace_1: triggering block run",
          "name": "engine.logs:ReadCsvProjectSpace_1",
          "pathname": "/usr/local/lib/python3.7/dist-packages/razor/flow/async_executors.py",
          "process": 1676,
          "processName": "ForkProcess-1:2",
          "thread": 140061051098944,
          "threadName": "MainThread"
         },
         {
          "asctime": "2021-03-23 04:33:11,035",
          "created": 1616473991.0350692,
          "extra": {},
          "filename": "async_executors.py",
          "funcName": "start_input_receiver",
          "levelname": "DEBUG",
          "lineno": 173,
          "message": "NonSparkPath_1: received cmd: terminate, (), {}",
          "name": "engine.logs:NonSparkPath_1",
          "pathname": "/usr/local/lib/python3.7/dist-packages/razor/flow/async_executors.py",
          "process": 1668,
          "processName": "ForkProcess-1:1",
          "thread": 140061051098944,
          "threadName": "MainThread"
         },
         {
          "asctime": "2021-03-23 04:33:34,468",
          "created": 1616474014.4681768,
          "exc_info": null,
          "extra": {},
          "filename": null,
          "full_message": null,
          "funcName": null,
          "levelname": "STDOUT",
          "lineno": null,
          "message": "Hello\n",
          "name": "block.stdout:ReadCsvProjectSpace_1",
          "pathname": null,
          "process": null,
          "processName": null,
          "thread": null,
          "threadName": null
         },
         {
          "asctime": "2021-03-23 04:33:34,548",
          "created": 1616474014.5482628,
          "exc_info": null,
          "extra": {},
          "filename": null,
          "full_message": null,
          "funcName": null,
          "levelname": "STDOUT",
          "lineno": null,
          "message": "root\n |-- transaction_id: string (nullable = true)\n |-- time: string (nullable = true)\n |-- customer_name: string (nullable = true)\n |-- card_number: string (nullable = true)\n |-- card_type: string (nullable = true)\n |-- physical_card_type: string (nullable = true)\n |-- merchant_id: string (nullable = true)\n |-- merchant_city: string (nullable = true)\n |-- merchant_state: string (nullable = true)\n |-- transaction_type: string (nullable = true)\n |-- transaction_type_sub: string (nullable = true)\n |-- amount: string (nullable = true)\n |-- product_type: string (nullable = true)\n |-- fraud_risk: string (nullable = true)\n |-- One Time Heavy Loot Score: string (nullable = true)\n |-- Drastic Transaction Change Pattern Score: string (nullable = true)\n |-- Parasitic Fraud Score: string (nullable = true)\n |-- Purchase Behavior Variation Score: string (nullable = true)\n |-- Preferred Merchant Variation Score: string (nullable = true)\n |-- Multiple Location Fraud Score: string (nullable = true)\n |-- Fraudster Merchant Score: string (nullable = true)\n |-- no_of_transactions_in_the_day: string (nullable = true)\n |-- max_transaction_amount_in_the_day: string (nullable = true)\n |-- avg_transaction_amount_in_the_day: string (nullable = true)\n |-- no_of_transactions_in_the_month: string (nullable = true)\n |-- max_transaction_amount_the_month: string (nullable = true)\n |-- avg_transaction_amount_the_month: string (nullable = true)\n |-- no_of_transactions_of_the_same_merchant_in_the_day: string (nullable = true)\n |-- max_transactions_of_the_same_merchant_in_the_day: string (nullable = true)\n |-- avg_transactions_of_the_same_merchant_in_the_day: string (nullable = true)\n |-- no_of_transactions_of_the_same_merchant_in_the_month: string (nullable = true)\n |-- max_transactions_of_the_same_merchant_in_the_month: string (nullable = true)\n |-- avg_transactions_of_the_same_merchant_in_the_month: string (nullable = true)\n\n",
          "name": "block.stdout:ReadCsvProjectSpace_1",
          "pathname": null,
          "process": null,
          "processName": null,
          "thread": null,
          "threadName": null
         },
         {
          "asctime": "2021-03-23 04:33:34,583",
          "created": 1616474014.5832171,
          "extra": {},
          "filename": "async_executors.py",
          "funcName": "distribute_output_queue",
          "levelname": "DEBUG",
          "lineno": 308,
          "message": "ReadCsvProjectSpace_1: ---- dist output: DataFrame[transaction_id: string, time: string, customer_name: string, card_number: string, card_type: string, physical_card_type: string, merchant_id: string, merchant_city: string, merchant_state: string, transaction_type: string, transaction_type_sub: string, amount: string, product_type: string, fraud_risk: string, One Time Heavy Loot Score: string, Drastic Transaction Change Pattern Score: string, Parasitic Fraud Score: string, Purchase Behavior Variation Score: string, Preferred Merchant Variation Score: string, Multiple Location Fraud Score: string, Fraudster Merchant Score: string, no_of_transactions_in_the_day: string, max_transaction_amount_in_the_day: string, avg_transaction_amount_in_the_day: string, no_of_transactions_in_the_month: string, max_transaction_amount_the_month: string, avg_transaction_amount_the_month: string, no_of_transactions_of_the_same_merchant_in_the_day: string, max_transactions_of_the_same_merchant_in_the_day: string, avg_transactions_of_the_same_merchant_in_the_day: string, no_of_transactions_of_the_same_merchant_in_the_month: string, max_transactions_of_the_same_merchant_in_the_month: string, avg_transactions_of_the_same_merchant_in_the_month: string] -> ('RandomProcess1_1', 'ip_data')",
          "name": "engine.logs:ReadCsvProjectSpace_1",
          "pathname": "/usr/local/lib/python3.7/dist-packages/razor/flow/async_executors.py",
          "process": 1676,
          "processName": "ForkProcess-1:2",
          "thread": 140061051098944,
          "threadName": "MainThread"
         },
         {
          "asctime": "2021-03-23 04:33:34,584",
          "created": 1616474014.584325,
          "extra": {},
          "filename": "async_executors.py",
          "funcName": "distribute_output_queue",
          "levelname": "DEBUG",
          "lineno": 308,
          "message": "ReadCsvProjectSpace_1: ---- dist output: DataFrame[transaction_id: string, time: string, customer_name: string, card_number: string, card_type: string, physical_card_type: string, merchant_id: string, merchant_city: string, merchant_state: string, transaction_type: string, transaction_type_sub: string, amount: string, product_type: string, fraud_risk: string, One Time Heavy Loot Score: string, Drastic Transaction Change Pattern Score: string, Parasitic Fraud Score: string, Purchase Behavior Variation Score: string, Preferred Merchant Variation Score: string, Multiple Location Fraud Score: string, Fraudster Merchant Score: string, no_of_transactions_in_the_day: string, max_transaction_amount_in_the_day: string, avg_transaction_amount_in_the_day: string, no_of_transactions_in_the_month: string, max_transaction_amount_the_month: string, avg_transaction_amount_the_month: string, no_of_transactions_of_the_same_merchant_in_the_day: string, max_transactions_of_the_same_merchant_in_the_day: string, avg_transactions_of_the_same_merchant_in_the_day: string, no_of_transactions_of_the_same_merchant_in_the_month: string, max_transactions_of_the_same_merchant_in_the_month: string, avg_transactions_of_the_same_merchant_in_the_month: string] -> ('RandomProcess2_1', 'ip_data')",
          "name": "engine.logs:ReadCsvProjectSpace_1",
          "pathname": "/usr/local/lib/python3.7/dist-packages/razor/flow/async_executors.py",
          "process": 1676,
          "processName": "ForkProcess-1:2",
          "thread": 140061051098944,
          "threadName": "MainThread"
         },
         {
          "asctime": "2021-03-23 04:33:34,584",
          "created": 1616474014.5849617,
          "extra": {},
          "filename": "async_executors.py",
          "funcName": "distribute_output_queue",
          "levelname": "DEBUG",
          "lineno": 308,
          "message": "ReadCsvProjectSpace_1: ---- dist output: DataFrame[transaction_id: string, time: string, customer_name: string, card_number: string, card_type: string, physical_card_type: string, merchant_id: string, merchant_city: string, merchant_state: string, transaction_type: string, transaction_type_sub: string, amount: string, product_type: string, fraud_risk: string, One Time Heavy Loot Score: string, Drastic Transaction Change Pattern Score: string, Parasitic Fraud Score: string, Purchase Behavior Variation Score: string, Preferred Merchant Variation Score: string, Multiple Location Fraud Score: string, Fraudster Merchant Score: string, no_of_transactions_in_the_day: string, max_transaction_amount_in_the_day: string, avg_transaction_amount_in_the_day: string, no_of_transactions_in_the_month: string, max_transaction_amount_the_month: string, avg_transaction_amount_the_month: string, no_of_transactions_of_the_same_merchant_in_the_day: string, max_transactions_of_the_same_merchant_in_the_day: string, avg_transactions_of_the_same_merchant_in_the_day: string, no_of_transactions_of_the_same_merchant_in_the_month: string, max_transactions_of_the_same_merchant_in_the_month: string, avg_transactions_of_the_same_merchant_in_the_month: string] -> ('RandomProcess3_1', 'ip_data')",
          "name": "engine.logs:ReadCsvProjectSpace_1",
          "pathname": "/usr/local/lib/python3.7/dist-packages/razor/flow/async_executors.py",
          "process": 1676,
          "processName": "ForkProcess-1:2",
          "thread": 140061051098944,
          "threadName": "MainThread"
         },
         {
          "asctime": "2021-03-23 04:33:34,585",
          "created": 1616474014.5853822,
          "extra": {},
          "filename": "async_executors.py",
          "funcName": "main",
          "levelname": "DEBUG",
          "lineno": 147,
          "message": "ReadCsvProjectSpace_1: block thread completed",
          "name": "engine.logs:ReadCsvProjectSpace_1",
          "pathname": "/usr/local/lib/python3.7/dist-packages/razor/flow/async_executors.py",
          "process": 1676,
          "processName": "ForkProcess-1:2",
          "thread": 140061051098944,
          "threadName": "MainThread"
         },
         {
          "asctime": "2021-03-23 04:33:34,585",
          "created": 1616474014.5854712,
          "extra": {},
          "filename": "async_executors.py",
          "funcName": "main",
          "levelname": "DEBUG",
          "lineno": 149,
          "message": "ReadCsvProjectSpace_1: block execution complete",
          "name": "engine.logs:ReadCsvProjectSpace_1",
          "pathname": "/usr/local/lib/python3.7/dist-packages/razor/flow/async_executors.py",
          "process": 1676,
          "processName": "ForkProcess-1:2",
          "thread": 140061051098944,
          "threadName": "MainThread"
         },
         {
          "asctime": "2021-03-23 04:33:34,608",
          "created": 1616474014.6080172,
          "extra": {},
          "filename": "async_executors.py",
          "funcName": "distribute_output_queue",
          "levelname": "DEBUG",
          "lineno": 308,
          "message": "ReadCsvProjectSpace_1: ---- dist output: b'__!\\tEndOfStream\\t!__' -> ('RandomProcess1_1', 'ip_data')",
          "name": "engine.logs:ReadCsvProjectSpace_1",
          "pathname": "/usr/local/lib/python3.7/dist-packages/razor/flow/async_executors.py",
          "process": 1676,
          "processName": "ForkProcess-1:2",
          "thread": 140061051098944,
          "threadName": "MainThread"
         },
         {
          "asctime": "2021-03-23 04:33:34,608",
          "created": 1616474014.6081617,
          "extra": {},
          "filename": "async_executors.py",
          "funcName": "distribute_output_queue",
          "levelname": "DEBUG",
          "lineno": 308,
          "message": "ReadCsvProjectSpace_1: ---- dist output: b'__!\\tEndOfStream\\t!__' -> ('RandomProcess2_1', 'ip_data')",
          "name": "engine.logs:ReadCsvProjectSpace_1",
          "pathname": "/usr/local/lib/python3.7/dist-packages/razor/flow/async_executors.py",
          "process": 1676,
          "processName": "ForkProcess-1:2",
          "thread": 140061051098944,
          "threadName": "MainThread"
         },
         {
          "asctime": "2021-03-23 04:33:34,655",
          "created": 1616474014.6557636,
          "extra": {},
          "filename": "async_executors.py",
          "funcName": "fill_atomic_inputs",
          "levelname": "DEBUG",
          "lineno": 253,
          "message": "RandomProcess3_1: got atomic input: DataFrame[transaction_id: string, time: string, customer_name: string, card_number: string, card_type: string, physical_card_type: string, merchant_id: string, merchant_city: string, merchant_state: string, transaction_type: string, transaction_type_sub: string, amount: string, product_type: string, fraud_risk: string, One Time Heavy Loot Score: string, Drastic Transaction Change Pattern Score: string, Parasitic Fraud Score: string, Purchase Behavior Variation Score: string, Preferred Merchant Variation Score: string, Multiple Location Fraud Score: string, Fraudster Merchant Score: string, no_of_transactions_in_the_day: string, max_transaction_amount_in_the_day: string, avg_transaction_amount_in_the_day: string, no_of_transactions_in_the_month: string, max_transaction_amount_the_month: string, avg_transaction_amount_the_month: string, no_of_transactions_of_the_same_merchant_in_the_day: string, max_transactions_of_the_same_merchant_in_the_day: string, avg_transactions_of_the_same_merchant_in_the_day: string, no_of_transactions_of_the_same_merchant_in_the_month: string, max_transactions_of_the_same_merchant_in_the_month: string, avg_transactions_of_the_same_merchant_in_the_month: string]",
          "name": "engine.logs:RandomProcess3_1",
          "pathname": "/usr/local/lib/python3.7/dist-packages/razor/flow/async_executors.py",
          "process": 1676,
          "processName": "ForkProcess-1:2",
          "thread": 140061051098944,
          "threadName": "MainThread"
         },
         {
          "asctime": "2021-03-23 04:33:34,608",
          "created": 1616474014.6082127,
          "extra": {},
          "filename": "async_executors.py",
          "funcName": "distribute_output_queue",
          "levelname": "DEBUG",
          "lineno": 308,
          "message": "ReadCsvProjectSpace_1: ---- dist output: b'__!\\tEndOfStream\\t!__' -> ('RandomProcess3_1', 'ip_data')",
          "name": "engine.logs:ReadCsvProjectSpace_1",
          "pathname": "/usr/local/lib/python3.7/dist-packages/razor/flow/async_executors.py",
          "process": 1676,
          "processName": "ForkProcess-1:2",
          "thread": 140061051098944,
          "threadName": "MainThread"
         },
         {
          "asctime": "2021-03-23 04:33:34,656",
          "created": 1616474014.656187,
          "extra": {},
          "filename": "async_executors.py",
          "funcName": "fill_atomic_inputs",
          "levelname": "INFO",
          "lineno": 250,
          "message": "RandomProcess3_1: waiting for atomic input: config",
          "name": "engine.logs:RandomProcess3_1",
          "pathname": "/usr/local/lib/python3.7/dist-packages/razor/flow/async_executors.py",
          "process": 1676,
          "processName": "ForkProcess-1:2",
          "thread": 140061051098944,
          "threadName": "MainThread"
         },
         {
          "asctime": "2021-03-23 04:33:34,652",
          "created": 1616474014.6521883,
          "extra": {},
          "filename": "async_executors.py",
          "funcName": "start_input_receiver",
          "levelname": "DEBUG",
          "lineno": 173,
          "message": "ReadCsvProjectSpace_1: received cmd: start_sender, (), {'out_name': 'data', 'target': ('RandomProcess3_1', 'ip_data'), 'out_addr': 'tcp://0.0.0.0:59113', 'in_memory': True}",
          "name": "engine.logs:ReadCsvProjectSpace_1",
          "pathname": "/usr/local/lib/python3.7/dist-packages/razor/flow/async_executors.py",
          "process": 1676,
          "processName": "ForkProcess-1:2",
          "thread": 140061051098944,
          "threadName": "MainThread"
         },
         {
          "asctime": "2021-03-23 04:33:34,652",
          "created": 1616474014.6526504,
          "extra": {},
          "filename": "async_executors.py",
          "funcName": "start_output_sender",
          "levelname": "DEBUG",
          "lineno": 370,
          "message": "ReadCsvProjectSpace_1: got start_sender, data, ('RandomProcess3_1', 'ip_data')",
          "name": "engine.logs:ReadCsvProjectSpace_1",
          "pathname": "/usr/local/lib/python3.7/dist-packages/razor/flow/async_executors.py",
          "process": 1676,
          "processName": "ForkProcess-1:2",
          "thread": 140061051098944,
          "threadName": "MainThread"
         },
         {
          "asctime": "2021-03-23 04:33:34,653",
          "created": 1616474014.6535933,
          "extra": {},
          "filename": "async_executors.py",
          "funcName": "start_output_sender",
          "levelname": "DEBUG",
          "lineno": 375,
          "message": "ReadCsvProjectSpace_1: SENT, ip_data, DataFrame[transaction_id: string, time: string, customer_name: string, card_number: string, card_type: string, physical_card_type: string, merchant_id: string, merchant_city: string, merchant_state: string, transaction_type: string, transaction_type_sub: string, amount: string, product_type: string, fraud_risk: string, One Time Heavy Loot Score: string, Drastic Transaction Change Pattern Score: string, Parasitic Fraud Score: string, Purchase Behavior Variation Score: string, Preferred Merchant Variation Score: string, Multiple Location Fraud Score: string, Fraudster Merchant Score: string, no_of_transactions_in_the_day: string, max_transaction_amount_in_the_day: string, avg_transaction_amount_in_the_day: string, no_of_transactions_in_the_month: string, max_transaction_amount_the_month: string, avg_transaction_amount_the_month: string, no_of_transactions_of_the_same_merchant_in_the_day: string, max_transactions_of_the_same_merchant_in_the_day: string, avg_transactions_of_the_same_merchant_in_the_day: string, no_of_transactions_of_the_same_merchant_in_the_month: string, max_transactions_of_the_same_merchant_in_the_month: string, avg_transactions_of_the_same_merchant_in_the_month: string], ('RandomProcess3_1', 'ip_data')",
          "name": "engine.logs:ReadCsvProjectSpace_1",
          "pathname": "/usr/local/lib/python3.7/dist-packages/razor/flow/async_executors.py",
          "process": 1676,
          "processName": "ForkProcess-1:2",
          "thread": 140061051098944,
          "threadName": "MainThread"
         },
         {
          "asctime": "2021-03-23 04:33:34,653",
          "created": 1616474014.6538465,
          "extra": {},
          "filename": "async_executors.py",
          "funcName": "start_output_sender",
          "levelname": "DEBUG",
          "lineno": 375,
          "message": "ReadCsvProjectSpace_1: SENT, ip_data, b'__!\\tEndOfStream\\t!__', ('RandomProcess3_1', 'ip_data')",
          "name": "engine.logs:ReadCsvProjectSpace_1",
          "pathname": "/usr/local/lib/python3.7/dist-packages/razor/flow/async_executors.py",
          "process": 1676,
          "processName": "ForkProcess-1:2",
          "thread": 140061051098944,
          "threadName": "MainThread"
         },
         {
          "asctime": "2021-03-23 04:33:34,656",
          "created": 1616474014.656328,
          "extra": {},
          "filename": "async_executors.py",
          "funcName": "fill_atomic_inputs",
          "levelname": "DEBUG",
          "lineno": 253,
          "message": "RandomProcess3_1: got atomic input: {}",
          "name": "engine.logs:RandomProcess3_1",
          "pathname": "/usr/local/lib/python3.7/dist-packages/razor/flow/async_executors.py",
          "process": 1676,
          "processName": "ForkProcess-1:2",
          "thread": 140061051098944,
          "threadName": "MainThread"
         },
         {
          "asctime": "2021-03-23 04:33:34,654",
          "created": 1616474014.654069,
          "extra": {},
          "filename": "async_executors.py",
          "funcName": "start_output_sender",
          "levelname": "DEBUG",
          "lineno": 379,
          "message": "ReadCsvProjectSpace_1: completed output: ('data', ('RandomProcess3_1', 'ip_data'))",
          "name": "engine.logs:ReadCsvProjectSpace_1",
          "pathname": "/usr/local/lib/python3.7/dist-packages/razor/flow/async_executors.py",
          "process": 1676,
          "processName": "ForkProcess-1:2",
          "thread": 140061051098944,
          "threadName": "MainThread"
         },
         {
          "asctime": "2021-03-23 04:33:34,658",
          "created": 1616474014.6585646,
          "extra": {},
          "filename": "async_executors.py",
          "funcName": "start_input_receiver",
          "levelname": "DEBUG",
          "lineno": 173,
          "message": "ReadCsvProjectSpace_1: received cmd: start_sender, (), {'out_name': 'data', 'target': ('RandomProcess2_1', 'ip_data'), 'out_addr': 'tcp://0.0.0.0:58099', 'in_memory': True}",
          "name": "engine.logs:ReadCsvProjectSpace_1",
          "pathname": "/usr/local/lib/python3.7/dist-packages/razor/flow/async_executors.py",
          "process": 1676,
          "processName": "ForkProcess-1:2",
          "thread": 140061051098944,
          "threadName": "MainThread"
         },
         {
          "asctime": "2021-03-23 04:33:34,656",
          "created": 1616474014.656397,
          "extra": {},
          "filename": "async_executors.py",
          "funcName": "fill_atomic_inputs",
          "levelname": "INFO",
          "lineno": 250,
          "message": "RandomProcess3_1: waiting for atomic input: source",
          "name": "engine.logs:RandomProcess3_1",
          "pathname": "/usr/local/lib/python3.7/dist-packages/razor/flow/async_executors.py",
          "process": 1676,
          "processName": "ForkProcess-1:2",
          "thread": 140061051098944,
          "threadName": "MainThread"
         },
         {
          "asctime": "2021-03-23 04:33:34,656",
          "created": 1616474014.6564748,
          "extra": {},
          "filename": "async_executors.py",
          "funcName": "fill_atomic_inputs",
          "levelname": "DEBUG",
          "lineno": 253,
          "message": "RandomProcess3_1: got atomic input: ",
          "name": "engine.logs:RandomProcess3_1",
          "pathname": "/usr/local/lib/python3.7/dist-packages/razor/flow/async_executors.py",
          "process": 1676,
          "processName": "ForkProcess-1:2",
          "thread": 140061051098944,
          "threadName": "MainThread"
         },
         {
          "asctime": "2021-03-23 04:33:34,659",
          "created": 1616474014.659498,
          "extra": {},
          "filename": "async_executors.py",
          "funcName": "start_output_sender",
          "levelname": "DEBUG",
          "lineno": 370,
          "message": "ReadCsvProjectSpace_1: got start_sender, data, ('RandomProcess2_1', 'ip_data')",
          "name": "engine.logs:ReadCsvProjectSpace_1",
          "pathname": "/usr/local/lib/python3.7/dist-packages/razor/flow/async_executors.py",
          "process": 1676,
          "processName": "ForkProcess-1:2",
          "thread": 140061051098944,
          "threadName": "MainThread"
         },
         {
          "asctime": "2021-03-23 04:33:34,656",
          "created": 1616474014.6565628,
          "extra": {},
          "filename": "async_executors.py",
          "funcName": "main",
          "levelname": "DEBUG",
          "lineno": 130,
          "message": "RandomProcess3_1: triggering block run",
          "name": "engine.logs:RandomProcess3_1",
          "pathname": "/usr/local/lib/python3.7/dist-packages/razor/flow/async_executors.py",
          "process": 1676,
          "processName": "ForkProcess-1:2",
          "thread": 140061051098944,
          "threadName": "MainThread"
         },
         {
          "asctime": "2021-03-23 04:33:34,661",
          "created": 1616474014.6612759,
          "extra": {},
          "filename": "async_executors.py",
          "funcName": "start_output_sender",
          "levelname": "DEBUG",
          "lineno": 375,
          "message": "ReadCsvProjectSpace_1: SENT, ip_data, DataFrame[transaction_id: string, time: string, customer_name: string, card_number: string, card_type: string, physical_card_type: string, merchant_id: string, merchant_city: string, merchant_state: string, transaction_type: string, transaction_type_sub: string, amount: string, product_type: string, fraud_risk: string, One Time Heavy Loot Score: string, Drastic Transaction Change Pattern Score: string, Parasitic Fraud Score: string, Purchase Behavior Variation Score: string, Preferred Merchant Variation Score: string, Multiple Location Fraud Score: string, Fraudster Merchant Score: string, no_of_transactions_in_the_day: string, max_transaction_amount_in_the_day: string, avg_transaction_amount_in_the_day: string, no_of_transactions_in_the_month: string, max_transaction_amount_the_month: string, avg_transaction_amount_the_month: string, no_of_transactions_of_the_same_merchant_in_the_day: string, max_transactions_of_the_same_merchant_in_the_day: string, avg_transactions_of_the_same_merchant_in_the_day: string, no_of_transactions_of_the_same_merchant_in_the_month: string, max_transactions_of_the_same_merchant_in_the_month: string, avg_transactions_of_the_same_merchant_in_the_month: string], ('RandomProcess2_1', 'ip_data')",
          "name": "engine.logs:ReadCsvProjectSpace_1",
          "pathname": "/usr/local/lib/python3.7/dist-packages/razor/flow/async_executors.py",
          "process": 1676,
          "processName": "ForkProcess-1:2",
          "thread": 140061051098944,
          "threadName": "MainThread"
         },
         {
          "asctime": "2021-03-23 04:33:34,661",
          "created": 1616474014.6615503,
          "extra": {},
          "filename": "async_executors.py",
          "funcName": "start_output_sender",
          "levelname": "DEBUG",
          "lineno": 375,
          "message": "ReadCsvProjectSpace_1: SENT, ip_data, b'__!\\tEndOfStream\\t!__', ('RandomProcess2_1', 'ip_data')",
          "name": "engine.logs:ReadCsvProjectSpace_1",
          "pathname": "/usr/local/lib/python3.7/dist-packages/razor/flow/async_executors.py",
          "process": 1676,
          "processName": "ForkProcess-1:2",
          "thread": 140061051098944,
          "threadName": "MainThread"
         },
         {
          "asctime": "2021-03-23 04:33:34,666",
          "created": 1616474014.6660113,
          "extra": {},
          "filename": "async_executors.py",
          "funcName": "fill_atomic_inputs",
          "levelname": "DEBUG",
          "lineno": 253,
          "message": "RandomProcess2_1: got atomic input: DataFrame[transaction_id: string, time: string, customer_name: string, card_number: string, card_type: string, physical_card_type: string, merchant_id: string, merchant_city: string, merchant_state: string, transaction_type: string, transaction_type_sub: string, amount: string, product_type: string, fraud_risk: string, One Time Heavy Loot Score: string, Drastic Transaction Change Pattern Score: string, Parasitic Fraud Score: string, Purchase Behavior Variation Score: string, Preferred Merchant Variation Score: string, Multiple Location Fraud Score: string, Fraudster Merchant Score: string, no_of_transactions_in_the_day: string, max_transaction_amount_in_the_day: string, avg_transaction_amount_in_the_day: string, no_of_transactions_in_the_month: string, max_transaction_amount_the_month: string, avg_transaction_amount_the_month: string, no_of_transactions_of_the_same_merchant_in_the_day: string, max_transactions_of_the_same_merchant_in_the_day: string, avg_transactions_of_the_same_merchant_in_the_day: string, no_of_transactions_of_the_same_merchant_in_the_month: string, max_transactions_of_the_same_merchant_in_the_month: string, avg_transactions_of_the_same_merchant_in_the_month: string]",
          "name": "engine.logs:RandomProcess2_1",
          "pathname": "/usr/local/lib/python3.7/dist-packages/razor/flow/async_executors.py",
          "process": 1676,
          "processName": "ForkProcess-1:2",
          "thread": 140061051098944,
          "threadName": "MainThread"
         },
         {
          "asctime": "2021-03-23 04:33:34,661",
          "created": 1616474014.6616926,
          "extra": {},
          "filename": "async_executors.py",
          "funcName": "start_output_sender",
          "levelname": "DEBUG",
          "lineno": 379,
          "message": "ReadCsvProjectSpace_1: completed output: ('data', ('RandomProcess2_1', 'ip_data'))",
          "name": "engine.logs:ReadCsvProjectSpace_1",
          "pathname": "/usr/local/lib/python3.7/dist-packages/razor/flow/async_executors.py",
          "process": 1676,
          "processName": "ForkProcess-1:2",
          "thread": 140061051098944,
          "threadName": "MainThread"
         },
         {
          "asctime": "2021-03-23 04:33:34,661",
          "created": 1616474014.6618114,
          "extra": {},
          "filename": "async_executors.py",
          "funcName": "start_input_receiver",
          "levelname": "DEBUG",
          "lineno": 173,
          "message": "ReadCsvProjectSpace_1: received cmd: start_sender, (), {'out_name': 'data', 'target': ('RandomProcess1_1', 'ip_data'), 'out_addr': 'tcp://0.0.0.0:60767', 'in_memory': True}",
          "name": "engine.logs:ReadCsvProjectSpace_1",
          "pathname": "/usr/local/lib/python3.7/dist-packages/razor/flow/async_executors.py",
          "process": 1676,
          "processName": "ForkProcess-1:2",
          "thread": 140061051098944,
          "threadName": "MainThread"
         },
         {
          "asctime": "2021-03-23 04:33:34,666",
          "created": 1616474014.666117,
          "extra": {},
          "filename": "async_executors.py",
          "funcName": "fill_atomic_inputs",
          "levelname": "INFO",
          "lineno": 250,
          "message": "RandomProcess2_1: waiting for atomic input: config",
          "name": "engine.logs:RandomProcess2_1",
          "pathname": "/usr/local/lib/python3.7/dist-packages/razor/flow/async_executors.py",
          "process": 1676,
          "processName": "ForkProcess-1:2",
          "thread": 140061051098944,
          "threadName": "MainThread"
         },
         {
          "asctime": "2021-03-23 04:33:34,666",
          "created": 1616474014.6661885,
          "extra": {},
          "filename": "async_executors.py",
          "funcName": "fill_atomic_inputs",
          "levelname": "DEBUG",
          "lineno": 253,
          "message": "RandomProcess2_1: got atomic input: {}",
          "name": "engine.logs:RandomProcess2_1",
          "pathname": "/usr/local/lib/python3.7/dist-packages/razor/flow/async_executors.py",
          "process": 1676,
          "processName": "ForkProcess-1:2",
          "thread": 140061051098944,
          "threadName": "MainThread"
         },
         {
          "asctime": "2021-03-23 04:33:34,671",
          "created": 1616474014.671133,
          "extra": {},
          "filename": "async_executors.py",
          "funcName": "fill_atomic_inputs",
          "levelname": "DEBUG",
          "lineno": 253,
          "message": "RandomProcess1_1: got atomic input: DataFrame[transaction_id: string, time: string, customer_name: string, card_number: string, card_type: string, physical_card_type: string, merchant_id: string, merchant_city: string, merchant_state: string, transaction_type: string, transaction_type_sub: string, amount: string, product_type: string, fraud_risk: string, One Time Heavy Loot Score: string, Drastic Transaction Change Pattern Score: string, Parasitic Fraud Score: string, Purchase Behavior Variation Score: string, Preferred Merchant Variation Score: string, Multiple Location Fraud Score: string, Fraudster Merchant Score: string, no_of_transactions_in_the_day: string, max_transaction_amount_in_the_day: string, avg_transaction_amount_in_the_day: string, no_of_transactions_in_the_month: string, max_transaction_amount_the_month: string, avg_transaction_amount_the_month: string, no_of_transactions_of_the_same_merchant_in_the_day: string, max_transactions_of_the_same_merchant_in_the_day: string, avg_transactions_of_the_same_merchant_in_the_day: string, no_of_transactions_of_the_same_merchant_in_the_month: string, max_transactions_of_the_same_merchant_in_the_month: string, avg_transactions_of_the_same_merchant_in_the_month: string]",
          "name": "engine.logs:RandomProcess1_1",
          "pathname": "/usr/local/lib/python3.7/dist-packages/razor/flow/async_executors.py",
          "process": 1676,
          "processName": "ForkProcess-1:2",
          "thread": 140061051098944,
          "threadName": "MainThread"
         },
         {
          "asctime": "2021-03-23 04:33:34,666",
          "created": 1616474014.6662326,
          "extra": {},
          "filename": "async_executors.py",
          "funcName": "fill_atomic_inputs",
          "levelname": "INFO",
          "lineno": 250,
          "message": "RandomProcess2_1: waiting for atomic input: source",
          "name": "engine.logs:RandomProcess2_1",
          "pathname": "/usr/local/lib/python3.7/dist-packages/razor/flow/async_executors.py",
          "process": 1676,
          "processName": "ForkProcess-1:2",
          "thread": 140061051098944,
          "threadName": "MainThread"
         },
         {
          "asctime": "2021-03-23 04:33:34,663",
          "created": 1616474014.6636314,
          "extra": {},
          "filename": "async_executors.py",
          "funcName": "start_output_sender",
          "levelname": "DEBUG",
          "lineno": 370,
          "message": "ReadCsvProjectSpace_1: got start_sender, data, ('RandomProcess1_1', 'ip_data')",
          "name": "engine.logs:ReadCsvProjectSpace_1",
          "pathname": "/usr/local/lib/python3.7/dist-packages/razor/flow/async_executors.py",
          "process": 1676,
          "processName": "ForkProcess-1:2",
          "thread": 140061051098944,
          "threadName": "MainThread"
         },
         {
          "asctime": "2021-03-23 04:33:34,671",
          "created": 1616474014.6713364,
          "extra": {},
          "filename": "async_executors.py",
          "funcName": "fill_atomic_inputs",
          "levelname": "INFO",
          "lineno": 250,
          "message": "RandomProcess1_1: waiting for atomic input: config",
          "name": "engine.logs:RandomProcess1_1",
          "pathname": "/usr/local/lib/python3.7/dist-packages/razor/flow/async_executors.py",
          "process": 1676,
          "processName": "ForkProcess-1:2",
          "thread": 140061051098944,
          "threadName": "MainThread"
         },
         {
          "asctime": "2021-03-23 04:33:34,666",
          "created": 1616474014.666276,
          "extra": {},
          "filename": "async_executors.py",
          "funcName": "fill_atomic_inputs",
          "levelname": "DEBUG",
          "lineno": 253,
          "message": "RandomProcess2_1: got atomic input: ",
          "name": "engine.logs:RandomProcess2_1",
          "pathname": "/usr/local/lib/python3.7/dist-packages/razor/flow/async_executors.py",
          "process": 1676,
          "processName": "ForkProcess-1:2",
          "thread": 140061051098944,
          "threadName": "MainThread"
         },
         {
          "asctime": "2021-03-23 04:33:34,671",
          "created": 1616474014.6714516,
          "extra": {},
          "filename": "async_executors.py",
          "funcName": "fill_atomic_inputs",
          "levelname": "DEBUG",
          "lineno": 253,
          "message": "RandomProcess1_1: got atomic input: {}",
          "name": "engine.logs:RandomProcess1_1",
          "pathname": "/usr/local/lib/python3.7/dist-packages/razor/flow/async_executors.py",
          "process": 1676,
          "processName": "ForkProcess-1:2",
          "thread": 140061051098944,
          "threadName": "MainThread"
         },
         {
          "asctime": "2021-03-23 04:33:34,664",
          "created": 1616474014.664779,
          "extra": {},
          "filename": "async_executors.py",
          "funcName": "start_output_sender",
          "levelname": "DEBUG",
          "lineno": 375,
          "message": "ReadCsvProjectSpace_1: SENT, ip_data, DataFrame[transaction_id: string, time: string, customer_name: string, card_number: string, card_type: string, physical_card_type: string, merchant_id: string, merchant_city: string, merchant_state: string, transaction_type: string, transaction_type_sub: string, amount: string, product_type: string, fraud_risk: string, One Time Heavy Loot Score: string, Drastic Transaction Change Pattern Score: string, Parasitic Fraud Score: string, Purchase Behavior Variation Score: string, Preferred Merchant Variation Score: string, Multiple Location Fraud Score: string, Fraudster Merchant Score: string, no_of_transactions_in_the_day: string, max_transaction_amount_in_the_day: string, avg_transaction_amount_in_the_day: string, no_of_transactions_in_the_month: string, max_transaction_amount_the_month: string, avg_transaction_amount_the_month: string, no_of_transactions_of_the_same_merchant_in_the_day: string, max_transactions_of_the_same_merchant_in_the_day: string, avg_transactions_of_the_same_merchant_in_the_day: string, no_of_transactions_of_the_same_merchant_in_the_month: string, max_transactions_of_the_same_merchant_in_the_month: string, avg_transactions_of_the_same_merchant_in_the_month: string], ('RandomProcess1_1', 'ip_data')",
          "name": "engine.logs:ReadCsvProjectSpace_1",
          "pathname": "/usr/local/lib/python3.7/dist-packages/razor/flow/async_executors.py",
          "process": 1676,
          "processName": "ForkProcess-1:2",
          "thread": 140061051098944,
          "threadName": "MainThread"
         },
         {
          "asctime": "2021-03-23 04:33:34,666",
          "created": 1616474014.666326,
          "extra": {},
          "filename": "async_executors.py",
          "funcName": "main",
          "levelname": "DEBUG",
          "lineno": 130,
          "message": "RandomProcess2_1: triggering block run",
          "name": "engine.logs:RandomProcess2_1",
          "pathname": "/usr/local/lib/python3.7/dist-packages/razor/flow/async_executors.py",
          "process": 1676,
          "processName": "ForkProcess-1:2",
          "thread": 140061051098944,
          "threadName": "MainThread"
         },
         {
          "asctime": "2021-03-23 04:33:34,671",
          "created": 1616474014.671516,
          "extra": {},
          "filename": "async_executors.py",
          "funcName": "fill_atomic_inputs",
          "levelname": "INFO",
          "lineno": 250,
          "message": "RandomProcess1_1: waiting for atomic input: source",
          "name": "engine.logs:RandomProcess1_1",
          "pathname": "/usr/local/lib/python3.7/dist-packages/razor/flow/async_executors.py",
          "process": 1676,
          "processName": "ForkProcess-1:2",
          "thread": 140061051098944,
          "threadName": "MainThread"
         },
         {
          "asctime": "2021-03-23 04:33:34,664",
          "created": 1616474014.6649597,
          "extra": {},
          "filename": "async_executors.py",
          "funcName": "start_output_sender",
          "levelname": "DEBUG",
          "lineno": 375,
          "message": "ReadCsvProjectSpace_1: SENT, ip_data, b'__!\\tEndOfStream\\t!__', ('RandomProcess1_1', 'ip_data')",
          "name": "engine.logs:ReadCsvProjectSpace_1",
          "pathname": "/usr/local/lib/python3.7/dist-packages/razor/flow/async_executors.py",
          "process": 1676,
          "processName": "ForkProcess-1:2",
          "thread": 140061051098944,
          "threadName": "MainThread"
         },
         {
          "asctime": "2021-03-23 04:33:34,671",
          "created": 1616474014.6715891,
          "extra": {},
          "filename": "async_executors.py",
          "funcName": "fill_atomic_inputs",
          "levelname": "DEBUG",
          "lineno": 253,
          "message": "RandomProcess1_1: got atomic input: ",
          "name": "engine.logs:RandomProcess1_1",
          "pathname": "/usr/local/lib/python3.7/dist-packages/razor/flow/async_executors.py",
          "process": 1676,
          "processName": "ForkProcess-1:2",
          "thread": 140061051098944,
          "threadName": "MainThread"
         },
         {
          "asctime": "2021-03-23 04:33:34,665",
          "created": 1616474014.665038,
          "extra": {},
          "filename": "async_executors.py",
          "funcName": "start_output_sender",
          "levelname": "DEBUG",
          "lineno": 379,
          "message": "ReadCsvProjectSpace_1: completed output: ('data', ('RandomProcess1_1', 'ip_data'))",
          "name": "engine.logs:ReadCsvProjectSpace_1",
          "pathname": "/usr/local/lib/python3.7/dist-packages/razor/flow/async_executors.py",
          "process": 1676,
          "processName": "ForkProcess-1:2",
          "thread": 140061051098944,
          "threadName": "MainThread"
         },
         {
          "asctime": "2021-03-23 04:33:34,972",
          "created": 1616474014.9728389,
          "extra": {},
          "filename": "async_executors.py",
          "funcName": "start_input_receiver",
          "levelname": "DEBUG",
          "lineno": 173,
          "message": "ReadCsvProjectSpace_1: received cmd: terminate, (), {}",
          "name": "engine.logs:ReadCsvProjectSpace_1",
          "pathname": "/usr/local/lib/python3.7/dist-packages/razor/flow/async_executors.py",
          "process": 1676,
          "processName": "ForkProcess-1:2",
          "thread": 140061051098944,
          "threadName": "MainThread"
         },
         {
          "asctime": "2021-03-23 04:33:34,671",
          "created": 1616474014.6716723,
          "extra": {},
          "filename": "async_executors.py",
          "funcName": "main",
          "levelname": "DEBUG",
          "lineno": 130,
          "message": "RandomProcess1_1: triggering block run",
          "name": "engine.logs:RandomProcess1_1",
          "pathname": "/usr/local/lib/python3.7/dist-packages/razor/flow/async_executors.py",
          "process": 1676,
          "processName": "ForkProcess-1:2",
          "thread": 140061051098944,
          "threadName": "MainThread"
         },
         {
          "asctime": "2021-03-23 04:33:37,748",
          "created": 1616474017.7482078,
          "exc_info": null,
          "extra": {},
          "filename": null,
          "full_message": null,
          "funcName": null,
          "levelname": "STDOUT",
          "lineno": null,
          "message": "+-------------+--------------------+------------------+\n|customer_name|         card_number|         card_type|\n+-------------+--------------------+------------------+\n|Patrick Duran|47e2fcaf-2dc4-4fd...|current_debit_card|\n|Patrick Duran|47e2fcaf-2dc4-4fd...|current_debit_card|\n|Patrick Duran|47e2fcaf-2dc4-4fd...|current_debit_card|\n|Patrick Duran|47e2fcaf-2dc4-4fd...|current_debit_card|\n|Patrick Duran|47e2fcaf-2dc4-4fd...|current_debit_card|\n|Patrick Duran|47e2fcaf-2dc4-4fd...|current_debit_card|\n|Patrick Duran|47e2fcaf-2dc4-4fd...|current_debit_card|\n|Patrick Duran|47e2fcaf-2dc4-4fd...|current_debit_card|\n|Patrick Duran|47e2fcaf-2dc4-4fd...|current_debit_card|\n|Patrick Duran|47e2fcaf-2dc4-4fd...|current_debit_card|\n|Patrick Duran|47e2fcaf-2dc4-4fd...|current_debit_card|\n|Patrick Duran|47e2fcaf-2dc4-4fd...|current_debit_card|\n|Patrick Duran|47e2fcaf-2dc4-4fd...|current_debit_card|\n|Patrick Duran|47e2fcaf-2dc4-4fd...|current_debit_card|\n|Patrick Duran|47e2fcaf-2dc4-4fd...|current_debit_card|\n|Patrick Duran|47e2fcaf-2dc4-4fd...|current_debit_card|\n|Patrick Duran|47e2fcaf-2dc4-4fd...|current_debit_card|\n|Patrick Duran|47e2fcaf-2dc4-4fd...|current_debit_card|\n|Patrick Duran|47e2fcaf-2dc4-4fd...|current_debit_card|\n|Patrick Duran|47e2fcaf-2dc4-4fd...|current_debit_card|\n+-------------+--------------------+------------------+\nonly showing top 20 rows\n\n",
          "name": "block.stdout:RandomProcess1_1",
          "pathname": null,
          "process": null,
          "processName": null,
          "thread": null,
          "threadName": null
         },
         {
          "asctime": "2021-03-23 04:33:37,752",
          "created": 1616474017.7526834,
          "extra": {},
          "filename": "async_executors.py",
          "funcName": "distribute_output_queue",
          "levelname": "DEBUG",
          "lineno": 308,
          "message": "RandomProcess1_1: ---- dist output: DataFrame[customer_name: string, card_number: string, card_type: string] -> ('DropDuplicates_1', 'ip_data')",
          "name": "engine.logs:RandomProcess1_1",
          "pathname": "/usr/local/lib/python3.7/dist-packages/razor/flow/async_executors.py",
          "process": 1676,
          "processName": "ForkProcess-1:2",
          "thread": 140061051098944,
          "threadName": "MainThread"
         },
         {
          "asctime": "2021-03-23 04:33:37,753",
          "created": 1616474017.7531621,
          "extra": {},
          "filename": "async_executors.py",
          "funcName": "main",
          "levelname": "DEBUG",
          "lineno": 147,
          "message": "RandomProcess1_1: block thread completed",
          "name": "engine.logs:RandomProcess1_1",
          "pathname": "/usr/local/lib/python3.7/dist-packages/razor/flow/async_executors.py",
          "process": 1676,
          "processName": "ForkProcess-1:2",
          "thread": 140061051098944,
          "threadName": "MainThread"
         },
         {
          "asctime": "2021-03-23 04:33:37,753",
          "created": 1616474017.753295,
          "extra": {},
          "filename": "async_executors.py",
          "funcName": "main",
          "levelname": "DEBUG",
          "lineno": 149,
          "message": "RandomProcess1_1: block execution complete",
          "name": "engine.logs:RandomProcess1_1",
          "pathname": "/usr/local/lib/python3.7/dist-packages/razor/flow/async_executors.py",
          "process": 1676,
          "processName": "ForkProcess-1:2",
          "thread": 140061051098944,
          "threadName": "MainThread"
         },
         {
          "asctime": "2021-03-23 04:33:37,753",
          "created": 1616474017.7536564,
          "extra": {},
          "filename": "async_executors.py",
          "funcName": "distribute_output_queue",
          "levelname": "DEBUG",
          "lineno": 308,
          "message": "RandomProcess1_1: ---- dist output: b'__!\\tEndOfStream\\t!__' -> ('DropDuplicates_1', 'ip_data')",
          "name": "engine.logs:RandomProcess1_1",
          "pathname": "/usr/local/lib/python3.7/dist-packages/razor/flow/async_executors.py",
          "process": 1676,
          "processName": "ForkProcess-1:2",
          "thread": 140061051098944,
          "threadName": "MainThread"
         },
         {
          "asctime": "2021-03-23 04:33:37,759",
          "created": 1616474017.7592459,
          "extra": {},
          "filename": "async_executors.py",
          "funcName": "start_input_receiver",
          "levelname": "DEBUG",
          "lineno": 173,
          "message": "RandomProcess1_1: received cmd: start_sender, (), {'out_name': 'op_data', 'target': ('DropDuplicates_1', 'ip_data'), 'out_addr': 'tcp://0.0.0.0:61053', 'in_memory': True}",
          "name": "engine.logs:RandomProcess1_1",
          "pathname": "/usr/local/lib/python3.7/dist-packages/razor/flow/async_executors.py",
          "process": 1676,
          "processName": "ForkProcess-1:2",
          "thread": 140061051098944,
          "threadName": "MainThread"
         },
         {
          "asctime": "2021-03-23 04:33:37,759",
          "created": 1616474017.7596939,
          "extra": {},
          "filename": "async_executors.py",
          "funcName": "start_output_sender",
          "levelname": "DEBUG",
          "lineno": 370,
          "message": "RandomProcess1_1: got start_sender, op_data, ('DropDuplicates_1', 'ip_data')",
          "name": "engine.logs:RandomProcess1_1",
          "pathname": "/usr/local/lib/python3.7/dist-packages/razor/flow/async_executors.py",
          "process": 1676,
          "processName": "ForkProcess-1:2",
          "thread": 140061051098944,
          "threadName": "MainThread"
         },
         {
          "asctime": "2021-03-23 04:33:37,768",
          "created": 1616474017.7689967,
          "extra": {},
          "filename": "async_executors.py",
          "funcName": "start_output_sender",
          "levelname": "DEBUG",
          "lineno": 375,
          "message": "RandomProcess1_1: SENT, ip_data, DataFrame[customer_name: string, card_number: string, card_type: string], ('DropDuplicates_1', 'ip_data')",
          "name": "engine.logs:RandomProcess1_1",
          "pathname": "/usr/local/lib/python3.7/dist-packages/razor/flow/async_executors.py",
          "process": 1676,
          "processName": "ForkProcess-1:2",
          "thread": 140061051098944,
          "threadName": "MainThread"
         },
         {
          "asctime": "2021-03-23 04:33:37,771",
          "created": 1616474017.771936,
          "extra": {},
          "filename": "async_executors.py",
          "funcName": "fill_atomic_inputs",
          "levelname": "DEBUG",
          "lineno": 253,
          "message": "DropDuplicates_1: got atomic input: DataFrame[customer_name: string, card_number: string, card_type: string]",
          "name": "engine.logs:DropDuplicates_1",
          "pathname": "/usr/local/lib/python3.7/dist-packages/razor/flow/async_executors.py",
          "process": 1676,
          "processName": "ForkProcess-1:2",
          "thread": 140061051098944,
          "threadName": "MainThread"
         },
         {
          "asctime": "2021-03-23 04:33:37,769",
          "created": 1616474017.769286,
          "extra": {},
          "filename": "async_executors.py",
          "funcName": "start_output_sender",
          "levelname": "DEBUG",
          "lineno": 375,
          "message": "RandomProcess1_1: SENT, ip_data, b'__!\\tEndOfStream\\t!__', ('DropDuplicates_1', 'ip_data')",
          "name": "engine.logs:RandomProcess1_1",
          "pathname": "/usr/local/lib/python3.7/dist-packages/razor/flow/async_executors.py",
          "process": 1676,
          "processName": "ForkProcess-1:2",
          "thread": 140061051098944,
          "threadName": "MainThread"
         },
         {
          "asctime": "2021-03-23 04:33:37,772",
          "created": 1616474017.7723806,
          "extra": {},
          "filename": "async_executors.py",
          "funcName": "fill_atomic_inputs",
          "levelname": "INFO",
          "lineno": 250,
          "message": "DropDuplicates_1: waiting for atomic input: config",
          "name": "engine.logs:DropDuplicates_1",
          "pathname": "/usr/local/lib/python3.7/dist-packages/razor/flow/async_executors.py",
          "process": 1676,
          "processName": "ForkProcess-1:2",
          "thread": 140061051098944,
          "threadName": "MainThread"
         },
         {
          "asctime": "2021-03-23 04:33:37,769",
          "created": 1616474017.7693865,
          "extra": {},
          "filename": "async_executors.py",
          "funcName": "start_output_sender",
          "levelname": "DEBUG",
          "lineno": 379,
          "message": "RandomProcess1_1: completed output: ('op_data', ('DropDuplicates_1', 'ip_data'))",
          "name": "engine.logs:RandomProcess1_1",
          "pathname": "/usr/local/lib/python3.7/dist-packages/razor/flow/async_executors.py",
          "process": 1676,
          "processName": "ForkProcess-1:2",
          "thread": 140061051098944,
          "threadName": "MainThread"
         },
         {
          "asctime": "2021-03-23 04:33:37,772",
          "created": 1616474017.7725844,
          "extra": {},
          "filename": "async_executors.py",
          "funcName": "fill_atomic_inputs",
          "levelname": "DEBUG",
          "lineno": 253,
          "message": "DropDuplicates_1: got atomic input: {}",
          "name": "engine.logs:DropDuplicates_1",
          "pathname": "/usr/local/lib/python3.7/dist-packages/razor/flow/async_executors.py",
          "process": 1676,
          "processName": "ForkProcess-1:2",
          "thread": 140061051098944,
          "threadName": "MainThread"
         },
         {
          "asctime": "2021-03-23 04:33:37,853",
          "created": 1616474017.8532076,
          "extra": {},
          "filename": "async_executors.py",
          "funcName": "start_input_receiver",
          "levelname": "DEBUG",
          "lineno": 173,
          "message": "RandomProcess1_1: received cmd: terminate, (), {}",
          "name": "engine.logs:RandomProcess1_1",
          "pathname": "/usr/local/lib/python3.7/dist-packages/razor/flow/async_executors.py",
          "process": 1676,
          "processName": "ForkProcess-1:2",
          "thread": 140061051098944,
          "threadName": "MainThread"
         },
         {
          "asctime": "2021-03-23 04:33:37,772",
          "created": 1616474017.7729933,
          "extra": {},
          "filename": "async_executors.py",
          "funcName": "fill_atomic_inputs",
          "levelname": "INFO",
          "lineno": 250,
          "message": "DropDuplicates_1: waiting for atomic input: source",
          "name": "engine.logs:DropDuplicates_1",
          "pathname": "/usr/local/lib/python3.7/dist-packages/razor/flow/async_executors.py",
          "process": 1676,
          "processName": "ForkProcess-1:2",
          "thread": 140061051098944,
          "threadName": "MainThread"
         },
         {
          "asctime": "2021-03-23 04:33:37,773",
          "created": 1616474017.7731273,
          "extra": {},
          "filename": "async_executors.py",
          "funcName": "fill_atomic_inputs",
          "levelname": "DEBUG",
          "lineno": 253,
          "message": "DropDuplicates_1: got atomic input: ",
          "name": "engine.logs:DropDuplicates_1",
          "pathname": "/usr/local/lib/python3.7/dist-packages/razor/flow/async_executors.py",
          "process": 1676,
          "processName": "ForkProcess-1:2",
          "thread": 140061051098944,
          "threadName": "MainThread"
         },
         {
          "asctime": "2021-03-23 04:33:37,773",
          "created": 1616474017.7732022,
          "extra": {},
          "filename": "async_executors.py",
          "funcName": "main",
          "levelname": "DEBUG",
          "lineno": 130,
          "message": "DropDuplicates_1: triggering block run",
          "name": "engine.logs:DropDuplicates_1",
          "pathname": "/usr/local/lib/python3.7/dist-packages/razor/flow/async_executors.py",
          "process": 1676,
          "processName": "ForkProcess-1:2",
          "thread": 140061051098944,
          "threadName": "MainThread"
         },
         {
          "asctime": "2021-03-23 04:33:37,950",
          "created": 1616474017.9502478,
          "extra": {},
          "filename": "async_executors.py",
          "funcName": "main",
          "levelname": "DEBUG",
          "lineno": 147,
          "message": "DropDuplicates_1: block thread completed",
          "name": "engine.logs:DropDuplicates_1",
          "pathname": "/usr/local/lib/python3.7/dist-packages/razor/flow/async_executors.py",
          "process": 1676,
          "processName": "ForkProcess-1:2",
          "thread": 140061051098944,
          "threadName": "MainThread"
         },
         {
          "asctime": "2021-03-23 04:33:37,950",
          "created": 1616474017.9504223,
          "extra": {},
          "filename": "async_executors.py",
          "funcName": "main",
          "levelname": "DEBUG",
          "lineno": 149,
          "message": "DropDuplicates_1: block execution complete",
          "name": "engine.logs:DropDuplicates_1",
          "pathname": "/usr/local/lib/python3.7/dist-packages/razor/flow/async_executors.py",
          "process": 1676,
          "processName": "ForkProcess-1:2",
          "thread": 140061051098944,
          "threadName": "MainThread"
         },
         {
          "asctime": "2021-03-23 04:33:37,966",
          "created": 1616474017.966657,
          "extra": {},
          "filename": "async_executors.py",
          "funcName": "start_input_receiver",
          "levelname": "DEBUG",
          "lineno": 173,
          "message": "DropDuplicates_1: received cmd: terminate, (), {}",
          "name": "engine.logs:DropDuplicates_1",
          "pathname": "/usr/local/lib/python3.7/dist-packages/razor/flow/async_executors.py",
          "process": 1676,
          "processName": "ForkProcess-1:2",
          "thread": 140061051098944,
          "threadName": "MainThread"
         },
         {
          "asctime": "2021-03-23 04:33:53,756",
          "created": 1616474033.7564704,
          "exc_info": null,
          "extra": {},
          "filename": null,
          "full_message": null,
          "funcName": null,
          "levelname": "STDOUT",
          "lineno": null,
          "message": "+-----------+--------------+--------------+--------------------+\n|merchant_id| merchant_city|merchant_state|     list_of_product|\n+-----------+--------------+--------------+--------------------+\n|    1000758|       Hampton|      Kentucky|         [Groceries]|\n|    1000711|        Galion|          Ohio|         [Groceries]|\n|    1000950|   Charlestown|  Rhode Island|           [PetCare]|\n|    1000860|            WJ|          Utah|         [Groceries]|\n|    1000624|Pass Christian|   Mississippi|[Groceries, Furni...|\n|    1001178|   Charlestown|  Rhode Island|[Groceries, PetCare]|\n|    1001001| College Grove|     Tennessee|           [PetCare]|\n|    1000677|       Kenmare|  North Dakota|[Groceries, Texti...|\n|    1000729|      Danville|       Georgia|[Cinema, Shows an...|\n|    1001096|     Pentwater|      Michigan|         [Groceries]|\n|    1001096|     Pentwater|      Michigan|         [Groceries]|\n|    1000853|        Jayton|         Texas|[Water, Electrici...|\n|    1001148|       Newport|      Nebraska|         [Groceries]|\n|    1001039|      Hamilton|North Carolina|[Cinema, Shows an...|\n|    1000911|        Dacoma|      Oklahoma|[Cinema, Shows an...|\n|    1000922|        Auburn| Massachusetts|         [Groceries]|\n|    1000883|    Pascagoula|   Mississippi|           [PetCare]|\n|    1000726|        Dacoma|      Oklahoma|           [PetCare]|\n|    1000842|    Flintville|     Tennessee|           [PetCare]|\n|    1000745|    Fall Creek|     Wisconsin|[Groceries, Water...|\n+-----------+--------------+--------------+--------------------+\nonly showing top 20 rows\n\n",
          "name": "block.stdout:RandomProcess2_1",
          "pathname": null,
          "process": null,
          "processName": null,
          "thread": null,
          "threadName": null
         },
         {
          "asctime": "2021-03-23 04:33:53,757",
          "created": 1616474033.7577252,
          "extra": {},
          "filename": "async_executors.py",
          "funcName": "main",
          "levelname": "DEBUG",
          "lineno": 147,
          "message": "RandomProcess2_1: block thread completed",
          "name": "engine.logs:RandomProcess2_1",
          "pathname": "/usr/local/lib/python3.7/dist-packages/razor/flow/async_executors.py",
          "process": 1676,
          "processName": "ForkProcess-1:2",
          "thread": 140061051098944,
          "threadName": "MainThread"
         },
         {
          "asctime": "2021-03-23 04:33:53,758",
          "created": 1616474033.7580144,
          "extra": {},
          "filename": "async_executors.py",
          "funcName": "main",
          "levelname": "DEBUG",
          "lineno": 149,
          "message": "RandomProcess2_1: block execution complete",
          "name": "engine.logs:RandomProcess2_1",
          "pathname": "/usr/local/lib/python3.7/dist-packages/razor/flow/async_executors.py",
          "process": 1676,
          "processName": "ForkProcess-1:2",
          "thread": 140061051098944,
          "threadName": "MainThread"
         },
         {
          "asctime": "2021-03-23 04:33:53,766",
          "created": 1616474033.7660959,
          "extra": {},
          "filename": "async_executors.py",
          "funcName": "start_input_receiver",
          "levelname": "DEBUG",
          "lineno": 173,
          "message": "RandomProcess2_1: received cmd: terminate, (), {}",
          "name": "engine.logs:RandomProcess2_1",
          "pathname": "/usr/local/lib/python3.7/dist-packages/razor/flow/async_executors.py",
          "process": 1676,
          "processName": "ForkProcess-1:2",
          "thread": 140061051098944,
          "threadName": "MainThread"
         },
         {
          "asctime": "2021-03-23 04:34:03,448",
          "created": 1616474043.4485943,
          "exc_info": null,
          "extra": {},
          "filename": null,
          "full_message": null,
          "funcName": null,
          "levelname": "STDOUT",
          "lineno": null,
          "message": "+--------------------+-------------------+-----------------+--------------------+--------------------------------------------+----------------------------------------------+--------------------------------------------+--------------------------------------------+---------------------------------------------+-----------------------------------------------+---------------------------------------------+---------------------------------------------+------------------------------------------------+--------------------------------------------------+------------------------------------------------+------------------------------------------------+-----------------------------------------------------+-------------------------------------------------------+-----------------------------------------------------+-----------------------------------------------------+----------------------------------------------+------------------------------------------------+----------------------------------------------+----------------------------------------------+--------------------------------------------+----------------------------------------------+--------------------------------------------+--------------------------------------------+--------------------------------------------+----------------------------------------------+--------------------------------------------+--------------------------------------------+---------------------------------------------+-----------------------------------------------+---------------------------------------------+---------------------------------------------+\n|      transaction_id|               time|    customer_name|         card_number|last_one_hour_total_customer_transaction_sum|last_one_hour_total_customer_transaction_count|last_one_hour_total_customer_transaction_max|last_one_hour_total_customer_transaction_avg|last_six_hours_total_customer_transaction_sum|last_six_hours_total_customer_transaction_count|last_six_hours_total_customer_transaction_max|last_six_hours_total_customer_transaction_avg|last_twelve_hours_total_customer_transaction_sum|last_twelve_hours_total_customer_transaction_count|last_twelve_hours_total_customer_transaction_max|last_twelve_hours_total_customer_transaction_avg|last_twenty_four_hours_total_customer_transaction_sum|last_twenty_four_hours_total_customer_transaction_count|last_twenty_four_hours_total_customer_transaction_max|last_twenty_four_hours_total_customer_transaction_avg|last_three_days_total_customer_transaction_sum|last_three_days_total_customer_transaction_count|last_three_days_total_customer_transaction_max|last_three_days_total_customer_transaction_avg|last_one_week_total_customer_transaction_sum|last_one_week_total_customer_transaction_count|last_one_week_total_customer_transaction_max|last_one_week_total_customer_transaction_avg|last_two_week_total_customer_transaction_sum|last_two_week_total_customer_transaction_count|last_two_week_total_customer_transaction_max|last_two_week_total_customer_transaction_avg|last_one_month_total_customer_transaction_sum|last_one_month_total_customer_transaction_count|last_one_month_total_customer_transaction_max|last_one_month_total_customer_transaction_avg|\n+--------------------+-------------------+-----------------+--------------------+--------------------------------------------+----------------------------------------------+--------------------------------------------+--------------------------------------------+---------------------------------------------+-----------------------------------------------+---------------------------------------------+---------------------------------------------+------------------------------------------------+--------------------------------------------------+------------------------------------------------+------------------------------------------------+-----------------------------------------------------+-------------------------------------------------------+-----------------------------------------------------+-----------------------------------------------------+----------------------------------------------+------------------------------------------------+----------------------------------------------+----------------------------------------------+--------------------------------------------+----------------------------------------------+--------------------------------------------+--------------------------------------------+--------------------------------------------+----------------------------------------------+--------------------------------------------+--------------------------------------------+---------------------------------------------+-----------------------------------------------+---------------------------------------------+---------------------------------------------+\n|1f67ffa2-80e7-459...|2018-03-12 02:06:00|Elizabeth Brawley|b8ad67c3-effd-442...|                                           0|                                             0|                                           0|                                         0.0|                                            0|                                              0|                                            0|                                          0.0|                                               0|                                                 0|                                               0|                                             0.0|                                                    0|                                                      0|                                                    0|                                                  0.0|                                             0|                                               0|                                             0|                                           0.0|                                           0|                                             0|                                           0|                                         0.0|                                           0|                                             0|                                           0|                                         0.0|                                            0|                                              0|                                            0|                                          0.0|\n|6fb28235-14b0-480...|2018-03-12 16:31:00|Elizabeth Brawley|dd77d1cd-1f14-4fd...|                                           0|                                             0|                                           0|                                         0.0|                                            0|                                              0|                                            0|                                          0.0|                                               0|                                                 0|                                               0|                                             0.0|                                                    0|                                                      0|                                                    0|                                                  0.0|                                             0|                                               0|                                             0|                                           0.0|                                           0|                                             0|                                           0|                                         0.0|                                           0|                                             0|                                           0|                                         0.0|                                            0|                                              0|                                            0|                                          0.0|\n|89839019-b3ec-44b...|2018-03-12 13:21:00|Elizabeth Brawley|c8c62bd1-edb5-491...|                                           0|                                             0|                                           0|                                         0.0|                                            0|                                              0|                                            0|                                          0.0|                                               0|                                                 0|                                               0|                                             0.0|                                                    0|                                                      0|                                                    0|                                                  0.0|                                             0|                                               0|                                             0|                                           0.0|                                           0|                                             0|                                           0|                                         0.0|                                           0|                                             0|                                           0|                                         0.0|                                            0|                                              0|                                            0|                                          0.0|\n|4a0923eb-3fe1-4d4...|2018-03-12 14:11:00|Elizabeth Brawley|9f9ffcd8-87bd-417...|                                           0|                                             0|                                           0|                                         0.0|                                            0|                                              0|                                            0|                                          0.0|                                               0|                                                 0|                                               0|                                             0.0|                                                    0|                                                      0|                                                    0|                                                  0.0|                                             0|                                               0|                                             0|                                           0.0|                                           0|                                             0|                                           0|                                         0.0|                                           0|                                             0|                                           0|                                         0.0|                                            0|                                              0|                                            0|                                          0.0|\n|f7243898-036a-44f...|2018-03-12 13:15:00|Elizabeth Brawley|2bf7e056-eb23-4c8...|                                           0|                                             0|                                           0|                                         0.0|                                            0|                                              0|                                            0|                                          0.0|                                               0|                                                 0|                                               0|                                             0.0|                                                    0|                                                      0|                                                    0|                                                  0.0|                                             0|                                               0|                                             0|                                           0.0|                                           0|                                             0|                                           0|                                         0.0|                                           0|                                             0|                                           0|                                         0.0|                                            0|                                              0|                                            0|                                          0.0|\n|89489648-180a-439...|2018-03-12 09:15:00|Elizabeth Brawley|801d65c4-c2af-460...|                                           0|                                             0|                                           0|                                         0.0|                                            0|                                              0|                                            0|                                          0.0|                                               0|                                                 0|                                               0|                                             0.0|                                                    0|                                                      0|                                                    0|                                                  0.0|                                             0|                                               0|                                             0|                                           0.0|                                           0|                                             0|                                           0|                                         0.0|                                           0|                                             0|                                           0|                                         0.0|                                            0|                                              0|                                            0|                                          0.0|\n|3ce2dcd5-622f-4ec...|2018-03-12 12:35:00|Elizabeth Brawley|0a27a4f4-18a8-4fd...|                                           0|                                             0|                                           0|                                         0.0|                                            0|                                              0|                                            0|                                          0.0|                                               0|                                                 0|                                               0|                                             0.0|                                                    0|                                                      0|                                                    0|                                                  0.0|                                             0|                                               0|                                             0|                                           0.0|                                           0|                                             0|                                           0|                                         0.0|                                           0|                                             0|                                           0|                                         0.0|                                            0|                                              0|                                            0|                                          0.0|\n|5b74e885-074e-4b5...|2018-03-12 16:17:00|Elizabeth Brawley|9d8a297c-2a74-495...|                                           0|                                             0|                                           0|                                         0.0|                                            0|                                              0|                                            0|                                          0.0|                                               0|                                                 0|                                               0|                                             0.0|                                                    0|                                                      0|                                                    0|                                                  0.0|                                             0|                                               0|                                             0|                                           0.0|                                           0|                                             0|                                           0|                                         0.0|                                           0|                                             0|                                           0|                                         0.0|                                            0|                                              0|                                            0|                                          0.0|\n|0598fc62-135b-4d4...|2018-03-12 18:37:00|Elizabeth Brawley|ea33bae7-c6a4-4ce...|                                           0|                                             0|                                           0|                                         0.0|                                            0|                                              0|                                            0|                                          0.0|                                               0|                                                 0|                                               0|                                             0.0|                                                    0|                                                      0|                                                    0|                                                  0.0|                                             0|                                               0|                                             0|                                           0.0|                                           0|                                             0|                                           0|                                         0.0|                                           0|                                             0|                                           0|                                         0.0|                                            0|                                              0|                                            0|                                          0.0|\n|df236dad-4980-440...|2018-03-12 18:07:00|Elizabeth Brawley|617fe136-d245-4b6...|                                           0|                                             0|                                           0|                                         0.0|                                            0|                                              0|                                            0|                                          0.0|                                               0|                                                 0|                                               0|                                             0.0|                                                    0|                                                      0|                                                    0|                                                  0.0|                                             0|                                               0|                                             0|                                           0.0|                                           0|                                             0|                                           0|                                         0.0|                                           0|                                             0|                                           0|                                         0.0|                                            0|                                              0|                                            0|                                          0.0|\n|2ede14af-9a83-4ea...|2018-03-12 22:03:00|Elizabeth Brawley|88d39e1a-24ce-467...|                                           0|                                             0|                                           0|                                         0.0|                                            0|                                              0|                                            0|                                          0.0|                                               0|                                                 0|                                               0|                                             0.0|                                                    0|                                                      0|                                                    0|                                                  0.0|                                             0|                                               0|                                             0|                                           0.0|                                           0|                                             0|                                           0|                                         0.0|                                           0|                                             0|                                           0|                                         0.0|                                            0|                                              0|                                            0|                                          0.0|\n|5675879a-f5c9-402...|2018-03-12 01:55:00|Elizabeth Brawley|345536ad-a301-43a...|                                           0|                                             0|                                           0|                                         0.0|                                            0|                                              0|                                            0|                                          0.0|                                               0|                                                 0|                                               0|                                             0.0|                                                    0|                                                      0|                                                    0|                                                  0.0|                                             0|                                               0|                                             0|                                           0.0|                                           0|                                             0|                                           0|                                         0.0|                                           0|                                             0|                                           0|                                         0.0|                                            0|                                              0|                                            0|                                          0.0|\n|7013beb5-9539-467...|2018-03-12 23:02:00|Elizabeth Brawley|5d1458d4-c617-4f8...|                                           0|                                             0|                                           0|                                         0.0|                                            0|                                              0|                                            0|                                          0.0|                                               0|                                                 0|                                               0|                                             0.0|                                                    0|                                                      0|                                                    0|                                                  0.0|                                             0|                                               0|                                             0|                                           0.0|                                           0|                                             0|                                           0|                                         0.0|                                           0|                                             0|                                           0|                                         0.0|                                            0|                                              0|                                            0|                                          0.0|\n|db95a985-150f-4ea...|2018-03-12 04:59:00|Elizabeth Brawley|3d86f91f-8f02-4cd...|                                           0|                                             0|                                           0|                                         0.0|                                            0|                                              0|                                            0|                                          0.0|                                               0|                                                 0|                                               0|                                             0.0|                                                    0|                                                      0|                                                    0|                                                  0.0|                                             0|                                               0|                                             0|                                           0.0|                                           0|                                             0|                                           0|                                         0.0|                                           0|                                             0|                                           0|                                         0.0|                                            0|                                              0|                                            0|                                          0.0|\n|26ba833c-0a1b-4dd...|2018-03-12 13:36:00|Elizabeth Brawley|c50946aa-23e4-453...|                                           0|                                             0|                                           0|                                         0.0|                                            0|                                              0|                                            0|                                          0.0|                                               0|                                                 0|                                               0|                                             0.0|                                                    0|                                                      0|                                                    0|                                                  0.0|                                             0|                                               0|                                             0|                                           0.0|                                           0|                                             0|                                           0|                                         0.0|                                           0|                                             0|                                           0|                                         0.0|                                            0|                                              0|                                            0|                                          0.0|\n|71694f34-efa6-497...|2018-03-12 09:14:00|Elizabeth Brawley|20bdbcf0-11b7-4f8...|                                           0|                                             0|                                           0|                                         0.0|                                            0|                                              0|                                            0|                                          0.0|                                               0|                                                 0|                                               0|                                             0.0|                                                    0|                                                      0|                                                    0|                                                  0.0|                                             0|                                               0|                                             0|                                           0.0|                                           0|                                             0|                                           0|                                         0.0|                                           0|                                             0|                                           0|                                         0.0|                                            0|                                              0|                                            0|                                          0.0|\n|a56756e2-3082-44d...|2018-03-12 22:58:00|Elizabeth Brawley|862d37ef-2d9a-486...|                                           0|                                             0|                                           0|                                         0.0|                                            0|                                              0|                                            0|                                          0.0|                                               0|                                                 0|                                               0|                                             0.0|                                                    0|                                                      0|                                                    0|                                                  0.0|                                             0|                                               0|                                             0|                                           0.0|                                           0|                                             0|                                           0|                                         0.0|                                           0|                                             0|                                           0|                                         0.0|                                            0|                                              0|                                            0|                                          0.0|\n|c1454e5c-8972-4ea...|2018-07-09 17:03:00|  Brandon Sturkie|65b4eda1-a440-493...|                                           0|                                             0|                                           0|                                         0.0|                                            0|                                              0|                                            0|                                          0.0|                                               0|                                                 0|                                               0|                                             0.0|                                                    0|                                                      0|                                                    0|                                                  0.0|                                             0|                                               0|                                             0|                                           0.0|                                           0|                                             0|                                           0|                                         0.0|                                           0|                                             0|                                           0|                                         0.0|                                          826|                                              4|                                          299|                                        206.5|\n|4bdd16fe-a24d-495...|2018-07-14 13:46:00|  Brandon Sturkie|65b4eda1-a440-493...|                                           0|                                             0|                                           0|                                         0.0|                                            0|                                              0|                                            0|                                          0.0|                                               0|                                                 0|                                               0|                                             0.0|                                                    0|                                                      0|                                                    0|                                                  0.0|                                             0|                                               0|                                             0|                                           0.0|                                           6|                                             1|                                           6|                                         6.0|                                           6|                                             1|                                           6|                                         6.0|                                           15|                                              2|                                            9|                                          7.5|\n|09f022fd-f9c5-46e...|2018-07-18 23:28:00|  Brandon Sturkie|65b4eda1-a440-493...|                                           0|                                             0|                                           0|                                         0.0|                                            0|                                              0|                                            0|                                          0.0|                                               0|                                                 0|                                               0|                                             0.0|                                                    0|                                                      0|                                                    0|                                                  0.0|                                             0|                                               0|                                             0|                                           0.0|                                         240|                                             1|                                         240|                                       240.0|                                         246|                                             2|                                         240|                                       123.0|                                          246|                                              2|                                          240|                                        123.0|\n+--------------------+-------------------+-----------------+--------------------+--------------------------------------------+----------------------------------------------+--------------------------------------------+--------------------------------------------+---------------------------------------------+-----------------------------------------------+---------------------------------------------+---------------------------------------------+------------------------------------------------+--------------------------------------------------+------------------------------------------------+------------------------------------------------+-----------------------------------------------------+-------------------------------------------------------+-----------------------------------------------------+-----------------------------------------------------+----------------------------------------------+------------------------------------------------+----------------------------------------------+----------------------------------------------+--------------------------------------------+----------------------------------------------+--------------------------------------------+--------------------------------------------+--------------------------------------------+----------------------------------------------+--------------------------------------------+--------------------------------------------+---------------------------------------------+-----------------------------------------------+---------------------------------------------+---------------------------------------------+\nonly showing top 20 rows\n\n",
          "name": "block.stdout:RandomProcess3_1",
          "pathname": null,
          "process": null,
          "processName": null,
          "thread": null,
          "threadName": null
         },
         {
          "asctime": "2021-03-23 04:34:09,207",
          "created": 1616474049.207385,
          "exc_info": null,
          "extra": {},
          "filename": null,
          "full_message": null,
          "funcName": null,
          "levelname": "STDOUT",
          "lineno": null,
          "message": "+--------------------+-----------+-------------+--------------+--------------------------------------------+----------------------------------------------+--------------------------------------------+--------------------------------------------+--------------------------------------------+----------------------------------------------+--------------------------------------------+--------------------------------------------+-----------------------------------------------+-------------------------------------------------+-----------------------------------------------+-----------------------------------------------+----------------------------------------------------+------------------------------------------------------+----------------------------------------------------+----------------------------------------------------+----------------------------------------------+------------------------------------------------+----------------------------------------------+----------------------------------------------+\n|      transaction_id|merchant_id|merchant_city|merchant_state|last_one_hour_total_merchant_transaction_sum|last_one_hour_total_merchant_transaction_count|last_one_hour_total_merchant_transaction_max|last_one_hour_total_merchant_transaction_avg|last_six_hour_total_merchant_transaction_sum|last_six_hour_total_merchant_transaction_count|last_six_hour_total_merchant_transaction_max|last_six_hour_total_merchant_transaction_avg|last_twelve_hour_total_merchant_transaction_sum|last_twelve_hour_total_merchant_transaction_count|last_twelve_hour_total_merchant_transaction_max|last_twelve_hour_total_merchant_transaction_avg|last_twenty_four_hour_total_merchant_transaction_sum|last_twenty_four_hour_total_merchant_transaction_count|last_twenty_four_hour_total_merchant_transaction_max|last_twenty_four_hour_total_merchant_transaction_avg|last_three_days_total_merchant_transaction_sum|last_three_days_total_merchant_transaction_count|last_three_days_total_merchant_transaction_max|last_three_days_total_merchant_transaction_avg|\n+--------------------+-----------+-------------+--------------+--------------------------------------------+----------------------------------------------+--------------------------------------------+--------------------------------------------+--------------------------------------------+----------------------------------------------+--------------------------------------------+--------------------------------------------+-----------------------------------------------+-------------------------------------------------+-----------------------------------------------+-----------------------------------------------+----------------------------------------------------+------------------------------------------------------+----------------------------------------------------+----------------------------------------------------+----------------------------------------------+------------------------------------------------+----------------------------------------------+----------------------------------------------+\n|8bbd694f-cf23-4e9...|    1000795|    Bay Shore|      New York|                                           0|                                             0|                                           0|                                         0.0|                                           0|                                             0|                                           0|                                         0.0|                                              0|                                                0|                                              0|                                            0.0|                                                   0|                                                     0|                                                   0|                                                 0.0|                                             0|                                               0|                                             0|                                           0.0|\n|c9cbbdd6-2cf7-4ec...|    1000096|         Otto|       Wyoming|                                           0|                                             0|                                           0|                                         0.0|                                           0|                                             0|                                           0|                                         0.0|                                              0|                                                0|                                              0|                                            0.0|                                                   0|                                                     0|                                                   0|                                                 0.0|                                             0|                                               0|                                             0|                                           0.0|\n|25b44c0b-c06c-40c...|    1000096|         Otto|       Wyoming|                                           0|                                             0|                                           0|                                         0.0|                                           0|                                             0|                                           0|                                         0.0|                                              0|                                                0|                                              0|                                            0.0|                                                   0|                                                     0|                                                   0|                                                 0.0|                                             0|                                               0|                                             0|                                           0.0|\n|c11e0eb9-c78f-481...|    1000096|         Otto|       Wyoming|                                           0|                                             0|                                           0|                                         0.0|                                           0|                                             0|                                           0|                                         0.0|                                              0|                                                0|                                              0|                                            0.0|                                                   0|                                                     0|                                                   0|                                                 0.0|                                             0|                                               0|                                             0|                                           0.0|\n|dbe86b45-b1e2-444...|    1000096|         Otto|       Wyoming|                                           0|                                             0|                                           0|                                         0.0|                                           0|                                             0|                                           0|                                         0.0|                                              0|                                                0|                                              0|                                            0.0|                                                   0|                                                     0|                                                   0|                                                 0.0|                                             0|                                               0|                                             0|                                           0.0|\n|72df8902-73d1-4aa...|    1000113|      Henagar|       Alabama|                                           0|                                             0|                                           0|                                         0.0|                                           0|                                             0|                                           0|                                         0.0|                                              0|                                                0|                                              0|                                            0.0|                                                   0|                                                     0|                                                   0|                                                 0.0|                                             0|                                               0|                                             0|                                           0.0|\n|8fde6027-13f1-4e1...|    1000113|      Henagar|       Alabama|                                           0|                                             0|                                           0|                                         0.0|                                           0|                                             0|                                           0|                                         0.0|                                              0|                                                0|                                              0|                                            0.0|                                                   0|                                                     0|                                                   0|                                                 0.0|                                             0|                                               0|                                             0|                                           0.0|\n|32e15d54-b117-422...|    1000113|      Henagar|       Alabama|                                           0|                                             0|                                           0|                                         0.0|                                           0|                                             0|                                           0|                                         0.0|                                              0|                                                0|                                              0|                                            0.0|                                                   0|                                                     0|                                                   0|                                                 0.0|                                             0|                                               0|                                             0|                                           0.0|\n|9764a134-9793-437...|    1000113|      Henagar|       Alabama|                                           0|                                             0|                                           0|                                         0.0|                                           0|                                             0|                                           0|                                         0.0|                                              0|                                                0|                                              0|                                            0.0|                                                   0|                                                     0|                                                   0|                                                 0.0|                                             0|                                               0|                                             0|                                           0.0|\n|141649d9-d661-430...|    1000113|      Henagar|       Alabama|                                           0|                                             0|                                           0|                                         0.0|                                           6|                                             1|                                           6|                                         6.0|                                              6|                                                1|                                              6|                                            6.0|                                                   6|                                                     1|                                                   6|                                                 6.0|                                             6|                                               1|                                             6|                                           6.0|\n|49a2e33b-706c-46c...|    1000113|      Henagar|       Alabama|                                           0|                                             0|                                           0|                                         0.0|                                           0|                                             0|                                           0|                                         0.0|                                              0|                                                0|                                              0|                                            0.0|                                                   0|                                                     0|                                                   0|                                                 0.0|                                             0|                                               0|                                             0|                                           0.0|\n|32da9c21-ad11-42c...|    1000113|      Henagar|       Alabama|                                           0|                                             0|                                           0|                                         0.0|                                           0|                                             0|                                           0|                                         0.0|                                              0|                                                0|                                              0|                                            0.0|                                                   0|                                                     0|                                                   0|                                                 0.0|                                             0|                                               0|                                             0|                                           0.0|\n|12ae5674-aad1-49c...|    1000113|      Henagar|       Alabama|                                           0|                                             0|                                           0|                                         0.0|                                           0|                                             0|                                           0|                                         0.0|                                              0|                                                0|                                              0|                                            0.0|                                                  27|                                                     2|                                                  21|                                                13.5|                                            27|                                               2|                                            21|                                          13.5|\n|9fd21a2b-18a6-46f...|    1000113|      Henagar|       Alabama|                                           0|                                             0|                                           0|                                         0.0|                                           0|                                             0|                                           0|                                         0.0|                                              0|                                                0|                                              0|                                            0.0|                                                   0|                                                     0|                                                   0|                                                 0.0|                                             0|                                               0|                                             0|                                           0.0|\n|170d76f2-41c1-441...|    1000113|      Henagar|       Alabama|                                           0|                                             0|                                           0|                                         0.0|                                           0|                                             0|                                           0|                                         0.0|                                              0|                                                0|                                              0|                                            0.0|                                                   0|                                                     0|                                                   0|                                                 0.0|                                          2516|                                               1|                                          2516|                                        2516.0|\n|e0e2f964-3b0d-4d4...|    1000113|      Henagar|       Alabama|                                           0|                                             0|                                           0|                                         0.0|                                           0|                                             0|                                           0|                                         0.0|                                              0|                                                0|                                              0|                                            0.0|                                                   0|                                                     0|                                                   0|                                                 0.0|                                             0|                                               0|                                             0|                                           0.0|\n|07a38c41-37d4-463...|    1000113|      Henagar|       Alabama|                                           0|                                             0|                                           0|                                         0.0|                                           0|                                             0|                                           0|                                         0.0|                                              0|                                                0|                                              0|                                            0.0|                                                   0|                                                     0|                                                   0|                                                 0.0|                                             0|                                               0|                                             0|                                           0.0|\n|f35cf7d7-4607-40f...|    1000113|      Henagar|       Alabama|                                           0|                                             0|                                           0|                                         0.0|                                           0|                                             0|                                           0|                                         0.0|                                              0|                                                0|                                              0|                                            0.0|                                                   0|                                                     0|                                                   0|                                                 0.0|                                             0|                                               0|                                             0|                                           0.0|\n|2608cf70-a8c0-4d5...|    1001320|       Dacoma|      Oklahoma|                                           0|                                             0|                                           0|                                         0.0|                                           0|                                             0|                                           0|                                         0.0|                                              0|                                                0|                                              0|                                            0.0|                                                   0|                                                     0|                                                   0|                                                 0.0|                                             0|                                               0|                                             0|                                           0.0|\n|26c46b37-c0ad-425...|    1000376|     Sun City|        Kansas|                                           0|                                             0|                                           0|                                         0.0|                                           0|                                             0|                                           0|                                         0.0|                                              0|                                                0|                                              0|                                            0.0|                                                   0|                                                     0|                                                   0|                                                 0.0|                                             0|                                               0|                                             0|                                           0.0|\n+--------------------+-----------+-------------+--------------+--------------------------------------------+----------------------------------------------+--------------------------------------------+--------------------------------------------+--------------------------------------------+----------------------------------------------+--------------------------------------------+--------------------------------------------+-----------------------------------------------+-------------------------------------------------+-----------------------------------------------+-----------------------------------------------+----------------------------------------------------+------------------------------------------------------+----------------------------------------------------+----------------------------------------------------+----------------------------------------------+------------------------------------------------+----------------------------------------------+----------------------------------------------+\nonly showing top 20 rows\n\n",
          "name": "block.stdout:RandomProcess3_1",
          "pathname": null,
          "process": null,
          "processName": null,
          "thread": null,
          "threadName": null
         },
         {
          "asctime": "2021-03-23 04:34:09,248",
          "created": 1616474049.2486854,
          "extra": {},
          "filename": "async_executors.py",
          "funcName": "main",
          "levelname": "DEBUG",
          "lineno": 147,
          "message": "RandomProcess3_1: block thread completed",
          "name": "engine.logs:RandomProcess3_1",
          "pathname": "/usr/local/lib/python3.7/dist-packages/razor/flow/async_executors.py",
          "process": 1676,
          "processName": "ForkProcess-1:2",
          "thread": 140061051098944,
          "threadName": "MainThread"
         },
         {
          "asctime": "2021-03-23 04:34:09,248",
          "created": 1616474049.2488616,
          "extra": {},
          "filename": "async_executors.py",
          "funcName": "main",
          "levelname": "DEBUG",
          "lineno": 149,
          "message": "RandomProcess3_1: block execution complete",
          "name": "engine.logs:RandomProcess3_1",
          "pathname": "/usr/local/lib/python3.7/dist-packages/razor/flow/async_executors.py",
          "process": 1676,
          "processName": "ForkProcess-1:2",
          "thread": 140061051098944,
          "threadName": "MainThread"
         },
         {
          "asctime": "2021-03-23 04:34:09,256",
          "created": 1616474049.2560916,
          "extra": {},
          "filename": "async_executors.py",
          "funcName": "start_input_receiver",
          "levelname": "DEBUG",
          "lineno": 173,
          "message": "RandomProcess3_1: received cmd: terminate, (), {}",
          "name": "engine.logs:RandomProcess3_1",
          "pathname": "/usr/local/lib/python3.7/dist-packages/razor/flow/async_executors.py",
          "process": 1676,
          "processName": "ForkProcess-1:2",
          "thread": 140061051098944,
          "threadName": "MainThread"
         },
         {
          "asctime": "2021-03-23 04:33:10,676",
          "created": 1616473990.6769764,
          "extra": {},
          "filename": "async_executors.py",
          "funcName": "main",
          "levelname": "DEBUG",
          "lineno": 114,
          "message": "NonSparkPath_1: started async block execution\n",
          "name": "engine.logs:NonSparkPath_1",
          "pathname": "/usr/local/lib/python3.7/dist-packages/razor/flow/async_executors.py",
          "process": 1668,
          "processName": "ForkProcess-1:1",
          "thread": 140061051098944,
          "threadName": "MainThread"
         },
         {
          "asctime": "2021-03-23 04:33:10,696",
          "created": 1616473990.696146,
          "extra": {},
          "filename": "async_executors.py",
          "funcName": "fill_atomic_inputs",
          "levelname": "INFO",
          "lineno": 250,
          "message": "NonSparkPath_1: waiting for atomic input: ip_path",
          "name": "engine.logs:NonSparkPath_1",
          "pathname": "/usr/local/lib/python3.7/dist-packages/razor/flow/async_executors.py",
          "process": 1668,
          "processName": "ForkProcess-1:1",
          "thread": 140061051098944,
          "threadName": "MainThread"
         },
         {
          "asctime": "2021-03-23 04:33:10,696",
          "created": 1616473990.696334,
          "extra": {},
          "filename": "async_executors.py",
          "funcName": "fill_atomic_inputs",
          "levelname": "DEBUG",
          "lineno": 253,
          "message": "NonSparkPath_1: got atomic input: customer_data.csv",
          "name": "engine.logs:NonSparkPath_1",
          "pathname": "/usr/local/lib/python3.7/dist-packages/razor/flow/async_executors.py",
          "process": 1668,
          "processName": "ForkProcess-1:1",
          "thread": 140061051098944,
          "threadName": "MainThread"
         },
         {
          "asctime": "2021-03-23 04:33:10,696",
          "created": 1616473990.6964028,
          "extra": {},
          "filename": "async_executors.py",
          "funcName": "main",
          "levelname": "DEBUG",
          "lineno": 130,
          "message": "NonSparkPath_1: triggering block run",
          "name": "engine.logs:NonSparkPath_1",
          "pathname": "/usr/local/lib/python3.7/dist-packages/razor/flow/async_executors.py",
          "process": 1668,
          "processName": "ForkProcess-1:1",
          "thread": 140061051098944,
          "threadName": "MainThread"
         },
         {
          "asctime": "2021-03-23 04:33:10,890",
          "created": 1616473990.8903112,
          "extra": {},
          "filename": "async_executors.py",
          "funcName": "distribute_output_queue",
          "levelname": "DEBUG",
          "lineno": 308,
          "message": "NonSparkPath_1: ---- dist output: /home/aios/projectspace/customer_data.csv -> ('ReadCsvProjectSpace_1', 'filename')",
          "name": "engine.logs:NonSparkPath_1",
          "pathname": "/usr/local/lib/python3.7/dist-packages/razor/flow/async_executors.py",
          "process": 1668,
          "processName": "ForkProcess-1:1",
          "thread": 140061051098944,
          "threadName": "MainThread"
         },
         {
          "asctime": "2021-03-23 04:33:10,890",
          "created": 1616473990.8906748,
          "extra": {},
          "filename": "async_executors.py",
          "funcName": "main",
          "levelname": "DEBUG",
          "lineno": 147,
          "message": "NonSparkPath_1: block thread completed",
          "name": "engine.logs:NonSparkPath_1",
          "pathname": "/usr/local/lib/python3.7/dist-packages/razor/flow/async_executors.py",
          "process": 1668,
          "processName": "ForkProcess-1:1",
          "thread": 140061051098944,
          "threadName": "MainThread"
         },
         {
          "asctime": "2021-03-23 04:33:10,890",
          "created": 1616473990.8907626,
          "extra": {},
          "filename": "async_executors.py",
          "funcName": "main",
          "levelname": "DEBUG",
          "lineno": 149,
          "message": "NonSparkPath_1: block execution complete",
          "name": "engine.logs:NonSparkPath_1",
          "pathname": "/usr/local/lib/python3.7/dist-packages/razor/flow/async_executors.py",
          "process": 1668,
          "processName": "ForkProcess-1:1",
          "thread": 140061051098944,
          "threadName": "MainThread"
         },
         {
          "asctime": "2021-03-23 04:33:10,890",
          "created": 1616473990.8908806,
          "extra": {},
          "filename": "async_executors.py",
          "funcName": "distribute_output_queue",
          "levelname": "DEBUG",
          "lineno": 308,
          "message": "NonSparkPath_1: ---- dist output: b'__!\\tEndOfStream\\t!__' -> ('ReadCsvProjectSpace_1', 'filename')",
          "name": "engine.logs:NonSparkPath_1",
          "pathname": "/usr/local/lib/python3.7/dist-packages/razor/flow/async_executors.py",
          "process": 1668,
          "processName": "ForkProcess-1:1",
          "thread": 140061051098944,
          "threadName": "MainThread"
         },
         {
          "asctime": "2021-03-23 04:33:10,923",
          "created": 1616473990.9233046,
          "extra": {},
          "filename": "async_executors.py",
          "funcName": "main",
          "levelname": "DEBUG",
          "lineno": 114,
          "message": "RandomProcess1_1: started async block execution\n",
          "name": "engine.logs:RandomProcess1_1",
          "pathname": "/usr/local/lib/python3.7/dist-packages/razor/flow/async_executors.py",
          "process": 1676,
          "processName": "ForkProcess-1:2",
          "thread": 140061051098944,
          "threadName": "MainThread"
         },
         {
          "asctime": "2021-03-23 04:33:10,925",
          "created": 1616473990.925121,
          "extra": {},
          "filename": "async_executors.py",
          "funcName": "main",
          "levelname": "DEBUG",
          "lineno": 114,
          "message": "DropDuplicates_1: started async block execution\n",
          "name": "engine.logs:DropDuplicates_1",
          "pathname": "/usr/local/lib/python3.7/dist-packages/razor/flow/async_executors.py",
          "process": 1676,
          "processName": "ForkProcess-1:2",
          "thread": 140061051098944,
          "threadName": "MainThread"
         },
         {
          "asctime": "2021-03-23 04:33:10,926",
          "created": 1616473990.9264326,
          "extra": {},
          "filename": "async_executors.py",
          "funcName": "main",
          "levelname": "DEBUG",
          "lineno": 114,
          "message": "RandomProcess2_1: started async block execution\n",
          "name": "engine.logs:RandomProcess2_1",
          "pathname": "/usr/local/lib/python3.7/dist-packages/razor/flow/async_executors.py",
          "process": 1676,
          "processName": "ForkProcess-1:2",
          "thread": 140061051098944,
          "threadName": "MainThread"
         },
         {
          "asctime": "2021-03-23 04:33:10,926",
          "created": 1616473990.926969,
          "extra": {},
          "filename": "async_executors.py",
          "funcName": "main",
          "levelname": "DEBUG",
          "lineno": 114,
          "message": "ReadCsvProjectSpace_1: started async block execution\n",
          "name": "engine.logs:ReadCsvProjectSpace_1",
          "pathname": "/usr/local/lib/python3.7/dist-packages/razor/flow/async_executors.py",
          "process": 1676,
          "processName": "ForkProcess-1:2",
          "thread": 140061051098944,
          "threadName": "MainThread"
         },
         {
          "asctime": "2021-03-23 04:33:10,925",
          "created": 1616473990.925874,
          "extra": {},
          "filename": "async_executors.py",
          "funcName": "main",
          "levelname": "DEBUG",
          "lineno": 114,
          "message": "RandomProcess3_1: started async block execution\n",
          "name": "engine.logs:RandomProcess3_1",
          "pathname": "/usr/local/lib/python3.7/dist-packages/razor/flow/async_executors.py",
          "process": 1676,
          "processName": "ForkProcess-1:2",
          "thread": 140061051098944,
          "threadName": "MainThread"
         },
         {
          "asctime": "2021-03-23 04:33:10,943",
          "created": 1616473990.9434366,
          "extra": {},
          "filename": "async_executors.py",
          "funcName": "fill_atomic_inputs",
          "levelname": "INFO",
          "lineno": 250,
          "message": "RandomProcess1_1: waiting for atomic input: ip_data",
          "name": "engine.logs:RandomProcess1_1",
          "pathname": "/usr/local/lib/python3.7/dist-packages/razor/flow/async_executors.py",
          "process": 1676,
          "processName": "ForkProcess-1:2",
          "thread": 140061051098944,
          "threadName": "MainThread"
         },
         {
          "asctime": "2021-03-23 04:33:10,966",
          "created": 1616473990.9663696,
          "extra": {},
          "filename": "async_executors.py",
          "funcName": "fill_atomic_inputs",
          "levelname": "INFO",
          "lineno": 250,
          "message": "DropDuplicates_1: waiting for atomic input: ip_data",
          "name": "engine.logs:DropDuplicates_1",
          "pathname": "/usr/local/lib/python3.7/dist-packages/razor/flow/async_executors.py",
          "process": 1676,
          "processName": "ForkProcess-1:2",
          "thread": 140061051098944,
          "threadName": "MainThread"
         },
         {
          "asctime": "2021-03-23 04:33:10,994",
          "created": 1616473990.994708,
          "extra": {},
          "filename": "async_executors.py",
          "funcName": "fill_atomic_inputs",
          "levelname": "INFO",
          "lineno": 250,
          "message": "RandomProcess2_1: waiting for atomic input: ip_data",
          "name": "engine.logs:RandomProcess2_1",
          "pathname": "/usr/local/lib/python3.7/dist-packages/razor/flow/async_executors.py",
          "process": 1676,
          "processName": "ForkProcess-1:2",
          "thread": 140061051098944,
          "threadName": "MainThread"
         },
         {
          "asctime": "2021-03-23 04:33:11,008",
          "created": 1616473991.0081315,
          "extra": {},
          "filename": "async_executors.py",
          "funcName": "fill_atomic_inputs",
          "levelname": "INFO",
          "lineno": 250,
          "message": "ReadCsvProjectSpace_1: waiting for atomic input: filename",
          "name": "engine.logs:ReadCsvProjectSpace_1",
          "pathname": "/usr/local/lib/python3.7/dist-packages/razor/flow/async_executors.py",
          "process": 1676,
          "processName": "ForkProcess-1:2",
          "thread": 140061051098944,
          "threadName": "MainThread"
         },
         {
          "asctime": "2021-03-23 04:33:10,980",
          "created": 1616473990.9805317,
          "extra": {},
          "filename": "async_executors.py",
          "funcName": "fill_atomic_inputs",
          "levelname": "INFO",
          "lineno": 250,
          "message": "RandomProcess3_1: waiting for atomic input: ip_data",
          "name": "engine.logs:RandomProcess3_1",
          "pathname": "/usr/local/lib/python3.7/dist-packages/razor/flow/async_executors.py",
          "process": 1676,
          "processName": "ForkProcess-1:2",
          "thread": 140061051098944,
          "threadName": "MainThread"
         },
         {
          "asctime": "2021-03-23 04:33:11,017",
          "created": 1616473991.0173383,
          "extra": {},
          "filename": "async_executors.py",
          "funcName": "start_input_receiver",
          "levelname": "DEBUG",
          "lineno": 173,
          "message": "NonSparkPath_1: received cmd: start_sender, (), {'out_name': 'op_path', 'target': ('ReadCsvProjectSpace_1', 'filename'), 'out_addr': 'tcp://0.0.0.0:59801', 'in_memory': None}",
          "name": "engine.logs:NonSparkPath_1",
          "pathname": "/usr/local/lib/python3.7/dist-packages/razor/flow/async_executors.py",
          "process": 1668,
          "processName": "ForkProcess-1:1",
          "thread": 140061051098944,
          "threadName": "MainThread"
         },
         {
          "asctime": "2021-03-23 04:33:11,017",
          "created": 1616473991.0176897,
          "extra": {},
          "filename": "async_executors.py",
          "funcName": "start_output_sender",
          "levelname": "DEBUG",
          "lineno": 370,
          "message": "NonSparkPath_1: got start_sender, op_path, ('ReadCsvProjectSpace_1', 'filename')",
          "name": "engine.logs:NonSparkPath_1",
          "pathname": "/usr/local/lib/python3.7/dist-packages/razor/flow/async_executors.py",
          "process": 1668,
          "processName": "ForkProcess-1:1",
          "thread": 140061051098944,
          "threadName": "MainThread"
         },
         {
          "asctime": "2021-03-23 04:33:11,018",
          "created": 1616473991.018799,
          "extra": {},
          "filename": "async_executors.py",
          "funcName": "start_output_sender",
          "levelname": "DEBUG",
          "lineno": 388,
          "message": "NonSparkPath_1: SENT, filename, /home/aios/projectspace/customer_data.csv, ('ReadCsvProjectSpace_1', 'filename')",
          "name": "engine.logs:NonSparkPath_1",
          "pathname": "/usr/local/lib/python3.7/dist-packages/razor/flow/async_executors.py",
          "process": 1668,
          "processName": "ForkProcess-1:1",
          "thread": 140061051098944,
          "threadName": "MainThread"
         },
         {
          "asctime": "2021-03-23 04:33:11,019",
          "created": 1616473991.0190759,
          "extra": {},
          "filename": "async_executors.py",
          "funcName": "start_output_sender",
          "levelname": "DEBUG",
          "lineno": 388,
          "message": "NonSparkPath_1: SENT, filename, b'__!\\tEndOfStream\\t!__', ('ReadCsvProjectSpace_1', 'filename')",
          "name": "engine.logs:NonSparkPath_1",
          "pathname": "/usr/local/lib/python3.7/dist-packages/razor/flow/async_executors.py",
          "process": 1668,
          "processName": "ForkProcess-1:1",
          "thread": 140061051098944,
          "threadName": "MainThread"
         },
         {
          "asctime": "2021-03-23 04:33:11,019",
          "created": 1616473991.0193074,
          "extra": {},
          "filename": "async_executors.py",
          "funcName": "start_output_sender",
          "levelname": "DEBUG",
          "lineno": 391,
          "message": "NonSparkPath_1: completed output: ('op_path', ('ReadCsvProjectSpace_1', 'filename'))",
          "name": "engine.logs:NonSparkPath_1",
          "pathname": "/usr/local/lib/python3.7/dist-packages/razor/flow/async_executors.py",
          "process": 1668,
          "processName": "ForkProcess-1:1",
          "thread": 140061051098944,
          "threadName": "MainThread"
         },
         {
          "asctime": "2021-03-23 04:33:11,021",
          "created": 1616473991.0213633,
          "extra": {},
          "filename": "async_executors.py",
          "funcName": "start_input_receiver",
          "levelname": "DEBUG",
          "lineno": 177,
          "message": "ReadCsvProjectSpace_1: received data: filename, /home/aios/projectspace/customer_data.csv",
          "name": "engine.logs:ReadCsvProjectSpace_1",
          "pathname": "/usr/local/lib/python3.7/dist-packages/razor/flow/async_executors.py",
          "process": 1676,
          "processName": "ForkProcess-1:2",
          "thread": 140061051098944,
          "threadName": "MainThread"
         },
         {
          "asctime": "2021-03-23 04:33:11,022",
          "created": 1616473991.0221097,
          "extra": {},
          "filename": "async_executors.py",
          "funcName": "start_input_receiver",
          "levelname": "DEBUG",
          "lineno": 177,
          "message": "ReadCsvProjectSpace_1: received data: filename, b'__!\\tEndOfStream\\t!__'",
          "name": "engine.logs:ReadCsvProjectSpace_1",
          "pathname": "/usr/local/lib/python3.7/dist-packages/razor/flow/async_executors.py",
          "process": 1676,
          "processName": "ForkProcess-1:2",
          "thread": 140061051098944,
          "threadName": "MainThread"
         },
         {
          "asctime": "2021-03-23 04:33:11,022",
          "created": 1616473991.0223918,
          "extra": {},
          "filename": "async_executors.py",
          "funcName": "fill_atomic_inputs",
          "levelname": "DEBUG",
          "lineno": 253,
          "message": "ReadCsvProjectSpace_1: got atomic input: /home/aios/projectspace/customer_data.csv",
          "name": "engine.logs:ReadCsvProjectSpace_1",
          "pathname": "/usr/local/lib/python3.7/dist-packages/razor/flow/async_executors.py",
          "process": 1676,
          "processName": "ForkProcess-1:2",
          "thread": 140061051098944,
          "threadName": "MainThread"
         },
         {
          "asctime": "2021-03-23 04:33:11,022",
          "created": 1616473991.022496,
          "extra": {},
          "filename": "async_executors.py",
          "funcName": "fill_atomic_inputs",
          "levelname": "INFO",
          "lineno": 250,
          "message": "ReadCsvProjectSpace_1: waiting for atomic input: config",
          "name": "engine.logs:ReadCsvProjectSpace_1",
          "pathname": "/usr/local/lib/python3.7/dist-packages/razor/flow/async_executors.py",
          "process": 1676,
          "processName": "ForkProcess-1:2",
          "thread": 140061051098944,
          "threadName": "MainThread"
         },
         {
          "asctime": "2021-03-23 04:33:11,022",
          "created": 1616473991.0225852,
          "extra": {},
          "filename": "async_executors.py",
          "funcName": "fill_atomic_inputs",
          "levelname": "DEBUG",
          "lineno": 253,
          "message": "ReadCsvProjectSpace_1: got atomic input: {}",
          "name": "engine.logs:ReadCsvProjectSpace_1",
          "pathname": "/usr/local/lib/python3.7/dist-packages/razor/flow/async_executors.py",
          "process": 1676,
          "processName": "ForkProcess-1:2",
          "thread": 140061051098944,
          "threadName": "MainThread"
         },
         {
          "asctime": "2021-03-23 04:33:11,022",
          "created": 1616473991.0226526,
          "extra": {},
          "filename": "async_executors.py",
          "funcName": "fill_atomic_inputs",
          "levelname": "INFO",
          "lineno": 250,
          "message": "ReadCsvProjectSpace_1: waiting for atomic input: source",
          "name": "engine.logs:ReadCsvProjectSpace_1",
          "pathname": "/usr/local/lib/python3.7/dist-packages/razor/flow/async_executors.py",
          "process": 1676,
          "processName": "ForkProcess-1:2",
          "thread": 140061051098944,
          "threadName": "MainThread"
         },
         {
          "asctime": "2021-03-23 04:33:11,022",
          "created": 1616473991.022708,
          "extra": {},
          "filename": "async_executors.py",
          "funcName": "fill_atomic_inputs",
          "levelname": "DEBUG",
          "lineno": 253,
          "message": "ReadCsvProjectSpace_1: got atomic input: ",
          "name": "engine.logs:ReadCsvProjectSpace_1",
          "pathname": "/usr/local/lib/python3.7/dist-packages/razor/flow/async_executors.py",
          "process": 1676,
          "processName": "ForkProcess-1:2",
          "thread": 140061051098944,
          "threadName": "MainThread"
         },
         {
          "asctime": "2021-03-23 04:33:11,022",
          "created": 1616473991.0227814,
          "extra": {},
          "filename": "async_executors.py",
          "funcName": "main",
          "levelname": "DEBUG",
          "lineno": 130,
          "message": "ReadCsvProjectSpace_1: triggering block run",
          "name": "engine.logs:ReadCsvProjectSpace_1",
          "pathname": "/usr/local/lib/python3.7/dist-packages/razor/flow/async_executors.py",
          "process": 1676,
          "processName": "ForkProcess-1:2",
          "thread": 140061051098944,
          "threadName": "MainThread"
         },
         {
          "asctime": "2021-03-23 04:33:11,035",
          "created": 1616473991.0350692,
          "extra": {},
          "filename": "async_executors.py",
          "funcName": "start_input_receiver",
          "levelname": "DEBUG",
          "lineno": 173,
          "message": "NonSparkPath_1: received cmd: terminate, (), {}",
          "name": "engine.logs:NonSparkPath_1",
          "pathname": "/usr/local/lib/python3.7/dist-packages/razor/flow/async_executors.py",
          "process": 1668,
          "processName": "ForkProcess-1:1",
          "thread": 140061051098944,
          "threadName": "MainThread"
         },
         {
          "asctime": "2021-03-23 04:33:34,468",
          "created": 1616474014.4681768,
          "exc_info": null,
          "extra": {},
          "filename": null,
          "full_message": null,
          "funcName": null,
          "levelname": "STDOUT",
          "lineno": null,
          "message": "Hello\n",
          "name": "block.stdout:ReadCsvProjectSpace_1",
          "pathname": null,
          "process": null,
          "processName": null,
          "thread": null,
          "threadName": null
         },
         {
          "asctime": "2021-03-23 04:33:34,548",
          "created": 1616474014.5482628,
          "exc_info": null,
          "extra": {},
          "filename": null,
          "full_message": null,
          "funcName": null,
          "levelname": "STDOUT",
          "lineno": null,
          "message": "root\n |-- transaction_id: string (nullable = true)\n |-- time: string (nullable = true)\n |-- customer_name: string (nullable = true)\n |-- card_number: string (nullable = true)\n |-- card_type: string (nullable = true)\n |-- physical_card_type: string (nullable = true)\n |-- merchant_id: string (nullable = true)\n |-- merchant_city: string (nullable = true)\n |-- merchant_state: string (nullable = true)\n |-- transaction_type: string (nullable = true)\n |-- transaction_type_sub: string (nullable = true)\n |-- amount: string (nullable = true)\n |-- product_type: string (nullable = true)\n |-- fraud_risk: string (nullable = true)\n |-- One Time Heavy Loot Score: string (nullable = true)\n |-- Drastic Transaction Change Pattern Score: string (nullable = true)\n |-- Parasitic Fraud Score: string (nullable = true)\n |-- Purchase Behavior Variation Score: string (nullable = true)\n |-- Preferred Merchant Variation Score: string (nullable = true)\n |-- Multiple Location Fraud Score: string (nullable = true)\n |-- Fraudster Merchant Score: string (nullable = true)\n |-- no_of_transactions_in_the_day: string (nullable = true)\n |-- max_transaction_amount_in_the_day: string (nullable = true)\n |-- avg_transaction_amount_in_the_day: string (nullable = true)\n |-- no_of_transactions_in_the_month: string (nullable = true)\n |-- max_transaction_amount_the_month: string (nullable = true)\n |-- avg_transaction_amount_the_month: string (nullable = true)\n |-- no_of_transactions_of_the_same_merchant_in_the_day: string (nullable = true)\n |-- max_transactions_of_the_same_merchant_in_the_day: string (nullable = true)\n |-- avg_transactions_of_the_same_merchant_in_the_day: string (nullable = true)\n |-- no_of_transactions_of_the_same_merchant_in_the_month: string (nullable = true)\n |-- max_transactions_of_the_same_merchant_in_the_month: string (nullable = true)\n |-- avg_transactions_of_the_same_merchant_in_the_month: string (nullable = true)\n\n",
          "name": "block.stdout:ReadCsvProjectSpace_1",
          "pathname": null,
          "process": null,
          "processName": null,
          "thread": null,
          "threadName": null
         },
         {
          "asctime": "2021-03-23 04:33:34,583",
          "created": 1616474014.5832171,
          "extra": {},
          "filename": "async_executors.py",
          "funcName": "distribute_output_queue",
          "levelname": "DEBUG",
          "lineno": 308,
          "message": "ReadCsvProjectSpace_1: ---- dist output: DataFrame[transaction_id: string, time: string, customer_name: string, card_number: string, card_type: string, physical_card_type: string, merchant_id: string, merchant_city: string, merchant_state: string, transaction_type: string, transaction_type_sub: string, amount: string, product_type: string, fraud_risk: string, One Time Heavy Loot Score: string, Drastic Transaction Change Pattern Score: string, Parasitic Fraud Score: string, Purchase Behavior Variation Score: string, Preferred Merchant Variation Score: string, Multiple Location Fraud Score: string, Fraudster Merchant Score: string, no_of_transactions_in_the_day: string, max_transaction_amount_in_the_day: string, avg_transaction_amount_in_the_day: string, no_of_transactions_in_the_month: string, max_transaction_amount_the_month: string, avg_transaction_amount_the_month: string, no_of_transactions_of_the_same_merchant_in_the_day: string, max_transactions_of_the_same_merchant_in_the_day: string, avg_transactions_of_the_same_merchant_in_the_day: string, no_of_transactions_of_the_same_merchant_in_the_month: string, max_transactions_of_the_same_merchant_in_the_month: string, avg_transactions_of_the_same_merchant_in_the_month: string] -> ('RandomProcess1_1', 'ip_data')",
          "name": "engine.logs:ReadCsvProjectSpace_1",
          "pathname": "/usr/local/lib/python3.7/dist-packages/razor/flow/async_executors.py",
          "process": 1676,
          "processName": "ForkProcess-1:2",
          "thread": 140061051098944,
          "threadName": "MainThread"
         },
         {
          "asctime": "2021-03-23 04:33:34,584",
          "created": 1616474014.584325,
          "extra": {},
          "filename": "async_executors.py",
          "funcName": "distribute_output_queue",
          "levelname": "DEBUG",
          "lineno": 308,
          "message": "ReadCsvProjectSpace_1: ---- dist output: DataFrame[transaction_id: string, time: string, customer_name: string, card_number: string, card_type: string, physical_card_type: string, merchant_id: string, merchant_city: string, merchant_state: string, transaction_type: string, transaction_type_sub: string, amount: string, product_type: string, fraud_risk: string, One Time Heavy Loot Score: string, Drastic Transaction Change Pattern Score: string, Parasitic Fraud Score: string, Purchase Behavior Variation Score: string, Preferred Merchant Variation Score: string, Multiple Location Fraud Score: string, Fraudster Merchant Score: string, no_of_transactions_in_the_day: string, max_transaction_amount_in_the_day: string, avg_transaction_amount_in_the_day: string, no_of_transactions_in_the_month: string, max_transaction_amount_the_month: string, avg_transaction_amount_the_month: string, no_of_transactions_of_the_same_merchant_in_the_day: string, max_transactions_of_the_same_merchant_in_the_day: string, avg_transactions_of_the_same_merchant_in_the_day: string, no_of_transactions_of_the_same_merchant_in_the_month: string, max_transactions_of_the_same_merchant_in_the_month: string, avg_transactions_of_the_same_merchant_in_the_month: string] -> ('RandomProcess2_1', 'ip_data')",
          "name": "engine.logs:ReadCsvProjectSpace_1",
          "pathname": "/usr/local/lib/python3.7/dist-packages/razor/flow/async_executors.py",
          "process": 1676,
          "processName": "ForkProcess-1:2",
          "thread": 140061051098944,
          "threadName": "MainThread"
         },
         {
          "asctime": "2021-03-23 04:33:34,584",
          "created": 1616474014.5849617,
          "extra": {},
          "filename": "async_executors.py",
          "funcName": "distribute_output_queue",
          "levelname": "DEBUG",
          "lineno": 308,
          "message": "ReadCsvProjectSpace_1: ---- dist output: DataFrame[transaction_id: string, time: string, customer_name: string, card_number: string, card_type: string, physical_card_type: string, merchant_id: string, merchant_city: string, merchant_state: string, transaction_type: string, transaction_type_sub: string, amount: string, product_type: string, fraud_risk: string, One Time Heavy Loot Score: string, Drastic Transaction Change Pattern Score: string, Parasitic Fraud Score: string, Purchase Behavior Variation Score: string, Preferred Merchant Variation Score: string, Multiple Location Fraud Score: string, Fraudster Merchant Score: string, no_of_transactions_in_the_day: string, max_transaction_amount_in_the_day: string, avg_transaction_amount_in_the_day: string, no_of_transactions_in_the_month: string, max_transaction_amount_the_month: string, avg_transaction_amount_the_month: string, no_of_transactions_of_the_same_merchant_in_the_day: string, max_transactions_of_the_same_merchant_in_the_day: string, avg_transactions_of_the_same_merchant_in_the_day: string, no_of_transactions_of_the_same_merchant_in_the_month: string, max_transactions_of_the_same_merchant_in_the_month: string, avg_transactions_of_the_same_merchant_in_the_month: string] -> ('RandomProcess3_1', 'ip_data')",
          "name": "engine.logs:ReadCsvProjectSpace_1",
          "pathname": "/usr/local/lib/python3.7/dist-packages/razor/flow/async_executors.py",
          "process": 1676,
          "processName": "ForkProcess-1:2",
          "thread": 140061051098944,
          "threadName": "MainThread"
         },
         {
          "asctime": "2021-03-23 04:33:34,585",
          "created": 1616474014.5853822,
          "extra": {},
          "filename": "async_executors.py",
          "funcName": "main",
          "levelname": "DEBUG",
          "lineno": 147,
          "message": "ReadCsvProjectSpace_1: block thread completed",
          "name": "engine.logs:ReadCsvProjectSpace_1",
          "pathname": "/usr/local/lib/python3.7/dist-packages/razor/flow/async_executors.py",
          "process": 1676,
          "processName": "ForkProcess-1:2",
          "thread": 140061051098944,
          "threadName": "MainThread"
         },
         {
          "asctime": "2021-03-23 04:33:34,585",
          "created": 1616474014.5854712,
          "extra": {},
          "filename": "async_executors.py",
          "funcName": "main",
          "levelname": "DEBUG",
          "lineno": 149,
          "message": "ReadCsvProjectSpace_1: block execution complete",
          "name": "engine.logs:ReadCsvProjectSpace_1",
          "pathname": "/usr/local/lib/python3.7/dist-packages/razor/flow/async_executors.py",
          "process": 1676,
          "processName": "ForkProcess-1:2",
          "thread": 140061051098944,
          "threadName": "MainThread"
         },
         {
          "asctime": "2021-03-23 04:33:34,608",
          "created": 1616474014.6080172,
          "extra": {},
          "filename": "async_executors.py",
          "funcName": "distribute_output_queue",
          "levelname": "DEBUG",
          "lineno": 308,
          "message": "ReadCsvProjectSpace_1: ---- dist output: b'__!\\tEndOfStream\\t!__' -> ('RandomProcess1_1', 'ip_data')",
          "name": "engine.logs:ReadCsvProjectSpace_1",
          "pathname": "/usr/local/lib/python3.7/dist-packages/razor/flow/async_executors.py",
          "process": 1676,
          "processName": "ForkProcess-1:2",
          "thread": 140061051098944,
          "threadName": "MainThread"
         },
         {
          "asctime": "2021-03-23 04:33:34,608",
          "created": 1616474014.6081617,
          "extra": {},
          "filename": "async_executors.py",
          "funcName": "distribute_output_queue",
          "levelname": "DEBUG",
          "lineno": 308,
          "message": "ReadCsvProjectSpace_1: ---- dist output: b'__!\\tEndOfStream\\t!__' -> ('RandomProcess2_1', 'ip_data')",
          "name": "engine.logs:ReadCsvProjectSpace_1",
          "pathname": "/usr/local/lib/python3.7/dist-packages/razor/flow/async_executors.py",
          "process": 1676,
          "processName": "ForkProcess-1:2",
          "thread": 140061051098944,
          "threadName": "MainThread"
         },
         {
          "asctime": "2021-03-23 04:33:34,655",
          "created": 1616474014.6557636,
          "extra": {},
          "filename": "async_executors.py",
          "funcName": "fill_atomic_inputs",
          "levelname": "DEBUG",
          "lineno": 253,
          "message": "RandomProcess3_1: got atomic input: DataFrame[transaction_id: string, time: string, customer_name: string, card_number: string, card_type: string, physical_card_type: string, merchant_id: string, merchant_city: string, merchant_state: string, transaction_type: string, transaction_type_sub: string, amount: string, product_type: string, fraud_risk: string, One Time Heavy Loot Score: string, Drastic Transaction Change Pattern Score: string, Parasitic Fraud Score: string, Purchase Behavior Variation Score: string, Preferred Merchant Variation Score: string, Multiple Location Fraud Score: string, Fraudster Merchant Score: string, no_of_transactions_in_the_day: string, max_transaction_amount_in_the_day: string, avg_transaction_amount_in_the_day: string, no_of_transactions_in_the_month: string, max_transaction_amount_the_month: string, avg_transaction_amount_the_month: string, no_of_transactions_of_the_same_merchant_in_the_day: string, max_transactions_of_the_same_merchant_in_the_day: string, avg_transactions_of_the_same_merchant_in_the_day: string, no_of_transactions_of_the_same_merchant_in_the_month: string, max_transactions_of_the_same_merchant_in_the_month: string, avg_transactions_of_the_same_merchant_in_the_month: string]",
          "name": "engine.logs:RandomProcess3_1",
          "pathname": "/usr/local/lib/python3.7/dist-packages/razor/flow/async_executors.py",
          "process": 1676,
          "processName": "ForkProcess-1:2",
          "thread": 140061051098944,
          "threadName": "MainThread"
         },
         {
          "asctime": "2021-03-23 04:33:34,608",
          "created": 1616474014.6082127,
          "extra": {},
          "filename": "async_executors.py",
          "funcName": "distribute_output_queue",
          "levelname": "DEBUG",
          "lineno": 308,
          "message": "ReadCsvProjectSpace_1: ---- dist output: b'__!\\tEndOfStream\\t!__' -> ('RandomProcess3_1', 'ip_data')",
          "name": "engine.logs:ReadCsvProjectSpace_1",
          "pathname": "/usr/local/lib/python3.7/dist-packages/razor/flow/async_executors.py",
          "process": 1676,
          "processName": "ForkProcess-1:2",
          "thread": 140061051098944,
          "threadName": "MainThread"
         },
         {
          "asctime": "2021-03-23 04:33:34,656",
          "created": 1616474014.656187,
          "extra": {},
          "filename": "async_executors.py",
          "funcName": "fill_atomic_inputs",
          "levelname": "INFO",
          "lineno": 250,
          "message": "RandomProcess3_1: waiting for atomic input: config",
          "name": "engine.logs:RandomProcess3_1",
          "pathname": "/usr/local/lib/python3.7/dist-packages/razor/flow/async_executors.py",
          "process": 1676,
          "processName": "ForkProcess-1:2",
          "thread": 140061051098944,
          "threadName": "MainThread"
         },
         {
          "asctime": "2021-03-23 04:33:34,652",
          "created": 1616474014.6521883,
          "extra": {},
          "filename": "async_executors.py",
          "funcName": "start_input_receiver",
          "levelname": "DEBUG",
          "lineno": 173,
          "message": "ReadCsvProjectSpace_1: received cmd: start_sender, (), {'out_name': 'data', 'target': ('RandomProcess3_1', 'ip_data'), 'out_addr': 'tcp://0.0.0.0:59113', 'in_memory': True}",
          "name": "engine.logs:ReadCsvProjectSpace_1",
          "pathname": "/usr/local/lib/python3.7/dist-packages/razor/flow/async_executors.py",
          "process": 1676,
          "processName": "ForkProcess-1:2",
          "thread": 140061051098944,
          "threadName": "MainThread"
         },
         {
          "asctime": "2021-03-23 04:33:34,652",
          "created": 1616474014.6526504,
          "extra": {},
          "filename": "async_executors.py",
          "funcName": "start_output_sender",
          "levelname": "DEBUG",
          "lineno": 370,
          "message": "ReadCsvProjectSpace_1: got start_sender, data, ('RandomProcess3_1', 'ip_data')",
          "name": "engine.logs:ReadCsvProjectSpace_1",
          "pathname": "/usr/local/lib/python3.7/dist-packages/razor/flow/async_executors.py",
          "process": 1676,
          "processName": "ForkProcess-1:2",
          "thread": 140061051098944,
          "threadName": "MainThread"
         },
         {
          "asctime": "2021-03-23 04:33:34,653",
          "created": 1616474014.6535933,
          "extra": {},
          "filename": "async_executors.py",
          "funcName": "start_output_sender",
          "levelname": "DEBUG",
          "lineno": 375,
          "message": "ReadCsvProjectSpace_1: SENT, ip_data, DataFrame[transaction_id: string, time: string, customer_name: string, card_number: string, card_type: string, physical_card_type: string, merchant_id: string, merchant_city: string, merchant_state: string, transaction_type: string, transaction_type_sub: string, amount: string, product_type: string, fraud_risk: string, One Time Heavy Loot Score: string, Drastic Transaction Change Pattern Score: string, Parasitic Fraud Score: string, Purchase Behavior Variation Score: string, Preferred Merchant Variation Score: string, Multiple Location Fraud Score: string, Fraudster Merchant Score: string, no_of_transactions_in_the_day: string, max_transaction_amount_in_the_day: string, avg_transaction_amount_in_the_day: string, no_of_transactions_in_the_month: string, max_transaction_amount_the_month: string, avg_transaction_amount_the_month: string, no_of_transactions_of_the_same_merchant_in_the_day: string, max_transactions_of_the_same_merchant_in_the_day: string, avg_transactions_of_the_same_merchant_in_the_day: string, no_of_transactions_of_the_same_merchant_in_the_month: string, max_transactions_of_the_same_merchant_in_the_month: string, avg_transactions_of_the_same_merchant_in_the_month: string], ('RandomProcess3_1', 'ip_data')",
          "name": "engine.logs:ReadCsvProjectSpace_1",
          "pathname": "/usr/local/lib/python3.7/dist-packages/razor/flow/async_executors.py",
          "process": 1676,
          "processName": "ForkProcess-1:2",
          "thread": 140061051098944,
          "threadName": "MainThread"
         },
         {
          "asctime": "2021-03-23 04:33:34,653",
          "created": 1616474014.6538465,
          "extra": {},
          "filename": "async_executors.py",
          "funcName": "start_output_sender",
          "levelname": "DEBUG",
          "lineno": 375,
          "message": "ReadCsvProjectSpace_1: SENT, ip_data, b'__!\\tEndOfStream\\t!__', ('RandomProcess3_1', 'ip_data')",
          "name": "engine.logs:ReadCsvProjectSpace_1",
          "pathname": "/usr/local/lib/python3.7/dist-packages/razor/flow/async_executors.py",
          "process": 1676,
          "processName": "ForkProcess-1:2",
          "thread": 140061051098944,
          "threadName": "MainThread"
         },
         {
          "asctime": "2021-03-23 04:33:34,656",
          "created": 1616474014.656328,
          "extra": {},
          "filename": "async_executors.py",
          "funcName": "fill_atomic_inputs",
          "levelname": "DEBUG",
          "lineno": 253,
          "message": "RandomProcess3_1: got atomic input: {}",
          "name": "engine.logs:RandomProcess3_1",
          "pathname": "/usr/local/lib/python3.7/dist-packages/razor/flow/async_executors.py",
          "process": 1676,
          "processName": "ForkProcess-1:2",
          "thread": 140061051098944,
          "threadName": "MainThread"
         },
         {
          "asctime": "2021-03-23 04:33:34,654",
          "created": 1616474014.654069,
          "extra": {},
          "filename": "async_executors.py",
          "funcName": "start_output_sender",
          "levelname": "DEBUG",
          "lineno": 379,
          "message": "ReadCsvProjectSpace_1: completed output: ('data', ('RandomProcess3_1', 'ip_data'))",
          "name": "engine.logs:ReadCsvProjectSpace_1",
          "pathname": "/usr/local/lib/python3.7/dist-packages/razor/flow/async_executors.py",
          "process": 1676,
          "processName": "ForkProcess-1:2",
          "thread": 140061051098944,
          "threadName": "MainThread"
         },
         {
          "asctime": "2021-03-23 04:33:34,658",
          "created": 1616474014.6585646,
          "extra": {},
          "filename": "async_executors.py",
          "funcName": "start_input_receiver",
          "levelname": "DEBUG",
          "lineno": 173,
          "message": "ReadCsvProjectSpace_1: received cmd: start_sender, (), {'out_name': 'data', 'target': ('RandomProcess2_1', 'ip_data'), 'out_addr': 'tcp://0.0.0.0:58099', 'in_memory': True}",
          "name": "engine.logs:ReadCsvProjectSpace_1",
          "pathname": "/usr/local/lib/python3.7/dist-packages/razor/flow/async_executors.py",
          "process": 1676,
          "processName": "ForkProcess-1:2",
          "thread": 140061051098944,
          "threadName": "MainThread"
         },
         {
          "asctime": "2021-03-23 04:33:34,656",
          "created": 1616474014.656397,
          "extra": {},
          "filename": "async_executors.py",
          "funcName": "fill_atomic_inputs",
          "levelname": "INFO",
          "lineno": 250,
          "message": "RandomProcess3_1: waiting for atomic input: source",
          "name": "engine.logs:RandomProcess3_1",
          "pathname": "/usr/local/lib/python3.7/dist-packages/razor/flow/async_executors.py",
          "process": 1676,
          "processName": "ForkProcess-1:2",
          "thread": 140061051098944,
          "threadName": "MainThread"
         },
         {
          "asctime": "2021-03-23 04:33:34,656",
          "created": 1616474014.6564748,
          "extra": {},
          "filename": "async_executors.py",
          "funcName": "fill_atomic_inputs",
          "levelname": "DEBUG",
          "lineno": 253,
          "message": "RandomProcess3_1: got atomic input: ",
          "name": "engine.logs:RandomProcess3_1",
          "pathname": "/usr/local/lib/python3.7/dist-packages/razor/flow/async_executors.py",
          "process": 1676,
          "processName": "ForkProcess-1:2",
          "thread": 140061051098944,
          "threadName": "MainThread"
         },
         {
          "asctime": "2021-03-23 04:33:34,659",
          "created": 1616474014.659498,
          "extra": {},
          "filename": "async_executors.py",
          "funcName": "start_output_sender",
          "levelname": "DEBUG",
          "lineno": 370,
          "message": "ReadCsvProjectSpace_1: got start_sender, data, ('RandomProcess2_1', 'ip_data')",
          "name": "engine.logs:ReadCsvProjectSpace_1",
          "pathname": "/usr/local/lib/python3.7/dist-packages/razor/flow/async_executors.py",
          "process": 1676,
          "processName": "ForkProcess-1:2",
          "thread": 140061051098944,
          "threadName": "MainThread"
         },
         {
          "asctime": "2021-03-23 04:33:34,656",
          "created": 1616474014.6565628,
          "extra": {},
          "filename": "async_executors.py",
          "funcName": "main",
          "levelname": "DEBUG",
          "lineno": 130,
          "message": "RandomProcess3_1: triggering block run",
          "name": "engine.logs:RandomProcess3_1",
          "pathname": "/usr/local/lib/python3.7/dist-packages/razor/flow/async_executors.py",
          "process": 1676,
          "processName": "ForkProcess-1:2",
          "thread": 140061051098944,
          "threadName": "MainThread"
         },
         {
          "asctime": "2021-03-23 04:33:34,661",
          "created": 1616474014.6612759,
          "extra": {},
          "filename": "async_executors.py",
          "funcName": "start_output_sender",
          "levelname": "DEBUG",
          "lineno": 375,
          "message": "ReadCsvProjectSpace_1: SENT, ip_data, DataFrame[transaction_id: string, time: string, customer_name: string, card_number: string, card_type: string, physical_card_type: string, merchant_id: string, merchant_city: string, merchant_state: string, transaction_type: string, transaction_type_sub: string, amount: string, product_type: string, fraud_risk: string, One Time Heavy Loot Score: string, Drastic Transaction Change Pattern Score: string, Parasitic Fraud Score: string, Purchase Behavior Variation Score: string, Preferred Merchant Variation Score: string, Multiple Location Fraud Score: string, Fraudster Merchant Score: string, no_of_transactions_in_the_day: string, max_transaction_amount_in_the_day: string, avg_transaction_amount_in_the_day: string, no_of_transactions_in_the_month: string, max_transaction_amount_the_month: string, avg_transaction_amount_the_month: string, no_of_transactions_of_the_same_merchant_in_the_day: string, max_transactions_of_the_same_merchant_in_the_day: string, avg_transactions_of_the_same_merchant_in_the_day: string, no_of_transactions_of_the_same_merchant_in_the_month: string, max_transactions_of_the_same_merchant_in_the_month: string, avg_transactions_of_the_same_merchant_in_the_month: string], ('RandomProcess2_1', 'ip_data')",
          "name": "engine.logs:ReadCsvProjectSpace_1",
          "pathname": "/usr/local/lib/python3.7/dist-packages/razor/flow/async_executors.py",
          "process": 1676,
          "processName": "ForkProcess-1:2",
          "thread": 140061051098944,
          "threadName": "MainThread"
         },
         {
          "asctime": "2021-03-23 04:33:34,661",
          "created": 1616474014.6615503,
          "extra": {},
          "filename": "async_executors.py",
          "funcName": "start_output_sender",
          "levelname": "DEBUG",
          "lineno": 375,
          "message": "ReadCsvProjectSpace_1: SENT, ip_data, b'__!\\tEndOfStream\\t!__', ('RandomProcess2_1', 'ip_data')",
          "name": "engine.logs:ReadCsvProjectSpace_1",
          "pathname": "/usr/local/lib/python3.7/dist-packages/razor/flow/async_executors.py",
          "process": 1676,
          "processName": "ForkProcess-1:2",
          "thread": 140061051098944,
          "threadName": "MainThread"
         },
         {
          "asctime": "2021-03-23 04:33:34,666",
          "created": 1616474014.6660113,
          "extra": {},
          "filename": "async_executors.py",
          "funcName": "fill_atomic_inputs",
          "levelname": "DEBUG",
          "lineno": 253,
          "message": "RandomProcess2_1: got atomic input: DataFrame[transaction_id: string, time: string, customer_name: string, card_number: string, card_type: string, physical_card_type: string, merchant_id: string, merchant_city: string, merchant_state: string, transaction_type: string, transaction_type_sub: string, amount: string, product_type: string, fraud_risk: string, One Time Heavy Loot Score: string, Drastic Transaction Change Pattern Score: string, Parasitic Fraud Score: string, Purchase Behavior Variation Score: string, Preferred Merchant Variation Score: string, Multiple Location Fraud Score: string, Fraudster Merchant Score: string, no_of_transactions_in_the_day: string, max_transaction_amount_in_the_day: string, avg_transaction_amount_in_the_day: string, no_of_transactions_in_the_month: string, max_transaction_amount_the_month: string, avg_transaction_amount_the_month: string, no_of_transactions_of_the_same_merchant_in_the_day: string, max_transactions_of_the_same_merchant_in_the_day: string, avg_transactions_of_the_same_merchant_in_the_day: string, no_of_transactions_of_the_same_merchant_in_the_month: string, max_transactions_of_the_same_merchant_in_the_month: string, avg_transactions_of_the_same_merchant_in_the_month: string]",
          "name": "engine.logs:RandomProcess2_1",
          "pathname": "/usr/local/lib/python3.7/dist-packages/razor/flow/async_executors.py",
          "process": 1676,
          "processName": "ForkProcess-1:2",
          "thread": 140061051098944,
          "threadName": "MainThread"
         },
         {
          "asctime": "2021-03-23 04:33:34,661",
          "created": 1616474014.6616926,
          "extra": {},
          "filename": "async_executors.py",
          "funcName": "start_output_sender",
          "levelname": "DEBUG",
          "lineno": 379,
          "message": "ReadCsvProjectSpace_1: completed output: ('data', ('RandomProcess2_1', 'ip_data'))",
          "name": "engine.logs:ReadCsvProjectSpace_1",
          "pathname": "/usr/local/lib/python3.7/dist-packages/razor/flow/async_executors.py",
          "process": 1676,
          "processName": "ForkProcess-1:2",
          "thread": 140061051098944,
          "threadName": "MainThread"
         },
         {
          "asctime": "2021-03-23 04:33:34,661",
          "created": 1616474014.6618114,
          "extra": {},
          "filename": "async_executors.py",
          "funcName": "start_input_receiver",
          "levelname": "DEBUG",
          "lineno": 173,
          "message": "ReadCsvProjectSpace_1: received cmd: start_sender, (), {'out_name': 'data', 'target': ('RandomProcess1_1', 'ip_data'), 'out_addr': 'tcp://0.0.0.0:60767', 'in_memory': True}",
          "name": "engine.logs:ReadCsvProjectSpace_1",
          "pathname": "/usr/local/lib/python3.7/dist-packages/razor/flow/async_executors.py",
          "process": 1676,
          "processName": "ForkProcess-1:2",
          "thread": 140061051098944,
          "threadName": "MainThread"
         },
         {
          "asctime": "2021-03-23 04:33:34,666",
          "created": 1616474014.666117,
          "extra": {},
          "filename": "async_executors.py",
          "funcName": "fill_atomic_inputs",
          "levelname": "INFO",
          "lineno": 250,
          "message": "RandomProcess2_1: waiting for atomic input: config",
          "name": "engine.logs:RandomProcess2_1",
          "pathname": "/usr/local/lib/python3.7/dist-packages/razor/flow/async_executors.py",
          "process": 1676,
          "processName": "ForkProcess-1:2",
          "thread": 140061051098944,
          "threadName": "MainThread"
         },
         {
          "asctime": "2021-03-23 04:33:34,666",
          "created": 1616474014.6661885,
          "extra": {},
          "filename": "async_executors.py",
          "funcName": "fill_atomic_inputs",
          "levelname": "DEBUG",
          "lineno": 253,
          "message": "RandomProcess2_1: got atomic input: {}",
          "name": "engine.logs:RandomProcess2_1",
          "pathname": "/usr/local/lib/python3.7/dist-packages/razor/flow/async_executors.py",
          "process": 1676,
          "processName": "ForkProcess-1:2",
          "thread": 140061051098944,
          "threadName": "MainThread"
         },
         {
          "asctime": "2021-03-23 04:33:34,671",
          "created": 1616474014.671133,
          "extra": {},
          "filename": "async_executors.py",
          "funcName": "fill_atomic_inputs",
          "levelname": "DEBUG",
          "lineno": 253,
          "message": "RandomProcess1_1: got atomic input: DataFrame[transaction_id: string, time: string, customer_name: string, card_number: string, card_type: string, physical_card_type: string, merchant_id: string, merchant_city: string, merchant_state: string, transaction_type: string, transaction_type_sub: string, amount: string, product_type: string, fraud_risk: string, One Time Heavy Loot Score: string, Drastic Transaction Change Pattern Score: string, Parasitic Fraud Score: string, Purchase Behavior Variation Score: string, Preferred Merchant Variation Score: string, Multiple Location Fraud Score: string, Fraudster Merchant Score: string, no_of_transactions_in_the_day: string, max_transaction_amount_in_the_day: string, avg_transaction_amount_in_the_day: string, no_of_transactions_in_the_month: string, max_transaction_amount_the_month: string, avg_transaction_amount_the_month: string, no_of_transactions_of_the_same_merchant_in_the_day: string, max_transactions_of_the_same_merchant_in_the_day: string, avg_transactions_of_the_same_merchant_in_the_day: string, no_of_transactions_of_the_same_merchant_in_the_month: string, max_transactions_of_the_same_merchant_in_the_month: string, avg_transactions_of_the_same_merchant_in_the_month: string]",
          "name": "engine.logs:RandomProcess1_1",
          "pathname": "/usr/local/lib/python3.7/dist-packages/razor/flow/async_executors.py",
          "process": 1676,
          "processName": "ForkProcess-1:2",
          "thread": 140061051098944,
          "threadName": "MainThread"
         },
         {
          "asctime": "2021-03-23 04:33:34,666",
          "created": 1616474014.6662326,
          "extra": {},
          "filename": "async_executors.py",
          "funcName": "fill_atomic_inputs",
          "levelname": "INFO",
          "lineno": 250,
          "message": "RandomProcess2_1: waiting for atomic input: source",
          "name": "engine.logs:RandomProcess2_1",
          "pathname": "/usr/local/lib/python3.7/dist-packages/razor/flow/async_executors.py",
          "process": 1676,
          "processName": "ForkProcess-1:2",
          "thread": 140061051098944,
          "threadName": "MainThread"
         },
         {
          "asctime": "2021-03-23 04:33:34,663",
          "created": 1616474014.6636314,
          "extra": {},
          "filename": "async_executors.py",
          "funcName": "start_output_sender",
          "levelname": "DEBUG",
          "lineno": 370,
          "message": "ReadCsvProjectSpace_1: got start_sender, data, ('RandomProcess1_1', 'ip_data')",
          "name": "engine.logs:ReadCsvProjectSpace_1",
          "pathname": "/usr/local/lib/python3.7/dist-packages/razor/flow/async_executors.py",
          "process": 1676,
          "processName": "ForkProcess-1:2",
          "thread": 140061051098944,
          "threadName": "MainThread"
         },
         {
          "asctime": "2021-03-23 04:33:34,671",
          "created": 1616474014.6713364,
          "extra": {},
          "filename": "async_executors.py",
          "funcName": "fill_atomic_inputs",
          "levelname": "INFO",
          "lineno": 250,
          "message": "RandomProcess1_1: waiting for atomic input: config",
          "name": "engine.logs:RandomProcess1_1",
          "pathname": "/usr/local/lib/python3.7/dist-packages/razor/flow/async_executors.py",
          "process": 1676,
          "processName": "ForkProcess-1:2",
          "thread": 140061051098944,
          "threadName": "MainThread"
         },
         {
          "asctime": "2021-03-23 04:33:34,666",
          "created": 1616474014.666276,
          "extra": {},
          "filename": "async_executors.py",
          "funcName": "fill_atomic_inputs",
          "levelname": "DEBUG",
          "lineno": 253,
          "message": "RandomProcess2_1: got atomic input: ",
          "name": "engine.logs:RandomProcess2_1",
          "pathname": "/usr/local/lib/python3.7/dist-packages/razor/flow/async_executors.py",
          "process": 1676,
          "processName": "ForkProcess-1:2",
          "thread": 140061051098944,
          "threadName": "MainThread"
         },
         {
          "asctime": "2021-03-23 04:33:34,671",
          "created": 1616474014.6714516,
          "extra": {},
          "filename": "async_executors.py",
          "funcName": "fill_atomic_inputs",
          "levelname": "DEBUG",
          "lineno": 253,
          "message": "RandomProcess1_1: got atomic input: {}",
          "name": "engine.logs:RandomProcess1_1",
          "pathname": "/usr/local/lib/python3.7/dist-packages/razor/flow/async_executors.py",
          "process": 1676,
          "processName": "ForkProcess-1:2",
          "thread": 140061051098944,
          "threadName": "MainThread"
         },
         {
          "asctime": "2021-03-23 04:33:34,664",
          "created": 1616474014.664779,
          "extra": {},
          "filename": "async_executors.py",
          "funcName": "start_output_sender",
          "levelname": "DEBUG",
          "lineno": 375,
          "message": "ReadCsvProjectSpace_1: SENT, ip_data, DataFrame[transaction_id: string, time: string, customer_name: string, card_number: string, card_type: string, physical_card_type: string, merchant_id: string, merchant_city: string, merchant_state: string, transaction_type: string, transaction_type_sub: string, amount: string, product_type: string, fraud_risk: string, One Time Heavy Loot Score: string, Drastic Transaction Change Pattern Score: string, Parasitic Fraud Score: string, Purchase Behavior Variation Score: string, Preferred Merchant Variation Score: string, Multiple Location Fraud Score: string, Fraudster Merchant Score: string, no_of_transactions_in_the_day: string, max_transaction_amount_in_the_day: string, avg_transaction_amount_in_the_day: string, no_of_transactions_in_the_month: string, max_transaction_amount_the_month: string, avg_transaction_amount_the_month: string, no_of_transactions_of_the_same_merchant_in_the_day: string, max_transactions_of_the_same_merchant_in_the_day: string, avg_transactions_of_the_same_merchant_in_the_day: string, no_of_transactions_of_the_same_merchant_in_the_month: string, max_transactions_of_the_same_merchant_in_the_month: string, avg_transactions_of_the_same_merchant_in_the_month: string], ('RandomProcess1_1', 'ip_data')",
          "name": "engine.logs:ReadCsvProjectSpace_1",
          "pathname": "/usr/local/lib/python3.7/dist-packages/razor/flow/async_executors.py",
          "process": 1676,
          "processName": "ForkProcess-1:2",
          "thread": 140061051098944,
          "threadName": "MainThread"
         },
         {
          "asctime": "2021-03-23 04:33:34,666",
          "created": 1616474014.666326,
          "extra": {},
          "filename": "async_executors.py",
          "funcName": "main",
          "levelname": "DEBUG",
          "lineno": 130,
          "message": "RandomProcess2_1: triggering block run",
          "name": "engine.logs:RandomProcess2_1",
          "pathname": "/usr/local/lib/python3.7/dist-packages/razor/flow/async_executors.py",
          "process": 1676,
          "processName": "ForkProcess-1:2",
          "thread": 140061051098944,
          "threadName": "MainThread"
         },
         {
          "asctime": "2021-03-23 04:33:34,671",
          "created": 1616474014.671516,
          "extra": {},
          "filename": "async_executors.py",
          "funcName": "fill_atomic_inputs",
          "levelname": "INFO",
          "lineno": 250,
          "message": "RandomProcess1_1: waiting for atomic input: source",
          "name": "engine.logs:RandomProcess1_1",
          "pathname": "/usr/local/lib/python3.7/dist-packages/razor/flow/async_executors.py",
          "process": 1676,
          "processName": "ForkProcess-1:2",
          "thread": 140061051098944,
          "threadName": "MainThread"
         },
         {
          "asctime": "2021-03-23 04:33:34,664",
          "created": 1616474014.6649597,
          "extra": {},
          "filename": "async_executors.py",
          "funcName": "start_output_sender",
          "levelname": "DEBUG",
          "lineno": 375,
          "message": "ReadCsvProjectSpace_1: SENT, ip_data, b'__!\\tEndOfStream\\t!__', ('RandomProcess1_1', 'ip_data')",
          "name": "engine.logs:ReadCsvProjectSpace_1",
          "pathname": "/usr/local/lib/python3.7/dist-packages/razor/flow/async_executors.py",
          "process": 1676,
          "processName": "ForkProcess-1:2",
          "thread": 140061051098944,
          "threadName": "MainThread"
         },
         {
          "asctime": "2021-03-23 04:33:34,671",
          "created": 1616474014.6715891,
          "extra": {},
          "filename": "async_executors.py",
          "funcName": "fill_atomic_inputs",
          "levelname": "DEBUG",
          "lineno": 253,
          "message": "RandomProcess1_1: got atomic input: ",
          "name": "engine.logs:RandomProcess1_1",
          "pathname": "/usr/local/lib/python3.7/dist-packages/razor/flow/async_executors.py",
          "process": 1676,
          "processName": "ForkProcess-1:2",
          "thread": 140061051098944,
          "threadName": "MainThread"
         },
         {
          "asctime": "2021-03-23 04:33:34,665",
          "created": 1616474014.665038,
          "extra": {},
          "filename": "async_executors.py",
          "funcName": "start_output_sender",
          "levelname": "DEBUG",
          "lineno": 379,
          "message": "ReadCsvProjectSpace_1: completed output: ('data', ('RandomProcess1_1', 'ip_data'))",
          "name": "engine.logs:ReadCsvProjectSpace_1",
          "pathname": "/usr/local/lib/python3.7/dist-packages/razor/flow/async_executors.py",
          "process": 1676,
          "processName": "ForkProcess-1:2",
          "thread": 140061051098944,
          "threadName": "MainThread"
         },
         {
          "asctime": "2021-03-23 04:33:34,972",
          "created": 1616474014.9728389,
          "extra": {},
          "filename": "async_executors.py",
          "funcName": "start_input_receiver",
          "levelname": "DEBUG",
          "lineno": 173,
          "message": "ReadCsvProjectSpace_1: received cmd: terminate, (), {}",
          "name": "engine.logs:ReadCsvProjectSpace_1",
          "pathname": "/usr/local/lib/python3.7/dist-packages/razor/flow/async_executors.py",
          "process": 1676,
          "processName": "ForkProcess-1:2",
          "thread": 140061051098944,
          "threadName": "MainThread"
         },
         {
          "asctime": "2021-03-23 04:33:34,671",
          "created": 1616474014.6716723,
          "extra": {},
          "filename": "async_executors.py",
          "funcName": "main",
          "levelname": "DEBUG",
          "lineno": 130,
          "message": "RandomProcess1_1: triggering block run",
          "name": "engine.logs:RandomProcess1_1",
          "pathname": "/usr/local/lib/python3.7/dist-packages/razor/flow/async_executors.py",
          "process": 1676,
          "processName": "ForkProcess-1:2",
          "thread": 140061051098944,
          "threadName": "MainThread"
         },
         {
          "asctime": "2021-03-23 04:33:37,748",
          "created": 1616474017.7482078,
          "exc_info": null,
          "extra": {},
          "filename": null,
          "full_message": null,
          "funcName": null,
          "levelname": "STDOUT",
          "lineno": null,
          "message": "+-------------+--------------------+------------------+\n|customer_name|         card_number|         card_type|\n+-------------+--------------------+------------------+\n|Patrick Duran|47e2fcaf-2dc4-4fd...|current_debit_card|\n|Patrick Duran|47e2fcaf-2dc4-4fd...|current_debit_card|\n|Patrick Duran|47e2fcaf-2dc4-4fd...|current_debit_card|\n|Patrick Duran|47e2fcaf-2dc4-4fd...|current_debit_card|\n|Patrick Duran|47e2fcaf-2dc4-4fd...|current_debit_card|\n|Patrick Duran|47e2fcaf-2dc4-4fd...|current_debit_card|\n|Patrick Duran|47e2fcaf-2dc4-4fd...|current_debit_card|\n|Patrick Duran|47e2fcaf-2dc4-4fd...|current_debit_card|\n|Patrick Duran|47e2fcaf-2dc4-4fd...|current_debit_card|\n|Patrick Duran|47e2fcaf-2dc4-4fd...|current_debit_card|\n|Patrick Duran|47e2fcaf-2dc4-4fd...|current_debit_card|\n|Patrick Duran|47e2fcaf-2dc4-4fd...|current_debit_card|\n|Patrick Duran|47e2fcaf-2dc4-4fd...|current_debit_card|\n|Patrick Duran|47e2fcaf-2dc4-4fd...|current_debit_card|\n|Patrick Duran|47e2fcaf-2dc4-4fd...|current_debit_card|\n|Patrick Duran|47e2fcaf-2dc4-4fd...|current_debit_card|\n|Patrick Duran|47e2fcaf-2dc4-4fd...|current_debit_card|\n|Patrick Duran|47e2fcaf-2dc4-4fd...|current_debit_card|\n|Patrick Duran|47e2fcaf-2dc4-4fd...|current_debit_card|\n|Patrick Duran|47e2fcaf-2dc4-4fd...|current_debit_card|\n+-------------+--------------------+------------------+\nonly showing top 20 rows\n\n",
          "name": "block.stdout:RandomProcess1_1",
          "pathname": null,
          "process": null,
          "processName": null,
          "thread": null,
          "threadName": null
         },
         {
          "asctime": "2021-03-23 04:33:37,752",
          "created": 1616474017.7526834,
          "extra": {},
          "filename": "async_executors.py",
          "funcName": "distribute_output_queue",
          "levelname": "DEBUG",
          "lineno": 308,
          "message": "RandomProcess1_1: ---- dist output: DataFrame[customer_name: string, card_number: string, card_type: string] -> ('DropDuplicates_1', 'ip_data')",
          "name": "engine.logs:RandomProcess1_1",
          "pathname": "/usr/local/lib/python3.7/dist-packages/razor/flow/async_executors.py",
          "process": 1676,
          "processName": "ForkProcess-1:2",
          "thread": 140061051098944,
          "threadName": "MainThread"
         },
         {
          "asctime": "2021-03-23 04:33:37,753",
          "created": 1616474017.7531621,
          "extra": {},
          "filename": "async_executors.py",
          "funcName": "main",
          "levelname": "DEBUG",
          "lineno": 147,
          "message": "RandomProcess1_1: block thread completed",
          "name": "engine.logs:RandomProcess1_1",
          "pathname": "/usr/local/lib/python3.7/dist-packages/razor/flow/async_executors.py",
          "process": 1676,
          "processName": "ForkProcess-1:2",
          "thread": 140061051098944,
          "threadName": "MainThread"
         },
         {
          "asctime": "2021-03-23 04:33:37,753",
          "created": 1616474017.753295,
          "extra": {},
          "filename": "async_executors.py",
          "funcName": "main",
          "levelname": "DEBUG",
          "lineno": 149,
          "message": "RandomProcess1_1: block execution complete",
          "name": "engine.logs:RandomProcess1_1",
          "pathname": "/usr/local/lib/python3.7/dist-packages/razor/flow/async_executors.py",
          "process": 1676,
          "processName": "ForkProcess-1:2",
          "thread": 140061051098944,
          "threadName": "MainThread"
         },
         {
          "asctime": "2021-03-23 04:33:37,753",
          "created": 1616474017.7536564,
          "extra": {},
          "filename": "async_executors.py",
          "funcName": "distribute_output_queue",
          "levelname": "DEBUG",
          "lineno": 308,
          "message": "RandomProcess1_1: ---- dist output: b'__!\\tEndOfStream\\t!__' -> ('DropDuplicates_1', 'ip_data')",
          "name": "engine.logs:RandomProcess1_1",
          "pathname": "/usr/local/lib/python3.7/dist-packages/razor/flow/async_executors.py",
          "process": 1676,
          "processName": "ForkProcess-1:2",
          "thread": 140061051098944,
          "threadName": "MainThread"
         },
         {
          "asctime": "2021-03-23 04:33:37,759",
          "created": 1616474017.7592459,
          "extra": {},
          "filename": "async_executors.py",
          "funcName": "start_input_receiver",
          "levelname": "DEBUG",
          "lineno": 173,
          "message": "RandomProcess1_1: received cmd: start_sender, (), {'out_name': 'op_data', 'target': ('DropDuplicates_1', 'ip_data'), 'out_addr': 'tcp://0.0.0.0:61053', 'in_memory': True}",
          "name": "engine.logs:RandomProcess1_1",
          "pathname": "/usr/local/lib/python3.7/dist-packages/razor/flow/async_executors.py",
          "process": 1676,
          "processName": "ForkProcess-1:2",
          "thread": 140061051098944,
          "threadName": "MainThread"
         },
         {
          "asctime": "2021-03-23 04:33:37,759",
          "created": 1616474017.7596939,
          "extra": {},
          "filename": "async_executors.py",
          "funcName": "start_output_sender",
          "levelname": "DEBUG",
          "lineno": 370,
          "message": "RandomProcess1_1: got start_sender, op_data, ('DropDuplicates_1', 'ip_data')",
          "name": "engine.logs:RandomProcess1_1",
          "pathname": "/usr/local/lib/python3.7/dist-packages/razor/flow/async_executors.py",
          "process": 1676,
          "processName": "ForkProcess-1:2",
          "thread": 140061051098944,
          "threadName": "MainThread"
         },
         {
          "asctime": "2021-03-23 04:33:37,768",
          "created": 1616474017.7689967,
          "extra": {},
          "filename": "async_executors.py",
          "funcName": "start_output_sender",
          "levelname": "DEBUG",
          "lineno": 375,
          "message": "RandomProcess1_1: SENT, ip_data, DataFrame[customer_name: string, card_number: string, card_type: string], ('DropDuplicates_1', 'ip_data')",
          "name": "engine.logs:RandomProcess1_1",
          "pathname": "/usr/local/lib/python3.7/dist-packages/razor/flow/async_executors.py",
          "process": 1676,
          "processName": "ForkProcess-1:2",
          "thread": 140061051098944,
          "threadName": "MainThread"
         },
         {
          "asctime": "2021-03-23 04:33:37,771",
          "created": 1616474017.771936,
          "extra": {},
          "filename": "async_executors.py",
          "funcName": "fill_atomic_inputs",
          "levelname": "DEBUG",
          "lineno": 253,
          "message": "DropDuplicates_1: got atomic input: DataFrame[customer_name: string, card_number: string, card_type: string]",
          "name": "engine.logs:DropDuplicates_1",
          "pathname": "/usr/local/lib/python3.7/dist-packages/razor/flow/async_executors.py",
          "process": 1676,
          "processName": "ForkProcess-1:2",
          "thread": 140061051098944,
          "threadName": "MainThread"
         },
         {
          "asctime": "2021-03-23 04:33:37,769",
          "created": 1616474017.769286,
          "extra": {},
          "filename": "async_executors.py",
          "funcName": "start_output_sender",
          "levelname": "DEBUG",
          "lineno": 375,
          "message": "RandomProcess1_1: SENT, ip_data, b'__!\\tEndOfStream\\t!__', ('DropDuplicates_1', 'ip_data')",
          "name": "engine.logs:RandomProcess1_1",
          "pathname": "/usr/local/lib/python3.7/dist-packages/razor/flow/async_executors.py",
          "process": 1676,
          "processName": "ForkProcess-1:2",
          "thread": 140061051098944,
          "threadName": "MainThread"
         },
         {
          "asctime": "2021-03-23 04:33:37,772",
          "created": 1616474017.7723806,
          "extra": {},
          "filename": "async_executors.py",
          "funcName": "fill_atomic_inputs",
          "levelname": "INFO",
          "lineno": 250,
          "message": "DropDuplicates_1: waiting for atomic input: config",
          "name": "engine.logs:DropDuplicates_1",
          "pathname": "/usr/local/lib/python3.7/dist-packages/razor/flow/async_executors.py",
          "process": 1676,
          "processName": "ForkProcess-1:2",
          "thread": 140061051098944,
          "threadName": "MainThread"
         },
         {
          "asctime": "2021-03-23 04:33:37,769",
          "created": 1616474017.7693865,
          "extra": {},
          "filename": "async_executors.py",
          "funcName": "start_output_sender",
          "levelname": "DEBUG",
          "lineno": 379,
          "message": "RandomProcess1_1: completed output: ('op_data', ('DropDuplicates_1', 'ip_data'))",
          "name": "engine.logs:RandomProcess1_1",
          "pathname": "/usr/local/lib/python3.7/dist-packages/razor/flow/async_executors.py",
          "process": 1676,
          "processName": "ForkProcess-1:2",
          "thread": 140061051098944,
          "threadName": "MainThread"
         },
         {
          "asctime": "2021-03-23 04:33:37,772",
          "created": 1616474017.7725844,
          "extra": {},
          "filename": "async_executors.py",
          "funcName": "fill_atomic_inputs",
          "levelname": "DEBUG",
          "lineno": 253,
          "message": "DropDuplicates_1: got atomic input: {}",
          "name": "engine.logs:DropDuplicates_1",
          "pathname": "/usr/local/lib/python3.7/dist-packages/razor/flow/async_executors.py",
          "process": 1676,
          "processName": "ForkProcess-1:2",
          "thread": 140061051098944,
          "threadName": "MainThread"
         },
         {
          "asctime": "2021-03-23 04:33:37,853",
          "created": 1616474017.8532076,
          "extra": {},
          "filename": "async_executors.py",
          "funcName": "start_input_receiver",
          "levelname": "DEBUG",
          "lineno": 173,
          "message": "RandomProcess1_1: received cmd: terminate, (), {}",
          "name": "engine.logs:RandomProcess1_1",
          "pathname": "/usr/local/lib/python3.7/dist-packages/razor/flow/async_executors.py",
          "process": 1676,
          "processName": "ForkProcess-1:2",
          "thread": 140061051098944,
          "threadName": "MainThread"
         },
         {
          "asctime": "2021-03-23 04:33:37,772",
          "created": 1616474017.7729933,
          "extra": {},
          "filename": "async_executors.py",
          "funcName": "fill_atomic_inputs",
          "levelname": "INFO",
          "lineno": 250,
          "message": "DropDuplicates_1: waiting for atomic input: source",
          "name": "engine.logs:DropDuplicates_1",
          "pathname": "/usr/local/lib/python3.7/dist-packages/razor/flow/async_executors.py",
          "process": 1676,
          "processName": "ForkProcess-1:2",
          "thread": 140061051098944,
          "threadName": "MainThread"
         },
         {
          "asctime": "2021-03-23 04:33:37,773",
          "created": 1616474017.7731273,
          "extra": {},
          "filename": "async_executors.py",
          "funcName": "fill_atomic_inputs",
          "levelname": "DEBUG",
          "lineno": 253,
          "message": "DropDuplicates_1: got atomic input: ",
          "name": "engine.logs:DropDuplicates_1",
          "pathname": "/usr/local/lib/python3.7/dist-packages/razor/flow/async_executors.py",
          "process": 1676,
          "processName": "ForkProcess-1:2",
          "thread": 140061051098944,
          "threadName": "MainThread"
         },
         {
          "asctime": "2021-03-23 04:33:37,773",
          "created": 1616474017.7732022,
          "extra": {},
          "filename": "async_executors.py",
          "funcName": "main",
          "levelname": "DEBUG",
          "lineno": 130,
          "message": "DropDuplicates_1: triggering block run",
          "name": "engine.logs:DropDuplicates_1",
          "pathname": "/usr/local/lib/python3.7/dist-packages/razor/flow/async_executors.py",
          "process": 1676,
          "processName": "ForkProcess-1:2",
          "thread": 140061051098944,
          "threadName": "MainThread"
         },
         {
          "asctime": "2021-03-23 04:33:37,950",
          "created": 1616474017.9502478,
          "extra": {},
          "filename": "async_executors.py",
          "funcName": "main",
          "levelname": "DEBUG",
          "lineno": 147,
          "message": "DropDuplicates_1: block thread completed",
          "name": "engine.logs:DropDuplicates_1",
          "pathname": "/usr/local/lib/python3.7/dist-packages/razor/flow/async_executors.py",
          "process": 1676,
          "processName": "ForkProcess-1:2",
          "thread": 140061051098944,
          "threadName": "MainThread"
         },
         {
          "asctime": "2021-03-23 04:33:37,950",
          "created": 1616474017.9504223,
          "extra": {},
          "filename": "async_executors.py",
          "funcName": "main",
          "levelname": "DEBUG",
          "lineno": 149,
          "message": "DropDuplicates_1: block execution complete",
          "name": "engine.logs:DropDuplicates_1",
          "pathname": "/usr/local/lib/python3.7/dist-packages/razor/flow/async_executors.py",
          "process": 1676,
          "processName": "ForkProcess-1:2",
          "thread": 140061051098944,
          "threadName": "MainThread"
         },
         {
          "asctime": "2021-03-23 04:33:37,966",
          "created": 1616474017.966657,
          "extra": {},
          "filename": "async_executors.py",
          "funcName": "start_input_receiver",
          "levelname": "DEBUG",
          "lineno": 173,
          "message": "DropDuplicates_1: received cmd: terminate, (), {}",
          "name": "engine.logs:DropDuplicates_1",
          "pathname": "/usr/local/lib/python3.7/dist-packages/razor/flow/async_executors.py",
          "process": 1676,
          "processName": "ForkProcess-1:2",
          "thread": 140061051098944,
          "threadName": "MainThread"
         },
         {
          "asctime": "2021-03-23 04:33:53,756",
          "created": 1616474033.7564704,
          "exc_info": null,
          "extra": {},
          "filename": null,
          "full_message": null,
          "funcName": null,
          "levelname": "STDOUT",
          "lineno": null,
          "message": "+-----------+--------------+--------------+--------------------+\n|merchant_id| merchant_city|merchant_state|     list_of_product|\n+-----------+--------------+--------------+--------------------+\n|    1000758|       Hampton|      Kentucky|         [Groceries]|\n|    1000711|        Galion|          Ohio|         [Groceries]|\n|    1000950|   Charlestown|  Rhode Island|           [PetCare]|\n|    1000860|            WJ|          Utah|         [Groceries]|\n|    1000624|Pass Christian|   Mississippi|[Groceries, Furni...|\n|    1001178|   Charlestown|  Rhode Island|[Groceries, PetCare]|\n|    1001001| College Grove|     Tennessee|           [PetCare]|\n|    1000677|       Kenmare|  North Dakota|[Groceries, Texti...|\n|    1000729|      Danville|       Georgia|[Cinema, Shows an...|\n|    1001096|     Pentwater|      Michigan|         [Groceries]|\n|    1001096|     Pentwater|      Michigan|         [Groceries]|\n|    1000853|        Jayton|         Texas|[Water, Electrici...|\n|    1001148|       Newport|      Nebraska|         [Groceries]|\n|    1001039|      Hamilton|North Carolina|[Cinema, Shows an...|\n|    1000911|        Dacoma|      Oklahoma|[Cinema, Shows an...|\n|    1000922|        Auburn| Massachusetts|         [Groceries]|\n|    1000883|    Pascagoula|   Mississippi|           [PetCare]|\n|    1000726|        Dacoma|      Oklahoma|           [PetCare]|\n|    1000842|    Flintville|     Tennessee|           [PetCare]|\n|    1000745|    Fall Creek|     Wisconsin|[Groceries, Water...|\n+-----------+--------------+--------------+--------------------+\nonly showing top 20 rows\n\n",
          "name": "block.stdout:RandomProcess2_1",
          "pathname": null,
          "process": null,
          "processName": null,
          "thread": null,
          "threadName": null
         },
         {
          "asctime": "2021-03-23 04:33:53,757",
          "created": 1616474033.7577252,
          "extra": {},
          "filename": "async_executors.py",
          "funcName": "main",
          "levelname": "DEBUG",
          "lineno": 147,
          "message": "RandomProcess2_1: block thread completed",
          "name": "engine.logs:RandomProcess2_1",
          "pathname": "/usr/local/lib/python3.7/dist-packages/razor/flow/async_executors.py",
          "process": 1676,
          "processName": "ForkProcess-1:2",
          "thread": 140061051098944,
          "threadName": "MainThread"
         },
         {
          "asctime": "2021-03-23 04:33:53,758",
          "created": 1616474033.7580144,
          "extra": {},
          "filename": "async_executors.py",
          "funcName": "main",
          "levelname": "DEBUG",
          "lineno": 149,
          "message": "RandomProcess2_1: block execution complete",
          "name": "engine.logs:RandomProcess2_1",
          "pathname": "/usr/local/lib/python3.7/dist-packages/razor/flow/async_executors.py",
          "process": 1676,
          "processName": "ForkProcess-1:2",
          "thread": 140061051098944,
          "threadName": "MainThread"
         },
         {
          "asctime": "2021-03-23 04:33:53,766",
          "created": 1616474033.7660959,
          "extra": {},
          "filename": "async_executors.py",
          "funcName": "start_input_receiver",
          "levelname": "DEBUG",
          "lineno": 173,
          "message": "RandomProcess2_1: received cmd: terminate, (), {}",
          "name": "engine.logs:RandomProcess2_1",
          "pathname": "/usr/local/lib/python3.7/dist-packages/razor/flow/async_executors.py",
          "process": 1676,
          "processName": "ForkProcess-1:2",
          "thread": 140061051098944,
          "threadName": "MainThread"
         },
         {
          "asctime": "2021-03-23 04:34:03,448",
          "created": 1616474043.4485943,
          "exc_info": null,
          "extra": {},
          "filename": null,
          "full_message": null,
          "funcName": null,
          "levelname": "STDOUT",
          "lineno": null,
          "message": "+--------------------+-------------------+-----------------+--------------------+--------------------------------------------+----------------------------------------------+--------------------------------------------+--------------------------------------------+---------------------------------------------+-----------------------------------------------+---------------------------------------------+---------------------------------------------+------------------------------------------------+--------------------------------------------------+------------------------------------------------+------------------------------------------------+-----------------------------------------------------+-------------------------------------------------------+-----------------------------------------------------+-----------------------------------------------------+----------------------------------------------+------------------------------------------------+----------------------------------------------+----------------------------------------------+--------------------------------------------+----------------------------------------------+--------------------------------------------+--------------------------------------------+--------------------------------------------+----------------------------------------------+--------------------------------------------+--------------------------------------------+---------------------------------------------+-----------------------------------------------+---------------------------------------------+---------------------------------------------+\n|      transaction_id|               time|    customer_name|         card_number|last_one_hour_total_customer_transaction_sum|last_one_hour_total_customer_transaction_count|last_one_hour_total_customer_transaction_max|last_one_hour_total_customer_transaction_avg|last_six_hours_total_customer_transaction_sum|last_six_hours_total_customer_transaction_count|last_six_hours_total_customer_transaction_max|last_six_hours_total_customer_transaction_avg|last_twelve_hours_total_customer_transaction_sum|last_twelve_hours_total_customer_transaction_count|last_twelve_hours_total_customer_transaction_max|last_twelve_hours_total_customer_transaction_avg|last_twenty_four_hours_total_customer_transaction_sum|last_twenty_four_hours_total_customer_transaction_count|last_twenty_four_hours_total_customer_transaction_max|last_twenty_four_hours_total_customer_transaction_avg|last_three_days_total_customer_transaction_sum|last_three_days_total_customer_transaction_count|last_three_days_total_customer_transaction_max|last_three_days_total_customer_transaction_avg|last_one_week_total_customer_transaction_sum|last_one_week_total_customer_transaction_count|last_one_week_total_customer_transaction_max|last_one_week_total_customer_transaction_avg|last_two_week_total_customer_transaction_sum|last_two_week_total_customer_transaction_count|last_two_week_total_customer_transaction_max|last_two_week_total_customer_transaction_avg|last_one_month_total_customer_transaction_sum|last_one_month_total_customer_transaction_count|last_one_month_total_customer_transaction_max|last_one_month_total_customer_transaction_avg|\n+--------------------+-------------------+-----------------+--------------------+--------------------------------------------+----------------------------------------------+--------------------------------------------+--------------------------------------------+---------------------------------------------+-----------------------------------------------+---------------------------------------------+---------------------------------------------+------------------------------------------------+--------------------------------------------------+------------------------------------------------+------------------------------------------------+-----------------------------------------------------+-------------------------------------------------------+-----------------------------------------------------+-----------------------------------------------------+----------------------------------------------+------------------------------------------------+----------------------------------------------+----------------------------------------------+--------------------------------------------+----------------------------------------------+--------------------------------------------+--------------------------------------------+--------------------------------------------+----------------------------------------------+--------------------------------------------+--------------------------------------------+---------------------------------------------+-----------------------------------------------+---------------------------------------------+---------------------------------------------+\n|1f67ffa2-80e7-459...|2018-03-12 02:06:00|Elizabeth Brawley|b8ad67c3-effd-442...|                                           0|                                             0|                                           0|                                         0.0|                                            0|                                              0|                                            0|                                          0.0|                                               0|                                                 0|                                               0|                                             0.0|                                                    0|                                                      0|                                                    0|                                                  0.0|                                             0|                                               0|                                             0|                                           0.0|                                           0|                                             0|                                           0|                                         0.0|                                           0|                                             0|                                           0|                                         0.0|                                            0|                                              0|                                            0|                                          0.0|\n|6fb28235-14b0-480...|2018-03-12 16:31:00|Elizabeth Brawley|dd77d1cd-1f14-4fd...|                                           0|                                             0|                                           0|                                         0.0|                                            0|                                              0|                                            0|                                          0.0|                                               0|                                                 0|                                               0|                                             0.0|                                                    0|                                                      0|                                                    0|                                                  0.0|                                             0|                                               0|                                             0|                                           0.0|                                           0|                                             0|                                           0|                                         0.0|                                           0|                                             0|                                           0|                                         0.0|                                            0|                                              0|                                            0|                                          0.0|\n|89839019-b3ec-44b...|2018-03-12 13:21:00|Elizabeth Brawley|c8c62bd1-edb5-491...|                                           0|                                             0|                                           0|                                         0.0|                                            0|                                              0|                                            0|                                          0.0|                                               0|                                                 0|                                               0|                                             0.0|                                                    0|                                                      0|                                                    0|                                                  0.0|                                             0|                                               0|                                             0|                                           0.0|                                           0|                                             0|                                           0|                                         0.0|                                           0|                                             0|                                           0|                                         0.0|                                            0|                                              0|                                            0|                                          0.0|\n|4a0923eb-3fe1-4d4...|2018-03-12 14:11:00|Elizabeth Brawley|9f9ffcd8-87bd-417...|                                           0|                                             0|                                           0|                                         0.0|                                            0|                                              0|                                            0|                                          0.0|                                               0|                                                 0|                                               0|                                             0.0|                                                    0|                                                      0|                                                    0|                                                  0.0|                                             0|                                               0|                                             0|                                           0.0|                                           0|                                             0|                                           0|                                         0.0|                                           0|                                             0|                                           0|                                         0.0|                                            0|                                              0|                                            0|                                          0.0|\n|f7243898-036a-44f...|2018-03-12 13:15:00|Elizabeth Brawley|2bf7e056-eb23-4c8...|                                           0|                                             0|                                           0|                                         0.0|                                            0|                                              0|                                            0|                                          0.0|                                               0|                                                 0|                                               0|                                             0.0|                                                    0|                                                      0|                                                    0|                                                  0.0|                                             0|                                               0|                                             0|                                           0.0|                                           0|                                             0|                                           0|                                         0.0|                                           0|                                             0|                                           0|                                         0.0|                                            0|                                              0|                                            0|                                          0.0|\n|89489648-180a-439...|2018-03-12 09:15:00|Elizabeth Brawley|801d65c4-c2af-460...|                                           0|                                             0|                                           0|                                         0.0|                                            0|                                              0|                                            0|                                          0.0|                                               0|                                                 0|                                               0|                                             0.0|                                                    0|                                                      0|                                                    0|                                                  0.0|                                             0|                                               0|                                             0|                                           0.0|                                           0|                                             0|                                           0|                                         0.0|                                           0|                                             0|                                           0|                                         0.0|                                            0|                                              0|                                            0|                                          0.0|\n|3ce2dcd5-622f-4ec...|2018-03-12 12:35:00|Elizabeth Brawley|0a27a4f4-18a8-4fd...|                                           0|                                             0|                                           0|                                         0.0|                                            0|                                              0|                                            0|                                          0.0|                                               0|                                                 0|                                               0|                                             0.0|                                                    0|                                                      0|                                                    0|                                                  0.0|                                             0|                                               0|                                             0|                                           0.0|                                           0|                                             0|                                           0|                                         0.0|                                           0|                                             0|                                           0|                                         0.0|                                            0|                                              0|                                            0|                                          0.0|\n|5b74e885-074e-4b5...|2018-03-12 16:17:00|Elizabeth Brawley|9d8a297c-2a74-495...|                                           0|                                             0|                                           0|                                         0.0|                                            0|                                              0|                                            0|                                          0.0|                                               0|                                                 0|                                               0|                                             0.0|                                                    0|                                                      0|                                                    0|                                                  0.0|                                             0|                                               0|                                             0|                                           0.0|                                           0|                                             0|                                           0|                                         0.0|                                           0|                                             0|                                           0|                                         0.0|                                            0|                                              0|                                            0|                                          0.0|\n|0598fc62-135b-4d4...|2018-03-12 18:37:00|Elizabeth Brawley|ea33bae7-c6a4-4ce...|                                           0|                                             0|                                           0|                                         0.0|                                            0|                                              0|                                            0|                                          0.0|                                               0|                                                 0|                                               0|                                             0.0|                                                    0|                                                      0|                                                    0|                                                  0.0|                                             0|                                               0|                                             0|                                           0.0|                                           0|                                             0|                                           0|                                         0.0|                                           0|                                             0|                                           0|                                         0.0|                                            0|                                              0|                                            0|                                          0.0|\n|df236dad-4980-440...|2018-03-12 18:07:00|Elizabeth Brawley|617fe136-d245-4b6...|                                           0|                                             0|                                           0|                                         0.0|                                            0|                                              0|                                            0|                                          0.0|                                               0|                                                 0|                                               0|                                             0.0|                                                    0|                                                      0|                                                    0|                                                  0.0|                                             0|                                               0|                                             0|                                           0.0|                                           0|                                             0|                                           0|                                         0.0|                                           0|                                             0|                                           0|                                         0.0|                                            0|                                              0|                                            0|                                          0.0|\n|2ede14af-9a83-4ea...|2018-03-12 22:03:00|Elizabeth Brawley|88d39e1a-24ce-467...|                                           0|                                             0|                                           0|                                         0.0|                                            0|                                              0|                                            0|                                          0.0|                                               0|                                                 0|                                               0|                                             0.0|                                                    0|                                                      0|                                                    0|                                                  0.0|                                             0|                                               0|                                             0|                                           0.0|                                           0|                                             0|                                           0|                                         0.0|                                           0|                                             0|                                           0|                                         0.0|                                            0|                                              0|                                            0|                                          0.0|\n|5675879a-f5c9-402...|2018-03-12 01:55:00|Elizabeth Brawley|345536ad-a301-43a...|                                           0|                                             0|                                           0|                                         0.0|                                            0|                                              0|                                            0|                                          0.0|                                               0|                                                 0|                                               0|                                             0.0|                                                    0|                                                      0|                                                    0|                                                  0.0|                                             0|                                               0|                                             0|                                           0.0|                                           0|                                             0|                                           0|                                         0.0|                                           0|                                             0|                                           0|                                         0.0|                                            0|                                              0|                                            0|                                          0.0|\n|7013beb5-9539-467...|2018-03-12 23:02:00|Elizabeth Brawley|5d1458d4-c617-4f8...|                                           0|                                             0|                                           0|                                         0.0|                                            0|                                              0|                                            0|                                          0.0|                                               0|                                                 0|                                               0|                                             0.0|                                                    0|                                                      0|                                                    0|                                                  0.0|                                             0|                                               0|                                             0|                                           0.0|                                           0|                                             0|                                           0|                                         0.0|                                           0|                                             0|                                           0|                                         0.0|                                            0|                                              0|                                            0|                                          0.0|\n|db95a985-150f-4ea...|2018-03-12 04:59:00|Elizabeth Brawley|3d86f91f-8f02-4cd...|                                           0|                                             0|                                           0|                                         0.0|                                            0|                                              0|                                            0|                                          0.0|                                               0|                                                 0|                                               0|                                             0.0|                                                    0|                                                      0|                                                    0|                                                  0.0|                                             0|                                               0|                                             0|                                           0.0|                                           0|                                             0|                                           0|                                         0.0|                                           0|                                             0|                                           0|                                         0.0|                                            0|                                              0|                                            0|                                          0.0|\n|26ba833c-0a1b-4dd...|2018-03-12 13:36:00|Elizabeth Brawley|c50946aa-23e4-453...|                                           0|                                             0|                                           0|                                         0.0|                                            0|                                              0|                                            0|                                          0.0|                                               0|                                                 0|                                               0|                                             0.0|                                                    0|                                                      0|                                                    0|                                                  0.0|                                             0|                                               0|                                             0|                                           0.0|                                           0|                                             0|                                           0|                                         0.0|                                           0|                                             0|                                           0|                                         0.0|                                            0|                                              0|                                            0|                                          0.0|\n|71694f34-efa6-497...|2018-03-12 09:14:00|Elizabeth Brawley|20bdbcf0-11b7-4f8...|                                           0|                                             0|                                           0|                                         0.0|                                            0|                                              0|                                            0|                                          0.0|                                               0|                                                 0|                                               0|                                             0.0|                                                    0|                                                      0|                                                    0|                                                  0.0|                                             0|                                               0|                                             0|                                           0.0|                                           0|                                             0|                                           0|                                         0.0|                                           0|                                             0|                                           0|                                         0.0|                                            0|                                              0|                                            0|                                          0.0|\n|a56756e2-3082-44d...|2018-03-12 22:58:00|Elizabeth Brawley|862d37ef-2d9a-486...|                                           0|                                             0|                                           0|                                         0.0|                                            0|                                              0|                                            0|                                          0.0|                                               0|                                                 0|                                               0|                                             0.0|                                                    0|                                                      0|                                                    0|                                                  0.0|                                             0|                                               0|                                             0|                                           0.0|                                           0|                                             0|                                           0|                                         0.0|                                           0|                                             0|                                           0|                                         0.0|                                            0|                                              0|                                            0|                                          0.0|\n|c1454e5c-8972-4ea...|2018-07-09 17:03:00|  Brandon Sturkie|65b4eda1-a440-493...|                                           0|                                             0|                                           0|                                         0.0|                                            0|                                              0|                                            0|                                          0.0|                                               0|                                                 0|                                               0|                                             0.0|                                                    0|                                                      0|                                                    0|                                                  0.0|                                             0|                                               0|                                             0|                                           0.0|                                           0|                                             0|                                           0|                                         0.0|                                           0|                                             0|                                           0|                                         0.0|                                          826|                                              4|                                          299|                                        206.5|\n|4bdd16fe-a24d-495...|2018-07-14 13:46:00|  Brandon Sturkie|65b4eda1-a440-493...|                                           0|                                             0|                                           0|                                         0.0|                                            0|                                              0|                                            0|                                          0.0|                                               0|                                                 0|                                               0|                                             0.0|                                                    0|                                                      0|                                                    0|                                                  0.0|                                             0|                                               0|                                             0|                                           0.0|                                           6|                                             1|                                           6|                                         6.0|                                           6|                                             1|                                           6|                                         6.0|                                           15|                                              2|                                            9|                                          7.5|\n|09f022fd-f9c5-46e...|2018-07-18 23:28:00|  Brandon Sturkie|65b4eda1-a440-493...|                                           0|                                             0|                                           0|                                         0.0|                                            0|                                              0|                                            0|                                          0.0|                                               0|                                                 0|                                               0|                                             0.0|                                                    0|                                                      0|                                                    0|                                                  0.0|                                             0|                                               0|                                             0|                                           0.0|                                         240|                                             1|                                         240|                                       240.0|                                         246|                                             2|                                         240|                                       123.0|                                          246|                                              2|                                          240|                                        123.0|\n+--------------------+-------------------+-----------------+--------------------+--------------------------------------------+----------------------------------------------+--------------------------------------------+--------------------------------------------+---------------------------------------------+-----------------------------------------------+---------------------------------------------+---------------------------------------------+------------------------------------------------+--------------------------------------------------+------------------------------------------------+------------------------------------------------+-----------------------------------------------------+-------------------------------------------------------+-----------------------------------------------------+-----------------------------------------------------+----------------------------------------------+------------------------------------------------+----------------------------------------------+----------------------------------------------+--------------------------------------------+----------------------------------------------+--------------------------------------------+--------------------------------------------+--------------------------------------------+----------------------------------------------+--------------------------------------------+--------------------------------------------+---------------------------------------------+-----------------------------------------------+---------------------------------------------+---------------------------------------------+\nonly showing top 20 rows\n\n",
          "name": "block.stdout:RandomProcess3_1",
          "pathname": null,
          "process": null,
          "processName": null,
          "thread": null,
          "threadName": null
         },
         {
          "asctime": "2021-03-23 04:34:09,207",
          "created": 1616474049.207385,
          "exc_info": null,
          "extra": {},
          "filename": null,
          "full_message": null,
          "funcName": null,
          "levelname": "STDOUT",
          "lineno": null,
          "message": "+--------------------+-----------+-------------+--------------+--------------------------------------------+----------------------------------------------+--------------------------------------------+--------------------------------------------+--------------------------------------------+----------------------------------------------+--------------------------------------------+--------------------------------------------+-----------------------------------------------+-------------------------------------------------+-----------------------------------------------+-----------------------------------------------+----------------------------------------------------+------------------------------------------------------+----------------------------------------------------+----------------------------------------------------+----------------------------------------------+------------------------------------------------+----------------------------------------------+----------------------------------------------+\n|      transaction_id|merchant_id|merchant_city|merchant_state|last_one_hour_total_merchant_transaction_sum|last_one_hour_total_merchant_transaction_count|last_one_hour_total_merchant_transaction_max|last_one_hour_total_merchant_transaction_avg|last_six_hour_total_merchant_transaction_sum|last_six_hour_total_merchant_transaction_count|last_six_hour_total_merchant_transaction_max|last_six_hour_total_merchant_transaction_avg|last_twelve_hour_total_merchant_transaction_sum|last_twelve_hour_total_merchant_transaction_count|last_twelve_hour_total_merchant_transaction_max|last_twelve_hour_total_merchant_transaction_avg|last_twenty_four_hour_total_merchant_transaction_sum|last_twenty_four_hour_total_merchant_transaction_count|last_twenty_four_hour_total_merchant_transaction_max|last_twenty_four_hour_total_merchant_transaction_avg|last_three_days_total_merchant_transaction_sum|last_three_days_total_merchant_transaction_count|last_three_days_total_merchant_transaction_max|last_three_days_total_merchant_transaction_avg|\n+--------------------+-----------+-------------+--------------+--------------------------------------------+----------------------------------------------+--------------------------------------------+--------------------------------------------+--------------------------------------------+----------------------------------------------+--------------------------------------------+--------------------------------------------+-----------------------------------------------+-------------------------------------------------+-----------------------------------------------+-----------------------------------------------+----------------------------------------------------+------------------------------------------------------+----------------------------------------------------+----------------------------------------------------+----------------------------------------------+------------------------------------------------+----------------------------------------------+----------------------------------------------+\n|8bbd694f-cf23-4e9...|    1000795|    Bay Shore|      New York|                                           0|                                             0|                                           0|                                         0.0|                                           0|                                             0|                                           0|                                         0.0|                                              0|                                                0|                                              0|                                            0.0|                                                   0|                                                     0|                                                   0|                                                 0.0|                                             0|                                               0|                                             0|                                           0.0|\n|c9cbbdd6-2cf7-4ec...|    1000096|         Otto|       Wyoming|                                           0|                                             0|                                           0|                                         0.0|                                           0|                                             0|                                           0|                                         0.0|                                              0|                                                0|                                              0|                                            0.0|                                                   0|                                                     0|                                                   0|                                                 0.0|                                             0|                                               0|                                             0|                                           0.0|\n|25b44c0b-c06c-40c...|    1000096|         Otto|       Wyoming|                                           0|                                             0|                                           0|                                         0.0|                                           0|                                             0|                                           0|                                         0.0|                                              0|                                                0|                                              0|                                            0.0|                                                   0|                                                     0|                                                   0|                                                 0.0|                                             0|                                               0|                                             0|                                           0.0|\n|c11e0eb9-c78f-481...|    1000096|         Otto|       Wyoming|                                           0|                                             0|                                           0|                                         0.0|                                           0|                                             0|                                           0|                                         0.0|                                              0|                                                0|                                              0|                                            0.0|                                                   0|                                                     0|                                                   0|                                                 0.0|                                             0|                                               0|                                             0|                                           0.0|\n|dbe86b45-b1e2-444...|    1000096|         Otto|       Wyoming|                                           0|                                             0|                                           0|                                         0.0|                                           0|                                             0|                                           0|                                         0.0|                                              0|                                                0|                                              0|                                            0.0|                                                   0|                                                     0|                                                   0|                                                 0.0|                                             0|                                               0|                                             0|                                           0.0|\n|72df8902-73d1-4aa...|    1000113|      Henagar|       Alabama|                                           0|                                             0|                                           0|                                         0.0|                                           0|                                             0|                                           0|                                         0.0|                                              0|                                                0|                                              0|                                            0.0|                                                   0|                                                     0|                                                   0|                                                 0.0|                                             0|                                               0|                                             0|                                           0.0|\n|8fde6027-13f1-4e1...|    1000113|      Henagar|       Alabama|                                           0|                                             0|                                           0|                                         0.0|                                           0|                                             0|                                           0|                                         0.0|                                              0|                                                0|                                              0|                                            0.0|                                                   0|                                                     0|                                                   0|                                                 0.0|                                             0|                                               0|                                             0|                                           0.0|\n|32e15d54-b117-422...|    1000113|      Henagar|       Alabama|                                           0|                                             0|                                           0|                                         0.0|                                           0|                                             0|                                           0|                                         0.0|                                              0|                                                0|                                              0|                                            0.0|                                                   0|                                                     0|                                                   0|                                                 0.0|                                             0|                                               0|                                             0|                                           0.0|\n|9764a134-9793-437...|    1000113|      Henagar|       Alabama|                                           0|                                             0|                                           0|                                         0.0|                                           0|                                             0|                                           0|                                         0.0|                                              0|                                                0|                                              0|                                            0.0|                                                   0|                                                     0|                                                   0|                                                 0.0|                                             0|                                               0|                                             0|                                           0.0|\n|141649d9-d661-430...|    1000113|      Henagar|       Alabama|                                           0|                                             0|                                           0|                                         0.0|                                           6|                                             1|                                           6|                                         6.0|                                              6|                                                1|                                              6|                                            6.0|                                                   6|                                                     1|                                                   6|                                                 6.0|                                             6|                                               1|                                             6|                                           6.0|\n|49a2e33b-706c-46c...|    1000113|      Henagar|       Alabama|                                           0|                                             0|                                           0|                                         0.0|                                           0|                                             0|                                           0|                                         0.0|                                              0|                                                0|                                              0|                                            0.0|                                                   0|                                                     0|                                                   0|                                                 0.0|                                             0|                                               0|                                             0|                                           0.0|\n|32da9c21-ad11-42c...|    1000113|      Henagar|       Alabama|                                           0|                                             0|                                           0|                                         0.0|                                           0|                                             0|                                           0|                                         0.0|                                              0|                                                0|                                              0|                                            0.0|                                                   0|                                                     0|                                                   0|                                                 0.0|                                             0|                                               0|                                             0|                                           0.0|\n|12ae5674-aad1-49c...|    1000113|      Henagar|       Alabama|                                           0|                                             0|                                           0|                                         0.0|                                           0|                                             0|                                           0|                                         0.0|                                              0|                                                0|                                              0|                                            0.0|                                                  27|                                                     2|                                                  21|                                                13.5|                                            27|                                               2|                                            21|                                          13.5|\n|9fd21a2b-18a6-46f...|    1000113|      Henagar|       Alabama|                                           0|                                             0|                                           0|                                         0.0|                                           0|                                             0|                                           0|                                         0.0|                                              0|                                                0|                                              0|                                            0.0|                                                   0|                                                     0|                                                   0|                                                 0.0|                                             0|                                               0|                                             0|                                           0.0|\n|170d76f2-41c1-441...|    1000113|      Henagar|       Alabama|                                           0|                                             0|                                           0|                                         0.0|                                           0|                                             0|                                           0|                                         0.0|                                              0|                                                0|                                              0|                                            0.0|                                                   0|                                                     0|                                                   0|                                                 0.0|                                          2516|                                               1|                                          2516|                                        2516.0|\n|e0e2f964-3b0d-4d4...|    1000113|      Henagar|       Alabama|                                           0|                                             0|                                           0|                                         0.0|                                           0|                                             0|                                           0|                                         0.0|                                              0|                                                0|                                              0|                                            0.0|                                                   0|                                                     0|                                                   0|                                                 0.0|                                             0|                                               0|                                             0|                                           0.0|\n|07a38c41-37d4-463...|    1000113|      Henagar|       Alabama|                                           0|                                             0|                                           0|                                         0.0|                                           0|                                             0|                                           0|                                         0.0|                                              0|                                                0|                                              0|                                            0.0|                                                   0|                                                     0|                                                   0|                                                 0.0|                                             0|                                               0|                                             0|                                           0.0|\n|f35cf7d7-4607-40f...|    1000113|      Henagar|       Alabama|                                           0|                                             0|                                           0|                                         0.0|                                           0|                                             0|                                           0|                                         0.0|                                              0|                                                0|                                              0|                                            0.0|                                                   0|                                                     0|                                                   0|                                                 0.0|                                             0|                                               0|                                             0|                                           0.0|\n|2608cf70-a8c0-4d5...|    1001320|       Dacoma|      Oklahoma|                                           0|                                             0|                                           0|                                         0.0|                                           0|                                             0|                                           0|                                         0.0|                                              0|                                                0|                                              0|                                            0.0|                                                   0|                                                     0|                                                   0|                                                 0.0|                                             0|                                               0|                                             0|                                           0.0|\n|26c46b37-c0ad-425...|    1000376|     Sun City|        Kansas|                                           0|                                             0|                                           0|                                         0.0|                                           0|                                             0|                                           0|                                         0.0|                                              0|                                                0|                                              0|                                            0.0|                                                   0|                                                     0|                                                   0|                                                 0.0|                                             0|                                               0|                                             0|                                           0.0|\n+--------------------+-----------+-------------+--------------+--------------------------------------------+----------------------------------------------+--------------------------------------------+--------------------------------------------+--------------------------------------------+----------------------------------------------+--------------------------------------------+--------------------------------------------+-----------------------------------------------+-------------------------------------------------+-----------------------------------------------+-----------------------------------------------+----------------------------------------------------+------------------------------------------------------+----------------------------------------------------+----------------------------------------------------+----------------------------------------------+------------------------------------------------+----------------------------------------------+----------------------------------------------+\nonly showing top 20 rows\n\n",
          "name": "block.stdout:RandomProcess3_1",
          "pathname": null,
          "process": null,
          "processName": null,
          "thread": null,
          "threadName": null
         },
         {
          "asctime": "2021-03-23 04:34:09,248",
          "created": 1616474049.2486854,
          "extra": {},
          "filename": "async_executors.py",
          "funcName": "main",
          "levelname": "DEBUG",
          "lineno": 147,
          "message": "RandomProcess3_1: block thread completed",
          "name": "engine.logs:RandomProcess3_1",
          "pathname": "/usr/local/lib/python3.7/dist-packages/razor/flow/async_executors.py",
          "process": 1676,
          "processName": "ForkProcess-1:2",
          "thread": 140061051098944,
          "threadName": "MainThread"
         },
         {
          "asctime": "2021-03-23 04:34:09,248",
          "created": 1616474049.2488616,
          "extra": {},
          "filename": "async_executors.py",
          "funcName": "main",
          "levelname": "DEBUG",
          "lineno": 149,
          "message": "RandomProcess3_1: block execution complete",
          "name": "engine.logs:RandomProcess3_1",
          "pathname": "/usr/local/lib/python3.7/dist-packages/razor/flow/async_executors.py",
          "process": 1676,
          "processName": "ForkProcess-1:2",
          "thread": 140061051098944,
          "threadName": "MainThread"
         },
         {
          "asctime": "2021-03-23 04:34:09,256",
          "created": 1616474049.2560916,
          "extra": {},
          "filename": "async_executors.py",
          "funcName": "start_input_receiver",
          "levelname": "DEBUG",
          "lineno": 173,
          "message": "RandomProcess3_1: received cmd: terminate, (), {}",
          "name": "engine.logs:RandomProcess3_1",
          "pathname": "/usr/local/lib/python3.7/dist-packages/razor/flow/async_executors.py",
          "process": 1676,
          "processName": "ForkProcess-1:2",
          "thread": 140061051098944,
          "threadName": "MainThread"
         }
        ],
        "meta": {
         "block_status": {
          "DropDuplicates_1": "SUCCESS",
          "NonSparkPath_1": "SUCCESS",
          "RandomProcess1_1": "SUCCESS",
          "RandomProcess2_1": "SUCCESS",
          "RandomProcess3_1": "SUCCESS",
          "ReadCsvProjectSpace_1": "SUCCESS"
         },
         "blocks": [
          {
           "class_name": "NonSparkPath",
           "fullname": ".NonSparkPath",
           "id": "4d0e658c-114e-42ed-8083-b7ee40859784",
           "inputs": [
            {
             "dataType": "string",
             "default": "",
             "flow": "atomic",
             "help": null,
             "isdict": false,
             "islist": false,
             "label": "ip_path",
             "meta": {},
             "name": "ip_path",
             "series": false,
             "type": "str",
             "type_check": true
            }
           ],
           "outputs": [
            {
             "flow": "atomic",
             "help": null,
             "label": "op_path",
             "meta": {},
             "name": "op_path",
             "series": false,
             "type": "str",
             "type_check": true
            }
           ],
           "overwritten": false,
           "published": false,
           "var_names": [
            "NonSparkPath"
           ]
          },
          {
           "class_name": "ReadCsvProjectSpace",
           "fullname": ".ReadCsvProjectSpace",
           "id": "2cb3a885-7672-4590-bc9c-ca9fa654a037",
           "inputs": [
            {
             "dataType": "string",
             "default": "",
             "flow": "atomic",
             "help": null,
             "isdict": false,
             "islist": false,
             "label": "filename",
             "meta": {},
             "name": "filename",
             "series": false,
             "type": "str",
             "type_check": true
            },
            {
             "dataType": "dict",
             "default": {},
             "flow": "atomic",
             "help": null,
             "isdict": false,
             "islist": false,
             "label": "config",
             "meta": {},
             "name": "config",
             "series": false,
             "type": "dict",
             "type_check": true
            },
            {
             "dataType": "string",
             "default": "",
             "flow": "atomic",
             "help": null,
             "isdict": false,
             "islist": false,
             "label": "source",
             "meta": {},
             "name": "source",
             "series": false,
             "type": "str",
             "type_check": true
            }
           ],
           "outputs": [
            {
             "flow": "atomic",
             "help": null,
             "label": "data",
             "meta": {},
             "name": "data",
             "series": false,
             "type": "DataFrame",
             "type_check": true
            }
           ],
           "overwritten": false,
           "published": false,
           "var_names": [
            "ReadCsvProjectSpace"
           ]
          },
          {
           "class_name": "RandomProcess2",
           "fullname": ".RandomProcess2",
           "id": "ccc90321-2345-4985-90fb-c9ff6f81b1f5",
           "inputs": [
            {
             "dataType": null,
             "default": null,
             "flow": "atomic",
             "help": null,
             "isdict": false,
             "islist": false,
             "label": "ip_data",
             "meta": {},
             "name": "ip_data",
             "series": false,
             "type": "DataFrame",
             "type_check": true
            },
            {
             "dataType": "dict",
             "default": {},
             "flow": "atomic",
             "help": null,
             "isdict": false,
             "islist": false,
             "label": "config",
             "meta": {},
             "name": "config",
             "series": false,
             "type": "dict",
             "type_check": true
            },
            {
             "dataType": "string",
             "default": "",
             "flow": "atomic",
             "help": null,
             "isdict": false,
             "islist": false,
             "label": "source",
             "meta": {},
             "name": "source",
             "series": false,
             "type": "str",
             "type_check": true
            }
           ],
           "outputs": [
            {
             "flow": "atomic",
             "help": null,
             "label": "op_data",
             "meta": {},
             "name": "op_data",
             "series": false,
             "type": "DataFrame",
             "type_check": true
            }
           ],
           "overwritten": false,
           "published": false,
           "var_names": [
            "RandomProcess2"
           ]
          },
          {
           "class_name": "RandomProcess3",
           "fullname": ".RandomProcess3",
           "id": "8ff1b5b3-7fd6-4ba7-8775-af6fa96fa7c1",
           "inputs": [
            {
             "dataType": null,
             "default": null,
             "flow": "atomic",
             "help": null,
             "isdict": false,
             "islist": false,
             "label": "ip_data",
             "meta": {},
             "name": "ip_data",
             "series": false,
             "type": "DataFrame",
             "type_check": true
            },
            {
             "dataType": "dict",
             "default": {},
             "flow": "atomic",
             "help": null,
             "isdict": false,
             "islist": false,
             "label": "config",
             "meta": {},
             "name": "config",
             "series": false,
             "type": "dict",
             "type_check": true
            },
            {
             "dataType": "string",
             "default": "",
             "flow": "atomic",
             "help": null,
             "isdict": false,
             "islist": false,
             "label": "source",
             "meta": {},
             "name": "source",
             "series": false,
             "type": "str",
             "type_check": true
            }
           ],
           "outputs": [
            {
             "flow": "atomic",
             "help": null,
             "label": "op_data1",
             "meta": {},
             "name": "op_data1",
             "series": false,
             "type": "DataFrame",
             "type_check": true
            },
            {
             "flow": "atomic",
             "help": null,
             "label": "op_data2",
             "meta": {},
             "name": "op_data2",
             "series": false,
             "type": "DataFrame",
             "type_check": true
            }
           ],
           "overwritten": false,
           "published": false,
           "var_names": [
            "RandomProcess3"
           ]
          },
          {
           "class_name": "DropDuplicates",
           "fullname": ".DropDuplicates",
           "id": "05be49e1-2217-4e33-a6ff-54aaf03796c4",
           "inputs": [
            {
             "dataType": null,
             "default": null,
             "flow": "atomic",
             "help": null,
             "isdict": false,
             "islist": false,
             "label": "ip_data",
             "meta": {},
             "name": "ip_data",
             "series": false,
             "type": "DataFrame",
             "type_check": true
            },
            {
             "dataType": "dict",
             "default": {},
             "flow": "atomic",
             "help": null,
             "isdict": false,
             "islist": false,
             "label": "config",
             "meta": {},
             "name": "config",
             "series": false,
             "type": "dict",
             "type_check": true
            },
            {
             "dataType": "string",
             "default": "",
             "flow": "atomic",
             "help": null,
             "isdict": false,
             "islist": false,
             "label": "source",
             "meta": {},
             "name": "source",
             "series": false,
             "type": "str",
             "type_check": true
            }
           ],
           "outputs": [
            {
             "flow": "atomic",
             "help": null,
             "label": "op_data",
             "meta": {},
             "name": "op_data",
             "series": false,
             "type": "DataFrame",
             "type_check": true
            }
           ],
           "overwritten": false,
           "published": false,
           "var_names": [
            "DropDuplicates"
           ]
          },
          {
           "class_name": "RandomProcess1",
           "fullname": ".RandomProcess1",
           "id": "c3a0cbf6-d8e0-4ff0-b1af-dfc397b93fa8",
           "inputs": [
            {
             "dataType": null,
             "default": null,
             "flow": "atomic",
             "help": null,
             "isdict": false,
             "islist": false,
             "label": "ip_data",
             "meta": {},
             "name": "ip_data",
             "series": false,
             "type": "DataFrame",
             "type_check": true
            },
            {
             "dataType": "dict",
             "default": {},
             "flow": "atomic",
             "help": null,
             "isdict": false,
             "islist": false,
             "label": "config",
             "meta": {},
             "name": "config",
             "series": false,
             "type": "dict",
             "type_check": true
            },
            {
             "dataType": "string",
             "default": "",
             "flow": "atomic",
             "help": null,
             "isdict": false,
             "islist": false,
             "label": "source",
             "meta": {},
             "name": "source",
             "series": false,
             "type": "str",
             "type_check": true
            }
           ],
           "outputs": [
            {
             "flow": "atomic",
             "help": null,
             "label": "op_data",
             "meta": {},
             "name": "op_data",
             "series": false,
             "type": "DataFrame",
             "type_check": true
            }
           ],
           "overwritten": false,
           "published": false,
           "var_names": [
            "RandomProcess1"
           ]
          }
         ],
         "connections": [
          {
           "id": "1d5919ca-d212-4d2e-9588-bd8f7def9981",
           "source": {
            "adapter": false,
            "instance_id": "8fd958d9-23b3-41f1-9112-ef95a0f8e2e2",
            "name": "data"
           },
           "target": {
            "adapter": false,
            "instance_id": "76331b4d-2854-4b4a-aa40-f3bd5dc8dcbf",
            "name": "ip_data"
           }
          },
          {
           "id": "1e8fdcf6-5c6e-4e78-a46a-1429c9e6307b",
           "source": {
            "adapter": false,
            "instance_id": "e05ed575-b8a2-4ef5-9b3e-8f93452fc469",
            "name": "op_path"
           },
           "target": {
            "adapter": false,
            "instance_id": "8fd958d9-23b3-41f1-9112-ef95a0f8e2e2",
            "name": "filename"
           }
          },
          {
           "id": "a3b1ff9f-c67e-4a3b-b096-8cc15fa7f125",
           "source": {
            "adapter": false,
            "instance_id": "8fd958d9-23b3-41f1-9112-ef95a0f8e2e2",
            "name": "data"
           },
           "target": {
            "adapter": false,
            "instance_id": "95cc1270-45a8-4219-bb6a-c8b9f0e6b046",
            "name": "ip_data"
           }
          },
          {
           "id": "cbd771d0-eb7e-4ba9-a904-c9d237544c47",
           "source": {
            "adapter": false,
            "instance_id": "76331b4d-2854-4b4a-aa40-f3bd5dc8dcbf",
            "name": "op_data"
           },
           "target": {
            "adapter": false,
            "instance_id": "c76377f1-2396-449c-b50e-9196e3ea865e",
            "name": "ip_data"
           }
          },
          {
           "id": "d3f27db4-6696-4198-83a1-7a881fa18a4a",
           "source": {
            "adapter": false,
            "instance_id": "8fd958d9-23b3-41f1-9112-ef95a0f8e2e2",
            "name": "data"
           },
           "target": {
            "adapter": false,
            "instance_id": "bdd67c70-46ef-4e86-ab0b-93b7cfaf7973",
            "name": "ip_data"
           }
          }
         ],
         "end": 1616474049.2608733,
         "id": "86fc958e-7e66-4737-a89c-1bc65ba38f8d",
         "instances": [
          {
           "block_class": "8ff1b5b3-7fd6-4ba7-8775-af6fa96fa7c1",
           "id": "95cc1270-45a8-4219-bb6a-c8b9f0e6b046",
           "name": "RandomProcess3_1",
           "var_names": [
            "rp3"
           ]
          },
          {
           "block_class": "2cb3a885-7672-4590-bc9c-ca9fa654a037",
           "id": "8fd958d9-23b3-41f1-9112-ef95a0f8e2e2",
           "name": "ReadCsvProjectSpace_1",
           "var_names": [
            "rcp"
           ]
          },
          {
           "block_class": "4d0e658c-114e-42ed-8083-b7ee40859784",
           "id": "e05ed575-b8a2-4ef5-9b3e-8f93452fc469",
           "name": "NonSparkPath_1",
           "var_names": [
            "nsp"
           ]
          },
          {
           "block_class": "ccc90321-2345-4985-90fb-c9ff6f81b1f5",
           "id": "bdd67c70-46ef-4e86-ab0b-93b7cfaf7973",
           "name": "RandomProcess2_1",
           "var_names": [
            "rp2"
           ]
          },
          {
           "block_class": "05be49e1-2217-4e33-a6ff-54aaf03796c4",
           "id": "c76377f1-2396-449c-b50e-9196e3ea865e",
           "name": "DropDuplicates_1",
           "var_names": [
            "drp"
           ]
          },
          {
           "block_class": "c3a0cbf6-d8e0-4ff0-b1af-dfc397b93fa8",
           "id": "76331b4d-2854-4b4a-aa40-f3bd5dc8dcbf",
           "name": "RandomProcess1_1",
           "var_names": [
            "rp1"
           ]
          }
         ],
         "log_level": 20,
         "name": "temp",
         "start": 1616473990.6619577,
         "status": "SUCCESS",
         "system_logs": false,
         "var_names": []
        },
        "metrics": {},
        "runtime": {
         "DropDuplicates_1": {
          "end": 1616474017.9633613,
          "load": 1616473990.8922613,
          "start": 1616473990.9163485
         },
         "NonSparkPath_1": {
          "end": 1616473991.0236838,
          "load": 1616473990.6639707,
          "start": 1616473990.6711416
         },
         "RandomProcess1_1": {
          "end": 1616474017.849177,
          "load": 1616473990.8922613,
          "start": 1616473990.9163485
         },
         "RandomProcess2_1": {
          "end": 1616474033.763362,
          "load": 1616473990.8922613,
          "start": 1616473990.9163485
         },
         "RandomProcess3_1": {
          "end": 1616474049.2534397,
          "load": 1616473990.8922613,
          "start": 1616473990.9163485
         },
         "ReadCsvProjectSpace_1": {
          "end": 1616474014.862388,
          "load": 1616473990.8922613,
          "start": 1616473990.9163485
         }
        }
       },
       "store_in_notebook": true
      }
     },
     "output_type": "display_data"
    },
    {
     "data": {
      "text/plain": [
       "{}"
      ]
     },
     "execution_count": 24,
     "metadata": {},
     "output_type": "execute_result"
    }
   ],
   "source": [
    "pipe.execute()"
   ]
  },
  {
   "cell_type": "code",
   "execution_count": 31,
   "id": "mysterious-automation",
   "metadata": {},
   "outputs": [
    {
     "ename": "AttributeError",
     "evalue": "'Pipeline' object has no attribute '_repr_meta_'",
     "output_type": "error",
     "traceback": [
      "\u001b[0;31m---------------------------------------------------------------------------\u001b[0m",
      "\u001b[0;31mAttributeError\u001b[0m                            Traceback (most recent call last)",
      "\u001b[0;32m<ipython-input-31-716ac1d04f06>\u001b[0m in \u001b[0;36m<module>\u001b[0;34m\u001b[0m\n\u001b[0;32m----> 1\u001b[0;31m \u001b[0mrazor\u001b[0m\u001b[0;34m.\u001b[0m\u001b[0mapi\u001b[0m\u001b[0;34m.\u001b[0m\u001b[0mpipelines\u001b[0m\u001b[0;34m.\u001b[0m\u001b[0msave\u001b[0m\u001b[0;34m(\u001b[0m\u001b[0mpipe\u001b[0m\u001b[0;34m)\u001b[0m\u001b[0;34m\u001b[0m\u001b[0;34m\u001b[0m\u001b[0m\n\u001b[0m",
      "\u001b[0;32m/usr/local/lib/python3.7/dist-packages/razor/api/core/pipeline_manager.py\u001b[0m in \u001b[0;36msave\u001b[0;34m(self, pipeline, pipeline_vars, resources, overwrite)\u001b[0m\n\u001b[1;32m     65\u001b[0m                                                  \u001b[0mpipeline_vars\u001b[0m\u001b[0;34m=\u001b[0m\u001b[0mpipeline_vars\u001b[0m\u001b[0;34m,\u001b[0m\u001b[0;34m\u001b[0m\u001b[0;34m\u001b[0m\u001b[0m\n\u001b[1;32m     66\u001b[0m                                                  \u001b[0mresources\u001b[0m\u001b[0;34m=\u001b[0m\u001b[0mresources\u001b[0m\u001b[0;34m,\u001b[0m\u001b[0;34m\u001b[0m\u001b[0;34m\u001b[0m\u001b[0m\n\u001b[0;32m---> 67\u001b[0;31m                                                  overwrite=overwrite)\n\u001b[0m",
      "\u001b[0;32m/usr/local/lib/python3.7/dist-packages/razor/api/impl/pipeline_manager_impl.py\u001b[0m in \u001b[0;36msave_pipeline\u001b[0;34m(pipeline, pipeline_vars, resources, overwrite)\u001b[0m\n\u001b[1;32m    137\u001b[0m                                                \u001b[0mproject_id\u001b[0m\u001b[0;34m=\u001b[0m\u001b[0mUserContext\u001b[0m\u001b[0;34m.\u001b[0m\u001b[0mproject_id\u001b[0m\u001b[0;34m,\u001b[0m\u001b[0;34m\u001b[0m\u001b[0;34m\u001b[0m\u001b[0m\n\u001b[1;32m    138\u001b[0m                                                \u001b[0mpipeline_vars\u001b[0m\u001b[0;34m=\u001b[0m\u001b[0mpipeline_vars\u001b[0m\u001b[0;34m,\u001b[0m\u001b[0;34m\u001b[0m\u001b[0;34m\u001b[0m\u001b[0m\n\u001b[0;32m--> 139\u001b[0;31m                                                resources=resources if resources else {})\n\u001b[0m\u001b[1;32m    140\u001b[0m \u001b[0;34m\u001b[0m\u001b[0m\n\u001b[1;32m    141\u001b[0m         \u001b[0;31m# Block validation\u001b[0m\u001b[0;34m\u001b[0m\u001b[0;34m\u001b[0m\u001b[0;34m\u001b[0m\u001b[0m\n",
      "\u001b[0;32m/usr/local/lib/python3.7/dist-packages/razor/api/utils/serializers.py\u001b[0m in \u001b[0;36mserialize_to_ide_pipeline\u001b[0;34m(pipeline, engine_id, project_id, pipeline_vars, resources)\u001b[0m\n\u001b[1;32m     19\u001b[0m                                     \u001b[0mproject_id\u001b[0m\u001b[0;34m=\u001b[0m\u001b[0mproject_id\u001b[0m\u001b[0;34m,\u001b[0m\u001b[0;34m\u001b[0m\u001b[0;34m\u001b[0m\u001b[0m\n\u001b[1;32m     20\u001b[0m                                     \u001b[0mpipeline_vars\u001b[0m\u001b[0;34m=\u001b[0m\u001b[0mpipeline_vars\u001b[0m\u001b[0;34m,\u001b[0m\u001b[0;34m\u001b[0m\u001b[0;34m\u001b[0m\u001b[0m\n\u001b[0;32m---> 21\u001b[0;31m                                     resources=resources)\n\u001b[0m\u001b[1;32m     22\u001b[0m \u001b[0;34m\u001b[0m\u001b[0m\n\u001b[1;32m     23\u001b[0m     \u001b[0;32mfor\u001b[0m \u001b[0mblock\u001b[0m \u001b[0;32min\u001b[0m \u001b[0mserialized\u001b[0m\u001b[0;34m[\u001b[0m\u001b[0;34m\"blocks\"\u001b[0m\u001b[0;34m]\u001b[0m\u001b[0;34m:\u001b[0m\u001b[0;34m\u001b[0m\u001b[0;34m\u001b[0m\u001b[0m\n",
      "\u001b[0;32m/usr/local/lib/python3.7/dist-packages/razor/flow/serializers.py\u001b[0m in \u001b[0;36mserialize_pipeline\u001b[0;34m(pipeline, engine_id, project_id, pipeline_vars, resources)\u001b[0m\n\u001b[1;32m    578\u001b[0m \u001b[0;34m\u001b[0m\u001b[0m\n\u001b[1;32m    579\u001b[0m     \u001b[0;31m# Http flag\u001b[0m\u001b[0;34m\u001b[0m\u001b[0;34m\u001b[0m\u001b[0;34m\u001b[0m\u001b[0m\n\u001b[0;32m--> 580\u001b[0;31m     \u001b[0mpipeline_meta\u001b[0m \u001b[0;34m=\u001b[0m \u001b[0mpipeline\u001b[0m\u001b[0;34m.\u001b[0m\u001b[0m_repr_meta_\u001b[0m\u001b[0;34m(\u001b[0m\u001b[0;34m)\u001b[0m\u001b[0;34m\u001b[0m\u001b[0;34m\u001b[0m\u001b[0m\n\u001b[0m\u001b[1;32m    581\u001b[0m     \u001b[0;32mfor\u001b[0m \u001b[0mkey\u001b[0m\u001b[0;34m,\u001b[0m \u001b[0mdetails\u001b[0m \u001b[0;32min\u001b[0m \u001b[0mpipeline_meta\u001b[0m\u001b[0;34m[\u001b[0m\u001b[0;34m\"services\"\u001b[0m\u001b[0;34m]\u001b[0m\u001b[0;34m.\u001b[0m\u001b[0mitems\u001b[0m\u001b[0;34m(\u001b[0m\u001b[0;34m)\u001b[0m\u001b[0;34m:\u001b[0m\u001b[0;34m\u001b[0m\u001b[0;34m\u001b[0m\u001b[0m\n\u001b[1;32m    582\u001b[0m         \u001b[0;32mfor\u001b[0m \u001b[0mservice_blk\u001b[0m \u001b[0;32min\u001b[0m \u001b[0mservice_blocks\u001b[0m\u001b[0;34m:\u001b[0m\u001b[0;34m\u001b[0m\u001b[0;34m\u001b[0m\u001b[0m\n",
      "\u001b[0;31mAttributeError\u001b[0m: 'Pipeline' object has no attribute '_repr_meta_'"
     ]
    }
   ],
   "source": [
    "razor.api.pipelines.save(pipe)"
   ]
  },
  {
   "cell_type": "code",
   "execution_count": null,
   "id": "taken-exhibit",
   "metadata": {},
   "outputs": [],
   "source": []
  }
 ],
 "metadata": {
  "kernelspec": {
   "display_name": "Python 3",
   "language": "python",
   "name": "python3"
  },
  "language_info": {
   "codemirror_mode": {
    "name": "ipython",
    "version": 3
   },
   "file_extension": ".py",
   "mimetype": "text/x-python",
   "name": "python",
   "nbconvert_exporter": "python",
   "pygments_lexer": "ipython3",
   "version": "3.7.10"
  }
 },
 "nbformat": 4,
 "nbformat_minor": 5
}
