{
 "cells": [
  {
   "cell_type": "code",
   "execution_count": 1,
   "id": "rough-netherlands",
   "metadata": {},
   "outputs": [],
   "source": [
    "import razor\n",
    "import razor.flow as rf\n",
    "from razor import api\n",
    "from razor.flow.spark import SparkBlock, SparkExecutor\n"
   ]
  },
  {
   "cell_type": "code",
   "execution_count": 2,
   "id": "latter-twist",
   "metadata": {},
   "outputs": [],
   "source": [
    "import os\n",
    "from datetime import datetime, timedelta\n",
    "from pyspark.sql import SparkSession, functions\n",
    "from pyspark.sql.dataframe import DataFrame\n",
    "from datetime import datetime, timedelta\n",
    "from dateutil.relativedelta import relativedelta"
   ]
  },
  {
   "cell_type": "code",
   "execution_count": 3,
   "id": "satisfied-chile",
   "metadata": {},
   "outputs": [],
   "source": [
    "def project_space_path(path):\n",
    "    ps = api.datasources('Project Space')\n",
    "    return os.path.join(ps.abspath(), path)\n"
   ]
  },
  {
   "cell_type": "code",
   "execution_count": 4,
   "id": "disturbed-xerox",
   "metadata": {},
   "outputs": [],
   "source": [
    "from pyspark.sql.functions import pandas_udf, PandasUDFType,collect_set\n",
    "\n",
    "def get_customer_static_info(input_df):\n",
    "    customer_static = input_df.select([\"customer_name\", \"card_number\", \"card_type\"])\n",
    "    return customer_static\n"
   ]
  },
  {
   "cell_type": "code",
   "execution_count": null,
   "id": "taken-biology",
   "metadata": {},
   "outputs": [],
   "source": []
  },
  {
   "cell_type": "code",
   "execution_count": 5,
   "id": "neutral-requirement",
   "metadata": {},
   "outputs": [],
   "source": [
    "@rf.block\n",
    "class NonSparkPath:\n",
    "    \n",
    "#     __publish__ = True\n",
    "#     __label__ = \"Spark read csv block\"\n",
    "#     __description__ = \"Read a csv file from project space and output as a spark dataframe\"\n",
    "#     __tags__ = [\"spark\", \"filter\", \"big data\",\"csv\",\"projectspace\"]\n",
    "#     __category__ = \"Spark\"\n",
    "#     __technology__ = razor.Technology.SPARK\n",
    "    \n",
    "    # Atomic input - csv filename relative to project space\n",
    "    ip_path: str\n",
    "    # Atomic output of type spark DataFrame.\n",
    "    op_path: rf.Output[str]\n",
    "    \n",
    "    def run(self):\n",
    "        self.op_path.put(project_space_path(self.ip_path))\n",
    "        "
   ]
  },
  {
   "cell_type": "code",
   "execution_count": 6,
   "id": "available-psychology",
   "metadata": {},
   "outputs": [],
   "source": [
    "nsp = NonSparkPath(ip_path='customer_data.csv')"
   ]
  },
  {
   "cell_type": "code",
   "execution_count": 7,
   "id": "affecting-relaxation",
   "metadata": {},
   "outputs": [
    {
     "data": {
      "text/plain": [
       "{'op_path': '/home/aios/projectspace/customer_data.csv'}"
      ]
     },
     "execution_count": 7,
     "metadata": {},
     "output_type": "execute_result"
    }
   ],
   "source": [
    "nsp.execute()"
   ]
  },
  {
   "cell_type": "code",
   "execution_count": 8,
   "id": "continent-audit",
   "metadata": {},
   "outputs": [],
   "source": [
    "@rf.block\n",
    "class ReadCsvProjectSpace(SparkBlock):\n",
    "    \n",
    "#     __publish__ = True\n",
    "#     __label__ = \"Spark read csv block\"\n",
    "#     __description__ = \"Read a csv file from project space and output as a spark dataframe\"\n",
    "#     __tags__ = [\"spark\", \"filter\", \"big data\",\"csv\",\"projectspace\"]\n",
    "#     __category__ = \"Spark\"\n",
    "#     __technology__ = razor.Technology.SPARK\n",
    "    \n",
    "    # Atomic input - csv filename relative to project space\n",
    "    filename:str\n",
    "    # Atomic output of type spark DataFrame.\n",
    "    data: rf.Output[DataFrame]\n",
    "    \n",
    "    def run(self):\n",
    "        df = self.spark.read.csv(self.filename, header = True)\n",
    "        print(\"Hello\")\n",
    "        df.printSchema()\n",
    "        self.data.put(df)\n",
    "        "
   ]
  },
  {
   "cell_type": "code",
   "execution_count": 9,
   "id": "stuck-anthony",
   "metadata": {},
   "outputs": [],
   "source": [
    "rcp = ReadCsvProjectSpace(filename = nsp.op_path, config={}, source=\"\")\n",
    "rcp.executor = SparkExecutor"
   ]
  },
  {
   "cell_type": "code",
   "execution_count": 10,
   "id": "intelligent-ready",
   "metadata": {},
   "outputs": [],
   "source": [
    "rcp.execute()"
   ]
  },
  {
   "cell_type": "code",
   "execution_count": 19,
   "id": "artificial-newsletter",
   "metadata": {},
   "outputs": [],
   "source": [
    "@rf.block\n",
    "class RandomProcess1(SparkBlock):\n",
    "    \n",
    "#     __publish__ = True\n",
    "#     __label__ = \"Spark read csv block\"\n",
    "#     __description__ = \"Read a csv file from project space and output as a spark dataframe\"\n",
    "#     __tags__ = [\"spark\", \"filter\", \"big data\",\"csv\",\"projectspace\"]\n",
    "#     __category__ = \"Spark\"\n",
    "#     __technology__ = razor.Technology.SPARK\n",
    "    \n",
    "    # Atomic input - csv filename relative to project space\n",
    "    ip_data: DataFrame\n",
    "    # Atomic output of type spark DataFrame.\n",
    "    op_data: rf.Output[DataFrame]\n",
    "    \n",
    "    def run(self):\n",
    "        customer_static = get_customer_static_info(self.ip_data)\n",
    "        customer_static.show()\n",
    "        self.op_data.put(customer_static)\n",
    "        \n",
    "        "
   ]
  },
  {
   "cell_type": "code",
   "execution_count": 20,
   "id": "simple-competition",
   "metadata": {},
   "outputs": [],
   "source": [
    "rp1 = RandomProcess1(ip_data = rcp.data, config={}, source=\"\")\n",
    "rp1.executor = SparkExecutor"
   ]
  },
  {
   "cell_type": "code",
   "execution_count": 21,
   "id": "boolean-ireland",
   "metadata": {},
   "outputs": [],
   "source": [
    "rp1.execute()"
   ]
  },
  {
   "cell_type": "code",
   "execution_count": 13,
   "id": "adverse-quarterly",
   "metadata": {},
   "outputs": [],
   "source": [
    "pipe = rf.Pipeline(targets = [rp1])"
   ]
  },
  {
   "cell_type": "code",
   "execution_count": 14,
   "id": "dedicated-pencil",
   "metadata": {},
   "outputs": [
    {
     "data": {
      "application/vnd.razorthink.interactive+pipeline+view+json": {
       "blocks": [
        {
         "class_name": "RandomProcess1",
         "fullname": ".RandomProcess1",
         "id": "9264d8f8-7360-4594-8f7f-6a710f69df08",
         "inputs": [
          {
           "dataType": null,
           "default": null,
           "flow": "atomic",
           "help": null,
           "isdict": false,
           "islist": false,
           "label": "ip_data",
           "meta": {},
           "name": "ip_data",
           "series": false,
           "type": "DataFrame",
           "type_check": true
          },
          {
           "dataType": "dict",
           "default": {},
           "flow": "atomic",
           "help": null,
           "isdict": false,
           "islist": false,
           "label": "config",
           "meta": {},
           "name": "config",
           "series": false,
           "type": "dict",
           "type_check": true
          },
          {
           "dataType": "string",
           "default": "",
           "flow": "atomic",
           "help": null,
           "isdict": false,
           "islist": false,
           "label": "source",
           "meta": {},
           "name": "source",
           "series": false,
           "type": "str",
           "type_check": true
          }
         ],
         "outputs": [
          {
           "flow": "atomic",
           "help": null,
           "label": "op_data",
           "meta": {},
           "name": "op_data",
           "series": false,
           "type": "DataFrame",
           "type_check": true
          }
         ],
         "overwritten": false,
         "published": false,
         "var_names": [
          "RandomProcess1"
         ]
        },
        {
         "class_name": "ReadCsvProjectSpace",
         "fullname": ".ReadCsvProjectSpace",
         "id": "b5b6271e-3e93-4642-8e6b-c3f20beb1aa2",
         "inputs": [
          {
           "dataType": "string",
           "default": "",
           "flow": "atomic",
           "help": null,
           "isdict": false,
           "islist": false,
           "label": "filename",
           "meta": {},
           "name": "filename",
           "series": false,
           "type": "str",
           "type_check": true
          },
          {
           "dataType": "dict",
           "default": {},
           "flow": "atomic",
           "help": null,
           "isdict": false,
           "islist": false,
           "label": "config",
           "meta": {},
           "name": "config",
           "series": false,
           "type": "dict",
           "type_check": true
          },
          {
           "dataType": "string",
           "default": "",
           "flow": "atomic",
           "help": null,
           "isdict": false,
           "islist": false,
           "label": "source",
           "meta": {},
           "name": "source",
           "series": false,
           "type": "str",
           "type_check": true
          }
         ],
         "outputs": [
          {
           "flow": "atomic",
           "help": null,
           "label": "data",
           "meta": {},
           "name": "data",
           "series": false,
           "type": "DataFrame",
           "type_check": true
          }
         ],
         "overwritten": false,
         "published": false,
         "var_names": [
          "ReadCsvProjectSpace"
         ]
        },
        {
         "class_name": "NonSparkPath",
         "fullname": ".NonSparkPath",
         "id": "79f26081-ea8f-44fe-b29c-6556dafdfcd9",
         "inputs": [
          {
           "dataType": "string",
           "default": "",
           "flow": "atomic",
           "help": null,
           "isdict": false,
           "islist": false,
           "label": "ip_path",
           "meta": {},
           "name": "ip_path",
           "series": false,
           "type": "str",
           "type_check": true
          }
         ],
         "outputs": [
          {
           "flow": "atomic",
           "help": null,
           "label": "op_path",
           "meta": {},
           "name": "op_path",
           "series": false,
           "type": "str",
           "type_check": true
          }
         ],
         "overwritten": false,
         "published": false,
         "var_names": [
          "NonSparkPath"
         ]
        }
       ],
       "connections": [
        {
         "id": "13211ee6-2cbe-42f2-9552-8af6239d5903",
         "source": {
          "adapter": false,
          "instance_id": "bbac0aa6-61d1-48a2-bca1-38af316dd8ef",
          "name": "op_path"
         },
         "target": {
          "adapter": false,
          "instance_id": "7e5f00c5-02d9-49fa-aaeb-f35771ca1a30",
          "name": "filename"
         }
        },
        {
         "id": "67610e4d-a6d5-4613-a967-f303940bed46",
         "source": {
          "adapter": false,
          "instance_id": "7e5f00c5-02d9-49fa-aaeb-f35771ca1a30",
          "name": "data"
         },
         "target": {
          "adapter": false,
          "instance_id": "48cdb1f5-e942-4dfe-a9fc-02db4ff5f30a",
          "name": "ip_data"
         }
        }
       ],
       "id": "23c8f6be-044e-4285-b2ce-a968b8cd6adc",
       "instances": [
        {
         "block_class": "9264d8f8-7360-4594-8f7f-6a710f69df08",
         "id": "48cdb1f5-e942-4dfe-a9fc-02db4ff5f30a",
         "name": "RandomProcess1_1",
         "var_names": [
          "rp1"
         ]
        },
        {
         "block_class": "b5b6271e-3e93-4642-8e6b-c3f20beb1aa2",
         "id": "7e5f00c5-02d9-49fa-aaeb-f35771ca1a30",
         "name": "ReadCsvProjectSpace_1",
         "var_names": [
          "rcp"
         ]
        },
        {
         "block_class": "79f26081-ea8f-44fe-b29c-6556dafdfcd9",
         "id": "bbac0aa6-61d1-48a2-bca1-38af316dd8ef",
         "name": "NonSparkPath_1",
         "var_names": [
          "nsp"
         ]
        }
       ],
       "name": "Pipeline_1",
       "var_names": []
      },
      "image/svg+xml": [
       "<?xml version=\"1.0\" encoding=\"UTF-8\" standalone=\"no\"?>\n",
       "<!DOCTYPE svg PUBLIC \"-//W3C//DTD SVG 1.1//EN\"\n",
       " \"http://www.w3.org/Graphics/SVG/1.1/DTD/svg11.dtd\">\n",
       "<!-- Generated by graphviz version 2.43.0 (0)\n",
       " -->\n",
       "<!-- Title: %3 Pages: 1 -->\n",
       "<svg width=\"306pt\" height=\"210pt\"\n",
       " viewBox=\"0.00 0.00 305.86 210.00\" xmlns=\"http://www.w3.org/2000/svg\" xmlns:xlink=\"http://www.w3.org/1999/xlink\">\n",
       "<g id=\"graph0\" class=\"graph\" transform=\"scale(1 1) rotate(0) translate(4 206)\">\n",
       "<title>%3</title>\n",
       "<polygon fill=\"white\" stroke=\"transparent\" points=\"-4,4 -4,-206 301.86,-206 301.86,4 -4,4\"/>\n",
       "<!-- RandomProcess1(&#39;RandomProcess1_1&#39;) -->\n",
       "<g id=\"node1\" class=\"node\">\n",
       "<title>RandomProcess1(&#39;RandomProcess1_1&#39;)</title>\n",
       "<ellipse fill=\"none\" stroke=\"black\" cx=\"148.93\" cy=\"-18\" rx=\"123.06\" ry=\"18\"/>\n",
       "<text text-anchor=\"middle\" x=\"148.93\" y=\"-15.5\" font-family=\"Helvetica,sans-Serif\" font-size=\"10.00\">RandomProcess1(&#39;RandomProcess1_1&#39;)</text>\n",
       "</g>\n",
       "<!-- ReadCsvProjectSpace(&#39;ReadCsvProjectSpace_1&#39;) -->\n",
       "<g id=\"node2\" class=\"node\">\n",
       "<title>ReadCsvProjectSpace(&#39;ReadCsvProjectSpace_1&#39;)</title>\n",
       "<ellipse fill=\"none\" stroke=\"black\" cx=\"148.93\" cy=\"-101\" rx=\"148.86\" ry=\"18\"/>\n",
       "<text text-anchor=\"middle\" x=\"148.93\" y=\"-98.5\" font-family=\"Helvetica,sans-Serif\" font-size=\"10.00\">ReadCsvProjectSpace(&#39;ReadCsvProjectSpace_1&#39;)</text>\n",
       "</g>\n",
       "<!-- ReadCsvProjectSpace(&#39;ReadCsvProjectSpace_1&#39;)&#45;&gt;RandomProcess1(&#39;RandomProcess1_1&#39;) -->\n",
       "<g id=\"edge1\" class=\"edge\">\n",
       "<title>ReadCsvProjectSpace(&#39;ReadCsvProjectSpace_1&#39;)&#45;&gt;RandomProcess1(&#39;RandomProcess1_1&#39;)</title>\n",
       "<path fill=\"none\" stroke=\"black\" d=\"M148.93,-82.82C148.93,-72.19 148.93,-58.31 148.93,-46.2\"/>\n",
       "<polygon fill=\"black\" stroke=\"black\" points=\"152.43,-46.15 148.93,-36.15 145.43,-46.15 152.43,-46.15\"/>\n",
       "<text text-anchor=\"middle\" x=\"183.93\" y=\"-57\" font-family=\"Helvetica,sans-Serif\" font-size=\"10.00\">data&#45;&gt;ip_data</text>\n",
       "</g>\n",
       "<!-- NonSparkPath(&#39;NonSparkPath_1&#39;) -->\n",
       "<g id=\"node3\" class=\"node\">\n",
       "<title>NonSparkPath(&#39;NonSparkPath_1&#39;)</title>\n",
       "<ellipse fill=\"none\" stroke=\"black\" cx=\"148.93\" cy=\"-184\" rx=\"104.56\" ry=\"18\"/>\n",
       "<text text-anchor=\"middle\" x=\"148.93\" y=\"-181.5\" font-family=\"Helvetica,sans-Serif\" font-size=\"10.00\">NonSparkPath(&#39;NonSparkPath_1&#39;)</text>\n",
       "</g>\n",
       "<!-- NonSparkPath(&#39;NonSparkPath_1&#39;)&#45;&gt;ReadCsvProjectSpace(&#39;ReadCsvProjectSpace_1&#39;) -->\n",
       "<g id=\"edge2\" class=\"edge\">\n",
       "<title>NonSparkPath(&#39;NonSparkPath_1&#39;)&#45;&gt;ReadCsvProjectSpace(&#39;ReadCsvProjectSpace_1&#39;)</title>\n",
       "<path fill=\"none\" stroke=\"black\" d=\"M148.93,-165.82C148.93,-155.19 148.93,-141.31 148.93,-129.2\"/>\n",
       "<polygon fill=\"black\" stroke=\"black\" points=\"152.43,-129.15 148.93,-119.15 145.43,-129.15 152.43,-129.15\"/>\n",
       "<text text-anchor=\"middle\" x=\"195.93\" y=\"-140\" font-family=\"Helvetica,sans-Serif\" font-size=\"10.00\">op_path&#45;&gt;filename</text>\n",
       "</g>\n",
       "</g>\n",
       "</svg>\n"
      ],
      "text/plain": [
       "<razor.flow.async_pipeline.Pipeline at 0x7f4edba33b50>"
      ]
     },
     "execution_count": 14,
     "metadata": {},
     "output_type": "execute_result"
    }
   ],
   "source": [
    "pipe"
   ]
  },
  {
   "cell_type": "code",
   "execution_count": 15,
   "id": "waiting-central",
   "metadata": {},
   "outputs": [
    {
     "name": "stdout",
     "output_type": "stream",
     "text": [
      "log path: /tmp/tmp7nkl3w27/Pipeline_1\n"
     ]
    },
    {
     "data": {
      "application/vnd.razorthink.run+monitor+json": "/tmp/tmp7nkl3w27/Pipeline_1",
      "text/plain": [
       "<razor_tools.backend.ipython.mime.run_monitor.RunMonitor at 0x7f4edb82c910>"
      ]
     },
     "metadata": {
      "application/vnd.razorthink.run+monitor+json": {
       "run_data": {
        "apm": [
         {
          "cpu_percent": 0,
          "cpu_time": 0,
          "name": "NonSparkPath_1",
          "real_mem": 154992640,
          "time": 1616414403.7935987
         },
         {
          "cpu_percent": 0,
          "cpu_time": 0.03,
          "name": "NonSparkPath_1",
          "real_mem": 155070464,
          "time": 1616414403.906386
         },
         {
          "cpu_percent": 0,
          "cpu_time": 0.04,
          "name": "NonSparkPath_1",
          "real_mem": 155660288,
          "time": 1616414404.018378
         },
         {
          "cpu_percent": 0,
          "cpu_time": 0,
          "name": "RandomProcess1_1",
          "real_mem": 155385856,
          "time": 1616414404.0000496
         },
         {
          "cpu_percent": 0,
          "cpu_time": 0.01,
          "name": "ReadCsvProjectSpace_1",
          "real_mem": 155414528,
          "time": 1616414404.0228813
         },
         {
          "cpu_percent": 196.2,
          "cpu_time": 0.13,
          "name": "ReadCsvProjectSpace_1",
          "real_mem": 186122240,
          "time": 1616414404.192418
         },
         {
          "cpu_percent": 0,
          "cpu_time": 0.09,
          "name": "RandomProcess1_1",
          "real_mem": 182702080,
          "time": 1616414404.1447256
         },
         {
          "cpu_percent": 191.9,
          "cpu_time": 0.24,
          "name": "RandomProcess1_1",
          "real_mem": 200122368,
          "time": 1616414404.2911441
         },
         {
          "cpu_percent": 98.3,
          "cpu_time": 0.29000000000000004,
          "name": "ReadCsvProjectSpace_1",
          "real_mem": 210018304,
          "time": 1616414404.359888
         },
         {
          "cpu_percent": 98.4,
          "cpu_time": 0.07,
          "name": "RandomProcess1_1",
          "real_mem": 156717056,
          "time": 1616414404.413551
         },
         {
          "cpu_percent": 97.3,
          "cpu_time": 0.1,
          "name": "ReadCsvProjectSpace_1",
          "real_mem": 175800320,
          "time": 1616414404.482507
         },
         {
          "cpu_percent": 98.3,
          "cpu_time": 0.16999999999999998,
          "name": "RandomProcess1_1",
          "real_mem": 180293632,
          "time": 1616414404.5363522
         },
         {
          "cpu_percent": 18.6,
          "cpu_time": 0.26,
          "name": "ReadCsvProjectSpace_1",
          "real_mem": 194822144,
          "time": 1616414404.6486251
         },
         {
          "cpu_percent": 98.4,
          "cpu_time": 0.30000000000000004,
          "name": "RandomProcess1_1",
          "real_mem": 202452992,
          "time": 1616414404.6705852
         },
         {
          "cpu_percent": 196.4,
          "cpu_time": 0.41000000000000003,
          "name": "ReadCsvProjectSpace_1",
          "real_mem": 212938752,
          "time": 1616414404.7716053
         },
         {
          "cpu_percent": 196.8,
          "cpu_time": 0.45,
          "name": "RandomProcess1_1",
          "real_mem": 215785472,
          "time": 1616414404.7933102
         },
         {
          "cpu_percent": 194.5,
          "cpu_time": 0.54,
          "name": "ReadCsvProjectSpace_1",
          "real_mem": 222429184,
          "time": 1616414404.9486337
         },
         {
          "cpu_percent": 295.2,
          "cpu_time": 0.6100000000000001,
          "name": "RandomProcess1_1",
          "real_mem": 225509376,
          "time": 1616414404.9710805
         },
         {
          "cpu_percent": 98.3,
          "cpu_time": 0.6599999999999999,
          "name": "ReadCsvProjectSpace_1",
          "real_mem": 233467904,
          "time": 1616414405.0716324
         },
         {
          "cpu_percent": 0,
          "cpu_time": 0.69,
          "name": "RandomProcess1_1",
          "real_mem": 237793280,
          "time": 1616414405.0937855
         },
         {
          "cpu_percent": 196.6,
          "cpu_time": 0.83,
          "name": "ReadCsvProjectSpace_1",
          "real_mem": 243204096,
          "time": 1616414405.1971126
         },
         {
          "cpu_percent": 98.3,
          "cpu_time": 0.87,
          "name": "RandomProcess1_1",
          "real_mem": 245137408,
          "time": 1616414405.2703588
         },
         {
          "cpu_percent": 0,
          "cpu_time": 0.94,
          "name": "ReadCsvProjectSpace_1",
          "real_mem": 251785216,
          "time": 1616414405.320337
         },
         {
          "cpu_percent": 98.1,
          "cpu_time": 1,
          "name": "RandomProcess1_1",
          "real_mem": 252755968,
          "time": 1616414405.393187
         },
         {
          "cpu_percent": 98.1,
          "cpu_time": 1.04,
          "name": "ReadCsvProjectSpace_1",
          "real_mem": 253206528,
          "time": 1616414405.4694023
         },
         {
          "cpu_percent": 23.6,
          "cpu_time": 1.11,
          "name": "RandomProcess1_1",
          "real_mem": 253919232,
          "time": 1616414405.5483403
         },
         {
          "cpu_percent": 98.4,
          "cpu_time": 1.1700000000000002,
          "name": "ReadCsvProjectSpace_1",
          "real_mem": 254889984,
          "time": 1616414405.5917609
         },
         {
          "cpu_percent": 295.8,
          "cpu_time": 1.27,
          "name": "RandomProcess1_1",
          "real_mem": 255471616,
          "time": 1616414405.670483
         },
         {
          "cpu_percent": 195.7,
          "cpu_time": 1.37,
          "name": "ReadCsvProjectSpace_1",
          "real_mem": 256495616,
          "time": 1616414405.7706144
         },
         {
          "cpu_percent": 196.4,
          "cpu_time": 1.4100000000000001,
          "name": "RandomProcess1_1",
          "real_mem": 256098304,
          "time": 1616414405.7929478
         },
         {
          "cpu_percent": 98.1,
          "cpu_time": 1.4500000000000002,
          "name": "ReadCsvProjectSpace_1",
          "real_mem": 269889536,
          "time": 1616414405.893035
         },
         {
          "cpu_percent": 98.3,
          "cpu_time": 1.5,
          "name": "RandomProcess1_1",
          "real_mem": 270336000,
          "time": 1616414405.915093
         },
         {
          "cpu_percent": 196.9,
          "cpu_time": 1.6,
          "name": "ReadCsvProjectSpace_1",
          "real_mem": 276688896,
          "time": 1616414406.0160615
         },
         {
          "cpu_percent": 195,
          "cpu_time": 1.6400000000000001,
          "name": "RandomProcess1_1",
          "real_mem": 277049344,
          "time": 1616414406.0696359
         },
         {
          "cpu_percent": 96.9,
          "cpu_time": 1.73,
          "name": "ReadCsvProjectSpace_1",
          "real_mem": 278249472,
          "time": 1616414406.170005
         },
         {
          "cpu_percent": 197,
          "cpu_time": 1.77,
          "name": "RandomProcess1_1",
          "real_mem": 278736896,
          "time": 1616414406.1919663
         },
         {
          "cpu_percent": 98.3,
          "cpu_time": 1.85,
          "name": "ReadCsvProjectSpace_1",
          "real_mem": 279830528,
          "time": 1616414406.2927241
         },
         {
          "cpu_percent": 97.1,
          "cpu_time": 1.87,
          "name": "RandomProcess1_1",
          "real_mem": 280104960,
          "time": 1616414406.3147838
         },
         {
          "cpu_percent": 196.3,
          "cpu_time": 2,
          "name": "ReadCsvProjectSpace_1",
          "real_mem": 281145344,
          "time": 1616414406.4593034
         },
         {
          "cpu_percent": 98.5,
          "cpu_time": 2.04,
          "name": "RandomProcess1_1",
          "real_mem": 282013696,
          "time": 1616414406.481466
         },
         {
          "cpu_percent": 98.4,
          "cpu_time": 2.1599999999999997,
          "name": "RandomProcess1_1",
          "real_mem": 283406336,
          "time": 1616414406.6041937
         },
         {
          "cpu_percent": 195.5,
          "cpu_time": 2.12,
          "name": "ReadCsvProjectSpace_1",
          "real_mem": 282845184,
          "time": 1616414406.5823178
         },
         {
          "cpu_percent": 97.7,
          "cpu_time": 2.24,
          "name": "ReadCsvProjectSpace_1",
          "real_mem": 284610560,
          "time": 1616414406.7054448
         },
         {
          "cpu_percent": 97.7,
          "cpu_time": 2.2600000000000002,
          "name": "RandomProcess1_1",
          "real_mem": 284876800,
          "time": 1616414406.7273223
         },
         {
          "cpu_percent": 33.1,
          "cpu_time": 2.36,
          "name": "ReadCsvProjectSpace_1",
          "real_mem": 286019584,
          "time": 1616414406.8486185
         },
         {
          "cpu_percent": 196.8,
          "cpu_time": 2.4,
          "name": "RandomProcess1_1",
          "real_mem": 286367744,
          "time": 1616414406.870638
         },
         {
          "cpu_percent": 98.3,
          "cpu_time": 2.48,
          "name": "ReadCsvProjectSpace_1",
          "real_mem": 288440320,
          "time": 1616414406.971358
         },
         {
          "cpu_percent": 98.4,
          "cpu_time": 2.51,
          "name": "RandomProcess1_1",
          "real_mem": 288706560,
          "time": 1616414406.9932766
         },
         {
          "cpu_percent": 0,
          "cpu_time": 2.64,
          "name": "RandomProcess1_1",
          "real_mem": 289832960,
          "time": 1616414407.1158795
         },
         {
          "cpu_percent": 98.4,
          "cpu_time": 2.63,
          "name": "ReadCsvProjectSpace_1",
          "real_mem": 289832960,
          "time": 1616414407.0938628
         },
         {
          "cpu_percent": 98.3,
          "cpu_time": 2.7600000000000002,
          "name": "ReadCsvProjectSpace_1",
          "real_mem": 290529280,
          "time": 1616414407.2695875
         },
         {
          "cpu_percent": 0,
          "cpu_time": 2.7800000000000002,
          "name": "RandomProcess1_1",
          "real_mem": 291835904,
          "time": 1616414407.2921627
         },
         {
          "cpu_percent": 196,
          "cpu_time": 2.92,
          "name": "ReadCsvProjectSpace_1",
          "real_mem": 293015552,
          "time": 1616414407.3923154
         },
         {
          "cpu_percent": 194,
          "cpu_time": 2.97,
          "name": "RandomProcess1_1",
          "real_mem": 293376000,
          "time": 1616414407.4700968
         },
         {
          "cpu_percent": 98.3,
          "cpu_time": 3.02,
          "name": "ReadCsvProjectSpace_1",
          "real_mem": 294137856,
          "time": 1616414407.5151432
         },
         {
          "cpu_percent": 98.2,
          "cpu_time": 3.11,
          "name": "RandomProcess1_1",
          "real_mem": 294641664,
          "time": 1616414407.5931182
         },
         {
          "cpu_percent": 98.3,
          "cpu_time": 3.14,
          "name": "ReadCsvProjectSpace_1",
          "real_mem": 295014400,
          "time": 1616414407.6703908
         },
         {
          "cpu_percent": 0,
          "cpu_time": 3.1999999999999997,
          "name": "RandomProcess1_1",
          "real_mem": 295534592,
          "time": 1616414407.71634
         },
         {
          "cpu_percent": 97.9,
          "cpu_time": 3.3000000000000003,
          "name": "ReadCsvProjectSpace_1",
          "real_mem": 296108032,
          "time": 1616414407.7930999
         },
         {
          "cpu_percent": 196.3,
          "cpu_time": 3.36,
          "name": "RandomProcess1_1",
          "real_mem": 296108032,
          "time": 1616414407.8702626
         },
         {
          "cpu_percent": 196.4,
          "cpu_time": 3.4499999999999997,
          "name": "ReadCsvProjectSpace_1",
          "real_mem": 296562688,
          "time": 1616414407.96922
         },
         {
          "cpu_percent": 0,
          "cpu_time": 3.4899999999999998,
          "name": "RandomProcess1_1",
          "real_mem": 296656896,
          "time": 1616414407.9927938
         },
         {
          "cpu_percent": 15.1,
          "cpu_time": 3.59,
          "name": "ReadCsvProjectSpace_1",
          "real_mem": 298176512,
          "time": 1616414408.148379
         },
         {
          "cpu_percent": 0,
          "cpu_time": 3.62,
          "name": "RandomProcess1_1",
          "real_mem": 297603072,
          "time": 1616414408.1707408
         },
         {
          "cpu_percent": 196.2,
          "cpu_time": 3.72,
          "name": "ReadCsvProjectSpace_1",
          "real_mem": 300118016,
          "time": 1616414408.2715514
         },
         {
          "cpu_percent": 0,
          "cpu_time": 3.87,
          "name": "RandomProcess1_1",
          "real_mem": 301633536,
          "time": 1616414408.445117
         },
         {
          "cpu_percent": 97.8,
          "cpu_time": 3.9899999999999998,
          "name": "ReadCsvProjectSpace_1",
          "real_mem": 302895104,
          "time": 1616414408.5591316
         },
         {
          "cpu_percent": 196.2,
          "cpu_time": 4.19,
          "name": "RandomProcess1_1",
          "real_mem": 306622464,
          "time": 1616414408.7592454
         },
         {
          "cpu_percent": 196.3,
          "cpu_time": 4.3,
          "name": "ReadCsvProjectSpace_1",
          "real_mem": 307961856,
          "time": 1616414408.8693545
         },
         {
          "cpu_percent": 0,
          "cpu_time": 4.45,
          "name": "RandomProcess1_1",
          "real_mem": 307269632,
          "time": 1616414409.0323617
         },
         {
          "cpu_percent": 194,
          "cpu_time": 4.58,
          "name": "ReadCsvProjectSpace_1",
          "real_mem": 309010432,
          "time": 1616414409.1591554
         },
         {
          "cpu_percent": 97.9,
          "cpu_time": 4.73,
          "name": "RandomProcess1_1",
          "real_mem": 311083008,
          "time": 1616414409.3052506
         },
         {
          "cpu_percent": 0,
          "cpu_time": 4.840000000000001,
          "name": "ReadCsvProjectSpace_1",
          "real_mem": 312393728,
          "time": 1616414409.432967
         },
         {
          "cpu_percent": 293,
          "cpu_time": 5,
          "name": "RandomProcess1_1",
          "real_mem": 315179008,
          "time": 1616414409.5778103
         },
         {
          "cpu_percent": 197,
          "cpu_time": 5.13,
          "name": "ReadCsvProjectSpace_1",
          "real_mem": 315973632,
          "time": 1616414409.7056954
         },
         {
          "cpu_percent": 196.3,
          "cpu_time": 5.28,
          "name": "RandomProcess1_1",
          "real_mem": 318439424,
          "time": 1616414409.8693638
         },
         {
          "cpu_percent": 196.5,
          "cpu_time": 5.390000000000001,
          "name": "ReadCsvProjectSpace_1",
          "real_mem": 320057344,
          "time": 1616414409.9787607
         },
         {
          "cpu_percent": 193,
          "cpu_time": 5.55,
          "name": "RandomProcess1_1",
          "real_mem": 319840256,
          "time": 1616414410.170411
         },
         {
          "cpu_percent": 194.4,
          "cpu_time": 5.65,
          "name": "ReadCsvProjectSpace_1",
          "real_mem": 321024000,
          "time": 1616414410.2703023
         },
         {
          "cpu_percent": 196.4,
          "cpu_time": 5.86,
          "name": "RandomProcess1_1",
          "real_mem": 322383872,
          "time": 1616414410.4693816
         },
         {
          "cpu_percent": 98.3,
          "cpu_time": 5.95,
          "name": "ReadCsvProjectSpace_1",
          "real_mem": 322555904,
          "time": 1616414410.5696547
         },
         {
          "cpu_percent": 98.5,
          "cpu_time": 6.12,
          "name": "RandomProcess1_1",
          "real_mem": 332795904,
          "time": 1616414410.7696233
         },
         {
          "cpu_percent": 224.1,
          "cpu_time": 6.2299999999999995,
          "name": "ReadCsvProjectSpace_1",
          "real_mem": 334802944,
          "time": 1616414410.8691726
         },
         {
          "cpu_percent": 197.3,
          "cpu_time": 6.4399999999999995,
          "name": "RandomProcess1_1",
          "real_mem": 338362368,
          "time": 1616414411.0700974
         },
         {
          "cpu_percent": 295.9,
          "cpu_time": 6.54,
          "name": "ReadCsvProjectSpace_1",
          "real_mem": 339505152,
          "time": 1616414411.1706417
         },
         {
          "cpu_percent": 191.5,
          "cpu_time": 6.72,
          "name": "RandomProcess1_1",
          "real_mem": 344690688,
          "time": 1616414411.3700483
         },
         {
          "cpu_percent": 295.8,
          "cpu_time": 6.819999999999999,
          "name": "ReadCsvProjectSpace_1",
          "real_mem": 345722880,
          "time": 1616414411.4701197
         },
         {
          "cpu_percent": 394.6,
          "cpu_time": 7.029999999999999,
          "name": "RandomProcess1_1",
          "real_mem": 358154240,
          "time": 1616414411.669438
         },
         {
          "cpu_percent": 490.7,
          "cpu_time": 7.16,
          "name": "ReadCsvProjectSpace_1",
          "real_mem": 359202816,
          "time": 1616414411.770225
         },
         {
          "cpu_percent": 296.1,
          "cpu_time": 7.3100000000000005,
          "name": "RandomProcess1_1",
          "real_mem": 357871616,
          "time": 1616414411.969692
         },
         {
          "cpu_percent": 197.2,
          "cpu_time": 7.390000000000001,
          "name": "ReadCsvProjectSpace_1",
          "real_mem": 366358528,
          "time": 1616414412.069136
         },
         {
          "cpu_percent": 196.2,
          "cpu_time": 7.6,
          "name": "RandomProcess1_1",
          "real_mem": 371535872,
          "time": 1616414412.2694144
         },
         {
          "cpu_percent": 289.2,
          "cpu_time": 7.7,
          "name": "ReadCsvProjectSpace_1",
          "real_mem": 372150272,
          "time": 1616414412.3704772
         },
         {
          "cpu_percent": 196.3,
          "cpu_time": 7.87,
          "name": "RandomProcess1_1",
          "real_mem": 376102912,
          "time": 1616414412.5707114
         },
         {
          "cpu_percent": 0,
          "cpu_time": 7.9399999999999995,
          "name": "ReadCsvProjectSpace_1",
          "real_mem": 376901632,
          "time": 1616414412.6443267
         },
         {
          "cpu_percent": 194.1,
          "cpu_time": 8.18,
          "name": "RandomProcess1_1",
          "real_mem": 379502592,
          "time": 1616414412.87064
         },
         {
          "cpu_percent": 293.6,
          "cpu_time": 8.280000000000001,
          "name": "ReadCsvProjectSpace_1",
          "real_mem": 379793408,
          "time": 1616414412.9707024
         },
         {
          "cpu_percent": 196.2,
          "cpu_time": 8.440000000000001,
          "name": "RandomProcess1_1",
          "real_mem": 381108224,
          "time": 1616414413.1591208
         },
         {
          "cpu_percent": 196.6,
          "cpu_time": 8.55,
          "name": "ReadCsvProjectSpace_1",
          "real_mem": 381956096,
          "time": 1616414413.269768
         },
         {
          "cpu_percent": 196.5,
          "cpu_time": 8.76,
          "name": "RandomProcess1_1",
          "real_mem": 384667648,
          "time": 1616414413.4702647
         },
         {
          "cpu_percent": 196.6,
          "cpu_time": 8.85,
          "name": "ReadCsvProjectSpace_1",
          "real_mem": 385355776,
          "time": 1616414413.5694146
         },
         {
          "cpu_percent": 193.3,
          "cpu_time": 9.05,
          "name": "RandomProcess1_1",
          "real_mem": 390053888,
          "time": 1616414413.7695072
         },
         {
          "cpu_percent": 196.7,
          "cpu_time": 9.15,
          "name": "ReadCsvProjectSpace_1",
          "real_mem": 390959104,
          "time": 1616414413.8699837
         },
         {
          "cpu_percent": 196.6,
          "cpu_time": 9.34,
          "name": "RandomProcess1_1",
          "real_mem": 392597504,
          "time": 1616414414.0701604
         },
         {
          "cpu_percent": 196.1,
          "cpu_time": 9.4,
          "name": "ReadCsvProjectSpace_1",
          "real_mem": 393138176,
          "time": 1616414414.1591272
         },
         {
          "cpu_percent": 196.5,
          "cpu_time": 9.59,
          "name": "RandomProcess1_1",
          "real_mem": 396460032,
          "time": 1616414414.3590982
         },
         {
          "cpu_percent": 196.4,
          "cpu_time": 9.72,
          "name": "ReadCsvProjectSpace_1",
          "real_mem": 397291520,
          "time": 1616414414.4699612
         },
         {
          "cpu_percent": 196,
          "cpu_time": 9.9,
          "name": "RandomProcess1_1",
          "real_mem": 392814592,
          "time": 1616414414.6705925
         },
         {
          "cpu_percent": 98.4,
          "cpu_time": 10,
          "name": "ReadCsvProjectSpace_1",
          "real_mem": 393609216,
          "time": 1616414414.7701323
         },
         {
          "cpu_percent": 196.3,
          "cpu_time": 10.19,
          "name": "RandomProcess1_1",
          "real_mem": 395255808,
          "time": 1616414414.970633
         },
         {
          "cpu_percent": 196.5,
          "cpu_time": 10.29,
          "name": "ReadCsvProjectSpace_1",
          "real_mem": 396005376,
          "time": 1616414415.0696833
         },
         {
          "cpu_percent": 98.3,
          "cpu_time": 10.45,
          "name": "RandomProcess1_1",
          "real_mem": 396972032,
          "time": 1616414415.2590456
         },
         {
          "cpu_percent": 98.2,
          "cpu_time": 10.56,
          "name": "ReadCsvProjectSpace_1",
          "real_mem": 399486976,
          "time": 1616414415.3588634
         },
         {
          "cpu_percent": 195.8,
          "cpu_time": 10.770000000000001,
          "name": "RandomProcess1_1",
          "real_mem": 400154624,
          "time": 1616414415.5703268
         },
         {
          "cpu_percent": 98.1,
          "cpu_time": 10.83,
          "name": "ReadCsvProjectSpace_1",
          "real_mem": 401068032,
          "time": 1616414415.6320093
         },
         {
          "cpu_percent": 97.9,
          "cpu_time": 11.040000000000001,
          "name": "RandomProcess1_1",
          "real_mem": 402866176,
          "time": 1616414415.8590186
         },
         {
          "cpu_percent": 98.3,
          "cpu_time": 11.100000000000001,
          "name": "ReadCsvProjectSpace_1",
          "real_mem": 403439616,
          "time": 1616414415.904736
         },
         {
          "cpu_percent": 196.1,
          "cpu_time": 11.360000000000001,
          "name": "RandomProcess1_1",
          "real_mem": 407056384,
          "time": 1616414416.1692603
         },
         {
          "cpu_percent": 97.8,
          "cpu_time": 11.38,
          "name": "ReadCsvProjectSpace_1",
          "real_mem": 407371776,
          "time": 1616414416.191308
         },
         {
          "cpu_percent": 0,
          "cpu_time": 11.600000000000001,
          "name": "RandomProcess1_1",
          "real_mem": 409858048,
          "time": 1616414416.442718
         },
         {
          "cpu_percent": 98.1,
          "cpu_time": 11.620000000000001,
          "name": "ReadCsvProjectSpace_1",
          "real_mem": 409935872,
          "time": 1616414416.4704936
         },
         {
          "cpu_percent": 196.4,
          "cpu_time": 12.16,
          "name": "RandomProcess1_1",
          "real_mem": 412884992,
          "time": 1616414416.9706473
         },
         {
          "cpu_percent": 0,
          "cpu_time": 12.19,
          "name": "ReadCsvProjectSpace_1",
          "real_mem": 412884992,
          "time": 1616414416.9926555
         },
         {
          "cpu_percent": 98.2,
          "cpu_time": 12.67,
          "name": "RandomProcess1_1",
          "real_mem": 416202752,
          "time": 1616414417.4949582
         },
         {
          "cpu_percent": 193.6,
          "cpu_time": 12.72,
          "name": "ReadCsvProjectSpace_1",
          "real_mem": 416276480,
          "time": 1616414417.5705454
         },
         {
          "cpu_percent": 0,
          "cpu_time": 13.16,
          "name": "RandomProcess1_1",
          "real_mem": 418254848,
          "time": 1616414418.0180702
         },
         {
          "cpu_percent": 196.7,
          "cpu_time": 13.26,
          "name": "ReadCsvProjectSpace_1",
          "real_mem": 418889728,
          "time": 1616414418.0937762
         },
         {
          "cpu_percent": 196.7,
          "cpu_time": 13.69,
          "name": "RandomProcess1_1",
          "real_mem": 421265408,
          "time": 1616414418.5703347
         },
         {
          "cpu_percent": 98.6,
          "cpu_time": 13.76,
          "name": "ReadCsvProjectSpace_1",
          "real_mem": 421691392,
          "time": 1616414418.6691353
         },
         {
          "cpu_percent": 98.7,
          "cpu_time": 14.19,
          "name": "RandomProcess1_1",
          "real_mem": 424931328,
          "time": 1616414419.0926046
         },
         {
          "cpu_percent": 97.1,
          "cpu_time": 14.28,
          "name": "ReadCsvProjectSpace_1",
          "real_mem": 426291200,
          "time": 1616414419.1920393
         },
         {
          "cpu_percent": 98.2,
          "cpu_time": 14.7,
          "name": "RandomProcess1_1",
          "real_mem": 428740608,
          "time": 1616414419.6160717
         },
         {
          "cpu_percent": 98.2,
          "cpu_time": 14.82,
          "name": "ReadCsvProjectSpace_1",
          "real_mem": 429903872,
          "time": 1616414419.7150664
         },
         {
          "cpu_percent": 195.6,
          "cpu_time": 15.25,
          "name": "RandomProcess1_1",
          "real_mem": 439324672,
          "time": 1616414420.1694472
         },
         {
          "cpu_percent": 97.9,
          "cpu_time": 15.34,
          "name": "ReadCsvProjectSpace_1",
          "real_mem": 439779328,
          "time": 1616414420.2693639
         },
         {
          "cpu_percent": 194.7,
          "cpu_time": 15.79,
          "name": "RandomProcess1_1",
          "real_mem": 443305984,
          "time": 1616414420.6925294
         },
         {
          "cpu_percent": 98.5,
          "cpu_time": 15.889999999999999,
          "name": "ReadCsvProjectSpace_1",
          "real_mem": 443883520,
          "time": 1616414420.792503
         },
         {
          "cpu_percent": 98.2,
          "cpu_time": 16.3,
          "name": "RandomProcess1_1",
          "real_mem": 439259136,
          "time": 1616414421.270143
         },
         {
          "cpu_percent": 98.2,
          "cpu_time": 16.37,
          "name": "ReadCsvProjectSpace_1",
          "real_mem": 439635968,
          "time": 1616414421.3157113
         },
         {
          "cpu_percent": 98.4,
          "cpu_time": 16.830000000000002,
          "name": "RandomProcess1_1",
          "real_mem": 443342848,
          "time": 1616414421.793741
         },
         {
          "cpu_percent": 98.1,
          "cpu_time": 16.87,
          "name": "ReadCsvProjectSpace_1",
          "real_mem": 443797504,
          "time": 1616414421.859096
         },
         {
          "cpu_percent": 295,
          "cpu_time": 17.42,
          "name": "RandomProcess1_1",
          "real_mem": 448376832,
          "time": 1616414422.3707337
         },
         {
          "cpu_percent": 15.2,
          "cpu_time": 17.46,
          "name": "ReadCsvProjectSpace_1",
          "real_mem": 448454656,
          "time": 1616414422.4485052
         },
         {
          "cpu_percent": 196.6,
          "cpu_time": 17.95,
          "name": "RandomProcess1_1",
          "real_mem": 451235840,
          "time": 1616414422.893912
         },
         {
          "cpu_percent": 294.7,
          "cpu_time": 18.01,
          "name": "ReadCsvProjectSpace_1",
          "real_mem": 451317760,
          "time": 1616414422.9712775
         },
         {
          "cpu_percent": 0,
          "cpu_time": 18.439999999999998,
          "name": "RandomProcess1_1",
          "real_mem": 456192000,
          "time": 1616414423.417157
         },
         {
          "cpu_percent": 195.5,
          "cpu_time": 18.529999999999998,
          "name": "ReadCsvProjectSpace_1",
          "real_mem": 457232384,
          "time": 1616414423.4945533
         },
         {
          "cpu_percent": 97.8,
          "cpu_time": 18.91,
          "name": "RandomProcess1_1",
          "real_mem": 459046912,
          "time": 1616414423.9401932
         },
         {
          "cpu_percent": 193.6,
          "cpu_time": 19.009999999999998,
          "name": "ReadCsvProjectSpace_1",
          "real_mem": 459378688,
          "time": 1616414424.0592735
         },
         {
          "cpu_percent": 294.4,
          "cpu_time": 19.43,
          "name": "RandomProcess1_1",
          "real_mem": 461185024,
          "time": 1616414424.4702506
         },
         {
          "cpu_percent": 197.2,
          "cpu_time": 19.54,
          "name": "ReadCsvProjectSpace_1",
          "real_mem": 461185024,
          "time": 1616414424.581768
         },
         {
          "cpu_percent": 98.3,
          "cpu_time": 19.97,
          "name": "RandomProcess1_1",
          "real_mem": 462094336,
          "time": 1616414424.9937913
         },
         {
          "cpu_percent": 0,
          "cpu_time": 20.06,
          "name": "ReadCsvProjectSpace_1",
          "real_mem": 462401536,
          "time": 1616414425.1128597
         }
        ],
        "logs": [
         {
          "asctime": "2021-03-22 12:00:03,776",
          "created": 1616414403.776124,
          "extra": {},
          "filename": "async_executors.py",
          "funcName": "main",
          "levelname": "DEBUG",
          "lineno": 114,
          "message": "NonSparkPath_1: started async block execution\n",
          "name": "engine.logs:NonSparkPath_1",
          "pathname": "/usr/local/lib/python3.7/dist-packages/razor/flow/async_executors.py",
          "process": 1617,
          "processName": "ForkProcess-2:1",
          "thread": 139978987169600,
          "threadName": "MainThread"
         },
         {
          "asctime": "2021-03-22 12:00:03,793",
          "created": 1616414403.793829,
          "extra": {},
          "filename": "async_executors.py",
          "funcName": "fill_atomic_inputs",
          "levelname": "INFO",
          "lineno": 250,
          "message": "NonSparkPath_1: waiting for atomic input: ip_path",
          "name": "engine.logs:NonSparkPath_1",
          "pathname": "/usr/local/lib/python3.7/dist-packages/razor/flow/async_executors.py",
          "process": 1617,
          "processName": "ForkProcess-2:1",
          "thread": 139978987169600,
          "threadName": "MainThread"
         },
         {
          "asctime": "2021-03-22 12:00:03,794",
          "created": 1616414403.7940454,
          "extra": {},
          "filename": "async_executors.py",
          "funcName": "fill_atomic_inputs",
          "levelname": "DEBUG",
          "lineno": 253,
          "message": "NonSparkPath_1: got atomic input: customer_data.csv",
          "name": "engine.logs:NonSparkPath_1",
          "pathname": "/usr/local/lib/python3.7/dist-packages/razor/flow/async_executors.py",
          "process": 1617,
          "processName": "ForkProcess-2:1",
          "thread": 139978987169600,
          "threadName": "MainThread"
         },
         {
          "asctime": "2021-03-22 12:00:03,794",
          "created": 1616414403.7941096,
          "extra": {},
          "filename": "async_executors.py",
          "funcName": "main",
          "levelname": "DEBUG",
          "lineno": 130,
          "message": "NonSparkPath_1: triggering block run",
          "name": "engine.logs:NonSparkPath_1",
          "pathname": "/usr/local/lib/python3.7/dist-packages/razor/flow/async_executors.py",
          "process": 1617,
          "processName": "ForkProcess-2:1",
          "thread": 139978987169600,
          "threadName": "MainThread"
         },
         {
          "asctime": "2021-03-22 12:00:03,967",
          "created": 1616414403.9670863,
          "extra": {},
          "filename": "async_executors.py",
          "funcName": "distribute_output_queue",
          "levelname": "DEBUG",
          "lineno": 308,
          "message": "NonSparkPath_1: ---- dist output: /home/aios/projectspace/customer_data.csv -> ('ReadCsvProjectSpace_1', 'filename')",
          "name": "engine.logs:NonSparkPath_1",
          "pathname": "/usr/local/lib/python3.7/dist-packages/razor/flow/async_executors.py",
          "process": 1617,
          "processName": "ForkProcess-2:1",
          "thread": 139978987169600,
          "threadName": "MainThread"
         },
         {
          "asctime": "2021-03-22 12:00:03,967",
          "created": 1616414403.967533,
          "extra": {},
          "filename": "async_executors.py",
          "funcName": "main",
          "levelname": "DEBUG",
          "lineno": 147,
          "message": "NonSparkPath_1: block thread completed",
          "name": "engine.logs:NonSparkPath_1",
          "pathname": "/usr/local/lib/python3.7/dist-packages/razor/flow/async_executors.py",
          "process": 1617,
          "processName": "ForkProcess-2:1",
          "thread": 139978987169600,
          "threadName": "MainThread"
         },
         {
          "asctime": "2021-03-22 12:00:03,967",
          "created": 1616414403.9676445,
          "extra": {},
          "filename": "async_executors.py",
          "funcName": "main",
          "levelname": "DEBUG",
          "lineno": 149,
          "message": "NonSparkPath_1: block execution complete",
          "name": "engine.logs:NonSparkPath_1",
          "pathname": "/usr/local/lib/python3.7/dist-packages/razor/flow/async_executors.py",
          "process": 1617,
          "processName": "ForkProcess-2:1",
          "thread": 139978987169600,
          "threadName": "MainThread"
         },
         {
          "asctime": "2021-03-22 12:00:03,967",
          "created": 1616414403.9677799,
          "extra": {},
          "filename": "async_executors.py",
          "funcName": "distribute_output_queue",
          "levelname": "DEBUG",
          "lineno": 308,
          "message": "NonSparkPath_1: ---- dist output: b'__!\\tEndOfStream\\t!__' -> ('ReadCsvProjectSpace_1', 'filename')",
          "name": "engine.logs:NonSparkPath_1",
          "pathname": "/usr/local/lib/python3.7/dist-packages/razor/flow/async_executors.py",
          "process": 1617,
          "processName": "ForkProcess-2:1",
          "thread": 139978987169600,
          "threadName": "MainThread"
         },
         {
          "asctime": "2021-03-22 12:00:03,983",
          "created": 1616414403.9835374,
          "extra": {},
          "filename": "async_executors.py",
          "funcName": "main",
          "levelname": "DEBUG",
          "lineno": 114,
          "message": "RandomProcess1_1: started async block execution\n",
          "name": "engine.logs:RandomProcess1_1",
          "pathname": "/usr/local/lib/python3.7/dist-packages/razor/flow/async_executors.py",
          "process": 1625,
          "processName": "ForkProcess-2:2",
          "thread": 139978987169600,
          "threadName": "MainThread"
         },
         {
          "asctime": "2021-03-22 12:00:03,985",
          "created": 1616414403.9850864,
          "extra": {},
          "filename": "async_executors.py",
          "funcName": "main",
          "levelname": "DEBUG",
          "lineno": 114,
          "message": "ReadCsvProjectSpace_1: started async block execution\n",
          "name": "engine.logs:ReadCsvProjectSpace_1",
          "pathname": "/usr/local/lib/python3.7/dist-packages/razor/flow/async_executors.py",
          "process": 1625,
          "processName": "ForkProcess-2:2",
          "thread": 139978987169600,
          "threadName": "MainThread"
         },
         {
          "asctime": "2021-03-22 12:00:04,000",
          "created": 1616414404.0002682,
          "extra": {},
          "filename": "async_executors.py",
          "funcName": "fill_atomic_inputs",
          "levelname": "INFO",
          "lineno": 250,
          "message": "RandomProcess1_1: waiting for atomic input: ip_data",
          "name": "engine.logs:RandomProcess1_1",
          "pathname": "/usr/local/lib/python3.7/dist-packages/razor/flow/async_executors.py",
          "process": 1625,
          "processName": "ForkProcess-2:2",
          "thread": 139978987169600,
          "threadName": "MainThread"
         },
         {
          "asctime": "2021-03-22 12:00:04,023",
          "created": 1616414404.0231137,
          "extra": {},
          "filename": "async_executors.py",
          "funcName": "fill_atomic_inputs",
          "levelname": "INFO",
          "lineno": 250,
          "message": "ReadCsvProjectSpace_1: waiting for atomic input: filename",
          "name": "engine.logs:ReadCsvProjectSpace_1",
          "pathname": "/usr/local/lib/python3.7/dist-packages/razor/flow/async_executors.py",
          "process": 1625,
          "processName": "ForkProcess-2:2",
          "thread": 139978987169600,
          "threadName": "MainThread"
         },
         {
          "asctime": "2021-03-22 12:00:04,030",
          "created": 1616414404.0301793,
          "extra": {},
          "filename": "async_executors.py",
          "funcName": "start_input_receiver",
          "levelname": "DEBUG",
          "lineno": 173,
          "message": "NonSparkPath_1: received cmd: start_sender, (), {'out_name': 'op_path', 'target': ('ReadCsvProjectSpace_1', 'filename'), 'out_addr': 'tcp://0.0.0.0:56397', 'in_memory': None}",
          "name": "engine.logs:NonSparkPath_1",
          "pathname": "/usr/local/lib/python3.7/dist-packages/razor/flow/async_executors.py",
          "process": 1617,
          "processName": "ForkProcess-2:1",
          "thread": 139978987169600,
          "threadName": "MainThread"
         },
         {
          "asctime": "2021-03-22 12:00:04,030",
          "created": 1616414404.0307095,
          "extra": {},
          "filename": "async_executors.py",
          "funcName": "start_output_sender",
          "levelname": "DEBUG",
          "lineno": 370,
          "message": "NonSparkPath_1: got start_sender, op_path, ('ReadCsvProjectSpace_1', 'filename')",
          "name": "engine.logs:NonSparkPath_1",
          "pathname": "/usr/local/lib/python3.7/dist-packages/razor/flow/async_executors.py",
          "process": 1617,
          "processName": "ForkProcess-2:1",
          "thread": 139978987169600,
          "threadName": "MainThread"
         },
         {
          "asctime": "2021-03-22 12:00:04,031",
          "created": 1616414404.031839,
          "extra": {},
          "filename": "async_executors.py",
          "funcName": "start_output_sender",
          "levelname": "DEBUG",
          "lineno": 388,
          "message": "NonSparkPath_1: SENT, filename, /home/aios/projectspace/customer_data.csv, ('ReadCsvProjectSpace_1', 'filename')",
          "name": "engine.logs:NonSparkPath_1",
          "pathname": "/usr/local/lib/python3.7/dist-packages/razor/flow/async_executors.py",
          "process": 1617,
          "processName": "ForkProcess-2:1",
          "thread": 139978987169600,
          "threadName": "MainThread"
         },
         {
          "asctime": "2021-03-22 12:00:04,032",
          "created": 1616414404.0321527,
          "extra": {},
          "filename": "async_executors.py",
          "funcName": "start_output_sender",
          "levelname": "DEBUG",
          "lineno": 388,
          "message": "NonSparkPath_1: SENT, filename, b'__!\\tEndOfStream\\t!__', ('ReadCsvProjectSpace_1', 'filename')",
          "name": "engine.logs:NonSparkPath_1",
          "pathname": "/usr/local/lib/python3.7/dist-packages/razor/flow/async_executors.py",
          "process": 1617,
          "processName": "ForkProcess-2:1",
          "thread": 139978987169600,
          "threadName": "MainThread"
         },
         {
          "asctime": "2021-03-22 12:00:04,032",
          "created": 1616414404.032419,
          "extra": {},
          "filename": "async_executors.py",
          "funcName": "start_output_sender",
          "levelname": "DEBUG",
          "lineno": 391,
          "message": "NonSparkPath_1: completed output: ('op_path', ('ReadCsvProjectSpace_1', 'filename'))",
          "name": "engine.logs:NonSparkPath_1",
          "pathname": "/usr/local/lib/python3.7/dist-packages/razor/flow/async_executors.py",
          "process": 1617,
          "processName": "ForkProcess-2:1",
          "thread": 139978987169600,
          "threadName": "MainThread"
         },
         {
          "asctime": "2021-03-22 12:00:04,033",
          "created": 1616414404.033295,
          "extra": {},
          "filename": "async_executors.py",
          "funcName": "start_input_receiver",
          "levelname": "DEBUG",
          "lineno": 177,
          "message": "ReadCsvProjectSpace_1: received data: filename, /home/aios/projectspace/customer_data.csv",
          "name": "engine.logs:ReadCsvProjectSpace_1",
          "pathname": "/usr/local/lib/python3.7/dist-packages/razor/flow/async_executors.py",
          "process": 1625,
          "processName": "ForkProcess-2:2",
          "thread": 139978987169600,
          "threadName": "MainThread"
         },
         {
          "asctime": "2021-03-22 12:00:04,037",
          "created": 1616414404.0375798,
          "extra": {},
          "filename": "async_executors.py",
          "funcName": "start_input_receiver",
          "levelname": "DEBUG",
          "lineno": 173,
          "message": "NonSparkPath_1: received cmd: terminate, (), {}",
          "name": "engine.logs:NonSparkPath_1",
          "pathname": "/usr/local/lib/python3.7/dist-packages/razor/flow/async_executors.py",
          "process": 1617,
          "processName": "ForkProcess-2:1",
          "thread": 139978987169600,
          "threadName": "MainThread"
         },
         {
          "asctime": "2021-03-22 12:00:04,033",
          "created": 1616414404.0337973,
          "extra": {},
          "filename": "async_executors.py",
          "funcName": "start_input_receiver",
          "levelname": "DEBUG",
          "lineno": 177,
          "message": "ReadCsvProjectSpace_1: received data: filename, b'__!\\tEndOfStream\\t!__'",
          "name": "engine.logs:ReadCsvProjectSpace_1",
          "pathname": "/usr/local/lib/python3.7/dist-packages/razor/flow/async_executors.py",
          "process": 1625,
          "processName": "ForkProcess-2:2",
          "thread": 139978987169600,
          "threadName": "MainThread"
         },
         {
          "asctime": "2021-03-22 12:00:04,034",
          "created": 1616414404.0340035,
          "extra": {},
          "filename": "async_executors.py",
          "funcName": "fill_atomic_inputs",
          "levelname": "DEBUG",
          "lineno": 253,
          "message": "ReadCsvProjectSpace_1: got atomic input: /home/aios/projectspace/customer_data.csv",
          "name": "engine.logs:ReadCsvProjectSpace_1",
          "pathname": "/usr/local/lib/python3.7/dist-packages/razor/flow/async_executors.py",
          "process": 1625,
          "processName": "ForkProcess-2:2",
          "thread": 139978987169600,
          "threadName": "MainThread"
         },
         {
          "asctime": "2021-03-22 12:00:04,034",
          "created": 1616414404.0341005,
          "extra": {},
          "filename": "async_executors.py",
          "funcName": "fill_atomic_inputs",
          "levelname": "INFO",
          "lineno": 250,
          "message": "ReadCsvProjectSpace_1: waiting for atomic input: config",
          "name": "engine.logs:ReadCsvProjectSpace_1",
          "pathname": "/usr/local/lib/python3.7/dist-packages/razor/flow/async_executors.py",
          "process": 1625,
          "processName": "ForkProcess-2:2",
          "thread": 139978987169600,
          "threadName": "MainThread"
         },
         {
          "asctime": "2021-03-22 12:00:04,034",
          "created": 1616414404.0341969,
          "extra": {},
          "filename": "async_executors.py",
          "funcName": "fill_atomic_inputs",
          "levelname": "DEBUG",
          "lineno": 253,
          "message": "ReadCsvProjectSpace_1: got atomic input: {}",
          "name": "engine.logs:ReadCsvProjectSpace_1",
          "pathname": "/usr/local/lib/python3.7/dist-packages/razor/flow/async_executors.py",
          "process": 1625,
          "processName": "ForkProcess-2:2",
          "thread": 139978987169600,
          "threadName": "MainThread"
         },
         {
          "asctime": "2021-03-22 12:00:04,034",
          "created": 1616414404.034262,
          "extra": {},
          "filename": "async_executors.py",
          "funcName": "fill_atomic_inputs",
          "levelname": "INFO",
          "lineno": 250,
          "message": "ReadCsvProjectSpace_1: waiting for atomic input: source",
          "name": "engine.logs:ReadCsvProjectSpace_1",
          "pathname": "/usr/local/lib/python3.7/dist-packages/razor/flow/async_executors.py",
          "process": 1625,
          "processName": "ForkProcess-2:2",
          "thread": 139978987169600,
          "threadName": "MainThread"
         },
         {
          "asctime": "2021-03-22 12:00:04,034",
          "created": 1616414404.0343125,
          "extra": {},
          "filename": "async_executors.py",
          "funcName": "fill_atomic_inputs",
          "levelname": "DEBUG",
          "lineno": 253,
          "message": "ReadCsvProjectSpace_1: got atomic input: ",
          "name": "engine.logs:ReadCsvProjectSpace_1",
          "pathname": "/usr/local/lib/python3.7/dist-packages/razor/flow/async_executors.py",
          "process": 1625,
          "processName": "ForkProcess-2:2",
          "thread": 139978987169600,
          "threadName": "MainThread"
         },
         {
          "asctime": "2021-03-22 12:00:04,034",
          "created": 1616414404.034367,
          "extra": {},
          "filename": "async_executors.py",
          "funcName": "main",
          "levelname": "DEBUG",
          "lineno": 130,
          "message": "ReadCsvProjectSpace_1: triggering block run",
          "name": "engine.logs:ReadCsvProjectSpace_1",
          "pathname": "/usr/local/lib/python3.7/dist-packages/razor/flow/async_executors.py",
          "process": 1625,
          "processName": "ForkProcess-2:2",
          "thread": 139978987169600,
          "threadName": "MainThread"
         },
         {
          "asctime": "2021-03-22 12:00:24,978",
          "created": 1616414424.978823,
          "exc_info": null,
          "extra": {},
          "filename": null,
          "full_message": null,
          "funcName": null,
          "levelname": "STDOUT",
          "lineno": null,
          "message": "Hello\n",
          "name": "block.stdout:ReadCsvProjectSpace_1",
          "pathname": null,
          "process": null,
          "processName": null,
          "thread": null,
          "threadName": null
         },
         {
          "asctime": "2021-03-22 12:00:25,056",
          "created": 1616414425.0567832,
          "exc_info": null,
          "extra": {},
          "filename": null,
          "full_message": null,
          "funcName": null,
          "levelname": "STDOUT",
          "lineno": null,
          "message": "root\n |-- transaction_id: string (nullable = true)\n |-- time: string (nullable = true)\n |-- customer_name: string (nullable = true)\n |-- card_number: string (nullable = true)\n |-- card_type: string (nullable = true)\n |-- physical_card_type: string (nullable = true)\n |-- merchant_id: string (nullable = true)\n |-- merchant_city: string (nullable = true)\n |-- merchant_state: string (nullable = true)\n |-- transaction_type: string (nullable = true)\n |-- transaction_type_sub: string (nullable = true)\n |-- amount: string (nullable = true)\n |-- product_type: string (nullable = true)\n |-- fraud_risk: string (nullable = true)\n |-- One Time Heavy Loot Score: string (nullable = true)\n |-- Drastic Transaction Change Pattern Score: string (nullable = true)\n |-- Parasitic Fraud Score: string (nullable = true)\n |-- Purchase Behavior Variation Score: string (nullable = true)\n |-- Preferred Merchant Variation Score: string (nullable = true)\n |-- Multiple Location Fraud Score: string (nullable = true)\n |-- Fraudster Merchant Score: string (nullable = true)\n |-- no_of_transactions_in_the_day: string (nullable = true)\n |-- max_transaction_amount_in_the_day: string (nullable = true)\n |-- avg_transaction_amount_in_the_day: string (nullable = true)\n |-- no_of_transactions_in_the_month: string (nullable = true)\n |-- max_transaction_amount_the_month: string (nullable = true)\n |-- avg_transaction_amount_the_month: string (nullable = true)\n |-- no_of_transactions_of_the_same_merchant_in_the_day: string (nullable = true)\n |-- max_transactions_of_the_same_merchant_in_the_day: string (nullable = true)\n |-- avg_transactions_of_the_same_merchant_in_the_day: string (nullable = true)\n |-- no_of_transactions_of_the_same_merchant_in_the_month: string (nullable = true)\n |-- max_transactions_of_the_same_merchant_in_the_month: string (nullable = true)\n |-- avg_transactions_of_the_same_merchant_in_the_month: string (nullable = true)\n\n",
          "name": "block.stdout:ReadCsvProjectSpace_1",
          "pathname": null,
          "process": null,
          "processName": null,
          "thread": null,
          "threadName": null
         },
         {
          "asctime": "2021-03-22 12:00:25,087",
          "created": 1616414425.0870638,
          "extra": {},
          "filename": "async_executors.py",
          "funcName": "distribute_output_queue",
          "levelname": "DEBUG",
          "lineno": 308,
          "message": "ReadCsvProjectSpace_1: ---- dist output: DataFrame[transaction_id: string, time: string, customer_name: string, card_number: string, card_type: string, physical_card_type: string, merchant_id: string, merchant_city: string, merchant_state: string, transaction_type: string, transaction_type_sub: string, amount: string, product_type: string, fraud_risk: string, One Time Heavy Loot Score: string, Drastic Transaction Change Pattern Score: string, Parasitic Fraud Score: string, Purchase Behavior Variation Score: string, Preferred Merchant Variation Score: string, Multiple Location Fraud Score: string, Fraudster Merchant Score: string, no_of_transactions_in_the_day: string, max_transaction_amount_in_the_day: string, avg_transaction_amount_in_the_day: string, no_of_transactions_in_the_month: string, max_transaction_amount_the_month: string, avg_transaction_amount_the_month: string, no_of_transactions_of_the_same_merchant_in_the_day: string, max_transactions_of_the_same_merchant_in_the_day: string, avg_transactions_of_the_same_merchant_in_the_day: string, no_of_transactions_of_the_same_merchant_in_the_month: string, max_transactions_of_the_same_merchant_in_the_month: string, avg_transactions_of_the_same_merchant_in_the_month: string] -> ('RandomProcess1_1', 'ip_data')",
          "name": "engine.logs:ReadCsvProjectSpace_1",
          "pathname": "/usr/local/lib/python3.7/dist-packages/razor/flow/async_executors.py",
          "process": 1625,
          "processName": "ForkProcess-2:2",
          "thread": 139978987169600,
          "threadName": "MainThread"
         },
         {
          "asctime": "2021-03-22 12:00:25,090",
          "created": 1616414425.0907505,
          "extra": {},
          "filename": "async_executors.py",
          "funcName": "main",
          "levelname": "DEBUG",
          "lineno": 147,
          "message": "ReadCsvProjectSpace_1: block thread completed",
          "name": "engine.logs:ReadCsvProjectSpace_1",
          "pathname": "/usr/local/lib/python3.7/dist-packages/razor/flow/async_executors.py",
          "process": 1625,
          "processName": "ForkProcess-2:2",
          "thread": 139978987169600,
          "threadName": "MainThread"
         },
         {
          "asctime": "2021-03-22 12:00:25,090",
          "created": 1616414425.0908678,
          "extra": {},
          "filename": "async_executors.py",
          "funcName": "main",
          "levelname": "DEBUG",
          "lineno": 149,
          "message": "ReadCsvProjectSpace_1: block execution complete",
          "name": "engine.logs:ReadCsvProjectSpace_1",
          "pathname": "/usr/local/lib/python3.7/dist-packages/razor/flow/async_executors.py",
          "process": 1625,
          "processName": "ForkProcess-2:2",
          "thread": 139978987169600,
          "threadName": "MainThread"
         },
         {
          "asctime": "2021-03-22 12:00:25,091",
          "created": 1616414425.0911806,
          "extra": {},
          "filename": "async_executors.py",
          "funcName": "distribute_output_queue",
          "levelname": "DEBUG",
          "lineno": 308,
          "message": "ReadCsvProjectSpace_1: ---- dist output: b'__!\\tEndOfStream\\t!__' -> ('RandomProcess1_1', 'ip_data')",
          "name": "engine.logs:ReadCsvProjectSpace_1",
          "pathname": "/usr/local/lib/python3.7/dist-packages/razor/flow/async_executors.py",
          "process": 1625,
          "processName": "ForkProcess-2:2",
          "thread": 139978987169600,
          "threadName": "MainThread"
         },
         {
          "asctime": "2021-03-22 12:00:25,151",
          "created": 1616414425.1511917,
          "extra": {},
          "filename": "async_executors.py",
          "funcName": "start_input_receiver",
          "levelname": "DEBUG",
          "lineno": 173,
          "message": "ReadCsvProjectSpace_1: received cmd: start_sender, (), {'out_name': 'data', 'target': ('RandomProcess1_1', 'ip_data'), 'out_addr': 'tcp://0.0.0.0:50587', 'in_memory': True}",
          "name": "engine.logs:ReadCsvProjectSpace_1",
          "pathname": "/usr/local/lib/python3.7/dist-packages/razor/flow/async_executors.py",
          "process": 1625,
          "processName": "ForkProcess-2:2",
          "thread": 139978987169600,
          "threadName": "MainThread"
         },
         {
          "asctime": "2021-03-22 12:00:25,151",
          "created": 1616414425.1515794,
          "extra": {},
          "filename": "async_executors.py",
          "funcName": "start_output_sender",
          "levelname": "DEBUG",
          "lineno": 370,
          "message": "ReadCsvProjectSpace_1: got start_sender, data, ('RandomProcess1_1', 'ip_data')",
          "name": "engine.logs:ReadCsvProjectSpace_1",
          "pathname": "/usr/local/lib/python3.7/dist-packages/razor/flow/async_executors.py",
          "process": 1625,
          "processName": "ForkProcess-2:2",
          "thread": 139978987169600,
          "threadName": "MainThread"
         },
         {
          "asctime": "2021-03-22 12:00:25,154",
          "created": 1616414425.1543238,
          "extra": {},
          "filename": "async_executors.py",
          "funcName": "fill_atomic_inputs",
          "levelname": "DEBUG",
          "lineno": 253,
          "message": "RandomProcess1_1: got atomic input: DataFrame[transaction_id: string, time: string, customer_name: string, card_number: string, card_type: string, physical_card_type: string, merchant_id: string, merchant_city: string, merchant_state: string, transaction_type: string, transaction_type_sub: string, amount: string, product_type: string, fraud_risk: string, One Time Heavy Loot Score: string, Drastic Transaction Change Pattern Score: string, Parasitic Fraud Score: string, Purchase Behavior Variation Score: string, Preferred Merchant Variation Score: string, Multiple Location Fraud Score: string, Fraudster Merchant Score: string, no_of_transactions_in_the_day: string, max_transaction_amount_in_the_day: string, avg_transaction_amount_in_the_day: string, no_of_transactions_in_the_month: string, max_transaction_amount_the_month: string, avg_transaction_amount_the_month: string, no_of_transactions_of_the_same_merchant_in_the_day: string, max_transactions_of_the_same_merchant_in_the_day: string, avg_transactions_of_the_same_merchant_in_the_day: string, no_of_transactions_of_the_same_merchant_in_the_month: string, max_transactions_of_the_same_merchant_in_the_month: string, avg_transactions_of_the_same_merchant_in_the_month: string]",
          "name": "engine.logs:RandomProcess1_1",
          "pathname": "/usr/local/lib/python3.7/dist-packages/razor/flow/async_executors.py",
          "process": 1625,
          "processName": "ForkProcess-2:2",
          "thread": 139978987169600,
          "threadName": "MainThread"
         },
         {
          "asctime": "2021-03-22 12:00:25,152",
          "created": 1616414425.1525483,
          "extra": {},
          "filename": "async_executors.py",
          "funcName": "start_output_sender",
          "levelname": "DEBUG",
          "lineno": 375,
          "message": "ReadCsvProjectSpace_1: SENT, ip_data, DataFrame[transaction_id: string, time: string, customer_name: string, card_number: string, card_type: string, physical_card_type: string, merchant_id: string, merchant_city: string, merchant_state: string, transaction_type: string, transaction_type_sub: string, amount: string, product_type: string, fraud_risk: string, One Time Heavy Loot Score: string, Drastic Transaction Change Pattern Score: string, Parasitic Fraud Score: string, Purchase Behavior Variation Score: string, Preferred Merchant Variation Score: string, Multiple Location Fraud Score: string, Fraudster Merchant Score: string, no_of_transactions_in_the_day: string, max_transaction_amount_in_the_day: string, avg_transaction_amount_in_the_day: string, no_of_transactions_in_the_month: string, max_transaction_amount_the_month: string, avg_transaction_amount_the_month: string, no_of_transactions_of_the_same_merchant_in_the_day: string, max_transactions_of_the_same_merchant_in_the_day: string, avg_transactions_of_the_same_merchant_in_the_day: string, no_of_transactions_of_the_same_merchant_in_the_month: string, max_transactions_of_the_same_merchant_in_the_month: string, avg_transactions_of_the_same_merchant_in_the_month: string], ('RandomProcess1_1', 'ip_data')",
          "name": "engine.logs:ReadCsvProjectSpace_1",
          "pathname": "/usr/local/lib/python3.7/dist-packages/razor/flow/async_executors.py",
          "process": 1625,
          "processName": "ForkProcess-2:2",
          "thread": 139978987169600,
          "threadName": "MainThread"
         },
         {
          "asctime": "2021-03-22 12:00:25,152",
          "created": 1616414425.1526957,
          "extra": {},
          "filename": "async_executors.py",
          "funcName": "start_output_sender",
          "levelname": "DEBUG",
          "lineno": 375,
          "message": "ReadCsvProjectSpace_1: SENT, ip_data, b'__!\\tEndOfStream\\t!__', ('RandomProcess1_1', 'ip_data')",
          "name": "engine.logs:ReadCsvProjectSpace_1",
          "pathname": "/usr/local/lib/python3.7/dist-packages/razor/flow/async_executors.py",
          "process": 1625,
          "processName": "ForkProcess-2:2",
          "thread": 139978987169600,
          "threadName": "MainThread"
         },
         {
          "asctime": "2021-03-22 12:00:25,152",
          "created": 1616414425.152746,
          "extra": {},
          "filename": "async_executors.py",
          "funcName": "start_output_sender",
          "levelname": "DEBUG",
          "lineno": 379,
          "message": "ReadCsvProjectSpace_1: completed output: ('data', ('RandomProcess1_1', 'ip_data'))",
          "name": "engine.logs:ReadCsvProjectSpace_1",
          "pathname": "/usr/local/lib/python3.7/dist-packages/razor/flow/async_executors.py",
          "process": 1625,
          "processName": "ForkProcess-2:2",
          "thread": 139978987169600,
          "threadName": "MainThread"
         },
         {
          "asctime": "2021-03-22 12:00:25,154",
          "created": 1616414425.1544774,
          "extra": {},
          "filename": "async_executors.py",
          "funcName": "fill_atomic_inputs",
          "levelname": "INFO",
          "lineno": 250,
          "message": "RandomProcess1_1: waiting for atomic input: config",
          "name": "engine.logs:RandomProcess1_1",
          "pathname": "/usr/local/lib/python3.7/dist-packages/razor/flow/async_executors.py",
          "process": 1625,
          "processName": "ForkProcess-2:2",
          "thread": 139978987169600,
          "threadName": "MainThread"
         },
         {
          "asctime": "2021-03-22 12:00:25,154",
          "created": 1616414425.1545758,
          "extra": {},
          "filename": "async_executors.py",
          "funcName": "fill_atomic_inputs",
          "levelname": "DEBUG",
          "lineno": 253,
          "message": "RandomProcess1_1: got atomic input: {}",
          "name": "engine.logs:RandomProcess1_1",
          "pathname": "/usr/local/lib/python3.7/dist-packages/razor/flow/async_executors.py",
          "process": 1625,
          "processName": "ForkProcess-2:2",
          "thread": 139978987169600,
          "threadName": "MainThread"
         },
         {
          "asctime": "2021-03-22 12:00:25,154",
          "created": 1616414425.154652,
          "extra": {},
          "filename": "async_executors.py",
          "funcName": "fill_atomic_inputs",
          "levelname": "INFO",
          "lineno": 250,
          "message": "RandomProcess1_1: waiting for atomic input: source",
          "name": "engine.logs:RandomProcess1_1",
          "pathname": "/usr/local/lib/python3.7/dist-packages/razor/flow/async_executors.py",
          "process": 1625,
          "processName": "ForkProcess-2:2",
          "thread": 139978987169600,
          "threadName": "MainThread"
         },
         {
          "asctime": "2021-03-22 12:00:25,158",
          "created": 1616414425.1581001,
          "extra": {},
          "filename": "async_executors.py",
          "funcName": "start_input_receiver",
          "levelname": "DEBUG",
          "lineno": 173,
          "message": "ReadCsvProjectSpace_1: received cmd: terminate, (), {}",
          "name": "engine.logs:ReadCsvProjectSpace_1",
          "pathname": "/usr/local/lib/python3.7/dist-packages/razor/flow/async_executors.py",
          "process": 1625,
          "processName": "ForkProcess-2:2",
          "thread": 139978987169600,
          "threadName": "MainThread"
         },
         {
          "asctime": "2021-03-22 12:00:25,154",
          "created": 1616414425.154725,
          "extra": {},
          "filename": "async_executors.py",
          "funcName": "fill_atomic_inputs",
          "levelname": "DEBUG",
          "lineno": 253,
          "message": "RandomProcess1_1: got atomic input: ",
          "name": "engine.logs:RandomProcess1_1",
          "pathname": "/usr/local/lib/python3.7/dist-packages/razor/flow/async_executors.py",
          "process": 1625,
          "processName": "ForkProcess-2:2",
          "thread": 139978987169600,
          "threadName": "MainThread"
         },
         {
          "asctime": "2021-03-22 12:00:25,154",
          "created": 1616414425.1548107,
          "extra": {},
          "filename": "async_executors.py",
          "funcName": "main",
          "levelname": "DEBUG",
          "lineno": 130,
          "message": "RandomProcess1_1: triggering block run",
          "name": "engine.logs:RandomProcess1_1",
          "pathname": "/usr/local/lib/python3.7/dist-packages/razor/flow/async_executors.py",
          "process": 1625,
          "processName": "ForkProcess-2:2",
          "thread": 139978987169600,
          "threadName": "MainThread"
         },
         {
          "asctime": "2021-03-22 12:00:25,266",
          "created": 1616414425.2664237,
          "extra": {},
          "filename": "async_executors.py",
          "funcName": "main",
          "levelname": "DEBUG",
          "lineno": 147,
          "message": "RandomProcess1_1: block thread completed",
          "name": "engine.logs:RandomProcess1_1",
          "pathname": "/usr/local/lib/python3.7/dist-packages/razor/flow/async_executors.py",
          "process": 1625,
          "processName": "ForkProcess-2:2",
          "thread": 139978987169600,
          "threadName": "MainThread"
         },
         {
          "asctime": "2021-03-22 12:00:25,266",
          "created": 1616414425.266576,
          "extra": {},
          "filename": "async_executors.py",
          "funcName": "main",
          "levelname": "DEBUG",
          "lineno": 149,
          "message": "RandomProcess1_1: block execution complete",
          "name": "engine.logs:RandomProcess1_1",
          "pathname": "/usr/local/lib/python3.7/dist-packages/razor/flow/async_executors.py",
          "process": 1625,
          "processName": "ForkProcess-2:2",
          "thread": 139978987169600,
          "threadName": "MainThread"
         },
         {
          "asctime": "2021-03-22 12:00:25,272",
          "created": 1616414425.2722106,
          "extra": {},
          "filename": "async_executors.py",
          "funcName": "start_input_receiver",
          "levelname": "DEBUG",
          "lineno": 173,
          "message": "RandomProcess1_1: received cmd: terminate, (), {}",
          "name": "engine.logs:RandomProcess1_1",
          "pathname": "/usr/local/lib/python3.7/dist-packages/razor/flow/async_executors.py",
          "process": 1625,
          "processName": "ForkProcess-2:2",
          "thread": 139978987169600,
          "threadName": "MainThread"
         }
        ],
        "meta": {
         "block_status": {
          "NonSparkPath_1": "SUCCESS",
          "RandomProcess1_1": "SUCCESS",
          "ReadCsvProjectSpace_1": "SUCCESS"
         },
         "blocks": [
          {
           "class_name": "RandomProcess1",
           "fullname": ".RandomProcess1",
           "id": "9264d8f8-7360-4594-8f7f-6a710f69df08",
           "inputs": [
            {
             "dataType": null,
             "default": null,
             "flow": "atomic",
             "help": null,
             "isdict": false,
             "islist": false,
             "label": "ip_data",
             "meta": {},
             "name": "ip_data",
             "series": false,
             "type": "DataFrame",
             "type_check": true
            },
            {
             "dataType": "dict",
             "default": {},
             "flow": "atomic",
             "help": null,
             "isdict": false,
             "islist": false,
             "label": "config",
             "meta": {},
             "name": "config",
             "series": false,
             "type": "dict",
             "type_check": true
            },
            {
             "dataType": "string",
             "default": "",
             "flow": "atomic",
             "help": null,
             "isdict": false,
             "islist": false,
             "label": "source",
             "meta": {},
             "name": "source",
             "series": false,
             "type": "str",
             "type_check": true
            }
           ],
           "outputs": [
            {
             "flow": "atomic",
             "help": null,
             "label": "op_data",
             "meta": {},
             "name": "op_data",
             "series": false,
             "type": "DataFrame",
             "type_check": true
            }
           ],
           "overwritten": false,
           "published": false,
           "var_names": [
            "RandomProcess1"
           ]
          },
          {
           "class_name": "ReadCsvProjectSpace",
           "fullname": ".ReadCsvProjectSpace",
           "id": "b5b6271e-3e93-4642-8e6b-c3f20beb1aa2",
           "inputs": [
            {
             "dataType": "string",
             "default": "",
             "flow": "atomic",
             "help": null,
             "isdict": false,
             "islist": false,
             "label": "filename",
             "meta": {},
             "name": "filename",
             "series": false,
             "type": "str",
             "type_check": true
            },
            {
             "dataType": "dict",
             "default": {},
             "flow": "atomic",
             "help": null,
             "isdict": false,
             "islist": false,
             "label": "config",
             "meta": {},
             "name": "config",
             "series": false,
             "type": "dict",
             "type_check": true
            },
            {
             "dataType": "string",
             "default": "",
             "flow": "atomic",
             "help": null,
             "isdict": false,
             "islist": false,
             "label": "source",
             "meta": {},
             "name": "source",
             "series": false,
             "type": "str",
             "type_check": true
            }
           ],
           "outputs": [
            {
             "flow": "atomic",
             "help": null,
             "label": "data",
             "meta": {},
             "name": "data",
             "series": false,
             "type": "DataFrame",
             "type_check": true
            }
           ],
           "overwritten": false,
           "published": false,
           "var_names": [
            "ReadCsvProjectSpace"
           ]
          },
          {
           "class_name": "NonSparkPath",
           "fullname": ".NonSparkPath",
           "id": "79f26081-ea8f-44fe-b29c-6556dafdfcd9",
           "inputs": [
            {
             "dataType": "string",
             "default": "",
             "flow": "atomic",
             "help": null,
             "isdict": false,
             "islist": false,
             "label": "ip_path",
             "meta": {},
             "name": "ip_path",
             "series": false,
             "type": "str",
             "type_check": true
            }
           ],
           "outputs": [
            {
             "flow": "atomic",
             "help": null,
             "label": "op_path",
             "meta": {},
             "name": "op_path",
             "series": false,
             "type": "str",
             "type_check": true
            }
           ],
           "overwritten": false,
           "published": false,
           "var_names": [
            "NonSparkPath"
           ]
          }
         ],
         "connections": [
          {
           "id": "13211ee6-2cbe-42f2-9552-8af6239d5903",
           "source": {
            "adapter": false,
            "instance_id": "bbac0aa6-61d1-48a2-bca1-38af316dd8ef",
            "name": "op_path"
           },
           "target": {
            "adapter": false,
            "instance_id": "7e5f00c5-02d9-49fa-aaeb-f35771ca1a30",
            "name": "filename"
           }
          },
          {
           "id": "67610e4d-a6d5-4613-a967-f303940bed46",
           "source": {
            "adapter": false,
            "instance_id": "7e5f00c5-02d9-49fa-aaeb-f35771ca1a30",
            "name": "data"
           },
           "target": {
            "adapter": false,
            "instance_id": "48cdb1f5-e942-4dfe-a9fc-02db4ff5f30a",
            "name": "ip_data"
           }
          }
         ],
         "end": 1616414425.2757578,
         "id": "23c8f6be-044e-4285-b2ce-a968b8cd6adc",
         "instances": [
          {
           "block_class": "9264d8f8-7360-4594-8f7f-6a710f69df08",
           "id": "48cdb1f5-e942-4dfe-a9fc-02db4ff5f30a",
           "name": "RandomProcess1_1",
           "var_names": [
            "rp1"
           ]
          },
          {
           "block_class": "b5b6271e-3e93-4642-8e6b-c3f20beb1aa2",
           "id": "7e5f00c5-02d9-49fa-aaeb-f35771ca1a30",
           "name": "ReadCsvProjectSpace_1",
           "var_names": [
            "rcp"
           ]
          },
          {
           "block_class": "79f26081-ea8f-44fe-b29c-6556dafdfcd9",
           "id": "bbac0aa6-61d1-48a2-bca1-38af316dd8ef",
           "name": "NonSparkPath_1",
           "var_names": [
            "nsp"
           ]
          }
         ],
         "log_level": 20,
         "name": "Pipeline_1",
         "start": 1616414403.7606635,
         "status": "SUCCESS",
         "system_logs": false,
         "var_names": []
        },
        "metrics": {},
        "runtime": {
         "NonSparkPath_1": {
          "end": 1616414404.035399,
          "load": 1616414403.7636597,
          "start": 1616414403.77124
         },
         "RandomProcess1_1": {
          "end": 1616414425.2695627,
          "load": 1616414403.9691212,
          "start": 1616414403.9778798
         },
         "ReadCsvProjectSpace_1": {
          "end": 1616414425.1542559,
          "load": 1616414403.9691212,
          "start": 1616414403.9778798
         }
        }
       },
       "store_in_notebook": true
      }
     },
     "output_type": "display_data"
    },
    {
     "data": {
      "text/plain": [
       "{}"
      ]
     },
     "execution_count": 15,
     "metadata": {},
     "output_type": "execute_result"
    }
   ],
   "source": [
    "pipe.execute()"
   ]
  },
  {
   "cell_type": "code",
   "execution_count": null,
   "id": "nuclear-sheffield",
   "metadata": {},
   "outputs": [],
   "source": []
  },
  {
   "cell_type": "code",
   "execution_count": null,
   "id": "assigned-climate",
   "metadata": {},
   "outputs": [],
   "source": []
  }
 ],
 "metadata": {
  "kernelspec": {
   "display_name": "Python 3",
   "language": "python",
   "name": "python3"
  },
  "language_info": {
   "codemirror_mode": {
    "name": "ipython",
    "version": 3
   },
   "file_extension": ".py",
   "mimetype": "text/x-python",
   "name": "python",
   "nbconvert_exporter": "python",
   "pygments_lexer": "ipython3",
   "version": "3.7.10"
  }
 },
 "nbformat": 4,
 "nbformat_minor": 5
}
