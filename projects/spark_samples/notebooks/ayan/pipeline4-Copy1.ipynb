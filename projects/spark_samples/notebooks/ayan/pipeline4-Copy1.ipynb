{
 "cells": [
  {
   "cell_type": "code",
   "execution_count": 1,
   "id": "economic-cross",
   "metadata": {},
   "outputs": [],
   "source": [
    "import razor\n",
    "import razor.flow as rf\n",
    "from razor import api\n",
    "from razor.flow.spark import SparkBlock, SparkExecutor\n"
   ]
  },
  {
   "cell_type": "code",
   "execution_count": 2,
   "id": "numeric-today",
   "metadata": {},
   "outputs": [],
   "source": [
    "import os\n",
    "from datetime import datetime, timedelta\n",
    "from pyspark.sql import SparkSession, functions\n",
    "from pyspark.sql.dataframe import DataFrame\n",
    "from datetime import datetime, timedelta\n",
    "from dateutil.relativedelta import relativedelta\n",
    "from pyspark.sql.types import IntegerType, DateType, ArrayType, StringType, FloatType, TimestampType\n"
   ]
  },
  {
   "cell_type": "code",
   "execution_count": 3,
   "id": "spiritual-portland",
   "metadata": {},
   "outputs": [],
   "source": [
    "from razor.project.blocks.ayan_spark_blocks_clone import MercStatic\n",
    "from razor.project.blocks.ayan_spark_blocks_clone import ReadCsvProjectSpace\n",
    "from razor.project.blocks.ayan_spark_blocks_clone import TranCityTS\n",
    "from razor.project.blocks.ayan_spark_blocks_clone import TranTypeTS\n",
    "from razor.project.blocks.ayan_spark_blocks_clone import NonSparkPath\n",
    "from razor.project.blocks.ayan_spark_blocks_clone import CustStatic\n",
    "from razor.project.blocks.ayan_spark_blocks_clone import ProdTypeTS\n",
    "from razor.project.blocks.ayan_spark_blocks_clone import CustMercTS\n",
    "from razor.project.blocks.ayan_spark_blocks_clone import DropDuplicates"
   ]
  },
  {
   "cell_type": "code",
   "execution_count": 4,
   "id": "duplicate-string",
   "metadata": {},
   "outputs": [],
   "source": [
    "def project_space_path(path):\n",
    "    ps = api.datasources('Project Space')\n",
    "    return os.path.join(ps.abspath(), path)\n"
   ]
  },
  {
   "cell_type": "code",
   "execution_count": 5,
   "id": "passing-knight",
   "metadata": {},
   "outputs": [],
   "source": [
    "nsp = NonSparkPath(ip_path='customer_data.csv')"
   ]
  },
  {
   "cell_type": "code",
   "execution_count": 6,
   "id": "particular-highland",
   "metadata": {},
   "outputs": [],
   "source": [
    "rcp = ReadCsvProjectSpace(filename = nsp.op_path, config={}, source=\"\")\n",
    "rcp.executor = SparkExecutor"
   ]
  },
  {
   "cell_type": "code",
   "execution_count": 7,
   "id": "acquired-public",
   "metadata": {},
   "outputs": [],
   "source": [
    "cs = CustStatic(ip_data = rcp.data, config={}, source=\"\")\n",
    "cs.executor = SparkExecutor"
   ]
  },
  {
   "cell_type": "code",
   "execution_count": 8,
   "id": "statewide-mississippi",
   "metadata": {},
   "outputs": [],
   "source": [
    "drp = DropDuplicates(ip_data = cs.customer_static, config={}, source=\"\")\n",
    "drp.executor = SparkExecutor"
   ]
  },
  {
   "cell_type": "code",
   "execution_count": 9,
   "id": "simple-cherry",
   "metadata": {},
   "outputs": [],
   "source": [
    "ms = MercStatic(ip_data = rcp.data, config={}, source=\"\")\n",
    "ms.executor = SparkExecutor"
   ]
  },
  {
   "cell_type": "code",
   "execution_count": 10,
   "id": "independent-tiger",
   "metadata": {},
   "outputs": [],
   "source": [
    "cm_ts = CustMercTS(ip_data = rcp.data, config={}, source=\"\")\n",
    "cm_ts.executor = SparkExecutor"
   ]
  },
  {
   "cell_type": "code",
   "execution_count": null,
   "id": "found-soldier",
   "metadata": {},
   "outputs": [],
   "source": []
  },
  {
   "cell_type": "code",
   "execution_count": 11,
   "id": "caroline-march",
   "metadata": {},
   "outputs": [],
   "source": [
    "pipe = rf.Pipeline('temp', targets = [cm_ts])"
   ]
  },
  {
   "cell_type": "code",
   "execution_count": 12,
   "id": "grand-stack",
   "metadata": {},
   "outputs": [
    {
     "data": {
      "application/vnd.razorthink.interactive+pipeline+view+json": {
       "blocks": [
        {
         "class_name": "ReadCsvProjectSpace",
         "fullname": "razor.project.blocks.ayan_spark_blocks_clone.ReadCsvProjectSpace",
         "id": "ff206689-5ce1-4a38-b436-e1be23ff51db",
         "inputs": [
          {
           "dataType": "string",
           "default": "",
           "flow": "atomic",
           "help": null,
           "isdict": false,
           "islist": false,
           "label": "filename",
           "meta": {},
           "name": "filename",
           "series": false,
           "type": "str",
           "type_check": true
          },
          {
           "dataType": "dict",
           "default": {},
           "flow": "atomic",
           "help": null,
           "isdict": false,
           "islist": false,
           "label": "config",
           "meta": {},
           "name": "config",
           "series": false,
           "type": "dict",
           "type_check": true
          },
          {
           "dataType": "string",
           "default": "",
           "flow": "atomic",
           "help": null,
           "isdict": false,
           "islist": false,
           "label": "source",
           "meta": {},
           "name": "source",
           "series": false,
           "type": "str",
           "type_check": true
          }
         ],
         "outputs": [
          {
           "flow": "atomic",
           "help": null,
           "label": "data",
           "meta": {},
           "name": "data",
           "series": false,
           "type": "DataFrame",
           "type_check": true
          }
         ],
         "overwritten": false,
         "published": true,
         "var_names": [
          "ReadCsvProjectSpace"
         ]
        },
        {
         "class_name": "NonSparkPath",
         "fullname": "razor.project.blocks.ayan_spark_blocks_clone.NonSparkPath",
         "id": "403d5349-b4be-4234-9451-fdcd2ae4aff3",
         "inputs": [
          {
           "dataType": "string",
           "default": "",
           "flow": "atomic",
           "help": null,
           "isdict": false,
           "islist": false,
           "label": "ip_path",
           "meta": {},
           "name": "ip_path",
           "series": false,
           "type": "str",
           "type_check": true
          }
         ],
         "outputs": [
          {
           "flow": "atomic",
           "help": null,
           "label": "op_path",
           "meta": {},
           "name": "op_path",
           "series": false,
           "type": "str",
           "type_check": true
          }
         ],
         "overwritten": false,
         "published": true,
         "var_names": [
          "NonSparkPath"
         ]
        },
        {
         "class_name": "CustMercTS",
         "fullname": "razor.flow.CustMercTS",
         "id": "468d845d-a02f-4d94-828c-2e0bb1b70be7",
         "inputs": [
          {
           "dataType": null,
           "default": null,
           "flow": "atomic",
           "help": null,
           "isdict": false,
           "islist": false,
           "label": "ip_data",
           "meta": {},
           "name": "ip_data",
           "series": false,
           "type": "DataFrame",
           "type_check": true
          },
          {
           "dataType": "dict",
           "default": {},
           "flow": "atomic",
           "help": null,
           "isdict": false,
           "islist": false,
           "label": "config",
           "meta": {},
           "name": "config",
           "series": false,
           "type": "dict",
           "type_check": true
          },
          {
           "dataType": "string",
           "default": "",
           "flow": "atomic",
           "help": null,
           "isdict": false,
           "islist": false,
           "label": "source",
           "meta": {},
           "name": "source",
           "series": false,
           "type": "str",
           "type_check": true
          }
         ],
         "outputs": [
          {
           "flow": "atomic",
           "help": null,
           "label": "customer_ts",
           "meta": {},
           "name": "customer_ts",
           "series": false,
           "type": "DataFrame",
           "type_check": true
          },
          {
           "flow": "atomic",
           "help": null,
           "label": "merchant_ts",
           "meta": {},
           "name": "merchant_ts",
           "series": false,
           "type": "DataFrame",
           "type_check": true
          }
         ],
         "overwritten": false,
         "published": false,
         "var_names": [
          "CustMercTS"
         ]
        }
       ],
       "connections": [
        {
         "id": "e4c943e2-1aab-466d-908a-1a37d222e035",
         "source": {
          "adapter": false,
          "instance_id": "d566e38e-a4a7-46c7-9bf3-b6ed35b9b613",
          "name": "data"
         },
         "target": {
          "adapter": false,
          "instance_id": "15fffe2a-2f6c-453c-a4cd-4eba5c5d81fa",
          "name": "ip_data"
         }
        },
        {
         "id": "1c0e5338-8143-4253-a191-f017bf460fc2",
         "source": {
          "adapter": false,
          "instance_id": "e0e35444-0aa1-4dfb-8277-9b986063238f",
          "name": "op_path"
         },
         "target": {
          "adapter": false,
          "instance_id": "d566e38e-a4a7-46c7-9bf3-b6ed35b9b613",
          "name": "filename"
         }
        }
       ],
       "id": "50e450df-6d88-423e-90a5-86ebf7e0295d",
       "instances": [
        {
         "block_class": "468d845d-a02f-4d94-828c-2e0bb1b70be7",
         "id": "15fffe2a-2f6c-453c-a4cd-4eba5c5d81fa",
         "name": "CustMercTS_1",
         "var_names": [
          "cm_ts"
         ]
        },
        {
         "block_class": "ff206689-5ce1-4a38-b436-e1be23ff51db",
         "id": "d566e38e-a4a7-46c7-9bf3-b6ed35b9b613",
         "name": "ReadCsvProjectSpace_1",
         "var_names": [
          "rcp"
         ]
        },
        {
         "block_class": "403d5349-b4be-4234-9451-fdcd2ae4aff3",
         "id": "e0e35444-0aa1-4dfb-8277-9b986063238f",
         "name": "NonSparkPath_1",
         "var_names": [
          "nsp"
         ]
        }
       ],
       "name": "temp",
       "var_names": []
      },
      "image/svg+xml": [
       "<?xml version=\"1.0\" encoding=\"UTF-8\" standalone=\"no\"?>\n",
       "<!DOCTYPE svg PUBLIC \"-//W3C//DTD SVG 1.1//EN\"\n",
       " \"http://www.w3.org/Graphics/SVG/1.1/DTD/svg11.dtd\">\n",
       "<!-- Generated by graphviz version 2.43.0 (0)\n",
       " -->\n",
       "<!-- Title: %3 Pages: 1 -->\n",
       "<svg width=\"306pt\" height=\"210pt\"\n",
       " viewBox=\"0.00 0.00 305.86 210.00\" xmlns=\"http://www.w3.org/2000/svg\" xmlns:xlink=\"http://www.w3.org/1999/xlink\">\n",
       "<g id=\"graph0\" class=\"graph\" transform=\"scale(1 1) rotate(0) translate(4 206)\">\n",
       "<title>%3</title>\n",
       "<polygon fill=\"white\" stroke=\"transparent\" points=\"-4,4 -4,-206 301.86,-206 301.86,4 -4,4\"/>\n",
       "<!-- CustMercTS(&#39;CustMercTS_1&#39;) -->\n",
       "<g id=\"node1\" class=\"node\">\n",
       "<title>CustMercTS(&#39;CustMercTS_1&#39;)</title>\n",
       "<ellipse fill=\"none\" stroke=\"black\" cx=\"148.93\" cy=\"-18\" rx=\"92.34\" ry=\"18\"/>\n",
       "<text text-anchor=\"middle\" x=\"148.93\" y=\"-15.5\" font-family=\"Helvetica,sans-Serif\" font-size=\"10.00\">CustMercTS(&#39;CustMercTS_1&#39;)</text>\n",
       "</g>\n",
       "<!-- ReadCsvProjectSpace(&#39;ReadCsvProjectSpace_1&#39;) -->\n",
       "<g id=\"node2\" class=\"node\">\n",
       "<title>ReadCsvProjectSpace(&#39;ReadCsvProjectSpace_1&#39;)</title>\n",
       "<ellipse fill=\"none\" stroke=\"black\" cx=\"148.93\" cy=\"-101\" rx=\"148.86\" ry=\"18\"/>\n",
       "<text text-anchor=\"middle\" x=\"148.93\" y=\"-98.5\" font-family=\"Helvetica,sans-Serif\" font-size=\"10.00\">ReadCsvProjectSpace(&#39;ReadCsvProjectSpace_1&#39;)</text>\n",
       "</g>\n",
       "<!-- ReadCsvProjectSpace(&#39;ReadCsvProjectSpace_1&#39;)&#45;&gt;CustMercTS(&#39;CustMercTS_1&#39;) -->\n",
       "<g id=\"edge1\" class=\"edge\">\n",
       "<title>ReadCsvProjectSpace(&#39;ReadCsvProjectSpace_1&#39;)&#45;&gt;CustMercTS(&#39;CustMercTS_1&#39;)</title>\n",
       "<path fill=\"none\" stroke=\"black\" d=\"M148.93,-82.82C148.93,-72.19 148.93,-58.31 148.93,-46.2\"/>\n",
       "<polygon fill=\"black\" stroke=\"black\" points=\"152.43,-46.15 148.93,-36.15 145.43,-46.15 152.43,-46.15\"/>\n",
       "<text text-anchor=\"middle\" x=\"183.93\" y=\"-57\" font-family=\"Helvetica,sans-Serif\" font-size=\"10.00\">data&#45;&gt;ip_data</text>\n",
       "</g>\n",
       "<!-- NonSparkPath(&#39;NonSparkPath_1&#39;) -->\n",
       "<g id=\"node3\" class=\"node\">\n",
       "<title>NonSparkPath(&#39;NonSparkPath_1&#39;)</title>\n",
       "<ellipse fill=\"none\" stroke=\"black\" cx=\"148.93\" cy=\"-184\" rx=\"104.56\" ry=\"18\"/>\n",
       "<text text-anchor=\"middle\" x=\"148.93\" y=\"-181.5\" font-family=\"Helvetica,sans-Serif\" font-size=\"10.00\">NonSparkPath(&#39;NonSparkPath_1&#39;)</text>\n",
       "</g>\n",
       "<!-- NonSparkPath(&#39;NonSparkPath_1&#39;)&#45;&gt;ReadCsvProjectSpace(&#39;ReadCsvProjectSpace_1&#39;) -->\n",
       "<g id=\"edge2\" class=\"edge\">\n",
       "<title>NonSparkPath(&#39;NonSparkPath_1&#39;)&#45;&gt;ReadCsvProjectSpace(&#39;ReadCsvProjectSpace_1&#39;)</title>\n",
       "<path fill=\"none\" stroke=\"black\" d=\"M148.93,-165.82C148.93,-155.19 148.93,-141.31 148.93,-129.2\"/>\n",
       "<polygon fill=\"black\" stroke=\"black\" points=\"152.43,-129.15 148.93,-119.15 145.43,-129.15 152.43,-129.15\"/>\n",
       "<text text-anchor=\"middle\" x=\"195.93\" y=\"-140\" font-family=\"Helvetica,sans-Serif\" font-size=\"10.00\">op_path&#45;&gt;filename</text>\n",
       "</g>\n",
       "</g>\n",
       "</svg>\n"
      ],
      "text/plain": [
       "<razor.flow.async_pipeline.Pipeline at 0x7fa3f3e7c250>"
      ]
     },
     "execution_count": 12,
     "metadata": {},
     "output_type": "execute_result"
    }
   ],
   "source": [
    "pipe"
   ]
  },
  {
   "cell_type": "code",
   "execution_count": null,
   "id": "portable-queensland",
   "metadata": {},
   "outputs": [
    {
     "name": "stdout",
     "output_type": "stream",
     "text": [
      "log path: /tmp/tmpmb30ti5j/temp\n"
     ]
    },
    {
     "data": {
      "application/vnd.razorthink.run+monitor+json": "/tmp/tmpmb30ti5j/temp",
      "text/plain": [
       "<razor_tools.backend.ipython.mime.run_monitor.RunMonitor at 0x7fa3f3ed8dd0>"
      ]
     },
     "metadata": {
      "application/vnd.razorthink.run+monitor+json": {
       "run_data": {
        "apm": [
         {
          "cpu_percent": 0,
          "cpu_time": 0.01,
          "name": "NonSparkPath_1",
          "real_mem": 155406336,
          "time": 1616487119.995163
         },
         {
          "cpu_percent": 0,
          "cpu_time": 0.04,
          "name": "NonSparkPath_1",
          "real_mem": 155516928,
          "time": 1616487120.1094136
         },
         {
          "cpu_percent": 0,
          "cpu_time": 0.05,
          "name": "NonSparkPath_1",
          "real_mem": 155832320,
          "time": 1616487120.222072
         },
         {
          "cpu_percent": 0,
          "cpu_time": 0.02,
          "name": "CustMercTS_1",
          "real_mem": 155725824,
          "time": 1616487120.3112197
         },
         {
          "cpu_percent": 0,
          "cpu_time": 0.01,
          "name": "ReadCsvProjectSpace_1",
          "real_mem": 155623424,
          "time": 1616487120.291511
         },
         {
          "cpu_percent": 0,
          "cpu_time": 0.06,
          "name": "NonSparkPath_1",
          "real_mem": 155951104,
          "time": 1616487120.3485587
         },
         {
          "cpu_percent": 98.3,
          "cpu_time": 0.09000000000000001,
          "name": "ReadCsvProjectSpace_1",
          "real_mem": 181559296,
          "time": 1616487120.4593363
         },
         {
          "cpu_percent": 98.4,
          "cpu_time": 0.13,
          "name": "CustMercTS_1",
          "real_mem": 184565760,
          "time": 1616487120.5030646
         },
         {
          "cpu_percent": 196.7,
          "cpu_time": 0.32,
          "name": "CustMercTS_1",
          "real_mem": 208617472,
          "time": 1616487120.6804564
         },
         {
          "cpu_percent": 195.6,
          "cpu_time": 0.25,
          "name": "ReadCsvProjectSpace_1",
          "real_mem": 198524928,
          "time": 1616487120.604955
         },
         {
          "cpu_percent": 0,
          "cpu_time": 0.09000000000000001,
          "name": "ReadCsvProjectSpace_1",
          "real_mem": 160567296,
          "time": 1616487120.7808168
         },
         {
          "cpu_percent": 98.3,
          "cpu_time": 0.11000000000000001,
          "name": "CustMercTS_1",
          "real_mem": 174968832,
          "time": 1616487120.8033106
         },
         {
          "cpu_percent": 95.4,
          "cpu_time": 0.22999999999999998,
          "name": "ReadCsvProjectSpace_1",
          "real_mem": 186920960,
          "time": 1616487120.90391
         },
         {
          "cpu_percent": 0,
          "cpu_time": 0.25,
          "name": "CustMercTS_1",
          "real_mem": 187555840,
          "time": 1616487120.9264314
         },
         {
          "cpu_percent": 175.5,
          "cpu_time": 0.4,
          "name": "ReadCsvProjectSpace_1",
          "real_mem": 210526208,
          "time": 1616487121.0709593
         },
         {
          "cpu_percent": 15.3,
          "cpu_time": 0.43,
          "name": "CustMercTS_1",
          "real_mem": 212672512,
          "time": 1616487121.1485646
         },
         {
          "cpu_percent": 284,
          "cpu_time": 0.53,
          "name": "ReadCsvProjectSpace_1",
          "real_mem": 220385280,
          "time": 1616487121.2481673
         },
         {
          "cpu_percent": 193.9,
          "cpu_time": 0.58,
          "name": "CustMercTS_1",
          "real_mem": 222818304,
          "time": 1616487121.2708848
         },
         {
          "cpu_percent": 97.8,
          "cpu_time": 0.7,
          "name": "CustMercTS_1",
          "real_mem": 234172416,
          "time": 1616487121.3942223
         },
         {
          "cpu_percent": 98,
          "cpu_time": 0.6599999999999999,
          "name": "ReadCsvProjectSpace_1",
          "real_mem": 229576704,
          "time": 1616487121.3720436
         },
         {
          "cpu_percent": 193.7,
          "cpu_time": 0.7999999999999999,
          "name": "ReadCsvProjectSpace_1",
          "real_mem": 242515968,
          "time": 1616487121.4953754
         },
         {
          "cpu_percent": 294.7,
          "cpu_time": 0.85,
          "name": "CustMercTS_1",
          "real_mem": 243867648,
          "time": 1616487121.5593889
         },
         {
          "cpu_percent": 96.2,
          "cpu_time": 0.95,
          "name": "ReadCsvProjectSpace_1",
          "real_mem": 251953152,
          "time": 1616487121.669878
         },
         {
          "cpu_percent": 294.5,
          "cpu_time": 0.99,
          "name": "CustMercTS_1",
          "real_mem": 252489728,
          "time": 1616487121.6921437
         },
         {
          "cpu_percent": 0,
          "cpu_time": 1.06,
          "name": "ReadCsvProjectSpace_1",
          "real_mem": 253644800,
          "time": 1616487121.7927988
         },
         {
          "cpu_percent": 194.6,
          "cpu_time": 1.11,
          "name": "CustMercTS_1",
          "real_mem": 253812736,
          "time": 1616487121.8151708
         },
         {
          "cpu_percent": 98.2,
          "cpu_time": 1.2300000000000002,
          "name": "CustMercTS_1",
          "real_mem": 255209472,
          "time": 1616487121.9698985
         },
         {
          "cpu_percent": 98,
          "cpu_time": 1.2000000000000002,
          "name": "ReadCsvProjectSpace_1",
          "real_mem": 254779392,
          "time": 1616487121.917123
         },
         {
          "cpu_percent": 293.5,
          "cpu_time": 1.35,
          "name": "ReadCsvProjectSpace_1",
          "real_mem": 256663552,
          "time": 1616487122.0703895
         },
         {
          "cpu_percent": 195.7,
          "cpu_time": 1.4,
          "name": "CustMercTS_1",
          "real_mem": 256946176,
          "time": 1616487122.0927997
         },
         {
          "cpu_percent": 98.4,
          "cpu_time": 1.4500000000000002,
          "name": "ReadCsvProjectSpace_1",
          "real_mem": 270143488,
          "time": 1616487122.195249
         },
         {
          "cpu_percent": 193,
          "cpu_time": 1.4900000000000002,
          "name": "CustMercTS_1",
          "real_mem": 270168064,
          "time": 1616487122.2176876
         },
         {
          "cpu_percent": 0,
          "cpu_time": 1.5899999999999999,
          "name": "ReadCsvProjectSpace_1",
          "real_mem": 272662528,
          "time": 1616487122.3485897
         },
         {
          "cpu_percent": 98,
          "cpu_time": 1.62,
          "name": "CustMercTS_1",
          "real_mem": 276447232,
          "time": 1616487122.371044
         },
         {
          "cpu_percent": 98.2,
          "cpu_time": 1.7400000000000002,
          "name": "ReadCsvProjectSpace_1",
          "real_mem": 278241280,
          "time": 1616487122.472105
         },
         {
          "cpu_percent": 196.3,
          "cpu_time": 1.7799999999999998,
          "name": "CustMercTS_1",
          "real_mem": 278298624,
          "time": 1616487122.4949806
         },
         {
          "cpu_percent": 196.5,
          "cpu_time": 1.8599999999999999,
          "name": "ReadCsvProjectSpace_1",
          "real_mem": 279543808,
          "time": 1616487122.5958474
         },
         {
          "cpu_percent": 0,
          "cpu_time": 1.88,
          "name": "CustMercTS_1",
          "real_mem": 279711744,
          "time": 1616487122.618679
         },
         {
          "cpu_percent": 0,
          "cpu_time": 1.97,
          "name": "ReadCsvProjectSpace_1",
          "real_mem": 280690688,
          "time": 1616487122.718414
         },
         {
          "cpu_percent": 98.5,
          "cpu_time": 2.0100000000000002,
          "name": "CustMercTS_1",
          "real_mem": 281206784,
          "time": 1616487122.7704103
         },
         {
          "cpu_percent": 196.2,
          "cpu_time": 2.11,
          "name": "ReadCsvProjectSpace_1",
          "real_mem": 282120192,
          "time": 1616487122.8702333
         },
         {
          "cpu_percent": 197.3,
          "cpu_time": 2.14,
          "name": "CustMercTS_1",
          "real_mem": 282779648,
          "time": 1616487122.8924587
         },
         {
          "cpu_percent": 98,
          "cpu_time": 2.2600000000000002,
          "name": "ReadCsvProjectSpace_1",
          "real_mem": 283942912,
          "time": 1616487122.9934366
         },
         {
          "cpu_percent": 97.3,
          "cpu_time": 2.3,
          "name": "CustMercTS_1",
          "real_mem": 284209152,
          "time": 1616487123.0701613
         },
         {
          "cpu_percent": 0,
          "cpu_time": 2.36,
          "name": "ReadCsvProjectSpace_1",
          "real_mem": 285011968,
          "time": 1616487123.1161659
         },
         {
          "cpu_percent": 197.3,
          "cpu_time": 2.46,
          "name": "CustMercTS_1",
          "real_mem": 285945856,
          "time": 1616487123.1933277
         },
         {
          "cpu_percent": 97.6,
          "cpu_time": 2.49,
          "name": "ReadCsvProjectSpace_1",
          "real_mem": 286212096,
          "time": 1616487123.2699842
         },
         {
          "cpu_percent": 0,
          "cpu_time": 2.5500000000000003,
          "name": "CustMercTS_1",
          "real_mem": 286539776,
          "time": 1616487123.3163197
         },
         {
          "cpu_percent": 98.5,
          "cpu_time": 2.6,
          "name": "ReadCsvProjectSpace_1",
          "real_mem": 288362496,
          "time": 1616487123.39282
         },
         {
          "cpu_percent": 97.9,
          "cpu_time": 2.67,
          "name": "CustMercTS_1",
          "real_mem": 288980992,
          "time": 1616487123.4588788
         },
         {
          "cpu_percent": 46.6,
          "cpu_time": 2.75,
          "name": "ReadCsvProjectSpace_1",
          "real_mem": 289955840,
          "time": 1616487123.5485165
         },
         {
          "cpu_percent": 98.4,
          "cpu_time": 2.81,
          "name": "CustMercTS_1",
          "real_mem": 290340864,
          "time": 1616487123.581972
         },
         {
          "cpu_percent": 97,
          "cpu_time": 2.88,
          "name": "ReadCsvProjectSpace_1",
          "real_mem": 291074048,
          "time": 1616487123.6732364
         },
         {
          "cpu_percent": 97.9,
          "cpu_time": 2.9400000000000004,
          "name": "CustMercTS_1",
          "real_mem": 291074048,
          "time": 1616487123.7067564
         },
         {
          "cpu_percent": 98.1,
          "cpu_time": 3,
          "name": "ReadCsvProjectSpace_1",
          "real_mem": 292610048,
          "time": 1616487123.7960756
         },
         {
          "cpu_percent": 285.4,
          "cpu_time": 3.0500000000000003,
          "name": "CustMercTS_1",
          "real_mem": 293298176,
          "time": 1616487123.8595893
         },
         {
          "cpu_percent": 294.7,
          "cpu_time": 3.19,
          "name": "ReadCsvProjectSpace_1",
          "real_mem": 294084608,
          "time": 1616487123.9711344
         },
         {
          "cpu_percent": 97.3,
          "cpu_time": 3.2199999999999998,
          "name": "CustMercTS_1",
          "real_mem": 294330368,
          "time": 1616487124.0485184
         },
         {
          "cpu_percent": 98.2,
          "cpu_time": 3.27,
          "name": "ReadCsvProjectSpace_1",
          "real_mem": 294969344,
          "time": 1616487124.094521
         },
         {
          "cpu_percent": 294.4,
          "cpu_time": 3.37,
          "name": "CustMercTS_1",
          "real_mem": 295411712,
          "time": 1616487124.1719007
         },
         {
          "cpu_percent": 197.1,
          "cpu_time": 3.43,
          "name": "ReadCsvProjectSpace_1",
          "real_mem": 296144896,
          "time": 1616487124.269658
         },
         {
          "cpu_percent": 196.6,
          "cpu_time": 3.49,
          "name": "CustMercTS_1",
          "real_mem": 296427520,
          "time": 1616487124.3481972
         },
         {
          "cpu_percent": 97.1,
          "cpu_time": 3.5900000000000003,
          "name": "ReadCsvProjectSpace_1",
          "real_mem": 296742912,
          "time": 1616487124.392866
         },
         {
          "cpu_percent": 294.7,
          "cpu_time": 3.65,
          "name": "CustMercTS_1",
          "real_mem": 297041920,
          "time": 1616487124.4710493
         },
         {
          "cpu_percent": 294.8,
          "cpu_time": 3.75,
          "name": "ReadCsvProjectSpace_1",
          "real_mem": 297500672,
          "time": 1616487124.5718827
         },
         {
          "cpu_percent": 195.9,
          "cpu_time": 3.8099999999999996,
          "name": "CustMercTS_1",
          "real_mem": 297975808,
          "time": 1616487124.6594472
         },
         {
          "cpu_percent": 0,
          "cpu_time": 3.99,
          "name": "ReadCsvProjectSpace_1",
          "real_mem": 300077056,
          "time": 1616487124.8697333
         },
         {
          "cpu_percent": 196.3,
          "cpu_time": 4.0600000000000005,
          "name": "CustMercTS_1",
          "real_mem": 300421120,
          "time": 1616487124.9328737
         },
         {
          "cpu_percent": 98.3,
          "cpu_time": 4.28,
          "name": "ReadCsvProjectSpace_1",
          "real_mem": 303218688,
          "time": 1616487125.1698163
         },
         {
          "cpu_percent": 292,
          "cpu_time": 4.35,
          "name": "CustMercTS_1",
          "real_mem": 303996928,
          "time": 1616487125.2064219
         },
         {
          "cpu_percent": 281.4,
          "cpu_time": 4.609999999999999,
          "name": "ReadCsvProjectSpace_1",
          "real_mem": 307998720,
          "time": 1616487125.4712741
         },
         {
          "cpu_percent": 196.4,
          "cpu_time": 4.66,
          "name": "CustMercTS_1",
          "real_mem": 308244480,
          "time": 1616487125.4934554
         },
         {
          "cpu_percent": 96.9,
          "cpu_time": 4.85,
          "name": "ReadCsvProjectSpace_1",
          "real_mem": 310616064,
          "time": 1616487125.7448442
         },
         {
          "cpu_percent": 98.2,
          "cpu_time": 4.869999999999999,
          "name": "CustMercTS_1",
          "real_mem": 311193600,
          "time": 1616487125.7707367
         },
         {
          "cpu_percent": 196.9,
          "cpu_time": 5.17,
          "name": "ReadCsvProjectSpace_1",
          "real_mem": 314589184,
          "time": 1616487126.0591044
         },
         {
          "cpu_percent": 98.3,
          "cpu_time": 5.2,
          "name": "CustMercTS_1",
          "real_mem": 315006976,
          "time": 1616487126.081375
         },
         {
          "cpu_percent": 196.2,
          "cpu_time": 5.46,
          "name": "ReadCsvProjectSpace_1",
          "real_mem": 326254592,
          "time": 1616487126.3708117
         },
         {
          "cpu_percent": 98.8,
          "cpu_time": 5.5,
          "name": "CustMercTS_1",
          "real_mem": 326619136,
          "time": 1616487126.3936186
         },
         {
          "cpu_percent": 393,
          "cpu_time": 5.7700000000000005,
          "name": "ReadCsvProjectSpace_1",
          "real_mem": 330878976,
          "time": 1616487126.670299
         },
         {
          "cpu_percent": 196.3,
          "cpu_time": 5.81,
          "name": "CustMercTS_1",
          "real_mem": 331087872,
          "time": 1616487126.6928322
         },
         {
          "cpu_percent": 98.1,
          "cpu_time": 6.04,
          "name": "ReadCsvProjectSpace_1",
          "real_mem": 333316096,
          "time": 1616487126.9706242
         },
         {
          "cpu_percent": 0,
          "cpu_time": 6.109999999999999,
          "name": "CustMercTS_1",
          "real_mem": 334319616,
          "time": 1616487127.0487058
         },
         {
          "cpu_percent": 197.3,
          "cpu_time": 6.35,
          "name": "ReadCsvProjectSpace_1",
          "real_mem": 335650816,
          "time": 1616487127.271407
         },
         {
          "cpu_percent": 98,
          "cpu_time": 6.4399999999999995,
          "name": "CustMercTS_1",
          "real_mem": 336478208,
          "time": 1616487127.3708713
         },
         {
          "cpu_percent": 98.1,
          "cpu_time": 6.619999999999999,
          "name": "ReadCsvProjectSpace_1",
          "real_mem": 338407424,
          "time": 1616487127.5694733
         },
         {
          "cpu_percent": 197.3,
          "cpu_time": 6.739999999999999,
          "name": "CustMercTS_1",
          "real_mem": 340639744,
          "time": 1616487127.6707776
         },
         {
          "cpu_percent": 294.7,
          "cpu_time": 6.93,
          "name": "ReadCsvProjectSpace_1",
          "real_mem": 342179840,
          "time": 1616487127.869861
         },
         {
          "cpu_percent": 98.2,
          "cpu_time": 7,
          "name": "CustMercTS_1",
          "real_mem": 343580672,
          "time": 1616487127.9699001
         },
         {
          "cpu_percent": 98.3,
          "cpu_time": 7.17,
          "name": "ReadCsvProjectSpace_1",
          "real_mem": 346443776,
          "time": 1616487128.1430104
         },
         {
          "cpu_percent": 294.4,
          "cpu_time": 7.33,
          "name": "CustMercTS_1",
          "real_mem": 347308032,
          "time": 1616487128.2703874
         },
         {
          "cpu_percent": 0,
          "cpu_time": 7.45,
          "name": "ReadCsvProjectSpace_1",
          "real_mem": 348225536,
          "time": 1616487128.4164267
         },
         {
          "cpu_percent": 196.3,
          "cpu_time": 7.6,
          "name": "CustMercTS_1",
          "real_mem": 351875072,
          "time": 1616487128.5704792
         },
         {
          "cpu_percent": 197.1,
          "cpu_time": 7.74,
          "name": "ReadCsvProjectSpace_1",
          "real_mem": 352493568,
          "time": 1616487128.6895127
         },
         {
          "cpu_percent": 97.9,
          "cpu_time": 7.89,
          "name": "CustMercTS_1",
          "real_mem": 354930688,
          "time": 1616487128.9014168
         },
         {
          "cpu_percent": 97.9,
          "cpu_time": 7.96,
          "name": "ReadCsvProjectSpace_1",
          "real_mem": 355717120,
          "time": 1616487128.9696264
         },
         {
          "cpu_percent": 197.2,
          "cpu_time": 8.2,
          "name": "CustMercTS_1",
          "real_mem": 357044224,
          "time": 1616487129.1745746
         },
         {
          "cpu_percent": 196.4,
          "cpu_time": 8.28,
          "name": "ReadCsvProjectSpace_1",
          "real_mem": 359952384,
          "time": 1616487129.270263
         },
         {
          "cpu_percent": 197,
          "cpu_time": 8.469999999999999,
          "name": "CustMercTS_1",
          "real_mem": 363229184,
          "time": 1616487129.4703543
         },
         {
          "cpu_percent": 195.4,
          "cpu_time": 8.549999999999999,
          "name": "ReadCsvProjectSpace_1",
          "real_mem": 365121536,
          "time": 1616487129.5695662
         },
         {
          "cpu_percent": 98.3,
          "cpu_time": 8.74,
          "name": "CustMercTS_1",
          "real_mem": 375840768,
          "time": 1616487129.7695289
         },
         {
          "cpu_percent": 196.2,
          "cpu_time": 8.85,
          "name": "ReadCsvProjectSpace_1",
          "real_mem": 377139200,
          "time": 1616487129.870957
         },
         {
          "cpu_percent": 98,
          "cpu_time": 9.04,
          "name": "CustMercTS_1",
          "real_mem": 383152128,
          "time": 1616487130.0702846
         },
         {
          "cpu_percent": 196,
          "cpu_time": 9.139999999999999,
          "name": "ReadCsvProjectSpace_1",
          "real_mem": 384983040,
          "time": 1616487130.1696696
         },
         {
          "cpu_percent": 294.9,
          "cpu_time": 9.34,
          "name": "CustMercTS_1",
          "real_mem": 388685824,
          "time": 1616487130.370775
         },
         {
          "cpu_percent": 196.2,
          "cpu_time": 9.409999999999998,
          "name": "ReadCsvProjectSpace_1",
          "real_mem": 390471680,
          "time": 1616487130.4706247
         },
         {
          "cpu_percent": 290.5,
          "cpu_time": 9.63,
          "name": "CustMercTS_1",
          "real_mem": 391688192,
          "time": 1616487130.6697414
         },
         {
          "cpu_percent": 97.3,
          "cpu_time": 9.71,
          "name": "ReadCsvProjectSpace_1",
          "real_mem": 393805824,
          "time": 1616487130.7696762
         },
         {
          "cpu_percent": 196.8,
          "cpu_time": 9.91,
          "name": "CustMercTS_1",
          "real_mem": 395706368,
          "time": 1616487130.969725
         },
         {
          "cpu_percent": 196.9,
          "cpu_time": 10.01,
          "name": "ReadCsvProjectSpace_1",
          "real_mem": 396390400,
          "time": 1616487131.0696788
         },
         {
          "cpu_percent": 98.6,
          "cpu_time": 10.2,
          "name": "CustMercTS_1",
          "real_mem": 403673088,
          "time": 1616487131.2695713
         },
         {
          "cpu_percent": 295.7,
          "cpu_time": 10.3,
          "name": "ReadCsvProjectSpace_1",
          "real_mem": 404922368,
          "time": 1616487131.3705037
         },
         {
          "cpu_percent": 294.4,
          "cpu_time": 10.49,
          "name": "CustMercTS_1",
          "real_mem": 409485312,
          "time": 1616487131.5697155
         },
         {
          "cpu_percent": 195.5,
          "cpu_time": 10.58,
          "name": "ReadCsvProjectSpace_1",
          "real_mem": 410603520,
          "time": 1616487131.6697102
         },
         {
          "cpu_percent": 293.3,
          "cpu_time": 10.77,
          "name": "CustMercTS_1",
          "real_mem": 412549120,
          "time": 1616487131.8696618
         },
         {
          "cpu_percent": 294.9,
          "cpu_time": 10.86,
          "name": "ReadCsvProjectSpace_1",
          "real_mem": 413220864,
          "time": 1616487131.97013
         },
         {
          "cpu_percent": 197.7,
          "cpu_time": 11.049999999999999,
          "name": "CustMercTS_1",
          "real_mem": 414416896,
          "time": 1616487132.1695232
         },
         {
          "cpu_percent": 142.7,
          "cpu_time": 11.129999999999999,
          "name": "ReadCsvProjectSpace_1",
          "real_mem": 416071680,
          "time": 1616487132.2734554
         },
         {
          "cpu_percent": 0,
          "cpu_time": 11.29,
          "name": "CustMercTS_1",
          "real_mem": 417415168,
          "time": 1616487132.4423237
         },
         {
          "cpu_percent": 98.3,
          "cpu_time": 11.4,
          "name": "ReadCsvProjectSpace_1",
          "real_mem": 418336768,
          "time": 1616487132.5591385
         },
         {
          "cpu_percent": 197.1,
          "cpu_time": 11.6,
          "name": "CustMercTS_1",
          "real_mem": 419299328,
          "time": 1616487132.7589817
         },
         {
          "cpu_percent": 196.3,
          "cpu_time": 11.73,
          "name": "ReadCsvProjectSpace_1",
          "real_mem": 420175872,
          "time": 1616487132.8705084
         },
         {
          "cpu_percent": 98,
          "cpu_time": 11.88,
          "name": "CustMercTS_1",
          "real_mem": 422178816,
          "time": 1616487133.0483978
         },
         {
          "cpu_percent": 97.8,
          "cpu_time": 12.22,
          "name": "ReadCsvProjectSpace_1",
          "real_mem": 426004480,
          "time": 1616487133.3934898
         },
         {
          "cpu_percent": 97.6,
          "cpu_time": 12.38,
          "name": "CustMercTS_1",
          "real_mem": 427782144,
          "time": 1616487133.5717835
         },
         {
          "cpu_percent": 97.6,
          "cpu_time": 12.74,
          "name": "ReadCsvProjectSpace_1",
          "real_mem": 430239744,
          "time": 1616487133.9175627
         },
         {
          "cpu_percent": 195.4,
          "cpu_time": 12.950000000000001,
          "name": "CustMercTS_1",
          "real_mem": 431165440,
          "time": 1616487134.0956426
         },
         {
          "cpu_percent": 294.6,
          "cpu_time": 13.3,
          "name": "ReadCsvProjectSpace_1",
          "real_mem": 433778688,
          "time": 1616487134.4708257
         },
         {
          "cpu_percent": 194.7,
          "cpu_time": 13.47,
          "name": "CustMercTS_1",
          "real_mem": 434565120,
          "time": 1616487134.670406
         },
         {
          "cpu_percent": 98,
          "cpu_time": 13.790000000000001,
          "name": "ReadCsvProjectSpace_1",
          "real_mem": 435970048,
          "time": 1616487134.9942691
         },
         {
          "cpu_percent": 98.1,
          "cpu_time": 14,
          "name": "CustMercTS_1",
          "real_mem": 436305920,
          "time": 1616487135.1939578
         },
         {
          "cpu_percent": 98.1,
          "cpu_time": 14.32,
          "name": "ReadCsvProjectSpace_1",
          "real_mem": 438480896,
          "time": 1616487135.5704858
         },
         {
          "cpu_percent": 0,
          "cpu_time": 14.48,
          "name": "CustMercTS_1",
          "real_mem": 438857728,
          "time": 1616487135.7182484
         },
         {
          "cpu_percent": 195.7,
          "cpu_time": 14.84,
          "name": "ReadCsvProjectSpace_1",
          "real_mem": 440782848,
          "time": 1616487136.0940616
         },
         {
          "cpu_percent": 195,
          "cpu_time": 15,
          "name": "CustMercTS_1",
          "real_mem": 441528320,
          "time": 1616487136.27063
         },
         {
          "cpu_percent": 97.4,
          "cpu_time": 15.35,
          "name": "ReadCsvProjectSpace_1",
          "real_mem": 443863040,
          "time": 1616487136.6182652
         },
         {
          "cpu_percent": 97.9,
          "cpu_time": 15.51,
          "name": "CustMercTS_1",
          "real_mem": 444350464,
          "time": 1616487136.7944672
         },
         {
          "cpu_percent": 196.1,
          "cpu_time": 15.88,
          "name": "ReadCsvProjectSpace_1",
          "real_mem": 446148608,
          "time": 1616487137.1695144
         },
         {
          "cpu_percent": 0,
          "cpu_time": 16.03,
          "name": "CustMercTS_1",
          "real_mem": 447250432,
          "time": 1616487137.3185475
         },
         {
          "cpu_percent": 196.6,
          "cpu_time": 16.41,
          "name": "ReadCsvProjectSpace_1",
          "real_mem": 453828608,
          "time": 1616487137.6931775
         },
         {
          "cpu_percent": 0,
          "cpu_time": 16.520000000000003,
          "name": "CustMercTS_1",
          "real_mem": 454758400,
          "time": 1616487137.848518
         },
         {
          "cpu_percent": 195.9,
          "cpu_time": 16.96,
          "name": "ReadCsvProjectSpace_1",
          "real_mem": 457162752,
          "time": 1616487138.270452
         },
         {
          "cpu_percent": 196,
          "cpu_time": 17.06,
          "name": "CustMercTS_1",
          "real_mem": 458211328,
          "time": 1616487138.3711033
         },
         {
          "cpu_percent": 195,
          "cpu_time": 17.5,
          "name": "ReadCsvProjectSpace_1",
          "real_mem": 461418496,
          "time": 1616487138.7945104
         },
         {
          "cpu_percent": 294.8,
          "cpu_time": 17.6,
          "name": "CustMercTS_1",
          "real_mem": 462274560,
          "time": 1616487138.8943462
         },
         {
          "cpu_percent": 196.5,
          "cpu_time": 18.040000000000003,
          "name": "ReadCsvProjectSpace_1",
          "real_mem": 467427328,
          "time": 1616487139.369807
         },
         {
          "cpu_percent": 294.4,
          "cpu_time": 18.130000000000003,
          "name": "CustMercTS_1",
          "real_mem": 468328448,
          "time": 1616487139.4704008
         },
         {
          "cpu_percent": 196.3,
          "cpu_time": 18.560000000000002,
          "name": "ReadCsvProjectSpace_1",
          "real_mem": 471498752,
          "time": 1616487139.893894
         },
         {
          "cpu_percent": 0,
          "cpu_time": 18.669999999999998,
          "name": "CustMercTS_1",
          "real_mem": 471715840,
          "time": 1616487139.9939098
         },
         {
          "cpu_percent": 294.8,
          "cpu_time": 19.099999999999998,
          "name": "ReadCsvProjectSpace_1",
          "real_mem": 474304512,
          "time": 1616487140.469741
         },
         {
          "cpu_percent": 297.2,
          "cpu_time": 19.2,
          "name": "CustMercTS_1",
          "real_mem": 474693632,
          "time": 1616487140.5692976
         },
         {
          "cpu_percent": 98.3,
          "cpu_time": 19.63,
          "name": "ReadCsvProjectSpace_1",
          "real_mem": 477569024,
          "time": 1616487140.993794
         },
         {
          "cpu_percent": 128.6,
          "cpu_time": 19.73,
          "name": "CustMercTS_1",
          "real_mem": 478982144,
          "time": 1616487141.1488075
         },
         {
          "cpu_percent": 196.5,
          "cpu_time": 20.16,
          "name": "ReadCsvProjectSpace_1",
          "real_mem": 482017280,
          "time": 1616487141.5698009
         },
         {
          "cpu_percent": 197.2,
          "cpu_time": 20.27,
          "name": "CustMercTS_1",
          "real_mem": 483979264,
          "time": 1616487141.6713214
         },
         {
          "cpu_percent": 196.4,
          "cpu_time": 20.689999999999998,
          "name": "ReadCsvProjectSpace_1",
          "real_mem": 487075840,
          "time": 1616487142.093
         },
         {
          "cpu_percent": 98.2,
          "cpu_time": 20.74,
          "name": "CustMercTS_1",
          "real_mem": 487075840,
          "time": 1616487142.195386
         },
         {
          "cpu_percent": 295.1,
          "cpu_time": 21.24,
          "name": "ReadCsvProjectSpace_1",
          "real_mem": 488566784,
          "time": 1616487142.6706266
         },
         {
          "cpu_percent": 196.4,
          "cpu_time": 21.330000000000002,
          "name": "CustMercTS_1",
          "real_mem": 488566784,
          "time": 1616487142.77062
         },
         {
          "cpu_percent": 98.2,
          "cpu_time": 21.76,
          "name": "ReadCsvProjectSpace_1",
          "real_mem": 489877504,
          "time": 1616487143.1941366
         },
         {
          "cpu_percent": 98.4,
          "cpu_time": 21.889999999999997,
          "name": "CustMercTS_1",
          "real_mem": 490283008,
          "time": 1616487143.3750587
         },
         {
          "cpu_percent": 97.9,
          "cpu_time": 22.41,
          "name": "CustMercTS_1",
          "real_mem": 491618304,
          "time": 1616487143.899186
         },
         {
          "cpu_percent": 294.2,
          "cpu_time": 23.47,
          "name": "CustMercTS_1",
          "real_mem": 516005888,
          "time": 1616487144.9702516
         },
         {
          "cpu_percent": 196.8,
          "cpu_time": 24.470000000000002,
          "name": "CustMercTS_1",
          "real_mem": 518377472,
          "time": 1616487145.9945588
         },
         {
          "cpu_percent": 0,
          "cpu_time": 25.44,
          "name": "CustMercTS_1",
          "real_mem": 527114240,
          "time": 1616487147.017907
         },
         {
          "cpu_percent": 98.2,
          "cpu_time": 26.45,
          "name": "CustMercTS_1",
          "real_mem": 529735680,
          "time": 1616487148.07146
         },
         {
          "cpu_percent": 98.5,
          "cpu_time": 27.46,
          "name": "CustMercTS_1",
          "real_mem": 531972096,
          "time": 1616487149.0948982
         },
         {
          "cpu_percent": 392.7,
          "cpu_time": 28.57,
          "name": "CustMercTS_1",
          "real_mem": 535113728,
          "time": 1616487150.1706958
         },
         {
          "cpu_percent": 196.8,
          "cpu_time": 29.56,
          "name": "CustMercTS_1",
          "real_mem": 539361280,
          "time": 1616487151.2591817
         },
         {
          "cpu_percent": 292.7,
          "cpu_time": 30.61,
          "name": "CustMercTS_1",
          "real_mem": 576274432,
          "time": 1616487152.2836726
         },
         {
          "cpu_percent": 295.1,
          "cpu_time": 31.64,
          "name": "CustMercTS_1",
          "real_mem": 590675968,
          "time": 1616487153.3706462
         },
         {
          "cpu_percent": 98.1,
          "cpu_time": 32.65,
          "name": "CustMercTS_1",
          "real_mem": 594718720,
          "time": 1616487154.3949127
         },
         {
          "cpu_percent": 195.6,
          "cpu_time": 33.650000000000006,
          "name": "CustMercTS_1",
          "real_mem": 595587072,
          "time": 1616487155.471475
         },
         {
          "cpu_percent": 98.1,
          "cpu_time": 34.660000000000004,
          "name": "CustMercTS_1",
          "real_mem": 597532672,
          "time": 1616487156.5482466
         },
         {
          "cpu_percent": 295.6,
          "cpu_time": 35.71,
          "name": "CustMercTS_1",
          "real_mem": 598409216,
          "time": 1616487157.571218
         },
         {
          "cpu_percent": 0,
          "cpu_time": 36.699999999999996,
          "name": "CustMercTS_1",
          "real_mem": 603598848,
          "time": 1616487158.6486819
         },
         {
          "cpu_percent": 195.6,
          "cpu_time": 37.720000000000006,
          "name": "CustMercTS_1",
          "real_mem": 607657984,
          "time": 1616487159.672634
         },
         {
          "cpu_percent": 98,
          "cpu_time": 38.7,
          "name": "CustMercTS_1",
          "real_mem": 609628160,
          "time": 1616487160.695939
         },
         {
          "cpu_percent": 294.5,
          "cpu_time": 39.79,
          "name": "CustMercTS_1",
          "real_mem": 612294656,
          "time": 1616487161.7713559
         },
         {
          "cpu_percent": 195.3,
          "cpu_time": 40.78,
          "name": "CustMercTS_1",
          "real_mem": 647413760,
          "time": 1616487162.8483303
         },
         {
          "cpu_percent": 98.2,
          "cpu_time": 41.78,
          "name": "CustMercTS_1",
          "real_mem": 681537536,
          "time": 1616487163.8820179
         },
         {
          "cpu_percent": 194.6,
          "cpu_time": 42.8,
          "name": "CustMercTS_1",
          "real_mem": 702668800,
          "time": 1616487164.9593425
         }
        ],
        "logs": [
         {
          "asctime": "2021-03-23 08:11:59,975",
          "created": 1616487119.9750276,
          "extra": {},
          "filename": "async_executors.py",
          "funcName": "main",
          "levelname": "DEBUG",
          "lineno": 114,
          "message": "NonSparkPath_1: started async block execution\n",
          "name": "engine.logs:NonSparkPath_1",
          "pathname": "/usr/local/lib/python3.7/dist-packages/razor/flow/async_executors.py",
          "process": 9069,
          "processName": "ForkProcess-1:1",
          "thread": 140344469423936,
          "threadName": "MainThread"
         },
         {
          "asctime": "2021-03-23 08:11:59,995",
          "created": 1616487119.995774,
          "extra": {},
          "filename": "async_executors.py",
          "funcName": "fill_atomic_inputs",
          "levelname": "INFO",
          "lineno": 250,
          "message": "NonSparkPath_1: waiting for atomic input: ip_path",
          "name": "engine.logs:NonSparkPath_1",
          "pathname": "/usr/local/lib/python3.7/dist-packages/razor/flow/async_executors.py",
          "process": 9069,
          "processName": "ForkProcess-1:1",
          "thread": 140344469423936,
          "threadName": "MainThread"
         },
         {
          "asctime": "2021-03-23 08:11:59,996",
          "created": 1616487119.9961236,
          "extra": {},
          "filename": "async_executors.py",
          "funcName": "fill_atomic_inputs",
          "levelname": "DEBUG",
          "lineno": 253,
          "message": "NonSparkPath_1: got atomic input: customer_data.csv",
          "name": "engine.logs:NonSparkPath_1",
          "pathname": "/usr/local/lib/python3.7/dist-packages/razor/flow/async_executors.py",
          "process": 9069,
          "processName": "ForkProcess-1:1",
          "thread": 140344469423936,
          "threadName": "MainThread"
         },
         {
          "asctime": "2021-03-23 08:11:59,996",
          "created": 1616487119.9963799,
          "extra": {},
          "filename": "async_executors.py",
          "funcName": "main",
          "levelname": "DEBUG",
          "lineno": 130,
          "message": "NonSparkPath_1: triggering block run",
          "name": "engine.logs:NonSparkPath_1",
          "pathname": "/usr/local/lib/python3.7/dist-packages/razor/flow/async_executors.py",
          "process": 9069,
          "processName": "ForkProcess-1:1",
          "thread": 140344469423936,
          "threadName": "MainThread"
         },
         {
          "asctime": "2021-03-23 08:12:00,222",
          "created": 1616487120.2224865,
          "extra": {},
          "filename": "async_executors.py",
          "funcName": "distribute_output_queue",
          "levelname": "DEBUG",
          "lineno": 308,
          "message": "NonSparkPath_1: ---- dist output: /home/aios/projectspace/customer_data.csv -> ('ReadCsvProjectSpace_1', 'filename')",
          "name": "engine.logs:NonSparkPath_1",
          "pathname": "/usr/local/lib/python3.7/dist-packages/razor/flow/async_executors.py",
          "process": 9069,
          "processName": "ForkProcess-1:1",
          "thread": 140344469423936,
          "threadName": "MainThread"
         },
         {
          "asctime": "2021-03-23 08:12:00,222",
          "created": 1616487120.222818,
          "extra": {},
          "filename": "async_executors.py",
          "funcName": "main",
          "levelname": "DEBUG",
          "lineno": 147,
          "message": "NonSparkPath_1: block thread completed",
          "name": "engine.logs:NonSparkPath_1",
          "pathname": "/usr/local/lib/python3.7/dist-packages/razor/flow/async_executors.py",
          "process": 9069,
          "processName": "ForkProcess-1:1",
          "thread": 140344469423936,
          "threadName": "MainThread"
         },
         {
          "asctime": "2021-03-23 08:12:00,222",
          "created": 1616487120.2229064,
          "extra": {},
          "filename": "async_executors.py",
          "funcName": "main",
          "levelname": "DEBUG",
          "lineno": 149,
          "message": "NonSparkPath_1: block execution complete",
          "name": "engine.logs:NonSparkPath_1",
          "pathname": "/usr/local/lib/python3.7/dist-packages/razor/flow/async_executors.py",
          "process": 9069,
          "processName": "ForkProcess-1:1",
          "thread": 140344469423936,
          "threadName": "MainThread"
         },
         {
          "asctime": "2021-03-23 08:12:00,223",
          "created": 1616487120.2230713,
          "extra": {},
          "filename": "async_executors.py",
          "funcName": "distribute_output_queue",
          "levelname": "DEBUG",
          "lineno": 308,
          "message": "NonSparkPath_1: ---- dist output: b'__!\\tEndOfStream\\t!__' -> ('ReadCsvProjectSpace_1', 'filename')",
          "name": "engine.logs:NonSparkPath_1",
          "pathname": "/usr/local/lib/python3.7/dist-packages/razor/flow/async_executors.py",
          "process": 9069,
          "processName": "ForkProcess-1:1",
          "thread": 140344469423936,
          "threadName": "MainThread"
         },
         {
          "asctime": "2021-03-23 08:12:00,274",
          "created": 1616487120.2746558,
          "extra": {},
          "filename": "async_executors.py",
          "funcName": "main",
          "levelname": "DEBUG",
          "lineno": 114,
          "message": "CustMercTS_1: started async block execution\n",
          "name": "engine.logs:CustMercTS_1",
          "pathname": "/usr/local/lib/python3.7/dist-packages/razor/flow/async_executors.py",
          "process": 9077,
          "processName": "ForkProcess-1:2",
          "thread": 140344469423936,
          "threadName": "MainThread"
         },
         {
          "asctime": "2021-03-23 08:12:00,272",
          "created": 1616487120.2728367,
          "extra": {},
          "filename": "async_executors.py",
          "funcName": "main",
          "levelname": "DEBUG",
          "lineno": 114,
          "message": "ReadCsvProjectSpace_1: started async block execution\n",
          "name": "engine.logs:ReadCsvProjectSpace_1",
          "pathname": "/usr/local/lib/python3.7/dist-packages/razor/flow/async_executors.py",
          "process": 9077,
          "processName": "ForkProcess-1:2",
          "thread": 140344469423936,
          "threadName": "MainThread"
         },
         {
          "asctime": "2021-03-23 08:12:00,311",
          "created": 1616487120.311608,
          "extra": {},
          "filename": "async_executors.py",
          "funcName": "fill_atomic_inputs",
          "levelname": "INFO",
          "lineno": 250,
          "message": "CustMercTS_1: waiting for atomic input: ip_data",
          "name": "engine.logs:CustMercTS_1",
          "pathname": "/usr/local/lib/python3.7/dist-packages/razor/flow/async_executors.py",
          "process": 9077,
          "processName": "ForkProcess-1:2",
          "thread": 140344469423936,
          "threadName": "MainThread"
         },
         {
          "asctime": "2021-03-23 08:12:00,291",
          "created": 1616487120.29172,
          "extra": {},
          "filename": "async_executors.py",
          "funcName": "fill_atomic_inputs",
          "levelname": "INFO",
          "lineno": 250,
          "message": "ReadCsvProjectSpace_1: waiting for atomic input: filename",
          "name": "engine.logs:ReadCsvProjectSpace_1",
          "pathname": "/usr/local/lib/python3.7/dist-packages/razor/flow/async_executors.py",
          "process": 9077,
          "processName": "ForkProcess-1:2",
          "thread": 140344469423936,
          "threadName": "MainThread"
         },
         {
          "asctime": "2021-03-23 08:12:00,319",
          "created": 1616487120.3192189,
          "extra": {},
          "filename": "async_executors.py",
          "funcName": "start_input_receiver",
          "levelname": "DEBUG",
          "lineno": 173,
          "message": "NonSparkPath_1: received cmd: start_sender, (), {'out_name': 'op_path', 'target': ('ReadCsvProjectSpace_1', 'filename'), 'out_addr': 'tcp://0.0.0.0:56694', 'in_memory': None}",
          "name": "engine.logs:NonSparkPath_1",
          "pathname": "/usr/local/lib/python3.7/dist-packages/razor/flow/async_executors.py",
          "process": 9069,
          "processName": "ForkProcess-1:1",
          "thread": 140344469423936,
          "threadName": "MainThread"
         },
         {
          "asctime": "2021-03-23 08:12:00,319",
          "created": 1616487120.3197093,
          "extra": {},
          "filename": "async_executors.py",
          "funcName": "start_output_sender",
          "levelname": "DEBUG",
          "lineno": 370,
          "message": "NonSparkPath_1: got start_sender, op_path, ('ReadCsvProjectSpace_1', 'filename')",
          "name": "engine.logs:NonSparkPath_1",
          "pathname": "/usr/local/lib/python3.7/dist-packages/razor/flow/async_executors.py",
          "process": 9069,
          "processName": "ForkProcess-1:1",
          "thread": 140344469423936,
          "threadName": "MainThread"
         },
         {
          "asctime": "2021-03-23 08:12:00,322",
          "created": 1616487120.3224099,
          "extra": {},
          "filename": "async_executors.py",
          "funcName": "start_input_receiver",
          "levelname": "DEBUG",
          "lineno": 177,
          "message": "ReadCsvProjectSpace_1: received data: filename, /home/aios/projectspace/customer_data.csv",
          "name": "engine.logs:ReadCsvProjectSpace_1",
          "pathname": "/usr/local/lib/python3.7/dist-packages/razor/flow/async_executors.py",
          "process": 9077,
          "processName": "ForkProcess-1:2",
          "thread": 140344469423936,
          "threadName": "MainThread"
         },
         {
          "asctime": "2021-03-23 08:12:00,323",
          "created": 1616487120.3231955,
          "extra": {},
          "filename": "async_executors.py",
          "funcName": "start_input_receiver",
          "levelname": "DEBUG",
          "lineno": 177,
          "message": "ReadCsvProjectSpace_1: received data: filename, b'__!\\tEndOfStream\\t!__'",
          "name": "engine.logs:ReadCsvProjectSpace_1",
          "pathname": "/usr/local/lib/python3.7/dist-packages/razor/flow/async_executors.py",
          "process": 9077,
          "processName": "ForkProcess-1:2",
          "thread": 140344469423936,
          "threadName": "MainThread"
         },
         {
          "asctime": "2021-03-23 08:12:00,323",
          "created": 1616487120.3234513,
          "extra": {},
          "filename": "async_executors.py",
          "funcName": "fill_atomic_inputs",
          "levelname": "DEBUG",
          "lineno": 253,
          "message": "ReadCsvProjectSpace_1: got atomic input: /home/aios/projectspace/customer_data.csv",
          "name": "engine.logs:ReadCsvProjectSpace_1",
          "pathname": "/usr/local/lib/python3.7/dist-packages/razor/flow/async_executors.py",
          "process": 9077,
          "processName": "ForkProcess-1:2",
          "thread": 140344469423936,
          "threadName": "MainThread"
         },
         {
          "asctime": "2021-03-23 08:12:00,323",
          "created": 1616487120.3235292,
          "extra": {},
          "filename": "async_executors.py",
          "funcName": "fill_atomic_inputs",
          "levelname": "INFO",
          "lineno": 250,
          "message": "ReadCsvProjectSpace_1: waiting for atomic input: config",
          "name": "engine.logs:ReadCsvProjectSpace_1",
          "pathname": "/usr/local/lib/python3.7/dist-packages/razor/flow/async_executors.py",
          "process": 9077,
          "processName": "ForkProcess-1:2",
          "thread": 140344469423936,
          "threadName": "MainThread"
         },
         {
          "asctime": "2021-03-23 08:12:00,323",
          "created": 1616487120.3236206,
          "extra": {},
          "filename": "async_executors.py",
          "funcName": "fill_atomic_inputs",
          "levelname": "DEBUG",
          "lineno": 253,
          "message": "ReadCsvProjectSpace_1: got atomic input: {}",
          "name": "engine.logs:ReadCsvProjectSpace_1",
          "pathname": "/usr/local/lib/python3.7/dist-packages/razor/flow/async_executors.py",
          "process": 9077,
          "processName": "ForkProcess-1:2",
          "thread": 140344469423936,
          "threadName": "MainThread"
         },
         {
          "asctime": "2021-03-23 08:12:00,323",
          "created": 1616487120.3236845,
          "extra": {},
          "filename": "async_executors.py",
          "funcName": "fill_atomic_inputs",
          "levelname": "INFO",
          "lineno": 250,
          "message": "ReadCsvProjectSpace_1: waiting for atomic input: source",
          "name": "engine.logs:ReadCsvProjectSpace_1",
          "pathname": "/usr/local/lib/python3.7/dist-packages/razor/flow/async_executors.py",
          "process": 9077,
          "processName": "ForkProcess-1:2",
          "thread": 140344469423936,
          "threadName": "MainThread"
         },
         {
          "asctime": "2021-03-23 08:12:00,323",
          "created": 1616487120.3237545,
          "extra": {},
          "filename": "async_executors.py",
          "funcName": "fill_atomic_inputs",
          "levelname": "DEBUG",
          "lineno": 253,
          "message": "ReadCsvProjectSpace_1: got atomic input: ",
          "name": "engine.logs:ReadCsvProjectSpace_1",
          "pathname": "/usr/local/lib/python3.7/dist-packages/razor/flow/async_executors.py",
          "process": 9077,
          "processName": "ForkProcess-1:2",
          "thread": 140344469423936,
          "threadName": "MainThread"
         },
         {
          "asctime": "2021-03-23 08:12:00,323",
          "created": 1616487120.3238316,
          "extra": {},
          "filename": "async_executors.py",
          "funcName": "main",
          "levelname": "DEBUG",
          "lineno": 130,
          "message": "ReadCsvProjectSpace_1: triggering block run",
          "name": "engine.logs:ReadCsvProjectSpace_1",
          "pathname": "/usr/local/lib/python3.7/dist-packages/razor/flow/async_executors.py",
          "process": 9077,
          "processName": "ForkProcess-1:2",
          "thread": 140344469423936,
          "threadName": "MainThread"
         },
         {
          "asctime": "2021-03-23 08:12:00,321",
          "created": 1616487120.321001,
          "extra": {},
          "filename": "async_executors.py",
          "funcName": "start_output_sender",
          "levelname": "DEBUG",
          "lineno": 388,
          "message": "NonSparkPath_1: SENT, filename, /home/aios/projectspace/customer_data.csv, ('ReadCsvProjectSpace_1', 'filename')",
          "name": "engine.logs:NonSparkPath_1",
          "pathname": "/usr/local/lib/python3.7/dist-packages/razor/flow/async_executors.py",
          "process": 9069,
          "processName": "ForkProcess-1:1",
          "thread": 140344469423936,
          "threadName": "MainThread"
         },
         {
          "asctime": "2021-03-23 08:12:00,321",
          "created": 1616487120.3213649,
          "extra": {},
          "filename": "async_executors.py",
          "funcName": "start_output_sender",
          "levelname": "DEBUG",
          "lineno": 388,
          "message": "NonSparkPath_1: SENT, filename, b'__!\\tEndOfStream\\t!__', ('ReadCsvProjectSpace_1', 'filename')",
          "name": "engine.logs:NonSparkPath_1",
          "pathname": "/usr/local/lib/python3.7/dist-packages/razor/flow/async_executors.py",
          "process": 9069,
          "processName": "ForkProcess-1:1",
          "thread": 140344469423936,
          "threadName": "MainThread"
         },
         {
          "asctime": "2021-03-23 08:12:00,321",
          "created": 1616487120.321767,
          "extra": {},
          "filename": "async_executors.py",
          "funcName": "start_output_sender",
          "levelname": "DEBUG",
          "lineno": 391,
          "message": "NonSparkPath_1: completed output: ('op_path', ('ReadCsvProjectSpace_1', 'filename'))",
          "name": "engine.logs:NonSparkPath_1",
          "pathname": "/usr/local/lib/python3.7/dist-packages/razor/flow/async_executors.py",
          "process": 9069,
          "processName": "ForkProcess-1:1",
          "thread": 140344469423936,
          "threadName": "MainThread"
         },
         {
          "asctime": "2021-03-23 08:12:00,355",
          "created": 1616487120.3554604,
          "extra": {},
          "filename": "async_executors.py",
          "funcName": "start_input_receiver",
          "levelname": "DEBUG",
          "lineno": 173,
          "message": "NonSparkPath_1: received cmd: terminate, (), {}",
          "name": "engine.logs:NonSparkPath_1",
          "pathname": "/usr/local/lib/python3.7/dist-packages/razor/flow/async_executors.py",
          "process": 9069,
          "processName": "ForkProcess-1:1",
          "thread": 140344469423936,
          "threadName": "MainThread"
         },
         {
          "asctime": "2021-03-23 08:12:23,182",
          "created": 1616487143.182058,
          "exc_info": null,
          "extra": {},
          "filename": null,
          "full_message": null,
          "funcName": null,
          "levelname": "STDOUT",
          "lineno": null,
          "message": "Hello\n",
          "name": "block.stdout:ReadCsvProjectSpace_1",
          "pathname": null,
          "process": null,
          "processName": null,
          "thread": null,
          "threadName": null
         },
         {
          "asctime": "2021-03-23 08:12:23,259",
          "created": 1616487143.259824,
          "exc_info": null,
          "extra": {},
          "filename": null,
          "full_message": null,
          "funcName": null,
          "levelname": "STDOUT",
          "lineno": null,
          "message": "root\n |-- transaction_id: string (nullable = true)\n |-- time: string (nullable = true)\n |-- customer_name: string (nullable = true)\n |-- card_number: string (nullable = true)\n |-- card_type: string (nullable = true)\n |-- physical_card_type: string (nullable = true)\n |-- merchant_id: string (nullable = true)\n |-- merchant_city: string (nullable = true)\n |-- merchant_state: string (nullable = true)\n |-- transaction_type: string (nullable = true)\n |-- transaction_type_sub: string (nullable = true)\n |-- amount: string (nullable = true)\n |-- product_type: string (nullable = true)\n |-- fraud_risk: string (nullable = true)\n |-- One Time Heavy Loot Score: string (nullable = true)\n |-- Drastic Transaction Change Pattern Score: string (nullable = true)\n |-- Parasitic Fraud Score: string (nullable = true)\n |-- Purchase Behavior Variation Score: string (nullable = true)\n |-- Preferred Merchant Variation Score: string (nullable = true)\n |-- Multiple Location Fraud Score: string (nullable = true)\n |-- Fraudster Merchant Score: string (nullable = true)\n |-- no_of_transactions_in_the_day: string (nullable = true)\n |-- max_transaction_amount_in_the_day: string (nullable = true)\n |-- avg_transaction_amount_in_the_day: string (nullable = true)\n |-- no_of_transactions_in_the_month: string (nullable = true)\n |-- max_transaction_amount_the_month: string (nullable = true)\n |-- avg_transaction_amount_the_month: string (nullable = true)\n |-- no_of_transactions_of_the_same_merchant_in_the_day: string (nullable = true)\n |-- max_transactions_of_the_same_merchant_in_the_day: string (nullable = true)\n |-- avg_transactions_of_the_same_merchant_in_the_day: string (nullable = true)\n |-- no_of_transactions_of_the_same_merchant_in_the_month: string (nullable = true)\n |-- max_transactions_of_the_same_merchant_in_the_month: string (nullable = true)\n |-- avg_transactions_of_the_same_merchant_in_the_month: string (nullable = true)\n\n",
          "name": "block.stdout:ReadCsvProjectSpace_1",
          "pathname": null,
          "process": null,
          "processName": null,
          "thread": null,
          "threadName": null
         },
         {
          "asctime": "2021-03-23 08:12:23,351",
          "created": 1616487143.3519917,
          "extra": {},
          "filename": "async_executors.py",
          "funcName": "distribute_output_queue",
          "levelname": "DEBUG",
          "lineno": 308,
          "message": "ReadCsvProjectSpace_1: ---- dist output: DataFrame[transaction_id: string, time: string, customer_name: string, card_number: string, card_type: string, physical_card_type: string, merchant_id: string, merchant_city: string, merchant_state: string, transaction_type: string, transaction_type_sub: string, amount: string, product_type: string, fraud_risk: string, One Time Heavy Loot Score: string, Drastic Transaction Change Pattern Score: string, Parasitic Fraud Score: string, Purchase Behavior Variation Score: string, Preferred Merchant Variation Score: string, Multiple Location Fraud Score: string, Fraudster Merchant Score: string, no_of_transactions_in_the_day: string, max_transaction_amount_in_the_day: string, avg_transaction_amount_in_the_day: string, no_of_transactions_in_the_month: string, max_transaction_amount_the_month: string, avg_transaction_amount_the_month: string, no_of_transactions_of_the_same_merchant_in_the_day: string, max_transactions_of_the_same_merchant_in_the_day: string, avg_transactions_of_the_same_merchant_in_the_day: string, no_of_transactions_of_the_same_merchant_in_the_month: string, max_transactions_of_the_same_merchant_in_the_month: string, avg_transactions_of_the_same_merchant_in_the_month: string] -> ('CustMercTS_1', 'ip_data')",
          "name": "engine.logs:ReadCsvProjectSpace_1",
          "pathname": "/usr/local/lib/python3.7/dist-packages/razor/flow/async_executors.py",
          "process": 9077,
          "processName": "ForkProcess-1:2",
          "thread": 140344469423936,
          "threadName": "MainThread"
         },
         {
          "asctime": "2021-03-23 08:12:23,352",
          "created": 1616487143.3524303,
          "extra": {},
          "filename": "async_executors.py",
          "funcName": "main",
          "levelname": "DEBUG",
          "lineno": 147,
          "message": "ReadCsvProjectSpace_1: block thread completed",
          "name": "engine.logs:ReadCsvProjectSpace_1",
          "pathname": "/usr/local/lib/python3.7/dist-packages/razor/flow/async_executors.py",
          "process": 9077,
          "processName": "ForkProcess-1:2",
          "thread": 140344469423936,
          "threadName": "MainThread"
         },
         {
          "asctime": "2021-03-23 08:12:23,352",
          "created": 1616487143.3525355,
          "extra": {},
          "filename": "async_executors.py",
          "funcName": "main",
          "levelname": "DEBUG",
          "lineno": 149,
          "message": "ReadCsvProjectSpace_1: block execution complete",
          "name": "engine.logs:ReadCsvProjectSpace_1",
          "pathname": "/usr/local/lib/python3.7/dist-packages/razor/flow/async_executors.py",
          "process": 9077,
          "processName": "ForkProcess-1:2",
          "thread": 140344469423936,
          "threadName": "MainThread"
         },
         {
          "asctime": "2021-03-23 08:12:23,353",
          "created": 1616487143.3530135,
          "extra": {},
          "filename": "async_executors.py",
          "funcName": "distribute_output_queue",
          "levelname": "DEBUG",
          "lineno": 308,
          "message": "ReadCsvProjectSpace_1: ---- dist output: b'__!\\tEndOfStream\\t!__' -> ('CustMercTS_1', 'ip_data')",
          "name": "engine.logs:ReadCsvProjectSpace_1",
          "pathname": "/usr/local/lib/python3.7/dist-packages/razor/flow/async_executors.py",
          "process": 9077,
          "processName": "ForkProcess-1:2",
          "thread": 140344469423936,
          "threadName": "MainThread"
         },
         {
          "asctime": "2021-03-23 08:12:23,378",
          "created": 1616487143.3788512,
          "extra": {},
          "filename": "async_executors.py",
          "funcName": "start_input_receiver",
          "levelname": "DEBUG",
          "lineno": 173,
          "message": "ReadCsvProjectSpace_1: received cmd: start_sender, (), {'out_name': 'data', 'target': ('CustMercTS_1', 'ip_data'), 'out_addr': 'tcp://0.0.0.0:60266', 'in_memory': True}",
          "name": "engine.logs:ReadCsvProjectSpace_1",
          "pathname": "/usr/local/lib/python3.7/dist-packages/razor/flow/async_executors.py",
          "process": 9077,
          "processName": "ForkProcess-1:2",
          "thread": 140344469423936,
          "threadName": "MainThread"
         },
         {
          "asctime": "2021-03-23 08:12:23,379",
          "created": 1616487143.379432,
          "extra": {},
          "filename": "async_executors.py",
          "funcName": "start_output_sender",
          "levelname": "DEBUG",
          "lineno": 370,
          "message": "ReadCsvProjectSpace_1: got start_sender, data, ('CustMercTS_1', 'ip_data')",
          "name": "engine.logs:ReadCsvProjectSpace_1",
          "pathname": "/usr/local/lib/python3.7/dist-packages/razor/flow/async_executors.py",
          "process": 9077,
          "processName": "ForkProcess-1:2",
          "thread": 140344469423936,
          "threadName": "MainThread"
         },
         {
          "asctime": "2021-03-23 08:12:23,380",
          "created": 1616487143.380903,
          "extra": {},
          "filename": "async_executors.py",
          "funcName": "start_output_sender",
          "levelname": "DEBUG",
          "lineno": 375,
          "message": "ReadCsvProjectSpace_1: SENT, ip_data, DataFrame[transaction_id: string, time: string, customer_name: string, card_number: string, card_type: string, physical_card_type: string, merchant_id: string, merchant_city: string, merchant_state: string, transaction_type: string, transaction_type_sub: string, amount: string, product_type: string, fraud_risk: string, One Time Heavy Loot Score: string, Drastic Transaction Change Pattern Score: string, Parasitic Fraud Score: string, Purchase Behavior Variation Score: string, Preferred Merchant Variation Score: string, Multiple Location Fraud Score: string, Fraudster Merchant Score: string, no_of_transactions_in_the_day: string, max_transaction_amount_in_the_day: string, avg_transaction_amount_in_the_day: string, no_of_transactions_in_the_month: string, max_transaction_amount_the_month: string, avg_transaction_amount_the_month: string, no_of_transactions_of_the_same_merchant_in_the_day: string, max_transactions_of_the_same_merchant_in_the_day: string, avg_transactions_of_the_same_merchant_in_the_day: string, no_of_transactions_of_the_same_merchant_in_the_month: string, max_transactions_of_the_same_merchant_in_the_month: string, avg_transactions_of_the_same_merchant_in_the_month: string], ('CustMercTS_1', 'ip_data')",
          "name": "engine.logs:ReadCsvProjectSpace_1",
          "pathname": "/usr/local/lib/python3.7/dist-packages/razor/flow/async_executors.py",
          "process": 9077,
          "processName": "ForkProcess-1:2",
          "thread": 140344469423936,
          "threadName": "MainThread"
         },
         {
          "asctime": "2021-03-23 08:12:23,382",
          "created": 1616487143.382662,
          "extra": {},
          "filename": "async_executors.py",
          "funcName": "fill_atomic_inputs",
          "levelname": "DEBUG",
          "lineno": 253,
          "message": "CustMercTS_1: got atomic input: DataFrame[transaction_id: string, time: string, customer_name: string, card_number: string, card_type: string, physical_card_type: string, merchant_id: string, merchant_city: string, merchant_state: string, transaction_type: string, transaction_type_sub: string, amount: string, product_type: string, fraud_risk: string, One Time Heavy Loot Score: string, Drastic Transaction Change Pattern Score: string, Parasitic Fraud Score: string, Purchase Behavior Variation Score: string, Preferred Merchant Variation Score: string, Multiple Location Fraud Score: string, Fraudster Merchant Score: string, no_of_transactions_in_the_day: string, max_transaction_amount_in_the_day: string, avg_transaction_amount_in_the_day: string, no_of_transactions_in_the_month: string, max_transaction_amount_the_month: string, avg_transaction_amount_the_month: string, no_of_transactions_of_the_same_merchant_in_the_day: string, max_transactions_of_the_same_merchant_in_the_day: string, avg_transactions_of_the_same_merchant_in_the_day: string, no_of_transactions_of_the_same_merchant_in_the_month: string, max_transactions_of_the_same_merchant_in_the_month: string, avg_transactions_of_the_same_merchant_in_the_month: string]",
          "name": "engine.logs:CustMercTS_1",
          "pathname": "/usr/local/lib/python3.7/dist-packages/razor/flow/async_executors.py",
          "process": 9077,
          "processName": "ForkProcess-1:2",
          "thread": 140344469423936,
          "threadName": "MainThread"
         },
         {
          "asctime": "2021-03-23 08:12:23,381",
          "created": 1616487143.381088,
          "extra": {},
          "filename": "async_executors.py",
          "funcName": "start_output_sender",
          "levelname": "DEBUG",
          "lineno": 375,
          "message": "ReadCsvProjectSpace_1: SENT, ip_data, b'__!\\tEndOfStream\\t!__', ('CustMercTS_1', 'ip_data')",
          "name": "engine.logs:ReadCsvProjectSpace_1",
          "pathname": "/usr/local/lib/python3.7/dist-packages/razor/flow/async_executors.py",
          "process": 9077,
          "processName": "ForkProcess-1:2",
          "thread": 140344469423936,
          "threadName": "MainThread"
         },
         {
          "asctime": "2021-03-23 08:12:23,382",
          "created": 1616487143.3828106,
          "extra": {},
          "filename": "async_executors.py",
          "funcName": "fill_atomic_inputs",
          "levelname": "INFO",
          "lineno": 250,
          "message": "CustMercTS_1: waiting for atomic input: config",
          "name": "engine.logs:CustMercTS_1",
          "pathname": "/usr/local/lib/python3.7/dist-packages/razor/flow/async_executors.py",
          "process": 9077,
          "processName": "ForkProcess-1:2",
          "thread": 140344469423936,
          "threadName": "MainThread"
         },
         {
          "asctime": "2021-03-23 08:12:23,381",
          "created": 1616487143.3811507,
          "extra": {},
          "filename": "async_executors.py",
          "funcName": "start_output_sender",
          "levelname": "DEBUG",
          "lineno": 379,
          "message": "ReadCsvProjectSpace_1: completed output: ('data', ('CustMercTS_1', 'ip_data'))",
          "name": "engine.logs:ReadCsvProjectSpace_1",
          "pathname": "/usr/local/lib/python3.7/dist-packages/razor/flow/async_executors.py",
          "process": 9077,
          "processName": "ForkProcess-1:2",
          "thread": 140344469423936,
          "threadName": "MainThread"
         },
         {
          "asctime": "2021-03-23 08:12:23,382",
          "created": 1616487143.382883,
          "extra": {},
          "filename": "async_executors.py",
          "funcName": "fill_atomic_inputs",
          "levelname": "DEBUG",
          "lineno": 253,
          "message": "CustMercTS_1: got atomic input: {}",
          "name": "engine.logs:CustMercTS_1",
          "pathname": "/usr/local/lib/python3.7/dist-packages/razor/flow/async_executors.py",
          "process": 9077,
          "processName": "ForkProcess-1:2",
          "thread": 140344469423936,
          "threadName": "MainThread"
         },
         {
          "asctime": "2021-03-23 08:12:23,387",
          "created": 1616487143.3871474,
          "extra": {},
          "filename": "async_executors.py",
          "funcName": "start_input_receiver",
          "levelname": "DEBUG",
          "lineno": 173,
          "message": "ReadCsvProjectSpace_1: received cmd: terminate, (), {}",
          "name": "engine.logs:ReadCsvProjectSpace_1",
          "pathname": "/usr/local/lib/python3.7/dist-packages/razor/flow/async_executors.py",
          "process": 9077,
          "processName": "ForkProcess-1:2",
          "thread": 140344469423936,
          "threadName": "MainThread"
         },
         {
          "asctime": "2021-03-23 08:12:23,382",
          "created": 1616487143.3829455,
          "extra": {},
          "filename": "async_executors.py",
          "funcName": "fill_atomic_inputs",
          "levelname": "INFO",
          "lineno": 250,
          "message": "CustMercTS_1: waiting for atomic input: source",
          "name": "engine.logs:CustMercTS_1",
          "pathname": "/usr/local/lib/python3.7/dist-packages/razor/flow/async_executors.py",
          "process": 9077,
          "processName": "ForkProcess-1:2",
          "thread": 140344469423936,
          "threadName": "MainThread"
         },
         {
          "asctime": "2021-03-23 08:12:23,382",
          "created": 1616487143.3829982,
          "extra": {},
          "filename": "async_executors.py",
          "funcName": "fill_atomic_inputs",
          "levelname": "DEBUG",
          "lineno": 253,
          "message": "CustMercTS_1: got atomic input: ",
          "name": "engine.logs:CustMercTS_1",
          "pathname": "/usr/local/lib/python3.7/dist-packages/razor/flow/async_executors.py",
          "process": 9077,
          "processName": "ForkProcess-1:2",
          "thread": 140344469423936,
          "threadName": "MainThread"
         },
         {
          "asctime": "2021-03-23 08:12:23,383",
          "created": 1616487143.3830574,
          "extra": {},
          "filename": "async_executors.py",
          "funcName": "main",
          "levelname": "DEBUG",
          "lineno": 130,
          "message": "CustMercTS_1: triggering block run",
          "name": "engine.logs:CustMercTS_1",
          "pathname": "/usr/local/lib/python3.7/dist-packages/razor/flow/async_executors.py",
          "process": 9077,
          "processName": "ForkProcess-1:2",
          "thread": 140344469423936,
          "threadName": "MainThread"
         },
         {
          "asctime": "2021-03-23 08:12:38,763",
          "created": 1616487158.7633543,
          "exc_info": null,
          "extra": {},
          "filename": null,
          "full_message": null,
          "funcName": null,
          "levelname": "STDOUT",
          "lineno": null,
          "message": "{clone} row count: 2202\n",
          "name": "block.stdout:CustMercTS_1",
          "pathname": null,
          "process": null,
          "processName": null,
          "thread": null,
          "threadName": null
         },
         {
          "asctime": "2021-03-23 08:12:44,956",
          "created": 1616487164.956021,
          "exc_info": "Traceback (most recent call last):\n\n  File \"/usr/local/lib/python3.7/dist-packages/razor/flow/async_executors.py\", line 276, in run_block\n    self.block.run()\n\n  File \"/usr/local/lib/python3.7/dist-packages/razor/flow/blocks.py\", line 565, in wrap_fn\n    fn(self)\n\n  File \"/home/aios/published-packages/project/blocks/ayan_spark_blocks_clone/blocks.py\", line 662, in run\n    customer_ts.show()\n\n  File \"/usr/local/lib/python3.7/dist-packages/pyspark/sql/dataframe.py\", line 440, in show\n    print(self._jdf.showString(n, 20, vertical))\n\n  File \"/usr/local/lib/python3.7/dist-packages/py4j/java_gateway.py\", line 1305, in __call__\n    answer, self.gateway_client, self.target_id, self.name)\n\n  File \"/usr/local/lib/python3.7/dist-packages/pyspark/sql/utils.py\", line 137, in deco\n    raise_from(converted)\n\n  File \"<string>\", line 3, in raise_from\n\npyspark.sql.utils.PythonException: \n  An exception was thrown from Python worker in the executor. The below is the Python worker stacktrace.\nTraceback (most recent call last):\n  File \"/opt/spark/python/lib/pyspark.zip/pyspark/worker.py\", line 589, in main\n    func, profiler, deserializer, serializer = read_udfs(pickleSer, infile, eval_type)\n  File \"/opt/spark/python/lib/pyspark.zip/pyspark/worker.py\", line 447, in read_udfs\n    udfs.append(read_single_udf(pickleSer, infile, eval_type, runner_conf, udf_index=i))\n  File \"/opt/spark/python/lib/pyspark.zip/pyspark/worker.py\", line 254, in read_single_udf\n    f, return_type = read_command(pickleSer, infile)\n  File \"/opt/spark/python/lib/pyspark.zip/pyspark/worker.py\", line 74, in read_command\n    command = serializer._read_with_length(file)\n  File \"/opt/spark/python/lib/pyspark.zip/pyspark/serializers.py\", line 172, in _read_with_length\n    return self.loads(obj)\n  File \"/opt/spark/python/lib/pyspark.zip/pyspark/serializers.py\", line 458, in loads\n    return pickle.loads(obj, encoding=encoding)\nModuleNotFoundError: No module named 'razor.project'\n\n",
          "extra": {},
          "filename": "async_executors.py",
          "full_message": "Traceback (most recent call last):\n\n  File \"/usr/local/lib/python3.7/dist-packages/razor/flow/async_executors.py\", line 276, in run_block\n    self.block.run()\n\n  File \"/usr/local/lib/python3.7/dist-packages/razor/flow/blocks.py\", line 565, in wrap_fn\n    fn(self)\n\n  File \"/home/aios/published-packages/project/blocks/ayan_spark_blocks_clone/blocks.py\", line 662, in run\n    customer_ts.show()\n\n  File \"/usr/local/lib/python3.7/dist-packages/pyspark/sql/dataframe.py\", line 440, in show\n    print(self._jdf.showString(n, 20, vertical))\n\n  File \"/usr/local/lib/python3.7/dist-packages/py4j/java_gateway.py\", line 1305, in __call__\n    answer, self.gateway_client, self.target_id, self.name)\n\n  File \"/usr/local/lib/python3.7/dist-packages/pyspark/sql/utils.py\", line 137, in deco\n    raise_from(converted)\n\n  File \"<string>\", line 3, in raise_from\n\npyspark.sql.utils.PythonException: \n  An exception was thrown from Python worker in the executor. The below is the Python worker stacktrace.\nTraceback (most recent call last):\n  File \"/opt/spark/python/lib/pyspark.zip/pyspark/worker.py\", line 589, in main\n    func, profiler, deserializer, serializer = read_udfs(pickleSer, infile, eval_type)\n  File \"/opt/spark/python/lib/pyspark.zip/pyspark/worker.py\", line 447, in read_udfs\n    udfs.append(read_single_udf(pickleSer, infile, eval_type, runner_conf, udf_index=i))\n  File \"/opt/spark/python/lib/pyspark.zip/pyspark/worker.py\", line 254, in read_single_udf\n    f, return_type = read_command(pickleSer, infile)\n  File \"/opt/spark/python/lib/pyspark.zip/pyspark/worker.py\", line 74, in read_command\n    command = serializer._read_with_length(file)\n  File \"/opt/spark/python/lib/pyspark.zip/pyspark/serializers.py\", line 172, in _read_with_length\n    return self.loads(obj)\n  File \"/opt/spark/python/lib/pyspark.zip/pyspark/serializers.py\", line 458, in loads\n    return pickle.loads(obj, encoding=encoding)\nModuleNotFoundError: No module named 'razor.project'\n\n",
          "funcName": "run_block",
          "levelname": "ERROR",
          "lineno": 278,
          "message": "\n  An exception was thrown from Python worker in the executor. The below is the Python worker stacktrace.\nTraceback (most recent call last):\n  File \"/opt/spark/python/lib/pyspark.zip/pyspark/worker.py\", line 589, in main\n    func, profiler, deserializer, serializer = read_udfs(pickleSer, infile, eval_type)\n  File \"/opt/spark/python/lib/pyspark.zip/pyspark/worker.py\", line 447, in read_udfs\n    udfs.append(read_single_udf(pickleSer, infile, eval_type, runner_conf, udf_index=i))\n  File \"/opt/spark/python/lib/pyspark.zip/pyspark/worker.py\", line 254, in read_single_udf\n    f, return_type = read_command(pickleSer, infile)\n  File \"/opt/spark/python/lib/pyspark.zip/pyspark/worker.py\", line 74, in read_command\n    command = serializer._read_with_length(file)\n  File \"/opt/spark/python/lib/pyspark.zip/pyspark/serializers.py\", line 172, in _read_with_length\n    return self.loads(obj)\n  File \"/opt/spark/python/lib/pyspark.zip/pyspark/serializers.py\", line 458, in loads\n    return pickle.loads(obj, encoding=encoding)\nModuleNotFoundError: No module named 'razor.project'\n",
          "name": "block.stderr:CustMercTS_1",
          "pathname": "/usr/local/lib/python3.7/dist-packages/razor/flow/async_executors.py",
          "process": 9077,
          "processName": "ForkProcess-1:2",
          "thread": 140343576876800,
          "threadName": "ThreadPoolExecutor-0_1"
         },
         {
          "asctime": "2021-03-23 08:12:45,056",
          "created": 1616487165.0566576,
          "extra": {},
          "filename": "async_executors.py",
          "funcName": "main",
          "levelname": "DEBUG",
          "lineno": 144,
          "message": "Block: 'CustMercTS_1': Unhandled Exception: PythonException('\\n  An exception was thrown from Python worker in the executor. The below is the Python worker stacktrace.\\nTraceback (most recent call last):\\n  File \"/opt/spark/python/lib/pyspark.zip/pyspark/worker.py\", line 589, in main\\n    func, profiler, deserializer, serializer = read_udfs(pickleSer, infile, eval_type)\\n  File \"/opt/spark/python/lib/pyspark.zip/pyspark/worker.py\", line 447, in read_udfs\\n    udfs.append(read_single_udf(pickleSer, infile, eval_type, runner_conf, udf_index=i))\\n  File \"/opt/spark/python/lib/pyspark.zip/pyspark/worker.py\", line 254, in read_single_udf\\n    f, return_type = read_command(pickleSer, infile)\\n  File \"/opt/spark/python/lib/pyspark.zip/pyspark/worker.py\", line 74, in read_command\\n    command = serializer._read_with_length(file)\\n  File \"/opt/spark/python/lib/pyspark.zip/pyspark/serializers.py\", line 172, in _read_with_length\\n    return self.loads(obj)\\n  File \"/opt/spark/python/lib/pyspark.zip/pyspark/serializers.py\", line 458, in loads\\n    return pickle.loads(obj, encoding=encoding)\\nModuleNotFoundError: No module named \\'razor.project\\'\\n', 'org.apache.spark.SparkException: Job aborted due to stage failure: Task 0 in stage 9.0 failed 1 times, most recent failure: Lost task 0.0 in stage 9.0 (TID 208, dep-ser-82849586-0b08-4fe7-9a32-4d70fc64836b-ide-846ccc7cc5n42w, executor driver): org.apache.spark.api.python.PythonException: Traceback (most recent call last):\\n  File \"/opt/spark/python/lib/pyspark.zip/pyspark/worker.py\", line 589, in main\\n    func, profiler, deserializer, serializer = read_udfs(pickleSer, infile, eval_type)\\n  File \"/opt/spark/python/lib/pyspark.zip/pyspark/worker.py\", line 447, in read_udfs\\n    udfs.append(read_single_udf(pickleSer, infile, eval_type, runner_conf, udf_index=i))\\n  File \"/opt/spark/python/lib/pyspark.zip/pyspark/worker.py\", line 254, in read_single_udf\\n    f, return_type = read_command(pickleSer, infile)\\n  File \"/opt/spark/python/lib/pyspark.zip/pyspark/worker.py\", line 74, in read_command\\n    command = serializer._read_with_length(file)\\n  File \"/opt/spark/python/lib/pyspark.zip/pyspark/serializers.py\", line 172, in _read_with_length\\n    return self.loads(obj)\\n  File \"/opt/spark/python/lib/pyspark.zip/pyspark/serializers.py\", line 458, in loads\\n    return pickle.loads(obj, encoding=encoding)\\nModuleNotFoundError: No module named \\'razor.project\\'\\n\\n\\tat org.apache.spark.api.python.BasePythonRunner$ReaderIterator.handlePythonException(PythonRunner.scala:503)\\n\\tat org.apache.spark.sql.execution.python.PythonUDFRunner$$anon$2.read(PythonUDFRunner.scala:81)\\n\\tat org.apache.spark.sql.execution.python.PythonUDFRunner$$anon$2.read(PythonUDFRunner.scala:64)\\n\\tat org.apache.spark.api.python.BasePythonRunner$ReaderIterator.hasNext(PythonRunner.scala:456)\\n\\tat org.apache.spark.InterruptibleIterator.hasNext(InterruptibleIterator.scala:37)\\n\\tat scala.collection.Iterator$$anon$11.hasNext(Iterator.scala:489)\\n\\tat scala.collection.Iterator$$anon$10.hasNext(Iterator.scala:458)\\n\\tat scala.collection.Iterator$$anon$10.hasNext(Iterator.scala:458)\\n\\tat org.apache.spark.sql.catalyst.expressions.GeneratedClass$GeneratedIteratorForCodegenStage5.processNext(Unknown Source)\\n\\tat org.apache.spark.sql.execution.BufferedRowIterator.hasNext(BufferedRowIterator.java:43)\\n\\tat org.apache.spark.sql.execution.WholeStageCodegenExec$$anon$1.hasNext(WholeStageCodegenExec.scala:729)\\n\\tat scala.collection.Iterator$$anon$10.hasNext(Iterator.scala:458)\\n\\tat scala.collection.Iterator$$anon$10.hasNext(Iterator.scala:458)\\n\\tat scala.collection.Iterator$$anon$10.hasNext(Iterator.scala:458)\\n\\tat scala.collection.Iterator$GroupedIterator.fill(Iterator.scala:1209)\\n\\tat scala.collection.Iterator$GroupedIterator.hasNext(Iterator.scala:1215)\\n\\tat scala.collection.Iterator$$anon$10.hasNext(Iterator.scala:458)\\n\\tat scala.collection.Iterator.foreach(Iterator.scala:941)\\n\\tat scala.collection.Iterator.foreach$(Iterator.scala:941)\\n\\tat scala.collection.AbstractIterator.foreach(Iterator.scala:1429)\\n\\tat org.apache.spark.api.python.PythonRDD$.writeIteratorToStream(PythonRDD.scala:295)\\n\\tat org.apache.spark.sql.execution.python.PythonUDFRunner$$anon$1.writeIteratorToStream(PythonUDFRunner.scala:50)\\n\\tat org.apache.spark.api.python.BasePythonRunner$WriterThread.$anonfun$run$1(PythonRunner.scala:383)\\n\\tat org.apache.spark.util.Utils$.logUncaughtExceptions(Utils.scala:1932)\\n\\tat org.apache.spark.api.python.BasePythonRunner$WriterThread.run(PythonRunner.scala:218)\\n\\nDriver stacktrace:\\n\\tat org.apache.spark.scheduler.DAGScheduler.failJobAndIndependentStages(DAGScheduler.scala:2023)\\n\\tat org.apache.spark.scheduler.DAGScheduler.$anonfun$abortStage$2(DAGScheduler.scala:1972)\\n\\tat org.apache.spark.scheduler.DAGScheduler.$anonfun$abortStage$2$adapted(DAGScheduler.scala:1971)\\n\\tat scala.collection.mutable.ResizableArray.foreach(ResizableArray.scala:62)\\n\\tat scala.collection.mutable.ResizableArray.foreach$(ResizableArray.scala:55)\\n\\tat scala.collection.mutable.ArrayBuffer.foreach(ArrayBuffer.scala:49)\\n\\tat org.apache.spark.scheduler.DAGScheduler.abortStage(DAGScheduler.scala:1971)\\n\\tat org.apache.spark.scheduler.DAGScheduler.$anonfun$handleTaskSetFailed$1(DAGScheduler.scala:950)\\n\\tat org.apache.spark.scheduler.DAGScheduler.$anonfun$handleTaskSetFailed$1$adapted(DAGScheduler.scala:950)\\n\\tat scala.Option.foreach(Option.scala:407)\\n\\tat org.apache.spark.scheduler.DAGScheduler.handleTaskSetFailed(DAGScheduler.scala:950)\\n\\tat org.apache.spark.scheduler.DAGSchedulerEventProcessLoop.doOnReceive(DAGScheduler.scala:2203)\\n\\tat org.apache.spark.scheduler.DAGSchedulerEventProcessLoop.onReceive(DAGScheduler.scala:2152)\\n\\tat org.apache.spark.scheduler.DAGSchedulerEventProcessLoop.onReceive(DAGScheduler.scala:2141)\\n\\tat org.apache.spark.util.EventLoop$$anon$1.run(EventLoop.scala:49)\\n\\tat org.apache.spark.scheduler.DAGScheduler.runJob(DAGScheduler.scala:752)\\n\\tat org.apache.spark.SparkContext.runJob(SparkContext.scala:2093)\\n\\tat org.apache.spark.SparkContext.runJob(SparkContext.scala:2114)\\n\\tat org.apache.spark.SparkContext.runJob(SparkContext.scala:2133)\\n\\tat org.apache.spark.sql.execution.SparkPlan.executeTake(SparkPlan.scala:467)\\n\\tat org.apache.spark.sql.execution.SparkPlan.executeTake(SparkPlan.scala:420)\\n\\tat org.apache.spark.sql.execution.CollectLimitExec.executeCollect(limit.scala:47)\\n\\tat org.apache.spark.sql.Dataset.collectFromPlan(Dataset.scala:3625)\\n\\tat org.apache.spark.sql.Dataset.$anonfun$head$1(Dataset.scala:2695)\\n\\tat org.apache.spark.sql.Dataset.$anonfun$withAction$1(Dataset.scala:3616)\\n\\tat org.apache.spark.sql.execution.SQLExecution$.$anonfun$withNewExecutionId$5(SQLExecution.scala:100)\\n\\tat org.apache.spark.sql.execution.SQLExecution$.withSQLConfPropagated(SQLExecution.scala:160)\\n\\tat org.apache.spark.sql.execution.SQLExecution$.$anonfun$withNewExecutionId$1(SQLExecution.scala:87)\\n\\tat org.apache.spark.sql.SparkSession.withActive(SparkSession.scala:763)\\n\\tat org.apache.spark.sql.execution.SQLExecution$.withNewExecutionId(SQLExecution.scala:64)\\n\\tat org.apache.spark.sql.Dataset.withAction(Dataset.scala:3614)\\n\\tat org.apache.spark.sql.Dataset.head(Dataset.scala:2695)\\n\\tat org.apache.spark.sql.Dataset.take(Dataset.scala:2902)\\n\\tat org.apache.spark.sql.Dataset.getRows(Dataset.scala:300)\\n\\tat org.apache.spark.sql.Dataset.showString(Dataset.scala:337)\\n\\tat sun.reflect.NativeMethodAccessorImpl.invoke0(Native Method)\\n\\tat sun.reflect.NativeMethodAccessorImpl.invoke(NativeMethodAccessorImpl.java:62)\\n\\tat sun.reflect.DelegatingMethodAccessorImpl.invoke(DelegatingMethodAccessorImpl.java:43)\\n\\tat java.lang.reflect.Method.invoke(Method.java:498)\\n\\tat py4j.reflection.MethodInvoker.invoke(MethodInvoker.java:244)\\n\\tat py4j.reflection.ReflectionEngine.invoke(ReflectionEngine.java:357)\\n\\tat py4j.Gateway.invoke(Gateway.java:282)\\n\\tat py4j.commands.AbstractCommand.invokeMethod(AbstractCommand.java:132)\\n\\tat py4j.commands.CallCommand.execute(CallCommand.java:79)\\n\\tat py4j.GatewayConnection.run(GatewayConnection.java:238)\\n\\tat java.lang.Thread.run(Thread.java:748)\\nCaused by: org.apache.spark.api.python.PythonException: Traceback (most recent call last):\\n  File \"/opt/spark/python/lib/pyspark.zip/pyspark/worker.py\", line 589, in main\\n    func, profiler, deserializer, serializer = read_udfs(pickleSer, infile, eval_type)\\n  File \"/opt/spark/python/lib/pyspark.zip/pyspark/worker.py\", line 447, in read_udfs\\n    udfs.append(read_single_udf(pickleSer, infile, eval_type, runner_conf, udf_index=i))\\n  File \"/opt/spark/python/lib/pyspark.zip/pyspark/worker.py\", line 254, in read_single_udf\\n    f, return_type = read_command(pickleSer, infile)\\n  File \"/opt/spark/python/lib/pyspark.zip/pyspark/worker.py\", line 74, in read_command\\n    command = serializer._read_with_length(file)\\n  File \"/opt/spark/python/lib/pyspark.zip/pyspark/serializers.py\", line 172, in _read_with_length\\n    return self.loads(obj)\\n  File \"/opt/spark/python/lib/pyspark.zip/pyspark/serializers.py\", line 458, in loads\\n    return pickle.loads(obj, encoding=encoding)\\nModuleNotFoundError: No module named \\'razor.project\\'\\n\\n\\tat org.apache.spark.api.python.BasePythonRunner$ReaderIterator.handlePythonException(PythonRunner.scala:503)\\n\\tat org.apache.spark.sql.execution.python.PythonUDFRunner$$anon$2.read(PythonUDFRunner.scala:81)\\n\\tat org.apache.spark.sql.execution.python.PythonUDFRunner$$anon$2.read(PythonUDFRunner.scala:64)\\n\\tat org.apache.spark.api.python.BasePythonRunner$ReaderIterator.hasNext(PythonRunner.scala:456)\\n\\tat org.apache.spark.InterruptibleIterator.hasNext(InterruptibleIterator.scala:37)\\n\\tat scala.collection.Iterator$$anon$11.hasNext(Iterator.scala:489)\\n\\tat scala.collection.Iterator$$anon$10.hasNext(Iterator.scala:458)\\n\\tat scala.collection.Iterator$$anon$10.hasNext(Iterator.scala:458)\\n\\tat org.apache.spark.sql.catalyst.expressions.GeneratedClass$GeneratedIteratorForCodegenStage5.processNext(Unknown Source)\\n\\tat org.apache.spark.sql.execution.BufferedRowIterator.hasNext(BufferedRowIterator.java:43)\\n\\tat org.apache.spark.sql.execution.WholeStageCodegenExec$$anon$1.hasNext(WholeStageCodegenExec.scala:729)\\n\\tat scala.collection.Iterator$$anon$10.hasNext(Iterator.scala:458)\\n\\tat scala.collection.Iterator$$anon$10.hasNext(Iterator.scala:458)\\n\\tat scala.collection.Iterator$$anon$10.hasNext(Iterator.scala:458)\\n\\tat scala.collection.Iterator$GroupedIterator.fill(Iterator.scala:1209)\\n\\tat scala.collection.Iterator$GroupedIterator.hasNext(Iterator.scala:1215)\\n\\tat scala.collection.Iterator$$anon$10.hasNext(Iterator.scala:458)\\n\\tat scala.collection.Iterator.foreach(Iterator.scala:941)\\n\\tat scala.collection.Iterator.foreach$(Iterator.scala:941)\\n\\tat scala.collection.AbstractIterator.foreach(Iterator.scala:1429)\\n\\tat org.apache.spark.api.python.PythonRDD$.writeIteratorToStream(PythonRDD.scala:295)\\n\\tat org.apache.spark.sql.execution.python.PythonUDFRunner$$anon$1.writeIteratorToStream(PythonUDFRunner.scala:50)\\n\\tat org.apache.spark.api.python.BasePythonRunner$WriterThread.$anonfun$run$1(PythonRunner.scala:383)\\n\\tat org.apache.spark.util.Utils$.logUncaughtExceptions(Utils.scala:1932)\\n\\tat org.apache.spark.api.python.BasePythonRunner$WriterThread.run(PythonRunner.scala:218)\\n'). All outputs from this block will be terminated. This may cause successor blocks to fail and pipeline to terminate incorrectly.",
          "name": "engine.logs:CustMercTS_1",
          "pathname": "/usr/local/lib/python3.7/dist-packages/razor/flow/async_executors.py",
          "process": 9077,
          "processName": "ForkProcess-1:2",
          "thread": 140344469423936,
          "threadName": "MainThread"
         },
         {
          "asctime": "2021-03-23 08:12:45,056",
          "created": 1616487165.0568516,
          "extra": {},
          "filename": "async_executors.py",
          "funcName": "main",
          "levelname": "DEBUG",
          "lineno": 147,
          "message": "CustMercTS_1: block thread completed",
          "name": "engine.logs:CustMercTS_1",
          "pathname": "/usr/local/lib/python3.7/dist-packages/razor/flow/async_executors.py",
          "process": 9077,
          "processName": "ForkProcess-1:2",
          "thread": 140344469423936,
          "threadName": "MainThread"
         },
         {
          "asctime": "2021-03-23 08:12:45,056",
          "created": 1616487165.0569708,
          "extra": {},
          "filename": "async_executors.py",
          "funcName": "main",
          "levelname": "DEBUG",
          "lineno": 149,
          "message": "CustMercTS_1: block execution complete",
          "name": "engine.logs:CustMercTS_1",
          "pathname": "/usr/local/lib/python3.7/dist-packages/razor/flow/async_executors.py",
          "process": 9077,
          "processName": "ForkProcess-1:2",
          "thread": 140344469423936,
          "threadName": "MainThread"
         }
        ],
        "meta": {
         "block_status": {
          "CustMercTS_1": "ERROR",
          "NonSparkPath_1": "SUCCESS",
          "ReadCsvProjectSpace_1": "SUCCESS"
         },
         "blocks": [
          {
           "class_name": "ReadCsvProjectSpace",
           "fullname": "razor.project.blocks.ayan_spark_blocks_clone.ReadCsvProjectSpace",
           "id": "ff206689-5ce1-4a38-b436-e1be23ff51db",
           "inputs": [
            {
             "dataType": "string",
             "default": "",
             "flow": "atomic",
             "help": null,
             "isdict": false,
             "islist": false,
             "label": "filename",
             "meta": {},
             "name": "filename",
             "series": false,
             "type": "str",
             "type_check": true
            },
            {
             "dataType": "dict",
             "default": {},
             "flow": "atomic",
             "help": null,
             "isdict": false,
             "islist": false,
             "label": "config",
             "meta": {},
             "name": "config",
             "series": false,
             "type": "dict",
             "type_check": true
            },
            {
             "dataType": "string",
             "default": "",
             "flow": "atomic",
             "help": null,
             "isdict": false,
             "islist": false,
             "label": "source",
             "meta": {},
             "name": "source",
             "series": false,
             "type": "str",
             "type_check": true
            }
           ],
           "outputs": [
            {
             "flow": "atomic",
             "help": null,
             "label": "data",
             "meta": {},
             "name": "data",
             "series": false,
             "type": "DataFrame",
             "type_check": true
            }
           ],
           "overwritten": false,
           "published": true,
           "var_names": [
            "ReadCsvProjectSpace"
           ]
          },
          {
           "class_name": "NonSparkPath",
           "fullname": "razor.project.blocks.ayan_spark_blocks_clone.NonSparkPath",
           "id": "403d5349-b4be-4234-9451-fdcd2ae4aff3",
           "inputs": [
            {
             "dataType": "string",
             "default": "",
             "flow": "atomic",
             "help": null,
             "isdict": false,
             "islist": false,
             "label": "ip_path",
             "meta": {},
             "name": "ip_path",
             "series": false,
             "type": "str",
             "type_check": true
            }
           ],
           "outputs": [
            {
             "flow": "atomic",
             "help": null,
             "label": "op_path",
             "meta": {},
             "name": "op_path",
             "series": false,
             "type": "str",
             "type_check": true
            }
           ],
           "overwritten": false,
           "published": true,
           "var_names": [
            "NonSparkPath"
           ]
          },
          {
           "class_name": "CustMercTS",
           "fullname": "razor.flow.CustMercTS",
           "id": "468d845d-a02f-4d94-828c-2e0bb1b70be7",
           "inputs": [
            {
             "dataType": null,
             "default": null,
             "flow": "atomic",
             "help": null,
             "isdict": false,
             "islist": false,
             "label": "ip_data",
             "meta": {},
             "name": "ip_data",
             "series": false,
             "type": "DataFrame",
             "type_check": true
            },
            {
             "dataType": "dict",
             "default": {},
             "flow": "atomic",
             "help": null,
             "isdict": false,
             "islist": false,
             "label": "config",
             "meta": {},
             "name": "config",
             "series": false,
             "type": "dict",
             "type_check": true
            },
            {
             "dataType": "string",
             "default": "",
             "flow": "atomic",
             "help": null,
             "isdict": false,
             "islist": false,
             "label": "source",
             "meta": {},
             "name": "source",
             "series": false,
             "type": "str",
             "type_check": true
            }
           ],
           "outputs": [
            {
             "flow": "atomic",
             "help": null,
             "label": "customer_ts",
             "meta": {},
             "name": "customer_ts",
             "series": false,
             "type": "DataFrame",
             "type_check": true
            },
            {
             "flow": "atomic",
             "help": null,
             "label": "merchant_ts",
             "meta": {},
             "name": "merchant_ts",
             "series": false,
             "type": "DataFrame",
             "type_check": true
            }
           ],
           "overwritten": false,
           "published": false,
           "var_names": [
            "CustMercTS"
           ]
          }
         ],
         "connections": [
          {
           "id": "e4c943e2-1aab-466d-908a-1a37d222e035",
           "source": {
            "adapter": false,
            "instance_id": "d566e38e-a4a7-46c7-9bf3-b6ed35b9b613",
            "name": "data"
           },
           "target": {
            "adapter": false,
            "instance_id": "15fffe2a-2f6c-453c-a4cd-4eba5c5d81fa",
            "name": "ip_data"
           }
          },
          {
           "id": "1c0e5338-8143-4253-a191-f017bf460fc2",
           "source": {
            "adapter": false,
            "instance_id": "e0e35444-0aa1-4dfb-8277-9b986063238f",
            "name": "op_path"
           },
           "target": {
            "adapter": false,
            "instance_id": "d566e38e-a4a7-46c7-9bf3-b6ed35b9b613",
            "name": "filename"
           }
          }
         ],
         "end": 1616487165.0785317,
         "id": "50e450df-6d88-423e-90a5-86ebf7e0295d",
         "instances": [
          {
           "block_class": "403d5349-b4be-4234-9451-fdcd2ae4aff3",
           "id": "e0e35444-0aa1-4dfb-8277-9b986063238f",
           "name": "NonSparkPath_1",
           "var_names": [
            "nsp"
           ]
          },
          {
           "block_class": "468d845d-a02f-4d94-828c-2e0bb1b70be7",
           "id": "15fffe2a-2f6c-453c-a4cd-4eba5c5d81fa",
           "name": "CustMercTS_1",
           "var_names": [
            "cm_ts"
           ]
          },
          {
           "block_class": "ff206689-5ce1-4a38-b436-e1be23ff51db",
           "id": "d566e38e-a4a7-46c7-9bf3-b6ed35b9b613",
           "name": "ReadCsvProjectSpace_1",
           "var_names": [
            "rcp"
           ]
          }
         ],
         "log_level": 20,
         "name": "temp",
         "start": 1616487119.9598255,
         "status": "ERROR",
         "system_logs": false,
         "var_names": []
        },
        "metrics": {},
        "runtime": {
         "CustMercTS_1": {
          "end": 1616487165.075714,
          "load": 1616487120.2247846,
          "start": 1616487120.2622118
         },
         "NonSparkPath_1": {
          "end": 1616487120.3507543,
          "load": 1616487119.961511,
          "start": 1616487119.9688268
         },
         "ReadCsvProjectSpace_1": {
          "end": 1616487143.3834598,
          "load": 1616487120.2247846,
          "start": 1616487120.2622118
         }
        }
       },
       "store_in_notebook": true
      }
     },
     "output_type": "display_data"
    },
    {
     "name": "stderr",
     "output_type": "stream",
     "text": [
      "ERROR:razor.flow.async_pipeline:Block: 'CustMercTS_1': Unhandled Exception: PythonException('\\n  An exception was thrown from Python worker in the executor. The below is the Python worker stacktrace.\\nTraceback (most recent call last):\\n  File \"/opt/spark/python/lib/pyspark.zip/pyspark/worker.py\", line 589, in main\\n    func, profiler, deserializer, serializer = read_udfs(pickleSer, infile, eval_type)\\n  File \"/opt/spark/python/lib/pyspark.zip/pyspark/worker.py\", line 447, in read_udfs\\n    udfs.append(read_single_udf(pickleSer, infile, eval_type, runner_conf, udf_index=i))\\n  File \"/opt/spark/python/lib/pyspark.zip/pyspark/worker.py\", line 254, in read_single_udf\\n    f, return_type = read_command(pickleSer, infile)\\n  File \"/opt/spark/python/lib/pyspark.zip/pyspark/worker.py\", line 74, in read_command\\n    command = serializer._read_with_length(file)\\n  File \"/opt/spark/python/lib/pyspark.zip/pyspark/serializers.py\", line 172, in _read_with_length\\n    return self.loads(obj)\\n  File \"/opt/spark/python/lib/pyspark.zip/pyspark/serializers.py\", line 458, in loads\\n    return pickle.loads(obj, encoding=encoding)\\nModuleNotFoundError: No module named \\'razor.project\\'\\n', 'org.apache.spark.SparkException: Job aborted due to stage failure: Task 0 in stage 9.0 failed 1 times, most recent failure: Lost task 0.0 in stage 9.0 (TID 208, dep-ser-82849586-0b08-4fe7-9a32-4d70fc64836b-ide-846ccc7cc5n42w, executor driver): org.apache.spark.api.python.PythonException: Traceback (most recent call last):\\n  File \"/opt/spark/python/lib/pyspark.zip/pyspark/worker.py\", line 589, in main\\n    func, profiler, deserializer, serializer = read_udfs(pickleSer, infile, eval_type)\\n  File \"/opt/spark/python/lib/pyspark.zip/pyspark/worker.py\", line 447, in read_udfs\\n    udfs.append(read_single_udf(pickleSer, infile, eval_type, runner_conf, udf_index=i))\\n  File \"/opt/spark/python/lib/pyspark.zip/pyspark/worker.py\", line 254, in read_single_udf\\n    f, return_type = read_command(pickleSer, infile)\\n  File \"/opt/spark/python/lib/pyspark.zip/pyspark/worker.py\", line 74, in read_command\\n    command = serializer._read_with_length(file)\\n  File \"/opt/spark/python/lib/pyspark.zip/pyspark/serializers.py\", line 172, in _read_with_length\\n    return self.loads(obj)\\n  File \"/opt/spark/python/lib/pyspark.zip/pyspark/serializers.py\", line 458, in loads\\n    return pickle.loads(obj, encoding=encoding)\\nModuleNotFoundError: No module named \\'razor.project\\'\\n\\n\\tat org.apache.spark.api.python.BasePythonRunner$ReaderIterator.handlePythonException(PythonRunner.scala:503)\\n\\tat org.apache.spark.sql.execution.python.PythonUDFRunner$$anon$2.read(PythonUDFRunner.scala:81)\\n\\tat org.apache.spark.sql.execution.python.PythonUDFRunner$$anon$2.read(PythonUDFRunner.scala:64)\\n\\tat org.apache.spark.api.python.BasePythonRunner$ReaderIterator.hasNext(PythonRunner.scala:456)\\n\\tat org.apache.spark.InterruptibleIterator.hasNext(InterruptibleIterator.scala:37)\\n\\tat scala.collection.Iterator$$anon$11.hasNext(Iterator.scala:489)\\n\\tat scala.collection.Iterator$$anon$10.hasNext(Iterator.scala:458)\\n\\tat scala.collection.Iterator$$anon$10.hasNext(Iterator.scala:458)\\n\\tat org.apache.spark.sql.catalyst.expressions.GeneratedClass$GeneratedIteratorForCodegenStage5.processNext(Unknown Source)\\n\\tat org.apache.spark.sql.execution.BufferedRowIterator.hasNext(BufferedRowIterator.java:43)\\n\\tat org.apache.spark.sql.execution.WholeStageCodegenExec$$anon$1.hasNext(WholeStageCodegenExec.scala:729)\\n\\tat scala.collection.Iterator$$anon$10.hasNext(Iterator.scala:458)\\n\\tat scala.collection.Iterator$$anon$10.hasNext(Iterator.scala:458)\\n\\tat scala.collection.Iterator$$anon$10.hasNext(Iterator.scala:458)\\n\\tat scala.collection.Iterator$GroupedIterator.fill(Iterator.scala:1209)\\n\\tat scala.collection.Iterator$GroupedIterator.hasNext(Iterator.scala:1215)\\n\\tat scala.collection.Iterator$$anon$10.hasNext(Iterator.scala:458)\\n\\tat scala.collection.Iterator.foreach(Iterator.scala:941)\\n\\tat scala.collection.Iterator.foreach$(Iterator.scala:941)\\n\\tat scala.collection.AbstractIterator.foreach(Iterator.scala:1429)\\n\\tat org.apache.spark.api.python.PythonRDD$.writeIteratorToStream(PythonRDD.scala:295)\\n\\tat org.apache.spark.sql.execution.python.PythonUDFRunner$$anon$1.writeIteratorToStream(PythonUDFRunner.scala:50)\\n\\tat org.apache.spark.api.python.BasePythonRunner$WriterThread.$anonfun$run$1(PythonRunner.scala:383)\\n\\tat org.apache.spark.util.Utils$.logUncaughtExceptions(Utils.scala:1932)\\n\\tat org.apache.spark.api.python.BasePythonRunner$WriterThread.run(PythonRunner.scala:218)\\n\\nDriver stacktrace:\\n\\tat org.apache.spark.scheduler.DAGScheduler.failJobAndIndependentStages(DAGScheduler.scala:2023)\\n\\tat org.apache.spark.scheduler.DAGScheduler.$anonfun$abortStage$2(DAGScheduler.scala:1972)\\n\\tat org.apache.spark.scheduler.DAGScheduler.$anonfun$abortStage$2$adapted(DAGScheduler.scala:1971)\\n\\tat scala.collection.mutable.ResizableArray.foreach(ResizableArray.scala:62)\\n\\tat scala.collection.mutable.ResizableArray.foreach$(ResizableArray.scala:55)\\n\\tat scala.collection.mutable.ArrayBuffer.foreach(ArrayBuffer.scala:49)\\n\\tat org.apache.spark.scheduler.DAGScheduler.abortStage(DAGScheduler.scala:1971)\\n\\tat org.apache.spark.scheduler.DAGScheduler.$anonfun$handleTaskSetFailed$1(DAGScheduler.scala:950)\\n\\tat org.apache.spark.scheduler.DAGScheduler.$anonfun$handleTaskSetFailed$1$adapted(DAGScheduler.scala:950)\\n\\tat scala.Option.foreach(Option.scala:407)\\n\\tat org.apache.spark.scheduler.DAGScheduler.handleTaskSetFailed(DAGScheduler.scala:950)\\n\\tat org.apache.spark.scheduler.DAGSchedulerEventProcessLoop.doOnReceive(DAGScheduler.scala:2203)\\n\\tat org.apache.spark.scheduler.DAGSchedulerEventProcessLoop.onReceive(DAGScheduler.scala:2152)\\n\\tat org.apache.spark.scheduler.DAGSchedulerEventProcessLoop.onReceive(DAGScheduler.scala:2141)\\n\\tat org.apache.spark.util.EventLoop$$anon$1.run(EventLoop.scala:49)\\n\\tat org.apache.spark.scheduler.DAGScheduler.runJob(DAGScheduler.scala:752)\\n\\tat org.apache.spark.SparkContext.runJob(SparkContext.scala:2093)\\n\\tat org.apache.spark.SparkContext.runJob(SparkContext.scala:2114)\\n\\tat org.apache.spark.SparkContext.runJob(SparkContext.scala:2133)\\n\\tat org.apache.spark.sql.execution.SparkPlan.executeTake(SparkPlan.scala:467)\\n\\tat org.apache.spark.sql.execution.SparkPlan.executeTake(SparkPlan.scala:420)\\n\\tat org.apache.spark.sql.execution.CollectLimitExec.executeCollect(limit.scala:47)\\n\\tat org.apache.spark.sql.Dataset.collectFromPlan(Dataset.scala:3625)\\n\\tat org.apache.spark.sql.Dataset.$anonfun$head$1(Dataset.scala:2695)\\n\\tat org.apache.spark.sql.Dataset.$anonfun$withAction$1(Dataset.scala:3616)\\n\\tat org.apache.spark.sql.execution.SQLExecution$.$anonfun$withNewExecutionId$5(SQLExecution.scala:100)\\n\\tat org.apache.spark.sql.execution.SQLExecution$.withSQLConfPropagated(SQLExecution.scala:160)\\n\\tat org.apache.spark.sql.execution.SQLExecution$.$anonfun$withNewExecutionId$1(SQLExecution.scala:87)\\n\\tat org.apache.spark.sql.SparkSession.withActive(SparkSession.scala:763)\\n\\tat org.apache.spark.sql.execution.SQLExecution$.withNewExecutionId(SQLExecution.scala:64)\\n\\tat org.apache.spark.sql.Dataset.withAction(Dataset.scala:3614)\\n\\tat org.apache.spark.sql.Dataset.head(Dataset.scala:2695)\\n\\tat org.apache.spark.sql.Dataset.take(Dataset.scala:2902)\\n\\tat org.apache.spark.sql.Dataset.getRows(Dataset.scala:300)\\n\\tat org.apache.spark.sql.Dataset.showString(Dataset.scala:337)\\n\\tat sun.reflect.NativeMethodAccessorImpl.invoke0(Native Method)\\n\\tat sun.reflect.NativeMethodAccessorImpl.invoke(NativeMethodAccessorImpl.java:62)\\n\\tat sun.reflect.DelegatingMethodAccessorImpl.invoke(DelegatingMethodAccessorImpl.java:43)\\n\\tat java.lang.reflect.Method.invoke(Method.java:498)\\n\\tat py4j.reflection.MethodInvoker.invoke(MethodInvoker.java:244)\\n\\tat py4j.reflection.ReflectionEngine.invoke(ReflectionEngine.java:357)\\n\\tat py4j.Gateway.invoke(Gateway.java:282)\\n\\tat py4j.commands.AbstractCommand.invokeMethod(AbstractCommand.java:132)\\n\\tat py4j.commands.CallCommand.execute(CallCommand.java:79)\\n\\tat py4j.GatewayConnection.run(GatewayConnection.java:238)\\n\\tat java.lang.Thread.run(Thread.java:748)\\nCaused by: org.apache.spark.api.python.PythonException: Traceback (most recent call last):\\n  File \"/opt/spark/python/lib/pyspark.zip/pyspark/worker.py\", line 589, in main\\n    func, profiler, deserializer, serializer = read_udfs(pickleSer, infile, eval_type)\\n  File \"/opt/spark/python/lib/pyspark.zip/pyspark/worker.py\", line 447, in read_udfs\\n    udfs.append(read_single_udf(pickleSer, infile, eval_type, runner_conf, udf_index=i))\\n  File \"/opt/spark/python/lib/pyspark.zip/pyspark/worker.py\", line 254, in read_single_udf\\n    f, return_type = read_command(pickleSer, infile)\\n  File \"/opt/spark/python/lib/pyspark.zip/pyspark/worker.py\", line 74, in read_command\\n    command = serializer._read_with_length(file)\\n  File \"/opt/spark/python/lib/pyspark.zip/pyspark/serializers.py\", line 172, in _read_with_length\\n    return self.loads(obj)\\n  File \"/opt/spark/python/lib/pyspark.zip/pyspark/serializers.py\", line 458, in loads\\n    return pickle.loads(obj, encoding=encoding)\\nModuleNotFoundError: No module named \\'razor.project\\'\\n\\n\\tat org.apache.spark.api.python.BasePythonRunner$ReaderIterator.handlePythonException(PythonRunner.scala:503)\\n\\tat org.apache.spark.sql.execution.python.PythonUDFRunner$$anon$2.read(PythonUDFRunner.scala:81)\\n\\tat org.apache.spark.sql.execution.python.PythonUDFRunner$$anon$2.read(PythonUDFRunner.scala:64)\\n\\tat org.apache.spark.api.python.BasePythonRunner$ReaderIterator.hasNext(PythonRunner.scala:456)\\n\\tat org.apache.spark.InterruptibleIterator.hasNext(InterruptibleIterator.scala:37)\\n\\tat scala.collection.Iterator$$anon$11.hasNext(Iterator.scala:489)\\n\\tat scala.collection.Iterator$$anon$10.hasNext(Iterator.scala:458)\\n\\tat scala.collection.Iterator$$anon$10.hasNext(Iterator.scala:458)\\n\\tat org.apache.spark.sql.catalyst.expressions.GeneratedClass$GeneratedIteratorForCodegenStage5.processNext(Unknown Source)\\n\\tat org.apache.spark.sql.execution.BufferedRowIterator.hasNext(BufferedRowIterator.java:43)\\n\\tat org.apache.spark.sql.execution.WholeStageCodegenExec$$anon$1.hasNext(WholeStageCodegenExec.scala:729)\\n\\tat scala.collection.Iterator$$anon$10.hasNext(Iterator.scala:458)\\n\\tat scala.collection.Iterator$$anon$10.hasNext(Iterator.scala:458)\\n\\tat scala.collection.Iterator$$anon$10.hasNext(Iterator.scala:458)\\n\\tat scala.collection.Iterator$GroupedIterator.fill(Iterator.scala:1209)\\n\\tat scala.collection.Iterator$GroupedIterator.hasNext(Iterator.scala:1215)\\n\\tat scala.collection.Iterator$$anon$10.hasNext(Iterator.scala:458)\\n\\tat scala.collection.Iterator.foreach(Iterator.scala:941)\\n\\tat scala.collection.Iterator.foreach$(Iterator.scala:941)\\n\\tat scala.collection.AbstractIterator.foreach(Iterator.scala:1429)\\n\\tat org.apache.spark.api.python.PythonRDD$.writeIteratorToStream(PythonRDD.scala:295)\\n\\tat org.apache.spark.sql.execution.python.PythonUDFRunner$$anon$1.writeIteratorToStream(PythonUDFRunner.scala:50)\\n\\tat org.apache.spark.api.python.BasePythonRunner$WriterThread.$anonfun$run$1(PythonRunner.scala:383)\\n\\tat org.apache.spark.util.Utils$.logUncaughtExceptions(Utils.scala:1932)\\n\\tat org.apache.spark.api.python.BasePythonRunner$WriterThread.run(PythonRunner.scala:218)\\n'). All outputs from this block will be terminated. This may cause successor blocks to fail and pipeline to terminate incorrectly.\n",
      "Block: 'CustMercTS_1' terminated on interruption \n",
      "\n",
      "Pipeline: 'temp' terminated on interruption\n"
     ]
    }
   ],
   "source": [
    "pipe.execute()"
   ]
  },
  {
   "cell_type": "code",
   "execution_count": null,
   "id": "descending-liability",
   "metadata": {},
   "outputs": [],
   "source": []
  },
  {
   "cell_type": "code",
   "execution_count": null,
   "id": "expected-extension",
   "metadata": {},
   "outputs": [],
   "source": [
    "pip show pyspark"
   ]
  },
  {
   "cell_type": "code",
   "execution_count": 19,
   "id": "productive-jenny",
   "metadata": {},
   "outputs": [
    {
     "ename": "AttributeError",
     "evalue": "type object 'CustMercTS' has no attribute '__file__'",
     "output_type": "error",
     "traceback": [
      "\u001b[0;31m---------------------------------------------------------------------------\u001b[0m",
      "\u001b[0;31mAttributeError\u001b[0m                            Traceback (most recent call last)",
      "\u001b[0;32m<ipython-input-19-e48698a8172e>\u001b[0m in \u001b[0;36m<module>\u001b[0;34m\u001b[0m\n\u001b[0;32m----> 1\u001b[0;31m \u001b[0mCustMercTS\u001b[0m\u001b[0;34m.\u001b[0m\u001b[0m__file__\u001b[0m\u001b[0;34m\u001b[0m\u001b[0;34m\u001b[0m\u001b[0m\n\u001b[0m",
      "\u001b[0;31mAttributeError\u001b[0m: type object 'CustMercTS' has no attribute '__file__'"
     ]
    }
   ],
   "source": []
  },
  {
   "cell_type": "code",
   "execution_count": null,
   "id": "sporting-aberdeen",
   "metadata": {},
   "outputs": [],
   "source": []
  }
 ],
 "metadata": {
  "kernelspec": {
   "display_name": "Python 3",
   "language": "python",
   "name": "python3"
  },
  "language_info": {
   "codemirror_mode": {
    "name": "ipython",
    "version": 3
   },
   "file_extension": ".py",
   "mimetype": "text/x-python",
   "name": "python",
   "nbconvert_exporter": "python",
   "pygments_lexer": "ipython3",
   "version": "3.7.10"
  }
 },
 "nbformat": 4,
 "nbformat_minor": 5
}
