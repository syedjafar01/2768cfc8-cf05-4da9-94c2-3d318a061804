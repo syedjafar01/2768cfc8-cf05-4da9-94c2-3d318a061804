{
 "cells": [
  {
   "cell_type": "code",
   "execution_count": 1,
   "id": "biological-mandate",
   "metadata": {},
   "outputs": [],
   "source": [
    "import razor\n",
    "import razor.flow as rf\n",
    "from razor import api\n",
    "from razor.flow.spark import SparkBlock, SparkExecutor\n"
   ]
  },
  {
   "cell_type": "code",
   "execution_count": 2,
   "id": "inner-blanket",
   "metadata": {},
   "outputs": [],
   "source": [
    "import os\n",
    "from datetime import datetime, timedelta\n",
    "from pyspark.sql import SparkSession, functions\n",
    "from pyspark.sql.dataframe import DataFrame\n",
    "from datetime import datetime, timedelta\n",
    "from dateutil.relativedelta import relativedelta\n",
    "from pyspark.sql.types import IntegerType, DateType, ArrayType, StringType, FloatType, TimestampType\n"
   ]
  },
  {
   "cell_type": "code",
   "execution_count": 3,
   "id": "excellent-geometry",
   "metadata": {},
   "outputs": [],
   "source": [
    "from razor.project.blocks.ayan_spark_blocks import MercStatic\n",
    "from razor.project.blocks.ayan_spark_blocks import ReadCsvProjectSpace\n",
    "from razor.project.blocks.ayan_spark_blocks import TranCityTS\n",
    "from razor.project.blocks.ayan_spark_blocks import TranTypeTS\n",
    "from razor.project.blocks.ayan_spark_blocks import NonSparkPath\n",
    "from razor.project.blocks.ayan_spark_blocks import CustStatic\n",
    "from razor.project.blocks.ayan_spark_blocks import ProdTypeTS\n",
    "from razor.project.blocks.ayan_spark_blocks import CustMercTS\n",
    "from razor.project.blocks.ayan_spark_blocks import DropDuplicates"
   ]
  },
  {
   "cell_type": "code",
   "execution_count": 4,
   "id": "timely-korean",
   "metadata": {},
   "outputs": [],
   "source": [
    "def project_space_path(path):\n",
    "    ps = api.datasources('Project Space')\n",
    "    return os.path.join(ps.abspath(), path)\n"
   ]
  },
  {
   "cell_type": "code",
   "execution_count": 5,
   "id": "female-potential",
   "metadata": {},
   "outputs": [],
   "source": [
    "@rf.block\n",
    "class Concat(SparkBlock):\n",
    "    \n",
    "    df1: DataFrame\n",
    "    df2: DataFrame\n",
    "    cols: list\n",
    "    op_df: rf.Output[DataFrame]\n",
    "    \n",
    "    def run(self):\n",
    "        merged_df = self.df1.join(self.df2, on=self.cols, how='inner')\n",
    "        self.op_df.put(merged_df)\n",
    "        "
   ]
  },
  {
   "cell_type": "code",
   "execution_count": 6,
   "id": "psychological-livestock",
   "metadata": {},
   "outputs": [],
   "source": [
    "nsp = NonSparkPath(ip_path='customer_data.csv')"
   ]
  },
  {
   "cell_type": "code",
   "execution_count": 7,
   "id": "settled-involvement",
   "metadata": {},
   "outputs": [],
   "source": [
    "rcp = ReadCsvProjectSpace(filename = nsp.op_path, config={}, source=\"\")\n",
    "rcp.executor = SparkExecutor"
   ]
  },
  {
   "cell_type": "code",
   "execution_count": 8,
   "id": "african-charm",
   "metadata": {},
   "outputs": [],
   "source": [
    "cs = CustStatic(ip_data = rcp.data, config={}, source=\"\")\n",
    "cs.executor = SparkExecutor"
   ]
  },
  {
   "cell_type": "code",
   "execution_count": 9,
   "id": "starting-bryan",
   "metadata": {},
   "outputs": [],
   "source": [
    "drp = DropDuplicates(ip_data = cs.customer_static, config={}, source=\"\")\n",
    "drp.executor = SparkExecutor"
   ]
  },
  {
   "cell_type": "code",
   "execution_count": 10,
   "id": "checked-effectiveness",
   "metadata": {},
   "outputs": [],
   "source": [
    "ms = MercStatic(ip_data = rcp.data, config={}, source=\"\")\n",
    "ms.executor = SparkExecutor"
   ]
  },
  {
   "cell_type": "code",
   "execution_count": 11,
   "id": "other-tolerance",
   "metadata": {},
   "outputs": [],
   "source": [
    "cm_ts = CustMercTS(ip_data = rcp.data, config={}, source=\"\")\n",
    "cm_ts.executor = SparkExecutor"
   ]
  },
  {
   "cell_type": "code",
   "execution_count": 12,
   "id": "important-filling",
   "metadata": {},
   "outputs": [],
   "source": [
    "pt_ts = ProdTypeTS(ip_data = rcp.data, config={}, source=\"\")\n",
    "pt_ts.executor = SparkExecutor"
   ]
  },
  {
   "cell_type": "code",
   "execution_count": 13,
   "id": "embedded-south",
   "metadata": {},
   "outputs": [],
   "source": [
    "tc_ts = TranCityTS(ip_data = rcp.data, config={}, source=\"\")\n",
    "tc_ts.executor = SparkExecutor"
   ]
  },
  {
   "cell_type": "code",
   "execution_count": 14,
   "id": "identified-municipality",
   "metadata": {},
   "outputs": [],
   "source": [
    "tt_ts = TranTypeTS(ip_data = rcp.data, config={}, source=\"\")\n",
    "tt_ts.executor = SparkExecutor"
   ]
  },
  {
   "cell_type": "code",
   "execution_count": 15,
   "id": "broad-little",
   "metadata": {},
   "outputs": [],
   "source": [
    "merged_cust = Concat(df1=cm_ts.customer_ts, df2=cs.customer_static, cols=[\"card_number\",\"customer_name\"])\n",
    "merged_merc = Concat(df1=cm_ts.merchant_ts, df2=ms.merchant_static, cols=[\"merchant_id\",\"merchant_city\",\"merchant_state\"])\n"
   ]
  },
  {
   "cell_type": "code",
   "execution_count": 16,
   "id": "three-summer",
   "metadata": {},
   "outputs": [],
   "source": [
    "pipe = rf.Pipeline('temp', targets = [merged_cust, merged_merc, pt_ts, tc_ts, tt_ts])"
   ]
  },
  {
   "cell_type": "code",
   "execution_count": 17,
   "id": "broken-header",
   "metadata": {},
   "outputs": [
    {
     "data": {
      "application/vnd.razorthink.interactive+pipeline+view+json": {
       "blocks": [
        {
         "class_name": "ReadCsvProjectSpace",
         "fullname": "razor.project.blocks.ayan_spark_blocks.ReadCsvProjectSpace",
         "id": "c372a34c-831c-41d9-a962-e79ab8ec8116",
         "inputs": [
          {
           "dataType": "string",
           "default": "",
           "flow": "atomic",
           "help": null,
           "isdict": false,
           "islist": false,
           "label": "filename",
           "meta": {},
           "name": "filename",
           "series": false,
           "type": "str",
           "type_check": true
          },
          {
           "dataType": "dict",
           "default": {},
           "flow": "atomic",
           "help": null,
           "isdict": false,
           "islist": false,
           "label": "config",
           "meta": {},
           "name": "config",
           "series": false,
           "type": "dict",
           "type_check": true
          },
          {
           "dataType": "string",
           "default": "",
           "flow": "atomic",
           "help": null,
           "isdict": false,
           "islist": false,
           "label": "source",
           "meta": {},
           "name": "source",
           "series": false,
           "type": "str",
           "type_check": true
          }
         ],
         "outputs": [
          {
           "flow": "atomic",
           "help": null,
           "label": "data",
           "meta": {},
           "name": "data",
           "series": false,
           "type": "DataFrame",
           "type_check": true
          }
         ],
         "overwritten": false,
         "published": true,
         "var_names": [
          "ReadCsvProjectSpace"
         ]
        },
        {
         "class_name": "NonSparkPath",
         "fullname": "razor.project.blocks.ayan_spark_blocks.NonSparkPath",
         "id": "8db76b5d-b3cb-4aef-a710-efebe4c37144",
         "inputs": [
          {
           "dataType": "string",
           "default": "",
           "flow": "atomic",
           "help": null,
           "isdict": false,
           "islist": false,
           "label": "ip_path",
           "meta": {},
           "name": "ip_path",
           "series": false,
           "type": "str",
           "type_check": true
          }
         ],
         "outputs": [
          {
           "flow": "atomic",
           "help": null,
           "label": "op_path",
           "meta": {},
           "name": "op_path",
           "series": false,
           "type": "str",
           "type_check": true
          }
         ],
         "overwritten": false,
         "published": true,
         "var_names": [
          "NonSparkPath"
         ]
        },
        {
         "class_name": "CustMercTS",
         "fullname": "razor.project.blocks.ayan_spark_blocks.CustMercTS",
         "id": "0e33b9f9-65b9-45e9-b723-1fc0ddcd8d31",
         "inputs": [
          {
           "dataType": null,
           "default": null,
           "flow": "atomic",
           "help": null,
           "isdict": false,
           "islist": false,
           "label": "ip_data",
           "meta": {},
           "name": "ip_data",
           "series": false,
           "type": "DataFrame",
           "type_check": true
          },
          {
           "dataType": "dict",
           "default": {},
           "flow": "atomic",
           "help": null,
           "isdict": false,
           "islist": false,
           "label": "config",
           "meta": {},
           "name": "config",
           "series": false,
           "type": "dict",
           "type_check": true
          },
          {
           "dataType": "string",
           "default": "",
           "flow": "atomic",
           "help": null,
           "isdict": false,
           "islist": false,
           "label": "source",
           "meta": {},
           "name": "source",
           "series": false,
           "type": "str",
           "type_check": true
          }
         ],
         "outputs": [
          {
           "flow": "atomic",
           "help": null,
           "label": "customer_ts",
           "meta": {},
           "name": "customer_ts",
           "series": false,
           "type": "DataFrame",
           "type_check": true
          },
          {
           "flow": "atomic",
           "help": null,
           "label": "merchant_ts",
           "meta": {},
           "name": "merchant_ts",
           "series": false,
           "type": "DataFrame",
           "type_check": true
          }
         ],
         "overwritten": false,
         "published": true,
         "var_names": [
          "CustMercTS"
         ]
        },
        {
         "class_name": "TranTypeTS",
         "fullname": "razor.project.blocks.ayan_spark_blocks.TranTypeTS",
         "id": "bc1fc737-66ef-43aa-9f6a-fb8d0ac71142",
         "inputs": [
          {
           "dataType": null,
           "default": null,
           "flow": "atomic",
           "help": null,
           "isdict": false,
           "islist": false,
           "label": "ip_data",
           "meta": {},
           "name": "ip_data",
           "series": false,
           "type": "DataFrame",
           "type_check": true
          },
          {
           "dataType": "dict",
           "default": {},
           "flow": "atomic",
           "help": null,
           "isdict": false,
           "islist": false,
           "label": "config",
           "meta": {},
           "name": "config",
           "series": false,
           "type": "dict",
           "type_check": true
          },
          {
           "dataType": "string",
           "default": "",
           "flow": "atomic",
           "help": null,
           "isdict": false,
           "islist": false,
           "label": "source",
           "meta": {},
           "name": "source",
           "series": false,
           "type": "str",
           "type_check": true
          }
         ],
         "outputs": [
          {
           "flow": "atomic",
           "help": null,
           "label": "tran_type_ts",
           "meta": {},
           "name": "tran_type_ts",
           "series": false,
           "type": "DataFrame",
           "type_check": true
          }
         ],
         "overwritten": false,
         "published": true,
         "var_names": [
          "TranTypeTS"
         ]
        },
        {
         "class_name": "Concat",
         "fullname": ".Concat",
         "id": "29111245-a7c8-4de2-9a72-74904b6777b6",
         "inputs": [
          {
           "dataType": null,
           "default": null,
           "flow": "atomic",
           "help": null,
           "isdict": false,
           "islist": false,
           "label": "df1",
           "meta": {},
           "name": "df1",
           "series": false,
           "type": "DataFrame",
           "type_check": true
          },
          {
           "dataType": null,
           "default": null,
           "flow": "atomic",
           "help": null,
           "isdict": false,
           "islist": false,
           "label": "df2",
           "meta": {},
           "name": "df2",
           "series": false,
           "type": "DataFrame",
           "type_check": true
          },
          {
           "dataType": "list",
           "default": [],
           "flow": "atomic",
           "help": null,
           "isdict": false,
           "islist": false,
           "label": "cols",
           "meta": {},
           "name": "cols",
           "series": false,
           "type": "list",
           "type_check": true
          },
          {
           "dataType": "dict",
           "default": {},
           "flow": "atomic",
           "help": null,
           "isdict": false,
           "islist": false,
           "label": "config",
           "meta": {},
           "name": "config",
           "series": false,
           "type": "dict",
           "type_check": true
          },
          {
           "dataType": "string",
           "default": "",
           "flow": "atomic",
           "help": null,
           "isdict": false,
           "islist": false,
           "label": "source",
           "meta": {},
           "name": "source",
           "series": false,
           "type": "str",
           "type_check": true
          }
         ],
         "outputs": [
          {
           "flow": "atomic",
           "help": null,
           "label": "op_df",
           "meta": {},
           "name": "op_df",
           "series": false,
           "type": "DataFrame",
           "type_check": true
          }
         ],
         "overwritten": false,
         "published": false,
         "var_names": [
          "Concat"
         ]
        },
        {
         "class_name": "MercStatic",
         "fullname": "razor.project.blocks.ayan_spark_blocks.MercStatic",
         "id": "492305b6-0d3a-4431-ad72-43781f34eba4",
         "inputs": [
          {
           "dataType": null,
           "default": null,
           "flow": "atomic",
           "help": null,
           "isdict": false,
           "islist": false,
           "label": "ip_data",
           "meta": {},
           "name": "ip_data",
           "series": false,
           "type": "DataFrame",
           "type_check": true
          },
          {
           "dataType": "dict",
           "default": {},
           "flow": "atomic",
           "help": null,
           "isdict": false,
           "islist": false,
           "label": "config",
           "meta": {},
           "name": "config",
           "series": false,
           "type": "dict",
           "type_check": true
          },
          {
           "dataType": "string",
           "default": "",
           "flow": "atomic",
           "help": null,
           "isdict": false,
           "islist": false,
           "label": "source",
           "meta": {},
           "name": "source",
           "series": false,
           "type": "str",
           "type_check": true
          }
         ],
         "outputs": [
          {
           "flow": "atomic",
           "help": null,
           "label": "merchant_static",
           "meta": {},
           "name": "merchant_static",
           "series": false,
           "type": "DataFrame",
           "type_check": true
          }
         ],
         "overwritten": false,
         "published": true,
         "var_names": [
          "MercStatic"
         ]
        },
        {
         "class_name": "TranCityTS",
         "fullname": "razor.project.blocks.ayan_spark_blocks.TranCityTS",
         "id": "3f055367-b80f-4bfc-baa6-57caa5574dfc",
         "inputs": [
          {
           "dataType": null,
           "default": null,
           "flow": "atomic",
           "help": null,
           "isdict": false,
           "islist": false,
           "label": "ip_data",
           "meta": {},
           "name": "ip_data",
           "series": false,
           "type": "DataFrame",
           "type_check": true
          },
          {
           "dataType": "dict",
           "default": {},
           "flow": "atomic",
           "help": null,
           "isdict": false,
           "islist": false,
           "label": "config",
           "meta": {},
           "name": "config",
           "series": false,
           "type": "dict",
           "type_check": true
          },
          {
           "dataType": "string",
           "default": "",
           "flow": "atomic",
           "help": null,
           "isdict": false,
           "islist": false,
           "label": "source",
           "meta": {},
           "name": "source",
           "series": false,
           "type": "str",
           "type_check": true
          }
         ],
         "outputs": [
          {
           "flow": "atomic",
           "help": null,
           "label": "tran_city_ts",
           "meta": {},
           "name": "tran_city_ts",
           "series": false,
           "type": "DataFrame",
           "type_check": true
          }
         ],
         "overwritten": false,
         "published": true,
         "var_names": [
          "TranCityTS"
         ]
        },
        {
         "class_name": "ProdTypeTS",
         "fullname": "razor.project.blocks.ayan_spark_blocks.ProdTypeTS",
         "id": "d06d2826-a2b1-4d9a-918b-efe595696cb5",
         "inputs": [
          {
           "dataType": null,
           "default": null,
           "flow": "atomic",
           "help": null,
           "isdict": false,
           "islist": false,
           "label": "ip_data",
           "meta": {},
           "name": "ip_data",
           "series": false,
           "type": "DataFrame",
           "type_check": true
          },
          {
           "dataType": "dict",
           "default": {},
           "flow": "atomic",
           "help": null,
           "isdict": false,
           "islist": false,
           "label": "config",
           "meta": {},
           "name": "config",
           "series": false,
           "type": "dict",
           "type_check": true
          },
          {
           "dataType": "string",
           "default": "",
           "flow": "atomic",
           "help": null,
           "isdict": false,
           "islist": false,
           "label": "source",
           "meta": {},
           "name": "source",
           "series": false,
           "type": "str",
           "type_check": true
          }
         ],
         "outputs": [
          {
           "flow": "atomic",
           "help": null,
           "label": "prod_type_ts",
           "meta": {},
           "name": "prod_type_ts",
           "series": false,
           "type": "DataFrame",
           "type_check": true
          }
         ],
         "overwritten": false,
         "published": true,
         "var_names": [
          "ProdTypeTS"
         ]
        },
        {
         "class_name": "CustStatic",
         "fullname": "razor.project.blocks.ayan_spark_blocks.CustStatic",
         "id": "ac110c57-600f-4c95-95c0-06e32d034412",
         "inputs": [
          {
           "dataType": null,
           "default": null,
           "flow": "atomic",
           "help": null,
           "isdict": false,
           "islist": false,
           "label": "ip_data",
           "meta": {},
           "name": "ip_data",
           "series": false,
           "type": "DataFrame",
           "type_check": true
          },
          {
           "dataType": "dict",
           "default": {},
           "flow": "atomic",
           "help": null,
           "isdict": false,
           "islist": false,
           "label": "config",
           "meta": {},
           "name": "config",
           "series": false,
           "type": "dict",
           "type_check": true
          },
          {
           "dataType": "string",
           "default": "",
           "flow": "atomic",
           "help": null,
           "isdict": false,
           "islist": false,
           "label": "source",
           "meta": {},
           "name": "source",
           "series": false,
           "type": "str",
           "type_check": true
          }
         ],
         "outputs": [
          {
           "flow": "atomic",
           "help": null,
           "label": "customer_static",
           "meta": {},
           "name": "customer_static",
           "series": false,
           "type": "DataFrame",
           "type_check": true
          }
         ],
         "overwritten": false,
         "published": true,
         "var_names": [
          "CustStatic"
         ]
        }
       ],
       "connections": [
        {
         "id": "74ccae69-733f-4046-8a9f-b1b5c41428ce",
         "source": {
          "adapter": false,
          "instance_id": "895631a4-9c71-4ce1-b3c1-17f5b22d0a5c",
          "name": "data"
         },
         "target": {
          "adapter": false,
          "instance_id": "df18fcb9-7d9e-4af0-b6a8-6043225dc403",
          "name": "ip_data"
         }
        },
        {
         "id": "648a27a7-bfea-45ff-aedb-ceb97408a145",
         "source": {
          "adapter": false,
          "instance_id": "895631a4-9c71-4ce1-b3c1-17f5b22d0a5c",
          "name": "data"
         },
         "target": {
          "adapter": false,
          "instance_id": "2a48a2c8-57c2-44f5-a811-dfc84ee098eb",
          "name": "ip_data"
         }
        },
        {
         "id": "bbdc4c4e-dde5-4ad7-a91b-7d14aba06560",
         "source": {
          "adapter": false,
          "instance_id": "5e7dd9c6-f556-45fe-ba0b-eb9a81b87329",
          "name": "customer_ts"
         },
         "target": {
          "adapter": false,
          "instance_id": "f3a0cf89-5803-470e-96f0-3f22882f435c",
          "name": "df1"
         }
        },
        {
         "id": "0f02b272-9355-4c8f-b7bb-8f1429154652",
         "source": {
          "adapter": false,
          "instance_id": "895631a4-9c71-4ce1-b3c1-17f5b22d0a5c",
          "name": "data"
         },
         "target": {
          "adapter": false,
          "instance_id": "5e7dd9c6-f556-45fe-ba0b-eb9a81b87329",
          "name": "ip_data"
         }
        },
        {
         "id": "46422ecf-384c-4b1a-b48c-4e91abeecbf4",
         "source": {
          "adapter": false,
          "instance_id": "d2c5b481-b10a-4a82-aa83-8d9078ac2fbc",
          "name": "op_path"
         },
         "target": {
          "adapter": false,
          "instance_id": "895631a4-9c71-4ce1-b3c1-17f5b22d0a5c",
          "name": "filename"
         }
        },
        {
         "id": "62231849-d9c8-4b68-816a-1e35b64c3dc2",
         "source": {
          "adapter": false,
          "instance_id": "895631a4-9c71-4ce1-b3c1-17f5b22d0a5c",
          "name": "data"
         },
         "target": {
          "adapter": false,
          "instance_id": "13f7030a-10ef-4dbe-befe-fefc50cc39b9",
          "name": "ip_data"
         }
        },
        {
         "id": "02d33d2f-275c-4ee8-8dd6-69944c4df56a",
         "source": {
          "adapter": false,
          "instance_id": "895631a4-9c71-4ce1-b3c1-17f5b22d0a5c",
          "name": "data"
         },
         "target": {
          "adapter": false,
          "instance_id": "59e4a8c2-4cbe-4328-9ff7-cec4b2141151",
          "name": "ip_data"
         }
        },
        {
         "id": "40b2b99c-cff0-47bd-8579-93aa16ba3ebc",
         "source": {
          "adapter": false,
          "instance_id": "5e7dd9c6-f556-45fe-ba0b-eb9a81b87329",
          "name": "merchant_ts"
         },
         "target": {
          "adapter": false,
          "instance_id": "2da5b8b6-1e4d-4cc4-82f1-c622f76bb575",
          "name": "df1"
         }
        },
        {
         "id": "b06fb42a-ccb2-4a9a-911f-b7daf9fa232b",
         "source": {
          "adapter": false,
          "instance_id": "13f7030a-10ef-4dbe-befe-fefc50cc39b9",
          "name": "merchant_static"
         },
         "target": {
          "adapter": false,
          "instance_id": "2da5b8b6-1e4d-4cc4-82f1-c622f76bb575",
          "name": "df2"
         }
        },
        {
         "id": "fe46f63f-d459-45f2-9403-55a9dae495ca",
         "source": {
          "adapter": false,
          "instance_id": "327f2b18-5993-4714-898c-374f1f85e47d",
          "name": "customer_static"
         },
         "target": {
          "adapter": false,
          "instance_id": "f3a0cf89-5803-470e-96f0-3f22882f435c",
          "name": "df2"
         }
        },
        {
         "id": "b3cf7c84-81a5-4481-9f29-38c385b95716",
         "source": {
          "adapter": false,
          "instance_id": "895631a4-9c71-4ce1-b3c1-17f5b22d0a5c",
          "name": "data"
         },
         "target": {
          "adapter": false,
          "instance_id": "327f2b18-5993-4714-898c-374f1f85e47d",
          "name": "ip_data"
         }
        }
       ],
       "id": "58722294-4a7d-4087-8bd4-35abf54d4222",
       "instances": [
        {
         "block_class": "29111245-a7c8-4de2-9a72-74904b6777b6",
         "id": "f3a0cf89-5803-470e-96f0-3f22882f435c",
         "name": "Concat_1",
         "var_names": [
          "merged_cust"
         ]
        },
        {
         "block_class": "0e33b9f9-65b9-45e9-b723-1fc0ddcd8d31",
         "id": "5e7dd9c6-f556-45fe-ba0b-eb9a81b87329",
         "name": "CustMercTS_1",
         "var_names": [
          "cm_ts"
         ]
        },
        {
         "block_class": "c372a34c-831c-41d9-a962-e79ab8ec8116",
         "id": "895631a4-9c71-4ce1-b3c1-17f5b22d0a5c",
         "name": "ReadCsvProjectSpace_1",
         "var_names": [
          "rcp"
         ]
        },
        {
         "block_class": "8db76b5d-b3cb-4aef-a710-efebe4c37144",
         "id": "d2c5b481-b10a-4a82-aa83-8d9078ac2fbc",
         "name": "NonSparkPath_1",
         "var_names": [
          "nsp"
         ]
        },
        {
         "block_class": "ac110c57-600f-4c95-95c0-06e32d034412",
         "id": "327f2b18-5993-4714-898c-374f1f85e47d",
         "name": "CustStatic_1",
         "var_names": [
          "cs"
         ]
        },
        {
         "block_class": "29111245-a7c8-4de2-9a72-74904b6777b6",
         "id": "2da5b8b6-1e4d-4cc4-82f1-c622f76bb575",
         "name": "Concat_2",
         "var_names": [
          "merged_merc"
         ]
        },
        {
         "block_class": "492305b6-0d3a-4431-ad72-43781f34eba4",
         "id": "13f7030a-10ef-4dbe-befe-fefc50cc39b9",
         "name": "MercStatic_1",
         "var_names": [
          "ms"
         ]
        },
        {
         "block_class": "d06d2826-a2b1-4d9a-918b-efe595696cb5",
         "id": "59e4a8c2-4cbe-4328-9ff7-cec4b2141151",
         "name": "ProdTypeTS_1",
         "var_names": [
          "pt_ts"
         ]
        },
        {
         "block_class": "3f055367-b80f-4bfc-baa6-57caa5574dfc",
         "id": "df18fcb9-7d9e-4af0-b6a8-6043225dc403",
         "name": "TranCityTS_1",
         "var_names": [
          "tc_ts"
         ]
        },
        {
         "block_class": "bc1fc737-66ef-43aa-9f6a-fb8d0ac71142",
         "id": "2a48a2c8-57c2-44f5-a811-dfc84ee098eb",
         "name": "TranTypeTS_1",
         "var_names": [
          "tt_ts"
         ]
        }
       ],
       "name": "temp",
       "var_names": []
      },
      "image/svg+xml": [
       "<?xml version=\"1.0\" encoding=\"UTF-8\" standalone=\"no\"?>\n",
       "<!DOCTYPE svg PUBLIC \"-//W3C//DTD SVG 1.1//EN\"\n",
       " \"http://www.w3.org/Graphics/SVG/1.1/DTD/svg11.dtd\">\n",
       "<!-- Generated by graphviz version 2.43.0 (0)\n",
       " -->\n",
       "<!-- Title: %3 Pages: 1 -->\n",
       "<svg width=\"1148pt\" height=\"293pt\"\n",
       " viewBox=\"0.00 0.00 1148.30 293.00\" xmlns=\"http://www.w3.org/2000/svg\" xmlns:xlink=\"http://www.w3.org/1999/xlink\">\n",
       "<g id=\"graph0\" class=\"graph\" transform=\"scale(1 1) rotate(0) translate(4 289)\">\n",
       "<title>%3</title>\n",
       "<polygon fill=\"white\" stroke=\"transparent\" points=\"-4,4 -4,-289 1144.3,-289 1144.3,4 -4,4\"/>\n",
       "<!-- Concat(&#39;Concat_1&#39;) -->\n",
       "<g id=\"node1\" class=\"node\">\n",
       "<title>Concat(&#39;Concat_1&#39;)</title>\n",
       "<ellipse fill=\"none\" stroke=\"black\" cx=\"199.41\" cy=\"-18\" rx=\"64.33\" ry=\"18\"/>\n",
       "<text text-anchor=\"middle\" x=\"199.41\" y=\"-15.5\" font-family=\"Helvetica,sans-Serif\" font-size=\"10.00\">Concat(&#39;Concat_1&#39;)</text>\n",
       "</g>\n",
       "<!-- CustMercTS(&#39;CustMercTS_1&#39;) -->\n",
       "<g id=\"node2\" class=\"node\">\n",
       "<title>CustMercTS(&#39;CustMercTS_1&#39;)</title>\n",
       "<ellipse fill=\"none\" stroke=\"black\" cx=\"275.41\" cy=\"-101\" rx=\"92.34\" ry=\"18\"/>\n",
       "<text text-anchor=\"middle\" x=\"275.41\" y=\"-98.5\" font-family=\"Helvetica,sans-Serif\" font-size=\"10.00\">CustMercTS(&#39;CustMercTS_1&#39;)</text>\n",
       "</g>\n",
       "<!-- CustMercTS(&#39;CustMercTS_1&#39;)&#45;&gt;Concat(&#39;Concat_1&#39;) -->\n",
       "<g id=\"edge1\" class=\"edge\">\n",
       "<title>CustMercTS(&#39;CustMercTS_1&#39;)&#45;&gt;Concat(&#39;Concat_1&#39;)</title>\n",
       "<path fill=\"none\" stroke=\"black\" d=\"M259.67,-83.22C248.79,-71.63 234.16,-56.04 222.05,-43.12\"/>\n",
       "<polygon fill=\"black\" stroke=\"black\" points=\"224.27,-40.38 214.88,-35.48 219.17,-45.17 224.27,-40.38\"/>\n",
       "<text text-anchor=\"middle\" x=\"286.41\" y=\"-57\" font-family=\"Helvetica,sans-Serif\" font-size=\"10.00\">customer_ts&#45;&gt;df1</text>\n",
       "</g>\n",
       "<!-- Concat(&#39;Concat_2&#39;) -->\n",
       "<g id=\"node6\" class=\"node\">\n",
       "<title>Concat(&#39;Concat_2&#39;)</title>\n",
       "<ellipse fill=\"none\" stroke=\"black\" cx=\"392.41\" cy=\"-18\" rx=\"64.33\" ry=\"18\"/>\n",
       "<text text-anchor=\"middle\" x=\"392.41\" y=\"-15.5\" font-family=\"Helvetica,sans-Serif\" font-size=\"10.00\">Concat(&#39;Concat_2&#39;)</text>\n",
       "</g>\n",
       "<!-- CustMercTS(&#39;CustMercTS_1&#39;)&#45;&gt;Concat(&#39;Concat_2&#39;) -->\n",
       "<g id=\"edge2\" class=\"edge\">\n",
       "<title>CustMercTS(&#39;CustMercTS_1&#39;)&#45;&gt;Concat(&#39;Concat_2&#39;)</title>\n",
       "<path fill=\"none\" stroke=\"black\" d=\"M303.32,-83.65C312.7,-77.95 323.13,-71.38 332.41,-65 343.06,-57.68 354.39,-49.19 364.3,-41.51\"/>\n",
       "<polygon fill=\"black\" stroke=\"black\" points=\"366.53,-44.21 372.25,-35.29 362.22,-38.69 366.53,-44.21\"/>\n",
       "<text text-anchor=\"middle\" x=\"392.91\" y=\"-57\" font-family=\"Helvetica,sans-Serif\" font-size=\"10.00\">merchant_ts&#45;&gt;df1</text>\n",
       "</g>\n",
       "<!-- ReadCsvProjectSpace(&#39;ReadCsvProjectSpace_1&#39;) -->\n",
       "<g id=\"node3\" class=\"node\">\n",
       "<title>ReadCsvProjectSpace(&#39;ReadCsvProjectSpace_1&#39;)</title>\n",
       "<ellipse fill=\"none\" stroke=\"black\" cx=\"616.41\" cy=\"-184\" rx=\"148.86\" ry=\"18\"/>\n",
       "<text text-anchor=\"middle\" x=\"616.41\" y=\"-181.5\" font-family=\"Helvetica,sans-Serif\" font-size=\"10.00\">ReadCsvProjectSpace(&#39;ReadCsvProjectSpace_1&#39;)</text>\n",
       "</g>\n",
       "<!-- ReadCsvProjectSpace(&#39;ReadCsvProjectSpace_1&#39;)&#45;&gt;CustMercTS(&#39;CustMercTS_1&#39;) -->\n",
       "<g id=\"edge3\" class=\"edge\">\n",
       "<title>ReadCsvProjectSpace(&#39;ReadCsvProjectSpace_1&#39;)&#45;&gt;CustMercTS(&#39;CustMercTS_1&#39;)</title>\n",
       "<path fill=\"none\" stroke=\"black\" d=\"M548.44,-167.97C521.34,-161.89 489.87,-154.73 461.41,-148 420.73,-138.38 375.16,-127.11 339.31,-118.14\"/>\n",
       "<polygon fill=\"black\" stroke=\"black\" points=\"340.02,-114.71 329.47,-115.68 338.32,-121.5 340.02,-114.71\"/>\n",
       "<text text-anchor=\"middle\" x=\"496.41\" y=\"-140\" font-family=\"Helvetica,sans-Serif\" font-size=\"10.00\">data&#45;&gt;ip_data</text>\n",
       "</g>\n",
       "<!-- CustStatic(&#39;CustStatic_1&#39;) -->\n",
       "<g id=\"node5\" class=\"node\">\n",
       "<title>CustStatic(&#39;CustStatic_1&#39;)</title>\n",
       "<ellipse fill=\"none\" stroke=\"black\" cx=\"82.41\" cy=\"-101\" rx=\"82.33\" ry=\"18\"/>\n",
       "<text text-anchor=\"middle\" x=\"82.41\" y=\"-98.5\" font-family=\"Helvetica,sans-Serif\" font-size=\"10.00\">CustStatic(&#39;CustStatic_1&#39;)</text>\n",
       "</g>\n",
       "<!-- ReadCsvProjectSpace(&#39;ReadCsvProjectSpace_1&#39;)&#45;&gt;CustStatic(&#39;CustStatic_1&#39;) -->\n",
       "<g id=\"edge4\" class=\"edge\">\n",
       "<title>ReadCsvProjectSpace(&#39;ReadCsvProjectSpace_1&#39;)&#45;&gt;CustStatic(&#39;CustStatic_1&#39;)</title>\n",
       "<path fill=\"none\" stroke=\"black\" d=\"M515.38,-170.75C464.87,-164.39 402.85,-156.25 347.41,-148 270.3,-136.52 251.19,-132.53 174.41,-119 167.37,-117.76 160.04,-116.44 152.71,-115.11\"/>\n",
       "<polygon fill=\"black\" stroke=\"black\" points=\"153.23,-111.65 142.76,-113.3 151.97,-118.54 153.23,-111.65\"/>\n",
       "<text text-anchor=\"middle\" x=\"382.41\" y=\"-140\" font-family=\"Helvetica,sans-Serif\" font-size=\"10.00\">data&#45;&gt;ip_data</text>\n",
       "</g>\n",
       "<!-- MercStatic(&#39;MercStatic_1&#39;) -->\n",
       "<g id=\"node7\" class=\"node\">\n",
       "<title>MercStatic(&#39;MercStatic_1&#39;)</title>\n",
       "<ellipse fill=\"none\" stroke=\"black\" cx=\"471.41\" cy=\"-101\" rx=\"85.21\" ry=\"18\"/>\n",
       "<text text-anchor=\"middle\" x=\"471.41\" y=\"-98.5\" font-family=\"Helvetica,sans-Serif\" font-size=\"10.00\">MercStatic(&#39;MercStatic_1&#39;)</text>\n",
       "</g>\n",
       "<!-- ReadCsvProjectSpace(&#39;ReadCsvProjectSpace_1&#39;)&#45;&gt;MercStatic(&#39;MercStatic_1&#39;) -->\n",
       "<g id=\"edge5\" class=\"edge\">\n",
       "<title>ReadCsvProjectSpace(&#39;ReadCsvProjectSpace_1&#39;)&#45;&gt;MercStatic(&#39;MercStatic_1&#39;)</title>\n",
       "<path fill=\"none\" stroke=\"black\" d=\"M586.37,-166.22C564.01,-153.73 533.33,-136.59 509.29,-123.16\"/>\n",
       "<polygon fill=\"black\" stroke=\"black\" points=\"510.87,-120.03 500.43,-118.21 507.45,-126.14 510.87,-120.03\"/>\n",
       "<text text-anchor=\"middle\" x=\"588.41\" y=\"-140\" font-family=\"Helvetica,sans-Serif\" font-size=\"10.00\">data&#45;&gt;ip_data</text>\n",
       "</g>\n",
       "<!-- ProdTypeTS(&#39;ProdTypeTS_1&#39;) -->\n",
       "<g id=\"node8\" class=\"node\">\n",
       "<title>ProdTypeTS(&#39;ProdTypeTS_1&#39;)</title>\n",
       "<ellipse fill=\"none\" stroke=\"black\" cx=\"665.41\" cy=\"-101\" rx=\"90.81\" ry=\"18\"/>\n",
       "<text text-anchor=\"middle\" x=\"665.41\" y=\"-98.5\" font-family=\"Helvetica,sans-Serif\" font-size=\"10.00\">ProdTypeTS(&#39;ProdTypeTS_1&#39;)</text>\n",
       "</g>\n",
       "<!-- ReadCsvProjectSpace(&#39;ReadCsvProjectSpace_1&#39;)&#45;&gt;ProdTypeTS(&#39;ProdTypeTS_1&#39;) -->\n",
       "<g id=\"edge6\" class=\"edge\">\n",
       "<title>ReadCsvProjectSpace(&#39;ReadCsvProjectSpace_1&#39;)&#45;&gt;ProdTypeTS(&#39;ProdTypeTS_1&#39;)</title>\n",
       "<path fill=\"none\" stroke=\"black\" d=\"M626.8,-165.82C633.5,-154.76 642.32,-140.18 649.84,-127.75\"/>\n",
       "<polygon fill=\"black\" stroke=\"black\" points=\"652.85,-129.52 655.04,-119.15 646.87,-125.9 652.85,-129.52\"/>\n",
       "<text text-anchor=\"middle\" x=\"679.41\" y=\"-140\" font-family=\"Helvetica,sans-Serif\" font-size=\"10.00\">data&#45;&gt;ip_data</text>\n",
       "</g>\n",
       "<!-- TranCityTS(&#39;TranCityTS_1&#39;) -->\n",
       "<g id=\"node9\" class=\"node\">\n",
       "<title>TranCityTS(&#39;TranCityTS_1&#39;)</title>\n",
       "<ellipse fill=\"none\" stroke=\"black\" cx=\"859.41\" cy=\"-101\" rx=\"85.21\" ry=\"18\"/>\n",
       "<text text-anchor=\"middle\" x=\"859.41\" y=\"-98.5\" font-family=\"Helvetica,sans-Serif\" font-size=\"10.00\">TranCityTS(&#39;TranCityTS_1&#39;)</text>\n",
       "</g>\n",
       "<!-- ReadCsvProjectSpace(&#39;ReadCsvProjectSpace_1&#39;)&#45;&gt;TranCityTS(&#39;TranCityTS_1&#39;) -->\n",
       "<g id=\"edge7\" class=\"edge\">\n",
       "<title>ReadCsvProjectSpace(&#39;ReadCsvProjectSpace_1&#39;)&#45;&gt;TranCityTS(&#39;TranCityTS_1&#39;)</title>\n",
       "<path fill=\"none\" stroke=\"black\" d=\"M664.71,-166.9C705.55,-153.29 763.97,-133.82 806.15,-119.75\"/>\n",
       "<polygon fill=\"black\" stroke=\"black\" points=\"807.31,-123.06 815.69,-116.57 805.1,-116.41 807.31,-123.06\"/>\n",
       "<text text-anchor=\"middle\" x=\"788.41\" y=\"-140\" font-family=\"Helvetica,sans-Serif\" font-size=\"10.00\">data&#45;&gt;ip_data</text>\n",
       "</g>\n",
       "<!-- TranTypeTS(&#39;TranTypeTS_1&#39;) -->\n",
       "<g id=\"node10\" class=\"node\">\n",
       "<title>TranTypeTS(&#39;TranTypeTS_1&#39;)</title>\n",
       "<ellipse fill=\"none\" stroke=\"black\" cx=\"1051.41\" cy=\"-101\" rx=\"88.78\" ry=\"18\"/>\n",
       "<text text-anchor=\"middle\" x=\"1051.41\" y=\"-98.5\" font-family=\"Helvetica,sans-Serif\" font-size=\"10.00\">TranTypeTS(&#39;TranTypeTS_1&#39;)</text>\n",
       "</g>\n",
       "<!-- ReadCsvProjectSpace(&#39;ReadCsvProjectSpace_1&#39;)&#45;&gt;TranTypeTS(&#39;TranTypeTS_1&#39;) -->\n",
       "<g id=\"edge8\" class=\"edge\">\n",
       "<title>ReadCsvProjectSpace(&#39;ReadCsvProjectSpace_1&#39;)&#45;&gt;TranTypeTS(&#39;TranTypeTS_1&#39;)</title>\n",
       "<path fill=\"none\" stroke=\"black\" d=\"M703.29,-169.35C741.43,-163.17 786.7,-155.55 827.41,-148 879.85,-138.27 938.94,-126.08 983.26,-116.7\"/>\n",
       "<polygon fill=\"black\" stroke=\"black\" points=\"983.99,-120.12 993.05,-114.62 982.54,-113.27 983.99,-120.12\"/>\n",
       "<text text-anchor=\"middle\" x=\"918.41\" y=\"-140\" font-family=\"Helvetica,sans-Serif\" font-size=\"10.00\">data&#45;&gt;ip_data</text>\n",
       "</g>\n",
       "<!-- NonSparkPath(&#39;NonSparkPath_1&#39;) -->\n",
       "<g id=\"node4\" class=\"node\">\n",
       "<title>NonSparkPath(&#39;NonSparkPath_1&#39;)</title>\n",
       "<ellipse fill=\"none\" stroke=\"black\" cx=\"616.41\" cy=\"-267\" rx=\"104.56\" ry=\"18\"/>\n",
       "<text text-anchor=\"middle\" x=\"616.41\" y=\"-264.5\" font-family=\"Helvetica,sans-Serif\" font-size=\"10.00\">NonSparkPath(&#39;NonSparkPath_1&#39;)</text>\n",
       "</g>\n",
       "<!-- NonSparkPath(&#39;NonSparkPath_1&#39;)&#45;&gt;ReadCsvProjectSpace(&#39;ReadCsvProjectSpace_1&#39;) -->\n",
       "<g id=\"edge9\" class=\"edge\">\n",
       "<title>NonSparkPath(&#39;NonSparkPath_1&#39;)&#45;&gt;ReadCsvProjectSpace(&#39;ReadCsvProjectSpace_1&#39;)</title>\n",
       "<path fill=\"none\" stroke=\"black\" d=\"M616.41,-248.82C616.41,-238.19 616.41,-224.31 616.41,-212.2\"/>\n",
       "<polygon fill=\"black\" stroke=\"black\" points=\"619.91,-212.15 616.41,-202.15 612.91,-212.15 619.91,-212.15\"/>\n",
       "<text text-anchor=\"middle\" x=\"663.41\" y=\"-223\" font-family=\"Helvetica,sans-Serif\" font-size=\"10.00\">op_path&#45;&gt;filename</text>\n",
       "</g>\n",
       "<!-- CustStatic(&#39;CustStatic_1&#39;)&#45;&gt;Concat(&#39;Concat_1&#39;) -->\n",
       "<g id=\"edge10\" class=\"edge\">\n",
       "<title>CustStatic(&#39;CustStatic_1&#39;)&#45;&gt;Concat(&#39;Concat_1&#39;)</title>\n",
       "<path fill=\"none\" stroke=\"black\" d=\"M94.66,-83.11C102.16,-73.65 112.41,-62.15 123.41,-54 132.26,-47.45 142.53,-41.71 152.61,-36.87\"/>\n",
       "<polygon fill=\"black\" stroke=\"black\" points=\"154.12,-40.03 161.76,-32.69 151.21,-33.67 154.12,-40.03\"/>\n",
       "<text text-anchor=\"middle\" x=\"176.41\" y=\"-57\" font-family=\"Helvetica,sans-Serif\" font-size=\"10.00\">customer_static&#45;&gt;df2</text>\n",
       "</g>\n",
       "<!-- MercStatic(&#39;MercStatic_1&#39;)&#45;&gt;Concat(&#39;Concat_2&#39;) -->\n",
       "<g id=\"edge11\" class=\"edge\">\n",
       "<title>MercStatic(&#39;MercStatic_1&#39;)&#45;&gt;Concat(&#39;Concat_2&#39;)</title>\n",
       "<path fill=\"none\" stroke=\"black\" d=\"M464.64,-82.96C460.37,-73.68 454.19,-62.4 446.41,-54 441.67,-48.88 436.03,-44.17 430.2,-39.98\"/>\n",
       "<polygon fill=\"black\" stroke=\"black\" points=\"431.88,-36.89 421.63,-34.23 427.98,-42.7 431.88,-36.89\"/>\n",
       "<text text-anchor=\"middle\" x=\"507.91\" y=\"-57\" font-family=\"Helvetica,sans-Serif\" font-size=\"10.00\">merchant_static&#45;&gt;df2</text>\n",
       "</g>\n",
       "</g>\n",
       "</svg>\n"
      ],
      "text/plain": [
       "<razor.flow.async_pipeline.Pipeline at 0x7fb0fdb6b590>"
      ]
     },
     "execution_count": 17,
     "metadata": {},
     "output_type": "execute_result"
    }
   ],
   "source": [
    "pipe"
   ]
  },
  {
   "cell_type": "code",
   "execution_count": 18,
   "id": "daily-district",
   "metadata": {},
   "outputs": [
    {
     "name": "stdout",
     "output_type": "stream",
     "text": [
      "log path: /tmp/tmp3bms_v5z/temp\n"
     ]
    },
    {
     "data": {
      "application/vnd.razorthink.run+monitor+json": "/tmp/tmp3bms_v5z/temp",
      "text/plain": [
       "<razor_tools.backend.ipython.mime.run_monitor.RunMonitor at 0x7fb0fdb58b90>"
      ]
     },
     "metadata": {
      "application/vnd.razorthink.run+monitor+json": {
       "run_data": {
        "apm": [
         {
          "cpu_percent": 0,
          "cpu_time": 0,
          "name": "NonSparkPath_1",
          "real_mem": 155312128,
          "time": 1616489739.1033177
         },
         {
          "cpu_percent": 0,
          "cpu_time": 0.03,
          "name": "NonSparkPath_1",
          "real_mem": 156921856,
          "time": 1616489739.2158697
         },
         {
          "cpu_percent": 0,
          "cpu_time": 0.05,
          "name": "NonSparkPath_1",
          "real_mem": 157200384,
          "time": 1616489739.3282526
         },
         {
          "cpu_percent": 0,
          "cpu_time": 0.05,
          "name": "NonSparkPath_1",
          "real_mem": 157200384,
          "time": 1616489739.441017
         },
         {
          "cpu_percent": 0,
          "cpu_time": 0.01,
          "name": "CustMercTS_1",
          "real_mem": 155627520,
          "time": 1616489739.3481843
         },
         {
          "cpu_percent": 0,
          "cpu_time": 0.02,
          "name": "ReadCsvProjectSpace_1",
          "real_mem": 155705344,
          "time": 1616489739.3758893
         },
         {
          "cpu_percent": 0,
          "cpu_time": 0.02,
          "name": "TranTypeTS_1",
          "real_mem": 155766784,
          "time": 1616489739.3898246
         },
         {
          "cpu_percent": 0,
          "cpu_time": 0.03,
          "name": "CustStatic_1",
          "real_mem": 155942912,
          "time": 1616489739.4040148
         },
         {
          "cpu_percent": 0,
          "cpu_time": 0.03,
          "name": "ProdTypeTS_1",
          "real_mem": 155942912,
          "time": 1616489739.4181314
         },
         {
          "cpu_percent": 0,
          "cpu_time": 0.03,
          "name": "MercStatic_1",
          "real_mem": 156057600,
          "time": 1616489739.4323318
         },
         {
          "cpu_percent": 0,
          "cpu_time": 0.04,
          "name": "Concat_2",
          "real_mem": 156209152,
          "time": 1616489739.4471815
         },
         {
          "cpu_percent": 0,
          "cpu_time": 0.05,
          "name": "Concat_1",
          "real_mem": 156307456,
          "time": 1616489739.4738946
         },
         {
          "cpu_percent": 0,
          "cpu_time": 0.06,
          "name": "TranCityTS_1",
          "real_mem": 156307456,
          "time": 1616489739.4873216
         },
         {
          "cpu_percent": 0,
          "cpu_time": 0.06,
          "name": "NonSparkPath_1",
          "real_mem": 157200384,
          "time": 1616489739.553747
         },
         {
          "cpu_percent": 0,
          "cpu_time": 0.06,
          "name": "CustMercTS_1",
          "real_mem": 156307456,
          "time": 1616489739.500355
         },
         {
          "cpu_percent": 0,
          "cpu_time": 0.06,
          "name": "ReadCsvProjectSpace_1",
          "real_mem": 156307456,
          "time": 1616489739.5117178
         },
         {
          "cpu_percent": 0,
          "cpu_time": 0.06,
          "name": "TranTypeTS_1",
          "real_mem": 156409856,
          "time": 1616489739.5252357
         },
         {
          "cpu_percent": 0,
          "cpu_time": 0.06,
          "name": "CustStatic_1",
          "real_mem": 156409856,
          "time": 1616489739.536891
         },
         {
          "cpu_percent": 0,
          "cpu_time": 0.07,
          "name": "ProdTypeTS_1",
          "real_mem": 156409856,
          "time": 1616489739.5500836
         },
         {
          "cpu_percent": 0,
          "cpu_time": 0.07,
          "name": "MercStatic_1",
          "real_mem": 156409856,
          "time": 1616489739.5617728
         },
         {
          "cpu_percent": 0,
          "cpu_time": 0.07,
          "name": "Concat_2",
          "real_mem": 156409856,
          "time": 1616489739.5752513
         },
         {
          "cpu_percent": 0,
          "cpu_time": 0.07,
          "name": "Concat_1",
          "real_mem": 156409856,
          "time": 1616489739.588363
         },
         {
          "cpu_percent": 91,
          "cpu_time": 0.1,
          "name": "TranCityTS_1",
          "real_mem": 157552640,
          "time": 1616489739.6076376
         },
         {
          "cpu_percent": 0,
          "cpu_time": 0.11,
          "name": "CustMercTS_1",
          "real_mem": 161046528,
          "time": 1616489739.6589992
         },
         {
          "cpu_percent": 196.6,
          "cpu_time": 0.19,
          "name": "TranTypeTS_1",
          "real_mem": 185118720,
          "time": 1616489739.7397215
         },
         {
          "cpu_percent": 95.7,
          "cpu_time": 0.31,
          "name": "ProdTypeTS_1",
          "real_mem": 202121216,
          "time": 1616489739.86998
         },
         {
          "cpu_percent": 196.4,
          "cpu_time": 0.26,
          "name": "CustStatic_1",
          "real_mem": 194772992,
          "time": 1616489739.791244
         },
         {
          "cpu_percent": 45.4,
          "cpu_time": 0.39,
          "name": "MercStatic_1",
          "real_mem": 211480576,
          "time": 1616489739.9484444
         },
         {
          "cpu_percent": 98.3,
          "cpu_time": 0.15,
          "name": "Concat_2",
          "real_mem": 161050624,
          "time": 1616489739.9818325
         },
         {
          "cpu_percent": 196.3,
          "cpu_time": 0.18,
          "name": "Concat_1",
          "real_mem": 175632384,
          "time": 1616489740.0044022
         },
         {
          "cpu_percent": 98.2,
          "cpu_time": 0.2,
          "name": "TranCityTS_1",
          "real_mem": 177643520,
          "time": 1616489740.0273037
         },
         {
          "cpu_percent": 97,
          "cpu_time": 0.22000000000000003,
          "name": "CustMercTS_1",
          "real_mem": 179056640,
          "time": 1616489740.0712137
         },
         {
          "cpu_percent": 47.7,
          "cpu_time": 0.29000000000000004,
          "name": "TranTypeTS_1",
          "real_mem": 184750080,
          "time": 1616489740.1483562
         },
         {
          "cpu_percent": 0,
          "cpu_time": 0.12,
          "name": "ReadCsvProjectSpace_1",
          "real_mem": 163135488,
          "time": 1616489739.6949425
         },
         {
          "cpu_percent": 98.4,
          "cpu_time": 0.25,
          "name": "ReadCsvProjectSpace_1",
          "real_mem": 179658752,
          "time": 1616489740.0939825
         },
         {
          "cpu_percent": 98.7,
          "cpu_time": 0.33,
          "name": "CustStatic_1",
          "real_mem": 193007616,
          "time": 1616489740.1728866
         },
         {
          "cpu_percent": 195.1,
          "cpu_time": 0.38,
          "name": "ProdTypeTS_1",
          "real_mem": 197926912,
          "time": 1616489740.1948872
         },
         {
          "cpu_percent": 294.7,
          "cpu_time": 0.41000000000000003,
          "name": "MercStatic_1",
          "real_mem": 204279808,
          "time": 1616489740.2592554
         },
         {
          "cpu_percent": 291.7,
          "cpu_time": 0.44999999999999996,
          "name": "Concat_2",
          "real_mem": 210014208,
          "time": 1616489740.2815201
         },
         {
          "cpu_percent": 295.4,
          "cpu_time": 0.52,
          "name": "Concat_1",
          "real_mem": 213663744,
          "time": 1616489740.3592172
         },
         {
          "cpu_percent": 291.9,
          "cpu_time": 0.56,
          "name": "TranCityTS_1",
          "real_mem": 216772608,
          "time": 1616489740.3814602
         },
         {
          "cpu_percent": 0,
          "cpu_time": 0.57,
          "name": "CustMercTS_1",
          "real_mem": 218832896,
          "time": 1616489740.4045506
         },
         {
          "cpu_percent": 197,
          "cpu_time": 0.62,
          "name": "ReadCsvProjectSpace_1",
          "real_mem": 221560832,
          "time": 1616489740.4706259
         },
         {
          "cpu_percent": 98.3,
          "cpu_time": 0.67,
          "name": "TranTypeTS_1",
          "real_mem": 223641600,
          "time": 1616489740.4928157
         },
         {
          "cpu_percent": 275.6,
          "cpu_time": 0.7300000000000001,
          "name": "CustStatic_1",
          "real_mem": 227037184,
          "time": 1616489740.5718646
         },
         {
          "cpu_percent": 0,
          "cpu_time": 0.75,
          "name": "ProdTypeTS_1",
          "real_mem": 230944768,
          "time": 1616489740.593704
         },
         {
          "cpu_percent": 0,
          "cpu_time": 0.76,
          "name": "MercStatic_1",
          "real_mem": 231215104,
          "time": 1616489740.6157348
         },
         {
          "cpu_percent": 196.3,
          "cpu_time": 0.79,
          "name": "Concat_2",
          "real_mem": 237432832,
          "time": 1616489740.6717732
         },
         {
          "cpu_percent": 96.7,
          "cpu_time": 0.8200000000000001,
          "name": "Concat_1",
          "real_mem": 240406528,
          "time": 1616489740.6941948
         },
         {
          "cpu_percent": 197,
          "cpu_time": 0.8500000000000001,
          "name": "TranCityTS_1",
          "real_mem": 242016256,
          "time": 1616489740.7163439
         },
         {
          "cpu_percent": 0,
          "cpu_time": 0.96,
          "name": "TranTypeTS_1",
          "real_mem": 244174848,
          "time": 1616489740.8488026
         },
         {
          "cpu_percent": 196.2,
          "cpu_time": 0.8699999999999999,
          "name": "CustMercTS_1",
          "real_mem": 242556928,
          "time": 1616489740.759242
         },
         {
          "cpu_percent": 195.9,
          "cpu_time": 0.9199999999999999,
          "name": "ReadCsvProjectSpace_1",
          "real_mem": 243638272,
          "time": 1616489740.7825336
         },
         {
          "cpu_percent": 196.6,
          "cpu_time": 1.01,
          "name": "CustStatic_1",
          "real_mem": 246353920,
          "time": 1616489740.873636
         },
         {
          "cpu_percent": 98.2,
          "cpu_time": 1.04,
          "name": "ProdTypeTS_1",
          "real_mem": 248688640,
          "time": 1616489740.9485898
         },
         {
          "cpu_percent": 193.7,
          "cpu_time": 1.08,
          "name": "MercStatic_1",
          "real_mem": 252817408,
          "time": 1616489740.9714625
         },
         {
          "cpu_percent": 98.7,
          "cpu_time": 1.1,
          "name": "Concat_2",
          "real_mem": 253358080,
          "time": 1616489740.9942558
         },
         {
          "cpu_percent": 196.3,
          "cpu_time": 1.17,
          "name": "TranCityTS_1",
          "real_mem": 253702144,
          "time": 1616489741.070828
         },
         {
          "cpu_percent": 97.8,
          "cpu_time": 1.1300000000000001,
          "name": "Concat_1",
          "real_mem": 253435904,
          "time": 1616489741.0166788
         },
         {
          "cpu_percent": 98.4,
          "cpu_time": 1.19,
          "name": "CustMercTS_1",
          "real_mem": 254111744,
          "time": 1616489741.0953567
         },
         {
          "cpu_percent": 98.4,
          "cpu_time": 1.27,
          "name": "TranTypeTS_1",
          "real_mem": 254930944,
          "time": 1616489741.1709702
         },
         {
          "cpu_percent": 97.2,
          "cpu_time": 1.23,
          "name": "ReadCsvProjectSpace_1",
          "real_mem": 254427136,
          "time": 1616489741.1175528
         },
         {
          "cpu_percent": 98.1,
          "cpu_time": 1.29,
          "name": "CustStatic_1",
          "real_mem": 255201280,
          "time": 1616489741.192979
         },
         {
          "cpu_percent": 0,
          "cpu_time": 1.32,
          "name": "ProdTypeTS_1",
          "real_mem": 255455232,
          "time": 1616489741.2152421
         },
         {
          "cpu_percent": 193,
          "cpu_time": 1.3699999999999999,
          "name": "MercStatic_1",
          "real_mem": 255721472,
          "time": 1616489741.2731223
         },
         {
          "cpu_percent": 197,
          "cpu_time": 1.41,
          "name": "Concat_2",
          "real_mem": 256282624,
          "time": 1616489741.2958705
         },
         {
          "cpu_percent": 0,
          "cpu_time": 1.42,
          "name": "Concat_1",
          "real_mem": 256282624,
          "time": 1616489741.318197
         },
         {
          "cpu_percent": 195.9,
          "cpu_time": 1.46,
          "name": "TranCityTS_1",
          "real_mem": 256815104,
          "time": 1616489741.3706548
         },
         {
          "cpu_percent": 45.5,
          "cpu_time": 1.51,
          "name": "CustMercTS_1",
          "real_mem": 256815104,
          "time": 1616489741.448447
         },
         {
          "cpu_percent": 98,
          "cpu_time": 1.54,
          "name": "ReadCsvProjectSpace_1",
          "real_mem": 257069056,
          "time": 1616489741.4714615
         },
         {
          "cpu_percent": 0,
          "cpu_time": 1.56,
          "name": "TranTypeTS_1",
          "real_mem": 270581760,
          "time": 1616489741.496121
         },
         {
          "cpu_percent": 97.7,
          "cpu_time": 1.59,
          "name": "CustStatic_1",
          "real_mem": 270876672,
          "time": 1616489741.5187035
         },
         {
          "cpu_percent": 197.1,
          "cpu_time": 1.63,
          "name": "ProdTypeTS_1",
          "real_mem": 271347712,
          "time": 1616489741.570641
         },
         {
          "cpu_percent": 196.1,
          "cpu_time": 1.68,
          "name": "MercStatic_1",
          "real_mem": 272039936,
          "time": 1616489741.5932355
         },
         {
          "cpu_percent": 98.2,
          "cpu_time": 1.69,
          "name": "Concat_2",
          "real_mem": 272924672,
          "time": 1616489741.6590805
         },
         {
          "cpu_percent": 98.4,
          "cpu_time": 1.72,
          "name": "Concat_1",
          "real_mem": 277389312,
          "time": 1616489741.6816375
         },
         {
          "cpu_percent": 196,
          "cpu_time": 1.76,
          "name": "TranCityTS_1",
          "real_mem": 277446656,
          "time": 1616489741.7592335
         },
         {
          "cpu_percent": 98.2,
          "cpu_time": 1.8,
          "name": "CustMercTS_1",
          "real_mem": 278130688,
          "time": 1616489741.7822936
         },
         {
          "cpu_percent": 98.1,
          "cpu_time": 1.83,
          "name": "ReadCsvProjectSpace_1",
          "real_mem": 278847488,
          "time": 1616489741.8043332
         },
         {
          "cpu_percent": 193.8,
          "cpu_time": 1.9,
          "name": "CustStatic_1",
          "real_mem": 279302144,
          "time": 1616489741.892882
         },
         {
          "cpu_percent": 98,
          "cpu_time": 1.86,
          "name": "TranTypeTS_1",
          "real_mem": 278962176,
          "time": 1616489741.870632
         },
         {
          "cpu_percent": 98,
          "cpu_time": 1.93,
          "name": "ProdTypeTS_1",
          "real_mem": 279523328,
          "time": 1616489741.9482217
         },
         {
          "cpu_percent": 196.3,
          "cpu_time": 1.97,
          "name": "MercStatic_1",
          "real_mem": 279887872,
          "time": 1616489741.9715643
         },
         {
          "cpu_percent": 98.2,
          "cpu_time": 2.01,
          "name": "Concat_2",
          "real_mem": 280186880,
          "time": 1616489741.9940553
         },
         {
          "cpu_percent": 0,
          "cpu_time": 2.0300000000000002,
          "name": "Concat_1",
          "real_mem": 280309760,
          "time": 1616489742.04827
         },
         {
          "cpu_percent": 96.9,
          "cpu_time": 2.08,
          "name": "CustMercTS_1",
          "real_mem": 281362432,
          "time": 1616489742.0931344
         },
         {
          "cpu_percent": 0,
          "cpu_time": 2.1,
          "name": "ReadCsvProjectSpace_1",
          "real_mem": 281694208,
          "time": 1616489742.115482
         },
         {
          "cpu_percent": 97.8,
          "cpu_time": 2.05,
          "name": "TranCityTS_1",
          "real_mem": 280838144,
          "time": 1616489742.0707495
         },
         {
          "cpu_percent": 196.1,
          "cpu_time": 2.16,
          "name": "TranTypeTS_1",
          "real_mem": 281866240,
          "time": 1616489742.1720521
         },
         {
          "cpu_percent": 30.8,
          "cpu_time": 2.1999999999999997,
          "name": "CustStatic_1",
          "real_mem": 282484736,
          "time": 1616489742.2494173
         },
         {
          "cpu_percent": 197.3,
          "cpu_time": 2.2399999999999998,
          "name": "ProdTypeTS_1",
          "real_mem": 283209728,
          "time": 1616489742.2728016
         },
         {
          "cpu_percent": 98.4,
          "cpu_time": 2.27,
          "name": "MercStatic_1",
          "real_mem": 283525120,
          "time": 1616489742.2953477
         },
         {
          "cpu_percent": 197.4,
          "cpu_time": 2.32,
          "name": "Concat_2",
          "real_mem": 284078080,
          "time": 1616489742.3587036
         },
         {
          "cpu_percent": 197.2,
          "cpu_time": 2.36,
          "name": "Concat_1",
          "real_mem": 284319744,
          "time": 1616489742.3811762
         },
         {
          "cpu_percent": 196,
          "cpu_time": 2.42,
          "name": "CustMercTS_1",
          "real_mem": 285306880,
          "time": 1616489742.4703746
         },
         {
          "cpu_percent": 196.5,
          "cpu_time": 2.3899999999999997,
          "name": "TranCityTS_1",
          "real_mem": 284585984,
          "time": 1616489742.4032753
         },
         {
          "cpu_percent": 98.1,
          "cpu_time": 2.44,
          "name": "ReadCsvProjectSpace_1",
          "real_mem": 285663232,
          "time": 1616489742.492318
         },
         {
          "cpu_percent": 96.7,
          "cpu_time": 2.47,
          "name": "TranTypeTS_1",
          "real_mem": 286109696,
          "time": 1616489742.515396
         },
         {
          "cpu_percent": 0,
          "cpu_time": 2.48,
          "name": "CustStatic_1",
          "real_mem": 286109696,
          "time": 1616489742.537505
         },
         {
          "cpu_percent": 192.4,
          "cpu_time": 2.52,
          "name": "ProdTypeTS_1",
          "real_mem": 286502912,
          "time": 1616489742.570973
         },
         {
          "cpu_percent": 196.7,
          "cpu_time": 2.56,
          "name": "MercStatic_1",
          "real_mem": 286814208,
          "time": 1616489742.5932305
         },
         {
          "cpu_percent": 0,
          "cpu_time": 2.5799999999999996,
          "name": "Concat_2",
          "real_mem": 286867456,
          "time": 1616489742.6154542
         },
         {
          "cpu_percent": 97.7,
          "cpu_time": 2.61,
          "name": "Concat_1",
          "real_mem": 287731712,
          "time": 1616489742.6704917
         },
         {
          "cpu_percent": 98.4,
          "cpu_time": 2.63,
          "name": "TranCityTS_1",
          "real_mem": 288563200,
          "time": 1616489742.6934564
         },
         {
          "cpu_percent": 196.4,
          "cpu_time": 2.67,
          "name": "CustMercTS_1",
          "real_mem": 288899072,
          "time": 1616489742.7171655
         },
         {
          "cpu_percent": 0,
          "cpu_time": 2.67,
          "name": "ReadCsvProjectSpace_1",
          "real_mem": 288899072,
          "time": 1616489742.7394822
         },
         {
          "cpu_percent": 98.1,
          "cpu_time": 2.7,
          "name": "TranTypeTS_1",
          "real_mem": 289411072,
          "time": 1616489742.7707093
         },
         {
          "cpu_percent": 97.2,
          "cpu_time": 2.73,
          "name": "CustStatic_1",
          "real_mem": 289763328,
          "time": 1616489742.7930148
         },
         {
          "cpu_percent": 23.7,
          "cpu_time": 2.75,
          "name": "ProdTypeTS_1",
          "real_mem": 289898496,
          "time": 1616489742.8486445
         },
         {
          "cpu_percent": 196.1,
          "cpu_time": 2.82,
          "name": "MercStatic_1",
          "real_mem": 290312192,
          "time": 1616489742.8714724
         },
         {
          "cpu_percent": 194.5,
          "cpu_time": 2.86,
          "name": "Concat_2",
          "real_mem": 290504704,
          "time": 1616489742.8947873
         },
         {
          "cpu_percent": 98.2,
          "cpu_time": 2.9,
          "name": "Concat_1",
          "real_mem": 290930688,
          "time": 1616489742.971034
         },
         {
          "cpu_percent": 0,
          "cpu_time": 2.95,
          "name": "CustMercTS_1",
          "real_mem": 291205120,
          "time": 1616489743.017518
         },
         {
          "cpu_percent": 98.2,
          "cpu_time": 2.94,
          "name": "TranCityTS_1",
          "real_mem": 291205120,
          "time": 1616489742.9949942
         },
         {
          "cpu_percent": 98.1,
          "cpu_time": 2.98,
          "name": "ReadCsvProjectSpace_1",
          "real_mem": 292282368,
          "time": 1616489743.0713024
         },
         {
          "cpu_percent": 98.2,
          "cpu_time": 3,
          "name": "TranTypeTS_1",
          "real_mem": 292843520,
          "time": 1616489743.0941048
         },
         {
          "cpu_percent": 195.9,
          "cpu_time": 3.06,
          "name": "CustStatic_1",
          "real_mem": 293380096,
          "time": 1616489743.1175315
         },
         {
          "cpu_percent": 294.3,
          "cpu_time": 3.1100000000000003,
          "name": "ProdTypeTS_1",
          "real_mem": 293605376,
          "time": 1616489743.1711273
         },
         {
          "cpu_percent": 98.1,
          "cpu_time": 3.15,
          "name": "MercStatic_1",
          "real_mem": 293974016,
          "time": 1616489743.1946821
         },
         {
          "cpu_percent": 197.1,
          "cpu_time": 3.17,
          "name": "Concat_2",
          "real_mem": 294080512,
          "time": 1616489743.2590964
         },
         {
          "cpu_percent": 196.8,
          "cpu_time": 3.23,
          "name": "Concat_1",
          "real_mem": 294506496,
          "time": 1616489743.2813363
         },
         {
          "cpu_percent": 0,
          "cpu_time": 3.2399999999999998,
          "name": "TranCityTS_1",
          "real_mem": 294506496,
          "time": 1616489743.3044848
         },
         {
          "cpu_percent": 98.2,
          "cpu_time": 3.26,
          "name": "CustMercTS_1",
          "real_mem": 294850560,
          "time": 1616489743.3701117
         },
         {
          "cpu_percent": 296.1,
          "cpu_time": 3.31,
          "name": "ReadCsvProjectSpace_1",
          "real_mem": 294866944,
          "time": 1616489743.3926864
         },
         {
          "cpu_percent": 197.3,
          "cpu_time": 3.35,
          "name": "TranTypeTS_1",
          "real_mem": 295354368,
          "time": 1616489743.458967
         },
         {
          "cpu_percent": 196.3,
          "cpu_time": 3.3899999999999997,
          "name": "CustStatic_1",
          "real_mem": 295530496,
          "time": 1616489743.4809372
         },
         {
          "cpu_percent": 18,
          "cpu_time": 3.43,
          "name": "ProdTypeTS_1",
          "real_mem": 296591360,
          "time": 1616489743.5487518
         },
         {
          "cpu_percent": 294.6,
          "cpu_time": 3.49,
          "name": "MercStatic_1",
          "real_mem": 296943616,
          "time": 1616489743.5723975
         },
         {
          "cpu_percent": 97.7,
          "cpu_time": 3.52,
          "name": "Concat_2",
          "real_mem": 296976384,
          "time": 1616489743.5955343
         },
         {
          "cpu_percent": 196.6,
          "cpu_time": 3.56,
          "name": "Concat_1",
          "real_mem": 296976384,
          "time": 1616489743.6707518
         },
         {
          "cpu_percent": 197,
          "cpu_time": 3.6599999999999997,
          "name": "CustMercTS_1",
          "real_mem": 297553920,
          "time": 1616489743.770706
         },
         {
          "cpu_percent": 30.4,
          "cpu_time": 3.62,
          "name": "TranCityTS_1",
          "real_mem": 297025536,
          "time": 1616489743.7484317
         },
         {
          "cpu_percent": 195.9,
          "cpu_time": 3.72,
          "name": "ReadCsvProjectSpace_1",
          "real_mem": 297619456,
          "time": 1616489743.7933395
         },
         {
          "cpu_percent": 195.3,
          "cpu_time": 3.7800000000000002,
          "name": "TranTypeTS_1",
          "real_mem": 298336256,
          "time": 1616489743.872585
         },
         {
          "cpu_percent": 0,
          "cpu_time": 3.81,
          "name": "CustStatic_1",
          "real_mem": 298971136,
          "time": 1616489743.8953023
         },
         {
          "cpu_percent": 97.6,
          "cpu_time": 3.85,
          "name": "ProdTypeTS_1",
          "real_mem": 298536960,
          "time": 1616489743.9714289
         },
         {
          "cpu_percent": 99.1,
          "cpu_time": 3.89,
          "name": "MercStatic_1",
          "real_mem": 298803200,
          "time": 1616489743.9933674
         },
         {
          "cpu_percent": 0,
          "cpu_time": 3.9,
          "name": "Concat_2",
          "real_mem": 299343872,
          "time": 1616489744.0158134
         },
         {
          "cpu_percent": 98.5,
          "cpu_time": 3.9299999999999997,
          "name": "Concat_1",
          "real_mem": 300642304,
          "time": 1616489744.0701706
         },
         {
          "cpu_percent": 195.8,
          "cpu_time": 3.99,
          "name": "TranCityTS_1",
          "real_mem": 300445696,
          "time": 1616489744.0927892
         },
         {
          "cpu_percent": 0,
          "cpu_time": 4,
          "name": "CustMercTS_1",
          "real_mem": 300511232,
          "time": 1616489744.1149538
         },
         {
          "cpu_percent": 0,
          "cpu_time": 4.01,
          "name": "ReadCsvProjectSpace_1",
          "real_mem": 300511232,
          "time": 1616489744.1375937
         },
         {
          "cpu_percent": 95.3,
          "cpu_time": 4.04,
          "name": "TranTypeTS_1",
          "real_mem": 300912640,
          "time": 1616489744.1711426
         },
         {
          "cpu_percent": 97.9,
          "cpu_time": 4.07,
          "name": "CustStatic_1",
          "real_mem": 301826048,
          "time": 1616489744.1930838
         },
         {
          "cpu_percent": 197,
          "cpu_time": 4.12,
          "name": "ProdTypeTS_1",
          "real_mem": 302219264,
          "time": 1616489744.258793
         },
         {
          "cpu_percent": 97.7,
          "cpu_time": 4.15,
          "name": "MercStatic_1",
          "real_mem": 302485504,
          "time": 1616489744.281225
         },
         {
          "cpu_percent": 193.6,
          "cpu_time": 4.19,
          "name": "Concat_2",
          "real_mem": 302751744,
          "time": 1616489744.3042064
         },
         {
          "cpu_percent": 98,
          "cpu_time": 4.22,
          "name": "Concat_1",
          "real_mem": 303161344,
          "time": 1616489744.3712397
         },
         {
          "cpu_percent": 98.3,
          "cpu_time": 4.26,
          "name": "TranCityTS_1",
          "real_mem": 303534080,
          "time": 1616489744.3938694
         },
         {
          "cpu_percent": 293.2,
          "cpu_time": 4.32,
          "name": "ReadCsvProjectSpace_1",
          "real_mem": 304402432,
          "time": 1616489744.4706082
         },
         {
          "cpu_percent": 0,
          "cpu_time": 4.28,
          "name": "CustMercTS_1",
          "real_mem": 303783936,
          "time": 1616489744.4167724
         },
         {
          "cpu_percent": 195.2,
          "cpu_time": 4.37,
          "name": "TranTypeTS_1",
          "real_mem": 305700864,
          "time": 1616489744.4929154
         },
         {
          "cpu_percent": 0,
          "cpu_time": 4.38,
          "name": "CustStatic_1",
          "real_mem": 305700864,
          "time": 1616489744.5153024
         },
         {
          "cpu_percent": 196.6,
          "cpu_time": 4.43,
          "name": "ProdTypeTS_1",
          "real_mem": 307523584,
          "time": 1616489744.5708976
         },
         {
          "cpu_percent": 98,
          "cpu_time": 4.47,
          "name": "MercStatic_1",
          "real_mem": 307257344,
          "time": 1616489744.5933576
         },
         {
          "cpu_percent": 294.9,
          "cpu_time": 4.529999999999999,
          "name": "Concat_2",
          "real_mem": 307798016,
          "time": 1616489744.6702735
         },
         {
          "cpu_percent": 196.3,
          "cpu_time": 4.57,
          "name": "Concat_1",
          "real_mem": 308338688,
          "time": 1616489744.692559
         },
         {
          "cpu_percent": 98,
          "cpu_time": 4.619999999999999,
          "name": "TranCityTS_1",
          "real_mem": 308678656,
          "time": 1616489744.7701988
         },
         {
          "cpu_percent": 292.6,
          "cpu_time": 4.680000000000001,
          "name": "CustMercTS_1",
          "real_mem": 306978816,
          "time": 1616489744.7936308
         },
         {
          "cpu_percent": 97.2,
          "cpu_time": 4.71,
          "name": "ReadCsvProjectSpace_1",
          "real_mem": 307150848,
          "time": 1616489744.8705492
         },
         {
          "cpu_percent": 98.3,
          "cpu_time": 4.73,
          "name": "TranTypeTS_1",
          "real_mem": 307580928,
          "time": 1616489744.8928099
         },
         {
          "cpu_percent": 0,
          "cpu_time": 4.75,
          "name": "CustStatic_1",
          "real_mem": 307908608,
          "time": 1616489744.9160051
         },
         {
          "cpu_percent": 78.1,
          "cpu_time": 4.7700000000000005,
          "name": "ProdTypeTS_1",
          "real_mem": 308568064,
          "time": 1616489744.972489
         },
         {
          "cpu_percent": 98,
          "cpu_time": 4.8,
          "name": "MercStatic_1",
          "real_mem": 308977664,
          "time": 1616489744.9948206
         },
         {
          "cpu_percent": 97.8,
          "cpu_time": 4.83,
          "name": "Concat_2",
          "real_mem": 309542912,
          "time": 1616489745.0177724
         },
         {
          "cpu_percent": 0,
          "cpu_time": 4.84,
          "name": "Concat_1",
          "real_mem": 309542912,
          "time": 1616489745.048368
         },
         {
          "cpu_percent": 98,
          "cpu_time": 4.88,
          "name": "TranCityTS_1",
          "real_mem": 309993472,
          "time": 1616489745.0714552
         },
         {
          "cpu_percent": 98.1,
          "cpu_time": 4.970000000000001,
          "name": "TranTypeTS_1",
          "real_mem": 310591488,
          "time": 1616489745.1708534
         },
         {
          "cpu_percent": 97.5,
          "cpu_time": 5,
          "name": "CustStatic_1",
          "real_mem": 310972416,
          "time": 1616489745.1942718
         },
         {
          "cpu_percent": 0,
          "cpu_time": 4.949999999999999,
          "name": "ReadCsvProjectSpace_1",
          "real_mem": 310484992,
          "time": 1616489745.148355
         },
         {
          "cpu_percent": 195.7,
          "cpu_time": 4.93,
          "name": "CustMercTS_1",
          "real_mem": 310218752,
          "time": 1616489745.0955696
         },
         {
          "cpu_percent": 0,
          "cpu_time": 5.02,
          "name": "ProdTypeTS_1",
          "real_mem": 311324672,
          "time": 1616489745.2187202
         },
         {
          "cpu_percent": 97.3,
          "cpu_time": 5.050000000000001,
          "name": "MercStatic_1",
          "real_mem": 311545856,
          "time": 1616489745.269889
         },
         {
          "cpu_percent": 95,
          "cpu_time": 5.13,
          "name": "Concat_1",
          "real_mem": 312696832,
          "time": 1616489745.3154554
         },
         {
          "cpu_percent": 197.1,
          "cpu_time": 5.16,
          "name": "TranCityTS_1",
          "real_mem": 312696832,
          "time": 1616489745.370867
         },
         {
          "cpu_percent": 98.1,
          "cpu_time": 5.09,
          "name": "Concat_2",
          "real_mem": 312082432,
          "time": 1616489745.2922263
         },
         {
          "cpu_percent": 196.2,
          "cpu_time": 5.23,
          "name": "CustMercTS_1",
          "real_mem": 315113472,
          "time": 1616489745.3943484
         },
         {
          "cpu_percent": 196.6,
          "cpu_time": 5.2700000000000005,
          "name": "ReadCsvProjectSpace_1",
          "real_mem": 317095936,
          "time": 1616489745.4703245
         },
         {
          "cpu_percent": 196.7,
          "cpu_time": 5.31,
          "name": "TranTypeTS_1",
          "real_mem": 319184896,
          "time": 1616489745.4925208
         },
         {
          "cpu_percent": 196.4,
          "cpu_time": 5.37,
          "name": "CustStatic_1",
          "real_mem": 319422464,
          "time": 1616489745.5701015
         },
         {
          "cpu_percent": 98.3,
          "cpu_time": 5.41,
          "name": "MercStatic_1",
          "real_mem": 322396160,
          "time": 1616489745.6147804
         },
         {
          "cpu_percent": 0,
          "cpu_time": 5.39,
          "name": "ProdTypeTS_1",
          "real_mem": 322121728,
          "time": 1616489745.5923166
         },
         {
          "cpu_percent": 98.5,
          "cpu_time": 5.470000000000001,
          "name": "Concat_2",
          "real_mem": 322895872,
          "time": 1616489745.672781
         },
         {
          "cpu_percent": 196.5,
          "cpu_time": 5.51,
          "name": "Concat_1",
          "real_mem": 323293184,
          "time": 1616489745.6947927
         },
         {
          "cpu_percent": 98.4,
          "cpu_time": 5.529999999999999,
          "name": "TranCityTS_1",
          "real_mem": 323792896,
          "time": 1616489745.7692828
         },
         {
          "cpu_percent": 97.6,
          "cpu_time": 5.550000000000001,
          "name": "CustMercTS_1",
          "real_mem": 323944448,
          "time": 1616489745.7913918
         },
         {
          "cpu_percent": 280.1,
          "cpu_time": 5.59,
          "name": "ReadCsvProjectSpace_1",
          "real_mem": 324206592,
          "time": 1616489745.8142705
         },
         {
          "cpu_percent": 98.4,
          "cpu_time": 5.630000000000001,
          "name": "TranTypeTS_1",
          "real_mem": 324546560,
          "time": 1616489745.8699558
         },
         {
          "cpu_percent": 195,
          "cpu_time": 5.680000000000001,
          "name": "CustStatic_1",
          "real_mem": 325615616,
          "time": 1616489745.8941596
         },
         {
          "cpu_percent": 0,
          "cpu_time": 5.7,
          "name": "ProdTypeTS_1",
          "real_mem": 325865472,
          "time": 1616489745.916277
         },
         {
          "cpu_percent": 196.2,
          "cpu_time": 5.79,
          "name": "Concat_2",
          "real_mem": 327335936,
          "time": 1616489745.9928246
         },
         {
          "cpu_percent": 196.5,
          "cpu_time": 5.75,
          "name": "MercStatic_1",
          "real_mem": 326803456,
          "time": 1616489745.9704173
         },
         {
          "cpu_percent": 196.1,
          "cpu_time": 5.84,
          "name": "Concat_1",
          "real_mem": 327503872,
          "time": 1616489746.0706468
         },
         {
          "cpu_percent": 196.7,
          "cpu_time": 5.89,
          "name": "TranCityTS_1",
          "real_mem": 327909376,
          "time": 1616489746.0926828
         },
         {
          "cpu_percent": 196.3,
          "cpu_time": 5.95,
          "name": "CustMercTS_1",
          "real_mem": 328142848,
          "time": 1616489746.171358
         },
         {
          "cpu_percent": 98.5,
          "cpu_time": 5.97,
          "name": "ReadCsvProjectSpace_1",
          "real_mem": 328355840,
          "time": 1616489746.1936548
         },
         {
          "cpu_percent": 0,
          "cpu_time": 5.99,
          "name": "TranTypeTS_1",
          "real_mem": 328613888,
          "time": 1616489746.2160542
         },
         {
          "cpu_percent": 98.3,
          "cpu_time": 6.06,
          "name": "ProdTypeTS_1",
          "real_mem": 329523200,
          "time": 1616489746.2928941
         },
         {
          "cpu_percent": 98.3,
          "cpu_time": 6.03,
          "name": "CustStatic_1",
          "real_mem": 329441280,
          "time": 1616489746.2706337
         },
         {
          "cpu_percent": 98.7,
          "cpu_time": 6.08,
          "name": "MercStatic_1",
          "real_mem": 329789440,
          "time": 1616489746.3151116
         },
         {
          "cpu_percent": 196.3,
          "cpu_time": 6.13,
          "name": "Concat_2",
          "real_mem": 330600448,
          "time": 1616489746.3702815
         },
         {
          "cpu_percent": 98.2,
          "cpu_time": 6.17,
          "name": "Concat_1",
          "real_mem": 330817536,
          "time": 1616489746.3932812
         },
         {
          "cpu_percent": 295.4,
          "cpu_time": 6.199999999999999,
          "name": "TranCityTS_1",
          "real_mem": 330817536,
          "time": 1616489746.4591386
         },
         {
          "cpu_percent": 294.9,
          "cpu_time": 6.25,
          "name": "CustMercTS_1",
          "real_mem": 331223040,
          "time": 1616489746.4813714
         },
         {
          "cpu_percent": 0,
          "cpu_time": 6.27,
          "name": "ReadCsvProjectSpace_1",
          "real_mem": 331223040,
          "time": 1616489746.5036564
         },
         {
          "cpu_percent": 193.4,
          "cpu_time": 6.319999999999999,
          "name": "TranTypeTS_1",
          "real_mem": 331239424,
          "time": 1616489746.5714915
         },
         {
          "cpu_percent": 98.3,
          "cpu_time": 6.38,
          "name": "CustStatic_1",
          "real_mem": 331313152,
          "time": 1616489746.5950725
         },
         {
          "cpu_percent": 192.4,
          "cpu_time": 6.42,
          "name": "ProdTypeTS_1",
          "real_mem": 331993088,
          "time": 1616489746.6706867
         },
         {
          "cpu_percent": 96.5,
          "cpu_time": 6.47,
          "name": "MercStatic_1",
          "real_mem": 332431360,
          "time": 1616489746.693149
         },
         {
          "cpu_percent": 98.1,
          "cpu_time": 6.51,
          "name": "Concat_2",
          "real_mem": 332902400,
          "time": 1616489746.770914
         },
         {
          "cpu_percent": 195.8,
          "cpu_time": 6.54,
          "name": "Concat_1",
          "real_mem": 338575360,
          "time": 1616489746.7936192
         },
         {
          "cpu_percent": 98.1,
          "cpu_time": 6.57,
          "name": "TranCityTS_1",
          "real_mem": 338845696,
          "time": 1616489746.8171723
         },
         {
          "cpu_percent": 98.1,
          "cpu_time": 6.6,
          "name": "CustMercTS_1",
          "real_mem": 339640320,
          "time": 1616489746.8713276
         },
         {
          "cpu_percent": 196.1,
          "cpu_time": 6.64,
          "name": "ReadCsvProjectSpace_1",
          "real_mem": 339644416,
          "time": 1616489746.8942409
         },
         {
          "cpu_percent": 0,
          "cpu_time": 6.760000000000001,
          "name": "MercStatic_1",
          "real_mem": 341938176,
          "time": 1616489747.0498323
         },
         {
          "cpu_percent": 0,
          "cpu_time": 6.6499999999999995,
          "name": "TranTypeTS_1",
          "real_mem": 339898368,
          "time": 1616489746.917098
         },
         {
          "cpu_percent": 98.3,
          "cpu_time": 6.68,
          "name": "CustStatic_1",
          "real_mem": 339898368,
          "time": 1616489746.970347
         },
         {
          "cpu_percent": 196.4,
          "cpu_time": 6.71,
          "name": "ProdTypeTS_1",
          "real_mem": 341372928,
          "time": 1616489746.9929693
         },
         {
          "cpu_percent": 294,
          "cpu_time": 6.840000000000001,
          "name": "Concat_2",
          "real_mem": 342159360,
          "time": 1616489747.0743914
         },
         {
          "cpu_percent": 0,
          "cpu_time": 6.8500000000000005,
          "name": "Concat_1",
          "real_mem": 342409216,
          "time": 1616489747.097157
         },
         {
          "cpu_percent": 196.1,
          "cpu_time": 6.99,
          "name": "ReadCsvProjectSpace_1",
          "real_mem": 343973888,
          "time": 1616489747.2702723
         },
         {
          "cpu_percent": 196.6,
          "cpu_time": 7.04,
          "name": "TranTypeTS_1",
          "real_mem": 345038848,
          "time": 1616489747.292889
         },
         {
          "cpu_percent": 0,
          "cpu_time": 6.930000000000001,
          "name": "CustMercTS_1",
          "real_mem": 343248896,
          "time": 1616489747.1937897
         },
         {
          "cpu_percent": 193.5,
          "cpu_time": 6.9,
          "name": "TranCityTS_1",
          "real_mem": 342446080,
          "time": 1616489747.1709576
         },
         {
          "cpu_percent": 293.9,
          "cpu_time": 7.11,
          "name": "CustStatic_1",
          "real_mem": 345604096,
          "time": 1616489747.3729703
         },
         {
          "cpu_percent": 0,
          "cpu_time": 7.13,
          "name": "ProdTypeTS_1",
          "real_mem": 345870336,
          "time": 1616489747.3962986
         },
         {
          "cpu_percent": 196.7,
          "cpu_time": 7.18,
          "name": "MercStatic_1",
          "real_mem": 346787840,
          "time": 1616489747.4705238
         },
         {
          "cpu_percent": 195.8,
          "cpu_time": 7.239999999999999,
          "name": "Concat_2",
          "real_mem": 347463680,
          "time": 1616489747.4930024
         },
         {
          "cpu_percent": 197,
          "cpu_time": 7.29,
          "name": "Concat_1",
          "real_mem": 349544448,
          "time": 1616489747.5707672
         },
         {
          "cpu_percent": 197.3,
          "cpu_time": 7.33,
          "name": "TranCityTS_1",
          "real_mem": 350187520,
          "time": 1616489747.5926602
         },
         {
          "cpu_percent": 0,
          "cpu_time": 7.33,
          "name": "CustMercTS_1",
          "real_mem": 350187520,
          "time": 1616489747.6482272
         },
         {
          "cpu_percent": 98.1,
          "cpu_time": 7.37,
          "name": "ReadCsvProjectSpace_1",
          "real_mem": 354324480,
          "time": 1616489747.6721082
         },
         {
          "cpu_percent": 196.7,
          "cpu_time": 7.470000000000001,
          "name": "CustStatic_1",
          "real_mem": 357187584,
          "time": 1616489747.7706428
         },
         {
          "cpu_percent": 196.1,
          "cpu_time": 7.43,
          "name": "TranTypeTS_1",
          "real_mem": 355573760,
          "time": 1616489747.6943095
         },
         {
          "cpu_percent": 195,
          "cpu_time": 7.52,
          "name": "ProdTypeTS_1",
          "real_mem": 361549824,
          "time": 1616489747.7929575
         },
         {
          "cpu_percent": 196.1,
          "cpu_time": 7.5600000000000005,
          "name": "MercStatic_1",
          "real_mem": 362311680,
          "time": 1616489747.8705177
         },
         {
          "cpu_percent": 295,
          "cpu_time": 7.619999999999999,
          "name": "Concat_2",
          "real_mem": 363380736,
          "time": 1616489747.892781
         },
         {
          "cpu_percent": 295.1,
          "cpu_time": 7.69,
          "name": "Concat_1",
          "real_mem": 363642880,
          "time": 1616489747.9728415
         },
         {
          "cpu_percent": 392.2,
          "cpu_time": 7.75,
          "name": "TranCityTS_1",
          "real_mem": 364425216,
          "time": 1616489748.0592775
         },
         {
          "cpu_percent": 194.4,
          "cpu_time": 7.8,
          "name": "CustMercTS_1",
          "real_mem": 364933120,
          "time": 1616489748.1485915
         },
         {
          "cpu_percent": 392.2,
          "cpu_time": 7.89,
          "name": "ReadCsvProjectSpace_1",
          "real_mem": 365588480,
          "time": 1616489748.1728675
         },
         {
          "cpu_percent": 0,
          "cpu_time": 7.9,
          "name": "TranTypeTS_1",
          "real_mem": 365682688,
          "time": 1616489748.1954315
         },
         {
          "cpu_percent": 295.1,
          "cpu_time": 7.95,
          "name": "CustStatic_1",
          "real_mem": 365682688,
          "time": 1616489748.2708442
         },
         {
          "cpu_percent": 96.2,
          "cpu_time": 7.989999999999999,
          "name": "ProdTypeTS_1",
          "real_mem": 367222784,
          "time": 1616489748.3483746
         },
         {
          "cpu_percent": 96.6,
          "cpu_time": 8.03,
          "name": "MercStatic_1",
          "real_mem": 370946048,
          "time": 1616489748.3716109
         },
         {
          "cpu_percent": 195,
          "cpu_time": 8.09,
          "name": "Concat_2",
          "real_mem": 373325824,
          "time": 1616489748.3945212
         },
         {
          "cpu_percent": 196.2,
          "cpu_time": 8.15,
          "name": "Concat_1",
          "real_mem": 375046144,
          "time": 1616489748.4705544
         },
         {
          "cpu_percent": 44.8,
          "cpu_time": 8.2,
          "name": "TranCityTS_1",
          "real_mem": 376324096,
          "time": 1616489748.5494156
         },
         {
          "cpu_percent": 295.2,
          "cpu_time": 8.25,
          "name": "CustMercTS_1",
          "real_mem": 376651776,
          "time": 1616489748.571668
         },
         {
          "cpu_percent": 15.9,
          "cpu_time": 8.29,
          "name": "ReadCsvProjectSpace_1",
          "real_mem": 376651776,
          "time": 1616489748.648412
         },
         {
          "cpu_percent": 186.2,
          "cpu_time": 8.33,
          "name": "TranTypeTS_1",
          "real_mem": 377081856,
          "time": 1616489748.6711586
         },
         {
          "cpu_percent": 98.3,
          "cpu_time": 8.379999999999999,
          "name": "CustStatic_1",
          "real_mem": 377618432,
          "time": 1616489748.6935024
         },
         {
          "cpu_percent": 196.7,
          "cpu_time": 8.42,
          "name": "ProdTypeTS_1",
          "real_mem": 379633664,
          "time": 1616489748.770399
         },
         {
          "cpu_percent": 196.3,
          "cpu_time": 8.469999999999999,
          "name": "MercStatic_1",
          "real_mem": 380559360,
          "time": 1616489748.792824
         },
         {
          "cpu_percent": 0,
          "cpu_time": 8.469999999999999,
          "name": "Concat_2",
          "real_mem": 380559360,
          "time": 1616489748.8483644
         },
         {
          "cpu_percent": 195.3,
          "cpu_time": 8.52,
          "name": "Concat_1",
          "real_mem": 381116416,
          "time": 1616489748.870802
         },
         {
          "cpu_percent": 195.5,
          "cpu_time": 8.57,
          "name": "TranCityTS_1",
          "real_mem": 381538304,
          "time": 1616489748.8958783
         },
         {
          "cpu_percent": 196.3,
          "cpu_time": 8.6,
          "name": "CustMercTS_1",
          "real_mem": 382001152,
          "time": 1616489748.9715025
         },
         {
          "cpu_percent": 98.2,
          "cpu_time": 8.620000000000001,
          "name": "ReadCsvProjectSpace_1",
          "real_mem": 382537728,
          "time": 1616489748.9943495
         },
         {
          "cpu_percent": 97.9,
          "cpu_time": 8.65,
          "name": "TranTypeTS_1",
          "real_mem": 383344640,
          "time": 1616489749.0166988
         },
         {
          "cpu_percent": 186.5,
          "cpu_time": 8.76,
          "name": "ProdTypeTS_1",
          "real_mem": 383782912,
          "time": 1616489749.0934622
         },
         {
          "cpu_percent": 294.6,
          "cpu_time": 8.71,
          "name": "CustStatic_1",
          "real_mem": 383516672,
          "time": 1616489749.0698667
         },
         {
          "cpu_percent": 287.9,
          "cpu_time": 8.82,
          "name": "MercStatic_1",
          "real_mem": 383827968,
          "time": 1616489749.1705475
         },
         {
          "cpu_percent": 268.4,
          "cpu_time": 8.93,
          "name": "Concat_1",
          "real_mem": 385069056,
          "time": 1616489749.271895
         },
         {
          "cpu_percent": 0,
          "cpu_time": 8.870000000000001,
          "name": "Concat_2",
          "real_mem": 384585728,
          "time": 1616489749.1935363
         },
         {
          "cpu_percent": 196.7,
          "cpu_time": 9.04,
          "name": "CustMercTS_1",
          "real_mem": 385515520,
          "time": 1616489749.381978
         },
         {
          "cpu_percent": 294.1,
          "cpu_time": 8.989999999999998,
          "name": "TranCityTS_1",
          "real_mem": 385249280,
          "time": 1616489749.3592644
         },
         {
          "cpu_percent": 0,
          "cpu_time": 9.05,
          "name": "ReadCsvProjectSpace_1",
          "real_mem": 385650688,
          "time": 1616489749.40475
         },
         {
          "cpu_percent": 196.4,
          "cpu_time": 9.100000000000001,
          "name": "TranTypeTS_1",
          "real_mem": 385650688,
          "time": 1616489749.470763
         },
         {
          "cpu_percent": 98.9,
          "cpu_time": 9.14,
          "name": "CustStatic_1",
          "real_mem": 386457600,
          "time": 1616489749.4927874
         },
         {
          "cpu_percent": 194,
          "cpu_time": 9.190000000000001,
          "name": "ProdTypeTS_1",
          "real_mem": 386596864,
          "time": 1616489749.5715532
         },
         {
          "cpu_percent": 295.1,
          "cpu_time": 9.3,
          "name": "Concat_2",
          "real_mem": 387055616,
          "time": 1616489749.671347
         },
         {
          "cpu_percent": 196.4,
          "cpu_time": 9.25,
          "name": "MercStatic_1",
          "real_mem": 386863104,
          "time": 1616489749.5938256
         },
         {
          "cpu_percent": 196.2,
          "cpu_time": 9.34,
          "name": "Concat_1",
          "real_mem": 387452928,
          "time": 1616489749.6935153
         },
         {
          "cpu_percent": 195.6,
          "cpu_time": 9.39,
          "name": "TranCityTS_1",
          "real_mem": 389070848,
          "time": 1616489749.771762
         },
         {
          "cpu_percent": 0,
          "cpu_time": 9.42,
          "name": "CustMercTS_1",
          "real_mem": 389341184,
          "time": 1616489749.7941482
         },
         {
          "cpu_percent": 196.5,
          "cpu_time": 9.47,
          "name": "ReadCsvProjectSpace_1",
          "real_mem": 389672960,
          "time": 1616489749.870235
         },
         {
          "cpu_percent": 195.5,
          "cpu_time": 9.530000000000001,
          "name": "TranTypeTS_1",
          "real_mem": 389783552,
          "time": 1616489749.8938756
         },
         {
          "cpu_percent": 196.4,
          "cpu_time": 9.58,
          "name": "CustStatic_1",
          "real_mem": 390234112,
          "time": 1616489749.9708629
         },
         {
          "cpu_percent": 196.4,
          "cpu_time": 9.63,
          "name": "ProdTypeTS_1",
          "real_mem": 390385664,
          "time": 1616489749.992904
         },
         {
          "cpu_percent": 194.8,
          "cpu_time": 9.67,
          "name": "MercStatic_1",
          "real_mem": 391061504,
          "time": 1616489750.0704942
         },
         {
          "cpu_percent": 196.3,
          "cpu_time": 9.71,
          "name": "Concat_2",
          "real_mem": 394031104,
          "time": 1616489750.0935388
         },
         {
          "cpu_percent": 194.9,
          "cpu_time": 9.76,
          "name": "Concat_1",
          "real_mem": 394153984,
          "time": 1616489750.1706257
         },
         {
          "cpu_percent": 30.6,
          "cpu_time": 9.82,
          "name": "TranCityTS_1",
          "real_mem": 395563008,
          "time": 1616489750.2486029
         },
         {
          "cpu_percent": 294.5,
          "cpu_time": 9.879999999999999,
          "name": "CustMercTS_1",
          "real_mem": 395837440,
          "time": 1616489750.2731938
         },
         {
          "cpu_percent": 98.2,
          "cpu_time": 9.91,
          "name": "ReadCsvProjectSpace_1",
          "real_mem": 391192576,
          "time": 1616489750.2955208
         },
         {
          "cpu_percent": 196.3,
          "cpu_time": 9.95,
          "name": "TranTypeTS_1",
          "real_mem": 391462912,
          "time": 1616489750.3720045
         },
         {
          "cpu_percent": 194.9,
          "cpu_time": 10,
          "name": "CustStatic_1",
          "real_mem": 391847936,
          "time": 1616489750.3944757
         },
         {
          "cpu_percent": 294.3,
          "cpu_time": 10.049999999999999,
          "name": "ProdTypeTS_1",
          "real_mem": 392237056,
          "time": 1616489750.4708025
         },
         {
          "cpu_percent": 196.7,
          "cpu_time": 10.129999999999999,
          "name": "Concat_2",
          "real_mem": 394178560,
          "time": 1616489750.5708058
         },
         {
          "cpu_percent": 96.2,
          "cpu_time": 10.09,
          "name": "MercStatic_1",
          "real_mem": 393117696,
          "time": 1616489750.5481834
         },
         {
          "cpu_percent": 196.2,
          "cpu_time": 10.18,
          "name": "Concat_1",
          "real_mem": 394530816,
          "time": 1616489750.5928688
         },
         {
          "cpu_percent": 196.5,
          "cpu_time": 10.24,
          "name": "TranCityTS_1",
          "real_mem": 394797056,
          "time": 1616489750.6712937
         },
         {
          "cpu_percent": 195.6,
          "cpu_time": 10.28,
          "name": "CustMercTS_1",
          "real_mem": 395104256,
          "time": 1616489750.6938848
         },
         {
          "cpu_percent": 196.1,
          "cpu_time": 10.33,
          "name": "ReadCsvProjectSpace_1",
          "real_mem": 395333632,
          "time": 1616489750.771332
         },
         {
          "cpu_percent": 196.1,
          "cpu_time": 10.379999999999999,
          "name": "TranTypeTS_1",
          "real_mem": 395657216,
          "time": 1616489750.7951982
         },
         {
          "cpu_percent": 97.7,
          "cpu_time": 10.469999999999999,
          "name": "ProdTypeTS_1",
          "real_mem": 397062144,
          "time": 1616489750.8931096
         },
         {
          "cpu_percent": 196,
          "cpu_time": 10.44,
          "name": "CustStatic_1",
          "real_mem": 396181504,
          "time": 1616489750.8706925
         },
         {
          "cpu_percent": 196.2,
          "cpu_time": 10.520000000000001,
          "name": "MercStatic_1",
          "real_mem": 397979648,
          "time": 1616489750.9713361
         },
         {
          "cpu_percent": 196.4,
          "cpu_time": 10.57,
          "name": "Concat_2",
          "real_mem": 398327808,
          "time": 1616489750.9933393
         },
         {
          "cpu_percent": 191.3,
          "cpu_time": 10.620000000000001,
          "name": "Concat_1",
          "real_mem": 398598144,
          "time": 1616489751.0720444
         },
         {
          "cpu_percent": 196.1,
          "cpu_time": 10.67,
          "name": "TranCityTS_1",
          "real_mem": 398684160,
          "time": 1616489751.095254
         },
         {
          "cpu_percent": 194.7,
          "cpu_time": 10.76,
          "name": "ReadCsvProjectSpace_1",
          "real_mem": 399376384,
          "time": 1616489751.1927767
         },
         {
          "cpu_percent": 195.5,
          "cpu_time": 10.72,
          "name": "CustMercTS_1",
          "real_mem": 399040512,
          "time": 1616489751.1702945
         },
         {
          "cpu_percent": 293.7,
          "cpu_time": 10.81,
          "name": "TranTypeTS_1",
          "real_mem": 399732736,
          "time": 1616489751.271252
         },
         {
          "cpu_percent": 195.5,
          "cpu_time": 10.86,
          "name": "CustStatic_1",
          "real_mem": 399810560,
          "time": 1616489751.2953646
         },
         {
          "cpu_percent": 195.7,
          "cpu_time": 10.91,
          "name": "ProdTypeTS_1",
          "real_mem": 400887808,
          "time": 1616489751.3710759
         },
         {
          "cpu_percent": 98.2,
          "cpu_time": 10.95,
          "name": "MercStatic_1",
          "real_mem": 403955712,
          "time": 1616489751.393212
         },
         {
          "cpu_percent": 196.2,
          "cpu_time": 11,
          "name": "Concat_2",
          "real_mem": 404221952,
          "time": 1616489751.4703562
         },
         {
          "cpu_percent": 15.5,
          "cpu_time": 11.04,
          "name": "Concat_1",
          "real_mem": 404582400,
          "time": 1616489751.5483994
         },
         {
          "cpu_percent": 294.9,
          "cpu_time": 11.16,
          "name": "CustMercTS_1",
          "real_mem": 405516288,
          "time": 1616489751.5940375
         },
         {
          "cpu_percent": 191.8,
          "cpu_time": 11.1,
          "name": "TranCityTS_1",
          "real_mem": 405172224,
          "time": 1616489751.5717628
         },
         {
          "cpu_percent": 196.7,
          "cpu_time": 11.2,
          "name": "ReadCsvProjectSpace_1",
          "real_mem": 405782528,
          "time": 1616489751.6705632
         },
         {
          "cpu_percent": 98.3,
          "cpu_time": 11.24,
          "name": "TranTypeTS_1",
          "real_mem": 405966848,
          "time": 1616489751.74862
         },
         {
          "cpu_percent": 196.4,
          "cpu_time": 11.29,
          "name": "CustStatic_1",
          "real_mem": 406667264,
          "time": 1616489751.7716024
         },
         {
          "cpu_percent": 15.4,
          "cpu_time": 11.33,
          "name": "ProdTypeTS_1",
          "real_mem": 409370624,
          "time": 1616489751.8488677
         },
         {
          "cpu_percent": 293.7,
          "cpu_time": 11.389999999999999,
          "name": "MercStatic_1",
          "real_mem": 409997312,
          "time": 1616489751.8723974
         },
         {
          "cpu_percent": 294.7,
          "cpu_time": 11.489999999999998,
          "name": "Concat_1",
          "real_mem": 410628096,
          "time": 1616489751.971729
         },
         {
          "cpu_percent": 195.9,
          "cpu_time": 11.579999999999998,
          "name": "CustMercTS_1",
          "real_mem": 411029504,
          "time": 1616489752.071195
         },
         {
          "cpu_percent": 97.7,
          "cpu_time": 11.42,
          "name": "Concat_2",
          "real_mem": 410161152,
          "time": 1616489751.8954356
         },
         {
          "cpu_percent": 15.4,
          "cpu_time": 11.530000000000001,
          "name": "TranCityTS_1",
          "real_mem": 410910720,
          "time": 1616489752.0485802
         },
         {
          "cpu_percent": 196.2,
          "cpu_time": 11.620000000000001,
          "name": "ReadCsvProjectSpace_1",
          "real_mem": 411394048,
          "time": 1616489752.0952191
         },
         {
          "cpu_percent": 294.6,
          "cpu_time": 11.71,
          "name": "CustStatic_1",
          "real_mem": 412221440,
          "time": 1616489752.1933208
         },
         {
          "cpu_percent": 196.4,
          "cpu_time": 11.66,
          "name": "TranTypeTS_1",
          "real_mem": 411815936,
          "time": 1616489752.170842
         },
         {
          "cpu_percent": 196.1,
          "cpu_time": 11.75,
          "name": "ProdTypeTS_1",
          "real_mem": 409731072,
          "time": 1616489752.2713711
         },
         {
          "cpu_percent": 191.6,
          "cpu_time": 11.8,
          "name": "MercStatic_1",
          "real_mem": 410050560,
          "time": 1616489752.2945135
         },
         {
          "cpu_percent": 96.8,
          "cpu_time": 11.83,
          "name": "Concat_2",
          "real_mem": 410480640,
          "time": 1616489752.3709342
         },
         {
          "cpu_percent": 196.1,
          "cpu_time": 11.860000000000001,
          "name": "Concat_1",
          "real_mem": 412110848,
          "time": 1616489752.394474
         },
         {
          "cpu_percent": 98,
          "cpu_time": 11.91,
          "name": "TranCityTS_1",
          "real_mem": 412262400,
          "time": 1616489752.4173665
         },
         {
          "cpu_percent": 294,
          "cpu_time": 11.96,
          "name": "CustMercTS_1",
          "real_mem": 412262400,
          "time": 1616489752.4714317
         },
         {
          "cpu_percent": 98.2,
          "cpu_time": 11.99,
          "name": "ReadCsvProjectSpace_1",
          "real_mem": 412262400,
          "time": 1616489752.4937367
         },
         {
          "cpu_percent": 98.3,
          "cpu_time": 12.040000000000001,
          "name": "CustStatic_1",
          "real_mem": 412651520,
          "time": 1616489752.593841
         },
         {
          "cpu_percent": 98.4,
          "cpu_time": 12.02,
          "name": "TranTypeTS_1",
          "real_mem": 412262400,
          "time": 1616489752.5716374
         },
         {
          "cpu_percent": 98.3,
          "cpu_time": 12.07,
          "name": "ProdTypeTS_1",
          "real_mem": 412758016,
          "time": 1616489752.6168337
         },
         {
          "cpu_percent": 196.2,
          "cpu_time": 12.13,
          "name": "MercStatic_1",
          "real_mem": 412758016,
          "time": 1616489752.6706412
         },
         {
          "cpu_percent": 196.3,
          "cpu_time": 12.18,
          "name": "Concat_2",
          "real_mem": 413278208,
          "time": 1616489752.6941555
         },
         {
          "cpu_percent": 98.4,
          "cpu_time": 12.21,
          "name": "Concat_1",
          "real_mem": 413646848,
          "time": 1616489752.770808
         },
         {
          "cpu_percent": 95.4,
          "cpu_time": 12.23,
          "name": "TranCityTS_1",
          "real_mem": 414228480,
          "time": 1616489752.7931657
         },
         {
          "cpu_percent": 195.8,
          "cpu_time": 12.26,
          "name": "CustMercTS_1",
          "real_mem": 414875648,
          "time": 1616489752.8163493
         },
         {
          "cpu_percent": 196,
          "cpu_time": 12.32,
          "name": "ReadCsvProjectSpace_1",
          "real_mem": 414937088,
          "time": 1616489752.870731
         },
         {
          "cpu_percent": 196.1,
          "cpu_time": 12.37,
          "name": "TranTypeTS_1",
          "real_mem": 415203328,
          "time": 1616489752.8948004
         },
         {
          "cpu_percent": 157.4,
          "cpu_time": 12.42,
          "name": "CustStatic_1",
          "real_mem": 415580160,
          "time": 1616489752.9734874
         },
         {
          "cpu_percent": 196.2,
          "cpu_time": 12.469999999999999,
          "name": "ProdTypeTS_1",
          "real_mem": 416026624,
          "time": 1616489752.996106
         },
         {
          "cpu_percent": 97.7,
          "cpu_time": 12.5,
          "name": "MercStatic_1",
          "real_mem": 416460800,
          "time": 1616489753.0722716
         },
         {
          "cpu_percent": 0,
          "cpu_time": 12.51,
          "name": "Concat_2",
          "real_mem": 416731136,
          "time": 1616489753.0946693
         },
         {
          "cpu_percent": 98.2,
          "cpu_time": 12.559999999999999,
          "name": "Concat_1",
          "real_mem": 417710080,
          "time": 1616489753.1481473
         },
         {
          "cpu_percent": 196.7,
          "cpu_time": 12.59,
          "name": "TranCityTS_1",
          "real_mem": 418553856,
          "time": 1616489753.1705563
         },
         {
          "cpu_percent": 98.2,
          "cpu_time": 12.61,
          "name": "CustMercTS_1",
          "real_mem": 419020800,
          "time": 1616489753.1927583
         },
         {
          "cpu_percent": 98,
          "cpu_time": 12.64,
          "name": "ReadCsvProjectSpace_1",
          "real_mem": 420061184,
          "time": 1616489753.2162507
         },
         {
          "cpu_percent": 96.5,
          "cpu_time": 12.66,
          "name": "TranTypeTS_1",
          "real_mem": 420401152,
          "time": 1616489753.248317
         },
         {
          "cpu_percent": 98,
          "cpu_time": 12.690000000000001,
          "name": "CustStatic_1",
          "real_mem": 421036032,
          "time": 1616489753.2723758
         },
         {
          "cpu_percent": 98.1,
          "cpu_time": 12.71,
          "name": "ProdTypeTS_1",
          "real_mem": 421330944,
          "time": 1616489753.2951083
         },
         {
          "cpu_percent": 293.9,
          "cpu_time": 12.83,
          "name": "Concat_2",
          "real_mem": 422133760,
          "time": 1616489753.3933423
         },
         {
          "cpu_percent": 195.8,
          "cpu_time": 12.790000000000001,
          "name": "MercStatic_1",
          "real_mem": 421937152,
          "time": 1616489753.3705776
         },
         {
          "cpu_percent": 98.5,
          "cpu_time": 12.860000000000001,
          "name": "Concat_1",
          "real_mem": 422715392,
          "time": 1616489753.4695344
         },
         {
          "cpu_percent": 98,
          "cpu_time": 12.91,
          "name": "TranCityTS_1",
          "real_mem": 423116800,
          "time": 1616489753.4919555
         },
         {
          "cpu_percent": 0,
          "cpu_time": 12.940000000000001,
          "name": "ReadCsvProjectSpace_1",
          "real_mem": 423591936,
          "time": 1616489753.5365152
         },
         {
          "cpu_percent": 98.1,
          "cpu_time": 12.93,
          "name": "CustMercTS_1",
          "real_mem": 423591936,
          "time": 1616489753.5139635
         },
         {
          "cpu_percent": 196.7,
          "cpu_time": 13.040000000000001,
          "name": "ProdTypeTS_1",
          "real_mem": 424800256,
          "time": 1616489753.615721
         },
         {
          "cpu_percent": 196.3,
          "cpu_time": 12.98,
          "name": "TranTypeTS_1",
          "real_mem": 423899136,
          "time": 1616489753.5703146
         },
         {
          "cpu_percent": 98.1,
          "cpu_time": 13,
          "name": "CustStatic_1",
          "real_mem": 424398848,
          "time": 1616489753.5926943
         },
         {
          "cpu_percent": 278.4,
          "cpu_time": 13.08,
          "name": "MercStatic_1",
          "real_mem": 425123840,
          "time": 1616489753.6718962
         },
         {
          "cpu_percent": 97.2,
          "cpu_time": 13.1,
          "name": "Concat_2",
          "real_mem": 425504768,
          "time": 1616489753.6940997
         },
         {
          "cpu_percent": 98.1,
          "cpu_time": 13.16,
          "name": "Concat_1",
          "real_mem": 426172416,
          "time": 1616489753.7697058
         },
         {
          "cpu_percent": 98.6,
          "cpu_time": 13.18,
          "name": "TranCityTS_1",
          "real_mem": 426172416,
          "time": 1616489753.792489
         },
         {
          "cpu_percent": 0,
          "cpu_time": 13.209999999999999,
          "name": "CustMercTS_1",
          "real_mem": 427073536,
          "time": 1616489753.814707
         },
         {
          "cpu_percent": 0,
          "cpu_time": 13.22,
          "name": "ReadCsvProjectSpace_1",
          "real_mem": 427073536,
          "time": 1616489753.837727
         },
         {
          "cpu_percent": 98.4,
          "cpu_time": 13.25,
          "name": "TranTypeTS_1",
          "real_mem": 427192320,
          "time": 1616489753.8712466
         },
         {
          "cpu_percent": 98.6,
          "cpu_time": 13.29,
          "name": "CustStatic_1",
          "real_mem": 427454464,
          "time": 1616489753.8944516
         },
         {
          "cpu_percent": 196.9,
          "cpu_time": 13.33,
          "name": "ProdTypeTS_1",
          "real_mem": 427692032,
          "time": 1616489753.958854
         },
         {
          "cpu_percent": 197.1,
          "cpu_time": 13.4,
          "name": "MercStatic_1",
          "real_mem": 428036096,
          "time": 1616489753.9816208
         },
         {
          "cpu_percent": 197.1,
          "cpu_time": 13.43,
          "name": "Concat_2",
          "real_mem": 428036096,
          "time": 1616489754.0589528
         },
         {
          "cpu_percent": 295,
          "cpu_time": 13.49,
          "name": "Concat_1",
          "real_mem": 428392448,
          "time": 1616489754.0812902
         },
         {
          "cpu_percent": 0,
          "cpu_time": 13.51,
          "name": "TranCityTS_1",
          "real_mem": 428560384,
          "time": 1616489754.1034772
         },
         {
          "cpu_percent": 196.5,
          "cpu_time": 13.6,
          "name": "ReadCsvProjectSpace_1",
          "real_mem": 428957696,
          "time": 1616489754.248459
         },
         {
          "cpu_percent": 197.3,
          "cpu_time": 13.559999999999999,
          "name": "CustMercTS_1",
          "real_mem": 428916736,
          "time": 1616489754.170417
         },
         {
          "cpu_percent": 97.7,
          "cpu_time": 13.69,
          "name": "CustStatic_1",
          "real_mem": 429273088,
          "time": 1616489754.2948465
         },
         {
          "cpu_percent": 295,
          "cpu_time": 13.66,
          "name": "TranTypeTS_1",
          "real_mem": 429273088,
          "time": 1616489754.27195
         },
         {
          "cpu_percent": 294.4,
          "cpu_time": 13.760000000000002,
          "name": "ProdTypeTS_1",
          "real_mem": 429477888,
          "time": 1616489754.3712249
         },
         {
          "cpu_percent": 196.3,
          "cpu_time": 13.8,
          "name": "MercStatic_1",
          "real_mem": 429666304,
          "time": 1616489754.3938875
         },
         {
          "cpu_percent": 197.3,
          "cpu_time": 13.850000000000001,
          "name": "Concat_2",
          "real_mem": 429764608,
          "time": 1616489754.4701638
         },
         {
          "cpu_percent": 195.1,
          "cpu_time": 13.899999999999999,
          "name": "Concat_1",
          "real_mem": 429985792,
          "time": 1616489754.492303
         },
         {
          "cpu_percent": 292.4,
          "cpu_time": 13.95,
          "name": "TranCityTS_1",
          "real_mem": 430309376,
          "time": 1616489754.5721724
         },
         {
          "cpu_percent": 15.6,
          "cpu_time": 13.98,
          "name": "CustMercTS_1",
          "real_mem": 430489600,
          "time": 1616489754.6484232
         },
         {
          "cpu_percent": 196.8,
          "cpu_time": 14.08,
          "name": "TranTypeTS_1",
          "real_mem": 430944256,
          "time": 1616489754.6931746
         },
         {
          "cpu_percent": 295.1,
          "cpu_time": 14.040000000000001,
          "name": "ReadCsvProjectSpace_1",
          "real_mem": 430784512,
          "time": 1616489754.6710193
         },
         {
          "cpu_percent": 294.8,
          "cpu_time": 14.13,
          "name": "CustStatic_1",
          "real_mem": 431136768,
          "time": 1616489754.7707264
         },
         {
          "cpu_percent": 97.4,
          "cpu_time": 14.18,
          "name": "ProdTypeTS_1",
          "real_mem": 431632384,
          "time": 1616489754.7933464
         },
         {
          "cpu_percent": 96.6,
          "cpu_time": 14.21,
          "name": "MercStatic_1",
          "real_mem": 432234496,
          "time": 1616489754.8710644
         },
         {
          "cpu_percent": 98.3,
          "cpu_time": 14.24,
          "name": "Concat_2",
          "real_mem": 432652288,
          "time": 1616489754.8940618
         },
         {
          "cpu_percent": 196.3,
          "cpu_time": 14.27,
          "name": "Concat_1",
          "real_mem": 432918528,
          "time": 1616489754.9163988
         },
         {
          "cpu_percent": 0,
          "cpu_time": 14.28,
          "name": "TranCityTS_1",
          "real_mem": 432918528,
          "time": 1616489754.9387498
         },
         {
          "cpu_percent": 98.1,
          "cpu_time": 14.3,
          "name": "CustMercTS_1",
          "real_mem": 433389568,
          "time": 1616489754.971157
         },
         {
          "cpu_percent": 0,
          "cpu_time": 14.36,
          "name": "TranTypeTS_1",
          "real_mem": 433549312,
          "time": 1616489755.0167975
         },
         {
          "cpu_percent": 196.7,
          "cpu_time": 14.35,
          "name": "ReadCsvProjectSpace_1",
          "real_mem": 433549312,
          "time": 1616489754.9938264
         },
         {
          "cpu_percent": 291.7,
          "cpu_time": 14.41,
          "name": "CustStatic_1",
          "real_mem": 433815552,
          "time": 1616489755.069573
         },
         {
          "cpu_percent": 295.4,
          "cpu_time": 14.459999999999999,
          "name": "ProdTypeTS_1",
          "real_mem": 433991680,
          "time": 1616489755.0917773
         },
         {
          "cpu_percent": 98.5,
          "cpu_time": 14.52,
          "name": "MercStatic_1",
          "real_mem": 422322176,
          "time": 1616489755.1718428
         },
         {
          "cpu_percent": 97.5,
          "cpu_time": 14.549999999999999,
          "name": "Concat_2",
          "real_mem": 422658048,
          "time": 1616489755.1938944
         },
         {
          "cpu_percent": 0,
          "cpu_time": 14.56,
          "name": "Concat_1",
          "real_mem": 422658048,
          "time": 1616489755.2161114
         },
         {
          "cpu_percent": 196,
          "cpu_time": 14.59,
          "name": "TranCityTS_1",
          "real_mem": 422727680,
          "time": 1616489755.270434
         },
         {
          "cpu_percent": 195.4,
          "cpu_time": 14.629999999999999,
          "name": "CustMercTS_1",
          "real_mem": 422797312,
          "time": 1616489755.2934337
         },
         {
          "cpu_percent": 197,
          "cpu_time": 14.69,
          "name": "TranTypeTS_1",
          "real_mem": 422920192,
          "time": 1616489755.370741
         },
         {
          "cpu_percent": 0,
          "cpu_time": 14.64,
          "name": "ReadCsvProjectSpace_1",
          "real_mem": 422920192,
          "time": 1616489755.3485243
         },
         {
          "cpu_percent": 98.4,
          "cpu_time": 14.729999999999999,
          "name": "CustStatic_1",
          "real_mem": 423219200,
          "time": 1616489755.3937302
         },
         {
          "cpu_percent": 98.1,
          "cpu_time": 14.75,
          "name": "ProdTypeTS_1",
          "real_mem": 423485440,
          "time": 1616489755.459041
         },
         {
          "cpu_percent": 98.6,
          "cpu_time": 14.79,
          "name": "MercStatic_1",
          "real_mem": 423944192,
          "time": 1616489755.4819512
         },
         {
          "cpu_percent": 193.9,
          "cpu_time": 14.83,
          "name": "Concat_2",
          "real_mem": 424075264,
          "time": 1616489755.5484731
         },
         {
          "cpu_percent": 295.3,
          "cpu_time": 14.899999999999999,
          "name": "Concat_1",
          "real_mem": 424243200,
          "time": 1616489755.5719538
         },
         {
          "cpu_percent": 0,
          "cpu_time": 14.92,
          "name": "CustMercTS_1",
          "real_mem": 424243200,
          "time": 1616489755.6167557
         },
         {
          "cpu_percent": 95.5,
          "cpu_time": 14.92,
          "name": "TranCityTS_1",
          "real_mem": 424243200,
          "time": 1616489755.5942607
         },
         {
          "cpu_percent": 286.3,
          "cpu_time": 14.969999999999999,
          "name": "ReadCsvProjectSpace_1",
          "real_mem": 424243200,
          "time": 1616489755.6697736
         },
         {
          "cpu_percent": 196,
          "cpu_time": 15.059999999999999,
          "name": "CustStatic_1",
          "real_mem": 425394176,
          "time": 1616489755.7718751
         },
         {
          "cpu_percent": 97.5,
          "cpu_time": 15.02,
          "name": "TranTypeTS_1",
          "real_mem": 425062400,
          "time": 1616489755.6938434
         },
         {
          "cpu_percent": 98.2,
          "cpu_time": 15.100000000000001,
          "name": "ProdTypeTS_1",
          "real_mem": 425394176,
          "time": 1616489755.8483822
         },
         {
          "cpu_percent": 196.2,
          "cpu_time": 15.16,
          "name": "MercStatic_1",
          "real_mem": 425619456,
          "time": 1616489755.8712451
         },
         {
          "cpu_percent": 98.8,
          "cpu_time": 15.200000000000001,
          "name": "Concat_2",
          "real_mem": 426672128,
          "time": 1616489755.8944478
         },
         {
          "cpu_percent": 0,
          "cpu_time": 15.22,
          "name": "Concat_1",
          "real_mem": 426741760,
          "time": 1616489755.9173248
         },
         {
          "cpu_percent": 196.2,
          "cpu_time": 15.25,
          "name": "TranCityTS_1",
          "real_mem": 427065344,
          "time": 1616489755.970735
         },
         {
          "cpu_percent": 196.1,
          "cpu_time": 15.3,
          "name": "CustMercTS_1",
          "real_mem": 427388928,
          "time": 1616489755.993439
         },
         {
          "cpu_percent": 196.2,
          "cpu_time": 15.36,
          "name": "ReadCsvProjectSpace_1",
          "real_mem": 427466752,
          "time": 1616489756.0703156
         },
         {
          "cpu_percent": 195,
          "cpu_time": 15.4,
          "name": "TranTypeTS_1",
          "real_mem": 427732992,
          "time": 1616489756.0938385
         },
         {
          "cpu_percent": 196.5,
          "cpu_time": 15.43,
          "name": "CustStatic_1",
          "real_mem": 427962368,
          "time": 1616489756.1701355
         },
         {
          "cpu_percent": 186.4,
          "cpu_time": 15.48,
          "name": "ProdTypeTS_1",
          "real_mem": 428081152,
          "time": 1616489756.193651
         },
         {
          "cpu_percent": 197.1,
          "cpu_time": 15.52,
          "name": "MercStatic_1",
          "real_mem": 428175360,
          "time": 1616489756.259229
         },
         {
          "cpu_percent": 98.3,
          "cpu_time": 15.56,
          "name": "Concat_2",
          "real_mem": 428175360,
          "time": 1616489756.2814746
         },
         {
          "cpu_percent": 95.6,
          "cpu_time": 15.59,
          "name": "Concat_1",
          "real_mem": 428199936,
          "time": 1616489756.3039112
         },
         {
          "cpu_percent": 195.3,
          "cpu_time": 15.72,
          "name": "TranTypeTS_1",
          "real_mem": 428761088,
          "time": 1616489756.4709077
         },
         {
          "cpu_percent": 294.3,
          "cpu_time": 15.65,
          "name": "TranCityTS_1",
          "real_mem": 428384256,
          "time": 1616489756.3718843
         },
         {
          "cpu_percent": 0,
          "cpu_time": 15.69,
          "name": "ReadCsvProjectSpace_1",
          "real_mem": 428384256,
          "time": 1616489756.4168963
         },
         {
          "cpu_percent": 98.3,
          "cpu_time": 15.68,
          "name": "CustMercTS_1",
          "real_mem": 428384256,
          "time": 1616489756.394179
         },
         {
          "cpu_percent": 195.1,
          "cpu_time": 15.76,
          "name": "CustStatic_1",
          "real_mem": 428986368,
          "time": 1616489756.494336
         },
         {
          "cpu_percent": 0,
          "cpu_time": 15.78,
          "name": "ProdTypeTS_1",
          "real_mem": 429527040,
          "time": 1616489756.548117
         },
         {
          "cpu_percent": 97.3,
          "cpu_time": 15.799999999999999,
          "name": "MercStatic_1",
          "real_mem": 429801472,
          "time": 1616489756.572243
         },
         {
          "cpu_percent": 196.6,
          "cpu_time": 15.86,
          "name": "Concat_2",
          "real_mem": 429834240,
          "time": 1616489756.5954964
         },
         {
          "cpu_percent": 196.7,
          "cpu_time": 15.93,
          "name": "Concat_1",
          "real_mem": 429932544,
          "time": 1616489756.6712027
         },
         {
          "cpu_percent": 15.3,
          "cpu_time": 15.969999999999999,
          "name": "TranCityTS_1",
          "real_mem": 430096384,
          "time": 1616489756.7485468
         },
         {
          "cpu_percent": 294.1,
          "cpu_time": 16.03,
          "name": "CustMercTS_1",
          "real_mem": 430215168,
          "time": 1616489756.7713284
         },
         {
          "cpu_percent": 0,
          "cpu_time": 16.07,
          "name": "ReadCsvProjectSpace_1",
          "real_mem": 430546944,
          "time": 1616489756.7942107
         },
         {
          "cpu_percent": 97.7,
          "cpu_time": 16.11,
          "name": "TranTypeTS_1",
          "real_mem": 430579712,
          "time": 1616489756.8710551
         },
         {
          "cpu_percent": 97.9,
          "cpu_time": 16.14,
          "name": "CustStatic_1",
          "real_mem": 430895104,
          "time": 1616489756.8934941
         },
         {
          "cpu_percent": 0,
          "cpu_time": 16.15,
          "name": "ProdTypeTS_1",
          "real_mem": 430895104,
          "time": 1616489756.9167733
         },
         {
          "cpu_percent": 98.3,
          "cpu_time": 16.19,
          "name": "MercStatic_1",
          "real_mem": 431185920,
          "time": 1616489756.9705608
         },
         {
          "cpu_percent": 98.3,
          "cpu_time": 16.21,
          "name": "Concat_2",
          "real_mem": 431431680,
          "time": 1616489756.9928982
         },
         {
          "cpu_percent": 98.3,
          "cpu_time": 16.25,
          "name": "Concat_1",
          "real_mem": 431505408,
          "time": 1616489757.015782
         },
         {
          "cpu_percent": 0,
          "cpu_time": 16.259999999999998,
          "name": "TranCityTS_1",
          "real_mem": 431505408,
          "time": 1616489757.0384269
         },
         {
          "cpu_percent": 98.2,
          "cpu_time": 16.28,
          "name": "CustMercTS_1",
          "real_mem": 431775744,
          "time": 1616489757.0702956
         },
         {
          "cpu_percent": 98.5,
          "cpu_time": 16.32,
          "name": "ReadCsvProjectSpace_1",
          "real_mem": 431824896,
          "time": 1616489757.093653
         },
         {
          "cpu_percent": 196.7,
          "cpu_time": 16.39,
          "name": "TranTypeTS_1",
          "real_mem": 432635904,
          "time": 1616489757.1706927
         },
         {
          "cpu_percent": 97.2,
          "cpu_time": 16.419999999999998,
          "name": "CustStatic_1",
          "real_mem": 432893952,
          "time": 1616489757.1928802
         },
         {
          "cpu_percent": 98.2,
          "cpu_time": 16.439999999999998,
          "name": "ProdTypeTS_1",
          "real_mem": 432951296,
          "time": 1616489757.248376
         },
         {
          "cpu_percent": 97.7,
          "cpu_time": 16.47,
          "name": "MercStatic_1",
          "real_mem": 433295360,
          "time": 1616489757.2710962
         },
         {
          "cpu_percent": 96.8,
          "cpu_time": 16.5,
          "name": "Concat_2",
          "real_mem": 433364992,
          "time": 1616489757.2938187
         },
         {
          "cpu_percent": 98.1,
          "cpu_time": 16.52,
          "name": "Concat_1",
          "real_mem": 433487872,
          "time": 1616489757.3167806
         },
         {
          "cpu_percent": 0,
          "cpu_time": 16.54,
          "name": "TranCityTS_1",
          "real_mem": 433487872,
          "time": 1616489757.3390129
         },
         {
          "cpu_percent": 98.1,
          "cpu_time": 16.560000000000002,
          "name": "CustMercTS_1",
          "real_mem": 433709056,
          "time": 1616489757.3707986
         },
         {
          "cpu_percent": 98.1,
          "cpu_time": 16.6,
          "name": "ReadCsvProjectSpace_1",
          "real_mem": 433709056,
          "time": 1616489757.393991
         },
         {
          "cpu_percent": 96.6,
          "cpu_time": 16.650000000000002,
          "name": "TranTypeTS_1",
          "real_mem": 433709056,
          "time": 1616489757.4701767
         },
         {
          "cpu_percent": 97.9,
          "cpu_time": 16.67,
          "name": "CustStatic_1",
          "real_mem": 433709056,
          "time": 1616489757.4929583
         },
         {
          "cpu_percent": 97.6,
          "cpu_time": 16.7,
          "name": "ProdTypeTS_1",
          "real_mem": 434024448,
          "time": 1616489757.521554
         },
         {
          "cpu_percent": 0,
          "cpu_time": 16.73,
          "name": "MercStatic_1",
          "real_mem": 434024448,
          "time": 1616489757.5441506
         },
         {
          "cpu_percent": 196.2,
          "cpu_time": 16.77,
          "name": "Concat_2",
          "real_mem": 434024448,
          "time": 1616489757.5708065
         },
         {
          "cpu_percent": 196.4,
          "cpu_time": 16.82,
          "name": "Concat_1",
          "real_mem": 434286592,
          "time": 1616489757.593968
         },
         {
          "cpu_percent": 97.4,
          "cpu_time": 16.86,
          "name": "TranCityTS_1",
          "real_mem": 434634752,
          "time": 1616489757.672268
         },
         {
          "cpu_percent": 98.3,
          "cpu_time": 16.9,
          "name": "ReadCsvProjectSpace_1",
          "real_mem": 434946048,
          "time": 1616489757.7170672
         },
         {
          "cpu_percent": 97.5,
          "cpu_time": 16.88,
          "name": "CustMercTS_1",
          "real_mem": 434946048,
          "time": 1616489757.6949086
         },
         {
          "cpu_percent": 195.3,
          "cpu_time": 16.96,
          "name": "TranTypeTS_1",
          "real_mem": 435388416,
          "time": 1616489757.7717462
         },
         {
          "cpu_percent": 98.1,
          "cpu_time": 16.990000000000002,
          "name": "CustStatic_1",
          "real_mem": 435728384,
          "time": 1616489757.7937896
         },
         {
          "cpu_percent": 0,
          "cpu_time": 17,
          "name": "ProdTypeTS_1",
          "real_mem": 435728384,
          "time": 1616489757.8163366
         },
         {
          "cpu_percent": 0,
          "cpu_time": 17,
          "name": "MercStatic_1",
          "real_mem": 435728384,
          "time": 1616489757.8392792
         },
         {
          "cpu_percent": 196.1,
          "cpu_time": 17.04,
          "name": "Concat_2",
          "real_mem": 435728384,
          "time": 1616489757.870795
         },
         {
          "cpu_percent": 294,
          "cpu_time": 17.08,
          "name": "Concat_1",
          "real_mem": 435961856,
          "time": 1616489757.8936126
         },
         {
          "cpu_percent": 193.3,
          "cpu_time": 17.14,
          "name": "TranCityTS_1",
          "real_mem": 436547584,
          "time": 1616489757.9705622
         },
         {
          "cpu_percent": 98.3,
          "cpu_time": 17.16,
          "name": "CustMercTS_1",
          "real_mem": 436744192,
          "time": 1616489757.9926724
         },
         {
          "cpu_percent": 196.3,
          "cpu_time": 17.19,
          "name": "ReadCsvProjectSpace_1",
          "real_mem": 437092352,
          "time": 1616489758.0154324
         },
         {
          "cpu_percent": 194.7,
          "cpu_time": 17.22,
          "name": "TranTypeTS_1",
          "real_mem": 437182464,
          "time": 1616489758.0716074
         },
         {
          "cpu_percent": 98.2,
          "cpu_time": 17.25,
          "name": "CustStatic_1",
          "real_mem": 437407744,
          "time": 1616489758.093718
         },
         {
          "cpu_percent": 98.7,
          "cpu_time": 17.28,
          "name": "ProdTypeTS_1",
          "real_mem": 437407744,
          "time": 1616489758.1164184
         },
         {
          "cpu_percent": 0,
          "cpu_time": 17.29,
          "name": "MercStatic_1",
          "real_mem": 437407744,
          "time": 1616489758.1393707
         },
         {
          "cpu_percent": 98.2,
          "cpu_time": 17.32,
          "name": "Concat_2",
          "real_mem": 437567488,
          "time": 1616489758.1712523
         },
         {
          "cpu_percent": 195.9,
          "cpu_time": 17.37,
          "name": "Concat_1",
          "real_mem": 437825536,
          "time": 1616489758.1973927
         },
         {
          "cpu_percent": 98.1,
          "cpu_time": 17.42,
          "name": "TranCityTS_1",
          "real_mem": 438202368,
          "time": 1616489758.2701354
         },
         {
          "cpu_percent": 98.1,
          "cpu_time": 17.45,
          "name": "CustMercTS_1",
          "real_mem": 438464512,
          "time": 1616489758.29346
         },
         {
          "cpu_percent": 74.8,
          "cpu_time": 17.48,
          "name": "ReadCsvProjectSpace_1",
          "real_mem": 438464512,
          "time": 1616489758.3486116
         },
         {
          "cpu_percent": 98.4,
          "cpu_time": 17.51,
          "name": "TranTypeTS_1",
          "real_mem": 438611968,
          "time": 1616489758.3719492
         },
         {
          "cpu_percent": 98.2,
          "cpu_time": 17.549999999999997,
          "name": "CustStatic_1",
          "real_mem": 438796288,
          "time": 1616489758.3943143
         },
         {
          "cpu_percent": 0,
          "cpu_time": 17.57,
          "name": "ProdTypeTS_1",
          "real_mem": 438796288,
          "time": 1616489758.4175591
         },
         {
          "cpu_percent": 98.1,
          "cpu_time": 17.61,
          "name": "MercStatic_1",
          "real_mem": 439070720,
          "time": 1616489758.4707832
         },
         {
          "cpu_percent": 0,
          "cpu_time": 17.66,
          "name": "Concat_1",
          "real_mem": 439439360,
          "time": 1616489758.515565
         },
         {
          "cpu_percent": 196.6,
          "cpu_time": 17.65,
          "name": "Concat_2",
          "real_mem": 439439360,
          "time": 1616489758.493403
         },
         {
          "cpu_percent": 292.9,
          "cpu_time": 17.72,
          "name": "TranCityTS_1",
          "real_mem": 439721984,
          "time": 1616489758.5722206
         },
         {
          "cpu_percent": 98.1,
          "cpu_time": 17.77,
          "name": "CustMercTS_1",
          "real_mem": 440074240,
          "time": 1616489758.594519
         },
         {
          "cpu_percent": 196.1,
          "cpu_time": 17.82,
          "name": "ReadCsvProjectSpace_1",
          "real_mem": 440328192,
          "time": 1616489758.6712983
         },
         {
          "cpu_percent": 0,
          "cpu_time": 17.85,
          "name": "TranTypeTS_1",
          "real_mem": 440586240,
          "time": 1616489758.6937096
         },
         {
          "cpu_percent": 195.5,
          "cpu_time": 17.900000000000002,
          "name": "CustStatic_1",
          "real_mem": 440594432,
          "time": 1616489758.7709699
         },
         {
          "cpu_percent": 97.5,
          "cpu_time": 17.95,
          "name": "ProdTypeTS_1",
          "real_mem": 440918016,
          "time": 1616489758.848599
         },
         {
          "cpu_percent": 185.1,
          "cpu_time": 18,
          "name": "MercStatic_1",
          "real_mem": 441184256,
          "time": 1616489758.8714523
         },
         {
          "cpu_percent": 30.7,
          "cpu_time": 18.05,
          "name": "Concat_2",
          "real_mem": 441425920,
          "time": 1616489758.9483793
         },
         {
          "cpu_percent": 194.8,
          "cpu_time": 18.09,
          "name": "Concat_1",
          "real_mem": 441622528,
          "time": 1616489758.9712372
         },
         {
          "cpu_percent": 98.4,
          "cpu_time": 18.14,
          "name": "TranCityTS_1",
          "real_mem": 442703872,
          "time": 1616489758.9945307
         },
         {
          "cpu_percent": 196.7,
          "cpu_time": 18.19,
          "name": "CustMercTS_1",
          "real_mem": 442703872,
          "time": 1616489759.0702047
         },
         {
          "cpu_percent": 15.1,
          "cpu_time": 18.240000000000002,
          "name": "ReadCsvProjectSpace_1",
          "real_mem": 442753024,
          "time": 1616489759.148716
         },
         {
          "cpu_percent": 191.4,
          "cpu_time": 18.29,
          "name": "TranTypeTS_1",
          "real_mem": 443215872,
          "time": 1616489759.1715388
         },
         {
          "cpu_percent": 98,
          "cpu_time": 18.330000000000002,
          "name": "CustStatic_1",
          "real_mem": 443215872,
          "time": 1616489759.1953363
         },
         {
          "cpu_percent": 195.3,
          "cpu_time": 18.44,
          "name": "MercStatic_1",
          "real_mem": 443674624,
          "time": 1616489759.29383
         },
         {
          "cpu_percent": 196.1,
          "cpu_time": 18.38,
          "name": "ProdTypeTS_1",
          "real_mem": 443301888,
          "time": 1616489759.2708993
         },
         {
          "cpu_percent": 286.2,
          "cpu_time": 18.5,
          "name": "Concat_2",
          "real_mem": 443813888,
          "time": 1616489759.3728087
         },
         {
          "cpu_percent": 31.6,
          "cpu_time": 18.53,
          "name": "Concat_1",
          "real_mem": 443813888,
          "time": 1616489759.448844
         },
         {
          "cpu_percent": 97.9,
          "cpu_time": 18.619999999999997,
          "name": "CustMercTS_1",
          "real_mem": 444342272,
          "time": 1616489759.4948044
         },
         {
          "cpu_percent": 196.5,
          "cpu_time": 18.57,
          "name": "TranCityTS_1",
          "real_mem": 444006400,
          "time": 1616489759.4718
         },
         {
          "cpu_percent": 196.2,
          "cpu_time": 18.669999999999998,
          "name": "ReadCsvProjectSpace_1",
          "real_mem": 444448768,
          "time": 1616489759.5720313
         },
         {
          "cpu_percent": 97.4,
          "cpu_time": 18.709999999999997,
          "name": "TranTypeTS_1",
          "real_mem": 444715008,
          "time": 1616489759.59513
         },
         {
          "cpu_percent": 196.5,
          "cpu_time": 18.76,
          "name": "CustStatic_1",
          "real_mem": 444854272,
          "time": 1616489759.671234
         },
         {
          "cpu_percent": 195.3,
          "cpu_time": 18.82,
          "name": "MercStatic_1",
          "real_mem": 446062592,
          "time": 1616489759.7159088
         },
         {
          "cpu_percent": 95.2,
          "cpu_time": 18.78,
          "name": "ProdTypeTS_1",
          "real_mem": 444854272,
          "time": 1616489759.6936727
         },
         {
          "cpu_percent": 294.7,
          "cpu_time": 18.88,
          "name": "Concat_2",
          "real_mem": 446152704,
          "time": 1616489759.7727776
         },
         {
          "cpu_percent": 98.3,
          "cpu_time": 18.91,
          "name": "Concat_1",
          "real_mem": 446152704,
          "time": 1616489759.7953546
         },
         {
          "cpu_percent": 98.1,
          "cpu_time": 19,
          "name": "CustMercTS_1",
          "real_mem": 446771200,
          "time": 1616489759.8933265
         },
         {
          "cpu_percent": 196.5,
          "cpu_time": 18.96,
          "name": "TranCityTS_1",
          "real_mem": 446447616,
          "time": 1616489759.8707538
         },
         {
          "cpu_percent": 294.1,
          "cpu_time": 19.05,
          "name": "ReadCsvProjectSpace_1",
          "real_mem": 447000576,
          "time": 1616489759.9713478
         },
         {
          "cpu_percent": 193.8,
          "cpu_time": 19.09,
          "name": "TranTypeTS_1",
          "real_mem": 447340544,
          "time": 1616489759.9941187
         },
         {
          "cpu_percent": 0,
          "cpu_time": 19.1,
          "name": "CustStatic_1",
          "real_mem": 447557632,
          "time": 1616489760.0482845
         },
         {
          "cpu_percent": 195.7,
          "cpu_time": 19.130000000000003,
          "name": "ProdTypeTS_1",
          "real_mem": 447619072,
          "time": 1616489760.0710728
         },
         {
          "cpu_percent": 195.8,
          "cpu_time": 19.18,
          "name": "MercStatic_1",
          "real_mem": 448122880,
          "time": 1616489760.0954375
         },
         {
          "cpu_percent": 196.5,
          "cpu_time": 19.27,
          "name": "Concat_1",
          "real_mem": 448413696,
          "time": 1616489760.1926587
         },
         {
          "cpu_percent": 196.9,
          "cpu_time": 19.220000000000002,
          "name": "Concat_2",
          "real_mem": 448122880,
          "time": 1616489760.1703508
         },
         {
          "cpu_percent": 95.5,
          "cpu_time": 19.32,
          "name": "CustMercTS_1",
          "real_mem": 448802816,
          "time": 1616489760.2706442
         },
         {
          "cpu_percent": 0,
          "cpu_time": 19.28,
          "name": "TranCityTS_1",
          "real_mem": 448413696,
          "time": 1616489760.2156484
         },
         {
          "cpu_percent": 196.2,
          "cpu_time": 19.349999999999998,
          "name": "ReadCsvProjectSpace_1",
          "real_mem": 448802816,
          "time": 1616489760.2939975
         },
         {
          "cpu_percent": 98.3,
          "cpu_time": 19.369999999999997,
          "name": "TranTypeTS_1",
          "real_mem": 449548288,
          "time": 1616489760.3197477
         },
         {
          "cpu_percent": 196,
          "cpu_time": 19.41,
          "name": "CustStatic_1",
          "real_mem": 449798144,
          "time": 1616489760.3732266
         },
         {
          "cpu_percent": 97.6,
          "cpu_time": 19.459999999999997,
          "name": "ProdTypeTS_1",
          "real_mem": 449830912,
          "time": 1616489760.3980157
         },
         {
          "cpu_percent": 98,
          "cpu_time": 19.49,
          "name": "MercStatic_1",
          "real_mem": 450097152,
          "time": 1616489760.4591002
         },
         {
          "cpu_percent": 98.2,
          "cpu_time": 19.52,
          "name": "Concat_2",
          "real_mem": 450367488,
          "time": 1616489760.4822316
         },
         {
          "cpu_percent": 195.7,
          "cpu_time": 19.57,
          "name": "Concat_1",
          "real_mem": 450482176,
          "time": 1616489760.5050924
         },
         {
          "cpu_percent": 294.4,
          "cpu_time": 19.63,
          "name": "TranCityTS_1",
          "real_mem": 450482176,
          "time": 1616489760.5714538
         },
         {
          "cpu_percent": 31.3,
          "cpu_time": 19.86,
          "name": "CustMercTS_1",
          "real_mem": 452853760,
          "time": 1616489760.8485224
         },
         {
          "cpu_percent": 197.2,
          "cpu_time": 19.91,
          "name": "ReadCsvProjectSpace_1",
          "real_mem": 453169152,
          "time": 1616489760.870674
         },
         {
          "cpu_percent": 98.2,
          "cpu_time": 19.96,
          "name": "TranTypeTS_1",
          "real_mem": 453169152,
          "time": 1616489760.892874
         },
         {
          "cpu_percent": 196,
          "cpu_time": 20.009999999999998,
          "name": "CustStatic_1",
          "real_mem": 453287936,
          "time": 1616489760.9711552
         },
         {
          "cpu_percent": 197.2,
          "cpu_time": 20.04,
          "name": "ProdTypeTS_1",
          "real_mem": 453287936,
          "time": 1616489760.9931226
         },
         {
          "cpu_percent": 98.4,
          "cpu_time": 20.07,
          "name": "MercStatic_1",
          "real_mem": 453525504,
          "time": 1616489761.0699577
         },
         {
          "cpu_percent": 98,
          "cpu_time": 20.1,
          "name": "Concat_2",
          "real_mem": 453885952,
          "time": 1616489761.0927842
         },
         {
          "cpu_percent": 195.3,
          "cpu_time": 20.130000000000003,
          "name": "Concat_1",
          "real_mem": 453885952,
          "time": 1616489761.1167865
         },
         {
          "cpu_percent": 196.1,
          "cpu_time": 20.19,
          "name": "TranCityTS_1",
          "real_mem": 454385664,
          "time": 1616489761.1710582
         },
         {
          "cpu_percent": 294.3,
          "cpu_time": 20.380000000000003,
          "name": "CustMercTS_1",
          "real_mem": 455495680,
          "time": 1616489761.3716054
         },
         {
          "cpu_percent": 196.7,
          "cpu_time": 20.43,
          "name": "ReadCsvProjectSpace_1",
          "real_mem": 455761920,
          "time": 1616489761.4485269
         },
         {
          "cpu_percent": 196.8,
          "cpu_time": 20.490000000000002,
          "name": "TranTypeTS_1",
          "real_mem": 455835648,
          "time": 1616489761.4717815
         },
         {
          "cpu_percent": 0,
          "cpu_time": 20.52,
          "name": "CustStatic_1",
          "real_mem": 456212480,
          "time": 1616489761.4947913
         },
         {
          "cpu_percent": 196.6,
          "cpu_time": 20.57,
          "name": "ProdTypeTS_1",
          "real_mem": 457293824,
          "time": 1616489761.5714147
         },
         {
          "cpu_percent": 31.1,
          "cpu_time": 20.62,
          "name": "MercStatic_1",
          "real_mem": 458145792,
          "time": 1616489761.6485808
         },
         {
          "cpu_percent": 294.4,
          "cpu_time": 20.669999999999998,
          "name": "Concat_2",
          "real_mem": 458412032,
          "time": 1616489761.6711972
         },
         {
          "cpu_percent": 196.3,
          "cpu_time": 20.71,
          "name": "Concat_1",
          "real_mem": 458682368,
          "time": 1616489761.6933367
         },
         {
          "cpu_percent": 288.5,
          "cpu_time": 20.77,
          "name": "TranCityTS_1",
          "real_mem": 459218944,
          "time": 1616489761.7713423
         },
         {
          "cpu_percent": 196.4,
          "cpu_time": 20.900000000000002,
          "name": "CustMercTS_1",
          "real_mem": 459730944,
          "time": 1616489761.8949108
         },
         {
          "cpu_percent": 295.2,
          "cpu_time": 20.959999999999997,
          "name": "ReadCsvProjectSpace_1",
          "real_mem": 460177408,
          "time": 1616489761.972187
         },
         {
          "cpu_percent": 30.7,
          "cpu_time": 21.009999999999998,
          "name": "TranTypeTS_1",
          "real_mem": 460455936,
          "time": 1616489762.0493116
         },
         {
          "cpu_percent": 193.5,
          "cpu_time": 21.06,
          "name": "CustStatic_1",
          "real_mem": 461021184,
          "time": 1616489762.0726144
         },
         {
          "cpu_percent": 0,
          "cpu_time": 21.09,
          "name": "ProdTypeTS_1",
          "real_mem": 461139968,
          "time": 1616489762.0964737
         },
         {
          "cpu_percent": 197.1,
          "cpu_time": 21.13,
          "name": "MercStatic_1",
          "real_mem": 462299136,
          "time": 1616489762.1720269
         },
         {
          "cpu_percent": 0,
          "cpu_time": 21.18,
          "name": "Concat_1",
          "real_mem": 462663680,
          "time": 1616489762.2170014
         },
         {
          "cpu_percent": 196.8,
          "cpu_time": 21.17,
          "name": "Concat_2",
          "real_mem": 462663680,
          "time": 1616489762.1941094
         },
         {
          "cpu_percent": 195.8,
          "cpu_time": 21.28,
          "name": "TranCityTS_1",
          "real_mem": 463400960,
          "time": 1616489762.294352
         },
         {
          "cpu_percent": 98.4,
          "cpu_time": 21.41,
          "name": "CustMercTS_1",
          "real_mem": 463630336,
          "time": 1616489762.4696724
         },
         {
          "cpu_percent": 196.5,
          "cpu_time": 21.45,
          "name": "ReadCsvProjectSpace_1",
          "real_mem": 463749120,
          "time": 1616489762.4957256
         },
         {
          "cpu_percent": 289.8,
          "cpu_time": 21.53,
          "name": "TranTypeTS_1",
          "real_mem": 464015360,
          "time": 1616489762.5740108
         },
         {
          "cpu_percent": 0,
          "cpu_time": 21.56,
          "name": "CustStatic_1",
          "real_mem": 464297984,
          "time": 1616489762.596896
         },
         {
          "cpu_percent": 193.7,
          "cpu_time": 21.61,
          "name": "ProdTypeTS_1",
          "real_mem": 465657856,
          "time": 1616489762.6713018
         },
         {
          "cpu_percent": 98.4,
          "cpu_time": 21.64,
          "name": "MercStatic_1",
          "real_mem": 465657856,
          "time": 1616489762.6947818
         },
         {
          "cpu_percent": 98,
          "cpu_time": 21.68,
          "name": "Concat_2",
          "real_mem": 465657856,
          "time": 1616489762.7709618
         },
         {
          "cpu_percent": 98,
          "cpu_time": 21.700000000000003,
          "name": "Concat_1",
          "real_mem": 465657856,
          "time": 1616489762.7933176
         },
         {
          "cpu_percent": 98,
          "cpu_time": 21.72,
          "name": "TranCityTS_1",
          "real_mem": 465657856,
          "time": 1616489762.8174305
         },
         {
          "cpu_percent": 97.4,
          "cpu_time": 21.939999999999998,
          "name": "CustMercTS_1",
          "real_mem": 466550784,
          "time": 1616489763.0495212
         },
         {
          "cpu_percent": 187.4,
          "cpu_time": 22,
          "name": "ReadCsvProjectSpace_1",
          "real_mem": 466796544,
          "time": 1616489763.0730565
         },
         {
          "cpu_percent": 0,
          "cpu_time": 22.03,
          "name": "TranTypeTS_1",
          "real_mem": 466796544,
          "time": 1616489763.0987659
         },
         {
          "cpu_percent": 97.9,
          "cpu_time": 22.130000000000003,
          "name": "ProdTypeTS_1",
          "real_mem": 467320832,
          "time": 1616489763.1942313
         },
         {
          "cpu_percent": 196.4,
          "cpu_time": 22.1,
          "name": "CustStatic_1",
          "real_mem": 467320832,
          "time": 1616489763.1714578
         },
         {
          "cpu_percent": 196.5,
          "cpu_time": 22.18,
          "name": "MercStatic_1",
          "real_mem": 467320832,
          "time": 1616489763.271034
         },
         {
          "cpu_percent": 195.9,
          "cpu_time": 22.220000000000002,
          "name": "Concat_2",
          "real_mem": 467320832,
          "time": 1616489763.348672
         },
         {
          "cpu_percent": 286.3,
          "cpu_time": 22.27,
          "name": "Concat_1",
          "real_mem": 467320832,
          "time": 1616489763.3722534
         },
         {
          "cpu_percent": 195.6,
          "cpu_time": 22.32,
          "name": "TranCityTS_1",
          "real_mem": 467320832,
          "time": 1616489763.3947523
         },
         {
          "cpu_percent": 196.6,
          "cpu_time": 22.470000000000002,
          "name": "CustMercTS_1",
          "real_mem": 467320832,
          "time": 1616489763.5730138
         },
         {
          "cpu_percent": 196.5,
          "cpu_time": 22.52,
          "name": "ReadCsvProjectSpace_1",
          "real_mem": 467320832,
          "time": 1616489763.6482189
         },
         {
          "cpu_percent": 196.4,
          "cpu_time": 22.57,
          "name": "TranTypeTS_1",
          "real_mem": 467320832,
          "time": 1616489763.6707687
         },
         {
          "cpu_percent": 0,
          "cpu_time": 22.619999999999997,
          "name": "CustStatic_1",
          "real_mem": 467537920,
          "time": 1616489763.6952043
         },
         {
          "cpu_percent": 196.1,
          "cpu_time": 22.66,
          "name": "ProdTypeTS_1",
          "real_mem": 467537920,
          "time": 1616489763.770441
         },
         {
          "cpu_percent": 196.1,
          "cpu_time": 22.709999999999997,
          "name": "MercStatic_1",
          "real_mem": 467804160,
          "time": 1616489763.7948244
         },
         {
          "cpu_percent": 293.1,
          "cpu_time": 22.77,
          "name": "Concat_2",
          "real_mem": 467804160,
          "time": 1616489763.8720193
         },
         {
          "cpu_percent": 0,
          "cpu_time": 22.79,
          "name": "Concat_1",
          "real_mem": 467804160,
          "time": 1616489763.8946338
         },
         {
          "cpu_percent": 289.6,
          "cpu_time": 22.86,
          "name": "TranCityTS_1",
          "real_mem": 468078592,
          "time": 1616489763.9731092
         },
         {
          "cpu_percent": 98.5,
          "cpu_time": 22.979999999999997,
          "name": "CustMercTS_1",
          "real_mem": 468570112,
          "time": 1616489764.105499
         },
         {
          "cpu_percent": 97.7,
          "cpu_time": 23.04,
          "name": "TranTypeTS_1",
          "real_mem": 468570112,
          "time": 1616489764.19507
         },
         {
          "cpu_percent": 0,
          "cpu_time": 23.04,
          "name": "CustStatic_1",
          "real_mem": 468570112,
          "time": 1616489764.2198203
         },
         {
          "cpu_percent": 196.8,
          "cpu_time": 23.02,
          "name": "ReadCsvProjectSpace_1",
          "real_mem": 468570112,
          "time": 1616489764.1721394
         },
         {
          "cpu_percent": 391.6,
          "cpu_time": 23.630000000000003,
          "name": "Concat_1",
          "real_mem": 469561344,
          "time": 1616489764.8484082
         },
         {
          "cpu_percent": 98.2,
          "cpu_time": 23.509999999999998,
          "name": "Concat_2",
          "real_mem": 469508096,
          "time": 1616489764.675847
         },
         {
          "cpu_percent": 0,
          "cpu_time": 23.91,
          "name": "CustMercTS_1",
          "real_mem": 469901312,
          "time": 1616489765.0827742
         },
         {
          "cpu_percent": 0,
          "cpu_time": 23.43,
          "name": "MercStatic_1",
          "real_mem": 469475328,
          "time": 1616489764.6489046
         },
         {
          "cpu_percent": 118.80000000000001,
          "cpu_time": 24.099999999999998,
          "name": "CustStatic_1",
          "real_mem": 471228416,
          "time": 1616489765.350098
         },
         {
          "cpu_percent": 294.1,
          "cpu_time": 23.33,
          "name": "ProdTypeTS_1",
          "real_mem": 469372928,
          "time": 1616489764.47137
         },
         {
          "cpu_percent": 23.4,
          "cpu_time": 24.279999999999998,
          "name": "MercStatic_1",
          "real_mem": 471724032,
          "time": 1616489765.5488868
         },
         {
          "cpu_percent": 34.1,
          "cpu_time": 24.479999999999997,
          "name": "Concat_1",
          "real_mem": 473047040,
          "time": 1616489765.959959
         },
         {
          "cpu_percent": 193.89999999999998,
          "cpu_time": 24.38,
          "name": "Concat_2",
          "real_mem": 472207360,
          "time": 1616489765.5722106
         },
         {
          "cpu_percent": 46.7,
          "cpu_time": 24.19,
          "name": "ProdTypeTS_1",
          "real_mem": 471273472,
          "time": 1616489765.448951
         },
         {
          "cpu_percent": 680.1,
          "cpu_time": 24.92,
          "name": "CustMercTS_1",
          "real_mem": 473706496,
          "time": 1616489766.1594205
         },
         {
          "cpu_percent": 286.2,
          "cpu_time": 25.18,
          "name": "CustStatic_1",
          "real_mem": 479363072,
          "time": 1616489766.460341
         },
         {
          "cpu_percent": 98.1,
          "cpu_time": 25.200000000000003,
          "name": "ProdTypeTS_1",
          "real_mem": 493420544,
          "time": 1616489766.4827268
         },
         {
          "cpu_percent": 773,
          "cpu_time": 23.89,
          "name": "TranCityTS_1",
          "real_mem": 469901312,
          "time": 1616489765.0601718
         },
         {
          "cpu_percent": 0,
          "cpu_time": 24,
          "name": "TranTypeTS_1",
          "real_mem": 470441984,
          "time": 1616489765.1948445
         },
         {
          "cpu_percent": 197,
          "cpu_time": 24.78,
          "name": "TranCityTS_1",
          "real_mem": 473645056,
          "time": 1616489766.0600202
         },
         {
          "cpu_percent": 0,
          "cpu_time": 25.220000000000002,
          "name": "MercStatic_1",
          "real_mem": 504504320,
          "time": 1616489766.5077198
         },
         {
          "cpu_percent": 80.1,
          "cpu_time": 25.33,
          "name": "Concat_2",
          "real_mem": 504905728,
          "time": 1616489766.6484802
         },
         {
          "cpu_percent": 295.6,
          "cpu_time": 25.4,
          "name": "Concat_1",
          "real_mem": 504905728,
          "time": 1616489766.6712403
         },
         {
          "cpu_percent": 294,
          "cpu_time": 25.09,
          "name": "TranTypeTS_1",
          "real_mem": 474701824,
          "time": 1616489766.35926
         },
         {
          "cpu_percent": 588.3,
          "cpu_time": 25.52,
          "name": "TranCityTS_1",
          "real_mem": 505176064,
          "time": 1616489766.770858
         },
         {
          "cpu_percent": 481.3,
          "cpu_time": 25.6,
          "name": "CustMercTS_1",
          "real_mem": 505176064,
          "time": 1616489766.8708851
         },
         {
          "cpu_percent": 57.4,
          "cpu_time": 25.799999999999997,
          "name": "TranTypeTS_1",
          "real_mem": 505626624,
          "time": 1616489767.1485174
         },
         {
          "cpu_percent": 57.8,
          "cpu_time": 25.900000000000002,
          "name": "CustStatic_1",
          "real_mem": 505905152,
          "time": 1616489767.24872
         },
         {
          "cpu_percent": 69,
          "cpu_time": 25.990000000000002,
          "name": "ProdTypeTS_1",
          "real_mem": 506343424,
          "time": 1616489767.3484924
         },
         {
          "cpu_percent": 489.8,
          "cpu_time": 26.07,
          "name": "MercStatic_1",
          "real_mem": 506343424,
          "time": 1616489767.3708665
         },
         {
          "cpu_percent": 486.6,
          "cpu_time": 26.13,
          "name": "Concat_2",
          "real_mem": 506343424,
          "time": 1616489767.459342
         },
         {
          "cpu_percent": 68.7,
          "cpu_time": 26.29,
          "name": "TranCityTS_1",
          "real_mem": 511397888,
          "time": 1616489767.6485803
         },
         {
          "cpu_percent": 124.7,
          "cpu_time": 26.2,
          "name": "Concat_1",
          "real_mem": 510939136,
          "time": 1616489767.5488725
         },
         {
          "cpu_percent": 481.8,
          "cpu_time": 26.36,
          "name": "CustMercTS_1",
          "real_mem": 511397888,
          "time": 1616489767.671236
         },
         {
          "cpu_percent": 196.8,
          "cpu_time": 26.48,
          "name": "TranTypeTS_1",
          "real_mem": 511668224,
          "time": 1616489767.8591728
         },
         {
          "cpu_percent": 98.3,
          "cpu_time": 26.560000000000002,
          "name": "CustStatic_1",
          "real_mem": 511774720,
          "time": 1616489767.9482107
         },
         {
          "cpu_percent": 294.1,
          "cpu_time": 26.659999999999997,
          "name": "ProdTypeTS_1",
          "real_mem": 512290816,
          "time": 1616489767.9712274
         },
         {
          "cpu_percent": 484.5,
          "cpu_time": 26.740000000000002,
          "name": "MercStatic_1",
          "real_mem": 512458752,
          "time": 1616489768.0706723
         },
         {
          "cpu_percent": 0,
          "cpu_time": 26.75,
          "name": "Concat_2",
          "real_mem": 512458752,
          "time": 1616489768.1483397
         },
         {
          "cpu_percent": 587,
          "cpu_time": 26.84,
          "name": "Concat_1",
          "real_mem": 512491520,
          "time": 1616489768.1714084
         },
         {
          "cpu_percent": 0,
          "cpu_time": 26.849999999999998,
          "name": "TranCityTS_1",
          "real_mem": 512491520,
          "time": 1616489768.194312
         },
         {
          "cpu_percent": 23,
          "cpu_time": 26.94,
          "name": "CustMercTS_1",
          "real_mem": 512765952,
          "time": 1616489768.3484755
         },
         {
          "cpu_percent": 195.10000000000002,
          "cpu_time": 27.150000000000002,
          "name": "TranTypeTS_1",
          "real_mem": 513331200,
          "time": 1616489768.4722419
         },
         {
          "cpu_percent": 588.2,
          "cpu_time": 24,
          "name": "ReadCsvProjectSpace_1",
          "real_mem": 470441984,
          "time": 1616489765.172383
         },
         {
          "cpu_percent": 482.6,
          "cpu_time": 27.23,
          "name": "CustStatic_1",
          "real_mem": 514101248,
          "time": 1616489768.5721545
         },
         {
          "cpu_percent": 591.1,
          "cpu_time": 25.009999999999998,
          "name": "ReadCsvProjectSpace_1",
          "real_mem": 474701824,
          "time": 1616489766.2591484
         },
         {
          "cpu_percent": 39,
          "cpu_time": 27.43,
          "name": "MercStatic_1",
          "real_mem": 514478080,
          "time": 1616489768.8488953
         },
         {
          "cpu_percent": 404.2,
          "cpu_time": 27.36,
          "name": "ProdTypeTS_1",
          "real_mem": 514478080,
          "time": 1616489768.7592883
         },
         {
          "cpu_percent": 45.1,
          "cpu_time": 25.709999999999997,
          "name": "ReadCsvProjectSpace_1",
          "real_mem": 505626624,
          "time": 1616489767.0489678
         },
         {
          "cpu_percent": 196.4,
          "cpu_time": 26.4,
          "name": "ReadCsvProjectSpace_1",
          "real_mem": 511668224,
          "time": 1616489767.7596061
         },
         {
          "cpu_percent": 78.3,
          "cpu_time": 27.619999999999997,
          "name": "Concat_1",
          "real_mem": 515747840,
          "time": 1616489769.2604232
         },
         {
          "cpu_percent": 97.5,
          "cpu_time": 27.520000000000003,
          "name": "Concat_2",
          "real_mem": 514711552,
          "time": 1616489768.9482155
         },
         {
          "cpu_percent": 0,
          "cpu_time": 27.89,
          "name": "TranCityTS_1",
          "real_mem": 515833856,
          "time": 1616489769.3488536
         },
         {
          "cpu_percent": 34.9,
          "cpu_time": 27.99,
          "name": "CustMercTS_1",
          "real_mem": 516263936,
          "time": 1616489769.4487514
         },
         {
          "cpu_percent": 35,
          "cpu_time": 27.05,
          "name": "ReadCsvProjectSpace_1",
          "real_mem": 512806912,
          "time": 1616489768.4486604
         },
         {
          "cpu_percent": 492.2,
          "cpu_time": 28.18,
          "name": "TranTypeTS_1",
          "real_mem": 516444160,
          "time": 1616489769.571482
         },
         {
          "cpu_percent": 294.3,
          "cpu_time": 28.310000000000002,
          "name": "ProdTypeTS_1",
          "real_mem": 516714496,
          "time": 1616489769.7591374
         },
         {
          "cpu_percent": 25.8,
          "cpu_time": 28.380000000000003,
          "name": "MercStatic_1",
          "real_mem": 516816896,
          "time": 1616489769.8487287
         },
         {
          "cpu_percent": 195.7,
          "cpu_time": 28.459999999999997,
          "name": "Concat_2",
          "real_mem": 517066752,
          "time": 1616489769.871379
         },
         {
          "cpu_percent": 392,
          "cpu_time": 28.23,
          "name": "CustStatic_1",
          "real_mem": 516444160,
          "time": 1616489769.6592643
         },
         {
          "cpu_percent": 190.6,
          "cpu_time": 28.57,
          "name": "Concat_1",
          "real_mem": 517144576,
          "time": 1616489769.976234
         },
         {
          "cpu_percent": 197,
          "cpu_time": 28.64,
          "name": "TranCityTS_1",
          "real_mem": 517685248,
          "time": 1616489770.0708678
         },
         {
          "cpu_percent": 0,
          "cpu_time": 28.67,
          "name": "CustMercTS_1",
          "real_mem": 517783552,
          "time": 1616489770.1487572
         },
         {
          "cpu_percent": 167.4,
          "cpu_time": 28.86,
          "name": "TranTypeTS_1",
          "real_mem": 518152192,
          "time": 1616489770.3495638
         },
         {
          "cpu_percent": 589.4,
          "cpu_time": 29.11,
          "name": "MercStatic_1",
          "real_mem": 526802944,
          "time": 1616489770.5606854
         },
         {
          "cpu_percent": 589.4,
          "cpu_time": 29.020000000000003,
          "name": "ProdTypeTS_1",
          "real_mem": 526532608,
          "time": 1616489770.460177
         },
         {
          "cpu_percent": 97.6,
          "cpu_time": 28.92,
          "name": "CustStatic_1",
          "real_mem": 526532608,
          "time": 1616489770.3729708
         },
         {
          "cpu_percent": 0,
          "cpu_time": 29.13,
          "name": "Concat_2",
          "real_mem": 527343616,
          "time": 1616489770.584601
         },
         {
          "cpu_percent": 79.9,
          "cpu_time": 29.22,
          "name": "Concat_1",
          "real_mem": 530407424,
          "time": 1616489770.7500784
         },
         {
          "cpu_percent": 293.3,
          "cpu_time": 29.32,
          "name": "TranCityTS_1",
          "real_mem": 530677760,
          "time": 1616489770.7756062
         },
         {
          "cpu_percent": 288.6,
          "cpu_time": 29.419999999999998,
          "name": "CustMercTS_1",
          "real_mem": 531247104,
          "time": 1616489770.8702106
         },
         {
          "cpu_percent": 69,
          "cpu_time": 29.61,
          "name": "TranTypeTS_1",
          "real_mem": 531513344,
          "time": 1616489771.148471
         },
         {
          "cpu_percent": 359.2,
          "cpu_time": 29.77,
          "name": "ProdTypeTS_1",
          "real_mem": 531623936,
          "time": 1616489771.2718477
         },
         {
          "cpu_percent": 454.3,
          "cpu_time": 29.86,
          "name": "MercStatic_1",
          "real_mem": 531689472,
          "time": 1616489771.3607523
         },
         {
          "cpu_percent": 0,
          "cpu_time": 29.89,
          "name": "Concat_2",
          "real_mem": 531689472,
          "time": 1616489771.3837876
         },
         {
          "cpu_percent": 486.7,
          "cpu_time": 29.990000000000002,
          "name": "Concat_1",
          "real_mem": 534765568,
          "time": 1616489771.4733672
         },
         {
          "cpu_percent": 34.1,
          "cpu_time": 29.69,
          "name": "CustStatic_1",
          "real_mem": 531623936,
          "time": 1616489771.2486436
         },
         {
          "cpu_percent": 468.3,
          "cpu_time": 30.130000000000003,
          "name": "TranCityTS_1",
          "real_mem": 535465984,
          "time": 1616489771.6599782
         },
         {
          "cpu_percent": 687.5,
          "cpu_time": 30.24,
          "name": "CustMercTS_1",
          "real_mem": 536199168,
          "time": 1616489771.7591403
         },
         {
          "cpu_percent": 491.4,
          "cpu_time": 30.37,
          "name": "TranTypeTS_1",
          "real_mem": 538345472,
          "time": 1616489771.8731923
         },
         {
          "cpu_percent": 479.1,
          "cpu_time": 30.53,
          "name": "ProdTypeTS_1",
          "real_mem": 544550912,
          "time": 1616489772.0609698
         },
         {
          "cpu_percent": 0,
          "cpu_time": 30.560000000000002,
          "name": "MercStatic_1",
          "real_mem": 545361920,
          "time": 1616489772.1486704
         },
         {
          "cpu_percent": 293.4,
          "cpu_time": 30.650000000000002,
          "name": "Concat_2",
          "real_mem": 547778560,
          "time": 1616489772.1710954
         },
         {
          "cpu_percent": 193.4,
          "cpu_time": 30.74,
          "name": "Concat_1",
          "real_mem": 548397056,
          "time": 1616489772.2714798
         },
         {
          "cpu_percent": 0,
          "cpu_time": 30.75,
          "name": "TranCityTS_1",
          "real_mem": 548397056,
          "time": 1616489772.2944036
         },
         {
          "cpu_percent": 45.9,
          "cpu_time": 30.84,
          "name": "CustMercTS_1",
          "real_mem": 548753408,
          "time": 1616489772.4490256
         },
         {
          "cpu_percent": 196.7,
          "cpu_time": 31.02,
          "name": "TranTypeTS_1",
          "real_mem": 552169472,
          "time": 1616489772.5711963
         },
         {
          "cpu_percent": 45.3,
          "cpu_time": 31.119999999999997,
          "name": "ProdTypeTS_1",
          "real_mem": 552525824,
          "time": 1616489772.7486227
         },
         {
          "cpu_percent": 98,
          "cpu_time": 31.19,
          "name": "MercStatic_1",
          "real_mem": 562069504,
          "time": 1616489772.7712116
         },
         {
          "cpu_percent": 96.7,
          "cpu_time": 31.22,
          "name": "Concat_2",
          "real_mem": 570720256,
          "time": 1616489772.8484828
         },
         {
          "cpu_percent": 294.1,
          "cpu_time": 31.32,
          "name": "Concat_1",
          "real_mem": 570720256,
          "time": 1616489772.8721085
         },
         {
          "cpu_percent": 195,
          "cpu_time": 31.380000000000003,
          "name": "TranCityTS_1",
          "real_mem": 570798080,
          "time": 1616489772.970437
         },
         {
          "cpu_percent": 67.3,
          "cpu_time": 31.46,
          "name": "CustMercTS_1",
          "real_mem": 571056128,
          "time": 1616489773.0586808
         },
         {
          "cpu_percent": 381.2,
          "cpu_time": 31.63,
          "name": "TranTypeTS_1",
          "real_mem": 571215872,
          "time": 1616489773.2602992
         },
         {
          "cpu_percent": 295.1,
          "cpu_time": 31.76,
          "name": "ProdTypeTS_1",
          "real_mem": 571301888,
          "time": 1616489773.3731072
         },
         {
          "cpu_percent": 0,
          "cpu_time": 31.79,
          "name": "MercStatic_1",
          "real_mem": 571539456,
          "time": 1616489773.4482942
         },
         {
          "cpu_percent": 392.79999999999995,
          "cpu_time": 31.87,
          "name": "Concat_2",
          "real_mem": 571744256,
          "time": 1616489773.4717748
         },
         {
          "cpu_percent": 591.4,
          "cpu_time": 31.970000000000002,
          "name": "Concat_1",
          "real_mem": 571879424,
          "time": 1616489773.569407
         },
         {
          "cpu_percent": 34.3,
          "cpu_time": 32.17,
          "name": "CustMercTS_1",
          "real_mem": 572321792,
          "time": 1616489773.848469
         },
         {
          "cpu_percent": 492.8,
          "cpu_time": 32.32,
          "name": "TranTypeTS_1",
          "real_mem": 572796928,
          "time": 1616489773.9589136
         },
         {
          "cpu_percent": 392.2,
          "cpu_time": 32.51,
          "name": "ProdTypeTS_1",
          "real_mem": 573423616,
          "time": 1616489774.1596656
         },
         {
          "cpu_percent": 13.1,
          "cpu_time": 32.56,
          "name": "MercStatic_1",
          "real_mem": 573739008,
          "time": 1616489774.2485867
         },
         {
          "cpu_percent": 193.6,
          "cpu_time": 32.62,
          "name": "Concat_2",
          "real_mem": 573775872,
          "time": 1616489774.272543
         },
         {
          "cpu_percent": 0,
          "cpu_time": 32.66,
          "name": "Concat_1",
          "real_mem": 574316544,
          "time": 1616489774.2952383
         },
         {
          "cpu_percent": 46.5,
          "cpu_time": 32.84,
          "name": "CustMercTS_1",
          "real_mem": 574435328,
          "time": 1616489774.5484517
         },
         {
          "cpu_percent": 392.6,
          "cpu_time": 33.03,
          "name": "TranTypeTS_1",
          "real_mem": 574693376,
          "time": 1616489774.6707876
         },
         {
          "cpu_percent": 487.9,
          "cpu_time": 33.24,
          "name": "MercStatic_1",
          "real_mem": 574963712,
          "time": 1616489774.8704484
         },
         {
          "cpu_percent": 361.1,
          "cpu_time": 33.13,
          "name": "ProdTypeTS_1",
          "real_mem": 574783488,
          "time": 1616489774.7721462
         },
         {
          "cpu_percent": 295.3,
          "cpu_time": 33.31,
          "name": "Concat_2",
          "real_mem": 574963712,
          "time": 1616489774.9707735
         },
         {
          "cpu_percent": 386.1,
          "cpu_time": 33.38,
          "name": "Concat_1",
          "real_mem": 575041536,
          "time": 1616489775.0592797
         },
         {
          "cpu_percent": 58.7,
          "cpu_time": 33.910000000000004,
          "name": "CustMercTS_1",
          "real_mem": 562835456,
          "time": 1616489775.648754
         },
         {
          "cpu_percent": 392.6,
          "cpu_time": 34.1,
          "name": "TranTypeTS_1",
          "real_mem": 563007488,
          "time": 1616489775.7708406
         },
         {
          "cpu_percent": 385.1,
          "cpu_time": 34.26,
          "name": "ProdTypeTS_1",
          "real_mem": 563699712,
          "time": 1616489775.9709096
         },
         {
          "cpu_percent": 0,
          "cpu_time": 34.3,
          "name": "MercStatic_1",
          "real_mem": 563699712,
          "time": 1616489776.0492623
         },
         {
          "cpu_percent": 294.6,
          "cpu_time": 34.379999999999995,
          "name": "Concat_2",
          "real_mem": 563888128,
          "time": 1616489776.0723999
         },
         {
          "cpu_percent": 392.3,
          "cpu_time": 34.47,
          "name": "Concat_1",
          "real_mem": 563888128,
          "time": 1616489776.1718051
         },
         {
          "cpu_percent": 293.9,
          "cpu_time": 34.94,
          "name": "CustMercTS_1",
          "real_mem": 565194752,
          "time": 1616489776.6730924
         },
         {
          "cpu_percent": 293.29999999999995,
          "cpu_time": 35.13,
          "name": "TranTypeTS_1",
          "real_mem": 565592064,
          "time": 1616489776.8716733
         },
         {
          "cpu_percent": 0,
          "cpu_time": 35.25,
          "name": "ProdTypeTS_1",
          "real_mem": 565657600,
          "time": 1616489776.993644
         },
         {
          "cpu_percent": 46.9,
          "cpu_time": 35.35,
          "name": "MercStatic_1",
          "real_mem": 565911552,
          "time": 1616489777.1487348
         },
         {
          "cpu_percent": 194.6,
          "cpu_time": 35.419999999999995,
          "name": "Concat_2",
          "real_mem": 566222848,
          "time": 1616489777.1717725
         },
         {
          "cpu_percent": 294.1,
          "cpu_time": 35.47,
          "name": "Concat_1",
          "real_mem": 566222848,
          "time": 1616489777.2591515
         },
         {
          "cpu_percent": 295.4,
          "cpu_time": 35.959999999999994,
          "name": "CustMercTS_1",
          "real_mem": 566603776,
          "time": 1616489777.7591066
         },
         {
          "cpu_percent": 0,
          "cpu_time": 36.13,
          "name": "TranTypeTS_1",
          "real_mem": 566788096,
          "time": 1616489777.895191
         },
         {
          "cpu_percent": 197.1,
          "cpu_time": 36.27,
          "name": "ProdTypeTS_1",
          "real_mem": 567840768,
          "time": 1616489778.0702798
         },
         {
          "cpu_percent": 98.6,
          "cpu_time": 36.34,
          "name": "MercStatic_1",
          "real_mem": 567840768,
          "time": 1616489778.1718876
         },
         {
          "cpu_percent": 98.5,
          "cpu_time": 36.37,
          "name": "Concat_2",
          "real_mem": 567840768,
          "time": 1616489778.1937985
         },
         {
          "cpu_percent": 52.3,
          "cpu_time": 36.51,
          "name": "Concat_1",
          "real_mem": 567463936,
          "time": 1616489778.3487546
         },
         {
          "cpu_percent": 294.2,
          "cpu_time": 36.989999999999995,
          "name": "CustMercTS_1",
          "real_mem": 568229888,
          "time": 1616489778.7830436
         },
         {
          "cpu_percent": 488.8,
          "cpu_time": 37.150000000000006,
          "name": "TranTypeTS_1",
          "real_mem": 568283136,
          "time": 1616489778.970561
         },
         {
          "cpu_percent": 294.5,
          "cpu_time": 37.31,
          "name": "ProdTypeTS_1",
          "real_mem": 568512512,
          "time": 1616489779.1592305
         },
         {
          "cpu_percent": 197.2,
          "cpu_time": 37.43,
          "name": "MercStatic_1",
          "real_mem": 568573952,
          "time": 1616489779.2698216
         },
         {
          "cpu_percent": 388.1,
          "cpu_time": 37.5,
          "name": "Concat_2",
          "real_mem": 568614912,
          "time": 1616489779.359158
         },
         {
          "cpu_percent": 290.9,
          "cpu_time": 37.56,
          "name": "Concat_1",
          "real_mem": 568729600,
          "time": 1616489779.3826458
         },
         {
          "cpu_percent": 489.5,
          "cpu_time": 38.029999999999994,
          "name": "CustMercTS_1",
          "real_mem": 568885248,
          "time": 1616489779.8701005
         },
         {
          "cpu_percent": 0,
          "cpu_time": 38.14,
          "name": "TranTypeTS_1",
          "real_mem": 569438208,
          "time": 1616489780.0488772
         },
         {
          "cpu_percent": 98,
          "cpu_time": 38.33,
          "name": "ProdTypeTS_1",
          "real_mem": 569516032,
          "time": 1616489780.1836667
         },
         {
          "cpu_percent": 0,
          "cpu_time": 38.440000000000005,
          "name": "MercStatic_1",
          "real_mem": 569516032,
          "time": 1616489780.2942698
         },
         {
          "cpu_percent": 39.4,
          "cpu_time": 38.53,
          "name": "Concat_2",
          "real_mem": 569622528,
          "time": 1616489780.4487243
         },
         {
          "cpu_percent": 294.3,
          "cpu_time": 38.59,
          "name": "Concat_1",
          "real_mem": 569622528,
          "time": 1616489780.4715228
         },
         {
          "cpu_percent": 0,
          "cpu_time": 39.02,
          "name": "CustMercTS_1",
          "real_mem": 569868288,
          "time": 1616489780.8934114
         },
         {
          "cpu_percent": 0,
          "cpu_time": 39.19,
          "name": "TranTypeTS_1",
          "real_mem": 572366848,
          "time": 1616489781.093385
         },
         {
          "cpu_percent": 381.9,
          "cpu_time": 39.370000000000005,
          "name": "ProdTypeTS_1",
          "real_mem": 574111744,
          "time": 1616489781.2712333
         },
         {
          "cpu_percent": 196.4,
          "cpu_time": 39.45,
          "name": "MercStatic_1",
          "real_mem": 574312448,
          "time": 1616489781.3698668
         },
         {
          "cpu_percent": 486.6,
          "cpu_time": 39.56999999999999,
          "name": "Concat_2",
          "real_mem": 574312448,
          "time": 1616489781.472745
         },
         {
          "cpu_percent": 0,
          "cpu_time": 39.59,
          "name": "Concat_1",
          "real_mem": 574312448,
          "time": 1616489781.495453
         },
         {
          "cpu_percent": 392.8,
          "cpu_time": 40.04,
          "name": "CustMercTS_1",
          "real_mem": 574808064,
          "time": 1616489781.969803
         },
         {
          "cpu_percent": 292.2,
          "cpu_time": 40.28,
          "name": "TranTypeTS_1",
          "real_mem": 575062016,
          "time": 1616489782.2593534
         },
         {
          "cpu_percent": 23.1,
          "cpu_time": 40.44,
          "name": "ProdTypeTS_1",
          "real_mem": 575332352,
          "time": 1616489782.4484482
         },
         {
          "cpu_percent": 195.4,
          "cpu_time": 40.55,
          "name": "MercStatic_1",
          "real_mem": 575586304,
          "time": 1616489782.4718904
         },
         {
          "cpu_percent": 578.9,
          "cpu_time": 40.63,
          "name": "Concat_2",
          "real_mem": 575782912,
          "time": 1616489782.5712824
         },
         {
          "cpu_percent": 290.2,
          "cpu_time": 40.74,
          "name": "Concat_1",
          "real_mem": 575782912,
          "time": 1616489782.7485502
         },
         {
          "cpu_percent": 0,
          "cpu_time": 41.02,
          "name": "CustMercTS_1",
          "real_mem": 576282624,
          "time": 1616489782.99379
         },
         {
          "cpu_percent": 196.2,
          "cpu_time": 41.300000000000004,
          "name": "TranTypeTS_1",
          "real_mem": 576368640,
          "time": 1616489783.2841876
         },
         {
          "cpu_percent": 196.5,
          "cpu_time": 41.47,
          "name": "ProdTypeTS_1",
          "real_mem": 576729088,
          "time": 1616489783.4720411
         },
         {
          "cpu_percent": 393,
          "cpu_time": 41.55,
          "name": "MercStatic_1",
          "real_mem": 579158016,
          "time": 1616489783.5591495
         },
         {
          "cpu_percent": 0,
          "cpu_time": 41.6,
          "name": "Concat_2",
          "real_mem": 579158016,
          "time": 1616489783.6481853
         },
         {
          "cpu_percent": 393,
          "cpu_time": 41.76,
          "name": "Concat_1",
          "real_mem": 579682304,
          "time": 1616489783.7718806
         },
         {
          "cpu_percent": 491.1,
          "cpu_time": 42.07,
          "name": "CustMercTS_1",
          "real_mem": 581599232,
          "time": 1616489784.1486852
         },
         {
          "cpu_percent": 19.5,
          "cpu_time": 42.27,
          "name": "TranTypeTS_1",
          "real_mem": 583233536,
          "time": 1616489784.3485742
         },
         {
          "cpu_percent": 294.4,
          "cpu_time": 42.54,
          "name": "ProdTypeTS_1",
          "real_mem": 586207232,
          "time": 1616489784.5723157
         },
         {
          "cpu_percent": 490,
          "cpu_time": 42.650000000000006,
          "name": "MercStatic_1",
          "real_mem": 586207232,
          "time": 1616489784.6756375
         },
         {
          "cpu_percent": 392.6,
          "cpu_time": 42.7,
          "name": "Concat_2",
          "real_mem": 586207232,
          "time": 1616489784.7592084
         },
         {
          "cpu_percent": 293.9,
          "cpu_time": 42.790000000000006,
          "name": "Concat_1",
          "real_mem": 586207232,
          "time": 1616489784.86028
         },
         {
          "cpu_percent": 491,
          "cpu_time": 43.14,
          "name": "CustMercTS_1",
          "real_mem": 588042240,
          "time": 1616489785.1721013
         },
         {
          "cpu_percent": 483.9,
          "cpu_time": 43.330000000000005,
          "name": "TranTypeTS_1",
          "real_mem": 588099584,
          "time": 1616489785.3724113
         },
         {
          "cpu_percent": 293.4,
          "cpu_time": 43.55,
          "name": "ProdTypeTS_1",
          "real_mem": 588455936,
          "time": 1616489785.6593757
         },
         {
          "cpu_percent": 480.1,
          "cpu_time": 43.67,
          "name": "MercStatic_1",
          "real_mem": 588550144,
          "time": 1616489785.7595706
         },
         {
          "cpu_percent": 97.7,
          "cpu_time": 43.72,
          "name": "Concat_2",
          "real_mem": 588550144,
          "time": 1616489785.782513
         },
         {
          "cpu_percent": 0,
          "cpu_time": 43.81,
          "name": "Concat_1",
          "real_mem": 588922880,
          "time": 1616489785.948483
         },
         {
          "cpu_percent": 294.3,
          "cpu_time": 44.19,
          "name": "CustMercTS_1",
          "real_mem": 589168640,
          "time": 1616489786.2721925
         },
         {
          "cpu_percent": 295.8,
          "cpu_time": 44.33,
          "name": "TranTypeTS_1",
          "real_mem": 589168640,
          "time": 1616489786.4590783
         },
         {
          "cpu_percent": 194.8,
          "cpu_time": 44.580000000000005,
          "name": "ProdTypeTS_1",
          "real_mem": 589205504,
          "time": 1616489786.6847718
         },
         {
          "cpu_percent": 111.60000000000001,
          "cpu_time": 44.68,
          "name": "MercStatic_1",
          "real_mem": 589316096,
          "time": 1616489786.8486874
         },
         {
          "cpu_percent": 380.6,
          "cpu_time": 44.76,
          "name": "Concat_2",
          "real_mem": 589316096,
          "time": 1616489786.872197
         },
         {
          "cpu_percent": 295.6,
          "cpu_time": 44.83,
          "name": "Concat_1",
          "real_mem": 589316096,
          "time": 1616489786.9727626
         },
         {
          "cpu_percent": 287.9,
          "cpu_time": 45.190000000000005,
          "name": "CustMercTS_1",
          "real_mem": 589508608,
          "time": 1616489787.3601522
         },
         {
          "cpu_percent": 0,
          "cpu_time": 45.35,
          "name": "TranTypeTS_1",
          "real_mem": 589537280,
          "time": 1616489787.492669
         },
         {
          "cpu_percent": 393.5,
          "cpu_time": 45.62,
          "name": "ProdTypeTS_1",
          "real_mem": 589709312,
          "time": 1616489787.7712603
         },
         {
          "cpu_percent": 271.4,
          "cpu_time": 45.71,
          "name": "MercStatic_1",
          "real_mem": 589709312,
          "time": 1616489787.872431
         },
         {
          "cpu_percent": 0,
          "cpu_time": 45.730000000000004,
          "name": "Concat_2",
          "real_mem": 589709312,
          "time": 1616489787.949757
         },
         {
          "cpu_percent": 295,
          "cpu_time": 45.91,
          "name": "Concat_1",
          "real_mem": 589803520,
          "time": 1616489788.0706894
         },
         {
          "cpu_percent": 390.5,
          "cpu_time": 46.199999999999996,
          "name": "CustMercTS_1",
          "real_mem": 589914112,
          "time": 1616489788.3837914
         },
         {
          "cpu_percent": 194.8,
          "cpu_time": 46.37,
          "name": "TranTypeTS_1",
          "real_mem": 589914112,
          "time": 1616489788.5821164
         },
         {
          "cpu_percent": 15.7,
          "cpu_time": 46.690000000000005,
          "name": "MercStatic_1",
          "real_mem": 590299136,
          "time": 1616489788.9493182
         },
         {
          "cpu_percent": 295.5,
          "cpu_time": 46.77,
          "name": "Concat_2",
          "real_mem": 590299136,
          "time": 1616489788.9734056
         },
         {
          "cpu_percent": 295.5,
          "cpu_time": 46.92,
          "name": "Concat_1",
          "real_mem": 590831616,
          "time": 1616489789.1590815
         },
         {
          "cpu_percent": 393,
          "cpu_time": 47.23,
          "name": "CustMercTS_1",
          "real_mem": 591065088,
          "time": 1616489789.470367
         },
         {
          "cpu_percent": 493.09999999999997,
          "cpu_time": 47.44,
          "name": "TranTypeTS_1",
          "real_mem": 591306752,
          "time": 1616489789.6701384
         },
         {
          "cpu_percent": 295.7,
          "cpu_time": 47.72,
          "name": "MercStatic_1",
          "real_mem": 592302080,
          "time": 1616489789.972415
         },
         {
          "cpu_percent": 484.8,
          "cpu_time": 47.83,
          "name": "Concat_2",
          "real_mem": 592371712,
          "time": 1616489790.0734224
         },
         {
          "cpu_percent": 294.1,
          "cpu_time": 47.919999999999995,
          "name": "Concat_1",
          "real_mem": 592617472,
          "time": 1616489790.1832888
         },
         {
          "cpu_percent": 292.8,
          "cpu_time": 48.269999999999996,
          "name": "CustMercTS_1",
          "real_mem": 593170432,
          "time": 1616489790.5595672
         },
         {
          "cpu_percent": 195.4,
          "cpu_time": 48.4,
          "name": "TranTypeTS_1",
          "real_mem": 601313280,
          "time": 1616489790.692775
         },
         {
          "cpu_percent": 0,
          "cpu_time": 48.709999999999994,
          "name": "MercStatic_1",
          "real_mem": 601911296,
          "time": 1616489790.9954653
         },
         {
          "cpu_percent": 392.7,
          "cpu_time": 48.91,
          "name": "Concat_2",
          "real_mem": 610181120,
          "time": 1616489791.2480748
         },
         {
          "cpu_percent": 290.9,
          "cpu_time": 48.989999999999995,
          "name": "Concat_1",
          "real_mem": 613785600,
          "time": 1616489791.2724807
         },
         {
          "cpu_percent": 0,
          "cpu_time": 49.29,
          "name": "CustMercTS_1",
          "real_mem": 618332160,
          "time": 1616489791.5838306
         },
         {
          "cpu_percent": 0,
          "cpu_time": 49.57,
          "name": "TranTypeTS_1",
          "real_mem": 619094016,
          "time": 1616489791.8819532
         },
         {
          "cpu_percent": 295.2,
          "cpu_time": 49.790000000000006,
          "name": "MercStatic_1",
          "real_mem": 621084672,
          "time": 1616489792.1590261
         },
         {
          "cpu_percent": 295.8,
          "cpu_time": 49.940000000000005,
          "name": "Concat_2",
          "real_mem": 621084672,
          "time": 1616489792.2715275
         },
         {
          "cpu_percent": 292,
          "cpu_time": 50.03,
          "name": "Concat_1",
          "real_mem": 621338624,
          "time": 1616489792.3703485
         },
         {
          "cpu_percent": 292.7,
          "cpu_time": 50.3,
          "name": "CustMercTS_1",
          "real_mem": 623095808,
          "time": 1616489792.6719437
         },
         {
          "cpu_percent": 294.6,
          "cpu_time": 50.61,
          "name": "TranTypeTS_1",
          "real_mem": 623218688,
          "time": 1616489792.9722798
         },
         {
          "cpu_percent": 97.8,
          "cpu_time": 50.82,
          "name": "MercStatic_1",
          "real_mem": 623820800,
          "time": 1616489793.1832721
         },
         {
          "cpu_percent": 0,
          "cpu_time": 50.93,
          "name": "Concat_2",
          "real_mem": 623820800,
          "time": 1616489793.294342
         },
         {
          "cpu_percent": 283.1,
          "cpu_time": 51.050000000000004,
          "name": "Concat_1",
          "real_mem": 623968256,
          "time": 1616489793.4615908
         },
         {
          "cpu_percent": 278,
          "cpu_time": 51.33,
          "name": "CustMercTS_1",
          "real_mem": 624025600,
          "time": 1616489793.7596028
         },
         {
          "cpu_percent": 391.6,
          "cpu_time": 51.63,
          "name": "TranTypeTS_1",
          "real_mem": 625025024,
          "time": 1616489794.0593617
         },
         {
          "cpu_percent": 294.3,
          "cpu_time": 51.86,
          "name": "MercStatic_1",
          "real_mem": 625238016,
          "time": 1616489794.271351
         },
         {
          "cpu_percent": 195,
          "cpu_time": 51.94,
          "name": "Concat_2",
          "real_mem": 626049024,
          "time": 1616489794.3733072
         },
         {
          "cpu_percent": 27.2,
          "cpu_time": 52.080000000000005,
          "name": "Concat_1",
          "real_mem": 626106368,
          "time": 1616489794.548474
         },
         {
          "cpu_percent": 96.7,
          "cpu_time": 52.36,
          "name": "CustMercTS_1",
          "real_mem": 626335744,
          "time": 1616489794.784053
         },
         {
          "cpu_percent": 98.3,
          "cpu_time": 52.66,
          "name": "TranTypeTS_1",
          "real_mem": 626675712,
          "time": 1616489795.0828888
         },
         {
          "cpu_percent": 484.5,
          "cpu_time": 52.89,
          "name": "MercStatic_1",
          "real_mem": 626696192,
          "time": 1616489795.3594234
         },
         {
          "cpu_percent": 292.3,
          "cpu_time": 53.019999999999996,
          "name": "Concat_2",
          "real_mem": 627003392,
          "time": 1616489795.4720805
         },
         {
          "cpu_percent": 58,
          "cpu_time": 53.14,
          "name": "Concat_1",
          "real_mem": 597733376,
          "time": 1616489795.6490066
         },
         {
          "cpu_percent": 394,
          "cpu_time": 53.410000000000004,
          "name": "CustMercTS_1",
          "real_mem": 597962752,
          "time": 1616489795.8702884
         },
         {
          "cpu_percent": 391,
          "cpu_time": 53.67,
          "name": "TranTypeTS_1",
          "real_mem": 598351872,
          "time": 1616489796.1712997
         },
         {
          "cpu_percent": 95.8,
          "cpu_time": 53.910000000000004,
          "name": "MercStatic_1",
          "real_mem": 598597632,
          "time": 1616489796.3838644
         },
         {
          "cpu_percent": 0,
          "cpu_time": 54,
          "name": "Concat_2",
          "real_mem": 598614016,
          "time": 1616489796.4959064
         },
         {
          "cpu_percent": 294.5,
          "cpu_time": 54.18,
          "name": "Concat_1",
          "real_mem": 598839296,
          "time": 1616489796.6718166
         },
         {
          "cpu_percent": 0,
          "cpu_time": 54.39,
          "name": "CustMercTS_1",
          "real_mem": 601063424,
          "time": 1616489796.9491897
         },
         {
          "cpu_percent": 194.8,
          "cpu_time": 54.76,
          "name": "TranTypeTS_1",
          "real_mem": 602415104,
          "time": 1616489797.2777646
         },
         {
          "cpu_percent": 294.3,
          "cpu_time": 54.949999999999996,
          "name": "MercStatic_1",
          "real_mem": 602415104,
          "time": 1616489797.473574
         },
         {
          "cpu_percent": 386.4,
          "cpu_time": 55.05,
          "name": "Concat_2",
          "real_mem": 602439680,
          "time": 1616489797.5730498
         },
         {
          "cpu_percent": 293.9,
          "cpu_time": 55.23,
          "name": "Concat_1",
          "real_mem": 602542080,
          "time": 1616489797.7712064
         },
         {
          "cpu_percent": 296.2,
          "cpu_time": 55.44,
          "name": "CustMercTS_1",
          "real_mem": 602542080,
          "time": 1616489797.974383
         },
         {
          "cpu_percent": 98.1,
          "cpu_time": 55.78,
          "name": "TranTypeTS_1",
          "real_mem": 603500544,
          "time": 1616489798.3700244
         },
         {
          "cpu_percent": 378.8,
          "cpu_time": 56.01,
          "name": "MercStatic_1",
          "real_mem": 603533312,
          "time": 1616489798.5723271
         },
         {
          "cpu_percent": 392.6,
          "cpu_time": 56.11,
          "name": "Concat_2",
          "real_mem": 603533312,
          "time": 1616489798.6710105
         },
         {
          "cpu_percent": 295.1,
          "cpu_time": 56.29,
          "name": "Concat_1",
          "real_mem": 603627520,
          "time": 1616489798.871154
         },
         {
          "cpu_percent": 132,
          "cpu_time": 56.5,
          "name": "CustMercTS_1",
          "real_mem": 605999104,
          "time": 1616489799.1484387
         },
         {
          "cpu_percent": 34.5,
          "cpu_time": 56.89,
          "name": "TranTypeTS_1",
          "real_mem": 627503104,
          "time": 1616489799.5493324
         },
         {
          "cpu_percent": 295.3,
          "cpu_time": 57.019999999999996,
          "name": "MercStatic_1",
          "real_mem": 627503104,
          "time": 1616489799.6713874
         },
         {
          "cpu_percent": 97.1,
          "cpu_time": 57.07,
          "name": "Concat_2",
          "real_mem": 627503104,
          "time": 1616489799.695231
         },
         {
          "cpu_percent": 196,
          "cpu_time": 57.269999999999996,
          "name": "Concat_1",
          "real_mem": 631435264,
          "time": 1616489799.8942165
         },
         {
          "cpu_percent": 294.3,
          "cpu_time": 57.53,
          "name": "CustMercTS_1",
          "real_mem": 631726080,
          "time": 1616489800.1727135
         },
         {
          "cpu_percent": 196.4,
          "cpu_time": 58.029999999999994,
          "name": "MercStatic_1",
          "real_mem": 632733696,
          "time": 1616489800.6948817
         },
         {
          "cpu_percent": 390.29999999999995,
          "cpu_time": 58.1,
          "name": "Concat_2",
          "real_mem": 632733696,
          "time": 1616489800.7714155
         },
         {
          "cpu_percent": 294.6,
          "cpu_time": 58.29,
          "name": "Concat_1",
          "real_mem": 632885248,
          "time": 1616489800.9711087
         },
         {
          "cpu_percent": 16,
          "cpu_time": 58.52,
          "name": "CustMercTS_1",
          "real_mem": 632987648,
          "time": 1616489801.248652
         },
         {
          "cpu_percent": 15.3,
          "cpu_time": 59.099999999999994,
          "name": "MercStatic_1",
          "real_mem": 633241600,
          "time": 1616489801.8490314
         },
         {
          "cpu_percent": 287.3,
          "cpu_time": 59.16,
          "name": "Concat_2",
          "real_mem": 633241600,
          "time": 1616489801.872604
         },
         {
          "cpu_percent": 31.5,
          "cpu_time": 59.290000000000006,
          "name": "Concat_1",
          "real_mem": 633327616,
          "time": 1616489802.0484755
         },
         {
          "cpu_percent": 295.6,
          "cpu_time": 59.540000000000006,
          "name": "CustMercTS_1",
          "real_mem": 633507840,
          "time": 1616489802.2725525
         },
         {
          "cpu_percent": 98.1,
          "cpu_time": 60.15,
          "name": "Concat_2",
          "real_mem": 634048512,
          "time": 1616489802.9482315
         },
         {
          "cpu_percent": 293.3,
          "cpu_time": 60.11,
          "name": "MercStatic_1",
          "real_mem": 634011648,
          "time": 1616489802.8728018
         },
         {
          "cpu_percent": 158.4,
          "cpu_time": 60.32,
          "name": "Concat_1",
          "real_mem": 634048512,
          "time": 1616489803.0749888
         },
         {
          "cpu_percent": 295.6,
          "cpu_time": 60.6,
          "name": "CustMercTS_1",
          "real_mem": 634048512,
          "time": 1616489803.370879
         },
         {
          "cpu_percent": 288.4,
          "cpu_time": 61.16,
          "name": "Concat_2",
          "real_mem": 634576896,
          "time": 1616489803.9718292
         },
         {
          "cpu_percent": 197.1,
          "cpu_time": 61.32,
          "name": "Concat_1",
          "real_mem": 634957824,
          "time": 1616489804.1591463
         },
         {
          "cpu_percent": 285.5,
          "cpu_time": 61.550000000000004,
          "name": "CustMercTS_1",
          "real_mem": 635170816,
          "time": 1616489804.395367
         },
         {
          "cpu_percent": 98.4,
          "cpu_time": 62.150000000000006,
          "name": "Concat_2",
          "real_mem": 635768832,
          "time": 1616489804.9955525
         },
         {
          "cpu_percent": 98.4,
          "cpu_time": 62.29,
          "name": "Concat_1",
          "real_mem": 635846656,
          "time": 1616489805.1835659
         },
         {
          "cpu_percent": 0,
          "cpu_time": 62.54,
          "name": "CustMercTS_1",
          "real_mem": 636706816,
          "time": 1616489805.4191332
         },
         {
          "cpu_percent": 196.5,
          "cpu_time": 63.120000000000005,
          "name": "Concat_2",
          "real_mem": 637898752,
          "time": 1616489806.0481493
         },
         {
          "cpu_percent": 95.4,
          "cpu_time": 63.29,
          "name": "Concat_1",
          "real_mem": 638169088,
          "time": 1616489806.2072604
         },
         {
          "cpu_percent": 0,
          "cpu_time": 63.5,
          "name": "CustMercTS_1",
          "real_mem": 639791104,
          "time": 1616489806.4484599
         },
         {
          "cpu_percent": 195.3,
          "cpu_time": 64.19,
          "name": "Concat_2",
          "real_mem": 658894848,
          "time": 1616489807.0933228
         },
         {
          "cpu_percent": 194.8,
          "cpu_time": 64.31,
          "name": "Concat_1",
          "real_mem": 659976192,
          "time": 1616489807.2712603
         },
         {
          "cpu_percent": 196,
          "cpu_time": 64.52,
          "name": "CustMercTS_1",
          "real_mem": 659976192,
          "time": 1616489807.473145
         },
         {
          "cpu_percent": 196,
          "cpu_time": 65.26,
          "name": "Concat_2",
          "real_mem": 677244928,
          "time": 1616489808.259162
         },
         {
          "cpu_percent": 97,
          "cpu_time": 65.34,
          "name": "Concat_1",
          "real_mem": 677244928,
          "time": 1616489808.294715
         },
         {
          "cpu_percent": 97.9,
          "cpu_time": 65.51,
          "name": "CustMercTS_1",
          "real_mem": 683962368,
          "time": 1616489808.4972804
         },
         {
          "cpu_percent": 193.3,
          "cpu_time": 66.28,
          "name": "Concat_2",
          "real_mem": 690278400,
          "time": 1616489809.2826207
         },
         {
          "cpu_percent": 19.3,
          "cpu_time": 66.33,
          "name": "Concat_1",
          "real_mem": 690278400,
          "time": 1616489809.3590221
         },
         {
          "cpu_percent": 191,
          "cpu_time": 66.53,
          "name": "CustMercTS_1",
          "real_mem": 691888128,
          "time": 1616489809.560359
         },
         {
          "cpu_percent": 0,
          "cpu_time": 67.28,
          "name": "Concat_2",
          "real_mem": 692645888,
          "time": 1616489810.3490489
         },
         {
          "cpu_percent": 289.1,
          "cpu_time": 67.35,
          "name": "Concat_1",
          "real_mem": 692645888,
          "time": 1616489810.3834243
         },
         {
          "cpu_percent": 195.3,
          "cpu_time": 67.55,
          "name": "CustMercTS_1",
          "real_mem": 692645888,
          "time": 1616489810.5834827
         }
        ],
        "logs": [
         {
          "asctime": "2021-03-23 08:55:39,085",
          "created": 1616489739.0851157,
          "extra": {},
          "filename": "async_executors.py",
          "funcName": "main",
          "levelname": "DEBUG",
          "lineno": 114,
          "message": "NonSparkPath_1: started async block execution\n",
          "name": "engine.logs:NonSparkPath_1",
          "pathname": "/usr/local/lib/python3.7/dist-packages/razor/flow/async_executors.py",
          "process": 9725,
          "processName": "ForkProcess-1:1",
          "thread": 140400467949376,
          "threadName": "MainThread"
         },
         {
          "asctime": "2021-03-23 08:55:39,103",
          "created": 1616489739.103572,
          "extra": {},
          "filename": "async_executors.py",
          "funcName": "fill_atomic_inputs",
          "levelname": "INFO",
          "lineno": 250,
          "message": "NonSparkPath_1: waiting for atomic input: ip_path",
          "name": "engine.logs:NonSparkPath_1",
          "pathname": "/usr/local/lib/python3.7/dist-packages/razor/flow/async_executors.py",
          "process": 9725,
          "processName": "ForkProcess-1:1",
          "thread": 140400467949376,
          "threadName": "MainThread"
         },
         {
          "asctime": "2021-03-23 08:55:39,104",
          "created": 1616489739.10402,
          "extra": {},
          "filename": "async_executors.py",
          "funcName": "fill_atomic_inputs",
          "levelname": "DEBUG",
          "lineno": 253,
          "message": "NonSparkPath_1: got atomic input: customer_data.csv",
          "name": "engine.logs:NonSparkPath_1",
          "pathname": "/usr/local/lib/python3.7/dist-packages/razor/flow/async_executors.py",
          "process": 9725,
          "processName": "ForkProcess-1:1",
          "thread": 140400467949376,
          "threadName": "MainThread"
         },
         {
          "asctime": "2021-03-23 08:55:39,104",
          "created": 1616489739.104145,
          "extra": {},
          "filename": "async_executors.py",
          "funcName": "main",
          "levelname": "DEBUG",
          "lineno": 130,
          "message": "NonSparkPath_1: triggering block run",
          "name": "engine.logs:NonSparkPath_1",
          "pathname": "/usr/local/lib/python3.7/dist-packages/razor/flow/async_executors.py",
          "process": 9725,
          "processName": "ForkProcess-1:1",
          "thread": 140400467949376,
          "threadName": "MainThread"
         },
         {
          "asctime": "2021-03-23 08:55:39,295",
          "created": 1616489739.2952254,
          "extra": {},
          "filename": "async_executors.py",
          "funcName": "distribute_output_queue",
          "levelname": "DEBUG",
          "lineno": 308,
          "message": "NonSparkPath_1: ---- dist output: /home/aios/projectspace/customer_data.csv -> ('ReadCsvProjectSpace_1', 'filename')",
          "name": "engine.logs:NonSparkPath_1",
          "pathname": "/usr/local/lib/python3.7/dist-packages/razor/flow/async_executors.py",
          "process": 9725,
          "processName": "ForkProcess-1:1",
          "thread": 140400467949376,
          "threadName": "MainThread"
         },
         {
          "asctime": "2021-03-23 08:55:39,295",
          "created": 1616489739.2956312,
          "extra": {},
          "filename": "async_executors.py",
          "funcName": "main",
          "levelname": "DEBUG",
          "lineno": 147,
          "message": "NonSparkPath_1: block thread completed",
          "name": "engine.logs:NonSparkPath_1",
          "pathname": "/usr/local/lib/python3.7/dist-packages/razor/flow/async_executors.py",
          "process": 9725,
          "processName": "ForkProcess-1:1",
          "thread": 140400467949376,
          "threadName": "MainThread"
         },
         {
          "asctime": "2021-03-23 08:55:39,295",
          "created": 1616489739.295734,
          "extra": {},
          "filename": "async_executors.py",
          "funcName": "main",
          "levelname": "DEBUG",
          "lineno": 149,
          "message": "NonSparkPath_1: block execution complete",
          "name": "engine.logs:NonSparkPath_1",
          "pathname": "/usr/local/lib/python3.7/dist-packages/razor/flow/async_executors.py",
          "process": 9725,
          "processName": "ForkProcess-1:1",
          "thread": 140400467949376,
          "threadName": "MainThread"
         },
         {
          "asctime": "2021-03-23 08:55:39,295",
          "created": 1616489739.2958553,
          "extra": {},
          "filename": "async_executors.py",
          "funcName": "distribute_output_queue",
          "levelname": "DEBUG",
          "lineno": 308,
          "message": "NonSparkPath_1: ---- dist output: b'__!\\tEndOfStream\\t!__' -> ('ReadCsvProjectSpace_1', 'filename')",
          "name": "engine.logs:NonSparkPath_1",
          "pathname": "/usr/local/lib/python3.7/dist-packages/razor/flow/async_executors.py",
          "process": 9725,
          "processName": "ForkProcess-1:1",
          "thread": 140400467949376,
          "threadName": "MainThread"
         },
         {
          "asctime": "2021-03-23 08:55:39,326",
          "created": 1616489739.3263068,
          "extra": {},
          "filename": "async_executors.py",
          "funcName": "main",
          "levelname": "DEBUG",
          "lineno": 114,
          "message": "CustMercTS_1: started async block execution\n",
          "name": "engine.logs:CustMercTS_1",
          "pathname": "/usr/local/lib/python3.7/dist-packages/razor/flow/async_executors.py",
          "process": 9734,
          "processName": "ForkProcess-1:2",
          "thread": 140400467949376,
          "threadName": "MainThread"
         },
         {
          "asctime": "2021-03-23 08:55:39,328",
          "created": 1616489739.3282242,
          "extra": {},
          "filename": "async_executors.py",
          "funcName": "main",
          "levelname": "DEBUG",
          "lineno": 114,
          "message": "ReadCsvProjectSpace_1: started async block execution\n",
          "name": "engine.logs:ReadCsvProjectSpace_1",
          "pathname": "/usr/local/lib/python3.7/dist-packages/razor/flow/async_executors.py",
          "process": 9734,
          "processName": "ForkProcess-1:2",
          "thread": 140400467949376,
          "threadName": "MainThread"
         },
         {
          "asctime": "2021-03-23 08:55:39,329",
          "created": 1616489739.329152,
          "extra": {},
          "filename": "async_executors.py",
          "funcName": "main",
          "levelname": "DEBUG",
          "lineno": 114,
          "message": "TranTypeTS_1: started async block execution\n",
          "name": "engine.logs:TranTypeTS_1",
          "pathname": "/usr/local/lib/python3.7/dist-packages/razor/flow/async_executors.py",
          "process": 9734,
          "processName": "ForkProcess-1:2",
          "thread": 140400467949376,
          "threadName": "MainThread"
         },
         {
          "asctime": "2021-03-23 08:55:39,329",
          "created": 1616489739.3295803,
          "extra": {},
          "filename": "async_executors.py",
          "funcName": "main",
          "levelname": "DEBUG",
          "lineno": 114,
          "message": "CustStatic_1: started async block execution\n",
          "name": "engine.logs:CustStatic_1",
          "pathname": "/usr/local/lib/python3.7/dist-packages/razor/flow/async_executors.py",
          "process": 9734,
          "processName": "ForkProcess-1:2",
          "thread": 140400467949376,
          "threadName": "MainThread"
         },
         {
          "asctime": "2021-03-23 08:55:39,329",
          "created": 1616489739.3299932,
          "extra": {},
          "filename": "async_executors.py",
          "funcName": "main",
          "levelname": "DEBUG",
          "lineno": 114,
          "message": "ProdTypeTS_1: started async block execution\n",
          "name": "engine.logs:ProdTypeTS_1",
          "pathname": "/usr/local/lib/python3.7/dist-packages/razor/flow/async_executors.py",
          "process": 9734,
          "processName": "ForkProcess-1:2",
          "thread": 140400467949376,
          "threadName": "MainThread"
         },
         {
          "asctime": "2021-03-23 08:55:39,330",
          "created": 1616489739.3307393,
          "extra": {},
          "filename": "async_executors.py",
          "funcName": "main",
          "levelname": "DEBUG",
          "lineno": 114,
          "message": "MercStatic_1: started async block execution\n",
          "name": "engine.logs:MercStatic_1",
          "pathname": "/usr/local/lib/python3.7/dist-packages/razor/flow/async_executors.py",
          "process": 9734,
          "processName": "ForkProcess-1:2",
          "thread": 140400467949376,
          "threadName": "MainThread"
         },
         {
          "asctime": "2021-03-23 08:55:39,331",
          "created": 1616489739.3312922,
          "extra": {},
          "filename": "async_executors.py",
          "funcName": "main",
          "levelname": "DEBUG",
          "lineno": 114,
          "message": "Concat_2: started async block execution\n",
          "name": "engine.logs:Concat_2",
          "pathname": "/usr/local/lib/python3.7/dist-packages/razor/flow/async_executors.py",
          "process": 9734,
          "processName": "ForkProcess-1:2",
          "thread": 140400467949376,
          "threadName": "MainThread"
         },
         {
          "asctime": "2021-03-23 08:55:39,331",
          "created": 1616489739.3317795,
          "extra": {},
          "filename": "async_executors.py",
          "funcName": "main",
          "levelname": "DEBUG",
          "lineno": 114,
          "message": "Concat_1: started async block execution\n",
          "name": "engine.logs:Concat_1",
          "pathname": "/usr/local/lib/python3.7/dist-packages/razor/flow/async_executors.py",
          "process": 9734,
          "processName": "ForkProcess-1:2",
          "thread": 140400467949376,
          "threadName": "MainThread"
         },
         {
          "asctime": "2021-03-23 08:55:39,332",
          "created": 1616489739.332236,
          "extra": {},
          "filename": "async_executors.py",
          "funcName": "main",
          "levelname": "DEBUG",
          "lineno": 114,
          "message": "TranCityTS_1: started async block execution\n",
          "name": "engine.logs:TranCityTS_1",
          "pathname": "/usr/local/lib/python3.7/dist-packages/razor/flow/async_executors.py",
          "process": 9734,
          "processName": "ForkProcess-1:2",
          "thread": 140400467949376,
          "threadName": "MainThread"
         },
         {
          "asctime": "2021-03-23 08:55:39,541",
          "created": 1616489739.5410085,
          "extra": {},
          "filename": "async_executors.py",
          "funcName": "start_input_receiver",
          "levelname": "DEBUG",
          "lineno": 173,
          "message": "NonSparkPath_1: received cmd: start_sender, (), {'out_name': 'op_path', 'target': ('ReadCsvProjectSpace_1', 'filename'), 'out_addr': 'tcp://0.0.0.0:57909', 'in_memory': None}",
          "name": "engine.logs:NonSparkPath_1",
          "pathname": "/usr/local/lib/python3.7/dist-packages/razor/flow/async_executors.py",
          "process": 9725,
          "processName": "ForkProcess-1:1",
          "thread": 140400467949376,
          "threadName": "MainThread"
         },
         {
          "asctime": "2021-03-23 08:55:39,541",
          "created": 1616489739.5413573,
          "extra": {},
          "filename": "async_executors.py",
          "funcName": "start_output_sender",
          "levelname": "DEBUG",
          "lineno": 370,
          "message": "NonSparkPath_1: got start_sender, op_path, ('ReadCsvProjectSpace_1', 'filename')",
          "name": "engine.logs:NonSparkPath_1",
          "pathname": "/usr/local/lib/python3.7/dist-packages/razor/flow/async_executors.py",
          "process": 9725,
          "processName": "ForkProcess-1:1",
          "thread": 140400467949376,
          "threadName": "MainThread"
         },
         {
          "asctime": "2021-03-23 08:55:39,542",
          "created": 1616489739.5422595,
          "extra": {},
          "filename": "async_executors.py",
          "funcName": "start_output_sender",
          "levelname": "DEBUG",
          "lineno": 388,
          "message": "NonSparkPath_1: SENT, filename, /home/aios/projectspace/customer_data.csv, ('ReadCsvProjectSpace_1', 'filename')",
          "name": "engine.logs:NonSparkPath_1",
          "pathname": "/usr/local/lib/python3.7/dist-packages/razor/flow/async_executors.py",
          "process": 9725,
          "processName": "ForkProcess-1:1",
          "thread": 140400467949376,
          "threadName": "MainThread"
         },
         {
          "asctime": "2021-03-23 08:55:39,554",
          "created": 1616489739.5541508,
          "extra": {},
          "filename": "async_executors.py",
          "funcName": "start_output_sender",
          "levelname": "DEBUG",
          "lineno": 388,
          "message": "NonSparkPath_1: SENT, filename, b'__!\\tEndOfStream\\t!__', ('ReadCsvProjectSpace_1', 'filename')",
          "name": "engine.logs:NonSparkPath_1",
          "pathname": "/usr/local/lib/python3.7/dist-packages/razor/flow/async_executors.py",
          "process": 9725,
          "processName": "ForkProcess-1:1",
          "thread": 140400467949376,
          "threadName": "MainThread"
         },
         {
          "asctime": "2021-03-23 08:55:39,554",
          "created": 1616489739.554807,
          "extra": {},
          "filename": "async_executors.py",
          "funcName": "start_output_sender",
          "levelname": "DEBUG",
          "lineno": 391,
          "message": "NonSparkPath_1: completed output: ('op_path', ('ReadCsvProjectSpace_1', 'filename'))",
          "name": "engine.logs:NonSparkPath_1",
          "pathname": "/usr/local/lib/python3.7/dist-packages/razor/flow/async_executors.py",
          "process": 9725,
          "processName": "ForkProcess-1:1",
          "thread": 140400467949376,
          "threadName": "MainThread"
         },
         {
          "asctime": "2021-03-23 08:55:39,348",
          "created": 1616489739.3483644,
          "extra": {},
          "filename": "async_executors.py",
          "funcName": "fill_atomic_inputs",
          "levelname": "INFO",
          "lineno": 250,
          "message": "CustMercTS_1: waiting for atomic input: ip_data",
          "name": "engine.logs:CustMercTS_1",
          "pathname": "/usr/local/lib/python3.7/dist-packages/razor/flow/async_executors.py",
          "process": 9734,
          "processName": "ForkProcess-1:2",
          "thread": 140400467949376,
          "threadName": "MainThread"
         },
         {
          "asctime": "2021-03-23 08:55:39,376",
          "created": 1616489739.3761172,
          "extra": {},
          "filename": "async_executors.py",
          "funcName": "fill_atomic_inputs",
          "levelname": "INFO",
          "lineno": 250,
          "message": "ReadCsvProjectSpace_1: waiting for atomic input: filename",
          "name": "engine.logs:ReadCsvProjectSpace_1",
          "pathname": "/usr/local/lib/python3.7/dist-packages/razor/flow/async_executors.py",
          "process": 9734,
          "processName": "ForkProcess-1:2",
          "thread": 140400467949376,
          "threadName": "MainThread"
         },
         {
          "asctime": "2021-03-23 08:55:39,561",
          "created": 1616489739.5618951,
          "extra": {},
          "filename": "async_executors.py",
          "funcName": "start_input_receiver",
          "levelname": "DEBUG",
          "lineno": 173,
          "message": "NonSparkPath_1: received cmd: terminate, (), {}",
          "name": "engine.logs:NonSparkPath_1",
          "pathname": "/usr/local/lib/python3.7/dist-packages/razor/flow/async_executors.py",
          "process": 9725,
          "processName": "ForkProcess-1:1",
          "thread": 140400467949376,
          "threadName": "MainThread"
         },
         {
          "asctime": "2021-03-23 08:55:39,390",
          "created": 1616489739.3900132,
          "extra": {},
          "filename": "async_executors.py",
          "funcName": "fill_atomic_inputs",
          "levelname": "INFO",
          "lineno": 250,
          "message": "TranTypeTS_1: waiting for atomic input: ip_data",
          "name": "engine.logs:TranTypeTS_1",
          "pathname": "/usr/local/lib/python3.7/dist-packages/razor/flow/async_executors.py",
          "process": 9734,
          "processName": "ForkProcess-1:2",
          "thread": 140400467949376,
          "threadName": "MainThread"
         },
         {
          "asctime": "2021-03-23 08:55:39,404",
          "created": 1616489739.4041772,
          "extra": {},
          "filename": "async_executors.py",
          "funcName": "fill_atomic_inputs",
          "levelname": "INFO",
          "lineno": 250,
          "message": "CustStatic_1: waiting for atomic input: ip_data",
          "name": "engine.logs:CustStatic_1",
          "pathname": "/usr/local/lib/python3.7/dist-packages/razor/flow/async_executors.py",
          "process": 9734,
          "processName": "ForkProcess-1:2",
          "thread": 140400467949376,
          "threadName": "MainThread"
         },
         {
          "asctime": "2021-03-23 08:55:39,432",
          "created": 1616489739.4325058,
          "extra": {},
          "filename": "async_executors.py",
          "funcName": "fill_atomic_inputs",
          "levelname": "INFO",
          "lineno": 250,
          "message": "MercStatic_1: waiting for atomic input: ip_data",
          "name": "engine.logs:MercStatic_1",
          "pathname": "/usr/local/lib/python3.7/dist-packages/razor/flow/async_executors.py",
          "process": 9734,
          "processName": "ForkProcess-1:2",
          "thread": 140400467949376,
          "threadName": "MainThread"
         },
         {
          "asctime": "2021-03-23 08:55:39,447",
          "created": 1616489739.447358,
          "extra": {},
          "filename": "async_executors.py",
          "funcName": "fill_atomic_inputs",
          "levelname": "INFO",
          "lineno": 250,
          "message": "Concat_2: waiting for atomic input: df1",
          "name": "engine.logs:Concat_2",
          "pathname": "/usr/local/lib/python3.7/dist-packages/razor/flow/async_executors.py",
          "process": 9734,
          "processName": "ForkProcess-1:2",
          "thread": 140400467949376,
          "threadName": "MainThread"
         },
         {
          "asctime": "2021-03-23 08:55:39,474",
          "created": 1616489739.4741058,
          "extra": {},
          "filename": "async_executors.py",
          "funcName": "fill_atomic_inputs",
          "levelname": "INFO",
          "lineno": 250,
          "message": "Concat_1: waiting for atomic input: df1",
          "name": "engine.logs:Concat_1",
          "pathname": "/usr/local/lib/python3.7/dist-packages/razor/flow/async_executors.py",
          "process": 9734,
          "processName": "ForkProcess-1:2",
          "thread": 140400467949376,
          "threadName": "MainThread"
         },
         {
          "asctime": "2021-03-23 08:55:39,418",
          "created": 1616489739.4183066,
          "extra": {},
          "filename": "async_executors.py",
          "funcName": "fill_atomic_inputs",
          "levelname": "INFO",
          "lineno": 250,
          "message": "ProdTypeTS_1: waiting for atomic input: ip_data",
          "name": "engine.logs:ProdTypeTS_1",
          "pathname": "/usr/local/lib/python3.7/dist-packages/razor/flow/async_executors.py",
          "process": 9734,
          "processName": "ForkProcess-1:2",
          "thread": 140400467949376,
          "threadName": "MainThread"
         },
         {
          "asctime": "2021-03-23 08:55:39,487",
          "created": 1616489739.4876764,
          "extra": {},
          "filename": "async_executors.py",
          "funcName": "fill_atomic_inputs",
          "levelname": "INFO",
          "lineno": 250,
          "message": "TranCityTS_1: waiting for atomic input: ip_data",
          "name": "engine.logs:TranCityTS_1",
          "pathname": "/usr/local/lib/python3.7/dist-packages/razor/flow/async_executors.py",
          "process": 9734,
          "processName": "ForkProcess-1:2",
          "thread": 140400467949376,
          "threadName": "MainThread"
         },
         {
          "asctime": "2021-03-23 08:55:39,575",
          "created": 1616489739.575955,
          "extra": {},
          "filename": "async_executors.py",
          "funcName": "start_input_receiver",
          "levelname": "DEBUG",
          "lineno": 177,
          "message": "ReadCsvProjectSpace_1: received data: filename, /home/aios/projectspace/customer_data.csv",
          "name": "engine.logs:ReadCsvProjectSpace_1",
          "pathname": "/usr/local/lib/python3.7/dist-packages/razor/flow/async_executors.py",
          "process": 9734,
          "processName": "ForkProcess-1:2",
          "thread": 140400467949376,
          "threadName": "MainThread"
         },
         {
          "asctime": "2021-03-23 08:55:39,588",
          "created": 1616489739.588824,
          "extra": {},
          "filename": "async_executors.py",
          "funcName": "start_input_receiver",
          "levelname": "DEBUG",
          "lineno": 177,
          "message": "ReadCsvProjectSpace_1: received data: filename, b'__!\\tEndOfStream\\t!__'",
          "name": "engine.logs:ReadCsvProjectSpace_1",
          "pathname": "/usr/local/lib/python3.7/dist-packages/razor/flow/async_executors.py",
          "process": 9734,
          "processName": "ForkProcess-1:2",
          "thread": 140400467949376,
          "threadName": "MainThread"
         },
         {
          "asctime": "2021-03-23 08:55:39,589",
          "created": 1616489739.589484,
          "extra": {},
          "filename": "async_executors.py",
          "funcName": "fill_atomic_inputs",
          "levelname": "DEBUG",
          "lineno": 253,
          "message": "ReadCsvProjectSpace_1: got atomic input: /home/aios/projectspace/customer_data.csv",
          "name": "engine.logs:ReadCsvProjectSpace_1",
          "pathname": "/usr/local/lib/python3.7/dist-packages/razor/flow/async_executors.py",
          "process": 9734,
          "processName": "ForkProcess-1:2",
          "thread": 140400467949376,
          "threadName": "MainThread"
         },
         {
          "asctime": "2021-03-23 08:55:39,589",
          "created": 1616489739.5895846,
          "extra": {},
          "filename": "async_executors.py",
          "funcName": "fill_atomic_inputs",
          "levelname": "INFO",
          "lineno": 250,
          "message": "ReadCsvProjectSpace_1: waiting for atomic input: config",
          "name": "engine.logs:ReadCsvProjectSpace_1",
          "pathname": "/usr/local/lib/python3.7/dist-packages/razor/flow/async_executors.py",
          "process": 9734,
          "processName": "ForkProcess-1:2",
          "thread": 140400467949376,
          "threadName": "MainThread"
         },
         {
          "asctime": "2021-03-23 08:55:39,589",
          "created": 1616489739.589647,
          "extra": {},
          "filename": "async_executors.py",
          "funcName": "fill_atomic_inputs",
          "levelname": "DEBUG",
          "lineno": 253,
          "message": "ReadCsvProjectSpace_1: got atomic input: {}",
          "name": "engine.logs:ReadCsvProjectSpace_1",
          "pathname": "/usr/local/lib/python3.7/dist-packages/razor/flow/async_executors.py",
          "process": 9734,
          "processName": "ForkProcess-1:2",
          "thread": 140400467949376,
          "threadName": "MainThread"
         },
         {
          "asctime": "2021-03-23 08:55:39,589",
          "created": 1616489739.58971,
          "extra": {},
          "filename": "async_executors.py",
          "funcName": "fill_atomic_inputs",
          "levelname": "INFO",
          "lineno": 250,
          "message": "ReadCsvProjectSpace_1: waiting for atomic input: source",
          "name": "engine.logs:ReadCsvProjectSpace_1",
          "pathname": "/usr/local/lib/python3.7/dist-packages/razor/flow/async_executors.py",
          "process": 9734,
          "processName": "ForkProcess-1:2",
          "thread": 140400467949376,
          "threadName": "MainThread"
         },
         {
          "asctime": "2021-03-23 08:55:39,589",
          "created": 1616489739.5897725,
          "extra": {},
          "filename": "async_executors.py",
          "funcName": "fill_atomic_inputs",
          "levelname": "DEBUG",
          "lineno": 253,
          "message": "ReadCsvProjectSpace_1: got atomic input: ",
          "name": "engine.logs:ReadCsvProjectSpace_1",
          "pathname": "/usr/local/lib/python3.7/dist-packages/razor/flow/async_executors.py",
          "process": 9734,
          "processName": "ForkProcess-1:2",
          "thread": 140400467949376,
          "threadName": "MainThread"
         },
         {
          "asctime": "2021-03-23 08:55:39,589",
          "created": 1616489739.5898407,
          "extra": {},
          "filename": "async_executors.py",
          "funcName": "main",
          "levelname": "DEBUG",
          "lineno": 130,
          "message": "ReadCsvProjectSpace_1: triggering block run",
          "name": "engine.logs:ReadCsvProjectSpace_1",
          "pathname": "/usr/local/lib/python3.7/dist-packages/razor/flow/async_executors.py",
          "process": 9734,
          "processName": "ForkProcess-1:2",
          "thread": 140400467949376,
          "threadName": "MainThread"
         },
         {
          "asctime": "2021-03-23 08:56:03,950",
          "created": 1616489763.95049,
          "exc_info": null,
          "extra": {},
          "filename": null,
          "full_message": null,
          "funcName": null,
          "levelname": "STDOUT",
          "lineno": null,
          "message": "Hello\n",
          "name": "block.stdout:ReadCsvProjectSpace_1",
          "pathname": null,
          "process": null,
          "processName": null,
          "thread": null,
          "threadName": null
         },
         {
          "asctime": "2021-03-23 08:56:03,978",
          "created": 1616489763.9787588,
          "exc_info": null,
          "extra": {},
          "filename": null,
          "full_message": null,
          "funcName": null,
          "levelname": "STDOUT",
          "lineno": null,
          "message": "root\n |-- transaction_id: string (nullable = true)\n |-- time: string (nullable = true)\n |-- customer_name: string (nullable = true)\n |-- card_number: string (nullable = true)\n |-- card_type: string (nullable = true)\n |-- physical_card_type: string (nullable = true)\n |-- merchant_id: string (nullable = true)\n |-- merchant_city: string (nullable = true)\n |-- merchant_state: string (nullable = true)\n |-- transaction_type: string (nullable = true)\n |-- transaction_type_sub: string (nullable = true)\n |-- amount: string (nullable = true)\n |-- product_type: string (nullable = true)\n |-- fraud_risk: string (nullable = true)\n |-- One Time Heavy Loot Score: string (nullable = true)\n |-- Drastic Transaction Change Pattern Score: string (nullable = true)\n |-- Parasitic Fraud Score: string (nullable = true)\n |-- Purchase Behavior Variation Score: string (nullable = true)\n |-- Preferred Merchant Variation Score: string (nullable = true)\n |-- Multiple Location Fraud Score: string (nullable = true)\n |-- Fraudster Merchant Score: string (nullable = true)\n |-- no_of_transactions_in_the_day: string (nullable = true)\n |-- max_transaction_amount_in_the_day: string (nullable = true)\n |-- avg_transaction_amount_in_the_day: string (nullable = true)\n |-- no_of_transactions_in_the_month: string (nullable = true)\n |-- max_transaction_amount_the_month: string (nullable = true)\n |-- avg_transaction_amount_the_month: string (nullable = true)\n |-- no_of_transactions_of_the_same_merchant_in_the_day: string (nullable = true)\n |-- max_transactions_of_the_same_merchant_in_the_day: string (nullable = true)\n |-- avg_transactions_of_the_same_merchant_in_the_day: string (nullable = true)\n |-- no_of_transactions_of_the_same_merchant_in_the_month: string (nullable = true)\n |-- max_transactions_of_the_same_merchant_in_the_month: string (nullable = true)\n |-- avg_transactions_of_the_same_merchant_in_the_month: string (nullable = true)\n\n",
          "name": "block.stdout:ReadCsvProjectSpace_1",
          "pathname": null,
          "process": null,
          "processName": null,
          "thread": null,
          "threadName": null
         },
         {
          "asctime": "2021-03-23 08:56:04,077",
          "created": 1616489764.0776126,
          "extra": {},
          "filename": "async_executors.py",
          "funcName": "distribute_output_queue",
          "levelname": "DEBUG",
          "lineno": 308,
          "message": "ReadCsvProjectSpace_1: ---- dist output: DataFrame[transaction_id: string, time: string, customer_name: string, card_number: string, card_type: string, physical_card_type: string, merchant_id: string, merchant_city: string, merchant_state: string, transaction_type: string, transaction_type_sub: string, amount: string, product_type: string, fraud_risk: string, One Time Heavy Loot Score: string, Drastic Transaction Change Pattern Score: string, Parasitic Fraud Score: string, Purchase Behavior Variation Score: string, Preferred Merchant Variation Score: string, Multiple Location Fraud Score: string, Fraudster Merchant Score: string, no_of_transactions_in_the_day: string, max_transaction_amount_in_the_day: string, avg_transaction_amount_in_the_day: string, no_of_transactions_in_the_month: string, max_transaction_amount_the_month: string, avg_transaction_amount_the_month: string, no_of_transactions_of_the_same_merchant_in_the_day: string, max_transactions_of_the_same_merchant_in_the_day: string, avg_transactions_of_the_same_merchant_in_the_day: string, no_of_transactions_of_the_same_merchant_in_the_month: string, max_transactions_of_the_same_merchant_in_the_month: string, avg_transactions_of_the_same_merchant_in_the_month: string] -> ('MercStatic_1', 'ip_data')",
          "name": "engine.logs:ReadCsvProjectSpace_1",
          "pathname": "/usr/local/lib/python3.7/dist-packages/razor/flow/async_executors.py",
          "process": 9734,
          "processName": "ForkProcess-1:2",
          "thread": 140400467949376,
          "threadName": "MainThread"
         },
         {
          "asctime": "2021-03-23 08:56:04,079",
          "created": 1616489764.0791948,
          "extra": {},
          "filename": "async_executors.py",
          "funcName": "distribute_output_queue",
          "levelname": "DEBUG",
          "lineno": 308,
          "message": "ReadCsvProjectSpace_1: ---- dist output: DataFrame[transaction_id: string, time: string, customer_name: string, card_number: string, card_type: string, physical_card_type: string, merchant_id: string, merchant_city: string, merchant_state: string, transaction_type: string, transaction_type_sub: string, amount: string, product_type: string, fraud_risk: string, One Time Heavy Loot Score: string, Drastic Transaction Change Pattern Score: string, Parasitic Fraud Score: string, Purchase Behavior Variation Score: string, Preferred Merchant Variation Score: string, Multiple Location Fraud Score: string, Fraudster Merchant Score: string, no_of_transactions_in_the_day: string, max_transaction_amount_in_the_day: string, avg_transaction_amount_in_the_day: string, no_of_transactions_in_the_month: string, max_transaction_amount_the_month: string, avg_transaction_amount_the_month: string, no_of_transactions_of_the_same_merchant_in_the_day: string, max_transactions_of_the_same_merchant_in_the_day: string, avg_transactions_of_the_same_merchant_in_the_day: string, no_of_transactions_of_the_same_merchant_in_the_month: string, max_transactions_of_the_same_merchant_in_the_month: string, avg_transactions_of_the_same_merchant_in_the_month: string] -> ('TranCityTS_1', 'ip_data')",
          "name": "engine.logs:ReadCsvProjectSpace_1",
          "pathname": "/usr/local/lib/python3.7/dist-packages/razor/flow/async_executors.py",
          "process": 9734,
          "processName": "ForkProcess-1:2",
          "thread": 140400467949376,
          "threadName": "MainThread"
         },
         {
          "asctime": "2021-03-23 08:56:04,079",
          "created": 1616489764.0799491,
          "extra": {},
          "filename": "async_executors.py",
          "funcName": "distribute_output_queue",
          "levelname": "DEBUG",
          "lineno": 308,
          "message": "ReadCsvProjectSpace_1: ---- dist output: DataFrame[transaction_id: string, time: string, customer_name: string, card_number: string, card_type: string, physical_card_type: string, merchant_id: string, merchant_city: string, merchant_state: string, transaction_type: string, transaction_type_sub: string, amount: string, product_type: string, fraud_risk: string, One Time Heavy Loot Score: string, Drastic Transaction Change Pattern Score: string, Parasitic Fraud Score: string, Purchase Behavior Variation Score: string, Preferred Merchant Variation Score: string, Multiple Location Fraud Score: string, Fraudster Merchant Score: string, no_of_transactions_in_the_day: string, max_transaction_amount_in_the_day: string, avg_transaction_amount_in_the_day: string, no_of_transactions_in_the_month: string, max_transaction_amount_the_month: string, avg_transaction_amount_the_month: string, no_of_transactions_of_the_same_merchant_in_the_day: string, max_transactions_of_the_same_merchant_in_the_day: string, avg_transactions_of_the_same_merchant_in_the_day: string, no_of_transactions_of_the_same_merchant_in_the_month: string, max_transactions_of_the_same_merchant_in_the_month: string, avg_transactions_of_the_same_merchant_in_the_month: string] -> ('CustMercTS_1', 'ip_data')",
          "name": "engine.logs:ReadCsvProjectSpace_1",
          "pathname": "/usr/local/lib/python3.7/dist-packages/razor/flow/async_executors.py",
          "process": 9734,
          "processName": "ForkProcess-1:2",
          "thread": 140400467949376,
          "threadName": "MainThread"
         },
         {
          "asctime": "2021-03-23 08:56:04,080",
          "created": 1616489764.0805616,
          "extra": {},
          "filename": "async_executors.py",
          "funcName": "distribute_output_queue",
          "levelname": "DEBUG",
          "lineno": 308,
          "message": "ReadCsvProjectSpace_1: ---- dist output: DataFrame[transaction_id: string, time: string, customer_name: string, card_number: string, card_type: string, physical_card_type: string, merchant_id: string, merchant_city: string, merchant_state: string, transaction_type: string, transaction_type_sub: string, amount: string, product_type: string, fraud_risk: string, One Time Heavy Loot Score: string, Drastic Transaction Change Pattern Score: string, Parasitic Fraud Score: string, Purchase Behavior Variation Score: string, Preferred Merchant Variation Score: string, Multiple Location Fraud Score: string, Fraudster Merchant Score: string, no_of_transactions_in_the_day: string, max_transaction_amount_in_the_day: string, avg_transaction_amount_in_the_day: string, no_of_transactions_in_the_month: string, max_transaction_amount_the_month: string, avg_transaction_amount_the_month: string, no_of_transactions_of_the_same_merchant_in_the_day: string, max_transactions_of_the_same_merchant_in_the_day: string, avg_transactions_of_the_same_merchant_in_the_day: string, no_of_transactions_of_the_same_merchant_in_the_month: string, max_transactions_of_the_same_merchant_in_the_month: string, avg_transactions_of_the_same_merchant_in_the_month: string] -> ('TranTypeTS_1', 'ip_data')",
          "name": "engine.logs:ReadCsvProjectSpace_1",
          "pathname": "/usr/local/lib/python3.7/dist-packages/razor/flow/async_executors.py",
          "process": 9734,
          "processName": "ForkProcess-1:2",
          "thread": 140400467949376,
          "threadName": "MainThread"
         },
         {
          "asctime": "2021-03-23 08:56:04,081",
          "created": 1616489764.0813022,
          "extra": {},
          "filename": "async_executors.py",
          "funcName": "distribute_output_queue",
          "levelname": "DEBUG",
          "lineno": 308,
          "message": "ReadCsvProjectSpace_1: ---- dist output: DataFrame[transaction_id: string, time: string, customer_name: string, card_number: string, card_type: string, physical_card_type: string, merchant_id: string, merchant_city: string, merchant_state: string, transaction_type: string, transaction_type_sub: string, amount: string, product_type: string, fraud_risk: string, One Time Heavy Loot Score: string, Drastic Transaction Change Pattern Score: string, Parasitic Fraud Score: string, Purchase Behavior Variation Score: string, Preferred Merchant Variation Score: string, Multiple Location Fraud Score: string, Fraudster Merchant Score: string, no_of_transactions_in_the_day: string, max_transaction_amount_in_the_day: string, avg_transaction_amount_in_the_day: string, no_of_transactions_in_the_month: string, max_transaction_amount_the_month: string, avg_transaction_amount_the_month: string, no_of_transactions_of_the_same_merchant_in_the_day: string, max_transactions_of_the_same_merchant_in_the_day: string, avg_transactions_of_the_same_merchant_in_the_day: string, no_of_transactions_of_the_same_merchant_in_the_month: string, max_transactions_of_the_same_merchant_in_the_month: string, avg_transactions_of_the_same_merchant_in_the_month: string] -> ('ProdTypeTS_1', 'ip_data')",
          "name": "engine.logs:ReadCsvProjectSpace_1",
          "pathname": "/usr/local/lib/python3.7/dist-packages/razor/flow/async_executors.py",
          "process": 9734,
          "processName": "ForkProcess-1:2",
          "thread": 140400467949376,
          "threadName": "MainThread"
         },
         {
          "asctime": "2021-03-23 08:56:04,081",
          "created": 1616489764.0819466,
          "extra": {},
          "filename": "async_executors.py",
          "funcName": "distribute_output_queue",
          "levelname": "DEBUG",
          "lineno": 308,
          "message": "ReadCsvProjectSpace_1: ---- dist output: DataFrame[transaction_id: string, time: string, customer_name: string, card_number: string, card_type: string, physical_card_type: string, merchant_id: string, merchant_city: string, merchant_state: string, transaction_type: string, transaction_type_sub: string, amount: string, product_type: string, fraud_risk: string, One Time Heavy Loot Score: string, Drastic Transaction Change Pattern Score: string, Parasitic Fraud Score: string, Purchase Behavior Variation Score: string, Preferred Merchant Variation Score: string, Multiple Location Fraud Score: string, Fraudster Merchant Score: string, no_of_transactions_in_the_day: string, max_transaction_amount_in_the_day: string, avg_transaction_amount_in_the_day: string, no_of_transactions_in_the_month: string, max_transaction_amount_the_month: string, avg_transaction_amount_the_month: string, no_of_transactions_of_the_same_merchant_in_the_day: string, max_transactions_of_the_same_merchant_in_the_day: string, avg_transactions_of_the_same_merchant_in_the_day: string, no_of_transactions_of_the_same_merchant_in_the_month: string, max_transactions_of_the_same_merchant_in_the_month: string, avg_transactions_of_the_same_merchant_in_the_month: string] -> ('CustStatic_1', 'ip_data')",
          "name": "engine.logs:ReadCsvProjectSpace_1",
          "pathname": "/usr/local/lib/python3.7/dist-packages/razor/flow/async_executors.py",
          "process": 9734,
          "processName": "ForkProcess-1:2",
          "thread": 140400467949376,
          "threadName": "MainThread"
         },
         {
          "asctime": "2021-03-23 08:56:04,082",
          "created": 1616489764.0823407,
          "extra": {},
          "filename": "async_executors.py",
          "funcName": "main",
          "levelname": "DEBUG",
          "lineno": 147,
          "message": "ReadCsvProjectSpace_1: block thread completed",
          "name": "engine.logs:ReadCsvProjectSpace_1",
          "pathname": "/usr/local/lib/python3.7/dist-packages/razor/flow/async_executors.py",
          "process": 9734,
          "processName": "ForkProcess-1:2",
          "thread": 140400467949376,
          "threadName": "MainThread"
         },
         {
          "asctime": "2021-03-23 08:56:04,082",
          "created": 1616489764.0824368,
          "extra": {},
          "filename": "async_executors.py",
          "funcName": "main",
          "levelname": "DEBUG",
          "lineno": 149,
          "message": "ReadCsvProjectSpace_1: block execution complete",
          "name": "engine.logs:ReadCsvProjectSpace_1",
          "pathname": "/usr/local/lib/python3.7/dist-packages/razor/flow/async_executors.py",
          "process": 9734,
          "processName": "ForkProcess-1:2",
          "thread": 140400467949376,
          "threadName": "MainThread"
         },
         {
          "asctime": "2021-03-23 08:56:04,082",
          "created": 1616489764.0827825,
          "extra": {},
          "filename": "async_executors.py",
          "funcName": "distribute_output_queue",
          "levelname": "DEBUG",
          "lineno": 308,
          "message": "ReadCsvProjectSpace_1: ---- dist output: b'__!\\tEndOfStream\\t!__' -> ('MercStatic_1', 'ip_data')",
          "name": "engine.logs:ReadCsvProjectSpace_1",
          "pathname": "/usr/local/lib/python3.7/dist-packages/razor/flow/async_executors.py",
          "process": 9734,
          "processName": "ForkProcess-1:2",
          "thread": 140400467949376,
          "threadName": "MainThread"
         },
         {
          "asctime": "2021-03-23 08:56:04,082",
          "created": 1616489764.0828483,
          "extra": {},
          "filename": "async_executors.py",
          "funcName": "distribute_output_queue",
          "levelname": "DEBUG",
          "lineno": 308,
          "message": "ReadCsvProjectSpace_1: ---- dist output: b'__!\\tEndOfStream\\t!__' -> ('TranCityTS_1', 'ip_data')",
          "name": "engine.logs:ReadCsvProjectSpace_1",
          "pathname": "/usr/local/lib/python3.7/dist-packages/razor/flow/async_executors.py",
          "process": 9734,
          "processName": "ForkProcess-1:2",
          "thread": 140400467949376,
          "threadName": "MainThread"
         },
         {
          "asctime": "2021-03-23 08:56:04,082",
          "created": 1616489764.082901,
          "extra": {},
          "filename": "async_executors.py",
          "funcName": "distribute_output_queue",
          "levelname": "DEBUG",
          "lineno": 308,
          "message": "ReadCsvProjectSpace_1: ---- dist output: b'__!\\tEndOfStream\\t!__' -> ('CustMercTS_1', 'ip_data')",
          "name": "engine.logs:ReadCsvProjectSpace_1",
          "pathname": "/usr/local/lib/python3.7/dist-packages/razor/flow/async_executors.py",
          "process": 9734,
          "processName": "ForkProcess-1:2",
          "thread": 140400467949376,
          "threadName": "MainThread"
         },
         {
          "asctime": "2021-03-23 08:56:04,082",
          "created": 1616489764.0829566,
          "extra": {},
          "filename": "async_executors.py",
          "funcName": "distribute_output_queue",
          "levelname": "DEBUG",
          "lineno": 308,
          "message": "ReadCsvProjectSpace_1: ---- dist output: b'__!\\tEndOfStream\\t!__' -> ('TranTypeTS_1', 'ip_data')",
          "name": "engine.logs:ReadCsvProjectSpace_1",
          "pathname": "/usr/local/lib/python3.7/dist-packages/razor/flow/async_executors.py",
          "process": 9734,
          "processName": "ForkProcess-1:2",
          "thread": 140400467949376,
          "threadName": "MainThread"
         },
         {
          "asctime": "2021-03-23 08:56:04,223",
          "created": 1616489764.2230253,
          "extra": {},
          "filename": "async_executors.py",
          "funcName": "fill_atomic_inputs",
          "levelname": "DEBUG",
          "lineno": 253,
          "message": "CustMercTS_1: got atomic input: DataFrame[transaction_id: string, time: string, customer_name: string, card_number: string, card_type: string, physical_card_type: string, merchant_id: string, merchant_city: string, merchant_state: string, transaction_type: string, transaction_type_sub: string, amount: string, product_type: string, fraud_risk: string, One Time Heavy Loot Score: string, Drastic Transaction Change Pattern Score: string, Parasitic Fraud Score: string, Purchase Behavior Variation Score: string, Preferred Merchant Variation Score: string, Multiple Location Fraud Score: string, Fraudster Merchant Score: string, no_of_transactions_in_the_day: string, max_transaction_amount_in_the_day: string, avg_transaction_amount_in_the_day: string, no_of_transactions_in_the_month: string, max_transaction_amount_the_month: string, avg_transaction_amount_the_month: string, no_of_transactions_of_the_same_merchant_in_the_day: string, max_transactions_of_the_same_merchant_in_the_day: string, avg_transactions_of_the_same_merchant_in_the_day: string, no_of_transactions_of_the_same_merchant_in_the_month: string, max_transactions_of_the_same_merchant_in_the_month: string, avg_transactions_of_the_same_merchant_in_the_month: string]",
          "name": "engine.logs:CustMercTS_1",
          "pathname": "/usr/local/lib/python3.7/dist-packages/razor/flow/async_executors.py",
          "process": 9734,
          "processName": "ForkProcess-1:2",
          "thread": 140400467949376,
          "threadName": "MainThread"
         },
         {
          "asctime": "2021-03-23 08:56:04,082",
          "created": 1616489764.0829945,
          "extra": {},
          "filename": "async_executors.py",
          "funcName": "distribute_output_queue",
          "levelname": "DEBUG",
          "lineno": 308,
          "message": "ReadCsvProjectSpace_1: ---- dist output: b'__!\\tEndOfStream\\t!__' -> ('ProdTypeTS_1', 'ip_data')",
          "name": "engine.logs:ReadCsvProjectSpace_1",
          "pathname": "/usr/local/lib/python3.7/dist-packages/razor/flow/async_executors.py",
          "process": 9734,
          "processName": "ForkProcess-1:2",
          "thread": 140400467949376,
          "threadName": "MainThread"
         },
         {
          "asctime": "2021-03-23 08:56:04,223",
          "created": 1616489764.2231452,
          "extra": {},
          "filename": "async_executors.py",
          "funcName": "fill_atomic_inputs",
          "levelname": "INFO",
          "lineno": 250,
          "message": "CustMercTS_1: waiting for atomic input: config",
          "name": "engine.logs:CustMercTS_1",
          "pathname": "/usr/local/lib/python3.7/dist-packages/razor/flow/async_executors.py",
          "process": 9734,
          "processName": "ForkProcess-1:2",
          "thread": 140400467949376,
          "threadName": "MainThread"
         },
         {
          "asctime": "2021-03-23 08:56:04,083",
          "created": 1616489764.083031,
          "extra": {},
          "filename": "async_executors.py",
          "funcName": "distribute_output_queue",
          "levelname": "DEBUG",
          "lineno": 308,
          "message": "ReadCsvProjectSpace_1: ---- dist output: b'__!\\tEndOfStream\\t!__' -> ('CustStatic_1', 'ip_data')",
          "name": "engine.logs:ReadCsvProjectSpace_1",
          "pathname": "/usr/local/lib/python3.7/dist-packages/razor/flow/async_executors.py",
          "process": 9734,
          "processName": "ForkProcess-1:2",
          "thread": 140400467949376,
          "threadName": "MainThread"
         },
         {
          "asctime": "2021-03-23 08:56:04,223",
          "created": 1616489764.2232118,
          "extra": {},
          "filename": "async_executors.py",
          "funcName": "fill_atomic_inputs",
          "levelname": "DEBUG",
          "lineno": 253,
          "message": "CustMercTS_1: got atomic input: {}",
          "name": "engine.logs:CustMercTS_1",
          "pathname": "/usr/local/lib/python3.7/dist-packages/razor/flow/async_executors.py",
          "process": 9734,
          "processName": "ForkProcess-1:2",
          "thread": 140400467949376,
          "threadName": "MainThread"
         },
         {
          "asctime": "2021-03-23 08:56:04,255",
          "created": 1616489764.2558134,
          "extra": {},
          "filename": "async_executors.py",
          "funcName": "fill_atomic_inputs",
          "levelname": "DEBUG",
          "lineno": 253,
          "message": "CustStatic_1: got atomic input: DataFrame[transaction_id: string, time: string, customer_name: string, card_number: string, card_type: string, physical_card_type: string, merchant_id: string, merchant_city: string, merchant_state: string, transaction_type: string, transaction_type_sub: string, amount: string, product_type: string, fraud_risk: string, One Time Heavy Loot Score: string, Drastic Transaction Change Pattern Score: string, Parasitic Fraud Score: string, Purchase Behavior Variation Score: string, Preferred Merchant Variation Score: string, Multiple Location Fraud Score: string, Fraudster Merchant Score: string, no_of_transactions_in_the_day: string, max_transaction_amount_in_the_day: string, avg_transaction_amount_in_the_day: string, no_of_transactions_in_the_month: string, max_transaction_amount_the_month: string, avg_transaction_amount_the_month: string, no_of_transactions_of_the_same_merchant_in_the_day: string, max_transactions_of_the_same_merchant_in_the_day: string, avg_transactions_of_the_same_merchant_in_the_day: string, no_of_transactions_of_the_same_merchant_in_the_month: string, max_transactions_of_the_same_merchant_in_the_month: string, avg_transactions_of_the_same_merchant_in_the_month: string]",
          "name": "engine.logs:CustStatic_1",
          "pathname": "/usr/local/lib/python3.7/dist-packages/razor/flow/async_executors.py",
          "process": 9734,
          "processName": "ForkProcess-1:2",
          "thread": 140400467949376,
          "threadName": "MainThread"
         },
         {
          "asctime": "2021-03-23 08:56:04,223",
          "created": 1616489764.2232566,
          "extra": {},
          "filename": "async_executors.py",
          "funcName": "fill_atomic_inputs",
          "levelname": "INFO",
          "lineno": 250,
          "message": "CustMercTS_1: waiting for atomic input: source",
          "name": "engine.logs:CustMercTS_1",
          "pathname": "/usr/local/lib/python3.7/dist-packages/razor/flow/async_executors.py",
          "process": 9734,
          "processName": "ForkProcess-1:2",
          "thread": 140400467949376,
          "threadName": "MainThread"
         },
         {
          "asctime": "2021-03-23 08:56:04,256",
          "created": 1616489764.2561119,
          "extra": {},
          "filename": "async_executors.py",
          "funcName": "fill_atomic_inputs",
          "levelname": "INFO",
          "lineno": 250,
          "message": "CustStatic_1: waiting for atomic input: config",
          "name": "engine.logs:CustStatic_1",
          "pathname": "/usr/local/lib/python3.7/dist-packages/razor/flow/async_executors.py",
          "process": 9734,
          "processName": "ForkProcess-1:2",
          "thread": 140400467949376,
          "threadName": "MainThread"
         },
         {
          "asctime": "2021-03-23 08:56:04,195",
          "created": 1616489764.1954386,
          "extra": {},
          "filename": "async_executors.py",
          "funcName": "start_input_receiver",
          "levelname": "DEBUG",
          "lineno": 173,
          "message": "ReadCsvProjectSpace_1: received cmd: start_sender, (), {'out_name': 'data', 'target': ('CustMercTS_1', 'ip_data'), 'out_addr': 'tcp://0.0.0.0:55514', 'in_memory': True}",
          "name": "engine.logs:ReadCsvProjectSpace_1",
          "pathname": "/usr/local/lib/python3.7/dist-packages/razor/flow/async_executors.py",
          "process": 9734,
          "processName": "ForkProcess-1:2",
          "thread": 140400467949376,
          "threadName": "MainThread"
         },
         {
          "asctime": "2021-03-23 08:56:04,223",
          "created": 1616489764.2233038,
          "extra": {},
          "filename": "async_executors.py",
          "funcName": "fill_atomic_inputs",
          "levelname": "DEBUG",
          "lineno": 253,
          "message": "CustMercTS_1: got atomic input: ",
          "name": "engine.logs:CustMercTS_1",
          "pathname": "/usr/local/lib/python3.7/dist-packages/razor/flow/async_executors.py",
          "process": 9734,
          "processName": "ForkProcess-1:2",
          "thread": 140400467949376,
          "threadName": "MainThread"
         },
         {
          "asctime": "2021-03-23 08:56:04,256",
          "created": 1616489764.256192,
          "extra": {},
          "filename": "async_executors.py",
          "funcName": "fill_atomic_inputs",
          "levelname": "DEBUG",
          "lineno": 253,
          "message": "CustStatic_1: got atomic input: {}",
          "name": "engine.logs:CustStatic_1",
          "pathname": "/usr/local/lib/python3.7/dist-packages/razor/flow/async_executors.py",
          "process": 9734,
          "processName": "ForkProcess-1:2",
          "thread": 140400467949376,
          "threadName": "MainThread"
         },
         {
          "asctime": "2021-03-23 08:56:04,264",
          "created": 1616489764.264633,
          "extra": {},
          "filename": "async_executors.py",
          "funcName": "fill_atomic_inputs",
          "levelname": "DEBUG",
          "lineno": 253,
          "message": "MercStatic_1: got atomic input: DataFrame[transaction_id: string, time: string, customer_name: string, card_number: string, card_type: string, physical_card_type: string, merchant_id: string, merchant_city: string, merchant_state: string, transaction_type: string, transaction_type_sub: string, amount: string, product_type: string, fraud_risk: string, One Time Heavy Loot Score: string, Drastic Transaction Change Pattern Score: string, Parasitic Fraud Score: string, Purchase Behavior Variation Score: string, Preferred Merchant Variation Score: string, Multiple Location Fraud Score: string, Fraudster Merchant Score: string, no_of_transactions_in_the_day: string, max_transaction_amount_in_the_day: string, avg_transaction_amount_in_the_day: string, no_of_transactions_in_the_month: string, max_transaction_amount_the_month: string, avg_transaction_amount_the_month: string, no_of_transactions_of_the_same_merchant_in_the_day: string, max_transactions_of_the_same_merchant_in_the_day: string, avg_transactions_of_the_same_merchant_in_the_day: string, no_of_transactions_of_the_same_merchant_in_the_month: string, max_transactions_of_the_same_merchant_in_the_month: string, avg_transactions_of_the_same_merchant_in_the_month: string]",
          "name": "engine.logs:MercStatic_1",
          "pathname": "/usr/local/lib/python3.7/dist-packages/razor/flow/async_executors.py",
          "process": 9734,
          "processName": "ForkProcess-1:2",
          "thread": 140400467949376,
          "threadName": "MainThread"
         },
         {
          "asctime": "2021-03-23 08:56:04,264",
          "created": 1616489764.2647905,
          "extra": {},
          "filename": "async_executors.py",
          "funcName": "fill_atomic_inputs",
          "levelname": "INFO",
          "lineno": 250,
          "message": "MercStatic_1: waiting for atomic input: config",
          "name": "engine.logs:MercStatic_1",
          "pathname": "/usr/local/lib/python3.7/dist-packages/razor/flow/async_executors.py",
          "process": 9734,
          "processName": "ForkProcess-1:2",
          "thread": 140400467949376,
          "threadName": "MainThread"
         },
         {
          "asctime": "2021-03-23 08:56:04,223",
          "created": 1616489764.2233593,
          "extra": {},
          "filename": "async_executors.py",
          "funcName": "main",
          "levelname": "DEBUG",
          "lineno": 130,
          "message": "CustMercTS_1: triggering block run",
          "name": "engine.logs:CustMercTS_1",
          "pathname": "/usr/local/lib/python3.7/dist-packages/razor/flow/async_executors.py",
          "process": 9734,
          "processName": "ForkProcess-1:2",
          "thread": 140400467949376,
          "threadName": "MainThread"
         },
         {
          "asctime": "2021-03-23 08:56:04,256",
          "created": 1616489764.2562323,
          "extra": {},
          "filename": "async_executors.py",
          "funcName": "fill_atomic_inputs",
          "levelname": "INFO",
          "lineno": 250,
          "message": "CustStatic_1: waiting for atomic input: source",
          "name": "engine.logs:CustStatic_1",
          "pathname": "/usr/local/lib/python3.7/dist-packages/razor/flow/async_executors.py",
          "process": 9734,
          "processName": "ForkProcess-1:2",
          "thread": 140400467949376,
          "threadName": "MainThread"
         },
         {
          "asctime": "2021-03-23 08:56:04,196",
          "created": 1616489764.1960092,
          "extra": {},
          "filename": "async_executors.py",
          "funcName": "start_output_sender",
          "levelname": "DEBUG",
          "lineno": 370,
          "message": "ReadCsvProjectSpace_1: got start_sender, data, ('CustMercTS_1', 'ip_data')",
          "name": "engine.logs:ReadCsvProjectSpace_1",
          "pathname": "/usr/local/lib/python3.7/dist-packages/razor/flow/async_executors.py",
          "process": 9734,
          "processName": "ForkProcess-1:2",
          "thread": 140400467949376,
          "threadName": "MainThread"
         },
         {
          "asctime": "2021-03-23 08:56:04,256",
          "created": 1616489764.2562773,
          "extra": {},
          "filename": "async_executors.py",
          "funcName": "fill_atomic_inputs",
          "levelname": "DEBUG",
          "lineno": 253,
          "message": "CustStatic_1: got atomic input: ",
          "name": "engine.logs:CustStatic_1",
          "pathname": "/usr/local/lib/python3.7/dist-packages/razor/flow/async_executors.py",
          "process": 9734,
          "processName": "ForkProcess-1:2",
          "thread": 140400467949376,
          "threadName": "MainThread"
         },
         {
          "asctime": "2021-03-23 08:56:04,264",
          "created": 1616489764.264862,
          "extra": {},
          "filename": "async_executors.py",
          "funcName": "fill_atomic_inputs",
          "levelname": "DEBUG",
          "lineno": 253,
          "message": "MercStatic_1: got atomic input: {}",
          "name": "engine.logs:MercStatic_1",
          "pathname": "/usr/local/lib/python3.7/dist-packages/razor/flow/async_executors.py",
          "process": 9734,
          "processName": "ForkProcess-1:2",
          "thread": 140400467949376,
          "threadName": "MainThread"
         },
         {
          "asctime": "2021-03-23 08:56:04,349",
          "created": 1616489764.349796,
          "extra": {},
          "filename": "async_executors.py",
          "funcName": "fill_atomic_inputs",
          "levelname": "DEBUG",
          "lineno": 253,
          "message": "ProdTypeTS_1: got atomic input: DataFrame[transaction_id: string, time: string, customer_name: string, card_number: string, card_type: string, physical_card_type: string, merchant_id: string, merchant_city: string, merchant_state: string, transaction_type: string, transaction_type_sub: string, amount: string, product_type: string, fraud_risk: string, One Time Heavy Loot Score: string, Drastic Transaction Change Pattern Score: string, Parasitic Fraud Score: string, Purchase Behavior Variation Score: string, Preferred Merchant Variation Score: string, Multiple Location Fraud Score: string, Fraudster Merchant Score: string, no_of_transactions_in_the_day: string, max_transaction_amount_in_the_day: string, avg_transaction_amount_in_the_day: string, no_of_transactions_in_the_month: string, max_transaction_amount_the_month: string, avg_transaction_amount_the_month: string, no_of_transactions_of_the_same_merchant_in_the_day: string, max_transactions_of_the_same_merchant_in_the_day: string, avg_transactions_of_the_same_merchant_in_the_day: string, no_of_transactions_of_the_same_merchant_in_the_month: string, max_transactions_of_the_same_merchant_in_the_month: string, avg_transactions_of_the_same_merchant_in_the_month: string]",
          "name": "engine.logs:ProdTypeTS_1",
          "pathname": "/usr/local/lib/python3.7/dist-packages/razor/flow/async_executors.py",
          "process": 9734,
          "processName": "ForkProcess-1:2",
          "thread": 140400467949376,
          "threadName": "MainThread"
         },
         {
          "asctime": "2021-03-23 08:56:04,197",
          "created": 1616489764.1971686,
          "extra": {},
          "filename": "async_executors.py",
          "funcName": "start_output_sender",
          "levelname": "DEBUG",
          "lineno": 375,
          "message": "ReadCsvProjectSpace_1: SENT, ip_data, DataFrame[transaction_id: string, time: string, customer_name: string, card_number: string, card_type: string, physical_card_type: string, merchant_id: string, merchant_city: string, merchant_state: string, transaction_type: string, transaction_type_sub: string, amount: string, product_type: string, fraud_risk: string, One Time Heavy Loot Score: string, Drastic Transaction Change Pattern Score: string, Parasitic Fraud Score: string, Purchase Behavior Variation Score: string, Preferred Merchant Variation Score: string, Multiple Location Fraud Score: string, Fraudster Merchant Score: string, no_of_transactions_in_the_day: string, max_transaction_amount_in_the_day: string, avg_transaction_amount_in_the_day: string, no_of_transactions_in_the_month: string, max_transaction_amount_the_month: string, avg_transaction_amount_the_month: string, no_of_transactions_of_the_same_merchant_in_the_day: string, max_transactions_of_the_same_merchant_in_the_day: string, avg_transactions_of_the_same_merchant_in_the_day: string, no_of_transactions_of_the_same_merchant_in_the_month: string, max_transactions_of_the_same_merchant_in_the_month: string, avg_transactions_of_the_same_merchant_in_the_month: string], ('CustMercTS_1', 'ip_data')",
          "name": "engine.logs:ReadCsvProjectSpace_1",
          "pathname": "/usr/local/lib/python3.7/dist-packages/razor/flow/async_executors.py",
          "process": 9734,
          "processName": "ForkProcess-1:2",
          "thread": 140400467949376,
          "threadName": "MainThread"
         },
         {
          "asctime": "2021-03-23 08:56:04,256",
          "created": 1616489764.2563264,
          "extra": {},
          "filename": "async_executors.py",
          "funcName": "main",
          "levelname": "DEBUG",
          "lineno": 130,
          "message": "CustStatic_1: triggering block run",
          "name": "engine.logs:CustStatic_1",
          "pathname": "/usr/local/lib/python3.7/dist-packages/razor/flow/async_executors.py",
          "process": 9734,
          "processName": "ForkProcess-1:2",
          "thread": 140400467949376,
          "threadName": "MainThread"
         },
         {
          "asctime": "2021-03-23 08:56:04,264",
          "created": 1616489764.2649028,
          "extra": {},
          "filename": "async_executors.py",
          "funcName": "fill_atomic_inputs",
          "levelname": "INFO",
          "lineno": 250,
          "message": "MercStatic_1: waiting for atomic input: source",
          "name": "engine.logs:MercStatic_1",
          "pathname": "/usr/local/lib/python3.7/dist-packages/razor/flow/async_executors.py",
          "process": 9734,
          "processName": "ForkProcess-1:2",
          "thread": 140400467949376,
          "threadName": "MainThread"
         },
         {
          "asctime": "2021-03-23 08:56:04,350",
          "created": 1616489764.3500614,
          "extra": {},
          "filename": "async_executors.py",
          "funcName": "fill_atomic_inputs",
          "levelname": "INFO",
          "lineno": 250,
          "message": "ProdTypeTS_1: waiting for atomic input: config",
          "name": "engine.logs:ProdTypeTS_1",
          "pathname": "/usr/local/lib/python3.7/dist-packages/razor/flow/async_executors.py",
          "process": 9734,
          "processName": "ForkProcess-1:2",
          "thread": 140400467949376,
          "threadName": "MainThread"
         },
         {
          "asctime": "2021-03-23 08:56:04,197",
          "created": 1616489764.197323,
          "extra": {},
          "filename": "async_executors.py",
          "funcName": "start_output_sender",
          "levelname": "DEBUG",
          "lineno": 375,
          "message": "ReadCsvProjectSpace_1: SENT, ip_data, b'__!\\tEndOfStream\\t!__', ('CustMercTS_1', 'ip_data')",
          "name": "engine.logs:ReadCsvProjectSpace_1",
          "pathname": "/usr/local/lib/python3.7/dist-packages/razor/flow/async_executors.py",
          "process": 9734,
          "processName": "ForkProcess-1:2",
          "thread": 140400467949376,
          "threadName": "MainThread"
         },
         {
          "asctime": "2021-03-23 08:56:04,350",
          "created": 1616489764.350196,
          "extra": {},
          "filename": "async_executors.py",
          "funcName": "fill_atomic_inputs",
          "levelname": "DEBUG",
          "lineno": 253,
          "message": "ProdTypeTS_1: got atomic input: {}",
          "name": "engine.logs:ProdTypeTS_1",
          "pathname": "/usr/local/lib/python3.7/dist-packages/razor/flow/async_executors.py",
          "process": 9734,
          "processName": "ForkProcess-1:2",
          "thread": 140400467949376,
          "threadName": "MainThread"
         },
         {
          "asctime": "2021-03-23 08:56:04,264",
          "created": 1616489764.2649753,
          "extra": {},
          "filename": "async_executors.py",
          "funcName": "fill_atomic_inputs",
          "levelname": "DEBUG",
          "lineno": 253,
          "message": "MercStatic_1: got atomic input: ",
          "name": "engine.logs:MercStatic_1",
          "pathname": "/usr/local/lib/python3.7/dist-packages/razor/flow/async_executors.py",
          "process": 9734,
          "processName": "ForkProcess-1:2",
          "thread": 140400467949376,
          "threadName": "MainThread"
         },
         {
          "asctime": "2021-03-23 08:56:04,550",
          "created": 1616489764.5501366,
          "extra": {},
          "filename": "async_executors.py",
          "funcName": "fill_atomic_inputs",
          "levelname": "DEBUG",
          "lineno": 253,
          "message": "TranCityTS_1: got atomic input: DataFrame[transaction_id: string, time: string, customer_name: string, card_number: string, card_type: string, physical_card_type: string, merchant_id: string, merchant_city: string, merchant_state: string, transaction_type: string, transaction_type_sub: string, amount: string, product_type: string, fraud_risk: string, One Time Heavy Loot Score: string, Drastic Transaction Change Pattern Score: string, Parasitic Fraud Score: string, Purchase Behavior Variation Score: string, Preferred Merchant Variation Score: string, Multiple Location Fraud Score: string, Fraudster Merchant Score: string, no_of_transactions_in_the_day: string, max_transaction_amount_in_the_day: string, avg_transaction_amount_in_the_day: string, no_of_transactions_in_the_month: string, max_transaction_amount_the_month: string, avg_transaction_amount_the_month: string, no_of_transactions_of_the_same_merchant_in_the_day: string, max_transactions_of_the_same_merchant_in_the_day: string, avg_transactions_of_the_same_merchant_in_the_day: string, no_of_transactions_of_the_same_merchant_in_the_month: string, max_transactions_of_the_same_merchant_in_the_month: string, avg_transactions_of_the_same_merchant_in_the_month: string]",
          "name": "engine.logs:TranCityTS_1",
          "pathname": "/usr/local/lib/python3.7/dist-packages/razor/flow/async_executors.py",
          "process": 9734,
          "processName": "ForkProcess-1:2",
          "thread": 140400467949376,
          "threadName": "MainThread"
         },
         {
          "asctime": "2021-03-23 08:56:04,197",
          "created": 1616489764.197387,
          "extra": {},
          "filename": "async_executors.py",
          "funcName": "start_output_sender",
          "levelname": "DEBUG",
          "lineno": 379,
          "message": "ReadCsvProjectSpace_1: completed output: ('data', ('CustMercTS_1', 'ip_data'))",
          "name": "engine.logs:ReadCsvProjectSpace_1",
          "pathname": "/usr/local/lib/python3.7/dist-packages/razor/flow/async_executors.py",
          "process": 9734,
          "processName": "ForkProcess-1:2",
          "thread": 140400467949376,
          "threadName": "MainThread"
         },
         {
          "asctime": "2021-03-23 08:56:04,265",
          "created": 1616489764.2650373,
          "extra": {},
          "filename": "async_executors.py",
          "funcName": "main",
          "levelname": "DEBUG",
          "lineno": 130,
          "message": "MercStatic_1: triggering block run",
          "name": "engine.logs:MercStatic_1",
          "pathname": "/usr/local/lib/python3.7/dist-packages/razor/flow/async_executors.py",
          "process": 9734,
          "processName": "ForkProcess-1:2",
          "thread": 140400467949376,
          "threadName": "MainThread"
         },
         {
          "asctime": "2021-03-23 08:56:04,350",
          "created": 1616489764.3502767,
          "extra": {},
          "filename": "async_executors.py",
          "funcName": "fill_atomic_inputs",
          "levelname": "INFO",
          "lineno": 250,
          "message": "ProdTypeTS_1: waiting for atomic input: source",
          "name": "engine.logs:ProdTypeTS_1",
          "pathname": "/usr/local/lib/python3.7/dist-packages/razor/flow/async_executors.py",
          "process": 9734,
          "processName": "ForkProcess-1:2",
          "thread": 140400467949376,
          "threadName": "MainThread"
         },
         {
          "asctime": "2021-03-23 08:56:04,550",
          "created": 1616489764.5503654,
          "extra": {},
          "filename": "async_executors.py",
          "funcName": "fill_atomic_inputs",
          "levelname": "INFO",
          "lineno": 250,
          "message": "TranCityTS_1: waiting for atomic input: config",
          "name": "engine.logs:TranCityTS_1",
          "pathname": "/usr/local/lib/python3.7/dist-packages/razor/flow/async_executors.py",
          "process": 9734,
          "processName": "ForkProcess-1:2",
          "thread": 140400467949376,
          "threadName": "MainThread"
         },
         {
          "asctime": "2021-03-23 08:56:04,964",
          "created": 1616489764.964608,
          "extra": {},
          "filename": "async_executors.py",
          "funcName": "fill_atomic_inputs",
          "levelname": "DEBUG",
          "lineno": 253,
          "message": "TranTypeTS_1: got atomic input: DataFrame[transaction_id: string, time: string, customer_name: string, card_number: string, card_type: string, physical_card_type: string, merchant_id: string, merchant_city: string, merchant_state: string, transaction_type: string, transaction_type_sub: string, amount: string, product_type: string, fraud_risk: string, One Time Heavy Loot Score: string, Drastic Transaction Change Pattern Score: string, Parasitic Fraud Score: string, Purchase Behavior Variation Score: string, Preferred Merchant Variation Score: string, Multiple Location Fraud Score: string, Fraudster Merchant Score: string, no_of_transactions_in_the_day: string, max_transaction_amount_in_the_day: string, avg_transaction_amount_in_the_day: string, no_of_transactions_in_the_month: string, max_transaction_amount_the_month: string, avg_transaction_amount_the_month: string, no_of_transactions_of_the_same_merchant_in_the_day: string, max_transactions_of_the_same_merchant_in_the_day: string, avg_transactions_of_the_same_merchant_in_the_day: string, no_of_transactions_of_the_same_merchant_in_the_month: string, max_transactions_of_the_same_merchant_in_the_month: string, avg_transactions_of_the_same_merchant_in_the_month: string]",
          "name": "engine.logs:TranTypeTS_1",
          "pathname": "/usr/local/lib/python3.7/dist-packages/razor/flow/async_executors.py",
          "process": 9734,
          "processName": "ForkProcess-1:2",
          "thread": 140400467949376,
          "threadName": "MainThread"
         },
         {
          "asctime": "2021-03-23 08:56:04,197",
          "created": 1616489764.1974618,
          "extra": {},
          "filename": "async_executors.py",
          "funcName": "start_input_receiver",
          "levelname": "DEBUG",
          "lineno": 173,
          "message": "ReadCsvProjectSpace_1: received cmd: start_sender, (), {'out_name': 'data', 'target': ('CustStatic_1', 'ip_data'), 'out_addr': 'tcp://0.0.0.0:62959', 'in_memory': True}",
          "name": "engine.logs:ReadCsvProjectSpace_1",
          "pathname": "/usr/local/lib/python3.7/dist-packages/razor/flow/async_executors.py",
          "process": 9734,
          "processName": "ForkProcess-1:2",
          "thread": 140400467949376,
          "threadName": "MainThread"
         },
         {
          "asctime": "2021-03-23 08:56:04,350",
          "created": 1616489764.3503616,
          "extra": {},
          "filename": "async_executors.py",
          "funcName": "fill_atomic_inputs",
          "levelname": "DEBUG",
          "lineno": 253,
          "message": "ProdTypeTS_1: got atomic input: ",
          "name": "engine.logs:ProdTypeTS_1",
          "pathname": "/usr/local/lib/python3.7/dist-packages/razor/flow/async_executors.py",
          "process": 9734,
          "processName": "ForkProcess-1:2",
          "thread": 140400467949376,
          "threadName": "MainThread"
         },
         {
          "asctime": "2021-03-23 08:56:04,550",
          "created": 1616489764.550509,
          "extra": {},
          "filename": "async_executors.py",
          "funcName": "fill_atomic_inputs",
          "levelname": "DEBUG",
          "lineno": 253,
          "message": "TranCityTS_1: got atomic input: {}",
          "name": "engine.logs:TranCityTS_1",
          "pathname": "/usr/local/lib/python3.7/dist-packages/razor/flow/async_executors.py",
          "process": 9734,
          "processName": "ForkProcess-1:2",
          "thread": 140400467949376,
          "threadName": "MainThread"
         },
         {
          "asctime": "2021-03-23 08:56:04,964",
          "created": 1616489764.9648762,
          "extra": {},
          "filename": "async_executors.py",
          "funcName": "fill_atomic_inputs",
          "levelname": "INFO",
          "lineno": 250,
          "message": "TranTypeTS_1: waiting for atomic input: config",
          "name": "engine.logs:TranTypeTS_1",
          "pathname": "/usr/local/lib/python3.7/dist-packages/razor/flow/async_executors.py",
          "process": 9734,
          "processName": "ForkProcess-1:2",
          "thread": 140400467949376,
          "threadName": "MainThread"
         },
         {
          "asctime": "2021-03-23 08:56:04,220",
          "created": 1616489764.2206483,
          "extra": {},
          "filename": "async_executors.py",
          "funcName": "start_output_sender",
          "levelname": "DEBUG",
          "lineno": 370,
          "message": "ReadCsvProjectSpace_1: got start_sender, data, ('CustStatic_1', 'ip_data')",
          "name": "engine.logs:ReadCsvProjectSpace_1",
          "pathname": "/usr/local/lib/python3.7/dist-packages/razor/flow/async_executors.py",
          "process": 9734,
          "processName": "ForkProcess-1:2",
          "thread": 140400467949376,
          "threadName": "MainThread"
         },
         {
          "asctime": "2021-03-23 08:56:04,350",
          "created": 1616489764.3504567,
          "extra": {},
          "filename": "async_executors.py",
          "funcName": "main",
          "levelname": "DEBUG",
          "lineno": 130,
          "message": "ProdTypeTS_1: triggering block run",
          "name": "engine.logs:ProdTypeTS_1",
          "pathname": "/usr/local/lib/python3.7/dist-packages/razor/flow/async_executors.py",
          "process": 9734,
          "processName": "ForkProcess-1:2",
          "thread": 140400467949376,
          "threadName": "MainThread"
         },
         {
          "asctime": "2021-03-23 08:56:04,550",
          "created": 1616489764.5506027,
          "extra": {},
          "filename": "async_executors.py",
          "funcName": "fill_atomic_inputs",
          "levelname": "INFO",
          "lineno": 250,
          "message": "TranCityTS_1: waiting for atomic input: source",
          "name": "engine.logs:TranCityTS_1",
          "pathname": "/usr/local/lib/python3.7/dist-packages/razor/flow/async_executors.py",
          "process": 9734,
          "processName": "ForkProcess-1:2",
          "thread": 140400467949376,
          "threadName": "MainThread"
         },
         {
          "asctime": "2021-03-23 08:56:04,965",
          "created": 1616489764.9650517,
          "extra": {},
          "filename": "async_executors.py",
          "funcName": "fill_atomic_inputs",
          "levelname": "DEBUG",
          "lineno": 253,
          "message": "TranTypeTS_1: got atomic input: {}",
          "name": "engine.logs:TranTypeTS_1",
          "pathname": "/usr/local/lib/python3.7/dist-packages/razor/flow/async_executors.py",
          "process": 9734,
          "processName": "ForkProcess-1:2",
          "thread": 140400467949376,
          "threadName": "MainThread"
         },
         {
          "asctime": "2021-03-23 08:56:04,550",
          "created": 1616489764.550684,
          "extra": {},
          "filename": "async_executors.py",
          "funcName": "fill_atomic_inputs",
          "levelname": "DEBUG",
          "lineno": 253,
          "message": "TranCityTS_1: got atomic input: ",
          "name": "engine.logs:TranCityTS_1",
          "pathname": "/usr/local/lib/python3.7/dist-packages/razor/flow/async_executors.py",
          "process": 9734,
          "processName": "ForkProcess-1:2",
          "thread": 140400467949376,
          "threadName": "MainThread"
         },
         {
          "asctime": "2021-03-23 08:56:04,221",
          "created": 1616489764.221692,
          "extra": {},
          "filename": "async_executors.py",
          "funcName": "start_output_sender",
          "levelname": "DEBUG",
          "lineno": 375,
          "message": "ReadCsvProjectSpace_1: SENT, ip_data, DataFrame[transaction_id: string, time: string, customer_name: string, card_number: string, card_type: string, physical_card_type: string, merchant_id: string, merchant_city: string, merchant_state: string, transaction_type: string, transaction_type_sub: string, amount: string, product_type: string, fraud_risk: string, One Time Heavy Loot Score: string, Drastic Transaction Change Pattern Score: string, Parasitic Fraud Score: string, Purchase Behavior Variation Score: string, Preferred Merchant Variation Score: string, Multiple Location Fraud Score: string, Fraudster Merchant Score: string, no_of_transactions_in_the_day: string, max_transaction_amount_in_the_day: string, avg_transaction_amount_in_the_day: string, no_of_transactions_in_the_month: string, max_transaction_amount_the_month: string, avg_transaction_amount_the_month: string, no_of_transactions_of_the_same_merchant_in_the_day: string, max_transactions_of_the_same_merchant_in_the_day: string, avg_transactions_of_the_same_merchant_in_the_day: string, no_of_transactions_of_the_same_merchant_in_the_month: string, max_transactions_of_the_same_merchant_in_the_month: string, avg_transactions_of_the_same_merchant_in_the_month: string], ('CustStatic_1', 'ip_data')",
          "name": "engine.logs:ReadCsvProjectSpace_1",
          "pathname": "/usr/local/lib/python3.7/dist-packages/razor/flow/async_executors.py",
          "process": 9734,
          "processName": "ForkProcess-1:2",
          "thread": 140400467949376,
          "threadName": "MainThread"
         },
         {
          "asctime": "2021-03-23 08:56:04,550",
          "created": 1616489764.550789,
          "extra": {},
          "filename": "async_executors.py",
          "funcName": "main",
          "levelname": "DEBUG",
          "lineno": 130,
          "message": "TranCityTS_1: triggering block run",
          "name": "engine.logs:TranCityTS_1",
          "pathname": "/usr/local/lib/python3.7/dist-packages/razor/flow/async_executors.py",
          "process": 9734,
          "processName": "ForkProcess-1:2",
          "thread": 140400467949376,
          "threadName": "MainThread"
         },
         {
          "asctime": "2021-03-23 08:56:04,965",
          "created": 1616489764.9651237,
          "extra": {},
          "filename": "async_executors.py",
          "funcName": "fill_atomic_inputs",
          "levelname": "INFO",
          "lineno": 250,
          "message": "TranTypeTS_1: waiting for atomic input: source",
          "name": "engine.logs:TranTypeTS_1",
          "pathname": "/usr/local/lib/python3.7/dist-packages/razor/flow/async_executors.py",
          "process": 9734,
          "processName": "ForkProcess-1:2",
          "thread": 140400467949376,
          "threadName": "MainThread"
         },
         {
          "asctime": "2021-03-23 08:56:04,221",
          "created": 1616489764.2218506,
          "extra": {},
          "filename": "async_executors.py",
          "funcName": "start_output_sender",
          "levelname": "DEBUG",
          "lineno": 375,
          "message": "ReadCsvProjectSpace_1: SENT, ip_data, b'__!\\tEndOfStream\\t!__', ('CustStatic_1', 'ip_data')",
          "name": "engine.logs:ReadCsvProjectSpace_1",
          "pathname": "/usr/local/lib/python3.7/dist-packages/razor/flow/async_executors.py",
          "process": 9734,
          "processName": "ForkProcess-1:2",
          "thread": 140400467949376,
          "threadName": "MainThread"
         },
         {
          "asctime": "2021-03-23 08:56:04,965",
          "created": 1616489764.9651961,
          "extra": {},
          "filename": "async_executors.py",
          "funcName": "fill_atomic_inputs",
          "levelname": "DEBUG",
          "lineno": 253,
          "message": "TranTypeTS_1: got atomic input: ",
          "name": "engine.logs:TranTypeTS_1",
          "pathname": "/usr/local/lib/python3.7/dist-packages/razor/flow/async_executors.py",
          "process": 9734,
          "processName": "ForkProcess-1:2",
          "thread": 140400467949376,
          "threadName": "MainThread"
         },
         {
          "asctime": "2021-03-23 08:56:04,221",
          "created": 1616489764.2219033,
          "extra": {},
          "filename": "async_executors.py",
          "funcName": "start_output_sender",
          "levelname": "DEBUG",
          "lineno": 379,
          "message": "ReadCsvProjectSpace_1: completed output: ('data', ('CustStatic_1', 'ip_data'))",
          "name": "engine.logs:ReadCsvProjectSpace_1",
          "pathname": "/usr/local/lib/python3.7/dist-packages/razor/flow/async_executors.py",
          "process": 9734,
          "processName": "ForkProcess-1:2",
          "thread": 140400467949376,
          "threadName": "MainThread"
         },
         {
          "asctime": "2021-03-23 08:56:04,965",
          "created": 1616489764.965283,
          "extra": {},
          "filename": "async_executors.py",
          "funcName": "main",
          "levelname": "DEBUG",
          "lineno": 130,
          "message": "TranTypeTS_1: triggering block run",
          "name": "engine.logs:TranTypeTS_1",
          "pathname": "/usr/local/lib/python3.7/dist-packages/razor/flow/async_executors.py",
          "process": 9734,
          "processName": "ForkProcess-1:2",
          "thread": 140400467949376,
          "threadName": "MainThread"
         },
         {
          "asctime": "2021-03-23 08:56:04,222",
          "created": 1616489764.2221458,
          "extra": {},
          "filename": "async_executors.py",
          "funcName": "start_input_receiver",
          "levelname": "DEBUG",
          "lineno": 173,
          "message": "ReadCsvProjectSpace_1: received cmd: start_sender, (), {'out_name': 'data', 'target': ('MercStatic_1', 'ip_data'), 'out_addr': 'tcp://0.0.0.0:53933', 'in_memory': True}",
          "name": "engine.logs:ReadCsvProjectSpace_1",
          "pathname": "/usr/local/lib/python3.7/dist-packages/razor/flow/async_executors.py",
          "process": 9734,
          "processName": "ForkProcess-1:2",
          "thread": 140400467949376,
          "threadName": "MainThread"
         },
         {
          "asctime": "2021-03-23 08:56:04,249",
          "created": 1616489764.249612,
          "extra": {},
          "filename": "async_executors.py",
          "funcName": "start_output_sender",
          "levelname": "DEBUG",
          "lineno": 370,
          "message": "ReadCsvProjectSpace_1: got start_sender, data, ('MercStatic_1', 'ip_data')",
          "name": "engine.logs:ReadCsvProjectSpace_1",
          "pathname": "/usr/local/lib/python3.7/dist-packages/razor/flow/async_executors.py",
          "process": 9734,
          "processName": "ForkProcess-1:2",
          "thread": 140400467949376,
          "threadName": "MainThread"
         },
         {
          "asctime": "2021-03-23 08:56:04,253",
          "created": 1616489764.2532673,
          "extra": {},
          "filename": "async_executors.py",
          "funcName": "start_output_sender",
          "levelname": "DEBUG",
          "lineno": 375,
          "message": "ReadCsvProjectSpace_1: SENT, ip_data, DataFrame[transaction_id: string, time: string, customer_name: string, card_number: string, card_type: string, physical_card_type: string, merchant_id: string, merchant_city: string, merchant_state: string, transaction_type: string, transaction_type_sub: string, amount: string, product_type: string, fraud_risk: string, One Time Heavy Loot Score: string, Drastic Transaction Change Pattern Score: string, Parasitic Fraud Score: string, Purchase Behavior Variation Score: string, Preferred Merchant Variation Score: string, Multiple Location Fraud Score: string, Fraudster Merchant Score: string, no_of_transactions_in_the_day: string, max_transaction_amount_in_the_day: string, avg_transaction_amount_in_the_day: string, no_of_transactions_in_the_month: string, max_transaction_amount_the_month: string, avg_transaction_amount_the_month: string, no_of_transactions_of_the_same_merchant_in_the_day: string, max_transactions_of_the_same_merchant_in_the_day: string, avg_transactions_of_the_same_merchant_in_the_day: string, no_of_transactions_of_the_same_merchant_in_the_month: string, max_transactions_of_the_same_merchant_in_the_month: string, avg_transactions_of_the_same_merchant_in_the_month: string], ('MercStatic_1', 'ip_data')",
          "name": "engine.logs:ReadCsvProjectSpace_1",
          "pathname": "/usr/local/lib/python3.7/dist-packages/razor/flow/async_executors.py",
          "process": 9734,
          "processName": "ForkProcess-1:2",
          "thread": 140400467949376,
          "threadName": "MainThread"
         },
         {
          "asctime": "2021-03-23 08:56:04,253",
          "created": 1616489764.2534876,
          "extra": {},
          "filename": "async_executors.py",
          "funcName": "start_output_sender",
          "levelname": "DEBUG",
          "lineno": 375,
          "message": "ReadCsvProjectSpace_1: SENT, ip_data, b'__!\\tEndOfStream\\t!__', ('MercStatic_1', 'ip_data')",
          "name": "engine.logs:ReadCsvProjectSpace_1",
          "pathname": "/usr/local/lib/python3.7/dist-packages/razor/flow/async_executors.py",
          "process": 9734,
          "processName": "ForkProcess-1:2",
          "thread": 140400467949376,
          "threadName": "MainThread"
         },
         {
          "asctime": "2021-03-23 08:56:04,253",
          "created": 1616489764.2535987,
          "extra": {},
          "filename": "async_executors.py",
          "funcName": "start_output_sender",
          "levelname": "DEBUG",
          "lineno": 379,
          "message": "ReadCsvProjectSpace_1: completed output: ('data', ('MercStatic_1', 'ip_data'))",
          "name": "engine.logs:ReadCsvProjectSpace_1",
          "pathname": "/usr/local/lib/python3.7/dist-packages/razor/flow/async_executors.py",
          "process": 9734,
          "processName": "ForkProcess-1:2",
          "thread": 140400467949376,
          "threadName": "MainThread"
         },
         {
          "asctime": "2021-03-23 08:56:04,253",
          "created": 1616489764.2537081,
          "extra": {},
          "filename": "async_executors.py",
          "funcName": "start_input_receiver",
          "levelname": "DEBUG",
          "lineno": 173,
          "message": "ReadCsvProjectSpace_1: received cmd: start_sender, (), {'out_name': 'data', 'target': ('ProdTypeTS_1', 'ip_data'), 'out_addr': 'tcp://0.0.0.0:55551', 'in_memory': True}",
          "name": "engine.logs:ReadCsvProjectSpace_1",
          "pathname": "/usr/local/lib/python3.7/dist-packages/razor/flow/async_executors.py",
          "process": 9734,
          "processName": "ForkProcess-1:2",
          "thread": 140400467949376,
          "threadName": "MainThread"
         },
         {
          "asctime": "2021-03-23 08:56:04,258",
          "created": 1616489764.2585304,
          "extra": {},
          "filename": "async_executors.py",
          "funcName": "start_output_sender",
          "levelname": "DEBUG",
          "lineno": 370,
          "message": "ReadCsvProjectSpace_1: got start_sender, data, ('ProdTypeTS_1', 'ip_data')",
          "name": "engine.logs:ReadCsvProjectSpace_1",
          "pathname": "/usr/local/lib/python3.7/dist-packages/razor/flow/async_executors.py",
          "process": 9734,
          "processName": "ForkProcess-1:2",
          "thread": 140400467949376,
          "threadName": "MainThread"
         },
         {
          "asctime": "2021-03-23 08:56:04,262",
          "created": 1616489764.2624443,
          "extra": {},
          "filename": "async_executors.py",
          "funcName": "start_output_sender",
          "levelname": "DEBUG",
          "lineno": 375,
          "message": "ReadCsvProjectSpace_1: SENT, ip_data, DataFrame[transaction_id: string, time: string, customer_name: string, card_number: string, card_type: string, physical_card_type: string, merchant_id: string, merchant_city: string, merchant_state: string, transaction_type: string, transaction_type_sub: string, amount: string, product_type: string, fraud_risk: string, One Time Heavy Loot Score: string, Drastic Transaction Change Pattern Score: string, Parasitic Fraud Score: string, Purchase Behavior Variation Score: string, Preferred Merchant Variation Score: string, Multiple Location Fraud Score: string, Fraudster Merchant Score: string, no_of_transactions_in_the_day: string, max_transaction_amount_in_the_day: string, avg_transaction_amount_in_the_day: string, no_of_transactions_in_the_month: string, max_transaction_amount_the_month: string, avg_transaction_amount_the_month: string, no_of_transactions_of_the_same_merchant_in_the_day: string, max_transactions_of_the_same_merchant_in_the_day: string, avg_transactions_of_the_same_merchant_in_the_day: string, no_of_transactions_of_the_same_merchant_in_the_month: string, max_transactions_of_the_same_merchant_in_the_month: string, avg_transactions_of_the_same_merchant_in_the_month: string], ('ProdTypeTS_1', 'ip_data')",
          "name": "engine.logs:ReadCsvProjectSpace_1",
          "pathname": "/usr/local/lib/python3.7/dist-packages/razor/flow/async_executors.py",
          "process": 9734,
          "processName": "ForkProcess-1:2",
          "thread": 140400467949376,
          "threadName": "MainThread"
         },
         {
          "asctime": "2021-03-23 08:56:04,262",
          "created": 1616489764.2626636,
          "extra": {},
          "filename": "async_executors.py",
          "funcName": "start_output_sender",
          "levelname": "DEBUG",
          "lineno": 375,
          "message": "ReadCsvProjectSpace_1: SENT, ip_data, b'__!\\tEndOfStream\\t!__', ('ProdTypeTS_1', 'ip_data')",
          "name": "engine.logs:ReadCsvProjectSpace_1",
          "pathname": "/usr/local/lib/python3.7/dist-packages/razor/flow/async_executors.py",
          "process": 9734,
          "processName": "ForkProcess-1:2",
          "thread": 140400467949376,
          "threadName": "MainThread"
         },
         {
          "asctime": "2021-03-23 08:56:04,262",
          "created": 1616489764.2627196,
          "extra": {},
          "filename": "async_executors.py",
          "funcName": "start_output_sender",
          "levelname": "DEBUG",
          "lineno": 379,
          "message": "ReadCsvProjectSpace_1: completed output: ('data', ('ProdTypeTS_1', 'ip_data'))",
          "name": "engine.logs:ReadCsvProjectSpace_1",
          "pathname": "/usr/local/lib/python3.7/dist-packages/razor/flow/async_executors.py",
          "process": 9734,
          "processName": "ForkProcess-1:2",
          "thread": 140400467949376,
          "threadName": "MainThread"
         },
         {
          "asctime": "2021-03-23 08:56:04,262",
          "created": 1616489764.2628462,
          "extra": {},
          "filename": "async_executors.py",
          "funcName": "start_input_receiver",
          "levelname": "DEBUG",
          "lineno": 173,
          "message": "ReadCsvProjectSpace_1: received cmd: start_sender, (), {'out_name': 'data', 'target': ('TranCityTS_1', 'ip_data'), 'out_addr': 'tcp://0.0.0.0:64206', 'in_memory': True}",
          "name": "engine.logs:ReadCsvProjectSpace_1",
          "pathname": "/usr/local/lib/python3.7/dist-packages/razor/flow/async_executors.py",
          "process": 9734,
          "processName": "ForkProcess-1:2",
          "thread": 140400467949376,
          "threadName": "MainThread"
         },
         {
          "asctime": "2021-03-23 08:56:04,267",
          "created": 1616489764.26734,
          "extra": {},
          "filename": "async_executors.py",
          "funcName": "start_output_sender",
          "levelname": "DEBUG",
          "lineno": 370,
          "message": "ReadCsvProjectSpace_1: got start_sender, data, ('TranCityTS_1', 'ip_data')",
          "name": "engine.logs:ReadCsvProjectSpace_1",
          "pathname": "/usr/local/lib/python3.7/dist-packages/razor/flow/async_executors.py",
          "process": 9734,
          "processName": "ForkProcess-1:2",
          "thread": 140400467949376,
          "threadName": "MainThread"
         },
         {
          "asctime": "2021-03-23 08:56:04,272",
          "created": 1616489764.2720068,
          "extra": {},
          "filename": "async_executors.py",
          "funcName": "start_output_sender",
          "levelname": "DEBUG",
          "lineno": 375,
          "message": "ReadCsvProjectSpace_1: SENT, ip_data, DataFrame[transaction_id: string, time: string, customer_name: string, card_number: string, card_type: string, physical_card_type: string, merchant_id: string, merchant_city: string, merchant_state: string, transaction_type: string, transaction_type_sub: string, amount: string, product_type: string, fraud_risk: string, One Time Heavy Loot Score: string, Drastic Transaction Change Pattern Score: string, Parasitic Fraud Score: string, Purchase Behavior Variation Score: string, Preferred Merchant Variation Score: string, Multiple Location Fraud Score: string, Fraudster Merchant Score: string, no_of_transactions_in_the_day: string, max_transaction_amount_in_the_day: string, avg_transaction_amount_in_the_day: string, no_of_transactions_in_the_month: string, max_transaction_amount_the_month: string, avg_transaction_amount_the_month: string, no_of_transactions_of_the_same_merchant_in_the_day: string, max_transactions_of_the_same_merchant_in_the_day: string, avg_transactions_of_the_same_merchant_in_the_day: string, no_of_transactions_of_the_same_merchant_in_the_month: string, max_transactions_of_the_same_merchant_in_the_month: string, avg_transactions_of_the_same_merchant_in_the_month: string], ('TranCityTS_1', 'ip_data')",
          "name": "engine.logs:ReadCsvProjectSpace_1",
          "pathname": "/usr/local/lib/python3.7/dist-packages/razor/flow/async_executors.py",
          "process": 9734,
          "processName": "ForkProcess-1:2",
          "thread": 140400467949376,
          "threadName": "MainThread"
         },
         {
          "asctime": "2021-03-23 08:56:04,272",
          "created": 1616489764.27223,
          "extra": {},
          "filename": "async_executors.py",
          "funcName": "start_output_sender",
          "levelname": "DEBUG",
          "lineno": 375,
          "message": "ReadCsvProjectSpace_1: SENT, ip_data, b'__!\\tEndOfStream\\t!__', ('TranCityTS_1', 'ip_data')",
          "name": "engine.logs:ReadCsvProjectSpace_1",
          "pathname": "/usr/local/lib/python3.7/dist-packages/razor/flow/async_executors.py",
          "process": 9734,
          "processName": "ForkProcess-1:2",
          "thread": 140400467949376,
          "threadName": "MainThread"
         },
         {
          "asctime": "2021-03-23 08:56:04,272",
          "created": 1616489764.2722943,
          "extra": {},
          "filename": "async_executors.py",
          "funcName": "start_output_sender",
          "levelname": "DEBUG",
          "lineno": 379,
          "message": "ReadCsvProjectSpace_1: completed output: ('data', ('TranCityTS_1', 'ip_data'))",
          "name": "engine.logs:ReadCsvProjectSpace_1",
          "pathname": "/usr/local/lib/python3.7/dist-packages/razor/flow/async_executors.py",
          "process": 9734,
          "processName": "ForkProcess-1:2",
          "thread": 140400467949376,
          "threadName": "MainThread"
         },
         {
          "asctime": "2021-03-23 08:56:04,272",
          "created": 1616489764.2724025,
          "extra": {},
          "filename": "async_executors.py",
          "funcName": "start_input_receiver",
          "levelname": "DEBUG",
          "lineno": 173,
          "message": "ReadCsvProjectSpace_1: received cmd: start_sender, (), {'out_name': 'data', 'target': ('TranTypeTS_1', 'ip_data'), 'out_addr': 'tcp://0.0.0.0:59473', 'in_memory': True}",
          "name": "engine.logs:ReadCsvProjectSpace_1",
          "pathname": "/usr/local/lib/python3.7/dist-packages/razor/flow/async_executors.py",
          "process": 9734,
          "processName": "ForkProcess-1:2",
          "thread": 140400467949376,
          "threadName": "MainThread"
         },
         {
          "asctime": "2021-03-23 08:56:04,356",
          "created": 1616489764.3566535,
          "extra": {},
          "filename": "async_executors.py",
          "funcName": "start_output_sender",
          "levelname": "DEBUG",
          "lineno": 370,
          "message": "ReadCsvProjectSpace_1: got start_sender, data, ('TranTypeTS_1', 'ip_data')",
          "name": "engine.logs:ReadCsvProjectSpace_1",
          "pathname": "/usr/local/lib/python3.7/dist-packages/razor/flow/async_executors.py",
          "process": 9734,
          "processName": "ForkProcess-1:2",
          "thread": 140400467949376,
          "threadName": "MainThread"
         },
         {
          "asctime": "2021-03-23 08:56:04,364",
          "created": 1616489764.3644636,
          "extra": {},
          "filename": "async_executors.py",
          "funcName": "start_output_sender",
          "levelname": "DEBUG",
          "lineno": 375,
          "message": "ReadCsvProjectSpace_1: SENT, ip_data, DataFrame[transaction_id: string, time: string, customer_name: string, card_number: string, card_type: string, physical_card_type: string, merchant_id: string, merchant_city: string, merchant_state: string, transaction_type: string, transaction_type_sub: string, amount: string, product_type: string, fraud_risk: string, One Time Heavy Loot Score: string, Drastic Transaction Change Pattern Score: string, Parasitic Fraud Score: string, Purchase Behavior Variation Score: string, Preferred Merchant Variation Score: string, Multiple Location Fraud Score: string, Fraudster Merchant Score: string, no_of_transactions_in_the_day: string, max_transaction_amount_in_the_day: string, avg_transaction_amount_in_the_day: string, no_of_transactions_in_the_month: string, max_transaction_amount_the_month: string, avg_transaction_amount_the_month: string, no_of_transactions_of_the_same_merchant_in_the_day: string, max_transactions_of_the_same_merchant_in_the_day: string, avg_transactions_of_the_same_merchant_in_the_day: string, no_of_transactions_of_the_same_merchant_in_the_month: string, max_transactions_of_the_same_merchant_in_the_month: string, avg_transactions_of_the_same_merchant_in_the_month: string], ('TranTypeTS_1', 'ip_data')",
          "name": "engine.logs:ReadCsvProjectSpace_1",
          "pathname": "/usr/local/lib/python3.7/dist-packages/razor/flow/async_executors.py",
          "process": 9734,
          "processName": "ForkProcess-1:2",
          "thread": 140400467949376,
          "threadName": "MainThread"
         },
         {
          "asctime": "2021-03-23 08:56:04,364",
          "created": 1616489764.3647053,
          "extra": {},
          "filename": "async_executors.py",
          "funcName": "start_output_sender",
          "levelname": "DEBUG",
          "lineno": 375,
          "message": "ReadCsvProjectSpace_1: SENT, ip_data, b'__!\\tEndOfStream\\t!__', ('TranTypeTS_1', 'ip_data')",
          "name": "engine.logs:ReadCsvProjectSpace_1",
          "pathname": "/usr/local/lib/python3.7/dist-packages/razor/flow/async_executors.py",
          "process": 9734,
          "processName": "ForkProcess-1:2",
          "thread": 140400467949376,
          "threadName": "MainThread"
         },
         {
          "asctime": "2021-03-23 08:56:04,364",
          "created": 1616489764.364763,
          "extra": {},
          "filename": "async_executors.py",
          "funcName": "start_output_sender",
          "levelname": "DEBUG",
          "lineno": 379,
          "message": "ReadCsvProjectSpace_1: completed output: ('data', ('TranTypeTS_1', 'ip_data'))",
          "name": "engine.logs:ReadCsvProjectSpace_1",
          "pathname": "/usr/local/lib/python3.7/dist-packages/razor/flow/async_executors.py",
          "process": 9734,
          "processName": "ForkProcess-1:2",
          "thread": 140400467949376,
          "threadName": "MainThread"
         },
         {
          "asctime": "2021-03-23 08:56:08,849",
          "created": 1616489768.8497574,
          "extra": {},
          "filename": "async_executors.py",
          "funcName": "start_input_receiver",
          "levelname": "DEBUG",
          "lineno": 173,
          "message": "ReadCsvProjectSpace_1: received cmd: terminate, (), {}",
          "name": "engine.logs:ReadCsvProjectSpace_1",
          "pathname": "/usr/local/lib/python3.7/dist-packages/razor/flow/async_executors.py",
          "process": 9734,
          "processName": "ForkProcess-1:2",
          "thread": 140400467949376,
          "threadName": "MainThread"
         },
         {
          "asctime": "2021-03-23 08:56:09,550",
          "created": 1616489769.550679,
          "exc_info": null,
          "extra": {},
          "filename": null,
          "full_message": null,
          "funcName": null,
          "levelname": "STDOUT",
          "lineno": null,
          "message": "+-------------+--------------------+------------------+\n|customer_name|         card_number|         card_type|\n+-------------+--------------------+------------------+\n|Patrick Duran|47e2fcaf-2dc4-4fd...|current_debit_card|\n|Patrick Duran|47e2fcaf-2dc4-4fd...|current_debit_card|\n|Patrick Duran|47e2fcaf-2dc4-4fd...|current_debit_card|\n|Patrick Duran|47e2fcaf-2dc4-4fd...|current_debit_card|\n|Patrick Duran|47e2fcaf-2dc4-4fd...|current_debit_card|\n|Patrick Duran|47e2fcaf-2dc4-4fd...|current_debit_card|\n|Patrick Duran|47e2fcaf-2dc4-4fd...|current_debit_card|\n|Patrick Duran|47e2fcaf-2dc4-4fd...|current_debit_card|\n|Patrick Duran|47e2fcaf-2dc4-4fd...|current_debit_card|\n|Patrick Duran|47e2fcaf-2dc4-4fd...|current_debit_card|\n|Patrick Duran|47e2fcaf-2dc4-4fd...|current_debit_card|\n|Patrick Duran|47e2fcaf-2dc4-4fd...|current_debit_card|\n|Patrick Duran|47e2fcaf-2dc4-4fd...|current_debit_card|\n|Patrick Duran|47e2fcaf-2dc4-4fd...|current_debit_card|\n|Patrick Duran|47e2fcaf-2dc4-4fd...|current_debit_card|\n|Patrick Duran|47e2fcaf-2dc4-4fd...|current_debit_card|\n|Patrick Duran|47e2fcaf-2dc4-4fd...|current_debit_card|\n|Patrick Duran|47e2fcaf-2dc4-4fd...|current_debit_card|\n|Patrick Duran|47e2fcaf-2dc4-4fd...|current_debit_card|\n|Patrick Duran|47e2fcaf-2dc4-4fd...|current_debit_card|\n+-------------+--------------------+------------------+\nonly showing top 20 rows\n\n",
          "name": "block.stdout:CustStatic_1",
          "pathname": null,
          "process": null,
          "processName": null,
          "thread": null,
          "threadName": null
         },
         {
          "asctime": "2021-03-23 08:56:09,951",
          "created": 1616489769.9512732,
          "extra": {},
          "filename": "async_executors.py",
          "funcName": "distribute_output_queue",
          "levelname": "DEBUG",
          "lineno": 308,
          "message": "CustStatic_1: ---- dist output: DataFrame[customer_name: string, card_number: string, card_type: string] -> ('Concat_1', 'df2')",
          "name": "engine.logs:CustStatic_1",
          "pathname": "/usr/local/lib/python3.7/dist-packages/razor/flow/async_executors.py",
          "process": 9734,
          "processName": "ForkProcess-1:2",
          "thread": 140400467949376,
          "threadName": "MainThread"
         },
         {
          "asctime": "2021-03-23 08:56:09,952",
          "created": 1616489769.952447,
          "extra": {},
          "filename": "async_executors.py",
          "funcName": "main",
          "levelname": "DEBUG",
          "lineno": 147,
          "message": "CustStatic_1: block thread completed",
          "name": "engine.logs:CustStatic_1",
          "pathname": "/usr/local/lib/python3.7/dist-packages/razor/flow/async_executors.py",
          "process": 9734,
          "processName": "ForkProcess-1:2",
          "thread": 140400467949376,
          "threadName": "MainThread"
         },
         {
          "asctime": "2021-03-23 08:56:09,952",
          "created": 1616489769.952634,
          "extra": {},
          "filename": "async_executors.py",
          "funcName": "main",
          "levelname": "DEBUG",
          "lineno": 149,
          "message": "CustStatic_1: block execution complete",
          "name": "engine.logs:CustStatic_1",
          "pathname": "/usr/local/lib/python3.7/dist-packages/razor/flow/async_executors.py",
          "process": 9734,
          "processName": "ForkProcess-1:2",
          "thread": 140400467949376,
          "threadName": "MainThread"
         },
         {
          "asctime": "2021-03-23 08:56:10,071",
          "created": 1616489770.0716279,
          "extra": {},
          "filename": "async_executors.py",
          "funcName": "distribute_output_queue",
          "levelname": "DEBUG",
          "lineno": 308,
          "message": "CustStatic_1: ---- dist output: b'__!\\tEndOfStream\\t!__' -> ('Concat_1', 'df2')",
          "name": "engine.logs:CustStatic_1",
          "pathname": "/usr/local/lib/python3.7/dist-packages/razor/flow/async_executors.py",
          "process": 9734,
          "processName": "ForkProcess-1:2",
          "thread": 140400467949376,
          "threadName": "MainThread"
         },
         {
          "asctime": "2021-03-23 08:56:10,561",
          "created": 1616489770.5612268,
          "extra": {},
          "filename": "async_executors.py",
          "funcName": "start_input_receiver",
          "levelname": "DEBUG",
          "lineno": 173,
          "message": "CustStatic_1: received cmd: start_sender, (), {'out_name': 'customer_static', 'target': ('Concat_1', 'df2'), 'out_addr': 'tcp://0.0.0.0:54266', 'in_memory': True}",
          "name": "engine.logs:CustStatic_1",
          "pathname": "/usr/local/lib/python3.7/dist-packages/razor/flow/async_executors.py",
          "process": 9734,
          "processName": "ForkProcess-1:2",
          "thread": 140400467949376,
          "threadName": "MainThread"
         },
         {
          "asctime": "2021-03-23 08:56:10,750",
          "created": 1616489770.7505426,
          "extra": {},
          "filename": "async_executors.py",
          "funcName": "start_output_sender",
          "levelname": "DEBUG",
          "lineno": 370,
          "message": "CustStatic_1: got start_sender, customer_static, ('Concat_1', 'df2')",
          "name": "engine.logs:CustStatic_1",
          "pathname": "/usr/local/lib/python3.7/dist-packages/razor/flow/async_executors.py",
          "process": 9734,
          "processName": "ForkProcess-1:2",
          "thread": 140400467949376,
          "threadName": "MainThread"
         },
         {
          "asctime": "2021-03-23 08:56:10,751",
          "created": 1616489770.7516222,
          "extra": {},
          "filename": "async_executors.py",
          "funcName": "start_output_sender",
          "levelname": "DEBUG",
          "lineno": 375,
          "message": "CustStatic_1: SENT, df2, DataFrame[customer_name: string, card_number: string, card_type: string], ('Concat_1', 'df2')",
          "name": "engine.logs:CustStatic_1",
          "pathname": "/usr/local/lib/python3.7/dist-packages/razor/flow/async_executors.py",
          "process": 9734,
          "processName": "ForkProcess-1:2",
          "thread": 140400467949376,
          "threadName": "MainThread"
         },
         {
          "asctime": "2021-03-23 08:56:10,751",
          "created": 1616489770.751843,
          "extra": {},
          "filename": "async_executors.py",
          "funcName": "start_output_sender",
          "levelname": "DEBUG",
          "lineno": 375,
          "message": "CustStatic_1: SENT, df2, b'__!\\tEndOfStream\\t!__', ('Concat_1', 'df2')",
          "name": "engine.logs:CustStatic_1",
          "pathname": "/usr/local/lib/python3.7/dist-packages/razor/flow/async_executors.py",
          "process": 9734,
          "processName": "ForkProcess-1:2",
          "thread": 140400467949376,
          "threadName": "MainThread"
         },
         {
          "asctime": "2021-03-23 08:56:10,751",
          "created": 1616489770.7519488,
          "extra": {},
          "filename": "async_executors.py",
          "funcName": "start_output_sender",
          "levelname": "DEBUG",
          "lineno": 379,
          "message": "CustStatic_1: completed output: ('customer_static', ('Concat_1', 'df2'))",
          "name": "engine.logs:CustStatic_1",
          "pathname": "/usr/local/lib/python3.7/dist-packages/razor/flow/async_executors.py",
          "process": 9734,
          "processName": "ForkProcess-1:2",
          "thread": 140400467949376,
          "threadName": "MainThread"
         },
         {
          "asctime": "2021-03-23 08:56:11,549",
          "created": 1616489771.5494964,
          "extra": {},
          "filename": "async_executors.py",
          "funcName": "start_input_receiver",
          "levelname": "DEBUG",
          "lineno": 173,
          "message": "CustStatic_1: received cmd: terminate, (), {}",
          "name": "engine.logs:CustStatic_1",
          "pathname": "/usr/local/lib/python3.7/dist-packages/razor/flow/async_executors.py",
          "process": 9734,
          "processName": "ForkProcess-1:2",
          "thread": 140400467949376,
          "threadName": "MainThread"
         },
         {
          "asctime": "2021-03-23 08:56:12,548",
          "created": 1616489772.5484102,
          "extra": {},
          "filename": "async_executors.py",
          "funcName": "main",
          "levelname": "DEBUG",
          "lineno": 147,
          "message": "TranCityTS_1: block thread completed",
          "name": "engine.logs:TranCityTS_1",
          "pathname": "/usr/local/lib/python3.7/dist-packages/razor/flow/async_executors.py",
          "process": 9734,
          "processName": "ForkProcess-1:2",
          "thread": 140400467949376,
          "threadName": "MainThread"
         },
         {
          "asctime": "2021-03-23 08:56:12,548",
          "created": 1616489772.5486917,
          "extra": {},
          "filename": "async_executors.py",
          "funcName": "main",
          "levelname": "DEBUG",
          "lineno": 149,
          "message": "TranCityTS_1: block execution complete",
          "name": "engine.logs:TranCityTS_1",
          "pathname": "/usr/local/lib/python3.7/dist-packages/razor/flow/async_executors.py",
          "process": 9734,
          "processName": "ForkProcess-1:2",
          "thread": 140400467949376,
          "threadName": "MainThread"
         },
         {
          "asctime": "2021-03-23 08:56:13,059",
          "created": 1616489773.0597837,
          "extra": {},
          "filename": "async_executors.py",
          "funcName": "start_input_receiver",
          "levelname": "DEBUG",
          "lineno": 173,
          "message": "TranCityTS_1: received cmd: terminate, (), {}",
          "name": "engine.logs:TranCityTS_1",
          "pathname": "/usr/local/lib/python3.7/dist-packages/razor/flow/async_executors.py",
          "process": 9734,
          "processName": "ForkProcess-1:2",
          "thread": 140400467949376,
          "threadName": "MainThread"
         },
         {
          "asctime": "2021-03-23 08:56:28,173",
          "created": 1616489788.1739056,
          "extra": {},
          "filename": "async_executors.py",
          "funcName": "main",
          "levelname": "DEBUG",
          "lineno": 147,
          "message": "ProdTypeTS_1: block thread completed",
          "name": "engine.logs:ProdTypeTS_1",
          "pathname": "/usr/local/lib/python3.7/dist-packages/razor/flow/async_executors.py",
          "process": 9734,
          "processName": "ForkProcess-1:2",
          "thread": 140400467949376,
          "threadName": "MainThread"
         },
         {
          "asctime": "2021-03-23 08:56:28,174",
          "created": 1616489788.1741326,
          "extra": {},
          "filename": "async_executors.py",
          "funcName": "main",
          "levelname": "DEBUG",
          "lineno": 149,
          "message": "ProdTypeTS_1: block execution complete",
          "name": "engine.logs:ProdTypeTS_1",
          "pathname": "/usr/local/lib/python3.7/dist-packages/razor/flow/async_executors.py",
          "process": 9734,
          "processName": "ForkProcess-1:2",
          "thread": 140400467949376,
          "threadName": "MainThread"
         },
         {
          "asctime": "2021-03-23 08:56:28,251",
          "created": 1616489788.251254,
          "extra": {},
          "filename": "async_executors.py",
          "funcName": "start_input_receiver",
          "levelname": "DEBUG",
          "lineno": 173,
          "message": "ProdTypeTS_1: received cmd: terminate, (), {}",
          "name": "engine.logs:ProdTypeTS_1",
          "pathname": "/usr/local/lib/python3.7/dist-packages/razor/flow/async_executors.py",
          "process": 9734,
          "processName": "ForkProcess-1:2",
          "thread": 140400467949376,
          "threadName": "MainThread"
         },
         {
          "asctime": "2021-03-23 08:56:39,366",
          "created": 1616489799.3664649,
          "extra": {},
          "filename": "async_executors.py",
          "funcName": "main",
          "levelname": "DEBUG",
          "lineno": 147,
          "message": "TranTypeTS_1: block thread completed",
          "name": "engine.logs:TranTypeTS_1",
          "pathname": "/usr/local/lib/python3.7/dist-packages/razor/flow/async_executors.py",
          "process": 9734,
          "processName": "ForkProcess-1:2",
          "thread": 140400467949376,
          "threadName": "MainThread"
         },
         {
          "asctime": "2021-03-23 08:56:39,366",
          "created": 1616489799.3666818,
          "extra": {},
          "filename": "async_executors.py",
          "funcName": "main",
          "levelname": "DEBUG",
          "lineno": 149,
          "message": "TranTypeTS_1: block execution complete",
          "name": "engine.logs:TranTypeTS_1",
          "pathname": "/usr/local/lib/python3.7/dist-packages/razor/flow/async_executors.py",
          "process": 9734,
          "processName": "ForkProcess-1:2",
          "thread": 140400467949376,
          "threadName": "MainThread"
         },
         {
          "asctime": "2021-03-23 08:56:39,648",
          "created": 1616489799.64847,
          "extra": {},
          "filename": "async_executors.py",
          "funcName": "start_input_receiver",
          "levelname": "DEBUG",
          "lineno": 173,
          "message": "TranTypeTS_1: received cmd: terminate, (), {}",
          "name": "engine.logs:TranTypeTS_1",
          "pathname": "/usr/local/lib/python3.7/dist-packages/razor/flow/async_executors.py",
          "process": 9734,
          "processName": "ForkProcess-1:2",
          "thread": 140400467949376,
          "threadName": "MainThread"
         },
         {
          "asctime": "2021-03-23 08:56:43,258",
          "created": 1616489803.2583704,
          "exc_info": null,
          "extra": {},
          "filename": null,
          "full_message": null,
          "funcName": null,
          "levelname": "STDOUT",
          "lineno": null,
          "message": "+-----------+--------------+--------------+--------------------+\n|merchant_id| merchant_city|merchant_state|     list_of_product|\n+-----------+--------------+--------------+--------------------+\n|    1000758|       Hampton|      Kentucky|         [Groceries]|\n|    1000711|        Galion|          Ohio|         [Groceries]|\n|    1000950|   Charlestown|  Rhode Island|           [PetCare]|\n|    1000860|            WJ|          Utah|         [Groceries]|\n|    1000624|Pass Christian|   Mississippi|[Groceries, Furni...|\n|    1001178|   Charlestown|  Rhode Island|[Groceries, PetCare]|\n|    1001001| College Grove|     Tennessee|           [PetCare]|\n|    1000677|       Kenmare|  North Dakota|[Groceries, Texti...|\n|    1000729|      Danville|       Georgia|[Cinema, Shows an...|\n|    1001096|     Pentwater|      Michigan|         [Groceries]|\n|    1001096|     Pentwater|      Michigan|         [Groceries]|\n|    1000853|        Jayton|         Texas|[Water, Electrici...|\n|    1001148|       Newport|      Nebraska|         [Groceries]|\n|    1001039|      Hamilton|North Carolina|[Cinema, Shows an...|\n|    1000911|        Dacoma|      Oklahoma|[Cinema, Shows an...|\n|    1000922|        Auburn| Massachusetts|         [Groceries]|\n|    1000883|    Pascagoula|   Mississippi|           [PetCare]|\n|    1000726|        Dacoma|      Oklahoma|           [PetCare]|\n|    1000842|    Flintville|     Tennessee|           [PetCare]|\n|    1000745|    Fall Creek|     Wisconsin|[Groceries, Water...|\n+-----------+--------------+--------------+--------------------+\nonly showing top 20 rows\n\n",
          "name": "block.stdout:MercStatic_1",
          "pathname": null,
          "process": null,
          "processName": null,
          "thread": null,
          "threadName": null
         },
         {
          "asctime": "2021-03-23 08:56:43,263",
          "created": 1616489803.2632844,
          "extra": {},
          "filename": "async_executors.py",
          "funcName": "distribute_output_queue",
          "levelname": "DEBUG",
          "lineno": 308,
          "message": "MercStatic_1: ---- dist output: DataFrame[merchant_id: string, merchant_city: string, merchant_state: string, list_of_product: array<string>] -> ('Concat_2', 'df2')",
          "name": "engine.logs:MercStatic_1",
          "pathname": "/usr/local/lib/python3.7/dist-packages/razor/flow/async_executors.py",
          "process": 9734,
          "processName": "ForkProcess-1:2",
          "thread": 140400467949376,
          "threadName": "MainThread"
         },
         {
          "asctime": "2021-03-23 08:56:43,263",
          "created": 1616489803.2636905,
          "extra": {},
          "filename": "async_executors.py",
          "funcName": "main",
          "levelname": "DEBUG",
          "lineno": 147,
          "message": "MercStatic_1: block thread completed",
          "name": "engine.logs:MercStatic_1",
          "pathname": "/usr/local/lib/python3.7/dist-packages/razor/flow/async_executors.py",
          "process": 9734,
          "processName": "ForkProcess-1:2",
          "thread": 140400467949376,
          "threadName": "MainThread"
         },
         {
          "asctime": "2021-03-23 08:56:43,263",
          "created": 1616489803.263777,
          "extra": {},
          "filename": "async_executors.py",
          "funcName": "main",
          "levelname": "DEBUG",
          "lineno": 149,
          "message": "MercStatic_1: block execution complete",
          "name": "engine.logs:MercStatic_1",
          "pathname": "/usr/local/lib/python3.7/dist-packages/razor/flow/async_executors.py",
          "process": 9734,
          "processName": "ForkProcess-1:2",
          "thread": 140400467949376,
          "threadName": "MainThread"
         },
         {
          "asctime": "2021-03-23 08:56:43,264",
          "created": 1616489803.2641404,
          "extra": {},
          "filename": "async_executors.py",
          "funcName": "distribute_output_queue",
          "levelname": "DEBUG",
          "lineno": 308,
          "message": "MercStatic_1: ---- dist output: b'__!\\tEndOfStream\\t!__' -> ('Concat_2', 'df2')",
          "name": "engine.logs:MercStatic_1",
          "pathname": "/usr/local/lib/python3.7/dist-packages/razor/flow/async_executors.py",
          "process": 9734,
          "processName": "ForkProcess-1:2",
          "thread": 140400467949376,
          "threadName": "MainThread"
         },
         {
          "asctime": "2021-03-23 08:56:43,268",
          "created": 1616489803.2680137,
          "extra": {},
          "filename": "async_executors.py",
          "funcName": "start_input_receiver",
          "levelname": "DEBUG",
          "lineno": 173,
          "message": "MercStatic_1: received cmd: start_sender, (), {'out_name': 'merchant_static', 'target': ('Concat_2', 'df2'), 'out_addr': 'tcp://0.0.0.0:58777', 'in_memory': True}",
          "name": "engine.logs:MercStatic_1",
          "pathname": "/usr/local/lib/python3.7/dist-packages/razor/flow/async_executors.py",
          "process": 9734,
          "processName": "ForkProcess-1:2",
          "thread": 140400467949376,
          "threadName": "MainThread"
         },
         {
          "asctime": "2021-03-23 08:56:43,268",
          "created": 1616489803.2683096,
          "extra": {},
          "filename": "async_executors.py",
          "funcName": "start_output_sender",
          "levelname": "DEBUG",
          "lineno": 370,
          "message": "MercStatic_1: got start_sender, merchant_static, ('Concat_2', 'df2')",
          "name": "engine.logs:MercStatic_1",
          "pathname": "/usr/local/lib/python3.7/dist-packages/razor/flow/async_executors.py",
          "process": 9734,
          "processName": "ForkProcess-1:2",
          "thread": 140400467949376,
          "threadName": "MainThread"
         },
         {
          "asctime": "2021-03-23 08:56:43,269",
          "created": 1616489803.2692094,
          "extra": {},
          "filename": "async_executors.py",
          "funcName": "start_output_sender",
          "levelname": "DEBUG",
          "lineno": 375,
          "message": "MercStatic_1: SENT, df2, DataFrame[merchant_id: string, merchant_city: string, merchant_state: string, list_of_product: array<string>], ('Concat_2', 'df2')",
          "name": "engine.logs:MercStatic_1",
          "pathname": "/usr/local/lib/python3.7/dist-packages/razor/flow/async_executors.py",
          "process": 9734,
          "processName": "ForkProcess-1:2",
          "thread": 140400467949376,
          "threadName": "MainThread"
         },
         {
          "asctime": "2021-03-23 08:56:43,269",
          "created": 1616489803.2693617,
          "extra": {},
          "filename": "async_executors.py",
          "funcName": "start_output_sender",
          "levelname": "DEBUG",
          "lineno": 375,
          "message": "MercStatic_1: SENT, df2, b'__!\\tEndOfStream\\t!__', ('Concat_2', 'df2')",
          "name": "engine.logs:MercStatic_1",
          "pathname": "/usr/local/lib/python3.7/dist-packages/razor/flow/async_executors.py",
          "process": 9734,
          "processName": "ForkProcess-1:2",
          "thread": 140400467949376,
          "threadName": "MainThread"
         },
         {
          "asctime": "2021-03-23 08:56:43,269",
          "created": 1616489803.269997,
          "extra": {},
          "filename": "async_executors.py",
          "funcName": "start_output_sender",
          "levelname": "DEBUG",
          "lineno": 379,
          "message": "MercStatic_1: completed output: ('merchant_static', ('Concat_2', 'df2'))",
          "name": "engine.logs:MercStatic_1",
          "pathname": "/usr/local/lib/python3.7/dist-packages/razor/flow/async_executors.py",
          "process": 9734,
          "processName": "ForkProcess-1:2",
          "thread": 140400467949376,
          "threadName": "MainThread"
         },
         {
          "asctime": "2021-03-23 08:56:43,371",
          "created": 1616489803.371605,
          "extra": {},
          "filename": "async_executors.py",
          "funcName": "start_input_receiver",
          "levelname": "DEBUG",
          "lineno": 173,
          "message": "MercStatic_1: received cmd: terminate, (), {}",
          "name": "engine.logs:MercStatic_1",
          "pathname": "/usr/local/lib/python3.7/dist-packages/razor/flow/async_executors.py",
          "process": 9734,
          "processName": "ForkProcess-1:2",
          "thread": 140400467949376,
          "threadName": "MainThread"
         },
         {
          "asctime": "2021-03-23 08:56:43,664",
          "created": 1616489803.664104,
          "exc_info": null,
          "extra": {},
          "filename": null,
          "full_message": null,
          "funcName": null,
          "levelname": "STDOUT",
          "lineno": null,
          "message": "2202\n",
          "name": "block.stdout:CustMercTS_1",
          "pathname": null,
          "process": null,
          "processName": null,
          "thread": null,
          "threadName": null
         },
         {
          "asctime": "2021-03-23 08:56:50,677",
          "created": 1616489810.6777618,
          "exc_info": null,
          "extra": {},
          "filename": null,
          "full_message": null,
          "funcName": null,
          "levelname": "STDOUT",
          "lineno": null,
          "message": "2202\n",
          "name": "block.stdout:CustMercTS_1",
          "pathname": null,
          "process": null,
          "processName": null,
          "thread": null,
          "threadName": null
         },
         {
          "asctime": "2021-03-23 08:56:50,751",
          "created": 1616489810.7518067,
          "extra": {},
          "filename": "async_executors.py",
          "funcName": "distribute_output_queue",
          "levelname": "DEBUG",
          "lineno": 308,
          "message": "CustMercTS_1: ---- dist output: DataFrame[transaction_id: string, time: timestamp, customer_name: string, card_number: string, last_one_hour_total_customer_transaction_sum: int, last_one_hour_total_customer_transaction_count: int, last_one_hour_total_customer_transaction_max: int, last_one_hour_total_customer_transaction_avg: float, last_six_hours_total_customer_transaction_sum: int, last_six_hours_total_customer_transaction_count: int, last_six_hours_total_customer_transaction_max: int, last_six_hours_total_customer_transaction_avg: float, last_twelve_hours_total_customer_transaction_sum: int, last_twelve_hours_total_customer_transaction_count: int, last_twelve_hours_total_customer_transaction_max: int, last_twelve_hours_total_customer_transaction_avg: float, last_twenty_four_hours_total_customer_transaction_sum: int, last_twenty_four_hours_total_customer_transaction_count: int, last_twenty_four_hours_total_customer_transaction_max: int, last_twenty_four_hours_total_customer_transaction_avg: float, last_three_days_total_customer_transaction_sum: int, last_three_days_total_customer_transaction_count: int, last_three_days_total_customer_transaction_max: int, last_three_days_total_customer_transaction_avg: float, last_one_week_total_customer_transaction_sum: int, last_one_week_total_customer_transaction_count: int, last_one_week_total_customer_transaction_max: int, last_one_week_total_customer_transaction_avg: float, last_two_week_total_customer_transaction_sum: int, last_two_week_total_customer_transaction_count: int, last_two_week_total_customer_transaction_max: int, last_two_week_total_customer_transaction_avg: float, last_one_month_total_customer_transaction_sum: int, last_one_month_total_customer_transaction_count: int, last_one_month_total_customer_transaction_max: int, last_one_month_total_customer_transaction_avg: float] -> ('Concat_1', 'df1')",
          "name": "engine.logs:CustMercTS_1",
          "pathname": "/usr/local/lib/python3.7/dist-packages/razor/flow/async_executors.py",
          "process": 9734,
          "processName": "ForkProcess-1:2",
          "thread": 140400467949376,
          "threadName": "MainThread"
         },
         {
          "asctime": "2021-03-23 08:56:50,754",
          "created": 1616489810.7549555,
          "extra": {},
          "filename": "async_executors.py",
          "funcName": "distribute_output_queue",
          "levelname": "DEBUG",
          "lineno": 308,
          "message": "CustMercTS_1: ---- dist output: DataFrame[transaction_id: string, merchant_id: string, merchant_city: string, merchant_state: string, last_one_hour_total_merchant_transaction_sum: int, last_one_hour_total_merchant_transaction_count: int, last_one_hour_total_merchant_transaction_max: int, last_one_hour_total_merchant_transaction_avg: float, last_six_hour_total_merchant_transaction_sum: int, last_six_hour_total_merchant_transaction_count: int, last_six_hour_total_merchant_transaction_max: int, last_six_hour_total_merchant_transaction_avg: float, last_twelve_hour_total_merchant_transaction_sum: int, last_twelve_hour_total_merchant_transaction_count: int, last_twelve_hour_total_merchant_transaction_max: int, last_twelve_hour_total_merchant_transaction_avg: float, last_twenty_four_hour_total_merchant_transaction_sum: int, last_twenty_four_hour_total_merchant_transaction_count: int, last_twenty_four_hour_total_merchant_transaction_max: int, last_twenty_four_hour_total_merchant_transaction_avg: float, last_three_days_total_merchant_transaction_sum: int, last_three_days_total_merchant_transaction_count: int, last_three_days_total_merchant_transaction_max: int, last_three_days_total_merchant_transaction_avg: float] -> ('Concat_2', 'df1')",
          "name": "engine.logs:CustMercTS_1",
          "pathname": "/usr/local/lib/python3.7/dist-packages/razor/flow/async_executors.py",
          "process": 9734,
          "processName": "ForkProcess-1:2",
          "thread": 140400467949376,
          "threadName": "MainThread"
         },
         {
          "asctime": "2021-03-23 08:56:50,767",
          "created": 1616489810.7670226,
          "extra": {},
          "filename": "async_executors.py",
          "funcName": "main",
          "levelname": "DEBUG",
          "lineno": 147,
          "message": "CustMercTS_1: block thread completed",
          "name": "engine.logs:CustMercTS_1",
          "pathname": "/usr/local/lib/python3.7/dist-packages/razor/flow/async_executors.py",
          "process": 9734,
          "processName": "ForkProcess-1:2",
          "thread": 140400467949376,
          "threadName": "MainThread"
         },
         {
          "asctime": "2021-03-23 08:56:50,767",
          "created": 1616489810.7671714,
          "extra": {},
          "filename": "async_executors.py",
          "funcName": "main",
          "levelname": "DEBUG",
          "lineno": 149,
          "message": "CustMercTS_1: block execution complete",
          "name": "engine.logs:CustMercTS_1",
          "pathname": "/usr/local/lib/python3.7/dist-packages/razor/flow/async_executors.py",
          "process": 9734,
          "processName": "ForkProcess-1:2",
          "thread": 140400467949376,
          "threadName": "MainThread"
         },
         {
          "asctime": "2021-03-23 08:56:50,767",
          "created": 1616489810.7674596,
          "extra": {},
          "filename": "async_executors.py",
          "funcName": "distribute_output_queue",
          "levelname": "DEBUG",
          "lineno": 308,
          "message": "CustMercTS_1: ---- dist output: b'__!\\tEndOfStream\\t!__' -> ('Concat_1', 'df1')",
          "name": "engine.logs:CustMercTS_1",
          "pathname": "/usr/local/lib/python3.7/dist-packages/razor/flow/async_executors.py",
          "process": 9734,
          "processName": "ForkProcess-1:2",
          "thread": 140400467949376,
          "threadName": "MainThread"
         },
         {
          "asctime": "2021-03-23 08:56:50,767",
          "created": 1616489810.7677457,
          "extra": {},
          "filename": "async_executors.py",
          "funcName": "distribute_output_queue",
          "levelname": "DEBUG",
          "lineno": 308,
          "message": "CustMercTS_1: ---- dist output: b'__!\\tEndOfStream\\t!__' -> ('Concat_2', 'df1')",
          "name": "engine.logs:CustMercTS_1",
          "pathname": "/usr/local/lib/python3.7/dist-packages/razor/flow/async_executors.py",
          "process": 9734,
          "processName": "ForkProcess-1:2",
          "thread": 140400467949376,
          "threadName": "MainThread"
         },
         {
          "asctime": "2021-03-23 08:56:50,771",
          "created": 1616489810.7714958,
          "extra": {},
          "filename": "async_executors.py",
          "funcName": "start_input_receiver",
          "levelname": "DEBUG",
          "lineno": 173,
          "message": "CustMercTS_1: received cmd: start_sender, (), {'out_name': 'customer_ts', 'target': ('Concat_1', 'df1'), 'out_addr': 'tcp://0.0.0.0:54266', 'in_memory': True}",
          "name": "engine.logs:CustMercTS_1",
          "pathname": "/usr/local/lib/python3.7/dist-packages/razor/flow/async_executors.py",
          "process": 9734,
          "processName": "ForkProcess-1:2",
          "thread": 140400467949376,
          "threadName": "MainThread"
         },
         {
          "asctime": "2021-03-23 08:56:50,774",
          "created": 1616489810.774994,
          "extra": {},
          "filename": "async_executors.py",
          "funcName": "fill_atomic_inputs",
          "levelname": "DEBUG",
          "lineno": 253,
          "message": "Concat_1: got atomic input: DataFrame[transaction_id: string, time: timestamp, customer_name: string, card_number: string, last_one_hour_total_customer_transaction_sum: int, last_one_hour_total_customer_transaction_count: int, last_one_hour_total_customer_transaction_max: int, last_one_hour_total_customer_transaction_avg: float, last_six_hours_total_customer_transaction_sum: int, last_six_hours_total_customer_transaction_count: int, last_six_hours_total_customer_transaction_max: int, last_six_hours_total_customer_transaction_avg: float, last_twelve_hours_total_customer_transaction_sum: int, last_twelve_hours_total_customer_transaction_count: int, last_twelve_hours_total_customer_transaction_max: int, last_twelve_hours_total_customer_transaction_avg: float, last_twenty_four_hours_total_customer_transaction_sum: int, last_twenty_four_hours_total_customer_transaction_count: int, last_twenty_four_hours_total_customer_transaction_max: int, last_twenty_four_hours_total_customer_transaction_avg: float, last_three_days_total_customer_transaction_sum: int, last_three_days_total_customer_transaction_count: int, last_three_days_total_customer_transaction_max: int, last_three_days_total_customer_transaction_avg: float, last_one_week_total_customer_transaction_sum: int, last_one_week_total_customer_transaction_count: int, last_one_week_total_customer_transaction_max: int, last_one_week_total_customer_transaction_avg: float, last_two_week_total_customer_transaction_sum: int, last_two_week_total_customer_transaction_count: int, last_two_week_total_customer_transaction_max: int, last_two_week_total_customer_transaction_avg: float, last_one_month_total_customer_transaction_sum: int, last_one_month_total_customer_transaction_count: int, last_one_month_total_customer_transaction_max: int, last_one_month_total_customer_transaction_avg: float]",
          "name": "engine.logs:Concat_1",
          "pathname": "/usr/local/lib/python3.7/dist-packages/razor/flow/async_executors.py",
          "process": 9734,
          "processName": "ForkProcess-1:2",
          "thread": 140400467949376,
          "threadName": "MainThread"
         },
         {
          "asctime": "2021-03-23 08:56:50,771",
          "created": 1616489810.7718582,
          "extra": {},
          "filename": "async_executors.py",
          "funcName": "start_output_sender",
          "levelname": "DEBUG",
          "lineno": 370,
          "message": "CustMercTS_1: got start_sender, customer_ts, ('Concat_1', 'df1')",
          "name": "engine.logs:CustMercTS_1",
          "pathname": "/usr/local/lib/python3.7/dist-packages/razor/flow/async_executors.py",
          "process": 9734,
          "processName": "ForkProcess-1:2",
          "thread": 140400467949376,
          "threadName": "MainThread"
         },
         {
          "asctime": "2021-03-23 08:56:50,773",
          "created": 1616489810.7735884,
          "extra": {},
          "filename": "async_executors.py",
          "funcName": "start_output_sender",
          "levelname": "DEBUG",
          "lineno": 375,
          "message": "CustMercTS_1: SENT, df1, DataFrame[transaction_id: string, time: timestamp, customer_name: string, card_number: string, last_one_hour_total_customer_transaction_sum: int, last_one_hour_total_customer_transaction_count: int, last_one_hour_total_customer_transaction_max: int, last_one_hour_total_customer_transaction_avg: float, last_six_hours_total_customer_transaction_sum: int, last_six_hours_total_customer_transaction_count: int, last_six_hours_total_customer_transaction_max: int, last_six_hours_total_customer_transaction_avg: float, last_twelve_hours_total_customer_transaction_sum: int, last_twelve_hours_total_customer_transaction_count: int, last_twelve_hours_total_customer_transaction_max: int, last_twelve_hours_total_customer_transaction_avg: float, last_twenty_four_hours_total_customer_transaction_sum: int, last_twenty_four_hours_total_customer_transaction_count: int, last_twenty_four_hours_total_customer_transaction_max: int, last_twenty_four_hours_total_customer_transaction_avg: float, last_three_days_total_customer_transaction_sum: int, last_three_days_total_customer_transaction_count: int, last_three_days_total_customer_transaction_max: int, last_three_days_total_customer_transaction_avg: float, last_one_week_total_customer_transaction_sum: int, last_one_week_total_customer_transaction_count: int, last_one_week_total_customer_transaction_max: int, last_one_week_total_customer_transaction_avg: float, last_two_week_total_customer_transaction_sum: int, last_two_week_total_customer_transaction_count: int, last_two_week_total_customer_transaction_max: int, last_two_week_total_customer_transaction_avg: float, last_one_month_total_customer_transaction_sum: int, last_one_month_total_customer_transaction_count: int, last_one_month_total_customer_transaction_max: int, last_one_month_total_customer_transaction_avg: float], ('Concat_1', 'df1')",
          "name": "engine.logs:CustMercTS_1",
          "pathname": "/usr/local/lib/python3.7/dist-packages/razor/flow/async_executors.py",
          "process": 9734,
          "processName": "ForkProcess-1:2",
          "thread": 140400467949376,
          "threadName": "MainThread"
         },
         {
          "asctime": "2021-03-23 08:56:50,773",
          "created": 1616489810.7738166,
          "extra": {},
          "filename": "async_executors.py",
          "funcName": "start_output_sender",
          "levelname": "DEBUG",
          "lineno": 375,
          "message": "CustMercTS_1: SENT, df1, b'__!\\tEndOfStream\\t!__', ('Concat_1', 'df1')",
          "name": "engine.logs:CustMercTS_1",
          "pathname": "/usr/local/lib/python3.7/dist-packages/razor/flow/async_executors.py",
          "process": 9734,
          "processName": "ForkProcess-1:2",
          "thread": 140400467949376,
          "threadName": "MainThread"
         },
         {
          "asctime": "2021-03-23 08:56:50,775",
          "created": 1616489810.7751176,
          "extra": {},
          "filename": "async_executors.py",
          "funcName": "fill_atomic_inputs",
          "levelname": "INFO",
          "lineno": 250,
          "message": "Concat_1: waiting for atomic input: df2",
          "name": "engine.logs:Concat_1",
          "pathname": "/usr/local/lib/python3.7/dist-packages/razor/flow/async_executors.py",
          "process": 9734,
          "processName": "ForkProcess-1:2",
          "thread": 140400467949376,
          "threadName": "MainThread"
         },
         {
          "asctime": "2021-03-23 08:56:50,773",
          "created": 1616489810.773878,
          "extra": {},
          "filename": "async_executors.py",
          "funcName": "start_output_sender",
          "levelname": "DEBUG",
          "lineno": 379,
          "message": "CustMercTS_1: completed output: ('customer_ts', ('Concat_1', 'df1'))",
          "name": "engine.logs:CustMercTS_1",
          "pathname": "/usr/local/lib/python3.7/dist-packages/razor/flow/async_executors.py",
          "process": 9734,
          "processName": "ForkProcess-1:2",
          "thread": 140400467949376,
          "threadName": "MainThread"
         },
         {
          "asctime": "2021-03-23 08:56:50,775",
          "created": 1616489810.7755191,
          "extra": {},
          "filename": "async_executors.py",
          "funcName": "fill_atomic_inputs",
          "levelname": "DEBUG",
          "lineno": 253,
          "message": "Concat_1: got atomic input: DataFrame[customer_name: string, card_number: string, card_type: string]",
          "name": "engine.logs:Concat_1",
          "pathname": "/usr/local/lib/python3.7/dist-packages/razor/flow/async_executors.py",
          "process": 9734,
          "processName": "ForkProcess-1:2",
          "thread": 140400467949376,
          "threadName": "MainThread"
         },
         {
          "asctime": "2021-03-23 08:56:50,775",
          "created": 1616489810.775607,
          "extra": {},
          "filename": "async_executors.py",
          "funcName": "fill_atomic_inputs",
          "levelname": "INFO",
          "lineno": 250,
          "message": "Concat_1: waiting for atomic input: cols",
          "name": "engine.logs:Concat_1",
          "pathname": "/usr/local/lib/python3.7/dist-packages/razor/flow/async_executors.py",
          "process": 9734,
          "processName": "ForkProcess-1:2",
          "thread": 140400467949376,
          "threadName": "MainThread"
         },
         {
          "asctime": "2021-03-23 08:56:50,779",
          "created": 1616489810.7798615,
          "extra": {},
          "filename": "async_executors.py",
          "funcName": "start_input_receiver",
          "levelname": "DEBUG",
          "lineno": 173,
          "message": "CustMercTS_1: received cmd: start_sender, (), {'out_name': 'merchant_ts', 'target': ('Concat_2', 'df1'), 'out_addr': 'tcp://0.0.0.0:58777', 'in_memory': True}",
          "name": "engine.logs:CustMercTS_1",
          "pathname": "/usr/local/lib/python3.7/dist-packages/razor/flow/async_executors.py",
          "process": 9734,
          "processName": "ForkProcess-1:2",
          "thread": 140400467949376,
          "threadName": "MainThread"
         },
         {
          "asctime": "2021-03-23 08:56:50,775",
          "created": 1616489810.7756793,
          "extra": {},
          "filename": "async_executors.py",
          "funcName": "fill_atomic_inputs",
          "levelname": "DEBUG",
          "lineno": 253,
          "message": "Concat_1: got atomic input: ['card_number', 'customer_name']",
          "name": "engine.logs:Concat_1",
          "pathname": "/usr/local/lib/python3.7/dist-packages/razor/flow/async_executors.py",
          "process": 9734,
          "processName": "ForkProcess-1:2",
          "thread": 140400467949376,
          "threadName": "MainThread"
         },
         {
          "asctime": "2021-03-23 08:56:50,775",
          "created": 1616489810.7757323,
          "extra": {},
          "filename": "async_executors.py",
          "funcName": "fill_atomic_inputs",
          "levelname": "INFO",
          "lineno": 250,
          "message": "Concat_1: waiting for atomic input: config",
          "name": "engine.logs:Concat_1",
          "pathname": "/usr/local/lib/python3.7/dist-packages/razor/flow/async_executors.py",
          "process": 9734,
          "processName": "ForkProcess-1:2",
          "thread": 140400467949376,
          "threadName": "MainThread"
         },
         {
          "asctime": "2021-03-23 08:56:50,781",
          "created": 1616489810.7810078,
          "extra": {},
          "filename": "async_executors.py",
          "funcName": "start_output_sender",
          "levelname": "DEBUG",
          "lineno": 370,
          "message": "CustMercTS_1: got start_sender, merchant_ts, ('Concat_2', 'df1')",
          "name": "engine.logs:CustMercTS_1",
          "pathname": "/usr/local/lib/python3.7/dist-packages/razor/flow/async_executors.py",
          "process": 9734,
          "processName": "ForkProcess-1:2",
          "thread": 140400467949376,
          "threadName": "MainThread"
         },
         {
          "asctime": "2021-03-23 08:56:50,775",
          "created": 1616489810.775783,
          "extra": {},
          "filename": "async_executors.py",
          "funcName": "fill_atomic_inputs",
          "levelname": "DEBUG",
          "lineno": 253,
          "message": "Concat_1: got atomic input: {}",
          "name": "engine.logs:Concat_1",
          "pathname": "/usr/local/lib/python3.7/dist-packages/razor/flow/async_executors.py",
          "process": 9734,
          "processName": "ForkProcess-1:2",
          "thread": 140400467949376,
          "threadName": "MainThread"
         },
         {
          "asctime": "2021-03-23 08:56:50,775",
          "created": 1616489810.7758186,
          "extra": {},
          "filename": "async_executors.py",
          "funcName": "fill_atomic_inputs",
          "levelname": "INFO",
          "lineno": 250,
          "message": "Concat_1: waiting for atomic input: source",
          "name": "engine.logs:Concat_1",
          "pathname": "/usr/local/lib/python3.7/dist-packages/razor/flow/async_executors.py",
          "process": 9734,
          "processName": "ForkProcess-1:2",
          "thread": 140400467949376,
          "threadName": "MainThread"
         },
         {
          "asctime": "2021-03-23 08:56:50,782",
          "created": 1616489810.782245,
          "extra": {},
          "filename": "async_executors.py",
          "funcName": "start_output_sender",
          "levelname": "DEBUG",
          "lineno": 375,
          "message": "CustMercTS_1: SENT, df1, DataFrame[transaction_id: string, merchant_id: string, merchant_city: string, merchant_state: string, last_one_hour_total_merchant_transaction_sum: int, last_one_hour_total_merchant_transaction_count: int, last_one_hour_total_merchant_transaction_max: int, last_one_hour_total_merchant_transaction_avg: float, last_six_hour_total_merchant_transaction_sum: int, last_six_hour_total_merchant_transaction_count: int, last_six_hour_total_merchant_transaction_max: int, last_six_hour_total_merchant_transaction_avg: float, last_twelve_hour_total_merchant_transaction_sum: int, last_twelve_hour_total_merchant_transaction_count: int, last_twelve_hour_total_merchant_transaction_max: int, last_twelve_hour_total_merchant_transaction_avg: float, last_twenty_four_hour_total_merchant_transaction_sum: int, last_twenty_four_hour_total_merchant_transaction_count: int, last_twenty_four_hour_total_merchant_transaction_max: int, last_twenty_four_hour_total_merchant_transaction_avg: float, last_three_days_total_merchant_transaction_sum: int, last_three_days_total_merchant_transaction_count: int, last_three_days_total_merchant_transaction_max: int, last_three_days_total_merchant_transaction_avg: float], ('Concat_2', 'df1')",
          "name": "engine.logs:CustMercTS_1",
          "pathname": "/usr/local/lib/python3.7/dist-packages/razor/flow/async_executors.py",
          "process": 9734,
          "processName": "ForkProcess-1:2",
          "thread": 140400467949376,
          "threadName": "MainThread"
         },
         {
          "asctime": "2021-03-23 08:56:50,782",
          "created": 1616489810.782596,
          "extra": {},
          "filename": "async_executors.py",
          "funcName": "start_output_sender",
          "levelname": "DEBUG",
          "lineno": 375,
          "message": "CustMercTS_1: SENT, df1, b'__!\\tEndOfStream\\t!__', ('Concat_2', 'df1')",
          "name": "engine.logs:CustMercTS_1",
          "pathname": "/usr/local/lib/python3.7/dist-packages/razor/flow/async_executors.py",
          "process": 9734,
          "processName": "ForkProcess-1:2",
          "thread": 140400467949376,
          "threadName": "MainThread"
         },
         {
          "asctime": "2021-03-23 08:56:50,775",
          "created": 1616489810.775868,
          "extra": {},
          "filename": "async_executors.py",
          "funcName": "fill_atomic_inputs",
          "levelname": "DEBUG",
          "lineno": 253,
          "message": "Concat_1: got atomic input: ",
          "name": "engine.logs:Concat_1",
          "pathname": "/usr/local/lib/python3.7/dist-packages/razor/flow/async_executors.py",
          "process": 9734,
          "processName": "ForkProcess-1:2",
          "thread": 140400467949376,
          "threadName": "MainThread"
         },
         {
          "asctime": "2021-03-23 08:56:50,782",
          "created": 1616489810.7827034,
          "extra": {},
          "filename": "async_executors.py",
          "funcName": "start_output_sender",
          "levelname": "DEBUG",
          "lineno": 379,
          "message": "CustMercTS_1: completed output: ('merchant_ts', ('Concat_2', 'df1'))",
          "name": "engine.logs:CustMercTS_1",
          "pathname": "/usr/local/lib/python3.7/dist-packages/razor/flow/async_executors.py",
          "process": 9734,
          "processName": "ForkProcess-1:2",
          "thread": 140400467949376,
          "threadName": "MainThread"
         },
         {
          "asctime": "2021-03-23 08:56:50,848",
          "created": 1616489810.848685,
          "extra": {},
          "filename": "async_executors.py",
          "funcName": "fill_atomic_inputs",
          "levelname": "DEBUG",
          "lineno": 253,
          "message": "Concat_2: got atomic input: DataFrame[transaction_id: string, merchant_id: string, merchant_city: string, merchant_state: string, last_one_hour_total_merchant_transaction_sum: int, last_one_hour_total_merchant_transaction_count: int, last_one_hour_total_merchant_transaction_max: int, last_one_hour_total_merchant_transaction_avg: float, last_six_hour_total_merchant_transaction_sum: int, last_six_hour_total_merchant_transaction_count: int, last_six_hour_total_merchant_transaction_max: int, last_six_hour_total_merchant_transaction_avg: float, last_twelve_hour_total_merchant_transaction_sum: int, last_twelve_hour_total_merchant_transaction_count: int, last_twelve_hour_total_merchant_transaction_max: int, last_twelve_hour_total_merchant_transaction_avg: float, last_twenty_four_hour_total_merchant_transaction_sum: int, last_twenty_four_hour_total_merchant_transaction_count: int, last_twenty_four_hour_total_merchant_transaction_max: int, last_twenty_four_hour_total_merchant_transaction_avg: float, last_three_days_total_merchant_transaction_sum: int, last_three_days_total_merchant_transaction_count: int, last_three_days_total_merchant_transaction_max: int, last_three_days_total_merchant_transaction_avg: float]",
          "name": "engine.logs:Concat_2",
          "pathname": "/usr/local/lib/python3.7/dist-packages/razor/flow/async_executors.py",
          "process": 9734,
          "processName": "ForkProcess-1:2",
          "thread": 140400467949376,
          "threadName": "MainThread"
         },
         {
          "asctime": "2021-03-23 08:56:50,775",
          "created": 1616489810.7759387,
          "extra": {},
          "filename": "async_executors.py",
          "funcName": "main",
          "levelname": "DEBUG",
          "lineno": 130,
          "message": "Concat_1: triggering block run",
          "name": "engine.logs:Concat_1",
          "pathname": "/usr/local/lib/python3.7/dist-packages/razor/flow/async_executors.py",
          "process": 9734,
          "processName": "ForkProcess-1:2",
          "thread": 140400467949376,
          "threadName": "MainThread"
         },
         {
          "asctime": "2021-03-23 08:56:50,849",
          "created": 1616489810.8491666,
          "extra": {},
          "filename": "async_executors.py",
          "funcName": "fill_atomic_inputs",
          "levelname": "INFO",
          "lineno": 250,
          "message": "Concat_2: waiting for atomic input: df2",
          "name": "engine.logs:Concat_2",
          "pathname": "/usr/local/lib/python3.7/dist-packages/razor/flow/async_executors.py",
          "process": 9734,
          "processName": "ForkProcess-1:2",
          "thread": 140400467949376,
          "threadName": "MainThread"
         },
         {
          "asctime": "2021-03-23 08:56:50,850",
          "created": 1616489810.8500574,
          "extra": {},
          "filename": "async_executors.py",
          "funcName": "fill_atomic_inputs",
          "levelname": "DEBUG",
          "lineno": 253,
          "message": "Concat_2: got atomic input: DataFrame[merchant_id: string, merchant_city: string, merchant_state: string, list_of_product: array<string>]",
          "name": "engine.logs:Concat_2",
          "pathname": "/usr/local/lib/python3.7/dist-packages/razor/flow/async_executors.py",
          "process": 9734,
          "processName": "ForkProcess-1:2",
          "thread": 140400467949376,
          "threadName": "MainThread"
         },
         {
          "asctime": "2021-03-23 08:56:50,850",
          "created": 1616489810.8501923,
          "extra": {},
          "filename": "async_executors.py",
          "funcName": "fill_atomic_inputs",
          "levelname": "INFO",
          "lineno": 250,
          "message": "Concat_2: waiting for atomic input: cols",
          "name": "engine.logs:Concat_2",
          "pathname": "/usr/local/lib/python3.7/dist-packages/razor/flow/async_executors.py",
          "process": 9734,
          "processName": "ForkProcess-1:2",
          "thread": 140400467949376,
          "threadName": "MainThread"
         },
         {
          "asctime": "2021-03-23 08:56:50,850",
          "created": 1616489810.8503015,
          "extra": {},
          "filename": "async_executors.py",
          "funcName": "fill_atomic_inputs",
          "levelname": "DEBUG",
          "lineno": 253,
          "message": "Concat_2: got atomic input: ['merchant_id', 'merchant_city', 'merchant_state']",
          "name": "engine.logs:Concat_2",
          "pathname": "/usr/local/lib/python3.7/dist-packages/razor/flow/async_executors.py",
          "process": 9734,
          "processName": "ForkProcess-1:2",
          "thread": 140400467949376,
          "threadName": "MainThread"
         },
         {
          "asctime": "2021-03-23 08:56:50,855",
          "created": 1616489810.8554792,
          "extra": {},
          "filename": "async_executors.py",
          "funcName": "start_input_receiver",
          "levelname": "DEBUG",
          "lineno": 173,
          "message": "CustMercTS_1: received cmd: terminate, (), {}",
          "name": "engine.logs:CustMercTS_1",
          "pathname": "/usr/local/lib/python3.7/dist-packages/razor/flow/async_executors.py",
          "process": 9734,
          "processName": "ForkProcess-1:2",
          "thread": 140400467949376,
          "threadName": "MainThread"
         },
         {
          "asctime": "2021-03-23 08:56:50,850",
          "created": 1616489810.8503625,
          "extra": {},
          "filename": "async_executors.py",
          "funcName": "fill_atomic_inputs",
          "levelname": "INFO",
          "lineno": 250,
          "message": "Concat_2: waiting for atomic input: config",
          "name": "engine.logs:Concat_2",
          "pathname": "/usr/local/lib/python3.7/dist-packages/razor/flow/async_executors.py",
          "process": 9734,
          "processName": "ForkProcess-1:2",
          "thread": 140400467949376,
          "threadName": "MainThread"
         },
         {
          "asctime": "2021-03-23 08:56:50,850",
          "created": 1616489810.850416,
          "extra": {},
          "filename": "async_executors.py",
          "funcName": "fill_atomic_inputs",
          "levelname": "DEBUG",
          "lineno": 253,
          "message": "Concat_2: got atomic input: {}",
          "name": "engine.logs:Concat_2",
          "pathname": "/usr/local/lib/python3.7/dist-packages/razor/flow/async_executors.py",
          "process": 9734,
          "processName": "ForkProcess-1:2",
          "thread": 140400467949376,
          "threadName": "MainThread"
         },
         {
          "asctime": "2021-03-23 08:56:50,850",
          "created": 1616489810.8504531,
          "extra": {},
          "filename": "async_executors.py",
          "funcName": "fill_atomic_inputs",
          "levelname": "INFO",
          "lineno": 250,
          "message": "Concat_2: waiting for atomic input: source",
          "name": "engine.logs:Concat_2",
          "pathname": "/usr/local/lib/python3.7/dist-packages/razor/flow/async_executors.py",
          "process": 9734,
          "processName": "ForkProcess-1:2",
          "thread": 140400467949376,
          "threadName": "MainThread"
         },
         {
          "asctime": "2021-03-23 08:56:50,850",
          "created": 1616489810.8504944,
          "extra": {},
          "filename": "async_executors.py",
          "funcName": "fill_atomic_inputs",
          "levelname": "DEBUG",
          "lineno": 253,
          "message": "Concat_2: got atomic input: ",
          "name": "engine.logs:Concat_2",
          "pathname": "/usr/local/lib/python3.7/dist-packages/razor/flow/async_executors.py",
          "process": 9734,
          "processName": "ForkProcess-1:2",
          "thread": 140400467949376,
          "threadName": "MainThread"
         },
         {
          "asctime": "2021-03-23 08:56:50,850",
          "created": 1616489810.8505461,
          "extra": {},
          "filename": "async_executors.py",
          "funcName": "main",
          "levelname": "DEBUG",
          "lineno": 130,
          "message": "Concat_2: triggering block run",
          "name": "engine.logs:Concat_2",
          "pathname": "/usr/local/lib/python3.7/dist-packages/razor/flow/async_executors.py",
          "process": 9734,
          "processName": "ForkProcess-1:2",
          "thread": 140400467949376,
          "threadName": "MainThread"
         },
         {
          "asctime": "2021-03-23 08:56:50,949",
          "created": 1616489810.949666,
          "extra": {},
          "filename": "async_executors.py",
          "funcName": "main",
          "levelname": "DEBUG",
          "lineno": 147,
          "message": "Concat_1: block thread completed",
          "name": "engine.logs:Concat_1",
          "pathname": "/usr/local/lib/python3.7/dist-packages/razor/flow/async_executors.py",
          "process": 9734,
          "processName": "ForkProcess-1:2",
          "thread": 140400467949376,
          "threadName": "MainThread"
         },
         {
          "asctime": "2021-03-23 08:56:50,949",
          "created": 1616489810.9498663,
          "extra": {},
          "filename": "async_executors.py",
          "funcName": "main",
          "levelname": "DEBUG",
          "lineno": 149,
          "message": "Concat_1: block execution complete",
          "name": "engine.logs:Concat_1",
          "pathname": "/usr/local/lib/python3.7/dist-packages/razor/flow/async_executors.py",
          "process": 9734,
          "processName": "ForkProcess-1:2",
          "thread": 140400467949376,
          "threadName": "MainThread"
         },
         {
          "asctime": "2021-03-23 08:56:50,957",
          "created": 1616489810.9572523,
          "extra": {},
          "filename": "async_executors.py",
          "funcName": "start_input_receiver",
          "levelname": "DEBUG",
          "lineno": 173,
          "message": "Concat_1: received cmd: terminate, (), {}",
          "name": "engine.logs:Concat_1",
          "pathname": "/usr/local/lib/python3.7/dist-packages/razor/flow/async_executors.py",
          "process": 9734,
          "processName": "ForkProcess-1:2",
          "thread": 140400467949376,
          "threadName": "MainThread"
         },
         {
          "asctime": "2021-03-23 08:56:51,048",
          "created": 1616489811.0484834,
          "extra": {},
          "filename": "async_executors.py",
          "funcName": "main",
          "levelname": "DEBUG",
          "lineno": 147,
          "message": "Concat_2: block thread completed",
          "name": "engine.logs:Concat_2",
          "pathname": "/usr/local/lib/python3.7/dist-packages/razor/flow/async_executors.py",
          "process": 9734,
          "processName": "ForkProcess-1:2",
          "thread": 140400467949376,
          "threadName": "MainThread"
         },
         {
          "asctime": "2021-03-23 08:56:51,048",
          "created": 1616489811.0486636,
          "extra": {},
          "filename": "async_executors.py",
          "funcName": "main",
          "levelname": "DEBUG",
          "lineno": 149,
          "message": "Concat_2: block execution complete",
          "name": "engine.logs:Concat_2",
          "pathname": "/usr/local/lib/python3.7/dist-packages/razor/flow/async_executors.py",
          "process": 9734,
          "processName": "ForkProcess-1:2",
          "thread": 140400467949376,
          "threadName": "MainThread"
         },
         {
          "asctime": "2021-03-23 08:56:51,080",
          "created": 1616489811.0800276,
          "extra": {},
          "filename": "async_executors.py",
          "funcName": "start_input_receiver",
          "levelname": "DEBUG",
          "lineno": 173,
          "message": "Concat_2: received cmd: terminate, (), {}",
          "name": "engine.logs:Concat_2",
          "pathname": "/usr/local/lib/python3.7/dist-packages/razor/flow/async_executors.py",
          "process": 9734,
          "processName": "ForkProcess-1:2",
          "thread": 140400467949376,
          "threadName": "MainThread"
         }
        ],
        "meta": {
         "block_status": {
          "Concat_1": "SUCCESS",
          "Concat_2": "SUCCESS",
          "CustMercTS_1": "SUCCESS",
          "CustStatic_1": "SUCCESS",
          "MercStatic_1": "SUCCESS",
          "NonSparkPath_1": "SUCCESS",
          "ProdTypeTS_1": "SUCCESS",
          "ReadCsvProjectSpace_1": "SUCCESS",
          "TranCityTS_1": "SUCCESS",
          "TranTypeTS_1": "SUCCESS"
         },
         "blocks": [
          {
           "class_name": "ReadCsvProjectSpace",
           "fullname": "razor.project.blocks.ayan_spark_blocks.ReadCsvProjectSpace",
           "id": "c372a34c-831c-41d9-a962-e79ab8ec8116",
           "inputs": [
            {
             "dataType": "string",
             "default": "",
             "flow": "atomic",
             "help": null,
             "isdict": false,
             "islist": false,
             "label": "filename",
             "meta": {},
             "name": "filename",
             "series": false,
             "type": "str",
             "type_check": true
            },
            {
             "dataType": "dict",
             "default": {},
             "flow": "atomic",
             "help": null,
             "isdict": false,
             "islist": false,
             "label": "config",
             "meta": {},
             "name": "config",
             "series": false,
             "type": "dict",
             "type_check": true
            },
            {
             "dataType": "string",
             "default": "",
             "flow": "atomic",
             "help": null,
             "isdict": false,
             "islist": false,
             "label": "source",
             "meta": {},
             "name": "source",
             "series": false,
             "type": "str",
             "type_check": true
            }
           ],
           "outputs": [
            {
             "flow": "atomic",
             "help": null,
             "label": "data",
             "meta": {},
             "name": "data",
             "series": false,
             "type": "DataFrame",
             "type_check": true
            }
           ],
           "overwritten": false,
           "published": true,
           "var_names": [
            "ReadCsvProjectSpace"
           ]
          },
          {
           "class_name": "NonSparkPath",
           "fullname": "razor.project.blocks.ayan_spark_blocks.NonSparkPath",
           "id": "8db76b5d-b3cb-4aef-a710-efebe4c37144",
           "inputs": [
            {
             "dataType": "string",
             "default": "",
             "flow": "atomic",
             "help": null,
             "isdict": false,
             "islist": false,
             "label": "ip_path",
             "meta": {},
             "name": "ip_path",
             "series": false,
             "type": "str",
             "type_check": true
            }
           ],
           "outputs": [
            {
             "flow": "atomic",
             "help": null,
             "label": "op_path",
             "meta": {},
             "name": "op_path",
             "series": false,
             "type": "str",
             "type_check": true
            }
           ],
           "overwritten": false,
           "published": true,
           "var_names": [
            "NonSparkPath"
           ]
          },
          {
           "class_name": "CustMercTS",
           "fullname": "razor.project.blocks.ayan_spark_blocks.CustMercTS",
           "id": "0e33b9f9-65b9-45e9-b723-1fc0ddcd8d31",
           "inputs": [
            {
             "dataType": null,
             "default": null,
             "flow": "atomic",
             "help": null,
             "isdict": false,
             "islist": false,
             "label": "ip_data",
             "meta": {},
             "name": "ip_data",
             "series": false,
             "type": "DataFrame",
             "type_check": true
            },
            {
             "dataType": "dict",
             "default": {},
             "flow": "atomic",
             "help": null,
             "isdict": false,
             "islist": false,
             "label": "config",
             "meta": {},
             "name": "config",
             "series": false,
             "type": "dict",
             "type_check": true
            },
            {
             "dataType": "string",
             "default": "",
             "flow": "atomic",
             "help": null,
             "isdict": false,
             "islist": false,
             "label": "source",
             "meta": {},
             "name": "source",
             "series": false,
             "type": "str",
             "type_check": true
            }
           ],
           "outputs": [
            {
             "flow": "atomic",
             "help": null,
             "label": "customer_ts",
             "meta": {},
             "name": "customer_ts",
             "series": false,
             "type": "DataFrame",
             "type_check": true
            },
            {
             "flow": "atomic",
             "help": null,
             "label": "merchant_ts",
             "meta": {},
             "name": "merchant_ts",
             "series": false,
             "type": "DataFrame",
             "type_check": true
            }
           ],
           "overwritten": false,
           "published": true,
           "var_names": [
            "CustMercTS"
           ]
          },
          {
           "class_name": "TranTypeTS",
           "fullname": "razor.project.blocks.ayan_spark_blocks.TranTypeTS",
           "id": "bc1fc737-66ef-43aa-9f6a-fb8d0ac71142",
           "inputs": [
            {
             "dataType": null,
             "default": null,
             "flow": "atomic",
             "help": null,
             "isdict": false,
             "islist": false,
             "label": "ip_data",
             "meta": {},
             "name": "ip_data",
             "series": false,
             "type": "DataFrame",
             "type_check": true
            },
            {
             "dataType": "dict",
             "default": {},
             "flow": "atomic",
             "help": null,
             "isdict": false,
             "islist": false,
             "label": "config",
             "meta": {},
             "name": "config",
             "series": false,
             "type": "dict",
             "type_check": true
            },
            {
             "dataType": "string",
             "default": "",
             "flow": "atomic",
             "help": null,
             "isdict": false,
             "islist": false,
             "label": "source",
             "meta": {},
             "name": "source",
             "series": false,
             "type": "str",
             "type_check": true
            }
           ],
           "outputs": [
            {
             "flow": "atomic",
             "help": null,
             "label": "tran_type_ts",
             "meta": {},
             "name": "tran_type_ts",
             "series": false,
             "type": "DataFrame",
             "type_check": true
            }
           ],
           "overwritten": false,
           "published": true,
           "var_names": [
            "TranTypeTS"
           ]
          },
          {
           "class_name": "Concat",
           "fullname": ".Concat",
           "id": "29111245-a7c8-4de2-9a72-74904b6777b6",
           "inputs": [
            {
             "dataType": null,
             "default": null,
             "flow": "atomic",
             "help": null,
             "isdict": false,
             "islist": false,
             "label": "df1",
             "meta": {},
             "name": "df1",
             "series": false,
             "type": "DataFrame",
             "type_check": true
            },
            {
             "dataType": null,
             "default": null,
             "flow": "atomic",
             "help": null,
             "isdict": false,
             "islist": false,
             "label": "df2",
             "meta": {},
             "name": "df2",
             "series": false,
             "type": "DataFrame",
             "type_check": true
            },
            {
             "dataType": "list",
             "default": [],
             "flow": "atomic",
             "help": null,
             "isdict": false,
             "islist": false,
             "label": "cols",
             "meta": {},
             "name": "cols",
             "series": false,
             "type": "list",
             "type_check": true
            },
            {
             "dataType": "dict",
             "default": {},
             "flow": "atomic",
             "help": null,
             "isdict": false,
             "islist": false,
             "label": "config",
             "meta": {},
             "name": "config",
             "series": false,
             "type": "dict",
             "type_check": true
            },
            {
             "dataType": "string",
             "default": "",
             "flow": "atomic",
             "help": null,
             "isdict": false,
             "islist": false,
             "label": "source",
             "meta": {},
             "name": "source",
             "series": false,
             "type": "str",
             "type_check": true
            }
           ],
           "outputs": [
            {
             "flow": "atomic",
             "help": null,
             "label": "op_df",
             "meta": {},
             "name": "op_df",
             "series": false,
             "type": "DataFrame",
             "type_check": true
            }
           ],
           "overwritten": false,
           "published": false,
           "var_names": [
            "Concat"
           ]
          },
          {
           "class_name": "MercStatic",
           "fullname": "razor.project.blocks.ayan_spark_blocks.MercStatic",
           "id": "492305b6-0d3a-4431-ad72-43781f34eba4",
           "inputs": [
            {
             "dataType": null,
             "default": null,
             "flow": "atomic",
             "help": null,
             "isdict": false,
             "islist": false,
             "label": "ip_data",
             "meta": {},
             "name": "ip_data",
             "series": false,
             "type": "DataFrame",
             "type_check": true
            },
            {
             "dataType": "dict",
             "default": {},
             "flow": "atomic",
             "help": null,
             "isdict": false,
             "islist": false,
             "label": "config",
             "meta": {},
             "name": "config",
             "series": false,
             "type": "dict",
             "type_check": true
            },
            {
             "dataType": "string",
             "default": "",
             "flow": "atomic",
             "help": null,
             "isdict": false,
             "islist": false,
             "label": "source",
             "meta": {},
             "name": "source",
             "series": false,
             "type": "str",
             "type_check": true
            }
           ],
           "outputs": [
            {
             "flow": "atomic",
             "help": null,
             "label": "merchant_static",
             "meta": {},
             "name": "merchant_static",
             "series": false,
             "type": "DataFrame",
             "type_check": true
            }
           ],
           "overwritten": false,
           "published": true,
           "var_names": [
            "MercStatic"
           ]
          },
          {
           "class_name": "TranCityTS",
           "fullname": "razor.project.blocks.ayan_spark_blocks.TranCityTS",
           "id": "3f055367-b80f-4bfc-baa6-57caa5574dfc",
           "inputs": [
            {
             "dataType": null,
             "default": null,
             "flow": "atomic",
             "help": null,
             "isdict": false,
             "islist": false,
             "label": "ip_data",
             "meta": {},
             "name": "ip_data",
             "series": false,
             "type": "DataFrame",
             "type_check": true
            },
            {
             "dataType": "dict",
             "default": {},
             "flow": "atomic",
             "help": null,
             "isdict": false,
             "islist": false,
             "label": "config",
             "meta": {},
             "name": "config",
             "series": false,
             "type": "dict",
             "type_check": true
            },
            {
             "dataType": "string",
             "default": "",
             "flow": "atomic",
             "help": null,
             "isdict": false,
             "islist": false,
             "label": "source",
             "meta": {},
             "name": "source",
             "series": false,
             "type": "str",
             "type_check": true
            }
           ],
           "outputs": [
            {
             "flow": "atomic",
             "help": null,
             "label": "tran_city_ts",
             "meta": {},
             "name": "tran_city_ts",
             "series": false,
             "type": "DataFrame",
             "type_check": true
            }
           ],
           "overwritten": false,
           "published": true,
           "var_names": [
            "TranCityTS"
           ]
          },
          {
           "class_name": "ProdTypeTS",
           "fullname": "razor.project.blocks.ayan_spark_blocks.ProdTypeTS",
           "id": "d06d2826-a2b1-4d9a-918b-efe595696cb5",
           "inputs": [
            {
             "dataType": null,
             "default": null,
             "flow": "atomic",
             "help": null,
             "isdict": false,
             "islist": false,
             "label": "ip_data",
             "meta": {},
             "name": "ip_data",
             "series": false,
             "type": "DataFrame",
             "type_check": true
            },
            {
             "dataType": "dict",
             "default": {},
             "flow": "atomic",
             "help": null,
             "isdict": false,
             "islist": false,
             "label": "config",
             "meta": {},
             "name": "config",
             "series": false,
             "type": "dict",
             "type_check": true
            },
            {
             "dataType": "string",
             "default": "",
             "flow": "atomic",
             "help": null,
             "isdict": false,
             "islist": false,
             "label": "source",
             "meta": {},
             "name": "source",
             "series": false,
             "type": "str",
             "type_check": true
            }
           ],
           "outputs": [
            {
             "flow": "atomic",
             "help": null,
             "label": "prod_type_ts",
             "meta": {},
             "name": "prod_type_ts",
             "series": false,
             "type": "DataFrame",
             "type_check": true
            }
           ],
           "overwritten": false,
           "published": true,
           "var_names": [
            "ProdTypeTS"
           ]
          },
          {
           "class_name": "CustStatic",
           "fullname": "razor.project.blocks.ayan_spark_blocks.CustStatic",
           "id": "ac110c57-600f-4c95-95c0-06e32d034412",
           "inputs": [
            {
             "dataType": null,
             "default": null,
             "flow": "atomic",
             "help": null,
             "isdict": false,
             "islist": false,
             "label": "ip_data",
             "meta": {},
             "name": "ip_data",
             "series": false,
             "type": "DataFrame",
             "type_check": true
            },
            {
             "dataType": "dict",
             "default": {},
             "flow": "atomic",
             "help": null,
             "isdict": false,
             "islist": false,
             "label": "config",
             "meta": {},
             "name": "config",
             "series": false,
             "type": "dict",
             "type_check": true
            },
            {
             "dataType": "string",
             "default": "",
             "flow": "atomic",
             "help": null,
             "isdict": false,
             "islist": false,
             "label": "source",
             "meta": {},
             "name": "source",
             "series": false,
             "type": "str",
             "type_check": true
            }
           ],
           "outputs": [
            {
             "flow": "atomic",
             "help": null,
             "label": "customer_static",
             "meta": {},
             "name": "customer_static",
             "series": false,
             "type": "DataFrame",
             "type_check": true
            }
           ],
           "overwritten": false,
           "published": true,
           "var_names": [
            "CustStatic"
           ]
          }
         ],
         "connections": [
          {
           "id": "74ccae69-733f-4046-8a9f-b1b5c41428ce",
           "source": {
            "adapter": false,
            "instance_id": "895631a4-9c71-4ce1-b3c1-17f5b22d0a5c",
            "name": "data"
           },
           "target": {
            "adapter": false,
            "instance_id": "df18fcb9-7d9e-4af0-b6a8-6043225dc403",
            "name": "ip_data"
           }
          },
          {
           "id": "648a27a7-bfea-45ff-aedb-ceb97408a145",
           "source": {
            "adapter": false,
            "instance_id": "895631a4-9c71-4ce1-b3c1-17f5b22d0a5c",
            "name": "data"
           },
           "target": {
            "adapter": false,
            "instance_id": "2a48a2c8-57c2-44f5-a811-dfc84ee098eb",
            "name": "ip_data"
           }
          },
          {
           "id": "bbdc4c4e-dde5-4ad7-a91b-7d14aba06560",
           "source": {
            "adapter": false,
            "instance_id": "5e7dd9c6-f556-45fe-ba0b-eb9a81b87329",
            "name": "customer_ts"
           },
           "target": {
            "adapter": false,
            "instance_id": "f3a0cf89-5803-470e-96f0-3f22882f435c",
            "name": "df1"
           }
          },
          {
           "id": "0f02b272-9355-4c8f-b7bb-8f1429154652",
           "source": {
            "adapter": false,
            "instance_id": "895631a4-9c71-4ce1-b3c1-17f5b22d0a5c",
            "name": "data"
           },
           "target": {
            "adapter": false,
            "instance_id": "5e7dd9c6-f556-45fe-ba0b-eb9a81b87329",
            "name": "ip_data"
           }
          },
          {
           "id": "46422ecf-384c-4b1a-b48c-4e91abeecbf4",
           "source": {
            "adapter": false,
            "instance_id": "d2c5b481-b10a-4a82-aa83-8d9078ac2fbc",
            "name": "op_path"
           },
           "target": {
            "adapter": false,
            "instance_id": "895631a4-9c71-4ce1-b3c1-17f5b22d0a5c",
            "name": "filename"
           }
          },
          {
           "id": "62231849-d9c8-4b68-816a-1e35b64c3dc2",
           "source": {
            "adapter": false,
            "instance_id": "895631a4-9c71-4ce1-b3c1-17f5b22d0a5c",
            "name": "data"
           },
           "target": {
            "adapter": false,
            "instance_id": "13f7030a-10ef-4dbe-befe-fefc50cc39b9",
            "name": "ip_data"
           }
          },
          {
           "id": "02d33d2f-275c-4ee8-8dd6-69944c4df56a",
           "source": {
            "adapter": false,
            "instance_id": "895631a4-9c71-4ce1-b3c1-17f5b22d0a5c",
            "name": "data"
           },
           "target": {
            "adapter": false,
            "instance_id": "59e4a8c2-4cbe-4328-9ff7-cec4b2141151",
            "name": "ip_data"
           }
          },
          {
           "id": "40b2b99c-cff0-47bd-8579-93aa16ba3ebc",
           "source": {
            "adapter": false,
            "instance_id": "5e7dd9c6-f556-45fe-ba0b-eb9a81b87329",
            "name": "merchant_ts"
           },
           "target": {
            "adapter": false,
            "instance_id": "2da5b8b6-1e4d-4cc4-82f1-c622f76bb575",
            "name": "df1"
           }
          },
          {
           "id": "b06fb42a-ccb2-4a9a-911f-b7daf9fa232b",
           "source": {
            "adapter": false,
            "instance_id": "13f7030a-10ef-4dbe-befe-fefc50cc39b9",
            "name": "merchant_static"
           },
           "target": {
            "adapter": false,
            "instance_id": "2da5b8b6-1e4d-4cc4-82f1-c622f76bb575",
            "name": "df2"
           }
          },
          {
           "id": "fe46f63f-d459-45f2-9403-55a9dae495ca",
           "source": {
            "adapter": false,
            "instance_id": "327f2b18-5993-4714-898c-374f1f85e47d",
            "name": "customer_static"
           },
           "target": {
            "adapter": false,
            "instance_id": "f3a0cf89-5803-470e-96f0-3f22882f435c",
            "name": "df2"
           }
          },
          {
           "id": "b3cf7c84-81a5-4481-9f29-38c385b95716",
           "source": {
            "adapter": false,
            "instance_id": "895631a4-9c71-4ce1-b3c1-17f5b22d0a5c",
            "name": "data"
           },
           "target": {
            "adapter": false,
            "instance_id": "327f2b18-5993-4714-898c-374f1f85e47d",
            "name": "ip_data"
           }
          }
         ],
         "end": 1616489811.084738,
         "id": "58722294-4a7d-4087-8bd4-35abf54d4222",
         "instances": [
          {
           "block_class": "29111245-a7c8-4de2-9a72-74904b6777b6",
           "id": "f3a0cf89-5803-470e-96f0-3f22882f435c",
           "name": "Concat_1",
           "var_names": [
            "merged_cust"
           ]
          },
          {
           "block_class": "0e33b9f9-65b9-45e9-b723-1fc0ddcd8d31",
           "id": "5e7dd9c6-f556-45fe-ba0b-eb9a81b87329",
           "name": "CustMercTS_1",
           "var_names": [
            "cm_ts"
           ]
          },
          {
           "block_class": "c372a34c-831c-41d9-a962-e79ab8ec8116",
           "id": "895631a4-9c71-4ce1-b3c1-17f5b22d0a5c",
           "name": "ReadCsvProjectSpace_1",
           "var_names": [
            "rcp"
           ]
          },
          {
           "block_class": "8db76b5d-b3cb-4aef-a710-efebe4c37144",
           "id": "d2c5b481-b10a-4a82-aa83-8d9078ac2fbc",
           "name": "NonSparkPath_1",
           "var_names": [
            "nsp"
           ]
          },
          {
           "block_class": "ac110c57-600f-4c95-95c0-06e32d034412",
           "id": "327f2b18-5993-4714-898c-374f1f85e47d",
           "name": "CustStatic_1",
           "var_names": [
            "cs"
           ]
          },
          {
           "block_class": "29111245-a7c8-4de2-9a72-74904b6777b6",
           "id": "2da5b8b6-1e4d-4cc4-82f1-c622f76bb575",
           "name": "Concat_2",
           "var_names": [
            "merged_merc"
           ]
          },
          {
           "block_class": "492305b6-0d3a-4431-ad72-43781f34eba4",
           "id": "13f7030a-10ef-4dbe-befe-fefc50cc39b9",
           "name": "MercStatic_1",
           "var_names": [
            "ms"
           ]
          },
          {
           "block_class": "d06d2826-a2b1-4d9a-918b-efe595696cb5",
           "id": "59e4a8c2-4cbe-4328-9ff7-cec4b2141151",
           "name": "ProdTypeTS_1",
           "var_names": [
            "pt_ts"
           ]
          },
          {
           "block_class": "3f055367-b80f-4bfc-baa6-57caa5574dfc",
           "id": "df18fcb9-7d9e-4af0-b6a8-6043225dc403",
           "name": "TranCityTS_1",
           "var_names": [
            "tc_ts"
           ]
          },
          {
           "block_class": "bc1fc737-66ef-43aa-9f6a-fb8d0ac71142",
           "id": "2a48a2c8-57c2-44f5-a811-dfc84ee098eb",
           "name": "TranTypeTS_1",
           "var_names": [
            "tt_ts"
           ]
          }
         ],
         "log_level": 20,
         "name": "temp",
         "start": 1616489739.0692146,
         "status": "SUCCESS",
         "system_logs": false,
         "var_names": []
        },
        "metrics": {},
        "runtime": {
         "Concat_1": {
          "end": 1616489810.9543796,
          "load": 1616489739.297053,
          "start": 1616489739.319687
         },
         "Concat_2": {
          "end": 1616489811.0773802,
          "load": 1616489739.297053,
          "start": 1616489739.319687
         },
         "CustMercTS_1": {
          "end": 1616489810.8500912,
          "load": 1616489739.297053,
          "start": 1616489739.319687
         },
         "CustStatic_1": {
          "end": 1616489771.0504034,
          "load": 1616489739.297053,
          "start": 1616489739.319687
         },
         "MercStatic_1": {
          "end": 1616489803.351051,
          "load": 1616489739.297053,
          "start": 1616489739.319687
         },
         "NonSparkPath_1": {
          "end": 1616489739.558966,
          "load": 1616489739.071284,
          "start": 1616489739.0796492
         },
         "ProdTypeTS_1": {
          "end": 1616489788.179748,
          "load": 1616489739.297053,
          "start": 1616489739.319687
         },
         "ReadCsvProjectSpace_1": {
          "end": 1616489768.4515934,
          "load": 1616489739.297053,
          "start": 1616489739.319687
         },
         "TranCityTS_1": {
          "end": 1616489772.8524492,
          "load": 1616489739.297053,
          "start": 1616489739.319687
         },
         "TranTypeTS_1": {
          "end": 1616489799.4500911,
          "load": 1616489739.297053,
          "start": 1616489739.319687
         }
        }
       },
       "store_in_notebook": true
      }
     },
     "output_type": "display_data"
    },
    {
     "data": {
      "text/plain": [
       "{}"
      ]
     },
     "execution_count": 18,
     "metadata": {},
     "output_type": "execute_result"
    }
   ],
   "source": [
    "pipe.execute()"
   ]
  },
  {
   "cell_type": "code",
   "execution_count": null,
   "id": "smart-acquisition",
   "metadata": {},
   "outputs": [],
   "source": []
  },
  {
   "cell_type": "code",
   "execution_count": null,
   "id": "separated-louisiana",
   "metadata": {},
   "outputs": [],
   "source": []
  }
 ],
 "metadata": {
  "kernelspec": {
   "display_name": "Python 3",
   "language": "python",
   "name": "python3"
  },
  "language_info": {
   "codemirror_mode": {
    "name": "ipython",
    "version": 3
   },
   "file_extension": ".py",
   "mimetype": "text/x-python",
   "name": "python",
   "nbconvert_exporter": "python",
   "pygments_lexer": "ipython3",
   "version": "3.7.10"
  }
 },
 "nbformat": 4,
 "nbformat_minor": 5
}
