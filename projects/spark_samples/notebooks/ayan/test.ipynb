{
 "cells": [
  {
   "cell_type": "code",
   "execution_count": 1,
   "id": "earlier-synthetic",
   "metadata": {},
   "outputs": [],
   "source": [
    "import razor\n",
    "import razor.flow as rf\n",
    "from razor import api\n",
    "from razor.flow.spark import SparkBlock, SparkExecutor\n",
    "\n",
    "import os\n",
    "from datetime import datetime, timedelta\n",
    "from pyspark.sql import SparkSession, functions\n",
    "from pyspark.sql.dataframe import DataFrame\n",
    "from datetime import datetime, timedelta\n",
    "from dateutil.relativedelta import relativedelta\n",
    "from pyspark.sql.types import IntegerType, DateType, ArrayType, StringType, FloatType, TimestampType\n",
    "\n",
    "from pyspark.sql.functions import pandas_udf, PandasUDFType,collect_set"
   ]
  },
  {
   "cell_type": "code",
   "execution_count": 2,
   "id": "vocational-catalyst",
   "metadata": {},
   "outputs": [],
   "source": [
    "def project_space_path(path):\n",
    "    ps = api.datasources('Project Space')\n",
    "    return os.path.join(ps.abspath(), path)"
   ]
  },
  {
   "cell_type": "code",
   "execution_count": 3,
   "id": "employed-array",
   "metadata": {},
   "outputs": [],
   "source": [
    "def get_customer_static_info(input_df):\n",
    "    customer_static = input_df.select([\"customer_name\", \"card_number\", \"card_type\"])\n",
    "    return customer_static\n",
    "\n",
    "def get_merchant_static_info(input_df):\n",
    "    merchant_static_temp = input_df.select([\"merchant_id\", \"product_type\"])\n",
    "    merchant_static_data = input_df.select([\"merchant_id\", \"merchant_city\", \"merchant_state\"])\n",
    "    merchant_static_temp = merchant_static_temp.groupBy(\"merchant_id\").agg(collect_set(\"product_type\").alias(\"list_of_product\"))\n",
    "    merchant_static = merchant_static_data.join(merchant_static_temp, on='merchant_id', how='left')\n",
    "    return merchant_static"
   ]
  },
  {
   "cell_type": "code",
   "execution_count": 4,
   "id": "bound-representation",
   "metadata": {},
   "outputs": [],
   "source": [
    "def get_customer_ts(df):\n",
    "    df = df.withColumn(\"time\", df[\"time\"].cast(TimestampType()))\n",
    "    df = df.withColumn(\"amount\", df[\"amount\"].cast(IntegerType()))\n",
    "    df = df.select([\"transaction_id\", \"time\", \"customer_name\", \"card_number\", \"amount\"])\n",
    "    \n",
    "    df1 = df.withColumn(\"tuplecol\", functions.struct([functions.col(\"transaction_id\") , functions.col(\"time\") , functions.col(\"amount\")]))\n",
    "    \n",
    "    df2 = df1.groupby(\"card_number\").agg(functions.collect_list(\"tuplecol\"))\n",
    "    final_customer_df = df.join(df2, on='card_number', how = 'inner')\n",
    "    final_customer_df = final_customer_df.withColumnRenamed('collect_list(tuplecol)', 'tuplecol')\n",
    "    \n",
    "    time_udf = functions.udf(get_customer_timeseries_feature, ArrayType(ArrayType(IntegerType())))\n",
    "    final_customer_df=final_customer_df.withColumn(\"results\",time_udf(functions.col(\"tuplecol\"),functions.col(\"time\")))\n",
    "    \n",
    "    final_customer_df = final_customer_df.select([\"results\", \"transaction_id\"])\n",
    "    df = df.select([\"transaction_id\", \"time\", \"customer_name\", \"card_number\"])\n",
    "    final_customer_df = df.join(final_customer_df, on='transaction_id', how = 'inner')\n",
    "    \n",
    "    feature_vector_udf = functions.udf(get_feature_vector, IntegerType())\n",
    "    avg_feature_vector_udf = functions.udf(get_avg_feature_vector, FloatType())\n",
    "    \n",
    "    feature_type = ['sum','count','max', 'avg']\n",
    "    timespan = ['one_hour','six_hours','twelve_hours', 'twenty_four_hours', 'three_days', 'one_week', 'two_week', 'one_month']\n",
    "    for i in range(0,len(timespan)):\n",
    "        for j in range(0,len(feature_type)):\n",
    "            if feature_type[j]=='avg':\n",
    "                final_customer_df = final_customer_df.withColumn(\"last_\" + timespan[i] + \"_total_customer_transaction_\" + feature_type[j],avg_feature_vector_udf(functions.col(\"results\"),functions.lit(i)))\n",
    "            else:\n",
    "                final_customer_df = final_customer_df.withColumn(\"last_\" + timespan[i] + \"_total_customer_transaction_\" + feature_type[j],feature_vector_udf(functions.col(\"results\"),functions.lit(j),functions.lit(i)))\n",
    "    \n",
    "    final_customer_df = final_customer_df.drop('results')\n",
    "    \n",
    "    return final_customer_df\n",
    "\n",
    "\n",
    "def get_merchant_ts(df):\n",
    "    df = df.withColumn(\"time\", df[\"time\"].cast(TimestampType()))\n",
    "    df = df.withColumn(\"amount\", df[\"amount\"].cast(IntegerType()))\n",
    "    # df = df.select([\"transaction_id\", \"time\", \"customer_name\", \"card_number\", \"amount\"])\n",
    "    df = df.select(['transaction_id',\"time\", 'merchant_id', 'merchant_city', 'merchant_state',\"amount\"])\n",
    "    \n",
    "    df1 = df.withColumn(\"tuplecol\", functions.struct([functions.col(\"transaction_id\") , functions.col(\"time\") , functions.col(\"amount\")]))\n",
    "    \n",
    "    df2 = df1.groupby(\"merchant_id\").agg(functions.collect_list(\"tuplecol\"))\n",
    "    final_customer_df = df.join(df2, on='merchant_id', how = 'inner')\n",
    "    final_customer_df = final_customer_df.withColumnRenamed('collect_list(tuplecol)', 'tuplecol')\n",
    "    \n",
    "    time_udf = functions.udf(get_merchant_timeseries_feature, ArrayType(ArrayType(IntegerType())))\n",
    "    final_customer_df=final_customer_df.withColumn(\"results\",time_udf(functions.col(\"tuplecol\"),functions.col(\"time\"),functions.col(\"transaction_id\")))\n",
    "    \n",
    "    final_customer_df = final_customer_df.select([\"results\", \"transaction_id\"])\n",
    "    df = df.select(['transaction_id', 'merchant_id', 'merchant_city', 'merchant_state'])\n",
    "    final_customer_df = df.join(final_customer_df, on='transaction_id', how = 'inner')\n",
    "    \n",
    "    feature_vector_udf = functions.udf(get_feature_vector, IntegerType())\n",
    "    avg_feature_vector_udf = functions.udf(get_avg_feature_vector, FloatType())\n",
    "    \n",
    "    feature_type = ['sum','count','max', 'avg']\n",
    "    timespan = ['one_hour','six_hour','twelve_hour', 'twenty_four_hour', 'three_days']\n",
    "    for i in range(0,5):\n",
    "        for j in range(0,4):\n",
    "            if feature_type[j]=='avg':\n",
    "                final_customer_df = final_customer_df.withColumn(\"last_\" + timespan[i] + \"_total_merchant_transaction_\" + feature_type[j],avg_feature_vector_udf(functions.col(\"results\"),functions.lit(i)))\n",
    "            else:\n",
    "                final_customer_df = final_customer_df.withColumn(\"last_\" + timespan[i] + \"_total_merchant_transaction_\" + feature_type[j],feature_vector_udf(functions.col(\"results\"),functions.lit(j),functions.lit(i)))\n",
    "\n",
    "    final_customer_df = final_customer_df.drop('results')\n",
    "    \n",
    "    return final_customer_df\n",
    "\n",
    "\n",
    "def get_customer_timeseries_feature(history,current_time):\n",
    "    last_hour_amount_history = [0,]\n",
    "    last_6hour_amount_history = [0,]\n",
    "    last_12hour_amount_history = [0,]\n",
    "    last_24hour_amount_history = [0,]\n",
    "    last_3day_amount_history = [0,]\n",
    "    last_1week_amount_history = [0,]\n",
    "    last_2week_amount_history = [0,]\n",
    "    last_1month_amount_history = [0,]\n",
    "       \n",
    "    history = sorted(history,key=lambda a: a[1])\n",
    "    last_hour_time = current_time - timedelta(hours=1) \n",
    "    last_6hour_time = current_time - timedelta(hours=6)\n",
    "    last_12hour_time = current_time - timedelta(hours=12)\n",
    "    last_24hour_time = current_time - timedelta(hours=24)\n",
    "    last_3day_time = current_time - timedelta(hours=72)\n",
    "    last_1week_time = current_time - timedelta(days=7)\n",
    "    last_2week_time = current_time - timedelta(days=14)\n",
    "    last_1month_time = current_time - relativedelta(months=1)\n",
    "    \n",
    "    for item in history:\n",
    "        if (item[1] < current_time) and (item[1] >= last_hour_time):\n",
    "            last_hour_amount_history.append(item[2])\n",
    "            \n",
    "        if (item[1] < current_time) and (item[1] >= last_6hour_time):\n",
    "            last_6hour_amount_history.append(item[2])\n",
    "            \n",
    "        if (item[1] < current_time) and (item[1] >= last_12hour_time):\n",
    "            last_12hour_amount_history.append(item[2])\n",
    "            \n",
    "        if (item[1] < current_time) and (item[1] >= last_24hour_time):\n",
    "            last_24hour_amount_history.append(item[2])\n",
    "            \n",
    "        if (item[1] < current_time) and (item[1] >= last_3day_time):\n",
    "            last_3day_amount_history.append(item[2])\n",
    "        \n",
    "        if (item[1] < current_time) and (item[1] >= last_1week_time):\n",
    "            last_1week_amount_history.append(item[2])\n",
    "            \n",
    "        if (item[1] < current_time) and (item[1] >= last_2week_time):\n",
    "            last_2week_amount_history.append(item[2])\n",
    "            \n",
    "        if (item[1] < current_time) and (item[1] >= last_1month_time):\n",
    "            last_1month_amount_history.append(item[2])\n",
    "        \n",
    "        # amount_feature = [sum, count, avg, max]\n",
    "#     return [last_hour_amount_history,last_6hour_amount_history]\n",
    "    last_hour_amount_feature = [sum(last_hour_amount_history),len(last_hour_amount_history)-1,max(last_hour_amount_history)]\n",
    "    last_6hour_amount_feature = [sum(last_6hour_amount_history),len(last_6hour_amount_history)-1,max(last_6hour_amount_history)]\n",
    "    last_12hour_amount_feature = [sum(last_12hour_amount_history),len(last_12hour_amount_history)-1,max(last_12hour_amount_history)]\n",
    "    last_24hour_amount_feature = [sum(last_24hour_amount_history),len(last_24hour_amount_history)-1,max(last_24hour_amount_history)]\n",
    "    last_3day_amount_feature = [sum(last_3day_amount_history),len(last_3day_amount_history)-1,max(last_3day_amount_history)]\n",
    "    last_1week_amount_feature = [sum(last_1week_amount_history),len(last_1week_amount_history)-1,max(last_1week_amount_history)]\n",
    "    last_2week_amount_feature = [sum(last_2week_amount_history),len(last_2week_amount_history)-1,max(last_2week_amount_history)]\n",
    "    last_1month_amount_feature = [sum(last_1month_amount_history),len(last_1month_amount_history)-1,max(last_1month_amount_history)]\n",
    "\n",
    "\n",
    "\n",
    "\n",
    "    return [last_hour_amount_feature,last_6hour_amount_feature,last_12hour_amount_feature,last_24hour_amount_feature,last_3day_amount_feature,last_1week_amount_feature,last_2week_amount_feature,last_1month_amount_feature]\n",
    "\n",
    "def get_feature_vector(a,feature_type,timespan):\n",
    "    return int(a[timespan][feature_type])\n",
    "\n",
    "def get_avg_feature_vector(x,timespan):\n",
    "    a= x[timespan][0]\n",
    "    b= x[timespan][1]\n",
    "    if b==0:\n",
    "        return float(a/1)\n",
    "    else:\n",
    "        return float(a/b)\n",
    "\n",
    "\n",
    "def get_merchant_timeseries_feature(history,current_time,current_transaction_id):\n",
    "    last_hour_amount_history = [0,]\n",
    "    last_6hour_amount_history = [0,]\n",
    "    last_12hour_amount_history = [0,]\n",
    "    last_24hour_amount_history = [0,]\n",
    "    last_3day_amount_history = [0,]    \n",
    "           \n",
    "    history = sorted(history,key=lambda a: a[1])\n",
    "    last_hour_time = current_time - timedelta(hours=1) \n",
    "    last_6hour_time = current_time - timedelta(hours=6)\n",
    "    last_12hour_time = current_time - timedelta(hours=12)\n",
    "    last_24hour_time = current_time - timedelta(hours=24)\n",
    "    last_3day_time = current_time - timedelta(hours=72)\n",
    "    \n",
    "    for item in history:\n",
    "        if item[0]!=current_transaction_id:\n",
    "            if (item[1] <= current_time) and (item[1] >= last_hour_time):\n",
    "                last_hour_amount_history.append(item[2])\n",
    "\n",
    "            if (item[1] <= current_time) and (item[1] >= last_6hour_time):\n",
    "                last_6hour_amount_history.append(item[2])\n",
    "\n",
    "            if (item[1] <= current_time) and (item[1] >= last_12hour_time):\n",
    "                last_12hour_amount_history.append(item[2])\n",
    "\n",
    "            if (item[1] <= current_time) and (item[1] >= last_24hour_time):\n",
    "                last_24hour_amount_history.append(item[2])\n",
    "\n",
    "            if (item[1] <= current_time) and (item[1] >= last_3day_time):\n",
    "                last_3day_amount_history.append(item[2])\n",
    "\n",
    "        # amount_feature = [sum, count, avg, max]\n",
    "#     return [last_hour_amount_history,last_6hour_amount_history]\n",
    "    last_hour_amount_feature = [sum(last_hour_amount_history),len(last_hour_amount_history)-1,max(last_hour_amount_history)]\n",
    "    last_6hour_amount_feature = [sum(last_6hour_amount_history),len(last_6hour_amount_history)-1,max(last_6hour_amount_history)]\n",
    "    last_12hour_amount_feature = [sum(last_12hour_amount_history),len(last_12hour_amount_history)-1,max(last_12hour_amount_history)]\n",
    "    last_24hour_amount_feature = [sum(last_24hour_amount_history),len(last_24hour_amount_history)-1,max(last_24hour_amount_history)]\n",
    "    last_3day_amount_feature = [sum(last_3day_amount_history),len(last_3day_amount_history)-1,max(last_3day_amount_history)]\n",
    "\n",
    "    return [last_hour_amount_feature,last_6hour_amount_feature,last_12hour_amount_feature,last_24hour_amount_feature,last_3day_amount_feature]\n",
    "\n",
    "\n",
    "def get_product_type_ts(df):\n",
    "    df = df.withColumn(\"time\", df[\"time\"].cast(TimestampType()))\n",
    "    df = df.withColumn(\"amount\", df[\"amount\"].cast(IntegerType()))\n",
    "    df = df.select([\"transaction_id\", \"time\", 'product_type', \"customer_name\", \"card_number\", \"amount\"])\n",
    "    \n",
    "    product_list = [item.product_type for item in df.select(\"product_type\").distinct().collect()]\n",
    "    product_list.append('Others')\n",
    "    \n",
    "    df1 = df.withColumn(\"tuplecol\", functions.struct([functions.col(\"transaction_id\") , functions.col(\"product_type\") , functions.col(\"time\") , functions.col(\"amount\")]))\n",
    "    \n",
    "    df2 = df1.groupby(\"card_number\").agg(functions.collect_list(\"tuplecol\"))\n",
    "    final_customer_df = df.join(df2, on='card_number', how = 'inner')\n",
    "    final_customer_df = final_customer_df.withColumnRenamed('collect_list(tuplecol)', 'tuplecol')\n",
    "    \n",
    "    time_udf = functions.udf(get_product_type_timeseries_feature, ArrayType(ArrayType(FloatType())))\n",
    "    final_customer_df=final_customer_df.withColumn(\"results\",time_udf(functions.col(\"tuplecol\"),functions.col(\"product_type\"), functions.col(\"time\")))\n",
    "    \n",
    "    final_customer_df = final_customer_df.select([\"results\", \"transaction_id\"])\n",
    "    df = df.select([\"transaction_id\", \"time\", \"customer_name\", \"card_number\"])\n",
    "    final_customer_df = df.join(final_customer_df, on='transaction_id', how = 'inner')\n",
    "    \n",
    "    feature_vector_udf = functions.udf(get_feature_vector_prod_type, FloatType())\n",
    "\n",
    "    feature_type = ['count', 'avg_amount']\n",
    "    for i in range(0,len(product_list)):\n",
    "        for j in range(0,len(feature_type)):\n",
    "            final_customer_df = final_customer_df.withColumn(\"last_2_months_\" + product_list[i] + \"_\" + feature_type[j],feature_vector_udf(functions.col(\"results\"),functions.lit(i),functions.lit(j)))\n",
    "\n",
    "    final_customer_df = final_customer_df.drop('results')\n",
    "    \n",
    "    return final_customer_df\n",
    "\n",
    "\n",
    "def get_transaction_city_ts(df):\n",
    "    df = df.withColumn(\"time\", df[\"time\"].cast(TimestampType()))\n",
    "    df = df.withColumn(\"amount\", df[\"amount\"].cast(IntegerType()))\n",
    "    df = df.select([\"transaction_id\", \"time\", \"customer_name\", \"card_number\", \"merchant_city\"])\n",
    "    \n",
    "    df1 = df.withColumn(\"tuplecol\", functions.struct([functions.col(\"transaction_id\") , functions.col(\"time\") , functions.col(\"merchant_city\")]))\n",
    "    \n",
    "    df2 = df1.groupby(\"card_number\").agg(functions.collect_list(\"tuplecol\"))\n",
    "    final_customer_df = df.join(df2, on='card_number', how = 'inner')\n",
    "    final_customer_df = final_customer_df.withColumnRenamed('collect_list(tuplecol)', 'tuplecol')\n",
    "    \n",
    "    time_udf = functions.udf(get_trans_city_timeseries_feature, ArrayType(FloatType()))\n",
    "    final_customer_df=final_customer_df.withColumn(\"results\",time_udf(functions.col(\"tuplecol\"),functions.col(\"time\"),functions.col(\"merchant_city\")))\n",
    "    \n",
    "    final_customer_df = final_customer_df.select([\"results\", \"transaction_id\"])\n",
    "    df = df.select([\"transaction_id\", \"time\", \"customer_name\", \"card_number\"])\n",
    "    final_customer_df = df.join(final_customer_df, on='transaction_id', how = 'inner')\n",
    "    \n",
    "    feature_vector_udf = functions.udf(get_feature_vector_trans_city, FloatType())\n",
    "\n",
    "    timespan = ['one_hour','six_hours','twelve_hours', 'twenty_four_hours', 'three_days', 'one_week', 'two_week', 'one_month']\n",
    "\n",
    "    for i in range(0,len(timespan)):\n",
    "        final_customer_df = final_customer_df.withColumn(\"last_\" + timespan[i] + \"_City_Score\",feature_vector_udf(functions.col(\"results\"),functions.lit(i)))\n",
    "\n",
    "    final_customer_df = final_customer_df.drop('results')   \n",
    "    \n",
    "    return final_customer_df\n",
    "        \n",
    "\n",
    "def get_transaction_type_ts(df):\n",
    "    df = df.withColumn(\"time\", df[\"time\"].cast(TimestampType()))\n",
    "    df = df.withColumn(\"amount\", df[\"amount\"].cast(IntegerType()))\n",
    "    df = df.select([\"transaction_id\", \"time\", \"customer_name\", \"card_number\", \"transaction_type\", \"amount\"])\n",
    "    \n",
    "    transaction_types = [item.transaction_type for item in df.select(\"transaction_type\").distinct().collect()]\n",
    "\n",
    "    df1 = df.withColumn(\"tuplecol\", functions.struct([functions.col(\"transaction_id\"), functions.col(\"time\"), functions.col(\"amount\")]))\n",
    "    \n",
    "    df2 = df1.groupby(\"card_number\").agg(functions.collect_list(\"tuplecol\"))\n",
    "    final_customer_df = df.join(df2, on='card_number', how = 'inner')\n",
    "    final_customer_df = final_customer_df.withColumnRenamed('collect_list(tuplecol)', 'tuplecol')\n",
    "    \n",
    "    time_udf = functions.udf(get_trans_type_timeseries_feature, ArrayType(ArrayType(IntegerType())))\n",
    "    final_customer_df=final_customer_df.withColumn(\"results\", time_udf(functions.col(\"tuplecol\"), functions.col(\"transaction_type\"), functions.col(\"time\")))\n",
    "\n",
    "    final_customer_df = final_customer_df.select([\"results\", \"transaction_id\"])\n",
    "    df = df.select([\"transaction_id\", \"time\", \"customer_name\", \"card_number\"])\n",
    "    final_customer_df = df.join(final_customer_df, on='transaction_id', how = 'inner')\n",
    "    \n",
    "    feature_vector_udf = functions.udf(get_feature_vector_trans_type, IntegerType())\n",
    "    avg_feature_vector_udf = functions.udf(get_avg_feature_vector_trans_type, FloatType())\n",
    "    \n",
    "    transaction_modes = ['offline', 'online']\n",
    "    feature_type = ['sum','count','max', 'avg']\n",
    "    timespan = ['one_hour','six_hours','twelve_hours', 'twenty_four_hours', 'three_days', 'one_week', 'two_week', 'one_month']\n",
    "\n",
    "    for mode in transaction_modes:\n",
    "        for i in range(0,len(timespan)):\n",
    "            for j in range(0,len(feature_type)):\n",
    "                if feature_type[j]=='avg':\n",
    "                    final_customer_df = final_customer_df.withColumn(\"last_\" + timespan[i] + '_' + mode + \"_total_transaction_\" + feature_type[j],avg_feature_vector_udf(functions.col(\"results\"),functions.lit(mode),functions.lit(i)))\n",
    "                else:\n",
    "                    final_customer_df = final_customer_df.withColumn(\"last_\" + timespan[i] + '_' + mode + \"_total_transaction_\" + feature_type[j],feature_vector_udf(functions.col(\"results\"),functions.lit(mode),functions.lit(j),functions.lit(i)))\n",
    "\n",
    "    final_customer_df = final_customer_df.drop('results')\n",
    "    \n",
    "    return final_customer_df"
   ]
  },
  {
   "cell_type": "code",
   "execution_count": 5,
   "id": "owned-benchmark",
   "metadata": {},
   "outputs": [],
   "source": [
    "@rf.block\n",
    "class NonSparkPath:\n",
    "    \n",
    "    __publish__ = True\n",
    "    __label__ = \"NonSpark_path_resolver\"\n",
    "    \n",
    "    # Atomic input - csv filename relative to project space\n",
    "    ip_path: str\n",
    "    # Atomic output of type spark DataFrame.\n",
    "    op_path: rf.Output[str]\n",
    "    \n",
    "    def run(self):\n",
    "        self.op_path.put(project_space_path(self.ip_path))\n",
    "        \n",
    "        "
   ]
  },
  {
   "cell_type": "code",
   "execution_count": 6,
   "id": "interracial-privacy",
   "metadata": {},
   "outputs": [],
   "source": [
    "@rf.block\n",
    "class ReadCsvProjectSpace(SparkBlock):\n",
    "    \n",
    "    # Atomic input - csv filename relative to project space\n",
    "    filename:str\n",
    "    # Atomic output of type spark DataFrame.\n",
    "    data: rf.Output[DataFrame]\n",
    "    \n",
    "    def run(self):\n",
    "        df = self.spark.read.csv(self.filename, header = True)\n",
    "        print(\"Hello\")\n",
    "        df.printSchema()\n",
    "        self.data.put(df)\n",
    "        "
   ]
  },
  {
   "cell_type": "code",
   "execution_count": 7,
   "id": "found-german",
   "metadata": {},
   "outputs": [],
   "source": [
    "@rf.block\n",
    "class CustMercTS(SparkBlock):\n",
    "    \n",
    "    # Atomic input - csv filename relative to project space\n",
    "    ip_data: DataFrame\n",
    "    # Atomic output of type spark DataFrame.\n",
    "    customer_ts: rf.Output[DataFrame]\n",
    "    merchant_ts: rf.Output[DataFrame]\n",
    "    \n",
    "    def run(self):\n",
    "        ipd = self.ip_data\n",
    "        customer_ts = get_customer_ts(self.ip_data)\n",
    "        customer_ts.show()\n",
    "        merchant_ts = get_merchant_ts(self.ip_data)\n",
    "        merchant_ts.show()\n",
    "        self.customer_ts.put(customer_ts)\n",
    "        self.merchant_ts.put(merchant_ts)\n",
    "        "
   ]
  },
  {
   "cell_type": "code",
   "execution_count": 8,
   "id": "informational-portuguese",
   "metadata": {},
   "outputs": [],
   "source": [
    "nsp = NonSparkPath(ip_path='customer_data.csv')"
   ]
  },
  {
   "cell_type": "code",
   "execution_count": 9,
   "id": "intensive-destination",
   "metadata": {},
   "outputs": [],
   "source": [
    "rcp = ReadCsvProjectSpace(filename = nsp.op_path, config={}, source=\"\")\n",
    "# rcp.executor = SparkExecutor"
   ]
  },
  {
   "cell_type": "code",
   "execution_count": 10,
   "id": "metropolitan-cloud",
   "metadata": {},
   "outputs": [],
   "source": [
    "cm_ts = CustMercTS(ip_data = rcp.data, config={}, source=\"\")\n",
    "# cm_ts.executor = SparkExecutor"
   ]
  },
  {
   "cell_type": "code",
   "execution_count": 11,
   "id": "scenic-following",
   "metadata": {},
   "outputs": [],
   "source": [
    "pipe = rf.Pipeline('temp', targets = [cm_ts])"
   ]
  },
  {
   "cell_type": "code",
   "execution_count": 12,
   "id": "comparable-paste",
   "metadata": {},
   "outputs": [
    {
     "data": {
      "application/vnd.razorthink.interactive+pipeline+view+json": {
       "blocks": [
        {
         "class_name": "CustMercTS",
         "fullname": ".CustMercTS",
         "id": "f7c9439c-86a7-4422-8ef2-6ec52eb07d29",
         "inputs": [
          {
           "dataType": null,
           "default": null,
           "flow": "atomic",
           "help": null,
           "isdict": false,
           "islist": false,
           "label": "ip_data",
           "meta": {},
           "name": "ip_data",
           "series": false,
           "type": "DataFrame",
           "type_check": true
          },
          {
           "dataType": "dict",
           "default": {},
           "flow": "atomic",
           "help": null,
           "isdict": false,
           "islist": false,
           "label": "config",
           "meta": {},
           "name": "config",
           "series": false,
           "type": "dict",
           "type_check": true
          },
          {
           "dataType": "string",
           "default": "",
           "flow": "atomic",
           "help": null,
           "isdict": false,
           "islist": false,
           "label": "source",
           "meta": {},
           "name": "source",
           "series": false,
           "type": "str",
           "type_check": true
          }
         ],
         "outputs": [
          {
           "flow": "atomic",
           "help": null,
           "label": "customer_ts",
           "meta": {},
           "name": "customer_ts",
           "series": false,
           "type": "DataFrame",
           "type_check": true
          },
          {
           "flow": "atomic",
           "help": null,
           "label": "merchant_ts",
           "meta": {},
           "name": "merchant_ts",
           "series": false,
           "type": "DataFrame",
           "type_check": true
          }
         ],
         "overwritten": false,
         "published": false,
         "var_names": [
          "CustMercTS"
         ]
        },
        {
         "class_name": "ReadCsvProjectSpace",
         "fullname": ".ReadCsvProjectSpace",
         "id": "69afc90a-7505-4b5a-ad9a-4edfd91e3fc3",
         "inputs": [
          {
           "dataType": "string",
           "default": "",
           "flow": "atomic",
           "help": null,
           "isdict": false,
           "islist": false,
           "label": "filename",
           "meta": {},
           "name": "filename",
           "series": false,
           "type": "str",
           "type_check": true
          },
          {
           "dataType": "dict",
           "default": {},
           "flow": "atomic",
           "help": null,
           "isdict": false,
           "islist": false,
           "label": "config",
           "meta": {},
           "name": "config",
           "series": false,
           "type": "dict",
           "type_check": true
          },
          {
           "dataType": "string",
           "default": "",
           "flow": "atomic",
           "help": null,
           "isdict": false,
           "islist": false,
           "label": "source",
           "meta": {},
           "name": "source",
           "series": false,
           "type": "str",
           "type_check": true
          }
         ],
         "outputs": [
          {
           "flow": "atomic",
           "help": null,
           "label": "data",
           "meta": {},
           "name": "data",
           "series": false,
           "type": "DataFrame",
           "type_check": true
          }
         ],
         "overwritten": false,
         "published": false,
         "var_names": [
          "ReadCsvProjectSpace"
         ]
        },
        {
         "class_name": "NonSparkPath",
         "fullname": ".NonSparkPath",
         "id": "8b3f2a27-16e4-46a8-a620-7a5a3493abec",
         "inputs": [
          {
           "dataType": "string",
           "default": "",
           "flow": "atomic",
           "help": null,
           "isdict": false,
           "islist": false,
           "label": "ip_path",
           "meta": {},
           "name": "ip_path",
           "series": false,
           "type": "str",
           "type_check": true
          }
         ],
         "outputs": [
          {
           "flow": "atomic",
           "help": null,
           "label": "op_path",
           "meta": {},
           "name": "op_path",
           "series": false,
           "type": "str",
           "type_check": true
          }
         ],
         "overwritten": false,
         "published": false,
         "var_names": [
          "NonSparkPath"
         ]
        }
       ],
       "connections": [
        {
         "id": "15ca2ead-8743-42eb-a698-b0259e0b7933",
         "source": {
          "adapter": false,
          "instance_id": "ca1e7810-4bba-4e8c-bf2a-228fcb9de375",
          "name": "data"
         },
         "target": {
          "adapter": false,
          "instance_id": "588ded8a-663b-4878-848f-e52a48992bd8",
          "name": "ip_data"
         }
        },
        {
         "id": "8f7d1d50-03aa-4fc1-bbd9-fe704e753fab",
         "source": {
          "adapter": false,
          "instance_id": "14ce3cf9-194c-4efc-8313-423e8ebf3cf2",
          "name": "op_path"
         },
         "target": {
          "adapter": false,
          "instance_id": "ca1e7810-4bba-4e8c-bf2a-228fcb9de375",
          "name": "filename"
         }
        }
       ],
       "id": "4971f97a-1bdc-4722-8332-1e6ee026bcb0",
       "instances": [
        {
         "block_class": "f7c9439c-86a7-4422-8ef2-6ec52eb07d29",
         "id": "588ded8a-663b-4878-848f-e52a48992bd8",
         "name": "CustMercTS_1",
         "var_names": [
          "cm_ts"
         ]
        },
        {
         "block_class": "69afc90a-7505-4b5a-ad9a-4edfd91e3fc3",
         "id": "ca1e7810-4bba-4e8c-bf2a-228fcb9de375",
         "name": "ReadCsvProjectSpace_1",
         "var_names": [
          "rcp"
         ]
        },
        {
         "block_class": "8b3f2a27-16e4-46a8-a620-7a5a3493abec",
         "id": "14ce3cf9-194c-4efc-8313-423e8ebf3cf2",
         "name": "NonSparkPath_1",
         "var_names": [
          "nsp"
         ]
        }
       ],
       "name": "temp",
       "var_names": []
      },
      "image/svg+xml": [
       "<?xml version=\"1.0\" encoding=\"UTF-8\" standalone=\"no\"?>\n",
       "<!DOCTYPE svg PUBLIC \"-//W3C//DTD SVG 1.1//EN\"\n",
       " \"http://www.w3.org/Graphics/SVG/1.1/DTD/svg11.dtd\">\n",
       "<!-- Generated by graphviz version 2.43.0 (0)\n",
       " -->\n",
       "<!-- Title: %3 Pages: 1 -->\n",
       "<svg width=\"306pt\" height=\"210pt\"\n",
       " viewBox=\"0.00 0.00 305.86 210.00\" xmlns=\"http://www.w3.org/2000/svg\" xmlns:xlink=\"http://www.w3.org/1999/xlink\">\n",
       "<g id=\"graph0\" class=\"graph\" transform=\"scale(1 1) rotate(0) translate(4 206)\">\n",
       "<title>%3</title>\n",
       "<polygon fill=\"white\" stroke=\"transparent\" points=\"-4,4 -4,-206 301.86,-206 301.86,4 -4,4\"/>\n",
       "<!-- CustMercTS(&#39;CustMercTS_1&#39;) -->\n",
       "<g id=\"node1\" class=\"node\">\n",
       "<title>CustMercTS(&#39;CustMercTS_1&#39;)</title>\n",
       "<ellipse fill=\"none\" stroke=\"black\" cx=\"148.93\" cy=\"-18\" rx=\"92.34\" ry=\"18\"/>\n",
       "<text text-anchor=\"middle\" x=\"148.93\" y=\"-15.5\" font-family=\"Helvetica,sans-Serif\" font-size=\"10.00\">CustMercTS(&#39;CustMercTS_1&#39;)</text>\n",
       "</g>\n",
       "<!-- ReadCsvProjectSpace(&#39;ReadCsvProjectSpace_1&#39;) -->\n",
       "<g id=\"node2\" class=\"node\">\n",
       "<title>ReadCsvProjectSpace(&#39;ReadCsvProjectSpace_1&#39;)</title>\n",
       "<ellipse fill=\"none\" stroke=\"black\" cx=\"148.93\" cy=\"-101\" rx=\"148.86\" ry=\"18\"/>\n",
       "<text text-anchor=\"middle\" x=\"148.93\" y=\"-98.5\" font-family=\"Helvetica,sans-Serif\" font-size=\"10.00\">ReadCsvProjectSpace(&#39;ReadCsvProjectSpace_1&#39;)</text>\n",
       "</g>\n",
       "<!-- ReadCsvProjectSpace(&#39;ReadCsvProjectSpace_1&#39;)&#45;&gt;CustMercTS(&#39;CustMercTS_1&#39;) -->\n",
       "<g id=\"edge1\" class=\"edge\">\n",
       "<title>ReadCsvProjectSpace(&#39;ReadCsvProjectSpace_1&#39;)&#45;&gt;CustMercTS(&#39;CustMercTS_1&#39;)</title>\n",
       "<path fill=\"none\" stroke=\"black\" d=\"M148.93,-82.82C148.93,-72.19 148.93,-58.31 148.93,-46.2\"/>\n",
       "<polygon fill=\"black\" stroke=\"black\" points=\"152.43,-46.15 148.93,-36.15 145.43,-46.15 152.43,-46.15\"/>\n",
       "<text text-anchor=\"middle\" x=\"183.93\" y=\"-57\" font-family=\"Helvetica,sans-Serif\" font-size=\"10.00\">data&#45;&gt;ip_data</text>\n",
       "</g>\n",
       "<!-- NonSparkPath(&#39;NonSparkPath_1&#39;) -->\n",
       "<g id=\"node3\" class=\"node\">\n",
       "<title>NonSparkPath(&#39;NonSparkPath_1&#39;)</title>\n",
       "<ellipse fill=\"none\" stroke=\"black\" cx=\"148.93\" cy=\"-184\" rx=\"104.56\" ry=\"18\"/>\n",
       "<text text-anchor=\"middle\" x=\"148.93\" y=\"-181.5\" font-family=\"Helvetica,sans-Serif\" font-size=\"10.00\">NonSparkPath(&#39;NonSparkPath_1&#39;)</text>\n",
       "</g>\n",
       "<!-- NonSparkPath(&#39;NonSparkPath_1&#39;)&#45;&gt;ReadCsvProjectSpace(&#39;ReadCsvProjectSpace_1&#39;) -->\n",
       "<g id=\"edge2\" class=\"edge\">\n",
       "<title>NonSparkPath(&#39;NonSparkPath_1&#39;)&#45;&gt;ReadCsvProjectSpace(&#39;ReadCsvProjectSpace_1&#39;)</title>\n",
       "<path fill=\"none\" stroke=\"black\" d=\"M148.93,-165.82C148.93,-155.19 148.93,-141.31 148.93,-129.2\"/>\n",
       "<polygon fill=\"black\" stroke=\"black\" points=\"152.43,-129.15 148.93,-119.15 145.43,-129.15 152.43,-129.15\"/>\n",
       "<text text-anchor=\"middle\" x=\"195.93\" y=\"-140\" font-family=\"Helvetica,sans-Serif\" font-size=\"10.00\">op_path&#45;&gt;filename</text>\n",
       "</g>\n",
       "</g>\n",
       "</svg>\n"
      ],
      "text/plain": [
       "<razor.flow.async_pipeline.Pipeline at 0x7f141d6c4210>"
      ]
     },
     "execution_count": 12,
     "metadata": {},
     "output_type": "execute_result"
    }
   ],
   "source": [
    "pipe"
   ]
  },
  {
   "cell_type": "code",
   "execution_count": 13,
   "id": "accompanied-straight",
   "metadata": {},
   "outputs": [
    {
     "name": "stdout",
     "output_type": "stream",
     "text": [
      "log path: /tmp/tmpfidx3bor/temp\n"
     ]
    },
    {
     "data": {
      "application/vnd.razorthink.run+monitor+json": "/tmp/tmpfidx3bor/temp",
      "text/plain": [
       "<razor_tools.backend.ipython.mime.run_monitor.RunMonitor at 0x7f141d4a4350>"
      ]
     },
     "metadata": {
      "application/vnd.razorthink.run+monitor+json": {
       "run_data": {
        "apm": [
         {
          "cpu_percent": 0,
          "cpu_time": 0,
          "name": "NonSparkPath_1",
          "real_mem": 155725824,
          "time": 1616480710.5651617
         },
         {
          "cpu_percent": 0,
          "cpu_time": 0.03,
          "name": "NonSparkPath_1",
          "real_mem": 155832320,
          "time": 1616480710.6774678
         },
         {
          "cpu_percent": 0,
          "cpu_time": 0.03,
          "name": "NonSparkPath_1",
          "real_mem": 155832320,
          "time": 1616480710.7899837
         },
         {
          "cpu_percent": 0,
          "cpu_time": 0.04,
          "name": "NonSparkPath_1",
          "real_mem": 156094464,
          "time": 1616480710.9044557
         },
         {
          "cpu_percent": 0,
          "cpu_time": 0.02,
          "name": "ReadCsvProjectSpace_1",
          "real_mem": 156114944,
          "time": 1616480710.9751344
         },
         {
          "cpu_percent": 0,
          "cpu_time": 0.01,
          "name": "CustMercTS_1",
          "real_mem": 156114944,
          "time": 1616480710.9559066
         },
         {
          "cpu_percent": 196.6,
          "cpu_time": 0.1,
          "name": "CustMercTS_1",
          "real_mem": 183345152,
          "time": 1616480711.1020617
         },
         {
          "cpu_percent": 0,
          "cpu_time": 0.14,
          "name": "ReadCsvProjectSpace_1",
          "real_mem": 186449920,
          "time": 1616480711.1483493
         },
         {
          "cpu_percent": 0,
          "cpu_time": 0.24000000000000002,
          "name": "CustMercTS_1",
          "real_mem": 199311360,
          "time": 1616480711.2484584
         },
         {
          "cpu_percent": 98.3,
          "cpu_time": 0.28,
          "name": "ReadCsvProjectSpace_1",
          "real_mem": 207630336,
          "time": 1616480711.2921808
         },
         {
          "cpu_percent": 0,
          "cpu_time": 0.08,
          "name": "CustMercTS_1",
          "real_mem": 160620544,
          "time": 1616480711.3827374
         },
         {
          "cpu_percent": 98.7,
          "cpu_time": 0.12,
          "name": "ReadCsvProjectSpace_1",
          "real_mem": 176873472,
          "time": 1616480711.4155145
         },
         {
          "cpu_percent": 196.5,
          "cpu_time": 0.19,
          "name": "CustMercTS_1",
          "real_mem": 181649408,
          "time": 1616480711.5065868
         },
         {
          "cpu_percent": 0,
          "cpu_time": 0.22,
          "name": "ReadCsvProjectSpace_1",
          "real_mem": 186134528,
          "time": 1616480711.54833
         },
         {
          "cpu_percent": 196.8,
          "cpu_time": 0.36,
          "name": "CustMercTS_1",
          "real_mem": 208318464,
          "time": 1616480711.6695673
         },
         {
          "cpu_percent": 196.7,
          "cpu_time": 0.42000000000000004,
          "name": "ReadCsvProjectSpace_1",
          "real_mem": 212328448,
          "time": 1616480711.6925473
         },
         {
          "cpu_percent": 197.3,
          "cpu_time": 0.51,
          "name": "CustMercTS_1",
          "real_mem": 218275840,
          "time": 1616480711.7926288
         },
         {
          "cpu_percent": 195.2,
          "cpu_time": 0.54,
          "name": "ReadCsvProjectSpace_1",
          "real_mem": 221097984,
          "time": 1616480711.8594203
         },
         {
          "cpu_percent": 0,
          "cpu_time": 0.62,
          "name": "CustMercTS_1",
          "real_mem": 225628160,
          "time": 1616480711.9155686
         },
         {
          "cpu_percent": 196.6,
          "cpu_time": 0.6699999999999999,
          "name": "ReadCsvProjectSpace_1",
          "real_mem": 230887424,
          "time": 1616480711.9819927
         },
         {
          "cpu_percent": 98.4,
          "cpu_time": 0.73,
          "name": "CustMercTS_1",
          "real_mem": 240349184,
          "time": 1616480712.0699558
         },
         {
          "cpu_percent": 98.2,
          "cpu_time": 0.77,
          "name": "ReadCsvProjectSpace_1",
          "real_mem": 242515968,
          "time": 1616480712.1058376
         },
         {
          "cpu_percent": 98.5,
          "cpu_time": 0.89,
          "name": "CustMercTS_1",
          "real_mem": 246308864,
          "time": 1616480712.193463
         },
         {
          "cpu_percent": 96.9,
          "cpu_time": 0.94,
          "name": "ReadCsvProjectSpace_1",
          "real_mem": 248901632,
          "time": 1616480712.2714748
         },
         {
          "cpu_percent": 0,
          "cpu_time": 0.99,
          "name": "CustMercTS_1",
          "real_mem": 253108224,
          "time": 1616480712.3483853
         },
         {
          "cpu_percent": 196.8,
          "cpu_time": 1.04,
          "name": "ReadCsvProjectSpace_1",
          "real_mem": 253710336,
          "time": 1616480712.3941703
         },
         {
          "cpu_percent": 295.7,
          "cpu_time": 1.1400000000000001,
          "name": "CustMercTS_1",
          "real_mem": 254418944,
          "time": 1616480712.4707875
         },
         {
          "cpu_percent": 98.4,
          "cpu_time": 1.1900000000000002,
          "name": "ReadCsvProjectSpace_1",
          "real_mem": 255291392,
          "time": 1616480712.548354
         },
         {
          "cpu_percent": 30.9,
          "cpu_time": 1.29,
          "name": "CustMercTS_1",
          "real_mem": 256610304,
          "time": 1616480712.6483638
         },
         {
          "cpu_percent": 98.1,
          "cpu_time": 1.3199999999999998,
          "name": "ReadCsvProjectSpace_1",
          "real_mem": 256118784,
          "time": 1616480712.6705163
         },
         {
          "cpu_percent": 197,
          "cpu_time": 1.4300000000000002,
          "name": "CustMercTS_1",
          "real_mem": 257470464,
          "time": 1616480712.7716649
         },
         {
          "cpu_percent": 96.8,
          "cpu_time": 1.46,
          "name": "ReadCsvProjectSpace_1",
          "real_mem": 259764224,
          "time": 1616480712.793837
         },
         {
          "cpu_percent": 196.4,
          "cpu_time": 1.5499999999999998,
          "name": "CustMercTS_1",
          "real_mem": 271519744,
          "time": 1616480712.894736
         },
         {
          "cpu_percent": 0,
          "cpu_time": 1.58,
          "name": "ReadCsvProjectSpace_1",
          "real_mem": 271642624,
          "time": 1616480712.9171567
         },
         {
          "cpu_percent": 98.3,
          "cpu_time": 1.67,
          "name": "CustMercTS_1",
          "real_mem": 277610496,
          "time": 1616480713.0178287
         },
         {
          "cpu_percent": 96.5,
          "cpu_time": 1.7200000000000002,
          "name": "ReadCsvProjectSpace_1",
          "real_mem": 278200320,
          "time": 1616480713.0703762
         },
         {
          "cpu_percent": 0,
          "cpu_time": 1.7599999999999998,
          "name": "CustMercTS_1",
          "real_mem": 278904832,
          "time": 1616480713.141171
         },
         {
          "cpu_percent": 98.7,
          "cpu_time": 1.83,
          "name": "ReadCsvProjectSpace_1",
          "real_mem": 279728128,
          "time": 1616480713.1924732
         },
         {
          "cpu_percent": 194,
          "cpu_time": 1.9100000000000001,
          "name": "CustMercTS_1",
          "real_mem": 280313856,
          "time": 1616480713.2707229
         },
         {
          "cpu_percent": 97.9,
          "cpu_time": 1.96,
          "name": "ReadCsvProjectSpace_1",
          "real_mem": 281137152,
          "time": 1616480713.3154082
         },
         {
          "cpu_percent": 196.5,
          "cpu_time": 2.05,
          "name": "CustMercTS_1",
          "real_mem": 282009600,
          "time": 1616480713.39323
         },
         {
          "cpu_percent": 294.7,
          "cpu_time": 2.11,
          "name": "ReadCsvProjectSpace_1",
          "real_mem": 282628096,
          "time": 1616480713.4697335
         },
         {
          "cpu_percent": 197.2,
          "cpu_time": 2.1999999999999997,
          "name": "CustMercTS_1",
          "real_mem": 284053504,
          "time": 1616480713.569274
         },
         {
          "cpu_percent": 97.5,
          "cpu_time": 2.2399999999999998,
          "name": "ReadCsvProjectSpace_1",
          "real_mem": 284295168,
          "time": 1616480713.5930114
         },
         {
          "cpu_percent": 197.3,
          "cpu_time": 2.3200000000000003,
          "name": "CustMercTS_1",
          "real_mem": 285229056,
          "time": 1616480713.6919656
         },
         {
          "cpu_percent": 0,
          "cpu_time": 2.3400000000000003,
          "name": "ReadCsvProjectSpace_1",
          "real_mem": 285556736,
          "time": 1616480713.7151785
         },
         {
          "cpu_percent": 197,
          "cpu_time": 2.46,
          "name": "CustMercTS_1",
          "real_mem": 286265344,
          "time": 1616480713.8591213
         },
         {
          "cpu_percent": 196.7,
          "cpu_time": 2.49,
          "name": "ReadCsvProjectSpace_1",
          "real_mem": 286646272,
          "time": 1616480713.881092
         },
         {
          "cpu_percent": 98.4,
          "cpu_time": 2.56,
          "name": "CustMercTS_1",
          "real_mem": 288784384,
          "time": 1616480713.9825196
         },
         {
          "cpu_percent": 96.7,
          "cpu_time": 2.59,
          "name": "ReadCsvProjectSpace_1",
          "real_mem": 289116160,
          "time": 1616480714.004913
         },
         {
          "cpu_percent": 193.4,
          "cpu_time": 2.71,
          "name": "CustMercTS_1",
          "real_mem": 290144256,
          "time": 1616480714.1052525
         },
         {
          "cpu_percent": 192.5,
          "cpu_time": 2.75,
          "name": "ReadCsvProjectSpace_1",
          "real_mem": 290275328,
          "time": 1616480714.1593304
         },
         {
          "cpu_percent": 192.7,
          "cpu_time": 2.87,
          "name": "CustMercTS_1",
          "real_mem": 291655680,
          "time": 1616480714.270335
         },
         {
          "cpu_percent": 98,
          "cpu_time": 2.9000000000000004,
          "name": "ReadCsvProjectSpace_1",
          "real_mem": 292110336,
          "time": 1616480714.2925289
         },
         {
          "cpu_percent": 98.5,
          "cpu_time": 3,
          "name": "CustMercTS_1",
          "real_mem": 294014976,
          "time": 1616480714.3937259
         },
         {
          "cpu_percent": 294.6,
          "cpu_time": 3.06,
          "name": "ReadCsvProjectSpace_1",
          "real_mem": 294440960,
          "time": 1616480714.4590242
         },
         {
          "cpu_percent": 98.1,
          "cpu_time": 3.14,
          "name": "CustMercTS_1",
          "real_mem": 295133184,
          "time": 1616480714.5701928
         },
         {
          "cpu_percent": 295.4,
          "cpu_time": 3.18,
          "name": "ReadCsvProjectSpace_1",
          "real_mem": 295305216,
          "time": 1616480714.592148
         },
         {
          "cpu_percent": 195.9,
          "cpu_time": 3.31,
          "name": "CustMercTS_1",
          "real_mem": 296026112,
          "time": 1616480714.692853
         },
         {
          "cpu_percent": 197.1,
          "cpu_time": 3.3400000000000003,
          "name": "ReadCsvProjectSpace_1",
          "real_mem": 296820736,
          "time": 1616480714.7706296
         },
         {
          "cpu_percent": 294.9,
          "cpu_time": 3.46,
          "name": "CustMercTS_1",
          "real_mem": 297156608,
          "time": 1616480714.871747
         },
         {
          "cpu_percent": 193.1,
          "cpu_time": 3.5,
          "name": "ReadCsvProjectSpace_1",
          "real_mem": 297156608,
          "time": 1616480714.8944805
         },
         {
          "cpu_percent": 98.4,
          "cpu_time": 3.61,
          "name": "CustMercTS_1",
          "real_mem": 297881600,
          "time": 1616480715.0592983
         },
         {
          "cpu_percent": 294.9,
          "cpu_time": 3.68,
          "name": "ReadCsvProjectSpace_1",
          "real_mem": 297930752,
          "time": 1616480715.0824733
         },
         {
          "cpu_percent": 196.5,
          "cpu_time": 3.77,
          "name": "CustMercTS_1",
          "real_mem": 299405312,
          "time": 1616480715.1826925
         },
         {
          "cpu_percent": 0,
          "cpu_time": 3.78,
          "name": "ReadCsvProjectSpace_1",
          "real_mem": 298348544,
          "time": 1616480715.20508
         },
         {
          "cpu_percent": 294.5,
          "cpu_time": 4.12,
          "name": "CustMercTS_1",
          "real_mem": 304201728,
          "time": 1616480715.5861654
         },
         {
          "cpu_percent": 98.8,
          "cpu_time": 4.17,
          "name": "ReadCsvProjectSpace_1",
          "real_mem": 304701440,
          "time": 1616480715.6080465
         },
         {
          "cpu_percent": 96.3,
          "cpu_time": 4.39,
          "name": "CustMercTS_1",
          "real_mem": 307949568,
          "time": 1616480715.8708553
         },
         {
          "cpu_percent": 196.4,
          "cpu_time": 4.44,
          "name": "ReadCsvProjectSpace_1",
          "real_mem": 308842496,
          "time": 1616480715.8934083
         },
         {
          "cpu_percent": 196.9,
          "cpu_time": 4.75,
          "name": "ReadCsvProjectSpace_1",
          "real_mem": 313004032,
          "time": 1616480716.19135
         },
         {
          "cpu_percent": 196.9,
          "cpu_time": 4.7,
          "name": "CustMercTS_1",
          "real_mem": 312516608,
          "time": 1616480716.1692526
         },
         {
          "cpu_percent": 0,
          "cpu_time": 4.95,
          "name": "CustMercTS_1",
          "real_mem": 313163776,
          "time": 1616480716.4484274
         },
         {
          "cpu_percent": 98.4,
          "cpu_time": 4.970000000000001,
          "name": "ReadCsvProjectSpace_1",
          "real_mem": 313634816,
          "time": 1616480716.4703794
         },
         {
          "cpu_percent": 0,
          "cpu_time": 5.24,
          "name": "CustMercTS_1",
          "real_mem": 316538880,
          "time": 1616480716.7213233
         },
         {
          "cpu_percent": 196.5,
          "cpu_time": 5.28,
          "name": "ReadCsvProjectSpace_1",
          "real_mem": 318230528,
          "time": 1616480716.7701347
         },
         {
          "cpu_percent": 195.1,
          "cpu_time": 5.5,
          "name": "CustMercTS_1",
          "real_mem": 325439488,
          "time": 1616480716.9952655
         },
         {
          "cpu_percent": 98.2,
          "cpu_time": 5.5600000000000005,
          "name": "ReadCsvProjectSpace_1",
          "real_mem": 326201344,
          "time": 1616480717.0702202
         },
         {
          "cpu_percent": 195.9,
          "cpu_time": 5.78,
          "name": "CustMercTS_1",
          "real_mem": 329592832,
          "time": 1616480717.270561
         },
         {
          "cpu_percent": 294.9,
          "cpu_time": 5.88,
          "name": "ReadCsvProjectSpace_1",
          "real_mem": 330104832,
          "time": 1616480717.369962
         },
         {
          "cpu_percent": 197.2,
          "cpu_time": 6.069999999999999,
          "name": "CustMercTS_1",
          "real_mem": 331882496,
          "time": 1616480717.5695777
         },
         {
          "cpu_percent": 194.8,
          "cpu_time": 6.1499999999999995,
          "name": "ReadCsvProjectSpace_1",
          "real_mem": 332951552,
          "time": 1616480717.6704473
         },
         {
          "cpu_percent": 96.4,
          "cpu_time": 6.35,
          "name": "CustMercTS_1",
          "real_mem": 334008320,
          "time": 1616480717.8702948
         },
         {
          "cpu_percent": 192.8,
          "cpu_time": 6.470000000000001,
          "name": "ReadCsvProjectSpace_1",
          "real_mem": 335036416,
          "time": 1616480717.970184
         },
         {
          "cpu_percent": 98.2,
          "cpu_time": 6.630000000000001,
          "name": "CustMercTS_1",
          "real_mem": 342315008,
          "time": 1616480718.1696255
         },
         {
          "cpu_percent": 293.6,
          "cpu_time": 6.76,
          "name": "ReadCsvProjectSpace_1",
          "real_mem": 345366528,
          "time": 1616480718.2704473
         },
         {
          "cpu_percent": 195.5,
          "cpu_time": 6.9399999999999995,
          "name": "CustMercTS_1",
          "real_mem": 348311552,
          "time": 1616480718.4707527
         },
         {
          "cpu_percent": 98.2,
          "cpu_time": 7.04,
          "name": "ReadCsvProjectSpace_1",
          "real_mem": 348422144,
          "time": 1616480718.5695417
         },
         {
          "cpu_percent": 98.2,
          "cpu_time": 7.220000000000001,
          "name": "CustMercTS_1",
          "real_mem": 357396480,
          "time": 1616480718.7706487
         },
         {
          "cpu_percent": 98.6,
          "cpu_time": 7.32,
          "name": "ReadCsvProjectSpace_1",
          "real_mem": 363933696,
          "time": 1616480718.869615
         },
         {
          "cpu_percent": 294.1,
          "cpu_time": 7.54,
          "name": "CustMercTS_1",
          "real_mem": 366571520,
          "time": 1616480719.070822
         },
         {
          "cpu_percent": 295.9,
          "cpu_time": 7.65,
          "name": "ReadCsvProjectSpace_1",
          "real_mem": 367042560,
          "time": 1616480719.1690536
         },
         {
          "cpu_percent": 98.3,
          "cpu_time": 7.819999999999999,
          "name": "CustMercTS_1",
          "real_mem": 374067200,
          "time": 1616480719.3709862
         },
         {
          "cpu_percent": 293,
          "cpu_time": 7.92,
          "name": "ReadCsvProjectSpace_1",
          "real_mem": 376803328,
          "time": 1616480719.469772
         },
         {
          "cpu_percent": 196.9,
          "cpu_time": 8.11,
          "name": "CustMercTS_1",
          "real_mem": 378548224,
          "time": 1616480719.6696832
         },
         {
          "cpu_percent": 196.5,
          "cpu_time": 8.18,
          "name": "ReadCsvProjectSpace_1",
          "real_mem": 379478016,
          "time": 1616480719.7588863
         },
         {
          "cpu_percent": 98.5,
          "cpu_time": 8.4,
          "name": "CustMercTS_1",
          "real_mem": 384442368,
          "time": 1616480719.9692798
         },
         {
          "cpu_percent": 0,
          "cpu_time": 8.459999999999999,
          "name": "ReadCsvProjectSpace_1",
          "real_mem": 385785856,
          "time": 1616480720.0320797
         },
         {
          "cpu_percent": 294.3,
          "cpu_time": 8.709999999999999,
          "name": "CustMercTS_1",
          "real_mem": 387485696,
          "time": 1616480720.2692468
         },
         {
          "cpu_percent": 196.7,
          "cpu_time": 8.79,
          "name": "ReadCsvProjectSpace_1",
          "real_mem": 387780608,
          "time": 1616480720.3698876
         },
         {
          "cpu_percent": 197.3,
          "cpu_time": 8.98,
          "name": "CustMercTS_1",
          "real_mem": 389214208,
          "time": 1616480720.5704627
         },
         {
          "cpu_percent": 295,
          "cpu_time": 9.079999999999998,
          "name": "ReadCsvProjectSpace_1",
          "real_mem": 390660096,
          "time": 1616480720.670076
         },
         {
          "cpu_percent": 293.3,
          "cpu_time": 9.27,
          "name": "CustMercTS_1",
          "real_mem": 392548352,
          "time": 1616480720.8701148
         },
         {
          "cpu_percent": 192.8,
          "cpu_time": 9.36,
          "name": "ReadCsvProjectSpace_1",
          "real_mem": 395821056,
          "time": 1616480720.9693048
         },
         {
          "cpu_percent": 196.6,
          "cpu_time": 9.530000000000001,
          "name": "CustMercTS_1",
          "real_mem": 397766656,
          "time": 1616480721.1590307
         },
         {
          "cpu_percent": 196.7,
          "cpu_time": 9.66,
          "name": "ReadCsvProjectSpace_1",
          "real_mem": 398888960,
          "time": 1616480721.2694309
         },
         {
          "cpu_percent": 197.3,
          "cpu_time": 9.860000000000001,
          "name": "CustMercTS_1",
          "real_mem": 400715776,
          "time": 1616480721.470082
         },
         {
          "cpu_percent": 196.7,
          "cpu_time": 9.950000000000001,
          "name": "ReadCsvProjectSpace_1",
          "real_mem": 394604544,
          "time": 1616480721.5705311
         },
         {
          "cpu_percent": 197.1,
          "cpu_time": 10.14,
          "name": "CustMercTS_1",
          "real_mem": 395857920,
          "time": 1616480721.7695303
         },
         {
          "cpu_percent": 196.5,
          "cpu_time": 10.24,
          "name": "ReadCsvProjectSpace_1",
          "real_mem": 396308480,
          "time": 1616480721.8697402
         },
         {
          "cpu_percent": 288.2,
          "cpu_time": 10.44,
          "name": "CustMercTS_1",
          "real_mem": 397836288,
          "time": 1616480722.0701632
         },
         {
          "cpu_percent": 295.8,
          "cpu_time": 10.53,
          "name": "ReadCsvProjectSpace_1",
          "real_mem": 404852736,
          "time": 1616480722.1694746
         },
         {
          "cpu_percent": 197.8,
          "cpu_time": 10.72,
          "name": "CustMercTS_1",
          "real_mem": 406249472,
          "time": 1616480722.3702703
         },
         {
          "cpu_percent": 196.5,
          "cpu_time": 10.81,
          "name": "ReadCsvProjectSpace_1",
          "real_mem": 409108480,
          "time": 1616480722.469365
         },
         {
          "cpu_percent": 196.6,
          "cpu_time": 11,
          "name": "CustMercTS_1",
          "real_mem": 413102080,
          "time": 1616480722.6705976
         },
         {
          "cpu_percent": 196.6,
          "cpu_time": 11.08,
          "name": "ReadCsvProjectSpace_1",
          "real_mem": 415051776,
          "time": 1616480722.7708454
         },
         {
          "cpu_percent": 295.3,
          "cpu_time": 11.28,
          "name": "CustMercTS_1",
          "real_mem": 416227328,
          "time": 1616480722.97069
         },
         {
          "cpu_percent": 195.5,
          "cpu_time": 11.37,
          "name": "ReadCsvProjectSpace_1",
          "real_mem": 418156544,
          "time": 1616480723.069776
         },
         {
          "cpu_percent": 0,
          "cpu_time": 11.51,
          "name": "CustMercTS_1",
          "real_mem": 419065856,
          "time": 1616480723.2486029
         },
         {
          "cpu_percent": 196.60000000000002,
          "cpu_time": 11.66,
          "name": "ReadCsvProjectSpace_1",
          "real_mem": 419540992,
          "time": 1616480723.3706918
         },
         {
          "cpu_percent": 195.8,
          "cpu_time": 11.86,
          "name": "CustMercTS_1",
          "real_mem": 421031936,
          "time": 1616480723.5703342
         },
         {
          "cpu_percent": 196.5,
          "cpu_time": 11.969999999999999,
          "name": "ReadCsvProjectSpace_1",
          "real_mem": 421449728,
          "time": 1616480723.6705258
         },
         {
          "cpu_percent": 97.9,
          "cpu_time": 12.379999999999999,
          "name": "CustMercTS_1",
          "real_mem": 427520000,
          "time": 1616480724.0941932
         },
         {
          "cpu_percent": 196.7,
          "cpu_time": 12.489999999999998,
          "name": "ReadCsvProjectSpace_1",
          "real_mem": 428556288,
          "time": 1616480724.1931338
         },
         {
          "cpu_percent": 0,
          "cpu_time": 12.89,
          "name": "CustMercTS_1",
          "real_mem": 432521216,
          "time": 1616480724.618191
         },
         {
          "cpu_percent": 0,
          "cpu_time": 12.99,
          "name": "ReadCsvProjectSpace_1",
          "real_mem": 433135616,
          "time": 1616480724.7485204
         },
         {
          "cpu_percent": 195.9,
          "cpu_time": 13.430000000000001,
          "name": "CustMercTS_1",
          "real_mem": 435277824,
          "time": 1616480725.1705747
         },
         {
          "cpu_percent": 393.79999999999995,
          "cpu_time": 13.540000000000001,
          "name": "ReadCsvProjectSpace_1",
          "real_mem": 435576832,
          "time": 1616480725.2719836
         },
         {
          "cpu_percent": 292.3,
          "cpu_time": 13.96,
          "name": "CustMercTS_1",
          "real_mem": 439123968,
          "time": 1616480725.6946003
         },
         {
          "cpu_percent": 196.1,
          "cpu_time": 14.030000000000001,
          "name": "ReadCsvProjectSpace_1",
          "real_mem": 439578624,
          "time": 1616480725.7950938
         },
         {
          "cpu_percent": 98.6,
          "cpu_time": 14.47,
          "name": "CustMercTS_1",
          "real_mem": 442228736,
          "time": 1616480726.2696471
         },
         {
          "cpu_percent": 0,
          "cpu_time": 14.540000000000001,
          "name": "ReadCsvProjectSpace_1",
          "real_mem": 443203584,
          "time": 1616480726.3480384
         },
         {
          "cpu_percent": 98.5,
          "cpu_time": 15.02,
          "name": "CustMercTS_1",
          "real_mem": 445239296,
          "time": 1616480726.7933667
         },
         {
          "cpu_percent": 195.7,
          "cpu_time": 15.08,
          "name": "ReadCsvProjectSpace_1",
          "real_mem": 445501440,
          "time": 1616480726.8710332
         },
         {
          "cpu_percent": 197.1,
          "cpu_time": 15.52,
          "name": "CustMercTS_1",
          "real_mem": 448180224,
          "time": 1616480727.3168821
         },
         {
          "cpu_percent": 98.7,
          "cpu_time": 15.58,
          "name": "ReadCsvProjectSpace_1",
          "real_mem": 448458752,
          "time": 1616480727.3935847
         },
         {
          "cpu_percent": 97.9,
          "cpu_time": 16.009999999999998,
          "name": "CustMercTS_1",
          "real_mem": 450568192,
          "time": 1616480727.8401196
         },
         {
          "cpu_percent": 0,
          "cpu_time": 16.099999999999998,
          "name": "ReadCsvProjectSpace_1",
          "real_mem": 451526656,
          "time": 1616480727.916756
         },
         {
          "cpu_percent": 196.5,
          "cpu_time": 16.53,
          "name": "CustMercTS_1",
          "real_mem": 459415552,
          "time": 1616480728.370053
         },
         {
          "cpu_percent": 97.9,
          "cpu_time": 16.62,
          "name": "ReadCsvProjectSpace_1",
          "real_mem": 460181504,
          "time": 1616480728.469572
         },
         {
          "cpu_percent": 98.1,
          "cpu_time": 17.07,
          "name": "CustMercTS_1",
          "real_mem": 463261696,
          "time": 1616480728.8942204
         },
         {
          "cpu_percent": 195.9,
          "cpu_time": 17.150000000000002,
          "name": "ReadCsvProjectSpace_1",
          "real_mem": 463687680,
          "time": 1616480728.9935966
         },
         {
          "cpu_percent": 196.2,
          "cpu_time": 17.62,
          "name": "CustMercTS_1",
          "real_mem": 466448384,
          "time": 1616480729.4691558
         },
         {
          "cpu_percent": 98.1,
          "cpu_time": 17.68,
          "name": "ReadCsvProjectSpace_1",
          "real_mem": 467021824,
          "time": 1616480729.5693097
         },
         {
          "cpu_percent": 196.9,
          "cpu_time": 18.11,
          "name": "CustMercTS_1",
          "real_mem": 471060480,
          "time": 1616480729.9928758
         },
         {
          "cpu_percent": 97.7,
          "cpu_time": 18.23,
          "name": "ReadCsvProjectSpace_1",
          "real_mem": 471584768,
          "time": 1616480730.0927594
         },
         {
          "cpu_percent": 481.7,
          "cpu_time": 18.700000000000003,
          "name": "CustMercTS_1",
          "real_mem": 475316224,
          "time": 1616480730.5705366
         },
         {
          "cpu_percent": 291.9,
          "cpu_time": 18.8,
          "name": "ReadCsvProjectSpace_1",
          "real_mem": 476209152,
          "time": 1616480730.6703758
         },
         {
          "cpu_percent": 197.2,
          "cpu_time": 19.2,
          "name": "CustMercTS_1",
          "real_mem": 479051776,
          "time": 1616480731.0929642
         },
         {
          "cpu_percent": 30.8,
          "cpu_time": 19.32,
          "name": "ReadCsvProjectSpace_1",
          "real_mem": 479772672,
          "time": 1616480731.2483656
         },
         {
          "cpu_percent": 293.7,
          "cpu_time": 19.759999999999998,
          "name": "CustMercTS_1",
          "real_mem": 473157632,
          "time": 1616480731.6696026
         },
         {
          "cpu_percent": 196.1,
          "cpu_time": 19.849999999999998,
          "name": "ReadCsvProjectSpace_1",
          "real_mem": 474202112,
          "time": 1616480731.7719643
         },
         {
          "cpu_percent": 196,
          "cpu_time": 20.279999999999998,
          "name": "CustMercTS_1",
          "real_mem": 478773248,
          "time": 1616480732.193092
         },
         {
          "cpu_percent": 98.2,
          "cpu_time": 20.35,
          "name": "ReadCsvProjectSpace_1",
          "real_mem": 478982144,
          "time": 1616480732.2951381
         },
         {
          "cpu_percent": 196.5,
          "cpu_time": 20.82,
          "name": "CustMercTS_1",
          "real_mem": 481325056,
          "time": 1616480732.7706149
         },
         {
          "cpu_percent": 194,
          "cpu_time": 20.91,
          "name": "ReadCsvProjectSpace_1",
          "real_mem": 481325056,
          "time": 1616480732.8705375
         },
         {
          "cpu_percent": 294.9,
          "cpu_time": 21.36,
          "name": "CustMercTS_1",
          "real_mem": 485605376,
          "time": 1616480733.293994
         },
         {
          "cpu_percent": 294.1,
          "cpu_time": 21.490000000000002,
          "name": "ReadCsvProjectSpace_1",
          "real_mem": 487374848,
          "time": 1616480733.4589758
         },
         {
          "cpu_percent": 98.7,
          "cpu_time": 21.72,
          "name": "CustMercTS_1",
          "real_mem": 492503040,
          "time": 1616480733.8589888
         },
         {
          "cpu_percent": 98.2,
          "cpu_time": 21.79,
          "name": "ReadCsvProjectSpace_1",
          "real_mem": 492773376,
          "time": 1616480733.9816854
         },
         {
          "cpu_percent": 97.6,
          "cpu_time": 22.200000000000003,
          "name": "CustMercTS_1",
          "real_mem": 494919680,
          "time": 1616480734.4485593
         },
         {
          "cpu_percent": 293.3,
          "cpu_time": 23.24,
          "name": "CustMercTS_1",
          "real_mem": 505266176,
          "time": 1616480735.4727955
         },
         {
          "cpu_percent": 98,
          "cpu_time": 24.25,
          "name": "CustMercTS_1",
          "real_mem": 510640128,
          "time": 1616480736.4974625
         },
         {
          "cpu_percent": 293.9,
          "cpu_time": 25.28,
          "name": "CustMercTS_1",
          "real_mem": 512729088,
          "time": 1616480737.570026
         },
         {
          "cpu_percent": 196.6,
          "cpu_time": 26.259999999999998,
          "name": "CustMercTS_1",
          "real_mem": 516734976,
          "time": 1616480738.5937047
         },
         {
          "cpu_percent": 0,
          "cpu_time": 27.28,
          "name": "CustMercTS_1",
          "real_mem": 518569984,
          "time": 1616480739.6175683
         },
         {
          "cpu_percent": 196.7,
          "cpu_time": 28.310000000000002,
          "name": "CustMercTS_1",
          "real_mem": 521035776,
          "time": 1616480740.6696212
         },
         {
          "cpu_percent": 296,
          "cpu_time": 29.37,
          "name": "CustMercTS_1",
          "real_mem": 523849728,
          "time": 1616480741.7589753
         },
         {
          "cpu_percent": 196.9,
          "cpu_time": 30.37,
          "name": "CustMercTS_1",
          "real_mem": 564592640,
          "time": 1616480742.7828145
         },
         {
          "cpu_percent": 196,
          "cpu_time": 31.43,
          "name": "CustMercTS_1",
          "real_mem": 579219456,
          "time": 1616480743.8707213
         },
         {
          "cpu_percent": 97.9,
          "cpu_time": 32.44,
          "name": "CustMercTS_1",
          "real_mem": 590352384,
          "time": 1616480744.8944044
         },
         {
          "cpu_percent": 390.3,
          "cpu_time": 33.49,
          "name": "CustMercTS_1",
          "real_mem": 695255040,
          "time": 1616480746.0592883
         },
         {
          "cpu_percent": 294.6,
          "cpu_time": 34.6,
          "name": "CustMercTS_1",
          "real_mem": 733229056,
          "time": 1616480747.1696792
         },
         {
          "cpu_percent": 0,
          "cpu_time": 35.66,
          "name": "CustMercTS_1",
          "real_mem": 734183424,
          "time": 1616480748.2797065
         },
         {
          "cpu_percent": 0,
          "cpu_time": 36.74000000000001,
          "name": "CustMercTS_1",
          "real_mem": 735444992,
          "time": 1616480749.3699765
         },
         {
          "cpu_percent": 294.3,
          "cpu_time": 37.84,
          "name": "CustMercTS_1",
          "real_mem": 737255424,
          "time": 1616480750.5024314
         },
         {
          "cpu_percent": 195.4,
          "cpu_time": 38.49,
          "name": "CustMercTS_1",
          "real_mem": 738627584,
          "time": 1616480751.6487508
         },
         {
          "cpu_percent": 117,
          "cpu_time": 39.56,
          "name": "CustMercTS_1",
          "real_mem": 740061184,
          "time": 1616480752.7484226
         },
         {
          "cpu_percent": 196.5,
          "cpu_time": 40.59,
          "name": "CustMercTS_1",
          "real_mem": 742432768,
          "time": 1616480753.8489892
         },
         {
          "cpu_percent": 98.5,
          "cpu_time": 41.65,
          "name": "CustMercTS_1",
          "real_mem": 744517632,
          "time": 1616480754.9055598
         },
         {
          "cpu_percent": 37.2,
          "cpu_time": 42.7,
          "name": "CustMercTS_1",
          "real_mem": 748011520,
          "time": 1616480755.980587
         },
         {
          "cpu_percent": 294.5,
          "cpu_time": 43.82000000000001,
          "name": "CustMercTS_1",
          "real_mem": 753885184,
          "time": 1616480757.1590521
         },
         {
          "cpu_percent": 294.4,
          "cpu_time": 44.94,
          "name": "CustMercTS_1",
          "real_mem": 792408064,
          "time": 1616480758.2694447
         }
        ],
        "logs": [
         {
          "asctime": "2021-03-23 06:25:10,546",
          "created": 1616480710.5460727,
          "extra": {},
          "filename": "async_executors.py",
          "funcName": "main",
          "levelname": "DEBUG",
          "lineno": 114,
          "message": "NonSparkPath_1: started async block execution\n",
          "name": "engine.logs:NonSparkPath_1",
          "pathname": "/usr/local/lib/python3.7/dist-packages/razor/flow/async_executors.py",
          "process": 4599,
          "processName": "ForkProcess-1:1",
          "thread": 139726688614208,
          "threadName": "MainThread"
         },
         {
          "asctime": "2021-03-23 06:25:10,565",
          "created": 1616480710.5653803,
          "extra": {},
          "filename": "async_executors.py",
          "funcName": "fill_atomic_inputs",
          "levelname": "INFO",
          "lineno": 250,
          "message": "NonSparkPath_1: waiting for atomic input: ip_path",
          "name": "engine.logs:NonSparkPath_1",
          "pathname": "/usr/local/lib/python3.7/dist-packages/razor/flow/async_executors.py",
          "process": 4599,
          "processName": "ForkProcess-1:1",
          "thread": 139726688614208,
          "threadName": "MainThread"
         },
         {
          "asctime": "2021-03-23 06:25:10,565",
          "created": 1616480710.565592,
          "extra": {},
          "filename": "async_executors.py",
          "funcName": "fill_atomic_inputs",
          "levelname": "DEBUG",
          "lineno": 253,
          "message": "NonSparkPath_1: got atomic input: customer_data.csv",
          "name": "engine.logs:NonSparkPath_1",
          "pathname": "/usr/local/lib/python3.7/dist-packages/razor/flow/async_executors.py",
          "process": 4599,
          "processName": "ForkProcess-1:1",
          "thread": 139726688614208,
          "threadName": "MainThread"
         },
         {
          "asctime": "2021-03-23 06:25:10,565",
          "created": 1616480710.5656662,
          "extra": {},
          "filename": "async_executors.py",
          "funcName": "main",
          "levelname": "DEBUG",
          "lineno": 130,
          "message": "NonSparkPath_1: triggering block run",
          "name": "engine.logs:NonSparkPath_1",
          "pathname": "/usr/local/lib/python3.7/dist-packages/razor/flow/async_executors.py",
          "process": 4599,
          "processName": "ForkProcess-1:1",
          "thread": 139726688614208,
          "threadName": "MainThread"
         },
         {
          "asctime": "2021-03-23 06:25:10,904",
          "created": 1616480710.9047084,
          "extra": {},
          "filename": "async_executors.py",
          "funcName": "distribute_output_queue",
          "levelname": "DEBUG",
          "lineno": 308,
          "message": "NonSparkPath_1: ---- dist output: /home/aios/projectspace/customer_data.csv -> ('ReadCsvProjectSpace_1', 'filename')",
          "name": "engine.logs:NonSparkPath_1",
          "pathname": "/usr/local/lib/python3.7/dist-packages/razor/flow/async_executors.py",
          "process": 4599,
          "processName": "ForkProcess-1:1",
          "thread": 139726688614208,
          "threadName": "MainThread"
         },
         {
          "asctime": "2021-03-23 06:25:10,905",
          "created": 1616480710.9050944,
          "extra": {},
          "filename": "async_executors.py",
          "funcName": "main",
          "levelname": "DEBUG",
          "lineno": 147,
          "message": "NonSparkPath_1: block thread completed",
          "name": "engine.logs:NonSparkPath_1",
          "pathname": "/usr/local/lib/python3.7/dist-packages/razor/flow/async_executors.py",
          "process": 4599,
          "processName": "ForkProcess-1:1",
          "thread": 139726688614208,
          "threadName": "MainThread"
         },
         {
          "asctime": "2021-03-23 06:25:10,905",
          "created": 1616480710.9051929,
          "extra": {},
          "filename": "async_executors.py",
          "funcName": "main",
          "levelname": "DEBUG",
          "lineno": 149,
          "message": "NonSparkPath_1: block execution complete",
          "name": "engine.logs:NonSparkPath_1",
          "pathname": "/usr/local/lib/python3.7/dist-packages/razor/flow/async_executors.py",
          "process": 4599,
          "processName": "ForkProcess-1:1",
          "thread": 139726688614208,
          "threadName": "MainThread"
         },
         {
          "asctime": "2021-03-23 06:25:10,905",
          "created": 1616480710.9053206,
          "extra": {},
          "filename": "async_executors.py",
          "funcName": "distribute_output_queue",
          "levelname": "DEBUG",
          "lineno": 308,
          "message": "NonSparkPath_1: ---- dist output: b'__!\\tEndOfStream\\t!__' -> ('ReadCsvProjectSpace_1', 'filename')",
          "name": "engine.logs:NonSparkPath_1",
          "pathname": "/usr/local/lib/python3.7/dist-packages/razor/flow/async_executors.py",
          "process": 4599,
          "processName": "ForkProcess-1:1",
          "thread": 139726688614208,
          "threadName": "MainThread"
         },
         {
          "asctime": "2021-03-23 06:25:10,933",
          "created": 1616480710.9334304,
          "extra": {},
          "filename": "async_executors.py",
          "funcName": "main",
          "levelname": "DEBUG",
          "lineno": 114,
          "message": "CustMercTS_1: started async block execution\n",
          "name": "engine.logs:CustMercTS_1",
          "pathname": "/usr/local/lib/python3.7/dist-packages/razor/flow/async_executors.py",
          "process": 4608,
          "processName": "ForkProcess-1:2",
          "thread": 139726688614208,
          "threadName": "MainThread"
         },
         {
          "asctime": "2021-03-23 06:25:10,940",
          "created": 1616480710.9403799,
          "extra": {},
          "filename": "async_executors.py",
          "funcName": "main",
          "levelname": "DEBUG",
          "lineno": 114,
          "message": "ReadCsvProjectSpace_1: started async block execution\n",
          "name": "engine.logs:ReadCsvProjectSpace_1",
          "pathname": "/usr/local/lib/python3.7/dist-packages/razor/flow/async_executors.py",
          "process": 4608,
          "processName": "ForkProcess-1:2",
          "thread": 139726688614208,
          "threadName": "MainThread"
         },
         {
          "asctime": "2021-03-23 06:25:10,975",
          "created": 1616480710.9753215,
          "extra": {},
          "filename": "async_executors.py",
          "funcName": "fill_atomic_inputs",
          "levelname": "INFO",
          "lineno": 250,
          "message": "ReadCsvProjectSpace_1: waiting for atomic input: filename",
          "name": "engine.logs:ReadCsvProjectSpace_1",
          "pathname": "/usr/local/lib/python3.7/dist-packages/razor/flow/async_executors.py",
          "process": 4608,
          "processName": "ForkProcess-1:2",
          "thread": 139726688614208,
          "threadName": "MainThread"
         },
         {
          "asctime": "2021-03-23 06:25:10,956",
          "created": 1616480710.9561543,
          "extra": {},
          "filename": "async_executors.py",
          "funcName": "fill_atomic_inputs",
          "levelname": "INFO",
          "lineno": 250,
          "message": "CustMercTS_1: waiting for atomic input: ip_data",
          "name": "engine.logs:CustMercTS_1",
          "pathname": "/usr/local/lib/python3.7/dist-packages/razor/flow/async_executors.py",
          "process": 4608,
          "processName": "ForkProcess-1:2",
          "thread": 139726688614208,
          "threadName": "MainThread"
         },
         {
          "asctime": "2021-03-23 06:25:10,980",
          "created": 1616480710.9803267,
          "extra": {},
          "filename": "async_executors.py",
          "funcName": "start_input_receiver",
          "levelname": "DEBUG",
          "lineno": 173,
          "message": "NonSparkPath_1: received cmd: start_sender, (), {'out_name': 'op_path', 'target': ('ReadCsvProjectSpace_1', 'filename'), 'out_addr': 'tcp://0.0.0.0:51703', 'in_memory': None}",
          "name": "engine.logs:NonSparkPath_1",
          "pathname": "/usr/local/lib/python3.7/dist-packages/razor/flow/async_executors.py",
          "process": 4599,
          "processName": "ForkProcess-1:1",
          "thread": 139726688614208,
          "threadName": "MainThread"
         },
         {
          "asctime": "2021-03-23 06:25:10,980",
          "created": 1616480710.9807603,
          "extra": {},
          "filename": "async_executors.py",
          "funcName": "start_output_sender",
          "levelname": "DEBUG",
          "lineno": 370,
          "message": "NonSparkPath_1: got start_sender, op_path, ('ReadCsvProjectSpace_1', 'filename')",
          "name": "engine.logs:NonSparkPath_1",
          "pathname": "/usr/local/lib/python3.7/dist-packages/razor/flow/async_executors.py",
          "process": 4599,
          "processName": "ForkProcess-1:1",
          "thread": 139726688614208,
          "threadName": "MainThread"
         },
         {
          "asctime": "2021-03-23 06:25:10,981",
          "created": 1616480710.9815733,
          "extra": {},
          "filename": "async_executors.py",
          "funcName": "start_output_sender",
          "levelname": "DEBUG",
          "lineno": 388,
          "message": "NonSparkPath_1: SENT, filename, /home/aios/projectspace/customer_data.csv, ('ReadCsvProjectSpace_1', 'filename')",
          "name": "engine.logs:NonSparkPath_1",
          "pathname": "/usr/local/lib/python3.7/dist-packages/razor/flow/async_executors.py",
          "process": 4599,
          "processName": "ForkProcess-1:1",
          "thread": 139726688614208,
          "threadName": "MainThread"
         },
         {
          "asctime": "2021-03-23 06:25:10,981",
          "created": 1616480710.981951,
          "extra": {},
          "filename": "async_executors.py",
          "funcName": "start_output_sender",
          "levelname": "DEBUG",
          "lineno": 388,
          "message": "NonSparkPath_1: SENT, filename, b'__!\\tEndOfStream\\t!__', ('ReadCsvProjectSpace_1', 'filename')",
          "name": "engine.logs:NonSparkPath_1",
          "pathname": "/usr/local/lib/python3.7/dist-packages/razor/flow/async_executors.py",
          "process": 4599,
          "processName": "ForkProcess-1:1",
          "thread": 139726688614208,
          "threadName": "MainThread"
         },
         {
          "asctime": "2021-03-23 06:25:10,982",
          "created": 1616480710.9823158,
          "extra": {},
          "filename": "async_executors.py",
          "funcName": "start_output_sender",
          "levelname": "DEBUG",
          "lineno": 391,
          "message": "NonSparkPath_1: completed output: ('op_path', ('ReadCsvProjectSpace_1', 'filename'))",
          "name": "engine.logs:NonSparkPath_1",
          "pathname": "/usr/local/lib/python3.7/dist-packages/razor/flow/async_executors.py",
          "process": 4599,
          "processName": "ForkProcess-1:1",
          "thread": 139726688614208,
          "threadName": "MainThread"
         },
         {
          "asctime": "2021-03-23 06:25:10,982",
          "created": 1616480710.9824994,
          "extra": {},
          "filename": "async_executors.py",
          "funcName": "start_input_receiver",
          "levelname": "DEBUG",
          "lineno": 177,
          "message": "ReadCsvProjectSpace_1: received data: filename, /home/aios/projectspace/customer_data.csv",
          "name": "engine.logs:ReadCsvProjectSpace_1",
          "pathname": "/usr/local/lib/python3.7/dist-packages/razor/flow/async_executors.py",
          "process": 4608,
          "processName": "ForkProcess-1:2",
          "thread": 139726688614208,
          "threadName": "MainThread"
         },
         {
          "asctime": "2021-03-23 06:25:10,982",
          "created": 1616480710.9829443,
          "extra": {},
          "filename": "async_executors.py",
          "funcName": "start_input_receiver",
          "levelname": "DEBUG",
          "lineno": 177,
          "message": "ReadCsvProjectSpace_1: received data: filename, b'__!\\tEndOfStream\\t!__'",
          "name": "engine.logs:ReadCsvProjectSpace_1",
          "pathname": "/usr/local/lib/python3.7/dist-packages/razor/flow/async_executors.py",
          "process": 4608,
          "processName": "ForkProcess-1:2",
          "thread": 139726688614208,
          "threadName": "MainThread"
         },
         {
          "asctime": "2021-03-23 06:25:10,983",
          "created": 1616480710.983131,
          "extra": {},
          "filename": "async_executors.py",
          "funcName": "fill_atomic_inputs",
          "levelname": "DEBUG",
          "lineno": 253,
          "message": "ReadCsvProjectSpace_1: got atomic input: /home/aios/projectspace/customer_data.csv",
          "name": "engine.logs:ReadCsvProjectSpace_1",
          "pathname": "/usr/local/lib/python3.7/dist-packages/razor/flow/async_executors.py",
          "process": 4608,
          "processName": "ForkProcess-1:2",
          "thread": 139726688614208,
          "threadName": "MainThread"
         },
         {
          "asctime": "2021-03-23 06:25:10,992",
          "created": 1616480710.9929106,
          "extra": {},
          "filename": "async_executors.py",
          "funcName": "start_input_receiver",
          "levelname": "DEBUG",
          "lineno": 173,
          "message": "NonSparkPath_1: received cmd: terminate, (), {}",
          "name": "engine.logs:NonSparkPath_1",
          "pathname": "/usr/local/lib/python3.7/dist-packages/razor/flow/async_executors.py",
          "process": 4599,
          "processName": "ForkProcess-1:1",
          "thread": 139726688614208,
          "threadName": "MainThread"
         },
         {
          "asctime": "2021-03-23 06:25:10,983",
          "created": 1616480710.9832175,
          "extra": {},
          "filename": "async_executors.py",
          "funcName": "fill_atomic_inputs",
          "levelname": "INFO",
          "lineno": 250,
          "message": "ReadCsvProjectSpace_1: waiting for atomic input: config",
          "name": "engine.logs:ReadCsvProjectSpace_1",
          "pathname": "/usr/local/lib/python3.7/dist-packages/razor/flow/async_executors.py",
          "process": 4608,
          "processName": "ForkProcess-1:2",
          "thread": 139726688614208,
          "threadName": "MainThread"
         },
         {
          "asctime": "2021-03-23 06:25:10,983",
          "created": 1616480710.9833164,
          "extra": {},
          "filename": "async_executors.py",
          "funcName": "fill_atomic_inputs",
          "levelname": "DEBUG",
          "lineno": 253,
          "message": "ReadCsvProjectSpace_1: got atomic input: {}",
          "name": "engine.logs:ReadCsvProjectSpace_1",
          "pathname": "/usr/local/lib/python3.7/dist-packages/razor/flow/async_executors.py",
          "process": 4608,
          "processName": "ForkProcess-1:2",
          "thread": 139726688614208,
          "threadName": "MainThread"
         },
         {
          "asctime": "2021-03-23 06:25:10,983",
          "created": 1616480710.9833863,
          "extra": {},
          "filename": "async_executors.py",
          "funcName": "fill_atomic_inputs",
          "levelname": "INFO",
          "lineno": 250,
          "message": "ReadCsvProjectSpace_1: waiting for atomic input: source",
          "name": "engine.logs:ReadCsvProjectSpace_1",
          "pathname": "/usr/local/lib/python3.7/dist-packages/razor/flow/async_executors.py",
          "process": 4608,
          "processName": "ForkProcess-1:2",
          "thread": 139726688614208,
          "threadName": "MainThread"
         },
         {
          "asctime": "2021-03-23 06:25:10,983",
          "created": 1616480710.9834535,
          "extra": {},
          "filename": "async_executors.py",
          "funcName": "fill_atomic_inputs",
          "levelname": "DEBUG",
          "lineno": 253,
          "message": "ReadCsvProjectSpace_1: got atomic input: ",
          "name": "engine.logs:ReadCsvProjectSpace_1",
          "pathname": "/usr/local/lib/python3.7/dist-packages/razor/flow/async_executors.py",
          "process": 4608,
          "processName": "ForkProcess-1:2",
          "thread": 139726688614208,
          "threadName": "MainThread"
         },
         {
          "asctime": "2021-03-23 06:25:10,983",
          "created": 1616480710.983519,
          "extra": {},
          "filename": "async_executors.py",
          "funcName": "main",
          "levelname": "DEBUG",
          "lineno": 130,
          "message": "ReadCsvProjectSpace_1: triggering block run",
          "name": "engine.logs:ReadCsvProjectSpace_1",
          "pathname": "/usr/local/lib/python3.7/dist-packages/razor/flow/async_executors.py",
          "process": 4608,
          "processName": "ForkProcess-1:2",
          "thread": 139726688614208,
          "threadName": "MainThread"
         },
         {
          "asctime": "2021-03-23 06:25:33,457",
          "created": 1616480733.4576993,
          "exc_info": null,
          "extra": {},
          "filename": null,
          "full_message": null,
          "funcName": null,
          "levelname": "STDOUT",
          "lineno": null,
          "message": "Hello\n",
          "name": "block.stdout:ReadCsvProjectSpace_1",
          "pathname": null,
          "process": null,
          "processName": null,
          "thread": null,
          "threadName": null
         },
         {
          "asctime": "2021-03-23 06:25:33,473",
          "created": 1616480733.4736128,
          "exc_info": null,
          "extra": {},
          "filename": null,
          "full_message": null,
          "funcName": null,
          "levelname": "STDOUT",
          "lineno": null,
          "message": "root\n |-- transaction_id: string (nullable = true)\n |-- time: string (nullable = true)\n |-- customer_name: string (nullable = true)\n |-- card_number: string (nullable = true)\n |-- card_type: string (nullable = true)\n |-- physical_card_type: string (nullable = true)\n |-- merchant_id: string (nullable = true)\n |-- merchant_city: string (nullable = true)\n |-- merchant_state: string (nullable = true)\n |-- transaction_type: string (nullable = true)\n |-- transaction_type_sub: string (nullable = true)\n |-- amount: string (nullable = true)\n |-- product_type: string (nullable = true)\n |-- fraud_risk: string (nullable = true)\n |-- One Time Heavy Loot Score: string (nullable = true)\n |-- Drastic Transaction Change Pattern Score: string (nullable = true)\n |-- Parasitic Fraud Score: string (nullable = true)\n |-- Purchase Behavior Variation Score: string (nullable = true)\n |-- Preferred Merchant Variation Score: string (nullable = true)\n |-- Multiple Location Fraud Score: string (nullable = true)\n |-- Fraudster Merchant Score: string (nullable = true)\n |-- no_of_transactions_in_the_day: string (nullable = true)\n |-- max_transaction_amount_in_the_day: string (nullable = true)\n |-- avg_transaction_amount_in_the_day: string (nullable = true)\n |-- no_of_transactions_in_the_month: string (nullable = true)\n |-- max_transaction_amount_the_month: string (nullable = true)\n |-- avg_transaction_amount_the_month: string (nullable = true)\n |-- no_of_transactions_of_the_same_merchant_in_the_day: string (nullable = true)\n |-- max_transactions_of_the_same_merchant_in_the_day: string (nullable = true)\n |-- avg_transactions_of_the_same_merchant_in_the_day: string (nullable = true)\n |-- no_of_transactions_of_the_same_merchant_in_the_month: string (nullable = true)\n |-- max_transactions_of_the_same_merchant_in_the_month: string (nullable = true)\n |-- avg_transactions_of_the_same_merchant_in_the_month: string (nullable = true)\n\n",
          "name": "block.stdout:ReadCsvProjectSpace_1",
          "pathname": null,
          "process": null,
          "processName": null,
          "thread": null,
          "threadName": null
         },
         {
          "asctime": "2021-03-23 06:25:33,568",
          "created": 1616480733.5687068,
          "extra": {},
          "filename": "async_executors.py",
          "funcName": "distribute_output_queue",
          "levelname": "DEBUG",
          "lineno": 308,
          "message": "ReadCsvProjectSpace_1: ---- dist output: DataFrame[transaction_id: string, time: string, customer_name: string, card_number: string, card_type: string, physical_card_type: string, merchant_id: string, merchant_city: string, merchant_state: string, transaction_type: string, transaction_type_sub: string, amount: string, product_type: string, fraud_risk: string, One Time Heavy Loot Score: string, Drastic Transaction Change Pattern Score: string, Parasitic Fraud Score: string, Purchase Behavior Variation Score: string, Preferred Merchant Variation Score: string, Multiple Location Fraud Score: string, Fraudster Merchant Score: string, no_of_transactions_in_the_day: string, max_transaction_amount_in_the_day: string, avg_transaction_amount_in_the_day: string, no_of_transactions_in_the_month: string, max_transaction_amount_the_month: string, avg_transaction_amount_the_month: string, no_of_transactions_of_the_same_merchant_in_the_day: string, max_transactions_of_the_same_merchant_in_the_day: string, avg_transactions_of_the_same_merchant_in_the_day: string, no_of_transactions_of_the_same_merchant_in_the_month: string, max_transactions_of_the_same_merchant_in_the_month: string, avg_transactions_of_the_same_merchant_in_the_month: string] -> ('CustMercTS_1', 'ip_data')",
          "name": "engine.logs:ReadCsvProjectSpace_1",
          "pathname": "/usr/local/lib/python3.7/dist-packages/razor/flow/async_executors.py",
          "process": 4608,
          "processName": "ForkProcess-1:2",
          "thread": 139726688614208,
          "threadName": "MainThread"
         },
         {
          "asctime": "2021-03-23 06:25:33,569",
          "created": 1616480733.5692065,
          "extra": {},
          "filename": "async_executors.py",
          "funcName": "main",
          "levelname": "DEBUG",
          "lineno": 147,
          "message": "ReadCsvProjectSpace_1: block thread completed",
          "name": "engine.logs:ReadCsvProjectSpace_1",
          "pathname": "/usr/local/lib/python3.7/dist-packages/razor/flow/async_executors.py",
          "process": 4608,
          "processName": "ForkProcess-1:2",
          "thread": 139726688614208,
          "threadName": "MainThread"
         },
         {
          "asctime": "2021-03-23 06:25:33,569",
          "created": 1616480733.569318,
          "extra": {},
          "filename": "async_executors.py",
          "funcName": "main",
          "levelname": "DEBUG",
          "lineno": 149,
          "message": "ReadCsvProjectSpace_1: block execution complete",
          "name": "engine.logs:ReadCsvProjectSpace_1",
          "pathname": "/usr/local/lib/python3.7/dist-packages/razor/flow/async_executors.py",
          "process": 4608,
          "processName": "ForkProcess-1:2",
          "thread": 139726688614208,
          "threadName": "MainThread"
         },
         {
          "asctime": "2021-03-23 06:25:33,569",
          "created": 1616480733.5695925,
          "extra": {},
          "filename": "async_executors.py",
          "funcName": "distribute_output_queue",
          "levelname": "DEBUG",
          "lineno": 308,
          "message": "ReadCsvProjectSpace_1: ---- dist output: b'__!\\tEndOfStream\\t!__' -> ('CustMercTS_1', 'ip_data')",
          "name": "engine.logs:ReadCsvProjectSpace_1",
          "pathname": "/usr/local/lib/python3.7/dist-packages/razor/flow/async_executors.py",
          "process": 4608,
          "processName": "ForkProcess-1:2",
          "thread": 139726688614208,
          "threadName": "MainThread"
         },
         {
          "asctime": "2021-03-23 06:25:33,986",
          "created": 1616480733.986421,
          "extra": {},
          "filename": "async_executors.py",
          "funcName": "start_input_receiver",
          "levelname": "DEBUG",
          "lineno": 173,
          "message": "ReadCsvProjectSpace_1: received cmd: start_sender, (), {'out_name': 'data', 'target': ('CustMercTS_1', 'ip_data'), 'out_addr': 'tcp://0.0.0.0:60178', 'in_memory': True}",
          "name": "engine.logs:ReadCsvProjectSpace_1",
          "pathname": "/usr/local/lib/python3.7/dist-packages/razor/flow/async_executors.py",
          "process": 4608,
          "processName": "ForkProcess-1:2",
          "thread": 139726688614208,
          "threadName": "MainThread"
         },
         {
          "asctime": "2021-03-23 06:25:33,986",
          "created": 1616480733.98678,
          "extra": {},
          "filename": "async_executors.py",
          "funcName": "start_output_sender",
          "levelname": "DEBUG",
          "lineno": 370,
          "message": "ReadCsvProjectSpace_1: got start_sender, data, ('CustMercTS_1', 'ip_data')",
          "name": "engine.logs:ReadCsvProjectSpace_1",
          "pathname": "/usr/local/lib/python3.7/dist-packages/razor/flow/async_executors.py",
          "process": 4608,
          "processName": "ForkProcess-1:2",
          "thread": 139726688614208,
          "threadName": "MainThread"
         },
         {
          "asctime": "2021-03-23 06:25:33,990",
          "created": 1616480733.9909859,
          "extra": {},
          "filename": "async_executors.py",
          "funcName": "fill_atomic_inputs",
          "levelname": "DEBUG",
          "lineno": 253,
          "message": "CustMercTS_1: got atomic input: DataFrame[transaction_id: string, time: string, customer_name: string, card_number: string, card_type: string, physical_card_type: string, merchant_id: string, merchant_city: string, merchant_state: string, transaction_type: string, transaction_type_sub: string, amount: string, product_type: string, fraud_risk: string, One Time Heavy Loot Score: string, Drastic Transaction Change Pattern Score: string, Parasitic Fraud Score: string, Purchase Behavior Variation Score: string, Preferred Merchant Variation Score: string, Multiple Location Fraud Score: string, Fraudster Merchant Score: string, no_of_transactions_in_the_day: string, max_transaction_amount_in_the_day: string, avg_transaction_amount_in_the_day: string, no_of_transactions_in_the_month: string, max_transaction_amount_the_month: string, avg_transaction_amount_the_month: string, no_of_transactions_of_the_same_merchant_in_the_day: string, max_transactions_of_the_same_merchant_in_the_day: string, avg_transactions_of_the_same_merchant_in_the_day: string, no_of_transactions_of_the_same_merchant_in_the_month: string, max_transactions_of_the_same_merchant_in_the_month: string, avg_transactions_of_the_same_merchant_in_the_month: string]",
          "name": "engine.logs:CustMercTS_1",
          "pathname": "/usr/local/lib/python3.7/dist-packages/razor/flow/async_executors.py",
          "process": 4608,
          "processName": "ForkProcess-1:2",
          "thread": 139726688614208,
          "threadName": "MainThread"
         },
         {
          "asctime": "2021-03-23 06:25:33,989",
          "created": 1616480733.989088,
          "extra": {},
          "filename": "async_executors.py",
          "funcName": "start_output_sender",
          "levelname": "DEBUG",
          "lineno": 375,
          "message": "ReadCsvProjectSpace_1: SENT, ip_data, DataFrame[transaction_id: string, time: string, customer_name: string, card_number: string, card_type: string, physical_card_type: string, merchant_id: string, merchant_city: string, merchant_state: string, transaction_type: string, transaction_type_sub: string, amount: string, product_type: string, fraud_risk: string, One Time Heavy Loot Score: string, Drastic Transaction Change Pattern Score: string, Parasitic Fraud Score: string, Purchase Behavior Variation Score: string, Preferred Merchant Variation Score: string, Multiple Location Fraud Score: string, Fraudster Merchant Score: string, no_of_transactions_in_the_day: string, max_transaction_amount_in_the_day: string, avg_transaction_amount_in_the_day: string, no_of_transactions_in_the_month: string, max_transaction_amount_the_month: string, avg_transaction_amount_the_month: string, no_of_transactions_of_the_same_merchant_in_the_day: string, max_transactions_of_the_same_merchant_in_the_day: string, avg_transactions_of_the_same_merchant_in_the_day: string, no_of_transactions_of_the_same_merchant_in_the_month: string, max_transactions_of_the_same_merchant_in_the_month: string, avg_transactions_of_the_same_merchant_in_the_month: string], ('CustMercTS_1', 'ip_data')",
          "name": "engine.logs:ReadCsvProjectSpace_1",
          "pathname": "/usr/local/lib/python3.7/dist-packages/razor/flow/async_executors.py",
          "process": 4608,
          "processName": "ForkProcess-1:2",
          "thread": 139726688614208,
          "threadName": "MainThread"
         },
         {
          "asctime": "2021-03-23 06:25:34,048",
          "created": 1616480734.0483701,
          "extra": {},
          "filename": "async_executors.py",
          "funcName": "fill_atomic_inputs",
          "levelname": "INFO",
          "lineno": 250,
          "message": "CustMercTS_1: waiting for atomic input: config",
          "name": "engine.logs:CustMercTS_1",
          "pathname": "/usr/local/lib/python3.7/dist-packages/razor/flow/async_executors.py",
          "process": 4608,
          "processName": "ForkProcess-1:2",
          "thread": 139726688614208,
          "threadName": "MainThread"
         },
         {
          "asctime": "2021-03-23 06:25:33,989",
          "created": 1616480733.989286,
          "extra": {},
          "filename": "async_executors.py",
          "funcName": "start_output_sender",
          "levelname": "DEBUG",
          "lineno": 375,
          "message": "ReadCsvProjectSpace_1: SENT, ip_data, b'__!\\tEndOfStream\\t!__', ('CustMercTS_1', 'ip_data')",
          "name": "engine.logs:ReadCsvProjectSpace_1",
          "pathname": "/usr/local/lib/python3.7/dist-packages/razor/flow/async_executors.py",
          "process": 4608,
          "processName": "ForkProcess-1:2",
          "thread": 139726688614208,
          "threadName": "MainThread"
         },
         {
          "asctime": "2021-03-23 06:25:34,048",
          "created": 1616480734.0486498,
          "extra": {},
          "filename": "async_executors.py",
          "funcName": "fill_atomic_inputs",
          "levelname": "DEBUG",
          "lineno": 253,
          "message": "CustMercTS_1: got atomic input: {}",
          "name": "engine.logs:CustMercTS_1",
          "pathname": "/usr/local/lib/python3.7/dist-packages/razor/flow/async_executors.py",
          "process": 4608,
          "processName": "ForkProcess-1:2",
          "thread": 139726688614208,
          "threadName": "MainThread"
         },
         {
          "asctime": "2021-03-23 06:25:33,989",
          "created": 1616480733.9893587,
          "extra": {},
          "filename": "async_executors.py",
          "funcName": "start_output_sender",
          "levelname": "DEBUG",
          "lineno": 379,
          "message": "ReadCsvProjectSpace_1: completed output: ('data', ('CustMercTS_1', 'ip_data'))",
          "name": "engine.logs:ReadCsvProjectSpace_1",
          "pathname": "/usr/local/lib/python3.7/dist-packages/razor/flow/async_executors.py",
          "process": 4608,
          "processName": "ForkProcess-1:2",
          "thread": 139726688614208,
          "threadName": "MainThread"
         },
         {
          "asctime": "2021-03-23 06:25:34,048",
          "created": 1616480734.0487106,
          "extra": {},
          "filename": "async_executors.py",
          "funcName": "fill_atomic_inputs",
          "levelname": "INFO",
          "lineno": 250,
          "message": "CustMercTS_1: waiting for atomic input: source",
          "name": "engine.logs:CustMercTS_1",
          "pathname": "/usr/local/lib/python3.7/dist-packages/razor/flow/async_executors.py",
          "process": 4608,
          "processName": "ForkProcess-1:2",
          "thread": 139726688614208,
          "threadName": "MainThread"
         },
         {
          "asctime": "2021-03-23 06:25:34,052",
          "created": 1616480734.0520396,
          "extra": {},
          "filename": "async_executors.py",
          "funcName": "start_input_receiver",
          "levelname": "DEBUG",
          "lineno": 173,
          "message": "ReadCsvProjectSpace_1: received cmd: terminate, (), {}",
          "name": "engine.logs:ReadCsvProjectSpace_1",
          "pathname": "/usr/local/lib/python3.7/dist-packages/razor/flow/async_executors.py",
          "process": 4608,
          "processName": "ForkProcess-1:2",
          "thread": 139726688614208,
          "threadName": "MainThread"
         },
         {
          "asctime": "2021-03-23 06:25:34,048",
          "created": 1616480734.0487607,
          "extra": {},
          "filename": "async_executors.py",
          "funcName": "fill_atomic_inputs",
          "levelname": "DEBUG",
          "lineno": 253,
          "message": "CustMercTS_1: got atomic input: ",
          "name": "engine.logs:CustMercTS_1",
          "pathname": "/usr/local/lib/python3.7/dist-packages/razor/flow/async_executors.py",
          "process": 4608,
          "processName": "ForkProcess-1:2",
          "thread": 139726688614208,
          "threadName": "MainThread"
         },
         {
          "asctime": "2021-03-23 06:25:34,048",
          "created": 1616480734.0488212,
          "extra": {},
          "filename": "async_executors.py",
          "funcName": "main",
          "levelname": "DEBUG",
          "lineno": 130,
          "message": "CustMercTS_1: triggering block run",
          "name": "engine.logs:CustMercTS_1",
          "pathname": "/usr/local/lib/python3.7/dist-packages/razor/flow/async_executors.py",
          "process": 4608,
          "processName": "ForkProcess-1:2",
          "thread": 139726688614208,
          "threadName": "MainThread"
         },
         {
          "asctime": "2021-03-23 06:25:53,107",
          "created": 1616480753.1077664,
          "exc_info": null,
          "extra": {},
          "filename": null,
          "full_message": null,
          "funcName": null,
          "levelname": "STDOUT",
          "lineno": null,
          "message": "+--------------------+-------------------+-----------------+--------------------+--------------------------------------------+----------------------------------------------+--------------------------------------------+--------------------------------------------+---------------------------------------------+-----------------------------------------------+---------------------------------------------+---------------------------------------------+------------------------------------------------+--------------------------------------------------+------------------------------------------------+------------------------------------------------+-----------------------------------------------------+-------------------------------------------------------+-----------------------------------------------------+-----------------------------------------------------+----------------------------------------------+------------------------------------------------+----------------------------------------------+----------------------------------------------+--------------------------------------------+----------------------------------------------+--------------------------------------------+--------------------------------------------+--------------------------------------------+----------------------------------------------+--------------------------------------------+--------------------------------------------+---------------------------------------------+-----------------------------------------------+---------------------------------------------+---------------------------------------------+\n|      transaction_id|               time|    customer_name|         card_number|last_one_hour_total_customer_transaction_sum|last_one_hour_total_customer_transaction_count|last_one_hour_total_customer_transaction_max|last_one_hour_total_customer_transaction_avg|last_six_hours_total_customer_transaction_sum|last_six_hours_total_customer_transaction_count|last_six_hours_total_customer_transaction_max|last_six_hours_total_customer_transaction_avg|last_twelve_hours_total_customer_transaction_sum|last_twelve_hours_total_customer_transaction_count|last_twelve_hours_total_customer_transaction_max|last_twelve_hours_total_customer_transaction_avg|last_twenty_four_hours_total_customer_transaction_sum|last_twenty_four_hours_total_customer_transaction_count|last_twenty_four_hours_total_customer_transaction_max|last_twenty_four_hours_total_customer_transaction_avg|last_three_days_total_customer_transaction_sum|last_three_days_total_customer_transaction_count|last_three_days_total_customer_transaction_max|last_three_days_total_customer_transaction_avg|last_one_week_total_customer_transaction_sum|last_one_week_total_customer_transaction_count|last_one_week_total_customer_transaction_max|last_one_week_total_customer_transaction_avg|last_two_week_total_customer_transaction_sum|last_two_week_total_customer_transaction_count|last_two_week_total_customer_transaction_max|last_two_week_total_customer_transaction_avg|last_one_month_total_customer_transaction_sum|last_one_month_total_customer_transaction_count|last_one_month_total_customer_transaction_max|last_one_month_total_customer_transaction_avg|\n+--------------------+-------------------+-----------------+--------------------+--------------------------------------------+----------------------------------------------+--------------------------------------------+--------------------------------------------+---------------------------------------------+-----------------------------------------------+---------------------------------------------+---------------------------------------------+------------------------------------------------+--------------------------------------------------+------------------------------------------------+------------------------------------------------+-----------------------------------------------------+-------------------------------------------------------+-----------------------------------------------------+-----------------------------------------------------+----------------------------------------------+------------------------------------------------+----------------------------------------------+----------------------------------------------+--------------------------------------------+----------------------------------------------+--------------------------------------------+--------------------------------------------+--------------------------------------------+----------------------------------------------+--------------------------------------------+--------------------------------------------+---------------------------------------------+-----------------------------------------------+---------------------------------------------+---------------------------------------------+\n|1f67ffa2-80e7-459...|2018-03-12 02:06:00|Elizabeth Brawley|b8ad67c3-effd-442...|                                           0|                                             0|                                           0|                                         0.0|                                            0|                                              0|                                            0|                                          0.0|                                               0|                                                 0|                                               0|                                             0.0|                                                    0|                                                      0|                                                    0|                                                  0.0|                                             0|                                               0|                                             0|                                           0.0|                                           0|                                             0|                                           0|                                         0.0|                                           0|                                             0|                                           0|                                         0.0|                                            0|                                              0|                                            0|                                          0.0|\n|6fb28235-14b0-480...|2018-03-12 16:31:00|Elizabeth Brawley|dd77d1cd-1f14-4fd...|                                           0|                                             0|                                           0|                                         0.0|                                            0|                                              0|                                            0|                                          0.0|                                               0|                                                 0|                                               0|                                             0.0|                                                    0|                                                      0|                                                    0|                                                  0.0|                                             0|                                               0|                                             0|                                           0.0|                                           0|                                             0|                                           0|                                         0.0|                                           0|                                             0|                                           0|                                         0.0|                                            0|                                              0|                                            0|                                          0.0|\n|89839019-b3ec-44b...|2018-03-12 13:21:00|Elizabeth Brawley|c8c62bd1-edb5-491...|                                           0|                                             0|                                           0|                                         0.0|                                            0|                                              0|                                            0|                                          0.0|                                               0|                                                 0|                                               0|                                             0.0|                                                    0|                                                      0|                                                    0|                                                  0.0|                                             0|                                               0|                                             0|                                           0.0|                                           0|                                             0|                                           0|                                         0.0|                                           0|                                             0|                                           0|                                         0.0|                                            0|                                              0|                                            0|                                          0.0|\n|4a0923eb-3fe1-4d4...|2018-03-12 14:11:00|Elizabeth Brawley|9f9ffcd8-87bd-417...|                                           0|                                             0|                                           0|                                         0.0|                                            0|                                              0|                                            0|                                          0.0|                                               0|                                                 0|                                               0|                                             0.0|                                                    0|                                                      0|                                                    0|                                                  0.0|                                             0|                                               0|                                             0|                                           0.0|                                           0|                                             0|                                           0|                                         0.0|                                           0|                                             0|                                           0|                                         0.0|                                            0|                                              0|                                            0|                                          0.0|\n|f7243898-036a-44f...|2018-03-12 13:15:00|Elizabeth Brawley|2bf7e056-eb23-4c8...|                                           0|                                             0|                                           0|                                         0.0|                                            0|                                              0|                                            0|                                          0.0|                                               0|                                                 0|                                               0|                                             0.0|                                                    0|                                                      0|                                                    0|                                                  0.0|                                             0|                                               0|                                             0|                                           0.0|                                           0|                                             0|                                           0|                                         0.0|                                           0|                                             0|                                           0|                                         0.0|                                            0|                                              0|                                            0|                                          0.0|\n|89489648-180a-439...|2018-03-12 09:15:00|Elizabeth Brawley|801d65c4-c2af-460...|                                           0|                                             0|                                           0|                                         0.0|                                            0|                                              0|                                            0|                                          0.0|                                               0|                                                 0|                                               0|                                             0.0|                                                    0|                                                      0|                                                    0|                                                  0.0|                                             0|                                               0|                                             0|                                           0.0|                                           0|                                             0|                                           0|                                         0.0|                                           0|                                             0|                                           0|                                         0.0|                                            0|                                              0|                                            0|                                          0.0|\n|3ce2dcd5-622f-4ec...|2018-03-12 12:35:00|Elizabeth Brawley|0a27a4f4-18a8-4fd...|                                           0|                                             0|                                           0|                                         0.0|                                            0|                                              0|                                            0|                                          0.0|                                               0|                                                 0|                                               0|                                             0.0|                                                    0|                                                      0|                                                    0|                                                  0.0|                                             0|                                               0|                                             0|                                           0.0|                                           0|                                             0|                                           0|                                         0.0|                                           0|                                             0|                                           0|                                         0.0|                                            0|                                              0|                                            0|                                          0.0|\n|5b74e885-074e-4b5...|2018-03-12 16:17:00|Elizabeth Brawley|9d8a297c-2a74-495...|                                           0|                                             0|                                           0|                                         0.0|                                            0|                                              0|                                            0|                                          0.0|                                               0|                                                 0|                                               0|                                             0.0|                                                    0|                                                      0|                                                    0|                                                  0.0|                                             0|                                               0|                                             0|                                           0.0|                                           0|                                             0|                                           0|                                         0.0|                                           0|                                             0|                                           0|                                         0.0|                                            0|                                              0|                                            0|                                          0.0|\n|0598fc62-135b-4d4...|2018-03-12 18:37:00|Elizabeth Brawley|ea33bae7-c6a4-4ce...|                                           0|                                             0|                                           0|                                         0.0|                                            0|                                              0|                                            0|                                          0.0|                                               0|                                                 0|                                               0|                                             0.0|                                                    0|                                                      0|                                                    0|                                                  0.0|                                             0|                                               0|                                             0|                                           0.0|                                           0|                                             0|                                           0|                                         0.0|                                           0|                                             0|                                           0|                                         0.0|                                            0|                                              0|                                            0|                                          0.0|\n|df236dad-4980-440...|2018-03-12 18:07:00|Elizabeth Brawley|617fe136-d245-4b6...|                                           0|                                             0|                                           0|                                         0.0|                                            0|                                              0|                                            0|                                          0.0|                                               0|                                                 0|                                               0|                                             0.0|                                                    0|                                                      0|                                                    0|                                                  0.0|                                             0|                                               0|                                             0|                                           0.0|                                           0|                                             0|                                           0|                                         0.0|                                           0|                                             0|                                           0|                                         0.0|                                            0|                                              0|                                            0|                                          0.0|\n|2ede14af-9a83-4ea...|2018-03-12 22:03:00|Elizabeth Brawley|88d39e1a-24ce-467...|                                           0|                                             0|                                           0|                                         0.0|                                            0|                                              0|                                            0|                                          0.0|                                               0|                                                 0|                                               0|                                             0.0|                                                    0|                                                      0|                                                    0|                                                  0.0|                                             0|                                               0|                                             0|                                           0.0|                                           0|                                             0|                                           0|                                         0.0|                                           0|                                             0|                                           0|                                         0.0|                                            0|                                              0|                                            0|                                          0.0|\n|5675879a-f5c9-402...|2018-03-12 01:55:00|Elizabeth Brawley|345536ad-a301-43a...|                                           0|                                             0|                                           0|                                         0.0|                                            0|                                              0|                                            0|                                          0.0|                                               0|                                                 0|                                               0|                                             0.0|                                                    0|                                                      0|                                                    0|                                                  0.0|                                             0|                                               0|                                             0|                                           0.0|                                           0|                                             0|                                           0|                                         0.0|                                           0|                                             0|                                           0|                                         0.0|                                            0|                                              0|                                            0|                                          0.0|\n|7013beb5-9539-467...|2018-03-12 23:02:00|Elizabeth Brawley|5d1458d4-c617-4f8...|                                           0|                                             0|                                           0|                                         0.0|                                            0|                                              0|                                            0|                                          0.0|                                               0|                                                 0|                                               0|                                             0.0|                                                    0|                                                      0|                                                    0|                                                  0.0|                                             0|                                               0|                                             0|                                           0.0|                                           0|                                             0|                                           0|                                         0.0|                                           0|                                             0|                                           0|                                         0.0|                                            0|                                              0|                                            0|                                          0.0|\n|db95a985-150f-4ea...|2018-03-12 04:59:00|Elizabeth Brawley|3d86f91f-8f02-4cd...|                                           0|                                             0|                                           0|                                         0.0|                                            0|                                              0|                                            0|                                          0.0|                                               0|                                                 0|                                               0|                                             0.0|                                                    0|                                                      0|                                                    0|                                                  0.0|                                             0|                                               0|                                             0|                                           0.0|                                           0|                                             0|                                           0|                                         0.0|                                           0|                                             0|                                           0|                                         0.0|                                            0|                                              0|                                            0|                                          0.0|\n|26ba833c-0a1b-4dd...|2018-03-12 13:36:00|Elizabeth Brawley|c50946aa-23e4-453...|                                           0|                                             0|                                           0|                                         0.0|                                            0|                                              0|                                            0|                                          0.0|                                               0|                                                 0|                                               0|                                             0.0|                                                    0|                                                      0|                                                    0|                                                  0.0|                                             0|                                               0|                                             0|                                           0.0|                                           0|                                             0|                                           0|                                         0.0|                                           0|                                             0|                                           0|                                         0.0|                                            0|                                              0|                                            0|                                          0.0|\n|71694f34-efa6-497...|2018-03-12 09:14:00|Elizabeth Brawley|20bdbcf0-11b7-4f8...|                                           0|                                             0|                                           0|                                         0.0|                                            0|                                              0|                                            0|                                          0.0|                                               0|                                                 0|                                               0|                                             0.0|                                                    0|                                                      0|                                                    0|                                                  0.0|                                             0|                                               0|                                             0|                                           0.0|                                           0|                                             0|                                           0|                                         0.0|                                           0|                                             0|                                           0|                                         0.0|                                            0|                                              0|                                            0|                                          0.0|\n|a56756e2-3082-44d...|2018-03-12 22:58:00|Elizabeth Brawley|862d37ef-2d9a-486...|                                           0|                                             0|                                           0|                                         0.0|                                            0|                                              0|                                            0|                                          0.0|                                               0|                                                 0|                                               0|                                             0.0|                                                    0|                                                      0|                                                    0|                                                  0.0|                                             0|                                               0|                                             0|                                           0.0|                                           0|                                             0|                                           0|                                         0.0|                                           0|                                             0|                                           0|                                         0.0|                                            0|                                              0|                                            0|                                          0.0|\n|c1454e5c-8972-4ea...|2018-07-09 17:03:00|  Brandon Sturkie|65b4eda1-a440-493...|                                           0|                                             0|                                           0|                                         0.0|                                            0|                                              0|                                            0|                                          0.0|                                               0|                                                 0|                                               0|                                             0.0|                                                    0|                                                      0|                                                    0|                                                  0.0|                                             0|                                               0|                                             0|                                           0.0|                                           0|                                             0|                                           0|                                         0.0|                                           0|                                             0|                                           0|                                         0.0|                                          826|                                              4|                                          299|                                        206.5|\n|4bdd16fe-a24d-495...|2018-07-14 13:46:00|  Brandon Sturkie|65b4eda1-a440-493...|                                           0|                                             0|                                           0|                                         0.0|                                            0|                                              0|                                            0|                                          0.0|                                               0|                                                 0|                                               0|                                             0.0|                                                    0|                                                      0|                                                    0|                                                  0.0|                                             0|                                               0|                                             0|                                           0.0|                                           6|                                             1|                                           6|                                         6.0|                                           6|                                             1|                                           6|                                         6.0|                                           15|                                              2|                                            9|                                          7.5|\n|09f022fd-f9c5-46e...|2018-07-18 23:28:00|  Brandon Sturkie|65b4eda1-a440-493...|                                           0|                                             0|                                           0|                                         0.0|                                            0|                                              0|                                            0|                                          0.0|                                               0|                                                 0|                                               0|                                             0.0|                                                    0|                                                      0|                                                    0|                                                  0.0|                                             0|                                               0|                                             0|                                           0.0|                                         240|                                             1|                                         240|                                       240.0|                                         246|                                             2|                                         240|                                       123.0|                                          246|                                              2|                                          240|                                        123.0|\n+--------------------+-------------------+-----------------+--------------------+--------------------------------------------+----------------------------------------------+--------------------------------------------+--------------------------------------------+---------------------------------------------+-----------------------------------------------+---------------------------------------------+---------------------------------------------+------------------------------------------------+--------------------------------------------------+------------------------------------------------+------------------------------------------------+-----------------------------------------------------+-------------------------------------------------------+-----------------------------------------------------+-----------------------------------------------------+----------------------------------------------+------------------------------------------------+----------------------------------------------+----------------------------------------------+--------------------------------------------+----------------------------------------------+--------------------------------------------+--------------------------------------------+--------------------------------------------+----------------------------------------------+--------------------------------------------+--------------------------------------------+---------------------------------------------+-----------------------------------------------+---------------------------------------------+---------------------------------------------+\nonly showing top 20 rows\n\n",
          "name": "block.stdout:CustMercTS_1",
          "pathname": null,
          "process": null,
          "processName": null,
          "thread": null,
          "threadName": null
         },
         {
          "asctime": "2021-03-23 06:25:59,093",
          "created": 1616480759.0933642,
          "exc_info": null,
          "extra": {},
          "filename": null,
          "full_message": null,
          "funcName": null,
          "levelname": "STDOUT",
          "lineno": null,
          "message": "+--------------------+-----------+-------------+--------------+--------------------------------------------+----------------------------------------------+--------------------------------------------+--------------------------------------------+--------------------------------------------+----------------------------------------------+--------------------------------------------+--------------------------------------------+-----------------------------------------------+-------------------------------------------------+-----------------------------------------------+-----------------------------------------------+----------------------------------------------------+------------------------------------------------------+----------------------------------------------------+----------------------------------------------------+----------------------------------------------+------------------------------------------------+----------------------------------------------+----------------------------------------------+\n|      transaction_id|merchant_id|merchant_city|merchant_state|last_one_hour_total_merchant_transaction_sum|last_one_hour_total_merchant_transaction_count|last_one_hour_total_merchant_transaction_max|last_one_hour_total_merchant_transaction_avg|last_six_hour_total_merchant_transaction_sum|last_six_hour_total_merchant_transaction_count|last_six_hour_total_merchant_transaction_max|last_six_hour_total_merchant_transaction_avg|last_twelve_hour_total_merchant_transaction_sum|last_twelve_hour_total_merchant_transaction_count|last_twelve_hour_total_merchant_transaction_max|last_twelve_hour_total_merchant_transaction_avg|last_twenty_four_hour_total_merchant_transaction_sum|last_twenty_four_hour_total_merchant_transaction_count|last_twenty_four_hour_total_merchant_transaction_max|last_twenty_four_hour_total_merchant_transaction_avg|last_three_days_total_merchant_transaction_sum|last_three_days_total_merchant_transaction_count|last_three_days_total_merchant_transaction_max|last_three_days_total_merchant_transaction_avg|\n+--------------------+-----------+-------------+--------------+--------------------------------------------+----------------------------------------------+--------------------------------------------+--------------------------------------------+--------------------------------------------+----------------------------------------------+--------------------------------------------+--------------------------------------------+-----------------------------------------------+-------------------------------------------------+-----------------------------------------------+-----------------------------------------------+----------------------------------------------------+------------------------------------------------------+----------------------------------------------------+----------------------------------------------------+----------------------------------------------+------------------------------------------------+----------------------------------------------+----------------------------------------------+\n|8bbd694f-cf23-4e9...|    1000795|    Bay Shore|      New York|                                           0|                                             0|                                           0|                                         0.0|                                           0|                                             0|                                           0|                                         0.0|                                              0|                                                0|                                              0|                                            0.0|                                                   0|                                                     0|                                                   0|                                                 0.0|                                             0|                                               0|                                             0|                                           0.0|\n|c9cbbdd6-2cf7-4ec...|    1000096|         Otto|       Wyoming|                                           0|                                             0|                                           0|                                         0.0|                                           0|                                             0|                                           0|                                         0.0|                                              0|                                                0|                                              0|                                            0.0|                                                   0|                                                     0|                                                   0|                                                 0.0|                                             0|                                               0|                                             0|                                           0.0|\n|25b44c0b-c06c-40c...|    1000096|         Otto|       Wyoming|                                           0|                                             0|                                           0|                                         0.0|                                           0|                                             0|                                           0|                                         0.0|                                              0|                                                0|                                              0|                                            0.0|                                                   0|                                                     0|                                                   0|                                                 0.0|                                             0|                                               0|                                             0|                                           0.0|\n|c11e0eb9-c78f-481...|    1000096|         Otto|       Wyoming|                                           0|                                             0|                                           0|                                         0.0|                                           0|                                             0|                                           0|                                         0.0|                                              0|                                                0|                                              0|                                            0.0|                                                   0|                                                     0|                                                   0|                                                 0.0|                                             0|                                               0|                                             0|                                           0.0|\n|dbe86b45-b1e2-444...|    1000096|         Otto|       Wyoming|                                           0|                                             0|                                           0|                                         0.0|                                           0|                                             0|                                           0|                                         0.0|                                              0|                                                0|                                              0|                                            0.0|                                                   0|                                                     0|                                                   0|                                                 0.0|                                             0|                                               0|                                             0|                                           0.0|\n|72df8902-73d1-4aa...|    1000113|      Henagar|       Alabama|                                           0|                                             0|                                           0|                                         0.0|                                           0|                                             0|                                           0|                                         0.0|                                              0|                                                0|                                              0|                                            0.0|                                                   0|                                                     0|                                                   0|                                                 0.0|                                             0|                                               0|                                             0|                                           0.0|\n|8fde6027-13f1-4e1...|    1000113|      Henagar|       Alabama|                                           0|                                             0|                                           0|                                         0.0|                                           0|                                             0|                                           0|                                         0.0|                                              0|                                                0|                                              0|                                            0.0|                                                   0|                                                     0|                                                   0|                                                 0.0|                                             0|                                               0|                                             0|                                           0.0|\n|32e15d54-b117-422...|    1000113|      Henagar|       Alabama|                                           0|                                             0|                                           0|                                         0.0|                                           0|                                             0|                                           0|                                         0.0|                                              0|                                                0|                                              0|                                            0.0|                                                   0|                                                     0|                                                   0|                                                 0.0|                                             0|                                               0|                                             0|                                           0.0|\n|9764a134-9793-437...|    1000113|      Henagar|       Alabama|                                           0|                                             0|                                           0|                                         0.0|                                           0|                                             0|                                           0|                                         0.0|                                              0|                                                0|                                              0|                                            0.0|                                                   0|                                                     0|                                                   0|                                                 0.0|                                             0|                                               0|                                             0|                                           0.0|\n|141649d9-d661-430...|    1000113|      Henagar|       Alabama|                                           0|                                             0|                                           0|                                         0.0|                                           6|                                             1|                                           6|                                         6.0|                                              6|                                                1|                                              6|                                            6.0|                                                   6|                                                     1|                                                   6|                                                 6.0|                                             6|                                               1|                                             6|                                           6.0|\n|49a2e33b-706c-46c...|    1000113|      Henagar|       Alabama|                                           0|                                             0|                                           0|                                         0.0|                                           0|                                             0|                                           0|                                         0.0|                                              0|                                                0|                                              0|                                            0.0|                                                   0|                                                     0|                                                   0|                                                 0.0|                                             0|                                               0|                                             0|                                           0.0|\n|32da9c21-ad11-42c...|    1000113|      Henagar|       Alabama|                                           0|                                             0|                                           0|                                         0.0|                                           0|                                             0|                                           0|                                         0.0|                                              0|                                                0|                                              0|                                            0.0|                                                   0|                                                     0|                                                   0|                                                 0.0|                                             0|                                               0|                                             0|                                           0.0|\n|12ae5674-aad1-49c...|    1000113|      Henagar|       Alabama|                                           0|                                             0|                                           0|                                         0.0|                                           0|                                             0|                                           0|                                         0.0|                                              0|                                                0|                                              0|                                            0.0|                                                  27|                                                     2|                                                  21|                                                13.5|                                            27|                                               2|                                            21|                                          13.5|\n|9fd21a2b-18a6-46f...|    1000113|      Henagar|       Alabama|                                           0|                                             0|                                           0|                                         0.0|                                           0|                                             0|                                           0|                                         0.0|                                              0|                                                0|                                              0|                                            0.0|                                                   0|                                                     0|                                                   0|                                                 0.0|                                             0|                                               0|                                             0|                                           0.0|\n|170d76f2-41c1-441...|    1000113|      Henagar|       Alabama|                                           0|                                             0|                                           0|                                         0.0|                                           0|                                             0|                                           0|                                         0.0|                                              0|                                                0|                                              0|                                            0.0|                                                   0|                                                     0|                                                   0|                                                 0.0|                                          2516|                                               1|                                          2516|                                        2516.0|\n|e0e2f964-3b0d-4d4...|    1000113|      Henagar|       Alabama|                                           0|                                             0|                                           0|                                         0.0|                                           0|                                             0|                                           0|                                         0.0|                                              0|                                                0|                                              0|                                            0.0|                                                   0|                                                     0|                                                   0|                                                 0.0|                                             0|                                               0|                                             0|                                           0.0|\n|07a38c41-37d4-463...|    1000113|      Henagar|       Alabama|                                           0|                                             0|                                           0|                                         0.0|                                           0|                                             0|                                           0|                                         0.0|                                              0|                                                0|                                              0|                                            0.0|                                                   0|                                                     0|                                                   0|                                                 0.0|                                             0|                                               0|                                             0|                                           0.0|\n|f35cf7d7-4607-40f...|    1000113|      Henagar|       Alabama|                                           0|                                             0|                                           0|                                         0.0|                                           0|                                             0|                                           0|                                         0.0|                                              0|                                                0|                                              0|                                            0.0|                                                   0|                                                     0|                                                   0|                                                 0.0|                                             0|                                               0|                                             0|                                           0.0|\n|2608cf70-a8c0-4d5...|    1001320|       Dacoma|      Oklahoma|                                           0|                                             0|                                           0|                                         0.0|                                           0|                                             0|                                           0|                                         0.0|                                              0|                                                0|                                              0|                                            0.0|                                                   0|                                                     0|                                                   0|                                                 0.0|                                             0|                                               0|                                             0|                                           0.0|\n|26c46b37-c0ad-425...|    1000376|     Sun City|        Kansas|                                           0|                                             0|                                           0|                                         0.0|                                           0|                                             0|                                           0|                                         0.0|                                              0|                                                0|                                              0|                                            0.0|                                                   0|                                                     0|                                                   0|                                                 0.0|                                             0|                                               0|                                             0|                                           0.0|\n+--------------------+-----------+-------------+--------------+--------------------------------------------+----------------------------------------------+--------------------------------------------+--------------------------------------------+--------------------------------------------+----------------------------------------------+--------------------------------------------+--------------------------------------------+-----------------------------------------------+-------------------------------------------------+-----------------------------------------------+-----------------------------------------------+----------------------------------------------------+------------------------------------------------------+----------------------------------------------------+----------------------------------------------------+----------------------------------------------+------------------------------------------------+----------------------------------------------+----------------------------------------------+\nonly showing top 20 rows\n\n",
          "name": "block.stdout:CustMercTS_1",
          "pathname": null,
          "process": null,
          "processName": null,
          "thread": null,
          "threadName": null
         },
         {
          "asctime": "2021-03-23 06:25:59,094",
          "created": 1616480759.094808,
          "extra": {},
          "filename": "async_executors.py",
          "funcName": "main",
          "levelname": "DEBUG",
          "lineno": 147,
          "message": "CustMercTS_1: block thread completed",
          "name": "engine.logs:CustMercTS_1",
          "pathname": "/usr/local/lib/python3.7/dist-packages/razor/flow/async_executors.py",
          "process": 4608,
          "processName": "ForkProcess-1:2",
          "thread": 139726688614208,
          "threadName": "MainThread"
         },
         {
          "asctime": "2021-03-23 06:25:59,095",
          "created": 1616480759.0950396,
          "extra": {},
          "filename": "async_executors.py",
          "funcName": "main",
          "levelname": "DEBUG",
          "lineno": 149,
          "message": "CustMercTS_1: block execution complete",
          "name": "engine.logs:CustMercTS_1",
          "pathname": "/usr/local/lib/python3.7/dist-packages/razor/flow/async_executors.py",
          "process": 4608,
          "processName": "ForkProcess-1:2",
          "thread": 139726688614208,
          "threadName": "MainThread"
         },
         {
          "asctime": "2021-03-23 06:25:59,102",
          "created": 1616480759.102114,
          "extra": {},
          "filename": "async_executors.py",
          "funcName": "start_input_receiver",
          "levelname": "DEBUG",
          "lineno": 173,
          "message": "CustMercTS_1: received cmd: terminate, (), {}",
          "name": "engine.logs:CustMercTS_1",
          "pathname": "/usr/local/lib/python3.7/dist-packages/razor/flow/async_executors.py",
          "process": 4608,
          "processName": "ForkProcess-1:2",
          "thread": 139726688614208,
          "threadName": "MainThread"
         }
        ],
        "meta": {
         "block_status": {
          "CustMercTS_1": "SUCCESS",
          "NonSparkPath_1": "SUCCESS",
          "ReadCsvProjectSpace_1": "SUCCESS"
         },
         "blocks": [
          {
           "class_name": "CustMercTS",
           "fullname": ".CustMercTS",
           "id": "f7c9439c-86a7-4422-8ef2-6ec52eb07d29",
           "inputs": [
            {
             "dataType": null,
             "default": null,
             "flow": "atomic",
             "help": null,
             "isdict": false,
             "islist": false,
             "label": "ip_data",
             "meta": {},
             "name": "ip_data",
             "series": false,
             "type": "DataFrame",
             "type_check": true
            },
            {
             "dataType": "dict",
             "default": {},
             "flow": "atomic",
             "help": null,
             "isdict": false,
             "islist": false,
             "label": "config",
             "meta": {},
             "name": "config",
             "series": false,
             "type": "dict",
             "type_check": true
            },
            {
             "dataType": "string",
             "default": "",
             "flow": "atomic",
             "help": null,
             "isdict": false,
             "islist": false,
             "label": "source",
             "meta": {},
             "name": "source",
             "series": false,
             "type": "str",
             "type_check": true
            }
           ],
           "outputs": [
            {
             "flow": "atomic",
             "help": null,
             "label": "customer_ts",
             "meta": {},
             "name": "customer_ts",
             "series": false,
             "type": "DataFrame",
             "type_check": true
            },
            {
             "flow": "atomic",
             "help": null,
             "label": "merchant_ts",
             "meta": {},
             "name": "merchant_ts",
             "series": false,
             "type": "DataFrame",
             "type_check": true
            }
           ],
           "overwritten": false,
           "published": false,
           "var_names": [
            "CustMercTS"
           ]
          },
          {
           "class_name": "ReadCsvProjectSpace",
           "fullname": ".ReadCsvProjectSpace",
           "id": "69afc90a-7505-4b5a-ad9a-4edfd91e3fc3",
           "inputs": [
            {
             "dataType": "string",
             "default": "",
             "flow": "atomic",
             "help": null,
             "isdict": false,
             "islist": false,
             "label": "filename",
             "meta": {},
             "name": "filename",
             "series": false,
             "type": "str",
             "type_check": true
            },
            {
             "dataType": "dict",
             "default": {},
             "flow": "atomic",
             "help": null,
             "isdict": false,
             "islist": false,
             "label": "config",
             "meta": {},
             "name": "config",
             "series": false,
             "type": "dict",
             "type_check": true
            },
            {
             "dataType": "string",
             "default": "",
             "flow": "atomic",
             "help": null,
             "isdict": false,
             "islist": false,
             "label": "source",
             "meta": {},
             "name": "source",
             "series": false,
             "type": "str",
             "type_check": true
            }
           ],
           "outputs": [
            {
             "flow": "atomic",
             "help": null,
             "label": "data",
             "meta": {},
             "name": "data",
             "series": false,
             "type": "DataFrame",
             "type_check": true
            }
           ],
           "overwritten": false,
           "published": false,
           "var_names": [
            "ReadCsvProjectSpace"
           ]
          },
          {
           "class_name": "NonSparkPath",
           "fullname": ".NonSparkPath",
           "id": "8b3f2a27-16e4-46a8-a620-7a5a3493abec",
           "inputs": [
            {
             "dataType": "string",
             "default": "",
             "flow": "atomic",
             "help": null,
             "isdict": false,
             "islist": false,
             "label": "ip_path",
             "meta": {},
             "name": "ip_path",
             "series": false,
             "type": "str",
             "type_check": true
            }
           ],
           "outputs": [
            {
             "flow": "atomic",
             "help": null,
             "label": "op_path",
             "meta": {},
             "name": "op_path",
             "series": false,
             "type": "str",
             "type_check": true
            }
           ],
           "overwritten": false,
           "published": false,
           "var_names": [
            "NonSparkPath"
           ]
          }
         ],
         "connections": [
          {
           "id": "15ca2ead-8743-42eb-a698-b0259e0b7933",
           "source": {
            "adapter": false,
            "instance_id": "ca1e7810-4bba-4e8c-bf2a-228fcb9de375",
            "name": "data"
           },
           "target": {
            "adapter": false,
            "instance_id": "588ded8a-663b-4878-848f-e52a48992bd8",
            "name": "ip_data"
           }
          },
          {
           "id": "8f7d1d50-03aa-4fc1-bbd9-fe704e753fab",
           "source": {
            "adapter": false,
            "instance_id": "14ce3cf9-194c-4efc-8313-423e8ebf3cf2",
            "name": "op_path"
           },
           "target": {
            "adapter": false,
            "instance_id": "ca1e7810-4bba-4e8c-bf2a-228fcb9de375",
            "name": "filename"
           }
          }
         ],
         "end": 1616480759.151373,
         "id": "4971f97a-1bdc-4722-8332-1e6ee026bcb0",
         "instances": [
          {
           "block_class": "f7c9439c-86a7-4422-8ef2-6ec52eb07d29",
           "id": "588ded8a-663b-4878-848f-e52a48992bd8",
           "name": "CustMercTS_1",
           "var_names": [
            "cm_ts"
           ]
          },
          {
           "block_class": "69afc90a-7505-4b5a-ad9a-4edfd91e3fc3",
           "id": "ca1e7810-4bba-4e8c-bf2a-228fcb9de375",
           "name": "ReadCsvProjectSpace_1",
           "var_names": [
            "rcp"
           ]
          },
          {
           "block_class": "8b3f2a27-16e4-46a8-a620-7a5a3493abec",
           "id": "14ce3cf9-194c-4efc-8313-423e8ebf3cf2",
           "name": "NonSparkPath_1",
           "var_names": [
            "nsp"
           ]
          }
         ],
         "log_level": 20,
         "name": "temp",
         "start": 1616480710.5305989,
         "status": "SUCCESS",
         "system_logs": false,
         "var_names": []
        },
        "metrics": {},
        "runtime": {
         "CustMercTS_1": {
          "end": 1616480759.0992994,
          "load": 1616480710.9073696,
          "start": 1616480710.9263477
         },
         "NonSparkPath_1": {
          "end": 1616480710.985338,
          "load": 1616480710.5326295,
          "start": 1616480710.540246
         },
         "ReadCsvProjectSpace_1": {
          "end": 1616480733.99079,
          "load": 1616480710.9073696,
          "start": 1616480710.9263477
         }
        }
       },
       "store_in_notebook": true
      }
     },
     "output_type": "display_data"
    },
    {
     "data": {
      "text/plain": [
       "{}"
      ]
     },
     "execution_count": 13,
     "metadata": {},
     "output_type": "execute_result"
    }
   ],
   "source": [
    "pipe.execute()"
   ]
  },
  {
   "cell_type": "code",
   "execution_count": null,
   "id": "nervous-variable",
   "metadata": {},
   "outputs": [],
   "source": []
  },
  {
   "cell_type": "code",
   "execution_count": null,
   "id": "preliminary-throat",
   "metadata": {},
   "outputs": [],
   "source": []
  }
 ],
 "metadata": {
  "kernelspec": {
   "display_name": "Python 3",
   "language": "python",
   "name": "python3"
  },
  "language_info": {
   "codemirror_mode": {
    "name": "ipython",
    "version": 3
   },
   "file_extension": ".py",
   "mimetype": "text/x-python",
   "name": "python",
   "nbconvert_exporter": "python",
   "pygments_lexer": "ipython3",
   "version": "3.7.10"
  }
 },
 "nbformat": 4,
 "nbformat_minor": 5
}
