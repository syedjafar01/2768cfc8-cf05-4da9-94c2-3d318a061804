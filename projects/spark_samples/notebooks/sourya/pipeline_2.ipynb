{
 "cells": [
  {
   "cell_type": "code",
   "execution_count": 13,
   "id": "primary-aerospace",
   "metadata": {},
   "outputs": [],
   "source": [
    "import razor\n",
    "import razor.flow as rf\n",
    "from razor import api\n",
    "from razor.flow.spark import SparkBlock, SparkExecutor\n",
    "import typing as t"
   ]
  },
  {
   "cell_type": "code",
   "execution_count": 14,
   "id": "fiscal-pillow",
   "metadata": {},
   "outputs": [],
   "source": [
    "import os\n",
    "from datetime import datetime, timedelta\n",
    "from pyspark.sql import SparkSession, functions\n",
    "from pyspark.sql.dataframe import DataFrame\n",
    "from datetime import datetime, timedelta\n",
    "from dateutil.relativedelta import relativedelta"
   ]
  },
  {
   "cell_type": "code",
   "execution_count": 15,
   "id": "ambient-joseph",
   "metadata": {},
   "outputs": [],
   "source": [
    "def project_space_path(path):\n",
    "    ps = api.datasources('Project Space')\n",
    "    return os.path.join(ps.abspath(), path)\n"
   ]
  },
  {
   "cell_type": "code",
   "execution_count": 4,
   "id": "sudden-israel",
   "metadata": {},
   "outputs": [],
   "source": [
    "@rf.block\n",
    "class NonSparkPath:\n",
    "    # Atomic input - csv filename relative to project space\n",
    "    ip_path: str\n",
    "    selected_cols: rf.Output[t.Any]\n",
    "    # Atomic output of type spark DataFrame.\n",
    "    op_path: rf.Output[str]\n",
    "    def run(self):\n",
    "        self.op_path.put(project_space_path(self.ip_path))\n",
    "        "
   ]
  },
  {
   "cell_type": "code",
   "execution_count": 5,
   "id": "third-encounter",
   "metadata": {},
   "outputs": [],
   "source": [
    "nsp = NonSparkPath(ip_path='customer_data.csv')"
   ]
  },
  {
   "cell_type": "code",
   "execution_count": 6,
   "id": "external-radius",
   "metadata": {},
   "outputs": [
    {
     "data": {
      "text/plain": [
       "{'op_path': '/home/aios/projectspace/customer_data.csv'}"
      ]
     },
     "execution_count": 6,
     "metadata": {},
     "output_type": "execute_result"
    }
   ],
   "source": [
    "nsp.execute()"
   ]
  },
  {
   "cell_type": "code",
   "execution_count": 7,
   "id": "cross-wallpaper",
   "metadata": {},
   "outputs": [],
   "source": [
    "@rf.block\n",
    "class ReadCsvProjectSpace(SparkBlock):\n",
    "    filename:str\n",
    "    data: rf.Output[DataFrame]\n",
    "    \n",
    "    def run(self):\n",
    "        df = self.spark.read.csv(self.filename, header = True)\n",
    "        print(\"Data Schema\")\n",
    "        df.printSchema()\n",
    "        self.data.put(df)\n",
    "        \n",
    "\n",
    "@rf.block\n",
    "class SelectData(SparkBlock):\n",
    "    filename: str\n",
    "    wanted_cols: t.Any\n",
    "    data: rf.Output[DataFrame]\n",
    "    \n",
    "    def run(self):\n",
    "        df = self.spark.read.csv(self.filename, header = True)\n",
    "        df = df.select(*wanted_cols)\n",
    "        self.data.put(df)\n",
    "        \n",
    "        \n",
    "        \n",
    "        \n",
    "        "
   ]
  },
  {
   "cell_type": "code",
   "execution_count": null,
   "id": "sustainable-excerpt",
   "metadata": {},
   "outputs": [],
   "source": []
  },
  {
   "cell_type": "code",
   "execution_count": null,
   "id": "dangerous-australia",
   "metadata": {},
   "outputs": [],
   "source": [
    "@inputs.atomic.generic('df')\n",
    "@outputs.atomic.generic('output_df')\n",
    "class Dropna(SparkBlock):\n",
    "    def run(self, df,output_df):\n",
    "        \n",
    "        df = df.dropna()\n",
    "        \n",
    "        output_df.put(df)"
   ]
  },
  {
   "cell_type": "code",
   "execution_count": 8,
   "id": "julian-theater",
   "metadata": {},
   "outputs": [],
   "source": [
    "rcp = ReadCsvProjectSpace(filename = nsp.op_path, config={}, source=\"\")\n",
    "rcp.executor = rf.ProcessExecutor"
   ]
  },
  {
   "cell_type": "code",
   "execution_count": 9,
   "id": "south-submission",
   "metadata": {},
   "outputs": [],
   "source": [
    "rcp.execute()"
   ]
  },
  {
   "cell_type": "code",
   "execution_count": 10,
   "id": "victorian-sally",
   "metadata": {},
   "outputs": [],
   "source": [
    "pipe = rf.Pipeline(targets = [rcp])"
   ]
  },
  {
   "cell_type": "code",
   "execution_count": 11,
   "id": "protected-screening",
   "metadata": {},
   "outputs": [
    {
     "data": {
      "application/vnd.razorthink.interactive+pipeline+view+json": {
       "blocks": [
        {
         "class_name": "ReadCsvProjectSpace",
         "fullname": ".ReadCsvProjectSpace",
         "id": "497589fe-0a83-4b00-a5f7-282deb8b23d4",
         "inputs": [
          {
           "dataType": "string",
           "default": "",
           "flow": "atomic",
           "help": null,
           "isdict": false,
           "islist": false,
           "label": "filename",
           "meta": {},
           "name": "filename",
           "series": false,
           "type": "str",
           "type_check": true
          },
          {
           "dataType": "dict",
           "default": {},
           "flow": "atomic",
           "help": null,
           "isdict": false,
           "islist": false,
           "label": "config",
           "meta": {},
           "name": "config",
           "series": false,
           "type": "dict",
           "type_check": true
          },
          {
           "dataType": "string",
           "default": "",
           "flow": "atomic",
           "help": null,
           "isdict": false,
           "islist": false,
           "label": "source",
           "meta": {},
           "name": "source",
           "series": false,
           "type": "str",
           "type_check": true
          }
         ],
         "outputs": [
          {
           "flow": "atomic",
           "help": null,
           "label": "data",
           "meta": {},
           "name": "data",
           "series": false,
           "type": "DataFrame",
           "type_check": true
          }
         ],
         "overwritten": false,
         "published": false,
         "var_names": [
          "ReadCsvProjectSpace"
         ]
        },
        {
         "class_name": "NonSparkPath",
         "fullname": ".NonSparkPath",
         "id": "a8032797-8ee3-4637-b217-ff5358129c0c",
         "inputs": [
          {
           "dataType": "string",
           "default": "",
           "flow": "atomic",
           "help": null,
           "isdict": false,
           "islist": false,
           "label": "ip_path",
           "meta": {},
           "name": "ip_path",
           "series": false,
           "type": "str",
           "type_check": true
          }
         ],
         "outputs": [
          {
           "flow": "atomic",
           "help": null,
           "label": "op_path",
           "meta": {},
           "name": "op_path",
           "series": false,
           "type": "str",
           "type_check": true
          }
         ],
         "overwritten": false,
         "published": false,
         "var_names": [
          "NonSparkPath"
         ]
        }
       ],
       "connections": [
        {
         "id": "7301d348-99d9-4011-84eb-8629382b35e3",
         "source": {
          "adapter": false,
          "instance_id": "f2b87551-7902-48d0-8a97-280df3df3195",
          "name": "op_path"
         },
         "target": {
          "adapter": false,
          "instance_id": "e432ca39-89e3-4c02-ab08-ac2333eeecc1",
          "name": "filename"
         }
        }
       ],
       "id": "65fceaf6-9be8-460b-a2db-91c7c42af53f",
       "instances": [
        {
         "block_class": "497589fe-0a83-4b00-a5f7-282deb8b23d4",
         "id": "e432ca39-89e3-4c02-ab08-ac2333eeecc1",
         "name": "ReadCsvProjectSpace_1",
         "var_names": [
          "rcp"
         ]
        },
        {
         "block_class": "a8032797-8ee3-4637-b217-ff5358129c0c",
         "id": "f2b87551-7902-48d0-8a97-280df3df3195",
         "name": "NonSparkPath_1",
         "var_names": [
          "nsp"
         ]
        }
       ],
       "name": "Pipeline_1",
       "var_names": []
      },
      "image/svg+xml": [
       "<?xml version=\"1.0\" encoding=\"UTF-8\" standalone=\"no\"?>\n",
       "<!DOCTYPE svg PUBLIC \"-//W3C//DTD SVG 1.1//EN\"\n",
       " \"http://www.w3.org/Graphics/SVG/1.1/DTD/svg11.dtd\">\n",
       "<!-- Generated by graphviz version 2.43.0 (0)\n",
       " -->\n",
       "<!-- Title: %3 Pages: 1 -->\n",
       "<svg width=\"306pt\" height=\"127pt\"\n",
       " viewBox=\"0.00 0.00 305.86 127.00\" xmlns=\"http://www.w3.org/2000/svg\" xmlns:xlink=\"http://www.w3.org/1999/xlink\">\n",
       "<g id=\"graph0\" class=\"graph\" transform=\"scale(1 1) rotate(0) translate(4 123)\">\n",
       "<title>%3</title>\n",
       "<polygon fill=\"white\" stroke=\"transparent\" points=\"-4,4 -4,-123 301.86,-123 301.86,4 -4,4\"/>\n",
       "<!-- ReadCsvProjectSpace(&#39;ReadCsvProjectSpace_1&#39;) -->\n",
       "<g id=\"node1\" class=\"node\">\n",
       "<title>ReadCsvProjectSpace(&#39;ReadCsvProjectSpace_1&#39;)</title>\n",
       "<ellipse fill=\"none\" stroke=\"black\" cx=\"148.93\" cy=\"-18\" rx=\"148.86\" ry=\"18\"/>\n",
       "<text text-anchor=\"middle\" x=\"148.93\" y=\"-15.5\" font-family=\"Helvetica,sans-Serif\" font-size=\"10.00\">ReadCsvProjectSpace(&#39;ReadCsvProjectSpace_1&#39;)</text>\n",
       "</g>\n",
       "<!-- NonSparkPath(&#39;NonSparkPath_1&#39;) -->\n",
       "<g id=\"node2\" class=\"node\">\n",
       "<title>NonSparkPath(&#39;NonSparkPath_1&#39;)</title>\n",
       "<ellipse fill=\"none\" stroke=\"black\" cx=\"148.93\" cy=\"-101\" rx=\"104.56\" ry=\"18\"/>\n",
       "<text text-anchor=\"middle\" x=\"148.93\" y=\"-98.5\" font-family=\"Helvetica,sans-Serif\" font-size=\"10.00\">NonSparkPath(&#39;NonSparkPath_1&#39;)</text>\n",
       "</g>\n",
       "<!-- NonSparkPath(&#39;NonSparkPath_1&#39;)&#45;&gt;ReadCsvProjectSpace(&#39;ReadCsvProjectSpace_1&#39;) -->\n",
       "<g id=\"edge1\" class=\"edge\">\n",
       "<title>NonSparkPath(&#39;NonSparkPath_1&#39;)&#45;&gt;ReadCsvProjectSpace(&#39;ReadCsvProjectSpace_1&#39;)</title>\n",
       "<path fill=\"none\" stroke=\"black\" d=\"M148.93,-82.82C148.93,-72.19 148.93,-58.31 148.93,-46.2\"/>\n",
       "<polygon fill=\"black\" stroke=\"black\" points=\"152.43,-46.15 148.93,-36.15 145.43,-46.15 152.43,-46.15\"/>\n",
       "<text text-anchor=\"middle\" x=\"195.93\" y=\"-57\" font-family=\"Helvetica,sans-Serif\" font-size=\"10.00\">op_path&#45;&gt;filename</text>\n",
       "</g>\n",
       "</g>\n",
       "</svg>\n"
      ],
      "text/plain": [
       "<razor.flow.async_pipeline.Pipeline at 0x7f4aae8fdf10>"
      ]
     },
     "execution_count": 11,
     "metadata": {},
     "output_type": "execute_result"
    }
   ],
   "source": [
    "pipe"
   ]
  },
  {
   "cell_type": "code",
   "execution_count": 12,
   "id": "informative-wound",
   "metadata": {},
   "outputs": [
    {
     "name": "stdout",
     "output_type": "stream",
     "text": [
      "log path: /tmp/tmp6lsqajd7/Pipeline_1\n"
     ]
    },
    {
     "data": {
      "application/vnd.razorthink.run+monitor+json": "/tmp/tmp6lsqajd7/Pipeline_1",
      "text/plain": [
       "<razor_tools.backend.ipython.mime.run_monitor.RunMonitor at 0x7f4aae717390>"
      ]
     },
     "metadata": {
      "application/vnd.razorthink.run+monitor+json": {
       "run_data": {
        "apm": [
         {
          "cpu_percent": 0,
          "cpu_time": 0.01,
          "name": "NonSparkPath_1",
          "real_mem": 154439680,
          "time": 1616413320.6486468
         },
         {
          "cpu_percent": 0,
          "cpu_time": 0.03,
          "name": "NonSparkPath_1",
          "real_mem": 154607616,
          "time": 1616413320.761159
         },
         {
          "cpu_percent": 0,
          "cpu_time": 0.01,
          "name": "ReadCsvProjectSpace_1",
          "real_mem": 154775552,
          "time": 1616413320.8694701
         },
         {
          "cpu_percent": 0,
          "cpu_time": 0.05,
          "name": "NonSparkPath_1",
          "real_mem": 155041792,
          "time": 1616413320.8730354
         },
         {
          "cpu_percent": 97.9,
          "cpu_time": 0.12000000000000001,
          "name": "ReadCsvProjectSpace_1",
          "real_mem": 183762944,
          "time": 1616413321.0147793
         },
         {
          "cpu_percent": 295,
          "cpu_time": 0.36,
          "name": "ReadCsvProjectSpace_1",
          "real_mem": 211005440,
          "time": 1616413321.159717
         },
         {
          "cpu_percent": 195.9,
          "cpu_time": 0.16999999999999998,
          "name": "ReadCsvProjectSpace_1",
          "real_mem": 180711424,
          "time": 1616413321.2827528
         },
         {
          "cpu_percent": 295.6,
          "cpu_time": 0.42,
          "name": "ReadCsvProjectSpace_1",
          "real_mem": 212553728,
          "time": 1616413321.4055753
         },
         {
          "cpu_percent": 196.6,
          "cpu_time": 0.65,
          "name": "ReadCsvProjectSpace_1",
          "real_mem": 228220928,
          "time": 1616413321.5282598
         },
         {
          "cpu_percent": 294.9,
          "cpu_time": 0.8300000000000001,
          "name": "ReadCsvProjectSpace_1",
          "real_mem": 240107520,
          "time": 1616413321.651054
         },
         {
          "cpu_percent": 98.1,
          "cpu_time": 0.99,
          "name": "ReadCsvProjectSpace_1",
          "real_mem": 242409472,
          "time": 1616413321.77406
         },
         {
          "cpu_percent": 293.1,
          "cpu_time": 1.19,
          "name": "ReadCsvProjectSpace_1",
          "real_mem": 247451648,
          "time": 1616413321.8969133
         },
         {
          "cpu_percent": 98.2,
          "cpu_time": 1.3900000000000001,
          "name": "ReadCsvProjectSpace_1",
          "real_mem": 262291456,
          "time": 1616413322.020167
         },
         {
          "cpu_percent": 194.7,
          "cpu_time": 1.57,
          "name": "ReadCsvProjectSpace_1",
          "real_mem": 269369344,
          "time": 1616413322.143831
         },
         {
          "cpu_percent": 98.1,
          "cpu_time": 1.74,
          "name": "ReadCsvProjectSpace_1",
          "real_mem": 279752704,
          "time": 1616413322.2679663
         },
         {
          "cpu_percent": 97.8,
          "cpu_time": 1.96,
          "name": "ReadCsvProjectSpace_1",
          "real_mem": 288137216,
          "time": 1616413322.390804
         },
         {
          "cpu_percent": 196,
          "cpu_time": 2.1999999999999997,
          "name": "ReadCsvProjectSpace_1",
          "real_mem": 291061760,
          "time": 1616413322.5133913
         },
         {
          "cpu_percent": 275.2,
          "cpu_time": 2.43,
          "name": "ReadCsvProjectSpace_1",
          "real_mem": 299077632,
          "time": 1616413322.637076
         },
         {
          "cpu_percent": 97.2,
          "cpu_time": 2.61,
          "name": "ReadCsvProjectSpace_1",
          "real_mem": 300945408,
          "time": 1616413322.7604492
         },
         {
          "cpu_percent": 294.7,
          "cpu_time": 2.84,
          "name": "ReadCsvProjectSpace_1",
          "real_mem": 302604288,
          "time": 1616413322.883424
         },
         {
          "cpu_percent": 293.7,
          "cpu_time": 3.0700000000000003,
          "name": "ReadCsvProjectSpace_1",
          "real_mem": 305250304,
          "time": 1616413323.0065784
         },
         {
          "cpu_percent": 295.1,
          "cpu_time": 3.3499999999999996,
          "name": "ReadCsvProjectSpace_1",
          "real_mem": 319754240,
          "time": 1616413323.1297212
         },
         {
          "cpu_percent": 294.9,
          "cpu_time": 3.6999999999999997,
          "name": "ReadCsvProjectSpace_1",
          "real_mem": 334286848,
          "time": 1616413323.253058
         },
         {
          "cpu_percent": 197.3,
          "cpu_time": 4.01,
          "name": "ReadCsvProjectSpace_1",
          "real_mem": 344539136,
          "time": 1616413323.3758395
         },
         {
          "cpu_percent": 0,
          "cpu_time": 4.1499999999999995,
          "name": "ReadCsvProjectSpace_1",
          "real_mem": 349564928,
          "time": 1616413323.4986851
         },
         {
          "cpu_percent": 196.3,
          "cpu_time": 4.36,
          "name": "ReadCsvProjectSpace_1",
          "real_mem": 351117312,
          "time": 1616413323.621453
         },
         {
          "cpu_percent": 98.3,
          "cpu_time": 4.5200000000000005,
          "name": "ReadCsvProjectSpace_1",
          "real_mem": 353710080,
          "time": 1616413323.7441857
         },
         {
          "cpu_percent": 98.3,
          "cpu_time": 4.7700000000000005,
          "name": "ReadCsvProjectSpace_1",
          "real_mem": 354926592,
          "time": 1616413323.8674846
         },
         {
          "cpu_percent": 97.8,
          "cpu_time": 4.94,
          "name": "ReadCsvProjectSpace_1",
          "real_mem": 356966400,
          "time": 1616413323.9907005
         },
         {
          "cpu_percent": 98.3,
          "cpu_time": 5.1000000000000005,
          "name": "ReadCsvProjectSpace_1",
          "real_mem": 363622400,
          "time": 1616413324.113339
         },
         {
          "cpu_percent": 97.9,
          "cpu_time": 5.25,
          "name": "ReadCsvProjectSpace_1",
          "real_mem": 377298944,
          "time": 1616413324.2364318
         },
         {
          "cpu_percent": 97.3,
          "cpu_time": 5.5,
          "name": "ReadCsvProjectSpace_1",
          "real_mem": 390189056,
          "time": 1616413324.3598814
         },
         {
          "cpu_percent": 294.5,
          "cpu_time": 5.68,
          "name": "ReadCsvProjectSpace_1",
          "real_mem": 398258176,
          "time": 1616413324.4827359
         },
         {
          "cpu_percent": 197.1,
          "cpu_time": 5.8999999999999995,
          "name": "ReadCsvProjectSpace_1",
          "real_mem": 414064640,
          "time": 1616413324.605657
         },
         {
          "cpu_percent": 294.6,
          "cpu_time": 6.449999999999999,
          "name": "ReadCsvProjectSpace_1",
          "real_mem": 435879936,
          "time": 1616413324.878284
         },
         {
          "cpu_percent": 196.8,
          "cpu_time": 7.09,
          "name": "ReadCsvProjectSpace_1",
          "real_mem": 448081920,
          "time": 1616413325.1516614
         },
         {
          "cpu_percent": 295.2,
          "cpu_time": 7.75,
          "name": "ReadCsvProjectSpace_1",
          "real_mem": 459886592,
          "time": 1616413325.4247925
         },
         {
          "cpu_percent": 192.6,
          "cpu_time": 8.63,
          "name": "ReadCsvProjectSpace_1",
          "real_mem": 485068800,
          "time": 1616413325.7020147
         },
         {
          "cpu_percent": 394.7,
          "cpu_time": 9.370000000000001,
          "name": "ReadCsvProjectSpace_1",
          "real_mem": 493719552,
          "time": 1616413325.974565
         },
         {
          "cpu_percent": 294.9,
          "cpu_time": 10.18,
          "name": "ReadCsvProjectSpace_1",
          "real_mem": 504549376,
          "time": 1616413326.2472723
         },
         {
          "cpu_percent": 196.5,
          "cpu_time": 10.74,
          "name": "ReadCsvProjectSpace_1",
          "real_mem": 514740224,
          "time": 1616413326.5202081
         },
         {
          "cpu_percent": 98,
          "cpu_time": 11.16,
          "name": "ReadCsvProjectSpace_1",
          "real_mem": 539463680,
          "time": 1616413326.7941413
         },
         {
          "cpu_percent": 295.1,
          "cpu_time": 11.459999999999999,
          "name": "ReadCsvProjectSpace_1",
          "real_mem": 555077632,
          "time": 1616413327.0671763
         },
         {
          "cpu_percent": 392.8,
          "cpu_time": 11.86,
          "name": "ReadCsvProjectSpace_1",
          "real_mem": 582889472,
          "time": 1616413327.3401897
         },
         {
          "cpu_percent": 196.3,
          "cpu_time": 12.43,
          "name": "ReadCsvProjectSpace_1",
          "real_mem": 610865152,
          "time": 1616413327.6131454
         },
         {
          "cpu_percent": 98.3,
          "cpu_time": 12.799999999999999,
          "name": "ReadCsvProjectSpace_1",
          "real_mem": 617541632,
          "time": 1616413327.887328
         },
         {
          "cpu_percent": 98.3,
          "cpu_time": 13.28,
          "name": "ReadCsvProjectSpace_1",
          "real_mem": 622125056,
          "time": 1616413328.1602063
         },
         {
          "cpu_percent": 196.7,
          "cpu_time": 13.639999999999999,
          "name": "ReadCsvProjectSpace_1",
          "real_mem": 625360896,
          "time": 1616413328.4333422
         },
         {
          "cpu_percent": 97.5,
          "cpu_time": 14.149999999999999,
          "name": "ReadCsvProjectSpace_1",
          "real_mem": 628396032,
          "time": 1616413328.7059019
         },
         {
          "cpu_percent": 292.3,
          "cpu_time": 14.639999999999999,
          "name": "ReadCsvProjectSpace_1",
          "real_mem": 631750656,
          "time": 1616413328.9790804
         },
         {
          "cpu_percent": 296.1,
          "cpu_time": 15.129999999999999,
          "name": "ReadCsvProjectSpace_1",
          "real_mem": 634601472,
          "time": 1616413329.251654
         },
         {
          "cpu_percent": 197.4,
          "cpu_time": 15.71,
          "name": "ReadCsvProjectSpace_1",
          "real_mem": 636735488,
          "time": 1616413329.524484
         },
         {
          "cpu_percent": 196.9,
          "cpu_time": 16.07,
          "name": "ReadCsvProjectSpace_1",
          "real_mem": 672878592,
          "time": 1616413329.7971532
         },
         {
          "cpu_percent": 196,
          "cpu_time": 16.419999999999998,
          "name": "ReadCsvProjectSpace_1",
          "real_mem": 675135488,
          "time": 1616413330.0698876
         },
         {
          "cpu_percent": 97.7,
          "cpu_time": 16.81,
          "name": "ReadCsvProjectSpace_1",
          "real_mem": 678297600,
          "time": 1616413330.342913
         },
         {
          "cpu_percent": 394.5,
          "cpu_time": 17.4,
          "name": "ReadCsvProjectSpace_1",
          "real_mem": 681660416,
          "time": 1616413330.6155005
         },
         {
          "cpu_percent": 196.4,
          "cpu_time": 17.98,
          "name": "ReadCsvProjectSpace_1",
          "real_mem": 704532480,
          "time": 1616413330.8878
         },
         {
          "cpu_percent": 98.5,
          "cpu_time": 18.509999999999998,
          "name": "ReadCsvProjectSpace_1",
          "real_mem": 736743424,
          "time": 1616413331.160679
         },
         {
          "cpu_percent": 97.1,
          "cpu_time": 18.9,
          "name": "ReadCsvProjectSpace_1",
          "real_mem": 734781440,
          "time": 1616413331.4337287
         },
         {
          "cpu_percent": 98.1,
          "cpu_time": 19.5,
          "name": "ReadCsvProjectSpace_1",
          "real_mem": 740077568,
          "time": 1616413331.7062607
         },
         {
          "cpu_percent": 392.4,
          "cpu_time": 20.330000000000002,
          "name": "ReadCsvProjectSpace_1",
          "real_mem": 743510016,
          "time": 1616413331.9796453
         },
         {
          "cpu_percent": 196.8,
          "cpu_time": 20.8,
          "name": "ReadCsvProjectSpace_1",
          "real_mem": 746266624,
          "time": 1616413332.2527943
         },
         {
          "cpu_percent": 392.7,
          "cpu_time": 22.29,
          "name": "ReadCsvProjectSpace_1",
          "real_mem": 789606400,
          "time": 1616413332.776086
         }
        ],
        "logs": [
         {
          "asctime": "2021-03-22 11:42:00,625",
          "created": 1616413320.6252847,
          "extra": {},
          "filename": "async_executors.py",
          "funcName": "main",
          "levelname": "DEBUG",
          "lineno": 114,
          "message": "NonSparkPath_1: started async block execution\n",
          "name": "engine.logs:NonSparkPath_1",
          "pathname": "/usr/local/lib/python3.7/dist-packages/razor/flow/async_executors.py",
          "process": 579,
          "processName": "ForkProcess-2:1",
          "thread": 139961051219776,
          "threadName": "MainThread"
         },
         {
          "asctime": "2021-03-22 11:42:00,648",
          "created": 1616413320.6489482,
          "extra": {},
          "filename": "async_executors.py",
          "funcName": "fill_atomic_inputs",
          "levelname": "INFO",
          "lineno": 250,
          "message": "NonSparkPath_1: waiting for atomic input: ip_path",
          "name": "engine.logs:NonSparkPath_1",
          "pathname": "/usr/local/lib/python3.7/dist-packages/razor/flow/async_executors.py",
          "process": 579,
          "processName": "ForkProcess-2:1",
          "thread": 139961051219776,
          "threadName": "MainThread"
         },
         {
          "asctime": "2021-03-22 11:42:00,649",
          "created": 1616413320.6491349,
          "extra": {},
          "filename": "async_executors.py",
          "funcName": "fill_atomic_inputs",
          "levelname": "DEBUG",
          "lineno": 253,
          "message": "NonSparkPath_1: got atomic input: customer_data.csv",
          "name": "engine.logs:NonSparkPath_1",
          "pathname": "/usr/local/lib/python3.7/dist-packages/razor/flow/async_executors.py",
          "process": 579,
          "processName": "ForkProcess-2:1",
          "thread": 139961051219776,
          "threadName": "MainThread"
         },
         {
          "asctime": "2021-03-22 11:42:00,649",
          "created": 1616413320.649198,
          "extra": {},
          "filename": "async_executors.py",
          "funcName": "main",
          "levelname": "DEBUG",
          "lineno": 130,
          "message": "NonSparkPath_1: triggering block run",
          "name": "engine.logs:NonSparkPath_1",
          "pathname": "/usr/local/lib/python3.7/dist-packages/razor/flow/async_executors.py",
          "process": 579,
          "processName": "ForkProcess-2:1",
          "thread": 139961051219776,
          "threadName": "MainThread"
         },
         {
          "asctime": "2021-03-22 11:42:00,830",
          "created": 1616413320.8309138,
          "extra": {},
          "filename": "async_executors.py",
          "funcName": "distribute_output_queue",
          "levelname": "DEBUG",
          "lineno": 308,
          "message": "NonSparkPath_1: ---- dist output: /home/aios/projectspace/customer_data.csv -> ('ReadCsvProjectSpace_1', 'filename')",
          "name": "engine.logs:NonSparkPath_1",
          "pathname": "/usr/local/lib/python3.7/dist-packages/razor/flow/async_executors.py",
          "process": 579,
          "processName": "ForkProcess-2:1",
          "thread": 139961051219776,
          "threadName": "MainThread"
         },
         {
          "asctime": "2021-03-22 11:42:00,831",
          "created": 1616413320.8315024,
          "extra": {},
          "filename": "async_executors.py",
          "funcName": "main",
          "levelname": "DEBUG",
          "lineno": 147,
          "message": "NonSparkPath_1: block thread completed",
          "name": "engine.logs:NonSparkPath_1",
          "pathname": "/usr/local/lib/python3.7/dist-packages/razor/flow/async_executors.py",
          "process": 579,
          "processName": "ForkProcess-2:1",
          "thread": 139961051219776,
          "threadName": "MainThread"
         },
         {
          "asctime": "2021-03-22 11:42:00,831",
          "created": 1616413320.8316128,
          "extra": {},
          "filename": "async_executors.py",
          "funcName": "main",
          "levelname": "DEBUG",
          "lineno": 149,
          "message": "NonSparkPath_1: block execution complete",
          "name": "engine.logs:NonSparkPath_1",
          "pathname": "/usr/local/lib/python3.7/dist-packages/razor/flow/async_executors.py",
          "process": 579,
          "processName": "ForkProcess-2:1",
          "thread": 139961051219776,
          "threadName": "MainThread"
         },
         {
          "asctime": "2021-03-22 11:42:00,831",
          "created": 1616413320.8317378,
          "extra": {},
          "filename": "async_executors.py",
          "funcName": "distribute_output_queue",
          "levelname": "DEBUG",
          "lineno": 308,
          "message": "NonSparkPath_1: ---- dist output: b'__!\\tEndOfStream\\t!__' -> ('ReadCsvProjectSpace_1', 'filename')",
          "name": "engine.logs:NonSparkPath_1",
          "pathname": "/usr/local/lib/python3.7/dist-packages/razor/flow/async_executors.py",
          "process": 579,
          "processName": "ForkProcess-2:1",
          "thread": 139961051219776,
          "threadName": "MainThread"
         },
         {
          "asctime": "2021-03-22 11:42:00,847",
          "created": 1616413320.84783,
          "extra": {},
          "filename": "async_executors.py",
          "funcName": "main",
          "levelname": "DEBUG",
          "lineno": 114,
          "message": "ReadCsvProjectSpace_1: started async block execution\n",
          "name": "engine.logs:ReadCsvProjectSpace_1",
          "pathname": "/usr/local/lib/python3.7/dist-packages/razor/flow/async_executors.py",
          "process": 587,
          "processName": "ForkProcess-2:2",
          "thread": 139961051219776,
          "threadName": "MainThread"
         },
         {
          "asctime": "2021-03-22 11:42:00,869",
          "created": 1616413320.869646,
          "extra": {},
          "filename": "async_executors.py",
          "funcName": "fill_atomic_inputs",
          "levelname": "INFO",
          "lineno": 250,
          "message": "ReadCsvProjectSpace_1: waiting for atomic input: filename",
          "name": "engine.logs:ReadCsvProjectSpace_1",
          "pathname": "/usr/local/lib/python3.7/dist-packages/razor/flow/async_executors.py",
          "process": 587,
          "processName": "ForkProcess-2:2",
          "thread": 139961051219776,
          "threadName": "MainThread"
         },
         {
          "asctime": "2021-03-22 11:42:00,875",
          "created": 1616413320.8757007,
          "extra": {},
          "filename": "async_executors.py",
          "funcName": "start_input_receiver",
          "levelname": "DEBUG",
          "lineno": 173,
          "message": "NonSparkPath_1: received cmd: start_sender, (), {'out_name': 'op_path', 'target': ('ReadCsvProjectSpace_1', 'filename'), 'out_addr': 'tcp://0.0.0.0:64092', 'in_memory': None}",
          "name": "engine.logs:NonSparkPath_1",
          "pathname": "/usr/local/lib/python3.7/dist-packages/razor/flow/async_executors.py",
          "process": 579,
          "processName": "ForkProcess-2:1",
          "thread": 139961051219776,
          "threadName": "MainThread"
         },
         {
          "asctime": "2021-03-22 11:42:00,876",
          "created": 1616413320.8761652,
          "extra": {},
          "filename": "async_executors.py",
          "funcName": "start_output_sender",
          "levelname": "DEBUG",
          "lineno": 370,
          "message": "NonSparkPath_1: got start_sender, op_path, ('ReadCsvProjectSpace_1', 'filename')",
          "name": "engine.logs:NonSparkPath_1",
          "pathname": "/usr/local/lib/python3.7/dist-packages/razor/flow/async_executors.py",
          "process": 579,
          "processName": "ForkProcess-2:1",
          "thread": 139961051219776,
          "threadName": "MainThread"
         },
         {
          "asctime": "2021-03-22 11:42:00,877",
          "created": 1616413320.877111,
          "extra": {},
          "filename": "async_executors.py",
          "funcName": "start_output_sender",
          "levelname": "DEBUG",
          "lineno": 388,
          "message": "NonSparkPath_1: SENT, filename, /home/aios/projectspace/customer_data.csv, ('ReadCsvProjectSpace_1', 'filename')",
          "name": "engine.logs:NonSparkPath_1",
          "pathname": "/usr/local/lib/python3.7/dist-packages/razor/flow/async_executors.py",
          "process": 579,
          "processName": "ForkProcess-2:1",
          "thread": 139961051219776,
          "threadName": "MainThread"
         },
         {
          "asctime": "2021-03-22 11:42:00,877",
          "created": 1616413320.8776143,
          "extra": {},
          "filename": "async_executors.py",
          "funcName": "start_output_sender",
          "levelname": "DEBUG",
          "lineno": 388,
          "message": "NonSparkPath_1: SENT, filename, b'__!\\tEndOfStream\\t!__', ('ReadCsvProjectSpace_1', 'filename')",
          "name": "engine.logs:NonSparkPath_1",
          "pathname": "/usr/local/lib/python3.7/dist-packages/razor/flow/async_executors.py",
          "process": 579,
          "processName": "ForkProcess-2:1",
          "thread": 139961051219776,
          "threadName": "MainThread"
         },
         {
          "asctime": "2021-03-22 11:42:00,877",
          "created": 1616413320.8778756,
          "extra": {},
          "filename": "async_executors.py",
          "funcName": "start_output_sender",
          "levelname": "DEBUG",
          "lineno": 391,
          "message": "NonSparkPath_1: completed output: ('op_path', ('ReadCsvProjectSpace_1', 'filename'))",
          "name": "engine.logs:NonSparkPath_1",
          "pathname": "/usr/local/lib/python3.7/dist-packages/razor/flow/async_executors.py",
          "process": 579,
          "processName": "ForkProcess-2:1",
          "thread": 139961051219776,
          "threadName": "MainThread"
         },
         {
          "asctime": "2021-03-22 11:42:00,878",
          "created": 1616413320.8782291,
          "extra": {},
          "filename": "async_executors.py",
          "funcName": "start_input_receiver",
          "levelname": "DEBUG",
          "lineno": 177,
          "message": "ReadCsvProjectSpace_1: received data: filename, /home/aios/projectspace/customer_data.csv",
          "name": "engine.logs:ReadCsvProjectSpace_1",
          "pathname": "/usr/local/lib/python3.7/dist-packages/razor/flow/async_executors.py",
          "process": 587,
          "processName": "ForkProcess-2:2",
          "thread": 139961051219776,
          "threadName": "MainThread"
         },
         {
          "asctime": "2021-03-22 11:42:00,884",
          "created": 1616413320.8842669,
          "extra": {},
          "filename": "async_executors.py",
          "funcName": "start_input_receiver",
          "levelname": "DEBUG",
          "lineno": 173,
          "message": "NonSparkPath_1: received cmd: terminate, (), {}",
          "name": "engine.logs:NonSparkPath_1",
          "pathname": "/usr/local/lib/python3.7/dist-packages/razor/flow/async_executors.py",
          "process": 579,
          "processName": "ForkProcess-2:1",
          "thread": 139961051219776,
          "threadName": "MainThread"
         },
         {
          "asctime": "2021-03-22 11:42:00,879",
          "created": 1616413320.8791428,
          "extra": {},
          "filename": "async_executors.py",
          "funcName": "start_input_receiver",
          "levelname": "DEBUG",
          "lineno": 177,
          "message": "ReadCsvProjectSpace_1: received data: filename, b'__!\\tEndOfStream\\t!__'",
          "name": "engine.logs:ReadCsvProjectSpace_1",
          "pathname": "/usr/local/lib/python3.7/dist-packages/razor/flow/async_executors.py",
          "process": 587,
          "processName": "ForkProcess-2:2",
          "thread": 139961051219776,
          "threadName": "MainThread"
         },
         {
          "asctime": "2021-03-22 11:42:00,879",
          "created": 1616413320.879398,
          "extra": {},
          "filename": "async_executors.py",
          "funcName": "fill_atomic_inputs",
          "levelname": "DEBUG",
          "lineno": 253,
          "message": "ReadCsvProjectSpace_1: got atomic input: /home/aios/projectspace/customer_data.csv",
          "name": "engine.logs:ReadCsvProjectSpace_1",
          "pathname": "/usr/local/lib/python3.7/dist-packages/razor/flow/async_executors.py",
          "process": 587,
          "processName": "ForkProcess-2:2",
          "thread": 139961051219776,
          "threadName": "MainThread"
         },
         {
          "asctime": "2021-03-22 11:42:00,879",
          "created": 1616413320.8794692,
          "extra": {},
          "filename": "async_executors.py",
          "funcName": "fill_atomic_inputs",
          "levelname": "INFO",
          "lineno": 250,
          "message": "ReadCsvProjectSpace_1: waiting for atomic input: config",
          "name": "engine.logs:ReadCsvProjectSpace_1",
          "pathname": "/usr/local/lib/python3.7/dist-packages/razor/flow/async_executors.py",
          "process": 587,
          "processName": "ForkProcess-2:2",
          "thread": 139961051219776,
          "threadName": "MainThread"
         },
         {
          "asctime": "2021-03-22 11:42:00,879",
          "created": 1616413320.879523,
          "extra": {},
          "filename": "async_executors.py",
          "funcName": "fill_atomic_inputs",
          "levelname": "DEBUG",
          "lineno": 253,
          "message": "ReadCsvProjectSpace_1: got atomic input: {}",
          "name": "engine.logs:ReadCsvProjectSpace_1",
          "pathname": "/usr/local/lib/python3.7/dist-packages/razor/flow/async_executors.py",
          "process": 587,
          "processName": "ForkProcess-2:2",
          "thread": 139961051219776,
          "threadName": "MainThread"
         },
         {
          "asctime": "2021-03-22 11:42:00,879",
          "created": 1616413320.8795607,
          "extra": {},
          "filename": "async_executors.py",
          "funcName": "fill_atomic_inputs",
          "levelname": "INFO",
          "lineno": 250,
          "message": "ReadCsvProjectSpace_1: waiting for atomic input: source",
          "name": "engine.logs:ReadCsvProjectSpace_1",
          "pathname": "/usr/local/lib/python3.7/dist-packages/razor/flow/async_executors.py",
          "process": 587,
          "processName": "ForkProcess-2:2",
          "thread": 139961051219776,
          "threadName": "MainThread"
         },
         {
          "asctime": "2021-03-22 11:42:00,879",
          "created": 1616413320.8795998,
          "extra": {},
          "filename": "async_executors.py",
          "funcName": "fill_atomic_inputs",
          "levelname": "DEBUG",
          "lineno": 253,
          "message": "ReadCsvProjectSpace_1: got atomic input: ",
          "name": "engine.logs:ReadCsvProjectSpace_1",
          "pathname": "/usr/local/lib/python3.7/dist-packages/razor/flow/async_executors.py",
          "process": 587,
          "processName": "ForkProcess-2:2",
          "thread": 139961051219776,
          "threadName": "MainThread"
         },
         {
          "asctime": "2021-03-22 11:42:00,879",
          "created": 1616413320.8796475,
          "extra": {},
          "filename": "async_executors.py",
          "funcName": "main",
          "levelname": "DEBUG",
          "lineno": 130,
          "message": "ReadCsvProjectSpace_1: triggering block run",
          "name": "engine.logs:ReadCsvProjectSpace_1",
          "pathname": "/usr/local/lib/python3.7/dist-packages/razor/flow/async_executors.py",
          "process": 587,
          "processName": "ForkProcess-2:2",
          "thread": 139961051219776,
          "threadName": "MainThread"
         },
         {
          "asctime": "2021-03-22 11:42:12,845",
          "created": 1616413332.8456585,
          "exc_info": null,
          "extra": {},
          "filename": null,
          "full_message": null,
          "funcName": null,
          "levelname": "STDOUT",
          "lineno": null,
          "message": "Hello\n",
          "name": "block.stdout:ReadCsvProjectSpace_1",
          "pathname": null,
          "process": null,
          "processName": null,
          "thread": null,
          "threadName": null
         },
         {
          "asctime": "2021-03-22 11:42:12,868",
          "created": 1616413332.8686316,
          "exc_info": null,
          "extra": {},
          "filename": null,
          "full_message": null,
          "funcName": null,
          "levelname": "STDOUT",
          "lineno": null,
          "message": "root\n |-- transaction_id: string (nullable = true)\n |-- time: string (nullable = true)\n |-- customer_name: string (nullable = true)\n |-- card_number: string (nullable = true)\n |-- card_type: string (nullable = true)\n |-- physical_card_type: string (nullable = true)\n |-- merchant_id: string (nullable = true)\n |-- merchant_city: string (nullable = true)\n |-- merchant_state: string (nullable = true)\n |-- transaction_type: string (nullable = true)\n |-- transaction_type_sub: string (nullable = true)\n |-- amount: string (nullable = true)\n |-- product_type: string (nullable = true)\n |-- fraud_risk: string (nullable = true)\n |-- One Time Heavy Loot Score: string (nullable = true)\n |-- Drastic Transaction Change Pattern Score: string (nullable = true)\n |-- Parasitic Fraud Score: string (nullable = true)\n |-- Purchase Behavior Variation Score: string (nullable = true)\n |-- Preferred Merchant Variation Score: string (nullable = true)\n |-- Multiple Location Fraud Score: string (nullable = true)\n |-- Fraudster Merchant Score: string (nullable = true)\n |-- no_of_transactions_in_the_day: string (nullable = true)\n |-- max_transaction_amount_in_the_day: string (nullable = true)\n |-- avg_transaction_amount_in_the_day: string (nullable = true)\n |-- no_of_transactions_in_the_month: string (nullable = true)\n |-- max_transaction_amount_the_month: string (nullable = true)\n |-- avg_transaction_amount_the_month: string (nullable = true)\n |-- no_of_transactions_of_the_same_merchant_in_the_day: string (nullable = true)\n |-- max_transactions_of_the_same_merchant_in_the_day: string (nullable = true)\n |-- avg_transactions_of_the_same_merchant_in_the_day: string (nullable = true)\n |-- no_of_transactions_of_the_same_merchant_in_the_month: string (nullable = true)\n |-- max_transactions_of_the_same_merchant_in_the_month: string (nullable = true)\n |-- avg_transactions_of_the_same_merchant_in_the_month: string (nullable = true)\n\n",
          "name": "block.stdout:ReadCsvProjectSpace_1",
          "pathname": null,
          "process": null,
          "processName": null,
          "thread": null,
          "threadName": null
         },
         {
          "asctime": "2021-03-22 11:42:12,872",
          "created": 1616413332.87225,
          "extra": {},
          "filename": "async_executors.py",
          "funcName": "main",
          "levelname": "DEBUG",
          "lineno": 147,
          "message": "ReadCsvProjectSpace_1: block thread completed",
          "name": "engine.logs:ReadCsvProjectSpace_1",
          "pathname": "/usr/local/lib/python3.7/dist-packages/razor/flow/async_executors.py",
          "process": 587,
          "processName": "ForkProcess-2:2",
          "thread": 139961051219776,
          "threadName": "MainThread"
         },
         {
          "asctime": "2021-03-22 11:42:12,872",
          "created": 1616413332.8725486,
          "extra": {},
          "filename": "async_executors.py",
          "funcName": "main",
          "levelname": "DEBUG",
          "lineno": 149,
          "message": "ReadCsvProjectSpace_1: block execution complete",
          "name": "engine.logs:ReadCsvProjectSpace_1",
          "pathname": "/usr/local/lib/python3.7/dist-packages/razor/flow/async_executors.py",
          "process": 587,
          "processName": "ForkProcess-2:2",
          "thread": 139961051219776,
          "threadName": "MainThread"
         },
         {
          "asctime": "2021-03-22 11:42:12,880",
          "created": 1616413332.8801987,
          "extra": {},
          "filename": "async_executors.py",
          "funcName": "start_input_receiver",
          "levelname": "DEBUG",
          "lineno": 173,
          "message": "ReadCsvProjectSpace_1: received cmd: terminate, (), {}",
          "name": "engine.logs:ReadCsvProjectSpace_1",
          "pathname": "/usr/local/lib/python3.7/dist-packages/razor/flow/async_executors.py",
          "process": 587,
          "processName": "ForkProcess-2:2",
          "thread": 139961051219776,
          "threadName": "MainThread"
         }
        ],
        "meta": {
         "block_status": {
          "NonSparkPath_1": "SUCCESS",
          "ReadCsvProjectSpace_1": "SUCCESS"
         },
         "blocks": [
          {
           "class_name": "ReadCsvProjectSpace",
           "fullname": ".ReadCsvProjectSpace",
           "id": "497589fe-0a83-4b00-a5f7-282deb8b23d4",
           "inputs": [
            {
             "dataType": "string",
             "default": "",
             "flow": "atomic",
             "help": null,
             "isdict": false,
             "islist": false,
             "label": "filename",
             "meta": {},
             "name": "filename",
             "series": false,
             "type": "str",
             "type_check": true
            },
            {
             "dataType": "dict",
             "default": {},
             "flow": "atomic",
             "help": null,
             "isdict": false,
             "islist": false,
             "label": "config",
             "meta": {},
             "name": "config",
             "series": false,
             "type": "dict",
             "type_check": true
            },
            {
             "dataType": "string",
             "default": "",
             "flow": "atomic",
             "help": null,
             "isdict": false,
             "islist": false,
             "label": "source",
             "meta": {},
             "name": "source",
             "series": false,
             "type": "str",
             "type_check": true
            }
           ],
           "outputs": [
            {
             "flow": "atomic",
             "help": null,
             "label": "data",
             "meta": {},
             "name": "data",
             "series": false,
             "type": "DataFrame",
             "type_check": true
            }
           ],
           "overwritten": false,
           "published": false,
           "var_names": [
            "ReadCsvProjectSpace"
           ]
          },
          {
           "class_name": "NonSparkPath",
           "fullname": ".NonSparkPath",
           "id": "a8032797-8ee3-4637-b217-ff5358129c0c",
           "inputs": [
            {
             "dataType": "string",
             "default": "",
             "flow": "atomic",
             "help": null,
             "isdict": false,
             "islist": false,
             "label": "ip_path",
             "meta": {},
             "name": "ip_path",
             "series": false,
             "type": "str",
             "type_check": true
            }
           ],
           "outputs": [
            {
             "flow": "atomic",
             "help": null,
             "label": "op_path",
             "meta": {},
             "name": "op_path",
             "series": false,
             "type": "str",
             "type_check": true
            }
           ],
           "overwritten": false,
           "published": false,
           "var_names": [
            "NonSparkPath"
           ]
          }
         ],
         "connections": [
          {
           "id": "7301d348-99d9-4011-84eb-8629382b35e3",
           "source": {
            "adapter": false,
            "instance_id": "f2b87551-7902-48d0-8a97-280df3df3195",
            "name": "op_path"
           },
           "target": {
            "adapter": false,
            "instance_id": "e432ca39-89e3-4c02-ab08-ac2333eeecc1",
            "name": "filename"
           }
          }
         ],
         "end": 1616413332.8839977,
         "id": "65fceaf6-9be8-460b-a2db-91c7c42af53f",
         "instances": [
          {
           "block_class": "497589fe-0a83-4b00-a5f7-282deb8b23d4",
           "id": "e432ca39-89e3-4c02-ab08-ac2333eeecc1",
           "name": "ReadCsvProjectSpace_1",
           "var_names": [
            "rcp"
           ]
          },
          {
           "block_class": "a8032797-8ee3-4637-b217-ff5358129c0c",
           "id": "f2b87551-7902-48d0-8a97-280df3df3195",
           "name": "NonSparkPath_1",
           "var_names": [
            "nsp"
           ]
          }
         ],
         "log_level": 20,
         "name": "Pipeline_1",
         "start": 1616413320.6103578,
         "status": "SUCCESS",
         "system_logs": false,
         "var_names": []
        },
        "metrics": {},
        "runtime": {
         "NonSparkPath_1": {
          "end": 1616413320.8814209,
          "load": 1616413320.6118708,
          "start": 1616413320.619393
         },
         "ReadCsvProjectSpace_1": {
          "end": 1616413332.8766437,
          "load": 1616413320.8334832,
          "start": 1616413320.8406136
         }
        }
       },
       "store_in_notebook": true
      }
     },
     "output_type": "display_data"
    },
    {
     "data": {
      "text/plain": [
       "{}"
      ]
     },
     "execution_count": 12,
     "metadata": {},
     "output_type": "execute_result"
    }
   ],
   "source": [
    "pipe.execute()"
   ]
  },
  {
   "cell_type": "code",
   "execution_count": null,
   "id": "civilian-malta",
   "metadata": {},
   "outputs": [],
   "source": []
  },
  {
   "cell_type": "code",
   "execution_count": null,
   "id": "differential-insert",
   "metadata": {},
   "outputs": [],
   "source": []
  }
 ],
 "metadata": {
  "kernelspec": {
   "display_name": "Python 3",
   "language": "python",
   "name": "python3"
  },
  "language_info": {
   "codemirror_mode": {
    "name": "ipython",
    "version": 3
   },
   "file_extension": ".py",
   "mimetype": "text/x-python",
   "name": "python",
   "nbconvert_exporter": "python",
   "pygments_lexer": "ipython3",
   "version": "3.7.10"
  }
 },
 "nbformat": 4,
 "nbformat_minor": 5
}
