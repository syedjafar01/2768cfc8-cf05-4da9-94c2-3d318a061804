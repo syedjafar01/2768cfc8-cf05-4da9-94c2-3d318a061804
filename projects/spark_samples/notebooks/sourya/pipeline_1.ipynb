{
 "cells": [
  {
   "cell_type": "code",
   "execution_count": 1,
   "id": "fallen-texture",
   "metadata": {},
   "outputs": [],
   "source": [
    "import razor\n",
    "import razor.flow as rf\n",
    "from razor import api\n",
    "from razor.flow.spark import SparkBlock, SparkExecutor\n",
    "import typing as t"
   ]
  },
  {
   "cell_type": "code",
   "execution_count": 2,
   "id": "desirable-arkansas",
   "metadata": {},
   "outputs": [],
   "source": [
    "import os\n",
    "from datetime import datetime, timedelta\n",
    "from pyspark.sql import SparkSession, functions\n",
    "from pyspark.sql.dataframe import DataFrame\n",
    "from datetime import datetime, timedelta\n",
    "from dateutil.relativedelta import relativedelta"
   ]
  },
  {
   "cell_type": "code",
   "execution_count": 3,
   "id": "choice-modification",
   "metadata": {},
   "outputs": [],
   "source": [
    "def project_space_path(path):\n",
    "    ps = api.datasources('Project Space')\n",
    "    return os.path.join(ps.abspath(), path)\n"
   ]
  },
  {
   "cell_type": "code",
   "execution_count": 4,
   "id": "flying-sender",
   "metadata": {},
   "outputs": [],
   "source": [
    "\n",
    "@rf.block\n",
    "class NonSparkPath:\n",
    "    ip_path: str\n",
    "    op_path: rf.Output[str]\n",
    "    def run(self):\n",
    "        self.op_path.put(project_space_path(self.ip_path))\n",
    "        \n",
    "\n",
    "@rf.block\n",
    "class ReadCsvProjectSpace(SparkBlock):\n",
    "    filename:str    \n",
    "    def run(self):\n",
    "        df = self.spark.read.csv(self.filename, header = True)\n",
    "        print(\"Data Schema\")\n",
    "        df.printSchema()\n",
    "        \n",
    "\n",
    "@rf.block\n",
    "class SelectData(SparkBlock):\n",
    "    filename: str\n",
    "    def run(self):\n",
    "        df = self.spark.read.csv(self.filename, header = True)\n",
    "        df_stat = df.describe()\n",
    "        print(\"Data Stat\")\n",
    "        df_stat.show()\n",
    "        \n",
    "        \n",
    "        \n",
    "        \n",
    "        "
   ]
  },
  {
   "cell_type": "code",
   "execution_count": 5,
   "id": "instrumental-accident",
   "metadata": {},
   "outputs": [],
   "source": [
    "nsp = NonSparkPath(ip_path='train.csv')\n",
    "rcp = ReadCsvProjectSpace(filename = nsp.op_path, config={}, source=\"\")\n",
    "sd = SelectData(filename = nsp.op_path, config={}, source=\"\")\n",
    "rcp.executor = rf.ProcessExecutor\n",
    "sd.executor = rf.ProcessExecutor"
   ]
  },
  {
   "cell_type": "code",
   "execution_count": 6,
   "id": "middle-beach",
   "metadata": {},
   "outputs": [],
   "source": [
    "pipe = rf.Pipeline(targets = [rcp,sd])"
   ]
  },
  {
   "cell_type": "code",
   "execution_count": 7,
   "id": "boolean-choir",
   "metadata": {},
   "outputs": [
    {
     "data": {
      "application/vnd.razorthink.interactive+pipeline+view+json": {
       "blocks": [
        {
         "class_name": "NonSparkPath",
         "fullname": ".NonSparkPath",
         "id": "c4a503a2-c365-4963-a109-482608a27edd",
         "inputs": [
          {
           "dataType": "string",
           "default": "",
           "flow": "atomic",
           "help": null,
           "isdict": false,
           "islist": false,
           "label": "ip_path",
           "meta": {},
           "name": "ip_path",
           "series": false,
           "type": "str",
           "type_check": true
          }
         ],
         "outputs": [
          {
           "flow": "atomic",
           "help": null,
           "label": "op_path",
           "meta": {},
           "name": "op_path",
           "series": false,
           "type": "str",
           "type_check": true
          }
         ],
         "overwritten": false,
         "published": false,
         "var_names": [
          "NonSparkPath"
         ]
        },
        {
         "class_name": "SelectData",
         "fullname": ".SelectData",
         "id": "80ea726b-5fc7-4a15-b8e0-19a043e9c009",
         "inputs": [
          {
           "dataType": "string",
           "default": "",
           "flow": "atomic",
           "help": null,
           "isdict": false,
           "islist": false,
           "label": "filename",
           "meta": {},
           "name": "filename",
           "series": false,
           "type": "str",
           "type_check": true
          },
          {
           "dataType": "dict",
           "default": {},
           "flow": "atomic",
           "help": null,
           "isdict": false,
           "islist": false,
           "label": "config",
           "meta": {},
           "name": "config",
           "series": false,
           "type": "dict",
           "type_check": true
          },
          {
           "dataType": "string",
           "default": "",
           "flow": "atomic",
           "help": null,
           "isdict": false,
           "islist": false,
           "label": "source",
           "meta": {},
           "name": "source",
           "series": false,
           "type": "str",
           "type_check": true
          }
         ],
         "outputs": [],
         "overwritten": false,
         "published": false,
         "var_names": [
          "SelectData"
         ]
        },
        {
         "class_name": "ReadCsvProjectSpace",
         "fullname": ".ReadCsvProjectSpace",
         "id": "b5cd1683-e081-4acf-8bf6-9ab33f91826f",
         "inputs": [
          {
           "dataType": "string",
           "default": "",
           "flow": "atomic",
           "help": null,
           "isdict": false,
           "islist": false,
           "label": "filename",
           "meta": {},
           "name": "filename",
           "series": false,
           "type": "str",
           "type_check": true
          },
          {
           "dataType": "dict",
           "default": {},
           "flow": "atomic",
           "help": null,
           "isdict": false,
           "islist": false,
           "label": "config",
           "meta": {},
           "name": "config",
           "series": false,
           "type": "dict",
           "type_check": true
          },
          {
           "dataType": "string",
           "default": "",
           "flow": "atomic",
           "help": null,
           "isdict": false,
           "islist": false,
           "label": "source",
           "meta": {},
           "name": "source",
           "series": false,
           "type": "str",
           "type_check": true
          }
         ],
         "outputs": [],
         "overwritten": false,
         "published": false,
         "var_names": [
          "ReadCsvProjectSpace"
         ]
        }
       ],
       "connections": [
        {
         "id": "646baa16-c7bf-4722-a1d1-b5f6e7b7aa9b",
         "source": {
          "adapter": false,
          "instance_id": "4fdc8fba-a8fd-4a2b-9363-3d0ad125a80b",
          "name": "op_path"
         },
         "target": {
          "adapter": false,
          "instance_id": "13042cfd-9958-43cf-80cc-1b130143413e",
          "name": "filename"
         }
        },
        {
         "id": "d9220486-7fab-4a96-9c8f-dc7467983978",
         "source": {
          "adapter": false,
          "instance_id": "4fdc8fba-a8fd-4a2b-9363-3d0ad125a80b",
          "name": "op_path"
         },
         "target": {
          "adapter": false,
          "instance_id": "08306a7b-7db7-41b4-8618-9c9ce8be568d",
          "name": "filename"
         }
        }
       ],
       "id": "3cfb3892-17a0-437a-b18c-59adbbf94f80",
       "instances": [
        {
         "block_class": "b5cd1683-e081-4acf-8bf6-9ab33f91826f",
         "id": "08306a7b-7db7-41b4-8618-9c9ce8be568d",
         "name": "ReadCsvProjectSpace_1",
         "var_names": [
          "rcp"
         ]
        },
        {
         "block_class": "c4a503a2-c365-4963-a109-482608a27edd",
         "id": "4fdc8fba-a8fd-4a2b-9363-3d0ad125a80b",
         "name": "NonSparkPath_1",
         "var_names": [
          "nsp"
         ]
        },
        {
         "block_class": "80ea726b-5fc7-4a15-b8e0-19a043e9c009",
         "id": "13042cfd-9958-43cf-80cc-1b130143413e",
         "name": "SelectData_1",
         "var_names": [
          "sd"
         ]
        }
       ],
       "name": "Pipeline_1",
       "var_names": []
      },
      "image/svg+xml": [
       "<?xml version=\"1.0\" encoding=\"UTF-8\" standalone=\"no\"?>\n",
       "<!DOCTYPE svg PUBLIC \"-//W3C//DTD SVG 1.1//EN\"\n",
       " \"http://www.w3.org/Graphics/SVG/1.1/DTD/svg11.dtd\">\n",
       "<!-- Generated by graphviz version 2.43.0 (0)\n",
       " -->\n",
       "<!-- Title: %3 Pages: 1 -->\n",
       "<svg width=\"498pt\" height=\"127pt\"\n",
       " viewBox=\"0.00 0.00 498.05 127.00\" xmlns=\"http://www.w3.org/2000/svg\" xmlns:xlink=\"http://www.w3.org/1999/xlink\">\n",
       "<g id=\"graph0\" class=\"graph\" transform=\"scale(1 1) rotate(0) translate(4 123)\">\n",
       "<title>%3</title>\n",
       "<polygon fill=\"white\" stroke=\"transparent\" points=\"-4,4 -4,-123 494.05,-123 494.05,4 -4,4\"/>\n",
       "<!-- ReadCsvProjectSpace(&#39;ReadCsvProjectSpace_1&#39;) -->\n",
       "<g id=\"node1\" class=\"node\">\n",
       "<title>ReadCsvProjectSpace(&#39;ReadCsvProjectSpace_1&#39;)</title>\n",
       "<ellipse fill=\"none\" stroke=\"black\" cx=\"148.93\" cy=\"-18\" rx=\"148.86\" ry=\"18\"/>\n",
       "<text text-anchor=\"middle\" x=\"148.93\" y=\"-15.5\" font-family=\"Helvetica,sans-Serif\" font-size=\"10.00\">ReadCsvProjectSpace(&#39;ReadCsvProjectSpace_1&#39;)</text>\n",
       "</g>\n",
       "<!-- NonSparkPath(&#39;NonSparkPath_1&#39;) -->\n",
       "<g id=\"node2\" class=\"node\">\n",
       "<title>NonSparkPath(&#39;NonSparkPath_1&#39;)</title>\n",
       "<ellipse fill=\"none\" stroke=\"black\" cx=\"275.93\" cy=\"-101\" rx=\"104.56\" ry=\"18\"/>\n",
       "<text text-anchor=\"middle\" x=\"275.93\" y=\"-98.5\" font-family=\"Helvetica,sans-Serif\" font-size=\"10.00\">NonSparkPath(&#39;NonSparkPath_1&#39;)</text>\n",
       "</g>\n",
       "<!-- NonSparkPath(&#39;NonSparkPath_1&#39;)&#45;&gt;ReadCsvProjectSpace(&#39;ReadCsvProjectSpace_1&#39;) -->\n",
       "<g id=\"edge1\" class=\"edge\">\n",
       "<title>NonSparkPath(&#39;NonSparkPath_1&#39;)&#45;&gt;ReadCsvProjectSpace(&#39;ReadCsvProjectSpace_1&#39;)</title>\n",
       "<path fill=\"none\" stroke=\"black\" d=\"M249.92,-83.41C230.88,-71.26 204.81,-54.64 183.93,-41.32\"/>\n",
       "<polygon fill=\"black\" stroke=\"black\" points=\"185.65,-38.27 175.34,-35.84 181.89,-44.17 185.65,-38.27\"/>\n",
       "<text text-anchor=\"middle\" x=\"267.93\" y=\"-57\" font-family=\"Helvetica,sans-Serif\" font-size=\"10.00\">op_path&#45;&gt;filename</text>\n",
       "</g>\n",
       "<!-- SelectData(&#39;SelectData_1&#39;) -->\n",
       "<g id=\"node3\" class=\"node\">\n",
       "<title>SelectData(&#39;SelectData_1&#39;)</title>\n",
       "<ellipse fill=\"none\" stroke=\"black\" cx=\"402.93\" cy=\"-18\" rx=\"87.24\" ry=\"18\"/>\n",
       "<text text-anchor=\"middle\" x=\"402.93\" y=\"-15.5\" font-family=\"Helvetica,sans-Serif\" font-size=\"10.00\">SelectData(&#39;SelectData_1&#39;)</text>\n",
       "</g>\n",
       "<!-- NonSparkPath(&#39;NonSparkPath_1&#39;)&#45;&gt;SelectData(&#39;SelectData_1&#39;) -->\n",
       "<g id=\"edge2\" class=\"edge\">\n",
       "<title>NonSparkPath(&#39;NonSparkPath_1&#39;)&#45;&gt;SelectData(&#39;SelectData_1&#39;)</title>\n",
       "<path fill=\"none\" stroke=\"black\" d=\"M301.94,-83.41C321.24,-71.1 347.75,-54.2 368.76,-40.79\"/>\n",
       "<polygon fill=\"black\" stroke=\"black\" points=\"370.84,-43.62 377.39,-35.29 367.08,-37.71 370.84,-43.62\"/>\n",
       "<text text-anchor=\"middle\" x=\"393.93\" y=\"-57\" font-family=\"Helvetica,sans-Serif\" font-size=\"10.00\">op_path&#45;&gt;filename</text>\n",
       "</g>\n",
       "</g>\n",
       "</svg>\n"
      ],
      "text/plain": [
       "<razor.flow.async_pipeline.Pipeline at 0x7fe113043250>"
      ]
     },
     "metadata": {},
     "output_type": "display_data"
    }
   ],
   "source": [
    "pipe.show()"
   ]
  },
  {
   "cell_type": "code",
   "execution_count": 8,
   "id": "little-ottawa",
   "metadata": {},
   "outputs": [
    {
     "name": "stdout",
     "output_type": "stream",
     "text": [
      "log path: /tmp/tmpxsrhrsrl/Pipeline_1\n"
     ]
    },
    {
     "data": {
      "application/vnd.razorthink.run+monitor+json": "/tmp/tmpxsrhrsrl/Pipeline_1",
      "text/plain": [
       "<razor_tools.backend.ipython.mime.run_monitor.RunMonitor at 0x7fe112e2fb90>"
      ]
     },
     "metadata": {
      "application/vnd.razorthink.run+monitor+json": {
       "run_data": {
        "apm": [
         {
          "cpu_percent": 0,
          "cpu_time": 0,
          "name": "NonSparkPath_1",
          "real_mem": 154923008,
          "time": 1616418780.5290835
         },
         {
          "cpu_percent": 0,
          "cpu_time": 0.03,
          "name": "NonSparkPath_1",
          "real_mem": 155148288,
          "time": 1616418780.6418512
         },
         {
          "cpu_percent": 0,
          "cpu_time": 0.04,
          "name": "NonSparkPath_1",
          "real_mem": 155443200,
          "time": 1616418780.7564008
         },
         {
          "cpu_percent": 0,
          "cpu_time": 0,
          "name": "ReadCsvProjectSpace_1",
          "real_mem": 155312128,
          "time": 1616418780.7951689
         },
         {
          "cpu_percent": 0,
          "cpu_time": 0,
          "name": "SelectData_1",
          "real_mem": 155332608,
          "time": 1616418780.8039155
         },
         {
          "cpu_percent": 197.3,
          "cpu_time": 0.14,
          "name": "ReadCsvProjectSpace_1",
          "real_mem": 186822656,
          "time": 1616418780.939828
         },
         {
          "cpu_percent": 98.3,
          "cpu_time": 0.14,
          "name": "SelectData_1",
          "real_mem": 186785792,
          "time": 1616418780.9503362
         },
         {
          "cpu_percent": 193.7,
          "cpu_time": 0.37,
          "name": "ReadCsvProjectSpace_1",
          "real_mem": 212140032,
          "time": 1616418781.0853243
         },
         {
          "cpu_percent": 81.7,
          "cpu_time": 0.36,
          "name": "SelectData_1",
          "real_mem": 162254848,
          "time": 1616418781.0973523
         },
         {
          "cpu_percent": 286.2,
          "cpu_time": 0.2,
          "name": "ReadCsvProjectSpace_1",
          "real_mem": 186957824,
          "time": 1616418781.2105289
         },
         {
          "cpu_percent": 195.8,
          "cpu_time": 0.2,
          "name": "SelectData_1",
          "real_mem": 187056128,
          "time": 1616418781.2212179
         },
         {
          "cpu_percent": 98.7,
          "cpu_time": 0.43,
          "name": "ReadCsvProjectSpace_1",
          "real_mem": 214630400,
          "time": 1616418781.3331907
         },
         {
          "cpu_percent": 98.2,
          "cpu_time": 0.43,
          "name": "SelectData_1",
          "real_mem": 213680128,
          "time": 1616418781.3441548
         },
         {
          "cpu_percent": 294.7,
          "cpu_time": 0.66,
          "name": "ReadCsvProjectSpace_1",
          "real_mem": 229179392,
          "time": 1616418781.4561574
         },
         {
          "cpu_percent": 98.2,
          "cpu_time": 0.65,
          "name": "SelectData_1",
          "real_mem": 228601856,
          "time": 1616418781.467214
         },
         {
          "cpu_percent": 293,
          "cpu_time": 0.8500000000000001,
          "name": "ReadCsvProjectSpace_1",
          "real_mem": 240648192,
          "time": 1616418781.579526
         },
         {
          "cpu_percent": 196.6,
          "cpu_time": 0.8200000000000001,
          "name": "SelectData_1",
          "real_mem": 240226304,
          "time": 1616418781.5901206
         },
         {
          "cpu_percent": 98.8,
          "cpu_time": 1.01,
          "name": "ReadCsvProjectSpace_1",
          "real_mem": 243265536,
          "time": 1616418781.7024815
         },
         {
          "cpu_percent": 98.5,
          "cpu_time": 1,
          "name": "SelectData_1",
          "real_mem": 242380800,
          "time": 1616418781.7129595
         },
         {
          "cpu_percent": 98.5,
          "cpu_time": 1.21,
          "name": "ReadCsvProjectSpace_1",
          "real_mem": 248303616,
          "time": 1616418781.8254087
         },
         {
          "cpu_percent": 196.3,
          "cpu_time": 1.19,
          "name": "SelectData_1",
          "real_mem": 247808000,
          "time": 1616418781.835833
         },
         {
          "cpu_percent": 98.4,
          "cpu_time": 1.45,
          "name": "ReadCsvProjectSpace_1",
          "real_mem": 254013440,
          "time": 1616418781.948417
         },
         {
          "cpu_percent": 96.6,
          "cpu_time": 1.45,
          "name": "SelectData_1",
          "real_mem": 253812736,
          "time": 1616418781.9592214
         },
         {
          "cpu_percent": 98.3,
          "cpu_time": 1.61,
          "name": "ReadCsvProjectSpace_1",
          "real_mem": 267628544,
          "time": 1616418782.071416
         },
         {
          "cpu_percent": 98.3,
          "cpu_time": 1.61,
          "name": "SelectData_1",
          "real_mem": 267538432,
          "time": 1616418782.082155
         },
         {
          "cpu_percent": 98.6,
          "cpu_time": 1.8,
          "name": "ReadCsvProjectSpace_1",
          "real_mem": 278867968,
          "time": 1616418782.1943996
         },
         {
          "cpu_percent": 98.2,
          "cpu_time": 1.8,
          "name": "SelectData_1",
          "real_mem": 279621632,
          "time": 1616418782.2052608
         },
         {
          "cpu_percent": 193.8,
          "cpu_time": 1.99,
          "name": "ReadCsvProjectSpace_1",
          "real_mem": 288567296,
          "time": 1616418782.3173625
         },
         {
          "cpu_percent": 194.4,
          "cpu_time": 2,
          "name": "SelectData_1",
          "real_mem": 288100352,
          "time": 1616418782.3289587
         },
         {
          "cpu_percent": 196.7,
          "cpu_time": 2.2199999999999998,
          "name": "ReadCsvProjectSpace_1",
          "real_mem": 290541568,
          "time": 1616418782.4403415
         },
         {
          "cpu_percent": 295.8,
          "cpu_time": 2.26,
          "name": "SelectData_1",
          "real_mem": 290521088,
          "time": 1616418782.4516551
         },
         {
          "cpu_percent": 96.6,
          "cpu_time": 2.4499999999999997,
          "name": "ReadCsvProjectSpace_1",
          "real_mem": 293339136,
          "time": 1616418782.563459
         },
         {
          "cpu_percent": 98,
          "cpu_time": 2.4699999999999998,
          "name": "SelectData_1",
          "real_mem": 293122048,
          "time": 1616418782.574584
         },
         {
          "cpu_percent": 97.9,
          "cpu_time": 2.6399999999999997,
          "name": "ReadCsvProjectSpace_1",
          "real_mem": 300437504,
          "time": 1616418782.6864524
         },
         {
          "cpu_percent": 197.1,
          "cpu_time": 2.65,
          "name": "SelectData_1",
          "real_mem": 300560384,
          "time": 1616418782.6976094
         },
         {
          "cpu_percent": 196.6,
          "cpu_time": 2.84,
          "name": "ReadCsvProjectSpace_1",
          "real_mem": 302198784,
          "time": 1616418782.8137505
         },
         {
          "cpu_percent": 98.2,
          "cpu_time": 2.8299999999999996,
          "name": "SelectData_1",
          "real_mem": 302387200,
          "time": 1616418782.82076
         },
         {
          "cpu_percent": 98.7,
          "cpu_time": 3.0500000000000003,
          "name": "ReadCsvProjectSpace_1",
          "real_mem": 304254976,
          "time": 1616418782.936537
         },
         {
          "cpu_percent": 394.9,
          "cpu_time": 3.04,
          "name": "SelectData_1",
          "real_mem": 304070656,
          "time": 1616418782.9431362
         },
         {
          "cpu_percent": 277.8,
          "cpu_time": 3.33,
          "name": "ReadCsvProjectSpace_1",
          "real_mem": 313561088,
          "time": 1616418783.071476
         },
         {
          "cpu_percent": 186.7,
          "cpu_time": 3.28,
          "name": "SelectData_1",
          "real_mem": 310525952,
          "time": 1616418783.071476
         },
         {
          "cpu_percent": 295.6,
          "cpu_time": 3.5999999999999996,
          "name": "ReadCsvProjectSpace_1",
          "real_mem": 324640768,
          "time": 1616418783.194508
         },
         {
          "cpu_percent": 197.9,
          "cpu_time": 3.54,
          "name": "SelectData_1",
          "real_mem": 323452928,
          "time": 1616418783.1945176
         },
         {
          "cpu_percent": 48.8,
          "cpu_time": 3.84,
          "name": "SelectData_1",
          "real_mem": 332881920,
          "time": 1616418783.348428
         },
         {
          "cpu_percent": 48.9,
          "cpu_time": 3.8899999999999997,
          "name": "ReadCsvProjectSpace_1",
          "real_mem": 333176832,
          "time": 1616418783.348486
         },
         {
          "cpu_percent": 196.8,
          "cpu_time": 4.14,
          "name": "ReadCsvProjectSpace_1",
          "real_mem": 343293952,
          "time": 1616418783.471712
         },
         {
          "cpu_percent": 493.1,
          "cpu_time": 4.12,
          "name": "SelectData_1",
          "real_mem": 343478272,
          "time": 1616418783.471776
         },
         {
          "cpu_percent": 292.6,
          "cpu_time": 4.35,
          "name": "ReadCsvProjectSpace_1",
          "real_mem": 348307456,
          "time": 1616418783.5950148
         },
         {
          "cpu_percent": 193.2,
          "cpu_time": 4.33,
          "name": "SelectData_1",
          "real_mem": 348545024,
          "time": 1616418783.5949938
         },
         {
          "cpu_percent": 98.4,
          "cpu_time": 4.52,
          "name": "SelectData_1",
          "real_mem": 350478336,
          "time": 1616418783.7185688
         },
         {
          "cpu_percent": 196.6,
          "cpu_time": 4.61,
          "name": "ReadCsvProjectSpace_1",
          "real_mem": 350396416,
          "time": 1616418783.7193844
         },
         {
          "cpu_percent": 98.1,
          "cpu_time": 4.7299999999999995,
          "name": "SelectData_1",
          "real_mem": 352313344,
          "time": 1616418783.841519
         },
         {
          "cpu_percent": 196.6,
          "cpu_time": 4.79,
          "name": "ReadCsvProjectSpace_1",
          "real_mem": 352219136,
          "time": 1616418783.8424764
         },
         {
          "cpu_percent": 294.3,
          "cpu_time": 4.98,
          "name": "SelectData_1",
          "real_mem": 354111488,
          "time": 1616418783.9648287
         },
         {
          "cpu_percent": 294.7,
          "cpu_time": 4.98,
          "name": "ReadCsvProjectSpace_1",
          "real_mem": 354181120,
          "time": 1616418783.9653647
         },
         {
          "cpu_percent": 196.1,
          "cpu_time": 5.2,
          "name": "SelectData_1",
          "real_mem": 355446784,
          "time": 1616418784.0881486
         },
         {
          "cpu_percent": 98.3,
          "cpu_time": 5.18,
          "name": "ReadCsvProjectSpace_1",
          "real_mem": 355373056,
          "time": 1616418784.0888422
         },
         {
          "cpu_percent": 98.4,
          "cpu_time": 5.33,
          "name": "SelectData_1",
          "real_mem": 358027264,
          "time": 1616418784.211022
         },
         {
          "cpu_percent": 98.2,
          "cpu_time": 5.32,
          "name": "ReadCsvProjectSpace_1",
          "real_mem": 357969920,
          "time": 1616418784.211301
         },
         {
          "cpu_percent": 98.1,
          "cpu_time": 5.5,
          "name": "ReadCsvProjectSpace_1",
          "real_mem": 367136768,
          "time": 1616418784.3342466
         },
         {
          "cpu_percent": 97.9,
          "cpu_time": 5.49,
          "name": "SelectData_1",
          "real_mem": 368328704,
          "time": 1616418784.3347876
         },
         {
          "cpu_percent": 97.5,
          "cpu_time": 5.7299999999999995,
          "name": "ReadCsvProjectSpace_1",
          "real_mem": 382402560,
          "time": 1616418784.4634945
         },
         {
          "cpu_percent": 198.1,
          "cpu_time": 5.67,
          "name": "SelectData_1",
          "real_mem": 384552960,
          "time": 1616418784.46517
         },
         {
          "cpu_percent": 98.2,
          "cpu_time": 5.8999999999999995,
          "name": "ReadCsvProjectSpace_1",
          "real_mem": 391811072,
          "time": 1616418784.586886
         },
         {
          "cpu_percent": 98.3,
          "cpu_time": 5.93,
          "name": "SelectData_1",
          "real_mem": 393715712,
          "time": 1616418784.588089
         },
         {
          "cpu_percent": 294.8,
          "cpu_time": 6.35,
          "name": "ReadCsvProjectSpace_1",
          "real_mem": 419590144,
          "time": 1616418784.8602371
         },
         {
          "cpu_percent": 393.7,
          "cpu_time": 6.41,
          "name": "SelectData_1",
          "real_mem": 423464960,
          "time": 1616418784.8608007
         },
         {
          "cpu_percent": 0,
          "cpu_time": 6.87,
          "name": "ReadCsvProjectSpace_1",
          "real_mem": 436789248,
          "time": 1616418785.1334898
         },
         {
          "cpu_percent": 0,
          "cpu_time": 6.95,
          "name": "SelectData_1",
          "real_mem": 438112256,
          "time": 1616418785.1487904
         },
         {
          "cpu_percent": 197.1,
          "cpu_time": 7.409999999999999,
          "name": "ReadCsvProjectSpace_1",
          "real_mem": 448249856,
          "time": 1616418785.4083118
         },
         {
          "cpu_percent": 294.9,
          "cpu_time": 7.54,
          "name": "SelectData_1",
          "real_mem": 448884736,
          "time": 1616418785.4228337
         },
         {
          "cpu_percent": 98.4,
          "cpu_time": 7.93,
          "name": "ReadCsvProjectSpace_1",
          "real_mem": 457187328,
          "time": 1616418785.6816306
         },
         {
          "cpu_percent": 196.4,
          "cpu_time": 8.02,
          "name": "SelectData_1",
          "real_mem": 454995968,
          "time": 1616418785.6959636
         },
         {
          "cpu_percent": 391.7,
          "cpu_time": 8.59,
          "name": "SelectData_1",
          "real_mem": 458682368,
          "time": 1616418785.970521
         },
         {
          "cpu_percent": 391.7,
          "cpu_time": 8.55,
          "name": "ReadCsvProjectSpace_1",
          "real_mem": 467976192,
          "time": 1616418785.9711173
         },
         {
          "cpu_percent": 295,
          "cpu_time": 9.14,
          "name": "SelectData_1",
          "real_mem": 479473664,
          "time": 1616418786.2695515
         },
         {
          "cpu_percent": 294.5,
          "cpu_time": 9.16,
          "name": "ReadCsvProjectSpace_1",
          "real_mem": 484741120,
          "time": 1616418786.2703664
         },
         {
          "cpu_percent": 196.9,
          "cpu_time": 9.71,
          "name": "SelectData_1",
          "real_mem": 489054208,
          "time": 1616418786.569624
         },
         {
          "cpu_percent": 294.8,
          "cpu_time": 9.76,
          "name": "ReadCsvProjectSpace_1",
          "real_mem": 498413568,
          "time": 1616418786.5697062
         },
         {
          "cpu_percent": 294.9,
          "cpu_time": 10.26,
          "name": "SelectData_1",
          "real_mem": 494477312,
          "time": 1616418786.8703353
         },
         {
          "cpu_percent": 294.4,
          "cpu_time": 10.43,
          "name": "ReadCsvProjectSpace_1",
          "real_mem": 501514240,
          "time": 1616418786.8703604
         },
         {
          "cpu_percent": 393,
          "cpu_time": 10.89,
          "name": "SelectData_1",
          "real_mem": 496852992,
          "time": 1616418787.1707618
         },
         {
          "cpu_percent": 196.5,
          "cpu_time": 10.99,
          "name": "ReadCsvProjectSpace_1",
          "real_mem": 506413056,
          "time": 1616418787.1708372
         },
         {
          "cpu_percent": 70.4,
          "cpu_time": 11.469999999999999,
          "name": "SelectData_1",
          "real_mem": 505831424,
          "time": 1616418787.448512
         },
         {
          "cpu_percent": 73.4,
          "cpu_time": 11.49,
          "name": "ReadCsvProjectSpace_1",
          "real_mem": 513859584,
          "time": 1616418787.4493215
         },
         {
          "cpu_percent": 294.8,
          "cpu_time": 12.02,
          "name": "SelectData_1",
          "real_mem": 516952064,
          "time": 1616418787.7209435
         },
         {
          "cpu_percent": 98.4,
          "cpu_time": 11.91,
          "name": "ReadCsvProjectSpace_1",
          "real_mem": 526753792,
          "time": 1616418787.7217882
         },
         {
          "cpu_percent": 98,
          "cpu_time": 12.479999999999999,
          "name": "SelectData_1",
          "real_mem": 541405184,
          "time": 1616418787.9937358
         },
         {
          "cpu_percent": 0,
          "cpu_time": 12.36,
          "name": "ReadCsvProjectSpace_1",
          "real_mem": 548069376,
          "time": 1616418787.994835
         },
         {
          "cpu_percent": 97.5,
          "cpu_time": 12.739999999999998,
          "name": "ReadCsvProjectSpace_1",
          "real_mem": 562184192,
          "time": 1616418788.267971
         },
         {
          "cpu_percent": 181.6,
          "cpu_time": 12.91,
          "name": "SelectData_1",
          "real_mem": 559927296,
          "time": 1616418788.2692327
         },
         {
          "cpu_percent": 196.9,
          "cpu_time": 13.11,
          "name": "ReadCsvProjectSpace_1",
          "real_mem": 604815360,
          "time": 1616418788.5408747
         },
         {
          "cpu_percent": 98.4,
          "cpu_time": 13.29,
          "name": "SelectData_1",
          "real_mem": 601616384,
          "time": 1616418788.5421019
         },
         {
          "cpu_percent": 295.8,
          "cpu_time": 13.600000000000001,
          "name": "ReadCsvProjectSpace_1",
          "real_mem": 613613568,
          "time": 1616418788.8136911
         },
         {
          "cpu_percent": 281.1,
          "cpu_time": 13.85,
          "name": "SelectData_1",
          "real_mem": 611586048,
          "time": 1616418788.8163023
         },
         {
          "cpu_percent": 196.2,
          "cpu_time": 14,
          "name": "ReadCsvProjectSpace_1",
          "real_mem": 620322816,
          "time": 1616418789.086904
         },
         {
          "cpu_percent": 196.6,
          "cpu_time": 14.200000000000001,
          "name": "SelectData_1",
          "real_mem": 618237952,
          "time": 1616418789.0892081
         },
         {
          "cpu_percent": 98.6,
          "cpu_time": 14.4,
          "name": "ReadCsvProjectSpace_1",
          "real_mem": 625164288,
          "time": 1616418789.3595788
         },
         {
          "cpu_percent": 97.8,
          "cpu_time": 14.770000000000001,
          "name": "SelectData_1",
          "real_mem": 622714880,
          "time": 1616418789.362302
         },
         {
          "cpu_percent": 290.1,
          "cpu_time": 15.13,
          "name": "SelectData_1",
          "real_mem": 626204672,
          "time": 1616418789.6354141
         },
         {
          "cpu_percent": 97.9,
          "cpu_time": 14.780000000000001,
          "name": "ReadCsvProjectSpace_1",
          "real_mem": 628137984,
          "time": 1616418789.6359572
         },
         {
          "cpu_percent": 0,
          "cpu_time": 15.64,
          "name": "SelectData_1",
          "real_mem": 629608448,
          "time": 1616418789.907824
         },
         {
          "cpu_percent": 98.7,
          "cpu_time": 15.26,
          "name": "ReadCsvProjectSpace_1",
          "real_mem": 631902208,
          "time": 1616418789.908561
         },
         {
          "cpu_percent": 196.7,
          "cpu_time": 16.12,
          "name": "SelectData_1",
          "real_mem": 632852480,
          "time": 1616418790.1816397
         },
         {
          "cpu_percent": 196.1,
          "cpu_time": 15.76,
          "name": "ReadCsvProjectSpace_1",
          "real_mem": 635179008,
          "time": 1616418790.1816614
         },
         {
          "cpu_percent": 98.3,
          "cpu_time": 16.599999999999998,
          "name": "SelectData_1",
          "real_mem": 635207680,
          "time": 1616418790.454773
         },
         {
          "cpu_percent": 196.3,
          "cpu_time": 16.32,
          "name": "ReadCsvProjectSpace_1",
          "real_mem": 637890560,
          "time": 1616418790.454993
         },
         {
          "cpu_percent": 98.5,
          "cpu_time": 17.12,
          "name": "SelectData_1",
          "real_mem": 636813312,
          "time": 1616418790.7275326
         },
         {
          "cpu_percent": 195.4,
          "cpu_time": 16.87,
          "name": "ReadCsvProjectSpace_1",
          "real_mem": 639639552,
          "time": 1616418790.7284107
         },
         {
          "cpu_percent": 97.7,
          "cpu_time": 17.54,
          "name": "SelectData_1",
          "real_mem": 639791104,
          "time": 1616418791.000688
         },
         {
          "cpu_percent": 195.5,
          "cpu_time": 17.29,
          "name": "ReadCsvProjectSpace_1",
          "real_mem": 658538496,
          "time": 1616418791.001542
         },
         {
          "cpu_percent": 194,
          "cpu_time": 17.94,
          "name": "SelectData_1",
          "real_mem": 669954048,
          "time": 1616418791.273996
         },
         {
          "cpu_percent": 98.1,
          "cpu_time": 17.63,
          "name": "ReadCsvProjectSpace_1",
          "real_mem": 672223232,
          "time": 1616418791.2748623
         },
         {
          "cpu_percent": 98.2,
          "cpu_time": 18.330000000000002,
          "name": "SelectData_1",
          "real_mem": 672055296,
          "time": 1616418791.5476775
         },
         {
          "cpu_percent": 98.3,
          "cpu_time": 18.009999999999998,
          "name": "ReadCsvProjectSpace_1",
          "real_mem": 675368960,
          "time": 1616418791.5477355
         },
         {
          "cpu_percent": 197.1,
          "cpu_time": 18.389999999999997,
          "name": "ReadCsvProjectSpace_1",
          "real_mem": 686436352,
          "time": 1616418791.820386
         },
         {
          "cpu_percent": 98.6,
          "cpu_time": 18.72,
          "name": "SelectData_1",
          "real_mem": 684453888,
          "time": 1616418791.8204408
         },
         {
          "cpu_percent": 393.7,
          "cpu_time": 19.279999999999998,
          "name": "SelectData_1",
          "real_mem": 687050752,
          "time": 1616418792.093368
         },
         {
          "cpu_percent": 98.3,
          "cpu_time": 18.919999999999998,
          "name": "ReadCsvProjectSpace_1",
          "real_mem": 691077120,
          "time": 1616418792.0933757
         },
         {
          "cpu_percent": 295.4,
          "cpu_time": 19.84,
          "name": "SelectData_1",
          "real_mem": 697282560,
          "time": 1616418792.370679
         },
         {
          "cpu_percent": 295.2,
          "cpu_time": 19.479999999999997,
          "name": "ReadCsvProjectSpace_1",
          "real_mem": 704040960,
          "time": 1616418792.370679
         },
         {
          "cpu_percent": 295.3,
          "cpu_time": 20.849999999999998,
          "name": "SelectData_1",
          "real_mem": 732557312,
          "time": 1616418792.8941824
         },
         {
          "cpu_percent": 294.7,
          "cpu_time": 20.58,
          "name": "ReadCsvProjectSpace_1",
          "real_mem": 745521152,
          "time": 1616418792.8942823
         },
         {
          "cpu_percent": 295.9,
          "cpu_time": 21.73,
          "name": "ReadCsvProjectSpace_1",
          "real_mem": 782966784,
          "time": 1616418793.4172733
         },
         {
          "cpu_percent": 72.5,
          "cpu_time": 21.81,
          "name": "SelectData_1",
          "real_mem": 752726016,
          "time": 1616418793.4486551
         },
         {
          "cpu_percent": 98.3,
          "cpu_time": 22.82,
          "name": "ReadCsvProjectSpace_1",
          "real_mem": 789295104,
          "time": 1616418793.9710035
         },
         {
          "cpu_percent": 293.4,
          "cpu_time": 22.830000000000002,
          "name": "SelectData_1",
          "real_mem": 758636544,
          "time": 1616418793.9722438
         },
         {
          "cpu_percent": 294.4,
          "cpu_time": 23.89,
          "name": "ReadCsvProjectSpace_1",
          "real_mem": 793874432,
          "time": 1616418794.4947913
         },
         {
          "cpu_percent": 294.8,
          "cpu_time": 23.91,
          "name": "SelectData_1",
          "real_mem": 763281408,
          "time": 1616418794.495222
         },
         {
          "cpu_percent": 98.1,
          "cpu_time": 24.91,
          "name": "SelectData_1",
          "real_mem": 781926400,
          "time": 1616418795.0182729
         },
         {
          "cpu_percent": 197,
          "cpu_time": 24.89,
          "name": "ReadCsvProjectSpace_1",
          "real_mem": 812462080,
          "time": 1616418795.0183527
         },
         {
          "cpu_percent": 293.9,
          "cpu_time": 25.860000000000003,
          "name": "SelectData_1",
          "real_mem": 783798272,
          "time": 1616418795.541591
         },
         {
          "cpu_percent": 190.4,
          "cpu_time": 25.85,
          "name": "ReadCsvProjectSpace_1",
          "real_mem": 814555136,
          "time": 1616418795.5485866
         },
         {
          "cpu_percent": 394.3,
          "cpu_time": 27.24,
          "name": "SelectData_1",
          "real_mem": 787156992,
          "time": 1616418796.0648675
         },
         {
          "cpu_percent": 392.8,
          "cpu_time": 28.99,
          "name": "SelectData_1",
          "real_mem": 812204032,
          "time": 1616418796.5883427
         },
         {
          "cpu_percent": 85.8,
          "cpu_time": 31.13,
          "name": "SelectData_1",
          "real_mem": 831119360,
          "time": 1616418797.148669
         },
         {
          "cpu_percent": 392.1,
          "cpu_time": 33.2,
          "name": "SelectData_1",
          "real_mem": 834215936,
          "time": 1616418797.6729054
         },
         {
          "cpu_percent": 685.3,
          "cpu_time": 35.43,
          "name": "SelectData_1",
          "real_mem": 840179712,
          "time": 1616418798.1966214
         },
         {
          "cpu_percent": 179.7,
          "cpu_time": 37.480000000000004,
          "name": "SelectData_1",
          "real_mem": 844189696,
          "time": 1616418798.7491188
         },
         {
          "cpu_percent": 588.3,
          "cpu_time": 39.61,
          "name": "SelectData_1",
          "real_mem": 844316672,
          "time": 1616418799.2727263
         },
         {
          "cpu_percent": 493,
          "cpu_time": 41.72,
          "name": "SelectData_1",
          "real_mem": 848244736,
          "time": 1616418799.7957284
         },
         {
          "cpu_percent": 126.3,
          "cpu_time": 43.839999999999996,
          "name": "SelectData_1",
          "real_mem": 852287488,
          "time": 1616418800.3484292
         },
         {
          "cpu_percent": 587.7,
          "cpu_time": 45.98,
          "name": "SelectData_1",
          "real_mem": 852750336,
          "time": 1616418800.8725975
         },
         {
          "cpu_percent": 588.9,
          "cpu_time": 48.11,
          "name": "SelectData_1",
          "real_mem": 856711168,
          "time": 1616418801.3961222
         },
         {
          "cpu_percent": 295,
          "cpu_time": 50.199999999999996,
          "name": "SelectData_1",
          "real_mem": 859348992,
          "time": 1616418801.9194825
         },
         {
          "cpu_percent": 490.9,
          "cpu_time": 52.269999999999996,
          "name": "SelectData_1",
          "real_mem": 863535104,
          "time": 1616418802.4715395
         },
         {
          "cpu_percent": 489.1,
          "cpu_time": 54.36,
          "name": "SelectData_1",
          "real_mem": 864972800,
          "time": 1616418802.995514
         },
         {
          "cpu_percent": 391.8,
          "cpu_time": 57.550000000000004,
          "name": "SelectData_1",
          "real_mem": 867000320,
          "time": 1616418804.0199013
         }
        ],
        "logs": [
         {
          "asctime": "2021-03-22 13:13:00,511",
          "created": 1616418780.5113986,
          "extra": {},
          "filename": "async_executors.py",
          "funcName": "main",
          "levelname": "DEBUG",
          "lineno": 114,
          "message": "NonSparkPath_1: started async block execution\n",
          "name": "engine.logs:NonSparkPath_1",
          "pathname": "/usr/local/lib/python3.7/dist-packages/razor/flow/async_executors.py",
          "process": 1367,
          "processName": "ForkProcess-1:1",
          "thread": 140606981535552,
          "threadName": "MainThread"
         },
         {
          "asctime": "2021-03-22 13:13:00,529",
          "created": 1616418780.5296915,
          "extra": {},
          "filename": "async_executors.py",
          "funcName": "fill_atomic_inputs",
          "levelname": "INFO",
          "lineno": 250,
          "message": "NonSparkPath_1: waiting for atomic input: ip_path",
          "name": "engine.logs:NonSparkPath_1",
          "pathname": "/usr/local/lib/python3.7/dist-packages/razor/flow/async_executors.py",
          "process": 1367,
          "processName": "ForkProcess-1:1",
          "thread": 140606981535552,
          "threadName": "MainThread"
         },
         {
          "asctime": "2021-03-22 13:13:00,529",
          "created": 1616418780.529952,
          "extra": {},
          "filename": "async_executors.py",
          "funcName": "fill_atomic_inputs",
          "levelname": "DEBUG",
          "lineno": 253,
          "message": "NonSparkPath_1: got atomic input: train.csv",
          "name": "engine.logs:NonSparkPath_1",
          "pathname": "/usr/local/lib/python3.7/dist-packages/razor/flow/async_executors.py",
          "process": 1367,
          "processName": "ForkProcess-1:1",
          "thread": 140606981535552,
          "threadName": "MainThread"
         },
         {
          "asctime": "2021-03-22 13:13:00,530",
          "created": 1616418780.5300157,
          "extra": {},
          "filename": "async_executors.py",
          "funcName": "main",
          "levelname": "DEBUG",
          "lineno": 130,
          "message": "NonSparkPath_1: triggering block run",
          "name": "engine.logs:NonSparkPath_1",
          "pathname": "/usr/local/lib/python3.7/dist-packages/razor/flow/async_executors.py",
          "process": 1367,
          "processName": "ForkProcess-1:1",
          "thread": 140606981535552,
          "threadName": "MainThread"
         },
         {
          "asctime": "2021-03-22 13:13:00,760",
          "created": 1616418780.760273,
          "extra": {},
          "filename": "async_executors.py",
          "funcName": "distribute_output_queue",
          "levelname": "DEBUG",
          "lineno": 308,
          "message": "NonSparkPath_1: ---- dist output: /home/aios/projectspace/train.csv -> ('SelectData_1', 'filename')",
          "name": "engine.logs:NonSparkPath_1",
          "pathname": "/usr/local/lib/python3.7/dist-packages/razor/flow/async_executors.py",
          "process": 1367,
          "processName": "ForkProcess-1:1",
          "thread": 140606981535552,
          "threadName": "MainThread"
         },
         {
          "asctime": "2021-03-22 13:13:00,760",
          "created": 1616418780.7604296,
          "extra": {},
          "filename": "async_executors.py",
          "funcName": "distribute_output_queue",
          "levelname": "DEBUG",
          "lineno": 308,
          "message": "NonSparkPath_1: ---- dist output: /home/aios/projectspace/train.csv -> ('ReadCsvProjectSpace_1', 'filename')",
          "name": "engine.logs:NonSparkPath_1",
          "pathname": "/usr/local/lib/python3.7/dist-packages/razor/flow/async_executors.py",
          "process": 1367,
          "processName": "ForkProcess-1:1",
          "thread": 140606981535552,
          "threadName": "MainThread"
         },
         {
          "asctime": "2021-03-22 13:13:00,760",
          "created": 1616418780.7607296,
          "extra": {},
          "filename": "async_executors.py",
          "funcName": "main",
          "levelname": "DEBUG",
          "lineno": 147,
          "message": "NonSparkPath_1: block thread completed",
          "name": "engine.logs:NonSparkPath_1",
          "pathname": "/usr/local/lib/python3.7/dist-packages/razor/flow/async_executors.py",
          "process": 1367,
          "processName": "ForkProcess-1:1",
          "thread": 140606981535552,
          "threadName": "MainThread"
         },
         {
          "asctime": "2021-03-22 13:13:00,760",
          "created": 1616418780.7608342,
          "extra": {},
          "filename": "async_executors.py",
          "funcName": "main",
          "levelname": "DEBUG",
          "lineno": 149,
          "message": "NonSparkPath_1: block execution complete",
          "name": "engine.logs:NonSparkPath_1",
          "pathname": "/usr/local/lib/python3.7/dist-packages/razor/flow/async_executors.py",
          "process": 1367,
          "processName": "ForkProcess-1:1",
          "thread": 140606981535552,
          "threadName": "MainThread"
         },
         {
          "asctime": "2021-03-22 13:13:00,760",
          "created": 1616418780.7609868,
          "extra": {},
          "filename": "async_executors.py",
          "funcName": "distribute_output_queue",
          "levelname": "DEBUG",
          "lineno": 308,
          "message": "NonSparkPath_1: ---- dist output: b'__!\\tEndOfStream\\t!__' -> ('SelectData_1', 'filename')",
          "name": "engine.logs:NonSparkPath_1",
          "pathname": "/usr/local/lib/python3.7/dist-packages/razor/flow/async_executors.py",
          "process": 1367,
          "processName": "ForkProcess-1:1",
          "thread": 140606981535552,
          "threadName": "MainThread"
         },
         {
          "asctime": "2021-03-22 13:13:00,761",
          "created": 1616418780.761046,
          "extra": {},
          "filename": "async_executors.py",
          "funcName": "distribute_output_queue",
          "levelname": "DEBUG",
          "lineno": 308,
          "message": "NonSparkPath_1: ---- dist output: b'__!\\tEndOfStream\\t!__' -> ('ReadCsvProjectSpace_1', 'filename')",
          "name": "engine.logs:NonSparkPath_1",
          "pathname": "/usr/local/lib/python3.7/dist-packages/razor/flow/async_executors.py",
          "process": 1367,
          "processName": "ForkProcess-1:1",
          "thread": 140606981535552,
          "threadName": "MainThread"
         },
         {
          "asctime": "2021-03-22 13:13:00,778",
          "created": 1616418780.7782202,
          "extra": {},
          "filename": "async_executors.py",
          "funcName": "main",
          "levelname": "DEBUG",
          "lineno": 114,
          "message": "ReadCsvProjectSpace_1: started async block execution\n",
          "name": "engine.logs:ReadCsvProjectSpace_1",
          "pathname": "/usr/local/lib/python3.7/dist-packages/razor/flow/async_executors.py",
          "process": 1375,
          "processName": "ForkProcess-1:2",
          "thread": 140606981535552,
          "threadName": "MainThread"
         },
         {
          "asctime": "2021-03-22 13:13:00,795",
          "created": 1616418780.7953794,
          "extra": {},
          "filename": "async_executors.py",
          "funcName": "fill_atomic_inputs",
          "levelname": "INFO",
          "lineno": 250,
          "message": "ReadCsvProjectSpace_1: waiting for atomic input: filename",
          "name": "engine.logs:ReadCsvProjectSpace_1",
          "pathname": "/usr/local/lib/python3.7/dist-packages/razor/flow/async_executors.py",
          "process": 1375,
          "processName": "ForkProcess-1:2",
          "thread": 140606981535552,
          "threadName": "MainThread"
         },
         {
          "asctime": "2021-03-22 13:13:00,802",
          "created": 1616418780.8022442,
          "extra": {},
          "filename": "async_executors.py",
          "funcName": "start_input_receiver",
          "levelname": "DEBUG",
          "lineno": 173,
          "message": "NonSparkPath_1: received cmd: start_sender, (), {'out_name': 'op_path', 'target': ('ReadCsvProjectSpace_1', 'filename'), 'out_addr': 'tcp://0.0.0.0:52084', 'in_memory': None}",
          "name": "engine.logs:NonSparkPath_1",
          "pathname": "/usr/local/lib/python3.7/dist-packages/razor/flow/async_executors.py",
          "process": 1367,
          "processName": "ForkProcess-1:1",
          "thread": 140606981535552,
          "threadName": "MainThread"
         },
         {
          "asctime": "2021-03-22 13:13:00,787",
          "created": 1616418780.7873423,
          "extra": {},
          "filename": "async_executors.py",
          "funcName": "main",
          "levelname": "DEBUG",
          "lineno": 114,
          "message": "SelectData_1: started async block execution\n",
          "name": "engine.logs:SelectData_1",
          "pathname": "/usr/local/lib/python3.7/dist-packages/razor/flow/async_executors.py",
          "process": 1378,
          "processName": "ForkProcess-1:3",
          "thread": 140606981535552,
          "threadName": "MainThread"
         },
         {
          "asctime": "2021-03-22 13:13:00,802",
          "created": 1616418780.8028672,
          "extra": {},
          "filename": "async_executors.py",
          "funcName": "start_output_sender",
          "levelname": "DEBUG",
          "lineno": 370,
          "message": "NonSparkPath_1: got start_sender, op_path, ('ReadCsvProjectSpace_1', 'filename')",
          "name": "engine.logs:NonSparkPath_1",
          "pathname": "/usr/local/lib/python3.7/dist-packages/razor/flow/async_executors.py",
          "process": 1367,
          "processName": "ForkProcess-1:1",
          "thread": 140606981535552,
          "threadName": "MainThread"
         },
         {
          "asctime": "2021-03-22 13:13:00,803",
          "created": 1616418780.8037848,
          "extra": {},
          "filename": "async_executors.py",
          "funcName": "start_output_sender",
          "levelname": "DEBUG",
          "lineno": 388,
          "message": "NonSparkPath_1: SENT, filename, /home/aios/projectspace/train.csv, ('ReadCsvProjectSpace_1', 'filename')",
          "name": "engine.logs:NonSparkPath_1",
          "pathname": "/usr/local/lib/python3.7/dist-packages/razor/flow/async_executors.py",
          "process": 1367,
          "processName": "ForkProcess-1:1",
          "thread": 140606981535552,
          "threadName": "MainThread"
         },
         {
          "asctime": "2021-03-22 13:13:00,803",
          "created": 1616418780.8039942,
          "extra": {},
          "filename": "async_executors.py",
          "funcName": "start_output_sender",
          "levelname": "DEBUG",
          "lineno": 388,
          "message": "NonSparkPath_1: SENT, filename, b'__!\\tEndOfStream\\t!__', ('ReadCsvProjectSpace_1', 'filename')",
          "name": "engine.logs:NonSparkPath_1",
          "pathname": "/usr/local/lib/python3.7/dist-packages/razor/flow/async_executors.py",
          "process": 1367,
          "processName": "ForkProcess-1:1",
          "thread": 140606981535552,
          "threadName": "MainThread"
         },
         {
          "asctime": "2021-03-22 13:13:00,804",
          "created": 1616418780.8043966,
          "extra": {},
          "filename": "async_executors.py",
          "funcName": "fill_atomic_inputs",
          "levelname": "INFO",
          "lineno": 250,
          "message": "SelectData_1: waiting for atomic input: filename",
          "name": "engine.logs:SelectData_1",
          "pathname": "/usr/local/lib/python3.7/dist-packages/razor/flow/async_executors.py",
          "process": 1378,
          "processName": "ForkProcess-1:3",
          "thread": 140606981535552,
          "threadName": "MainThread"
         },
         {
          "asctime": "2021-03-22 13:13:00,805",
          "created": 1616418780.8056233,
          "extra": {},
          "filename": "async_executors.py",
          "funcName": "start_input_receiver",
          "levelname": "DEBUG",
          "lineno": 177,
          "message": "ReadCsvProjectSpace_1: received data: filename, /home/aios/projectspace/train.csv",
          "name": "engine.logs:ReadCsvProjectSpace_1",
          "pathname": "/usr/local/lib/python3.7/dist-packages/razor/flow/async_executors.py",
          "process": 1375,
          "processName": "ForkProcess-1:2",
          "thread": 140606981535552,
          "threadName": "MainThread"
         },
         {
          "asctime": "2021-03-22 13:13:00,805",
          "created": 1616418780.805964,
          "extra": {},
          "filename": "async_executors.py",
          "funcName": "start_input_receiver",
          "levelname": "DEBUG",
          "lineno": 177,
          "message": "ReadCsvProjectSpace_1: received data: filename, b'__!\\tEndOfStream\\t!__'",
          "name": "engine.logs:ReadCsvProjectSpace_1",
          "pathname": "/usr/local/lib/python3.7/dist-packages/razor/flow/async_executors.py",
          "process": 1375,
          "processName": "ForkProcess-1:2",
          "thread": 140606981535552,
          "threadName": "MainThread"
         },
         {
          "asctime": "2021-03-22 13:13:00,804",
          "created": 1616418780.8042312,
          "extra": {},
          "filename": "async_executors.py",
          "funcName": "start_output_sender",
          "levelname": "DEBUG",
          "lineno": 391,
          "message": "NonSparkPath_1: completed output: ('op_path', ('ReadCsvProjectSpace_1', 'filename'))",
          "name": "engine.logs:NonSparkPath_1",
          "pathname": "/usr/local/lib/python3.7/dist-packages/razor/flow/async_executors.py",
          "process": 1367,
          "processName": "ForkProcess-1:1",
          "thread": 140606981535552,
          "threadName": "MainThread"
         },
         {
          "asctime": "2021-03-22 13:13:00,806",
          "created": 1616418780.8061464,
          "extra": {},
          "filename": "async_executors.py",
          "funcName": "fill_atomic_inputs",
          "levelname": "DEBUG",
          "lineno": 253,
          "message": "ReadCsvProjectSpace_1: got atomic input: /home/aios/projectspace/train.csv",
          "name": "engine.logs:ReadCsvProjectSpace_1",
          "pathname": "/usr/local/lib/python3.7/dist-packages/razor/flow/async_executors.py",
          "process": 1375,
          "processName": "ForkProcess-1:2",
          "thread": 140606981535552,
          "threadName": "MainThread"
         },
         {
          "asctime": "2021-03-22 13:13:00,806",
          "created": 1616418780.8062005,
          "extra": {},
          "filename": "async_executors.py",
          "funcName": "fill_atomic_inputs",
          "levelname": "INFO",
          "lineno": 250,
          "message": "ReadCsvProjectSpace_1: waiting for atomic input: config",
          "name": "engine.logs:ReadCsvProjectSpace_1",
          "pathname": "/usr/local/lib/python3.7/dist-packages/razor/flow/async_executors.py",
          "process": 1375,
          "processName": "ForkProcess-1:2",
          "thread": 140606981535552,
          "threadName": "MainThread"
         },
         {
          "asctime": "2021-03-22 13:13:00,809",
          "created": 1616418780.8092802,
          "extra": {},
          "filename": "async_executors.py",
          "funcName": "start_input_receiver",
          "levelname": "DEBUG",
          "lineno": 173,
          "message": "NonSparkPath_1: received cmd: start_sender, (), {'out_name': 'op_path', 'target': ('SelectData_1', 'filename'), 'out_addr': 'tcp://0.0.0.0:62760', 'in_memory': None}",
          "name": "engine.logs:NonSparkPath_1",
          "pathname": "/usr/local/lib/python3.7/dist-packages/razor/flow/async_executors.py",
          "process": 1367,
          "processName": "ForkProcess-1:1",
          "thread": 140606981535552,
          "threadName": "MainThread"
         },
         {
          "asctime": "2021-03-22 13:13:00,806",
          "created": 1616418780.8062549,
          "extra": {},
          "filename": "async_executors.py",
          "funcName": "fill_atomic_inputs",
          "levelname": "DEBUG",
          "lineno": 253,
          "message": "ReadCsvProjectSpace_1: got atomic input: {}",
          "name": "engine.logs:ReadCsvProjectSpace_1",
          "pathname": "/usr/local/lib/python3.7/dist-packages/razor/flow/async_executors.py",
          "process": 1375,
          "processName": "ForkProcess-1:2",
          "thread": 140606981535552,
          "threadName": "MainThread"
         },
         {
          "asctime": "2021-03-22 13:13:00,806",
          "created": 1616418780.8062918,
          "extra": {},
          "filename": "async_executors.py",
          "funcName": "fill_atomic_inputs",
          "levelname": "INFO",
          "lineno": 250,
          "message": "ReadCsvProjectSpace_1: waiting for atomic input: source",
          "name": "engine.logs:ReadCsvProjectSpace_1",
          "pathname": "/usr/local/lib/python3.7/dist-packages/razor/flow/async_executors.py",
          "process": 1375,
          "processName": "ForkProcess-1:2",
          "thread": 140606981535552,
          "threadName": "MainThread"
         },
         {
          "asctime": "2021-03-22 13:13:00,806",
          "created": 1616418780.806334,
          "extra": {},
          "filename": "async_executors.py",
          "funcName": "fill_atomic_inputs",
          "levelname": "DEBUG",
          "lineno": 253,
          "message": "ReadCsvProjectSpace_1: got atomic input: ",
          "name": "engine.logs:ReadCsvProjectSpace_1",
          "pathname": "/usr/local/lib/python3.7/dist-packages/razor/flow/async_executors.py",
          "process": 1375,
          "processName": "ForkProcess-1:2",
          "thread": 140606981535552,
          "threadName": "MainThread"
         },
         {
          "asctime": "2021-03-22 13:13:00,809",
          "created": 1616418780.8095713,
          "extra": {},
          "filename": "async_executors.py",
          "funcName": "start_output_sender",
          "levelname": "DEBUG",
          "lineno": 370,
          "message": "NonSparkPath_1: got start_sender, op_path, ('SelectData_1', 'filename')",
          "name": "engine.logs:NonSparkPath_1",
          "pathname": "/usr/local/lib/python3.7/dist-packages/razor/flow/async_executors.py",
          "process": 1367,
          "processName": "ForkProcess-1:1",
          "thread": 140606981535552,
          "threadName": "MainThread"
         },
         {
          "asctime": "2021-03-22 13:13:00,806",
          "created": 1616418780.8063831,
          "extra": {},
          "filename": "async_executors.py",
          "funcName": "main",
          "levelname": "DEBUG",
          "lineno": 130,
          "message": "ReadCsvProjectSpace_1: triggering block run",
          "name": "engine.logs:ReadCsvProjectSpace_1",
          "pathname": "/usr/local/lib/python3.7/dist-packages/razor/flow/async_executors.py",
          "process": 1375,
          "processName": "ForkProcess-1:2",
          "thread": 140606981535552,
          "threadName": "MainThread"
         },
         {
          "asctime": "2021-03-22 13:13:00,810",
          "created": 1616418780.8108704,
          "extra": {},
          "filename": "async_executors.py",
          "funcName": "start_output_sender",
          "levelname": "DEBUG",
          "lineno": 388,
          "message": "NonSparkPath_1: SENT, filename, /home/aios/projectspace/train.csv, ('SelectData_1', 'filename')",
          "name": "engine.logs:NonSparkPath_1",
          "pathname": "/usr/local/lib/python3.7/dist-packages/razor/flow/async_executors.py",
          "process": 1367,
          "processName": "ForkProcess-1:1",
          "thread": 140606981535552,
          "threadName": "MainThread"
         },
         {
          "asctime": "2021-03-22 13:13:00,811",
          "created": 1616418780.8112164,
          "extra": {},
          "filename": "async_executors.py",
          "funcName": "start_output_sender",
          "levelname": "DEBUG",
          "lineno": 388,
          "message": "NonSparkPath_1: SENT, filename, b'__!\\tEndOfStream\\t!__', ('SelectData_1', 'filename')",
          "name": "engine.logs:NonSparkPath_1",
          "pathname": "/usr/local/lib/python3.7/dist-packages/razor/flow/async_executors.py",
          "process": 1367,
          "processName": "ForkProcess-1:1",
          "thread": 140606981535552,
          "threadName": "MainThread"
         },
         {
          "asctime": "2021-03-22 13:13:00,811",
          "created": 1616418780.8115969,
          "extra": {},
          "filename": "async_executors.py",
          "funcName": "start_output_sender",
          "levelname": "DEBUG",
          "lineno": 391,
          "message": "NonSparkPath_1: completed output: ('op_path', ('SelectData_1', 'filename'))",
          "name": "engine.logs:NonSparkPath_1",
          "pathname": "/usr/local/lib/python3.7/dist-packages/razor/flow/async_executors.py",
          "process": 1367,
          "processName": "ForkProcess-1:1",
          "thread": 140606981535552,
          "threadName": "MainThread"
         },
         {
          "asctime": "2021-03-22 13:13:00,811",
          "created": 1616418780.8115726,
          "extra": {},
          "filename": "async_executors.py",
          "funcName": "start_input_receiver",
          "levelname": "DEBUG",
          "lineno": 177,
          "message": "SelectData_1: received data: filename, /home/aios/projectspace/train.csv",
          "name": "engine.logs:SelectData_1",
          "pathname": "/usr/local/lib/python3.7/dist-packages/razor/flow/async_executors.py",
          "process": 1378,
          "processName": "ForkProcess-1:3",
          "thread": 140606981535552,
          "threadName": "MainThread"
         },
         {
          "asctime": "2021-03-22 13:13:00,811",
          "created": 1616418780.8118608,
          "extra": {},
          "filename": "async_executors.py",
          "funcName": "start_input_receiver",
          "levelname": "DEBUG",
          "lineno": 177,
          "message": "SelectData_1: received data: filename, b'__!\\tEndOfStream\\t!__'",
          "name": "engine.logs:SelectData_1",
          "pathname": "/usr/local/lib/python3.7/dist-packages/razor/flow/async_executors.py",
          "process": 1378,
          "processName": "ForkProcess-1:3",
          "thread": 140606981535552,
          "threadName": "MainThread"
         },
         {
          "asctime": "2021-03-22 13:13:00,812",
          "created": 1616418780.8120346,
          "extra": {},
          "filename": "async_executors.py",
          "funcName": "fill_atomic_inputs",
          "levelname": "DEBUG",
          "lineno": 253,
          "message": "SelectData_1: got atomic input: /home/aios/projectspace/train.csv",
          "name": "engine.logs:SelectData_1",
          "pathname": "/usr/local/lib/python3.7/dist-packages/razor/flow/async_executors.py",
          "process": 1378,
          "processName": "ForkProcess-1:3",
          "thread": 140606981535552,
          "threadName": "MainThread"
         },
         {
          "asctime": "2021-03-22 13:13:00,812",
          "created": 1616418780.8121004,
          "extra": {},
          "filename": "async_executors.py",
          "funcName": "fill_atomic_inputs",
          "levelname": "INFO",
          "lineno": 250,
          "message": "SelectData_1: waiting for atomic input: config",
          "name": "engine.logs:SelectData_1",
          "pathname": "/usr/local/lib/python3.7/dist-packages/razor/flow/async_executors.py",
          "process": 1378,
          "processName": "ForkProcess-1:3",
          "thread": 140606981535552,
          "threadName": "MainThread"
         },
         {
          "asctime": "2021-03-22 13:13:00,812",
          "created": 1616418780.8121507,
          "extra": {},
          "filename": "async_executors.py",
          "funcName": "fill_atomic_inputs",
          "levelname": "DEBUG",
          "lineno": 253,
          "message": "SelectData_1: got atomic input: {}",
          "name": "engine.logs:SelectData_1",
          "pathname": "/usr/local/lib/python3.7/dist-packages/razor/flow/async_executors.py",
          "process": 1378,
          "processName": "ForkProcess-1:3",
          "thread": 140606981535552,
          "threadName": "MainThread"
         },
         {
          "asctime": "2021-03-22 13:13:00,818",
          "created": 1616418780.8189032,
          "extra": {},
          "filename": "async_executors.py",
          "funcName": "start_input_receiver",
          "levelname": "DEBUG",
          "lineno": 173,
          "message": "NonSparkPath_1: received cmd: terminate, (), {}",
          "name": "engine.logs:NonSparkPath_1",
          "pathname": "/usr/local/lib/python3.7/dist-packages/razor/flow/async_executors.py",
          "process": 1367,
          "processName": "ForkProcess-1:1",
          "thread": 140606981535552,
          "threadName": "MainThread"
         },
         {
          "asctime": "2021-03-22 13:13:00,812",
          "created": 1616418780.812187,
          "extra": {},
          "filename": "async_executors.py",
          "funcName": "fill_atomic_inputs",
          "levelname": "INFO",
          "lineno": 250,
          "message": "SelectData_1: waiting for atomic input: source",
          "name": "engine.logs:SelectData_1",
          "pathname": "/usr/local/lib/python3.7/dist-packages/razor/flow/async_executors.py",
          "process": 1378,
          "processName": "ForkProcess-1:3",
          "thread": 140606981535552,
          "threadName": "MainThread"
         },
         {
          "asctime": "2021-03-22 13:13:00,812",
          "created": 1616418780.8122346,
          "extra": {},
          "filename": "async_executors.py",
          "funcName": "fill_atomic_inputs",
          "levelname": "DEBUG",
          "lineno": 253,
          "message": "SelectData_1: got atomic input: ",
          "name": "engine.logs:SelectData_1",
          "pathname": "/usr/local/lib/python3.7/dist-packages/razor/flow/async_executors.py",
          "process": 1378,
          "processName": "ForkProcess-1:3",
          "thread": 140606981535552,
          "threadName": "MainThread"
         },
         {
          "asctime": "2021-03-22 13:13:00,812",
          "created": 1616418780.8122864,
          "extra": {},
          "filename": "async_executors.py",
          "funcName": "main",
          "levelname": "DEBUG",
          "lineno": 130,
          "message": "SelectData_1: triggering block run",
          "name": "engine.logs:SelectData_1",
          "pathname": "/usr/local/lib/python3.7/dist-packages/razor/flow/async_executors.py",
          "process": 1378,
          "processName": "ForkProcess-1:3",
          "thread": 140606981535552,
          "threadName": "MainThread"
         },
         {
          "asctime": "2021-03-22 13:13:15,573",
          "created": 1616418795.5731914,
          "exc_info": null,
          "extra": {},
          "filename": null,
          "full_message": null,
          "funcName": null,
          "levelname": "STDOUT",
          "lineno": null,
          "message": "Data Schema\n",
          "name": "block.stdout:ReadCsvProjectSpace_1",
          "pathname": null,
          "process": null,
          "processName": null,
          "thread": null,
          "threadName": null
         },
         {
          "asctime": "2021-03-22 13:13:15,598",
          "created": 1616418795.598207,
          "exc_info": null,
          "extra": {},
          "filename": null,
          "full_message": null,
          "funcName": null,
          "levelname": "STDOUT",
          "lineno": null,
          "message": "root\n |-- filename: string (nullable = true)\n |-- url: string (nullable = true)\n |-- text: string (nullable = true)\n |-- title: string (nullable = true)\n |-- authors: string (nullable = true)\n |-- description: string (nullable = true)\n |-- generatorsite_name: string (nullable = true)\n |-- site: string (nullable = true)\n |-- publisher: string (nullable = true)\n |-- source: string (nullable = true)\n |-- keywords: string (nullable = true)\n |-- label: string (nullable = true)\n |-- generator: string (nullable = true)\n |-- site_name: string (nullable = true)\n |-- author_real_fake: string (nullable = true)\n |-- site_real_fake: string (nullable = true)\n |-- source_real_fake: string (nullable = true)\n\n",
          "name": "block.stdout:ReadCsvProjectSpace_1",
          "pathname": null,
          "process": null,
          "processName": null,
          "thread": null,
          "threadName": null
         },
         {
          "asctime": "2021-03-22 13:13:15,599",
          "created": 1616418795.599314,
          "extra": {},
          "filename": "async_executors.py",
          "funcName": "main",
          "levelname": "DEBUG",
          "lineno": 147,
          "message": "ReadCsvProjectSpace_1: block thread completed",
          "name": "engine.logs:ReadCsvProjectSpace_1",
          "pathname": "/usr/local/lib/python3.7/dist-packages/razor/flow/async_executors.py",
          "process": 1375,
          "processName": "ForkProcess-1:2",
          "thread": 140606981535552,
          "threadName": "MainThread"
         },
         {
          "asctime": "2021-03-22 13:13:15,599",
          "created": 1616418795.5994709,
          "extra": {},
          "filename": "async_executors.py",
          "funcName": "main",
          "levelname": "DEBUG",
          "lineno": 149,
          "message": "ReadCsvProjectSpace_1: block execution complete",
          "name": "engine.logs:ReadCsvProjectSpace_1",
          "pathname": "/usr/local/lib/python3.7/dist-packages/razor/flow/async_executors.py",
          "process": 1375,
          "processName": "ForkProcess-1:2",
          "thread": 140606981535552,
          "threadName": "MainThread"
         },
         {
          "asctime": "2021-03-22 13:13:15,649",
          "created": 1616418795.6498024,
          "extra": {},
          "filename": "async_executors.py",
          "funcName": "start_input_receiver",
          "levelname": "DEBUG",
          "lineno": 173,
          "message": "ReadCsvProjectSpace_1: received cmd: terminate, (), {}",
          "name": "engine.logs:ReadCsvProjectSpace_1",
          "pathname": "/usr/local/lib/python3.7/dist-packages/razor/flow/async_executors.py",
          "process": 1375,
          "processName": "ForkProcess-1:2",
          "thread": 140606981535552,
          "threadName": "MainThread"
         },
         {
          "asctime": "2021-03-22 13:13:24,395",
          "created": 1616418804.3957937,
          "exc_info": null,
          "extra": {},
          "filename": null,
          "full_message": null,
          "funcName": null,
          "levelname": "STDOUT",
          "lineno": null,
          "message": "Data Stat\n",
          "name": "block.stdout:SelectData_1",
          "pathname": null,
          "process": null,
          "processName": null,
          "thread": null,
          "threadName": null
         },
         {
          "asctime": "2021-03-22 13:13:24,577",
          "created": 1616418804.5770416,
          "exc_info": null,
          "extra": {},
          "filename": null,
          "full_message": null,
          "funcName": null,
          "levelname": "STDOUT",
          "lineno": null,
          "message": "+-------+--------------------+--------------------+------------------+-------------------+--------------------+--------------------+--------------------+--------------------+--------------------+--------------------+--------------------+--------------------+--------------------+-----------------+--------------------+------------------+--------------------+\n|summary|            filename|                 url|              text|              title|             authors|         description|  generatorsite_name|                site|           publisher|              source|            keywords|               label|           generator|        site_name|    author_real_fake|    site_real_fake|    source_real_fake|\n+-------+--------------------+--------------------+------------------+-------------------+--------------------+--------------------+--------------------+--------------------+--------------------+--------------------+--------------------+--------------------+--------------------+-----------------+--------------------+------------------+--------------------+\n|  count|              272616|              181552|            128328|              81811|               57908|               42104|               30615|               27004|               20961|               22433|               15810|               17420|               15470|            15804|               17740|             12726|                9481|\n|   mean|   1109.118811881188|  1186.2667137064072|1774.3167198177678|           Infinity|   870.9989572471325|   837.4283604135894|1.138840529687215...|3.387593965038744E12|6.520388618481169E12|3.209344762622531E10| 3.631674994312368E7|  31.409791666666667|   72.45404984423676|99.92271147161067|  103.64607679465776|134.22727272727272|  135.28996282527882|\n| stddev|   979.9104172028045|   3565.682634661902|36097.935199030144|                NaN|   3040.050933364758|   966.3141707493204|4.157606800738598...|3.014439627384858...| 9.06181384162679E13|2.274839506508085E12| 2.093493214811875E9|   245.4531838445518|    367.745311881348|439.6321228080409|   423.9669147032712| 482.8525735300329|  472.62130790143317|\n|    min|         \t1. In 2010|                    |                  |                   | \"\" Scheana revea...| \"\"#CountessAndFr...| \"\" [but] we forg...|                    | \"\"... You really...| \"\"\"\"yeah [pause]...| \"\"...it’s just a...| \"\"\"\"yeah [pause]...| \"\"7th Heaven\"\" f...|  \"\"About a Boy\"\"| \"\"All I Want for...|            \"\"22\"\"| \"\"A Little Less ...|\n|    max|🚨BREAKING: Sourc...|��� the source sa...|                 ≠|盘他直播app官网下载|”’ he explains. ‘...|﻿Ryan Gosling and...|                  ”.|” “fucking gross....|      ” “Total Divas|” “Total Bellas” ...|          ” “The 100|         ” “iZombie”|         ” “S.W.A.T.| ” “Young Sheldon|   ” “Criminal Minds|                …\"|        ” “targeting|\n+-------+--------------------+--------------------+------------------+-------------------+--------------------+--------------------+--------------------+--------------------+--------------------+--------------------+--------------------+--------------------+--------------------+-----------------+--------------------+------------------+--------------------+\n\n",
          "name": "block.stdout:SelectData_1",
          "pathname": null,
          "process": null,
          "processName": null,
          "thread": null,
          "threadName": null
         },
         {
          "asctime": "2021-03-22 13:13:24,578",
          "created": 1616418804.5782,
          "extra": {},
          "filename": "async_executors.py",
          "funcName": "main",
          "levelname": "DEBUG",
          "lineno": 147,
          "message": "SelectData_1: block thread completed",
          "name": "engine.logs:SelectData_1",
          "pathname": "/usr/local/lib/python3.7/dist-packages/razor/flow/async_executors.py",
          "process": 1378,
          "processName": "ForkProcess-1:3",
          "thread": 140606981535552,
          "threadName": "MainThread"
         },
         {
          "asctime": "2021-03-22 13:13:24,578",
          "created": 1616418804.578401,
          "extra": {},
          "filename": "async_executors.py",
          "funcName": "main",
          "levelname": "DEBUG",
          "lineno": 149,
          "message": "SelectData_1: block execution complete",
          "name": "engine.logs:SelectData_1",
          "pathname": "/usr/local/lib/python3.7/dist-packages/razor/flow/async_executors.py",
          "process": 1378,
          "processName": "ForkProcess-1:3",
          "thread": 140606981535552,
          "threadName": "MainThread"
         },
         {
          "asctime": "2021-03-22 13:13:24,585",
          "created": 1616418804.5852537,
          "extra": {},
          "filename": "async_executors.py",
          "funcName": "start_input_receiver",
          "levelname": "DEBUG",
          "lineno": 173,
          "message": "SelectData_1: received cmd: terminate, (), {}",
          "name": "engine.logs:SelectData_1",
          "pathname": "/usr/local/lib/python3.7/dist-packages/razor/flow/async_executors.py",
          "process": 1378,
          "processName": "ForkProcess-1:3",
          "thread": 140606981535552,
          "threadName": "MainThread"
         }
        ],
        "meta": {
         "block_status": {
          "NonSparkPath_1": "SUCCESS",
          "ReadCsvProjectSpace_1": "SUCCESS",
          "SelectData_1": "SUCCESS"
         },
         "blocks": [
          {
           "class_name": "NonSparkPath",
           "fullname": ".NonSparkPath",
           "id": "c4a503a2-c365-4963-a109-482608a27edd",
           "inputs": [
            {
             "dataType": "string",
             "default": "",
             "flow": "atomic",
             "help": null,
             "isdict": false,
             "islist": false,
             "label": "ip_path",
             "meta": {},
             "name": "ip_path",
             "series": false,
             "type": "str",
             "type_check": true
            }
           ],
           "outputs": [
            {
             "flow": "atomic",
             "help": null,
             "label": "op_path",
             "meta": {},
             "name": "op_path",
             "series": false,
             "type": "str",
             "type_check": true
            }
           ],
           "overwritten": false,
           "published": false,
           "var_names": [
            "NonSparkPath"
           ]
          },
          {
           "class_name": "SelectData",
           "fullname": ".SelectData",
           "id": "80ea726b-5fc7-4a15-b8e0-19a043e9c009",
           "inputs": [
            {
             "dataType": "string",
             "default": "",
             "flow": "atomic",
             "help": null,
             "isdict": false,
             "islist": false,
             "label": "filename",
             "meta": {},
             "name": "filename",
             "series": false,
             "type": "str",
             "type_check": true
            },
            {
             "dataType": "dict",
             "default": {},
             "flow": "atomic",
             "help": null,
             "isdict": false,
             "islist": false,
             "label": "config",
             "meta": {},
             "name": "config",
             "series": false,
             "type": "dict",
             "type_check": true
            },
            {
             "dataType": "string",
             "default": "",
             "flow": "atomic",
             "help": null,
             "isdict": false,
             "islist": false,
             "label": "source",
             "meta": {},
             "name": "source",
             "series": false,
             "type": "str",
             "type_check": true
            }
           ],
           "outputs": [],
           "overwritten": false,
           "published": false,
           "var_names": [
            "SelectData"
           ]
          },
          {
           "class_name": "ReadCsvProjectSpace",
           "fullname": ".ReadCsvProjectSpace",
           "id": "b5cd1683-e081-4acf-8bf6-9ab33f91826f",
           "inputs": [
            {
             "dataType": "string",
             "default": "",
             "flow": "atomic",
             "help": null,
             "isdict": false,
             "islist": false,
             "label": "filename",
             "meta": {},
             "name": "filename",
             "series": false,
             "type": "str",
             "type_check": true
            },
            {
             "dataType": "dict",
             "default": {},
             "flow": "atomic",
             "help": null,
             "isdict": false,
             "islist": false,
             "label": "config",
             "meta": {},
             "name": "config",
             "series": false,
             "type": "dict",
             "type_check": true
            },
            {
             "dataType": "string",
             "default": "",
             "flow": "atomic",
             "help": null,
             "isdict": false,
             "islist": false,
             "label": "source",
             "meta": {},
             "name": "source",
             "series": false,
             "type": "str",
             "type_check": true
            }
           ],
           "outputs": [],
           "overwritten": false,
           "published": false,
           "var_names": [
            "ReadCsvProjectSpace"
           ]
          }
         ],
         "connections": [
          {
           "id": "646baa16-c7bf-4722-a1d1-b5f6e7b7aa9b",
           "source": {
            "adapter": false,
            "instance_id": "4fdc8fba-a8fd-4a2b-9363-3d0ad125a80b",
            "name": "op_path"
           },
           "target": {
            "adapter": false,
            "instance_id": "13042cfd-9958-43cf-80cc-1b130143413e",
            "name": "filename"
           }
          },
          {
           "id": "d9220486-7fab-4a96-9c8f-dc7467983978",
           "source": {
            "adapter": false,
            "instance_id": "4fdc8fba-a8fd-4a2b-9363-3d0ad125a80b",
            "name": "op_path"
           },
           "target": {
            "adapter": false,
            "instance_id": "08306a7b-7db7-41b4-8618-9c9ce8be568d",
            "name": "filename"
           }
          }
         ],
         "end": 1616418804.588281,
         "id": "3cfb3892-17a0-437a-b18c-59adbbf94f80",
         "instances": [
          {
           "block_class": "b5cd1683-e081-4acf-8bf6-9ab33f91826f",
           "id": "08306a7b-7db7-41b4-8618-9c9ce8be568d",
           "name": "ReadCsvProjectSpace_1",
           "var_names": [
            "rcp"
           ]
          },
          {
           "block_class": "c4a503a2-c365-4963-a109-482608a27edd",
           "id": "4fdc8fba-a8fd-4a2b-9363-3d0ad125a80b",
           "name": "NonSparkPath_1",
           "var_names": [
            "nsp"
           ]
          },
          {
           "block_class": "80ea726b-5fc7-4a15-b8e0-19a043e9c009",
           "id": "13042cfd-9958-43cf-80cc-1b130143413e",
           "name": "SelectData_1",
           "var_names": [
            "sd"
           ]
          }
         ],
         "log_level": 20,
         "name": "Pipeline_1",
         "start": 1616418780.4972281,
         "status": "SUCCESS",
         "system_logs": false,
         "var_names": []
        },
        "metrics": {},
        "runtime": {
         "NonSparkPath_1": {
          "end": 1616418780.8152223,
          "load": 1616418780.4985518,
          "start": 1616418780.5059931
         },
         "ReadCsvProjectSpace_1": {
          "end": 1616418795.6036007,
          "load": 1616418780.7620513,
          "start": 1616418780.7718353
         },
         "SelectData_1": {
          "end": 1616418804.582624,
          "load": 1616418780.775136,
          "start": 1616418780.7824547
         }
        }
       },
       "store_in_notebook": true
      }
     },
     "output_type": "display_data"
    },
    {
     "data": {
      "text/plain": [
       "{}"
      ]
     },
     "execution_count": 8,
     "metadata": {},
     "output_type": "execute_result"
    }
   ],
   "source": [
    "pipe.execute()"
   ]
  },
  {
   "cell_type": "code",
   "execution_count": null,
   "id": "ambient-spine",
   "metadata": {},
   "outputs": [],
   "source": []
  },
  {
   "cell_type": "code",
   "execution_count": null,
   "id": "directed-thermal",
   "metadata": {},
   "outputs": [],
   "source": []
  }
 ],
 "metadata": {
  "kernelspec": {
   "display_name": "Python 3",
   "language": "python",
   "name": "python3"
  },
  "language_info": {
   "codemirror_mode": {
    "name": "ipython",
    "version": 3
   },
   "file_extension": ".py",
   "mimetype": "text/x-python",
   "name": "python",
   "nbconvert_exporter": "python",
   "pygments_lexer": "ipython3",
   "version": "3.7.10"
  }
 },
 "nbformat": 4,
 "nbformat_minor": 5
}
