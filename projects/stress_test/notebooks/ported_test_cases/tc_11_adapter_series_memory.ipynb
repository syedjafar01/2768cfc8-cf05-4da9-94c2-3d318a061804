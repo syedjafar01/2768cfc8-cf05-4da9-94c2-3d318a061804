{
 "cells": [
  {
   "cell_type": "code",
   "execution_count": 1,
   "metadata": {},
   "outputs": [],
   "source": [
    "import razor.flow as rf\n",
    "from razor import api\n",
    "import logging\n",
    "import time, os\n",
    "import typing as typ\n",
    "import numpy as np\n",
    "import pandas as pd\n",
    "\n",
    "logger = logging.getLogger()"
   ]
  },
  {
   "cell_type": "code",
   "execution_count": 2,
   "metadata": {},
   "outputs": [],
   "source": [
    "def project_space_path(path):\n",
    "    ps = api.datasources('Project Space')\n",
    "    return os.path.join(ps.abspath(), path)\n"
   ]
  },
  {
   "cell_type": "code",
   "execution_count": 3,
   "metadata": {},
   "outputs": [],
   "source": [
    "def str_replace(text_str):\n",
    "    return text_str.replace('!!!R!!!', 'r')\n",
    "\n",
    "@rf.block\n",
    "class STDIn:\n",
    "    filename: str\n",
    "    records: int\n",
    "    out_ds: rf.SeriesOutput[typ.Any] = rf.Output(transport=rf.KafkaTransport)\n",
    "\n",
    "    def run(self):\n",
    "        with open(project_space_path(self.filename), 'r') as f:\n",
    "            text_str = f.read()\n",
    "\n",
    "        text_str = text_str.replace('r', '!!!R!!!')\n",
    "        logger.info(len(text_str))\n",
    "        for _ in range(self.records):\n",
    "            self.out_ds.put(text_str)\n",
    "\n",
    "\n",
    "@rf.block\n",
    "class STDOut:\n",
    "    in_ds: rf.SeriesInput[typ.Any]\n",
    "    out_filename: str\n",
    "\n",
    "    def run(self):\n",
    "        text_str = ''\n",
    "        for i in self.in_ds:\n",
    "            if len(text_str) == 0:\n",
    "                text_str = i\n",
    "            else:\n",
    "                continue\n",
    "        logger.info(len(text_str))\n",
    "        with open(project_space_path(self.out_filename), 'w') as f:\n",
    "            f.write(text_str)\n",
    "            "
   ]
  },
  {
   "cell_type": "code",
   "execution_count": null,
   "metadata": {},
   "outputs": [],
   "source": []
  },
  {
   "cell_type": "code",
   "execution_count": 4,
   "metadata": {},
   "outputs": [
    {
     "data": {
      "application/vnd.razorthink.interactive+pipeline+view+json": {
       "blocks": [
        {
         "class_name": "STDIn",
         "fullname": ".STDIn",
         "id": "439f2453-53fa-461d-b2a6-6c2863f64af0",
         "inputs": [
          {
           "dataType": "string",
           "default": "",
           "flow": "atomic",
           "help": null,
           "isdict": false,
           "islist": false,
           "label": "filename",
           "meta": {},
           "name": "filename",
           "series": false,
           "type": "str",
           "type_check": true
          },
          {
           "dataType": "integer",
           "default": 0,
           "flow": "atomic",
           "help": null,
           "isdict": false,
           "islist": false,
           "label": "records",
           "meta": {},
           "name": "records",
           "series": false,
           "type": "int",
           "type_check": true
          }
         ],
         "outputs": [
          {
           "flow": "series",
           "help": null,
           "label": "out_ds",
           "meta": {},
           "name": "out_ds",
           "series": true,
           "type": "Any",
           "type_check": true
          }
         ],
         "overwritten": false,
         "published": false,
         "var_names": [
          "STDIn"
         ]
        },
        {
         "class_name": "STDOut",
         "fullname": ".STDOut",
         "id": "0d0f2475-a2e7-4d4f-876f-6627ed14ccea",
         "inputs": [
          {
           "dataType": null,
           "default": null,
           "flow": "series",
           "help": null,
           "isdict": false,
           "islist": false,
           "label": "in_ds",
           "meta": {},
           "name": "in_ds",
           "series": true,
           "type": "Any",
           "type_check": true
          },
          {
           "dataType": "string",
           "default": "",
           "flow": "atomic",
           "help": null,
           "isdict": false,
           "islist": false,
           "label": "out_filename",
           "meta": {},
           "name": "out_filename",
           "series": false,
           "type": "str",
           "type_check": true
          }
         ],
         "outputs": [],
         "overwritten": false,
         "published": false,
         "var_names": [
          "STDOut"
         ]
        }
       ],
       "connections": [
        {
         "id": "2992dcad-438d-4189-937a-5701cf2314e7",
         "source": {
          "adapter": true,
          "instance_id": "20136e56-8a9c-47f1-857c-f2f846e77686",
          "name": "out_ds"
         },
         "target": {
          "adapter": false,
          "instance_id": "bbcd93cf-1a86-4edc-87a5-166a8448a3a5",
          "name": "in_ds"
         }
        }
       ],
       "id": "4345373c-6672-4e44-a744-8de53779b53c",
       "instances": [
        {
         "block_class": "0d0f2475-a2e7-4d4f-876f-6627ed14ccea",
         "id": "bbcd93cf-1a86-4edc-87a5-166a8448a3a5",
         "name": "STDOut_1",
         "var_names": [
          "std_out"
         ]
        },
        {
         "block_class": "439f2453-53fa-461d-b2a6-6c2863f64af0",
         "id": "20136e56-8a9c-47f1-857c-f2f846e77686",
         "name": "STDIn_1",
         "var_names": [
          "std_in"
         ]
        }
       ],
       "name": "adapter_series_kafka_transport",
       "var_names": []
      },
      "image/svg+xml": [
       "<?xml version=\"1.0\" encoding=\"UTF-8\" standalone=\"no\"?>\n",
       "<!DOCTYPE svg PUBLIC \"-//W3C//DTD SVG 1.1//EN\"\n",
       " \"http://www.w3.org/Graphics/SVG/1.1/DTD/svg11.dtd\">\n",
       "<!-- Generated by graphviz version 2.43.0 (0)\n",
       " -->\n",
       "<!-- Title: %3 Pages: 1 -->\n",
       "<svg width=\"146pt\" height=\"127pt\"\n",
       " viewBox=\"0.00 0.00 145.70 127.00\" xmlns=\"http://www.w3.org/2000/svg\" xmlns:xlink=\"http://www.w3.org/1999/xlink\">\n",
       "<g id=\"graph0\" class=\"graph\" transform=\"scale(1 1) rotate(0) translate(4 123)\">\n",
       "<title>%3</title>\n",
       "<polygon fill=\"white\" stroke=\"transparent\" points=\"-4,4 -4,-123 141.7,-123 141.7,4 -4,4\"/>\n",
       "<!-- STDOut(&#39;STDOut_1&#39;) -->\n",
       "<g id=\"node1\" class=\"node\">\n",
       "<title>STDOut(&#39;STDOut_1&#39;)</title>\n",
       "<ellipse fill=\"none\" stroke=\"black\" cx=\"67.7\" cy=\"-18\" rx=\"67.89\" ry=\"18\"/>\n",
       "<text text-anchor=\"middle\" x=\"67.7\" y=\"-15.5\" font-family=\"Helvetica,sans-Serif\" font-size=\"10.00\">STDOut(&#39;STDOut_1&#39;)</text>\n",
       "</g>\n",
       "<!-- STDIn(&#39;STDIn_1&#39;) -->\n",
       "<g id=\"node2\" class=\"node\">\n",
       "<title>STDIn(&#39;STDIn_1&#39;)</title>\n",
       "<ellipse fill=\"none\" stroke=\"black\" cx=\"67.7\" cy=\"-101\" rx=\"57.88\" ry=\"18\"/>\n",
       "<text text-anchor=\"middle\" x=\"67.7\" y=\"-98.5\" font-family=\"Helvetica,sans-Serif\" font-size=\"10.00\">STDIn(&#39;STDIn_1&#39;)</text>\n",
       "</g>\n",
       "<!-- STDIn(&#39;STDIn_1&#39;)&#45;&gt;STDOut(&#39;STDOut_1&#39;) -->\n",
       "<g id=\"edge1\" class=\"edge\">\n",
       "<title>STDIn(&#39;STDIn_1&#39;)&#45;&gt;STDOut(&#39;STDOut_1&#39;)</title>\n",
       "<path fill=\"none\" stroke=\"black\" d=\"M67.7,-82.82C67.7,-72.19 67.7,-58.31 67.7,-46.2\"/>\n",
       "<polygon fill=\"black\" stroke=\"black\" points=\"71.2,-46.15 67.7,-36.15 64.2,-46.15 71.2,-46.15\"/>\n",
       "<text text-anchor=\"middle\" x=\"102.7\" y=\"-57\" font-family=\"Helvetica,sans-Serif\" font-size=\"10.00\">out_ds&#45;&gt;in_ds</text>\n",
       "</g>\n",
       "</g>\n",
       "</svg>\n"
      ],
      "text/plain": [
       "<razor.flow.pipeline.Pipeline at 0x7fe2dcac6b90>"
      ]
     },
     "execution_count": 4,
     "metadata": {},
     "output_type": "execute_result"
    }
   ],
   "source": [
    "config = {'cores': 1, 'ram': 4096}\n",
    "\n",
    "records = 1000\n",
    "size = '10MB'\n",
    "ip_filename = project_space_path(\"sdk_testbench/input_data/file\" + size + \".txt\")\n",
    "op_filename = project_space_path(\"sdk_testbench/output_data/tc_11.txt\")\n",
    "\n",
    "std_in = STDIn(records=records, filename=ip_filename)\n",
    "# std_in.executor = rf.ContainerExecutor(cores=config['cores'], memory=config['ram'])\n",
    "std_in.out_ds = rf.Output.set(adapter=str_replace)\n",
    "\n",
    "std_out = STDOut(in_ds=std_in.out_ds, out_filename=op_filename)\n",
    "# std_out.executor = rf.ContainerExecutor(cores=config['cores'], memory=config['ram'])\n",
    "\n",
    "pipeline = rf.Pipeline(name='adapter_series_transport', targets=[std_out])\n",
    "pipeline\n"
   ]
  },
  {
   "cell_type": "code",
   "execution_count": null,
   "metadata": {},
   "outputs": [
    {
     "data": {
      "application/vnd.razorthink.run+monitor+json": "/tmp/tmpdpr6c32k/adapter_series_kafka_transport",
      "text/plain": [
       "<razor_tools.backend.ipython.mime.run_monitor.RunMonitor at 0x7fe25aa71d10>"
      ]
     },
     "metadata": {
      "application/vnd.razorthink.run+monitor+json": {
       "run_data": {
        "apm": [
         {
          "cpu_percent": 0,
          "cpu_time": 0,
          "name": "STDOut_1",
          "real_mem": 147763200,
          "time": 1615204234.363159
         },
         {
          "cpu_percent": 0,
          "cpu_time": 0,
          "name": "STDIn_1",
          "real_mem": 147820544,
          "time": 1615204234.3751352
         },
         {
          "cpu_percent": 0,
          "cpu_time": 0,
          "name": "STDOut_1",
          "real_mem": 147763200,
          "time": 1615204234.4873292
         },
         {
          "cpu_percent": 0,
          "cpu_time": 0,
          "name": "STDIn_1",
          "real_mem": 147820544,
          "time": 1615204234.4988966
         },
         {
          "cpu_percent": 0,
          "cpu_time": 0.01,
          "name": "STDOut_1",
          "real_mem": 150048768,
          "time": 1615204234.6113102
         },
         {
          "cpu_percent": 0,
          "cpu_time": 0.02,
          "name": "STDIn_1",
          "real_mem": 150503424,
          "time": 1615204234.6228406
         },
         {
          "cpu_percent": 0,
          "cpu_time": 0.01,
          "name": "STDOut_1",
          "real_mem": 150048768,
          "time": 1615204234.7351363
         },
         {
          "cpu_percent": 0,
          "cpu_time": 0.03,
          "name": "STDIn_1",
          "real_mem": 150716416,
          "time": 1615204234.7466648
         },
         {
          "cpu_percent": 0,
          "cpu_time": 0.01,
          "name": "STDOut_1",
          "real_mem": 150048768,
          "time": 1615204234.8587492
         },
         {
          "cpu_percent": 0,
          "cpu_time": 0.03,
          "name": "STDIn_1",
          "real_mem": 150716416,
          "time": 1615204234.870363
         },
         {
          "cpu_percent": 0,
          "cpu_time": 0.01,
          "name": "STDOut_1",
          "real_mem": 150048768,
          "time": 1615204234.9823923
         },
         {
          "cpu_percent": 0,
          "cpu_time": 0.04,
          "name": "STDIn_1",
          "real_mem": 154705920,
          "time": 1615204234.9937758
         },
         {
          "cpu_percent": 0,
          "cpu_time": 0.01,
          "name": "STDOut_1",
          "real_mem": 150048768,
          "time": 1615204235.1060138
         },
         {
          "cpu_percent": 0,
          "cpu_time": 0.05,
          "name": "STDIn_1",
          "real_mem": 159031296,
          "time": 1615204235.1180336
         },
         {
          "cpu_percent": 0,
          "cpu_time": 0.01,
          "name": "STDOut_1",
          "real_mem": 150048768,
          "time": 1615204235.230211
         },
         {
          "cpu_percent": 98.5,
          "cpu_time": 0.17,
          "name": "STDIn_1",
          "real_mem": 188190720,
          "time": 1615204235.2415848
         },
         {
          "cpu_percent": 0,
          "cpu_time": 0.01,
          "name": "STDOut_1",
          "real_mem": 150048768,
          "time": 1615204235.353572
         },
         {
          "cpu_percent": 98.1,
          "cpu_time": 0.28,
          "name": "STDIn_1",
          "real_mem": 218464256,
          "time": 1615204235.3667674
         },
         {
          "cpu_percent": 0,
          "cpu_time": 0.01,
          "name": "STDOut_1",
          "real_mem": 150048768,
          "time": 1615204235.478901
         },
         {
          "cpu_percent": 195.4,
          "cpu_time": 0.41,
          "name": "STDIn_1",
          "real_mem": 248541184,
          "time": 1615204235.4904675
         },
         {
          "cpu_percent": 98.4,
          "cpu_time": 0.06,
          "name": "STDOut_1",
          "real_mem": 168161280,
          "time": 1615204235.6023364
         },
         {
          "cpu_percent": 97.4,
          "cpu_time": 0.49,
          "name": "STDIn_1",
          "real_mem": 266366976,
          "time": 1615204235.6671154
         },
         {
          "cpu_percent": 0,
          "cpu_time": 0.06,
          "name": "STDOut_1",
          "real_mem": 169242624,
          "time": 1615204235.7788324
         },
         {
          "cpu_percent": 0,
          "cpu_time": 0.6,
          "name": "STDIn_1",
          "real_mem": 282603520,
          "time": 1615204235.79042
         },
         {
          "cpu_percent": 0,
          "cpu_time": 0.12,
          "name": "STDOut_1",
          "real_mem": 188416000,
          "time": 1615204235.9024496
         },
         {
          "cpu_percent": 0,
          "cpu_time": 0.66,
          "name": "STDIn_1",
          "real_mem": 296656896,
          "time": 1615204235.9143612
         },
         {
          "cpu_percent": 0,
          "cpu_time": 0.14,
          "name": "STDOut_1",
          "real_mem": 198148096,
          "time": 1615204236.0268989
         },
         {
          "cpu_percent": 0,
          "cpu_time": 0.74,
          "name": "STDIn_1",
          "real_mem": 298819584,
          "time": 1615204236.0674684
         },
         {
          "cpu_percent": 0,
          "cpu_time": 0.16,
          "name": "STDOut_1",
          "real_mem": 198148096,
          "time": 1615204236.1797638
         },
         {
          "cpu_percent": 98.4,
          "cpu_time": 0.86,
          "name": "STDIn_1",
          "real_mem": 316125184,
          "time": 1615204236.1915379
         },
         {
          "cpu_percent": 0,
          "cpu_time": 0.16,
          "name": "STDOut_1",
          "real_mem": 198148096,
          "time": 1615204236.3054585
         },
         {
          "cpu_percent": 197.4,
          "cpu_time": 0.98,
          "name": "STDIn_1",
          "real_mem": 330723328,
          "time": 1615204236.3167536
         },
         {
          "cpu_percent": 0,
          "cpu_time": 0.17,
          "name": "STDOut_1",
          "real_mem": 198148096,
          "time": 1615204236.4287696
         },
         {
          "cpu_percent": 97.5,
          "cpu_time": 1.07,
          "name": "STDIn_1",
          "real_mem": 353157120,
          "time": 1615204236.4404614
         },
         {
          "cpu_percent": 0,
          "cpu_time": 0.17,
          "name": "STDOut_1",
          "real_mem": 198148096,
          "time": 1615204236.5666513
         },
         {
          "cpu_percent": 197.1,
          "cpu_time": 1.19,
          "name": "STDIn_1",
          "real_mem": 367755264,
          "time": 1615204236.5780377
         },
         {
          "cpu_percent": 0,
          "cpu_time": 0.18,
          "name": "STDOut_1",
          "real_mem": 198148096,
          "time": 1615204236.690082
         },
         {
          "cpu_percent": 98.6,
          "cpu_time": 1.28,
          "name": "STDIn_1",
          "real_mem": 379650048,
          "time": 1615204236.7015033
         },
         {
          "cpu_percent": 0,
          "cpu_time": 0.2,
          "name": "STDOut_1",
          "real_mem": 198148096,
          "time": 1615204236.8135896
         },
         {
          "cpu_percent": 98.5,
          "cpu_time": 1.4,
          "name": "STDIn_1",
          "real_mem": 403169280,
          "time": 1615204236.824949
         },
         {
          "cpu_percent": 0,
          "cpu_time": 0.2,
          "name": "STDOut_1",
          "real_mem": 198148096,
          "time": 1615204236.9369428
         },
         {
          "cpu_percent": 196.6,
          "cpu_time": 1.5,
          "name": "STDIn_1",
          "real_mem": 406953984,
          "time": 1615204236.967334
         },
         {
          "cpu_percent": 0,
          "cpu_time": 0.21,
          "name": "STDOut_1",
          "real_mem": 198148096,
          "time": 1615204237.0796869
         },
         {
          "cpu_percent": 97.6,
          "cpu_time": 1.61,
          "name": "STDIn_1",
          "real_mem": 422907904,
          "time": 1615204237.0921936
         },
         {
          "cpu_percent": 98.3,
          "cpu_time": 0.23,
          "name": "STDOut_1",
          "real_mem": 198148096,
          "time": 1615204237.2043989
         },
         {
          "cpu_percent": 0,
          "cpu_time": 1.72,
          "name": "STDIn_1",
          "real_mem": 442101760,
          "time": 1615204237.2164218
         },
         {
          "cpu_percent": 0,
          "cpu_time": 0.23,
          "name": "STDOut_1",
          "real_mem": 198148096,
          "time": 1615204237.3283303
         },
         {
          "cpu_percent": 98.5,
          "cpu_time": 1.82,
          "name": "STDIn_1",
          "real_mem": 451833856,
          "time": 1615204237.339601
         },
         {
          "cpu_percent": 98.5,
          "cpu_time": 0.24,
          "name": "STDOut_1",
          "real_mem": 198148096,
          "time": 1615204237.4665039
         },
         {
          "cpu_percent": 98.4,
          "cpu_time": 1.93,
          "name": "STDIn_1",
          "real_mem": 471298048,
          "time": 1615204237.4778616
         },
         {
          "cpu_percent": 0,
          "cpu_time": 0.24,
          "name": "STDOut_1",
          "real_mem": 198148096,
          "time": 1615204237.5898256
         },
         {
          "cpu_percent": 196.4,
          "cpu_time": 2.04,
          "name": "STDIn_1",
          "real_mem": 481030144,
          "time": 1615204237.6013007
         },
         {
          "cpu_percent": 0,
          "cpu_time": 0.25,
          "name": "STDOut_1",
          "real_mem": 198148096,
          "time": 1615204237.7134767
         },
         {
          "cpu_percent": 0,
          "cpu_time": 2.13,
          "name": "STDIn_1",
          "real_mem": 504545280,
          "time": 1615204237.724927
         },
         {
          "cpu_percent": 0,
          "cpu_time": 0.27,
          "name": "STDOut_1",
          "real_mem": 198148096,
          "time": 1615204237.8666549
         },
         {
          "cpu_percent": 98.2,
          "cpu_time": 2.26,
          "name": "STDIn_1",
          "real_mem": 511307776,
          "time": 1615204237.8784838
         },
         {
          "cpu_percent": 83,
          "cpu_time": 0.28,
          "name": "STDOut_1",
          "real_mem": 198148096,
          "time": 1615204237.9927464
         },
         {
          "cpu_percent": 196.1,
          "cpu_time": 2.36,
          "name": "STDIn_1",
          "real_mem": 526176256,
          "time": 1615204238.0043473
         },
         {
          "cpu_percent": 0,
          "cpu_time": 0.28,
          "name": "STDOut_1",
          "real_mem": 198148096,
          "time": 1615204238.1164687
         },
         {
          "cpu_percent": 98.3,
          "cpu_time": 2.45,
          "name": "STDIn_1",
          "real_mem": 546447360,
          "time": 1615204238.127938
         },
         {
          "cpu_percent": 0,
          "cpu_time": 0.29,
          "name": "STDOut_1",
          "real_mem": 198148096,
          "time": 1615204238.2401876
         },
         {
          "cpu_percent": 97.8,
          "cpu_time": 2.56,
          "name": "STDIn_1",
          "real_mem": 559423488,
          "time": 1615204238.266876
         },
         {
          "cpu_percent": 0,
          "cpu_time": 0.3,
          "name": "STDOut_1",
          "real_mem": 198148096,
          "time": 1615204238.3788576
         },
         {
          "cpu_percent": 96.6,
          "cpu_time": 2.66,
          "name": "STDIn_1",
          "real_mem": 577536000,
          "time": 1615204238.3905761
         },
         {
          "cpu_percent": 0,
          "cpu_time": 0.31,
          "name": "STDOut_1",
          "real_mem": 198148096,
          "time": 1615204238.5024223
         },
         {
          "cpu_percent": 98.6,
          "cpu_time": 2.76,
          "name": "STDIn_1",
          "real_mem": 587268096,
          "time": 1615204238.5136998
         },
         {
          "cpu_percent": 0,
          "cpu_time": 0.32,
          "name": "STDOut_1",
          "real_mem": 198148096,
          "time": 1615204238.6256638
         },
         {
          "cpu_percent": 196.8,
          "cpu_time": 2.88,
          "name": "STDIn_1",
          "real_mem": 587542528,
          "time": 1615204238.637162
         },
         {
          "cpu_percent": 0,
          "cpu_time": 0.33,
          "name": "STDOut_1",
          "real_mem": 198148096,
          "time": 1615204238.7673564
         },
         {
          "cpu_percent": 197,
          "cpu_time": 2.99,
          "name": "STDIn_1",
          "real_mem": 601600000,
          "time": 1615204238.778706
         },
         {
          "cpu_percent": 0,
          "cpu_time": 0.33,
          "name": "STDOut_1",
          "real_mem": 198148096,
          "time": 1615204238.890872
         },
         {
          "cpu_percent": 0,
          "cpu_time": 3.08,
          "name": "STDIn_1",
          "real_mem": 621600768,
          "time": 1615204238.90237
         },
         {
          "cpu_percent": 0,
          "cpu_time": 0.35,
          "name": "STDOut_1",
          "real_mem": 198148096,
          "time": 1615204239.014272
         },
         {
          "cpu_percent": 97.9,
          "cpu_time": 3.19,
          "name": "STDIn_1",
          "real_mem": 635658240,
          "time": 1615204239.0263634
         },
         {
          "cpu_percent": 0,
          "cpu_time": 0.36,
          "name": "STDOut_1",
          "real_mem": 198148096,
          "time": 1615204239.1385283
         },
         {
          "cpu_percent": 98.1,
          "cpu_time": 3.3,
          "name": "STDIn_1",
          "real_mem": 646201344,
          "time": 1615204239.1666067
         },
         {
          "cpu_percent": 0,
          "cpu_time": 0.37,
          "name": "STDOut_1",
          "real_mem": 198148096,
          "time": 1615204239.278724
         },
         {
          "cpu_percent": 0,
          "cpu_time": 3.4,
          "name": "STDIn_1",
          "real_mem": 658096128,
          "time": 1615204239.2902012
         },
         {
          "cpu_percent": 0,
          "cpu_time": 0.37,
          "name": "STDOut_1",
          "real_mem": 198148096,
          "time": 1615204239.401998
         },
         {
          "cpu_percent": 196.6,
          "cpu_time": 3.53,
          "name": "STDIn_1",
          "real_mem": 679997440,
          "time": 1615204239.4135413
         },
         {
          "cpu_percent": 0,
          "cpu_time": 0.37,
          "name": "STDOut_1",
          "real_mem": 198148096,
          "time": 1615204239.525619
         },
         {
          "cpu_percent": 196.9,
          "cpu_time": 3.64,
          "name": "STDIn_1",
          "real_mem": 703512576,
          "time": 1615204239.5372417
         },
         {
          "cpu_percent": 0,
          "cpu_time": 0.39,
          "name": "STDOut_1",
          "real_mem": 198148096,
          "time": 1615204239.6664994
         },
         {
          "cpu_percent": 98.6,
          "cpu_time": 3.74,
          "name": "STDIn_1",
          "real_mem": 718651392,
          "time": 1615204239.6782212
         },
         {
          "cpu_percent": 0,
          "cpu_time": 0.4,
          "name": "STDOut_1",
          "real_mem": 198148096,
          "time": 1615204239.7902343
         },
         {
          "cpu_percent": 98.4,
          "cpu_time": 3.84,
          "name": "STDIn_1",
          "real_mem": 722980864,
          "time": 1615204239.8015752
         },
         {
          "cpu_percent": 0,
          "cpu_time": 0.41,
          "name": "STDOut_1",
          "real_mem": 198148096,
          "time": 1615204239.9139688
         },
         {
          "cpu_percent": 98.3,
          "cpu_time": 3.96,
          "name": "STDIn_1",
          "real_mem": 742449152,
          "time": 1615204239.9255052
         },
         {
          "cpu_percent": 0,
          "cpu_time": 0.41,
          "name": "STDOut_1",
          "real_mem": 198148096,
          "time": 1615204240.0376956
         },
         {
          "cpu_percent": 196.3,
          "cpu_time": 4.06,
          "name": "STDIn_1",
          "real_mem": 752181248,
          "time": 1615204240.0493417
         },
         {
          "cpu_percent": 0,
          "cpu_time": 0.41,
          "name": "STDOut_1",
          "real_mem": 198148096,
          "time": 1615204240.1665223
         },
         {
          "cpu_percent": 160.1,
          "cpu_time": 4.17,
          "name": "STDIn_1",
          "real_mem": 762724352,
          "time": 1615204240.18087
         },
         {
          "cpu_percent": 0,
          "cpu_time": 0.43,
          "name": "STDOut_1",
          "real_mem": 198148096,
          "time": 1615204240.2928863
         },
         {
          "cpu_percent": 98.1,
          "cpu_time": 4.26,
          "name": "STDIn_1",
          "real_mem": 771645440,
          "time": 1615204240.3048172
         },
         {
          "cpu_percent": 0,
          "cpu_time": 0.44,
          "name": "STDOut_1",
          "real_mem": 198148096,
          "time": 1615204240.417067
         },
         {
          "cpu_percent": 98,
          "cpu_time": 4.37,
          "name": "STDIn_1",
          "real_mem": 790835200,
          "time": 1615204240.428886
         },
         {
          "cpu_percent": 0,
          "cpu_time": 0.45,
          "name": "STDOut_1",
          "real_mem": 198148096,
          "time": 1615204240.5564802
         },
         {
          "cpu_percent": 97.3,
          "cpu_time": 4.47,
          "name": "STDIn_1",
          "real_mem": 800571392,
          "time": 1615204240.568584
         },
         {
          "cpu_percent": 0,
          "cpu_time": 0.45,
          "name": "STDOut_1",
          "real_mem": 198148096,
          "time": 1615204240.680557
         },
         {
          "cpu_percent": 97.9,
          "cpu_time": 4.59,
          "name": "STDIn_1",
          "real_mem": 818143232,
          "time": 1615204240.6920755
         },
         {
          "cpu_percent": 0,
          "cpu_time": 0.47,
          "name": "STDOut_1",
          "real_mem": 198148096,
          "time": 1615204240.805205
         },
         {
          "cpu_percent": 98.3,
          "cpu_time": 4.69,
          "name": "STDIn_1",
          "real_mem": 827875328,
          "time": 1615204240.8166695
         },
         {
          "cpu_percent": 0,
          "cpu_time": 0.47,
          "name": "STDOut_1",
          "real_mem": 198148096,
          "time": 1615204240.9286597
         },
         {
          "cpu_percent": 195.4,
          "cpu_time": 4.79,
          "name": "STDIn_1",
          "real_mem": 848687104,
          "time": 1615204240.9405396
         },
         {
          "cpu_percent": 0,
          "cpu_time": 0.48,
          "name": "STDOut_1",
          "real_mem": 198148096,
          "time": 1615204241.066829
         },
         {
          "cpu_percent": 194.6,
          "cpu_time": 4.9,
          "name": "STDIn_1",
          "real_mem": 859500544,
          "time": 1615204241.0785294
         },
         {
          "cpu_percent": 0,
          "cpu_time": 0.48,
          "name": "STDOut_1",
          "real_mem": 198148096,
          "time": 1615204241.1907928
         },
         {
          "cpu_percent": 97.8,
          "cpu_time": 5,
          "name": "STDIn_1",
          "real_mem": 875991040,
          "time": 1615204241.2028852
         },
         {
          "cpu_percent": 0,
          "cpu_time": 0.5,
          "name": "STDOut_1",
          "real_mem": 198148096,
          "time": 1615204241.314754
         },
         {
          "cpu_percent": 98.5,
          "cpu_time": 5.11,
          "name": "STDIn_1",
          "real_mem": 882208768,
          "time": 1615204241.3261757
         },
         {
          "cpu_percent": 0,
          "cpu_time": 0.51,
          "name": "STDOut_1",
          "real_mem": 198148096,
          "time": 1615204241.4668732
         },
         {
          "cpu_percent": 0,
          "cpu_time": 5.22,
          "name": "STDIn_1",
          "real_mem": 897351680,
          "time": 1615204241.478702
         },
         {
          "cpu_percent": 98.3,
          "cpu_time": 0.52,
          "name": "STDOut_1",
          "real_mem": 198148096,
          "time": 1615204241.5911047
         },
         {
          "cpu_percent": 98.1,
          "cpu_time": 5.35,
          "name": "STDIn_1",
          "real_mem": 912490496,
          "time": 1615204241.6025517
         },
         {
          "cpu_percent": 0,
          "cpu_time": 0.52,
          "name": "STDOut_1",
          "real_mem": 198148096,
          "time": 1615204241.7147093
         },
         {
          "cpu_percent": 98.4,
          "cpu_time": 5.45,
          "name": "STDIn_1",
          "real_mem": 922222592,
          "time": 1615204241.7262568
         },
         {
          "cpu_percent": 0,
          "cpu_time": 0.52,
          "name": "STDOut_1",
          "real_mem": 198148096,
          "time": 1615204241.838364
         },
         {
          "cpu_percent": 98,
          "cpu_time": 5.55,
          "name": "STDIn_1",
          "real_mem": 940871680,
          "time": 1615204241.8499637
         },
         {
          "cpu_percent": 0,
          "cpu_time": 0.54,
          "name": "STDOut_1",
          "real_mem": 198418432,
          "time": 1615204241.9669025
         },
         {
          "cpu_percent": 97,
          "cpu_time": 5.65,
          "name": "STDIn_1",
          "real_mem": 947089408,
          "time": 1615204241.9784997
         },
         {
          "cpu_percent": 0,
          "cpu_time": 0.55,
          "name": "STDOut_1",
          "real_mem": 198418432,
          "time": 1615204242.0906768
         },
         {
          "cpu_percent": 98.1,
          "cpu_time": 5.77,
          "name": "STDIn_1",
          "real_mem": 965206016,
          "time": 1615204242.1023068
         },
         {
          "cpu_percent": 0,
          "cpu_time": 0.55,
          "name": "STDOut_1",
          "real_mem": 198418432,
          "time": 1615204242.2151484
         },
         {
          "cpu_percent": 168,
          "cpu_time": 5.87,
          "name": "STDIn_1",
          "real_mem": 974938112,
          "time": 1615204242.2293744
         },
         {
          "cpu_percent": 0,
          "cpu_time": 0.56,
          "name": "STDOut_1",
          "real_mem": 198418432,
          "time": 1615204242.3414276
         },
         {
          "cpu_percent": 196.4,
          "cpu_time": 5.98,
          "name": "STDIn_1",
          "real_mem": 994127872,
          "time": 1615204242.3669517
         },
         {
          "cpu_percent": 0,
          "cpu_time": 0.57,
          "name": "STDOut_1",
          "real_mem": 198418432,
          "time": 1615204242.4788692
         },
         {
          "cpu_percent": 98.4,
          "cpu_time": 6.08,
          "name": "STDIn_1",
          "real_mem": 1004134400,
          "time": 1615204242.4904208
         },
         {
          "cpu_percent": 0,
          "cpu_time": 0.58,
          "name": "STDOut_1",
          "real_mem": 198418432,
          "time": 1615204242.602404
         },
         {
          "cpu_percent": 98.5,
          "cpu_time": 6.2,
          "name": "STDIn_1",
          "real_mem": 1023328256,
          "time": 1615204242.613988
         },
         {
          "cpu_percent": 0,
          "cpu_time": 0.59,
          "name": "STDOut_1",
          "real_mem": 198418432,
          "time": 1615204242.7269943
         },
         {
          "cpu_percent": 0,
          "cpu_time": 6.3,
          "name": "STDIn_1",
          "real_mem": 1032249344,
          "time": 1615204242.7666826
         },
         {
          "cpu_percent": 0,
          "cpu_time": 0.6,
          "name": "STDOut_1",
          "real_mem": 198418432,
          "time": 1615204242.87867
         },
         {
          "cpu_percent": 171.8,
          "cpu_time": 6.41,
          "name": "STDIn_1",
          "real_mem": 1042792448,
          "time": 1615204242.8917558
         },
         {
          "cpu_percent": 0,
          "cpu_time": 0.61,
          "name": "STDOut_1",
          "real_mem": 198418432,
          "time": 1615204243.0038295
         },
         {
          "cpu_percent": 98,
          "cpu_time": 6.53,
          "name": "STDIn_1",
          "real_mem": 1059819520,
          "time": 1615204243.0155592
         },
         {
          "cpu_percent": 0,
          "cpu_time": 0.61,
          "name": "STDOut_1",
          "real_mem": 198418432,
          "time": 1615204243.1272612
         },
         {
          "cpu_percent": 98,
          "cpu_time": 6.62,
          "name": "STDIn_1",
          "real_mem": 1065500672,
          "time": 1615204243.1387994
         },
         {
          "cpu_percent": 0,
          "cpu_time": 0.61,
          "name": "STDOut_1",
          "real_mem": 198418432,
          "time": 1615204243.251203
         },
         {
          "cpu_percent": 195.7,
          "cpu_time": 6.73,
          "name": "STDIn_1",
          "real_mem": 1087664128,
          "time": 1615204243.2667627
         },
         {
          "cpu_percent": 0,
          "cpu_time": 0.63,
          "name": "STDOut_1",
          "real_mem": 198418432,
          "time": 1615204243.3788626
         },
         {
          "cpu_percent": 98.1,
          "cpu_time": 6.82,
          "name": "STDIn_1",
          "real_mem": 1091182592,
          "time": 1615204243.3904924
         },
         {
          "cpu_percent": 0,
          "cpu_time": 0.64,
          "name": "STDOut_1",
          "real_mem": 198418432,
          "time": 1615204243.5027063
         },
         {
          "cpu_percent": 0,
          "cpu_time": 6.94,
          "name": "STDIn_1",
          "real_mem": 1110646784,
          "time": 1615204243.5143025
         },
         {
          "cpu_percent": 0,
          "cpu_time": 0.65,
          "name": "STDOut_1",
          "real_mem": 198418432,
          "time": 1615204243.6264753
         },
         {
          "cpu_percent": 35.3,
          "cpu_time": 7.04,
          "name": "STDIn_1",
          "real_mem": 1120378880,
          "time": 1615204243.6560638
         },
         {
          "cpu_percent": 0,
          "cpu_time": 0.66,
          "name": "STDOut_1",
          "real_mem": 198418432,
          "time": 1615204243.7688468
         },
         {
          "cpu_percent": 98.1,
          "cpu_time": 7.14,
          "name": "STDIn_1",
          "real_mem": 1129840640,
          "time": 1615204243.780611
         },
         {
          "cpu_percent": 97.8,
          "cpu_time": 0.67,
          "name": "STDOut_1",
          "real_mem": 198418432,
          "time": 1615204243.8929474
         },
         {
          "cpu_percent": 97.9,
          "cpu_time": 7.26,
          "name": "STDIn_1",
          "real_mem": 1143087104,
          "time": 1615204243.9048069
         },
         {
          "cpu_percent": 0,
          "cpu_time": 0.67,
          "name": "STDOut_1",
          "real_mem": 198418432,
          "time": 1615204244.0173664
         },
         {
          "cpu_percent": 195.2,
          "cpu_time": 7.37,
          "name": "STDIn_1",
          "real_mem": 1163358208,
          "time": 1615204244.0294628
         },
         {
          "cpu_percent": 0,
          "cpu_time": 0.68,
          "name": "STDOut_1",
          "real_mem": 198418432,
          "time": 1615204244.166718
         },
         {
          "cpu_percent": 98.3,
          "cpu_time": 7.47,
          "name": "STDIn_1",
          "real_mem": 1174171648,
          "time": 1615204244.1786778
         },
         {
          "cpu_percent": 0,
          "cpu_time": 0.69,
          "name": "STDOut_1",
          "real_mem": 198418432,
          "time": 1615204244.2909863
         },
         {
          "cpu_percent": 194.4,
          "cpu_time": 7.59,
          "name": "STDIn_1",
          "real_mem": 1187962880,
          "time": 1615204244.3028195
         },
         {
          "cpu_percent": 0,
          "cpu_time": 0.69,
          "name": "STDOut_1",
          "real_mem": 198418432,
          "time": 1615204244.41465
         },
         {
          "cpu_percent": 98.5,
          "cpu_time": 7.69,
          "name": "STDIn_1",
          "real_mem": 1198235648,
          "time": 1615204244.4263656
         },
         {
          "cpu_percent": 0,
          "cpu_time": 0.7,
          "name": "STDOut_1",
          "real_mem": 198418432,
          "time": 1615204244.566628
         },
         {
          "cpu_percent": 0,
          "cpu_time": 7.81,
          "name": "STDIn_1",
          "real_mem": 1220399104,
          "time": 1615204244.5784225
         },
         {
          "cpu_percent": 0,
          "cpu_time": 0.71,
          "name": "STDOut_1",
          "real_mem": 198418432,
          "time": 1615204244.6904986
         },
         {
          "cpu_percent": 97.5,
          "cpu_time": 7.93,
          "name": "STDIn_1",
          "real_mem": 1239052288,
          "time": 1615204244.702208
         },
         {
          "cpu_percent": 0,
          "cpu_time": 0.72,
          "name": "STDOut_1",
          "real_mem": 198418432,
          "time": 1615204244.814714
         },
         {
          "cpu_percent": 98.4,
          "cpu_time": 8.03,
          "name": "STDIn_1",
          "real_mem": 1251217408,
          "time": 1615204244.8261092
         },
         {
          "cpu_percent": 0,
          "cpu_time": 0.73,
          "name": "STDOut_1",
          "real_mem": 198418432,
          "time": 1615204244.9665523
         },
         {
          "cpu_percent": 98.2,
          "cpu_time": 8.14,
          "name": "STDIn_1",
          "real_mem": 1256357888,
          "time": 1615204244.9781296
         },
         {
          "cpu_percent": 0,
          "cpu_time": 0.74,
          "name": "STDOut_1",
          "real_mem": 198418432,
          "time": 1615204245.0902424
         },
         {
          "cpu_percent": 98.5,
          "cpu_time": 8.26,
          "name": "STDIn_1",
          "real_mem": 1275285504,
          "time": 1615204245.1017447
         },
         {
          "cpu_percent": 0,
          "cpu_time": 0.74,
          "name": "STDOut_1",
          "real_mem": 198418432,
          "time": 1615204245.2137678
         },
         {
          "cpu_percent": 197.3,
          "cpu_time": 8.37,
          "name": "STDIn_1",
          "real_mem": 1285017600,
          "time": 1615204245.2251458
         },
         {
          "cpu_percent": 0,
          "cpu_time": 0.75,
          "name": "STDOut_1",
          "real_mem": 198418432,
          "time": 1615204245.33725
         },
         {
          "cpu_percent": 98.3,
          "cpu_time": 8.47,
          "name": "STDIn_1",
          "real_mem": 1296912384,
          "time": 1615204245.366469
         },
         {
          "cpu_percent": 0,
          "cpu_time": 0.76,
          "name": "STDOut_1",
          "real_mem": 198418432,
          "time": 1615204245.4787078
         },
         {
          "cpu_percent": 196.3,
          "cpu_time": 8.58,
          "name": "STDIn_1",
          "real_mem": 1320427520,
          "time": 1615204245.490133
         },
         {
          "cpu_percent": 0,
          "cpu_time": 0.77,
          "name": "STDOut_1",
          "real_mem": 198418432,
          "time": 1615204245.6018267
         },
         {
          "cpu_percent": 98.5,
          "cpu_time": 8.67,
          "name": "STDIn_1",
          "real_mem": 1329618944,
          "time": 1615204245.6132429
         },
         {
          "cpu_percent": 0,
          "cpu_time": 0.78,
          "name": "STDOut_1",
          "real_mem": 198418432,
          "time": 1615204245.7254407
         },
         {
          "cpu_percent": 0,
          "cpu_time": 8.79,
          "name": "STDIn_1",
          "real_mem": 1352597504,
          "time": 1615204245.7368736
         },
         {
          "cpu_percent": 0,
          "cpu_time": 0.79,
          "name": "STDOut_1",
          "real_mem": 198418432,
          "time": 1615204245.866684
         },
         {
          "cpu_percent": 98,
          "cpu_time": 8.89,
          "name": "STDIn_1",
          "real_mem": 1362599936,
          "time": 1615204245.8780904
         },
         {
          "cpu_percent": 0,
          "cpu_time": 0.8,
          "name": "STDOut_1",
          "real_mem": 198418432,
          "time": 1615204245.9899685
         },
         {
          "cpu_percent": 98.6,
          "cpu_time": 8.99,
          "name": "STDIn_1",
          "real_mem": 1383145472,
          "time": 1615204246.0016072
         },
         {
          "cpu_percent": 0,
          "cpu_time": 0.81,
          "name": "STDOut_1",
          "real_mem": 198418432,
          "time": 1615204246.1139033
         },
         {
          "cpu_percent": 97.3,
          "cpu_time": 9.1,
          "name": "STDIn_1",
          "real_mem": 1391529984,
          "time": 1615204246.1254025
         },
         {
          "cpu_percent": 0,
          "cpu_time": 0.82,
          "name": "STDOut_1",
          "real_mem": 198418432,
          "time": 1615204246.237501
         },
         {
          "cpu_percent": 98.4,
          "cpu_time": 9.2,
          "name": "STDIn_1",
          "real_mem": 1410994176,
          "time": 1615204246.2491887
         },
         {
          "cpu_percent": 97.8,
          "cpu_time": 0.84,
          "name": "STDOut_1",
          "real_mem": 198418432,
          "time": 1615204246.3665428
         },
         {
          "cpu_percent": 0,
          "cpu_time": 9.29,
          "name": "STDIn_1",
          "real_mem": 1428836352,
          "time": 1615204246.378067
         },
         {
          "cpu_percent": 98,
          "cpu_time": 0.85,
          "name": "STDOut_1",
          "real_mem": 198418432,
          "time": 1615204246.490634
         },
         {
          "cpu_percent": 98.1,
          "cpu_time": 9.4,
          "name": "STDIn_1",
          "real_mem": 1447219200,
          "time": 1615204246.5025313
         },
         {
          "cpu_percent": 0,
          "cpu_time": 0.86,
          "name": "STDOut_1",
          "real_mem": 198418432,
          "time": 1615204246.6144187
         },
         {
          "cpu_percent": 98.5,
          "cpu_time": 9.5,
          "name": "STDIn_1",
          "real_mem": 1459384320,
          "time": 1615204246.6257973
         },
         {
          "cpu_percent": 0,
          "cpu_time": 0.87,
          "name": "STDOut_1",
          "real_mem": 198418432,
          "time": 1615204246.7663414
         },
         {
          "cpu_percent": 98.5,
          "cpu_time": 9.6,
          "name": "STDIn_1",
          "real_mem": 1478578176,
          "time": 1615204246.777869
         },
         {
          "cpu_percent": 0,
          "cpu_time": 0.88,
          "name": "STDOut_1",
          "real_mem": 198418432,
          "time": 1615204246.8904557
         },
         {
          "cpu_percent": 97.9,
          "cpu_time": 9.72,
          "name": "STDIn_1",
          "real_mem": 1507500032,
          "time": 1615204246.9020553
         },
         {
          "cpu_percent": 0,
          "cpu_time": 0.89,
          "name": "STDOut_1",
          "real_mem": 198418432,
          "time": 1615204247.013941
         },
         {
          "cpu_percent": 98.1,
          "cpu_time": 9.81,
          "name": "STDIn_1",
          "real_mem": 1520746496,
          "time": 1615204247.0257657
         },
         {
          "cpu_percent": 0,
          "cpu_time": 0.91,
          "name": "STDOut_1",
          "real_mem": 198418432,
          "time": 1615204247.16714
         },
         {
          "cpu_percent": 0,
          "cpu_time": 9.93,
          "name": "STDIn_1",
          "real_mem": 1536700416,
          "time": 1615204247.1790354
         },
         {
          "cpu_percent": 98.5,
          "cpu_time": 0.92,
          "name": "STDOut_1",
          "real_mem": 198418432,
          "time": 1615204247.2912354
         },
         {
          "cpu_percent": 98,
          "cpu_time": 10.04,
          "name": "STDIn_1",
          "real_mem": 1556164608,
          "time": 1615204247.3031204
         },
         {
          "cpu_percent": 0,
          "cpu_time": 0.93,
          "name": "STDOut_1",
          "real_mem": 198418432,
          "time": 1615204247.4155886
         },
         {
          "cpu_percent": 98.3,
          "cpu_time": 10.14,
          "name": "STDIn_1",
          "real_mem": 1575628800,
          "time": 1615204247.4269655
         },
         {
          "cpu_percent": 0,
          "cpu_time": 0.94,
          "name": "STDOut_1",
          "real_mem": 198418432,
          "time": 1615204247.5663826
         },
         {
          "cpu_percent": 196.4,
          "cpu_time": 10.25,
          "name": "STDIn_1",
          "real_mem": 1594818560,
          "time": 1615204247.577786
         },
         {
          "cpu_percent": 0,
          "cpu_time": 0.95,
          "name": "STDOut_1",
          "real_mem": 198418432,
          "time": 1615204247.6898057
         },
         {
          "cpu_percent": 98.3,
          "cpu_time": 10.35,
          "name": "STDIn_1",
          "real_mem": 1623740416,
          "time": 1615204247.7014325
         },
         {
          "cpu_percent": 0,
          "cpu_time": 0.96,
          "name": "STDOut_1",
          "real_mem": 198418432,
          "time": 1615204247.8139703
         },
         {
          "cpu_percent": 195.2,
          "cpu_time": 10.46,
          "name": "STDIn_1",
          "real_mem": 1625636864,
          "time": 1615204247.8264124
         },
         {
          "cpu_percent": 0,
          "cpu_time": 0.97,
          "name": "STDOut_1",
          "real_mem": 198418432,
          "time": 1615204247.9387224
         },
         {
          "cpu_percent": 97.6,
          "cpu_time": 10.56,
          "name": "STDIn_1",
          "real_mem": 1644830720,
          "time": 1615204247.9674296
         },
         {
          "cpu_percent": 0,
          "cpu_time": 0.98,
          "name": "STDOut_1",
          "real_mem": 198418432,
          "time": 1615204248.0813231
         },
         {
          "cpu_percent": 193,
          "cpu_time": 10.67,
          "name": "STDIn_1",
          "real_mem": 1663754240,
          "time": 1615204248.0934544
         },
         {
          "cpu_percent": 0,
          "cpu_time": 1,
          "name": "STDOut_1",
          "real_mem": 198418432,
          "time": 1615204248.2054794
         },
         {
          "cpu_percent": 98.4,
          "cpu_time": 10.76,
          "name": "STDIn_1",
          "real_mem": 1682944000,
          "time": 1615204248.2168276
         },
         {
          "cpu_percent": 98,
          "cpu_time": 1.02,
          "name": "STDOut_1",
          "real_mem": 198418432,
          "time": 1615204248.3288558
         },
         {
          "cpu_percent": 193.1,
          "cpu_time": 10.86,
          "name": "STDIn_1",
          "real_mem": 1702137856,
          "time": 1615204248.366658
         },
         {
          "cpu_percent": 0,
          "cpu_time": 1.02,
          "name": "STDOut_1",
          "real_mem": 198418432,
          "time": 1615204248.4786508
         },
         {
          "cpu_percent": 96.5,
          "cpu_time": 10.96,
          "name": "STDIn_1",
          "real_mem": 1720520704,
          "time": 1615204248.4906802
         },
         {
          "cpu_percent": 0,
          "cpu_time": 1.03,
          "name": "STDOut_1",
          "real_mem": 198418432,
          "time": 1615204248.60372
         },
         {
          "cpu_percent": 98.3,
          "cpu_time": 11.08,
          "name": "STDIn_1",
          "real_mem": 1749716992,
          "time": 1615204248.615406
         },
         {
          "cpu_percent": 0,
          "cpu_time": 1.04,
          "name": "STDOut_1",
          "real_mem": 198418432,
          "time": 1615204248.7274761
         },
         {
          "cpu_percent": 98,
          "cpu_time": 11.19,
          "name": "STDIn_1",
          "real_mem": 1749995520,
          "time": 1615204248.7671208
         },
         {
          "cpu_percent": 0,
          "cpu_time": 1.06,
          "name": "STDOut_1",
          "real_mem": 198418432,
          "time": 1615204248.8793485
         },
         {
          "cpu_percent": 98.1,
          "cpu_time": 11.29,
          "name": "STDIn_1",
          "real_mem": 1766756352,
          "time": 1615204248.890769
         },
         {
          "cpu_percent": 0,
          "cpu_time": 1.07,
          "name": "STDOut_1",
          "real_mem": 198418432,
          "time": 1615204249.003033
         },
         {
          "cpu_percent": 98.3,
          "cpu_time": 11.39,
          "name": "STDIn_1",
          "real_mem": 1778921472,
          "time": 1615204249.0154586
         },
         {
          "cpu_percent": 0,
          "cpu_time": 1.07,
          "name": "STDOut_1",
          "real_mem": 198418432,
          "time": 1615204249.128043
         },
         {
          "cpu_percent": 0,
          "cpu_time": 11.49,
          "name": "STDIn_1",
          "real_mem": 1790005248,
          "time": 1615204249.1395826
         },
         {
          "cpu_percent": 98.1,
          "cpu_time": 1.09,
          "name": "STDOut_1",
          "real_mem": 198418432,
          "time": 1615204249.266606
         },
         {
          "cpu_percent": 98.3,
          "cpu_time": 11.59,
          "name": "STDIn_1",
          "real_mem": 1807306752,
          "time": 1615204249.278343
         },
         {
          "cpu_percent": 0,
          "cpu_time": 1.09,
          "name": "STDOut_1",
          "real_mem": 198418432,
          "time": 1615204249.390466
         },
         {
          "cpu_percent": 0,
          "cpu_time": 11.7,
          "name": "STDIn_1",
          "real_mem": 1821904896,
          "time": 1615204249.4025915
         },
         {
          "cpu_percent": 0,
          "cpu_time": 1.11,
          "name": "STDOut_1",
          "real_mem": 198418432,
          "time": 1615204249.514636
         },
         {
          "cpu_percent": 196.7,
          "cpu_time": 11.81,
          "name": "STDIn_1",
          "real_mem": 1846501376,
          "time": 1615204249.526183
         },
         {
          "cpu_percent": 0,
          "cpu_time": 1.11,
          "name": "STDOut_1",
          "real_mem": 198418432,
          "time": 1615204249.6381047
         },
         {
          "cpu_percent": 196.4,
          "cpu_time": 11.92,
          "name": "STDIn_1",
          "real_mem": 1860558848,
          "time": 1615204249.6665962
         },
         {
          "cpu_percent": 0,
          "cpu_time": 1.12,
          "name": "STDOut_1",
          "real_mem": 198418432,
          "time": 1615204249.7786808
         },
         {
          "cpu_percent": 98.3,
          "cpu_time": 12.01,
          "name": "STDIn_1",
          "real_mem": 1874616320,
          "time": 1615204249.7902644
         },
         {
          "cpu_percent": 0,
          "cpu_time": 1.13,
          "name": "STDOut_1",
          "real_mem": 198418432,
          "time": 1615204249.9022593
         },
         {
          "cpu_percent": 98.2,
          "cpu_time": 12.13,
          "name": "STDIn_1",
          "real_mem": 1888133120,
          "time": 1615204249.9137275
         },
         {
          "cpu_percent": 0,
          "cpu_time": 1.15,
          "name": "STDOut_1",
          "real_mem": 198418432,
          "time": 1615204250.025949
         },
         {
          "cpu_percent": 0,
          "cpu_time": 12.23,
          "name": "STDIn_1",
          "real_mem": 1904627712,
          "time": 1615204250.0374753
         },
         {
          "cpu_percent": 0,
          "cpu_time": 1.15,
          "name": "STDOut_1",
          "real_mem": 198418432,
          "time": 1615204250.156772
         },
         {
          "cpu_percent": 97.8,
          "cpu_time": 12.33,
          "name": "STDIn_1",
          "real_mem": 1916522496,
          "time": 1615204250.1686294
         },
         {
          "cpu_percent": 0,
          "cpu_time": 1.15,
          "name": "STDOut_1",
          "real_mem": 198418432,
          "time": 1615204250.280729
         },
         {
          "cpu_percent": 0,
          "cpu_time": 12.43,
          "name": "STDIn_1",
          "real_mem": 1942200320,
          "time": 1615204250.2921243
         },
         {
          "cpu_percent": 0,
          "cpu_time": 1.16,
          "name": "STDOut_1",
          "real_mem": 198418432,
          "time": 1615204250.4044132
         },
         {
          "cpu_percent": 98.3,
          "cpu_time": 12.53,
          "name": "STDIn_1",
          "real_mem": 1955176448,
          "time": 1615204250.4158945
         },
         {
          "cpu_percent": 0,
          "cpu_time": 1.18,
          "name": "STDOut_1",
          "real_mem": 198418432,
          "time": 1615204250.5557542
         },
         {
          "cpu_percent": 193.6,
          "cpu_time": 12.66,
          "name": "STDIn_1",
          "real_mem": 1972477952,
          "time": 1615204250.5686717
         },
         {
          "cpu_percent": 0,
          "cpu_time": 1.18,
          "name": "STDOut_1",
          "real_mem": 198418432,
          "time": 1615204250.6806977
         },
         {
          "cpu_percent": 196.9,
          "cpu_time": 12.77,
          "name": "STDIn_1",
          "real_mem": 1991942144,
          "time": 1615204250.6922438
         },
         {
          "cpu_percent": 0,
          "cpu_time": 1.19,
          "name": "STDOut_1",
          "real_mem": 198418432,
          "time": 1615204250.804336
         },
         {
          "cpu_percent": 97.4,
          "cpu_time": 12.87,
          "name": "STDIn_1",
          "real_mem": 1992216576,
          "time": 1615204250.8162062
         },
         {
          "cpu_percent": 0,
          "cpu_time": 1.2,
          "name": "STDOut_1",
          "real_mem": 198418432,
          "time": 1615204250.9285867
         },
         {
          "cpu_percent": 98,
          "cpu_time": 12.99,
          "name": "STDIn_1",
          "real_mem": 2020868096,
          "time": 1615204250.966703
         },
         {
          "cpu_percent": 0,
          "cpu_time": 1.22,
          "name": "STDOut_1",
          "real_mem": 198418432,
          "time": 1615204251.0795486
         },
         {
          "cpu_percent": 98,
          "cpu_time": 13.09,
          "name": "STDIn_1",
          "real_mem": 2024386560,
          "time": 1615204251.0917125
         },
         {
          "cpu_percent": 0,
          "cpu_time": 1.23,
          "name": "STDOut_1",
          "real_mem": 198418432,
          "time": 1615204251.2038393
         },
         {
          "cpu_percent": 0,
          "cpu_time": 13.19,
          "name": "STDIn_1",
          "real_mem": 2048712704,
          "time": 1615204251.2157607
         },
         {
          "cpu_percent": 0,
          "cpu_time": 1.23,
          "name": "STDOut_1",
          "real_mem": 198418432,
          "time": 1615204251.3276627
         },
         {
          "cpu_percent": 98.4,
          "cpu_time": 13.3,
          "name": "STDIn_1",
          "real_mem": 2062229504,
          "time": 1615204251.339023
         },
         {
          "cpu_percent": 0,
          "cpu_time": 1.24,
          "name": "STDOut_1",
          "real_mem": 198418432,
          "time": 1615204251.4666367
         },
         {
          "cpu_percent": 98.1,
          "cpu_time": 13.4,
          "name": "STDIn_1",
          "real_mem": 2074664960,
          "time": 1615204251.478717
         },
         {
          "cpu_percent": 0,
          "cpu_time": 1.26,
          "name": "STDOut_1",
          "real_mem": 198418432,
          "time": 1615204251.5907679
         },
         {
          "cpu_percent": 98.4,
          "cpu_time": 13.52,
          "name": "STDIn_1",
          "real_mem": 2088996864,
          "time": 1615204251.6021683
         },
         {
          "cpu_percent": 0,
          "cpu_time": 1.26,
          "name": "STDOut_1",
          "real_mem": 198418432,
          "time": 1615204251.7145286
         },
         {
          "cpu_percent": 196.5,
          "cpu_time": 13.63,
          "name": "STDIn_1",
          "real_mem": 2101157888,
          "time": 1615204251.7259564
         },
         {
          "cpu_percent": 0,
          "cpu_time": 1.27,
          "name": "STDOut_1",
          "real_mem": 198418432,
          "time": 1615204251.8666875
         },
         {
          "cpu_percent": 97.7,
          "cpu_time": 13.73,
          "name": "STDIn_1",
          "real_mem": 2124947456,
          "time": 1615204251.8784971
         },
         {
          "cpu_percent": 0,
          "cpu_time": 1.28,
          "name": "STDOut_1",
          "real_mem": 198418432,
          "time": 1615204251.9907408
         },
         {
          "cpu_percent": 98.1,
          "cpu_time": 13.85,
          "name": "STDIn_1",
          "real_mem": 2145767424,
          "time": 1615204252.0028148
         },
         {
          "cpu_percent": 0,
          "cpu_time": 1.28,
          "name": "STDOut_1",
          "real_mem": 198418432,
          "time": 1615204252.114879
         },
         {
          "cpu_percent": 177.6,
          "cpu_time": 13.96,
          "name": "STDIn_1",
          "real_mem": 2156851200,
          "time": 1615204252.127544
         },
         {
          "cpu_percent": 0,
          "cpu_time": 1.3,
          "name": "STDOut_1",
          "real_mem": 198418432,
          "time": 1615204252.2398329
         },
         {
          "cpu_percent": 0,
          "cpu_time": 14.05,
          "name": "STDIn_1",
          "real_mem": 2181177344,
          "time": 1615204252.2516727
         },
         {
          "cpu_percent": 0,
          "cpu_time": 1.3,
          "name": "STDOut_1",
          "real_mem": 198418432,
          "time": 1615204252.3665702
         },
         {
          "cpu_percent": 98.3,
          "cpu_time": 14.16,
          "name": "STDIn_1",
          "real_mem": 2195775488,
          "time": 1615204252.3781202
         },
         {
          "cpu_percent": 0,
          "cpu_time": 1.31,
          "name": "STDOut_1",
          "real_mem": 198418432,
          "time": 1615204252.4901686
         },
         {
          "cpu_percent": 98.5,
          "cpu_time": 14.26,
          "name": "STDIn_1",
          "real_mem": 2210643968,
          "time": 1615204252.5015416
         },
         {
          "cpu_percent": 0,
          "cpu_time": 1.31,
          "name": "STDOut_1",
          "real_mem": 198418432,
          "time": 1615204252.6137636
         },
         {
          "cpu_percent": 96.6,
          "cpu_time": 14.38,
          "name": "STDIn_1",
          "real_mem": 2234163200,
          "time": 1615204252.6254437
         },
         {
          "cpu_percent": 0,
          "cpu_time": 1.33,
          "name": "STDOut_1",
          "real_mem": 198418432,
          "time": 1615204252.7671213
         },
         {
          "cpu_percent": 98.4,
          "cpu_time": 14.48,
          "name": "STDIn_1",
          "real_mem": 2243899392,
          "time": 1615204252.778647
         },
         {
          "cpu_percent": 98.3,
          "cpu_time": 1.34,
          "name": "STDOut_1",
          "real_mem": 198418432,
          "time": 1615204252.8932378
         },
         {
          "cpu_percent": 0,
          "cpu_time": 14.6,
          "name": "STDIn_1",
          "real_mem": 2263363584,
          "time": 1615204252.9046795
         },
         {
          "cpu_percent": 0,
          "cpu_time": 1.35,
          "name": "STDOut_1",
          "real_mem": 198418432,
          "time": 1615204253.0166948
         },
         {
          "cpu_percent": 98.3,
          "cpu_time": 14.71,
          "name": "STDIn_1",
          "real_mem": 2279579648,
          "time": 1615204253.0282147
         },
         {
          "cpu_percent": 0,
          "cpu_time": 1.35,
          "name": "STDOut_1",
          "real_mem": 198418432,
          "time": 1615204253.1401284
         },
         {
          "cpu_percent": 97.5,
          "cpu_time": 14.8,
          "name": "STDIn_1",
          "real_mem": 2292285440,
          "time": 1615204253.166549
         },
         {
          "cpu_percent": 0,
          "cpu_time": 1.37,
          "name": "STDOut_1",
          "real_mem": 198418432,
          "time": 1615204253.27836
         },
         {
          "cpu_percent": 165.2,
          "cpu_time": 14.91,
          "name": "STDIn_1",
          "real_mem": 2292289536,
          "time": 1615204253.2917643
         },
         {
          "cpu_percent": 0,
          "cpu_time": 1.38,
          "name": "STDOut_1",
          "real_mem": 198418432,
          "time": 1615204253.4044647
         },
         {
          "cpu_percent": 98.4,
          "cpu_time": 15.01,
          "name": "STDIn_1",
          "real_mem": 2306617344,
          "time": 1615204253.415925
         },
         {
          "cpu_percent": 0,
          "cpu_time": 1.39,
          "name": "STDOut_1",
          "real_mem": 198418432,
          "time": 1615204253.5279808
         },
         {
          "cpu_percent": 97.9,
          "cpu_time": 15.11,
          "name": "STDIn_1",
          "real_mem": 2320691200,
          "time": 1615204253.5670018
         },
         {
          "cpu_percent": 196.9,
          "cpu_time": 1.41,
          "name": "STDOut_1",
          "real_mem": 198418432,
          "time": 1615204253.6792583
         },
         {
          "cpu_percent": 0,
          "cpu_time": 15.22,
          "name": "STDIn_1",
          "real_mem": 2336641024,
          "time": 1615204253.6912458
         },
         {
          "cpu_percent": 0,
          "cpu_time": 1.41,
          "name": "STDOut_1",
          "real_mem": 198418432,
          "time": 1615204253.8039918
         },
         {
          "cpu_percent": 0,
          "cpu_time": 15.32,
          "name": "STDIn_1",
          "real_mem": 2358804480,
          "time": 1615204253.8159115
         },
         {
          "cpu_percent": 0,
          "cpu_time": 1.42,
          "name": "STDOut_1",
          "real_mem": 198418432,
          "time": 1615204253.9281492
         },
         {
          "cpu_percent": 0,
          "cpu_time": 15.44,
          "name": "STDIn_1",
          "real_mem": 2379350016,
          "time": 1615204253.9399347
         },
         {
          "cpu_percent": 0,
          "cpu_time": 1.43,
          "name": "STDOut_1",
          "real_mem": 198418432,
          "time": 1615204254.0669458
         },
         {
          "cpu_percent": 98.5,
          "cpu_time": 15.54,
          "name": "STDIn_1",
          "real_mem": 2389082112,
          "time": 1615204254.078462
         },
         {
          "cpu_percent": 0,
          "cpu_time": 1.43,
          "name": "STDOut_1",
          "real_mem": 198418432,
          "time": 1615204254.190494
         },
         {
          "cpu_percent": 0,
          "cpu_time": 15.64,
          "name": "STDIn_1",
          "real_mem": 2408546304,
          "time": 1615204254.202067
         },
         {
          "cpu_percent": 0,
          "cpu_time": 1.45,
          "name": "STDOut_1",
          "real_mem": 198418432,
          "time": 1615204254.3144734
         },
         {
          "cpu_percent": 196.4,
          "cpu_time": 15.76,
          "name": "STDIn_1",
          "real_mem": 2408550400,
          "time": 1615204254.3264453
         },
         {
          "cpu_percent": 0,
          "cpu_time": 1.46,
          "name": "STDOut_1",
          "real_mem": 198418432,
          "time": 1615204254.4562228
         },
         {
          "cpu_percent": 98.2,
          "cpu_time": 15.85,
          "name": "STDIn_1",
          "real_mem": 2419363840,
          "time": 1615204254.4681544
         },
         {
          "cpu_percent": 0,
          "cpu_time": 1.47,
          "name": "STDOut_1",
          "real_mem": 198418432,
          "time": 1615204254.5803735
         },
         {
          "cpu_percent": 98.5,
          "cpu_time": 15.95,
          "name": "STDIn_1",
          "real_mem": 2444500992,
          "time": 1615204254.5918453
         },
         {
          "cpu_percent": 0,
          "cpu_time": 1.47,
          "name": "STDOut_1",
          "real_mem": 198418432,
          "time": 1615204254.703858
         },
         {
          "cpu_percent": 97.3,
          "cpu_time": 16.06,
          "name": "STDIn_1",
          "real_mem": 2447478784,
          "time": 1615204254.7155032
         },
         {
          "cpu_percent": 0,
          "cpu_time": 1.49,
          "name": "STDOut_1",
          "real_mem": 198418432,
          "time": 1615204254.8276322
         },
         {
          "cpu_percent": 0,
          "cpu_time": 16.17,
          "name": "STDIn_1",
          "real_mem": 2472886272,
          "time": 1615204254.866972
         },
         {
          "cpu_percent": 0,
          "cpu_time": 1.5,
          "name": "STDOut_1",
          "real_mem": 198418432,
          "time": 1615204254.979163
         },
         {
          "cpu_percent": 98,
          "cpu_time": 16.28,
          "name": "STDIn_1",
          "real_mem": 2493702144,
          "time": 1615204254.991024
         },
         {
          "cpu_percent": 0,
          "cpu_time": 1.51,
          "name": "STDOut_1",
          "real_mem": 198418432,
          "time": 1615204255.1029487
         },
         {
          "cpu_percent": 98.2,
          "cpu_time": 16.38,
          "name": "STDIn_1",
          "real_mem": 2502352896,
          "time": 1615204255.1145675
         },
         {
          "cpu_percent": 0,
          "cpu_time": 1.52,
          "name": "STDOut_1",
          "real_mem": 198418432,
          "time": 1615204255.2271419
         },
         {
          "cpu_percent": 0,
          "cpu_time": 16.49,
          "name": "STDIn_1",
          "real_mem": 2515333120,
          "time": 1615204255.2390802
         },
         {
          "cpu_percent": 0,
          "cpu_time": 1.53,
          "name": "STDOut_1",
          "real_mem": 198418432,
          "time": 1615204255.368033
         },
         {
          "cpu_percent": 194.5,
          "cpu_time": 16.6,
          "name": "STDIn_1",
          "real_mem": 2534526976,
          "time": 1615204255.3796365
         },
         {
          "cpu_percent": 0,
          "cpu_time": 1.54,
          "name": "STDOut_1",
          "real_mem": 198418432,
          "time": 1615204255.4928117
         },
         {
          "cpu_percent": 98.4,
          "cpu_time": 16.7,
          "name": "STDIn_1",
          "real_mem": 2544259072,
          "time": 1615204255.5043106
         },
         {
          "cpu_percent": 0,
          "cpu_time": 1.55,
          "name": "STDOut_1",
          "real_mem": 198418432,
          "time": 1615204255.6165414
         },
         {
          "cpu_percent": 0,
          "cpu_time": 16.81,
          "name": "STDIn_1",
          "real_mem": 2563723264,
          "time": 1615204255.6295936
         },
         {
          "cpu_percent": 0,
          "cpu_time": 1.55,
          "name": "STDOut_1",
          "real_mem": 198418432,
          "time": 1615204255.741411
         },
         {
          "cpu_percent": 0,
          "cpu_time": 16.91,
          "name": "STDIn_1",
          "real_mem": 2573455360,
          "time": 1615204255.7530198
         },
         {
          "cpu_percent": 0,
          "cpu_time": 1.55,
          "name": "STDOut_1",
          "real_mem": 198418432,
          "time": 1615204255.8665462
         },
         {
          "cpu_percent": 98.1,
          "cpu_time": 17.01,
          "name": "STDIn_1",
          "real_mem": 2599673856,
          "time": 1615204255.8781707
         },
         {
          "cpu_percent": 0,
          "cpu_time": 1.57,
          "name": "STDOut_1",
          "real_mem": 198418432,
          "time": 1615204255.9899607
         },
         {
          "cpu_percent": 196.1,
          "cpu_time": 17.12,
          "name": "STDIn_1",
          "real_mem": 2603192320,
          "time": 1615204256.0015748
         },
         {
          "cpu_percent": 0,
          "cpu_time": 1.58,
          "name": "STDOut_1",
          "real_mem": 198418432,
          "time": 1615204256.113695
         },
         {
          "cpu_percent": 98.3,
          "cpu_time": 17.21,
          "name": "STDIn_1",
          "real_mem": 2627518464,
          "time": 1615204256.1252227
         },
         {
          "cpu_percent": 0,
          "cpu_time": 1.59,
          "name": "STDOut_1",
          "real_mem": 198418432,
          "time": 1615204256.2378266
         },
         {
          "cpu_percent": 191.3,
          "cpu_time": 17.34,
          "name": "STDIn_1",
          "real_mem": 2634551296,
          "time": 1615204256.2670126
         },
         {
          "cpu_percent": 0,
          "cpu_time": 1.59,
          "name": "STDOut_1",
          "real_mem": 198418432,
          "time": 1615204256.3791106
         },
         {
          "cpu_percent": 95.9,
          "cpu_time": 17.43,
          "name": "STDIn_1",
          "real_mem": 2656985088,
          "time": 1615204256.3908792
         },
         {
          "cpu_percent": 0,
          "cpu_time": 1.61,
          "name": "STDOut_1",
          "real_mem": 198418432,
          "time": 1615204256.5032651
         },
         {
          "cpu_percent": 97.1,
          "cpu_time": 17.53,
          "name": "STDIn_1",
          "real_mem": 2669961216,
          "time": 1615204256.5148604
         },
         {
          "cpu_percent": 0,
          "cpu_time": 1.62,
          "name": "STDOut_1",
          "real_mem": 198418432,
          "time": 1615204256.6273134
         },
         {
          "cpu_percent": 0,
          "cpu_time": 17.63,
          "name": "STDIn_1",
          "real_mem": 2672939008,
          "time": 1615204256.6395352
         },
         {
          "cpu_percent": 0,
          "cpu_time": 1.63,
          "name": "STDOut_1",
          "real_mem": 198418432,
          "time": 1615204256.7668755
         },
         {
          "cpu_percent": 97.1,
          "cpu_time": 17.74,
          "name": "STDIn_1",
          "real_mem": 2695913472,
          "time": 1615204256.7785347
         },
         {
          "cpu_percent": 0,
          "cpu_time": 1.64,
          "name": "STDOut_1",
          "real_mem": 198418432,
          "time": 1615204256.8905866
         },
         {
          "cpu_percent": 98,
          "cpu_time": 17.84,
          "name": "STDIn_1",
          "real_mem": 2707537920,
          "time": 1615204256.9024024
         },
         {
          "cpu_percent": 0,
          "cpu_time": 1.65,
          "name": "STDOut_1",
          "real_mem": 198418432,
          "time": 1615204257.0141842
         },
         {
          "cpu_percent": 97.9,
          "cpu_time": 17.95,
          "name": "STDIn_1",
          "real_mem": 2724028416,
          "time": 1615204257.026057
         },
         {
          "cpu_percent": 0,
          "cpu_time": 1.65,
          "name": "STDOut_1",
          "real_mem": 198418432,
          "time": 1615204257.138593
         },
         {
          "cpu_percent": 98.4,
          "cpu_time": 18.05,
          "name": "STDIn_1",
          "real_mem": 2738360320,
          "time": 1615204257.1499794
         },
         {
          "cpu_percent": 0,
          "cpu_time": 1.66,
          "name": "STDOut_1",
          "real_mem": 198418432,
          "time": 1615204257.2672083
         },
         {
          "cpu_percent": 98.2,
          "cpu_time": 18.16,
          "name": "STDIn_1",
          "real_mem": 2750795776,
          "time": 1615204257.279167
         },
         {
          "cpu_percent": 0,
          "cpu_time": 1.67,
          "name": "STDOut_1",
          "real_mem": 198418432,
          "time": 1615204257.3912544
         },
         {
          "cpu_percent": 98.4,
          "cpu_time": 18.26,
          "name": "STDIn_1",
          "real_mem": 2770796544,
          "time": 1615204257.4028647
         },
         {
          "cpu_percent": 0,
          "cpu_time": 1.68,
          "name": "STDOut_1",
          "real_mem": 198418432,
          "time": 1615204257.5150254
         },
         {
          "cpu_percent": 98.4,
          "cpu_time": 18.38,
          "name": "STDIn_1",
          "real_mem": 2795937792,
          "time": 1615204257.5267634
         },
         {
          "cpu_percent": 0,
          "cpu_time": 1.69,
          "name": "STDOut_1",
          "real_mem": 198418432,
          "time": 1615204257.6665618
         },
         {
          "cpu_percent": 98.3,
          "cpu_time": 18.48,
          "name": "STDIn_1",
          "real_mem": 2805669888,
          "time": 1615204257.678295
         },
         {
          "cpu_percent": 0,
          "cpu_time": 1.7,
          "name": "STDOut_1",
          "real_mem": 198418432,
          "time": 1615204257.7905617
         },
         {
          "cpu_percent": 0,
          "cpu_time": 18.58,
          "name": "STDIn_1",
          "real_mem": 2824863744,
          "time": 1615204257.8021002
         },
         {
          "cpu_percent": 0,
          "cpu_time": 1.7,
          "name": "STDOut_1",
          "real_mem": 198418432,
          "time": 1615204257.9140646
         },
         {
          "cpu_percent": 97.6,
          "cpu_time": 18.7,
          "name": "STDIn_1",
          "real_mem": 2834595840,
          "time": 1615204257.9260879
         },
         {
          "cpu_percent": 0,
          "cpu_time": 1.71,
          "name": "STDOut_1",
          "real_mem": 198418432,
          "time": 1615204258.0383284
         },
         {
          "cpu_percent": 0,
          "cpu_time": 18.79,
          "name": "STDIn_1",
          "real_mem": 2844602368,
          "time": 1615204258.0497782
         },
         {
          "cpu_percent": 193.2,
          "cpu_time": 1.73,
          "name": "STDOut_1",
          "real_mem": 198418432,
          "time": 1615204258.1666367
         },
         {
          "cpu_percent": 98.2,
          "cpu_time": 18.9,
          "name": "STDIn_1",
          "real_mem": 2863525888,
          "time": 1615204258.1784692
         },
         {
          "cpu_percent": 0,
          "cpu_time": 1.73,
          "name": "STDOut_1",
          "real_mem": 198418432,
          "time": 1615204258.290552
         },
         {
          "cpu_percent": 97.9,
          "cpu_time": 19.01,
          "name": "STDIn_1",
          "real_mem": 2873528320,
          "time": 1615204258.3028417
         },
         {
          "cpu_percent": 0,
          "cpu_time": 1.74,
          "name": "STDOut_1",
          "real_mem": 198418432,
          "time": 1615204258.4147441
         },
         {
          "cpu_percent": 98.2,
          "cpu_time": 19.11,
          "name": "STDIn_1",
          "real_mem": 2889748480,
          "time": 1615204258.4266455
         },
         {
          "cpu_percent": 0,
          "cpu_time": 1.74,
          "name": "STDOut_1",
          "real_mem": 198418432,
          "time": 1615204258.539047
         },
         {
          "cpu_percent": 0,
          "cpu_time": 19.2,
          "name": "STDIn_1",
          "real_mem": 2909749248,
          "time": 1615204258.5509531
         },
         {
          "cpu_percent": 0,
          "cpu_time": 1.76,
          "name": "STDOut_1",
          "real_mem": 198418432,
          "time": 1615204258.6665127
         },
         {
          "cpu_percent": 97.4,
          "cpu_time": 19.3,
          "name": "STDIn_1",
          "real_mem": 2922188800,
          "time": 1615204258.6781192
         },
         {
          "cpu_percent": 98.3,
          "cpu_time": 1.77,
          "name": "STDOut_1",
          "real_mem": 198418432,
          "time": 1615204258.7899208
         },
         {
          "cpu_percent": 0,
          "cpu_time": 19.42,
          "name": "STDIn_1",
          "real_mem": 2941382656,
          "time": 1615204258.801498
         },
         {
          "cpu_percent": 0,
          "cpu_time": 1.77,
          "name": "STDOut_1",
          "real_mem": 198418432,
          "time": 1615204258.9135852
         },
         {
          "cpu_percent": 98,
          "cpu_time": 19.52,
          "name": "STDIn_1",
          "real_mem": 2951114752,
          "time": 1615204258.9254503
         },
         {
          "cpu_percent": 0,
          "cpu_time": 1.77,
          "name": "STDOut_1",
          "real_mem": 198418432,
          "time": 1615204259.0375683
         },
         {
          "cpu_percent": 98.3,
          "cpu_time": 19.62,
          "name": "STDIn_1",
          "real_mem": 2974900224,
          "time": 1615204259.0493925
         },
         {
          "cpu_percent": 0,
          "cpu_time": 1.78,
          "name": "STDOut_1",
          "real_mem": 198418432,
          "time": 1615204259.167408
         },
         {
          "cpu_percent": 197.3,
          "cpu_time": 19.73,
          "name": "STDIn_1",
          "real_mem": 2989768704,
          "time": 1615204259.1789157
         },
         {
          "cpu_percent": 0,
          "cpu_time": 1.8,
          "name": "STDOut_1",
          "real_mem": 198418432,
          "time": 1615204259.290616
         },
         {
          "cpu_percent": 0,
          "cpu_time": 19.84,
          "name": "STDIn_1",
          "real_mem": 3009236992,
          "time": 1615204259.3019426
         },
         {
          "cpu_percent": 0,
          "cpu_time": 1.8,
          "name": "STDOut_1",
          "real_mem": 198418432,
          "time": 1615204259.4136693
         },
         {
          "cpu_percent": 98.3,
          "cpu_time": 19.94,
          "name": "STDIn_1",
          "real_mem": 3020050432,
          "time": 1615204259.4253185
         },
         {
          "cpu_percent": 0,
          "cpu_time": 1.8,
          "name": "STDOut_1",
          "real_mem": 198418432,
          "time": 1615204259.5373104
         },
         {
          "cpu_percent": 197.1,
          "cpu_time": 20.05,
          "name": "STDIn_1",
          "real_mem": 3045457920,
          "time": 1615204259.5487757
         },
         {
          "cpu_percent": 0,
          "cpu_time": 1.81,
          "name": "STDOut_1",
          "real_mem": 198418432,
          "time": 1615204259.6670077
         },
         {
          "cpu_percent": 97.8,
          "cpu_time": 20.16,
          "name": "STDIn_1",
          "real_mem": 3051409408,
          "time": 1615204259.6786425
         },
         {
          "cpu_percent": 0,
          "cpu_time": 1.82,
          "name": "STDOut_1",
          "real_mem": 198418432,
          "time": 1615204259.7907472
         },
         {
          "cpu_percent": 98.1,
          "cpu_time": 20.26,
          "name": "STDIn_1",
          "real_mem": 3067359232,
          "time": 1615204259.802214
         },
         {
          "cpu_percent": 0,
          "cpu_time": 1.83,
          "name": "STDOut_1",
          "real_mem": 198418432,
          "time": 1615204259.9141562
         },
         {
          "cpu_percent": 98.5,
          "cpu_time": 20.36,
          "name": "STDIn_1",
          "real_mem": 3080065024,
          "time": 1615204259.9258103
         },
         {
          "cpu_percent": 98.2,
          "cpu_time": 1.85,
          "name": "STDOut_1",
          "real_mem": 198418432,
          "time": 1615204260.0382216
         },
         {
          "cpu_percent": 96.2,
          "cpu_time": 20.46,
          "name": "STDIn_1",
          "real_mem": 3094663168,
          "time": 1615204260.0666783
         },
         {
          "cpu_percent": 0,
          "cpu_time": 1.87,
          "name": "STDOut_1",
          "real_mem": 198418432,
          "time": 1615204260.1787817
         },
         {
          "cpu_percent": 96.8,
          "cpu_time": 20.56,
          "name": "STDIn_1",
          "real_mem": 3111419904,
          "time": 1615204260.1905122
         },
         {
          "cpu_percent": 0,
          "cpu_time": 1.87,
          "name": "STDOut_1",
          "real_mem": 198418432,
          "time": 1615204260.3027084
         },
         {
          "cpu_percent": 98.3,
          "cpu_time": 20.67,
          "name": "STDIn_1",
          "real_mem": 3121152000,
          "time": 1615204260.314357
         },
         {
          "cpu_percent": 0,
          "cpu_time": 1.88,
          "name": "STDOut_1",
          "real_mem": 198418432,
          "time": 1615204260.4261146
         },
         {
          "cpu_percent": 97.3,
          "cpu_time": 20.78,
          "name": "STDIn_1",
          "real_mem": 3135479808,
          "time": 1615204260.4673939
         },
         {
          "cpu_percent": 0,
          "cpu_time": 1.9,
          "name": "STDOut_1",
          "real_mem": 198418432,
          "time": 1615204260.5795429
         },
         {
          "cpu_percent": 196.4,
          "cpu_time": 20.9,
          "name": "STDIn_1",
          "real_mem": 3154677760,
          "time": 1615204260.591616
         },
         {
          "cpu_percent": 0,
          "cpu_time": 1.9,
          "name": "STDOut_1",
          "real_mem": 198418432,
          "time": 1615204260.7036865
         },
         {
          "cpu_percent": 98.6,
          "cpu_time": 21.01,
          "name": "STDIn_1",
          "real_mem": 3173060608,
          "time": 1615204260.715247
         },
         {
          "cpu_percent": 0,
          "cpu_time": 1.91,
          "name": "STDOut_1",
          "real_mem": 198418432,
          "time": 1615204260.8273785
         },
         {
          "cpu_percent": 0,
          "cpu_time": 21.11,
          "name": "STDIn_1",
          "real_mem": 3187654656,
          "time": 1615204260.866508
         },
         {
          "cpu_percent": 0,
          "cpu_time": 1.92,
          "name": "STDOut_1",
          "real_mem": 198418432,
          "time": 1615204260.9784505
         },
         {
          "cpu_percent": 98.6,
          "cpu_time": 21.22,
          "name": "STDIn_1",
          "real_mem": 3193335808,
          "time": 1615204260.9897707
         },
         {
          "cpu_percent": 0,
          "cpu_time": 1.93,
          "name": "STDOut_1",
          "real_mem": 198418432,
          "time": 1615204261.1017342
         },
         {
          "cpu_percent": 0,
          "cpu_time": 21.33,
          "name": "STDIn_1",
          "real_mem": 3219554304,
          "time": 1615204261.1132977
         },
         {
          "cpu_percent": 0,
          "cpu_time": 1.94,
          "name": "STDOut_1",
          "real_mem": 198418432,
          "time": 1615204261.2256546
         },
         {
          "cpu_percent": 97.9,
          "cpu_time": 21.45,
          "name": "STDIn_1",
          "real_mem": 3230638080,
          "time": 1615204261.2665567
         },
         {
          "cpu_percent": 0,
          "cpu_time": 1.95,
          "name": "STDOut_1",
          "real_mem": 198418432,
          "time": 1615204261.3805072
         },
         {
          "cpu_percent": 0,
          "cpu_time": 21.56,
          "name": "STDIn_1",
          "real_mem": 3251458048,
          "time": 1615204261.3921661
         },
         {
          "cpu_percent": 0,
          "cpu_time": 1.96,
          "name": "STDOut_1",
          "real_mem": 198418432,
          "time": 1615204261.5055535
         },
         {
          "cpu_percent": 98.3,
          "cpu_time": 21.67,
          "name": "STDIn_1",
          "real_mem": 3261190144,
          "time": 1615204261.5173783
         },
         {
          "cpu_percent": 0,
          "cpu_time": 1.97,
          "name": "STDOut_1",
          "real_mem": 198418432,
          "time": 1615204261.6294312
         },
         {
          "cpu_percent": 97.6,
          "cpu_time": 21.77,
          "name": "STDIn_1",
          "real_mem": 3277950976,
          "time": 1615204261.666983
         },
         {
          "cpu_percent": 97.9,
          "cpu_time": 1.98,
          "name": "STDOut_1",
          "real_mem": 198418432,
          "time": 1615204261.7806659
         },
         {
          "cpu_percent": 0,
          "cpu_time": 21.89,
          "name": "STDIn_1",
          "real_mem": 3298766848,
          "time": 1615204261.7922645
         },
         {
          "cpu_percent": 0,
          "cpu_time": 1.99,
          "name": "STDOut_1",
          "real_mem": 198418432,
          "time": 1615204261.905489
         },
         {
          "cpu_percent": 196.6,
          "cpu_time": 22,
          "name": "STDIn_1",
          "real_mem": 3316338688,
          "time": 1615204261.9170387
         },
         {
          "cpu_percent": 0,
          "cpu_time": 1.99,
          "name": "STDOut_1",
          "real_mem": 198418432,
          "time": 1615204262.029238
         },
         {
          "cpu_percent": 0,
          "cpu_time": 22.08,
          "name": "STDIn_1",
          "real_mem": 3337961472,
          "time": 1615204262.0407016
         },
         {
          "cpu_percent": 0,
          "cpu_time": 2,
          "name": "STDOut_1",
          "real_mem": 198418432,
          "time": 1615204262.1669545
         },
         {
          "cpu_percent": 196.2,
          "cpu_time": 22.21,
          "name": "STDIn_1",
          "real_mem": 3353100288,
          "time": 1615204262.1785438
         },
         {
          "cpu_percent": 0,
          "cpu_time": 2.01,
          "name": "STDOut_1",
          "real_mem": 198418432,
          "time": 1615204262.2918773
         },
         {
          "cpu_percent": 98.4,
          "cpu_time": 22.3,
          "name": "STDIn_1",
          "real_mem": 3367428096,
          "time": 1615204262.3037038
         },
         {
          "cpu_percent": 0,
          "cpu_time": 2.02,
          "name": "STDOut_1",
          "real_mem": 198418432,
          "time": 1615204262.4156387
         },
         {
          "cpu_percent": 98.1,
          "cpu_time": 22.42,
          "name": "STDIn_1",
          "real_mem": 3383918592,
          "time": 1615204262.427431
         },
         {
          "cpu_percent": 0,
          "cpu_time": 2.03,
          "name": "STDOut_1",
          "real_mem": 198418432,
          "time": 1615204262.566904
         },
         {
          "cpu_percent": 97.4,
          "cpu_time": 22.52,
          "name": "STDIn_1",
          "real_mem": 3396628480,
          "time": 1615204262.57893
         },
         {
          "cpu_percent": 0,
          "cpu_time": 2.03,
          "name": "STDOut_1",
          "real_mem": 198418432,
          "time": 1615204262.6927776
         },
         {
          "cpu_percent": 0,
          "cpu_time": 22.64,
          "name": "STDIn_1",
          "real_mem": 3417985024,
          "time": 1615204262.7042158
         },
         {
          "cpu_percent": 97.5,
          "cpu_time": 2.04,
          "name": "STDOut_1",
          "real_mem": 198418432,
          "time": 1615204262.816315
         },
         {
          "cpu_percent": 196,
          "cpu_time": 22.75,
          "name": "STDIn_1",
          "real_mem": 3428257792,
          "time": 1615204262.8284457
         },
         {
          "cpu_percent": 0,
          "cpu_time": 2.05,
          "name": "STDOut_1",
          "real_mem": 198418432,
          "time": 1615204262.9408584
         },
         {
          "cpu_percent": 0,
          "cpu_time": 22.83,
          "name": "STDIn_1",
          "real_mem": 3450691584,
          "time": 1615204262.952802
         },
         {
          "cpu_percent": 0,
          "cpu_time": 2.06,
          "name": "STDOut_1",
          "real_mem": 198418432,
          "time": 1615204263.0674145
         },
         {
          "cpu_percent": 98.3,
          "cpu_time": 22.94,
          "name": "STDIn_1",
          "real_mem": 3454750720,
          "time": 1615204263.0787463
         },
         {
          "cpu_percent": 0,
          "cpu_time": 2.07,
          "name": "STDOut_1",
          "real_mem": 198418432,
          "time": 1615204263.1908274
         },
         {
          "cpu_percent": 97.6,
          "cpu_time": 23.04,
          "name": "STDIn_1",
          "real_mem": 3479887872,
          "time": 1615204263.2022898
         },
         {
          "cpu_percent": 0,
          "cpu_time": 2.08,
          "name": "STDOut_1",
          "real_mem": 198418432,
          "time": 1615204263.3139122
         },
         {
          "cpu_percent": 97.7,
          "cpu_time": 23.15,
          "name": "STDIn_1",
          "real_mem": 3493945344,
          "time": 1615204263.3255444
         },
         {
          "cpu_percent": 0,
          "cpu_time": 2.09,
          "name": "STDOut_1",
          "real_mem": 198418432,
          "time": 1615204263.4375653
         },
         {
          "cpu_percent": 97.7,
          "cpu_time": 23.26,
          "name": "STDIn_1",
          "real_mem": 3512868864,
          "time": 1615204263.4665506
         },
         {
          "cpu_percent": 0,
          "cpu_time": 2.1,
          "name": "STDOut_1",
          "real_mem": 198418432,
          "time": 1615204263.5786648
         },
         {
          "cpu_percent": 98.5,
          "cpu_time": 23.37,
          "name": "STDIn_1",
          "real_mem": 3516928000,
          "time": 1615204263.5899863
         },
         {
          "cpu_percent": 0,
          "cpu_time": 2.11,
          "name": "STDOut_1",
          "real_mem": 198418432,
          "time": 1615204263.7020278
         },
         {
          "cpu_percent": 98,
          "cpu_time": 23.47,
          "name": "STDIn_1",
          "real_mem": 3532337152,
          "time": 1615204263.7136753
         },
         {
          "cpu_percent": 0,
          "cpu_time": 2.11,
          "name": "STDOut_1",
          "real_mem": 198418432,
          "time": 1615204263.8257082
         },
         {
          "cpu_percent": 0,
          "cpu_time": 23.56,
          "name": "STDIn_1",
          "real_mem": 3542069248,
          "time": 1615204263.8375092
         },
         {
          "cpu_percent": 0,
          "cpu_time": 2.12,
          "name": "STDOut_1",
          "real_mem": 198418432,
          "time": 1615204263.9665234
         },
         {
          "cpu_percent": 0,
          "cpu_time": 23.67,
          "name": "STDIn_1",
          "real_mem": 3569098752,
          "time": 1615204263.9781673
         },
         {
          "cpu_percent": 0,
          "cpu_time": 2.14,
          "name": "STDOut_1",
          "real_mem": 198418432,
          "time": 1615204264.090526
         },
         {
          "cpu_percent": 98.5,
          "cpu_time": 23.78,
          "name": "STDIn_1",
          "real_mem": 3573698560,
          "time": 1615204264.1018302
         },
         {
          "cpu_percent": 0,
          "cpu_time": 2.15,
          "name": "STDOut_1",
          "real_mem": 198418432,
          "time": 1615204264.213819
         },
         {
          "cpu_percent": 196.9,
          "cpu_time": 23.89,
          "name": "STDIn_1",
          "real_mem": 3598565376,
          "time": 1615204264.2252352
         },
         {
          "cpu_percent": 0,
          "cpu_time": 2.15,
          "name": "STDOut_1",
          "real_mem": 198418432,
          "time": 1615204264.3670034
         },
         {
          "cpu_percent": 98.1,
          "cpu_time": 24.01,
          "name": "STDIn_1",
          "real_mem": 3619381248,
          "time": 1615204264.378766
         },
         {
          "cpu_percent": 0,
          "cpu_time": 2.16,
          "name": "STDOut_1",
          "real_mem": 198418432,
          "time": 1615204264.4905803
         },
         {
          "cpu_percent": 98.3,
          "cpu_time": 24.11,
          "name": "STDIn_1",
          "real_mem": 3630194688,
          "time": 1615204264.5023794
         },
         {
          "cpu_percent": 0,
          "cpu_time": 2.18,
          "name": "STDOut_1",
          "real_mem": 198418432,
          "time": 1615204264.6145854
         },
         {
          "cpu_percent": 25,
          "cpu_time": 24.23,
          "name": "STDIn_1",
          "real_mem": 3648581632,
          "time": 1615204264.656091
         },
         {
          "cpu_percent": 0,
          "cpu_time": 2.18,
          "name": "STDOut_1",
          "real_mem": 198418432,
          "time": 1615204264.7703025
         },
         {
          "cpu_percent": 98.2,
          "cpu_time": 24.35,
          "name": "STDIn_1",
          "real_mem": 3668045824,
          "time": 1615204264.7821772
         },
         {
          "cpu_percent": 0,
          "cpu_time": 2.19,
          "name": "STDOut_1",
          "real_mem": 198418432,
          "time": 1615204264.894015
         },
         {
          "cpu_percent": 0,
          "cpu_time": 24.46,
          "name": "STDIn_1",
          "real_mem": 3677777920,
          "time": 1615204264.9054968
         },
         {
          "cpu_percent": 0,
          "cpu_time": 2.21,
          "name": "STDOut_1",
          "real_mem": 198418432,
          "time": 1615204265.0181153
         },
         {
          "cpu_percent": 98.1,
          "cpu_time": 24.56,
          "name": "STDIn_1",
          "real_mem": 3696971776,
          "time": 1615204265.0302014
         },
         {
          "cpu_percent": 0,
          "cpu_time": 2.21,
          "name": "STDOut_1",
          "real_mem": 198418432,
          "time": 1615204265.1422906
         },
         {
          "cpu_percent": 0,
          "cpu_time": 24.65,
          "name": "STDIn_1",
          "real_mem": 3706703872,
          "time": 1615204265.1537836
         },
         {
          "cpu_percent": 0,
          "cpu_time": 2.23,
          "name": "STDOut_1",
          "real_mem": 208146432,
          "time": 1615204265.2673802
         },
         {
          "cpu_percent": 98,
          "cpu_time": 24.74,
          "name": "STDIn_1",
          "real_mem": 3714310144,
          "time": 1615204265.2787945
         },
         {
          "cpu_percent": 0,
          "cpu_time": 2.24,
          "name": "STDOut_1",
          "real_mem": 208146432,
          "time": 1615204265.3906672
         },
         {
          "cpu_percent": 98.3,
          "cpu_time": 24.85,
          "name": "STDIn_1",
          "real_mem": 3726114816,
          "time": 1615204265.4024584
         },
         {
          "cpu_percent": 98.2,
          "cpu_time": 2.25,
          "name": "STDOut_1",
          "real_mem": 208146432,
          "time": 1615204265.5149176
         },
         {
          "cpu_percent": 196,
          "cpu_time": 24.96,
          "name": "STDIn_1",
          "real_mem": 3743739904,
          "time": 1615204265.5269716
         },
         {
          "cpu_percent": 0,
          "cpu_time": 2.25,
          "name": "STDOut_1",
          "real_mem": 208146432,
          "time": 1615204265.6391501
         },
         {
          "cpu_percent": 98.2,
          "cpu_time": 25.05,
          "name": "STDIn_1",
          "real_mem": 3764281344,
          "time": 1615204265.6505823
         },
         {
          "cpu_percent": 0,
          "cpu_time": 2.27,
          "name": "STDOut_1",
          "real_mem": 208146432,
          "time": 1615204265.7665875
         },
         {
          "cpu_percent": 97.8,
          "cpu_time": 25.15,
          "name": "STDIn_1",
          "real_mem": 3775905792,
          "time": 1615204265.778402
         },
         {
          "cpu_percent": 0,
          "cpu_time": 2.27,
          "name": "STDOut_1",
          "real_mem": 208146432,
          "time": 1615204265.8904731
         },
         {
          "cpu_percent": 98.3,
          "cpu_time": 25.25,
          "name": "STDIn_1",
          "real_mem": 3793747968,
          "time": 1615204265.9020603
         },
         {
          "cpu_percent": 0,
          "cpu_time": 2.28,
          "name": "STDOut_1",
          "real_mem": 208146432,
          "time": 1615204266.0148356
         },
         {
          "cpu_percent": 195.5,
          "cpu_time": 25.36,
          "name": "STDIn_1",
          "real_mem": 3794022400,
          "time": 1615204266.0268652
         },
         {
          "cpu_percent": 0,
          "cpu_time": 2.3,
          "name": "STDOut_1",
          "real_mem": 208146432,
          "time": 1615204266.1393235
         },
         {
          "cpu_percent": 0,
          "cpu_time": 25.45,
          "name": "STDIn_1",
          "real_mem": 3807809536,
          "time": 1615204266.1668015
         },
         {
          "cpu_percent": 0,
          "cpu_time": 2.31,
          "name": "STDOut_1",
          "real_mem": 208146432,
          "time": 1615204266.2793787
         },
         {
          "cpu_percent": 196.7,
          "cpu_time": 25.57,
          "name": "STDIn_1",
          "real_mem": 3822948352,
          "time": 1615204266.291215
         },
         {
          "cpu_percent": 98.1,
          "cpu_time": 2.32,
          "name": "STDOut_1",
          "real_mem": 208146432,
          "time": 1615204266.4033086
         },
         {
          "cpu_percent": 98.3,
          "cpu_time": 25.67,
          "name": "STDIn_1",
          "real_mem": 3839979520,
          "time": 1615204266.4146142
         },
         {
          "cpu_percent": 0,
          "cpu_time": 2.32,
          "name": "STDOut_1",
          "real_mem": 208146432,
          "time": 1615204266.5266442
         },
         {
          "cpu_percent": 98.2,
          "cpu_time": 25.77,
          "name": "STDIn_1",
          "real_mem": 3860791296,
          "time": 1615204266.538049
         },
         {
          "cpu_percent": 97.1,
          "cpu_time": 2.34,
          "name": "STDOut_1",
          "real_mem": 208146432,
          "time": 1615204266.6671138
         },
         {
          "cpu_percent": 98.1,
          "cpu_time": 25.88,
          "name": "STDIn_1",
          "real_mem": 3867283456,
          "time": 1615204266.6791205
         },
         {
          "cpu_percent": 0,
          "cpu_time": 2.35,
          "name": "STDOut_1",
          "real_mem": 208146432,
          "time": 1615204266.7915134
         },
         {
          "cpu_percent": 196.2,
          "cpu_time": 25.99,
          "name": "STDIn_1",
          "real_mem": 3889446912,
          "time": 1615204266.803439
         },
         {
          "cpu_percent": 0,
          "cpu_time": 2.35,
          "name": "STDOut_1",
          "real_mem": 208146432,
          "time": 1615204266.9154606
         },
         {
          "cpu_percent": 98.1,
          "cpu_time": 26.08,
          "name": "STDIn_1",
          "real_mem": 3890802688,
          "time": 1615204266.9268756
         },
         {
          "cpu_percent": 0,
          "cpu_time": 2.37,
          "name": "STDOut_1",
          "real_mem": 208146432,
          "time": 1615204267.0665214
         },
         {
          "cpu_percent": 196.3,
          "cpu_time": 26.2,
          "name": "STDIn_1",
          "real_mem": 3909996544,
          "time": 1615204267.0783083
         },
         {
          "cpu_percent": 0,
          "cpu_time": 2.38,
          "name": "STDOut_1",
          "real_mem": 208146432,
          "time": 1615204267.1902583
         },
         {
          "cpu_percent": 98.5,
          "cpu_time": 26.3,
          "name": "STDIn_1",
          "real_mem": 3919728640,
          "time": 1615204267.2016206
         },
         {
          "cpu_percent": 0,
          "cpu_time": 2.39,
          "name": "STDOut_1",
          "real_mem": 208146432,
          "time": 1615204267.313597
         },
         {
          "cpu_percent": 195.6,
          "cpu_time": 26.42,
          "name": "STDIn_1",
          "real_mem": 3940540416,
          "time": 1615204267.3256416
         },
         {
          "cpu_percent": 0,
          "cpu_time": 2.4,
          "name": "STDOut_1",
          "real_mem": 208146432,
          "time": 1615204267.4376166
         },
         {
          "cpu_percent": 98.3,
          "cpu_time": 26.51,
          "name": "STDIn_1",
          "real_mem": 3955679232,
          "time": 1615204267.4668727
         },
         {
          "cpu_percent": 0,
          "cpu_time": 2.41,
          "name": "STDOut_1",
          "real_mem": 208146432,
          "time": 1615204267.5788615
         },
         {
          "cpu_percent": 0,
          "cpu_time": 26.61,
          "name": "STDIn_1",
          "real_mem": 3968114688,
          "time": 1615204267.5908167
         },
         {
          "cpu_percent": 0,
          "cpu_time": 2.42,
          "name": "STDOut_1",
          "real_mem": 208146432,
          "time": 1615204267.7028358
         },
         {
          "cpu_percent": 98.5,
          "cpu_time": 26.71,
          "name": "STDIn_1",
          "real_mem": 3977846784,
          "time": 1615204267.7142718
         },
         {
          "cpu_percent": 0,
          "cpu_time": 2.43,
          "name": "STDOut_1",
          "real_mem": 208146432,
          "time": 1615204267.826238
         },
         {
          "cpu_percent": 196.6,
          "cpu_time": 26.82,
          "name": "STDIn_1",
          "real_mem": 3977850880,
          "time": 1615204267.8380797
         },
         {
          "cpu_percent": 0,
          "cpu_time": 2.44,
          "name": "STDOut_1",
          "real_mem": 208146432,
          "time": 1615204267.9673538
         },
         {
          "cpu_percent": 0,
          "cpu_time": 26.91,
          "name": "STDIn_1",
          "real_mem": 3996774400,
          "time": 1615204267.978887
         },
         {
          "cpu_percent": 0,
          "cpu_time": 2.46,
          "name": "STDOut_1",
          "real_mem": 208146432,
          "time": 1615204268.0914657
         },
         {
          "cpu_percent": 98.4,
          "cpu_time": 27.03,
          "name": "STDIn_1",
          "real_mem": 4015693824,
          "time": 1615204268.1029491
         },
         {
          "cpu_percent": 0,
          "cpu_time": 2.47,
          "name": "STDOut_1",
          "real_mem": 208146432,
          "time": 1615204268.215199
         },
         {
          "cpu_percent": 98.3,
          "cpu_time": 27.13,
          "name": "STDIn_1",
          "real_mem": 4024074240,
          "time": 1615204268.2267473
         },
         {
          "cpu_percent": 0,
          "cpu_time": 2.48,
          "name": "STDOut_1",
          "real_mem": 208146432,
          "time": 1615204268.3668025
         },
         {
          "cpu_percent": 98.4,
          "cpu_time": 27.24,
          "name": "STDIn_1",
          "real_mem": 4043538432,
          "time": 1615204268.378503
         },
         {
          "cpu_percent": 0,
          "cpu_time": 2.49,
          "name": "STDOut_1",
          "real_mem": 208146432,
          "time": 1615204268.490898
         },
         {
          "cpu_percent": 98,
          "cpu_time": 27.34,
          "name": "STDIn_1",
          "real_mem": 4055162880,
          "time": 1615204268.5027082
         },
         {
          "cpu_percent": 0,
          "cpu_time": 2.5,
          "name": "STDOut_1",
          "real_mem": 208146432,
          "time": 1615204268.6145782
         },
         {
          "cpu_percent": 98,
          "cpu_time": 27.44,
          "name": "STDIn_1",
          "real_mem": 4064894976,
          "time": 1615204268.6259944
         },
         {
          "cpu_percent": 0,
          "cpu_time": 2.51,
          "name": "STDOut_1",
          "real_mem": 208146432,
          "time": 1615204268.7377126
         },
         {
          "cpu_percent": 98.3,
          "cpu_time": 27.56,
          "name": "STDIn_1",
          "real_mem": 4074901504,
          "time": 1615204268.7669592
         },
         {
          "cpu_percent": 0,
          "cpu_time": 2.52,
          "name": "STDOut_1",
          "real_mem": 208146432,
          "time": 1615204268.8788455
         },
         {
          "cpu_percent": 0,
          "cpu_time": 27.66,
          "name": "STDIn_1",
          "real_mem": 4094095360,
          "time": 1615204268.891251
         },
         {
          "cpu_percent": 0,
          "cpu_time": 2.53,
          "name": "STDOut_1",
          "real_mem": 208146432,
          "time": 1615204269.00336
         },
         {
          "cpu_percent": 98.9,
          "cpu_time": 27.77,
          "name": "STDIn_1",
          "real_mem": 4104364032,
          "time": 1615204269.0147204
         },
         {
          "cpu_percent": 0,
          "cpu_time": 2.53,
          "name": "STDOut_1",
          "real_mem": 208146432,
          "time": 1615204269.1269486
         },
         {
          "cpu_percent": 195.9,
          "cpu_time": 27.88,
          "name": "STDIn_1",
          "real_mem": 4114640896,
          "time": 1615204269.1393065
         },
         {
          "cpu_percent": 0,
          "cpu_time": 2.54,
          "name": "STDOut_1",
          "real_mem": 208146432,
          "time": 1615204269.267828
         },
         {
          "cpu_percent": 196.6,
          "cpu_time": 27.99,
          "name": "STDIn_1",
          "real_mem": 4130050048,
          "time": 1615204269.279536
         },
         {
          "cpu_percent": 0,
          "cpu_time": 2.54,
          "name": "STDOut_1",
          "real_mem": 208146432,
          "time": 1615204269.3916185
         },
         {
          "cpu_percent": 196.8,
          "cpu_time": 28.09,
          "name": "STDIn_1",
          "real_mem": 4151132160,
          "time": 1615204269.4033294
         },
         {
          "cpu_percent": 0,
          "cpu_time": 2.56,
          "name": "STDOut_1",
          "real_mem": 208146432,
          "time": 1615204269.5155702
         },
         {
          "cpu_percent": 98.3,
          "cpu_time": 28.19,
          "name": "STDIn_1",
          "real_mem": 4152217600,
          "time": 1615204269.527399
         },
         {
          "cpu_percent": 0,
          "cpu_time": 2.57,
          "name": "STDOut_1",
          "real_mem": 208146432,
          "time": 1615204269.6394284
         },
         {
          "cpu_percent": 97.6,
          "cpu_time": 28.3,
          "name": "STDIn_1",
          "real_mem": 4161949696,
          "time": 1615204269.6677616
         },
         {
          "cpu_percent": 0,
          "cpu_time": 2.57,
          "name": "STDOut_1",
          "real_mem": 208146432,
          "time": 1615204269.7800145
         },
         {
          "cpu_percent": 98.5,
          "cpu_time": 28.4,
          "name": "STDIn_1",
          "real_mem": 4174114816,
          "time": 1615204269.791405
         },
         {
          "cpu_percent": 0,
          "cpu_time": 2.59,
          "name": "STDOut_1",
          "real_mem": 208146432,
          "time": 1615204269.9033837
         },
         {
          "cpu_percent": 98.2,
          "cpu_time": 28.5,
          "name": "STDIn_1",
          "real_mem": 4185198592,
          "time": 1615204269.914923
         },
         {
          "cpu_percent": 95.9,
          "cpu_time": 2.61,
          "name": "STDOut_1",
          "real_mem": 208146432,
          "time": 1615204270.0274007
         },
         {
          "cpu_percent": 0,
          "cpu_time": 28.6,
          "name": "STDIn_1",
          "real_mem": 4193579008,
          "time": 1615204270.03886
         },
         {
          "cpu_percent": 0,
          "cpu_time": 2.61,
          "name": "STDOut_1",
          "real_mem": 208146432,
          "time": 1615204270.151385
         },
         {
          "cpu_percent": 96.7,
          "cpu_time": 28.69,
          "name": "STDIn_1",
          "real_mem": 4217364480,
          "time": 1615204270.1667056
         },
         {
          "cpu_percent": 0,
          "cpu_time": 2.61,
          "name": "STDOut_1",
          "real_mem": 208146432,
          "time": 1615204270.2791097
         },
         {
          "cpu_percent": 96.6,
          "cpu_time": 28.8,
          "name": "STDIn_1",
          "real_mem": 4229529600,
          "time": 1615204270.2912529
         },
         {
          "cpu_percent": 0,
          "cpu_time": 2.62,
          "name": "STDOut_1",
          "real_mem": 208146432,
          "time": 1615204270.4033856
         },
         {
          "cpu_percent": 98.7,
          "cpu_time": 28.9,
          "name": "STDIn_1",
          "real_mem": 4229804032,
          "time": 1615204270.414768
         },
         {
          "cpu_percent": 0,
          "cpu_time": 2.64,
          "name": "STDOut_1",
          "real_mem": 208146432,
          "time": 1615204270.526864
         },
         {
          "cpu_percent": 98.6,
          "cpu_time": 29,
          "name": "STDIn_1",
          "real_mem": 4249804800,
          "time": 1615204270.538477
         },
         {
          "cpu_percent": 0,
          "cpu_time": 2.65,
          "name": "STDOut_1",
          "real_mem": 208146432,
          "time": 1615204270.6670492
         },
         {
          "cpu_percent": 98.7,
          "cpu_time": 29.12,
          "name": "STDIn_1",
          "real_mem": 4268457984,
          "time": 1615204270.6783419
         },
         {
          "cpu_percent": 0,
          "cpu_time": 2.65,
          "name": "STDOut_1",
          "real_mem": 208146432,
          "time": 1615204270.7903812
         },
         {
          "cpu_percent": 99,
          "cpu_time": 29.21,
          "name": "STDIn_1",
          "real_mem": 4277919744,
          "time": 1615204270.801661
         },
         {
          "cpu_percent": 0,
          "cpu_time": 2.66,
          "name": "STDOut_1",
          "real_mem": 208146432,
          "time": 1615204270.9136171
         },
         {
          "cpu_percent": 98.5,
          "cpu_time": 29.31,
          "name": "STDIn_1",
          "real_mem": 4278194176,
          "time": 1615204270.925125
         },
         {
          "cpu_percent": 0,
          "cpu_time": 2.68,
          "name": "STDOut_1",
          "real_mem": 208146432,
          "time": 1615204271.037399
         },
         {
          "cpu_percent": 195,
          "cpu_time": 29.43,
          "name": "STDIn_1",
          "real_mem": 4290088960,
          "time": 1615204271.0667596
         },
         {
          "cpu_percent": 0,
          "cpu_time": 2.69,
          "name": "STDOut_1",
          "real_mem": 208146432,
          "time": 1615204271.1784978
         },
         {
          "cpu_percent": 98.6,
          "cpu_time": 29.54,
          "name": "STDIn_1",
          "real_mem": 4304146432,
          "time": 1615204271.1898544
         },
         {
          "cpu_percent": 0,
          "cpu_time": 2.7,
          "name": "STDOut_1",
          "real_mem": 208146432,
          "time": 1615204271.3016543
         },
         {
          "cpu_percent": 98.5,
          "cpu_time": 29.64,
          "name": "STDIn_1",
          "real_mem": 4315500544,
          "time": 1615204271.313171
         },
         {
          "cpu_percent": 0,
          "cpu_time": 2.72,
          "name": "STDOut_1",
          "real_mem": 208146432,
          "time": 1615204271.4250774
         },
         {
          "cpu_percent": 0,
          "cpu_time": 29.73,
          "name": "STDIn_1",
          "real_mem": 4324962304,
          "time": 1615204271.436524
         },
         {
          "cpu_percent": 0,
          "cpu_time": 2.72,
          "name": "STDOut_1",
          "real_mem": 208146432,
          "time": 1615204271.5486495
         },
         {
          "cpu_percent": 194.3,
          "cpu_time": 29.85,
          "name": "STDIn_1",
          "real_mem": 4336586752,
          "time": 1615204271.5670564
         },
         {
          "cpu_percent": 0,
          "cpu_time": 2.73,
          "name": "STDOut_1",
          "real_mem": 208146432,
          "time": 1615204271.6789591
         },
         {
          "cpu_percent": 98.1,
          "cpu_time": 29.94,
          "name": "STDIn_1",
          "real_mem": 4357398528,
          "time": 1615204271.690632
         },
         {
          "cpu_percent": 0,
          "cpu_time": 2.73,
          "name": "STDOut_1",
          "real_mem": 208146432,
          "time": 1615204271.8028479
         },
         {
          "cpu_percent": 195.7,
          "cpu_time": 30.05,
          "name": "STDIn_1",
          "real_mem": 4374970368,
          "time": 1615204271.8146577
         },
         {
          "cpu_percent": 0,
          "cpu_time": 2.75,
          "name": "STDOut_1",
          "real_mem": 208146432,
          "time": 1615204271.926583
         },
         {
          "cpu_percent": 98.5,
          "cpu_time": 30.15,
          "name": "STDIn_1",
          "real_mem": 4384702464,
          "time": 1615204271.937938
         },
         {
          "cpu_percent": 0,
          "cpu_time": 2.76,
          "name": "STDOut_1",
          "real_mem": 208146432,
          "time": 1615204272.066869
         },
         {
          "cpu_percent": 98.3,
          "cpu_time": 30.25,
          "name": "STDIn_1",
          "real_mem": 4384706560,
          "time": 1615204272.0783648
         },
         {
          "cpu_percent": 0,
          "cpu_time": 2.76,
          "name": "STDOut_1",
          "real_mem": 208146432,
          "time": 1615204272.1905994
         },
         {
          "cpu_percent": 196.5,
          "cpu_time": 30.36,
          "name": "STDIn_1",
          "real_mem": 4394438656,
          "time": 1615204272.2021725
         },
         {
          "cpu_percent": 0,
          "cpu_time": 2.77,
          "name": "STDOut_1",
          "real_mem": 208146432,
          "time": 1615204272.3144293
         },
         {
          "cpu_percent": 0,
          "cpu_time": 30.47,
          "name": "STDIn_1",
          "real_mem": 4423360512,
          "time": 1615204272.325996
         },
         {
          "cpu_percent": 0,
          "cpu_time": 2.79,
          "name": "STDOut_1",
          "real_mem": 208146432,
          "time": 1615204272.4674006
         },
         {
          "cpu_percent": 97.5,
          "cpu_time": 30.58,
          "name": "STDIn_1",
          "real_mem": 4433092608,
          "time": 1615204272.478921
         },
         {
          "cpu_percent": 0,
          "cpu_time": 2.79,
          "name": "STDOut_1",
          "real_mem": 208146432,
          "time": 1615204272.5938954
         },
         {
          "cpu_percent": 98.4,
          "cpu_time": 30.68,
          "name": "STDIn_1",
          "real_mem": 4442824704,
          "time": 1615204272.605443
         },
         {
          "cpu_percent": 0,
          "cpu_time": 2.8,
          "name": "STDOut_1",
          "real_mem": 208146432,
          "time": 1615204272.7176967
         },
         {
          "cpu_percent": 98.3,
          "cpu_time": 30.8,
          "name": "STDIn_1",
          "real_mem": 4462018560,
          "time": 1615204272.729227
         },
         {
          "cpu_percent": 0,
          "cpu_time": 2.82,
          "name": "STDOut_1",
          "real_mem": 208146432,
          "time": 1615204272.8665109
         },
         {
          "cpu_percent": 97.9,
          "cpu_time": 30.9,
          "name": "STDIn_1",
          "real_mem": 4464992256,
          "time": 1615204272.877947
         },
         {
          "cpu_percent": 0,
          "cpu_time": 2.83,
          "name": "STDOut_1",
          "real_mem": 208146432,
          "time": 1615204272.9904993
         },
         {
          "cpu_percent": 98.3,
          "cpu_time": 31.02,
          "name": "STDIn_1",
          "real_mem": 4484186112,
          "time": 1615204273.002151
         },
         {
          "cpu_percent": 0,
          "cpu_time": 2.84,
          "name": "STDOut_1",
          "real_mem": 208146432,
          "time": 1615204273.1141152
         },
         {
          "cpu_percent": 97.8,
          "cpu_time": 31.13,
          "name": "STDIn_1",
          "real_mem": 4491489280,
          "time": 1615204273.125598
         },
         {
          "cpu_percent": 0,
          "cpu_time": 2.84,
          "name": "STDOut_1",
          "real_mem": 208146432,
          "time": 1615204273.237468
         },
         {
          "cpu_percent": 0,
          "cpu_time": 31.22,
          "name": "STDIn_1",
          "real_mem": 4504735744,
          "time": 1615204273.2667491
         },
         {
          "cpu_percent": 0,
          "cpu_time": 2.84,
          "name": "STDOut_1",
          "real_mem": 208146432,
          "time": 1615204273.3784504
         },
         {
          "cpu_percent": 0,
          "cpu_time": 31.33,
          "name": "STDIn_1",
          "real_mem": 4520415232,
          "time": 1615204273.389766
         },
         {
          "cpu_percent": 0,
          "cpu_time": 2.86,
          "name": "STDOut_1",
          "real_mem": 208146432,
          "time": 1615204273.5018828
         },
         {
          "cpu_percent": 98.4,
          "cpu_time": 31.44,
          "name": "STDIn_1",
          "real_mem": 4530417664,
          "time": 1615204273.513515
         },
         {
          "cpu_percent": 0,
          "cpu_time": 2.87,
          "name": "STDOut_1",
          "real_mem": 208146432,
          "time": 1615204273.6254315
         },
         {
          "cpu_percent": 98.4,
          "cpu_time": 31.56,
          "name": "STDIn_1",
          "real_mem": 4561502208,
          "time": 1615204273.666527
         },
         {
          "cpu_percent": 0,
          "cpu_time": 2.87,
          "name": "STDOut_1",
          "real_mem": 208146432,
          "time": 1615204273.7786
         },
         {
          "cpu_percent": 98.5,
          "cpu_time": 31.67,
          "name": "STDIn_1",
          "real_mem": 4571508736,
          "time": 1615204273.7899354
         },
         {
          "cpu_percent": 0,
          "cpu_time": 2.9,
          "name": "STDOut_1",
          "real_mem": 208146432,
          "time": 1615204273.901954
         },
         {
          "cpu_percent": 98,
          "cpu_time": 31.77,
          "name": "STDIn_1",
          "real_mem": 4597727232,
          "time": 1615204273.913502
         },
         {
          "cpu_percent": 0,
          "cpu_time": 2.9,
          "name": "STDOut_1",
          "real_mem": 208146432,
          "time": 1615204274.0256388
         },
         {
          "cpu_percent": 97.5,
          "cpu_time": 31.87,
          "name": "STDIn_1",
          "real_mem": 4598001664,
          "time": 1615204274.0373757
         },
         {
          "cpu_percent": 0,
          "cpu_time": 2.91,
          "name": "STDOut_1",
          "real_mem": 208146432,
          "time": 1615204274.1665382
         },
         {
          "cpu_percent": 98.4,
          "cpu_time": 31.97,
          "name": "STDIn_1",
          "real_mem": 4617195520,
          "time": 1615204274.1780317
         },
         {
          "cpu_percent": 0,
          "cpu_time": 2.93,
          "name": "STDOut_1",
          "real_mem": 208146432,
          "time": 1615204274.290238
         },
         {
          "cpu_percent": 196.6,
          "cpu_time": 32.08,
          "name": "STDIn_1",
          "real_mem": 4636659712,
          "time": 1615204274.3017268
         },
         {
          "cpu_percent": 0,
          "cpu_time": 2.94,
          "name": "STDOut_1",
          "real_mem": 208146432,
          "time": 1615204274.4141612
         },
         {
          "cpu_percent": 98.5,
          "cpu_time": 32.17,
          "name": "STDIn_1",
          "real_mem": 4656123904,
          "time": 1615204274.4257376
         },
         {
          "cpu_percent": 0,
          "cpu_time": 2.94,
          "name": "STDOut_1",
          "real_mem": 208146432,
          "time": 1615204274.5380313
         },
         {
          "cpu_percent": 0,
          "cpu_time": 32.28,
          "name": "STDIn_1",
          "real_mem": 4684775424,
          "time": 1615204274.5668309
         },
         {
          "cpu_percent": 0,
          "cpu_time": 2.95,
          "name": "STDOut_1",
          "real_mem": 208146432,
          "time": 1615204274.6788473
         },
         {
          "cpu_percent": 0,
          "cpu_time": 32.38,
          "name": "STDIn_1",
          "real_mem": 4704239616,
          "time": 1615204274.690221
         },
         {
          "cpu_percent": 0,
          "cpu_time": 2.97,
          "name": "STDOut_1",
          "real_mem": 208146432,
          "time": 1615204274.8023226
         },
         {
          "cpu_percent": 167.8,
          "cpu_time": 32.5,
          "name": "STDIn_1",
          "real_mem": 4704514048,
          "time": 1615204274.8155959
         },
         {
          "cpu_percent": 98.3,
          "cpu_time": 2.98,
          "name": "STDOut_1",
          "real_mem": 208146432,
          "time": 1615204274.9282665
         },
         {
          "cpu_percent": 98.4,
          "cpu_time": 32.6,
          "name": "STDIn_1",
          "real_mem": 4721545216,
          "time": 1615204274.9665473
         },
         {
          "cpu_percent": 0,
          "cpu_time": 2.98,
          "name": "STDOut_1",
          "real_mem": 208089088,
          "time": 1615204275.0792608
         },
         {
          "cpu_percent": 98.2,
          "cpu_time": 32.72,
          "name": "STDIn_1",
          "real_mem": 4733382656,
          "time": 1615204275.0911689
         },
         {
          "cpu_percent": 0,
          "cpu_time": 3,
          "name": "STDOut_1",
          "real_mem": 208068608,
          "time": 1615204275.2034507
         },
         {
          "cpu_percent": 98.3,
          "cpu_time": 32.82,
          "name": "STDIn_1",
          "real_mem": 4746338304,
          "time": 1615204275.2150083
         },
         {
          "cpu_percent": 0,
          "cpu_time": 3.01,
          "name": "STDOut_1",
          "real_mem": 207618048,
          "time": 1615204275.326855
         },
         {
          "cpu_percent": 98.6,
          "cpu_time": 32.92,
          "name": "STDIn_1",
          "real_mem": 4765052928,
          "time": 1615204275.338455
         },
         {
          "cpu_percent": 0,
          "cpu_time": 3.01,
          "name": "STDOut_1",
          "real_mem": 207593472,
          "time": 1615204276.0687144
         },
         {
          "cpu_percent": 98.2,
          "cpu_time": 33.52,
          "name": "STDIn_1",
          "real_mem": 4767490048,
          "time": 1615204276.080356
         }
        ],
        "logs": [
         {
          "asctime": "2021-03-08 11:50:33,523",
          "exc_info": null,
          "extra": {},
          "filename": "pipeline.py",
          "funcName": "_log_manager",
          "levelname": "INFO",
          "lineno": 413,
          "message": "writing logs to: /tmp/tmpdpr6c32k/adapter_series_kafka_transport",
          "name": "razor.flow.pipeline:adapter_series_kafka_transport",
          "pathname": "/usr/local/lib/python3.7/dist-packages/razor/flow/pipeline.py",
          "process": 3193,
          "processName": "MainProcess",
          "thread": 140612474058560,
          "threadName": "MainThread"
         }
        ],
        "meta": {
         "block_status": {
          "STDIn_1": "RUNNING",
          "STDOut_1": "RUNNING"
         },
         "blocks": [
          {
           "class_name": "STDIn",
           "fullname": ".STDIn",
           "id": "439f2453-53fa-461d-b2a6-6c2863f64af0",
           "inputs": [
            {
             "dataType": "string",
             "default": "",
             "flow": "atomic",
             "help": null,
             "isdict": false,
             "islist": false,
             "label": "filename",
             "meta": {},
             "name": "filename",
             "series": false,
             "type": "str",
             "type_check": true
            },
            {
             "dataType": "integer",
             "default": 0,
             "flow": "atomic",
             "help": null,
             "isdict": false,
             "islist": false,
             "label": "records",
             "meta": {},
             "name": "records",
             "series": false,
             "type": "int",
             "type_check": true
            }
           ],
           "outputs": [
            {
             "flow": "series",
             "help": null,
             "label": "out_ds",
             "meta": {},
             "name": "out_ds",
             "series": true,
             "type": "Any",
             "type_check": true
            }
           ],
           "overwritten": false,
           "published": false,
           "var_names": [
            "STDIn"
           ]
          },
          {
           "class_name": "STDOut",
           "fullname": ".STDOut",
           "id": "0d0f2475-a2e7-4d4f-876f-6627ed14ccea",
           "inputs": [
            {
             "dataType": null,
             "default": null,
             "flow": "series",
             "help": null,
             "isdict": false,
             "islist": false,
             "label": "in_ds",
             "meta": {},
             "name": "in_ds",
             "series": true,
             "type": "Any",
             "type_check": true
            },
            {
             "dataType": "string",
             "default": "",
             "flow": "atomic",
             "help": null,
             "isdict": false,
             "islist": false,
             "label": "out_filename",
             "meta": {},
             "name": "out_filename",
             "series": false,
             "type": "str",
             "type_check": true
            }
           ],
           "outputs": [],
           "overwritten": false,
           "published": false,
           "var_names": [
            "STDOut"
           ]
          }
         ],
         "connections": [
          {
           "id": "2992dcad-438d-4189-937a-5701cf2314e7",
           "source": {
            "adapter": true,
            "instance_id": "20136e56-8a9c-47f1-857c-f2f846e77686",
            "name": "out_ds"
           },
           "target": {
            "adapter": false,
            "instance_id": "bbcd93cf-1a86-4edc-87a5-166a8448a3a5",
            "name": "in_ds"
           }
          }
         ],
         "end": null,
         "id": "4345373c-6672-4e44-a744-8de53779b53c",
         "instances": [
          {
           "block_class": "0d0f2475-a2e7-4d4f-876f-6627ed14ccea",
           "id": "bbcd93cf-1a86-4edc-87a5-166a8448a3a5",
           "name": "STDOut_1",
           "var_names": [
            "std_out"
           ]
          },
          {
           "block_class": "439f2453-53fa-461d-b2a6-6c2863f64af0",
           "id": "20136e56-8a9c-47f1-857c-f2f846e77686",
           "name": "STDIn_1",
           "var_names": [
            "std_in"
           ]
          }
         ],
         "log_level": 20,
         "name": "adapter_series_kafka_transport",
         "start": 1615204233.8107562,
         "status": "RUNNING",
         "system_logs": true,
         "var_names": []
        },
        "metrics": {},
        "runtime": {
         "STDIn_1": {
          "end": null,
          "load": 1615204234.3447545,
          "start": 1615204234.5671096
         },
         "STDOut_1": {
          "end": null,
          "load": 1615204234.3334012,
          "start": 1615204234.5648441
         }
        }
       },
       "store_in_notebook": true
      }
     },
     "output_type": "display_data"
    }
   ],
   "source": [
    "pipeline.execute()"
   ]
  },
  {
   "cell_type": "code",
   "execution_count": null,
   "metadata": {},
   "outputs": [],
   "source": []
  },
  {
   "cell_type": "code",
   "execution_count": null,
   "metadata": {},
   "outputs": [],
   "source": []
  }
 ],
 "metadata": {
  "kernelspec": {
   "display_name": "Python 3",
   "language": "python",
   "name": "python3"
  },
  "language_info": {
   "codemirror_mode": {
    "name": "ipython",
    "version": 3
   },
   "file_extension": ".py",
   "mimetype": "text/x-python",
   "name": "python",
   "nbconvert_exporter": "python",
   "pygments_lexer": "ipython3",
   "version": "3.7.10"
  }
 },
 "nbformat": 4,
 "nbformat_minor": 4
}
