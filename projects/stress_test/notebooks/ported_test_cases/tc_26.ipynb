{
 "cells": [
  {
   "cell_type": "code",
   "execution_count": 1,
   "metadata": {},
   "outputs": [],
   "source": [
    "import razor.flow as rf\n",
    "from razor.api import datasources, engines, project_space_path\n",
    "import logging\n",
    "import time\n",
    "import typing as typ\n",
    "import numpy as np\n",
    "import pandas as pd\n",
    "\n",
    "logger = logging.getLogger()"
   ]
  },
  {
   "cell_type": "code",
   "execution_count": 2,
   "metadata": {},
   "outputs": [],
   "source": [
    "config = {'cores': 1, 'ram': 4096}"
   ]
  },
  {
   "cell_type": "code",
   "execution_count": 3,
   "metadata": {},
   "outputs": [],
   "source": [
    "@rf.block(executor=rf.ContainerExecutor(cores=config['cores'], memory=config['ram']))\n",
    "class CreateData:\n",
    "    filename: str\n",
    "    size: int\n",
    "    out_filename: rf.Output[str] = rf.Output(transport=rf.KafkaTransport)\n",
    "    \n",
    "    def run(self):\n",
    "        arr = list(np.random.randint(1, 11, size=self.size))\n",
    "        text_str = ', '.join([str(i) for i in arr])\n",
    "        \n",
    "        logger.info(sum(arr))\n",
    "        \n",
    "        with open(project_space_path(self.filename), 'w') as f:\n",
    "            f.write(text_str)\n",
    "        self.out_filename.put(self.filename)\n",
    "        \n",
    "        \n",
    "@rf.block(executor=rf.ContainerExecutor(cores=config['cores'], memory=config['ram']))\n",
    "class STDIn:\n",
    "    s_file: str\n",
    "    l_file: str\n",
    "    s_val: rf.SeriesOutput[int] = rf.Output(transport=rf.KafkaTransport)\n",
    "    l_val: rf.SeriesOutput[int] = rf.Output(transport=rf.KafkaTransport)\n",
    "    \n",
    "    def run(self):\n",
    "        sftp_client = datasources('test_source').client()\n",
    "        with sftp_client.open(self.s_file, 'r') as f:\n",
    "            l = f.read().decode('utf-8')\n",
    "            \n",
    "        with sftp_client.open(self.l_file, 'r') as f:\n",
    "            m = f.read().decode('utf-8')\n",
    "            \n",
    "        for i in l.split(', '):\n",
    "            self.s_val.put(int(i))\n",
    "            \n",
    "        for i in m.split(', '):\n",
    "            self.l_val.put(int(i))\n",
    "\n",
    "        \n",
    "@rf.block(executor=rf.ContainerExecutor(cores=config['cores'], memory=config['ram']))\n",
    "class ArrayMul:\n",
    "    array: rf.SeriesInput[int]\n",
    "    array_out: rf.SeriesOutput[int] = rf.Output(transport=rf.KafkaTransport)\n",
    "    \n",
    "    def run(self):\n",
    "        l = 2 * np.array([i for i in self.array])\n",
    "        for i in l:\n",
    "            self.array_out.put(int(i))\n",
    "        \n",
    "        \n",
    "@rf.block(executor=rf.ContainerExecutor(cores=config['cores'], memory=config['ram']))\n",
    "class ArrayAdd:\n",
    "    s_array: rf.SeriesInput[int]\n",
    "    l_array: rf.SeriesInput[int]\n",
    "    s_array_out: rf.SeriesOutput[int] = rf.Output(transport=rf.KafkaTransport)\n",
    "    l_array_out: rf.SeriesOutput[int] = rf.Output(transport=rf.KafkaTransport)\n",
    "    \n",
    "    def run(self):\n",
    "        for i in self.s_array:\n",
    "            self.s_array_out.put(int(i+1))\n",
    "        for j in self.l_array:\n",
    "            self.l_array_out.put(int(j+2))\n",
    "        \n",
    "        \n",
    "@rf.block(executor=rf.ContainerExecutor(cores=config['cores'], memory=config['ram']))\n",
    "class ArrayDeOp:\n",
    "    array: rf.SeriesInput[int]\n",
    "    k: int\n",
    "    out_array: rf.Output[np.ndarray] = rf.Output(transport=rf.KafkaTransport)\n",
    "    \n",
    "    def run(self):\n",
    "        l = np.array([i for i in self.array])\n",
    "        self.out_array.put((l-self.k)//2)\n",
    "        \n",
    "\n",
    "@rf.block(executor=rf.ContainerExecutor(cores=config['cores'], memory=config['ram']))\n",
    "class STDOut:\n",
    "    in_array: np.ndarray\n",
    "    out_file: str\n",
    "    \n",
    "    def run(self):\n",
    "        logger.info(sum(self.in_array))\n",
    "        text_str = ', '.join([str(i) for i in self.in_array])\n",
    "        with open(project_space_path(self.out_file), 'w') as f:\n",
    "            f.write(text_str)\n",
    "            "
   ]
  },
  {
   "cell_type": "code",
   "execution_count": 4,
   "metadata": {},
   "outputs": [
    {
     "data": {
      "application/vnd.razorthink.interactive+pipeline+view+json": {
       "blocks": [
        {
         "class_name": "ArrayMul",
         "id": "8289fd44-dd25-4aef-8b6d-99e2fc3a1e99",
         "inputs": [
          {
           "default": null,
           "flow": "series",
           "help": null,
           "label": "array",
           "name": "array",
           "series": true,
           "type": "int",
           "type_check": true
          }
         ],
         "outputs": [
          {
           "flow": "series",
           "help": null,
           "label": "array_out",
           "name": "array_out",
           "series": true,
           "type": "int",
           "type_check": true
          }
         ],
         "overwritten": false,
         "var_names": [
          "ArrayMul"
         ]
        },
        {
         "class_name": "STDIn",
         "id": "dc7a8a14-d1cc-4c9e-ab7c-50b80981ed8e",
         "inputs": [
          {
           "default": null,
           "flow": "atomic",
           "help": null,
           "label": "s_file",
           "name": "s_file",
           "series": false,
           "type": "str",
           "type_check": true
          },
          {
           "default": null,
           "flow": "atomic",
           "help": null,
           "label": "l_file",
           "name": "l_file",
           "series": false,
           "type": "str",
           "type_check": true
          }
         ],
         "outputs": [
          {
           "flow": "series",
           "help": null,
           "label": "s_val",
           "name": "s_val",
           "series": true,
           "type": "int",
           "type_check": true
          },
          {
           "flow": "series",
           "help": null,
           "label": "l_val",
           "name": "l_val",
           "series": true,
           "type": "int",
           "type_check": true
          }
         ],
         "overwritten": false,
         "var_names": [
          "STDIn"
         ]
        },
        {
         "class_name": "CreateData",
         "id": "ea97e38f-9535-4cc1-ad72-1f35aab25a77",
         "inputs": [
          {
           "default": null,
           "flow": "atomic",
           "help": null,
           "label": "filename",
           "name": "filename",
           "series": false,
           "type": "str",
           "type_check": true
          },
          {
           "default": null,
           "flow": "atomic",
           "help": null,
           "label": "size",
           "name": "size",
           "series": false,
           "type": "int",
           "type_check": true
          }
         ],
         "outputs": [
          {
           "flow": "atomic",
           "help": null,
           "label": "out_filename",
           "name": "out_filename",
           "series": false,
           "type": "str",
           "type_check": true
          }
         ],
         "overwritten": false,
         "var_names": [
          "CreateData"
         ]
        },
        {
         "class_name": "STDOut",
         "id": "058cd3ad-764a-4d86-a3ca-c73e749d1782",
         "inputs": [
          {
           "default": null,
           "flow": "atomic",
           "help": null,
           "label": "in_array",
           "name": "in_array",
           "series": false,
           "type": "ndarray",
           "type_check": true
          },
          {
           "default": null,
           "flow": "atomic",
           "help": null,
           "label": "out_file",
           "name": "out_file",
           "series": false,
           "type": "str",
           "type_check": true
          }
         ],
         "outputs": [],
         "overwritten": false,
         "var_names": [
          "STDOut"
         ]
        },
        {
         "class_name": "ArrayDeOp",
         "id": "df4ed21e-3758-459f-8ca6-b2503011947c",
         "inputs": [
          {
           "default": null,
           "flow": "series",
           "help": null,
           "label": "array",
           "name": "array",
           "series": true,
           "type": "int",
           "type_check": true
          },
          {
           "default": null,
           "flow": "atomic",
           "help": null,
           "label": "k",
           "name": "k",
           "series": false,
           "type": "int",
           "type_check": true
          }
         ],
         "outputs": [
          {
           "flow": "atomic",
           "help": null,
           "label": "out_array",
           "name": "out_array",
           "series": false,
           "type": "ndarray",
           "type_check": true
          }
         ],
         "overwritten": false,
         "var_names": [
          "ArrayDeOp"
         ]
        },
        {
         "class_name": "ArrayAdd",
         "id": "ea9fd818-8a12-443f-b183-5e216aef6c25",
         "inputs": [
          {
           "default": null,
           "flow": "series",
           "help": null,
           "label": "s_array",
           "name": "s_array",
           "series": true,
           "type": "int",
           "type_check": true
          },
          {
           "default": null,
           "flow": "series",
           "help": null,
           "label": "l_array",
           "name": "l_array",
           "series": true,
           "type": "int",
           "type_check": true
          }
         ],
         "outputs": [
          {
           "flow": "series",
           "help": null,
           "label": "s_array_out",
           "name": "s_array_out",
           "series": true,
           "type": "int",
           "type_check": true
          },
          {
           "flow": "series",
           "help": null,
           "label": "l_array_out",
           "name": "l_array_out",
           "series": true,
           "type": "int",
           "type_check": true
          }
         ],
         "overwritten": false,
         "var_names": [
          "ArrayAdd"
         ]
        }
       ],
       "connections": [
        {
         "id": "6c491a36-2f6c-43d4-af61-98bb8f6e8ff3",
         "source": {
          "adapter": false,
          "instance_id": "ee199340-0187-41e5-88dd-5250634a60d3",
          "name": "l_array_out"
         },
         "target": {
          "adapter": false,
          "instance_id": "502dc23f-0acb-4e73-8237-d82e479313f0",
          "name": "array"
         }
        },
        {
         "id": "add27130-7871-4704-91e4-bad9a917ac41",
         "source": {
          "adapter": false,
          "instance_id": "37fed21b-041e-43c0-9a09-aeacf3cb3816",
          "name": "array_out"
         },
         "target": {
          "adapter": false,
          "instance_id": "ee199340-0187-41e5-88dd-5250634a60d3",
          "name": "s_array"
         }
        },
        {
         "id": "a190fb88-00a3-4c00-9b30-3bce04df591b",
         "source": {
          "adapter": false,
          "instance_id": "10f510d2-d9b0-4a96-b38a-10e2c820fb19",
          "name": "out_filename"
         },
         "target": {
          "adapter": false,
          "instance_id": "daaf8196-5a2e-48ee-bfad-49085b889c02",
          "name": "l_file"
         }
        },
        {
         "id": "268d0c59-1e9c-4d84-889b-c45dfd75baa4",
         "source": {
          "adapter": false,
          "instance_id": "daaf8196-5a2e-48ee-bfad-49085b889c02",
          "name": "l_val"
         },
         "target": {
          "adapter": false,
          "instance_id": "278665a1-5229-4881-a5f3-ad7e8ea6a900",
          "name": "array"
         }
        },
        {
         "id": "86abaa6f-5007-4a08-b52f-e59775d138dd",
         "source": {
          "adapter": false,
          "instance_id": "278665a1-5229-4881-a5f3-ad7e8ea6a900",
          "name": "array_out"
         },
         "target": {
          "adapter": false,
          "instance_id": "ee199340-0187-41e5-88dd-5250634a60d3",
          "name": "l_array"
         }
        },
        {
         "id": "56ec4315-ff45-4536-ba9c-83e9f96cc4ce",
         "source": {
          "adapter": false,
          "instance_id": "daaf8196-5a2e-48ee-bfad-49085b889c02",
          "name": "s_val"
         },
         "target": {
          "adapter": false,
          "instance_id": "37fed21b-041e-43c0-9a09-aeacf3cb3816",
          "name": "array"
         }
        },
        {
         "id": "a1963637-c0de-43fb-a541-b9a6538b3325",
         "source": {
          "adapter": false,
          "instance_id": "b5166e11-7344-4eb6-87be-5fc5cc6b0550",
          "name": "out_filename"
         },
         "target": {
          "adapter": false,
          "instance_id": "daaf8196-5a2e-48ee-bfad-49085b889c02",
          "name": "s_file"
         }
        },
        {
         "id": "90232d08-496d-4975-885b-e75c53560ae7",
         "source": {
          "adapter": false,
          "instance_id": "ee199340-0187-41e5-88dd-5250634a60d3",
          "name": "s_array_out"
         },
         "target": {
          "adapter": false,
          "instance_id": "64068032-b260-4936-af9d-b35af7614c0b",
          "name": "array"
         }
        },
        {
         "id": "7a6f7a4e-4245-44e6-8881-e885dc40d5a9",
         "source": {
          "adapter": false,
          "instance_id": "502dc23f-0acb-4e73-8237-d82e479313f0",
          "name": "out_array"
         },
         "target": {
          "adapter": false,
          "instance_id": "8b79cc18-3c27-40ec-8628-cb79ffd4b19e",
          "name": "in_array"
         }
        },
        {
         "id": "1cc12ac2-ae62-49a2-a578-8d3724ac3969",
         "source": {
          "adapter": false,
          "instance_id": "64068032-b260-4936-af9d-b35af7614c0b",
          "name": "out_array"
         },
         "target": {
          "adapter": false,
          "instance_id": "f5fad8bb-b790-4ec4-a74a-659600fccd47",
          "name": "in_array"
         }
        }
       ],
       "id": "666530da-694c-465d-bd89-fbf41773bfea",
       "instances": [
        {
         "block_class": "058cd3ad-764a-4d86-a3ca-c73e749d1782",
         "id": "f5fad8bb-b790-4ec4-a74a-659600fccd47",
         "name": "STDOut_1",
         "var_names": [
          "s_stdout"
         ]
        },
        {
         "block_class": "df4ed21e-3758-459f-8ca6-b2503011947c",
         "id": "64068032-b260-4936-af9d-b35af7614c0b",
         "name": "ArrayDeOp_1",
         "var_names": [
          "s_arr_deop"
         ]
        },
        {
         "block_class": "ea9fd818-8a12-443f-b183-5e216aef6c25",
         "id": "ee199340-0187-41e5-88dd-5250634a60d3",
         "name": "ArrayAdd_1",
         "var_names": [
          "arr_add"
         ]
        },
        {
         "block_class": "8289fd44-dd25-4aef-8b6d-99e2fc3a1e99",
         "id": "37fed21b-041e-43c0-9a09-aeacf3cb3816",
         "name": "ArrayMul_1",
         "var_names": [
          "s_arr_mul"
         ]
        },
        {
         "block_class": "dc7a8a14-d1cc-4c9e-ab7c-50b80981ed8e",
         "id": "daaf8196-5a2e-48ee-bfad-49085b889c02",
         "name": "STDIn_1",
         "var_names": [
          "std_in"
         ]
        },
        {
         "block_class": "ea97e38f-9535-4cc1-ad72-1f35aab25a77",
         "id": "b5166e11-7344-4eb6-87be-5fc5cc6b0550",
         "name": "CreateData_1",
         "var_names": [
          "s_create_data"
         ]
        },
        {
         "block_class": "ea97e38f-9535-4cc1-ad72-1f35aab25a77",
         "id": "10f510d2-d9b0-4a96-b38a-10e2c820fb19",
         "name": "CreateData_2",
         "var_names": [
          "l_create_data"
         ]
        },
        {
         "block_class": "8289fd44-dd25-4aef-8b6d-99e2fc3a1e99",
         "id": "278665a1-5229-4881-a5f3-ad7e8ea6a900",
         "name": "ArrayMul_2",
         "var_names": [
          "l_arr_mul"
         ]
        },
        {
         "block_class": "058cd3ad-764a-4d86-a3ca-c73e749d1782",
         "id": "8b79cc18-3c27-40ec-8628-cb79ffd4b19e",
         "name": "STDOut_2",
         "var_names": [
          "l_stdout"
         ]
        },
        {
         "block_class": "df4ed21e-3758-459f-8ca6-b2503011947c",
         "id": "502dc23f-0acb-4e73-8237-d82e479313f0",
         "name": "ArrayDeOp_2",
         "var_names": [
          "l_arr_deop"
         ]
        }
       ],
       "name": "mix_series_atomic",
       "var_names": []
      },
      "image/svg+xml": [
       "<?xml version=\"1.0\" encoding=\"UTF-8\" standalone=\"no\"?>\n",
       "<!DOCTYPE svg PUBLIC \"-//W3C//DTD SVG 1.1//EN\"\n",
       " \"http://www.w3.org/Graphics/SVG/1.1/DTD/svg11.dtd\">\n",
       "<!-- Generated by graphviz version 2.43.0 (0)\n",
       " -->\n",
       "<!-- Title: %3 Pages: 1 -->\n",
       "<svg width=\"390pt\" height=\"459pt\"\n",
       " viewBox=\"0.00 0.00 390.48 459.00\" xmlns=\"http://www.w3.org/2000/svg\" xmlns:xlink=\"http://www.w3.org/1999/xlink\">\n",
       "<g id=\"graph0\" class=\"graph\" transform=\"scale(1 1) rotate(0) translate(4 455)\">\n",
       "<title>%3</title>\n",
       "<polygon fill=\"white\" stroke=\"transparent\" points=\"-4,4 -4,-455 386.48,-455 386.48,4 -4,4\"/>\n",
       "<!-- STDOut(&#39;STDOut_1&#39;) -->\n",
       "<g id=\"node1\" class=\"node\">\n",
       "<title>STDOut(&#39;STDOut_1&#39;)</title>\n",
       "<ellipse fill=\"none\" stroke=\"black\" cx=\"91.48\" cy=\"-18\" rx=\"67.89\" ry=\"18\"/>\n",
       "<text text-anchor=\"middle\" x=\"91.48\" y=\"-15.5\" font-family=\"Helvetica,sans-Serif\" font-size=\"10.00\">STDOut(&#39;STDOut_1&#39;)</text>\n",
       "</g>\n",
       "<!-- ArrayDeOp(&#39;ArrayDeOp_1&#39;) -->\n",
       "<g id=\"node2\" class=\"node\">\n",
       "<title>ArrayDeOp(&#39;ArrayDeOp_1&#39;)</title>\n",
       "<ellipse fill=\"none\" stroke=\"black\" cx=\"91.48\" cy=\"-101\" rx=\"87.24\" ry=\"18\"/>\n",
       "<text text-anchor=\"middle\" x=\"91.48\" y=\"-98.5\" font-family=\"Helvetica,sans-Serif\" font-size=\"10.00\">ArrayDeOp(&#39;ArrayDeOp_1&#39;)</text>\n",
       "</g>\n",
       "<!-- ArrayDeOp(&#39;ArrayDeOp_1&#39;)&#45;&gt;STDOut(&#39;STDOut_1&#39;) -->\n",
       "<g id=\"edge1\" class=\"edge\">\n",
       "<title>ArrayDeOp(&#39;ArrayDeOp_1&#39;)&#45;&gt;STDOut(&#39;STDOut_1&#39;)</title>\n",
       "<path fill=\"none\" stroke=\"black\" d=\"M91.48,-82.82C91.48,-72.19 91.48,-58.31 91.48,-46.2\"/>\n",
       "<polygon fill=\"black\" stroke=\"black\" points=\"94.98,-46.15 91.48,-36.15 87.98,-46.15 94.98,-46.15\"/>\n",
       "<text text-anchor=\"middle\" x=\"140.98\" y=\"-57\" font-family=\"Helvetica,sans-Serif\" font-size=\"10.00\">out_array&#45;&gt;in_array</text>\n",
       "</g>\n",
       "<!-- ArrayAdd(&#39;ArrayAdd_1&#39;) -->\n",
       "<g id=\"node3\" class=\"node\">\n",
       "<title>ArrayAdd(&#39;ArrayAdd_1&#39;)</title>\n",
       "<ellipse fill=\"none\" stroke=\"black\" cx=\"187.48\" cy=\"-184\" rx=\"77.23\" ry=\"18\"/>\n",
       "<text text-anchor=\"middle\" x=\"187.48\" y=\"-181.5\" font-family=\"Helvetica,sans-Serif\" font-size=\"10.00\">ArrayAdd(&#39;ArrayAdd_1&#39;)</text>\n",
       "</g>\n",
       "<!-- ArrayAdd(&#39;ArrayAdd_1&#39;)&#45;&gt;ArrayDeOp(&#39;ArrayDeOp_1&#39;) -->\n",
       "<g id=\"edge2\" class=\"edge\">\n",
       "<title>ArrayAdd(&#39;ArrayAdd_1&#39;)&#45;&gt;ArrayDeOp(&#39;ArrayDeOp_1&#39;)</title>\n",
       "<path fill=\"none\" stroke=\"black\" d=\"M167.59,-166.22C153.56,-154.38 134.58,-138.37 119.08,-125.29\"/>\n",
       "<polygon fill=\"black\" stroke=\"black\" points=\"121.24,-122.54 111.34,-118.76 116.73,-127.89 121.24,-122.54\"/>\n",
       "<text text-anchor=\"middle\" x=\"192.98\" y=\"-140\" font-family=\"Helvetica,sans-Serif\" font-size=\"10.00\">s_array_out&#45;&gt;array</text>\n",
       "</g>\n",
       "<!-- ArrayDeOp(&#39;ArrayDeOp_2&#39;) -->\n",
       "<g id=\"node10\" class=\"node\">\n",
       "<title>ArrayDeOp(&#39;ArrayDeOp_2&#39;)</title>\n",
       "<ellipse fill=\"none\" stroke=\"black\" cx=\"283.48\" cy=\"-101\" rx=\"87.24\" ry=\"18\"/>\n",
       "<text text-anchor=\"middle\" x=\"283.48\" y=\"-98.5\" font-family=\"Helvetica,sans-Serif\" font-size=\"10.00\">ArrayDeOp(&#39;ArrayDeOp_2&#39;)</text>\n",
       "</g>\n",
       "<!-- ArrayAdd(&#39;ArrayAdd_1&#39;)&#45;&gt;ArrayDeOp(&#39;ArrayDeOp_2&#39;) -->\n",
       "<g id=\"edge3\" class=\"edge\">\n",
       "<title>ArrayAdd(&#39;ArrayAdd_1&#39;)&#45;&gt;ArrayDeOp(&#39;ArrayDeOp_2&#39;)</title>\n",
       "<path fill=\"none\" stroke=\"black\" d=\"M215.66,-167.15C224.6,-161.58 234.29,-154.97 242.48,-148 249.74,-141.82 256.92,-134.37 263.18,-127.28\"/>\n",
       "<polygon fill=\"black\" stroke=\"black\" points=\"266.24,-129.1 270.08,-119.22 260.92,-124.55 266.24,-129.1\"/>\n",
       "<text text-anchor=\"middle\" x=\"299.98\" y=\"-140\" font-family=\"Helvetica,sans-Serif\" font-size=\"10.00\">l_array_out&#45;&gt;array</text>\n",
       "</g>\n",
       "<!-- ArrayMul(&#39;ArrayMul_1&#39;) -->\n",
       "<g id=\"node4\" class=\"node\">\n",
       "<title>ArrayMul(&#39;ArrayMul_1&#39;)</title>\n",
       "<ellipse fill=\"none\" stroke=\"black\" cx=\"102.48\" cy=\"-267\" rx=\"76.55\" ry=\"18\"/>\n",
       "<text text-anchor=\"middle\" x=\"102.48\" y=\"-264.5\" font-family=\"Helvetica,sans-Serif\" font-size=\"10.00\">ArrayMul(&#39;ArrayMul_1&#39;)</text>\n",
       "</g>\n",
       "<!-- ArrayMul(&#39;ArrayMul_1&#39;)&#45;&gt;ArrayAdd(&#39;ArrayAdd_1&#39;) -->\n",
       "<g id=\"edge4\" class=\"edge\">\n",
       "<title>ArrayMul(&#39;ArrayMul_1&#39;)&#45;&gt;ArrayAdd(&#39;ArrayAdd_1&#39;)</title>\n",
       "<path fill=\"none\" stroke=\"black\" d=\"M115.81,-249.12C123.26,-240.1 132.95,-229.02 142.48,-220 146.9,-215.82 151.79,-211.62 156.67,-207.66\"/>\n",
       "<polygon fill=\"black\" stroke=\"black\" points=\"159.11,-210.2 164.8,-201.27 154.78,-204.7 159.11,-210.2\"/>\n",
       "<text text-anchor=\"middle\" x=\"189.98\" y=\"-223\" font-family=\"Helvetica,sans-Serif\" font-size=\"10.00\">array_out&#45;&gt;s_array</text>\n",
       "</g>\n",
       "<!-- STDIn(&#39;STDIn_1&#39;) -->\n",
       "<g id=\"node5\" class=\"node\">\n",
       "<title>STDIn(&#39;STDIn_1&#39;)</title>\n",
       "<ellipse fill=\"none\" stroke=\"black\" cx=\"187.48\" cy=\"-350\" rx=\"57.88\" ry=\"18\"/>\n",
       "<text text-anchor=\"middle\" x=\"187.48\" y=\"-347.5\" font-family=\"Helvetica,sans-Serif\" font-size=\"10.00\">STDIn(&#39;STDIn_1&#39;)</text>\n",
       "</g>\n",
       "<!-- STDIn(&#39;STDIn_1&#39;)&#45;&gt;ArrayMul(&#39;ArrayMul_1&#39;) -->\n",
       "<g id=\"edge5\" class=\"edge\">\n",
       "<title>STDIn(&#39;STDIn_1&#39;)&#45;&gt;ArrayMul(&#39;ArrayMul_1&#39;)</title>\n",
       "<path fill=\"none\" stroke=\"black\" d=\"M170.28,-332.61C157.91,-320.83 141.06,-304.77 127.26,-291.61\"/>\n",
       "<polygon fill=\"black\" stroke=\"black\" points=\"129.6,-289.01 119.94,-284.65 124.77,-294.08 129.6,-289.01\"/>\n",
       "<text text-anchor=\"middle\" x=\"182.48\" y=\"-306\" font-family=\"Helvetica,sans-Serif\" font-size=\"10.00\">s_val&#45;&gt;array</text>\n",
       "</g>\n",
       "<!-- ArrayMul(&#39;ArrayMul_2&#39;) -->\n",
       "<g id=\"node8\" class=\"node\">\n",
       "<title>ArrayMul(&#39;ArrayMul_2&#39;)</title>\n",
       "<ellipse fill=\"none\" stroke=\"black\" cx=\"273.48\" cy=\"-267\" rx=\"76.55\" ry=\"18\"/>\n",
       "<text text-anchor=\"middle\" x=\"273.48\" y=\"-264.5\" font-family=\"Helvetica,sans-Serif\" font-size=\"10.00\">ArrayMul(&#39;ArrayMul_2&#39;)</text>\n",
       "</g>\n",
       "<!-- STDIn(&#39;STDIn_1&#39;)&#45;&gt;ArrayMul(&#39;ArrayMul_2&#39;) -->\n",
       "<g id=\"edge6\" class=\"edge\">\n",
       "<title>STDIn(&#39;STDIn_1&#39;)&#45;&gt;ArrayMul(&#39;ArrayMul_2&#39;)</title>\n",
       "<path fill=\"none\" stroke=\"black\" d=\"M204.88,-332.61C217.39,-320.83 234.44,-304.77 248.41,-291.61\"/>\n",
       "<polygon fill=\"black\" stroke=\"black\" points=\"250.92,-294.05 255.8,-284.65 246.12,-288.95 250.92,-294.05\"/>\n",
       "<text text-anchor=\"middle\" x=\"265.98\" y=\"-306\" font-family=\"Helvetica,sans-Serif\" font-size=\"10.00\">l_val&#45;&gt;array</text>\n",
       "</g>\n",
       "<!-- CreateData(&#39;CreateData_1&#39;) -->\n",
       "<g id=\"node6\" class=\"node\">\n",
       "<title>CreateData(&#39;CreateData_1&#39;)</title>\n",
       "<ellipse fill=\"none\" stroke=\"black\" cx=\"89.48\" cy=\"-433\" rx=\"89.45\" ry=\"18\"/>\n",
       "<text text-anchor=\"middle\" x=\"89.48\" y=\"-430.5\" font-family=\"Helvetica,sans-Serif\" font-size=\"10.00\">CreateData(&#39;CreateData_1&#39;)</text>\n",
       "</g>\n",
       "<!-- CreateData(&#39;CreateData_1&#39;)&#45;&gt;STDIn(&#39;STDIn_1&#39;) -->\n",
       "<g id=\"edge7\" class=\"edge\">\n",
       "<title>CreateData(&#39;CreateData_1&#39;)&#45;&gt;STDIn(&#39;STDIn_1&#39;)</title>\n",
       "<path fill=\"none\" stroke=\"black\" d=\"M109.78,-415.22C124.3,-403.22 144,-386.94 159.93,-373.77\"/>\n",
       "<polygon fill=\"black\" stroke=\"black\" points=\"162.39,-376.28 167.87,-367.21 157.93,-370.88 162.39,-376.28\"/>\n",
       "<text text-anchor=\"middle\" x=\"195.48\" y=\"-389\" font-family=\"Helvetica,sans-Serif\" font-size=\"10.00\">out_filename&#45;&gt;s_file</text>\n",
       "</g>\n",
       "<!-- CreateData(&#39;CreateData_2&#39;) -->\n",
       "<g id=\"node7\" class=\"node\">\n",
       "<title>CreateData(&#39;CreateData_2&#39;)</title>\n",
       "<ellipse fill=\"none\" stroke=\"black\" cx=\"286.48\" cy=\"-433\" rx=\"89.45\" ry=\"18\"/>\n",
       "<text text-anchor=\"middle\" x=\"286.48\" y=\"-430.5\" font-family=\"Helvetica,sans-Serif\" font-size=\"10.00\">CreateData(&#39;CreateData_2&#39;)</text>\n",
       "</g>\n",
       "<!-- CreateData(&#39;CreateData_2&#39;)&#45;&gt;STDIn(&#39;STDIn_1&#39;) -->\n",
       "<g id=\"edge8\" class=\"edge\">\n",
       "<title>CreateData(&#39;CreateData_2&#39;)&#45;&gt;STDIn(&#39;STDIn_1&#39;)</title>\n",
       "<path fill=\"none\" stroke=\"black\" d=\"M275.57,-414.88C269.07,-405.57 260.19,-394.3 250.48,-386 243.63,-380.15 235.66,-374.83 227.74,-370.2\"/>\n",
       "<polygon fill=\"black\" stroke=\"black\" points=\"229.31,-367.07 218.87,-365.27 225.91,-373.19 229.31,-367.07\"/>\n",
       "<text text-anchor=\"middle\" x=\"310.48\" y=\"-389\" font-family=\"Helvetica,sans-Serif\" font-size=\"10.00\">out_filename&#45;&gt;l_file</text>\n",
       "</g>\n",
       "<!-- ArrayMul(&#39;ArrayMul_2&#39;)&#45;&gt;ArrayAdd(&#39;ArrayAdd_1&#39;) -->\n",
       "<g id=\"edge9\" class=\"edge\">\n",
       "<title>ArrayMul(&#39;ArrayMul_2&#39;)&#45;&gt;ArrayAdd(&#39;ArrayAdd_1&#39;)</title>\n",
       "<path fill=\"none\" stroke=\"black\" d=\"M261.91,-248.82C255.33,-239.71 246.6,-228.65 237.48,-220 232.73,-215.5 227.37,-211.14 221.97,-207.11\"/>\n",
       "<polygon fill=\"black\" stroke=\"black\" points=\"223.69,-204.04 213.52,-201.08 219.62,-209.74 223.69,-204.04\"/>\n",
       "<text text-anchor=\"middle\" x=\"292.98\" y=\"-223\" font-family=\"Helvetica,sans-Serif\" font-size=\"10.00\">array_out&#45;&gt;l_array</text>\n",
       "</g>\n",
       "<!-- STDOut(&#39;STDOut_2&#39;) -->\n",
       "<g id=\"node9\" class=\"node\">\n",
       "<title>STDOut(&#39;STDOut_2&#39;)</title>\n",
       "<ellipse fill=\"none\" stroke=\"black\" cx=\"283.48\" cy=\"-18\" rx=\"67.89\" ry=\"18\"/>\n",
       "<text text-anchor=\"middle\" x=\"283.48\" y=\"-15.5\" font-family=\"Helvetica,sans-Serif\" font-size=\"10.00\">STDOut(&#39;STDOut_2&#39;)</text>\n",
       "</g>\n",
       "<!-- ArrayDeOp(&#39;ArrayDeOp_2&#39;)&#45;&gt;STDOut(&#39;STDOut_2&#39;) -->\n",
       "<g id=\"edge10\" class=\"edge\">\n",
       "<title>ArrayDeOp(&#39;ArrayDeOp_2&#39;)&#45;&gt;STDOut(&#39;STDOut_2&#39;)</title>\n",
       "<path fill=\"none\" stroke=\"black\" d=\"M283.48,-82.82C283.48,-72.19 283.48,-58.31 283.48,-46.2\"/>\n",
       "<polygon fill=\"black\" stroke=\"black\" points=\"286.98,-46.15 283.48,-36.15 279.98,-46.15 286.98,-46.15\"/>\n",
       "<text text-anchor=\"middle\" x=\"332.98\" y=\"-57\" font-family=\"Helvetica,sans-Serif\" font-size=\"10.00\">out_array&#45;&gt;in_array</text>\n",
       "</g>\n",
       "</g>\n",
       "</svg>\n"
      ],
      "text/plain": [
       "<razor.flow.pipeline.Pipeline at 0x7f9bd1d23510>"
      ]
     },
     "metadata": {},
     "output_type": "display_data"
    }
   ],
   "source": [
    "s_filename = \"/data/sdk_testbench/input_data/tc_26_small.txt\"\n",
    "l_filename = \"/data/sdk_testbench/input_data/tc_26_large.txt\"\n",
    "s_size = 10\n",
    "l_size = 20\n",
    "s_output_filename = \"/data/sdk_testbench/output_data/tc_26_small_out.txt\"\n",
    "l_output_filename = \"/data/sdk_testbench/output_data/tc_26_large_out.txt\"\n",
    "\n",
    "s_create_data = CreateData(filename=s_filename, size=s_size)\n",
    "l_create_data = CreateData(filename=l_filename, size=l_size)\n",
    "s_create_data.out_filename = rf.Output.set(transport=rf.KafkaTransport) \n",
    "l_create_data.out_filename = rf.Output.set(transport=rf.KafkaTransport) \n",
    "\n",
    "std_in = STDIn(s_file=s_create_data.out_filename, l_file=l_create_data.out_filename)\n",
    "std_in.s_val = rf.Output.set(transport=rf.KafkaTransport) \n",
    "std_in.l_val = rf.Output.set(transport=rf.FileTransport)\n",
    "\n",
    "s_arr_mul = ArrayMul(array=std_in.s_val)\n",
    "l_arr_mul = ArrayMul(array=std_in.l_val)\n",
    "s_arr_mul.array_out = rf.Output.set(transport=rf.KafkaTransport)\n",
    "l_arr_mul.array_out = rf.Output.set(transport=rf.FileTransport)\n",
    "\n",
    "arr_add = ArrayAdd(s_array=s_arr_mul.array_out, l_array=l_arr_mul.array_out)\n",
    "arr_add.s_array_out = rf.Output.set(transport=rf.KafkaTransport)\n",
    "arr_add.l_array_out = rf.Output.set(transport=rf.FileTransport)\n",
    "\n",
    "s_arr_deop = ArrayDeOp(array=arr_add.s_array_out, k=1)\n",
    "l_arr_deop = ArrayDeOp(array=arr_add.l_array_out, k=2)\n",
    "s_arr_deop.out_array = rf.Output.set(transport=rf.FileTransport)\n",
    "l_arr_deop.out_array = rf.Output.set(transport=rf.FileTransport)\n",
    "\n",
    "s_stdout = STDOut(in_array=s_arr_deop.out_array, out_file=s_output_filename)\n",
    "l_stdout = STDOut(in_array=l_arr_deop.out_array, out_file=l_output_filename)\n",
    "\n",
    "pipeline = rf.Pipeline(name='mix_series_atomic', targets=[s_stdout, l_stdout])\n",
    "pipeline.show()"
   ]
  },
  {
   "cell_type": "code",
   "execution_count": 5,
   "metadata": {},
   "outputs": [],
   "source": [
    "def create_pipeline():\n",
    "    return pipeline"
   ]
  },
  {
   "cell_type": "code",
   "execution_count": 6,
   "metadata": {},
   "outputs": [],
   "source": []
  }
 ],
 "metadata": {
  "kernelspec": {
   "display_name": "Python 3",
   "language": "python",
   "name": "python3"
  },
  "language_info": {
   "codemirror_mode": {
    "name": "ipython",
    "version": 3
   },
   "file_extension": ".py",
   "mimetype": "text/x-python",
   "name": "python",
   "nbconvert_exporter": "python",
   "pygments_lexer": "ipython3",
   "version": "3.7.10"
  }
 },
 "nbformat": 4,
 "nbformat_minor": 4
}
