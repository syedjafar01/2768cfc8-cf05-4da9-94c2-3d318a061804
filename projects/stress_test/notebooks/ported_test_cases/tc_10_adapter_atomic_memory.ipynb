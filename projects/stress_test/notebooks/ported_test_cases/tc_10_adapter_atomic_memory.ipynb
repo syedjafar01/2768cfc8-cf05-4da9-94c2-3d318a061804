{
 "cells": [
  {
   "cell_type": "code",
   "execution_count": 8,
   "metadata": {},
   "outputs": [],
   "source": [
    "import razor.flow as rf\n",
    "from razor import api\n",
    "import logging\n",
    "import os, time\n",
    "import typing as typ\n",
    "import numpy as np\n",
    "import pandas as pd\n",
    "\n",
    "logger = logging.getLogger()\n"
   ]
  },
  {
   "cell_type": "code",
   "execution_count": 10,
   "metadata": {},
   "outputs": [],
   "source": [
    "from razor.project.blocks.adapter_atomic_memory import STDOut\n",
    "from razor.project.blocks.adapter_atomic_memory import STDIn\n"
   ]
  },
  {
   "cell_type": "code",
   "execution_count": null,
   "metadata": {},
   "outputs": [],
   "source": []
  },
  {
   "cell_type": "code",
   "execution_count": 11,
   "metadata": {},
   "outputs": [],
   "source": [
    "def project_space_path(path):\n",
    "    ps = api.datasources('Project Space')\n",
    "    return os.path.join(ps.abspath(), path)\n"
   ]
  },
  {
   "cell_type": "code",
   "execution_count": 12,
   "metadata": {},
   "outputs": [],
   "source": [
    "def drop_col(df):\n",
    "    return df.drop(['x_temp'], axis=1)\n",
    "\n",
    "# @rf.block(executor=rf.FunctionExecutor)\n",
    "# class STDIn:\n",
    "#     filename: str\n",
    "#     out_ds: rf.Output[typ.Any]\n",
    "\n",
    "#     def run(self):\n",
    "#         df = pd.read_parquet(project_space_path(self.filename))\n",
    "\n",
    "#         df['x_temp'] = np.nan\n",
    "#         logger.info(df.head())\n",
    "#         self.out_ds.put(df)\n",
    "\n",
    "\n",
    "# @rf.block(executor=rf.FunctionExecutor)\n",
    "# class STDOut:\n",
    "#     in_ds: typ.Any\n",
    "#     out_filename: str\n",
    "\n",
    "#     def run(self):\n",
    "#         logger.info(self.in_ds.shape)\n",
    "#         self.in_ds.to_parquet(project_space_path(self.out_filename), index=False)\n",
    "        "
   ]
  },
  {
   "cell_type": "code",
   "execution_count": 13,
   "metadata": {},
   "outputs": [
    {
     "data": {
      "application/vnd.razorthink.interactive+pipeline+view+json": {
       "blocks": [
        {
         "class_name": "STDIn",
         "fullname": "razor.project.blocks.adapter_atomic_memory.STDIn",
         "id": "374f7f04-748d-4837-8dc7-4bca67de72b0",
         "inputs": [
          {
           "dataType": "string",
           "default": "",
           "flow": "atomic",
           "help": null,
           "isdict": false,
           "islist": false,
           "label": "filename",
           "meta": {},
           "name": "filename",
           "series": false,
           "type": "str",
           "type_check": true
          }
         ],
         "outputs": [
          {
           "flow": "atomic",
           "help": null,
           "label": "out_ds",
           "meta": {},
           "name": "out_ds",
           "series": false,
           "type": "Any",
           "type_check": true
          }
         ],
         "overwritten": false,
         "published": true,
         "var_names": [
          "STDIn"
         ]
        },
        {
         "class_name": "STDOut",
         "fullname": "razor.project.blocks.adapter_atomic_memory.STDOut",
         "id": "8f576bfc-61db-416d-9e7f-f03c3ba2bf7d",
         "inputs": [
          {
           "dataType": null,
           "default": null,
           "flow": "atomic",
           "help": null,
           "isdict": false,
           "islist": false,
           "label": "in_ds",
           "meta": {},
           "name": "in_ds",
           "series": false,
           "type": "Any",
           "type_check": true
          },
          {
           "dataType": "string",
           "default": "",
           "flow": "atomic",
           "help": null,
           "isdict": false,
           "islist": false,
           "label": "out_filename",
           "meta": {},
           "name": "out_filename",
           "series": false,
           "type": "str",
           "type_check": true
          }
         ],
         "outputs": [],
         "overwritten": false,
         "published": true,
         "var_names": [
          "STDOut"
         ]
        }
       ],
       "connections": [
        {
         "id": "b420cbcd-09ac-46e2-a095-da6b8a8cc86b",
         "source": {
          "adapter": true,
          "instance_id": "5d982467-b81b-492c-bb15-06c6a359dcd0",
          "name": "out_ds"
         },
         "target": {
          "adapter": false,
          "instance_id": "c1cf3add-108b-4539-be9e-ea776003c365",
          "name": "in_ds"
         }
        }
       ],
       "id": "070f0232-7367-43ff-b4df-8ef8468d9f95",
       "instances": [
        {
         "block_class": "8f576bfc-61db-416d-9e7f-f03c3ba2bf7d",
         "id": "c1cf3add-108b-4539-be9e-ea776003c365",
         "name": "STDOut_1",
         "var_names": [
          "std_out"
         ]
        },
        {
         "block_class": "374f7f04-748d-4837-8dc7-4bca67de72b0",
         "id": "5d982467-b81b-492c-bb15-06c6a359dcd0",
         "name": "STDIn_1",
         "var_names": [
          "std_in"
         ]
        }
       ],
       "name": "adapter_atomic_memory_transport",
       "var_names": []
      },
      "image/svg+xml": [
       "<?xml version=\"1.0\" encoding=\"UTF-8\" standalone=\"no\"?>\n",
       "<!DOCTYPE svg PUBLIC \"-//W3C//DTD SVG 1.1//EN\"\n",
       " \"http://www.w3.org/Graphics/SVG/1.1/DTD/svg11.dtd\">\n",
       "<!-- Generated by graphviz version 2.43.0 (0)\n",
       " -->\n",
       "<!-- Title: %3 Pages: 1 -->\n",
       "<svg width=\"146pt\" height=\"127pt\"\n",
       " viewBox=\"0.00 0.00 145.70 127.00\" xmlns=\"http://www.w3.org/2000/svg\" xmlns:xlink=\"http://www.w3.org/1999/xlink\">\n",
       "<g id=\"graph0\" class=\"graph\" transform=\"scale(1 1) rotate(0) translate(4 123)\">\n",
       "<title>%3</title>\n",
       "<polygon fill=\"white\" stroke=\"transparent\" points=\"-4,4 -4,-123 141.7,-123 141.7,4 -4,4\"/>\n",
       "<!-- STDOut(&#39;STDOut_1&#39;) -->\n",
       "<g id=\"node1\" class=\"node\">\n",
       "<title>STDOut(&#39;STDOut_1&#39;)</title>\n",
       "<ellipse fill=\"none\" stroke=\"black\" cx=\"67.7\" cy=\"-18\" rx=\"67.89\" ry=\"18\"/>\n",
       "<text text-anchor=\"middle\" x=\"67.7\" y=\"-15.5\" font-family=\"Helvetica,sans-Serif\" font-size=\"10.00\">STDOut(&#39;STDOut_1&#39;)</text>\n",
       "</g>\n",
       "<!-- STDIn(&#39;STDIn_1&#39;) -->\n",
       "<g id=\"node2\" class=\"node\">\n",
       "<title>STDIn(&#39;STDIn_1&#39;)</title>\n",
       "<ellipse fill=\"none\" stroke=\"black\" cx=\"67.7\" cy=\"-101\" rx=\"57.88\" ry=\"18\"/>\n",
       "<text text-anchor=\"middle\" x=\"67.7\" y=\"-98.5\" font-family=\"Helvetica,sans-Serif\" font-size=\"10.00\">STDIn(&#39;STDIn_1&#39;)</text>\n",
       "</g>\n",
       "<!-- STDIn(&#39;STDIn_1&#39;)&#45;&gt;STDOut(&#39;STDOut_1&#39;) -->\n",
       "<g id=\"edge1\" class=\"edge\">\n",
       "<title>STDIn(&#39;STDIn_1&#39;)&#45;&gt;STDOut(&#39;STDOut_1&#39;)</title>\n",
       "<path fill=\"none\" stroke=\"black\" d=\"M67.7,-82.82C67.7,-72.19 67.7,-58.31 67.7,-46.2\"/>\n",
       "<polygon fill=\"black\" stroke=\"black\" points=\"71.2,-46.15 67.7,-36.15 64.2,-46.15 71.2,-46.15\"/>\n",
       "<text text-anchor=\"middle\" x=\"102.7\" y=\"-57\" font-family=\"Helvetica,sans-Serif\" font-size=\"10.00\">out_ds&#45;&gt;in_ds</text>\n",
       "</g>\n",
       "</g>\n",
       "</svg>\n"
      ],
      "text/plain": [
       "<razor.flow.pipeline.Pipeline at 0x7f27ec8bdc50>"
      ]
     },
     "execution_count": 13,
     "metadata": {},
     "output_type": "execute_result"
    }
   ],
   "source": [
    "config = {'cores': 1, 'ram': 4096}\n",
    "\n",
    "size = '10MB'\n",
    "ip_filename = project_space_path(\"sdk_testbench/input_data/dummy_\"+size+\"_df.parquet\")\n",
    "op_filename = project_space_path(\"sdk_testbench/output_data/tc_09.parquet\")\n",
    "\n",
    "std_in = STDIn(filename=ip_filename)\n",
    "# std_in.executor = rf.ContainerExecutor(cores=config['cores'], memory=config['ram'])\n",
    "std_in.out_ds = rf.Output.set(adapter=drop_col)\n",
    "\n",
    "std_out = STDOut(in_ds=std_in.out_ds, out_filename=op_filename)\n",
    "# std_out.executor = rf.ContainerExecutor(cores=config['cores'], memory=config['ram'])\n",
    "\n",
    "pipeline = rf.Pipeline(name='adapter_atomic_memory_transport', targets=[std_out])\n",
    "pipeline"
   ]
  },
  {
   "cell_type": "code",
   "execution_count": 14,
   "metadata": {},
   "outputs": [
    {
     "data": {
      "application/vnd.razorthink.run+monitor+json": "/tmp/tmplqegxdu_/adapter_atomic_memory_transport",
      "text/plain": [
       "<razor_tools.backend.ipython.mime.run_monitor.RunMonitor at 0x7f27ec700c50>"
      ]
     },
     "metadata": {
      "application/vnd.razorthink.run+monitor+json": {
       "run_data": {
        "apm": [
         {
          "cpu_percent": 0,
          "cpu_time": 0,
          "name": "STDIn_1-STDOut_1",
          "real_mem": 162160640,
          "time": 1615205279.9855812
         },
         {
          "cpu_percent": 0,
          "cpu_time": 0.01,
          "name": "STDIn_1-STDOut_1",
          "real_mem": 162160640,
          "time": 1615205280.0974634
         },
         {
          "cpu_percent": 190.8,
          "cpu_time": 0.03,
          "name": "STDIn_1-STDOut_1",
          "real_mem": 164319232,
          "time": 1615205280.2101712
         },
         {
          "cpu_percent": 98.3,
          "cpu_time": 0.05,
          "name": "STDIn_1-STDOut_1",
          "real_mem": 165138432,
          "time": 1615205280.3219855
         },
         {
          "cpu_percent": 0,
          "cpu_time": 0.08,
          "name": "STDIn_1-STDOut_1",
          "real_mem": 176279552,
          "time": 1615205280.4337966
         },
         {
          "cpu_percent": 0,
          "cpu_time": 0.19,
          "name": "STDIn_1-STDOut_1",
          "real_mem": 209412096,
          "time": 1615205280.556145
         },
         {
          "cpu_percent": 0,
          "cpu_time": 0.24,
          "name": "STDIn_1-STDOut_1",
          "real_mem": 229900288,
          "time": 1615205280.66812
         },
         {
          "cpu_percent": 0,
          "cpu_time": 0.25,
          "name": "STDIn_1-STDOut_1",
          "real_mem": 229945344,
          "time": 1615205280.7795267
         },
         {
          "cpu_percent": 0,
          "cpu_time": 0.25,
          "name": "STDIn_1-STDOut_1",
          "real_mem": 229945344,
          "time": 1615205280.8914104
         },
         {
          "cpu_percent": 0,
          "cpu_time": 0.26,
          "name": "STDIn_1-STDOut_1",
          "real_mem": 232607744,
          "time": 1615205281.0035267
         },
         {
          "cpu_percent": 0,
          "cpu_time": 0.31,
          "name": "STDIn_1-STDOut_1",
          "real_mem": 233955328,
          "time": 1615205281.1150506
         },
         {
          "cpu_percent": 0,
          "cpu_time": 0.31,
          "name": "STDIn_1-STDOut_1",
          "real_mem": 233955328,
          "time": 1615205281.226549
         },
         {
          "cpu_percent": 0,
          "cpu_time": 0.31,
          "name": "STDIn_1-STDOut_1",
          "real_mem": 233955328,
          "time": 1615205281.3382223
         },
         {
          "cpu_percent": 0,
          "cpu_time": 0.31,
          "name": "STDIn_1-STDOut_1",
          "real_mem": 233955328,
          "time": 1615205281.4501138
         }
        ],
        "logs": [
         {
          "asctime": "2021-03-08 12:07:59,151",
          "exc_info": null,
          "extra": {},
          "filename": "pipeline.py",
          "funcName": "_log_manager",
          "levelname": "INFO",
          "lineno": 413,
          "message": "writing logs to: /tmp/tmplqegxdu_/adapter_atomic_memory_transport",
          "name": "razor.flow.pipeline:adapter_atomic_memory_transport",
          "pathname": "/usr/local/lib/python3.7/dist-packages/razor/flow/pipeline.py",
          "process": 65,
          "processName": "MainProcess",
          "thread": 139811906840384,
          "threadName": "MainThread"
         }
        ],
        "meta": {
         "block_status": {
          "STDIn_1": "SUCCESS",
          "STDIn_1--STDOut_1": "LOADING",
          "STDOut_1": "SUCCESS"
         },
         "blocks": [
          {
           "class_name": "STDIn",
           "fullname": "razor.project.blocks.adapter_atomic_memory.STDIn",
           "id": "374f7f04-748d-4837-8dc7-4bca67de72b0",
           "inputs": [
            {
             "dataType": "string",
             "default": "",
             "flow": "atomic",
             "help": null,
             "isdict": false,
             "islist": false,
             "label": "filename",
             "meta": {},
             "name": "filename",
             "series": false,
             "type": "str",
             "type_check": true
            }
           ],
           "outputs": [
            {
             "flow": "atomic",
             "help": null,
             "label": "out_ds",
             "meta": {},
             "name": "out_ds",
             "series": false,
             "type": "Any",
             "type_check": true
            }
           ],
           "overwritten": false,
           "published": true,
           "var_names": [
            "STDIn"
           ]
          },
          {
           "class_name": "STDOut",
           "fullname": "razor.project.blocks.adapter_atomic_memory.STDOut",
           "id": "8f576bfc-61db-416d-9e7f-f03c3ba2bf7d",
           "inputs": [
            {
             "dataType": null,
             "default": null,
             "flow": "atomic",
             "help": null,
             "isdict": false,
             "islist": false,
             "label": "in_ds",
             "meta": {},
             "name": "in_ds",
             "series": false,
             "type": "Any",
             "type_check": true
            },
            {
             "dataType": "string",
             "default": "",
             "flow": "atomic",
             "help": null,
             "isdict": false,
             "islist": false,
             "label": "out_filename",
             "meta": {},
             "name": "out_filename",
             "series": false,
             "type": "str",
             "type_check": true
            }
           ],
           "outputs": [],
           "overwritten": false,
           "published": true,
           "var_names": [
            "STDOut"
           ]
          }
         ],
         "connections": [
          {
           "id": "b420cbcd-09ac-46e2-a095-da6b8a8cc86b",
           "source": {
            "adapter": true,
            "instance_id": "5d982467-b81b-492c-bb15-06c6a359dcd0",
            "name": "out_ds"
           },
           "target": {
            "adapter": false,
            "instance_id": "c1cf3add-108b-4539-be9e-ea776003c365",
            "name": "in_ds"
           }
          }
         ],
         "end": 1615205281.84434,
         "id": "070f0232-7367-43ff-b4df-8ef8468d9f95",
         "instances": [
          {
           "block_class": "8f576bfc-61db-416d-9e7f-f03c3ba2bf7d",
           "id": "c1cf3add-108b-4539-be9e-ea776003c365",
           "name": "STDOut_1",
           "var_names": [
            "std_out"
           ]
          },
          {
           "block_class": "374f7f04-748d-4837-8dc7-4bca67de72b0",
           "id": "5d982467-b81b-492c-bb15-06c6a359dcd0",
           "name": "STDIn_1",
           "var_names": [
            "std_in"
           ]
          }
         ],
         "log_level": 20,
         "name": "adapter_atomic_memory_transport",
         "start": 1615205279.4378338,
         "status": "SUCCESS",
         "system_logs": true,
         "var_names": []
        },
        "metrics": {},
        "runtime": {
         "STDIn_1": {
          "end": 1615205280.582563,
          "load": null,
          "start": 1615205280.2103324
         },
         "STDOut_1": {
          "end": 1615205281.4779806,
          "load": null,
          "start": 1615205280.206783
         }
        }
       },
       "store_in_notebook": true
      }
     },
     "output_type": "display_data"
    },
    {
     "data": {
      "text/plain": [
       "<Process(Pipeline Manager('adapter_atomic_memory_transport'), stopped)>"
      ]
     },
     "execution_count": 14,
     "metadata": {},
     "output_type": "execute_result"
    }
   ],
   "source": [
    "pipeline.execute()"
   ]
  },
  {
   "cell_type": "code",
   "execution_count": null,
   "metadata": {},
   "outputs": [],
   "source": []
  },
  {
   "cell_type": "code",
   "execution_count": null,
   "metadata": {},
   "outputs": [],
   "source": []
  }
 ],
 "metadata": {
  "kernelspec": {
   "display_name": "Python 3",
   "language": "python",
   "name": "python3"
  },
  "language_info": {
   "codemirror_mode": {
    "name": "ipython",
    "version": 3
   },
   "file_extension": ".py",
   "mimetype": "text/x-python",
   "name": "python",
   "nbconvert_exporter": "python",
   "pygments_lexer": "ipython3",
   "version": "3.7.10"
  }
 },
 "nbformat": 4,
 "nbformat_minor": 4
}
