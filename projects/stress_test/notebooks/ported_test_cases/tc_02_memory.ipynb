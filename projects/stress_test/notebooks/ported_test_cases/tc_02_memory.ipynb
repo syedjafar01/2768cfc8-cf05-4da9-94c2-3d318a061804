{
 "cells": [
  {
   "cell_type": "code",
   "execution_count": 3,
   "metadata": {},
   "outputs": [],
   "source": [
    "import razor.flow as rf\n",
    "from razor import api\n",
    "\n",
    "import logging\n",
    "import time\n",
    "import typing as typ\n",
    "import pandas as pd\n",
    "import os\n",
    "\n",
    "from razor.api.core import BlockScope\n",
    "from razor.api import blocks\n",
    "\n",
    "from razor.project.blocks.socket1 import STDIn\n",
    "from razor.project.blocks.socket1 import STDOut\n"
   ]
  },
  {
   "cell_type": "code",
   "execution_count": 4,
   "metadata": {},
   "outputs": [],
   "source": [
    "def project_space_path(path):\n",
    "    ps = api.datasources('Project Space')\n",
    "    return os.path.join(ps.abspath(), path)\n",
    "\n"
   ]
  },
  {
   "cell_type": "code",
   "execution_count": null,
   "metadata": {},
   "outputs": [],
   "source": []
  },
  {
   "cell_type": "code",
   "execution_count": 6,
   "metadata": {},
   "outputs": [],
   "source": [
    "@rf.block(executor=rf.FunctionExecutor)\n",
    "class STDIn:    \n",
    "    \n",
    "    filename: str\n",
    "    out_ds: rf.Output[typ.Any]\n",
    "#     out_ds: rf.Output[typ.Any] = rf.Output(transport=rf.KafkaTransport)\n",
    "\n",
    "    def run(self):\n",
    "        df = pd.read_parquet(project_space_path(self.filename))\n",
    "\n",
    "        print(df.shape)\n",
    "        self.out_ds.put(df)\n",
    "\n",
    "\n",
    "@rf.block(executor=rf.FunctionExecutor)\n",
    "class STDOut:    \n",
    "    \n",
    "    in_ds: typ.Any\n",
    "    out_filename: str\n",
    "\n",
    "    def run(self):\n",
    "        print(self.in_ds.shape)\n",
    "        self.in_ds.to_parquet(project_space_path(self.out_filename), index=False)\n",
    "            \n",
    "        "
   ]
  },
  {
   "cell_type": "code",
   "execution_count": 7,
   "metadata": {},
   "outputs": [
    {
     "data": {
      "application/vnd.razorthink.interactive+pipeline+view+json": {
       "blocks": [
        {
         "class_name": "STDOut",
         "fullname": ".STDOut",
         "id": "8c871d32-2011-498b-b836-1d5150385d21",
         "inputs": [
          {
           "dataType": null,
           "default": null,
           "flow": "atomic",
           "help": null,
           "isdict": false,
           "islist": false,
           "label": "in_ds",
           "meta": {},
           "name": "in_ds",
           "series": false,
           "type": "Any",
           "type_check": true
          },
          {
           "dataType": "string",
           "default": "",
           "flow": "atomic",
           "help": null,
           "isdict": false,
           "islist": false,
           "label": "out_filename",
           "meta": {},
           "name": "out_filename",
           "series": false,
           "type": "str",
           "type_check": true
          }
         ],
         "outputs": [],
         "overwritten": false,
         "published": false,
         "var_names": [
          "STDOut"
         ]
        },
        {
         "class_name": "STDIn",
         "fullname": ".STDIn",
         "id": "3132866d-1480-4518-9038-88f726a971d9",
         "inputs": [
          {
           "dataType": "string",
           "default": "",
           "flow": "atomic",
           "help": null,
           "isdict": false,
           "islist": false,
           "label": "filename",
           "meta": {},
           "name": "filename",
           "series": false,
           "type": "str",
           "type_check": true
          }
         ],
         "outputs": [
          {
           "flow": "atomic",
           "help": null,
           "label": "out_ds",
           "meta": {},
           "name": "out_ds",
           "series": false,
           "type": "Any",
           "type_check": true
          }
         ],
         "overwritten": false,
         "published": false,
         "var_names": [
          "STDIn"
         ]
        }
       ],
       "connections": [
        {
         "id": "bb6c5c4c-a9a9-47a9-9d63-94fea3158623",
         "source": {
          "adapter": false,
          "instance_id": "fd6e144f-1d80-48d2-8e48-60a5474bd6c3",
          "name": "out_ds"
         },
         "target": {
          "adapter": false,
          "instance_id": "d340527f-fd63-4e11-b52c-81b039566a42",
          "name": "in_ds"
         }
        }
       ],
       "id": "04d71fca-797d-4c2f-9c73-eed6df487ae3",
       "instances": [
        {
         "block_class": "8c871d32-2011-498b-b836-1d5150385d21",
         "id": "d340527f-fd63-4e11-b52c-81b039566a42",
         "name": "STDOut_1",
         "var_names": [
          "std_out"
         ]
        },
        {
         "block_class": "3132866d-1480-4518-9038-88f726a971d9",
         "id": "fd6e144f-1d80-48d2-8e48-60a5474bd6c3",
         "name": "STDIn_1",
         "var_names": [
          "std_in"
         ]
        }
       ],
       "name": "test_pipeline",
       "var_names": []
      },
      "image/svg+xml": [
       "<?xml version=\"1.0\" encoding=\"UTF-8\" standalone=\"no\"?>\n",
       "<!DOCTYPE svg PUBLIC \"-//W3C//DTD SVG 1.1//EN\"\n",
       " \"http://www.w3.org/Graphics/SVG/1.1/DTD/svg11.dtd\">\n",
       "<!-- Generated by graphviz version 2.43.0 (0)\n",
       " -->\n",
       "<!-- Title: %3 Pages: 1 -->\n",
       "<svg width=\"146pt\" height=\"127pt\"\n",
       " viewBox=\"0.00 0.00 145.70 127.00\" xmlns=\"http://www.w3.org/2000/svg\" xmlns:xlink=\"http://www.w3.org/1999/xlink\">\n",
       "<g id=\"graph0\" class=\"graph\" transform=\"scale(1 1) rotate(0) translate(4 123)\">\n",
       "<title>%3</title>\n",
       "<polygon fill=\"white\" stroke=\"transparent\" points=\"-4,4 -4,-123 141.7,-123 141.7,4 -4,4\"/>\n",
       "<!-- STDOut(&#39;STDOut_1&#39;) -->\n",
       "<g id=\"node1\" class=\"node\">\n",
       "<title>STDOut(&#39;STDOut_1&#39;)</title>\n",
       "<ellipse fill=\"none\" stroke=\"black\" cx=\"67.7\" cy=\"-18\" rx=\"67.89\" ry=\"18\"/>\n",
       "<text text-anchor=\"middle\" x=\"67.7\" y=\"-15.5\" font-family=\"Helvetica,sans-Serif\" font-size=\"10.00\">STDOut(&#39;STDOut_1&#39;)</text>\n",
       "</g>\n",
       "<!-- STDIn(&#39;STDIn_1&#39;) -->\n",
       "<g id=\"node2\" class=\"node\">\n",
       "<title>STDIn(&#39;STDIn_1&#39;)</title>\n",
       "<ellipse fill=\"none\" stroke=\"black\" cx=\"67.7\" cy=\"-101\" rx=\"57.88\" ry=\"18\"/>\n",
       "<text text-anchor=\"middle\" x=\"67.7\" y=\"-98.5\" font-family=\"Helvetica,sans-Serif\" font-size=\"10.00\">STDIn(&#39;STDIn_1&#39;)</text>\n",
       "</g>\n",
       "<!-- STDIn(&#39;STDIn_1&#39;)&#45;&gt;STDOut(&#39;STDOut_1&#39;) -->\n",
       "<g id=\"edge1\" class=\"edge\">\n",
       "<title>STDIn(&#39;STDIn_1&#39;)&#45;&gt;STDOut(&#39;STDOut_1&#39;)</title>\n",
       "<path fill=\"none\" stroke=\"black\" d=\"M67.7,-82.82C67.7,-72.19 67.7,-58.31 67.7,-46.2\"/>\n",
       "<polygon fill=\"black\" stroke=\"black\" points=\"71.2,-46.15 67.7,-36.15 64.2,-46.15 71.2,-46.15\"/>\n",
       "<text text-anchor=\"middle\" x=\"102.7\" y=\"-57\" font-family=\"Helvetica,sans-Serif\" font-size=\"10.00\">out_ds&#45;&gt;in_ds</text>\n",
       "</g>\n",
       "</g>\n",
       "</svg>\n"
      ],
      "text/plain": [
       "<razor.flow.pipeline.Pipeline at 0x7f0aa845fd50>"
      ]
     },
     "execution_count": 7,
     "metadata": {},
     "output_type": "execute_result"
    }
   ],
   "source": [
    "config = {'cores': 1, 'ram': 4096}\n",
    "\n",
    "\n",
    "size = '10MB'\n",
    "ip_filename = project_space_path(\"sdk_testbench/input_data/dummy_\"+size+\"_df.parquet\")\n",
    "op_filename = project_space_path(\"sdk_testbench/output_data/tc_01.parquet\")\n",
    "\n",
    "std_in = STDIn(filename=ip_filename)\n",
    "# std_in.executor = rf.ContainerExecutor(cores=config['cores'], memory=config['ram'])\n",
    "# std_in.out_ds = rf.Output.set(transport=rf.KafkaTransport)\n",
    "\n",
    "std_out = STDOut(in_ds=std_in.out_ds, out_filename=op_filename)\n",
    "# std_out.executor = rf.ContainerExecutor(cores=config['cores'], memory=config['ram'])\n",
    "\n",
    "pipeline = rf.Pipeline(name='function_exec_memory_transport', targets=[std_out])\n",
    "pipeline"
   ]
  },
  {
   "cell_type": "code",
   "execution_count": 8,
   "metadata": {},
   "outputs": [
    {
     "data": {
      "application/vnd.razorthink.run+monitor+json": "/tmp/tmpbby2j1kw/test_pipeline",
      "text/plain": [
       "<razor_tools.backend.ipython.mime.run_monitor.RunMonitor at 0x7f0a164a3750>"
      ]
     },
     "metadata": {
      "application/vnd.razorthink.run+monitor+json": {
       "run_data": {
        "apm": [],
        "logs": [
         {
          "asctime": "2021-03-05 11:41:45,662",
          "exc_info": null,
          "extra": {},
          "filename": "pipeline.py",
          "funcName": "_log_manager",
          "levelname": "INFO",
          "lineno": 413,
          "message": "writing logs to: /tmp/tmpbby2j1kw/test_pipeline",
          "name": "razor.flow.pipeline:test_pipeline",
          "pathname": "/usr/local/lib/python3.7/dist-packages/razor/flow/pipeline.py",
          "process": 2185,
          "processName": "MainProcess",
          "thread": 139683848058688,
          "threadName": "MainThread"
         }
        ],
        "meta": {
         "block_status": {
          "STDIn_1": null,
          "STDOut_1": null
         },
         "blocks": [
          {
           "class_name": "STDOut",
           "fullname": ".STDOut",
           "id": "8c871d32-2011-498b-b836-1d5150385d21",
           "inputs": [
            {
             "dataType": null,
             "default": null,
             "flow": "atomic",
             "help": null,
             "isdict": false,
             "islist": false,
             "label": "in_ds",
             "meta": {},
             "name": "in_ds",
             "series": false,
             "type": "Any",
             "type_check": true
            },
            {
             "dataType": "string",
             "default": "",
             "flow": "atomic",
             "help": null,
             "isdict": false,
             "islist": false,
             "label": "out_filename",
             "meta": {},
             "name": "out_filename",
             "series": false,
             "type": "str",
             "type_check": true
            }
           ],
           "outputs": [],
           "overwritten": false,
           "published": false,
           "var_names": [
            "STDOut"
           ]
          },
          {
           "class_name": "STDIn",
           "fullname": ".STDIn",
           "id": "3132866d-1480-4518-9038-88f726a971d9",
           "inputs": [
            {
             "dataType": "string",
             "default": "",
             "flow": "atomic",
             "help": null,
             "isdict": false,
             "islist": false,
             "label": "filename",
             "meta": {},
             "name": "filename",
             "series": false,
             "type": "str",
             "type_check": true
            }
           ],
           "outputs": [
            {
             "flow": "atomic",
             "help": null,
             "label": "out_ds",
             "meta": {},
             "name": "out_ds",
             "series": false,
             "type": "Any",
             "type_check": true
            }
           ],
           "overwritten": false,
           "published": false,
           "var_names": [
            "STDIn"
           ]
          }
         ],
         "connections": [
          {
           "id": "bb6c5c4c-a9a9-47a9-9d63-94fea3158623",
           "source": {
            "adapter": false,
            "instance_id": "fd6e144f-1d80-48d2-8e48-60a5474bd6c3",
            "name": "out_ds"
           },
           "target": {
            "adapter": false,
            "instance_id": "d340527f-fd63-4e11-b52c-81b039566a42",
            "name": "in_ds"
           }
          }
         ],
         "end": 1614944506.7240386,
         "id": "04d71fca-797d-4c2f-9c73-eed6df487ae3",
         "instances": [
          {
           "block_class": "8c871d32-2011-498b-b836-1d5150385d21",
           "id": "d340527f-fd63-4e11-b52c-81b039566a42",
           "name": "STDOut_1",
           "var_names": [
            "std_out"
           ]
          },
          {
           "block_class": "3132866d-1480-4518-9038-88f726a971d9",
           "id": "fd6e144f-1d80-48d2-8e48-60a5474bd6c3",
           "name": "STDIn_1",
           "var_names": [
            "std_in"
           ]
          }
         ],
         "log_level": 20,
         "name": "test_pipeline",
         "start": 1614944505.9218588,
         "status": "RUNNING",
         "system_logs": true,
         "var_names": []
        },
        "metrics": {},
        "runtime": {
         "STDIn_1": {
          "end": null,
          "load": null,
          "start": null
         },
         "STDOut_1": {
          "end": null,
          "load": null,
          "start": null
         }
        }
       },
       "store_in_notebook": true
      }
     },
     "output_type": "display_data"
    },
    {
     "name": "stderr",
     "output_type": "stream",
     "text": [
      "Process Pipeline Manager('test_pipeline'):\n",
      "Traceback (most recent call last):\n",
      "  File \"/usr/lib/python3.7/multiprocessing/process.py\", line 297, in _bootstrap\n",
      "    self.run()\n",
      "  File \"/usr/lib/python3.7/multiprocessing/process.py\", line 99, in run\n",
      "    self._target(*self._args, **self._kwargs)\n",
      "  File \"/usr/local/lib/python3.7/dist-packages/razor/flow/pipeline.py\", line 538, in _execute\n",
      "    log_addr, log_level, None, this_run_params\n",
      "  File \"/usr/local/lib/python3.7/dist-packages/razor/flow/executors.py\", line 462, in execute\n",
      "    return self._execute(*args, **kwargs)\n",
      "  File \"/usr/local/lib/python3.7/dist-packages/razor/flow/executors.py\", line 435, in _execute\n",
      "    self.logger = SocketLogger(f'{__name__}:{self.name}', log_addr, log_level)\n",
      "  File \"/usr/local/lib/python3.7/dist-packages/razor/flow/logging.py\", line 24, in __init__\n",
      "    logging.Logger.__init__(self, name=name, level=level)\n",
      "  File \"/usr/lib/python3.7/logging/__init__.py\", line 1342, in __init__\n",
      "    self.level = _checkLevel(level)\n",
      "  File \"/usr/lib/python3.7/logging/__init__.py\", line 192, in _checkLevel\n",
      "    raise ValueError(\"Unknown level: %r\" % level)\n",
      "ValueError: Unknown level: 'tcp://127.0.0.1:61157'\n"
     ]
    },
    {
     "data": {
      "text/plain": [
       "<Process(Pipeline Manager('test_pipeline'), stopped[1])>"
      ]
     },
     "execution_count": 8,
     "metadata": {},
     "output_type": "execute_result"
    }
   ],
   "source": [
    "pipeline.execute()"
   ]
  },
  {
   "cell_type": "code",
   "execution_count": null,
   "metadata": {},
   "outputs": [],
   "source": []
  },
  {
   "cell_type": "code",
   "execution_count": 12,
   "metadata": {},
   "outputs": [
    {
     "data": {
      "application/vnd.razorthink.run+monitor+json": "/tmp/tmporj7qboz/test_pipeline",
      "text/plain": [
       "<razor_tools.backend.ipython.mime.run_monitor.RunMonitor at 0x7f9e34715850>"
      ]
     },
     "metadata": {
      "application/vnd.razorthink.run+monitor+json": {
       "run_data": {
        "apm": [
         {
          "cpu_percent": 0,
          "cpu_time": 0,
          "name": "STDOut_1",
          "real_mem": 149823488,
          "time": 1614943765.1597743
         },
         {
          "cpu_percent": 0,
          "cpu_time": 0,
          "name": "STDIn_1",
          "real_mem": 149868544,
          "time": 1614943765.1707585
         },
         {
          "cpu_percent": 0,
          "cpu_time": 0,
          "name": "STDOut_1",
          "real_mem": 149823488,
          "time": 1614943765.282204
         },
         {
          "cpu_percent": 0,
          "cpu_time": 0,
          "name": "STDIn_1",
          "real_mem": 149868544,
          "time": 1614943765.2931929
         },
         {
          "cpu_percent": 0,
          "cpu_time": 0,
          "name": "STDOut_1",
          "real_mem": 152223744,
          "time": 1614943765.4044185
         },
         {
          "cpu_percent": 0,
          "cpu_time": 0.02,
          "name": "STDIn_1",
          "real_mem": 152678400,
          "time": 1614943765.4153254
         },
         {
          "cpu_percent": 0,
          "cpu_time": 0,
          "name": "STDOut_1",
          "real_mem": 152223744,
          "time": 1614943765.5267375
         },
         {
          "cpu_percent": 0,
          "cpu_time": 0.03,
          "name": "STDIn_1",
          "real_mem": 154238976,
          "time": 1614943765.5376797
         },
         {
          "cpu_percent": 0,
          "cpu_time": 0,
          "name": "STDOut_1",
          "real_mem": 152223744,
          "time": 1614943765.649251
         },
         {
          "cpu_percent": 0,
          "cpu_time": 0.04,
          "name": "STDIn_1",
          "real_mem": 159010816,
          "time": 1614943765.6602705
         },
         {
          "cpu_percent": 0,
          "cpu_time": 0,
          "name": "STDOut_1",
          "real_mem": 152223744,
          "time": 1614943765.7716475
         },
         {
          "cpu_percent": 0,
          "cpu_time": 0.06,
          "name": "STDIn_1",
          "real_mem": 164040704,
          "time": 1614943765.7827485
         },
         {
          "cpu_percent": 0,
          "cpu_time": 0,
          "name": "STDOut_1",
          "real_mem": 152223744,
          "time": 1614943765.8946567
         },
         {
          "cpu_percent": 0,
          "cpu_time": 0.06,
          "name": "STDIn_1",
          "real_mem": 164392960,
          "time": 1614943765.905689
         },
         {
          "cpu_percent": 0,
          "cpu_time": 0,
          "name": "STDOut_1",
          "real_mem": 152223744,
          "time": 1614943766.0171068
         },
         {
          "cpu_percent": 196.6,
          "cpu_time": 0.11,
          "name": "STDIn_1",
          "real_mem": 192032768,
          "time": 1614943766.0281148
         },
         {
          "cpu_percent": 0,
          "cpu_time": 0.05,
          "name": "STDOut_1",
          "real_mem": 190058496,
          "time": 1614943766.1394992
         },
         {
          "cpu_percent": 0,
          "cpu_time": 0.17,
          "name": "STDIn_1",
          "real_mem": 228458496,
          "time": 1614943766.1503823
         },
         {
          "cpu_percent": 0,
          "cpu_time": 0.09,
          "name": "STDOut_1",
          "real_mem": 203014144,
          "time": 1614943766.2617714
         },
         {
          "cpu_percent": 0,
          "cpu_time": 0.09,
          "name": "STDOut_1",
          "real_mem": 203304960,
          "time": 1614943766.3733947
         },
         {
          "cpu_percent": 0,
          "cpu_time": 0.09,
          "name": "STDOut_1",
          "real_mem": 203304960,
          "time": 1614943766.4848778
         },
         {
          "cpu_percent": 0,
          "cpu_time": 0.11,
          "name": "STDOut_1",
          "real_mem": 210239488,
          "time": 1614943766.5964255
         },
         {
          "cpu_percent": 0,
          "cpu_time": 0.11,
          "name": "STDOut_1",
          "real_mem": 210239488,
          "time": 1614943766.7080312
         },
         {
          "cpu_percent": 0,
          "cpu_time": 0.11,
          "name": "STDOut_1",
          "real_mem": 210239488,
          "time": 1614943766.8195872
         },
         {
          "cpu_percent": 0,
          "cpu_time": 0.11,
          "name": "STDOut_1",
          "real_mem": 210239488,
          "time": 1614943766.931484
         },
         {
          "cpu_percent": 0,
          "cpu_time": 0.12,
          "name": "STDOut_1",
          "real_mem": 210239488,
          "time": 1614943767.0429924
         }
        ],
        "logs": [
         {
          "asctime": "2021-03-05 11:29:24,365",
          "exc_info": null,
          "extra": {},
          "filename": "pipeline.py",
          "funcName": "_log_manager",
          "levelname": "INFO",
          "lineno": 413,
          "message": "writing logs to: /tmp/tmporj7qboz/test_pipeline",
          "name": "razor.flow.pipeline:test_pipeline",
          "pathname": "/usr/local/lib/python3.7/dist-packages/razor/flow/pipeline.py",
          "process": 933,
          "processName": "MainProcess",
          "thread": 140319807403840,
          "threadName": "MainThread"
         },
         {
          "asctime": "2021-03-05 11:29:26,035",
          "exc_info": null,
          "extra": {},
          "filename": null,
          "funcName": null,
          "levelname": "STDOUT",
          "lineno": null,
          "message": "(100000, 14)\n",
          "name": "block.stdout:STDIn_1",
          "pathname": null,
          "process": null,
          "processName": null,
          "thread": null,
          "threadName": null
         },
         {
          "asctime": "2021-03-05 11:29:26,109",
          "exc_info": null,
          "extra": {},
          "filename": null,
          "funcName": null,
          "levelname": "STDOUT",
          "lineno": null,
          "message": "(100000, 14)\n",
          "name": "block.stdout:STDOut_1",
          "pathname": null,
          "process": null,
          "processName": null,
          "thread": null,
          "threadName": null
         }
        ],
        "meta": {
         "block_status": {
          "STDIn_1": "SUCCESS",
          "STDOut_1": "SUCCESS"
         },
         "blocks": [
          {
           "class_name": "STDOut",
           "fullname": "razor.project.blocks.socket1.STDOut",
           "id": "c9a88d4d-61bd-4d2b-8601-69532fc391d0",
           "inputs": [
            {
             "dataType": null,
             "default": null,
             "flow": "atomic",
             "help": null,
             "isdict": false,
             "islist": false,
             "label": "in_ds",
             "meta": {},
             "name": "in_ds",
             "series": false,
             "type": "Any",
             "type_check": true
            },
            {
             "dataType": "string",
             "default": "",
             "flow": "atomic",
             "help": null,
             "isdict": false,
             "islist": false,
             "label": "out_filename",
             "meta": {},
             "name": "out_filename",
             "series": false,
             "type": "str",
             "type_check": true
            }
           ],
           "outputs": [],
           "overwritten": false,
           "published": true,
           "var_names": [
            "STDOut"
           ]
          },
          {
           "class_name": "STDIn",
           "fullname": "razor.project.blocks.socket1.STDIn",
           "id": "7098ab78-13ea-4b1f-84c6-3e94754a69b0",
           "inputs": [
            {
             "dataType": "string",
             "default": "",
             "flow": "atomic",
             "help": null,
             "isdict": false,
             "islist": false,
             "label": "filename",
             "meta": {},
             "name": "filename",
             "series": false,
             "type": "str",
             "type_check": true
            }
           ],
           "outputs": [
            {
             "flow": "atomic",
             "help": null,
             "label": "out_ds",
             "meta": {},
             "name": "out_ds",
             "series": false,
             "type": "Any",
             "type_check": true
            }
           ],
           "overwritten": false,
           "published": true,
           "var_names": [
            "STDIn"
           ]
          }
         ],
         "connections": [
          {
           "id": "50e4d479-c124-4484-84ec-b760866c0cb4",
           "source": {
            "adapter": false,
            "instance_id": "2eae9fc3-3b62-4d22-afe2-0a267475b00f",
            "name": "out_ds"
           },
           "target": {
            "adapter": false,
            "instance_id": "3e29f13d-b48d-4e38-9df9-f84dbd2eff68",
            "name": "in_ds"
           }
          }
         ],
         "end": 1614943767.1406062,
         "id": "f270b33b-c154-4d06-ae45-914f8b2460a9",
         "instances": [
          {
           "block_class": "c9a88d4d-61bd-4d2b-8601-69532fc391d0",
           "id": "3e29f13d-b48d-4e38-9df9-f84dbd2eff68",
           "name": "STDOut_1",
           "var_names": [
            "std_out"
           ]
          },
          {
           "block_class": "7098ab78-13ea-4b1f-84c6-3e94754a69b0",
           "id": "2eae9fc3-3b62-4d22-afe2-0a267475b00f",
           "name": "STDIn_1",
           "var_names": [
            "std_in"
           ]
          }
         ],
         "log_level": 20,
         "name": "test_pipeline",
         "start": 1614943764.6188846,
         "status": "SUCCESS",
         "system_logs": true,
         "var_names": []
        },
        "metrics": {},
        "runtime": {
         "STDIn_1": {
          "end": 1614943766.0754085,
          "load": 1614943765.1434999,
          "start": 1614943765.3778398
         },
         "STDOut_1": {
          "end": 1614943766.9577858,
          "load": 1614943765.135246,
          "start": 1614943765.3759632
         }
        }
       },
       "store_in_notebook": true
      }
     },
     "output_type": "display_data"
    },
    {
     "data": {
      "text/plain": [
       "<Process(Pipeline Manager('test_pipeline'), stopped)>"
      ]
     },
     "execution_count": 12,
     "metadata": {},
     "output_type": "execute_result"
    }
   ],
   "source": [
    "pipeline.execute()"
   ]
  },
  {
   "cell_type": "code",
   "execution_count": 7,
   "metadata": {},
   "outputs": [
    {
     "ename": "RuntimeError",
     "evalue": "('Failed to save pipeline! \\n', 'Oops! Something went wrong. Please try again or contact support if the problem persists.')",
     "output_type": "error",
     "traceback": [
      "\u001b[0;31m---------------------------------------------------------------------------\u001b[0m",
      "\u001b[0;31mAPIError\u001b[0m                                  Traceback (most recent call last)",
      "\u001b[0;32m/usr/local/lib/python3.7/dist-packages/razor/api/impl/pipeline_manager_impl.py\u001b[0m in \u001b[0;36msave_pipeline\u001b[0;34m(pipeline, pipeline_vars, resources, overwrite)\u001b[0m\n\u001b[1;32m    171\u001b[0m                                                                \u001b[0mproject_id\u001b[0m\u001b[0;34m=\u001b[0m\u001b[0mUserContext\u001b[0m\u001b[0;34m.\u001b[0m\u001b[0mproject_id\u001b[0m\u001b[0;34m,\u001b[0m\u001b[0;34m\u001b[0m\u001b[0;34m\u001b[0m\u001b[0m\n\u001b[0;32m--> 172\u001b[0;31m                                                                pipeline_name=pipeline.name)[\"data\"]\n\u001b[0m\u001b[1;32m    173\u001b[0m             \u001b[0mlogger\u001b[0m\u001b[0;34m.\u001b[0m\u001b[0mdebug\u001b[0m\u001b[0;34m(\u001b[0m\u001b[0mstr\u001b[0m\u001b[0;34m.\u001b[0m\u001b[0mformat\u001b[0m\u001b[0;34m(\u001b[0m\u001b[0mLogMessages\u001b[0m\u001b[0;34m.\u001b[0m\u001b[0mSAVE_PIPELINE_RESPONSE\u001b[0m\u001b[0;34m,\u001b[0m \u001b[0mstr\u001b[0m\u001b[0;34m(\u001b[0m\u001b[0mjson\u001b[0m\u001b[0;34m.\u001b[0m\u001b[0mdumps\u001b[0m\u001b[0;34m(\u001b[0m\u001b[0msave_res\u001b[0m\u001b[0;34m,\u001b[0m \u001b[0mindent\u001b[0m\u001b[0;34m=\u001b[0m\u001b[0;36m4\u001b[0m\u001b[0;34m)\u001b[0m\u001b[0;34m)\u001b[0m\u001b[0;34m)\u001b[0m\u001b[0;34m)\u001b[0m\u001b[0;34m\u001b[0m\u001b[0;34m\u001b[0m\u001b[0m\n",
      "\u001b[0;32m/usr/local/lib/python3.7/dist-packages/razor/api/rest_api/rest_api_impl.py\u001b[0m in \u001b[0;36mupdate_pipeline\u001b[0;34m(pipeline_json, project_id, pipeline_name)\u001b[0m\n\u001b[1;32m    361\u001b[0m                           \u001b[0mdata\u001b[0m\u001b[0;34m=\u001b[0m\u001b[0mpipeline_json\u001b[0m\u001b[0;34m,\u001b[0m\u001b[0;34m\u001b[0m\u001b[0;34m\u001b[0m\u001b[0m\n\u001b[0;32m--> 362\u001b[0;31m                           user_id=UserContext.consumer_id, query_params=query_params).json()\n\u001b[0m\u001b[1;32m    363\u001b[0m         \u001b[0;32mreturn\u001b[0m \u001b[0mres\u001b[0m\u001b[0;34m\u001b[0m\u001b[0;34m\u001b[0m\u001b[0m\n",
      "\u001b[0;32m/usr/local/lib/python3.7/dist-packages/razor/api/rest_api/request.py\u001b[0m in \u001b[0;36mput\u001b[0;34m(url, data, user_id, query_params)\u001b[0m\n\u001b[1;32m    220\u001b[0m             \u001b[0;31m# Raise bad response\u001b[0m\u001b[0;34m\u001b[0m\u001b[0;34m\u001b[0m\u001b[0;34m\u001b[0m\u001b[0m\n\u001b[0;32m--> 221\u001b[0;31m             \u001b[0;32mraise\u001b[0m \u001b[0mCommsErrorHandler\u001b[0m\u001b[0;34m.\u001b[0m\u001b[0mhandle\u001b[0m\u001b[0;34m(\u001b[0m\u001b[0mAPIError\u001b[0m\u001b[0;34m(\u001b[0m\u001b[0mr\u001b[0m\u001b[0;34m.\u001b[0m\u001b[0mtext\u001b[0m\u001b[0;34m)\u001b[0m\u001b[0;34m)\u001b[0m\u001b[0;34m\u001b[0m\u001b[0;34m\u001b[0m\u001b[0m\n\u001b[0m\u001b[1;32m    222\u001b[0m \u001b[0;34m\u001b[0m\u001b[0m\n",
      "\u001b[0;32m/usr/local/lib/python3.7/dist-packages/razor/api/utils/error_handler.py\u001b[0m in \u001b[0;36mhandle\u001b[0;34m(e)\u001b[0m\n\u001b[1;32m     29\u001b[0m             \u001b[0mres\u001b[0m \u001b[0;34m=\u001b[0m \u001b[0mjson\u001b[0m\u001b[0;34m.\u001b[0m\u001b[0mloads\u001b[0m\u001b[0;34m(\u001b[0m\u001b[0me\u001b[0m\u001b[0;34m)\u001b[0m\u001b[0;34m[\u001b[0m\u001b[0;34m'data'\u001b[0m\u001b[0;34m]\u001b[0m\u001b[0;34m\u001b[0m\u001b[0;34m\u001b[0m\u001b[0m\n\u001b[0;32m---> 30\u001b[0;31m             \u001b[0;32mraise\u001b[0m \u001b[0mAPIError\u001b[0m\u001b[0;34m(\u001b[0m\u001b[0mres\u001b[0m\u001b[0;34m)\u001b[0m \u001b[0;32mfrom\u001b[0m \u001b[0;32mNone\u001b[0m\u001b[0;34m\u001b[0m\u001b[0;34m\u001b[0m\u001b[0m\n\u001b[0m\u001b[1;32m     31\u001b[0m         \u001b[0;32melif\u001b[0m \u001b[0;34m'\"result\"'\u001b[0m \u001b[0;32min\u001b[0m \u001b[0mstr\u001b[0m\u001b[0;34m(\u001b[0m\u001b[0me\u001b[0m\u001b[0;34m)\u001b[0m\u001b[0;34m:\u001b[0m\u001b[0;34m\u001b[0m\u001b[0;34m\u001b[0m\u001b[0m\n",
      "\u001b[0;31mAPIError\u001b[0m: Oops! Something went wrong. Please try again or contact support if the problem persists.",
      "\nDuring handling of the above exception, another exception occurred:\n",
      "\u001b[0;31mRuntimeError\u001b[0m                              Traceback (most recent call last)",
      "\u001b[0;32m<ipython-input-7-a4f916ae843f>\u001b[0m in \u001b[0;36m<module>\u001b[0;34m\u001b[0m\n\u001b[1;32m      1\u001b[0m \u001b[0;32mimport\u001b[0m \u001b[0mrazor\u001b[0m\u001b[0;34m\u001b[0m\u001b[0;34m\u001b[0m\u001b[0m\n\u001b[0;32m----> 2\u001b[0;31m \u001b[0mrazor\u001b[0m\u001b[0;34m.\u001b[0m\u001b[0mapi\u001b[0m\u001b[0;34m.\u001b[0m\u001b[0mpipelines\u001b[0m\u001b[0;34m.\u001b[0m\u001b[0msave\u001b[0m\u001b[0;34m(\u001b[0m\u001b[0mpipeline\u001b[0m\u001b[0;34m)\u001b[0m\u001b[0;34m\u001b[0m\u001b[0;34m\u001b[0m\u001b[0m\n\u001b[0m",
      "\u001b[0;32m/usr/local/lib/python3.7/dist-packages/razor/api/core/pipeline_manager.py\u001b[0m in \u001b[0;36msave\u001b[0;34m(self, pipeline, pipeline_vars, resources, overwrite)\u001b[0m\n\u001b[1;32m     65\u001b[0m                                                  \u001b[0mpipeline_vars\u001b[0m\u001b[0;34m=\u001b[0m\u001b[0mpipeline_vars\u001b[0m\u001b[0;34m,\u001b[0m\u001b[0;34m\u001b[0m\u001b[0;34m\u001b[0m\u001b[0m\n\u001b[1;32m     66\u001b[0m                                                  \u001b[0mresources\u001b[0m\u001b[0;34m=\u001b[0m\u001b[0mresources\u001b[0m\u001b[0;34m,\u001b[0m\u001b[0;34m\u001b[0m\u001b[0;34m\u001b[0m\u001b[0m\n\u001b[0;32m---> 67\u001b[0;31m                                                  overwrite=overwrite)\n\u001b[0m",
      "\u001b[0;32m/usr/local/lib/python3.7/dist-packages/razor/api/impl/pipeline_manager_impl.py\u001b[0m in \u001b[0;36msave_pipeline\u001b[0;34m(pipeline, pipeline_vars, resources, overwrite)\u001b[0m\n\u001b[1;32m    174\u001b[0m \u001b[0;34m\u001b[0m\u001b[0m\n\u001b[1;32m    175\u001b[0m         \u001b[0;32mexcept\u001b[0m \u001b[0mException\u001b[0m \u001b[0;32mas\u001b[0m \u001b[0me\u001b[0m\u001b[0;34m:\u001b[0m\u001b[0;34m\u001b[0m\u001b[0;34m\u001b[0m\u001b[0m\n\u001b[0;32m--> 176\u001b[0;31m             \u001b[0;32mraise\u001b[0m \u001b[0mRuntimeError\u001b[0m\u001b[0;34m(\u001b[0m\u001b[0;34m\"Failed to save pipeline! \\n\"\u001b[0m\u001b[0;34m,\u001b[0m \u001b[0mstr\u001b[0m\u001b[0;34m(\u001b[0m\u001b[0me\u001b[0m\u001b[0;34m)\u001b[0m\u001b[0;34m)\u001b[0m\u001b[0;34m\u001b[0m\u001b[0;34m\u001b[0m\u001b[0m\n\u001b[0m\u001b[1;32m    177\u001b[0m \u001b[0;34m\u001b[0m\u001b[0m\n\u001b[1;32m    178\u001b[0m         \u001b[0;31m# TODO: Fix the response object of validateResponse from backend\u001b[0m\u001b[0;34m\u001b[0m\u001b[0;34m\u001b[0m\u001b[0;34m\u001b[0m\u001b[0m\n",
      "\u001b[0;31mRuntimeError\u001b[0m: ('Failed to save pipeline! \\n', 'Oops! Something went wrong. Please try again or contact support if the problem persists.')"
     ]
    }
   ],
   "source": [
    "import razor\n",
    "razor.api.pipelines.save(pipeline)"
   ]
  },
  {
   "cell_type": "code",
   "execution_count": null,
   "metadata": {},
   "outputs": [],
   "source": []
  },
  {
   "cell_type": "code",
   "execution_count": null,
   "metadata": {},
   "outputs": [],
   "source": []
  }
 ],
 "metadata": {
  "kernelspec": {
   "display_name": "Python 3",
   "language": "python",
   "name": "python3"
  },
  "language_info": {
   "codemirror_mode": {
    "name": "ipython",
    "version": 3
   },
   "file_extension": ".py",
   "mimetype": "text/x-python",
   "name": "python",
   "nbconvert_exporter": "python",
   "pygments_lexer": "ipython3",
   "version": "3.7.10"
  }
 },
 "nbformat": 4,
 "nbformat_minor": 4
}
