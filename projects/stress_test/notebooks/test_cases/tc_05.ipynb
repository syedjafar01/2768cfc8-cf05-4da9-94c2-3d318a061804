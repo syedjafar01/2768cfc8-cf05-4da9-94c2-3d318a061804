{
 "cells": [
  {
   "cell_type": "code",
   "execution_count": 1,
   "metadata": {},
   "outputs": [
    {
     "name": "stderr",
     "output_type": "stream",
     "text": [
      "/usr/local/lib/python3.7/dist-packages/snowflake/connector/options.py:78: UserWarning: You have an incompatible version of 'pyarrow' installed (3.0.0), please install a version that adheres to: 'pyarrow<0.18.0,>=0.17.0; extra == \"pandas\"'\n",
      "  warn_incompatible_dep('pyarrow', _installed_pyarrow_version.version, _expected_pyarrow_version)\n"
     ]
    }
   ],
   "source": [
    "import razor.flow as rf\n",
    "import logging\n",
    "import time, os\n",
    "import typing as typ\n",
    "import numpy as np\n",
    "import pandas as pd\n",
    "from razor import api\n",
    "\n",
    "logger = logging.getLogger()\n"
   ]
  },
  {
   "cell_type": "code",
   "execution_count": null,
   "metadata": {},
   "outputs": [],
   "source": []
  },
  {
   "cell_type": "code",
   "execution_count": 2,
   "metadata": {},
   "outputs": [],
   "source": [
    "def project_space_path(path):\n",
    "    ps = api.datasources('Project Space')\n",
    "    return os.path.join(ps.abspath(), path)\n"
   ]
  },
  {
   "cell_type": "code",
   "execution_count": null,
   "metadata": {},
   "outputs": [],
   "source": []
  },
  {
   "cell_type": "code",
   "execution_count": 3,
   "metadata": {},
   "outputs": [],
   "source": [
    "@rf.block\n",
    "class STDIn:\n",
    "    filename: str\n",
    "    records: int\n",
    "    out_ds: rf.SeriesOutput[typ.Any]\n",
    "\n",
    "    def run(self):\n",
    "        with open(project_space_path(self.filename), 'r') as f:\n",
    "            text_str = f.read()\n",
    "\n",
    "        logger.info(len(text_str))\n",
    "        for _ in range(self.records):\n",
    "            self.out_ds.put(text_str)\n",
    "\n",
    "\n",
    "@rf.block\n",
    "class STDOut:\n",
    "    in_ds: rf.SeriesInput[typ.Any]\n",
    "    out_filename: str\n",
    "\n",
    "    def run(self):\n",
    "        text_str = [str(i) for i in self.in_ds][0]\n",
    "        logger.info(len(text_str))\n",
    "        with open(project_space_path(self.out_filename), 'w') as f:\n",
    "            f.write(text_str)\n",
    "            "
   ]
  },
  {
   "cell_type": "code",
   "execution_count": 4,
   "metadata": {},
   "outputs": [
    {
     "data": {
      "application/vnd.razorthink.interactive+pipeline+view+json": {
       "blocks": [
        {
         "class_name": "STDIn",
         "fullname": ".STDIn",
         "id": "49c8a24d-f402-4aa0-8e14-757c545a4984",
         "inputs": [
          {
           "dataType": "string",
           "default": "",
           "flow": "atomic",
           "help": null,
           "isdict": false,
           "islist": false,
           "label": "filename",
           "meta": {},
           "name": "filename",
           "series": false,
           "type": "str",
           "type_check": true
          },
          {
           "dataType": "integer",
           "default": 0,
           "flow": "atomic",
           "help": null,
           "isdict": false,
           "islist": false,
           "label": "records",
           "meta": {},
           "name": "records",
           "series": false,
           "type": "int",
           "type_check": true
          }
         ],
         "outputs": [
          {
           "flow": "series",
           "help": null,
           "label": "out_ds",
           "meta": {},
           "name": "out_ds",
           "series": true,
           "type": "Any",
           "type_check": true
          }
         ],
         "overwritten": false,
         "published": false,
         "var_names": [
          "STDIn"
         ]
        },
        {
         "class_name": "STDOut",
         "fullname": ".STDOut",
         "id": "5962d55f-737e-4d8c-bc99-9324b13553a0",
         "inputs": [
          {
           "dataType": null,
           "default": null,
           "flow": "series",
           "help": null,
           "isdict": false,
           "islist": false,
           "label": "in_ds",
           "meta": {},
           "name": "in_ds",
           "series": true,
           "type": "Any",
           "type_check": true
          },
          {
           "dataType": "string",
           "default": "",
           "flow": "atomic",
           "help": null,
           "isdict": false,
           "islist": false,
           "label": "out_filename",
           "meta": {},
           "name": "out_filename",
           "series": false,
           "type": "str",
           "type_check": true
          }
         ],
         "outputs": [],
         "overwritten": false,
         "published": false,
         "var_names": [
          "STDOut"
         ]
        }
       ],
       "connections": [
        {
         "id": "a1a2b7e1-de57-4637-b4d1-4b4cddfd9091",
         "source": {
          "adapter": false,
          "instance_id": "b573b7c4-5af5-4ec7-a0b3-89686b379832",
          "name": "out_ds"
         },
         "target": {
          "adapter": false,
          "instance_id": "70f77454-812c-4339-82e3-9b5572974bbf",
          "name": "in_ds"
         }
        }
       ],
       "id": "ff9c820f-5ae4-48f5-8f70-f60a9ccae3e6",
       "instances": [
        {
         "block_class": "5962d55f-737e-4d8c-bc99-9324b13553a0",
         "id": "70f77454-812c-4339-82e3-9b5572974bbf",
         "name": "STDOut_1",
         "var_names": [
          "std_out"
         ]
        },
        {
         "block_class": "49c8a24d-f402-4aa0-8e14-757c545a4984",
         "id": "b573b7c4-5af5-4ec7-a0b3-89686b379832",
         "name": "STDIn_1",
         "var_names": [
          "std_in"
         ]
        }
       ],
       "name": "series_kafka_transport",
       "var_names": []
      },
      "image/svg+xml": [
       "<?xml version=\"1.0\" encoding=\"UTF-8\" standalone=\"no\"?>\n",
       "<!DOCTYPE svg PUBLIC \"-//W3C//DTD SVG 1.1//EN\"\n",
       " \"http://www.w3.org/Graphics/SVG/1.1/DTD/svg11.dtd\">\n",
       "<!-- Generated by graphviz version 2.43.0 (0)\n",
       " -->\n",
       "<!-- Title: %3 Pages: 1 -->\n",
       "<svg width=\"146pt\" height=\"127pt\"\n",
       " viewBox=\"0.00 0.00 145.70 127.00\" xmlns=\"http://www.w3.org/2000/svg\" xmlns:xlink=\"http://www.w3.org/1999/xlink\">\n",
       "<g id=\"graph0\" class=\"graph\" transform=\"scale(1 1) rotate(0) translate(4 123)\">\n",
       "<title>%3</title>\n",
       "<polygon fill=\"white\" stroke=\"transparent\" points=\"-4,4 -4,-123 141.7,-123 141.7,4 -4,4\"/>\n",
       "<!-- STDOut(&#39;STDOut_1&#39;) -->\n",
       "<g id=\"node1\" class=\"node\">\n",
       "<title>STDOut(&#39;STDOut_1&#39;)</title>\n",
       "<ellipse fill=\"none\" stroke=\"black\" cx=\"67.7\" cy=\"-18\" rx=\"67.89\" ry=\"18\"/>\n",
       "<text text-anchor=\"middle\" x=\"67.7\" y=\"-15.5\" font-family=\"Helvetica,sans-Serif\" font-size=\"10.00\">STDOut(&#39;STDOut_1&#39;)</text>\n",
       "</g>\n",
       "<!-- STDIn(&#39;STDIn_1&#39;) -->\n",
       "<g id=\"node2\" class=\"node\">\n",
       "<title>STDIn(&#39;STDIn_1&#39;)</title>\n",
       "<ellipse fill=\"none\" stroke=\"black\" cx=\"67.7\" cy=\"-101\" rx=\"57.88\" ry=\"18\"/>\n",
       "<text text-anchor=\"middle\" x=\"67.7\" y=\"-98.5\" font-family=\"Helvetica,sans-Serif\" font-size=\"10.00\">STDIn(&#39;STDIn_1&#39;)</text>\n",
       "</g>\n",
       "<!-- STDIn(&#39;STDIn_1&#39;)&#45;&gt;STDOut(&#39;STDOut_1&#39;) -->\n",
       "<g id=\"edge1\" class=\"edge\">\n",
       "<title>STDIn(&#39;STDIn_1&#39;)&#45;&gt;STDOut(&#39;STDOut_1&#39;)</title>\n",
       "<path fill=\"none\" stroke=\"black\" d=\"M67.7,-82.82C67.7,-72.19 67.7,-58.31 67.7,-46.2\"/>\n",
       "<polygon fill=\"black\" stroke=\"black\" points=\"71.2,-46.15 67.7,-36.15 64.2,-46.15 71.2,-46.15\"/>\n",
       "<text text-anchor=\"middle\" x=\"102.7\" y=\"-57\" font-family=\"Helvetica,sans-Serif\" font-size=\"10.00\">out_ds&#45;&gt;in_ds</text>\n",
       "</g>\n",
       "</g>\n",
       "</svg>\n"
      ],
      "text/plain": [
       "<razor.flow.pipeline.Pipeline at 0x7f83c8ba3610>"
      ]
     },
     "execution_count": 4,
     "metadata": {},
     "output_type": "execute_result"
    }
   ],
   "source": [
    "config = {'cores': 1, 'ram': 4096}\n",
    "records = 100\n",
    "size = '10MB'\n",
    "ip_filename = project_space_path(\"sdk_testbench/input_data/file\" + size + \".txt\")\n",
    "op_filename = project_space_path(\"sdk_testbench/output_data/tc_05.txt\")\n",
    "\n",
    "std_in = STDIn(records=records, filename=ip_filename)\n",
    "# std_in.executor = rf.ContainerExecutor(cores=config['cores'], memory=config['ram'])\n",
    "# std_in.out_ds = rf.Output.set(transport=rf.SocketTransport)\n",
    "\n",
    "std_out = STDOut(in_ds=std_in.out_ds, out_filename=op_filename)\n",
    "# std_out.executor = rf.ContainerExecutor(cores=config['cores'], memory=config['ram'])\n",
    "\n",
    "pipeline = rf.Pipeline(name='series_kafka_transport', targets=[std_out])\n",
    "pipeline\n"
   ]
  },
  {
   "cell_type": "code",
   "execution_count": 5,
   "metadata": {},
   "outputs": [
    {
     "data": {
      "application/vnd.razorthink.run+monitor+json": "/tmp/tmpgl33jx9r/series_kafka_transport",
      "text/plain": [
       "<razor_tools.backend.ipython.mime.run_monitor.RunMonitor at 0x7f83b31bdfd0>"
      ]
     },
     "metadata": {
      "application/vnd.razorthink.run+monitor+json": {
       "run_data": {
        "apm": [
         {
          "cpu_percent": 0,
          "cpu_time": 0,
          "name": "STDOut_1",
          "real_mem": 148365312,
          "time": 1614949805.3286142
         },
         {
          "cpu_percent": 0,
          "cpu_time": 0,
          "name": "STDIn_1",
          "real_mem": 148434944,
          "time": 1614949805.3401055
         },
         {
          "cpu_percent": 0,
          "cpu_time": 0,
          "name": "STDOut_1",
          "real_mem": 148365312,
          "time": 1614949805.451787
         },
         {
          "cpu_percent": 0,
          "cpu_time": 0,
          "name": "STDIn_1",
          "real_mem": 148434944,
          "time": 1614949805.4629953
         },
         {
          "cpu_percent": 0,
          "cpu_time": 0.01,
          "name": "STDOut_1",
          "real_mem": 150745088,
          "time": 1614949805.574705
         },
         {
          "cpu_percent": 0,
          "cpu_time": 0.02,
          "name": "STDIn_1",
          "real_mem": 151080960,
          "time": 1614949805.5860753
         },
         {
          "cpu_percent": 0,
          "cpu_time": 0.01,
          "name": "STDOut_1",
          "real_mem": 150745088,
          "time": 1614949805.6977942
         },
         {
          "cpu_percent": 0,
          "cpu_time": 0.03,
          "name": "STDIn_1",
          "real_mem": 151490560,
          "time": 1614949805.709022
         },
         {
          "cpu_percent": 0,
          "cpu_time": 0.01,
          "name": "STDOut_1",
          "real_mem": 150745088,
          "time": 1614949805.8208387
         },
         {
          "cpu_percent": 0,
          "cpu_time": 0.03,
          "name": "STDIn_1",
          "real_mem": 151490560,
          "time": 1614949805.8320925
         },
         {
          "cpu_percent": 0,
          "cpu_time": 0.01,
          "name": "STDOut_1",
          "real_mem": 150745088,
          "time": 1614949805.9441178
         },
         {
          "cpu_percent": 0,
          "cpu_time": 0.04,
          "name": "STDIn_1",
          "real_mem": 155414528,
          "time": 1614949805.9558437
         },
         {
          "cpu_percent": 0,
          "cpu_time": 0.01,
          "name": "STDOut_1",
          "real_mem": 150745088,
          "time": 1614949806.0675147
         },
         {
          "cpu_percent": 98.6,
          "cpu_time": 0.06,
          "name": "STDIn_1",
          "real_mem": 164331520,
          "time": 1614949806.0789535
         },
         {
          "cpu_percent": 196.3,
          "cpu_time": 0.07,
          "name": "STDOut_1",
          "real_mem": 189997056,
          "time": 1614949806.190681
         },
         {
          "cpu_percent": 98.6,
          "cpu_time": 0.2,
          "name": "STDIn_1",
          "real_mem": 183463936,
          "time": 1614949806.2021337
         },
         {
          "cpu_percent": 98.7,
          "cpu_time": 0.17,
          "name": "STDOut_1",
          "real_mem": 237846528,
          "time": 1614949806.3138506
         },
         {
          "cpu_percent": 40.3,
          "cpu_time": 0.3,
          "name": "STDIn_1",
          "real_mem": 184004608,
          "time": 1614949806.3398468
         },
         {
          "cpu_percent": 98.6,
          "cpu_time": 0.26,
          "name": "STDOut_1",
          "real_mem": 276504576,
          "time": 1614949806.4514568
         },
         {
          "cpu_percent": 98.8,
          "cpu_time": 0.43,
          "name": "STDIn_1",
          "real_mem": 204099584,
          "time": 1614949806.462687
         },
         {
          "cpu_percent": 0,
          "cpu_time": 0.35,
          "name": "STDOut_1",
          "real_mem": 315162624,
          "time": 1614949806.5743618
         },
         {
          "cpu_percent": 98.7,
          "cpu_time": 0.55,
          "name": "STDIn_1",
          "real_mem": 180584448,
          "time": 1614949806.5856223
         },
         {
          "cpu_percent": 97.8,
          "cpu_time": 0.45,
          "name": "STDOut_1",
          "real_mem": 363823104,
          "time": 1614949806.6984081
         },
         {
          "cpu_percent": 97.8,
          "cpu_time": 0.67,
          "name": "STDIn_1",
          "real_mem": 199774208,
          "time": 1614949806.7106032
         },
         {
          "cpu_percent": 0,
          "cpu_time": 0.55,
          "name": "STDOut_1",
          "real_mem": 402481152,
          "time": 1614949806.822383
         },
         {
          "cpu_percent": 98.8,
          "cpu_time": 0.8,
          "name": "STDIn_1",
          "real_mem": 190222336,
          "time": 1614949806.833586
         },
         {
          "cpu_percent": 98.2,
          "cpu_time": 0.63,
          "name": "STDOut_1",
          "real_mem": 450060288,
          "time": 1614949806.9502146
         },
         {
          "cpu_percent": 98.3,
          "cpu_time": 0.92,
          "name": "STDIn_1",
          "real_mem": 194097152,
          "time": 1614949806.961992
         },
         {
          "cpu_percent": 98.7,
          "cpu_time": 0.73,
          "name": "STDOut_1",
          "real_mem": 485474304,
          "time": 1614949807.0735993
         },
         {
          "cpu_percent": 98.7,
          "cpu_time": 1.05,
          "name": "STDIn_1",
          "real_mem": 186707968,
          "time": 1614949807.084846
         },
         {
          "cpu_percent": 0,
          "cpu_time": 0.82,
          "name": "STDOut_1",
          "real_mem": 518725632,
          "time": 1614949807.1965501
         },
         {
          "cpu_percent": 197.8,
          "cpu_time": 1.17,
          "name": "STDIn_1",
          "real_mem": 190226432,
          "time": 1614949807.207716
         },
         {
          "cpu_percent": 98.3,
          "cpu_time": 0.94,
          "name": "STDOut_1",
          "real_mem": 567386112,
          "time": 1614949807.3195395
         },
         {
          "cpu_percent": 196.9,
          "cpu_time": 1.3,
          "name": "STDIn_1",
          "real_mem": 177250304,
          "time": 1614949807.3503191
         },
         {
          "cpu_percent": 98.6,
          "cpu_time": 1.04,
          "name": "STDOut_1",
          "real_mem": 630374400,
          "time": 1614949807.4625587
         },
         {
          "cpu_percent": 197.4,
          "cpu_time": 1.42,
          "name": "STDIn_1",
          "real_mem": 206807040,
          "time": 1614949807.473773
         },
         {
          "cpu_percent": 0,
          "cpu_time": 1.12,
          "name": "STDOut_1",
          "real_mem": 666599424,
          "time": 1614949807.585697
         },
         {
          "cpu_percent": 98.6,
          "cpu_time": 1.53,
          "name": "STDIn_1",
          "real_mem": 185450496,
          "time": 1614949807.5969496
         },
         {
          "cpu_percent": 98.6,
          "cpu_time": 1.23,
          "name": "STDOut_1",
          "real_mem": 716881920,
          "time": 1614949807.7087402
         },
         {
          "cpu_percent": 98.7,
          "cpu_time": 1.66,
          "name": "STDIn_1",
          "real_mem": 208158720,
          "time": 1614949807.7199461
         },
         {
          "cpu_percent": 98.6,
          "cpu_time": 1.32,
          "name": "STDOut_1",
          "real_mem": 760946688,
          "time": 1614949807.8316877
         },
         {
          "cpu_percent": 163.4,
          "cpu_time": 1.79,
          "name": "STDIn_1",
          "real_mem": 193560576,
          "time": 1614949807.8522236
         },
         {
          "cpu_percent": 98.3,
          "cpu_time": 1.42,
          "name": "STDOut_1",
          "real_mem": 802308096,
          "time": 1614949807.964404
         },
         {
          "cpu_percent": 97.7,
          "cpu_time": 1.9,
          "name": "STDIn_1",
          "real_mem": 208429056,
          "time": 1614949807.976195
         },
         {
          "cpu_percent": 98.5,
          "cpu_time": 1.51,
          "name": "STDOut_1",
          "real_mem": 857456640,
          "time": 1614949808.0879273
         },
         {
          "cpu_percent": 98.5,
          "cpu_time": 2.02,
          "name": "STDIn_1",
          "real_mem": 197890048,
          "time": 1614949808.0992186
         },
         {
          "cpu_percent": 98.6,
          "cpu_time": 1.62,
          "name": "STDOut_1",
          "real_mem": 902602752,
          "time": 1614949808.2110326
         },
         {
          "cpu_percent": 0,
          "cpu_time": 2.15,
          "name": "STDIn_1",
          "real_mem": 188157952,
          "time": 1614949808.2222643
         },
         {
          "cpu_percent": 98,
          "cpu_time": 1.71,
          "name": "STDOut_1",
          "real_mem": 949100544,
          "time": 1614949808.3505602
         },
         {
          "cpu_percent": 98.6,
          "cpu_time": 2.28,
          "name": "STDIn_1",
          "real_mem": 202756096,
          "time": 1614949808.3618035
         },
         {
          "cpu_percent": 0,
          "cpu_time": 1.79,
          "name": "STDOut_1",
          "real_mem": 983703552,
          "time": 1614949808.4735122
         },
         {
          "cpu_percent": 197.4,
          "cpu_time": 2.4,
          "name": "STDIn_1",
          "real_mem": 180592640,
          "time": 1614949808.484703
         },
         {
          "cpu_percent": 98.7,
          "cpu_time": 1.9,
          "name": "STDOut_1",
          "real_mem": 1037230080,
          "time": 1614949808.596312
         },
         {
          "cpu_percent": 98.4,
          "cpu_time": 2.54,
          "name": "STDIn_1",
          "real_mem": 206811136,
          "time": 1614949808.6075864
         },
         {
          "cpu_percent": 195.8,
          "cpu_time": 1.99,
          "name": "STDOut_1",
          "real_mem": 1080483840,
          "time": 1614949808.7193604
         },
         {
          "cpu_percent": 106.5,
          "cpu_time": 2.67,
          "name": "STDIn_1",
          "real_mem": 193294336,
          "time": 1614949808.7398477
         },
         {
          "cpu_percent": 98.3,
          "cpu_time": 2.09,
          "name": "STDOut_1",
          "real_mem": 1129144320,
          "time": 1614949808.852188
         },
         {
          "cpu_percent": 98.7,
          "cpu_time": 2.78,
          "name": "STDIn_1",
          "real_mem": 174551040,
          "time": 1614949808.8633943
         },
         {
          "cpu_percent": 0,
          "cpu_time": 2.17,
          "name": "STDOut_1",
          "real_mem": 327118848,
          "time": 1614949808.9749472
         },
         {
          "cpu_percent": 0,
          "cpu_time": 2.8,
          "name": "STDIn_1",
          "real_mem": 172290048,
          "time": 1614949808.9861796
         },
         {
          "cpu_percent": 0,
          "cpu_time": 2.18,
          "name": "STDOut_1",
          "real_mem": 327520256,
          "time": 1614949809.0980244
         },
         {
          "cpu_percent": 0,
          "cpu_time": 2.18,
          "name": "STDOut_1",
          "real_mem": 327520256,
          "time": 1614949809.2098918
         },
         {
          "cpu_percent": 0,
          "cpu_time": 2.18,
          "name": "STDOut_1",
          "real_mem": 327520256,
          "time": 1614949809.321602
         },
         {
          "cpu_percent": 0,
          "cpu_time": 2.18,
          "name": "STDOut_1",
          "real_mem": 327520256,
          "time": 1614949809.4334247
         },
         {
          "cpu_percent": 0,
          "cpu_time": 2.18,
          "name": "STDOut_1",
          "real_mem": 327520256,
          "time": 1614949809.545152
         },
         {
          "cpu_percent": 0,
          "cpu_time": 2.18,
          "name": "STDOut_1",
          "real_mem": 327520256,
          "time": 1614949809.6568377
         },
         {
          "cpu_percent": 0,
          "cpu_time": 2.2,
          "name": "STDOut_1",
          "real_mem": 337125376,
          "time": 1614949809.7684948
         },
         {
          "cpu_percent": 0,
          "cpu_time": 2.2,
          "name": "STDOut_1",
          "real_mem": 337125376,
          "time": 1614949809.8802724
         },
         {
          "cpu_percent": 0,
          "cpu_time": 2.2,
          "name": "STDOut_1",
          "real_mem": 337125376,
          "time": 1614949809.9922075
         },
         {
          "cpu_percent": 0,
          "cpu_time": 2.2,
          "name": "STDOut_1",
          "real_mem": 337125376,
          "time": 1614949810.1041248
         },
         {
          "cpu_percent": 0,
          "cpu_time": 2.2,
          "name": "STDOut_1",
          "real_mem": 337125376,
          "time": 1614949810.2156618
         },
         {
          "cpu_percent": 0,
          "cpu_time": 2.21,
          "name": "STDOut_1",
          "real_mem": 337125376,
          "time": 1614949810.3272765
         }
        ],
        "logs": [
         {
          "asctime": "2021-03-05 13:10:04,535",
          "exc_info": null,
          "extra": {},
          "filename": "pipeline.py",
          "funcName": "_log_manager",
          "levelname": "INFO",
          "lineno": 413,
          "message": "writing logs to: /tmp/tmpgl33jx9r/series_kafka_transport",
          "name": "razor.flow.pipeline:series_kafka_transport",
          "pathname": "/usr/local/lib/python3.7/dist-packages/razor/flow/pipeline.py",
          "process": 3018,
          "processName": "MainProcess",
          "thread": 140206034962240,
          "threadName": "MainThread"
         }
        ],
        "meta": {
         "block_status": {
          "STDIn_1": "SUCCESS",
          "STDOut_1": "SUCCESS"
         },
         "blocks": [
          {
           "class_name": "STDIn",
           "fullname": ".STDIn",
           "id": "49c8a24d-f402-4aa0-8e14-757c545a4984",
           "inputs": [
            {
             "dataType": "string",
             "default": "",
             "flow": "atomic",
             "help": null,
             "isdict": false,
             "islist": false,
             "label": "filename",
             "meta": {},
             "name": "filename",
             "series": false,
             "type": "str",
             "type_check": true
            },
            {
             "dataType": "integer",
             "default": 0,
             "flow": "atomic",
             "help": null,
             "isdict": false,
             "islist": false,
             "label": "records",
             "meta": {},
             "name": "records",
             "series": false,
             "type": "int",
             "type_check": true
            }
           ],
           "outputs": [
            {
             "flow": "series",
             "help": null,
             "label": "out_ds",
             "meta": {},
             "name": "out_ds",
             "series": true,
             "type": "Any",
             "type_check": true
            }
           ],
           "overwritten": false,
           "published": false,
           "var_names": [
            "STDIn"
           ]
          },
          {
           "class_name": "STDOut",
           "fullname": ".STDOut",
           "id": "5962d55f-737e-4d8c-bc99-9324b13553a0",
           "inputs": [
            {
             "dataType": null,
             "default": null,
             "flow": "series",
             "help": null,
             "isdict": false,
             "islist": false,
             "label": "in_ds",
             "meta": {},
             "name": "in_ds",
             "series": true,
             "type": "Any",
             "type_check": true
            },
            {
             "dataType": "string",
             "default": "",
             "flow": "atomic",
             "help": null,
             "isdict": false,
             "islist": false,
             "label": "out_filename",
             "meta": {},
             "name": "out_filename",
             "series": false,
             "type": "str",
             "type_check": true
            }
           ],
           "outputs": [],
           "overwritten": false,
           "published": false,
           "var_names": [
            "STDOut"
           ]
          }
         ],
         "connections": [
          {
           "id": "a1a2b7e1-de57-4637-b4d1-4b4cddfd9091",
           "source": {
            "adapter": false,
            "instance_id": "b573b7c4-5af5-4ec7-a0b3-89686b379832",
            "name": "out_ds"
           },
           "target": {
            "adapter": false,
            "instance_id": "70f77454-812c-4339-82e3-9b5572974bbf",
            "name": "in_ds"
           }
          }
         ],
         "end": 1614949810.3759387,
         "id": "ff9c820f-5ae4-48f5-8f70-f60a9ccae3e6",
         "instances": [
          {
           "block_class": "5962d55f-737e-4d8c-bc99-9324b13553a0",
           "id": "70f77454-812c-4339-82e3-9b5572974bbf",
           "name": "STDOut_1",
           "var_names": [
            "std_out"
           ]
          },
          {
           "block_class": "49c8a24d-f402-4aa0-8e14-757c545a4984",
           "id": "b573b7c4-5af5-4ec7-a0b3-89686b379832",
           "name": "STDIn_1",
           "var_names": [
            "std_in"
           ]
          }
         ],
         "log_level": 20,
         "name": "series_kafka_transport",
         "start": 1614949804.787946,
         "status": "SUCCESS",
         "system_logs": true,
         "var_names": []
        },
        "metrics": {},
        "runtime": {
         "STDIn_1": {
          "end": 1614949808.8841808,
          "load": 1614949805.311802,
          "start": 1614949805.5304403
         },
         "STDOut_1": {
          "end": 1614949810.1851532,
          "load": 1614949805.3046587,
          "start": 1614949805.5288568
         }
        }
       },
       "store_in_notebook": true
      }
     },
     "output_type": "display_data"
    },
    {
     "data": {
      "text/plain": [
       "<Process(Pipeline Manager('series_kafka_transport'), stopped)>"
      ]
     },
     "execution_count": 5,
     "metadata": {},
     "output_type": "execute_result"
    }
   ],
   "source": [
    "pipeline.execute()"
   ]
  },
  {
   "cell_type": "code",
   "execution_count": null,
   "metadata": {},
   "outputs": [],
   "source": []
  },
  {
   "cell_type": "code",
   "execution_count": null,
   "metadata": {},
   "outputs": [],
   "source": []
  }
 ],
 "metadata": {
  "kernelspec": {
   "display_name": "Python 3",
   "language": "python",
   "name": "python3"
  },
  "language_info": {
   "codemirror_mode": {
    "name": "ipython",
    "version": 3
   },
   "file_extension": ".py",
   "mimetype": "text/x-python",
   "name": "python",
   "nbconvert_exporter": "python",
   "pygments_lexer": "ipython3",
   "version": "3.7.10"
  }
 },
 "nbformat": 4,
 "nbformat_minor": 4
}
