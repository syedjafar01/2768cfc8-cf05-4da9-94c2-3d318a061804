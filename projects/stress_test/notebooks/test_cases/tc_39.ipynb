{
 "cells": [
  {
   "cell_type": "code",
   "execution_count": 1,
   "metadata": {},
   "outputs": [],
   "source": [
    "import numpy as np\n",
    "import logging\n",
    "import typing as t\n"
   ]
  },
  {
   "cell_type": "code",
   "execution_count": 2,
   "metadata": {},
   "outputs": [],
   "source": [
    "import razor.flow as rf\n",
    "from razor.api import datasources, project_space_path\n"
   ]
  },
  {
   "cell_type": "code",
   "execution_count": 3,
   "metadata": {},
   "outputs": [],
   "source": [
    "# sftp_client = rf.datasources(\"system_test_files\").client()"
   ]
  },
  {
   "cell_type": "code",
   "execution_count": 4,
   "metadata": {},
   "outputs": [],
   "source": [
    "config = {'cpu': 1, 'ram': 4048}"
   ]
  },
  {
   "cell_type": "code",
   "execution_count": 5,
   "metadata": {},
   "outputs": [],
   "source": [
    "# logger=logging.getLogger()\n",
    "\n",
    "# @rf.block(executor=rf.ProcessExecutor)\n",
    "# class GenerateData:\n",
    "#     filename: t.Any\n",
    "#     out_filename: rf.Output[t.Any]\n",
    "        \n",
    "#     def run(self):\n",
    "#         sftp_client = datasources(\"system_test_files\").client()\n",
    "#         with sftp_client.open(self.filename, 'w') as f:\n",
    "#             f.write('1'+'\\n')\n",
    "#             f.write('2'+'\\n')\n",
    "#             f.write('2'+'\\n')\n",
    "#             f.write('4'+'\\n')\n",
    "#             f.write('5')\n",
    "#         self.out_filename.put(self.filename)\n",
    "            \n"
   ]
  },
  {
   "cell_type": "code",
   "execution_count": 6,
   "metadata": {},
   "outputs": [],
   "source": [
    "@rf.block(executor=rf.ProcessExecutor)\n",
    "class STDIn:\n",
    "    filename: t.Any\n",
    "    a: rf.Output[t.Any] = rf.Output(transport=rf.FileTransport)\n",
    "    b: rf.Output[t.Any] = rf.Output(transport=rf.FileTransport)\n",
    "    c: rf.Output[t.Any] = rf.Output(transport=rf.FileTransport)\n",
    "    d: rf.Output[t.Any] = rf.Output(transport=rf.KafkaTransport)\n",
    "    e: rf.Output[t.Any] = rf.Output(transport=rf.KafkaTransport)\n",
    "        \n",
    "    def run(self):\n",
    "        with open(project_space_path(self.filename), 'r') as f:\n",
    "            lines = f.readlines()\n",
    "        \n",
    "        self.a.put(int(lines[0]))\n",
    "        self.b.put(int(lines[1]))\n",
    "        self.c.put(int(lines[2]))\n",
    "        self.d.put(int(lines[3]))\n",
    "        self.e.put(int(lines[4]))\n",
    "        "
   ]
  },
  {
   "cell_type": "code",
   "execution_count": 7,
   "metadata": {},
   "outputs": [],
   "source": [
    "@rf.block(executor=rf.ProcessExecutor)\n",
    "class Add1:\n",
    "    input_1: t.Any\n",
    "    input_2: t.Any\n",
    "    sum_output: rf.Output[t.Any] = rf.Output(transport=rf.FileTransport)\n",
    "        \n",
    "    def run(self):\n",
    "        self.logger.info('Running Add block')\n",
    "        self.logger.info(f'input_1 :{self.input_1}')\n",
    "        self.logger.info(f'input_2 :{self.input_2}')\n",
    "        self.sum_output.put((self.input_1 + self.input_2))\n",
    "        "
   ]
  },
  {
   "cell_type": "code",
   "execution_count": 8,
   "metadata": {},
   "outputs": [],
   "source": [
    "@rf.block(executor=rf.ProcessExecutor)\n",
    "class Add2:\n",
    "    input_1: t.Any\n",
    "    input_2: t.Any\n",
    "    sum_output: rf.Output[t.Any] = rf.Output(transport=rf.KafkaTransport)\n",
    "    \n",
    "    def run(self):\n",
    "        self.logger.info('Running Add block')\n",
    "        self.logger.info(f'input_1 :{self.input_1}')\n",
    "        self.logger.info(f'input_2 :{self.input_2}')\n",
    "        self.sum_output.put((self.input_1 + self.input_2))\n",
    "        "
   ]
  },
  {
   "cell_type": "code",
   "execution_count": 9,
   "metadata": {},
   "outputs": [],
   "source": [
    "@rf.block(executor=rf.ProcessExecutor)\n",
    "class Multiply1:\n",
    "    input_sum: t.Any\n",
    "    input_multiplier: t.Any\n",
    "    output_mul: rf.Output[t.Any] = rf.Output(transport=rf.KafkaTransport)\n",
    "    \n",
    "    def run(self):\n",
    "        self.logger.info('Running Multiply block')\n",
    "        self.logger.info(f'input_sum :{self.input_sum}')\n",
    "        self.logger.info(f'input_multiplier :{self.input_multiplier}')\n",
    "        self.output_mul.put((self.input_sum * self.input_multiplier))\n",
    "        \n",
    "        "
   ]
  },
  {
   "cell_type": "code",
   "execution_count": 10,
   "metadata": {},
   "outputs": [],
   "source": [
    "@rf.block(executor=rf.ProcessExecutor)\n",
    "class Multiply2:\n",
    "    input_sum: t.Any\n",
    "    input_multiplier: t.Any\n",
    "    out_file_name: t.Any\n",
    "    \n",
    "    def run(self):\n",
    "        self.logger.info('Running Multiply block')\n",
    "        self.logger.info(f'input_sum :{self.input_sum}')\n",
    "        self.logger.info(f'input_multiplier :{self.input_multiplier}')\n",
    "        result=self.input_sum * self.input_multiplier\n",
    "        self.logger.info(f'result :{result}')\n",
    "        print(\"$$\", result)\n",
    "        with open(project_space_path(self.out_file_name), 'w') as file:\n",
    "            file.write(str(result))\n",
    "        \n",
    "        "
   ]
  },
  {
   "cell_type": "code",
   "execution_count": 11,
   "metadata": {},
   "outputs": [],
   "source": [
    "fname = \"/data/sdk_testbench/executor_transport_test/integer_data.txt\"\n",
    "output_filename = \"/data/sdk_testbench/executor_transport_test/tc_39_out.txt\"\n",
    "\n",
    "\n",
    "# generate_data = GenerateData(filename=fname)\n",
    "\n",
    "stdin = STDIn(filename=fname)\n",
    "\n",
    "add1 = Add1(input_1=stdin.a, input_2=stdin.b)\n",
    "#         .sum_output(transport=SocketTransport)\n",
    "\n",
    "\n",
    "add2 = Add2(input_1=stdin.c, input_2=add1.sum_output)\n",
    "#         .sum_output(transport=SocketTransport)\n",
    "\n",
    "\n",
    "mul1 = Multiply1(input_sum=add2.sum_output, input_multiplier=stdin.d)\n",
    "#         .output_mul(transport=SocketTransport)\n",
    "\n",
    "\n",
    "mul2 = Multiply2(input_sum=mul1.output_mul, input_multiplier=stdin.e, out_file_name=output_filename)\n",
    "\n",
    "\n"
   ]
  },
  {
   "cell_type": "code",
   "execution_count": 12,
   "metadata": {},
   "outputs": [
    {
     "data": {
      "application/vnd.razorthink.interactive+pipeline+view+json": {
       "blocks": [
        {
         "class_name": "Multiply1",
         "id": "8833825a-eb1c-4e5c-b0b4-fb71c9824bf8",
         "inputs": [
          {
           "default": null,
           "flow": "atomic",
           "help": null,
           "label": "input_sum",
           "name": "input_sum",
           "series": false,
           "type": "Any",
           "type_check": true
          },
          {
           "default": null,
           "flow": "atomic",
           "help": null,
           "label": "input_multiplier",
           "name": "input_multiplier",
           "series": false,
           "type": "Any",
           "type_check": true
          }
         ],
         "outputs": [
          {
           "flow": "atomic",
           "help": null,
           "label": "output_mul",
           "name": "output_mul",
           "series": false,
           "type": "Any",
           "type_check": true
          }
         ],
         "overwritten": false,
         "var_names": [
          "Multiply1"
         ]
        },
        {
         "class_name": "Add2",
         "id": "96c967e6-f8ea-43f6-b0a5-357398af713b",
         "inputs": [
          {
           "default": null,
           "flow": "atomic",
           "help": null,
           "label": "input_1",
           "name": "input_1",
           "series": false,
           "type": "Any",
           "type_check": true
          },
          {
           "default": null,
           "flow": "atomic",
           "help": null,
           "label": "input_2",
           "name": "input_2",
           "series": false,
           "type": "Any",
           "type_check": true
          }
         ],
         "outputs": [
          {
           "flow": "atomic",
           "help": null,
           "label": "sum_output",
           "name": "sum_output",
           "series": false,
           "type": "Any",
           "type_check": true
          }
         ],
         "overwritten": false,
         "var_names": [
          "Add2"
         ]
        },
        {
         "class_name": "Add1",
         "id": "b086c74a-2cae-469a-a150-4c72cf12369d",
         "inputs": [
          {
           "default": null,
           "flow": "atomic",
           "help": null,
           "label": "input_1",
           "name": "input_1",
           "series": false,
           "type": "Any",
           "type_check": true
          },
          {
           "default": null,
           "flow": "atomic",
           "help": null,
           "label": "input_2",
           "name": "input_2",
           "series": false,
           "type": "Any",
           "type_check": true
          }
         ],
         "outputs": [
          {
           "flow": "atomic",
           "help": null,
           "label": "sum_output",
           "name": "sum_output",
           "series": false,
           "type": "Any",
           "type_check": true
          }
         ],
         "overwritten": false,
         "var_names": [
          "Add1"
         ]
        },
        {
         "class_name": "STDIn",
         "id": "6e91d281-0d21-45c4-a421-fd2773f65a14",
         "inputs": [
          {
           "default": null,
           "flow": "atomic",
           "help": null,
           "label": "filename",
           "name": "filename",
           "series": false,
           "type": "Any",
           "type_check": true
          }
         ],
         "outputs": [
          {
           "flow": "atomic",
           "help": null,
           "label": "a",
           "name": "a",
           "series": false,
           "type": "Any",
           "type_check": true
          },
          {
           "flow": "atomic",
           "help": null,
           "label": "b",
           "name": "b",
           "series": false,
           "type": "Any",
           "type_check": true
          },
          {
           "flow": "atomic",
           "help": null,
           "label": "c",
           "name": "c",
           "series": false,
           "type": "Any",
           "type_check": true
          },
          {
           "flow": "atomic",
           "help": null,
           "label": "d",
           "name": "d",
           "series": false,
           "type": "Any",
           "type_check": true
          },
          {
           "flow": "atomic",
           "help": null,
           "label": "e",
           "name": "e",
           "series": false,
           "type": "Any",
           "type_check": true
          }
         ],
         "overwritten": false,
         "var_names": [
          "STDIn"
         ]
        },
        {
         "class_name": "Multiply2",
         "id": "5356b836-45fe-4d1a-bce0-1bdd605d28c8",
         "inputs": [
          {
           "default": null,
           "flow": "atomic",
           "help": null,
           "label": "input_sum",
           "name": "input_sum",
           "series": false,
           "type": "Any",
           "type_check": true
          },
          {
           "default": null,
           "flow": "atomic",
           "help": null,
           "label": "input_multiplier",
           "name": "input_multiplier",
           "series": false,
           "type": "Any",
           "type_check": true
          },
          {
           "default": null,
           "flow": "atomic",
           "help": null,
           "label": "out_file_name",
           "name": "out_file_name",
           "series": false,
           "type": "Any",
           "type_check": true
          }
         ],
         "outputs": [],
         "overwritten": false,
         "var_names": [
          "Multiply2"
         ]
        }
       ],
       "connections": [
        {
         "id": "9b012750-e005-499f-8a3f-dec5c352ebeb",
         "source": {
          "adapter": false,
          "instance_id": "a248a929-a158-4149-baec-ca2a47ee787e",
          "name": "c"
         },
         "target": {
          "adapter": false,
          "instance_id": "1b4d46c1-83d4-4405-a6e6-ba6cefd21dde",
          "name": "input_1"
         }
        },
        {
         "id": "4d3b7bf1-48ee-444a-8bf8-bf981adabe30",
         "source": {
          "adapter": false,
          "instance_id": "a248a929-a158-4149-baec-ca2a47ee787e",
          "name": "e"
         },
         "target": {
          "adapter": false,
          "instance_id": "3f4dc89c-e4cf-4855-84ab-a0b60b4dea9a",
          "name": "input_multiplier"
         }
        },
        {
         "id": "a56bd587-af09-499b-acd6-86c062e83eca",
         "source": {
          "adapter": false,
          "instance_id": "a248a929-a158-4149-baec-ca2a47ee787e",
          "name": "d"
         },
         "target": {
          "adapter": false,
          "instance_id": "03cb2cff-de05-449d-a62b-da64c8b4d41d",
          "name": "input_multiplier"
         }
        },
        {
         "id": "565989c6-1092-435b-a165-fce9740bb86d",
         "source": {
          "adapter": false,
          "instance_id": "a248a929-a158-4149-baec-ca2a47ee787e",
          "name": "a"
         },
         "target": {
          "adapter": false,
          "instance_id": "14ed13c1-7002-46fc-aeed-51119ea587a4",
          "name": "input_1"
         }
        },
        {
         "id": "7d89d79c-e2dd-4544-8475-3165573faa7a",
         "source": {
          "adapter": false,
          "instance_id": "03cb2cff-de05-449d-a62b-da64c8b4d41d",
          "name": "output_mul"
         },
         "target": {
          "adapter": false,
          "instance_id": "3f4dc89c-e4cf-4855-84ab-a0b60b4dea9a",
          "name": "input_sum"
         }
        },
        {
         "id": "4ba692ef-a1eb-491a-81e7-80ee632043b4",
         "source": {
          "adapter": false,
          "instance_id": "14ed13c1-7002-46fc-aeed-51119ea587a4",
          "name": "sum_output"
         },
         "target": {
          "adapter": false,
          "instance_id": "1b4d46c1-83d4-4405-a6e6-ba6cefd21dde",
          "name": "input_2"
         }
        },
        {
         "id": "42196e99-8067-4903-a330-bc0a456d5f00",
         "source": {
          "adapter": false,
          "instance_id": "1b4d46c1-83d4-4405-a6e6-ba6cefd21dde",
          "name": "sum_output"
         },
         "target": {
          "adapter": false,
          "instance_id": "03cb2cff-de05-449d-a62b-da64c8b4d41d",
          "name": "input_sum"
         }
        },
        {
         "id": "081eff13-098f-4cd6-9250-553d168d3a60",
         "source": {
          "adapter": false,
          "instance_id": "a248a929-a158-4149-baec-ca2a47ee787e",
          "name": "b"
         },
         "target": {
          "adapter": false,
          "instance_id": "14ed13c1-7002-46fc-aeed-51119ea587a4",
          "name": "input_2"
         }
        }
       ],
       "id": "42d9a076-f38f-4abb-a26d-6a448c07207a",
       "instances": [
        {
         "block_class": "5356b836-45fe-4d1a-bce0-1bdd605d28c8",
         "id": "3f4dc89c-e4cf-4855-84ab-a0b60b4dea9a",
         "name": "Multiply2_1",
         "var_names": [
          "mul2"
         ]
        },
        {
         "block_class": "8833825a-eb1c-4e5c-b0b4-fb71c9824bf8",
         "id": "03cb2cff-de05-449d-a62b-da64c8b4d41d",
         "name": "Multiply1_1",
         "var_names": [
          "mul1"
         ]
        },
        {
         "block_class": "96c967e6-f8ea-43f6-b0a5-357398af713b",
         "id": "1b4d46c1-83d4-4405-a6e6-ba6cefd21dde",
         "name": "Add2_1",
         "var_names": [
          "add2"
         ]
        },
        {
         "block_class": "6e91d281-0d21-45c4-a421-fd2773f65a14",
         "id": "a248a929-a158-4149-baec-ca2a47ee787e",
         "name": "STDIn_1",
         "var_names": [
          "stdin"
         ]
        },
        {
         "block_class": "b086c74a-2cae-469a-a150-4c72cf12369d",
         "id": "14ed13c1-7002-46fc-aeed-51119ea587a4",
         "name": "Add1_1",
         "var_names": [
          "add1"
         ]
        }
       ],
       "name": "ProcessExecutor",
       "var_names": []
      },
      "image/svg+xml": [
       "<?xml version=\"1.0\" encoding=\"UTF-8\" standalone=\"no\"?>\n",
       "<!DOCTYPE svg PUBLIC \"-//W3C//DTD SVG 1.1//EN\"\n",
       " \"http://www.w3.org/Graphics/SVG/1.1/DTD/svg11.dtd\">\n",
       "<!-- Generated by graphviz version 2.43.0 (0)\n",
       " -->\n",
       "<!-- Title: %3 Pages: 1 -->\n",
       "<svg width=\"462pt\" height=\"376pt\"\n",
       " viewBox=\"0.00 0.00 461.86 376.00\" xmlns=\"http://www.w3.org/2000/svg\" xmlns:xlink=\"http://www.w3.org/1999/xlink\">\n",
       "<g id=\"graph0\" class=\"graph\" transform=\"scale(1 1) rotate(0) translate(4 372)\">\n",
       "<title>%3</title>\n",
       "<polygon fill=\"white\" stroke=\"transparent\" points=\"-4,4 -4,-372 457.86,-372 457.86,4 -4,4\"/>\n",
       "<!-- Multiply2(&#39;Multiply2_1&#39;) -->\n",
       "<g id=\"node1\" class=\"node\">\n",
       "<title>Multiply2(&#39;Multiply2_1&#39;)</title>\n",
       "<ellipse fill=\"none\" stroke=\"black\" cx=\"78.29\" cy=\"-18\" rx=\"78.08\" ry=\"18\"/>\n",
       "<text text-anchor=\"middle\" x=\"78.29\" y=\"-15.5\" font-family=\"Helvetica,sans-Serif\" font-size=\"10.00\">Multiply2(&#39;Multiply2_1&#39;)</text>\n",
       "</g>\n",
       "<!-- Multiply1(&#39;Multiply1_1&#39;) -->\n",
       "<g id=\"node2\" class=\"node\">\n",
       "<title>Multiply1(&#39;Multiply1_1&#39;)</title>\n",
       "<ellipse fill=\"none\" stroke=\"black\" cx=\"163.29\" cy=\"-101\" rx=\"78.08\" ry=\"18\"/>\n",
       "<text text-anchor=\"middle\" x=\"163.29\" y=\"-98.5\" font-family=\"Helvetica,sans-Serif\" font-size=\"10.00\">Multiply1(&#39;Multiply1_1&#39;)</text>\n",
       "</g>\n",
       "<!-- Multiply1(&#39;Multiply1_1&#39;)&#45;&gt;Multiply2(&#39;Multiply2_1&#39;) -->\n",
       "<g id=\"edge1\" class=\"edge\">\n",
       "<title>Multiply1(&#39;Multiply1_1&#39;)&#45;&gt;Multiply2(&#39;Multiply2_1&#39;)</title>\n",
       "<path fill=\"none\" stroke=\"black\" d=\"M145.68,-83.22C133.49,-71.6 117.07,-55.95 103.49,-43.02\"/>\n",
       "<polygon fill=\"black\" stroke=\"black\" points=\"105.54,-40.13 95.88,-35.76 100.71,-45.19 105.54,-40.13\"/>\n",
       "<text text-anchor=\"middle\" x=\"185.79\" y=\"-57\" font-family=\"Helvetica,sans-Serif\" font-size=\"10.00\">output_mul&#45;&gt;input_sum</text>\n",
       "</g>\n",
       "<!-- Add2(&#39;Add2_1&#39;) -->\n",
       "<g id=\"node3\" class=\"node\">\n",
       "<title>Add2(&#39;Add2_1&#39;)</title>\n",
       "<ellipse fill=\"none\" stroke=\"black\" cx=\"274.29\" cy=\"-184\" rx=\"53.64\" ry=\"18\"/>\n",
       "<text text-anchor=\"middle\" x=\"274.29\" y=\"-181.5\" font-family=\"Helvetica,sans-Serif\" font-size=\"10.00\">Add2(&#39;Add2_1&#39;)</text>\n",
       "</g>\n",
       "<!-- Add2(&#39;Add2_1&#39;)&#45;&gt;Multiply1(&#39;Multiply1_1&#39;) -->\n",
       "<g id=\"edge2\" class=\"edge\">\n",
       "<title>Add2(&#39;Add2_1&#39;)&#45;&gt;Multiply1(&#39;Multiply1_1&#39;)</title>\n",
       "<path fill=\"none\" stroke=\"black\" d=\"M252.89,-167.38C236.17,-155.18 212.72,-138.07 194,-124.41\"/>\n",
       "<polygon fill=\"black\" stroke=\"black\" points=\"195.91,-121.47 185.77,-118.4 191.79,-127.13 195.91,-121.47\"/>\n",
       "<text text-anchor=\"middle\" x=\"286.79\" y=\"-140\" font-family=\"Helvetica,sans-Serif\" font-size=\"10.00\">sum_output&#45;&gt;input_sum</text>\n",
       "</g>\n",
       "<!-- STDIn(&#39;STDIn_1&#39;) -->\n",
       "<g id=\"node4\" class=\"node\">\n",
       "<title>STDIn(&#39;STDIn_1&#39;)</title>\n",
       "<ellipse fill=\"none\" stroke=\"black\" cx=\"274.29\" cy=\"-350\" rx=\"57.88\" ry=\"18\"/>\n",
       "<text text-anchor=\"middle\" x=\"274.29\" y=\"-347.5\" font-family=\"Helvetica,sans-Serif\" font-size=\"10.00\">STDIn(&#39;STDIn_1&#39;)</text>\n",
       "</g>\n",
       "<!-- STDIn(&#39;STDIn_1&#39;)&#45;&gt;Multiply2(&#39;Multiply2_1&#39;) -->\n",
       "<g id=\"edge7\" class=\"edge\">\n",
       "<title>STDIn(&#39;STDIn_1&#39;)&#45;&gt;Multiply2(&#39;Multiply2_1&#39;)</title>\n",
       "<path fill=\"none\" stroke=\"black\" d=\"M222.72,-341.81C153.54,-330.7 39.29,-306.52 39.29,-268 39.29,-268 39.29,-268 39.29,-100 39.29,-79.91 49.15,-59.54 58.96,-44.25\"/>\n",
       "<polygon fill=\"black\" stroke=\"black\" points=\"61.92,-46.12 64.65,-35.88 56.14,-42.18 61.92,-46.12\"/>\n",
       "<text text-anchor=\"middle\" x=\"87.29\" y=\"-181.5\" font-family=\"Helvetica,sans-Serif\" font-size=\"10.00\">e&#45;&gt;input_multiplier</text>\n",
       "</g>\n",
       "<!-- STDIn(&#39;STDIn_1&#39;)&#45;&gt;Multiply1(&#39;Multiply1_1&#39;) -->\n",
       "<g id=\"edge6\" class=\"edge\">\n",
       "<title>STDIn(&#39;STDIn_1&#39;)&#45;&gt;Multiply1(&#39;Multiply1_1&#39;)</title>\n",
       "<path fill=\"none\" stroke=\"black\" d=\"M254.79,-333C231.07,-312.25 192.02,-273.65 174.29,-231 160.56,-197.98 159.65,-156.19 160.93,-129.27\"/>\n",
       "<polygon fill=\"black\" stroke=\"black\" points=\"164.43,-129.25 161.55,-119.06 157.45,-128.82 164.43,-129.25\"/>\n",
       "<text text-anchor=\"middle\" x=\"222.29\" y=\"-223\" font-family=\"Helvetica,sans-Serif\" font-size=\"10.00\">d&#45;&gt;input_multiplier</text>\n",
       "</g>\n",
       "<!-- STDIn(&#39;STDIn_1&#39;)&#45;&gt;Add2(&#39;Add2_1&#39;) -->\n",
       "<g id=\"edge3\" class=\"edge\">\n",
       "<title>STDIn(&#39;STDIn_1&#39;)&#45;&gt;Add2(&#39;Add2_1&#39;)</title>\n",
       "<path fill=\"none\" stroke=\"black\" d=\"M274.29,-331.76C274.29,-303.26 274.29,-246.12 274.29,-212.16\"/>\n",
       "<polygon fill=\"black\" stroke=\"black\" points=\"277.79,-212.01 274.29,-202.01 270.79,-212.01 277.79,-212.01\"/>\n",
       "<text text-anchor=\"middle\" x=\"301.29\" y=\"-264.5\" font-family=\"Helvetica,sans-Serif\" font-size=\"10.00\">c&#45;&gt;input_1</text>\n",
       "</g>\n",
       "<!-- Add1(&#39;Add1_1&#39;) -->\n",
       "<g id=\"node5\" class=\"node\">\n",
       "<title>Add1(&#39;Add1_1&#39;)</title>\n",
       "<ellipse fill=\"none\" stroke=\"black\" cx=\"400.29\" cy=\"-267\" rx=\"53.64\" ry=\"18\"/>\n",
       "<text text-anchor=\"middle\" x=\"400.29\" y=\"-264.5\" font-family=\"Helvetica,sans-Serif\" font-size=\"10.00\">Add1(&#39;Add1_1&#39;)</text>\n",
       "</g>\n",
       "<!-- STDIn(&#39;STDIn_1&#39;)&#45;&gt;Add1(&#39;Add1_1&#39;) -->\n",
       "<g id=\"edge4\" class=\"edge\">\n",
       "<title>STDIn(&#39;STDIn_1&#39;)&#45;&gt;Add1(&#39;Add1_1&#39;)</title>\n",
       "<path fill=\"none\" stroke=\"black\" d=\"M287.95,-332.07C296.26,-322.6 307.51,-311.1 319.29,-303 329.95,-295.67 342.39,-289.37 354.28,-284.22\"/>\n",
       "<polygon fill=\"black\" stroke=\"black\" points=\"355.75,-287.4 363.64,-280.33 353.07,-280.93 355.75,-287.4\"/>\n",
       "<text text-anchor=\"middle\" x=\"346.79\" y=\"-306\" font-family=\"Helvetica,sans-Serif\" font-size=\"10.00\">a&#45;&gt;input_1</text>\n",
       "</g>\n",
       "<!-- STDIn(&#39;STDIn_1&#39;)&#45;&gt;Add1(&#39;Add1_1&#39;) -->\n",
       "<g id=\"edge5\" class=\"edge\">\n",
       "<title>STDIn(&#39;STDIn_1&#39;)&#45;&gt;Add1(&#39;Add1_1&#39;)</title>\n",
       "<path fill=\"none\" stroke=\"black\" d=\"M322.16,-339.77C339.99,-334.5 359.48,-326.39 374.29,-314 380.72,-308.62 385.88,-301.22 389.85,-293.92\"/>\n",
       "<polygon fill=\"black\" stroke=\"black\" points=\"393.01,-295.42 394.25,-284.9 386.72,-292.36 393.01,-295.42\"/>\n",
       "<text text-anchor=\"middle\" x=\"411.79\" y=\"-306\" font-family=\"Helvetica,sans-Serif\" font-size=\"10.00\">b&#45;&gt;input_2</text>\n",
       "</g>\n",
       "<!-- Add1(&#39;Add1_1&#39;)&#45;&gt;Add2(&#39;Add2_1&#39;) -->\n",
       "<g id=\"edge8\" class=\"edge\">\n",
       "<title>Add1(&#39;Add1_1&#39;)&#45;&gt;Add2(&#39;Add2_1&#39;)</title>\n",
       "<path fill=\"none\" stroke=\"black\" d=\"M376.59,-250.76C356.79,-238.04 328.37,-219.77 306.51,-205.71\"/>\n",
       "<polygon fill=\"black\" stroke=\"black\" points=\"308.19,-202.63 297.89,-200.17 304.4,-208.52 308.19,-202.63\"/>\n",
       "<text text-anchor=\"middle\" x=\"398.29\" y=\"-223\" font-family=\"Helvetica,sans-Serif\" font-size=\"10.00\">sum_output&#45;&gt;input_2</text>\n",
       "</g>\n",
       "</g>\n",
       "</svg>\n"
      ],
      "text/plain": [
       "<razor.flow.pipeline.Pipeline at 0x7f37ef55a790>"
      ]
     },
     "execution_count": 12,
     "metadata": {},
     "output_type": "execute_result"
    }
   ],
   "source": [
    "pipeline = rf.Pipeline(name='ProcessExecutor', targets=[mul2])\n",
    "pipeline\n"
   ]
  },
  {
   "cell_type": "code",
   "execution_count": 13,
   "metadata": {},
   "outputs": [],
   "source": [
    "def create_pipeline():\n",
    "    return pipeline"
   ]
  },
  {
   "cell_type": "code",
   "execution_count": null,
   "metadata": {},
   "outputs": [],
   "source": []
  },
  {
   "cell_type": "code",
   "execution_count": 14,
   "metadata": {},
   "outputs": [],
   "source": []
  }
 ],
 "metadata": {
  "kernelspec": {
   "display_name": "Python 3",
   "language": "python",
   "name": "python3"
  },
  "language_info": {
   "codemirror_mode": {
    "name": "ipython",
    "version": 3
   },
   "file_extension": ".py",
   "mimetype": "text/x-python",
   "name": "python",
   "nbconvert_exporter": "python",
   "pygments_lexer": "ipython3",
   "version": "3.7.6"
  }
 },
 "nbformat": 4,
 "nbformat_minor": 4
}
