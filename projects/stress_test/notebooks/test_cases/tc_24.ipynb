{
 "cells": [
  {
   "cell_type": "code",
   "execution_count": 1,
   "metadata": {},
   "outputs": [],
   "source": [
    "import razor.flow as rf\n",
    "from razor.api import datasources, engines, project_space_path\n",
    "import logging\n",
    "import time\n",
    "import typing as typ\n",
    "import numpy as np\n",
    "import pandas as pd\n",
    "\n",
    "logger = logging.getLogger()"
   ]
  },
  {
   "cell_type": "code",
   "execution_count": 2,
   "metadata": {},
   "outputs": [],
   "source": [
    "@rf.block\n",
    "class STDIn:\n",
    "    filename: str\n",
    "    records: int\n",
    "    out_ds: rf.SeriesOutput[typ.Any] = rf.Output(transport=rf.KafkaTransport)\n",
    "\n",
    "    def run(self):\n",
    "        with open(project_space_path(self.filename), 'r') as f:\n",
    "            text_str = f.read()\n",
    "\n",
    "        logger.info(len(text_str))\n",
    "        for _ in range(self.records):\n",
    "            self.out_ds.put(text_str)\n",
    "\n",
    "            \n",
    "@rf.block\n",
    "class ReplaceChar:\n",
    "    in_ds: rf.SeriesInput[typ.Any]\n",
    "    out_ds: rf.SeriesOutput[typ.Any] = rf.Output(transport=rf.KafkaTransport)\n",
    "\n",
    "    def run(self):\n",
    "        for i in self.in_ds:\n",
    "            text_str = i.replace('r', '!!!R!!!')\n",
    "            self.out_ds.put(text_str)\n",
    "            \n",
    "            \n",
    "@rf.block\n",
    "class PrintReplaceFreq:\n",
    "    in_ds: rf.SeriesInput[typ.Any]\n",
    "    out_ds: rf.SeriesOutput[typ.Any] = rf.Output(transport=rf.KafkaTransport)\n",
    "\n",
    "    def run(self):\n",
    "        for i in self.in_ds:\n",
    "            logger.info(i.count('!!!R!!!'))\n",
    "            self.out_ds.put(i)\n",
    "            \n",
    "            \n",
    "@rf.block\n",
    "class DeReplaceChar:\n",
    "    in_ds: rf.SeriesInput[typ.Any]\n",
    "    out_ds: rf.SeriesOutput[typ.Any] = rf.Output(transport=rf.KafkaTransport)\n",
    "\n",
    "    def run(self):\n",
    "        for i in self.in_ds:\n",
    "            text_str = i.replace('!!!R!!!', 'r')\n",
    "            self.out_ds.put(text_str)\n",
    "\n",
    "\n",
    "@rf.block\n",
    "class STDOut:\n",
    "    in_ds: rf.SeriesInput[typ.Any]\n",
    "    out_filename: str\n",
    "\n",
    "    def run(self):\n",
    "        text_str = ''\n",
    "        for i in self.in_ds:\n",
    "            if len(text_str) == 0:\n",
    "                text_str = i\n",
    "            else:\n",
    "                continue\n",
    "        logger.info(len(text_str))\n",
    "        sftp_c = datasources('test_source').client()\n",
    "        with open(project_space_path(self.out_filename), 'w') as f:\n",
    "            f.write(text_str)\n",
    "            "
   ]
  },
  {
   "cell_type": "code",
   "execution_count": 3,
   "metadata": {},
   "outputs": [
    {
     "data": {
      "application/vnd.razorthink.interactive+pipeline+view+json": {
       "blocks": [
        {
         "class_name": "PrintReplaceFreq",
         "id": "62a8fe7f-5d79-4a45-bdbc-82550b2c56d9",
         "inputs": [
          {
           "default": null,
           "flow": "series",
           "help": null,
           "label": "in_ds",
           "name": "in_ds",
           "series": true,
           "type": "Any",
           "type_check": true
          }
         ],
         "outputs": [
          {
           "flow": "series",
           "help": null,
           "label": "out_ds",
           "name": "out_ds",
           "series": true,
           "type": "Any",
           "type_check": true
          }
         ],
         "overwritten": false,
         "var_names": [
          "PrintReplaceFreq"
         ]
        },
        {
         "class_name": "STDOut",
         "id": "e1c88b1a-87cf-411d-968e-377fa3c0552b",
         "inputs": [
          {
           "default": null,
           "flow": "series",
           "help": null,
           "label": "in_ds",
           "name": "in_ds",
           "series": true,
           "type": "Any",
           "type_check": true
          },
          {
           "default": null,
           "flow": "atomic",
           "help": null,
           "label": "out_filename",
           "name": "out_filename",
           "series": false,
           "type": "str",
           "type_check": true
          }
         ],
         "outputs": [],
         "overwritten": false,
         "var_names": [
          "STDOut"
         ]
        },
        {
         "class_name": "ReplaceChar",
         "id": "e1a1b7cc-215c-4d95-8dc5-39517a4ab974",
         "inputs": [
          {
           "default": null,
           "flow": "series",
           "help": null,
           "label": "in_ds",
           "name": "in_ds",
           "series": true,
           "type": "Any",
           "type_check": true
          }
         ],
         "outputs": [
          {
           "flow": "series",
           "help": null,
           "label": "out_ds",
           "name": "out_ds",
           "series": true,
           "type": "Any",
           "type_check": true
          }
         ],
         "overwritten": false,
         "var_names": [
          "ReplaceChar"
         ]
        },
        {
         "class_name": "DeReplaceChar",
         "id": "a0634110-7704-4fd0-8e48-7642443c6cc4",
         "inputs": [
          {
           "default": null,
           "flow": "series",
           "help": null,
           "label": "in_ds",
           "name": "in_ds",
           "series": true,
           "type": "Any",
           "type_check": true
          }
         ],
         "outputs": [
          {
           "flow": "series",
           "help": null,
           "label": "out_ds",
           "name": "out_ds",
           "series": true,
           "type": "Any",
           "type_check": true
          }
         ],
         "overwritten": false,
         "var_names": [
          "DeReplaceChar"
         ]
        },
        {
         "class_name": "STDIn",
         "id": "7edd06ec-037d-4853-8f3f-a717e199d06c",
         "inputs": [
          {
           "default": null,
           "flow": "atomic",
           "help": null,
           "label": "filename",
           "name": "filename",
           "series": false,
           "type": "str",
           "type_check": true
          },
          {
           "default": null,
           "flow": "atomic",
           "help": null,
           "label": "records",
           "name": "records",
           "series": false,
           "type": "int",
           "type_check": true
          }
         ],
         "outputs": [
          {
           "flow": "series",
           "help": null,
           "label": "out_ds",
           "name": "out_ds",
           "series": true,
           "type": "Any",
           "type_check": true
          }
         ],
         "overwritten": false,
         "var_names": [
          "STDIn"
         ]
        }
       ],
       "connections": [
        {
         "id": "d003dfa2-8740-4580-9434-5fef0d46d155",
         "source": {
          "adapter": false,
          "instance_id": "316bc34a-e36f-4e33-8f89-1acaebe4f69a",
          "name": "out_ds"
         },
         "target": {
          "adapter": false,
          "instance_id": "8c2f47b3-7c8b-488e-8c92-527213775a2a",
          "name": "in_ds"
         }
        },
        {
         "id": "881cc33d-52a7-43c5-8a5a-7ea691122a12",
         "source": {
          "adapter": false,
          "instance_id": "aed6b897-a7b8-4355-aff5-820ff8cf6f66",
          "name": "out_ds"
         },
         "target": {
          "adapter": false,
          "instance_id": "9c423289-bc53-4785-a3ba-4fe432bf1878",
          "name": "in_ds"
         }
        },
        {
         "id": "acab868e-aa1c-4ed2-b6f6-626f40d1529d",
         "source": {
          "adapter": false,
          "instance_id": "9c423289-bc53-4785-a3ba-4fe432bf1878",
          "name": "out_ds"
         },
         "target": {
          "adapter": false,
          "instance_id": "bf1b7716-eff7-4af4-87f4-e3eca5405f64",
          "name": "in_ds"
         }
        },
        {
         "id": "07a76fff-1287-4366-a234-f0196a7e58fc",
         "source": {
          "adapter": false,
          "instance_id": "8c2f47b3-7c8b-488e-8c92-527213775a2a",
          "name": "out_ds"
         },
         "target": {
          "adapter": false,
          "instance_id": "aed6b897-a7b8-4355-aff5-820ff8cf6f66",
          "name": "in_ds"
         }
        }
       ],
       "id": "eb2bad2b-125d-4a5d-9b26-94041f33baf6",
       "instances": [
        {
         "block_class": "e1c88b1a-87cf-411d-968e-377fa3c0552b",
         "id": "bf1b7716-eff7-4af4-87f4-e3eca5405f64",
         "name": "STDOut_1",
         "var_names": [
          "stdout"
         ]
        },
        {
         "block_class": "a0634110-7704-4fd0-8e48-7642443c6cc4",
         "id": "9c423289-bc53-4785-a3ba-4fe432bf1878",
         "name": "DeReplaceChar_1",
         "var_names": [
          "derep_char"
         ]
        },
        {
         "block_class": "62a8fe7f-5d79-4a45-bdbc-82550b2c56d9",
         "id": "aed6b897-a7b8-4355-aff5-820ff8cf6f66",
         "name": "PrintReplaceFreq_1",
         "var_names": [
          "print_rep_freq"
         ]
        },
        {
         "block_class": "e1a1b7cc-215c-4d95-8dc5-39517a4ab974",
         "id": "8c2f47b3-7c8b-488e-8c92-527213775a2a",
         "name": "ReplaceChar_1",
         "var_names": [
          "rep_char"
         ]
        },
        {
         "block_class": "7edd06ec-037d-4853-8f3f-a717e199d06c",
         "id": "316bc34a-e36f-4e33-8f89-1acaebe4f69a",
         "name": "STDIn_1",
         "var_names": [
          "std_in"
         ]
        }
       ],
       "name": "kafka_series_parallel",
       "var_names": []
      },
      "image/svg+xml": [
       "<?xml version=\"1.0\" encoding=\"UTF-8\" standalone=\"no\"?>\n",
       "<!DOCTYPE svg PUBLIC \"-//W3C//DTD SVG 1.1//EN\"\n",
       " \"http://www.w3.org/Graphics/SVG/1.1/DTD/svg11.dtd\">\n",
       "<!-- Generated by graphviz version 2.43.0 (0)\n",
       " -->\n",
       "<!-- Title: %3 Pages: 1 -->\n",
       "<svg width=\"251pt\" height=\"376pt\"\n",
       " viewBox=\"0.00 0.00 250.53 376.00\" xmlns=\"http://www.w3.org/2000/svg\" xmlns:xlink=\"http://www.w3.org/1999/xlink\">\n",
       "<g id=\"graph0\" class=\"graph\" transform=\"scale(1 1) rotate(0) translate(4 372)\">\n",
       "<title>%3</title>\n",
       "<polygon fill=\"white\" stroke=\"transparent\" points=\"-4,4 -4,-372 246.53,-372 246.53,4 -4,4\"/>\n",
       "<!-- STDOut(&#39;STDOut_1&#39;) -->\n",
       "<g id=\"node1\" class=\"node\">\n",
       "<title>STDOut(&#39;STDOut_1&#39;)</title>\n",
       "<ellipse fill=\"none\" stroke=\"black\" cx=\"121.26\" cy=\"-18\" rx=\"67.89\" ry=\"18\"/>\n",
       "<text text-anchor=\"middle\" x=\"121.26\" y=\"-15.5\" font-family=\"Helvetica,sans-Serif\" font-size=\"10.00\">STDOut(&#39;STDOut_1&#39;)</text>\n",
       "</g>\n",
       "<!-- DeReplaceChar(&#39;DeReplaceChar_1&#39;) -->\n",
       "<g id=\"node2\" class=\"node\">\n",
       "<title>DeReplaceChar(&#39;DeReplaceChar_1&#39;)</title>\n",
       "<ellipse fill=\"none\" stroke=\"black\" cx=\"121.26\" cy=\"-101\" rx=\"112.37\" ry=\"18\"/>\n",
       "<text text-anchor=\"middle\" x=\"121.26\" y=\"-98.5\" font-family=\"Helvetica,sans-Serif\" font-size=\"10.00\">DeReplaceChar(&#39;DeReplaceChar_1&#39;)</text>\n",
       "</g>\n",
       "<!-- DeReplaceChar(&#39;DeReplaceChar_1&#39;)&#45;&gt;STDOut(&#39;STDOut_1&#39;) -->\n",
       "<g id=\"edge1\" class=\"edge\">\n",
       "<title>DeReplaceChar(&#39;DeReplaceChar_1&#39;)&#45;&gt;STDOut(&#39;STDOut_1&#39;)</title>\n",
       "<path fill=\"none\" stroke=\"black\" d=\"M121.26,-82.82C121.26,-72.19 121.26,-58.31 121.26,-46.2\"/>\n",
       "<polygon fill=\"black\" stroke=\"black\" points=\"124.76,-46.15 121.26,-36.15 117.76,-46.15 124.76,-46.15\"/>\n",
       "<text text-anchor=\"middle\" x=\"156.26\" y=\"-57\" font-family=\"Helvetica,sans-Serif\" font-size=\"10.00\">out_ds&#45;&gt;in_ds</text>\n",
       "</g>\n",
       "<!-- PrintReplaceFreq(&#39;PrintReplaceFreq_1&#39;) -->\n",
       "<g id=\"node3\" class=\"node\">\n",
       "<title>PrintReplaceFreq(&#39;PrintReplaceFreq_1&#39;)</title>\n",
       "<ellipse fill=\"none\" stroke=\"black\" cx=\"121.26\" cy=\"-184\" rx=\"121.03\" ry=\"18\"/>\n",
       "<text text-anchor=\"middle\" x=\"121.26\" y=\"-181.5\" font-family=\"Helvetica,sans-Serif\" font-size=\"10.00\">PrintReplaceFreq(&#39;PrintReplaceFreq_1&#39;)</text>\n",
       "</g>\n",
       "<!-- PrintReplaceFreq(&#39;PrintReplaceFreq_1&#39;)&#45;&gt;DeReplaceChar(&#39;DeReplaceChar_1&#39;) -->\n",
       "<g id=\"edge2\" class=\"edge\">\n",
       "<title>PrintReplaceFreq(&#39;PrintReplaceFreq_1&#39;)&#45;&gt;DeReplaceChar(&#39;DeReplaceChar_1&#39;)</title>\n",
       "<path fill=\"none\" stroke=\"black\" d=\"M121.26,-165.82C121.26,-155.19 121.26,-141.31 121.26,-129.2\"/>\n",
       "<polygon fill=\"black\" stroke=\"black\" points=\"124.76,-129.15 121.26,-119.15 117.76,-129.15 124.76,-129.15\"/>\n",
       "<text text-anchor=\"middle\" x=\"156.26\" y=\"-140\" font-family=\"Helvetica,sans-Serif\" font-size=\"10.00\">out_ds&#45;&gt;in_ds</text>\n",
       "</g>\n",
       "<!-- ReplaceChar(&#39;ReplaceChar_1&#39;) -->\n",
       "<g id=\"node4\" class=\"node\">\n",
       "<title>ReplaceChar(&#39;ReplaceChar_1&#39;)</title>\n",
       "<ellipse fill=\"none\" stroke=\"black\" cx=\"121.26\" cy=\"-267\" rx=\"96.58\" ry=\"18\"/>\n",
       "<text text-anchor=\"middle\" x=\"121.26\" y=\"-264.5\" font-family=\"Helvetica,sans-Serif\" font-size=\"10.00\">ReplaceChar(&#39;ReplaceChar_1&#39;)</text>\n",
       "</g>\n",
       "<!-- ReplaceChar(&#39;ReplaceChar_1&#39;)&#45;&gt;PrintReplaceFreq(&#39;PrintReplaceFreq_1&#39;) -->\n",
       "<g id=\"edge3\" class=\"edge\">\n",
       "<title>ReplaceChar(&#39;ReplaceChar_1&#39;)&#45;&gt;PrintReplaceFreq(&#39;PrintReplaceFreq_1&#39;)</title>\n",
       "<path fill=\"none\" stroke=\"black\" d=\"M121.26,-248.82C121.26,-238.19 121.26,-224.31 121.26,-212.2\"/>\n",
       "<polygon fill=\"black\" stroke=\"black\" points=\"124.76,-212.15 121.26,-202.15 117.76,-212.15 124.76,-212.15\"/>\n",
       "<text text-anchor=\"middle\" x=\"156.26\" y=\"-223\" font-family=\"Helvetica,sans-Serif\" font-size=\"10.00\">out_ds&#45;&gt;in_ds</text>\n",
       "</g>\n",
       "<!-- STDIn(&#39;STDIn_1&#39;) -->\n",
       "<g id=\"node5\" class=\"node\">\n",
       "<title>STDIn(&#39;STDIn_1&#39;)</title>\n",
       "<ellipse fill=\"none\" stroke=\"black\" cx=\"121.26\" cy=\"-350\" rx=\"57.88\" ry=\"18\"/>\n",
       "<text text-anchor=\"middle\" x=\"121.26\" y=\"-347.5\" font-family=\"Helvetica,sans-Serif\" font-size=\"10.00\">STDIn(&#39;STDIn_1&#39;)</text>\n",
       "</g>\n",
       "<!-- STDIn(&#39;STDIn_1&#39;)&#45;&gt;ReplaceChar(&#39;ReplaceChar_1&#39;) -->\n",
       "<g id=\"edge4\" class=\"edge\">\n",
       "<title>STDIn(&#39;STDIn_1&#39;)&#45;&gt;ReplaceChar(&#39;ReplaceChar_1&#39;)</title>\n",
       "<path fill=\"none\" stroke=\"black\" d=\"M121.26,-331.82C121.26,-321.19 121.26,-307.31 121.26,-295.2\"/>\n",
       "<polygon fill=\"black\" stroke=\"black\" points=\"124.76,-295.15 121.26,-285.15 117.76,-295.15 124.76,-295.15\"/>\n",
       "<text text-anchor=\"middle\" x=\"156.26\" y=\"-306\" font-family=\"Helvetica,sans-Serif\" font-size=\"10.00\">out_ds&#45;&gt;in_ds</text>\n",
       "</g>\n",
       "</g>\n",
       "</svg>\n"
      ],
      "text/plain": [
       "<razor.flow.pipeline.Pipeline at 0x7ff184964f10>"
      ]
     },
     "metadata": {},
     "output_type": "display_data"
    }
   ],
   "source": [
    "config = {'cores': 1, 'ram': 4096}\n",
    "records = 1000\n",
    "size = '1KB'\n",
    "ip_filename = \"/data/sdk_testbench/input_data/file\" + size + \".txt\"\n",
    "op_filename = \"/data/sdk_testbench/output_data/tc_24.txt\"\n",
    "\n",
    "std_in = STDIn(records=records, filename=ip_filename)\n",
    "std_in.executor = rf.ContainerExecutor(cores=config['cores'], memory=config['ram'])\n",
    "\n",
    "rep_char = ReplaceChar(in_ds=std_in.out_ds)\n",
    "rep_char.executor = rf.ContainerExecutor(cores=config['cores'], memory=config['ram'])\n",
    "\n",
    "print_rep_freq = PrintReplaceFreq(in_ds=rep_char.out_ds)\n",
    "print_rep_freq.executor = rf.ContainerExecutor(cores=config['cores'], memory=config['ram'])\n",
    "\n",
    "derep_char = DeReplaceChar(in_ds=print_rep_freq.out_ds)\n",
    "derep_char.executor = rf.ContainerExecutor(cores=config['cores'], memory=config['ram'])\n",
    "\n",
    "stdout = STDOut(in_ds=derep_char.out_ds, out_filename=op_filename)\n",
    "stdout.executor = rf.ContainerExecutor(cores=config['cores'], memory=config['ram'])\n",
    "\n",
    "pipeline = rf.Pipeline(name='kafka_series_parallel', targets=[stdout])\n",
    "pipeline.show()"
   ]
  },
  {
   "cell_type": "code",
   "execution_count": 4,
   "metadata": {},
   "outputs": [],
   "source": [
    "def create_pipeline():\n",
    "    return pipeline"
   ]
  },
  {
   "cell_type": "code",
   "execution_count": 5,
   "metadata": {},
   "outputs": [],
   "source": []
  }
 ],
 "metadata": {
  "kernelspec": {
   "display_name": "Python 3",
   "language": "python",
   "name": "python3"
  },
  "language_info": {
   "codemirror_mode": {
    "name": "ipython",
    "version": 3
   },
   "file_extension": ".py",
   "mimetype": "text/x-python",
   "name": "python",
   "nbconvert_exporter": "python",
   "pygments_lexer": "ipython3",
   "version": "3.7.10"
  }
 },
 "nbformat": 4,
 "nbformat_minor": 4
}
