{
 "cells": [
  {
   "cell_type": "code",
   "execution_count": null,
   "id": "organizational-newfoundland",
   "metadata": {},
   "outputs": [],
   "source": []
  },
  {
   "cell_type": "code",
   "execution_count": 2,
   "id": "julian-sphere",
   "metadata": {},
   "outputs": [
    {
     "name": "stdout",
     "output_type": "stream",
     "text": [
      "INFO:root:TF Version 2.4.1\n",
      "INFO:root:RZTDL Version 4.1.4-nightly4\n",
      "INFO:root:Parser Version 4.1.1-nightly4\n",
      "INFO:rztdl.modules.component:group__1_1 layer validated successfully.\n",
      "INFO:rztdl.modules.component:group__1_Dense__1 layer validated successfully.\n",
      "INFO:rztdl.modules.component:group__1_Dense__3 layer validated successfully.\n",
      "INFO:rztdl.modules.component:group__1_Split__1 layer validated successfully.\n",
      "INFO:rztdl.modules.component:group__1_Dense__2 layer validated successfully.\n",
      "INFO:rztdl.modules.component:group__1_Dense__4 layer validated successfully.\n",
      "INFO:rztdl.modules.component:group__1_2 layer validated successfully.\n",
      "INFO:rztdl.modules.component:group__1_Dense__1 layer validated successfully.\n",
      "INFO:rztdl.modules.component:group__1_Dense__3 layer validated successfully.\n",
      "INFO:rztdl.modules.component:group__1_Split__1 layer validated successfully.\n",
      "INFO:rztdl.modules.component:group__1_Dense__2 layer validated successfully.\n",
      "INFO:rztdl.modules.component:group__1_Dense__4 layer validated successfully.\n",
      "INFO:rztdl.modules.component:MeanSquaredError__1 layer validated successfully.\n",
      "INFO:rztdl.modules.component:Adam__1 layer validated successfully.\n"
     ]
    }
   ],
   "source": [
    "from rztdl.backends import backend\n",
    "backend.set('tensorflow')\n",
    "\n",
    "from rztdl.backends.tensorflow.losses import *\n",
    "from rztdl.backends.tensorflow.metrics import *\n",
    "from rztdl.backends.tensorflow.helpers.initializers import *\n",
    "from rztdl.backends.tensorflow.helpers.regularizers import *\n",
    "from rztdl.backends.tensorflow.helpers.activations import *\n",
    "from rztdl.backends.tensorflow.optimizers import *\n",
    "from rztdl.backends.tensorflow.layers import *\n",
    "from rztdl.backends.tensorflow.operators import *\n",
    "from rztdl.modules.groups.group import Group\n",
    "from rztdl.backends.utils.string_constants import *\n",
    "from model_designer_parser.utils.pyutils import get_shapes\n",
    "from rztdl.utils.exceptions import raise_group_exception\n",
    "from rztdl.modules.model import Model\n",
    "\n",
    "InputLayer__2 = InputLayer(shape=[4], name = 'InputLayer__2')\n",
    "InputLayer__1 = InputLayer(shape=[4], name = 'InputLayer__1')\n",
    "\n",
    "\n",
    "class group__1(Group):\n",
    "    @raise_group_exception\n",
    "    def __init__(self, name):\n",
    "        super().__init__(name=name)\n",
    "        self.group__1_Dense__1 = Dense(use_bias=True, activation=Linear(), kernel_initializer=GlorotUniform(scale=1), bias_initializer=Zeros(), units=2, name = 'group__1_Dense__1')\n",
    "        self.group__1_Dense__3 = Dense(use_bias=True, activation=Linear(), kernel_initializer=GlorotUniform(scale=1), bias_initializer=Zeros(), units=16, name = 'group__1_Dense__3')\n",
    "        self.group__1_Split__1 = Split(axis=1, num_or_size_splits=[4, 4, 4, 4], name = 'group__1_Split__1')\n",
    "        self.group__1_Dense__2 = Dense(use_bias=True, activation=Linear(), kernel_initializer=GlorotUniform(scale=1), bias_initializer=Zeros(), units=2, name = 'group__1_Dense__2')\n",
    "        self.group__1_Dense__4 = Dense(use_bias=True, activation=Linear(), kernel_initializer=GlorotUniform(scale=1), bias_initializer=Zeros(), units=4, name = 'group__1_Dense__4')\n",
    "        \n",
    "\n",
    "    def forward(self, input_0, input_1, ):\n",
    "        group__1_Dense__1 = self.group__1_Dense__1(input=input_1)\n",
    "        group__1_Dense__3 = self.group__1_Dense__3(input=group__1_Dense__1)\n",
    "        group__1_Split__1 = self.group__1_Split__1(input=group__1_Dense__3)\n",
    "        group__1_Dense__2 = self.group__1_Dense__2(input=input_0)\n",
    "        group__1_Dense__4 = self.group__1_Dense__4(input=group__1_Dense__2)\n",
    "        \n",
    "        return {'group__1_Dense__1':group__1_Dense__1, 'group__1_Dense__3':group__1_Dense__3, 'group__1_Split__1':group__1_Split__1, 'group__1_Dense__2':group__1_Dense__2, 'group__1_Dense__4':group__1_Dense__4, }\n",
    "\n",
    "group__1_obj = group__1(name='group__1')\n",
    "\n",
    "group__1_1 = group__1_obj(input_0=InputLayer__1, input_1=InputLayer__1, name = 'group__1_1')\n",
    "group__1_2 = group__1_obj(input_0=group__1_1['group__1_Dense__4'], input_1=group__1_1['group__1_Split__1'][1], name = 'group__1_2')\n",
    "MeanSquaredError__1 = MeanSquaredError(reduction=Reduction.AUTO, name = 'MeanSquaredError__1')(labels=InputLayer__2, predictions=group__1_2['group__1_Dense__4'])\n",
    "Adam__1 = Adam(beta_1=0.9, beta_2=0.999, epsilon=1e-08, amsgrad=False, name = 'Adam__1')(input=MeanSquaredError__1)\n",
    "model = Model(outputs=[group__1_1['group__1_Dense__4'], group__1_1['group__1_Split__1'][1], group__1_2['group__1_Dense__4'], MeanSquaredError__1, ])"
   ]
  },
  {
   "cell_type": "code",
   "execution_count": 4,
   "id": "shaped-prague",
   "metadata": {},
   "outputs": [
    {
     "ename": "AttributeError",
     "evalue": "'PlatformDlManager' object has no attribute 'export_model'",
     "output_type": "error",
     "traceback": [
      "\u001b[0;31m---------------------------------------------------------------------------\u001b[0m",
      "\u001b[0;31mAttributeError\u001b[0m                            Traceback (most recent call last)",
      "\u001b[0;32m<ipython-input-4-30b8d0cc1fba>\u001b[0m in \u001b[0;36m<module>\u001b[0;34m\u001b[0m\n\u001b[1;32m      1\u001b[0m \u001b[0;32mfrom\u001b[0m \u001b[0mrazor\u001b[0m\u001b[0;34m.\u001b[0m\u001b[0mapi\u001b[0m \u001b[0;32mimport\u001b[0m \u001b[0mdl_models\u001b[0m\u001b[0;34m\u001b[0m\u001b[0;34m\u001b[0m\u001b[0m\n\u001b[1;32m      2\u001b[0m \u001b[0;34m\u001b[0m\u001b[0m\n\u001b[0;32m----> 3\u001b[0;31m \u001b[0mdl_models\u001b[0m\u001b[0;34m.\u001b[0m\u001b[0mexport_model\u001b[0m\u001b[0;34m(\u001b[0m\u001b[0mmodel\u001b[0m\u001b[0;34m=\u001b[0m\u001b[0mmodel\u001b[0m\u001b[0;34m,\u001b[0m \u001b[0mmodel_name\u001b[0m\u001b[0;34m=\u001b[0m\u001b[0;34m\"multi_input_shared_groups\"\u001b[0m\u001b[0;34m)\u001b[0m\u001b[0;34m\u001b[0m\u001b[0;34m\u001b[0m\u001b[0m\n\u001b[0m",
      "\u001b[0;31mAttributeError\u001b[0m: 'PlatformDlManager' object has no attribute 'export_model'"
     ]
    }
   ],
   "source": [
    "from razor.api import dl_models\n",
    "\n",
    "dl_models.export_model(model=model, model_name=\"multi_input_shared_groups\")"
   ]
  },
  {
   "cell_type": "code",
   "execution_count": 7,
   "id": "color-lighter",
   "metadata": {},
   "outputs": [
    {
     "data": {
      "text/plain": [
       "<rztdl.backends.tensorflow.model.Model at 0x7fa2582bdb90>"
      ]
     },
     "execution_count": 7,
     "metadata": {},
     "output_type": "execute_result"
    }
   ],
   "source": [
    "model"
   ]
  },
  {
   "cell_type": "code",
   "execution_count": null,
   "id": "binding-picnic",
   "metadata": {},
   "outputs": [],
   "source": []
  }
 ],
 "metadata": {
  "kernelspec": {
   "display_name": "Python 3",
   "language": "python",
   "name": "python3"
  },
  "language_info": {
   "codemirror_mode": {
    "name": "ipython",
    "version": 3
   },
   "file_extension": ".py",
   "mimetype": "text/x-python",
   "name": "python",
   "nbconvert_exporter": "python",
   "pygments_lexer": "ipython3",
   "version": "3.7.10"
  }
 },
 "nbformat": 4,
 "nbformat_minor": 5
}
