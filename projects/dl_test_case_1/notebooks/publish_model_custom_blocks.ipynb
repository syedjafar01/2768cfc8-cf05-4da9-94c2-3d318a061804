{
 "cells": [
  {
   "cell_type": "code",
   "execution_count": 1,
   "id": "fiscal-packet",
   "metadata": {},
   "outputs": [],
   "source": [
    "layer_bundle_path = \"custom_layers\"\n",
    "loss_bundle_path = \"custom_losses\"\n",
    "metric_bundle_path = \"custom_metrics\""
   ]
  },
  {
   "cell_type": "code",
   "execution_count": 2,
   "id": "phantom-raleigh",
   "metadata": {},
   "outputs": [
    {
     "name": "stderr",
     "output_type": "stream",
     "text": [
      "DEBUG:rztdl.config.rztdl_config:Loaded rztdl config from path /usr/local/lib/python3.7/dist-packages/rztdl/config/config.json\n",
      "INFO:rztdl.backends:Setting rztdl backend to tensorflow \n",
      "INFO:razor.api.impl.dl_block_manager_impl:Packaging requested block bundle...\n",
      "INFO:razor.api.impl.dl_block_manager_impl:Publishing block bundle...\n",
      "INFO:razor.api.impl.dl_block_manager_impl:Block bundle `custom_layers` published successfully.\n",
      "INFO:razor.api.impl.dl_block_manager_impl: Import statements are \n",
      "from razor.project.model.dl.blocks.tensorflow.CODE.custom_layers import CustomConcat\n",
      "from razor.project.model.dl.blocks.tensorflow.CODE.custom_layers import CustomDense\n",
      "from razor.project.model.dl.blocks.tensorflow.CODE.custom_layers import CustomDense1\n",
      "\n",
      "INFO:razor.api.impl.dl_block_manager_impl:Make sure to restart the Jupyter kernel and then you can use the blocks as follows:\n"
     ]
    }
   ],
   "source": [
    "from razor.api import dl_blocks\n",
    "from razor.api.core import DLBlockType, BlockScope\n",
    "\n",
    "dl_blocks.publish(bundle=layer_bundle_path, category=DLBlockType.CUSTOM_TF_CODE, \n",
    "                  scope=BlockScope.PROJECT, overwrite=True)"
   ]
  },
  {
   "cell_type": "code",
   "execution_count": 4,
   "id": "destroyed-medication",
   "metadata": {},
   "outputs": [
    {
     "name": "stderr",
     "output_type": "stream",
     "text": [
      "INFO:razor.api.impl.dl_block_manager_impl:Packaging requested block bundle...\n",
      "INFO:razor.api.impl.dl_block_manager_impl:Publishing block bundle...\n",
      "INFO:razor.api.impl.dl_block_manager_impl:Block bundle `custom_losses` published successfully.\n",
      "INFO:razor.api.impl.dl_block_manager_impl: Import statements are \n",
      "from razor.project.model.dl.blocks.tensorflow.COST.custom_losses import CustomMSELoss\n",
      "\n",
      "INFO:razor.api.impl.dl_block_manager_impl:Make sure to restart the Jupyter kernel and then you can use the blocks as follows:\n"
     ]
    }
   ],
   "source": [
    "dl_blocks.publish(bundle=loss_bundle_path, category=DLBlockType.LOSS, \n",
    "                  scope=BlockScope.PROJECT, overwrite=True)"
   ]
  },
  {
   "cell_type": "code",
   "execution_count": 5,
   "id": "loved-panel",
   "metadata": {},
   "outputs": [
    {
     "name": "stderr",
     "output_type": "stream",
     "text": [
      "INFO:razor.api.impl.dl_block_manager_impl:Packaging requested block bundle...\n",
      "INFO:razor.api.impl.dl_block_manager_impl:Publishing block bundle...\n",
      "INFO:razor.api.impl.dl_block_manager_impl:Block bundle `custom_metrics` published successfully.\n",
      "INFO:razor.api.impl.dl_block_manager_impl: Import statements are \n",
      "from razor.project.model.dl.blocks.tensorflow.METRIC.custom_metrics import CustomAccuracy\n",
      "\n",
      "INFO:razor.api.impl.dl_block_manager_impl:Make sure to restart the Jupyter kernel and then you can use the blocks as follows:\n"
     ]
    }
   ],
   "source": [
    "dl_blocks.publish(bundle=metric_bundle_path, category=DLBlockType.METRIC, \n",
    "                  scope=BlockScope.PROJECT, overwrite=True)"
   ]
  },
  {
   "cell_type": "code",
   "execution_count": null,
   "id": "oriented-machine",
   "metadata": {},
   "outputs": [],
   "source": []
  }
 ],
 "metadata": {
  "kernelspec": {
   "display_name": "Python 3",
   "language": "python",
   "name": "python3"
  },
  "language_info": {
   "codemirror_mode": {
    "name": "ipython",
    "version": 3
   },
   "file_extension": ".py",
   "mimetype": "text/x-python",
   "name": "python",
   "nbconvert_exporter": "python",
   "pygments_lexer": "ipython3",
   "version": "3.7.10"
  }
 },
 "nbformat": 4,
 "nbformat_minor": 5
}
