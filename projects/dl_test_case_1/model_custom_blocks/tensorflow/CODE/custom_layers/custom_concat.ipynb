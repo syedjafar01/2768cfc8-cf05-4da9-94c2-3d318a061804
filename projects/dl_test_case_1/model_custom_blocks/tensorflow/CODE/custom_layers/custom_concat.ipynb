{
 "cells": [
  {
   "cell_type": "code",
   "execution_count": 4,
   "id": "apparent-newcastle",
   "metadata": {},
   "outputs": [],
   "source": [
    "from rztdl.backends import backend\n",
    "from rztdl.utils.annotations.types import Input, Output, ListInput\n",
    "\n",
    "backend.set(\"tensorflow\")\n",
    "\n",
    "from rztdl.modules.layers.custom_layer import CustomLayer\n",
    "\n",
    "import tensorflow as tf"
   ]
  },
  {
   "cell_type": "code",
   "execution_count": 5,
   "id": "greatest-ladder",
   "metadata": {},
   "outputs": [],
   "source": [
    "class CustomConcat(CustomLayer):\n",
    "    axis: int = -1\n",
    "\n",
    "    input: ListInput\n",
    "    output: Output\n",
    "\n",
    "    def post_init(self):\n",
    "        pass\n",
    "\n",
    "    def build(self, input):\n",
    "        self.operator = tf.keras.layers.Concatenate(name=self.name, axis=self.axis)\n",
    "\n",
    "    def forward(self, input):\n",
    "        _out = self.operator(input)\n",
    "        return {\"output\": _out}\n",
    "\n",
    "    def validate(self, input):\n",
    "\n",
    "        if len(input) < 2:\n",
    "            raise SizeError(entity_name=self.name,\n",
    "                            message='Requires minimum of 2 inputs. Given inputs: {}'.format(len(input)))\n",
    "        length_of_shape = len(input[0])\n",
    "        for rzt_out in input[1:]:\n",
    "            if len(rzt_out) != len(input[0]):\n",
    "                raise DimensionError(component_name=self.name,\n",
    "                                     message=f\"Tensor Dimension doesn't match {rzt_out}, \"\n",
    "                                             f\"{input[0]}\")\n",
    "            for i in range(length_of_shape):\n",
    "                if i != abs(self.axis) and rzt_out[i] != input[0][i]:\n",
    "                    raise DimensionError(component_name=self.name,\n",
    "                                         message=f\"A concat operator requires inputs with matching \"\n",
    "                                                 f\"shapes except for the concat axis (given {self.axis}). \"\n",
    "                                                 f\"Got inputs shapes: {rzt_out}, \"\n",
    "                                                 f\"{input[0]}\")\n",
    "\n",
    "        if self.axis == 0:\n",
    "            raise DimensionError(component_name=self.name,\n",
    "                                 message=f\" Concat Dimension can't be 0, since it is batch dimension\")\n",
    "\n",
    "        if abs(self.axis) >= length_of_shape:\n",
    "            raise DimensionError(component_name=self.name,\n",
    "                                 message=f\"Concat Dimension parameter takes value between \"\n",
    "                                         f\"-{length_of_shape} and {length_of_shape} excluding 0. Given {self.axis}\")"
   ]
  },
  {
   "cell_type": "code",
   "execution_count": null,
   "id": "occasional-raleigh",
   "metadata": {},
   "outputs": [],
   "source": []
  }
 ],
 "metadata": {
  "kernelspec": {
   "display_name": "Python 3",
   "language": "python",
   "name": "python3"
  },
  "language_info": {
   "codemirror_mode": {
    "name": "ipython",
    "version": 3
   },
   "file_extension": ".py",
   "mimetype": "text/x-python",
   "name": "python",
   "nbconvert_exporter": "python",
   "pygments_lexer": "ipython3",
   "version": "3.7.10"
  }
 },
 "nbformat": 4,
 "nbformat_minor": 5
}
